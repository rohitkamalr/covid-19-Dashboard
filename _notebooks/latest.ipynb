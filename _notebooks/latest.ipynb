{
 "cells": [
  {
   "cell_type": "markdown",
   "metadata": {
    "papermill": {
     "duration": 0.019964,
     "end_time": "2020-10-02T13:51:37.962682",
     "exception": false,
     "start_time": "2020-10-02T13:51:37.942718",
     "status": "completed"
    },
    "tags": []
   },
   "source": [
    "# Latest COVID-19 India Matplotlib Overview"
   ]
  },
  {
   "cell_type": "code",
   "execution_count": 1,
   "metadata": {
    "execution": {
     "iopub.execute_input": "2020-10-02T13:51:38.004681Z",
     "iopub.status.busy": "2020-10-02T13:51:38.004011Z",
     "iopub.status.idle": "2020-10-02T13:51:38.609991Z",
     "shell.execute_reply": "2020-10-02T13:51:38.609414Z"
    },
    "papermill": {
     "duration": 0.630461,
     "end_time": "2020-10-02T13:51:38.610161",
     "exception": false,
     "start_time": "2020-10-02T13:51:37.979700",
     "status": "completed"
    },
    "tags": []
   },
   "outputs": [],
   "source": [
    "#hide\n",
    "import pandas as pd\n",
    "import numpy as np\n",
    "import requests\n",
    "import json\n",
    "import matplotlib.pyplot as plt\n",
    "import matplotlib.dates as mdates\n",
    "import matplotlib as mpl\n",
    "from IPython.core.display import display,HTML\n",
    "%matplotlib inline\n",
    "from datetime import date"
   ]
  },
  {
   "cell_type": "code",
   "execution_count": 2,
   "metadata": {
    "execution": {
     "iopub.execute_input": "2020-10-02T13:51:38.650976Z",
     "iopub.status.busy": "2020-10-02T13:51:38.650307Z",
     "iopub.status.idle": "2020-10-02T13:51:38.811458Z",
     "shell.execute_reply": "2020-10-02T13:51:38.810859Z"
    },
    "papermill": {
     "duration": 0.184756,
     "end_time": "2020-10-02T13:51:38.811611",
     "exception": false,
     "start_time": "2020-10-02T13:51:38.626855",
     "status": "completed"
    },
    "tags": []
   },
   "outputs": [],
   "source": [
    "#hide\n",
    "df  = pd.read_csv('https://api.covid19india.org/csv/latest/states.csv')\n",
    "df = df[['Date','State','Confirmed','Deceased']]\n",
    "df = df.rename(columns={'Confirmed':'Cases', \"Deceased\":'Deaths'})\n",
    "df_cases = df[[\"Date\",'State','Cases']]\n",
    "df_deaths = df[['Date','State','Deaths']]\n",
    "df_cases1 = df_cases.groupby('Date')\n",
    "df_deaths1= df_deaths.groupby('Date')"
   ]
  },
  {
   "cell_type": "code",
   "execution_count": 3,
   "metadata": {
    "execution": {
     "iopub.execute_input": "2020-10-02T13:51:38.850961Z",
     "iopub.status.busy": "2020-10-02T13:51:38.850292Z",
     "iopub.status.idle": "2020-10-02T13:51:38.869518Z",
     "shell.execute_reply": "2020-10-02T13:51:38.870040Z"
    },
    "papermill": {
     "duration": 0.041727,
     "end_time": "2020-10-02T13:51:38.870216",
     "exception": false,
     "start_time": "2020-10-02T13:51:38.828489",
     "status": "completed"
    },
    "tags": []
   },
   "outputs": [],
   "source": [
    "#hide\n",
    "df_snap = pd.read_csv('data/SnapshotCases-28-July.csv')\n",
    "arr_states = df_snap['states'].unique()\n",
    "arr_dates = df['Date'].unique()\n",
    "df_snap = df_snap.set_index('states')"
   ]
  },
  {
   "cell_type": "code",
   "execution_count": 4,
   "metadata": {
    "execution": {
     "iopub.execute_input": "2020-10-02T13:51:38.911341Z",
     "iopub.status.busy": "2020-10-02T13:51:38.910652Z",
     "iopub.status.idle": "2020-10-02T13:51:38.913191Z",
     "shell.execute_reply": "2020-10-02T13:51:38.913821Z"
    },
    "papermill": {
     "duration": 0.027033,
     "end_time": "2020-10-02T13:51:38.913986",
     "exception": false,
     "start_time": "2020-10-02T13:51:38.886953",
     "status": "completed"
    },
    "tags": []
   },
   "outputs": [
    {
     "data": {
      "text/plain": [
       "array(['Andaman and Nicobar Islands', 'Andhra Pradesh',\n",
       "       'Arunachal Pradesh', 'Assam', 'Bihar', 'Chandigarh',\n",
       "       'Dadra and Nagar Haveli and Daman and Diu', 'Delhi', 'Goa',\n",
       "       'Gujarat', 'Haryana', 'Himachal Pradesh', 'Jammu and Kashmir',\n",
       "       'Jharkhand', 'Karnataka', 'Kerala', 'Lakshadweep',\n",
       "       'Madhya Pradesh', 'Maharashtra', 'Manipur', 'Meghalaya', 'Mizoram',\n",
       "       'Nagaland', 'Odisha', 'Puducherry', 'Punjab', 'Rajasthan',\n",
       "       'Sikkim', 'Tamil Nadu', 'Telangana', 'Tripura', 'Uttar Pradesh',\n",
       "       'West Bengal', 'Chhattisgarh', 'Ladakh', 'Uttarakhand'],\n",
       "      dtype=object)"
      ]
     },
     "execution_count": 4,
     "metadata": {},
     "output_type": "execute_result"
    }
   ],
   "source": [
    "#hide\n",
    "arr_states[-9] = 'Puducherry'\n",
    "arr_states[-10] = 'Odisha'\n",
    "arr_states[6] = 'Dadra and Nagar Haveli and Daman and Diu'\n",
    "arr_states = np.append(arr_states,np.array(['Chhattisgarh','Ladakh','Uttarakhand']))\n",
    "arr_states"
   ]
  },
  {
   "cell_type": "code",
   "execution_count": 5,
   "metadata": {
    "execution": {
     "iopub.execute_input": "2020-10-02T13:51:38.963823Z",
     "iopub.status.busy": "2020-10-02T13:51:38.963140Z",
     "iopub.status.idle": "2020-10-02T13:51:38.965951Z",
     "shell.execute_reply": "2020-10-02T13:51:38.966626Z"
    },
    "papermill": {
     "duration": 0.035612,
     "end_time": "2020-10-02T13:51:38.966803",
     "exception": false,
     "start_time": "2020-10-02T13:51:38.931191",
     "status": "completed"
    },
    "tags": []
   },
   "outputs": [],
   "source": [
    "#hide\n",
    "dates = []\n",
    "for i in arr_dates:\n",
    "    if i>='2020-07-01':\n",
    "        dates.append(i)\n",
    "dict = {'states':dates}\n",
    "for i in arr_states:\n",
    "    dict[i] = [0]*len(dates)\n",
    "dft_cases = pd.DataFrame(dict)\n",
    "dft_deaths = pd.DataFrame(dict)\n"
   ]
  },
  {
   "cell_type": "code",
   "execution_count": 6,
   "metadata": {
    "execution": {
     "iopub.execute_input": "2020-10-02T13:51:39.006538Z",
     "iopub.status.busy": "2020-10-02T13:51:39.005840Z",
     "iopub.status.idle": "2020-10-02T13:51:40.689026Z",
     "shell.execute_reply": "2020-10-02T13:51:40.687923Z"
    },
    "papermill": {
     "duration": 1.705838,
     "end_time": "2020-10-02T13:51:40.689187",
     "exception": false,
     "start_time": "2020-10-02T13:51:38.983349",
     "status": "completed"
    },
    "tags": []
   },
   "outputs": [],
   "source": [
    "#hide\n",
    "for i in range(len(dates)):\n",
    "    df1_deaths = df_deaths1.get_group(dates[i])\n",
    "    for j in range(len(df1_deaths.index)):\n",
    "        if df1_deaths.iloc[j,1] in arr_states:\n",
    "            dft_deaths.loc[i,df1_deaths.iloc[j,1]] = df1_deaths.iloc[j,2]\n",
    "dft_deaths = dft_deaths.set_index('states')"
   ]
  },
  {
   "cell_type": "code",
   "execution_count": 7,
   "metadata": {
    "execution": {
     "iopub.execute_input": "2020-10-02T13:51:40.729007Z",
     "iopub.status.busy": "2020-10-02T13:51:40.728348Z",
     "iopub.status.idle": "2020-10-02T13:51:42.475509Z",
     "shell.execute_reply": "2020-10-02T13:51:42.474522Z"
    },
    "papermill": {
     "duration": 1.769617,
     "end_time": "2020-10-02T13:51:42.475655",
     "exception": false,
     "start_time": "2020-10-02T13:51:40.706038",
     "status": "completed"
    },
    "tags": []
   },
   "outputs": [],
   "source": [
    "#hide\n",
    "for i in range(len(dates)):\n",
    "    df1_cases = df_cases1.get_group(dates[i])\n",
    "    for j in range(len(df1_cases.index)):\n",
    "        if df1_cases.iloc[j,1] in arr_states:\n",
    "            dft_cases.loc[i,df1_cases.iloc[j,1]] = df1_cases.iloc[j,2]\n",
    "dft_cases = dft_cases.set_index('states')"
   ]
  },
  {
   "cell_type": "code",
   "execution_count": 8,
   "metadata": {
    "execution": {
     "iopub.execute_input": "2020-10-02T13:51:43.073678Z",
     "iopub.status.busy": "2020-10-02T13:51:43.073012Z",
     "iopub.status.idle": "2020-10-02T13:51:43.075440Z",
     "shell.execute_reply": "2020-10-02T13:51:43.075954Z"
    },
    "papermill": {
     "duration": 0.468931,
     "end_time": "2020-10-02T13:51:43.076122",
     "exception": false,
     "start_time": "2020-10-02T13:51:42.607191",
     "status": "completed"
    },
    "tags": []
   },
   "outputs": [],
   "source": [
    "#hide\n",
    "dft_cases = dft_cases.T\n",
    "dft_deaths = dft_deaths.T\n",
    "dt_today = dates[-1]\n",
    "dt_yday = dates[-2]"
   ]
  },
  {
   "cell_type": "code",
   "execution_count": 9,
   "metadata": {
    "execution": {
     "iopub.execute_input": "2020-10-02T13:51:43.916130Z",
     "iopub.status.busy": "2020-10-02T13:51:43.915444Z",
     "iopub.status.idle": "2020-10-02T13:51:43.920492Z",
     "shell.execute_reply": "2020-10-02T13:51:43.919856Z"
    },
    "papermill": {
     "duration": 0.359512,
     "end_time": "2020-10-02T13:51:43.920633",
     "exception": false,
     "start_time": "2020-10-02T13:51:43.561121",
     "status": "completed"
    },
    "tags": []
   },
   "outputs": [],
   "source": [
    "#hide\n",
    "dft_cases = dft_cases.reset_index()\n",
    "dft_deaths = dft_deaths.reset_index()\n",
    "dft_cases = dft_cases.rename(columns = {'index':'state'})\n",
    "dft_deaths = dft_deaths.rename(columns = {'index':'state'})"
   ]
  },
  {
   "cell_type": "code",
   "execution_count": 10,
   "metadata": {
    "execution": {
     "iopub.execute_input": "2020-10-02T13:51:43.967082Z",
     "iopub.status.busy": "2020-10-02T13:51:43.966402Z",
     "iopub.status.idle": "2020-10-02T13:51:43.970050Z",
     "shell.execute_reply": "2020-10-02T13:51:43.970593Z"
    },
    "papermill": {
     "duration": 0.033055,
     "end_time": "2020-10-02T13:51:43.970762",
     "exception": false,
     "start_time": "2020-10-02T13:51:43.937707",
     "status": "completed"
    },
    "tags": []
   },
   "outputs": [],
   "source": [
    "#hide\n",
    "dfc_cases = dft_cases.groupby('state')[dt_today].sum()\n",
    "dfc_deaths = dft_deaths.groupby('state')[dt_today].sum()\n",
    "dfp_cases = dft_cases.groupby('state')[dt_yday].sum()\n",
    "dfp_deaths = dft_deaths.groupby('state')[dt_yday].sum()"
   ]
  },
  {
   "cell_type": "code",
   "execution_count": 11,
   "metadata": {
    "execution": {
     "iopub.execute_input": "2020-10-02T13:51:44.012763Z",
     "iopub.status.busy": "2020-10-02T13:51:44.012095Z",
     "iopub.status.idle": "2020-10-02T13:51:44.025124Z",
     "shell.execute_reply": "2020-10-02T13:51:44.025646Z"
    },
    "papermill": {
     "duration": 0.038288,
     "end_time": "2020-10-02T13:51:44.025806",
     "exception": false,
     "start_time": "2020-10-02T13:51:43.987518",
     "status": "completed"
    },
    "tags": []
   },
   "outputs": [
    {
     "data": {
      "text/html": [
       "<div>\n",
       "<style scoped>\n",
       "    .dataframe tbody tr th:only-of-type {\n",
       "        vertical-align: middle;\n",
       "    }\n",
       "\n",
       "    .dataframe tbody tr th {\n",
       "        vertical-align: top;\n",
       "    }\n",
       "\n",
       "    .dataframe thead th {\n",
       "        text-align: right;\n",
       "    }\n",
       "</style>\n",
       "<table border=\"1\" class=\"dataframe\">\n",
       "  <thead>\n",
       "    <tr style=\"text-align: right;\">\n",
       "      <th></th>\n",
       "      <th>states</th>\n",
       "      <th>Cases</th>\n",
       "      <th>Deaths</th>\n",
       "      <th>PCases</th>\n",
       "      <th>PDeaths</th>\n",
       "    </tr>\n",
       "  </thead>\n",
       "  <tbody>\n",
       "    <tr>\n",
       "      <th>0</th>\n",
       "      <td>Maharashtra</td>\n",
       "      <td>1400922</td>\n",
       "      <td>37056</td>\n",
       "      <td>1400922</td>\n",
       "      <td>37056</td>\n",
       "    </tr>\n",
       "    <tr>\n",
       "      <th>1</th>\n",
       "      <td>Andhra Pradesh</td>\n",
       "      <td>700235</td>\n",
       "      <td>5869</td>\n",
       "      <td>700235</td>\n",
       "      <td>5869</td>\n",
       "    </tr>\n",
       "    <tr>\n",
       "      <th>2</th>\n",
       "      <td>Karnataka</td>\n",
       "      <td>611837</td>\n",
       "      <td>8994</td>\n",
       "      <td>611837</td>\n",
       "      <td>8994</td>\n",
       "    </tr>\n",
       "    <tr>\n",
       "      <th>3</th>\n",
       "      <td>Tamil Nadu</td>\n",
       "      <td>603290</td>\n",
       "      <td>9586</td>\n",
       "      <td>603290</td>\n",
       "      <td>9586</td>\n",
       "    </tr>\n",
       "    <tr>\n",
       "      <th>4</th>\n",
       "      <td>Uttar Pradesh</td>\n",
       "      <td>403101</td>\n",
       "      <td>5864</td>\n",
       "      <td>403101</td>\n",
       "      <td>5864</td>\n",
       "    </tr>\n",
       "  </tbody>\n",
       "</table>\n",
       "</div>"
      ],
      "text/plain": [
       "           states    Cases  Deaths   PCases  PDeaths\n",
       "0     Maharashtra  1400922   37056  1400922    37056\n",
       "1  Andhra Pradesh   700235    5869   700235     5869\n",
       "2       Karnataka   611837    8994   611837     8994\n",
       "3      Tamil Nadu   603290    9586   603290     9586\n",
       "4   Uttar Pradesh   403101    5864   403101     5864"
      ]
     },
     "execution_count": 11,
     "metadata": {},
     "output_type": "execute_result"
    }
   ],
   "source": [
    "#hide\n",
    "df_table = pd.DataFrame({'states': dfc_cases.index, 'Cases': dfc_cases.values, 'Deaths': dfc_deaths.values, 'PCases': dfp_cases.values, 'PDeaths': dfp_deaths.values}).set_index('states')\n",
    "df_table = df_table.sort_values(by = ['Cases','Deaths'], ascending = [False, False])\n",
    "df_table = df_table.reset_index()\n",
    "df_table.head()"
   ]
  },
  {
   "cell_type": "code",
   "execution_count": 12,
   "metadata": {
    "execution": {
     "iopub.execute_input": "2020-10-02T13:51:44.065494Z",
     "iopub.status.busy": "2020-10-02T13:51:44.064841Z",
     "iopub.status.idle": "2020-10-02T13:51:44.073208Z",
     "shell.execute_reply": "2020-10-02T13:51:44.073842Z"
    },
    "papermill": {
     "duration": 0.030823,
     "end_time": "2020-10-02T13:51:44.073993",
     "exception": false,
     "start_time": "2020-10-02T13:51:44.043170",
     "status": "completed"
    },
    "tags": []
   },
   "outputs": [],
   "source": [
    "#hide\n",
    "for c in 'Cases, Deaths'.split(', '):\n",
    "    df_table[f'{c} (+)'] = (df_table[c] - df_table[f'P{c}']).clip(0)\n",
    "df_table['Fatality Rate'] = (100* df_table['Deaths']/ df_table['Cases']).round(2)"
   ]
  },
  {
   "cell_type": "code",
   "execution_count": 13,
   "metadata": {
    "execution": {
     "iopub.execute_input": "2020-10-02T13:51:44.118840Z",
     "iopub.status.busy": "2020-10-02T13:51:44.118157Z",
     "iopub.status.idle": "2020-10-02T13:51:44.121982Z",
     "shell.execute_reply": "2020-10-02T13:51:44.121437Z"
    },
    "papermill": {
     "duration": 0.030944,
     "end_time": "2020-10-02T13:51:44.122114",
     "exception": false,
     "start_time": "2020-10-02T13:51:44.091170",
     "status": "completed"
    },
    "tags": []
   },
   "outputs": [
    {
     "data": {
      "text/html": [
       "<div>\n",
       "<style scoped>\n",
       "    .dataframe tbody tr th:only-of-type {\n",
       "        vertical-align: middle;\n",
       "    }\n",
       "\n",
       "    .dataframe tbody tr th {\n",
       "        vertical-align: top;\n",
       "    }\n",
       "\n",
       "    .dataframe thead th {\n",
       "        text-align: right;\n",
       "    }\n",
       "</style>\n",
       "<table border=\"1\" class=\"dataframe\">\n",
       "  <thead>\n",
       "    <tr style=\"text-align: right;\">\n",
       "      <th></th>\n",
       "      <th>states</th>\n",
       "      <th>Cases</th>\n",
       "      <th>Deaths</th>\n",
       "      <th>PCases</th>\n",
       "      <th>PDeaths</th>\n",
       "      <th>Cases (+)</th>\n",
       "      <th>Deaths (+)</th>\n",
       "      <th>Fatality Rate</th>\n",
       "    </tr>\n",
       "  </thead>\n",
       "  <tbody>\n",
       "    <tr>\n",
       "      <th>0</th>\n",
       "      <td>Maharashtra</td>\n",
       "      <td>1400922</td>\n",
       "      <td>37056</td>\n",
       "      <td>1400922</td>\n",
       "      <td>37056</td>\n",
       "      <td>0</td>\n",
       "      <td>0</td>\n",
       "      <td>2.65</td>\n",
       "    </tr>\n",
       "    <tr>\n",
       "      <th>1</th>\n",
       "      <td>Andhra Pradesh</td>\n",
       "      <td>700235</td>\n",
       "      <td>5869</td>\n",
       "      <td>700235</td>\n",
       "      <td>5869</td>\n",
       "      <td>0</td>\n",
       "      <td>0</td>\n",
       "      <td>0.84</td>\n",
       "    </tr>\n",
       "    <tr>\n",
       "      <th>2</th>\n",
       "      <td>Karnataka</td>\n",
       "      <td>611837</td>\n",
       "      <td>8994</td>\n",
       "      <td>611837</td>\n",
       "      <td>8994</td>\n",
       "      <td>0</td>\n",
       "      <td>0</td>\n",
       "      <td>1.47</td>\n",
       "    </tr>\n",
       "    <tr>\n",
       "      <th>3</th>\n",
       "      <td>Tamil Nadu</td>\n",
       "      <td>603290</td>\n",
       "      <td>9586</td>\n",
       "      <td>603290</td>\n",
       "      <td>9586</td>\n",
       "      <td>0</td>\n",
       "      <td>0</td>\n",
       "      <td>1.59</td>\n",
       "    </tr>\n",
       "    <tr>\n",
       "      <th>4</th>\n",
       "      <td>Uttar Pradesh</td>\n",
       "      <td>403101</td>\n",
       "      <td>5864</td>\n",
       "      <td>403101</td>\n",
       "      <td>5864</td>\n",
       "      <td>0</td>\n",
       "      <td>0</td>\n",
       "      <td>1.45</td>\n",
       "    </tr>\n",
       "  </tbody>\n",
       "</table>\n",
       "</div>"
      ],
      "text/plain": [
       "           states    Cases  Deaths   PCases  PDeaths  Cases (+)  Deaths (+)  \\\n",
       "0     Maharashtra  1400922   37056  1400922    37056          0           0   \n",
       "1  Andhra Pradesh   700235    5869   700235     5869          0           0   \n",
       "2       Karnataka   611837    8994   611837     8994          0           0   \n",
       "3      Tamil Nadu   603290    9586   603290     9586          0           0   \n",
       "4   Uttar Pradesh   403101    5864   403101     5864          0           0   \n",
       "\n",
       "   Fatality Rate  \n",
       "0           2.65  \n",
       "1           0.84  \n",
       "2           1.47  \n",
       "3           1.59  \n",
       "4           1.45  "
      ]
     },
     "execution_count": 13,
     "metadata": {},
     "output_type": "execute_result"
    }
   ],
   "source": [
    "#hide\n",
    "df_table.head()"
   ]
  },
  {
   "cell_type": "code",
   "execution_count": 14,
   "metadata": {
    "execution": {
     "iopub.execute_input": "2020-10-02T13:51:44.162544Z",
     "iopub.status.busy": "2020-10-02T13:51:44.161863Z",
     "iopub.status.idle": "2020-10-02T13:51:44.179221Z",
     "shell.execute_reply": "2020-10-02T13:51:44.179933Z"
    },
    "papermill": {
     "duration": 0.04053,
     "end_time": "2020-10-02T13:51:44.180130",
     "exception": false,
     "start_time": "2020-10-02T13:51:44.139600",
     "status": "completed"
    },
    "tags": []
   },
   "outputs": [
    {
     "data": {
      "text/plain": [
       "{'updated': '2020-10-02',\n",
       " 'since': '2020-10-01',\n",
       " 'Cases': 6399329,\n",
       " 'PCases': 6391960,\n",
       " 'Deaths': 99837,\n",
       " 'PDeaths': 99804,\n",
       " 'Cases (+)': 7369,\n",
       " 'Deaths (+)': 33}"
      ]
     },
     "execution_count": 14,
     "metadata": {},
     "output_type": "execute_result"
    }
   ],
   "source": [
    "#hide\n",
    "summary = {'updated':dates[-1], 'since':dates[-2]}\n",
    "list_names = ['Cases', 'PCases', 'Deaths', 'PDeaths', 'Cases (+)', 'Deaths (+)']\n",
    "for name in list_names:\n",
    "    summary[name] = df_table.sum()[name]\n",
    "summary"
   ]
  },
  {
   "cell_type": "code",
   "execution_count": 15,
   "metadata": {
    "execution": {
     "iopub.execute_input": "2020-10-02T13:51:44.222145Z",
     "iopub.status.busy": "2020-10-02T13:51:44.221487Z",
     "iopub.status.idle": "2020-10-02T13:51:44.223479Z",
     "shell.execute_reply": "2020-10-02T13:51:44.223978Z"
    },
    "papermill": {
     "duration": 0.025279,
     "end_time": "2020-10-02T13:51:44.224133",
     "exception": false,
     "start_time": "2020-10-02T13:51:44.198854",
     "status": "completed"
    },
    "tags": []
   },
   "outputs": [],
   "source": [
    "#hide\n",
    "overview = '''\n",
    "<!-- #######  HTML!! #########-->\n",
    "<h1 style=\"color: #5e9ca0; text-align: center;\">India</h1>\n",
    "<p style=\"text-align: center;\">Last update: <strong>{update}</strong></p>\n",
    "<p style=\"text-align: center;\">Confirmed cases:</p>\n",
    "<p style=\"text-align: center;font-size:24px;\">{cases} (<span style=\"color: #ff0000;\">+{new}</span>)</p>\n",
    "<p style=\"text-align: center;\">Confirmed deaths:</p>\n",
    "<p style=\"text-align: center;font-size:24px;\">{deaths} (<span style=\"color: #ff0000;\">+{dnew}</span>)</p>\n",
    "'''"
   ]
  },
  {
   "cell_type": "code",
   "execution_count": 16,
   "metadata": {
    "execution": {
     "iopub.execute_input": "2020-10-02T13:51:44.265888Z",
     "iopub.status.busy": "2020-10-02T13:51:44.265239Z",
     "iopub.status.idle": "2020-10-02T13:51:44.268844Z",
     "shell.execute_reply": "2020-10-02T13:51:44.268300Z"
    },
    "papermill": {
     "duration": 0.026864,
     "end_time": "2020-10-02T13:51:44.268976",
     "exception": false,
     "start_time": "2020-10-02T13:51:44.242112",
     "status": "completed"
    },
    "tags": []
   },
   "outputs": [
    {
     "data": {
      "text/html": [
       "\n",
       "<!-- #######  HTML!! #########-->\n",
       "<h1 style=\"color: #5e9ca0; text-align: center;\">India</h1>\n",
       "<p style=\"text-align: center;\">Last update: <strong>2020-10-02</strong></p>\n",
       "<p style=\"text-align: center;\">Confirmed cases:</p>\n",
       "<p style=\"text-align: center;font-size:24px;\">6399329 (<span style=\"color: #ff0000;\">+7369</span>)</p>\n",
       "<p style=\"text-align: center;\">Confirmed deaths:</p>\n",
       "<p style=\"text-align: center;font-size:24px;\">99837 (<span style=\"color: #ff0000;\">+33</span>)</p>\n"
      ],
      "text/plain": [
       "<IPython.core.display.HTML object>"
      ]
     },
     "metadata": {},
     "output_type": "display_data"
    }
   ],
   "source": [
    "#hide_input\n",
    "update = summary['updated']\n",
    "cases = summary['Cases']\n",
    "new = summary['Cases (+)']\n",
    "deaths = summary['Deaths']\n",
    "dnew = summary['Deaths (+)']\n",
    "\n",
    "html = HTML(overview.format(update=update, cases=cases,new=new,deaths=deaths,dnew=dnew))\n",
    "\n",
    "display(html)"
   ]
  },
  {
   "cell_type": "code",
   "execution_count": 17,
   "metadata": {
    "execution": {
     "iopub.execute_input": "2020-10-02T13:51:44.313058Z",
     "iopub.status.busy": "2020-10-02T13:51:44.312416Z",
     "iopub.status.idle": "2020-10-02T13:51:44.317406Z",
     "shell.execute_reply": "2020-10-02T13:51:44.317931Z"
    },
    "papermill": {
     "duration": 0.030938,
     "end_time": "2020-10-02T13:51:44.318089",
     "exception": false,
     "start_time": "2020-10-02T13:51:44.287151",
     "status": "completed"
    },
    "tags": []
   },
   "outputs": [],
   "source": [
    "#hide\n",
    "dt_cols = list(dft_cases.columns[1:])\n",
    "dft_ct_new_cases = dft_cases.groupby('state')[dt_cols].sum().diff(axis=1).fillna(0).astype(int)\n",
    "dft_ct_new_cases.sort_values(by = dates[-1], ascending = False,inplace = True)"
   ]
  },
  {
   "cell_type": "code",
   "execution_count": 18,
   "metadata": {
    "execution": {
     "iopub.execute_input": "2020-10-02T13:51:44.373015Z",
     "iopub.status.busy": "2020-10-02T13:51:44.372344Z",
     "iopub.status.idle": "2020-10-02T13:51:44.374963Z",
     "shell.execute_reply": "2020-10-02T13:51:44.375597Z"
    },
    "papermill": {
     "duration": 0.039654,
     "end_time": "2020-10-02T13:51:44.375755",
     "exception": false,
     "start_time": "2020-10-02T13:51:44.336101",
     "status": "completed"
    },
    "tags": []
   },
   "outputs": [
    {
     "data": {
      "text/html": [
       "<div>\n",
       "<style scoped>\n",
       "    .dataframe tbody tr th:only-of-type {\n",
       "        vertical-align: middle;\n",
       "    }\n",
       "\n",
       "    .dataframe tbody tr th {\n",
       "        vertical-align: top;\n",
       "    }\n",
       "\n",
       "    .dataframe thead th {\n",
       "        text-align: right;\n",
       "    }\n",
       "</style>\n",
       "<table border=\"1\" class=\"dataframe\">\n",
       "  <thead>\n",
       "    <tr style=\"text-align: right;\">\n",
       "      <th>states</th>\n",
       "      <th>2020-07-01</th>\n",
       "      <th>2020-07-02</th>\n",
       "      <th>2020-07-03</th>\n",
       "      <th>2020-07-04</th>\n",
       "      <th>2020-07-05</th>\n",
       "      <th>2020-07-06</th>\n",
       "      <th>2020-07-07</th>\n",
       "      <th>2020-07-08</th>\n",
       "      <th>2020-07-09</th>\n",
       "      <th>2020-07-10</th>\n",
       "      <th>...</th>\n",
       "      <th>2020-09-23</th>\n",
       "      <th>2020-09-24</th>\n",
       "      <th>2020-09-25</th>\n",
       "      <th>2020-09-26</th>\n",
       "      <th>2020-09-27</th>\n",
       "      <th>2020-09-28</th>\n",
       "      <th>2020-09-29</th>\n",
       "      <th>2020-09-30</th>\n",
       "      <th>2020-10-01</th>\n",
       "      <th>2020-10-02</th>\n",
       "    </tr>\n",
       "    <tr>\n",
       "      <th>state</th>\n",
       "      <th></th>\n",
       "      <th></th>\n",
       "      <th></th>\n",
       "      <th></th>\n",
       "      <th></th>\n",
       "      <th></th>\n",
       "      <th></th>\n",
       "      <th></th>\n",
       "      <th></th>\n",
       "      <th></th>\n",
       "      <th></th>\n",
       "      <th></th>\n",
       "      <th></th>\n",
       "      <th></th>\n",
       "      <th></th>\n",
       "      <th></th>\n",
       "      <th></th>\n",
       "      <th></th>\n",
       "      <th></th>\n",
       "      <th></th>\n",
       "      <th></th>\n",
       "    </tr>\n",
       "  </thead>\n",
       "  <tbody>\n",
       "    <tr>\n",
       "      <th>Odisha</th>\n",
       "      <td>0</td>\n",
       "      <td>229</td>\n",
       "      <td>561</td>\n",
       "      <td>495</td>\n",
       "      <td>469</td>\n",
       "      <td>456</td>\n",
       "      <td>571</td>\n",
       "      <td>527</td>\n",
       "      <td>577</td>\n",
       "      <td>755</td>\n",
       "      <td>...</td>\n",
       "      <td>4237</td>\n",
       "      <td>4340</td>\n",
       "      <td>4208</td>\n",
       "      <td>4356</td>\n",
       "      <td>3922</td>\n",
       "      <td>3235</td>\n",
       "      <td>3067</td>\n",
       "      <td>3443</td>\n",
       "      <td>3615</td>\n",
       "      <td>3600</td>\n",
       "    </tr>\n",
       "    <tr>\n",
       "      <th>Telangana</th>\n",
       "      <td>0</td>\n",
       "      <td>1213</td>\n",
       "      <td>1892</td>\n",
       "      <td>1850</td>\n",
       "      <td>1590</td>\n",
       "      <td>1831</td>\n",
       "      <td>1879</td>\n",
       "      <td>1924</td>\n",
       "      <td>1410</td>\n",
       "      <td>1278</td>\n",
       "      <td>...</td>\n",
       "      <td>2296</td>\n",
       "      <td>2176</td>\n",
       "      <td>2381</td>\n",
       "      <td>2239</td>\n",
       "      <td>1967</td>\n",
       "      <td>1378</td>\n",
       "      <td>2072</td>\n",
       "      <td>2103</td>\n",
       "      <td>2214</td>\n",
       "      <td>2009</td>\n",
       "    </tr>\n",
       "    <tr>\n",
       "      <th>Bihar</th>\n",
       "      <td>0</td>\n",
       "      <td>478</td>\n",
       "      <td>426</td>\n",
       "      <td>349</td>\n",
       "      <td>403</td>\n",
       "      <td>280</td>\n",
       "      <td>385</td>\n",
       "      <td>749</td>\n",
       "      <td>704</td>\n",
       "      <td>352</td>\n",
       "      <td>...</td>\n",
       "      <td>1598</td>\n",
       "      <td>1203</td>\n",
       "      <td>1632</td>\n",
       "      <td>1457</td>\n",
       "      <td>1527</td>\n",
       "      <td>1150</td>\n",
       "      <td>1439</td>\n",
       "      <td>1435</td>\n",
       "      <td>1370</td>\n",
       "      <td>1431</td>\n",
       "    </tr>\n",
       "    <tr>\n",
       "      <th>Tripura</th>\n",
       "      <td>0</td>\n",
       "      <td>39</td>\n",
       "      <td>93</td>\n",
       "      <td>25</td>\n",
       "      <td>23</td>\n",
       "      <td>111</td>\n",
       "      <td>24</td>\n",
       "      <td>57</td>\n",
       "      <td>16</td>\n",
       "      <td>142</td>\n",
       "      <td>...</td>\n",
       "      <td>504</td>\n",
       "      <td>451</td>\n",
       "      <td>341</td>\n",
       "      <td>278</td>\n",
       "      <td>320</td>\n",
       "      <td>193</td>\n",
       "      <td>432</td>\n",
       "      <td>381</td>\n",
       "      <td>332</td>\n",
       "      <td>296</td>\n",
       "    </tr>\n",
       "    <tr>\n",
       "      <th>Mizoram</th>\n",
       "      <td>0</td>\n",
       "      <td>2</td>\n",
       "      <td>0</td>\n",
       "      <td>2</td>\n",
       "      <td>22</td>\n",
       "      <td>11</td>\n",
       "      <td>1</td>\n",
       "      <td>5</td>\n",
       "      <td>0</td>\n",
       "      <td>23</td>\n",
       "      <td>...</td>\n",
       "      <td>22</td>\n",
       "      <td>46</td>\n",
       "      <td>27</td>\n",
       "      <td>49</td>\n",
       "      <td>30</td>\n",
       "      <td>43</td>\n",
       "      <td>50</td>\n",
       "      <td>28</td>\n",
       "      <td>32</td>\n",
       "      <td>31</td>\n",
       "    </tr>\n",
       "  </tbody>\n",
       "</table>\n",
       "<p>5 rows × 94 columns</p>\n",
       "</div>"
      ],
      "text/plain": [
       "states     2020-07-01  2020-07-02  2020-07-03  2020-07-04  2020-07-05  \\\n",
       "state                                                                   \n",
       "Odisha              0         229         561         495         469   \n",
       "Telangana           0        1213        1892        1850        1590   \n",
       "Bihar               0         478         426         349         403   \n",
       "Tripura             0          39          93          25          23   \n",
       "Mizoram             0           2           0           2          22   \n",
       "\n",
       "states     2020-07-06  2020-07-07  2020-07-08  2020-07-09  2020-07-10  ...  \\\n",
       "state                                                                  ...   \n",
       "Odisha            456         571         527         577         755  ...   \n",
       "Telangana        1831        1879        1924        1410        1278  ...   \n",
       "Bihar             280         385         749         704         352  ...   \n",
       "Tripura           111          24          57          16         142  ...   \n",
       "Mizoram            11           1           5           0          23  ...   \n",
       "\n",
       "states     2020-09-23  2020-09-24  2020-09-25  2020-09-26  2020-09-27  \\\n",
       "state                                                                   \n",
       "Odisha           4237        4340        4208        4356        3922   \n",
       "Telangana        2296        2176        2381        2239        1967   \n",
       "Bihar            1598        1203        1632        1457        1527   \n",
       "Tripura           504         451         341         278         320   \n",
       "Mizoram            22          46          27          49          30   \n",
       "\n",
       "states     2020-09-28  2020-09-29  2020-09-30  2020-10-01  2020-10-02  \n",
       "state                                                                  \n",
       "Odisha           3235        3067        3443        3615        3600  \n",
       "Telangana        1378        2072        2103        2214        2009  \n",
       "Bihar            1150        1439        1435        1370        1431  \n",
       "Tripura           193         432         381         332         296  \n",
       "Mizoram            43          50          28          32          31  \n",
       "\n",
       "[5 rows x 94 columns]"
      ]
     },
     "execution_count": 18,
     "metadata": {},
     "output_type": "execute_result"
    }
   ],
   "source": [
    "#hide\n",
    "dft_ct_new_cases.head()"
   ]
  },
  {
   "cell_type": "code",
   "execution_count": 19,
   "metadata": {
    "execution": {
     "iopub.execute_input": "2020-10-02T13:51:44.433198Z",
     "iopub.status.busy": "2020-10-02T13:51:44.421909Z",
     "iopub.status.idle": "2020-10-02T13:51:48.975649Z",
     "shell.execute_reply": "2020-10-02T13:51:48.975072Z"
    },
    "papermill": {
     "duration": 4.580559,
     "end_time": "2020-10-02T13:51:48.975795",
     "exception": false,
     "start_time": "2020-10-02T13:51:44.395236",
     "status": "completed"
    },
    "tags": []
   },
   "outputs": [
    {
     "data": {
      "image/png": "[encoded data removed]",
      "text/plain": [
       "<Figure size 1296x2016 with 11 Axes>"
      ]
     },
     "metadata": {
      "needs_background": "light"
     },
     "output_type": "display_data"
    }
   ],
   "source": [
    "#hide_input\n",
    "df = dft_ct_new_cases.copy()\n",
    "df.loc['Total'] = df.sum()\n",
    "n = 5\n",
    "ax = []\n",
    "fig = plt.figure(figsize = (18,28))\n",
    "gs = fig.add_gridspec(n+2, 5)\n",
    "# gs = fig.add_gridspec(2, 3)\n",
    "ax1 = fig.add_subplot(gs[0, :])\n",
    "ef = df.loc['Total'].rename_axis('date').reset_index()\n",
    "ef['date'] = ef['date'].astype('datetime64[ns]')\n",
    "ax1.bar(ef.date,ef.Total,alpha=0.3,color='#007acc')\n",
    "ax1.plot(ef.date,ef.Total , marker=\"o\", color='#007acc')\n",
    "ax1.xaxis.set_major_locator(mdates.WeekdayLocator())\n",
    "ax1.xaxis.set_major_formatter(mdates.DateFormatter('%b %d'))\n",
    "ax1.text(0.02, 0.5,'India daily case count', transform = ax1.transAxes, fontsize=25);\n",
    "ax1.spines['right'].set_visible(False)\n",
    "ax1.spines['top'].set_visible(False)\n",
    "\n",
    "ax2 = fig.add_subplot(gs[1,0])\n",
    "ef = df.loc['Maharashtra'].rename_axis('date').reset_index()\n",
    "ef['date'] = ef['date'].astype('datetime64[ns]')\n",
    "\n",
    "ax2.bar(ef.date, ef.Maharashtra,color = '#007acc',alpha=0.5)\n",
    "ax2.xaxis.set_major_locator(mdates.WeekdayLocator())\n",
    "ax2.xaxis.set_major_formatter(mdates.DateFormatter('%b %d'))\n",
    "ax2.set_xticks(ax2.get_xticks()[::3])\n",
    "maxyval = ef.Maharashtra.max()\n",
    "ax2.set_ylim([0,maxyval])\n",
    "ax2.text(0.05, 0.9,'Maharashtra', transform = ax2.transAxes, fontsize=20);\n",
    "ax2.spines['right'].set_visible(False)\n",
    "ax2.spines['top'].set_visible(False)\n",
    "\n",
    "\n",
    "ax3 = fig.add_subplot(gs[1,1])\n",
    "ef = df.loc['Tamil Nadu'].rename_axis('date').reset_index()\n",
    "ef['date'] = ef['date'].astype('datetime64[ns]')\n",
    "ax3.bar(ef.date, ef['Tamil Nadu'],color = '#007acc',alpha=0.5,)\n",
    "ax3.xaxis.set_major_locator(mdates.WeekdayLocator())\n",
    "ax3.xaxis.set_major_formatter(mdates.DateFormatter('%b %d'))\n",
    "ax3.set_xticks(ax3.get_xticks()[::3])\n",
    "ax3.text(0.05, 0.9,'Tamil Nadu', transform = ax3.transAxes, fontsize=20);\n",
    "ax3.spines['right'].set_visible(False)\n",
    "ax3.spines['top'].set_visible(False)\n",
    "\n",
    "ax5 = fig.add_subplot(gs[1,3])\n",
    "ef = df.loc['Telangana'].rename_axis('date').reset_index()\n",
    "ef['date'] = ef['date'].astype('datetime64[ns]')\n",
    "ax5.bar(ef.date, ef['Telangana'],color = '#007acc',alpha=0.5,)\n",
    "ax5.xaxis.set_major_locator(mdates.WeekdayLocator())\n",
    "ax5.xaxis.set_major_formatter(mdates.DateFormatter('%b %d'))\n",
    "ax5.set_xticks(ax5.get_xticks()[::3])\n",
    "ax5.text(0.05, 0.9,'Telangana', transform = ax5.transAxes, fontsize=20);\n",
    "ax5.spines['right'].set_visible(False)\n",
    "ax5.spines['top'].set_visible(False)\n",
    "\n",
    "ax6 = fig.add_subplot(gs[1,4])\n",
    "ef = df.loc['Andhra Pradesh'].rename_axis('date').reset_index()\n",
    "ef['date'] = ef['date'].astype('datetime64[ns]')\n",
    "ax6.bar(ef.date, ef['Andhra Pradesh'],color = '#007acc',alpha=0.5,)\n",
    "ax6.xaxis.set_major_locator(mdates.WeekdayLocator())\n",
    "ax6.xaxis.set_major_formatter(mdates.DateFormatter('%b %d'))\n",
    "ax6.set_xticks(ax6.get_xticks()[::3])\n",
    "ax6.text(0.05, 1,'Andhra Pradesh', transform = ax6.transAxes, fontsize=20);\n",
    "ax6.spines['right'].set_visible(False)\n",
    "ax6.spines['top'].set_visible(False)\n",
    "\n",
    "ax4 = fig.add_subplot(gs[1,2])\n",
    "ef = df.loc['Delhi'].rename_axis('date').reset_index()\n",
    "ef['date'] = ef['date'].astype('datetime64[ns]')\n",
    "ax4.bar(ef.date, ef.Delhi,color = '#007acc',alpha=0.5)\n",
    "ax4.set_xticks([])\n",
    "ax4.xaxis.set_major_locator(mdates.WeekdayLocator())\n",
    "ax4.xaxis.set_major_formatter(mdates.DateFormatter('%b %d'))\n",
    "ax4.set_xticks(ax4.get_xticks()[::3])\n",
    "ax4.spines['right'].set_visible(False)\n",
    "ax4.spines['top'].set_visible(False)\n",
    "\n",
    "ax4.text(0.05, 1,'Delhi', transform = ax4.transAxes, fontsize=20)\n",
    "\n",
    "for i in range(n):\n",
    "    \n",
    "    ax.append(fig.add_subplot(gs[i+2,:]))\n",
    "    ef = df.iloc[i+3].rename_axis('date').reset_index()\n",
    "    ef['date'] = ef['date'].astype('datetime64[ns]')\n",
    "    ax[i].bar(ef.date,ef.iloc[:,-1],color = '#007acc',alpha=0.3)\n",
    "    ax[i].plot(ef.date,ef.iloc[:,-1],marker='o',color='#007acc')\n",
    "    ax[i].text(0.02,0.5,f'{ef.columns.values[-1]}',transform = ax[i].transAxes, fontsize = 20);\n",
    "    ax[i].xaxis.set_major_locator(mdates.WeekdayLocator())\n",
    "    ax[i].xaxis.set_major_formatter(mdates.DateFormatter('%b %d'))\n",
    "    ax[i].set_ylim([0,7000])\n",
    "    ax[i].spines['right'].set_visible(False)\n",
    "    ax[i].spines['top'].set_visible(False)\n",
    "plt.tight_layout()\n"
   ]
  },
  {
   "cell_type": "code",
   "execution_count": 20,
   "metadata": {
    "execution": {
     "iopub.execute_input": "2020-10-02T13:51:49.168563Z",
     "iopub.status.busy": "2020-10-02T13:51:49.167754Z",
     "iopub.status.idle": "2020-10-02T13:51:49.170104Z",
     "shell.execute_reply": "2020-10-02T13:51:49.170759Z"
    },
    "papermill": {
     "duration": 0.171671,
     "end_time": "2020-10-02T13:51:49.170918",
     "exception": false,
     "start_time": "2020-10-02T13:51:48.999247",
     "status": "completed"
    },
    "tags": []
   },
   "outputs": [
    {
     "name": "stdout",
     "output_type": "stream",
     "text": [
      "                                   states    Cases  Deaths   PCases  PDeaths  Cases (+)  Deaths (+)  Fatality Rate\n",
      "                              Maharashtra  1400922   37056  1400922    37056          0           0           2.65\n",
      "                           Andhra Pradesh   700235    5869   700235     5869          0           0           0.84\n",
      "                                Karnataka   611837    8994   611837     8994          0           0           1.47\n",
      "                               Tamil Nadu   603290    9586   603290     9586          0           0           1.59\n",
      "                            Uttar Pradesh   403101    5864   403101     5864          0           0           1.45\n",
      "                                    Delhi   282752    5401   282752     5401          0           0           1.91\n",
      "                              West Bengal   260324    5017   260324     5017          0           0           1.93\n",
      "                                   Odisha   226334     928   222734      912       3600          16           0.41\n",
      "                                   Kerala   204242     772   204242      772          0           0           0.38\n",
      "                                Telangana   195609    1145   193600     1135       2009          10           0.59\n",
      "                                    Bihar   185707     910   184276      906       1431           4           0.49\n",
      "                                    Assam   182396     711   182396      711          0           0           0.39\n",
      "                                  Gujarat   138744    3463   138744     3463          0           0           2.50\n",
      "                                Rajasthan   137485    1500   137485     1500          0           0           1.09\n",
      "                           Madhya Pradesh   130088    2336   130088     2336          0           0           1.80\n",
      "                                  Haryana   129912    1402   129912     1402          0           0           1.08\n",
      "                             Chhattisgarh   116153     986   116153      986          0           0           0.85\n",
      "                                   Punjab   115151    3451   115151     3451          0           0           3.00\n",
      "                                Jharkhand    84664     721    84664      721          0           0           0.85\n",
      "                        Jammu and Kashmir    76163    1198    76163     1198          0           0           1.57\n",
      "                              Uttarakhand    49248     625    49248      625          0           0           1.27\n",
      "                                      Goa    33942     440    33942      440          0           0           1.30\n",
      "                               Puducherry    28024     525    28024      525          0           0           1.87\n",
      "                                  Tripura    26359     283    26063      280        296           3           1.07\n",
      "                         Himachal Pradesh    15219     190    15219      190          0           0           1.25\n",
      "                               Chandigarh    12057     164    12057      164          0           0           1.36\n",
      "                                  Manipur    11111      68    11111       68          0           0           0.61\n",
      "                        Arunachal Pradesh    10020      16    10020       16          0           0           0.16\n",
      "                                 Nagaland     6244      12     6244       12          0           0           0.19\n",
      "                                Meghalaya     5802      51     5802       51          0           0           0.88\n",
      "                                   Ladakh     4269      58     4269       58          0           0           1.36\n",
      "              Andaman and Nicobar Islands     3848      53     3848       53          0           0           1.38\n",
      " Dadra and Nagar Haveli and Daman and Diu     3059       2     3057        2          2           0           0.07\n",
      "                                   Sikkim     2969      40     2969       40          0           0           1.35\n",
      "                                  Mizoram     2049       0     2018        0         31           0           0.00\n",
      "                              Lakshadweep        0       0        0        0          0           0            NaN\n"
     ]
    }
   ],
   "source": [
    "#hide_input\n",
    "print(df_table.to_string(index=False))"
   ]
  },
  {
   "cell_type": "code",
   "execution_count": null,
   "metadata": {
    "papermill": {
     "duration": 0.059462,
     "end_time": "2020-10-02T13:51:49.310389",
     "exception": false,
     "start_time": "2020-10-02T13:51:49.250927",
     "status": "completed"
    },
    "tags": []
   },
   "outputs": [],
   "source": []
  },
  {
   "cell_type": "code",
   "execution_count": null,
   "metadata": {
    "papermill": {
     "duration": 0.023019,
     "end_time": "2020-10-02T13:51:49.357258",
     "exception": false,
     "start_time": "2020-10-02T13:51:49.334239",
     "status": "completed"
    },
    "tags": []
   },
   "outputs": [],
   "source": []
  }
 ],
 "metadata": {
  "kernelspec": {
   "display_name": "Python 3",
   "language": "python",
   "name": "python3"
  },
  "language_info": {
   "codemirror_mode": {
    "name": "ipython",
    "version": 3
   },
   "file_extension": ".py",
   "mimetype": "text/x-python",
   "name": "python",
   "nbconvert_exporter": "python",
   "pygments_lexer": "ipython3",
   "version": "3.6.12"
  },
  "papermill": {
   "duration": 12.940837,
   "end_time": "2020-10-02T13:51:49.788216",
   "environment_variables": {},
   "exception": null,
   "input_path": "latest.ipynb",
   "output_path": "latest.ipynb",
   "parameters": {},
   "start_time": "2020-10-02T13:51:36.847379",
   "version": "2.1.2"
  }
 },
 "nbformat": 4,
 "nbformat_minor": 4
}