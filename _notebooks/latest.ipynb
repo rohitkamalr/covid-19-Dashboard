{
 "cells": [
  {
   "cell_type": "markdown",
   "metadata": {
    "papermill": {
     "duration": 0.020701,
     "end_time": "2020-08-31T12:22:17.714015",
     "exception": false,
     "start_time": "2020-08-31T12:22:17.693314",
     "status": "completed"
    },
    "tags": []
   },
   "source": [
    "# Latest COVID-19 India Matplotlib Overview"
   ]
  },
  {
   "cell_type": "code",
   "execution_count": 1,
   "metadata": {
    "execution": {
     "iopub.execute_input": "2020-08-31T12:22:17.753392Z",
     "iopub.status.busy": "2020-08-31T12:22:17.752786Z",
     "iopub.status.idle": "2020-08-31T12:22:18.342788Z",
     "shell.execute_reply": "2020-08-31T12:22:18.341889Z"
    },
    "papermill": {
     "duration": 0.613025,
     "end_time": "2020-08-31T12:22:18.342946",
     "exception": false,
     "start_time": "2020-08-31T12:22:17.729921",
     "status": "completed"
    },
    "tags": []
   },
   "outputs": [],
   "source": [
    "#hide\n",
    "import pandas as pd\n",
    "import numpy as np\n",
    "import requests\n",
    "import json\n",
    "import matplotlib.pyplot as plt\n",
    "import matplotlib.dates as mdates\n",
    "import matplotlib as mpl\n",
    "from IPython.core.display import display,HTML\n",
    "%matplotlib inline\n",
    "from datetime import date"
   ]
  },
  {
   "cell_type": "code",
   "execution_count": 2,
   "metadata": {
    "execution": {
     "iopub.execute_input": "2020-08-31T12:22:18.384973Z",
     "iopub.status.busy": "2020-08-31T12:22:18.384353Z",
     "iopub.status.idle": "2020-08-31T12:22:18.557786Z",
     "shell.execute_reply": "2020-08-31T12:22:18.557220Z"
    },
    "papermill": {
     "duration": 0.199353,
     "end_time": "2020-08-31T12:22:18.557925",
     "exception": false,
     "start_time": "2020-08-31T12:22:18.358572",
     "status": "completed"
    },
    "tags": []
   },
   "outputs": [],
   "source": [
    "#hide\n",
    "df  = pd.read_csv('https://api.covid19india.org/csv/latest/states.csv')\n",
    "df = df[['Date','State','Confirmed','Deceased']]\n",
    "df = df.rename(columns={'Confirmed':'Cases', \"Deceased\":'Deaths'})\n",
    "df_cases = df[[\"Date\",'State','Cases']]\n",
    "df_deaths = df[['Date','State','Deaths']]\n",
    "df_cases1 = df_cases.groupby('Date')\n",
    "df_deaths1= df_deaths.groupby('Date')"
   ]
  },
  {
   "cell_type": "code",
   "execution_count": 3,
   "metadata": {
    "execution": {
     "iopub.execute_input": "2020-08-31T12:22:18.594501Z",
     "iopub.status.busy": "2020-08-31T12:22:18.593909Z",
     "iopub.status.idle": "2020-08-31T12:22:18.610866Z",
     "shell.execute_reply": "2020-08-31T12:22:18.611314Z"
    },
    "papermill": {
     "duration": 0.038217,
     "end_time": "2020-08-31T12:22:18.611462",
     "exception": false,
     "start_time": "2020-08-31T12:22:18.573245",
     "status": "completed"
    },
    "tags": []
   },
   "outputs": [],
   "source": [
    "#hide\n",
    "df_snap = pd.read_csv('data/SnapshotCases-28-July.csv')\n",
    "arr_states = df_snap['states'].unique()\n",
    "arr_dates = df['Date'].unique()\n",
    "df_snap = df_snap.set_index('states')"
   ]
  },
  {
   "cell_type": "code",
   "execution_count": 4,
   "metadata": {
    "execution": {
     "iopub.execute_input": "2020-08-31T12:22:18.649467Z",
     "iopub.status.busy": "2020-08-31T12:22:18.648875Z",
     "iopub.status.idle": "2020-08-31T12:22:18.651982Z",
     "shell.execute_reply": "2020-08-31T12:22:18.651460Z"
    },
    "papermill": {
     "duration": 0.025606,
     "end_time": "2020-08-31T12:22:18.652108",
     "exception": false,
     "start_time": "2020-08-31T12:22:18.626502",
     "status": "completed"
    },
    "tags": []
   },
   "outputs": [
    {
     "data": {
      "text/plain": [
       "array(['Andaman and Nicobar Islands', 'Andhra Pradesh',\n",
       "       'Arunachal Pradesh', 'Assam', 'Bihar', 'Chandigarh',\n",
       "       'Dadra and Nagar Haveli and Daman and Diu', 'Delhi', 'Goa',\n",
       "       'Gujarat', 'Haryana', 'Himachal Pradesh', 'Jammu and Kashmir',\n",
       "       'Jharkhand', 'Karnataka', 'Kerala', 'Lakshadweep',\n",
       "       'Madhya Pradesh', 'Maharashtra', 'Manipur', 'Meghalaya', 'Mizoram',\n",
       "       'Nagaland', 'Odisha', 'Puducherry', 'Punjab', 'Rajasthan',\n",
       "       'Sikkim', 'Tamil Nadu', 'Telangana', 'Tripura', 'Uttar Pradesh',\n",
       "       'West Bengal', 'Chhattisgarh', 'Ladakh', 'Uttarakhand'],\n",
       "      dtype=object)"
      ]
     },
     "execution_count": 4,
     "metadata": {},
     "output_type": "execute_result"
    }
   ],
   "source": [
    "#hide\n",
    "arr_states[-9] = 'Puducherry'\n",
    "arr_states[-10] = 'Odisha'\n",
    "arr_states[6] = 'Dadra and Nagar Haveli and Daman and Diu'\n",
    "arr_states = np.append(arr_states,np.array(['Chhattisgarh','Ladakh','Uttarakhand']))\n",
    "arr_states"
   ]
  },
  {
   "cell_type": "code",
   "execution_count": 5,
   "metadata": {
    "execution": {
     "iopub.execute_input": "2020-08-31T12:22:18.698231Z",
     "iopub.status.busy": "2020-08-31T12:22:18.697623Z",
     "iopub.status.idle": "2020-08-31T12:22:18.705073Z",
     "shell.execute_reply": "2020-08-31T12:22:18.705580Z"
    },
    "papermill": {
     "duration": 0.038171,
     "end_time": "2020-08-31T12:22:18.705730",
     "exception": false,
     "start_time": "2020-08-31T12:22:18.667559",
     "status": "completed"
    },
    "tags": []
   },
   "outputs": [],
   "source": [
    "#hide\n",
    "dates = []\n",
    "for i in arr_dates:\n",
    "    if i>='2020-07-01':\n",
    "        dates.append(i)\n",
    "dict = {'states':dates}\n",
    "for i in arr_states:\n",
    "    dict[i] = [0]*len(dates)\n",
    "dft_cases = pd.DataFrame(dict)\n",
    "dft_deaths = pd.DataFrame(dict)\n"
   ]
  },
  {
   "cell_type": "code",
   "execution_count": 6,
   "metadata": {
    "execution": {
     "iopub.execute_input": "2020-08-31T12:22:18.744443Z",
     "iopub.status.busy": "2020-08-31T12:22:18.743274Z",
     "iopub.status.idle": "2020-08-31T12:22:19.594274Z",
     "shell.execute_reply": "2020-08-31T12:22:19.593344Z"
    },
    "papermill": {
     "duration": 0.873097,
     "end_time": "2020-08-31T12:22:19.594494",
     "exception": false,
     "start_time": "2020-08-31T12:22:18.721397",
     "status": "completed"
    },
    "tags": []
   },
   "outputs": [],
   "source": [
    "#hide\n",
    "for i in range(len(dates)):\n",
    "    df1_deaths = df_deaths1.get_group(dates[i])\n",
    "    for j in range(len(df1_deaths.index)):\n",
    "        if df1_deaths.iloc[j,1] in arr_states:\n",
    "            dft_deaths.loc[i,df1_deaths.iloc[j,1]] = df1_deaths.iloc[j,2]\n",
    "dft_deaths = dft_deaths.set_index('states')"
   ]
  },
  {
   "cell_type": "code",
   "execution_count": 7,
   "metadata": {
    "execution": {
     "iopub.execute_input": "2020-08-31T12:22:19.636505Z",
     "iopub.status.busy": "2020-08-31T12:22:19.635892Z",
     "iopub.status.idle": "2020-08-31T12:22:20.499579Z",
     "shell.execute_reply": "2020-08-31T12:22:20.499050Z"
    },
    "papermill": {
     "duration": 0.889094,
     "end_time": "2020-08-31T12:22:20.499758",
     "exception": false,
     "start_time": "2020-08-31T12:22:19.610664",
     "status": "completed"
    },
    "tags": []
   },
   "outputs": [],
   "source": [
    "#hide\n",
    "for i in range(len(dates)):\n",
    "    df1_cases = df_cases1.get_group(dates[i])\n",
    "    for j in range(len(df1_cases.index)):\n",
    "        if df1_cases.iloc[j,1] in arr_states:\n",
    "            dft_cases.loc[i,df1_cases.iloc[j,1]] = df1_cases.iloc[j,2]\n",
    "dft_cases = dft_cases.set_index('states')"
   ]
  },
  {
   "cell_type": "code",
   "execution_count": 8,
   "metadata": {
    "execution": {
     "iopub.execute_input": "2020-08-31T12:22:21.315486Z",
     "iopub.status.busy": "2020-08-31T12:22:21.314847Z",
     "iopub.status.idle": "2020-08-31T12:22:21.318722Z",
     "shell.execute_reply": "2020-08-31T12:22:21.319174Z"
    },
    "papermill": {
     "duration": 0.80243,
     "end_time": "2020-08-31T12:22:21.319333",
     "exception": false,
     "start_time": "2020-08-31T12:22:20.516903",
     "status": "completed"
    },
    "tags": []
   },
   "outputs": [],
   "source": [
    "#hide\n",
    "dft_cases = dft_cases.T\n",
    "dft_deaths = dft_deaths.T\n",
    "dt_today = dates[-1]\n",
    "dt_yday = dates[-2]"
   ]
  },
  {
   "cell_type": "code",
   "execution_count": 9,
   "metadata": {
    "execution": {
     "iopub.execute_input": "2020-08-31T12:22:21.678857Z",
     "iopub.status.busy": "2020-08-31T12:22:21.677603Z",
     "iopub.status.idle": "2020-08-31T12:22:21.683765Z",
     "shell.execute_reply": "2020-08-31T12:22:21.684229Z"
    },
    "papermill": {
     "duration": 0.268946,
     "end_time": "2020-08-31T12:22:21.684387",
     "exception": false,
     "start_time": "2020-08-31T12:22:21.415441",
     "status": "completed"
    },
    "tags": []
   },
   "outputs": [],
   "source": [
    "#hide\n",
    "dft_cases = dft_cases.reset_index()\n",
    "dft_deaths = dft_deaths.reset_index()\n",
    "dft_cases = dft_cases.rename(columns = {'index':'state'})\n",
    "dft_deaths = dft_deaths.rename(columns = {'index':'state'})"
   ]
  },
  {
   "cell_type": "code",
   "execution_count": 10,
   "metadata": {
    "execution": {
     "iopub.execute_input": "2020-08-31T12:22:21.737351Z",
     "iopub.status.busy": "2020-08-31T12:22:21.736730Z",
     "iopub.status.idle": "2020-08-31T12:22:21.739067Z",
     "shell.execute_reply": "2020-08-31T12:22:21.738562Z"
    },
    "papermill": {
     "duration": 0.030015,
     "end_time": "2020-08-31T12:22:21.739200",
     "exception": false,
     "start_time": "2020-08-31T12:22:21.709185",
     "status": "completed"
    },
    "tags": []
   },
   "outputs": [],
   "source": [
    "#hide\n",
    "dfc_cases = dft_cases.groupby('state')[dt_today].sum()\n",
    "dfc_deaths = dft_deaths.groupby('state')[dt_today].sum()\n",
    "dfp_cases = dft_cases.groupby('state')[dt_yday].sum()\n",
    "dfp_deaths = dft_deaths.groupby('state')[dt_yday].sum()"
   ]
  },
  {
   "cell_type": "code",
   "execution_count": 11,
   "metadata": {
    "execution": {
     "iopub.execute_input": "2020-08-31T12:22:21.779968Z",
     "iopub.status.busy": "2020-08-31T12:22:21.779338Z",
     "iopub.status.idle": "2020-08-31T12:22:21.792797Z",
     "shell.execute_reply": "2020-08-31T12:22:21.792294Z"
    },
    "papermill": {
     "duration": 0.038102,
     "end_time": "2020-08-31T12:22:21.792929",
     "exception": false,
     "start_time": "2020-08-31T12:22:21.754827",
     "status": "completed"
    },
    "tags": []
   },
   "outputs": [
    {
     "data": {
      "text/html": [
       "<div>\n",
       "<style scoped>\n",
       "    .dataframe tbody tr th:only-of-type {\n",
       "        vertical-align: middle;\n",
       "    }\n",
       "\n",
       "    .dataframe tbody tr th {\n",
       "        vertical-align: top;\n",
       "    }\n",
       "\n",
       "    .dataframe thead th {\n",
       "        text-align: right;\n",
       "    }\n",
       "</style>\n",
       "<table border=\"1\" class=\"dataframe\">\n",
       "  <thead>\n",
       "    <tr style=\"text-align: right;\">\n",
       "      <th></th>\n",
       "      <th>states</th>\n",
       "      <th>Cases</th>\n",
       "      <th>Deaths</th>\n",
       "      <th>PCases</th>\n",
       "      <th>PDeaths</th>\n",
       "    </tr>\n",
       "  </thead>\n",
       "  <tbody>\n",
       "    <tr>\n",
       "      <th>0</th>\n",
       "      <td>Maharashtra</td>\n",
       "      <td>780689</td>\n",
       "      <td>24399</td>\n",
       "      <td>780689</td>\n",
       "      <td>24399</td>\n",
       "    </tr>\n",
       "    <tr>\n",
       "      <th>1</th>\n",
       "      <td>Andhra Pradesh</td>\n",
       "      <td>424767</td>\n",
       "      <td>3884</td>\n",
       "      <td>424767</td>\n",
       "      <td>3884</td>\n",
       "    </tr>\n",
       "    <tr>\n",
       "      <th>2</th>\n",
       "      <td>Tamil Nadu</td>\n",
       "      <td>422085</td>\n",
       "      <td>7231</td>\n",
       "      <td>422085</td>\n",
       "      <td>7231</td>\n",
       "    </tr>\n",
       "    <tr>\n",
       "      <th>3</th>\n",
       "      <td>Karnataka</td>\n",
       "      <td>335928</td>\n",
       "      <td>5589</td>\n",
       "      <td>335928</td>\n",
       "      <td>5589</td>\n",
       "    </tr>\n",
       "    <tr>\n",
       "      <th>4</th>\n",
       "      <td>Uttar Pradesh</td>\n",
       "      <td>230414</td>\n",
       "      <td>3486</td>\n",
       "      <td>225632</td>\n",
       "      <td>3423</td>\n",
       "    </tr>\n",
       "  </tbody>\n",
       "</table>\n",
       "</div>"
      ],
      "text/plain": [
       "           states   Cases  Deaths  PCases  PDeaths\n",
       "0     Maharashtra  780689   24399  780689    24399\n",
       "1  Andhra Pradesh  424767    3884  424767     3884\n",
       "2      Tamil Nadu  422085    7231  422085     7231\n",
       "3       Karnataka  335928    5589  335928     5589\n",
       "4   Uttar Pradesh  230414    3486  225632     3423"
      ]
     },
     "execution_count": 11,
     "metadata": {},
     "output_type": "execute_result"
    }
   ],
   "source": [
    "#hide\n",
    "df_table = pd.DataFrame({'states': dfc_cases.index, 'Cases': dfc_cases.values, 'Deaths': dfc_deaths.values, 'PCases': dfp_cases.values, 'PDeaths': dfp_deaths.values}).set_index('states')\n",
    "df_table = df_table.sort_values(by = ['Cases','Deaths'], ascending = [False, False])\n",
    "df_table = df_table.reset_index()\n",
    "df_table.head()"
   ]
  },
  {
   "cell_type": "code",
   "execution_count": 12,
   "metadata": {
    "execution": {
     "iopub.execute_input": "2020-08-31T12:22:21.834963Z",
     "iopub.status.busy": "2020-08-31T12:22:21.834369Z",
     "iopub.status.idle": "2020-08-31T12:22:21.842602Z",
     "shell.execute_reply": "2020-08-31T12:22:21.843096Z"
    },
    "papermill": {
     "duration": 0.034597,
     "end_time": "2020-08-31T12:22:21.843249",
     "exception": false,
     "start_time": "2020-08-31T12:22:21.808652",
     "status": "completed"
    },
    "tags": []
   },
   "outputs": [],
   "source": [
    "#hide\n",
    "for c in 'Cases, Deaths'.split(', '):\n",
    "    df_table[f'{c} (+)'] = (df_table[c] - df_table[f'P{c}']).clip(0)\n",
    "df_table['Fatality Rate'] = (100* df_table['Deaths']/ df_table['Cases']).round(2)"
   ]
  },
  {
   "cell_type": "code",
   "execution_count": 13,
   "metadata": {
    "execution": {
     "iopub.execute_input": "2020-08-31T12:22:21.888215Z",
     "iopub.status.busy": "2020-08-31T12:22:21.887551Z",
     "iopub.status.idle": "2020-08-31T12:22:21.890041Z",
     "shell.execute_reply": "2020-08-31T12:22:21.890546Z"
    },
    "papermill": {
     "duration": 0.03099,
     "end_time": "2020-08-31T12:22:21.890696",
     "exception": false,
     "start_time": "2020-08-31T12:22:21.859706",
     "status": "completed"
    },
    "tags": []
   },
   "outputs": [
    {
     "data": {
      "text/html": [
       "<div>\n",
       "<style scoped>\n",
       "    .dataframe tbody tr th:only-of-type {\n",
       "        vertical-align: middle;\n",
       "    }\n",
       "\n",
       "    .dataframe tbody tr th {\n",
       "        vertical-align: top;\n",
       "    }\n",
       "\n",
       "    .dataframe thead th {\n",
       "        text-align: right;\n",
       "    }\n",
       "</style>\n",
       "<table border=\"1\" class=\"dataframe\">\n",
       "  <thead>\n",
       "    <tr style=\"text-align: right;\">\n",
       "      <th></th>\n",
       "      <th>states</th>\n",
       "      <th>Cases</th>\n",
       "      <th>Deaths</th>\n",
       "      <th>PCases</th>\n",
       "      <th>PDeaths</th>\n",
       "      <th>Cases (+)</th>\n",
       "      <th>Deaths (+)</th>\n",
       "      <th>Fatality Rate</th>\n",
       "    </tr>\n",
       "  </thead>\n",
       "  <tbody>\n",
       "    <tr>\n",
       "      <th>0</th>\n",
       "      <td>Maharashtra</td>\n",
       "      <td>780689</td>\n",
       "      <td>24399</td>\n",
       "      <td>780689</td>\n",
       "      <td>24399</td>\n",
       "      <td>0</td>\n",
       "      <td>0</td>\n",
       "      <td>3.13</td>\n",
       "    </tr>\n",
       "    <tr>\n",
       "      <th>1</th>\n",
       "      <td>Andhra Pradesh</td>\n",
       "      <td>424767</td>\n",
       "      <td>3884</td>\n",
       "      <td>424767</td>\n",
       "      <td>3884</td>\n",
       "      <td>0</td>\n",
       "      <td>0</td>\n",
       "      <td>0.91</td>\n",
       "    </tr>\n",
       "    <tr>\n",
       "      <th>2</th>\n",
       "      <td>Tamil Nadu</td>\n",
       "      <td>422085</td>\n",
       "      <td>7231</td>\n",
       "      <td>422085</td>\n",
       "      <td>7231</td>\n",
       "      <td>0</td>\n",
       "      <td>0</td>\n",
       "      <td>1.71</td>\n",
       "    </tr>\n",
       "    <tr>\n",
       "      <th>3</th>\n",
       "      <td>Karnataka</td>\n",
       "      <td>335928</td>\n",
       "      <td>5589</td>\n",
       "      <td>335928</td>\n",
       "      <td>5589</td>\n",
       "      <td>0</td>\n",
       "      <td>0</td>\n",
       "      <td>1.66</td>\n",
       "    </tr>\n",
       "    <tr>\n",
       "      <th>4</th>\n",
       "      <td>Uttar Pradesh</td>\n",
       "      <td>230414</td>\n",
       "      <td>3486</td>\n",
       "      <td>225632</td>\n",
       "      <td>3423</td>\n",
       "      <td>4782</td>\n",
       "      <td>63</td>\n",
       "      <td>1.51</td>\n",
       "    </tr>\n",
       "  </tbody>\n",
       "</table>\n",
       "</div>"
      ],
      "text/plain": [
       "           states   Cases  Deaths  PCases  PDeaths  Cases (+)  Deaths (+)  \\\n",
       "0     Maharashtra  780689   24399  780689    24399          0           0   \n",
       "1  Andhra Pradesh  424767    3884  424767     3884          0           0   \n",
       "2      Tamil Nadu  422085    7231  422085     7231          0           0   \n",
       "3       Karnataka  335928    5589  335928     5589          0           0   \n",
       "4   Uttar Pradesh  230414    3486  225632     3423       4782          63   \n",
       "\n",
       "   Fatality Rate  \n",
       "0           3.13  \n",
       "1           0.91  \n",
       "2           1.71  \n",
       "3           1.66  \n",
       "4           1.51  "
      ]
     },
     "execution_count": 13,
     "metadata": {},
     "output_type": "execute_result"
    }
   ],
   "source": [
    "#hide\n",
    "df_table.head()"
   ]
  },
  {
   "cell_type": "code",
   "execution_count": 14,
   "metadata": {
    "execution": {
     "iopub.execute_input": "2020-08-31T12:22:21.926620Z",
     "iopub.status.busy": "2020-08-31T12:22:21.926036Z",
     "iopub.status.idle": "2020-08-31T12:22:21.945328Z",
     "shell.execute_reply": "2020-08-31T12:22:21.944846Z"
    },
    "papermill": {
     "duration": 0.038463,
     "end_time": "2020-08-31T12:22:21.945464",
     "exception": false,
     "start_time": "2020-08-31T12:22:21.907001",
     "status": "completed"
    },
    "tags": []
   },
   "outputs": [
    {
     "data": {
      "text/plain": [
       "{'updated': '2020-08-31',\n",
       " 'since': '2020-08-30',\n",
       " 'Cases': 3630751,\n",
       " 'PCases': 3619173,\n",
       " 'Deaths': 64715,\n",
       " 'PDeaths': 64617,\n",
       " 'Cases (+)': 11578,\n",
       " 'Deaths (+)': 98}"
      ]
     },
     "execution_count": 14,
     "metadata": {},
     "output_type": "execute_result"
    }
   ],
   "source": [
    "#hide\n",
    "summary = {'updated':dates[-1], 'since':dates[-2]}\n",
    "list_names = ['Cases', 'PCases', 'Deaths', 'PDeaths', 'Cases (+)', 'Deaths (+)']\n",
    "for name in list_names:\n",
    "    summary[name] = df_table.sum()[name]\n",
    "summary"
   ]
  },
  {
   "cell_type": "code",
   "execution_count": 15,
   "metadata": {
    "execution": {
     "iopub.execute_input": "2020-08-31T12:22:21.983959Z",
     "iopub.status.busy": "2020-08-31T12:22:21.983338Z",
     "iopub.status.idle": "2020-08-31T12:22:21.985785Z",
     "shell.execute_reply": "2020-08-31T12:22:21.985213Z"
    },
    "papermill": {
     "duration": 0.023692,
     "end_time": "2020-08-31T12:22:21.985911",
     "exception": false,
     "start_time": "2020-08-31T12:22:21.962219",
     "status": "completed"
    },
    "tags": []
   },
   "outputs": [],
   "source": [
    "#hide\n",
    "overview = '''\n",
    "<!-- #######  HTML!! #########-->\n",
    "<h1 style=\"color: #5e9ca0; text-align: center;\">India</h1>\n",
    "<p style=\"text-align: center;\">Last update: <strong>{update}</strong></p>\n",
    "<p style=\"text-align: center;\">Confirmed cases:</p>\n",
    "<p style=\"text-align: center;font-size:24px;\">{cases} (<span style=\"color: #ff0000;\">+{new}</span>)</p>\n",
    "<p style=\"text-align: center;\">Confirmed deaths:</p>\n",
    "<p style=\"text-align: center;font-size:24px;\">{deaths} (<span style=\"color: #ff0000;\">+{dnew}</span>)</p>\n",
    "'''"
   ]
  },
  {
   "cell_type": "code",
   "execution_count": 16,
   "metadata": {
    "execution": {
     "iopub.execute_input": "2020-08-31T12:22:22.027262Z",
     "iopub.status.busy": "2020-08-31T12:22:22.026669Z",
     "iopub.status.idle": "2020-08-31T12:22:22.029708Z",
     "shell.execute_reply": "2020-08-31T12:22:22.030185Z"
    },
    "papermill": {
     "duration": 0.027941,
     "end_time": "2020-08-31T12:22:22.030325",
     "exception": false,
     "start_time": "2020-08-31T12:22:22.002384",
     "status": "completed"
    },
    "tags": []
   },
   "outputs": [
    {
     "data": {
      "text/html": [
       "\n",
       "<!-- #######  HTML!! #########-->\n",
       "<h1 style=\"color: #5e9ca0; text-align: center;\">India</h1>\n",
       "<p style=\"text-align: center;\">Last update: <strong>2020-08-31</strong></p>\n",
       "<p style=\"text-align: center;\">Confirmed cases:</p>\n",
       "<p style=\"text-align: center;font-size:24px;\">3630751 (<span style=\"color: #ff0000;\">+11578</span>)</p>\n",
       "<p style=\"text-align: center;\">Confirmed deaths:</p>\n",
       "<p style=\"text-align: center;font-size:24px;\">64715 (<span style=\"color: #ff0000;\">+98</span>)</p>\n"
      ],
      "text/plain": [
       "<IPython.core.display.HTML object>"
      ]
     },
     "metadata": {},
     "output_type": "display_data"
    }
   ],
   "source": [
    "#hide_input\n",
    "update = summary['updated']\n",
    "cases = summary['Cases']\n",
    "new = summary['Cases (+)']\n",
    "deaths = summary['Deaths']\n",
    "dnew = summary['Deaths (+)']\n",
    "\n",
    "html = HTML(overview.format(update=update, cases=cases,new=new,deaths=deaths,dnew=dnew))\n",
    "\n",
    "display(html)"
   ]
  },
  {
   "cell_type": "code",
   "execution_count": 17,
   "metadata": {
    "execution": {
     "iopub.execute_input": "2020-08-31T12:22:22.074855Z",
     "iopub.status.busy": "2020-08-31T12:22:22.074246Z",
     "iopub.status.idle": "2020-08-31T12:22:22.079027Z",
     "shell.execute_reply": "2020-08-31T12:22:22.079511Z"
    },
    "papermill": {
     "duration": 0.032337,
     "end_time": "2020-08-31T12:22:22.079655",
     "exception": false,
     "start_time": "2020-08-31T12:22:22.047318",
     "status": "completed"
    },
    "tags": []
   },
   "outputs": [],
   "source": [
    "#hide\n",
    "dt_cols = list(dft_cases.columns[1:])\n",
    "dft_ct_new_cases = dft_cases.groupby('state')[dt_cols].sum().diff(axis=1).fillna(0).astype(int)\n",
    "dft_ct_new_cases.sort_values(by = dates[-1], ascending = False,inplace = True)"
   ]
  },
  {
   "cell_type": "code",
   "execution_count": 18,
   "metadata": {
    "execution": {
     "iopub.execute_input": "2020-08-31T12:22:22.135124Z",
     "iopub.status.busy": "2020-08-31T12:22:22.134513Z",
     "iopub.status.idle": "2020-08-31T12:22:22.137013Z",
     "shell.execute_reply": "2020-08-31T12:22:22.137522Z"
    },
    "papermill": {
     "duration": 0.040869,
     "end_time": "2020-08-31T12:22:22.137668",
     "exception": false,
     "start_time": "2020-08-31T12:22:22.096799",
     "status": "completed"
    },
    "tags": []
   },
   "outputs": [
    {
     "data": {
      "text/html": [
       "<div>\n",
       "<style scoped>\n",
       "    .dataframe tbody tr th:only-of-type {\n",
       "        vertical-align: middle;\n",
       "    }\n",
       "\n",
       "    .dataframe tbody tr th {\n",
       "        vertical-align: top;\n",
       "    }\n",
       "\n",
       "    .dataframe thead th {\n",
       "        text-align: right;\n",
       "    }\n",
       "</style>\n",
       "<table border=\"1\" class=\"dataframe\">\n",
       "  <thead>\n",
       "    <tr style=\"text-align: right;\">\n",
       "      <th>states</th>\n",
       "      <th>2020-07-01</th>\n",
       "      <th>2020-07-02</th>\n",
       "      <th>2020-07-03</th>\n",
       "      <th>2020-07-04</th>\n",
       "      <th>2020-07-05</th>\n",
       "      <th>2020-07-06</th>\n",
       "      <th>2020-07-07</th>\n",
       "      <th>2020-07-08</th>\n",
       "      <th>2020-07-09</th>\n",
       "      <th>2020-07-10</th>\n",
       "      <th>...</th>\n",
       "      <th>2020-08-22</th>\n",
       "      <th>2020-08-23</th>\n",
       "      <th>2020-08-24</th>\n",
       "      <th>2020-08-25</th>\n",
       "      <th>2020-08-26</th>\n",
       "      <th>2020-08-27</th>\n",
       "      <th>2020-08-28</th>\n",
       "      <th>2020-08-29</th>\n",
       "      <th>2020-08-30</th>\n",
       "      <th>2020-08-31</th>\n",
       "    </tr>\n",
       "    <tr>\n",
       "      <th>state</th>\n",
       "      <th></th>\n",
       "      <th></th>\n",
       "      <th></th>\n",
       "      <th></th>\n",
       "      <th></th>\n",
       "      <th></th>\n",
       "      <th></th>\n",
       "      <th></th>\n",
       "      <th></th>\n",
       "      <th></th>\n",
       "      <th></th>\n",
       "      <th></th>\n",
       "      <th></th>\n",
       "      <th></th>\n",
       "      <th></th>\n",
       "      <th></th>\n",
       "      <th></th>\n",
       "      <th></th>\n",
       "      <th></th>\n",
       "      <th></th>\n",
       "      <th></th>\n",
       "    </tr>\n",
       "  </thead>\n",
       "  <tbody>\n",
       "    <tr>\n",
       "      <th>Uttar Pradesh</th>\n",
       "      <td>0</td>\n",
       "      <td>769</td>\n",
       "      <td>972</td>\n",
       "      <td>757</td>\n",
       "      <td>1153</td>\n",
       "      <td>929</td>\n",
       "      <td>1332</td>\n",
       "      <td>1188</td>\n",
       "      <td>1206</td>\n",
       "      <td>1338</td>\n",
       "      <td>...</td>\n",
       "      <td>5217</td>\n",
       "      <td>5325</td>\n",
       "      <td>4601</td>\n",
       "      <td>5006</td>\n",
       "      <td>5640</td>\n",
       "      <td>5391</td>\n",
       "      <td>5405</td>\n",
       "      <td>5633</td>\n",
       "      <td>6175</td>\n",
       "      <td>4782</td>\n",
       "    </tr>\n",
       "    <tr>\n",
       "      <th>Odisha</th>\n",
       "      <td>0</td>\n",
       "      <td>229</td>\n",
       "      <td>561</td>\n",
       "      <td>495</td>\n",
       "      <td>469</td>\n",
       "      <td>456</td>\n",
       "      <td>571</td>\n",
       "      <td>527</td>\n",
       "      <td>577</td>\n",
       "      <td>755</td>\n",
       "      <td>...</td>\n",
       "      <td>2819</td>\n",
       "      <td>2993</td>\n",
       "      <td>2949</td>\n",
       "      <td>2752</td>\n",
       "      <td>3371</td>\n",
       "      <td>3384</td>\n",
       "      <td>3682</td>\n",
       "      <td>3252</td>\n",
       "      <td>3014</td>\n",
       "      <td>2602</td>\n",
       "    </tr>\n",
       "    <tr>\n",
       "      <th>Telangana</th>\n",
       "      <td>0</td>\n",
       "      <td>1213</td>\n",
       "      <td>1892</td>\n",
       "      <td>1850</td>\n",
       "      <td>1590</td>\n",
       "      <td>1831</td>\n",
       "      <td>1879</td>\n",
       "      <td>1924</td>\n",
       "      <td>1410</td>\n",
       "      <td>1278</td>\n",
       "      <td>...</td>\n",
       "      <td>2474</td>\n",
       "      <td>2384</td>\n",
       "      <td>1842</td>\n",
       "      <td>2579</td>\n",
       "      <td>3018</td>\n",
       "      <td>2795</td>\n",
       "      <td>2932</td>\n",
       "      <td>2751</td>\n",
       "      <td>2924</td>\n",
       "      <td>1873</td>\n",
       "    </tr>\n",
       "    <tr>\n",
       "      <th>Bihar</th>\n",
       "      <td>0</td>\n",
       "      <td>478</td>\n",
       "      <td>426</td>\n",
       "      <td>349</td>\n",
       "      <td>403</td>\n",
       "      <td>280</td>\n",
       "      <td>385</td>\n",
       "      <td>749</td>\n",
       "      <td>704</td>\n",
       "      <td>352</td>\n",
       "      <td>...</td>\n",
       "      <td>2238</td>\n",
       "      <td>2247</td>\n",
       "      <td>1227</td>\n",
       "      <td>1444</td>\n",
       "      <td>2163</td>\n",
       "      <td>1860</td>\n",
       "      <td>1998</td>\n",
       "      <td>2087</td>\n",
       "      <td>2078</td>\n",
       "      <td>1324</td>\n",
       "    </tr>\n",
       "    <tr>\n",
       "      <th>Rajasthan</th>\n",
       "      <td>0</td>\n",
       "      <td>350</td>\n",
       "      <td>390</td>\n",
       "      <td>480</td>\n",
       "      <td>632</td>\n",
       "      <td>524</td>\n",
       "      <td>716</td>\n",
       "      <td>659</td>\n",
       "      <td>500</td>\n",
       "      <td>611</td>\n",
       "      <td>...</td>\n",
       "      <td>1310</td>\n",
       "      <td>1345</td>\n",
       "      <td>1346</td>\n",
       "      <td>1370</td>\n",
       "      <td>1345</td>\n",
       "      <td>1345</td>\n",
       "      <td>1355</td>\n",
       "      <td>1407</td>\n",
       "      <td>1450</td>\n",
       "      <td>645</td>\n",
       "    </tr>\n",
       "  </tbody>\n",
       "</table>\n",
       "<p>5 rows × 62 columns</p>\n",
       "</div>"
      ],
      "text/plain": [
       "states         2020-07-01  2020-07-02  2020-07-03  2020-07-04  2020-07-05  \\\n",
       "state                                                                       \n",
       "Uttar Pradesh           0         769         972         757        1153   \n",
       "Odisha                  0         229         561         495         469   \n",
       "Telangana               0        1213        1892        1850        1590   \n",
       "Bihar                   0         478         426         349         403   \n",
       "Rajasthan               0         350         390         480         632   \n",
       "\n",
       "states         2020-07-06  2020-07-07  2020-07-08  2020-07-09  2020-07-10  \\\n",
       "state                                                                       \n",
       "Uttar Pradesh         929        1332        1188        1206        1338   \n",
       "Odisha                456         571         527         577         755   \n",
       "Telangana            1831        1879        1924        1410        1278   \n",
       "Bihar                 280         385         749         704         352   \n",
       "Rajasthan             524         716         659         500         611   \n",
       "\n",
       "states         ...  2020-08-22  2020-08-23  2020-08-24  2020-08-25  \\\n",
       "state          ...                                                   \n",
       "Uttar Pradesh  ...        5217        5325        4601        5006   \n",
       "Odisha         ...        2819        2993        2949        2752   \n",
       "Telangana      ...        2474        2384        1842        2579   \n",
       "Bihar          ...        2238        2247        1227        1444   \n",
       "Rajasthan      ...        1310        1345        1346        1370   \n",
       "\n",
       "states         2020-08-26  2020-08-27  2020-08-28  2020-08-29  2020-08-30  \\\n",
       "state                                                                       \n",
       "Uttar Pradesh        5640        5391        5405        5633        6175   \n",
       "Odisha               3371        3384        3682        3252        3014   \n",
       "Telangana            3018        2795        2932        2751        2924   \n",
       "Bihar                2163        1860        1998        2087        2078   \n",
       "Rajasthan            1345        1345        1355        1407        1450   \n",
       "\n",
       "states         2020-08-31  \n",
       "state                      \n",
       "Uttar Pradesh        4782  \n",
       "Odisha               2602  \n",
       "Telangana            1873  \n",
       "Bihar                1324  \n",
       "Rajasthan             645  \n",
       "\n",
       "[5 rows x 62 columns]"
      ]
     },
     "execution_count": 18,
     "metadata": {},
     "output_type": "execute_result"
    }
   ],
   "source": [
    "#hide\n",
    "dft_ct_new_cases.head()"
   ]
  },
  {
   "cell_type": "code",
   "execution_count": 19,
   "metadata": {
    "execution": {
     "iopub.execute_input": "2020-08-31T12:22:22.197644Z",
     "iopub.status.busy": "2020-08-31T12:22:22.187278Z",
     "iopub.status.idle": "2020-08-31T12:22:25.174932Z",
     "shell.execute_reply": "2020-08-31T12:22:25.175417Z"
    },
    "papermill": {
     "duration": 3.019533,
     "end_time": "2020-08-31T12:22:25.175576",
     "exception": false,
     "start_time": "2020-08-31T12:22:22.156043",
     "status": "completed"
    },
    "tags": []
   },
   "outputs": [
    {
     "data": {
      "image/png": "[encoded data removed]",
      "text/plain": [
       "<Figure size 1296x2016 with 11 Axes>"
      ]
     },
     "metadata": {
      "needs_background": "light"
     },
     "output_type": "display_data"
    }
   ],
   "source": [
    "#hide_input\n",
    "df = dft_ct_new_cases.copy()\n",
    "df.loc['Total'] = df.sum()\n",
    "n = 5\n",
    "ax = []\n",
    "fig = plt.figure(figsize = (18,28))\n",
    "gs = fig.add_gridspec(n+2, 5)\n",
    "# gs = fig.add_gridspec(2, 3)\n",
    "ax1 = fig.add_subplot(gs[0, :])\n",
    "ef = df.loc['Total'].rename_axis('date').reset_index()\n",
    "ef['date'] = ef['date'].astype('datetime64[ns]')\n",
    "ax1.bar(ef.date,ef.Total,alpha=0.3,color='#007acc')\n",
    "ax1.plot(ef.date,ef.Total , marker=\"o\", color='#007acc')\n",
    "ax1.xaxis.set_major_locator(mdates.WeekdayLocator())\n",
    "ax1.xaxis.set_major_formatter(mdates.DateFormatter('%b %d'))\n",
    "ax1.text(0.02, 0.5,'India daily case count', transform = ax1.transAxes, fontsize=25);\n",
    "ax1.spines['right'].set_visible(False)\n",
    "ax1.spines['top'].set_visible(False)\n",
    "\n",
    "ax2 = fig.add_subplot(gs[1,0])\n",
    "ef = df.loc['Maharashtra'].rename_axis('date').reset_index()\n",
    "ef['date'] = ef['date'].astype('datetime64[ns]')\n",
    "\n",
    "ax2.bar(ef.date, ef.Maharashtra,color = '#007acc',alpha=0.5)\n",
    "ax2.xaxis.set_major_locator(mdates.WeekdayLocator())\n",
    "ax2.xaxis.set_major_formatter(mdates.DateFormatter('%b %d'))\n",
    "ax2.set_xticks(ax2.get_xticks()[::3])\n",
    "maxyval = ef.Maharashtra.max()\n",
    "ax2.set_ylim([0,maxyval])\n",
    "ax2.text(0.05, 0.9,'Maharashtra', transform = ax2.transAxes, fontsize=20);\n",
    "ax2.spines['right'].set_visible(False)\n",
    "ax2.spines['top'].set_visible(False)\n",
    "\n",
    "\n",
    "ax3 = fig.add_subplot(gs[1,1])\n",
    "ef = df.loc['Tamil Nadu'].rename_axis('date').reset_index()\n",
    "ef['date'] = ef['date'].astype('datetime64[ns]')\n",
    "ax3.bar(ef.date, ef['Tamil Nadu'],color = '#007acc',alpha=0.5,)\n",
    "ax3.xaxis.set_major_locator(mdates.WeekdayLocator())\n",
    "ax3.xaxis.set_major_formatter(mdates.DateFormatter('%b %d'))\n",
    "ax3.set_xticks(ax3.get_xticks()[::3])\n",
    "ax3.text(0.05, 0.9,'Tamil Nadu', transform = ax3.transAxes, fontsize=20);\n",
    "ax3.spines['right'].set_visible(False)\n",
    "ax3.spines['top'].set_visible(False)\n",
    "\n",
    "ax5 = fig.add_subplot(gs[1,3])\n",
    "ef = df.loc['Telangana'].rename_axis('date').reset_index()\n",
    "ef['date'] = ef['date'].astype('datetime64[ns]')\n",
    "ax5.bar(ef.date, ef['Telangana'],color = '#007acc',alpha=0.5,)\n",
    "ax5.xaxis.set_major_locator(mdates.WeekdayLocator())\n",
    "ax5.xaxis.set_major_formatter(mdates.DateFormatter('%b %d'))\n",
    "ax5.set_xticks(ax5.get_xticks()[::3])\n",
    "ax5.text(0.05, 0.9,'Telangana', transform = ax5.transAxes, fontsize=20);\n",
    "ax5.spines['right'].set_visible(False)\n",
    "ax5.spines['top'].set_visible(False)\n",
    "\n",
    "ax6 = fig.add_subplot(gs[1,4])\n",
    "ef = df.loc['Andhra Pradesh'].rename_axis('date').reset_index()\n",
    "ef['date'] = ef['date'].astype('datetime64[ns]')\n",
    "ax6.bar(ef.date, ef['Andhra Pradesh'],color = '#007acc',alpha=0.5,)\n",
    "ax6.xaxis.set_major_locator(mdates.WeekdayLocator())\n",
    "ax6.xaxis.set_major_formatter(mdates.DateFormatter('%b %d'))\n",
    "ax6.set_xticks(ax6.get_xticks()[::3])\n",
    "ax6.text(0.05, 1,'Andhra Pradesh', transform = ax6.transAxes, fontsize=20);\n",
    "ax6.spines['right'].set_visible(False)\n",
    "ax6.spines['top'].set_visible(False)\n",
    "\n",
    "ax4 = fig.add_subplot(gs[1,2])\n",
    "ef = df.loc['Delhi'].rename_axis('date').reset_index()\n",
    "ef['date'] = ef['date'].astype('datetime64[ns]')\n",
    "ax4.bar(ef.date, ef.Delhi,color = '#007acc',alpha=0.5)\n",
    "ax4.set_xticks([])\n",
    "ax4.xaxis.set_major_locator(mdates.WeekdayLocator())\n",
    "ax4.xaxis.set_major_formatter(mdates.DateFormatter('%b %d'))\n",
    "ax4.set_xticks(ax4.get_xticks()[::3])\n",
    "ax4.spines['right'].set_visible(False)\n",
    "ax4.spines['top'].set_visible(False)\n",
    "\n",
    "ax4.text(0.05, 1,'Delhi', transform = ax4.transAxes, fontsize=20)\n",
    "\n",
    "for i in range(n):\n",
    "    \n",
    "    ax.append(fig.add_subplot(gs[i+2,:]))\n",
    "    ef = df.iloc[i+3].rename_axis('date').reset_index()\n",
    "    ef['date'] = ef['date'].astype('datetime64[ns]')\n",
    "    ax[i].bar(ef.date,ef.iloc[:,-1],color = '#007acc',alpha=0.3)\n",
    "    ax[i].plot(ef.date,ef.iloc[:,-1],marker='o',color='#007acc')\n",
    "    ax[i].text(0.02,0.5,f'{ef.columns.values[-1]}',transform = ax[i].transAxes, fontsize = 20);\n",
    "    ax[i].xaxis.set_major_locator(mdates.WeekdayLocator())\n",
    "    ax[i].xaxis.set_major_formatter(mdates.DateFormatter('%b %d'))\n",
    "    ax[i].set_ylim([0,7000])\n",
    "    ax[i].spines['right'].set_visible(False)\n",
    "    ax[i].spines['top'].set_visible(False)\n",
    "plt.tight_layout()\n"
   ]
  },
  {
   "cell_type": "code",
   "execution_count": 20,
   "metadata": {
    "execution": {
     "iopub.execute_input": "2020-08-31T12:22:25.232797Z",
     "iopub.status.busy": "2020-08-31T12:22:25.232159Z",
     "iopub.status.idle": "2020-08-31T12:22:25.234417Z",
     "shell.execute_reply": "2020-08-31T12:22:25.234904Z"
    },
    "papermill": {
     "duration": 0.036258,
     "end_time": "2020-08-31T12:22:25.235078",
     "exception": false,
     "start_time": "2020-08-31T12:22:25.198820",
     "status": "completed"
    },
    "tags": []
   },
   "outputs": [
    {
     "name": "stdout",
     "output_type": "stream",
     "text": [
      "                                   states   Cases  Deaths  PCases  PDeaths  Cases (+)  Deaths (+)  Fatality Rate\n",
      "                              Maharashtra  780689   24399  780689    24399          0           0           3.13\n",
      "                           Andhra Pradesh  424767    3884  424767     3884          0           0           0.91\n",
      "                               Tamil Nadu  422085    7231  422085     7231          0           0           1.71\n",
      "                                Karnataka  335928    5589  335928     5589          0           0           1.66\n",
      "                            Uttar Pradesh  230414    3486  225632     3423       4782          63           1.51\n",
      "                                    Delhi  173390    4426  173390     4426          0           0           2.55\n",
      "                              West Bengal  159785    3176  159785     3176          0           0           1.99\n",
      "                                    Bihar  136337     694  135013      688       1324           6           0.51\n",
      "                                Telangana  124963     827  123090      818       1873           9           0.66\n",
      "                                    Assam  105775     296  105775      296          0           0           0.28\n",
      "                                   Odisha  103536     545  100934      535       2602          10           0.53\n",
      "                                  Gujarat   95155    3006   95155     3006          0           0           3.16\n",
      "                                Rajasthan   80872    1048   80227     1043        645           5           1.30\n",
      "                                   Kerala   73855     288   73855      288          0           0           0.39\n",
      "                                  Haryana   63282     682   63282      682          0           0           1.08\n",
      "                           Madhya Pradesh   62433    1374   62433     1374          0           0           2.20\n",
      "                                   Punjab   52526    1404   52526     1404          0           0           2.67\n",
      "                                Jharkhand   38435     410   38435      410          0           0           1.07\n",
      "                        Jammu and Kashmir   37163     694   37163      694          0           0           1.87\n",
      "                             Chhattisgarh   30092     269   30092      269          0           0           0.89\n",
      "                              Uttarakhand   19235     257   19235      257          0           0           1.34\n",
      "                                      Goa   17004     183   17004      183          0           0           1.08\n",
      "                               Puducherry   14127     221   14127      221          0           0           1.56\n",
      "                                  Tripura   11644     103   11323       98        321           5           0.88\n",
      "                                  Manipur    6112      28    6112       28          0           0           0.46\n",
      "                         Himachal Pradesh    5945      34    5945       34          0           0           0.57\n",
      "                               Chandigarh    4155      52    4155       52          0           0           1.25\n",
      "                        Arunachal Pradesh    4034       7    4034        7          0           0           0.17\n",
      "                                 Nagaland    3950       8    3922        8         28           0           0.20\n",
      "              Andaman and Nicobar Islands    3104      45    3104       45          0           0           1.45\n",
      "                                   Ladakh    2638      34    2638       34          0           0           1.29\n",
      "                                Meghalaya    2343      10    2343       10          0           0           0.43\n",
      " Dadra and Nagar Haveli and Daman and Diu    2340       2    2340        2          0           0           0.09\n",
      "                                   Sikkim    1627       3    1627        3          0           0           0.18\n",
      "                                  Mizoram    1011       0    1008        0          3           0           0.00\n",
      "                              Lakshadweep       0       0       0        0          0           0            NaN\n"
     ]
    }
   ],
   "source": [
    "#hide_input\n",
    "print(df_table.to_string(index=False))"
   ]
  },
  {
   "cell_type": "code",
   "execution_count": null,
   "metadata": {
    "papermill": {
     "duration": 0.023052,
     "end_time": "2020-08-31T12:22:25.281133",
     "exception": false,
     "start_time": "2020-08-31T12:22:25.258081",
     "status": "completed"
    },
    "tags": []
   },
   "outputs": [],
   "source": []
  },
  {
   "cell_type": "code",
   "execution_count": null,
   "metadata": {
    "papermill": {
     "duration": 0.023249,
     "end_time": "2020-08-31T12:22:25.327449",
     "exception": false,
     "start_time": "2020-08-31T12:22:25.304200",
     "status": "completed"
    },
    "tags": []
   },
   "outputs": [],
   "source": []
  }
 ],
 "metadata": {
  "kernelspec": {
   "display_name": "Python 3",
   "language": "python",
   "name": "python3"
  },
  "language_info": {
   "codemirror_mode": {
    "name": "ipython",
    "version": 3
   },
   "file_extension": ".py",
   "mimetype": "text/x-python",
   "name": "python",
   "nbconvert_exporter": "python",
   "pygments_lexer": "ipython3",
   "version": "3.6.11"
  },
  "papermill": {
   "duration": 9.139654,
   "end_time": "2020-08-31T12:22:25.760812",
   "environment_variables": {},
   "exception": null,
   "input_path": "latest.ipynb",
   "output_path": "latest.ipynb",
   "parameters": {},
   "start_time": "2020-08-31T12:22:16.621158",
   "version": "2.1.2"
  }
 },
 "nbformat": 4,
 "nbformat_minor": 4
}