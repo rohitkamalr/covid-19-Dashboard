{
 "cells": [
  {
   "cell_type": "markdown",
   "metadata": {
    "papermill": {
     "duration": 0.023298,
     "end_time": "2020-08-27T05:51:38.194095",
     "exception": false,
     "start_time": "2020-08-27T05:51:38.170797",
     "status": "completed"
    },
    "tags": []
   },
   "source": [
    "# Latest COVID-19 India Matplotlib Overview"
   ]
  },
  {
   "cell_type": "code",
   "execution_count": 1,
   "metadata": {
    "execution": {
     "iopub.execute_input": "2020-08-27T05:51:38.233581Z",
     "iopub.status.busy": "2020-08-27T05:51:38.232978Z",
     "iopub.status.idle": "2020-08-27T05:51:38.905484Z",
     "shell.execute_reply": "2020-08-27T05:51:38.904363Z"
    },
    "papermill": {
     "duration": 0.695005,
     "end_time": "2020-08-27T05:51:38.905653",
     "exception": false,
     "start_time": "2020-08-27T05:51:38.210648",
     "status": "completed"
    },
    "tags": []
   },
   "outputs": [],
   "source": [
    "#hide\n",
    "import pandas as pd\n",
    "import numpy as np\n",
    "import requests\n",
    "import json\n",
    "import matplotlib.pyplot as plt\n",
    "import matplotlib.dates as mdates\n",
    "import matplotlib as mpl\n",
    "from IPython.core.display import display,HTML\n",
    "%matplotlib inline\n",
    "from datetime import date"
   ]
  },
  {
   "cell_type": "code",
   "execution_count": 2,
   "metadata": {
    "execution": {
     "iopub.execute_input": "2020-08-27T05:51:39.470393Z",
     "iopub.status.busy": "2020-08-27T05:51:39.469722Z",
     "iopub.status.idle": "2020-08-27T05:51:39.704479Z",
     "shell.execute_reply": "2020-08-27T05:51:39.705352Z"
    },
    "papermill": {
     "duration": 0.783497,
     "end_time": "2020-08-27T05:51:39.705524",
     "exception": false,
     "start_time": "2020-08-27T05:51:38.922027",
     "status": "completed"
    },
    "tags": []
   },
   "outputs": [],
   "source": [
    "#hide\n",
    "df  = pd.read_csv('https://api.covid19india.org/csv/latest/states.csv')\n",
    "df = df[['Date','State','Confirmed','Deceased']]\n",
    "df = df.rename(columns={'Confirmed':'Cases', \"Deceased\":'Deaths'})\n",
    "df_cases = df[[\"Date\",'State','Cases']]\n",
    "df_deaths = df[['Date','State','Deaths']]\n",
    "df_cases1 = df_cases.groupby('Date')\n",
    "df_deaths1= df_deaths.groupby('Date')"
   ]
  },
  {
   "cell_type": "code",
   "execution_count": 3,
   "metadata": {
    "execution": {
     "iopub.execute_input": "2020-08-27T05:51:40.364957Z",
     "iopub.status.busy": "2020-08-27T05:51:40.364250Z",
     "iopub.status.idle": "2020-08-27T05:51:40.386739Z",
     "shell.execute_reply": "2020-08-27T05:51:40.385213Z"
    },
    "papermill": {
     "duration": 0.531935,
     "end_time": "2020-08-27T05:51:40.386887",
     "exception": false,
     "start_time": "2020-08-27T05:51:39.854952",
     "status": "completed"
    },
    "tags": []
   },
   "outputs": [],
   "source": [
    "#hide\n",
    "df_snap = pd.read_csv('data/SnapshotCases-28-July.csv')\n",
    "arr_states = df_snap['states'].unique()\n",
    "arr_dates = df['Date'].unique()\n",
    "df_snap = df_snap.set_index('states')"
   ]
  },
  {
   "cell_type": "code",
   "execution_count": 4,
   "metadata": {
    "execution": {
     "iopub.execute_input": "2020-08-27T05:51:40.518090Z",
     "iopub.status.busy": "2020-08-27T05:51:40.517113Z",
     "iopub.status.idle": "2020-08-27T05:51:40.520366Z",
     "shell.execute_reply": "2020-08-27T05:51:40.520947Z"
    },
    "papermill": {
     "duration": 0.109356,
     "end_time": "2020-08-27T05:51:40.521106",
     "exception": false,
     "start_time": "2020-08-27T05:51:40.411750",
     "status": "completed"
    },
    "tags": []
   },
   "outputs": [
    {
     "data": {
      "text/plain": [
       "array(['Andaman and Nicobar Islands', 'Andhra Pradesh',\n",
       "       'Arunachal Pradesh', 'Assam', 'Bihar', 'Chandigarh',\n",
       "       'Dadra and Nagar Haveli and Daman and Diu', 'Delhi', 'Goa',\n",
       "       'Gujarat', 'Haryana', 'Himachal Pradesh', 'Jammu and Kashmir',\n",
       "       'Jharkhand', 'Karnataka', 'Kerala', 'Lakshadweep',\n",
       "       'Madhya Pradesh', 'Maharashtra', 'Manipur', 'Meghalaya', 'Mizoram',\n",
       "       'Nagaland', 'Odisha', 'Puducherry', 'Punjab', 'Rajasthan',\n",
       "       'Sikkim', 'Tamil Nadu', 'Telangana', 'Tripura', 'Uttar Pradesh',\n",
       "       'West Bengal', 'Chhattisgarh', 'Ladakh', 'Uttarakhand'],\n",
       "      dtype=object)"
      ]
     },
     "execution_count": 4,
     "metadata": {},
     "output_type": "execute_result"
    }
   ],
   "source": [
    "#hide\n",
    "arr_states[-9] = 'Puducherry'\n",
    "arr_states[-10] = 'Odisha'\n",
    "arr_states[6] = 'Dadra and Nagar Haveli and Daman and Diu'\n",
    "arr_states = np.append(arr_states,np.array(['Chhattisgarh','Ladakh','Uttarakhand']))\n",
    "arr_states"
   ]
  },
  {
   "cell_type": "code",
   "execution_count": 5,
   "metadata": {
    "execution": {
     "iopub.execute_input": "2020-08-27T05:51:40.579467Z",
     "iopub.status.busy": "2020-08-27T05:51:40.578731Z",
     "iopub.status.idle": "2020-08-27T05:51:40.590254Z",
     "shell.execute_reply": "2020-08-27T05:51:40.589480Z"
    },
    "papermill": {
     "duration": 0.036562,
     "end_time": "2020-08-27T05:51:40.590400",
     "exception": false,
     "start_time": "2020-08-27T05:51:40.553838",
     "status": "completed"
    },
    "tags": []
   },
   "outputs": [],
   "source": [
    "#hide\n",
    "dates = []\n",
    "for i in arr_dates:\n",
    "    if i>='2020-07-01':\n",
    "        dates.append(i)\n",
    "dict = {'states':dates}\n",
    "for i in arr_states:\n",
    "    dict[i] = [0]*len(dates)\n",
    "dft_cases = pd.DataFrame(dict)\n",
    "dft_deaths = pd.DataFrame(dict)\n"
   ]
  },
  {
   "cell_type": "code",
   "execution_count": 6,
   "metadata": {
    "execution": {
     "iopub.execute_input": "2020-08-27T05:51:40.629139Z",
     "iopub.status.busy": "2020-08-27T05:51:40.628510Z",
     "iopub.status.idle": "2020-08-27T05:51:41.496061Z",
     "shell.execute_reply": "2020-08-27T05:51:41.495512Z"
    },
    "papermill": {
     "duration": 0.888649,
     "end_time": "2020-08-27T05:51:41.496196",
     "exception": false,
     "start_time": "2020-08-27T05:51:40.607547",
     "status": "completed"
    },
    "tags": []
   },
   "outputs": [],
   "source": [
    "#hide\n",
    "for i in range(len(dates)):\n",
    "    df1_deaths = df_deaths1.get_group(dates[i])\n",
    "    for j in range(len(df1_deaths.index)):\n",
    "        if df1_deaths.iloc[j,1] in arr_states:\n",
    "            dft_deaths.loc[i,df1_deaths.iloc[j,1]] = df1_deaths.iloc[j,2]\n",
    "dft_deaths = dft_deaths.set_index('states')"
   ]
  },
  {
   "cell_type": "code",
   "execution_count": 7,
   "metadata": {
    "execution": {
     "iopub.execute_input": "2020-08-27T05:51:41.546220Z",
     "iopub.status.busy": "2020-08-27T05:51:41.545446Z",
     "iopub.status.idle": "2020-08-27T05:51:42.399197Z",
     "shell.execute_reply": "2020-08-27T05:51:42.398672Z"
    },
    "papermill": {
     "duration": 0.886414,
     "end_time": "2020-08-27T05:51:42.399339",
     "exception": false,
     "start_time": "2020-08-27T05:51:41.512925",
     "status": "completed"
    },
    "tags": []
   },
   "outputs": [],
   "source": [
    "#hide\n",
    "for i in range(len(dates)):\n",
    "    df1_cases = df_cases1.get_group(dates[i])\n",
    "    for j in range(len(df1_cases.index)):\n",
    "        if df1_cases.iloc[j,1] in arr_states:\n",
    "            dft_cases.loc[i,df1_cases.iloc[j,1]] = df1_cases.iloc[j,2]\n",
    "dft_cases = dft_cases.set_index('states')"
   ]
  },
  {
   "cell_type": "code",
   "execution_count": 8,
   "metadata": {
    "execution": {
     "iopub.execute_input": "2020-08-27T05:51:42.439571Z",
     "iopub.status.busy": "2020-08-27T05:51:42.438955Z",
     "iopub.status.idle": "2020-08-27T05:51:42.441295Z",
     "shell.execute_reply": "2020-08-27T05:51:42.441736Z"
    },
    "papermill": {
     "duration": 0.025153,
     "end_time": "2020-08-27T05:51:42.441883",
     "exception": false,
     "start_time": "2020-08-27T05:51:42.416730",
     "status": "completed"
    },
    "tags": []
   },
   "outputs": [],
   "source": [
    "#hide\n",
    "dft_cases = dft_cases.T\n",
    "dft_deaths = dft_deaths.T\n",
    "dt_today = dates[-1]\n",
    "dt_yday = dates[-2]"
   ]
  },
  {
   "cell_type": "code",
   "execution_count": 9,
   "metadata": {
    "execution": {
     "iopub.execute_input": "2020-08-27T05:51:42.483030Z",
     "iopub.status.busy": "2020-08-27T05:51:42.482424Z",
     "iopub.status.idle": "2020-08-27T05:51:42.485190Z",
     "shell.execute_reply": "2020-08-27T05:51:42.484521Z"
    },
    "papermill": {
     "duration": 0.027664,
     "end_time": "2020-08-27T05:51:42.485322",
     "exception": false,
     "start_time": "2020-08-27T05:51:42.457658",
     "status": "completed"
    },
    "tags": []
   },
   "outputs": [],
   "source": [
    "#hide\n",
    "dft_cases = dft_cases.reset_index()\n",
    "dft_deaths = dft_deaths.reset_index()\n",
    "dft_cases = dft_cases.rename(columns = {'index':'state'})\n",
    "dft_deaths = dft_deaths.rename(columns = {'index':'state'})"
   ]
  },
  {
   "cell_type": "code",
   "execution_count": 10,
   "metadata": {
    "execution": {
     "iopub.execute_input": "2020-08-27T05:51:42.530793Z",
     "iopub.status.busy": "2020-08-27T05:51:42.530112Z",
     "iopub.status.idle": "2020-08-27T05:51:42.534455Z",
     "shell.execute_reply": "2020-08-27T05:51:42.533983Z"
    },
    "papermill": {
     "duration": 0.03265,
     "end_time": "2020-08-27T05:51:42.534591",
     "exception": false,
     "start_time": "2020-08-27T05:51:42.501941",
     "status": "completed"
    },
    "tags": []
   },
   "outputs": [],
   "source": [
    "#hide\n",
    "dfc_cases = dft_cases.groupby('state')[dt_today].sum()\n",
    "dfc_deaths = dft_deaths.groupby('state')[dt_today].sum()\n",
    "dfp_cases = dft_cases.groupby('state')[dt_yday].sum()\n",
    "dfp_deaths = dft_deaths.groupby('state')[dt_yday].sum()"
   ]
  },
  {
   "cell_type": "code",
   "execution_count": 11,
   "metadata": {
    "execution": {
     "iopub.execute_input": "2020-08-27T05:51:42.576242Z",
     "iopub.status.busy": "2020-08-27T05:51:42.573946Z",
     "iopub.status.idle": "2020-08-27T05:51:42.592386Z",
     "shell.execute_reply": "2020-08-27T05:51:42.591811Z"
    },
    "papermill": {
     "duration": 0.04101,
     "end_time": "2020-08-27T05:51:42.592538",
     "exception": false,
     "start_time": "2020-08-27T05:51:42.551528",
     "status": "completed"
    },
    "tags": []
   },
   "outputs": [
    {
     "data": {
      "text/html": [
       "<div>\n",
       "<style scoped>\n",
       "    .dataframe tbody tr th:only-of-type {\n",
       "        vertical-align: middle;\n",
       "    }\n",
       "\n",
       "    .dataframe tbody tr th {\n",
       "        vertical-align: top;\n",
       "    }\n",
       "\n",
       "    .dataframe thead th {\n",
       "        text-align: right;\n",
       "    }\n",
       "</style>\n",
       "<table border=\"1\" class=\"dataframe\">\n",
       "  <thead>\n",
       "    <tr style=\"text-align: right;\">\n",
       "      <th></th>\n",
       "      <th>states</th>\n",
       "      <th>Cases</th>\n",
       "      <th>Deaths</th>\n",
       "      <th>PCases</th>\n",
       "      <th>PDeaths</th>\n",
       "    </tr>\n",
       "  </thead>\n",
       "  <tbody>\n",
       "    <tr>\n",
       "      <th>0</th>\n",
       "      <td>Maharashtra</td>\n",
       "      <td>718711</td>\n",
       "      <td>23089</td>\n",
       "      <td>718711</td>\n",
       "      <td>23089</td>\n",
       "    </tr>\n",
       "    <tr>\n",
       "      <th>1</th>\n",
       "      <td>Tamil Nadu</td>\n",
       "      <td>397261</td>\n",
       "      <td>6839</td>\n",
       "      <td>397261</td>\n",
       "      <td>6839</td>\n",
       "    </tr>\n",
       "    <tr>\n",
       "      <th>2</th>\n",
       "      <td>Andhra Pradesh</td>\n",
       "      <td>382469</td>\n",
       "      <td>3541</td>\n",
       "      <td>382469</td>\n",
       "      <td>3541</td>\n",
       "    </tr>\n",
       "    <tr>\n",
       "      <th>3</th>\n",
       "      <td>Karnataka</td>\n",
       "      <td>300406</td>\n",
       "      <td>5091</td>\n",
       "      <td>300406</td>\n",
       "      <td>5091</td>\n",
       "    </tr>\n",
       "    <tr>\n",
       "      <th>4</th>\n",
       "      <td>Uttar Pradesh</td>\n",
       "      <td>203028</td>\n",
       "      <td>3141</td>\n",
       "      <td>203028</td>\n",
       "      <td>3141</td>\n",
       "    </tr>\n",
       "  </tbody>\n",
       "</table>\n",
       "</div>"
      ],
      "text/plain": [
       "           states   Cases  Deaths  PCases  PDeaths\n",
       "0     Maharashtra  718711   23089  718711    23089\n",
       "1      Tamil Nadu  397261    6839  397261     6839\n",
       "2  Andhra Pradesh  382469    3541  382469     3541\n",
       "3       Karnataka  300406    5091  300406     5091\n",
       "4   Uttar Pradesh  203028    3141  203028     3141"
      ]
     },
     "execution_count": 11,
     "metadata": {},
     "output_type": "execute_result"
    }
   ],
   "source": [
    "#hide\n",
    "df_table = pd.DataFrame({'states': dfc_cases.index, 'Cases': dfc_cases.values, 'Deaths': dfc_deaths.values, 'PCases': dfp_cases.values, 'PDeaths': dfp_deaths.values}).set_index('states')\n",
    "df_table = df_table.sort_values(by = ['Cases','Deaths'], ascending = [False, False])\n",
    "df_table = df_table.reset_index()\n",
    "df_table.head()"
   ]
  },
  {
   "cell_type": "code",
   "execution_count": 12,
   "metadata": {
    "execution": {
     "iopub.execute_input": "2020-08-27T05:51:42.635423Z",
     "iopub.status.busy": "2020-08-27T05:51:42.634803Z",
     "iopub.status.idle": "2020-08-27T05:51:42.646287Z",
     "shell.execute_reply": "2020-08-27T05:51:42.646978Z"
    },
    "papermill": {
     "duration": 0.036702,
     "end_time": "2020-08-27T05:51:42.647151",
     "exception": false,
     "start_time": "2020-08-27T05:51:42.610449",
     "status": "completed"
    },
    "tags": []
   },
   "outputs": [],
   "source": [
    "#hide\n",
    "for c in 'Cases, Deaths'.split(', '):\n",
    "    df_table[f'{c} (+)'] = (df_table[c] - df_table[f'P{c}']).clip(0)\n",
    "df_table['Fatality Rate'] = (100* df_table['Deaths']/ df_table['Cases']).round(2)"
   ]
  },
  {
   "cell_type": "code",
   "execution_count": 13,
   "metadata": {
    "execution": {
     "iopub.execute_input": "2020-08-27T05:51:42.693038Z",
     "iopub.status.busy": "2020-08-27T05:51:42.692335Z",
     "iopub.status.idle": "2020-08-27T05:51:42.694960Z",
     "shell.execute_reply": "2020-08-27T05:51:42.695700Z"
    },
    "papermill": {
     "duration": 0.031708,
     "end_time": "2020-08-27T05:51:42.695851",
     "exception": false,
     "start_time": "2020-08-27T05:51:42.664143",
     "status": "completed"
    },
    "tags": []
   },
   "outputs": [
    {
     "data": {
      "text/html": [
       "<div>\n",
       "<style scoped>\n",
       "    .dataframe tbody tr th:only-of-type {\n",
       "        vertical-align: middle;\n",
       "    }\n",
       "\n",
       "    .dataframe tbody tr th {\n",
       "        vertical-align: top;\n",
       "    }\n",
       "\n",
       "    .dataframe thead th {\n",
       "        text-align: right;\n",
       "    }\n",
       "</style>\n",
       "<table border=\"1\" class=\"dataframe\">\n",
       "  <thead>\n",
       "    <tr style=\"text-align: right;\">\n",
       "      <th></th>\n",
       "      <th>states</th>\n",
       "      <th>Cases</th>\n",
       "      <th>Deaths</th>\n",
       "      <th>PCases</th>\n",
       "      <th>PDeaths</th>\n",
       "      <th>Cases (+)</th>\n",
       "      <th>Deaths (+)</th>\n",
       "      <th>Fatality Rate</th>\n",
       "    </tr>\n",
       "  </thead>\n",
       "  <tbody>\n",
       "    <tr>\n",
       "      <th>0</th>\n",
       "      <td>Maharashtra</td>\n",
       "      <td>718711</td>\n",
       "      <td>23089</td>\n",
       "      <td>718711</td>\n",
       "      <td>23089</td>\n",
       "      <td>0</td>\n",
       "      <td>0</td>\n",
       "      <td>3.21</td>\n",
       "    </tr>\n",
       "    <tr>\n",
       "      <th>1</th>\n",
       "      <td>Tamil Nadu</td>\n",
       "      <td>397261</td>\n",
       "      <td>6839</td>\n",
       "      <td>397261</td>\n",
       "      <td>6839</td>\n",
       "      <td>0</td>\n",
       "      <td>0</td>\n",
       "      <td>1.72</td>\n",
       "    </tr>\n",
       "    <tr>\n",
       "      <th>2</th>\n",
       "      <td>Andhra Pradesh</td>\n",
       "      <td>382469</td>\n",
       "      <td>3541</td>\n",
       "      <td>382469</td>\n",
       "      <td>3541</td>\n",
       "      <td>0</td>\n",
       "      <td>0</td>\n",
       "      <td>0.93</td>\n",
       "    </tr>\n",
       "    <tr>\n",
       "      <th>3</th>\n",
       "      <td>Karnataka</td>\n",
       "      <td>300406</td>\n",
       "      <td>5091</td>\n",
       "      <td>300406</td>\n",
       "      <td>5091</td>\n",
       "      <td>0</td>\n",
       "      <td>0</td>\n",
       "      <td>1.69</td>\n",
       "    </tr>\n",
       "    <tr>\n",
       "      <th>4</th>\n",
       "      <td>Uttar Pradesh</td>\n",
       "      <td>203028</td>\n",
       "      <td>3141</td>\n",
       "      <td>203028</td>\n",
       "      <td>3141</td>\n",
       "      <td>0</td>\n",
       "      <td>0</td>\n",
       "      <td>1.55</td>\n",
       "    </tr>\n",
       "  </tbody>\n",
       "</table>\n",
       "</div>"
      ],
      "text/plain": [
       "           states   Cases  Deaths  PCases  PDeaths  Cases (+)  Deaths (+)  \\\n",
       "0     Maharashtra  718711   23089  718711    23089          0           0   \n",
       "1      Tamil Nadu  397261    6839  397261     6839          0           0   \n",
       "2  Andhra Pradesh  382469    3541  382469     3541          0           0   \n",
       "3       Karnataka  300406    5091  300406     5091          0           0   \n",
       "4   Uttar Pradesh  203028    3141  203028     3141          0           0   \n",
       "\n",
       "   Fatality Rate  \n",
       "0           3.21  \n",
       "1           1.72  \n",
       "2           0.93  \n",
       "3           1.69  \n",
       "4           1.55  "
      ]
     },
     "execution_count": 13,
     "metadata": {},
     "output_type": "execute_result"
    }
   ],
   "source": [
    "#hide\n",
    "df_table.head()"
   ]
  },
  {
   "cell_type": "code",
   "execution_count": 14,
   "metadata": {
    "execution": {
     "iopub.execute_input": "2020-08-27T05:51:42.736524Z",
     "iopub.status.busy": "2020-08-27T05:51:42.735943Z",
     "iopub.status.idle": "2020-08-27T05:51:42.752050Z",
     "shell.execute_reply": "2020-08-27T05:51:42.751353Z"
    },
    "papermill": {
     "duration": 0.038087,
     "end_time": "2020-08-27T05:51:42.752185",
     "exception": false,
     "start_time": "2020-08-27T05:51:42.714098",
     "status": "completed"
    },
    "tags": []
   },
   "outputs": [
    {
     "data": {
      "text/plain": [
       "{'updated': '2020-08-27',\n",
       " 'since': '2020-08-26',\n",
       " 'Cases': 3310936,\n",
       " 'PCases': 3307749,\n",
       " 'Deaths': 60639,\n",
       " 'PDeaths': 60629,\n",
       " 'Cases (+)': 3187,\n",
       " 'Deaths (+)': 10}"
      ]
     },
     "execution_count": 14,
     "metadata": {},
     "output_type": "execute_result"
    }
   ],
   "source": [
    "#hide\n",
    "summary = {'updated':dates[-1], 'since':dates[-2]}\n",
    "list_names = ['Cases', 'PCases', 'Deaths', 'PDeaths', 'Cases (+)', 'Deaths (+)']\n",
    "for name in list_names:\n",
    "    summary[name] = df_table.sum()[name]\n",
    "summary"
   ]
  },
  {
   "cell_type": "code",
   "execution_count": 15,
   "metadata": {
    "execution": {
     "iopub.execute_input": "2020-08-27T05:51:42.792064Z",
     "iopub.status.busy": "2020-08-27T05:51:42.791401Z",
     "iopub.status.idle": "2020-08-27T05:51:42.794223Z",
     "shell.execute_reply": "2020-08-27T05:51:42.793639Z"
    },
    "papermill": {
     "duration": 0.024642,
     "end_time": "2020-08-27T05:51:42.794349",
     "exception": false,
     "start_time": "2020-08-27T05:51:42.769707",
     "status": "completed"
    },
    "tags": []
   },
   "outputs": [],
   "source": [
    "#hide\n",
    "overview = '''\n",
    "<!-- #######  HTML!! #########-->\n",
    "<h1 style=\"color: #5e9ca0; text-align: center;\">India</h1>\n",
    "<p style=\"text-align: center;\">Last update: <strong>{update}</strong></p>\n",
    "<p style=\"text-align: center;\">Confirmed cases:</p>\n",
    "<p style=\"text-align: center;font-size:24px;\">{cases} (<span style=\"color: #ff0000;\">+{new}</span>)</p>\n",
    "<p style=\"text-align: center;\">Confirmed deaths:</p>\n",
    "<p style=\"text-align: center;font-size:24px;\">{deaths} (<span style=\"color: #ff0000;\">+{dnew}</span>)</p>\n",
    "'''"
   ]
  },
  {
   "cell_type": "code",
   "execution_count": 16,
   "metadata": {
    "execution": {
     "iopub.execute_input": "2020-08-27T05:51:42.837163Z",
     "iopub.status.busy": "2020-08-27T05:51:42.836496Z",
     "iopub.status.idle": "2020-08-27T05:51:42.839621Z",
     "shell.execute_reply": "2020-08-27T05:51:42.839044Z"
    },
    "papermill": {
     "duration": 0.02762,
     "end_time": "2020-08-27T05:51:42.839743",
     "exception": false,
     "start_time": "2020-08-27T05:51:42.812123",
     "status": "completed"
    },
    "tags": []
   },
   "outputs": [
    {
     "data": {
      "text/html": [
       "\n",
       "<!-- #######  HTML!! #########-->\n",
       "<h1 style=\"color: #5e9ca0; text-align: center;\">India</h1>\n",
       "<p style=\"text-align: center;\">Last update: <strong>2020-08-27</strong></p>\n",
       "<p style=\"text-align: center;\">Confirmed cases:</p>\n",
       "<p style=\"text-align: center;font-size:24px;\">3310936 (<span style=\"color: #ff0000;\">+3187</span>)</p>\n",
       "<p style=\"text-align: center;\">Confirmed deaths:</p>\n",
       "<p style=\"text-align: center;font-size:24px;\">60639 (<span style=\"color: #ff0000;\">+10</span>)</p>\n"
      ],
      "text/plain": [
       "<IPython.core.display.HTML object>"
      ]
     },
     "metadata": {},
     "output_type": "display_data"
    }
   ],
   "source": [
    "#hide_input\n",
    "update = summary['updated']\n",
    "cases = summary['Cases']\n",
    "new = summary['Cases (+)']\n",
    "deaths = summary['Deaths']\n",
    "dnew = summary['Deaths (+)']\n",
    "\n",
    "html = HTML(overview.format(update=update, cases=cases,new=new,deaths=deaths,dnew=dnew))\n",
    "\n",
    "display(html)"
   ]
  },
  {
   "cell_type": "code",
   "execution_count": 17,
   "metadata": {
    "execution": {
     "iopub.execute_input": "2020-08-27T05:51:42.885107Z",
     "iopub.status.busy": "2020-08-27T05:51:42.884359Z",
     "iopub.status.idle": "2020-08-27T05:51:42.889025Z",
     "shell.execute_reply": "2020-08-27T05:51:42.889563Z"
    },
    "papermill": {
     "duration": 0.030438,
     "end_time": "2020-08-27T05:51:42.889701",
     "exception": false,
     "start_time": "2020-08-27T05:51:42.859263",
     "status": "completed"
    },
    "tags": []
   },
   "outputs": [],
   "source": [
    "#hide\n",
    "dt_cols = list(dft_cases.columns[1:])\n",
    "dft_ct_new_cases = dft_cases.groupby('state')[dt_cols].sum().diff(axis=1).fillna(0).astype(int)\n",
    "dft_ct_new_cases.sort_values(by = dates[-1], ascending = False,inplace = True)"
   ]
  },
  {
   "cell_type": "code",
   "execution_count": 18,
   "metadata": {
    "execution": {
     "iopub.execute_input": "2020-08-27T05:51:42.935820Z",
     "iopub.status.busy": "2020-08-27T05:51:42.935236Z",
     "iopub.status.idle": "2020-08-27T05:51:42.946866Z",
     "shell.execute_reply": "2020-08-27T05:51:42.946269Z"
    },
    "papermill": {
     "duration": 0.039521,
     "end_time": "2020-08-27T05:51:42.946990",
     "exception": false,
     "start_time": "2020-08-27T05:51:42.907469",
     "status": "completed"
    },
    "tags": []
   },
   "outputs": [
    {
     "data": {
      "text/html": [
       "<div>\n",
       "<style scoped>\n",
       "    .dataframe tbody tr th:only-of-type {\n",
       "        vertical-align: middle;\n",
       "    }\n",
       "\n",
       "    .dataframe tbody tr th {\n",
       "        vertical-align: top;\n",
       "    }\n",
       "\n",
       "    .dataframe thead th {\n",
       "        text-align: right;\n",
       "    }\n",
       "</style>\n",
       "<table border=\"1\" class=\"dataframe\">\n",
       "  <thead>\n",
       "    <tr style=\"text-align: right;\">\n",
       "      <th>states</th>\n",
       "      <th>2020-07-01</th>\n",
       "      <th>2020-07-02</th>\n",
       "      <th>2020-07-03</th>\n",
       "      <th>2020-07-04</th>\n",
       "      <th>2020-07-05</th>\n",
       "      <th>2020-07-06</th>\n",
       "      <th>2020-07-07</th>\n",
       "      <th>2020-07-08</th>\n",
       "      <th>2020-07-09</th>\n",
       "      <th>2020-07-10</th>\n",
       "      <th>...</th>\n",
       "      <th>2020-08-18</th>\n",
       "      <th>2020-08-19</th>\n",
       "      <th>2020-08-20</th>\n",
       "      <th>2020-08-21</th>\n",
       "      <th>2020-08-22</th>\n",
       "      <th>2020-08-23</th>\n",
       "      <th>2020-08-24</th>\n",
       "      <th>2020-08-25</th>\n",
       "      <th>2020-08-26</th>\n",
       "      <th>2020-08-27</th>\n",
       "    </tr>\n",
       "    <tr>\n",
       "      <th>state</th>\n",
       "      <th></th>\n",
       "      <th></th>\n",
       "      <th></th>\n",
       "      <th></th>\n",
       "      <th></th>\n",
       "      <th></th>\n",
       "      <th></th>\n",
       "      <th></th>\n",
       "      <th></th>\n",
       "      <th></th>\n",
       "      <th></th>\n",
       "      <th></th>\n",
       "      <th></th>\n",
       "      <th></th>\n",
       "      <th></th>\n",
       "      <th></th>\n",
       "      <th></th>\n",
       "      <th></th>\n",
       "      <th></th>\n",
       "      <th></th>\n",
       "      <th></th>\n",
       "    </tr>\n",
       "  </thead>\n",
       "  <tbody>\n",
       "    <tr>\n",
       "      <th>Telangana</th>\n",
       "      <td>0</td>\n",
       "      <td>1213</td>\n",
       "      <td>1892</td>\n",
       "      <td>1850</td>\n",
       "      <td>1590</td>\n",
       "      <td>1831</td>\n",
       "      <td>1879</td>\n",
       "      <td>1924</td>\n",
       "      <td>1410</td>\n",
       "      <td>1278</td>\n",
       "      <td>...</td>\n",
       "      <td>1682</td>\n",
       "      <td>1763</td>\n",
       "      <td>1724</td>\n",
       "      <td>1967</td>\n",
       "      <td>2474</td>\n",
       "      <td>2384</td>\n",
       "      <td>1842</td>\n",
       "      <td>2579</td>\n",
       "      <td>3018</td>\n",
       "      <td>2795</td>\n",
       "    </tr>\n",
       "    <tr>\n",
       "      <th>Tripura</th>\n",
       "      <td>0</td>\n",
       "      <td>39</td>\n",
       "      <td>93</td>\n",
       "      <td>25</td>\n",
       "      <td>23</td>\n",
       "      <td>111</td>\n",
       "      <td>24</td>\n",
       "      <td>57</td>\n",
       "      <td>16</td>\n",
       "      <td>142</td>\n",
       "      <td>...</td>\n",
       "      <td>205</td>\n",
       "      <td>236</td>\n",
       "      <td>190</td>\n",
       "      <td>256</td>\n",
       "      <td>280</td>\n",
       "      <td>331</td>\n",
       "      <td>200</td>\n",
       "      <td>293</td>\n",
       "      <td>329</td>\n",
       "      <td>385</td>\n",
       "    </tr>\n",
       "    <tr>\n",
       "      <th>Mizoram</th>\n",
       "      <td>0</td>\n",
       "      <td>2</td>\n",
       "      <td>0</td>\n",
       "      <td>2</td>\n",
       "      <td>22</td>\n",
       "      <td>11</td>\n",
       "      <td>1</td>\n",
       "      <td>5</td>\n",
       "      <td>0</td>\n",
       "      <td>23</td>\n",
       "      <td>...</td>\n",
       "      <td>26</td>\n",
       "      <td>45</td>\n",
       "      <td>14</td>\n",
       "      <td>21</td>\n",
       "      <td>8</td>\n",
       "      <td>15</td>\n",
       "      <td>0</td>\n",
       "      <td>35</td>\n",
       "      <td>14</td>\n",
       "      <td>7</td>\n",
       "    </tr>\n",
       "    <tr>\n",
       "      <th>Andaman and Nicobar Islands</th>\n",
       "      <td>0</td>\n",
       "      <td>9</td>\n",
       "      <td>7</td>\n",
       "      <td>3</td>\n",
       "      <td>6</td>\n",
       "      <td>16</td>\n",
       "      <td>6</td>\n",
       "      <td>2</td>\n",
       "      <td>7</td>\n",
       "      <td>0</td>\n",
       "      <td>...</td>\n",
       "      <td>84</td>\n",
       "      <td>75</td>\n",
       "      <td>76</td>\n",
       "      <td>67</td>\n",
       "      <td>61</td>\n",
       "      <td>52</td>\n",
       "      <td>44</td>\n",
       "      <td>41</td>\n",
       "      <td>40</td>\n",
       "      <td>0</td>\n",
       "    </tr>\n",
       "    <tr>\n",
       "      <th>Puducherry</th>\n",
       "      <td>0</td>\n",
       "      <td>63</td>\n",
       "      <td>22</td>\n",
       "      <td>80</td>\n",
       "      <td>42</td>\n",
       "      <td>65</td>\n",
       "      <td>30</td>\n",
       "      <td>110</td>\n",
       "      <td>49</td>\n",
       "      <td>72</td>\n",
       "      <td>...</td>\n",
       "      <td>367</td>\n",
       "      <td>356</td>\n",
       "      <td>540</td>\n",
       "      <td>302</td>\n",
       "      <td>518</td>\n",
       "      <td>410</td>\n",
       "      <td>337</td>\n",
       "      <td>567</td>\n",
       "      <td>504</td>\n",
       "      <td>0</td>\n",
       "    </tr>\n",
       "  </tbody>\n",
       "</table>\n",
       "<p>5 rows × 58 columns</p>\n",
       "</div>"
      ],
      "text/plain": [
       "states                       2020-07-01  2020-07-02  2020-07-03  2020-07-04  \\\n",
       "state                                                                         \n",
       "Telangana                             0        1213        1892        1850   \n",
       "Tripura                               0          39          93          25   \n",
       "Mizoram                               0           2           0           2   \n",
       "Andaman and Nicobar Islands           0           9           7           3   \n",
       "Puducherry                            0          63          22          80   \n",
       "\n",
       "states                       2020-07-05  2020-07-06  2020-07-07  2020-07-08  \\\n",
       "state                                                                         \n",
       "Telangana                          1590        1831        1879        1924   \n",
       "Tripura                              23         111          24          57   \n",
       "Mizoram                              22          11           1           5   \n",
       "Andaman and Nicobar Islands           6          16           6           2   \n",
       "Puducherry                           42          65          30         110   \n",
       "\n",
       "states                       2020-07-09  2020-07-10  ...  2020-08-18  \\\n",
       "state                                                ...               \n",
       "Telangana                          1410        1278  ...        1682   \n",
       "Tripura                              16         142  ...         205   \n",
       "Mizoram                               0          23  ...          26   \n",
       "Andaman and Nicobar Islands           7           0  ...          84   \n",
       "Puducherry                           49          72  ...         367   \n",
       "\n",
       "states                       2020-08-19  2020-08-20  2020-08-21  2020-08-22  \\\n",
       "state                                                                         \n",
       "Telangana                          1763        1724        1967        2474   \n",
       "Tripura                             236         190         256         280   \n",
       "Mizoram                              45          14          21           8   \n",
       "Andaman and Nicobar Islands          75          76          67          61   \n",
       "Puducherry                          356         540         302         518   \n",
       "\n",
       "states                       2020-08-23  2020-08-24  2020-08-25  2020-08-26  \\\n",
       "state                                                                         \n",
       "Telangana                          2384        1842        2579        3018   \n",
       "Tripura                             331         200         293         329   \n",
       "Mizoram                              15           0          35          14   \n",
       "Andaman and Nicobar Islands          52          44          41          40   \n",
       "Puducherry                          410         337         567         504   \n",
       "\n",
       "states                       2020-08-27  \n",
       "state                                    \n",
       "Telangana                          2795  \n",
       "Tripura                             385  \n",
       "Mizoram                               7  \n",
       "Andaman and Nicobar Islands           0  \n",
       "Puducherry                            0  \n",
       "\n",
       "[5 rows x 58 columns]"
      ]
     },
     "execution_count": 18,
     "metadata": {},
     "output_type": "execute_result"
    }
   ],
   "source": [
    "#hide\n",
    "dft_ct_new_cases.head()"
   ]
  },
  {
   "cell_type": "code",
   "execution_count": 19,
   "metadata": {
    "execution": {
     "iopub.execute_input": "2020-08-27T05:51:43.003403Z",
     "iopub.status.busy": "2020-08-27T05:51:42.998203Z",
     "iopub.status.idle": "2020-08-27T05:51:45.892511Z",
     "shell.execute_reply": "2020-08-27T05:51:45.892989Z"
    },
    "papermill": {
     "duration": 2.927103,
     "end_time": "2020-08-27T05:51:45.893152",
     "exception": false,
     "start_time": "2020-08-27T05:51:42.966049",
     "status": "completed"
    },
    "tags": []
   },
   "outputs": [
    {
     "data": {
      "image/png": "[encoded data removed]",
      "text/plain": [
       "<Figure size 1296x2016 with 11 Axes>"
      ]
     },
     "metadata": {
      "needs_background": "light"
     },
     "output_type": "display_data"
    }
   ],
   "source": [
    "#hide_input\n",
    "df = dft_ct_new_cases.copy()\n",
    "df.loc['Total'] = df.sum()\n",
    "n = 5\n",
    "ax = []\n",
    "fig = plt.figure(figsize = (18,28))\n",
    "gs = fig.add_gridspec(n+2, 5)\n",
    "# gs = fig.add_gridspec(2, 3)\n",
    "ax1 = fig.add_subplot(gs[0, :])\n",
    "ef = df.loc['Total'].rename_axis('date').reset_index()\n",
    "ef['date'] = ef['date'].astype('datetime64[ns]')\n",
    "ax1.bar(ef.date,ef.Total,alpha=0.3,color='#007acc')\n",
    "ax1.plot(ef.date,ef.Total , marker=\"o\", color='#007acc')\n",
    "ax1.xaxis.set_major_locator(mdates.WeekdayLocator())\n",
    "ax1.xaxis.set_major_formatter(mdates.DateFormatter('%b %d'))\n",
    "ax1.text(0.02, 0.5,'India daily case count', transform = ax1.transAxes, fontsize=25);\n",
    "ax1.spines['right'].set_visible(False)\n",
    "ax1.spines['top'].set_visible(False)\n",
    "\n",
    "ax2 = fig.add_subplot(gs[1,0])\n",
    "ef = df.loc['Maharashtra'].rename_axis('date').reset_index()\n",
    "ef['date'] = ef['date'].astype('datetime64[ns]')\n",
    "\n",
    "ax2.bar(ef.date, ef.Maharashtra,color = '#007acc',alpha=0.5)\n",
    "ax2.xaxis.set_major_locator(mdates.WeekdayLocator())\n",
    "ax2.xaxis.set_major_formatter(mdates.DateFormatter('%b %d'))\n",
    "ax2.set_xticks(ax2.get_xticks()[::3])\n",
    "maxyval = ef.Maharashtra.max()\n",
    "ax2.set_ylim([0,maxyval])\n",
    "ax2.text(0.05, 0.9,'Maharashtra', transform = ax2.transAxes, fontsize=20);\n",
    "ax2.spines['right'].set_visible(False)\n",
    "ax2.spines['top'].set_visible(False)\n",
    "\n",
    "\n",
    "ax3 = fig.add_subplot(gs[1,1])\n",
    "ef = df.loc['Tamil Nadu'].rename_axis('date').reset_index()\n",
    "ef['date'] = ef['date'].astype('datetime64[ns]')\n",
    "ax3.bar(ef.date, ef['Tamil Nadu'],color = '#007acc',alpha=0.5,)\n",
    "ax3.xaxis.set_major_locator(mdates.WeekdayLocator())\n",
    "ax3.xaxis.set_major_formatter(mdates.DateFormatter('%b %d'))\n",
    "ax3.set_xticks(ax3.get_xticks()[::3])\n",
    "ax3.text(0.05, 0.9,'Tamil Nadu', transform = ax3.transAxes, fontsize=20);\n",
    "ax3.spines['right'].set_visible(False)\n",
    "ax3.spines['top'].set_visible(False)\n",
    "\n",
    "ax5 = fig.add_subplot(gs[1,3])\n",
    "ef = df.loc['Telangana'].rename_axis('date').reset_index()\n",
    "ef['date'] = ef['date'].astype('datetime64[ns]')\n",
    "ax5.bar(ef.date, ef['Telangana'],color = '#007acc',alpha=0.5,)\n",
    "ax5.xaxis.set_major_locator(mdates.WeekdayLocator())\n",
    "ax5.xaxis.set_major_formatter(mdates.DateFormatter('%b %d'))\n",
    "ax5.set_xticks(ax5.get_xticks()[::3])\n",
    "ax5.text(0.05, 0.9,'Telangana', transform = ax5.transAxes, fontsize=20);\n",
    "ax5.spines['right'].set_visible(False)\n",
    "ax5.spines['top'].set_visible(False)\n",
    "\n",
    "ax6 = fig.add_subplot(gs[1,4])\n",
    "ef = df.loc['Andhra Pradesh'].rename_axis('date').reset_index()\n",
    "ef['date'] = ef['date'].astype('datetime64[ns]')\n",
    "ax6.bar(ef.date, ef['Andhra Pradesh'],color = '#007acc',alpha=0.5,)\n",
    "ax6.xaxis.set_major_locator(mdates.WeekdayLocator())\n",
    "ax6.xaxis.set_major_formatter(mdates.DateFormatter('%b %d'))\n",
    "ax6.set_xticks(ax6.get_xticks()[::3])\n",
    "ax6.text(0.05, 1,'Andhra Pradesh', transform = ax6.transAxes, fontsize=20);\n",
    "ax6.spines['right'].set_visible(False)\n",
    "ax6.spines['top'].set_visible(False)\n",
    "\n",
    "ax4 = fig.add_subplot(gs[1,2])\n",
    "ef = df.loc['Delhi'].rename_axis('date').reset_index()\n",
    "ef['date'] = ef['date'].astype('datetime64[ns]')\n",
    "ax4.bar(ef.date, ef.Delhi,color = '#007acc',alpha=0.5)\n",
    "ax4.set_xticks([])\n",
    "ax4.xaxis.set_major_locator(mdates.WeekdayLocator())\n",
    "ax4.xaxis.set_major_formatter(mdates.DateFormatter('%b %d'))\n",
    "ax4.set_xticks(ax4.get_xticks()[::3])\n",
    "ax4.spines['right'].set_visible(False)\n",
    "ax4.spines['top'].set_visible(False)\n",
    "\n",
    "ax4.text(0.05, 1,'Delhi', transform = ax4.transAxes, fontsize=20)\n",
    "\n",
    "for i in range(n):\n",
    "    \n",
    "    ax.append(fig.add_subplot(gs[i+2,:]))\n",
    "    ef = df.iloc[i+3].rename_axis('date').reset_index()\n",
    "    ef['date'] = ef['date'].astype('datetime64[ns]')\n",
    "    ax[i].bar(ef.date,ef.iloc[:,-1],color = '#007acc',alpha=0.3)\n",
    "    ax[i].plot(ef.date,ef.iloc[:,-1],marker='o',color='#007acc')\n",
    "    ax[i].text(0.02,0.5,f'{ef.columns.values[-1]}',transform = ax[i].transAxes, fontsize = 20);\n",
    "    ax[i].xaxis.set_major_locator(mdates.WeekdayLocator())\n",
    "    ax[i].xaxis.set_major_formatter(mdates.DateFormatter('%b %d'))\n",
    "    ax[i].set_ylim([0,7000])\n",
    "    ax[i].spines['right'].set_visible(False)\n",
    "    ax[i].spines['top'].set_visible(False)\n",
    "plt.tight_layout()\n"
   ]
  },
  {
   "cell_type": "code",
   "execution_count": 20,
   "metadata": {
    "execution": {
     "iopub.execute_input": "2020-08-27T05:51:46.316352Z",
     "iopub.status.busy": "2020-08-27T05:51:46.315098Z",
     "iopub.status.idle": "2020-08-27T05:51:46.330314Z",
     "shell.execute_reply": "2020-08-27T05:51:46.329338Z"
    },
    "papermill": {
     "duration": 0.408287,
     "end_time": "2020-08-27T05:51:46.330464",
     "exception": false,
     "start_time": "2020-08-27T05:51:45.922177",
     "status": "completed"
    },
    "tags": []
   },
   "outputs": [
    {
     "name": "stdout",
     "output_type": "stream",
     "text": [
      "                                   states   Cases  Deaths  PCases  PDeaths  Cases (+)  Deaths (+)  Fatality Rate\n",
      "                              Maharashtra  718711   23089  718711    23089          0           0           3.21\n",
      "                               Tamil Nadu  397261    6839  397261     6839          0           0           1.72\n",
      "                           Andhra Pradesh  382469    3541  382469     3541          0           0           0.93\n",
      "                                Karnataka  300406    5091  300406     5091          0           0           1.69\n",
      "                            Uttar Pradesh  203028    3141  203028     3141          0           0           1.55\n",
      "                                    Delhi  165764    4347  165764     4347          0           0           2.62\n",
      "                              West Bengal  147775    2964  147775     2964          0           0           2.01\n",
      "                                    Bihar  126990     653  126990      653          0           0           0.51\n",
      "                                Telangana  114483     788  111688      780       2795           8           0.69\n",
      "                                    Assam   96772     274   96772      274          0           0           0.28\n",
      "                                  Gujarat   90139    2945   90139     2945          0           0           3.27\n",
      "                                   Odisha   87602     494   87602      494          0           0           0.56\n",
      "                                Rajasthan   74670     992   74670      992          0           0           1.33\n",
      "                                   Kerala   64355     258   64355      258          0           0           0.40\n",
      "                                  Haryana   58005     634   58005      634          0           0           1.09\n",
      "                           Madhya Pradesh   56864    1282   56864     1282          0           0           2.25\n",
      "                                   Punjab   46090    1219   46090     1219          0           0           2.64\n",
      "                        Jammu and Kashmir   34480     657   34480      657          0           0           1.91\n",
      "                                Jharkhand   33311     362   33311      362          0           0           1.09\n",
      "                             Chhattisgarh   24550     231   24550      231          0           0           0.94\n",
      "                              Uttarakhand   16549     219   16549      219          0           0           1.32\n",
      "                                      Goa   15027     165   15027      165          0           0           1.10\n",
      "                               Puducherry   11930     180   11930      180          0           0           1.51\n",
      "                                  Tripura    9924      85    9539       83        385           2           0.86\n",
      "                                  Manipur    5585      25    5585       25          0           0           0.45\n",
      "                         Himachal Pradesh    5321      31    5321       31          0           0           0.58\n",
      "                                 Nagaland    3778       8    3778        8          0           0           0.21\n",
      "                        Arunachal Pradesh    3555       5    3555        5          0           0           0.14\n",
      "                               Chandigarh    3376      41    3376       41          0           0           1.21\n",
      "              Andaman and Nicobar Islands    2985      41    2985       41          0           0           1.37\n",
      "                                   Ladakh    2451      25    2451       25          0           0           1.02\n",
      " Dadra and Nagar Haveli and Daman and Diu    2220       2    2220        2          0           0           0.09\n",
      "                                Meghalaya    2050       8    2050        8          0           0           0.39\n",
      "                                   Sikkim    1486       3    1486        3          0           0           0.20\n",
      "                                  Mizoram     974       0     967        0          7           0           0.00\n",
      "                              Lakshadweep       0       0       0        0          0           0            NaN\n"
     ]
    }
   ],
   "source": [
    "#hide_input\n",
    "print(df_table.to_string(index=False))"
   ]
  },
  {
   "cell_type": "code",
   "execution_count": null,
   "metadata": {
    "papermill": {
     "duration": 0.455044,
     "end_time": "2020-08-27T05:51:47.010371",
     "exception": false,
     "start_time": "2020-08-27T05:51:46.555327",
     "status": "completed"
    },
    "tags": []
   },
   "outputs": [],
   "source": []
  },
  {
   "cell_type": "code",
   "execution_count": null,
   "metadata": {
    "papermill": {
     "duration": 0.02511,
     "end_time": "2020-08-27T05:51:47.236673",
     "exception": false,
     "start_time": "2020-08-27T05:51:47.211563",
     "status": "completed"
    },
    "tags": []
   },
   "outputs": [],
   "source": []
  }
 ],
 "metadata": {
  "kernelspec": {
   "display_name": "Python 3",
   "language": "python",
   "name": "python3"
  },
  "language_info": {
   "codemirror_mode": {
    "name": "ipython",
    "version": 3
   },
   "file_extension": ".py",
   "mimetype": "text/x-python",
   "name": "python",
   "nbconvert_exporter": "python",
   "pygments_lexer": "ipython3",
   "version": "3.6.11"
  },
  "papermill": {
   "duration": 10.596685,
   "end_time": "2020-08-27T05:51:47.669584",
   "environment_variables": {},
   "exception": null,
   "input_path": "latest.ipynb",
   "output_path": "latest.ipynb",
   "parameters": {},
   "start_time": "2020-08-27T05:51:37.072899",
   "version": "2.1.2"
  }
 },
 "nbformat": 4,
 "nbformat_minor": 4
}