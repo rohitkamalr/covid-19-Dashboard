{
 "cells": [
  {
   "cell_type": "markdown",
   "metadata": {
    "papermill": {
     "duration": 0.019984,
     "end_time": "2020-09-06T04:22:10.504719",
     "exception": false,
     "start_time": "2020-09-06T04:22:10.484735",
     "status": "completed"
    },
    "tags": []
   },
   "source": [
    "# Latest COVID-19 India Matplotlib Overview"
   ]
  },
  {
   "cell_type": "code",
   "execution_count": 1,
   "metadata": {
    "execution": {
     "iopub.execute_input": "2020-09-06T04:22:10.542859Z",
     "iopub.status.busy": "2020-09-06T04:22:10.541845Z",
     "iopub.status.idle": "2020-09-06T04:22:11.130193Z",
     "shell.execute_reply": "2020-09-06T04:22:11.129443Z"
    },
    "papermill": {
     "duration": 0.61,
     "end_time": "2020-09-06T04:22:11.130398",
     "exception": false,
     "start_time": "2020-09-06T04:22:10.520398",
     "status": "completed"
    },
    "tags": []
   },
   "outputs": [],
   "source": [
    "#hide\n",
    "import pandas as pd\n",
    "import numpy as np\n",
    "import requests\n",
    "import json\n",
    "import matplotlib.pyplot as plt\n",
    "import matplotlib.dates as mdates\n",
    "import matplotlib as mpl\n",
    "from IPython.core.display import display,HTML\n",
    "%matplotlib inline\n",
    "from datetime import date"
   ]
  },
  {
   "cell_type": "code",
   "execution_count": 2,
   "metadata": {
    "execution": {
     "iopub.execute_input": "2020-09-06T04:22:11.171160Z",
     "iopub.status.busy": "2020-09-06T04:22:11.170139Z",
     "iopub.status.idle": "2020-09-06T04:22:11.465812Z",
     "shell.execute_reply": "2020-09-06T04:22:11.464943Z"
    },
    "papermill": {
     "duration": 0.318941,
     "end_time": "2020-09-06T04:22:11.466041",
     "exception": false,
     "start_time": "2020-09-06T04:22:11.147100",
     "status": "completed"
    },
    "tags": []
   },
   "outputs": [],
   "source": [
    "#hide\n",
    "df  = pd.read_csv('https://api.covid19india.org/csv/latest/states.csv')\n",
    "df = df[['Date','State','Confirmed','Deceased']]\n",
    "df = df.rename(columns={'Confirmed':'Cases', \"Deceased\":'Deaths'})\n",
    "df_cases = df[[\"Date\",'State','Cases']]\n",
    "df_deaths = df[['Date','State','Deaths']]\n",
    "df_cases1 = df_cases.groupby('Date')\n",
    "df_deaths1= df_deaths.groupby('Date')"
   ]
  },
  {
   "cell_type": "code",
   "execution_count": 3,
   "metadata": {
    "execution": {
     "iopub.execute_input": "2020-09-06T04:22:11.504544Z",
     "iopub.status.busy": "2020-09-06T04:22:11.503955Z",
     "iopub.status.idle": "2020-09-06T04:22:11.525067Z",
     "shell.execute_reply": "2020-09-06T04:22:11.524238Z"
    },
    "papermill": {
     "duration": 0.042665,
     "end_time": "2020-09-06T04:22:11.525244",
     "exception": false,
     "start_time": "2020-09-06T04:22:11.482579",
     "status": "completed"
    },
    "tags": []
   },
   "outputs": [],
   "source": [
    "#hide\n",
    "df_snap = pd.read_csv('data/SnapshotCases-28-July.csv')\n",
    "arr_states = df_snap['states'].unique()\n",
    "arr_dates = df['Date'].unique()\n",
    "df_snap = df_snap.set_index('states')"
   ]
  },
  {
   "cell_type": "code",
   "execution_count": 4,
   "metadata": {
    "execution": {
     "iopub.execute_input": "2020-09-06T04:22:11.565014Z",
     "iopub.status.busy": "2020-09-06T04:22:11.564333Z",
     "iopub.status.idle": "2020-09-06T04:22:11.566808Z",
     "shell.execute_reply": "2020-09-06T04:22:11.567336Z"
    },
    "papermill": {
     "duration": 0.025937,
     "end_time": "2020-09-06T04:22:11.567516",
     "exception": false,
     "start_time": "2020-09-06T04:22:11.541579",
     "status": "completed"
    },
    "tags": []
   },
   "outputs": [
    {
     "data": {
      "text/plain": [
       "array(['Andaman and Nicobar Islands', 'Andhra Pradesh',\n",
       "       'Arunachal Pradesh', 'Assam', 'Bihar', 'Chandigarh',\n",
       "       'Dadra and Nagar Haveli and Daman and Diu', 'Delhi', 'Goa',\n",
       "       'Gujarat', 'Haryana', 'Himachal Pradesh', 'Jammu and Kashmir',\n",
       "       'Jharkhand', 'Karnataka', 'Kerala', 'Lakshadweep',\n",
       "       'Madhya Pradesh', 'Maharashtra', 'Manipur', 'Meghalaya', 'Mizoram',\n",
       "       'Nagaland', 'Odisha', 'Puducherry', 'Punjab', 'Rajasthan',\n",
       "       'Sikkim', 'Tamil Nadu', 'Telangana', 'Tripura', 'Uttar Pradesh',\n",
       "       'West Bengal', 'Chhattisgarh', 'Ladakh', 'Uttarakhand'],\n",
       "      dtype=object)"
      ]
     },
     "execution_count": 4,
     "metadata": {},
     "output_type": "execute_result"
    }
   ],
   "source": [
    "#hide\n",
    "arr_states[-9] = 'Puducherry'\n",
    "arr_states[-10] = 'Odisha'\n",
    "arr_states[6] = 'Dadra and Nagar Haveli and Daman and Diu'\n",
    "arr_states = np.append(arr_states,np.array(['Chhattisgarh','Ladakh','Uttarakhand']))\n",
    "arr_states"
   ]
  },
  {
   "cell_type": "code",
   "execution_count": 5,
   "metadata": {
    "execution": {
     "iopub.execute_input": "2020-09-06T04:22:11.614374Z",
     "iopub.status.busy": "2020-09-06T04:22:11.613780Z",
     "iopub.status.idle": "2020-09-06T04:22:11.620781Z",
     "shell.execute_reply": "2020-09-06T04:22:11.621256Z"
    },
    "papermill": {
     "duration": 0.037035,
     "end_time": "2020-09-06T04:22:11.621419",
     "exception": false,
     "start_time": "2020-09-06T04:22:11.584384",
     "status": "completed"
    },
    "tags": []
   },
   "outputs": [],
   "source": [
    "#hide\n",
    "dates = []\n",
    "for i in arr_dates:\n",
    "    if i>='2020-07-01':\n",
    "        dates.append(i)\n",
    "dict = {'states':dates}\n",
    "for i in arr_states:\n",
    "    dict[i] = [0]*len(dates)\n",
    "dft_cases = pd.DataFrame(dict)\n",
    "dft_deaths = pd.DataFrame(dict)\n"
   ]
  },
  {
   "cell_type": "code",
   "execution_count": 6,
   "metadata": {
    "execution": {
     "iopub.execute_input": "2020-09-06T04:22:11.889958Z",
     "iopub.status.busy": "2020-09-06T04:22:11.659247Z",
     "iopub.status.idle": "2020-09-06T04:22:12.584106Z",
     "shell.execute_reply": "2020-09-06T04:22:12.584794Z"
    },
    "papermill": {
     "duration": 0.947949,
     "end_time": "2020-09-06T04:22:12.584963",
     "exception": false,
     "start_time": "2020-09-06T04:22:11.637014",
     "status": "completed"
    },
    "tags": []
   },
   "outputs": [],
   "source": [
    "#hide\n",
    "for i in range(len(dates)):\n",
    "    df1_deaths = df_deaths1.get_group(dates[i])\n",
    "    for j in range(len(df1_deaths.index)):\n",
    "        if df1_deaths.iloc[j,1] in arr_states:\n",
    "            dft_deaths.loc[i,df1_deaths.iloc[j,1]] = df1_deaths.iloc[j,2]\n",
    "dft_deaths = dft_deaths.set_index('states')"
   ]
  },
  {
   "cell_type": "code",
   "execution_count": 7,
   "metadata": {
    "execution": {
     "iopub.execute_input": "2020-09-06T04:22:12.715928Z",
     "iopub.status.busy": "2020-09-06T04:22:12.626213Z",
     "iopub.status.idle": "2020-09-06T04:22:13.536580Z",
     "shell.execute_reply": "2020-09-06T04:22:13.534882Z"
    },
    "papermill": {
     "duration": 0.934989,
     "end_time": "2020-09-06T04:22:13.536814",
     "exception": false,
     "start_time": "2020-09-06T04:22:12.601825",
     "status": "completed"
    },
    "tags": []
   },
   "outputs": [],
   "source": [
    "#hide\n",
    "for i in range(len(dates)):\n",
    "    df1_cases = df_cases1.get_group(dates[i])\n",
    "    for j in range(len(df1_cases.index)):\n",
    "        if df1_cases.iloc[j,1] in arr_states:\n",
    "            dft_cases.loc[i,df1_cases.iloc[j,1]] = df1_cases.iloc[j,2]\n",
    "dft_cases = dft_cases.set_index('states')"
   ]
  },
  {
   "cell_type": "code",
   "execution_count": 8,
   "metadata": {
    "execution": {
     "iopub.execute_input": "2020-09-06T04:22:13.651582Z",
     "iopub.status.busy": "2020-09-06T04:22:13.650901Z",
     "iopub.status.idle": "2020-09-06T04:22:13.653828Z",
     "shell.execute_reply": "2020-09-06T04:22:13.654274Z"
    },
    "papermill": {
     "duration": 0.059248,
     "end_time": "2020-09-06T04:22:13.654440",
     "exception": false,
     "start_time": "2020-09-06T04:22:13.595192",
     "status": "completed"
    },
    "tags": []
   },
   "outputs": [],
   "source": [
    "#hide\n",
    "dft_cases = dft_cases.T\n",
    "dft_deaths = dft_deaths.T\n",
    "dt_today = dates[-1]\n",
    "dt_yday = dates[-2]"
   ]
  },
  {
   "cell_type": "code",
   "execution_count": 9,
   "metadata": {
    "execution": {
     "iopub.execute_input": "2020-09-06T04:22:13.752227Z",
     "iopub.status.busy": "2020-09-06T04:22:13.751031Z",
     "iopub.status.idle": "2020-09-06T04:22:13.757596Z",
     "shell.execute_reply": "2020-09-06T04:22:13.757084Z"
    },
    "papermill": {
     "duration": 0.058637,
     "end_time": "2020-09-06T04:22:13.757730",
     "exception": false,
     "start_time": "2020-09-06T04:22:13.699093",
     "status": "completed"
    },
    "tags": []
   },
   "outputs": [],
   "source": [
    "#hide\n",
    "dft_cases = dft_cases.reset_index()\n",
    "dft_deaths = dft_deaths.reset_index()\n",
    "dft_cases = dft_cases.rename(columns = {'index':'state'})\n",
    "dft_deaths = dft_deaths.rename(columns = {'index':'state'})"
   ]
  },
  {
   "cell_type": "code",
   "execution_count": 10,
   "metadata": {
    "execution": {
     "iopub.execute_input": "2020-09-06T04:22:13.854260Z",
     "iopub.status.busy": "2020-09-06T04:22:13.852920Z",
     "iopub.status.idle": "2020-09-06T04:22:13.854993Z",
     "shell.execute_reply": "2020-09-06T04:22:13.855497Z"
    },
    "papermill": {
     "duration": 0.062834,
     "end_time": "2020-09-06T04:22:13.855651",
     "exception": false,
     "start_time": "2020-09-06T04:22:13.792817",
     "status": "completed"
    },
    "tags": []
   },
   "outputs": [],
   "source": [
    "#hide\n",
    "dfc_cases = dft_cases.groupby('state')[dt_today].sum()\n",
    "dfc_deaths = dft_deaths.groupby('state')[dt_today].sum()\n",
    "dfp_cases = dft_cases.groupby('state')[dt_yday].sum()\n",
    "dfp_deaths = dft_deaths.groupby('state')[dt_yday].sum()"
   ]
  },
  {
   "cell_type": "code",
   "execution_count": 11,
   "metadata": {
    "execution": {
     "iopub.execute_input": "2020-09-06T04:22:13.967913Z",
     "iopub.status.busy": "2020-09-06T04:22:13.967240Z",
     "iopub.status.idle": "2020-09-06T04:22:13.975453Z",
     "shell.execute_reply": "2020-09-06T04:22:13.974740Z"
    },
    "papermill": {
     "duration": 0.08788,
     "end_time": "2020-09-06T04:22:13.975602",
     "exception": false,
     "start_time": "2020-09-06T04:22:13.887722",
     "status": "completed"
    },
    "tags": []
   },
   "outputs": [
    {
     "data": {
      "text/html": [
       "<div>\n",
       "<style scoped>\n",
       "    .dataframe tbody tr th:only-of-type {\n",
       "        vertical-align: middle;\n",
       "    }\n",
       "\n",
       "    .dataframe tbody tr th {\n",
       "        vertical-align: top;\n",
       "    }\n",
       "\n",
       "    .dataframe thead th {\n",
       "        text-align: right;\n",
       "    }\n",
       "</style>\n",
       "<table border=\"1\" class=\"dataframe\">\n",
       "  <thead>\n",
       "    <tr style=\"text-align: right;\">\n",
       "      <th></th>\n",
       "      <th>states</th>\n",
       "      <th>Cases</th>\n",
       "      <th>Deaths</th>\n",
       "      <th>PCases</th>\n",
       "      <th>PDeaths</th>\n",
       "    </tr>\n",
       "  </thead>\n",
       "  <tbody>\n",
       "    <tr>\n",
       "      <th>0</th>\n",
       "      <td>Maharashtra</td>\n",
       "      <td>883862</td>\n",
       "      <td>26276</td>\n",
       "      <td>883862</td>\n",
       "      <td>26276</td>\n",
       "    </tr>\n",
       "    <tr>\n",
       "      <th>1</th>\n",
       "      <td>Andhra Pradesh</td>\n",
       "      <td>487331</td>\n",
       "      <td>4347</td>\n",
       "      <td>487331</td>\n",
       "      <td>4347</td>\n",
       "    </tr>\n",
       "    <tr>\n",
       "      <th>2</th>\n",
       "      <td>Tamil Nadu</td>\n",
       "      <td>457697</td>\n",
       "      <td>7751</td>\n",
       "      <td>457697</td>\n",
       "      <td>7751</td>\n",
       "    </tr>\n",
       "    <tr>\n",
       "      <th>3</th>\n",
       "      <td>Karnataka</td>\n",
       "      <td>389232</td>\n",
       "      <td>6298</td>\n",
       "      <td>389232</td>\n",
       "      <td>6298</td>\n",
       "    </tr>\n",
       "    <tr>\n",
       "      <th>4</th>\n",
       "      <td>Uttar Pradesh</td>\n",
       "      <td>259765</td>\n",
       "      <td>3843</td>\n",
       "      <td>259765</td>\n",
       "      <td>3843</td>\n",
       "    </tr>\n",
       "  </tbody>\n",
       "</table>\n",
       "</div>"
      ],
      "text/plain": [
       "           states   Cases  Deaths  PCases  PDeaths\n",
       "0     Maharashtra  883862   26276  883862    26276\n",
       "1  Andhra Pradesh  487331    4347  487331     4347\n",
       "2      Tamil Nadu  457697    7751  457697     7751\n",
       "3       Karnataka  389232    6298  389232     6298\n",
       "4   Uttar Pradesh  259765    3843  259765     3843"
      ]
     },
     "execution_count": 11,
     "metadata": {},
     "output_type": "execute_result"
    }
   ],
   "source": [
    "#hide\n",
    "df_table = pd.DataFrame({'states': dfc_cases.index, 'Cases': dfc_cases.values, 'Deaths': dfc_deaths.values, 'PCases': dfp_cases.values, 'PDeaths': dfp_deaths.values}).set_index('states')\n",
    "df_table = df_table.sort_values(by = ['Cases','Deaths'], ascending = [False, False])\n",
    "df_table = df_table.reset_index()\n",
    "df_table.head()"
   ]
  },
  {
   "cell_type": "code",
   "execution_count": 12,
   "metadata": {
    "execution": {
     "iopub.execute_input": "2020-09-06T04:22:14.049956Z",
     "iopub.status.busy": "2020-09-06T04:22:14.049353Z",
     "iopub.status.idle": "2020-09-06T04:22:14.057679Z",
     "shell.execute_reply": "2020-09-06T04:22:14.058145Z"
    },
    "papermill": {
     "duration": 0.061845,
     "end_time": "2020-09-06T04:22:14.058311",
     "exception": false,
     "start_time": "2020-09-06T04:22:13.996466",
     "status": "completed"
    },
    "tags": []
   },
   "outputs": [],
   "source": [
    "#hide\n",
    "for c in 'Cases, Deaths'.split(', '):\n",
    "    df_table[f'{c} (+)'] = (df_table[c] - df_table[f'P{c}']).clip(0)\n",
    "df_table['Fatality Rate'] = (100* df_table['Deaths']/ df_table['Cases']).round(2)"
   ]
  },
  {
   "cell_type": "code",
   "execution_count": 13,
   "metadata": {
    "execution": {
     "iopub.execute_input": "2020-09-06T04:22:14.148735Z",
     "iopub.status.busy": "2020-09-06T04:22:14.148103Z",
     "iopub.status.idle": "2020-09-06T04:22:14.154179Z",
     "shell.execute_reply": "2020-09-06T04:22:14.153701Z"
    },
    "papermill": {
     "duration": 0.071156,
     "end_time": "2020-09-06T04:22:14.154318",
     "exception": false,
     "start_time": "2020-09-06T04:22:14.083162",
     "status": "completed"
    },
    "tags": []
   },
   "outputs": [
    {
     "data": {
      "text/html": [
       "<div>\n",
       "<style scoped>\n",
       "    .dataframe tbody tr th:only-of-type {\n",
       "        vertical-align: middle;\n",
       "    }\n",
       "\n",
       "    .dataframe tbody tr th {\n",
       "        vertical-align: top;\n",
       "    }\n",
       "\n",
       "    .dataframe thead th {\n",
       "        text-align: right;\n",
       "    }\n",
       "</style>\n",
       "<table border=\"1\" class=\"dataframe\">\n",
       "  <thead>\n",
       "    <tr style=\"text-align: right;\">\n",
       "      <th></th>\n",
       "      <th>states</th>\n",
       "      <th>Cases</th>\n",
       "      <th>Deaths</th>\n",
       "      <th>PCases</th>\n",
       "      <th>PDeaths</th>\n",
       "      <th>Cases (+)</th>\n",
       "      <th>Deaths (+)</th>\n",
       "      <th>Fatality Rate</th>\n",
       "    </tr>\n",
       "  </thead>\n",
       "  <tbody>\n",
       "    <tr>\n",
       "      <th>0</th>\n",
       "      <td>Maharashtra</td>\n",
       "      <td>883862</td>\n",
       "      <td>26276</td>\n",
       "      <td>883862</td>\n",
       "      <td>26276</td>\n",
       "      <td>0</td>\n",
       "      <td>0</td>\n",
       "      <td>2.97</td>\n",
       "    </tr>\n",
       "    <tr>\n",
       "      <th>1</th>\n",
       "      <td>Andhra Pradesh</td>\n",
       "      <td>487331</td>\n",
       "      <td>4347</td>\n",
       "      <td>487331</td>\n",
       "      <td>4347</td>\n",
       "      <td>0</td>\n",
       "      <td>0</td>\n",
       "      <td>0.89</td>\n",
       "    </tr>\n",
       "    <tr>\n",
       "      <th>2</th>\n",
       "      <td>Tamil Nadu</td>\n",
       "      <td>457697</td>\n",
       "      <td>7751</td>\n",
       "      <td>457697</td>\n",
       "      <td>7751</td>\n",
       "      <td>0</td>\n",
       "      <td>0</td>\n",
       "      <td>1.69</td>\n",
       "    </tr>\n",
       "    <tr>\n",
       "      <th>3</th>\n",
       "      <td>Karnataka</td>\n",
       "      <td>389232</td>\n",
       "      <td>6298</td>\n",
       "      <td>389232</td>\n",
       "      <td>6298</td>\n",
       "      <td>0</td>\n",
       "      <td>0</td>\n",
       "      <td>1.62</td>\n",
       "    </tr>\n",
       "    <tr>\n",
       "      <th>4</th>\n",
       "      <td>Uttar Pradesh</td>\n",
       "      <td>259765</td>\n",
       "      <td>3843</td>\n",
       "      <td>259765</td>\n",
       "      <td>3843</td>\n",
       "      <td>0</td>\n",
       "      <td>0</td>\n",
       "      <td>1.48</td>\n",
       "    </tr>\n",
       "  </tbody>\n",
       "</table>\n",
       "</div>"
      ],
      "text/plain": [
       "           states   Cases  Deaths  PCases  PDeaths  Cases (+)  Deaths (+)  \\\n",
       "0     Maharashtra  883862   26276  883862    26276          0           0   \n",
       "1  Andhra Pradesh  487331    4347  487331     4347          0           0   \n",
       "2      Tamil Nadu  457697    7751  457697     7751          0           0   \n",
       "3       Karnataka  389232    6298  389232     6298          0           0   \n",
       "4   Uttar Pradesh  259765    3843  259765     3843          0           0   \n",
       "\n",
       "   Fatality Rate  \n",
       "0           2.97  \n",
       "1           0.89  \n",
       "2           1.69  \n",
       "3           1.62  \n",
       "4           1.48  "
      ]
     },
     "execution_count": 13,
     "metadata": {},
     "output_type": "execute_result"
    }
   ],
   "source": [
    "#hide\n",
    "df_table.head()"
   ]
  },
  {
   "cell_type": "code",
   "execution_count": 14,
   "metadata": {
    "execution": {
     "iopub.execute_input": "2020-09-06T04:22:14.646746Z",
     "iopub.status.busy": "2020-09-06T04:22:14.646140Z",
     "iopub.status.idle": "2020-09-06T04:22:14.664768Z",
     "shell.execute_reply": "2020-09-06T04:22:14.665554Z"
    },
    "papermill": {
     "duration": 0.47776,
     "end_time": "2020-09-06T04:22:14.665722",
     "exception": false,
     "start_time": "2020-09-06T04:22:14.187962",
     "status": "completed"
    },
    "tags": []
   },
   "outputs": [
    {
     "data": {
      "text/plain": [
       "{'updated': '2020-09-06',\n",
       " 'since': '2020-09-05',\n",
       " 'Cases': 4113444,\n",
       " 'PCases': 4110839,\n",
       " 'Deaths': 70688,\n",
       " 'PDeaths': 70679,\n",
       " 'Cases (+)': 2605,\n",
       " 'Deaths (+)': 9}"
      ]
     },
     "execution_count": 14,
     "metadata": {},
     "output_type": "execute_result"
    }
   ],
   "source": [
    "#hide\n",
    "summary = {'updated':dates[-1], 'since':dates[-2]}\n",
    "list_names = ['Cases', 'PCases', 'Deaths', 'PDeaths', 'Cases (+)', 'Deaths (+)']\n",
    "for name in list_names:\n",
    "    summary[name] = df_table.sum()[name]\n",
    "summary"
   ]
  },
  {
   "cell_type": "code",
   "execution_count": 15,
   "metadata": {
    "execution": {
     "iopub.execute_input": "2020-09-06T04:22:14.753650Z",
     "iopub.status.busy": "2020-09-06T04:22:14.752797Z",
     "iopub.status.idle": "2020-09-06T04:22:14.757772Z",
     "shell.execute_reply": "2020-09-06T04:22:14.757294Z"
    },
    "papermill": {
     "duration": 0.058245,
     "end_time": "2020-09-06T04:22:14.757909",
     "exception": false,
     "start_time": "2020-09-06T04:22:14.699664",
     "status": "completed"
    },
    "tags": []
   },
   "outputs": [],
   "source": [
    "#hide\n",
    "overview = '''\n",
    "<!-- #######  HTML!! #########-->\n",
    "<h1 style=\"color: #5e9ca0; text-align: center;\">India</h1>\n",
    "<p style=\"text-align: center;\">Last update: <strong>{update}</strong></p>\n",
    "<p style=\"text-align: center;\">Confirmed cases:</p>\n",
    "<p style=\"text-align: center;font-size:24px;\">{cases} (<span style=\"color: #ff0000;\">+{new}</span>)</p>\n",
    "<p style=\"text-align: center;\">Confirmed deaths:</p>\n",
    "<p style=\"text-align: center;font-size:24px;\">{deaths} (<span style=\"color: #ff0000;\">+{dnew}</span>)</p>\n",
    "'''"
   ]
  },
  {
   "cell_type": "code",
   "execution_count": 16,
   "metadata": {
    "execution": {
     "iopub.execute_input": "2020-09-06T04:22:14.849467Z",
     "iopub.status.busy": "2020-09-06T04:22:14.848775Z",
     "iopub.status.idle": "2020-09-06T04:22:14.853616Z",
     "shell.execute_reply": "2020-09-06T04:22:14.853083Z"
    },
    "papermill": {
     "duration": 0.060779,
     "end_time": "2020-09-06T04:22:14.853750",
     "exception": false,
     "start_time": "2020-09-06T04:22:14.792971",
     "status": "completed"
    },
    "tags": []
   },
   "outputs": [
    {
     "data": {
      "text/html": [
       "\n",
       "<!-- #######  HTML!! #########-->\n",
       "<h1 style=\"color: #5e9ca0; text-align: center;\">India</h1>\n",
       "<p style=\"text-align: center;\">Last update: <strong>2020-09-06</strong></p>\n",
       "<p style=\"text-align: center;\">Confirmed cases:</p>\n",
       "<p style=\"text-align: center;font-size:24px;\">4113444 (<span style=\"color: #ff0000;\">+2605</span>)</p>\n",
       "<p style=\"text-align: center;\">Confirmed deaths:</p>\n",
       "<p style=\"text-align: center;font-size:24px;\">70688 (<span style=\"color: #ff0000;\">+9</span>)</p>\n"
      ],
      "text/plain": [
       "<IPython.core.display.HTML object>"
      ]
     },
     "metadata": {},
     "output_type": "display_data"
    }
   ],
   "source": [
    "#hide_input\n",
    "update = summary['updated']\n",
    "cases = summary['Cases']\n",
    "new = summary['Cases (+)']\n",
    "deaths = summary['Deaths']\n",
    "dnew = summary['Deaths (+)']\n",
    "\n",
    "html = HTML(overview.format(update=update, cases=cases,new=new,deaths=deaths,dnew=dnew))\n",
    "\n",
    "display(html)"
   ]
  },
  {
   "cell_type": "code",
   "execution_count": 17,
   "metadata": {
    "execution": {
     "iopub.execute_input": "2020-09-06T04:22:14.933489Z",
     "iopub.status.busy": "2020-09-06T04:22:14.932868Z",
     "iopub.status.idle": "2020-09-06T04:22:14.937488Z",
     "shell.execute_reply": "2020-09-06T04:22:14.937972Z"
    },
    "papermill": {
     "duration": 0.050463,
     "end_time": "2020-09-06T04:22:14.938137",
     "exception": false,
     "start_time": "2020-09-06T04:22:14.887674",
     "status": "completed"
    },
    "tags": []
   },
   "outputs": [],
   "source": [
    "#hide\n",
    "dt_cols = list(dft_cases.columns[1:])\n",
    "dft_ct_new_cases = dft_cases.groupby('state')[dt_cols].sum().diff(axis=1).fillna(0).astype(int)\n",
    "dft_ct_new_cases.sort_values(by = dates[-1], ascending = False,inplace = True)"
   ]
  },
  {
   "cell_type": "code",
   "execution_count": 18,
   "metadata": {
    "execution": {
     "iopub.execute_input": "2020-09-06T04:22:15.045893Z",
     "iopub.status.busy": "2020-09-06T04:22:15.045255Z",
     "iopub.status.idle": "2020-09-06T04:22:15.053371Z",
     "shell.execute_reply": "2020-09-06T04:22:15.052823Z"
    },
    "papermill": {
     "duration": 0.056985,
     "end_time": "2020-09-06T04:22:15.053525",
     "exception": false,
     "start_time": "2020-09-06T04:22:14.996540",
     "status": "completed"
    },
    "tags": []
   },
   "outputs": [
    {
     "data": {
      "text/html": [
       "<div>\n",
       "<style scoped>\n",
       "    .dataframe tbody tr th:only-of-type {\n",
       "        vertical-align: middle;\n",
       "    }\n",
       "\n",
       "    .dataframe tbody tr th {\n",
       "        vertical-align: top;\n",
       "    }\n",
       "\n",
       "    .dataframe thead th {\n",
       "        text-align: right;\n",
       "    }\n",
       "</style>\n",
       "<table border=\"1\" class=\"dataframe\">\n",
       "  <thead>\n",
       "    <tr style=\"text-align: right;\">\n",
       "      <th>states</th>\n",
       "      <th>2020-07-01</th>\n",
       "      <th>2020-07-02</th>\n",
       "      <th>2020-07-03</th>\n",
       "      <th>2020-07-04</th>\n",
       "      <th>2020-07-05</th>\n",
       "      <th>2020-07-06</th>\n",
       "      <th>2020-07-07</th>\n",
       "      <th>2020-07-08</th>\n",
       "      <th>2020-07-09</th>\n",
       "      <th>2020-07-10</th>\n",
       "      <th>...</th>\n",
       "      <th>2020-08-28</th>\n",
       "      <th>2020-08-29</th>\n",
       "      <th>2020-08-30</th>\n",
       "      <th>2020-08-31</th>\n",
       "      <th>2020-09-01</th>\n",
       "      <th>2020-09-02</th>\n",
       "      <th>2020-09-03</th>\n",
       "      <th>2020-09-04</th>\n",
       "      <th>2020-09-05</th>\n",
       "      <th>2020-09-06</th>\n",
       "    </tr>\n",
       "    <tr>\n",
       "      <th>state</th>\n",
       "      <th></th>\n",
       "      <th></th>\n",
       "      <th></th>\n",
       "      <th></th>\n",
       "      <th></th>\n",
       "      <th></th>\n",
       "      <th></th>\n",
       "      <th></th>\n",
       "      <th></th>\n",
       "      <th></th>\n",
       "      <th></th>\n",
       "      <th></th>\n",
       "      <th></th>\n",
       "      <th></th>\n",
       "      <th></th>\n",
       "      <th></th>\n",
       "      <th></th>\n",
       "      <th></th>\n",
       "      <th></th>\n",
       "      <th></th>\n",
       "      <th></th>\n",
       "    </tr>\n",
       "  </thead>\n",
       "  <tbody>\n",
       "    <tr>\n",
       "      <th>Telangana</th>\n",
       "      <td>0</td>\n",
       "      <td>1213</td>\n",
       "      <td>1892</td>\n",
       "      <td>1850</td>\n",
       "      <td>1590</td>\n",
       "      <td>1831</td>\n",
       "      <td>1879</td>\n",
       "      <td>1924</td>\n",
       "      <td>1410</td>\n",
       "      <td>1278</td>\n",
       "      <td>...</td>\n",
       "      <td>2932</td>\n",
       "      <td>2751</td>\n",
       "      <td>2924</td>\n",
       "      <td>1873</td>\n",
       "      <td>2734</td>\n",
       "      <td>2892</td>\n",
       "      <td>2817</td>\n",
       "      <td>2478</td>\n",
       "      <td>2511</td>\n",
       "      <td>2574</td>\n",
       "    </tr>\n",
       "    <tr>\n",
       "      <th>Mizoram</th>\n",
       "      <td>0</td>\n",
       "      <td>2</td>\n",
       "      <td>0</td>\n",
       "      <td>2</td>\n",
       "      <td>22</td>\n",
       "      <td>11</td>\n",
       "      <td>1</td>\n",
       "      <td>5</td>\n",
       "      <td>0</td>\n",
       "      <td>23</td>\n",
       "      <td>...</td>\n",
       "      <td>29</td>\n",
       "      <td>0</td>\n",
       "      <td>5</td>\n",
       "      <td>3</td>\n",
       "      <td>1</td>\n",
       "      <td>8</td>\n",
       "      <td>20</td>\n",
       "      <td>6</td>\n",
       "      <td>16</td>\n",
       "      <td>31</td>\n",
       "    </tr>\n",
       "    <tr>\n",
       "      <th>Andaman and Nicobar Islands</th>\n",
       "      <td>0</td>\n",
       "      <td>9</td>\n",
       "      <td>7</td>\n",
       "      <td>3</td>\n",
       "      <td>6</td>\n",
       "      <td>16</td>\n",
       "      <td>6</td>\n",
       "      <td>2</td>\n",
       "      <td>7</td>\n",
       "      <td>0</td>\n",
       "      <td>...</td>\n",
       "      <td>32</td>\n",
       "      <td>31</td>\n",
       "      <td>23</td>\n",
       "      <td>28</td>\n",
       "      <td>28</td>\n",
       "      <td>26</td>\n",
       "      <td>37</td>\n",
       "      <td>34</td>\n",
       "      <td>35</td>\n",
       "      <td>0</td>\n",
       "    </tr>\n",
       "    <tr>\n",
       "      <th>Puducherry</th>\n",
       "      <td>0</td>\n",
       "      <td>63</td>\n",
       "      <td>22</td>\n",
       "      <td>80</td>\n",
       "      <td>42</td>\n",
       "      <td>65</td>\n",
       "      <td>30</td>\n",
       "      <td>110</td>\n",
       "      <td>49</td>\n",
       "      <td>72</td>\n",
       "      <td>...</td>\n",
       "      <td>590</td>\n",
       "      <td>532</td>\n",
       "      <td>571</td>\n",
       "      <td>284</td>\n",
       "      <td>355</td>\n",
       "      <td>391</td>\n",
       "      <td>424</td>\n",
       "      <td>591</td>\n",
       "      <td>394</td>\n",
       "      <td>0</td>\n",
       "    </tr>\n",
       "    <tr>\n",
       "      <th>Maharashtra</th>\n",
       "      <td>0</td>\n",
       "      <td>6328</td>\n",
       "      <td>6364</td>\n",
       "      <td>7074</td>\n",
       "      <td>6555</td>\n",
       "      <td>5368</td>\n",
       "      <td>5134</td>\n",
       "      <td>6603</td>\n",
       "      <td>6875</td>\n",
       "      <td>7862</td>\n",
       "      <td>...</td>\n",
       "      <td>14427</td>\n",
       "      <td>16286</td>\n",
       "      <td>16408</td>\n",
       "      <td>11852</td>\n",
       "      <td>15765</td>\n",
       "      <td>17433</td>\n",
       "      <td>18105</td>\n",
       "      <td>19218</td>\n",
       "      <td>20800</td>\n",
       "      <td>0</td>\n",
       "    </tr>\n",
       "  </tbody>\n",
       "</table>\n",
       "<p>5 rows × 68 columns</p>\n",
       "</div>"
      ],
      "text/plain": [
       "states                       2020-07-01  2020-07-02  2020-07-03  2020-07-04  \\\n",
       "state                                                                         \n",
       "Telangana                             0        1213        1892        1850   \n",
       "Mizoram                               0           2           0           2   \n",
       "Andaman and Nicobar Islands           0           9           7           3   \n",
       "Puducherry                            0          63          22          80   \n",
       "Maharashtra                           0        6328        6364        7074   \n",
       "\n",
       "states                       2020-07-05  2020-07-06  2020-07-07  2020-07-08  \\\n",
       "state                                                                         \n",
       "Telangana                          1590        1831        1879        1924   \n",
       "Mizoram                              22          11           1           5   \n",
       "Andaman and Nicobar Islands           6          16           6           2   \n",
       "Puducherry                           42          65          30         110   \n",
       "Maharashtra                        6555        5368        5134        6603   \n",
       "\n",
       "states                       2020-07-09  2020-07-10  ...  2020-08-28  \\\n",
       "state                                                ...               \n",
       "Telangana                          1410        1278  ...        2932   \n",
       "Mizoram                               0          23  ...          29   \n",
       "Andaman and Nicobar Islands           7           0  ...          32   \n",
       "Puducherry                           49          72  ...         590   \n",
       "Maharashtra                        6875        7862  ...       14427   \n",
       "\n",
       "states                       2020-08-29  2020-08-30  2020-08-31  2020-09-01  \\\n",
       "state                                                                         \n",
       "Telangana                          2751        2924        1873        2734   \n",
       "Mizoram                               0           5           3           1   \n",
       "Andaman and Nicobar Islands          31          23          28          28   \n",
       "Puducherry                          532         571         284         355   \n",
       "Maharashtra                       16286       16408       11852       15765   \n",
       "\n",
       "states                       2020-09-02  2020-09-03  2020-09-04  2020-09-05  \\\n",
       "state                                                                         \n",
       "Telangana                          2892        2817        2478        2511   \n",
       "Mizoram                               8          20           6          16   \n",
       "Andaman and Nicobar Islands          26          37          34          35   \n",
       "Puducherry                          391         424         591         394   \n",
       "Maharashtra                       17433       18105       19218       20800   \n",
       "\n",
       "states                       2020-09-06  \n",
       "state                                    \n",
       "Telangana                          2574  \n",
       "Mizoram                              31  \n",
       "Andaman and Nicobar Islands           0  \n",
       "Puducherry                            0  \n",
       "Maharashtra                           0  \n",
       "\n",
       "[5 rows x 68 columns]"
      ]
     },
     "execution_count": 18,
     "metadata": {},
     "output_type": "execute_result"
    }
   ],
   "source": [
    "#hide\n",
    "dft_ct_new_cases.head()"
   ]
  },
  {
   "cell_type": "code",
   "execution_count": 19,
   "metadata": {
    "execution": {
     "iopub.execute_input": "2020-09-06T04:22:15.182087Z",
     "iopub.status.busy": "2020-09-06T04:22:15.156272Z",
     "iopub.status.idle": "2020-09-06T04:22:18.220627Z",
     "shell.execute_reply": "2020-09-06T04:22:18.221085Z"
    },
    "papermill": {
     "duration": 3.131788,
     "end_time": "2020-09-06T04:22:18.221252",
     "exception": false,
     "start_time": "2020-09-06T04:22:15.089464",
     "status": "completed"
    },
    "tags": []
   },
   "outputs": [
    {
     "data": {
      "image/png": "[encoded data removed]",
      "text/plain": [
       "<Figure size 1296x2016 with 11 Axes>"
      ]
     },
     "metadata": {
      "needs_background": "light"
     },
     "output_type": "display_data"
    }
   ],
   "source": [
    "#hide_input\n",
    "df = dft_ct_new_cases.copy()\n",
    "df.loc['Total'] = df.sum()\n",
    "n = 5\n",
    "ax = []\n",
    "fig = plt.figure(figsize = (18,28))\n",
    "gs = fig.add_gridspec(n+2, 5)\n",
    "# gs = fig.add_gridspec(2, 3)\n",
    "ax1 = fig.add_subplot(gs[0, :])\n",
    "ef = df.loc['Total'].rename_axis('date').reset_index()\n",
    "ef['date'] = ef['date'].astype('datetime64[ns]')\n",
    "ax1.bar(ef.date,ef.Total,alpha=0.3,color='#007acc')\n",
    "ax1.plot(ef.date,ef.Total , marker=\"o\", color='#007acc')\n",
    "ax1.xaxis.set_major_locator(mdates.WeekdayLocator())\n",
    "ax1.xaxis.set_major_formatter(mdates.DateFormatter('%b %d'))\n",
    "ax1.text(0.02, 0.5,'India daily case count', transform = ax1.transAxes, fontsize=25);\n",
    "ax1.spines['right'].set_visible(False)\n",
    "ax1.spines['top'].set_visible(False)\n",
    "\n",
    "ax2 = fig.add_subplot(gs[1,0])\n",
    "ef = df.loc['Maharashtra'].rename_axis('date').reset_index()\n",
    "ef['date'] = ef['date'].astype('datetime64[ns]')\n",
    "\n",
    "ax2.bar(ef.date, ef.Maharashtra,color = '#007acc',alpha=0.5)\n",
    "ax2.xaxis.set_major_locator(mdates.WeekdayLocator())\n",
    "ax2.xaxis.set_major_formatter(mdates.DateFormatter('%b %d'))\n",
    "ax2.set_xticks(ax2.get_xticks()[::3])\n",
    "maxyval = ef.Maharashtra.max()\n",
    "ax2.set_ylim([0,maxyval])\n",
    "ax2.text(0.05, 0.9,'Maharashtra', transform = ax2.transAxes, fontsize=20);\n",
    "ax2.spines['right'].set_visible(False)\n",
    "ax2.spines['top'].set_visible(False)\n",
    "\n",
    "\n",
    "ax3 = fig.add_subplot(gs[1,1])\n",
    "ef = df.loc['Tamil Nadu'].rename_axis('date').reset_index()\n",
    "ef['date'] = ef['date'].astype('datetime64[ns]')\n",
    "ax3.bar(ef.date, ef['Tamil Nadu'],color = '#007acc',alpha=0.5,)\n",
    "ax3.xaxis.set_major_locator(mdates.WeekdayLocator())\n",
    "ax3.xaxis.set_major_formatter(mdates.DateFormatter('%b %d'))\n",
    "ax3.set_xticks(ax3.get_xticks()[::3])\n",
    "ax3.text(0.05, 0.9,'Tamil Nadu', transform = ax3.transAxes, fontsize=20);\n",
    "ax3.spines['right'].set_visible(False)\n",
    "ax3.spines['top'].set_visible(False)\n",
    "\n",
    "ax5 = fig.add_subplot(gs[1,3])\n",
    "ef = df.loc['Telangana'].rename_axis('date').reset_index()\n",
    "ef['date'] = ef['date'].astype('datetime64[ns]')\n",
    "ax5.bar(ef.date, ef['Telangana'],color = '#007acc',alpha=0.5,)\n",
    "ax5.xaxis.set_major_locator(mdates.WeekdayLocator())\n",
    "ax5.xaxis.set_major_formatter(mdates.DateFormatter('%b %d'))\n",
    "ax5.set_xticks(ax5.get_xticks()[::3])\n",
    "ax5.text(0.05, 0.9,'Telangana', transform = ax5.transAxes, fontsize=20);\n",
    "ax5.spines['right'].set_visible(False)\n",
    "ax5.spines['top'].set_visible(False)\n",
    "\n",
    "ax6 = fig.add_subplot(gs[1,4])\n",
    "ef = df.loc['Andhra Pradesh'].rename_axis('date').reset_index()\n",
    "ef['date'] = ef['date'].astype('datetime64[ns]')\n",
    "ax6.bar(ef.date, ef['Andhra Pradesh'],color = '#007acc',alpha=0.5,)\n",
    "ax6.xaxis.set_major_locator(mdates.WeekdayLocator())\n",
    "ax6.xaxis.set_major_formatter(mdates.DateFormatter('%b %d'))\n",
    "ax6.set_xticks(ax6.get_xticks()[::3])\n",
    "ax6.text(0.05, 1,'Andhra Pradesh', transform = ax6.transAxes, fontsize=20);\n",
    "ax6.spines['right'].set_visible(False)\n",
    "ax6.spines['top'].set_visible(False)\n",
    "\n",
    "ax4 = fig.add_subplot(gs[1,2])\n",
    "ef = df.loc['Delhi'].rename_axis('date').reset_index()\n",
    "ef['date'] = ef['date'].astype('datetime64[ns]')\n",
    "ax4.bar(ef.date, ef.Delhi,color = '#007acc',alpha=0.5)\n",
    "ax4.set_xticks([])\n",
    "ax4.xaxis.set_major_locator(mdates.WeekdayLocator())\n",
    "ax4.xaxis.set_major_formatter(mdates.DateFormatter('%b %d'))\n",
    "ax4.set_xticks(ax4.get_xticks()[::3])\n",
    "ax4.spines['right'].set_visible(False)\n",
    "ax4.spines['top'].set_visible(False)\n",
    "\n",
    "ax4.text(0.05, 1,'Delhi', transform = ax4.transAxes, fontsize=20)\n",
    "\n",
    "for i in range(n):\n",
    "    \n",
    "    ax.append(fig.add_subplot(gs[i+2,:]))\n",
    "    ef = df.iloc[i+3].rename_axis('date').reset_index()\n",
    "    ef['date'] = ef['date'].astype('datetime64[ns]')\n",
    "    ax[i].bar(ef.date,ef.iloc[:,-1],color = '#007acc',alpha=0.3)\n",
    "    ax[i].plot(ef.date,ef.iloc[:,-1],marker='o',color='#007acc')\n",
    "    ax[i].text(0.02,0.5,f'{ef.columns.values[-1]}',transform = ax[i].transAxes, fontsize = 20);\n",
    "    ax[i].xaxis.set_major_locator(mdates.WeekdayLocator())\n",
    "    ax[i].xaxis.set_major_formatter(mdates.DateFormatter('%b %d'))\n",
    "    ax[i].set_ylim([0,7000])\n",
    "    ax[i].spines['right'].set_visible(False)\n",
    "    ax[i].spines['top'].set_visible(False)\n",
    "plt.tight_layout()\n"
   ]
  },
  {
   "cell_type": "code",
   "execution_count": 20,
   "metadata": {
    "execution": {
     "iopub.execute_input": "2020-09-06T04:22:18.275524Z",
     "iopub.status.busy": "2020-09-06T04:22:18.274887Z",
     "iopub.status.idle": "2020-09-06T04:22:18.276994Z",
     "shell.execute_reply": "2020-09-06T04:22:18.277543Z"
    },
    "papermill": {
     "duration": 0.034112,
     "end_time": "2020-09-06T04:22:18.277694",
     "exception": false,
     "start_time": "2020-09-06T04:22:18.243582",
     "status": "completed"
    },
    "tags": []
   },
   "outputs": [
    {
     "name": "stdout",
     "output_type": "stream",
     "text": [
      "                                   states   Cases  Deaths  PCases  PDeaths  Cases (+)  Deaths (+)  Fatality Rate\n",
      "                              Maharashtra  883862   26276  883862    26276          0           0           2.97\n",
      "                           Andhra Pradesh  487331    4347  487331     4347          0           0           0.89\n",
      "                               Tamil Nadu  457697    7751  457697     7751          0           0           1.69\n",
      "                                Karnataka  389232    6298  389232     6298          0           0           1.62\n",
      "                            Uttar Pradesh  259765    3843  259765     3843          0           0           1.48\n",
      "                                    Delhi  188193    4538  188193     4538          0           0           2.41\n",
      "                              West Bengal  177701    3510  177701     3510          0           0           1.98\n",
      "                                    Bihar  145861     750  145861      750          0           0           0.51\n",
      "                                Telangana  140969     886  138395      877       2574           9           0.63\n",
      "                                    Assam  123923     352  123923      352          0           0           0.28\n",
      "                                   Odisha  120221     591  120221      591          0           0           0.49\n",
      "                                  Gujarat  103006    3092  103006     3092          0           0           3.00\n",
      "                                Rajasthan   89363    1122   89363     1122          0           0           1.26\n",
      "                                   Kerala   84760     338   84760      338          0           0           0.40\n",
      "                                  Haryana   74272     781   74272      781          0           0           1.05\n",
      "                           Madhya Pradesh   71880    1543   71880     1543          0           0           2.15\n",
      "                                   Punjab   61527    1808   61527     1808          0           0           2.94\n",
      "                                Jharkhand   49797     462   49797      462          0           0           0.93\n",
      "                             Chhattisgarh   43163     356   43163      356          0           0           0.82\n",
      "                        Jammu and Kashmir   42241     770   42241      770          0           0           1.82\n",
      "                              Uttarakhand   23961     330   23961      330          0           0           1.38\n",
      "                                      Goa   20455     229   20455      229          0           0           1.12\n",
      "                               Puducherry   16566     298   16566      298          0           0           1.80\n",
      "                                  Tripura   14524     136   14524      136          0           0           0.94\n",
      "                         Himachal Pradesh    7018      53    7018       53          0           0           0.76\n",
      "                                  Manipur    6883      36    6883       36          0           0           0.52\n",
      "                               Chandigarh    5502      69    5502       69          0           0           1.25\n",
      "                        Arunachal Pradesh    4914       8    4914        8          0           0           0.16\n",
      "                                 Nagaland    4128       8    4128        8          0           0           0.19\n",
      "              Andaman and Nicobar Islands    3292      50    3292       50          0           0           1.52\n",
      "                                   Ladakh    2996      35    2996       35          0           0           1.17\n",
      "                                Meghalaya    2916      15    2916       15          0           0           0.51\n",
      " Dadra and Nagar Haveli and Daman and Diu    2531       2    2531        2          0           0           0.08\n",
      "                                   Sikkim    1901       5    1901        5          0           0           0.26\n",
      "                                  Mizoram    1093       0    1062        0         31           0           0.00\n",
      "                              Lakshadweep       0       0       0        0          0           0            NaN\n"
     ]
    }
   ],
   "source": [
    "#hide_input\n",
    "print(df_table.to_string(index=False))"
   ]
  },
  {
   "cell_type": "code",
   "execution_count": null,
   "metadata": {
    "papermill": {
     "duration": 0.022348,
     "end_time": "2020-09-06T04:22:18.322380",
     "exception": false,
     "start_time": "2020-09-06T04:22:18.300032",
     "status": "completed"
    },
    "tags": []
   },
   "outputs": [],
   "source": []
  },
  {
   "cell_type": "code",
   "execution_count": null,
   "metadata": {
    "papermill": {
     "duration": 0.022279,
     "end_time": "2020-09-06T04:22:18.367227",
     "exception": false,
     "start_time": "2020-09-06T04:22:18.344948",
     "status": "completed"
    },
    "tags": []
   },
   "outputs": [],
   "source": []
  }
 ],
 "metadata": {
  "kernelspec": {
   "display_name": "Python 3",
   "language": "python",
   "name": "python3"
  },
  "language_info": {
   "codemirror_mode": {
    "name": "ipython",
    "version": 3
   },
   "file_extension": ".py",
   "mimetype": "text/x-python",
   "name": "python",
   "nbconvert_exporter": "python",
   "pygments_lexer": "ipython3",
   "version": "3.6.12"
  },
  "papermill": {
   "duration": 10.332407,
   "end_time": "2020-09-06T04:22:19.728669",
   "environment_variables": {},
   "exception": null,
   "input_path": "latest.ipynb",
   "output_path": "latest.ipynb",
   "parameters": {},
   "start_time": "2020-09-06T04:22:09.396262",
   "version": "2.1.2"
  }
 },
 "nbformat": 4,
 "nbformat_minor": 4
}