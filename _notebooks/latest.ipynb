{
 "cells": [
  {
   "cell_type": "markdown",
   "metadata": {
    "papermill": {
     "duration": 0.022042,
     "end_time": "2020-10-23T04:30:27.835761",
     "exception": false,
     "start_time": "2020-10-23T04:30:27.813719",
     "status": "completed"
    },
    "tags": []
   },
   "source": [
    "# Latest COVID-19 India Matplotlib Overview"
   ]
  },
  {
   "cell_type": "code",
   "execution_count": 1,
   "metadata": {
    "execution": {
     "iopub.execute_input": "2020-10-23T04:30:27.873612Z",
     "iopub.status.busy": "2020-10-23T04:30:27.872895Z",
     "iopub.status.idle": "2020-10-23T04:30:28.455024Z",
     "shell.execute_reply": "2020-10-23T04:30:28.454458Z"
    },
    "papermill": {
     "duration": 0.60377,
     "end_time": "2020-10-23T04:30:28.455181",
     "exception": false,
     "start_time": "2020-10-23T04:30:27.851411",
     "status": "completed"
    },
    "tags": []
   },
   "outputs": [],
   "source": [
    "#hide\n",
    "import pandas as pd\n",
    "import numpy as np\n",
    "import requests\n",
    "import json\n",
    "import matplotlib.pyplot as plt\n",
    "import matplotlib.dates as mdates\n",
    "import matplotlib as mpl\n",
    "from IPython.core.display import display,HTML\n",
    "%matplotlib inline\n",
    "from datetime import date"
   ]
  },
  {
   "cell_type": "code",
   "execution_count": 2,
   "metadata": {
    "execution": {
     "iopub.execute_input": "2020-10-23T04:30:28.493503Z",
     "iopub.status.busy": "2020-10-23T04:30:28.492875Z",
     "iopub.status.idle": "2020-10-23T04:30:28.695844Z",
     "shell.execute_reply": "2020-10-23T04:30:28.694790Z"
    },
    "papermill": {
     "duration": 0.22568,
     "end_time": "2020-10-23T04:30:28.695997",
     "exception": false,
     "start_time": "2020-10-23T04:30:28.470317",
     "status": "completed"
    },
    "tags": []
   },
   "outputs": [],
   "source": [
    "#hide\n",
    "df  = pd.read_csv('https://api.covid19india.org/csv/latest/states.csv')\n",
    "df = df[['Date','State','Confirmed','Deceased']]\n",
    "df = df.rename(columns={'Confirmed':'Cases', \"Deceased\":'Deaths'})\n",
    "df_cases = df[[\"Date\",'State','Cases']]\n",
    "df_deaths = df[['Date','State','Deaths']]\n",
    "df_cases1 = df_cases.groupby('Date')\n",
    "df_deaths1= df_deaths.groupby('Date')"
   ]
  },
  {
   "cell_type": "code",
   "execution_count": 3,
   "metadata": {
    "execution": {
     "iopub.execute_input": "2020-10-23T04:30:28.732021Z",
     "iopub.status.busy": "2020-10-23T04:30:28.731225Z",
     "iopub.status.idle": "2020-10-23T04:30:28.749425Z",
     "shell.execute_reply": "2020-10-23T04:30:28.748735Z"
    },
    "papermill": {
     "duration": 0.038012,
     "end_time": "2020-10-23T04:30:28.749601",
     "exception": false,
     "start_time": "2020-10-23T04:30:28.711589",
     "status": "completed"
    },
    "tags": []
   },
   "outputs": [],
   "source": [
    "#hide\n",
    "df_snap = pd.read_csv('data/SnapshotCases-28-July.csv')\n",
    "arr_states = df_snap['states'].unique()\n",
    "arr_dates = df['Date'].unique()\n",
    "df_snap = df_snap.set_index('states')"
   ]
  },
  {
   "cell_type": "code",
   "execution_count": 4,
   "metadata": {
    "execution": {
     "iopub.execute_input": "2020-10-23T04:30:28.791049Z",
     "iopub.status.busy": "2020-10-23T04:30:28.790466Z",
     "iopub.status.idle": "2020-10-23T04:30:28.792963Z",
     "shell.execute_reply": "2020-10-23T04:30:28.793488Z"
    },
    "papermill": {
     "duration": 0.027137,
     "end_time": "2020-10-23T04:30:28.793625",
     "exception": false,
     "start_time": "2020-10-23T04:30:28.766488",
     "status": "completed"
    },
    "tags": []
   },
   "outputs": [
    {
     "data": {
      "text/plain": [
       "array(['Andaman and Nicobar Islands', 'Andhra Pradesh',\n",
       "       'Arunachal Pradesh', 'Assam', 'Bihar', 'Chandigarh',\n",
       "       'Dadra and Nagar Haveli and Daman and Diu', 'Delhi', 'Goa',\n",
       "       'Gujarat', 'Haryana', 'Himachal Pradesh', 'Jammu and Kashmir',\n",
       "       'Jharkhand', 'Karnataka', 'Kerala', 'Lakshadweep',\n",
       "       'Madhya Pradesh', 'Maharashtra', 'Manipur', 'Meghalaya', 'Mizoram',\n",
       "       'Nagaland', 'Odisha', 'Puducherry', 'Punjab', 'Rajasthan',\n",
       "       'Sikkim', 'Tamil Nadu', 'Telangana', 'Tripura', 'Uttar Pradesh',\n",
       "       'West Bengal', 'Chhattisgarh', 'Ladakh', 'Uttarakhand'],\n",
       "      dtype=object)"
      ]
     },
     "execution_count": 4,
     "metadata": {},
     "output_type": "execute_result"
    }
   ],
   "source": [
    "#hide\n",
    "arr_states[-9] = 'Puducherry'\n",
    "arr_states[-10] = 'Odisha'\n",
    "arr_states[6] = 'Dadra and Nagar Haveli and Daman and Diu'\n",
    "arr_states = np.append(arr_states,np.array(['Chhattisgarh','Ladakh','Uttarakhand']))\n",
    "arr_states"
   ]
  },
  {
   "cell_type": "code",
   "execution_count": 5,
   "metadata": {
    "execution": {
     "iopub.execute_input": "2020-10-23T04:30:28.840790Z",
     "iopub.status.busy": "2020-10-23T04:30:28.837123Z",
     "iopub.status.idle": "2020-10-23T04:30:28.848629Z",
     "shell.execute_reply": "2020-10-23T04:30:28.848132Z"
    },
    "papermill": {
     "duration": 0.035931,
     "end_time": "2020-10-23T04:30:28.848753",
     "exception": false,
     "start_time": "2020-10-23T04:30:28.812822",
     "status": "completed"
    },
    "tags": []
   },
   "outputs": [],
   "source": [
    "#hide\n",
    "dates = []\n",
    "for i in arr_dates:\n",
    "    if i>='2020-07-01':\n",
    "        dates.append(i)\n",
    "dict = {'states':dates}\n",
    "for i in arr_states:\n",
    "    dict[i] = [0]*len(dates)\n",
    "dft_cases = pd.DataFrame(dict)\n",
    "dft_deaths = pd.DataFrame(dict)\n"
   ]
  },
  {
   "cell_type": "code",
   "execution_count": 6,
   "metadata": {
    "execution": {
     "iopub.execute_input": "2020-10-23T04:30:28.888655Z",
     "iopub.status.busy": "2020-10-23T04:30:28.888059Z",
     "iopub.status.idle": "2020-10-23T04:30:30.461584Z",
     "shell.execute_reply": "2020-10-23T04:30:30.461054Z"
    },
    "papermill": {
     "duration": 1.597316,
     "end_time": "2020-10-23T04:30:30.461730",
     "exception": false,
     "start_time": "2020-10-23T04:30:28.864414",
     "status": "completed"
    },
    "tags": []
   },
   "outputs": [],
   "source": [
    "#hide\n",
    "for i in range(len(dates)):\n",
    "    df1_deaths = df_deaths1.get_group(dates[i])\n",
    "    for j in range(len(df1_deaths.index)):\n",
    "        if df1_deaths.iloc[j,1] in arr_states:\n",
    "            dft_deaths.loc[i,df1_deaths.iloc[j,1]] = df1_deaths.iloc[j,2]\n",
    "dft_deaths = dft_deaths.set_index('states')"
   ]
  },
  {
   "cell_type": "code",
   "execution_count": 7,
   "metadata": {
    "execution": {
     "iopub.execute_input": "2020-10-23T04:30:30.501659Z",
     "iopub.status.busy": "2020-10-23T04:30:30.501048Z",
     "iopub.status.idle": "2020-10-23T04:30:32.085134Z",
     "shell.execute_reply": "2020-10-23T04:30:32.084587Z"
    },
    "papermill": {
     "duration": 1.607409,
     "end_time": "2020-10-23T04:30:32.085281",
     "exception": false,
     "start_time": "2020-10-23T04:30:30.477872",
     "status": "completed"
    },
    "tags": []
   },
   "outputs": [],
   "source": [
    "#hide\n",
    "for i in range(len(dates)):\n",
    "    df1_cases = df_cases1.get_group(dates[i])\n",
    "    for j in range(len(df1_cases.index)):\n",
    "        if df1_cases.iloc[j,1] in arr_states:\n",
    "            dft_cases.loc[i,df1_cases.iloc[j,1]] = df1_cases.iloc[j,2]\n",
    "dft_cases = dft_cases.set_index('states')"
   ]
  },
  {
   "cell_type": "code",
   "execution_count": 8,
   "metadata": {
    "execution": {
     "iopub.execute_input": "2020-10-23T04:30:32.124376Z",
     "iopub.status.busy": "2020-10-23T04:30:32.123202Z",
     "iopub.status.idle": "2020-10-23T04:30:32.125458Z",
     "shell.execute_reply": "2020-10-23T04:30:32.125897Z"
    },
    "papermill": {
     "duration": 0.024941,
     "end_time": "2020-10-23T04:30:32.126040",
     "exception": false,
     "start_time": "2020-10-23T04:30:32.101099",
     "status": "completed"
    },
    "tags": []
   },
   "outputs": [],
   "source": [
    "#hide\n",
    "dft_cases = dft_cases.T\n",
    "dft_deaths = dft_deaths.T\n",
    "dt_today = dates[-1]\n",
    "dt_yday = dates[-2]"
   ]
  },
  {
   "cell_type": "code",
   "execution_count": 9,
   "metadata": {
    "execution": {
     "iopub.execute_input": "2020-10-23T04:30:32.164637Z",
     "iopub.status.busy": "2020-10-23T04:30:32.163195Z",
     "iopub.status.idle": "2020-10-23T04:30:32.169422Z",
     "shell.execute_reply": "2020-10-23T04:30:32.168913Z"
    },
    "papermill": {
     "duration": 0.027554,
     "end_time": "2020-10-23T04:30:32.169554",
     "exception": false,
     "start_time": "2020-10-23T04:30:32.142000",
     "status": "completed"
    },
    "tags": []
   },
   "outputs": [],
   "source": [
    "#hide\n",
    "dft_cases = dft_cases.reset_index()\n",
    "dft_deaths = dft_deaths.reset_index()\n",
    "dft_cases = dft_cases.rename(columns = {'index':'state'})\n",
    "dft_deaths = dft_deaths.rename(columns = {'index':'state'})"
   ]
  },
  {
   "cell_type": "code",
   "execution_count": 10,
   "metadata": {
    "execution": {
     "iopub.execute_input": "2020-10-23T04:30:32.214082Z",
     "iopub.status.busy": "2020-10-23T04:30:32.208467Z",
     "iopub.status.idle": "2020-10-23T04:30:32.215961Z",
     "shell.execute_reply": "2020-10-23T04:30:32.216424Z"
    },
    "papermill": {
     "duration": 0.031309,
     "end_time": "2020-10-23T04:30:32.216561",
     "exception": false,
     "start_time": "2020-10-23T04:30:32.185252",
     "status": "completed"
    },
    "tags": []
   },
   "outputs": [],
   "source": [
    "#hide\n",
    "dfc_cases = dft_cases.groupby('state')[dt_today].sum()\n",
    "dfc_deaths = dft_deaths.groupby('state')[dt_today].sum()\n",
    "dfp_cases = dft_cases.groupby('state')[dt_yday].sum()\n",
    "dfp_deaths = dft_deaths.groupby('state')[dt_yday].sum()"
   ]
  },
  {
   "cell_type": "code",
   "execution_count": 11,
   "metadata": {
    "execution": {
     "iopub.execute_input": "2020-10-23T04:30:32.256325Z",
     "iopub.status.busy": "2020-10-23T04:30:32.255581Z",
     "iopub.status.idle": "2020-10-23T04:30:32.267927Z",
     "shell.execute_reply": "2020-10-23T04:30:32.267463Z"
    },
    "papermill": {
     "duration": 0.036122,
     "end_time": "2020-10-23T04:30:32.268057",
     "exception": false,
     "start_time": "2020-10-23T04:30:32.231935",
     "status": "completed"
    },
    "tags": []
   },
   "outputs": [
    {
     "data": {
      "text/html": [
       "<div>\n",
       "<style scoped>\n",
       "    .dataframe tbody tr th:only-of-type {\n",
       "        vertical-align: middle;\n",
       "    }\n",
       "\n",
       "    .dataframe tbody tr th {\n",
       "        vertical-align: top;\n",
       "    }\n",
       "\n",
       "    .dataframe thead th {\n",
       "        text-align: right;\n",
       "    }\n",
       "</style>\n",
       "<table border=\"1\" class=\"dataframe\">\n",
       "  <thead>\n",
       "    <tr style=\"text-align: right;\">\n",
       "      <th></th>\n",
       "      <th>states</th>\n",
       "      <th>Cases</th>\n",
       "      <th>Deaths</th>\n",
       "      <th>PCases</th>\n",
       "      <th>PDeaths</th>\n",
       "    </tr>\n",
       "  </thead>\n",
       "  <tbody>\n",
       "    <tr>\n",
       "      <th>0</th>\n",
       "      <td>Maharashtra</td>\n",
       "      <td>1625197</td>\n",
       "      <td>42831</td>\n",
       "      <td>1625197</td>\n",
       "      <td>42831</td>\n",
       "    </tr>\n",
       "    <tr>\n",
       "      <th>1</th>\n",
       "      <td>Andhra Pradesh</td>\n",
       "      <td>796919</td>\n",
       "      <td>6524</td>\n",
       "      <td>796919</td>\n",
       "      <td>6524</td>\n",
       "    </tr>\n",
       "    <tr>\n",
       "      <th>2</th>\n",
       "      <td>Karnataka</td>\n",
       "      <td>788551</td>\n",
       "      <td>10770</td>\n",
       "      <td>788551</td>\n",
       "      <td>10770</td>\n",
       "    </tr>\n",
       "    <tr>\n",
       "      <th>3</th>\n",
       "      <td>Tamil Nadu</td>\n",
       "      <td>700193</td>\n",
       "      <td>10825</td>\n",
       "      <td>700193</td>\n",
       "      <td>10825</td>\n",
       "    </tr>\n",
       "    <tr>\n",
       "      <th>4</th>\n",
       "      <td>Uttar Pradesh</td>\n",
       "      <td>463858</td>\n",
       "      <td>6790</td>\n",
       "      <td>463858</td>\n",
       "      <td>6790</td>\n",
       "    </tr>\n",
       "  </tbody>\n",
       "</table>\n",
       "</div>"
      ],
      "text/plain": [
       "           states    Cases  Deaths   PCases  PDeaths\n",
       "0     Maharashtra  1625197   42831  1625197    42831\n",
       "1  Andhra Pradesh   796919    6524   796919     6524\n",
       "2       Karnataka   788551   10770   788551    10770\n",
       "3      Tamil Nadu   700193   10825   700193    10825\n",
       "4   Uttar Pradesh   463858    6790   463858     6790"
      ]
     },
     "execution_count": 11,
     "metadata": {},
     "output_type": "execute_result"
    }
   ],
   "source": [
    "#hide\n",
    "df_table = pd.DataFrame({'states': dfc_cases.index, 'Cases': dfc_cases.values, 'Deaths': dfc_deaths.values, 'PCases': dfp_cases.values, 'PDeaths': dfp_deaths.values}).set_index('states')\n",
    "df_table = df_table.sort_values(by = ['Cases','Deaths'], ascending = [False, False])\n",
    "df_table = df_table.reset_index()\n",
    "df_table.head()"
   ]
  },
  {
   "cell_type": "code",
   "execution_count": 12,
   "metadata": {
    "execution": {
     "iopub.execute_input": "2020-10-23T04:30:32.312607Z",
     "iopub.status.busy": "2020-10-23T04:30:32.305683Z",
     "iopub.status.idle": "2020-10-23T04:30:32.315663Z",
     "shell.execute_reply": "2020-10-23T04:30:32.315171Z"
    },
    "papermill": {
     "duration": 0.031859,
     "end_time": "2020-10-23T04:30:32.315784",
     "exception": false,
     "start_time": "2020-10-23T04:30:32.283925",
     "status": "completed"
    },
    "tags": []
   },
   "outputs": [],
   "source": [
    "#hide\n",
    "for c in 'Cases, Deaths'.split(', '):\n",
    "    df_table[f'{c} (+)'] = (df_table[c] - df_table[f'P{c}']).clip(0)\n",
    "df_table['Fatality Rate'] = (100* df_table['Deaths']/ df_table['Cases']).round(2)"
   ]
  },
  {
   "cell_type": "code",
   "execution_count": 13,
   "metadata": {
    "execution": {
     "iopub.execute_input": "2020-10-23T04:30:32.357799Z",
     "iopub.status.busy": "2020-10-23T04:30:32.357206Z",
     "iopub.status.idle": "2020-10-23T04:30:32.361332Z",
     "shell.execute_reply": "2020-10-23T04:30:32.361896Z"
    },
    "papermill": {
     "duration": 0.03055,
     "end_time": "2020-10-23T04:30:32.362042",
     "exception": false,
     "start_time": "2020-10-23T04:30:32.331492",
     "status": "completed"
    },
    "tags": []
   },
   "outputs": [
    {
     "data": {
      "text/html": [
       "<div>\n",
       "<style scoped>\n",
       "    .dataframe tbody tr th:only-of-type {\n",
       "        vertical-align: middle;\n",
       "    }\n",
       "\n",
       "    .dataframe tbody tr th {\n",
       "        vertical-align: top;\n",
       "    }\n",
       "\n",
       "    .dataframe thead th {\n",
       "        text-align: right;\n",
       "    }\n",
       "</style>\n",
       "<table border=\"1\" class=\"dataframe\">\n",
       "  <thead>\n",
       "    <tr style=\"text-align: right;\">\n",
       "      <th></th>\n",
       "      <th>states</th>\n",
       "      <th>Cases</th>\n",
       "      <th>Deaths</th>\n",
       "      <th>PCases</th>\n",
       "      <th>PDeaths</th>\n",
       "      <th>Cases (+)</th>\n",
       "      <th>Deaths (+)</th>\n",
       "      <th>Fatality Rate</th>\n",
       "    </tr>\n",
       "  </thead>\n",
       "  <tbody>\n",
       "    <tr>\n",
       "      <th>0</th>\n",
       "      <td>Maharashtra</td>\n",
       "      <td>1625197</td>\n",
       "      <td>42831</td>\n",
       "      <td>1625197</td>\n",
       "      <td>42831</td>\n",
       "      <td>0</td>\n",
       "      <td>0</td>\n",
       "      <td>2.64</td>\n",
       "    </tr>\n",
       "    <tr>\n",
       "      <th>1</th>\n",
       "      <td>Andhra Pradesh</td>\n",
       "      <td>796919</td>\n",
       "      <td>6524</td>\n",
       "      <td>796919</td>\n",
       "      <td>6524</td>\n",
       "      <td>0</td>\n",
       "      <td>0</td>\n",
       "      <td>0.82</td>\n",
       "    </tr>\n",
       "    <tr>\n",
       "      <th>2</th>\n",
       "      <td>Karnataka</td>\n",
       "      <td>788551</td>\n",
       "      <td>10770</td>\n",
       "      <td>788551</td>\n",
       "      <td>10770</td>\n",
       "      <td>0</td>\n",
       "      <td>0</td>\n",
       "      <td>1.37</td>\n",
       "    </tr>\n",
       "    <tr>\n",
       "      <th>3</th>\n",
       "      <td>Tamil Nadu</td>\n",
       "      <td>700193</td>\n",
       "      <td>10825</td>\n",
       "      <td>700193</td>\n",
       "      <td>10825</td>\n",
       "      <td>0</td>\n",
       "      <td>0</td>\n",
       "      <td>1.55</td>\n",
       "    </tr>\n",
       "    <tr>\n",
       "      <th>4</th>\n",
       "      <td>Uttar Pradesh</td>\n",
       "      <td>463858</td>\n",
       "      <td>6790</td>\n",
       "      <td>463858</td>\n",
       "      <td>6790</td>\n",
       "      <td>0</td>\n",
       "      <td>0</td>\n",
       "      <td>1.46</td>\n",
       "    </tr>\n",
       "  </tbody>\n",
       "</table>\n",
       "</div>"
      ],
      "text/plain": [
       "           states    Cases  Deaths   PCases  PDeaths  Cases (+)  Deaths (+)  \\\n",
       "0     Maharashtra  1625197   42831  1625197    42831          0           0   \n",
       "1  Andhra Pradesh   796919    6524   796919     6524          0           0   \n",
       "2       Karnataka   788551   10770   788551    10770          0           0   \n",
       "3      Tamil Nadu   700193   10825   700193    10825          0           0   \n",
       "4   Uttar Pradesh   463858    6790   463858     6790          0           0   \n",
       "\n",
       "   Fatality Rate  \n",
       "0           2.64  \n",
       "1           0.82  \n",
       "2           1.37  \n",
       "3           1.55  \n",
       "4           1.46  "
      ]
     },
     "execution_count": 13,
     "metadata": {},
     "output_type": "execute_result"
    }
   ],
   "source": [
    "#hide\n",
    "df_table.head()"
   ]
  },
  {
   "cell_type": "code",
   "execution_count": 14,
   "metadata": {
    "execution": {
     "iopub.execute_input": "2020-10-23T04:30:32.400540Z",
     "iopub.status.busy": "2020-10-23T04:30:32.399968Z",
     "iopub.status.idle": "2020-10-23T04:30:32.416403Z",
     "shell.execute_reply": "2020-10-23T04:30:32.416953Z"
    },
    "papermill": {
     "duration": 0.038815,
     "end_time": "2020-10-23T04:30:32.417144",
     "exception": false,
     "start_time": "2020-10-23T04:30:32.378329",
     "status": "completed"
    },
    "tags": []
   },
   "outputs": [
    {
     "data": {
      "text/plain": [
       "{'updated': '2020-10-23',\n",
       " 'since': '2020-10-22',\n",
       " 'Cases': 7761079,\n",
       " 'PCases': 7759640,\n",
       " 'Deaths': 117342,\n",
       " 'PDeaths': 117336,\n",
       " 'Cases (+)': 1439,\n",
       " 'Deaths (+)': 6}"
      ]
     },
     "execution_count": 14,
     "metadata": {},
     "output_type": "execute_result"
    }
   ],
   "source": [
    "#hide\n",
    "summary = {'updated':dates[-1], 'since':dates[-2]}\n",
    "list_names = ['Cases', 'PCases', 'Deaths', 'PDeaths', 'Cases (+)', 'Deaths (+)']\n",
    "for name in list_names:\n",
    "    summary[name] = df_table.sum()[name]\n",
    "summary"
   ]
  },
  {
   "cell_type": "code",
   "execution_count": 15,
   "metadata": {
    "execution": {
     "iopub.execute_input": "2020-10-23T04:30:32.455769Z",
     "iopub.status.busy": "2020-10-23T04:30:32.455189Z",
     "iopub.status.idle": "2020-10-23T04:30:32.457666Z",
     "shell.execute_reply": "2020-10-23T04:30:32.458169Z"
    },
    "papermill": {
     "duration": 0.023906,
     "end_time": "2020-10-23T04:30:32.458299",
     "exception": false,
     "start_time": "2020-10-23T04:30:32.434393",
     "status": "completed"
    },
    "tags": []
   },
   "outputs": [],
   "source": [
    "#hide\n",
    "overview = '''\n",
    "<!-- #######  HTML!! #########-->\n",
    "<h1 style=\"color: #5e9ca0; text-align: center;\">India</h1>\n",
    "<p style=\"text-align: center;\">Last update: <strong>{update}</strong></p>\n",
    "<p style=\"text-align: center;\">Confirmed cases:</p>\n",
    "<p style=\"text-align: center;font-size:24px;\">{cases} (<span style=\"color: #ff0000;\">+{new}</span>)</p>\n",
    "<p style=\"text-align: center;\">Confirmed deaths:</p>\n",
    "<p style=\"text-align: center;font-size:24px;\">{deaths} (<span style=\"color: #ff0000;\">+{dnew}</span>)</p>\n",
    "'''"
   ]
  },
  {
   "cell_type": "code",
   "execution_count": 16,
   "metadata": {
    "execution": {
     "iopub.execute_input": "2020-10-23T04:30:32.496274Z",
     "iopub.status.busy": "2020-10-23T04:30:32.495705Z",
     "iopub.status.idle": "2020-10-23T04:30:32.499041Z",
     "shell.execute_reply": "2020-10-23T04:30:32.498554Z"
    },
    "papermill": {
     "duration": 0.024581,
     "end_time": "2020-10-23T04:30:32.499163",
     "exception": false,
     "start_time": "2020-10-23T04:30:32.474582",
     "status": "completed"
    },
    "tags": []
   },
   "outputs": [
    {
     "data": {
      "text/html": [
       "\n",
       "<!-- #######  HTML!! #########-->\n",
       "<h1 style=\"color: #5e9ca0; text-align: center;\">India</h1>\n",
       "<p style=\"text-align: center;\">Last update: <strong>2020-10-23</strong></p>\n",
       "<p style=\"text-align: center;\">Confirmed cases:</p>\n",
       "<p style=\"text-align: center;font-size:24px;\">7761079 (<span style=\"color: #ff0000;\">+1439</span>)</p>\n",
       "<p style=\"text-align: center;\">Confirmed deaths:</p>\n",
       "<p style=\"text-align: center;font-size:24px;\">117342 (<span style=\"color: #ff0000;\">+6</span>)</p>\n"
      ],
      "text/plain": [
       "<IPython.core.display.HTML object>"
      ]
     },
     "metadata": {},
     "output_type": "display_data"
    }
   ],
   "source": [
    "#hide_input\n",
    "update = summary['updated']\n",
    "cases = summary['Cases']\n",
    "new = summary['Cases (+)']\n",
    "deaths = summary['Deaths']\n",
    "dnew = summary['Deaths (+)']\n",
    "\n",
    "html = HTML(overview.format(update=update, cases=cases,new=new,deaths=deaths,dnew=dnew))\n",
    "\n",
    "display(html)"
   ]
  },
  {
   "cell_type": "code",
   "execution_count": 17,
   "metadata": {
    "execution": {
     "iopub.execute_input": "2020-10-23T04:30:32.539817Z",
     "iopub.status.busy": "2020-10-23T04:30:32.539203Z",
     "iopub.status.idle": "2020-10-23T04:30:32.544806Z",
     "shell.execute_reply": "2020-10-23T04:30:32.544332Z"
    },
    "papermill": {
     "duration": 0.028849,
     "end_time": "2020-10-23T04:30:32.544916",
     "exception": false,
     "start_time": "2020-10-23T04:30:32.516067",
     "status": "completed"
    },
    "tags": []
   },
   "outputs": [],
   "source": [
    "#hide\n",
    "dt_cols = list(dft_cases.columns[1:])\n",
    "dft_ct_new_cases = dft_cases.groupby('state')[dt_cols].sum().diff(axis=1).fillna(0).astype(int)\n",
    "dft_ct_new_cases.sort_values(by = dates[-1], ascending = False,inplace = True)"
   ]
  },
  {
   "cell_type": "code",
   "execution_count": 18,
   "metadata": {
    "execution": {
     "iopub.execute_input": "2020-10-23T04:30:32.597896Z",
     "iopub.status.busy": "2020-10-23T04:30:32.597310Z",
     "iopub.status.idle": "2020-10-23T04:30:32.600483Z",
     "shell.execute_reply": "2020-10-23T04:30:32.600922Z"
    },
    "papermill": {
     "duration": 0.039531,
     "end_time": "2020-10-23T04:30:32.601085",
     "exception": false,
     "start_time": "2020-10-23T04:30:32.561554",
     "status": "completed"
    },
    "tags": []
   },
   "outputs": [
    {
     "data": {
      "text/html": [
       "<div>\n",
       "<style scoped>\n",
       "    .dataframe tbody tr th:only-of-type {\n",
       "        vertical-align: middle;\n",
       "    }\n",
       "\n",
       "    .dataframe tbody tr th {\n",
       "        vertical-align: top;\n",
       "    }\n",
       "\n",
       "    .dataframe thead th {\n",
       "        text-align: right;\n",
       "    }\n",
       "</style>\n",
       "<table border=\"1\" class=\"dataframe\">\n",
       "  <thead>\n",
       "    <tr style=\"text-align: right;\">\n",
       "      <th>states</th>\n",
       "      <th>2020-07-01</th>\n",
       "      <th>2020-07-02</th>\n",
       "      <th>2020-07-03</th>\n",
       "      <th>2020-07-04</th>\n",
       "      <th>2020-07-05</th>\n",
       "      <th>2020-07-06</th>\n",
       "      <th>2020-07-07</th>\n",
       "      <th>2020-07-08</th>\n",
       "      <th>2020-07-09</th>\n",
       "      <th>2020-07-10</th>\n",
       "      <th>...</th>\n",
       "      <th>2020-10-14</th>\n",
       "      <th>2020-10-15</th>\n",
       "      <th>2020-10-16</th>\n",
       "      <th>2020-10-17</th>\n",
       "      <th>2020-10-18</th>\n",
       "      <th>2020-10-19</th>\n",
       "      <th>2020-10-20</th>\n",
       "      <th>2020-10-21</th>\n",
       "      <th>2020-10-22</th>\n",
       "      <th>2020-10-23</th>\n",
       "    </tr>\n",
       "    <tr>\n",
       "      <th>state</th>\n",
       "      <th></th>\n",
       "      <th></th>\n",
       "      <th></th>\n",
       "      <th></th>\n",
       "      <th></th>\n",
       "      <th></th>\n",
       "      <th></th>\n",
       "      <th></th>\n",
       "      <th></th>\n",
       "      <th></th>\n",
       "      <th></th>\n",
       "      <th></th>\n",
       "      <th></th>\n",
       "      <th></th>\n",
       "      <th></th>\n",
       "      <th></th>\n",
       "      <th></th>\n",
       "      <th></th>\n",
       "      <th></th>\n",
       "      <th></th>\n",
       "      <th></th>\n",
       "    </tr>\n",
       "  </thead>\n",
       "  <tbody>\n",
       "    <tr>\n",
       "      <th>Telangana</th>\n",
       "      <td>0</td>\n",
       "      <td>1213</td>\n",
       "      <td>1892</td>\n",
       "      <td>1850</td>\n",
       "      <td>1590</td>\n",
       "      <td>1831</td>\n",
       "      <td>1879</td>\n",
       "      <td>1924</td>\n",
       "      <td>1410</td>\n",
       "      <td>1278</td>\n",
       "      <td>...</td>\n",
       "      <td>1446</td>\n",
       "      <td>1432</td>\n",
       "      <td>1554</td>\n",
       "      <td>1451</td>\n",
       "      <td>1436</td>\n",
       "      <td>948</td>\n",
       "      <td>1486</td>\n",
       "      <td>1579</td>\n",
       "      <td>1456</td>\n",
       "      <td>1421</td>\n",
       "    </tr>\n",
       "    <tr>\n",
       "      <th>Mizoram</th>\n",
       "      <td>0</td>\n",
       "      <td>2</td>\n",
       "      <td>0</td>\n",
       "      <td>2</td>\n",
       "      <td>22</td>\n",
       "      <td>11</td>\n",
       "      <td>1</td>\n",
       "      <td>5</td>\n",
       "      <td>0</td>\n",
       "      <td>23</td>\n",
       "      <td>...</td>\n",
       "      <td>10</td>\n",
       "      <td>8</td>\n",
       "      <td>9</td>\n",
       "      <td>16</td>\n",
       "      <td>8</td>\n",
       "      <td>0</td>\n",
       "      <td>27</td>\n",
       "      <td>30</td>\n",
       "      <td>31</td>\n",
       "      <td>18</td>\n",
       "    </tr>\n",
       "    <tr>\n",
       "      <th>Andaman and Nicobar Islands</th>\n",
       "      <td>0</td>\n",
       "      <td>9</td>\n",
       "      <td>7</td>\n",
       "      <td>3</td>\n",
       "      <td>6</td>\n",
       "      <td>16</td>\n",
       "      <td>6</td>\n",
       "      <td>2</td>\n",
       "      <td>7</td>\n",
       "      <td>0</td>\n",
       "      <td>...</td>\n",
       "      <td>10</td>\n",
       "      <td>16</td>\n",
       "      <td>10</td>\n",
       "      <td>11</td>\n",
       "      <td>25</td>\n",
       "      <td>18</td>\n",
       "      <td>15</td>\n",
       "      <td>27</td>\n",
       "      <td>16</td>\n",
       "      <td>0</td>\n",
       "    </tr>\n",
       "    <tr>\n",
       "      <th>Puducherry</th>\n",
       "      <td>0</td>\n",
       "      <td>63</td>\n",
       "      <td>22</td>\n",
       "      <td>80</td>\n",
       "      <td>42</td>\n",
       "      <td>65</td>\n",
       "      <td>30</td>\n",
       "      <td>110</td>\n",
       "      <td>49</td>\n",
       "      <td>72</td>\n",
       "      <td>...</td>\n",
       "      <td>241</td>\n",
       "      <td>241</td>\n",
       "      <td>280</td>\n",
       "      <td>212</td>\n",
       "      <td>163</td>\n",
       "      <td>106</td>\n",
       "      <td>205</td>\n",
       "      <td>170</td>\n",
       "      <td>210</td>\n",
       "      <td>0</td>\n",
       "    </tr>\n",
       "    <tr>\n",
       "      <th>Maharashtra</th>\n",
       "      <td>0</td>\n",
       "      <td>6328</td>\n",
       "      <td>6364</td>\n",
       "      <td>7074</td>\n",
       "      <td>6555</td>\n",
       "      <td>5368</td>\n",
       "      <td>5134</td>\n",
       "      <td>6603</td>\n",
       "      <td>6875</td>\n",
       "      <td>7862</td>\n",
       "      <td>...</td>\n",
       "      <td>10552</td>\n",
       "      <td>10226</td>\n",
       "      <td>11447</td>\n",
       "      <td>10259</td>\n",
       "      <td>9060</td>\n",
       "      <td>5984</td>\n",
       "      <td>8151</td>\n",
       "      <td>8142</td>\n",
       "      <td>7539</td>\n",
       "      <td>0</td>\n",
       "    </tr>\n",
       "  </tbody>\n",
       "</table>\n",
       "<p>5 rows × 115 columns</p>\n",
       "</div>"
      ],
      "text/plain": [
       "states                       2020-07-01  2020-07-02  2020-07-03  2020-07-04  \\\n",
       "state                                                                         \n",
       "Telangana                             0        1213        1892        1850   \n",
       "Mizoram                               0           2           0           2   \n",
       "Andaman and Nicobar Islands           0           9           7           3   \n",
       "Puducherry                            0          63          22          80   \n",
       "Maharashtra                           0        6328        6364        7074   \n",
       "\n",
       "states                       2020-07-05  2020-07-06  2020-07-07  2020-07-08  \\\n",
       "state                                                                         \n",
       "Telangana                          1590        1831        1879        1924   \n",
       "Mizoram                              22          11           1           5   \n",
       "Andaman and Nicobar Islands           6          16           6           2   \n",
       "Puducherry                           42          65          30         110   \n",
       "Maharashtra                        6555        5368        5134        6603   \n",
       "\n",
       "states                       2020-07-09  2020-07-10  ...  2020-10-14  \\\n",
       "state                                                ...               \n",
       "Telangana                          1410        1278  ...        1446   \n",
       "Mizoram                               0          23  ...          10   \n",
       "Andaman and Nicobar Islands           7           0  ...          10   \n",
       "Puducherry                           49          72  ...         241   \n",
       "Maharashtra                        6875        7862  ...       10552   \n",
       "\n",
       "states                       2020-10-15  2020-10-16  2020-10-17  2020-10-18  \\\n",
       "state                                                                         \n",
       "Telangana                          1432        1554        1451        1436   \n",
       "Mizoram                               8           9          16           8   \n",
       "Andaman and Nicobar Islands          16          10          11          25   \n",
       "Puducherry                          241         280         212         163   \n",
       "Maharashtra                       10226       11447       10259        9060   \n",
       "\n",
       "states                       2020-10-19  2020-10-20  2020-10-21  2020-10-22  \\\n",
       "state                                                                         \n",
       "Telangana                           948        1486        1579        1456   \n",
       "Mizoram                               0          27          30          31   \n",
       "Andaman and Nicobar Islands          18          15          27          16   \n",
       "Puducherry                          106         205         170         210   \n",
       "Maharashtra                        5984        8151        8142        7539   \n",
       "\n",
       "states                       2020-10-23  \n",
       "state                                    \n",
       "Telangana                          1421  \n",
       "Mizoram                              18  \n",
       "Andaman and Nicobar Islands           0  \n",
       "Puducherry                            0  \n",
       "Maharashtra                           0  \n",
       "\n",
       "[5 rows x 115 columns]"
      ]
     },
     "execution_count": 18,
     "metadata": {},
     "output_type": "execute_result"
    }
   ],
   "source": [
    "#hide\n",
    "dft_ct_new_cases.head()"
   ]
  },
  {
   "cell_type": "code",
   "execution_count": 19,
   "metadata": {
    "execution": {
     "iopub.execute_input": "2020-10-23T04:30:32.655457Z",
     "iopub.status.busy": "2020-10-23T04:30:32.643955Z",
     "iopub.status.idle": "2020-10-23T04:30:36.864574Z",
     "shell.execute_reply": "2020-10-23T04:30:36.865085Z"
    },
    "papermill": {
     "duration": 4.246507,
     "end_time": "2020-10-23T04:30:36.865247",
     "exception": false,
     "start_time": "2020-10-23T04:30:32.618740",
     "status": "completed"
    },
    "tags": []
   },
   "outputs": [
    {
     "data": {
      "image/png": "[encoded data removed]",
      "text/plain": [
       "<Figure size 1296x2016 with 11 Axes>"
      ]
     },
     "metadata": {
      "needs_background": "light"
     },
     "output_type": "display_data"
    }
   ],
   "source": [
    "#hide_input\n",
    "df = dft_ct_new_cases.copy()\n",
    "df.loc['Total'] = df.sum()\n",
    "n = 5\n",
    "ax = []\n",
    "fig = plt.figure(figsize = (18,28))\n",
    "gs = fig.add_gridspec(n+2, 5)\n",
    "# gs = fig.add_gridspec(2, 3)\n",
    "ax1 = fig.add_subplot(gs[0, :])\n",
    "ef = df.loc['Total'].rename_axis('date').reset_index()\n",
    "ef['date'] = ef['date'].astype('datetime64[ns]')\n",
    "ax1.bar(ef.date,ef.Total,alpha=0.3,color='#007acc')\n",
    "ax1.plot(ef.date,ef.Total , marker=\"o\", color='#007acc')\n",
    "ax1.xaxis.set_major_locator(mdates.WeekdayLocator())\n",
    "ax1.xaxis.set_major_formatter(mdates.DateFormatter('%b %d'))\n",
    "ax1.text(0.02, 0.5,'India daily case count', transform = ax1.transAxes, fontsize=25);\n",
    "ax1.spines['right'].set_visible(False)\n",
    "ax1.spines['top'].set_visible(False)\n",
    "\n",
    "ax2 = fig.add_subplot(gs[1,0])\n",
    "ef = df.loc['Maharashtra'].rename_axis('date').reset_index()\n",
    "ef['date'] = ef['date'].astype('datetime64[ns]')\n",
    "\n",
    "ax2.bar(ef.date, ef.Maharashtra,color = '#007acc',alpha=0.5)\n",
    "ax2.xaxis.set_major_locator(mdates.WeekdayLocator())\n",
    "ax2.xaxis.set_major_formatter(mdates.DateFormatter('%b %d'))\n",
    "ax2.set_xticks(ax2.get_xticks()[::3])\n",
    "maxyval = ef.Maharashtra.max()\n",
    "ax2.set_ylim([0,maxyval])\n",
    "ax2.text(0.05, 0.9,'Maharashtra', transform = ax2.transAxes, fontsize=20);\n",
    "ax2.spines['right'].set_visible(False)\n",
    "ax2.spines['top'].set_visible(False)\n",
    "\n",
    "\n",
    "ax3 = fig.add_subplot(gs[1,1])\n",
    "ef = df.loc['Tamil Nadu'].rename_axis('date').reset_index()\n",
    "ef['date'] = ef['date'].astype('datetime64[ns]')\n",
    "ax3.bar(ef.date, ef['Tamil Nadu'],color = '#007acc',alpha=0.5,)\n",
    "ax3.xaxis.set_major_locator(mdates.WeekdayLocator())\n",
    "ax3.xaxis.set_major_formatter(mdates.DateFormatter('%b %d'))\n",
    "ax3.set_xticks(ax3.get_xticks()[::3])\n",
    "ax3.text(0.05, 0.9,'Tamil Nadu', transform = ax3.transAxes, fontsize=20);\n",
    "ax3.spines['right'].set_visible(False)\n",
    "ax3.spines['top'].set_visible(False)\n",
    "\n",
    "ax5 = fig.add_subplot(gs[1,3])\n",
    "ef = df.loc['Telangana'].rename_axis('date').reset_index()\n",
    "ef['date'] = ef['date'].astype('datetime64[ns]')\n",
    "ax5.bar(ef.date, ef['Telangana'],color = '#007acc',alpha=0.5,)\n",
    "ax5.xaxis.set_major_locator(mdates.WeekdayLocator())\n",
    "ax5.xaxis.set_major_formatter(mdates.DateFormatter('%b %d'))\n",
    "ax5.set_xticks(ax5.get_xticks()[::3])\n",
    "ax5.text(0.05, 0.9,'Telangana', transform = ax5.transAxes, fontsize=20);\n",
    "ax5.spines['right'].set_visible(False)\n",
    "ax5.spines['top'].set_visible(False)\n",
    "\n",
    "ax6 = fig.add_subplot(gs[1,4])\n",
    "ef = df.loc['Andhra Pradesh'].rename_axis('date').reset_index()\n",
    "ef['date'] = ef['date'].astype('datetime64[ns]')\n",
    "ax6.bar(ef.date, ef['Andhra Pradesh'],color = '#007acc',alpha=0.5,)\n",
    "ax6.xaxis.set_major_locator(mdates.WeekdayLocator())\n",
    "ax6.xaxis.set_major_formatter(mdates.DateFormatter('%b %d'))\n",
    "ax6.set_xticks(ax6.get_xticks()[::3])\n",
    "ax6.text(0.05, 1,'Andhra Pradesh', transform = ax6.transAxes, fontsize=20);\n",
    "ax6.spines['right'].set_visible(False)\n",
    "ax6.spines['top'].set_visible(False)\n",
    "\n",
    "ax4 = fig.add_subplot(gs[1,2])\n",
    "ef = df.loc['Delhi'].rename_axis('date').reset_index()\n",
    "ef['date'] = ef['date'].astype('datetime64[ns]')\n",
    "ax4.bar(ef.date, ef.Delhi,color = '#007acc',alpha=0.5)\n",
    "ax4.set_xticks([])\n",
    "ax4.xaxis.set_major_locator(mdates.WeekdayLocator())\n",
    "ax4.xaxis.set_major_formatter(mdates.DateFormatter('%b %d'))\n",
    "ax4.set_xticks(ax4.get_xticks()[::3])\n",
    "ax4.spines['right'].set_visible(False)\n",
    "ax4.spines['top'].set_visible(False)\n",
    "\n",
    "ax4.text(0.05, 1,'Delhi', transform = ax4.transAxes, fontsize=20)\n",
    "\n",
    "for i in range(n):\n",
    "    \n",
    "    ax.append(fig.add_subplot(gs[i+2,:]))\n",
    "    ef = df.iloc[i+3].rename_axis('date').reset_index()\n",
    "    ef['date'] = ef['date'].astype('datetime64[ns]')\n",
    "    ax[i].bar(ef.date,ef.iloc[:,-1],color = '#007acc',alpha=0.3)\n",
    "    ax[i].plot(ef.date,ef.iloc[:,-1],marker='o',color='#007acc')\n",
    "    ax[i].text(0.02,0.5,f'{ef.columns.values[-1]}',transform = ax[i].transAxes, fontsize = 20);\n",
    "    ax[i].xaxis.set_major_locator(mdates.WeekdayLocator())\n",
    "    ax[i].xaxis.set_major_formatter(mdates.DateFormatter('%b %d'))\n",
    "    ax[i].set_ylim([0,7000])\n",
    "    ax[i].spines['right'].set_visible(False)\n",
    "    ax[i].spines['top'].set_visible(False)\n",
    "plt.tight_layout()\n"
   ]
  },
  {
   "cell_type": "code",
   "execution_count": 20,
   "metadata": {
    "execution": {
     "iopub.execute_input": "2020-10-23T04:30:36.920775Z",
     "iopub.status.busy": "2020-10-23T04:30:36.920162Z",
     "iopub.status.idle": "2020-10-23T04:30:36.922446Z",
     "shell.execute_reply": "2020-10-23T04:30:36.922908Z"
    },
    "papermill": {
     "duration": 0.034345,
     "end_time": "2020-10-23T04:30:36.923052",
     "exception": false,
     "start_time": "2020-10-23T04:30:36.888707",
     "status": "completed"
    },
    "tags": []
   },
   "outputs": [
    {
     "name": "stdout",
     "output_type": "stream",
     "text": [
      "                                   states    Cases  Deaths   PCases  PDeaths  Cases (+)  Deaths (+)  Fatality Rate\n",
      "                              Maharashtra  1625197   42831  1625197    42831          0           0           2.64\n",
      "                           Andhra Pradesh   796919    6524   796919     6524          0           0           0.82\n",
      "                                Karnataka   788551   10770   788551    10770          0           0           1.37\n",
      "                               Tamil Nadu   700193   10825   700193    10825          0           0           1.55\n",
      "                            Uttar Pradesh   463858    6790   463858     6790          0           0           1.46\n",
      "                                   Kerala   369324    1256   369324     1256          0           0           0.34\n",
      "                                    Delhi   344318    6163   344318     6163          0           0           1.79\n",
      "                              West Bengal   337283    6308   337283     6308          0           0           1.87\n",
      "                                   Odisha   276094    1249   276094     1249          0           0           0.45\n",
      "                                Telangana   229001    1298   227580     1292       1421           6           0.57\n",
      "                                    Bihar   209296    1026   209296     1026          0           0           0.49\n",
      "                                    Assam   203282     896   203282      896          0           0           0.44\n",
      "                                Rajasthan   180755    1800   180755     1800          0           0           1.00\n",
      "                             Chhattisgarh   170130    1680   170130     1680          0           0           0.99\n",
      "                           Madhya Pradesh   164341    2842   164341     2842          0           0           1.73\n",
      "                                  Gujarat   164121    3670   164121     3670          0           0           2.24\n",
      "                                  Haryana   154495    1688   154495     1688          0           0           1.09\n",
      "                                   Punjab   129693    4072   129693     4072          0           0           3.14\n",
      "                                Jharkhand    98610     859    98610      859          0           0           0.87\n",
      "                        Jammu and Kashmir    90166    1412    90166     1412          0           0           1.57\n",
      "                              Uttarakhand    59508     968    59508      968          0           0           1.63\n",
      "                                      Goa    41586     564    41586      564          0           0           1.36\n",
      "                               Puducherry    33832     582    33832      582          0           0           1.72\n",
      "                                  Tripura    29922     331    29922      331          0           0           1.11\n",
      "                         Himachal Pradesh    19844     279    19844      279          0           0           1.41\n",
      "                                  Manipur    16621     127    16621      127          0           0           0.76\n",
      "                        Arunachal Pradesh    14077      32    14077       32          0           0           0.23\n",
      "                               Chandigarh    13848     212    13848      212          0           0           1.53\n",
      "                                Meghalaya     8677      77     8677       77          0           0           0.89\n",
      "                                 Nagaland     8296      21     8296       21          0           0           0.25\n",
      "                                   Ladakh     5812      68     5812       68          0           0           1.17\n",
      "              Andaman and Nicobar Islands     4184      57     4184       57          0           0           1.36\n",
      "                                   Sikkim     3677      63     3677       63          0           0           1.71\n",
      " Dadra and Nagar Haveli and Daman and Diu     3209       2     3209        2          0           0           0.06\n",
      "                                  Mizoram     2359       0     2341        0         18           0           0.00\n",
      "                              Lakshadweep        0       0        0        0          0           0            NaN\n"
     ]
    }
   ],
   "source": [
    "#hide_input\n",
    "print(df_table.to_string(index=False))"
   ]
  },
  {
   "cell_type": "code",
   "execution_count": null,
   "metadata": {
    "papermill": {
     "duration": 0.022287,
     "end_time": "2020-10-23T04:30:36.968046",
     "exception": false,
     "start_time": "2020-10-23T04:30:36.945759",
     "status": "completed"
    },
    "tags": []
   },
   "outputs": [],
   "source": []
  },
  {
   "cell_type": "code",
   "execution_count": null,
   "metadata": {
    "papermill": {
     "duration": 0.022535,
     "end_time": "2020-10-23T04:30:37.013658",
     "exception": false,
     "start_time": "2020-10-23T04:30:36.991123",
     "status": "completed"
    },
    "tags": []
   },
   "outputs": [],
   "source": []
  }
 ],
 "metadata": {
  "kernelspec": {
   "display_name": "Python 3",
   "language": "python",
   "name": "python3"
  },
  "language_info": {
   "codemirror_mode": {
    "name": "ipython",
    "version": 3
   },
   "file_extension": ".py",
   "mimetype": "text/x-python",
   "name": "python",
   "nbconvert_exporter": "python",
   "pygments_lexer": "ipython3",
   "version": "3.6.12"
  },
  "papermill": {
   "duration": 10.816052,
   "end_time": "2020-10-23T04:30:37.544464",
   "environment_variables": {},
   "exception": null,
   "input_path": "latest.ipynb",
   "output_path": "latest.ipynb",
   "parameters": {},
   "start_time": "2020-10-23T04:30:26.728412",
   "version": "2.1.2"
  }
 },
 "nbformat": 4,
 "nbformat_minor": 4
}