{
 "cells": [
  {
   "cell_type": "markdown",
   "id": "colored-stack",
   "metadata": {
    "papermill": {
     "duration": 0.01959,
     "end_time": "2021-03-20T11:23:48.866352",
     "exception": false,
     "start_time": "2021-03-20T11:23:48.846762",
     "status": "completed"
    },
    "tags": []
   },
   "source": [
    "# Latest COVID-19 India Matplotlib Overview"
   ]
  },
  {
   "cell_type": "code",
   "execution_count": 1,
   "id": "light-proportion",
   "metadata": {
    "execution": {
     "iopub.execute_input": "2021-03-20T11:23:48.906921Z",
     "iopub.status.busy": "2021-03-20T11:23:48.906431Z",
     "iopub.status.idle": "2021-03-20T11:23:49.373873Z",
     "shell.execute_reply": "2021-03-20T11:23:49.372872Z"
    },
    "papermill": {
     "duration": 0.494078,
     "end_time": "2021-03-20T11:23:49.374023",
     "exception": false,
     "start_time": "2021-03-20T11:23:48.879945",
     "status": "completed"
    },
    "tags": []
   },
   "outputs": [],
   "source": [
    "#hide\n",
    "import pandas as pd\n",
    "import numpy as np\n",
    "import requests\n",
    "import json\n",
    "import matplotlib.pyplot as plt\n",
    "import matplotlib.dates as mdates\n",
    "import matplotlib as mpl\n",
    "from IPython.core.display import display,HTML\n",
    "%matplotlib inline\n",
    "from datetime import date"
   ]
  },
  {
   "cell_type": "code",
   "execution_count": 2,
   "id": "greenhouse-shooting",
   "metadata": {
    "execution": {
     "iopub.execute_input": "2021-03-20T11:23:49.406101Z",
     "iopub.status.busy": "2021-03-20T11:23:49.405195Z",
     "iopub.status.idle": "2021-03-20T11:23:49.824342Z",
     "shell.execute_reply": "2021-03-20T11:23:49.823733Z"
    },
    "papermill": {
     "duration": 0.43711,
     "end_time": "2021-03-20T11:23:49.824498",
     "exception": false,
     "start_time": "2021-03-20T11:23:49.387388",
     "status": "completed"
    },
    "tags": []
   },
   "outputs": [],
   "source": [
    "#hide\n",
    "df  = pd.read_csv('https://api.covid19india.org/csv/latest/states.csv')\n",
    "df = df[['Date','State','Confirmed','Deceased']]\n",
    "df = df.rename(columns={'Confirmed':'Cases', \"Deceased\":'Deaths'})\n",
    "df_cases = df[[\"Date\",'State','Cases']]\n",
    "df_deaths = df[['Date','State','Deaths']]\n",
    "df_cases1 = df_cases.groupby('Date')\n",
    "df_deaths1= df_deaths.groupby('Date')"
   ]
  },
  {
   "cell_type": "code",
   "execution_count": 3,
   "id": "hybrid-cathedral",
   "metadata": {
    "execution": {
     "iopub.execute_input": "2021-03-20T11:23:49.859859Z",
     "iopub.status.busy": "2021-03-20T11:23:49.859389Z",
     "iopub.status.idle": "2021-03-20T11:23:49.874176Z",
     "shell.execute_reply": "2021-03-20T11:23:49.874537Z"
    },
    "papermill": {
     "duration": 0.032652,
     "end_time": "2021-03-20T11:23:49.874665",
     "exception": false,
     "start_time": "2021-03-20T11:23:49.842013",
     "status": "completed"
    },
    "tags": []
   },
   "outputs": [],
   "source": [
    "#hide\n",
    "df_snap = pd.read_csv('data/SnapshotCases-28-July.csv')\n",
    "arr_states = df_snap['states'].unique()\n",
    "arr_dates = df['Date'].unique()\n",
    "df_snap = df_snap.set_index('states')"
   ]
  },
  {
   "cell_type": "code",
   "execution_count": 4,
   "id": "interior-belfast",
   "metadata": {
    "execution": {
     "iopub.execute_input": "2021-03-20T11:23:49.911520Z",
     "iopub.status.busy": "2021-03-20T11:23:49.910809Z",
     "iopub.status.idle": "2021-03-20T11:23:49.913204Z",
     "shell.execute_reply": "2021-03-20T11:23:49.913672Z"
    },
    "papermill": {
     "duration": 0.023944,
     "end_time": "2021-03-20T11:23:49.913790",
     "exception": false,
     "start_time": "2021-03-20T11:23:49.889846",
     "status": "completed"
    },
    "tags": []
   },
   "outputs": [
    {
     "data": {
      "text/plain": [
       "array(['Andaman and Nicobar Islands', 'Andhra Pradesh',\n",
       "       'Arunachal Pradesh', 'Assam', 'Bihar', 'Chandigarh',\n",
       "       'Dadra and Nagar Haveli and Daman and Diu', 'Delhi', 'Goa',\n",
       "       'Gujarat', 'Haryana', 'Himachal Pradesh', 'Jammu and Kashmir',\n",
       "       'Jharkhand', 'Karnataka', 'Kerala', 'Lakshadweep',\n",
       "       'Madhya Pradesh', 'Maharashtra', 'Manipur', 'Meghalaya', 'Mizoram',\n",
       "       'Nagaland', 'Odisha', 'Puducherry', 'Punjab', 'Rajasthan',\n",
       "       'Sikkim', 'Tamil Nadu', 'Telangana', 'Tripura', 'Uttar Pradesh',\n",
       "       'West Bengal', 'Chhattisgarh', 'Ladakh', 'Uttarakhand'],\n",
       "      dtype=object)"
      ]
     },
     "execution_count": 4,
     "metadata": {},
     "output_type": "execute_result"
    }
   ],
   "source": [
    "#hide\n",
    "arr_states[-9] = 'Puducherry'\n",
    "arr_states[-10] = 'Odisha'\n",
    "arr_states[6] = 'Dadra and Nagar Haveli and Daman and Diu'\n",
    "arr_states = np.append(arr_states,np.array(['Chhattisgarh','Ladakh','Uttarakhand']))\n",
    "arr_states"
   ]
  },
  {
   "cell_type": "code",
   "execution_count": 5,
   "id": "behind-manner",
   "metadata": {
    "execution": {
     "iopub.execute_input": "2021-03-20T11:23:49.955550Z",
     "iopub.status.busy": "2021-03-20T11:23:49.954979Z",
     "iopub.status.idle": "2021-03-20T11:23:49.963790Z",
     "shell.execute_reply": "2021-03-20T11:23:49.963337Z"
    },
    "papermill": {
     "duration": 0.035478,
     "end_time": "2021-03-20T11:23:49.963871",
     "exception": false,
     "start_time": "2021-03-20T11:23:49.928393",
     "status": "completed"
    },
    "tags": []
   },
   "outputs": [],
   "source": [
    "#hide\n",
    "dates = []\n",
    "for i in arr_dates:\n",
    "    if i>='2020-07-01':\n",
    "        dates.append(i)\n",
    "dict = {'states':dates}\n",
    "for i in arr_states:\n",
    "    dict[i] = [0]*len(dates)\n",
    "dft_cases = pd.DataFrame(dict)\n",
    "dft_deaths = pd.DataFrame(dict)\n"
   ]
  },
  {
   "cell_type": "code",
   "execution_count": 6,
   "id": "simplified-peter",
   "metadata": {
    "execution": {
     "iopub.execute_input": "2021-03-20T11:23:50.000827Z",
     "iopub.status.busy": "2021-03-20T11:23:50.000410Z",
     "iopub.status.idle": "2021-03-20T11:23:52.973241Z",
     "shell.execute_reply": "2021-03-20T11:23:52.972486Z"
    },
    "papermill": {
     "duration": 2.995179,
     "end_time": "2021-03-20T11:23:52.973361",
     "exception": false,
     "start_time": "2021-03-20T11:23:49.978182",
     "status": "completed"
    },
    "tags": []
   },
   "outputs": [],
   "source": [
    "#hide\n",
    "for i in range(len(dates)):\n",
    "    df1_deaths = df_deaths1.get_group(dates[i])\n",
    "    for j in range(len(df1_deaths.index)):\n",
    "        if df1_deaths.iloc[j,1] in arr_states:\n",
    "            dft_deaths.loc[i,df1_deaths.iloc[j,1]] = df1_deaths.iloc[j,2]\n",
    "dft_deaths = dft_deaths.set_index('states')"
   ]
  },
  {
   "cell_type": "code",
   "execution_count": 7,
   "id": "geological-welding",
   "metadata": {
    "execution": {
     "iopub.execute_input": "2021-03-20T11:23:53.012140Z",
     "iopub.status.busy": "2021-03-20T11:23:53.011653Z",
     "iopub.status.idle": "2021-03-20T11:23:56.002834Z",
     "shell.execute_reply": "2021-03-20T11:23:56.002194Z"
    },
    "papermill": {
     "duration": 3.013576,
     "end_time": "2021-03-20T11:23:56.002981",
     "exception": false,
     "start_time": "2021-03-20T11:23:52.989405",
     "status": "completed"
    },
    "tags": []
   },
   "outputs": [],
   "source": [
    "#hide\n",
    "for i in range(len(dates)):\n",
    "    df1_cases = df_cases1.get_group(dates[i])\n",
    "    for j in range(len(df1_cases.index)):\n",
    "        if df1_cases.iloc[j,1] in arr_states:\n",
    "            dft_cases.loc[i,df1_cases.iloc[j,1]] = df1_cases.iloc[j,2]\n",
    "dft_cases = dft_cases.set_index('states')"
   ]
  },
  {
   "cell_type": "code",
   "execution_count": 8,
   "id": "binary-ratio",
   "metadata": {
    "execution": {
     "iopub.execute_input": "2021-03-20T11:23:56.038761Z",
     "iopub.status.busy": "2021-03-20T11:23:56.038165Z",
     "iopub.status.idle": "2021-03-20T11:23:56.039714Z",
     "shell.execute_reply": "2021-03-20T11:23:56.040024Z"
    },
    "papermill": {
     "duration": 0.02168,
     "end_time": "2021-03-20T11:23:56.040125",
     "exception": false,
     "start_time": "2021-03-20T11:23:56.018445",
     "status": "completed"
    },
    "tags": []
   },
   "outputs": [],
   "source": [
    "#hide\n",
    "dft_cases = dft_cases.T\n",
    "dft_deaths = dft_deaths.T\n",
    "dt_today = dates[-1]\n",
    "dt_yday = dates[-2]"
   ]
  },
  {
   "cell_type": "code",
   "execution_count": 9,
   "id": "boolean-calculator",
   "metadata": {
    "execution": {
     "iopub.execute_input": "2021-03-20T11:23:56.074049Z",
     "iopub.status.busy": "2021-03-20T11:23:56.073519Z",
     "iopub.status.idle": "2021-03-20T11:23:56.078487Z",
     "shell.execute_reply": "2021-03-20T11:23:56.078088Z"
    },
    "papermill": {
     "duration": 0.025389,
     "end_time": "2021-03-20T11:23:56.078579",
     "exception": false,
     "start_time": "2021-03-20T11:23:56.053190",
     "status": "completed"
    },
    "tags": []
   },
   "outputs": [],
   "source": [
    "#hide\n",
    "dft_cases = dft_cases.reset_index()\n",
    "dft_deaths = dft_deaths.reset_index()\n",
    "dft_cases = dft_cases.rename(columns = {'index':'state'})\n",
    "dft_deaths = dft_deaths.rename(columns = {'index':'state'})"
   ]
  },
  {
   "cell_type": "code",
   "execution_count": 10,
   "id": "invisible-johnston",
   "metadata": {
    "execution": {
     "iopub.execute_input": "2021-03-20T11:23:56.114365Z",
     "iopub.status.busy": "2021-03-20T11:23:56.113897Z",
     "iopub.status.idle": "2021-03-20T11:23:56.121828Z",
     "shell.execute_reply": "2021-03-20T11:23:56.121431Z"
    },
    "papermill": {
     "duration": 0.028866,
     "end_time": "2021-03-20T11:23:56.121919",
     "exception": false,
     "start_time": "2021-03-20T11:23:56.093053",
     "status": "completed"
    },
    "tags": []
   },
   "outputs": [],
   "source": [
    "#hide\n",
    "dfc_cases = dft_cases.groupby('state')[dt_today].sum()\n",
    "dfc_deaths = dft_deaths.groupby('state')[dt_today].sum()\n",
    "dfp_cases = dft_cases.groupby('state')[dt_yday].sum()\n",
    "dfp_deaths = dft_deaths.groupby('state')[dt_yday].sum()"
   ]
  },
  {
   "cell_type": "code",
   "execution_count": 11,
   "id": "measured-great",
   "metadata": {
    "execution": {
     "iopub.execute_input": "2021-03-20T11:23:56.163632Z",
     "iopub.status.busy": "2021-03-20T11:23:56.162993Z",
     "iopub.status.idle": "2021-03-20T11:23:56.168787Z",
     "shell.execute_reply": "2021-03-20T11:23:56.168384Z"
    },
    "papermill": {
     "duration": 0.031337,
     "end_time": "2021-03-20T11:23:56.168866",
     "exception": false,
     "start_time": "2021-03-20T11:23:56.137529",
     "status": "completed"
    },
    "tags": []
   },
   "outputs": [
    {
     "data": {
      "text/html": [
       "<div>\n",
       "<style scoped>\n",
       "    .dataframe tbody tr th:only-of-type {\n",
       "        vertical-align: middle;\n",
       "    }\n",
       "\n",
       "    .dataframe tbody tr th {\n",
       "        vertical-align: top;\n",
       "    }\n",
       "\n",
       "    .dataframe thead th {\n",
       "        text-align: right;\n",
       "    }\n",
       "</style>\n",
       "<table border=\"1\" class=\"dataframe\">\n",
       "  <thead>\n",
       "    <tr style=\"text-align: right;\">\n",
       "      <th></th>\n",
       "      <th>states</th>\n",
       "      <th>Cases</th>\n",
       "      <th>Deaths</th>\n",
       "      <th>PCases</th>\n",
       "      <th>PDeaths</th>\n",
       "    </tr>\n",
       "  </thead>\n",
       "  <tbody>\n",
       "    <tr>\n",
       "      <th>0</th>\n",
       "      <td>Maharashtra</td>\n",
       "      <td>2422021</td>\n",
       "      <td>53208</td>\n",
       "      <td>2422021</td>\n",
       "      <td>53208</td>\n",
       "    </tr>\n",
       "    <tr>\n",
       "      <th>1</th>\n",
       "      <td>Kerala</td>\n",
       "      <td>1100276</td>\n",
       "      <td>4468</td>\n",
       "      <td>1100276</td>\n",
       "      <td>4468</td>\n",
       "    </tr>\n",
       "    <tr>\n",
       "      <th>2</th>\n",
       "      <td>Karnataka</td>\n",
       "      <td>966689</td>\n",
       "      <td>12425</td>\n",
       "      <td>966689</td>\n",
       "      <td>12425</td>\n",
       "    </tr>\n",
       "    <tr>\n",
       "      <th>3</th>\n",
       "      <td>Andhra Pradesh</td>\n",
       "      <td>892986</td>\n",
       "      <td>7187</td>\n",
       "      <td>892986</td>\n",
       "      <td>7187</td>\n",
       "    </tr>\n",
       "    <tr>\n",
       "      <th>4</th>\n",
       "      <td>Tamil Nadu</td>\n",
       "      <td>864450</td>\n",
       "      <td>12582</td>\n",
       "      <td>864450</td>\n",
       "      <td>12582</td>\n",
       "    </tr>\n",
       "  </tbody>\n",
       "</table>\n",
       "</div>"
      ],
      "text/plain": [
       "           states    Cases  Deaths   PCases  PDeaths\n",
       "0     Maharashtra  2422021   53208  2422021    53208\n",
       "1          Kerala  1100276    4468  1100276     4468\n",
       "2       Karnataka   966689   12425   966689    12425\n",
       "3  Andhra Pradesh   892986    7187   892986     7187\n",
       "4      Tamil Nadu   864450   12582   864450    12582"
      ]
     },
     "execution_count": 11,
     "metadata": {},
     "output_type": "execute_result"
    }
   ],
   "source": [
    "#hide\n",
    "df_table = pd.DataFrame({'states': dfc_cases.index, 'Cases': dfc_cases.values, 'Deaths': dfc_deaths.values, 'PCases': dfp_cases.values, 'PDeaths': dfp_deaths.values}).set_index('states')\n",
    "df_table = df_table.sort_values(by = ['Cases','Deaths'], ascending = [False, False])\n",
    "df_table = df_table.reset_index()\n",
    "df_table.head()"
   ]
  },
  {
   "cell_type": "code",
   "execution_count": 12,
   "id": "found-montreal",
   "metadata": {
    "execution": {
     "iopub.execute_input": "2021-03-20T11:23:56.200352Z",
     "iopub.status.busy": "2021-03-20T11:23:56.199900Z",
     "iopub.status.idle": "2021-03-20T11:23:56.206803Z",
     "shell.execute_reply": "2021-03-20T11:23:56.207229Z"
    },
    "papermill": {
     "duration": 0.024616,
     "end_time": "2021-03-20T11:23:56.207328",
     "exception": false,
     "start_time": "2021-03-20T11:23:56.182712",
     "status": "completed"
    },
    "tags": []
   },
   "outputs": [],
   "source": [
    "#hide\n",
    "for c in 'Cases, Deaths'.split(', '):\n",
    "    df_table[f'{c} (+)'] = (df_table[c] - df_table[f'P{c}']).clip(0)\n",
    "df_table['Fatality Rate'] = (100* df_table['Deaths']/ df_table['Cases']).round(2)"
   ]
  },
  {
   "cell_type": "code",
   "execution_count": 13,
   "id": "minus-savage",
   "metadata": {
    "execution": {
     "iopub.execute_input": "2021-03-20T11:23:56.246376Z",
     "iopub.status.busy": "2021-03-20T11:23:56.245840Z",
     "iopub.status.idle": "2021-03-20T11:23:56.248518Z",
     "shell.execute_reply": "2021-03-20T11:23:56.248178Z"
    },
    "papermill": {
     "duration": 0.026505,
     "end_time": "2021-03-20T11:23:56.248595",
     "exception": false,
     "start_time": "2021-03-20T11:23:56.222090",
     "status": "completed"
    },
    "tags": []
   },
   "outputs": [
    {
     "data": {
      "text/html": [
       "<div>\n",
       "<style scoped>\n",
       "    .dataframe tbody tr th:only-of-type {\n",
       "        vertical-align: middle;\n",
       "    }\n",
       "\n",
       "    .dataframe tbody tr th {\n",
       "        vertical-align: top;\n",
       "    }\n",
       "\n",
       "    .dataframe thead th {\n",
       "        text-align: right;\n",
       "    }\n",
       "</style>\n",
       "<table border=\"1\" class=\"dataframe\">\n",
       "  <thead>\n",
       "    <tr style=\"text-align: right;\">\n",
       "      <th></th>\n",
       "      <th>states</th>\n",
       "      <th>Cases</th>\n",
       "      <th>Deaths</th>\n",
       "      <th>PCases</th>\n",
       "      <th>PDeaths</th>\n",
       "      <th>Cases (+)</th>\n",
       "      <th>Deaths (+)</th>\n",
       "      <th>Fatality Rate</th>\n",
       "    </tr>\n",
       "  </thead>\n",
       "  <tbody>\n",
       "    <tr>\n",
       "      <th>0</th>\n",
       "      <td>Maharashtra</td>\n",
       "      <td>2422021</td>\n",
       "      <td>53208</td>\n",
       "      <td>2422021</td>\n",
       "      <td>53208</td>\n",
       "      <td>0</td>\n",
       "      <td>0</td>\n",
       "      <td>2.20</td>\n",
       "    </tr>\n",
       "    <tr>\n",
       "      <th>1</th>\n",
       "      <td>Kerala</td>\n",
       "      <td>1100276</td>\n",
       "      <td>4468</td>\n",
       "      <td>1100276</td>\n",
       "      <td>4468</td>\n",
       "      <td>0</td>\n",
       "      <td>0</td>\n",
       "      <td>0.41</td>\n",
       "    </tr>\n",
       "    <tr>\n",
       "      <th>2</th>\n",
       "      <td>Karnataka</td>\n",
       "      <td>966689</td>\n",
       "      <td>12425</td>\n",
       "      <td>966689</td>\n",
       "      <td>12425</td>\n",
       "      <td>0</td>\n",
       "      <td>0</td>\n",
       "      <td>1.29</td>\n",
       "    </tr>\n",
       "    <tr>\n",
       "      <th>3</th>\n",
       "      <td>Andhra Pradesh</td>\n",
       "      <td>892986</td>\n",
       "      <td>7187</td>\n",
       "      <td>892986</td>\n",
       "      <td>7187</td>\n",
       "      <td>0</td>\n",
       "      <td>0</td>\n",
       "      <td>0.80</td>\n",
       "    </tr>\n",
       "    <tr>\n",
       "      <th>4</th>\n",
       "      <td>Tamil Nadu</td>\n",
       "      <td>864450</td>\n",
       "      <td>12582</td>\n",
       "      <td>864450</td>\n",
       "      <td>12582</td>\n",
       "      <td>0</td>\n",
       "      <td>0</td>\n",
       "      <td>1.46</td>\n",
       "    </tr>\n",
       "  </tbody>\n",
       "</table>\n",
       "</div>"
      ],
      "text/plain": [
       "           states    Cases  Deaths   PCases  PDeaths  Cases (+)  Deaths (+)  \\\n",
       "0     Maharashtra  2422021   53208  2422021    53208          0           0   \n",
       "1          Kerala  1100276    4468  1100276     4468          0           0   \n",
       "2       Karnataka   966689   12425   966689    12425          0           0   \n",
       "3  Andhra Pradesh   892986    7187   892986     7187          0           0   \n",
       "4      Tamil Nadu   864450   12582   864450    12582          0           0   \n",
       "\n",
       "   Fatality Rate  \n",
       "0           2.20  \n",
       "1           0.41  \n",
       "2           1.29  \n",
       "3           0.80  \n",
       "4           1.46  "
      ]
     },
     "execution_count": 13,
     "metadata": {},
     "output_type": "execute_result"
    }
   ],
   "source": [
    "#hide\n",
    "df_table.head()"
   ]
  },
  {
   "cell_type": "code",
   "execution_count": 14,
   "id": "false-peter",
   "metadata": {
    "execution": {
     "iopub.execute_input": "2021-03-20T11:23:56.294232Z",
     "iopub.status.busy": "2021-03-20T11:23:56.282927Z",
     "iopub.status.idle": "2021-03-20T11:23:56.296952Z",
     "shell.execute_reply": "2021-03-20T11:23:56.297397Z"
    },
    "papermill": {
     "duration": 0.033861,
     "end_time": "2021-03-20T11:23:56.297495",
     "exception": false,
     "start_time": "2021-03-20T11:23:56.263634",
     "status": "completed"
    },
    "tags": []
   },
   "outputs": [
    {
     "data": {
      "text/plain": [
       "{'updated': '2021-03-20',\n",
       " 'since': '2021-03-19',\n",
       " 'Cases': 11556258,\n",
       " 'PCases': 11554895,\n",
       " 'Deaths': 159598,\n",
       " 'PDeaths': 159594,\n",
       " 'Cases (+)': 1363,\n",
       " 'Deaths (+)': 4}"
      ]
     },
     "execution_count": 14,
     "metadata": {},
     "output_type": "execute_result"
    }
   ],
   "source": [
    "#hide\n",
    "summary = {'updated':dates[-1], 'since':dates[-2]}\n",
    "list_names = ['Cases', 'PCases', 'Deaths', 'PDeaths', 'Cases (+)', 'Deaths (+)']\n",
    "for name in list_names:\n",
    "    summary[name] = df_table.sum()[name]\n",
    "summary"
   ]
  },
  {
   "cell_type": "code",
   "execution_count": 15,
   "id": "packed-viewer",
   "metadata": {
    "execution": {
     "iopub.execute_input": "2021-03-20T11:23:56.330748Z",
     "iopub.status.busy": "2021-03-20T11:23:56.330342Z",
     "iopub.status.idle": "2021-03-20T11:23:56.332654Z",
     "shell.execute_reply": "2021-03-20T11:23:56.332332Z"
    },
    "papermill": {
     "duration": 0.021104,
     "end_time": "2021-03-20T11:23:56.332732",
     "exception": false,
     "start_time": "2021-03-20T11:23:56.311628",
     "status": "completed"
    },
    "tags": []
   },
   "outputs": [],
   "source": [
    "#hide\n",
    "overview = '''\n",
    "<!-- #######  HTML!! #########-->\n",
    "<h1 style=\"color: #5e9ca0; text-align: center;\">India</h1>\n",
    "<p style=\"text-align: center;\">Last update: <strong>{update}</strong></p>\n",
    "<p style=\"text-align: center;\">Confirmed cases:</p>\n",
    "<p style=\"text-align: center;font-size:24px;\">{cases} (<span style=\"color: #ff0000;\">+{new}</span>)</p>\n",
    "<p style=\"text-align: center;\">Confirmed deaths:</p>\n",
    "<p style=\"text-align: center;font-size:24px;\">{deaths} (<span style=\"color: #ff0000;\">+{dnew}</span>)</p>\n",
    "'''"
   ]
  },
  {
   "cell_type": "code",
   "execution_count": 16,
   "id": "phantom-lover",
   "metadata": {
    "execution": {
     "iopub.execute_input": "2021-03-20T11:23:56.367074Z",
     "iopub.status.busy": "2021-03-20T11:23:56.366505Z",
     "iopub.status.idle": "2021-03-20T11:23:56.370434Z",
     "shell.execute_reply": "2021-03-20T11:23:56.370839Z"
    },
    "papermill": {
     "duration": 0.023132,
     "end_time": "2021-03-20T11:23:56.370939",
     "exception": false,
     "start_time": "2021-03-20T11:23:56.347807",
     "status": "completed"
    },
    "tags": []
   },
   "outputs": [
    {
     "data": {
      "text/html": [
       "\n",
       "<!-- #######  HTML!! #########-->\n",
       "<h1 style=\"color: #5e9ca0; text-align: center;\">India</h1>\n",
       "<p style=\"text-align: center;\">Last update: <strong>2021-03-20</strong></p>\n",
       "<p style=\"text-align: center;\">Confirmed cases:</p>\n",
       "<p style=\"text-align: center;font-size:24px;\">11556258 (<span style=\"color: #ff0000;\">+1363</span>)</p>\n",
       "<p style=\"text-align: center;\">Confirmed deaths:</p>\n",
       "<p style=\"text-align: center;font-size:24px;\">159598 (<span style=\"color: #ff0000;\">+4</span>)</p>\n"
      ],
      "text/plain": [
       "<IPython.core.display.HTML object>"
      ]
     },
     "metadata": {},
     "output_type": "display_data"
    }
   ],
   "source": [
    "#hide_input\n",
    "update = summary['updated']\n",
    "cases = summary['Cases']\n",
    "new = summary['Cases (+)']\n",
    "deaths = summary['Deaths']\n",
    "dnew = summary['Deaths (+)']\n",
    "\n",
    "html = HTML(overview.format(update=update, cases=cases,new=new,deaths=deaths,dnew=dnew))\n",
    "\n",
    "display(html)"
   ]
  },
  {
   "cell_type": "code",
   "execution_count": 17,
   "id": "sealed-reset",
   "metadata": {
    "execution": {
     "iopub.execute_input": "2021-03-20T11:23:56.405561Z",
     "iopub.status.busy": "2021-03-20T11:23:56.405098Z",
     "iopub.status.idle": "2021-03-20T11:23:56.410649Z",
     "shell.execute_reply": "2021-03-20T11:23:56.411048Z"
    },
    "papermill": {
     "duration": 0.025554,
     "end_time": "2021-03-20T11:23:56.411146",
     "exception": false,
     "start_time": "2021-03-20T11:23:56.385592",
     "status": "completed"
    },
    "tags": []
   },
   "outputs": [],
   "source": [
    "#hide\n",
    "dt_cols = list(dft_cases.columns[1:])\n",
    "dft_ct_new_cases = dft_cases.groupby('state')[dt_cols].sum().diff(axis=1).fillna(0).astype(int)\n",
    "dft_ct_new_cases.sort_values(by = dates[-1], ascending = False,inplace = True)"
   ]
  },
  {
   "cell_type": "code",
   "execution_count": 18,
   "id": "designed-constant",
   "metadata": {
    "execution": {
     "iopub.execute_input": "2021-03-20T11:23:56.457150Z",
     "iopub.status.busy": "2021-03-20T11:23:56.448560Z",
     "iopub.status.idle": "2021-03-20T11:23:56.459735Z",
     "shell.execute_reply": "2021-03-20T11:23:56.460207Z"
    },
    "papermill": {
     "duration": 0.033621,
     "end_time": "2021-03-20T11:23:56.460334",
     "exception": false,
     "start_time": "2021-03-20T11:23:56.426713",
     "status": "completed"
    },
    "tags": []
   },
   "outputs": [
    {
     "data": {
      "text/html": [
       "<div>\n",
       "<style scoped>\n",
       "    .dataframe tbody tr th:only-of-type {\n",
       "        vertical-align: middle;\n",
       "    }\n",
       "\n",
       "    .dataframe tbody tr th {\n",
       "        vertical-align: top;\n",
       "    }\n",
       "\n",
       "    .dataframe thead th {\n",
       "        text-align: right;\n",
       "    }\n",
       "</style>\n",
       "<table border=\"1\" class=\"dataframe\">\n",
       "  <thead>\n",
       "    <tr style=\"text-align: right;\">\n",
       "      <th>states</th>\n",
       "      <th>2020-07-01</th>\n",
       "      <th>2020-07-02</th>\n",
       "      <th>2020-07-03</th>\n",
       "      <th>2020-07-04</th>\n",
       "      <th>2020-07-05</th>\n",
       "      <th>2020-07-06</th>\n",
       "      <th>2020-07-07</th>\n",
       "      <th>2020-07-08</th>\n",
       "      <th>2020-07-09</th>\n",
       "      <th>2020-07-10</th>\n",
       "      <th>...</th>\n",
       "      <th>2021-03-11</th>\n",
       "      <th>2021-03-12</th>\n",
       "      <th>2021-03-13</th>\n",
       "      <th>2021-03-14</th>\n",
       "      <th>2021-03-15</th>\n",
       "      <th>2021-03-16</th>\n",
       "      <th>2021-03-17</th>\n",
       "      <th>2021-03-18</th>\n",
       "      <th>2021-03-19</th>\n",
       "      <th>2021-03-20</th>\n",
       "    </tr>\n",
       "    <tr>\n",
       "      <th>state</th>\n",
       "      <th></th>\n",
       "      <th></th>\n",
       "      <th></th>\n",
       "      <th></th>\n",
       "      <th></th>\n",
       "      <th></th>\n",
       "      <th></th>\n",
       "      <th></th>\n",
       "      <th></th>\n",
       "      <th></th>\n",
       "      <th></th>\n",
       "      <th></th>\n",
       "      <th></th>\n",
       "      <th></th>\n",
       "      <th></th>\n",
       "      <th></th>\n",
       "      <th></th>\n",
       "      <th></th>\n",
       "      <th></th>\n",
       "      <th></th>\n",
       "      <th></th>\n",
       "    </tr>\n",
       "  </thead>\n",
       "  <tbody>\n",
       "    <tr>\n",
       "      <th>Delhi</th>\n",
       "      <td>0</td>\n",
       "      <td>2373</td>\n",
       "      <td>2520</td>\n",
       "      <td>2505</td>\n",
       "      <td>2244</td>\n",
       "      <td>1379</td>\n",
       "      <td>2008</td>\n",
       "      <td>2033</td>\n",
       "      <td>2187</td>\n",
       "      <td>2089</td>\n",
       "      <td>...</td>\n",
       "      <td>409</td>\n",
       "      <td>431</td>\n",
       "      <td>419</td>\n",
       "      <td>407</td>\n",
       "      <td>368</td>\n",
       "      <td>425</td>\n",
       "      <td>536</td>\n",
       "      <td>607</td>\n",
       "      <td>716</td>\n",
       "      <td>813</td>\n",
       "    </tr>\n",
       "    <tr>\n",
       "      <th>Telangana</th>\n",
       "      <td>0</td>\n",
       "      <td>1213</td>\n",
       "      <td>1892</td>\n",
       "      <td>1850</td>\n",
       "      <td>1590</td>\n",
       "      <td>1831</td>\n",
       "      <td>1879</td>\n",
       "      <td>1924</td>\n",
       "      <td>1410</td>\n",
       "      <td>1278</td>\n",
       "      <td>...</td>\n",
       "      <td>194</td>\n",
       "      <td>181</td>\n",
       "      <td>216</td>\n",
       "      <td>228</td>\n",
       "      <td>157</td>\n",
       "      <td>204</td>\n",
       "      <td>247</td>\n",
       "      <td>278</td>\n",
       "      <td>313</td>\n",
       "      <td>364</td>\n",
       "    </tr>\n",
       "    <tr>\n",
       "      <th>Odisha</th>\n",
       "      <td>0</td>\n",
       "      <td>229</td>\n",
       "      <td>561</td>\n",
       "      <td>495</td>\n",
       "      <td>469</td>\n",
       "      <td>456</td>\n",
       "      <td>571</td>\n",
       "      <td>527</td>\n",
       "      <td>577</td>\n",
       "      <td>755</td>\n",
       "      <td>...</td>\n",
       "      <td>63</td>\n",
       "      <td>64</td>\n",
       "      <td>65</td>\n",
       "      <td>71</td>\n",
       "      <td>66</td>\n",
       "      <td>65</td>\n",
       "      <td>82</td>\n",
       "      <td>84</td>\n",
       "      <td>110</td>\n",
       "      <td>120</td>\n",
       "    </tr>\n",
       "    <tr>\n",
       "      <th>Puducherry</th>\n",
       "      <td>0</td>\n",
       "      <td>63</td>\n",
       "      <td>22</td>\n",
       "      <td>80</td>\n",
       "      <td>42</td>\n",
       "      <td>65</td>\n",
       "      <td>30</td>\n",
       "      <td>110</td>\n",
       "      <td>49</td>\n",
       "      <td>72</td>\n",
       "      <td>...</td>\n",
       "      <td>22</td>\n",
       "      <td>30</td>\n",
       "      <td>31</td>\n",
       "      <td>15</td>\n",
       "      <td>14</td>\n",
       "      <td>24</td>\n",
       "      <td>52</td>\n",
       "      <td>81</td>\n",
       "      <td>61</td>\n",
       "      <td>60</td>\n",
       "    </tr>\n",
       "    <tr>\n",
       "      <th>Tripura</th>\n",
       "      <td>0</td>\n",
       "      <td>39</td>\n",
       "      <td>93</td>\n",
       "      <td>25</td>\n",
       "      <td>23</td>\n",
       "      <td>111</td>\n",
       "      <td>24</td>\n",
       "      <td>57</td>\n",
       "      <td>16</td>\n",
       "      <td>142</td>\n",
       "      <td>...</td>\n",
       "      <td>1</td>\n",
       "      <td>0</td>\n",
       "      <td>2</td>\n",
       "      <td>2</td>\n",
       "      <td>0</td>\n",
       "      <td>11</td>\n",
       "      <td>1</td>\n",
       "      <td>3</td>\n",
       "      <td>10</td>\n",
       "      <td>5</td>\n",
       "    </tr>\n",
       "  </tbody>\n",
       "</table>\n",
       "<p>5 rows × 263 columns</p>\n",
       "</div>"
      ],
      "text/plain": [
       "states      2020-07-01  2020-07-02  2020-07-03  2020-07-04  2020-07-05  \\\n",
       "state                                                                    \n",
       "Delhi                0        2373        2520        2505        2244   \n",
       "Telangana            0        1213        1892        1850        1590   \n",
       "Odisha               0         229         561         495         469   \n",
       "Puducherry           0          63          22          80          42   \n",
       "Tripura              0          39          93          25          23   \n",
       "\n",
       "states      2020-07-06  2020-07-07  2020-07-08  2020-07-09  2020-07-10  ...  \\\n",
       "state                                                                   ...   \n",
       "Delhi             1379        2008        2033        2187        2089  ...   \n",
       "Telangana         1831        1879        1924        1410        1278  ...   \n",
       "Odisha             456         571         527         577         755  ...   \n",
       "Puducherry          65          30         110          49          72  ...   \n",
       "Tripura            111          24          57          16         142  ...   \n",
       "\n",
       "states      2021-03-11  2021-03-12  2021-03-13  2021-03-14  2021-03-15  \\\n",
       "state                                                                    \n",
       "Delhi              409         431         419         407         368   \n",
       "Telangana          194         181         216         228         157   \n",
       "Odisha              63          64          65          71          66   \n",
       "Puducherry          22          30          31          15          14   \n",
       "Tripura              1           0           2           2           0   \n",
       "\n",
       "states      2021-03-16  2021-03-17  2021-03-18  2021-03-19  2021-03-20  \n",
       "state                                                                   \n",
       "Delhi              425         536         607         716         813  \n",
       "Telangana          204         247         278         313         364  \n",
       "Odisha              65          82          84         110         120  \n",
       "Puducherry          24          52          81          61          60  \n",
       "Tripura             11           1           3          10           5  \n",
       "\n",
       "[5 rows x 263 columns]"
      ]
     },
     "execution_count": 18,
     "metadata": {},
     "output_type": "execute_result"
    }
   ],
   "source": [
    "#hide\n",
    "dft_ct_new_cases.head()"
   ]
  },
  {
   "cell_type": "code",
   "execution_count": 19,
   "id": "responsible-nightlife",
   "metadata": {
    "execution": {
     "iopub.execute_input": "2021-03-20T11:23:56.514922Z",
     "iopub.status.busy": "2021-03-20T11:23:56.498031Z",
     "iopub.status.idle": "2021-03-20T11:24:03.891438Z",
     "shell.execute_reply": "2021-03-20T11:24:03.891782Z"
    },
    "papermill": {
     "duration": 7.416998,
     "end_time": "2021-03-20T11:24:03.891898",
     "exception": false,
     "start_time": "2021-03-20T11:23:56.474900",
     "status": "completed"
    },
    "tags": []
   },
   "outputs": [
    {
     "data": {
      "image/png": "[encoded data removed]",
      "text/plain": [
       "<Figure size 1296x2016 with 11 Axes>"
      ]
     },
     "metadata": {
      "needs_background": "light"
     },
     "output_type": "display_data"
    }
   ],
   "source": [
    "#hide_input\n",
    "df = dft_ct_new_cases.copy()\n",
    "df.loc['Total'] = df.sum()\n",
    "n = 5\n",
    "ax = []\n",
    "fig = plt.figure(figsize = (18,28))\n",
    "gs = fig.add_gridspec(n+2, 5)\n",
    "# gs = fig.add_gridspec(2, 3)\n",
    "ax1 = fig.add_subplot(gs[0, :])\n",
    "ef = df.loc['Total'].rename_axis('date').reset_index()\n",
    "ef['date'] = ef['date'].astype('datetime64[ns]')\n",
    "ax1.bar(ef.date,ef.Total,alpha=0.3,color='#007acc')\n",
    "ax1.plot(ef.date,ef.Total , marker=\"o\", color='#007acc')\n",
    "ax1.xaxis.set_major_locator(mdates.WeekdayLocator())\n",
    "ax1.xaxis.set_major_formatter(mdates.DateFormatter('%b %d'))\n",
    "ax1.text(0.02, 0.5,'India daily case count', transform = ax1.transAxes, fontsize=25);\n",
    "ax1.spines['right'].set_visible(False)\n",
    "ax1.spines['top'].set_visible(False)\n",
    "\n",
    "ax2 = fig.add_subplot(gs[1,0])\n",
    "ef = df.loc['Maharashtra'].rename_axis('date').reset_index()\n",
    "ef['date'] = ef['date'].astype('datetime64[ns]')\n",
    "\n",
    "ax2.bar(ef.date, ef.Maharashtra,color = '#007acc',alpha=0.5)\n",
    "ax2.xaxis.set_major_locator(mdates.WeekdayLocator())\n",
    "ax2.xaxis.set_major_formatter(mdates.DateFormatter('%b %d'))\n",
    "ax2.set_xticks(ax2.get_xticks()[::3])\n",
    "maxyval = ef.Maharashtra.max()\n",
    "ax2.set_ylim([0,maxyval])\n",
    "ax2.text(0.05, 0.9,'Maharashtra', transform = ax2.transAxes, fontsize=20);\n",
    "ax2.spines['right'].set_visible(False)\n",
    "ax2.spines['top'].set_visible(False)\n",
    "\n",
    "\n",
    "ax3 = fig.add_subplot(gs[1,1])\n",
    "ef = df.loc['Tamil Nadu'].rename_axis('date').reset_index()\n",
    "ef['date'] = ef['date'].astype('datetime64[ns]')\n",
    "ax3.bar(ef.date, ef['Tamil Nadu'],color = '#007acc',alpha=0.5,)\n",
    "ax3.xaxis.set_major_locator(mdates.WeekdayLocator())\n",
    "ax3.xaxis.set_major_formatter(mdates.DateFormatter('%b %d'))\n",
    "ax3.set_xticks(ax3.get_xticks()[::3])\n",
    "ax3.text(0.05, 0.9,'Tamil Nadu', transform = ax3.transAxes, fontsize=20);\n",
    "ax3.spines['right'].set_visible(False)\n",
    "ax3.spines['top'].set_visible(False)\n",
    "\n",
    "ax5 = fig.add_subplot(gs[1,3])\n",
    "ef = df.loc['Telangana'].rename_axis('date').reset_index()\n",
    "ef['date'] = ef['date'].astype('datetime64[ns]')\n",
    "ax5.bar(ef.date, ef['Telangana'],color = '#007acc',alpha=0.5,)\n",
    "ax5.xaxis.set_major_locator(mdates.WeekdayLocator())\n",
    "ax5.xaxis.set_major_formatter(mdates.DateFormatter('%b %d'))\n",
    "ax5.set_xticks(ax5.get_xticks()[::3])\n",
    "ax5.text(0.05, 0.9,'Telangana', transform = ax5.transAxes, fontsize=20);\n",
    "ax5.spines['right'].set_visible(False)\n",
    "ax5.spines['top'].set_visible(False)\n",
    "\n",
    "ax6 = fig.add_subplot(gs[1,4])\n",
    "ef = df.loc['Andhra Pradesh'].rename_axis('date').reset_index()\n",
    "ef['date'] = ef['date'].astype('datetime64[ns]')\n",
    "ax6.bar(ef.date, ef['Andhra Pradesh'],color = '#007acc',alpha=0.5,)\n",
    "ax6.xaxis.set_major_locator(mdates.WeekdayLocator())\n",
    "ax6.xaxis.set_major_formatter(mdates.DateFormatter('%b %d'))\n",
    "ax6.set_xticks(ax6.get_xticks()[::3])\n",
    "ax6.text(0.05, 1,'Andhra Pradesh', transform = ax6.transAxes, fontsize=20);\n",
    "ax6.spines['right'].set_visible(False)\n",
    "ax6.spines['top'].set_visible(False)\n",
    "\n",
    "ax4 = fig.add_subplot(gs[1,2])\n",
    "ef = df.loc['Delhi'].rename_axis('date').reset_index()\n",
    "ef['date'] = ef['date'].astype('datetime64[ns]')\n",
    "ax4.bar(ef.date, ef.Delhi,color = '#007acc',alpha=0.5)\n",
    "ax4.set_xticks([])\n",
    "ax4.xaxis.set_major_locator(mdates.WeekdayLocator())\n",
    "ax4.xaxis.set_major_formatter(mdates.DateFormatter('%b %d'))\n",
    "ax4.set_xticks(ax4.get_xticks()[::3])\n",
    "ax4.spines['right'].set_visible(False)\n",
    "ax4.spines['top'].set_visible(False)\n",
    "\n",
    "ax4.text(0.05, 1,'Delhi', transform = ax4.transAxes, fontsize=20)\n",
    "\n",
    "for i in range(n):\n",
    "    \n",
    "    ax.append(fig.add_subplot(gs[i+2,:]))\n",
    "    ef = df.iloc[i+3].rename_axis('date').reset_index()\n",
    "    ef['date'] = ef['date'].astype('datetime64[ns]')\n",
    "    ax[i].bar(ef.date,ef.iloc[:,-1],color = '#007acc',alpha=0.3)\n",
    "    ax[i].plot(ef.date,ef.iloc[:,-1],marker='o',color='#007acc')\n",
    "    ax[i].text(0.02,0.5,f'{ef.columns.values[-1]}',transform = ax[i].transAxes, fontsize = 20);\n",
    "    ax[i].xaxis.set_major_locator(mdates.WeekdayLocator())\n",
    "    ax[i].xaxis.set_major_formatter(mdates.DateFormatter('%b %d'))\n",
    "    ax[i].set_ylim([0,7000])\n",
    "    ax[i].spines['right'].set_visible(False)\n",
    "    ax[i].spines['top'].set_visible(False)\n",
    "plt.tight_layout()\n"
   ]
  },
  {
   "cell_type": "code",
   "execution_count": 20,
   "id": "dress-forge",
   "metadata": {
    "execution": {
     "iopub.execute_input": "2021-03-20T11:24:04.324205Z",
     "iopub.status.busy": "2021-03-20T11:24:04.323692Z",
     "iopub.status.idle": "2021-03-20T11:24:04.327775Z",
     "shell.execute_reply": "2021-03-20T11:24:04.327329Z"
    },
    "papermill": {
     "duration": 0.415469,
     "end_time": "2021-03-20T11:24:04.327880",
     "exception": false,
     "start_time": "2021-03-20T11:24:03.912411",
     "status": "completed"
    },
    "tags": []
   },
   "outputs": [
    {
     "name": "stdout",
     "output_type": "stream",
     "text": [
      "                                   states    Cases  Deaths   PCases  PDeaths  Cases (+)  Deaths (+)  Fatality Rate\n",
      "                              Maharashtra  2422021   53208  2422021    53208          0           0           2.20\n",
      "                                   Kerala  1100276    4468  1100276     4468          0           0           0.41\n",
      "                                Karnataka   966689   12425   966689    12425          0           0           1.29\n",
      "                           Andhra Pradesh   892986    7187   892986     7187          0           0           0.80\n",
      "                               Tamil Nadu   864450   12582   864450    12582          0           0           1.46\n",
      "                                    Delhi   647161   10955   646348    10953        813           2           1.69\n",
      "                            Uttar Pradesh   606609    8757   606609     8757          0           0           1.44\n",
      "                              West Bengal   579826   10301   579826    10301          0           0           1.78\n",
      "                                   Odisha   338719    1971   338599     1971        120           0           0.58\n",
      "                                Rajasthan   324503    2796   324503     2796          0           0           0.86\n",
      "                             Chhattisgarh   321880    3929   321880     3929          0           0           1.22\n",
      "                                Telangana   302724    1666   302360     1664        364           2           0.55\n",
      "                                  Gujarat   283864    4437   283864     4437          0           0           1.56\n",
      "                                  Haryana   278140    3090   278140     3090          0           0           1.11\n",
      "                           Madhya Pradesh   273097    3901   273097     3901          0           0           1.43\n",
      "                                    Bihar   263355    1556   263355     1556          0           0           0.59\n",
      "                                    Assam   217924    1100   217924     1100          0           0           0.50\n",
      "                                   Punjab   207888    6242   207888     6242          0           0           3.00\n",
      "                        Jammu and Kashmir   128249    1979   128249     1979          0           0           1.54\n",
      "                                Jharkhand   121055    1095   121055     1095          0           0           0.90\n",
      "                              Uttarakhand    98228    1704    98228     1704          0           0           1.73\n",
      "                         Himachal Pradesh    60389    1003    60389     1003          0           0           1.66\n",
      "                                      Goa    56371     815    56371      815          0           0           1.45\n",
      "                               Puducherry    40322     674    40262      674         60           0           1.67\n",
      "                                  Tripura    33456     388    33451      388          5           0           1.16\n",
      "                                  Manipur    29326     373    29326      373          0           0           1.27\n",
      "                               Chandigarh    24017     360    24017      360          0           0           1.50\n",
      "                        Arunachal Pradesh    16842      56    16842       56          0           0           0.33\n",
      "                                Meghalaya    14008     148    14008      148          0           0           1.06\n",
      "                                 Nagaland    12225      91    12225       91          0           0           0.74\n",
      "                                   Ladakh     9881     130     9881      130          0           0           1.32\n",
      "                                   Sikkim     6199     135     6199      135          0           0           2.18\n",
      "              Andaman and Nicobar Islands     5038      62     5038       62          0           0           1.23\n",
      "                                  Mizoram     4445      11     4445       11          0           0           0.25\n",
      " Dadra and Nagar Haveli and Daman and Diu     3447       2     3446        2          1           0           0.06\n",
      "                              Lakshadweep      648       1      648        1          0           0           0.15\n"
     ]
    }
   ],
   "source": [
    "#hide_input\n",
    "print(df_table.to_string(index=False))"
   ]
  },
  {
   "cell_type": "code",
   "execution_count": null,
   "id": "quantitative-legend",
   "metadata": {
    "papermill": {
     "duration": 0.024143,
     "end_time": "2021-03-20T11:24:04.372124",
     "exception": false,
     "start_time": "2021-03-20T11:24:04.347981",
     "status": "completed"
    },
    "tags": []
   },
   "outputs": [],
   "source": []
  },
  {
   "cell_type": "code",
   "execution_count": null,
   "id": "distant-acoustic",
   "metadata": {
    "papermill": {
     "duration": 0.020522,
     "end_time": "2021-03-20T11:24:04.414818",
     "exception": false,
     "start_time": "2021-03-20T11:24:04.394296",
     "status": "completed"
    },
    "tags": []
   },
   "outputs": [],
   "source": []
  }
 ],
 "metadata": {
  "kernelspec": {
   "display_name": "Python 3",
   "language": "python",
   "name": "python3"
  },
  "language_info": {
   "codemirror_mode": {
    "name": "ipython",
    "version": 3
   },
   "file_extension": ".py",
   "mimetype": "text/x-python",
   "name": "python",
   "nbconvert_exporter": "python",
   "pygments_lexer": "ipython3",
   "version": "3.6.13"
  },
  "papermill": {
   "duration": 17.119401,
   "end_time": "2021-03-20T11:24:04.944687",
   "environment_variables": {},
   "exception": null,
   "input_path": "latest.ipynb",
   "output_path": "latest.ipynb",
   "parameters": {},
   "start_time": "2021-03-20T11:23:47.825286",
   "version": "2.1.2"
  }
 },
 "nbformat": 4,
 "nbformat_minor": 5
}