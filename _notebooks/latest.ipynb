{
 "cells": [
  {
   "cell_type": "markdown",
   "metadata": {
    "papermill": {
     "duration": 0.019791,
     "end_time": "2020-09-09T04:52:24.057658",
     "exception": false,
     "start_time": "2020-09-09T04:52:24.037867",
     "status": "completed"
    },
    "tags": []
   },
   "source": [
    "# Latest COVID-19 India Matplotlib Overview"
   ]
  },
  {
   "cell_type": "code",
   "execution_count": 1,
   "metadata": {
    "execution": {
     "iopub.execute_input": "2020-09-09T04:52:24.098553Z",
     "iopub.status.busy": "2020-09-09T04:52:24.097987Z",
     "iopub.status.idle": "2020-09-09T04:52:24.671328Z",
     "shell.execute_reply": "2020-09-09T04:52:24.671855Z"
    },
    "papermill": {
     "duration": 0.59509,
     "end_time": "2020-09-09T04:52:24.672069",
     "exception": false,
     "start_time": "2020-09-09T04:52:24.076979",
     "status": "completed"
    },
    "tags": []
   },
   "outputs": [],
   "source": [
    "#hide\n",
    "import pandas as pd\n",
    "import numpy as np\n",
    "import requests\n",
    "import json\n",
    "import matplotlib.pyplot as plt\n",
    "import matplotlib.dates as mdates\n",
    "import matplotlib as mpl\n",
    "from IPython.core.display import display,HTML\n",
    "%matplotlib inline\n",
    "from datetime import date"
   ]
  },
  {
   "cell_type": "code",
   "execution_count": 2,
   "metadata": {
    "execution": {
     "iopub.execute_input": "2020-09-09T04:52:24.710285Z",
     "iopub.status.busy": "2020-09-09T04:52:24.709617Z",
     "iopub.status.idle": "2020-09-09T04:52:24.829598Z",
     "shell.execute_reply": "2020-09-09T04:52:24.830190Z"
    },
    "papermill": {
     "duration": 0.142012,
     "end_time": "2020-09-09T04:52:24.830384",
     "exception": false,
     "start_time": "2020-09-09T04:52:24.688372",
     "status": "completed"
    },
    "tags": []
   },
   "outputs": [],
   "source": [
    "#hide\n",
    "df  = pd.read_csv('https://api.covid19india.org/csv/latest/states.csv')\n",
    "df = df[['Date','State','Confirmed','Deceased']]\n",
    "df = df.rename(columns={'Confirmed':'Cases', \"Deceased\":'Deaths'})\n",
    "df_cases = df[[\"Date\",'State','Cases']]\n",
    "df_deaths = df[['Date','State','Deaths']]\n",
    "df_cases1 = df_cases.groupby('Date')\n",
    "df_deaths1= df_deaths.groupby('Date')"
   ]
  },
  {
   "cell_type": "code",
   "execution_count": 3,
   "metadata": {
    "execution": {
     "iopub.execute_input": "2020-09-09T04:52:24.864785Z",
     "iopub.status.busy": "2020-09-09T04:52:24.864211Z",
     "iopub.status.idle": "2020-09-09T04:52:24.881571Z",
     "shell.execute_reply": "2020-09-09T04:52:24.881118Z"
    },
    "papermill": {
     "duration": 0.037471,
     "end_time": "2020-09-09T04:52:24.881684",
     "exception": false,
     "start_time": "2020-09-09T04:52:24.844213",
     "status": "completed"
    },
    "tags": []
   },
   "outputs": [],
   "source": [
    "#hide\n",
    "df_snap = pd.read_csv('data/SnapshotCases-28-July.csv')\n",
    "arr_states = df_snap['states'].unique()\n",
    "arr_dates = df['Date'].unique()\n",
    "df_snap = df_snap.set_index('states')"
   ]
  },
  {
   "cell_type": "code",
   "execution_count": 4,
   "metadata": {
    "execution": {
     "iopub.execute_input": "2020-09-09T04:52:24.918612Z",
     "iopub.status.busy": "2020-09-09T04:52:24.918034Z",
     "iopub.status.idle": "2020-09-09T04:52:24.920811Z",
     "shell.execute_reply": "2020-09-09T04:52:24.921497Z"
    },
    "papermill": {
     "duration": 0.024546,
     "end_time": "2020-09-09T04:52:24.921615",
     "exception": false,
     "start_time": "2020-09-09T04:52:24.897069",
     "status": "completed"
    },
    "tags": []
   },
   "outputs": [
    {
     "data": {
      "text/plain": [
       "array(['Andaman and Nicobar Islands', 'Andhra Pradesh',\n",
       "       'Arunachal Pradesh', 'Assam', 'Bihar', 'Chandigarh',\n",
       "       'Dadra and Nagar Haveli and Daman and Diu', 'Delhi', 'Goa',\n",
       "       'Gujarat', 'Haryana', 'Himachal Pradesh', 'Jammu and Kashmir',\n",
       "       'Jharkhand', 'Karnataka', 'Kerala', 'Lakshadweep',\n",
       "       'Madhya Pradesh', 'Maharashtra', 'Manipur', 'Meghalaya', 'Mizoram',\n",
       "       'Nagaland', 'Odisha', 'Puducherry', 'Punjab', 'Rajasthan',\n",
       "       'Sikkim', 'Tamil Nadu', 'Telangana', 'Tripura', 'Uttar Pradesh',\n",
       "       'West Bengal', 'Chhattisgarh', 'Ladakh', 'Uttarakhand'],\n",
       "      dtype=object)"
      ]
     },
     "execution_count": 4,
     "metadata": {},
     "output_type": "execute_result"
    }
   ],
   "source": [
    "#hide\n",
    "arr_states[-9] = 'Puducherry'\n",
    "arr_states[-10] = 'Odisha'\n",
    "arr_states[6] = 'Dadra and Nagar Haveli and Daman and Diu'\n",
    "arr_states = np.append(arr_states,np.array(['Chhattisgarh','Ladakh','Uttarakhand']))\n",
    "arr_states"
   ]
  },
  {
   "cell_type": "code",
   "execution_count": 5,
   "metadata": {
    "execution": {
     "iopub.execute_input": "2020-09-09T04:52:24.957999Z",
     "iopub.status.busy": "2020-09-09T04:52:24.957361Z",
     "iopub.status.idle": "2020-09-09T04:52:24.966313Z",
     "shell.execute_reply": "2020-09-09T04:52:24.965610Z"
    },
    "papermill": {
     "duration": 0.030554,
     "end_time": "2020-09-09T04:52:24.966464",
     "exception": false,
     "start_time": "2020-09-09T04:52:24.935910",
     "status": "completed"
    },
    "tags": []
   },
   "outputs": [],
   "source": [
    "#hide\n",
    "dates = []\n",
    "for i in arr_dates:\n",
    "    if i>='2020-07-01':\n",
    "        dates.append(i)\n",
    "dict = {'states':dates}\n",
    "for i in arr_states:\n",
    "    dict[i] = [0]*len(dates)\n",
    "dft_cases = pd.DataFrame(dict)\n",
    "dft_deaths = pd.DataFrame(dict)\n"
   ]
  },
  {
   "cell_type": "code",
   "execution_count": 6,
   "metadata": {
    "execution": {
     "iopub.execute_input": "2020-09-09T04:52:25.004465Z",
     "iopub.status.busy": "2020-09-09T04:52:25.003729Z",
     "iopub.status.idle": "2020-09-09T04:52:26.260043Z",
     "shell.execute_reply": "2020-09-09T04:52:26.259513Z"
    },
    "papermill": {
     "duration": 1.277771,
     "end_time": "2020-09-09T04:52:26.260182",
     "exception": false,
     "start_time": "2020-09-09T04:52:24.982411",
     "status": "completed"
    },
    "tags": []
   },
   "outputs": [],
   "source": [
    "#hide\n",
    "for i in range(len(dates)):\n",
    "    df1_deaths = df_deaths1.get_group(dates[i])\n",
    "    for j in range(len(df1_deaths.index)):\n",
    "        if df1_deaths.iloc[j,1] in arr_states:\n",
    "            dft_deaths.loc[i,df1_deaths.iloc[j,1]] = df1_deaths.iloc[j,2]\n",
    "dft_deaths = dft_deaths.set_index('states')"
   ]
  },
  {
   "cell_type": "code",
   "execution_count": 7,
   "metadata": {
    "execution": {
     "iopub.execute_input": "2020-09-09T04:52:26.667550Z",
     "iopub.status.busy": "2020-09-09T04:52:26.663615Z",
     "iopub.status.idle": "2020-09-09T04:52:27.899378Z",
     "shell.execute_reply": "2020-09-09T04:52:27.899869Z"
    },
    "papermill": {
     "duration": 1.346174,
     "end_time": "2020-09-09T04:52:27.900040",
     "exception": false,
     "start_time": "2020-09-09T04:52:26.553866",
     "status": "completed"
    },
    "tags": []
   },
   "outputs": [],
   "source": [
    "#hide\n",
    "for i in range(len(dates)):\n",
    "    df1_cases = df_cases1.get_group(dates[i])\n",
    "    for j in range(len(df1_cases.index)):\n",
    "        if df1_cases.iloc[j,1] in arr_states:\n",
    "            dft_cases.loc[i,df1_cases.iloc[j,1]] = df1_cases.iloc[j,2]\n",
    "dft_cases = dft_cases.set_index('states')"
   ]
  },
  {
   "cell_type": "code",
   "execution_count": 8,
   "metadata": {
    "execution": {
     "iopub.execute_input": "2020-09-09T04:52:27.938607Z",
     "iopub.status.busy": "2020-09-09T04:52:27.937060Z",
     "iopub.status.idle": "2020-09-09T04:52:27.939308Z",
     "shell.execute_reply": "2020-09-09T04:52:27.939783Z"
    },
    "papermill": {
     "duration": 0.023207,
     "end_time": "2020-09-09T04:52:27.939904",
     "exception": false,
     "start_time": "2020-09-09T04:52:27.916697",
     "status": "completed"
    },
    "tags": []
   },
   "outputs": [],
   "source": [
    "#hide\n",
    "dft_cases = dft_cases.T\n",
    "dft_deaths = dft_deaths.T\n",
    "dt_today = dates[-1]\n",
    "dt_yday = dates[-2]"
   ]
  },
  {
   "cell_type": "code",
   "execution_count": 9,
   "metadata": {
    "execution": {
     "iopub.execute_input": "2020-09-09T04:52:27.977034Z",
     "iopub.status.busy": "2020-09-09T04:52:27.976471Z",
     "iopub.status.idle": "2020-09-09T04:52:27.980033Z",
     "shell.execute_reply": "2020-09-09T04:52:27.980446Z"
    },
    "papermill": {
     "duration": 0.026876,
     "end_time": "2020-09-09T04:52:27.980576",
     "exception": false,
     "start_time": "2020-09-09T04:52:27.953700",
     "status": "completed"
    },
    "tags": []
   },
   "outputs": [],
   "source": [
    "#hide\n",
    "dft_cases = dft_cases.reset_index()\n",
    "dft_deaths = dft_deaths.reset_index()\n",
    "dft_cases = dft_cases.rename(columns = {'index':'state'})\n",
    "dft_deaths = dft_deaths.rename(columns = {'index':'state'})"
   ]
  },
  {
   "cell_type": "code",
   "execution_count": 10,
   "metadata": {
    "execution": {
     "iopub.execute_input": "2020-09-09T04:52:28.024200Z",
     "iopub.status.busy": "2020-09-09T04:52:28.023441Z",
     "iopub.status.idle": "2020-09-09T04:52:28.025659Z",
     "shell.execute_reply": "2020-09-09T04:52:28.026180Z"
    },
    "papermill": {
     "duration": 0.02996,
     "end_time": "2020-09-09T04:52:28.026306",
     "exception": false,
     "start_time": "2020-09-09T04:52:27.996346",
     "status": "completed"
    },
    "tags": []
   },
   "outputs": [],
   "source": [
    "#hide\n",
    "dfc_cases = dft_cases.groupby('state')[dt_today].sum()\n",
    "dfc_deaths = dft_deaths.groupby('state')[dt_today].sum()\n",
    "dfp_cases = dft_cases.groupby('state')[dt_yday].sum()\n",
    "dfp_deaths = dft_deaths.groupby('state')[dt_yday].sum()"
   ]
  },
  {
   "cell_type": "code",
   "execution_count": 11,
   "metadata": {
    "execution": {
     "iopub.execute_input": "2020-09-09T04:52:28.080444Z",
     "iopub.status.busy": "2020-09-09T04:52:28.069694Z",
     "iopub.status.idle": "2020-09-09T04:52:28.092687Z",
     "shell.execute_reply": "2020-09-09T04:52:28.093266Z"
    },
    "papermill": {
     "duration": 0.051332,
     "end_time": "2020-09-09T04:52:28.093405",
     "exception": false,
     "start_time": "2020-09-09T04:52:28.042073",
     "status": "completed"
    },
    "tags": []
   },
   "outputs": [
    {
     "data": {
      "text/html": [
       "<div>\n",
       "<style scoped>\n",
       "    .dataframe tbody tr th:only-of-type {\n",
       "        vertical-align: middle;\n",
       "    }\n",
       "\n",
       "    .dataframe tbody tr th {\n",
       "        vertical-align: top;\n",
       "    }\n",
       "\n",
       "    .dataframe thead th {\n",
       "        text-align: right;\n",
       "    }\n",
       "</style>\n",
       "<table border=\"1\" class=\"dataframe\">\n",
       "  <thead>\n",
       "    <tr style=\"text-align: right;\">\n",
       "      <th></th>\n",
       "      <th>states</th>\n",
       "      <th>Cases</th>\n",
       "      <th>Deaths</th>\n",
       "      <th>PCases</th>\n",
       "      <th>PDeaths</th>\n",
       "    </tr>\n",
       "  </thead>\n",
       "  <tbody>\n",
       "    <tr>\n",
       "      <th>0</th>\n",
       "      <td>Maharashtra</td>\n",
       "      <td>943772</td>\n",
       "      <td>27407</td>\n",
       "      <td>943772</td>\n",
       "      <td>27407</td>\n",
       "    </tr>\n",
       "    <tr>\n",
       "      <th>1</th>\n",
       "      <td>Andhra Pradesh</td>\n",
       "      <td>517094</td>\n",
       "      <td>4560</td>\n",
       "      <td>517094</td>\n",
       "      <td>4560</td>\n",
       "    </tr>\n",
       "    <tr>\n",
       "      <th>2</th>\n",
       "      <td>Tamil Nadu</td>\n",
       "      <td>474940</td>\n",
       "      <td>8015</td>\n",
       "      <td>474940</td>\n",
       "      <td>8015</td>\n",
       "    </tr>\n",
       "    <tr>\n",
       "      <th>3</th>\n",
       "      <td>Karnataka</td>\n",
       "      <td>412190</td>\n",
       "      <td>6680</td>\n",
       "      <td>412190</td>\n",
       "      <td>6680</td>\n",
       "    </tr>\n",
       "    <tr>\n",
       "      <th>4</th>\n",
       "      <td>Uttar Pradesh</td>\n",
       "      <td>278473</td>\n",
       "      <td>4047</td>\n",
       "      <td>278473</td>\n",
       "      <td>4047</td>\n",
       "    </tr>\n",
       "  </tbody>\n",
       "</table>\n",
       "</div>"
      ],
      "text/plain": [
       "           states   Cases  Deaths  PCases  PDeaths\n",
       "0     Maharashtra  943772   27407  943772    27407\n",
       "1  Andhra Pradesh  517094    4560  517094     4560\n",
       "2      Tamil Nadu  474940    8015  474940     8015\n",
       "3       Karnataka  412190    6680  412190     6680\n",
       "4   Uttar Pradesh  278473    4047  278473     4047"
      ]
     },
     "execution_count": 11,
     "metadata": {},
     "output_type": "execute_result"
    }
   ],
   "source": [
    "#hide\n",
    "df_table = pd.DataFrame({'states': dfc_cases.index, 'Cases': dfc_cases.values, 'Deaths': dfc_deaths.values, 'PCases': dfp_cases.values, 'PDeaths': dfp_deaths.values}).set_index('states')\n",
    "df_table = df_table.sort_values(by = ['Cases','Deaths'], ascending = [False, False])\n",
    "df_table = df_table.reset_index()\n",
    "df_table.head()"
   ]
  },
  {
   "cell_type": "code",
   "execution_count": 12,
   "metadata": {
    "execution": {
     "iopub.execute_input": "2020-09-09T04:52:28.136926Z",
     "iopub.status.busy": "2020-09-09T04:52:28.136279Z",
     "iopub.status.idle": "2020-09-09T04:52:28.146167Z",
     "shell.execute_reply": "2020-09-09T04:52:28.146742Z"
    },
    "papermill": {
     "duration": 0.034825,
     "end_time": "2020-09-09T04:52:28.146889",
     "exception": false,
     "start_time": "2020-09-09T04:52:28.112064",
     "status": "completed"
    },
    "tags": []
   },
   "outputs": [],
   "source": [
    "#hide\n",
    "for c in 'Cases, Deaths'.split(', '):\n",
    "    df_table[f'{c} (+)'] = (df_table[c] - df_table[f'P{c}']).clip(0)\n",
    "df_table['Fatality Rate'] = (100* df_table['Deaths']/ df_table['Cases']).round(2)"
   ]
  },
  {
   "cell_type": "code",
   "execution_count": 13,
   "metadata": {
    "execution": {
     "iopub.execute_input": "2020-09-09T04:52:28.183318Z",
     "iopub.status.busy": "2020-09-09T04:52:28.182754Z",
     "iopub.status.idle": "2020-09-09T04:52:28.192969Z",
     "shell.execute_reply": "2020-09-09T04:52:28.192414Z"
    },
    "papermill": {
     "duration": 0.030324,
     "end_time": "2020-09-09T04:52:28.193090",
     "exception": false,
     "start_time": "2020-09-09T04:52:28.162766",
     "status": "completed"
    },
    "tags": []
   },
   "outputs": [
    {
     "data": {
      "text/html": [
       "<div>\n",
       "<style scoped>\n",
       "    .dataframe tbody tr th:only-of-type {\n",
       "        vertical-align: middle;\n",
       "    }\n",
       "\n",
       "    .dataframe tbody tr th {\n",
       "        vertical-align: top;\n",
       "    }\n",
       "\n",
       "    .dataframe thead th {\n",
       "        text-align: right;\n",
       "    }\n",
       "</style>\n",
       "<table border=\"1\" class=\"dataframe\">\n",
       "  <thead>\n",
       "    <tr style=\"text-align: right;\">\n",
       "      <th></th>\n",
       "      <th>states</th>\n",
       "      <th>Cases</th>\n",
       "      <th>Deaths</th>\n",
       "      <th>PCases</th>\n",
       "      <th>PDeaths</th>\n",
       "      <th>Cases (+)</th>\n",
       "      <th>Deaths (+)</th>\n",
       "      <th>Fatality Rate</th>\n",
       "    </tr>\n",
       "  </thead>\n",
       "  <tbody>\n",
       "    <tr>\n",
       "      <th>0</th>\n",
       "      <td>Maharashtra</td>\n",
       "      <td>943772</td>\n",
       "      <td>27407</td>\n",
       "      <td>943772</td>\n",
       "      <td>27407</td>\n",
       "      <td>0</td>\n",
       "      <td>0</td>\n",
       "      <td>2.90</td>\n",
       "    </tr>\n",
       "    <tr>\n",
       "      <th>1</th>\n",
       "      <td>Andhra Pradesh</td>\n",
       "      <td>517094</td>\n",
       "      <td>4560</td>\n",
       "      <td>517094</td>\n",
       "      <td>4560</td>\n",
       "      <td>0</td>\n",
       "      <td>0</td>\n",
       "      <td>0.88</td>\n",
       "    </tr>\n",
       "    <tr>\n",
       "      <th>2</th>\n",
       "      <td>Tamil Nadu</td>\n",
       "      <td>474940</td>\n",
       "      <td>8015</td>\n",
       "      <td>474940</td>\n",
       "      <td>8015</td>\n",
       "      <td>0</td>\n",
       "      <td>0</td>\n",
       "      <td>1.69</td>\n",
       "    </tr>\n",
       "    <tr>\n",
       "      <th>3</th>\n",
       "      <td>Karnataka</td>\n",
       "      <td>412190</td>\n",
       "      <td>6680</td>\n",
       "      <td>412190</td>\n",
       "      <td>6680</td>\n",
       "      <td>0</td>\n",
       "      <td>0</td>\n",
       "      <td>1.62</td>\n",
       "    </tr>\n",
       "    <tr>\n",
       "      <th>4</th>\n",
       "      <td>Uttar Pradesh</td>\n",
       "      <td>278473</td>\n",
       "      <td>4047</td>\n",
       "      <td>278473</td>\n",
       "      <td>4047</td>\n",
       "      <td>0</td>\n",
       "      <td>0</td>\n",
       "      <td>1.45</td>\n",
       "    </tr>\n",
       "  </tbody>\n",
       "</table>\n",
       "</div>"
      ],
      "text/plain": [
       "           states   Cases  Deaths  PCases  PDeaths  Cases (+)  Deaths (+)  \\\n",
       "0     Maharashtra  943772   27407  943772    27407          0           0   \n",
       "1  Andhra Pradesh  517094    4560  517094     4560          0           0   \n",
       "2      Tamil Nadu  474940    8015  474940     8015          0           0   \n",
       "3       Karnataka  412190    6680  412190     6680          0           0   \n",
       "4   Uttar Pradesh  278473    4047  278473     4047          0           0   \n",
       "\n",
       "   Fatality Rate  \n",
       "0           2.90  \n",
       "1           0.88  \n",
       "2           1.69  \n",
       "3           1.62  \n",
       "4           1.45  "
      ]
     },
     "execution_count": 13,
     "metadata": {},
     "output_type": "execute_result"
    }
   ],
   "source": [
    "#hide\n",
    "df_table.head()"
   ]
  },
  {
   "cell_type": "code",
   "execution_count": 14,
   "metadata": {
    "execution": {
     "iopub.execute_input": "2020-09-09T04:52:28.247122Z",
     "iopub.status.busy": "2020-09-09T04:52:28.229658Z",
     "iopub.status.idle": "2020-09-09T04:52:28.250034Z",
     "shell.execute_reply": "2020-09-09T04:52:28.250581Z"
    },
    "papermill": {
     "duration": 0.041363,
     "end_time": "2020-09-09T04:52:28.250768",
     "exception": false,
     "start_time": "2020-09-09T04:52:28.209405",
     "status": "completed"
    },
    "tags": []
   },
   "outputs": [
    {
     "data": {
      "text/plain": [
       "{'updated': '2020-09-09',\n",
       " 'since': '2020-09-08',\n",
       " 'Cases': 4369984,\n",
       " 'PCases': 4367436,\n",
       " 'Deaths': 73933,\n",
       " 'PDeaths': 73923,\n",
       " 'Cases (+)': 2548,\n",
       " 'Deaths (+)': 10}"
      ]
     },
     "execution_count": 14,
     "metadata": {},
     "output_type": "execute_result"
    }
   ],
   "source": [
    "#hide\n",
    "summary = {'updated':dates[-1], 'since':dates[-2]}\n",
    "list_names = ['Cases', 'PCases', 'Deaths', 'PDeaths', 'Cases (+)', 'Deaths (+)']\n",
    "for name in list_names:\n",
    "    summary[name] = df_table.sum()[name]\n",
    "summary"
   ]
  },
  {
   "cell_type": "code",
   "execution_count": 15,
   "metadata": {
    "execution": {
     "iopub.execute_input": "2020-09-09T04:52:28.290455Z",
     "iopub.status.busy": "2020-09-09T04:52:28.289849Z",
     "iopub.status.idle": "2020-09-09T04:52:28.291886Z",
     "shell.execute_reply": "2020-09-09T04:52:28.292422Z"
    },
    "papermill": {
     "duration": 0.023962,
     "end_time": "2020-09-09T04:52:28.292583",
     "exception": false,
     "start_time": "2020-09-09T04:52:28.268621",
     "status": "completed"
    },
    "tags": []
   },
   "outputs": [],
   "source": [
    "#hide\n",
    "overview = '''\n",
    "<!-- #######  HTML!! #########-->\n",
    "<h1 style=\"color: #5e9ca0; text-align: center;\">India</h1>\n",
    "<p style=\"text-align: center;\">Last update: <strong>{update}</strong></p>\n",
    "<p style=\"text-align: center;\">Confirmed cases:</p>\n",
    "<p style=\"text-align: center;font-size:24px;\">{cases} (<span style=\"color: #ff0000;\">+{new}</span>)</p>\n",
    "<p style=\"text-align: center;\">Confirmed deaths:</p>\n",
    "<p style=\"text-align: center;font-size:24px;\">{deaths} (<span style=\"color: #ff0000;\">+{dnew}</span>)</p>\n",
    "'''"
   ]
  },
  {
   "cell_type": "code",
   "execution_count": 16,
   "metadata": {
    "execution": {
     "iopub.execute_input": "2020-09-09T04:52:28.332895Z",
     "iopub.status.busy": "2020-09-09T04:52:28.332266Z",
     "iopub.status.idle": "2020-09-09T04:52:28.335498Z",
     "shell.execute_reply": "2020-09-09T04:52:28.335017Z"
    },
    "papermill": {
     "duration": 0.025607,
     "end_time": "2020-09-09T04:52:28.335615",
     "exception": false,
     "start_time": "2020-09-09T04:52:28.310008",
     "status": "completed"
    },
    "tags": []
   },
   "outputs": [
    {
     "data": {
      "text/html": [
       "\n",
       "<!-- #######  HTML!! #########-->\n",
       "<h1 style=\"color: #5e9ca0; text-align: center;\">India</h1>\n",
       "<p style=\"text-align: center;\">Last update: <strong>2020-09-09</strong></p>\n",
       "<p style=\"text-align: center;\">Confirmed cases:</p>\n",
       "<p style=\"text-align: center;font-size:24px;\">4369984 (<span style=\"color: #ff0000;\">+2548</span>)</p>\n",
       "<p style=\"text-align: center;\">Confirmed deaths:</p>\n",
       "<p style=\"text-align: center;font-size:24px;\">73933 (<span style=\"color: #ff0000;\">+10</span>)</p>\n"
      ],
      "text/plain": [
       "<IPython.core.display.HTML object>"
      ]
     },
     "metadata": {},
     "output_type": "display_data"
    }
   ],
   "source": [
    "#hide_input\n",
    "update = summary['updated']\n",
    "cases = summary['Cases']\n",
    "new = summary['Cases (+)']\n",
    "deaths = summary['Deaths']\n",
    "dnew = summary['Deaths (+)']\n",
    "\n",
    "html = HTML(overview.format(update=update, cases=cases,new=new,deaths=deaths,dnew=dnew))\n",
    "\n",
    "display(html)"
   ]
  },
  {
   "cell_type": "code",
   "execution_count": 17,
   "metadata": {
    "execution": {
     "iopub.execute_input": "2020-09-09T04:52:28.379559Z",
     "iopub.status.busy": "2020-09-09T04:52:28.378986Z",
     "iopub.status.idle": "2020-09-09T04:52:28.384075Z",
     "shell.execute_reply": "2020-09-09T04:52:28.383511Z"
    },
    "papermill": {
     "duration": 0.029957,
     "end_time": "2020-09-09T04:52:28.384196",
     "exception": false,
     "start_time": "2020-09-09T04:52:28.354239",
     "status": "completed"
    },
    "tags": []
   },
   "outputs": [],
   "source": [
    "#hide\n",
    "dt_cols = list(dft_cases.columns[1:])\n",
    "dft_ct_new_cases = dft_cases.groupby('state')[dt_cols].sum().diff(axis=1).fillna(0).astype(int)\n",
    "dft_ct_new_cases.sort_values(by = dates[-1], ascending = False,inplace = True)"
   ]
  },
  {
   "cell_type": "code",
   "execution_count": 18,
   "metadata": {
    "execution": {
     "iopub.execute_input": "2020-09-09T04:52:28.433208Z",
     "iopub.status.busy": "2020-09-09T04:52:28.432600Z",
     "iopub.status.idle": "2020-09-09T04:52:28.442411Z",
     "shell.execute_reply": "2020-09-09T04:52:28.441832Z"
    },
    "papermill": {
     "duration": 0.041064,
     "end_time": "2020-09-09T04:52:28.442530",
     "exception": false,
     "start_time": "2020-09-09T04:52:28.401466",
     "status": "completed"
    },
    "tags": []
   },
   "outputs": [
    {
     "data": {
      "text/html": [
       "<div>\n",
       "<style scoped>\n",
       "    .dataframe tbody tr th:only-of-type {\n",
       "        vertical-align: middle;\n",
       "    }\n",
       "\n",
       "    .dataframe tbody tr th {\n",
       "        vertical-align: top;\n",
       "    }\n",
       "\n",
       "    .dataframe thead th {\n",
       "        text-align: right;\n",
       "    }\n",
       "</style>\n",
       "<table border=\"1\" class=\"dataframe\">\n",
       "  <thead>\n",
       "    <tr style=\"text-align: right;\">\n",
       "      <th>states</th>\n",
       "      <th>2020-07-01</th>\n",
       "      <th>2020-07-02</th>\n",
       "      <th>2020-07-03</th>\n",
       "      <th>2020-07-04</th>\n",
       "      <th>2020-07-05</th>\n",
       "      <th>2020-07-06</th>\n",
       "      <th>2020-07-07</th>\n",
       "      <th>2020-07-08</th>\n",
       "      <th>2020-07-09</th>\n",
       "      <th>2020-07-10</th>\n",
       "      <th>...</th>\n",
       "      <th>2020-08-31</th>\n",
       "      <th>2020-09-01</th>\n",
       "      <th>2020-09-02</th>\n",
       "      <th>2020-09-03</th>\n",
       "      <th>2020-09-04</th>\n",
       "      <th>2020-09-05</th>\n",
       "      <th>2020-09-06</th>\n",
       "      <th>2020-09-07</th>\n",
       "      <th>2020-09-08</th>\n",
       "      <th>2020-09-09</th>\n",
       "    </tr>\n",
       "    <tr>\n",
       "      <th>state</th>\n",
       "      <th></th>\n",
       "      <th></th>\n",
       "      <th></th>\n",
       "      <th></th>\n",
       "      <th></th>\n",
       "      <th></th>\n",
       "      <th></th>\n",
       "      <th></th>\n",
       "      <th></th>\n",
       "      <th></th>\n",
       "      <th></th>\n",
       "      <th></th>\n",
       "      <th></th>\n",
       "      <th></th>\n",
       "      <th></th>\n",
       "      <th></th>\n",
       "      <th></th>\n",
       "      <th></th>\n",
       "      <th></th>\n",
       "      <th></th>\n",
       "      <th></th>\n",
       "    </tr>\n",
       "  </thead>\n",
       "  <tbody>\n",
       "    <tr>\n",
       "      <th>Telangana</th>\n",
       "      <td>0</td>\n",
       "      <td>1213</td>\n",
       "      <td>1892</td>\n",
       "      <td>1850</td>\n",
       "      <td>1590</td>\n",
       "      <td>1831</td>\n",
       "      <td>1879</td>\n",
       "      <td>1924</td>\n",
       "      <td>1410</td>\n",
       "      <td>1278</td>\n",
       "      <td>...</td>\n",
       "      <td>1873</td>\n",
       "      <td>2734</td>\n",
       "      <td>2892</td>\n",
       "      <td>2817</td>\n",
       "      <td>2478</td>\n",
       "      <td>2511</td>\n",
       "      <td>2574</td>\n",
       "      <td>1802</td>\n",
       "      <td>2392</td>\n",
       "      <td>2479</td>\n",
       "    </tr>\n",
       "    <tr>\n",
       "      <th>Mizoram</th>\n",
       "      <td>0</td>\n",
       "      <td>2</td>\n",
       "      <td>0</td>\n",
       "      <td>2</td>\n",
       "      <td>22</td>\n",
       "      <td>11</td>\n",
       "      <td>1</td>\n",
       "      <td>5</td>\n",
       "      <td>0</td>\n",
       "      <td>23</td>\n",
       "      <td>...</td>\n",
       "      <td>3</td>\n",
       "      <td>1</td>\n",
       "      <td>8</td>\n",
       "      <td>20</td>\n",
       "      <td>6</td>\n",
       "      <td>16</td>\n",
       "      <td>31</td>\n",
       "      <td>21</td>\n",
       "      <td>9</td>\n",
       "      <td>69</td>\n",
       "    </tr>\n",
       "    <tr>\n",
       "      <th>Andaman and Nicobar Islands</th>\n",
       "      <td>0</td>\n",
       "      <td>9</td>\n",
       "      <td>7</td>\n",
       "      <td>3</td>\n",
       "      <td>6</td>\n",
       "      <td>16</td>\n",
       "      <td>6</td>\n",
       "      <td>2</td>\n",
       "      <td>7</td>\n",
       "      <td>0</td>\n",
       "      <td>...</td>\n",
       "      <td>28</td>\n",
       "      <td>28</td>\n",
       "      <td>26</td>\n",
       "      <td>37</td>\n",
       "      <td>34</td>\n",
       "      <td>35</td>\n",
       "      <td>40</td>\n",
       "      <td>27</td>\n",
       "      <td>33</td>\n",
       "      <td>0</td>\n",
       "    </tr>\n",
       "    <tr>\n",
       "      <th>Puducherry</th>\n",
       "      <td>0</td>\n",
       "      <td>63</td>\n",
       "      <td>22</td>\n",
       "      <td>80</td>\n",
       "      <td>42</td>\n",
       "      <td>65</td>\n",
       "      <td>30</td>\n",
       "      <td>110</td>\n",
       "      <td>49</td>\n",
       "      <td>72</td>\n",
       "      <td>...</td>\n",
       "      <td>284</td>\n",
       "      <td>355</td>\n",
       "      <td>391</td>\n",
       "      <td>424</td>\n",
       "      <td>591</td>\n",
       "      <td>394</td>\n",
       "      <td>466</td>\n",
       "      <td>284</td>\n",
       "      <td>433</td>\n",
       "      <td>0</td>\n",
       "    </tr>\n",
       "    <tr>\n",
       "      <th>Maharashtra</th>\n",
       "      <td>0</td>\n",
       "      <td>6328</td>\n",
       "      <td>6364</td>\n",
       "      <td>7074</td>\n",
       "      <td>6555</td>\n",
       "      <td>5368</td>\n",
       "      <td>5134</td>\n",
       "      <td>6603</td>\n",
       "      <td>6875</td>\n",
       "      <td>7862</td>\n",
       "      <td>...</td>\n",
       "      <td>11852</td>\n",
       "      <td>15765</td>\n",
       "      <td>17433</td>\n",
       "      <td>18105</td>\n",
       "      <td>19218</td>\n",
       "      <td>20800</td>\n",
       "      <td>23350</td>\n",
       "      <td>16429</td>\n",
       "      <td>20131</td>\n",
       "      <td>0</td>\n",
       "    </tr>\n",
       "  </tbody>\n",
       "</table>\n",
       "<p>5 rows × 71 columns</p>\n",
       "</div>"
      ],
      "text/plain": [
       "states                       2020-07-01  2020-07-02  2020-07-03  2020-07-04  \\\n",
       "state                                                                         \n",
       "Telangana                             0        1213        1892        1850   \n",
       "Mizoram                               0           2           0           2   \n",
       "Andaman and Nicobar Islands           0           9           7           3   \n",
       "Puducherry                            0          63          22          80   \n",
       "Maharashtra                           0        6328        6364        7074   \n",
       "\n",
       "states                       2020-07-05  2020-07-06  2020-07-07  2020-07-08  \\\n",
       "state                                                                         \n",
       "Telangana                          1590        1831        1879        1924   \n",
       "Mizoram                              22          11           1           5   \n",
       "Andaman and Nicobar Islands           6          16           6           2   \n",
       "Puducherry                           42          65          30         110   \n",
       "Maharashtra                        6555        5368        5134        6603   \n",
       "\n",
       "states                       2020-07-09  2020-07-10  ...  2020-08-31  \\\n",
       "state                                                ...               \n",
       "Telangana                          1410        1278  ...        1873   \n",
       "Mizoram                               0          23  ...           3   \n",
       "Andaman and Nicobar Islands           7           0  ...          28   \n",
       "Puducherry                           49          72  ...         284   \n",
       "Maharashtra                        6875        7862  ...       11852   \n",
       "\n",
       "states                       2020-09-01  2020-09-02  2020-09-03  2020-09-04  \\\n",
       "state                                                                         \n",
       "Telangana                          2734        2892        2817        2478   \n",
       "Mizoram                               1           8          20           6   \n",
       "Andaman and Nicobar Islands          28          26          37          34   \n",
       "Puducherry                          355         391         424         591   \n",
       "Maharashtra                       15765       17433       18105       19218   \n",
       "\n",
       "states                       2020-09-05  2020-09-06  2020-09-07  2020-09-08  \\\n",
       "state                                                                         \n",
       "Telangana                          2511        2574        1802        2392   \n",
       "Mizoram                              16          31          21           9   \n",
       "Andaman and Nicobar Islands          35          40          27          33   \n",
       "Puducherry                          394         466         284         433   \n",
       "Maharashtra                       20800       23350       16429       20131   \n",
       "\n",
       "states                       2020-09-09  \n",
       "state                                    \n",
       "Telangana                          2479  \n",
       "Mizoram                              69  \n",
       "Andaman and Nicobar Islands           0  \n",
       "Puducherry                            0  \n",
       "Maharashtra                           0  \n",
       "\n",
       "[5 rows x 71 columns]"
      ]
     },
     "execution_count": 18,
     "metadata": {},
     "output_type": "execute_result"
    }
   ],
   "source": [
    "#hide\n",
    "dft_ct_new_cases.head()"
   ]
  },
  {
   "cell_type": "code",
   "execution_count": 19,
   "metadata": {
    "execution": {
     "iopub.execute_input": "2020-09-09T04:52:28.496641Z",
     "iopub.status.busy": "2020-09-09T04:52:28.486340Z",
     "iopub.status.idle": "2020-09-09T04:52:32.359871Z",
     "shell.execute_reply": "2020-09-09T04:52:32.360523Z"
    },
    "papermill": {
     "duration": 3.899599,
     "end_time": "2020-09-09T04:52:32.360697",
     "exception": false,
     "start_time": "2020-09-09T04:52:28.461098",
     "status": "completed"
    },
    "tags": []
   },
   "outputs": [
    {
     "data": {
      "image/png": "[encoded data removed]",
      "text/plain": [
       "<Figure size 1296x2016 with 11 Axes>"
      ]
     },
     "metadata": {
      "needs_background": "light"
     },
     "output_type": "display_data"
    }
   ],
   "source": [
    "#hide_input\n",
    "df = dft_ct_new_cases.copy()\n",
    "df.loc['Total'] = df.sum()\n",
    "n = 5\n",
    "ax = []\n",
    "fig = plt.figure(figsize = (18,28))\n",
    "gs = fig.add_gridspec(n+2, 5)\n",
    "# gs = fig.add_gridspec(2, 3)\n",
    "ax1 = fig.add_subplot(gs[0, :])\n",
    "ef = df.loc['Total'].rename_axis('date').reset_index()\n",
    "ef['date'] = ef['date'].astype('datetime64[ns]')\n",
    "ax1.bar(ef.date,ef.Total,alpha=0.3,color='#007acc')\n",
    "ax1.plot(ef.date,ef.Total , marker=\"o\", color='#007acc')\n",
    "ax1.xaxis.set_major_locator(mdates.WeekdayLocator())\n",
    "ax1.xaxis.set_major_formatter(mdates.DateFormatter('%b %d'))\n",
    "ax1.text(0.02, 0.5,'India daily case count', transform = ax1.transAxes, fontsize=25);\n",
    "ax1.spines['right'].set_visible(False)\n",
    "ax1.spines['top'].set_visible(False)\n",
    "\n",
    "ax2 = fig.add_subplot(gs[1,0])\n",
    "ef = df.loc['Maharashtra'].rename_axis('date').reset_index()\n",
    "ef['date'] = ef['date'].astype('datetime64[ns]')\n",
    "\n",
    "ax2.bar(ef.date, ef.Maharashtra,color = '#007acc',alpha=0.5)\n",
    "ax2.xaxis.set_major_locator(mdates.WeekdayLocator())\n",
    "ax2.xaxis.set_major_formatter(mdates.DateFormatter('%b %d'))\n",
    "ax2.set_xticks(ax2.get_xticks()[::3])\n",
    "maxyval = ef.Maharashtra.max()\n",
    "ax2.set_ylim([0,maxyval])\n",
    "ax2.text(0.05, 0.9,'Maharashtra', transform = ax2.transAxes, fontsize=20);\n",
    "ax2.spines['right'].set_visible(False)\n",
    "ax2.spines['top'].set_visible(False)\n",
    "\n",
    "\n",
    "ax3 = fig.add_subplot(gs[1,1])\n",
    "ef = df.loc['Tamil Nadu'].rename_axis('date').reset_index()\n",
    "ef['date'] = ef['date'].astype('datetime64[ns]')\n",
    "ax3.bar(ef.date, ef['Tamil Nadu'],color = '#007acc',alpha=0.5,)\n",
    "ax3.xaxis.set_major_locator(mdates.WeekdayLocator())\n",
    "ax3.xaxis.set_major_formatter(mdates.DateFormatter('%b %d'))\n",
    "ax3.set_xticks(ax3.get_xticks()[::3])\n",
    "ax3.text(0.05, 0.9,'Tamil Nadu', transform = ax3.transAxes, fontsize=20);\n",
    "ax3.spines['right'].set_visible(False)\n",
    "ax3.spines['top'].set_visible(False)\n",
    "\n",
    "ax5 = fig.add_subplot(gs[1,3])\n",
    "ef = df.loc['Telangana'].rename_axis('date').reset_index()\n",
    "ef['date'] = ef['date'].astype('datetime64[ns]')\n",
    "ax5.bar(ef.date, ef['Telangana'],color = '#007acc',alpha=0.5,)\n",
    "ax5.xaxis.set_major_locator(mdates.WeekdayLocator())\n",
    "ax5.xaxis.set_major_formatter(mdates.DateFormatter('%b %d'))\n",
    "ax5.set_xticks(ax5.get_xticks()[::3])\n",
    "ax5.text(0.05, 0.9,'Telangana', transform = ax5.transAxes, fontsize=20);\n",
    "ax5.spines['right'].set_visible(False)\n",
    "ax5.spines['top'].set_visible(False)\n",
    "\n",
    "ax6 = fig.add_subplot(gs[1,4])\n",
    "ef = df.loc['Andhra Pradesh'].rename_axis('date').reset_index()\n",
    "ef['date'] = ef['date'].astype('datetime64[ns]')\n",
    "ax6.bar(ef.date, ef['Andhra Pradesh'],color = '#007acc',alpha=0.5,)\n",
    "ax6.xaxis.set_major_locator(mdates.WeekdayLocator())\n",
    "ax6.xaxis.set_major_formatter(mdates.DateFormatter('%b %d'))\n",
    "ax6.set_xticks(ax6.get_xticks()[::3])\n",
    "ax6.text(0.05, 1,'Andhra Pradesh', transform = ax6.transAxes, fontsize=20);\n",
    "ax6.spines['right'].set_visible(False)\n",
    "ax6.spines['top'].set_visible(False)\n",
    "\n",
    "ax4 = fig.add_subplot(gs[1,2])\n",
    "ef = df.loc['Delhi'].rename_axis('date').reset_index()\n",
    "ef['date'] = ef['date'].astype('datetime64[ns]')\n",
    "ax4.bar(ef.date, ef.Delhi,color = '#007acc',alpha=0.5)\n",
    "ax4.set_xticks([])\n",
    "ax4.xaxis.set_major_locator(mdates.WeekdayLocator())\n",
    "ax4.xaxis.set_major_formatter(mdates.DateFormatter('%b %d'))\n",
    "ax4.set_xticks(ax4.get_xticks()[::3])\n",
    "ax4.spines['right'].set_visible(False)\n",
    "ax4.spines['top'].set_visible(False)\n",
    "\n",
    "ax4.text(0.05, 1,'Delhi', transform = ax4.transAxes, fontsize=20)\n",
    "\n",
    "for i in range(n):\n",
    "    \n",
    "    ax.append(fig.add_subplot(gs[i+2,:]))\n",
    "    ef = df.iloc[i+3].rename_axis('date').reset_index()\n",
    "    ef['date'] = ef['date'].astype('datetime64[ns]')\n",
    "    ax[i].bar(ef.date,ef.iloc[:,-1],color = '#007acc',alpha=0.3)\n",
    "    ax[i].plot(ef.date,ef.iloc[:,-1],marker='o',color='#007acc')\n",
    "    ax[i].text(0.02,0.5,f'{ef.columns.values[-1]}',transform = ax[i].transAxes, fontsize = 20);\n",
    "    ax[i].xaxis.set_major_locator(mdates.WeekdayLocator())\n",
    "    ax[i].xaxis.set_major_formatter(mdates.DateFormatter('%b %d'))\n",
    "    ax[i].set_ylim([0,7000])\n",
    "    ax[i].spines['right'].set_visible(False)\n",
    "    ax[i].spines['top'].set_visible(False)\n",
    "plt.tight_layout()\n"
   ]
  },
  {
   "cell_type": "code",
   "execution_count": 20,
   "metadata": {
    "execution": {
     "iopub.execute_input": "2020-09-09T04:52:32.465025Z",
     "iopub.status.busy": "2020-09-09T04:52:32.464402Z",
     "iopub.status.idle": "2020-09-09T04:52:32.466675Z",
     "shell.execute_reply": "2020-09-09T04:52:32.467148Z"
    },
    "papermill": {
     "duration": 0.059539,
     "end_time": "2020-09-09T04:52:32.467327",
     "exception": false,
     "start_time": "2020-09-09T04:52:32.407788",
     "status": "completed"
    },
    "tags": []
   },
   "outputs": [
    {
     "name": "stdout",
     "output_type": "stream",
     "text": [
      "                                   states   Cases  Deaths  PCases  PDeaths  Cases (+)  Deaths (+)  Fatality Rate\n",
      "                              Maharashtra  943772   27407  943772    27407          0           0           2.90\n",
      "                           Andhra Pradesh  517094    4560  517094     4560          0           0           0.88\n",
      "                               Tamil Nadu  474940    8015  474940     8015          0           0           1.69\n",
      "                                Karnataka  412190    6680  412190     6680          0           0           1.62\n",
      "                            Uttar Pradesh  278473    4047  278473     4047          0           0           1.45\n",
      "                                    Delhi  197135    4618  197135     4618          0           0           2.34\n",
      "                              West Bengal  186956    3677  186956     3677          0           0           1.97\n",
      "                                    Bihar  150694     765  150694      765          0           0           0.51\n",
      "                                Telangana  147642     916  145163      906       2479          10           0.62\n",
      "                                   Odisha  131382     622  131382      622          0           0           0.47\n",
      "                                    Assam  130823     378  130823      378          0           0           0.29\n",
      "                                  Gujarat  106966    3134  106966     3134          0           0           2.93\n",
      "                                Rajasthan   94126    1164   94126     1164          0           0           1.24\n",
      "                                   Kerala   92516     373   92516      373          0           0           0.40\n",
      "                                  Haryana   81059     854   81059      854          0           0           1.05\n",
      "                           Madhya Pradesh   77323    1609   77323     1609          0           0           2.08\n",
      "                                   Punjab   67547    1990   67547     1990          0           0           2.95\n",
      "                                Jharkhand   55296     496   55296      496          0           0           0.90\n",
      "                             Chhattisgarh   50114     407   50114      407          0           0           0.81\n",
      "                        Jammu and Kashmir   45925     815   45925      815          0           0           1.77\n",
      "                              Uttarakhand   26094     360   26094      360          0           0           1.38\n",
      "                                      Goa   21630     256   21630      256          0           0           1.18\n",
      "                               Puducherry   17749     337   17749      337          0           0           1.90\n",
      "                                  Tripura   16154     152   16154      152          0           0           0.94\n",
      "                         Himachal Pradesh    7831      59    7831       59          0           0           0.75\n",
      "                                  Manipur    7202      39    7202       39          0           0           0.54\n",
      "                               Chandigarh    6372      75    6372       75          0           0           1.18\n",
      "                        Arunachal Pradesh    5401       9    5401        9          0           0           0.17\n",
      "                                 Nagaland    4245       8    4245        8          0           0           0.19\n",
      "              Andaman and Nicobar Islands    3392      50    3392       50          0           0           1.47\n",
      "                                   Ladakh    3102      35    3102       35          0           0           1.13\n",
      "                                Meghalaya    3076      17    3076       17          0           0           0.55\n",
      " Dadra and Nagar Haveli and Daman and Diu    2613       2    2613        2          0           0           0.08\n",
      "                                   Sikkim    1958       7    1958        7          0           0           0.36\n",
      "                                  Mizoram    1192       0    1123        0         69           0           0.00\n",
      "                              Lakshadweep       0       0       0        0          0           0            NaN\n"
     ]
    }
   ],
   "source": [
    "#hide_input\n",
    "print(df_table.to_string(index=False))"
   ]
  },
  {
   "cell_type": "code",
   "execution_count": null,
   "metadata": {
    "papermill": {
     "duration": 0.046419,
     "end_time": "2020-09-09T04:52:32.548558",
     "exception": false,
     "start_time": "2020-09-09T04:52:32.502139",
     "status": "completed"
    },
    "tags": []
   },
   "outputs": [],
   "source": []
  },
  {
   "cell_type": "code",
   "execution_count": null,
   "metadata": {
    "papermill": {
     "duration": 0.071326,
     "end_time": "2020-09-09T04:52:32.657875",
     "exception": false,
     "start_time": "2020-09-09T04:52:32.586549",
     "status": "completed"
    },
    "tags": []
   },
   "outputs": [],
   "source": []
  }
 ],
 "metadata": {
  "kernelspec": {
   "display_name": "Python 3",
   "language": "python",
   "name": "python3"
  },
  "language_info": {
   "codemirror_mode": {
    "name": "ipython",
    "version": 3
   },
   "file_extension": ".py",
   "mimetype": "text/x-python",
   "name": "python",
   "nbconvert_exporter": "python",
   "pygments_lexer": "ipython3",
   "version": "3.6.12"
  },
  "papermill": {
   "duration": 10.147454,
   "end_time": "2020-09-09T04:52:33.098694",
   "environment_variables": {},
   "exception": null,
   "input_path": "latest.ipynb",
   "output_path": "latest.ipynb",
   "parameters": {},
   "start_time": "2020-09-09T04:52:22.951240",
   "version": "2.1.2"
  }
 },
 "nbformat": 4,
 "nbformat_minor": 4
}