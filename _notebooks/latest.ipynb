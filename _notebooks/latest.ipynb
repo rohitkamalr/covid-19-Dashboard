{
 "cells": [
  {
   "cell_type": "markdown",
   "id": "colored-stack",
   "metadata": {
    "papermill": {
     "duration": 0.023675,
     "end_time": "2021-02-12T14:24:57.114279",
     "exception": false,
     "start_time": "2021-02-12T14:24:57.090604",
     "status": "completed"
    },
    "tags": []
   },
   "source": [
    "# Latest COVID-19 India Matplotlib Overview"
   ]
  },
  {
   "cell_type": "code",
   "execution_count": 1,
   "id": "light-proportion",
   "metadata": {
    "execution": {
     "iopub.execute_input": "2021-02-12T14:24:57.167789Z",
     "iopub.status.busy": "2021-02-12T14:24:57.167083Z",
     "iopub.status.idle": "2021-02-12T14:24:57.845361Z",
     "shell.execute_reply": "2021-02-12T14:24:57.844459Z"
    },
    "papermill": {
     "duration": 0.710821,
     "end_time": "2021-02-12T14:24:57.845537",
     "exception": false,
     "start_time": "2021-02-12T14:24:57.134716",
     "status": "completed"
    },
    "tags": []
   },
   "outputs": [],
   "source": [
    "#hide\n",
    "import pandas as pd\n",
    "import numpy as np\n",
    "import requests\n",
    "import json\n",
    "import matplotlib.pyplot as plt\n",
    "import matplotlib.dates as mdates\n",
    "import matplotlib as mpl\n",
    "from IPython.core.display import display,HTML\n",
    "%matplotlib inline\n",
    "from datetime import date"
   ]
  },
  {
   "cell_type": "code",
   "execution_count": 2,
   "id": "greenhouse-shooting",
   "metadata": {
    "execution": {
     "iopub.execute_input": "2021-02-12T14:24:57.895040Z",
     "iopub.status.busy": "2021-02-12T14:24:57.894344Z",
     "iopub.status.idle": "2021-02-12T14:24:58.074984Z",
     "shell.execute_reply": "2021-02-12T14:24:58.074395Z"
    },
    "papermill": {
     "duration": 0.209703,
     "end_time": "2021-02-12T14:24:58.075146",
     "exception": false,
     "start_time": "2021-02-12T14:24:57.865443",
     "status": "completed"
    },
    "tags": []
   },
   "outputs": [],
   "source": [
    "#hide\n",
    "df  = pd.read_csv('https://api.covid19india.org/csv/latest/states.csv')\n",
    "df = df[['Date','State','Confirmed','Deceased']]\n",
    "df = df.rename(columns={'Confirmed':'Cases', \"Deceased\":'Deaths'})\n",
    "df_cases = df[[\"Date\",'State','Cases']]\n",
    "df_deaths = df[['Date','State','Deaths']]\n",
    "df_cases1 = df_cases.groupby('Date')\n",
    "df_deaths1= df_deaths.groupby('Date')"
   ]
  },
  {
   "cell_type": "code",
   "execution_count": 3,
   "id": "hybrid-cathedral",
   "metadata": {
    "execution": {
     "iopub.execute_input": "2021-02-12T14:24:58.124919Z",
     "iopub.status.busy": "2021-02-12T14:24:58.124216Z",
     "iopub.status.idle": "2021-02-12T14:24:58.145539Z",
     "shell.execute_reply": "2021-02-12T14:24:58.144901Z"
    },
    "papermill": {
     "duration": 0.050835,
     "end_time": "2021-02-12T14:24:58.145682",
     "exception": false,
     "start_time": "2021-02-12T14:24:58.094847",
     "status": "completed"
    },
    "tags": []
   },
   "outputs": [],
   "source": [
    "#hide\n",
    "df_snap = pd.read_csv('data/SnapshotCases-28-July.csv')\n",
    "arr_states = df_snap['states'].unique()\n",
    "arr_dates = df['Date'].unique()\n",
    "df_snap = df_snap.set_index('states')"
   ]
  },
  {
   "cell_type": "code",
   "execution_count": 4,
   "id": "interior-belfast",
   "metadata": {
    "execution": {
     "iopub.execute_input": "2021-02-12T14:24:58.193194Z",
     "iopub.status.busy": "2021-02-12T14:24:58.192416Z",
     "iopub.status.idle": "2021-02-12T14:24:58.195563Z",
     "shell.execute_reply": "2021-02-12T14:24:58.196123Z"
    },
    "papermill": {
     "duration": 0.031543,
     "end_time": "2021-02-12T14:24:58.196288",
     "exception": false,
     "start_time": "2021-02-12T14:24:58.164745",
     "status": "completed"
    },
    "tags": []
   },
   "outputs": [
    {
     "data": {
      "text/plain": [
       "array(['Andaman and Nicobar Islands', 'Andhra Pradesh',\n",
       "       'Arunachal Pradesh', 'Assam', 'Bihar', 'Chandigarh',\n",
       "       'Dadra and Nagar Haveli and Daman and Diu', 'Delhi', 'Goa',\n",
       "       'Gujarat', 'Haryana', 'Himachal Pradesh', 'Jammu and Kashmir',\n",
       "       'Jharkhand', 'Karnataka', 'Kerala', 'Lakshadweep',\n",
       "       'Madhya Pradesh', 'Maharashtra', 'Manipur', 'Meghalaya', 'Mizoram',\n",
       "       'Nagaland', 'Odisha', 'Puducherry', 'Punjab', 'Rajasthan',\n",
       "       'Sikkim', 'Tamil Nadu', 'Telangana', 'Tripura', 'Uttar Pradesh',\n",
       "       'West Bengal', 'Chhattisgarh', 'Ladakh', 'Uttarakhand'],\n",
       "      dtype=object)"
      ]
     },
     "execution_count": 4,
     "metadata": {},
     "output_type": "execute_result"
    }
   ],
   "source": [
    "#hide\n",
    "arr_states[-9] = 'Puducherry'\n",
    "arr_states[-10] = 'Odisha'\n",
    "arr_states[6] = 'Dadra and Nagar Haveli and Daman and Diu'\n",
    "arr_states = np.append(arr_states,np.array(['Chhattisgarh','Ladakh','Uttarakhand']))\n",
    "arr_states"
   ]
  },
  {
   "cell_type": "code",
   "execution_count": 5,
   "id": "behind-manner",
   "metadata": {
    "execution": {
     "iopub.execute_input": "2021-02-12T14:24:58.253685Z",
     "iopub.status.busy": "2021-02-12T14:24:58.252989Z",
     "iopub.status.idle": "2021-02-12T14:24:58.263204Z",
     "shell.execute_reply": "2021-02-12T14:24:58.262620Z"
    },
    "papermill": {
     "duration": 0.047487,
     "end_time": "2021-02-12T14:24:58.263345",
     "exception": false,
     "start_time": "2021-02-12T14:24:58.215858",
     "status": "completed"
    },
    "tags": []
   },
   "outputs": [],
   "source": [
    "#hide\n",
    "dates = []\n",
    "for i in arr_dates:\n",
    "    if i>='2020-07-01':\n",
    "        dates.append(i)\n",
    "dict = {'states':dates}\n",
    "for i in arr_states:\n",
    "    dict[i] = [0]*len(dates)\n",
    "dft_cases = pd.DataFrame(dict)\n",
    "dft_deaths = pd.DataFrame(dict)\n"
   ]
  },
  {
   "cell_type": "code",
   "execution_count": 6,
   "id": "simplified-peter",
   "metadata": {
    "execution": {
     "iopub.execute_input": "2021-02-12T14:24:58.314271Z",
     "iopub.status.busy": "2021-02-12T14:24:58.313506Z",
     "iopub.status.idle": "2021-02-12T14:25:02.787312Z",
     "shell.execute_reply": "2021-02-12T14:25:02.786671Z"
    },
    "papermill": {
     "duration": 4.502632,
     "end_time": "2021-02-12T14:25:02.787466",
     "exception": false,
     "start_time": "2021-02-12T14:24:58.284834",
     "status": "completed"
    },
    "tags": []
   },
   "outputs": [],
   "source": [
    "#hide\n",
    "for i in range(len(dates)):\n",
    "    df1_deaths = df_deaths1.get_group(dates[i])\n",
    "    for j in range(len(df1_deaths.index)):\n",
    "        if df1_deaths.iloc[j,1] in arr_states:\n",
    "            dft_deaths.loc[i,df1_deaths.iloc[j,1]] = df1_deaths.iloc[j,2]\n",
    "dft_deaths = dft_deaths.set_index('states')"
   ]
  },
  {
   "cell_type": "code",
   "execution_count": 7,
   "id": "geological-welding",
   "metadata": {
    "execution": {
     "iopub.execute_input": "2021-02-12T14:25:02.834313Z",
     "iopub.status.busy": "2021-02-12T14:25:02.833650Z",
     "iopub.status.idle": "2021-02-12T14:25:07.240851Z",
     "shell.execute_reply": "2021-02-12T14:25:07.240229Z"
    },
    "papermill": {
     "duration": 4.432688,
     "end_time": "2021-02-12T14:25:07.241002",
     "exception": false,
     "start_time": "2021-02-12T14:25:02.808314",
     "status": "completed"
    },
    "tags": []
   },
   "outputs": [],
   "source": [
    "#hide\n",
    "for i in range(len(dates)):\n",
    "    df1_cases = df_cases1.get_group(dates[i])\n",
    "    for j in range(len(df1_cases.index)):\n",
    "        if df1_cases.iloc[j,1] in arr_states:\n",
    "            dft_cases.loc[i,df1_cases.iloc[j,1]] = df1_cases.iloc[j,2]\n",
    "dft_cases = dft_cases.set_index('states')"
   ]
  },
  {
   "cell_type": "code",
   "execution_count": 8,
   "id": "binary-ratio",
   "metadata": {
    "execution": {
     "iopub.execute_input": "2021-02-12T14:25:07.287304Z",
     "iopub.status.busy": "2021-02-12T14:25:07.286653Z",
     "iopub.status.idle": "2021-02-12T14:25:07.289537Z",
     "shell.execute_reply": "2021-02-12T14:25:07.288845Z"
    },
    "papermill": {
     "duration": 0.027786,
     "end_time": "2021-02-12T14:25:07.289679",
     "exception": false,
     "start_time": "2021-02-12T14:25:07.261893",
     "status": "completed"
    },
    "tags": []
   },
   "outputs": [],
   "source": [
    "#hide\n",
    "dft_cases = dft_cases.T\n",
    "dft_deaths = dft_deaths.T\n",
    "dt_today = dates[-1]\n",
    "dt_yday = dates[-2]"
   ]
  },
  {
   "cell_type": "code",
   "execution_count": 9,
   "id": "boolean-calculator",
   "metadata": {
    "execution": {
     "iopub.execute_input": "2021-02-12T14:25:07.335075Z",
     "iopub.status.busy": "2021-02-12T14:25:07.334341Z",
     "iopub.status.idle": "2021-02-12T14:25:07.338714Z",
     "shell.execute_reply": "2021-02-12T14:25:07.339355Z"
    },
    "papermill": {
     "duration": 0.030571,
     "end_time": "2021-02-12T14:25:07.339509",
     "exception": false,
     "start_time": "2021-02-12T14:25:07.308938",
     "status": "completed"
    },
    "tags": []
   },
   "outputs": [],
   "source": [
    "#hide\n",
    "dft_cases = dft_cases.reset_index()\n",
    "dft_deaths = dft_deaths.reset_index()\n",
    "dft_cases = dft_cases.rename(columns = {'index':'state'})\n",
    "dft_deaths = dft_deaths.rename(columns = {'index':'state'})"
   ]
  },
  {
   "cell_type": "code",
   "execution_count": 10,
   "id": "invisible-johnston",
   "metadata": {
    "execution": {
     "iopub.execute_input": "2021-02-12T14:25:07.391585Z",
     "iopub.status.busy": "2021-02-12T14:25:07.390874Z",
     "iopub.status.idle": "2021-02-12T14:25:07.392842Z",
     "shell.execute_reply": "2021-02-12T14:25:07.393525Z"
    },
    "papermill": {
     "duration": 0.035626,
     "end_time": "2021-02-12T14:25:07.393756",
     "exception": false,
     "start_time": "2021-02-12T14:25:07.358130",
     "status": "completed"
    },
    "tags": []
   },
   "outputs": [],
   "source": [
    "#hide\n",
    "dfc_cases = dft_cases.groupby('state')[dt_today].sum()\n",
    "dfc_deaths = dft_deaths.groupby('state')[dt_today].sum()\n",
    "dfp_cases = dft_cases.groupby('state')[dt_yday].sum()\n",
    "dfp_deaths = dft_deaths.groupby('state')[dt_yday].sum()"
   ]
  },
  {
   "cell_type": "code",
   "execution_count": 11,
   "id": "measured-great",
   "metadata": {
    "execution": {
     "iopub.execute_input": "2021-02-12T14:25:07.434254Z",
     "iopub.status.busy": "2021-02-12T14:25:07.433615Z",
     "iopub.status.idle": "2021-02-12T14:25:07.454007Z",
     "shell.execute_reply": "2021-02-12T14:25:07.453436Z"
    },
    "papermill": {
     "duration": 0.041459,
     "end_time": "2021-02-12T14:25:07.454153",
     "exception": false,
     "start_time": "2021-02-12T14:25:07.412694",
     "status": "completed"
    },
    "tags": []
   },
   "outputs": [
    {
     "data": {
      "text/html": [
       "<div>\n",
       "<style scoped>\n",
       "    .dataframe tbody tr th:only-of-type {\n",
       "        vertical-align: middle;\n",
       "    }\n",
       "\n",
       "    .dataframe tbody tr th {\n",
       "        vertical-align: top;\n",
       "    }\n",
       "\n",
       "    .dataframe thead th {\n",
       "        text-align: right;\n",
       "    }\n",
       "</style>\n",
       "<table border=\"1\" class=\"dataframe\">\n",
       "  <thead>\n",
       "    <tr style=\"text-align: right;\">\n",
       "      <th></th>\n",
       "      <th>states</th>\n",
       "      <th>Cases</th>\n",
       "      <th>Deaths</th>\n",
       "      <th>PCases</th>\n",
       "      <th>PDeaths</th>\n",
       "    </tr>\n",
       "  </thead>\n",
       "  <tbody>\n",
       "    <tr>\n",
       "      <th>0</th>\n",
       "      <td>Maharashtra</td>\n",
       "      <td>2052905</td>\n",
       "      <td>51415</td>\n",
       "      <td>2052905</td>\n",
       "      <td>51415</td>\n",
       "    </tr>\n",
       "    <tr>\n",
       "      <th>1</th>\n",
       "      <td>Kerala</td>\n",
       "      <td>988656</td>\n",
       "      <td>3937</td>\n",
       "      <td>988656</td>\n",
       "      <td>3937</td>\n",
       "    </tr>\n",
       "    <tr>\n",
       "      <th>2</th>\n",
       "      <td>Karnataka</td>\n",
       "      <td>944057</td>\n",
       "      <td>12251</td>\n",
       "      <td>944057</td>\n",
       "      <td>12251</td>\n",
       "    </tr>\n",
       "    <tr>\n",
       "      <th>3</th>\n",
       "      <td>Andhra Pradesh</td>\n",
       "      <td>888692</td>\n",
       "      <td>7161</td>\n",
       "      <td>888692</td>\n",
       "      <td>7161</td>\n",
       "    </tr>\n",
       "    <tr>\n",
       "      <th>4</th>\n",
       "      <td>Tamil Nadu</td>\n",
       "      <td>843690</td>\n",
       "      <td>12402</td>\n",
       "      <td>843690</td>\n",
       "      <td>12402</td>\n",
       "    </tr>\n",
       "  </tbody>\n",
       "</table>\n",
       "</div>"
      ],
      "text/plain": [
       "           states    Cases  Deaths   PCases  PDeaths\n",
       "0     Maharashtra  2052905   51415  2052905    51415\n",
       "1          Kerala   988656    3937   988656     3937\n",
       "2       Karnataka   944057   12251   944057    12251\n",
       "3  Andhra Pradesh   888692    7161   888692     7161\n",
       "4      Tamil Nadu   843690   12402   843690    12402"
      ]
     },
     "execution_count": 11,
     "metadata": {},
     "output_type": "execute_result"
    }
   ],
   "source": [
    "#hide\n",
    "df_table = pd.DataFrame({'states': dfc_cases.index, 'Cases': dfc_cases.values, 'Deaths': dfc_deaths.values, 'PCases': dfp_cases.values, 'PDeaths': dfp_deaths.values}).set_index('states')\n",
    "df_table = df_table.sort_values(by = ['Cases','Deaths'], ascending = [False, False])\n",
    "df_table = df_table.reset_index()\n",
    "df_table.head()"
   ]
  },
  {
   "cell_type": "code",
   "execution_count": 12,
   "id": "found-montreal",
   "metadata": {
    "execution": {
     "iopub.execute_input": "2021-02-12T14:25:07.499921Z",
     "iopub.status.busy": "2021-02-12T14:25:07.499225Z",
     "iopub.status.idle": "2021-02-12T14:25:07.508937Z",
     "shell.execute_reply": "2021-02-12T14:25:07.508247Z"
    },
    "papermill": {
     "duration": 0.036226,
     "end_time": "2021-02-12T14:25:07.509081",
     "exception": false,
     "start_time": "2021-02-12T14:25:07.472855",
     "status": "completed"
    },
    "tags": []
   },
   "outputs": [],
   "source": [
    "#hide\n",
    "for c in 'Cases, Deaths'.split(', '):\n",
    "    df_table[f'{c} (+)'] = (df_table[c] - df_table[f'P{c}']).clip(0)\n",
    "df_table['Fatality Rate'] = (100* df_table['Deaths']/ df_table['Cases']).round(2)"
   ]
  },
  {
   "cell_type": "code",
   "execution_count": 13,
   "id": "minus-savage",
   "metadata": {
    "execution": {
     "iopub.execute_input": "2021-02-12T14:25:07.559393Z",
     "iopub.status.busy": "2021-02-12T14:25:07.558743Z",
     "iopub.status.idle": "2021-02-12T14:25:07.562339Z",
     "shell.execute_reply": "2021-02-12T14:25:07.561664Z"
    },
    "papermill": {
     "duration": 0.033725,
     "end_time": "2021-02-12T14:25:07.562469",
     "exception": false,
     "start_time": "2021-02-12T14:25:07.528744",
     "status": "completed"
    },
    "tags": []
   },
   "outputs": [
    {
     "data": {
      "text/html": [
       "<div>\n",
       "<style scoped>\n",
       "    .dataframe tbody tr th:only-of-type {\n",
       "        vertical-align: middle;\n",
       "    }\n",
       "\n",
       "    .dataframe tbody tr th {\n",
       "        vertical-align: top;\n",
       "    }\n",
       "\n",
       "    .dataframe thead th {\n",
       "        text-align: right;\n",
       "    }\n",
       "</style>\n",
       "<table border=\"1\" class=\"dataframe\">\n",
       "  <thead>\n",
       "    <tr style=\"text-align: right;\">\n",
       "      <th></th>\n",
       "      <th>states</th>\n",
       "      <th>Cases</th>\n",
       "      <th>Deaths</th>\n",
       "      <th>PCases</th>\n",
       "      <th>PDeaths</th>\n",
       "      <th>Cases (+)</th>\n",
       "      <th>Deaths (+)</th>\n",
       "      <th>Fatality Rate</th>\n",
       "    </tr>\n",
       "  </thead>\n",
       "  <tbody>\n",
       "    <tr>\n",
       "      <th>0</th>\n",
       "      <td>Maharashtra</td>\n",
       "      <td>2052905</td>\n",
       "      <td>51415</td>\n",
       "      <td>2052905</td>\n",
       "      <td>51415</td>\n",
       "      <td>0</td>\n",
       "      <td>0</td>\n",
       "      <td>2.50</td>\n",
       "    </tr>\n",
       "    <tr>\n",
       "      <th>1</th>\n",
       "      <td>Kerala</td>\n",
       "      <td>988656</td>\n",
       "      <td>3937</td>\n",
       "      <td>988656</td>\n",
       "      <td>3937</td>\n",
       "      <td>0</td>\n",
       "      <td>0</td>\n",
       "      <td>0.40</td>\n",
       "    </tr>\n",
       "    <tr>\n",
       "      <th>2</th>\n",
       "      <td>Karnataka</td>\n",
       "      <td>944057</td>\n",
       "      <td>12251</td>\n",
       "      <td>944057</td>\n",
       "      <td>12251</td>\n",
       "      <td>0</td>\n",
       "      <td>0</td>\n",
       "      <td>1.30</td>\n",
       "    </tr>\n",
       "    <tr>\n",
       "      <th>3</th>\n",
       "      <td>Andhra Pradesh</td>\n",
       "      <td>888692</td>\n",
       "      <td>7161</td>\n",
       "      <td>888692</td>\n",
       "      <td>7161</td>\n",
       "      <td>0</td>\n",
       "      <td>0</td>\n",
       "      <td>0.81</td>\n",
       "    </tr>\n",
       "    <tr>\n",
       "      <th>4</th>\n",
       "      <td>Tamil Nadu</td>\n",
       "      <td>843690</td>\n",
       "      <td>12402</td>\n",
       "      <td>843690</td>\n",
       "      <td>12402</td>\n",
       "      <td>0</td>\n",
       "      <td>0</td>\n",
       "      <td>1.47</td>\n",
       "    </tr>\n",
       "  </tbody>\n",
       "</table>\n",
       "</div>"
      ],
      "text/plain": [
       "           states    Cases  Deaths   PCases  PDeaths  Cases (+)  Deaths (+)  \\\n",
       "0     Maharashtra  2052905   51415  2052905    51415          0           0   \n",
       "1          Kerala   988656    3937   988656     3937          0           0   \n",
       "2       Karnataka   944057   12251   944057    12251          0           0   \n",
       "3  Andhra Pradesh   888692    7161   888692     7161          0           0   \n",
       "4      Tamil Nadu   843690   12402   843690    12402          0           0   \n",
       "\n",
       "   Fatality Rate  \n",
       "0           2.50  \n",
       "1           0.40  \n",
       "2           1.30  \n",
       "3           0.81  \n",
       "4           1.47  "
      ]
     },
     "execution_count": 13,
     "metadata": {},
     "output_type": "execute_result"
    }
   ],
   "source": [
    "#hide\n",
    "df_table.head()"
   ]
  },
  {
   "cell_type": "code",
   "execution_count": 14,
   "id": "false-peter",
   "metadata": {
    "execution": {
     "iopub.execute_input": "2021-02-12T14:25:07.607979Z",
     "iopub.status.busy": "2021-02-12T14:25:07.607187Z",
     "iopub.status.idle": "2021-02-12T14:25:07.625488Z",
     "shell.execute_reply": "2021-02-12T14:25:07.624959Z"
    },
    "papermill": {
     "duration": 0.043749,
     "end_time": "2021-02-12T14:25:07.625617",
     "exception": false,
     "start_time": "2021-02-12T14:25:07.581868",
     "status": "completed"
    },
    "tags": []
   },
   "outputs": [
    {
     "data": {
      "text/plain": [
       "{'updated': '2021-02-12',\n",
       " 'since': '2021-02-11',\n",
       " 'Cases': 10880794,\n",
       " 'PCases': 10880413,\n",
       " 'Deaths': 155489,\n",
       " 'PDeaths': 155484,\n",
       " 'Cases (+)': 381,\n",
       " 'Deaths (+)': 5}"
      ]
     },
     "execution_count": 14,
     "metadata": {},
     "output_type": "execute_result"
    }
   ],
   "source": [
    "#hide\n",
    "summary = {'updated':dates[-1], 'since':dates[-2]}\n",
    "list_names = ['Cases', 'PCases', 'Deaths', 'PDeaths', 'Cases (+)', 'Deaths (+)']\n",
    "for name in list_names:\n",
    "    summary[name] = df_table.sum()[name]\n",
    "summary"
   ]
  },
  {
   "cell_type": "code",
   "execution_count": 15,
   "id": "packed-viewer",
   "metadata": {
    "execution": {
     "iopub.execute_input": "2021-02-12T14:25:07.670889Z",
     "iopub.status.busy": "2021-02-12T14:25:07.670233Z",
     "iopub.status.idle": "2021-02-12T14:25:07.672192Z",
     "shell.execute_reply": "2021-02-12T14:25:07.672742Z"
    },
    "papermill": {
     "duration": 0.027534,
     "end_time": "2021-02-12T14:25:07.672916",
     "exception": false,
     "start_time": "2021-02-12T14:25:07.645382",
     "status": "completed"
    },
    "tags": []
   },
   "outputs": [],
   "source": [
    "#hide\n",
    "overview = '''\n",
    "<!-- #######  HTML!! #########-->\n",
    "<h1 style=\"color: #5e9ca0; text-align: center;\">India</h1>\n",
    "<p style=\"text-align: center;\">Last update: <strong>{update}</strong></p>\n",
    "<p style=\"text-align: center;\">Confirmed cases:</p>\n",
    "<p style=\"text-align: center;font-size:24px;\">{cases} (<span style=\"color: #ff0000;\">+{new}</span>)</p>\n",
    "<p style=\"text-align: center;\">Confirmed deaths:</p>\n",
    "<p style=\"text-align: center;font-size:24px;\">{deaths} (<span style=\"color: #ff0000;\">+{dnew}</span>)</p>\n",
    "'''"
   ]
  },
  {
   "cell_type": "code",
   "execution_count": 16,
   "id": "phantom-lover",
   "metadata": {
    "execution": {
     "iopub.execute_input": "2021-02-12T14:25:07.719602Z",
     "iopub.status.busy": "2021-02-12T14:25:07.718981Z",
     "iopub.status.idle": "2021-02-12T14:25:07.722874Z",
     "shell.execute_reply": "2021-02-12T14:25:07.723402Z"
    },
    "papermill": {
     "duration": 0.031004,
     "end_time": "2021-02-12T14:25:07.723571",
     "exception": false,
     "start_time": "2021-02-12T14:25:07.692567",
     "status": "completed"
    },
    "tags": []
   },
   "outputs": [
    {
     "data": {
      "text/html": [
       "\n",
       "<!-- #######  HTML!! #########-->\n",
       "<h1 style=\"color: #5e9ca0; text-align: center;\">India</h1>\n",
       "<p style=\"text-align: center;\">Last update: <strong>2021-02-12</strong></p>\n",
       "<p style=\"text-align: center;\">Confirmed cases:</p>\n",
       "<p style=\"text-align: center;font-size:24px;\">10880794 (<span style=\"color: #ff0000;\">+381</span>)</p>\n",
       "<p style=\"text-align: center;\">Confirmed deaths:</p>\n",
       "<p style=\"text-align: center;font-size:24px;\">155489 (<span style=\"color: #ff0000;\">+5</span>)</p>\n"
      ],
      "text/plain": [
       "<IPython.core.display.HTML object>"
      ]
     },
     "metadata": {},
     "output_type": "display_data"
    }
   ],
   "source": [
    "#hide_input\n",
    "update = summary['updated']\n",
    "cases = summary['Cases']\n",
    "new = summary['Cases (+)']\n",
    "deaths = summary['Deaths']\n",
    "dnew = summary['Deaths (+)']\n",
    "\n",
    "html = HTML(overview.format(update=update, cases=cases,new=new,deaths=deaths,dnew=dnew))\n",
    "\n",
    "display(html)"
   ]
  },
  {
   "cell_type": "code",
   "execution_count": 17,
   "id": "sealed-reset",
   "metadata": {
    "execution": {
     "iopub.execute_input": "2021-02-12T14:25:07.773829Z",
     "iopub.status.busy": "2021-02-12T14:25:07.773138Z",
     "iopub.status.idle": "2021-02-12T14:25:07.781367Z",
     "shell.execute_reply": "2021-02-12T14:25:07.781997Z"
    },
    "papermill": {
     "duration": 0.036344,
     "end_time": "2021-02-12T14:25:07.782181",
     "exception": false,
     "start_time": "2021-02-12T14:25:07.745837",
     "status": "completed"
    },
    "tags": []
   },
   "outputs": [],
   "source": [
    "#hide\n",
    "dt_cols = list(dft_cases.columns[1:])\n",
    "dft_ct_new_cases = dft_cases.groupby('state')[dt_cols].sum().diff(axis=1).fillna(0).astype(int)\n",
    "dft_ct_new_cases.sort_values(by = dates[-1], ascending = False,inplace = True)"
   ]
  },
  {
   "cell_type": "code",
   "execution_count": 18,
   "id": "designed-constant",
   "metadata": {
    "execution": {
     "iopub.execute_input": "2021-02-12T14:25:07.847059Z",
     "iopub.status.busy": "2021-02-12T14:25:07.846382Z",
     "iopub.status.idle": "2021-02-12T14:25:07.849735Z",
     "shell.execute_reply": "2021-02-12T14:25:07.850384Z"
    },
    "papermill": {
     "duration": 0.044731,
     "end_time": "2021-02-12T14:25:07.850544",
     "exception": false,
     "start_time": "2021-02-12T14:25:07.805813",
     "status": "completed"
    },
    "tags": []
   },
   "outputs": [
    {
     "data": {
      "text/html": [
       "<div>\n",
       "<style scoped>\n",
       "    .dataframe tbody tr th:only-of-type {\n",
       "        vertical-align: middle;\n",
       "    }\n",
       "\n",
       "    .dataframe tbody tr th {\n",
       "        vertical-align: top;\n",
       "    }\n",
       "\n",
       "    .dataframe thead th {\n",
       "        text-align: right;\n",
       "    }\n",
       "</style>\n",
       "<table border=\"1\" class=\"dataframe\">\n",
       "  <thead>\n",
       "    <tr style=\"text-align: right;\">\n",
       "      <th>states</th>\n",
       "      <th>2020-07-01</th>\n",
       "      <th>2020-07-02</th>\n",
       "      <th>2020-07-03</th>\n",
       "      <th>2020-07-04</th>\n",
       "      <th>2020-07-05</th>\n",
       "      <th>2020-07-06</th>\n",
       "      <th>2020-07-07</th>\n",
       "      <th>2020-07-08</th>\n",
       "      <th>2020-07-09</th>\n",
       "      <th>2020-07-10</th>\n",
       "      <th>...</th>\n",
       "      <th>2021-02-03</th>\n",
       "      <th>2021-02-04</th>\n",
       "      <th>2021-02-05</th>\n",
       "      <th>2021-02-06</th>\n",
       "      <th>2021-02-07</th>\n",
       "      <th>2021-02-08</th>\n",
       "      <th>2021-02-09</th>\n",
       "      <th>2021-02-10</th>\n",
       "      <th>2021-02-11</th>\n",
       "      <th>2021-02-12</th>\n",
       "    </tr>\n",
       "    <tr>\n",
       "      <th>state</th>\n",
       "      <th></th>\n",
       "      <th></th>\n",
       "      <th></th>\n",
       "      <th></th>\n",
       "      <th></th>\n",
       "      <th></th>\n",
       "      <th></th>\n",
       "      <th></th>\n",
       "      <th></th>\n",
       "      <th></th>\n",
       "      <th></th>\n",
       "      <th></th>\n",
       "      <th></th>\n",
       "      <th></th>\n",
       "      <th></th>\n",
       "      <th></th>\n",
       "      <th></th>\n",
       "      <th></th>\n",
       "      <th></th>\n",
       "      <th></th>\n",
       "      <th></th>\n",
       "    </tr>\n",
       "  </thead>\n",
       "  <tbody>\n",
       "    <tr>\n",
       "      <th>Telangana</th>\n",
       "      <td>0</td>\n",
       "      <td>1213</td>\n",
       "      <td>1892</td>\n",
       "      <td>1850</td>\n",
       "      <td>1590</td>\n",
       "      <td>1831</td>\n",
       "      <td>1879</td>\n",
       "      <td>1924</td>\n",
       "      <td>1410</td>\n",
       "      <td>1278</td>\n",
       "      <td>...</td>\n",
       "      <td>185</td>\n",
       "      <td>177</td>\n",
       "      <td>169</td>\n",
       "      <td>161</td>\n",
       "      <td>150</td>\n",
       "      <td>101</td>\n",
       "      <td>149</td>\n",
       "      <td>157</td>\n",
       "      <td>146</td>\n",
       "      <td>143</td>\n",
       "    </tr>\n",
       "    <tr>\n",
       "      <th>Delhi</th>\n",
       "      <td>0</td>\n",
       "      <td>2373</td>\n",
       "      <td>2520</td>\n",
       "      <td>2505</td>\n",
       "      <td>2244</td>\n",
       "      <td>1379</td>\n",
       "      <td>2008</td>\n",
       "      <td>2033</td>\n",
       "      <td>2187</td>\n",
       "      <td>2089</td>\n",
       "      <td>...</td>\n",
       "      <td>150</td>\n",
       "      <td>158</td>\n",
       "      <td>154</td>\n",
       "      <td>123</td>\n",
       "      <td>119</td>\n",
       "      <td>125</td>\n",
       "      <td>100</td>\n",
       "      <td>127</td>\n",
       "      <td>142</td>\n",
       "      <td>141</td>\n",
       "    </tr>\n",
       "    <tr>\n",
       "      <th>Odisha</th>\n",
       "      <td>0</td>\n",
       "      <td>229</td>\n",
       "      <td>561</td>\n",
       "      <td>495</td>\n",
       "      <td>469</td>\n",
       "      <td>456</td>\n",
       "      <td>571</td>\n",
       "      <td>527</td>\n",
       "      <td>577</td>\n",
       "      <td>755</td>\n",
       "      <td>...</td>\n",
       "      <td>71</td>\n",
       "      <td>87</td>\n",
       "      <td>97</td>\n",
       "      <td>82</td>\n",
       "      <td>72</td>\n",
       "      <td>72</td>\n",
       "      <td>105</td>\n",
       "      <td>92</td>\n",
       "      <td>95</td>\n",
       "      <td>58</td>\n",
       "    </tr>\n",
       "    <tr>\n",
       "      <th>Goa</th>\n",
       "      <td>0</td>\n",
       "      <td>95</td>\n",
       "      <td>94</td>\n",
       "      <td>108</td>\n",
       "      <td>77</td>\n",
       "      <td>52</td>\n",
       "      <td>90</td>\n",
       "      <td>136</td>\n",
       "      <td>112</td>\n",
       "      <td>100</td>\n",
       "      <td>...</td>\n",
       "      <td>63</td>\n",
       "      <td>79</td>\n",
       "      <td>56</td>\n",
       "      <td>65</td>\n",
       "      <td>42</td>\n",
       "      <td>57</td>\n",
       "      <td>59</td>\n",
       "      <td>72</td>\n",
       "      <td>45</td>\n",
       "      <td>39</td>\n",
       "    </tr>\n",
       "    <tr>\n",
       "      <th>Punjab</th>\n",
       "      <td>0</td>\n",
       "      <td>116</td>\n",
       "      <td>153</td>\n",
       "      <td>172</td>\n",
       "      <td>174</td>\n",
       "      <td>208</td>\n",
       "      <td>258</td>\n",
       "      <td>158</td>\n",
       "      <td>233</td>\n",
       "      <td>217</td>\n",
       "      <td>...</td>\n",
       "      <td>187</td>\n",
       "      <td>196</td>\n",
       "      <td>199</td>\n",
       "      <td>183</td>\n",
       "      <td>207</td>\n",
       "      <td>192</td>\n",
       "      <td>185</td>\n",
       "      <td>229</td>\n",
       "      <td>306</td>\n",
       "      <td>0</td>\n",
       "    </tr>\n",
       "  </tbody>\n",
       "</table>\n",
       "<p>5 rows × 227 columns</p>\n",
       "</div>"
      ],
      "text/plain": [
       "states     2020-07-01  2020-07-02  2020-07-03  2020-07-04  2020-07-05  \\\n",
       "state                                                                   \n",
       "Telangana           0        1213        1892        1850        1590   \n",
       "Delhi               0        2373        2520        2505        2244   \n",
       "Odisha              0         229         561         495         469   \n",
       "Goa                 0          95          94         108          77   \n",
       "Punjab              0         116         153         172         174   \n",
       "\n",
       "states     2020-07-06  2020-07-07  2020-07-08  2020-07-09  2020-07-10  ...  \\\n",
       "state                                                                  ...   \n",
       "Telangana        1831        1879        1924        1410        1278  ...   \n",
       "Delhi            1379        2008        2033        2187        2089  ...   \n",
       "Odisha            456         571         527         577         755  ...   \n",
       "Goa                52          90         136         112         100  ...   \n",
       "Punjab            208         258         158         233         217  ...   \n",
       "\n",
       "states     2021-02-03  2021-02-04  2021-02-05  2021-02-06  2021-02-07  \\\n",
       "state                                                                   \n",
       "Telangana         185         177         169         161         150   \n",
       "Delhi             150         158         154         123         119   \n",
       "Odisha             71          87          97          82          72   \n",
       "Goa                63          79          56          65          42   \n",
       "Punjab            187         196         199         183         207   \n",
       "\n",
       "states     2021-02-08  2021-02-09  2021-02-10  2021-02-11  2021-02-12  \n",
       "state                                                                  \n",
       "Telangana         101         149         157         146         143  \n",
       "Delhi             125         100         127         142         141  \n",
       "Odisha             72         105          92          95          58  \n",
       "Goa                57          59          72          45          39  \n",
       "Punjab            192         185         229         306           0  \n",
       "\n",
       "[5 rows x 227 columns]"
      ]
     },
     "execution_count": 18,
     "metadata": {},
     "output_type": "execute_result"
    }
   ],
   "source": [
    "#hide\n",
    "dft_ct_new_cases.head()"
   ]
  },
  {
   "cell_type": "code",
   "execution_count": 19,
   "id": "responsible-nightlife",
   "metadata": {
    "execution": {
     "iopub.execute_input": "2021-02-12T14:25:07.907312Z",
     "iopub.status.busy": "2021-02-12T14:25:07.902048Z",
     "iopub.status.idle": "2021-02-12T14:25:18.310708Z",
     "shell.execute_reply": "2021-02-12T14:25:18.311306Z"
    },
    "papermill": {
     "duration": 10.438491,
     "end_time": "2021-02-12T14:25:18.311511",
     "exception": false,
     "start_time": "2021-02-12T14:25:07.873020",
     "status": "completed"
    },
    "tags": []
   },
   "outputs": [
    {
     "data": {
      "image/png": "[encoded data removed]",
      "text/plain": [
       "<Figure size 1296x2016 with 11 Axes>"
      ]
     },
     "metadata": {
      "needs_background": "light"
     },
     "output_type": "display_data"
    }
   ],
   "source": [
    "#hide_input\n",
    "df = dft_ct_new_cases.copy()\n",
    "df.loc['Total'] = df.sum()\n",
    "n = 5\n",
    "ax = []\n",
    "fig = plt.figure(figsize = (18,28))\n",
    "gs = fig.add_gridspec(n+2, 5)\n",
    "# gs = fig.add_gridspec(2, 3)\n",
    "ax1 = fig.add_subplot(gs[0, :])\n",
    "ef = df.loc['Total'].rename_axis('date').reset_index()\n",
    "ef['date'] = ef['date'].astype('datetime64[ns]')\n",
    "ax1.bar(ef.date,ef.Total,alpha=0.3,color='#007acc')\n",
    "ax1.plot(ef.date,ef.Total , marker=\"o\", color='#007acc')\n",
    "ax1.xaxis.set_major_locator(mdates.WeekdayLocator())\n",
    "ax1.xaxis.set_major_formatter(mdates.DateFormatter('%b %d'))\n",
    "ax1.text(0.02, 0.5,'India daily case count', transform = ax1.transAxes, fontsize=25);\n",
    "ax1.spines['right'].set_visible(False)\n",
    "ax1.spines['top'].set_visible(False)\n",
    "\n",
    "ax2 = fig.add_subplot(gs[1,0])\n",
    "ef = df.loc['Maharashtra'].rename_axis('date').reset_index()\n",
    "ef['date'] = ef['date'].astype('datetime64[ns]')\n",
    "\n",
    "ax2.bar(ef.date, ef.Maharashtra,color = '#007acc',alpha=0.5)\n",
    "ax2.xaxis.set_major_locator(mdates.WeekdayLocator())\n",
    "ax2.xaxis.set_major_formatter(mdates.DateFormatter('%b %d'))\n",
    "ax2.set_xticks(ax2.get_xticks()[::3])\n",
    "maxyval = ef.Maharashtra.max()\n",
    "ax2.set_ylim([0,maxyval])\n",
    "ax2.text(0.05, 0.9,'Maharashtra', transform = ax2.transAxes, fontsize=20);\n",
    "ax2.spines['right'].set_visible(False)\n",
    "ax2.spines['top'].set_visible(False)\n",
    "\n",
    "\n",
    "ax3 = fig.add_subplot(gs[1,1])\n",
    "ef = df.loc['Tamil Nadu'].rename_axis('date').reset_index()\n",
    "ef['date'] = ef['date'].astype('datetime64[ns]')\n",
    "ax3.bar(ef.date, ef['Tamil Nadu'],color = '#007acc',alpha=0.5,)\n",
    "ax3.xaxis.set_major_locator(mdates.WeekdayLocator())\n",
    "ax3.xaxis.set_major_formatter(mdates.DateFormatter('%b %d'))\n",
    "ax3.set_xticks(ax3.get_xticks()[::3])\n",
    "ax3.text(0.05, 0.9,'Tamil Nadu', transform = ax3.transAxes, fontsize=20);\n",
    "ax3.spines['right'].set_visible(False)\n",
    "ax3.spines['top'].set_visible(False)\n",
    "\n",
    "ax5 = fig.add_subplot(gs[1,3])\n",
    "ef = df.loc['Telangana'].rename_axis('date').reset_index()\n",
    "ef['date'] = ef['date'].astype('datetime64[ns]')\n",
    "ax5.bar(ef.date, ef['Telangana'],color = '#007acc',alpha=0.5,)\n",
    "ax5.xaxis.set_major_locator(mdates.WeekdayLocator())\n",
    "ax5.xaxis.set_major_formatter(mdates.DateFormatter('%b %d'))\n",
    "ax5.set_xticks(ax5.get_xticks()[::3])\n",
    "ax5.text(0.05, 0.9,'Telangana', transform = ax5.transAxes, fontsize=20);\n",
    "ax5.spines['right'].set_visible(False)\n",
    "ax5.spines['top'].set_visible(False)\n",
    "\n",
    "ax6 = fig.add_subplot(gs[1,4])\n",
    "ef = df.loc['Andhra Pradesh'].rename_axis('date').reset_index()\n",
    "ef['date'] = ef['date'].astype('datetime64[ns]')\n",
    "ax6.bar(ef.date, ef['Andhra Pradesh'],color = '#007acc',alpha=0.5,)\n",
    "ax6.xaxis.set_major_locator(mdates.WeekdayLocator())\n",
    "ax6.xaxis.set_major_formatter(mdates.DateFormatter('%b %d'))\n",
    "ax6.set_xticks(ax6.get_xticks()[::3])\n",
    "ax6.text(0.05, 1,'Andhra Pradesh', transform = ax6.transAxes, fontsize=20);\n",
    "ax6.spines['right'].set_visible(False)\n",
    "ax6.spines['top'].set_visible(False)\n",
    "\n",
    "ax4 = fig.add_subplot(gs[1,2])\n",
    "ef = df.loc['Delhi'].rename_axis('date').reset_index()\n",
    "ef['date'] = ef['date'].astype('datetime64[ns]')\n",
    "ax4.bar(ef.date, ef.Delhi,color = '#007acc',alpha=0.5)\n",
    "ax4.set_xticks([])\n",
    "ax4.xaxis.set_major_locator(mdates.WeekdayLocator())\n",
    "ax4.xaxis.set_major_formatter(mdates.DateFormatter('%b %d'))\n",
    "ax4.set_xticks(ax4.get_xticks()[::3])\n",
    "ax4.spines['right'].set_visible(False)\n",
    "ax4.spines['top'].set_visible(False)\n",
    "\n",
    "ax4.text(0.05, 1,'Delhi', transform = ax4.transAxes, fontsize=20)\n",
    "\n",
    "for i in range(n):\n",
    "    \n",
    "    ax.append(fig.add_subplot(gs[i+2,:]))\n",
    "    ef = df.iloc[i+3].rename_axis('date').reset_index()\n",
    "    ef['date'] = ef['date'].astype('datetime64[ns]')\n",
    "    ax[i].bar(ef.date,ef.iloc[:,-1],color = '#007acc',alpha=0.3)\n",
    "    ax[i].plot(ef.date,ef.iloc[:,-1],marker='o',color='#007acc')\n",
    "    ax[i].text(0.02,0.5,f'{ef.columns.values[-1]}',transform = ax[i].transAxes, fontsize = 20);\n",
    "    ax[i].xaxis.set_major_locator(mdates.WeekdayLocator())\n",
    "    ax[i].xaxis.set_major_formatter(mdates.DateFormatter('%b %d'))\n",
    "    ax[i].set_ylim([0,7000])\n",
    "    ax[i].spines['right'].set_visible(False)\n",
    "    ax[i].spines['top'].set_visible(False)\n",
    "plt.tight_layout()\n"
   ]
  },
  {
   "cell_type": "code",
   "execution_count": 20,
   "id": "dress-forge",
   "metadata": {
    "execution": {
     "iopub.execute_input": "2021-02-12T14:25:18.368818Z",
     "iopub.status.busy": "2021-02-12T14:25:18.368140Z",
     "iopub.status.idle": "2021-02-12T14:25:18.373284Z",
     "shell.execute_reply": "2021-02-12T14:25:18.372673Z"
    },
    "papermill": {
     "duration": 0.037564,
     "end_time": "2021-02-12T14:25:18.373407",
     "exception": false,
     "start_time": "2021-02-12T14:25:18.335843",
     "status": "completed"
    },
    "tags": []
   },
   "outputs": [
    {
     "name": "stdout",
     "output_type": "stream",
     "text": [
      "                                   states    Cases  Deaths   PCases  PDeaths  Cases (+)  Deaths (+)  Fatality Rate\n",
      "                              Maharashtra  2052905   51415  2052905    51415          0           0           2.50\n",
      "                                   Kerala   988656    3937   988656     3937          0           0           0.40\n",
      "                                Karnataka   944057   12251   944057    12251          0           0           1.30\n",
      "                           Andhra Pradesh   888692    7161   888692     7161          0           0           0.81\n",
      "                               Tamil Nadu   843690   12402   843690    12402          0           0           1.47\n",
      "                                    Delhi   636670   10889   636529    10886        141           3           1.71\n",
      "                            Uttar Pradesh   601898    8696   601898     8696          0           0           1.44\n",
      "                              West Bengal   572032   10225   572032    10225          0           0           1.79\n",
      "                                   Odisha   336042    1963   335984     1963         58           0           0.58\n",
      "                                Rajasthan   318602    2779   318602     2779          0           0           0.87\n",
      "                             Chhattisgarh   308472    3759   308472     3759          0           0           1.22\n",
      "                                Telangana   296277    1614   296134     1613        143           1           0.54\n",
      "                                  Haryana   268783    3034   268783     3034          0           0           1.13\n",
      "                                  Gujarat   264450    4399   264450     4399          0           0           1.66\n",
      "                                    Bihar   261568    1521   261568     1521          0           0           0.58\n",
      "                           Madhya Pradesh   257068    3828   257068     3828          0           0           1.49\n",
      "                                    Assam   217277    1086   217277     1086          0           0           0.50\n",
      "                                   Punjab   175558    5682   175558     5682          0           0           3.24\n",
      "                        Jammu and Kashmir   125117    1947   125117     1947          0           0           1.56\n",
      "                                Jharkhand   119206    1081   119206     1081          0           0           0.91\n",
      "                              Uttarakhand    96673    1676    96673     1676          0           0           1.73\n",
      "                         Himachal Pradesh    58112     977    58112      977          0           0           1.68\n",
      "                                      Goa    54152     777    54113      776         39           1           1.43\n",
      "                               Puducherry    39397     656    39397      656          0           0           1.67\n",
      "                                  Tripura    33350     388    33350      388          0           0           1.16\n",
      "                                  Manipur    29155     373    29155      373          0           0           1.28\n",
      "                               Chandigarh    21158     343    21158      343          0           0           1.62\n",
      "                        Arunachal Pradesh    16832      56    16832       56          0           0           0.33\n",
      "                                Meghalaya    13931     148    13931      148          0           0           1.06\n",
      "                                 Nagaland    12175      88    12175       88          0           0           0.72\n",
      "                                   Ladakh     9762     130     9762      130          0           0           1.33\n",
      "                                   Sikkim     6113     135     6113      135          0           0           2.21\n",
      "              Andaman and Nicobar Islands     5007      62     5007       62          0           0           1.24\n",
      "                                  Mizoram     4390       9     4390        9          0           0           0.21\n",
      " Dadra and Nagar Haveli and Daman and Diu     3380       2     3380        2          0           0           0.06\n",
      "                              Lakshadweep      187       0      187        0          0           0           0.00\n"
     ]
    }
   ],
   "source": [
    "#hide_input\n",
    "print(df_table.to_string(index=False))"
   ]
  },
  {
   "cell_type": "code",
   "execution_count": null,
   "id": "quantitative-legend",
   "metadata": {
    "papermill": {
     "duration": 0.025545,
     "end_time": "2021-02-12T14:25:18.425807",
     "exception": false,
     "start_time": "2021-02-12T14:25:18.400262",
     "status": "completed"
    },
    "tags": []
   },
   "outputs": [],
   "source": []
  },
  {
   "cell_type": "code",
   "execution_count": null,
   "id": "distant-acoustic",
   "metadata": {
    "papermill": {
     "duration": 0.023827,
     "end_time": "2021-02-12T14:25:18.475777",
     "exception": false,
     "start_time": "2021-02-12T14:25:18.451950",
     "status": "completed"
    },
    "tags": []
   },
   "outputs": [],
   "source": []
  }
 ],
 "metadata": {
  "kernelspec": {
   "display_name": "Python 3",
   "language": "python",
   "name": "python3"
  },
  "language_info": {
   "codemirror_mode": {
    "name": "ipython",
    "version": 3
   },
   "file_extension": ".py",
   "mimetype": "text/x-python",
   "name": "python",
   "nbconvert_exporter": "python",
   "pygments_lexer": "ipython3",
   "version": "3.6.12"
  },
  "papermill": {
   "duration": 23.211091,
   "end_time": "2021-02-12T14:25:19.109785",
   "environment_variables": {},
   "exception": null,
   "input_path": "latest.ipynb",
   "output_path": "latest.ipynb",
   "parameters": {},
   "start_time": "2021-02-12T14:24:55.898694",
   "version": "2.1.2"
  }
 },
 "nbformat": 4,
 "nbformat_minor": 5
}