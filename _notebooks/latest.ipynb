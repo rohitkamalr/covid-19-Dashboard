{
 "cells": [
  {
   "cell_type": "markdown",
   "metadata": {
    "papermill": {
     "duration": 0.018297,
     "end_time": "2020-09-26T08:52:00.141666",
     "exception": false,
     "start_time": "2020-09-26T08:52:00.123369",
     "status": "completed"
    },
    "tags": []
   },
   "source": [
    "# Latest COVID-19 India Matplotlib Overview"
   ]
  },
  {
   "cell_type": "code",
   "execution_count": 1,
   "metadata": {
    "execution": {
     "iopub.execute_input": "2020-09-26T08:52:00.179350Z",
     "iopub.status.busy": "2020-09-26T08:52:00.178482Z",
     "iopub.status.idle": "2020-09-26T08:52:00.751103Z",
     "shell.execute_reply": "2020-09-26T08:52:00.750099Z"
    },
    "papermill": {
     "duration": 0.593811,
     "end_time": "2020-09-26T08:52:00.751271",
     "exception": false,
     "start_time": "2020-09-26T08:52:00.157460",
     "status": "completed"
    },
    "tags": []
   },
   "outputs": [],
   "source": [
    "#hide\n",
    "import pandas as pd\n",
    "import numpy as np\n",
    "import requests\n",
    "import json\n",
    "import matplotlib.pyplot as plt\n",
    "import matplotlib.dates as mdates\n",
    "import matplotlib as mpl\n",
    "from IPython.core.display import display,HTML\n",
    "%matplotlib inline\n",
    "from datetime import date"
   ]
  },
  {
   "cell_type": "code",
   "execution_count": 2,
   "metadata": {
    "execution": {
     "iopub.execute_input": "2020-09-26T08:52:00.788004Z",
     "iopub.status.busy": "2020-09-26T08:52:00.787412Z",
     "iopub.status.idle": "2020-09-26T08:52:01.073355Z",
     "shell.execute_reply": "2020-09-26T08:52:01.072265Z"
    },
    "papermill": {
     "duration": 0.308432,
     "end_time": "2020-09-26T08:52:01.074743",
     "exception": false,
     "start_time": "2020-09-26T08:52:00.766311",
     "status": "completed"
    },
    "tags": []
   },
   "outputs": [],
   "source": [
    "#hide\n",
    "df  = pd.read_csv('https://api.covid19india.org/csv/latest/states.csv')\n",
    "df = df[['Date','State','Confirmed','Deceased']]\n",
    "df = df.rename(columns={'Confirmed':'Cases', \"Deceased\":'Deaths'})\n",
    "df_cases = df[[\"Date\",'State','Cases']]\n",
    "df_deaths = df[['Date','State','Deaths']]\n",
    "df_cases1 = df_cases.groupby('Date')\n",
    "df_deaths1= df_deaths.groupby('Date')"
   ]
  },
  {
   "cell_type": "code",
   "execution_count": 3,
   "metadata": {
    "execution": {
     "iopub.execute_input": "2020-09-26T08:52:01.113049Z",
     "iopub.status.busy": "2020-09-26T08:52:01.112452Z",
     "iopub.status.idle": "2020-09-26T08:52:01.131545Z",
     "shell.execute_reply": "2020-09-26T08:52:01.130564Z"
    },
    "papermill": {
     "duration": 0.040411,
     "end_time": "2020-09-26T08:52:01.131675",
     "exception": false,
     "start_time": "2020-09-26T08:52:01.091264",
     "status": "completed"
    },
    "tags": []
   },
   "outputs": [],
   "source": [
    "#hide\n",
    "df_snap = pd.read_csv('data/SnapshotCases-28-July.csv')\n",
    "arr_states = df_snap['states'].unique()\n",
    "arr_dates = df['Date'].unique()\n",
    "df_snap = df_snap.set_index('states')"
   ]
  },
  {
   "cell_type": "code",
   "execution_count": 4,
   "metadata": {
    "execution": {
     "iopub.execute_input": "2020-09-26T08:52:01.169930Z",
     "iopub.status.busy": "2020-09-26T08:52:01.169316Z",
     "iopub.status.idle": "2020-09-26T08:52:01.172328Z",
     "shell.execute_reply": "2020-09-26T08:52:01.171825Z"
    },
    "papermill": {
     "duration": 0.024818,
     "end_time": "2020-09-26T08:52:01.172451",
     "exception": false,
     "start_time": "2020-09-26T08:52:01.147633",
     "status": "completed"
    },
    "tags": []
   },
   "outputs": [
    {
     "data": {
      "text/plain": [
       "array(['Andaman and Nicobar Islands', 'Andhra Pradesh',\n",
       "       'Arunachal Pradesh', 'Assam', 'Bihar', 'Chandigarh',\n",
       "       'Dadra and Nagar Haveli and Daman and Diu', 'Delhi', 'Goa',\n",
       "       'Gujarat', 'Haryana', 'Himachal Pradesh', 'Jammu and Kashmir',\n",
       "       'Jharkhand', 'Karnataka', 'Kerala', 'Lakshadweep',\n",
       "       'Madhya Pradesh', 'Maharashtra', 'Manipur', 'Meghalaya', 'Mizoram',\n",
       "       'Nagaland', 'Odisha', 'Puducherry', 'Punjab', 'Rajasthan',\n",
       "       'Sikkim', 'Tamil Nadu', 'Telangana', 'Tripura', 'Uttar Pradesh',\n",
       "       'West Bengal', 'Chhattisgarh', 'Ladakh', 'Uttarakhand'],\n",
       "      dtype=object)"
      ]
     },
     "execution_count": 4,
     "metadata": {},
     "output_type": "execute_result"
    }
   ],
   "source": [
    "#hide\n",
    "arr_states[-9] = 'Puducherry'\n",
    "arr_states[-10] = 'Odisha'\n",
    "arr_states[6] = 'Dadra and Nagar Haveli and Daman and Diu'\n",
    "arr_states = np.append(arr_states,np.array(['Chhattisgarh','Ladakh','Uttarakhand']))\n",
    "arr_states"
   ]
  },
  {
   "cell_type": "code",
   "execution_count": 5,
   "metadata": {
    "execution": {
     "iopub.execute_input": "2020-09-26T08:52:01.211831Z",
     "iopub.status.busy": "2020-09-26T08:52:01.209698Z",
     "iopub.status.idle": "2020-09-26T08:52:01.220616Z",
     "shell.execute_reply": "2020-09-26T08:52:01.219727Z"
    },
    "papermill": {
     "duration": 0.033448,
     "end_time": "2020-09-26T08:52:01.220734",
     "exception": false,
     "start_time": "2020-09-26T08:52:01.187286",
     "status": "completed"
    },
    "tags": []
   },
   "outputs": [],
   "source": [
    "#hide\n",
    "dates = []\n",
    "for i in arr_dates:\n",
    "    if i>='2020-07-01':\n",
    "        dates.append(i)\n",
    "dict = {'states':dates}\n",
    "for i in arr_states:\n",
    "    dict[i] = [0]*len(dates)\n",
    "dft_cases = pd.DataFrame(dict)\n",
    "dft_deaths = pd.DataFrame(dict)\n"
   ]
  },
  {
   "cell_type": "code",
   "execution_count": 6,
   "metadata": {
    "execution": {
     "iopub.execute_input": "2020-09-26T08:52:01.260329Z",
     "iopub.status.busy": "2020-09-26T08:52:01.259739Z",
     "iopub.status.idle": "2020-09-26T08:52:02.413247Z",
     "shell.execute_reply": "2020-09-26T08:52:02.412151Z"
    },
    "papermill": {
     "duration": 1.175498,
     "end_time": "2020-09-26T08:52:02.413397",
     "exception": false,
     "start_time": "2020-09-26T08:52:01.237899",
     "status": "completed"
    },
    "tags": []
   },
   "outputs": [],
   "source": [
    "#hide\n",
    "for i in range(len(dates)):\n",
    "    df1_deaths = df_deaths1.get_group(dates[i])\n",
    "    for j in range(len(df1_deaths.index)):\n",
    "        if df1_deaths.iloc[j,1] in arr_states:\n",
    "            dft_deaths.loc[i,df1_deaths.iloc[j,1]] = df1_deaths.iloc[j,2]\n",
    "dft_deaths = dft_deaths.set_index('states')"
   ]
  },
  {
   "cell_type": "code",
   "execution_count": 7,
   "metadata": {
    "execution": {
     "iopub.execute_input": "2020-09-26T08:52:02.448289Z",
     "iopub.status.busy": "2020-09-26T08:52:02.447678Z",
     "iopub.status.idle": "2020-09-26T08:52:03.614668Z",
     "shell.execute_reply": "2020-09-26T08:52:03.613869Z"
    },
    "papermill": {
     "duration": 1.186994,
     "end_time": "2020-09-26T08:52:03.614842",
     "exception": false,
     "start_time": "2020-09-26T08:52:02.427848",
     "status": "completed"
    },
    "tags": []
   },
   "outputs": [],
   "source": [
    "#hide\n",
    "for i in range(len(dates)):\n",
    "    df1_cases = df_cases1.get_group(dates[i])\n",
    "    for j in range(len(df1_cases.index)):\n",
    "        if df1_cases.iloc[j,1] in arr_states:\n",
    "            dft_cases.loc[i,df1_cases.iloc[j,1]] = df1_cases.iloc[j,2]\n",
    "dft_cases = dft_cases.set_index('states')"
   ]
  },
  {
   "cell_type": "code",
   "execution_count": 8,
   "metadata": {
    "execution": {
     "iopub.execute_input": "2020-09-26T08:52:03.656193Z",
     "iopub.status.busy": "2020-09-26T08:52:03.655592Z",
     "iopub.status.idle": "2020-09-26T08:52:03.661113Z",
     "shell.execute_reply": "2020-09-26T08:52:03.660603Z"
    },
    "papermill": {
     "duration": 0.030497,
     "end_time": "2020-09-26T08:52:03.661241",
     "exception": false,
     "start_time": "2020-09-26T08:52:03.630744",
     "status": "completed"
    },
    "tags": []
   },
   "outputs": [],
   "source": [
    "#hide\n",
    "dft_cases = dft_cases.T\n",
    "dft_deaths = dft_deaths.T\n",
    "dt_today = dates[-1]\n",
    "dt_yday = dates[-2]"
   ]
  },
  {
   "cell_type": "code",
   "execution_count": 9,
   "metadata": {
    "execution": {
     "iopub.execute_input": "2020-09-26T08:52:03.700638Z",
     "iopub.status.busy": "2020-09-26T08:52:03.697858Z",
     "iopub.status.idle": "2020-09-26T08:52:03.702428Z",
     "shell.execute_reply": "2020-09-26T08:52:03.702901Z"
    },
    "papermill": {
     "duration": 0.026548,
     "end_time": "2020-09-26T08:52:03.703046",
     "exception": false,
     "start_time": "2020-09-26T08:52:03.676498",
     "status": "completed"
    },
    "tags": []
   },
   "outputs": [],
   "source": [
    "#hide\n",
    "dft_cases = dft_cases.reset_index()\n",
    "dft_deaths = dft_deaths.reset_index()\n",
    "dft_cases = dft_cases.rename(columns = {'index':'state'})\n",
    "dft_deaths = dft_deaths.rename(columns = {'index':'state'})"
   ]
  },
  {
   "cell_type": "code",
   "execution_count": 10,
   "metadata": {
    "execution": {
     "iopub.execute_input": "2020-09-26T08:52:03.746293Z",
     "iopub.status.busy": "2020-09-26T08:52:03.745522Z",
     "iopub.status.idle": "2020-09-26T08:52:03.749274Z",
     "shell.execute_reply": "2020-09-26T08:52:03.748674Z"
    },
    "papermill": {
     "duration": 0.030976,
     "end_time": "2020-09-26T08:52:03.749403",
     "exception": false,
     "start_time": "2020-09-26T08:52:03.718427",
     "status": "completed"
    },
    "tags": []
   },
   "outputs": [],
   "source": [
    "#hide\n",
    "dfc_cases = dft_cases.groupby('state')[dt_today].sum()\n",
    "dfc_deaths = dft_deaths.groupby('state')[dt_today].sum()\n",
    "dfp_cases = dft_cases.groupby('state')[dt_yday].sum()\n",
    "dfp_deaths = dft_deaths.groupby('state')[dt_yday].sum()"
   ]
  },
  {
   "cell_type": "code",
   "execution_count": 11,
   "metadata": {
    "execution": {
     "iopub.execute_input": "2020-09-26T08:52:03.797771Z",
     "iopub.status.busy": "2020-09-26T08:52:03.797135Z",
     "iopub.status.idle": "2020-09-26T08:52:03.805536Z",
     "shell.execute_reply": "2020-09-26T08:52:03.806043Z"
    },
    "papermill": {
     "duration": 0.039841,
     "end_time": "2020-09-26T08:52:03.806197",
     "exception": false,
     "start_time": "2020-09-26T08:52:03.766356",
     "status": "completed"
    },
    "tags": []
   },
   "outputs": [
    {
     "data": {
      "text/html": [
       "<div>\n",
       "<style scoped>\n",
       "    .dataframe tbody tr th:only-of-type {\n",
       "        vertical-align: middle;\n",
       "    }\n",
       "\n",
       "    .dataframe tbody tr th {\n",
       "        vertical-align: top;\n",
       "    }\n",
       "\n",
       "    .dataframe thead th {\n",
       "        text-align: right;\n",
       "    }\n",
       "</style>\n",
       "<table border=\"1\" class=\"dataframe\">\n",
       "  <thead>\n",
       "    <tr style=\"text-align: right;\">\n",
       "      <th></th>\n",
       "      <th>states</th>\n",
       "      <th>Cases</th>\n",
       "      <th>Deaths</th>\n",
       "      <th>PCases</th>\n",
       "      <th>PDeaths</th>\n",
       "    </tr>\n",
       "  </thead>\n",
       "  <tbody>\n",
       "    <tr>\n",
       "      <th>0</th>\n",
       "      <td>Maharashtra</td>\n",
       "      <td>1300757</td>\n",
       "      <td>34761</td>\n",
       "      <td>1300757</td>\n",
       "      <td>34761</td>\n",
       "    </tr>\n",
       "    <tr>\n",
       "      <th>1</th>\n",
       "      <td>Andhra Pradesh</td>\n",
       "      <td>661458</td>\n",
       "      <td>5606</td>\n",
       "      <td>661458</td>\n",
       "      <td>5606</td>\n",
       "    </tr>\n",
       "    <tr>\n",
       "      <th>2</th>\n",
       "      <td>Tamil Nadu</td>\n",
       "      <td>569370</td>\n",
       "      <td>9148</td>\n",
       "      <td>569370</td>\n",
       "      <td>9148</td>\n",
       "    </tr>\n",
       "    <tr>\n",
       "      <th>3</th>\n",
       "      <td>Karnataka</td>\n",
       "      <td>557212</td>\n",
       "      <td>8417</td>\n",
       "      <td>557212</td>\n",
       "      <td>8417</td>\n",
       "    </tr>\n",
       "    <tr>\n",
       "      <th>4</th>\n",
       "      <td>Uttar Pradesh</td>\n",
       "      <td>378533</td>\n",
       "      <td>5450</td>\n",
       "      <td>378533</td>\n",
       "      <td>5450</td>\n",
       "    </tr>\n",
       "  </tbody>\n",
       "</table>\n",
       "</div>"
      ],
      "text/plain": [
       "           states    Cases  Deaths   PCases  PDeaths\n",
       "0     Maharashtra  1300757   34761  1300757    34761\n",
       "1  Andhra Pradesh   661458    5606   661458     5606\n",
       "2      Tamil Nadu   569370    9148   569370     9148\n",
       "3       Karnataka   557212    8417   557212     8417\n",
       "4   Uttar Pradesh   378533    5450   378533     5450"
      ]
     },
     "execution_count": 11,
     "metadata": {},
     "output_type": "execute_result"
    }
   ],
   "source": [
    "#hide\n",
    "df_table = pd.DataFrame({'states': dfc_cases.index, 'Cases': dfc_cases.values, 'Deaths': dfc_deaths.values, 'PCases': dfp_cases.values, 'PDeaths': dfp_deaths.values}).set_index('states')\n",
    "df_table = df_table.sort_values(by = ['Cases','Deaths'], ascending = [False, False])\n",
    "df_table = df_table.reset_index()\n",
    "df_table.head()"
   ]
  },
  {
   "cell_type": "code",
   "execution_count": 12,
   "metadata": {
    "execution": {
     "iopub.execute_input": "2020-09-26T08:52:03.845768Z",
     "iopub.status.busy": "2020-09-26T08:52:03.845057Z",
     "iopub.status.idle": "2020-09-26T08:52:03.855117Z",
     "shell.execute_reply": "2020-09-26T08:52:03.855625Z"
    },
    "papermill": {
     "duration": 0.033215,
     "end_time": "2020-09-26T08:52:03.855771",
     "exception": false,
     "start_time": "2020-09-26T08:52:03.822556",
     "status": "completed"
    },
    "tags": []
   },
   "outputs": [],
   "source": [
    "#hide\n",
    "for c in 'Cases, Deaths'.split(', '):\n",
    "    df_table[f'{c} (+)'] = (df_table[c] - df_table[f'P{c}']).clip(0)\n",
    "df_table['Fatality Rate'] = (100* df_table['Deaths']/ df_table['Cases']).round(2)"
   ]
  },
  {
   "cell_type": "code",
   "execution_count": 13,
   "metadata": {
    "execution": {
     "iopub.execute_input": "2020-09-26T08:52:03.897928Z",
     "iopub.status.busy": "2020-09-26T08:52:03.897325Z",
     "iopub.status.idle": "2020-09-26T08:52:03.900618Z",
     "shell.execute_reply": "2020-09-26T08:52:03.900114Z"
    },
    "papermill": {
     "duration": 0.02901,
     "end_time": "2020-09-26T08:52:03.900741",
     "exception": false,
     "start_time": "2020-09-26T08:52:03.871731",
     "status": "completed"
    },
    "tags": []
   },
   "outputs": [
    {
     "data": {
      "text/html": [
       "<div>\n",
       "<style scoped>\n",
       "    .dataframe tbody tr th:only-of-type {\n",
       "        vertical-align: middle;\n",
       "    }\n",
       "\n",
       "    .dataframe tbody tr th {\n",
       "        vertical-align: top;\n",
       "    }\n",
       "\n",
       "    .dataframe thead th {\n",
       "        text-align: right;\n",
       "    }\n",
       "</style>\n",
       "<table border=\"1\" class=\"dataframe\">\n",
       "  <thead>\n",
       "    <tr style=\"text-align: right;\">\n",
       "      <th></th>\n",
       "      <th>states</th>\n",
       "      <th>Cases</th>\n",
       "      <th>Deaths</th>\n",
       "      <th>PCases</th>\n",
       "      <th>PDeaths</th>\n",
       "      <th>Cases (+)</th>\n",
       "      <th>Deaths (+)</th>\n",
       "      <th>Fatality Rate</th>\n",
       "    </tr>\n",
       "  </thead>\n",
       "  <tbody>\n",
       "    <tr>\n",
       "      <th>0</th>\n",
       "      <td>Maharashtra</td>\n",
       "      <td>1300757</td>\n",
       "      <td>34761</td>\n",
       "      <td>1300757</td>\n",
       "      <td>34761</td>\n",
       "      <td>0</td>\n",
       "      <td>0</td>\n",
       "      <td>2.67</td>\n",
       "    </tr>\n",
       "    <tr>\n",
       "      <th>1</th>\n",
       "      <td>Andhra Pradesh</td>\n",
       "      <td>661458</td>\n",
       "      <td>5606</td>\n",
       "      <td>661458</td>\n",
       "      <td>5606</td>\n",
       "      <td>0</td>\n",
       "      <td>0</td>\n",
       "      <td>0.85</td>\n",
       "    </tr>\n",
       "    <tr>\n",
       "      <th>2</th>\n",
       "      <td>Tamil Nadu</td>\n",
       "      <td>569370</td>\n",
       "      <td>9148</td>\n",
       "      <td>569370</td>\n",
       "      <td>9148</td>\n",
       "      <td>0</td>\n",
       "      <td>0</td>\n",
       "      <td>1.61</td>\n",
       "    </tr>\n",
       "    <tr>\n",
       "      <th>3</th>\n",
       "      <td>Karnataka</td>\n",
       "      <td>557212</td>\n",
       "      <td>8417</td>\n",
       "      <td>557212</td>\n",
       "      <td>8417</td>\n",
       "      <td>0</td>\n",
       "      <td>0</td>\n",
       "      <td>1.51</td>\n",
       "    </tr>\n",
       "    <tr>\n",
       "      <th>4</th>\n",
       "      <td>Uttar Pradesh</td>\n",
       "      <td>378533</td>\n",
       "      <td>5450</td>\n",
       "      <td>378533</td>\n",
       "      <td>5450</td>\n",
       "      <td>0</td>\n",
       "      <td>0</td>\n",
       "      <td>1.44</td>\n",
       "    </tr>\n",
       "  </tbody>\n",
       "</table>\n",
       "</div>"
      ],
      "text/plain": [
       "           states    Cases  Deaths   PCases  PDeaths  Cases (+)  Deaths (+)  \\\n",
       "0     Maharashtra  1300757   34761  1300757    34761          0           0   \n",
       "1  Andhra Pradesh   661458    5606   661458     5606          0           0   \n",
       "2      Tamil Nadu   569370    9148   569370     9148          0           0   \n",
       "3       Karnataka   557212    8417   557212     8417          0           0   \n",
       "4   Uttar Pradesh   378533    5450   378533     5450          0           0   \n",
       "\n",
       "   Fatality Rate  \n",
       "0           2.67  \n",
       "1           0.85  \n",
       "2           1.61  \n",
       "3           1.51  \n",
       "4           1.44  "
      ]
     },
     "execution_count": 13,
     "metadata": {},
     "output_type": "execute_result"
    }
   ],
   "source": [
    "#hide\n",
    "df_table.head()"
   ]
  },
  {
   "cell_type": "code",
   "execution_count": 14,
   "metadata": {
    "execution": {
     "iopub.execute_input": "2020-09-26T08:52:03.940800Z",
     "iopub.status.busy": "2020-09-26T08:52:03.940205Z",
     "iopub.status.idle": "2020-09-26T08:52:03.955668Z",
     "shell.execute_reply": "2020-09-26T08:52:03.956134Z"
    },
    "papermill": {
     "duration": 0.039546,
     "end_time": "2020-09-26T08:52:03.956272",
     "exception": false,
     "start_time": "2020-09-26T08:52:03.916726",
     "status": "completed"
    },
    "tags": []
   },
   "outputs": [
    {
     "data": {
      "text/plain": [
       "{'updated': '2020-09-26',\n",
       " 'since': '2020-09-25',\n",
       " 'Cases': 5908748,\n",
       " 'PCases': 5901826,\n",
       " 'Deaths': 93440,\n",
       " 'PDeaths': 93410,\n",
       " 'Cases (+)': 6922,\n",
       " 'Deaths (+)': 30}"
      ]
     },
     "execution_count": 14,
     "metadata": {},
     "output_type": "execute_result"
    }
   ],
   "source": [
    "#hide\n",
    "summary = {'updated':dates[-1], 'since':dates[-2]}\n",
    "list_names = ['Cases', 'PCases', 'Deaths', 'PDeaths', 'Cases (+)', 'Deaths (+)']\n",
    "for name in list_names:\n",
    "    summary[name] = df_table.sum()[name]\n",
    "summary"
   ]
  },
  {
   "cell_type": "code",
   "execution_count": 15,
   "metadata": {
    "execution": {
     "iopub.execute_input": "2020-09-26T08:52:03.993301Z",
     "iopub.status.busy": "2020-09-26T08:52:03.992718Z",
     "iopub.status.idle": "2020-09-26T08:52:03.995234Z",
     "shell.execute_reply": "2020-09-26T08:52:03.994741Z"
    },
    "papermill": {
     "duration": 0.022488,
     "end_time": "2020-09-26T08:52:03.995355",
     "exception": false,
     "start_time": "2020-09-26T08:52:03.972867",
     "status": "completed"
    },
    "tags": []
   },
   "outputs": [],
   "source": [
    "#hide\n",
    "overview = '''\n",
    "<!-- #######  HTML!! #########-->\n",
    "<h1 style=\"color: #5e9ca0; text-align: center;\">India</h1>\n",
    "<p style=\"text-align: center;\">Last update: <strong>{update}</strong></p>\n",
    "<p style=\"text-align: center;\">Confirmed cases:</p>\n",
    "<p style=\"text-align: center;font-size:24px;\">{cases} (<span style=\"color: #ff0000;\">+{new}</span>)</p>\n",
    "<p style=\"text-align: center;\">Confirmed deaths:</p>\n",
    "<p style=\"text-align: center;font-size:24px;\">{deaths} (<span style=\"color: #ff0000;\">+{dnew}</span>)</p>\n",
    "'''"
   ]
  },
  {
   "cell_type": "code",
   "execution_count": 16,
   "metadata": {
    "execution": {
     "iopub.execute_input": "2020-09-26T08:52:04.034153Z",
     "iopub.status.busy": "2020-09-26T08:52:04.033590Z",
     "iopub.status.idle": "2020-09-26T08:52:04.037032Z",
     "shell.execute_reply": "2020-09-26T08:52:04.037485Z"
    },
    "papermill": {
     "duration": 0.026118,
     "end_time": "2020-09-26T08:52:04.037644",
     "exception": false,
     "start_time": "2020-09-26T08:52:04.011526",
     "status": "completed"
    },
    "tags": []
   },
   "outputs": [
    {
     "data": {
      "text/html": [
       "\n",
       "<!-- #######  HTML!! #########-->\n",
       "<h1 style=\"color: #5e9ca0; text-align: center;\">India</h1>\n",
       "<p style=\"text-align: center;\">Last update: <strong>2020-09-26</strong></p>\n",
       "<p style=\"text-align: center;\">Confirmed cases:</p>\n",
       "<p style=\"text-align: center;font-size:24px;\">5908748 (<span style=\"color: #ff0000;\">+6922</span>)</p>\n",
       "<p style=\"text-align: center;\">Confirmed deaths:</p>\n",
       "<p style=\"text-align: center;font-size:24px;\">93440 (<span style=\"color: #ff0000;\">+30</span>)</p>\n"
      ],
      "text/plain": [
       "<IPython.core.display.HTML object>"
      ]
     },
     "metadata": {},
     "output_type": "display_data"
    }
   ],
   "source": [
    "#hide_input\n",
    "update = summary['updated']\n",
    "cases = summary['Cases']\n",
    "new = summary['Cases (+)']\n",
    "deaths = summary['Deaths']\n",
    "dnew = summary['Deaths (+)']\n",
    "\n",
    "html = HTML(overview.format(update=update, cases=cases,new=new,deaths=deaths,dnew=dnew))\n",
    "\n",
    "display(html)"
   ]
  },
  {
   "cell_type": "code",
   "execution_count": 17,
   "metadata": {
    "execution": {
     "iopub.execute_input": "2020-09-26T08:52:04.077690Z",
     "iopub.status.busy": "2020-09-26T08:52:04.077102Z",
     "iopub.status.idle": "2020-09-26T08:52:04.082710Z",
     "shell.execute_reply": "2020-09-26T08:52:04.082209Z"
    },
    "papermill": {
     "duration": 0.028789,
     "end_time": "2020-09-26T08:52:04.082831",
     "exception": false,
     "start_time": "2020-09-26T08:52:04.054042",
     "status": "completed"
    },
    "tags": []
   },
   "outputs": [],
   "source": [
    "#hide\n",
    "dt_cols = list(dft_cases.columns[1:])\n",
    "dft_ct_new_cases = dft_cases.groupby('state')[dt_cols].sum().diff(axis=1).fillna(0).astype(int)\n",
    "dft_ct_new_cases.sort_values(by = dates[-1], ascending = False,inplace = True)"
   ]
  },
  {
   "cell_type": "code",
   "execution_count": 18,
   "metadata": {
    "execution": {
     "iopub.execute_input": "2020-09-26T08:52:04.134546Z",
     "iopub.status.busy": "2020-09-26T08:52:04.133974Z",
     "iopub.status.idle": "2020-09-26T08:52:04.136624Z",
     "shell.execute_reply": "2020-09-26T08:52:04.137099Z"
    },
    "papermill": {
     "duration": 0.037536,
     "end_time": "2020-09-26T08:52:04.137240",
     "exception": false,
     "start_time": "2020-09-26T08:52:04.099704",
     "status": "completed"
    },
    "tags": []
   },
   "outputs": [
    {
     "data": {
      "text/html": [
       "<div>\n",
       "<style scoped>\n",
       "    .dataframe tbody tr th:only-of-type {\n",
       "        vertical-align: middle;\n",
       "    }\n",
       "\n",
       "    .dataframe tbody tr th {\n",
       "        vertical-align: top;\n",
       "    }\n",
       "\n",
       "    .dataframe thead th {\n",
       "        text-align: right;\n",
       "    }\n",
       "</style>\n",
       "<table border=\"1\" class=\"dataframe\">\n",
       "  <thead>\n",
       "    <tr style=\"text-align: right;\">\n",
       "      <th>states</th>\n",
       "      <th>2020-07-01</th>\n",
       "      <th>2020-07-02</th>\n",
       "      <th>2020-07-03</th>\n",
       "      <th>2020-07-04</th>\n",
       "      <th>2020-07-05</th>\n",
       "      <th>2020-07-06</th>\n",
       "      <th>2020-07-07</th>\n",
       "      <th>2020-07-08</th>\n",
       "      <th>2020-07-09</th>\n",
       "      <th>2020-07-10</th>\n",
       "      <th>...</th>\n",
       "      <th>2020-09-17</th>\n",
       "      <th>2020-09-18</th>\n",
       "      <th>2020-09-19</th>\n",
       "      <th>2020-09-20</th>\n",
       "      <th>2020-09-21</th>\n",
       "      <th>2020-09-22</th>\n",
       "      <th>2020-09-23</th>\n",
       "      <th>2020-09-24</th>\n",
       "      <th>2020-09-25</th>\n",
       "      <th>2020-09-26</th>\n",
       "    </tr>\n",
       "    <tr>\n",
       "      <th>state</th>\n",
       "      <th></th>\n",
       "      <th></th>\n",
       "      <th></th>\n",
       "      <th></th>\n",
       "      <th></th>\n",
       "      <th></th>\n",
       "      <th></th>\n",
       "      <th></th>\n",
       "      <th></th>\n",
       "      <th></th>\n",
       "      <th></th>\n",
       "      <th></th>\n",
       "      <th></th>\n",
       "      <th></th>\n",
       "      <th></th>\n",
       "      <th></th>\n",
       "      <th></th>\n",
       "      <th></th>\n",
       "      <th></th>\n",
       "      <th></th>\n",
       "      <th></th>\n",
       "    </tr>\n",
       "  </thead>\n",
       "  <tbody>\n",
       "    <tr>\n",
       "      <th>Odisha</th>\n",
       "      <td>0</td>\n",
       "      <td>229</td>\n",
       "      <td>561</td>\n",
       "      <td>495</td>\n",
       "      <td>469</td>\n",
       "      <td>456</td>\n",
       "      <td>571</td>\n",
       "      <td>527</td>\n",
       "      <td>577</td>\n",
       "      <td>755</td>\n",
       "      <td>...</td>\n",
       "      <td>4241</td>\n",
       "      <td>4180</td>\n",
       "      <td>4209</td>\n",
       "      <td>4330</td>\n",
       "      <td>4242</td>\n",
       "      <td>4189</td>\n",
       "      <td>4237</td>\n",
       "      <td>4340</td>\n",
       "      <td>4208</td>\n",
       "      <td>4356</td>\n",
       "    </tr>\n",
       "    <tr>\n",
       "      <th>Telangana</th>\n",
       "      <td>0</td>\n",
       "      <td>1213</td>\n",
       "      <td>1892</td>\n",
       "      <td>1850</td>\n",
       "      <td>1590</td>\n",
       "      <td>1831</td>\n",
       "      <td>1879</td>\n",
       "      <td>1924</td>\n",
       "      <td>1410</td>\n",
       "      <td>1278</td>\n",
       "      <td>...</td>\n",
       "      <td>2159</td>\n",
       "      <td>2043</td>\n",
       "      <td>2123</td>\n",
       "      <td>2137</td>\n",
       "      <td>1302</td>\n",
       "      <td>2166</td>\n",
       "      <td>2296</td>\n",
       "      <td>2176</td>\n",
       "      <td>2381</td>\n",
       "      <td>2239</td>\n",
       "    </tr>\n",
       "    <tr>\n",
       "      <th>Tripura</th>\n",
       "      <td>0</td>\n",
       "      <td>39</td>\n",
       "      <td>93</td>\n",
       "      <td>25</td>\n",
       "      <td>23</td>\n",
       "      <td>111</td>\n",
       "      <td>24</td>\n",
       "      <td>57</td>\n",
       "      <td>16</td>\n",
       "      <td>142</td>\n",
       "      <td>...</td>\n",
       "      <td>527</td>\n",
       "      <td>273</td>\n",
       "      <td>535</td>\n",
       "      <td>525</td>\n",
       "      <td>243</td>\n",
       "      <td>559</td>\n",
       "      <td>504</td>\n",
       "      <td>451</td>\n",
       "      <td>341</td>\n",
       "      <td>278</td>\n",
       "    </tr>\n",
       "    <tr>\n",
       "      <th>Mizoram</th>\n",
       "      <td>0</td>\n",
       "      <td>2</td>\n",
       "      <td>0</td>\n",
       "      <td>2</td>\n",
       "      <td>22</td>\n",
       "      <td>11</td>\n",
       "      <td>1</td>\n",
       "      <td>5</td>\n",
       "      <td>0</td>\n",
       "      <td>23</td>\n",
       "      <td>...</td>\n",
       "      <td>26</td>\n",
       "      <td>28</td>\n",
       "      <td>14</td>\n",
       "      <td>30</td>\n",
       "      <td>7</td>\n",
       "      <td>106</td>\n",
       "      <td>22</td>\n",
       "      <td>46</td>\n",
       "      <td>27</td>\n",
       "      <td>49</td>\n",
       "    </tr>\n",
       "    <tr>\n",
       "      <th>Andaman and Nicobar Islands</th>\n",
       "      <td>0</td>\n",
       "      <td>9</td>\n",
       "      <td>7</td>\n",
       "      <td>3</td>\n",
       "      <td>6</td>\n",
       "      <td>16</td>\n",
       "      <td>6</td>\n",
       "      <td>2</td>\n",
       "      <td>7</td>\n",
       "      <td>0</td>\n",
       "      <td>...</td>\n",
       "      <td>11</td>\n",
       "      <td>27</td>\n",
       "      <td>13</td>\n",
       "      <td>7</td>\n",
       "      <td>22</td>\n",
       "      <td>18</td>\n",
       "      <td>21</td>\n",
       "      <td>32</td>\n",
       "      <td>15</td>\n",
       "      <td>0</td>\n",
       "    </tr>\n",
       "  </tbody>\n",
       "</table>\n",
       "<p>5 rows × 88 columns</p>\n",
       "</div>"
      ],
      "text/plain": [
       "states                       2020-07-01  2020-07-02  2020-07-03  2020-07-04  \\\n",
       "state                                                                         \n",
       "Odisha                                0         229         561         495   \n",
       "Telangana                             0        1213        1892        1850   \n",
       "Tripura                               0          39          93          25   \n",
       "Mizoram                               0           2           0           2   \n",
       "Andaman and Nicobar Islands           0           9           7           3   \n",
       "\n",
       "states                       2020-07-05  2020-07-06  2020-07-07  2020-07-08  \\\n",
       "state                                                                         \n",
       "Odisha                              469         456         571         527   \n",
       "Telangana                          1590        1831        1879        1924   \n",
       "Tripura                              23         111          24          57   \n",
       "Mizoram                              22          11           1           5   \n",
       "Andaman and Nicobar Islands           6          16           6           2   \n",
       "\n",
       "states                       2020-07-09  2020-07-10  ...  2020-09-17  \\\n",
       "state                                                ...               \n",
       "Odisha                              577         755  ...        4241   \n",
       "Telangana                          1410        1278  ...        2159   \n",
       "Tripura                              16         142  ...         527   \n",
       "Mizoram                               0          23  ...          26   \n",
       "Andaman and Nicobar Islands           7           0  ...          11   \n",
       "\n",
       "states                       2020-09-18  2020-09-19  2020-09-20  2020-09-21  \\\n",
       "state                                                                         \n",
       "Odisha                             4180        4209        4330        4242   \n",
       "Telangana                          2043        2123        2137        1302   \n",
       "Tripura                             273         535         525         243   \n",
       "Mizoram                              28          14          30           7   \n",
       "Andaman and Nicobar Islands          27          13           7          22   \n",
       "\n",
       "states                       2020-09-22  2020-09-23  2020-09-24  2020-09-25  \\\n",
       "state                                                                         \n",
       "Odisha                             4189        4237        4340        4208   \n",
       "Telangana                          2166        2296        2176        2381   \n",
       "Tripura                             559         504         451         341   \n",
       "Mizoram                             106          22          46          27   \n",
       "Andaman and Nicobar Islands          18          21          32          15   \n",
       "\n",
       "states                       2020-09-26  \n",
       "state                                    \n",
       "Odisha                             4356  \n",
       "Telangana                          2239  \n",
       "Tripura                             278  \n",
       "Mizoram                              49  \n",
       "Andaman and Nicobar Islands           0  \n",
       "\n",
       "[5 rows x 88 columns]"
      ]
     },
     "execution_count": 18,
     "metadata": {},
     "output_type": "execute_result"
    }
   ],
   "source": [
    "#hide\n",
    "dft_ct_new_cases.head()"
   ]
  },
  {
   "cell_type": "code",
   "execution_count": 19,
   "metadata": {
    "execution": {
     "iopub.execute_input": "2020-09-26T08:52:04.175723Z",
     "iopub.status.busy": "2020-09-26T08:52:04.174110Z",
     "iopub.status.idle": "2020-09-26T08:52:07.614451Z",
     "shell.execute_reply": "2020-09-26T08:52:07.614926Z"
    },
    "papermill": {
     "duration": 3.46036,
     "end_time": "2020-09-26T08:52:07.615070",
     "exception": false,
     "start_time": "2020-09-26T08:52:04.154710",
     "status": "completed"
    },
    "tags": []
   },
   "outputs": [
    {
     "data": {
      "image/png": "[encoded data removed]",
      "text/plain": [
       "<Figure size 1296x2016 with 11 Axes>"
      ]
     },
     "metadata": {
      "needs_background": "light"
     },
     "output_type": "display_data"
    }
   ],
   "source": [
    "#hide_input\n",
    "df = dft_ct_new_cases.copy()\n",
    "df.loc['Total'] = df.sum()\n",
    "n = 5\n",
    "ax = []\n",
    "fig = plt.figure(figsize = (18,28))\n",
    "gs = fig.add_gridspec(n+2, 5)\n",
    "# gs = fig.add_gridspec(2, 3)\n",
    "ax1 = fig.add_subplot(gs[0, :])\n",
    "ef = df.loc['Total'].rename_axis('date').reset_index()\n",
    "ef['date'] = ef['date'].astype('datetime64[ns]')\n",
    "ax1.bar(ef.date,ef.Total,alpha=0.3,color='#007acc')\n",
    "ax1.plot(ef.date,ef.Total , marker=\"o\", color='#007acc')\n",
    "ax1.xaxis.set_major_locator(mdates.WeekdayLocator())\n",
    "ax1.xaxis.set_major_formatter(mdates.DateFormatter('%b %d'))\n",
    "ax1.text(0.02, 0.5,'India daily case count', transform = ax1.transAxes, fontsize=25);\n",
    "ax1.spines['right'].set_visible(False)\n",
    "ax1.spines['top'].set_visible(False)\n",
    "\n",
    "ax2 = fig.add_subplot(gs[1,0])\n",
    "ef = df.loc['Maharashtra'].rename_axis('date').reset_index()\n",
    "ef['date'] = ef['date'].astype('datetime64[ns]')\n",
    "\n",
    "ax2.bar(ef.date, ef.Maharashtra,color = '#007acc',alpha=0.5)\n",
    "ax2.xaxis.set_major_locator(mdates.WeekdayLocator())\n",
    "ax2.xaxis.set_major_formatter(mdates.DateFormatter('%b %d'))\n",
    "ax2.set_xticks(ax2.get_xticks()[::3])\n",
    "maxyval = ef.Maharashtra.max()\n",
    "ax2.set_ylim([0,maxyval])\n",
    "ax2.text(0.05, 0.9,'Maharashtra', transform = ax2.transAxes, fontsize=20);\n",
    "ax2.spines['right'].set_visible(False)\n",
    "ax2.spines['top'].set_visible(False)\n",
    "\n",
    "\n",
    "ax3 = fig.add_subplot(gs[1,1])\n",
    "ef = df.loc['Tamil Nadu'].rename_axis('date').reset_index()\n",
    "ef['date'] = ef['date'].astype('datetime64[ns]')\n",
    "ax3.bar(ef.date, ef['Tamil Nadu'],color = '#007acc',alpha=0.5,)\n",
    "ax3.xaxis.set_major_locator(mdates.WeekdayLocator())\n",
    "ax3.xaxis.set_major_formatter(mdates.DateFormatter('%b %d'))\n",
    "ax3.set_xticks(ax3.get_xticks()[::3])\n",
    "ax3.text(0.05, 0.9,'Tamil Nadu', transform = ax3.transAxes, fontsize=20);\n",
    "ax3.spines['right'].set_visible(False)\n",
    "ax3.spines['top'].set_visible(False)\n",
    "\n",
    "ax5 = fig.add_subplot(gs[1,3])\n",
    "ef = df.loc['Telangana'].rename_axis('date').reset_index()\n",
    "ef['date'] = ef['date'].astype('datetime64[ns]')\n",
    "ax5.bar(ef.date, ef['Telangana'],color = '#007acc',alpha=0.5,)\n",
    "ax5.xaxis.set_major_locator(mdates.WeekdayLocator())\n",
    "ax5.xaxis.set_major_formatter(mdates.DateFormatter('%b %d'))\n",
    "ax5.set_xticks(ax5.get_xticks()[::3])\n",
    "ax5.text(0.05, 0.9,'Telangana', transform = ax5.transAxes, fontsize=20);\n",
    "ax5.spines['right'].set_visible(False)\n",
    "ax5.spines['top'].set_visible(False)\n",
    "\n",
    "ax6 = fig.add_subplot(gs[1,4])\n",
    "ef = df.loc['Andhra Pradesh'].rename_axis('date').reset_index()\n",
    "ef['date'] = ef['date'].astype('datetime64[ns]')\n",
    "ax6.bar(ef.date, ef['Andhra Pradesh'],color = '#007acc',alpha=0.5,)\n",
    "ax6.xaxis.set_major_locator(mdates.WeekdayLocator())\n",
    "ax6.xaxis.set_major_formatter(mdates.DateFormatter('%b %d'))\n",
    "ax6.set_xticks(ax6.get_xticks()[::3])\n",
    "ax6.text(0.05, 1,'Andhra Pradesh', transform = ax6.transAxes, fontsize=20);\n",
    "ax6.spines['right'].set_visible(False)\n",
    "ax6.spines['top'].set_visible(False)\n",
    "\n",
    "ax4 = fig.add_subplot(gs[1,2])\n",
    "ef = df.loc['Delhi'].rename_axis('date').reset_index()\n",
    "ef['date'] = ef['date'].astype('datetime64[ns]')\n",
    "ax4.bar(ef.date, ef.Delhi,color = '#007acc',alpha=0.5)\n",
    "ax4.set_xticks([])\n",
    "ax4.xaxis.set_major_locator(mdates.WeekdayLocator())\n",
    "ax4.xaxis.set_major_formatter(mdates.DateFormatter('%b %d'))\n",
    "ax4.set_xticks(ax4.get_xticks()[::3])\n",
    "ax4.spines['right'].set_visible(False)\n",
    "ax4.spines['top'].set_visible(False)\n",
    "\n",
    "ax4.text(0.05, 1,'Delhi', transform = ax4.transAxes, fontsize=20)\n",
    "\n",
    "for i in range(n):\n",
    "    \n",
    "    ax.append(fig.add_subplot(gs[i+2,:]))\n",
    "    ef = df.iloc[i+3].rename_axis('date').reset_index()\n",
    "    ef['date'] = ef['date'].astype('datetime64[ns]')\n",
    "    ax[i].bar(ef.date,ef.iloc[:,-1],color = '#007acc',alpha=0.3)\n",
    "    ax[i].plot(ef.date,ef.iloc[:,-1],marker='o',color='#007acc')\n",
    "    ax[i].text(0.02,0.5,f'{ef.columns.values[-1]}',transform = ax[i].transAxes, fontsize = 20);\n",
    "    ax[i].xaxis.set_major_locator(mdates.WeekdayLocator())\n",
    "    ax[i].xaxis.set_major_formatter(mdates.DateFormatter('%b %d'))\n",
    "    ax[i].set_ylim([0,7000])\n",
    "    ax[i].spines['right'].set_visible(False)\n",
    "    ax[i].spines['top'].set_visible(False)\n",
    "plt.tight_layout()\n"
   ]
  },
  {
   "cell_type": "code",
   "execution_count": 20,
   "metadata": {
    "execution": {
     "iopub.execute_input": "2020-09-26T08:52:07.667123Z",
     "iopub.status.busy": "2020-09-26T08:52:07.666490Z",
     "iopub.status.idle": "2020-09-26T08:52:07.668691Z",
     "shell.execute_reply": "2020-09-26T08:52:07.669164Z"
    },
    "papermill": {
     "duration": 0.03271,
     "end_time": "2020-09-26T08:52:07.669310",
     "exception": false,
     "start_time": "2020-09-26T08:52:07.636600",
     "status": "completed"
    },
    "tags": []
   },
   "outputs": [
    {
     "name": "stdout",
     "output_type": "stream",
     "text": [
      "                                   states    Cases  Deaths   PCases  PDeaths  Cases (+)  Deaths (+)  Fatality Rate\n",
      "                              Maharashtra  1300757   34761  1300757    34761          0           0           2.67\n",
      "                           Andhra Pradesh   661458    5606   661458     5606          0           0           0.85\n",
      "                               Tamil Nadu   569370    9148   569370     9148          0           0           1.61\n",
      "                                Karnataka   557212    8417   557212     8417          0           0           1.51\n",
      "                            Uttar Pradesh   378533    5450   378533     5450          0           0           1.44\n",
      "                                    Delhi   264450    5147   264450     5147          0           0           1.95\n",
      "                              West Bengal   241059    4665   241059     4665          0           0           1.94\n",
      "                                   Odisha   205452     836   201096      820       4356          16           0.41\n",
      "                                Telangana   183866    1091   181627     1080       2239          11           0.59\n",
      "                                    Bihar   175898     881   175898      881          0           0           0.50\n",
      "                                    Assam   167374     625   167374      625          0           0           0.37\n",
      "                                   Kerala   160935     636   160935      636          0           0           0.40\n",
      "                                  Gujarat   130391    3394   130391     3394          0           0           2.60\n",
      "                                Rajasthan   124730    1412   124730     1412          0           0           1.13\n",
      "                                  Haryana   120578    1273   120578     1273          0           0           1.06\n",
      "                           Madhya Pradesh   117588    2152   117588     2152          0           0           1.83\n",
      "                                   Punjab   107096    3134   107096     3134          0           0           2.93\n",
      "                             Chhattisgarh    98565     777    98565      777          0           0           0.79\n",
      "                                Jharkhand    77709     661    77709      661          0           0           0.85\n",
      "                        Jammu and Kashmir    69832    1105    69832     1105          0           0           1.58\n",
      "                              Uttarakhand    45332     555    45332      555          0           0           1.22\n",
      "                                      Goa    31071     386    31071      386          0           0           1.24\n",
      "                               Puducherry    25489     494    25489      494          0           0           1.94\n",
      "                                  Tripura    24405     265    24127      262        278           3           1.09\n",
      "                         Himachal Pradesh    13679     152    13679      152          0           0           1.11\n",
      "                               Chandigarh    11212     145    11212      145          0           0           1.29\n",
      "                                  Manipur     9791      63     9791       63          0           0           0.64\n",
      "                        Arunachal Pradesh     8671      14     8671       14          0           0           0.16\n",
      "                                 Nagaland     5768      11     5768       11          0           0           0.19\n",
      "                                Meghalaya     5158      43     5158       43          0           0           0.83\n",
      "                                   Ladakh     4025      56     4025       56          0           0           1.39\n",
      "              Andaman and Nicobar Islands     3759      52     3759       52          0           0           1.38\n",
      " Dadra and Nagar Haveli and Daman and Diu     2993       2     2993        2          0           0           0.07\n",
      "                                   Sikkim     2707      31     2707       31          0           0           1.15\n",
      "                                  Mizoram     1835       0     1786        0         49           0           0.00\n",
      "                              Lakshadweep        0       0        0        0          0           0            NaN\n"
     ]
    }
   ],
   "source": [
    "#hide_input\n",
    "print(df_table.to_string(index=False))"
   ]
  },
  {
   "cell_type": "code",
   "execution_count": null,
   "metadata": {
    "papermill": {
     "duration": 0.022375,
     "end_time": "2020-09-26T08:52:07.714204",
     "exception": false,
     "start_time": "2020-09-26T08:52:07.691829",
     "status": "completed"
    },
    "tags": []
   },
   "outputs": [],
   "source": []
  },
  {
   "cell_type": "code",
   "execution_count": null,
   "metadata": {
    "papermill": {
     "duration": 0.022291,
     "end_time": "2020-09-26T08:52:07.759010",
     "exception": false,
     "start_time": "2020-09-26T08:52:07.736719",
     "status": "completed"
    },
    "tags": []
   },
   "outputs": [],
   "source": []
  }
 ],
 "metadata": {
  "kernelspec": {
   "display_name": "Python 3",
   "language": "python",
   "name": "python3"
  },
  "language_info": {
   "codemirror_mode": {
    "name": "ipython",
    "version": 3
   },
   "file_extension": ".py",
   "mimetype": "text/x-python",
   "name": "python",
   "nbconvert_exporter": "python",
   "pygments_lexer": "ipython3",
   "version": "3.6.12"
  },
  "papermill": {
   "duration": 9.124846,
   "end_time": "2020-09-26T08:52:08.188983",
   "environment_variables": {},
   "exception": null,
   "input_path": "latest.ipynb",
   "output_path": "latest.ipynb",
   "parameters": {},
   "start_time": "2020-09-26T08:51:59.064137",
   "version": "2.1.2"
  }
 },
 "nbformat": 4,
 "nbformat_minor": 4
}