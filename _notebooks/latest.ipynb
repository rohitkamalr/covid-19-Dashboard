{
 "cells": [
  {
   "cell_type": "markdown",
   "id": "colored-stack",
   "metadata": {
    "papermill": {
     "duration": 0.019939,
     "end_time": "2021-05-20T11:56:38.848638",
     "exception": false,
     "start_time": "2021-05-20T11:56:38.828699",
     "status": "completed"
    },
    "tags": []
   },
   "source": [
    "# Latest COVID-19 India Matplotlib Overview"
   ]
  },
  {
   "cell_type": "code",
   "execution_count": 1,
   "id": "light-proportion",
   "metadata": {
    "execution": {
     "iopub.execute_input": "2021-05-20T11:56:38.897847Z",
     "iopub.status.busy": "2021-05-20T11:56:38.897322Z",
     "iopub.status.idle": "2021-05-20T11:56:39.411706Z",
     "shell.execute_reply": "2021-05-20T11:56:39.412135Z"
    },
    "papermill": {
     "duration": 0.547853,
     "end_time": "2021-05-20T11:56:39.412300",
     "exception": false,
     "start_time": "2021-05-20T11:56:38.864447",
     "status": "completed"
    },
    "tags": []
   },
   "outputs": [],
   "source": [
    "#hide\n",
    "import pandas as pd\n",
    "import numpy as np\n",
    "import requests\n",
    "import json\n",
    "import matplotlib.pyplot as plt\n",
    "import matplotlib.dates as mdates\n",
    "import matplotlib as mpl\n",
    "from IPython.core.display import display,HTML\n",
    "%matplotlib inline\n",
    "from datetime import date"
   ]
  },
  {
   "cell_type": "code",
   "execution_count": 2,
   "id": "greenhouse-shooting",
   "metadata": {
    "execution": {
     "iopub.execute_input": "2021-05-20T11:56:39.450924Z",
     "iopub.status.busy": "2021-05-20T11:56:39.450404Z",
     "iopub.status.idle": "2021-05-20T11:56:39.758172Z",
     "shell.execute_reply": "2021-05-20T11:56:39.758623Z"
    },
    "papermill": {
     "duration": 0.330204,
     "end_time": "2021-05-20T11:56:39.758765",
     "exception": false,
     "start_time": "2021-05-20T11:56:39.428561",
     "status": "completed"
    },
    "tags": []
   },
   "outputs": [],
   "source": [
    "#hide\n",
    "df  = pd.read_csv('https://api.covid19india.org/csv/latest/states.csv')\n",
    "df = df[['Date','State','Confirmed','Deceased']]\n",
    "df = df.rename(columns={'Confirmed':'Cases', \"Deceased\":'Deaths'})\n",
    "df_cases = df[[\"Date\",'State','Cases']]\n",
    "df_deaths = df[['Date','State','Deaths']]\n",
    "df_cases1 = df_cases.groupby('Date')\n",
    "df_deaths1= df_deaths.groupby('Date')"
   ]
  },
  {
   "cell_type": "code",
   "execution_count": 3,
   "id": "hybrid-cathedral",
   "metadata": {
    "execution": {
     "iopub.execute_input": "2021-05-20T11:56:39.794382Z",
     "iopub.status.busy": "2021-05-20T11:56:39.793865Z",
     "iopub.status.idle": "2021-05-20T11:56:39.810835Z",
     "shell.execute_reply": "2021-05-20T11:56:39.810424Z"
    },
    "papermill": {
     "duration": 0.036743,
     "end_time": "2021-05-20T11:56:39.810947",
     "exception": false,
     "start_time": "2021-05-20T11:56:39.774204",
     "status": "completed"
    },
    "tags": []
   },
   "outputs": [],
   "source": [
    "#hide\n",
    "df_snap = pd.read_csv('data/SnapshotCases-28-July.csv')\n",
    "arr_states = df_snap['states'].unique()\n",
    "arr_dates = df['Date'].unique()\n",
    "df_snap = df_snap.set_index('states')"
   ]
  },
  {
   "cell_type": "code",
   "execution_count": 4,
   "id": "interior-belfast",
   "metadata": {
    "execution": {
     "iopub.execute_input": "2021-05-20T11:56:39.847279Z",
     "iopub.status.busy": "2021-05-20T11:56:39.846756Z",
     "iopub.status.idle": "2021-05-20T11:56:39.849960Z",
     "shell.execute_reply": "2021-05-20T11:56:39.850335Z"
    },
    "papermill": {
     "duration": 0.024446,
     "end_time": "2021-05-20T11:56:39.850457",
     "exception": false,
     "start_time": "2021-05-20T11:56:39.826011",
     "status": "completed"
    },
    "tags": []
   },
   "outputs": [
    {
     "data": {
      "text/plain": [
       "array(['Andaman and Nicobar Islands', 'Andhra Pradesh',\n",
       "       'Arunachal Pradesh', 'Assam', 'Bihar', 'Chandigarh',\n",
       "       'Dadra and Nagar Haveli and Daman and Diu', 'Delhi', 'Goa',\n",
       "       'Gujarat', 'Haryana', 'Himachal Pradesh', 'Jammu and Kashmir',\n",
       "       'Jharkhand', 'Karnataka', 'Kerala', 'Lakshadweep',\n",
       "       'Madhya Pradesh', 'Maharashtra', 'Manipur', 'Meghalaya', 'Mizoram',\n",
       "       'Nagaland', 'Odisha', 'Puducherry', 'Punjab', 'Rajasthan',\n",
       "       'Sikkim', 'Tamil Nadu', 'Telangana', 'Tripura', 'Uttar Pradesh',\n",
       "       'West Bengal', 'Chhattisgarh', 'Ladakh', 'Uttarakhand'],\n",
       "      dtype=object)"
      ]
     },
     "execution_count": 4,
     "metadata": {},
     "output_type": "execute_result"
    }
   ],
   "source": [
    "#hide\n",
    "arr_states[-9] = 'Puducherry'\n",
    "arr_states[-10] = 'Odisha'\n",
    "arr_states[6] = 'Dadra and Nagar Haveli and Daman and Diu'\n",
    "arr_states = np.append(arr_states,np.array(['Chhattisgarh','Ladakh','Uttarakhand']))\n",
    "arr_states"
   ]
  },
  {
   "cell_type": "code",
   "execution_count": 5,
   "id": "behind-manner",
   "metadata": {
    "execution": {
     "iopub.execute_input": "2021-05-20T11:56:39.891967Z",
     "iopub.status.busy": "2021-05-20T11:56:39.891459Z",
     "iopub.status.idle": "2021-05-20T11:56:39.899570Z",
     "shell.execute_reply": "2021-05-20T11:56:39.899994Z"
    },
    "papermill": {
     "duration": 0.034316,
     "end_time": "2021-05-20T11:56:39.900108",
     "exception": false,
     "start_time": "2021-05-20T11:56:39.865792",
     "status": "completed"
    },
    "tags": []
   },
   "outputs": [],
   "source": [
    "#hide\n",
    "dates = []\n",
    "for i in arr_dates:\n",
    "    if i>='2020-07-01':\n",
    "        dates.append(i)\n",
    "dict = {'states':dates}\n",
    "for i in arr_states:\n",
    "    dict[i] = [0]*len(dates)\n",
    "dft_cases = pd.DataFrame(dict)\n",
    "dft_deaths = pd.DataFrame(dict)\n"
   ]
  },
  {
   "cell_type": "code",
   "execution_count": 6,
   "id": "simplified-peter",
   "metadata": {
    "execution": {
     "iopub.execute_input": "2021-05-20T11:56:39.935308Z",
     "iopub.status.busy": "2021-05-20T11:56:39.932656Z",
     "iopub.status.idle": "2021-05-20T11:56:44.010437Z",
     "shell.execute_reply": "2021-05-20T11:56:44.009920Z"
    },
    "papermill": {
     "duration": 4.095086,
     "end_time": "2021-05-20T11:56:44.010574",
     "exception": false,
     "start_time": "2021-05-20T11:56:39.915488",
     "status": "completed"
    },
    "tags": []
   },
   "outputs": [],
   "source": [
    "#hide\n",
    "for i in range(len(dates)):\n",
    "    df1_deaths = df_deaths1.get_group(dates[i])\n",
    "    for j in range(len(df1_deaths.index)):\n",
    "        if df1_deaths.iloc[j,1] in arr_states:\n",
    "            dft_deaths.loc[i,df1_deaths.iloc[j,1]] = df1_deaths.iloc[j,2]\n",
    "dft_deaths = dft_deaths.set_index('states')"
   ]
  },
  {
   "cell_type": "code",
   "execution_count": 7,
   "id": "geological-welding",
   "metadata": {
    "execution": {
     "iopub.execute_input": "2021-05-20T11:56:44.049598Z",
     "iopub.status.busy": "2021-05-20T11:56:44.049096Z",
     "iopub.status.idle": "2021-05-20T11:56:48.111417Z",
     "shell.execute_reply": "2021-05-20T11:56:48.110918Z"
    },
    "papermill": {
     "duration": 4.083984,
     "end_time": "2021-05-20T11:56:48.111548",
     "exception": false,
     "start_time": "2021-05-20T11:56:44.027564",
     "status": "completed"
    },
    "tags": []
   },
   "outputs": [],
   "source": [
    "#hide\n",
    "for i in range(len(dates)):\n",
    "    df1_cases = df_cases1.get_group(dates[i])\n",
    "    for j in range(len(df1_cases.index)):\n",
    "        if df1_cases.iloc[j,1] in arr_states:\n",
    "            dft_cases.loc[i,df1_cases.iloc[j,1]] = df1_cases.iloc[j,2]\n",
    "dft_cases = dft_cases.set_index('states')"
   ]
  },
  {
   "cell_type": "code",
   "execution_count": 8,
   "id": "binary-ratio",
   "metadata": {
    "execution": {
     "iopub.execute_input": "2021-05-20T11:56:48.149822Z",
     "iopub.status.busy": "2021-05-20T11:56:48.148754Z",
     "iopub.status.idle": "2021-05-20T11:56:48.150396Z",
     "shell.execute_reply": "2021-05-20T11:56:48.150790Z"
    },
    "papermill": {
     "duration": 0.023531,
     "end_time": "2021-05-20T11:56:48.150913",
     "exception": false,
     "start_time": "2021-05-20T11:56:48.127382",
     "status": "completed"
    },
    "tags": []
   },
   "outputs": [],
   "source": [
    "#hide\n",
    "dft_cases = dft_cases.T\n",
    "dft_deaths = dft_deaths.T\n",
    "dt_today = dates[-1]\n",
    "dt_yday = dates[-2]"
   ]
  },
  {
   "cell_type": "code",
   "execution_count": 9,
   "id": "boolean-calculator",
   "metadata": {
    "execution": {
     "iopub.execute_input": "2021-05-20T11:56:48.189048Z",
     "iopub.status.busy": "2021-05-20T11:56:48.187326Z",
     "iopub.status.idle": "2021-05-20T11:56:48.190654Z",
     "shell.execute_reply": "2021-05-20T11:56:48.191101Z"
    },
    "papermill": {
     "duration": 0.024981,
     "end_time": "2021-05-20T11:56:48.191224",
     "exception": false,
     "start_time": "2021-05-20T11:56:48.166243",
     "status": "completed"
    },
    "tags": []
   },
   "outputs": [],
   "source": [
    "#hide\n",
    "dft_cases = dft_cases.reset_index()\n",
    "dft_deaths = dft_deaths.reset_index()\n",
    "dft_cases = dft_cases.rename(columns = {'index':'state'})\n",
    "dft_deaths = dft_deaths.rename(columns = {'index':'state'})"
   ]
  },
  {
   "cell_type": "code",
   "execution_count": 10,
   "id": "invisible-johnston",
   "metadata": {
    "execution": {
     "iopub.execute_input": "2021-05-20T11:56:48.233199Z",
     "iopub.status.busy": "2021-05-20T11:56:48.232305Z",
     "iopub.status.idle": "2021-05-20T11:56:48.234683Z",
     "shell.execute_reply": "2021-05-20T11:56:48.234237Z"
    },
    "papermill": {
     "duration": 0.028264,
     "end_time": "2021-05-20T11:56:48.234789",
     "exception": false,
     "start_time": "2021-05-20T11:56:48.206525",
     "status": "completed"
    },
    "tags": []
   },
   "outputs": [],
   "source": [
    "#hide\n",
    "dfc_cases = dft_cases.groupby('state')[dt_today].sum()\n",
    "dfc_deaths = dft_deaths.groupby('state')[dt_today].sum()\n",
    "dfp_cases = dft_cases.groupby('state')[dt_yday].sum()\n",
    "dfp_deaths = dft_deaths.groupby('state')[dt_yday].sum()"
   ]
  },
  {
   "cell_type": "code",
   "execution_count": 11,
   "id": "measured-great",
   "metadata": {
    "execution": {
     "iopub.execute_input": "2021-05-20T11:56:48.279431Z",
     "iopub.status.busy": "2021-05-20T11:56:48.272420Z",
     "iopub.status.idle": "2021-05-20T11:56:48.285206Z",
     "shell.execute_reply": "2021-05-20T11:56:48.285603Z"
    },
    "papermill": {
     "duration": 0.035303,
     "end_time": "2021-05-20T11:56:48.285724",
     "exception": false,
     "start_time": "2021-05-20T11:56:48.250421",
     "status": "completed"
    },
    "tags": []
   },
   "outputs": [
    {
     "data": {
      "text/html": [
       "<div>\n",
       "<style scoped>\n",
       "    .dataframe tbody tr th:only-of-type {\n",
       "        vertical-align: middle;\n",
       "    }\n",
       "\n",
       "    .dataframe tbody tr th {\n",
       "        vertical-align: top;\n",
       "    }\n",
       "\n",
       "    .dataframe thead th {\n",
       "        text-align: right;\n",
       "    }\n",
       "</style>\n",
       "<table border=\"1\" class=\"dataframe\">\n",
       "  <thead>\n",
       "    <tr style=\"text-align: right;\">\n",
       "      <th></th>\n",
       "      <th>states</th>\n",
       "      <th>Cases</th>\n",
       "      <th>Deaths</th>\n",
       "      <th>PCases</th>\n",
       "      <th>PDeaths</th>\n",
       "    </tr>\n",
       "  </thead>\n",
       "  <tbody>\n",
       "    <tr>\n",
       "      <th>0</th>\n",
       "      <td>Maharashtra</td>\n",
       "      <td>5467537</td>\n",
       "      <td>84371</td>\n",
       "      <td>5467537</td>\n",
       "      <td>84371</td>\n",
       "    </tr>\n",
       "    <tr>\n",
       "      <th>1</th>\n",
       "      <td>Karnataka</td>\n",
       "      <td>2306655</td>\n",
       "      <td>23306</td>\n",
       "      <td>2306655</td>\n",
       "      <td>23306</td>\n",
       "    </tr>\n",
       "    <tr>\n",
       "      <th>2</th>\n",
       "      <td>Kerala</td>\n",
       "      <td>2233469</td>\n",
       "      <td>6725</td>\n",
       "      <td>2233469</td>\n",
       "      <td>6725</td>\n",
       "    </tr>\n",
       "    <tr>\n",
       "      <th>3</th>\n",
       "      <td>Tamil Nadu</td>\n",
       "      <td>1699225</td>\n",
       "      <td>18734</td>\n",
       "      <td>1699225</td>\n",
       "      <td>18734</td>\n",
       "    </tr>\n",
       "    <tr>\n",
       "      <th>4</th>\n",
       "      <td>Uttar Pradesh</td>\n",
       "      <td>1644849</td>\n",
       "      <td>18352</td>\n",
       "      <td>1644849</td>\n",
       "      <td>18352</td>\n",
       "    </tr>\n",
       "  </tbody>\n",
       "</table>\n",
       "</div>"
      ],
      "text/plain": [
       "          states    Cases  Deaths   PCases  PDeaths\n",
       "0    Maharashtra  5467537   84371  5467537    84371\n",
       "1      Karnataka  2306655   23306  2306655    23306\n",
       "2         Kerala  2233469    6725  2233469     6725\n",
       "3     Tamil Nadu  1699225   18734  1699225    18734\n",
       "4  Uttar Pradesh  1644849   18352  1644849    18352"
      ]
     },
     "execution_count": 11,
     "metadata": {},
     "output_type": "execute_result"
    }
   ],
   "source": [
    "#hide\n",
    "df_table = pd.DataFrame({'states': dfc_cases.index, 'Cases': dfc_cases.values, 'Deaths': dfc_deaths.values, 'PCases': dfp_cases.values, 'PDeaths': dfp_deaths.values}).set_index('states')\n",
    "df_table = df_table.sort_values(by = ['Cases','Deaths'], ascending = [False, False])\n",
    "df_table = df_table.reset_index()\n",
    "df_table.head()"
   ]
  },
  {
   "cell_type": "code",
   "execution_count": 12,
   "id": "found-montreal",
   "metadata": {
    "execution": {
     "iopub.execute_input": "2021-05-20T11:56:48.322154Z",
     "iopub.status.busy": "2021-05-20T11:56:48.321665Z",
     "iopub.status.idle": "2021-05-20T11:56:48.330248Z",
     "shell.execute_reply": "2021-05-20T11:56:48.329848Z"
    },
    "papermill": {
     "duration": 0.028837,
     "end_time": "2021-05-20T11:56:48.330356",
     "exception": false,
     "start_time": "2021-05-20T11:56:48.301519",
     "status": "completed"
    },
    "tags": []
   },
   "outputs": [],
   "source": [
    "#hide\n",
    "for c in 'Cases, Deaths'.split(', '):\n",
    "    df_table[f'{c} (+)'] = (df_table[c] - df_table[f'P{c}']).clip(0)\n",
    "df_table['Fatality Rate'] = (100* df_table['Deaths']/ df_table['Cases']).round(2)"
   ]
  },
  {
   "cell_type": "code",
   "execution_count": 13,
   "id": "minus-savage",
   "metadata": {
    "execution": {
     "iopub.execute_input": "2021-05-20T11:56:48.372087Z",
     "iopub.status.busy": "2021-05-20T11:56:48.371590Z",
     "iopub.status.idle": "2021-05-20T11:56:48.374001Z",
     "shell.execute_reply": "2021-05-20T11:56:48.374421Z"
    },
    "papermill": {
     "duration": 0.028456,
     "end_time": "2021-05-20T11:56:48.374537",
     "exception": false,
     "start_time": "2021-05-20T11:56:48.346081",
     "status": "completed"
    },
    "tags": []
   },
   "outputs": [
    {
     "data": {
      "text/html": [
       "<div>\n",
       "<style scoped>\n",
       "    .dataframe tbody tr th:only-of-type {\n",
       "        vertical-align: middle;\n",
       "    }\n",
       "\n",
       "    .dataframe tbody tr th {\n",
       "        vertical-align: top;\n",
       "    }\n",
       "\n",
       "    .dataframe thead th {\n",
       "        text-align: right;\n",
       "    }\n",
       "</style>\n",
       "<table border=\"1\" class=\"dataframe\">\n",
       "  <thead>\n",
       "    <tr style=\"text-align: right;\">\n",
       "      <th></th>\n",
       "      <th>states</th>\n",
       "      <th>Cases</th>\n",
       "      <th>Deaths</th>\n",
       "      <th>PCases</th>\n",
       "      <th>PDeaths</th>\n",
       "      <th>Cases (+)</th>\n",
       "      <th>Deaths (+)</th>\n",
       "      <th>Fatality Rate</th>\n",
       "    </tr>\n",
       "  </thead>\n",
       "  <tbody>\n",
       "    <tr>\n",
       "      <th>0</th>\n",
       "      <td>Maharashtra</td>\n",
       "      <td>5467537</td>\n",
       "      <td>84371</td>\n",
       "      <td>5467537</td>\n",
       "      <td>84371</td>\n",
       "      <td>0</td>\n",
       "      <td>0</td>\n",
       "      <td>1.54</td>\n",
       "    </tr>\n",
       "    <tr>\n",
       "      <th>1</th>\n",
       "      <td>Karnataka</td>\n",
       "      <td>2306655</td>\n",
       "      <td>23306</td>\n",
       "      <td>2306655</td>\n",
       "      <td>23306</td>\n",
       "      <td>0</td>\n",
       "      <td>0</td>\n",
       "      <td>1.01</td>\n",
       "    </tr>\n",
       "    <tr>\n",
       "      <th>2</th>\n",
       "      <td>Kerala</td>\n",
       "      <td>2233469</td>\n",
       "      <td>6725</td>\n",
       "      <td>2233469</td>\n",
       "      <td>6725</td>\n",
       "      <td>0</td>\n",
       "      <td>0</td>\n",
       "      <td>0.30</td>\n",
       "    </tr>\n",
       "    <tr>\n",
       "      <th>3</th>\n",
       "      <td>Tamil Nadu</td>\n",
       "      <td>1699225</td>\n",
       "      <td>18734</td>\n",
       "      <td>1699225</td>\n",
       "      <td>18734</td>\n",
       "      <td>0</td>\n",
       "      <td>0</td>\n",
       "      <td>1.10</td>\n",
       "    </tr>\n",
       "    <tr>\n",
       "      <th>4</th>\n",
       "      <td>Uttar Pradesh</td>\n",
       "      <td>1644849</td>\n",
       "      <td>18352</td>\n",
       "      <td>1644849</td>\n",
       "      <td>18352</td>\n",
       "      <td>0</td>\n",
       "      <td>0</td>\n",
       "      <td>1.12</td>\n",
       "    </tr>\n",
       "  </tbody>\n",
       "</table>\n",
       "</div>"
      ],
      "text/plain": [
       "          states    Cases  Deaths   PCases  PDeaths  Cases (+)  Deaths (+)  \\\n",
       "0    Maharashtra  5467537   84371  5467537    84371          0           0   \n",
       "1      Karnataka  2306655   23306  2306655    23306          0           0   \n",
       "2         Kerala  2233469    6725  2233469     6725          0           0   \n",
       "3     Tamil Nadu  1699225   18734  1699225    18734          0           0   \n",
       "4  Uttar Pradesh  1644849   18352  1644849    18352          0           0   \n",
       "\n",
       "   Fatality Rate  \n",
       "0           1.54  \n",
       "1           1.01  \n",
       "2           0.30  \n",
       "3           1.10  \n",
       "4           1.12  "
      ]
     },
     "execution_count": 13,
     "metadata": {},
     "output_type": "execute_result"
    }
   ],
   "source": [
    "#hide\n",
    "df_table.head()"
   ]
  },
  {
   "cell_type": "code",
   "execution_count": 14,
   "id": "false-peter",
   "metadata": {
    "execution": {
     "iopub.execute_input": "2021-05-20T11:56:48.411904Z",
     "iopub.status.busy": "2021-05-20T11:56:48.411409Z",
     "iopub.status.idle": "2021-05-20T11:56:48.426072Z",
     "shell.execute_reply": "2021-05-20T11:56:48.425652Z"
    },
    "papermill": {
     "duration": 0.035374,
     "end_time": "2021-05-20T11:56:48.426174",
     "exception": false,
     "start_time": "2021-05-20T11:56:48.390800",
     "status": "completed"
    },
    "tags": []
   },
   "outputs": [
    {
     "data": {
      "text/plain": [
       "{'updated': '2021-05-20',\n",
       " 'since': '2021-05-19',\n",
       " 'Cases': 25790569,\n",
       " 'PCases': 25771539,\n",
       " 'Deaths': 287459,\n",
       " 'PDeaths': 287157,\n",
       " 'Cases (+)': 19030,\n",
       " 'Deaths (+)': 302}"
      ]
     },
     "execution_count": 14,
     "metadata": {},
     "output_type": "execute_result"
    }
   ],
   "source": [
    "#hide\n",
    "summary = {'updated':dates[-1], 'since':dates[-2]}\n",
    "list_names = ['Cases', 'PCases', 'Deaths', 'PDeaths', 'Cases (+)', 'Deaths (+)']\n",
    "for name in list_names:\n",
    "    summary[name] = df_table.sum()[name]\n",
    "summary"
   ]
  },
  {
   "cell_type": "code",
   "execution_count": 15,
   "id": "packed-viewer",
   "metadata": {
    "execution": {
     "iopub.execute_input": "2021-05-20T11:56:48.463092Z",
     "iopub.status.busy": "2021-05-20T11:56:48.462573Z",
     "iopub.status.idle": "2021-05-20T11:56:48.464709Z",
     "shell.execute_reply": "2021-05-20T11:56:48.464295Z"
    },
    "papermill": {
     "duration": 0.022201,
     "end_time": "2021-05-20T11:56:48.464811",
     "exception": false,
     "start_time": "2021-05-20T11:56:48.442610",
     "status": "completed"
    },
    "tags": []
   },
   "outputs": [],
   "source": [
    "#hide\n",
    "overview = '''\n",
    "<!-- #######  HTML!! #########-->\n",
    "<h1 style=\"color: #5e9ca0; text-align: center;\">India</h1>\n",
    "<p style=\"text-align: center;\">Last update: <strong>{update}</strong></p>\n",
    "<p style=\"text-align: center;\">Confirmed cases:</p>\n",
    "<p style=\"text-align: center;font-size:24px;\">{cases} (<span style=\"color: #ff0000;\">+{new}</span>)</p>\n",
    "<p style=\"text-align: center;\">Confirmed deaths:</p>\n",
    "<p style=\"text-align: center;font-size:24px;\">{deaths} (<span style=\"color: #ff0000;\">+{dnew}</span>)</p>\n",
    "'''"
   ]
  },
  {
   "cell_type": "code",
   "execution_count": 16,
   "id": "phantom-lover",
   "metadata": {
    "execution": {
     "iopub.execute_input": "2021-05-20T11:56:48.503231Z",
     "iopub.status.busy": "2021-05-20T11:56:48.502717Z",
     "iopub.status.idle": "2021-05-20T11:56:48.505839Z",
     "shell.execute_reply": "2021-05-20T11:56:48.505447Z"
    },
    "papermill": {
     "duration": 0.024759,
     "end_time": "2021-05-20T11:56:48.505942",
     "exception": false,
     "start_time": "2021-05-20T11:56:48.481183",
     "status": "completed"
    },
    "tags": []
   },
   "outputs": [
    {
     "data": {
      "text/html": [
       "\n",
       "<!-- #######  HTML!! #########-->\n",
       "<h1 style=\"color: #5e9ca0; text-align: center;\">India</h1>\n",
       "<p style=\"text-align: center;\">Last update: <strong>2021-05-20</strong></p>\n",
       "<p style=\"text-align: center;\">Confirmed cases:</p>\n",
       "<p style=\"text-align: center;font-size:24px;\">25790569 (<span style=\"color: #ff0000;\">+19030</span>)</p>\n",
       "<p style=\"text-align: center;\">Confirmed deaths:</p>\n",
       "<p style=\"text-align: center;font-size:24px;\">287459 (<span style=\"color: #ff0000;\">+302</span>)</p>\n"
      ],
      "text/plain": [
       "<IPython.core.display.HTML object>"
      ]
     },
     "metadata": {},
     "output_type": "display_data"
    }
   ],
   "source": [
    "#hide_input\n",
    "update = summary['updated']\n",
    "cases = summary['Cases']\n",
    "new = summary['Cases (+)']\n",
    "deaths = summary['Deaths']\n",
    "dnew = summary['Deaths (+)']\n",
    "\n",
    "html = HTML(overview.format(update=update, cases=cases,new=new,deaths=deaths,dnew=dnew))\n",
    "\n",
    "display(html)"
   ]
  },
  {
   "cell_type": "code",
   "execution_count": 17,
   "id": "sealed-reset",
   "metadata": {
    "execution": {
     "iopub.execute_input": "2021-05-20T11:56:48.545053Z",
     "iopub.status.busy": "2021-05-20T11:56:48.544559Z",
     "iopub.status.idle": "2021-05-20T11:56:48.551705Z",
     "shell.execute_reply": "2021-05-20T11:56:48.551305Z"
    },
    "papermill": {
     "duration": 0.028984,
     "end_time": "2021-05-20T11:56:48.551813",
     "exception": false,
     "start_time": "2021-05-20T11:56:48.522829",
     "status": "completed"
    },
    "tags": []
   },
   "outputs": [],
   "source": [
    "#hide\n",
    "dt_cols = list(dft_cases.columns[1:])\n",
    "dft_ct_new_cases = dft_cases.groupby('state')[dt_cols].sum().diff(axis=1).fillna(0).astype(int)\n",
    "dft_ct_new_cases.sort_values(by = dates[-1], ascending = False,inplace = True)"
   ]
  },
  {
   "cell_type": "code",
   "execution_count": 18,
   "id": "designed-constant",
   "metadata": {
    "execution": {
     "iopub.execute_input": "2021-05-20T11:56:48.591266Z",
     "iopub.status.busy": "2021-05-20T11:56:48.590753Z",
     "iopub.status.idle": "2021-05-20T11:56:48.603658Z",
     "shell.execute_reply": "2021-05-20T11:56:48.603257Z"
    },
    "papermill": {
     "duration": 0.035127,
     "end_time": "2021-05-20T11:56:48.603763",
     "exception": false,
     "start_time": "2021-05-20T11:56:48.568636",
     "status": "completed"
    },
    "tags": []
   },
   "outputs": [
    {
     "data": {
      "text/html": [
       "<div>\n",
       "<style scoped>\n",
       "    .dataframe tbody tr th:only-of-type {\n",
       "        vertical-align: middle;\n",
       "    }\n",
       "\n",
       "    .dataframe tbody tr th {\n",
       "        vertical-align: top;\n",
       "    }\n",
       "\n",
       "    .dataframe thead th {\n",
       "        text-align: right;\n",
       "    }\n",
       "</style>\n",
       "<table border=\"1\" class=\"dataframe\">\n",
       "  <thead>\n",
       "    <tr style=\"text-align: right;\">\n",
       "      <th>states</th>\n",
       "      <th>2020-07-01</th>\n",
       "      <th>2020-07-02</th>\n",
       "      <th>2020-07-03</th>\n",
       "      <th>2020-07-04</th>\n",
       "      <th>2020-07-05</th>\n",
       "      <th>2020-07-06</th>\n",
       "      <th>2020-07-07</th>\n",
       "      <th>2020-07-08</th>\n",
       "      <th>2020-07-09</th>\n",
       "      <th>2020-07-10</th>\n",
       "      <th>...</th>\n",
       "      <th>2021-05-11</th>\n",
       "      <th>2021-05-12</th>\n",
       "      <th>2021-05-13</th>\n",
       "      <th>2021-05-14</th>\n",
       "      <th>2021-05-15</th>\n",
       "      <th>2021-05-16</th>\n",
       "      <th>2021-05-17</th>\n",
       "      <th>2021-05-18</th>\n",
       "      <th>2021-05-19</th>\n",
       "      <th>2021-05-20</th>\n",
       "    </tr>\n",
       "    <tr>\n",
       "      <th>state</th>\n",
       "      <th></th>\n",
       "      <th></th>\n",
       "      <th></th>\n",
       "      <th></th>\n",
       "      <th></th>\n",
       "      <th></th>\n",
       "      <th></th>\n",
       "      <th></th>\n",
       "      <th></th>\n",
       "      <th></th>\n",
       "      <th></th>\n",
       "      <th></th>\n",
       "      <th></th>\n",
       "      <th></th>\n",
       "      <th></th>\n",
       "      <th></th>\n",
       "      <th></th>\n",
       "      <th></th>\n",
       "      <th></th>\n",
       "      <th></th>\n",
       "      <th></th>\n",
       "    </tr>\n",
       "  </thead>\n",
       "  <tbody>\n",
       "    <tr>\n",
       "      <th>Odisha</th>\n",
       "      <td>0</td>\n",
       "      <td>229</td>\n",
       "      <td>561</td>\n",
       "      <td>495</td>\n",
       "      <td>469</td>\n",
       "      <td>456</td>\n",
       "      <td>571</td>\n",
       "      <td>527</td>\n",
       "      <td>577</td>\n",
       "      <td>755</td>\n",
       "      <td>...</td>\n",
       "      <td>9793</td>\n",
       "      <td>10982</td>\n",
       "      <td>10649</td>\n",
       "      <td>12390</td>\n",
       "      <td>11805</td>\n",
       "      <td>11732</td>\n",
       "      <td>10757</td>\n",
       "      <td>10321</td>\n",
       "      <td>11099</td>\n",
       "      <td>11498</td>\n",
       "    </tr>\n",
       "    <tr>\n",
       "      <th>Delhi</th>\n",
       "      <td>0</td>\n",
       "      <td>2373</td>\n",
       "      <td>2520</td>\n",
       "      <td>2505</td>\n",
       "      <td>2244</td>\n",
       "      <td>1379</td>\n",
       "      <td>2008</td>\n",
       "      <td>2033</td>\n",
       "      <td>2187</td>\n",
       "      <td>2089</td>\n",
       "      <td>...</td>\n",
       "      <td>12481</td>\n",
       "      <td>13287</td>\n",
       "      <td>10489</td>\n",
       "      <td>8506</td>\n",
       "      <td>6430</td>\n",
       "      <td>6456</td>\n",
       "      <td>4524</td>\n",
       "      <td>4482</td>\n",
       "      <td>3846</td>\n",
       "      <td>3231</td>\n",
       "    </tr>\n",
       "    <tr>\n",
       "      <th>Puducherry</th>\n",
       "      <td>0</td>\n",
       "      <td>63</td>\n",
       "      <td>22</td>\n",
       "      <td>80</td>\n",
       "      <td>42</td>\n",
       "      <td>65</td>\n",
       "      <td>30</td>\n",
       "      <td>110</td>\n",
       "      <td>49</td>\n",
       "      <td>72</td>\n",
       "      <td>...</td>\n",
       "      <td>2049</td>\n",
       "      <td>2007</td>\n",
       "      <td>1942</td>\n",
       "      <td>1974</td>\n",
       "      <td>1598</td>\n",
       "      <td>1961</td>\n",
       "      <td>1446</td>\n",
       "      <td>1797</td>\n",
       "      <td>1759</td>\n",
       "      <td>1957</td>\n",
       "    </tr>\n",
       "    <tr>\n",
       "      <th>Meghalaya</th>\n",
       "      <td>0</td>\n",
       "      <td>3</td>\n",
       "      <td>4</td>\n",
       "      <td>8</td>\n",
       "      <td>2</td>\n",
       "      <td>16</td>\n",
       "      <td>6</td>\n",
       "      <td>6</td>\n",
       "      <td>13</td>\n",
       "      <td>73</td>\n",
       "      <td>...</td>\n",
       "      <td>450</td>\n",
       "      <td>406</td>\n",
       "      <td>591</td>\n",
       "      <td>627</td>\n",
       "      <td>560</td>\n",
       "      <td>569</td>\n",
       "      <td>634</td>\n",
       "      <td>906</td>\n",
       "      <td>872</td>\n",
       "      <td>1183</td>\n",
       "    </tr>\n",
       "    <tr>\n",
       "      <th>Tripura</th>\n",
       "      <td>0</td>\n",
       "      <td>39</td>\n",
       "      <td>93</td>\n",
       "      <td>25</td>\n",
       "      <td>23</td>\n",
       "      <td>111</td>\n",
       "      <td>24</td>\n",
       "      <td>57</td>\n",
       "      <td>16</td>\n",
       "      <td>142</td>\n",
       "      <td>...</td>\n",
       "      <td>466</td>\n",
       "      <td>416</td>\n",
       "      <td>480</td>\n",
       "      <td>552</td>\n",
       "      <td>449</td>\n",
       "      <td>761</td>\n",
       "      <td>335</td>\n",
       "      <td>746</td>\n",
       "      <td>879</td>\n",
       "      <td>720</td>\n",
       "    </tr>\n",
       "  </tbody>\n",
       "</table>\n",
       "<p>5 rows × 324 columns</p>\n",
       "</div>"
      ],
      "text/plain": [
       "states      2020-07-01  2020-07-02  2020-07-03  2020-07-04  2020-07-05  \\\n",
       "state                                                                    \n",
       "Odisha               0         229         561         495         469   \n",
       "Delhi                0        2373        2520        2505        2244   \n",
       "Puducherry           0          63          22          80          42   \n",
       "Meghalaya            0           3           4           8           2   \n",
       "Tripura              0          39          93          25          23   \n",
       "\n",
       "states      2020-07-06  2020-07-07  2020-07-08  2020-07-09  2020-07-10  ...  \\\n",
       "state                                                                   ...   \n",
       "Odisha             456         571         527         577         755  ...   \n",
       "Delhi             1379        2008        2033        2187        2089  ...   \n",
       "Puducherry          65          30         110          49          72  ...   \n",
       "Meghalaya           16           6           6          13          73  ...   \n",
       "Tripura            111          24          57          16         142  ...   \n",
       "\n",
       "states      2021-05-11  2021-05-12  2021-05-13  2021-05-14  2021-05-15  \\\n",
       "state                                                                    \n",
       "Odisha            9793       10982       10649       12390       11805   \n",
       "Delhi            12481       13287       10489        8506        6430   \n",
       "Puducherry        2049        2007        1942        1974        1598   \n",
       "Meghalaya          450         406         591         627         560   \n",
       "Tripura            466         416         480         552         449   \n",
       "\n",
       "states      2021-05-16  2021-05-17  2021-05-18  2021-05-19  2021-05-20  \n",
       "state                                                                   \n",
       "Odisha           11732       10757       10321       11099       11498  \n",
       "Delhi             6456        4524        4482        3846        3231  \n",
       "Puducherry        1961        1446        1797        1759        1957  \n",
       "Meghalaya          569         634         906         872        1183  \n",
       "Tripura            761         335         746         879         720  \n",
       "\n",
       "[5 rows x 324 columns]"
      ]
     },
     "execution_count": 18,
     "metadata": {},
     "output_type": "execute_result"
    }
   ],
   "source": [
    "#hide\n",
    "dft_ct_new_cases.head()"
   ]
  },
  {
   "cell_type": "code",
   "execution_count": 19,
   "id": "responsible-nightlife",
   "metadata": {
    "execution": {
     "iopub.execute_input": "2021-05-20T11:56:48.669379Z",
     "iopub.status.busy": "2021-05-20T11:56:48.664403Z",
     "iopub.status.idle": "2021-05-20T11:56:59.328597Z",
     "shell.execute_reply": "2021-05-20T11:56:59.329004Z"
    },
    "papermill": {
     "duration": 10.707965,
     "end_time": "2021-05-20T11:56:59.329141",
     "exception": false,
     "start_time": "2021-05-20T11:56:48.621176",
     "status": "completed"
    },
    "tags": []
   },
   "outputs": [
    {
     "data": {
      "image/png": "[encoded data removed]",
      "text/plain": [
       "<Figure size 1296x2016 with 11 Axes>"
      ]
     },
     "metadata": {
      "needs_background": "light"
     },
     "output_type": "display_data"
    }
   ],
   "source": [
    "#hide_input\n",
    "df = dft_ct_new_cases.copy()\n",
    "df.loc['Total'] = df.sum()\n",
    "n = 5\n",
    "ax = []\n",
    "fig = plt.figure(figsize = (18,28))\n",
    "gs = fig.add_gridspec(n+2, 5)\n",
    "# gs = fig.add_gridspec(2, 3)\n",
    "ax1 = fig.add_subplot(gs[0, :])\n",
    "ef = df.loc['Total'].rename_axis('date').reset_index()\n",
    "ef['date'] = ef['date'].astype('datetime64[ns]')\n",
    "ax1.bar(ef.date,ef.Total,alpha=0.3,color='#007acc')\n",
    "ax1.plot(ef.date,ef.Total , marker=\"o\", color='#007acc')\n",
    "ax1.xaxis.set_major_locator(mdates.WeekdayLocator())\n",
    "ax1.xaxis.set_major_formatter(mdates.DateFormatter('%b %d'))\n",
    "ax1.text(0.02, 0.5,'India daily case count', transform = ax1.transAxes, fontsize=25);\n",
    "ax1.spines['right'].set_visible(False)\n",
    "ax1.spines['top'].set_visible(False)\n",
    "\n",
    "ax2 = fig.add_subplot(gs[1,0])\n",
    "ef = df.loc['Maharashtra'].rename_axis('date').reset_index()\n",
    "ef['date'] = ef['date'].astype('datetime64[ns]')\n",
    "\n",
    "ax2.bar(ef.date, ef.Maharashtra,color = '#007acc',alpha=0.5)\n",
    "ax2.xaxis.set_major_locator(mdates.WeekdayLocator())\n",
    "ax2.xaxis.set_major_formatter(mdates.DateFormatter('%b %d'))\n",
    "ax2.set_xticks(ax2.get_xticks()[::3])\n",
    "maxyval = ef.Maharashtra.max()\n",
    "ax2.set_ylim([0,maxyval])\n",
    "ax2.text(0.05, 0.9,'Maharashtra', transform = ax2.transAxes, fontsize=20);\n",
    "ax2.spines['right'].set_visible(False)\n",
    "ax2.spines['top'].set_visible(False)\n",
    "\n",
    "\n",
    "ax3 = fig.add_subplot(gs[1,1])\n",
    "ef = df.loc['Tamil Nadu'].rename_axis('date').reset_index()\n",
    "ef['date'] = ef['date'].astype('datetime64[ns]')\n",
    "ax3.bar(ef.date, ef['Tamil Nadu'],color = '#007acc',alpha=0.5,)\n",
    "ax3.xaxis.set_major_locator(mdates.WeekdayLocator())\n",
    "ax3.xaxis.set_major_formatter(mdates.DateFormatter('%b %d'))\n",
    "ax3.set_xticks(ax3.get_xticks()[::3])\n",
    "ax3.text(0.05, 0.9,'Tamil Nadu', transform = ax3.transAxes, fontsize=20);\n",
    "ax3.spines['right'].set_visible(False)\n",
    "ax3.spines['top'].set_visible(False)\n",
    "\n",
    "ax5 = fig.add_subplot(gs[1,3])\n",
    "ef = df.loc['Telangana'].rename_axis('date').reset_index()\n",
    "ef['date'] = ef['date'].astype('datetime64[ns]')\n",
    "ax5.bar(ef.date, ef['Telangana'],color = '#007acc',alpha=0.5,)\n",
    "ax5.xaxis.set_major_locator(mdates.WeekdayLocator())\n",
    "ax5.xaxis.set_major_formatter(mdates.DateFormatter('%b %d'))\n",
    "ax5.set_xticks(ax5.get_xticks()[::3])\n",
    "ax5.text(0.05, 0.9,'Telangana', transform = ax5.transAxes, fontsize=20);\n",
    "ax5.spines['right'].set_visible(False)\n",
    "ax5.spines['top'].set_visible(False)\n",
    "\n",
    "ax6 = fig.add_subplot(gs[1,4])\n",
    "ef = df.loc['Andhra Pradesh'].rename_axis('date').reset_index()\n",
    "ef['date'] = ef['date'].astype('datetime64[ns]')\n",
    "ax6.bar(ef.date, ef['Andhra Pradesh'],color = '#007acc',alpha=0.5,)\n",
    "ax6.xaxis.set_major_locator(mdates.WeekdayLocator())\n",
    "ax6.xaxis.set_major_formatter(mdates.DateFormatter('%b %d'))\n",
    "ax6.set_xticks(ax6.get_xticks()[::3])\n",
    "ax6.text(0.05, 1,'Andhra Pradesh', transform = ax6.transAxes, fontsize=20);\n",
    "ax6.spines['right'].set_visible(False)\n",
    "ax6.spines['top'].set_visible(False)\n",
    "\n",
    "ax4 = fig.add_subplot(gs[1,2])\n",
    "ef = df.loc['Delhi'].rename_axis('date').reset_index()\n",
    "ef['date'] = ef['date'].astype('datetime64[ns]')\n",
    "ax4.bar(ef.date, ef.Delhi,color = '#007acc',alpha=0.5)\n",
    "ax4.set_xticks([])\n",
    "ax4.xaxis.set_major_locator(mdates.WeekdayLocator())\n",
    "ax4.xaxis.set_major_formatter(mdates.DateFormatter('%b %d'))\n",
    "ax4.set_xticks(ax4.get_xticks()[::3])\n",
    "ax4.spines['right'].set_visible(False)\n",
    "ax4.spines['top'].set_visible(False)\n",
    "\n",
    "ax4.text(0.05, 1,'Delhi', transform = ax4.transAxes, fontsize=20)\n",
    "\n",
    "for i in range(n):\n",
    "    \n",
    "    ax.append(fig.add_subplot(gs[i+2,:]))\n",
    "    ef = df.iloc[i+3].rename_axis('date').reset_index()\n",
    "    ef['date'] = ef['date'].astype('datetime64[ns]')\n",
    "    ax[i].bar(ef.date,ef.iloc[:,-1],color = '#007acc',alpha=0.3)\n",
    "    ax[i].plot(ef.date,ef.iloc[:,-1],marker='o',color='#007acc')\n",
    "    ax[i].text(0.02,0.5,f'{ef.columns.values[-1]}',transform = ax[i].transAxes, fontsize = 20);\n",
    "    ax[i].xaxis.set_major_locator(mdates.WeekdayLocator())\n",
    "    ax[i].xaxis.set_major_formatter(mdates.DateFormatter('%b %d'))\n",
    "    ax[i].set_ylim([0,7000])\n",
    "    ax[i].spines['right'].set_visible(False)\n",
    "    ax[i].spines['top'].set_visible(False)\n",
    "plt.tight_layout()\n"
   ]
  },
  {
   "cell_type": "code",
   "execution_count": 20,
   "id": "dress-forge",
   "metadata": {
    "execution": {
     "iopub.execute_input": "2021-05-20T11:56:59.383100Z",
     "iopub.status.busy": "2021-05-20T11:56:59.382500Z",
     "iopub.status.idle": "2021-05-20T11:56:59.385201Z",
     "shell.execute_reply": "2021-05-20T11:56:59.384790Z"
    },
    "papermill": {
     "duration": 0.033511,
     "end_time": "2021-05-20T11:56:59.385312",
     "exception": false,
     "start_time": "2021-05-20T11:56:59.351801",
     "status": "completed"
    },
    "tags": []
   },
   "outputs": [
    {
     "name": "stdout",
     "output_type": "stream",
     "text": [
      "                                   states    Cases  Deaths   PCases  PDeaths  Cases (+)  Deaths (+)  Fatality Rate\n",
      "                              Maharashtra  5467537   84371  5467537    84371          0           0           1.54\n",
      "                                Karnataka  2306655   23306  2306655    23306          0           0           1.01\n",
      "                                   Kerala  2233469    6725  2233469     6725          0           0           0.30\n",
      "                               Tamil Nadu  1699225   18734  1699225    18734          0           0           1.10\n",
      "                            Uttar Pradesh  1644849   18352  1644849    18352          0           0           1.12\n",
      "                           Andhra Pradesh  1498532    9686  1498532     9686          0           0           0.65\n",
      "                                    Delhi  1409950   22579  1406719    22346       3231         233           1.60\n",
      "                              West Bengal  1190867   13733  1190867    13733          0           0           1.15\n",
      "                             Chhattisgarh   931211   12182   931211    12182          0           0           1.31\n",
      "                                Rajasthan   889513    7219   889513     7219          0           0           0.81\n",
      "                                  Gujarat   771447    9340   771447     9340          0           0           1.21\n",
      "                           Madhya Pradesh   747783    7227   747783     7227          0           0           0.97\n",
      "                                  Haryana   716507    7076   716507     7076          0           0           0.99\n",
      "                                    Bihar   670174    4143   670174     4143          0           0           0.62\n",
      "                                   Odisha   655899    2456   644401     2431      11498          25           0.37\n",
      "                                Telangana   540603    3037   540603     3037          0           0           0.56\n",
      "                                   Punjab   517954   12525   517954    12525          0           0           2.42\n",
      "                                    Assam   347001    2433   347001     2433          0           0           0.70\n",
      "                                Jharkhand   322828    4654   322828     4654          0           0           1.44\n",
      "                              Uttarakhand   300282    5325   300282     5325          0           0           1.77\n",
      "                        Jammu and Kashmir   255888    3355   255888     3355          0           0           1.31\n",
      "                         Himachal Pradesh   170074    2516   170074     2516          0           0           1.48\n",
      "                                      Goa   139985    2228   139985     2228          0           0           1.59\n",
      "                               Puducherry    91465    1269    89508     1241       1957          28           1.39\n",
      "                               Chandigarh    56927     656    56927      656          0           0           1.15\n",
      "                                  Tripura    43493     450    42773      447        720           3           1.03\n",
      "                                  Manipur    41265     635    41265      635          0           0           1.54\n",
      "                                Meghalaya    26927     389    25744      379       1183          10           1.44\n",
      "                        Arunachal Pradesh    22799      89    22799       89          0           0           0.39\n",
      "                                 Nagaland    18958     234    18958      234          0           0           1.23\n",
      "                                   Ladakh    16918     171    16918      171          0           0           1.01\n",
      "                                   Sikkim    12210     217    11961      214        249           3           1.78\n",
      " Dadra and Nagar Haveli and Daman and Diu     9755       4     9755        4          0           0           0.04\n",
      "                                  Mizoram     9444      30     9252       30        192           0           0.32\n",
      "              Andaman and Nicobar Islands     6709      95     6709       95          0           0           1.42\n",
      "                              Lakshadweep     5466      18     5466       18          0           0           0.33\n"
     ]
    }
   ],
   "source": [
    "#hide_input\n",
    "print(df_table.to_string(index=False))"
   ]
  },
  {
   "cell_type": "code",
   "execution_count": null,
   "id": "quantitative-legend",
   "metadata": {
    "papermill": {
     "duration": 0.022632,
     "end_time": "2021-05-20T11:56:59.430594",
     "exception": false,
     "start_time": "2021-05-20T11:56:59.407962",
     "status": "completed"
    },
    "tags": []
   },
   "outputs": [],
   "source": []
  },
  {
   "cell_type": "code",
   "execution_count": null,
   "id": "distant-acoustic",
   "metadata": {
    "papermill": {
     "duration": 0.022504,
     "end_time": "2021-05-20T11:56:59.475890",
     "exception": false,
     "start_time": "2021-05-20T11:56:59.453386",
     "status": "completed"
    },
    "tags": []
   },
   "outputs": [],
   "source": []
  }
 ],
 "metadata": {
  "kernelspec": {
   "display_name": "Python 3",
   "language": "python",
   "name": "python3"
  },
  "language_info": {
   "codemirror_mode": {
    "name": "ipython",
    "version": 3
   },
   "file_extension": ".py",
   "mimetype": "text/x-python",
   "name": "python",
   "nbconvert_exporter": "python",
   "pygments_lexer": "ipython3",
   "version": "3.6.13"
  },
  "papermill": {
   "duration": 23.289954,
   "end_time": "2021-05-20T11:57:01.148030",
   "environment_variables": {},
   "exception": null,
   "input_path": "latest.ipynb",
   "output_path": "latest.ipynb",
   "parameters": {},
   "start_time": "2021-05-20T11:56:37.858076",
   "version": "2.1.2"
  }
 },
 "nbformat": 4,
 "nbformat_minor": 5
}