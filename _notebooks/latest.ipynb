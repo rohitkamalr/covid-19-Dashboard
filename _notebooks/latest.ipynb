{
 "cells": [
  {
   "cell_type": "markdown",
   "metadata": {
    "papermill": {
     "duration": 0.020559,
     "end_time": "2020-09-03T05:20:36.206142",
     "exception": false,
     "start_time": "2020-09-03T05:20:36.185583",
     "status": "completed"
    },
    "tags": []
   },
   "source": [
    "# Latest COVID-19 India Matplotlib Overview"
   ]
  },
  {
   "cell_type": "code",
   "execution_count": 1,
   "metadata": {
    "execution": {
     "iopub.execute_input": "2020-09-03T05:20:36.248245Z",
     "iopub.status.busy": "2020-09-03T05:20:36.247549Z",
     "iopub.status.idle": "2020-09-03T05:20:36.904309Z",
     "shell.execute_reply": "2020-09-03T05:20:36.903690Z"
    },
    "papermill": {
     "duration": 0.680674,
     "end_time": "2020-09-03T05:20:36.904482",
     "exception": false,
     "start_time": "2020-09-03T05:20:36.223808",
     "status": "completed"
    },
    "tags": []
   },
   "outputs": [],
   "source": [
    "#hide\n",
    "import pandas as pd\n",
    "import numpy as np\n",
    "import requests\n",
    "import json\n",
    "import matplotlib.pyplot as plt\n",
    "import matplotlib.dates as mdates\n",
    "import matplotlib as mpl\n",
    "from IPython.core.display import display,HTML\n",
    "%matplotlib inline\n",
    "from datetime import date"
   ]
  },
  {
   "cell_type": "code",
   "execution_count": 2,
   "metadata": {
    "execution": {
     "iopub.execute_input": "2020-09-03T05:20:36.947403Z",
     "iopub.status.busy": "2020-09-03T05:20:36.946669Z",
     "iopub.status.idle": "2020-09-03T05:20:37.511635Z",
     "shell.execute_reply": "2020-09-03T05:20:37.510987Z"
    },
    "papermill": {
     "duration": 0.589944,
     "end_time": "2020-09-03T05:20:37.511791",
     "exception": false,
     "start_time": "2020-09-03T05:20:36.921847",
     "status": "completed"
    },
    "tags": []
   },
   "outputs": [],
   "source": [
    "#hide\n",
    "df  = pd.read_csv('https://api.covid19india.org/csv/latest/states.csv')\n",
    "df = df[['Date','State','Confirmed','Deceased']]\n",
    "df = df.rename(columns={'Confirmed':'Cases', \"Deceased\":'Deaths'})\n",
    "df_cases = df[[\"Date\",'State','Cases']]\n",
    "df_deaths = df[['Date','State','Deaths']]\n",
    "df_cases1 = df_cases.groupby('Date')\n",
    "df_deaths1= df_deaths.groupby('Date')"
   ]
  },
  {
   "cell_type": "code",
   "execution_count": 3,
   "metadata": {
    "execution": {
     "iopub.execute_input": "2020-09-03T05:20:37.552598Z",
     "iopub.status.busy": "2020-09-03T05:20:37.551892Z",
     "iopub.status.idle": "2020-09-03T05:20:37.573331Z",
     "shell.execute_reply": "2020-09-03T05:20:37.572016Z"
    },
    "papermill": {
     "duration": 0.044531,
     "end_time": "2020-09-03T05:20:37.573499",
     "exception": false,
     "start_time": "2020-09-03T05:20:37.528968",
     "status": "completed"
    },
    "tags": []
   },
   "outputs": [],
   "source": [
    "#hide\n",
    "df_snap = pd.read_csv('data/SnapshotCases-28-July.csv')\n",
    "arr_states = df_snap['states'].unique()\n",
    "arr_dates = df['Date'].unique()\n",
    "df_snap = df_snap.set_index('states')"
   ]
  },
  {
   "cell_type": "code",
   "execution_count": 4,
   "metadata": {
    "execution": {
     "iopub.execute_input": "2020-09-03T05:20:37.615493Z",
     "iopub.status.busy": "2020-09-03T05:20:37.614800Z",
     "iopub.status.idle": "2020-09-03T05:20:37.617596Z",
     "shell.execute_reply": "2020-09-03T05:20:37.618178Z"
    },
    "papermill": {
     "duration": 0.028142,
     "end_time": "2020-09-03T05:20:37.618352",
     "exception": false,
     "start_time": "2020-09-03T05:20:37.590210",
     "status": "completed"
    },
    "tags": []
   },
   "outputs": [
    {
     "data": {
      "text/plain": [
       "array(['Andaman and Nicobar Islands', 'Andhra Pradesh',\n",
       "       'Arunachal Pradesh', 'Assam', 'Bihar', 'Chandigarh',\n",
       "       'Dadra and Nagar Haveli and Daman and Diu', 'Delhi', 'Goa',\n",
       "       'Gujarat', 'Haryana', 'Himachal Pradesh', 'Jammu and Kashmir',\n",
       "       'Jharkhand', 'Karnataka', 'Kerala', 'Lakshadweep',\n",
       "       'Madhya Pradesh', 'Maharashtra', 'Manipur', 'Meghalaya', 'Mizoram',\n",
       "       'Nagaland', 'Odisha', 'Puducherry', 'Punjab', 'Rajasthan',\n",
       "       'Sikkim', 'Tamil Nadu', 'Telangana', 'Tripura', 'Uttar Pradesh',\n",
       "       'West Bengal', 'Chhattisgarh', 'Ladakh', 'Uttarakhand'],\n",
       "      dtype=object)"
      ]
     },
     "execution_count": 4,
     "metadata": {},
     "output_type": "execute_result"
    }
   ],
   "source": [
    "#hide\n",
    "arr_states[-9] = 'Puducherry'\n",
    "arr_states[-10] = 'Odisha'\n",
    "arr_states[6] = 'Dadra and Nagar Haveli and Daman and Diu'\n",
    "arr_states = np.append(arr_states,np.array(['Chhattisgarh','Ladakh','Uttarakhand']))\n",
    "arr_states"
   ]
  },
  {
   "cell_type": "code",
   "execution_count": 5,
   "metadata": {
    "execution": {
     "iopub.execute_input": "2020-09-03T05:20:37.664641Z",
     "iopub.status.busy": "2020-09-03T05:20:37.663945Z",
     "iopub.status.idle": "2020-09-03T05:20:37.671939Z",
     "shell.execute_reply": "2020-09-03T05:20:37.672566Z"
    },
    "papermill": {
     "duration": 0.036797,
     "end_time": "2020-09-03T05:20:37.672741",
     "exception": false,
     "start_time": "2020-09-03T05:20:37.635944",
     "status": "completed"
    },
    "tags": []
   },
   "outputs": [],
   "source": [
    "#hide\n",
    "dates = []\n",
    "for i in arr_dates:\n",
    "    if i>='2020-07-01':\n",
    "        dates.append(i)\n",
    "dict = {'states':dates}\n",
    "for i in arr_states:\n",
    "    dict[i] = [0]*len(dates)\n",
    "dft_cases = pd.DataFrame(dict)\n",
    "dft_deaths = pd.DataFrame(dict)\n"
   ]
  },
  {
   "cell_type": "code",
   "execution_count": 6,
   "metadata": {
    "execution": {
     "iopub.execute_input": "2020-09-03T05:20:37.715396Z",
     "iopub.status.busy": "2020-09-03T05:20:37.714152Z",
     "iopub.status.idle": "2020-09-03T05:20:38.948033Z",
     "shell.execute_reply": "2020-09-03T05:20:38.948601Z"
    },
    "papermill": {
     "duration": 1.258911,
     "end_time": "2020-09-03T05:20:38.948787",
     "exception": false,
     "start_time": "2020-09-03T05:20:37.689876",
     "status": "completed"
    },
    "tags": []
   },
   "outputs": [],
   "source": [
    "#hide\n",
    "for i in range(len(dates)):\n",
    "    df1_deaths = df_deaths1.get_group(dates[i])\n",
    "    for j in range(len(df1_deaths.index)):\n",
    "        if df1_deaths.iloc[j,1] in arr_states:\n",
    "            dft_deaths.loc[i,df1_deaths.iloc[j,1]] = df1_deaths.iloc[j,2]\n",
    "dft_deaths = dft_deaths.set_index('states')"
   ]
  },
  {
   "cell_type": "code",
   "execution_count": 7,
   "metadata": {
    "execution": {
     "iopub.execute_input": "2020-09-03T05:20:38.990866Z",
     "iopub.status.busy": "2020-09-03T05:20:38.990185Z",
     "iopub.status.idle": "2020-09-03T05:20:40.209822Z",
     "shell.execute_reply": "2020-09-03T05:20:40.210361Z"
    },
    "papermill": {
     "duration": 1.243911,
     "end_time": "2020-09-03T05:20:40.210544",
     "exception": false,
     "start_time": "2020-09-03T05:20:38.966633",
     "status": "completed"
    },
    "tags": []
   },
   "outputs": [],
   "source": [
    "#hide\n",
    "for i in range(len(dates)):\n",
    "    df1_cases = df_cases1.get_group(dates[i])\n",
    "    for j in range(len(df1_cases.index)):\n",
    "        if df1_cases.iloc[j,1] in arr_states:\n",
    "            dft_cases.loc[i,df1_cases.iloc[j,1]] = df1_cases.iloc[j,2]\n",
    "dft_cases = dft_cases.set_index('states')"
   ]
  },
  {
   "cell_type": "code",
   "execution_count": 8,
   "metadata": {
    "execution": {
     "iopub.execute_input": "2020-09-03T05:20:40.251916Z",
     "iopub.status.busy": "2020-09-03T05:20:40.251255Z",
     "iopub.status.idle": "2020-09-03T05:20:40.255662Z",
     "shell.execute_reply": "2020-09-03T05:20:40.255129Z"
    },
    "papermill": {
     "duration": 0.02765,
     "end_time": "2020-09-03T05:20:40.255808",
     "exception": false,
     "start_time": "2020-09-03T05:20:40.228158",
     "status": "completed"
    },
    "tags": []
   },
   "outputs": [],
   "source": [
    "#hide\n",
    "dft_cases = dft_cases.T\n",
    "dft_deaths = dft_deaths.T\n",
    "dt_today = dates[-1]\n",
    "dt_yday = dates[-2]"
   ]
  },
  {
   "cell_type": "code",
   "execution_count": 9,
   "metadata": {
    "execution": {
     "iopub.execute_input": "2020-09-03T05:20:40.300960Z",
     "iopub.status.busy": "2020-09-03T05:20:40.299486Z",
     "iopub.status.idle": "2020-09-03T05:20:40.301724Z",
     "shell.execute_reply": "2020-09-03T05:20:40.302273Z"
    },
    "papermill": {
     "duration": 0.029192,
     "end_time": "2020-09-03T05:20:40.302448",
     "exception": false,
     "start_time": "2020-09-03T05:20:40.273256",
     "status": "completed"
    },
    "tags": []
   },
   "outputs": [],
   "source": [
    "#hide\n",
    "dft_cases = dft_cases.reset_index()\n",
    "dft_deaths = dft_deaths.reset_index()\n",
    "dft_cases = dft_cases.rename(columns = {'index':'state'})\n",
    "dft_deaths = dft_deaths.rename(columns = {'index':'state'})"
   ]
  },
  {
   "cell_type": "code",
   "execution_count": 10,
   "metadata": {
    "execution": {
     "iopub.execute_input": "2020-09-03T05:20:40.351249Z",
     "iopub.status.busy": "2020-09-03T05:20:40.350532Z",
     "iopub.status.idle": "2020-09-03T05:20:40.352328Z",
     "shell.execute_reply": "2020-09-03T05:20:40.352893Z"
    },
    "papermill": {
     "duration": 0.032472,
     "end_time": "2020-09-03T05:20:40.353070",
     "exception": false,
     "start_time": "2020-09-03T05:20:40.320598",
     "status": "completed"
    },
    "tags": []
   },
   "outputs": [],
   "source": [
    "#hide\n",
    "dfc_cases = dft_cases.groupby('state')[dt_today].sum()\n",
    "dfc_deaths = dft_deaths.groupby('state')[dt_today].sum()\n",
    "dfp_cases = dft_cases.groupby('state')[dt_yday].sum()\n",
    "dfp_deaths = dft_deaths.groupby('state')[dt_yday].sum()"
   ]
  },
  {
   "cell_type": "code",
   "execution_count": 11,
   "metadata": {
    "execution": {
     "iopub.execute_input": "2020-09-03T05:20:40.403245Z",
     "iopub.status.busy": "2020-09-03T05:20:40.402523Z",
     "iopub.status.idle": "2020-09-03T05:20:40.411698Z",
     "shell.execute_reply": "2020-09-03T05:20:40.411114Z"
    },
    "papermill": {
     "duration": 0.04102,
     "end_time": "2020-09-03T05:20:40.411848",
     "exception": false,
     "start_time": "2020-09-03T05:20:40.370828",
     "status": "completed"
    },
    "tags": []
   },
   "outputs": [
    {
     "data": {
      "text/html": [
       "<div>\n",
       "<style scoped>\n",
       "    .dataframe tbody tr th:only-of-type {\n",
       "        vertical-align: middle;\n",
       "    }\n",
       "\n",
       "    .dataframe tbody tr th {\n",
       "        vertical-align: top;\n",
       "    }\n",
       "\n",
       "    .dataframe thead th {\n",
       "        text-align: right;\n",
       "    }\n",
       "</style>\n",
       "<table border=\"1\" class=\"dataframe\">\n",
       "  <thead>\n",
       "    <tr style=\"text-align: right;\">\n",
       "      <th></th>\n",
       "      <th>states</th>\n",
       "      <th>Cases</th>\n",
       "      <th>Deaths</th>\n",
       "      <th>PCases</th>\n",
       "      <th>PDeaths</th>\n",
       "    </tr>\n",
       "  </thead>\n",
       "  <tbody>\n",
       "    <tr>\n",
       "      <th>0</th>\n",
       "      <td>Maharashtra</td>\n",
       "      <td>825739</td>\n",
       "      <td>25195</td>\n",
       "      <td>825739</td>\n",
       "      <td>25195</td>\n",
       "    </tr>\n",
       "    <tr>\n",
       "      <th>1</th>\n",
       "      <td>Andhra Pradesh</td>\n",
       "      <td>455531</td>\n",
       "      <td>4125</td>\n",
       "      <td>455531</td>\n",
       "      <td>4125</td>\n",
       "    </tr>\n",
       "    <tr>\n",
       "      <th>2</th>\n",
       "      <td>Tamil Nadu</td>\n",
       "      <td>439959</td>\n",
       "      <td>7516</td>\n",
       "      <td>439959</td>\n",
       "      <td>7516</td>\n",
       "    </tr>\n",
       "    <tr>\n",
       "      <th>3</th>\n",
       "      <td>Karnataka</td>\n",
       "      <td>361341</td>\n",
       "      <td>5950</td>\n",
       "      <td>361341</td>\n",
       "      <td>5950</td>\n",
       "    </tr>\n",
       "    <tr>\n",
       "      <th>4</th>\n",
       "      <td>Uttar Pradesh</td>\n",
       "      <td>241439</td>\n",
       "      <td>3616</td>\n",
       "      <td>241439</td>\n",
       "      <td>3616</td>\n",
       "    </tr>\n",
       "  </tbody>\n",
       "</table>\n",
       "</div>"
      ],
      "text/plain": [
       "           states   Cases  Deaths  PCases  PDeaths\n",
       "0     Maharashtra  825739   25195  825739    25195\n",
       "1  Andhra Pradesh  455531    4125  455531     4125\n",
       "2      Tamil Nadu  439959    7516  439959     7516\n",
       "3       Karnataka  361341    5950  361341     5950\n",
       "4   Uttar Pradesh  241439    3616  241439     3616"
      ]
     },
     "execution_count": 11,
     "metadata": {},
     "output_type": "execute_result"
    }
   ],
   "source": [
    "#hide\n",
    "df_table = pd.DataFrame({'states': dfc_cases.index, 'Cases': dfc_cases.values, 'Deaths': dfc_deaths.values, 'PCases': dfp_cases.values, 'PDeaths': dfp_deaths.values}).set_index('states')\n",
    "df_table = df_table.sort_values(by = ['Cases','Deaths'], ascending = [False, False])\n",
    "df_table = df_table.reset_index()\n",
    "df_table.head()"
   ]
  },
  {
   "cell_type": "code",
   "execution_count": 12,
   "metadata": {
    "execution": {
     "iopub.execute_input": "2020-09-03T05:20:40.453959Z",
     "iopub.status.busy": "2020-09-03T05:20:40.453236Z",
     "iopub.status.idle": "2020-09-03T05:20:40.463012Z",
     "shell.execute_reply": "2020-09-03T05:20:40.462418Z"
    },
    "papermill": {
     "duration": 0.03336,
     "end_time": "2020-09-03T05:20:40.463165",
     "exception": false,
     "start_time": "2020-09-03T05:20:40.429805",
     "status": "completed"
    },
    "tags": []
   },
   "outputs": [],
   "source": [
    "#hide\n",
    "for c in 'Cases, Deaths'.split(', '):\n",
    "    df_table[f'{c} (+)'] = (df_table[c] - df_table[f'P{c}']).clip(0)\n",
    "df_table['Fatality Rate'] = (100* df_table['Deaths']/ df_table['Cases']).round(2)"
   ]
  },
  {
   "cell_type": "code",
   "execution_count": 13,
   "metadata": {
    "execution": {
     "iopub.execute_input": "2020-09-03T05:20:40.511435Z",
     "iopub.status.busy": "2020-09-03T05:20:40.510740Z",
     "iopub.status.idle": "2020-09-03T05:20:40.513578Z",
     "shell.execute_reply": "2020-09-03T05:20:40.514167Z"
    },
    "papermill": {
     "duration": 0.033219,
     "end_time": "2020-09-03T05:20:40.514339",
     "exception": false,
     "start_time": "2020-09-03T05:20:40.481120",
     "status": "completed"
    },
    "tags": []
   },
   "outputs": [
    {
     "data": {
      "text/html": [
       "<div>\n",
       "<style scoped>\n",
       "    .dataframe tbody tr th:only-of-type {\n",
       "        vertical-align: middle;\n",
       "    }\n",
       "\n",
       "    .dataframe tbody tr th {\n",
       "        vertical-align: top;\n",
       "    }\n",
       "\n",
       "    .dataframe thead th {\n",
       "        text-align: right;\n",
       "    }\n",
       "</style>\n",
       "<table border=\"1\" class=\"dataframe\">\n",
       "  <thead>\n",
       "    <tr style=\"text-align: right;\">\n",
       "      <th></th>\n",
       "      <th>states</th>\n",
       "      <th>Cases</th>\n",
       "      <th>Deaths</th>\n",
       "      <th>PCases</th>\n",
       "      <th>PDeaths</th>\n",
       "      <th>Cases (+)</th>\n",
       "      <th>Deaths (+)</th>\n",
       "      <th>Fatality Rate</th>\n",
       "    </tr>\n",
       "  </thead>\n",
       "  <tbody>\n",
       "    <tr>\n",
       "      <th>0</th>\n",
       "      <td>Maharashtra</td>\n",
       "      <td>825739</td>\n",
       "      <td>25195</td>\n",
       "      <td>825739</td>\n",
       "      <td>25195</td>\n",
       "      <td>0</td>\n",
       "      <td>0</td>\n",
       "      <td>3.05</td>\n",
       "    </tr>\n",
       "    <tr>\n",
       "      <th>1</th>\n",
       "      <td>Andhra Pradesh</td>\n",
       "      <td>455531</td>\n",
       "      <td>4125</td>\n",
       "      <td>455531</td>\n",
       "      <td>4125</td>\n",
       "      <td>0</td>\n",
       "      <td>0</td>\n",
       "      <td>0.91</td>\n",
       "    </tr>\n",
       "    <tr>\n",
       "      <th>2</th>\n",
       "      <td>Tamil Nadu</td>\n",
       "      <td>439959</td>\n",
       "      <td>7516</td>\n",
       "      <td>439959</td>\n",
       "      <td>7516</td>\n",
       "      <td>0</td>\n",
       "      <td>0</td>\n",
       "      <td>1.71</td>\n",
       "    </tr>\n",
       "    <tr>\n",
       "      <th>3</th>\n",
       "      <td>Karnataka</td>\n",
       "      <td>361341</td>\n",
       "      <td>5950</td>\n",
       "      <td>361341</td>\n",
       "      <td>5950</td>\n",
       "      <td>0</td>\n",
       "      <td>0</td>\n",
       "      <td>1.65</td>\n",
       "    </tr>\n",
       "    <tr>\n",
       "      <th>4</th>\n",
       "      <td>Uttar Pradesh</td>\n",
       "      <td>241439</td>\n",
       "      <td>3616</td>\n",
       "      <td>241439</td>\n",
       "      <td>3616</td>\n",
       "      <td>0</td>\n",
       "      <td>0</td>\n",
       "      <td>1.50</td>\n",
       "    </tr>\n",
       "  </tbody>\n",
       "</table>\n",
       "</div>"
      ],
      "text/plain": [
       "           states   Cases  Deaths  PCases  PDeaths  Cases (+)  Deaths (+)  \\\n",
       "0     Maharashtra  825739   25195  825739    25195          0           0   \n",
       "1  Andhra Pradesh  455531    4125  455531     4125          0           0   \n",
       "2      Tamil Nadu  439959    7516  439959     7516          0           0   \n",
       "3       Karnataka  361341    5950  361341     5950          0           0   \n",
       "4   Uttar Pradesh  241439    3616  241439     3616          0           0   \n",
       "\n",
       "   Fatality Rate  \n",
       "0           3.05  \n",
       "1           0.91  \n",
       "2           1.71  \n",
       "3           1.65  \n",
       "4           1.50  "
      ]
     },
     "execution_count": 13,
     "metadata": {},
     "output_type": "execute_result"
    }
   ],
   "source": [
    "#hide\n",
    "df_table.head()"
   ]
  },
  {
   "cell_type": "code",
   "execution_count": 14,
   "metadata": {
    "execution": {
     "iopub.execute_input": "2020-09-03T05:20:40.557633Z",
     "iopub.status.busy": "2020-09-03T05:20:40.556821Z",
     "iopub.status.idle": "2020-09-03T05:20:40.575718Z",
     "shell.execute_reply": "2020-09-03T05:20:40.575001Z"
    },
    "papermill": {
     "duration": 0.04339,
     "end_time": "2020-09-03T05:20:40.575874",
     "exception": false,
     "start_time": "2020-09-03T05:20:40.532484",
     "status": "completed"
    },
    "tags": []
   },
   "outputs": [
    {
     "data": {
      "text/plain": [
       "{'updated': '2020-09-03',\n",
       " 'since': '2020-09-02',\n",
       " 'Cases': 3851805,\n",
       " 'PCases': 3848968,\n",
       " 'Deaths': 67496,\n",
       " 'PDeaths': 67486,\n",
       " 'Cases (+)': 2837,\n",
       " 'Deaths (+)': 10}"
      ]
     },
     "execution_count": 14,
     "metadata": {},
     "output_type": "execute_result"
    }
   ],
   "source": [
    "#hide\n",
    "summary = {'updated':dates[-1], 'since':dates[-2]}\n",
    "list_names = ['Cases', 'PCases', 'Deaths', 'PDeaths', 'Cases (+)', 'Deaths (+)']\n",
    "for name in list_names:\n",
    "    summary[name] = df_table.sum()[name]\n",
    "summary"
   ]
  },
  {
   "cell_type": "code",
   "execution_count": 15,
   "metadata": {
    "execution": {
     "iopub.execute_input": "2020-09-03T05:20:40.619522Z",
     "iopub.status.busy": "2020-09-03T05:20:40.618826Z",
     "iopub.status.idle": "2020-09-03T05:20:40.621203Z",
     "shell.execute_reply": "2020-09-03T05:20:40.621749Z"
    },
    "papermill": {
     "duration": 0.026807,
     "end_time": "2020-09-03T05:20:40.621918",
     "exception": false,
     "start_time": "2020-09-03T05:20:40.595111",
     "status": "completed"
    },
    "tags": []
   },
   "outputs": [],
   "source": [
    "#hide\n",
    "overview = '''\n",
    "<!-- #######  HTML!! #########-->\n",
    "<h1 style=\"color: #5e9ca0; text-align: center;\">India</h1>\n",
    "<p style=\"text-align: center;\">Last update: <strong>{update}</strong></p>\n",
    "<p style=\"text-align: center;\">Confirmed cases:</p>\n",
    "<p style=\"text-align: center;font-size:24px;\">{cases} (<span style=\"color: #ff0000;\">+{new}</span>)</p>\n",
    "<p style=\"text-align: center;\">Confirmed deaths:</p>\n",
    "<p style=\"text-align: center;font-size:24px;\">{deaths} (<span style=\"color: #ff0000;\">+{dnew}</span>)</p>\n",
    "'''"
   ]
  },
  {
   "cell_type": "code",
   "execution_count": 16,
   "metadata": {
    "execution": {
     "iopub.execute_input": "2020-09-03T05:20:40.665721Z",
     "iopub.status.busy": "2020-09-03T05:20:40.664997Z",
     "iopub.status.idle": "2020-09-03T05:20:40.668305Z",
     "shell.execute_reply": "2020-09-03T05:20:40.668936Z"
    },
    "papermill": {
     "duration": 0.028737,
     "end_time": "2020-09-03T05:20:40.669108",
     "exception": false,
     "start_time": "2020-09-03T05:20:40.640371",
     "status": "completed"
    },
    "tags": []
   },
   "outputs": [
    {
     "data": {
      "text/html": [
       "\n",
       "<!-- #######  HTML!! #########-->\n",
       "<h1 style=\"color: #5e9ca0; text-align: center;\">India</h1>\n",
       "<p style=\"text-align: center;\">Last update: <strong>2020-09-03</strong></p>\n",
       "<p style=\"text-align: center;\">Confirmed cases:</p>\n",
       "<p style=\"text-align: center;font-size:24px;\">3851805 (<span style=\"color: #ff0000;\">+2837</span>)</p>\n",
       "<p style=\"text-align: center;\">Confirmed deaths:</p>\n",
       "<p style=\"text-align: center;font-size:24px;\">67496 (<span style=\"color: #ff0000;\">+10</span>)</p>\n"
      ],
      "text/plain": [
       "<IPython.core.display.HTML object>"
      ]
     },
     "metadata": {},
     "output_type": "display_data"
    }
   ],
   "source": [
    "#hide_input\n",
    "update = summary['updated']\n",
    "cases = summary['Cases']\n",
    "new = summary['Cases (+)']\n",
    "deaths = summary['Deaths']\n",
    "dnew = summary['Deaths (+)']\n",
    "\n",
    "html = HTML(overview.format(update=update, cases=cases,new=new,deaths=deaths,dnew=dnew))\n",
    "\n",
    "display(html)"
   ]
  },
  {
   "cell_type": "code",
   "execution_count": 17,
   "metadata": {
    "execution": {
     "iopub.execute_input": "2020-09-03T05:20:40.716874Z",
     "iopub.status.busy": "2020-09-03T05:20:40.716178Z",
     "iopub.status.idle": "2020-09-03T05:20:40.721679Z",
     "shell.execute_reply": "2020-09-03T05:20:40.721080Z"
    },
    "papermill": {
     "duration": 0.033714,
     "end_time": "2020-09-03T05:20:40.721835",
     "exception": false,
     "start_time": "2020-09-03T05:20:40.688121",
     "status": "completed"
    },
    "tags": []
   },
   "outputs": [],
   "source": [
    "#hide\n",
    "dt_cols = list(dft_cases.columns[1:])\n",
    "dft_ct_new_cases = dft_cases.groupby('state')[dt_cols].sum().diff(axis=1).fillna(0).astype(int)\n",
    "dft_ct_new_cases.sort_values(by = dates[-1], ascending = False,inplace = True)"
   ]
  },
  {
   "cell_type": "code",
   "execution_count": 18,
   "metadata": {
    "execution": {
     "iopub.execute_input": "2020-09-03T05:20:40.781041Z",
     "iopub.status.busy": "2020-09-03T05:20:40.780324Z",
     "iopub.status.idle": "2020-09-03T05:20:40.783176Z",
     "shell.execute_reply": "2020-09-03T05:20:40.783765Z"
    },
    "papermill": {
     "duration": 0.042708,
     "end_time": "2020-09-03T05:20:40.783941",
     "exception": false,
     "start_time": "2020-09-03T05:20:40.741233",
     "status": "completed"
    },
    "tags": []
   },
   "outputs": [
    {
     "data": {
      "text/html": [
       "<div>\n",
       "<style scoped>\n",
       "    .dataframe tbody tr th:only-of-type {\n",
       "        vertical-align: middle;\n",
       "    }\n",
       "\n",
       "    .dataframe tbody tr th {\n",
       "        vertical-align: top;\n",
       "    }\n",
       "\n",
       "    .dataframe thead th {\n",
       "        text-align: right;\n",
       "    }\n",
       "</style>\n",
       "<table border=\"1\" class=\"dataframe\">\n",
       "  <thead>\n",
       "    <tr style=\"text-align: right;\">\n",
       "      <th>states</th>\n",
       "      <th>2020-07-01</th>\n",
       "      <th>2020-07-02</th>\n",
       "      <th>2020-07-03</th>\n",
       "      <th>2020-07-04</th>\n",
       "      <th>2020-07-05</th>\n",
       "      <th>2020-07-06</th>\n",
       "      <th>2020-07-07</th>\n",
       "      <th>2020-07-08</th>\n",
       "      <th>2020-07-09</th>\n",
       "      <th>2020-07-10</th>\n",
       "      <th>...</th>\n",
       "      <th>2020-08-25</th>\n",
       "      <th>2020-08-26</th>\n",
       "      <th>2020-08-27</th>\n",
       "      <th>2020-08-28</th>\n",
       "      <th>2020-08-29</th>\n",
       "      <th>2020-08-30</th>\n",
       "      <th>2020-08-31</th>\n",
       "      <th>2020-09-01</th>\n",
       "      <th>2020-09-02</th>\n",
       "      <th>2020-09-03</th>\n",
       "    </tr>\n",
       "    <tr>\n",
       "      <th>state</th>\n",
       "      <th></th>\n",
       "      <th></th>\n",
       "      <th></th>\n",
       "      <th></th>\n",
       "      <th></th>\n",
       "      <th></th>\n",
       "      <th></th>\n",
       "      <th></th>\n",
       "      <th></th>\n",
       "      <th></th>\n",
       "      <th></th>\n",
       "      <th></th>\n",
       "      <th></th>\n",
       "      <th></th>\n",
       "      <th></th>\n",
       "      <th></th>\n",
       "      <th></th>\n",
       "      <th></th>\n",
       "      <th></th>\n",
       "      <th></th>\n",
       "      <th></th>\n",
       "    </tr>\n",
       "  </thead>\n",
       "  <tbody>\n",
       "    <tr>\n",
       "      <th>Telangana</th>\n",
       "      <td>0</td>\n",
       "      <td>1213</td>\n",
       "      <td>1892</td>\n",
       "      <td>1850</td>\n",
       "      <td>1590</td>\n",
       "      <td>1831</td>\n",
       "      <td>1879</td>\n",
       "      <td>1924</td>\n",
       "      <td>1410</td>\n",
       "      <td>1278</td>\n",
       "      <td>...</td>\n",
       "      <td>2579</td>\n",
       "      <td>3018</td>\n",
       "      <td>2795</td>\n",
       "      <td>2932</td>\n",
       "      <td>2751</td>\n",
       "      <td>2924</td>\n",
       "      <td>1873</td>\n",
       "      <td>2734</td>\n",
       "      <td>2892</td>\n",
       "      <td>2817</td>\n",
       "    </tr>\n",
       "    <tr>\n",
       "      <th>Mizoram</th>\n",
       "      <td>0</td>\n",
       "      <td>2</td>\n",
       "      <td>0</td>\n",
       "      <td>2</td>\n",
       "      <td>22</td>\n",
       "      <td>11</td>\n",
       "      <td>1</td>\n",
       "      <td>5</td>\n",
       "      <td>0</td>\n",
       "      <td>23</td>\n",
       "      <td>...</td>\n",
       "      <td>35</td>\n",
       "      <td>14</td>\n",
       "      <td>7</td>\n",
       "      <td>29</td>\n",
       "      <td>0</td>\n",
       "      <td>5</td>\n",
       "      <td>3</td>\n",
       "      <td>1</td>\n",
       "      <td>8</td>\n",
       "      <td>20</td>\n",
       "    </tr>\n",
       "    <tr>\n",
       "      <th>Andaman and Nicobar Islands</th>\n",
       "      <td>0</td>\n",
       "      <td>9</td>\n",
       "      <td>7</td>\n",
       "      <td>3</td>\n",
       "      <td>6</td>\n",
       "      <td>16</td>\n",
       "      <td>6</td>\n",
       "      <td>2</td>\n",
       "      <td>7</td>\n",
       "      <td>0</td>\n",
       "      <td>...</td>\n",
       "      <td>41</td>\n",
       "      <td>40</td>\n",
       "      <td>33</td>\n",
       "      <td>32</td>\n",
       "      <td>31</td>\n",
       "      <td>23</td>\n",
       "      <td>28</td>\n",
       "      <td>28</td>\n",
       "      <td>26</td>\n",
       "      <td>0</td>\n",
       "    </tr>\n",
       "    <tr>\n",
       "      <th>Puducherry</th>\n",
       "      <td>0</td>\n",
       "      <td>63</td>\n",
       "      <td>22</td>\n",
       "      <td>80</td>\n",
       "      <td>42</td>\n",
       "      <td>65</td>\n",
       "      <td>30</td>\n",
       "      <td>110</td>\n",
       "      <td>49</td>\n",
       "      <td>72</td>\n",
       "      <td>...</td>\n",
       "      <td>567</td>\n",
       "      <td>504</td>\n",
       "      <td>504</td>\n",
       "      <td>590</td>\n",
       "      <td>532</td>\n",
       "      <td>571</td>\n",
       "      <td>284</td>\n",
       "      <td>355</td>\n",
       "      <td>391</td>\n",
       "      <td>0</td>\n",
       "    </tr>\n",
       "    <tr>\n",
       "      <th>Maharashtra</th>\n",
       "      <td>0</td>\n",
       "      <td>6328</td>\n",
       "      <td>6364</td>\n",
       "      <td>7074</td>\n",
       "      <td>6555</td>\n",
       "      <td>5368</td>\n",
       "      <td>5134</td>\n",
       "      <td>6603</td>\n",
       "      <td>6875</td>\n",
       "      <td>7862</td>\n",
       "      <td>...</td>\n",
       "      <td>10425</td>\n",
       "      <td>14888</td>\n",
       "      <td>14857</td>\n",
       "      <td>14427</td>\n",
       "      <td>16286</td>\n",
       "      <td>16408</td>\n",
       "      <td>11852</td>\n",
       "      <td>15765</td>\n",
       "      <td>17433</td>\n",
       "      <td>0</td>\n",
       "    </tr>\n",
       "  </tbody>\n",
       "</table>\n",
       "<p>5 rows × 65 columns</p>\n",
       "</div>"
      ],
      "text/plain": [
       "states                       2020-07-01  2020-07-02  2020-07-03  2020-07-04  \\\n",
       "state                                                                         \n",
       "Telangana                             0        1213        1892        1850   \n",
       "Mizoram                               0           2           0           2   \n",
       "Andaman and Nicobar Islands           0           9           7           3   \n",
       "Puducherry                            0          63          22          80   \n",
       "Maharashtra                           0        6328        6364        7074   \n",
       "\n",
       "states                       2020-07-05  2020-07-06  2020-07-07  2020-07-08  \\\n",
       "state                                                                         \n",
       "Telangana                          1590        1831        1879        1924   \n",
       "Mizoram                              22          11           1           5   \n",
       "Andaman and Nicobar Islands           6          16           6           2   \n",
       "Puducherry                           42          65          30         110   \n",
       "Maharashtra                        6555        5368        5134        6603   \n",
       "\n",
       "states                       2020-07-09  2020-07-10  ...  2020-08-25  \\\n",
       "state                                                ...               \n",
       "Telangana                          1410        1278  ...        2579   \n",
       "Mizoram                               0          23  ...          35   \n",
       "Andaman and Nicobar Islands           7           0  ...          41   \n",
       "Puducherry                           49          72  ...         567   \n",
       "Maharashtra                        6875        7862  ...       10425   \n",
       "\n",
       "states                       2020-08-26  2020-08-27  2020-08-28  2020-08-29  \\\n",
       "state                                                                         \n",
       "Telangana                          3018        2795        2932        2751   \n",
       "Mizoram                              14           7          29           0   \n",
       "Andaman and Nicobar Islands          40          33          32          31   \n",
       "Puducherry                          504         504         590         532   \n",
       "Maharashtra                       14888       14857       14427       16286   \n",
       "\n",
       "states                       2020-08-30  2020-08-31  2020-09-01  2020-09-02  \\\n",
       "state                                                                         \n",
       "Telangana                          2924        1873        2734        2892   \n",
       "Mizoram                               5           3           1           8   \n",
       "Andaman and Nicobar Islands          23          28          28          26   \n",
       "Puducherry                          571         284         355         391   \n",
       "Maharashtra                       16408       11852       15765       17433   \n",
       "\n",
       "states                       2020-09-03  \n",
       "state                                    \n",
       "Telangana                          2817  \n",
       "Mizoram                              20  \n",
       "Andaman and Nicobar Islands           0  \n",
       "Puducherry                            0  \n",
       "Maharashtra                           0  \n",
       "\n",
       "[5 rows x 65 columns]"
      ]
     },
     "execution_count": 18,
     "metadata": {},
     "output_type": "execute_result"
    }
   ],
   "source": [
    "#hide\n",
    "dft_ct_new_cases.head()"
   ]
  },
  {
   "cell_type": "code",
   "execution_count": 19,
   "metadata": {
    "execution": {
     "iopub.execute_input": "2020-09-03T05:20:40.847704Z",
     "iopub.status.busy": "2020-09-03T05:20:40.832020Z",
     "iopub.status.idle": "2020-09-03T05:20:44.811020Z",
     "shell.execute_reply": "2020-09-03T05:20:44.811601Z"
    },
    "papermill": {
     "duration": 4.007947,
     "end_time": "2020-09-03T05:20:44.811776",
     "exception": false,
     "start_time": "2020-09-03T05:20:40.803829",
     "status": "completed"
    },
    "tags": []
   },
   "outputs": [
    {
     "data": {
      "image/png": "[encoded data removed]",
      "text/plain": [
       "<Figure size 1296x2016 with 11 Axes>"
      ]
     },
     "metadata": {
      "needs_background": "light"
     },
     "output_type": "display_data"
    }
   ],
   "source": [
    "#hide_input\n",
    "df = dft_ct_new_cases.copy()\n",
    "df.loc['Total'] = df.sum()\n",
    "n = 5\n",
    "ax = []\n",
    "fig = plt.figure(figsize = (18,28))\n",
    "gs = fig.add_gridspec(n+2, 5)\n",
    "# gs = fig.add_gridspec(2, 3)\n",
    "ax1 = fig.add_subplot(gs[0, :])\n",
    "ef = df.loc['Total'].rename_axis('date').reset_index()\n",
    "ef['date'] = ef['date'].astype('datetime64[ns]')\n",
    "ax1.bar(ef.date,ef.Total,alpha=0.3,color='#007acc')\n",
    "ax1.plot(ef.date,ef.Total , marker=\"o\", color='#007acc')\n",
    "ax1.xaxis.set_major_locator(mdates.WeekdayLocator())\n",
    "ax1.xaxis.set_major_formatter(mdates.DateFormatter('%b %d'))\n",
    "ax1.text(0.02, 0.5,'India daily case count', transform = ax1.transAxes, fontsize=25);\n",
    "ax1.spines['right'].set_visible(False)\n",
    "ax1.spines['top'].set_visible(False)\n",
    "\n",
    "ax2 = fig.add_subplot(gs[1,0])\n",
    "ef = df.loc['Maharashtra'].rename_axis('date').reset_index()\n",
    "ef['date'] = ef['date'].astype('datetime64[ns]')\n",
    "\n",
    "ax2.bar(ef.date, ef.Maharashtra,color = '#007acc',alpha=0.5)\n",
    "ax2.xaxis.set_major_locator(mdates.WeekdayLocator())\n",
    "ax2.xaxis.set_major_formatter(mdates.DateFormatter('%b %d'))\n",
    "ax2.set_xticks(ax2.get_xticks()[::3])\n",
    "maxyval = ef.Maharashtra.max()\n",
    "ax2.set_ylim([0,maxyval])\n",
    "ax2.text(0.05, 0.9,'Maharashtra', transform = ax2.transAxes, fontsize=20);\n",
    "ax2.spines['right'].set_visible(False)\n",
    "ax2.spines['top'].set_visible(False)\n",
    "\n",
    "\n",
    "ax3 = fig.add_subplot(gs[1,1])\n",
    "ef = df.loc['Tamil Nadu'].rename_axis('date').reset_index()\n",
    "ef['date'] = ef['date'].astype('datetime64[ns]')\n",
    "ax3.bar(ef.date, ef['Tamil Nadu'],color = '#007acc',alpha=0.5,)\n",
    "ax3.xaxis.set_major_locator(mdates.WeekdayLocator())\n",
    "ax3.xaxis.set_major_formatter(mdates.DateFormatter('%b %d'))\n",
    "ax3.set_xticks(ax3.get_xticks()[::3])\n",
    "ax3.text(0.05, 0.9,'Tamil Nadu', transform = ax3.transAxes, fontsize=20);\n",
    "ax3.spines['right'].set_visible(False)\n",
    "ax3.spines['top'].set_visible(False)\n",
    "\n",
    "ax5 = fig.add_subplot(gs[1,3])\n",
    "ef = df.loc['Telangana'].rename_axis('date').reset_index()\n",
    "ef['date'] = ef['date'].astype('datetime64[ns]')\n",
    "ax5.bar(ef.date, ef['Telangana'],color = '#007acc',alpha=0.5,)\n",
    "ax5.xaxis.set_major_locator(mdates.WeekdayLocator())\n",
    "ax5.xaxis.set_major_formatter(mdates.DateFormatter('%b %d'))\n",
    "ax5.set_xticks(ax5.get_xticks()[::3])\n",
    "ax5.text(0.05, 0.9,'Telangana', transform = ax5.transAxes, fontsize=20);\n",
    "ax5.spines['right'].set_visible(False)\n",
    "ax5.spines['top'].set_visible(False)\n",
    "\n",
    "ax6 = fig.add_subplot(gs[1,4])\n",
    "ef = df.loc['Andhra Pradesh'].rename_axis('date').reset_index()\n",
    "ef['date'] = ef['date'].astype('datetime64[ns]')\n",
    "ax6.bar(ef.date, ef['Andhra Pradesh'],color = '#007acc',alpha=0.5,)\n",
    "ax6.xaxis.set_major_locator(mdates.WeekdayLocator())\n",
    "ax6.xaxis.set_major_formatter(mdates.DateFormatter('%b %d'))\n",
    "ax6.set_xticks(ax6.get_xticks()[::3])\n",
    "ax6.text(0.05, 1,'Andhra Pradesh', transform = ax6.transAxes, fontsize=20);\n",
    "ax6.spines['right'].set_visible(False)\n",
    "ax6.spines['top'].set_visible(False)\n",
    "\n",
    "ax4 = fig.add_subplot(gs[1,2])\n",
    "ef = df.loc['Delhi'].rename_axis('date').reset_index()\n",
    "ef['date'] = ef['date'].astype('datetime64[ns]')\n",
    "ax4.bar(ef.date, ef.Delhi,color = '#007acc',alpha=0.5)\n",
    "ax4.set_xticks([])\n",
    "ax4.xaxis.set_major_locator(mdates.WeekdayLocator())\n",
    "ax4.xaxis.set_major_formatter(mdates.DateFormatter('%b %d'))\n",
    "ax4.set_xticks(ax4.get_xticks()[::3])\n",
    "ax4.spines['right'].set_visible(False)\n",
    "ax4.spines['top'].set_visible(False)\n",
    "\n",
    "ax4.text(0.05, 1,'Delhi', transform = ax4.transAxes, fontsize=20)\n",
    "\n",
    "for i in range(n):\n",
    "    \n",
    "    ax.append(fig.add_subplot(gs[i+2,:]))\n",
    "    ef = df.iloc[i+3].rename_axis('date').reset_index()\n",
    "    ef['date'] = ef['date'].astype('datetime64[ns]')\n",
    "    ax[i].bar(ef.date,ef.iloc[:,-1],color = '#007acc',alpha=0.3)\n",
    "    ax[i].plot(ef.date,ef.iloc[:,-1],marker='o',color='#007acc')\n",
    "    ax[i].text(0.02,0.5,f'{ef.columns.values[-1]}',transform = ax[i].transAxes, fontsize = 20);\n",
    "    ax[i].xaxis.set_major_locator(mdates.WeekdayLocator())\n",
    "    ax[i].xaxis.set_major_formatter(mdates.DateFormatter('%b %d'))\n",
    "    ax[i].set_ylim([0,7000])\n",
    "    ax[i].spines['right'].set_visible(False)\n",
    "    ax[i].spines['top'].set_visible(False)\n",
    "plt.tight_layout()\n"
   ]
  },
  {
   "cell_type": "code",
   "execution_count": 20,
   "metadata": {
    "execution": {
     "iopub.execute_input": "2020-09-03T05:20:44.871263Z",
     "iopub.status.busy": "2020-09-03T05:20:44.870553Z",
     "iopub.status.idle": "2020-09-03T05:20:44.875874Z",
     "shell.execute_reply": "2020-09-03T05:20:44.875318Z"
    },
    "papermill": {
     "duration": 0.039552,
     "end_time": "2020-09-03T05:20:44.876028",
     "exception": false,
     "start_time": "2020-09-03T05:20:44.836476",
     "status": "completed"
    },
    "tags": []
   },
   "outputs": [
    {
     "name": "stdout",
     "output_type": "stream",
     "text": [
      "                                   states   Cases  Deaths  PCases  PDeaths  Cases (+)  Deaths (+)  Fatality Rate\n",
      "                              Maharashtra  825739   25195  825739    25195          0           0           3.05\n",
      "                           Andhra Pradesh  455531    4125  455531     4125          0           0           0.91\n",
      "                               Tamil Nadu  439959    7516  439959     7516          0           0           1.71\n",
      "                                Karnataka  361341    5950  361341     5950          0           0           1.65\n",
      "                            Uttar Pradesh  241439    3616  241439     3616          0           0           1.50\n",
      "                                    Delhi  179569    4481  179569     4481          0           0           2.50\n",
      "                              West Bengal  168697    3339  168697     3339          0           0           1.98\n",
      "                                    Bihar  140234     722  140234      722          0           0           0.51\n",
      "                                Telangana  133406     856  130589      846       2817          10           0.64\n",
      "                                    Assam  115280     323  115280      323          0           0           0.28\n",
      "                                   Odisha  109780     567  109780      567          0           0           0.52\n",
      "                                  Gujarat   99050    3046   99050     3046          0           0           3.08\n",
      "                                Rajasthan   84674    1081   84674     1081          0           0           1.28\n",
      "                                   Kerala   78073     306   78073      306          0           0           0.39\n",
      "                                  Haryana   68218     721   68218      721          0           0           1.06\n",
      "                           Madhya Pradesh   66914    1453   66914     1453          0           0           2.17\n",
      "                                   Punjab   56989    1618   56989     1618          0           0           2.84\n",
      "                                Jharkhand   44862     438   44862      438          0           0           0.98\n",
      "                        Jammu and Kashmir   38864     732   38864      732          0           0           1.88\n",
      "                             Chhattisgarh   35683     299   35683      299          0           0           0.84\n",
      "                              Uttarakhand   21234     291   21234      291          0           0           1.37\n",
      "                                      Goa   18642     204   18642      204          0           0           1.09\n",
      "                               Puducherry   15157     253   15157      253          0           0           1.67\n",
      "                                  Tripura   12719     118   12719      118          0           0           0.93\n",
      "                                  Manipur    6507      29    6507       29          0           0           0.45\n",
      "                         Himachal Pradesh    6416      42    6416       42          0           0           0.65\n",
      "                               Chandigarh    4789      59    4789       59          0           0           1.23\n",
      "                        Arunachal Pradesh    4360       7    4360        7          0           0           0.16\n",
      "                                 Nagaland    4017       8    4017        8          0           0           0.20\n",
      "              Andaman and Nicobar Islands    3186      47    3186       47          0           0           1.48\n",
      "                                   Ladakh    2785      35    2785       35          0           0           1.26\n",
      "                                Meghalaya    2517      13    2517       13          0           0           0.52\n",
      " Dadra and Nagar Haveli and Daman and Diu    2430       2    2430        2          0           0           0.08\n",
      "                                   Sikkim    1704       4    1704        4          0           0           0.23\n",
      "                                  Mizoram    1040       0    1020        0         20           0           0.00\n",
      "                              Lakshadweep       0       0       0        0          0           0            NaN\n"
     ]
    }
   ],
   "source": [
    "#hide_input\n",
    "print(df_table.to_string(index=False))"
   ]
  },
  {
   "cell_type": "code",
   "execution_count": null,
   "metadata": {
    "papermill": {
     "duration": 0.024402,
     "end_time": "2020-09-03T05:20:44.924277",
     "exception": false,
     "start_time": "2020-09-03T05:20:44.899875",
     "status": "completed"
    },
    "tags": []
   },
   "outputs": [],
   "source": []
  },
  {
   "cell_type": "code",
   "execution_count": null,
   "metadata": {
    "papermill": {
     "duration": 0.023903,
     "end_time": "2020-09-03T05:20:44.972470",
     "exception": false,
     "start_time": "2020-09-03T05:20:44.948567",
     "status": "completed"
    },
    "tags": []
   },
   "outputs": [],
   "source": []
  }
 ],
 "metadata": {
  "kernelspec": {
   "display_name": "Python 3",
   "language": "python",
   "name": "python3"
  },
  "language_info": {
   "codemirror_mode": {
    "name": "ipython",
    "version": 3
   },
   "file_extension": ".py",
   "mimetype": "text/x-python",
   "name": "python",
   "nbconvert_exporter": "python",
   "pygments_lexer": "ipython3",
   "version": "3.6.12"
  },
  "papermill": {
   "duration": 11.362846,
   "end_time": "2020-09-03T05:20:46.406730",
   "environment_variables": {},
   "exception": null,
   "input_path": "latest.ipynb",
   "output_path": "latest.ipynb",
   "parameters": {},
   "start_time": "2020-09-03T05:20:35.043884",
   "version": "2.1.2"
  }
 },
 "nbformat": 4,
 "nbformat_minor": 4
}