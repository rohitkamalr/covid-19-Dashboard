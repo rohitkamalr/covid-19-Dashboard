{
 "cells": [
  {
   "cell_type": "markdown",
   "metadata": {
    "papermill": {
     "duration": 0.020214,
     "end_time": "2020-08-21T05:18:07.757790",
     "exception": false,
     "start_time": "2020-08-21T05:18:07.737576",
     "status": "completed"
    },
    "tags": []
   },
   "source": [
    "# Latest COVID-19 India Matplotlib Overview"
   ]
  },
  {
   "cell_type": "code",
   "execution_count": 1,
   "metadata": {
    "execution": {
     "iopub.execute_input": "2020-08-21T05:18:07.794549Z",
     "iopub.status.busy": "2020-08-21T05:18:07.793620Z",
     "iopub.status.idle": "2020-08-21T05:18:08.346264Z",
     "shell.execute_reply": "2020-08-21T05:18:08.346750Z"
    },
    "papermill": {
     "duration": 0.574359,
     "end_time": "2020-08-21T05:18:08.346943",
     "exception": false,
     "start_time": "2020-08-21T05:18:07.772584",
     "status": "completed"
    },
    "tags": []
   },
   "outputs": [],
   "source": [
    "#hide\n",
    "import pandas as pd\n",
    "import numpy as np\n",
    "import requests\n",
    "import json\n",
    "import matplotlib.pyplot as plt\n",
    "import matplotlib.dates as mdates\n",
    "import matplotlib as mpl\n",
    "from IPython.core.display import display,HTML\n",
    "%matplotlib inline\n",
    "from datetime import date"
   ]
  },
  {
   "cell_type": "code",
   "execution_count": 2,
   "metadata": {
    "execution": {
     "iopub.execute_input": "2020-08-21T05:18:08.384775Z",
     "iopub.status.busy": "2020-08-21T05:18:08.384182Z",
     "iopub.status.idle": "2020-08-21T05:18:08.730590Z",
     "shell.execute_reply": "2020-08-21T05:18:08.730063Z"
    },
    "papermill": {
     "duration": 0.368909,
     "end_time": "2020-08-21T05:18:08.730713",
     "exception": false,
     "start_time": "2020-08-21T05:18:08.361804",
     "status": "completed"
    },
    "tags": []
   },
   "outputs": [],
   "source": [
    "#hide\n",
    "df  = pd.read_csv('https://api.covid19india.org/csv/latest/states.csv')\n",
    "df = df[['Date','State','Confirmed','Deceased']]\n",
    "df = df.rename(columns={'Confirmed':'Cases', \"Deceased\":'Deaths'})\n",
    "df_cases = df[[\"Date\",'State','Cases']]\n",
    "df_deaths = df[['Date','State','Deaths']]\n",
    "df_cases1 = df_cases.groupby('Date')\n",
    "df_deaths1= df_deaths.groupby('Date')"
   ]
  },
  {
   "cell_type": "code",
   "execution_count": 3,
   "metadata": {
    "execution": {
     "iopub.execute_input": "2020-08-21T05:18:08.766239Z",
     "iopub.status.busy": "2020-08-21T05:18:08.765696Z",
     "iopub.status.idle": "2020-08-21T05:18:08.783121Z",
     "shell.execute_reply": "2020-08-21T05:18:08.782675Z"
    },
    "papermill": {
     "duration": 0.037088,
     "end_time": "2020-08-21T05:18:08.783258",
     "exception": false,
     "start_time": "2020-08-21T05:18:08.746170",
     "status": "completed"
    },
    "tags": []
   },
   "outputs": [],
   "source": [
    "#hide\n",
    "df_snap = pd.read_csv('data/SnapshotCases-28-July.csv')\n",
    "arr_states = df_snap['states'].unique()\n",
    "arr_dates = df['Date'].unique()\n",
    "df_snap = df_snap.set_index('states')"
   ]
  },
  {
   "cell_type": "code",
   "execution_count": 4,
   "metadata": {
    "execution": {
     "iopub.execute_input": "2020-08-21T05:18:08.819149Z",
     "iopub.status.busy": "2020-08-21T05:18:08.818570Z",
     "iopub.status.idle": "2020-08-21T05:18:08.821527Z",
     "shell.execute_reply": "2020-08-21T05:18:08.821123Z"
    },
    "papermill": {
     "duration": 0.024136,
     "end_time": "2020-08-21T05:18:08.821643",
     "exception": false,
     "start_time": "2020-08-21T05:18:08.797507",
     "status": "completed"
    },
    "tags": []
   },
   "outputs": [
    {
     "data": {
      "text/plain": [
       "array(['Andaman and Nicobar Islands', 'Andhra Pradesh',\n",
       "       'Arunachal Pradesh', 'Assam', 'Bihar', 'Chandigarh',\n",
       "       'Dadra and Nagar Haveli and Daman and Diu', 'Delhi', 'Goa',\n",
       "       'Gujarat', 'Haryana', 'Himachal Pradesh', 'Jammu and Kashmir',\n",
       "       'Jharkhand', 'Karnataka', 'Kerala', 'Lakshadweep',\n",
       "       'Madhya Pradesh', 'Maharashtra', 'Manipur', 'Meghalaya', 'Mizoram',\n",
       "       'Nagaland', 'Odisha', 'Puducherry', 'Punjab', 'Rajasthan',\n",
       "       'Sikkim', 'Tamil Nadu', 'Telangana', 'Tripura', 'Uttar Pradesh',\n",
       "       'West Bengal', 'Chhattisgarh', 'Ladakh', 'Uttarakhand'],\n",
       "      dtype=object)"
      ]
     },
     "execution_count": 4,
     "metadata": {},
     "output_type": "execute_result"
    }
   ],
   "source": [
    "#hide\n",
    "arr_states[-9] = 'Puducherry'\n",
    "arr_states[-10] = 'Odisha'\n",
    "arr_states[6] = 'Dadra and Nagar Haveli and Daman and Diu'\n",
    "arr_states = np.append(arr_states,np.array(['Chhattisgarh','Ladakh','Uttarakhand']))\n",
    "arr_states"
   ]
  },
  {
   "cell_type": "code",
   "execution_count": 5,
   "metadata": {
    "execution": {
     "iopub.execute_input": "2020-08-21T05:18:08.860019Z",
     "iopub.status.busy": "2020-08-21T05:18:08.859481Z",
     "iopub.status.idle": "2020-08-21T05:18:08.865912Z",
     "shell.execute_reply": "2020-08-21T05:18:08.866384Z"
    },
    "papermill": {
     "duration": 0.030322,
     "end_time": "2020-08-21T05:18:08.866521",
     "exception": false,
     "start_time": "2020-08-21T05:18:08.836199",
     "status": "completed"
    },
    "tags": []
   },
   "outputs": [],
   "source": [
    "#hide\n",
    "dates = []\n",
    "for i in arr_dates:\n",
    "    if i>='2020-07-01':\n",
    "        dates.append(i)\n",
    "dict = {'states':dates}\n",
    "for i in arr_states:\n",
    "    dict[i] = [0]*len(dates)\n",
    "dft_cases = pd.DataFrame(dict)\n",
    "dft_deaths = pd.DataFrame(dict)\n"
   ]
  },
  {
   "cell_type": "code",
   "execution_count": 6,
   "metadata": {
    "execution": {
     "iopub.execute_input": "2020-08-21T05:18:08.900819Z",
     "iopub.status.busy": "2020-08-21T05:18:08.900342Z",
     "iopub.status.idle": "2020-08-21T05:18:09.585119Z",
     "shell.execute_reply": "2020-08-21T05:18:09.584538Z"
    },
    "papermill": {
     "duration": 0.704307,
     "end_time": "2020-08-21T05:18:09.585257",
     "exception": false,
     "start_time": "2020-08-21T05:18:08.880950",
     "status": "completed"
    },
    "tags": []
   },
   "outputs": [],
   "source": [
    "#hide\n",
    "for i in range(len(dates)):\n",
    "    df1_deaths = df_deaths1.get_group(dates[i])\n",
    "    for j in range(len(df1_deaths.index)):\n",
    "        if df1_deaths.iloc[j,1] in arr_states:\n",
    "            dft_deaths.loc[i,df1_deaths.iloc[j,1]] = df1_deaths.iloc[j,2]\n",
    "dft_deaths = dft_deaths.set_index('states')"
   ]
  },
  {
   "cell_type": "code",
   "execution_count": 7,
   "metadata": {
    "execution": {
     "iopub.execute_input": "2020-08-21T05:18:10.148559Z",
     "iopub.status.busy": "2020-08-21T05:18:10.147947Z",
     "iopub.status.idle": "2020-08-21T05:18:10.843842Z",
     "shell.execute_reply": "2020-08-21T05:18:10.843247Z"
    },
    "papermill": {
     "duration": 1.176298,
     "end_time": "2020-08-21T05:18:10.843976",
     "exception": false,
     "start_time": "2020-08-21T05:18:09.667678",
     "status": "completed"
    },
    "tags": []
   },
   "outputs": [],
   "source": [
    "#hide\n",
    "for i in range(len(dates)):\n",
    "    df1_cases = df_cases1.get_group(dates[i])\n",
    "    for j in range(len(df1_cases.index)):\n",
    "        if df1_cases.iloc[j,1] in arr_states:\n",
    "            dft_cases.loc[i,df1_cases.iloc[j,1]] = df1_cases.iloc[j,2]\n",
    "dft_cases = dft_cases.set_index('states')"
   ]
  },
  {
   "cell_type": "code",
   "execution_count": 8,
   "metadata": {
    "execution": {
     "iopub.execute_input": "2020-08-21T05:18:10.895439Z",
     "iopub.status.busy": "2020-08-21T05:18:10.894137Z",
     "iopub.status.idle": "2020-08-21T05:18:10.896039Z",
     "shell.execute_reply": "2020-08-21T05:18:10.896470Z"
    },
    "papermill": {
     "duration": 0.037639,
     "end_time": "2020-08-21T05:18:10.896593",
     "exception": false,
     "start_time": "2020-08-21T05:18:10.858954",
     "status": "completed"
    },
    "tags": []
   },
   "outputs": [],
   "source": [
    "#hide\n",
    "dft_cases = dft_cases.T\n",
    "dft_deaths = dft_deaths.T\n",
    "dt_today = dates[-1]\n",
    "dt_yday = dates[-2]"
   ]
  },
  {
   "cell_type": "code",
   "execution_count": 9,
   "metadata": {
    "execution": {
     "iopub.execute_input": "2020-08-21T05:18:10.930667Z",
     "iopub.status.busy": "2020-08-21T05:18:10.929933Z",
     "iopub.status.idle": "2020-08-21T05:18:10.935350Z",
     "shell.execute_reply": "2020-08-21T05:18:10.934844Z"
    },
    "papermill": {
     "duration": 0.024785,
     "end_time": "2020-08-21T05:18:10.935475",
     "exception": false,
     "start_time": "2020-08-21T05:18:10.910690",
     "status": "completed"
    },
    "tags": []
   },
   "outputs": [],
   "source": [
    "#hide\n",
    "dft_cases = dft_cases.reset_index()\n",
    "dft_deaths = dft_deaths.reset_index()\n",
    "dft_cases = dft_cases.rename(columns = {'index':'state'})\n",
    "dft_deaths = dft_deaths.rename(columns = {'index':'state'})"
   ]
  },
  {
   "cell_type": "code",
   "execution_count": 10,
   "metadata": {
    "execution": {
     "iopub.execute_input": "2020-08-21T05:18:10.970008Z",
     "iopub.status.busy": "2020-08-21T05:18:10.968955Z",
     "iopub.status.idle": "2020-08-21T05:18:10.978334Z",
     "shell.execute_reply": "2020-08-21T05:18:10.977837Z"
    },
    "papermill": {
     "duration": 0.028814,
     "end_time": "2020-08-21T05:18:10.978442",
     "exception": false,
     "start_time": "2020-08-21T05:18:10.949628",
     "status": "completed"
    },
    "tags": []
   },
   "outputs": [],
   "source": [
    "#hide\n",
    "dfc_cases = dft_cases.groupby('state')[dt_today].sum()\n",
    "dfc_deaths = dft_deaths.groupby('state')[dt_today].sum()\n",
    "dfp_cases = dft_cases.groupby('state')[dt_yday].sum()\n",
    "dfp_deaths = dft_deaths.groupby('state')[dt_yday].sum()"
   ]
  },
  {
   "cell_type": "code",
   "execution_count": 11,
   "metadata": {
    "execution": {
     "iopub.execute_input": "2020-08-21T05:18:11.022681Z",
     "iopub.status.busy": "2020-08-21T05:18:11.014243Z",
     "iopub.status.idle": "2020-08-21T05:18:11.030383Z",
     "shell.execute_reply": "2020-08-21T05:18:11.029913Z"
    },
    "papermill": {
     "duration": 0.037419,
     "end_time": "2020-08-21T05:18:11.030502",
     "exception": false,
     "start_time": "2020-08-21T05:18:10.993083",
     "status": "completed"
    },
    "tags": []
   },
   "outputs": [
    {
     "data": {
      "text/html": [
       "<div>\n",
       "<style scoped>\n",
       "    .dataframe tbody tr th:only-of-type {\n",
       "        vertical-align: middle;\n",
       "    }\n",
       "\n",
       "    .dataframe tbody tr th {\n",
       "        vertical-align: top;\n",
       "    }\n",
       "\n",
       "    .dataframe thead th {\n",
       "        text-align: right;\n",
       "    }\n",
       "</style>\n",
       "<table border=\"1\" class=\"dataframe\">\n",
       "  <thead>\n",
       "    <tr style=\"text-align: right;\">\n",
       "      <th></th>\n",
       "      <th>states</th>\n",
       "      <th>Cases</th>\n",
       "      <th>Deaths</th>\n",
       "      <th>PCases</th>\n",
       "      <th>PDeaths</th>\n",
       "    </tr>\n",
       "  </thead>\n",
       "  <tbody>\n",
       "    <tr>\n",
       "      <th>0</th>\n",
       "      <td>Maharashtra</td>\n",
       "      <td>643289</td>\n",
       "      <td>21359</td>\n",
       "      <td>643289</td>\n",
       "      <td>21359</td>\n",
       "    </tr>\n",
       "    <tr>\n",
       "      <th>1</th>\n",
       "      <td>Tamil Nadu</td>\n",
       "      <td>361435</td>\n",
       "      <td>6239</td>\n",
       "      <td>361435</td>\n",
       "      <td>6239</td>\n",
       "    </tr>\n",
       "    <tr>\n",
       "      <th>2</th>\n",
       "      <td>Andhra Pradesh</td>\n",
       "      <td>325396</td>\n",
       "      <td>3001</td>\n",
       "      <td>325396</td>\n",
       "      <td>3001</td>\n",
       "    </tr>\n",
       "    <tr>\n",
       "      <th>3</th>\n",
       "      <td>Karnataka</td>\n",
       "      <td>256975</td>\n",
       "      <td>4429</td>\n",
       "      <td>256975</td>\n",
       "      <td>4429</td>\n",
       "    </tr>\n",
       "    <tr>\n",
       "      <th>4</th>\n",
       "      <td>Uttar Pradesh</td>\n",
       "      <td>172334</td>\n",
       "      <td>2733</td>\n",
       "      <td>172334</td>\n",
       "      <td>2733</td>\n",
       "    </tr>\n",
       "  </tbody>\n",
       "</table>\n",
       "</div>"
      ],
      "text/plain": [
       "           states   Cases  Deaths  PCases  PDeaths\n",
       "0     Maharashtra  643289   21359  643289    21359\n",
       "1      Tamil Nadu  361435    6239  361435     6239\n",
       "2  Andhra Pradesh  325396    3001  325396     3001\n",
       "3       Karnataka  256975    4429  256975     4429\n",
       "4   Uttar Pradesh  172334    2733  172334     2733"
      ]
     },
     "execution_count": 11,
     "metadata": {},
     "output_type": "execute_result"
    }
   ],
   "source": [
    "#hide\n",
    "df_table = pd.DataFrame({'states': dfc_cases.index, 'Cases': dfc_cases.values, 'Deaths': dfc_deaths.values, 'PCases': dfp_cases.values, 'PDeaths': dfp_deaths.values}).set_index('states')\n",
    "df_table = df_table.sort_values(by = ['Cases','Deaths'], ascending = [False, False])\n",
    "df_table = df_table.reset_index()\n",
    "df_table.head()"
   ]
  },
  {
   "cell_type": "code",
   "execution_count": 12,
   "metadata": {
    "execution": {
     "iopub.execute_input": "2020-08-21T05:18:11.066619Z",
     "iopub.status.busy": "2020-08-21T05:18:11.066026Z",
     "iopub.status.idle": "2020-08-21T05:18:11.075219Z",
     "shell.execute_reply": "2020-08-21T05:18:11.074638Z"
    },
    "papermill": {
     "duration": 0.029519,
     "end_time": "2020-08-21T05:18:11.075344",
     "exception": false,
     "start_time": "2020-08-21T05:18:11.045825",
     "status": "completed"
    },
    "tags": []
   },
   "outputs": [],
   "source": [
    "#hide\n",
    "for c in 'Cases, Deaths'.split(', '):\n",
    "    df_table[f'{c} (+)'] = (df_table[c] - df_table[f'P{c}']).clip(0)\n",
    "df_table['Fatality Rate'] = (100* df_table['Deaths']/ df_table['Cases']).round(2)"
   ]
  },
  {
   "cell_type": "code",
   "execution_count": 13,
   "metadata": {
    "execution": {
     "iopub.execute_input": "2020-08-21T05:18:11.116605Z",
     "iopub.status.busy": "2020-08-21T05:18:11.116015Z",
     "iopub.status.idle": "2020-08-21T05:18:11.119145Z",
     "shell.execute_reply": "2020-08-21T05:18:11.118691Z"
    },
    "papermill": {
     "duration": 0.028909,
     "end_time": "2020-08-21T05:18:11.119273",
     "exception": false,
     "start_time": "2020-08-21T05:18:11.090364",
     "status": "completed"
    },
    "tags": []
   },
   "outputs": [
    {
     "data": {
      "text/html": [
       "<div>\n",
       "<style scoped>\n",
       "    .dataframe tbody tr th:only-of-type {\n",
       "        vertical-align: middle;\n",
       "    }\n",
       "\n",
       "    .dataframe tbody tr th {\n",
       "        vertical-align: top;\n",
       "    }\n",
       "\n",
       "    .dataframe thead th {\n",
       "        text-align: right;\n",
       "    }\n",
       "</style>\n",
       "<table border=\"1\" class=\"dataframe\">\n",
       "  <thead>\n",
       "    <tr style=\"text-align: right;\">\n",
       "      <th></th>\n",
       "      <th>states</th>\n",
       "      <th>Cases</th>\n",
       "      <th>Deaths</th>\n",
       "      <th>PCases</th>\n",
       "      <th>PDeaths</th>\n",
       "      <th>Cases (+)</th>\n",
       "      <th>Deaths (+)</th>\n",
       "      <th>Fatality Rate</th>\n",
       "    </tr>\n",
       "  </thead>\n",
       "  <tbody>\n",
       "    <tr>\n",
       "      <th>0</th>\n",
       "      <td>Maharashtra</td>\n",
       "      <td>643289</td>\n",
       "      <td>21359</td>\n",
       "      <td>643289</td>\n",
       "      <td>21359</td>\n",
       "      <td>0</td>\n",
       "      <td>0</td>\n",
       "      <td>3.32</td>\n",
       "    </tr>\n",
       "    <tr>\n",
       "      <th>1</th>\n",
       "      <td>Tamil Nadu</td>\n",
       "      <td>361435</td>\n",
       "      <td>6239</td>\n",
       "      <td>361435</td>\n",
       "      <td>6239</td>\n",
       "      <td>0</td>\n",
       "      <td>0</td>\n",
       "      <td>1.73</td>\n",
       "    </tr>\n",
       "    <tr>\n",
       "      <th>2</th>\n",
       "      <td>Andhra Pradesh</td>\n",
       "      <td>325396</td>\n",
       "      <td>3001</td>\n",
       "      <td>325396</td>\n",
       "      <td>3001</td>\n",
       "      <td>0</td>\n",
       "      <td>0</td>\n",
       "      <td>0.92</td>\n",
       "    </tr>\n",
       "    <tr>\n",
       "      <th>3</th>\n",
       "      <td>Karnataka</td>\n",
       "      <td>256975</td>\n",
       "      <td>4429</td>\n",
       "      <td>256975</td>\n",
       "      <td>4429</td>\n",
       "      <td>0</td>\n",
       "      <td>0</td>\n",
       "      <td>1.72</td>\n",
       "    </tr>\n",
       "    <tr>\n",
       "      <th>4</th>\n",
       "      <td>Uttar Pradesh</td>\n",
       "      <td>172334</td>\n",
       "      <td>2733</td>\n",
       "      <td>172334</td>\n",
       "      <td>2733</td>\n",
       "      <td>0</td>\n",
       "      <td>0</td>\n",
       "      <td>1.59</td>\n",
       "    </tr>\n",
       "  </tbody>\n",
       "</table>\n",
       "</div>"
      ],
      "text/plain": [
       "           states   Cases  Deaths  PCases  PDeaths  Cases (+)  Deaths (+)  \\\n",
       "0     Maharashtra  643289   21359  643289    21359          0           0   \n",
       "1      Tamil Nadu  361435    6239  361435     6239          0           0   \n",
       "2  Andhra Pradesh  325396    3001  325396     3001          0           0   \n",
       "3       Karnataka  256975    4429  256975     4429          0           0   \n",
       "4   Uttar Pradesh  172334    2733  172334     2733          0           0   \n",
       "\n",
       "   Fatality Rate  \n",
       "0           3.32  \n",
       "1           1.73  \n",
       "2           0.92  \n",
       "3           1.72  \n",
       "4           1.59  "
      ]
     },
     "execution_count": 13,
     "metadata": {},
     "output_type": "execute_result"
    }
   ],
   "source": [
    "#hide\n",
    "df_table.head()"
   ]
  },
  {
   "cell_type": "code",
   "execution_count": 14,
   "metadata": {
    "execution": {
     "iopub.execute_input": "2020-08-21T05:18:11.157747Z",
     "iopub.status.busy": "2020-08-21T05:18:11.157215Z",
     "iopub.status.idle": "2020-08-21T05:18:11.172230Z",
     "shell.execute_reply": "2020-08-21T05:18:11.171799Z"
    },
    "papermill": {
     "duration": 0.037188,
     "end_time": "2020-08-21T05:18:11.172339",
     "exception": false,
     "start_time": "2020-08-21T05:18:11.135151",
     "status": "completed"
    },
    "tags": []
   },
   "outputs": [
    {
     "data": {
      "text/plain": [
       "{'updated': '2020-08-21',\n",
       " 'since': '2020-08-20',\n",
       " 'Cases': 2906584,\n",
       " 'PCases': 2904340,\n",
       " 'Deaths': 54987,\n",
       " 'PDeaths': 54975,\n",
       " 'Cases (+)': 2244,\n",
       " 'Deaths (+)': 12}"
      ]
     },
     "execution_count": 14,
     "metadata": {},
     "output_type": "execute_result"
    }
   ],
   "source": [
    "#hide\n",
    "summary = {'updated':dates[-1], 'since':dates[-2]}\n",
    "list_names = ['Cases', 'PCases', 'Deaths', 'PDeaths', 'Cases (+)', 'Deaths (+)']\n",
    "for name in list_names:\n",
    "    summary[name] = df_table.sum()[name]\n",
    "summary"
   ]
  },
  {
   "cell_type": "code",
   "execution_count": 15,
   "metadata": {
    "execution": {
     "iopub.execute_input": "2020-08-21T05:18:11.208705Z",
     "iopub.status.busy": "2020-08-21T05:18:11.208112Z",
     "iopub.status.idle": "2020-08-21T05:18:11.209291Z",
     "shell.execute_reply": "2020-08-21T05:18:11.209787Z"
    },
    "papermill": {
     "duration": 0.02183,
     "end_time": "2020-08-21T05:18:11.209903",
     "exception": false,
     "start_time": "2020-08-21T05:18:11.188073",
     "status": "completed"
    },
    "tags": []
   },
   "outputs": [],
   "source": [
    "#hide\n",
    "overview = '''\n",
    "<!-- #######  HTML!! #########-->\n",
    "<h1 style=\"color: #5e9ca0; text-align: center;\">India</h1>\n",
    "<p style=\"text-align: center;\">Last update: <strong>{update}</strong></p>\n",
    "<p style=\"text-align: center;\">Confirmed cases:</p>\n",
    "<p style=\"text-align: center;font-size:24px;\">{cases} (<span style=\"color: #ff0000;\">+{new}</span>)</p>\n",
    "<p style=\"text-align: center;\">Confirmed deaths:</p>\n",
    "<p style=\"text-align: center;font-size:24px;\">{deaths} (<span style=\"color: #ff0000;\">+{dnew}</span>)</p>\n",
    "'''"
   ]
  },
  {
   "cell_type": "code",
   "execution_count": 16,
   "metadata": {
    "execution": {
     "iopub.execute_input": "2020-08-21T05:18:11.248653Z",
     "iopub.status.busy": "2020-08-21T05:18:11.247997Z",
     "iopub.status.idle": "2020-08-21T05:18:11.250292Z",
     "shell.execute_reply": "2020-08-21T05:18:11.250728Z"
    },
    "papermill": {
     "duration": 0.023974,
     "end_time": "2020-08-21T05:18:11.250845",
     "exception": false,
     "start_time": "2020-08-21T05:18:11.226871",
     "status": "completed"
    },
    "tags": []
   },
   "outputs": [
    {
     "data": {
      "text/html": [
       "\n",
       "<!-- #######  HTML!! #########-->\n",
       "<h1 style=\"color: #5e9ca0; text-align: center;\">India</h1>\n",
       "<p style=\"text-align: center;\">Last update: <strong>2020-08-21</strong></p>\n",
       "<p style=\"text-align: center;\">Confirmed cases:</p>\n",
       "<p style=\"text-align: center;font-size:24px;\">2906584 (<span style=\"color: #ff0000;\">+2244</span>)</p>\n",
       "<p style=\"text-align: center;\">Confirmed deaths:</p>\n",
       "<p style=\"text-align: center;font-size:24px;\">54987 (<span style=\"color: #ff0000;\">+12</span>)</p>\n"
      ],
      "text/plain": [
       "<IPython.core.display.HTML object>"
      ]
     },
     "metadata": {},
     "output_type": "display_data"
    }
   ],
   "source": [
    "#hide_input\n",
    "update = summary['updated']\n",
    "cases = summary['Cases']\n",
    "new = summary['Cases (+)']\n",
    "deaths = summary['Deaths']\n",
    "dnew = summary['Deaths (+)']\n",
    "\n",
    "html = HTML(overview.format(update=update, cases=cases,new=new,deaths=deaths,dnew=dnew))\n",
    "\n",
    "display(html)"
   ]
  },
  {
   "cell_type": "code",
   "execution_count": 17,
   "metadata": {
    "execution": {
     "iopub.execute_input": "2020-08-21T05:18:11.290886Z",
     "iopub.status.busy": "2020-08-21T05:18:11.290330Z",
     "iopub.status.idle": "2020-08-21T05:18:11.295933Z",
     "shell.execute_reply": "2020-08-21T05:18:11.295434Z"
    },
    "papermill": {
     "duration": 0.028637,
     "end_time": "2020-08-21T05:18:11.296048",
     "exception": false,
     "start_time": "2020-08-21T05:18:11.267411",
     "status": "completed"
    },
    "tags": []
   },
   "outputs": [],
   "source": [
    "#hide\n",
    "dt_cols = list(dft_cases.columns[1:])\n",
    "dft_ct_new_cases = dft_cases.groupby('state')[dt_cols].sum().diff(axis=1).fillna(0).astype(int)\n",
    "dft_ct_new_cases.sort_values(by = dates[-1], ascending = False,inplace = True)"
   ]
  },
  {
   "cell_type": "code",
   "execution_count": 18,
   "metadata": {
    "execution": {
     "iopub.execute_input": "2020-08-21T05:18:11.346448Z",
     "iopub.status.busy": "2020-08-21T05:18:11.345857Z",
     "iopub.status.idle": "2020-08-21T05:18:11.348254Z",
     "shell.execute_reply": "2020-08-21T05:18:11.348724Z"
    },
    "papermill": {
     "duration": 0.03644,
     "end_time": "2020-08-21T05:18:11.348844",
     "exception": false,
     "start_time": "2020-08-21T05:18:11.312404",
     "status": "completed"
    },
    "tags": []
   },
   "outputs": [
    {
     "data": {
      "text/html": [
       "<div>\n",
       "<style scoped>\n",
       "    .dataframe tbody tr th:only-of-type {\n",
       "        vertical-align: middle;\n",
       "    }\n",
       "\n",
       "    .dataframe tbody tr th {\n",
       "        vertical-align: top;\n",
       "    }\n",
       "\n",
       "    .dataframe thead th {\n",
       "        text-align: right;\n",
       "    }\n",
       "</style>\n",
       "<table border=\"1\" class=\"dataframe\">\n",
       "  <thead>\n",
       "    <tr style=\"text-align: right;\">\n",
       "      <th>states</th>\n",
       "      <th>2020-07-01</th>\n",
       "      <th>2020-07-02</th>\n",
       "      <th>2020-07-03</th>\n",
       "      <th>2020-07-04</th>\n",
       "      <th>2020-07-05</th>\n",
       "      <th>2020-07-06</th>\n",
       "      <th>2020-07-07</th>\n",
       "      <th>2020-07-08</th>\n",
       "      <th>2020-07-09</th>\n",
       "      <th>2020-07-10</th>\n",
       "      <th>...</th>\n",
       "      <th>2020-08-12</th>\n",
       "      <th>2020-08-13</th>\n",
       "      <th>2020-08-14</th>\n",
       "      <th>2020-08-15</th>\n",
       "      <th>2020-08-16</th>\n",
       "      <th>2020-08-17</th>\n",
       "      <th>2020-08-18</th>\n",
       "      <th>2020-08-19</th>\n",
       "      <th>2020-08-20</th>\n",
       "      <th>2020-08-21</th>\n",
       "    </tr>\n",
       "    <tr>\n",
       "      <th>state</th>\n",
       "      <th></th>\n",
       "      <th></th>\n",
       "      <th></th>\n",
       "      <th></th>\n",
       "      <th></th>\n",
       "      <th></th>\n",
       "      <th></th>\n",
       "      <th></th>\n",
       "      <th></th>\n",
       "      <th></th>\n",
       "      <th></th>\n",
       "      <th></th>\n",
       "      <th></th>\n",
       "      <th></th>\n",
       "      <th></th>\n",
       "      <th></th>\n",
       "      <th></th>\n",
       "      <th></th>\n",
       "      <th></th>\n",
       "      <th></th>\n",
       "      <th></th>\n",
       "    </tr>\n",
       "  </thead>\n",
       "  <tbody>\n",
       "    <tr>\n",
       "      <th>Telangana</th>\n",
       "      <td>0</td>\n",
       "      <td>1213</td>\n",
       "      <td>1892</td>\n",
       "      <td>1850</td>\n",
       "      <td>1590</td>\n",
       "      <td>1831</td>\n",
       "      <td>1879</td>\n",
       "      <td>1924</td>\n",
       "      <td>1410</td>\n",
       "      <td>1278</td>\n",
       "      <td>...</td>\n",
       "      <td>1897</td>\n",
       "      <td>1931</td>\n",
       "      <td>1921</td>\n",
       "      <td>1863</td>\n",
       "      <td>1102</td>\n",
       "      <td>894</td>\n",
       "      <td>1682</td>\n",
       "      <td>1763</td>\n",
       "      <td>1724</td>\n",
       "      <td>1967</td>\n",
       "    </tr>\n",
       "    <tr>\n",
       "      <th>Tripura</th>\n",
       "      <td>0</td>\n",
       "      <td>39</td>\n",
       "      <td>93</td>\n",
       "      <td>25</td>\n",
       "      <td>23</td>\n",
       "      <td>111</td>\n",
       "      <td>24</td>\n",
       "      <td>57</td>\n",
       "      <td>16</td>\n",
       "      <td>142</td>\n",
       "      <td>...</td>\n",
       "      <td>110</td>\n",
       "      <td>121</td>\n",
       "      <td>164</td>\n",
       "      <td>167</td>\n",
       "      <td>127</td>\n",
       "      <td>143</td>\n",
       "      <td>205</td>\n",
       "      <td>236</td>\n",
       "      <td>190</td>\n",
       "      <td>256</td>\n",
       "    </tr>\n",
       "    <tr>\n",
       "      <th>Mizoram</th>\n",
       "      <td>0</td>\n",
       "      <td>2</td>\n",
       "      <td>0</td>\n",
       "      <td>2</td>\n",
       "      <td>22</td>\n",
       "      <td>11</td>\n",
       "      <td>1</td>\n",
       "      <td>5</td>\n",
       "      <td>0</td>\n",
       "      <td>23</td>\n",
       "      <td>...</td>\n",
       "      <td>25</td>\n",
       "      <td>1</td>\n",
       "      <td>8</td>\n",
       "      <td>56</td>\n",
       "      <td>64</td>\n",
       "      <td>12</td>\n",
       "      <td>26</td>\n",
       "      <td>45</td>\n",
       "      <td>14</td>\n",
       "      <td>21</td>\n",
       "    </tr>\n",
       "    <tr>\n",
       "      <th>Andaman and Nicobar Islands</th>\n",
       "      <td>0</td>\n",
       "      <td>9</td>\n",
       "      <td>7</td>\n",
       "      <td>3</td>\n",
       "      <td>6</td>\n",
       "      <td>16</td>\n",
       "      <td>6</td>\n",
       "      <td>2</td>\n",
       "      <td>7</td>\n",
       "      <td>0</td>\n",
       "      <td>...</td>\n",
       "      <td>136</td>\n",
       "      <td>137</td>\n",
       "      <td>149</td>\n",
       "      <td>120</td>\n",
       "      <td>93</td>\n",
       "      <td>46</td>\n",
       "      <td>84</td>\n",
       "      <td>75</td>\n",
       "      <td>76</td>\n",
       "      <td>0</td>\n",
       "    </tr>\n",
       "    <tr>\n",
       "      <th>Puducherry</th>\n",
       "      <td>0</td>\n",
       "      <td>63</td>\n",
       "      <td>22</td>\n",
       "      <td>80</td>\n",
       "      <td>42</td>\n",
       "      <td>65</td>\n",
       "      <td>30</td>\n",
       "      <td>110</td>\n",
       "      <td>49</td>\n",
       "      <td>72</td>\n",
       "      <td>...</td>\n",
       "      <td>481</td>\n",
       "      <td>299</td>\n",
       "      <td>315</td>\n",
       "      <td>359</td>\n",
       "      <td>378</td>\n",
       "      <td>297</td>\n",
       "      <td>367</td>\n",
       "      <td>356</td>\n",
       "      <td>540</td>\n",
       "      <td>0</td>\n",
       "    </tr>\n",
       "  </tbody>\n",
       "</table>\n",
       "<p>5 rows × 52 columns</p>\n",
       "</div>"
      ],
      "text/plain": [
       "states                       2020-07-01  2020-07-02  2020-07-03  2020-07-04  \\\n",
       "state                                                                         \n",
       "Telangana                             0        1213        1892        1850   \n",
       "Tripura                               0          39          93          25   \n",
       "Mizoram                               0           2           0           2   \n",
       "Andaman and Nicobar Islands           0           9           7           3   \n",
       "Puducherry                            0          63          22          80   \n",
       "\n",
       "states                       2020-07-05  2020-07-06  2020-07-07  2020-07-08  \\\n",
       "state                                                                         \n",
       "Telangana                          1590        1831        1879        1924   \n",
       "Tripura                              23         111          24          57   \n",
       "Mizoram                              22          11           1           5   \n",
       "Andaman and Nicobar Islands           6          16           6           2   \n",
       "Puducherry                           42          65          30         110   \n",
       "\n",
       "states                       2020-07-09  2020-07-10  ...  2020-08-12  \\\n",
       "state                                                ...               \n",
       "Telangana                          1410        1278  ...        1897   \n",
       "Tripura                              16         142  ...         110   \n",
       "Mizoram                               0          23  ...          25   \n",
       "Andaman and Nicobar Islands           7           0  ...         136   \n",
       "Puducherry                           49          72  ...         481   \n",
       "\n",
       "states                       2020-08-13  2020-08-14  2020-08-15  2020-08-16  \\\n",
       "state                                                                         \n",
       "Telangana                          1931        1921        1863        1102   \n",
       "Tripura                             121         164         167         127   \n",
       "Mizoram                               1           8          56          64   \n",
       "Andaman and Nicobar Islands         137         149         120          93   \n",
       "Puducherry                          299         315         359         378   \n",
       "\n",
       "states                       2020-08-17  2020-08-18  2020-08-19  2020-08-20  \\\n",
       "state                                                                         \n",
       "Telangana                           894        1682        1763        1724   \n",
       "Tripura                             143         205         236         190   \n",
       "Mizoram                              12          26          45          14   \n",
       "Andaman and Nicobar Islands          46          84          75          76   \n",
       "Puducherry                          297         367         356         540   \n",
       "\n",
       "states                       2020-08-21  \n",
       "state                                    \n",
       "Telangana                          1967  \n",
       "Tripura                             256  \n",
       "Mizoram                              21  \n",
       "Andaman and Nicobar Islands           0  \n",
       "Puducherry                            0  \n",
       "\n",
       "[5 rows x 52 columns]"
      ]
     },
     "execution_count": 18,
     "metadata": {},
     "output_type": "execute_result"
    }
   ],
   "source": [
    "#hide\n",
    "dft_ct_new_cases.head()"
   ]
  },
  {
   "cell_type": "code",
   "execution_count": 19,
   "metadata": {
    "execution": {
     "iopub.execute_input": "2020-08-21T05:18:11.395507Z",
     "iopub.status.busy": "2020-08-21T05:18:11.390215Z",
     "iopub.status.idle": "2020-08-21T05:18:13.920492Z",
     "shell.execute_reply": "2020-08-21T05:18:13.920939Z"
    },
    "papermill": {
     "duration": 2.555121,
     "end_time": "2020-08-21T05:18:13.921084",
     "exception": false,
     "start_time": "2020-08-21T05:18:11.365963",
     "status": "completed"
    },
    "tags": []
   },
   "outputs": [
    {
     "data": {
      "image/png": "[encoded data removed]",
      "text/plain": [
       "<Figure size 1296x2016 with 11 Axes>"
      ]
     },
     "metadata": {
      "needs_background": "light"
     },
     "output_type": "display_data"
    }
   ],
   "source": [
    "#hide_input\n",
    "df = dft_ct_new_cases.copy()\n",
    "df.loc['Total'] = df.sum()\n",
    "n = 5\n",
    "ax = []\n",
    "fig = plt.figure(figsize = (18,28))\n",
    "gs = fig.add_gridspec(n+2, 5)\n",
    "# gs = fig.add_gridspec(2, 3)\n",
    "ax1 = fig.add_subplot(gs[0, :])\n",
    "ef = df.loc['Total'].rename_axis('date').reset_index()\n",
    "ef['date'] = ef['date'].astype('datetime64[ns]')\n",
    "ax1.bar(ef.date,ef.Total,alpha=0.3,color='#007acc')\n",
    "ax1.plot(ef.date,ef.Total , marker=\"o\", color='#007acc')\n",
    "ax1.xaxis.set_major_locator(mdates.WeekdayLocator())\n",
    "ax1.xaxis.set_major_formatter(mdates.DateFormatter('%b %d'))\n",
    "ax1.text(0.02, 0.5,'India daily case count', transform = ax1.transAxes, fontsize=25);\n",
    "ax1.spines['right'].set_visible(False)\n",
    "ax1.spines['top'].set_visible(False)\n",
    "\n",
    "ax2 = fig.add_subplot(gs[1,0])\n",
    "ef = df.loc['Maharashtra'].rename_axis('date').reset_index()\n",
    "ef['date'] = ef['date'].astype('datetime64[ns]')\n",
    "\n",
    "ax2.bar(ef.date, ef.Maharashtra,color = '#007acc',alpha=0.5)\n",
    "ax2.xaxis.set_major_locator(mdates.WeekdayLocator())\n",
    "ax2.xaxis.set_major_formatter(mdates.DateFormatter('%b %d'))\n",
    "ax2.set_xticks(ax2.get_xticks()[::3])\n",
    "maxyval = ef.Maharashtra.max()\n",
    "ax2.set_ylim([0,maxyval])\n",
    "ax2.text(0.05, 0.9,'Maharashtra', transform = ax2.transAxes, fontsize=20);\n",
    "ax2.spines['right'].set_visible(False)\n",
    "ax2.spines['top'].set_visible(False)\n",
    "\n",
    "\n",
    "ax3 = fig.add_subplot(gs[1,1])\n",
    "ef = df.loc['Tamil Nadu'].rename_axis('date').reset_index()\n",
    "ef['date'] = ef['date'].astype('datetime64[ns]')\n",
    "ax3.bar(ef.date, ef['Tamil Nadu'],color = '#007acc',alpha=0.5,)\n",
    "ax3.xaxis.set_major_locator(mdates.WeekdayLocator())\n",
    "ax3.xaxis.set_major_formatter(mdates.DateFormatter('%b %d'))\n",
    "ax3.set_xticks(ax3.get_xticks()[::3])\n",
    "ax3.text(0.05, 0.9,'Tamil Nadu', transform = ax3.transAxes, fontsize=20);\n",
    "ax3.spines['right'].set_visible(False)\n",
    "ax3.spines['top'].set_visible(False)\n",
    "\n",
    "ax5 = fig.add_subplot(gs[1,3])\n",
    "ef = df.loc['Telangana'].rename_axis('date').reset_index()\n",
    "ef['date'] = ef['date'].astype('datetime64[ns]')\n",
    "ax5.bar(ef.date, ef['Telangana'],color = '#007acc',alpha=0.5,)\n",
    "ax5.xaxis.set_major_locator(mdates.WeekdayLocator())\n",
    "ax5.xaxis.set_major_formatter(mdates.DateFormatter('%b %d'))\n",
    "ax5.set_xticks(ax5.get_xticks()[::3])\n",
    "ax5.text(0.05, 0.9,'Telangana', transform = ax5.transAxes, fontsize=20);\n",
    "ax5.spines['right'].set_visible(False)\n",
    "ax5.spines['top'].set_visible(False)\n",
    "\n",
    "ax6 = fig.add_subplot(gs[1,4])\n",
    "ef = df.loc['Andhra Pradesh'].rename_axis('date').reset_index()\n",
    "ef['date'] = ef['date'].astype('datetime64[ns]')\n",
    "ax6.bar(ef.date, ef['Andhra Pradesh'],color = '#007acc',alpha=0.5,)\n",
    "ax6.xaxis.set_major_locator(mdates.WeekdayLocator())\n",
    "ax6.xaxis.set_major_formatter(mdates.DateFormatter('%b %d'))\n",
    "ax6.set_xticks(ax6.get_xticks()[::3])\n",
    "ax6.text(0.05, 1,'Andhra Pradesh', transform = ax6.transAxes, fontsize=20);\n",
    "ax6.spines['right'].set_visible(False)\n",
    "ax6.spines['top'].set_visible(False)\n",
    "\n",
    "ax4 = fig.add_subplot(gs[1,2])\n",
    "ef = df.loc['Delhi'].rename_axis('date').reset_index()\n",
    "ef['date'] = ef['date'].astype('datetime64[ns]')\n",
    "ax4.bar(ef.date, ef.Delhi,color = '#007acc',alpha=0.5)\n",
    "ax4.set_xticks([])\n",
    "ax4.xaxis.set_major_locator(mdates.WeekdayLocator())\n",
    "ax4.xaxis.set_major_formatter(mdates.DateFormatter('%b %d'))\n",
    "ax4.set_xticks(ax4.get_xticks()[::3])\n",
    "ax4.spines['right'].set_visible(False)\n",
    "ax4.spines['top'].set_visible(False)\n",
    "\n",
    "ax4.text(0.05, 1,'Delhi', transform = ax4.transAxes, fontsize=20)\n",
    "\n",
    "for i in range(n):\n",
    "    \n",
    "    ax.append(fig.add_subplot(gs[i+2,:]))\n",
    "    ef = df.iloc[i+3].rename_axis('date').reset_index()\n",
    "    ef['date'] = ef['date'].astype('datetime64[ns]')\n",
    "    ax[i].bar(ef.date,ef.iloc[:,-1],color = '#007acc',alpha=0.3)\n",
    "    ax[i].plot(ef.date,ef.iloc[:,-1],marker='o',color='#007acc')\n",
    "    ax[i].text(0.02,0.5,f'{ef.columns.values[-1]}',transform = ax[i].transAxes, fontsize = 20);\n",
    "    ax[i].xaxis.set_major_locator(mdates.WeekdayLocator())\n",
    "    ax[i].xaxis.set_major_formatter(mdates.DateFormatter('%b %d'))\n",
    "    ax[i].set_ylim([0,7000])\n",
    "    ax[i].spines['right'].set_visible(False)\n",
    "    ax[i].spines['top'].set_visible(False)\n",
    "plt.tight_layout()\n"
   ]
  },
  {
   "cell_type": "code",
   "execution_count": 20,
   "metadata": {
    "execution": {
     "iopub.execute_input": "2020-08-21T05:18:13.972957Z",
     "iopub.status.busy": "2020-08-21T05:18:13.972378Z",
     "iopub.status.idle": "2020-08-21T05:18:13.976539Z",
     "shell.execute_reply": "2020-08-21T05:18:13.976990Z"
    },
    "papermill": {
     "duration": 0.034307,
     "end_time": "2020-08-21T05:18:13.977134",
     "exception": false,
     "start_time": "2020-08-21T05:18:13.942827",
     "status": "completed"
    },
    "tags": []
   },
   "outputs": [
    {
     "name": "stdout",
     "output_type": "stream",
     "text": [
      "                                   states   Cases  Deaths  PCases  PDeaths  Cases (+)  Deaths (+)  Fatality Rate\n",
      "                              Maharashtra  643289   21359  643289    21359          0           0           3.32\n",
      "                               Tamil Nadu  361435    6239  361435     6239          0           0           1.73\n",
      "                           Andhra Pradesh  325396    3001  325396     3001          0           0           0.92\n",
      "                                Karnataka  256975    4429  256975     4429          0           0           1.72\n",
      "                            Uttar Pradesh  172334    2733  172334     2733          0           0           1.59\n",
      "                                    Delhi  157354    4257  157354     4257          0           0           2.71\n",
      "                              West Bengal  129119    2634  129119     2634          0           0           2.04\n",
      "                                    Bihar  115210     574  115210      574          0           0           0.50\n",
      "                                Telangana   99391     737   97424      729       1967           8           0.74\n",
      "                                    Assam   86053     221   86053      221          0           0           0.26\n",
      "                                  Gujarat   83262    2853   83262     2853          0           0           3.43\n",
      "                                   Odisha   70020     433   70020      433          0           0           0.62\n",
      "                                Rajasthan   66619     921   66619      921          0           0           1.38\n",
      "                                   Kerala   52199     192   52199      192          0           0           0.37\n",
      "                                  Haryana   50926     578   50926      578          0           0           1.13\n",
      "                           Madhya Pradesh   49493    1171   49493     1171          0           0           2.37\n",
      "                                   Punjab   37824     957   37824      957          0           0           2.53\n",
      "                        Jammu and Kashmir   30717     578   30717      578          0           0           1.88\n",
      "                                Jharkhand   26938     286   26938      286          0           0           1.06\n",
      "                             Chhattisgarh   18637     172   18637      172          0           0           0.92\n",
      "                              Uttarakhand   13636     187   13636      187          0           0           1.37\n",
      "                                      Goa   13099     126   13099      126          0           0           0.96\n",
      "                               Puducherry    9292     137    9292      137          0           0           1.47\n",
      "                                  Tripura    8106      69    7850       65        256           4           0.85\n",
      "                                  Manipur    4925      18    4925       18          0           0           0.37\n",
      "                         Himachal Pradesh    4538      22    4538       22          0           0           0.48\n",
      "                                 Nagaland    3583       7    3583        7          0           0           0.20\n",
      "                        Arunachal Pradesh    3066       5    3066        5          0           0           0.16\n",
      "              Andaman and Nicobar Islands    2680      31    2680       31          0           0           1.16\n",
      "                               Chandigarh    2515      31    2515       31          0           0           1.23\n",
      "                                   Ladakh    2077      18    2077       18          0           0           0.87\n",
      " Dadra and Nagar Haveli and Daman and Diu    2030       2    2030        2          0           0           0.10\n",
      "                                Meghalaya    1661       6    1661        6          0           0           0.36\n",
      "                                   Sikkim    1290       3    1290        3          0           0           0.23\n",
      "                                  Mizoram     895       0     874        0         21           0           0.00\n",
      "                              Lakshadweep       0       0       0        0          0           0            NaN\n"
     ]
    }
   ],
   "source": [
    "#hide_input\n",
    "print(df_table.to_string(index=False))"
   ]
  },
  {
   "cell_type": "code",
   "execution_count": null,
   "metadata": {
    "papermill": {
     "duration": 0.0228,
     "end_time": "2020-08-21T05:18:14.022291",
     "exception": false,
     "start_time": "2020-08-21T05:18:13.999491",
     "status": "completed"
    },
    "tags": []
   },
   "outputs": [],
   "source": []
  },
  {
   "cell_type": "code",
   "execution_count": null,
   "metadata": {
    "papermill": {
     "duration": 0.02146,
     "end_time": "2020-08-21T05:18:14.066567",
     "exception": false,
     "start_time": "2020-08-21T05:18:14.045107",
     "status": "completed"
    },
    "tags": []
   },
   "outputs": [],
   "source": []
  }
 ],
 "metadata": {
  "kernelspec": {
   "display_name": "Python 3",
   "language": "python",
   "name": "python3"
  },
  "language_info": {
   "codemirror_mode": {
    "name": "ipython",
    "version": 3
   },
   "file_extension": ".py",
   "mimetype": "text/x-python",
   "name": "python",
   "nbconvert_exporter": "python",
   "pygments_lexer": "ipython3",
   "version": "3.6.11"
  },
  "papermill": {
   "duration": 7.816773,
   "end_time": "2020-08-21T05:18:14.498291",
   "environment_variables": {},
   "exception": null,
   "input_path": "latest.ipynb",
   "output_path": "latest.ipynb",
   "parameters": {},
   "start_time": "2020-08-21T05:18:06.681518",
   "version": "2.1.2"
  }
 },
 "nbformat": 4,
 "nbformat_minor": 4
}