{
 "cells": [
  {
   "cell_type": "markdown",
   "id": "colored-stack",
   "metadata": {
    "papermill": {
     "duration": 0.018912,
     "end_time": "2021-02-02T14:30:52.942777",
     "exception": false,
     "start_time": "2021-02-02T14:30:52.923865",
     "status": "completed"
    },
    "tags": []
   },
   "source": [
    "# Latest COVID-19 India Matplotlib Overview"
   ]
  },
  {
   "cell_type": "code",
   "execution_count": 1,
   "id": "light-proportion",
   "metadata": {
    "execution": {
     "iopub.execute_input": "2021-02-02T14:30:52.985099Z",
     "iopub.status.busy": "2021-02-02T14:30:52.984557Z",
     "iopub.status.idle": "2021-02-02T14:30:53.529683Z",
     "shell.execute_reply": "2021-02-02T14:30:53.528823Z"
    },
    "papermill": {
     "duration": 0.571288,
     "end_time": "2021-02-02T14:30:53.529844",
     "exception": false,
     "start_time": "2021-02-02T14:30:52.958556",
     "status": "completed"
    },
    "tags": []
   },
   "outputs": [],
   "source": [
    "#hide\n",
    "import pandas as pd\n",
    "import numpy as np\n",
    "import requests\n",
    "import json\n",
    "import matplotlib.pyplot as plt\n",
    "import matplotlib.dates as mdates\n",
    "import matplotlib as mpl\n",
    "from IPython.core.display import display,HTML\n",
    "%matplotlib inline\n",
    "from datetime import date"
   ]
  },
  {
   "cell_type": "code",
   "execution_count": 2,
   "id": "greenhouse-shooting",
   "metadata": {
    "execution": {
     "iopub.execute_input": "2021-02-02T14:30:53.568706Z",
     "iopub.status.busy": "2021-02-02T14:30:53.568169Z",
     "iopub.status.idle": "2021-02-02T14:30:53.820437Z",
     "shell.execute_reply": "2021-02-02T14:30:53.819913Z"
    },
    "papermill": {
     "duration": 0.274588,
     "end_time": "2021-02-02T14:30:53.820582",
     "exception": false,
     "start_time": "2021-02-02T14:30:53.545994",
     "status": "completed"
    },
    "tags": []
   },
   "outputs": [],
   "source": [
    "#hide\n",
    "df  = pd.read_csv('https://api.covid19india.org/csv/latest/states.csv')\n",
    "df = df[['Date','State','Confirmed','Deceased']]\n",
    "df = df.rename(columns={'Confirmed':'Cases', \"Deceased\":'Deaths'})\n",
    "df_cases = df[[\"Date\",'State','Cases']]\n",
    "df_deaths = df[['Date','State','Deaths']]\n",
    "df_cases1 = df_cases.groupby('Date')\n",
    "df_deaths1= df_deaths.groupby('Date')"
   ]
  },
  {
   "cell_type": "code",
   "execution_count": 3,
   "id": "hybrid-cathedral",
   "metadata": {
    "execution": {
     "iopub.execute_input": "2021-02-02T14:30:53.857361Z",
     "iopub.status.busy": "2021-02-02T14:30:53.856344Z",
     "iopub.status.idle": "2021-02-02T14:30:53.874555Z",
     "shell.execute_reply": "2021-02-02T14:30:53.874081Z"
    },
    "papermill": {
     "duration": 0.038649,
     "end_time": "2021-02-02T14:30:53.874688",
     "exception": false,
     "start_time": "2021-02-02T14:30:53.836039",
     "status": "completed"
    },
    "tags": []
   },
   "outputs": [],
   "source": [
    "#hide\n",
    "df_snap = pd.read_csv('data/SnapshotCases-28-July.csv')\n",
    "arr_states = df_snap['states'].unique()\n",
    "arr_dates = df['Date'].unique()\n",
    "df_snap = df_snap.set_index('states')"
   ]
  },
  {
   "cell_type": "code",
   "execution_count": 4,
   "id": "interior-belfast",
   "metadata": {
    "execution": {
     "iopub.execute_input": "2021-02-02T14:30:53.912573Z",
     "iopub.status.busy": "2021-02-02T14:30:53.911951Z",
     "iopub.status.idle": "2021-02-02T14:30:53.917546Z",
     "shell.execute_reply": "2021-02-02T14:30:53.917116Z"
    },
    "papermill": {
     "duration": 0.027853,
     "end_time": "2021-02-02T14:30:53.917671",
     "exception": false,
     "start_time": "2021-02-02T14:30:53.889818",
     "status": "completed"
    },
    "tags": []
   },
   "outputs": [
    {
     "data": {
      "text/plain": [
       "array(['Andaman and Nicobar Islands', 'Andhra Pradesh',\n",
       "       'Arunachal Pradesh', 'Assam', 'Bihar', 'Chandigarh',\n",
       "       'Dadra and Nagar Haveli and Daman and Diu', 'Delhi', 'Goa',\n",
       "       'Gujarat', 'Haryana', 'Himachal Pradesh', 'Jammu and Kashmir',\n",
       "       'Jharkhand', 'Karnataka', 'Kerala', 'Lakshadweep',\n",
       "       'Madhya Pradesh', 'Maharashtra', 'Manipur', 'Meghalaya', 'Mizoram',\n",
       "       'Nagaland', 'Odisha', 'Puducherry', 'Punjab', 'Rajasthan',\n",
       "       'Sikkim', 'Tamil Nadu', 'Telangana', 'Tripura', 'Uttar Pradesh',\n",
       "       'West Bengal', 'Chhattisgarh', 'Ladakh', 'Uttarakhand'],\n",
       "      dtype=object)"
      ]
     },
     "execution_count": 4,
     "metadata": {},
     "output_type": "execute_result"
    }
   ],
   "source": [
    "#hide\n",
    "arr_states[-9] = 'Puducherry'\n",
    "arr_states[-10] = 'Odisha'\n",
    "arr_states[6] = 'Dadra and Nagar Haveli and Daman and Diu'\n",
    "arr_states = np.append(arr_states,np.array(['Chhattisgarh','Ladakh','Uttarakhand']))\n",
    "arr_states"
   ]
  },
  {
   "cell_type": "code",
   "execution_count": 5,
   "id": "behind-manner",
   "metadata": {
    "execution": {
     "iopub.execute_input": "2021-02-02T14:30:53.964567Z",
     "iopub.status.busy": "2021-02-02T14:30:53.963992Z",
     "iopub.status.idle": "2021-02-02T14:30:53.966770Z",
     "shell.execute_reply": "2021-02-02T14:30:53.966348Z"
    },
    "papermill": {
     "duration": 0.033735,
     "end_time": "2021-02-02T14:30:53.966895",
     "exception": false,
     "start_time": "2021-02-02T14:30:53.933160",
     "status": "completed"
    },
    "tags": []
   },
   "outputs": [],
   "source": [
    "#hide\n",
    "dates = []\n",
    "for i in arr_dates:\n",
    "    if i>='2020-07-01':\n",
    "        dates.append(i)\n",
    "dict = {'states':dates}\n",
    "for i in arr_states:\n",
    "    dict[i] = [0]*len(dates)\n",
    "dft_cases = pd.DataFrame(dict)\n",
    "dft_deaths = pd.DataFrame(dict)\n"
   ]
  },
  {
   "cell_type": "code",
   "execution_count": 6,
   "id": "simplified-peter",
   "metadata": {
    "execution": {
     "iopub.execute_input": "2021-02-02T14:30:54.005594Z",
     "iopub.status.busy": "2021-02-02T14:30:54.005058Z",
     "iopub.status.idle": "2021-02-02T14:30:56.659532Z",
     "shell.execute_reply": "2021-02-02T14:30:56.659983Z"
    },
    "papermill": {
     "duration": 2.677568,
     "end_time": "2021-02-02T14:30:56.660148",
     "exception": false,
     "start_time": "2021-02-02T14:30:53.982580",
     "status": "completed"
    },
    "tags": []
   },
   "outputs": [],
   "source": [
    "#hide\n",
    "for i in range(len(dates)):\n",
    "    df1_deaths = df_deaths1.get_group(dates[i])\n",
    "    for j in range(len(df1_deaths.index)):\n",
    "        if df1_deaths.iloc[j,1] in arr_states:\n",
    "            dft_deaths.loc[i,df1_deaths.iloc[j,1]] = df1_deaths.iloc[j,2]\n",
    "dft_deaths = dft_deaths.set_index('states')"
   ]
  },
  {
   "cell_type": "code",
   "execution_count": 7,
   "id": "geological-welding",
   "metadata": {
    "execution": {
     "iopub.execute_input": "2021-02-02T14:30:56.698208Z",
     "iopub.status.busy": "2021-02-02T14:30:56.697673Z",
     "iopub.status.idle": "2021-02-02T14:30:59.413337Z",
     "shell.execute_reply": "2021-02-02T14:30:59.412443Z"
    },
    "papermill": {
     "duration": 2.737537,
     "end_time": "2021-02-02T14:30:59.413477",
     "exception": false,
     "start_time": "2021-02-02T14:30:56.675940",
     "status": "completed"
    },
    "tags": []
   },
   "outputs": [],
   "source": [
    "#hide\n",
    "for i in range(len(dates)):\n",
    "    df1_cases = df_cases1.get_group(dates[i])\n",
    "    for j in range(len(df1_cases.index)):\n",
    "        if df1_cases.iloc[j,1] in arr_states:\n",
    "            dft_cases.loc[i,df1_cases.iloc[j,1]] = df1_cases.iloc[j,2]\n",
    "dft_cases = dft_cases.set_index('states')"
   ]
  },
  {
   "cell_type": "code",
   "execution_count": 8,
   "id": "binary-ratio",
   "metadata": {
    "execution": {
     "iopub.execute_input": "2021-02-02T14:30:59.450490Z",
     "iopub.status.busy": "2021-02-02T14:30:59.449947Z",
     "iopub.status.idle": "2021-02-02T14:30:59.452010Z",
     "shell.execute_reply": "2021-02-02T14:30:59.451570Z"
    },
    "papermill": {
     "duration": 0.022992,
     "end_time": "2021-02-02T14:30:59.452129",
     "exception": false,
     "start_time": "2021-02-02T14:30:59.429137",
     "status": "completed"
    },
    "tags": []
   },
   "outputs": [],
   "source": [
    "#hide\n",
    "dft_cases = dft_cases.T\n",
    "dft_deaths = dft_deaths.T\n",
    "dt_today = dates[-1]\n",
    "dt_yday = dates[-2]"
   ]
  },
  {
   "cell_type": "code",
   "execution_count": 9,
   "id": "boolean-calculator",
   "metadata": {
    "execution": {
     "iopub.execute_input": "2021-02-02T14:30:59.489117Z",
     "iopub.status.busy": "2021-02-02T14:30:59.488318Z",
     "iopub.status.idle": "2021-02-02T14:30:59.493614Z",
     "shell.execute_reply": "2021-02-02T14:30:59.493198Z"
    },
    "papermill": {
     "duration": 0.026119,
     "end_time": "2021-02-02T14:30:59.493737",
     "exception": false,
     "start_time": "2021-02-02T14:30:59.467618",
     "status": "completed"
    },
    "tags": []
   },
   "outputs": [],
   "source": [
    "#hide\n",
    "dft_cases = dft_cases.reset_index()\n",
    "dft_deaths = dft_deaths.reset_index()\n",
    "dft_cases = dft_cases.rename(columns = {'index':'state'})\n",
    "dft_deaths = dft_deaths.rename(columns = {'index':'state'})"
   ]
  },
  {
   "cell_type": "code",
   "execution_count": 10,
   "id": "invisible-johnston",
   "metadata": {
    "execution": {
     "iopub.execute_input": "2021-02-02T14:30:59.534850Z",
     "iopub.status.busy": "2021-02-02T14:30:59.534308Z",
     "iopub.status.idle": "2021-02-02T14:30:59.536352Z",
     "shell.execute_reply": "2021-02-02T14:30:59.536791Z"
    },
    "papermill": {
     "duration": 0.027806,
     "end_time": "2021-02-02T14:30:59.536934",
     "exception": false,
     "start_time": "2021-02-02T14:30:59.509128",
     "status": "completed"
    },
    "tags": []
   },
   "outputs": [],
   "source": [
    "#hide\n",
    "dfc_cases = dft_cases.groupby('state')[dt_today].sum()\n",
    "dfc_deaths = dft_deaths.groupby('state')[dt_today].sum()\n",
    "dfp_cases = dft_cases.groupby('state')[dt_yday].sum()\n",
    "dfp_deaths = dft_deaths.groupby('state')[dt_yday].sum()"
   ]
  },
  {
   "cell_type": "code",
   "execution_count": 11,
   "id": "measured-great",
   "metadata": {
    "execution": {
     "iopub.execute_input": "2021-02-02T14:30:59.581565Z",
     "iopub.status.busy": "2021-02-02T14:30:59.581042Z",
     "iopub.status.idle": "2021-02-02T14:30:59.586605Z",
     "shell.execute_reply": "2021-02-02T14:30:59.587014Z"
    },
    "papermill": {
     "duration": 0.034772,
     "end_time": "2021-02-02T14:30:59.587155",
     "exception": false,
     "start_time": "2021-02-02T14:30:59.552383",
     "status": "completed"
    },
    "tags": []
   },
   "outputs": [
    {
     "data": {
      "text/html": [
       "<div>\n",
       "<style scoped>\n",
       "    .dataframe tbody tr th:only-of-type {\n",
       "        vertical-align: middle;\n",
       "    }\n",
       "\n",
       "    .dataframe tbody tr th {\n",
       "        vertical-align: top;\n",
       "    }\n",
       "\n",
       "    .dataframe thead th {\n",
       "        text-align: right;\n",
       "    }\n",
       "</style>\n",
       "<table border=\"1\" class=\"dataframe\">\n",
       "  <thead>\n",
       "    <tr style=\"text-align: right;\">\n",
       "      <th></th>\n",
       "      <th>states</th>\n",
       "      <th>Cases</th>\n",
       "      <th>Deaths</th>\n",
       "      <th>PCases</th>\n",
       "      <th>PDeaths</th>\n",
       "    </tr>\n",
       "  </thead>\n",
       "  <tbody>\n",
       "    <tr>\n",
       "      <th>0</th>\n",
       "      <td>Maharashtra</td>\n",
       "      <td>2026399</td>\n",
       "      <td>51082</td>\n",
       "      <td>2026399</td>\n",
       "      <td>51082</td>\n",
       "    </tr>\n",
       "    <tr>\n",
       "      <th>1</th>\n",
       "      <td>Karnataka</td>\n",
       "      <td>939387</td>\n",
       "      <td>12217</td>\n",
       "      <td>939387</td>\n",
       "      <td>12217</td>\n",
       "    </tr>\n",
       "    <tr>\n",
       "      <th>2</th>\n",
       "      <td>Kerala</td>\n",
       "      <td>929179</td>\n",
       "      <td>3744</td>\n",
       "      <td>929179</td>\n",
       "      <td>3744</td>\n",
       "    </tr>\n",
       "    <tr>\n",
       "      <th>3</th>\n",
       "      <td>Andhra Pradesh</td>\n",
       "      <td>887836</td>\n",
       "      <td>7153</td>\n",
       "      <td>887836</td>\n",
       "      <td>7153</td>\n",
       "    </tr>\n",
       "    <tr>\n",
       "      <th>4</th>\n",
       "      <td>Tamil Nadu</td>\n",
       "      <td>838340</td>\n",
       "      <td>12356</td>\n",
       "      <td>838340</td>\n",
       "      <td>12356</td>\n",
       "    </tr>\n",
       "  </tbody>\n",
       "</table>\n",
       "</div>"
      ],
      "text/plain": [
       "           states    Cases  Deaths   PCases  PDeaths\n",
       "0     Maharashtra  2026399   51082  2026399    51082\n",
       "1       Karnataka   939387   12217   939387    12217\n",
       "2          Kerala   929179    3744   929179     3744\n",
       "3  Andhra Pradesh   887836    7153   887836     7153\n",
       "4      Tamil Nadu   838340   12356   838340    12356"
      ]
     },
     "execution_count": 11,
     "metadata": {},
     "output_type": "execute_result"
    }
   ],
   "source": [
    "#hide\n",
    "df_table = pd.DataFrame({'states': dfc_cases.index, 'Cases': dfc_cases.values, 'Deaths': dfc_deaths.values, 'PCases': dfp_cases.values, 'PDeaths': dfp_deaths.values}).set_index('states')\n",
    "df_table = df_table.sort_values(by = ['Cases','Deaths'], ascending = [False, False])\n",
    "df_table = df_table.reset_index()\n",
    "df_table.head()"
   ]
  },
  {
   "cell_type": "code",
   "execution_count": 12,
   "id": "found-montreal",
   "metadata": {
    "execution": {
     "iopub.execute_input": "2021-02-02T14:30:59.623951Z",
     "iopub.status.busy": "2021-02-02T14:30:59.623432Z",
     "iopub.status.idle": "2021-02-02T14:30:59.631838Z",
     "shell.execute_reply": "2021-02-02T14:30:59.631421Z"
    },
    "papermill": {
     "duration": 0.029167,
     "end_time": "2021-02-02T14:30:59.631959",
     "exception": false,
     "start_time": "2021-02-02T14:30:59.602792",
     "status": "completed"
    },
    "tags": []
   },
   "outputs": [],
   "source": [
    "#hide\n",
    "for c in 'Cases, Deaths'.split(', '):\n",
    "    df_table[f'{c} (+)'] = (df_table[c] - df_table[f'P{c}']).clip(0)\n",
    "df_table['Fatality Rate'] = (100* df_table['Deaths']/ df_table['Cases']).round(2)"
   ]
  },
  {
   "cell_type": "code",
   "execution_count": 13,
   "id": "minus-savage",
   "metadata": {
    "execution": {
     "iopub.execute_input": "2021-02-02T14:30:59.673564Z",
     "iopub.status.busy": "2021-02-02T14:30:59.673021Z",
     "iopub.status.idle": "2021-02-02T14:30:59.677260Z",
     "shell.execute_reply": "2021-02-02T14:30:59.676836Z"
    },
    "papermill": {
     "duration": 0.029696,
     "end_time": "2021-02-02T14:30:59.677380",
     "exception": false,
     "start_time": "2021-02-02T14:30:59.647684",
     "status": "completed"
    },
    "tags": []
   },
   "outputs": [
    {
     "data": {
      "text/html": [
       "<div>\n",
       "<style scoped>\n",
       "    .dataframe tbody tr th:only-of-type {\n",
       "        vertical-align: middle;\n",
       "    }\n",
       "\n",
       "    .dataframe tbody tr th {\n",
       "        vertical-align: top;\n",
       "    }\n",
       "\n",
       "    .dataframe thead th {\n",
       "        text-align: right;\n",
       "    }\n",
       "</style>\n",
       "<table border=\"1\" class=\"dataframe\">\n",
       "  <thead>\n",
       "    <tr style=\"text-align: right;\">\n",
       "      <th></th>\n",
       "      <th>states</th>\n",
       "      <th>Cases</th>\n",
       "      <th>Deaths</th>\n",
       "      <th>PCases</th>\n",
       "      <th>PDeaths</th>\n",
       "      <th>Cases (+)</th>\n",
       "      <th>Deaths (+)</th>\n",
       "      <th>Fatality Rate</th>\n",
       "    </tr>\n",
       "  </thead>\n",
       "  <tbody>\n",
       "    <tr>\n",
       "      <th>0</th>\n",
       "      <td>Maharashtra</td>\n",
       "      <td>2026399</td>\n",
       "      <td>51082</td>\n",
       "      <td>2026399</td>\n",
       "      <td>51082</td>\n",
       "      <td>0</td>\n",
       "      <td>0</td>\n",
       "      <td>2.52</td>\n",
       "    </tr>\n",
       "    <tr>\n",
       "      <th>1</th>\n",
       "      <td>Karnataka</td>\n",
       "      <td>939387</td>\n",
       "      <td>12217</td>\n",
       "      <td>939387</td>\n",
       "      <td>12217</td>\n",
       "      <td>0</td>\n",
       "      <td>0</td>\n",
       "      <td>1.30</td>\n",
       "    </tr>\n",
       "    <tr>\n",
       "      <th>2</th>\n",
       "      <td>Kerala</td>\n",
       "      <td>929179</td>\n",
       "      <td>3744</td>\n",
       "      <td>929179</td>\n",
       "      <td>3744</td>\n",
       "      <td>0</td>\n",
       "      <td>0</td>\n",
       "      <td>0.40</td>\n",
       "    </tr>\n",
       "    <tr>\n",
       "      <th>3</th>\n",
       "      <td>Andhra Pradesh</td>\n",
       "      <td>887836</td>\n",
       "      <td>7153</td>\n",
       "      <td>887836</td>\n",
       "      <td>7153</td>\n",
       "      <td>0</td>\n",
       "      <td>0</td>\n",
       "      <td>0.81</td>\n",
       "    </tr>\n",
       "    <tr>\n",
       "      <th>4</th>\n",
       "      <td>Tamil Nadu</td>\n",
       "      <td>838340</td>\n",
       "      <td>12356</td>\n",
       "      <td>838340</td>\n",
       "      <td>12356</td>\n",
       "      <td>0</td>\n",
       "      <td>0</td>\n",
       "      <td>1.47</td>\n",
       "    </tr>\n",
       "  </tbody>\n",
       "</table>\n",
       "</div>"
      ],
      "text/plain": [
       "           states    Cases  Deaths   PCases  PDeaths  Cases (+)  Deaths (+)  \\\n",
       "0     Maharashtra  2026399   51082  2026399    51082          0           0   \n",
       "1       Karnataka   939387   12217   939387    12217          0           0   \n",
       "2          Kerala   929179    3744   929179     3744          0           0   \n",
       "3  Andhra Pradesh   887836    7153   887836     7153          0           0   \n",
       "4      Tamil Nadu   838340   12356   838340    12356          0           0   \n",
       "\n",
       "   Fatality Rate  \n",
       "0           2.52  \n",
       "1           1.30  \n",
       "2           0.40  \n",
       "3           0.81  \n",
       "4           1.47  "
      ]
     },
     "execution_count": 13,
     "metadata": {},
     "output_type": "execute_result"
    }
   ],
   "source": [
    "#hide\n",
    "df_table.head()"
   ]
  },
  {
   "cell_type": "code",
   "execution_count": 14,
   "id": "false-peter",
   "metadata": {
    "execution": {
     "iopub.execute_input": "2021-02-02T14:30:59.716216Z",
     "iopub.status.busy": "2021-02-02T14:30:59.715683Z",
     "iopub.status.idle": "2021-02-02T14:30:59.731114Z",
     "shell.execute_reply": "2021-02-02T14:30:59.730656Z"
    },
    "papermill": {
     "duration": 0.037426,
     "end_time": "2021-02-02T14:30:59.731241",
     "exception": false,
     "start_time": "2021-02-02T14:30:59.693815",
     "status": "completed"
    },
    "tags": []
   },
   "outputs": [
    {
     "data": {
      "text/plain": [
       "{'updated': '2021-02-01',\n",
       " 'since': '2021-01-31',\n",
       " 'Cases': 10758627,\n",
       " 'PCases': 10758627,\n",
       " 'Deaths': 154428,\n",
       " 'PDeaths': 154428,\n",
       " 'Cases (+)': 0,\n",
       " 'Deaths (+)': 0}"
      ]
     },
     "execution_count": 14,
     "metadata": {},
     "output_type": "execute_result"
    }
   ],
   "source": [
    "#hide\n",
    "summary = {'updated':dates[-1], 'since':dates[-2]}\n",
    "list_names = ['Cases', 'PCases', 'Deaths', 'PDeaths', 'Cases (+)', 'Deaths (+)']\n",
    "for name in list_names:\n",
    "    summary[name] = df_table.sum()[name]\n",
    "summary"
   ]
  },
  {
   "cell_type": "code",
   "execution_count": 15,
   "id": "packed-viewer",
   "metadata": {
    "execution": {
     "iopub.execute_input": "2021-02-02T14:30:59.769217Z",
     "iopub.status.busy": "2021-02-02T14:30:59.768661Z",
     "iopub.status.idle": "2021-02-02T14:30:59.772107Z",
     "shell.execute_reply": "2021-02-02T14:30:59.772519Z"
    },
    "papermill": {
     "duration": 0.024834,
     "end_time": "2021-02-02T14:30:59.772675",
     "exception": false,
     "start_time": "2021-02-02T14:30:59.747841",
     "status": "completed"
    },
    "tags": []
   },
   "outputs": [],
   "source": [
    "#hide\n",
    "overview = '''\n",
    "<!-- #######  HTML!! #########-->\n",
    "<h1 style=\"color: #5e9ca0; text-align: center;\">India</h1>\n",
    "<p style=\"text-align: center;\">Last update: <strong>{update}</strong></p>\n",
    "<p style=\"text-align: center;\">Confirmed cases:</p>\n",
    "<p style=\"text-align: center;font-size:24px;\">{cases} (<span style=\"color: #ff0000;\">+{new}</span>)</p>\n",
    "<p style=\"text-align: center;\">Confirmed deaths:</p>\n",
    "<p style=\"text-align: center;font-size:24px;\">{deaths} (<span style=\"color: #ff0000;\">+{dnew}</span>)</p>\n",
    "'''"
   ]
  },
  {
   "cell_type": "code",
   "execution_count": 16,
   "id": "phantom-lover",
   "metadata": {
    "execution": {
     "iopub.execute_input": "2021-02-02T14:30:59.811405Z",
     "iopub.status.busy": "2021-02-02T14:30:59.810841Z",
     "iopub.status.idle": "2021-02-02T14:30:59.813812Z",
     "shell.execute_reply": "2021-02-02T14:30:59.813399Z"
    },
    "papermill": {
     "duration": 0.024738,
     "end_time": "2021-02-02T14:30:59.813928",
     "exception": false,
     "start_time": "2021-02-02T14:30:59.789190",
     "status": "completed"
    },
    "tags": []
   },
   "outputs": [
    {
     "data": {
      "text/html": [
       "\n",
       "<!-- #######  HTML!! #########-->\n",
       "<h1 style=\"color: #5e9ca0; text-align: center;\">India</h1>\n",
       "<p style=\"text-align: center;\">Last update: <strong>2021-02-01</strong></p>\n",
       "<p style=\"text-align: center;\">Confirmed cases:</p>\n",
       "<p style=\"text-align: center;font-size:24px;\">10758627 (<span style=\"color: #ff0000;\">+0</span>)</p>\n",
       "<p style=\"text-align: center;\">Confirmed deaths:</p>\n",
       "<p style=\"text-align: center;font-size:24px;\">154428 (<span style=\"color: #ff0000;\">+0</span>)</p>\n"
      ],
      "text/plain": [
       "<IPython.core.display.HTML object>"
      ]
     },
     "metadata": {},
     "output_type": "display_data"
    }
   ],
   "source": [
    "#hide_input\n",
    "update = summary['updated']\n",
    "cases = summary['Cases']\n",
    "new = summary['Cases (+)']\n",
    "deaths = summary['Deaths']\n",
    "dnew = summary['Deaths (+)']\n",
    "\n",
    "html = HTML(overview.format(update=update, cases=cases,new=new,deaths=deaths,dnew=dnew))\n",
    "\n",
    "display(html)"
   ]
  },
  {
   "cell_type": "code",
   "execution_count": 17,
   "id": "sealed-reset",
   "metadata": {
    "execution": {
     "iopub.execute_input": "2021-02-02T14:30:59.854642Z",
     "iopub.status.busy": "2021-02-02T14:30:59.854125Z",
     "iopub.status.idle": "2021-02-02T14:30:59.861233Z",
     "shell.execute_reply": "2021-02-02T14:30:59.860822Z"
    },
    "papermill": {
     "duration": 0.030258,
     "end_time": "2021-02-02T14:30:59.861351",
     "exception": false,
     "start_time": "2021-02-02T14:30:59.831093",
     "status": "completed"
    },
    "tags": []
   },
   "outputs": [],
   "source": [
    "#hide\n",
    "dt_cols = list(dft_cases.columns[1:])\n",
    "dft_ct_new_cases = dft_cases.groupby('state')[dt_cols].sum().diff(axis=1).fillna(0).astype(int)\n",
    "dft_ct_new_cases.sort_values(by = dates[-1], ascending = False,inplace = True)"
   ]
  },
  {
   "cell_type": "code",
   "execution_count": 18,
   "id": "designed-constant",
   "metadata": {
    "execution": {
     "iopub.execute_input": "2021-02-02T14:30:59.911388Z",
     "iopub.status.busy": "2021-02-02T14:30:59.910798Z",
     "iopub.status.idle": "2021-02-02T14:30:59.913121Z",
     "shell.execute_reply": "2021-02-02T14:30:59.913597Z"
    },
    "papermill": {
     "duration": 0.03544,
     "end_time": "2021-02-02T14:30:59.913736",
     "exception": false,
     "start_time": "2021-02-02T14:30:59.878296",
     "status": "completed"
    },
    "tags": []
   },
   "outputs": [
    {
     "data": {
      "text/html": [
       "<div>\n",
       "<style scoped>\n",
       "    .dataframe tbody tr th:only-of-type {\n",
       "        vertical-align: middle;\n",
       "    }\n",
       "\n",
       "    .dataframe tbody tr th {\n",
       "        vertical-align: top;\n",
       "    }\n",
       "\n",
       "    .dataframe thead th {\n",
       "        text-align: right;\n",
       "    }\n",
       "</style>\n",
       "<table border=\"1\" class=\"dataframe\">\n",
       "  <thead>\n",
       "    <tr style=\"text-align: right;\">\n",
       "      <th>states</th>\n",
       "      <th>2020-07-01</th>\n",
       "      <th>2020-07-02</th>\n",
       "      <th>2020-07-03</th>\n",
       "      <th>2020-07-04</th>\n",
       "      <th>2020-07-05</th>\n",
       "      <th>2020-07-06</th>\n",
       "      <th>2020-07-07</th>\n",
       "      <th>2020-07-08</th>\n",
       "      <th>2020-07-09</th>\n",
       "      <th>2020-07-10</th>\n",
       "      <th>...</th>\n",
       "      <th>2021-01-23</th>\n",
       "      <th>2021-01-24</th>\n",
       "      <th>2021-01-25</th>\n",
       "      <th>2021-01-26</th>\n",
       "      <th>2021-01-27</th>\n",
       "      <th>2021-01-28</th>\n",
       "      <th>2021-01-29</th>\n",
       "      <th>2021-01-30</th>\n",
       "      <th>2021-01-31</th>\n",
       "      <th>2021-02-01</th>\n",
       "    </tr>\n",
       "    <tr>\n",
       "      <th>state</th>\n",
       "      <th></th>\n",
       "      <th></th>\n",
       "      <th></th>\n",
       "      <th></th>\n",
       "      <th></th>\n",
       "      <th></th>\n",
       "      <th></th>\n",
       "      <th></th>\n",
       "      <th></th>\n",
       "      <th></th>\n",
       "      <th></th>\n",
       "      <th></th>\n",
       "      <th></th>\n",
       "      <th></th>\n",
       "      <th></th>\n",
       "      <th></th>\n",
       "      <th></th>\n",
       "      <th></th>\n",
       "      <th></th>\n",
       "      <th></th>\n",
       "      <th></th>\n",
       "    </tr>\n",
       "  </thead>\n",
       "  <tbody>\n",
       "    <tr>\n",
       "      <th>Andaman and Nicobar Islands</th>\n",
       "      <td>0</td>\n",
       "      <td>9</td>\n",
       "      <td>7</td>\n",
       "      <td>3</td>\n",
       "      <td>6</td>\n",
       "      <td>16</td>\n",
       "      <td>6</td>\n",
       "      <td>2</td>\n",
       "      <td>7</td>\n",
       "      <td>0</td>\n",
       "      <td>...</td>\n",
       "      <td>1</td>\n",
       "      <td>0</td>\n",
       "      <td>1</td>\n",
       "      <td>0</td>\n",
       "      <td>0</td>\n",
       "      <td>0</td>\n",
       "      <td>0</td>\n",
       "      <td>0</td>\n",
       "      <td>0</td>\n",
       "      <td>0</td>\n",
       "    </tr>\n",
       "    <tr>\n",
       "      <th>Andhra Pradesh</th>\n",
       "      <td>0</td>\n",
       "      <td>845</td>\n",
       "      <td>837</td>\n",
       "      <td>765</td>\n",
       "      <td>998</td>\n",
       "      <td>1322</td>\n",
       "      <td>1178</td>\n",
       "      <td>1062</td>\n",
       "      <td>1555</td>\n",
       "      <td>1608</td>\n",
       "      <td>...</td>\n",
       "      <td>158</td>\n",
       "      <td>158</td>\n",
       "      <td>56</td>\n",
       "      <td>172</td>\n",
       "      <td>111</td>\n",
       "      <td>117</td>\n",
       "      <td>125</td>\n",
       "      <td>129</td>\n",
       "      <td>116</td>\n",
       "      <td>0</td>\n",
       "    </tr>\n",
       "    <tr>\n",
       "      <th>Maharashtra</th>\n",
       "      <td>0</td>\n",
       "      <td>6328</td>\n",
       "      <td>6364</td>\n",
       "      <td>7074</td>\n",
       "      <td>6555</td>\n",
       "      <td>5368</td>\n",
       "      <td>5134</td>\n",
       "      <td>6603</td>\n",
       "      <td>6875</td>\n",
       "      <td>7862</td>\n",
       "      <td>...</td>\n",
       "      <td>2697</td>\n",
       "      <td>2752</td>\n",
       "      <td>1842</td>\n",
       "      <td>2405</td>\n",
       "      <td>2171</td>\n",
       "      <td>2889</td>\n",
       "      <td>2771</td>\n",
       "      <td>2630</td>\n",
       "      <td>2585</td>\n",
       "      <td>0</td>\n",
       "    </tr>\n",
       "    <tr>\n",
       "      <th>Manipur</th>\n",
       "      <td>0</td>\n",
       "      <td>19</td>\n",
       "      <td>37</td>\n",
       "      <td>9</td>\n",
       "      <td>41</td>\n",
       "      <td>24</td>\n",
       "      <td>40</td>\n",
       "      <td>5</td>\n",
       "      <td>15</td>\n",
       "      <td>132</td>\n",
       "      <td>...</td>\n",
       "      <td>17</td>\n",
       "      <td>16</td>\n",
       "      <td>11</td>\n",
       "      <td>6</td>\n",
       "      <td>4</td>\n",
       "      <td>15</td>\n",
       "      <td>15</td>\n",
       "      <td>15</td>\n",
       "      <td>16</td>\n",
       "      <td>0</td>\n",
       "    </tr>\n",
       "    <tr>\n",
       "      <th>Meghalaya</th>\n",
       "      <td>0</td>\n",
       "      <td>3</td>\n",
       "      <td>4</td>\n",
       "      <td>8</td>\n",
       "      <td>2</td>\n",
       "      <td>16</td>\n",
       "      <td>6</td>\n",
       "      <td>6</td>\n",
       "      <td>13</td>\n",
       "      <td>73</td>\n",
       "      <td>...</td>\n",
       "      <td>4</td>\n",
       "      <td>5</td>\n",
       "      <td>2</td>\n",
       "      <td>6</td>\n",
       "      <td>1</td>\n",
       "      <td>8</td>\n",
       "      <td>4</td>\n",
       "      <td>8</td>\n",
       "      <td>3</td>\n",
       "      <td>0</td>\n",
       "    </tr>\n",
       "  </tbody>\n",
       "</table>\n",
       "<p>5 rows × 216 columns</p>\n",
       "</div>"
      ],
      "text/plain": [
       "states                       2020-07-01  2020-07-02  2020-07-03  2020-07-04  \\\n",
       "state                                                                         \n",
       "Andaman and Nicobar Islands           0           9           7           3   \n",
       "Andhra Pradesh                        0         845         837         765   \n",
       "Maharashtra                           0        6328        6364        7074   \n",
       "Manipur                               0          19          37           9   \n",
       "Meghalaya                             0           3           4           8   \n",
       "\n",
       "states                       2020-07-05  2020-07-06  2020-07-07  2020-07-08  \\\n",
       "state                                                                         \n",
       "Andaman and Nicobar Islands           6          16           6           2   \n",
       "Andhra Pradesh                      998        1322        1178        1062   \n",
       "Maharashtra                        6555        5368        5134        6603   \n",
       "Manipur                              41          24          40           5   \n",
       "Meghalaya                             2          16           6           6   \n",
       "\n",
       "states                       2020-07-09  2020-07-10  ...  2021-01-23  \\\n",
       "state                                                ...               \n",
       "Andaman and Nicobar Islands           7           0  ...           1   \n",
       "Andhra Pradesh                     1555        1608  ...         158   \n",
       "Maharashtra                        6875        7862  ...        2697   \n",
       "Manipur                              15         132  ...          17   \n",
       "Meghalaya                            13          73  ...           4   \n",
       "\n",
       "states                       2021-01-24  2021-01-25  2021-01-26  2021-01-27  \\\n",
       "state                                                                         \n",
       "Andaman and Nicobar Islands           0           1           0           0   \n",
       "Andhra Pradesh                      158          56         172         111   \n",
       "Maharashtra                        2752        1842        2405        2171   \n",
       "Manipur                              16          11           6           4   \n",
       "Meghalaya                             5           2           6           1   \n",
       "\n",
       "states                       2021-01-28  2021-01-29  2021-01-30  2021-01-31  \\\n",
       "state                                                                         \n",
       "Andaman and Nicobar Islands           0           0           0           0   \n",
       "Andhra Pradesh                      117         125         129         116   \n",
       "Maharashtra                        2889        2771        2630        2585   \n",
       "Manipur                              15          15          15          16   \n",
       "Meghalaya                             8           4           8           3   \n",
       "\n",
       "states                       2021-02-01  \n",
       "state                                    \n",
       "Andaman and Nicobar Islands           0  \n",
       "Andhra Pradesh                        0  \n",
       "Maharashtra                           0  \n",
       "Manipur                               0  \n",
       "Meghalaya                             0  \n",
       "\n",
       "[5 rows x 216 columns]"
      ]
     },
     "execution_count": 18,
     "metadata": {},
     "output_type": "execute_result"
    }
   ],
   "source": [
    "#hide\n",
    "dft_ct_new_cases.head()"
   ]
  },
  {
   "cell_type": "code",
   "execution_count": 19,
   "id": "responsible-nightlife",
   "metadata": {
    "execution": {
     "iopub.execute_input": "2021-02-02T14:30:59.972133Z",
     "iopub.status.busy": "2021-02-02T14:30:59.961489Z",
     "iopub.status.idle": "2021-02-02T14:31:06.488994Z",
     "shell.execute_reply": "2021-02-02T14:31:06.489413Z"
    },
    "papermill": {
     "duration": 6.558199,
     "end_time": "2021-02-02T14:31:06.489560",
     "exception": false,
     "start_time": "2021-02-02T14:30:59.931361",
     "status": "completed"
    },
    "tags": []
   },
   "outputs": [
    {
     "data": {
      "image/png": "[encoded data removed]",
      "text/plain": [
       "<Figure size 1296x2016 with 11 Axes>"
      ]
     },
     "metadata": {
      "needs_background": "light"
     },
     "output_type": "display_data"
    }
   ],
   "source": [
    "#hide_input\n",
    "df = dft_ct_new_cases.copy()\n",
    "df.loc['Total'] = df.sum()\n",
    "n = 5\n",
    "ax = []\n",
    "fig = plt.figure(figsize = (18,28))\n",
    "gs = fig.add_gridspec(n+2, 5)\n",
    "# gs = fig.add_gridspec(2, 3)\n",
    "ax1 = fig.add_subplot(gs[0, :])\n",
    "ef = df.loc['Total'].rename_axis('date').reset_index()\n",
    "ef['date'] = ef['date'].astype('datetime64[ns]')\n",
    "ax1.bar(ef.date,ef.Total,alpha=0.3,color='#007acc')\n",
    "ax1.plot(ef.date,ef.Total , marker=\"o\", color='#007acc')\n",
    "ax1.xaxis.set_major_locator(mdates.WeekdayLocator())\n",
    "ax1.xaxis.set_major_formatter(mdates.DateFormatter('%b %d'))\n",
    "ax1.text(0.02, 0.5,'India daily case count', transform = ax1.transAxes, fontsize=25);\n",
    "ax1.spines['right'].set_visible(False)\n",
    "ax1.spines['top'].set_visible(False)\n",
    "\n",
    "ax2 = fig.add_subplot(gs[1,0])\n",
    "ef = df.loc['Maharashtra'].rename_axis('date').reset_index()\n",
    "ef['date'] = ef['date'].astype('datetime64[ns]')\n",
    "\n",
    "ax2.bar(ef.date, ef.Maharashtra,color = '#007acc',alpha=0.5)\n",
    "ax2.xaxis.set_major_locator(mdates.WeekdayLocator())\n",
    "ax2.xaxis.set_major_formatter(mdates.DateFormatter('%b %d'))\n",
    "ax2.set_xticks(ax2.get_xticks()[::3])\n",
    "maxyval = ef.Maharashtra.max()\n",
    "ax2.set_ylim([0,maxyval])\n",
    "ax2.text(0.05, 0.9,'Maharashtra', transform = ax2.transAxes, fontsize=20);\n",
    "ax2.spines['right'].set_visible(False)\n",
    "ax2.spines['top'].set_visible(False)\n",
    "\n",
    "\n",
    "ax3 = fig.add_subplot(gs[1,1])\n",
    "ef = df.loc['Tamil Nadu'].rename_axis('date').reset_index()\n",
    "ef['date'] = ef['date'].astype('datetime64[ns]')\n",
    "ax3.bar(ef.date, ef['Tamil Nadu'],color = '#007acc',alpha=0.5,)\n",
    "ax3.xaxis.set_major_locator(mdates.WeekdayLocator())\n",
    "ax3.xaxis.set_major_formatter(mdates.DateFormatter('%b %d'))\n",
    "ax3.set_xticks(ax3.get_xticks()[::3])\n",
    "ax3.text(0.05, 0.9,'Tamil Nadu', transform = ax3.transAxes, fontsize=20);\n",
    "ax3.spines['right'].set_visible(False)\n",
    "ax3.spines['top'].set_visible(False)\n",
    "\n",
    "ax5 = fig.add_subplot(gs[1,3])\n",
    "ef = df.loc['Telangana'].rename_axis('date').reset_index()\n",
    "ef['date'] = ef['date'].astype('datetime64[ns]')\n",
    "ax5.bar(ef.date, ef['Telangana'],color = '#007acc',alpha=0.5,)\n",
    "ax5.xaxis.set_major_locator(mdates.WeekdayLocator())\n",
    "ax5.xaxis.set_major_formatter(mdates.DateFormatter('%b %d'))\n",
    "ax5.set_xticks(ax5.get_xticks()[::3])\n",
    "ax5.text(0.05, 0.9,'Telangana', transform = ax5.transAxes, fontsize=20);\n",
    "ax5.spines['right'].set_visible(False)\n",
    "ax5.spines['top'].set_visible(False)\n",
    "\n",
    "ax6 = fig.add_subplot(gs[1,4])\n",
    "ef = df.loc['Andhra Pradesh'].rename_axis('date').reset_index()\n",
    "ef['date'] = ef['date'].astype('datetime64[ns]')\n",
    "ax6.bar(ef.date, ef['Andhra Pradesh'],color = '#007acc',alpha=0.5,)\n",
    "ax6.xaxis.set_major_locator(mdates.WeekdayLocator())\n",
    "ax6.xaxis.set_major_formatter(mdates.DateFormatter('%b %d'))\n",
    "ax6.set_xticks(ax6.get_xticks()[::3])\n",
    "ax6.text(0.05, 1,'Andhra Pradesh', transform = ax6.transAxes, fontsize=20);\n",
    "ax6.spines['right'].set_visible(False)\n",
    "ax6.spines['top'].set_visible(False)\n",
    "\n",
    "ax4 = fig.add_subplot(gs[1,2])\n",
    "ef = df.loc['Delhi'].rename_axis('date').reset_index()\n",
    "ef['date'] = ef['date'].astype('datetime64[ns]')\n",
    "ax4.bar(ef.date, ef.Delhi,color = '#007acc',alpha=0.5)\n",
    "ax4.set_xticks([])\n",
    "ax4.xaxis.set_major_locator(mdates.WeekdayLocator())\n",
    "ax4.xaxis.set_major_formatter(mdates.DateFormatter('%b %d'))\n",
    "ax4.set_xticks(ax4.get_xticks()[::3])\n",
    "ax4.spines['right'].set_visible(False)\n",
    "ax4.spines['top'].set_visible(False)\n",
    "\n",
    "ax4.text(0.05, 1,'Delhi', transform = ax4.transAxes, fontsize=20)\n",
    "\n",
    "for i in range(n):\n",
    "    \n",
    "    ax.append(fig.add_subplot(gs[i+2,:]))\n",
    "    ef = df.iloc[i+3].rename_axis('date').reset_index()\n",
    "    ef['date'] = ef['date'].astype('datetime64[ns]')\n",
    "    ax[i].bar(ef.date,ef.iloc[:,-1],color = '#007acc',alpha=0.3)\n",
    "    ax[i].plot(ef.date,ef.iloc[:,-1],marker='o',color='#007acc')\n",
    "    ax[i].text(0.02,0.5,f'{ef.columns.values[-1]}',transform = ax[i].transAxes, fontsize = 20);\n",
    "    ax[i].xaxis.set_major_locator(mdates.WeekdayLocator())\n",
    "    ax[i].xaxis.set_major_formatter(mdates.DateFormatter('%b %d'))\n",
    "    ax[i].set_ylim([0,7000])\n",
    "    ax[i].spines['right'].set_visible(False)\n",
    "    ax[i].spines['top'].set_visible(False)\n",
    "plt.tight_layout()\n"
   ]
  },
  {
   "cell_type": "code",
   "execution_count": 20,
   "id": "dress-forge",
   "metadata": {
    "execution": {
     "iopub.execute_input": "2021-02-02T14:31:06.648518Z",
     "iopub.status.busy": "2021-02-02T14:31:06.647934Z",
     "iopub.status.idle": "2021-02-02T14:31:06.650045Z",
     "shell.execute_reply": "2021-02-02T14:31:06.650443Z"
    },
    "papermill": {
     "duration": 0.115444,
     "end_time": "2021-02-02T14:31:06.650586",
     "exception": false,
     "start_time": "2021-02-02T14:31:06.535142",
     "status": "completed"
    },
    "tags": []
   },
   "outputs": [
    {
     "name": "stdout",
     "output_type": "stream",
     "text": [
      "                                   states    Cases  Deaths   PCases  PDeaths  Cases (+)  Deaths (+)  Fatality Rate\n",
      "                              Maharashtra  2026399   51082  2026399    51082          0           0           2.52\n",
      "                                Karnataka   939387   12217   939387    12217          0           0           1.30\n",
      "                                   Kerala   929179    3744   929179     3744          0           0           0.40\n",
      "                           Andhra Pradesh   887836    7153   887836     7153          0           0           0.81\n",
      "                               Tamil Nadu   838340   12356   838340    12356          0           0           1.47\n",
      "                                    Delhi   635096   10853   635096    10853          0           0           1.71\n",
      "                            Uttar Pradesh   600299    8658   600299     8658          0           0           1.44\n",
      "                              West Bengal   569998   10173   569998    10173          0           0           1.78\n",
      "                                   Odisha   335072    1959   335072     1959          0           0           0.58\n",
      "                                Rajasthan   317491    2766   317491     2766          0           0           0.87\n",
      "                             Chhattisgarh   305367    3701   305367     3701          0           0           1.21\n",
      "                                Telangana   294469    1599   294469     1599          0           0           0.54\n",
      "                                  Haryana   267897    3018   267897     3018          0           0           1.13\n",
      "                                  Gujarat   261540    4387   261540     4387          0           0           1.68\n",
      "                                    Bihar   260719    1501   260719     1501          0           0           0.58\n",
      "                           Madhya Pradesh   255112    3810   255112     3810          0           0           1.49\n",
      "                                    Assam   217141    1082   217141     1082          0           0           0.50\n",
      "                                   Punjab   173276    5615   173276     5615          0           0           3.24\n",
      "                        Jammu and Kashmir   124506    1936   124506     1936          0           0           1.55\n",
      "                                Jharkhand   118692    1072   118692     1072          0           0           0.90\n",
      "                              Uttarakhand    96129    1644    96129     1644          0           0           1.71\n",
      "                         Himachal Pradesh    57536     967    57536      967          0           0           1.68\n",
      "                                      Goa    53409     768    53409      768          0           0           1.44\n",
      "                               Puducherry    39068     648    39068      648          0           0           1.66\n",
      "                                  Tripura    33347     388    33347      388          0           0           1.16\n",
      "                                  Manipur    29068     371    29068      371          0           0           1.28\n",
      "                               Chandigarh    20925     334    20925      334          0           0           1.60\n",
      "                        Arunachal Pradesh    16828      56    16828       56          0           0           0.33\n",
      "                                Meghalaya    13764     146    13764      146          0           0           1.06\n",
      "                                 Nagaland    12094      88    12094       88          0           0           0.73\n",
      "                                   Ladakh     9720     130     9720      130          0           0           1.34\n",
      "                                   Sikkim     6090     133     6090      133          0           0           2.18\n",
      "              Andaman and Nicobar Islands     4994      62     4994       62          0           0           1.24\n",
      "                                  Mizoram     4372       9     4372        9          0           0           0.21\n",
      " Dadra and Nagar Haveli and Daman and Diu     3380       2     3380        2          0           0           0.06\n",
      "                              Lakshadweep       87       0       87        0          0           0           0.00\n"
     ]
    }
   ],
   "source": [
    "#hide_input\n",
    "print(df_table.to_string(index=False))"
   ]
  },
  {
   "cell_type": "code",
   "execution_count": null,
   "id": "quantitative-legend",
   "metadata": {
    "papermill": {
     "duration": 0.034896,
     "end_time": "2021-02-02T14:31:06.743364",
     "exception": false,
     "start_time": "2021-02-02T14:31:06.708468",
     "status": "completed"
    },
    "tags": []
   },
   "outputs": [],
   "source": []
  },
  {
   "cell_type": "code",
   "execution_count": null,
   "id": "distant-acoustic",
   "metadata": {
    "papermill": {
     "duration": 0.022941,
     "end_time": "2021-02-02T14:31:06.934967",
     "exception": false,
     "start_time": "2021-02-02T14:31:06.912026",
     "status": "completed"
    },
    "tags": []
   },
   "outputs": [],
   "source": []
  }
 ],
 "metadata": {
  "kernelspec": {
   "display_name": "Python 3",
   "language": "python",
   "name": "python3"
  },
  "language_info": {
   "codemirror_mode": {
    "name": "ipython",
    "version": 3
   },
   "file_extension": ".py",
   "mimetype": "text/x-python",
   "name": "python",
   "nbconvert_exporter": "python",
   "pygments_lexer": "ipython3",
   "version": "3.6.12"
  },
  "papermill": {
   "duration": 15.934685,
   "end_time": "2021-02-02T14:31:07.665468",
   "environment_variables": {},
   "exception": null,
   "input_path": "latest.ipynb",
   "output_path": "latest.ipynb",
   "parameters": {},
   "start_time": "2021-02-02T14:30:51.730783",
   "version": "2.1.2"
  }
 },
 "nbformat": 4,
 "nbformat_minor": 5
}