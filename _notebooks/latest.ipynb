{
 "cells": [
  {
   "cell_type": "markdown",
   "id": "colored-stack",
   "metadata": {
    "papermill": {
     "duration": 0.01936,
     "end_time": "2021-05-06T10:49:42.760202",
     "exception": false,
     "start_time": "2021-05-06T10:49:42.740842",
     "status": "completed"
    },
    "tags": []
   },
   "source": [
    "# Latest COVID-19 India Matplotlib Overview"
   ]
  },
  {
   "cell_type": "code",
   "execution_count": 1,
   "id": "light-proportion",
   "metadata": {
    "execution": {
     "iopub.execute_input": "2021-05-06T10:49:42.800006Z",
     "iopub.status.busy": "2021-05-06T10:49:42.799581Z",
     "iopub.status.idle": "2021-05-06T10:49:43.258137Z",
     "shell.execute_reply": "2021-05-06T10:49:43.257268Z"
    },
    "papermill": {
     "duration": 0.484976,
     "end_time": "2021-05-06T10:49:43.258270",
     "exception": false,
     "start_time": "2021-05-06T10:49:42.773294",
     "status": "completed"
    },
    "tags": []
   },
   "outputs": [],
   "source": [
    "#hide\n",
    "import pandas as pd\n",
    "import numpy as np\n",
    "import requests\n",
    "import json\n",
    "import matplotlib.pyplot as plt\n",
    "import matplotlib.dates as mdates\n",
    "import matplotlib as mpl\n",
    "from IPython.core.display import display,HTML\n",
    "%matplotlib inline\n",
    "from datetime import date"
   ]
  },
  {
   "cell_type": "code",
   "execution_count": 2,
   "id": "greenhouse-shooting",
   "metadata": {
    "execution": {
     "iopub.execute_input": "2021-05-06T10:49:43.291189Z",
     "iopub.status.busy": "2021-05-06T10:49:43.290652Z",
     "iopub.status.idle": "2021-05-06T10:49:43.448501Z",
     "shell.execute_reply": "2021-05-06T10:49:43.447649Z"
    },
    "papermill": {
     "duration": 0.176557,
     "end_time": "2021-05-06T10:49:43.448774",
     "exception": false,
     "start_time": "2021-05-06T10:49:43.272217",
     "status": "completed"
    },
    "tags": []
   },
   "outputs": [],
   "source": [
    "#hide\n",
    "df  = pd.read_csv('https://api.covid19india.org/csv/latest/states.csv')\n",
    "df = df[['Date','State','Confirmed','Deceased']]\n",
    "df = df.rename(columns={'Confirmed':'Cases', \"Deceased\":'Deaths'})\n",
    "df_cases = df[[\"Date\",'State','Cases']]\n",
    "df_deaths = df[['Date','State','Deaths']]\n",
    "df_cases1 = df_cases.groupby('Date')\n",
    "df_deaths1= df_deaths.groupby('Date')"
   ]
  },
  {
   "cell_type": "code",
   "execution_count": 3,
   "id": "hybrid-cathedral",
   "metadata": {
    "execution": {
     "iopub.execute_input": "2021-05-06T10:49:43.481847Z",
     "iopub.status.busy": "2021-05-06T10:49:43.481442Z",
     "iopub.status.idle": "2021-05-06T10:49:43.496647Z",
     "shell.execute_reply": "2021-05-06T10:49:43.496138Z"
    },
    "papermill": {
     "duration": 0.033114,
     "end_time": "2021-05-06T10:49:43.496764",
     "exception": false,
     "start_time": "2021-05-06T10:49:43.463650",
     "status": "completed"
    },
    "tags": []
   },
   "outputs": [],
   "source": [
    "#hide\n",
    "df_snap = pd.read_csv('data/SnapshotCases-28-July.csv')\n",
    "arr_states = df_snap['states'].unique()\n",
    "arr_dates = df['Date'].unique()\n",
    "df_snap = df_snap.set_index('states')"
   ]
  },
  {
   "cell_type": "code",
   "execution_count": 4,
   "id": "interior-belfast",
   "metadata": {
    "execution": {
     "iopub.execute_input": "2021-05-06T10:49:43.531002Z",
     "iopub.status.busy": "2021-05-06T10:49:43.530601Z",
     "iopub.status.idle": "2021-05-06T10:49:43.534455Z",
     "shell.execute_reply": "2021-05-06T10:49:43.534115Z"
    },
    "papermill": {
     "duration": 0.023574,
     "end_time": "2021-05-06T10:49:43.534535",
     "exception": false,
     "start_time": "2021-05-06T10:49:43.510961",
     "status": "completed"
    },
    "tags": []
   },
   "outputs": [
    {
     "data": {
      "text/plain": [
       "array(['Andaman and Nicobar Islands', 'Andhra Pradesh',\n",
       "       'Arunachal Pradesh', 'Assam', 'Bihar', 'Chandigarh',\n",
       "       'Dadra and Nagar Haveli and Daman and Diu', 'Delhi', 'Goa',\n",
       "       'Gujarat', 'Haryana', 'Himachal Pradesh', 'Jammu and Kashmir',\n",
       "       'Jharkhand', 'Karnataka', 'Kerala', 'Lakshadweep',\n",
       "       'Madhya Pradesh', 'Maharashtra', 'Manipur', 'Meghalaya', 'Mizoram',\n",
       "       'Nagaland', 'Odisha', 'Puducherry', 'Punjab', 'Rajasthan',\n",
       "       'Sikkim', 'Tamil Nadu', 'Telangana', 'Tripura', 'Uttar Pradesh',\n",
       "       'West Bengal', 'Chhattisgarh', 'Ladakh', 'Uttarakhand'],\n",
       "      dtype=object)"
      ]
     },
     "execution_count": 4,
     "metadata": {},
     "output_type": "execute_result"
    }
   ],
   "source": [
    "#hide\n",
    "arr_states[-9] = 'Puducherry'\n",
    "arr_states[-10] = 'Odisha'\n",
    "arr_states[6] = 'Dadra and Nagar Haveli and Daman and Diu'\n",
    "arr_states = np.append(arr_states,np.array(['Chhattisgarh','Ladakh','Uttarakhand']))\n",
    "arr_states"
   ]
  },
  {
   "cell_type": "code",
   "execution_count": 5,
   "id": "behind-manner",
   "metadata": {
    "execution": {
     "iopub.execute_input": "2021-05-06T10:49:43.571218Z",
     "iopub.status.busy": "2021-05-06T10:49:43.570805Z",
     "iopub.status.idle": "2021-05-06T10:49:43.578427Z",
     "shell.execute_reply": "2021-05-06T10:49:43.578767Z"
    },
    "papermill": {
     "duration": 0.031493,
     "end_time": "2021-05-06T10:49:43.578852",
     "exception": false,
     "start_time": "2021-05-06T10:49:43.547359",
     "status": "completed"
    },
    "tags": []
   },
   "outputs": [],
   "source": [
    "#hide\n",
    "dates = []\n",
    "for i in arr_dates:\n",
    "    if i>='2020-07-01':\n",
    "        dates.append(i)\n",
    "dict = {'states':dates}\n",
    "for i in arr_states:\n",
    "    dict[i] = [0]*len(dates)\n",
    "dft_cases = pd.DataFrame(dict)\n",
    "dft_deaths = pd.DataFrame(dict)\n"
   ]
  },
  {
   "cell_type": "code",
   "execution_count": 6,
   "id": "simplified-peter",
   "metadata": {
    "execution": {
     "iopub.execute_input": "2021-05-06T10:49:43.609733Z",
     "iopub.status.busy": "2021-05-06T10:49:43.609183Z",
     "iopub.status.idle": "2021-05-06T10:49:46.930120Z",
     "shell.execute_reply": "2021-05-06T10:49:46.929088Z"
    },
    "papermill": {
     "duration": 3.338947,
     "end_time": "2021-05-06T10:49:46.930253",
     "exception": false,
     "start_time": "2021-05-06T10:49:43.591306",
     "status": "completed"
    },
    "tags": []
   },
   "outputs": [],
   "source": [
    "#hide\n",
    "for i in range(len(dates)):\n",
    "    df1_deaths = df_deaths1.get_group(dates[i])\n",
    "    for j in range(len(df1_deaths.index)):\n",
    "        if df1_deaths.iloc[j,1] in arr_states:\n",
    "            dft_deaths.loc[i,df1_deaths.iloc[j,1]] = df1_deaths.iloc[j,2]\n",
    "dft_deaths = dft_deaths.set_index('states')"
   ]
  },
  {
   "cell_type": "code",
   "execution_count": 7,
   "id": "geological-welding",
   "metadata": {
    "execution": {
     "iopub.execute_input": "2021-05-06T10:49:46.964456Z",
     "iopub.status.busy": "2021-05-06T10:49:46.963935Z",
     "iopub.status.idle": "2021-05-06T10:49:50.264360Z",
     "shell.execute_reply": "2021-05-06T10:49:50.263270Z"
    },
    "papermill": {
     "duration": 3.319753,
     "end_time": "2021-05-06T10:49:50.264479",
     "exception": false,
     "start_time": "2021-05-06T10:49:46.944726",
     "status": "completed"
    },
    "tags": []
   },
   "outputs": [],
   "source": [
    "#hide\n",
    "for i in range(len(dates)):\n",
    "    df1_cases = df_cases1.get_group(dates[i])\n",
    "    for j in range(len(df1_cases.index)):\n",
    "        if df1_cases.iloc[j,1] in arr_states:\n",
    "            dft_cases.loc[i,df1_cases.iloc[j,1]] = df1_cases.iloc[j,2]\n",
    "dft_cases = dft_cases.set_index('states')"
   ]
  },
  {
   "cell_type": "code",
   "execution_count": 8,
   "id": "binary-ratio",
   "metadata": {
    "execution": {
     "iopub.execute_input": "2021-05-06T10:49:50.295712Z",
     "iopub.status.busy": "2021-05-06T10:49:50.294657Z",
     "iopub.status.idle": "2021-05-06T10:49:50.296172Z",
     "shell.execute_reply": "2021-05-06T10:49:50.296490Z"
    },
    "papermill": {
     "duration": 0.0193,
     "end_time": "2021-05-06T10:49:50.296605",
     "exception": false,
     "start_time": "2021-05-06T10:49:50.277305",
     "status": "completed"
    },
    "tags": []
   },
   "outputs": [],
   "source": [
    "#hide\n",
    "dft_cases = dft_cases.T\n",
    "dft_deaths = dft_deaths.T\n",
    "dt_today = dates[-1]\n",
    "dt_yday = dates[-2]"
   ]
  },
  {
   "cell_type": "code",
   "execution_count": 9,
   "id": "boolean-calculator",
   "metadata": {
    "execution": {
     "iopub.execute_input": "2021-05-06T10:49:50.327257Z",
     "iopub.status.busy": "2021-05-06T10:49:50.326848Z",
     "iopub.status.idle": "2021-05-06T10:49:50.330559Z",
     "shell.execute_reply": "2021-05-06T10:49:50.330239Z"
    },
    "papermill": {
     "duration": 0.021643,
     "end_time": "2021-05-06T10:49:50.330642",
     "exception": false,
     "start_time": "2021-05-06T10:49:50.308999",
     "status": "completed"
    },
    "tags": []
   },
   "outputs": [],
   "source": [
    "#hide\n",
    "dft_cases = dft_cases.reset_index()\n",
    "dft_deaths = dft_deaths.reset_index()\n",
    "dft_cases = dft_cases.rename(columns = {'index':'state'})\n",
    "dft_deaths = dft_deaths.rename(columns = {'index':'state'})"
   ]
  },
  {
   "cell_type": "code",
   "execution_count": 10,
   "id": "invisible-johnston",
   "metadata": {
    "execution": {
     "iopub.execute_input": "2021-05-06T10:49:50.366102Z",
     "iopub.status.busy": "2021-05-06T10:49:50.365706Z",
     "iopub.status.idle": "2021-05-06T10:49:50.372702Z",
     "shell.execute_reply": "2021-05-06T10:49:50.372364Z"
    },
    "papermill": {
     "duration": 0.028032,
     "end_time": "2021-05-06T10:49:50.372786",
     "exception": false,
     "start_time": "2021-05-06T10:49:50.344754",
     "status": "completed"
    },
    "tags": []
   },
   "outputs": [],
   "source": [
    "#hide\n",
    "dfc_cases = dft_cases.groupby('state')[dt_today].sum()\n",
    "dfc_deaths = dft_deaths.groupby('state')[dt_today].sum()\n",
    "dfp_cases = dft_cases.groupby('state')[dt_yday].sum()\n",
    "dfp_deaths = dft_deaths.groupby('state')[dt_yday].sum()"
   ]
  },
  {
   "cell_type": "code",
   "execution_count": 11,
   "id": "measured-great",
   "metadata": {
    "execution": {
     "iopub.execute_input": "2021-05-06T10:49:50.414488Z",
     "iopub.status.busy": "2021-05-06T10:49:50.414091Z",
     "iopub.status.idle": "2021-05-06T10:49:50.419964Z",
     "shell.execute_reply": "2021-05-06T10:49:50.419570Z"
    },
    "papermill": {
     "duration": 0.032062,
     "end_time": "2021-05-06T10:49:50.420043",
     "exception": false,
     "start_time": "2021-05-06T10:49:50.387981",
     "status": "completed"
    },
    "tags": []
   },
   "outputs": [
    {
     "data": {
      "text/html": [
       "<div>\n",
       "<style scoped>\n",
       "    .dataframe tbody tr th:only-of-type {\n",
       "        vertical-align: middle;\n",
       "    }\n",
       "\n",
       "    .dataframe tbody tr th {\n",
       "        vertical-align: top;\n",
       "    }\n",
       "\n",
       "    .dataframe thead th {\n",
       "        text-align: right;\n",
       "    }\n",
       "</style>\n",
       "<table border=\"1\" class=\"dataframe\">\n",
       "  <thead>\n",
       "    <tr style=\"text-align: right;\">\n",
       "      <th></th>\n",
       "      <th>states</th>\n",
       "      <th>Cases</th>\n",
       "      <th>Deaths</th>\n",
       "      <th>PCases</th>\n",
       "      <th>PDeaths</th>\n",
       "    </tr>\n",
       "  </thead>\n",
       "  <tbody>\n",
       "    <tr>\n",
       "      <th>0</th>\n",
       "      <td>Maharashtra</td>\n",
       "      <td>4880542</td>\n",
       "      <td>72662</td>\n",
       "      <td>4880542</td>\n",
       "      <td>72662</td>\n",
       "    </tr>\n",
       "    <tr>\n",
       "      <th>1</th>\n",
       "      <td>Kerala</td>\n",
       "      <td>1743933</td>\n",
       "      <td>5566</td>\n",
       "      <td>1743933</td>\n",
       "      <td>5566</td>\n",
       "    </tr>\n",
       "    <tr>\n",
       "      <th>2</th>\n",
       "      <td>Karnataka</td>\n",
       "      <td>1741046</td>\n",
       "      <td>16884</td>\n",
       "      <td>1741046</td>\n",
       "      <td>16884</td>\n",
       "    </tr>\n",
       "    <tr>\n",
       "      <th>3</th>\n",
       "      <td>Uttar Pradesh</td>\n",
       "      <td>1399294</td>\n",
       "      <td>14151</td>\n",
       "      <td>1399294</td>\n",
       "      <td>14151</td>\n",
       "    </tr>\n",
       "    <tr>\n",
       "      <th>4</th>\n",
       "      <td>Delhi</td>\n",
       "      <td>1273035</td>\n",
       "      <td>18398</td>\n",
       "      <td>1253902</td>\n",
       "      <td>18063</td>\n",
       "    </tr>\n",
       "  </tbody>\n",
       "</table>\n",
       "</div>"
      ],
      "text/plain": [
       "          states    Cases  Deaths   PCases  PDeaths\n",
       "0    Maharashtra  4880542   72662  4880542    72662\n",
       "1         Kerala  1743933    5566  1743933     5566\n",
       "2      Karnataka  1741046   16884  1741046    16884\n",
       "3  Uttar Pradesh  1399294   14151  1399294    14151\n",
       "4          Delhi  1273035   18398  1253902    18063"
      ]
     },
     "execution_count": 11,
     "metadata": {},
     "output_type": "execute_result"
    }
   ],
   "source": [
    "#hide\n",
    "df_table = pd.DataFrame({'states': dfc_cases.index, 'Cases': dfc_cases.values, 'Deaths': dfc_deaths.values, 'PCases': dfp_cases.values, 'PDeaths': dfp_deaths.values}).set_index('states')\n",
    "df_table = df_table.sort_values(by = ['Cases','Deaths'], ascending = [False, False])\n",
    "df_table = df_table.reset_index()\n",
    "df_table.head()"
   ]
  },
  {
   "cell_type": "code",
   "execution_count": 12,
   "id": "found-montreal",
   "metadata": {
    "execution": {
     "iopub.execute_input": "2021-05-06T10:49:50.452441Z",
     "iopub.status.busy": "2021-05-06T10:49:50.451442Z",
     "iopub.status.idle": "2021-05-06T10:49:50.459966Z",
     "shell.execute_reply": "2021-05-06T10:49:50.459606Z"
    },
    "papermill": {
     "duration": 0.026305,
     "end_time": "2021-05-06T10:49:50.460044",
     "exception": false,
     "start_time": "2021-05-06T10:49:50.433739",
     "status": "completed"
    },
    "tags": []
   },
   "outputs": [],
   "source": [
    "#hide\n",
    "for c in 'Cases, Deaths'.split(', '):\n",
    "    df_table[f'{c} (+)'] = (df_table[c] - df_table[f'P{c}']).clip(0)\n",
    "df_table['Fatality Rate'] = (100* df_table['Deaths']/ df_table['Cases']).round(2)"
   ]
  },
  {
   "cell_type": "code",
   "execution_count": 13,
   "id": "minus-savage",
   "metadata": {
    "execution": {
     "iopub.execute_input": "2021-05-06T10:49:50.500888Z",
     "iopub.status.busy": "2021-05-06T10:49:50.500442Z",
     "iopub.status.idle": "2021-05-06T10:49:50.502992Z",
     "shell.execute_reply": "2021-05-06T10:49:50.502676Z"
    },
    "papermill": {
     "duration": 0.029016,
     "end_time": "2021-05-06T10:49:50.503071",
     "exception": false,
     "start_time": "2021-05-06T10:49:50.474055",
     "status": "completed"
    },
    "tags": []
   },
   "outputs": [
    {
     "data": {
      "text/html": [
       "<div>\n",
       "<style scoped>\n",
       "    .dataframe tbody tr th:only-of-type {\n",
       "        vertical-align: middle;\n",
       "    }\n",
       "\n",
       "    .dataframe tbody tr th {\n",
       "        vertical-align: top;\n",
       "    }\n",
       "\n",
       "    .dataframe thead th {\n",
       "        text-align: right;\n",
       "    }\n",
       "</style>\n",
       "<table border=\"1\" class=\"dataframe\">\n",
       "  <thead>\n",
       "    <tr style=\"text-align: right;\">\n",
       "      <th></th>\n",
       "      <th>states</th>\n",
       "      <th>Cases</th>\n",
       "      <th>Deaths</th>\n",
       "      <th>PCases</th>\n",
       "      <th>PDeaths</th>\n",
       "      <th>Cases (+)</th>\n",
       "      <th>Deaths (+)</th>\n",
       "      <th>Fatality Rate</th>\n",
       "    </tr>\n",
       "  </thead>\n",
       "  <tbody>\n",
       "    <tr>\n",
       "      <th>0</th>\n",
       "      <td>Maharashtra</td>\n",
       "      <td>4880542</td>\n",
       "      <td>72662</td>\n",
       "      <td>4880542</td>\n",
       "      <td>72662</td>\n",
       "      <td>0</td>\n",
       "      <td>0</td>\n",
       "      <td>1.49</td>\n",
       "    </tr>\n",
       "    <tr>\n",
       "      <th>1</th>\n",
       "      <td>Kerala</td>\n",
       "      <td>1743933</td>\n",
       "      <td>5566</td>\n",
       "      <td>1743933</td>\n",
       "      <td>5566</td>\n",
       "      <td>0</td>\n",
       "      <td>0</td>\n",
       "      <td>0.32</td>\n",
       "    </tr>\n",
       "    <tr>\n",
       "      <th>2</th>\n",
       "      <td>Karnataka</td>\n",
       "      <td>1741046</td>\n",
       "      <td>16884</td>\n",
       "      <td>1741046</td>\n",
       "      <td>16884</td>\n",
       "      <td>0</td>\n",
       "      <td>0</td>\n",
       "      <td>0.97</td>\n",
       "    </tr>\n",
       "    <tr>\n",
       "      <th>3</th>\n",
       "      <td>Uttar Pradesh</td>\n",
       "      <td>1399294</td>\n",
       "      <td>14151</td>\n",
       "      <td>1399294</td>\n",
       "      <td>14151</td>\n",
       "      <td>0</td>\n",
       "      <td>0</td>\n",
       "      <td>1.01</td>\n",
       "    </tr>\n",
       "    <tr>\n",
       "      <th>4</th>\n",
       "      <td>Delhi</td>\n",
       "      <td>1273035</td>\n",
       "      <td>18398</td>\n",
       "      <td>1253902</td>\n",
       "      <td>18063</td>\n",
       "      <td>19133</td>\n",
       "      <td>335</td>\n",
       "      <td>1.45</td>\n",
       "    </tr>\n",
       "  </tbody>\n",
       "</table>\n",
       "</div>"
      ],
      "text/plain": [
       "          states    Cases  Deaths   PCases  PDeaths  Cases (+)  Deaths (+)  \\\n",
       "0    Maharashtra  4880542   72662  4880542    72662          0           0   \n",
       "1         Kerala  1743933    5566  1743933     5566          0           0   \n",
       "2      Karnataka  1741046   16884  1741046    16884          0           0   \n",
       "3  Uttar Pradesh  1399294   14151  1399294    14151          0           0   \n",
       "4          Delhi  1273035   18398  1253902    18063      19133         335   \n",
       "\n",
       "   Fatality Rate  \n",
       "0           1.49  \n",
       "1           0.32  \n",
       "2           0.97  \n",
       "3           1.01  \n",
       "4           1.45  "
      ]
     },
     "execution_count": 13,
     "metadata": {},
     "output_type": "execute_result"
    }
   ],
   "source": [
    "#hide\n",
    "df_table.head()"
   ]
  },
  {
   "cell_type": "code",
   "execution_count": 14,
   "id": "false-peter",
   "metadata": {
    "execution": {
     "iopub.execute_input": "2021-05-06T10:49:50.535219Z",
     "iopub.status.busy": "2021-05-06T10:49:50.534825Z",
     "iopub.status.idle": "2021-05-06T10:49:50.548311Z",
     "shell.execute_reply": "2021-05-06T10:49:50.547970Z"
    },
    "papermill": {
     "duration": 0.031776,
     "end_time": "2021-05-06T10:49:50.548388",
     "exception": false,
     "start_time": "2021-05-06T10:49:50.516612",
     "status": "completed"
    },
    "tags": []
   },
   "outputs": [
    {
     "data": {
      "text/plain": [
       "{'updated': '2021-05-06',\n",
       " 'since': '2021-05-05',\n",
       " 'Cases': 21108763,\n",
       " 'PCases': 21071103,\n",
       " 'Deaths': 230576,\n",
       " 'PDeaths': 230151,\n",
       " 'Cases (+)': 37660,\n",
       " 'Deaths (+)': 425}"
      ]
     },
     "execution_count": 14,
     "metadata": {},
     "output_type": "execute_result"
    }
   ],
   "source": [
    "#hide\n",
    "summary = {'updated':dates[-1], 'since':dates[-2]}\n",
    "list_names = ['Cases', 'PCases', 'Deaths', 'PDeaths', 'Cases (+)', 'Deaths (+)']\n",
    "for name in list_names:\n",
    "    summary[name] = df_table.sum()[name]\n",
    "summary"
   ]
  },
  {
   "cell_type": "code",
   "execution_count": 15,
   "id": "packed-viewer",
   "metadata": {
    "execution": {
     "iopub.execute_input": "2021-05-06T10:49:50.579181Z",
     "iopub.status.busy": "2021-05-06T10:49:50.578778Z",
     "iopub.status.idle": "2021-05-06T10:49:50.580761Z",
     "shell.execute_reply": "2021-05-06T10:49:50.580369Z"
    },
    "papermill": {
     "duration": 0.018702,
     "end_time": "2021-05-06T10:49:50.580855",
     "exception": false,
     "start_time": "2021-05-06T10:49:50.562153",
     "status": "completed"
    },
    "tags": []
   },
   "outputs": [],
   "source": [
    "#hide\n",
    "overview = '''\n",
    "<!-- #######  HTML!! #########-->\n",
    "<h1 style=\"color: #5e9ca0; text-align: center;\">India</h1>\n",
    "<p style=\"text-align: center;\">Last update: <strong>{update}</strong></p>\n",
    "<p style=\"text-align: center;\">Confirmed cases:</p>\n",
    "<p style=\"text-align: center;font-size:24px;\">{cases} (<span style=\"color: #ff0000;\">+{new}</span>)</p>\n",
    "<p style=\"text-align: center;\">Confirmed deaths:</p>\n",
    "<p style=\"text-align: center;font-size:24px;\">{deaths} (<span style=\"color: #ff0000;\">+{dnew}</span>)</p>\n",
    "'''"
   ]
  },
  {
   "cell_type": "code",
   "execution_count": 16,
   "id": "phantom-lover",
   "metadata": {
    "execution": {
     "iopub.execute_input": "2021-05-06T10:49:50.615570Z",
     "iopub.status.busy": "2021-05-06T10:49:50.615170Z",
     "iopub.status.idle": "2021-05-06T10:49:50.619568Z",
     "shell.execute_reply": "2021-05-06T10:49:50.619992Z"
    },
    "papermill": {
     "duration": 0.026042,
     "end_time": "2021-05-06T10:49:50.620112",
     "exception": false,
     "start_time": "2021-05-06T10:49:50.594070",
     "status": "completed"
    },
    "tags": []
   },
   "outputs": [
    {
     "data": {
      "text/html": [
       "\n",
       "<!-- #######  HTML!! #########-->\n",
       "<h1 style=\"color: #5e9ca0; text-align: center;\">India</h1>\n",
       "<p style=\"text-align: center;\">Last update: <strong>2021-05-06</strong></p>\n",
       "<p style=\"text-align: center;\">Confirmed cases:</p>\n",
       "<p style=\"text-align: center;font-size:24px;\">21108763 (<span style=\"color: #ff0000;\">+37660</span>)</p>\n",
       "<p style=\"text-align: center;\">Confirmed deaths:</p>\n",
       "<p style=\"text-align: center;font-size:24px;\">230576 (<span style=\"color: #ff0000;\">+425</span>)</p>\n"
      ],
      "text/plain": [
       "<IPython.core.display.HTML object>"
      ]
     },
     "metadata": {},
     "output_type": "display_data"
    }
   ],
   "source": [
    "#hide_input\n",
    "update = summary['updated']\n",
    "cases = summary['Cases']\n",
    "new = summary['Cases (+)']\n",
    "deaths = summary['Deaths']\n",
    "dnew = summary['Deaths (+)']\n",
    "\n",
    "html = HTML(overview.format(update=update, cases=cases,new=new,deaths=deaths,dnew=dnew))\n",
    "\n",
    "display(html)"
   ]
  },
  {
   "cell_type": "code",
   "execution_count": 17,
   "id": "sealed-reset",
   "metadata": {
    "execution": {
     "iopub.execute_input": "2021-05-06T10:49:50.655504Z",
     "iopub.status.busy": "2021-05-06T10:49:50.654850Z",
     "iopub.status.idle": "2021-05-06T10:49:50.662980Z",
     "shell.execute_reply": "2021-05-06T10:49:50.663325Z"
    },
    "papermill": {
     "duration": 0.028985,
     "end_time": "2021-05-06T10:49:50.663409",
     "exception": false,
     "start_time": "2021-05-06T10:49:50.634424",
     "status": "completed"
    },
    "tags": []
   },
   "outputs": [],
   "source": [
    "#hide\n",
    "dt_cols = list(dft_cases.columns[1:])\n",
    "dft_ct_new_cases = dft_cases.groupby('state')[dt_cols].sum().diff(axis=1).fillna(0).astype(int)\n",
    "dft_ct_new_cases.sort_values(by = dates[-1], ascending = False,inplace = True)"
   ]
  },
  {
   "cell_type": "code",
   "execution_count": 18,
   "id": "designed-constant",
   "metadata": {
    "execution": {
     "iopub.execute_input": "2021-05-06T10:49:50.707299Z",
     "iopub.status.busy": "2021-05-06T10:49:50.706903Z",
     "iopub.status.idle": "2021-05-06T10:49:50.709256Z",
     "shell.execute_reply": "2021-05-06T10:49:50.709714Z"
    },
    "papermill": {
     "duration": 0.032868,
     "end_time": "2021-05-06T10:49:50.709853",
     "exception": false,
     "start_time": "2021-05-06T10:49:50.676985",
     "status": "completed"
    },
    "tags": []
   },
   "outputs": [
    {
     "data": {
      "text/html": [
       "<div>\n",
       "<style scoped>\n",
       "    .dataframe tbody tr th:only-of-type {\n",
       "        vertical-align: middle;\n",
       "    }\n",
       "\n",
       "    .dataframe tbody tr th {\n",
       "        vertical-align: top;\n",
       "    }\n",
       "\n",
       "    .dataframe thead th {\n",
       "        text-align: right;\n",
       "    }\n",
       "</style>\n",
       "<table border=\"1\" class=\"dataframe\">\n",
       "  <thead>\n",
       "    <tr style=\"text-align: right;\">\n",
       "      <th>states</th>\n",
       "      <th>2020-07-01</th>\n",
       "      <th>2020-07-02</th>\n",
       "      <th>2020-07-03</th>\n",
       "      <th>2020-07-04</th>\n",
       "      <th>2020-07-05</th>\n",
       "      <th>2020-07-06</th>\n",
       "      <th>2020-07-07</th>\n",
       "      <th>2020-07-08</th>\n",
       "      <th>2020-07-09</th>\n",
       "      <th>2020-07-10</th>\n",
       "      <th>...</th>\n",
       "      <th>2021-04-27</th>\n",
       "      <th>2021-04-28</th>\n",
       "      <th>2021-04-29</th>\n",
       "      <th>2021-04-30</th>\n",
       "      <th>2021-05-01</th>\n",
       "      <th>2021-05-02</th>\n",
       "      <th>2021-05-03</th>\n",
       "      <th>2021-05-04</th>\n",
       "      <th>2021-05-05</th>\n",
       "      <th>2021-05-06</th>\n",
       "    </tr>\n",
       "    <tr>\n",
       "      <th>state</th>\n",
       "      <th></th>\n",
       "      <th></th>\n",
       "      <th></th>\n",
       "      <th></th>\n",
       "      <th></th>\n",
       "      <th></th>\n",
       "      <th></th>\n",
       "      <th></th>\n",
       "      <th></th>\n",
       "      <th></th>\n",
       "      <th></th>\n",
       "      <th></th>\n",
       "      <th></th>\n",
       "      <th></th>\n",
       "      <th></th>\n",
       "      <th></th>\n",
       "      <th></th>\n",
       "      <th></th>\n",
       "      <th></th>\n",
       "      <th></th>\n",
       "      <th></th>\n",
       "    </tr>\n",
       "  </thead>\n",
       "  <tbody>\n",
       "    <tr>\n",
       "      <th>Delhi</th>\n",
       "      <td>0</td>\n",
       "      <td>2373</td>\n",
       "      <td>2520</td>\n",
       "      <td>2505</td>\n",
       "      <td>2244</td>\n",
       "      <td>1379</td>\n",
       "      <td>2008</td>\n",
       "      <td>2033</td>\n",
       "      <td>2187</td>\n",
       "      <td>2089</td>\n",
       "      <td>...</td>\n",
       "      <td>24149</td>\n",
       "      <td>25986</td>\n",
       "      <td>24235</td>\n",
       "      <td>27047</td>\n",
       "      <td>25219</td>\n",
       "      <td>20394</td>\n",
       "      <td>18043</td>\n",
       "      <td>19953</td>\n",
       "      <td>20960</td>\n",
       "      <td>19133</td>\n",
       "    </tr>\n",
       "    <tr>\n",
       "      <th>Odisha</th>\n",
       "      <td>0</td>\n",
       "      <td>229</td>\n",
       "      <td>561</td>\n",
       "      <td>495</td>\n",
       "      <td>469</td>\n",
       "      <td>456</td>\n",
       "      <td>571</td>\n",
       "      <td>527</td>\n",
       "      <td>577</td>\n",
       "      <td>755</td>\n",
       "      <td>...</td>\n",
       "      <td>6073</td>\n",
       "      <td>8386</td>\n",
       "      <td>6998</td>\n",
       "      <td>8681</td>\n",
       "      <td>10413</td>\n",
       "      <td>8015</td>\n",
       "      <td>8914</td>\n",
       "      <td>8216</td>\n",
       "      <td>9889</td>\n",
       "      <td>10521</td>\n",
       "    </tr>\n",
       "    <tr>\n",
       "      <th>Telangana</th>\n",
       "      <td>0</td>\n",
       "      <td>1213</td>\n",
       "      <td>1892</td>\n",
       "      <td>1850</td>\n",
       "      <td>1590</td>\n",
       "      <td>1831</td>\n",
       "      <td>1879</td>\n",
       "      <td>1924</td>\n",
       "      <td>1410</td>\n",
       "      <td>1278</td>\n",
       "      <td>...</td>\n",
       "      <td>10122</td>\n",
       "      <td>8061</td>\n",
       "      <td>7994</td>\n",
       "      <td>7646</td>\n",
       "      <td>7754</td>\n",
       "      <td>7430</td>\n",
       "      <td>5695</td>\n",
       "      <td>6876</td>\n",
       "      <td>6361</td>\n",
       "      <td>6026</td>\n",
       "    </tr>\n",
       "    <tr>\n",
       "      <th>Puducherry</th>\n",
       "      <td>0</td>\n",
       "      <td>63</td>\n",
       "      <td>22</td>\n",
       "      <td>80</td>\n",
       "      <td>42</td>\n",
       "      <td>65</td>\n",
       "      <td>30</td>\n",
       "      <td>110</td>\n",
       "      <td>49</td>\n",
       "      <td>72</td>\n",
       "      <td>...</td>\n",
       "      <td>1021</td>\n",
       "      <td>1258</td>\n",
       "      <td>1122</td>\n",
       "      <td>1195</td>\n",
       "      <td>1379</td>\n",
       "      <td>1360</td>\n",
       "      <td>799</td>\n",
       "      <td>1138</td>\n",
       "      <td>1819</td>\n",
       "      <td>1510</td>\n",
       "    </tr>\n",
       "    <tr>\n",
       "      <th>Tripura</th>\n",
       "      <td>0</td>\n",
       "      <td>39</td>\n",
       "      <td>93</td>\n",
       "      <td>25</td>\n",
       "      <td>23</td>\n",
       "      <td>111</td>\n",
       "      <td>24</td>\n",
       "      <td>57</td>\n",
       "      <td>16</td>\n",
       "      <td>142</td>\n",
       "      <td>...</td>\n",
       "      <td>111</td>\n",
       "      <td>124</td>\n",
       "      <td>166</td>\n",
       "      <td>141</td>\n",
       "      <td>173</td>\n",
       "      <td>247</td>\n",
       "      <td>134</td>\n",
       "      <td>271</td>\n",
       "      <td>240</td>\n",
       "      <td>300</td>\n",
       "    </tr>\n",
       "  </tbody>\n",
       "</table>\n",
       "<p>5 rows × 310 columns</p>\n",
       "</div>"
      ],
      "text/plain": [
       "states      2020-07-01  2020-07-02  2020-07-03  2020-07-04  2020-07-05  \\\n",
       "state                                                                    \n",
       "Delhi                0        2373        2520        2505        2244   \n",
       "Odisha               0         229         561         495         469   \n",
       "Telangana            0        1213        1892        1850        1590   \n",
       "Puducherry           0          63          22          80          42   \n",
       "Tripura              0          39          93          25          23   \n",
       "\n",
       "states      2020-07-06  2020-07-07  2020-07-08  2020-07-09  2020-07-10  ...  \\\n",
       "state                                                                   ...   \n",
       "Delhi             1379        2008        2033        2187        2089  ...   \n",
       "Odisha             456         571         527         577         755  ...   \n",
       "Telangana         1831        1879        1924        1410        1278  ...   \n",
       "Puducherry          65          30         110          49          72  ...   \n",
       "Tripura            111          24          57          16         142  ...   \n",
       "\n",
       "states      2021-04-27  2021-04-28  2021-04-29  2021-04-30  2021-05-01  \\\n",
       "state                                                                    \n",
       "Delhi            24149       25986       24235       27047       25219   \n",
       "Odisha            6073        8386        6998        8681       10413   \n",
       "Telangana        10122        8061        7994        7646        7754   \n",
       "Puducherry        1021        1258        1122        1195        1379   \n",
       "Tripura            111         124         166         141         173   \n",
       "\n",
       "states      2021-05-02  2021-05-03  2021-05-04  2021-05-05  2021-05-06  \n",
       "state                                                                   \n",
       "Delhi            20394       18043       19953       20960       19133  \n",
       "Odisha            8015        8914        8216        9889       10521  \n",
       "Telangana         7430        5695        6876        6361        6026  \n",
       "Puducherry        1360         799        1138        1819        1510  \n",
       "Tripura            247         134         271         240         300  \n",
       "\n",
       "[5 rows x 310 columns]"
      ]
     },
     "execution_count": 18,
     "metadata": {},
     "output_type": "execute_result"
    }
   ],
   "source": [
    "#hide\n",
    "dft_ct_new_cases.head()"
   ]
  },
  {
   "cell_type": "code",
   "execution_count": 19,
   "id": "responsible-nightlife",
   "metadata": {
    "execution": {
     "iopub.execute_input": "2021-05-06T10:49:50.742387Z",
     "iopub.status.busy": "2021-05-06T10:49:50.741964Z",
     "iopub.status.idle": "2021-05-06T10:49:59.633531Z",
     "shell.execute_reply": "2021-05-06T10:49:59.633867Z"
    },
    "papermill": {
     "duration": 8.909039,
     "end_time": "2021-05-06T10:49:59.633985",
     "exception": false,
     "start_time": "2021-05-06T10:49:50.724946",
     "status": "completed"
    },
    "tags": []
   },
   "outputs": [
    {
     "data": {
      "image/png": "[encoded data removed]",
      "text/plain": [
       "<Figure size 1296x2016 with 11 Axes>"
      ]
     },
     "metadata": {
      "needs_background": "light"
     },
     "output_type": "display_data"
    }
   ],
   "source": [
    "#hide_input\n",
    "df = dft_ct_new_cases.copy()\n",
    "df.loc['Total'] = df.sum()\n",
    "n = 5\n",
    "ax = []\n",
    "fig = plt.figure(figsize = (18,28))\n",
    "gs = fig.add_gridspec(n+2, 5)\n",
    "# gs = fig.add_gridspec(2, 3)\n",
    "ax1 = fig.add_subplot(gs[0, :])\n",
    "ef = df.loc['Total'].rename_axis('date').reset_index()\n",
    "ef['date'] = ef['date'].astype('datetime64[ns]')\n",
    "ax1.bar(ef.date,ef.Total,alpha=0.3,color='#007acc')\n",
    "ax1.plot(ef.date,ef.Total , marker=\"o\", color='#007acc')\n",
    "ax1.xaxis.set_major_locator(mdates.WeekdayLocator())\n",
    "ax1.xaxis.set_major_formatter(mdates.DateFormatter('%b %d'))\n",
    "ax1.text(0.02, 0.5,'India daily case count', transform = ax1.transAxes, fontsize=25);\n",
    "ax1.spines['right'].set_visible(False)\n",
    "ax1.spines['top'].set_visible(False)\n",
    "\n",
    "ax2 = fig.add_subplot(gs[1,0])\n",
    "ef = df.loc['Maharashtra'].rename_axis('date').reset_index()\n",
    "ef['date'] = ef['date'].astype('datetime64[ns]')\n",
    "\n",
    "ax2.bar(ef.date, ef.Maharashtra,color = '#007acc',alpha=0.5)\n",
    "ax2.xaxis.set_major_locator(mdates.WeekdayLocator())\n",
    "ax2.xaxis.set_major_formatter(mdates.DateFormatter('%b %d'))\n",
    "ax2.set_xticks(ax2.get_xticks()[::3])\n",
    "maxyval = ef.Maharashtra.max()\n",
    "ax2.set_ylim([0,maxyval])\n",
    "ax2.text(0.05, 0.9,'Maharashtra', transform = ax2.transAxes, fontsize=20);\n",
    "ax2.spines['right'].set_visible(False)\n",
    "ax2.spines['top'].set_visible(False)\n",
    "\n",
    "\n",
    "ax3 = fig.add_subplot(gs[1,1])\n",
    "ef = df.loc['Tamil Nadu'].rename_axis('date').reset_index()\n",
    "ef['date'] = ef['date'].astype('datetime64[ns]')\n",
    "ax3.bar(ef.date, ef['Tamil Nadu'],color = '#007acc',alpha=0.5,)\n",
    "ax3.xaxis.set_major_locator(mdates.WeekdayLocator())\n",
    "ax3.xaxis.set_major_formatter(mdates.DateFormatter('%b %d'))\n",
    "ax3.set_xticks(ax3.get_xticks()[::3])\n",
    "ax3.text(0.05, 0.9,'Tamil Nadu', transform = ax3.transAxes, fontsize=20);\n",
    "ax3.spines['right'].set_visible(False)\n",
    "ax3.spines['top'].set_visible(False)\n",
    "\n",
    "ax5 = fig.add_subplot(gs[1,3])\n",
    "ef = df.loc['Telangana'].rename_axis('date').reset_index()\n",
    "ef['date'] = ef['date'].astype('datetime64[ns]')\n",
    "ax5.bar(ef.date, ef['Telangana'],color = '#007acc',alpha=0.5,)\n",
    "ax5.xaxis.set_major_locator(mdates.WeekdayLocator())\n",
    "ax5.xaxis.set_major_formatter(mdates.DateFormatter('%b %d'))\n",
    "ax5.set_xticks(ax5.get_xticks()[::3])\n",
    "ax5.text(0.05, 0.9,'Telangana', transform = ax5.transAxes, fontsize=20);\n",
    "ax5.spines['right'].set_visible(False)\n",
    "ax5.spines['top'].set_visible(False)\n",
    "\n",
    "ax6 = fig.add_subplot(gs[1,4])\n",
    "ef = df.loc['Andhra Pradesh'].rename_axis('date').reset_index()\n",
    "ef['date'] = ef['date'].astype('datetime64[ns]')\n",
    "ax6.bar(ef.date, ef['Andhra Pradesh'],color = '#007acc',alpha=0.5,)\n",
    "ax6.xaxis.set_major_locator(mdates.WeekdayLocator())\n",
    "ax6.xaxis.set_major_formatter(mdates.DateFormatter('%b %d'))\n",
    "ax6.set_xticks(ax6.get_xticks()[::3])\n",
    "ax6.text(0.05, 1,'Andhra Pradesh', transform = ax6.transAxes, fontsize=20);\n",
    "ax6.spines['right'].set_visible(False)\n",
    "ax6.spines['top'].set_visible(False)\n",
    "\n",
    "ax4 = fig.add_subplot(gs[1,2])\n",
    "ef = df.loc['Delhi'].rename_axis('date').reset_index()\n",
    "ef['date'] = ef['date'].astype('datetime64[ns]')\n",
    "ax4.bar(ef.date, ef.Delhi,color = '#007acc',alpha=0.5)\n",
    "ax4.set_xticks([])\n",
    "ax4.xaxis.set_major_locator(mdates.WeekdayLocator())\n",
    "ax4.xaxis.set_major_formatter(mdates.DateFormatter('%b %d'))\n",
    "ax4.set_xticks(ax4.get_xticks()[::3])\n",
    "ax4.spines['right'].set_visible(False)\n",
    "ax4.spines['top'].set_visible(False)\n",
    "\n",
    "ax4.text(0.05, 1,'Delhi', transform = ax4.transAxes, fontsize=20)\n",
    "\n",
    "for i in range(n):\n",
    "    \n",
    "    ax.append(fig.add_subplot(gs[i+2,:]))\n",
    "    ef = df.iloc[i+3].rename_axis('date').reset_index()\n",
    "    ef['date'] = ef['date'].astype('datetime64[ns]')\n",
    "    ax[i].bar(ef.date,ef.iloc[:,-1],color = '#007acc',alpha=0.3)\n",
    "    ax[i].plot(ef.date,ef.iloc[:,-1],marker='o',color='#007acc')\n",
    "    ax[i].text(0.02,0.5,f'{ef.columns.values[-1]}',transform = ax[i].transAxes, fontsize = 20);\n",
    "    ax[i].xaxis.set_major_locator(mdates.WeekdayLocator())\n",
    "    ax[i].xaxis.set_major_formatter(mdates.DateFormatter('%b %d'))\n",
    "    ax[i].set_ylim([0,7000])\n",
    "    ax[i].spines['right'].set_visible(False)\n",
    "    ax[i].spines['top'].set_visible(False)\n",
    "plt.tight_layout()\n"
   ]
  },
  {
   "cell_type": "code",
   "execution_count": 20,
   "id": "dress-forge",
   "metadata": {
    "execution": {
     "iopub.execute_input": "2021-05-06T10:49:59.683277Z",
     "iopub.status.busy": "2021-05-06T10:49:59.682820Z",
     "iopub.status.idle": "2021-05-06T10:49:59.685485Z",
     "shell.execute_reply": "2021-05-06T10:49:59.684906Z"
    },
    "papermill": {
     "duration": 0.032372,
     "end_time": "2021-05-06T10:49:59.685599",
     "exception": false,
     "start_time": "2021-05-06T10:49:59.653227",
     "status": "completed"
    },
    "tags": []
   },
   "outputs": [
    {
     "name": "stdout",
     "output_type": "stream",
     "text": [
      "                                   states    Cases  Deaths   PCases  PDeaths  Cases (+)  Deaths (+)  Fatality Rate\n",
      "                              Maharashtra  4880542   72662  4880542    72662          0           0           1.49\n",
      "                                   Kerala  1743933    5566  1743933     5566          0           0           0.32\n",
      "                                Karnataka  1741046   16884  1741046    16884          0           0           0.97\n",
      "                            Uttar Pradesh  1399294   14151  1399294    14151          0           0           1.01\n",
      "                                    Delhi  1273035   18398  1253902    18063      19133         335           1.45\n",
      "                               Tamil Nadu  1272602   14779  1272602    14779          0           0           1.16\n",
      "                           Andhra Pradesh  1206232    8374  1206232     8374          0           0           0.69\n",
      "                              West Bengal   916635   11847   916635    11847          0           0           1.29\n",
      "                             Chhattisgarh   802643    9738   802643     9738          0           0           1.21\n",
      "                                Rajasthan   685036    5021   685036     5021          0           0           0.73\n",
      "                                  Gujarat   633427    7912   633427     7912          0           0           1.25\n",
      "                           Madhya Pradesh   624985    6074   624985     6074          0           0           0.97\n",
      "                                  Haryana   558975    4960   558975     4960          0           0           0.89\n",
      "                                    Bihar   538677    2987   538677     2987          0           0           0.55\n",
      "                                   Odisha   500162    2174   489641     2157      10521          17           0.43\n",
      "                                Telangana   475748    2579   469722     2527       6026          52           0.54\n",
      "                                   Punjab   407509    9825   407509     9825          0           0           2.41\n",
      "                                    Assam   272751    1485   272751     1485          0           0           0.54\n",
      "                                Jharkhand   263115    3346   263115     3346          0           0           1.27\n",
      "                              Uttarakhand   211834    3142   211834     3142          0           0           1.48\n",
      "                        Jammu and Kashmir   196585    2510   196585     2510          0           0           1.28\n",
      "                         Himachal Pradesh   114787    1679   114787     1679          0           0           1.46\n",
      "                                      Goa   104398    1443   104398     1443          0           0           1.38\n",
      "                               Puducherry    66627     901    65117      883       1510          18           1.35\n",
      "                               Chandigarh    46793     532    46793      532          0           0           1.14\n",
      "                                  Tripura    36531     400    36231      397        300           3           1.09\n",
      "                                  Manipur    33353     434    33353      434          0           0           1.30\n",
      "                        Arunachal Pradesh    19413      59    19413       59          0           0           0.30\n",
      "                                Meghalaya    18283     191    18283      191          0           0           1.04\n",
      "                                 Nagaland    15004     118    15004      118          0           0           0.79\n",
      "                                   Ladakh    14811     151    14811      151          0           0           1.02\n",
      "                                   Sikkim     8919     155     8919      155          0           0           1.74\n",
      " Dadra and Nagar Haveli and Daman and Diu     8515       4     8515        4          0           0           0.05\n",
      "                                  Mizoram     6964      17     6794       17        170           0           0.24\n",
      "              Andaman and Nicobar Islands     6223      71     6223       71          0           0           1.14\n",
      "                              Lakshadweep     3376       7     3376        7          0           0           0.21\n"
     ]
    }
   ],
   "source": [
    "#hide_input\n",
    "print(df_table.to_string(index=False))"
   ]
  },
  {
   "cell_type": "code",
   "execution_count": null,
   "id": "quantitative-legend",
   "metadata": {
    "papermill": {
     "duration": 0.019771,
     "end_time": "2021-05-06T10:49:59.724476",
     "exception": false,
     "start_time": "2021-05-06T10:49:59.704705",
     "status": "completed"
    },
    "tags": []
   },
   "outputs": [],
   "source": []
  },
  {
   "cell_type": "code",
   "execution_count": null,
   "id": "distant-acoustic",
   "metadata": {
    "papermill": {
     "duration": 0.019878,
     "end_time": "2021-05-06T10:49:59.763440",
     "exception": false,
     "start_time": "2021-05-06T10:49:59.743562",
     "status": "completed"
    },
    "tags": []
   },
   "outputs": [],
   "source": []
  }
 ],
 "metadata": {
  "kernelspec": {
   "display_name": "Python 3",
   "language": "python",
   "name": "python3"
  },
  "language_info": {
   "codemirror_mode": {
    "name": "ipython",
    "version": 3
   },
   "file_extension": ".py",
   "mimetype": "text/x-python",
   "name": "python",
   "nbconvert_exporter": "python",
   "pygments_lexer": "ipython3",
   "version": "3.6.13"
  },
  "papermill": {
   "duration": 18.599297,
   "end_time": "2021-05-06T10:50:00.291111",
   "environment_variables": {},
   "exception": null,
   "input_path": "latest.ipynb",
   "output_path": "latest.ipynb",
   "parameters": {},
   "start_time": "2021-05-06T10:49:41.691814",
   "version": "2.1.2"
  }
 },
 "nbformat": 4,
 "nbformat_minor": 5
}