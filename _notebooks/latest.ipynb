{
 "cells": [
  {
   "cell_type": "markdown",
   "metadata": {
    "papermill": {
     "duration": 0.020646,
     "end_time": "2020-10-04T11:52:22.035489",
     "exception": false,
     "start_time": "2020-10-04T11:52:22.014843",
     "status": "completed"
    },
    "tags": []
   },
   "source": [
    "# Latest COVID-19 India Matplotlib Overview"
   ]
  },
  {
   "cell_type": "code",
   "execution_count": 1,
   "metadata": {
    "execution": {
     "iopub.execute_input": "2020-10-04T11:52:22.075913Z",
     "iopub.status.busy": "2020-10-04T11:52:22.074894Z",
     "iopub.status.idle": "2020-10-04T11:52:22.675445Z",
     "shell.execute_reply": "2020-10-04T11:52:22.674852Z"
    },
    "papermill": {
     "duration": 0.622686,
     "end_time": "2020-10-04T11:52:22.675612",
     "exception": false,
     "start_time": "2020-10-04T11:52:22.052926",
     "status": "completed"
    },
    "tags": []
   },
   "outputs": [],
   "source": [
    "#hide\n",
    "import pandas as pd\n",
    "import numpy as np\n",
    "import requests\n",
    "import json\n",
    "import matplotlib.pyplot as plt\n",
    "import matplotlib.dates as mdates\n",
    "import matplotlib as mpl\n",
    "from IPython.core.display import display,HTML\n",
    "%matplotlib inline\n",
    "from datetime import date"
   ]
  },
  {
   "cell_type": "code",
   "execution_count": 2,
   "metadata": {
    "execution": {
     "iopub.execute_input": "2020-10-04T11:52:22.718211Z",
     "iopub.status.busy": "2020-10-04T11:52:22.717596Z",
     "iopub.status.idle": "2020-10-04T11:52:22.814897Z",
     "shell.execute_reply": "2020-10-04T11:52:22.814350Z"
    },
    "papermill": {
     "duration": 0.122762,
     "end_time": "2020-10-04T11:52:22.815036",
     "exception": false,
     "start_time": "2020-10-04T11:52:22.692274",
     "status": "completed"
    },
    "tags": []
   },
   "outputs": [],
   "source": [
    "#hide\n",
    "df  = pd.read_csv('https://api.covid19india.org/csv/latest/states.csv')\n",
    "df = df[['Date','State','Confirmed','Deceased']]\n",
    "df = df.rename(columns={'Confirmed':'Cases', \"Deceased\":'Deaths'})\n",
    "df_cases = df[[\"Date\",'State','Cases']]\n",
    "df_deaths = df[['Date','State','Deaths']]\n",
    "df_cases1 = df_cases.groupby('Date')\n",
    "df_deaths1= df_deaths.groupby('Date')"
   ]
  },
  {
   "cell_type": "code",
   "execution_count": 3,
   "metadata": {
    "execution": {
     "iopub.execute_input": "2020-10-04T11:52:22.852419Z",
     "iopub.status.busy": "2020-10-04T11:52:22.851834Z",
     "iopub.status.idle": "2020-10-04T11:52:22.868393Z",
     "shell.execute_reply": "2020-10-04T11:52:22.868844Z"
    },
    "papermill": {
     "duration": 0.037815,
     "end_time": "2020-10-04T11:52:22.869000",
     "exception": false,
     "start_time": "2020-10-04T11:52:22.831185",
     "status": "completed"
    },
    "tags": []
   },
   "outputs": [],
   "source": [
    "#hide\n",
    "df_snap = pd.read_csv('data/SnapshotCases-28-July.csv')\n",
    "arr_states = df_snap['states'].unique()\n",
    "arr_dates = df['Date'].unique()\n",
    "df_snap = df_snap.set_index('states')"
   ]
  },
  {
   "cell_type": "code",
   "execution_count": 4,
   "metadata": {
    "execution": {
     "iopub.execute_input": "2020-10-04T11:52:22.906145Z",
     "iopub.status.busy": "2020-10-04T11:52:22.905557Z",
     "iopub.status.idle": "2020-10-04T11:52:22.908032Z",
     "shell.execute_reply": "2020-10-04T11:52:22.908527Z"
    },
    "papermill": {
     "duration": 0.024534,
     "end_time": "2020-10-04T11:52:22.908668",
     "exception": false,
     "start_time": "2020-10-04T11:52:22.884134",
     "status": "completed"
    },
    "tags": []
   },
   "outputs": [
    {
     "data": {
      "text/plain": [
       "array(['Andaman and Nicobar Islands', 'Andhra Pradesh',\n",
       "       'Arunachal Pradesh', 'Assam', 'Bihar', 'Chandigarh',\n",
       "       'Dadra and Nagar Haveli and Daman and Diu', 'Delhi', 'Goa',\n",
       "       'Gujarat', 'Haryana', 'Himachal Pradesh', 'Jammu and Kashmir',\n",
       "       'Jharkhand', 'Karnataka', 'Kerala', 'Lakshadweep',\n",
       "       'Madhya Pradesh', 'Maharashtra', 'Manipur', 'Meghalaya', 'Mizoram',\n",
       "       'Nagaland', 'Odisha', 'Puducherry', 'Punjab', 'Rajasthan',\n",
       "       'Sikkim', 'Tamil Nadu', 'Telangana', 'Tripura', 'Uttar Pradesh',\n",
       "       'West Bengal', 'Chhattisgarh', 'Ladakh', 'Uttarakhand'],\n",
       "      dtype=object)"
      ]
     },
     "execution_count": 4,
     "metadata": {},
     "output_type": "execute_result"
    }
   ],
   "source": [
    "#hide\n",
    "arr_states[-9] = 'Puducherry'\n",
    "arr_states[-10] = 'Odisha'\n",
    "arr_states[6] = 'Dadra and Nagar Haveli and Daman and Diu'\n",
    "arr_states = np.append(arr_states,np.array(['Chhattisgarh','Ladakh','Uttarakhand']))\n",
    "arr_states"
   ]
  },
  {
   "cell_type": "code",
   "execution_count": 5,
   "metadata": {
    "execution": {
     "iopub.execute_input": "2020-10-04T11:52:22.949262Z",
     "iopub.status.busy": "2020-10-04T11:52:22.948685Z",
     "iopub.status.idle": "2020-10-04T11:52:22.956196Z",
     "shell.execute_reply": "2020-10-04T11:52:22.955698Z"
    },
    "papermill": {
     "duration": 0.032398,
     "end_time": "2020-10-04T11:52:22.956316",
     "exception": false,
     "start_time": "2020-10-04T11:52:22.923918",
     "status": "completed"
    },
    "tags": []
   },
   "outputs": [],
   "source": [
    "#hide\n",
    "dates = []\n",
    "for i in arr_dates:\n",
    "    if i>='2020-07-01':\n",
    "        dates.append(i)\n",
    "dict = {'states':dates}\n",
    "for i in arr_states:\n",
    "    dict[i] = [0]*len(dates)\n",
    "dft_cases = pd.DataFrame(dict)\n",
    "dft_deaths = pd.DataFrame(dict)\n"
   ]
  },
  {
   "cell_type": "code",
   "execution_count": 6,
   "metadata": {
    "execution": {
     "iopub.execute_input": "2020-10-04T11:52:22.992460Z",
     "iopub.status.busy": "2020-10-04T11:52:22.991883Z",
     "iopub.status.idle": "2020-10-04T11:52:24.283476Z",
     "shell.execute_reply": "2020-10-04T11:52:24.282963Z"
    },
    "papermill": {
     "duration": 1.311896,
     "end_time": "2020-10-04T11:52:24.283618",
     "exception": false,
     "start_time": "2020-10-04T11:52:22.971722",
     "status": "completed"
    },
    "tags": []
   },
   "outputs": [],
   "source": [
    "#hide\n",
    "for i in range(len(dates)):\n",
    "    df1_deaths = df_deaths1.get_group(dates[i])\n",
    "    for j in range(len(df1_deaths.index)):\n",
    "        if df1_deaths.iloc[j,1] in arr_states:\n",
    "            dft_deaths.loc[i,df1_deaths.iloc[j,1]] = df1_deaths.iloc[j,2]\n",
    "dft_deaths = dft_deaths.set_index('states')"
   ]
  },
  {
   "cell_type": "code",
   "execution_count": 7,
   "metadata": {
    "execution": {
     "iopub.execute_input": "2020-10-04T11:52:24.321412Z",
     "iopub.status.busy": "2020-10-04T11:52:24.320817Z",
     "iopub.status.idle": "2020-10-04T11:52:25.643505Z",
     "shell.execute_reply": "2020-10-04T11:52:25.642464Z"
    },
    "papermill": {
     "duration": 1.344234,
     "end_time": "2020-10-04T11:52:25.643658",
     "exception": false,
     "start_time": "2020-10-04T11:52:24.299424",
     "status": "completed"
    },
    "tags": []
   },
   "outputs": [],
   "source": [
    "#hide\n",
    "for i in range(len(dates)):\n",
    "    df1_cases = df_cases1.get_group(dates[i])\n",
    "    for j in range(len(df1_cases.index)):\n",
    "        if df1_cases.iloc[j,1] in arr_states:\n",
    "            dft_cases.loc[i,df1_cases.iloc[j,1]] = df1_cases.iloc[j,2]\n",
    "dft_cases = dft_cases.set_index('states')"
   ]
  },
  {
   "cell_type": "code",
   "execution_count": 8,
   "metadata": {
    "execution": {
     "iopub.execute_input": "2020-10-04T11:52:25.681422Z",
     "iopub.status.busy": "2020-10-04T11:52:25.679931Z",
     "iopub.status.idle": "2020-10-04T11:52:25.682082Z",
     "shell.execute_reply": "2020-10-04T11:52:25.682543Z"
    },
    "papermill": {
     "duration": 0.023371,
     "end_time": "2020-10-04T11:52:25.682685",
     "exception": false,
     "start_time": "2020-10-04T11:52:25.659314",
     "status": "completed"
    },
    "tags": []
   },
   "outputs": [],
   "source": [
    "#hide\n",
    "dft_cases = dft_cases.T\n",
    "dft_deaths = dft_deaths.T\n",
    "dt_today = dates[-1]\n",
    "dt_yday = dates[-2]"
   ]
  },
  {
   "cell_type": "code",
   "execution_count": 9,
   "metadata": {
    "execution": {
     "iopub.execute_input": "2020-10-04T11:52:25.721027Z",
     "iopub.status.busy": "2020-10-04T11:52:25.720440Z",
     "iopub.status.idle": "2020-10-04T11:52:25.731828Z",
     "shell.execute_reply": "2020-10-04T11:52:25.731349Z"
    },
    "papermill": {
     "duration": 0.033619,
     "end_time": "2020-10-04T11:52:25.731962",
     "exception": false,
     "start_time": "2020-10-04T11:52:25.698343",
     "status": "completed"
    },
    "tags": []
   },
   "outputs": [],
   "source": [
    "#hide\n",
    "dft_cases = dft_cases.reset_index()\n",
    "dft_deaths = dft_deaths.reset_index()\n",
    "dft_cases = dft_cases.rename(columns = {'index':'state'})\n",
    "dft_deaths = dft_deaths.rename(columns = {'index':'state'})"
   ]
  },
  {
   "cell_type": "code",
   "execution_count": 10,
   "metadata": {
    "execution": {
     "iopub.execute_input": "2020-10-04T11:52:25.771143Z",
     "iopub.status.busy": "2020-10-04T11:52:25.770518Z",
     "iopub.status.idle": "2020-10-04T11:52:25.776739Z",
     "shell.execute_reply": "2020-10-04T11:52:25.777264Z"
    },
    "papermill": {
     "duration": 0.030005,
     "end_time": "2020-10-04T11:52:25.777397",
     "exception": false,
     "start_time": "2020-10-04T11:52:25.747392",
     "status": "completed"
    },
    "tags": []
   },
   "outputs": [],
   "source": [
    "#hide\n",
    "dfc_cases = dft_cases.groupby('state')[dt_today].sum()\n",
    "dfc_deaths = dft_deaths.groupby('state')[dt_today].sum()\n",
    "dfp_cases = dft_cases.groupby('state')[dt_yday].sum()\n",
    "dfp_deaths = dft_deaths.groupby('state')[dt_yday].sum()"
   ]
  },
  {
   "cell_type": "code",
   "execution_count": 11,
   "metadata": {
    "execution": {
     "iopub.execute_input": "2020-10-04T11:52:25.816797Z",
     "iopub.status.busy": "2020-10-04T11:52:25.816220Z",
     "iopub.status.idle": "2020-10-04T11:52:25.828591Z",
     "shell.execute_reply": "2020-10-04T11:52:25.829493Z"
    },
    "papermill": {
     "duration": 0.037003,
     "end_time": "2020-10-04T11:52:25.829727",
     "exception": false,
     "start_time": "2020-10-04T11:52:25.792724",
     "status": "completed"
    },
    "tags": []
   },
   "outputs": [
    {
     "data": {
      "text/html": [
       "<div>\n",
       "<style scoped>\n",
       "    .dataframe tbody tr th:only-of-type {\n",
       "        vertical-align: middle;\n",
       "    }\n",
       "\n",
       "    .dataframe tbody tr th {\n",
       "        vertical-align: top;\n",
       "    }\n",
       "\n",
       "    .dataframe thead th {\n",
       "        text-align: right;\n",
       "    }\n",
       "</style>\n",
       "<table border=\"1\" class=\"dataframe\">\n",
       "  <thead>\n",
       "    <tr style=\"text-align: right;\">\n",
       "      <th></th>\n",
       "      <th>states</th>\n",
       "      <th>Cases</th>\n",
       "      <th>Deaths</th>\n",
       "      <th>PCases</th>\n",
       "      <th>PDeaths</th>\n",
       "    </tr>\n",
       "  </thead>\n",
       "  <tbody>\n",
       "    <tr>\n",
       "      <th>0</th>\n",
       "      <td>Maharashtra</td>\n",
       "      <td>1430861</td>\n",
       "      <td>37758</td>\n",
       "      <td>1430861</td>\n",
       "      <td>37758</td>\n",
       "    </tr>\n",
       "    <tr>\n",
       "      <th>1</th>\n",
       "      <td>Andhra Pradesh</td>\n",
       "      <td>713014</td>\n",
       "      <td>5941</td>\n",
       "      <td>713014</td>\n",
       "      <td>5941</td>\n",
       "    </tr>\n",
       "    <tr>\n",
       "      <th>2</th>\n",
       "      <td>Karnataka</td>\n",
       "      <td>630516</td>\n",
       "      <td>9219</td>\n",
       "      <td>630516</td>\n",
       "      <td>9219</td>\n",
       "    </tr>\n",
       "    <tr>\n",
       "      <th>3</th>\n",
       "      <td>Tamil Nadu</td>\n",
       "      <td>614507</td>\n",
       "      <td>9718</td>\n",
       "      <td>614507</td>\n",
       "      <td>9718</td>\n",
       "    </tr>\n",
       "    <tr>\n",
       "      <th>4</th>\n",
       "      <td>Uttar Pradesh</td>\n",
       "      <td>410626</td>\n",
       "      <td>5977</td>\n",
       "      <td>410626</td>\n",
       "      <td>5977</td>\n",
       "    </tr>\n",
       "  </tbody>\n",
       "</table>\n",
       "</div>"
      ],
      "text/plain": [
       "           states    Cases  Deaths   PCases  PDeaths\n",
       "0     Maharashtra  1430861   37758  1430861    37758\n",
       "1  Andhra Pradesh   713014    5941   713014     5941\n",
       "2       Karnataka   630516    9219   630516     9219\n",
       "3      Tamil Nadu   614507    9718   614507     9718\n",
       "4   Uttar Pradesh   410626    5977   410626     5977"
      ]
     },
     "execution_count": 11,
     "metadata": {},
     "output_type": "execute_result"
    }
   ],
   "source": [
    "#hide\n",
    "df_table = pd.DataFrame({'states': dfc_cases.index, 'Cases': dfc_cases.values, 'Deaths': dfc_deaths.values, 'PCases': dfp_cases.values, 'PDeaths': dfp_deaths.values}).set_index('states')\n",
    "df_table = df_table.sort_values(by = ['Cases','Deaths'], ascending = [False, False])\n",
    "df_table = df_table.reset_index()\n",
    "df_table.head()"
   ]
  },
  {
   "cell_type": "code",
   "execution_count": 12,
   "metadata": {
    "execution": {
     "iopub.execute_input": "2020-10-04T11:52:25.871064Z",
     "iopub.status.busy": "2020-10-04T11:52:25.870487Z",
     "iopub.status.idle": "2020-10-04T11:52:25.880458Z",
     "shell.execute_reply": "2020-10-04T11:52:25.879951Z"
    },
    "papermill": {
     "duration": 0.033161,
     "end_time": "2020-10-04T11:52:25.880584",
     "exception": false,
     "start_time": "2020-10-04T11:52:25.847423",
     "status": "completed"
    },
    "tags": []
   },
   "outputs": [],
   "source": [
    "#hide\n",
    "for c in 'Cases, Deaths'.split(', '):\n",
    "    df_table[f'{c} (+)'] = (df_table[c] - df_table[f'P{c}']).clip(0)\n",
    "df_table['Fatality Rate'] = (100* df_table['Deaths']/ df_table['Cases']).round(2)"
   ]
  },
  {
   "cell_type": "code",
   "execution_count": 13,
   "metadata": {
    "execution": {
     "iopub.execute_input": "2020-10-04T11:52:25.920654Z",
     "iopub.status.busy": "2020-10-04T11:52:25.920061Z",
     "iopub.status.idle": "2020-10-04T11:52:25.925675Z",
     "shell.execute_reply": "2020-10-04T11:52:25.925177Z"
    },
    "papermill": {
     "duration": 0.029258,
     "end_time": "2020-10-04T11:52:25.925849",
     "exception": false,
     "start_time": "2020-10-04T11:52:25.896591",
     "status": "completed"
    },
    "tags": []
   },
   "outputs": [
    {
     "data": {
      "text/html": [
       "<div>\n",
       "<style scoped>\n",
       "    .dataframe tbody tr th:only-of-type {\n",
       "        vertical-align: middle;\n",
       "    }\n",
       "\n",
       "    .dataframe tbody tr th {\n",
       "        vertical-align: top;\n",
       "    }\n",
       "\n",
       "    .dataframe thead th {\n",
       "        text-align: right;\n",
       "    }\n",
       "</style>\n",
       "<table border=\"1\" class=\"dataframe\">\n",
       "  <thead>\n",
       "    <tr style=\"text-align: right;\">\n",
       "      <th></th>\n",
       "      <th>states</th>\n",
       "      <th>Cases</th>\n",
       "      <th>Deaths</th>\n",
       "      <th>PCases</th>\n",
       "      <th>PDeaths</th>\n",
       "      <th>Cases (+)</th>\n",
       "      <th>Deaths (+)</th>\n",
       "      <th>Fatality Rate</th>\n",
       "    </tr>\n",
       "  </thead>\n",
       "  <tbody>\n",
       "    <tr>\n",
       "      <th>0</th>\n",
       "      <td>Maharashtra</td>\n",
       "      <td>1430861</td>\n",
       "      <td>37758</td>\n",
       "      <td>1430861</td>\n",
       "      <td>37758</td>\n",
       "      <td>0</td>\n",
       "      <td>0</td>\n",
       "      <td>2.64</td>\n",
       "    </tr>\n",
       "    <tr>\n",
       "      <th>1</th>\n",
       "      <td>Andhra Pradesh</td>\n",
       "      <td>713014</td>\n",
       "      <td>5941</td>\n",
       "      <td>713014</td>\n",
       "      <td>5941</td>\n",
       "      <td>0</td>\n",
       "      <td>0</td>\n",
       "      <td>0.83</td>\n",
       "    </tr>\n",
       "    <tr>\n",
       "      <th>2</th>\n",
       "      <td>Karnataka</td>\n",
       "      <td>630516</td>\n",
       "      <td>9219</td>\n",
       "      <td>630516</td>\n",
       "      <td>9219</td>\n",
       "      <td>0</td>\n",
       "      <td>0</td>\n",
       "      <td>1.46</td>\n",
       "    </tr>\n",
       "    <tr>\n",
       "      <th>3</th>\n",
       "      <td>Tamil Nadu</td>\n",
       "      <td>614507</td>\n",
       "      <td>9718</td>\n",
       "      <td>614507</td>\n",
       "      <td>9718</td>\n",
       "      <td>0</td>\n",
       "      <td>0</td>\n",
       "      <td>1.58</td>\n",
       "    </tr>\n",
       "    <tr>\n",
       "      <th>4</th>\n",
       "      <td>Uttar Pradesh</td>\n",
       "      <td>410626</td>\n",
       "      <td>5977</td>\n",
       "      <td>410626</td>\n",
       "      <td>5977</td>\n",
       "      <td>0</td>\n",
       "      <td>0</td>\n",
       "      <td>1.46</td>\n",
       "    </tr>\n",
       "  </tbody>\n",
       "</table>\n",
       "</div>"
      ],
      "text/plain": [
       "           states    Cases  Deaths   PCases  PDeaths  Cases (+)  Deaths (+)  \\\n",
       "0     Maharashtra  1430861   37758  1430861    37758          0           0   \n",
       "1  Andhra Pradesh   713014    5941   713014     5941          0           0   \n",
       "2       Karnataka   630516    9219   630516     9219          0           0   \n",
       "3      Tamil Nadu   614507    9718   614507     9718          0           0   \n",
       "4   Uttar Pradesh   410626    5977   410626     5977          0           0   \n",
       "\n",
       "   Fatality Rate  \n",
       "0           2.64  \n",
       "1           0.83  \n",
       "2           1.46  \n",
       "3           1.58  \n",
       "4           1.46  "
      ]
     },
     "execution_count": 13,
     "metadata": {},
     "output_type": "execute_result"
    }
   ],
   "source": [
    "#hide\n",
    "df_table.head()"
   ]
  },
  {
   "cell_type": "code",
   "execution_count": 14,
   "metadata": {
    "execution": {
     "iopub.execute_input": "2020-10-04T11:52:25.965597Z",
     "iopub.status.busy": "2020-10-04T11:52:25.965003Z",
     "iopub.status.idle": "2020-10-04T11:52:25.980495Z",
     "shell.execute_reply": "2020-10-04T11:52:25.980936Z"
    },
    "papermill": {
     "duration": 0.039031,
     "end_time": "2020-10-04T11:52:25.981080",
     "exception": false,
     "start_time": "2020-10-04T11:52:25.942049",
     "status": "completed"
    },
    "tags": []
   },
   "outputs": [
    {
     "data": {
      "text/plain": [
       "{'updated': '2020-10-04',\n",
       " 'since': '2020-10-03',\n",
       " 'Cases': 6553027,\n",
       " 'PCases': 6547413,\n",
       " 'Deaths': 101841,\n",
       " 'PDeaths': 101812,\n",
       " 'Cases (+)': 5614,\n",
       " 'Deaths (+)': 29}"
      ]
     },
     "execution_count": 14,
     "metadata": {},
     "output_type": "execute_result"
    }
   ],
   "source": [
    "#hide\n",
    "summary = {'updated':dates[-1], 'since':dates[-2]}\n",
    "list_names = ['Cases', 'PCases', 'Deaths', 'PDeaths', 'Cases (+)', 'Deaths (+)']\n",
    "for name in list_names:\n",
    "    summary[name] = df_table.sum()[name]\n",
    "summary"
   ]
  },
  {
   "cell_type": "code",
   "execution_count": 15,
   "metadata": {
    "execution": {
     "iopub.execute_input": "2020-10-04T11:52:26.018735Z",
     "iopub.status.busy": "2020-10-04T11:52:26.018025Z",
     "iopub.status.idle": "2020-10-04T11:52:26.020383Z",
     "shell.execute_reply": "2020-10-04T11:52:26.019803Z"
    },
    "papermill": {
     "duration": 0.02267,
     "end_time": "2020-10-04T11:52:26.020506",
     "exception": false,
     "start_time": "2020-10-04T11:52:25.997836",
     "status": "completed"
    },
    "tags": []
   },
   "outputs": [],
   "source": [
    "#hide\n",
    "overview = '''\n",
    "<!-- #######  HTML!! #########-->\n",
    "<h1 style=\"color: #5e9ca0; text-align: center;\">India</h1>\n",
    "<p style=\"text-align: center;\">Last update: <strong>{update}</strong></p>\n",
    "<p style=\"text-align: center;\">Confirmed cases:</p>\n",
    "<p style=\"text-align: center;font-size:24px;\">{cases} (<span style=\"color: #ff0000;\">+{new}</span>)</p>\n",
    "<p style=\"text-align: center;\">Confirmed deaths:</p>\n",
    "<p style=\"text-align: center;font-size:24px;\">{deaths} (<span style=\"color: #ff0000;\">+{dnew}</span>)</p>\n",
    "'''"
   ]
  },
  {
   "cell_type": "code",
   "execution_count": 16,
   "metadata": {
    "execution": {
     "iopub.execute_input": "2020-10-04T11:52:26.060211Z",
     "iopub.status.busy": "2020-10-04T11:52:26.059378Z",
     "iopub.status.idle": "2020-10-04T11:52:26.062974Z",
     "shell.execute_reply": "2020-10-04T11:52:26.062477Z"
    },
    "papermill": {
     "duration": 0.025941,
     "end_time": "2020-10-04T11:52:26.063100",
     "exception": false,
     "start_time": "2020-10-04T11:52:26.037159",
     "status": "completed"
    },
    "tags": []
   },
   "outputs": [
    {
     "data": {
      "text/html": [
       "\n",
       "<!-- #######  HTML!! #########-->\n",
       "<h1 style=\"color: #5e9ca0; text-align: center;\">India</h1>\n",
       "<p style=\"text-align: center;\">Last update: <strong>2020-10-04</strong></p>\n",
       "<p style=\"text-align: center;\">Confirmed cases:</p>\n",
       "<p style=\"text-align: center;font-size:24px;\">6553027 (<span style=\"color: #ff0000;\">+5614</span>)</p>\n",
       "<p style=\"text-align: center;\">Confirmed deaths:</p>\n",
       "<p style=\"text-align: center;font-size:24px;\">101841 (<span style=\"color: #ff0000;\">+29</span>)</p>\n"
      ],
      "text/plain": [
       "<IPython.core.display.HTML object>"
      ]
     },
     "metadata": {},
     "output_type": "display_data"
    }
   ],
   "source": [
    "#hide_input\n",
    "update = summary['updated']\n",
    "cases = summary['Cases']\n",
    "new = summary['Cases (+)']\n",
    "deaths = summary['Deaths']\n",
    "dnew = summary['Deaths (+)']\n",
    "\n",
    "html = HTML(overview.format(update=update, cases=cases,new=new,deaths=deaths,dnew=dnew))\n",
    "\n",
    "display(html)"
   ]
  },
  {
   "cell_type": "code",
   "execution_count": 17,
   "metadata": {
    "execution": {
     "iopub.execute_input": "2020-10-04T11:52:26.107807Z",
     "iopub.status.busy": "2020-10-04T11:52:26.107206Z",
     "iopub.status.idle": "2020-10-04T11:52:26.113013Z",
     "shell.execute_reply": "2020-10-04T11:52:26.112544Z"
    },
    "papermill": {
     "duration": 0.032933,
     "end_time": "2020-10-04T11:52:26.113142",
     "exception": false,
     "start_time": "2020-10-04T11:52:26.080209",
     "status": "completed"
    },
    "tags": []
   },
   "outputs": [],
   "source": [
    "#hide\n",
    "dt_cols = list(dft_cases.columns[1:])\n",
    "dft_ct_new_cases = dft_cases.groupby('state')[dt_cols].sum().diff(axis=1).fillna(0).astype(int)\n",
    "dft_ct_new_cases.sort_values(by = dates[-1], ascending = False,inplace = True)"
   ]
  },
  {
   "cell_type": "code",
   "execution_count": 18,
   "metadata": {
    "execution": {
     "iopub.execute_input": "2020-10-04T11:52:26.162671Z",
     "iopub.status.busy": "2020-10-04T11:52:26.162067Z",
     "iopub.status.idle": "2020-10-04T11:52:26.177070Z",
     "shell.execute_reply": "2020-10-04T11:52:26.177540Z"
    },
    "papermill": {
     "duration": 0.047341,
     "end_time": "2020-10-04T11:52:26.177697",
     "exception": false,
     "start_time": "2020-10-04T11:52:26.130356",
     "status": "completed"
    },
    "tags": []
   },
   "outputs": [
    {
     "data": {
      "text/html": [
       "<div>\n",
       "<style scoped>\n",
       "    .dataframe tbody tr th:only-of-type {\n",
       "        vertical-align: middle;\n",
       "    }\n",
       "\n",
       "    .dataframe tbody tr th {\n",
       "        vertical-align: top;\n",
       "    }\n",
       "\n",
       "    .dataframe thead th {\n",
       "        text-align: right;\n",
       "    }\n",
       "</style>\n",
       "<table border=\"1\" class=\"dataframe\">\n",
       "  <thead>\n",
       "    <tr style=\"text-align: right;\">\n",
       "      <th>states</th>\n",
       "      <th>2020-07-01</th>\n",
       "      <th>2020-07-02</th>\n",
       "      <th>2020-07-03</th>\n",
       "      <th>2020-07-04</th>\n",
       "      <th>2020-07-05</th>\n",
       "      <th>2020-07-06</th>\n",
       "      <th>2020-07-07</th>\n",
       "      <th>2020-07-08</th>\n",
       "      <th>2020-07-09</th>\n",
       "      <th>2020-07-10</th>\n",
       "      <th>...</th>\n",
       "      <th>2020-09-25</th>\n",
       "      <th>2020-09-26</th>\n",
       "      <th>2020-09-27</th>\n",
       "      <th>2020-09-28</th>\n",
       "      <th>2020-09-29</th>\n",
       "      <th>2020-09-30</th>\n",
       "      <th>2020-10-01</th>\n",
       "      <th>2020-10-02</th>\n",
       "      <th>2020-10-03</th>\n",
       "      <th>2020-10-04</th>\n",
       "    </tr>\n",
       "    <tr>\n",
       "      <th>state</th>\n",
       "      <th></th>\n",
       "      <th></th>\n",
       "      <th></th>\n",
       "      <th></th>\n",
       "      <th></th>\n",
       "      <th></th>\n",
       "      <th></th>\n",
       "      <th></th>\n",
       "      <th></th>\n",
       "      <th></th>\n",
       "      <th></th>\n",
       "      <th></th>\n",
       "      <th></th>\n",
       "      <th></th>\n",
       "      <th></th>\n",
       "      <th></th>\n",
       "      <th></th>\n",
       "      <th></th>\n",
       "      <th></th>\n",
       "      <th></th>\n",
       "      <th></th>\n",
       "    </tr>\n",
       "  </thead>\n",
       "  <tbody>\n",
       "    <tr>\n",
       "      <th>Odisha</th>\n",
       "      <td>0</td>\n",
       "      <td>229</td>\n",
       "      <td>561</td>\n",
       "      <td>495</td>\n",
       "      <td>469</td>\n",
       "      <td>456</td>\n",
       "      <td>571</td>\n",
       "      <td>527</td>\n",
       "      <td>577</td>\n",
       "      <td>755</td>\n",
       "      <td>...</td>\n",
       "      <td>4208</td>\n",
       "      <td>4356</td>\n",
       "      <td>3922</td>\n",
       "      <td>3235</td>\n",
       "      <td>3067</td>\n",
       "      <td>3443</td>\n",
       "      <td>3615</td>\n",
       "      <td>3600</td>\n",
       "      <td>3053</td>\n",
       "      <td>3326</td>\n",
       "    </tr>\n",
       "    <tr>\n",
       "      <th>Telangana</th>\n",
       "      <td>0</td>\n",
       "      <td>1213</td>\n",
       "      <td>1892</td>\n",
       "      <td>1850</td>\n",
       "      <td>1590</td>\n",
       "      <td>1831</td>\n",
       "      <td>1879</td>\n",
       "      <td>1924</td>\n",
       "      <td>1410</td>\n",
       "      <td>1278</td>\n",
       "      <td>...</td>\n",
       "      <td>2381</td>\n",
       "      <td>2239</td>\n",
       "      <td>1967</td>\n",
       "      <td>1378</td>\n",
       "      <td>2072</td>\n",
       "      <td>2103</td>\n",
       "      <td>2214</td>\n",
       "      <td>2009</td>\n",
       "      <td>1718</td>\n",
       "      <td>1949</td>\n",
       "    </tr>\n",
       "    <tr>\n",
       "      <th>Tripura</th>\n",
       "      <td>0</td>\n",
       "      <td>39</td>\n",
       "      <td>93</td>\n",
       "      <td>25</td>\n",
       "      <td>23</td>\n",
       "      <td>111</td>\n",
       "      <td>24</td>\n",
       "      <td>57</td>\n",
       "      <td>16</td>\n",
       "      <td>142</td>\n",
       "      <td>...</td>\n",
       "      <td>341</td>\n",
       "      <td>278</td>\n",
       "      <td>320</td>\n",
       "      <td>193</td>\n",
       "      <td>432</td>\n",
       "      <td>381</td>\n",
       "      <td>332</td>\n",
       "      <td>296</td>\n",
       "      <td>190</td>\n",
       "      <td>322</td>\n",
       "    </tr>\n",
       "    <tr>\n",
       "      <th>Mizoram</th>\n",
       "      <td>0</td>\n",
       "      <td>2</td>\n",
       "      <td>0</td>\n",
       "      <td>2</td>\n",
       "      <td>22</td>\n",
       "      <td>11</td>\n",
       "      <td>1</td>\n",
       "      <td>5</td>\n",
       "      <td>0</td>\n",
       "      <td>23</td>\n",
       "      <td>...</td>\n",
       "      <td>27</td>\n",
       "      <td>49</td>\n",
       "      <td>30</td>\n",
       "      <td>43</td>\n",
       "      <td>50</td>\n",
       "      <td>28</td>\n",
       "      <td>32</td>\n",
       "      <td>31</td>\n",
       "      <td>54</td>\n",
       "      <td>17</td>\n",
       "    </tr>\n",
       "    <tr>\n",
       "      <th>Andaman and Nicobar Islands</th>\n",
       "      <td>0</td>\n",
       "      <td>9</td>\n",
       "      <td>7</td>\n",
       "      <td>3</td>\n",
       "      <td>6</td>\n",
       "      <td>16</td>\n",
       "      <td>6</td>\n",
       "      <td>2</td>\n",
       "      <td>7</td>\n",
       "      <td>0</td>\n",
       "      <td>...</td>\n",
       "      <td>15</td>\n",
       "      <td>15</td>\n",
       "      <td>20</td>\n",
       "      <td>9</td>\n",
       "      <td>18</td>\n",
       "      <td>14</td>\n",
       "      <td>13</td>\n",
       "      <td>10</td>\n",
       "      <td>10</td>\n",
       "      <td>0</td>\n",
       "    </tr>\n",
       "  </tbody>\n",
       "</table>\n",
       "<p>5 rows × 96 columns</p>\n",
       "</div>"
      ],
      "text/plain": [
       "states                       2020-07-01  2020-07-02  2020-07-03  2020-07-04  \\\n",
       "state                                                                         \n",
       "Odisha                                0         229         561         495   \n",
       "Telangana                             0        1213        1892        1850   \n",
       "Tripura                               0          39          93          25   \n",
       "Mizoram                               0           2           0           2   \n",
       "Andaman and Nicobar Islands           0           9           7           3   \n",
       "\n",
       "states                       2020-07-05  2020-07-06  2020-07-07  2020-07-08  \\\n",
       "state                                                                         \n",
       "Odisha                              469         456         571         527   \n",
       "Telangana                          1590        1831        1879        1924   \n",
       "Tripura                              23         111          24          57   \n",
       "Mizoram                              22          11           1           5   \n",
       "Andaman and Nicobar Islands           6          16           6           2   \n",
       "\n",
       "states                       2020-07-09  2020-07-10  ...  2020-09-25  \\\n",
       "state                                                ...               \n",
       "Odisha                              577         755  ...        4208   \n",
       "Telangana                          1410        1278  ...        2381   \n",
       "Tripura                              16         142  ...         341   \n",
       "Mizoram                               0          23  ...          27   \n",
       "Andaman and Nicobar Islands           7           0  ...          15   \n",
       "\n",
       "states                       2020-09-26  2020-09-27  2020-09-28  2020-09-29  \\\n",
       "state                                                                         \n",
       "Odisha                             4356        3922        3235        3067   \n",
       "Telangana                          2239        1967        1378        2072   \n",
       "Tripura                             278         320         193         432   \n",
       "Mizoram                              49          30          43          50   \n",
       "Andaman and Nicobar Islands          15          20           9          18   \n",
       "\n",
       "states                       2020-09-30  2020-10-01  2020-10-02  2020-10-03  \\\n",
       "state                                                                         \n",
       "Odisha                             3443        3615        3600        3053   \n",
       "Telangana                          2103        2214        2009        1718   \n",
       "Tripura                             381         332         296         190   \n",
       "Mizoram                              28          32          31          54   \n",
       "Andaman and Nicobar Islands          14          13          10          10   \n",
       "\n",
       "states                       2020-10-04  \n",
       "state                                    \n",
       "Odisha                             3326  \n",
       "Telangana                          1949  \n",
       "Tripura                             322  \n",
       "Mizoram                              17  \n",
       "Andaman and Nicobar Islands           0  \n",
       "\n",
       "[5 rows x 96 columns]"
      ]
     },
     "execution_count": 18,
     "metadata": {},
     "output_type": "execute_result"
    }
   ],
   "source": [
    "#hide\n",
    "dft_ct_new_cases.head()"
   ]
  },
  {
   "cell_type": "code",
   "execution_count": 19,
   "metadata": {
    "execution": {
     "iopub.execute_input": "2020-10-04T11:52:26.258378Z",
     "iopub.status.busy": "2020-10-04T11:52:26.238795Z",
     "iopub.status.idle": "2020-10-04T11:52:29.997695Z",
     "shell.execute_reply": "2020-10-04T11:52:29.998175Z"
    },
    "papermill": {
     "duration": 3.802954,
     "end_time": "2020-10-04T11:52:29.998333",
     "exception": false,
     "start_time": "2020-10-04T11:52:26.195379",
     "status": "completed"
    },
    "tags": []
   },
   "outputs": [
    {
     "data": {
      "image/png": "[encoded data removed]",
      "text/plain": [
       "<Figure size 1296x2016 with 11 Axes>"
      ]
     },
     "metadata": {
      "needs_background": "light"
     },
     "output_type": "display_data"
    }
   ],
   "source": [
    "#hide_input\n",
    "df = dft_ct_new_cases.copy()\n",
    "df.loc['Total'] = df.sum()\n",
    "n = 5\n",
    "ax = []\n",
    "fig = plt.figure(figsize = (18,28))\n",
    "gs = fig.add_gridspec(n+2, 5)\n",
    "# gs = fig.add_gridspec(2, 3)\n",
    "ax1 = fig.add_subplot(gs[0, :])\n",
    "ef = df.loc['Total'].rename_axis('date').reset_index()\n",
    "ef['date'] = ef['date'].astype('datetime64[ns]')\n",
    "ax1.bar(ef.date,ef.Total,alpha=0.3,color='#007acc')\n",
    "ax1.plot(ef.date,ef.Total , marker=\"o\", color='#007acc')\n",
    "ax1.xaxis.set_major_locator(mdates.WeekdayLocator())\n",
    "ax1.xaxis.set_major_formatter(mdates.DateFormatter('%b %d'))\n",
    "ax1.text(0.02, 0.5,'India daily case count', transform = ax1.transAxes, fontsize=25);\n",
    "ax1.spines['right'].set_visible(False)\n",
    "ax1.spines['top'].set_visible(False)\n",
    "\n",
    "ax2 = fig.add_subplot(gs[1,0])\n",
    "ef = df.loc['Maharashtra'].rename_axis('date').reset_index()\n",
    "ef['date'] = ef['date'].astype('datetime64[ns]')\n",
    "\n",
    "ax2.bar(ef.date, ef.Maharashtra,color = '#007acc',alpha=0.5)\n",
    "ax2.xaxis.set_major_locator(mdates.WeekdayLocator())\n",
    "ax2.xaxis.set_major_formatter(mdates.DateFormatter('%b %d'))\n",
    "ax2.set_xticks(ax2.get_xticks()[::3])\n",
    "maxyval = ef.Maharashtra.max()\n",
    "ax2.set_ylim([0,maxyval])\n",
    "ax2.text(0.05, 0.9,'Maharashtra', transform = ax2.transAxes, fontsize=20);\n",
    "ax2.spines['right'].set_visible(False)\n",
    "ax2.spines['top'].set_visible(False)\n",
    "\n",
    "\n",
    "ax3 = fig.add_subplot(gs[1,1])\n",
    "ef = df.loc['Tamil Nadu'].rename_axis('date').reset_index()\n",
    "ef['date'] = ef['date'].astype('datetime64[ns]')\n",
    "ax3.bar(ef.date, ef['Tamil Nadu'],color = '#007acc',alpha=0.5,)\n",
    "ax3.xaxis.set_major_locator(mdates.WeekdayLocator())\n",
    "ax3.xaxis.set_major_formatter(mdates.DateFormatter('%b %d'))\n",
    "ax3.set_xticks(ax3.get_xticks()[::3])\n",
    "ax3.text(0.05, 0.9,'Tamil Nadu', transform = ax3.transAxes, fontsize=20);\n",
    "ax3.spines['right'].set_visible(False)\n",
    "ax3.spines['top'].set_visible(False)\n",
    "\n",
    "ax5 = fig.add_subplot(gs[1,3])\n",
    "ef = df.loc['Telangana'].rename_axis('date').reset_index()\n",
    "ef['date'] = ef['date'].astype('datetime64[ns]')\n",
    "ax5.bar(ef.date, ef['Telangana'],color = '#007acc',alpha=0.5,)\n",
    "ax5.xaxis.set_major_locator(mdates.WeekdayLocator())\n",
    "ax5.xaxis.set_major_formatter(mdates.DateFormatter('%b %d'))\n",
    "ax5.set_xticks(ax5.get_xticks()[::3])\n",
    "ax5.text(0.05, 0.9,'Telangana', transform = ax5.transAxes, fontsize=20);\n",
    "ax5.spines['right'].set_visible(False)\n",
    "ax5.spines['top'].set_visible(False)\n",
    "\n",
    "ax6 = fig.add_subplot(gs[1,4])\n",
    "ef = df.loc['Andhra Pradesh'].rename_axis('date').reset_index()\n",
    "ef['date'] = ef['date'].astype('datetime64[ns]')\n",
    "ax6.bar(ef.date, ef['Andhra Pradesh'],color = '#007acc',alpha=0.5,)\n",
    "ax6.xaxis.set_major_locator(mdates.WeekdayLocator())\n",
    "ax6.xaxis.set_major_formatter(mdates.DateFormatter('%b %d'))\n",
    "ax6.set_xticks(ax6.get_xticks()[::3])\n",
    "ax6.text(0.05, 1,'Andhra Pradesh', transform = ax6.transAxes, fontsize=20);\n",
    "ax6.spines['right'].set_visible(False)\n",
    "ax6.spines['top'].set_visible(False)\n",
    "\n",
    "ax4 = fig.add_subplot(gs[1,2])\n",
    "ef = df.loc['Delhi'].rename_axis('date').reset_index()\n",
    "ef['date'] = ef['date'].astype('datetime64[ns]')\n",
    "ax4.bar(ef.date, ef.Delhi,color = '#007acc',alpha=0.5)\n",
    "ax4.set_xticks([])\n",
    "ax4.xaxis.set_major_locator(mdates.WeekdayLocator())\n",
    "ax4.xaxis.set_major_formatter(mdates.DateFormatter('%b %d'))\n",
    "ax4.set_xticks(ax4.get_xticks()[::3])\n",
    "ax4.spines['right'].set_visible(False)\n",
    "ax4.spines['top'].set_visible(False)\n",
    "\n",
    "ax4.text(0.05, 1,'Delhi', transform = ax4.transAxes, fontsize=20)\n",
    "\n",
    "for i in range(n):\n",
    "    \n",
    "    ax.append(fig.add_subplot(gs[i+2,:]))\n",
    "    ef = df.iloc[i+3].rename_axis('date').reset_index()\n",
    "    ef['date'] = ef['date'].astype('datetime64[ns]')\n",
    "    ax[i].bar(ef.date,ef.iloc[:,-1],color = '#007acc',alpha=0.3)\n",
    "    ax[i].plot(ef.date,ef.iloc[:,-1],marker='o',color='#007acc')\n",
    "    ax[i].text(0.02,0.5,f'{ef.columns.values[-1]}',transform = ax[i].transAxes, fontsize = 20);\n",
    "    ax[i].xaxis.set_major_locator(mdates.WeekdayLocator())\n",
    "    ax[i].xaxis.set_major_formatter(mdates.DateFormatter('%b %d'))\n",
    "    ax[i].set_ylim([0,7000])\n",
    "    ax[i].spines['right'].set_visible(False)\n",
    "    ax[i].spines['top'].set_visible(False)\n",
    "plt.tight_layout()\n"
   ]
  },
  {
   "cell_type": "code",
   "execution_count": 20,
   "metadata": {
    "execution": {
     "iopub.execute_input": "2020-10-04T11:52:30.060532Z",
     "iopub.status.busy": "2020-10-04T11:52:30.059821Z",
     "iopub.status.idle": "2020-10-04T11:52:30.063451Z",
     "shell.execute_reply": "2020-10-04T11:52:30.063961Z"
    },
    "papermill": {
     "duration": 0.043225,
     "end_time": "2020-10-04T11:52:30.064110",
     "exception": false,
     "start_time": "2020-10-04T11:52:30.020885",
     "status": "completed"
    },
    "tags": []
   },
   "outputs": [
    {
     "name": "stdout",
     "output_type": "stream",
     "text": [
      "                                   states    Cases  Deaths   PCases  PDeaths  Cases (+)  Deaths (+)  Fatality Rate\n",
      "                              Maharashtra  1430861   37758  1430861    37758          0           0           2.64\n",
      "                           Andhra Pradesh   713014    5941   713014     5941          0           0           0.83\n",
      "                                Karnataka   630516    9219   630516     9219          0           0           1.46\n",
      "                               Tamil Nadu   614507    9718   614507     9718          0           0           1.58\n",
      "                            Uttar Pradesh   410626    5977   410626     5977          0           0           1.46\n",
      "                                    Delhi   287930    5472   287930     5472          0           0           1.90\n",
      "                              West Bengal   266974    5132   266974     5132          0           0           1.92\n",
      "                                   Odisha   232713     960   229387      945       3326          15           0.41\n",
      "                                   Kerala   221334     814   221334      814          0           0           0.37\n",
      "                                Telangana   199276    1163   197327     1153       1949          10           0.58\n",
      "                                    Bihar   186690     912   186690      912          0           0           0.49\n",
      "                                    Assam   185444     735   185444      735          0           0           0.40\n",
      "                                Rajasthan   141846    1530   141846     1530          0           0           1.08\n",
      "                                  Gujarat   141397    3490   141397     3490          0           0           2.47\n",
      "                           Madhya Pradesh   133918    2399   133918     2399          0           0           1.79\n",
      "                                  Haryana   132576    1450   132576     1450          0           0           1.09\n",
      "                             Chhattisgarh   121400    1031   121400     1031          0           0           0.85\n",
      "                                   Punjab   117319    3562   117319     3562          0           0           3.04\n",
      "                                Jharkhand    86277     734    86277      734          0           0           0.85\n",
      "                        Jammu and Kashmir    78228    1231    78228     1231          0           0           1.57\n",
      "                              Uttarakhand    50062     648    50062      648          0           0           1.29\n",
      "                                      Goa    34900     450    34900      450          0           0           1.29\n",
      "                               Puducherry    28752     534    28752      534          0           0           1.86\n",
      "                                  Tripura    26871     290    26549      286        322           4           1.08\n",
      "                         Himachal Pradesh    15695     205    15695      205          0           0           1.31\n",
      "                               Chandigarh    12360     172    12360      172          0           0           1.39\n",
      "                                  Manipur    11649      71    11649       71          0           0           0.61\n",
      "                        Arunachal Pradesh    10421      18    10421       18          0           0           0.17\n",
      "                                Meghalaya     6456      54     6456       54          0           0           0.84\n",
      "                                 Nagaland     6429      12     6429       12          0           0           0.19\n",
      "                                   Ladakh     4477      61     4477       61          0           0           1.36\n",
      "              Andaman and Nicobar Islands     3868      53     3868       53          0           0           1.37\n",
      " Dadra and Nagar Haveli and Daman and Diu     3071       2     3071        2          0           0           0.07\n",
      "                                   Sikkim     3050      43     3050       43          0           0           1.41\n",
      "                                  Mizoram     2120       0     2103        0         17           0           0.00\n",
      "                              Lakshadweep        0       0        0        0          0           0            NaN\n"
     ]
    }
   ],
   "source": [
    "#hide_input\n",
    "print(df_table.to_string(index=False))"
   ]
  },
  {
   "cell_type": "code",
   "execution_count": null,
   "metadata": {
    "papermill": {
     "duration": 0.022995,
     "end_time": "2020-10-04T11:52:30.109903",
     "exception": false,
     "start_time": "2020-10-04T11:52:30.086908",
     "status": "completed"
    },
    "tags": []
   },
   "outputs": [],
   "source": []
  },
  {
   "cell_type": "code",
   "execution_count": null,
   "metadata": {
    "papermill": {
     "duration": 0.022443,
     "end_time": "2020-10-04T11:52:30.157624",
     "exception": false,
     "start_time": "2020-10-04T11:52:30.135181",
     "status": "completed"
    },
    "tags": []
   },
   "outputs": [],
   "source": []
  }
 ],
 "metadata": {
  "kernelspec": {
   "display_name": "Python 3",
   "language": "python",
   "name": "python3"
  },
  "language_info": {
   "codemirror_mode": {
    "name": "ipython",
    "version": 3
   },
   "file_extension": ".py",
   "mimetype": "text/x-python",
   "name": "python",
   "nbconvert_exporter": "python",
   "pygments_lexer": "ipython3",
   "version": "3.6.12"
  },
  "papermill": {
   "duration": 9.755587,
   "end_time": "2020-10-04T11:52:30.688981",
   "environment_variables": {},
   "exception": null,
   "input_path": "latest.ipynb",
   "output_path": "latest.ipynb",
   "parameters": {},
   "start_time": "2020-10-04T11:52:20.933394",
   "version": "2.1.2"
  }
 },
 "nbformat": 4,
 "nbformat_minor": 4
}