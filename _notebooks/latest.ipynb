{
 "cells": [
  {
   "cell_type": "markdown",
   "metadata": {
    "papermill": {
     "duration": 0.019113,
     "end_time": "2020-10-15T13:24:45.496859",
     "exception": false,
     "start_time": "2020-10-15T13:24:45.477746",
     "status": "completed"
    },
    "tags": []
   },
   "source": [
    "# Latest COVID-19 India Matplotlib Overview"
   ]
  },
  {
   "cell_type": "code",
   "execution_count": 1,
   "metadata": {
    "execution": {
     "iopub.execute_input": "2020-10-15T13:24:45.534729Z",
     "iopub.status.busy": "2020-10-15T13:24:45.534188Z",
     "iopub.status.idle": "2020-10-15T13:24:46.069358Z",
     "shell.execute_reply": "2020-10-15T13:24:46.068838Z"
    },
    "papermill": {
     "duration": 0.555828,
     "end_time": "2020-10-15T13:24:46.069508",
     "exception": false,
     "start_time": "2020-10-15T13:24:45.513680",
     "status": "completed"
    },
    "tags": []
   },
   "outputs": [],
   "source": [
    "#hide\n",
    "import pandas as pd\n",
    "import numpy as np\n",
    "import requests\n",
    "import json\n",
    "import matplotlib.pyplot as plt\n",
    "import matplotlib.dates as mdates\n",
    "import matplotlib as mpl\n",
    "from IPython.core.display import display,HTML\n",
    "%matplotlib inline\n",
    "from datetime import date"
   ]
  },
  {
   "cell_type": "code",
   "execution_count": 2,
   "metadata": {
    "execution": {
     "iopub.execute_input": "2020-10-15T13:24:46.106853Z",
     "iopub.status.busy": "2020-10-15T13:24:46.106233Z",
     "iopub.status.idle": "2020-10-15T13:24:46.234023Z",
     "shell.execute_reply": "2020-10-15T13:24:46.233334Z"
    },
    "papermill": {
     "duration": 0.148132,
     "end_time": "2020-10-15T13:24:46.234159",
     "exception": false,
     "start_time": "2020-10-15T13:24:46.086027",
     "status": "completed"
    },
    "tags": []
   },
   "outputs": [],
   "source": [
    "#hide\n",
    "df  = pd.read_csv('https://api.covid19india.org/csv/latest/states.csv')\n",
    "df = df[['Date','State','Confirmed','Deceased']]\n",
    "df = df.rename(columns={'Confirmed':'Cases', \"Deceased\":'Deaths'})\n",
    "df_cases = df[[\"Date\",'State','Cases']]\n",
    "df_deaths = df[['Date','State','Deaths']]\n",
    "df_cases1 = df_cases.groupby('Date')\n",
    "df_deaths1= df_deaths.groupby('Date')"
   ]
  },
  {
   "cell_type": "code",
   "execution_count": 3,
   "metadata": {
    "execution": {
     "iopub.execute_input": "2020-10-15T13:24:46.269820Z",
     "iopub.status.busy": "2020-10-15T13:24:46.269273Z",
     "iopub.status.idle": "2020-10-15T13:24:46.287036Z",
     "shell.execute_reply": "2020-10-15T13:24:46.286370Z"
    },
    "papermill": {
     "duration": 0.037177,
     "end_time": "2020-10-15T13:24:46.287157",
     "exception": false,
     "start_time": "2020-10-15T13:24:46.249980",
     "status": "completed"
    },
    "tags": []
   },
   "outputs": [],
   "source": [
    "#hide\n",
    "df_snap = pd.read_csv('data/SnapshotCases-28-July.csv')\n",
    "arr_states = df_snap['states'].unique()\n",
    "arr_dates = df['Date'].unique()\n",
    "df_snap = df_snap.set_index('states')"
   ]
  },
  {
   "cell_type": "code",
   "execution_count": 4,
   "metadata": {
    "execution": {
     "iopub.execute_input": "2020-10-15T13:24:46.322135Z",
     "iopub.status.busy": "2020-10-15T13:24:46.321525Z",
     "iopub.status.idle": "2020-10-15T13:24:46.324149Z",
     "shell.execute_reply": "2020-10-15T13:24:46.324608Z"
    },
    "papermill": {
     "duration": 0.023625,
     "end_time": "2020-10-15T13:24:46.324731",
     "exception": false,
     "start_time": "2020-10-15T13:24:46.301106",
     "status": "completed"
    },
    "tags": []
   },
   "outputs": [
    {
     "data": {
      "text/plain": [
       "array(['Andaman and Nicobar Islands', 'Andhra Pradesh',\n",
       "       'Arunachal Pradesh', 'Assam', 'Bihar', 'Chandigarh',\n",
       "       'Dadra and Nagar Haveli and Daman and Diu', 'Delhi', 'Goa',\n",
       "       'Gujarat', 'Haryana', 'Himachal Pradesh', 'Jammu and Kashmir',\n",
       "       'Jharkhand', 'Karnataka', 'Kerala', 'Lakshadweep',\n",
       "       'Madhya Pradesh', 'Maharashtra', 'Manipur', 'Meghalaya', 'Mizoram',\n",
       "       'Nagaland', 'Odisha', 'Puducherry', 'Punjab', 'Rajasthan',\n",
       "       'Sikkim', 'Tamil Nadu', 'Telangana', 'Tripura', 'Uttar Pradesh',\n",
       "       'West Bengal', 'Chhattisgarh', 'Ladakh', 'Uttarakhand'],\n",
       "      dtype=object)"
      ]
     },
     "execution_count": 4,
     "metadata": {},
     "output_type": "execute_result"
    }
   ],
   "source": [
    "#hide\n",
    "arr_states[-9] = 'Puducherry'\n",
    "arr_states[-10] = 'Odisha'\n",
    "arr_states[6] = 'Dadra and Nagar Haveli and Daman and Diu'\n",
    "arr_states = np.append(arr_states,np.array(['Chhattisgarh','Ladakh','Uttarakhand']))\n",
    "arr_states"
   ]
  },
  {
   "cell_type": "code",
   "execution_count": 5,
   "metadata": {
    "execution": {
     "iopub.execute_input": "2020-10-15T13:24:46.363255Z",
     "iopub.status.busy": "2020-10-15T13:24:46.362668Z",
     "iopub.status.idle": "2020-10-15T13:24:46.371102Z",
     "shell.execute_reply": "2020-10-15T13:24:46.370596Z"
    },
    "papermill": {
     "duration": 0.031437,
     "end_time": "2020-10-15T13:24:46.371212",
     "exception": false,
     "start_time": "2020-10-15T13:24:46.339775",
     "status": "completed"
    },
    "tags": []
   },
   "outputs": [],
   "source": [
    "#hide\n",
    "dates = []\n",
    "for i in arr_dates:\n",
    "    if i>='2020-07-01':\n",
    "        dates.append(i)\n",
    "dict = {'states':dates}\n",
    "for i in arr_states:\n",
    "    dict[i] = [0]*len(dates)\n",
    "dft_cases = pd.DataFrame(dict)\n",
    "dft_deaths = pd.DataFrame(dict)\n"
   ]
  },
  {
   "cell_type": "code",
   "execution_count": 6,
   "metadata": {
    "execution": {
     "iopub.execute_input": "2020-10-15T13:24:46.412415Z",
     "iopub.status.busy": "2020-10-15T13:24:46.411774Z",
     "iopub.status.idle": "2020-10-15T13:24:48.112914Z",
     "shell.execute_reply": "2020-10-15T13:24:48.113397Z"
    },
    "papermill": {
     "duration": 1.725042,
     "end_time": "2020-10-15T13:24:48.113561",
     "exception": false,
     "start_time": "2020-10-15T13:24:46.388519",
     "status": "completed"
    },
    "tags": []
   },
   "outputs": [],
   "source": [
    "#hide\n",
    "for i in range(len(dates)):\n",
    "    df1_deaths = df_deaths1.get_group(dates[i])\n",
    "    for j in range(len(df1_deaths.index)):\n",
    "        if df1_deaths.iloc[j,1] in arr_states:\n",
    "            dft_deaths.loc[i,df1_deaths.iloc[j,1]] = df1_deaths.iloc[j,2]\n",
    "dft_deaths = dft_deaths.set_index('states')"
   ]
  },
  {
   "cell_type": "code",
   "execution_count": 7,
   "metadata": {
    "execution": {
     "iopub.execute_input": "2020-10-15T13:24:48.157653Z",
     "iopub.status.busy": "2020-10-15T13:24:48.153576Z",
     "iopub.status.idle": "2020-10-15T13:24:49.915749Z",
     "shell.execute_reply": "2020-10-15T13:24:49.912992Z"
    },
    "papermill": {
     "duration": 1.787005,
     "end_time": "2020-10-15T13:24:49.915973",
     "exception": false,
     "start_time": "2020-10-15T13:24:48.128968",
     "status": "completed"
    },
    "tags": []
   },
   "outputs": [],
   "source": [
    "#hide\n",
    "for i in range(len(dates)):\n",
    "    df1_cases = df_cases1.get_group(dates[i])\n",
    "    for j in range(len(df1_cases.index)):\n",
    "        if df1_cases.iloc[j,1] in arr_states:\n",
    "            dft_cases.loc[i,df1_cases.iloc[j,1]] = df1_cases.iloc[j,2]\n",
    "dft_cases = dft_cases.set_index('states')"
   ]
  },
  {
   "cell_type": "code",
   "execution_count": 8,
   "metadata": {
    "execution": {
     "iopub.execute_input": "2020-10-15T13:24:49.960257Z",
     "iopub.status.busy": "2020-10-15T13:24:49.958905Z",
     "iopub.status.idle": "2020-10-15T13:24:49.960947Z",
     "shell.execute_reply": "2020-10-15T13:24:49.961447Z"
    },
    "papermill": {
     "duration": 0.025789,
     "end_time": "2020-10-15T13:24:49.961617",
     "exception": false,
     "start_time": "2020-10-15T13:24:49.935828",
     "status": "completed"
    },
    "tags": []
   },
   "outputs": [],
   "source": [
    "#hide\n",
    "dft_cases = dft_cases.T\n",
    "dft_deaths = dft_deaths.T\n",
    "dt_today = dates[-1]\n",
    "dt_yday = dates[-2]"
   ]
  },
  {
   "cell_type": "code",
   "execution_count": 9,
   "metadata": {
    "execution": {
     "iopub.execute_input": "2020-10-15T13:24:49.998647Z",
     "iopub.status.busy": "2020-10-15T13:24:49.996267Z",
     "iopub.status.idle": "2020-10-15T13:24:50.000690Z",
     "shell.execute_reply": "2020-10-15T13:24:50.000218Z"
    },
    "papermill": {
     "duration": 0.023884,
     "end_time": "2020-10-15T13:24:50.000797",
     "exception": false,
     "start_time": "2020-10-15T13:24:49.976913",
     "status": "completed"
    },
    "tags": []
   },
   "outputs": [],
   "source": [
    "#hide\n",
    "dft_cases = dft_cases.reset_index()\n",
    "dft_deaths = dft_deaths.reset_index()\n",
    "dft_cases = dft_cases.rename(columns = {'index':'state'})\n",
    "dft_deaths = dft_deaths.rename(columns = {'index':'state'})"
   ]
  },
  {
   "cell_type": "code",
   "execution_count": 10,
   "metadata": {
    "execution": {
     "iopub.execute_input": "2020-10-15T13:24:50.041378Z",
     "iopub.status.busy": "2020-10-15T13:24:50.036542Z",
     "iopub.status.idle": "2020-10-15T13:24:50.043924Z",
     "shell.execute_reply": "2020-10-15T13:24:50.043464Z"
    },
    "papermill": {
     "duration": 0.027428,
     "end_time": "2020-10-15T13:24:50.044027",
     "exception": false,
     "start_time": "2020-10-15T13:24:50.016599",
     "status": "completed"
    },
    "tags": []
   },
   "outputs": [],
   "source": [
    "#hide\n",
    "dfc_cases = dft_cases.groupby('state')[dt_today].sum()\n",
    "dfc_deaths = dft_deaths.groupby('state')[dt_today].sum()\n",
    "dfp_cases = dft_cases.groupby('state')[dt_yday].sum()\n",
    "dfp_deaths = dft_deaths.groupby('state')[dt_yday].sum()"
   ]
  },
  {
   "cell_type": "code",
   "execution_count": 11,
   "metadata": {
    "execution": {
     "iopub.execute_input": "2020-10-15T13:24:50.084146Z",
     "iopub.status.busy": "2020-10-15T13:24:50.083463Z",
     "iopub.status.idle": "2020-10-15T13:24:50.097015Z",
     "shell.execute_reply": "2020-10-15T13:24:50.097443Z"
    },
    "papermill": {
     "duration": 0.038255,
     "end_time": "2020-10-15T13:24:50.097574",
     "exception": false,
     "start_time": "2020-10-15T13:24:50.059319",
     "status": "completed"
    },
    "tags": []
   },
   "outputs": [
    {
     "data": {
      "text/html": [
       "<div>\n",
       "<style scoped>\n",
       "    .dataframe tbody tr th:only-of-type {\n",
       "        vertical-align: middle;\n",
       "    }\n",
       "\n",
       "    .dataframe tbody tr th {\n",
       "        vertical-align: top;\n",
       "    }\n",
       "\n",
       "    .dataframe thead th {\n",
       "        text-align: right;\n",
       "    }\n",
       "</style>\n",
       "<table border=\"1\" class=\"dataframe\">\n",
       "  <thead>\n",
       "    <tr style=\"text-align: right;\">\n",
       "      <th></th>\n",
       "      <th>states</th>\n",
       "      <th>Cases</th>\n",
       "      <th>Deaths</th>\n",
       "      <th>PCases</th>\n",
       "      <th>PDeaths</th>\n",
       "    </tr>\n",
       "  </thead>\n",
       "  <tbody>\n",
       "    <tr>\n",
       "      <th>0</th>\n",
       "      <td>Maharashtra</td>\n",
       "      <td>1554389</td>\n",
       "      <td>40859</td>\n",
       "      <td>1554389</td>\n",
       "      <td>40859</td>\n",
       "    </tr>\n",
       "    <tr>\n",
       "      <th>1</th>\n",
       "      <td>Andhra Pradesh</td>\n",
       "      <td>767465</td>\n",
       "      <td>6319</td>\n",
       "      <td>767465</td>\n",
       "      <td>6319</td>\n",
       "    </tr>\n",
       "    <tr>\n",
       "      <th>2</th>\n",
       "      <td>Karnataka</td>\n",
       "      <td>735371</td>\n",
       "      <td>10198</td>\n",
       "      <td>735371</td>\n",
       "      <td>10198</td>\n",
       "    </tr>\n",
       "    <tr>\n",
       "      <th>3</th>\n",
       "      <td>Tamil Nadu</td>\n",
       "      <td>670392</td>\n",
       "      <td>10423</td>\n",
       "      <td>670392</td>\n",
       "      <td>10423</td>\n",
       "    </tr>\n",
       "    <tr>\n",
       "      <th>4</th>\n",
       "      <td>Uttar Pradesh</td>\n",
       "      <td>444711</td>\n",
       "      <td>6507</td>\n",
       "      <td>444711</td>\n",
       "      <td>6507</td>\n",
       "    </tr>\n",
       "  </tbody>\n",
       "</table>\n",
       "</div>"
      ],
      "text/plain": [
       "           states    Cases  Deaths   PCases  PDeaths\n",
       "0     Maharashtra  1554389   40859  1554389    40859\n",
       "1  Andhra Pradesh   767465    6319   767465     6319\n",
       "2       Karnataka   735371   10198   735371    10198\n",
       "3      Tamil Nadu   670392   10423   670392    10423\n",
       "4   Uttar Pradesh   444711    6507   444711     6507"
      ]
     },
     "execution_count": 11,
     "metadata": {},
     "output_type": "execute_result"
    }
   ],
   "source": [
    "#hide\n",
    "df_table = pd.DataFrame({'states': dfc_cases.index, 'Cases': dfc_cases.values, 'Deaths': dfc_deaths.values, 'PCases': dfp_cases.values, 'PDeaths': dfp_deaths.values}).set_index('states')\n",
    "df_table = df_table.sort_values(by = ['Cases','Deaths'], ascending = [False, False])\n",
    "df_table = df_table.reset_index()\n",
    "df_table.head()"
   ]
  },
  {
   "cell_type": "code",
   "execution_count": 12,
   "metadata": {
    "execution": {
     "iopub.execute_input": "2020-10-15T13:24:50.135835Z",
     "iopub.status.busy": "2020-10-15T13:24:50.135239Z",
     "iopub.status.idle": "2020-10-15T13:24:50.143196Z",
     "shell.execute_reply": "2020-10-15T13:24:50.142688Z"
    },
    "papermill": {
     "duration": 0.028891,
     "end_time": "2020-10-15T13:24:50.143301",
     "exception": false,
     "start_time": "2020-10-15T13:24:50.114410",
     "status": "completed"
    },
    "tags": []
   },
   "outputs": [],
   "source": [
    "#hide\n",
    "for c in 'Cases, Deaths'.split(', '):\n",
    "    df_table[f'{c} (+)'] = (df_table[c] - df_table[f'P{c}']).clip(0)\n",
    "df_table['Fatality Rate'] = (100* df_table['Deaths']/ df_table['Cases']).round(2)"
   ]
  },
  {
   "cell_type": "code",
   "execution_count": 13,
   "metadata": {
    "execution": {
     "iopub.execute_input": "2020-10-15T13:24:50.183907Z",
     "iopub.status.busy": "2020-10-15T13:24:50.183339Z",
     "iopub.status.idle": "2020-10-15T13:24:50.185956Z",
     "shell.execute_reply": "2020-10-15T13:24:50.186406Z"
    },
    "papermill": {
     "duration": 0.028696,
     "end_time": "2020-10-15T13:24:50.186529",
     "exception": false,
     "start_time": "2020-10-15T13:24:50.157833",
     "status": "completed"
    },
    "tags": []
   },
   "outputs": [
    {
     "data": {
      "text/html": [
       "<div>\n",
       "<style scoped>\n",
       "    .dataframe tbody tr th:only-of-type {\n",
       "        vertical-align: middle;\n",
       "    }\n",
       "\n",
       "    .dataframe tbody tr th {\n",
       "        vertical-align: top;\n",
       "    }\n",
       "\n",
       "    .dataframe thead th {\n",
       "        text-align: right;\n",
       "    }\n",
       "</style>\n",
       "<table border=\"1\" class=\"dataframe\">\n",
       "  <thead>\n",
       "    <tr style=\"text-align: right;\">\n",
       "      <th></th>\n",
       "      <th>states</th>\n",
       "      <th>Cases</th>\n",
       "      <th>Deaths</th>\n",
       "      <th>PCases</th>\n",
       "      <th>PDeaths</th>\n",
       "      <th>Cases (+)</th>\n",
       "      <th>Deaths (+)</th>\n",
       "      <th>Fatality Rate</th>\n",
       "    </tr>\n",
       "  </thead>\n",
       "  <tbody>\n",
       "    <tr>\n",
       "      <th>0</th>\n",
       "      <td>Maharashtra</td>\n",
       "      <td>1554389</td>\n",
       "      <td>40859</td>\n",
       "      <td>1554389</td>\n",
       "      <td>40859</td>\n",
       "      <td>0</td>\n",
       "      <td>0</td>\n",
       "      <td>2.63</td>\n",
       "    </tr>\n",
       "    <tr>\n",
       "      <th>1</th>\n",
       "      <td>Andhra Pradesh</td>\n",
       "      <td>767465</td>\n",
       "      <td>6319</td>\n",
       "      <td>767465</td>\n",
       "      <td>6319</td>\n",
       "      <td>0</td>\n",
       "      <td>0</td>\n",
       "      <td>0.82</td>\n",
       "    </tr>\n",
       "    <tr>\n",
       "      <th>2</th>\n",
       "      <td>Karnataka</td>\n",
       "      <td>735371</td>\n",
       "      <td>10198</td>\n",
       "      <td>735371</td>\n",
       "      <td>10198</td>\n",
       "      <td>0</td>\n",
       "      <td>0</td>\n",
       "      <td>1.39</td>\n",
       "    </tr>\n",
       "    <tr>\n",
       "      <th>3</th>\n",
       "      <td>Tamil Nadu</td>\n",
       "      <td>670392</td>\n",
       "      <td>10423</td>\n",
       "      <td>670392</td>\n",
       "      <td>10423</td>\n",
       "      <td>0</td>\n",
       "      <td>0</td>\n",
       "      <td>1.55</td>\n",
       "    </tr>\n",
       "    <tr>\n",
       "      <th>4</th>\n",
       "      <td>Uttar Pradesh</td>\n",
       "      <td>444711</td>\n",
       "      <td>6507</td>\n",
       "      <td>444711</td>\n",
       "      <td>6507</td>\n",
       "      <td>0</td>\n",
       "      <td>0</td>\n",
       "      <td>1.46</td>\n",
       "    </tr>\n",
       "  </tbody>\n",
       "</table>\n",
       "</div>"
      ],
      "text/plain": [
       "           states    Cases  Deaths   PCases  PDeaths  Cases (+)  Deaths (+)  \\\n",
       "0     Maharashtra  1554389   40859  1554389    40859          0           0   \n",
       "1  Andhra Pradesh   767465    6319   767465     6319          0           0   \n",
       "2       Karnataka   735371   10198   735371    10198          0           0   \n",
       "3      Tamil Nadu   670392   10423   670392    10423          0           0   \n",
       "4   Uttar Pradesh   444711    6507   444711     6507          0           0   \n",
       "\n",
       "   Fatality Rate  \n",
       "0           2.63  \n",
       "1           0.82  \n",
       "2           1.39  \n",
       "3           1.55  \n",
       "4           1.46  "
      ]
     },
     "execution_count": 13,
     "metadata": {},
     "output_type": "execute_result"
    }
   ],
   "source": [
    "#hide\n",
    "df_table.head()"
   ]
  },
  {
   "cell_type": "code",
   "execution_count": 14,
   "metadata": {
    "execution": {
     "iopub.execute_input": "2020-10-15T13:24:50.224362Z",
     "iopub.status.busy": "2020-10-15T13:24:50.223505Z",
     "iopub.status.idle": "2020-10-15T13:24:50.238948Z",
     "shell.execute_reply": "2020-10-15T13:24:50.239826Z"
    },
    "papermill": {
     "duration": 0.036907,
     "end_time": "2020-10-15T13:24:50.239951",
     "exception": false,
     "start_time": "2020-10-15T13:24:50.203044",
     "status": "completed"
    },
    "tags": []
   },
   "outputs": [
    {
     "data": {
      "text/plain": [
       "{'updated': '2020-10-15',\n",
       " 'since': '2020-10-14',\n",
       " 'Cases': 7309164,\n",
       " 'PCases': 7305090,\n",
       " 'Deaths': 111337,\n",
       " 'PDeaths': 111311,\n",
       " 'Cases (+)': 4074,\n",
       " 'Deaths (+)': 26}"
      ]
     },
     "execution_count": 14,
     "metadata": {},
     "output_type": "execute_result"
    }
   ],
   "source": [
    "#hide\n",
    "summary = {'updated':dates[-1], 'since':dates[-2]}\n",
    "list_names = ['Cases', 'PCases', 'Deaths', 'PDeaths', 'Cases (+)', 'Deaths (+)']\n",
    "for name in list_names:\n",
    "    summary[name] = df_table.sum()[name]\n",
    "summary"
   ]
  },
  {
   "cell_type": "code",
   "execution_count": 15,
   "metadata": {
    "execution": {
     "iopub.execute_input": "2020-10-15T13:24:50.275867Z",
     "iopub.status.busy": "2020-10-15T13:24:50.275306Z",
     "iopub.status.idle": "2020-10-15T13:24:50.277614Z",
     "shell.execute_reply": "2020-10-15T13:24:50.277139Z"
    },
    "papermill": {
     "duration": 0.022003,
     "end_time": "2020-10-15T13:24:50.277743",
     "exception": false,
     "start_time": "2020-10-15T13:24:50.255740",
     "status": "completed"
    },
    "tags": []
   },
   "outputs": [],
   "source": [
    "#hide\n",
    "overview = '''\n",
    "<!-- #######  HTML!! #########-->\n",
    "<h1 style=\"color: #5e9ca0; text-align: center;\">India</h1>\n",
    "<p style=\"text-align: center;\">Last update: <strong>{update}</strong></p>\n",
    "<p style=\"text-align: center;\">Confirmed cases:</p>\n",
    "<p style=\"text-align: center;font-size:24px;\">{cases} (<span style=\"color: #ff0000;\">+{new}</span>)</p>\n",
    "<p style=\"text-align: center;\">Confirmed deaths:</p>\n",
    "<p style=\"text-align: center;font-size:24px;\">{deaths} (<span style=\"color: #ff0000;\">+{dnew}</span>)</p>\n",
    "'''"
   ]
  },
  {
   "cell_type": "code",
   "execution_count": 16,
   "metadata": {
    "execution": {
     "iopub.execute_input": "2020-10-15T13:24:50.314846Z",
     "iopub.status.busy": "2020-10-15T13:24:50.314285Z",
     "iopub.status.idle": "2020-10-15T13:24:50.317868Z",
     "shell.execute_reply": "2020-10-15T13:24:50.318403Z"
    },
    "papermill": {
     "duration": 0.025118,
     "end_time": "2020-10-15T13:24:50.318524",
     "exception": false,
     "start_time": "2020-10-15T13:24:50.293406",
     "status": "completed"
    },
    "tags": []
   },
   "outputs": [
    {
     "data": {
      "text/html": [
       "\n",
       "<!-- #######  HTML!! #########-->\n",
       "<h1 style=\"color: #5e9ca0; text-align: center;\">India</h1>\n",
       "<p style=\"text-align: center;\">Last update: <strong>2020-10-15</strong></p>\n",
       "<p style=\"text-align: center;\">Confirmed cases:</p>\n",
       "<p style=\"text-align: center;font-size:24px;\">7309164 (<span style=\"color: #ff0000;\">+4074</span>)</p>\n",
       "<p style=\"text-align: center;\">Confirmed deaths:</p>\n",
       "<p style=\"text-align: center;font-size:24px;\">111337 (<span style=\"color: #ff0000;\">+26</span>)</p>\n"
      ],
      "text/plain": [
       "<IPython.core.display.HTML object>"
      ]
     },
     "metadata": {},
     "output_type": "display_data"
    }
   ],
   "source": [
    "#hide_input\n",
    "update = summary['updated']\n",
    "cases = summary['Cases']\n",
    "new = summary['Cases (+)']\n",
    "deaths = summary['Deaths']\n",
    "dnew = summary['Deaths (+)']\n",
    "\n",
    "html = HTML(overview.format(update=update, cases=cases,new=new,deaths=deaths,dnew=dnew))\n",
    "\n",
    "display(html)"
   ]
  },
  {
   "cell_type": "code",
   "execution_count": 17,
   "metadata": {
    "execution": {
     "iopub.execute_input": "2020-10-15T13:24:50.357050Z",
     "iopub.status.busy": "2020-10-15T13:24:50.356500Z",
     "iopub.status.idle": "2020-10-15T13:24:50.362818Z",
     "shell.execute_reply": "2020-10-15T13:24:50.362333Z"
    },
    "papermill": {
     "duration": 0.028073,
     "end_time": "2020-10-15T13:24:50.362923",
     "exception": false,
     "start_time": "2020-10-15T13:24:50.334850",
     "status": "completed"
    },
    "tags": []
   },
   "outputs": [],
   "source": [
    "#hide\n",
    "dt_cols = list(dft_cases.columns[1:])\n",
    "dft_ct_new_cases = dft_cases.groupby('state')[dt_cols].sum().diff(axis=1).fillna(0).astype(int)\n",
    "dft_ct_new_cases.sort_values(by = dates[-1], ascending = False,inplace = True)"
   ]
  },
  {
   "cell_type": "code",
   "execution_count": 18,
   "metadata": {
    "execution": {
     "iopub.execute_input": "2020-10-15T13:24:50.415204Z",
     "iopub.status.busy": "2020-10-15T13:24:50.414196Z",
     "iopub.status.idle": "2020-10-15T13:24:50.417728Z",
     "shell.execute_reply": "2020-10-15T13:24:50.417235Z"
    },
    "papermill": {
     "duration": 0.037891,
     "end_time": "2020-10-15T13:24:50.417924",
     "exception": false,
     "start_time": "2020-10-15T13:24:50.380033",
     "status": "completed"
    },
    "tags": []
   },
   "outputs": [
    {
     "data": {
      "text/html": [
       "<div>\n",
       "<style scoped>\n",
       "    .dataframe tbody tr th:only-of-type {\n",
       "        vertical-align: middle;\n",
       "    }\n",
       "\n",
       "    .dataframe tbody tr th {\n",
       "        vertical-align: top;\n",
       "    }\n",
       "\n",
       "    .dataframe thead th {\n",
       "        text-align: right;\n",
       "    }\n",
       "</style>\n",
       "<table border=\"1\" class=\"dataframe\">\n",
       "  <thead>\n",
       "    <tr style=\"text-align: right;\">\n",
       "      <th>states</th>\n",
       "      <th>2020-07-01</th>\n",
       "      <th>2020-07-02</th>\n",
       "      <th>2020-07-03</th>\n",
       "      <th>2020-07-04</th>\n",
       "      <th>2020-07-05</th>\n",
       "      <th>2020-07-06</th>\n",
       "      <th>2020-07-07</th>\n",
       "      <th>2020-07-08</th>\n",
       "      <th>2020-07-09</th>\n",
       "      <th>2020-07-10</th>\n",
       "      <th>...</th>\n",
       "      <th>2020-10-06</th>\n",
       "      <th>2020-10-07</th>\n",
       "      <th>2020-10-08</th>\n",
       "      <th>2020-10-09</th>\n",
       "      <th>2020-10-10</th>\n",
       "      <th>2020-10-11</th>\n",
       "      <th>2020-10-12</th>\n",
       "      <th>2020-10-13</th>\n",
       "      <th>2020-10-14</th>\n",
       "      <th>2020-10-15</th>\n",
       "    </tr>\n",
       "    <tr>\n",
       "      <th>state</th>\n",
       "      <th></th>\n",
       "      <th></th>\n",
       "      <th></th>\n",
       "      <th></th>\n",
       "      <th></th>\n",
       "      <th></th>\n",
       "      <th></th>\n",
       "      <th></th>\n",
       "      <th></th>\n",
       "      <th></th>\n",
       "      <th></th>\n",
       "      <th></th>\n",
       "      <th></th>\n",
       "      <th></th>\n",
       "      <th></th>\n",
       "      <th></th>\n",
       "      <th></th>\n",
       "      <th></th>\n",
       "      <th></th>\n",
       "      <th></th>\n",
       "      <th></th>\n",
       "    </tr>\n",
       "  </thead>\n",
       "  <tbody>\n",
       "    <tr>\n",
       "      <th>Odisha</th>\n",
       "      <td>0</td>\n",
       "      <td>229</td>\n",
       "      <td>561</td>\n",
       "      <td>495</td>\n",
       "      <td>469</td>\n",
       "      <td>456</td>\n",
       "      <td>571</td>\n",
       "      <td>527</td>\n",
       "      <td>577</td>\n",
       "      <td>755</td>\n",
       "      <td>...</td>\n",
       "      <td>2673</td>\n",
       "      <td>2995</td>\n",
       "      <td>3144</td>\n",
       "      <td>2697</td>\n",
       "      <td>2854</td>\n",
       "      <td>2546</td>\n",
       "      <td>2423</td>\n",
       "      <td>2275</td>\n",
       "      <td>2604</td>\n",
       "      <td>2470</td>\n",
       "    </tr>\n",
       "    <tr>\n",
       "      <th>Telangana</th>\n",
       "      <td>0</td>\n",
       "      <td>1213</td>\n",
       "      <td>1892</td>\n",
       "      <td>1850</td>\n",
       "      <td>1590</td>\n",
       "      <td>1831</td>\n",
       "      <td>1879</td>\n",
       "      <td>1924</td>\n",
       "      <td>1410</td>\n",
       "      <td>1278</td>\n",
       "      <td>...</td>\n",
       "      <td>1983</td>\n",
       "      <td>2154</td>\n",
       "      <td>1896</td>\n",
       "      <td>1891</td>\n",
       "      <td>1811</td>\n",
       "      <td>1717</td>\n",
       "      <td>1021</td>\n",
       "      <td>1708</td>\n",
       "      <td>1446</td>\n",
       "      <td>1432</td>\n",
       "    </tr>\n",
       "    <tr>\n",
       "      <th>Tripura</th>\n",
       "      <td>0</td>\n",
       "      <td>39</td>\n",
       "      <td>93</td>\n",
       "      <td>25</td>\n",
       "      <td>23</td>\n",
       "      <td>111</td>\n",
       "      <td>24</td>\n",
       "      <td>57</td>\n",
       "      <td>16</td>\n",
       "      <td>142</td>\n",
       "      <td>...</td>\n",
       "      <td>275</td>\n",
       "      <td>237</td>\n",
       "      <td>214</td>\n",
       "      <td>223</td>\n",
       "      <td>171</td>\n",
       "      <td>199</td>\n",
       "      <td>109</td>\n",
       "      <td>217</td>\n",
       "      <td>181</td>\n",
       "      <td>172</td>\n",
       "    </tr>\n",
       "    <tr>\n",
       "      <th>Andaman and Nicobar Islands</th>\n",
       "      <td>0</td>\n",
       "      <td>9</td>\n",
       "      <td>7</td>\n",
       "      <td>3</td>\n",
       "      <td>6</td>\n",
       "      <td>16</td>\n",
       "      <td>6</td>\n",
       "      <td>2</td>\n",
       "      <td>7</td>\n",
       "      <td>0</td>\n",
       "      <td>...</td>\n",
       "      <td>13</td>\n",
       "      <td>23</td>\n",
       "      <td>17</td>\n",
       "      <td>24</td>\n",
       "      <td>16</td>\n",
       "      <td>13</td>\n",
       "      <td>18</td>\n",
       "      <td>13</td>\n",
       "      <td>10</td>\n",
       "      <td>0</td>\n",
       "    </tr>\n",
       "    <tr>\n",
       "      <th>Puducherry</th>\n",
       "      <td>0</td>\n",
       "      <td>63</td>\n",
       "      <td>22</td>\n",
       "      <td>80</td>\n",
       "      <td>42</td>\n",
       "      <td>65</td>\n",
       "      <td>30</td>\n",
       "      <td>110</td>\n",
       "      <td>49</td>\n",
       "      <td>72</td>\n",
       "      <td>...</td>\n",
       "      <td>405</td>\n",
       "      <td>479</td>\n",
       "      <td>378</td>\n",
       "      <td>365</td>\n",
       "      <td>337</td>\n",
       "      <td>308</td>\n",
       "      <td>188</td>\n",
       "      <td>267</td>\n",
       "      <td>241</td>\n",
       "      <td>0</td>\n",
       "    </tr>\n",
       "  </tbody>\n",
       "</table>\n",
       "<p>5 rows × 107 columns</p>\n",
       "</div>"
      ],
      "text/plain": [
       "states                       2020-07-01  2020-07-02  2020-07-03  2020-07-04  \\\n",
       "state                                                                         \n",
       "Odisha                                0         229         561         495   \n",
       "Telangana                             0        1213        1892        1850   \n",
       "Tripura                               0          39          93          25   \n",
       "Andaman and Nicobar Islands           0           9           7           3   \n",
       "Puducherry                            0          63          22          80   \n",
       "\n",
       "states                       2020-07-05  2020-07-06  2020-07-07  2020-07-08  \\\n",
       "state                                                                         \n",
       "Odisha                              469         456         571         527   \n",
       "Telangana                          1590        1831        1879        1924   \n",
       "Tripura                              23         111          24          57   \n",
       "Andaman and Nicobar Islands           6          16           6           2   \n",
       "Puducherry                           42          65          30         110   \n",
       "\n",
       "states                       2020-07-09  2020-07-10  ...  2020-10-06  \\\n",
       "state                                                ...               \n",
       "Odisha                              577         755  ...        2673   \n",
       "Telangana                          1410        1278  ...        1983   \n",
       "Tripura                              16         142  ...         275   \n",
       "Andaman and Nicobar Islands           7           0  ...          13   \n",
       "Puducherry                           49          72  ...         405   \n",
       "\n",
       "states                       2020-10-07  2020-10-08  2020-10-09  2020-10-10  \\\n",
       "state                                                                         \n",
       "Odisha                             2995        3144        2697        2854   \n",
       "Telangana                          2154        1896        1891        1811   \n",
       "Tripura                             237         214         223         171   \n",
       "Andaman and Nicobar Islands          23          17          24          16   \n",
       "Puducherry                          479         378         365         337   \n",
       "\n",
       "states                       2020-10-11  2020-10-12  2020-10-13  2020-10-14  \\\n",
       "state                                                                         \n",
       "Odisha                             2546        2423        2275        2604   \n",
       "Telangana                          1717        1021        1708        1446   \n",
       "Tripura                             199         109         217         181   \n",
       "Andaman and Nicobar Islands          13          18          13          10   \n",
       "Puducherry                          308         188         267         241   \n",
       "\n",
       "states                       2020-10-15  \n",
       "state                                    \n",
       "Odisha                             2470  \n",
       "Telangana                          1432  \n",
       "Tripura                             172  \n",
       "Andaman and Nicobar Islands           0  \n",
       "Puducherry                            0  \n",
       "\n",
       "[5 rows x 107 columns]"
      ]
     },
     "execution_count": 18,
     "metadata": {},
     "output_type": "execute_result"
    }
   ],
   "source": [
    "#hide\n",
    "dft_ct_new_cases.head()"
   ]
  },
  {
   "cell_type": "code",
   "execution_count": 19,
   "metadata": {
    "execution": {
     "iopub.execute_input": "2020-10-15T13:24:50.456481Z",
     "iopub.status.busy": "2020-10-15T13:24:50.455940Z",
     "iopub.status.idle": "2020-10-15T13:24:55.676693Z",
     "shell.execute_reply": "2020-10-15T13:24:55.677443Z"
    },
    "papermill": {
     "duration": 5.241626,
     "end_time": "2020-10-15T13:24:55.677609",
     "exception": false,
     "start_time": "2020-10-15T13:24:50.435983",
     "status": "completed"
    },
    "tags": []
   },
   "outputs": [
    {
     "data": {
      "image/png": "[encoded data removed]",
      "text/plain": [
       "<Figure size 1296x2016 with 11 Axes>"
      ]
     },
     "metadata": {
      "needs_background": "light"
     },
     "output_type": "display_data"
    }
   ],
   "source": [
    "#hide_input\n",
    "df = dft_ct_new_cases.copy()\n",
    "df.loc['Total'] = df.sum()\n",
    "n = 5\n",
    "ax = []\n",
    "fig = plt.figure(figsize = (18,28))\n",
    "gs = fig.add_gridspec(n+2, 5)\n",
    "# gs = fig.add_gridspec(2, 3)\n",
    "ax1 = fig.add_subplot(gs[0, :])\n",
    "ef = df.loc['Total'].rename_axis('date').reset_index()\n",
    "ef['date'] = ef['date'].astype('datetime64[ns]')\n",
    "ax1.bar(ef.date,ef.Total,alpha=0.3,color='#007acc')\n",
    "ax1.plot(ef.date,ef.Total , marker=\"o\", color='#007acc')\n",
    "ax1.xaxis.set_major_locator(mdates.WeekdayLocator())\n",
    "ax1.xaxis.set_major_formatter(mdates.DateFormatter('%b %d'))\n",
    "ax1.text(0.02, 0.5,'India daily case count', transform = ax1.transAxes, fontsize=25);\n",
    "ax1.spines['right'].set_visible(False)\n",
    "ax1.spines['top'].set_visible(False)\n",
    "\n",
    "ax2 = fig.add_subplot(gs[1,0])\n",
    "ef = df.loc['Maharashtra'].rename_axis('date').reset_index()\n",
    "ef['date'] = ef['date'].astype('datetime64[ns]')\n",
    "\n",
    "ax2.bar(ef.date, ef.Maharashtra,color = '#007acc',alpha=0.5)\n",
    "ax2.xaxis.set_major_locator(mdates.WeekdayLocator())\n",
    "ax2.xaxis.set_major_formatter(mdates.DateFormatter('%b %d'))\n",
    "ax2.set_xticks(ax2.get_xticks()[::3])\n",
    "maxyval = ef.Maharashtra.max()\n",
    "ax2.set_ylim([0,maxyval])\n",
    "ax2.text(0.05, 0.9,'Maharashtra', transform = ax2.transAxes, fontsize=20);\n",
    "ax2.spines['right'].set_visible(False)\n",
    "ax2.spines['top'].set_visible(False)\n",
    "\n",
    "\n",
    "ax3 = fig.add_subplot(gs[1,1])\n",
    "ef = df.loc['Tamil Nadu'].rename_axis('date').reset_index()\n",
    "ef['date'] = ef['date'].astype('datetime64[ns]')\n",
    "ax3.bar(ef.date, ef['Tamil Nadu'],color = '#007acc',alpha=0.5,)\n",
    "ax3.xaxis.set_major_locator(mdates.WeekdayLocator())\n",
    "ax3.xaxis.set_major_formatter(mdates.DateFormatter('%b %d'))\n",
    "ax3.set_xticks(ax3.get_xticks()[::3])\n",
    "ax3.text(0.05, 0.9,'Tamil Nadu', transform = ax3.transAxes, fontsize=20);\n",
    "ax3.spines['right'].set_visible(False)\n",
    "ax3.spines['top'].set_visible(False)\n",
    "\n",
    "ax5 = fig.add_subplot(gs[1,3])\n",
    "ef = df.loc['Telangana'].rename_axis('date').reset_index()\n",
    "ef['date'] = ef['date'].astype('datetime64[ns]')\n",
    "ax5.bar(ef.date, ef['Telangana'],color = '#007acc',alpha=0.5,)\n",
    "ax5.xaxis.set_major_locator(mdates.WeekdayLocator())\n",
    "ax5.xaxis.set_major_formatter(mdates.DateFormatter('%b %d'))\n",
    "ax5.set_xticks(ax5.get_xticks()[::3])\n",
    "ax5.text(0.05, 0.9,'Telangana', transform = ax5.transAxes, fontsize=20);\n",
    "ax5.spines['right'].set_visible(False)\n",
    "ax5.spines['top'].set_visible(False)\n",
    "\n",
    "ax6 = fig.add_subplot(gs[1,4])\n",
    "ef = df.loc['Andhra Pradesh'].rename_axis('date').reset_index()\n",
    "ef['date'] = ef['date'].astype('datetime64[ns]')\n",
    "ax6.bar(ef.date, ef['Andhra Pradesh'],color = '#007acc',alpha=0.5,)\n",
    "ax6.xaxis.set_major_locator(mdates.WeekdayLocator())\n",
    "ax6.xaxis.set_major_formatter(mdates.DateFormatter('%b %d'))\n",
    "ax6.set_xticks(ax6.get_xticks()[::3])\n",
    "ax6.text(0.05, 1,'Andhra Pradesh', transform = ax6.transAxes, fontsize=20);\n",
    "ax6.spines['right'].set_visible(False)\n",
    "ax6.spines['top'].set_visible(False)\n",
    "\n",
    "ax4 = fig.add_subplot(gs[1,2])\n",
    "ef = df.loc['Delhi'].rename_axis('date').reset_index()\n",
    "ef['date'] = ef['date'].astype('datetime64[ns]')\n",
    "ax4.bar(ef.date, ef.Delhi,color = '#007acc',alpha=0.5)\n",
    "ax4.set_xticks([])\n",
    "ax4.xaxis.set_major_locator(mdates.WeekdayLocator())\n",
    "ax4.xaxis.set_major_formatter(mdates.DateFormatter('%b %d'))\n",
    "ax4.set_xticks(ax4.get_xticks()[::3])\n",
    "ax4.spines['right'].set_visible(False)\n",
    "ax4.spines['top'].set_visible(False)\n",
    "\n",
    "ax4.text(0.05, 1,'Delhi', transform = ax4.transAxes, fontsize=20)\n",
    "\n",
    "for i in range(n):\n",
    "    \n",
    "    ax.append(fig.add_subplot(gs[i+2,:]))\n",
    "    ef = df.iloc[i+3].rename_axis('date').reset_index()\n",
    "    ef['date'] = ef['date'].astype('datetime64[ns]')\n",
    "    ax[i].bar(ef.date,ef.iloc[:,-1],color = '#007acc',alpha=0.3)\n",
    "    ax[i].plot(ef.date,ef.iloc[:,-1],marker='o',color='#007acc')\n",
    "    ax[i].text(0.02,0.5,f'{ef.columns.values[-1]}',transform = ax[i].transAxes, fontsize = 20);\n",
    "    ax[i].xaxis.set_major_locator(mdates.WeekdayLocator())\n",
    "    ax[i].xaxis.set_major_formatter(mdates.DateFormatter('%b %d'))\n",
    "    ax[i].set_ylim([0,7000])\n",
    "    ax[i].spines['right'].set_visible(False)\n",
    "    ax[i].spines['top'].set_visible(False)\n",
    "plt.tight_layout()\n"
   ]
  },
  {
   "cell_type": "code",
   "execution_count": 20,
   "metadata": {
    "execution": {
     "iopub.execute_input": "2020-10-15T13:24:55.735038Z",
     "iopub.status.busy": "2020-10-15T13:24:55.734365Z",
     "iopub.status.idle": "2020-10-15T13:24:55.736817Z",
     "shell.execute_reply": "2020-10-15T13:24:55.737427Z"
    },
    "papermill": {
     "duration": 0.036327,
     "end_time": "2020-10-15T13:24:55.737599",
     "exception": false,
     "start_time": "2020-10-15T13:24:55.701272",
     "status": "completed"
    },
    "tags": []
   },
   "outputs": [
    {
     "name": "stdout",
     "output_type": "stream",
     "text": [
      "                                   states    Cases  Deaths   PCases  PDeaths  Cases (+)  Deaths (+)  Fatality Rate\n",
      "                              Maharashtra  1554389   40859  1554389    40859          0           0           2.63\n",
      "                           Andhra Pradesh   767465    6319   767465     6319          0           0           0.82\n",
      "                                Karnataka   735371   10198   735371    10198          0           0           1.39\n",
      "                               Tamil Nadu   670392   10423   670392    10423          0           0           1.55\n",
      "                            Uttar Pradesh   444711    6507   444711     6507          0           0           1.46\n",
      "                                    Delhi   317548    5898   317548     5898          0           0           1.86\n",
      "                                   Kerala   310141    1067   310141     1067          0           0           0.34\n",
      "                              West Bengal   305697    5808   305697     5808          0           0           1.90\n",
      "                                   Odisha   262011    1142   259541     1125       2470          17           0.44\n",
      "                                Telangana   217670    1249   216238     1241       1432           8           0.57\n",
      "                                    Bihar   199549     967   199549      967          0           0           0.48\n",
      "                                    Assam   198213     834   198213      834          0           0           0.42\n",
      "                                Rajasthan   165240    1694   165240     1694          0           0           1.03\n",
      "                           Madhya Pradesh   155276    2686   155276     2686          0           0           1.73\n",
      "                                  Gujarat   155098    3598   155098     3598          0           0           2.32\n",
      "                             Chhattisgarh   150696    1339   150696     1339          0           0           0.89\n",
      "                                  Haryana   145507    1614   145507     1614          0           0           1.11\n",
      "                                   Punjab   125760    3925   125760     3925          0           0           3.12\n",
      "                                Jharkhand    94369     811    94369      811          0           0           0.86\n",
      "                        Jammu and Kashmir    85409    1352    85409     1352          0           0           1.58\n",
      "                              Uttarakhand    56070     796    56070      796          0           0           1.42\n",
      "                                      Goa    39438     519    39438      519          0           0           1.32\n",
      "                               Puducherry    32245     568    32245      568          0           0           1.76\n",
      "                                  Tripura    29028     316    28856      315        172           1           1.09\n",
      "                         Himachal Pradesh    18008     250    18008      250          0           0           1.39\n",
      "                                  Manipur    14094     103    14094      103          0           0           0.73\n",
      "                               Chandigarh    13403     199    13403      199          0           0           1.48\n",
      "                        Arunachal Pradesh    12768      29    12768       29          0           0           0.23\n",
      "                                Meghalaya     7991      70     7991       70          0           0           0.88\n",
      "                                 Nagaland     7416      17     7416       17          0           0           0.23\n",
      "                                   Ladakh     5304      64     5304       64          0           0           1.21\n",
      "              Andaman and Nicobar Islands     4046      55     4046       55          0           0           1.36\n",
      "                                   Sikkim     3459      59     3459       59          0           0           1.71\n",
      " Dadra and Nagar Haveli and Daman and Diu     3170       2     3170        2          0           0           0.06\n",
      "                                  Mizoram     2212       0     2212        0          0           0           0.00\n",
      "                              Lakshadweep        0       0        0        0          0           0            NaN\n"
     ]
    }
   ],
   "source": [
    "#hide_input\n",
    "print(df_table.to_string(index=False))"
   ]
  },
  {
   "cell_type": "code",
   "execution_count": null,
   "metadata": {
    "papermill": {
     "duration": 0.026366,
     "end_time": "2020-10-15T13:24:55.788676",
     "exception": false,
     "start_time": "2020-10-15T13:24:55.762310",
     "status": "completed"
    },
    "tags": []
   },
   "outputs": [],
   "source": []
  },
  {
   "cell_type": "code",
   "execution_count": null,
   "metadata": {
    "papermill": {
     "duration": 0.023861,
     "end_time": "2020-10-15T13:24:55.835740",
     "exception": false,
     "start_time": "2020-10-15T13:24:55.811879",
     "status": "completed"
    },
    "tags": []
   },
   "outputs": [],
   "source": []
  }
 ],
 "metadata": {
  "kernelspec": {
   "display_name": "Python 3",
   "language": "python",
   "name": "python3"
  },
  "language_info": {
   "codemirror_mode": {
    "name": "ipython",
    "version": 3
   },
   "file_extension": ".py",
   "mimetype": "text/x-python",
   "name": "python",
   "nbconvert_exporter": "python",
   "pygments_lexer": "ipython3",
   "version": "3.6.12"
  },
  "papermill": {
   "duration": 11.841194,
   "end_time": "2020-10-15T13:24:56.267551",
   "environment_variables": {},
   "exception": null,
   "input_path": "latest.ipynb",
   "output_path": "latest.ipynb",
   "parameters": {},
   "start_time": "2020-10-15T13:24:44.426357",
   "version": "2.1.2"
  }
 },
 "nbformat": 4,
 "nbformat_minor": 4
}