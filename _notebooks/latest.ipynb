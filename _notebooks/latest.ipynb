{
 "cells": [
  {
   "cell_type": "markdown",
   "metadata": {
    "papermill": {
     "duration": 0.018345,
     "end_time": "2020-11-01T12:52:05.038946",
     "exception": false,
     "start_time": "2020-11-01T12:52:05.020601",
     "status": "completed"
    },
    "tags": []
   },
   "source": [
    "# Latest COVID-19 India Matplotlib Overview"
   ]
  },
  {
   "cell_type": "code",
   "execution_count": 1,
   "metadata": {
    "execution": {
     "iopub.execute_input": "2020-11-01T12:52:05.075493Z",
     "iopub.status.busy": "2020-11-01T12:52:05.074773Z",
     "iopub.status.idle": "2020-11-01T12:52:05.639216Z",
     "shell.execute_reply": "2020-11-01T12:52:05.639784Z"
    },
    "papermill": {
     "duration": 0.585798,
     "end_time": "2020-11-01T12:52:05.639962",
     "exception": false,
     "start_time": "2020-11-01T12:52:05.054164",
     "status": "completed"
    },
    "tags": []
   },
   "outputs": [],
   "source": [
    "#hide\n",
    "import pandas as pd\n",
    "import numpy as np\n",
    "import requests\n",
    "import json\n",
    "import matplotlib.pyplot as plt\n",
    "import matplotlib.dates as mdates\n",
    "import matplotlib as mpl\n",
    "from IPython.core.display import display,HTML\n",
    "%matplotlib inline\n",
    "from datetime import date"
   ]
  },
  {
   "cell_type": "code",
   "execution_count": 2,
   "metadata": {
    "execution": {
     "iopub.execute_input": "2020-11-01T12:52:05.676497Z",
     "iopub.status.busy": "2020-11-01T12:52:05.675886Z",
     "iopub.status.idle": "2020-11-01T12:52:05.778463Z",
     "shell.execute_reply": "2020-11-01T12:52:05.778006Z"
    },
    "papermill": {
     "duration": 0.123468,
     "end_time": "2020-11-01T12:52:05.778586",
     "exception": false,
     "start_time": "2020-11-01T12:52:05.655118",
     "status": "completed"
    },
    "tags": []
   },
   "outputs": [],
   "source": [
    "#hide\n",
    "df  = pd.read_csv('https://api.covid19india.org/csv/latest/states.csv')\n",
    "df = df[['Date','State','Confirmed','Deceased']]\n",
    "df = df.rename(columns={'Confirmed':'Cases', \"Deceased\":'Deaths'})\n",
    "df_cases = df[[\"Date\",'State','Cases']]\n",
    "df_deaths = df[['Date','State','Deaths']]\n",
    "df_cases1 = df_cases.groupby('Date')\n",
    "df_deaths1= df_deaths.groupby('Date')"
   ]
  },
  {
   "cell_type": "code",
   "execution_count": 3,
   "metadata": {
    "execution": {
     "iopub.execute_input": "2020-11-01T12:52:05.812891Z",
     "iopub.status.busy": "2020-11-01T12:52:05.812349Z",
     "iopub.status.idle": "2020-11-01T12:52:05.829914Z",
     "shell.execute_reply": "2020-11-01T12:52:05.829469Z"
    },
    "papermill": {
     "duration": 0.036449,
     "end_time": "2020-11-01T12:52:05.830023",
     "exception": false,
     "start_time": "2020-11-01T12:52:05.793574",
     "status": "completed"
    },
    "tags": []
   },
   "outputs": [],
   "source": [
    "#hide\n",
    "df_snap = pd.read_csv('data/SnapshotCases-28-July.csv')\n",
    "arr_states = df_snap['states'].unique()\n",
    "arr_dates = df['Date'].unique()\n",
    "df_snap = df_snap.set_index('states')"
   ]
  },
  {
   "cell_type": "code",
   "execution_count": 4,
   "metadata": {
    "execution": {
     "iopub.execute_input": "2020-11-01T12:52:05.864374Z",
     "iopub.status.busy": "2020-11-01T12:52:05.863823Z",
     "iopub.status.idle": "2020-11-01T12:52:05.867358Z",
     "shell.execute_reply": "2020-11-01T12:52:05.866932Z"
    },
    "papermill": {
     "duration": 0.023092,
     "end_time": "2020-11-01T12:52:05.867504",
     "exception": false,
     "start_time": "2020-11-01T12:52:05.844412",
     "status": "completed"
    },
    "tags": []
   },
   "outputs": [
    {
     "data": {
      "text/plain": [
       "array(['Andaman and Nicobar Islands', 'Andhra Pradesh',\n",
       "       'Arunachal Pradesh', 'Assam', 'Bihar', 'Chandigarh',\n",
       "       'Dadra and Nagar Haveli and Daman and Diu', 'Delhi', 'Goa',\n",
       "       'Gujarat', 'Haryana', 'Himachal Pradesh', 'Jammu and Kashmir',\n",
       "       'Jharkhand', 'Karnataka', 'Kerala', 'Lakshadweep',\n",
       "       'Madhya Pradesh', 'Maharashtra', 'Manipur', 'Meghalaya', 'Mizoram',\n",
       "       'Nagaland', 'Odisha', 'Puducherry', 'Punjab', 'Rajasthan',\n",
       "       'Sikkim', 'Tamil Nadu', 'Telangana', 'Tripura', 'Uttar Pradesh',\n",
       "       'West Bengal', 'Chhattisgarh', 'Ladakh', 'Uttarakhand'],\n",
       "      dtype=object)"
      ]
     },
     "execution_count": 4,
     "metadata": {},
     "output_type": "execute_result"
    }
   ],
   "source": [
    "#hide\n",
    "arr_states[-9] = 'Puducherry'\n",
    "arr_states[-10] = 'Odisha'\n",
    "arr_states[6] = 'Dadra and Nagar Haveli and Daman and Diu'\n",
    "arr_states = np.append(arr_states,np.array(['Chhattisgarh','Ladakh','Uttarakhand']))\n",
    "arr_states"
   ]
  },
  {
   "cell_type": "code",
   "execution_count": 5,
   "metadata": {
    "execution": {
     "iopub.execute_input": "2020-11-01T12:52:05.911525Z",
     "iopub.status.busy": "2020-11-01T12:52:05.910983Z",
     "iopub.status.idle": "2020-11-01T12:52:05.921723Z",
     "shell.execute_reply": "2020-11-01T12:52:05.922152Z"
    },
    "papermill": {
     "duration": 0.039131,
     "end_time": "2020-11-01T12:52:05.922274",
     "exception": false,
     "start_time": "2020-11-01T12:52:05.883143",
     "status": "completed"
    },
    "tags": []
   },
   "outputs": [],
   "source": [
    "#hide\n",
    "dates = []\n",
    "for i in arr_dates:\n",
    "    if i>='2020-07-01':\n",
    "        dates.append(i)\n",
    "dict = {'states':dates}\n",
    "for i in arr_states:\n",
    "    dict[i] = [0]*len(dates)\n",
    "dft_cases = pd.DataFrame(dict)\n",
    "dft_deaths = pd.DataFrame(dict)\n"
   ]
  },
  {
   "cell_type": "code",
   "execution_count": 6,
   "metadata": {
    "execution": {
     "iopub.execute_input": "2020-11-01T12:52:05.959234Z",
     "iopub.status.busy": "2020-11-01T12:52:05.958233Z",
     "iopub.status.idle": "2020-11-01T12:52:08.046521Z",
     "shell.execute_reply": "2020-11-01T12:52:08.047000Z"
    },
    "papermill": {
     "duration": 2.109812,
     "end_time": "2020-11-01T12:52:08.047148",
     "exception": false,
     "start_time": "2020-11-01T12:52:05.937336",
     "status": "completed"
    },
    "tags": []
   },
   "outputs": [],
   "source": [
    "#hide\n",
    "for i in range(len(dates)):\n",
    "    df1_deaths = df_deaths1.get_group(dates[i])\n",
    "    for j in range(len(df1_deaths.index)):\n",
    "        if df1_deaths.iloc[j,1] in arr_states:\n",
    "            dft_deaths.loc[i,df1_deaths.iloc[j,1]] = df1_deaths.iloc[j,2]\n",
    "dft_deaths = dft_deaths.set_index('states')"
   ]
  },
  {
   "cell_type": "code",
   "execution_count": 7,
   "metadata": {
    "execution": {
     "iopub.execute_input": "2020-11-01T12:52:08.157613Z",
     "iopub.status.busy": "2020-11-01T12:52:08.156731Z",
     "iopub.status.idle": "2020-11-01T12:52:10.245684Z",
     "shell.execute_reply": "2020-11-01T12:52:10.246401Z"
    },
    "papermill": {
     "duration": 2.143679,
     "end_time": "2020-11-01T12:52:10.246657",
     "exception": false,
     "start_time": "2020-11-01T12:52:08.102978",
     "status": "completed"
    },
    "tags": []
   },
   "outputs": [],
   "source": [
    "#hide\n",
    "for i in range(len(dates)):\n",
    "    df1_cases = df_cases1.get_group(dates[i])\n",
    "    for j in range(len(df1_cases.index)):\n",
    "        if df1_cases.iloc[j,1] in arr_states:\n",
    "            dft_cases.loc[i,df1_cases.iloc[j,1]] = df1_cases.iloc[j,2]\n",
    "dft_cases = dft_cases.set_index('states')"
   ]
  },
  {
   "cell_type": "code",
   "execution_count": 8,
   "metadata": {
    "execution": {
     "iopub.execute_input": "2020-11-01T12:52:10.287926Z",
     "iopub.status.busy": "2020-11-01T12:52:10.286298Z",
     "iopub.status.idle": "2020-11-01T12:52:10.288587Z",
     "shell.execute_reply": "2020-11-01T12:52:10.289076Z"
    },
    "papermill": {
     "duration": 0.024723,
     "end_time": "2020-11-01T12:52:10.289216",
     "exception": false,
     "start_time": "2020-11-01T12:52:10.264493",
     "status": "completed"
    },
    "tags": []
   },
   "outputs": [],
   "source": [
    "#hide\n",
    "dft_cases = dft_cases.T\n",
    "dft_deaths = dft_deaths.T\n",
    "dt_today = dates[-1]\n",
    "dt_yday = dates[-2]"
   ]
  },
  {
   "cell_type": "code",
   "execution_count": 9,
   "metadata": {
    "execution": {
     "iopub.execute_input": "2020-11-01T12:52:10.331095Z",
     "iopub.status.busy": "2020-11-01T12:52:10.330047Z",
     "iopub.status.idle": "2020-11-01T12:52:10.331817Z",
     "shell.execute_reply": "2020-11-01T12:52:10.332304Z"
    },
    "papermill": {
     "duration": 0.026845,
     "end_time": "2020-11-01T12:52:10.332420",
     "exception": false,
     "start_time": "2020-11-01T12:52:10.305575",
     "status": "completed"
    },
    "tags": []
   },
   "outputs": [],
   "source": [
    "#hide\n",
    "dft_cases = dft_cases.reset_index()\n",
    "dft_deaths = dft_deaths.reset_index()\n",
    "dft_cases = dft_cases.rename(columns = {'index':'state'})\n",
    "dft_deaths = dft_deaths.rename(columns = {'index':'state'})"
   ]
  },
  {
   "cell_type": "code",
   "execution_count": 10,
   "metadata": {
    "execution": {
     "iopub.execute_input": "2020-11-01T12:52:10.375335Z",
     "iopub.status.busy": "2020-11-01T12:52:10.374680Z",
     "iopub.status.idle": "2020-11-01T12:52:10.378876Z",
     "shell.execute_reply": "2020-11-01T12:52:10.379338Z"
    },
    "papermill": {
     "duration": 0.031463,
     "end_time": "2020-11-01T12:52:10.379467",
     "exception": false,
     "start_time": "2020-11-01T12:52:10.348004",
     "status": "completed"
    },
    "tags": []
   },
   "outputs": [],
   "source": [
    "#hide\n",
    "dfc_cases = dft_cases.groupby('state')[dt_today].sum()\n",
    "dfc_deaths = dft_deaths.groupby('state')[dt_today].sum()\n",
    "dfp_cases = dft_cases.groupby('state')[dt_yday].sum()\n",
    "dfp_deaths = dft_deaths.groupby('state')[dt_yday].sum()"
   ]
  },
  {
   "cell_type": "code",
   "execution_count": 11,
   "metadata": {
    "execution": {
     "iopub.execute_input": "2020-11-01T12:52:10.425122Z",
     "iopub.status.busy": "2020-11-01T12:52:10.424561Z",
     "iopub.status.idle": "2020-11-01T12:52:10.431632Z",
     "shell.execute_reply": "2020-11-01T12:52:10.431030Z"
    },
    "papermill": {
     "duration": 0.036858,
     "end_time": "2020-11-01T12:52:10.431898",
     "exception": false,
     "start_time": "2020-11-01T12:52:10.395040",
     "status": "completed"
    },
    "tags": []
   },
   "outputs": [
    {
     "data": {
      "text/html": [
       "<div>\n",
       "<style scoped>\n",
       "    .dataframe tbody tr th:only-of-type {\n",
       "        vertical-align: middle;\n",
       "    }\n",
       "\n",
       "    .dataframe tbody tr th {\n",
       "        vertical-align: top;\n",
       "    }\n",
       "\n",
       "    .dataframe thead th {\n",
       "        text-align: right;\n",
       "    }\n",
       "</style>\n",
       "<table border=\"1\" class=\"dataframe\">\n",
       "  <thead>\n",
       "    <tr style=\"text-align: right;\">\n",
       "      <th></th>\n",
       "      <th>states</th>\n",
       "      <th>Cases</th>\n",
       "      <th>Deaths</th>\n",
       "      <th>PCases</th>\n",
       "      <th>PDeaths</th>\n",
       "    </tr>\n",
       "  </thead>\n",
       "  <tbody>\n",
       "    <tr>\n",
       "      <th>0</th>\n",
       "      <td>Maharashtra</td>\n",
       "      <td>1678406</td>\n",
       "      <td>43911</td>\n",
       "      <td>1678406</td>\n",
       "      <td>43911</td>\n",
       "    </tr>\n",
       "    <tr>\n",
       "      <th>1</th>\n",
       "      <td>Karnataka</td>\n",
       "      <td>823412</td>\n",
       "      <td>11168</td>\n",
       "      <td>823412</td>\n",
       "      <td>11168</td>\n",
       "    </tr>\n",
       "    <tr>\n",
       "      <th>2</th>\n",
       "      <td>Andhra Pradesh</td>\n",
       "      <td>823348</td>\n",
       "      <td>6690</td>\n",
       "      <td>823348</td>\n",
       "      <td>6690</td>\n",
       "    </tr>\n",
       "    <tr>\n",
       "      <th>3</th>\n",
       "      <td>Tamil Nadu</td>\n",
       "      <td>724522</td>\n",
       "      <td>11122</td>\n",
       "      <td>724522</td>\n",
       "      <td>11122</td>\n",
       "    </tr>\n",
       "    <tr>\n",
       "      <th>4</th>\n",
       "      <td>Uttar Pradesh</td>\n",
       "      <td>483832</td>\n",
       "      <td>7051</td>\n",
       "      <td>481863</td>\n",
       "      <td>7025</td>\n",
       "    </tr>\n",
       "  </tbody>\n",
       "</table>\n",
       "</div>"
      ],
      "text/plain": [
       "           states    Cases  Deaths   PCases  PDeaths\n",
       "0     Maharashtra  1678406   43911  1678406    43911\n",
       "1       Karnataka   823412   11168   823412    11168\n",
       "2  Andhra Pradesh   823348    6690   823348     6690\n",
       "3      Tamil Nadu   724522   11122   724522    11122\n",
       "4   Uttar Pradesh   483832    7051   481863     7025"
      ]
     },
     "execution_count": 11,
     "metadata": {},
     "output_type": "execute_result"
    }
   ],
   "source": [
    "#hide\n",
    "df_table = pd.DataFrame({'states': dfc_cases.index, 'Cases': dfc_cases.values, 'Deaths': dfc_deaths.values, 'PCases': dfp_cases.values, 'PDeaths': dfp_deaths.values}).set_index('states')\n",
    "df_table = df_table.sort_values(by = ['Cases','Deaths'], ascending = [False, False])\n",
    "df_table = df_table.reset_index()\n",
    "df_table.head()"
   ]
  },
  {
   "cell_type": "code",
   "execution_count": 12,
   "metadata": {
    "execution": {
     "iopub.execute_input": "2020-11-01T12:52:10.472669Z",
     "iopub.status.busy": "2020-11-01T12:52:10.471845Z",
     "iopub.status.idle": "2020-11-01T12:52:10.481164Z",
     "shell.execute_reply": "2020-11-01T12:52:10.481645Z"
    },
    "papermill": {
     "duration": 0.033518,
     "end_time": "2020-11-01T12:52:10.481773",
     "exception": false,
     "start_time": "2020-11-01T12:52:10.448255",
     "status": "completed"
    },
    "tags": []
   },
   "outputs": [],
   "source": [
    "#hide\n",
    "for c in 'Cases, Deaths'.split(', '):\n",
    "    df_table[f'{c} (+)'] = (df_table[c] - df_table[f'P{c}']).clip(0)\n",
    "df_table['Fatality Rate'] = (100* df_table['Deaths']/ df_table['Cases']).round(2)"
   ]
  },
  {
   "cell_type": "code",
   "execution_count": 13,
   "metadata": {
    "execution": {
     "iopub.execute_input": "2020-11-01T12:52:10.524648Z",
     "iopub.status.busy": "2020-11-01T12:52:10.523879Z",
     "iopub.status.idle": "2020-11-01T12:52:10.527772Z",
     "shell.execute_reply": "2020-11-01T12:52:10.527285Z"
    },
    "papermill": {
     "duration": 0.029975,
     "end_time": "2020-11-01T12:52:10.527890",
     "exception": false,
     "start_time": "2020-11-01T12:52:10.497915",
     "status": "completed"
    },
    "tags": []
   },
   "outputs": [
    {
     "data": {
      "text/html": [
       "<div>\n",
       "<style scoped>\n",
       "    .dataframe tbody tr th:only-of-type {\n",
       "        vertical-align: middle;\n",
       "    }\n",
       "\n",
       "    .dataframe tbody tr th {\n",
       "        vertical-align: top;\n",
       "    }\n",
       "\n",
       "    .dataframe thead th {\n",
       "        text-align: right;\n",
       "    }\n",
       "</style>\n",
       "<table border=\"1\" class=\"dataframe\">\n",
       "  <thead>\n",
       "    <tr style=\"text-align: right;\">\n",
       "      <th></th>\n",
       "      <th>states</th>\n",
       "      <th>Cases</th>\n",
       "      <th>Deaths</th>\n",
       "      <th>PCases</th>\n",
       "      <th>PDeaths</th>\n",
       "      <th>Cases (+)</th>\n",
       "      <th>Deaths (+)</th>\n",
       "      <th>Fatality Rate</th>\n",
       "    </tr>\n",
       "  </thead>\n",
       "  <tbody>\n",
       "    <tr>\n",
       "      <th>0</th>\n",
       "      <td>Maharashtra</td>\n",
       "      <td>1678406</td>\n",
       "      <td>43911</td>\n",
       "      <td>1678406</td>\n",
       "      <td>43911</td>\n",
       "      <td>0</td>\n",
       "      <td>0</td>\n",
       "      <td>2.62</td>\n",
       "    </tr>\n",
       "    <tr>\n",
       "      <th>1</th>\n",
       "      <td>Karnataka</td>\n",
       "      <td>823412</td>\n",
       "      <td>11168</td>\n",
       "      <td>823412</td>\n",
       "      <td>11168</td>\n",
       "      <td>0</td>\n",
       "      <td>0</td>\n",
       "      <td>1.36</td>\n",
       "    </tr>\n",
       "    <tr>\n",
       "      <th>2</th>\n",
       "      <td>Andhra Pradesh</td>\n",
       "      <td>823348</td>\n",
       "      <td>6690</td>\n",
       "      <td>823348</td>\n",
       "      <td>6690</td>\n",
       "      <td>0</td>\n",
       "      <td>0</td>\n",
       "      <td>0.81</td>\n",
       "    </tr>\n",
       "    <tr>\n",
       "      <th>3</th>\n",
       "      <td>Tamil Nadu</td>\n",
       "      <td>724522</td>\n",
       "      <td>11122</td>\n",
       "      <td>724522</td>\n",
       "      <td>11122</td>\n",
       "      <td>0</td>\n",
       "      <td>0</td>\n",
       "      <td>1.54</td>\n",
       "    </tr>\n",
       "    <tr>\n",
       "      <th>4</th>\n",
       "      <td>Uttar Pradesh</td>\n",
       "      <td>483832</td>\n",
       "      <td>7051</td>\n",
       "      <td>481863</td>\n",
       "      <td>7025</td>\n",
       "      <td>1969</td>\n",
       "      <td>26</td>\n",
       "      <td>1.46</td>\n",
       "    </tr>\n",
       "  </tbody>\n",
       "</table>\n",
       "</div>"
      ],
      "text/plain": [
       "           states    Cases  Deaths   PCases  PDeaths  Cases (+)  Deaths (+)  \\\n",
       "0     Maharashtra  1678406   43911  1678406    43911          0           0   \n",
       "1       Karnataka   823412   11168   823412    11168          0           0   \n",
       "2  Andhra Pradesh   823348    6690   823348     6690          0           0   \n",
       "3      Tamil Nadu   724522   11122   724522    11122          0           0   \n",
       "4   Uttar Pradesh   483832    7051   481863     7025       1969          26   \n",
       "\n",
       "   Fatality Rate  \n",
       "0           2.62  \n",
       "1           1.36  \n",
       "2           0.81  \n",
       "3           1.54  \n",
       "4           1.46  "
      ]
     },
     "execution_count": 13,
     "metadata": {},
     "output_type": "execute_result"
    }
   ],
   "source": [
    "#hide\n",
    "df_table.head()"
   ]
  },
  {
   "cell_type": "code",
   "execution_count": 14,
   "metadata": {
    "execution": {
     "iopub.execute_input": "2020-11-01T12:52:10.566432Z",
     "iopub.status.busy": "2020-11-01T12:52:10.565863Z",
     "iopub.status.idle": "2020-11-01T12:52:10.581791Z",
     "shell.execute_reply": "2020-11-01T12:52:10.581299Z"
    },
    "papermill": {
     "duration": 0.037284,
     "end_time": "2020-11-01T12:52:10.581897",
     "exception": false,
     "start_time": "2020-11-01T12:52:10.544613",
     "status": "completed"
    },
    "tags": []
   },
   "outputs": [
    {
     "data": {
      "text/plain": [
       "{'updated': '2020-11-01',\n",
       " 'since': '2020-10-31',\n",
       " 'Cases': 8188101,\n",
       " 'PCases': 8182896,\n",
       " 'Deaths': 122191,\n",
       " 'PDeaths': 122149,\n",
       " 'Cases (+)': 5205,\n",
       " 'Deaths (+)': 42}"
      ]
     },
     "execution_count": 14,
     "metadata": {},
     "output_type": "execute_result"
    }
   ],
   "source": [
    "#hide\n",
    "summary = {'updated':dates[-1], 'since':dates[-2]}\n",
    "list_names = ['Cases', 'PCases', 'Deaths', 'PDeaths', 'Cases (+)', 'Deaths (+)']\n",
    "for name in list_names:\n",
    "    summary[name] = df_table.sum()[name]\n",
    "summary"
   ]
  },
  {
   "cell_type": "code",
   "execution_count": 15,
   "metadata": {
    "execution": {
     "iopub.execute_input": "2020-11-01T12:52:10.618748Z",
     "iopub.status.busy": "2020-11-01T12:52:10.618126Z",
     "iopub.status.idle": "2020-11-01T12:52:10.620608Z",
     "shell.execute_reply": "2020-11-01T12:52:10.620083Z"
    },
    "papermill": {
     "duration": 0.023322,
     "end_time": "2020-11-01T12:52:10.620734",
     "exception": false,
     "start_time": "2020-11-01T12:52:10.597412",
     "status": "completed"
    },
    "tags": []
   },
   "outputs": [],
   "source": [
    "#hide\n",
    "overview = '''\n",
    "<!-- #######  HTML!! #########-->\n",
    "<h1 style=\"color: #5e9ca0; text-align: center;\">India</h1>\n",
    "<p style=\"text-align: center;\">Last update: <strong>{update}</strong></p>\n",
    "<p style=\"text-align: center;\">Confirmed cases:</p>\n",
    "<p style=\"text-align: center;font-size:24px;\">{cases} (<span style=\"color: #ff0000;\">+{new}</span>)</p>\n",
    "<p style=\"text-align: center;\">Confirmed deaths:</p>\n",
    "<p style=\"text-align: center;font-size:24px;\">{deaths} (<span style=\"color: #ff0000;\">+{dnew}</span>)</p>\n",
    "'''"
   ]
  },
  {
   "cell_type": "code",
   "execution_count": 16,
   "metadata": {
    "execution": {
     "iopub.execute_input": "2020-11-01T12:52:10.661711Z",
     "iopub.status.busy": "2020-11-01T12:52:10.661167Z",
     "iopub.status.idle": "2020-11-01T12:52:10.663975Z",
     "shell.execute_reply": "2020-11-01T12:52:10.664542Z"
    },
    "papermill": {
     "duration": 0.025684,
     "end_time": "2020-11-01T12:52:10.664718",
     "exception": false,
     "start_time": "2020-11-01T12:52:10.639034",
     "status": "completed"
    },
    "tags": []
   },
   "outputs": [
    {
     "data": {
      "text/html": [
       "\n",
       "<!-- #######  HTML!! #########-->\n",
       "<h1 style=\"color: #5e9ca0; text-align: center;\">India</h1>\n",
       "<p style=\"text-align: center;\">Last update: <strong>2020-11-01</strong></p>\n",
       "<p style=\"text-align: center;\">Confirmed cases:</p>\n",
       "<p style=\"text-align: center;font-size:24px;\">8188101 (<span style=\"color: #ff0000;\">+5205</span>)</p>\n",
       "<p style=\"text-align: center;\">Confirmed deaths:</p>\n",
       "<p style=\"text-align: center;font-size:24px;\">122191 (<span style=\"color: #ff0000;\">+42</span>)</p>\n"
      ],
      "text/plain": [
       "<IPython.core.display.HTML object>"
      ]
     },
     "metadata": {},
     "output_type": "display_data"
    }
   ],
   "source": [
    "#hide_input\n",
    "update = summary['updated']\n",
    "cases = summary['Cases']\n",
    "new = summary['Cases (+)']\n",
    "deaths = summary['Deaths']\n",
    "dnew = summary['Deaths (+)']\n",
    "\n",
    "html = HTML(overview.format(update=update, cases=cases,new=new,deaths=deaths,dnew=dnew))\n",
    "\n",
    "display(html)"
   ]
  },
  {
   "cell_type": "code",
   "execution_count": 17,
   "metadata": {
    "execution": {
     "iopub.execute_input": "2020-11-01T12:52:10.708555Z",
     "iopub.status.busy": "2020-11-01T12:52:10.707899Z",
     "iopub.status.idle": "2020-11-01T12:52:10.713073Z",
     "shell.execute_reply": "2020-11-01T12:52:10.713538Z"
    },
    "papermill": {
     "duration": 0.031883,
     "end_time": "2020-11-01T12:52:10.713666",
     "exception": false,
     "start_time": "2020-11-01T12:52:10.681783",
     "status": "completed"
    },
    "tags": []
   },
   "outputs": [],
   "source": [
    "#hide\n",
    "dt_cols = list(dft_cases.columns[1:])\n",
    "dft_ct_new_cases = dft_cases.groupby('state')[dt_cols].sum().diff(axis=1).fillna(0).astype(int)\n",
    "dft_ct_new_cases.sort_values(by = dates[-1], ascending = False,inplace = True)"
   ]
  },
  {
   "cell_type": "code",
   "execution_count": 18,
   "metadata": {
    "execution": {
     "iopub.execute_input": "2020-11-01T12:52:10.765206Z",
     "iopub.status.busy": "2020-11-01T12:52:10.764599Z",
     "iopub.status.idle": "2020-11-01T12:52:10.768568Z",
     "shell.execute_reply": "2020-11-01T12:52:10.768062Z"
    },
    "papermill": {
     "duration": 0.037786,
     "end_time": "2020-11-01T12:52:10.768709",
     "exception": false,
     "start_time": "2020-11-01T12:52:10.730923",
     "status": "completed"
    },
    "tags": []
   },
   "outputs": [
    {
     "data": {
      "text/html": [
       "<div>\n",
       "<style scoped>\n",
       "    .dataframe tbody tr th:only-of-type {\n",
       "        vertical-align: middle;\n",
       "    }\n",
       "\n",
       "    .dataframe tbody tr th {\n",
       "        vertical-align: top;\n",
       "    }\n",
       "\n",
       "    .dataframe thead th {\n",
       "        text-align: right;\n",
       "    }\n",
       "</style>\n",
       "<table border=\"1\" class=\"dataframe\">\n",
       "  <thead>\n",
       "    <tr style=\"text-align: right;\">\n",
       "      <th>states</th>\n",
       "      <th>2020-07-01</th>\n",
       "      <th>2020-07-02</th>\n",
       "      <th>2020-07-03</th>\n",
       "      <th>2020-07-04</th>\n",
       "      <th>2020-07-05</th>\n",
       "      <th>2020-07-06</th>\n",
       "      <th>2020-07-07</th>\n",
       "      <th>2020-07-08</th>\n",
       "      <th>2020-07-09</th>\n",
       "      <th>2020-07-10</th>\n",
       "      <th>...</th>\n",
       "      <th>2020-10-23</th>\n",
       "      <th>2020-10-24</th>\n",
       "      <th>2020-10-25</th>\n",
       "      <th>2020-10-26</th>\n",
       "      <th>2020-10-27</th>\n",
       "      <th>2020-10-28</th>\n",
       "      <th>2020-10-29</th>\n",
       "      <th>2020-10-30</th>\n",
       "      <th>2020-10-31</th>\n",
       "      <th>2020-11-01</th>\n",
       "    </tr>\n",
       "    <tr>\n",
       "      <th>state</th>\n",
       "      <th></th>\n",
       "      <th></th>\n",
       "      <th></th>\n",
       "      <th></th>\n",
       "      <th></th>\n",
       "      <th></th>\n",
       "      <th></th>\n",
       "      <th></th>\n",
       "      <th></th>\n",
       "      <th></th>\n",
       "      <th></th>\n",
       "      <th></th>\n",
       "      <th></th>\n",
       "      <th></th>\n",
       "      <th></th>\n",
       "      <th></th>\n",
       "      <th></th>\n",
       "      <th></th>\n",
       "      <th></th>\n",
       "      <th></th>\n",
       "      <th></th>\n",
       "    </tr>\n",
       "  </thead>\n",
       "  <tbody>\n",
       "    <tr>\n",
       "      <th>Uttar Pradesh</th>\n",
       "      <td>0</td>\n",
       "      <td>769</td>\n",
       "      <td>972</td>\n",
       "      <td>757</td>\n",
       "      <td>1153</td>\n",
       "      <td>929</td>\n",
       "      <td>1332</td>\n",
       "      <td>1188</td>\n",
       "      <td>1206</td>\n",
       "      <td>1338</td>\n",
       "      <td>...</td>\n",
       "      <td>2202</td>\n",
       "      <td>2178</td>\n",
       "      <td>2032</td>\n",
       "      <td>1798</td>\n",
       "      <td>1986</td>\n",
       "      <td>1980</td>\n",
       "      <td>1861</td>\n",
       "      <td>2187</td>\n",
       "      <td>1781</td>\n",
       "      <td>1969</td>\n",
       "    </tr>\n",
       "    <tr>\n",
       "      <th>Odisha</th>\n",
       "      <td>0</td>\n",
       "      <td>229</td>\n",
       "      <td>561</td>\n",
       "      <td>495</td>\n",
       "      <td>469</td>\n",
       "      <td>456</td>\n",
       "      <td>571</td>\n",
       "      <td>527</td>\n",
       "      <td>577</td>\n",
       "      <td>755</td>\n",
       "      <td>...</td>\n",
       "      <td>1793</td>\n",
       "      <td>1695</td>\n",
       "      <td>1633</td>\n",
       "      <td>1480</td>\n",
       "      <td>1247</td>\n",
       "      <td>1540</td>\n",
       "      <td>1617</td>\n",
       "      <td>1547</td>\n",
       "      <td>1470</td>\n",
       "      <td>1709</td>\n",
       "    </tr>\n",
       "    <tr>\n",
       "      <th>Telangana</th>\n",
       "      <td>0</td>\n",
       "      <td>1213</td>\n",
       "      <td>1892</td>\n",
       "      <td>1850</td>\n",
       "      <td>1590</td>\n",
       "      <td>1831</td>\n",
       "      <td>1879</td>\n",
       "      <td>1924</td>\n",
       "      <td>1410</td>\n",
       "      <td>1278</td>\n",
       "      <td>...</td>\n",
       "      <td>1421</td>\n",
       "      <td>1273</td>\n",
       "      <td>978</td>\n",
       "      <td>582</td>\n",
       "      <td>837</td>\n",
       "      <td>1481</td>\n",
       "      <td>1504</td>\n",
       "      <td>1531</td>\n",
       "      <td>1445</td>\n",
       "      <td>1416</td>\n",
       "    </tr>\n",
       "    <tr>\n",
       "      <th>Tripura</th>\n",
       "      <td>0</td>\n",
       "      <td>39</td>\n",
       "      <td>93</td>\n",
       "      <td>25</td>\n",
       "      <td>23</td>\n",
       "      <td>111</td>\n",
       "      <td>24</td>\n",
       "      <td>57</td>\n",
       "      <td>16</td>\n",
       "      <td>142</td>\n",
       "      <td>...</td>\n",
       "      <td>145</td>\n",
       "      <td>65</td>\n",
       "      <td>86</td>\n",
       "      <td>36</td>\n",
       "      <td>36</td>\n",
       "      <td>160</td>\n",
       "      <td>113</td>\n",
       "      <td>97</td>\n",
       "      <td>54</td>\n",
       "      <td>77</td>\n",
       "    </tr>\n",
       "    <tr>\n",
       "      <th>Mizoram</th>\n",
       "      <td>0</td>\n",
       "      <td>2</td>\n",
       "      <td>0</td>\n",
       "      <td>2</td>\n",
       "      <td>22</td>\n",
       "      <td>11</td>\n",
       "      <td>1</td>\n",
       "      <td>5</td>\n",
       "      <td>0</td>\n",
       "      <td>23</td>\n",
       "      <td>...</td>\n",
       "      <td>18</td>\n",
       "      <td>30</td>\n",
       "      <td>58</td>\n",
       "      <td>46</td>\n",
       "      <td>34</td>\n",
       "      <td>80</td>\n",
       "      <td>49</td>\n",
       "      <td>38</td>\n",
       "      <td>28</td>\n",
       "      <td>34</td>\n",
       "    </tr>\n",
       "  </tbody>\n",
       "</table>\n",
       "<p>5 rows × 124 columns</p>\n",
       "</div>"
      ],
      "text/plain": [
       "states         2020-07-01  2020-07-02  2020-07-03  2020-07-04  2020-07-05  \\\n",
       "state                                                                       \n",
       "Uttar Pradesh           0         769         972         757        1153   \n",
       "Odisha                  0         229         561         495         469   \n",
       "Telangana               0        1213        1892        1850        1590   \n",
       "Tripura                 0          39          93          25          23   \n",
       "Mizoram                 0           2           0           2          22   \n",
       "\n",
       "states         2020-07-06  2020-07-07  2020-07-08  2020-07-09  2020-07-10  \\\n",
       "state                                                                       \n",
       "Uttar Pradesh         929        1332        1188        1206        1338   \n",
       "Odisha                456         571         527         577         755   \n",
       "Telangana            1831        1879        1924        1410        1278   \n",
       "Tripura               111          24          57          16         142   \n",
       "Mizoram                11           1           5           0          23   \n",
       "\n",
       "states         ...  2020-10-23  2020-10-24  2020-10-25  2020-10-26  \\\n",
       "state          ...                                                   \n",
       "Uttar Pradesh  ...        2202        2178        2032        1798   \n",
       "Odisha         ...        1793        1695        1633        1480   \n",
       "Telangana      ...        1421        1273         978         582   \n",
       "Tripura        ...         145          65          86          36   \n",
       "Mizoram        ...          18          30          58          46   \n",
       "\n",
       "states         2020-10-27  2020-10-28  2020-10-29  2020-10-30  2020-10-31  \\\n",
       "state                                                                       \n",
       "Uttar Pradesh        1986        1980        1861        2187        1781   \n",
       "Odisha               1247        1540        1617        1547        1470   \n",
       "Telangana             837        1481        1504        1531        1445   \n",
       "Tripura                36         160         113          97          54   \n",
       "Mizoram                34          80          49          38          28   \n",
       "\n",
       "states         2020-11-01  \n",
       "state                      \n",
       "Uttar Pradesh        1969  \n",
       "Odisha               1709  \n",
       "Telangana            1416  \n",
       "Tripura                77  \n",
       "Mizoram                34  \n",
       "\n",
       "[5 rows x 124 columns]"
      ]
     },
     "execution_count": 18,
     "metadata": {},
     "output_type": "execute_result"
    }
   ],
   "source": [
    "#hide\n",
    "dft_ct_new_cases.head()"
   ]
  },
  {
   "cell_type": "code",
   "execution_count": 19,
   "metadata": {
    "execution": {
     "iopub.execute_input": "2020-11-01T12:52:10.816562Z",
     "iopub.status.busy": "2020-11-01T12:52:10.815949Z",
     "iopub.status.idle": "2020-11-01T12:52:16.358357Z",
     "shell.execute_reply": "2020-11-01T12:52:16.358884Z"
    },
    "papermill": {
     "duration": 5.572693,
     "end_time": "2020-11-01T12:52:16.359049",
     "exception": false,
     "start_time": "2020-11-01T12:52:10.786356",
     "status": "completed"
    },
    "tags": []
   },
   "outputs": [
    {
     "data": {
      "image/png": "[encoded data removed]",
      "text/plain": [
       "<Figure size 1296x2016 with 11 Axes>"
      ]
     },
     "metadata": {
      "needs_background": "light"
     },
     "output_type": "display_data"
    }
   ],
   "source": [
    "#hide_input\n",
    "df = dft_ct_new_cases.copy()\n",
    "df.loc['Total'] = df.sum()\n",
    "n = 5\n",
    "ax = []\n",
    "fig = plt.figure(figsize = (18,28))\n",
    "gs = fig.add_gridspec(n+2, 5)\n",
    "# gs = fig.add_gridspec(2, 3)\n",
    "ax1 = fig.add_subplot(gs[0, :])\n",
    "ef = df.loc['Total'].rename_axis('date').reset_index()\n",
    "ef['date'] = ef['date'].astype('datetime64[ns]')\n",
    "ax1.bar(ef.date,ef.Total,alpha=0.3,color='#007acc')\n",
    "ax1.plot(ef.date,ef.Total , marker=\"o\", color='#007acc')\n",
    "ax1.xaxis.set_major_locator(mdates.WeekdayLocator())\n",
    "ax1.xaxis.set_major_formatter(mdates.DateFormatter('%b %d'))\n",
    "ax1.text(0.02, 0.5,'India daily case count', transform = ax1.transAxes, fontsize=25);\n",
    "ax1.spines['right'].set_visible(False)\n",
    "ax1.spines['top'].set_visible(False)\n",
    "\n",
    "ax2 = fig.add_subplot(gs[1,0])\n",
    "ef = df.loc['Maharashtra'].rename_axis('date').reset_index()\n",
    "ef['date'] = ef['date'].astype('datetime64[ns]')\n",
    "\n",
    "ax2.bar(ef.date, ef.Maharashtra,color = '#007acc',alpha=0.5)\n",
    "ax2.xaxis.set_major_locator(mdates.WeekdayLocator())\n",
    "ax2.xaxis.set_major_formatter(mdates.DateFormatter('%b %d'))\n",
    "ax2.set_xticks(ax2.get_xticks()[::3])\n",
    "maxyval = ef.Maharashtra.max()\n",
    "ax2.set_ylim([0,maxyval])\n",
    "ax2.text(0.05, 0.9,'Maharashtra', transform = ax2.transAxes, fontsize=20);\n",
    "ax2.spines['right'].set_visible(False)\n",
    "ax2.spines['top'].set_visible(False)\n",
    "\n",
    "\n",
    "ax3 = fig.add_subplot(gs[1,1])\n",
    "ef = df.loc['Tamil Nadu'].rename_axis('date').reset_index()\n",
    "ef['date'] = ef['date'].astype('datetime64[ns]')\n",
    "ax3.bar(ef.date, ef['Tamil Nadu'],color = '#007acc',alpha=0.5,)\n",
    "ax3.xaxis.set_major_locator(mdates.WeekdayLocator())\n",
    "ax3.xaxis.set_major_formatter(mdates.DateFormatter('%b %d'))\n",
    "ax3.set_xticks(ax3.get_xticks()[::3])\n",
    "ax3.text(0.05, 0.9,'Tamil Nadu', transform = ax3.transAxes, fontsize=20);\n",
    "ax3.spines['right'].set_visible(False)\n",
    "ax3.spines['top'].set_visible(False)\n",
    "\n",
    "ax5 = fig.add_subplot(gs[1,3])\n",
    "ef = df.loc['Telangana'].rename_axis('date').reset_index()\n",
    "ef['date'] = ef['date'].astype('datetime64[ns]')\n",
    "ax5.bar(ef.date, ef['Telangana'],color = '#007acc',alpha=0.5,)\n",
    "ax5.xaxis.set_major_locator(mdates.WeekdayLocator())\n",
    "ax5.xaxis.set_major_formatter(mdates.DateFormatter('%b %d'))\n",
    "ax5.set_xticks(ax5.get_xticks()[::3])\n",
    "ax5.text(0.05, 0.9,'Telangana', transform = ax5.transAxes, fontsize=20);\n",
    "ax5.spines['right'].set_visible(False)\n",
    "ax5.spines['top'].set_visible(False)\n",
    "\n",
    "ax6 = fig.add_subplot(gs[1,4])\n",
    "ef = df.loc['Andhra Pradesh'].rename_axis('date').reset_index()\n",
    "ef['date'] = ef['date'].astype('datetime64[ns]')\n",
    "ax6.bar(ef.date, ef['Andhra Pradesh'],color = '#007acc',alpha=0.5,)\n",
    "ax6.xaxis.set_major_locator(mdates.WeekdayLocator())\n",
    "ax6.xaxis.set_major_formatter(mdates.DateFormatter('%b %d'))\n",
    "ax6.set_xticks(ax6.get_xticks()[::3])\n",
    "ax6.text(0.05, 1,'Andhra Pradesh', transform = ax6.transAxes, fontsize=20);\n",
    "ax6.spines['right'].set_visible(False)\n",
    "ax6.spines['top'].set_visible(False)\n",
    "\n",
    "ax4 = fig.add_subplot(gs[1,2])\n",
    "ef = df.loc['Delhi'].rename_axis('date').reset_index()\n",
    "ef['date'] = ef['date'].astype('datetime64[ns]')\n",
    "ax4.bar(ef.date, ef.Delhi,color = '#007acc',alpha=0.5)\n",
    "ax4.set_xticks([])\n",
    "ax4.xaxis.set_major_locator(mdates.WeekdayLocator())\n",
    "ax4.xaxis.set_major_formatter(mdates.DateFormatter('%b %d'))\n",
    "ax4.set_xticks(ax4.get_xticks()[::3])\n",
    "ax4.spines['right'].set_visible(False)\n",
    "ax4.spines['top'].set_visible(False)\n",
    "\n",
    "ax4.text(0.05, 1,'Delhi', transform = ax4.transAxes, fontsize=20)\n",
    "\n",
    "for i in range(n):\n",
    "    \n",
    "    ax.append(fig.add_subplot(gs[i+2,:]))\n",
    "    ef = df.iloc[i+3].rename_axis('date').reset_index()\n",
    "    ef['date'] = ef['date'].astype('datetime64[ns]')\n",
    "    ax[i].bar(ef.date,ef.iloc[:,-1],color = '#007acc',alpha=0.3)\n",
    "    ax[i].plot(ef.date,ef.iloc[:,-1],marker='o',color='#007acc')\n",
    "    ax[i].text(0.02,0.5,f'{ef.columns.values[-1]}',transform = ax[i].transAxes, fontsize = 20);\n",
    "    ax[i].xaxis.set_major_locator(mdates.WeekdayLocator())\n",
    "    ax[i].xaxis.set_major_formatter(mdates.DateFormatter('%b %d'))\n",
    "    ax[i].set_ylim([0,7000])\n",
    "    ax[i].spines['right'].set_visible(False)\n",
    "    ax[i].spines['top'].set_visible(False)\n",
    "plt.tight_layout()\n"
   ]
  },
  {
   "cell_type": "code",
   "execution_count": 20,
   "metadata": {
    "execution": {
     "iopub.execute_input": "2020-11-01T12:52:16.415698Z",
     "iopub.status.busy": "2020-11-01T12:52:16.414931Z",
     "iopub.status.idle": "2020-11-01T12:52:16.418738Z",
     "shell.execute_reply": "2020-11-01T12:52:16.418147Z"
    },
    "papermill": {
     "duration": 0.035946,
     "end_time": "2020-11-01T12:52:16.418862",
     "exception": false,
     "start_time": "2020-11-01T12:52:16.382916",
     "status": "completed"
    },
    "tags": []
   },
   "outputs": [
    {
     "name": "stdout",
     "output_type": "stream",
     "text": [
      "                                   states    Cases  Deaths   PCases  PDeaths  Cases (+)  Deaths (+)  Fatality Rate\n",
      "                              Maharashtra  1678406   43911  1678406    43911          0           0           2.62\n",
      "                                Karnataka   823412   11168   823412    11168          0           0           1.36\n",
      "                           Andhra Pradesh   823348    6690   823348     6690          0           0           0.81\n",
      "                               Tamil Nadu   724522   11122   724522    11122          0           0           1.54\n",
      "                            Uttar Pradesh   483832    7051   481863     7025       1969          26           1.46\n",
      "                                   Kerala   433106    1485   433106     1485          0           0           0.34\n",
      "                                    Delhi   386706    6511   386706     6511          0           0           1.68\n",
      "                              West Bengal   373664    6841   373664     6841          0           0           1.83\n",
      "                                   Odisha   291825    1384   290116     1373       1709          11           0.47\n",
      "                                Telangana   240048    1341   238632     1336       1416           5           0.56\n",
      "                                    Bihar   216764    1090   216764     1090          0           0           0.50\n",
      "                                    Assam   206351     930   206351      930          0           0           0.45\n",
      "                                Rajasthan   196993    1907   196993     1907          0           0           0.97\n",
      "                             Chhattisgarh   187270    2101   187270     2101          0           0           1.12\n",
      "                                  Gujarat   172944    3719   172944     3719          0           0           2.15\n",
      "                           Madhya Pradesh   171359    2951   171359     2951          0           0           1.72\n",
      "                                  Haryana   166712    1787   166712     1787          0           0           1.07\n",
      "                                   Punjab   133658    4203   133658     4203          0           0           3.14\n",
      "                                Jharkhand   101761     884   101761      884          0           0           0.87\n",
      "                        Jammu and Kashmir    94785    1478    94785     1478          0           0           1.56\n",
      "                              Uttarakhand    62328    1023    62328     1023          0           0           1.64\n",
      "                                      Goa    43626     604    43626      604          0           0           1.38\n",
      "                               Puducherry    35013     592    35013      592          0           0           1.69\n",
      "                                  Tripura    30791     343    30714      343         77           0           1.11\n",
      "                         Himachal Pradesh    22059     312    22059      312          0           0           1.41\n",
      "                                  Manipur    18502     168    18502      168          0           0           0.91\n",
      "                        Arunachal Pradesh    14852      37    14852       37          0           0           0.25\n",
      "                               Chandigarh    14418     226    14418      226          0           0           1.57\n",
      "                                Meghalaya     9452      88     9452       88          0           0           0.93\n",
      "                                 Nagaland     9047      39     9047       39          0           0           0.43\n",
      "                                   Ladakh     6270      75     6270       75          0           0           1.20\n",
      "              Andaman and Nicobar Islands     4332      59     4332       59          0           0           1.36\n",
      "                                   Sikkim     3940      68     3940       68          0           0           1.73\n",
      " Dadra and Nagar Haveli and Daman and Diu     3249       2     3249        2          0           0           0.06\n",
      "                                  Mizoram     2756       1     2722        1         34           0           0.04\n",
      "                              Lakshadweep        0       0        0        0          0           0            NaN\n"
     ]
    }
   ],
   "source": [
    "#hide_input\n",
    "print(df_table.to_string(index=False))"
   ]
  },
  {
   "cell_type": "code",
   "execution_count": null,
   "metadata": {
    "papermill": {
     "duration": 0.023486,
     "end_time": "2020-11-01T12:52:16.465262",
     "exception": false,
     "start_time": "2020-11-01T12:52:16.441776",
     "status": "completed"
    },
    "tags": []
   },
   "outputs": [],
   "source": []
  },
  {
   "cell_type": "code",
   "execution_count": null,
   "metadata": {
    "papermill": {
     "duration": 0.021863,
     "end_time": "2020-11-01T12:52:16.509862",
     "exception": false,
     "start_time": "2020-11-01T12:52:16.487999",
     "status": "completed"
    },
    "tags": []
   },
   "outputs": [],
   "source": []
  }
 ],
 "metadata": {
  "kernelspec": {
   "display_name": "Python 3",
   "language": "python",
   "name": "python3"
  },
  "language_info": {
   "codemirror_mode": {
    "name": "ipython",
    "version": 3
   },
   "file_extension": ".py",
   "mimetype": "text/x-python",
   "name": "python",
   "nbconvert_exporter": "python",
   "pygments_lexer": "ipython3",
   "version": "3.6.12"
  },
  "papermill": {
   "duration": 12.989602,
   "end_time": "2020-11-01T12:52:16.939576",
   "environment_variables": {},
   "exception": null,
   "input_path": "latest.ipynb",
   "output_path": "latest.ipynb",
   "parameters": {},
   "start_time": "2020-11-01T12:52:03.949974",
   "version": "2.1.2"
  }
 },
 "nbformat": 4,
 "nbformat_minor": 4
}