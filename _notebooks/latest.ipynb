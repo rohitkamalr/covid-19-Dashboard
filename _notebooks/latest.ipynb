{
 "cells": [
  {
   "cell_type": "markdown",
   "metadata": {
    "papermill": {
     "duration": 0.019183,
     "end_time": "2020-09-29T05:21:37.610791",
     "exception": false,
     "start_time": "2020-09-29T05:21:37.591608",
     "status": "completed"
    },
    "tags": []
   },
   "source": [
    "# Latest COVID-19 India Matplotlib Overview"
   ]
  },
  {
   "cell_type": "code",
   "execution_count": 1,
   "metadata": {
    "execution": {
     "iopub.execute_input": "2020-09-29T05:21:37.651614Z",
     "iopub.status.busy": "2020-09-29T05:21:37.651004Z",
     "iopub.status.idle": "2020-09-29T05:21:38.230712Z",
     "shell.execute_reply": "2020-09-29T05:21:38.229846Z"
    },
    "papermill": {
     "duration": 0.604091,
     "end_time": "2020-09-29T05:21:38.230872",
     "exception": false,
     "start_time": "2020-09-29T05:21:37.626781",
     "status": "completed"
    },
    "tags": []
   },
   "outputs": [],
   "source": [
    "#hide\n",
    "import pandas as pd\n",
    "import numpy as np\n",
    "import requests\n",
    "import json\n",
    "import matplotlib.pyplot as plt\n",
    "import matplotlib.dates as mdates\n",
    "import matplotlib as mpl\n",
    "from IPython.core.display import display,HTML\n",
    "%matplotlib inline\n",
    "from datetime import date"
   ]
  },
  {
   "cell_type": "code",
   "execution_count": 2,
   "metadata": {
    "execution": {
     "iopub.execute_input": "2020-09-29T05:21:38.271084Z",
     "iopub.status.busy": "2020-09-29T05:21:38.270500Z",
     "iopub.status.idle": "2020-09-29T05:21:38.466768Z",
     "shell.execute_reply": "2020-09-29T05:21:38.465898Z"
    },
    "papermill": {
     "duration": 0.221074,
     "end_time": "2020-09-29T05:21:38.466992",
     "exception": false,
     "start_time": "2020-09-29T05:21:38.245918",
     "status": "completed"
    },
    "tags": []
   },
   "outputs": [],
   "source": [
    "#hide\n",
    "df  = pd.read_csv('https://api.covid19india.org/csv/latest/states.csv')\n",
    "df = df[['Date','State','Confirmed','Deceased']]\n",
    "df = df.rename(columns={'Confirmed':'Cases', \"Deceased\":'Deaths'})\n",
    "df_cases = df[[\"Date\",'State','Cases']]\n",
    "df_deaths = df[['Date','State','Deaths']]\n",
    "df_cases1 = df_cases.groupby('Date')\n",
    "df_deaths1= df_deaths.groupby('Date')"
   ]
  },
  {
   "cell_type": "code",
   "execution_count": 3,
   "metadata": {
    "execution": {
     "iopub.execute_input": "2020-09-29T05:21:38.503440Z",
     "iopub.status.busy": "2020-09-29T05:21:38.502900Z",
     "iopub.status.idle": "2020-09-29T05:21:38.519634Z",
     "shell.execute_reply": "2020-09-29T05:21:38.520094Z"
    },
    "papermill": {
     "duration": 0.035859,
     "end_time": "2020-09-29T05:21:38.520269",
     "exception": false,
     "start_time": "2020-09-29T05:21:38.484410",
     "status": "completed"
    },
    "tags": []
   },
   "outputs": [],
   "source": [
    "#hide\n",
    "df_snap = pd.read_csv('data/SnapshotCases-28-July.csv')\n",
    "arr_states = df_snap['states'].unique()\n",
    "arr_dates = df['Date'].unique()\n",
    "df_snap = df_snap.set_index('states')"
   ]
  },
  {
   "cell_type": "code",
   "execution_count": 4,
   "metadata": {
    "execution": {
     "iopub.execute_input": "2020-09-29T05:21:38.556047Z",
     "iopub.status.busy": "2020-09-29T05:21:38.555362Z",
     "iopub.status.idle": "2020-09-29T05:21:38.557579Z",
     "shell.execute_reply": "2020-09-29T05:21:38.558082Z"
    },
    "papermill": {
     "duration": 0.023918,
     "end_time": "2020-09-29T05:21:38.558210",
     "exception": false,
     "start_time": "2020-09-29T05:21:38.534292",
     "status": "completed"
    },
    "tags": []
   },
   "outputs": [
    {
     "data": {
      "text/plain": [
       "array(['Andaman and Nicobar Islands', 'Andhra Pradesh',\n",
       "       'Arunachal Pradesh', 'Assam', 'Bihar', 'Chandigarh',\n",
       "       'Dadra and Nagar Haveli and Daman and Diu', 'Delhi', 'Goa',\n",
       "       'Gujarat', 'Haryana', 'Himachal Pradesh', 'Jammu and Kashmir',\n",
       "       'Jharkhand', 'Karnataka', 'Kerala', 'Lakshadweep',\n",
       "       'Madhya Pradesh', 'Maharashtra', 'Manipur', 'Meghalaya', 'Mizoram',\n",
       "       'Nagaland', 'Odisha', 'Puducherry', 'Punjab', 'Rajasthan',\n",
       "       'Sikkim', 'Tamil Nadu', 'Telangana', 'Tripura', 'Uttar Pradesh',\n",
       "       'West Bengal', 'Chhattisgarh', 'Ladakh', 'Uttarakhand'],\n",
       "      dtype=object)"
      ]
     },
     "execution_count": 4,
     "metadata": {},
     "output_type": "execute_result"
    }
   ],
   "source": [
    "#hide\n",
    "arr_states[-9] = 'Puducherry'\n",
    "arr_states[-10] = 'Odisha'\n",
    "arr_states[6] = 'Dadra and Nagar Haveli and Daman and Diu'\n",
    "arr_states = np.append(arr_states,np.array(['Chhattisgarh','Ladakh','Uttarakhand']))\n",
    "arr_states"
   ]
  },
  {
   "cell_type": "code",
   "execution_count": 5,
   "metadata": {
    "execution": {
     "iopub.execute_input": "2020-09-29T05:21:38.599375Z",
     "iopub.status.busy": "2020-09-29T05:21:38.598762Z",
     "iopub.status.idle": "2020-09-29T05:21:38.606015Z",
     "shell.execute_reply": "2020-09-29T05:21:38.605556Z"
    },
    "papermill": {
     "duration": 0.032854,
     "end_time": "2020-09-29T05:21:38.606130",
     "exception": false,
     "start_time": "2020-09-29T05:21:38.573276",
     "status": "completed"
    },
    "tags": []
   },
   "outputs": [],
   "source": [
    "#hide\n",
    "dates = []\n",
    "for i in arr_dates:\n",
    "    if i>='2020-07-01':\n",
    "        dates.append(i)\n",
    "dict = {'states':dates}\n",
    "for i in arr_states:\n",
    "    dict[i] = [0]*len(dates)\n",
    "dft_cases = pd.DataFrame(dict)\n",
    "dft_deaths = pd.DataFrame(dict)\n"
   ]
  },
  {
   "cell_type": "code",
   "execution_count": 6,
   "metadata": {
    "execution": {
     "iopub.execute_input": "2020-09-29T05:21:38.640882Z",
     "iopub.status.busy": "2020-09-29T05:21:38.640337Z",
     "iopub.status.idle": "2020-09-29T05:21:39.764697Z",
     "shell.execute_reply": "2020-09-29T05:21:39.765235Z"
    },
    "papermill": {
     "duration": 1.144862,
     "end_time": "2020-09-29T05:21:39.765419",
     "exception": false,
     "start_time": "2020-09-29T05:21:38.620557",
     "status": "completed"
    },
    "tags": []
   },
   "outputs": [],
   "source": [
    "#hide\n",
    "for i in range(len(dates)):\n",
    "    df1_deaths = df_deaths1.get_group(dates[i])\n",
    "    for j in range(len(df1_deaths.index)):\n",
    "        if df1_deaths.iloc[j,1] in arr_states:\n",
    "            dft_deaths.loc[i,df1_deaths.iloc[j,1]] = df1_deaths.iloc[j,2]\n",
    "dft_deaths = dft_deaths.set_index('states')"
   ]
  },
  {
   "cell_type": "code",
   "execution_count": 7,
   "metadata": {
    "execution": {
     "iopub.execute_input": "2020-09-29T05:21:39.806145Z",
     "iopub.status.busy": "2020-09-29T05:21:39.805492Z",
     "iopub.status.idle": "2020-09-29T05:21:40.973805Z",
     "shell.execute_reply": "2020-09-29T05:21:40.972819Z"
    },
    "papermill": {
     "duration": 1.189454,
     "end_time": "2020-09-29T05:21:40.973948",
     "exception": false,
     "start_time": "2020-09-29T05:21:39.784494",
     "status": "completed"
    },
    "tags": []
   },
   "outputs": [],
   "source": [
    "#hide\n",
    "for i in range(len(dates)):\n",
    "    df1_cases = df_cases1.get_group(dates[i])\n",
    "    for j in range(len(df1_cases.index)):\n",
    "        if df1_cases.iloc[j,1] in arr_states:\n",
    "            dft_cases.loc[i,df1_cases.iloc[j,1]] = df1_cases.iloc[j,2]\n",
    "dft_cases = dft_cases.set_index('states')"
   ]
  },
  {
   "cell_type": "code",
   "execution_count": 8,
   "metadata": {
    "execution": {
     "iopub.execute_input": "2020-09-29T05:21:41.009415Z",
     "iopub.status.busy": "2020-09-29T05:21:41.008114Z",
     "iopub.status.idle": "2020-09-29T05:21:41.011214Z",
     "shell.execute_reply": "2020-09-29T05:21:41.010366Z"
    },
    "papermill": {
     "duration": 0.02355,
     "end_time": "2020-09-29T05:21:41.011413",
     "exception": false,
     "start_time": "2020-09-29T05:21:40.987863",
     "status": "completed"
    },
    "tags": []
   },
   "outputs": [],
   "source": [
    "#hide\n",
    "dft_cases = dft_cases.T\n",
    "dft_deaths = dft_deaths.T\n",
    "dt_today = dates[-1]\n",
    "dt_yday = dates[-2]"
   ]
  },
  {
   "cell_type": "code",
   "execution_count": 9,
   "metadata": {
    "execution": {
     "iopub.execute_input": "2020-09-29T05:21:41.051650Z",
     "iopub.status.busy": "2020-09-29T05:21:41.050633Z",
     "iopub.status.idle": "2020-09-29T05:21:41.054816Z",
     "shell.execute_reply": "2020-09-29T05:21:41.054359Z"
    },
    "papermill": {
     "duration": 0.02897,
     "end_time": "2020-09-29T05:21:41.054925",
     "exception": false,
     "start_time": "2020-09-29T05:21:41.025955",
     "status": "completed"
    },
    "tags": []
   },
   "outputs": [],
   "source": [
    "#hide\n",
    "dft_cases = dft_cases.reset_index()\n",
    "dft_deaths = dft_deaths.reset_index()\n",
    "dft_cases = dft_cases.rename(columns = {'index':'state'})\n",
    "dft_deaths = dft_deaths.rename(columns = {'index':'state'})"
   ]
  },
  {
   "cell_type": "code",
   "execution_count": 10,
   "metadata": {
    "execution": {
     "iopub.execute_input": "2020-09-29T05:21:41.096971Z",
     "iopub.status.busy": "2020-09-29T05:21:41.092862Z",
     "iopub.status.idle": "2020-09-29T05:21:41.100339Z",
     "shell.execute_reply": "2020-09-29T05:21:41.099853Z"
    },
    "papermill": {
     "duration": 0.030885,
     "end_time": "2020-09-29T05:21:41.100451",
     "exception": false,
     "start_time": "2020-09-29T05:21:41.069566",
     "status": "completed"
    },
    "tags": []
   },
   "outputs": [],
   "source": [
    "#hide\n",
    "dfc_cases = dft_cases.groupby('state')[dt_today].sum()\n",
    "dfc_deaths = dft_deaths.groupby('state')[dt_today].sum()\n",
    "dfp_cases = dft_cases.groupby('state')[dt_yday].sum()\n",
    "dfp_deaths = dft_deaths.groupby('state')[dt_yday].sum()"
   ]
  },
  {
   "cell_type": "code",
   "execution_count": 11,
   "metadata": {
    "execution": {
     "iopub.execute_input": "2020-09-29T05:21:41.141136Z",
     "iopub.status.busy": "2020-09-29T05:21:41.140592Z",
     "iopub.status.idle": "2020-09-29T05:21:41.146345Z",
     "shell.execute_reply": "2020-09-29T05:21:41.146802Z"
    },
    "papermill": {
     "duration": 0.032712,
     "end_time": "2020-09-29T05:21:41.146923",
     "exception": false,
     "start_time": "2020-09-29T05:21:41.114211",
     "status": "completed"
    },
    "tags": []
   },
   "outputs": [
    {
     "data": {
      "text/html": [
       "<div>\n",
       "<style scoped>\n",
       "    .dataframe tbody tr th:only-of-type {\n",
       "        vertical-align: middle;\n",
       "    }\n",
       "\n",
       "    .dataframe tbody tr th {\n",
       "        vertical-align: top;\n",
       "    }\n",
       "\n",
       "    .dataframe thead th {\n",
       "        text-align: right;\n",
       "    }\n",
       "</style>\n",
       "<table border=\"1\" class=\"dataframe\">\n",
       "  <thead>\n",
       "    <tr style=\"text-align: right;\">\n",
       "      <th></th>\n",
       "      <th>states</th>\n",
       "      <th>Cases</th>\n",
       "      <th>Deaths</th>\n",
       "      <th>PCases</th>\n",
       "      <th>PDeaths</th>\n",
       "    </tr>\n",
       "  </thead>\n",
       "  <tbody>\n",
       "    <tr>\n",
       "      <th>0</th>\n",
       "      <td>Maharashtra</td>\n",
       "      <td>1351153</td>\n",
       "      <td>35751</td>\n",
       "      <td>1351153</td>\n",
       "      <td>35751</td>\n",
       "    </tr>\n",
       "    <tr>\n",
       "      <th>1</th>\n",
       "      <td>Andhra Pradesh</td>\n",
       "      <td>681161</td>\n",
       "      <td>5745</td>\n",
       "      <td>681161</td>\n",
       "      <td>5745</td>\n",
       "    </tr>\n",
       "    <tr>\n",
       "      <th>2</th>\n",
       "      <td>Tamil Nadu</td>\n",
       "      <td>586397</td>\n",
       "      <td>9383</td>\n",
       "      <td>586397</td>\n",
       "      <td>9383</td>\n",
       "    </tr>\n",
       "    <tr>\n",
       "      <th>3</th>\n",
       "      <td>Karnataka</td>\n",
       "      <td>582458</td>\n",
       "      <td>8641</td>\n",
       "      <td>582458</td>\n",
       "      <td>8641</td>\n",
       "    </tr>\n",
       "    <tr>\n",
       "      <th>4</th>\n",
       "      <td>Uttar Pradesh</td>\n",
       "      <td>390875</td>\n",
       "      <td>5652</td>\n",
       "      <td>390875</td>\n",
       "      <td>5652</td>\n",
       "    </tr>\n",
       "  </tbody>\n",
       "</table>\n",
       "</div>"
      ],
      "text/plain": [
       "           states    Cases  Deaths   PCases  PDeaths\n",
       "0     Maharashtra  1351153   35751  1351153    35751\n",
       "1  Andhra Pradesh   681161    5745   681161     5745\n",
       "2      Tamil Nadu   586397    9383   586397     9383\n",
       "3       Karnataka   582458    8641   582458     8641\n",
       "4   Uttar Pradesh   390875    5652   390875     5652"
      ]
     },
     "execution_count": 11,
     "metadata": {},
     "output_type": "execute_result"
    }
   ],
   "source": [
    "#hide\n",
    "df_table = pd.DataFrame({'states': dfc_cases.index, 'Cases': dfc_cases.values, 'Deaths': dfc_deaths.values, 'PCases': dfp_cases.values, 'PDeaths': dfp_deaths.values}).set_index('states')\n",
    "df_table = df_table.sort_values(by = ['Cases','Deaths'], ascending = [False, False])\n",
    "df_table = df_table.reset_index()\n",
    "df_table.head()"
   ]
  },
  {
   "cell_type": "code",
   "execution_count": 12,
   "metadata": {
    "execution": {
     "iopub.execute_input": "2020-09-29T05:21:41.182489Z",
     "iopub.status.busy": "2020-09-29T05:21:41.181944Z",
     "iopub.status.idle": "2020-09-29T05:21:41.190228Z",
     "shell.execute_reply": "2020-09-29T05:21:41.190632Z"
    },
    "papermill": {
     "duration": 0.029552,
     "end_time": "2020-09-29T05:21:41.190758",
     "exception": false,
     "start_time": "2020-09-29T05:21:41.161206",
     "status": "completed"
    },
    "tags": []
   },
   "outputs": [],
   "source": [
    "#hide\n",
    "for c in 'Cases, Deaths'.split(', '):\n",
    "    df_table[f'{c} (+)'] = (df_table[c] - df_table[f'P{c}']).clip(0)\n",
    "df_table['Fatality Rate'] = (100* df_table['Deaths']/ df_table['Cases']).round(2)"
   ]
  },
  {
   "cell_type": "code",
   "execution_count": 13,
   "metadata": {
    "execution": {
     "iopub.execute_input": "2020-09-29T05:21:41.229860Z",
     "iopub.status.busy": "2020-09-29T05:21:41.229274Z",
     "iopub.status.idle": "2020-09-29T05:21:41.232979Z",
     "shell.execute_reply": "2020-09-29T05:21:41.233529Z"
    },
    "papermill": {
     "duration": 0.028842,
     "end_time": "2020-09-29T05:21:41.233660",
     "exception": false,
     "start_time": "2020-09-29T05:21:41.204818",
     "status": "completed"
    },
    "tags": []
   },
   "outputs": [
    {
     "data": {
      "text/html": [
       "<div>\n",
       "<style scoped>\n",
       "    .dataframe tbody tr th:only-of-type {\n",
       "        vertical-align: middle;\n",
       "    }\n",
       "\n",
       "    .dataframe tbody tr th {\n",
       "        vertical-align: top;\n",
       "    }\n",
       "\n",
       "    .dataframe thead th {\n",
       "        text-align: right;\n",
       "    }\n",
       "</style>\n",
       "<table border=\"1\" class=\"dataframe\">\n",
       "  <thead>\n",
       "    <tr style=\"text-align: right;\">\n",
       "      <th></th>\n",
       "      <th>states</th>\n",
       "      <th>Cases</th>\n",
       "      <th>Deaths</th>\n",
       "      <th>PCases</th>\n",
       "      <th>PDeaths</th>\n",
       "      <th>Cases (+)</th>\n",
       "      <th>Deaths (+)</th>\n",
       "      <th>Fatality Rate</th>\n",
       "    </tr>\n",
       "  </thead>\n",
       "  <tbody>\n",
       "    <tr>\n",
       "      <th>0</th>\n",
       "      <td>Maharashtra</td>\n",
       "      <td>1351153</td>\n",
       "      <td>35751</td>\n",
       "      <td>1351153</td>\n",
       "      <td>35751</td>\n",
       "      <td>0</td>\n",
       "      <td>0</td>\n",
       "      <td>2.65</td>\n",
       "    </tr>\n",
       "    <tr>\n",
       "      <th>1</th>\n",
       "      <td>Andhra Pradesh</td>\n",
       "      <td>681161</td>\n",
       "      <td>5745</td>\n",
       "      <td>681161</td>\n",
       "      <td>5745</td>\n",
       "      <td>0</td>\n",
       "      <td>0</td>\n",
       "      <td>0.84</td>\n",
       "    </tr>\n",
       "    <tr>\n",
       "      <th>2</th>\n",
       "      <td>Tamil Nadu</td>\n",
       "      <td>586397</td>\n",
       "      <td>9383</td>\n",
       "      <td>586397</td>\n",
       "      <td>9383</td>\n",
       "      <td>0</td>\n",
       "      <td>0</td>\n",
       "      <td>1.60</td>\n",
       "    </tr>\n",
       "    <tr>\n",
       "      <th>3</th>\n",
       "      <td>Karnataka</td>\n",
       "      <td>582458</td>\n",
       "      <td>8641</td>\n",
       "      <td>582458</td>\n",
       "      <td>8641</td>\n",
       "      <td>0</td>\n",
       "      <td>0</td>\n",
       "      <td>1.48</td>\n",
       "    </tr>\n",
       "    <tr>\n",
       "      <th>4</th>\n",
       "      <td>Uttar Pradesh</td>\n",
       "      <td>390875</td>\n",
       "      <td>5652</td>\n",
       "      <td>390875</td>\n",
       "      <td>5652</td>\n",
       "      <td>0</td>\n",
       "      <td>0</td>\n",
       "      <td>1.45</td>\n",
       "    </tr>\n",
       "  </tbody>\n",
       "</table>\n",
       "</div>"
      ],
      "text/plain": [
       "           states    Cases  Deaths   PCases  PDeaths  Cases (+)  Deaths (+)  \\\n",
       "0     Maharashtra  1351153   35751  1351153    35751          0           0   \n",
       "1  Andhra Pradesh   681161    5745   681161     5745          0           0   \n",
       "2      Tamil Nadu   586397    9383   586397     9383          0           0   \n",
       "3       Karnataka   582458    8641   582458     8641          0           0   \n",
       "4   Uttar Pradesh   390875    5652   390875     5652          0           0   \n",
       "\n",
       "   Fatality Rate  \n",
       "0           2.65  \n",
       "1           0.84  \n",
       "2           1.60  \n",
       "3           1.48  \n",
       "4           1.45  "
      ]
     },
     "execution_count": 13,
     "metadata": {},
     "output_type": "execute_result"
    }
   ],
   "source": [
    "#hide\n",
    "df_table.head()"
   ]
  },
  {
   "cell_type": "code",
   "execution_count": 14,
   "metadata": {
    "execution": {
     "iopub.execute_input": "2020-09-29T05:21:41.270203Z",
     "iopub.status.busy": "2020-09-29T05:21:41.269667Z",
     "iopub.status.idle": "2020-09-29T05:21:41.286222Z",
     "shell.execute_reply": "2020-09-29T05:21:41.285768Z"
    },
    "papermill": {
     "duration": 0.037077,
     "end_time": "2020-09-29T05:21:41.286331",
     "exception": false,
     "start_time": "2020-09-29T05:21:41.249254",
     "status": "completed"
    },
    "tags": []
   },
   "outputs": [
    {
     "data": {
      "text/plain": [
       "{'updated': '2020-09-29',\n",
       " 'since': '2020-09-28',\n",
       " 'Cases': 6143019,\n",
       " 'PCases': 6143019,\n",
       " 'Deaths': 96351,\n",
       " 'PDeaths': 96351,\n",
       " 'Cases (+)': 0,\n",
       " 'Deaths (+)': 0}"
      ]
     },
     "execution_count": 14,
     "metadata": {},
     "output_type": "execute_result"
    }
   ],
   "source": [
    "#hide\n",
    "summary = {'updated':dates[-1], 'since':dates[-2]}\n",
    "list_names = ['Cases', 'PCases', 'Deaths', 'PDeaths', 'Cases (+)', 'Deaths (+)']\n",
    "for name in list_names:\n",
    "    summary[name] = df_table.sum()[name]\n",
    "summary"
   ]
  },
  {
   "cell_type": "code",
   "execution_count": 15,
   "metadata": {
    "execution": {
     "iopub.execute_input": "2020-09-29T05:21:41.321961Z",
     "iopub.status.busy": "2020-09-29T05:21:41.321386Z",
     "iopub.status.idle": "2020-09-29T05:21:41.325052Z",
     "shell.execute_reply": "2020-09-29T05:21:41.325564Z"
    },
    "papermill": {
     "duration": 0.02426,
     "end_time": "2020-09-29T05:21:41.325684",
     "exception": false,
     "start_time": "2020-09-29T05:21:41.301424",
     "status": "completed"
    },
    "tags": []
   },
   "outputs": [],
   "source": [
    "#hide\n",
    "overview = '''\n",
    "<!-- #######  HTML!! #########-->\n",
    "<h1 style=\"color: #5e9ca0; text-align: center;\">India</h1>\n",
    "<p style=\"text-align: center;\">Last update: <strong>{update}</strong></p>\n",
    "<p style=\"text-align: center;\">Confirmed cases:</p>\n",
    "<p style=\"text-align: center;font-size:24px;\">{cases} (<span style=\"color: #ff0000;\">+{new}</span>)</p>\n",
    "<p style=\"text-align: center;\">Confirmed deaths:</p>\n",
    "<p style=\"text-align: center;font-size:24px;\">{deaths} (<span style=\"color: #ff0000;\">+{dnew}</span>)</p>\n",
    "'''"
   ]
  },
  {
   "cell_type": "code",
   "execution_count": 16,
   "metadata": {
    "execution": {
     "iopub.execute_input": "2020-09-29T05:21:41.360505Z",
     "iopub.status.busy": "2020-09-29T05:21:41.359942Z",
     "iopub.status.idle": "2020-09-29T05:21:41.364338Z",
     "shell.execute_reply": "2020-09-29T05:21:41.363889Z"
    },
    "papermill": {
     "duration": 0.024394,
     "end_time": "2020-09-29T05:21:41.364450",
     "exception": false,
     "start_time": "2020-09-29T05:21:41.340056",
     "status": "completed"
    },
    "tags": []
   },
   "outputs": [
    {
     "data": {
      "text/html": [
       "\n",
       "<!-- #######  HTML!! #########-->\n",
       "<h1 style=\"color: #5e9ca0; text-align: center;\">India</h1>\n",
       "<p style=\"text-align: center;\">Last update: <strong>2020-09-29</strong></p>\n",
       "<p style=\"text-align: center;\">Confirmed cases:</p>\n",
       "<p style=\"text-align: center;font-size:24px;\">6143019 (<span style=\"color: #ff0000;\">+0</span>)</p>\n",
       "<p style=\"text-align: center;\">Confirmed deaths:</p>\n",
       "<p style=\"text-align: center;font-size:24px;\">96351 (<span style=\"color: #ff0000;\">+0</span>)</p>\n"
      ],
      "text/plain": [
       "<IPython.core.display.HTML object>"
      ]
     },
     "metadata": {},
     "output_type": "display_data"
    }
   ],
   "source": [
    "#hide_input\n",
    "update = summary['updated']\n",
    "cases = summary['Cases']\n",
    "new = summary['Cases (+)']\n",
    "deaths = summary['Deaths']\n",
    "dnew = summary['Deaths (+)']\n",
    "\n",
    "html = HTML(overview.format(update=update, cases=cases,new=new,deaths=deaths,dnew=dnew))\n",
    "\n",
    "display(html)"
   ]
  },
  {
   "cell_type": "code",
   "execution_count": 17,
   "metadata": {
    "execution": {
     "iopub.execute_input": "2020-09-29T05:21:41.400153Z",
     "iopub.status.busy": "2020-09-29T05:21:41.399574Z",
     "iopub.status.idle": "2020-09-29T05:21:41.404043Z",
     "shell.execute_reply": "2020-09-29T05:21:41.404520Z"
    },
    "papermill": {
     "duration": 0.025384,
     "end_time": "2020-09-29T05:21:41.404654",
     "exception": false,
     "start_time": "2020-09-29T05:21:41.379270",
     "status": "completed"
    },
    "tags": []
   },
   "outputs": [],
   "source": [
    "#hide\n",
    "dt_cols = list(dft_cases.columns[1:])\n",
    "dft_ct_new_cases = dft_cases.groupby('state')[dt_cols].sum().diff(axis=1).fillna(0).astype(int)\n",
    "dft_ct_new_cases.sort_values(by = dates[-1], ascending = False,inplace = True)"
   ]
  },
  {
   "cell_type": "code",
   "execution_count": 18,
   "metadata": {
    "execution": {
     "iopub.execute_input": "2020-09-29T05:21:41.451620Z",
     "iopub.status.busy": "2020-09-29T05:21:41.451088Z",
     "iopub.status.idle": "2020-09-29T05:21:41.453833Z",
     "shell.execute_reply": "2020-09-29T05:21:41.453317Z"
    },
    "papermill": {
     "duration": 0.033847,
     "end_time": "2020-09-29T05:21:41.453941",
     "exception": false,
     "start_time": "2020-09-29T05:21:41.420094",
     "status": "completed"
    },
    "tags": []
   },
   "outputs": [
    {
     "data": {
      "text/html": [
       "<div>\n",
       "<style scoped>\n",
       "    .dataframe tbody tr th:only-of-type {\n",
       "        vertical-align: middle;\n",
       "    }\n",
       "\n",
       "    .dataframe tbody tr th {\n",
       "        vertical-align: top;\n",
       "    }\n",
       "\n",
       "    .dataframe thead th {\n",
       "        text-align: right;\n",
       "    }\n",
       "</style>\n",
       "<table border=\"1\" class=\"dataframe\">\n",
       "  <thead>\n",
       "    <tr style=\"text-align: right;\">\n",
       "      <th>states</th>\n",
       "      <th>2020-07-01</th>\n",
       "      <th>2020-07-02</th>\n",
       "      <th>2020-07-03</th>\n",
       "      <th>2020-07-04</th>\n",
       "      <th>2020-07-05</th>\n",
       "      <th>2020-07-06</th>\n",
       "      <th>2020-07-07</th>\n",
       "      <th>2020-07-08</th>\n",
       "      <th>2020-07-09</th>\n",
       "      <th>2020-07-10</th>\n",
       "      <th>...</th>\n",
       "      <th>2020-09-20</th>\n",
       "      <th>2020-09-21</th>\n",
       "      <th>2020-09-22</th>\n",
       "      <th>2020-09-23</th>\n",
       "      <th>2020-09-24</th>\n",
       "      <th>2020-09-25</th>\n",
       "      <th>2020-09-26</th>\n",
       "      <th>2020-09-27</th>\n",
       "      <th>2020-09-28</th>\n",
       "      <th>2020-09-29</th>\n",
       "    </tr>\n",
       "    <tr>\n",
       "      <th>state</th>\n",
       "      <th></th>\n",
       "      <th></th>\n",
       "      <th></th>\n",
       "      <th></th>\n",
       "      <th></th>\n",
       "      <th></th>\n",
       "      <th></th>\n",
       "      <th></th>\n",
       "      <th></th>\n",
       "      <th></th>\n",
       "      <th></th>\n",
       "      <th></th>\n",
       "      <th></th>\n",
       "      <th></th>\n",
       "      <th></th>\n",
       "      <th></th>\n",
       "      <th></th>\n",
       "      <th></th>\n",
       "      <th></th>\n",
       "      <th></th>\n",
       "      <th></th>\n",
       "    </tr>\n",
       "  </thead>\n",
       "  <tbody>\n",
       "    <tr>\n",
       "      <th>Andaman and Nicobar Islands</th>\n",
       "      <td>0</td>\n",
       "      <td>9</td>\n",
       "      <td>7</td>\n",
       "      <td>3</td>\n",
       "      <td>6</td>\n",
       "      <td>16</td>\n",
       "      <td>6</td>\n",
       "      <td>2</td>\n",
       "      <td>7</td>\n",
       "      <td>0</td>\n",
       "      <td>...</td>\n",
       "      <td>7</td>\n",
       "      <td>22</td>\n",
       "      <td>18</td>\n",
       "      <td>21</td>\n",
       "      <td>32</td>\n",
       "      <td>15</td>\n",
       "      <td>15</td>\n",
       "      <td>20</td>\n",
       "      <td>9</td>\n",
       "      <td>0</td>\n",
       "    </tr>\n",
       "    <tr>\n",
       "      <th>Andhra Pradesh</th>\n",
       "      <td>0</td>\n",
       "      <td>845</td>\n",
       "      <td>837</td>\n",
       "      <td>765</td>\n",
       "      <td>998</td>\n",
       "      <td>1322</td>\n",
       "      <td>1178</td>\n",
       "      <td>1062</td>\n",
       "      <td>1555</td>\n",
       "      <td>1608</td>\n",
       "      <td>...</td>\n",
       "      <td>7738</td>\n",
       "      <td>6235</td>\n",
       "      <td>7553</td>\n",
       "      <td>7228</td>\n",
       "      <td>7855</td>\n",
       "      <td>7073</td>\n",
       "      <td>7293</td>\n",
       "      <td>6923</td>\n",
       "      <td>5487</td>\n",
       "      <td>0</td>\n",
       "    </tr>\n",
       "    <tr>\n",
       "      <th>Maharashtra</th>\n",
       "      <td>0</td>\n",
       "      <td>6328</td>\n",
       "      <td>6364</td>\n",
       "      <td>7074</td>\n",
       "      <td>6555</td>\n",
       "      <td>5368</td>\n",
       "      <td>5134</td>\n",
       "      <td>6603</td>\n",
       "      <td>6875</td>\n",
       "      <td>7862</td>\n",
       "      <td>...</td>\n",
       "      <td>20627</td>\n",
       "      <td>15738</td>\n",
       "      <td>18390</td>\n",
       "      <td>21029</td>\n",
       "      <td>19164</td>\n",
       "      <td>17794</td>\n",
       "      <td>20419</td>\n",
       "      <td>18056</td>\n",
       "      <td>11921</td>\n",
       "      <td>0</td>\n",
       "    </tr>\n",
       "    <tr>\n",
       "      <th>Manipur</th>\n",
       "      <td>0</td>\n",
       "      <td>19</td>\n",
       "      <td>37</td>\n",
       "      <td>9</td>\n",
       "      <td>41</td>\n",
       "      <td>24</td>\n",
       "      <td>40</td>\n",
       "      <td>5</td>\n",
       "      <td>15</td>\n",
       "      <td>132</td>\n",
       "      <td>...</td>\n",
       "      <td>170</td>\n",
       "      <td>116</td>\n",
       "      <td>270</td>\n",
       "      <td>96</td>\n",
       "      <td>161</td>\n",
       "      <td>254</td>\n",
       "      <td>260</td>\n",
       "      <td>248</td>\n",
       "      <td>178</td>\n",
       "      <td>0</td>\n",
       "    </tr>\n",
       "    <tr>\n",
       "      <th>Meghalaya</th>\n",
       "      <td>0</td>\n",
       "      <td>3</td>\n",
       "      <td>4</td>\n",
       "      <td>8</td>\n",
       "      <td>2</td>\n",
       "      <td>16</td>\n",
       "      <td>6</td>\n",
       "      <td>6</td>\n",
       "      <td>13</td>\n",
       "      <td>73</td>\n",
       "      <td>...</td>\n",
       "      <td>101</td>\n",
       "      <td>73</td>\n",
       "      <td>58</td>\n",
       "      <td>170</td>\n",
       "      <td>122</td>\n",
       "      <td>75</td>\n",
       "      <td>54</td>\n",
       "      <td>90</td>\n",
       "      <td>60</td>\n",
       "      <td>0</td>\n",
       "    </tr>\n",
       "  </tbody>\n",
       "</table>\n",
       "<p>5 rows × 91 columns</p>\n",
       "</div>"
      ],
      "text/plain": [
       "states                       2020-07-01  2020-07-02  2020-07-03  2020-07-04  \\\n",
       "state                                                                         \n",
       "Andaman and Nicobar Islands           0           9           7           3   \n",
       "Andhra Pradesh                        0         845         837         765   \n",
       "Maharashtra                           0        6328        6364        7074   \n",
       "Manipur                               0          19          37           9   \n",
       "Meghalaya                             0           3           4           8   \n",
       "\n",
       "states                       2020-07-05  2020-07-06  2020-07-07  2020-07-08  \\\n",
       "state                                                                         \n",
       "Andaman and Nicobar Islands           6          16           6           2   \n",
       "Andhra Pradesh                      998        1322        1178        1062   \n",
       "Maharashtra                        6555        5368        5134        6603   \n",
       "Manipur                              41          24          40           5   \n",
       "Meghalaya                             2          16           6           6   \n",
       "\n",
       "states                       2020-07-09  2020-07-10  ...  2020-09-20  \\\n",
       "state                                                ...               \n",
       "Andaman and Nicobar Islands           7           0  ...           7   \n",
       "Andhra Pradesh                     1555        1608  ...        7738   \n",
       "Maharashtra                        6875        7862  ...       20627   \n",
       "Manipur                              15         132  ...         170   \n",
       "Meghalaya                            13          73  ...         101   \n",
       "\n",
       "states                       2020-09-21  2020-09-22  2020-09-23  2020-09-24  \\\n",
       "state                                                                         \n",
       "Andaman and Nicobar Islands          22          18          21          32   \n",
       "Andhra Pradesh                     6235        7553        7228        7855   \n",
       "Maharashtra                       15738       18390       21029       19164   \n",
       "Manipur                             116         270          96         161   \n",
       "Meghalaya                            73          58         170         122   \n",
       "\n",
       "states                       2020-09-25  2020-09-26  2020-09-27  2020-09-28  \\\n",
       "state                                                                         \n",
       "Andaman and Nicobar Islands          15          15          20           9   \n",
       "Andhra Pradesh                     7073        7293        6923        5487   \n",
       "Maharashtra                       17794       20419       18056       11921   \n",
       "Manipur                             254         260         248         178   \n",
       "Meghalaya                            75          54          90          60   \n",
       "\n",
       "states                       2020-09-29  \n",
       "state                                    \n",
       "Andaman and Nicobar Islands           0  \n",
       "Andhra Pradesh                        0  \n",
       "Maharashtra                           0  \n",
       "Manipur                               0  \n",
       "Meghalaya                             0  \n",
       "\n",
       "[5 rows x 91 columns]"
      ]
     },
     "execution_count": 18,
     "metadata": {},
     "output_type": "execute_result"
    }
   ],
   "source": [
    "#hide\n",
    "dft_ct_new_cases.head()"
   ]
  },
  {
   "cell_type": "code",
   "execution_count": 19,
   "metadata": {
    "execution": {
     "iopub.execute_input": "2020-09-29T05:21:41.510246Z",
     "iopub.status.busy": "2020-09-29T05:21:41.497910Z",
     "iopub.status.idle": "2020-09-29T05:21:44.886916Z",
     "shell.execute_reply": "2020-09-29T05:21:44.887387Z"
    },
    "papermill": {
     "duration": 3.418042,
     "end_time": "2020-09-29T05:21:44.887543",
     "exception": false,
     "start_time": "2020-09-29T05:21:41.469501",
     "status": "completed"
    },
    "tags": []
   },
   "outputs": [
    {
     "data": {
      "image/png": "[encoded data removed]",
      "text/plain": [
       "<Figure size 1296x2016 with 11 Axes>"
      ]
     },
     "metadata": {
      "needs_background": "light"
     },
     "output_type": "display_data"
    }
   ],
   "source": [
    "#hide_input\n",
    "df = dft_ct_new_cases.copy()\n",
    "df.loc['Total'] = df.sum()\n",
    "n = 5\n",
    "ax = []\n",
    "fig = plt.figure(figsize = (18,28))\n",
    "gs = fig.add_gridspec(n+2, 5)\n",
    "# gs = fig.add_gridspec(2, 3)\n",
    "ax1 = fig.add_subplot(gs[0, :])\n",
    "ef = df.loc['Total'].rename_axis('date').reset_index()\n",
    "ef['date'] = ef['date'].astype('datetime64[ns]')\n",
    "ax1.bar(ef.date,ef.Total,alpha=0.3,color='#007acc')\n",
    "ax1.plot(ef.date,ef.Total , marker=\"o\", color='#007acc')\n",
    "ax1.xaxis.set_major_locator(mdates.WeekdayLocator())\n",
    "ax1.xaxis.set_major_formatter(mdates.DateFormatter('%b %d'))\n",
    "ax1.text(0.02, 0.5,'India daily case count', transform = ax1.transAxes, fontsize=25);\n",
    "ax1.spines['right'].set_visible(False)\n",
    "ax1.spines['top'].set_visible(False)\n",
    "\n",
    "ax2 = fig.add_subplot(gs[1,0])\n",
    "ef = df.loc['Maharashtra'].rename_axis('date').reset_index()\n",
    "ef['date'] = ef['date'].astype('datetime64[ns]')\n",
    "\n",
    "ax2.bar(ef.date, ef.Maharashtra,color = '#007acc',alpha=0.5)\n",
    "ax2.xaxis.set_major_locator(mdates.WeekdayLocator())\n",
    "ax2.xaxis.set_major_formatter(mdates.DateFormatter('%b %d'))\n",
    "ax2.set_xticks(ax2.get_xticks()[::3])\n",
    "maxyval = ef.Maharashtra.max()\n",
    "ax2.set_ylim([0,maxyval])\n",
    "ax2.text(0.05, 0.9,'Maharashtra', transform = ax2.transAxes, fontsize=20);\n",
    "ax2.spines['right'].set_visible(False)\n",
    "ax2.spines['top'].set_visible(False)\n",
    "\n",
    "\n",
    "ax3 = fig.add_subplot(gs[1,1])\n",
    "ef = df.loc['Tamil Nadu'].rename_axis('date').reset_index()\n",
    "ef['date'] = ef['date'].astype('datetime64[ns]')\n",
    "ax3.bar(ef.date, ef['Tamil Nadu'],color = '#007acc',alpha=0.5,)\n",
    "ax3.xaxis.set_major_locator(mdates.WeekdayLocator())\n",
    "ax3.xaxis.set_major_formatter(mdates.DateFormatter('%b %d'))\n",
    "ax3.set_xticks(ax3.get_xticks()[::3])\n",
    "ax3.text(0.05, 0.9,'Tamil Nadu', transform = ax3.transAxes, fontsize=20);\n",
    "ax3.spines['right'].set_visible(False)\n",
    "ax3.spines['top'].set_visible(False)\n",
    "\n",
    "ax5 = fig.add_subplot(gs[1,3])\n",
    "ef = df.loc['Telangana'].rename_axis('date').reset_index()\n",
    "ef['date'] = ef['date'].astype('datetime64[ns]')\n",
    "ax5.bar(ef.date, ef['Telangana'],color = '#007acc',alpha=0.5,)\n",
    "ax5.xaxis.set_major_locator(mdates.WeekdayLocator())\n",
    "ax5.xaxis.set_major_formatter(mdates.DateFormatter('%b %d'))\n",
    "ax5.set_xticks(ax5.get_xticks()[::3])\n",
    "ax5.text(0.05, 0.9,'Telangana', transform = ax5.transAxes, fontsize=20);\n",
    "ax5.spines['right'].set_visible(False)\n",
    "ax5.spines['top'].set_visible(False)\n",
    "\n",
    "ax6 = fig.add_subplot(gs[1,4])\n",
    "ef = df.loc['Andhra Pradesh'].rename_axis('date').reset_index()\n",
    "ef['date'] = ef['date'].astype('datetime64[ns]')\n",
    "ax6.bar(ef.date, ef['Andhra Pradesh'],color = '#007acc',alpha=0.5,)\n",
    "ax6.xaxis.set_major_locator(mdates.WeekdayLocator())\n",
    "ax6.xaxis.set_major_formatter(mdates.DateFormatter('%b %d'))\n",
    "ax6.set_xticks(ax6.get_xticks()[::3])\n",
    "ax6.text(0.05, 1,'Andhra Pradesh', transform = ax6.transAxes, fontsize=20);\n",
    "ax6.spines['right'].set_visible(False)\n",
    "ax6.spines['top'].set_visible(False)\n",
    "\n",
    "ax4 = fig.add_subplot(gs[1,2])\n",
    "ef = df.loc['Delhi'].rename_axis('date').reset_index()\n",
    "ef['date'] = ef['date'].astype('datetime64[ns]')\n",
    "ax4.bar(ef.date, ef.Delhi,color = '#007acc',alpha=0.5)\n",
    "ax4.set_xticks([])\n",
    "ax4.xaxis.set_major_locator(mdates.WeekdayLocator())\n",
    "ax4.xaxis.set_major_formatter(mdates.DateFormatter('%b %d'))\n",
    "ax4.set_xticks(ax4.get_xticks()[::3])\n",
    "ax4.spines['right'].set_visible(False)\n",
    "ax4.spines['top'].set_visible(False)\n",
    "\n",
    "ax4.text(0.05, 1,'Delhi', transform = ax4.transAxes, fontsize=20)\n",
    "\n",
    "for i in range(n):\n",
    "    \n",
    "    ax.append(fig.add_subplot(gs[i+2,:]))\n",
    "    ef = df.iloc[i+3].rename_axis('date').reset_index()\n",
    "    ef['date'] = ef['date'].astype('datetime64[ns]')\n",
    "    ax[i].bar(ef.date,ef.iloc[:,-1],color = '#007acc',alpha=0.3)\n",
    "    ax[i].plot(ef.date,ef.iloc[:,-1],marker='o',color='#007acc')\n",
    "    ax[i].text(0.02,0.5,f'{ef.columns.values[-1]}',transform = ax[i].transAxes, fontsize = 20);\n",
    "    ax[i].xaxis.set_major_locator(mdates.WeekdayLocator())\n",
    "    ax[i].xaxis.set_major_formatter(mdates.DateFormatter('%b %d'))\n",
    "    ax[i].set_ylim([0,7000])\n",
    "    ax[i].spines['right'].set_visible(False)\n",
    "    ax[i].spines['top'].set_visible(False)\n",
    "plt.tight_layout()\n"
   ]
  },
  {
   "cell_type": "code",
   "execution_count": 20,
   "metadata": {
    "execution": {
     "iopub.execute_input": "2020-09-29T05:21:44.939165Z",
     "iopub.status.busy": "2020-09-29T05:21:44.938581Z",
     "iopub.status.idle": "2020-09-29T05:21:44.940944Z",
     "shell.execute_reply": "2020-09-29T05:21:44.941383Z"
    },
    "papermill": {
     "duration": 0.032458,
     "end_time": "2020-09-29T05:21:44.941526",
     "exception": false,
     "start_time": "2020-09-29T05:21:44.909068",
     "status": "completed"
    },
    "tags": []
   },
   "outputs": [
    {
     "name": "stdout",
     "output_type": "stream",
     "text": [
      "                                   states    Cases  Deaths   PCases  PDeaths  Cases (+)  Deaths (+)  Fatality Rate\n",
      "                              Maharashtra  1351153   35751  1351153    35751          0           0           2.65\n",
      "                           Andhra Pradesh   681161    5745   681161     5745          0           0           0.84\n",
      "                               Tamil Nadu   586397    9383   586397     9383          0           0           1.60\n",
      "                                Karnataka   582458    8641   582458     8641          0           0           1.48\n",
      "                            Uttar Pradesh   390875    5652   390875     5652          0           0           1.45\n",
      "                                    Delhi   273098    5272   273098     5272          0           0           1.93\n",
      "                              West Bengal   250580    4837   250580     4837          0           0           1.93\n",
      "                                   Odisha   212609     866   212609      866          0           0           0.41\n",
      "                                Telangana   187211    1107   187211     1107          0           0           0.59\n",
      "                                    Bihar   180032     892   180032      892          0           0           0.50\n",
      "                                   Kerala   179923     698   179923      698          0           0           0.39\n",
      "                                    Assam   173629     667   173629      667          0           0           0.38\n",
      "                                  Gujarat   134623    3431   134623     3431          0           0           2.55\n",
      "                                Rajasthan   130971    1456   130971     1456          0           0           1.11\n",
      "                                  Haryana   125412    1331   125412     1331          0           0           1.06\n",
      "                           Madhya Pradesh   124166    2242   124166     2242          0           0           1.81\n",
      "                                   Punjab   111375    3284   111375     3284          0           0           2.95\n",
      "                             Chhattisgarh   108458     877   108458      877          0           0           0.81\n",
      "                                Jharkhand    81417     688    81417      688          0           0           0.85\n",
      "                        Jammu and Kashmir    73014    1146    73014     1146          0           0           1.57\n",
      "                              Uttarakhand    47502     580    47502      580          0           0           1.22\n",
      "                                      Goa    32396     407    32396      407          0           0           1.26\n",
      "                               Puducherry    26685     515    26685      515          0           0           1.93\n",
      "                                  Tripura    24918     270    24918      270          0           0           1.08\n",
      "                         Himachal Pradesh    14457     175    14457      175          0           0           1.21\n",
      "                               Chandigarh    11678     153    11678      153          0           0           1.31\n",
      "                                  Manipur    10477      64    10477       64          0           0           0.61\n",
      "                        Arunachal Pradesh     9332      15     9332       15          0           0           0.16\n",
      "                                 Nagaland     5957      12     5957       12          0           0           0.20\n",
      "                                Meghalaya     5362      46     5362       46          0           0           0.86\n",
      "                                   Ladakh     4152      58     4152       58          0           0           1.40\n",
      "              Andaman and Nicobar Islands     3803      53     3803       53          0           0           1.39\n",
      " Dadra and Nagar Haveli and Daman and Diu     3015       2     3015        2          0           0           0.07\n",
      "                                   Sikkim     2815      35     2815       35          0           0           1.24\n",
      "                                  Mizoram     1908       0     1908        0          0           0           0.00\n",
      "                              Lakshadweep        0       0        0        0          0           0            NaN\n"
     ]
    }
   ],
   "source": [
    "#hide_input\n",
    "print(df_table.to_string(index=False))"
   ]
  },
  {
   "cell_type": "code",
   "execution_count": null,
   "metadata": {
    "papermill": {
     "duration": 0.021122,
     "end_time": "2020-09-29T05:21:44.984499",
     "exception": false,
     "start_time": "2020-09-29T05:21:44.963377",
     "status": "completed"
    },
    "tags": []
   },
   "outputs": [],
   "source": []
  },
  {
   "cell_type": "code",
   "execution_count": null,
   "metadata": {
    "papermill": {
     "duration": 0.021155,
     "end_time": "2020-09-29T05:21:45.026460",
     "exception": false,
     "start_time": "2020-09-29T05:21:45.005305",
     "status": "completed"
    },
    "tags": []
   },
   "outputs": [],
   "source": []
  }
 ],
 "metadata": {
  "kernelspec": {
   "display_name": "Python 3",
   "language": "python",
   "name": "python3"
  },
  "language_info": {
   "codemirror_mode": {
    "name": "ipython",
    "version": 3
   },
   "file_extension": ".py",
   "mimetype": "text/x-python",
   "name": "python",
   "nbconvert_exporter": "python",
   "pygments_lexer": "ipython3",
   "version": "3.6.12"
  },
  "papermill": {
   "duration": 9.008557,
   "end_time": "2020-09-29T05:21:45.456286",
   "environment_variables": {},
   "exception": null,
   "input_path": "latest.ipynb",
   "output_path": "latest.ipynb",
   "parameters": {},
   "start_time": "2020-09-29T05:21:36.447729",
   "version": "2.1.2"
  }
 },
 "nbformat": 4,
 "nbformat_minor": 4
}