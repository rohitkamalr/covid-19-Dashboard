{
 "cells": [
  {
   "cell_type": "markdown",
   "id": "colored-stack",
   "metadata": {
    "papermill": {
     "duration": 0.021947,
     "end_time": "2021-03-01T13:04:26.300221",
     "exception": false,
     "start_time": "2021-03-01T13:04:26.278274",
     "status": "completed"
    },
    "tags": []
   },
   "source": [
    "# Latest COVID-19 India Matplotlib Overview"
   ]
  },
  {
   "cell_type": "code",
   "execution_count": 1,
   "id": "light-proportion",
   "metadata": {
    "execution": {
     "iopub.execute_input": "2021-03-01T13:04:26.348855Z",
     "iopub.status.busy": "2021-03-01T13:04:26.348256Z",
     "iopub.status.idle": "2021-03-01T13:04:26.988571Z",
     "shell.execute_reply": "2021-03-01T13:04:26.987538Z"
    },
    "papermill": {
     "duration": 0.670158,
     "end_time": "2021-03-01T13:04:26.988827",
     "exception": false,
     "start_time": "2021-03-01T13:04:26.318669",
     "status": "completed"
    },
    "tags": []
   },
   "outputs": [],
   "source": [
    "#hide\n",
    "import pandas as pd\n",
    "import numpy as np\n",
    "import requests\n",
    "import json\n",
    "import matplotlib.pyplot as plt\n",
    "import matplotlib.dates as mdates\n",
    "import matplotlib as mpl\n",
    "from IPython.core.display import display,HTML\n",
    "%matplotlib inline\n",
    "from datetime import date"
   ]
  },
  {
   "cell_type": "code",
   "execution_count": 2,
   "id": "greenhouse-shooting",
   "metadata": {
    "execution": {
     "iopub.execute_input": "2021-03-01T13:04:27.035001Z",
     "iopub.status.busy": "2021-03-01T13:04:27.034291Z",
     "iopub.status.idle": "2021-03-01T13:04:27.233917Z",
     "shell.execute_reply": "2021-03-01T13:04:27.234415Z"
    },
    "papermill": {
     "duration": 0.225831,
     "end_time": "2021-03-01T13:04:27.234590",
     "exception": false,
     "start_time": "2021-03-01T13:04:27.008759",
     "status": "completed"
    },
    "tags": []
   },
   "outputs": [],
   "source": [
    "#hide\n",
    "df  = pd.read_csv('https://api.covid19india.org/csv/latest/states.csv')\n",
    "df = df[['Date','State','Confirmed','Deceased']]\n",
    "df = df.rename(columns={'Confirmed':'Cases', \"Deceased\":'Deaths'})\n",
    "df_cases = df[[\"Date\",'State','Cases']]\n",
    "df_deaths = df[['Date','State','Deaths']]\n",
    "df_cases1 = df_cases.groupby('Date')\n",
    "df_deaths1= df_deaths.groupby('Date')"
   ]
  },
  {
   "cell_type": "code",
   "execution_count": 3,
   "id": "hybrid-cathedral",
   "metadata": {
    "execution": {
     "iopub.execute_input": "2021-03-01T13:04:27.281892Z",
     "iopub.status.busy": "2021-03-01T13:04:27.281307Z",
     "iopub.status.idle": "2021-03-01T13:04:27.300866Z",
     "shell.execute_reply": "2021-03-01T13:04:27.301366Z"
    },
    "papermill": {
     "duration": 0.047554,
     "end_time": "2021-03-01T13:04:27.301511",
     "exception": false,
     "start_time": "2021-03-01T13:04:27.253957",
     "status": "completed"
    },
    "tags": []
   },
   "outputs": [],
   "source": [
    "#hide\n",
    "df_snap = pd.read_csv('data/SnapshotCases-28-July.csv')\n",
    "arr_states = df_snap['states'].unique()\n",
    "arr_dates = df['Date'].unique()\n",
    "df_snap = df_snap.set_index('states')"
   ]
  },
  {
   "cell_type": "code",
   "execution_count": 4,
   "id": "interior-belfast",
   "metadata": {
    "execution": {
     "iopub.execute_input": "2021-03-01T13:04:27.344784Z",
     "iopub.status.busy": "2021-03-01T13:04:27.344220Z",
     "iopub.status.idle": "2021-03-01T13:04:27.349351Z",
     "shell.execute_reply": "2021-03-01T13:04:27.348797Z"
    },
    "papermill": {
     "duration": 0.029921,
     "end_time": "2021-03-01T13:04:27.349484",
     "exception": false,
     "start_time": "2021-03-01T13:04:27.319563",
     "status": "completed"
    },
    "tags": []
   },
   "outputs": [
    {
     "data": {
      "text/plain": [
       "array(['Andaman and Nicobar Islands', 'Andhra Pradesh',\n",
       "       'Arunachal Pradesh', 'Assam', 'Bihar', 'Chandigarh',\n",
       "       'Dadra and Nagar Haveli and Daman and Diu', 'Delhi', 'Goa',\n",
       "       'Gujarat', 'Haryana', 'Himachal Pradesh', 'Jammu and Kashmir',\n",
       "       'Jharkhand', 'Karnataka', 'Kerala', 'Lakshadweep',\n",
       "       'Madhya Pradesh', 'Maharashtra', 'Manipur', 'Meghalaya', 'Mizoram',\n",
       "       'Nagaland', 'Odisha', 'Puducherry', 'Punjab', 'Rajasthan',\n",
       "       'Sikkim', 'Tamil Nadu', 'Telangana', 'Tripura', 'Uttar Pradesh',\n",
       "       'West Bengal', 'Chhattisgarh', 'Ladakh', 'Uttarakhand'],\n",
       "      dtype=object)"
      ]
     },
     "execution_count": 4,
     "metadata": {},
     "output_type": "execute_result"
    }
   ],
   "source": [
    "#hide\n",
    "arr_states[-9] = 'Puducherry'\n",
    "arr_states[-10] = 'Odisha'\n",
    "arr_states[6] = 'Dadra and Nagar Haveli and Daman and Diu'\n",
    "arr_states = np.append(arr_states,np.array(['Chhattisgarh','Ladakh','Uttarakhand']))\n",
    "arr_states"
   ]
  },
  {
   "cell_type": "code",
   "execution_count": 5,
   "id": "behind-manner",
   "metadata": {
    "execution": {
     "iopub.execute_input": "2021-03-01T13:04:27.403758Z",
     "iopub.status.busy": "2021-03-01T13:04:27.403143Z",
     "iopub.status.idle": "2021-03-01T13:04:27.413381Z",
     "shell.execute_reply": "2021-03-01T13:04:27.412781Z"
    },
    "papermill": {
     "duration": 0.044184,
     "end_time": "2021-03-01T13:04:27.413671",
     "exception": false,
     "start_time": "2021-03-01T13:04:27.369487",
     "status": "completed"
    },
    "tags": []
   },
   "outputs": [],
   "source": [
    "#hide\n",
    "dates = []\n",
    "for i in arr_dates:\n",
    "    if i>='2020-07-01':\n",
    "        dates.append(i)\n",
    "dict = {'states':dates}\n",
    "for i in arr_states:\n",
    "    dict[i] = [0]*len(dates)\n",
    "dft_cases = pd.DataFrame(dict)\n",
    "dft_deaths = pd.DataFrame(dict)\n"
   ]
  },
  {
   "cell_type": "code",
   "execution_count": 6,
   "id": "simplified-peter",
   "metadata": {
    "execution": {
     "iopub.execute_input": "2021-03-01T13:04:27.460222Z",
     "iopub.status.busy": "2021-03-01T13:04:27.459557Z",
     "iopub.status.idle": "2021-03-01T13:04:31.885989Z",
     "shell.execute_reply": "2021-03-01T13:04:31.885468Z"
    },
    "papermill": {
     "duration": 4.452704,
     "end_time": "2021-03-01T13:04:31.886142",
     "exception": false,
     "start_time": "2021-03-01T13:04:27.433438",
     "status": "completed"
    },
    "tags": []
   },
   "outputs": [],
   "source": [
    "#hide\n",
    "for i in range(len(dates)):\n",
    "    df1_deaths = df_deaths1.get_group(dates[i])\n",
    "    for j in range(len(df1_deaths.index)):\n",
    "        if df1_deaths.iloc[j,1] in arr_states:\n",
    "            dft_deaths.loc[i,df1_deaths.iloc[j,1]] = df1_deaths.iloc[j,2]\n",
    "dft_deaths = dft_deaths.set_index('states')"
   ]
  },
  {
   "cell_type": "code",
   "execution_count": 7,
   "id": "geological-welding",
   "metadata": {
    "execution": {
     "iopub.execute_input": "2021-03-01T13:04:31.931725Z",
     "iopub.status.busy": "2021-03-01T13:04:31.930993Z",
     "iopub.status.idle": "2021-03-01T13:04:36.317459Z",
     "shell.execute_reply": "2021-03-01T13:04:36.318079Z"
    },
    "papermill": {
     "duration": 4.412419,
     "end_time": "2021-03-01T13:04:36.318258",
     "exception": false,
     "start_time": "2021-03-01T13:04:31.905839",
     "status": "completed"
    },
    "tags": []
   },
   "outputs": [],
   "source": [
    "#hide\n",
    "for i in range(len(dates)):\n",
    "    df1_cases = df_cases1.get_group(dates[i])\n",
    "    for j in range(len(df1_cases.index)):\n",
    "        if df1_cases.iloc[j,1] in arr_states:\n",
    "            dft_cases.loc[i,df1_cases.iloc[j,1]] = df1_cases.iloc[j,2]\n",
    "dft_cases = dft_cases.set_index('states')"
   ]
  },
  {
   "cell_type": "code",
   "execution_count": 8,
   "id": "binary-ratio",
   "metadata": {
    "execution": {
     "iopub.execute_input": "2021-03-01T13:04:36.362372Z",
     "iopub.status.busy": "2021-03-01T13:04:36.361806Z",
     "iopub.status.idle": "2021-03-01T13:04:36.364741Z",
     "shell.execute_reply": "2021-03-01T13:04:36.364222Z"
    },
    "papermill": {
     "duration": 0.026809,
     "end_time": "2021-03-01T13:04:36.364860",
     "exception": false,
     "start_time": "2021-03-01T13:04:36.338051",
     "status": "completed"
    },
    "tags": []
   },
   "outputs": [],
   "source": [
    "#hide\n",
    "dft_cases = dft_cases.T\n",
    "dft_deaths = dft_deaths.T\n",
    "dt_today = dates[-1]\n",
    "dt_yday = dates[-2]"
   ]
  },
  {
   "cell_type": "code",
   "execution_count": 9,
   "id": "boolean-calculator",
   "metadata": {
    "execution": {
     "iopub.execute_input": "2021-03-01T13:04:36.407304Z",
     "iopub.status.busy": "2021-03-01T13:04:36.404718Z",
     "iopub.status.idle": "2021-03-01T13:04:36.412183Z",
     "shell.execute_reply": "2021-03-01T13:04:36.412773Z"
    },
    "papermill": {
     "duration": 0.029128,
     "end_time": "2021-03-01T13:04:36.412899",
     "exception": false,
     "start_time": "2021-03-01T13:04:36.383771",
     "status": "completed"
    },
    "tags": []
   },
   "outputs": [],
   "source": [
    "#hide\n",
    "dft_cases = dft_cases.reset_index()\n",
    "dft_deaths = dft_deaths.reset_index()\n",
    "dft_cases = dft_cases.rename(columns = {'index':'state'})\n",
    "dft_deaths = dft_deaths.rename(columns = {'index':'state'})"
   ]
  },
  {
   "cell_type": "code",
   "execution_count": 10,
   "id": "invisible-johnston",
   "metadata": {
    "execution": {
     "iopub.execute_input": "2021-03-01T13:04:36.461912Z",
     "iopub.status.busy": "2021-03-01T13:04:36.461113Z",
     "iopub.status.idle": "2021-03-01T13:04:36.462606Z",
     "shell.execute_reply": "2021-03-01T13:04:36.463365Z"
    },
    "papermill": {
     "duration": 0.032786,
     "end_time": "2021-03-01T13:04:36.463556",
     "exception": false,
     "start_time": "2021-03-01T13:04:36.430770",
     "status": "completed"
    },
    "tags": []
   },
   "outputs": [],
   "source": [
    "#hide\n",
    "dfc_cases = dft_cases.groupby('state')[dt_today].sum()\n",
    "dfc_deaths = dft_deaths.groupby('state')[dt_today].sum()\n",
    "dfp_cases = dft_cases.groupby('state')[dt_yday].sum()\n",
    "dfp_deaths = dft_deaths.groupby('state')[dt_yday].sum()"
   ]
  },
  {
   "cell_type": "code",
   "execution_count": 11,
   "id": "measured-great",
   "metadata": {
    "execution": {
     "iopub.execute_input": "2021-03-01T13:04:36.515967Z",
     "iopub.status.busy": "2021-03-01T13:04:36.511873Z",
     "iopub.status.idle": "2021-03-01T13:04:36.522588Z",
     "shell.execute_reply": "2021-03-01T13:04:36.523406Z"
    },
    "papermill": {
     "duration": 0.041551,
     "end_time": "2021-03-01T13:04:36.523569",
     "exception": false,
     "start_time": "2021-03-01T13:04:36.482018",
     "status": "completed"
    },
    "tags": []
   },
   "outputs": [
    {
     "data": {
      "text/html": [
       "<div>\n",
       "<style scoped>\n",
       "    .dataframe tbody tr th:only-of-type {\n",
       "        vertical-align: middle;\n",
       "    }\n",
       "\n",
       "    .dataframe tbody tr th {\n",
       "        vertical-align: top;\n",
       "    }\n",
       "\n",
       "    .dataframe thead th {\n",
       "        text-align: right;\n",
       "    }\n",
       "</style>\n",
       "<table border=\"1\" class=\"dataframe\">\n",
       "  <thead>\n",
       "    <tr style=\"text-align: right;\">\n",
       "      <th></th>\n",
       "      <th>states</th>\n",
       "      <th>Cases</th>\n",
       "      <th>Deaths</th>\n",
       "      <th>PCases</th>\n",
       "      <th>PDeaths</th>\n",
       "    </tr>\n",
       "  </thead>\n",
       "  <tbody>\n",
       "    <tr>\n",
       "      <th>0</th>\n",
       "      <td>Maharashtra</td>\n",
       "      <td>2155070</td>\n",
       "      <td>52154</td>\n",
       "      <td>2155070</td>\n",
       "      <td>52154</td>\n",
       "    </tr>\n",
       "    <tr>\n",
       "      <th>1</th>\n",
       "      <td>Kerala</td>\n",
       "      <td>1059404</td>\n",
       "      <td>4198</td>\n",
       "      <td>1059404</td>\n",
       "      <td>4198</td>\n",
       "    </tr>\n",
       "    <tr>\n",
       "      <th>2</th>\n",
       "      <td>Karnataka</td>\n",
       "      <td>951251</td>\n",
       "      <td>12331</td>\n",
       "      <td>951251</td>\n",
       "      <td>12331</td>\n",
       "    </tr>\n",
       "    <tr>\n",
       "      <th>3</th>\n",
       "      <td>Andhra Pradesh</td>\n",
       "      <td>889916</td>\n",
       "      <td>7169</td>\n",
       "      <td>889916</td>\n",
       "      <td>7169</td>\n",
       "    </tr>\n",
       "    <tr>\n",
       "      <th>4</th>\n",
       "      <td>Tamil Nadu</td>\n",
       "      <td>851542</td>\n",
       "      <td>12496</td>\n",
       "      <td>851542</td>\n",
       "      <td>12496</td>\n",
       "    </tr>\n",
       "  </tbody>\n",
       "</table>\n",
       "</div>"
      ],
      "text/plain": [
       "           states    Cases  Deaths   PCases  PDeaths\n",
       "0     Maharashtra  2155070   52154  2155070    52154\n",
       "1          Kerala  1059404    4198  1059404     4198\n",
       "2       Karnataka   951251   12331   951251    12331\n",
       "3  Andhra Pradesh   889916    7169   889916     7169\n",
       "4      Tamil Nadu   851542   12496   851542    12496"
      ]
     },
     "execution_count": 11,
     "metadata": {},
     "output_type": "execute_result"
    }
   ],
   "source": [
    "#hide\n",
    "df_table = pd.DataFrame({'states': dfc_cases.index, 'Cases': dfc_cases.values, 'Deaths': dfc_deaths.values, 'PCases': dfp_cases.values, 'PDeaths': dfp_deaths.values}).set_index('states')\n",
    "df_table = df_table.sort_values(by = ['Cases','Deaths'], ascending = [False, False])\n",
    "df_table = df_table.reset_index()\n",
    "df_table.head()"
   ]
  },
  {
   "cell_type": "code",
   "execution_count": 12,
   "id": "found-montreal",
   "metadata": {
    "execution": {
     "iopub.execute_input": "2021-03-01T13:04:36.567738Z",
     "iopub.status.busy": "2021-03-01T13:04:36.567139Z",
     "iopub.status.idle": "2021-03-01T13:04:36.576644Z",
     "shell.execute_reply": "2021-03-01T13:04:36.577221Z"
    },
    "papermill": {
     "duration": 0.035415,
     "end_time": "2021-03-01T13:04:36.577356",
     "exception": false,
     "start_time": "2021-03-01T13:04:36.541941",
     "status": "completed"
    },
    "tags": []
   },
   "outputs": [],
   "source": [
    "#hide\n",
    "for c in 'Cases, Deaths'.split(', '):\n",
    "    df_table[f'{c} (+)'] = (df_table[c] - df_table[f'P{c}']).clip(0)\n",
    "df_table['Fatality Rate'] = (100* df_table['Deaths']/ df_table['Cases']).round(2)"
   ]
  },
  {
   "cell_type": "code",
   "execution_count": 13,
   "id": "minus-savage",
   "metadata": {
    "execution": {
     "iopub.execute_input": "2021-03-01T13:04:36.628014Z",
     "iopub.status.busy": "2021-03-01T13:04:36.627337Z",
     "iopub.status.idle": "2021-03-01T13:04:36.631042Z",
     "shell.execute_reply": "2021-03-01T13:04:36.630543Z"
    },
    "papermill": {
     "duration": 0.035061,
     "end_time": "2021-03-01T13:04:36.631171",
     "exception": false,
     "start_time": "2021-03-01T13:04:36.596110",
     "status": "completed"
    },
    "tags": []
   },
   "outputs": [
    {
     "data": {
      "text/html": [
       "<div>\n",
       "<style scoped>\n",
       "    .dataframe tbody tr th:only-of-type {\n",
       "        vertical-align: middle;\n",
       "    }\n",
       "\n",
       "    .dataframe tbody tr th {\n",
       "        vertical-align: top;\n",
       "    }\n",
       "\n",
       "    .dataframe thead th {\n",
       "        text-align: right;\n",
       "    }\n",
       "</style>\n",
       "<table border=\"1\" class=\"dataframe\">\n",
       "  <thead>\n",
       "    <tr style=\"text-align: right;\">\n",
       "      <th></th>\n",
       "      <th>states</th>\n",
       "      <th>Cases</th>\n",
       "      <th>Deaths</th>\n",
       "      <th>PCases</th>\n",
       "      <th>PDeaths</th>\n",
       "      <th>Cases (+)</th>\n",
       "      <th>Deaths (+)</th>\n",
       "      <th>Fatality Rate</th>\n",
       "    </tr>\n",
       "  </thead>\n",
       "  <tbody>\n",
       "    <tr>\n",
       "      <th>0</th>\n",
       "      <td>Maharashtra</td>\n",
       "      <td>2155070</td>\n",
       "      <td>52154</td>\n",
       "      <td>2155070</td>\n",
       "      <td>52154</td>\n",
       "      <td>0</td>\n",
       "      <td>0</td>\n",
       "      <td>2.42</td>\n",
       "    </tr>\n",
       "    <tr>\n",
       "      <th>1</th>\n",
       "      <td>Kerala</td>\n",
       "      <td>1059404</td>\n",
       "      <td>4198</td>\n",
       "      <td>1059404</td>\n",
       "      <td>4198</td>\n",
       "      <td>0</td>\n",
       "      <td>0</td>\n",
       "      <td>0.40</td>\n",
       "    </tr>\n",
       "    <tr>\n",
       "      <th>2</th>\n",
       "      <td>Karnataka</td>\n",
       "      <td>951251</td>\n",
       "      <td>12331</td>\n",
       "      <td>951251</td>\n",
       "      <td>12331</td>\n",
       "      <td>0</td>\n",
       "      <td>0</td>\n",
       "      <td>1.30</td>\n",
       "    </tr>\n",
       "    <tr>\n",
       "      <th>3</th>\n",
       "      <td>Andhra Pradesh</td>\n",
       "      <td>889916</td>\n",
       "      <td>7169</td>\n",
       "      <td>889916</td>\n",
       "      <td>7169</td>\n",
       "      <td>0</td>\n",
       "      <td>0</td>\n",
       "      <td>0.81</td>\n",
       "    </tr>\n",
       "    <tr>\n",
       "      <th>4</th>\n",
       "      <td>Tamil Nadu</td>\n",
       "      <td>851542</td>\n",
       "      <td>12496</td>\n",
       "      <td>851542</td>\n",
       "      <td>12496</td>\n",
       "      <td>0</td>\n",
       "      <td>0</td>\n",
       "      <td>1.47</td>\n",
       "    </tr>\n",
       "  </tbody>\n",
       "</table>\n",
       "</div>"
      ],
      "text/plain": [
       "           states    Cases  Deaths   PCases  PDeaths  Cases (+)  Deaths (+)  \\\n",
       "0     Maharashtra  2155070   52154  2155070    52154          0           0   \n",
       "1          Kerala  1059404    4198  1059404     4198          0           0   \n",
       "2       Karnataka   951251   12331   951251    12331          0           0   \n",
       "3  Andhra Pradesh   889916    7169   889916     7169          0           0   \n",
       "4      Tamil Nadu   851542   12496   851542    12496          0           0   \n",
       "\n",
       "   Fatality Rate  \n",
       "0           2.42  \n",
       "1           0.40  \n",
       "2           1.30  \n",
       "3           0.81  \n",
       "4           1.47  "
      ]
     },
     "execution_count": 13,
     "metadata": {},
     "output_type": "execute_result"
    }
   ],
   "source": [
    "#hide\n",
    "df_table.head()"
   ]
  },
  {
   "cell_type": "code",
   "execution_count": 14,
   "id": "false-peter",
   "metadata": {
    "execution": {
     "iopub.execute_input": "2021-03-01T13:04:36.675008Z",
     "iopub.status.busy": "2021-03-01T13:04:36.674409Z",
     "iopub.status.idle": "2021-03-01T13:04:36.691185Z",
     "shell.execute_reply": "2021-03-01T13:04:36.691961Z"
    },
    "papermill": {
     "duration": 0.042284,
     "end_time": "2021-03-01T13:04:36.692190",
     "exception": false,
     "start_time": "2021-03-01T13:04:36.649906",
     "status": "completed"
    },
    "tags": []
   },
   "outputs": [
    {
     "data": {
      "text/plain": [
       "{'updated': '2021-03-01',\n",
       " 'since': '2021-02-28',\n",
       " 'Cases': 11112276,\n",
       " 'PCases': 11112056,\n",
       " 'Deaths': 157197,\n",
       " 'PDeaths': 157195,\n",
       " 'Cases (+)': 220,\n",
       " 'Deaths (+)': 2}"
      ]
     },
     "execution_count": 14,
     "metadata": {},
     "output_type": "execute_result"
    }
   ],
   "source": [
    "#hide\n",
    "summary = {'updated':dates[-1], 'since':dates[-2]}\n",
    "list_names = ['Cases', 'PCases', 'Deaths', 'PDeaths', 'Cases (+)', 'Deaths (+)']\n",
    "for name in list_names:\n",
    "    summary[name] = df_table.sum()[name]\n",
    "summary"
   ]
  },
  {
   "cell_type": "code",
   "execution_count": 15,
   "id": "packed-viewer",
   "metadata": {
    "execution": {
     "iopub.execute_input": "2021-03-01T13:04:36.734612Z",
     "iopub.status.busy": "2021-03-01T13:04:36.733991Z",
     "iopub.status.idle": "2021-03-01T13:04:36.736251Z",
     "shell.execute_reply": "2021-03-01T13:04:36.736703Z"
    },
    "papermill": {
     "duration": 0.025432,
     "end_time": "2021-03-01T13:04:36.736815",
     "exception": false,
     "start_time": "2021-03-01T13:04:36.711383",
     "status": "completed"
    },
    "tags": []
   },
   "outputs": [],
   "source": [
    "#hide\n",
    "overview = '''\n",
    "<!-- #######  HTML!! #########-->\n",
    "<h1 style=\"color: #5e9ca0; text-align: center;\">India</h1>\n",
    "<p style=\"text-align: center;\">Last update: <strong>{update}</strong></p>\n",
    "<p style=\"text-align: center;\">Confirmed cases:</p>\n",
    "<p style=\"text-align: center;font-size:24px;\">{cases} (<span style=\"color: #ff0000;\">+{new}</span>)</p>\n",
    "<p style=\"text-align: center;\">Confirmed deaths:</p>\n",
    "<p style=\"text-align: center;font-size:24px;\">{deaths} (<span style=\"color: #ff0000;\">+{dnew}</span>)</p>\n",
    "'''"
   ]
  },
  {
   "cell_type": "code",
   "execution_count": 16,
   "id": "phantom-lover",
   "metadata": {
    "execution": {
     "iopub.execute_input": "2021-03-01T13:04:36.781238Z",
     "iopub.status.busy": "2021-03-01T13:04:36.780660Z",
     "iopub.status.idle": "2021-03-01T13:04:36.784388Z",
     "shell.execute_reply": "2021-03-01T13:04:36.783820Z"
    },
    "papermill": {
     "duration": 0.028785,
     "end_time": "2021-03-01T13:04:36.784522",
     "exception": false,
     "start_time": "2021-03-01T13:04:36.755737",
     "status": "completed"
    },
    "tags": []
   },
   "outputs": [
    {
     "data": {
      "text/html": [
       "\n",
       "<!-- #######  HTML!! #########-->\n",
       "<h1 style=\"color: #5e9ca0; text-align: center;\">India</h1>\n",
       "<p style=\"text-align: center;\">Last update: <strong>2021-03-01</strong></p>\n",
       "<p style=\"text-align: center;\">Confirmed cases:</p>\n",
       "<p style=\"text-align: center;font-size:24px;\">11112276 (<span style=\"color: #ff0000;\">+220</span>)</p>\n",
       "<p style=\"text-align: center;\">Confirmed deaths:</p>\n",
       "<p style=\"text-align: center;font-size:24px;\">157197 (<span style=\"color: #ff0000;\">+2</span>)</p>\n"
      ],
      "text/plain": [
       "<IPython.core.display.HTML object>"
      ]
     },
     "metadata": {},
     "output_type": "display_data"
    }
   ],
   "source": [
    "#hide_input\n",
    "update = summary['updated']\n",
    "cases = summary['Cases']\n",
    "new = summary['Cases (+)']\n",
    "deaths = summary['Deaths']\n",
    "dnew = summary['Deaths (+)']\n",
    "\n",
    "html = HTML(overview.format(update=update, cases=cases,new=new,deaths=deaths,dnew=dnew))\n",
    "\n",
    "display(html)"
   ]
  },
  {
   "cell_type": "code",
   "execution_count": 17,
   "id": "sealed-reset",
   "metadata": {
    "execution": {
     "iopub.execute_input": "2021-03-01T13:04:36.830832Z",
     "iopub.status.busy": "2021-03-01T13:04:36.830203Z",
     "iopub.status.idle": "2021-03-01T13:04:36.837701Z",
     "shell.execute_reply": "2021-03-01T13:04:36.838122Z"
    },
    "papermill": {
     "duration": 0.03287,
     "end_time": "2021-03-01T13:04:36.838266",
     "exception": false,
     "start_time": "2021-03-01T13:04:36.805396",
     "status": "completed"
    },
    "tags": []
   },
   "outputs": [],
   "source": [
    "#hide\n",
    "dt_cols = list(dft_cases.columns[1:])\n",
    "dft_ct_new_cases = dft_cases.groupby('state')[dt_cols].sum().diff(axis=1).fillna(0).astype(int)\n",
    "dft_ct_new_cases.sort_values(by = dates[-1], ascending = False,inplace = True)"
   ]
  },
  {
   "cell_type": "code",
   "execution_count": 18,
   "id": "designed-constant",
   "metadata": {
    "execution": {
     "iopub.execute_input": "2021-03-01T13:04:36.896893Z",
     "iopub.status.busy": "2021-03-01T13:04:36.896236Z",
     "iopub.status.idle": "2021-03-01T13:04:36.900053Z",
     "shell.execute_reply": "2021-03-01T13:04:36.899397Z"
    },
    "papermill": {
     "duration": 0.04213,
     "end_time": "2021-03-01T13:04:36.900226",
     "exception": false,
     "start_time": "2021-03-01T13:04:36.858096",
     "status": "completed"
    },
    "tags": []
   },
   "outputs": [
    {
     "data": {
      "text/html": [
       "<div>\n",
       "<style scoped>\n",
       "    .dataframe tbody tr th:only-of-type {\n",
       "        vertical-align: middle;\n",
       "    }\n",
       "\n",
       "    .dataframe tbody tr th {\n",
       "        vertical-align: top;\n",
       "    }\n",
       "\n",
       "    .dataframe thead th {\n",
       "        text-align: right;\n",
       "    }\n",
       "</style>\n",
       "<table border=\"1\" class=\"dataframe\">\n",
       "  <thead>\n",
       "    <tr style=\"text-align: right;\">\n",
       "      <th>states</th>\n",
       "      <th>2020-07-01</th>\n",
       "      <th>2020-07-02</th>\n",
       "      <th>2020-07-03</th>\n",
       "      <th>2020-07-04</th>\n",
       "      <th>2020-07-05</th>\n",
       "      <th>2020-07-06</th>\n",
       "      <th>2020-07-07</th>\n",
       "      <th>2020-07-08</th>\n",
       "      <th>2020-07-09</th>\n",
       "      <th>2020-07-10</th>\n",
       "      <th>...</th>\n",
       "      <th>2021-02-20</th>\n",
       "      <th>2021-02-21</th>\n",
       "      <th>2021-02-22</th>\n",
       "      <th>2021-02-23</th>\n",
       "      <th>2021-02-24</th>\n",
       "      <th>2021-02-25</th>\n",
       "      <th>2021-02-26</th>\n",
       "      <th>2021-02-27</th>\n",
       "      <th>2021-02-28</th>\n",
       "      <th>2021-03-01</th>\n",
       "    </tr>\n",
       "    <tr>\n",
       "      <th>state</th>\n",
       "      <th></th>\n",
       "      <th></th>\n",
       "      <th></th>\n",
       "      <th></th>\n",
       "      <th></th>\n",
       "      <th></th>\n",
       "      <th></th>\n",
       "      <th></th>\n",
       "      <th></th>\n",
       "      <th></th>\n",
       "      <th></th>\n",
       "      <th></th>\n",
       "      <th></th>\n",
       "      <th></th>\n",
       "      <th></th>\n",
       "      <th></th>\n",
       "      <th></th>\n",
       "      <th></th>\n",
       "      <th></th>\n",
       "      <th></th>\n",
       "      <th></th>\n",
       "    </tr>\n",
       "  </thead>\n",
       "  <tbody>\n",
       "    <tr>\n",
       "      <th>Telangana</th>\n",
       "      <td>0</td>\n",
       "      <td>1213</td>\n",
       "      <td>1892</td>\n",
       "      <td>1850</td>\n",
       "      <td>1590</td>\n",
       "      <td>1831</td>\n",
       "      <td>1879</td>\n",
       "      <td>1924</td>\n",
       "      <td>1410</td>\n",
       "      <td>1278</td>\n",
       "      <td>...</td>\n",
       "      <td>157</td>\n",
       "      <td>163</td>\n",
       "      <td>114</td>\n",
       "      <td>0</td>\n",
       "      <td>345</td>\n",
       "      <td>207</td>\n",
       "      <td>189</td>\n",
       "      <td>178</td>\n",
       "      <td>176</td>\n",
       "      <td>116</td>\n",
       "    </tr>\n",
       "    <tr>\n",
       "      <th>Jammu and Kashmir</th>\n",
       "      <td>0</td>\n",
       "      <td>154</td>\n",
       "      <td>170</td>\n",
       "      <td>227</td>\n",
       "      <td>183</td>\n",
       "      <td>246</td>\n",
       "      <td>256</td>\n",
       "      <td>330</td>\n",
       "      <td>240</td>\n",
       "      <td>387</td>\n",
       "      <td>...</td>\n",
       "      <td>68</td>\n",
       "      <td>84</td>\n",
       "      <td>58</td>\n",
       "      <td>94</td>\n",
       "      <td>74</td>\n",
       "      <td>108</td>\n",
       "      <td>85</td>\n",
       "      <td>97</td>\n",
       "      <td>58</td>\n",
       "      <td>63</td>\n",
       "    </tr>\n",
       "    <tr>\n",
       "      <th>Goa</th>\n",
       "      <td>0</td>\n",
       "      <td>95</td>\n",
       "      <td>94</td>\n",
       "      <td>108</td>\n",
       "      <td>77</td>\n",
       "      <td>52</td>\n",
       "      <td>90</td>\n",
       "      <td>136</td>\n",
       "      <td>112</td>\n",
       "      <td>100</td>\n",
       "      <td>...</td>\n",
       "      <td>57</td>\n",
       "      <td>39</td>\n",
       "      <td>29</td>\n",
       "      <td>57</td>\n",
       "      <td>52</td>\n",
       "      <td>71</td>\n",
       "      <td>100</td>\n",
       "      <td>61</td>\n",
       "      <td>54</td>\n",
       "      <td>40</td>\n",
       "    </tr>\n",
       "    <tr>\n",
       "      <th>Manipur</th>\n",
       "      <td>0</td>\n",
       "      <td>19</td>\n",
       "      <td>37</td>\n",
       "      <td>9</td>\n",
       "      <td>41</td>\n",
       "      <td>24</td>\n",
       "      <td>40</td>\n",
       "      <td>5</td>\n",
       "      <td>15</td>\n",
       "      <td>132</td>\n",
       "      <td>...</td>\n",
       "      <td>3</td>\n",
       "      <td>4</td>\n",
       "      <td>3</td>\n",
       "      <td>3</td>\n",
       "      <td>7</td>\n",
       "      <td>3</td>\n",
       "      <td>7</td>\n",
       "      <td>11</td>\n",
       "      <td>2</td>\n",
       "      <td>1</td>\n",
       "    </tr>\n",
       "    <tr>\n",
       "      <th>Punjab</th>\n",
       "      <td>0</td>\n",
       "      <td>116</td>\n",
       "      <td>153</td>\n",
       "      <td>172</td>\n",
       "      <td>174</td>\n",
       "      <td>208</td>\n",
       "      <td>258</td>\n",
       "      <td>158</td>\n",
       "      <td>233</td>\n",
       "      <td>217</td>\n",
       "      <td>...</td>\n",
       "      <td>352</td>\n",
       "      <td>348</td>\n",
       "      <td>388</td>\n",
       "      <td>414</td>\n",
       "      <td>558</td>\n",
       "      <td>563</td>\n",
       "      <td>622</td>\n",
       "      <td>593</td>\n",
       "      <td>579</td>\n",
       "      <td>0</td>\n",
       "    </tr>\n",
       "  </tbody>\n",
       "</table>\n",
       "<p>5 rows × 244 columns</p>\n",
       "</div>"
      ],
      "text/plain": [
       "states             2020-07-01  2020-07-02  2020-07-03  2020-07-04  2020-07-05  \\\n",
       "state                                                                           \n",
       "Telangana                   0        1213        1892        1850        1590   \n",
       "Jammu and Kashmir           0         154         170         227         183   \n",
       "Goa                         0          95          94         108          77   \n",
       "Manipur                     0          19          37           9          41   \n",
       "Punjab                      0         116         153         172         174   \n",
       "\n",
       "states             2020-07-06  2020-07-07  2020-07-08  2020-07-09  2020-07-10  \\\n",
       "state                                                                           \n",
       "Telangana                1831        1879        1924        1410        1278   \n",
       "Jammu and Kashmir         246         256         330         240         387   \n",
       "Goa                        52          90         136         112         100   \n",
       "Manipur                    24          40           5          15         132   \n",
       "Punjab                    208         258         158         233         217   \n",
       "\n",
       "states             ...  2021-02-20  2021-02-21  2021-02-22  2021-02-23  \\\n",
       "state              ...                                                   \n",
       "Telangana          ...         157         163         114           0   \n",
       "Jammu and Kashmir  ...          68          84          58          94   \n",
       "Goa                ...          57          39          29          57   \n",
       "Manipur            ...           3           4           3           3   \n",
       "Punjab             ...         352         348         388         414   \n",
       "\n",
       "states             2021-02-24  2021-02-25  2021-02-26  2021-02-27  2021-02-28  \\\n",
       "state                                                                           \n",
       "Telangana                 345         207         189         178         176   \n",
       "Jammu and Kashmir          74         108          85          97          58   \n",
       "Goa                        52          71         100          61          54   \n",
       "Manipur                     7           3           7          11           2   \n",
       "Punjab                    558         563         622         593         579   \n",
       "\n",
       "states             2021-03-01  \n",
       "state                          \n",
       "Telangana                 116  \n",
       "Jammu and Kashmir          63  \n",
       "Goa                        40  \n",
       "Manipur                     1  \n",
       "Punjab                      0  \n",
       "\n",
       "[5 rows x 244 columns]"
      ]
     },
     "execution_count": 18,
     "metadata": {},
     "output_type": "execute_result"
    }
   ],
   "source": [
    "#hide\n",
    "dft_ct_new_cases.head()"
   ]
  },
  {
   "cell_type": "code",
   "execution_count": 19,
   "id": "responsible-nightlife",
   "metadata": {
    "execution": {
     "iopub.execute_input": "2021-03-01T13:04:37.002866Z",
     "iopub.status.busy": "2021-03-01T13:04:36.966578Z",
     "iopub.status.idle": "2021-03-01T13:04:47.409931Z",
     "shell.execute_reply": "2021-03-01T13:04:47.410396Z"
    },
    "papermill": {
     "duration": 10.489718,
     "end_time": "2021-03-01T13:04:47.410555",
     "exception": false,
     "start_time": "2021-03-01T13:04:36.920837",
     "status": "completed"
    },
    "tags": []
   },
   "outputs": [
    {
     "data": {
      "image/png": "[encoded data removed]",
      "text/plain": [
       "<Figure size 1296x2016 with 11 Axes>"
      ]
     },
     "metadata": {
      "needs_background": "light"
     },
     "output_type": "display_data"
    }
   ],
   "source": [
    "#hide_input\n",
    "df = dft_ct_new_cases.copy()\n",
    "df.loc['Total'] = df.sum()\n",
    "n = 5\n",
    "ax = []\n",
    "fig = plt.figure(figsize = (18,28))\n",
    "gs = fig.add_gridspec(n+2, 5)\n",
    "# gs = fig.add_gridspec(2, 3)\n",
    "ax1 = fig.add_subplot(gs[0, :])\n",
    "ef = df.loc['Total'].rename_axis('date').reset_index()\n",
    "ef['date'] = ef['date'].astype('datetime64[ns]')\n",
    "ax1.bar(ef.date,ef.Total,alpha=0.3,color='#007acc')\n",
    "ax1.plot(ef.date,ef.Total , marker=\"o\", color='#007acc')\n",
    "ax1.xaxis.set_major_locator(mdates.WeekdayLocator())\n",
    "ax1.xaxis.set_major_formatter(mdates.DateFormatter('%b %d'))\n",
    "ax1.text(0.02, 0.5,'India daily case count', transform = ax1.transAxes, fontsize=25);\n",
    "ax1.spines['right'].set_visible(False)\n",
    "ax1.spines['top'].set_visible(False)\n",
    "\n",
    "ax2 = fig.add_subplot(gs[1,0])\n",
    "ef = df.loc['Maharashtra'].rename_axis('date').reset_index()\n",
    "ef['date'] = ef['date'].astype('datetime64[ns]')\n",
    "\n",
    "ax2.bar(ef.date, ef.Maharashtra,color = '#007acc',alpha=0.5)\n",
    "ax2.xaxis.set_major_locator(mdates.WeekdayLocator())\n",
    "ax2.xaxis.set_major_formatter(mdates.DateFormatter('%b %d'))\n",
    "ax2.set_xticks(ax2.get_xticks()[::3])\n",
    "maxyval = ef.Maharashtra.max()\n",
    "ax2.set_ylim([0,maxyval])\n",
    "ax2.text(0.05, 0.9,'Maharashtra', transform = ax2.transAxes, fontsize=20);\n",
    "ax2.spines['right'].set_visible(False)\n",
    "ax2.spines['top'].set_visible(False)\n",
    "\n",
    "\n",
    "ax3 = fig.add_subplot(gs[1,1])\n",
    "ef = df.loc['Tamil Nadu'].rename_axis('date').reset_index()\n",
    "ef['date'] = ef['date'].astype('datetime64[ns]')\n",
    "ax3.bar(ef.date, ef['Tamil Nadu'],color = '#007acc',alpha=0.5,)\n",
    "ax3.xaxis.set_major_locator(mdates.WeekdayLocator())\n",
    "ax3.xaxis.set_major_formatter(mdates.DateFormatter('%b %d'))\n",
    "ax3.set_xticks(ax3.get_xticks()[::3])\n",
    "ax3.text(0.05, 0.9,'Tamil Nadu', transform = ax3.transAxes, fontsize=20);\n",
    "ax3.spines['right'].set_visible(False)\n",
    "ax3.spines['top'].set_visible(False)\n",
    "\n",
    "ax5 = fig.add_subplot(gs[1,3])\n",
    "ef = df.loc['Telangana'].rename_axis('date').reset_index()\n",
    "ef['date'] = ef['date'].astype('datetime64[ns]')\n",
    "ax5.bar(ef.date, ef['Telangana'],color = '#007acc',alpha=0.5,)\n",
    "ax5.xaxis.set_major_locator(mdates.WeekdayLocator())\n",
    "ax5.xaxis.set_major_formatter(mdates.DateFormatter('%b %d'))\n",
    "ax5.set_xticks(ax5.get_xticks()[::3])\n",
    "ax5.text(0.05, 0.9,'Telangana', transform = ax5.transAxes, fontsize=20);\n",
    "ax5.spines['right'].set_visible(False)\n",
    "ax5.spines['top'].set_visible(False)\n",
    "\n",
    "ax6 = fig.add_subplot(gs[1,4])\n",
    "ef = df.loc['Andhra Pradesh'].rename_axis('date').reset_index()\n",
    "ef['date'] = ef['date'].astype('datetime64[ns]')\n",
    "ax6.bar(ef.date, ef['Andhra Pradesh'],color = '#007acc',alpha=0.5,)\n",
    "ax6.xaxis.set_major_locator(mdates.WeekdayLocator())\n",
    "ax6.xaxis.set_major_formatter(mdates.DateFormatter('%b %d'))\n",
    "ax6.set_xticks(ax6.get_xticks()[::3])\n",
    "ax6.text(0.05, 1,'Andhra Pradesh', transform = ax6.transAxes, fontsize=20);\n",
    "ax6.spines['right'].set_visible(False)\n",
    "ax6.spines['top'].set_visible(False)\n",
    "\n",
    "ax4 = fig.add_subplot(gs[1,2])\n",
    "ef = df.loc['Delhi'].rename_axis('date').reset_index()\n",
    "ef['date'] = ef['date'].astype('datetime64[ns]')\n",
    "ax4.bar(ef.date, ef.Delhi,color = '#007acc',alpha=0.5)\n",
    "ax4.set_xticks([])\n",
    "ax4.xaxis.set_major_locator(mdates.WeekdayLocator())\n",
    "ax4.xaxis.set_major_formatter(mdates.DateFormatter('%b %d'))\n",
    "ax4.set_xticks(ax4.get_xticks()[::3])\n",
    "ax4.spines['right'].set_visible(False)\n",
    "ax4.spines['top'].set_visible(False)\n",
    "\n",
    "ax4.text(0.05, 1,'Delhi', transform = ax4.transAxes, fontsize=20)\n",
    "\n",
    "for i in range(n):\n",
    "    \n",
    "    ax.append(fig.add_subplot(gs[i+2,:]))\n",
    "    ef = df.iloc[i+3].rename_axis('date').reset_index()\n",
    "    ef['date'] = ef['date'].astype('datetime64[ns]')\n",
    "    ax[i].bar(ef.date,ef.iloc[:,-1],color = '#007acc',alpha=0.3)\n",
    "    ax[i].plot(ef.date,ef.iloc[:,-1],marker='o',color='#007acc')\n",
    "    ax[i].text(0.02,0.5,f'{ef.columns.values[-1]}',transform = ax[i].transAxes, fontsize = 20);\n",
    "    ax[i].xaxis.set_major_locator(mdates.WeekdayLocator())\n",
    "    ax[i].xaxis.set_major_formatter(mdates.DateFormatter('%b %d'))\n",
    "    ax[i].set_ylim([0,7000])\n",
    "    ax[i].spines['right'].set_visible(False)\n",
    "    ax[i].spines['top'].set_visible(False)\n",
    "plt.tight_layout()\n"
   ]
  },
  {
   "cell_type": "code",
   "execution_count": 20,
   "id": "dress-forge",
   "metadata": {
    "execution": {
     "iopub.execute_input": "2021-03-01T13:04:47.470665Z",
     "iopub.status.busy": "2021-03-01T13:04:47.469743Z",
     "iopub.status.idle": "2021-03-01T13:04:47.473329Z",
     "shell.execute_reply": "2021-03-01T13:04:47.472733Z"
    },
    "papermill": {
     "duration": 0.036668,
     "end_time": "2021-03-01T13:04:47.473442",
     "exception": false,
     "start_time": "2021-03-01T13:04:47.436774",
     "status": "completed"
    },
    "tags": []
   },
   "outputs": [
    {
     "name": "stdout",
     "output_type": "stream",
     "text": [
      "                                   states    Cases  Deaths   PCases  PDeaths  Cases (+)  Deaths (+)  Fatality Rate\n",
      "                              Maharashtra  2155070   52154  2155070    52154          0           0           2.42\n",
      "                                   Kerala  1059404    4198  1059404     4198          0           0           0.40\n",
      "                                Karnataka   951251   12331   951251    12331          0           0           1.30\n",
      "                           Andhra Pradesh   889916    7169   889916     7169          0           0           0.81\n",
      "                               Tamil Nadu   851542   12496   851542    12496          0           0           1.47\n",
      "                                    Delhi   639289   10910   639289    10910          0           0           1.71\n",
      "                            Uttar Pradesh   603527    8724   603527     8724          0           0           1.45\n",
      "                              West Bengal   575118   10268   575118    10268          0           0           1.79\n",
      "                                   Odisha   337191    1969   337191     1969          0           0           0.58\n",
      "                                Rajasthan   320336    2787   320336     2787          0           0           0.87\n",
      "                             Chhattisgarh   312560    3836   312560     3836          0           0           1.23\n",
      "                                Telangana   298923    1634   298807     1634        116           0           0.55\n",
      "                                  Haryana   270784    3048   270784     3048          0           0           1.13\n",
      "                                  Gujarat   269889    4410   269889     4410          0           0           1.63\n",
      "                                    Bihar   262534    1541   262534     1541          0           0           0.59\n",
      "                           Madhya Pradesh   261766    3864   261766     3864          0           0           1.48\n",
      "                                    Assam   217537    1092   217537     1092          0           0           0.50\n",
      "                                   Punjab   182176    5832   182176     5832          0           0           3.20\n",
      "                        Jammu and Kashmir   126504    1958   126441     1957         63           1           1.55\n",
      "                                Jharkhand   119949    1090   119949     1090          0           0           0.91\n",
      "                              Uttarakhand    96992    1692    96992     1692          0           0           1.74\n",
      "                         Himachal Pradesh    58645     982    58645      982          0           0           1.67\n",
      "                                      Goa    55026     796    54986      795         40           1           1.45\n",
      "                               Puducherry    39725     668    39725      668          0           0           1.68\n",
      "                                  Tripura    33404     388    33404      388          0           0           1.16\n",
      "                                  Manipur    29274     373    29273      373          1           0           1.27\n",
      "                               Chandigarh    21770     352    21770      352          0           0           1.62\n",
      "                        Arunachal Pradesh    16836      56    16836       56          0           0           0.33\n",
      "                                Meghalaya    13962     148    13962      148          0           0           1.06\n",
      "                                 Nagaland    12200      91    12200       91          0           0           0.75\n",
      "                                   Ladakh     9818     130     9818      130          0           0           1.32\n",
      "                                   Sikkim     6145     135     6145      135          0           0           2.20\n",
      "              Andaman and Nicobar Islands     5020      62     5020       62          0           0           1.24\n",
      "                                  Mizoram     4423      10     4423       10          0           0           0.23\n",
      " Dadra and Nagar Haveli and Daman and Diu     3388       2     3388        2          0           0           0.06\n",
      "                              Lakshadweep      382       1      382        1          0           0           0.26\n"
     ]
    }
   ],
   "source": [
    "#hide_input\n",
    "print(df_table.to_string(index=False))"
   ]
  },
  {
   "cell_type": "code",
   "execution_count": null,
   "id": "quantitative-legend",
   "metadata": {
    "papermill": {
     "duration": 0.026024,
     "end_time": "2021-03-01T13:04:47.524364",
     "exception": false,
     "start_time": "2021-03-01T13:04:47.498340",
     "status": "completed"
    },
    "tags": []
   },
   "outputs": [],
   "source": []
  },
  {
   "cell_type": "code",
   "execution_count": null,
   "id": "distant-acoustic",
   "metadata": {
    "papermill": {
     "duration": 0.02512,
     "end_time": "2021-03-01T13:04:47.573823",
     "exception": false,
     "start_time": "2021-03-01T13:04:47.548703",
     "status": "completed"
    },
    "tags": []
   },
   "outputs": [],
   "source": []
  }
 ],
 "metadata": {
  "kernelspec": {
   "display_name": "Python 3",
   "language": "python",
   "name": "python3"
  },
  "language_info": {
   "codemirror_mode": {
    "name": "ipython",
    "version": 3
   },
   "file_extension": ".py",
   "mimetype": "text/x-python",
   "name": "python",
   "nbconvert_exporter": "python",
   "pygments_lexer": "ipython3",
   "version": "3.6.13"
  },
  "papermill": {
   "duration": 22.940961,
   "end_time": "2021-03-01T13:04:48.105121",
   "environment_variables": {},
   "exception": null,
   "input_path": "latest.ipynb",
   "output_path": "latest.ipynb",
   "parameters": {},
   "start_time": "2021-03-01T13:04:25.164160",
   "version": "2.1.2"
  }
 },
 "nbformat": 4,
 "nbformat_minor": 5
}