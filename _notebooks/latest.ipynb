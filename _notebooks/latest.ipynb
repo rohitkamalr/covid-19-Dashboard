{
 "cells": [
  {
   "cell_type": "markdown",
   "metadata": {
    "papermill": {
     "duration": 0.014987,
     "end_time": "2020-10-29T08:31:08.553908",
     "exception": false,
     "start_time": "2020-10-29T08:31:08.538921",
     "status": "completed"
    },
    "tags": []
   },
   "source": [
    "# Latest COVID-19 India Matplotlib Overview"
   ]
  },
  {
   "cell_type": "code",
   "execution_count": 1,
   "metadata": {
    "execution": {
     "iopub.execute_input": "2020-10-29T08:31:08.584895Z",
     "iopub.status.busy": "2020-10-29T08:31:08.584375Z",
     "iopub.status.idle": "2020-10-29T08:31:09.067546Z",
     "shell.execute_reply": "2020-10-29T08:31:09.067029Z"
    },
    "papermill": {
     "duration": 0.500652,
     "end_time": "2020-10-29T08:31:09.067703",
     "exception": false,
     "start_time": "2020-10-29T08:31:08.567051",
     "status": "completed"
    },
    "tags": []
   },
   "outputs": [],
   "source": [
    "#hide\n",
    "import pandas as pd\n",
    "import numpy as np\n",
    "import requests\n",
    "import json\n",
    "import matplotlib.pyplot as plt\n",
    "import matplotlib.dates as mdates\n",
    "import matplotlib as mpl\n",
    "from IPython.core.display import display,HTML\n",
    "%matplotlib inline\n",
    "from datetime import date"
   ]
  },
  {
   "cell_type": "code",
   "execution_count": 2,
   "metadata": {
    "execution": {
     "iopub.execute_input": "2020-10-29T08:31:09.100358Z",
     "iopub.status.busy": "2020-10-29T08:31:09.099437Z",
     "iopub.status.idle": "2020-10-29T08:31:09.309682Z",
     "shell.execute_reply": "2020-10-29T08:31:09.309276Z"
    },
    "papermill": {
     "duration": 0.229713,
     "end_time": "2020-10-29T08:31:09.309798",
     "exception": false,
     "start_time": "2020-10-29T08:31:09.080085",
     "status": "completed"
    },
    "tags": []
   },
   "outputs": [],
   "source": [
    "#hide\n",
    "df  = pd.read_csv('https://api.covid19india.org/csv/latest/states.csv')\n",
    "df = df[['Date','State','Confirmed','Deceased']]\n",
    "df = df.rename(columns={'Confirmed':'Cases', \"Deceased\":'Deaths'})\n",
    "df_cases = df[[\"Date\",'State','Cases']]\n",
    "df_deaths = df[['Date','State','Deaths']]\n",
    "df_cases1 = df_cases.groupby('Date')\n",
    "df_deaths1= df_deaths.groupby('Date')"
   ]
  },
  {
   "cell_type": "code",
   "execution_count": 3,
   "metadata": {
    "execution": {
     "iopub.execute_input": "2020-10-29T08:31:09.338713Z",
     "iopub.status.busy": "2020-10-29T08:31:09.338162Z",
     "iopub.status.idle": "2020-10-29T08:31:09.352718Z",
     "shell.execute_reply": "2020-10-29T08:31:09.352333Z"
    },
    "papermill": {
     "duration": 0.030838,
     "end_time": "2020-10-29T08:31:09.352829",
     "exception": false,
     "start_time": "2020-10-29T08:31:09.321991",
     "status": "completed"
    },
    "tags": []
   },
   "outputs": [],
   "source": [
    "#hide\n",
    "df_snap = pd.read_csv('data/SnapshotCases-28-July.csv')\n",
    "arr_states = df_snap['states'].unique()\n",
    "arr_dates = df['Date'].unique()\n",
    "df_snap = df_snap.set_index('states')"
   ]
  },
  {
   "cell_type": "code",
   "execution_count": 4,
   "metadata": {
    "execution": {
     "iopub.execute_input": "2020-10-29T08:31:09.382534Z",
     "iopub.status.busy": "2020-10-29T08:31:09.382050Z",
     "iopub.status.idle": "2020-10-29T08:31:09.385901Z",
     "shell.execute_reply": "2020-10-29T08:31:09.386349Z"
    },
    "papermill": {
     "duration": 0.021924,
     "end_time": "2020-10-29T08:31:09.386479",
     "exception": false,
     "start_time": "2020-10-29T08:31:09.364555",
     "status": "completed"
    },
    "tags": []
   },
   "outputs": [
    {
     "data": {
      "text/plain": [
       "array(['Andaman and Nicobar Islands', 'Andhra Pradesh',\n",
       "       'Arunachal Pradesh', 'Assam', 'Bihar', 'Chandigarh',\n",
       "       'Dadra and Nagar Haveli and Daman and Diu', 'Delhi', 'Goa',\n",
       "       'Gujarat', 'Haryana', 'Himachal Pradesh', 'Jammu and Kashmir',\n",
       "       'Jharkhand', 'Karnataka', 'Kerala', 'Lakshadweep',\n",
       "       'Madhya Pradesh', 'Maharashtra', 'Manipur', 'Meghalaya', 'Mizoram',\n",
       "       'Nagaland', 'Odisha', 'Puducherry', 'Punjab', 'Rajasthan',\n",
       "       'Sikkim', 'Tamil Nadu', 'Telangana', 'Tripura', 'Uttar Pradesh',\n",
       "       'West Bengal', 'Chhattisgarh', 'Ladakh', 'Uttarakhand'],\n",
       "      dtype=object)"
      ]
     },
     "execution_count": 4,
     "metadata": {},
     "output_type": "execute_result"
    }
   ],
   "source": [
    "#hide\n",
    "arr_states[-9] = 'Puducherry'\n",
    "arr_states[-10] = 'Odisha'\n",
    "arr_states[6] = 'Dadra and Nagar Haveli and Daman and Diu'\n",
    "arr_states = np.append(arr_states,np.array(['Chhattisgarh','Ladakh','Uttarakhand']))\n",
    "arr_states"
   ]
  },
  {
   "cell_type": "code",
   "execution_count": 5,
   "metadata": {
    "execution": {
     "iopub.execute_input": "2020-10-29T08:31:09.425772Z",
     "iopub.status.busy": "2020-10-29T08:31:09.420691Z",
     "iopub.status.idle": "2020-10-29T08:31:09.428303Z",
     "shell.execute_reply": "2020-10-29T08:31:09.428707Z"
    },
    "papermill": {
     "duration": 0.02774,
     "end_time": "2020-10-29T08:31:09.428807",
     "exception": false,
     "start_time": "2020-10-29T08:31:09.401067",
     "status": "completed"
    },
    "tags": []
   },
   "outputs": [],
   "source": [
    "#hide\n",
    "dates = []\n",
    "for i in arr_dates:\n",
    "    if i>='2020-07-01':\n",
    "        dates.append(i)\n",
    "dict = {'states':dates}\n",
    "for i in arr_states:\n",
    "    dict[i] = [0]*len(dates)\n",
    "dft_cases = pd.DataFrame(dict)\n",
    "dft_deaths = pd.DataFrame(dict)\n"
   ]
  },
  {
   "cell_type": "code",
   "execution_count": 6,
   "metadata": {
    "execution": {
     "iopub.execute_input": "2020-10-29T08:31:09.459273Z",
     "iopub.status.busy": "2020-10-29T08:31:09.458715Z",
     "iopub.status.idle": "2020-10-29T08:31:10.781746Z",
     "shell.execute_reply": "2020-10-29T08:31:10.781205Z"
    },
    "papermill": {
     "duration": 1.340843,
     "end_time": "2020-10-29T08:31:10.781897",
     "exception": false,
     "start_time": "2020-10-29T08:31:09.441054",
     "status": "completed"
    },
    "tags": []
   },
   "outputs": [],
   "source": [
    "#hide\n",
    "for i in range(len(dates)):\n",
    "    df1_deaths = df_deaths1.get_group(dates[i])\n",
    "    for j in range(len(df1_deaths.index)):\n",
    "        if df1_deaths.iloc[j,1] in arr_states:\n",
    "            dft_deaths.loc[i,df1_deaths.iloc[j,1]] = df1_deaths.iloc[j,2]\n",
    "dft_deaths = dft_deaths.set_index('states')"
   ]
  },
  {
   "cell_type": "code",
   "execution_count": 7,
   "metadata": {
    "execution": {
     "iopub.execute_input": "2020-10-29T08:31:10.817851Z",
     "iopub.status.busy": "2020-10-29T08:31:10.817301Z",
     "iopub.status.idle": "2020-10-29T08:31:12.127909Z",
     "shell.execute_reply": "2020-10-29T08:31:12.128501Z"
    },
    "papermill": {
     "duration": 1.331404,
     "end_time": "2020-10-29T08:31:12.128702",
     "exception": false,
     "start_time": "2020-10-29T08:31:10.797298",
     "status": "completed"
    },
    "tags": []
   },
   "outputs": [],
   "source": [
    "#hide\n",
    "for i in range(len(dates)):\n",
    "    df1_cases = df_cases1.get_group(dates[i])\n",
    "    for j in range(len(df1_cases.index)):\n",
    "        if df1_cases.iloc[j,1] in arr_states:\n",
    "            dft_cases.loc[i,df1_cases.iloc[j,1]] = df1_cases.iloc[j,2]\n",
    "dft_cases = dft_cases.set_index('states')"
   ]
  },
  {
   "cell_type": "code",
   "execution_count": 8,
   "metadata": {
    "execution": {
     "iopub.execute_input": "2020-10-29T08:31:12.161618Z",
     "iopub.status.busy": "2020-10-29T08:31:12.160752Z",
     "iopub.status.idle": "2020-10-29T08:31:12.162883Z",
     "shell.execute_reply": "2020-10-29T08:31:12.162501Z"
    },
    "papermill": {
     "duration": 0.020286,
     "end_time": "2020-10-29T08:31:12.162987",
     "exception": false,
     "start_time": "2020-10-29T08:31:12.142701",
     "status": "completed"
    },
    "tags": []
   },
   "outputs": [],
   "source": [
    "#hide\n",
    "dft_cases = dft_cases.T\n",
    "dft_deaths = dft_deaths.T\n",
    "dt_today = dates[-1]\n",
    "dt_yday = dates[-2]"
   ]
  },
  {
   "cell_type": "code",
   "execution_count": 9,
   "metadata": {
    "execution": {
     "iopub.execute_input": "2020-10-29T08:31:12.195797Z",
     "iopub.status.busy": "2020-10-29T08:31:12.193443Z",
     "iopub.status.idle": "2020-10-29T08:31:12.198006Z",
     "shell.execute_reply": "2020-10-29T08:31:12.197610Z"
    },
    "papermill": {
     "duration": 0.021795,
     "end_time": "2020-10-29T08:31:12.198093",
     "exception": false,
     "start_time": "2020-10-29T08:31:12.176298",
     "status": "completed"
    },
    "tags": []
   },
   "outputs": [],
   "source": [
    "#hide\n",
    "dft_cases = dft_cases.reset_index()\n",
    "dft_deaths = dft_deaths.reset_index()\n",
    "dft_cases = dft_cases.rename(columns = {'index':'state'})\n",
    "dft_deaths = dft_deaths.rename(columns = {'index':'state'})"
   ]
  },
  {
   "cell_type": "code",
   "execution_count": 10,
   "metadata": {
    "execution": {
     "iopub.execute_input": "2020-10-29T08:31:12.237364Z",
     "iopub.status.busy": "2020-10-29T08:31:12.236777Z",
     "iopub.status.idle": "2020-10-29T08:31:12.240549Z",
     "shell.execute_reply": "2020-10-29T08:31:12.240076Z"
    },
    "papermill": {
     "duration": 0.027492,
     "end_time": "2020-10-29T08:31:12.240663",
     "exception": false,
     "start_time": "2020-10-29T08:31:12.213171",
     "status": "completed"
    },
    "tags": []
   },
   "outputs": [],
   "source": [
    "#hide\n",
    "dfc_cases = dft_cases.groupby('state')[dt_today].sum()\n",
    "dfc_deaths = dft_deaths.groupby('state')[dt_today].sum()\n",
    "dfp_cases = dft_cases.groupby('state')[dt_yday].sum()\n",
    "dfp_deaths = dft_deaths.groupby('state')[dt_yday].sum()"
   ]
  },
  {
   "cell_type": "code",
   "execution_count": 11,
   "metadata": {
    "execution": {
     "iopub.execute_input": "2020-10-29T08:31:12.278013Z",
     "iopub.status.busy": "2020-10-29T08:31:12.277594Z",
     "iopub.status.idle": "2020-10-29T08:31:12.283197Z",
     "shell.execute_reply": "2020-10-29T08:31:12.282736Z"
    },
    "papermill": {
     "duration": 0.029841,
     "end_time": "2020-10-29T08:31:12.283307",
     "exception": false,
     "start_time": "2020-10-29T08:31:12.253466",
     "status": "completed"
    },
    "tags": []
   },
   "outputs": [
    {
     "data": {
      "text/html": [
       "<div>\n",
       "<style scoped>\n",
       "    .dataframe tbody tr th:only-of-type {\n",
       "        vertical-align: middle;\n",
       "    }\n",
       "\n",
       "    .dataframe tbody tr th {\n",
       "        vertical-align: top;\n",
       "    }\n",
       "\n",
       "    .dataframe thead th {\n",
       "        text-align: right;\n",
       "    }\n",
       "</style>\n",
       "<table border=\"1\" class=\"dataframe\">\n",
       "  <thead>\n",
       "    <tr style=\"text-align: right;\">\n",
       "      <th></th>\n",
       "      <th>states</th>\n",
       "      <th>Cases</th>\n",
       "      <th>Deaths</th>\n",
       "      <th>PCases</th>\n",
       "      <th>PDeaths</th>\n",
       "    </tr>\n",
       "  </thead>\n",
       "  <tbody>\n",
       "    <tr>\n",
       "      <th>0</th>\n",
       "      <td>Maharashtra</td>\n",
       "      <td>1660766</td>\n",
       "      <td>43554</td>\n",
       "      <td>1660766</td>\n",
       "      <td>43554</td>\n",
       "    </tr>\n",
       "    <tr>\n",
       "      <th>1</th>\n",
       "      <td>Andhra Pradesh</td>\n",
       "      <td>814774</td>\n",
       "      <td>6643</td>\n",
       "      <td>814774</td>\n",
       "      <td>6643</td>\n",
       "    </tr>\n",
       "    <tr>\n",
       "      <th>2</th>\n",
       "      <td>Karnataka</td>\n",
       "      <td>812784</td>\n",
       "      <td>11046</td>\n",
       "      <td>812784</td>\n",
       "      <td>11046</td>\n",
       "    </tr>\n",
       "    <tr>\n",
       "      <th>3</th>\n",
       "      <td>Tamil Nadu</td>\n",
       "      <td>716751</td>\n",
       "      <td>11018</td>\n",
       "      <td>716751</td>\n",
       "      <td>11018</td>\n",
       "    </tr>\n",
       "    <tr>\n",
       "      <th>4</th>\n",
       "      <td>Uttar Pradesh</td>\n",
       "      <td>476034</td>\n",
       "      <td>6958</td>\n",
       "      <td>476034</td>\n",
       "      <td>6958</td>\n",
       "    </tr>\n",
       "  </tbody>\n",
       "</table>\n",
       "</div>"
      ],
      "text/plain": [
       "           states    Cases  Deaths   PCases  PDeaths\n",
       "0     Maharashtra  1660766   43554  1660766    43554\n",
       "1  Andhra Pradesh   814774    6643   814774     6643\n",
       "2       Karnataka   812784   11046   812784    11046\n",
       "3      Tamil Nadu   716751   11018   716751    11018\n",
       "4   Uttar Pradesh   476034    6958   476034     6958"
      ]
     },
     "execution_count": 11,
     "metadata": {},
     "output_type": "execute_result"
    }
   ],
   "source": [
    "#hide\n",
    "df_table = pd.DataFrame({'states': dfc_cases.index, 'Cases': dfc_cases.values, 'Deaths': dfc_deaths.values, 'PCases': dfp_cases.values, 'PDeaths': dfp_deaths.values}).set_index('states')\n",
    "df_table = df_table.sort_values(by = ['Cases','Deaths'], ascending = [False, False])\n",
    "df_table = df_table.reset_index()\n",
    "df_table.head()"
   ]
  },
  {
   "cell_type": "code",
   "execution_count": 12,
   "metadata": {
    "execution": {
     "iopub.execute_input": "2020-10-29T08:31:12.313619Z",
     "iopub.status.busy": "2020-10-29T08:31:12.313085Z",
     "iopub.status.idle": "2020-10-29T08:31:12.320928Z",
     "shell.execute_reply": "2020-10-29T08:31:12.320473Z"
    },
    "papermill": {
     "duration": 0.024891,
     "end_time": "2020-10-29T08:31:12.321036",
     "exception": false,
     "start_time": "2020-10-29T08:31:12.296145",
     "status": "completed"
    },
    "tags": []
   },
   "outputs": [],
   "source": [
    "#hide\n",
    "for c in 'Cases, Deaths'.split(', '):\n",
    "    df_table[f'{c} (+)'] = (df_table[c] - df_table[f'P{c}']).clip(0)\n",
    "df_table['Fatality Rate'] = (100* df_table['Deaths']/ df_table['Cases']).round(2)"
   ]
  },
  {
   "cell_type": "code",
   "execution_count": 13,
   "metadata": {
    "execution": {
     "iopub.execute_input": "2020-10-29T08:31:12.357276Z",
     "iopub.status.busy": "2020-10-29T08:31:12.356594Z",
     "iopub.status.idle": "2020-10-29T08:31:12.358772Z",
     "shell.execute_reply": "2020-10-29T08:31:12.359165Z"
    },
    "papermill": {
     "duration": 0.025713,
     "end_time": "2020-10-29T08:31:12.359271",
     "exception": false,
     "start_time": "2020-10-29T08:31:12.333558",
     "status": "completed"
    },
    "tags": []
   },
   "outputs": [
    {
     "data": {
      "text/html": [
       "<div>\n",
       "<style scoped>\n",
       "    .dataframe tbody tr th:only-of-type {\n",
       "        vertical-align: middle;\n",
       "    }\n",
       "\n",
       "    .dataframe tbody tr th {\n",
       "        vertical-align: top;\n",
       "    }\n",
       "\n",
       "    .dataframe thead th {\n",
       "        text-align: right;\n",
       "    }\n",
       "</style>\n",
       "<table border=\"1\" class=\"dataframe\">\n",
       "  <thead>\n",
       "    <tr style=\"text-align: right;\">\n",
       "      <th></th>\n",
       "      <th>states</th>\n",
       "      <th>Cases</th>\n",
       "      <th>Deaths</th>\n",
       "      <th>PCases</th>\n",
       "      <th>PDeaths</th>\n",
       "      <th>Cases (+)</th>\n",
       "      <th>Deaths (+)</th>\n",
       "      <th>Fatality Rate</th>\n",
       "    </tr>\n",
       "  </thead>\n",
       "  <tbody>\n",
       "    <tr>\n",
       "      <th>0</th>\n",
       "      <td>Maharashtra</td>\n",
       "      <td>1660766</td>\n",
       "      <td>43554</td>\n",
       "      <td>1660766</td>\n",
       "      <td>43554</td>\n",
       "      <td>0</td>\n",
       "      <td>0</td>\n",
       "      <td>2.62</td>\n",
       "    </tr>\n",
       "    <tr>\n",
       "      <th>1</th>\n",
       "      <td>Andhra Pradesh</td>\n",
       "      <td>814774</td>\n",
       "      <td>6643</td>\n",
       "      <td>814774</td>\n",
       "      <td>6643</td>\n",
       "      <td>0</td>\n",
       "      <td>0</td>\n",
       "      <td>0.82</td>\n",
       "    </tr>\n",
       "    <tr>\n",
       "      <th>2</th>\n",
       "      <td>Karnataka</td>\n",
       "      <td>812784</td>\n",
       "      <td>11046</td>\n",
       "      <td>812784</td>\n",
       "      <td>11046</td>\n",
       "      <td>0</td>\n",
       "      <td>0</td>\n",
       "      <td>1.36</td>\n",
       "    </tr>\n",
       "    <tr>\n",
       "      <th>3</th>\n",
       "      <td>Tamil Nadu</td>\n",
       "      <td>716751</td>\n",
       "      <td>11018</td>\n",
       "      <td>716751</td>\n",
       "      <td>11018</td>\n",
       "      <td>0</td>\n",
       "      <td>0</td>\n",
       "      <td>1.54</td>\n",
       "    </tr>\n",
       "    <tr>\n",
       "      <th>4</th>\n",
       "      <td>Uttar Pradesh</td>\n",
       "      <td>476034</td>\n",
       "      <td>6958</td>\n",
       "      <td>476034</td>\n",
       "      <td>6958</td>\n",
       "      <td>0</td>\n",
       "      <td>0</td>\n",
       "      <td>1.46</td>\n",
       "    </tr>\n",
       "  </tbody>\n",
       "</table>\n",
       "</div>"
      ],
      "text/plain": [
       "           states    Cases  Deaths   PCases  PDeaths  Cases (+)  Deaths (+)  \\\n",
       "0     Maharashtra  1660766   43554  1660766    43554          0           0   \n",
       "1  Andhra Pradesh   814774    6643   814774     6643          0           0   \n",
       "2       Karnataka   812784   11046   812784    11046          0           0   \n",
       "3      Tamil Nadu   716751   11018   716751    11018          0           0   \n",
       "4   Uttar Pradesh   476034    6958   476034     6958          0           0   \n",
       "\n",
       "   Fatality Rate  \n",
       "0           2.62  \n",
       "1           0.82  \n",
       "2           1.36  \n",
       "3           1.54  \n",
       "4           1.46  "
      ]
     },
     "execution_count": 13,
     "metadata": {},
     "output_type": "execute_result"
    }
   ],
   "source": [
    "#hide\n",
    "df_table.head()"
   ]
  },
  {
   "cell_type": "code",
   "execution_count": 14,
   "metadata": {
    "execution": {
     "iopub.execute_input": "2020-10-29T08:31:12.389790Z",
     "iopub.status.busy": "2020-10-29T08:31:12.389326Z",
     "iopub.status.idle": "2020-10-29T08:31:12.405972Z",
     "shell.execute_reply": "2020-10-29T08:31:12.406413Z"
    },
    "papermill": {
     "duration": 0.034328,
     "end_time": "2020-10-29T08:31:12.406547",
     "exception": false,
     "start_time": "2020-10-29T08:31:12.372219",
     "status": "completed"
    },
    "tags": []
   },
   "outputs": [
    {
     "data": {
      "text/plain": [
       "{'updated': '2020-10-29',\n",
       " 'since': '2020-10-28',\n",
       " 'Cases': 8041051,\n",
       " 'PCases': 8039321,\n",
       " 'Deaths': 120583,\n",
       " 'PDeaths': 120569,\n",
       " 'Cases (+)': 1730,\n",
       " 'Deaths (+)': 14}"
      ]
     },
     "execution_count": 14,
     "metadata": {},
     "output_type": "execute_result"
    }
   ],
   "source": [
    "#hide\n",
    "summary = {'updated':dates[-1], 'since':dates[-2]}\n",
    "list_names = ['Cases', 'PCases', 'Deaths', 'PDeaths', 'Cases (+)', 'Deaths (+)']\n",
    "for name in list_names:\n",
    "    summary[name] = df_table.sum()[name]\n",
    "summary"
   ]
  },
  {
   "cell_type": "code",
   "execution_count": 15,
   "metadata": {
    "execution": {
     "iopub.execute_input": "2020-10-29T08:31:12.794356Z",
     "iopub.status.busy": "2020-10-29T08:31:12.793689Z",
     "iopub.status.idle": "2020-10-29T08:31:12.794989Z",
     "shell.execute_reply": "2020-10-29T08:31:12.795446Z"
    },
    "papermill": {
     "duration": 0.375467,
     "end_time": "2020-10-29T08:31:12.795592",
     "exception": false,
     "start_time": "2020-10-29T08:31:12.420125",
     "status": "completed"
    },
    "tags": []
   },
   "outputs": [],
   "source": [
    "#hide\n",
    "overview = '''\n",
    "<!-- #######  HTML!! #########-->\n",
    "<h1 style=\"color: #5e9ca0; text-align: center;\">India</h1>\n",
    "<p style=\"text-align: center;\">Last update: <strong>{update}</strong></p>\n",
    "<p style=\"text-align: center;\">Confirmed cases:</p>\n",
    "<p style=\"text-align: center;font-size:24px;\">{cases} (<span style=\"color: #ff0000;\">+{new}</span>)</p>\n",
    "<p style=\"text-align: center;\">Confirmed deaths:</p>\n",
    "<p style=\"text-align: center;font-size:24px;\">{deaths} (<span style=\"color: #ff0000;\">+{dnew}</span>)</p>\n",
    "'''"
   ]
  },
  {
   "cell_type": "code",
   "execution_count": 16,
   "metadata": {
    "execution": {
     "iopub.execute_input": "2020-10-29T08:31:14.152642Z",
     "iopub.status.busy": "2020-10-29T08:31:14.152099Z",
     "iopub.status.idle": "2020-10-29T08:31:14.154270Z",
     "shell.execute_reply": "2020-10-29T08:31:14.154718Z"
    },
    "papermill": {
     "duration": 0.615504,
     "end_time": "2020-10-29T08:31:14.154875",
     "exception": false,
     "start_time": "2020-10-29T08:31:13.539371",
     "status": "completed"
    },
    "tags": []
   },
   "outputs": [
    {
     "data": {
      "text/html": [
       "\n",
       "<!-- #######  HTML!! #########-->\n",
       "<h1 style=\"color: #5e9ca0; text-align: center;\">India</h1>\n",
       "<p style=\"text-align: center;\">Last update: <strong>2020-10-29</strong></p>\n",
       "<p style=\"text-align: center;\">Confirmed cases:</p>\n",
       "<p style=\"text-align: center;font-size:24px;\">8041051 (<span style=\"color: #ff0000;\">+1730</span>)</p>\n",
       "<p style=\"text-align: center;\">Confirmed deaths:</p>\n",
       "<p style=\"text-align: center;font-size:24px;\">120583 (<span style=\"color: #ff0000;\">+14</span>)</p>\n"
      ],
      "text/plain": [
       "<IPython.core.display.HTML object>"
      ]
     },
     "metadata": {},
     "output_type": "display_data"
    }
   ],
   "source": [
    "#hide_input\n",
    "update = summary['updated']\n",
    "cases = summary['Cases']\n",
    "new = summary['Cases (+)']\n",
    "deaths = summary['Deaths']\n",
    "dnew = summary['Deaths (+)']\n",
    "\n",
    "html = HTML(overview.format(update=update, cases=cases,new=new,deaths=deaths,dnew=dnew))\n",
    "\n",
    "display(html)"
   ]
  },
  {
   "cell_type": "code",
   "execution_count": 17,
   "metadata": {
    "execution": {
     "iopub.execute_input": "2020-10-29T08:31:14.191543Z",
     "iopub.status.busy": "2020-10-29T08:31:14.190953Z",
     "iopub.status.idle": "2020-10-29T08:31:14.196298Z",
     "shell.execute_reply": "2020-10-29T08:31:14.195898Z"
    },
    "papermill": {
     "duration": 0.027681,
     "end_time": "2020-10-29T08:31:14.196402",
     "exception": false,
     "start_time": "2020-10-29T08:31:14.168721",
     "status": "completed"
    },
    "tags": []
   },
   "outputs": [],
   "source": [
    "#hide\n",
    "dt_cols = list(dft_cases.columns[1:])\n",
    "dft_ct_new_cases = dft_cases.groupby('state')[dt_cols].sum().diff(axis=1).fillna(0).astype(int)\n",
    "dft_ct_new_cases.sort_values(by = dates[-1], ascending = False,inplace = True)"
   ]
  },
  {
   "cell_type": "code",
   "execution_count": 18,
   "metadata": {
    "execution": {
     "iopub.execute_input": "2020-10-29T08:31:14.240657Z",
     "iopub.status.busy": "2020-10-29T08:31:14.240180Z",
     "iopub.status.idle": "2020-10-29T08:31:14.242588Z",
     "shell.execute_reply": "2020-10-29T08:31:14.242981Z"
    },
    "papermill": {
     "duration": 0.032942,
     "end_time": "2020-10-29T08:31:14.243092",
     "exception": false,
     "start_time": "2020-10-29T08:31:14.210150",
     "status": "completed"
    },
    "tags": []
   },
   "outputs": [
    {
     "data": {
      "text/html": [
       "<div>\n",
       "<style scoped>\n",
       "    .dataframe tbody tr th:only-of-type {\n",
       "        vertical-align: middle;\n",
       "    }\n",
       "\n",
       "    .dataframe tbody tr th {\n",
       "        vertical-align: top;\n",
       "    }\n",
       "\n",
       "    .dataframe thead th {\n",
       "        text-align: right;\n",
       "    }\n",
       "</style>\n",
       "<table border=\"1\" class=\"dataframe\">\n",
       "  <thead>\n",
       "    <tr style=\"text-align: right;\">\n",
       "      <th>states</th>\n",
       "      <th>2020-07-01</th>\n",
       "      <th>2020-07-02</th>\n",
       "      <th>2020-07-03</th>\n",
       "      <th>2020-07-04</th>\n",
       "      <th>2020-07-05</th>\n",
       "      <th>2020-07-06</th>\n",
       "      <th>2020-07-07</th>\n",
       "      <th>2020-07-08</th>\n",
       "      <th>2020-07-09</th>\n",
       "      <th>2020-07-10</th>\n",
       "      <th>...</th>\n",
       "      <th>2020-10-20</th>\n",
       "      <th>2020-10-21</th>\n",
       "      <th>2020-10-22</th>\n",
       "      <th>2020-10-23</th>\n",
       "      <th>2020-10-24</th>\n",
       "      <th>2020-10-25</th>\n",
       "      <th>2020-10-26</th>\n",
       "      <th>2020-10-27</th>\n",
       "      <th>2020-10-28</th>\n",
       "      <th>2020-10-29</th>\n",
       "    </tr>\n",
       "    <tr>\n",
       "      <th>state</th>\n",
       "      <th></th>\n",
       "      <th></th>\n",
       "      <th></th>\n",
       "      <th></th>\n",
       "      <th></th>\n",
       "      <th></th>\n",
       "      <th></th>\n",
       "      <th></th>\n",
       "      <th></th>\n",
       "      <th></th>\n",
       "      <th></th>\n",
       "      <th></th>\n",
       "      <th></th>\n",
       "      <th></th>\n",
       "      <th></th>\n",
       "      <th></th>\n",
       "      <th></th>\n",
       "      <th></th>\n",
       "      <th></th>\n",
       "      <th></th>\n",
       "      <th></th>\n",
       "    </tr>\n",
       "  </thead>\n",
       "  <tbody>\n",
       "    <tr>\n",
       "      <th>Odisha</th>\n",
       "      <td>0</td>\n",
       "      <td>229</td>\n",
       "      <td>561</td>\n",
       "      <td>495</td>\n",
       "      <td>469</td>\n",
       "      <td>456</td>\n",
       "      <td>571</td>\n",
       "      <td>527</td>\n",
       "      <td>577</td>\n",
       "      <td>755</td>\n",
       "      <td>...</td>\n",
       "      <td>1904</td>\n",
       "      <td>1931</td>\n",
       "      <td>1913</td>\n",
       "      <td>1793</td>\n",
       "      <td>1695</td>\n",
       "      <td>1633</td>\n",
       "      <td>1480</td>\n",
       "      <td>1247</td>\n",
       "      <td>1540</td>\n",
       "      <td>1617</td>\n",
       "    </tr>\n",
       "    <tr>\n",
       "      <th>Tripura</th>\n",
       "      <td>0</td>\n",
       "      <td>39</td>\n",
       "      <td>93</td>\n",
       "      <td>25</td>\n",
       "      <td>23</td>\n",
       "      <td>111</td>\n",
       "      <td>24</td>\n",
       "      <td>57</td>\n",
       "      <td>16</td>\n",
       "      <td>142</td>\n",
       "      <td>...</td>\n",
       "      <td>135</td>\n",
       "      <td>112</td>\n",
       "      <td>125</td>\n",
       "      <td>145</td>\n",
       "      <td>65</td>\n",
       "      <td>86</td>\n",
       "      <td>36</td>\n",
       "      <td>36</td>\n",
       "      <td>160</td>\n",
       "      <td>113</td>\n",
       "    </tr>\n",
       "    <tr>\n",
       "      <th>Andaman and Nicobar Islands</th>\n",
       "      <td>0</td>\n",
       "      <td>9</td>\n",
       "      <td>7</td>\n",
       "      <td>3</td>\n",
       "      <td>6</td>\n",
       "      <td>16</td>\n",
       "      <td>6</td>\n",
       "      <td>2</td>\n",
       "      <td>7</td>\n",
       "      <td>0</td>\n",
       "      <td>...</td>\n",
       "      <td>15</td>\n",
       "      <td>27</td>\n",
       "      <td>16</td>\n",
       "      <td>23</td>\n",
       "      <td>18</td>\n",
       "      <td>20</td>\n",
       "      <td>8</td>\n",
       "      <td>21</td>\n",
       "      <td>15</td>\n",
       "      <td>0</td>\n",
       "    </tr>\n",
       "    <tr>\n",
       "      <th>Puducherry</th>\n",
       "      <td>0</td>\n",
       "      <td>63</td>\n",
       "      <td>22</td>\n",
       "      <td>80</td>\n",
       "      <td>42</td>\n",
       "      <td>65</td>\n",
       "      <td>30</td>\n",
       "      <td>110</td>\n",
       "      <td>49</td>\n",
       "      <td>72</td>\n",
       "      <td>...</td>\n",
       "      <td>205</td>\n",
       "      <td>170</td>\n",
       "      <td>210</td>\n",
       "      <td>154</td>\n",
       "      <td>126</td>\n",
       "      <td>81</td>\n",
       "      <td>143</td>\n",
       "      <td>146</td>\n",
       "      <td>101</td>\n",
       "      <td>0</td>\n",
       "    </tr>\n",
       "    <tr>\n",
       "      <th>Maharashtra</th>\n",
       "      <td>0</td>\n",
       "      <td>6328</td>\n",
       "      <td>6364</td>\n",
       "      <td>7074</td>\n",
       "      <td>6555</td>\n",
       "      <td>5368</td>\n",
       "      <td>5134</td>\n",
       "      <td>6603</td>\n",
       "      <td>6875</td>\n",
       "      <td>7862</td>\n",
       "      <td>...</td>\n",
       "      <td>8151</td>\n",
       "      <td>8142</td>\n",
       "      <td>7539</td>\n",
       "      <td>7347</td>\n",
       "      <td>6417</td>\n",
       "      <td>6059</td>\n",
       "      <td>3645</td>\n",
       "      <td>5363</td>\n",
       "      <td>6738</td>\n",
       "      <td>0</td>\n",
       "    </tr>\n",
       "  </tbody>\n",
       "</table>\n",
       "<p>5 rows × 121 columns</p>\n",
       "</div>"
      ],
      "text/plain": [
       "states                       2020-07-01  2020-07-02  2020-07-03  2020-07-04  \\\n",
       "state                                                                         \n",
       "Odisha                                0         229         561         495   \n",
       "Tripura                               0          39          93          25   \n",
       "Andaman and Nicobar Islands           0           9           7           3   \n",
       "Puducherry                            0          63          22          80   \n",
       "Maharashtra                           0        6328        6364        7074   \n",
       "\n",
       "states                       2020-07-05  2020-07-06  2020-07-07  2020-07-08  \\\n",
       "state                                                                         \n",
       "Odisha                              469         456         571         527   \n",
       "Tripura                              23         111          24          57   \n",
       "Andaman and Nicobar Islands           6          16           6           2   \n",
       "Puducherry                           42          65          30         110   \n",
       "Maharashtra                        6555        5368        5134        6603   \n",
       "\n",
       "states                       2020-07-09  2020-07-10  ...  2020-10-20  \\\n",
       "state                                                ...               \n",
       "Odisha                              577         755  ...        1904   \n",
       "Tripura                              16         142  ...         135   \n",
       "Andaman and Nicobar Islands           7           0  ...          15   \n",
       "Puducherry                           49          72  ...         205   \n",
       "Maharashtra                        6875        7862  ...        8151   \n",
       "\n",
       "states                       2020-10-21  2020-10-22  2020-10-23  2020-10-24  \\\n",
       "state                                                                         \n",
       "Odisha                             1931        1913        1793        1695   \n",
       "Tripura                             112         125         145          65   \n",
       "Andaman and Nicobar Islands          27          16          23          18   \n",
       "Puducherry                          170         210         154         126   \n",
       "Maharashtra                        8142        7539        7347        6417   \n",
       "\n",
       "states                       2020-10-25  2020-10-26  2020-10-27  2020-10-28  \\\n",
       "state                                                                         \n",
       "Odisha                             1633        1480        1247        1540   \n",
       "Tripura                              86          36          36         160   \n",
       "Andaman and Nicobar Islands          20           8          21          15   \n",
       "Puducherry                           81         143         146         101   \n",
       "Maharashtra                        6059        3645        5363        6738   \n",
       "\n",
       "states                       2020-10-29  \n",
       "state                                    \n",
       "Odisha                             1617  \n",
       "Tripura                             113  \n",
       "Andaman and Nicobar Islands           0  \n",
       "Puducherry                            0  \n",
       "Maharashtra                           0  \n",
       "\n",
       "[5 rows x 121 columns]"
      ]
     },
     "execution_count": 18,
     "metadata": {},
     "output_type": "execute_result"
    }
   ],
   "source": [
    "#hide\n",
    "dft_ct_new_cases.head()"
   ]
  },
  {
   "cell_type": "code",
   "execution_count": 19,
   "metadata": {
    "execution": {
     "iopub.execute_input": "2020-10-29T08:31:14.287240Z",
     "iopub.status.busy": "2020-10-29T08:31:14.281781Z",
     "iopub.status.idle": "2020-10-29T08:31:17.974572Z",
     "shell.execute_reply": "2020-10-29T08:31:17.974969Z"
    },
    "papermill": {
     "duration": 3.717165,
     "end_time": "2020-10-29T08:31:17.975105",
     "exception": false,
     "start_time": "2020-10-29T08:31:14.257940",
     "status": "completed"
    },
    "tags": []
   },
   "outputs": [
    {
     "data": {
      "image/png": "[encoded data removed]",
      "text/plain": [
       "<Figure size 1296x2016 with 11 Axes>"
      ]
     },
     "metadata": {
      "needs_background": "light"
     },
     "output_type": "display_data"
    }
   ],
   "source": [
    "#hide_input\n",
    "df = dft_ct_new_cases.copy()\n",
    "df.loc['Total'] = df.sum()\n",
    "n = 5\n",
    "ax = []\n",
    "fig = plt.figure(figsize = (18,28))\n",
    "gs = fig.add_gridspec(n+2, 5)\n",
    "# gs = fig.add_gridspec(2, 3)\n",
    "ax1 = fig.add_subplot(gs[0, :])\n",
    "ef = df.loc['Total'].rename_axis('date').reset_index()\n",
    "ef['date'] = ef['date'].astype('datetime64[ns]')\n",
    "ax1.bar(ef.date,ef.Total,alpha=0.3,color='#007acc')\n",
    "ax1.plot(ef.date,ef.Total , marker=\"o\", color='#007acc')\n",
    "ax1.xaxis.set_major_locator(mdates.WeekdayLocator())\n",
    "ax1.xaxis.set_major_formatter(mdates.DateFormatter('%b %d'))\n",
    "ax1.text(0.02, 0.5,'India daily case count', transform = ax1.transAxes, fontsize=25);\n",
    "ax1.spines['right'].set_visible(False)\n",
    "ax1.spines['top'].set_visible(False)\n",
    "\n",
    "ax2 = fig.add_subplot(gs[1,0])\n",
    "ef = df.loc['Maharashtra'].rename_axis('date').reset_index()\n",
    "ef['date'] = ef['date'].astype('datetime64[ns]')\n",
    "\n",
    "ax2.bar(ef.date, ef.Maharashtra,color = '#007acc',alpha=0.5)\n",
    "ax2.xaxis.set_major_locator(mdates.WeekdayLocator())\n",
    "ax2.xaxis.set_major_formatter(mdates.DateFormatter('%b %d'))\n",
    "ax2.set_xticks(ax2.get_xticks()[::3])\n",
    "maxyval = ef.Maharashtra.max()\n",
    "ax2.set_ylim([0,maxyval])\n",
    "ax2.text(0.05, 0.9,'Maharashtra', transform = ax2.transAxes, fontsize=20);\n",
    "ax2.spines['right'].set_visible(False)\n",
    "ax2.spines['top'].set_visible(False)\n",
    "\n",
    "\n",
    "ax3 = fig.add_subplot(gs[1,1])\n",
    "ef = df.loc['Tamil Nadu'].rename_axis('date').reset_index()\n",
    "ef['date'] = ef['date'].astype('datetime64[ns]')\n",
    "ax3.bar(ef.date, ef['Tamil Nadu'],color = '#007acc',alpha=0.5,)\n",
    "ax3.xaxis.set_major_locator(mdates.WeekdayLocator())\n",
    "ax3.xaxis.set_major_formatter(mdates.DateFormatter('%b %d'))\n",
    "ax3.set_xticks(ax3.get_xticks()[::3])\n",
    "ax3.text(0.05, 0.9,'Tamil Nadu', transform = ax3.transAxes, fontsize=20);\n",
    "ax3.spines['right'].set_visible(False)\n",
    "ax3.spines['top'].set_visible(False)\n",
    "\n",
    "ax5 = fig.add_subplot(gs[1,3])\n",
    "ef = df.loc['Telangana'].rename_axis('date').reset_index()\n",
    "ef['date'] = ef['date'].astype('datetime64[ns]')\n",
    "ax5.bar(ef.date, ef['Telangana'],color = '#007acc',alpha=0.5,)\n",
    "ax5.xaxis.set_major_locator(mdates.WeekdayLocator())\n",
    "ax5.xaxis.set_major_formatter(mdates.DateFormatter('%b %d'))\n",
    "ax5.set_xticks(ax5.get_xticks()[::3])\n",
    "ax5.text(0.05, 0.9,'Telangana', transform = ax5.transAxes, fontsize=20);\n",
    "ax5.spines['right'].set_visible(False)\n",
    "ax5.spines['top'].set_visible(False)\n",
    "\n",
    "ax6 = fig.add_subplot(gs[1,4])\n",
    "ef = df.loc['Andhra Pradesh'].rename_axis('date').reset_index()\n",
    "ef['date'] = ef['date'].astype('datetime64[ns]')\n",
    "ax6.bar(ef.date, ef['Andhra Pradesh'],color = '#007acc',alpha=0.5,)\n",
    "ax6.xaxis.set_major_locator(mdates.WeekdayLocator())\n",
    "ax6.xaxis.set_major_formatter(mdates.DateFormatter('%b %d'))\n",
    "ax6.set_xticks(ax6.get_xticks()[::3])\n",
    "ax6.text(0.05, 1,'Andhra Pradesh', transform = ax6.transAxes, fontsize=20);\n",
    "ax6.spines['right'].set_visible(False)\n",
    "ax6.spines['top'].set_visible(False)\n",
    "\n",
    "ax4 = fig.add_subplot(gs[1,2])\n",
    "ef = df.loc['Delhi'].rename_axis('date').reset_index()\n",
    "ef['date'] = ef['date'].astype('datetime64[ns]')\n",
    "ax4.bar(ef.date, ef.Delhi,color = '#007acc',alpha=0.5)\n",
    "ax4.set_xticks([])\n",
    "ax4.xaxis.set_major_locator(mdates.WeekdayLocator())\n",
    "ax4.xaxis.set_major_formatter(mdates.DateFormatter('%b %d'))\n",
    "ax4.set_xticks(ax4.get_xticks()[::3])\n",
    "ax4.spines['right'].set_visible(False)\n",
    "ax4.spines['top'].set_visible(False)\n",
    "\n",
    "ax4.text(0.05, 1,'Delhi', transform = ax4.transAxes, fontsize=20)\n",
    "\n",
    "for i in range(n):\n",
    "    \n",
    "    ax.append(fig.add_subplot(gs[i+2,:]))\n",
    "    ef = df.iloc[i+3].rename_axis('date').reset_index()\n",
    "    ef['date'] = ef['date'].astype('datetime64[ns]')\n",
    "    ax[i].bar(ef.date,ef.iloc[:,-1],color = '#007acc',alpha=0.3)\n",
    "    ax[i].plot(ef.date,ef.iloc[:,-1],marker='o',color='#007acc')\n",
    "    ax[i].text(0.02,0.5,f'{ef.columns.values[-1]}',transform = ax[i].transAxes, fontsize = 20);\n",
    "    ax[i].xaxis.set_major_locator(mdates.WeekdayLocator())\n",
    "    ax[i].xaxis.set_major_formatter(mdates.DateFormatter('%b %d'))\n",
    "    ax[i].set_ylim([0,7000])\n",
    "    ax[i].spines['right'].set_visible(False)\n",
    "    ax[i].spines['top'].set_visible(False)\n",
    "plt.tight_layout()\n"
   ]
  },
  {
   "cell_type": "code",
   "execution_count": 20,
   "metadata": {
    "execution": {
     "iopub.execute_input": "2020-10-29T08:31:18.020335Z",
     "iopub.status.busy": "2020-10-29T08:31:18.019711Z",
     "iopub.status.idle": "2020-10-29T08:31:18.022470Z",
     "shell.execute_reply": "2020-10-29T08:31:18.022115Z"
    },
    "papermill": {
     "duration": 0.029534,
     "end_time": "2020-10-29T08:31:18.022562",
     "exception": false,
     "start_time": "2020-10-29T08:31:17.993028",
     "status": "completed"
    },
    "tags": []
   },
   "outputs": [
    {
     "name": "stdout",
     "output_type": "stream",
     "text": [
      "                                   states    Cases  Deaths   PCases  PDeaths  Cases (+)  Deaths (+)  Fatality Rate\n",
      "                              Maharashtra  1660766   43554  1660766    43554          0           0           2.62\n",
      "                           Andhra Pradesh   814774    6643   814774     6643          0           0           0.82\n",
      "                                Karnataka   812784   11046   812784    11046          0           0           1.36\n",
      "                               Tamil Nadu   716751   11018   716751    11018          0           0           1.54\n",
      "                            Uttar Pradesh   476034    6958   476034     6958          0           0           1.46\n",
      "                                   Kerala   411465    1404   411465     1404          0           0           0.34\n",
      "                                    Delhi   370014    6396   370014     6396          0           0           1.73\n",
      "                              West Bengal   361703    6664   361703     6664          0           0           1.84\n",
      "                                   Odisha   287099    1350   285482     1337       1617          13           0.47\n",
      "                                Telangana   234152    1319   234152     1319          0           0           0.56\n",
      "                                    Bihar   214163    1069   214163     1069          0           0           0.50\n",
      "                                    Assam   205237     917   205237      917          0           0           0.45\n",
      "                                Rajasthan   191629    1877   191629     1877          0           0           0.98\n",
      "                             Chhattisgarh   181583    1936   181583     1936          0           0           1.07\n",
      "                                  Gujarat   170053    3704   170053     3704          0           0           2.18\n",
      "                           Madhya Pradesh   169271    2913   169271     2913          0           0           1.72\n",
      "                                  Haryana   162223    1758   162223     1758          0           0           1.08\n",
      "                                   Punjab   132263    4158   132263     4158          0           0           3.14\n",
      "                                Jharkhand   100569     880   100569      880          0           0           0.88\n",
      "                        Jammu and Kashmir    93213    1455    93213     1455          0           0           1.56\n",
      "                              Uttarakhand    61261    1009    61261     1009          0           0           1.65\n",
      "                                      Goa    42968     592    42968      592          0           0           1.38\n",
      "                               Puducherry    34583     590    34583      590          0           0           1.71\n",
      "                                  Tripura    30563     342    30450      341        113           1           1.12\n",
      "                         Himachal Pradesh    21149     295    21149      295          0           0           1.39\n",
      "                                  Manipur    17809     156    17809      156          0           0           0.88\n",
      "                        Arunachal Pradesh    14580      36    14580       36          0           0           0.25\n",
      "                               Chandigarh    14212     224    14212      224          0           0           1.58\n",
      "                                Meghalaya     9228      85     9228       85          0           0           0.92\n",
      "                                 Nagaland     8861      34     8861       34          0           0           0.38\n",
      "                                   Ladakh     6085      73     6085       73          0           0           1.20\n",
      "              Andaman and Nicobar Islands     4289      58     4289       58          0           0           1.35\n",
      "                                   Sikkim     3875      67     3875       67          0           0           1.73\n",
      " Dadra and Nagar Haveli and Daman and Diu     3235       2     3235        2          0           0           0.06\n",
      "                                  Mizoram     2607       1     2607        1          0           0           0.04\n",
      "                              Lakshadweep        0       0        0        0          0           0            NaN\n"
     ]
    }
   ],
   "source": [
    "#hide_input\n",
    "print(df_table.to_string(index=False))"
   ]
  },
  {
   "cell_type": "code",
   "execution_count": null,
   "metadata": {
    "papermill": {
     "duration": 0.019157,
     "end_time": "2020-10-29T08:31:18.059598",
     "exception": false,
     "start_time": "2020-10-29T08:31:18.040441",
     "status": "completed"
    },
    "tags": []
   },
   "outputs": [],
   "source": []
  },
  {
   "cell_type": "code",
   "execution_count": null,
   "metadata": {
    "papermill": {
     "duration": 0.019032,
     "end_time": "2020-10-29T08:31:18.097678",
     "exception": false,
     "start_time": "2020-10-29T08:31:18.078646",
     "status": "completed"
    },
    "tags": []
   },
   "outputs": [],
   "source": []
  }
 ],
 "metadata": {
  "kernelspec": {
   "display_name": "Python 3",
   "language": "python",
   "name": "python3"
  },
  "language_info": {
   "codemirror_mode": {
    "name": "ipython",
    "version": 3
   },
   "file_extension": ".py",
   "mimetype": "text/x-python",
   "name": "python",
   "nbconvert_exporter": "python",
   "pygments_lexer": "ipython3",
   "version": "3.6.12"
  },
  "papermill": {
   "duration": 11.016738,
   "end_time": "2020-10-29T08:31:18.523499",
   "environment_variables": {},
   "exception": null,
   "input_path": "latest.ipynb",
   "output_path": "latest.ipynb",
   "parameters": {},
   "start_time": "2020-10-29T08:31:07.506761",
   "version": "2.1.2"
  }
 },
 "nbformat": 4,
 "nbformat_minor": 4
}