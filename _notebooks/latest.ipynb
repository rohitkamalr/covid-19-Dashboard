{
 "cells": [
  {
   "cell_type": "markdown",
   "metadata": {
    "papermill": {
     "duration": 0.017722,
     "end_time": "2020-11-06T12:25:41.615182",
     "exception": false,
     "start_time": "2020-11-06T12:25:41.597460",
     "status": "completed"
    },
    "tags": []
   },
   "source": [
    "# Latest COVID-19 India Matplotlib Overview"
   ]
  },
  {
   "cell_type": "code",
   "execution_count": 1,
   "metadata": {
    "execution": {
     "iopub.execute_input": "2020-11-06T12:25:41.653510Z",
     "iopub.status.busy": "2020-11-06T12:25:41.652903Z",
     "iopub.status.idle": "2020-11-06T12:25:42.206840Z",
     "shell.execute_reply": "2020-11-06T12:25:42.207577Z"
    },
    "papermill": {
     "duration": 0.575353,
     "end_time": "2020-11-06T12:25:42.207749",
     "exception": false,
     "start_time": "2020-11-06T12:25:41.632396",
     "status": "completed"
    },
    "tags": []
   },
   "outputs": [],
   "source": [
    "#hide\n",
    "import pandas as pd\n",
    "import numpy as np\n",
    "import requests\n",
    "import json\n",
    "import matplotlib.pyplot as plt\n",
    "import matplotlib.dates as mdates\n",
    "import matplotlib as mpl\n",
    "from IPython.core.display import display,HTML\n",
    "%matplotlib inline\n",
    "from datetime import date"
   ]
  },
  {
   "cell_type": "code",
   "execution_count": 2,
   "metadata": {
    "execution": {
     "iopub.execute_input": "2020-11-06T12:25:42.241863Z",
     "iopub.status.busy": "2020-11-06T12:25:42.241083Z",
     "iopub.status.idle": "2020-11-06T12:25:42.676687Z",
     "shell.execute_reply": "2020-11-06T12:25:42.675974Z"
    },
    "papermill": {
     "duration": 0.455445,
     "end_time": "2020-11-06T12:25:42.676894",
     "exception": false,
     "start_time": "2020-11-06T12:25:42.221449",
     "status": "completed"
    },
    "tags": []
   },
   "outputs": [],
   "source": [
    "#hide\n",
    "df  = pd.read_csv('https://api.covid19india.org/csv/latest/states.csv')\n",
    "df = df[['Date','State','Confirmed','Deceased']]\n",
    "df = df.rename(columns={'Confirmed':'Cases', \"Deceased\":'Deaths'})\n",
    "df_cases = df[[\"Date\",'State','Cases']]\n",
    "df_deaths = df[['Date','State','Deaths']]\n",
    "df_cases1 = df_cases.groupby('Date')\n",
    "df_deaths1= df_deaths.groupby('Date')"
   ]
  },
  {
   "cell_type": "code",
   "execution_count": 3,
   "metadata": {
    "execution": {
     "iopub.execute_input": "2020-11-06T12:25:42.711983Z",
     "iopub.status.busy": "2020-11-06T12:25:42.711438Z",
     "iopub.status.idle": "2020-11-06T12:25:42.728703Z",
     "shell.execute_reply": "2020-11-06T12:25:42.728033Z"
    },
    "papermill": {
     "duration": 0.036883,
     "end_time": "2020-11-06T12:25:42.728832",
     "exception": false,
     "start_time": "2020-11-06T12:25:42.691949",
     "status": "completed"
    },
    "tags": []
   },
   "outputs": [],
   "source": [
    "#hide\n",
    "df_snap = pd.read_csv('data/SnapshotCases-28-July.csv')\n",
    "arr_states = df_snap['states'].unique()\n",
    "arr_dates = df['Date'].unique()\n",
    "df_snap = df_snap.set_index('states')"
   ]
  },
  {
   "cell_type": "code",
   "execution_count": 4,
   "metadata": {
    "execution": {
     "iopub.execute_input": "2020-11-06T12:25:42.765091Z",
     "iopub.status.busy": "2020-11-06T12:25:42.764552Z",
     "iopub.status.idle": "2020-11-06T12:25:42.768462Z",
     "shell.execute_reply": "2020-11-06T12:25:42.768931Z"
    },
    "papermill": {
     "duration": 0.02493,
     "end_time": "2020-11-06T12:25:42.769085",
     "exception": false,
     "start_time": "2020-11-06T12:25:42.744155",
     "status": "completed"
    },
    "tags": []
   },
   "outputs": [
    {
     "data": {
      "text/plain": [
       "array(['Andaman and Nicobar Islands', 'Andhra Pradesh',\n",
       "       'Arunachal Pradesh', 'Assam', 'Bihar', 'Chandigarh',\n",
       "       'Dadra and Nagar Haveli and Daman and Diu', 'Delhi', 'Goa',\n",
       "       'Gujarat', 'Haryana', 'Himachal Pradesh', 'Jammu and Kashmir',\n",
       "       'Jharkhand', 'Karnataka', 'Kerala', 'Lakshadweep',\n",
       "       'Madhya Pradesh', 'Maharashtra', 'Manipur', 'Meghalaya', 'Mizoram',\n",
       "       'Nagaland', 'Odisha', 'Puducherry', 'Punjab', 'Rajasthan',\n",
       "       'Sikkim', 'Tamil Nadu', 'Telangana', 'Tripura', 'Uttar Pradesh',\n",
       "       'West Bengal', 'Chhattisgarh', 'Ladakh', 'Uttarakhand'],\n",
       "      dtype=object)"
      ]
     },
     "execution_count": 4,
     "metadata": {},
     "output_type": "execute_result"
    }
   ],
   "source": [
    "#hide\n",
    "arr_states[-9] = 'Puducherry'\n",
    "arr_states[-10] = 'Odisha'\n",
    "arr_states[6] = 'Dadra and Nagar Haveli and Daman and Diu'\n",
    "arr_states = np.append(arr_states,np.array(['Chhattisgarh','Ladakh','Uttarakhand']))\n",
    "arr_states"
   ]
  },
  {
   "cell_type": "code",
   "execution_count": 5,
   "metadata": {
    "execution": {
     "iopub.execute_input": "2020-11-06T12:25:42.813907Z",
     "iopub.status.busy": "2020-11-06T12:25:42.813282Z",
     "iopub.status.idle": "2020-11-06T12:25:42.815955Z",
     "shell.execute_reply": "2020-11-06T12:25:42.815350Z"
    },
    "papermill": {
     "duration": 0.032952,
     "end_time": "2020-11-06T12:25:42.816188",
     "exception": false,
     "start_time": "2020-11-06T12:25:42.783236",
     "status": "completed"
    },
    "tags": []
   },
   "outputs": [],
   "source": [
    "#hide\n",
    "dates = []\n",
    "for i in arr_dates:\n",
    "    if i>='2020-07-01':\n",
    "        dates.append(i)\n",
    "dict = {'states':dates}\n",
    "for i in arr_states:\n",
    "    dict[i] = [0]*len(dates)\n",
    "dft_cases = pd.DataFrame(dict)\n",
    "dft_deaths = pd.DataFrame(dict)\n"
   ]
  },
  {
   "cell_type": "code",
   "execution_count": 6,
   "metadata": {
    "execution": {
     "iopub.execute_input": "2020-11-06T12:25:42.851015Z",
     "iopub.status.busy": "2020-11-06T12:25:42.850071Z",
     "iopub.status.idle": "2020-11-06T12:25:44.914862Z",
     "shell.execute_reply": "2020-11-06T12:25:44.914339Z"
    },
    "papermill": {
     "duration": 2.08389,
     "end_time": "2020-11-06T12:25:44.915011",
     "exception": false,
     "start_time": "2020-11-06T12:25:42.831121",
     "status": "completed"
    },
    "tags": []
   },
   "outputs": [],
   "source": [
    "#hide\n",
    "for i in range(len(dates)):\n",
    "    df1_deaths = df_deaths1.get_group(dates[i])\n",
    "    for j in range(len(df1_deaths.index)):\n",
    "        if df1_deaths.iloc[j,1] in arr_states:\n",
    "            dft_deaths.loc[i,df1_deaths.iloc[j,1]] = df1_deaths.iloc[j,2]\n",
    "dft_deaths = dft_deaths.set_index('states')"
   ]
  },
  {
   "cell_type": "code",
   "execution_count": 7,
   "metadata": {
    "execution": {
     "iopub.execute_input": "2020-11-06T12:25:44.953632Z",
     "iopub.status.busy": "2020-11-06T12:25:44.953092Z",
     "iopub.status.idle": "2020-11-06T12:25:47.038436Z",
     "shell.execute_reply": "2020-11-06T12:25:47.037867Z"
    },
    "papermill": {
     "duration": 2.106428,
     "end_time": "2020-11-06T12:25:47.038590",
     "exception": false,
     "start_time": "2020-11-06T12:25:44.932162",
     "status": "completed"
    },
    "tags": []
   },
   "outputs": [],
   "source": [
    "#hide\n",
    "for i in range(len(dates)):\n",
    "    df1_cases = df_cases1.get_group(dates[i])\n",
    "    for j in range(len(df1_cases.index)):\n",
    "        if df1_cases.iloc[j,1] in arr_states:\n",
    "            dft_cases.loc[i,df1_cases.iloc[j,1]] = df1_cases.iloc[j,2]\n",
    "dft_cases = dft_cases.set_index('states')"
   ]
  },
  {
   "cell_type": "code",
   "execution_count": 8,
   "metadata": {
    "execution": {
     "iopub.execute_input": "2020-11-06T12:25:47.076242Z",
     "iopub.status.busy": "2020-11-06T12:25:47.075675Z",
     "iopub.status.idle": "2020-11-06T12:25:47.078752Z",
     "shell.execute_reply": "2020-11-06T12:25:47.079334Z"
    },
    "papermill": {
     "duration": 0.024559,
     "end_time": "2020-11-06T12:25:47.079488",
     "exception": false,
     "start_time": "2020-11-06T12:25:47.054929",
     "status": "completed"
    },
    "tags": []
   },
   "outputs": [],
   "source": [
    "#hide\n",
    "dft_cases = dft_cases.T\n",
    "dft_deaths = dft_deaths.T\n",
    "dt_today = dates[-1]\n",
    "dt_yday = dates[-2]"
   ]
  },
  {
   "cell_type": "code",
   "execution_count": 9,
   "metadata": {
    "execution": {
     "iopub.execute_input": "2020-11-06T12:25:47.116106Z",
     "iopub.status.busy": "2020-11-06T12:25:47.115163Z",
     "iopub.status.idle": "2020-11-06T12:25:47.120590Z",
     "shell.execute_reply": "2020-11-06T12:25:47.120031Z"
    },
    "papermill": {
     "duration": 0.025962,
     "end_time": "2020-11-06T12:25:47.120722",
     "exception": false,
     "start_time": "2020-11-06T12:25:47.094760",
     "status": "completed"
    },
    "tags": []
   },
   "outputs": [],
   "source": [
    "#hide\n",
    "dft_cases = dft_cases.reset_index()\n",
    "dft_deaths = dft_deaths.reset_index()\n",
    "dft_cases = dft_cases.rename(columns = {'index':'state'})\n",
    "dft_deaths = dft_deaths.rename(columns = {'index':'state'})"
   ]
  },
  {
   "cell_type": "code",
   "execution_count": 10,
   "metadata": {
    "execution": {
     "iopub.execute_input": "2020-11-06T12:25:47.165861Z",
     "iopub.status.busy": "2020-11-06T12:25:47.164601Z",
     "iopub.status.idle": "2020-11-06T12:25:47.166532Z",
     "shell.execute_reply": "2020-11-06T12:25:47.167012Z"
    },
    "papermill": {
     "duration": 0.030268,
     "end_time": "2020-11-06T12:25:47.167147",
     "exception": false,
     "start_time": "2020-11-06T12:25:47.136879",
     "status": "completed"
    },
    "tags": []
   },
   "outputs": [],
   "source": [
    "#hide\n",
    "dfc_cases = dft_cases.groupby('state')[dt_today].sum()\n",
    "dfc_deaths = dft_deaths.groupby('state')[dt_today].sum()\n",
    "dfp_cases = dft_cases.groupby('state')[dt_yday].sum()\n",
    "dfp_deaths = dft_deaths.groupby('state')[dt_yday].sum()"
   ]
  },
  {
   "cell_type": "code",
   "execution_count": 11,
   "metadata": {
    "execution": {
     "iopub.execute_input": "2020-11-06T12:25:47.216028Z",
     "iopub.status.busy": "2020-11-06T12:25:47.207698Z",
     "iopub.status.idle": "2020-11-06T12:25:47.222622Z",
     "shell.execute_reply": "2020-11-06T12:25:47.223127Z"
    },
    "papermill": {
     "duration": 0.039819,
     "end_time": "2020-11-06T12:25:47.223332",
     "exception": false,
     "start_time": "2020-11-06T12:25:47.183513",
     "status": "completed"
    },
    "tags": []
   },
   "outputs": [
    {
     "data": {
      "text/html": [
       "<div>\n",
       "<style scoped>\n",
       "    .dataframe tbody tr th:only-of-type {\n",
       "        vertical-align: middle;\n",
       "    }\n",
       "\n",
       "    .dataframe tbody tr th {\n",
       "        vertical-align: top;\n",
       "    }\n",
       "\n",
       "    .dataframe thead th {\n",
       "        text-align: right;\n",
       "    }\n",
       "</style>\n",
       "<table border=\"1\" class=\"dataframe\">\n",
       "  <thead>\n",
       "    <tr style=\"text-align: right;\">\n",
       "      <th></th>\n",
       "      <th>states</th>\n",
       "      <th>Cases</th>\n",
       "      <th>Deaths</th>\n",
       "      <th>PCases</th>\n",
       "      <th>PDeaths</th>\n",
       "    </tr>\n",
       "  </thead>\n",
       "  <tbody>\n",
       "    <tr>\n",
       "      <th>0</th>\n",
       "      <td>Maharashtra</td>\n",
       "      <td>1703444</td>\n",
       "      <td>44804</td>\n",
       "      <td>1703444</td>\n",
       "      <td>44804</td>\n",
       "    </tr>\n",
       "    <tr>\n",
       "      <th>1</th>\n",
       "      <td>Karnataka</td>\n",
       "      <td>838929</td>\n",
       "      <td>11312</td>\n",
       "      <td>838929</td>\n",
       "      <td>11312</td>\n",
       "    </tr>\n",
       "    <tr>\n",
       "      <th>2</th>\n",
       "      <td>Andhra Pradesh</td>\n",
       "      <td>835953</td>\n",
       "      <td>6757</td>\n",
       "      <td>835953</td>\n",
       "      <td>6757</td>\n",
       "    </tr>\n",
       "    <tr>\n",
       "      <th>3</th>\n",
       "      <td>Tamil Nadu</td>\n",
       "      <td>736777</td>\n",
       "      <td>11272</td>\n",
       "      <td>736777</td>\n",
       "      <td>11272</td>\n",
       "    </tr>\n",
       "    <tr>\n",
       "      <th>4</th>\n",
       "      <td>Uttar Pradesh</td>\n",
       "      <td>491354</td>\n",
       "      <td>7131</td>\n",
       "      <td>491354</td>\n",
       "      <td>7131</td>\n",
       "    </tr>\n",
       "  </tbody>\n",
       "</table>\n",
       "</div>"
      ],
      "text/plain": [
       "           states    Cases  Deaths   PCases  PDeaths\n",
       "0     Maharashtra  1703444   44804  1703444    44804\n",
       "1       Karnataka   838929   11312   838929    11312\n",
       "2  Andhra Pradesh   835953    6757   835953     6757\n",
       "3      Tamil Nadu   736777   11272   736777    11272\n",
       "4   Uttar Pradesh   491354    7131   491354     7131"
      ]
     },
     "execution_count": 11,
     "metadata": {},
     "output_type": "execute_result"
    }
   ],
   "source": [
    "#hide\n",
    "df_table = pd.DataFrame({'states': dfc_cases.index, 'Cases': dfc_cases.values, 'Deaths': dfc_deaths.values, 'PCases': dfp_cases.values, 'PDeaths': dfp_deaths.values}).set_index('states')\n",
    "df_table = df_table.sort_values(by = ['Cases','Deaths'], ascending = [False, False])\n",
    "df_table = df_table.reset_index()\n",
    "df_table.head()"
   ]
  },
  {
   "cell_type": "code",
   "execution_count": 12,
   "metadata": {
    "execution": {
     "iopub.execute_input": "2020-11-06T12:25:47.261433Z",
     "iopub.status.busy": "2020-11-06T12:25:47.260887Z",
     "iopub.status.idle": "2020-11-06T12:25:47.269624Z",
     "shell.execute_reply": "2020-11-06T12:25:47.270153Z"
    },
    "papermill": {
     "duration": 0.028509,
     "end_time": "2020-11-06T12:25:47.270300",
     "exception": false,
     "start_time": "2020-11-06T12:25:47.241791",
     "status": "completed"
    },
    "tags": []
   },
   "outputs": [],
   "source": [
    "#hide\n",
    "for c in 'Cases, Deaths'.split(', '):\n",
    "    df_table[f'{c} (+)'] = (df_table[c] - df_table[f'P{c}']).clip(0)\n",
    "df_table['Fatality Rate'] = (100* df_table['Deaths']/ df_table['Cases']).round(2)"
   ]
  },
  {
   "cell_type": "code",
   "execution_count": 13,
   "metadata": {
    "execution": {
     "iopub.execute_input": "2020-11-06T12:25:47.312012Z",
     "iopub.status.busy": "2020-11-06T12:25:47.311439Z",
     "iopub.status.idle": "2020-11-06T12:25:47.313870Z",
     "shell.execute_reply": "2020-11-06T12:25:47.314375Z"
    },
    "papermill": {
     "duration": 0.02846,
     "end_time": "2020-11-06T12:25:47.314503",
     "exception": false,
     "start_time": "2020-11-06T12:25:47.286043",
     "status": "completed"
    },
    "tags": []
   },
   "outputs": [
    {
     "data": {
      "text/html": [
       "<div>\n",
       "<style scoped>\n",
       "    .dataframe tbody tr th:only-of-type {\n",
       "        vertical-align: middle;\n",
       "    }\n",
       "\n",
       "    .dataframe tbody tr th {\n",
       "        vertical-align: top;\n",
       "    }\n",
       "\n",
       "    .dataframe thead th {\n",
       "        text-align: right;\n",
       "    }\n",
       "</style>\n",
       "<table border=\"1\" class=\"dataframe\">\n",
       "  <thead>\n",
       "    <tr style=\"text-align: right;\">\n",
       "      <th></th>\n",
       "      <th>states</th>\n",
       "      <th>Cases</th>\n",
       "      <th>Deaths</th>\n",
       "      <th>PCases</th>\n",
       "      <th>PDeaths</th>\n",
       "      <th>Cases (+)</th>\n",
       "      <th>Deaths (+)</th>\n",
       "      <th>Fatality Rate</th>\n",
       "    </tr>\n",
       "  </thead>\n",
       "  <tbody>\n",
       "    <tr>\n",
       "      <th>0</th>\n",
       "      <td>Maharashtra</td>\n",
       "      <td>1703444</td>\n",
       "      <td>44804</td>\n",
       "      <td>1703444</td>\n",
       "      <td>44804</td>\n",
       "      <td>0</td>\n",
       "      <td>0</td>\n",
       "      <td>2.63</td>\n",
       "    </tr>\n",
       "    <tr>\n",
       "      <th>1</th>\n",
       "      <td>Karnataka</td>\n",
       "      <td>838929</td>\n",
       "      <td>11312</td>\n",
       "      <td>838929</td>\n",
       "      <td>11312</td>\n",
       "      <td>0</td>\n",
       "      <td>0</td>\n",
       "      <td>1.35</td>\n",
       "    </tr>\n",
       "    <tr>\n",
       "      <th>2</th>\n",
       "      <td>Andhra Pradesh</td>\n",
       "      <td>835953</td>\n",
       "      <td>6757</td>\n",
       "      <td>835953</td>\n",
       "      <td>6757</td>\n",
       "      <td>0</td>\n",
       "      <td>0</td>\n",
       "      <td>0.81</td>\n",
       "    </tr>\n",
       "    <tr>\n",
       "      <th>3</th>\n",
       "      <td>Tamil Nadu</td>\n",
       "      <td>736777</td>\n",
       "      <td>11272</td>\n",
       "      <td>736777</td>\n",
       "      <td>11272</td>\n",
       "      <td>0</td>\n",
       "      <td>0</td>\n",
       "      <td>1.53</td>\n",
       "    </tr>\n",
       "    <tr>\n",
       "      <th>4</th>\n",
       "      <td>Uttar Pradesh</td>\n",
       "      <td>491354</td>\n",
       "      <td>7131</td>\n",
       "      <td>491354</td>\n",
       "      <td>7131</td>\n",
       "      <td>0</td>\n",
       "      <td>0</td>\n",
       "      <td>1.45</td>\n",
       "    </tr>\n",
       "  </tbody>\n",
       "</table>\n",
       "</div>"
      ],
      "text/plain": [
       "           states    Cases  Deaths   PCases  PDeaths  Cases (+)  Deaths (+)  \\\n",
       "0     Maharashtra  1703444   44804  1703444    44804          0           0   \n",
       "1       Karnataka   838929   11312   838929    11312          0           0   \n",
       "2  Andhra Pradesh   835953    6757   835953     6757          0           0   \n",
       "3      Tamil Nadu   736777   11272   736777    11272          0           0   \n",
       "4   Uttar Pradesh   491354    7131   491354     7131          0           0   \n",
       "\n",
       "   Fatality Rate  \n",
       "0           2.63  \n",
       "1           1.35  \n",
       "2           0.81  \n",
       "3           1.53  \n",
       "4           1.45  "
      ]
     },
     "execution_count": 13,
     "metadata": {},
     "output_type": "execute_result"
    }
   ],
   "source": [
    "#hide\n",
    "df_table.head()"
   ]
  },
  {
   "cell_type": "code",
   "execution_count": 14,
   "metadata": {
    "execution": {
     "iopub.execute_input": "2020-11-06T12:25:47.352410Z",
     "iopub.status.busy": "2020-11-06T12:25:47.351716Z",
     "iopub.status.idle": "2020-11-06T12:25:47.368904Z",
     "shell.execute_reply": "2020-11-06T12:25:47.368375Z"
    },
    "papermill": {
     "duration": 0.038843,
     "end_time": "2020-11-06T12:25:47.369051",
     "exception": false,
     "start_time": "2020-11-06T12:25:47.330208",
     "status": "completed"
    },
    "tags": []
   },
   "outputs": [
    {
     "data": {
      "text/plain": [
       "{'updated': '2020-11-06',\n",
       " 'since': '2020-11-05',\n",
       " 'Cases': 8412528,\n",
       " 'PCases': 8411034,\n",
       " 'Deaths': 125044,\n",
       " 'PDeaths': 125029,\n",
       " 'Cases (+)': 1494,\n",
       " 'Deaths (+)': 15}"
      ]
     },
     "execution_count": 14,
     "metadata": {},
     "output_type": "execute_result"
    }
   ],
   "source": [
    "#hide\n",
    "summary = {'updated':dates[-1], 'since':dates[-2]}\n",
    "list_names = ['Cases', 'PCases', 'Deaths', 'PDeaths', 'Cases (+)', 'Deaths (+)']\n",
    "for name in list_names:\n",
    "    summary[name] = df_table.sum()[name]\n",
    "summary"
   ]
  },
  {
   "cell_type": "code",
   "execution_count": 15,
   "metadata": {
    "execution": {
     "iopub.execute_input": "2020-11-06T12:25:47.407071Z",
     "iopub.status.busy": "2020-11-06T12:25:47.406500Z",
     "iopub.status.idle": "2020-11-06T12:25:47.408325Z",
     "shell.execute_reply": "2020-11-06T12:25:47.408774Z"
    },
    "papermill": {
     "duration": 0.022804,
     "end_time": "2020-11-06T12:25:47.408895",
     "exception": false,
     "start_time": "2020-11-06T12:25:47.386091",
     "status": "completed"
    },
    "tags": []
   },
   "outputs": [],
   "source": [
    "#hide\n",
    "overview = '''\n",
    "<!-- #######  HTML!! #########-->\n",
    "<h1 style=\"color: #5e9ca0; text-align: center;\">India</h1>\n",
    "<p style=\"text-align: center;\">Last update: <strong>{update}</strong></p>\n",
    "<p style=\"text-align: center;\">Confirmed cases:</p>\n",
    "<p style=\"text-align: center;font-size:24px;\">{cases} (<span style=\"color: #ff0000;\">+{new}</span>)</p>\n",
    "<p style=\"text-align: center;\">Confirmed deaths:</p>\n",
    "<p style=\"text-align: center;font-size:24px;\">{deaths} (<span style=\"color: #ff0000;\">+{dnew}</span>)</p>\n",
    "'''"
   ]
  },
  {
   "cell_type": "code",
   "execution_count": 16,
   "metadata": {
    "execution": {
     "iopub.execute_input": "2020-11-06T12:25:47.443514Z",
     "iopub.status.busy": "2020-11-06T12:25:47.442933Z",
     "iopub.status.idle": "2020-11-06T12:25:47.446216Z",
     "shell.execute_reply": "2020-11-06T12:25:47.445779Z"
    },
    "papermill": {
     "duration": 0.022772,
     "end_time": "2020-11-06T12:25:47.446318",
     "exception": false,
     "start_time": "2020-11-06T12:25:47.423546",
     "status": "completed"
    },
    "tags": []
   },
   "outputs": [
    {
     "data": {
      "text/html": [
       "\n",
       "<!-- #######  HTML!! #########-->\n",
       "<h1 style=\"color: #5e9ca0; text-align: center;\">India</h1>\n",
       "<p style=\"text-align: center;\">Last update: <strong>2020-11-06</strong></p>\n",
       "<p style=\"text-align: center;\">Confirmed cases:</p>\n",
       "<p style=\"text-align: center;font-size:24px;\">8412528 (<span style=\"color: #ff0000;\">+1494</span>)</p>\n",
       "<p style=\"text-align: center;\">Confirmed deaths:</p>\n",
       "<p style=\"text-align: center;font-size:24px;\">125044 (<span style=\"color: #ff0000;\">+15</span>)</p>\n"
      ],
      "text/plain": [
       "<IPython.core.display.HTML object>"
      ]
     },
     "metadata": {},
     "output_type": "display_data"
    }
   ],
   "source": [
    "#hide_input\n",
    "update = summary['updated']\n",
    "cases = summary['Cases']\n",
    "new = summary['Cases (+)']\n",
    "deaths = summary['Deaths']\n",
    "dnew = summary['Deaths (+)']\n",
    "\n",
    "html = HTML(overview.format(update=update, cases=cases,new=new,deaths=deaths,dnew=dnew))\n",
    "\n",
    "display(html)"
   ]
  },
  {
   "cell_type": "code",
   "execution_count": 17,
   "metadata": {
    "execution": {
     "iopub.execute_input": "2020-11-06T12:25:47.487619Z",
     "iopub.status.busy": "2020-11-06T12:25:47.486901Z",
     "iopub.status.idle": "2020-11-06T12:25:47.492985Z",
     "shell.execute_reply": "2020-11-06T12:25:47.492416Z"
    },
    "papermill": {
     "duration": 0.030214,
     "end_time": "2020-11-06T12:25:47.493108",
     "exception": false,
     "start_time": "2020-11-06T12:25:47.462894",
     "status": "completed"
    },
    "tags": []
   },
   "outputs": [],
   "source": [
    "#hide\n",
    "dt_cols = list(dft_cases.columns[1:])\n",
    "dft_ct_new_cases = dft_cases.groupby('state')[dt_cols].sum().diff(axis=1).fillna(0).astype(int)\n",
    "dft_ct_new_cases.sort_values(by = dates[-1], ascending = False,inplace = True)"
   ]
  },
  {
   "cell_type": "code",
   "execution_count": 18,
   "metadata": {
    "execution": {
     "iopub.execute_input": "2020-11-06T12:25:47.535315Z",
     "iopub.status.busy": "2020-11-06T12:25:47.534455Z",
     "iopub.status.idle": "2020-11-06T12:25:47.543808Z",
     "shell.execute_reply": "2020-11-06T12:25:47.543370Z"
    },
    "papermill": {
     "duration": 0.0347,
     "end_time": "2020-11-06T12:25:47.543912",
     "exception": false,
     "start_time": "2020-11-06T12:25:47.509212",
     "status": "completed"
    },
    "tags": []
   },
   "outputs": [
    {
     "data": {
      "text/html": [
       "<div>\n",
       "<style scoped>\n",
       "    .dataframe tbody tr th:only-of-type {\n",
       "        vertical-align: middle;\n",
       "    }\n",
       "\n",
       "    .dataframe tbody tr th {\n",
       "        vertical-align: top;\n",
       "    }\n",
       "\n",
       "    .dataframe thead th {\n",
       "        text-align: right;\n",
       "    }\n",
       "</style>\n",
       "<table border=\"1\" class=\"dataframe\">\n",
       "  <thead>\n",
       "    <tr style=\"text-align: right;\">\n",
       "      <th>states</th>\n",
       "      <th>2020-07-01</th>\n",
       "      <th>2020-07-02</th>\n",
       "      <th>2020-07-03</th>\n",
       "      <th>2020-07-04</th>\n",
       "      <th>2020-07-05</th>\n",
       "      <th>2020-07-06</th>\n",
       "      <th>2020-07-07</th>\n",
       "      <th>2020-07-08</th>\n",
       "      <th>2020-07-09</th>\n",
       "      <th>2020-07-10</th>\n",
       "      <th>...</th>\n",
       "      <th>2020-10-28</th>\n",
       "      <th>2020-10-29</th>\n",
       "      <th>2020-10-30</th>\n",
       "      <th>2020-10-31</th>\n",
       "      <th>2020-11-01</th>\n",
       "      <th>2020-11-02</th>\n",
       "      <th>2020-11-03</th>\n",
       "      <th>2020-11-04</th>\n",
       "      <th>2020-11-05</th>\n",
       "      <th>2020-11-06</th>\n",
       "    </tr>\n",
       "    <tr>\n",
       "      <th>state</th>\n",
       "      <th></th>\n",
       "      <th></th>\n",
       "      <th></th>\n",
       "      <th></th>\n",
       "      <th></th>\n",
       "      <th></th>\n",
       "      <th></th>\n",
       "      <th></th>\n",
       "      <th></th>\n",
       "      <th></th>\n",
       "      <th></th>\n",
       "      <th></th>\n",
       "      <th></th>\n",
       "      <th></th>\n",
       "      <th></th>\n",
       "      <th></th>\n",
       "      <th></th>\n",
       "      <th></th>\n",
       "      <th></th>\n",
       "      <th></th>\n",
       "      <th></th>\n",
       "    </tr>\n",
       "  </thead>\n",
       "  <tbody>\n",
       "    <tr>\n",
       "      <th>Odisha</th>\n",
       "      <td>0</td>\n",
       "      <td>229</td>\n",
       "      <td>561</td>\n",
       "      <td>495</td>\n",
       "      <td>469</td>\n",
       "      <td>456</td>\n",
       "      <td>571</td>\n",
       "      <td>527</td>\n",
       "      <td>577</td>\n",
       "      <td>755</td>\n",
       "      <td>...</td>\n",
       "      <td>1540</td>\n",
       "      <td>1617</td>\n",
       "      <td>1547</td>\n",
       "      <td>1470</td>\n",
       "      <td>1709</td>\n",
       "      <td>1389</td>\n",
       "      <td>1201</td>\n",
       "      <td>1474</td>\n",
       "      <td>1385</td>\n",
       "      <td>1494</td>\n",
       "    </tr>\n",
       "    <tr>\n",
       "      <th>Andaman and Nicobar Islands</th>\n",
       "      <td>0</td>\n",
       "      <td>9</td>\n",
       "      <td>7</td>\n",
       "      <td>3</td>\n",
       "      <td>6</td>\n",
       "      <td>16</td>\n",
       "      <td>6</td>\n",
       "      <td>2</td>\n",
       "      <td>7</td>\n",
       "      <td>0</td>\n",
       "      <td>...</td>\n",
       "      <td>15</td>\n",
       "      <td>16</td>\n",
       "      <td>12</td>\n",
       "      <td>15</td>\n",
       "      <td>8</td>\n",
       "      <td>12</td>\n",
       "      <td>20</td>\n",
       "      <td>17</td>\n",
       "      <td>14</td>\n",
       "      <td>0</td>\n",
       "    </tr>\n",
       "    <tr>\n",
       "      <th>Andhra Pradesh</th>\n",
       "      <td>0</td>\n",
       "      <td>845</td>\n",
       "      <td>837</td>\n",
       "      <td>765</td>\n",
       "      <td>998</td>\n",
       "      <td>1322</td>\n",
       "      <td>1178</td>\n",
       "      <td>1062</td>\n",
       "      <td>1555</td>\n",
       "      <td>1608</td>\n",
       "      <td>...</td>\n",
       "      <td>2949</td>\n",
       "      <td>2905</td>\n",
       "      <td>2886</td>\n",
       "      <td>2783</td>\n",
       "      <td>2618</td>\n",
       "      <td>1916</td>\n",
       "      <td>2849</td>\n",
       "      <td>2477</td>\n",
       "      <td>2745</td>\n",
       "      <td>0</td>\n",
       "    </tr>\n",
       "    <tr>\n",
       "      <th>Maharashtra</th>\n",
       "      <td>0</td>\n",
       "      <td>6328</td>\n",
       "      <td>6364</td>\n",
       "      <td>7074</td>\n",
       "      <td>6555</td>\n",
       "      <td>5368</td>\n",
       "      <td>5134</td>\n",
       "      <td>6603</td>\n",
       "      <td>6875</td>\n",
       "      <td>7862</td>\n",
       "      <td>...</td>\n",
       "      <td>6738</td>\n",
       "      <td>5902</td>\n",
       "      <td>6190</td>\n",
       "      <td>5548</td>\n",
       "      <td>5369</td>\n",
       "      <td>4009</td>\n",
       "      <td>4909</td>\n",
       "      <td>5505</td>\n",
       "      <td>5246</td>\n",
       "      <td>0</td>\n",
       "    </tr>\n",
       "    <tr>\n",
       "      <th>Manipur</th>\n",
       "      <td>0</td>\n",
       "      <td>19</td>\n",
       "      <td>37</td>\n",
       "      <td>9</td>\n",
       "      <td>41</td>\n",
       "      <td>24</td>\n",
       "      <td>40</td>\n",
       "      <td>5</td>\n",
       "      <td>15</td>\n",
       "      <td>132</td>\n",
       "      <td>...</td>\n",
       "      <td>205</td>\n",
       "      <td>242</td>\n",
       "      <td>221</td>\n",
       "      <td>230</td>\n",
       "      <td>248</td>\n",
       "      <td>341</td>\n",
       "      <td>150</td>\n",
       "      <td>262</td>\n",
       "      <td>222</td>\n",
       "      <td>0</td>\n",
       "    </tr>\n",
       "  </tbody>\n",
       "</table>\n",
       "<p>5 rows × 129 columns</p>\n",
       "</div>"
      ],
      "text/plain": [
       "states                       2020-07-01  2020-07-02  2020-07-03  2020-07-04  \\\n",
       "state                                                                         \n",
       "Odisha                                0         229         561         495   \n",
       "Andaman and Nicobar Islands           0           9           7           3   \n",
       "Andhra Pradesh                        0         845         837         765   \n",
       "Maharashtra                           0        6328        6364        7074   \n",
       "Manipur                               0          19          37           9   \n",
       "\n",
       "states                       2020-07-05  2020-07-06  2020-07-07  2020-07-08  \\\n",
       "state                                                                         \n",
       "Odisha                              469         456         571         527   \n",
       "Andaman and Nicobar Islands           6          16           6           2   \n",
       "Andhra Pradesh                      998        1322        1178        1062   \n",
       "Maharashtra                        6555        5368        5134        6603   \n",
       "Manipur                              41          24          40           5   \n",
       "\n",
       "states                       2020-07-09  2020-07-10  ...  2020-10-28  \\\n",
       "state                                                ...               \n",
       "Odisha                              577         755  ...        1540   \n",
       "Andaman and Nicobar Islands           7           0  ...          15   \n",
       "Andhra Pradesh                     1555        1608  ...        2949   \n",
       "Maharashtra                        6875        7862  ...        6738   \n",
       "Manipur                              15         132  ...         205   \n",
       "\n",
       "states                       2020-10-29  2020-10-30  2020-10-31  2020-11-01  \\\n",
       "state                                                                         \n",
       "Odisha                             1617        1547        1470        1709   \n",
       "Andaman and Nicobar Islands          16          12          15           8   \n",
       "Andhra Pradesh                     2905        2886        2783        2618   \n",
       "Maharashtra                        5902        6190        5548        5369   \n",
       "Manipur                             242         221         230         248   \n",
       "\n",
       "states                       2020-11-02  2020-11-03  2020-11-04  2020-11-05  \\\n",
       "state                                                                         \n",
       "Odisha                             1389        1201        1474        1385   \n",
       "Andaman and Nicobar Islands          12          20          17          14   \n",
       "Andhra Pradesh                     1916        2849        2477        2745   \n",
       "Maharashtra                        4009        4909        5505        5246   \n",
       "Manipur                             341         150         262         222   \n",
       "\n",
       "states                       2020-11-06  \n",
       "state                                    \n",
       "Odisha                             1494  \n",
       "Andaman and Nicobar Islands           0  \n",
       "Andhra Pradesh                        0  \n",
       "Maharashtra                           0  \n",
       "Manipur                               0  \n",
       "\n",
       "[5 rows x 129 columns]"
      ]
     },
     "execution_count": 18,
     "metadata": {},
     "output_type": "execute_result"
    }
   ],
   "source": [
    "#hide\n",
    "dft_ct_new_cases.head()"
   ]
  },
  {
   "cell_type": "code",
   "execution_count": 19,
   "metadata": {
    "execution": {
     "iopub.execute_input": "2020-11-06T12:25:47.586874Z",
     "iopub.status.busy": "2020-11-06T12:25:47.586253Z",
     "iopub.status.idle": "2020-11-06T12:25:53.238757Z",
     "shell.execute_reply": "2020-11-06T12:25:53.239189Z"
    },
    "papermill": {
     "duration": 5.678664,
     "end_time": "2020-11-06T12:25:53.239332",
     "exception": false,
     "start_time": "2020-11-06T12:25:47.560668",
     "status": "completed"
    },
    "tags": []
   },
   "outputs": [
    {
     "data": {
      "image/png": "[encoded data removed]",
      "text/plain": [
       "<Figure size 1296x2016 with 11 Axes>"
      ]
     },
     "metadata": {
      "needs_background": "light"
     },
     "output_type": "display_data"
    }
   ],
   "source": [
    "#hide_input\n",
    "df = dft_ct_new_cases.copy()\n",
    "df.loc['Total'] = df.sum()\n",
    "n = 5\n",
    "ax = []\n",
    "fig = plt.figure(figsize = (18,28))\n",
    "gs = fig.add_gridspec(n+2, 5)\n",
    "# gs = fig.add_gridspec(2, 3)\n",
    "ax1 = fig.add_subplot(gs[0, :])\n",
    "ef = df.loc['Total'].rename_axis('date').reset_index()\n",
    "ef['date'] = ef['date'].astype('datetime64[ns]')\n",
    "ax1.bar(ef.date,ef.Total,alpha=0.3,color='#007acc')\n",
    "ax1.plot(ef.date,ef.Total , marker=\"o\", color='#007acc')\n",
    "ax1.xaxis.set_major_locator(mdates.WeekdayLocator())\n",
    "ax1.xaxis.set_major_formatter(mdates.DateFormatter('%b %d'))\n",
    "ax1.text(0.02, 0.5,'India daily case count', transform = ax1.transAxes, fontsize=25);\n",
    "ax1.spines['right'].set_visible(False)\n",
    "ax1.spines['top'].set_visible(False)\n",
    "\n",
    "ax2 = fig.add_subplot(gs[1,0])\n",
    "ef = df.loc['Maharashtra'].rename_axis('date').reset_index()\n",
    "ef['date'] = ef['date'].astype('datetime64[ns]')\n",
    "\n",
    "ax2.bar(ef.date, ef.Maharashtra,color = '#007acc',alpha=0.5)\n",
    "ax2.xaxis.set_major_locator(mdates.WeekdayLocator())\n",
    "ax2.xaxis.set_major_formatter(mdates.DateFormatter('%b %d'))\n",
    "ax2.set_xticks(ax2.get_xticks()[::3])\n",
    "maxyval = ef.Maharashtra.max()\n",
    "ax2.set_ylim([0,maxyval])\n",
    "ax2.text(0.05, 0.9,'Maharashtra', transform = ax2.transAxes, fontsize=20);\n",
    "ax2.spines['right'].set_visible(False)\n",
    "ax2.spines['top'].set_visible(False)\n",
    "\n",
    "\n",
    "ax3 = fig.add_subplot(gs[1,1])\n",
    "ef = df.loc['Tamil Nadu'].rename_axis('date').reset_index()\n",
    "ef['date'] = ef['date'].astype('datetime64[ns]')\n",
    "ax3.bar(ef.date, ef['Tamil Nadu'],color = '#007acc',alpha=0.5,)\n",
    "ax3.xaxis.set_major_locator(mdates.WeekdayLocator())\n",
    "ax3.xaxis.set_major_formatter(mdates.DateFormatter('%b %d'))\n",
    "ax3.set_xticks(ax3.get_xticks()[::3])\n",
    "ax3.text(0.05, 0.9,'Tamil Nadu', transform = ax3.transAxes, fontsize=20);\n",
    "ax3.spines['right'].set_visible(False)\n",
    "ax3.spines['top'].set_visible(False)\n",
    "\n",
    "ax5 = fig.add_subplot(gs[1,3])\n",
    "ef = df.loc['Telangana'].rename_axis('date').reset_index()\n",
    "ef['date'] = ef['date'].astype('datetime64[ns]')\n",
    "ax5.bar(ef.date, ef['Telangana'],color = '#007acc',alpha=0.5,)\n",
    "ax5.xaxis.set_major_locator(mdates.WeekdayLocator())\n",
    "ax5.xaxis.set_major_formatter(mdates.DateFormatter('%b %d'))\n",
    "ax5.set_xticks(ax5.get_xticks()[::3])\n",
    "ax5.text(0.05, 0.9,'Telangana', transform = ax5.transAxes, fontsize=20);\n",
    "ax5.spines['right'].set_visible(False)\n",
    "ax5.spines['top'].set_visible(False)\n",
    "\n",
    "ax6 = fig.add_subplot(gs[1,4])\n",
    "ef = df.loc['Andhra Pradesh'].rename_axis('date').reset_index()\n",
    "ef['date'] = ef['date'].astype('datetime64[ns]')\n",
    "ax6.bar(ef.date, ef['Andhra Pradesh'],color = '#007acc',alpha=0.5,)\n",
    "ax6.xaxis.set_major_locator(mdates.WeekdayLocator())\n",
    "ax6.xaxis.set_major_formatter(mdates.DateFormatter('%b %d'))\n",
    "ax6.set_xticks(ax6.get_xticks()[::3])\n",
    "ax6.text(0.05, 1,'Andhra Pradesh', transform = ax6.transAxes, fontsize=20);\n",
    "ax6.spines['right'].set_visible(False)\n",
    "ax6.spines['top'].set_visible(False)\n",
    "\n",
    "ax4 = fig.add_subplot(gs[1,2])\n",
    "ef = df.loc['Delhi'].rename_axis('date').reset_index()\n",
    "ef['date'] = ef['date'].astype('datetime64[ns]')\n",
    "ax4.bar(ef.date, ef.Delhi,color = '#007acc',alpha=0.5)\n",
    "ax4.set_xticks([])\n",
    "ax4.xaxis.set_major_locator(mdates.WeekdayLocator())\n",
    "ax4.xaxis.set_major_formatter(mdates.DateFormatter('%b %d'))\n",
    "ax4.set_xticks(ax4.get_xticks()[::3])\n",
    "ax4.spines['right'].set_visible(False)\n",
    "ax4.spines['top'].set_visible(False)\n",
    "\n",
    "ax4.text(0.05, 1,'Delhi', transform = ax4.transAxes, fontsize=20)\n",
    "\n",
    "for i in range(n):\n",
    "    \n",
    "    ax.append(fig.add_subplot(gs[i+2,:]))\n",
    "    ef = df.iloc[i+3].rename_axis('date').reset_index()\n",
    "    ef['date'] = ef['date'].astype('datetime64[ns]')\n",
    "    ax[i].bar(ef.date,ef.iloc[:,-1],color = '#007acc',alpha=0.3)\n",
    "    ax[i].plot(ef.date,ef.iloc[:,-1],marker='o',color='#007acc')\n",
    "    ax[i].text(0.02,0.5,f'{ef.columns.values[-1]}',transform = ax[i].transAxes, fontsize = 20);\n",
    "    ax[i].xaxis.set_major_locator(mdates.WeekdayLocator())\n",
    "    ax[i].xaxis.set_major_formatter(mdates.DateFormatter('%b %d'))\n",
    "    ax[i].set_ylim([0,7000])\n",
    "    ax[i].spines['right'].set_visible(False)\n",
    "    ax[i].spines['top'].set_visible(False)\n",
    "plt.tight_layout()\n"
   ]
  },
  {
   "cell_type": "code",
   "execution_count": 20,
   "metadata": {
    "execution": {
     "iopub.execute_input": "2020-11-06T12:25:53.308410Z",
     "iopub.status.busy": "2020-11-06T12:25:53.307738Z",
     "iopub.status.idle": "2020-11-06T12:25:53.310732Z",
     "shell.execute_reply": "2020-11-06T12:25:53.310260Z"
    },
    "papermill": {
     "duration": 0.044131,
     "end_time": "2020-11-06T12:25:53.310859",
     "exception": false,
     "start_time": "2020-11-06T12:25:53.266728",
     "status": "completed"
    },
    "tags": []
   },
   "outputs": [
    {
     "name": "stdout",
     "output_type": "stream",
     "text": [
      "                                   states    Cases  Deaths   PCases  PDeaths  Cases (+)  Deaths (+)  Fatality Rate\n",
      "                              Maharashtra  1703444   44804  1703444    44804          0           0           2.63\n",
      "                                Karnataka   838929   11312   838929    11312          0           0           1.35\n",
      "                           Andhra Pradesh   835953    6757   835953     6757          0           0           0.81\n",
      "                               Tamil Nadu   736777   11272   736777    11272          0           0           1.53\n",
      "                            Uttar Pradesh   491354    7131   491354     7131          0           0           1.45\n",
      "                                   Kerala   466467    1614   466467     1614          0           0           0.35\n",
      "                                    Delhi   416653    6769   416653     6769          0           0           1.62\n",
      "                              West Bengal   393524    7122   393524     7122          0           0           1.81\n",
      "                                   Odisha   298768    1446   297274     1431       1494          15           0.48\n",
      "                                Telangana   245682    1362   245682     1362          0           0           0.55\n",
      "                                    Bihar   220246    1121   220246     1121          0           0           0.51\n",
      "                                    Assam   208054     934   208054      934          0           0           0.45\n",
      "                                Rajasthan   205800    1955   205800     1955          0           0           0.95\n",
      "                             Chhattisgarh   196233    2360   196233     2360          0           0           1.20\n",
      "                                  Gujarat   177598    3747   177598     3747          0           0           2.11\n",
      "                                  Haryana   176146    1859   176146     1859          0           0           1.06\n",
      "                           Madhya Pradesh   174825    2992   174825     2992          0           0           1.71\n",
      "                                   Punjab   135834    4281   135834     4281          0           0           3.15\n",
      "                                Jharkhand   103543     894   103543      894          0           0           0.86\n",
      "                        Jammu and Kashmir    97224    1517    97224     1517          0           0           1.56\n",
      "                              Uttarakhand    64065    1047    64065     1047          0           0           1.63\n",
      "                                      Goa    44544     630    44544      630          0           0           1.41\n",
      "                               Puducherry    35550     598    35550      598          0           0           1.68\n",
      "                                  Tripura    31234     350    31234      350          0           0           1.12\n",
      "                         Himachal Pradesh    23809     355    23809      355          0           0           1.49\n",
      "                                  Manipur    19725     189    19725      189          0           0           0.96\n",
      "                        Arunachal Pradesh    15244      43    15244       43          0           0           0.28\n",
      "                               Chandigarh    14794     229    14794      229          0           0           1.55\n",
      "                                Meghalaya     9893      91     9893       91          0           0           0.92\n",
      "                                 Nagaland     9264      45     9264       45          0           0           0.49\n",
      "                                   Ladakh     6633      79     6633       79          0           0           1.19\n",
      "              Andaman and Nicobar Islands     4403      60     4403       60          0           0           1.36\n",
      "                                   Sikkim     4095      75     4095       75          0           0           1.83\n",
      " Dadra and Nagar Haveli and Daman and Diu     3263       2     3263        2          0           0           0.06\n",
      "                                  Mizoram     2958       2     2958        2          0           0           0.07\n",
      "                              Lakshadweep        0       0        0        0          0           0            NaN\n"
     ]
    }
   ],
   "source": [
    "#hide_input\n",
    "print(df_table.to_string(index=False))"
   ]
  },
  {
   "cell_type": "code",
   "execution_count": null,
   "metadata": {
    "papermill": {
     "duration": 0.023295,
     "end_time": "2020-11-06T12:25:53.356187",
     "exception": false,
     "start_time": "2020-11-06T12:25:53.332892",
     "status": "completed"
    },
    "tags": []
   },
   "outputs": [],
   "source": []
  },
  {
   "cell_type": "code",
   "execution_count": null,
   "metadata": {
    "papermill": {
     "duration": 0.020557,
     "end_time": "2020-11-06T12:25:53.400375",
     "exception": false,
     "start_time": "2020-11-06T12:25:53.379818",
     "status": "completed"
    },
    "tags": []
   },
   "outputs": [],
   "source": []
  }
 ],
 "metadata": {
  "kernelspec": {
   "display_name": "Python 3",
   "language": "python",
   "name": "python3"
  },
  "language_info": {
   "codemirror_mode": {
    "name": "ipython",
    "version": 3
   },
   "file_extension": ".py",
   "mimetype": "text/x-python",
   "name": "python",
   "nbconvert_exporter": "python",
   "pygments_lexer": "ipython3",
   "version": "3.6.12"
  },
  "papermill": {
   "duration": 13.285892,
   "end_time": "2020-11-06T12:25:53.826562",
   "environment_variables": {},
   "exception": null,
   "input_path": "latest.ipynb",
   "output_path": "latest.ipynb",
   "parameters": {},
   "start_time": "2020-11-06T12:25:40.540670",
   "version": "2.1.2"
  }
 },
 "nbformat": 4,
 "nbformat_minor": 4
}