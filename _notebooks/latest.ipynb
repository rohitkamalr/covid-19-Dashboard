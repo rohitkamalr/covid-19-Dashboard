{
 "cells": [
  {
   "cell_type": "markdown",
   "id": "colored-stack",
   "metadata": {
    "papermill": {
     "duration": 0.02527,
     "end_time": "2021-04-05T13:17:04.925118",
     "exception": false,
     "start_time": "2021-04-05T13:17:04.899848",
     "status": "completed"
    },
    "tags": []
   },
   "source": [
    "# Latest COVID-19 India Matplotlib Overview"
   ]
  },
  {
   "cell_type": "code",
   "execution_count": 1,
   "id": "light-proportion",
   "metadata": {
    "execution": {
     "iopub.execute_input": "2021-04-05T13:17:04.981824Z",
     "iopub.status.busy": "2021-04-05T13:17:04.981046Z",
     "iopub.status.idle": "2021-04-05T13:17:05.658381Z",
     "shell.execute_reply": "2021-04-05T13:17:05.657788Z"
    },
    "papermill": {
     "duration": 0.710654,
     "end_time": "2021-04-05T13:17:05.658549",
     "exception": false,
     "start_time": "2021-04-05T13:17:04.947895",
     "status": "completed"
    },
    "tags": []
   },
   "outputs": [],
   "source": [
    "#hide\n",
    "import pandas as pd\n",
    "import numpy as np\n",
    "import requests\n",
    "import json\n",
    "import matplotlib.pyplot as plt\n",
    "import matplotlib.dates as mdates\n",
    "import matplotlib as mpl\n",
    "from IPython.core.display import display,HTML\n",
    "%matplotlib inline\n",
    "from datetime import date"
   ]
  },
  {
   "cell_type": "code",
   "execution_count": 2,
   "id": "greenhouse-shooting",
   "metadata": {
    "execution": {
     "iopub.execute_input": "2021-04-05T13:17:05.709518Z",
     "iopub.status.busy": "2021-04-05T13:17:05.708823Z",
     "iopub.status.idle": "2021-04-05T13:17:05.932126Z",
     "shell.execute_reply": "2021-04-05T13:17:05.931480Z"
    },
    "papermill": {
     "duration": 0.253617,
     "end_time": "2021-04-05T13:17:05.932296",
     "exception": false,
     "start_time": "2021-04-05T13:17:05.678679",
     "status": "completed"
    },
    "tags": []
   },
   "outputs": [],
   "source": [
    "#hide\n",
    "df  = pd.read_csv('https://api.covid19india.org/csv/latest/states.csv')\n",
    "df = df[['Date','State','Confirmed','Deceased']]\n",
    "df = df.rename(columns={'Confirmed':'Cases', \"Deceased\":'Deaths'})\n",
    "df_cases = df[[\"Date\",'State','Cases']]\n",
    "df_deaths = df[['Date','State','Deaths']]\n",
    "df_cases1 = df_cases.groupby('Date')\n",
    "df_deaths1= df_deaths.groupby('Date')"
   ]
  },
  {
   "cell_type": "code",
   "execution_count": 3,
   "id": "hybrid-cathedral",
   "metadata": {
    "execution": {
     "iopub.execute_input": "2021-04-05T13:17:05.978609Z",
     "iopub.status.busy": "2021-04-05T13:17:05.977957Z",
     "iopub.status.idle": "2021-04-05T13:17:06.000033Z",
     "shell.execute_reply": "2021-04-05T13:17:05.999367Z"
    },
    "papermill": {
     "duration": 0.047559,
     "end_time": "2021-04-05T13:17:06.000198",
     "exception": false,
     "start_time": "2021-04-05T13:17:05.952639",
     "status": "completed"
    },
    "tags": []
   },
   "outputs": [],
   "source": [
    "#hide\n",
    "df_snap = pd.read_csv('data/SnapshotCases-28-July.csv')\n",
    "arr_states = df_snap['states'].unique()\n",
    "arr_dates = df['Date'].unique()\n",
    "df_snap = df_snap.set_index('states')"
   ]
  },
  {
   "cell_type": "code",
   "execution_count": 4,
   "id": "interior-belfast",
   "metadata": {
    "execution": {
     "iopub.execute_input": "2021-04-05T13:17:06.049800Z",
     "iopub.status.busy": "2021-04-05T13:17:06.049141Z",
     "iopub.status.idle": "2021-04-05T13:17:06.054484Z",
     "shell.execute_reply": "2021-04-05T13:17:06.053825Z"
    },
    "papermill": {
     "duration": 0.033193,
     "end_time": "2021-04-05T13:17:06.054622",
     "exception": false,
     "start_time": "2021-04-05T13:17:06.021429",
     "status": "completed"
    },
    "tags": []
   },
   "outputs": [
    {
     "data": {
      "text/plain": [
       "array(['Andaman and Nicobar Islands', 'Andhra Pradesh',\n",
       "       'Arunachal Pradesh', 'Assam', 'Bihar', 'Chandigarh',\n",
       "       'Dadra and Nagar Haveli and Daman and Diu', 'Delhi', 'Goa',\n",
       "       'Gujarat', 'Haryana', 'Himachal Pradesh', 'Jammu and Kashmir',\n",
       "       'Jharkhand', 'Karnataka', 'Kerala', 'Lakshadweep',\n",
       "       'Madhya Pradesh', 'Maharashtra', 'Manipur', 'Meghalaya', 'Mizoram',\n",
       "       'Nagaland', 'Odisha', 'Puducherry', 'Punjab', 'Rajasthan',\n",
       "       'Sikkim', 'Tamil Nadu', 'Telangana', 'Tripura', 'Uttar Pradesh',\n",
       "       'West Bengal', 'Chhattisgarh', 'Ladakh', 'Uttarakhand'],\n",
       "      dtype=object)"
      ]
     },
     "execution_count": 4,
     "metadata": {},
     "output_type": "execute_result"
    }
   ],
   "source": [
    "#hide\n",
    "arr_states[-9] = 'Puducherry'\n",
    "arr_states[-10] = 'Odisha'\n",
    "arr_states[6] = 'Dadra and Nagar Haveli and Daman and Diu'\n",
    "arr_states = np.append(arr_states,np.array(['Chhattisgarh','Ladakh','Uttarakhand']))\n",
    "arr_states"
   ]
  },
  {
   "cell_type": "code",
   "execution_count": 5,
   "id": "behind-manner",
   "metadata": {
    "execution": {
     "iopub.execute_input": "2021-04-05T13:17:06.109091Z",
     "iopub.status.busy": "2021-04-05T13:17:06.108405Z",
     "iopub.status.idle": "2021-04-05T13:17:06.120352Z",
     "shell.execute_reply": "2021-04-05T13:17:06.119751Z"
    },
    "papermill": {
     "duration": 0.045714,
     "end_time": "2021-04-05T13:17:06.120503",
     "exception": false,
     "start_time": "2021-04-05T13:17:06.074789",
     "status": "completed"
    },
    "tags": []
   },
   "outputs": [],
   "source": [
    "#hide\n",
    "dates = []\n",
    "for i in arr_dates:\n",
    "    if i>='2020-07-01':\n",
    "        dates.append(i)\n",
    "dict = {'states':dates}\n",
    "for i in arr_states:\n",
    "    dict[i] = [0]*len(dates)\n",
    "dft_cases = pd.DataFrame(dict)\n",
    "dft_deaths = pd.DataFrame(dict)\n"
   ]
  },
  {
   "cell_type": "code",
   "execution_count": 6,
   "id": "simplified-peter",
   "metadata": {
    "execution": {
     "iopub.execute_input": "2021-04-05T13:17:06.172398Z",
     "iopub.status.busy": "2021-04-05T13:17:06.171706Z",
     "iopub.status.idle": "2021-04-05T13:17:11.473068Z",
     "shell.execute_reply": "2021-04-05T13:17:11.472081Z"
    },
    "papermill": {
     "duration": 5.32738,
     "end_time": "2021-04-05T13:17:11.473218",
     "exception": false,
     "start_time": "2021-04-05T13:17:06.145838",
     "status": "completed"
    },
    "tags": []
   },
   "outputs": [],
   "source": [
    "#hide\n",
    "for i in range(len(dates)):\n",
    "    df1_deaths = df_deaths1.get_group(dates[i])\n",
    "    for j in range(len(df1_deaths.index)):\n",
    "        if df1_deaths.iloc[j,1] in arr_states:\n",
    "            dft_deaths.loc[i,df1_deaths.iloc[j,1]] = df1_deaths.iloc[j,2]\n",
    "dft_deaths = dft_deaths.set_index('states')"
   ]
  },
  {
   "cell_type": "code",
   "execution_count": 7,
   "id": "geological-welding",
   "metadata": {
    "execution": {
     "iopub.execute_input": "2021-04-05T13:17:11.521336Z",
     "iopub.status.busy": "2021-04-05T13:17:11.520638Z",
     "iopub.status.idle": "2021-04-05T13:17:16.891520Z",
     "shell.execute_reply": "2021-04-05T13:17:16.890575Z"
    },
    "papermill": {
     "duration": 5.398052,
     "end_time": "2021-04-05T13:17:16.891672",
     "exception": false,
     "start_time": "2021-04-05T13:17:11.493620",
     "status": "completed"
    },
    "tags": []
   },
   "outputs": [],
   "source": [
    "#hide\n",
    "for i in range(len(dates)):\n",
    "    df1_cases = df_cases1.get_group(dates[i])\n",
    "    for j in range(len(df1_cases.index)):\n",
    "        if df1_cases.iloc[j,1] in arr_states:\n",
    "            dft_cases.loc[i,df1_cases.iloc[j,1]] = df1_cases.iloc[j,2]\n",
    "dft_cases = dft_cases.set_index('states')"
   ]
  },
  {
   "cell_type": "code",
   "execution_count": 8,
   "id": "binary-ratio",
   "metadata": {
    "execution": {
     "iopub.execute_input": "2021-04-05T13:17:16.943041Z",
     "iopub.status.busy": "2021-04-05T13:17:16.942358Z",
     "iopub.status.idle": "2021-04-05T13:17:16.944254Z",
     "shell.execute_reply": "2021-04-05T13:17:16.944773Z"
    },
    "papermill": {
     "duration": 0.032128,
     "end_time": "2021-04-05T13:17:16.944943",
     "exception": false,
     "start_time": "2021-04-05T13:17:16.912815",
     "status": "completed"
    },
    "tags": []
   },
   "outputs": [],
   "source": [
    "#hide\n",
    "dft_cases = dft_cases.T\n",
    "dft_deaths = dft_deaths.T\n",
    "dt_today = dates[-1]\n",
    "dt_yday = dates[-2]"
   ]
  },
  {
   "cell_type": "code",
   "execution_count": 9,
   "id": "boolean-calculator",
   "metadata": {
    "execution": {
     "iopub.execute_input": "2021-04-05T13:17:16.996377Z",
     "iopub.status.busy": "2021-04-05T13:17:16.995647Z",
     "iopub.status.idle": "2021-04-05T13:17:17.001449Z",
     "shell.execute_reply": "2021-04-05T13:17:17.000895Z"
    },
    "papermill": {
     "duration": 0.034052,
     "end_time": "2021-04-05T13:17:17.001600",
     "exception": false,
     "start_time": "2021-04-05T13:17:16.967548",
     "status": "completed"
    },
    "tags": []
   },
   "outputs": [],
   "source": [
    "#hide\n",
    "dft_cases = dft_cases.reset_index()\n",
    "dft_deaths = dft_deaths.reset_index()\n",
    "dft_cases = dft_cases.rename(columns = {'index':'state'})\n",
    "dft_deaths = dft_deaths.rename(columns = {'index':'state'})"
   ]
  },
  {
   "cell_type": "code",
   "execution_count": 10,
   "id": "invisible-johnston",
   "metadata": {
    "execution": {
     "iopub.execute_input": "2021-04-05T13:17:17.055737Z",
     "iopub.status.busy": "2021-04-05T13:17:17.055049Z",
     "iopub.status.idle": "2021-04-05T13:17:17.057485Z",
     "shell.execute_reply": "2021-04-05T13:17:17.058002Z"
    },
    "papermill": {
     "duration": 0.036216,
     "end_time": "2021-04-05T13:17:17.058176",
     "exception": false,
     "start_time": "2021-04-05T13:17:17.021960",
     "status": "completed"
    },
    "tags": []
   },
   "outputs": [],
   "source": [
    "#hide\n",
    "dfc_cases = dft_cases.groupby('state')[dt_today].sum()\n",
    "dfc_deaths = dft_deaths.groupby('state')[dt_today].sum()\n",
    "dfp_cases = dft_cases.groupby('state')[dt_yday].sum()\n",
    "dfp_deaths = dft_deaths.groupby('state')[dt_yday].sum()"
   ]
  },
  {
   "cell_type": "code",
   "execution_count": 11,
   "id": "measured-great",
   "metadata": {
    "execution": {
     "iopub.execute_input": "2021-04-05T13:17:17.114249Z",
     "iopub.status.busy": "2021-04-05T13:17:17.110049Z",
     "iopub.status.idle": "2021-04-05T13:17:17.121817Z",
     "shell.execute_reply": "2021-04-05T13:17:17.121273Z"
    },
    "papermill": {
     "duration": 0.043514,
     "end_time": "2021-04-05T13:17:17.121958",
     "exception": false,
     "start_time": "2021-04-05T13:17:17.078444",
     "status": "completed"
    },
    "tags": []
   },
   "outputs": [
    {
     "data": {
      "text/html": [
       "<div>\n",
       "<style scoped>\n",
       "    .dataframe tbody tr th:only-of-type {\n",
       "        vertical-align: middle;\n",
       "    }\n",
       "\n",
       "    .dataframe tbody tr th {\n",
       "        vertical-align: top;\n",
       "    }\n",
       "\n",
       "    .dataframe thead th {\n",
       "        text-align: right;\n",
       "    }\n",
       "</style>\n",
       "<table border=\"1\" class=\"dataframe\">\n",
       "  <thead>\n",
       "    <tr style=\"text-align: right;\">\n",
       "      <th></th>\n",
       "      <th>states</th>\n",
       "      <th>Cases</th>\n",
       "      <th>Deaths</th>\n",
       "      <th>PCases</th>\n",
       "      <th>PDeaths</th>\n",
       "    </tr>\n",
       "  </thead>\n",
       "  <tbody>\n",
       "    <tr>\n",
       "      <th>0</th>\n",
       "      <td>Maharashtra</td>\n",
       "      <td>3010597</td>\n",
       "      <td>55878</td>\n",
       "      <td>3010597</td>\n",
       "      <td>55878</td>\n",
       "    </tr>\n",
       "    <tr>\n",
       "      <th>1</th>\n",
       "      <td>Kerala</td>\n",
       "      <td>1135234</td>\n",
       "      <td>4669</td>\n",
       "      <td>1135234</td>\n",
       "      <td>4669</td>\n",
       "    </tr>\n",
       "    <tr>\n",
       "      <th>2</th>\n",
       "      <td>Karnataka</td>\n",
       "      <td>1015155</td>\n",
       "      <td>12625</td>\n",
       "      <td>1015155</td>\n",
       "      <td>12625</td>\n",
       "    </tr>\n",
       "    <tr>\n",
       "      <th>3</th>\n",
       "      <td>Andhra Pradesh</td>\n",
       "      <td>909002</td>\n",
       "      <td>7244</td>\n",
       "      <td>907676</td>\n",
       "      <td>7239</td>\n",
       "    </tr>\n",
       "    <tr>\n",
       "      <th>4</th>\n",
       "      <td>Tamil Nadu</td>\n",
       "      <td>899807</td>\n",
       "      <td>12778</td>\n",
       "      <td>899807</td>\n",
       "      <td>12778</td>\n",
       "    </tr>\n",
       "  </tbody>\n",
       "</table>\n",
       "</div>"
      ],
      "text/plain": [
       "           states    Cases  Deaths   PCases  PDeaths\n",
       "0     Maharashtra  3010597   55878  3010597    55878\n",
       "1          Kerala  1135234    4669  1135234     4669\n",
       "2       Karnataka  1015155   12625  1015155    12625\n",
       "3  Andhra Pradesh   909002    7244   907676     7239\n",
       "4      Tamil Nadu   899807   12778   899807    12778"
      ]
     },
     "execution_count": 11,
     "metadata": {},
     "output_type": "execute_result"
    }
   ],
   "source": [
    "#hide\n",
    "df_table = pd.DataFrame({'states': dfc_cases.index, 'Cases': dfc_cases.values, 'Deaths': dfc_deaths.values, 'PCases': dfp_cases.values, 'PDeaths': dfp_deaths.values}).set_index('states')\n",
    "df_table = df_table.sort_values(by = ['Cases','Deaths'], ascending = [False, False])\n",
    "df_table = df_table.reset_index()\n",
    "df_table.head()"
   ]
  },
  {
   "cell_type": "code",
   "execution_count": 12,
   "id": "found-montreal",
   "metadata": {
    "execution": {
     "iopub.execute_input": "2021-04-05T13:17:17.170937Z",
     "iopub.status.busy": "2021-04-05T13:17:17.170263Z",
     "iopub.status.idle": "2021-04-05T13:17:17.180667Z",
     "shell.execute_reply": "2021-04-05T13:17:17.181209Z"
    },
    "papermill": {
     "duration": 0.038405,
     "end_time": "2021-04-05T13:17:17.181397",
     "exception": false,
     "start_time": "2021-04-05T13:17:17.142992",
     "status": "completed"
    },
    "tags": []
   },
   "outputs": [],
   "source": [
    "#hide\n",
    "for c in 'Cases, Deaths'.split(', '):\n",
    "    df_table[f'{c} (+)'] = (df_table[c] - df_table[f'P{c}']).clip(0)\n",
    "df_table['Fatality Rate'] = (100* df_table['Deaths']/ df_table['Cases']).round(2)"
   ]
  },
  {
   "cell_type": "code",
   "execution_count": 13,
   "id": "minus-savage",
   "metadata": {
    "execution": {
     "iopub.execute_input": "2021-04-05T13:17:17.239173Z",
     "iopub.status.busy": "2021-04-05T13:17:17.238142Z",
     "iopub.status.idle": "2021-04-05T13:17:17.241146Z",
     "shell.execute_reply": "2021-04-05T13:17:17.241764Z"
    },
    "papermill": {
     "duration": 0.038829,
     "end_time": "2021-04-05T13:17:17.241924",
     "exception": false,
     "start_time": "2021-04-05T13:17:17.203095",
     "status": "completed"
    },
    "tags": []
   },
   "outputs": [
    {
     "data": {
      "text/html": [
       "<div>\n",
       "<style scoped>\n",
       "    .dataframe tbody tr th:only-of-type {\n",
       "        vertical-align: middle;\n",
       "    }\n",
       "\n",
       "    .dataframe tbody tr th {\n",
       "        vertical-align: top;\n",
       "    }\n",
       "\n",
       "    .dataframe thead th {\n",
       "        text-align: right;\n",
       "    }\n",
       "</style>\n",
       "<table border=\"1\" class=\"dataframe\">\n",
       "  <thead>\n",
       "    <tr style=\"text-align: right;\">\n",
       "      <th></th>\n",
       "      <th>states</th>\n",
       "      <th>Cases</th>\n",
       "      <th>Deaths</th>\n",
       "      <th>PCases</th>\n",
       "      <th>PDeaths</th>\n",
       "      <th>Cases (+)</th>\n",
       "      <th>Deaths (+)</th>\n",
       "      <th>Fatality Rate</th>\n",
       "    </tr>\n",
       "  </thead>\n",
       "  <tbody>\n",
       "    <tr>\n",
       "      <th>0</th>\n",
       "      <td>Maharashtra</td>\n",
       "      <td>3010597</td>\n",
       "      <td>55878</td>\n",
       "      <td>3010597</td>\n",
       "      <td>55878</td>\n",
       "      <td>0</td>\n",
       "      <td>0</td>\n",
       "      <td>1.86</td>\n",
       "    </tr>\n",
       "    <tr>\n",
       "      <th>1</th>\n",
       "      <td>Kerala</td>\n",
       "      <td>1135234</td>\n",
       "      <td>4669</td>\n",
       "      <td>1135234</td>\n",
       "      <td>4669</td>\n",
       "      <td>0</td>\n",
       "      <td>0</td>\n",
       "      <td>0.41</td>\n",
       "    </tr>\n",
       "    <tr>\n",
       "      <th>2</th>\n",
       "      <td>Karnataka</td>\n",
       "      <td>1015155</td>\n",
       "      <td>12625</td>\n",
       "      <td>1015155</td>\n",
       "      <td>12625</td>\n",
       "      <td>0</td>\n",
       "      <td>0</td>\n",
       "      <td>1.24</td>\n",
       "    </tr>\n",
       "    <tr>\n",
       "      <th>3</th>\n",
       "      <td>Andhra Pradesh</td>\n",
       "      <td>909002</td>\n",
       "      <td>7244</td>\n",
       "      <td>907676</td>\n",
       "      <td>7239</td>\n",
       "      <td>1326</td>\n",
       "      <td>5</td>\n",
       "      <td>0.80</td>\n",
       "    </tr>\n",
       "    <tr>\n",
       "      <th>4</th>\n",
       "      <td>Tamil Nadu</td>\n",
       "      <td>899807</td>\n",
       "      <td>12778</td>\n",
       "      <td>899807</td>\n",
       "      <td>12778</td>\n",
       "      <td>0</td>\n",
       "      <td>0</td>\n",
       "      <td>1.42</td>\n",
       "    </tr>\n",
       "  </tbody>\n",
       "</table>\n",
       "</div>"
      ],
      "text/plain": [
       "           states    Cases  Deaths   PCases  PDeaths  Cases (+)  Deaths (+)  \\\n",
       "0     Maharashtra  3010597   55878  3010597    55878          0           0   \n",
       "1          Kerala  1135234    4669  1135234     4669          0           0   \n",
       "2       Karnataka  1015155   12625  1015155    12625          0           0   \n",
       "3  Andhra Pradesh   909002    7244   907676     7239       1326           5   \n",
       "4      Tamil Nadu   899807   12778   899807    12778          0           0   \n",
       "\n",
       "   Fatality Rate  \n",
       "0           1.86  \n",
       "1           0.41  \n",
       "2           1.24  \n",
       "3           0.80  \n",
       "4           1.42  "
      ]
     },
     "execution_count": 13,
     "metadata": {},
     "output_type": "execute_result"
    }
   ],
   "source": [
    "#hide\n",
    "df_table.head()"
   ]
  },
  {
   "cell_type": "code",
   "execution_count": 14,
   "id": "false-peter",
   "metadata": {
    "execution": {
     "iopub.execute_input": "2021-04-05T13:17:17.291375Z",
     "iopub.status.busy": "2021-04-05T13:17:17.290684Z",
     "iopub.status.idle": "2021-04-05T13:17:17.309772Z",
     "shell.execute_reply": "2021-04-05T13:17:17.310323Z"
    },
    "papermill": {
     "duration": 0.046862,
     "end_time": "2021-04-05T13:17:17.310495",
     "exception": false,
     "start_time": "2021-04-05T13:17:17.263633",
     "status": "completed"
    },
    "tags": []
   },
   "outputs": [
    {
     "data": {
      "text/plain": [
       "{'updated': '2021-04-05',\n",
       " 'since': '2021-04-04',\n",
       " 'Cases': 12591369,\n",
       " 'PCases': 12587921,\n",
       " 'Deaths': 165145,\n",
       " 'PDeaths': 165132,\n",
       " 'Cases (+)': 3448,\n",
       " 'Deaths (+)': 13}"
      ]
     },
     "execution_count": 14,
     "metadata": {},
     "output_type": "execute_result"
    }
   ],
   "source": [
    "#hide\n",
    "summary = {'updated':dates[-1], 'since':dates[-2]}\n",
    "list_names = ['Cases', 'PCases', 'Deaths', 'PDeaths', 'Cases (+)', 'Deaths (+)']\n",
    "for name in list_names:\n",
    "    summary[name] = df_table.sum()[name]\n",
    "summary"
   ]
  },
  {
   "cell_type": "code",
   "execution_count": 15,
   "id": "packed-viewer",
   "metadata": {
    "execution": {
     "iopub.execute_input": "2021-04-05T13:17:17.366410Z",
     "iopub.status.busy": "2021-04-05T13:17:17.365727Z",
     "iopub.status.idle": "2021-04-05T13:17:17.368253Z",
     "shell.execute_reply": "2021-04-05T13:17:17.367590Z"
    },
    "papermill": {
     "duration": 0.029411,
     "end_time": "2021-04-05T13:17:17.368388",
     "exception": false,
     "start_time": "2021-04-05T13:17:17.338977",
     "status": "completed"
    },
    "tags": []
   },
   "outputs": [],
   "source": [
    "#hide\n",
    "overview = '''\n",
    "<!-- #######  HTML!! #########-->\n",
    "<h1 style=\"color: #5e9ca0; text-align: center;\">India</h1>\n",
    "<p style=\"text-align: center;\">Last update: <strong>{update}</strong></p>\n",
    "<p style=\"text-align: center;\">Confirmed cases:</p>\n",
    "<p style=\"text-align: center;font-size:24px;\">{cases} (<span style=\"color: #ff0000;\">+{new}</span>)</p>\n",
    "<p style=\"text-align: center;\">Confirmed deaths:</p>\n",
    "<p style=\"text-align: center;font-size:24px;\">{deaths} (<span style=\"color: #ff0000;\">+{dnew}</span>)</p>\n",
    "'''"
   ]
  },
  {
   "cell_type": "code",
   "execution_count": 16,
   "id": "phantom-lover",
   "metadata": {
    "execution": {
     "iopub.execute_input": "2021-04-05T13:17:17.421844Z",
     "iopub.status.busy": "2021-04-05T13:17:17.421166Z",
     "iopub.status.idle": "2021-04-05T13:17:17.423644Z",
     "shell.execute_reply": "2021-04-05T13:17:17.424293Z"
    },
    "papermill": {
     "duration": 0.031481,
     "end_time": "2021-04-05T13:17:17.424457",
     "exception": false,
     "start_time": "2021-04-05T13:17:17.392976",
     "status": "completed"
    },
    "tags": []
   },
   "outputs": [
    {
     "data": {
      "text/html": [
       "\n",
       "<!-- #######  HTML!! #########-->\n",
       "<h1 style=\"color: #5e9ca0; text-align: center;\">India</h1>\n",
       "<p style=\"text-align: center;\">Last update: <strong>2021-04-05</strong></p>\n",
       "<p style=\"text-align: center;\">Confirmed cases:</p>\n",
       "<p style=\"text-align: center;font-size:24px;\">12591369 (<span style=\"color: #ff0000;\">+3448</span>)</p>\n",
       "<p style=\"text-align: center;\">Confirmed deaths:</p>\n",
       "<p style=\"text-align: center;font-size:24px;\">165145 (<span style=\"color: #ff0000;\">+13</span>)</p>\n"
      ],
      "text/plain": [
       "<IPython.core.display.HTML object>"
      ]
     },
     "metadata": {},
     "output_type": "display_data"
    }
   ],
   "source": [
    "#hide_input\n",
    "update = summary['updated']\n",
    "cases = summary['Cases']\n",
    "new = summary['Cases (+)']\n",
    "deaths = summary['Deaths']\n",
    "dnew = summary['Deaths (+)']\n",
    "\n",
    "html = HTML(overview.format(update=update, cases=cases,new=new,deaths=deaths,dnew=dnew))\n",
    "\n",
    "display(html)"
   ]
  },
  {
   "cell_type": "code",
   "execution_count": 17,
   "id": "sealed-reset",
   "metadata": {
    "execution": {
     "iopub.execute_input": "2021-04-05T13:17:17.479212Z",
     "iopub.status.busy": "2021-04-05T13:17:17.478554Z",
     "iopub.status.idle": "2021-04-05T13:17:17.485400Z",
     "shell.execute_reply": "2021-04-05T13:17:17.484842Z"
    },
    "papermill": {
     "duration": 0.037889,
     "end_time": "2021-04-05T13:17:17.485533",
     "exception": false,
     "start_time": "2021-04-05T13:17:17.447644",
     "status": "completed"
    },
    "tags": []
   },
   "outputs": [],
   "source": [
    "#hide\n",
    "dt_cols = list(dft_cases.columns[1:])\n",
    "dft_ct_new_cases = dft_cases.groupby('state')[dt_cols].sum().diff(axis=1).fillna(0).astype(int)\n",
    "dft_ct_new_cases.sort_values(by = dates[-1], ascending = False,inplace = True)"
   ]
  },
  {
   "cell_type": "code",
   "execution_count": 18,
   "id": "designed-constant",
   "metadata": {
    "execution": {
     "iopub.execute_input": "2021-04-05T13:17:17.556512Z",
     "iopub.status.busy": "2021-04-05T13:17:17.555819Z",
     "iopub.status.idle": "2021-04-05T13:17:17.559378Z",
     "shell.execute_reply": "2021-04-05T13:17:17.559902Z"
    },
    "papermill": {
     "duration": 0.048824,
     "end_time": "2021-04-05T13:17:17.560075",
     "exception": false,
     "start_time": "2021-04-05T13:17:17.511251",
     "status": "completed"
    },
    "tags": []
   },
   "outputs": [
    {
     "data": {
      "text/html": [
       "<div>\n",
       "<style scoped>\n",
       "    .dataframe tbody tr th:only-of-type {\n",
       "        vertical-align: middle;\n",
       "    }\n",
       "\n",
       "    .dataframe tbody tr th {\n",
       "        vertical-align: top;\n",
       "    }\n",
       "\n",
       "    .dataframe thead th {\n",
       "        text-align: right;\n",
       "    }\n",
       "</style>\n",
       "<table border=\"1\" class=\"dataframe\">\n",
       "  <thead>\n",
       "    <tr style=\"text-align: right;\">\n",
       "      <th>states</th>\n",
       "      <th>2020-07-01</th>\n",
       "      <th>2020-07-02</th>\n",
       "      <th>2020-07-03</th>\n",
       "      <th>2020-07-04</th>\n",
       "      <th>2020-07-05</th>\n",
       "      <th>2020-07-06</th>\n",
       "      <th>2020-07-07</th>\n",
       "      <th>2020-07-08</th>\n",
       "      <th>2020-07-09</th>\n",
       "      <th>2020-07-10</th>\n",
       "      <th>...</th>\n",
       "      <th>2021-03-27</th>\n",
       "      <th>2021-03-28</th>\n",
       "      <th>2021-03-29</th>\n",
       "      <th>2021-03-30</th>\n",
       "      <th>2021-03-31</th>\n",
       "      <th>2021-04-01</th>\n",
       "      <th>2021-04-02</th>\n",
       "      <th>2021-04-03</th>\n",
       "      <th>2021-04-04</th>\n",
       "      <th>2021-04-05</th>\n",
       "    </tr>\n",
       "    <tr>\n",
       "      <th>state</th>\n",
       "      <th></th>\n",
       "      <th></th>\n",
       "      <th></th>\n",
       "      <th></th>\n",
       "      <th></th>\n",
       "      <th></th>\n",
       "      <th></th>\n",
       "      <th></th>\n",
       "      <th></th>\n",
       "      <th></th>\n",
       "      <th></th>\n",
       "      <th></th>\n",
       "      <th></th>\n",
       "      <th></th>\n",
       "      <th></th>\n",
       "      <th></th>\n",
       "      <th></th>\n",
       "      <th></th>\n",
       "      <th></th>\n",
       "      <th></th>\n",
       "      <th></th>\n",
       "    </tr>\n",
       "  </thead>\n",
       "  <tbody>\n",
       "    <tr>\n",
       "      <th>Andhra Pradesh</th>\n",
       "      <td>0</td>\n",
       "      <td>845</td>\n",
       "      <td>837</td>\n",
       "      <td>765</td>\n",
       "      <td>998</td>\n",
       "      <td>1322</td>\n",
       "      <td>1178</td>\n",
       "      <td>1062</td>\n",
       "      <td>1555</td>\n",
       "      <td>1608</td>\n",
       "      <td>...</td>\n",
       "      <td>947</td>\n",
       "      <td>1005</td>\n",
       "      <td>997</td>\n",
       "      <td>993</td>\n",
       "      <td>1184</td>\n",
       "      <td>1271</td>\n",
       "      <td>1288</td>\n",
       "      <td>1398</td>\n",
       "      <td>1730</td>\n",
       "      <td>1326</td>\n",
       "    </tr>\n",
       "    <tr>\n",
       "      <th>Telangana</th>\n",
       "      <td>0</td>\n",
       "      <td>1213</td>\n",
       "      <td>1892</td>\n",
       "      <td>1850</td>\n",
       "      <td>1590</td>\n",
       "      <td>1831</td>\n",
       "      <td>1879</td>\n",
       "      <td>1924</td>\n",
       "      <td>1410</td>\n",
       "      <td>1278</td>\n",
       "      <td>...</td>\n",
       "      <td>495</td>\n",
       "      <td>535</td>\n",
       "      <td>403</td>\n",
       "      <td>463</td>\n",
       "      <td>684</td>\n",
       "      <td>887</td>\n",
       "      <td>965</td>\n",
       "      <td>1078</td>\n",
       "      <td>1321</td>\n",
       "      <td>1097</td>\n",
       "    </tr>\n",
       "    <tr>\n",
       "      <th>Odisha</th>\n",
       "      <td>0</td>\n",
       "      <td>229</td>\n",
       "      <td>561</td>\n",
       "      <td>495</td>\n",
       "      <td>469</td>\n",
       "      <td>456</td>\n",
       "      <td>571</td>\n",
       "      <td>527</td>\n",
       "      <td>577</td>\n",
       "      <td>755</td>\n",
       "      <td>...</td>\n",
       "      <td>210</td>\n",
       "      <td>290</td>\n",
       "      <td>208</td>\n",
       "      <td>218</td>\n",
       "      <td>297</td>\n",
       "      <td>394</td>\n",
       "      <td>461</td>\n",
       "      <td>452</td>\n",
       "      <td>471</td>\n",
       "      <td>573</td>\n",
       "    </tr>\n",
       "    <tr>\n",
       "      <th>Goa</th>\n",
       "      <td>0</td>\n",
       "      <td>95</td>\n",
       "      <td>94</td>\n",
       "      <td>108</td>\n",
       "      <td>77</td>\n",
       "      <td>52</td>\n",
       "      <td>90</td>\n",
       "      <td>136</td>\n",
       "      <td>112</td>\n",
       "      <td>100</td>\n",
       "      <td>...</td>\n",
       "      <td>170</td>\n",
       "      <td>131</td>\n",
       "      <td>128</td>\n",
       "      <td>127</td>\n",
       "      <td>200</td>\n",
       "      <td>265</td>\n",
       "      <td>280</td>\n",
       "      <td>219</td>\n",
       "      <td>265</td>\n",
       "      <td>247</td>\n",
       "    </tr>\n",
       "    <tr>\n",
       "      <th>Puducherry</th>\n",
       "      <td>0</td>\n",
       "      <td>63</td>\n",
       "      <td>22</td>\n",
       "      <td>80</td>\n",
       "      <td>42</td>\n",
       "      <td>65</td>\n",
       "      <td>30</td>\n",
       "      <td>110</td>\n",
       "      <td>49</td>\n",
       "      <td>72</td>\n",
       "      <td>...</td>\n",
       "      <td>128</td>\n",
       "      <td>137</td>\n",
       "      <td>125</td>\n",
       "      <td>115</td>\n",
       "      <td>127</td>\n",
       "      <td>260</td>\n",
       "      <td>213</td>\n",
       "      <td>191</td>\n",
       "      <td>227</td>\n",
       "      <td>180</td>\n",
       "    </tr>\n",
       "  </tbody>\n",
       "</table>\n",
       "<p>5 rows × 279 columns</p>\n",
       "</div>"
      ],
      "text/plain": [
       "states          2020-07-01  2020-07-02  2020-07-03  2020-07-04  2020-07-05  \\\n",
       "state                                                                        \n",
       "Andhra Pradesh           0         845         837         765         998   \n",
       "Telangana                0        1213        1892        1850        1590   \n",
       "Odisha                   0         229         561         495         469   \n",
       "Goa                      0          95          94         108          77   \n",
       "Puducherry               0          63          22          80          42   \n",
       "\n",
       "states          2020-07-06  2020-07-07  2020-07-08  2020-07-09  2020-07-10  \\\n",
       "state                                                                        \n",
       "Andhra Pradesh        1322        1178        1062        1555        1608   \n",
       "Telangana             1831        1879        1924        1410        1278   \n",
       "Odisha                 456         571         527         577         755   \n",
       "Goa                     52          90         136         112         100   \n",
       "Puducherry              65          30         110          49          72   \n",
       "\n",
       "states          ...  2021-03-27  2021-03-28  2021-03-29  2021-03-30  \\\n",
       "state           ...                                                   \n",
       "Andhra Pradesh  ...         947        1005         997         993   \n",
       "Telangana       ...         495         535         403         463   \n",
       "Odisha          ...         210         290         208         218   \n",
       "Goa             ...         170         131         128         127   \n",
       "Puducherry      ...         128         137         125         115   \n",
       "\n",
       "states          2021-03-31  2021-04-01  2021-04-02  2021-04-03  2021-04-04  \\\n",
       "state                                                                        \n",
       "Andhra Pradesh        1184        1271        1288        1398        1730   \n",
       "Telangana              684         887         965        1078        1321   \n",
       "Odisha                 297         394         461         452         471   \n",
       "Goa                    200         265         280         219         265   \n",
       "Puducherry             127         260         213         191         227   \n",
       "\n",
       "states          2021-04-05  \n",
       "state                       \n",
       "Andhra Pradesh        1326  \n",
       "Telangana             1097  \n",
       "Odisha                 573  \n",
       "Goa                    247  \n",
       "Puducherry             180  \n",
       "\n",
       "[5 rows x 279 columns]"
      ]
     },
     "execution_count": 18,
     "metadata": {},
     "output_type": "execute_result"
    }
   ],
   "source": [
    "#hide\n",
    "dft_ct_new_cases.head()"
   ]
  },
  {
   "cell_type": "code",
   "execution_count": 19,
   "id": "responsible-nightlife",
   "metadata": {
    "execution": {
     "iopub.execute_input": "2021-04-05T13:17:17.615800Z",
     "iopub.status.busy": "2021-04-05T13:17:17.615061Z",
     "iopub.status.idle": "2021-04-05T13:17:30.855597Z",
     "shell.execute_reply": "2021-04-05T13:17:30.856169Z"
    },
    "papermill": {
     "duration": 13.273361,
     "end_time": "2021-04-05T13:17:30.856340",
     "exception": false,
     "start_time": "2021-04-05T13:17:17.582979",
     "status": "completed"
    },
    "tags": []
   },
   "outputs": [
    {
     "data": {
      "image/png": "[encoded data removed]",
      "text/plain": [
       "<Figure size 1296x2016 with 11 Axes>"
      ]
     },
     "metadata": {
      "needs_background": "light"
     },
     "output_type": "display_data"
    }
   ],
   "source": [
    "#hide_input\n",
    "df = dft_ct_new_cases.copy()\n",
    "df.loc['Total'] = df.sum()\n",
    "n = 5\n",
    "ax = []\n",
    "fig = plt.figure(figsize = (18,28))\n",
    "gs = fig.add_gridspec(n+2, 5)\n",
    "# gs = fig.add_gridspec(2, 3)\n",
    "ax1 = fig.add_subplot(gs[0, :])\n",
    "ef = df.loc['Total'].rename_axis('date').reset_index()\n",
    "ef['date'] = ef['date'].astype('datetime64[ns]')\n",
    "ax1.bar(ef.date,ef.Total,alpha=0.3,color='#007acc')\n",
    "ax1.plot(ef.date,ef.Total , marker=\"o\", color='#007acc')\n",
    "ax1.xaxis.set_major_locator(mdates.WeekdayLocator())\n",
    "ax1.xaxis.set_major_formatter(mdates.DateFormatter('%b %d'))\n",
    "ax1.text(0.02, 0.5,'India daily case count', transform = ax1.transAxes, fontsize=25);\n",
    "ax1.spines['right'].set_visible(False)\n",
    "ax1.spines['top'].set_visible(False)\n",
    "\n",
    "ax2 = fig.add_subplot(gs[1,0])\n",
    "ef = df.loc['Maharashtra'].rename_axis('date').reset_index()\n",
    "ef['date'] = ef['date'].astype('datetime64[ns]')\n",
    "\n",
    "ax2.bar(ef.date, ef.Maharashtra,color = '#007acc',alpha=0.5)\n",
    "ax2.xaxis.set_major_locator(mdates.WeekdayLocator())\n",
    "ax2.xaxis.set_major_formatter(mdates.DateFormatter('%b %d'))\n",
    "ax2.set_xticks(ax2.get_xticks()[::3])\n",
    "maxyval = ef.Maharashtra.max()\n",
    "ax2.set_ylim([0,maxyval])\n",
    "ax2.text(0.05, 0.9,'Maharashtra', transform = ax2.transAxes, fontsize=20);\n",
    "ax2.spines['right'].set_visible(False)\n",
    "ax2.spines['top'].set_visible(False)\n",
    "\n",
    "\n",
    "ax3 = fig.add_subplot(gs[1,1])\n",
    "ef = df.loc['Tamil Nadu'].rename_axis('date').reset_index()\n",
    "ef['date'] = ef['date'].astype('datetime64[ns]')\n",
    "ax3.bar(ef.date, ef['Tamil Nadu'],color = '#007acc',alpha=0.5,)\n",
    "ax3.xaxis.set_major_locator(mdates.WeekdayLocator())\n",
    "ax3.xaxis.set_major_formatter(mdates.DateFormatter('%b %d'))\n",
    "ax3.set_xticks(ax3.get_xticks()[::3])\n",
    "ax3.text(0.05, 0.9,'Tamil Nadu', transform = ax3.transAxes, fontsize=20);\n",
    "ax3.spines['right'].set_visible(False)\n",
    "ax3.spines['top'].set_visible(False)\n",
    "\n",
    "ax5 = fig.add_subplot(gs[1,3])\n",
    "ef = df.loc['Telangana'].rename_axis('date').reset_index()\n",
    "ef['date'] = ef['date'].astype('datetime64[ns]')\n",
    "ax5.bar(ef.date, ef['Telangana'],color = '#007acc',alpha=0.5,)\n",
    "ax5.xaxis.set_major_locator(mdates.WeekdayLocator())\n",
    "ax5.xaxis.set_major_formatter(mdates.DateFormatter('%b %d'))\n",
    "ax5.set_xticks(ax5.get_xticks()[::3])\n",
    "ax5.text(0.05, 0.9,'Telangana', transform = ax5.transAxes, fontsize=20);\n",
    "ax5.spines['right'].set_visible(False)\n",
    "ax5.spines['top'].set_visible(False)\n",
    "\n",
    "ax6 = fig.add_subplot(gs[1,4])\n",
    "ef = df.loc['Andhra Pradesh'].rename_axis('date').reset_index()\n",
    "ef['date'] = ef['date'].astype('datetime64[ns]')\n",
    "ax6.bar(ef.date, ef['Andhra Pradesh'],color = '#007acc',alpha=0.5,)\n",
    "ax6.xaxis.set_major_locator(mdates.WeekdayLocator())\n",
    "ax6.xaxis.set_major_formatter(mdates.DateFormatter('%b %d'))\n",
    "ax6.set_xticks(ax6.get_xticks()[::3])\n",
    "ax6.text(0.05, 1,'Andhra Pradesh', transform = ax6.transAxes, fontsize=20);\n",
    "ax6.spines['right'].set_visible(False)\n",
    "ax6.spines['top'].set_visible(False)\n",
    "\n",
    "ax4 = fig.add_subplot(gs[1,2])\n",
    "ef = df.loc['Delhi'].rename_axis('date').reset_index()\n",
    "ef['date'] = ef['date'].astype('datetime64[ns]')\n",
    "ax4.bar(ef.date, ef.Delhi,color = '#007acc',alpha=0.5)\n",
    "ax4.set_xticks([])\n",
    "ax4.xaxis.set_major_locator(mdates.WeekdayLocator())\n",
    "ax4.xaxis.set_major_formatter(mdates.DateFormatter('%b %d'))\n",
    "ax4.set_xticks(ax4.get_xticks()[::3])\n",
    "ax4.spines['right'].set_visible(False)\n",
    "ax4.spines['top'].set_visible(False)\n",
    "\n",
    "ax4.text(0.05, 1,'Delhi', transform = ax4.transAxes, fontsize=20)\n",
    "\n",
    "for i in range(n):\n",
    "    \n",
    "    ax.append(fig.add_subplot(gs[i+2,:]))\n",
    "    ef = df.iloc[i+3].rename_axis('date').reset_index()\n",
    "    ef['date'] = ef['date'].astype('datetime64[ns]')\n",
    "    ax[i].bar(ef.date,ef.iloc[:,-1],color = '#007acc',alpha=0.3)\n",
    "    ax[i].plot(ef.date,ef.iloc[:,-1],marker='o',color='#007acc')\n",
    "    ax[i].text(0.02,0.5,f'{ef.columns.values[-1]}',transform = ax[i].transAxes, fontsize = 20);\n",
    "    ax[i].xaxis.set_major_locator(mdates.WeekdayLocator())\n",
    "    ax[i].xaxis.set_major_formatter(mdates.DateFormatter('%b %d'))\n",
    "    ax[i].set_ylim([0,7000])\n",
    "    ax[i].spines['right'].set_visible(False)\n",
    "    ax[i].spines['top'].set_visible(False)\n",
    "plt.tight_layout()\n"
   ]
  },
  {
   "cell_type": "code",
   "execution_count": 20,
   "id": "dress-forge",
   "metadata": {
    "execution": {
     "iopub.execute_input": "2021-04-05T13:17:30.923123Z",
     "iopub.status.busy": "2021-04-05T13:17:30.922421Z",
     "iopub.status.idle": "2021-04-05T13:17:30.927417Z",
     "shell.execute_reply": "2021-04-05T13:17:30.926868Z"
    },
    "papermill": {
     "duration": 0.042968,
     "end_time": "2021-04-05T13:17:30.927561",
     "exception": false,
     "start_time": "2021-04-05T13:17:30.884593",
     "status": "completed"
    },
    "tags": []
   },
   "outputs": [
    {
     "name": "stdout",
     "output_type": "stream",
     "text": [
      "                                   states    Cases  Deaths   PCases  PDeaths  Cases (+)  Deaths (+)  Fatality Rate\n",
      "                              Maharashtra  3010597   55878  3010597    55878          0           0           1.86\n",
      "                                   Kerala  1135234    4669  1135234     4669          0           0           0.41\n",
      "                                Karnataka  1015155   12625  1015155    12625          0           0           1.24\n",
      "                           Andhra Pradesh   909002    7244   907676     7239       1326           5           0.80\n",
      "                               Tamil Nadu   899807   12778   899807    12778          0           0           1.42\n",
      "                                    Delhi   676414   11081   676414    11081          0           0           1.64\n",
      "                            Uttar Pradesh   630059    8881   630059     8881          0           0           1.41\n",
      "                              West Bengal   593615   10344   593615    10344          0           0           1.74\n",
      "                             Chhattisgarh   369046    4319   369046     4319          0           0           1.17\n",
      "                                   Odisha   343268    1975   342695     1975        573           0           0.58\n",
      "                                Rajasthan   339325    2829   339325     2829          0           0           0.83\n",
      "                                  Gujarat   318438    4566   318438     4566          0           0           1.43\n",
      "                                Telangana   313237    1723   312140     1717       1097           6           0.55\n",
      "                           Madhya Pradesh   306851    4040   306851     4040          0           0           1.32\n",
      "                                  Haryana   298133    3191   298133     3191          0           0           1.07\n",
      "                                    Bihar   268377    1583   268377     1583          0           0           0.59\n",
      "                                   Punjab   251460    7083   251460     7083          0           0           2.82\n",
      "                                    Assam   218670    1109   218670     1109          0           0           0.51\n",
      "                        Jammu and Kashmir   133012    2008   133012     2008          0           0           1.51\n",
      "                                Jharkhand   127245    1130   127245     1130          0           0           0.89\n",
      "                              Uttarakhand   102264    1727   102264     1727          0           0           1.69\n",
      "                         Himachal Pradesh    65242    1057    65242     1057          0           0           1.62\n",
      "                                      Goa    59315     837    59068      835        247           2           1.41\n",
      "                               Puducherry    42539     684    42359      684        180           0           1.61\n",
      "                                  Tripura    33537     389    33534      389          3           0           1.16\n",
      "                                  Manipur    29419     374    29419      374          0           0           1.27\n",
      "                               Chandigarh    28194     383    28194      383          0           0           1.36\n",
      "                        Arunachal Pradesh    16849      56    16849       56          0           0           0.33\n",
      "                                Meghalaya    14126     150    14122      150          4           0           1.06\n",
      "                                 Nagaland    12365      91    12363       91          2           0           0.74\n",
      "                                   Ladakh    10255     130    10255      130          0           0           1.27\n",
      "                                   Sikkim     6257     135     6257      135          0           0           2.16\n",
      "              Andaman and Nicobar Islands     5109      62     5109       62          0           0           1.21\n",
      "                                  Mizoram     4491      11     4490       11          1           0           0.24\n",
      " Dadra and Nagar Haveli and Daman and Diu     3721       2     3706        2         15           0           0.05\n",
      "                              Lakshadweep      741       1      741        1          0           0           0.13\n"
     ]
    }
   ],
   "source": [
    "#hide_input\n",
    "print(df_table.to_string(index=False))"
   ]
  },
  {
   "cell_type": "code",
   "execution_count": null,
   "id": "quantitative-legend",
   "metadata": {
    "papermill": {
     "duration": 0.028127,
     "end_time": "2021-04-05T13:17:30.983738",
     "exception": false,
     "start_time": "2021-04-05T13:17:30.955611",
     "status": "completed"
    },
    "tags": []
   },
   "outputs": [],
   "source": []
  },
  {
   "cell_type": "code",
   "execution_count": null,
   "id": "distant-acoustic",
   "metadata": {
    "papermill": {
     "duration": 0.028592,
     "end_time": "2021-04-05T13:17:31.040655",
     "exception": false,
     "start_time": "2021-04-05T13:17:31.012063",
     "status": "completed"
    },
    "tags": []
   },
   "outputs": [],
   "source": []
  }
 ],
 "metadata": {
  "kernelspec": {
   "display_name": "Python 3",
   "language": "python",
   "name": "python3"
  },
  "language_info": {
   "codemirror_mode": {
    "name": "ipython",
    "version": 3
   },
   "file_extension": ".py",
   "mimetype": "text/x-python",
   "name": "python",
   "nbconvert_exporter": "python",
   "pygments_lexer": "ipython3",
   "version": "3.6.13"
  },
  "papermill": {
   "duration": 28.18995,
   "end_time": "2021-04-05T13:17:31.778354",
   "environment_variables": {},
   "exception": null,
   "input_path": "latest.ipynb",
   "output_path": "latest.ipynb",
   "parameters": {},
   "start_time": "2021-04-05T13:17:03.588404",
   "version": "2.1.2"
  }
 },
 "nbformat": 4,
 "nbformat_minor": 5
}