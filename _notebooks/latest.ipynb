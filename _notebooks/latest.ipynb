{
 "cells": [
  {
   "cell_type": "markdown",
   "metadata": {
    "papermill": {
     "duration": 0.019718,
     "end_time": "2020-09-11T09:21:10.358311",
     "exception": false,
     "start_time": "2020-09-11T09:21:10.338593",
     "status": "completed"
    },
    "tags": []
   },
   "source": [
    "# Latest COVID-19 India Matplotlib Overview"
   ]
  },
  {
   "cell_type": "code",
   "execution_count": 1,
   "metadata": {
    "execution": {
     "iopub.execute_input": "2020-09-11T09:21:10.398036Z",
     "iopub.status.busy": "2020-09-11T09:21:10.397425Z",
     "iopub.status.idle": "2020-09-11T09:21:11.006413Z",
     "shell.execute_reply": "2020-09-11T09:21:11.007014Z"
    },
    "papermill": {
     "duration": 0.631472,
     "end_time": "2020-09-11T09:21:11.007202",
     "exception": false,
     "start_time": "2020-09-11T09:21:10.375730",
     "status": "completed"
    },
    "tags": []
   },
   "outputs": [],
   "source": [
    "#hide\n",
    "import pandas as pd\n",
    "import numpy as np\n",
    "import requests\n",
    "import json\n",
    "import matplotlib.pyplot as plt\n",
    "import matplotlib.dates as mdates\n",
    "import matplotlib as mpl\n",
    "from IPython.core.display import display,HTML\n",
    "%matplotlib inline\n",
    "from datetime import date"
   ]
  },
  {
   "cell_type": "code",
   "execution_count": 2,
   "metadata": {
    "execution": {
     "iopub.execute_input": "2020-09-11T09:21:11.632270Z",
     "iopub.status.busy": "2020-09-11T09:21:11.631668Z",
     "iopub.status.idle": "2020-09-11T09:21:11.847021Z",
     "shell.execute_reply": "2020-09-11T09:21:11.846015Z"
    },
    "papermill": {
     "duration": 0.269187,
     "end_time": "2020-09-11T09:21:11.847166",
     "exception": false,
     "start_time": "2020-09-11T09:21:11.577979",
     "status": "completed"
    },
    "tags": []
   },
   "outputs": [],
   "source": [
    "#hide\n",
    "df  = pd.read_csv('https://api.covid19india.org/csv/latest/states.csv')\n",
    "df = df[['Date','State','Confirmed','Deceased']]\n",
    "df = df.rename(columns={'Confirmed':'Cases', \"Deceased\":'Deaths'})\n",
    "df_cases = df[[\"Date\",'State','Cases']]\n",
    "df_deaths = df[['Date','State','Deaths']]\n",
    "df_cases1 = df_cases.groupby('Date')\n",
    "df_deaths1= df_deaths.groupby('Date')"
   ]
  },
  {
   "cell_type": "code",
   "execution_count": 3,
   "metadata": {
    "execution": {
     "iopub.execute_input": "2020-09-11T09:21:11.916759Z",
     "iopub.status.busy": "2020-09-11T09:21:11.916161Z",
     "iopub.status.idle": "2020-09-11T09:21:11.934681Z",
     "shell.execute_reply": "2020-09-11T09:21:11.934064Z"
    },
    "papermill": {
     "duration": 0.059816,
     "end_time": "2020-09-11T09:21:11.934826",
     "exception": false,
     "start_time": "2020-09-11T09:21:11.875010",
     "status": "completed"
    },
    "tags": []
   },
   "outputs": [],
   "source": [
    "#hide\n",
    "df_snap = pd.read_csv('data/SnapshotCases-28-July.csv')\n",
    "arr_states = df_snap['states'].unique()\n",
    "arr_dates = df['Date'].unique()\n",
    "df_snap = df_snap.set_index('states')"
   ]
  },
  {
   "cell_type": "code",
   "execution_count": 4,
   "metadata": {
    "execution": {
     "iopub.execute_input": "2020-09-11T09:21:12.010515Z",
     "iopub.status.busy": "2020-09-11T09:21:12.009429Z",
     "iopub.status.idle": "2020-09-11T09:21:12.012992Z",
     "shell.execute_reply": "2020-09-11T09:21:12.012496Z"
    },
    "papermill": {
     "duration": 0.029572,
     "end_time": "2020-09-11T09:21:12.013118",
     "exception": false,
     "start_time": "2020-09-11T09:21:11.983546",
     "status": "completed"
    },
    "tags": []
   },
   "outputs": [
    {
     "data": {
      "text/plain": [
       "array(['Andaman and Nicobar Islands', 'Andhra Pradesh',\n",
       "       'Arunachal Pradesh', 'Assam', 'Bihar', 'Chandigarh',\n",
       "       'Dadra and Nagar Haveli and Daman and Diu', 'Delhi', 'Goa',\n",
       "       'Gujarat', 'Haryana', 'Himachal Pradesh', 'Jammu and Kashmir',\n",
       "       'Jharkhand', 'Karnataka', 'Kerala', 'Lakshadweep',\n",
       "       'Madhya Pradesh', 'Maharashtra', 'Manipur', 'Meghalaya', 'Mizoram',\n",
       "       'Nagaland', 'Odisha', 'Puducherry', 'Punjab', 'Rajasthan',\n",
       "       'Sikkim', 'Tamil Nadu', 'Telangana', 'Tripura', 'Uttar Pradesh',\n",
       "       'West Bengal', 'Chhattisgarh', 'Ladakh', 'Uttarakhand'],\n",
       "      dtype=object)"
      ]
     },
     "execution_count": 4,
     "metadata": {},
     "output_type": "execute_result"
    }
   ],
   "source": [
    "#hide\n",
    "arr_states[-9] = 'Puducherry'\n",
    "arr_states[-10] = 'Odisha'\n",
    "arr_states[6] = 'Dadra and Nagar Haveli and Daman and Diu'\n",
    "arr_states = np.append(arr_states,np.array(['Chhattisgarh','Ladakh','Uttarakhand']))\n",
    "arr_states"
   ]
  },
  {
   "cell_type": "code",
   "execution_count": 5,
   "metadata": {
    "execution": {
     "iopub.execute_input": "2020-09-11T09:21:12.132079Z",
     "iopub.status.busy": "2020-09-11T09:21:12.131448Z",
     "iopub.status.idle": "2020-09-11T09:21:12.138419Z",
     "shell.execute_reply": "2020-09-11T09:21:12.139394Z"
    },
    "papermill": {
     "duration": 0.05563,
     "end_time": "2020-09-11T09:21:12.139557",
     "exception": false,
     "start_time": "2020-09-11T09:21:12.083927",
     "status": "completed"
    },
    "tags": []
   },
   "outputs": [],
   "source": [
    "#hide\n",
    "dates = []\n",
    "for i in arr_dates:\n",
    "    if i>='2020-07-01':\n",
    "        dates.append(i)\n",
    "dict = {'states':dates}\n",
    "for i in arr_states:\n",
    "    dict[i] = [0]*len(dates)\n",
    "dft_cases = pd.DataFrame(dict)\n",
    "dft_deaths = pd.DataFrame(dict)\n"
   ]
  },
  {
   "cell_type": "code",
   "execution_count": 6,
   "metadata": {
    "execution": {
     "iopub.execute_input": "2020-09-11T09:21:12.291337Z",
     "iopub.status.busy": "2020-09-11T09:21:12.290672Z",
     "iopub.status.idle": "2020-09-11T09:21:13.566846Z",
     "shell.execute_reply": "2020-09-11T09:21:13.565952Z"
    },
    "papermill": {
     "duration": 1.37208,
     "end_time": "2020-09-11T09:21:13.567091",
     "exception": false,
     "start_time": "2020-09-11T09:21:12.195011",
     "status": "completed"
    },
    "tags": []
   },
   "outputs": [],
   "source": [
    "#hide\n",
    "for i in range(len(dates)):\n",
    "    df1_deaths = df_deaths1.get_group(dates[i])\n",
    "    for j in range(len(df1_deaths.index)):\n",
    "        if df1_deaths.iloc[j,1] in arr_states:\n",
    "            dft_deaths.loc[i,df1_deaths.iloc[j,1]] = df1_deaths.iloc[j,2]\n",
    "dft_deaths = dft_deaths.set_index('states')"
   ]
  },
  {
   "cell_type": "code",
   "execution_count": 7,
   "metadata": {
    "execution": {
     "iopub.execute_input": "2020-09-11T09:21:13.609929Z",
     "iopub.status.busy": "2020-09-11T09:21:13.609285Z",
     "iopub.status.idle": "2020-09-11T09:21:14.899593Z",
     "shell.execute_reply": "2020-09-11T09:21:14.899076Z"
    },
    "papermill": {
     "duration": 1.314449,
     "end_time": "2020-09-11T09:21:14.899732",
     "exception": false,
     "start_time": "2020-09-11T09:21:13.585283",
     "status": "completed"
    },
    "tags": []
   },
   "outputs": [],
   "source": [
    "#hide\n",
    "for i in range(len(dates)):\n",
    "    df1_cases = df_cases1.get_group(dates[i])\n",
    "    for j in range(len(df1_cases.index)):\n",
    "        if df1_cases.iloc[j,1] in arr_states:\n",
    "            dft_cases.loc[i,df1_cases.iloc[j,1]] = df1_cases.iloc[j,2]\n",
    "dft_cases = dft_cases.set_index('states')"
   ]
  },
  {
   "cell_type": "code",
   "execution_count": 8,
   "metadata": {
    "execution": {
     "iopub.execute_input": "2020-09-11T09:21:14.941004Z",
     "iopub.status.busy": "2020-09-11T09:21:14.940398Z",
     "iopub.status.idle": "2020-09-11T09:21:14.943971Z",
     "shell.execute_reply": "2020-09-11T09:21:14.944449Z"
    },
    "papermill": {
     "duration": 0.026957,
     "end_time": "2020-09-11T09:21:14.944617",
     "exception": false,
     "start_time": "2020-09-11T09:21:14.917660",
     "status": "completed"
    },
    "tags": []
   },
   "outputs": [],
   "source": [
    "#hide\n",
    "dft_cases = dft_cases.T\n",
    "dft_deaths = dft_deaths.T\n",
    "dt_today = dates[-1]\n",
    "dt_yday = dates[-2]"
   ]
  },
  {
   "cell_type": "code",
   "execution_count": 9,
   "metadata": {
    "execution": {
     "iopub.execute_input": "2020-09-11T09:21:14.984217Z",
     "iopub.status.busy": "2020-09-11T09:21:14.983525Z",
     "iopub.status.idle": "2020-09-11T09:21:14.989013Z",
     "shell.execute_reply": "2020-09-11T09:21:14.988498Z"
    },
    "papermill": {
     "duration": 0.028128,
     "end_time": "2020-09-11T09:21:14.989137",
     "exception": false,
     "start_time": "2020-09-11T09:21:14.961009",
     "status": "completed"
    },
    "tags": []
   },
   "outputs": [],
   "source": [
    "#hide\n",
    "dft_cases = dft_cases.reset_index()\n",
    "dft_deaths = dft_deaths.reset_index()\n",
    "dft_cases = dft_cases.rename(columns = {'index':'state'})\n",
    "dft_deaths = dft_deaths.rename(columns = {'index':'state'})"
   ]
  },
  {
   "cell_type": "code",
   "execution_count": 10,
   "metadata": {
    "execution": {
     "iopub.execute_input": "2020-09-11T09:21:15.036241Z",
     "iopub.status.busy": "2020-09-11T09:21:15.035620Z",
     "iopub.status.idle": "2020-09-11T09:21:15.039213Z",
     "shell.execute_reply": "2020-09-11T09:21:15.038691Z"
    },
    "papermill": {
     "duration": 0.032168,
     "end_time": "2020-09-11T09:21:15.039330",
     "exception": false,
     "start_time": "2020-09-11T09:21:15.007162",
     "status": "completed"
    },
    "tags": []
   },
   "outputs": [],
   "source": [
    "#hide\n",
    "dfc_cases = dft_cases.groupby('state')[dt_today].sum()\n",
    "dfc_deaths = dft_deaths.groupby('state')[dt_today].sum()\n",
    "dfp_cases = dft_cases.groupby('state')[dt_yday].sum()\n",
    "dfp_deaths = dft_deaths.groupby('state')[dt_yday].sum()"
   ]
  },
  {
   "cell_type": "code",
   "execution_count": 11,
   "metadata": {
    "execution": {
     "iopub.execute_input": "2020-09-11T09:21:15.091185Z",
     "iopub.status.busy": "2020-09-11T09:21:15.090420Z",
     "iopub.status.idle": "2020-09-11T09:21:15.097262Z",
     "shell.execute_reply": "2020-09-11T09:21:15.097766Z"
    },
    "papermill": {
     "duration": 0.042037,
     "end_time": "2020-09-11T09:21:15.097923",
     "exception": false,
     "start_time": "2020-09-11T09:21:15.055886",
     "status": "completed"
    },
    "tags": []
   },
   "outputs": [
    {
     "data": {
      "text/html": [
       "<div>\n",
       "<style scoped>\n",
       "    .dataframe tbody tr th:only-of-type {\n",
       "        vertical-align: middle;\n",
       "    }\n",
       "\n",
       "    .dataframe tbody tr th {\n",
       "        vertical-align: top;\n",
       "    }\n",
       "\n",
       "    .dataframe thead th {\n",
       "        text-align: right;\n",
       "    }\n",
       "</style>\n",
       "<table border=\"1\" class=\"dataframe\">\n",
       "  <thead>\n",
       "    <tr style=\"text-align: right;\">\n",
       "      <th></th>\n",
       "      <th>states</th>\n",
       "      <th>Cases</th>\n",
       "      <th>Deaths</th>\n",
       "      <th>PCases</th>\n",
       "      <th>PDeaths</th>\n",
       "    </tr>\n",
       "  </thead>\n",
       "  <tbody>\n",
       "    <tr>\n",
       "      <th>0</th>\n",
       "      <td>Maharashtra</td>\n",
       "      <td>990795</td>\n",
       "      <td>28282</td>\n",
       "      <td>990795</td>\n",
       "      <td>28282</td>\n",
       "    </tr>\n",
       "    <tr>\n",
       "      <th>1</th>\n",
       "      <td>Andhra Pradesh</td>\n",
       "      <td>537687</td>\n",
       "      <td>4702</td>\n",
       "      <td>537687</td>\n",
       "      <td>4702</td>\n",
       "    </tr>\n",
       "    <tr>\n",
       "      <th>2</th>\n",
       "      <td>Tamil Nadu</td>\n",
       "      <td>486052</td>\n",
       "      <td>8157</td>\n",
       "      <td>486052</td>\n",
       "      <td>8157</td>\n",
       "    </tr>\n",
       "    <tr>\n",
       "      <th>3</th>\n",
       "      <td>Karnataka</td>\n",
       "      <td>430947</td>\n",
       "      <td>6937</td>\n",
       "      <td>430947</td>\n",
       "      <td>6937</td>\n",
       "    </tr>\n",
       "    <tr>\n",
       "      <th>4</th>\n",
       "      <td>Uttar Pradesh</td>\n",
       "      <td>292029</td>\n",
       "      <td>4206</td>\n",
       "      <td>292029</td>\n",
       "      <td>4206</td>\n",
       "    </tr>\n",
       "  </tbody>\n",
       "</table>\n",
       "</div>"
      ],
      "text/plain": [
       "           states   Cases  Deaths  PCases  PDeaths\n",
       "0     Maharashtra  990795   28282  990795    28282\n",
       "1  Andhra Pradesh  537687    4702  537687     4702\n",
       "2      Tamil Nadu  486052    8157  486052     8157\n",
       "3       Karnataka  430947    6937  430947     6937\n",
       "4   Uttar Pradesh  292029    4206  292029     4206"
      ]
     },
     "execution_count": 11,
     "metadata": {},
     "output_type": "execute_result"
    }
   ],
   "source": [
    "#hide\n",
    "df_table = pd.DataFrame({'states': dfc_cases.index, 'Cases': dfc_cases.values, 'Deaths': dfc_deaths.values, 'PCases': dfp_cases.values, 'PDeaths': dfp_deaths.values}).set_index('states')\n",
    "df_table = df_table.sort_values(by = ['Cases','Deaths'], ascending = [False, False])\n",
    "df_table = df_table.reset_index()\n",
    "df_table.head()"
   ]
  },
  {
   "cell_type": "code",
   "execution_count": 12,
   "metadata": {
    "execution": {
     "iopub.execute_input": "2020-09-11T09:21:15.140035Z",
     "iopub.status.busy": "2020-09-11T09:21:15.139384Z",
     "iopub.status.idle": "2020-09-11T09:21:15.149326Z",
     "shell.execute_reply": "2020-09-11T09:21:15.148780Z"
    },
    "papermill": {
     "duration": 0.033683,
     "end_time": "2020-09-11T09:21:15.149464",
     "exception": false,
     "start_time": "2020-09-11T09:21:15.115781",
     "status": "completed"
    },
    "tags": []
   },
   "outputs": [],
   "source": [
    "#hide\n",
    "for c in 'Cases, Deaths'.split(', '):\n",
    "    df_table[f'{c} (+)'] = (df_table[c] - df_table[f'P{c}']).clip(0)\n",
    "df_table['Fatality Rate'] = (100* df_table['Deaths']/ df_table['Cases']).round(2)"
   ]
  },
  {
   "cell_type": "code",
   "execution_count": 13,
   "metadata": {
    "execution": {
     "iopub.execute_input": "2020-09-11T09:21:15.195742Z",
     "iopub.status.busy": "2020-09-11T09:21:15.195140Z",
     "iopub.status.idle": "2020-09-11T09:21:15.198779Z",
     "shell.execute_reply": "2020-09-11T09:21:15.198213Z"
    },
    "papermill": {
     "duration": 0.032181,
     "end_time": "2020-09-11T09:21:15.198929",
     "exception": false,
     "start_time": "2020-09-11T09:21:15.166748",
     "status": "completed"
    },
    "tags": []
   },
   "outputs": [
    {
     "data": {
      "text/html": [
       "<div>\n",
       "<style scoped>\n",
       "    .dataframe tbody tr th:only-of-type {\n",
       "        vertical-align: middle;\n",
       "    }\n",
       "\n",
       "    .dataframe tbody tr th {\n",
       "        vertical-align: top;\n",
       "    }\n",
       "\n",
       "    .dataframe thead th {\n",
       "        text-align: right;\n",
       "    }\n",
       "</style>\n",
       "<table border=\"1\" class=\"dataframe\">\n",
       "  <thead>\n",
       "    <tr style=\"text-align: right;\">\n",
       "      <th></th>\n",
       "      <th>states</th>\n",
       "      <th>Cases</th>\n",
       "      <th>Deaths</th>\n",
       "      <th>PCases</th>\n",
       "      <th>PDeaths</th>\n",
       "      <th>Cases (+)</th>\n",
       "      <th>Deaths (+)</th>\n",
       "      <th>Fatality Rate</th>\n",
       "    </tr>\n",
       "  </thead>\n",
       "  <tbody>\n",
       "    <tr>\n",
       "      <th>0</th>\n",
       "      <td>Maharashtra</td>\n",
       "      <td>990795</td>\n",
       "      <td>28282</td>\n",
       "      <td>990795</td>\n",
       "      <td>28282</td>\n",
       "      <td>0</td>\n",
       "      <td>0</td>\n",
       "      <td>2.85</td>\n",
       "    </tr>\n",
       "    <tr>\n",
       "      <th>1</th>\n",
       "      <td>Andhra Pradesh</td>\n",
       "      <td>537687</td>\n",
       "      <td>4702</td>\n",
       "      <td>537687</td>\n",
       "      <td>4702</td>\n",
       "      <td>0</td>\n",
       "      <td>0</td>\n",
       "      <td>0.87</td>\n",
       "    </tr>\n",
       "    <tr>\n",
       "      <th>2</th>\n",
       "      <td>Tamil Nadu</td>\n",
       "      <td>486052</td>\n",
       "      <td>8157</td>\n",
       "      <td>486052</td>\n",
       "      <td>8157</td>\n",
       "      <td>0</td>\n",
       "      <td>0</td>\n",
       "      <td>1.68</td>\n",
       "    </tr>\n",
       "    <tr>\n",
       "      <th>3</th>\n",
       "      <td>Karnataka</td>\n",
       "      <td>430947</td>\n",
       "      <td>6937</td>\n",
       "      <td>430947</td>\n",
       "      <td>6937</td>\n",
       "      <td>0</td>\n",
       "      <td>0</td>\n",
       "      <td>1.61</td>\n",
       "    </tr>\n",
       "    <tr>\n",
       "      <th>4</th>\n",
       "      <td>Uttar Pradesh</td>\n",
       "      <td>292029</td>\n",
       "      <td>4206</td>\n",
       "      <td>292029</td>\n",
       "      <td>4206</td>\n",
       "      <td>0</td>\n",
       "      <td>0</td>\n",
       "      <td>1.44</td>\n",
       "    </tr>\n",
       "  </tbody>\n",
       "</table>\n",
       "</div>"
      ],
      "text/plain": [
       "           states   Cases  Deaths  PCases  PDeaths  Cases (+)  Deaths (+)  \\\n",
       "0     Maharashtra  990795   28282  990795    28282          0           0   \n",
       "1  Andhra Pradesh  537687    4702  537687     4702          0           0   \n",
       "2      Tamil Nadu  486052    8157  486052     8157          0           0   \n",
       "3       Karnataka  430947    6937  430947     6937          0           0   \n",
       "4   Uttar Pradesh  292029    4206  292029     4206          0           0   \n",
       "\n",
       "   Fatality Rate  \n",
       "0           2.85  \n",
       "1           0.87  \n",
       "2           1.68  \n",
       "3           1.61  \n",
       "4           1.44  "
      ]
     },
     "execution_count": 13,
     "metadata": {},
     "output_type": "execute_result"
    }
   ],
   "source": [
    "#hide\n",
    "df_table.head()"
   ]
  },
  {
   "cell_type": "code",
   "execution_count": 14,
   "metadata": {
    "execution": {
     "iopub.execute_input": "2020-09-11T09:21:15.239644Z",
     "iopub.status.busy": "2020-09-11T09:21:15.239029Z",
     "iopub.status.idle": "2020-09-11T09:21:15.259310Z",
     "shell.execute_reply": "2020-09-11T09:21:15.259820Z"
    },
    "papermill": {
     "duration": 0.04407,
     "end_time": "2020-09-11T09:21:15.260810",
     "exception": false,
     "start_time": "2020-09-11T09:21:15.216740",
     "status": "completed"
    },
    "tags": []
   },
   "outputs": [
    {
     "data": {
      "text/plain": [
       "{'updated': '2020-09-11',\n",
       " 'since': '2020-09-10',\n",
       " 'Cases': 4566726,\n",
       " 'PCases': 4559725,\n",
       " 'Deaths': 76336,\n",
       " 'PDeaths': 76304,\n",
       " 'Cases (+)': 7001,\n",
       " 'Deaths (+)': 32}"
      ]
     },
     "execution_count": 14,
     "metadata": {},
     "output_type": "execute_result"
    }
   ],
   "source": [
    "#hide\n",
    "summary = {'updated':dates[-1], 'since':dates[-2]}\n",
    "list_names = ['Cases', 'PCases', 'Deaths', 'PDeaths', 'Cases (+)', 'Deaths (+)']\n",
    "for name in list_names:\n",
    "    summary[name] = df_table.sum()[name]\n",
    "summary"
   ]
  },
  {
   "cell_type": "code",
   "execution_count": 15,
   "metadata": {
    "execution": {
     "iopub.execute_input": "2020-09-11T09:21:15.305619Z",
     "iopub.status.busy": "2020-09-11T09:21:15.304932Z",
     "iopub.status.idle": "2020-09-11T09:21:15.307453Z",
     "shell.execute_reply": "2020-09-11T09:21:15.306794Z"
    },
    "papermill": {
     "duration": 0.026182,
     "end_time": "2020-09-11T09:21:15.307584",
     "exception": false,
     "start_time": "2020-09-11T09:21:15.281402",
     "status": "completed"
    },
    "tags": []
   },
   "outputs": [],
   "source": [
    "#hide\n",
    "overview = '''\n",
    "<!-- #######  HTML!! #########-->\n",
    "<h1 style=\"color: #5e9ca0; text-align: center;\">India</h1>\n",
    "<p style=\"text-align: center;\">Last update: <strong>{update}</strong></p>\n",
    "<p style=\"text-align: center;\">Confirmed cases:</p>\n",
    "<p style=\"text-align: center;font-size:24px;\">{cases} (<span style=\"color: #ff0000;\">+{new}</span>)</p>\n",
    "<p style=\"text-align: center;\">Confirmed deaths:</p>\n",
    "<p style=\"text-align: center;font-size:24px;\">{deaths} (<span style=\"color: #ff0000;\">+{dnew}</span>)</p>\n",
    "'''"
   ]
  },
  {
   "cell_type": "code",
   "execution_count": 16,
   "metadata": {
    "execution": {
     "iopub.execute_input": "2020-09-11T09:21:15.352609Z",
     "iopub.status.busy": "2020-09-11T09:21:15.351879Z",
     "iopub.status.idle": "2020-09-11T09:21:15.355479Z",
     "shell.execute_reply": "2020-09-11T09:21:15.354989Z"
    },
    "papermill": {
     "duration": 0.029321,
     "end_time": "2020-09-11T09:21:15.355608",
     "exception": false,
     "start_time": "2020-09-11T09:21:15.326287",
     "status": "completed"
    },
    "tags": []
   },
   "outputs": [
    {
     "data": {
      "text/html": [
       "\n",
       "<!-- #######  HTML!! #########-->\n",
       "<h1 style=\"color: #5e9ca0; text-align: center;\">India</h1>\n",
       "<p style=\"text-align: center;\">Last update: <strong>2020-09-11</strong></p>\n",
       "<p style=\"text-align: center;\">Confirmed cases:</p>\n",
       "<p style=\"text-align: center;font-size:24px;\">4566726 (<span style=\"color: #ff0000;\">+7001</span>)</p>\n",
       "<p style=\"text-align: center;\">Confirmed deaths:</p>\n",
       "<p style=\"text-align: center;font-size:24px;\">76336 (<span style=\"color: #ff0000;\">+32</span>)</p>\n"
      ],
      "text/plain": [
       "<IPython.core.display.HTML object>"
      ]
     },
     "metadata": {},
     "output_type": "display_data"
    }
   ],
   "source": [
    "#hide_input\n",
    "update = summary['updated']\n",
    "cases = summary['Cases']\n",
    "new = summary['Cases (+)']\n",
    "deaths = summary['Deaths']\n",
    "dnew = summary['Deaths (+)']\n",
    "\n",
    "html = HTML(overview.format(update=update, cases=cases,new=new,deaths=deaths,dnew=dnew))\n",
    "\n",
    "display(html)"
   ]
  },
  {
   "cell_type": "code",
   "execution_count": 17,
   "metadata": {
    "execution": {
     "iopub.execute_input": "2020-09-11T09:21:15.403245Z",
     "iopub.status.busy": "2020-09-11T09:21:15.402548Z",
     "iopub.status.idle": "2020-09-11T09:21:15.408534Z",
     "shell.execute_reply": "2020-09-11T09:21:15.407934Z"
    },
    "papermill": {
     "duration": 0.033691,
     "end_time": "2020-09-11T09:21:15.408673",
     "exception": false,
     "start_time": "2020-09-11T09:21:15.374982",
     "status": "completed"
    },
    "tags": []
   },
   "outputs": [],
   "source": [
    "#hide\n",
    "dt_cols = list(dft_cases.columns[1:])\n",
    "dft_ct_new_cases = dft_cases.groupby('state')[dt_cols].sum().diff(axis=1).fillna(0).astype(int)\n",
    "dft_ct_new_cases.sort_values(by = dates[-1], ascending = False,inplace = True)"
   ]
  },
  {
   "cell_type": "code",
   "execution_count": 18,
   "metadata": {
    "execution": {
     "iopub.execute_input": "2020-09-11T09:21:15.467534Z",
     "iopub.status.busy": "2020-09-11T09:21:15.466758Z",
     "iopub.status.idle": "2020-09-11T09:21:15.469708Z",
     "shell.execute_reply": "2020-09-11T09:21:15.470244Z"
    },
    "papermill": {
     "duration": 0.04266,
     "end_time": "2020-09-11T09:21:15.470400",
     "exception": false,
     "start_time": "2020-09-11T09:21:15.427740",
     "status": "completed"
    },
    "tags": []
   },
   "outputs": [
    {
     "data": {
      "text/html": [
       "<div>\n",
       "<style scoped>\n",
       "    .dataframe tbody tr th:only-of-type {\n",
       "        vertical-align: middle;\n",
       "    }\n",
       "\n",
       "    .dataframe tbody tr th {\n",
       "        vertical-align: top;\n",
       "    }\n",
       "\n",
       "    .dataframe thead th {\n",
       "        text-align: right;\n",
       "    }\n",
       "</style>\n",
       "<table border=\"1\" class=\"dataframe\">\n",
       "  <thead>\n",
       "    <tr style=\"text-align: right;\">\n",
       "      <th>states</th>\n",
       "      <th>2020-07-01</th>\n",
       "      <th>2020-07-02</th>\n",
       "      <th>2020-07-03</th>\n",
       "      <th>2020-07-04</th>\n",
       "      <th>2020-07-05</th>\n",
       "      <th>2020-07-06</th>\n",
       "      <th>2020-07-07</th>\n",
       "      <th>2020-07-08</th>\n",
       "      <th>2020-07-09</th>\n",
       "      <th>2020-07-10</th>\n",
       "      <th>...</th>\n",
       "      <th>2020-09-02</th>\n",
       "      <th>2020-09-03</th>\n",
       "      <th>2020-09-04</th>\n",
       "      <th>2020-09-05</th>\n",
       "      <th>2020-09-06</th>\n",
       "      <th>2020-09-07</th>\n",
       "      <th>2020-09-08</th>\n",
       "      <th>2020-09-09</th>\n",
       "      <th>2020-09-10</th>\n",
       "      <th>2020-09-11</th>\n",
       "    </tr>\n",
       "    <tr>\n",
       "      <th>state</th>\n",
       "      <th></th>\n",
       "      <th></th>\n",
       "      <th></th>\n",
       "      <th></th>\n",
       "      <th></th>\n",
       "      <th></th>\n",
       "      <th></th>\n",
       "      <th></th>\n",
       "      <th></th>\n",
       "      <th></th>\n",
       "      <th></th>\n",
       "      <th></th>\n",
       "      <th></th>\n",
       "      <th></th>\n",
       "      <th></th>\n",
       "      <th></th>\n",
       "      <th></th>\n",
       "      <th></th>\n",
       "      <th></th>\n",
       "      <th></th>\n",
       "      <th></th>\n",
       "    </tr>\n",
       "  </thead>\n",
       "  <tbody>\n",
       "    <tr>\n",
       "      <th>Odisha</th>\n",
       "      <td>0</td>\n",
       "      <td>229</td>\n",
       "      <td>561</td>\n",
       "      <td>495</td>\n",
       "      <td>469</td>\n",
       "      <td>456</td>\n",
       "      <td>571</td>\n",
       "      <td>527</td>\n",
       "      <td>577</td>\n",
       "      <td>755</td>\n",
       "      <td>...</td>\n",
       "      <td>3219</td>\n",
       "      <td>3631</td>\n",
       "      <td>3267</td>\n",
       "      <td>3543</td>\n",
       "      <td>3810</td>\n",
       "      <td>3861</td>\n",
       "      <td>3490</td>\n",
       "      <td>3748</td>\n",
       "      <td>3991</td>\n",
       "      <td>3996</td>\n",
       "    </tr>\n",
       "    <tr>\n",
       "      <th>Telangana</th>\n",
       "      <td>0</td>\n",
       "      <td>1213</td>\n",
       "      <td>1892</td>\n",
       "      <td>1850</td>\n",
       "      <td>1590</td>\n",
       "      <td>1831</td>\n",
       "      <td>1879</td>\n",
       "      <td>1924</td>\n",
       "      <td>1410</td>\n",
       "      <td>1278</td>\n",
       "      <td>...</td>\n",
       "      <td>2892</td>\n",
       "      <td>2817</td>\n",
       "      <td>2478</td>\n",
       "      <td>2511</td>\n",
       "      <td>2574</td>\n",
       "      <td>1802</td>\n",
       "      <td>2392</td>\n",
       "      <td>2479</td>\n",
       "      <td>2534</td>\n",
       "      <td>2426</td>\n",
       "    </tr>\n",
       "    <tr>\n",
       "      <th>Tripura</th>\n",
       "      <td>0</td>\n",
       "      <td>39</td>\n",
       "      <td>93</td>\n",
       "      <td>25</td>\n",
       "      <td>23</td>\n",
       "      <td>111</td>\n",
       "      <td>24</td>\n",
       "      <td>57</td>\n",
       "      <td>16</td>\n",
       "      <td>142</td>\n",
       "      <td>...</td>\n",
       "      <td>566</td>\n",
       "      <td>590</td>\n",
       "      <td>524</td>\n",
       "      <td>691</td>\n",
       "      <td>603</td>\n",
       "      <td>399</td>\n",
       "      <td>628</td>\n",
       "      <td>582</td>\n",
       "      <td>535</td>\n",
       "      <td>559</td>\n",
       "    </tr>\n",
       "    <tr>\n",
       "      <th>Mizoram</th>\n",
       "      <td>0</td>\n",
       "      <td>2</td>\n",
       "      <td>0</td>\n",
       "      <td>2</td>\n",
       "      <td>22</td>\n",
       "      <td>11</td>\n",
       "      <td>1</td>\n",
       "      <td>5</td>\n",
       "      <td>0</td>\n",
       "      <td>23</td>\n",
       "      <td>...</td>\n",
       "      <td>8</td>\n",
       "      <td>20</td>\n",
       "      <td>6</td>\n",
       "      <td>16</td>\n",
       "      <td>31</td>\n",
       "      <td>21</td>\n",
       "      <td>9</td>\n",
       "      <td>69</td>\n",
       "      <td>141</td>\n",
       "      <td>20</td>\n",
       "    </tr>\n",
       "    <tr>\n",
       "      <th>Andaman and Nicobar Islands</th>\n",
       "      <td>0</td>\n",
       "      <td>9</td>\n",
       "      <td>7</td>\n",
       "      <td>3</td>\n",
       "      <td>6</td>\n",
       "      <td>16</td>\n",
       "      <td>6</td>\n",
       "      <td>2</td>\n",
       "      <td>7</td>\n",
       "      <td>0</td>\n",
       "      <td>...</td>\n",
       "      <td>26</td>\n",
       "      <td>37</td>\n",
       "      <td>34</td>\n",
       "      <td>35</td>\n",
       "      <td>40</td>\n",
       "      <td>27</td>\n",
       "      <td>33</td>\n",
       "      <td>34</td>\n",
       "      <td>39</td>\n",
       "      <td>0</td>\n",
       "    </tr>\n",
       "  </tbody>\n",
       "</table>\n",
       "<p>5 rows × 73 columns</p>\n",
       "</div>"
      ],
      "text/plain": [
       "states                       2020-07-01  2020-07-02  2020-07-03  2020-07-04  \\\n",
       "state                                                                         \n",
       "Odisha                                0         229         561         495   \n",
       "Telangana                             0        1213        1892        1850   \n",
       "Tripura                               0          39          93          25   \n",
       "Mizoram                               0           2           0           2   \n",
       "Andaman and Nicobar Islands           0           9           7           3   \n",
       "\n",
       "states                       2020-07-05  2020-07-06  2020-07-07  2020-07-08  \\\n",
       "state                                                                         \n",
       "Odisha                              469         456         571         527   \n",
       "Telangana                          1590        1831        1879        1924   \n",
       "Tripura                              23         111          24          57   \n",
       "Mizoram                              22          11           1           5   \n",
       "Andaman and Nicobar Islands           6          16           6           2   \n",
       "\n",
       "states                       2020-07-09  2020-07-10  ...  2020-09-02  \\\n",
       "state                                                ...               \n",
       "Odisha                              577         755  ...        3219   \n",
       "Telangana                          1410        1278  ...        2892   \n",
       "Tripura                              16         142  ...         566   \n",
       "Mizoram                               0          23  ...           8   \n",
       "Andaman and Nicobar Islands           7           0  ...          26   \n",
       "\n",
       "states                       2020-09-03  2020-09-04  2020-09-05  2020-09-06  \\\n",
       "state                                                                         \n",
       "Odisha                             3631        3267        3543        3810   \n",
       "Telangana                          2817        2478        2511        2574   \n",
       "Tripura                             590         524         691         603   \n",
       "Mizoram                              20           6          16          31   \n",
       "Andaman and Nicobar Islands          37          34          35          40   \n",
       "\n",
       "states                       2020-09-07  2020-09-08  2020-09-09  2020-09-10  \\\n",
       "state                                                                         \n",
       "Odisha                             3861        3490        3748        3991   \n",
       "Telangana                          1802        2392        2479        2534   \n",
       "Tripura                             399         628         582         535   \n",
       "Mizoram                              21           9          69         141   \n",
       "Andaman and Nicobar Islands          27          33          34          39   \n",
       "\n",
       "states                       2020-09-11  \n",
       "state                                    \n",
       "Odisha                             3996  \n",
       "Telangana                          2426  \n",
       "Tripura                             559  \n",
       "Mizoram                              20  \n",
       "Andaman and Nicobar Islands           0  \n",
       "\n",
       "[5 rows x 73 columns]"
      ]
     },
     "execution_count": 18,
     "metadata": {},
     "output_type": "execute_result"
    }
   ],
   "source": [
    "#hide\n",
    "dft_ct_new_cases.head()"
   ]
  },
  {
   "cell_type": "code",
   "execution_count": 19,
   "metadata": {
    "execution": {
     "iopub.execute_input": "2020-09-11T09:21:15.514109Z",
     "iopub.status.busy": "2020-09-11T09:21:15.513265Z",
     "iopub.status.idle": "2020-09-11T09:21:19.526429Z",
     "shell.execute_reply": "2020-09-11T09:21:19.525942Z"
    },
    "papermill": {
     "duration": 4.035811,
     "end_time": "2020-09-11T09:21:19.526553",
     "exception": false,
     "start_time": "2020-09-11T09:21:15.490742",
     "status": "completed"
    },
    "tags": []
   },
   "outputs": [
    {
     "data": {
      "image/png": "[encoded data removed]",
      "text/plain": [
       "<Figure size 1296x2016 with 11 Axes>"
      ]
     },
     "metadata": {
      "needs_background": "light"
     },
     "output_type": "display_data"
    }
   ],
   "source": [
    "#hide_input\n",
    "df = dft_ct_new_cases.copy()\n",
    "df.loc['Total'] = df.sum()\n",
    "n = 5\n",
    "ax = []\n",
    "fig = plt.figure(figsize = (18,28))\n",
    "gs = fig.add_gridspec(n+2, 5)\n",
    "# gs = fig.add_gridspec(2, 3)\n",
    "ax1 = fig.add_subplot(gs[0, :])\n",
    "ef = df.loc['Total'].rename_axis('date').reset_index()\n",
    "ef['date'] = ef['date'].astype('datetime64[ns]')\n",
    "ax1.bar(ef.date,ef.Total,alpha=0.3,color='#007acc')\n",
    "ax1.plot(ef.date,ef.Total , marker=\"o\", color='#007acc')\n",
    "ax1.xaxis.set_major_locator(mdates.WeekdayLocator())\n",
    "ax1.xaxis.set_major_formatter(mdates.DateFormatter('%b %d'))\n",
    "ax1.text(0.02, 0.5,'India daily case count', transform = ax1.transAxes, fontsize=25);\n",
    "ax1.spines['right'].set_visible(False)\n",
    "ax1.spines['top'].set_visible(False)\n",
    "\n",
    "ax2 = fig.add_subplot(gs[1,0])\n",
    "ef = df.loc['Maharashtra'].rename_axis('date').reset_index()\n",
    "ef['date'] = ef['date'].astype('datetime64[ns]')\n",
    "\n",
    "ax2.bar(ef.date, ef.Maharashtra,color = '#007acc',alpha=0.5)\n",
    "ax2.xaxis.set_major_locator(mdates.WeekdayLocator())\n",
    "ax2.xaxis.set_major_formatter(mdates.DateFormatter('%b %d'))\n",
    "ax2.set_xticks(ax2.get_xticks()[::3])\n",
    "maxyval = ef.Maharashtra.max()\n",
    "ax2.set_ylim([0,maxyval])\n",
    "ax2.text(0.05, 0.9,'Maharashtra', transform = ax2.transAxes, fontsize=20);\n",
    "ax2.spines['right'].set_visible(False)\n",
    "ax2.spines['top'].set_visible(False)\n",
    "\n",
    "\n",
    "ax3 = fig.add_subplot(gs[1,1])\n",
    "ef = df.loc['Tamil Nadu'].rename_axis('date').reset_index()\n",
    "ef['date'] = ef['date'].astype('datetime64[ns]')\n",
    "ax3.bar(ef.date, ef['Tamil Nadu'],color = '#007acc',alpha=0.5,)\n",
    "ax3.xaxis.set_major_locator(mdates.WeekdayLocator())\n",
    "ax3.xaxis.set_major_formatter(mdates.DateFormatter('%b %d'))\n",
    "ax3.set_xticks(ax3.get_xticks()[::3])\n",
    "ax3.text(0.05, 0.9,'Tamil Nadu', transform = ax3.transAxes, fontsize=20);\n",
    "ax3.spines['right'].set_visible(False)\n",
    "ax3.spines['top'].set_visible(False)\n",
    "\n",
    "ax5 = fig.add_subplot(gs[1,3])\n",
    "ef = df.loc['Telangana'].rename_axis('date').reset_index()\n",
    "ef['date'] = ef['date'].astype('datetime64[ns]')\n",
    "ax5.bar(ef.date, ef['Telangana'],color = '#007acc',alpha=0.5,)\n",
    "ax5.xaxis.set_major_locator(mdates.WeekdayLocator())\n",
    "ax5.xaxis.set_major_formatter(mdates.DateFormatter('%b %d'))\n",
    "ax5.set_xticks(ax5.get_xticks()[::3])\n",
    "ax5.text(0.05, 0.9,'Telangana', transform = ax5.transAxes, fontsize=20);\n",
    "ax5.spines['right'].set_visible(False)\n",
    "ax5.spines['top'].set_visible(False)\n",
    "\n",
    "ax6 = fig.add_subplot(gs[1,4])\n",
    "ef = df.loc['Andhra Pradesh'].rename_axis('date').reset_index()\n",
    "ef['date'] = ef['date'].astype('datetime64[ns]')\n",
    "ax6.bar(ef.date, ef['Andhra Pradesh'],color = '#007acc',alpha=0.5,)\n",
    "ax6.xaxis.set_major_locator(mdates.WeekdayLocator())\n",
    "ax6.xaxis.set_major_formatter(mdates.DateFormatter('%b %d'))\n",
    "ax6.set_xticks(ax6.get_xticks()[::3])\n",
    "ax6.text(0.05, 1,'Andhra Pradesh', transform = ax6.transAxes, fontsize=20);\n",
    "ax6.spines['right'].set_visible(False)\n",
    "ax6.spines['top'].set_visible(False)\n",
    "\n",
    "ax4 = fig.add_subplot(gs[1,2])\n",
    "ef = df.loc['Delhi'].rename_axis('date').reset_index()\n",
    "ef['date'] = ef['date'].astype('datetime64[ns]')\n",
    "ax4.bar(ef.date, ef.Delhi,color = '#007acc',alpha=0.5)\n",
    "ax4.set_xticks([])\n",
    "ax4.xaxis.set_major_locator(mdates.WeekdayLocator())\n",
    "ax4.xaxis.set_major_formatter(mdates.DateFormatter('%b %d'))\n",
    "ax4.set_xticks(ax4.get_xticks()[::3])\n",
    "ax4.spines['right'].set_visible(False)\n",
    "ax4.spines['top'].set_visible(False)\n",
    "\n",
    "ax4.text(0.05, 1,'Delhi', transform = ax4.transAxes, fontsize=20)\n",
    "\n",
    "for i in range(n):\n",
    "    \n",
    "    ax.append(fig.add_subplot(gs[i+2,:]))\n",
    "    ef = df.iloc[i+3].rename_axis('date').reset_index()\n",
    "    ef['date'] = ef['date'].astype('datetime64[ns]')\n",
    "    ax[i].bar(ef.date,ef.iloc[:,-1],color = '#007acc',alpha=0.3)\n",
    "    ax[i].plot(ef.date,ef.iloc[:,-1],marker='o',color='#007acc')\n",
    "    ax[i].text(0.02,0.5,f'{ef.columns.values[-1]}',transform = ax[i].transAxes, fontsize = 20);\n",
    "    ax[i].xaxis.set_major_locator(mdates.WeekdayLocator())\n",
    "    ax[i].xaxis.set_major_formatter(mdates.DateFormatter('%b %d'))\n",
    "    ax[i].set_ylim([0,7000])\n",
    "    ax[i].spines['right'].set_visible(False)\n",
    "    ax[i].spines['top'].set_visible(False)\n",
    "plt.tight_layout()\n"
   ]
  },
  {
   "cell_type": "code",
   "execution_count": 20,
   "metadata": {
    "execution": {
     "iopub.execute_input": "2020-09-11T09:21:19.582367Z",
     "iopub.status.busy": "2020-09-11T09:21:19.581656Z",
     "iopub.status.idle": "2020-09-11T09:21:19.584200Z",
     "shell.execute_reply": "2020-09-11T09:21:19.584689Z"
    },
    "papermill": {
     "duration": 0.034543,
     "end_time": "2020-09-11T09:21:19.584831",
     "exception": false,
     "start_time": "2020-09-11T09:21:19.550288",
     "status": "completed"
    },
    "tags": []
   },
   "outputs": [
    {
     "name": "stdout",
     "output_type": "stream",
     "text": [
      "                                   states   Cases  Deaths  PCases  PDeaths  Cases (+)  Deaths (+)  Fatality Rate\n",
      "                              Maharashtra  990795   28282  990795    28282          0           0           2.85\n",
      "                           Andhra Pradesh  537687    4702  537687     4702          0           0           0.87\n",
      "                               Tamil Nadu  486052    8157  486052     8157          0           0           1.68\n",
      "                                Karnataka  430947    6937  430947     6937          0           0           1.61\n",
      "                            Uttar Pradesh  292029    4206  292029     4206          0           0           1.44\n",
      "                                    Delhi  205482    4666  205482     4666          0           0           2.27\n",
      "                              West Bengal  193175    3771  193175     3771          0           0           1.95\n",
      "                                    Bihar  153735     785  153735      785          0           0           0.51\n",
      "                                Telangana  152602     940  150176      927       2426          13           0.62\n",
      "                                   Odisha  143117     658  139121      644       3996          14           0.46\n",
      "                                    Assam  135805     414  135805      414          0           0           0.30\n",
      "                                  Gujarat  109627    3165  109627     3165          0           0           2.89\n",
      "                                   Kerala   99267     397   99267      397          0           0           0.40\n",
      "                                Rajasthan   97376    1192   97376     1192          0           0           1.22\n",
      "                                  Haryana   85944     907   85944      907          0           0           1.06\n",
      "                           Madhya Pradesh   81379    1661   81379     1661          0           0           2.04\n",
      "                                   Punjab   72143    2149   72143     2149          0           0           2.98\n",
      "                                Jharkhand   58079     517   58079      517          0           0           0.89\n",
      "                             Chhattisgarh   55680     493   55680      493          0           0           0.89\n",
      "                        Jammu and Kashmir   49134     845   49134      845          0           0           1.72\n",
      "                              Uttarakhand   28226     377   28226      377          0           0           1.34\n",
      "                                      Goa   22890     268   22890      268          0           0           1.17\n",
      "                               Puducherry   18536     353   18536      353          0           0           1.90\n",
      "                                  Tripura   17830     172   17271      167        559           5           0.96\n",
      "                         Himachal Pradesh    8466      65    8466       65          0           0           0.77\n",
      "                                  Manipur    7470      44    7470       44          0           0           0.59\n",
      "                               Chandigarh    6987      80    6987       80          0           0           1.14\n",
      "                        Arunachal Pradesh    5672       9    5672        9          0           0           0.16\n",
      "                                 Nagaland    4636       8    4636        8          0           0           0.17\n",
      "              Andaman and Nicobar Islands    3465      51    3465       51          0           0           1.47\n",
      "                                Meghalaya    3296      20    3296       20          0           0           0.61\n",
      "                                   Ladakh    3177      36    3177       36          0           0           1.13\n",
      " Dadra and Nagar Haveli and Daman and Diu    2658       2    2658        2          0           0           0.08\n",
      "                                   Sikkim    2009       7    2009        7          0           0           0.35\n",
      "                                  Mizoram    1353       0    1333        0         20           0           0.00\n",
      "                              Lakshadweep       0       0       0        0          0           0            NaN\n"
     ]
    }
   ],
   "source": [
    "#hide_input\n",
    "print(df_table.to_string(index=False))"
   ]
  },
  {
   "cell_type": "code",
   "execution_count": null,
   "metadata": {
    "papermill": {
     "duration": 0.023334,
     "end_time": "2020-09-11T09:21:19.631242",
     "exception": false,
     "start_time": "2020-09-11T09:21:19.607908",
     "status": "completed"
    },
    "tags": []
   },
   "outputs": [],
   "source": []
  },
  {
   "cell_type": "code",
   "execution_count": null,
   "metadata": {
    "papermill": {
     "duration": 0.021841,
     "end_time": "2020-09-11T09:21:19.677845",
     "exception": false,
     "start_time": "2020-09-11T09:21:19.656004",
     "status": "completed"
    },
    "tags": []
   },
   "outputs": [],
   "source": []
  }
 ],
 "metadata": {
  "kernelspec": {
   "display_name": "Python 3",
   "language": "python",
   "name": "python3"
  },
  "language_info": {
   "codemirror_mode": {
    "name": "ipython",
    "version": 3
   },
   "file_extension": ".py",
   "mimetype": "text/x-python",
   "name": "python",
   "nbconvert_exporter": "python",
   "pygments_lexer": "ipython3",
   "version": "3.6.12"
  },
  "papermill": {
   "duration": 10.85513,
   "end_time": "2020-09-11T09:21:20.109433",
   "environment_variables": {},
   "exception": null,
   "input_path": "latest.ipynb",
   "output_path": "latest.ipynb",
   "parameters": {},
   "start_time": "2020-09-11T09:21:09.254303",
   "version": "2.1.2"
  }
 },
 "nbformat": 4,
 "nbformat_minor": 4
}