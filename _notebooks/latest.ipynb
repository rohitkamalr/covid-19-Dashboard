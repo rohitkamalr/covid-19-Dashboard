{
 "cells": [
  {
   "cell_type": "markdown",
   "metadata": {
    "papermill": {
     "duration": 0.020769,
     "end_time": "2020-10-31T07:38:11.261929",
     "exception": false,
     "start_time": "2020-10-31T07:38:11.241160",
     "status": "completed"
    },
    "tags": []
   },
   "source": [
    "# Latest COVID-19 India Matplotlib Overview"
   ]
  },
  {
   "cell_type": "code",
   "execution_count": 1,
   "metadata": {
    "execution": {
     "iopub.execute_input": "2020-10-31T07:38:11.302075Z",
     "iopub.status.busy": "2020-10-31T07:38:11.301263Z",
     "iopub.status.idle": "2020-10-31T07:38:12.011462Z",
     "shell.execute_reply": "2020-10-31T07:38:12.010266Z"
    },
    "papermill": {
     "duration": 0.733473,
     "end_time": "2020-10-31T07:38:12.011664",
     "exception": false,
     "start_time": "2020-10-31T07:38:11.278191",
     "status": "completed"
    },
    "tags": []
   },
   "outputs": [],
   "source": [
    "#hide\n",
    "import pandas as pd\n",
    "import numpy as np\n",
    "import requests\n",
    "import json\n",
    "import matplotlib.pyplot as plt\n",
    "import matplotlib.dates as mdates\n",
    "import matplotlib as mpl\n",
    "from IPython.core.display import display,HTML\n",
    "%matplotlib inline\n",
    "from datetime import date"
   ]
  },
  {
   "cell_type": "code",
   "execution_count": 2,
   "metadata": {
    "execution": {
     "iopub.execute_input": "2020-10-31T07:38:12.052230Z",
     "iopub.status.busy": "2020-10-31T07:38:12.051556Z",
     "iopub.status.idle": "2020-10-31T07:38:12.297624Z",
     "shell.execute_reply": "2020-10-31T07:38:12.297013Z"
    },
    "papermill": {
     "duration": 0.270384,
     "end_time": "2020-10-31T07:38:12.297791",
     "exception": false,
     "start_time": "2020-10-31T07:38:12.027407",
     "status": "completed"
    },
    "tags": []
   },
   "outputs": [],
   "source": [
    "#hide\n",
    "df  = pd.read_csv('https://api.covid19india.org/csv/latest/states.csv')\n",
    "df = df[['Date','State','Confirmed','Deceased']]\n",
    "df = df.rename(columns={'Confirmed':'Cases', \"Deceased\":'Deaths'})\n",
    "df_cases = df[[\"Date\",'State','Cases']]\n",
    "df_deaths = df[['Date','State','Deaths']]\n",
    "df_cases1 = df_cases.groupby('Date')\n",
    "df_deaths1= df_deaths.groupby('Date')"
   ]
  },
  {
   "cell_type": "code",
   "execution_count": 3,
   "metadata": {
    "execution": {
     "iopub.execute_input": "2020-10-31T07:38:12.354757Z",
     "iopub.status.busy": "2020-10-31T07:38:12.341321Z",
     "iopub.status.idle": "2020-10-31T07:38:12.367628Z",
     "shell.execute_reply": "2020-10-31T07:38:12.365950Z"
    },
    "papermill": {
     "duration": 0.054282,
     "end_time": "2020-10-31T07:38:12.367842",
     "exception": false,
     "start_time": "2020-10-31T07:38:12.313560",
     "status": "completed"
    },
    "tags": []
   },
   "outputs": [],
   "source": [
    "#hide\n",
    "df_snap = pd.read_csv('data/SnapshotCases-28-July.csv')\n",
    "arr_states = df_snap['states'].unique()\n",
    "arr_dates = df['Date'].unique()\n",
    "df_snap = df_snap.set_index('states')"
   ]
  },
  {
   "cell_type": "code",
   "execution_count": 4,
   "metadata": {
    "execution": {
     "iopub.execute_input": "2020-10-31T07:38:12.413809Z",
     "iopub.status.busy": "2020-10-31T07:38:12.413149Z",
     "iopub.status.idle": "2020-10-31T07:38:12.417939Z",
     "shell.execute_reply": "2020-10-31T07:38:12.418426Z"
    },
    "papermill": {
     "duration": 0.031968,
     "end_time": "2020-10-31T07:38:12.418607",
     "exception": false,
     "start_time": "2020-10-31T07:38:12.386639",
     "status": "completed"
    },
    "tags": []
   },
   "outputs": [
    {
     "data": {
      "text/plain": [
       "array(['Andaman and Nicobar Islands', 'Andhra Pradesh',\n",
       "       'Arunachal Pradesh', 'Assam', 'Bihar', 'Chandigarh',\n",
       "       'Dadra and Nagar Haveli and Daman and Diu', 'Delhi', 'Goa',\n",
       "       'Gujarat', 'Haryana', 'Himachal Pradesh', 'Jammu and Kashmir',\n",
       "       'Jharkhand', 'Karnataka', 'Kerala', 'Lakshadweep',\n",
       "       'Madhya Pradesh', 'Maharashtra', 'Manipur', 'Meghalaya', 'Mizoram',\n",
       "       'Nagaland', 'Odisha', 'Puducherry', 'Punjab', 'Rajasthan',\n",
       "       'Sikkim', 'Tamil Nadu', 'Telangana', 'Tripura', 'Uttar Pradesh',\n",
       "       'West Bengal', 'Chhattisgarh', 'Ladakh', 'Uttarakhand'],\n",
       "      dtype=object)"
      ]
     },
     "execution_count": 4,
     "metadata": {},
     "output_type": "execute_result"
    }
   ],
   "source": [
    "#hide\n",
    "arr_states[-9] = 'Puducherry'\n",
    "arr_states[-10] = 'Odisha'\n",
    "arr_states[6] = 'Dadra and Nagar Haveli and Daman and Diu'\n",
    "arr_states = np.append(arr_states,np.array(['Chhattisgarh','Ladakh','Uttarakhand']))\n",
    "arr_states"
   ]
  },
  {
   "cell_type": "code",
   "execution_count": 5,
   "metadata": {
    "execution": {
     "iopub.execute_input": "2020-10-31T07:38:12.461863Z",
     "iopub.status.busy": "2020-10-31T07:38:12.461165Z",
     "iopub.status.idle": "2020-10-31T07:38:12.471572Z",
     "shell.execute_reply": "2020-10-31T07:38:12.471029Z"
    },
    "papermill": {
     "duration": 0.036811,
     "end_time": "2020-10-31T07:38:12.471737",
     "exception": false,
     "start_time": "2020-10-31T07:38:12.434926",
     "status": "completed"
    },
    "tags": []
   },
   "outputs": [],
   "source": [
    "#hide\n",
    "dates = []\n",
    "for i in arr_dates:\n",
    "    if i>='2020-07-01':\n",
    "        dates.append(i)\n",
    "dict = {'states':dates}\n",
    "for i in arr_states:\n",
    "    dict[i] = [0]*len(dates)\n",
    "dft_cases = pd.DataFrame(dict)\n",
    "dft_deaths = pd.DataFrame(dict)\n"
   ]
  },
  {
   "cell_type": "code",
   "execution_count": 6,
   "metadata": {
    "execution": {
     "iopub.execute_input": "2020-10-31T07:38:12.515536Z",
     "iopub.status.busy": "2020-10-31T07:38:12.514589Z",
     "iopub.status.idle": "2020-10-31T07:38:14.221723Z",
     "shell.execute_reply": "2020-10-31T07:38:14.221122Z"
    },
    "papermill": {
     "duration": 1.732945,
     "end_time": "2020-10-31T07:38:14.221891",
     "exception": false,
     "start_time": "2020-10-31T07:38:12.488946",
     "status": "completed"
    },
    "tags": []
   },
   "outputs": [],
   "source": [
    "#hide\n",
    "for i in range(len(dates)):\n",
    "    df1_deaths = df_deaths1.get_group(dates[i])\n",
    "    for j in range(len(df1_deaths.index)):\n",
    "        if df1_deaths.iloc[j,1] in arr_states:\n",
    "            dft_deaths.loc[i,df1_deaths.iloc[j,1]] = df1_deaths.iloc[j,2]\n",
    "dft_deaths = dft_deaths.set_index('states')"
   ]
  },
  {
   "cell_type": "code",
   "execution_count": 7,
   "metadata": {
    "execution": {
     "iopub.execute_input": "2020-10-31T07:38:14.264331Z",
     "iopub.status.busy": "2020-10-31T07:38:14.263489Z",
     "iopub.status.idle": "2020-10-31T07:38:15.950969Z",
     "shell.execute_reply": "2020-10-31T07:38:15.949834Z"
    },
    "papermill": {
     "duration": 1.711908,
     "end_time": "2020-10-31T07:38:15.951147",
     "exception": false,
     "start_time": "2020-10-31T07:38:14.239239",
     "status": "completed"
    },
    "tags": []
   },
   "outputs": [],
   "source": [
    "#hide\n",
    "for i in range(len(dates)):\n",
    "    df1_cases = df_cases1.get_group(dates[i])\n",
    "    for j in range(len(df1_cases.index)):\n",
    "        if df1_cases.iloc[j,1] in arr_states:\n",
    "            dft_cases.loc[i,df1_cases.iloc[j,1]] = df1_cases.iloc[j,2]\n",
    "dft_cases = dft_cases.set_index('states')"
   ]
  },
  {
   "cell_type": "code",
   "execution_count": 8,
   "metadata": {
    "execution": {
     "iopub.execute_input": "2020-10-31T07:38:15.990507Z",
     "iopub.status.busy": "2020-10-31T07:38:15.989449Z",
     "iopub.status.idle": "2020-10-31T07:38:15.991461Z",
     "shell.execute_reply": "2020-10-31T07:38:15.992189Z"
    },
    "papermill": {
     "duration": 0.025081,
     "end_time": "2020-10-31T07:38:15.992386",
     "exception": false,
     "start_time": "2020-10-31T07:38:15.967305",
     "status": "completed"
    },
    "tags": []
   },
   "outputs": [],
   "source": [
    "#hide\n",
    "dft_cases = dft_cases.T\n",
    "dft_deaths = dft_deaths.T\n",
    "dt_today = dates[-1]\n",
    "dt_yday = dates[-2]"
   ]
  },
  {
   "cell_type": "code",
   "execution_count": 9,
   "metadata": {
    "execution": {
     "iopub.execute_input": "2020-10-31T07:38:16.035703Z",
     "iopub.status.busy": "2020-10-31T07:38:16.035009Z",
     "iopub.status.idle": "2020-10-31T07:38:16.039718Z",
     "shell.execute_reply": "2020-10-31T07:38:16.040208Z"
    },
    "papermill": {
     "duration": 0.029599,
     "end_time": "2020-10-31T07:38:16.040388",
     "exception": false,
     "start_time": "2020-10-31T07:38:16.010789",
     "status": "completed"
    },
    "tags": []
   },
   "outputs": [],
   "source": [
    "#hide\n",
    "dft_cases = dft_cases.reset_index()\n",
    "dft_deaths = dft_deaths.reset_index()\n",
    "dft_cases = dft_cases.rename(columns = {'index':'state'})\n",
    "dft_deaths = dft_deaths.rename(columns = {'index':'state'})"
   ]
  },
  {
   "cell_type": "code",
   "execution_count": 10,
   "metadata": {
    "execution": {
     "iopub.execute_input": "2020-10-31T07:38:16.082022Z",
     "iopub.status.busy": "2020-10-31T07:38:16.081379Z",
     "iopub.status.idle": "2020-10-31T07:38:16.089440Z",
     "shell.execute_reply": "2020-10-31T07:38:16.088920Z"
    },
    "papermill": {
     "duration": 0.033017,
     "end_time": "2020-10-31T07:38:16.089584",
     "exception": false,
     "start_time": "2020-10-31T07:38:16.056567",
     "status": "completed"
    },
    "tags": []
   },
   "outputs": [],
   "source": [
    "#hide\n",
    "dfc_cases = dft_cases.groupby('state')[dt_today].sum()\n",
    "dfc_deaths = dft_deaths.groupby('state')[dt_today].sum()\n",
    "dfp_cases = dft_cases.groupby('state')[dt_yday].sum()\n",
    "dfp_deaths = dft_deaths.groupby('state')[dt_yday].sum()"
   ]
  },
  {
   "cell_type": "code",
   "execution_count": 11,
   "metadata": {
    "execution": {
     "iopub.execute_input": "2020-10-31T07:38:16.136166Z",
     "iopub.status.busy": "2020-10-31T07:38:16.135438Z",
     "iopub.status.idle": "2020-10-31T07:38:16.155827Z",
     "shell.execute_reply": "2020-10-31T07:38:16.156330Z"
    },
    "papermill": {
     "duration": 0.05033,
     "end_time": "2020-10-31T07:38:16.156525",
     "exception": false,
     "start_time": "2020-10-31T07:38:16.106195",
     "status": "completed"
    },
    "tags": []
   },
   "outputs": [
    {
     "data": {
      "text/html": [
       "<div>\n",
       "<style scoped>\n",
       "    .dataframe tbody tr th:only-of-type {\n",
       "        vertical-align: middle;\n",
       "    }\n",
       "\n",
       "    .dataframe tbody tr th {\n",
       "        vertical-align: top;\n",
       "    }\n",
       "\n",
       "    .dataframe thead th {\n",
       "        text-align: right;\n",
       "    }\n",
       "</style>\n",
       "<table border=\"1\" class=\"dataframe\">\n",
       "  <thead>\n",
       "    <tr style=\"text-align: right;\">\n",
       "      <th></th>\n",
       "      <th>states</th>\n",
       "      <th>Cases</th>\n",
       "      <th>Deaths</th>\n",
       "      <th>PCases</th>\n",
       "      <th>PDeaths</th>\n",
       "    </tr>\n",
       "  </thead>\n",
       "  <tbody>\n",
       "    <tr>\n",
       "      <th>0</th>\n",
       "      <td>Maharashtra</td>\n",
       "      <td>1672858</td>\n",
       "      <td>43837</td>\n",
       "      <td>1672858</td>\n",
       "      <td>43837</td>\n",
       "    </tr>\n",
       "    <tr>\n",
       "      <th>1</th>\n",
       "      <td>Andhra Pradesh</td>\n",
       "      <td>820565</td>\n",
       "      <td>6676</td>\n",
       "      <td>820565</td>\n",
       "      <td>6676</td>\n",
       "    </tr>\n",
       "    <tr>\n",
       "      <th>2</th>\n",
       "      <td>Karnataka</td>\n",
       "      <td>820398</td>\n",
       "      <td>11140</td>\n",
       "      <td>820398</td>\n",
       "      <td>11140</td>\n",
       "    </tr>\n",
       "    <tr>\n",
       "      <th>3</th>\n",
       "      <td>Tamil Nadu</td>\n",
       "      <td>722011</td>\n",
       "      <td>11091</td>\n",
       "      <td>722011</td>\n",
       "      <td>11091</td>\n",
       "    </tr>\n",
       "    <tr>\n",
       "      <th>4</th>\n",
       "      <td>Uttar Pradesh</td>\n",
       "      <td>480082</td>\n",
       "      <td>7007</td>\n",
       "      <td>480082</td>\n",
       "      <td>7007</td>\n",
       "    </tr>\n",
       "  </tbody>\n",
       "</table>\n",
       "</div>"
      ],
      "text/plain": [
       "           states    Cases  Deaths   PCases  PDeaths\n",
       "0     Maharashtra  1672858   43837  1672858    43837\n",
       "1  Andhra Pradesh   820565    6676   820565     6676\n",
       "2       Karnataka   820398   11140   820398    11140\n",
       "3      Tamil Nadu   722011   11091   722011    11091\n",
       "4   Uttar Pradesh   480082    7007   480082     7007"
      ]
     },
     "execution_count": 11,
     "metadata": {},
     "output_type": "execute_result"
    }
   ],
   "source": [
    "#hide\n",
    "df_table = pd.DataFrame({'states': dfc_cases.index, 'Cases': dfc_cases.values, 'Deaths': dfc_deaths.values, 'PCases': dfp_cases.values, 'PDeaths': dfp_deaths.values}).set_index('states')\n",
    "df_table = df_table.sort_values(by = ['Cases','Deaths'], ascending = [False, False])\n",
    "df_table = df_table.reset_index()\n",
    "df_table.head()"
   ]
  },
  {
   "cell_type": "code",
   "execution_count": 12,
   "metadata": {
    "execution": {
     "iopub.execute_input": "2020-10-31T07:38:16.196584Z",
     "iopub.status.busy": "2020-10-31T07:38:16.195897Z",
     "iopub.status.idle": "2020-10-31T07:38:16.205162Z",
     "shell.execute_reply": "2020-10-31T07:38:16.205667Z"
    },
    "papermill": {
     "duration": 0.032793,
     "end_time": "2020-10-31T07:38:16.205851",
     "exception": false,
     "start_time": "2020-10-31T07:38:16.173058",
     "status": "completed"
    },
    "tags": []
   },
   "outputs": [],
   "source": [
    "#hide\n",
    "for c in 'Cases, Deaths'.split(', '):\n",
    "    df_table[f'{c} (+)'] = (df_table[c] - df_table[f'P{c}']).clip(0)\n",
    "df_table['Fatality Rate'] = (100* df_table['Deaths']/ df_table['Cases']).round(2)"
   ]
  },
  {
   "cell_type": "code",
   "execution_count": 13,
   "metadata": {
    "execution": {
     "iopub.execute_input": "2020-10-31T07:38:16.251842Z",
     "iopub.status.busy": "2020-10-31T07:38:16.251156Z",
     "iopub.status.idle": "2020-10-31T07:38:16.253670Z",
     "shell.execute_reply": "2020-10-31T07:38:16.254923Z"
    },
    "papermill": {
     "duration": 0.032711,
     "end_time": "2020-10-31T07:38:16.255114",
     "exception": false,
     "start_time": "2020-10-31T07:38:16.222403",
     "status": "completed"
    },
    "tags": []
   },
   "outputs": [
    {
     "data": {
      "text/html": [
       "<div>\n",
       "<style scoped>\n",
       "    .dataframe tbody tr th:only-of-type {\n",
       "        vertical-align: middle;\n",
       "    }\n",
       "\n",
       "    .dataframe tbody tr th {\n",
       "        vertical-align: top;\n",
       "    }\n",
       "\n",
       "    .dataframe thead th {\n",
       "        text-align: right;\n",
       "    }\n",
       "</style>\n",
       "<table border=\"1\" class=\"dataframe\">\n",
       "  <thead>\n",
       "    <tr style=\"text-align: right;\">\n",
       "      <th></th>\n",
       "      <th>states</th>\n",
       "      <th>Cases</th>\n",
       "      <th>Deaths</th>\n",
       "      <th>PCases</th>\n",
       "      <th>PDeaths</th>\n",
       "      <th>Cases (+)</th>\n",
       "      <th>Deaths (+)</th>\n",
       "      <th>Fatality Rate</th>\n",
       "    </tr>\n",
       "  </thead>\n",
       "  <tbody>\n",
       "    <tr>\n",
       "      <th>0</th>\n",
       "      <td>Maharashtra</td>\n",
       "      <td>1672858</td>\n",
       "      <td>43837</td>\n",
       "      <td>1672858</td>\n",
       "      <td>43837</td>\n",
       "      <td>0</td>\n",
       "      <td>0</td>\n",
       "      <td>2.62</td>\n",
       "    </tr>\n",
       "    <tr>\n",
       "      <th>1</th>\n",
       "      <td>Andhra Pradesh</td>\n",
       "      <td>820565</td>\n",
       "      <td>6676</td>\n",
       "      <td>820565</td>\n",
       "      <td>6676</td>\n",
       "      <td>0</td>\n",
       "      <td>0</td>\n",
       "      <td>0.81</td>\n",
       "    </tr>\n",
       "    <tr>\n",
       "      <th>2</th>\n",
       "      <td>Karnataka</td>\n",
       "      <td>820398</td>\n",
       "      <td>11140</td>\n",
       "      <td>820398</td>\n",
       "      <td>11140</td>\n",
       "      <td>0</td>\n",
       "      <td>0</td>\n",
       "      <td>1.36</td>\n",
       "    </tr>\n",
       "    <tr>\n",
       "      <th>3</th>\n",
       "      <td>Tamil Nadu</td>\n",
       "      <td>722011</td>\n",
       "      <td>11091</td>\n",
       "      <td>722011</td>\n",
       "      <td>11091</td>\n",
       "      <td>0</td>\n",
       "      <td>0</td>\n",
       "      <td>1.54</td>\n",
       "    </tr>\n",
       "    <tr>\n",
       "      <th>4</th>\n",
       "      <td>Uttar Pradesh</td>\n",
       "      <td>480082</td>\n",
       "      <td>7007</td>\n",
       "      <td>480082</td>\n",
       "      <td>7007</td>\n",
       "      <td>0</td>\n",
       "      <td>0</td>\n",
       "      <td>1.46</td>\n",
       "    </tr>\n",
       "  </tbody>\n",
       "</table>\n",
       "</div>"
      ],
      "text/plain": [
       "           states    Cases  Deaths   PCases  PDeaths  Cases (+)  Deaths (+)  \\\n",
       "0     Maharashtra  1672858   43837  1672858    43837          0           0   \n",
       "1  Andhra Pradesh   820565    6676   820565     6676          0           0   \n",
       "2       Karnataka   820398   11140   820398    11140          0           0   \n",
       "3      Tamil Nadu   722011   11091   722011    11091          0           0   \n",
       "4   Uttar Pradesh   480082    7007   480082     7007          0           0   \n",
       "\n",
       "   Fatality Rate  \n",
       "0           2.62  \n",
       "1           0.81  \n",
       "2           1.36  \n",
       "3           1.54  \n",
       "4           1.46  "
      ]
     },
     "execution_count": 13,
     "metadata": {},
     "output_type": "execute_result"
    }
   ],
   "source": [
    "#hide\n",
    "df_table.head()"
   ]
  },
  {
   "cell_type": "code",
   "execution_count": 14,
   "metadata": {
    "execution": {
     "iopub.execute_input": "2020-10-31T07:38:16.314591Z",
     "iopub.status.busy": "2020-10-31T07:38:16.313918Z",
     "iopub.status.idle": "2020-10-31T07:38:16.316747Z",
     "shell.execute_reply": "2020-10-31T07:38:16.316235Z"
    },
    "papermill": {
     "duration": 0.044201,
     "end_time": "2020-10-31T07:38:16.316895",
     "exception": false,
     "start_time": "2020-10-31T07:38:16.272694",
     "status": "completed"
    },
    "tags": []
   },
   "outputs": [
    {
     "data": {
      "text/plain": [
       "{'updated': '2020-10-31',\n",
       " 'since': '2020-10-30',\n",
       " 'Cases': 8137636,\n",
       " 'PCases': 8136166,\n",
       " 'Deaths': 121693,\n",
       " 'PDeaths': 121681,\n",
       " 'Cases (+)': 1470,\n",
       " 'Deaths (+)': 12}"
      ]
     },
     "execution_count": 14,
     "metadata": {},
     "output_type": "execute_result"
    }
   ],
   "source": [
    "#hide\n",
    "summary = {'updated':dates[-1], 'since':dates[-2]}\n",
    "list_names = ['Cases', 'PCases', 'Deaths', 'PDeaths', 'Cases (+)', 'Deaths (+)']\n",
    "for name in list_names:\n",
    "    summary[name] = df_table.sum()[name]\n",
    "summary"
   ]
  },
  {
   "cell_type": "code",
   "execution_count": 15,
   "metadata": {
    "execution": {
     "iopub.execute_input": "2020-10-31T07:38:16.371572Z",
     "iopub.status.busy": "2020-10-31T07:38:16.370928Z",
     "iopub.status.idle": "2020-10-31T07:38:16.373435Z",
     "shell.execute_reply": "2020-10-31T07:38:16.373905Z"
    },
    "papermill": {
     "duration": 0.033527,
     "end_time": "2020-10-31T07:38:16.374071",
     "exception": false,
     "start_time": "2020-10-31T07:38:16.340544",
     "status": "completed"
    },
    "tags": []
   },
   "outputs": [],
   "source": [
    "#hide\n",
    "overview = '''\n",
    "<!-- #######  HTML!! #########-->\n",
    "<h1 style=\"color: #5e9ca0; text-align: center;\">India</h1>\n",
    "<p style=\"text-align: center;\">Last update: <strong>{update}</strong></p>\n",
    "<p style=\"text-align: center;\">Confirmed cases:</p>\n",
    "<p style=\"text-align: center;font-size:24px;\">{cases} (<span style=\"color: #ff0000;\">+{new}</span>)</p>\n",
    "<p style=\"text-align: center;\">Confirmed deaths:</p>\n",
    "<p style=\"text-align: center;font-size:24px;\">{deaths} (<span style=\"color: #ff0000;\">+{dnew}</span>)</p>\n",
    "'''"
   ]
  },
  {
   "cell_type": "code",
   "execution_count": 16,
   "metadata": {
    "execution": {
     "iopub.execute_input": "2020-10-31T07:38:16.417417Z",
     "iopub.status.busy": "2020-10-31T07:38:16.416599Z",
     "iopub.status.idle": "2020-10-31T07:38:16.419439Z",
     "shell.execute_reply": "2020-10-31T07:38:16.420006Z"
    },
    "papermill": {
     "duration": 0.029168,
     "end_time": "2020-10-31T07:38:16.420293",
     "exception": false,
     "start_time": "2020-10-31T07:38:16.391125",
     "status": "completed"
    },
    "tags": []
   },
   "outputs": [
    {
     "data": {
      "text/html": [
       "\n",
       "<!-- #######  HTML!! #########-->\n",
       "<h1 style=\"color: #5e9ca0; text-align: center;\">India</h1>\n",
       "<p style=\"text-align: center;\">Last update: <strong>2020-10-31</strong></p>\n",
       "<p style=\"text-align: center;\">Confirmed cases:</p>\n",
       "<p style=\"text-align: center;font-size:24px;\">8137636 (<span style=\"color: #ff0000;\">+1470</span>)</p>\n",
       "<p style=\"text-align: center;\">Confirmed deaths:</p>\n",
       "<p style=\"text-align: center;font-size:24px;\">121693 (<span style=\"color: #ff0000;\">+12</span>)</p>\n"
      ],
      "text/plain": [
       "<IPython.core.display.HTML object>"
      ]
     },
     "metadata": {},
     "output_type": "display_data"
    }
   ],
   "source": [
    "#hide_input\n",
    "update = summary['updated']\n",
    "cases = summary['Cases']\n",
    "new = summary['Cases (+)']\n",
    "deaths = summary['Deaths']\n",
    "dnew = summary['Deaths (+)']\n",
    "\n",
    "html = HTML(overview.format(update=update, cases=cases,new=new,deaths=deaths,dnew=dnew))\n",
    "\n",
    "display(html)"
   ]
  },
  {
   "cell_type": "code",
   "execution_count": 17,
   "metadata": {
    "execution": {
     "iopub.execute_input": "2020-10-31T07:38:16.468487Z",
     "iopub.status.busy": "2020-10-31T07:38:16.467871Z",
     "iopub.status.idle": "2020-10-31T07:38:16.473318Z",
     "shell.execute_reply": "2020-10-31T07:38:16.473770Z"
    },
    "papermill": {
     "duration": 0.033792,
     "end_time": "2020-10-31T07:38:16.473946",
     "exception": false,
     "start_time": "2020-10-31T07:38:16.440154",
     "status": "completed"
    },
    "tags": []
   },
   "outputs": [],
   "source": [
    "#hide\n",
    "dt_cols = list(dft_cases.columns[1:])\n",
    "dft_ct_new_cases = dft_cases.groupby('state')[dt_cols].sum().diff(axis=1).fillna(0).astype(int)\n",
    "dft_ct_new_cases.sort_values(by = dates[-1], ascending = False,inplace = True)"
   ]
  },
  {
   "cell_type": "code",
   "execution_count": 18,
   "metadata": {
    "execution": {
     "iopub.execute_input": "2020-10-31T07:38:16.532505Z",
     "iopub.status.busy": "2020-10-31T07:38:16.531840Z",
     "iopub.status.idle": "2020-10-31T07:38:16.535009Z",
     "shell.execute_reply": "2020-10-31T07:38:16.535484Z"
    },
    "papermill": {
     "duration": 0.044187,
     "end_time": "2020-10-31T07:38:16.535674",
     "exception": false,
     "start_time": "2020-10-31T07:38:16.491487",
     "status": "completed"
    },
    "tags": []
   },
   "outputs": [
    {
     "data": {
      "text/html": [
       "<div>\n",
       "<style scoped>\n",
       "    .dataframe tbody tr th:only-of-type {\n",
       "        vertical-align: middle;\n",
       "    }\n",
       "\n",
       "    .dataframe tbody tr th {\n",
       "        vertical-align: top;\n",
       "    }\n",
       "\n",
       "    .dataframe thead th {\n",
       "        text-align: right;\n",
       "    }\n",
       "</style>\n",
       "<table border=\"1\" class=\"dataframe\">\n",
       "  <thead>\n",
       "    <tr style=\"text-align: right;\">\n",
       "      <th>states</th>\n",
       "      <th>2020-07-01</th>\n",
       "      <th>2020-07-02</th>\n",
       "      <th>2020-07-03</th>\n",
       "      <th>2020-07-04</th>\n",
       "      <th>2020-07-05</th>\n",
       "      <th>2020-07-06</th>\n",
       "      <th>2020-07-07</th>\n",
       "      <th>2020-07-08</th>\n",
       "      <th>2020-07-09</th>\n",
       "      <th>2020-07-10</th>\n",
       "      <th>...</th>\n",
       "      <th>2020-10-22</th>\n",
       "      <th>2020-10-23</th>\n",
       "      <th>2020-10-24</th>\n",
       "      <th>2020-10-25</th>\n",
       "      <th>2020-10-26</th>\n",
       "      <th>2020-10-27</th>\n",
       "      <th>2020-10-28</th>\n",
       "      <th>2020-10-29</th>\n",
       "      <th>2020-10-30</th>\n",
       "      <th>2020-10-31</th>\n",
       "    </tr>\n",
       "    <tr>\n",
       "      <th>state</th>\n",
       "      <th></th>\n",
       "      <th></th>\n",
       "      <th></th>\n",
       "      <th></th>\n",
       "      <th></th>\n",
       "      <th></th>\n",
       "      <th></th>\n",
       "      <th></th>\n",
       "      <th></th>\n",
       "      <th></th>\n",
       "      <th></th>\n",
       "      <th></th>\n",
       "      <th></th>\n",
       "      <th></th>\n",
       "      <th></th>\n",
       "      <th></th>\n",
       "      <th></th>\n",
       "      <th></th>\n",
       "      <th></th>\n",
       "      <th></th>\n",
       "      <th></th>\n",
       "    </tr>\n",
       "  </thead>\n",
       "  <tbody>\n",
       "    <tr>\n",
       "      <th>Odisha</th>\n",
       "      <td>0</td>\n",
       "      <td>229</td>\n",
       "      <td>561</td>\n",
       "      <td>495</td>\n",
       "      <td>469</td>\n",
       "      <td>456</td>\n",
       "      <td>571</td>\n",
       "      <td>527</td>\n",
       "      <td>577</td>\n",
       "      <td>755</td>\n",
       "      <td>...</td>\n",
       "      <td>1913</td>\n",
       "      <td>1793</td>\n",
       "      <td>1695</td>\n",
       "      <td>1633</td>\n",
       "      <td>1480</td>\n",
       "      <td>1247</td>\n",
       "      <td>1540</td>\n",
       "      <td>1617</td>\n",
       "      <td>1547</td>\n",
       "      <td>1470</td>\n",
       "    </tr>\n",
       "    <tr>\n",
       "      <th>Andaman and Nicobar Islands</th>\n",
       "      <td>0</td>\n",
       "      <td>9</td>\n",
       "      <td>7</td>\n",
       "      <td>3</td>\n",
       "      <td>6</td>\n",
       "      <td>16</td>\n",
       "      <td>6</td>\n",
       "      <td>2</td>\n",
       "      <td>7</td>\n",
       "      <td>0</td>\n",
       "      <td>...</td>\n",
       "      <td>16</td>\n",
       "      <td>23</td>\n",
       "      <td>18</td>\n",
       "      <td>20</td>\n",
       "      <td>8</td>\n",
       "      <td>21</td>\n",
       "      <td>15</td>\n",
       "      <td>16</td>\n",
       "      <td>12</td>\n",
       "      <td>0</td>\n",
       "    </tr>\n",
       "    <tr>\n",
       "      <th>Andhra Pradesh</th>\n",
       "      <td>0</td>\n",
       "      <td>845</td>\n",
       "      <td>837</td>\n",
       "      <td>765</td>\n",
       "      <td>998</td>\n",
       "      <td>1322</td>\n",
       "      <td>1178</td>\n",
       "      <td>1062</td>\n",
       "      <td>1555</td>\n",
       "      <td>1608</td>\n",
       "      <td>...</td>\n",
       "      <td>3620</td>\n",
       "      <td>3765</td>\n",
       "      <td>3342</td>\n",
       "      <td>2997</td>\n",
       "      <td>1901</td>\n",
       "      <td>2901</td>\n",
       "      <td>2949</td>\n",
       "      <td>2905</td>\n",
       "      <td>2886</td>\n",
       "      <td>0</td>\n",
       "    </tr>\n",
       "    <tr>\n",
       "      <th>Maharashtra</th>\n",
       "      <td>0</td>\n",
       "      <td>6328</td>\n",
       "      <td>6364</td>\n",
       "      <td>7074</td>\n",
       "      <td>6555</td>\n",
       "      <td>5368</td>\n",
       "      <td>5134</td>\n",
       "      <td>6603</td>\n",
       "      <td>6875</td>\n",
       "      <td>7862</td>\n",
       "      <td>...</td>\n",
       "      <td>7539</td>\n",
       "      <td>7347</td>\n",
       "      <td>6417</td>\n",
       "      <td>6059</td>\n",
       "      <td>3645</td>\n",
       "      <td>5363</td>\n",
       "      <td>6738</td>\n",
       "      <td>5902</td>\n",
       "      <td>6190</td>\n",
       "      <td>0</td>\n",
       "    </tr>\n",
       "    <tr>\n",
       "      <th>Manipur</th>\n",
       "      <td>0</td>\n",
       "      <td>19</td>\n",
       "      <td>37</td>\n",
       "      <td>9</td>\n",
       "      <td>41</td>\n",
       "      <td>24</td>\n",
       "      <td>40</td>\n",
       "      <td>5</td>\n",
       "      <td>15</td>\n",
       "      <td>132</td>\n",
       "      <td>...</td>\n",
       "      <td>345</td>\n",
       "      <td>156</td>\n",
       "      <td>245</td>\n",
       "      <td>138</td>\n",
       "      <td>264</td>\n",
       "      <td>180</td>\n",
       "      <td>205</td>\n",
       "      <td>242</td>\n",
       "      <td>221</td>\n",
       "      <td>0</td>\n",
       "    </tr>\n",
       "  </tbody>\n",
       "</table>\n",
       "<p>5 rows × 123 columns</p>\n",
       "</div>"
      ],
      "text/plain": [
       "states                       2020-07-01  2020-07-02  2020-07-03  2020-07-04  \\\n",
       "state                                                                         \n",
       "Odisha                                0         229         561         495   \n",
       "Andaman and Nicobar Islands           0           9           7           3   \n",
       "Andhra Pradesh                        0         845         837         765   \n",
       "Maharashtra                           0        6328        6364        7074   \n",
       "Manipur                               0          19          37           9   \n",
       "\n",
       "states                       2020-07-05  2020-07-06  2020-07-07  2020-07-08  \\\n",
       "state                                                                         \n",
       "Odisha                              469         456         571         527   \n",
       "Andaman and Nicobar Islands           6          16           6           2   \n",
       "Andhra Pradesh                      998        1322        1178        1062   \n",
       "Maharashtra                        6555        5368        5134        6603   \n",
       "Manipur                              41          24          40           5   \n",
       "\n",
       "states                       2020-07-09  2020-07-10  ...  2020-10-22  \\\n",
       "state                                                ...               \n",
       "Odisha                              577         755  ...        1913   \n",
       "Andaman and Nicobar Islands           7           0  ...          16   \n",
       "Andhra Pradesh                     1555        1608  ...        3620   \n",
       "Maharashtra                        6875        7862  ...        7539   \n",
       "Manipur                              15         132  ...         345   \n",
       "\n",
       "states                       2020-10-23  2020-10-24  2020-10-25  2020-10-26  \\\n",
       "state                                                                         \n",
       "Odisha                             1793        1695        1633        1480   \n",
       "Andaman and Nicobar Islands          23          18          20           8   \n",
       "Andhra Pradesh                     3765        3342        2997        1901   \n",
       "Maharashtra                        7347        6417        6059        3645   \n",
       "Manipur                             156         245         138         264   \n",
       "\n",
       "states                       2020-10-27  2020-10-28  2020-10-29  2020-10-30  \\\n",
       "state                                                                         \n",
       "Odisha                             1247        1540        1617        1547   \n",
       "Andaman and Nicobar Islands          21          15          16          12   \n",
       "Andhra Pradesh                     2901        2949        2905        2886   \n",
       "Maharashtra                        5363        6738        5902        6190   \n",
       "Manipur                             180         205         242         221   \n",
       "\n",
       "states                       2020-10-31  \n",
       "state                                    \n",
       "Odisha                             1470  \n",
       "Andaman and Nicobar Islands           0  \n",
       "Andhra Pradesh                        0  \n",
       "Maharashtra                           0  \n",
       "Manipur                               0  \n",
       "\n",
       "[5 rows x 123 columns]"
      ]
     },
     "execution_count": 18,
     "metadata": {},
     "output_type": "execute_result"
    }
   ],
   "source": [
    "#hide\n",
    "dft_ct_new_cases.head()"
   ]
  },
  {
   "cell_type": "code",
   "execution_count": 19,
   "metadata": {
    "execution": {
     "iopub.execute_input": "2020-10-31T07:38:16.598406Z",
     "iopub.status.busy": "2020-10-31T07:38:16.587636Z",
     "iopub.status.idle": "2020-10-31T07:38:21.307857Z",
     "shell.execute_reply": "2020-10-31T07:38:21.308354Z"
    },
    "papermill": {
     "duration": 4.754096,
     "end_time": "2020-10-31T07:38:21.308545",
     "exception": false,
     "start_time": "2020-10-31T07:38:16.554449",
     "status": "completed"
    },
    "tags": []
   },
   "outputs": [
    {
     "data": {
      "image/png": "[encoded data removed]",
      "text/plain": [
       "<Figure size 1296x2016 with 11 Axes>"
      ]
     },
     "metadata": {
      "needs_background": "light"
     },
     "output_type": "display_data"
    }
   ],
   "source": [
    "#hide_input\n",
    "df = dft_ct_new_cases.copy()\n",
    "df.loc['Total'] = df.sum()\n",
    "n = 5\n",
    "ax = []\n",
    "fig = plt.figure(figsize = (18,28))\n",
    "gs = fig.add_gridspec(n+2, 5)\n",
    "# gs = fig.add_gridspec(2, 3)\n",
    "ax1 = fig.add_subplot(gs[0, :])\n",
    "ef = df.loc['Total'].rename_axis('date').reset_index()\n",
    "ef['date'] = ef['date'].astype('datetime64[ns]')\n",
    "ax1.bar(ef.date,ef.Total,alpha=0.3,color='#007acc')\n",
    "ax1.plot(ef.date,ef.Total , marker=\"o\", color='#007acc')\n",
    "ax1.xaxis.set_major_locator(mdates.WeekdayLocator())\n",
    "ax1.xaxis.set_major_formatter(mdates.DateFormatter('%b %d'))\n",
    "ax1.text(0.02, 0.5,'India daily case count', transform = ax1.transAxes, fontsize=25);\n",
    "ax1.spines['right'].set_visible(False)\n",
    "ax1.spines['top'].set_visible(False)\n",
    "\n",
    "ax2 = fig.add_subplot(gs[1,0])\n",
    "ef = df.loc['Maharashtra'].rename_axis('date').reset_index()\n",
    "ef['date'] = ef['date'].astype('datetime64[ns]')\n",
    "\n",
    "ax2.bar(ef.date, ef.Maharashtra,color = '#007acc',alpha=0.5)\n",
    "ax2.xaxis.set_major_locator(mdates.WeekdayLocator())\n",
    "ax2.xaxis.set_major_formatter(mdates.DateFormatter('%b %d'))\n",
    "ax2.set_xticks(ax2.get_xticks()[::3])\n",
    "maxyval = ef.Maharashtra.max()\n",
    "ax2.set_ylim([0,maxyval])\n",
    "ax2.text(0.05, 0.9,'Maharashtra', transform = ax2.transAxes, fontsize=20);\n",
    "ax2.spines['right'].set_visible(False)\n",
    "ax2.spines['top'].set_visible(False)\n",
    "\n",
    "\n",
    "ax3 = fig.add_subplot(gs[1,1])\n",
    "ef = df.loc['Tamil Nadu'].rename_axis('date').reset_index()\n",
    "ef['date'] = ef['date'].astype('datetime64[ns]')\n",
    "ax3.bar(ef.date, ef['Tamil Nadu'],color = '#007acc',alpha=0.5,)\n",
    "ax3.xaxis.set_major_locator(mdates.WeekdayLocator())\n",
    "ax3.xaxis.set_major_formatter(mdates.DateFormatter('%b %d'))\n",
    "ax3.set_xticks(ax3.get_xticks()[::3])\n",
    "ax3.text(0.05, 0.9,'Tamil Nadu', transform = ax3.transAxes, fontsize=20);\n",
    "ax3.spines['right'].set_visible(False)\n",
    "ax3.spines['top'].set_visible(False)\n",
    "\n",
    "ax5 = fig.add_subplot(gs[1,3])\n",
    "ef = df.loc['Telangana'].rename_axis('date').reset_index()\n",
    "ef['date'] = ef['date'].astype('datetime64[ns]')\n",
    "ax5.bar(ef.date, ef['Telangana'],color = '#007acc',alpha=0.5,)\n",
    "ax5.xaxis.set_major_locator(mdates.WeekdayLocator())\n",
    "ax5.xaxis.set_major_formatter(mdates.DateFormatter('%b %d'))\n",
    "ax5.set_xticks(ax5.get_xticks()[::3])\n",
    "ax5.text(0.05, 0.9,'Telangana', transform = ax5.transAxes, fontsize=20);\n",
    "ax5.spines['right'].set_visible(False)\n",
    "ax5.spines['top'].set_visible(False)\n",
    "\n",
    "ax6 = fig.add_subplot(gs[1,4])\n",
    "ef = df.loc['Andhra Pradesh'].rename_axis('date').reset_index()\n",
    "ef['date'] = ef['date'].astype('datetime64[ns]')\n",
    "ax6.bar(ef.date, ef['Andhra Pradesh'],color = '#007acc',alpha=0.5,)\n",
    "ax6.xaxis.set_major_locator(mdates.WeekdayLocator())\n",
    "ax6.xaxis.set_major_formatter(mdates.DateFormatter('%b %d'))\n",
    "ax6.set_xticks(ax6.get_xticks()[::3])\n",
    "ax6.text(0.05, 1,'Andhra Pradesh', transform = ax6.transAxes, fontsize=20);\n",
    "ax6.spines['right'].set_visible(False)\n",
    "ax6.spines['top'].set_visible(False)\n",
    "\n",
    "ax4 = fig.add_subplot(gs[1,2])\n",
    "ef = df.loc['Delhi'].rename_axis('date').reset_index()\n",
    "ef['date'] = ef['date'].astype('datetime64[ns]')\n",
    "ax4.bar(ef.date, ef.Delhi,color = '#007acc',alpha=0.5)\n",
    "ax4.set_xticks([])\n",
    "ax4.xaxis.set_major_locator(mdates.WeekdayLocator())\n",
    "ax4.xaxis.set_major_formatter(mdates.DateFormatter('%b %d'))\n",
    "ax4.set_xticks(ax4.get_xticks()[::3])\n",
    "ax4.spines['right'].set_visible(False)\n",
    "ax4.spines['top'].set_visible(False)\n",
    "\n",
    "ax4.text(0.05, 1,'Delhi', transform = ax4.transAxes, fontsize=20)\n",
    "\n",
    "for i in range(n):\n",
    "    \n",
    "    ax.append(fig.add_subplot(gs[i+2,:]))\n",
    "    ef = df.iloc[i+3].rename_axis('date').reset_index()\n",
    "    ef['date'] = ef['date'].astype('datetime64[ns]')\n",
    "    ax[i].bar(ef.date,ef.iloc[:,-1],color = '#007acc',alpha=0.3)\n",
    "    ax[i].plot(ef.date,ef.iloc[:,-1],marker='o',color='#007acc')\n",
    "    ax[i].text(0.02,0.5,f'{ef.columns.values[-1]}',transform = ax[i].transAxes, fontsize = 20);\n",
    "    ax[i].xaxis.set_major_locator(mdates.WeekdayLocator())\n",
    "    ax[i].xaxis.set_major_formatter(mdates.DateFormatter('%b %d'))\n",
    "    ax[i].set_ylim([0,7000])\n",
    "    ax[i].spines['right'].set_visible(False)\n",
    "    ax[i].spines['top'].set_visible(False)\n",
    "plt.tight_layout()\n"
   ]
  },
  {
   "cell_type": "code",
   "execution_count": 20,
   "metadata": {
    "execution": {
     "iopub.execute_input": "2020-10-31T07:38:21.372263Z",
     "iopub.status.busy": "2020-10-31T07:38:21.371564Z",
     "iopub.status.idle": "2020-10-31T07:38:21.374520Z",
     "shell.execute_reply": "2020-10-31T07:38:21.375001Z"
    },
    "papermill": {
     "duration": 0.037352,
     "end_time": "2020-10-31T07:38:21.375181",
     "exception": false,
     "start_time": "2020-10-31T07:38:21.337829",
     "status": "completed"
    },
    "tags": []
   },
   "outputs": [
    {
     "name": "stdout",
     "output_type": "stream",
     "text": [
      "                                   states    Cases  Deaths   PCases  PDeaths  Cases (+)  Deaths (+)  Fatality Rate\n",
      "                              Maharashtra  1672858   43837  1672858    43837          0           0           2.62\n",
      "                           Andhra Pradesh   820565    6676   820565     6676          0           0           0.81\n",
      "                                Karnataka   820398   11140   820398    11140          0           0           1.36\n",
      "                               Tamil Nadu   722011   11091   722011    11091          0           0           1.54\n",
      "                            Uttar Pradesh   480082    7007   480082     7007          0           0           1.46\n",
      "                                   Kerala   425123    1458   425123     1458          0           0           0.34\n",
      "                                    Delhi   381644    6470   381644     6470          0           0           1.70\n",
      "                              West Bengal   369671    6784   369671     6784          0           0           1.84\n",
      "                                   Odisha   290116    1373   288646     1361       1470          12           0.47\n",
      "                                Telangana   237187    1330   237187     1330          0           0           0.56\n",
      "                                    Bihar   215964    1084   215964     1084          0           0           0.50\n",
      "                                    Assam   206015     926   206015      926          0           0           0.45\n",
      "                                Rajasthan   195213    1898   195213     1898          0           0           0.97\n",
      "                             Chhattisgarh   185306    2038   185306     2038          0           0           1.10\n",
      "                                  Gujarat   172009    3714   172009     3714          0           0           2.16\n",
      "                           Madhya Pradesh   170690    2941   170690     2941          0           0           1.72\n",
      "                                  Haryana   165467    1777   165467     1777          0           0           1.07\n",
      "                                   Punjab   133158    4187   133158     4187          0           0           3.14\n",
      "                                Jharkhand   101287     883   101287      883          0           0           0.87\n",
      "                        Jammu and Kashmir    94330    1471    94330     1471          0           0           1.56\n",
      "                              Uttarakhand    61915    1011    61915     1011          0           0           1.63\n",
      "                                      Goa    43416     602    43416      602          0           0           1.39\n",
      "                               Puducherry    34908     592    34908      592          0           0           1.70\n",
      "                                  Tripura    30660     343    30660      343          0           0           1.12\n",
      "                         Himachal Pradesh    21577     306    21577      306          0           0           1.42\n",
      "                                  Manipur    18272     164    18272      164          0           0           0.90\n",
      "                        Arunachal Pradesh    14752      37    14752       37          0           0           0.25\n",
      "                               Chandigarh    14351     225    14351      225          0           0           1.57\n",
      "                                Meghalaya     9382      87     9382       87          0           0           0.93\n",
      "                                 Nagaland     8945      39     8945       39          0           0           0.44\n",
      "                                   Ladakh     6194      73     6194       73          0           0           1.18\n",
      "              Andaman and Nicobar Islands     4317      59     4317       59          0           0           1.37\n",
      "                                   Sikkim     3913      67     3913       67          0           0           1.71\n",
      " Dadra and Nagar Haveli and Daman and Diu     3246       2     3246        2          0           0           0.06\n",
      "                                  Mizoram     2694       1     2694        1          0           0           0.04\n",
      "                              Lakshadweep        0       0        0        0          0           0            NaN\n"
     ]
    }
   ],
   "source": [
    "#hide_input\n",
    "print(df_table.to_string(index=False))"
   ]
  },
  {
   "cell_type": "code",
   "execution_count": null,
   "metadata": {
    "papermill": {
     "duration": 0.02375,
     "end_time": "2020-10-31T07:38:21.422777",
     "exception": false,
     "start_time": "2020-10-31T07:38:21.399027",
     "status": "completed"
    },
    "tags": []
   },
   "outputs": [],
   "source": []
  },
  {
   "cell_type": "code",
   "execution_count": null,
   "metadata": {
    "papermill": {
     "duration": 0.023398,
     "end_time": "2020-10-31T07:38:21.469709",
     "exception": false,
     "start_time": "2020-10-31T07:38:21.446311",
     "status": "completed"
    },
    "tags": []
   },
   "outputs": [],
   "source": []
  }
 ],
 "metadata": {
  "kernelspec": {
   "display_name": "Python 3",
   "language": "python",
   "name": "python3"
  },
  "language_info": {
   "codemirror_mode": {
    "name": "ipython",
    "version": 3
   },
   "file_extension": ".py",
   "mimetype": "text/x-python",
   "name": "python",
   "nbconvert_exporter": "python",
   "pygments_lexer": "ipython3",
   "version": "3.6.12"
  },
  "papermill": {
   "duration": 12.20727,
   "end_time": "2020-10-31T07:38:22.205198",
   "environment_variables": {},
   "exception": null,
   "input_path": "latest.ipynb",
   "output_path": "latest.ipynb",
   "parameters": {},
   "start_time": "2020-10-31T07:38:09.997928",
   "version": "2.1.2"
  }
 },
 "nbformat": 4,
 "nbformat_minor": 4
}