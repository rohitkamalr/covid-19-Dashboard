{
 "cells": [
  {
   "cell_type": "markdown",
   "id": "colored-stack",
   "metadata": {
    "papermill": {
     "duration": 0.020334,
     "end_time": "2021-02-18T14:26:28.459792",
     "exception": false,
     "start_time": "2021-02-18T14:26:28.439458",
     "status": "completed"
    },
    "tags": []
   },
   "source": [
    "# Latest COVID-19 India Matplotlib Overview"
   ]
  },
  {
   "cell_type": "code",
   "execution_count": 1,
   "id": "light-proportion",
   "metadata": {
    "execution": {
     "iopub.execute_input": "2021-02-18T14:26:28.509658Z",
     "iopub.status.busy": "2021-02-18T14:26:28.508956Z",
     "iopub.status.idle": "2021-02-18T14:26:29.092558Z",
     "shell.execute_reply": "2021-02-18T14:26:29.092011Z"
    },
    "papermill": {
     "duration": 0.614418,
     "end_time": "2021-02-18T14:26:29.092706",
     "exception": false,
     "start_time": "2021-02-18T14:26:28.478288",
     "status": "completed"
    },
    "tags": []
   },
   "outputs": [],
   "source": [
    "#hide\n",
    "import pandas as pd\n",
    "import numpy as np\n",
    "import requests\n",
    "import json\n",
    "import matplotlib.pyplot as plt\n",
    "import matplotlib.dates as mdates\n",
    "import matplotlib as mpl\n",
    "from IPython.core.display import display,HTML\n",
    "%matplotlib inline\n",
    "from datetime import date"
   ]
  },
  {
   "cell_type": "code",
   "execution_count": 2,
   "id": "greenhouse-shooting",
   "metadata": {
    "execution": {
     "iopub.execute_input": "2021-02-18T14:26:29.135842Z",
     "iopub.status.busy": "2021-02-18T14:26:29.135325Z",
     "iopub.status.idle": "2021-02-18T14:26:29.296466Z",
     "shell.execute_reply": "2021-02-18T14:26:29.295804Z"
    },
    "papermill": {
     "duration": 0.183947,
     "end_time": "2021-02-18T14:26:29.296600",
     "exception": false,
     "start_time": "2021-02-18T14:26:29.112653",
     "status": "completed"
    },
    "tags": []
   },
   "outputs": [],
   "source": [
    "#hide\n",
    "df  = pd.read_csv('https://api.covid19india.org/csv/latest/states.csv')\n",
    "df = df[['Date','State','Confirmed','Deceased']]\n",
    "df = df.rename(columns={'Confirmed':'Cases', \"Deceased\":'Deaths'})\n",
    "df_cases = df[[\"Date\",'State','Cases']]\n",
    "df_deaths = df[['Date','State','Deaths']]\n",
    "df_cases1 = df_cases.groupby('Date')\n",
    "df_deaths1= df_deaths.groupby('Date')"
   ]
  },
  {
   "cell_type": "code",
   "execution_count": 3,
   "id": "hybrid-cathedral",
   "metadata": {
    "execution": {
     "iopub.execute_input": "2021-02-18T14:26:29.341388Z",
     "iopub.status.busy": "2021-02-18T14:26:29.340744Z",
     "iopub.status.idle": "2021-02-18T14:26:29.359635Z",
     "shell.execute_reply": "2021-02-18T14:26:29.359181Z"
    },
    "papermill": {
     "duration": 0.044184,
     "end_time": "2021-02-18T14:26:29.359750",
     "exception": false,
     "start_time": "2021-02-18T14:26:29.315566",
     "status": "completed"
    },
    "tags": []
   },
   "outputs": [],
   "source": [
    "#hide\n",
    "df_snap = pd.read_csv('data/SnapshotCases-28-July.csv')\n",
    "arr_states = df_snap['states'].unique()\n",
    "arr_dates = df['Date'].unique()\n",
    "df_snap = df_snap.set_index('states')"
   ]
  },
  {
   "cell_type": "code",
   "execution_count": 4,
   "id": "interior-belfast",
   "metadata": {
    "execution": {
     "iopub.execute_input": "2021-02-18T14:26:29.403611Z",
     "iopub.status.busy": "2021-02-18T14:26:29.402877Z",
     "iopub.status.idle": "2021-02-18T14:26:29.406833Z",
     "shell.execute_reply": "2021-02-18T14:26:29.406205Z"
    },
    "papermill": {
     "duration": 0.029466,
     "end_time": "2021-02-18T14:26:29.406959",
     "exception": false,
     "start_time": "2021-02-18T14:26:29.377493",
     "status": "completed"
    },
    "tags": []
   },
   "outputs": [
    {
     "data": {
      "text/plain": [
       "array(['Andaman and Nicobar Islands', 'Andhra Pradesh',\n",
       "       'Arunachal Pradesh', 'Assam', 'Bihar', 'Chandigarh',\n",
       "       'Dadra and Nagar Haveli and Daman and Diu', 'Delhi', 'Goa',\n",
       "       'Gujarat', 'Haryana', 'Himachal Pradesh', 'Jammu and Kashmir',\n",
       "       'Jharkhand', 'Karnataka', 'Kerala', 'Lakshadweep',\n",
       "       'Madhya Pradesh', 'Maharashtra', 'Manipur', 'Meghalaya', 'Mizoram',\n",
       "       'Nagaland', 'Odisha', 'Puducherry', 'Punjab', 'Rajasthan',\n",
       "       'Sikkim', 'Tamil Nadu', 'Telangana', 'Tripura', 'Uttar Pradesh',\n",
       "       'West Bengal', 'Chhattisgarh', 'Ladakh', 'Uttarakhand'],\n",
       "      dtype=object)"
      ]
     },
     "execution_count": 4,
     "metadata": {},
     "output_type": "execute_result"
    }
   ],
   "source": [
    "#hide\n",
    "arr_states[-9] = 'Puducherry'\n",
    "arr_states[-10] = 'Odisha'\n",
    "arr_states[6] = 'Dadra and Nagar Haveli and Daman and Diu'\n",
    "arr_states = np.append(arr_states,np.array(['Chhattisgarh','Ladakh','Uttarakhand']))\n",
    "arr_states"
   ]
  },
  {
   "cell_type": "code",
   "execution_count": 5,
   "id": "behind-manner",
   "metadata": {
    "execution": {
     "iopub.execute_input": "2021-02-18T14:26:29.458200Z",
     "iopub.status.busy": "2021-02-18T14:26:29.457185Z",
     "iopub.status.idle": "2021-02-18T14:26:29.466929Z",
     "shell.execute_reply": "2021-02-18T14:26:29.466487Z"
    },
    "papermill": {
     "duration": 0.040771,
     "end_time": "2021-02-18T14:26:29.467040",
     "exception": false,
     "start_time": "2021-02-18T14:26:29.426269",
     "status": "completed"
    },
    "tags": []
   },
   "outputs": [],
   "source": [
    "#hide\n",
    "dates = []\n",
    "for i in arr_dates:\n",
    "    if i>='2020-07-01':\n",
    "        dates.append(i)\n",
    "dict = {'states':dates}\n",
    "for i in arr_states:\n",
    "    dict[i] = [0]*len(dates)\n",
    "dft_cases = pd.DataFrame(dict)\n",
    "dft_deaths = pd.DataFrame(dict)\n"
   ]
  },
  {
   "cell_type": "code",
   "execution_count": 6,
   "id": "simplified-peter",
   "metadata": {
    "execution": {
     "iopub.execute_input": "2021-02-18T14:26:29.512277Z",
     "iopub.status.busy": "2021-02-18T14:26:29.511394Z",
     "iopub.status.idle": "2021-02-18T14:26:33.780379Z",
     "shell.execute_reply": "2021-02-18T14:26:33.779801Z"
    },
    "papermill": {
     "duration": 4.293333,
     "end_time": "2021-02-18T14:26:33.780528",
     "exception": false,
     "start_time": "2021-02-18T14:26:29.487195",
     "status": "completed"
    },
    "tags": []
   },
   "outputs": [],
   "source": [
    "#hide\n",
    "for i in range(len(dates)):\n",
    "    df1_deaths = df_deaths1.get_group(dates[i])\n",
    "    for j in range(len(df1_deaths.index)):\n",
    "        if df1_deaths.iloc[j,1] in arr_states:\n",
    "            dft_deaths.loc[i,df1_deaths.iloc[j,1]] = df1_deaths.iloc[j,2]\n",
    "dft_deaths = dft_deaths.set_index('states')"
   ]
  },
  {
   "cell_type": "code",
   "execution_count": 7,
   "id": "geological-welding",
   "metadata": {
    "execution": {
     "iopub.execute_input": "2021-02-18T14:26:33.823595Z",
     "iopub.status.busy": "2021-02-18T14:26:33.822608Z",
     "iopub.status.idle": "2021-02-18T14:26:37.807605Z",
     "shell.execute_reply": "2021-02-18T14:26:37.806857Z"
    },
    "papermill": {
     "duration": 4.008642,
     "end_time": "2021-02-18T14:26:37.807844",
     "exception": false,
     "start_time": "2021-02-18T14:26:33.799202",
     "status": "completed"
    },
    "tags": []
   },
   "outputs": [],
   "source": [
    "#hide\n",
    "for i in range(len(dates)):\n",
    "    df1_cases = df_cases1.get_group(dates[i])\n",
    "    for j in range(len(df1_cases.index)):\n",
    "        if df1_cases.iloc[j,1] in arr_states:\n",
    "            dft_cases.loc[i,df1_cases.iloc[j,1]] = df1_cases.iloc[j,2]\n",
    "dft_cases = dft_cases.set_index('states')"
   ]
  },
  {
   "cell_type": "code",
   "execution_count": 8,
   "id": "binary-ratio",
   "metadata": {
    "execution": {
     "iopub.execute_input": "2021-02-18T14:26:37.890044Z",
     "iopub.status.busy": "2021-02-18T14:26:37.889514Z",
     "iopub.status.idle": "2021-02-18T14:26:37.891586Z",
     "shell.execute_reply": "2021-02-18T14:26:37.891992Z"
    },
    "papermill": {
     "duration": 0.042591,
     "end_time": "2021-02-18T14:26:37.892108",
     "exception": false,
     "start_time": "2021-02-18T14:26:37.849517",
     "status": "completed"
    },
    "tags": []
   },
   "outputs": [],
   "source": [
    "#hide\n",
    "dft_cases = dft_cases.T\n",
    "dft_deaths = dft_deaths.T\n",
    "dt_today = dates[-1]\n",
    "dt_yday = dates[-2]"
   ]
  },
  {
   "cell_type": "code",
   "execution_count": 9,
   "id": "boolean-calculator",
   "metadata": {
    "execution": {
     "iopub.execute_input": "2021-02-18T14:26:37.966088Z",
     "iopub.status.busy": "2021-02-18T14:26:37.965369Z",
     "iopub.status.idle": "2021-02-18T14:26:37.970438Z",
     "shell.execute_reply": "2021-02-18T14:26:37.970990Z"
    },
    "papermill": {
     "duration": 0.028908,
     "end_time": "2021-02-18T14:26:37.971129",
     "exception": false,
     "start_time": "2021-02-18T14:26:37.942221",
     "status": "completed"
    },
    "tags": []
   },
   "outputs": [],
   "source": [
    "#hide\n",
    "dft_cases = dft_cases.reset_index()\n",
    "dft_deaths = dft_deaths.reset_index()\n",
    "dft_cases = dft_cases.rename(columns = {'index':'state'})\n",
    "dft_deaths = dft_deaths.rename(columns = {'index':'state'})"
   ]
  },
  {
   "cell_type": "code",
   "execution_count": 10,
   "id": "invisible-johnston",
   "metadata": {
    "execution": {
     "iopub.execute_input": "2021-02-18T14:26:38.016089Z",
     "iopub.status.busy": "2021-02-18T14:26:38.015508Z",
     "iopub.status.idle": "2021-02-18T14:26:38.019935Z",
     "shell.execute_reply": "2021-02-18T14:26:38.019452Z"
    },
    "papermill": {
     "duration": 0.031848,
     "end_time": "2021-02-18T14:26:38.020147",
     "exception": false,
     "start_time": "2021-02-18T14:26:37.988299",
     "status": "completed"
    },
    "tags": []
   },
   "outputs": [],
   "source": [
    "#hide\n",
    "dfc_cases = dft_cases.groupby('state')[dt_today].sum()\n",
    "dfc_deaths = dft_deaths.groupby('state')[dt_today].sum()\n",
    "dfp_cases = dft_cases.groupby('state')[dt_yday].sum()\n",
    "dfp_deaths = dft_deaths.groupby('state')[dt_yday].sum()"
   ]
  },
  {
   "cell_type": "code",
   "execution_count": 11,
   "id": "measured-great",
   "metadata": {
    "execution": {
     "iopub.execute_input": "2021-02-18T14:26:38.070541Z",
     "iopub.status.busy": "2021-02-18T14:26:38.066576Z",
     "iopub.status.idle": "2021-02-18T14:26:38.076841Z",
     "shell.execute_reply": "2021-02-18T14:26:38.077387Z"
    },
    "papermill": {
     "duration": 0.038293,
     "end_time": "2021-02-18T14:26:38.077500",
     "exception": false,
     "start_time": "2021-02-18T14:26:38.039207",
     "status": "completed"
    },
    "tags": []
   },
   "outputs": [
    {
     "data": {
      "text/html": [
       "<div>\n",
       "<style scoped>\n",
       "    .dataframe tbody tr th:only-of-type {\n",
       "        vertical-align: middle;\n",
       "    }\n",
       "\n",
       "    .dataframe tbody tr th {\n",
       "        vertical-align: top;\n",
       "    }\n",
       "\n",
       "    .dataframe thead th {\n",
       "        text-align: right;\n",
       "    }\n",
       "</style>\n",
       "<table border=\"1\" class=\"dataframe\">\n",
       "  <thead>\n",
       "    <tr style=\"text-align: right;\">\n",
       "      <th></th>\n",
       "      <th>states</th>\n",
       "      <th>Cases</th>\n",
       "      <th>Deaths</th>\n",
       "      <th>PCases</th>\n",
       "      <th>PDeaths</th>\n",
       "    </tr>\n",
       "  </thead>\n",
       "  <tbody>\n",
       "    <tr>\n",
       "      <th>0</th>\n",
       "      <td>Maharashtra</td>\n",
       "      <td>2081520</td>\n",
       "      <td>51669</td>\n",
       "      <td>2076093</td>\n",
       "      <td>51631</td>\n",
       "    </tr>\n",
       "    <tr>\n",
       "      <th>1</th>\n",
       "      <td>Kerala</td>\n",
       "      <td>1016849</td>\n",
       "      <td>4033</td>\n",
       "      <td>1016849</td>\n",
       "      <td>4033</td>\n",
       "    </tr>\n",
       "    <tr>\n",
       "      <th>2</th>\n",
       "      <td>Karnataka</td>\n",
       "      <td>946454</td>\n",
       "      <td>12276</td>\n",
       "      <td>946454</td>\n",
       "      <td>12276</td>\n",
       "    </tr>\n",
       "    <tr>\n",
       "      <th>3</th>\n",
       "      <td>Andhra Pradesh</td>\n",
       "      <td>889010</td>\n",
       "      <td>7165</td>\n",
       "      <td>889010</td>\n",
       "      <td>7165</td>\n",
       "    </tr>\n",
       "    <tr>\n",
       "      <th>4</th>\n",
       "      <td>Tamil Nadu</td>\n",
       "      <td>846480</td>\n",
       "      <td>12438</td>\n",
       "      <td>846480</td>\n",
       "      <td>12438</td>\n",
       "    </tr>\n",
       "  </tbody>\n",
       "</table>\n",
       "</div>"
      ],
      "text/plain": [
       "           states    Cases  Deaths   PCases  PDeaths\n",
       "0     Maharashtra  2081520   51669  2076093    51631\n",
       "1          Kerala  1016849    4033  1016849     4033\n",
       "2       Karnataka   946454   12276   946454    12276\n",
       "3  Andhra Pradesh   889010    7165   889010     7165\n",
       "4      Tamil Nadu   846480   12438   846480    12438"
      ]
     },
     "execution_count": 11,
     "metadata": {},
     "output_type": "execute_result"
    }
   ],
   "source": [
    "#hide\n",
    "df_table = pd.DataFrame({'states': dfc_cases.index, 'Cases': dfc_cases.values, 'Deaths': dfc_deaths.values, 'PCases': dfp_cases.values, 'PDeaths': dfp_deaths.values}).set_index('states')\n",
    "df_table = df_table.sort_values(by = ['Cases','Deaths'], ascending = [False, False])\n",
    "df_table = df_table.reset_index()\n",
    "df_table.head()"
   ]
  },
  {
   "cell_type": "code",
   "execution_count": 12,
   "id": "found-montreal",
   "metadata": {
    "execution": {
     "iopub.execute_input": "2021-02-18T14:26:38.127823Z",
     "iopub.status.busy": "2021-02-18T14:26:38.127254Z",
     "iopub.status.idle": "2021-02-18T14:26:38.136105Z",
     "shell.execute_reply": "2021-02-18T14:26:38.136667Z"
    },
    "papermill": {
     "duration": 0.040864,
     "end_time": "2021-02-18T14:26:38.136791",
     "exception": false,
     "start_time": "2021-02-18T14:26:38.095927",
     "status": "completed"
    },
    "tags": []
   },
   "outputs": [],
   "source": [
    "#hide\n",
    "for c in 'Cases, Deaths'.split(', '):\n",
    "    df_table[f'{c} (+)'] = (df_table[c] - df_table[f'P{c}']).clip(0)\n",
    "df_table['Fatality Rate'] = (100* df_table['Deaths']/ df_table['Cases']).round(2)"
   ]
  },
  {
   "cell_type": "code",
   "execution_count": 13,
   "id": "minus-savage",
   "metadata": {
    "execution": {
     "iopub.execute_input": "2021-02-18T14:26:38.181992Z",
     "iopub.status.busy": "2021-02-18T14:26:38.181435Z",
     "iopub.status.idle": "2021-02-18T14:26:38.184918Z",
     "shell.execute_reply": "2021-02-18T14:26:38.184361Z"
    },
    "papermill": {
     "duration": 0.032008,
     "end_time": "2021-02-18T14:26:38.185068",
     "exception": false,
     "start_time": "2021-02-18T14:26:38.153060",
     "status": "completed"
    },
    "tags": []
   },
   "outputs": [
    {
     "data": {
      "text/html": [
       "<div>\n",
       "<style scoped>\n",
       "    .dataframe tbody tr th:only-of-type {\n",
       "        vertical-align: middle;\n",
       "    }\n",
       "\n",
       "    .dataframe tbody tr th {\n",
       "        vertical-align: top;\n",
       "    }\n",
       "\n",
       "    .dataframe thead th {\n",
       "        text-align: right;\n",
       "    }\n",
       "</style>\n",
       "<table border=\"1\" class=\"dataframe\">\n",
       "  <thead>\n",
       "    <tr style=\"text-align: right;\">\n",
       "      <th></th>\n",
       "      <th>states</th>\n",
       "      <th>Cases</th>\n",
       "      <th>Deaths</th>\n",
       "      <th>PCases</th>\n",
       "      <th>PDeaths</th>\n",
       "      <th>Cases (+)</th>\n",
       "      <th>Deaths (+)</th>\n",
       "      <th>Fatality Rate</th>\n",
       "    </tr>\n",
       "  </thead>\n",
       "  <tbody>\n",
       "    <tr>\n",
       "      <th>0</th>\n",
       "      <td>Maharashtra</td>\n",
       "      <td>2081520</td>\n",
       "      <td>51669</td>\n",
       "      <td>2076093</td>\n",
       "      <td>51631</td>\n",
       "      <td>5427</td>\n",
       "      <td>38</td>\n",
       "      <td>2.48</td>\n",
       "    </tr>\n",
       "    <tr>\n",
       "      <th>1</th>\n",
       "      <td>Kerala</td>\n",
       "      <td>1016849</td>\n",
       "      <td>4033</td>\n",
       "      <td>1016849</td>\n",
       "      <td>4033</td>\n",
       "      <td>0</td>\n",
       "      <td>0</td>\n",
       "      <td>0.40</td>\n",
       "    </tr>\n",
       "    <tr>\n",
       "      <th>2</th>\n",
       "      <td>Karnataka</td>\n",
       "      <td>946454</td>\n",
       "      <td>12276</td>\n",
       "      <td>946454</td>\n",
       "      <td>12276</td>\n",
       "      <td>0</td>\n",
       "      <td>0</td>\n",
       "      <td>1.30</td>\n",
       "    </tr>\n",
       "    <tr>\n",
       "      <th>3</th>\n",
       "      <td>Andhra Pradesh</td>\n",
       "      <td>889010</td>\n",
       "      <td>7165</td>\n",
       "      <td>889010</td>\n",
       "      <td>7165</td>\n",
       "      <td>0</td>\n",
       "      <td>0</td>\n",
       "      <td>0.81</td>\n",
       "    </tr>\n",
       "    <tr>\n",
       "      <th>4</th>\n",
       "      <td>Tamil Nadu</td>\n",
       "      <td>846480</td>\n",
       "      <td>12438</td>\n",
       "      <td>846480</td>\n",
       "      <td>12438</td>\n",
       "      <td>0</td>\n",
       "      <td>0</td>\n",
       "      <td>1.47</td>\n",
       "    </tr>\n",
       "  </tbody>\n",
       "</table>\n",
       "</div>"
      ],
      "text/plain": [
       "           states    Cases  Deaths   PCases  PDeaths  Cases (+)  Deaths (+)  \\\n",
       "0     Maharashtra  2081520   51669  2076093    51631       5427          38   \n",
       "1          Kerala  1016849    4033  1016849     4033          0           0   \n",
       "2       Karnataka   946454   12276   946454    12276          0           0   \n",
       "3  Andhra Pradesh   889010    7165   889010     7165          0           0   \n",
       "4      Tamil Nadu   846480   12438   846480    12438          0           0   \n",
       "\n",
       "   Fatality Rate  \n",
       "0           2.48  \n",
       "1           0.40  \n",
       "2           1.30  \n",
       "3           0.81  \n",
       "4           1.47  "
      ]
     },
     "execution_count": 13,
     "metadata": {},
     "output_type": "execute_result"
    }
   ],
   "source": [
    "#hide\n",
    "df_table.head()"
   ]
  },
  {
   "cell_type": "code",
   "execution_count": 14,
   "id": "false-peter",
   "metadata": {
    "execution": {
     "iopub.execute_input": "2021-02-18T14:26:38.226019Z",
     "iopub.status.busy": "2021-02-18T14:26:38.225452Z",
     "iopub.status.idle": "2021-02-18T14:26:38.241254Z",
     "shell.execute_reply": "2021-02-18T14:26:38.241700Z"
    },
    "papermill": {
     "duration": 0.038126,
     "end_time": "2021-02-18T14:26:38.241867",
     "exception": false,
     "start_time": "2021-02-18T14:26:38.203741",
     "status": "completed"
    },
    "tags": []
   },
   "outputs": [
    {
     "data": {
      "text/plain": [
       "{'updated': '2021-02-18',\n",
       " 'since': '2021-02-17',\n",
       " 'Cases': 10955305,\n",
       " 'PCases': 10949646,\n",
       " 'Deaths': 156078,\n",
       " 'PDeaths': 156039,\n",
       " 'Cases (+)': 5659,\n",
       " 'Deaths (+)': 39}"
      ]
     },
     "execution_count": 14,
     "metadata": {},
     "output_type": "execute_result"
    }
   ],
   "source": [
    "#hide\n",
    "summary = {'updated':dates[-1], 'since':dates[-2]}\n",
    "list_names = ['Cases', 'PCases', 'Deaths', 'PDeaths', 'Cases (+)', 'Deaths (+)']\n",
    "for name in list_names:\n",
    "    summary[name] = df_table.sum()[name]\n",
    "summary"
   ]
  },
  {
   "cell_type": "code",
   "execution_count": 15,
   "id": "packed-viewer",
   "metadata": {
    "execution": {
     "iopub.execute_input": "2021-02-18T14:26:38.283581Z",
     "iopub.status.busy": "2021-02-18T14:26:38.282928Z",
     "iopub.status.idle": "2021-02-18T14:26:38.285363Z",
     "shell.execute_reply": "2021-02-18T14:26:38.284811Z"
    },
    "papermill": {
     "duration": 0.025057,
     "end_time": "2021-02-18T14:26:38.285474",
     "exception": false,
     "start_time": "2021-02-18T14:26:38.260417",
     "status": "completed"
    },
    "tags": []
   },
   "outputs": [],
   "source": [
    "#hide\n",
    "overview = '''\n",
    "<!-- #######  HTML!! #########-->\n",
    "<h1 style=\"color: #5e9ca0; text-align: center;\">India</h1>\n",
    "<p style=\"text-align: center;\">Last update: <strong>{update}</strong></p>\n",
    "<p style=\"text-align: center;\">Confirmed cases:</p>\n",
    "<p style=\"text-align: center;font-size:24px;\">{cases} (<span style=\"color: #ff0000;\">+{new}</span>)</p>\n",
    "<p style=\"text-align: center;\">Confirmed deaths:</p>\n",
    "<p style=\"text-align: center;font-size:24px;\">{deaths} (<span style=\"color: #ff0000;\">+{dnew}</span>)</p>\n",
    "'''"
   ]
  },
  {
   "cell_type": "code",
   "execution_count": 16,
   "id": "phantom-lover",
   "metadata": {
    "execution": {
     "iopub.execute_input": "2021-02-18T14:26:38.325747Z",
     "iopub.status.busy": "2021-02-18T14:26:38.325177Z",
     "iopub.status.idle": "2021-02-18T14:26:38.328756Z",
     "shell.execute_reply": "2021-02-18T14:26:38.328245Z"
    },
    "papermill": {
     "duration": 0.025419,
     "end_time": "2021-02-18T14:26:38.328889",
     "exception": false,
     "start_time": "2021-02-18T14:26:38.303470",
     "status": "completed"
    },
    "tags": []
   },
   "outputs": [
    {
     "data": {
      "text/html": [
       "\n",
       "<!-- #######  HTML!! #########-->\n",
       "<h1 style=\"color: #5e9ca0; text-align: center;\">India</h1>\n",
       "<p style=\"text-align: center;\">Last update: <strong>2021-02-18</strong></p>\n",
       "<p style=\"text-align: center;\">Confirmed cases:</p>\n",
       "<p style=\"text-align: center;font-size:24px;\">10955305 (<span style=\"color: #ff0000;\">+5659</span>)</p>\n",
       "<p style=\"text-align: center;\">Confirmed deaths:</p>\n",
       "<p style=\"text-align: center;font-size:24px;\">156078 (<span style=\"color: #ff0000;\">+39</span>)</p>\n"
      ],
      "text/plain": [
       "<IPython.core.display.HTML object>"
      ]
     },
     "metadata": {},
     "output_type": "display_data"
    }
   ],
   "source": [
    "#hide_input\n",
    "update = summary['updated']\n",
    "cases = summary['Cases']\n",
    "new = summary['Cases (+)']\n",
    "deaths = summary['Deaths']\n",
    "dnew = summary['Deaths (+)']\n",
    "\n",
    "html = HTML(overview.format(update=update, cases=cases,new=new,deaths=deaths,dnew=dnew))\n",
    "\n",
    "display(html)"
   ]
  },
  {
   "cell_type": "code",
   "execution_count": 17,
   "id": "sealed-reset",
   "metadata": {
    "execution": {
     "iopub.execute_input": "2021-02-18T14:26:38.373111Z",
     "iopub.status.busy": "2021-02-18T14:26:38.372475Z",
     "iopub.status.idle": "2021-02-18T14:26:38.379900Z",
     "shell.execute_reply": "2021-02-18T14:26:38.380390Z"
    },
    "papermill": {
     "duration": 0.033308,
     "end_time": "2021-02-18T14:26:38.380509",
     "exception": false,
     "start_time": "2021-02-18T14:26:38.347201",
     "status": "completed"
    },
    "tags": []
   },
   "outputs": [],
   "source": [
    "#hide\n",
    "dt_cols = list(dft_cases.columns[1:])\n",
    "dft_ct_new_cases = dft_cases.groupby('state')[dt_cols].sum().diff(axis=1).fillna(0).astype(int)\n",
    "dft_ct_new_cases.sort_values(by = dates[-1], ascending = False,inplace = True)"
   ]
  },
  {
   "cell_type": "code",
   "execution_count": 18,
   "id": "designed-constant",
   "metadata": {
    "execution": {
     "iopub.execute_input": "2021-02-18T14:26:38.433680Z",
     "iopub.status.busy": "2021-02-18T14:26:38.433006Z",
     "iopub.status.idle": "2021-02-18T14:26:38.435973Z",
     "shell.execute_reply": "2021-02-18T14:26:38.436471Z"
    },
    "papermill": {
     "duration": 0.038565,
     "end_time": "2021-02-18T14:26:38.436579",
     "exception": false,
     "start_time": "2021-02-18T14:26:38.398014",
     "status": "completed"
    },
    "tags": []
   },
   "outputs": [
    {
     "data": {
      "text/html": [
       "<div>\n",
       "<style scoped>\n",
       "    .dataframe tbody tr th:only-of-type {\n",
       "        vertical-align: middle;\n",
       "    }\n",
       "\n",
       "    .dataframe tbody tr th {\n",
       "        vertical-align: top;\n",
       "    }\n",
       "\n",
       "    .dataframe thead th {\n",
       "        text-align: right;\n",
       "    }\n",
       "</style>\n",
       "<table border=\"1\" class=\"dataframe\">\n",
       "  <thead>\n",
       "    <tr style=\"text-align: right;\">\n",
       "      <th>states</th>\n",
       "      <th>2020-07-01</th>\n",
       "      <th>2020-07-02</th>\n",
       "      <th>2020-07-03</th>\n",
       "      <th>2020-07-04</th>\n",
       "      <th>2020-07-05</th>\n",
       "      <th>2020-07-06</th>\n",
       "      <th>2020-07-07</th>\n",
       "      <th>2020-07-08</th>\n",
       "      <th>2020-07-09</th>\n",
       "      <th>2020-07-10</th>\n",
       "      <th>...</th>\n",
       "      <th>2021-02-09</th>\n",
       "      <th>2021-02-10</th>\n",
       "      <th>2021-02-11</th>\n",
       "      <th>2021-02-12</th>\n",
       "      <th>2021-02-13</th>\n",
       "      <th>2021-02-14</th>\n",
       "      <th>2021-02-15</th>\n",
       "      <th>2021-02-16</th>\n",
       "      <th>2021-02-17</th>\n",
       "      <th>2021-02-18</th>\n",
       "    </tr>\n",
       "    <tr>\n",
       "      <th>state</th>\n",
       "      <th></th>\n",
       "      <th></th>\n",
       "      <th></th>\n",
       "      <th></th>\n",
       "      <th></th>\n",
       "      <th></th>\n",
       "      <th></th>\n",
       "      <th></th>\n",
       "      <th></th>\n",
       "      <th></th>\n",
       "      <th></th>\n",
       "      <th></th>\n",
       "      <th></th>\n",
       "      <th></th>\n",
       "      <th></th>\n",
       "      <th></th>\n",
       "      <th></th>\n",
       "      <th></th>\n",
       "      <th></th>\n",
       "      <th></th>\n",
       "      <th></th>\n",
       "    </tr>\n",
       "  </thead>\n",
       "  <tbody>\n",
       "    <tr>\n",
       "      <th>Maharashtra</th>\n",
       "      <td>0</td>\n",
       "      <td>6328</td>\n",
       "      <td>6364</td>\n",
       "      <td>7074</td>\n",
       "      <td>6555</td>\n",
       "      <td>5368</td>\n",
       "      <td>5134</td>\n",
       "      <td>6603</td>\n",
       "      <td>6875</td>\n",
       "      <td>7862</td>\n",
       "      <td>...</td>\n",
       "      <td>2515</td>\n",
       "      <td>3451</td>\n",
       "      <td>652</td>\n",
       "      <td>3670</td>\n",
       "      <td>3611</td>\n",
       "      <td>4092</td>\n",
       "      <td>3365</td>\n",
       "      <td>3663</td>\n",
       "      <td>4787</td>\n",
       "      <td>5427</td>\n",
       "    </tr>\n",
       "    <tr>\n",
       "      <th>Telangana</th>\n",
       "      <td>0</td>\n",
       "      <td>1213</td>\n",
       "      <td>1892</td>\n",
       "      <td>1850</td>\n",
       "      <td>1590</td>\n",
       "      <td>1831</td>\n",
       "      <td>1879</td>\n",
       "      <td>1924</td>\n",
       "      <td>1410</td>\n",
       "      <td>1278</td>\n",
       "      <td>...</td>\n",
       "      <td>149</td>\n",
       "      <td>157</td>\n",
       "      <td>146</td>\n",
       "      <td>143</td>\n",
       "      <td>144</td>\n",
       "      <td>146</td>\n",
       "      <td>99</td>\n",
       "      <td>129</td>\n",
       "      <td>148</td>\n",
       "      <td>163</td>\n",
       "    </tr>\n",
       "    <tr>\n",
       "      <th>Odisha</th>\n",
       "      <td>0</td>\n",
       "      <td>229</td>\n",
       "      <td>561</td>\n",
       "      <td>495</td>\n",
       "      <td>469</td>\n",
       "      <td>456</td>\n",
       "      <td>571</td>\n",
       "      <td>527</td>\n",
       "      <td>577</td>\n",
       "      <td>755</td>\n",
       "      <td>...</td>\n",
       "      <td>105</td>\n",
       "      <td>92</td>\n",
       "      <td>95</td>\n",
       "      <td>58</td>\n",
       "      <td>59</td>\n",
       "      <td>73</td>\n",
       "      <td>88</td>\n",
       "      <td>60</td>\n",
       "      <td>75</td>\n",
       "      <td>63</td>\n",
       "    </tr>\n",
       "    <tr>\n",
       "      <th>Mizoram</th>\n",
       "      <td>0</td>\n",
       "      <td>2</td>\n",
       "      <td>0</td>\n",
       "      <td>2</td>\n",
       "      <td>22</td>\n",
       "      <td>11</td>\n",
       "      <td>1</td>\n",
       "      <td>5</td>\n",
       "      <td>0</td>\n",
       "      <td>23</td>\n",
       "      <td>...</td>\n",
       "      <td>3</td>\n",
       "      <td>2</td>\n",
       "      <td>2</td>\n",
       "      <td>1</td>\n",
       "      <td>1</td>\n",
       "      <td>0</td>\n",
       "      <td>0</td>\n",
       "      <td>3</td>\n",
       "      <td>1</td>\n",
       "      <td>3</td>\n",
       "    </tr>\n",
       "    <tr>\n",
       "      <th>Tripura</th>\n",
       "      <td>0</td>\n",
       "      <td>39</td>\n",
       "      <td>93</td>\n",
       "      <td>25</td>\n",
       "      <td>23</td>\n",
       "      <td>111</td>\n",
       "      <td>24</td>\n",
       "      <td>57</td>\n",
       "      <td>16</td>\n",
       "      <td>142</td>\n",
       "      <td>...</td>\n",
       "      <td>1</td>\n",
       "      <td>0</td>\n",
       "      <td>0</td>\n",
       "      <td>0</td>\n",
       "      <td>0</td>\n",
       "      <td>0</td>\n",
       "      <td>0</td>\n",
       "      <td>0</td>\n",
       "      <td>2</td>\n",
       "      <td>2</td>\n",
       "    </tr>\n",
       "  </tbody>\n",
       "</table>\n",
       "<p>5 rows × 233 columns</p>\n",
       "</div>"
      ],
      "text/plain": [
       "states       2020-07-01  2020-07-02  2020-07-03  2020-07-04  2020-07-05  \\\n",
       "state                                                                     \n",
       "Maharashtra           0        6328        6364        7074        6555   \n",
       "Telangana             0        1213        1892        1850        1590   \n",
       "Odisha                0         229         561         495         469   \n",
       "Mizoram               0           2           0           2          22   \n",
       "Tripura               0          39          93          25          23   \n",
       "\n",
       "states       2020-07-06  2020-07-07  2020-07-08  2020-07-09  2020-07-10  ...  \\\n",
       "state                                                                    ...   \n",
       "Maharashtra        5368        5134        6603        6875        7862  ...   \n",
       "Telangana          1831        1879        1924        1410        1278  ...   \n",
       "Odisha              456         571         527         577         755  ...   \n",
       "Mizoram              11           1           5           0          23  ...   \n",
       "Tripura             111          24          57          16         142  ...   \n",
       "\n",
       "states       2021-02-09  2021-02-10  2021-02-11  2021-02-12  2021-02-13  \\\n",
       "state                                                                     \n",
       "Maharashtra        2515        3451         652        3670        3611   \n",
       "Telangana           149         157         146         143         144   \n",
       "Odisha              105          92          95          58          59   \n",
       "Mizoram               3           2           2           1           1   \n",
       "Tripura               1           0           0           0           0   \n",
       "\n",
       "states       2021-02-14  2021-02-15  2021-02-16  2021-02-17  2021-02-18  \n",
       "state                                                                    \n",
       "Maharashtra        4092        3365        3663        4787        5427  \n",
       "Telangana           146          99         129         148         163  \n",
       "Odisha               73          88          60          75          63  \n",
       "Mizoram               0           0           3           1           3  \n",
       "Tripura               0           0           0           2           2  \n",
       "\n",
       "[5 rows x 233 columns]"
      ]
     },
     "execution_count": 18,
     "metadata": {},
     "output_type": "execute_result"
    }
   ],
   "source": [
    "#hide\n",
    "dft_ct_new_cases.head()"
   ]
  },
  {
   "cell_type": "code",
   "execution_count": 19,
   "id": "responsible-nightlife",
   "metadata": {
    "execution": {
     "iopub.execute_input": "2021-02-18T14:26:38.476261Z",
     "iopub.status.busy": "2021-02-18T14:26:38.475532Z",
     "iopub.status.idle": "2021-02-18T14:26:48.395089Z",
     "shell.execute_reply": "2021-02-18T14:26:48.395881Z"
    },
    "papermill": {
     "duration": 9.941419,
     "end_time": "2021-02-18T14:26:48.396070",
     "exception": false,
     "start_time": "2021-02-18T14:26:38.454651",
     "status": "completed"
    },
    "tags": []
   },
   "outputs": [
    {
     "data": {
      "image/png": "[encoded data removed]",
      "text/plain": [
       "<Figure size 1296x2016 with 11 Axes>"
      ]
     },
     "metadata": {
      "needs_background": "light"
     },
     "output_type": "display_data"
    }
   ],
   "source": [
    "#hide_input\n",
    "df = dft_ct_new_cases.copy()\n",
    "df.loc['Total'] = df.sum()\n",
    "n = 5\n",
    "ax = []\n",
    "fig = plt.figure(figsize = (18,28))\n",
    "gs = fig.add_gridspec(n+2, 5)\n",
    "# gs = fig.add_gridspec(2, 3)\n",
    "ax1 = fig.add_subplot(gs[0, :])\n",
    "ef = df.loc['Total'].rename_axis('date').reset_index()\n",
    "ef['date'] = ef['date'].astype('datetime64[ns]')\n",
    "ax1.bar(ef.date,ef.Total,alpha=0.3,color='#007acc')\n",
    "ax1.plot(ef.date,ef.Total , marker=\"o\", color='#007acc')\n",
    "ax1.xaxis.set_major_locator(mdates.WeekdayLocator())\n",
    "ax1.xaxis.set_major_formatter(mdates.DateFormatter('%b %d'))\n",
    "ax1.text(0.02, 0.5,'India daily case count', transform = ax1.transAxes, fontsize=25);\n",
    "ax1.spines['right'].set_visible(False)\n",
    "ax1.spines['top'].set_visible(False)\n",
    "\n",
    "ax2 = fig.add_subplot(gs[1,0])\n",
    "ef = df.loc['Maharashtra'].rename_axis('date').reset_index()\n",
    "ef['date'] = ef['date'].astype('datetime64[ns]')\n",
    "\n",
    "ax2.bar(ef.date, ef.Maharashtra,color = '#007acc',alpha=0.5)\n",
    "ax2.xaxis.set_major_locator(mdates.WeekdayLocator())\n",
    "ax2.xaxis.set_major_formatter(mdates.DateFormatter('%b %d'))\n",
    "ax2.set_xticks(ax2.get_xticks()[::3])\n",
    "maxyval = ef.Maharashtra.max()\n",
    "ax2.set_ylim([0,maxyval])\n",
    "ax2.text(0.05, 0.9,'Maharashtra', transform = ax2.transAxes, fontsize=20);\n",
    "ax2.spines['right'].set_visible(False)\n",
    "ax2.spines['top'].set_visible(False)\n",
    "\n",
    "\n",
    "ax3 = fig.add_subplot(gs[1,1])\n",
    "ef = df.loc['Tamil Nadu'].rename_axis('date').reset_index()\n",
    "ef['date'] = ef['date'].astype('datetime64[ns]')\n",
    "ax3.bar(ef.date, ef['Tamil Nadu'],color = '#007acc',alpha=0.5,)\n",
    "ax3.xaxis.set_major_locator(mdates.WeekdayLocator())\n",
    "ax3.xaxis.set_major_formatter(mdates.DateFormatter('%b %d'))\n",
    "ax3.set_xticks(ax3.get_xticks()[::3])\n",
    "ax3.text(0.05, 0.9,'Tamil Nadu', transform = ax3.transAxes, fontsize=20);\n",
    "ax3.spines['right'].set_visible(False)\n",
    "ax3.spines['top'].set_visible(False)\n",
    "\n",
    "ax5 = fig.add_subplot(gs[1,3])\n",
    "ef = df.loc['Telangana'].rename_axis('date').reset_index()\n",
    "ef['date'] = ef['date'].astype('datetime64[ns]')\n",
    "ax5.bar(ef.date, ef['Telangana'],color = '#007acc',alpha=0.5,)\n",
    "ax5.xaxis.set_major_locator(mdates.WeekdayLocator())\n",
    "ax5.xaxis.set_major_formatter(mdates.DateFormatter('%b %d'))\n",
    "ax5.set_xticks(ax5.get_xticks()[::3])\n",
    "ax5.text(0.05, 0.9,'Telangana', transform = ax5.transAxes, fontsize=20);\n",
    "ax5.spines['right'].set_visible(False)\n",
    "ax5.spines['top'].set_visible(False)\n",
    "\n",
    "ax6 = fig.add_subplot(gs[1,4])\n",
    "ef = df.loc['Andhra Pradesh'].rename_axis('date').reset_index()\n",
    "ef['date'] = ef['date'].astype('datetime64[ns]')\n",
    "ax6.bar(ef.date, ef['Andhra Pradesh'],color = '#007acc',alpha=0.5,)\n",
    "ax6.xaxis.set_major_locator(mdates.WeekdayLocator())\n",
    "ax6.xaxis.set_major_formatter(mdates.DateFormatter('%b %d'))\n",
    "ax6.set_xticks(ax6.get_xticks()[::3])\n",
    "ax6.text(0.05, 1,'Andhra Pradesh', transform = ax6.transAxes, fontsize=20);\n",
    "ax6.spines['right'].set_visible(False)\n",
    "ax6.spines['top'].set_visible(False)\n",
    "\n",
    "ax4 = fig.add_subplot(gs[1,2])\n",
    "ef = df.loc['Delhi'].rename_axis('date').reset_index()\n",
    "ef['date'] = ef['date'].astype('datetime64[ns]')\n",
    "ax4.bar(ef.date, ef.Delhi,color = '#007acc',alpha=0.5)\n",
    "ax4.set_xticks([])\n",
    "ax4.xaxis.set_major_locator(mdates.WeekdayLocator())\n",
    "ax4.xaxis.set_major_formatter(mdates.DateFormatter('%b %d'))\n",
    "ax4.set_xticks(ax4.get_xticks()[::3])\n",
    "ax4.spines['right'].set_visible(False)\n",
    "ax4.spines['top'].set_visible(False)\n",
    "\n",
    "ax4.text(0.05, 1,'Delhi', transform = ax4.transAxes, fontsize=20)\n",
    "\n",
    "for i in range(n):\n",
    "    \n",
    "    ax.append(fig.add_subplot(gs[i+2,:]))\n",
    "    ef = df.iloc[i+3].rename_axis('date').reset_index()\n",
    "    ef['date'] = ef['date'].astype('datetime64[ns]')\n",
    "    ax[i].bar(ef.date,ef.iloc[:,-1],color = '#007acc',alpha=0.3)\n",
    "    ax[i].plot(ef.date,ef.iloc[:,-1],marker='o',color='#007acc')\n",
    "    ax[i].text(0.02,0.5,f'{ef.columns.values[-1]}',transform = ax[i].transAxes, fontsize = 20);\n",
    "    ax[i].xaxis.set_major_locator(mdates.WeekdayLocator())\n",
    "    ax[i].xaxis.set_major_formatter(mdates.DateFormatter('%b %d'))\n",
    "    ax[i].set_ylim([0,7000])\n",
    "    ax[i].spines['right'].set_visible(False)\n",
    "    ax[i].spines['top'].set_visible(False)\n",
    "plt.tight_layout()\n"
   ]
  },
  {
   "cell_type": "code",
   "execution_count": 20,
   "id": "dress-forge",
   "metadata": {
    "execution": {
     "iopub.execute_input": "2021-02-18T14:26:48.452716Z",
     "iopub.status.busy": "2021-02-18T14:26:48.450843Z",
     "iopub.status.idle": "2021-02-18T14:26:48.454918Z",
     "shell.execute_reply": "2021-02-18T14:26:48.454366Z"
    },
    "papermill": {
     "duration": 0.036174,
     "end_time": "2021-02-18T14:26:48.455039",
     "exception": false,
     "start_time": "2021-02-18T14:26:48.418865",
     "status": "completed"
    },
    "tags": []
   },
   "outputs": [
    {
     "name": "stdout",
     "output_type": "stream",
     "text": [
      "                                   states    Cases  Deaths   PCases  PDeaths  Cases (+)  Deaths (+)  Fatality Rate\n",
      "                              Maharashtra  2081520   51669  2076093    51631       5427          38           2.48\n",
      "                                   Kerala  1016849    4033  1016849     4033          0           0           0.40\n",
      "                                Karnataka   946454   12276   946454    12276          0           0           1.30\n",
      "                           Andhra Pradesh   889010    7165   889010     7165          0           0           0.81\n",
      "                               Tamil Nadu   846480   12438   846480    12438          0           0           1.47\n",
      "                                    Delhi   637315   10894   637315    10894          0           0           1.71\n",
      "                            Uttar Pradesh   602410    8707   602410     8707          0           0           1.45\n",
      "                              West Bengal   573012   10237   573012    10237          0           0           1.79\n",
      "                                   Odisha   336460    1966   336397     1965         63           1           0.58\n",
      "                                Rajasthan   319166    2782   319166     2782          0           0           0.87\n",
      "                             Chhattisgarh   309934    3788   309934     3788          0           0           1.22\n",
      "                                Telangana   297106    1620   296943     1620        163           0           0.55\n",
      "                                  Haryana   269322    3041   269322     3041          0           0           1.13\n",
      "                                  Gujarat   266034    4403   266034     4403          0           0           1.66\n",
      "                                    Bihar   261879    1529   261879     1529          0           0           0.58\n",
      "                           Madhya Pradesh   258333    3842   258333     3842          0           0           1.49\n",
      "                                    Assam   217330    1090   217330     1090          0           0           0.50\n",
      "                                   Punjab   176767    5712   176767     5712          0           0           3.23\n",
      "                        Jammu and Kashmir   125547    1951   125547     1951          0           0           1.55\n",
      "                                Jharkhand   119439    1084   119439     1084          0           0           0.91\n",
      "                              Uttarakhand    96964    1683    96964     1683          0           0           1.74\n",
      "                         Himachal Pradesh    58296     981    58296      981          0           0           1.68\n",
      "                                      Goa    54369     786    54369      786          0           0           1.45\n",
      "                               Puducherry    39506     660    39506      660          0           0           1.67\n",
      "                                  Tripura    33354     388    33352      388          2           0           1.16\n",
      "                                  Manipur    29223     373    29223      373          0           0           1.28\n",
      "                               Chandigarh    21296     347    21296      347          0           0           1.63\n",
      "                        Arunachal Pradesh    16833      56    16833       56          0           0           0.33\n",
      "                                Meghalaya    13946     148    13945      148          1           0           1.06\n",
      "                                 Nagaland    12190      90    12190       90          0           0           0.74\n",
      "                                   Ladakh     9782     130     9782      130          0           0           1.33\n",
      "                                   Sikkim     6121     135     6121      135          0           0           2.21\n",
      "              Andaman and Nicobar Islands     5014      62     5014       62          0           0           1.24\n",
      "                                  Mizoram     4399      10     4396       10          3           0           0.23\n",
      " Dadra and Nagar Haveli and Daman and Diu     3384       2     3384        2          0           0           0.06\n",
      "                              Lakshadweep      261       0      261        0          0           0           0.00\n"
     ]
    }
   ],
   "source": [
    "#hide_input\n",
    "print(df_table.to_string(index=False))"
   ]
  },
  {
   "cell_type": "code",
   "execution_count": null,
   "id": "quantitative-legend",
   "metadata": {
    "papermill": {
     "duration": 0.023904,
     "end_time": "2021-02-18T14:26:48.503247",
     "exception": false,
     "start_time": "2021-02-18T14:26:48.479343",
     "status": "completed"
    },
    "tags": []
   },
   "outputs": [],
   "source": []
  },
  {
   "cell_type": "code",
   "execution_count": null,
   "id": "distant-acoustic",
   "metadata": {
    "papermill": {
     "duration": 0.020641,
     "end_time": "2021-02-18T14:26:48.544663",
     "exception": false,
     "start_time": "2021-02-18T14:26:48.524022",
     "status": "completed"
    },
    "tags": []
   },
   "outputs": [],
   "source": []
  }
 ],
 "metadata": {
  "kernelspec": {
   "display_name": "Python 3",
   "language": "python",
   "name": "python3"
  },
  "language_info": {
   "codemirror_mode": {
    "name": "ipython",
    "version": 3
   },
   "file_extension": ".py",
   "mimetype": "text/x-python",
   "name": "python",
   "nbconvert_exporter": "python",
   "pygments_lexer": "ipython3",
   "version": "3.6.12"
  },
  "papermill": {
   "duration": 21.908072,
   "end_time": "2021-02-18T14:26:49.073073",
   "environment_variables": {},
   "exception": null,
   "input_path": "latest.ipynb",
   "output_path": "latest.ipynb",
   "parameters": {},
   "start_time": "2021-02-18T14:26:27.165001",
   "version": "2.1.2"
  }
 },
 "nbformat": 4,
 "nbformat_minor": 5
}