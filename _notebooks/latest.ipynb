{
 "cells": [
  {
   "cell_type": "markdown",
   "metadata": {
    "papermill": {
     "duration": 0.019226,
     "end_time": "2020-10-31T12:21:50.281350",
     "exception": false,
     "start_time": "2020-10-31T12:21:50.262124",
     "status": "completed"
    },
    "tags": []
   },
   "source": [
    "# Latest COVID-19 India Matplotlib Overview"
   ]
  },
  {
   "cell_type": "code",
   "execution_count": 1,
   "metadata": {
    "execution": {
     "iopub.execute_input": "2020-10-31T12:21:50.321315Z",
     "iopub.status.busy": "2020-10-31T12:21:50.320640Z",
     "iopub.status.idle": "2020-10-31T12:21:50.937326Z",
     "shell.execute_reply": "2020-10-31T12:21:50.937933Z"
    },
    "papermill": {
     "duration": 0.639657,
     "end_time": "2020-10-31T12:21:50.938151",
     "exception": false,
     "start_time": "2020-10-31T12:21:50.298494",
     "status": "completed"
    },
    "tags": []
   },
   "outputs": [],
   "source": [
    "#hide\n",
    "import pandas as pd\n",
    "import numpy as np\n",
    "import requests\n",
    "import json\n",
    "import matplotlib.pyplot as plt\n",
    "import matplotlib.dates as mdates\n",
    "import matplotlib as mpl\n",
    "from IPython.core.display import display,HTML\n",
    "%matplotlib inline\n",
    "from datetime import date"
   ]
  },
  {
   "cell_type": "code",
   "execution_count": 2,
   "metadata": {
    "execution": {
     "iopub.execute_input": "2020-10-31T12:21:50.981292Z",
     "iopub.status.busy": "2020-10-31T12:21:50.980156Z",
     "iopub.status.idle": "2020-10-31T12:21:51.325784Z",
     "shell.execute_reply": "2020-10-31T12:21:51.325174Z"
    },
    "papermill": {
     "duration": 0.370345,
     "end_time": "2020-10-31T12:21:51.325923",
     "exception": false,
     "start_time": "2020-10-31T12:21:50.955578",
     "status": "completed"
    },
    "tags": []
   },
   "outputs": [],
   "source": [
    "#hide\n",
    "df  = pd.read_csv('https://api.covid19india.org/csv/latest/states.csv')\n",
    "df = df[['Date','State','Confirmed','Deceased']]\n",
    "df = df.rename(columns={'Confirmed':'Cases', \"Deceased\":'Deaths'})\n",
    "df_cases = df[[\"Date\",'State','Cases']]\n",
    "df_deaths = df[['Date','State','Deaths']]\n",
    "df_cases1 = df_cases.groupby('Date')\n",
    "df_deaths1= df_deaths.groupby('Date')"
   ]
  },
  {
   "cell_type": "code",
   "execution_count": 3,
   "metadata": {
    "execution": {
     "iopub.execute_input": "2020-10-31T12:21:51.361875Z",
     "iopub.status.busy": "2020-10-31T12:21:51.361270Z",
     "iopub.status.idle": "2020-10-31T12:21:51.379042Z",
     "shell.execute_reply": "2020-10-31T12:21:51.378551Z"
    },
    "papermill": {
     "duration": 0.03789,
     "end_time": "2020-10-31T12:21:51.379176",
     "exception": false,
     "start_time": "2020-10-31T12:21:51.341286",
     "status": "completed"
    },
    "tags": []
   },
   "outputs": [],
   "source": [
    "#hide\n",
    "df_snap = pd.read_csv('data/SnapshotCases-28-July.csv')\n",
    "arr_states = df_snap['states'].unique()\n",
    "arr_dates = df['Date'].unique()\n",
    "df_snap = df_snap.set_index('states')"
   ]
  },
  {
   "cell_type": "code",
   "execution_count": 4,
   "metadata": {
    "execution": {
     "iopub.execute_input": "2020-10-31T12:21:51.419589Z",
     "iopub.status.busy": "2020-10-31T12:21:51.418981Z",
     "iopub.status.idle": "2020-10-31T12:21:51.423275Z",
     "shell.execute_reply": "2020-10-31T12:21:51.422794Z"
    },
    "papermill": {
     "duration": 0.028414,
     "end_time": "2020-10-31T12:21:51.423406",
     "exception": false,
     "start_time": "2020-10-31T12:21:51.394992",
     "status": "completed"
    },
    "tags": []
   },
   "outputs": [
    {
     "data": {
      "text/plain": [
       "array(['Andaman and Nicobar Islands', 'Andhra Pradesh',\n",
       "       'Arunachal Pradesh', 'Assam', 'Bihar', 'Chandigarh',\n",
       "       'Dadra and Nagar Haveli and Daman and Diu', 'Delhi', 'Goa',\n",
       "       'Gujarat', 'Haryana', 'Himachal Pradesh', 'Jammu and Kashmir',\n",
       "       'Jharkhand', 'Karnataka', 'Kerala', 'Lakshadweep',\n",
       "       'Madhya Pradesh', 'Maharashtra', 'Manipur', 'Meghalaya', 'Mizoram',\n",
       "       'Nagaland', 'Odisha', 'Puducherry', 'Punjab', 'Rajasthan',\n",
       "       'Sikkim', 'Tamil Nadu', 'Telangana', 'Tripura', 'Uttar Pradesh',\n",
       "       'West Bengal', 'Chhattisgarh', 'Ladakh', 'Uttarakhand'],\n",
       "      dtype=object)"
      ]
     },
     "execution_count": 4,
     "metadata": {},
     "output_type": "execute_result"
    }
   ],
   "source": [
    "#hide\n",
    "arr_states[-9] = 'Puducherry'\n",
    "arr_states[-10] = 'Odisha'\n",
    "arr_states[6] = 'Dadra and Nagar Haveli and Daman and Diu'\n",
    "arr_states = np.append(arr_states,np.array(['Chhattisgarh','Ladakh','Uttarakhand']))\n",
    "arr_states"
   ]
  },
  {
   "cell_type": "code",
   "execution_count": 5,
   "metadata": {
    "execution": {
     "iopub.execute_input": "2020-10-31T12:21:51.466847Z",
     "iopub.status.busy": "2020-10-31T12:21:51.464390Z",
     "iopub.status.idle": "2020-10-31T12:21:51.474810Z",
     "shell.execute_reply": "2020-10-31T12:21:51.474262Z"
    },
    "papermill": {
     "duration": 0.034372,
     "end_time": "2020-10-31T12:21:51.474944",
     "exception": false,
     "start_time": "2020-10-31T12:21:51.440572",
     "status": "completed"
    },
    "tags": []
   },
   "outputs": [],
   "source": [
    "#hide\n",
    "dates = []\n",
    "for i in arr_dates:\n",
    "    if i>='2020-07-01':\n",
    "        dates.append(i)\n",
    "dict = {'states':dates}\n",
    "for i in arr_states:\n",
    "    dict[i] = [0]*len(dates)\n",
    "dft_cases = pd.DataFrame(dict)\n",
    "dft_deaths = pd.DataFrame(dict)\n"
   ]
  },
  {
   "cell_type": "code",
   "execution_count": 6,
   "metadata": {
    "execution": {
     "iopub.execute_input": "2020-10-31T12:21:51.512968Z",
     "iopub.status.busy": "2020-10-31T12:21:51.512381Z",
     "iopub.status.idle": "2020-10-31T12:21:53.307091Z",
     "shell.execute_reply": "2020-10-31T12:21:53.306568Z"
    },
    "papermill": {
     "duration": 1.816654,
     "end_time": "2020-10-31T12:21:53.307236",
     "exception": false,
     "start_time": "2020-10-31T12:21:51.490582",
     "status": "completed"
    },
    "tags": []
   },
   "outputs": [],
   "source": [
    "#hide\n",
    "for i in range(len(dates)):\n",
    "    df1_deaths = df_deaths1.get_group(dates[i])\n",
    "    for j in range(len(df1_deaths.index)):\n",
    "        if df1_deaths.iloc[j,1] in arr_states:\n",
    "            dft_deaths.loc[i,df1_deaths.iloc[j,1]] = df1_deaths.iloc[j,2]\n",
    "dft_deaths = dft_deaths.set_index('states')"
   ]
  },
  {
   "cell_type": "code",
   "execution_count": 7,
   "metadata": {
    "execution": {
     "iopub.execute_input": "2020-10-31T12:21:53.346107Z",
     "iopub.status.busy": "2020-10-31T12:21:53.345508Z",
     "iopub.status.idle": "2020-10-31T12:21:55.096435Z",
     "shell.execute_reply": "2020-10-31T12:21:55.095257Z"
    },
    "papermill": {
     "duration": 1.773324,
     "end_time": "2020-10-31T12:21:55.096599",
     "exception": false,
     "start_time": "2020-10-31T12:21:53.323275",
     "status": "completed"
    },
    "tags": []
   },
   "outputs": [],
   "source": [
    "#hide\n",
    "for i in range(len(dates)):\n",
    "    df1_cases = df_cases1.get_group(dates[i])\n",
    "    for j in range(len(df1_cases.index)):\n",
    "        if df1_cases.iloc[j,1] in arr_states:\n",
    "            dft_cases.loc[i,df1_cases.iloc[j,1]] = df1_cases.iloc[j,2]\n",
    "dft_cases = dft_cases.set_index('states')"
   ]
  },
  {
   "cell_type": "code",
   "execution_count": 8,
   "metadata": {
    "execution": {
     "iopub.execute_input": "2020-10-31T12:21:55.133657Z",
     "iopub.status.busy": "2020-10-31T12:21:55.133014Z",
     "iopub.status.idle": "2020-10-31T12:21:55.135916Z",
     "shell.execute_reply": "2020-10-31T12:21:55.135215Z"
    },
    "papermill": {
     "duration": 0.023715,
     "end_time": "2020-10-31T12:21:55.136066",
     "exception": false,
     "start_time": "2020-10-31T12:21:55.112351",
     "status": "completed"
    },
    "tags": []
   },
   "outputs": [],
   "source": [
    "#hide\n",
    "dft_cases = dft_cases.T\n",
    "dft_deaths = dft_deaths.T\n",
    "dt_today = dates[-1]\n",
    "dt_yday = dates[-2]"
   ]
  },
  {
   "cell_type": "code",
   "execution_count": 9,
   "metadata": {
    "execution": {
     "iopub.execute_input": "2020-10-31T12:21:55.173147Z",
     "iopub.status.busy": "2020-10-31T12:21:55.172533Z",
     "iopub.status.idle": "2020-10-31T12:21:55.177233Z",
     "shell.execute_reply": "2020-10-31T12:21:55.177760Z"
    },
    "papermill": {
     "duration": 0.02607,
     "end_time": "2020-10-31T12:21:55.177910",
     "exception": false,
     "start_time": "2020-10-31T12:21:55.151840",
     "status": "completed"
    },
    "tags": []
   },
   "outputs": [],
   "source": [
    "#hide\n",
    "dft_cases = dft_cases.reset_index()\n",
    "dft_deaths = dft_deaths.reset_index()\n",
    "dft_cases = dft_cases.rename(columns = {'index':'state'})\n",
    "dft_deaths = dft_deaths.rename(columns = {'index':'state'})"
   ]
  },
  {
   "cell_type": "code",
   "execution_count": 10,
   "metadata": {
    "execution": {
     "iopub.execute_input": "2020-10-31T12:21:55.223106Z",
     "iopub.status.busy": "2020-10-31T12:21:55.222396Z",
     "iopub.status.idle": "2020-10-31T12:21:55.224933Z",
     "shell.execute_reply": "2020-10-31T12:21:55.224209Z"
    },
    "papermill": {
     "duration": 0.031642,
     "end_time": "2020-10-31T12:21:55.225079",
     "exception": false,
     "start_time": "2020-10-31T12:21:55.193437",
     "status": "completed"
    },
    "tags": []
   },
   "outputs": [],
   "source": [
    "#hide\n",
    "dfc_cases = dft_cases.groupby('state')[dt_today].sum()\n",
    "dfc_deaths = dft_deaths.groupby('state')[dt_today].sum()\n",
    "dfp_cases = dft_cases.groupby('state')[dt_yday].sum()\n",
    "dfp_deaths = dft_deaths.groupby('state')[dt_yday].sum()"
   ]
  },
  {
   "cell_type": "code",
   "execution_count": 11,
   "metadata": {
    "execution": {
     "iopub.execute_input": "2020-10-31T12:21:55.266946Z",
     "iopub.status.busy": "2020-10-31T12:21:55.266171Z",
     "iopub.status.idle": "2020-10-31T12:21:55.279628Z",
     "shell.execute_reply": "2020-10-31T12:21:55.278991Z"
    },
    "papermill": {
     "duration": 0.038207,
     "end_time": "2020-10-31T12:21:55.279771",
     "exception": false,
     "start_time": "2020-10-31T12:21:55.241564",
     "status": "completed"
    },
    "tags": []
   },
   "outputs": [
    {
     "data": {
      "text/html": [
       "<div>\n",
       "<style scoped>\n",
       "    .dataframe tbody tr th:only-of-type {\n",
       "        vertical-align: middle;\n",
       "    }\n",
       "\n",
       "    .dataframe tbody tr th {\n",
       "        vertical-align: top;\n",
       "    }\n",
       "\n",
       "    .dataframe thead th {\n",
       "        text-align: right;\n",
       "    }\n",
       "</style>\n",
       "<table border=\"1\" class=\"dataframe\">\n",
       "  <thead>\n",
       "    <tr style=\"text-align: right;\">\n",
       "      <th></th>\n",
       "      <th>states</th>\n",
       "      <th>Cases</th>\n",
       "      <th>Deaths</th>\n",
       "      <th>PCases</th>\n",
       "      <th>PDeaths</th>\n",
       "    </tr>\n",
       "  </thead>\n",
       "  <tbody>\n",
       "    <tr>\n",
       "      <th>0</th>\n",
       "      <td>Maharashtra</td>\n",
       "      <td>1672858</td>\n",
       "      <td>43837</td>\n",
       "      <td>1672858</td>\n",
       "      <td>43837</td>\n",
       "    </tr>\n",
       "    <tr>\n",
       "      <th>1</th>\n",
       "      <td>Andhra Pradesh</td>\n",
       "      <td>820565</td>\n",
       "      <td>6676</td>\n",
       "      <td>820565</td>\n",
       "      <td>6676</td>\n",
       "    </tr>\n",
       "    <tr>\n",
       "      <th>2</th>\n",
       "      <td>Karnataka</td>\n",
       "      <td>820398</td>\n",
       "      <td>11140</td>\n",
       "      <td>820398</td>\n",
       "      <td>11140</td>\n",
       "    </tr>\n",
       "    <tr>\n",
       "      <th>3</th>\n",
       "      <td>Tamil Nadu</td>\n",
       "      <td>722011</td>\n",
       "      <td>11091</td>\n",
       "      <td>722011</td>\n",
       "      <td>11091</td>\n",
       "    </tr>\n",
       "    <tr>\n",
       "      <th>4</th>\n",
       "      <td>Uttar Pradesh</td>\n",
       "      <td>480082</td>\n",
       "      <td>7007</td>\n",
       "      <td>480082</td>\n",
       "      <td>7007</td>\n",
       "    </tr>\n",
       "  </tbody>\n",
       "</table>\n",
       "</div>"
      ],
      "text/plain": [
       "           states    Cases  Deaths   PCases  PDeaths\n",
       "0     Maharashtra  1672858   43837  1672858    43837\n",
       "1  Andhra Pradesh   820565    6676   820565     6676\n",
       "2       Karnataka   820398   11140   820398    11140\n",
       "3      Tamil Nadu   722011   11091   722011    11091\n",
       "4   Uttar Pradesh   480082    7007   480082     7007"
      ]
     },
     "execution_count": 11,
     "metadata": {},
     "output_type": "execute_result"
    }
   ],
   "source": [
    "#hide\n",
    "df_table = pd.DataFrame({'states': dfc_cases.index, 'Cases': dfc_cases.values, 'Deaths': dfc_deaths.values, 'PCases': dfp_cases.values, 'PDeaths': dfp_deaths.values}).set_index('states')\n",
    "df_table = df_table.sort_values(by = ['Cases','Deaths'], ascending = [False, False])\n",
    "df_table = df_table.reset_index()\n",
    "df_table.head()"
   ]
  },
  {
   "cell_type": "code",
   "execution_count": 12,
   "metadata": {
    "execution": {
     "iopub.execute_input": "2020-10-31T12:21:55.318720Z",
     "iopub.status.busy": "2020-10-31T12:21:55.318142Z",
     "iopub.status.idle": "2020-10-31T12:21:55.329843Z",
     "shell.execute_reply": "2020-10-31T12:21:55.329304Z"
    },
    "papermill": {
     "duration": 0.033577,
     "end_time": "2020-10-31T12:21:55.329967",
     "exception": false,
     "start_time": "2020-10-31T12:21:55.296390",
     "status": "completed"
    },
    "tags": []
   },
   "outputs": [],
   "source": [
    "#hide\n",
    "for c in 'Cases, Deaths'.split(', '):\n",
    "    df_table[f'{c} (+)'] = (df_table[c] - df_table[f'P{c}']).clip(0)\n",
    "df_table['Fatality Rate'] = (100* df_table['Deaths']/ df_table['Cases']).round(2)"
   ]
  },
  {
   "cell_type": "code",
   "execution_count": 13,
   "metadata": {
    "execution": {
     "iopub.execute_input": "2020-10-31T12:21:55.376813Z",
     "iopub.status.busy": "2020-10-31T12:21:55.376144Z",
     "iopub.status.idle": "2020-10-31T12:21:55.379786Z",
     "shell.execute_reply": "2020-10-31T12:21:55.379314Z"
    },
    "papermill": {
     "duration": 0.032761,
     "end_time": "2020-10-31T12:21:55.379920",
     "exception": false,
     "start_time": "2020-10-31T12:21:55.347159",
     "status": "completed"
    },
    "tags": []
   },
   "outputs": [
    {
     "data": {
      "text/html": [
       "<div>\n",
       "<style scoped>\n",
       "    .dataframe tbody tr th:only-of-type {\n",
       "        vertical-align: middle;\n",
       "    }\n",
       "\n",
       "    .dataframe tbody tr th {\n",
       "        vertical-align: top;\n",
       "    }\n",
       "\n",
       "    .dataframe thead th {\n",
       "        text-align: right;\n",
       "    }\n",
       "</style>\n",
       "<table border=\"1\" class=\"dataframe\">\n",
       "  <thead>\n",
       "    <tr style=\"text-align: right;\">\n",
       "      <th></th>\n",
       "      <th>states</th>\n",
       "      <th>Cases</th>\n",
       "      <th>Deaths</th>\n",
       "      <th>PCases</th>\n",
       "      <th>PDeaths</th>\n",
       "      <th>Cases (+)</th>\n",
       "      <th>Deaths (+)</th>\n",
       "      <th>Fatality Rate</th>\n",
       "    </tr>\n",
       "  </thead>\n",
       "  <tbody>\n",
       "    <tr>\n",
       "      <th>0</th>\n",
       "      <td>Maharashtra</td>\n",
       "      <td>1672858</td>\n",
       "      <td>43837</td>\n",
       "      <td>1672858</td>\n",
       "      <td>43837</td>\n",
       "      <td>0</td>\n",
       "      <td>0</td>\n",
       "      <td>2.62</td>\n",
       "    </tr>\n",
       "    <tr>\n",
       "      <th>1</th>\n",
       "      <td>Andhra Pradesh</td>\n",
       "      <td>820565</td>\n",
       "      <td>6676</td>\n",
       "      <td>820565</td>\n",
       "      <td>6676</td>\n",
       "      <td>0</td>\n",
       "      <td>0</td>\n",
       "      <td>0.81</td>\n",
       "    </tr>\n",
       "    <tr>\n",
       "      <th>2</th>\n",
       "      <td>Karnataka</td>\n",
       "      <td>820398</td>\n",
       "      <td>11140</td>\n",
       "      <td>820398</td>\n",
       "      <td>11140</td>\n",
       "      <td>0</td>\n",
       "      <td>0</td>\n",
       "      <td>1.36</td>\n",
       "    </tr>\n",
       "    <tr>\n",
       "      <th>3</th>\n",
       "      <td>Tamil Nadu</td>\n",
       "      <td>722011</td>\n",
       "      <td>11091</td>\n",
       "      <td>722011</td>\n",
       "      <td>11091</td>\n",
       "      <td>0</td>\n",
       "      <td>0</td>\n",
       "      <td>1.54</td>\n",
       "    </tr>\n",
       "    <tr>\n",
       "      <th>4</th>\n",
       "      <td>Uttar Pradesh</td>\n",
       "      <td>480082</td>\n",
       "      <td>7007</td>\n",
       "      <td>480082</td>\n",
       "      <td>7007</td>\n",
       "      <td>0</td>\n",
       "      <td>0</td>\n",
       "      <td>1.46</td>\n",
       "    </tr>\n",
       "  </tbody>\n",
       "</table>\n",
       "</div>"
      ],
      "text/plain": [
       "           states    Cases  Deaths   PCases  PDeaths  Cases (+)  Deaths (+)  \\\n",
       "0     Maharashtra  1672858   43837  1672858    43837          0           0   \n",
       "1  Andhra Pradesh   820565    6676   820565     6676          0           0   \n",
       "2       Karnataka   820398   11140   820398    11140          0           0   \n",
       "3      Tamil Nadu   722011   11091   722011    11091          0           0   \n",
       "4   Uttar Pradesh   480082    7007   480082     7007          0           0   \n",
       "\n",
       "   Fatality Rate  \n",
       "0           2.62  \n",
       "1           0.81  \n",
       "2           1.36  \n",
       "3           1.54  \n",
       "4           1.46  "
      ]
     },
     "execution_count": 13,
     "metadata": {},
     "output_type": "execute_result"
    }
   ],
   "source": [
    "#hide\n",
    "df_table.head()"
   ]
  },
  {
   "cell_type": "code",
   "execution_count": 14,
   "metadata": {
    "execution": {
     "iopub.execute_input": "2020-10-31T12:21:55.418506Z",
     "iopub.status.busy": "2020-10-31T12:21:55.417918Z",
     "iopub.status.idle": "2020-10-31T12:21:55.434355Z",
     "shell.execute_reply": "2020-10-31T12:21:55.434802Z"
    },
    "papermill": {
     "duration": 0.038427,
     "end_time": "2020-10-31T12:21:55.434958",
     "exception": false,
     "start_time": "2020-10-31T12:21:55.396531",
     "status": "completed"
    },
    "tags": []
   },
   "outputs": [
    {
     "data": {
      "text/plain": [
       "{'updated': '2020-10-31',\n",
       " 'since': '2020-10-30',\n",
       " 'Cases': 8139881,\n",
       " 'PCases': 8136166,\n",
       " 'Deaths': 121704,\n",
       " 'PDeaths': 121681,\n",
       " 'Cases (+)': 3715,\n",
       " 'Deaths (+)': 23}"
      ]
     },
     "execution_count": 14,
     "metadata": {},
     "output_type": "execute_result"
    }
   ],
   "source": [
    "#hide\n",
    "summary = {'updated':dates[-1], 'since':dates[-2]}\n",
    "list_names = ['Cases', 'PCases', 'Deaths', 'PDeaths', 'Cases (+)', 'Deaths (+)']\n",
    "for name in list_names:\n",
    "    summary[name] = df_table.sum()[name]\n",
    "summary"
   ]
  },
  {
   "cell_type": "code",
   "execution_count": 15,
   "metadata": {
    "execution": {
     "iopub.execute_input": "2020-10-31T12:21:55.473419Z",
     "iopub.status.busy": "2020-10-31T12:21:55.472803Z",
     "iopub.status.idle": "2020-10-31T12:21:55.474926Z",
     "shell.execute_reply": "2020-10-31T12:21:55.475478Z"
    },
    "papermill": {
     "duration": 0.024148,
     "end_time": "2020-10-31T12:21:55.475619",
     "exception": false,
     "start_time": "2020-10-31T12:21:55.451471",
     "status": "completed"
    },
    "tags": []
   },
   "outputs": [],
   "source": [
    "#hide\n",
    "overview = '''\n",
    "<!-- #######  HTML!! #########-->\n",
    "<h1 style=\"color: #5e9ca0; text-align: center;\">India</h1>\n",
    "<p style=\"text-align: center;\">Last update: <strong>{update}</strong></p>\n",
    "<p style=\"text-align: center;\">Confirmed cases:</p>\n",
    "<p style=\"text-align: center;font-size:24px;\">{cases} (<span style=\"color: #ff0000;\">+{new}</span>)</p>\n",
    "<p style=\"text-align: center;\">Confirmed deaths:</p>\n",
    "<p style=\"text-align: center;font-size:24px;\">{deaths} (<span style=\"color: #ff0000;\">+{dnew}</span>)</p>\n",
    "'''"
   ]
  },
  {
   "cell_type": "code",
   "execution_count": 16,
   "metadata": {
    "execution": {
     "iopub.execute_input": "2020-10-31T12:21:55.517785Z",
     "iopub.status.busy": "2020-10-31T12:21:55.517186Z",
     "iopub.status.idle": "2020-10-31T12:21:55.520843Z",
     "shell.execute_reply": "2020-10-31T12:21:55.520348Z"
    },
    "papermill": {
     "duration": 0.028687,
     "end_time": "2020-10-31T12:21:55.520967",
     "exception": false,
     "start_time": "2020-10-31T12:21:55.492280",
     "status": "completed"
    },
    "tags": []
   },
   "outputs": [
    {
     "data": {
      "text/html": [
       "\n",
       "<!-- #######  HTML!! #########-->\n",
       "<h1 style=\"color: #5e9ca0; text-align: center;\">India</h1>\n",
       "<p style=\"text-align: center;\">Last update: <strong>2020-10-31</strong></p>\n",
       "<p style=\"text-align: center;\">Confirmed cases:</p>\n",
       "<p style=\"text-align: center;font-size:24px;\">8139881 (<span style=\"color: #ff0000;\">+3715</span>)</p>\n",
       "<p style=\"text-align: center;\">Confirmed deaths:</p>\n",
       "<p style=\"text-align: center;font-size:24px;\">121704 (<span style=\"color: #ff0000;\">+23</span>)</p>\n"
      ],
      "text/plain": [
       "<IPython.core.display.HTML object>"
      ]
     },
     "metadata": {},
     "output_type": "display_data"
    }
   ],
   "source": [
    "#hide_input\n",
    "update = summary['updated']\n",
    "cases = summary['Cases']\n",
    "new = summary['Cases (+)']\n",
    "deaths = summary['Deaths']\n",
    "dnew = summary['Deaths (+)']\n",
    "\n",
    "html = HTML(overview.format(update=update, cases=cases,new=new,deaths=deaths,dnew=dnew))\n",
    "\n",
    "display(html)"
   ]
  },
  {
   "cell_type": "code",
   "execution_count": 17,
   "metadata": {
    "execution": {
     "iopub.execute_input": "2020-10-31T12:21:55.562095Z",
     "iopub.status.busy": "2020-10-31T12:21:55.561351Z",
     "iopub.status.idle": "2020-10-31T12:21:55.568997Z",
     "shell.execute_reply": "2020-10-31T12:21:55.568490Z"
    },
    "papermill": {
     "duration": 0.031305,
     "end_time": "2020-10-31T12:21:55.569167",
     "exception": false,
     "start_time": "2020-10-31T12:21:55.537862",
     "status": "completed"
    },
    "tags": []
   },
   "outputs": [],
   "source": [
    "#hide\n",
    "dt_cols = list(dft_cases.columns[1:])\n",
    "dft_ct_new_cases = dft_cases.groupby('state')[dt_cols].sum().diff(axis=1).fillna(0).astype(int)\n",
    "dft_ct_new_cases.sort_values(by = dates[-1], ascending = False,inplace = True)"
   ]
  },
  {
   "cell_type": "code",
   "execution_count": 18,
   "metadata": {
    "execution": {
     "iopub.execute_input": "2020-10-31T12:21:55.623426Z",
     "iopub.status.busy": "2020-10-31T12:21:55.622816Z",
     "iopub.status.idle": "2020-10-31T12:21:55.625269Z",
     "shell.execute_reply": "2020-10-31T12:21:55.625745Z"
    },
    "papermill": {
     "duration": 0.038832,
     "end_time": "2020-10-31T12:21:55.625895",
     "exception": false,
     "start_time": "2020-10-31T12:21:55.587063",
     "status": "completed"
    },
    "tags": []
   },
   "outputs": [
    {
     "data": {
      "text/html": [
       "<div>\n",
       "<style scoped>\n",
       "    .dataframe tbody tr th:only-of-type {\n",
       "        vertical-align: middle;\n",
       "    }\n",
       "\n",
       "    .dataframe tbody tr th {\n",
       "        vertical-align: top;\n",
       "    }\n",
       "\n",
       "    .dataframe thead th {\n",
       "        text-align: right;\n",
       "    }\n",
       "</style>\n",
       "<table border=\"1\" class=\"dataframe\">\n",
       "  <thead>\n",
       "    <tr style=\"text-align: right;\">\n",
       "      <th>states</th>\n",
       "      <th>2020-07-01</th>\n",
       "      <th>2020-07-02</th>\n",
       "      <th>2020-07-03</th>\n",
       "      <th>2020-07-04</th>\n",
       "      <th>2020-07-05</th>\n",
       "      <th>2020-07-06</th>\n",
       "      <th>2020-07-07</th>\n",
       "      <th>2020-07-08</th>\n",
       "      <th>2020-07-09</th>\n",
       "      <th>2020-07-10</th>\n",
       "      <th>...</th>\n",
       "      <th>2020-10-22</th>\n",
       "      <th>2020-10-23</th>\n",
       "      <th>2020-10-24</th>\n",
       "      <th>2020-10-25</th>\n",
       "      <th>2020-10-26</th>\n",
       "      <th>2020-10-27</th>\n",
       "      <th>2020-10-28</th>\n",
       "      <th>2020-10-29</th>\n",
       "      <th>2020-10-30</th>\n",
       "      <th>2020-10-31</th>\n",
       "    </tr>\n",
       "    <tr>\n",
       "      <th>state</th>\n",
       "      <th></th>\n",
       "      <th></th>\n",
       "      <th></th>\n",
       "      <th></th>\n",
       "      <th></th>\n",
       "      <th></th>\n",
       "      <th></th>\n",
       "      <th></th>\n",
       "      <th></th>\n",
       "      <th></th>\n",
       "      <th></th>\n",
       "      <th></th>\n",
       "      <th></th>\n",
       "      <th></th>\n",
       "      <th></th>\n",
       "      <th></th>\n",
       "      <th></th>\n",
       "      <th></th>\n",
       "      <th></th>\n",
       "      <th></th>\n",
       "      <th></th>\n",
       "    </tr>\n",
       "  </thead>\n",
       "  <tbody>\n",
       "    <tr>\n",
       "      <th>Odisha</th>\n",
       "      <td>0</td>\n",
       "      <td>229</td>\n",
       "      <td>561</td>\n",
       "      <td>495</td>\n",
       "      <td>469</td>\n",
       "      <td>456</td>\n",
       "      <td>571</td>\n",
       "      <td>527</td>\n",
       "      <td>577</td>\n",
       "      <td>755</td>\n",
       "      <td>...</td>\n",
       "      <td>1913</td>\n",
       "      <td>1793</td>\n",
       "      <td>1695</td>\n",
       "      <td>1633</td>\n",
       "      <td>1480</td>\n",
       "      <td>1247</td>\n",
       "      <td>1540</td>\n",
       "      <td>1617</td>\n",
       "      <td>1547</td>\n",
       "      <td>1470</td>\n",
       "    </tr>\n",
       "    <tr>\n",
       "      <th>Telangana</th>\n",
       "      <td>0</td>\n",
       "      <td>1213</td>\n",
       "      <td>1892</td>\n",
       "      <td>1850</td>\n",
       "      <td>1590</td>\n",
       "      <td>1831</td>\n",
       "      <td>1879</td>\n",
       "      <td>1924</td>\n",
       "      <td>1410</td>\n",
       "      <td>1278</td>\n",
       "      <td>...</td>\n",
       "      <td>1456</td>\n",
       "      <td>1421</td>\n",
       "      <td>1273</td>\n",
       "      <td>978</td>\n",
       "      <td>582</td>\n",
       "      <td>837</td>\n",
       "      <td>1481</td>\n",
       "      <td>1504</td>\n",
       "      <td>1531</td>\n",
       "      <td>1445</td>\n",
       "    </tr>\n",
       "    <tr>\n",
       "      <th>Bihar</th>\n",
       "      <td>0</td>\n",
       "      <td>478</td>\n",
       "      <td>426</td>\n",
       "      <td>349</td>\n",
       "      <td>403</td>\n",
       "      <td>280</td>\n",
       "      <td>385</td>\n",
       "      <td>749</td>\n",
       "      <td>704</td>\n",
       "      <td>352</td>\n",
       "      <td>...</td>\n",
       "      <td>1058</td>\n",
       "      <td>1093</td>\n",
       "      <td>1054</td>\n",
       "      <td>749</td>\n",
       "      <td>513</td>\n",
       "      <td>678</td>\n",
       "      <td>780</td>\n",
       "      <td>783</td>\n",
       "      <td>1018</td>\n",
       "      <td>800</td>\n",
       "    </tr>\n",
       "    <tr>\n",
       "      <th>Andaman and Nicobar Islands</th>\n",
       "      <td>0</td>\n",
       "      <td>9</td>\n",
       "      <td>7</td>\n",
       "      <td>3</td>\n",
       "      <td>6</td>\n",
       "      <td>16</td>\n",
       "      <td>6</td>\n",
       "      <td>2</td>\n",
       "      <td>7</td>\n",
       "      <td>0</td>\n",
       "      <td>...</td>\n",
       "      <td>16</td>\n",
       "      <td>23</td>\n",
       "      <td>18</td>\n",
       "      <td>20</td>\n",
       "      <td>8</td>\n",
       "      <td>21</td>\n",
       "      <td>15</td>\n",
       "      <td>16</td>\n",
       "      <td>12</td>\n",
       "      <td>0</td>\n",
       "    </tr>\n",
       "    <tr>\n",
       "      <th>Punjab</th>\n",
       "      <td>0</td>\n",
       "      <td>116</td>\n",
       "      <td>153</td>\n",
       "      <td>172</td>\n",
       "      <td>174</td>\n",
       "      <td>208</td>\n",
       "      <td>258</td>\n",
       "      <td>158</td>\n",
       "      <td>233</td>\n",
       "      <td>217</td>\n",
       "      <td>...</td>\n",
       "      <td>605</td>\n",
       "      <td>464</td>\n",
       "      <td>483</td>\n",
       "      <td>415</td>\n",
       "      <td>336</td>\n",
       "      <td>346</td>\n",
       "      <td>526</td>\n",
       "      <td>464</td>\n",
       "      <td>431</td>\n",
       "      <td>0</td>\n",
       "    </tr>\n",
       "  </tbody>\n",
       "</table>\n",
       "<p>5 rows × 123 columns</p>\n",
       "</div>"
      ],
      "text/plain": [
       "states                       2020-07-01  2020-07-02  2020-07-03  2020-07-04  \\\n",
       "state                                                                         \n",
       "Odisha                                0         229         561         495   \n",
       "Telangana                             0        1213        1892        1850   \n",
       "Bihar                                 0         478         426         349   \n",
       "Andaman and Nicobar Islands           0           9           7           3   \n",
       "Punjab                                0         116         153         172   \n",
       "\n",
       "states                       2020-07-05  2020-07-06  2020-07-07  2020-07-08  \\\n",
       "state                                                                         \n",
       "Odisha                              469         456         571         527   \n",
       "Telangana                          1590        1831        1879        1924   \n",
       "Bihar                               403         280         385         749   \n",
       "Andaman and Nicobar Islands           6          16           6           2   \n",
       "Punjab                              174         208         258         158   \n",
       "\n",
       "states                       2020-07-09  2020-07-10  ...  2020-10-22  \\\n",
       "state                                                ...               \n",
       "Odisha                              577         755  ...        1913   \n",
       "Telangana                          1410        1278  ...        1456   \n",
       "Bihar                               704         352  ...        1058   \n",
       "Andaman and Nicobar Islands           7           0  ...          16   \n",
       "Punjab                              233         217  ...         605   \n",
       "\n",
       "states                       2020-10-23  2020-10-24  2020-10-25  2020-10-26  \\\n",
       "state                                                                         \n",
       "Odisha                             1793        1695        1633        1480   \n",
       "Telangana                          1421        1273         978         582   \n",
       "Bihar                              1093        1054         749         513   \n",
       "Andaman and Nicobar Islands          23          18          20           8   \n",
       "Punjab                              464         483         415         336   \n",
       "\n",
       "states                       2020-10-27  2020-10-28  2020-10-29  2020-10-30  \\\n",
       "state                                                                         \n",
       "Odisha                             1247        1540        1617        1547   \n",
       "Telangana                           837        1481        1504        1531   \n",
       "Bihar                               678         780         783        1018   \n",
       "Andaman and Nicobar Islands          21          15          16          12   \n",
       "Punjab                              346         526         464         431   \n",
       "\n",
       "states                       2020-10-31  \n",
       "state                                    \n",
       "Odisha                             1470  \n",
       "Telangana                          1445  \n",
       "Bihar                               800  \n",
       "Andaman and Nicobar Islands           0  \n",
       "Punjab                                0  \n",
       "\n",
       "[5 rows x 123 columns]"
      ]
     },
     "execution_count": 18,
     "metadata": {},
     "output_type": "execute_result"
    }
   ],
   "source": [
    "#hide\n",
    "dft_ct_new_cases.head()"
   ]
  },
  {
   "cell_type": "code",
   "execution_count": 19,
   "metadata": {
    "execution": {
     "iopub.execute_input": "2020-10-31T12:21:55.675173Z",
     "iopub.status.busy": "2020-10-31T12:21:55.669851Z",
     "iopub.status.idle": "2020-10-31T12:22:00.304305Z",
     "shell.execute_reply": "2020-10-31T12:22:00.304780Z"
    },
    "papermill": {
     "duration": 4.661124,
     "end_time": "2020-10-31T12:22:00.304934",
     "exception": false,
     "start_time": "2020-10-31T12:21:55.643810",
     "status": "completed"
    },
    "tags": []
   },
   "outputs": [
    {
     "data": {
      "image/png": "[encoded data removed]",
      "text/plain": [
       "<Figure size 1296x2016 with 11 Axes>"
      ]
     },
     "metadata": {
      "needs_background": "light"
     },
     "output_type": "display_data"
    }
   ],
   "source": [
    "#hide_input\n",
    "df = dft_ct_new_cases.copy()\n",
    "df.loc['Total'] = df.sum()\n",
    "n = 5\n",
    "ax = []\n",
    "fig = plt.figure(figsize = (18,28))\n",
    "gs = fig.add_gridspec(n+2, 5)\n",
    "# gs = fig.add_gridspec(2, 3)\n",
    "ax1 = fig.add_subplot(gs[0, :])\n",
    "ef = df.loc['Total'].rename_axis('date').reset_index()\n",
    "ef['date'] = ef['date'].astype('datetime64[ns]')\n",
    "ax1.bar(ef.date,ef.Total,alpha=0.3,color='#007acc')\n",
    "ax1.plot(ef.date,ef.Total , marker=\"o\", color='#007acc')\n",
    "ax1.xaxis.set_major_locator(mdates.WeekdayLocator())\n",
    "ax1.xaxis.set_major_formatter(mdates.DateFormatter('%b %d'))\n",
    "ax1.text(0.02, 0.5,'India daily case count', transform = ax1.transAxes, fontsize=25);\n",
    "ax1.spines['right'].set_visible(False)\n",
    "ax1.spines['top'].set_visible(False)\n",
    "\n",
    "ax2 = fig.add_subplot(gs[1,0])\n",
    "ef = df.loc['Maharashtra'].rename_axis('date').reset_index()\n",
    "ef['date'] = ef['date'].astype('datetime64[ns]')\n",
    "\n",
    "ax2.bar(ef.date, ef.Maharashtra,color = '#007acc',alpha=0.5)\n",
    "ax2.xaxis.set_major_locator(mdates.WeekdayLocator())\n",
    "ax2.xaxis.set_major_formatter(mdates.DateFormatter('%b %d'))\n",
    "ax2.set_xticks(ax2.get_xticks()[::3])\n",
    "maxyval = ef.Maharashtra.max()\n",
    "ax2.set_ylim([0,maxyval])\n",
    "ax2.text(0.05, 0.9,'Maharashtra', transform = ax2.transAxes, fontsize=20);\n",
    "ax2.spines['right'].set_visible(False)\n",
    "ax2.spines['top'].set_visible(False)\n",
    "\n",
    "\n",
    "ax3 = fig.add_subplot(gs[1,1])\n",
    "ef = df.loc['Tamil Nadu'].rename_axis('date').reset_index()\n",
    "ef['date'] = ef['date'].astype('datetime64[ns]')\n",
    "ax3.bar(ef.date, ef['Tamil Nadu'],color = '#007acc',alpha=0.5,)\n",
    "ax3.xaxis.set_major_locator(mdates.WeekdayLocator())\n",
    "ax3.xaxis.set_major_formatter(mdates.DateFormatter('%b %d'))\n",
    "ax3.set_xticks(ax3.get_xticks()[::3])\n",
    "ax3.text(0.05, 0.9,'Tamil Nadu', transform = ax3.transAxes, fontsize=20);\n",
    "ax3.spines['right'].set_visible(False)\n",
    "ax3.spines['top'].set_visible(False)\n",
    "\n",
    "ax5 = fig.add_subplot(gs[1,3])\n",
    "ef = df.loc['Telangana'].rename_axis('date').reset_index()\n",
    "ef['date'] = ef['date'].astype('datetime64[ns]')\n",
    "ax5.bar(ef.date, ef['Telangana'],color = '#007acc',alpha=0.5,)\n",
    "ax5.xaxis.set_major_locator(mdates.WeekdayLocator())\n",
    "ax5.xaxis.set_major_formatter(mdates.DateFormatter('%b %d'))\n",
    "ax5.set_xticks(ax5.get_xticks()[::3])\n",
    "ax5.text(0.05, 0.9,'Telangana', transform = ax5.transAxes, fontsize=20);\n",
    "ax5.spines['right'].set_visible(False)\n",
    "ax5.spines['top'].set_visible(False)\n",
    "\n",
    "ax6 = fig.add_subplot(gs[1,4])\n",
    "ef = df.loc['Andhra Pradesh'].rename_axis('date').reset_index()\n",
    "ef['date'] = ef['date'].astype('datetime64[ns]')\n",
    "ax6.bar(ef.date, ef['Andhra Pradesh'],color = '#007acc',alpha=0.5,)\n",
    "ax6.xaxis.set_major_locator(mdates.WeekdayLocator())\n",
    "ax6.xaxis.set_major_formatter(mdates.DateFormatter('%b %d'))\n",
    "ax6.set_xticks(ax6.get_xticks()[::3])\n",
    "ax6.text(0.05, 1,'Andhra Pradesh', transform = ax6.transAxes, fontsize=20);\n",
    "ax6.spines['right'].set_visible(False)\n",
    "ax6.spines['top'].set_visible(False)\n",
    "\n",
    "ax4 = fig.add_subplot(gs[1,2])\n",
    "ef = df.loc['Delhi'].rename_axis('date').reset_index()\n",
    "ef['date'] = ef['date'].astype('datetime64[ns]')\n",
    "ax4.bar(ef.date, ef.Delhi,color = '#007acc',alpha=0.5)\n",
    "ax4.set_xticks([])\n",
    "ax4.xaxis.set_major_locator(mdates.WeekdayLocator())\n",
    "ax4.xaxis.set_major_formatter(mdates.DateFormatter('%b %d'))\n",
    "ax4.set_xticks(ax4.get_xticks()[::3])\n",
    "ax4.spines['right'].set_visible(False)\n",
    "ax4.spines['top'].set_visible(False)\n",
    "\n",
    "ax4.text(0.05, 1,'Delhi', transform = ax4.transAxes, fontsize=20)\n",
    "\n",
    "for i in range(n):\n",
    "    \n",
    "    ax.append(fig.add_subplot(gs[i+2,:]))\n",
    "    ef = df.iloc[i+3].rename_axis('date').reset_index()\n",
    "    ef['date'] = ef['date'].astype('datetime64[ns]')\n",
    "    ax[i].bar(ef.date,ef.iloc[:,-1],color = '#007acc',alpha=0.3)\n",
    "    ax[i].plot(ef.date,ef.iloc[:,-1],marker='o',color='#007acc')\n",
    "    ax[i].text(0.02,0.5,f'{ef.columns.values[-1]}',transform = ax[i].transAxes, fontsize = 20);\n",
    "    ax[i].xaxis.set_major_locator(mdates.WeekdayLocator())\n",
    "    ax[i].xaxis.set_major_formatter(mdates.DateFormatter('%b %d'))\n",
    "    ax[i].set_ylim([0,7000])\n",
    "    ax[i].spines['right'].set_visible(False)\n",
    "    ax[i].spines['top'].set_visible(False)\n",
    "plt.tight_layout()\n"
   ]
  },
  {
   "cell_type": "code",
   "execution_count": 20,
   "metadata": {
    "execution": {
     "iopub.execute_input": "2020-10-31T12:22:00.360628Z",
     "iopub.status.busy": "2020-10-31T12:22:00.360013Z",
     "iopub.status.idle": "2020-10-31T12:22:00.364157Z",
     "shell.execute_reply": "2020-10-31T12:22:00.363657Z"
    },
    "papermill": {
     "duration": 0.036566,
     "end_time": "2020-10-31T12:22:00.364287",
     "exception": false,
     "start_time": "2020-10-31T12:22:00.327721",
     "status": "completed"
    },
    "tags": []
   },
   "outputs": [
    {
     "name": "stdout",
     "output_type": "stream",
     "text": [
      "                                   states    Cases  Deaths   PCases  PDeaths  Cases (+)  Deaths (+)  Fatality Rate\n",
      "                              Maharashtra  1672858   43837  1672858    43837          0           0           2.62\n",
      "                           Andhra Pradesh   820565    6676   820565     6676          0           0           0.81\n",
      "                                Karnataka   820398   11140   820398    11140          0           0           1.36\n",
      "                               Tamil Nadu   722011   11091   722011    11091          0           0           1.54\n",
      "                            Uttar Pradesh   480082    7007   480082     7007          0           0           1.46\n",
      "                                   Kerala   425123    1458   425123     1458          0           0           0.34\n",
      "                                    Delhi   381644    6470   381644     6470          0           0           1.70\n",
      "                              West Bengal   369671    6784   369671     6784          0           0           1.84\n",
      "                                   Odisha   290116    1373   288646     1361       1470          12           0.47\n",
      "                                Telangana   238632    1336   237187     1330       1445           6           0.56\n",
      "                                    Bihar   216764    1089   215964     1084        800           5           0.50\n",
      "                                    Assam   206015     926   206015      926          0           0           0.45\n",
      "                                Rajasthan   195213    1898   195213     1898          0           0           0.97\n",
      "                             Chhattisgarh   185306    2038   185306     2038          0           0           1.10\n",
      "                                  Gujarat   172009    3714   172009     3714          0           0           2.16\n",
      "                           Madhya Pradesh   170690    2941   170690     2941          0           0           1.72\n",
      "                                  Haryana   165467    1777   165467     1777          0           0           1.07\n",
      "                                   Punjab   133158    4187   133158     4187          0           0           3.14\n",
      "                                Jharkhand   101287     883   101287      883          0           0           0.87\n",
      "                        Jammu and Kashmir    94330    1471    94330     1471          0           0           1.56\n",
      "                              Uttarakhand    61915    1011    61915     1011          0           0           1.63\n",
      "                                      Goa    43416     602    43416      602          0           0           1.39\n",
      "                               Puducherry    34908     592    34908      592          0           0           1.70\n",
      "                                  Tripura    30660     343    30660      343          0           0           1.12\n",
      "                         Himachal Pradesh    21577     306    21577      306          0           0           1.42\n",
      "                                  Manipur    18272     164    18272      164          0           0           0.90\n",
      "                        Arunachal Pradesh    14752      37    14752       37          0           0           0.25\n",
      "                               Chandigarh    14351     225    14351      225          0           0           1.57\n",
      "                                Meghalaya     9382      87     9382       87          0           0           0.93\n",
      "                                 Nagaland     8945      39     8945       39          0           0           0.44\n",
      "                                   Ladakh     6194      73     6194       73          0           0           1.18\n",
      "              Andaman and Nicobar Islands     4317      59     4317       59          0           0           1.37\n",
      "                                   Sikkim     3913      67     3913       67          0           0           1.71\n",
      " Dadra and Nagar Haveli and Daman and Diu     3246       2     3246        2          0           0           0.06\n",
      "                                  Mizoram     2694       1     2694        1          0           0           0.04\n",
      "                              Lakshadweep        0       0        0        0          0           0            NaN\n"
     ]
    }
   ],
   "source": [
    "#hide_input\n",
    "print(df_table.to_string(index=False))"
   ]
  },
  {
   "cell_type": "code",
   "execution_count": null,
   "metadata": {
    "papermill": {
     "duration": 0.02367,
     "end_time": "2020-10-31T12:22:00.412604",
     "exception": false,
     "start_time": "2020-10-31T12:22:00.388934",
     "status": "completed"
    },
    "tags": []
   },
   "outputs": [],
   "source": []
  },
  {
   "cell_type": "code",
   "execution_count": null,
   "metadata": {
    "papermill": {
     "duration": 0.02387,
     "end_time": "2020-10-31T12:22:00.460174",
     "exception": false,
     "start_time": "2020-10-31T12:22:00.436304",
     "status": "completed"
    },
    "tags": []
   },
   "outputs": [],
   "source": []
  }
 ],
 "metadata": {
  "kernelspec": {
   "display_name": "Python 3",
   "language": "python",
   "name": "python3"
  },
  "language_info": {
   "codemirror_mode": {
    "name": "ipython",
    "version": 3
   },
   "file_extension": ".py",
   "mimetype": "text/x-python",
   "name": "python",
   "nbconvert_exporter": "python",
   "pygments_lexer": "ipython3",
   "version": "3.6.12"
  },
  "papermill": {
   "duration": 11.814009,
   "end_time": "2020-10-31T12:22:00.993192",
   "environment_variables": {},
   "exception": null,
   "input_path": "latest.ipynb",
   "output_path": "latest.ipynb",
   "parameters": {},
   "start_time": "2020-10-31T12:21:49.179183",
   "version": "2.1.2"
  }
 },
 "nbformat": 4,
 "nbformat_minor": 4
}