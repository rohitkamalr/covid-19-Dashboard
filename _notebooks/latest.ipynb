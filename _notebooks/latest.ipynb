{
 "cells": [
  {
   "cell_type": "markdown",
   "metadata": {
    "papermill": {
     "duration": 0.027258,
     "end_time": "2020-08-25T06:38:07.685203",
     "exception": false,
     "start_time": "2020-08-25T06:38:07.657945",
     "status": "completed"
    },
    "tags": []
   },
   "source": [
    "# Latest COVID-19 India Matplotlib Overview"
   ]
  },
  {
   "cell_type": "code",
   "execution_count": 1,
   "metadata": {
    "execution": {
     "iopub.execute_input": "2020-08-25T06:38:07.735472Z",
     "iopub.status.busy": "2020-08-25T06:38:07.734735Z",
     "iopub.status.idle": "2020-08-25T06:38:08.420978Z",
     "shell.execute_reply": "2020-08-25T06:38:08.420379Z"
    },
    "papermill": {
     "duration": 0.715286,
     "end_time": "2020-08-25T06:38:08.421147",
     "exception": false,
     "start_time": "2020-08-25T06:38:07.705861",
     "status": "completed"
    },
    "tags": []
   },
   "outputs": [],
   "source": [
    "#hide\n",
    "import pandas as pd\n",
    "import numpy as np\n",
    "import requests\n",
    "import json\n",
    "import matplotlib.pyplot as plt\n",
    "import matplotlib.dates as mdates\n",
    "import matplotlib as mpl\n",
    "from IPython.core.display import display,HTML\n",
    "%matplotlib inline\n",
    "from datetime import date"
   ]
  },
  {
   "cell_type": "code",
   "execution_count": 2,
   "metadata": {
    "execution": {
     "iopub.execute_input": "2020-08-25T06:38:08.472111Z",
     "iopub.status.busy": "2020-08-25T06:38:08.471443Z",
     "iopub.status.idle": "2020-08-25T06:38:08.631510Z",
     "shell.execute_reply": "2020-08-25T06:38:08.630883Z"
    },
    "papermill": {
     "duration": 0.18462,
     "end_time": "2020-08-25T06:38:08.631664",
     "exception": false,
     "start_time": "2020-08-25T06:38:08.447044",
     "status": "completed"
    },
    "tags": []
   },
   "outputs": [],
   "source": [
    "#hide\n",
    "df  = pd.read_csv('https://api.covid19india.org/csv/latest/states.csv')\n",
    "df = df[['Date','State','Confirmed','Deceased']]\n",
    "df = df.rename(columns={'Confirmed':'Cases', \"Deceased\":'Deaths'})\n",
    "df_cases = df[[\"Date\",'State','Cases']]\n",
    "df_deaths = df[['Date','State','Deaths']]\n",
    "df_cases1 = df_cases.groupby('Date')\n",
    "df_deaths1= df_deaths.groupby('Date')"
   ]
  },
  {
   "cell_type": "code",
   "execution_count": 3,
   "metadata": {
    "execution": {
     "iopub.execute_input": "2020-08-25T06:38:08.673160Z",
     "iopub.status.busy": "2020-08-25T06:38:08.672489Z",
     "iopub.status.idle": "2020-08-25T06:38:08.691891Z",
     "shell.execute_reply": "2020-08-25T06:38:08.692578Z"
    },
    "papermill": {
     "duration": 0.042805,
     "end_time": "2020-08-25T06:38:08.692769",
     "exception": false,
     "start_time": "2020-08-25T06:38:08.649964",
     "status": "completed"
    },
    "tags": []
   },
   "outputs": [],
   "source": [
    "#hide\n",
    "df_snap = pd.read_csv('data/SnapshotCases-28-July.csv')\n",
    "arr_states = df_snap['states'].unique()\n",
    "arr_dates = df['Date'].unique()\n",
    "df_snap = df_snap.set_index('states')"
   ]
  },
  {
   "cell_type": "code",
   "execution_count": 4,
   "metadata": {
    "execution": {
     "iopub.execute_input": "2020-08-25T06:38:08.736494Z",
     "iopub.status.busy": "2020-08-25T06:38:08.735722Z",
     "iopub.status.idle": "2020-08-25T06:38:08.739540Z",
     "shell.execute_reply": "2020-08-25T06:38:08.738848Z"
    },
    "papermill": {
     "duration": 0.029036,
     "end_time": "2020-08-25T06:38:08.739675",
     "exception": false,
     "start_time": "2020-08-25T06:38:08.710639",
     "status": "completed"
    },
    "tags": []
   },
   "outputs": [
    {
     "data": {
      "text/plain": [
       "array(['Andaman and Nicobar Islands', 'Andhra Pradesh',\n",
       "       'Arunachal Pradesh', 'Assam', 'Bihar', 'Chandigarh',\n",
       "       'Dadra and Nagar Haveli and Daman and Diu', 'Delhi', 'Goa',\n",
       "       'Gujarat', 'Haryana', 'Himachal Pradesh', 'Jammu and Kashmir',\n",
       "       'Jharkhand', 'Karnataka', 'Kerala', 'Lakshadweep',\n",
       "       'Madhya Pradesh', 'Maharashtra', 'Manipur', 'Meghalaya', 'Mizoram',\n",
       "       'Nagaland', 'Odisha', 'Puducherry', 'Punjab', 'Rajasthan',\n",
       "       'Sikkim', 'Tamil Nadu', 'Telangana', 'Tripura', 'Uttar Pradesh',\n",
       "       'West Bengal', 'Chhattisgarh', 'Ladakh', 'Uttarakhand'],\n",
       "      dtype=object)"
      ]
     },
     "execution_count": 4,
     "metadata": {},
     "output_type": "execute_result"
    }
   ],
   "source": [
    "#hide\n",
    "arr_states[-9] = 'Puducherry'\n",
    "arr_states[-10] = 'Odisha'\n",
    "arr_states[6] = 'Dadra and Nagar Haveli and Daman and Diu'\n",
    "arr_states = np.append(arr_states,np.array(['Chhattisgarh','Ladakh','Uttarakhand']))\n",
    "arr_states"
   ]
  },
  {
   "cell_type": "code",
   "execution_count": 5,
   "metadata": {
    "execution": {
     "iopub.execute_input": "2020-08-25T06:38:08.788197Z",
     "iopub.status.busy": "2020-08-25T06:38:08.787381Z",
     "iopub.status.idle": "2020-08-25T06:38:08.795338Z",
     "shell.execute_reply": "2020-08-25T06:38:08.795973Z"
    },
    "papermill": {
     "duration": 0.038241,
     "end_time": "2020-08-25T06:38:08.796123",
     "exception": false,
     "start_time": "2020-08-25T06:38:08.757882",
     "status": "completed"
    },
    "tags": []
   },
   "outputs": [],
   "source": [
    "#hide\n",
    "dates = []\n",
    "for i in arr_dates:\n",
    "    if i>='2020-07-01':\n",
    "        dates.append(i)\n",
    "dict = {'states':dates}\n",
    "for i in arr_states:\n",
    "    dict[i] = [0]*len(dates)\n",
    "dft_cases = pd.DataFrame(dict)\n",
    "dft_deaths = pd.DataFrame(dict)\n"
   ]
  },
  {
   "cell_type": "code",
   "execution_count": 6,
   "metadata": {
    "execution": {
     "iopub.execute_input": "2020-08-25T06:38:08.838970Z",
     "iopub.status.busy": "2020-08-25T06:38:08.838277Z",
     "iopub.status.idle": "2020-08-25T06:38:09.966292Z",
     "shell.execute_reply": "2020-08-25T06:38:09.966865Z"
    },
    "papermill": {
     "duration": 1.152066,
     "end_time": "2020-08-25T06:38:09.967043",
     "exception": false,
     "start_time": "2020-08-25T06:38:08.814977",
     "status": "completed"
    },
    "tags": []
   },
   "outputs": [],
   "source": [
    "#hide\n",
    "for i in range(len(dates)):\n",
    "    df1_deaths = df_deaths1.get_group(dates[i])\n",
    "    for j in range(len(df1_deaths.index)):\n",
    "        if df1_deaths.iloc[j,1] in arr_states:\n",
    "            dft_deaths.loc[i,df1_deaths.iloc[j,1]] = df1_deaths.iloc[j,2]\n",
    "dft_deaths = dft_deaths.set_index('states')"
   ]
  },
  {
   "cell_type": "code",
   "execution_count": 7,
   "metadata": {
    "execution": {
     "iopub.execute_input": "2020-08-25T06:38:10.008657Z",
     "iopub.status.busy": "2020-08-25T06:38:10.008003Z",
     "iopub.status.idle": "2020-08-25T06:38:11.059649Z",
     "shell.execute_reply": "2020-08-25T06:38:11.059004Z"
    },
    "papermill": {
     "duration": 1.075189,
     "end_time": "2020-08-25T06:38:11.059810",
     "exception": false,
     "start_time": "2020-08-25T06:38:09.984621",
     "status": "completed"
    },
    "tags": []
   },
   "outputs": [],
   "source": [
    "#hide\n",
    "for i in range(len(dates)):\n",
    "    df1_cases = df_cases1.get_group(dates[i])\n",
    "    for j in range(len(df1_cases.index)):\n",
    "        if df1_cases.iloc[j,1] in arr_states:\n",
    "            dft_cases.loc[i,df1_cases.iloc[j,1]] = df1_cases.iloc[j,2]\n",
    "dft_cases = dft_cases.set_index('states')"
   ]
  },
  {
   "cell_type": "code",
   "execution_count": 8,
   "metadata": {
    "execution": {
     "iopub.execute_input": "2020-08-25T06:38:11.105508Z",
     "iopub.status.busy": "2020-08-25T06:38:11.104518Z",
     "iopub.status.idle": "2020-08-25T06:38:11.106410Z",
     "shell.execute_reply": "2020-08-25T06:38:11.107004Z"
    },
    "papermill": {
     "duration": 0.028752,
     "end_time": "2020-08-25T06:38:11.107194",
     "exception": false,
     "start_time": "2020-08-25T06:38:11.078442",
     "status": "completed"
    },
    "tags": []
   },
   "outputs": [],
   "source": [
    "#hide\n",
    "dft_cases = dft_cases.T\n",
    "dft_deaths = dft_deaths.T\n",
    "dt_today = dates[-1]\n",
    "dt_yday = dates[-2]"
   ]
  },
  {
   "cell_type": "code",
   "execution_count": 9,
   "metadata": {
    "execution": {
     "iopub.execute_input": "2020-08-25T06:38:11.152554Z",
     "iopub.status.busy": "2020-08-25T06:38:11.151641Z",
     "iopub.status.idle": "2020-08-25T06:38:11.155169Z",
     "shell.execute_reply": "2020-08-25T06:38:11.154557Z"
    },
    "papermill": {
     "duration": 0.030009,
     "end_time": "2020-08-25T06:38:11.155307",
     "exception": false,
     "start_time": "2020-08-25T06:38:11.125298",
     "status": "completed"
    },
    "tags": []
   },
   "outputs": [],
   "source": [
    "#hide\n",
    "dft_cases = dft_cases.reset_index()\n",
    "dft_deaths = dft_deaths.reset_index()\n",
    "dft_cases = dft_cases.rename(columns = {'index':'state'})\n",
    "dft_deaths = dft_deaths.rename(columns = {'index':'state'})"
   ]
  },
  {
   "cell_type": "code",
   "execution_count": 10,
   "metadata": {
    "execution": {
     "iopub.execute_input": "2020-08-25T06:38:11.198266Z",
     "iopub.status.busy": "2020-08-25T06:38:11.197588Z",
     "iopub.status.idle": "2020-08-25T06:38:11.206295Z",
     "shell.execute_reply": "2020-08-25T06:38:11.205681Z"
    },
    "papermill": {
     "duration": 0.03274,
     "end_time": "2020-08-25T06:38:11.206424",
     "exception": false,
     "start_time": "2020-08-25T06:38:11.173684",
     "status": "completed"
    },
    "tags": []
   },
   "outputs": [],
   "source": [
    "#hide\n",
    "dfc_cases = dft_cases.groupby('state')[dt_today].sum()\n",
    "dfc_deaths = dft_deaths.groupby('state')[dt_today].sum()\n",
    "dfp_cases = dft_cases.groupby('state')[dt_yday].sum()\n",
    "dfp_deaths = dft_deaths.groupby('state')[dt_yday].sum()"
   ]
  },
  {
   "cell_type": "code",
   "execution_count": 11,
   "metadata": {
    "execution": {
     "iopub.execute_input": "2020-08-25T06:38:11.249883Z",
     "iopub.status.busy": "2020-08-25T06:38:11.249177Z",
     "iopub.status.idle": "2020-08-25T06:38:11.264594Z",
     "shell.execute_reply": "2020-08-25T06:38:11.263985Z"
    },
    "papermill": {
     "duration": 0.040379,
     "end_time": "2020-08-25T06:38:11.264737",
     "exception": false,
     "start_time": "2020-08-25T06:38:11.224358",
     "status": "completed"
    },
    "tags": []
   },
   "outputs": [
    {
     "data": {
      "text/html": [
       "<div>\n",
       "<style scoped>\n",
       "    .dataframe tbody tr th:only-of-type {\n",
       "        vertical-align: middle;\n",
       "    }\n",
       "\n",
       "    .dataframe tbody tr th {\n",
       "        vertical-align: top;\n",
       "    }\n",
       "\n",
       "    .dataframe thead th {\n",
       "        text-align: right;\n",
       "    }\n",
       "</style>\n",
       "<table border=\"1\" class=\"dataframe\">\n",
       "  <thead>\n",
       "    <tr style=\"text-align: right;\">\n",
       "      <th></th>\n",
       "      <th>states</th>\n",
       "      <th>Cases</th>\n",
       "      <th>Deaths</th>\n",
       "      <th>PCases</th>\n",
       "      <th>PDeaths</th>\n",
       "    </tr>\n",
       "  </thead>\n",
       "  <tbody>\n",
       "    <tr>\n",
       "      <th>0</th>\n",
       "      <td>Maharashtra</td>\n",
       "      <td>693398</td>\n",
       "      <td>22465</td>\n",
       "      <td>693398</td>\n",
       "      <td>22465</td>\n",
       "    </tr>\n",
       "    <tr>\n",
       "      <th>1</th>\n",
       "      <td>Tamil Nadu</td>\n",
       "      <td>385352</td>\n",
       "      <td>6614</td>\n",
       "      <td>385352</td>\n",
       "      <td>6614</td>\n",
       "    </tr>\n",
       "    <tr>\n",
       "      <th>2</th>\n",
       "      <td>Andhra Pradesh</td>\n",
       "      <td>361712</td>\n",
       "      <td>3368</td>\n",
       "      <td>361712</td>\n",
       "      <td>3368</td>\n",
       "    </tr>\n",
       "    <tr>\n",
       "      <th>3</th>\n",
       "      <td>Karnataka</td>\n",
       "      <td>283665</td>\n",
       "      <td>4810</td>\n",
       "      <td>283665</td>\n",
       "      <td>4810</td>\n",
       "    </tr>\n",
       "    <tr>\n",
       "      <th>4</th>\n",
       "      <td>Uttar Pradesh</td>\n",
       "      <td>192382</td>\n",
       "      <td>2987</td>\n",
       "      <td>192382</td>\n",
       "      <td>2987</td>\n",
       "    </tr>\n",
       "  </tbody>\n",
       "</table>\n",
       "</div>"
      ],
      "text/plain": [
       "           states   Cases  Deaths  PCases  PDeaths\n",
       "0     Maharashtra  693398   22465  693398    22465\n",
       "1      Tamil Nadu  385352    6614  385352     6614\n",
       "2  Andhra Pradesh  361712    3368  361712     3368\n",
       "3       Karnataka  283665    4810  283665     4810\n",
       "4   Uttar Pradesh  192382    2987  192382     2987"
      ]
     },
     "execution_count": 11,
     "metadata": {},
     "output_type": "execute_result"
    }
   ],
   "source": [
    "#hide\n",
    "df_table = pd.DataFrame({'states': dfc_cases.index, 'Cases': dfc_cases.values, 'Deaths': dfc_deaths.values, 'PCases': dfp_cases.values, 'PDeaths': dfp_deaths.values}).set_index('states')\n",
    "df_table = df_table.sort_values(by = ['Cases','Deaths'], ascending = [False, False])\n",
    "df_table = df_table.reset_index()\n",
    "df_table.head()"
   ]
  },
  {
   "cell_type": "code",
   "execution_count": 12,
   "metadata": {
    "execution": {
     "iopub.execute_input": "2020-08-25T06:38:11.319317Z",
     "iopub.status.busy": "2020-08-25T06:38:11.318659Z",
     "iopub.status.idle": "2020-08-25T06:38:11.328682Z",
     "shell.execute_reply": "2020-08-25T06:38:11.329423Z"
    },
    "papermill": {
     "duration": 0.042502,
     "end_time": "2020-08-25T06:38:11.329587",
     "exception": false,
     "start_time": "2020-08-25T06:38:11.287085",
     "status": "completed"
    },
    "tags": []
   },
   "outputs": [],
   "source": [
    "#hide\n",
    "for c in 'Cases, Deaths'.split(', '):\n",
    "    df_table[f'{c} (+)'] = (df_table[c] - df_table[f'P{c}']).clip(0)\n",
    "df_table['Fatality Rate'] = (100* df_table['Deaths']/ df_table['Cases']).round(2)"
   ]
  },
  {
   "cell_type": "code",
   "execution_count": 13,
   "metadata": {
    "execution": {
     "iopub.execute_input": "2020-08-25T06:38:11.379121Z",
     "iopub.status.busy": "2020-08-25T06:38:11.378404Z",
     "iopub.status.idle": "2020-08-25T06:38:11.383289Z",
     "shell.execute_reply": "2020-08-25T06:38:11.382618Z"
    },
    "papermill": {
     "duration": 0.035167,
     "end_time": "2020-08-25T06:38:11.383429",
     "exception": false,
     "start_time": "2020-08-25T06:38:11.348262",
     "status": "completed"
    },
    "tags": []
   },
   "outputs": [
    {
     "data": {
      "text/html": [
       "<div>\n",
       "<style scoped>\n",
       "    .dataframe tbody tr th:only-of-type {\n",
       "        vertical-align: middle;\n",
       "    }\n",
       "\n",
       "    .dataframe tbody tr th {\n",
       "        vertical-align: top;\n",
       "    }\n",
       "\n",
       "    .dataframe thead th {\n",
       "        text-align: right;\n",
       "    }\n",
       "</style>\n",
       "<table border=\"1\" class=\"dataframe\">\n",
       "  <thead>\n",
       "    <tr style=\"text-align: right;\">\n",
       "      <th></th>\n",
       "      <th>states</th>\n",
       "      <th>Cases</th>\n",
       "      <th>Deaths</th>\n",
       "      <th>PCases</th>\n",
       "      <th>PDeaths</th>\n",
       "      <th>Cases (+)</th>\n",
       "      <th>Deaths (+)</th>\n",
       "      <th>Fatality Rate</th>\n",
       "    </tr>\n",
       "  </thead>\n",
       "  <tbody>\n",
       "    <tr>\n",
       "      <th>0</th>\n",
       "      <td>Maharashtra</td>\n",
       "      <td>693398</td>\n",
       "      <td>22465</td>\n",
       "      <td>693398</td>\n",
       "      <td>22465</td>\n",
       "      <td>0</td>\n",
       "      <td>0</td>\n",
       "      <td>3.24</td>\n",
       "    </tr>\n",
       "    <tr>\n",
       "      <th>1</th>\n",
       "      <td>Tamil Nadu</td>\n",
       "      <td>385352</td>\n",
       "      <td>6614</td>\n",
       "      <td>385352</td>\n",
       "      <td>6614</td>\n",
       "      <td>0</td>\n",
       "      <td>0</td>\n",
       "      <td>1.72</td>\n",
       "    </tr>\n",
       "    <tr>\n",
       "      <th>2</th>\n",
       "      <td>Andhra Pradesh</td>\n",
       "      <td>361712</td>\n",
       "      <td>3368</td>\n",
       "      <td>361712</td>\n",
       "      <td>3368</td>\n",
       "      <td>0</td>\n",
       "      <td>0</td>\n",
       "      <td>0.93</td>\n",
       "    </tr>\n",
       "    <tr>\n",
       "      <th>3</th>\n",
       "      <td>Karnataka</td>\n",
       "      <td>283665</td>\n",
       "      <td>4810</td>\n",
       "      <td>283665</td>\n",
       "      <td>4810</td>\n",
       "      <td>0</td>\n",
       "      <td>0</td>\n",
       "      <td>1.70</td>\n",
       "    </tr>\n",
       "    <tr>\n",
       "      <th>4</th>\n",
       "      <td>Uttar Pradesh</td>\n",
       "      <td>192382</td>\n",
       "      <td>2987</td>\n",
       "      <td>192382</td>\n",
       "      <td>2987</td>\n",
       "      <td>0</td>\n",
       "      <td>0</td>\n",
       "      <td>1.55</td>\n",
       "    </tr>\n",
       "  </tbody>\n",
       "</table>\n",
       "</div>"
      ],
      "text/plain": [
       "           states   Cases  Deaths  PCases  PDeaths  Cases (+)  Deaths (+)  \\\n",
       "0     Maharashtra  693398   22465  693398    22465          0           0   \n",
       "1      Tamil Nadu  385352    6614  385352     6614          0           0   \n",
       "2  Andhra Pradesh  361712    3368  361712     3368          0           0   \n",
       "3       Karnataka  283665    4810  283665     4810          0           0   \n",
       "4   Uttar Pradesh  192382    2987  192382     2987          0           0   \n",
       "\n",
       "   Fatality Rate  \n",
       "0           3.24  \n",
       "1           1.72  \n",
       "2           0.93  \n",
       "3           1.70  \n",
       "4           1.55  "
      ]
     },
     "execution_count": 13,
     "metadata": {},
     "output_type": "execute_result"
    }
   ],
   "source": [
    "#hide\n",
    "df_table.head()"
   ]
  },
  {
   "cell_type": "code",
   "execution_count": 14,
   "metadata": {
    "execution": {
     "iopub.execute_input": "2020-08-25T06:38:11.440006Z",
     "iopub.status.busy": "2020-08-25T06:38:11.439350Z",
     "iopub.status.idle": "2020-08-25T06:38:11.454219Z",
     "shell.execute_reply": "2020-08-25T06:38:11.453522Z"
    },
    "papermill": {
     "duration": 0.049835,
     "end_time": "2020-08-25T06:38:11.454396",
     "exception": false,
     "start_time": "2020-08-25T06:38:11.404561",
     "status": "completed"
    },
    "tags": []
   },
   "outputs": [
    {
     "data": {
      "text/plain": [
       "{'updated': '2020-08-25',\n",
       " 'since': '2020-08-24',\n",
       " 'Cases': 3170942,\n",
       " 'PCases': 3164881,\n",
       " 'Deaths': 58570,\n",
       " 'PDeaths': 58546,\n",
       " 'Cases (+)': 6061,\n",
       " 'Deaths (+)': 24}"
      ]
     },
     "execution_count": 14,
     "metadata": {},
     "output_type": "execute_result"
    }
   ],
   "source": [
    "#hide\n",
    "summary = {'updated':dates[-1], 'since':dates[-2]}\n",
    "list_names = ['Cases', 'PCases', 'Deaths', 'PDeaths', 'Cases (+)', 'Deaths (+)']\n",
    "for name in list_names:\n",
    "    summary[name] = df_table.sum()[name]\n",
    "summary"
   ]
  },
  {
   "cell_type": "code",
   "execution_count": 15,
   "metadata": {
    "execution": {
     "iopub.execute_input": "2020-08-25T06:38:11.499595Z",
     "iopub.status.busy": "2020-08-25T06:38:11.498651Z",
     "iopub.status.idle": "2020-08-25T06:38:11.500798Z",
     "shell.execute_reply": "2020-08-25T06:38:11.502392Z"
    },
    "papermill": {
     "duration": 0.028523,
     "end_time": "2020-08-25T06:38:11.502558",
     "exception": false,
     "start_time": "2020-08-25T06:38:11.474035",
     "status": "completed"
    },
    "tags": []
   },
   "outputs": [],
   "source": [
    "#hide\n",
    "overview = '''\n",
    "<!-- #######  HTML!! #########-->\n",
    "<h1 style=\"color: #5e9ca0; text-align: center;\">India</h1>\n",
    "<p style=\"text-align: center;\">Last update: <strong>{update}</strong></p>\n",
    "<p style=\"text-align: center;\">Confirmed cases:</p>\n",
    "<p style=\"text-align: center;font-size:24px;\">{cases} (<span style=\"color: #ff0000;\">+{new}</span>)</p>\n",
    "<p style=\"text-align: center;\">Confirmed deaths:</p>\n",
    "<p style=\"text-align: center;font-size:24px;\">{deaths} (<span style=\"color: #ff0000;\">+{dnew}</span>)</p>\n",
    "'''"
   ]
  },
  {
   "cell_type": "code",
   "execution_count": 16,
   "metadata": {
    "execution": {
     "iopub.execute_input": "2020-08-25T06:38:11.553936Z",
     "iopub.status.busy": "2020-08-25T06:38:11.553272Z",
     "iopub.status.idle": "2020-08-25T06:38:11.557813Z",
     "shell.execute_reply": "2020-08-25T06:38:11.557250Z"
    },
    "papermill": {
     "duration": 0.033124,
     "end_time": "2020-08-25T06:38:11.557951",
     "exception": false,
     "start_time": "2020-08-25T06:38:11.524827",
     "status": "completed"
    },
    "tags": []
   },
   "outputs": [
    {
     "data": {
      "text/html": [
       "\n",
       "<!-- #######  HTML!! #########-->\n",
       "<h1 style=\"color: #5e9ca0; text-align: center;\">India</h1>\n",
       "<p style=\"text-align: center;\">Last update: <strong>2020-08-25</strong></p>\n",
       "<p style=\"text-align: center;\">Confirmed cases:</p>\n",
       "<p style=\"text-align: center;font-size:24px;\">3170942 (<span style=\"color: #ff0000;\">+6061</span>)</p>\n",
       "<p style=\"text-align: center;\">Confirmed deaths:</p>\n",
       "<p style=\"text-align: center;font-size:24px;\">58570 (<span style=\"color: #ff0000;\">+24</span>)</p>\n"
      ],
      "text/plain": [
       "<IPython.core.display.HTML object>"
      ]
     },
     "metadata": {},
     "output_type": "display_data"
    }
   ],
   "source": [
    "#hide_input\n",
    "update = summary['updated']\n",
    "cases = summary['Cases']\n",
    "new = summary['Cases (+)']\n",
    "deaths = summary['Deaths']\n",
    "dnew = summary['Deaths (+)']\n",
    "\n",
    "html = HTML(overview.format(update=update, cases=cases,new=new,deaths=deaths,dnew=dnew))\n",
    "\n",
    "display(html)"
   ]
  },
  {
   "cell_type": "code",
   "execution_count": 17,
   "metadata": {
    "execution": {
     "iopub.execute_input": "2020-08-25T06:38:11.610868Z",
     "iopub.status.busy": "2020-08-25T06:38:11.608720Z",
     "iopub.status.idle": "2020-08-25T06:38:11.613691Z",
     "shell.execute_reply": "2020-08-25T06:38:11.614289Z"
    },
    "papermill": {
     "duration": 0.036462,
     "end_time": "2020-08-25T06:38:11.614477",
     "exception": false,
     "start_time": "2020-08-25T06:38:11.578015",
     "status": "completed"
    },
    "tags": []
   },
   "outputs": [],
   "source": [
    "#hide\n",
    "dt_cols = list(dft_cases.columns[1:])\n",
    "dft_ct_new_cases = dft_cases.groupby('state')[dt_cols].sum().diff(axis=1).fillna(0).astype(int)\n",
    "dft_ct_new_cases.sort_values(by = dates[-1], ascending = False,inplace = True)"
   ]
  },
  {
   "cell_type": "code",
   "execution_count": 18,
   "metadata": {
    "execution": {
     "iopub.execute_input": "2020-08-25T06:38:11.675435Z",
     "iopub.status.busy": "2020-08-25T06:38:11.674758Z",
     "iopub.status.idle": "2020-08-25T06:38:11.678463Z",
     "shell.execute_reply": "2020-08-25T06:38:11.677899Z"
    },
    "papermill": {
     "duration": 0.043864,
     "end_time": "2020-08-25T06:38:11.678622",
     "exception": false,
     "start_time": "2020-08-25T06:38:11.634758",
     "status": "completed"
    },
    "tags": []
   },
   "outputs": [
    {
     "data": {
      "text/html": [
       "<div>\n",
       "<style scoped>\n",
       "    .dataframe tbody tr th:only-of-type {\n",
       "        vertical-align: middle;\n",
       "    }\n",
       "\n",
       "    .dataframe tbody tr th {\n",
       "        vertical-align: top;\n",
       "    }\n",
       "\n",
       "    .dataframe thead th {\n",
       "        text-align: right;\n",
       "    }\n",
       "</style>\n",
       "<table border=\"1\" class=\"dataframe\">\n",
       "  <thead>\n",
       "    <tr style=\"text-align: right;\">\n",
       "      <th>states</th>\n",
       "      <th>2020-07-01</th>\n",
       "      <th>2020-07-02</th>\n",
       "      <th>2020-07-03</th>\n",
       "      <th>2020-07-04</th>\n",
       "      <th>2020-07-05</th>\n",
       "      <th>2020-07-06</th>\n",
       "      <th>2020-07-07</th>\n",
       "      <th>2020-07-08</th>\n",
       "      <th>2020-07-09</th>\n",
       "      <th>2020-07-10</th>\n",
       "      <th>...</th>\n",
       "      <th>2020-08-16</th>\n",
       "      <th>2020-08-17</th>\n",
       "      <th>2020-08-18</th>\n",
       "      <th>2020-08-19</th>\n",
       "      <th>2020-08-20</th>\n",
       "      <th>2020-08-21</th>\n",
       "      <th>2020-08-22</th>\n",
       "      <th>2020-08-23</th>\n",
       "      <th>2020-08-24</th>\n",
       "      <th>2020-08-25</th>\n",
       "    </tr>\n",
       "    <tr>\n",
       "      <th>state</th>\n",
       "      <th></th>\n",
       "      <th></th>\n",
       "      <th></th>\n",
       "      <th></th>\n",
       "      <th></th>\n",
       "      <th></th>\n",
       "      <th></th>\n",
       "      <th></th>\n",
       "      <th></th>\n",
       "      <th></th>\n",
       "      <th></th>\n",
       "      <th></th>\n",
       "      <th></th>\n",
       "      <th></th>\n",
       "      <th></th>\n",
       "      <th></th>\n",
       "      <th></th>\n",
       "      <th></th>\n",
       "      <th></th>\n",
       "      <th></th>\n",
       "      <th></th>\n",
       "    </tr>\n",
       "  </thead>\n",
       "  <tbody>\n",
       "    <tr>\n",
       "      <th>Odisha</th>\n",
       "      <td>0</td>\n",
       "      <td>229</td>\n",
       "      <td>561</td>\n",
       "      <td>495</td>\n",
       "      <td>469</td>\n",
       "      <td>456</td>\n",
       "      <td>571</td>\n",
       "      <td>527</td>\n",
       "      <td>577</td>\n",
       "      <td>755</td>\n",
       "      <td>...</td>\n",
       "      <td>2924</td>\n",
       "      <td>2244</td>\n",
       "      <td>2239</td>\n",
       "      <td>2589</td>\n",
       "      <td>2898</td>\n",
       "      <td>2698</td>\n",
       "      <td>2819</td>\n",
       "      <td>2993</td>\n",
       "      <td>2949</td>\n",
       "      <td>2752</td>\n",
       "    </tr>\n",
       "    <tr>\n",
       "      <th>Telangana</th>\n",
       "      <td>0</td>\n",
       "      <td>1213</td>\n",
       "      <td>1892</td>\n",
       "      <td>1850</td>\n",
       "      <td>1590</td>\n",
       "      <td>1831</td>\n",
       "      <td>1879</td>\n",
       "      <td>1924</td>\n",
       "      <td>1410</td>\n",
       "      <td>1278</td>\n",
       "      <td>...</td>\n",
       "      <td>1102</td>\n",
       "      <td>894</td>\n",
       "      <td>1682</td>\n",
       "      <td>1763</td>\n",
       "      <td>1724</td>\n",
       "      <td>1967</td>\n",
       "      <td>2474</td>\n",
       "      <td>2384</td>\n",
       "      <td>1842</td>\n",
       "      <td>2579</td>\n",
       "    </tr>\n",
       "    <tr>\n",
       "      <th>Rajasthan</th>\n",
       "      <td>0</td>\n",
       "      <td>350</td>\n",
       "      <td>390</td>\n",
       "      <td>480</td>\n",
       "      <td>632</td>\n",
       "      <td>524</td>\n",
       "      <td>716</td>\n",
       "      <td>659</td>\n",
       "      <td>500</td>\n",
       "      <td>611</td>\n",
       "      <td>...</td>\n",
       "      <td>1317</td>\n",
       "      <td>1334</td>\n",
       "      <td>1347</td>\n",
       "      <td>1312</td>\n",
       "      <td>1330</td>\n",
       "      <td>1335</td>\n",
       "      <td>1310</td>\n",
       "      <td>1345</td>\n",
       "      <td>1346</td>\n",
       "      <td>695</td>\n",
       "    </tr>\n",
       "    <tr>\n",
       "      <th>Mizoram</th>\n",
       "      <td>0</td>\n",
       "      <td>2</td>\n",
       "      <td>0</td>\n",
       "      <td>2</td>\n",
       "      <td>22</td>\n",
       "      <td>11</td>\n",
       "      <td>1</td>\n",
       "      <td>5</td>\n",
       "      <td>0</td>\n",
       "      <td>23</td>\n",
       "      <td>...</td>\n",
       "      <td>64</td>\n",
       "      <td>12</td>\n",
       "      <td>26</td>\n",
       "      <td>45</td>\n",
       "      <td>14</td>\n",
       "      <td>21</td>\n",
       "      <td>8</td>\n",
       "      <td>15</td>\n",
       "      <td>0</td>\n",
       "      <td>35</td>\n",
       "    </tr>\n",
       "    <tr>\n",
       "      <th>Andaman and Nicobar Islands</th>\n",
       "      <td>0</td>\n",
       "      <td>9</td>\n",
       "      <td>7</td>\n",
       "      <td>3</td>\n",
       "      <td>6</td>\n",
       "      <td>16</td>\n",
       "      <td>6</td>\n",
       "      <td>2</td>\n",
       "      <td>7</td>\n",
       "      <td>0</td>\n",
       "      <td>...</td>\n",
       "      <td>93</td>\n",
       "      <td>46</td>\n",
       "      <td>84</td>\n",
       "      <td>75</td>\n",
       "      <td>76</td>\n",
       "      <td>67</td>\n",
       "      <td>61</td>\n",
       "      <td>52</td>\n",
       "      <td>44</td>\n",
       "      <td>0</td>\n",
       "    </tr>\n",
       "  </tbody>\n",
       "</table>\n",
       "<p>5 rows × 56 columns</p>\n",
       "</div>"
      ],
      "text/plain": [
       "states                       2020-07-01  2020-07-02  2020-07-03  2020-07-04  \\\n",
       "state                                                                         \n",
       "Odisha                                0         229         561         495   \n",
       "Telangana                             0        1213        1892        1850   \n",
       "Rajasthan                             0         350         390         480   \n",
       "Mizoram                               0           2           0           2   \n",
       "Andaman and Nicobar Islands           0           9           7           3   \n",
       "\n",
       "states                       2020-07-05  2020-07-06  2020-07-07  2020-07-08  \\\n",
       "state                                                                         \n",
       "Odisha                              469         456         571         527   \n",
       "Telangana                          1590        1831        1879        1924   \n",
       "Rajasthan                           632         524         716         659   \n",
       "Mizoram                              22          11           1           5   \n",
       "Andaman and Nicobar Islands           6          16           6           2   \n",
       "\n",
       "states                       2020-07-09  2020-07-10  ...  2020-08-16  \\\n",
       "state                                                ...               \n",
       "Odisha                              577         755  ...        2924   \n",
       "Telangana                          1410        1278  ...        1102   \n",
       "Rajasthan                           500         611  ...        1317   \n",
       "Mizoram                               0          23  ...          64   \n",
       "Andaman and Nicobar Islands           7           0  ...          93   \n",
       "\n",
       "states                       2020-08-17  2020-08-18  2020-08-19  2020-08-20  \\\n",
       "state                                                                         \n",
       "Odisha                             2244        2239        2589        2898   \n",
       "Telangana                           894        1682        1763        1724   \n",
       "Rajasthan                          1334        1347        1312        1330   \n",
       "Mizoram                              12          26          45          14   \n",
       "Andaman and Nicobar Islands          46          84          75          76   \n",
       "\n",
       "states                       2020-08-21  2020-08-22  2020-08-23  2020-08-24  \\\n",
       "state                                                                         \n",
       "Odisha                             2698        2819        2993        2949   \n",
       "Telangana                          1967        2474        2384        1842   \n",
       "Rajasthan                          1335        1310        1345        1346   \n",
       "Mizoram                              21           8          15           0   \n",
       "Andaman and Nicobar Islands          67          61          52          44   \n",
       "\n",
       "states                       2020-08-25  \n",
       "state                                    \n",
       "Odisha                             2752  \n",
       "Telangana                          2579  \n",
       "Rajasthan                           695  \n",
       "Mizoram                              35  \n",
       "Andaman and Nicobar Islands           0  \n",
       "\n",
       "[5 rows x 56 columns]"
      ]
     },
     "execution_count": 18,
     "metadata": {},
     "output_type": "execute_result"
    }
   ],
   "source": [
    "#hide\n",
    "dft_ct_new_cases.head()"
   ]
  },
  {
   "cell_type": "code",
   "execution_count": 19,
   "metadata": {
    "execution": {
     "iopub.execute_input": "2020-08-25T06:38:11.738797Z",
     "iopub.status.busy": "2020-08-25T06:38:11.731159Z",
     "iopub.status.idle": "2020-08-25T06:38:15.202909Z",
     "shell.execute_reply": "2020-08-25T06:38:15.203695Z"
    },
    "papermill": {
     "duration": 3.504087,
     "end_time": "2020-08-25T06:38:15.204263",
     "exception": false,
     "start_time": "2020-08-25T06:38:11.700176",
     "status": "completed"
    },
    "tags": []
   },
   "outputs": [
    {
     "data": {
      "image/png": "[encoded data removed]",
      "text/plain": [
       "<Figure size 1296x2016 with 11 Axes>"
      ]
     },
     "metadata": {
      "needs_background": "light"
     },
     "output_type": "display_data"
    }
   ],
   "source": [
    "#hide_input\n",
    "df = dft_ct_new_cases.copy()\n",
    "df.loc['Total'] = df.sum()\n",
    "n = 5\n",
    "ax = []\n",
    "fig = plt.figure(figsize = (18,28))\n",
    "gs = fig.add_gridspec(n+2, 5)\n",
    "# gs = fig.add_gridspec(2, 3)\n",
    "ax1 = fig.add_subplot(gs[0, :])\n",
    "ef = df.loc['Total'].rename_axis('date').reset_index()\n",
    "ef['date'] = ef['date'].astype('datetime64[ns]')\n",
    "ax1.bar(ef.date,ef.Total,alpha=0.3,color='#007acc')\n",
    "ax1.plot(ef.date,ef.Total , marker=\"o\", color='#007acc')\n",
    "ax1.xaxis.set_major_locator(mdates.WeekdayLocator())\n",
    "ax1.xaxis.set_major_formatter(mdates.DateFormatter('%b %d'))\n",
    "ax1.text(0.02, 0.5,'India daily case count', transform = ax1.transAxes, fontsize=25);\n",
    "ax1.spines['right'].set_visible(False)\n",
    "ax1.spines['top'].set_visible(False)\n",
    "\n",
    "ax2 = fig.add_subplot(gs[1,0])\n",
    "ef = df.loc['Maharashtra'].rename_axis('date').reset_index()\n",
    "ef['date'] = ef['date'].astype('datetime64[ns]')\n",
    "\n",
    "ax2.bar(ef.date, ef.Maharashtra,color = '#007acc',alpha=0.5)\n",
    "ax2.xaxis.set_major_locator(mdates.WeekdayLocator())\n",
    "ax2.xaxis.set_major_formatter(mdates.DateFormatter('%b %d'))\n",
    "ax2.set_xticks(ax2.get_xticks()[::3])\n",
    "maxyval = ef.Maharashtra.max()\n",
    "ax2.set_ylim([0,maxyval])\n",
    "ax2.text(0.05, 0.9,'Maharashtra', transform = ax2.transAxes, fontsize=20);\n",
    "ax2.spines['right'].set_visible(False)\n",
    "ax2.spines['top'].set_visible(False)\n",
    "\n",
    "\n",
    "ax3 = fig.add_subplot(gs[1,1])\n",
    "ef = df.loc['Tamil Nadu'].rename_axis('date').reset_index()\n",
    "ef['date'] = ef['date'].astype('datetime64[ns]')\n",
    "ax3.bar(ef.date, ef['Tamil Nadu'],color = '#007acc',alpha=0.5,)\n",
    "ax3.xaxis.set_major_locator(mdates.WeekdayLocator())\n",
    "ax3.xaxis.set_major_formatter(mdates.DateFormatter('%b %d'))\n",
    "ax3.set_xticks(ax3.get_xticks()[::3])\n",
    "ax3.text(0.05, 0.9,'Tamil Nadu', transform = ax3.transAxes, fontsize=20);\n",
    "ax3.spines['right'].set_visible(False)\n",
    "ax3.spines['top'].set_visible(False)\n",
    "\n",
    "ax5 = fig.add_subplot(gs[1,3])\n",
    "ef = df.loc['Telangana'].rename_axis('date').reset_index()\n",
    "ef['date'] = ef['date'].astype('datetime64[ns]')\n",
    "ax5.bar(ef.date, ef['Telangana'],color = '#007acc',alpha=0.5,)\n",
    "ax5.xaxis.set_major_locator(mdates.WeekdayLocator())\n",
    "ax5.xaxis.set_major_formatter(mdates.DateFormatter('%b %d'))\n",
    "ax5.set_xticks(ax5.get_xticks()[::3])\n",
    "ax5.text(0.05, 0.9,'Telangana', transform = ax5.transAxes, fontsize=20);\n",
    "ax5.spines['right'].set_visible(False)\n",
    "ax5.spines['top'].set_visible(False)\n",
    "\n",
    "ax6 = fig.add_subplot(gs[1,4])\n",
    "ef = df.loc['Andhra Pradesh'].rename_axis('date').reset_index()\n",
    "ef['date'] = ef['date'].astype('datetime64[ns]')\n",
    "ax6.bar(ef.date, ef['Andhra Pradesh'],color = '#007acc',alpha=0.5,)\n",
    "ax6.xaxis.set_major_locator(mdates.WeekdayLocator())\n",
    "ax6.xaxis.set_major_formatter(mdates.DateFormatter('%b %d'))\n",
    "ax6.set_xticks(ax6.get_xticks()[::3])\n",
    "ax6.text(0.05, 1,'Andhra Pradesh', transform = ax6.transAxes, fontsize=20);\n",
    "ax6.spines['right'].set_visible(False)\n",
    "ax6.spines['top'].set_visible(False)\n",
    "\n",
    "ax4 = fig.add_subplot(gs[1,2])\n",
    "ef = df.loc['Delhi'].rename_axis('date').reset_index()\n",
    "ef['date'] = ef['date'].astype('datetime64[ns]')\n",
    "ax4.bar(ef.date, ef.Delhi,color = '#007acc',alpha=0.5)\n",
    "ax4.set_xticks([])\n",
    "ax4.xaxis.set_major_locator(mdates.WeekdayLocator())\n",
    "ax4.xaxis.set_major_formatter(mdates.DateFormatter('%b %d'))\n",
    "ax4.set_xticks(ax4.get_xticks()[::3])\n",
    "ax4.spines['right'].set_visible(False)\n",
    "ax4.spines['top'].set_visible(False)\n",
    "\n",
    "ax4.text(0.05, 1,'Delhi', transform = ax4.transAxes, fontsize=20)\n",
    "\n",
    "for i in range(n):\n",
    "    \n",
    "    ax.append(fig.add_subplot(gs[i+2,:]))\n",
    "    ef = df.iloc[i+3].rename_axis('date').reset_index()\n",
    "    ef['date'] = ef['date'].astype('datetime64[ns]')\n",
    "    ax[i].bar(ef.date,ef.iloc[:,-1],color = '#007acc',alpha=0.3)\n",
    "    ax[i].plot(ef.date,ef.iloc[:,-1],marker='o',color='#007acc')\n",
    "    ax[i].text(0.02,0.5,f'{ef.columns.values[-1]}',transform = ax[i].transAxes, fontsize = 20);\n",
    "    ax[i].xaxis.set_major_locator(mdates.WeekdayLocator())\n",
    "    ax[i].xaxis.set_major_formatter(mdates.DateFormatter('%b %d'))\n",
    "    ax[i].set_ylim([0,7000])\n",
    "    ax[i].spines['right'].set_visible(False)\n",
    "    ax[i].spines['top'].set_visible(False)\n",
    "plt.tight_layout()\n"
   ]
  },
  {
   "cell_type": "code",
   "execution_count": 20,
   "metadata": {
    "execution": {
     "iopub.execute_input": "2020-08-25T06:38:15.466884Z",
     "iopub.status.busy": "2020-08-25T06:38:15.466172Z",
     "iopub.status.idle": "2020-08-25T06:38:15.468674Z",
     "shell.execute_reply": "2020-08-25T06:38:15.469270Z"
    },
    "papermill": {
     "duration": 0.237863,
     "end_time": "2020-08-25T06:38:15.469467",
     "exception": false,
     "start_time": "2020-08-25T06:38:15.231604",
     "status": "completed"
    },
    "tags": []
   },
   "outputs": [
    {
     "name": "stdout",
     "output_type": "stream",
     "text": [
      "                                   states   Cases  Deaths  PCases  PDeaths  Cases (+)  Deaths (+)  Fatality Rate\n",
      "                              Maharashtra  693398   22465  693398    22465          0           0           3.24\n",
      "                               Tamil Nadu  385352    6614  385352     6614          0           0           1.72\n",
      "                           Andhra Pradesh  361712    3368  361712     3368          0           0           0.93\n",
      "                                Karnataka  283665    4810  283665     4810          0           0           1.70\n",
      "                            Uttar Pradesh  192382    2987  192382     2987          0           0           1.55\n",
      "                                    Delhi  162527    4313  162527     4313          0           0           2.65\n",
      "                              West Bengal  141837    2851  141837     2851          0           0           2.01\n",
      "                                    Bihar  123383     627  123383      627          0           0           0.51\n",
      "                                Telangana  108670     770  106091      761       2579           9           0.71\n",
      "                                    Assam   92620     252   92620      252          0           0           0.27\n",
      "                                  Gujarat   87846    2908   87846     2908          0           0           3.31\n",
      "                                   Odisha   84231     481   81479      472       2752           9           0.57\n",
      "                                Rajasthan   72650     973   71955      967        695           6           1.34\n",
      "                                   Kerala   59504     235   59504      235          0           0           0.39\n",
      "                                  Haryana   55460     613   55460      613          0           0           1.11\n",
      "                           Madhya Pradesh   54421    1246   54421     1246          0           0           2.29\n",
      "                                   Punjab   43284    1129   43284     1129          0           0           2.61\n",
      "                        Jammu and Kashmir   33075     624   33075      624          0           0           1.89\n",
      "                                Jharkhand   31118     335   31118      335          0           0           1.08\n",
      "                             Chhattisgarh   22054     206   22054      206          0           0           0.93\n",
      "                              Uttarakhand   15529     207   15529      207          0           0           1.33\n",
      "                                      Goa   14138     148   14138      148          0           0           1.05\n",
      "                               Puducherry   10859     164   10859      164          0           0           1.51\n",
      "                                  Tripura    8917      73    8917       73          0           0           0.82\n",
      "                                  Manipur    5362      22    5362       22          0           0           0.41\n",
      "                         Himachal Pradesh    5101      28    5101       28          0           0           0.55\n",
      "                                 Nagaland    3714       8    3714        8          0           0           0.22\n",
      "                        Arunachal Pradesh    3312       5    3312        5          0           0           0.15\n",
      "                               Chandigarh    3035      37    3035       37          0           0           1.22\n",
      "              Andaman and Nicobar Islands    2904      35    2904       35          0           0           1.21\n",
      "                                   Ladakh    2330      23    2330       23          0           0           0.99\n",
      " Dadra and Nagar Haveli and Daman and Diu    2177       2    2177        2          0           0           0.09\n",
      "                                Meghalaya    1976       8    1976        8          0           0           0.40\n",
      "                                   Sikkim    1446       3    1446        3          0           0           0.21\n",
      "                                  Mizoram     953       0     918        0         35           0           0.00\n",
      "                              Lakshadweep       0       0       0        0          0           0            NaN\n"
     ]
    }
   ],
   "source": [
    "#hide_input\n",
    "print(df_table.to_string(index=False))"
   ]
  },
  {
   "cell_type": "code",
   "execution_count": null,
   "metadata": {
    "papermill": {
     "duration": 0.024545,
     "end_time": "2020-08-25T06:38:15.518479",
     "exception": false,
     "start_time": "2020-08-25T06:38:15.493934",
     "status": "completed"
    },
    "tags": []
   },
   "outputs": [],
   "source": []
  },
  {
   "cell_type": "code",
   "execution_count": null,
   "metadata": {
    "papermill": {
     "duration": 0.024058,
     "end_time": "2020-08-25T06:38:15.566556",
     "exception": false,
     "start_time": "2020-08-25T06:38:15.542498",
     "status": "completed"
    },
    "tags": []
   },
   "outputs": [],
   "source": []
  }
 ],
 "metadata": {
  "kernelspec": {
   "display_name": "Python 3",
   "language": "python",
   "name": "python3"
  },
  "language_info": {
   "codemirror_mode": {
    "name": "ipython",
    "version": 3
   },
   "file_extension": ".py",
   "mimetype": "text/x-python",
   "name": "python",
   "nbconvert_exporter": "python",
   "pygments_lexer": "ipython3",
   "version": "3.6.11"
  },
  "papermill": {
   "duration": 9.641722,
   "end_time": "2020-08-25T06:38:15.998882",
   "environment_variables": {},
   "exception": null,
   "input_path": "latest.ipynb",
   "output_path": "latest.ipynb",
   "parameters": {},
   "start_time": "2020-08-25T06:38:06.357160",
   "version": "2.1.2"
  }
 },
 "nbformat": 4,
 "nbformat_minor": 4
}