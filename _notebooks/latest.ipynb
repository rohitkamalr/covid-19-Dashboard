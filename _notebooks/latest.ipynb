{
 "cells": [
  {
   "cell_type": "markdown",
   "metadata": {
    "papermill": {
     "duration": 0.018857,
     "end_time": "2020-08-13T12:52:24.933492",
     "exception": false,
     "start_time": "2020-08-13T12:52:24.914635",
     "status": "completed"
    },
    "tags": []
   },
   "source": [
    "# Latest COVID-19 India Matplotlib Overview"
   ]
  },
  {
   "cell_type": "code",
   "execution_count": 1,
   "metadata": {
    "execution": {
     "iopub.execute_input": "2020-08-13T12:52:24.975823Z",
     "iopub.status.busy": "2020-08-13T12:52:24.975182Z",
     "iopub.status.idle": "2020-08-13T12:52:25.608964Z",
     "shell.execute_reply": "2020-08-13T12:52:25.608296Z"
    },
    "papermill": {
     "duration": 0.657206,
     "end_time": "2020-08-13T12:52:25.609201",
     "exception": false,
     "start_time": "2020-08-13T12:52:24.951995",
     "status": "completed"
    },
    "tags": []
   },
   "outputs": [],
   "source": [
    "#hide\n",
    "import pandas as pd\n",
    "import numpy as np\n",
    "import requests\n",
    "import json\n",
    "import matplotlib.pyplot as plt\n",
    "import matplotlib.dates as mdates\n",
    "import matplotlib as mpl\n",
    "from IPython.core.display import display,HTML\n",
    "%matplotlib inline\n",
    "from datetime import date"
   ]
  },
  {
   "cell_type": "code",
   "execution_count": 2,
   "metadata": {
    "execution": {
     "iopub.execute_input": "2020-08-13T12:52:25.652909Z",
     "iopub.status.busy": "2020-08-13T12:52:25.652080Z",
     "iopub.status.idle": "2020-08-13T12:52:25.812142Z",
     "shell.execute_reply": "2020-08-13T12:52:25.811549Z"
    },
    "papermill": {
     "duration": 0.184784,
     "end_time": "2020-08-13T12:52:25.812304",
     "exception": false,
     "start_time": "2020-08-13T12:52:25.627520",
     "status": "completed"
    },
    "tags": []
   },
   "outputs": [],
   "source": [
    "#hide\n",
    "df  = pd.read_csv('https://api.covid19india.org/csv/latest/states.csv')\n",
    "df = df[['Date','State','Confirmed','Deceased']]\n",
    "df = df.rename(columns={'Confirmed':'Cases', \"Deceased\":'Deaths'})\n",
    "df_cases = df[[\"Date\",'State','Cases']]\n",
    "df_deaths = df[['Date','State','Deaths']]\n",
    "df_cases1 = df_cases.groupby('Date')\n",
    "df_deaths1= df_deaths.groupby('Date')"
   ]
  },
  {
   "cell_type": "code",
   "execution_count": 3,
   "metadata": {
    "execution": {
     "iopub.execute_input": "2020-08-13T12:52:25.852710Z",
     "iopub.status.busy": "2020-08-13T12:52:25.852051Z",
     "iopub.status.idle": "2020-08-13T12:52:25.871640Z",
     "shell.execute_reply": "2020-08-13T12:52:25.870811Z"
    },
    "papermill": {
     "duration": 0.042034,
     "end_time": "2020-08-13T12:52:25.871778",
     "exception": false,
     "start_time": "2020-08-13T12:52:25.829744",
     "status": "completed"
    },
    "tags": []
   },
   "outputs": [],
   "source": [
    "#hide\n",
    "df_snap = pd.read_csv('data/SnapshotCases-28-July.csv')\n",
    "arr_states = df_snap['states'].unique()\n",
    "arr_dates = df['Date'].unique()\n",
    "df_snap = df_snap.set_index('states')"
   ]
  },
  {
   "cell_type": "code",
   "execution_count": 4,
   "metadata": {
    "execution": {
     "iopub.execute_input": "2020-08-13T12:52:25.921388Z",
     "iopub.status.busy": "2020-08-13T12:52:25.920776Z",
     "iopub.status.idle": "2020-08-13T12:52:25.923522Z",
     "shell.execute_reply": "2020-08-13T12:52:25.924015Z"
    },
    "papermill": {
     "duration": 0.034614,
     "end_time": "2020-08-13T12:52:25.924182",
     "exception": false,
     "start_time": "2020-08-13T12:52:25.889568",
     "status": "completed"
    },
    "tags": []
   },
   "outputs": [
    {
     "data": {
      "text/plain": [
       "array(['Andaman and Nicobar Islands', 'Andhra Pradesh',\n",
       "       'Arunachal Pradesh', 'Assam', 'Bihar', 'Chandigarh',\n",
       "       'Dadra and Nagar Haveli and Daman and Diu', 'Delhi', 'Goa',\n",
       "       'Gujarat', 'Haryana', 'Himachal Pradesh', 'Jammu and Kashmir',\n",
       "       'Jharkhand', 'Karnataka', 'Kerala', 'Lakshadweep',\n",
       "       'Madhya Pradesh', 'Maharashtra', 'Manipur', 'Meghalaya', 'Mizoram',\n",
       "       'Nagaland', 'Odisha', 'Puducherry', 'Punjab', 'Rajasthan',\n",
       "       'Sikkim', 'Tamil Nadu', 'Telangana', 'Tripura', 'Uttar Pradesh',\n",
       "       'West Bengal', 'Chhattisgarh', 'Ladakh', 'Uttarakhand'],\n",
       "      dtype=object)"
      ]
     },
     "execution_count": 4,
     "metadata": {},
     "output_type": "execute_result"
    }
   ],
   "source": [
    "#hide\n",
    "arr_states[-9] = 'Puducherry'\n",
    "arr_states[-10] = 'Odisha'\n",
    "arr_states[6] = 'Dadra and Nagar Haveli and Daman and Diu'\n",
    "arr_states = np.append(arr_states,np.array(['Chhattisgarh','Ladakh','Uttarakhand']))\n",
    "arr_states"
   ]
  },
  {
   "cell_type": "code",
   "execution_count": 5,
   "metadata": {
    "execution": {
     "iopub.execute_input": "2020-08-13T12:52:25.973513Z",
     "iopub.status.busy": "2020-08-13T12:52:25.970880Z",
     "iopub.status.idle": "2020-08-13T12:52:25.982799Z",
     "shell.execute_reply": "2020-08-13T12:52:25.982092Z"
    },
    "papermill": {
     "duration": 0.038748,
     "end_time": "2020-08-13T12:52:25.983030",
     "exception": false,
     "start_time": "2020-08-13T12:52:25.944282",
     "status": "completed"
    },
    "tags": []
   },
   "outputs": [],
   "source": [
    "#hide\n",
    "dates = []\n",
    "for i in arr_dates:\n",
    "    if i>='2020-07-01':\n",
    "        dates.append(i)\n",
    "dict = {'states':dates}\n",
    "for i in arr_states:\n",
    "    dict[i] = [0]*len(dates)\n",
    "dft_cases = pd.DataFrame(dict)\n",
    "dft_deaths = pd.DataFrame(dict)\n"
   ]
  },
  {
   "cell_type": "code",
   "execution_count": 6,
   "metadata": {
    "execution": {
     "iopub.execute_input": "2020-08-13T12:52:26.028052Z",
     "iopub.status.busy": "2020-08-13T12:52:26.027298Z",
     "iopub.status.idle": "2020-08-13T12:52:26.853683Z",
     "shell.execute_reply": "2020-08-13T12:52:26.854255Z"
    },
    "papermill": {
     "duration": 0.851508,
     "end_time": "2020-08-13T12:52:26.854434",
     "exception": false,
     "start_time": "2020-08-13T12:52:26.002926",
     "status": "completed"
    },
    "tags": []
   },
   "outputs": [],
   "source": [
    "#hide\n",
    "for i in range(len(dates)):\n",
    "    df1_deaths = df_deaths1.get_group(dates[i])\n",
    "    for j in range(len(df1_deaths.index)):\n",
    "        if df1_deaths.iloc[j,1] in arr_states:\n",
    "            dft_deaths.loc[i,df1_deaths.iloc[j,1]] = df1_deaths.iloc[j,2]\n",
    "dft_deaths = dft_deaths.set_index('states')"
   ]
  },
  {
   "cell_type": "code",
   "execution_count": 7,
   "metadata": {
    "execution": {
     "iopub.execute_input": "2020-08-13T12:52:26.898677Z",
     "iopub.status.busy": "2020-08-13T12:52:26.897937Z",
     "iopub.status.idle": "2020-08-13T12:52:27.695244Z",
     "shell.execute_reply": "2020-08-13T12:52:27.694648Z"
    },
    "papermill": {
     "duration": 0.822878,
     "end_time": "2020-08-13T12:52:27.695399",
     "exception": false,
     "start_time": "2020-08-13T12:52:26.872521",
     "status": "completed"
    },
    "tags": []
   },
   "outputs": [],
   "source": [
    "#hide\n",
    "for i in range(len(dates)):\n",
    "    df1_cases = df_cases1.get_group(dates[i])\n",
    "    for j in range(len(df1_cases.index)):\n",
    "        if df1_cases.iloc[j,1] in arr_states:\n",
    "            dft_cases.loc[i,df1_cases.iloc[j,1]] = df1_cases.iloc[j,2]\n",
    "dft_cases = dft_cases.set_index('states')"
   ]
  },
  {
   "cell_type": "code",
   "execution_count": 8,
   "metadata": {
    "execution": {
     "iopub.execute_input": "2020-08-13T12:52:27.739425Z",
     "iopub.status.busy": "2020-08-13T12:52:27.738680Z",
     "iopub.status.idle": "2020-08-13T12:52:27.741719Z",
     "shell.execute_reply": "2020-08-13T12:52:27.741116Z"
    },
    "papermill": {
     "duration": 0.02684,
     "end_time": "2020-08-13T12:52:27.741854",
     "exception": false,
     "start_time": "2020-08-13T12:52:27.715014",
     "status": "completed"
    },
    "tags": []
   },
   "outputs": [],
   "source": [
    "#hide\n",
    "dft_cases = dft_cases.T\n",
    "dft_deaths = dft_deaths.T\n",
    "dt_today = dates[-1]\n",
    "dt_yday = dates[-2]"
   ]
  },
  {
   "cell_type": "code",
   "execution_count": 9,
   "metadata": {
    "execution": {
     "iopub.execute_input": "2020-08-13T12:52:27.785479Z",
     "iopub.status.busy": "2020-08-13T12:52:27.784813Z",
     "iopub.status.idle": "2020-08-13T12:52:27.786779Z",
     "shell.execute_reply": "2020-08-13T12:52:27.787468Z"
    },
    "papermill": {
     "duration": 0.028497,
     "end_time": "2020-08-13T12:52:27.787614",
     "exception": false,
     "start_time": "2020-08-13T12:52:27.759117",
     "status": "completed"
    },
    "tags": []
   },
   "outputs": [],
   "source": [
    "#hide\n",
    "dft_cases = dft_cases.reset_index()\n",
    "dft_deaths = dft_deaths.reset_index()\n",
    "dft_cases = dft_cases.rename(columns = {'index':'state'})\n",
    "dft_deaths = dft_deaths.rename(columns = {'index':'state'})"
   ]
  },
  {
   "cell_type": "code",
   "execution_count": 10,
   "metadata": {
    "execution": {
     "iopub.execute_input": "2020-08-13T12:52:27.835005Z",
     "iopub.status.busy": "2020-08-13T12:52:27.834283Z",
     "iopub.status.idle": "2020-08-13T12:52:27.836093Z",
     "shell.execute_reply": "2020-08-13T12:52:27.836681Z"
    },
    "papermill": {
     "duration": 0.032327,
     "end_time": "2020-08-13T12:52:27.836848",
     "exception": false,
     "start_time": "2020-08-13T12:52:27.804521",
     "status": "completed"
    },
    "tags": []
   },
   "outputs": [],
   "source": [
    "#hide\n",
    "dfc_cases = dft_cases.groupby('state')[dt_today].sum()\n",
    "dfc_deaths = dft_deaths.groupby('state')[dt_today].sum()\n",
    "dfp_cases = dft_cases.groupby('state')[dt_yday].sum()\n",
    "dfp_deaths = dft_deaths.groupby('state')[dt_yday].sum()"
   ]
  },
  {
   "cell_type": "code",
   "execution_count": 11,
   "metadata": {
    "execution": {
     "iopub.execute_input": "2020-08-13T12:52:27.886936Z",
     "iopub.status.busy": "2020-08-13T12:52:27.879330Z",
     "iopub.status.idle": "2020-08-13T12:52:27.894545Z",
     "shell.execute_reply": "2020-08-13T12:52:27.894053Z"
    },
    "papermill": {
     "duration": 0.039949,
     "end_time": "2020-08-13T12:52:27.894678",
     "exception": false,
     "start_time": "2020-08-13T12:52:27.854729",
     "status": "completed"
    },
    "tags": []
   },
   "outputs": [
    {
     "data": {
      "text/html": [
       "<div>\n",
       "<style scoped>\n",
       "    .dataframe tbody tr th:only-of-type {\n",
       "        vertical-align: middle;\n",
       "    }\n",
       "\n",
       "    .dataframe tbody tr th {\n",
       "        vertical-align: top;\n",
       "    }\n",
       "\n",
       "    .dataframe thead th {\n",
       "        text-align: right;\n",
       "    }\n",
       "</style>\n",
       "<table border=\"1\" class=\"dataframe\">\n",
       "  <thead>\n",
       "    <tr style=\"text-align: right;\">\n",
       "      <th></th>\n",
       "      <th>states</th>\n",
       "      <th>Cases</th>\n",
       "      <th>Deaths</th>\n",
       "      <th>PCases</th>\n",
       "      <th>PDeaths</th>\n",
       "    </tr>\n",
       "  </thead>\n",
       "  <tbody>\n",
       "    <tr>\n",
       "      <th>0</th>\n",
       "      <td>Maharashtra</td>\n",
       "      <td>548313</td>\n",
       "      <td>18650</td>\n",
       "      <td>548313</td>\n",
       "      <td>18650</td>\n",
       "    </tr>\n",
       "    <tr>\n",
       "      <th>1</th>\n",
       "      <td>Tamil Nadu</td>\n",
       "      <td>314520</td>\n",
       "      <td>5278</td>\n",
       "      <td>314520</td>\n",
       "      <td>5278</td>\n",
       "    </tr>\n",
       "    <tr>\n",
       "      <th>2</th>\n",
       "      <td>Andhra Pradesh</td>\n",
       "      <td>264142</td>\n",
       "      <td>2378</td>\n",
       "      <td>254146</td>\n",
       "      <td>2296</td>\n",
       "    </tr>\n",
       "    <tr>\n",
       "      <th>3</th>\n",
       "      <td>Karnataka</td>\n",
       "      <td>196494</td>\n",
       "      <td>3511</td>\n",
       "      <td>196494</td>\n",
       "      <td>3511</td>\n",
       "    </tr>\n",
       "    <tr>\n",
       "      <th>4</th>\n",
       "      <td>Delhi</td>\n",
       "      <td>149460</td>\n",
       "      <td>4167</td>\n",
       "      <td>148504</td>\n",
       "      <td>4153</td>\n",
       "    </tr>\n",
       "  </tbody>\n",
       "</table>\n",
       "</div>"
      ],
      "text/plain": [
       "           states   Cases  Deaths  PCases  PDeaths\n",
       "0     Maharashtra  548313   18650  548313    18650\n",
       "1      Tamil Nadu  314520    5278  314520     5278\n",
       "2  Andhra Pradesh  264142    2378  254146     2296\n",
       "3       Karnataka  196494    3511  196494     3511\n",
       "4           Delhi  149460    4167  148504     4153"
      ]
     },
     "execution_count": 11,
     "metadata": {},
     "output_type": "execute_result"
    }
   ],
   "source": [
    "#hide\n",
    "df_table = pd.DataFrame({'states': dfc_cases.index, 'Cases': dfc_cases.values, 'Deaths': dfc_deaths.values, 'PCases': dfp_cases.values, 'PDeaths': dfp_deaths.values}).set_index('states')\n",
    "df_table = df_table.sort_values(by = ['Cases','Deaths'], ascending = [False, False])\n",
    "df_table = df_table.reset_index()\n",
    "df_table.head()"
   ]
  },
  {
   "cell_type": "code",
   "execution_count": 12,
   "metadata": {
    "execution": {
     "iopub.execute_input": "2020-08-13T12:52:27.938913Z",
     "iopub.status.busy": "2020-08-13T12:52:27.938245Z",
     "iopub.status.idle": "2020-08-13T12:52:27.947306Z",
     "shell.execute_reply": "2020-08-13T12:52:27.947967Z"
    },
    "papermill": {
     "duration": 0.035851,
     "end_time": "2020-08-13T12:52:27.948122",
     "exception": false,
     "start_time": "2020-08-13T12:52:27.912271",
     "status": "completed"
    },
    "tags": []
   },
   "outputs": [],
   "source": [
    "#hide\n",
    "for c in 'Cases, Deaths'.split(', '):\n",
    "    df_table[f'{c} (+)'] = (df_table[c] - df_table[f'P{c}']).clip(0)\n",
    "df_table['Fatality Rate'] = (100* df_table['Deaths']/ df_table['Cases']).round(2)"
   ]
  },
  {
   "cell_type": "code",
   "execution_count": 13,
   "metadata": {
    "execution": {
     "iopub.execute_input": "2020-08-13T12:52:27.989879Z",
     "iopub.status.busy": "2020-08-13T12:52:27.989164Z",
     "iopub.status.idle": "2020-08-13T12:52:28.000520Z",
     "shell.execute_reply": "2020-08-13T12:52:27.999922Z"
    },
    "papermill": {
     "duration": 0.03373,
     "end_time": "2020-08-13T12:52:28.000693",
     "exception": false,
     "start_time": "2020-08-13T12:52:27.966963",
     "status": "completed"
    },
    "tags": []
   },
   "outputs": [
    {
     "data": {
      "text/html": [
       "<div>\n",
       "<style scoped>\n",
       "    .dataframe tbody tr th:only-of-type {\n",
       "        vertical-align: middle;\n",
       "    }\n",
       "\n",
       "    .dataframe tbody tr th {\n",
       "        vertical-align: top;\n",
       "    }\n",
       "\n",
       "    .dataframe thead th {\n",
       "        text-align: right;\n",
       "    }\n",
       "</style>\n",
       "<table border=\"1\" class=\"dataframe\">\n",
       "  <thead>\n",
       "    <tr style=\"text-align: right;\">\n",
       "      <th></th>\n",
       "      <th>states</th>\n",
       "      <th>Cases</th>\n",
       "      <th>Deaths</th>\n",
       "      <th>PCases</th>\n",
       "      <th>PDeaths</th>\n",
       "      <th>Cases (+)</th>\n",
       "      <th>Deaths (+)</th>\n",
       "      <th>Fatality Rate</th>\n",
       "    </tr>\n",
       "  </thead>\n",
       "  <tbody>\n",
       "    <tr>\n",
       "      <th>0</th>\n",
       "      <td>Maharashtra</td>\n",
       "      <td>548313</td>\n",
       "      <td>18650</td>\n",
       "      <td>548313</td>\n",
       "      <td>18650</td>\n",
       "      <td>0</td>\n",
       "      <td>0</td>\n",
       "      <td>3.40</td>\n",
       "    </tr>\n",
       "    <tr>\n",
       "      <th>1</th>\n",
       "      <td>Tamil Nadu</td>\n",
       "      <td>314520</td>\n",
       "      <td>5278</td>\n",
       "      <td>314520</td>\n",
       "      <td>5278</td>\n",
       "      <td>0</td>\n",
       "      <td>0</td>\n",
       "      <td>1.68</td>\n",
       "    </tr>\n",
       "    <tr>\n",
       "      <th>2</th>\n",
       "      <td>Andhra Pradesh</td>\n",
       "      <td>264142</td>\n",
       "      <td>2378</td>\n",
       "      <td>254146</td>\n",
       "      <td>2296</td>\n",
       "      <td>9996</td>\n",
       "      <td>82</td>\n",
       "      <td>0.90</td>\n",
       "    </tr>\n",
       "    <tr>\n",
       "      <th>3</th>\n",
       "      <td>Karnataka</td>\n",
       "      <td>196494</td>\n",
       "      <td>3511</td>\n",
       "      <td>196494</td>\n",
       "      <td>3511</td>\n",
       "      <td>0</td>\n",
       "      <td>0</td>\n",
       "      <td>1.79</td>\n",
       "    </tr>\n",
       "    <tr>\n",
       "      <th>4</th>\n",
       "      <td>Delhi</td>\n",
       "      <td>149460</td>\n",
       "      <td>4167</td>\n",
       "      <td>148504</td>\n",
       "      <td>4153</td>\n",
       "      <td>956</td>\n",
       "      <td>14</td>\n",
       "      <td>2.79</td>\n",
       "    </tr>\n",
       "  </tbody>\n",
       "</table>\n",
       "</div>"
      ],
      "text/plain": [
       "           states   Cases  Deaths  PCases  PDeaths  Cases (+)  Deaths (+)  \\\n",
       "0     Maharashtra  548313   18650  548313    18650          0           0   \n",
       "1      Tamil Nadu  314520    5278  314520     5278          0           0   \n",
       "2  Andhra Pradesh  264142    2378  254146     2296       9996          82   \n",
       "3       Karnataka  196494    3511  196494     3511          0           0   \n",
       "4           Delhi  149460    4167  148504     4153        956          14   \n",
       "\n",
       "   Fatality Rate  \n",
       "0           3.40  \n",
       "1           1.68  \n",
       "2           0.90  \n",
       "3           1.79  \n",
       "4           2.79  "
      ]
     },
     "execution_count": 13,
     "metadata": {},
     "output_type": "execute_result"
    }
   ],
   "source": [
    "#hide\n",
    "df_table.head()"
   ]
  },
  {
   "cell_type": "code",
   "execution_count": 14,
   "metadata": {
    "execution": {
     "iopub.execute_input": "2020-08-13T12:52:28.043859Z",
     "iopub.status.busy": "2020-08-13T12:52:28.042954Z",
     "iopub.status.idle": "2020-08-13T12:52:28.064317Z",
     "shell.execute_reply": "2020-08-13T12:52:28.063747Z"
    },
    "papermill": {
     "duration": 0.045882,
     "end_time": "2020-08-13T12:52:28.064486",
     "exception": false,
     "start_time": "2020-08-13T12:52:28.018604",
     "status": "completed"
    },
    "tags": []
   },
   "outputs": [
    {
     "data": {
      "text/plain": [
       "{'updated': '2020-08-13',\n",
       " 'since': '2020-08-12',\n",
       " 'Cases': 2416169,\n",
       " 'PCases': 2395471,\n",
       " 'Deaths': 47325,\n",
       " 'PDeaths': 47138,\n",
       " 'Cases (+)': 20698,\n",
       " 'Deaths (+)': 187}"
      ]
     },
     "execution_count": 14,
     "metadata": {},
     "output_type": "execute_result"
    }
   ],
   "source": [
    "#hide\n",
    "summary = {'updated':dates[-1], 'since':dates[-2]}\n",
    "list_names = ['Cases', 'PCases', 'Deaths', 'PDeaths', 'Cases (+)', 'Deaths (+)']\n",
    "for name in list_names:\n",
    "    summary[name] = df_table.sum()[name]\n",
    "summary"
   ]
  },
  {
   "cell_type": "code",
   "execution_count": 15,
   "metadata": {
    "execution": {
     "iopub.execute_input": "2020-08-13T12:52:28.105925Z",
     "iopub.status.busy": "2020-08-13T12:52:28.105075Z",
     "iopub.status.idle": "2020-08-13T12:52:28.107955Z",
     "shell.execute_reply": "2020-08-13T12:52:28.107433Z"
    },
    "papermill": {
     "duration": 0.0256,
     "end_time": "2020-08-13T12:52:28.108089",
     "exception": false,
     "start_time": "2020-08-13T12:52:28.082489",
     "status": "completed"
    },
    "tags": []
   },
   "outputs": [],
   "source": [
    "#hide\n",
    "overview = '''\n",
    "<!-- #######  HTML!! #########-->\n",
    "<h1 style=\"color: #5e9ca0; text-align: center;\">India</h1>\n",
    "<p style=\"text-align: center;\">Last update: <strong>{update}</strong></p>\n",
    "<p style=\"text-align: center;\">Confirmed cases:</p>\n",
    "<p style=\"text-align: center;font-size:24px;\">{cases} (<span style=\"color: #ff0000;\">+{new}</span>)</p>\n",
    "<p style=\"text-align: center;\">Confirmed deaths:</p>\n",
    "<p style=\"text-align: center;font-size:24px;\">{deaths} (<span style=\"color: #ff0000;\">+{dnew}</span>)</p>\n",
    "'''"
   ]
  },
  {
   "cell_type": "code",
   "execution_count": 16,
   "metadata": {
    "execution": {
     "iopub.execute_input": "2020-08-13T12:52:28.151886Z",
     "iopub.status.busy": "2020-08-13T12:52:28.150831Z",
     "iopub.status.idle": "2020-08-13T12:52:28.154157Z",
     "shell.execute_reply": "2020-08-13T12:52:28.154654Z"
    },
    "papermill": {
     "duration": 0.028823,
     "end_time": "2020-08-13T12:52:28.154846",
     "exception": false,
     "start_time": "2020-08-13T12:52:28.126023",
     "status": "completed"
    },
    "tags": []
   },
   "outputs": [
    {
     "data": {
      "text/html": [
       "\n",
       "<!-- #######  HTML!! #########-->\n",
       "<h1 style=\"color: #5e9ca0; text-align: center;\">India</h1>\n",
       "<p style=\"text-align: center;\">Last update: <strong>2020-08-13</strong></p>\n",
       "<p style=\"text-align: center;\">Confirmed cases:</p>\n",
       "<p style=\"text-align: center;font-size:24px;\">2416169 (<span style=\"color: #ff0000;\">+20698</span>)</p>\n",
       "<p style=\"text-align: center;\">Confirmed deaths:</p>\n",
       "<p style=\"text-align: center;font-size:24px;\">47325 (<span style=\"color: #ff0000;\">+187</span>)</p>\n"
      ],
      "text/plain": [
       "<IPython.core.display.HTML object>"
      ]
     },
     "metadata": {},
     "output_type": "display_data"
    }
   ],
   "source": [
    "#hide_input\n",
    "update = summary['updated']\n",
    "cases = summary['Cases']\n",
    "new = summary['Cases (+)']\n",
    "deaths = summary['Deaths']\n",
    "dnew = summary['Deaths (+)']\n",
    "\n",
    "html = HTML(overview.format(update=update, cases=cases,new=new,deaths=deaths,dnew=dnew))\n",
    "\n",
    "display(html)"
   ]
  },
  {
   "cell_type": "code",
   "execution_count": 17,
   "metadata": {
    "execution": {
     "iopub.execute_input": "2020-08-13T12:52:28.201732Z",
     "iopub.status.busy": "2020-08-13T12:52:28.201063Z",
     "iopub.status.idle": "2020-08-13T12:52:28.207109Z",
     "shell.execute_reply": "2020-08-13T12:52:28.206527Z"
    },
    "papermill": {
     "duration": 0.032696,
     "end_time": "2020-08-13T12:52:28.207291",
     "exception": false,
     "start_time": "2020-08-13T12:52:28.174595",
     "status": "completed"
    },
    "tags": []
   },
   "outputs": [],
   "source": [
    "#hide\n",
    "dt_cols = list(dft_cases.columns[1:])\n",
    "dft_ct_new_cases = dft_cases.groupby('state')[dt_cols].sum().diff(axis=1).fillna(0).astype(int)\n",
    "dft_ct_new_cases.sort_values(by = dates[-1], ascending = False,inplace = True)"
   ]
  },
  {
   "cell_type": "code",
   "execution_count": 18,
   "metadata": {
    "execution": {
     "iopub.execute_input": "2020-08-13T12:52:28.265593Z",
     "iopub.status.busy": "2020-08-13T12:52:28.264959Z",
     "iopub.status.idle": "2020-08-13T12:52:28.268642Z",
     "shell.execute_reply": "2020-08-13T12:52:28.267903Z"
    },
    "papermill": {
     "duration": 0.04089,
     "end_time": "2020-08-13T12:52:28.268824",
     "exception": false,
     "start_time": "2020-08-13T12:52:28.227934",
     "status": "completed"
    },
    "tags": []
   },
   "outputs": [
    {
     "data": {
      "text/html": [
       "<div>\n",
       "<style scoped>\n",
       "    .dataframe tbody tr th:only-of-type {\n",
       "        vertical-align: middle;\n",
       "    }\n",
       "\n",
       "    .dataframe tbody tr th {\n",
       "        vertical-align: top;\n",
       "    }\n",
       "\n",
       "    .dataframe thead th {\n",
       "        text-align: right;\n",
       "    }\n",
       "</style>\n",
       "<table border=\"1\" class=\"dataframe\">\n",
       "  <thead>\n",
       "    <tr style=\"text-align: right;\">\n",
       "      <th>states</th>\n",
       "      <th>2020-07-01</th>\n",
       "      <th>2020-07-02</th>\n",
       "      <th>2020-07-03</th>\n",
       "      <th>2020-07-04</th>\n",
       "      <th>2020-07-05</th>\n",
       "      <th>2020-07-06</th>\n",
       "      <th>2020-07-07</th>\n",
       "      <th>2020-07-08</th>\n",
       "      <th>2020-07-09</th>\n",
       "      <th>2020-07-10</th>\n",
       "      <th>...</th>\n",
       "      <th>2020-08-04</th>\n",
       "      <th>2020-08-05</th>\n",
       "      <th>2020-08-06</th>\n",
       "      <th>2020-08-07</th>\n",
       "      <th>2020-08-08</th>\n",
       "      <th>2020-08-09</th>\n",
       "      <th>2020-08-10</th>\n",
       "      <th>2020-08-11</th>\n",
       "      <th>2020-08-12</th>\n",
       "      <th>2020-08-13</th>\n",
       "    </tr>\n",
       "    <tr>\n",
       "      <th>state</th>\n",
       "      <th></th>\n",
       "      <th></th>\n",
       "      <th></th>\n",
       "      <th></th>\n",
       "      <th></th>\n",
       "      <th></th>\n",
       "      <th></th>\n",
       "      <th></th>\n",
       "      <th></th>\n",
       "      <th></th>\n",
       "      <th></th>\n",
       "      <th></th>\n",
       "      <th></th>\n",
       "      <th></th>\n",
       "      <th></th>\n",
       "      <th></th>\n",
       "      <th></th>\n",
       "      <th></th>\n",
       "      <th></th>\n",
       "      <th></th>\n",
       "      <th></th>\n",
       "    </tr>\n",
       "  </thead>\n",
       "  <tbody>\n",
       "    <tr>\n",
       "      <th>Andhra Pradesh</th>\n",
       "      <td>0</td>\n",
       "      <td>845</td>\n",
       "      <td>837</td>\n",
       "      <td>765</td>\n",
       "      <td>998</td>\n",
       "      <td>1322</td>\n",
       "      <td>1178</td>\n",
       "      <td>1062</td>\n",
       "      <td>1555</td>\n",
       "      <td>1608</td>\n",
       "      <td>...</td>\n",
       "      <td>9747</td>\n",
       "      <td>10128</td>\n",
       "      <td>10328</td>\n",
       "      <td>10171</td>\n",
       "      <td>10080</td>\n",
       "      <td>10820</td>\n",
       "      <td>7665</td>\n",
       "      <td>9024</td>\n",
       "      <td>9597</td>\n",
       "      <td>9996</td>\n",
       "    </tr>\n",
       "    <tr>\n",
       "      <th>Uttar Pradesh</th>\n",
       "      <td>0</td>\n",
       "      <td>769</td>\n",
       "      <td>972</td>\n",
       "      <td>757</td>\n",
       "      <td>1153</td>\n",
       "      <td>929</td>\n",
       "      <td>1332</td>\n",
       "      <td>1188</td>\n",
       "      <td>1206</td>\n",
       "      <td>1338</td>\n",
       "      <td>...</td>\n",
       "      <td>2948</td>\n",
       "      <td>4078</td>\n",
       "      <td>4586</td>\n",
       "      <td>4404</td>\n",
       "      <td>4660</td>\n",
       "      <td>4571</td>\n",
       "      <td>4113</td>\n",
       "      <td>5041</td>\n",
       "      <td>4475</td>\n",
       "      <td>4537</td>\n",
       "    </tr>\n",
       "    <tr>\n",
       "      <th>Odisha</th>\n",
       "      <td>0</td>\n",
       "      <td>229</td>\n",
       "      <td>561</td>\n",
       "      <td>495</td>\n",
       "      <td>469</td>\n",
       "      <td>456</td>\n",
       "      <td>571</td>\n",
       "      <td>527</td>\n",
       "      <td>577</td>\n",
       "      <td>755</td>\n",
       "      <td>...</td>\n",
       "      <td>1384</td>\n",
       "      <td>1337</td>\n",
       "      <td>1699</td>\n",
       "      <td>1833</td>\n",
       "      <td>1643</td>\n",
       "      <td>1734</td>\n",
       "      <td>1528</td>\n",
       "      <td>1341</td>\n",
       "      <td>1876</td>\n",
       "      <td>1981</td>\n",
       "    </tr>\n",
       "    <tr>\n",
       "      <th>Telangana</th>\n",
       "      <td>0</td>\n",
       "      <td>1213</td>\n",
       "      <td>1892</td>\n",
       "      <td>1850</td>\n",
       "      <td>1590</td>\n",
       "      <td>1831</td>\n",
       "      <td>1879</td>\n",
       "      <td>1924</td>\n",
       "      <td>1410</td>\n",
       "      <td>1278</td>\n",
       "      <td>...</td>\n",
       "      <td>1286</td>\n",
       "      <td>2012</td>\n",
       "      <td>2092</td>\n",
       "      <td>2207</td>\n",
       "      <td>2256</td>\n",
       "      <td>1982</td>\n",
       "      <td>1256</td>\n",
       "      <td>1896</td>\n",
       "      <td>1897</td>\n",
       "      <td>1931</td>\n",
       "    </tr>\n",
       "    <tr>\n",
       "      <th>Delhi</th>\n",
       "      <td>0</td>\n",
       "      <td>2373</td>\n",
       "      <td>2520</td>\n",
       "      <td>2505</td>\n",
       "      <td>2244</td>\n",
       "      <td>1379</td>\n",
       "      <td>2008</td>\n",
       "      <td>2033</td>\n",
       "      <td>2187</td>\n",
       "      <td>2089</td>\n",
       "      <td>...</td>\n",
       "      <td>674</td>\n",
       "      <td>1076</td>\n",
       "      <td>1299</td>\n",
       "      <td>1192</td>\n",
       "      <td>1404</td>\n",
       "      <td>1300</td>\n",
       "      <td>707</td>\n",
       "      <td>1257</td>\n",
       "      <td>1113</td>\n",
       "      <td>956</td>\n",
       "    </tr>\n",
       "  </tbody>\n",
       "</table>\n",
       "<p>5 rows × 44 columns</p>\n",
       "</div>"
      ],
      "text/plain": [
       "states          2020-07-01  2020-07-02  2020-07-03  2020-07-04  2020-07-05  \\\n",
       "state                                                                        \n",
       "Andhra Pradesh           0         845         837         765         998   \n",
       "Uttar Pradesh            0         769         972         757        1153   \n",
       "Odisha                   0         229         561         495         469   \n",
       "Telangana                0        1213        1892        1850        1590   \n",
       "Delhi                    0        2373        2520        2505        2244   \n",
       "\n",
       "states          2020-07-06  2020-07-07  2020-07-08  2020-07-09  2020-07-10  \\\n",
       "state                                                                        \n",
       "Andhra Pradesh        1322        1178        1062        1555        1608   \n",
       "Uttar Pradesh          929        1332        1188        1206        1338   \n",
       "Odisha                 456         571         527         577         755   \n",
       "Telangana             1831        1879        1924        1410        1278   \n",
       "Delhi                 1379        2008        2033        2187        2089   \n",
       "\n",
       "states          ...  2020-08-04  2020-08-05  2020-08-06  2020-08-07  \\\n",
       "state           ...                                                   \n",
       "Andhra Pradesh  ...        9747       10128       10328       10171   \n",
       "Uttar Pradesh   ...        2948        4078        4586        4404   \n",
       "Odisha          ...        1384        1337        1699        1833   \n",
       "Telangana       ...        1286        2012        2092        2207   \n",
       "Delhi           ...         674        1076        1299        1192   \n",
       "\n",
       "states          2020-08-08  2020-08-09  2020-08-10  2020-08-11  2020-08-12  \\\n",
       "state                                                                        \n",
       "Andhra Pradesh       10080       10820        7665        9024        9597   \n",
       "Uttar Pradesh         4660        4571        4113        5041        4475   \n",
       "Odisha                1643        1734        1528        1341        1876   \n",
       "Telangana             2256        1982        1256        1896        1897   \n",
       "Delhi                 1404        1300         707        1257        1113   \n",
       "\n",
       "states          2020-08-13  \n",
       "state                       \n",
       "Andhra Pradesh        9996  \n",
       "Uttar Pradesh         4537  \n",
       "Odisha                1981  \n",
       "Telangana             1931  \n",
       "Delhi                  956  \n",
       "\n",
       "[5 rows x 44 columns]"
      ]
     },
     "execution_count": 18,
     "metadata": {},
     "output_type": "execute_result"
    }
   ],
   "source": [
    "#hide\n",
    "dft_ct_new_cases.head()"
   ]
  },
  {
   "cell_type": "code",
   "execution_count": 19,
   "metadata": {
    "execution": {
     "iopub.execute_input": "2020-08-13T12:52:28.313588Z",
     "iopub.status.busy": "2020-08-13T12:52:28.312826Z",
     "iopub.status.idle": "2020-08-13T12:52:32.480277Z",
     "shell.execute_reply": "2020-08-13T12:52:32.480916Z"
    },
    "papermill": {
     "duration": 4.191575,
     "end_time": "2020-08-13T12:52:32.481090",
     "exception": false,
     "start_time": "2020-08-13T12:52:28.289515",
     "status": "completed"
    },
    "tags": []
   },
   "outputs": [
    {
     "data": {
      "image/png": "[encoded data removed]",
      "text/plain": [
       "<Figure size 1296x2016 with 11 Axes>"
      ]
     },
     "metadata": {
      "needs_background": "light"
     },
     "output_type": "display_data"
    }
   ],
   "source": [
    "#hide_input\n",
    "df = dft_ct_new_cases.copy()\n",
    "df.loc['Total'] = df.sum()\n",
    "n = 5\n",
    "ax = []\n",
    "fig = plt.figure(figsize = (18,28))\n",
    "gs = fig.add_gridspec(n+2, 5)\n",
    "# gs = fig.add_gridspec(2, 3)\n",
    "ax1 = fig.add_subplot(gs[0, :])\n",
    "ef = df.loc['Total'].rename_axis('date').reset_index()\n",
    "ef['date'] = ef['date'].astype('datetime64[ns]')\n",
    "ax1.bar(ef.date,ef.Total,alpha=0.3,color='#007acc')\n",
    "ax1.plot(ef.date,ef.Total , marker=\"o\", color='#007acc')\n",
    "ax1.xaxis.set_major_locator(mdates.WeekdayLocator())\n",
    "ax1.xaxis.set_major_formatter(mdates.DateFormatter('%b %d'))\n",
    "ax1.text(0.02, 0.5,'India daily case count', transform = ax1.transAxes, fontsize=25);\n",
    "ax1.spines['right'].set_visible(False)\n",
    "ax1.spines['top'].set_visible(False)\n",
    "\n",
    "ax2 = fig.add_subplot(gs[1,0])\n",
    "ef = df.loc['Maharashtra'].rename_axis('date').reset_index()\n",
    "ef['date'] = ef['date'].astype('datetime64[ns]')\n",
    "\n",
    "ax2.bar(ef.date, ef.Maharashtra,color = '#007acc',alpha=0.5)\n",
    "ax2.xaxis.set_major_locator(mdates.WeekdayLocator())\n",
    "ax2.xaxis.set_major_formatter(mdates.DateFormatter('%b %d'))\n",
    "ax2.set_xticks(ax2.get_xticks()[::3])\n",
    "maxyval = ef.Maharashtra.max()\n",
    "ax2.set_ylim([0,maxyval])\n",
    "ax2.text(0.05, 0.9,'Maharashtra', transform = ax2.transAxes, fontsize=20);\n",
    "ax2.spines['right'].set_visible(False)\n",
    "ax2.spines['top'].set_visible(False)\n",
    "\n",
    "\n",
    "ax3 = fig.add_subplot(gs[1,1])\n",
    "ef = df.loc['Tamil Nadu'].rename_axis('date').reset_index()\n",
    "ef['date'] = ef['date'].astype('datetime64[ns]')\n",
    "ax3.bar(ef.date, ef['Tamil Nadu'],color = '#007acc',alpha=0.5,)\n",
    "ax3.xaxis.set_major_locator(mdates.WeekdayLocator())\n",
    "ax3.xaxis.set_major_formatter(mdates.DateFormatter('%b %d'))\n",
    "ax3.set_xticks(ax3.get_xticks()[::3])\n",
    "ax3.text(0.05, 0.9,'Tamil Nadu', transform = ax3.transAxes, fontsize=20);\n",
    "ax3.spines['right'].set_visible(False)\n",
    "ax3.spines['top'].set_visible(False)\n",
    "\n",
    "ax5 = fig.add_subplot(gs[1,3])\n",
    "ef = df.loc['Telangana'].rename_axis('date').reset_index()\n",
    "ef['date'] = ef['date'].astype('datetime64[ns]')\n",
    "ax5.bar(ef.date, ef['Telangana'],color = '#007acc',alpha=0.5,)\n",
    "ax5.xaxis.set_major_locator(mdates.WeekdayLocator())\n",
    "ax5.xaxis.set_major_formatter(mdates.DateFormatter('%b %d'))\n",
    "ax5.set_xticks(ax5.get_xticks()[::3])\n",
    "ax5.text(0.05, 0.9,'Telangana', transform = ax5.transAxes, fontsize=20);\n",
    "ax5.spines['right'].set_visible(False)\n",
    "ax5.spines['top'].set_visible(False)\n",
    "\n",
    "ax6 = fig.add_subplot(gs[1,4])\n",
    "ef = df.loc['Andhra Pradesh'].rename_axis('date').reset_index()\n",
    "ef['date'] = ef['date'].astype('datetime64[ns]')\n",
    "ax6.bar(ef.date, ef['Andhra Pradesh'],color = '#007acc',alpha=0.5,)\n",
    "ax6.xaxis.set_major_locator(mdates.WeekdayLocator())\n",
    "ax6.xaxis.set_major_formatter(mdates.DateFormatter('%b %d'))\n",
    "ax6.set_xticks(ax6.get_xticks()[::3])\n",
    "ax6.text(0.05, 1,'Andhra Pradesh', transform = ax6.transAxes, fontsize=20);\n",
    "ax6.spines['right'].set_visible(False)\n",
    "ax6.spines['top'].set_visible(False)\n",
    "\n",
    "ax4 = fig.add_subplot(gs[1,2])\n",
    "ef = df.loc['Delhi'].rename_axis('date').reset_index()\n",
    "ef['date'] = ef['date'].astype('datetime64[ns]')\n",
    "ax4.bar(ef.date, ef.Delhi,color = '#007acc',alpha=0.5)\n",
    "ax4.set_xticks([])\n",
    "ax4.xaxis.set_major_locator(mdates.WeekdayLocator())\n",
    "ax4.xaxis.set_major_formatter(mdates.DateFormatter('%b %d'))\n",
    "ax4.set_xticks(ax4.get_xticks()[::3])\n",
    "ax4.spines['right'].set_visible(False)\n",
    "ax4.spines['top'].set_visible(False)\n",
    "\n",
    "ax4.text(0.05, 1,'Delhi', transform = ax4.transAxes, fontsize=20)\n",
    "\n",
    "for i in range(n):\n",
    "    \n",
    "    ax.append(fig.add_subplot(gs[i+2,:]))\n",
    "    ef = df.iloc[i+3].rename_axis('date').reset_index()\n",
    "    ef['date'] = ef['date'].astype('datetime64[ns]')\n",
    "    ax[i].bar(ef.date,ef.iloc[:,-1],color = '#007acc',alpha=0.3)\n",
    "    ax[i].plot(ef.date,ef.iloc[:,-1],marker='o',color='#007acc')\n",
    "    ax[i].text(0.02,0.5,f'{ef.columns.values[-1]}',transform = ax[i].transAxes, fontsize = 20);\n",
    "    ax[i].xaxis.set_major_locator(mdates.WeekdayLocator())\n",
    "    ax[i].xaxis.set_major_formatter(mdates.DateFormatter('%b %d'))\n",
    "    ax[i].set_ylim([0,7000])\n",
    "    ax[i].spines['right'].set_visible(False)\n",
    "    ax[i].spines['top'].set_visible(False)\n",
    "plt.tight_layout()\n"
   ]
  },
  {
   "cell_type": "code",
   "execution_count": 20,
   "metadata": {
    "execution": {
     "iopub.execute_input": "2020-08-13T12:52:32.541377Z",
     "iopub.status.busy": "2020-08-13T12:52:32.540716Z",
     "iopub.status.idle": "2020-08-13T12:52:32.544457Z",
     "shell.execute_reply": "2020-08-13T12:52:32.543771Z"
    },
    "papermill": {
     "duration": 0.038377,
     "end_time": "2020-08-13T12:52:32.544656",
     "exception": false,
     "start_time": "2020-08-13T12:52:32.506279",
     "status": "completed"
    },
    "tags": []
   },
   "outputs": [
    {
     "name": "stdout",
     "output_type": "stream",
     "text": [
      "                                   states   Cases  Deaths  PCases  PDeaths  Cases (+)  Deaths (+)  Fatality Rate\n",
      "                              Maharashtra  548313   18650  548313    18650          0           0           3.40\n",
      "                               Tamil Nadu  314520    5278  314520     5278          0           0           1.68\n",
      "                           Andhra Pradesh  264142    2378  254146     2296       9996          82           0.90\n",
      "                                Karnataka  196494    3511  196494     3511          0           0           1.79\n",
      "                                    Delhi  149460    4167  148504     4153        956          14           2.79\n",
      "                            Uttar Pradesh  140775    2280  136238     2230       4537          50           1.62\n",
      "                              West Bengal  104326    2203  104326     2203          0           0           2.11\n",
      "                                    Bihar   90553     474   90553      474          0           0           0.52\n",
      "                                Telangana   86475     665   84544      654       1931          11           0.77\n",
      "                                  Gujarat   74390    2713   74390     2713          0           0           3.65\n",
      "                                    Assam   69000     161   69000      161          0           0           0.23\n",
      "                                Rajasthan   56708     833   56100      822        608          11           1.47\n",
      "                                   Odisha   52653     367   50672      358       1981           9           0.70\n",
      "                                  Haryana   44024     503   44024      503          0           0           1.14\n",
      "                           Madhya Pradesh   41604    1048   41604     1048          0           0           2.52\n",
      "                                   Kerala   38144     127   38144      127          0           0           0.33\n",
      "                                   Punjab   26909     675   26909      675          0           0           2.51\n",
      "                        Jammu and Kashmir   26413     498   26413      498          0           0           1.89\n",
      "                                Jharkhand   20321     204   20257      202         64           2           1.00\n",
      "                             Chhattisgarh   13552     109   13552      109          0           0           0.80\n",
      "                              Uttarakhand   10886     140   10886      140          0           0           1.29\n",
      "                                      Goa    9924      89    9924       89          0           0           0.90\n",
      "                               Puducherry    6686     102    6381       96        305           6           1.53\n",
      "                                  Tripura    6618      44    6497       43        121           1           0.66\n",
      "                                  Manipur    3982      12    3982       12          0           0           0.30\n",
      "                         Himachal Pradesh    3744      18    3636       17        108           1           0.48\n",
      "                                 Nagaland    3168       7    3118        7         50           0           0.22\n",
      "                        Arunachal Pradesh    2430       3    2430        3          0           0           0.12\n",
      "              Andaman and Nicobar Islands    1900      21    1900       21          0           0           1.11\n",
      "                                   Ladakh    1811       9    1811        9          0           0           0.50\n",
      "                               Chandigarh    1751      27    1751       27          0           0           1.54\n",
      " Dadra and Nagar Haveli and Daman and Diu    1723       2    1695        2         28           0           0.12\n",
      "                                Meghalaya    1191       6    1179        6         12           0           0.50\n",
      "                                   Sikkim     930       1     930        1          0           0           0.11\n",
      "                                  Mizoram     649       0     648        0          1           0           0.00\n",
      "                              Lakshadweep       0       0       0        0          0           0            NaN\n"
     ]
    }
   ],
   "source": [
    "#hide_input\n",
    "print(df_table.to_string(index=False))"
   ]
  },
  {
   "cell_type": "code",
   "execution_count": null,
   "metadata": {
    "papermill": {
     "duration": 0.024236,
     "end_time": "2020-08-13T12:52:32.593495",
     "exception": false,
     "start_time": "2020-08-13T12:52:32.569259",
     "status": "completed"
    },
    "tags": []
   },
   "outputs": [],
   "source": []
  },
  {
   "cell_type": "code",
   "execution_count": null,
   "metadata": {
    "papermill": {
     "duration": 0.024621,
     "end_time": "2020-08-13T12:52:32.641961",
     "exception": false,
     "start_time": "2020-08-13T12:52:32.617340",
     "status": "completed"
    },
    "tags": []
   },
   "outputs": [],
   "source": []
  }
 ],
 "metadata": {
  "kernelspec": {
   "display_name": "Python 3",
   "language": "python",
   "name": "python3"
  },
  "language_info": {
   "codemirror_mode": {
    "name": "ipython",
    "version": 3
   },
   "file_extension": ".py",
   "mimetype": "text/x-python",
   "name": "python",
   "nbconvert_exporter": "python",
   "pygments_lexer": "ipython3",
   "version": "3.6.11"
  },
  "papermill": {
   "duration": 9.279092,
   "end_time": "2020-08-13T12:52:33.074430",
   "environment_variables": {},
   "exception": null,
   "input_path": "latest.ipynb",
   "output_path": "latest.ipynb",
   "parameters": {},
   "start_time": "2020-08-13T12:52:23.795338",
   "version": "2.1.2"
  }
 },
 "nbformat": 4,
 "nbformat_minor": 4
}