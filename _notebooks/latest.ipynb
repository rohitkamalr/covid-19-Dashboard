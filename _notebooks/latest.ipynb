{
 "cells": [
  {
   "cell_type": "markdown",
   "id": "colored-stack",
   "metadata": {
    "papermill": {
     "duration": 0.024048,
     "end_time": "2021-01-21T14:21:20.338393",
     "exception": false,
     "start_time": "2021-01-21T14:21:20.314345",
     "status": "completed"
    },
    "tags": []
   },
   "source": [
    "# Latest COVID-19 India Matplotlib Overview"
   ]
  },
  {
   "cell_type": "code",
   "execution_count": 1,
   "id": "light-proportion",
   "metadata": {
    "execution": {
     "iopub.execute_input": "2021-01-21T14:21:20.393068Z",
     "iopub.status.busy": "2021-01-21T14:21:20.392418Z",
     "iopub.status.idle": "2021-01-21T14:21:21.056512Z",
     "shell.execute_reply": "2021-01-21T14:21:21.055873Z"
    },
    "papermill": {
     "duration": 0.696711,
     "end_time": "2021-01-21T14:21:21.056684",
     "exception": false,
     "start_time": "2021-01-21T14:21:20.359973",
     "status": "completed"
    },
    "tags": []
   },
   "outputs": [],
   "source": [
    "#hide\n",
    "import pandas as pd\n",
    "import numpy as np\n",
    "import requests\n",
    "import json\n",
    "import matplotlib.pyplot as plt\n",
    "import matplotlib.dates as mdates\n",
    "import matplotlib as mpl\n",
    "from IPython.core.display import display,HTML\n",
    "%matplotlib inline\n",
    "from datetime import date"
   ]
  },
  {
   "cell_type": "code",
   "execution_count": 2,
   "id": "greenhouse-shooting",
   "metadata": {
    "execution": {
     "iopub.execute_input": "2021-01-21T14:21:21.106453Z",
     "iopub.status.busy": "2021-01-21T14:21:21.105059Z",
     "iopub.status.idle": "2021-01-21T14:21:21.299881Z",
     "shell.execute_reply": "2021-01-21T14:21:21.299250Z"
    },
    "papermill": {
     "duration": 0.22309,
     "end_time": "2021-01-21T14:21:21.300040",
     "exception": false,
     "start_time": "2021-01-21T14:21:21.076950",
     "status": "completed"
    },
    "tags": []
   },
   "outputs": [],
   "source": [
    "#hide\n",
    "df  = pd.read_csv('https://api.covid19india.org/csv/latest/states.csv')\n",
    "df = df[['Date','State','Confirmed','Deceased']]\n",
    "df = df.rename(columns={'Confirmed':'Cases', \"Deceased\":'Deaths'})\n",
    "df_cases = df[[\"Date\",'State','Cases']]\n",
    "df_deaths = df[['Date','State','Deaths']]\n",
    "df_cases1 = df_cases.groupby('Date')\n",
    "df_deaths1= df_deaths.groupby('Date')"
   ]
  },
  {
   "cell_type": "code",
   "execution_count": 3,
   "id": "hybrid-cathedral",
   "metadata": {
    "execution": {
     "iopub.execute_input": "2021-01-21T14:21:21.351940Z",
     "iopub.status.busy": "2021-01-21T14:21:21.351087Z",
     "iopub.status.idle": "2021-01-21T14:21:21.376911Z",
     "shell.execute_reply": "2021-01-21T14:21:21.376110Z"
    },
    "papermill": {
     "duration": 0.05412,
     "end_time": "2021-01-21T14:21:21.377055",
     "exception": false,
     "start_time": "2021-01-21T14:21:21.322935",
     "status": "completed"
    },
    "tags": []
   },
   "outputs": [],
   "source": [
    "#hide\n",
    "df_snap = pd.read_csv('data/SnapshotCases-28-July.csv')\n",
    "arr_states = df_snap['states'].unique()\n",
    "arr_dates = df['Date'].unique()\n",
    "df_snap = df_snap.set_index('states')"
   ]
  },
  {
   "cell_type": "code",
   "execution_count": 4,
   "id": "interior-belfast",
   "metadata": {
    "execution": {
     "iopub.execute_input": "2021-01-21T14:21:21.429458Z",
     "iopub.status.busy": "2021-01-21T14:21:21.428615Z",
     "iopub.status.idle": "2021-01-21T14:21:21.434004Z",
     "shell.execute_reply": "2021-01-21T14:21:21.433390Z"
    },
    "papermill": {
     "duration": 0.035317,
     "end_time": "2021-01-21T14:21:21.434139",
     "exception": false,
     "start_time": "2021-01-21T14:21:21.398822",
     "status": "completed"
    },
    "tags": []
   },
   "outputs": [
    {
     "data": {
      "text/plain": [
       "array(['Andaman and Nicobar Islands', 'Andhra Pradesh',\n",
       "       'Arunachal Pradesh', 'Assam', 'Bihar', 'Chandigarh',\n",
       "       'Dadra and Nagar Haveli and Daman and Diu', 'Delhi', 'Goa',\n",
       "       'Gujarat', 'Haryana', 'Himachal Pradesh', 'Jammu and Kashmir',\n",
       "       'Jharkhand', 'Karnataka', 'Kerala', 'Lakshadweep',\n",
       "       'Madhya Pradesh', 'Maharashtra', 'Manipur', 'Meghalaya', 'Mizoram',\n",
       "       'Nagaland', 'Odisha', 'Puducherry', 'Punjab', 'Rajasthan',\n",
       "       'Sikkim', 'Tamil Nadu', 'Telangana', 'Tripura', 'Uttar Pradesh',\n",
       "       'West Bengal', 'Chhattisgarh', 'Ladakh', 'Uttarakhand'],\n",
       "      dtype=object)"
      ]
     },
     "execution_count": 4,
     "metadata": {},
     "output_type": "execute_result"
    }
   ],
   "source": [
    "#hide\n",
    "arr_states[-9] = 'Puducherry'\n",
    "arr_states[-10] = 'Odisha'\n",
    "arr_states[6] = 'Dadra and Nagar Haveli and Daman and Diu'\n",
    "arr_states = np.append(arr_states,np.array(['Chhattisgarh','Ladakh','Uttarakhand']))\n",
    "arr_states"
   ]
  },
  {
   "cell_type": "code",
   "execution_count": 5,
   "id": "behind-manner",
   "metadata": {
    "execution": {
     "iopub.execute_input": "2021-01-21T14:21:21.493476Z",
     "iopub.status.busy": "2021-01-21T14:21:21.492807Z",
     "iopub.status.idle": "2021-01-21T14:21:21.502451Z",
     "shell.execute_reply": "2021-01-21T14:21:21.503183Z"
    },
    "papermill": {
     "duration": 0.044745,
     "end_time": "2021-01-21T14:21:21.503489",
     "exception": false,
     "start_time": "2021-01-21T14:21:21.458744",
     "status": "completed"
    },
    "tags": []
   },
   "outputs": [],
   "source": [
    "#hide\n",
    "dates = []\n",
    "for i in arr_dates:\n",
    "    if i>='2020-07-01':\n",
    "        dates.append(i)\n",
    "dict = {'states':dates}\n",
    "for i in arr_states:\n",
    "    dict[i] = [0]*len(dates)\n",
    "dft_cases = pd.DataFrame(dict)\n",
    "dft_deaths = pd.DataFrame(dict)\n"
   ]
  },
  {
   "cell_type": "code",
   "execution_count": 6,
   "id": "simplified-peter",
   "metadata": {
    "execution": {
     "iopub.execute_input": "2021-01-21T14:21:21.555098Z",
     "iopub.status.busy": "2021-01-21T14:21:21.554299Z",
     "iopub.status.idle": "2021-01-21T14:21:25.745321Z",
     "shell.execute_reply": "2021-01-21T14:21:25.744613Z"
    },
    "papermill": {
     "duration": 4.220214,
     "end_time": "2021-01-21T14:21:25.745501",
     "exception": false,
     "start_time": "2021-01-21T14:21:21.525287",
     "status": "completed"
    },
    "tags": []
   },
   "outputs": [],
   "source": [
    "#hide\n",
    "for i in range(len(dates)):\n",
    "    df1_deaths = df_deaths1.get_group(dates[i])\n",
    "    for j in range(len(df1_deaths.index)):\n",
    "        if df1_deaths.iloc[j,1] in arr_states:\n",
    "            dft_deaths.loc[i,df1_deaths.iloc[j,1]] = df1_deaths.iloc[j,2]\n",
    "dft_deaths = dft_deaths.set_index('states')"
   ]
  },
  {
   "cell_type": "code",
   "execution_count": 7,
   "id": "geological-welding",
   "metadata": {
    "execution": {
     "iopub.execute_input": "2021-01-21T14:21:25.799350Z",
     "iopub.status.busy": "2021-01-21T14:21:25.798547Z",
     "iopub.status.idle": "2021-01-21T14:21:29.940243Z",
     "shell.execute_reply": "2021-01-21T14:21:29.939365Z"
    },
    "papermill": {
     "duration": 4.173351,
     "end_time": "2021-01-21T14:21:29.940429",
     "exception": false,
     "start_time": "2021-01-21T14:21:25.767078",
     "status": "completed"
    },
    "tags": []
   },
   "outputs": [],
   "source": [
    "#hide\n",
    "for i in range(len(dates)):\n",
    "    df1_cases = df_cases1.get_group(dates[i])\n",
    "    for j in range(len(df1_cases.index)):\n",
    "        if df1_cases.iloc[j,1] in arr_states:\n",
    "            dft_cases.loc[i,df1_cases.iloc[j,1]] = df1_cases.iloc[j,2]\n",
    "dft_cases = dft_cases.set_index('states')"
   ]
  },
  {
   "cell_type": "code",
   "execution_count": 8,
   "id": "binary-ratio",
   "metadata": {
    "execution": {
     "iopub.execute_input": "2021-01-21T14:21:29.989760Z",
     "iopub.status.busy": "2021-01-21T14:21:29.988985Z",
     "iopub.status.idle": "2021-01-21T14:21:29.991028Z",
     "shell.execute_reply": "2021-01-21T14:21:29.991673Z"
    },
    "papermill": {
     "duration": 0.029347,
     "end_time": "2021-01-21T14:21:29.991882",
     "exception": false,
     "start_time": "2021-01-21T14:21:29.962535",
     "status": "completed"
    },
    "tags": []
   },
   "outputs": [],
   "source": [
    "#hide\n",
    "dft_cases = dft_cases.T\n",
    "dft_deaths = dft_deaths.T\n",
    "dt_today = dates[-1]\n",
    "dt_yday = dates[-2]"
   ]
  },
  {
   "cell_type": "code",
   "execution_count": 9,
   "id": "boolean-calculator",
   "metadata": {
    "execution": {
     "iopub.execute_input": "2021-01-21T14:21:30.039105Z",
     "iopub.status.busy": "2021-01-21T14:21:30.038279Z",
     "iopub.status.idle": "2021-01-21T14:21:30.044204Z",
     "shell.execute_reply": "2021-01-21T14:21:30.043557Z"
    },
    "papermill": {
     "duration": 0.032504,
     "end_time": "2021-01-21T14:21:30.044394",
     "exception": false,
     "start_time": "2021-01-21T14:21:30.011890",
     "status": "completed"
    },
    "tags": []
   },
   "outputs": [],
   "source": [
    "#hide\n",
    "dft_cases = dft_cases.reset_index()\n",
    "dft_deaths = dft_deaths.reset_index()\n",
    "dft_cases = dft_cases.rename(columns = {'index':'state'})\n",
    "dft_deaths = dft_deaths.rename(columns = {'index':'state'})"
   ]
  },
  {
   "cell_type": "code",
   "execution_count": 10,
   "id": "invisible-johnston",
   "metadata": {
    "execution": {
     "iopub.execute_input": "2021-01-21T14:21:30.101317Z",
     "iopub.status.busy": "2021-01-21T14:21:30.100553Z",
     "iopub.status.idle": "2021-01-21T14:21:30.107054Z",
     "shell.execute_reply": "2021-01-21T14:21:30.107653Z"
    },
    "papermill": {
     "duration": 0.037818,
     "end_time": "2021-01-21T14:21:30.107828",
     "exception": false,
     "start_time": "2021-01-21T14:21:30.070010",
     "status": "completed"
    },
    "tags": []
   },
   "outputs": [],
   "source": [
    "#hide\n",
    "dfc_cases = dft_cases.groupby('state')[dt_today].sum()\n",
    "dfc_deaths = dft_deaths.groupby('state')[dt_today].sum()\n",
    "dfp_cases = dft_cases.groupby('state')[dt_yday].sum()\n",
    "dfp_deaths = dft_deaths.groupby('state')[dt_yday].sum()"
   ]
  },
  {
   "cell_type": "code",
   "execution_count": 11,
   "id": "measured-great",
   "metadata": {
    "execution": {
     "iopub.execute_input": "2021-01-21T14:21:30.160767Z",
     "iopub.status.busy": "2021-01-21T14:21:30.160076Z",
     "iopub.status.idle": "2021-01-21T14:21:30.174162Z",
     "shell.execute_reply": "2021-01-21T14:21:30.173458Z"
    },
    "papermill": {
     "duration": 0.044784,
     "end_time": "2021-01-21T14:21:30.174490",
     "exception": false,
     "start_time": "2021-01-21T14:21:30.129706",
     "status": "completed"
    },
    "tags": []
   },
   "outputs": [
    {
     "data": {
      "text/html": [
       "<div>\n",
       "<style scoped>\n",
       "    .dataframe tbody tr th:only-of-type {\n",
       "        vertical-align: middle;\n",
       "    }\n",
       "\n",
       "    .dataframe tbody tr th {\n",
       "        vertical-align: top;\n",
       "    }\n",
       "\n",
       "    .dataframe thead th {\n",
       "        text-align: right;\n",
       "    }\n",
       "</style>\n",
       "<table border=\"1\" class=\"dataframe\">\n",
       "  <thead>\n",
       "    <tr style=\"text-align: right;\">\n",
       "      <th></th>\n",
       "      <th>states</th>\n",
       "      <th>Cases</th>\n",
       "      <th>Deaths</th>\n",
       "      <th>PCases</th>\n",
       "      <th>PDeaths</th>\n",
       "    </tr>\n",
       "  </thead>\n",
       "  <tbody>\n",
       "    <tr>\n",
       "      <th>0</th>\n",
       "      <td>Maharashtra</td>\n",
       "      <td>1997992</td>\n",
       "      <td>50582</td>\n",
       "      <td>1997992</td>\n",
       "      <td>50582</td>\n",
       "    </tr>\n",
       "    <tr>\n",
       "      <th>1</th>\n",
       "      <td>Karnataka</td>\n",
       "      <td>933578</td>\n",
       "      <td>12185</td>\n",
       "      <td>933578</td>\n",
       "      <td>12185</td>\n",
       "    </tr>\n",
       "    <tr>\n",
       "      <th>2</th>\n",
       "      <td>Andhra Pradesh</td>\n",
       "      <td>886418</td>\n",
       "      <td>7142</td>\n",
       "      <td>886418</td>\n",
       "      <td>7142</td>\n",
       "    </tr>\n",
       "    <tr>\n",
       "      <th>3</th>\n",
       "      <td>Kerala</td>\n",
       "      <td>864196</td>\n",
       "      <td>3525</td>\n",
       "      <td>864196</td>\n",
       "      <td>3525</td>\n",
       "    </tr>\n",
       "    <tr>\n",
       "      <th>4</th>\n",
       "      <td>Tamil Nadu</td>\n",
       "      <td>832415</td>\n",
       "      <td>12290</td>\n",
       "      <td>832415</td>\n",
       "      <td>12290</td>\n",
       "    </tr>\n",
       "  </tbody>\n",
       "</table>\n",
       "</div>"
      ],
      "text/plain": [
       "           states    Cases  Deaths   PCases  PDeaths\n",
       "0     Maharashtra  1997992   50582  1997992    50582\n",
       "1       Karnataka   933578   12185   933578    12185\n",
       "2  Andhra Pradesh   886418    7142   886418     7142\n",
       "3          Kerala   864196    3525   864196     3525\n",
       "4      Tamil Nadu   832415   12290   832415    12290"
      ]
     },
     "execution_count": 11,
     "metadata": {},
     "output_type": "execute_result"
    }
   ],
   "source": [
    "#hide\n",
    "df_table = pd.DataFrame({'states': dfc_cases.index, 'Cases': dfc_cases.values, 'Deaths': dfc_deaths.values, 'PCases': dfp_cases.values, 'PDeaths': dfp_deaths.values}).set_index('states')\n",
    "df_table = df_table.sort_values(by = ['Cases','Deaths'], ascending = [False, False])\n",
    "df_table = df_table.reset_index()\n",
    "df_table.head()"
   ]
  },
  {
   "cell_type": "code",
   "execution_count": 12,
   "id": "found-montreal",
   "metadata": {
    "execution": {
     "iopub.execute_input": "2021-01-21T14:21:30.227668Z",
     "iopub.status.busy": "2021-01-21T14:21:30.226896Z",
     "iopub.status.idle": "2021-01-21T14:21:30.236095Z",
     "shell.execute_reply": "2021-01-21T14:21:30.236739Z"
    },
    "papermill": {
     "duration": 0.036005,
     "end_time": "2021-01-21T14:21:30.237013",
     "exception": false,
     "start_time": "2021-01-21T14:21:30.201008",
     "status": "completed"
    },
    "tags": []
   },
   "outputs": [],
   "source": [
    "#hide\n",
    "for c in 'Cases, Deaths'.split(', '):\n",
    "    df_table[f'{c} (+)'] = (df_table[c] - df_table[f'P{c}']).clip(0)\n",
    "df_table['Fatality Rate'] = (100* df_table['Deaths']/ df_table['Cases']).round(2)"
   ]
  },
  {
   "cell_type": "code",
   "execution_count": 13,
   "id": "minus-savage",
   "metadata": {
    "execution": {
     "iopub.execute_input": "2021-01-21T14:21:30.297107Z",
     "iopub.status.busy": "2021-01-21T14:21:30.296271Z",
     "iopub.status.idle": "2021-01-21T14:21:30.302909Z",
     "shell.execute_reply": "2021-01-21T14:21:30.303547Z"
    },
    "papermill": {
     "duration": 0.044544,
     "end_time": "2021-01-21T14:21:30.303869",
     "exception": false,
     "start_time": "2021-01-21T14:21:30.259325",
     "status": "completed"
    },
    "tags": []
   },
   "outputs": [
    {
     "data": {
      "text/html": [
       "<div>\n",
       "<style scoped>\n",
       "    .dataframe tbody tr th:only-of-type {\n",
       "        vertical-align: middle;\n",
       "    }\n",
       "\n",
       "    .dataframe tbody tr th {\n",
       "        vertical-align: top;\n",
       "    }\n",
       "\n",
       "    .dataframe thead th {\n",
       "        text-align: right;\n",
       "    }\n",
       "</style>\n",
       "<table border=\"1\" class=\"dataframe\">\n",
       "  <thead>\n",
       "    <tr style=\"text-align: right;\">\n",
       "      <th></th>\n",
       "      <th>states</th>\n",
       "      <th>Cases</th>\n",
       "      <th>Deaths</th>\n",
       "      <th>PCases</th>\n",
       "      <th>PDeaths</th>\n",
       "      <th>Cases (+)</th>\n",
       "      <th>Deaths (+)</th>\n",
       "      <th>Fatality Rate</th>\n",
       "    </tr>\n",
       "  </thead>\n",
       "  <tbody>\n",
       "    <tr>\n",
       "      <th>0</th>\n",
       "      <td>Maharashtra</td>\n",
       "      <td>1997992</td>\n",
       "      <td>50582</td>\n",
       "      <td>1997992</td>\n",
       "      <td>50582</td>\n",
       "      <td>0</td>\n",
       "      <td>0</td>\n",
       "      <td>2.53</td>\n",
       "    </tr>\n",
       "    <tr>\n",
       "      <th>1</th>\n",
       "      <td>Karnataka</td>\n",
       "      <td>933578</td>\n",
       "      <td>12185</td>\n",
       "      <td>933578</td>\n",
       "      <td>12185</td>\n",
       "      <td>0</td>\n",
       "      <td>0</td>\n",
       "      <td>1.31</td>\n",
       "    </tr>\n",
       "    <tr>\n",
       "      <th>2</th>\n",
       "      <td>Andhra Pradesh</td>\n",
       "      <td>886418</td>\n",
       "      <td>7142</td>\n",
       "      <td>886418</td>\n",
       "      <td>7142</td>\n",
       "      <td>0</td>\n",
       "      <td>0</td>\n",
       "      <td>0.81</td>\n",
       "    </tr>\n",
       "    <tr>\n",
       "      <th>3</th>\n",
       "      <td>Kerala</td>\n",
       "      <td>864196</td>\n",
       "      <td>3525</td>\n",
       "      <td>864196</td>\n",
       "      <td>3525</td>\n",
       "      <td>0</td>\n",
       "      <td>0</td>\n",
       "      <td>0.41</td>\n",
       "    </tr>\n",
       "    <tr>\n",
       "      <th>4</th>\n",
       "      <td>Tamil Nadu</td>\n",
       "      <td>832415</td>\n",
       "      <td>12290</td>\n",
       "      <td>832415</td>\n",
       "      <td>12290</td>\n",
       "      <td>0</td>\n",
       "      <td>0</td>\n",
       "      <td>1.48</td>\n",
       "    </tr>\n",
       "  </tbody>\n",
       "</table>\n",
       "</div>"
      ],
      "text/plain": [
       "           states    Cases  Deaths   PCases  PDeaths  Cases (+)  Deaths (+)  \\\n",
       "0     Maharashtra  1997992   50582  1997992    50582          0           0   \n",
       "1       Karnataka   933578   12185   933578    12185          0           0   \n",
       "2  Andhra Pradesh   886418    7142   886418     7142          0           0   \n",
       "3          Kerala   864196    3525   864196     3525          0           0   \n",
       "4      Tamil Nadu   832415   12290   832415    12290          0           0   \n",
       "\n",
       "   Fatality Rate  \n",
       "0           2.53  \n",
       "1           1.31  \n",
       "2           0.81  \n",
       "3           0.41  \n",
       "4           1.48  "
      ]
     },
     "execution_count": 13,
     "metadata": {},
     "output_type": "execute_result"
    }
   ],
   "source": [
    "#hide\n",
    "df_table.head()"
   ]
  },
  {
   "cell_type": "code",
   "execution_count": 14,
   "id": "false-peter",
   "metadata": {
    "execution": {
     "iopub.execute_input": "2021-01-21T14:21:30.389202Z",
     "iopub.status.busy": "2021-01-21T14:21:30.388344Z",
     "iopub.status.idle": "2021-01-21T14:21:30.404838Z",
     "shell.execute_reply": "2021-01-21T14:21:30.405772Z"
    },
    "papermill": {
     "duration": 0.073057,
     "end_time": "2021-01-21T14:21:30.405952",
     "exception": false,
     "start_time": "2021-01-21T14:21:30.332895",
     "status": "completed"
    },
    "tags": []
   },
   "outputs": [
    {
     "data": {
      "text/plain": [
       "{'updated': '2021-01-21',\n",
       " 'since': '2021-01-20',\n",
       " 'Cases': 10611728,\n",
       " 'PCases': 10611728,\n",
       " 'Deaths': 152906,\n",
       " 'PDeaths': 152906,\n",
       " 'Cases (+)': 0,\n",
       " 'Deaths (+)': 0}"
      ]
     },
     "execution_count": 14,
     "metadata": {},
     "output_type": "execute_result"
    }
   ],
   "source": [
    "#hide\n",
    "summary = {'updated':dates[-1], 'since':dates[-2]}\n",
    "list_names = ['Cases', 'PCases', 'Deaths', 'PDeaths', 'Cases (+)', 'Deaths (+)']\n",
    "for name in list_names:\n",
    "    summary[name] = df_table.sum()[name]\n",
    "summary"
   ]
  },
  {
   "cell_type": "code",
   "execution_count": 15,
   "id": "packed-viewer",
   "metadata": {
    "execution": {
     "iopub.execute_input": "2021-01-21T14:21:30.899933Z",
     "iopub.status.busy": "2021-01-21T14:21:30.899017Z",
     "iopub.status.idle": "2021-01-21T14:21:30.901268Z",
     "shell.execute_reply": "2021-01-21T14:21:30.901828Z"
    },
    "papermill": {
     "duration": 0.422444,
     "end_time": "2021-01-21T14:21:30.902015",
     "exception": false,
     "start_time": "2021-01-21T14:21:30.479571",
     "status": "completed"
    },
    "tags": []
   },
   "outputs": [],
   "source": [
    "#hide\n",
    "overview = '''\n",
    "<!-- #######  HTML!! #########-->\n",
    "<h1 style=\"color: #5e9ca0; text-align: center;\">India</h1>\n",
    "<p style=\"text-align: center;\">Last update: <strong>{update}</strong></p>\n",
    "<p style=\"text-align: center;\">Confirmed cases:</p>\n",
    "<p style=\"text-align: center;font-size:24px;\">{cases} (<span style=\"color: #ff0000;\">+{new}</span>)</p>\n",
    "<p style=\"text-align: center;\">Confirmed deaths:</p>\n",
    "<p style=\"text-align: center;font-size:24px;\">{deaths} (<span style=\"color: #ff0000;\">+{dnew}</span>)</p>\n",
    "'''"
   ]
  },
  {
   "cell_type": "code",
   "execution_count": 16,
   "id": "phantom-lover",
   "metadata": {
    "execution": {
     "iopub.execute_input": "2021-01-21T14:21:31.226959Z",
     "iopub.status.busy": "2021-01-21T14:21:31.226273Z",
     "iopub.status.idle": "2021-01-21T14:21:31.230527Z",
     "shell.execute_reply": "2021-01-21T14:21:31.231118Z"
    },
    "papermill": {
     "duration": 0.037678,
     "end_time": "2021-01-21T14:21:31.231284",
     "exception": false,
     "start_time": "2021-01-21T14:21:31.193606",
     "status": "completed"
    },
    "tags": []
   },
   "outputs": [
    {
     "data": {
      "text/html": [
       "\n",
       "<!-- #######  HTML!! #########-->\n",
       "<h1 style=\"color: #5e9ca0; text-align: center;\">India</h1>\n",
       "<p style=\"text-align: center;\">Last update: <strong>2021-01-21</strong></p>\n",
       "<p style=\"text-align: center;\">Confirmed cases:</p>\n",
       "<p style=\"text-align: center;font-size:24px;\">10611728 (<span style=\"color: #ff0000;\">+0</span>)</p>\n",
       "<p style=\"text-align: center;\">Confirmed deaths:</p>\n",
       "<p style=\"text-align: center;font-size:24px;\">152906 (<span style=\"color: #ff0000;\">+0</span>)</p>\n"
      ],
      "text/plain": [
       "<IPython.core.display.HTML object>"
      ]
     },
     "metadata": {},
     "output_type": "display_data"
    }
   ],
   "source": [
    "#hide_input\n",
    "update = summary['updated']\n",
    "cases = summary['Cases']\n",
    "new = summary['Cases (+)']\n",
    "deaths = summary['Deaths']\n",
    "dnew = summary['Deaths (+)']\n",
    "\n",
    "html = HTML(overview.format(update=update, cases=cases,new=new,deaths=deaths,dnew=dnew))\n",
    "\n",
    "display(html)"
   ]
  },
  {
   "cell_type": "code",
   "execution_count": 17,
   "id": "sealed-reset",
   "metadata": {
    "execution": {
     "iopub.execute_input": "2021-01-21T14:21:31.401334Z",
     "iopub.status.busy": "2021-01-21T14:21:31.400564Z",
     "iopub.status.idle": "2021-01-21T14:21:31.413731Z",
     "shell.execute_reply": "2021-01-21T14:21:31.413124Z"
    },
    "papermill": {
     "duration": 0.129437,
     "end_time": "2021-01-21T14:21:31.413882",
     "exception": false,
     "start_time": "2021-01-21T14:21:31.284445",
     "status": "completed"
    },
    "tags": []
   },
   "outputs": [],
   "source": [
    "#hide\n",
    "dt_cols = list(dft_cases.columns[1:])\n",
    "dft_ct_new_cases = dft_cases.groupby('state')[dt_cols].sum().diff(axis=1).fillna(0).astype(int)\n",
    "dft_ct_new_cases.sort_values(by = dates[-1], ascending = False,inplace = True)"
   ]
  },
  {
   "cell_type": "code",
   "execution_count": 18,
   "id": "designed-constant",
   "metadata": {
    "execution": {
     "iopub.execute_input": "2021-01-21T14:21:31.476879Z",
     "iopub.status.busy": "2021-01-21T14:21:31.476213Z",
     "iopub.status.idle": "2021-01-21T14:21:31.490484Z",
     "shell.execute_reply": "2021-01-21T14:21:31.489842Z"
    },
    "papermill": {
     "duration": 0.052174,
     "end_time": "2021-01-21T14:21:31.490731",
     "exception": false,
     "start_time": "2021-01-21T14:21:31.438557",
     "status": "completed"
    },
    "tags": []
   },
   "outputs": [
    {
     "data": {
      "text/html": [
       "<div>\n",
       "<style scoped>\n",
       "    .dataframe tbody tr th:only-of-type {\n",
       "        vertical-align: middle;\n",
       "    }\n",
       "\n",
       "    .dataframe tbody tr th {\n",
       "        vertical-align: top;\n",
       "    }\n",
       "\n",
       "    .dataframe thead th {\n",
       "        text-align: right;\n",
       "    }\n",
       "</style>\n",
       "<table border=\"1\" class=\"dataframe\">\n",
       "  <thead>\n",
       "    <tr style=\"text-align: right;\">\n",
       "      <th>states</th>\n",
       "      <th>2020-07-01</th>\n",
       "      <th>2020-07-02</th>\n",
       "      <th>2020-07-03</th>\n",
       "      <th>2020-07-04</th>\n",
       "      <th>2020-07-05</th>\n",
       "      <th>2020-07-06</th>\n",
       "      <th>2020-07-07</th>\n",
       "      <th>2020-07-08</th>\n",
       "      <th>2020-07-09</th>\n",
       "      <th>2020-07-10</th>\n",
       "      <th>...</th>\n",
       "      <th>2021-01-12</th>\n",
       "      <th>2021-01-13</th>\n",
       "      <th>2021-01-14</th>\n",
       "      <th>2021-01-15</th>\n",
       "      <th>2021-01-16</th>\n",
       "      <th>2021-01-17</th>\n",
       "      <th>2021-01-18</th>\n",
       "      <th>2021-01-19</th>\n",
       "      <th>2021-01-20</th>\n",
       "      <th>2021-01-21</th>\n",
       "    </tr>\n",
       "    <tr>\n",
       "      <th>state</th>\n",
       "      <th></th>\n",
       "      <th></th>\n",
       "      <th></th>\n",
       "      <th></th>\n",
       "      <th></th>\n",
       "      <th></th>\n",
       "      <th></th>\n",
       "      <th></th>\n",
       "      <th></th>\n",
       "      <th></th>\n",
       "      <th></th>\n",
       "      <th></th>\n",
       "      <th></th>\n",
       "      <th></th>\n",
       "      <th></th>\n",
       "      <th></th>\n",
       "      <th></th>\n",
       "      <th></th>\n",
       "      <th></th>\n",
       "      <th></th>\n",
       "      <th></th>\n",
       "    </tr>\n",
       "  </thead>\n",
       "  <tbody>\n",
       "    <tr>\n",
       "      <th>Andaman and Nicobar Islands</th>\n",
       "      <td>0</td>\n",
       "      <td>9</td>\n",
       "      <td>7</td>\n",
       "      <td>3</td>\n",
       "      <td>6</td>\n",
       "      <td>16</td>\n",
       "      <td>6</td>\n",
       "      <td>2</td>\n",
       "      <td>7</td>\n",
       "      <td>0</td>\n",
       "      <td>...</td>\n",
       "      <td>3</td>\n",
       "      <td>3</td>\n",
       "      <td>7</td>\n",
       "      <td>3</td>\n",
       "      <td>3</td>\n",
       "      <td>1</td>\n",
       "      <td>5</td>\n",
       "      <td>1</td>\n",
       "      <td>2</td>\n",
       "      <td>0</td>\n",
       "    </tr>\n",
       "    <tr>\n",
       "      <th>Andhra Pradesh</th>\n",
       "      <td>0</td>\n",
       "      <td>845</td>\n",
       "      <td>837</td>\n",
       "      <td>765</td>\n",
       "      <td>998</td>\n",
       "      <td>1322</td>\n",
       "      <td>1178</td>\n",
       "      <td>1062</td>\n",
       "      <td>1555</td>\n",
       "      <td>1608</td>\n",
       "      <td>...</td>\n",
       "      <td>197</td>\n",
       "      <td>203</td>\n",
       "      <td>179</td>\n",
       "      <td>94</td>\n",
       "      <td>114</td>\n",
       "      <td>161</td>\n",
       "      <td>81</td>\n",
       "      <td>179</td>\n",
       "      <td>173</td>\n",
       "      <td>0</td>\n",
       "    </tr>\n",
       "    <tr>\n",
       "      <th>Maharashtra</th>\n",
       "      <td>0</td>\n",
       "      <td>6328</td>\n",
       "      <td>6364</td>\n",
       "      <td>7074</td>\n",
       "      <td>6555</td>\n",
       "      <td>5368</td>\n",
       "      <td>5134</td>\n",
       "      <td>6603</td>\n",
       "      <td>6875</td>\n",
       "      <td>7862</td>\n",
       "      <td>...</td>\n",
       "      <td>2936</td>\n",
       "      <td>3556</td>\n",
       "      <td>3579</td>\n",
       "      <td>3145</td>\n",
       "      <td>2910</td>\n",
       "      <td>3081</td>\n",
       "      <td>1924</td>\n",
       "      <td>2294</td>\n",
       "      <td>3015</td>\n",
       "      <td>0</td>\n",
       "    </tr>\n",
       "    <tr>\n",
       "      <th>Manipur</th>\n",
       "      <td>0</td>\n",
       "      <td>19</td>\n",
       "      <td>37</td>\n",
       "      <td>9</td>\n",
       "      <td>41</td>\n",
       "      <td>24</td>\n",
       "      <td>40</td>\n",
       "      <td>5</td>\n",
       "      <td>15</td>\n",
       "      <td>132</td>\n",
       "      <td>...</td>\n",
       "      <td>32</td>\n",
       "      <td>44</td>\n",
       "      <td>18</td>\n",
       "      <td>24</td>\n",
       "      <td>24</td>\n",
       "      <td>21</td>\n",
       "      <td>11</td>\n",
       "      <td>33</td>\n",
       "      <td>19</td>\n",
       "      <td>0</td>\n",
       "    </tr>\n",
       "    <tr>\n",
       "      <th>Meghalaya</th>\n",
       "      <td>0</td>\n",
       "      <td>3</td>\n",
       "      <td>4</td>\n",
       "      <td>8</td>\n",
       "      <td>2</td>\n",
       "      <td>16</td>\n",
       "      <td>6</td>\n",
       "      <td>6</td>\n",
       "      <td>13</td>\n",
       "      <td>73</td>\n",
       "      <td>...</td>\n",
       "      <td>20</td>\n",
       "      <td>18</td>\n",
       "      <td>18</td>\n",
       "      <td>4</td>\n",
       "      <td>2</td>\n",
       "      <td>12</td>\n",
       "      <td>2</td>\n",
       "      <td>3</td>\n",
       "      <td>7</td>\n",
       "      <td>0</td>\n",
       "    </tr>\n",
       "  </tbody>\n",
       "</table>\n",
       "<p>5 rows × 205 columns</p>\n",
       "</div>"
      ],
      "text/plain": [
       "states                       2020-07-01  2020-07-02  2020-07-03  2020-07-04  \\\n",
       "state                                                                         \n",
       "Andaman and Nicobar Islands           0           9           7           3   \n",
       "Andhra Pradesh                        0         845         837         765   \n",
       "Maharashtra                           0        6328        6364        7074   \n",
       "Manipur                               0          19          37           9   \n",
       "Meghalaya                             0           3           4           8   \n",
       "\n",
       "states                       2020-07-05  2020-07-06  2020-07-07  2020-07-08  \\\n",
       "state                                                                         \n",
       "Andaman and Nicobar Islands           6          16           6           2   \n",
       "Andhra Pradesh                      998        1322        1178        1062   \n",
       "Maharashtra                        6555        5368        5134        6603   \n",
       "Manipur                              41          24          40           5   \n",
       "Meghalaya                             2          16           6           6   \n",
       "\n",
       "states                       2020-07-09  2020-07-10  ...  2021-01-12  \\\n",
       "state                                                ...               \n",
       "Andaman and Nicobar Islands           7           0  ...           3   \n",
       "Andhra Pradesh                     1555        1608  ...         197   \n",
       "Maharashtra                        6875        7862  ...        2936   \n",
       "Manipur                              15         132  ...          32   \n",
       "Meghalaya                            13          73  ...          20   \n",
       "\n",
       "states                       2021-01-13  2021-01-14  2021-01-15  2021-01-16  \\\n",
       "state                                                                         \n",
       "Andaman and Nicobar Islands           3           7           3           3   \n",
       "Andhra Pradesh                      203         179          94         114   \n",
       "Maharashtra                        3556        3579        3145        2910   \n",
       "Manipur                              44          18          24          24   \n",
       "Meghalaya                            18          18           4           2   \n",
       "\n",
       "states                       2021-01-17  2021-01-18  2021-01-19  2021-01-20  \\\n",
       "state                                                                         \n",
       "Andaman and Nicobar Islands           1           5           1           2   \n",
       "Andhra Pradesh                      161          81         179         173   \n",
       "Maharashtra                        3081        1924        2294        3015   \n",
       "Manipur                              21          11          33          19   \n",
       "Meghalaya                            12           2           3           7   \n",
       "\n",
       "states                       2021-01-21  \n",
       "state                                    \n",
       "Andaman and Nicobar Islands           0  \n",
       "Andhra Pradesh                        0  \n",
       "Maharashtra                           0  \n",
       "Manipur                               0  \n",
       "Meghalaya                             0  \n",
       "\n",
       "[5 rows x 205 columns]"
      ]
     },
     "execution_count": 18,
     "metadata": {},
     "output_type": "execute_result"
    }
   ],
   "source": [
    "#hide\n",
    "dft_ct_new_cases.head()"
   ]
  },
  {
   "cell_type": "code",
   "execution_count": 19,
   "id": "responsible-nightlife",
   "metadata": {
    "execution": {
     "iopub.execute_input": "2021-01-21T14:21:31.551868Z",
     "iopub.status.busy": "2021-01-21T14:21:31.551001Z",
     "iopub.status.idle": "2021-01-21T14:21:41.171422Z",
     "shell.execute_reply": "2021-01-21T14:21:41.172161Z"
    },
    "papermill": {
     "duration": 9.655967,
     "end_time": "2021-01-21T14:21:41.172362",
     "exception": false,
     "start_time": "2021-01-21T14:21:31.516395",
     "status": "completed"
    },
    "tags": []
   },
   "outputs": [
    {
     "data": {
      "image/png": "[encoded data removed]",
      "text/plain": [
       "<Figure size 1296x2016 with 11 Axes>"
      ]
     },
     "metadata": {
      "needs_background": "light"
     },
     "output_type": "display_data"
    }
   ],
   "source": [
    "#hide_input\n",
    "df = dft_ct_new_cases.copy()\n",
    "df.loc['Total'] = df.sum()\n",
    "n = 5\n",
    "ax = []\n",
    "fig = plt.figure(figsize = (18,28))\n",
    "gs = fig.add_gridspec(n+2, 5)\n",
    "# gs = fig.add_gridspec(2, 3)\n",
    "ax1 = fig.add_subplot(gs[0, :])\n",
    "ef = df.loc['Total'].rename_axis('date').reset_index()\n",
    "ef['date'] = ef['date'].astype('datetime64[ns]')\n",
    "ax1.bar(ef.date,ef.Total,alpha=0.3,color='#007acc')\n",
    "ax1.plot(ef.date,ef.Total , marker=\"o\", color='#007acc')\n",
    "ax1.xaxis.set_major_locator(mdates.WeekdayLocator())\n",
    "ax1.xaxis.set_major_formatter(mdates.DateFormatter('%b %d'))\n",
    "ax1.text(0.02, 0.5,'India daily case count', transform = ax1.transAxes, fontsize=25);\n",
    "ax1.spines['right'].set_visible(False)\n",
    "ax1.spines['top'].set_visible(False)\n",
    "\n",
    "ax2 = fig.add_subplot(gs[1,0])\n",
    "ef = df.loc['Maharashtra'].rename_axis('date').reset_index()\n",
    "ef['date'] = ef['date'].astype('datetime64[ns]')\n",
    "\n",
    "ax2.bar(ef.date, ef.Maharashtra,color = '#007acc',alpha=0.5)\n",
    "ax2.xaxis.set_major_locator(mdates.WeekdayLocator())\n",
    "ax2.xaxis.set_major_formatter(mdates.DateFormatter('%b %d'))\n",
    "ax2.set_xticks(ax2.get_xticks()[::3])\n",
    "maxyval = ef.Maharashtra.max()\n",
    "ax2.set_ylim([0,maxyval])\n",
    "ax2.text(0.05, 0.9,'Maharashtra', transform = ax2.transAxes, fontsize=20);\n",
    "ax2.spines['right'].set_visible(False)\n",
    "ax2.spines['top'].set_visible(False)\n",
    "\n",
    "\n",
    "ax3 = fig.add_subplot(gs[1,1])\n",
    "ef = df.loc['Tamil Nadu'].rename_axis('date').reset_index()\n",
    "ef['date'] = ef['date'].astype('datetime64[ns]')\n",
    "ax3.bar(ef.date, ef['Tamil Nadu'],color = '#007acc',alpha=0.5,)\n",
    "ax3.xaxis.set_major_locator(mdates.WeekdayLocator())\n",
    "ax3.xaxis.set_major_formatter(mdates.DateFormatter('%b %d'))\n",
    "ax3.set_xticks(ax3.get_xticks()[::3])\n",
    "ax3.text(0.05, 0.9,'Tamil Nadu', transform = ax3.transAxes, fontsize=20);\n",
    "ax3.spines['right'].set_visible(False)\n",
    "ax3.spines['top'].set_visible(False)\n",
    "\n",
    "ax5 = fig.add_subplot(gs[1,3])\n",
    "ef = df.loc['Telangana'].rename_axis('date').reset_index()\n",
    "ef['date'] = ef['date'].astype('datetime64[ns]')\n",
    "ax5.bar(ef.date, ef['Telangana'],color = '#007acc',alpha=0.5,)\n",
    "ax5.xaxis.set_major_locator(mdates.WeekdayLocator())\n",
    "ax5.xaxis.set_major_formatter(mdates.DateFormatter('%b %d'))\n",
    "ax5.set_xticks(ax5.get_xticks()[::3])\n",
    "ax5.text(0.05, 0.9,'Telangana', transform = ax5.transAxes, fontsize=20);\n",
    "ax5.spines['right'].set_visible(False)\n",
    "ax5.spines['top'].set_visible(False)\n",
    "\n",
    "ax6 = fig.add_subplot(gs[1,4])\n",
    "ef = df.loc['Andhra Pradesh'].rename_axis('date').reset_index()\n",
    "ef['date'] = ef['date'].astype('datetime64[ns]')\n",
    "ax6.bar(ef.date, ef['Andhra Pradesh'],color = '#007acc',alpha=0.5,)\n",
    "ax6.xaxis.set_major_locator(mdates.WeekdayLocator())\n",
    "ax6.xaxis.set_major_formatter(mdates.DateFormatter('%b %d'))\n",
    "ax6.set_xticks(ax6.get_xticks()[::3])\n",
    "ax6.text(0.05, 1,'Andhra Pradesh', transform = ax6.transAxes, fontsize=20);\n",
    "ax6.spines['right'].set_visible(False)\n",
    "ax6.spines['top'].set_visible(False)\n",
    "\n",
    "ax4 = fig.add_subplot(gs[1,2])\n",
    "ef = df.loc['Delhi'].rename_axis('date').reset_index()\n",
    "ef['date'] = ef['date'].astype('datetime64[ns]')\n",
    "ax4.bar(ef.date, ef.Delhi,color = '#007acc',alpha=0.5)\n",
    "ax4.set_xticks([])\n",
    "ax4.xaxis.set_major_locator(mdates.WeekdayLocator())\n",
    "ax4.xaxis.set_major_formatter(mdates.DateFormatter('%b %d'))\n",
    "ax4.set_xticks(ax4.get_xticks()[::3])\n",
    "ax4.spines['right'].set_visible(False)\n",
    "ax4.spines['top'].set_visible(False)\n",
    "\n",
    "ax4.text(0.05, 1,'Delhi', transform = ax4.transAxes, fontsize=20)\n",
    "\n",
    "for i in range(n):\n",
    "    \n",
    "    ax.append(fig.add_subplot(gs[i+2,:]))\n",
    "    ef = df.iloc[i+3].rename_axis('date').reset_index()\n",
    "    ef['date'] = ef['date'].astype('datetime64[ns]')\n",
    "    ax[i].bar(ef.date,ef.iloc[:,-1],color = '#007acc',alpha=0.3)\n",
    "    ax[i].plot(ef.date,ef.iloc[:,-1],marker='o',color='#007acc')\n",
    "    ax[i].text(0.02,0.5,f'{ef.columns.values[-1]}',transform = ax[i].transAxes, fontsize = 20);\n",
    "    ax[i].xaxis.set_major_locator(mdates.WeekdayLocator())\n",
    "    ax[i].xaxis.set_major_formatter(mdates.DateFormatter('%b %d'))\n",
    "    ax[i].set_ylim([0,7000])\n",
    "    ax[i].spines['right'].set_visible(False)\n",
    "    ax[i].spines['top'].set_visible(False)\n",
    "plt.tight_layout()\n"
   ]
  },
  {
   "cell_type": "code",
   "execution_count": 20,
   "id": "dress-forge",
   "metadata": {
    "execution": {
     "iopub.execute_input": "2021-01-21T14:21:41.232841Z",
     "iopub.status.busy": "2021-01-21T14:21:41.231793Z",
     "iopub.status.idle": "2021-01-21T14:21:41.242240Z",
     "shell.execute_reply": "2021-01-21T14:21:41.241476Z"
    },
    "papermill": {
     "duration": 0.044231,
     "end_time": "2021-01-21T14:21:41.242548",
     "exception": false,
     "start_time": "2021-01-21T14:21:41.198317",
     "status": "completed"
    },
    "tags": []
   },
   "outputs": [
    {
     "name": "stdout",
     "output_type": "stream",
     "text": [
      "                                   states    Cases  Deaths   PCases  PDeaths  Cases (+)  Deaths (+)  Fatality Rate\n",
      "                              Maharashtra  1997992   50582  1997992    50582          0           0           2.53\n",
      "                                Karnataka   933578   12185   933578    12185          0           0           1.31\n",
      "                           Andhra Pradesh   886418    7142   886418     7142          0           0           0.81\n",
      "                                   Kerala   864196    3525   864196     3525          0           0           0.41\n",
      "                               Tamil Nadu   832415   12290   832415    12290          0           0           1.48\n",
      "                                    Delhi   633049   10774   633049    10774          0           0           1.70\n",
      "                            Uttar Pradesh   597628    8591   597628     8591          0           0           1.44\n",
      "                              West Bengal   566482   10080   566482    10080          0           0           1.78\n",
      "                                   Odisha   333723    1955   333723     1955          0           0           0.59\n",
      "                                Rajasthan   315816    2754   315816     2754          0           0           0.87\n",
      "                             Chhattisgarh   294949    3585   294949     3585          0           0           1.22\n",
      "                                Telangana   292395    1583   292395     1583          0           0           0.54\n",
      "                                  Haryana   266686    2997   266686     2997          0           0           1.12\n",
      "                                    Bihar   259281    1464   259281     1464          0           0           0.56\n",
      "                                  Gujarat   257342    4371   257342     4371          0           0           1.70\n",
      "                           Madhya Pradesh   252466    3770   252466     3770          0           0           1.49\n",
      "                                    Assam   216919    1077   216919     1077          0           0           0.50\n",
      "                                   Punjab   171136    5520   171136     5520          0           0           3.23\n",
      "                        Jammu and Kashmir   123647    1923   123647     1923          0           0           1.56\n",
      "                                Jharkhand   118012    1057   118012     1057          0           0           0.90\n",
      "                              Uttarakhand    95192    1622    95192     1622          0           0           1.70\n",
      "                         Himachal Pradesh    57082     955    57082      955          0           0           1.67\n",
      "                                      Goa    52657     756    52657      756          0           0           1.44\n",
      "                               Puducherry    38737     643    38737      643          0           0           1.66\n",
      "                                  Tripura    33333     388    33333      388          0           0           1.16\n",
      "                                  Manipur    28919     367    28919      367          0           0           1.27\n",
      "                               Chandigarh    20623     330    20623      330          0           0           1.60\n",
      "                        Arunachal Pradesh    16815      56    16815       56          0           0           0.33\n",
      "                                Meghalaya    13717     144    13717      144          0           0           1.05\n",
      "                                 Nagaland    12067      88    12067       88          0           0           0.73\n",
      "                                   Ladakh     9668     128     9668      128          0           0           1.32\n",
      "                                   Sikkim     6057     131     6057      131          0           0           2.16\n",
      "              Andaman and Nicobar Islands     4991      62     4991       62          0           0           1.24\n",
      "                                  Mizoram     4334       9     4334        9          0           0           0.21\n",
      " Dadra and Nagar Haveli and Daman and Diu     3376       2     3376        2          0           0           0.06\n",
      "                              Lakshadweep       30       0       30        0          0           0           0.00\n"
     ]
    }
   ],
   "source": [
    "#hide_input\n",
    "print(df_table.to_string(index=False))"
   ]
  },
  {
   "cell_type": "code",
   "execution_count": null,
   "id": "quantitative-legend",
   "metadata": {
    "papermill": {
     "duration": 0.026095,
     "end_time": "2021-01-21T14:21:41.294848",
     "exception": false,
     "start_time": "2021-01-21T14:21:41.268753",
     "status": "completed"
    },
    "tags": []
   },
   "outputs": [],
   "source": []
  },
  {
   "cell_type": "code",
   "execution_count": null,
   "id": "distant-acoustic",
   "metadata": {
    "papermill": {
     "duration": 0.026653,
     "end_time": "2021-01-21T14:21:41.348091",
     "exception": false,
     "start_time": "2021-01-21T14:21:41.321438",
     "status": "completed"
    },
    "tags": []
   },
   "outputs": [],
   "source": []
  }
 ],
 "metadata": {
  "kernelspec": {
   "display_name": "Python 3",
   "language": "python",
   "name": "python3"
  },
  "language_info": {
   "codemirror_mode": {
    "name": "ipython",
    "version": 3
   },
   "file_extension": ".py",
   "mimetype": "text/x-python",
   "name": "python",
   "nbconvert_exporter": "python",
   "pygments_lexer": "ipython3",
   "version": "3.6.12"
  },
  "papermill": {
   "duration": 23.048281,
   "end_time": "2021-01-21T14:21:41.983807",
   "environment_variables": {},
   "exception": null,
   "input_path": "latest.ipynb",
   "output_path": "latest.ipynb",
   "parameters": {},
   "start_time": "2021-01-21T14:21:18.935526",
   "version": "2.1.2"
  }
 },
 "nbformat": 4,
 "nbformat_minor": 5
}