{
 "cells": [
  {
   "cell_type": "markdown",
   "metadata": {
    "papermill": {
     "duration": 0.048976,
     "end_time": "2020-08-19T12:51:03.663088",
     "exception": false,
     "start_time": "2020-08-19T12:51:03.614112",
     "status": "completed"
    },
    "tags": []
   },
   "source": [
    "# Latest COVID-19 India Matplotlib Overview"
   ]
  },
  {
   "cell_type": "code",
   "execution_count": 1,
   "metadata": {
    "execution": {
     "iopub.execute_input": "2020-08-19T12:51:03.762103Z",
     "iopub.status.busy": "2020-08-19T12:51:03.761491Z",
     "iopub.status.idle": "2020-08-19T12:51:04.214296Z",
     "shell.execute_reply": "2020-08-19T12:51:04.215126Z"
    },
    "papermill": {
     "duration": 0.507533,
     "end_time": "2020-08-19T12:51:04.215411",
     "exception": false,
     "start_time": "2020-08-19T12:51:03.707878",
     "status": "completed"
    },
    "tags": []
   },
   "outputs": [],
   "source": [
    "#hide\n",
    "import pandas as pd\n",
    "import numpy as np\n",
    "import requests\n",
    "import json\n",
    "import matplotlib.pyplot as plt\n",
    "import matplotlib.dates as mdates\n",
    "import matplotlib as mpl\n",
    "from IPython.core.display import display,HTML\n",
    "%matplotlib inline\n",
    "from datetime import date"
   ]
  },
  {
   "cell_type": "code",
   "execution_count": 2,
   "metadata": {
    "execution": {
     "iopub.execute_input": "2020-08-19T12:51:04.249893Z",
     "iopub.status.busy": "2020-08-19T12:51:04.249343Z",
     "iopub.status.idle": "2020-08-19T12:51:04.586165Z",
     "shell.execute_reply": "2020-08-19T12:51:04.585346Z"
    },
    "papermill": {
     "duration": 0.355791,
     "end_time": "2020-08-19T12:51:04.586279",
     "exception": false,
     "start_time": "2020-08-19T12:51:04.230488",
     "status": "completed"
    },
    "tags": []
   },
   "outputs": [],
   "source": [
    "#hide\n",
    "df  = pd.read_csv('https://api.covid19india.org/csv/latest/states.csv')\n",
    "df = df[['Date','State','Confirmed','Deceased']]\n",
    "df = df.rename(columns={'Confirmed':'Cases', \"Deceased\":'Deaths'})\n",
    "df_cases = df[[\"Date\",'State','Cases']]\n",
    "df_deaths = df[['Date','State','Deaths']]\n",
    "df_cases1 = df_cases.groupby('Date')\n",
    "df_deaths1= df_deaths.groupby('Date')"
   ]
  },
  {
   "cell_type": "code",
   "execution_count": 3,
   "metadata": {
    "execution": {
     "iopub.execute_input": "2020-08-19T12:51:04.616005Z",
     "iopub.status.busy": "2020-08-19T12:51:04.615529Z",
     "iopub.status.idle": "2020-08-19T12:51:04.628795Z",
     "shell.execute_reply": "2020-08-19T12:51:04.628254Z"
    },
    "papermill": {
     "duration": 0.030101,
     "end_time": "2020-08-19T12:51:04.628911",
     "exception": false,
     "start_time": "2020-08-19T12:51:04.598810",
     "status": "completed"
    },
    "tags": []
   },
   "outputs": [],
   "source": [
    "#hide\n",
    "df_snap = pd.read_csv('data/SnapshotCases-28-July.csv')\n",
    "arr_states = df_snap['states'].unique()\n",
    "arr_dates = df['Date'].unique()\n",
    "df_snap = df_snap.set_index('states')"
   ]
  },
  {
   "cell_type": "code",
   "execution_count": 4,
   "metadata": {
    "execution": {
     "iopub.execute_input": "2020-08-19T12:51:04.657533Z",
     "iopub.status.busy": "2020-08-19T12:51:04.657121Z",
     "iopub.status.idle": "2020-08-19T12:51:04.659861Z",
     "shell.execute_reply": "2020-08-19T12:51:04.659364Z"
    },
    "papermill": {
     "duration": 0.020157,
     "end_time": "2020-08-19T12:51:04.659974",
     "exception": false,
     "start_time": "2020-08-19T12:51:04.639817",
     "status": "completed"
    },
    "tags": []
   },
   "outputs": [
    {
     "data": {
      "text/plain": [
       "array(['Andaman and Nicobar Islands', 'Andhra Pradesh',\n",
       "       'Arunachal Pradesh', 'Assam', 'Bihar', 'Chandigarh',\n",
       "       'Dadra and Nagar Haveli and Daman and Diu', 'Delhi', 'Goa',\n",
       "       'Gujarat', 'Haryana', 'Himachal Pradesh', 'Jammu and Kashmir',\n",
       "       'Jharkhand', 'Karnataka', 'Kerala', 'Lakshadweep',\n",
       "       'Madhya Pradesh', 'Maharashtra', 'Manipur', 'Meghalaya', 'Mizoram',\n",
       "       'Nagaland', 'Odisha', 'Puducherry', 'Punjab', 'Rajasthan',\n",
       "       'Sikkim', 'Tamil Nadu', 'Telangana', 'Tripura', 'Uttar Pradesh',\n",
       "       'West Bengal', 'Chhattisgarh', 'Ladakh', 'Uttarakhand'],\n",
       "      dtype=object)"
      ]
     },
     "execution_count": 4,
     "metadata": {},
     "output_type": "execute_result"
    }
   ],
   "source": [
    "#hide\n",
    "arr_states[-9] = 'Puducherry'\n",
    "arr_states[-10] = 'Odisha'\n",
    "arr_states[6] = 'Dadra and Nagar Haveli and Daman and Diu'\n",
    "arr_states = np.append(arr_states,np.array(['Chhattisgarh','Ladakh','Uttarakhand']))\n",
    "arr_states"
   ]
  },
  {
   "cell_type": "code",
   "execution_count": 5,
   "metadata": {
    "execution": {
     "iopub.execute_input": "2020-08-19T12:51:04.689570Z",
     "iopub.status.busy": "2020-08-19T12:51:04.689163Z",
     "iopub.status.idle": "2020-08-19T12:51:04.695356Z",
     "shell.execute_reply": "2020-08-19T12:51:04.694940Z"
    },
    "papermill": {
     "duration": 0.024518,
     "end_time": "2020-08-19T12:51:04.695450",
     "exception": false,
     "start_time": "2020-08-19T12:51:04.670932",
     "status": "completed"
    },
    "tags": []
   },
   "outputs": [],
   "source": [
    "#hide\n",
    "dates = []\n",
    "for i in arr_dates:\n",
    "    if i>='2020-07-01':\n",
    "        dates.append(i)\n",
    "dict = {'states':dates}\n",
    "for i in arr_states:\n",
    "    dict[i] = [0]*len(dates)\n",
    "dft_cases = pd.DataFrame(dict)\n",
    "dft_deaths = pd.DataFrame(dict)\n"
   ]
  },
  {
   "cell_type": "code",
   "execution_count": 6,
   "metadata": {
    "execution": {
     "iopub.execute_input": "2020-08-19T12:51:04.726020Z",
     "iopub.status.busy": "2020-08-19T12:51:04.725547Z",
     "iopub.status.idle": "2020-08-19T12:51:05.240699Z",
     "shell.execute_reply": "2020-08-19T12:51:05.239795Z"
    },
    "papermill": {
     "duration": 0.532862,
     "end_time": "2020-08-19T12:51:05.240917",
     "exception": false,
     "start_time": "2020-08-19T12:51:04.708055",
     "status": "completed"
    },
    "tags": []
   },
   "outputs": [],
   "source": [
    "#hide\n",
    "for i in range(len(dates)):\n",
    "    df1_deaths = df_deaths1.get_group(dates[i])\n",
    "    for j in range(len(df1_deaths.index)):\n",
    "        if df1_deaths.iloc[j,1] in arr_states:\n",
    "            dft_deaths.loc[i,df1_deaths.iloc[j,1]] = df1_deaths.iloc[j,2]\n",
    "dft_deaths = dft_deaths.set_index('states')"
   ]
  },
  {
   "cell_type": "code",
   "execution_count": 7,
   "metadata": {
    "execution": {
     "iopub.execute_input": "2020-08-19T12:51:05.270778Z",
     "iopub.status.busy": "2020-08-19T12:51:05.270366Z",
     "iopub.status.idle": "2020-08-19T12:51:05.820939Z",
     "shell.execute_reply": "2020-08-19T12:51:05.820276Z"
    },
    "papermill": {
     "duration": 0.567713,
     "end_time": "2020-08-19T12:51:05.821092",
     "exception": false,
     "start_time": "2020-08-19T12:51:05.253379",
     "status": "completed"
    },
    "tags": []
   },
   "outputs": [],
   "source": [
    "#hide\n",
    "for i in range(len(dates)):\n",
    "    df1_cases = df_cases1.get_group(dates[i])\n",
    "    for j in range(len(df1_cases.index)):\n",
    "        if df1_cases.iloc[j,1] in arr_states:\n",
    "            dft_cases.loc[i,df1_cases.iloc[j,1]] = df1_cases.iloc[j,2]\n",
    "dft_cases = dft_cases.set_index('states')"
   ]
  },
  {
   "cell_type": "code",
   "execution_count": 8,
   "metadata": {
    "execution": {
     "iopub.execute_input": "2020-08-19T12:51:05.853896Z",
     "iopub.status.busy": "2020-08-19T12:51:05.853247Z",
     "iopub.status.idle": "2020-08-19T12:51:05.854569Z",
     "shell.execute_reply": "2020-08-19T12:51:05.855069Z"
    },
    "papermill": {
     "duration": 0.019472,
     "end_time": "2020-08-19T12:51:05.855218",
     "exception": false,
     "start_time": "2020-08-19T12:51:05.835746",
     "status": "completed"
    },
    "tags": []
   },
   "outputs": [],
   "source": [
    "#hide\n",
    "dft_cases = dft_cases.T\n",
    "dft_deaths = dft_deaths.T\n",
    "dt_today = dates[-1]\n",
    "dt_yday = dates[-2]"
   ]
  },
  {
   "cell_type": "code",
   "execution_count": 9,
   "metadata": {
    "execution": {
     "iopub.execute_input": "2020-08-19T12:51:05.889247Z",
     "iopub.status.busy": "2020-08-19T12:51:05.888773Z",
     "iopub.status.idle": "2020-08-19T12:51:05.891206Z",
     "shell.execute_reply": "2020-08-19T12:51:05.891598Z"
    },
    "papermill": {
     "duration": 0.023288,
     "end_time": "2020-08-19T12:51:05.891707",
     "exception": false,
     "start_time": "2020-08-19T12:51:05.868419",
     "status": "completed"
    },
    "tags": []
   },
   "outputs": [],
   "source": [
    "#hide\n",
    "dft_cases = dft_cases.reset_index()\n",
    "dft_deaths = dft_deaths.reset_index()\n",
    "dft_cases = dft_cases.rename(columns = {'index':'state'})\n",
    "dft_deaths = dft_deaths.rename(columns = {'index':'state'})"
   ]
  },
  {
   "cell_type": "code",
   "execution_count": 10,
   "metadata": {
    "execution": {
     "iopub.execute_input": "2020-08-19T12:51:05.923023Z",
     "iopub.status.busy": "2020-08-19T12:51:05.922610Z",
     "iopub.status.idle": "2020-08-19T12:51:05.929363Z",
     "shell.execute_reply": "2020-08-19T12:51:05.928917Z"
    },
    "papermill": {
     "duration": 0.024721,
     "end_time": "2020-08-19T12:51:05.929457",
     "exception": false,
     "start_time": "2020-08-19T12:51:05.904736",
     "status": "completed"
    },
    "tags": []
   },
   "outputs": [],
   "source": [
    "#hide\n",
    "dfc_cases = dft_cases.groupby('state')[dt_today].sum()\n",
    "dfc_deaths = dft_deaths.groupby('state')[dt_today].sum()\n",
    "dfp_cases = dft_cases.groupby('state')[dt_yday].sum()\n",
    "dfp_deaths = dft_deaths.groupby('state')[dt_yday].sum()"
   ]
  },
  {
   "cell_type": "code",
   "execution_count": 11,
   "metadata": {
    "execution": {
     "iopub.execute_input": "2020-08-19T12:51:05.966076Z",
     "iopub.status.busy": "2020-08-19T12:51:05.965530Z",
     "iopub.status.idle": "2020-08-19T12:51:05.980735Z",
     "shell.execute_reply": "2020-08-19T12:51:05.980259Z"
    },
    "papermill": {
     "duration": 0.039824,
     "end_time": "2020-08-19T12:51:05.980854",
     "exception": false,
     "start_time": "2020-08-19T12:51:05.941030",
     "status": "completed"
    },
    "tags": []
   },
   "outputs": [
    {
     "data": {
      "text/html": [
       "<div>\n",
       "<style scoped>\n",
       "    .dataframe tbody tr th:only-of-type {\n",
       "        vertical-align: middle;\n",
       "    }\n",
       "\n",
       "    .dataframe tbody tr th {\n",
       "        vertical-align: top;\n",
       "    }\n",
       "\n",
       "    .dataframe thead th {\n",
       "        text-align: right;\n",
       "    }\n",
       "</style>\n",
       "<table border=\"1\" class=\"dataframe\">\n",
       "  <thead>\n",
       "    <tr style=\"text-align: right;\">\n",
       "      <th></th>\n",
       "      <th>states</th>\n",
       "      <th>Cases</th>\n",
       "      <th>Deaths</th>\n",
       "      <th>PCases</th>\n",
       "      <th>PDeaths</th>\n",
       "    </tr>\n",
       "  </thead>\n",
       "  <tbody>\n",
       "    <tr>\n",
       "      <th>0</th>\n",
       "      <td>Maharashtra</td>\n",
       "      <td>615477</td>\n",
       "      <td>20687</td>\n",
       "      <td>615477</td>\n",
       "      <td>20687</td>\n",
       "    </tr>\n",
       "    <tr>\n",
       "      <th>1</th>\n",
       "      <td>Tamil Nadu</td>\n",
       "      <td>349654</td>\n",
       "      <td>6007</td>\n",
       "      <td>349654</td>\n",
       "      <td>6007</td>\n",
       "    </tr>\n",
       "    <tr>\n",
       "      <th>2</th>\n",
       "      <td>Andhra Pradesh</td>\n",
       "      <td>316003</td>\n",
       "      <td>2906</td>\n",
       "      <td>306261</td>\n",
       "      <td>2820</td>\n",
       "    </tr>\n",
       "    <tr>\n",
       "      <th>3</th>\n",
       "      <td>Karnataka</td>\n",
       "      <td>240948</td>\n",
       "      <td>4201</td>\n",
       "      <td>240948</td>\n",
       "      <td>4201</td>\n",
       "    </tr>\n",
       "    <tr>\n",
       "      <th>4</th>\n",
       "      <td>Uttar Pradesh</td>\n",
       "      <td>162434</td>\n",
       "      <td>2585</td>\n",
       "      <td>162434</td>\n",
       "      <td>2585</td>\n",
       "    </tr>\n",
       "  </tbody>\n",
       "</table>\n",
       "</div>"
      ],
      "text/plain": [
       "           states   Cases  Deaths  PCases  PDeaths\n",
       "0     Maharashtra  615477   20687  615477    20687\n",
       "1      Tamil Nadu  349654    6007  349654     6007\n",
       "2  Andhra Pradesh  316003    2906  306261     2820\n",
       "3       Karnataka  240948    4201  240948     4201\n",
       "4   Uttar Pradesh  162434    2585  162434     2585"
      ]
     },
     "execution_count": 11,
     "metadata": {},
     "output_type": "execute_result"
    }
   ],
   "source": [
    "#hide\n",
    "df_table = pd.DataFrame({'states': dfc_cases.index, 'Cases': dfc_cases.values, 'Deaths': dfc_deaths.values, 'PCases': dfp_cases.values, 'PDeaths': dfp_deaths.values}).set_index('states')\n",
    "df_table = df_table.sort_values(by = ['Cases','Deaths'], ascending = [False, False])\n",
    "df_table = df_table.reset_index()\n",
    "df_table.head()"
   ]
  },
  {
   "cell_type": "code",
   "execution_count": 12,
   "metadata": {
    "execution": {
     "iopub.execute_input": "2020-08-19T12:51:06.013806Z",
     "iopub.status.busy": "2020-08-19T12:51:06.013332Z",
     "iopub.status.idle": "2020-08-19T12:51:06.021392Z",
     "shell.execute_reply": "2020-08-19T12:51:06.021757Z"
    },
    "papermill": {
     "duration": 0.027627,
     "end_time": "2020-08-19T12:51:06.021873",
     "exception": false,
     "start_time": "2020-08-19T12:51:05.994246",
     "status": "completed"
    },
    "tags": []
   },
   "outputs": [],
   "source": [
    "#hide\n",
    "for c in 'Cases, Deaths'.split(', '):\n",
    "    df_table[f'{c} (+)'] = (df_table[c] - df_table[f'P{c}']).clip(0)\n",
    "df_table['Fatality Rate'] = (100* df_table['Deaths']/ df_table['Cases']).round(2)"
   ]
  },
  {
   "cell_type": "code",
   "execution_count": 13,
   "metadata": {
    "execution": {
     "iopub.execute_input": "2020-08-19T12:51:06.059034Z",
     "iopub.status.busy": "2020-08-19T12:51:06.058035Z",
     "iopub.status.idle": "2020-08-19T12:51:06.062383Z",
     "shell.execute_reply": "2020-08-19T12:51:06.061707Z"
    },
    "papermill": {
     "duration": 0.027288,
     "end_time": "2020-08-19T12:51:06.062480",
     "exception": false,
     "start_time": "2020-08-19T12:51:06.035192",
     "status": "completed"
    },
    "tags": []
   },
   "outputs": [
    {
     "data": {
      "text/html": [
       "<div>\n",
       "<style scoped>\n",
       "    .dataframe tbody tr th:only-of-type {\n",
       "        vertical-align: middle;\n",
       "    }\n",
       "\n",
       "    .dataframe tbody tr th {\n",
       "        vertical-align: top;\n",
       "    }\n",
       "\n",
       "    .dataframe thead th {\n",
       "        text-align: right;\n",
       "    }\n",
       "</style>\n",
       "<table border=\"1\" class=\"dataframe\">\n",
       "  <thead>\n",
       "    <tr style=\"text-align: right;\">\n",
       "      <th></th>\n",
       "      <th>states</th>\n",
       "      <th>Cases</th>\n",
       "      <th>Deaths</th>\n",
       "      <th>PCases</th>\n",
       "      <th>PDeaths</th>\n",
       "      <th>Cases (+)</th>\n",
       "      <th>Deaths (+)</th>\n",
       "      <th>Fatality Rate</th>\n",
       "    </tr>\n",
       "  </thead>\n",
       "  <tbody>\n",
       "    <tr>\n",
       "      <th>0</th>\n",
       "      <td>Maharashtra</td>\n",
       "      <td>615477</td>\n",
       "      <td>20687</td>\n",
       "      <td>615477</td>\n",
       "      <td>20687</td>\n",
       "      <td>0</td>\n",
       "      <td>0</td>\n",
       "      <td>3.36</td>\n",
       "    </tr>\n",
       "    <tr>\n",
       "      <th>1</th>\n",
       "      <td>Tamil Nadu</td>\n",
       "      <td>349654</td>\n",
       "      <td>6007</td>\n",
       "      <td>349654</td>\n",
       "      <td>6007</td>\n",
       "      <td>0</td>\n",
       "      <td>0</td>\n",
       "      <td>1.72</td>\n",
       "    </tr>\n",
       "    <tr>\n",
       "      <th>2</th>\n",
       "      <td>Andhra Pradesh</td>\n",
       "      <td>316003</td>\n",
       "      <td>2906</td>\n",
       "      <td>306261</td>\n",
       "      <td>2820</td>\n",
       "      <td>9742</td>\n",
       "      <td>86</td>\n",
       "      <td>0.92</td>\n",
       "    </tr>\n",
       "    <tr>\n",
       "      <th>3</th>\n",
       "      <td>Karnataka</td>\n",
       "      <td>240948</td>\n",
       "      <td>4201</td>\n",
       "      <td>240948</td>\n",
       "      <td>4201</td>\n",
       "      <td>0</td>\n",
       "      <td>0</td>\n",
       "      <td>1.74</td>\n",
       "    </tr>\n",
       "    <tr>\n",
       "      <th>4</th>\n",
       "      <td>Uttar Pradesh</td>\n",
       "      <td>162434</td>\n",
       "      <td>2585</td>\n",
       "      <td>162434</td>\n",
       "      <td>2585</td>\n",
       "      <td>0</td>\n",
       "      <td>0</td>\n",
       "      <td>1.59</td>\n",
       "    </tr>\n",
       "  </tbody>\n",
       "</table>\n",
       "</div>"
      ],
      "text/plain": [
       "           states   Cases  Deaths  PCases  PDeaths  Cases (+)  Deaths (+)  \\\n",
       "0     Maharashtra  615477   20687  615477    20687          0           0   \n",
       "1      Tamil Nadu  349654    6007  349654     6007          0           0   \n",
       "2  Andhra Pradesh  316003    2906  306261     2820       9742          86   \n",
       "3       Karnataka  240948    4201  240948     4201          0           0   \n",
       "4   Uttar Pradesh  162434    2585  162434     2585          0           0   \n",
       "\n",
       "   Fatality Rate  \n",
       "0           3.36  \n",
       "1           1.72  \n",
       "2           0.92  \n",
       "3           1.74  \n",
       "4           1.59  "
      ]
     },
     "execution_count": 13,
     "metadata": {},
     "output_type": "execute_result"
    }
   ],
   "source": [
    "#hide\n",
    "df_table.head()"
   ]
  },
  {
   "cell_type": "code",
   "execution_count": 14,
   "metadata": {
    "execution": {
     "iopub.execute_input": "2020-08-19T12:51:06.100358Z",
     "iopub.status.busy": "2020-08-19T12:51:06.099717Z",
     "iopub.status.idle": "2020-08-19T12:51:06.108840Z",
     "shell.execute_reply": "2020-08-19T12:51:06.108371Z"
    },
    "papermill": {
     "duration": 0.032167,
     "end_time": "2020-08-19T12:51:06.108935",
     "exception": false,
     "start_time": "2020-08-19T12:51:06.076768",
     "status": "completed"
    },
    "tags": []
   },
   "outputs": [
    {
     "data": {
      "text/plain": [
       "{'updated': '2020-08-19',\n",
       " 'since': '2020-08-18',\n",
       " 'Cases': 2786291,\n",
       " 'PCases': 2766626,\n",
       " 'Deaths': 53153,\n",
       " 'PDeaths': 53015,\n",
       " 'Cases (+)': 19665,\n",
       " 'Deaths (+)': 138}"
      ]
     },
     "execution_count": 14,
     "metadata": {},
     "output_type": "execute_result"
    }
   ],
   "source": [
    "#hide\n",
    "summary = {'updated':dates[-1], 'since':dates[-2]}\n",
    "list_names = ['Cases', 'PCases', 'Deaths', 'PDeaths', 'Cases (+)', 'Deaths (+)']\n",
    "for name in list_names:\n",
    "    summary[name] = df_table.sum()[name]\n",
    "summary"
   ]
  },
  {
   "cell_type": "code",
   "execution_count": 15,
   "metadata": {
    "execution": {
     "iopub.execute_input": "2020-08-19T12:51:06.141618Z",
     "iopub.status.busy": "2020-08-19T12:51:06.141203Z",
     "iopub.status.idle": "2020-08-19T12:51:06.144187Z",
     "shell.execute_reply": "2020-08-19T12:51:06.143687Z"
    },
    "papermill": {
     "duration": 0.021734,
     "end_time": "2020-08-19T12:51:06.144307",
     "exception": false,
     "start_time": "2020-08-19T12:51:06.122573",
     "status": "completed"
    },
    "tags": []
   },
   "outputs": [],
   "source": [
    "#hide\n",
    "overview = '''\n",
    "<!-- #######  HTML!! #########-->\n",
    "<h1 style=\"color: #5e9ca0; text-align: center;\">India</h1>\n",
    "<p style=\"text-align: center;\">Last update: <strong>{update}</strong></p>\n",
    "<p style=\"text-align: center;\">Confirmed cases:</p>\n",
    "<p style=\"text-align: center;font-size:24px;\">{cases} (<span style=\"color: #ff0000;\">+{new}</span>)</p>\n",
    "<p style=\"text-align: center;\">Confirmed deaths:</p>\n",
    "<p style=\"text-align: center;font-size:24px;\">{deaths} (<span style=\"color: #ff0000;\">+{dnew}</span>)</p>\n",
    "'''"
   ]
  },
  {
   "cell_type": "code",
   "execution_count": 16,
   "metadata": {
    "execution": {
     "iopub.execute_input": "2020-08-19T12:51:06.172542Z",
     "iopub.status.busy": "2020-08-19T12:51:06.172010Z",
     "iopub.status.idle": "2020-08-19T12:51:06.175609Z",
     "shell.execute_reply": "2020-08-19T12:51:06.175123Z"
    },
    "papermill": {
     "duration": 0.019423,
     "end_time": "2020-08-19T12:51:06.175737",
     "exception": false,
     "start_time": "2020-08-19T12:51:06.156314",
     "status": "completed"
    },
    "tags": []
   },
   "outputs": [
    {
     "data": {
      "text/html": [
       "\n",
       "<!-- #######  HTML!! #########-->\n",
       "<h1 style=\"color: #5e9ca0; text-align: center;\">India</h1>\n",
       "<p style=\"text-align: center;\">Last update: <strong>2020-08-19</strong></p>\n",
       "<p style=\"text-align: center;\">Confirmed cases:</p>\n",
       "<p style=\"text-align: center;font-size:24px;\">2786291 (<span style=\"color: #ff0000;\">+19665</span>)</p>\n",
       "<p style=\"text-align: center;\">Confirmed deaths:</p>\n",
       "<p style=\"text-align: center;font-size:24px;\">53153 (<span style=\"color: #ff0000;\">+138</span>)</p>\n"
      ],
      "text/plain": [
       "<IPython.core.display.HTML object>"
      ]
     },
     "metadata": {},
     "output_type": "display_data"
    }
   ],
   "source": [
    "#hide_input\n",
    "update = summary['updated']\n",
    "cases = summary['Cases']\n",
    "new = summary['Cases (+)']\n",
    "deaths = summary['Deaths']\n",
    "dnew = summary['Deaths (+)']\n",
    "\n",
    "html = HTML(overview.format(update=update, cases=cases,new=new,deaths=deaths,dnew=dnew))\n",
    "\n",
    "display(html)"
   ]
  },
  {
   "cell_type": "code",
   "execution_count": 17,
   "metadata": {
    "execution": {
     "iopub.execute_input": "2020-08-19T12:51:06.206189Z",
     "iopub.status.busy": "2020-08-19T12:51:06.205546Z",
     "iopub.status.idle": "2020-08-19T12:51:06.210615Z",
     "shell.execute_reply": "2020-08-19T12:51:06.210265Z"
    },
    "papermill": {
     "duration": 0.02271,
     "end_time": "2020-08-19T12:51:06.210695",
     "exception": false,
     "start_time": "2020-08-19T12:51:06.187985",
     "status": "completed"
    },
    "tags": []
   },
   "outputs": [],
   "source": [
    "#hide\n",
    "dt_cols = list(dft_cases.columns[1:])\n",
    "dft_ct_new_cases = dft_cases.groupby('state')[dt_cols].sum().diff(axis=1).fillna(0).astype(int)\n",
    "dft_ct_new_cases.sort_values(by = dates[-1], ascending = False,inplace = True)"
   ]
  },
  {
   "cell_type": "code",
   "execution_count": 18,
   "metadata": {
    "execution": {
     "iopub.execute_input": "2020-08-19T12:51:06.245360Z",
     "iopub.status.busy": "2020-08-19T12:51:06.244895Z",
     "iopub.status.idle": "2020-08-19T12:51:06.252280Z",
     "shell.execute_reply": "2020-08-19T12:51:06.251908Z"
    },
    "papermill": {
     "duration": 0.02927,
     "end_time": "2020-08-19T12:51:06.252363",
     "exception": false,
     "start_time": "2020-08-19T12:51:06.223093",
     "status": "completed"
    },
    "tags": []
   },
   "outputs": [
    {
     "data": {
      "text/html": [
       "<div>\n",
       "<style scoped>\n",
       "    .dataframe tbody tr th:only-of-type {\n",
       "        vertical-align: middle;\n",
       "    }\n",
       "\n",
       "    .dataframe tbody tr th {\n",
       "        vertical-align: top;\n",
       "    }\n",
       "\n",
       "    .dataframe thead th {\n",
       "        text-align: right;\n",
       "    }\n",
       "</style>\n",
       "<table border=\"1\" class=\"dataframe\">\n",
       "  <thead>\n",
       "    <tr style=\"text-align: right;\">\n",
       "      <th>states</th>\n",
       "      <th>2020-07-01</th>\n",
       "      <th>2020-07-02</th>\n",
       "      <th>2020-07-03</th>\n",
       "      <th>2020-07-04</th>\n",
       "      <th>2020-07-05</th>\n",
       "      <th>2020-07-06</th>\n",
       "      <th>2020-07-07</th>\n",
       "      <th>2020-07-08</th>\n",
       "      <th>2020-07-09</th>\n",
       "      <th>2020-07-10</th>\n",
       "      <th>...</th>\n",
       "      <th>2020-08-10</th>\n",
       "      <th>2020-08-11</th>\n",
       "      <th>2020-08-12</th>\n",
       "      <th>2020-08-13</th>\n",
       "      <th>2020-08-14</th>\n",
       "      <th>2020-08-15</th>\n",
       "      <th>2020-08-16</th>\n",
       "      <th>2020-08-17</th>\n",
       "      <th>2020-08-18</th>\n",
       "      <th>2020-08-19</th>\n",
       "    </tr>\n",
       "    <tr>\n",
       "      <th>state</th>\n",
       "      <th></th>\n",
       "      <th></th>\n",
       "      <th></th>\n",
       "      <th></th>\n",
       "      <th></th>\n",
       "      <th></th>\n",
       "      <th></th>\n",
       "      <th></th>\n",
       "      <th></th>\n",
       "      <th></th>\n",
       "      <th></th>\n",
       "      <th></th>\n",
       "      <th></th>\n",
       "      <th></th>\n",
       "      <th></th>\n",
       "      <th></th>\n",
       "      <th></th>\n",
       "      <th></th>\n",
       "      <th></th>\n",
       "      <th></th>\n",
       "      <th></th>\n",
       "    </tr>\n",
       "  </thead>\n",
       "  <tbody>\n",
       "    <tr>\n",
       "      <th>Andhra Pradesh</th>\n",
       "      <td>0</td>\n",
       "      <td>845</td>\n",
       "      <td>837</td>\n",
       "      <td>765</td>\n",
       "      <td>998</td>\n",
       "      <td>1322</td>\n",
       "      <td>1178</td>\n",
       "      <td>1062</td>\n",
       "      <td>1555</td>\n",
       "      <td>1608</td>\n",
       "      <td>...</td>\n",
       "      <td>7665</td>\n",
       "      <td>9024</td>\n",
       "      <td>9597</td>\n",
       "      <td>9996</td>\n",
       "      <td>8943</td>\n",
       "      <td>8732</td>\n",
       "      <td>8012</td>\n",
       "      <td>6780</td>\n",
       "      <td>9652</td>\n",
       "      <td>9742</td>\n",
       "    </tr>\n",
       "    <tr>\n",
       "      <th>Bihar</th>\n",
       "      <td>0</td>\n",
       "      <td>478</td>\n",
       "      <td>426</td>\n",
       "      <td>349</td>\n",
       "      <td>403</td>\n",
       "      <td>280</td>\n",
       "      <td>385</td>\n",
       "      <td>749</td>\n",
       "      <td>704</td>\n",
       "      <td>352</td>\n",
       "      <td>...</td>\n",
       "      <td>3021</td>\n",
       "      <td>4071</td>\n",
       "      <td>3741</td>\n",
       "      <td>3906</td>\n",
       "      <td>3911</td>\n",
       "      <td>3536</td>\n",
       "      <td>2187</td>\n",
       "      <td>2525</td>\n",
       "      <td>3257</td>\n",
       "      <td>2884</td>\n",
       "    </tr>\n",
       "    <tr>\n",
       "      <th>Odisha</th>\n",
       "      <td>0</td>\n",
       "      <td>229</td>\n",
       "      <td>561</td>\n",
       "      <td>495</td>\n",
       "      <td>469</td>\n",
       "      <td>456</td>\n",
       "      <td>571</td>\n",
       "      <td>527</td>\n",
       "      <td>577</td>\n",
       "      <td>755</td>\n",
       "      <td>...</td>\n",
       "      <td>1528</td>\n",
       "      <td>1341</td>\n",
       "      <td>1876</td>\n",
       "      <td>1981</td>\n",
       "      <td>1977</td>\n",
       "      <td>2496</td>\n",
       "      <td>2924</td>\n",
       "      <td>2244</td>\n",
       "      <td>2239</td>\n",
       "      <td>2589</td>\n",
       "    </tr>\n",
       "    <tr>\n",
       "      <th>Telangana</th>\n",
       "      <td>0</td>\n",
       "      <td>1213</td>\n",
       "      <td>1892</td>\n",
       "      <td>1850</td>\n",
       "      <td>1590</td>\n",
       "      <td>1831</td>\n",
       "      <td>1879</td>\n",
       "      <td>1924</td>\n",
       "      <td>1410</td>\n",
       "      <td>1278</td>\n",
       "      <td>...</td>\n",
       "      <td>1256</td>\n",
       "      <td>1896</td>\n",
       "      <td>1897</td>\n",
       "      <td>1931</td>\n",
       "      <td>1921</td>\n",
       "      <td>1863</td>\n",
       "      <td>1102</td>\n",
       "      <td>894</td>\n",
       "      <td>1682</td>\n",
       "      <td>1763</td>\n",
       "    </tr>\n",
       "    <tr>\n",
       "      <th>Delhi</th>\n",
       "      <td>0</td>\n",
       "      <td>2373</td>\n",
       "      <td>2520</td>\n",
       "      <td>2505</td>\n",
       "      <td>2244</td>\n",
       "      <td>1379</td>\n",
       "      <td>2008</td>\n",
       "      <td>2033</td>\n",
       "      <td>2187</td>\n",
       "      <td>2089</td>\n",
       "      <td>...</td>\n",
       "      <td>707</td>\n",
       "      <td>1257</td>\n",
       "      <td>1113</td>\n",
       "      <td>956</td>\n",
       "      <td>1192</td>\n",
       "      <td>1276</td>\n",
       "      <td>652</td>\n",
       "      <td>787</td>\n",
       "      <td>1374</td>\n",
       "      <td>1398</td>\n",
       "    </tr>\n",
       "  </tbody>\n",
       "</table>\n",
       "<p>5 rows × 50 columns</p>\n",
       "</div>"
      ],
      "text/plain": [
       "states          2020-07-01  2020-07-02  2020-07-03  2020-07-04  2020-07-05  \\\n",
       "state                                                                        \n",
       "Andhra Pradesh           0         845         837         765         998   \n",
       "Bihar                    0         478         426         349         403   \n",
       "Odisha                   0         229         561         495         469   \n",
       "Telangana                0        1213        1892        1850        1590   \n",
       "Delhi                    0        2373        2520        2505        2244   \n",
       "\n",
       "states          2020-07-06  2020-07-07  2020-07-08  2020-07-09  2020-07-10  \\\n",
       "state                                                                        \n",
       "Andhra Pradesh        1322        1178        1062        1555        1608   \n",
       "Bihar                  280         385         749         704         352   \n",
       "Odisha                 456         571         527         577         755   \n",
       "Telangana             1831        1879        1924        1410        1278   \n",
       "Delhi                 1379        2008        2033        2187        2089   \n",
       "\n",
       "states          ...  2020-08-10  2020-08-11  2020-08-12  2020-08-13  \\\n",
       "state           ...                                                   \n",
       "Andhra Pradesh  ...        7665        9024        9597        9996   \n",
       "Bihar           ...        3021        4071        3741        3906   \n",
       "Odisha          ...        1528        1341        1876        1981   \n",
       "Telangana       ...        1256        1896        1897        1931   \n",
       "Delhi           ...         707        1257        1113         956   \n",
       "\n",
       "states          2020-08-14  2020-08-15  2020-08-16  2020-08-17  2020-08-18  \\\n",
       "state                                                                        \n",
       "Andhra Pradesh        8943        8732        8012        6780        9652   \n",
       "Bihar                 3911        3536        2187        2525        3257   \n",
       "Odisha                1977        2496        2924        2244        2239   \n",
       "Telangana             1921        1863        1102         894        1682   \n",
       "Delhi                 1192        1276         652         787        1374   \n",
       "\n",
       "states          2020-08-19  \n",
       "state                       \n",
       "Andhra Pradesh        9742  \n",
       "Bihar                 2884  \n",
       "Odisha                2589  \n",
       "Telangana             1763  \n",
       "Delhi                 1398  \n",
       "\n",
       "[5 rows x 50 columns]"
      ]
     },
     "execution_count": 18,
     "metadata": {},
     "output_type": "execute_result"
    }
   ],
   "source": [
    "#hide\n",
    "dft_ct_new_cases.head()"
   ]
  },
  {
   "cell_type": "code",
   "execution_count": 19,
   "metadata": {
    "execution": {
     "iopub.execute_input": "2020-08-19T12:51:06.303780Z",
     "iopub.status.busy": "2020-08-19T12:51:06.285631Z",
     "iopub.status.idle": "2020-08-19T12:51:08.251237Z",
     "shell.execute_reply": "2020-08-19T12:51:08.250861Z"
    },
    "papermill": {
     "duration": 1.986065,
     "end_time": "2020-08-19T12:51:08.251336",
     "exception": false,
     "start_time": "2020-08-19T12:51:06.265271",
     "status": "completed"
    },
    "tags": []
   },
   "outputs": [
    {
     "data": {
      "image/png": "[encoded data removed]",
      "text/plain": [
       "<Figure size 1296x2016 with 11 Axes>"
      ]
     },
     "metadata": {
      "needs_background": "light"
     },
     "output_type": "display_data"
    }
   ],
   "source": [
    "#hide_input\n",
    "df = dft_ct_new_cases.copy()\n",
    "df.loc['Total'] = df.sum()\n",
    "n = 5\n",
    "ax = []\n",
    "fig = plt.figure(figsize = (18,28))\n",
    "gs = fig.add_gridspec(n+2, 5)\n",
    "# gs = fig.add_gridspec(2, 3)\n",
    "ax1 = fig.add_subplot(gs[0, :])\n",
    "ef = df.loc['Total'].rename_axis('date').reset_index()\n",
    "ef['date'] = ef['date'].astype('datetime64[ns]')\n",
    "ax1.bar(ef.date,ef.Total,alpha=0.3,color='#007acc')\n",
    "ax1.plot(ef.date,ef.Total , marker=\"o\", color='#007acc')\n",
    "ax1.xaxis.set_major_locator(mdates.WeekdayLocator())\n",
    "ax1.xaxis.set_major_formatter(mdates.DateFormatter('%b %d'))\n",
    "ax1.text(0.02, 0.5,'India daily case count', transform = ax1.transAxes, fontsize=25);\n",
    "ax1.spines['right'].set_visible(False)\n",
    "ax1.spines['top'].set_visible(False)\n",
    "\n",
    "ax2 = fig.add_subplot(gs[1,0])\n",
    "ef = df.loc['Maharashtra'].rename_axis('date').reset_index()\n",
    "ef['date'] = ef['date'].astype('datetime64[ns]')\n",
    "\n",
    "ax2.bar(ef.date, ef.Maharashtra,color = '#007acc',alpha=0.5)\n",
    "ax2.xaxis.set_major_locator(mdates.WeekdayLocator())\n",
    "ax2.xaxis.set_major_formatter(mdates.DateFormatter('%b %d'))\n",
    "ax2.set_xticks(ax2.get_xticks()[::3])\n",
    "maxyval = ef.Maharashtra.max()\n",
    "ax2.set_ylim([0,maxyval])\n",
    "ax2.text(0.05, 0.9,'Maharashtra', transform = ax2.transAxes, fontsize=20);\n",
    "ax2.spines['right'].set_visible(False)\n",
    "ax2.spines['top'].set_visible(False)\n",
    "\n",
    "\n",
    "ax3 = fig.add_subplot(gs[1,1])\n",
    "ef = df.loc['Tamil Nadu'].rename_axis('date').reset_index()\n",
    "ef['date'] = ef['date'].astype('datetime64[ns]')\n",
    "ax3.bar(ef.date, ef['Tamil Nadu'],color = '#007acc',alpha=0.5,)\n",
    "ax3.xaxis.set_major_locator(mdates.WeekdayLocator())\n",
    "ax3.xaxis.set_major_formatter(mdates.DateFormatter('%b %d'))\n",
    "ax3.set_xticks(ax3.get_xticks()[::3])\n",
    "ax3.text(0.05, 0.9,'Tamil Nadu', transform = ax3.transAxes, fontsize=20);\n",
    "ax3.spines['right'].set_visible(False)\n",
    "ax3.spines['top'].set_visible(False)\n",
    "\n",
    "ax5 = fig.add_subplot(gs[1,3])\n",
    "ef = df.loc['Telangana'].rename_axis('date').reset_index()\n",
    "ef['date'] = ef['date'].astype('datetime64[ns]')\n",
    "ax5.bar(ef.date, ef['Telangana'],color = '#007acc',alpha=0.5,)\n",
    "ax5.xaxis.set_major_locator(mdates.WeekdayLocator())\n",
    "ax5.xaxis.set_major_formatter(mdates.DateFormatter('%b %d'))\n",
    "ax5.set_xticks(ax5.get_xticks()[::3])\n",
    "ax5.text(0.05, 0.9,'Telangana', transform = ax5.transAxes, fontsize=20);\n",
    "ax5.spines['right'].set_visible(False)\n",
    "ax5.spines['top'].set_visible(False)\n",
    "\n",
    "ax6 = fig.add_subplot(gs[1,4])\n",
    "ef = df.loc['Andhra Pradesh'].rename_axis('date').reset_index()\n",
    "ef['date'] = ef['date'].astype('datetime64[ns]')\n",
    "ax6.bar(ef.date, ef['Andhra Pradesh'],color = '#007acc',alpha=0.5,)\n",
    "ax6.xaxis.set_major_locator(mdates.WeekdayLocator())\n",
    "ax6.xaxis.set_major_formatter(mdates.DateFormatter('%b %d'))\n",
    "ax6.set_xticks(ax6.get_xticks()[::3])\n",
    "ax6.text(0.05, 1,'Andhra Pradesh', transform = ax6.transAxes, fontsize=20);\n",
    "ax6.spines['right'].set_visible(False)\n",
    "ax6.spines['top'].set_visible(False)\n",
    "\n",
    "ax4 = fig.add_subplot(gs[1,2])\n",
    "ef = df.loc['Delhi'].rename_axis('date').reset_index()\n",
    "ef['date'] = ef['date'].astype('datetime64[ns]')\n",
    "ax4.bar(ef.date, ef.Delhi,color = '#007acc',alpha=0.5)\n",
    "ax4.set_xticks([])\n",
    "ax4.xaxis.set_major_locator(mdates.WeekdayLocator())\n",
    "ax4.xaxis.set_major_formatter(mdates.DateFormatter('%b %d'))\n",
    "ax4.set_xticks(ax4.get_xticks()[::3])\n",
    "ax4.spines['right'].set_visible(False)\n",
    "ax4.spines['top'].set_visible(False)\n",
    "\n",
    "ax4.text(0.05, 1,'Delhi', transform = ax4.transAxes, fontsize=20)\n",
    "\n",
    "for i in range(n):\n",
    "    \n",
    "    ax.append(fig.add_subplot(gs[i+2,:]))\n",
    "    ef = df.iloc[i+3].rename_axis('date').reset_index()\n",
    "    ef['date'] = ef['date'].astype('datetime64[ns]')\n",
    "    ax[i].bar(ef.date,ef.iloc[:,-1],color = '#007acc',alpha=0.3)\n",
    "    ax[i].plot(ef.date,ef.iloc[:,-1],marker='o',color='#007acc')\n",
    "    ax[i].text(0.02,0.5,f'{ef.columns.values[-1]}',transform = ax[i].transAxes, fontsize = 20);\n",
    "    ax[i].xaxis.set_major_locator(mdates.WeekdayLocator())\n",
    "    ax[i].xaxis.set_major_formatter(mdates.DateFormatter('%b %d'))\n",
    "    ax[i].set_ylim([0,7000])\n",
    "    ax[i].spines['right'].set_visible(False)\n",
    "    ax[i].spines['top'].set_visible(False)\n",
    "plt.tight_layout()\n"
   ]
  },
  {
   "cell_type": "code",
   "execution_count": 20,
   "metadata": {
    "execution": {
     "iopub.execute_input": "2020-08-19T12:51:08.290615Z",
     "iopub.status.busy": "2020-08-19T12:51:08.290190Z",
     "iopub.status.idle": "2020-08-19T12:51:08.292478Z",
     "shell.execute_reply": "2020-08-19T12:51:08.292052Z"
    },
    "papermill": {
     "duration": 0.024937,
     "end_time": "2020-08-19T12:51:08.292560",
     "exception": false,
     "start_time": "2020-08-19T12:51:08.267623",
     "status": "completed"
    },
    "tags": []
   },
   "outputs": [
    {
     "name": "stdout",
     "output_type": "stream",
     "text": [
      "                                   states   Cases  Deaths  PCases  PDeaths  Cases (+)  Deaths (+)  Fatality Rate\n",
      "                              Maharashtra  615477   20687  615477    20687          0           0           3.36\n",
      "                               Tamil Nadu  349654    6007  349654     6007          0           0           1.72\n",
      "                           Andhra Pradesh  316003    2906  306261     2820       9742          86           0.92\n",
      "                                Karnataka  240948    4201  240948     4201          0           0           1.74\n",
      "                            Uttar Pradesh  162434    2585  162434     2585          0           0           1.59\n",
      "                                    Delhi  156139    4235  154741     4226       1398           9           2.71\n",
      "                              West Bengal  122753    2528  122753     2528          0           0           2.06\n",
      "                                    Bihar  112759     568  109875      558       2884          10           0.50\n",
      "                                Telangana   95700     719   93937      711       1763           8           0.75\n",
      "                                    Assam   82202     203   82202      203          0           0           0.25\n",
      "                                  Gujarat   80942    2820   80942     2820          0           0           3.48\n",
      "                                   Odisha   67122     425   64533      415       2589          10           0.63\n",
      "                                Rajasthan   64676     908   63977      898        699          10           1.40\n",
      "                                  Haryana   48936     557   48936      557          0           0           1.14\n",
      "                                   Kerala   47898     176   47898      176          0           0           0.37\n",
      "                           Madhya Pradesh   47375    1141   47375     1141          0           0           2.41\n",
      "                                   Punjab   34400     898   34400      898          0           0           2.61\n",
      "                        Jammu and Kashmir   29326     561   29326      561          0           0           1.91\n",
      "                                Jharkhand   25333     265   25333      265          0           0           1.05\n",
      "                             Chhattisgarh   16833     158   16833      158          0           0           0.94\n",
      "                              Uttarakhand   12961     164   12961      164          0           0           1.27\n",
      "                                      Goa   12333     116   12333      116          0           0           0.94\n",
      "                               Puducherry    8396     123    8396      123          0           0           1.46\n",
      "                                  Tripura    7660      65    7424       62        236           3           0.85\n",
      "                                  Manipur    4876      18    4765       18        111           0           0.37\n",
      "                         Himachal Pradesh    4318      20    4235       18         83           2           0.46\n",
      "                                 Nagaland    3558       7    3520        7         38           0           0.20\n",
      "                        Arunachal Pradesh    2875       5    2875        5          0           0           0.17\n",
      "              Andaman and Nicobar Islands    2529      30    2529       30          0           0           1.19\n",
      "                               Chandigarh    2305      30    2305       30          0           0           1.30\n",
      "                                   Ladakh    2010      17    2010       17          0           0           0.85\n",
      " Dadra and Nagar Haveli and Daman and Diu    1987       2    1959        2         28           0           0.10\n",
      "                                Meghalaya    1506       6    1457        6         49           0           0.40\n",
      "                                   Sikkim    1207       2    1207        2          0           0           0.17\n",
      "                                  Mizoram     860       0     815        0         45           0           0.00\n",
      "                              Lakshadweep       0       0       0        0          0           0            NaN\n"
     ]
    }
   ],
   "source": [
    "#hide_input\n",
    "print(df_table.to_string(index=False))"
   ]
  },
  {
   "cell_type": "code",
   "execution_count": null,
   "metadata": {
    "papermill": {
     "duration": 0.01841,
     "end_time": "2020-08-19T12:51:08.327610",
     "exception": false,
     "start_time": "2020-08-19T12:51:08.309200",
     "status": "completed"
    },
    "tags": []
   },
   "outputs": [],
   "source": []
  },
  {
   "cell_type": "code",
   "execution_count": null,
   "metadata": {
    "papermill": {
     "duration": 0.016434,
     "end_time": "2020-08-19T12:51:08.361467",
     "exception": false,
     "start_time": "2020-08-19T12:51:08.345033",
     "status": "completed"
    },
    "tags": []
   },
   "outputs": [],
   "source": []
  }
 ],
 "metadata": {
  "kernelspec": {
   "display_name": "Python 3",
   "language": "python",
   "name": "python3"
  },
  "language_info": {
   "codemirror_mode": {
    "name": "ipython",
    "version": 3
   },
   "file_extension": ".py",
   "mimetype": "text/x-python",
   "name": "python",
   "nbconvert_exporter": "python",
   "pygments_lexer": "ipython3",
   "version": "3.6.11"
  },
  "papermill": {
   "duration": 5.967651,
   "end_time": "2020-08-19T12:51:08.686233",
   "environment_variables": {},
   "exception": null,
   "input_path": "latest.ipynb",
   "output_path": "latest.ipynb",
   "parameters": {},
   "start_time": "2020-08-19T12:51:02.718582",
   "version": "2.1.2"
  }
 },
 "nbformat": 4,
 "nbformat_minor": 4
}