{
 "cells": [
  {
   "cell_type": "markdown",
   "id": "colored-stack",
   "metadata": {
    "papermill": {
     "duration": 0.023483,
     "end_time": "2021-02-09T11:55:15.542993",
     "exception": false,
     "start_time": "2021-02-09T11:55:15.519510",
     "status": "completed"
    },
    "tags": []
   },
   "source": [
    "# Latest COVID-19 India Matplotlib Overview"
   ]
  },
  {
   "cell_type": "code",
   "execution_count": 1,
   "id": "light-proportion",
   "metadata": {
    "execution": {
     "iopub.execute_input": "2021-02-09T11:55:15.595983Z",
     "iopub.status.busy": "2021-02-09T11:55:15.595273Z",
     "iopub.status.idle": "2021-02-09T11:55:16.240642Z",
     "shell.execute_reply": "2021-02-09T11:55:16.240061Z"
    },
    "papermill": {
     "duration": 0.677779,
     "end_time": "2021-02-09T11:55:16.240809",
     "exception": false,
     "start_time": "2021-02-09T11:55:15.563030",
     "status": "completed"
    },
    "tags": []
   },
   "outputs": [],
   "source": [
    "#hide\n",
    "import pandas as pd\n",
    "import numpy as np\n",
    "import requests\n",
    "import json\n",
    "import matplotlib.pyplot as plt\n",
    "import matplotlib.dates as mdates\n",
    "import matplotlib as mpl\n",
    "from IPython.core.display import display,HTML\n",
    "%matplotlib inline\n",
    "from datetime import date"
   ]
  },
  {
   "cell_type": "code",
   "execution_count": 2,
   "id": "greenhouse-shooting",
   "metadata": {
    "execution": {
     "iopub.execute_input": "2021-02-09T11:55:16.288246Z",
     "iopub.status.busy": "2021-02-09T11:55:16.287580Z",
     "iopub.status.idle": "2021-02-09T11:55:16.495068Z",
     "shell.execute_reply": "2021-02-09T11:55:16.494422Z"
    },
    "papermill": {
     "duration": 0.234268,
     "end_time": "2021-02-09T11:55:16.495226",
     "exception": false,
     "start_time": "2021-02-09T11:55:16.260958",
     "status": "completed"
    },
    "tags": []
   },
   "outputs": [],
   "source": [
    "#hide\n",
    "df  = pd.read_csv('https://api.covid19india.org/csv/latest/states.csv')\n",
    "df = df[['Date','State','Confirmed','Deceased']]\n",
    "df = df.rename(columns={'Confirmed':'Cases', \"Deceased\":'Deaths'})\n",
    "df_cases = df[[\"Date\",'State','Cases']]\n",
    "df_deaths = df[['Date','State','Deaths']]\n",
    "df_cases1 = df_cases.groupby('Date')\n",
    "df_deaths1= df_deaths.groupby('Date')"
   ]
  },
  {
   "cell_type": "code",
   "execution_count": 3,
   "id": "hybrid-cathedral",
   "metadata": {
    "execution": {
     "iopub.execute_input": "2021-02-09T11:55:16.539607Z",
     "iopub.status.busy": "2021-02-09T11:55:16.538978Z",
     "iopub.status.idle": "2021-02-09T11:55:16.558555Z",
     "shell.execute_reply": "2021-02-09T11:55:16.559079Z"
    },
    "papermill": {
     "duration": 0.044119,
     "end_time": "2021-02-09T11:55:16.559229",
     "exception": false,
     "start_time": "2021-02-09T11:55:16.515110",
     "status": "completed"
    },
    "tags": []
   },
   "outputs": [],
   "source": [
    "#hide\n",
    "df_snap = pd.read_csv('data/SnapshotCases-28-July.csv')\n",
    "arr_states = df_snap['states'].unique()\n",
    "arr_dates = df['Date'].unique()\n",
    "df_snap = df_snap.set_index('states')"
   ]
  },
  {
   "cell_type": "code",
   "execution_count": 4,
   "id": "interior-belfast",
   "metadata": {
    "execution": {
     "iopub.execute_input": "2021-02-09T11:55:16.607488Z",
     "iopub.status.busy": "2021-02-09T11:55:16.606665Z",
     "iopub.status.idle": "2021-02-09T11:55:16.610456Z",
     "shell.execute_reply": "2021-02-09T11:55:16.611179Z"
    },
    "papermill": {
     "duration": 0.032503,
     "end_time": "2021-02-09T11:55:16.611333",
     "exception": false,
     "start_time": "2021-02-09T11:55:16.578830",
     "status": "completed"
    },
    "tags": []
   },
   "outputs": [
    {
     "data": {
      "text/plain": [
       "array(['Andaman and Nicobar Islands', 'Andhra Pradesh',\n",
       "       'Arunachal Pradesh', 'Assam', 'Bihar', 'Chandigarh',\n",
       "       'Dadra and Nagar Haveli and Daman and Diu', 'Delhi', 'Goa',\n",
       "       'Gujarat', 'Haryana', 'Himachal Pradesh', 'Jammu and Kashmir',\n",
       "       'Jharkhand', 'Karnataka', 'Kerala', 'Lakshadweep',\n",
       "       'Madhya Pradesh', 'Maharashtra', 'Manipur', 'Meghalaya', 'Mizoram',\n",
       "       'Nagaland', 'Odisha', 'Puducherry', 'Punjab', 'Rajasthan',\n",
       "       'Sikkim', 'Tamil Nadu', 'Telangana', 'Tripura', 'Uttar Pradesh',\n",
       "       'West Bengal', 'Chhattisgarh', 'Ladakh', 'Uttarakhand'],\n",
       "      dtype=object)"
      ]
     },
     "execution_count": 4,
     "metadata": {},
     "output_type": "execute_result"
    }
   ],
   "source": [
    "#hide\n",
    "arr_states[-9] = 'Puducherry'\n",
    "arr_states[-10] = 'Odisha'\n",
    "arr_states[6] = 'Dadra and Nagar Haveli and Daman and Diu'\n",
    "arr_states = np.append(arr_states,np.array(['Chhattisgarh','Ladakh','Uttarakhand']))\n",
    "arr_states"
   ]
  },
  {
   "cell_type": "code",
   "execution_count": 5,
   "id": "behind-manner",
   "metadata": {
    "execution": {
     "iopub.execute_input": "2021-02-09T11:55:16.662288Z",
     "iopub.status.busy": "2021-02-09T11:55:16.661660Z",
     "iopub.status.idle": "2021-02-09T11:55:16.671427Z",
     "shell.execute_reply": "2021-02-09T11:55:16.672164Z"
    },
    "papermill": {
     "duration": 0.041228,
     "end_time": "2021-02-09T11:55:16.672331",
     "exception": false,
     "start_time": "2021-02-09T11:55:16.631103",
     "status": "completed"
    },
    "tags": []
   },
   "outputs": [],
   "source": [
    "#hide\n",
    "dates = []\n",
    "for i in arr_dates:\n",
    "    if i>='2020-07-01':\n",
    "        dates.append(i)\n",
    "dict = {'states':dates}\n",
    "for i in arr_states:\n",
    "    dict[i] = [0]*len(dates)\n",
    "dft_cases = pd.DataFrame(dict)\n",
    "dft_deaths = pd.DataFrame(dict)\n"
   ]
  },
  {
   "cell_type": "code",
   "execution_count": 6,
   "id": "simplified-peter",
   "metadata": {
    "execution": {
     "iopub.execute_input": "2021-02-09T11:55:16.720042Z",
     "iopub.status.busy": "2021-02-09T11:55:16.719327Z",
     "iopub.status.idle": "2021-02-09T11:55:20.962804Z",
     "shell.execute_reply": "2021-02-09T11:55:20.962147Z"
    },
    "papermill": {
     "duration": 4.27114,
     "end_time": "2021-02-09T11:55:20.962990",
     "exception": false,
     "start_time": "2021-02-09T11:55:16.691850",
     "status": "completed"
    },
    "tags": []
   },
   "outputs": [],
   "source": [
    "#hide\n",
    "for i in range(len(dates)):\n",
    "    df1_deaths = df_deaths1.get_group(dates[i])\n",
    "    for j in range(len(df1_deaths.index)):\n",
    "        if df1_deaths.iloc[j,1] in arr_states:\n",
    "            dft_deaths.loc[i,df1_deaths.iloc[j,1]] = df1_deaths.iloc[j,2]\n",
    "dft_deaths = dft_deaths.set_index('states')"
   ]
  },
  {
   "cell_type": "code",
   "execution_count": 7,
   "id": "geological-welding",
   "metadata": {
    "execution": {
     "iopub.execute_input": "2021-02-09T11:55:21.010446Z",
     "iopub.status.busy": "2021-02-09T11:55:21.009790Z",
     "iopub.status.idle": "2021-02-09T11:55:25.356550Z",
     "shell.execute_reply": "2021-02-09T11:55:25.355445Z"
    },
    "papermill": {
     "duration": 4.372863,
     "end_time": "2021-02-09T11:55:25.356745",
     "exception": false,
     "start_time": "2021-02-09T11:55:20.983882",
     "status": "completed"
    },
    "tags": []
   },
   "outputs": [],
   "source": [
    "#hide\n",
    "for i in range(len(dates)):\n",
    "    df1_cases = df_cases1.get_group(dates[i])\n",
    "    for j in range(len(df1_cases.index)):\n",
    "        if df1_cases.iloc[j,1] in arr_states:\n",
    "            dft_cases.loc[i,df1_cases.iloc[j,1]] = df1_cases.iloc[j,2]\n",
    "dft_cases = dft_cases.set_index('states')"
   ]
  },
  {
   "cell_type": "code",
   "execution_count": 8,
   "id": "binary-ratio",
   "metadata": {
    "execution": {
     "iopub.execute_input": "2021-02-09T11:55:25.405162Z",
     "iopub.status.busy": "2021-02-09T11:55:25.403120Z",
     "iopub.status.idle": "2021-02-09T11:55:25.405948Z",
     "shell.execute_reply": "2021-02-09T11:55:25.406501Z"
    },
    "papermill": {
     "duration": 0.030003,
     "end_time": "2021-02-09T11:55:25.406685",
     "exception": false,
     "start_time": "2021-02-09T11:55:25.376682",
     "status": "completed"
    },
    "tags": []
   },
   "outputs": [],
   "source": [
    "#hide\n",
    "dft_cases = dft_cases.T\n",
    "dft_deaths = dft_deaths.T\n",
    "dt_today = dates[-1]\n",
    "dt_yday = dates[-2]"
   ]
  },
  {
   "cell_type": "code",
   "execution_count": 9,
   "id": "boolean-calculator",
   "metadata": {
    "execution": {
     "iopub.execute_input": "2021-02-09T11:55:25.459609Z",
     "iopub.status.busy": "2021-02-09T11:55:25.458903Z",
     "iopub.status.idle": "2021-02-09T11:55:25.466052Z",
     "shell.execute_reply": "2021-02-09T11:55:25.465468Z"
    },
    "papermill": {
     "duration": 0.03783,
     "end_time": "2021-02-09T11:55:25.466267",
     "exception": false,
     "start_time": "2021-02-09T11:55:25.428437",
     "status": "completed"
    },
    "tags": []
   },
   "outputs": [],
   "source": [
    "#hide\n",
    "dft_cases = dft_cases.reset_index()\n",
    "dft_deaths = dft_deaths.reset_index()\n",
    "dft_cases = dft_cases.rename(columns = {'index':'state'})\n",
    "dft_deaths = dft_deaths.rename(columns = {'index':'state'})"
   ]
  },
  {
   "cell_type": "code",
   "execution_count": 10,
   "id": "invisible-johnston",
   "metadata": {
    "execution": {
     "iopub.execute_input": "2021-02-09T11:55:25.527068Z",
     "iopub.status.busy": "2021-02-09T11:55:25.526354Z",
     "iopub.status.idle": "2021-02-09T11:55:25.529182Z",
     "shell.execute_reply": "2021-02-09T11:55:25.528467Z"
    },
    "papermill": {
     "duration": 0.039239,
     "end_time": "2021-02-09T11:55:25.529382",
     "exception": false,
     "start_time": "2021-02-09T11:55:25.490143",
     "status": "completed"
    },
    "tags": []
   },
   "outputs": [],
   "source": [
    "#hide\n",
    "dfc_cases = dft_cases.groupby('state')[dt_today].sum()\n",
    "dfc_deaths = dft_deaths.groupby('state')[dt_today].sum()\n",
    "dfp_cases = dft_cases.groupby('state')[dt_yday].sum()\n",
    "dfp_deaths = dft_deaths.groupby('state')[dt_yday].sum()"
   ]
  },
  {
   "cell_type": "code",
   "execution_count": 11,
   "id": "measured-great",
   "metadata": {
    "execution": {
     "iopub.execute_input": "2021-02-09T11:55:25.575834Z",
     "iopub.status.busy": "2021-02-09T11:55:25.575031Z",
     "iopub.status.idle": "2021-02-09T11:55:25.594868Z",
     "shell.execute_reply": "2021-02-09T11:55:25.594265Z"
    },
    "papermill": {
     "duration": 0.04593,
     "end_time": "2021-02-09T11:55:25.595013",
     "exception": false,
     "start_time": "2021-02-09T11:55:25.549083",
     "status": "completed"
    },
    "tags": []
   },
   "outputs": [
    {
     "data": {
      "text/html": [
       "<div>\n",
       "<style scoped>\n",
       "    .dataframe tbody tr th:only-of-type {\n",
       "        vertical-align: middle;\n",
       "    }\n",
       "\n",
       "    .dataframe tbody tr th {\n",
       "        vertical-align: top;\n",
       "    }\n",
       "\n",
       "    .dataframe thead th {\n",
       "        text-align: right;\n",
       "    }\n",
       "</style>\n",
       "<table border=\"1\" class=\"dataframe\">\n",
       "  <thead>\n",
       "    <tr style=\"text-align: right;\">\n",
       "      <th></th>\n",
       "      <th>states</th>\n",
       "      <th>Cases</th>\n",
       "      <th>Deaths</th>\n",
       "      <th>PCases</th>\n",
       "      <th>PDeaths</th>\n",
       "    </tr>\n",
       "  </thead>\n",
       "  <tbody>\n",
       "    <tr>\n",
       "      <th>0</th>\n",
       "      <td>Maharashtra</td>\n",
       "      <td>2046287</td>\n",
       "      <td>51325</td>\n",
       "      <td>2046287</td>\n",
       "      <td>51325</td>\n",
       "    </tr>\n",
       "    <tr>\n",
       "      <th>1</th>\n",
       "      <td>Kerala</td>\n",
       "      <td>972181</td>\n",
       "      <td>3884</td>\n",
       "      <td>972181</td>\n",
       "      <td>3884</td>\n",
       "    </tr>\n",
       "    <tr>\n",
       "      <th>2</th>\n",
       "      <td>Karnataka</td>\n",
       "      <td>942846</td>\n",
       "      <td>12239</td>\n",
       "      <td>942846</td>\n",
       "      <td>12239</td>\n",
       "    </tr>\n",
       "    <tr>\n",
       "      <th>3</th>\n",
       "      <td>Andhra Pradesh</td>\n",
       "      <td>888485</td>\n",
       "      <td>7160</td>\n",
       "      <td>888485</td>\n",
       "      <td>7160</td>\n",
       "    </tr>\n",
       "    <tr>\n",
       "      <th>4</th>\n",
       "      <td>Tamil Nadu</td>\n",
       "      <td>842261</td>\n",
       "      <td>12387</td>\n",
       "      <td>842261</td>\n",
       "      <td>12387</td>\n",
       "    </tr>\n",
       "  </tbody>\n",
       "</table>\n",
       "</div>"
      ],
      "text/plain": [
       "           states    Cases  Deaths   PCases  PDeaths\n",
       "0     Maharashtra  2046287   51325  2046287    51325\n",
       "1          Kerala   972181    3884   972181     3884\n",
       "2       Karnataka   942846   12239   942846    12239\n",
       "3  Andhra Pradesh   888485    7160   888485     7160\n",
       "4      Tamil Nadu   842261   12387   842261    12387"
      ]
     },
     "execution_count": 11,
     "metadata": {},
     "output_type": "execute_result"
    }
   ],
   "source": [
    "#hide\n",
    "df_table = pd.DataFrame({'states': dfc_cases.index, 'Cases': dfc_cases.values, 'Deaths': dfc_deaths.values, 'PCases': dfp_cases.values, 'PDeaths': dfp_deaths.values}).set_index('states')\n",
    "df_table = df_table.sort_values(by = ['Cases','Deaths'], ascending = [False, False])\n",
    "df_table = df_table.reset_index()\n",
    "df_table.head()"
   ]
  },
  {
   "cell_type": "code",
   "execution_count": 12,
   "id": "found-montreal",
   "metadata": {
    "execution": {
     "iopub.execute_input": "2021-02-09T11:55:25.642328Z",
     "iopub.status.busy": "2021-02-09T11:55:25.641604Z",
     "iopub.status.idle": "2021-02-09T11:55:25.651805Z",
     "shell.execute_reply": "2021-02-09T11:55:25.651222Z"
    },
    "papermill": {
     "duration": 0.036143,
     "end_time": "2021-02-09T11:55:25.651940",
     "exception": false,
     "start_time": "2021-02-09T11:55:25.615797",
     "status": "completed"
    },
    "tags": []
   },
   "outputs": [],
   "source": [
    "#hide\n",
    "for c in 'Cases, Deaths'.split(', '):\n",
    "    df_table[f'{c} (+)'] = (df_table[c] - df_table[f'P{c}']).clip(0)\n",
    "df_table['Fatality Rate'] = (100* df_table['Deaths']/ df_table['Cases']).round(2)"
   ]
  },
  {
   "cell_type": "code",
   "execution_count": 13,
   "id": "minus-savage",
   "metadata": {
    "execution": {
     "iopub.execute_input": "2021-02-09T11:55:25.704437Z",
     "iopub.status.busy": "2021-02-09T11:55:25.703789Z",
     "iopub.status.idle": "2021-02-09T11:55:25.707238Z",
     "shell.execute_reply": "2021-02-09T11:55:25.706688Z"
    },
    "papermill": {
     "duration": 0.035104,
     "end_time": "2021-02-09T11:55:25.707373",
     "exception": false,
     "start_time": "2021-02-09T11:55:25.672269",
     "status": "completed"
    },
    "tags": []
   },
   "outputs": [
    {
     "data": {
      "text/html": [
       "<div>\n",
       "<style scoped>\n",
       "    .dataframe tbody tr th:only-of-type {\n",
       "        vertical-align: middle;\n",
       "    }\n",
       "\n",
       "    .dataframe tbody tr th {\n",
       "        vertical-align: top;\n",
       "    }\n",
       "\n",
       "    .dataframe thead th {\n",
       "        text-align: right;\n",
       "    }\n",
       "</style>\n",
       "<table border=\"1\" class=\"dataframe\">\n",
       "  <thead>\n",
       "    <tr style=\"text-align: right;\">\n",
       "      <th></th>\n",
       "      <th>states</th>\n",
       "      <th>Cases</th>\n",
       "      <th>Deaths</th>\n",
       "      <th>PCases</th>\n",
       "      <th>PDeaths</th>\n",
       "      <th>Cases (+)</th>\n",
       "      <th>Deaths (+)</th>\n",
       "      <th>Fatality Rate</th>\n",
       "    </tr>\n",
       "  </thead>\n",
       "  <tbody>\n",
       "    <tr>\n",
       "      <th>0</th>\n",
       "      <td>Maharashtra</td>\n",
       "      <td>2046287</td>\n",
       "      <td>51325</td>\n",
       "      <td>2046287</td>\n",
       "      <td>51325</td>\n",
       "      <td>0</td>\n",
       "      <td>0</td>\n",
       "      <td>2.51</td>\n",
       "    </tr>\n",
       "    <tr>\n",
       "      <th>1</th>\n",
       "      <td>Kerala</td>\n",
       "      <td>972181</td>\n",
       "      <td>3884</td>\n",
       "      <td>972181</td>\n",
       "      <td>3884</td>\n",
       "      <td>0</td>\n",
       "      <td>0</td>\n",
       "      <td>0.40</td>\n",
       "    </tr>\n",
       "    <tr>\n",
       "      <th>2</th>\n",
       "      <td>Karnataka</td>\n",
       "      <td>942846</td>\n",
       "      <td>12239</td>\n",
       "      <td>942846</td>\n",
       "      <td>12239</td>\n",
       "      <td>0</td>\n",
       "      <td>0</td>\n",
       "      <td>1.30</td>\n",
       "    </tr>\n",
       "    <tr>\n",
       "      <th>3</th>\n",
       "      <td>Andhra Pradesh</td>\n",
       "      <td>888485</td>\n",
       "      <td>7160</td>\n",
       "      <td>888485</td>\n",
       "      <td>7160</td>\n",
       "      <td>0</td>\n",
       "      <td>0</td>\n",
       "      <td>0.81</td>\n",
       "    </tr>\n",
       "    <tr>\n",
       "      <th>4</th>\n",
       "      <td>Tamil Nadu</td>\n",
       "      <td>842261</td>\n",
       "      <td>12387</td>\n",
       "      <td>842261</td>\n",
       "      <td>12387</td>\n",
       "      <td>0</td>\n",
       "      <td>0</td>\n",
       "      <td>1.47</td>\n",
       "    </tr>\n",
       "  </tbody>\n",
       "</table>\n",
       "</div>"
      ],
      "text/plain": [
       "           states    Cases  Deaths   PCases  PDeaths  Cases (+)  Deaths (+)  \\\n",
       "0     Maharashtra  2046287   51325  2046287    51325          0           0   \n",
       "1          Kerala   972181    3884   972181     3884          0           0   \n",
       "2       Karnataka   942846   12239   942846    12239          0           0   \n",
       "3  Andhra Pradesh   888485    7160   888485     7160          0           0   \n",
       "4      Tamil Nadu   842261   12387   842261    12387          0           0   \n",
       "\n",
       "   Fatality Rate  \n",
       "0           2.51  \n",
       "1           0.40  \n",
       "2           1.30  \n",
       "3           0.81  \n",
       "4           1.47  "
      ]
     },
     "execution_count": 13,
     "metadata": {},
     "output_type": "execute_result"
    }
   ],
   "source": [
    "#hide\n",
    "df_table.head()"
   ]
  },
  {
   "cell_type": "code",
   "execution_count": 14,
   "id": "false-peter",
   "metadata": {
    "execution": {
     "iopub.execute_input": "2021-02-09T11:55:25.772575Z",
     "iopub.status.busy": "2021-02-09T11:55:25.771856Z",
     "iopub.status.idle": "2021-02-09T11:55:25.775878Z",
     "shell.execute_reply": "2021-02-09T11:55:25.775315Z"
    },
    "papermill": {
     "duration": 0.046472,
     "end_time": "2021-02-09T11:55:25.776046",
     "exception": false,
     "start_time": "2021-02-09T11:55:25.729574",
     "status": "completed"
    },
    "tags": []
   },
   "outputs": [
    {
     "data": {
      "text/plain": [
       "{'updated': '2021-02-09',\n",
       " 'since': '2021-02-08',\n",
       " 'Cases': 10847790,\n",
       " 'PCases': 10847790,\n",
       " 'Deaths': 155195,\n",
       " 'PDeaths': 155195,\n",
       " 'Cases (+)': 0,\n",
       " 'Deaths (+)': 0}"
      ]
     },
     "execution_count": 14,
     "metadata": {},
     "output_type": "execute_result"
    }
   ],
   "source": [
    "#hide\n",
    "summary = {'updated':dates[-1], 'since':dates[-2]}\n",
    "list_names = ['Cases', 'PCases', 'Deaths', 'PDeaths', 'Cases (+)', 'Deaths (+)']\n",
    "for name in list_names:\n",
    "    summary[name] = df_table.sum()[name]\n",
    "summary"
   ]
  },
  {
   "cell_type": "code",
   "execution_count": 15,
   "id": "packed-viewer",
   "metadata": {
    "execution": {
     "iopub.execute_input": "2021-02-09T11:55:25.824261Z",
     "iopub.status.busy": "2021-02-09T11:55:25.823598Z",
     "iopub.status.idle": "2021-02-09T11:55:25.827023Z",
     "shell.execute_reply": "2021-02-09T11:55:25.826384Z"
    },
    "papermill": {
     "duration": 0.02881,
     "end_time": "2021-02-09T11:55:25.827162",
     "exception": false,
     "start_time": "2021-02-09T11:55:25.798352",
     "status": "completed"
    },
    "tags": []
   },
   "outputs": [],
   "source": [
    "#hide\n",
    "overview = '''\n",
    "<!-- #######  HTML!! #########-->\n",
    "<h1 style=\"color: #5e9ca0; text-align: center;\">India</h1>\n",
    "<p style=\"text-align: center;\">Last update: <strong>{update}</strong></p>\n",
    "<p style=\"text-align: center;\">Confirmed cases:</p>\n",
    "<p style=\"text-align: center;font-size:24px;\">{cases} (<span style=\"color: #ff0000;\">+{new}</span>)</p>\n",
    "<p style=\"text-align: center;\">Confirmed deaths:</p>\n",
    "<p style=\"text-align: center;font-size:24px;\">{deaths} (<span style=\"color: #ff0000;\">+{dnew}</span>)</p>\n",
    "'''"
   ]
  },
  {
   "cell_type": "code",
   "execution_count": 16,
   "id": "phantom-lover",
   "metadata": {
    "execution": {
     "iopub.execute_input": "2021-02-09T11:55:25.877270Z",
     "iopub.status.busy": "2021-02-09T11:55:25.876490Z",
     "iopub.status.idle": "2021-02-09T11:55:25.880061Z",
     "shell.execute_reply": "2021-02-09T11:55:25.879415Z"
    },
    "papermill": {
     "duration": 0.029303,
     "end_time": "2021-02-09T11:55:25.880231",
     "exception": false,
     "start_time": "2021-02-09T11:55:25.850928",
     "status": "completed"
    },
    "tags": []
   },
   "outputs": [
    {
     "data": {
      "text/html": [
       "\n",
       "<!-- #######  HTML!! #########-->\n",
       "<h1 style=\"color: #5e9ca0; text-align: center;\">India</h1>\n",
       "<p style=\"text-align: center;\">Last update: <strong>2021-02-09</strong></p>\n",
       "<p style=\"text-align: center;\">Confirmed cases:</p>\n",
       "<p style=\"text-align: center;font-size:24px;\">10847790 (<span style=\"color: #ff0000;\">+0</span>)</p>\n",
       "<p style=\"text-align: center;\">Confirmed deaths:</p>\n",
       "<p style=\"text-align: center;font-size:24px;\">155195 (<span style=\"color: #ff0000;\">+0</span>)</p>\n"
      ],
      "text/plain": [
       "<IPython.core.display.HTML object>"
      ]
     },
     "metadata": {},
     "output_type": "display_data"
    }
   ],
   "source": [
    "#hide_input\n",
    "update = summary['updated']\n",
    "cases = summary['Cases']\n",
    "new = summary['Cases (+)']\n",
    "deaths = summary['Deaths']\n",
    "dnew = summary['Deaths (+)']\n",
    "\n",
    "html = HTML(overview.format(update=update, cases=cases,new=new,deaths=deaths,dnew=dnew))\n",
    "\n",
    "display(html)"
   ]
  },
  {
   "cell_type": "code",
   "execution_count": 17,
   "id": "sealed-reset",
   "metadata": {
    "execution": {
     "iopub.execute_input": "2021-02-09T11:55:25.929264Z",
     "iopub.status.busy": "2021-02-09T11:55:25.928549Z",
     "iopub.status.idle": "2021-02-09T11:55:25.936503Z",
     "shell.execute_reply": "2021-02-09T11:55:25.937051Z"
    },
    "papermill": {
     "duration": 0.035837,
     "end_time": "2021-02-09T11:55:25.937256",
     "exception": false,
     "start_time": "2021-02-09T11:55:25.901419",
     "status": "completed"
    },
    "tags": []
   },
   "outputs": [],
   "source": [
    "#hide\n",
    "dt_cols = list(dft_cases.columns[1:])\n",
    "dft_ct_new_cases = dft_cases.groupby('state')[dt_cols].sum().diff(axis=1).fillna(0).astype(int)\n",
    "dft_ct_new_cases.sort_values(by = dates[-1], ascending = False,inplace = True)"
   ]
  },
  {
   "cell_type": "code",
   "execution_count": 18,
   "id": "designed-constant",
   "metadata": {
    "execution": {
     "iopub.execute_input": "2021-02-09T11:55:25.999714Z",
     "iopub.status.busy": "2021-02-09T11:55:25.998919Z",
     "iopub.status.idle": "2021-02-09T11:55:26.002767Z",
     "shell.execute_reply": "2021-02-09T11:55:26.002147Z"
    },
    "papermill": {
     "duration": 0.044162,
     "end_time": "2021-02-09T11:55:26.002905",
     "exception": false,
     "start_time": "2021-02-09T11:55:25.958743",
     "status": "completed"
    },
    "tags": []
   },
   "outputs": [
    {
     "data": {
      "text/html": [
       "<div>\n",
       "<style scoped>\n",
       "    .dataframe tbody tr th:only-of-type {\n",
       "        vertical-align: middle;\n",
       "    }\n",
       "\n",
       "    .dataframe tbody tr th {\n",
       "        vertical-align: top;\n",
       "    }\n",
       "\n",
       "    .dataframe thead th {\n",
       "        text-align: right;\n",
       "    }\n",
       "</style>\n",
       "<table border=\"1\" class=\"dataframe\">\n",
       "  <thead>\n",
       "    <tr style=\"text-align: right;\">\n",
       "      <th>states</th>\n",
       "      <th>2020-07-01</th>\n",
       "      <th>2020-07-02</th>\n",
       "      <th>2020-07-03</th>\n",
       "      <th>2020-07-04</th>\n",
       "      <th>2020-07-05</th>\n",
       "      <th>2020-07-06</th>\n",
       "      <th>2020-07-07</th>\n",
       "      <th>2020-07-08</th>\n",
       "      <th>2020-07-09</th>\n",
       "      <th>2020-07-10</th>\n",
       "      <th>...</th>\n",
       "      <th>2021-01-31</th>\n",
       "      <th>2021-02-01</th>\n",
       "      <th>2021-02-02</th>\n",
       "      <th>2021-02-03</th>\n",
       "      <th>2021-02-04</th>\n",
       "      <th>2021-02-05</th>\n",
       "      <th>2021-02-06</th>\n",
       "      <th>2021-02-07</th>\n",
       "      <th>2021-02-08</th>\n",
       "      <th>2021-02-09</th>\n",
       "    </tr>\n",
       "    <tr>\n",
       "      <th>state</th>\n",
       "      <th></th>\n",
       "      <th></th>\n",
       "      <th></th>\n",
       "      <th></th>\n",
       "      <th></th>\n",
       "      <th></th>\n",
       "      <th></th>\n",
       "      <th></th>\n",
       "      <th></th>\n",
       "      <th></th>\n",
       "      <th></th>\n",
       "      <th></th>\n",
       "      <th></th>\n",
       "      <th></th>\n",
       "      <th></th>\n",
       "      <th></th>\n",
       "      <th></th>\n",
       "      <th></th>\n",
       "      <th></th>\n",
       "      <th></th>\n",
       "      <th></th>\n",
       "    </tr>\n",
       "  </thead>\n",
       "  <tbody>\n",
       "    <tr>\n",
       "      <th>Andaman and Nicobar Islands</th>\n",
       "      <td>0</td>\n",
       "      <td>9</td>\n",
       "      <td>7</td>\n",
       "      <td>3</td>\n",
       "      <td>6</td>\n",
       "      <td>16</td>\n",
       "      <td>6</td>\n",
       "      <td>2</td>\n",
       "      <td>7</td>\n",
       "      <td>0</td>\n",
       "      <td>...</td>\n",
       "      <td>0</td>\n",
       "      <td>0</td>\n",
       "      <td>0</td>\n",
       "      <td>0</td>\n",
       "      <td>0</td>\n",
       "      <td>3</td>\n",
       "      <td>3</td>\n",
       "      <td>1</td>\n",
       "      <td>4</td>\n",
       "      <td>0</td>\n",
       "    </tr>\n",
       "    <tr>\n",
       "      <th>Andhra Pradesh</th>\n",
       "      <td>0</td>\n",
       "      <td>845</td>\n",
       "      <td>837</td>\n",
       "      <td>765</td>\n",
       "      <td>998</td>\n",
       "      <td>1322</td>\n",
       "      <td>1178</td>\n",
       "      <td>1062</td>\n",
       "      <td>1555</td>\n",
       "      <td>1608</td>\n",
       "      <td>...</td>\n",
       "      <td>116</td>\n",
       "      <td>64</td>\n",
       "      <td>104</td>\n",
       "      <td>95</td>\n",
       "      <td>79</td>\n",
       "      <td>97</td>\n",
       "      <td>75</td>\n",
       "      <td>73</td>\n",
       "      <td>62</td>\n",
       "      <td>0</td>\n",
       "    </tr>\n",
       "    <tr>\n",
       "      <th>Maharashtra</th>\n",
       "      <td>0</td>\n",
       "      <td>6328</td>\n",
       "      <td>6364</td>\n",
       "      <td>7074</td>\n",
       "      <td>6555</td>\n",
       "      <td>5368</td>\n",
       "      <td>5134</td>\n",
       "      <td>6603</td>\n",
       "      <td>6875</td>\n",
       "      <td>7862</td>\n",
       "      <td>...</td>\n",
       "      <td>2585</td>\n",
       "      <td>1948</td>\n",
       "      <td>1927</td>\n",
       "      <td>2992</td>\n",
       "      <td>2736</td>\n",
       "      <td>2628</td>\n",
       "      <td>2768</td>\n",
       "      <td>2673</td>\n",
       "      <td>2216</td>\n",
       "      <td>0</td>\n",
       "    </tr>\n",
       "    <tr>\n",
       "      <th>Manipur</th>\n",
       "      <td>0</td>\n",
       "      <td>19</td>\n",
       "      <td>37</td>\n",
       "      <td>9</td>\n",
       "      <td>41</td>\n",
       "      <td>24</td>\n",
       "      <td>40</td>\n",
       "      <td>5</td>\n",
       "      <td>15</td>\n",
       "      <td>132</td>\n",
       "      <td>...</td>\n",
       "      <td>16</td>\n",
       "      <td>4</td>\n",
       "      <td>5</td>\n",
       "      <td>9</td>\n",
       "      <td>13</td>\n",
       "      <td>9</td>\n",
       "      <td>7</td>\n",
       "      <td>9</td>\n",
       "      <td>4</td>\n",
       "      <td>0</td>\n",
       "    </tr>\n",
       "    <tr>\n",
       "      <th>Meghalaya</th>\n",
       "      <td>0</td>\n",
       "      <td>3</td>\n",
       "      <td>4</td>\n",
       "      <td>8</td>\n",
       "      <td>2</td>\n",
       "      <td>16</td>\n",
       "      <td>6</td>\n",
       "      <td>6</td>\n",
       "      <td>13</td>\n",
       "      <td>73</td>\n",
       "      <td>...</td>\n",
       "      <td>3</td>\n",
       "      <td>0</td>\n",
       "      <td>4</td>\n",
       "      <td>6</td>\n",
       "      <td>20</td>\n",
       "      <td>27</td>\n",
       "      <td>24</td>\n",
       "      <td>40</td>\n",
       "      <td>1</td>\n",
       "      <td>0</td>\n",
       "    </tr>\n",
       "  </tbody>\n",
       "</table>\n",
       "<p>5 rows × 224 columns</p>\n",
       "</div>"
      ],
      "text/plain": [
       "states                       2020-07-01  2020-07-02  2020-07-03  2020-07-04  \\\n",
       "state                                                                         \n",
       "Andaman and Nicobar Islands           0           9           7           3   \n",
       "Andhra Pradesh                        0         845         837         765   \n",
       "Maharashtra                           0        6328        6364        7074   \n",
       "Manipur                               0          19          37           9   \n",
       "Meghalaya                             0           3           4           8   \n",
       "\n",
       "states                       2020-07-05  2020-07-06  2020-07-07  2020-07-08  \\\n",
       "state                                                                         \n",
       "Andaman and Nicobar Islands           6          16           6           2   \n",
       "Andhra Pradesh                      998        1322        1178        1062   \n",
       "Maharashtra                        6555        5368        5134        6603   \n",
       "Manipur                              41          24          40           5   \n",
       "Meghalaya                             2          16           6           6   \n",
       "\n",
       "states                       2020-07-09  2020-07-10  ...  2021-01-31  \\\n",
       "state                                                ...               \n",
       "Andaman and Nicobar Islands           7           0  ...           0   \n",
       "Andhra Pradesh                     1555        1608  ...         116   \n",
       "Maharashtra                        6875        7862  ...        2585   \n",
       "Manipur                              15         132  ...          16   \n",
       "Meghalaya                            13          73  ...           3   \n",
       "\n",
       "states                       2021-02-01  2021-02-02  2021-02-03  2021-02-04  \\\n",
       "state                                                                         \n",
       "Andaman and Nicobar Islands           0           0           0           0   \n",
       "Andhra Pradesh                       64         104          95          79   \n",
       "Maharashtra                        1948        1927        2992        2736   \n",
       "Manipur                               4           5           9          13   \n",
       "Meghalaya                             0           4           6          20   \n",
       "\n",
       "states                       2021-02-05  2021-02-06  2021-02-07  2021-02-08  \\\n",
       "state                                                                         \n",
       "Andaman and Nicobar Islands           3           3           1           4   \n",
       "Andhra Pradesh                       97          75          73          62   \n",
       "Maharashtra                        2628        2768        2673        2216   \n",
       "Manipur                               9           7           9           4   \n",
       "Meghalaya                            27          24          40           1   \n",
       "\n",
       "states                       2021-02-09  \n",
       "state                                    \n",
       "Andaman and Nicobar Islands           0  \n",
       "Andhra Pradesh                        0  \n",
       "Maharashtra                           0  \n",
       "Manipur                               0  \n",
       "Meghalaya                             0  \n",
       "\n",
       "[5 rows x 224 columns]"
      ]
     },
     "execution_count": 18,
     "metadata": {},
     "output_type": "execute_result"
    }
   ],
   "source": [
    "#hide\n",
    "dft_ct_new_cases.head()"
   ]
  },
  {
   "cell_type": "code",
   "execution_count": 19,
   "id": "responsible-nightlife",
   "metadata": {
    "execution": {
     "iopub.execute_input": "2021-02-09T11:55:26.064834Z",
     "iopub.status.busy": "2021-02-09T11:55:26.059553Z",
     "iopub.status.idle": "2021-02-09T11:55:36.132878Z",
     "shell.execute_reply": "2021-02-09T11:55:36.133473Z"
    },
    "papermill": {
     "duration": 10.109325,
     "end_time": "2021-02-09T11:55:36.133659",
     "exception": false,
     "start_time": "2021-02-09T11:55:26.024334",
     "status": "completed"
    },
    "tags": []
   },
   "outputs": [
    {
     "data": {
      "image/png": "[encoded data removed]",
      "text/plain": [
       "<Figure size 1296x2016 with 11 Axes>"
      ]
     },
     "metadata": {
      "needs_background": "light"
     },
     "output_type": "display_data"
    }
   ],
   "source": [
    "#hide_input\n",
    "df = dft_ct_new_cases.copy()\n",
    "df.loc['Total'] = df.sum()\n",
    "n = 5\n",
    "ax = []\n",
    "fig = plt.figure(figsize = (18,28))\n",
    "gs = fig.add_gridspec(n+2, 5)\n",
    "# gs = fig.add_gridspec(2, 3)\n",
    "ax1 = fig.add_subplot(gs[0, :])\n",
    "ef = df.loc['Total'].rename_axis('date').reset_index()\n",
    "ef['date'] = ef['date'].astype('datetime64[ns]')\n",
    "ax1.bar(ef.date,ef.Total,alpha=0.3,color='#007acc')\n",
    "ax1.plot(ef.date,ef.Total , marker=\"o\", color='#007acc')\n",
    "ax1.xaxis.set_major_locator(mdates.WeekdayLocator())\n",
    "ax1.xaxis.set_major_formatter(mdates.DateFormatter('%b %d'))\n",
    "ax1.text(0.02, 0.5,'India daily case count', transform = ax1.transAxes, fontsize=25);\n",
    "ax1.spines['right'].set_visible(False)\n",
    "ax1.spines['top'].set_visible(False)\n",
    "\n",
    "ax2 = fig.add_subplot(gs[1,0])\n",
    "ef = df.loc['Maharashtra'].rename_axis('date').reset_index()\n",
    "ef['date'] = ef['date'].astype('datetime64[ns]')\n",
    "\n",
    "ax2.bar(ef.date, ef.Maharashtra,color = '#007acc',alpha=0.5)\n",
    "ax2.xaxis.set_major_locator(mdates.WeekdayLocator())\n",
    "ax2.xaxis.set_major_formatter(mdates.DateFormatter('%b %d'))\n",
    "ax2.set_xticks(ax2.get_xticks()[::3])\n",
    "maxyval = ef.Maharashtra.max()\n",
    "ax2.set_ylim([0,maxyval])\n",
    "ax2.text(0.05, 0.9,'Maharashtra', transform = ax2.transAxes, fontsize=20);\n",
    "ax2.spines['right'].set_visible(False)\n",
    "ax2.spines['top'].set_visible(False)\n",
    "\n",
    "\n",
    "ax3 = fig.add_subplot(gs[1,1])\n",
    "ef = df.loc['Tamil Nadu'].rename_axis('date').reset_index()\n",
    "ef['date'] = ef['date'].astype('datetime64[ns]')\n",
    "ax3.bar(ef.date, ef['Tamil Nadu'],color = '#007acc',alpha=0.5,)\n",
    "ax3.xaxis.set_major_locator(mdates.WeekdayLocator())\n",
    "ax3.xaxis.set_major_formatter(mdates.DateFormatter('%b %d'))\n",
    "ax3.set_xticks(ax3.get_xticks()[::3])\n",
    "ax3.text(0.05, 0.9,'Tamil Nadu', transform = ax3.transAxes, fontsize=20);\n",
    "ax3.spines['right'].set_visible(False)\n",
    "ax3.spines['top'].set_visible(False)\n",
    "\n",
    "ax5 = fig.add_subplot(gs[1,3])\n",
    "ef = df.loc['Telangana'].rename_axis('date').reset_index()\n",
    "ef['date'] = ef['date'].astype('datetime64[ns]')\n",
    "ax5.bar(ef.date, ef['Telangana'],color = '#007acc',alpha=0.5,)\n",
    "ax5.xaxis.set_major_locator(mdates.WeekdayLocator())\n",
    "ax5.xaxis.set_major_formatter(mdates.DateFormatter('%b %d'))\n",
    "ax5.set_xticks(ax5.get_xticks()[::3])\n",
    "ax5.text(0.05, 0.9,'Telangana', transform = ax5.transAxes, fontsize=20);\n",
    "ax5.spines['right'].set_visible(False)\n",
    "ax5.spines['top'].set_visible(False)\n",
    "\n",
    "ax6 = fig.add_subplot(gs[1,4])\n",
    "ef = df.loc['Andhra Pradesh'].rename_axis('date').reset_index()\n",
    "ef['date'] = ef['date'].astype('datetime64[ns]')\n",
    "ax6.bar(ef.date, ef['Andhra Pradesh'],color = '#007acc',alpha=0.5,)\n",
    "ax6.xaxis.set_major_locator(mdates.WeekdayLocator())\n",
    "ax6.xaxis.set_major_formatter(mdates.DateFormatter('%b %d'))\n",
    "ax6.set_xticks(ax6.get_xticks()[::3])\n",
    "ax6.text(0.05, 1,'Andhra Pradesh', transform = ax6.transAxes, fontsize=20);\n",
    "ax6.spines['right'].set_visible(False)\n",
    "ax6.spines['top'].set_visible(False)\n",
    "\n",
    "ax4 = fig.add_subplot(gs[1,2])\n",
    "ef = df.loc['Delhi'].rename_axis('date').reset_index()\n",
    "ef['date'] = ef['date'].astype('datetime64[ns]')\n",
    "ax4.bar(ef.date, ef.Delhi,color = '#007acc',alpha=0.5)\n",
    "ax4.set_xticks([])\n",
    "ax4.xaxis.set_major_locator(mdates.WeekdayLocator())\n",
    "ax4.xaxis.set_major_formatter(mdates.DateFormatter('%b %d'))\n",
    "ax4.set_xticks(ax4.get_xticks()[::3])\n",
    "ax4.spines['right'].set_visible(False)\n",
    "ax4.spines['top'].set_visible(False)\n",
    "\n",
    "ax4.text(0.05, 1,'Delhi', transform = ax4.transAxes, fontsize=20)\n",
    "\n",
    "for i in range(n):\n",
    "    \n",
    "    ax.append(fig.add_subplot(gs[i+2,:]))\n",
    "    ef = df.iloc[i+3].rename_axis('date').reset_index()\n",
    "    ef['date'] = ef['date'].astype('datetime64[ns]')\n",
    "    ax[i].bar(ef.date,ef.iloc[:,-1],color = '#007acc',alpha=0.3)\n",
    "    ax[i].plot(ef.date,ef.iloc[:,-1],marker='o',color='#007acc')\n",
    "    ax[i].text(0.02,0.5,f'{ef.columns.values[-1]}',transform = ax[i].transAxes, fontsize = 20);\n",
    "    ax[i].xaxis.set_major_locator(mdates.WeekdayLocator())\n",
    "    ax[i].xaxis.set_major_formatter(mdates.DateFormatter('%b %d'))\n",
    "    ax[i].set_ylim([0,7000])\n",
    "    ax[i].spines['right'].set_visible(False)\n",
    "    ax[i].spines['top'].set_visible(False)\n",
    "plt.tight_layout()\n"
   ]
  },
  {
   "cell_type": "code",
   "execution_count": 20,
   "id": "dress-forge",
   "metadata": {
    "execution": {
     "iopub.execute_input": "2021-02-09T11:55:36.196683Z",
     "iopub.status.busy": "2021-02-09T11:55:36.196022Z",
     "iopub.status.idle": "2021-02-09T11:55:36.200636Z",
     "shell.execute_reply": "2021-02-09T11:55:36.199954Z"
    },
    "papermill": {
     "duration": 0.039994,
     "end_time": "2021-02-09T11:55:36.200785",
     "exception": false,
     "start_time": "2021-02-09T11:55:36.160791",
     "status": "completed"
    },
    "tags": []
   },
   "outputs": [
    {
     "name": "stdout",
     "output_type": "stream",
     "text": [
      "                                   states    Cases  Deaths   PCases  PDeaths  Cases (+)  Deaths (+)  Fatality Rate\n",
      "                              Maharashtra  2046287   51325  2046287    51325          0           0           2.51\n",
      "                                   Kerala   972181    3884   972181     3884          0           0           0.40\n",
      "                                Karnataka   942846   12239   942846    12239          0           0           1.30\n",
      "                           Andhra Pradesh   888485    7160   888485     7160          0           0           0.81\n",
      "                               Tamil Nadu   842261   12387   842261    12387          0           0           1.47\n",
      "                                    Delhi   636160   10882   636160    10882          0           0           1.71\n",
      "                            Uttar Pradesh   601455    8691   601455     8691          0           0           1.44\n",
      "                              West Bengal   571490   10209   571490    10209          0           0           1.79\n",
      "                                   Odisha   335692    1963   335692     1963          0           0           0.58\n",
      "                                Rajasthan   318294    2774   318294     2774          0           0           0.87\n",
      "                             Chhattisgarh   307790    3744   307790     3744          0           0           1.22\n",
      "                                Telangana   295682    1611   295682     1611          0           0           0.54\n",
      "                                  Haryana   268507    3029   268507     3029          0           0           1.13\n",
      "                                  Gujarat   263676    4396   263676     4396          0           0           1.67\n",
      "                                    Bihar   261355    1517   261355     1517          0           0           0.58\n",
      "                           Madhya Pradesh   256591    3823   256591     3823          0           0           1.49\n",
      "                                    Assam   217229    1085   217229     1085          0           0           0.50\n",
      "                                   Punjab   174838    5653   174838     5653          0           0           3.23\n",
      "                        Jammu and Kashmir   124952    1944   124952     1944          0           0           1.56\n",
      "                                Jharkhand   119055    1078   119055     1078          0           0           0.91\n",
      "                              Uttarakhand    96536    1671    96536     1671          0           0           1.73\n",
      "                         Himachal Pradesh    57925     972    57925      972          0           0           1.68\n",
      "                                      Goa    53937     772    53937      772          0           0           1.43\n",
      "                               Puducherry    39318     655    39318      655          0           0           1.67\n",
      "                                  Tripura    33349     388    33349      388          0           0           1.16\n",
      "                                  Manipur    29130     373    29130      373          0           0           1.28\n",
      "                               Chandigarh    21107     340    21107      340          0           0           1.61\n",
      "                        Arunachal Pradesh    16831      56    16831       56          0           0           0.33\n",
      "                                Meghalaya    13886     148    13886      148          0           0           1.07\n",
      "                                 Nagaland    12160      88    12160       88          0           0           0.72\n",
      "                                   Ladakh     9753     130     9753      130          0           0           1.33\n",
      "                                   Sikkim     6110     135     6110      135          0           0           2.21\n",
      "              Andaman and Nicobar Islands     5005      62     5005       62          0           0           1.24\n",
      "                                  Mizoram     4383       9     4383        9          0           0           0.21\n",
      " Dadra and Nagar Haveli and Daman and Diu     3380       2     3380        2          0           0           0.06\n",
      "                              Lakshadweep      154       0      154        0          0           0           0.00\n"
     ]
    }
   ],
   "source": [
    "#hide_input\n",
    "print(df_table.to_string(index=False))"
   ]
  },
  {
   "cell_type": "code",
   "execution_count": null,
   "id": "quantitative-legend",
   "metadata": {
    "papermill": {
     "duration": 0.026061,
     "end_time": "2021-02-09T11:55:36.253131",
     "exception": false,
     "start_time": "2021-02-09T11:55:36.227070",
     "status": "completed"
    },
    "tags": []
   },
   "outputs": [],
   "source": []
  },
  {
   "cell_type": "code",
   "execution_count": null,
   "id": "distant-acoustic",
   "metadata": {
    "papermill": {
     "duration": 0.026125,
     "end_time": "2021-02-09T11:55:36.306130",
     "exception": false,
     "start_time": "2021-02-09T11:55:36.280005",
     "status": "completed"
    },
    "tags": []
   },
   "outputs": [],
   "source": []
  }
 ],
 "metadata": {
  "kernelspec": {
   "display_name": "Python 3",
   "language": "python",
   "name": "python3"
  },
  "language_info": {
   "codemirror_mode": {
    "name": "ipython",
    "version": 3
   },
   "file_extension": ".py",
   "mimetype": "text/x-python",
   "name": "python",
   "nbconvert_exporter": "python",
   "pygments_lexer": "ipython3",
   "version": "3.6.12"
  },
  "papermill": {
   "duration": 23.373562,
   "end_time": "2021-02-09T11:55:37.729105",
   "environment_variables": {},
   "exception": null,
   "input_path": "latest.ipynb",
   "output_path": "latest.ipynb",
   "parameters": {},
   "start_time": "2021-02-09T11:55:14.355543",
   "version": "2.1.2"
  }
 },
 "nbformat": 4,
 "nbformat_minor": 5
}