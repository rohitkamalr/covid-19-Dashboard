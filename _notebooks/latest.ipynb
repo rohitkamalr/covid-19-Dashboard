{
 "cells": [
  {
   "cell_type": "markdown",
   "metadata": {
    "papermill": {
     "duration": 0.01985,
     "end_time": "2020-12-03T12:51:29.837794",
     "exception": false,
     "start_time": "2020-12-03T12:51:29.817944",
     "status": "completed"
    },
    "tags": []
   },
   "source": [
    "# Latest COVID-19 India Matplotlib Overview"
   ]
  },
  {
   "cell_type": "code",
   "execution_count": 1,
   "metadata": {
    "execution": {
     "iopub.execute_input": "2020-12-03T12:51:29.903384Z",
     "iopub.status.busy": "2020-12-03T12:51:29.902719Z",
     "iopub.status.idle": "2020-12-03T12:51:30.617138Z",
     "shell.execute_reply": "2020-12-03T12:51:30.615956Z"
    },
    "papermill": {
     "duration": 0.761293,
     "end_time": "2020-12-03T12:51:30.617312",
     "exception": false,
     "start_time": "2020-12-03T12:51:29.856019",
     "status": "completed"
    },
    "tags": []
   },
   "outputs": [],
   "source": [
    "#hide\n",
    "import pandas as pd\n",
    "import numpy as np\n",
    "import requests\n",
    "import json\n",
    "import matplotlib.pyplot as plt\n",
    "import matplotlib.dates as mdates\n",
    "import matplotlib as mpl\n",
    "from IPython.core.display import display,HTML\n",
    "%matplotlib inline\n",
    "from datetime import date"
   ]
  },
  {
   "cell_type": "code",
   "execution_count": 2,
   "metadata": {
    "execution": {
     "iopub.execute_input": "2020-12-03T12:51:30.659335Z",
     "iopub.status.busy": "2020-12-03T12:51:30.658706Z",
     "iopub.status.idle": "2020-12-03T12:51:30.847540Z",
     "shell.execute_reply": "2020-12-03T12:51:30.846987Z"
    },
    "papermill": {
     "duration": 0.212558,
     "end_time": "2020-12-03T12:51:30.847687",
     "exception": false,
     "start_time": "2020-12-03T12:51:30.635129",
     "status": "completed"
    },
    "tags": []
   },
   "outputs": [],
   "source": [
    "#hide\n",
    "df  = pd.read_csv('https://api.covid19india.org/csv/latest/states.csv')\n",
    "df = df[['Date','State','Confirmed','Deceased']]\n",
    "df = df.rename(columns={'Confirmed':'Cases', \"Deceased\":'Deaths'})\n",
    "df_cases = df[[\"Date\",'State','Cases']]\n",
    "df_deaths = df[['Date','State','Deaths']]\n",
    "df_cases1 = df_cases.groupby('Date')\n",
    "df_deaths1= df_deaths.groupby('Date')"
   ]
  },
  {
   "cell_type": "code",
   "execution_count": 3,
   "metadata": {
    "execution": {
     "iopub.execute_input": "2020-12-03T12:51:30.894611Z",
     "iopub.status.busy": "2020-12-03T12:51:30.894003Z",
     "iopub.status.idle": "2020-12-03T12:51:30.915394Z",
     "shell.execute_reply": "2020-12-03T12:51:30.914842Z"
    },
    "papermill": {
     "duration": 0.044956,
     "end_time": "2020-12-03T12:51:30.915529",
     "exception": false,
     "start_time": "2020-12-03T12:51:30.870573",
     "status": "completed"
    },
    "tags": []
   },
   "outputs": [],
   "source": [
    "#hide\n",
    "df_snap = pd.read_csv('data/SnapshotCases-28-July.csv')\n",
    "arr_states = df_snap['states'].unique()\n",
    "arr_dates = df['Date'].unique()\n",
    "df_snap = df_snap.set_index('states')"
   ]
  },
  {
   "cell_type": "code",
   "execution_count": 4,
   "metadata": {
    "execution": {
     "iopub.execute_input": "2020-12-03T12:51:30.958120Z",
     "iopub.status.busy": "2020-12-03T12:51:30.957497Z",
     "iopub.status.idle": "2020-12-03T12:51:30.960643Z",
     "shell.execute_reply": "2020-12-03T12:51:30.960137Z"
    },
    "papermill": {
     "duration": 0.028258,
     "end_time": "2020-12-03T12:51:30.960777",
     "exception": false,
     "start_time": "2020-12-03T12:51:30.932519",
     "status": "completed"
    },
    "tags": []
   },
   "outputs": [
    {
     "data": {
      "text/plain": [
       "array(['Andaman and Nicobar Islands', 'Andhra Pradesh',\n",
       "       'Arunachal Pradesh', 'Assam', 'Bihar', 'Chandigarh',\n",
       "       'Dadra and Nagar Haveli and Daman and Diu', 'Delhi', 'Goa',\n",
       "       'Gujarat', 'Haryana', 'Himachal Pradesh', 'Jammu and Kashmir',\n",
       "       'Jharkhand', 'Karnataka', 'Kerala', 'Lakshadweep',\n",
       "       'Madhya Pradesh', 'Maharashtra', 'Manipur', 'Meghalaya', 'Mizoram',\n",
       "       'Nagaland', 'Odisha', 'Puducherry', 'Punjab', 'Rajasthan',\n",
       "       'Sikkim', 'Tamil Nadu', 'Telangana', 'Tripura', 'Uttar Pradesh',\n",
       "       'West Bengal', 'Chhattisgarh', 'Ladakh', 'Uttarakhand'],\n",
       "      dtype=object)"
      ]
     },
     "execution_count": 4,
     "metadata": {},
     "output_type": "execute_result"
    }
   ],
   "source": [
    "#hide\n",
    "arr_states[-9] = 'Puducherry'\n",
    "arr_states[-10] = 'Odisha'\n",
    "arr_states[6] = 'Dadra and Nagar Haveli and Daman and Diu'\n",
    "arr_states = np.append(arr_states,np.array(['Chhattisgarh','Ladakh','Uttarakhand']))\n",
    "arr_states"
   ]
  },
  {
   "cell_type": "code",
   "execution_count": 5,
   "metadata": {
    "execution": {
     "iopub.execute_input": "2020-12-03T12:51:31.006676Z",
     "iopub.status.busy": "2020-12-03T12:51:31.006061Z",
     "iopub.status.idle": "2020-12-03T12:51:31.014786Z",
     "shell.execute_reply": "2020-12-03T12:51:31.014267Z"
    },
    "papermill": {
     "duration": 0.037891,
     "end_time": "2020-12-03T12:51:31.014926",
     "exception": false,
     "start_time": "2020-12-03T12:51:30.977035",
     "status": "completed"
    },
    "tags": []
   },
   "outputs": [],
   "source": [
    "#hide\n",
    "dates = []\n",
    "for i in arr_dates:\n",
    "    if i>='2020-07-01':\n",
    "        dates.append(i)\n",
    "dict = {'states':dates}\n",
    "for i in arr_states:\n",
    "    dict[i] = [0]*len(dates)\n",
    "dft_cases = pd.DataFrame(dict)\n",
    "dft_deaths = pd.DataFrame(dict)\n"
   ]
  },
  {
   "cell_type": "code",
   "execution_count": 6,
   "metadata": {
    "execution": {
     "iopub.execute_input": "2020-12-03T12:51:31.059247Z",
     "iopub.status.busy": "2020-12-03T12:51:31.058609Z",
     "iopub.status.idle": "2020-12-03T12:51:33.473457Z",
     "shell.execute_reply": "2020-12-03T12:51:33.472872Z"
    },
    "papermill": {
     "duration": 2.439949,
     "end_time": "2020-12-03T12:51:33.473605",
     "exception": false,
     "start_time": "2020-12-03T12:51:31.033656",
     "status": "completed"
    },
    "tags": []
   },
   "outputs": [],
   "source": [
    "#hide\n",
    "for i in range(len(dates)):\n",
    "    df1_deaths = df_deaths1.get_group(dates[i])\n",
    "    for j in range(len(df1_deaths.index)):\n",
    "        if df1_deaths.iloc[j,1] in arr_states:\n",
    "            dft_deaths.loc[i,df1_deaths.iloc[j,1]] = df1_deaths.iloc[j,2]\n",
    "dft_deaths = dft_deaths.set_index('states')"
   ]
  },
  {
   "cell_type": "code",
   "execution_count": 7,
   "metadata": {
    "execution": {
     "iopub.execute_input": "2020-12-03T12:51:33.515192Z",
     "iopub.status.busy": "2020-12-03T12:51:33.514584Z",
     "iopub.status.idle": "2020-12-03T12:51:35.907091Z",
     "shell.execute_reply": "2020-12-03T12:51:35.907579Z"
    },
    "papermill": {
     "duration": 2.416464,
     "end_time": "2020-12-03T12:51:35.907746",
     "exception": false,
     "start_time": "2020-12-03T12:51:33.491282",
     "status": "completed"
    },
    "tags": []
   },
   "outputs": [],
   "source": [
    "#hide\n",
    "for i in range(len(dates)):\n",
    "    df1_cases = df_cases1.get_group(dates[i])\n",
    "    for j in range(len(df1_cases.index)):\n",
    "        if df1_cases.iloc[j,1] in arr_states:\n",
    "            dft_cases.loc[i,df1_cases.iloc[j,1]] = df1_cases.iloc[j,2]\n",
    "dft_cases = dft_cases.set_index('states')"
   ]
  },
  {
   "cell_type": "code",
   "execution_count": 8,
   "metadata": {
    "execution": {
     "iopub.execute_input": "2020-12-03T12:51:35.949093Z",
     "iopub.status.busy": "2020-12-03T12:51:35.948461Z",
     "iopub.status.idle": "2020-12-03T12:51:35.950312Z",
     "shell.execute_reply": "2020-12-03T12:51:35.950813Z"
    },
    "papermill": {
     "duration": 0.024025,
     "end_time": "2020-12-03T12:51:35.950962",
     "exception": false,
     "start_time": "2020-12-03T12:51:35.926937",
     "status": "completed"
    },
    "tags": []
   },
   "outputs": [],
   "source": [
    "#hide\n",
    "dft_cases = dft_cases.T\n",
    "dft_deaths = dft_deaths.T\n",
    "dt_today = dates[-1]\n",
    "dt_yday = dates[-2]"
   ]
  },
  {
   "cell_type": "code",
   "execution_count": 9,
   "metadata": {
    "execution": {
     "iopub.execute_input": "2020-12-03T12:51:35.992047Z",
     "iopub.status.busy": "2020-12-03T12:51:35.991352Z",
     "iopub.status.idle": "2020-12-03T12:51:35.997327Z",
     "shell.execute_reply": "2020-12-03T12:51:35.996783Z"
    },
    "papermill": {
     "duration": 0.029294,
     "end_time": "2020-12-03T12:51:35.997470",
     "exception": false,
     "start_time": "2020-12-03T12:51:35.968176",
     "status": "completed"
    },
    "tags": []
   },
   "outputs": [],
   "source": [
    "#hide\n",
    "dft_cases = dft_cases.reset_index()\n",
    "dft_deaths = dft_deaths.reset_index()\n",
    "dft_cases = dft_cases.rename(columns = {'index':'state'})\n",
    "dft_deaths = dft_deaths.rename(columns = {'index':'state'})"
   ]
  },
  {
   "cell_type": "code",
   "execution_count": 10,
   "metadata": {
    "execution": {
     "iopub.execute_input": "2020-12-03T12:51:36.042571Z",
     "iopub.status.busy": "2020-12-03T12:51:36.041933Z",
     "iopub.status.idle": "2020-12-03T12:51:36.044172Z",
     "shell.execute_reply": "2020-12-03T12:51:36.043572Z"
    },
    "papermill": {
     "duration": 0.030343,
     "end_time": "2020-12-03T12:51:36.044309",
     "exception": false,
     "start_time": "2020-12-03T12:51:36.013966",
     "status": "completed"
    },
    "tags": []
   },
   "outputs": [],
   "source": [
    "#hide\n",
    "dfc_cases = dft_cases.groupby('state')[dt_today].sum()\n",
    "dfc_deaths = dft_deaths.groupby('state')[dt_today].sum()\n",
    "dfp_cases = dft_cases.groupby('state')[dt_yday].sum()\n",
    "dfp_deaths = dft_deaths.groupby('state')[dt_yday].sum()"
   ]
  },
  {
   "cell_type": "code",
   "execution_count": 11,
   "metadata": {
    "execution": {
     "iopub.execute_input": "2020-12-03T12:51:36.097546Z",
     "iopub.status.busy": "2020-12-03T12:51:36.096863Z",
     "iopub.status.idle": "2020-12-03T12:51:36.103875Z",
     "shell.execute_reply": "2020-12-03T12:51:36.103393Z"
    },
    "papermill": {
     "duration": 0.042639,
     "end_time": "2020-12-03T12:51:36.104014",
     "exception": false,
     "start_time": "2020-12-03T12:51:36.061375",
     "status": "completed"
    },
    "tags": []
   },
   "outputs": [
    {
     "data": {
      "text/html": [
       "<div>\n",
       "<style scoped>\n",
       "    .dataframe tbody tr th:only-of-type {\n",
       "        vertical-align: middle;\n",
       "    }\n",
       "\n",
       "    .dataframe tbody tr th {\n",
       "        vertical-align: top;\n",
       "    }\n",
       "\n",
       "    .dataframe thead th {\n",
       "        text-align: right;\n",
       "    }\n",
       "</style>\n",
       "<table border=\"1\" class=\"dataframe\">\n",
       "  <thead>\n",
       "    <tr style=\"text-align: right;\">\n",
       "      <th></th>\n",
       "      <th>states</th>\n",
       "      <th>Cases</th>\n",
       "      <th>Deaths</th>\n",
       "      <th>PCases</th>\n",
       "      <th>PDeaths</th>\n",
       "    </tr>\n",
       "  </thead>\n",
       "  <tbody>\n",
       "    <tr>\n",
       "      <th>0</th>\n",
       "      <td>Maharashtra</td>\n",
       "      <td>1832176</td>\n",
       "      <td>47357</td>\n",
       "      <td>1832176</td>\n",
       "      <td>47357</td>\n",
       "    </tr>\n",
       "    <tr>\n",
       "      <th>1</th>\n",
       "      <td>Karnataka</td>\n",
       "      <td>887667</td>\n",
       "      <td>11808</td>\n",
       "      <td>887667</td>\n",
       "      <td>11808</td>\n",
       "    </tr>\n",
       "    <tr>\n",
       "      <th>2</th>\n",
       "      <td>Andhra Pradesh</td>\n",
       "      <td>869412</td>\n",
       "      <td>7003</td>\n",
       "      <td>869412</td>\n",
       "      <td>7003</td>\n",
       "    </tr>\n",
       "    <tr>\n",
       "      <th>3</th>\n",
       "      <td>Tamil Nadu</td>\n",
       "      <td>784747</td>\n",
       "      <td>11733</td>\n",
       "      <td>784747</td>\n",
       "      <td>11733</td>\n",
       "    </tr>\n",
       "    <tr>\n",
       "      <th>4</th>\n",
       "      <td>Kerala</td>\n",
       "      <td>614674</td>\n",
       "      <td>2299</td>\n",
       "      <td>614674</td>\n",
       "      <td>2299</td>\n",
       "    </tr>\n",
       "  </tbody>\n",
       "</table>\n",
       "</div>"
      ],
      "text/plain": [
       "           states    Cases  Deaths   PCases  PDeaths\n",
       "0     Maharashtra  1832176   47357  1832176    47357\n",
       "1       Karnataka   887667   11808   887667    11808\n",
       "2  Andhra Pradesh   869412    7003   869412     7003\n",
       "3      Tamil Nadu   784747   11733   784747    11733\n",
       "4          Kerala   614674    2299   614674     2299"
      ]
     },
     "execution_count": 11,
     "metadata": {},
     "output_type": "execute_result"
    }
   ],
   "source": [
    "#hide\n",
    "df_table = pd.DataFrame({'states': dfc_cases.index, 'Cases': dfc_cases.values, 'Deaths': dfc_deaths.values, 'PCases': dfp_cases.values, 'PDeaths': dfp_deaths.values}).set_index('states')\n",
    "df_table = df_table.sort_values(by = ['Cases','Deaths'], ascending = [False, False])\n",
    "df_table = df_table.reset_index()\n",
    "df_table.head()"
   ]
  },
  {
   "cell_type": "code",
   "execution_count": 12,
   "metadata": {
    "execution": {
     "iopub.execute_input": "2020-12-03T12:51:36.145240Z",
     "iopub.status.busy": "2020-12-03T12:51:36.144576Z",
     "iopub.status.idle": "2020-12-03T12:51:36.155057Z",
     "shell.execute_reply": "2020-12-03T12:51:36.154492Z"
    },
    "papermill": {
     "duration": 0.03351,
     "end_time": "2020-12-03T12:51:36.155207",
     "exception": false,
     "start_time": "2020-12-03T12:51:36.121697",
     "status": "completed"
    },
    "tags": []
   },
   "outputs": [],
   "source": [
    "#hide\n",
    "for c in 'Cases, Deaths'.split(', '):\n",
    "    df_table[f'{c} (+)'] = (df_table[c] - df_table[f'P{c}']).clip(0)\n",
    "df_table['Fatality Rate'] = (100* df_table['Deaths']/ df_table['Cases']).round(2)"
   ]
  },
  {
   "cell_type": "code",
   "execution_count": 13,
   "metadata": {
    "execution": {
     "iopub.execute_input": "2020-12-03T12:51:36.202429Z",
     "iopub.status.busy": "2020-12-03T12:51:36.201671Z",
     "iopub.status.idle": "2020-12-03T12:51:36.204444Z",
     "shell.execute_reply": "2020-12-03T12:51:36.204940Z"
    },
    "papermill": {
     "duration": 0.031693,
     "end_time": "2020-12-03T12:51:36.205115",
     "exception": false,
     "start_time": "2020-12-03T12:51:36.173422",
     "status": "completed"
    },
    "tags": []
   },
   "outputs": [
    {
     "data": {
      "text/html": [
       "<div>\n",
       "<style scoped>\n",
       "    .dataframe tbody tr th:only-of-type {\n",
       "        vertical-align: middle;\n",
       "    }\n",
       "\n",
       "    .dataframe tbody tr th {\n",
       "        vertical-align: top;\n",
       "    }\n",
       "\n",
       "    .dataframe thead th {\n",
       "        text-align: right;\n",
       "    }\n",
       "</style>\n",
       "<table border=\"1\" class=\"dataframe\">\n",
       "  <thead>\n",
       "    <tr style=\"text-align: right;\">\n",
       "      <th></th>\n",
       "      <th>states</th>\n",
       "      <th>Cases</th>\n",
       "      <th>Deaths</th>\n",
       "      <th>PCases</th>\n",
       "      <th>PDeaths</th>\n",
       "      <th>Cases (+)</th>\n",
       "      <th>Deaths (+)</th>\n",
       "      <th>Fatality Rate</th>\n",
       "    </tr>\n",
       "  </thead>\n",
       "  <tbody>\n",
       "    <tr>\n",
       "      <th>0</th>\n",
       "      <td>Maharashtra</td>\n",
       "      <td>1832176</td>\n",
       "      <td>47357</td>\n",
       "      <td>1832176</td>\n",
       "      <td>47357</td>\n",
       "      <td>0</td>\n",
       "      <td>0</td>\n",
       "      <td>2.58</td>\n",
       "    </tr>\n",
       "    <tr>\n",
       "      <th>1</th>\n",
       "      <td>Karnataka</td>\n",
       "      <td>887667</td>\n",
       "      <td>11808</td>\n",
       "      <td>887667</td>\n",
       "      <td>11808</td>\n",
       "      <td>0</td>\n",
       "      <td>0</td>\n",
       "      <td>1.33</td>\n",
       "    </tr>\n",
       "    <tr>\n",
       "      <th>2</th>\n",
       "      <td>Andhra Pradesh</td>\n",
       "      <td>869412</td>\n",
       "      <td>7003</td>\n",
       "      <td>869412</td>\n",
       "      <td>7003</td>\n",
       "      <td>0</td>\n",
       "      <td>0</td>\n",
       "      <td>0.81</td>\n",
       "    </tr>\n",
       "    <tr>\n",
       "      <th>3</th>\n",
       "      <td>Tamil Nadu</td>\n",
       "      <td>784747</td>\n",
       "      <td>11733</td>\n",
       "      <td>784747</td>\n",
       "      <td>11733</td>\n",
       "      <td>0</td>\n",
       "      <td>0</td>\n",
       "      <td>1.50</td>\n",
       "    </tr>\n",
       "    <tr>\n",
       "      <th>4</th>\n",
       "      <td>Kerala</td>\n",
       "      <td>614674</td>\n",
       "      <td>2299</td>\n",
       "      <td>614674</td>\n",
       "      <td>2299</td>\n",
       "      <td>0</td>\n",
       "      <td>0</td>\n",
       "      <td>0.37</td>\n",
       "    </tr>\n",
       "  </tbody>\n",
       "</table>\n",
       "</div>"
      ],
      "text/plain": [
       "           states    Cases  Deaths   PCases  PDeaths  Cases (+)  Deaths (+)  \\\n",
       "0     Maharashtra  1832176   47357  1832176    47357          0           0   \n",
       "1       Karnataka   887667   11808   887667    11808          0           0   \n",
       "2  Andhra Pradesh   869412    7003   869412     7003          0           0   \n",
       "3      Tamil Nadu   784747   11733   784747    11733          0           0   \n",
       "4          Kerala   614674    2299   614674     2299          0           0   \n",
       "\n",
       "   Fatality Rate  \n",
       "0           2.58  \n",
       "1           1.33  \n",
       "2           0.81  \n",
       "3           1.50  \n",
       "4           0.37  "
      ]
     },
     "execution_count": 13,
     "metadata": {},
     "output_type": "execute_result"
    }
   ],
   "source": [
    "#hide\n",
    "df_table.head()"
   ]
  },
  {
   "cell_type": "code",
   "execution_count": 14,
   "metadata": {
    "execution": {
     "iopub.execute_input": "2020-12-03T12:51:36.246468Z",
     "iopub.status.busy": "2020-12-03T12:51:36.245848Z",
     "iopub.status.idle": "2020-12-03T12:51:36.263025Z",
     "shell.execute_reply": "2020-12-03T12:51:36.262502Z"
    },
    "papermill": {
     "duration": 0.041261,
     "end_time": "2020-12-03T12:51:36.263161",
     "exception": false,
     "start_time": "2020-12-03T12:51:36.221900",
     "status": "completed"
    },
    "tags": []
   },
   "outputs": [
    {
     "data": {
      "text/plain": [
       "{'updated': '2020-12-03',\n",
       " 'since': '2020-12-02',\n",
       " 'Cases': 9536928,\n",
       " 'PCases': 9535234,\n",
       " 'Deaths': 138701,\n",
       " 'PDeaths': 138686,\n",
       " 'Cases (+)': 1694,\n",
       " 'Deaths (+)': 15}"
      ]
     },
     "execution_count": 14,
     "metadata": {},
     "output_type": "execute_result"
    }
   ],
   "source": [
    "#hide\n",
    "summary = {'updated':dates[-1], 'since':dates[-2]}\n",
    "list_names = ['Cases', 'PCases', 'Deaths', 'PDeaths', 'Cases (+)', 'Deaths (+)']\n",
    "for name in list_names:\n",
    "    summary[name] = df_table.sum()[name]\n",
    "summary"
   ]
  },
  {
   "cell_type": "code",
   "execution_count": 15,
   "metadata": {
    "execution": {
     "iopub.execute_input": "2020-12-03T12:51:36.304610Z",
     "iopub.status.busy": "2020-12-03T12:51:36.303885Z",
     "iopub.status.idle": "2020-12-03T12:51:36.308352Z",
     "shell.execute_reply": "2020-12-03T12:51:36.307786Z"
    },
    "papermill": {
     "duration": 0.027925,
     "end_time": "2020-12-03T12:51:36.308487",
     "exception": false,
     "start_time": "2020-12-03T12:51:36.280562",
     "status": "completed"
    },
    "tags": []
   },
   "outputs": [],
   "source": [
    "#hide\n",
    "overview = '''\n",
    "<!-- #######  HTML!! #########-->\n",
    "<h1 style=\"color: #5e9ca0; text-align: center;\">India</h1>\n",
    "<p style=\"text-align: center;\">Last update: <strong>{update}</strong></p>\n",
    "<p style=\"text-align: center;\">Confirmed cases:</p>\n",
    "<p style=\"text-align: center;font-size:24px;\">{cases} (<span style=\"color: #ff0000;\">+{new}</span>)</p>\n",
    "<p style=\"text-align: center;\">Confirmed deaths:</p>\n",
    "<p style=\"text-align: center;font-size:24px;\">{deaths} (<span style=\"color: #ff0000;\">+{dnew}</span>)</p>\n",
    "'''"
   ]
  },
  {
   "cell_type": "code",
   "execution_count": 16,
   "metadata": {
    "execution": {
     "iopub.execute_input": "2020-12-03T12:51:36.350231Z",
     "iopub.status.busy": "2020-12-03T12:51:36.349626Z",
     "iopub.status.idle": "2020-12-03T12:51:36.352080Z",
     "shell.execute_reply": "2020-12-03T12:51:36.352616Z"
    },
    "papermill": {
     "duration": 0.02748,
     "end_time": "2020-12-03T12:51:36.352769",
     "exception": false,
     "start_time": "2020-12-03T12:51:36.325289",
     "status": "completed"
    },
    "tags": []
   },
   "outputs": [
    {
     "data": {
      "text/html": [
       "\n",
       "<!-- #######  HTML!! #########-->\n",
       "<h1 style=\"color: #5e9ca0; text-align: center;\">India</h1>\n",
       "<p style=\"text-align: center;\">Last update: <strong>2020-12-03</strong></p>\n",
       "<p style=\"text-align: center;\">Confirmed cases:</p>\n",
       "<p style=\"text-align: center;font-size:24px;\">9536928 (<span style=\"color: #ff0000;\">+1694</span>)</p>\n",
       "<p style=\"text-align: center;\">Confirmed deaths:</p>\n",
       "<p style=\"text-align: center;font-size:24px;\">138701 (<span style=\"color: #ff0000;\">+15</span>)</p>\n"
      ],
      "text/plain": [
       "<IPython.core.display.HTML object>"
      ]
     },
     "metadata": {},
     "output_type": "display_data"
    }
   ],
   "source": [
    "#hide_input\n",
    "update = summary['updated']\n",
    "cases = summary['Cases']\n",
    "new = summary['Cases (+)']\n",
    "deaths = summary['Deaths']\n",
    "dnew = summary['Deaths (+)']\n",
    "\n",
    "html = HTML(overview.format(update=update, cases=cases,new=new,deaths=deaths,dnew=dnew))\n",
    "\n",
    "display(html)"
   ]
  },
  {
   "cell_type": "code",
   "execution_count": 17,
   "metadata": {
    "execution": {
     "iopub.execute_input": "2020-12-03T12:51:36.398199Z",
     "iopub.status.busy": "2020-12-03T12:51:36.397590Z",
     "iopub.status.idle": "2020-12-03T12:51:36.402888Z",
     "shell.execute_reply": "2020-12-03T12:51:36.403335Z"
    },
    "papermill": {
     "duration": 0.032434,
     "end_time": "2020-12-03T12:51:36.403493",
     "exception": false,
     "start_time": "2020-12-03T12:51:36.371059",
     "status": "completed"
    },
    "tags": []
   },
   "outputs": [],
   "source": [
    "#hide\n",
    "dt_cols = list(dft_cases.columns[1:])\n",
    "dft_ct_new_cases = dft_cases.groupby('state')[dt_cols].sum().diff(axis=1).fillna(0).astype(int)\n",
    "dft_ct_new_cases.sort_values(by = dates[-1], ascending = False,inplace = True)"
   ]
  },
  {
   "cell_type": "code",
   "execution_count": 18,
   "metadata": {
    "execution": {
     "iopub.execute_input": "2020-12-03T12:51:36.456849Z",
     "iopub.status.busy": "2020-12-03T12:51:36.451713Z",
     "iopub.status.idle": "2020-12-03T12:51:36.460249Z",
     "shell.execute_reply": "2020-12-03T12:51:36.459749Z"
    },
    "papermill": {
     "duration": 0.038969,
     "end_time": "2020-12-03T12:51:36.460382",
     "exception": false,
     "start_time": "2020-12-03T12:51:36.421413",
     "status": "completed"
    },
    "tags": []
   },
   "outputs": [
    {
     "data": {
      "text/html": [
       "<div>\n",
       "<style scoped>\n",
       "    .dataframe tbody tr th:only-of-type {\n",
       "        vertical-align: middle;\n",
       "    }\n",
       "\n",
       "    .dataframe tbody tr th {\n",
       "        vertical-align: top;\n",
       "    }\n",
       "\n",
       "    .dataframe thead th {\n",
       "        text-align: right;\n",
       "    }\n",
       "</style>\n",
       "<table border=\"1\" class=\"dataframe\">\n",
       "  <thead>\n",
       "    <tr style=\"text-align: right;\">\n",
       "      <th>states</th>\n",
       "      <th>2020-07-01</th>\n",
       "      <th>2020-07-02</th>\n",
       "      <th>2020-07-03</th>\n",
       "      <th>2020-07-04</th>\n",
       "      <th>2020-07-05</th>\n",
       "      <th>2020-07-06</th>\n",
       "      <th>2020-07-07</th>\n",
       "      <th>2020-07-08</th>\n",
       "      <th>2020-07-09</th>\n",
       "      <th>2020-07-10</th>\n",
       "      <th>...</th>\n",
       "      <th>2020-11-24</th>\n",
       "      <th>2020-11-25</th>\n",
       "      <th>2020-11-26</th>\n",
       "      <th>2020-11-27</th>\n",
       "      <th>2020-11-28</th>\n",
       "      <th>2020-11-29</th>\n",
       "      <th>2020-11-30</th>\n",
       "      <th>2020-12-01</th>\n",
       "      <th>2020-12-02</th>\n",
       "      <th>2020-12-03</th>\n",
       "    </tr>\n",
       "    <tr>\n",
       "      <th>state</th>\n",
       "      <th></th>\n",
       "      <th></th>\n",
       "      <th></th>\n",
       "      <th></th>\n",
       "      <th></th>\n",
       "      <th></th>\n",
       "      <th></th>\n",
       "      <th></th>\n",
       "      <th></th>\n",
       "      <th></th>\n",
       "      <th></th>\n",
       "      <th></th>\n",
       "      <th></th>\n",
       "      <th></th>\n",
       "      <th></th>\n",
       "      <th></th>\n",
       "      <th></th>\n",
       "      <th></th>\n",
       "      <th></th>\n",
       "      <th></th>\n",
       "      <th></th>\n",
       "    </tr>\n",
       "  </thead>\n",
       "  <tbody>\n",
       "    <tr>\n",
       "      <th>Telangana</th>\n",
       "      <td>0</td>\n",
       "      <td>1213</td>\n",
       "      <td>1892</td>\n",
       "      <td>1850</td>\n",
       "      <td>1590</td>\n",
       "      <td>1831</td>\n",
       "      <td>1879</td>\n",
       "      <td>1924</td>\n",
       "      <td>1410</td>\n",
       "      <td>1278</td>\n",
       "      <td>...</td>\n",
       "      <td>921</td>\n",
       "      <td>993</td>\n",
       "      <td>862</td>\n",
       "      <td>761</td>\n",
       "      <td>753</td>\n",
       "      <td>805</td>\n",
       "      <td>593</td>\n",
       "      <td>502</td>\n",
       "      <td>565</td>\n",
       "      <td>609</td>\n",
       "    </tr>\n",
       "    <tr>\n",
       "      <th>Bihar</th>\n",
       "      <td>0</td>\n",
       "      <td>478</td>\n",
       "      <td>426</td>\n",
       "      <td>349</td>\n",
       "      <td>403</td>\n",
       "      <td>280</td>\n",
       "      <td>388</td>\n",
       "      <td>749</td>\n",
       "      <td>704</td>\n",
       "      <td>352</td>\n",
       "      <td>...</td>\n",
       "      <td>653</td>\n",
       "      <td>763</td>\n",
       "      <td>682</td>\n",
       "      <td>698</td>\n",
       "      <td>713</td>\n",
       "      <td>606</td>\n",
       "      <td>457</td>\n",
       "      <td>482</td>\n",
       "      <td>680</td>\n",
       "      <td>571</td>\n",
       "    </tr>\n",
       "    <tr>\n",
       "      <th>Odisha</th>\n",
       "      <td>0</td>\n",
       "      <td>229</td>\n",
       "      <td>561</td>\n",
       "      <td>495</td>\n",
       "      <td>469</td>\n",
       "      <td>456</td>\n",
       "      <td>571</td>\n",
       "      <td>527</td>\n",
       "      <td>577</td>\n",
       "      <td>755</td>\n",
       "      <td>...</td>\n",
       "      <td>642</td>\n",
       "      <td>730</td>\n",
       "      <td>644</td>\n",
       "      <td>594</td>\n",
       "      <td>550</td>\n",
       "      <td>518</td>\n",
       "      <td>418</td>\n",
       "      <td>378</td>\n",
       "      <td>480</td>\n",
       "      <td>434</td>\n",
       "    </tr>\n",
       "    <tr>\n",
       "      <th>Tripura</th>\n",
       "      <td>0</td>\n",
       "      <td>39</td>\n",
       "      <td>93</td>\n",
       "      <td>25</td>\n",
       "      <td>23</td>\n",
       "      <td>111</td>\n",
       "      <td>24</td>\n",
       "      <td>57</td>\n",
       "      <td>16</td>\n",
       "      <td>142</td>\n",
       "      <td>...</td>\n",
       "      <td>59</td>\n",
       "      <td>35</td>\n",
       "      <td>50</td>\n",
       "      <td>32</td>\n",
       "      <td>31</td>\n",
       "      <td>0</td>\n",
       "      <td>54</td>\n",
       "      <td>31</td>\n",
       "      <td>38</td>\n",
       "      <td>39</td>\n",
       "    </tr>\n",
       "    <tr>\n",
       "      <th>Nagaland</th>\n",
       "      <td>0</td>\n",
       "      <td>34</td>\n",
       "      <td>4</td>\n",
       "      <td>24</td>\n",
       "      <td>27</td>\n",
       "      <td>35</td>\n",
       "      <td>19</td>\n",
       "      <td>13</td>\n",
       "      <td>16</td>\n",
       "      <td>59</td>\n",
       "      <td>...</td>\n",
       "      <td>79</td>\n",
       "      <td>60</td>\n",
       "      <td>69</td>\n",
       "      <td>31</td>\n",
       "      <td>24</td>\n",
       "      <td>44</td>\n",
       "      <td>27</td>\n",
       "      <td>23</td>\n",
       "      <td>45</td>\n",
       "      <td>29</td>\n",
       "    </tr>\n",
       "  </tbody>\n",
       "</table>\n",
       "<p>5 rows × 156 columns</p>\n",
       "</div>"
      ],
      "text/plain": [
       "states     2020-07-01  2020-07-02  2020-07-03  2020-07-04  2020-07-05  \\\n",
       "state                                                                   \n",
       "Telangana           0        1213        1892        1850        1590   \n",
       "Bihar               0         478         426         349         403   \n",
       "Odisha              0         229         561         495         469   \n",
       "Tripura             0          39          93          25          23   \n",
       "Nagaland            0          34           4          24          27   \n",
       "\n",
       "states     2020-07-06  2020-07-07  2020-07-08  2020-07-09  2020-07-10  ...  \\\n",
       "state                                                                  ...   \n",
       "Telangana        1831        1879        1924        1410        1278  ...   \n",
       "Bihar             280         388         749         704         352  ...   \n",
       "Odisha            456         571         527         577         755  ...   \n",
       "Tripura           111          24          57          16         142  ...   \n",
       "Nagaland           35          19          13          16          59  ...   \n",
       "\n",
       "states     2020-11-24  2020-11-25  2020-11-26  2020-11-27  2020-11-28  \\\n",
       "state                                                                   \n",
       "Telangana         921         993         862         761         753   \n",
       "Bihar             653         763         682         698         713   \n",
       "Odisha            642         730         644         594         550   \n",
       "Tripura            59          35          50          32          31   \n",
       "Nagaland           79          60          69          31          24   \n",
       "\n",
       "states     2020-11-29  2020-11-30  2020-12-01  2020-12-02  2020-12-03  \n",
       "state                                                                  \n",
       "Telangana         805         593         502         565         609  \n",
       "Bihar             606         457         482         680         571  \n",
       "Odisha            518         418         378         480         434  \n",
       "Tripura             0          54          31          38          39  \n",
       "Nagaland           44          27          23          45          29  \n",
       "\n",
       "[5 rows x 156 columns]"
      ]
     },
     "execution_count": 18,
     "metadata": {},
     "output_type": "execute_result"
    }
   ],
   "source": [
    "#hide\n",
    "dft_ct_new_cases.head()"
   ]
  },
  {
   "cell_type": "code",
   "execution_count": 19,
   "metadata": {
    "execution": {
     "iopub.execute_input": "2020-12-03T12:51:36.548286Z",
     "iopub.status.busy": "2020-12-03T12:51:36.530571Z",
     "iopub.status.idle": "2020-12-03T12:51:42.577056Z",
     "shell.execute_reply": "2020-12-03T12:51:42.577543Z"
    },
    "papermill": {
     "duration": 6.098743,
     "end_time": "2020-12-03T12:51:42.577702",
     "exception": false,
     "start_time": "2020-12-03T12:51:36.478959",
     "status": "completed"
    },
    "tags": []
   },
   "outputs": [
    {
     "data": {
      "image/png": "[encoded data removed]",
      "text/plain": [
       "<Figure size 1296x2016 with 11 Axes>"
      ]
     },
     "metadata": {
      "needs_background": "light"
     },
     "output_type": "display_data"
    }
   ],
   "source": [
    "#hide_input\n",
    "df = dft_ct_new_cases.copy()\n",
    "df.loc['Total'] = df.sum()\n",
    "n = 5\n",
    "ax = []\n",
    "fig = plt.figure(figsize = (18,28))\n",
    "gs = fig.add_gridspec(n+2, 5)\n",
    "# gs = fig.add_gridspec(2, 3)\n",
    "ax1 = fig.add_subplot(gs[0, :])\n",
    "ef = df.loc['Total'].rename_axis('date').reset_index()\n",
    "ef['date'] = ef['date'].astype('datetime64[ns]')\n",
    "ax1.bar(ef.date,ef.Total,alpha=0.3,color='#007acc')\n",
    "ax1.plot(ef.date,ef.Total , marker=\"o\", color='#007acc')\n",
    "ax1.xaxis.set_major_locator(mdates.WeekdayLocator())\n",
    "ax1.xaxis.set_major_formatter(mdates.DateFormatter('%b %d'))\n",
    "ax1.text(0.02, 0.5,'India daily case count', transform = ax1.transAxes, fontsize=25);\n",
    "ax1.spines['right'].set_visible(False)\n",
    "ax1.spines['top'].set_visible(False)\n",
    "\n",
    "ax2 = fig.add_subplot(gs[1,0])\n",
    "ef = df.loc['Maharashtra'].rename_axis('date').reset_index()\n",
    "ef['date'] = ef['date'].astype('datetime64[ns]')\n",
    "\n",
    "ax2.bar(ef.date, ef.Maharashtra,color = '#007acc',alpha=0.5)\n",
    "ax2.xaxis.set_major_locator(mdates.WeekdayLocator())\n",
    "ax2.xaxis.set_major_formatter(mdates.DateFormatter('%b %d'))\n",
    "ax2.set_xticks(ax2.get_xticks()[::3])\n",
    "maxyval = ef.Maharashtra.max()\n",
    "ax2.set_ylim([0,maxyval])\n",
    "ax2.text(0.05, 0.9,'Maharashtra', transform = ax2.transAxes, fontsize=20);\n",
    "ax2.spines['right'].set_visible(False)\n",
    "ax2.spines['top'].set_visible(False)\n",
    "\n",
    "\n",
    "ax3 = fig.add_subplot(gs[1,1])\n",
    "ef = df.loc['Tamil Nadu'].rename_axis('date').reset_index()\n",
    "ef['date'] = ef['date'].astype('datetime64[ns]')\n",
    "ax3.bar(ef.date, ef['Tamil Nadu'],color = '#007acc',alpha=0.5,)\n",
    "ax3.xaxis.set_major_locator(mdates.WeekdayLocator())\n",
    "ax3.xaxis.set_major_formatter(mdates.DateFormatter('%b %d'))\n",
    "ax3.set_xticks(ax3.get_xticks()[::3])\n",
    "ax3.text(0.05, 0.9,'Tamil Nadu', transform = ax3.transAxes, fontsize=20);\n",
    "ax3.spines['right'].set_visible(False)\n",
    "ax3.spines['top'].set_visible(False)\n",
    "\n",
    "ax5 = fig.add_subplot(gs[1,3])\n",
    "ef = df.loc['Telangana'].rename_axis('date').reset_index()\n",
    "ef['date'] = ef['date'].astype('datetime64[ns]')\n",
    "ax5.bar(ef.date, ef['Telangana'],color = '#007acc',alpha=0.5,)\n",
    "ax5.xaxis.set_major_locator(mdates.WeekdayLocator())\n",
    "ax5.xaxis.set_major_formatter(mdates.DateFormatter('%b %d'))\n",
    "ax5.set_xticks(ax5.get_xticks()[::3])\n",
    "ax5.text(0.05, 0.9,'Telangana', transform = ax5.transAxes, fontsize=20);\n",
    "ax5.spines['right'].set_visible(False)\n",
    "ax5.spines['top'].set_visible(False)\n",
    "\n",
    "ax6 = fig.add_subplot(gs[1,4])\n",
    "ef = df.loc['Andhra Pradesh'].rename_axis('date').reset_index()\n",
    "ef['date'] = ef['date'].astype('datetime64[ns]')\n",
    "ax6.bar(ef.date, ef['Andhra Pradesh'],color = '#007acc',alpha=0.5,)\n",
    "ax6.xaxis.set_major_locator(mdates.WeekdayLocator())\n",
    "ax6.xaxis.set_major_formatter(mdates.DateFormatter('%b %d'))\n",
    "ax6.set_xticks(ax6.get_xticks()[::3])\n",
    "ax6.text(0.05, 1,'Andhra Pradesh', transform = ax6.transAxes, fontsize=20);\n",
    "ax6.spines['right'].set_visible(False)\n",
    "ax6.spines['top'].set_visible(False)\n",
    "\n",
    "ax4 = fig.add_subplot(gs[1,2])\n",
    "ef = df.loc['Delhi'].rename_axis('date').reset_index()\n",
    "ef['date'] = ef['date'].astype('datetime64[ns]')\n",
    "ax4.bar(ef.date, ef.Delhi,color = '#007acc',alpha=0.5)\n",
    "ax4.set_xticks([])\n",
    "ax4.xaxis.set_major_locator(mdates.WeekdayLocator())\n",
    "ax4.xaxis.set_major_formatter(mdates.DateFormatter('%b %d'))\n",
    "ax4.set_xticks(ax4.get_xticks()[::3])\n",
    "ax4.spines['right'].set_visible(False)\n",
    "ax4.spines['top'].set_visible(False)\n",
    "\n",
    "ax4.text(0.05, 1,'Delhi', transform = ax4.transAxes, fontsize=20)\n",
    "\n",
    "for i in range(n):\n",
    "    \n",
    "    ax.append(fig.add_subplot(gs[i+2,:]))\n",
    "    ef = df.iloc[i+3].rename_axis('date').reset_index()\n",
    "    ef['date'] = ef['date'].astype('datetime64[ns]')\n",
    "    ax[i].bar(ef.date,ef.iloc[:,-1],color = '#007acc',alpha=0.3)\n",
    "    ax[i].plot(ef.date,ef.iloc[:,-1],marker='o',color='#007acc')\n",
    "    ax[i].text(0.02,0.5,f'{ef.columns.values[-1]}',transform = ax[i].transAxes, fontsize = 20);\n",
    "    ax[i].xaxis.set_major_locator(mdates.WeekdayLocator())\n",
    "    ax[i].xaxis.set_major_formatter(mdates.DateFormatter('%b %d'))\n",
    "    ax[i].set_ylim([0,7000])\n",
    "    ax[i].spines['right'].set_visible(False)\n",
    "    ax[i].spines['top'].set_visible(False)\n",
    "plt.tight_layout()\n"
   ]
  },
  {
   "cell_type": "code",
   "execution_count": 20,
   "metadata": {
    "execution": {
     "iopub.execute_input": "2020-12-03T12:51:42.634018Z",
     "iopub.status.busy": "2020-12-03T12:51:42.633365Z",
     "iopub.status.idle": "2020-12-03T12:51:42.635663Z",
     "shell.execute_reply": "2020-12-03T12:51:42.636178Z"
    },
    "papermill": {
     "duration": 0.034834,
     "end_time": "2020-12-03T12:51:42.636334",
     "exception": false,
     "start_time": "2020-12-03T12:51:42.601500",
     "status": "completed"
    },
    "tags": []
   },
   "outputs": [
    {
     "name": "stdout",
     "output_type": "stream",
     "text": [
      "                                   states    Cases  Deaths   PCases  PDeaths  Cases (+)  Deaths (+)  Fatality Rate\n",
      "                              Maharashtra  1832176   47357  1832176    47357          0           0           2.58\n",
      "                                Karnataka   887667   11808   887667    11808          0           0           1.33\n",
      "                           Andhra Pradesh   869412    7003   869412     7003          0           0           0.81\n",
      "                               Tamil Nadu   784747   11733   784747    11733          0           0           1.50\n",
      "                                   Kerala   614674    2299   614674     2299          0           0           0.37\n",
      "                                    Delhi   578324    9342   578324     9342          0           0           1.62\n",
      "                            Uttar Pradesh   547308    7817   547308     7817          0           0           1.43\n",
      "                              West Bengal   490070    8527   490070     8527          0           0           1.74\n",
      "                                   Odisha   320017    1808   319583     1803        434           5           0.56\n",
      "                                Rajasthan   272400    2350   272400     2350          0           0           0.86\n",
      "                                Telangana   271492    1465   270883     1462        609           3           0.54\n",
      "                             Chhattisgarh   240863    2919   240863     2919          0           0           1.21\n",
      "                                  Haryana   237604    2488   237604     2488          0           0           1.05\n",
      "                                    Bihar   237349    1281   236778     1274        571           7           0.54\n",
      "                                    Assam   213171     983   213171      983          0           0           0.46\n",
      "                                  Gujarat   212769    4018   212769     4018          0           0           1.89\n",
      "                           Madhya Pradesh   208924    3287   208924     3287          0           0           1.57\n",
      "                                   Punjab   153308    4842   153308     4842          0           0           3.16\n",
      "                        Jammu and Kashmir   111130    1708   111130     1708          0           0           1.54\n",
      "                                Jharkhand   109538     971   109538      971          0           0           0.89\n",
      "                              Uttarakhand    75784    1251    75784     1251          0           0           1.65\n",
      "                                      Goa    48241     693    48241      693          0           0           1.44\n",
      "                         Himachal Pradesh    41860     667    41860      667          0           0           1.59\n",
      "                               Puducherry    37079     612    37079      612          0           0           1.65\n",
      "                                  Tripura    32800     369    32761      369         39           0           1.12\n",
      "                                  Manipur    25390     291    25390      291          0           0           1.15\n",
      "                               Chandigarh    17642     281    17642      281          0           0           1.59\n",
      "                        Arunachal Pradesh    16320      54    16320       54          0           0           0.33\n",
      "                                Meghalaya    11954     114    11954      114          0           0           0.95\n",
      "                                 Nagaland    11283      64    11254       64         29           0           0.57\n",
      "                                   Ladakh     8623     119     8623      119          0           0           1.38\n",
      "                                   Sikkim     5072     111     5072      111          0           0           2.19\n",
      "              Andaman and Nicobar Islands     4723      61     4723       61          0           0           1.29\n",
      "                                  Mizoram     3881       6     3869        6         12           0           0.15\n",
      " Dadra and Nagar Haveli and Daman and Diu     3333       2     3333        2          0           0           0.06\n",
      "                              Lakshadweep        0       0        0        0          0           0            NaN\n"
     ]
    }
   ],
   "source": [
    "#hide_input\n",
    "print(df_table.to_string(index=False))"
   ]
  },
  {
   "cell_type": "code",
   "execution_count": null,
   "metadata": {
    "papermill": {
     "duration": 0.023338,
     "end_time": "2020-12-03T12:51:42.684644",
     "exception": false,
     "start_time": "2020-12-03T12:51:42.661306",
     "status": "completed"
    },
    "tags": []
   },
   "outputs": [],
   "source": []
  },
  {
   "cell_type": "code",
   "execution_count": null,
   "metadata": {
    "papermill": {
     "duration": 0.023747,
     "end_time": "2020-12-03T12:51:42.732698",
     "exception": false,
     "start_time": "2020-12-03T12:51:42.708951",
     "status": "completed"
    },
    "tags": []
   },
   "outputs": [],
   "source": []
  }
 ],
 "metadata": {
  "kernelspec": {
   "display_name": "Python 3",
   "language": "python",
   "name": "python3"
  },
  "language_info": {
   "codemirror_mode": {
    "name": "ipython",
    "version": 3
   },
   "file_extension": ".py",
   "mimetype": "text/x-python",
   "name": "python",
   "nbconvert_exporter": "python",
   "pygments_lexer": "ipython3",
   "version": "3.6.12"
  },
  "papermill": {
   "duration": 14.773868,
   "end_time": "2020-12-03T12:51:43.365323",
   "environment_variables": {},
   "exception": null,
   "input_path": "latest.ipynb",
   "output_path": "latest.ipynb",
   "parameters": {},
   "start_time": "2020-12-03T12:51:28.591455",
   "version": "2.1.2"
  }
 },
 "nbformat": 4,
 "nbformat_minor": 4
}