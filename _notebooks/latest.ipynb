{
 "cells": [
  {
   "cell_type": "markdown",
   "metadata": {
    "papermill": {
     "duration": 0.021877,
     "end_time": "2020-08-24T05:37:15.211024",
     "exception": false,
     "start_time": "2020-08-24T05:37:15.189147",
     "status": "completed"
    },
    "tags": []
   },
   "source": [
    "# Latest COVID-19 India Matplotlib Overview"
   ]
  },
  {
   "cell_type": "code",
   "execution_count": 1,
   "metadata": {
    "execution": {
     "iopub.execute_input": "2020-08-24T05:37:15.248086Z",
     "iopub.status.busy": "2020-08-24T05:37:15.247337Z",
     "iopub.status.idle": "2020-08-24T05:37:15.817225Z",
     "shell.execute_reply": "2020-08-24T05:37:15.816099Z"
    },
    "papermill": {
     "duration": 0.591066,
     "end_time": "2020-08-24T05:37:15.817384",
     "exception": false,
     "start_time": "2020-08-24T05:37:15.226318",
     "status": "completed"
    },
    "tags": []
   },
   "outputs": [],
   "source": [
    "#hide\n",
    "import pandas as pd\n",
    "import numpy as np\n",
    "import requests\n",
    "import json\n",
    "import matplotlib.pyplot as plt\n",
    "import matplotlib.dates as mdates\n",
    "import matplotlib as mpl\n",
    "from IPython.core.display import display,HTML\n",
    "%matplotlib inline\n",
    "from datetime import date"
   ]
  },
  {
   "cell_type": "code",
   "execution_count": 2,
   "metadata": {
    "execution": {
     "iopub.execute_input": "2020-08-24T05:37:15.855513Z",
     "iopub.status.busy": "2020-08-24T05:37:15.854574Z",
     "iopub.status.idle": "2020-08-24T05:37:16.000414Z",
     "shell.execute_reply": "2020-08-24T05:37:15.999154Z"
    },
    "papermill": {
     "duration": 0.168142,
     "end_time": "2020-08-24T05:37:16.000597",
     "exception": false,
     "start_time": "2020-08-24T05:37:15.832455",
     "status": "completed"
    },
    "tags": []
   },
   "outputs": [],
   "source": [
    "#hide\n",
    "df  = pd.read_csv('https://api.covid19india.org/csv/latest/states.csv')\n",
    "df = df[['Date','State','Confirmed','Deceased']]\n",
    "df = df.rename(columns={'Confirmed':'Cases', \"Deceased\":'Deaths'})\n",
    "df_cases = df[[\"Date\",'State','Cases']]\n",
    "df_deaths = df[['Date','State','Deaths']]\n",
    "df_cases1 = df_cases.groupby('Date')\n",
    "df_deaths1= df_deaths.groupby('Date')"
   ]
  },
  {
   "cell_type": "code",
   "execution_count": 3,
   "metadata": {
    "execution": {
     "iopub.execute_input": "2020-08-24T05:37:16.036153Z",
     "iopub.status.busy": "2020-08-24T05:37:16.035584Z",
     "iopub.status.idle": "2020-08-24T05:37:16.055100Z",
     "shell.execute_reply": "2020-08-24T05:37:16.054530Z"
    },
    "papermill": {
     "duration": 0.039045,
     "end_time": "2020-08-24T05:37:16.055228",
     "exception": false,
     "start_time": "2020-08-24T05:37:16.016183",
     "status": "completed"
    },
    "tags": []
   },
   "outputs": [],
   "source": [
    "#hide\n",
    "df_snap = pd.read_csv('data/SnapshotCases-28-July.csv')\n",
    "arr_states = df_snap['states'].unique()\n",
    "arr_dates = df['Date'].unique()\n",
    "df_snap = df_snap.set_index('states')"
   ]
  },
  {
   "cell_type": "code",
   "execution_count": 4,
   "metadata": {
    "execution": {
     "iopub.execute_input": "2020-08-24T05:37:16.094824Z",
     "iopub.status.busy": "2020-08-24T05:37:16.094210Z",
     "iopub.status.idle": "2020-08-24T05:37:16.097551Z",
     "shell.execute_reply": "2020-08-24T05:37:16.097105Z"
    },
    "papermill": {
     "duration": 0.027732,
     "end_time": "2020-08-24T05:37:16.097676",
     "exception": false,
     "start_time": "2020-08-24T05:37:16.069944",
     "status": "completed"
    },
    "tags": []
   },
   "outputs": [
    {
     "data": {
      "text/plain": [
       "array(['Andaman and Nicobar Islands', 'Andhra Pradesh',\n",
       "       'Arunachal Pradesh', 'Assam', 'Bihar', 'Chandigarh',\n",
       "       'Dadra and Nagar Haveli and Daman and Diu', 'Delhi', 'Goa',\n",
       "       'Gujarat', 'Haryana', 'Himachal Pradesh', 'Jammu and Kashmir',\n",
       "       'Jharkhand', 'Karnataka', 'Kerala', 'Lakshadweep',\n",
       "       'Madhya Pradesh', 'Maharashtra', 'Manipur', 'Meghalaya', 'Mizoram',\n",
       "       'Nagaland', 'Odisha', 'Puducherry', 'Punjab', 'Rajasthan',\n",
       "       'Sikkim', 'Tamil Nadu', 'Telangana', 'Tripura', 'Uttar Pradesh',\n",
       "       'West Bengal', 'Chhattisgarh', 'Ladakh', 'Uttarakhand'],\n",
       "      dtype=object)"
      ]
     },
     "execution_count": 4,
     "metadata": {},
     "output_type": "execute_result"
    }
   ],
   "source": [
    "#hide\n",
    "arr_states[-9] = 'Puducherry'\n",
    "arr_states[-10] = 'Odisha'\n",
    "arr_states[6] = 'Dadra and Nagar Haveli and Daman and Diu'\n",
    "arr_states = np.append(arr_states,np.array(['Chhattisgarh','Ladakh','Uttarakhand']))\n",
    "arr_states"
   ]
  },
  {
   "cell_type": "code",
   "execution_count": 5,
   "metadata": {
    "execution": {
     "iopub.execute_input": "2020-08-24T05:37:16.786690Z",
     "iopub.status.busy": "2020-08-24T05:37:16.785622Z",
     "iopub.status.idle": "2020-08-24T05:37:16.789275Z",
     "shell.execute_reply": "2020-08-24T05:37:16.789728Z"
    },
    "papermill": {
     "duration": 0.519878,
     "end_time": "2020-08-24T05:37:16.789885",
     "exception": false,
     "start_time": "2020-08-24T05:37:16.270007",
     "status": "completed"
    },
    "tags": []
   },
   "outputs": [],
   "source": [
    "#hide\n",
    "dates = []\n",
    "for i in arr_dates:\n",
    "    if i>='2020-07-01':\n",
    "        dates.append(i)\n",
    "dict = {'states':dates}\n",
    "for i in arr_states:\n",
    "    dict[i] = [0]*len(dates)\n",
    "dft_cases = pd.DataFrame(dict)\n",
    "dft_deaths = pd.DataFrame(dict)\n"
   ]
  },
  {
   "cell_type": "code",
   "execution_count": 6,
   "metadata": {
    "execution": {
     "iopub.execute_input": "2020-08-24T05:37:17.433560Z",
     "iopub.status.busy": "2020-08-24T05:37:17.432975Z",
     "iopub.status.idle": "2020-08-24T05:37:18.180227Z",
     "shell.execute_reply": "2020-08-24T05:37:18.179710Z"
    },
    "papermill": {
     "duration": 1.201646,
     "end_time": "2020-08-24T05:37:18.180379",
     "exception": false,
     "start_time": "2020-08-24T05:37:16.978733",
     "status": "completed"
    },
    "tags": []
   },
   "outputs": [],
   "source": [
    "#hide\n",
    "for i in range(len(dates)):\n",
    "    df1_deaths = df_deaths1.get_group(dates[i])\n",
    "    for j in range(len(df1_deaths.index)):\n",
    "        if df1_deaths.iloc[j,1] in arr_states:\n",
    "            dft_deaths.loc[i,df1_deaths.iloc[j,1]] = df1_deaths.iloc[j,2]\n",
    "dft_deaths = dft_deaths.set_index('states')"
   ]
  },
  {
   "cell_type": "code",
   "execution_count": 7,
   "metadata": {
    "execution": {
     "iopub.execute_input": "2020-08-24T05:37:18.325491Z",
     "iopub.status.busy": "2020-08-24T05:37:18.324794Z",
     "iopub.status.idle": "2020-08-24T05:37:19.066223Z",
     "shell.execute_reply": "2020-08-24T05:37:19.065728Z"
    },
    "papermill": {
     "duration": 0.870271,
     "end_time": "2020-08-24T05:37:19.066357",
     "exception": false,
     "start_time": "2020-08-24T05:37:18.196086",
     "status": "completed"
    },
    "tags": []
   },
   "outputs": [],
   "source": [
    "#hide\n",
    "for i in range(len(dates)):\n",
    "    df1_cases = df_cases1.get_group(dates[i])\n",
    "    for j in range(len(df1_cases.index)):\n",
    "        if df1_cases.iloc[j,1] in arr_states:\n",
    "            dft_cases.loc[i,df1_cases.iloc[j,1]] = df1_cases.iloc[j,2]\n",
    "dft_cases = dft_cases.set_index('states')"
   ]
  },
  {
   "cell_type": "code",
   "execution_count": 8,
   "metadata": {
    "execution": {
     "iopub.execute_input": "2020-08-24T05:37:19.105111Z",
     "iopub.status.busy": "2020-08-24T05:37:19.104507Z",
     "iopub.status.idle": "2020-08-24T05:37:19.107472Z",
     "shell.execute_reply": "2020-08-24T05:37:19.106995Z"
    },
    "papermill": {
     "duration": 0.025474,
     "end_time": "2020-08-24T05:37:19.107603",
     "exception": false,
     "start_time": "2020-08-24T05:37:19.082129",
     "status": "completed"
    },
    "tags": []
   },
   "outputs": [],
   "source": [
    "#hide\n",
    "dft_cases = dft_cases.T\n",
    "dft_deaths = dft_deaths.T\n",
    "dt_today = dates[-1]\n",
    "dt_yday = dates[-2]"
   ]
  },
  {
   "cell_type": "code",
   "execution_count": 9,
   "metadata": {
    "execution": {
     "iopub.execute_input": "2020-08-24T05:37:19.147242Z",
     "iopub.status.busy": "2020-08-24T05:37:19.146123Z",
     "iopub.status.idle": "2020-08-24T05:37:19.151385Z",
     "shell.execute_reply": "2020-08-24T05:37:19.152171Z"
    },
    "papermill": {
     "duration": 0.02957,
     "end_time": "2020-08-24T05:37:19.152423",
     "exception": false,
     "start_time": "2020-08-24T05:37:19.122853",
     "status": "completed"
    },
    "tags": []
   },
   "outputs": [],
   "source": [
    "#hide\n",
    "dft_cases = dft_cases.reset_index()\n",
    "dft_deaths = dft_deaths.reset_index()\n",
    "dft_cases = dft_cases.rename(columns = {'index':'state'})\n",
    "dft_deaths = dft_deaths.rename(columns = {'index':'state'})"
   ]
  },
  {
   "cell_type": "code",
   "execution_count": 10,
   "metadata": {
    "execution": {
     "iopub.execute_input": "2020-08-24T05:37:19.198372Z",
     "iopub.status.busy": "2020-08-24T05:37:19.197742Z",
     "iopub.status.idle": "2020-08-24T05:37:19.202001Z",
     "shell.execute_reply": "2020-08-24T05:37:19.201516Z"
    },
    "papermill": {
     "duration": 0.033286,
     "end_time": "2020-08-24T05:37:19.202137",
     "exception": false,
     "start_time": "2020-08-24T05:37:19.168851",
     "status": "completed"
    },
    "tags": []
   },
   "outputs": [],
   "source": [
    "#hide\n",
    "dfc_cases = dft_cases.groupby('state')[dt_today].sum()\n",
    "dfc_deaths = dft_deaths.groupby('state')[dt_today].sum()\n",
    "dfp_cases = dft_cases.groupby('state')[dt_yday].sum()\n",
    "dfp_deaths = dft_deaths.groupby('state')[dt_yday].sum()"
   ]
  },
  {
   "cell_type": "code",
   "execution_count": 11,
   "metadata": {
    "execution": {
     "iopub.execute_input": "2020-08-24T05:37:19.249507Z",
     "iopub.status.busy": "2020-08-24T05:37:19.246277Z",
     "iopub.status.idle": "2020-08-24T05:37:19.253683Z",
     "shell.execute_reply": "2020-08-24T05:37:19.253128Z"
    },
    "papermill": {
     "duration": 0.036046,
     "end_time": "2020-08-24T05:37:19.253809",
     "exception": false,
     "start_time": "2020-08-24T05:37:19.217763",
     "status": "completed"
    },
    "tags": []
   },
   "outputs": [
    {
     "data": {
      "text/html": [
       "<div>\n",
       "<style scoped>\n",
       "    .dataframe tbody tr th:only-of-type {\n",
       "        vertical-align: middle;\n",
       "    }\n",
       "\n",
       "    .dataframe tbody tr th {\n",
       "        vertical-align: top;\n",
       "    }\n",
       "\n",
       "    .dataframe thead th {\n",
       "        text-align: right;\n",
       "    }\n",
       "</style>\n",
       "<table border=\"1\" class=\"dataframe\">\n",
       "  <thead>\n",
       "    <tr style=\"text-align: right;\">\n",
       "      <th></th>\n",
       "      <th>states</th>\n",
       "      <th>Cases</th>\n",
       "      <th>Deaths</th>\n",
       "      <th>PCases</th>\n",
       "      <th>PDeaths</th>\n",
       "    </tr>\n",
       "  </thead>\n",
       "  <tbody>\n",
       "    <tr>\n",
       "      <th>0</th>\n",
       "      <td>Maharashtra</td>\n",
       "      <td>682383</td>\n",
       "      <td>22253</td>\n",
       "      <td>682383</td>\n",
       "      <td>22253</td>\n",
       "    </tr>\n",
       "    <tr>\n",
       "      <th>1</th>\n",
       "      <td>Tamil Nadu</td>\n",
       "      <td>379385</td>\n",
       "      <td>6517</td>\n",
       "      <td>379385</td>\n",
       "      <td>6517</td>\n",
       "    </tr>\n",
       "    <tr>\n",
       "      <th>2</th>\n",
       "      <td>Andhra Pradesh</td>\n",
       "      <td>353111</td>\n",
       "      <td>3282</td>\n",
       "      <td>353111</td>\n",
       "      <td>3282</td>\n",
       "    </tr>\n",
       "    <tr>\n",
       "      <th>3</th>\n",
       "      <td>Karnataka</td>\n",
       "      <td>277814</td>\n",
       "      <td>4683</td>\n",
       "      <td>277814</td>\n",
       "      <td>4683</td>\n",
       "    </tr>\n",
       "    <tr>\n",
       "      <th>4</th>\n",
       "      <td>Uttar Pradesh</td>\n",
       "      <td>187781</td>\n",
       "      <td>2926</td>\n",
       "      <td>187781</td>\n",
       "      <td>2926</td>\n",
       "    </tr>\n",
       "  </tbody>\n",
       "</table>\n",
       "</div>"
      ],
      "text/plain": [
       "           states   Cases  Deaths  PCases  PDeaths\n",
       "0     Maharashtra  682383   22253  682383    22253\n",
       "1      Tamil Nadu  379385    6517  379385     6517\n",
       "2  Andhra Pradesh  353111    3282  353111     3282\n",
       "3       Karnataka  277814    4683  277814     4683\n",
       "4   Uttar Pradesh  187781    2926  187781     2926"
      ]
     },
     "execution_count": 11,
     "metadata": {},
     "output_type": "execute_result"
    }
   ],
   "source": [
    "#hide\n",
    "df_table = pd.DataFrame({'states': dfc_cases.index, 'Cases': dfc_cases.values, 'Deaths': dfc_deaths.values, 'PCases': dfp_cases.values, 'PDeaths': dfp_deaths.values}).set_index('states')\n",
    "df_table = df_table.sort_values(by = ['Cases','Deaths'], ascending = [False, False])\n",
    "df_table = df_table.reset_index()\n",
    "df_table.head()"
   ]
  },
  {
   "cell_type": "code",
   "execution_count": 12,
   "metadata": {
    "execution": {
     "iopub.execute_input": "2020-08-24T05:37:19.292059Z",
     "iopub.status.busy": "2020-08-24T05:37:19.291504Z",
     "iopub.status.idle": "2020-08-24T05:37:19.302667Z",
     "shell.execute_reply": "2020-08-24T05:37:19.302128Z"
    },
    "papermill": {
     "duration": 0.033676,
     "end_time": "2020-08-24T05:37:19.302803",
     "exception": false,
     "start_time": "2020-08-24T05:37:19.269127",
     "status": "completed"
    },
    "tags": []
   },
   "outputs": [],
   "source": [
    "#hide\n",
    "for c in 'Cases, Deaths'.split(', '):\n",
    "    df_table[f'{c} (+)'] = (df_table[c] - df_table[f'P{c}']).clip(0)\n",
    "df_table['Fatality Rate'] = (100* df_table['Deaths']/ df_table['Cases']).round(2)"
   ]
  },
  {
   "cell_type": "code",
   "execution_count": 13,
   "metadata": {
    "execution": {
     "iopub.execute_input": "2020-08-24T05:37:19.347549Z",
     "iopub.status.busy": "2020-08-24T05:37:19.346930Z",
     "iopub.status.idle": "2020-08-24T05:37:19.350263Z",
     "shell.execute_reply": "2020-08-24T05:37:19.349751Z"
    },
    "papermill": {
     "duration": 0.031355,
     "end_time": "2020-08-24T05:37:19.350395",
     "exception": false,
     "start_time": "2020-08-24T05:37:19.319040",
     "status": "completed"
    },
    "tags": []
   },
   "outputs": [
    {
     "data": {
      "text/html": [
       "<div>\n",
       "<style scoped>\n",
       "    .dataframe tbody tr th:only-of-type {\n",
       "        vertical-align: middle;\n",
       "    }\n",
       "\n",
       "    .dataframe tbody tr th {\n",
       "        vertical-align: top;\n",
       "    }\n",
       "\n",
       "    .dataframe thead th {\n",
       "        text-align: right;\n",
       "    }\n",
       "</style>\n",
       "<table border=\"1\" class=\"dataframe\">\n",
       "  <thead>\n",
       "    <tr style=\"text-align: right;\">\n",
       "      <th></th>\n",
       "      <th>states</th>\n",
       "      <th>Cases</th>\n",
       "      <th>Deaths</th>\n",
       "      <th>PCases</th>\n",
       "      <th>PDeaths</th>\n",
       "      <th>Cases (+)</th>\n",
       "      <th>Deaths (+)</th>\n",
       "      <th>Fatality Rate</th>\n",
       "    </tr>\n",
       "  </thead>\n",
       "  <tbody>\n",
       "    <tr>\n",
       "      <th>0</th>\n",
       "      <td>Maharashtra</td>\n",
       "      <td>682383</td>\n",
       "      <td>22253</td>\n",
       "      <td>682383</td>\n",
       "      <td>22253</td>\n",
       "      <td>0</td>\n",
       "      <td>0</td>\n",
       "      <td>3.26</td>\n",
       "    </tr>\n",
       "    <tr>\n",
       "      <th>1</th>\n",
       "      <td>Tamil Nadu</td>\n",
       "      <td>379385</td>\n",
       "      <td>6517</td>\n",
       "      <td>379385</td>\n",
       "      <td>6517</td>\n",
       "      <td>0</td>\n",
       "      <td>0</td>\n",
       "      <td>1.72</td>\n",
       "    </tr>\n",
       "    <tr>\n",
       "      <th>2</th>\n",
       "      <td>Andhra Pradesh</td>\n",
       "      <td>353111</td>\n",
       "      <td>3282</td>\n",
       "      <td>353111</td>\n",
       "      <td>3282</td>\n",
       "      <td>0</td>\n",
       "      <td>0</td>\n",
       "      <td>0.93</td>\n",
       "    </tr>\n",
       "    <tr>\n",
       "      <th>3</th>\n",
       "      <td>Karnataka</td>\n",
       "      <td>277814</td>\n",
       "      <td>4683</td>\n",
       "      <td>277814</td>\n",
       "      <td>4683</td>\n",
       "      <td>0</td>\n",
       "      <td>0</td>\n",
       "      <td>1.69</td>\n",
       "    </tr>\n",
       "    <tr>\n",
       "      <th>4</th>\n",
       "      <td>Uttar Pradesh</td>\n",
       "      <td>187781</td>\n",
       "      <td>2926</td>\n",
       "      <td>187781</td>\n",
       "      <td>2926</td>\n",
       "      <td>0</td>\n",
       "      <td>0</td>\n",
       "      <td>1.56</td>\n",
       "    </tr>\n",
       "  </tbody>\n",
       "</table>\n",
       "</div>"
      ],
      "text/plain": [
       "           states   Cases  Deaths  PCases  PDeaths  Cases (+)  Deaths (+)  \\\n",
       "0     Maharashtra  682383   22253  682383    22253          0           0   \n",
       "1      Tamil Nadu  379385    6517  379385     6517          0           0   \n",
       "2  Andhra Pradesh  353111    3282  353111     3282          0           0   \n",
       "3       Karnataka  277814    4683  277814     4683          0           0   \n",
       "4   Uttar Pradesh  187781    2926  187781     2926          0           0   \n",
       "\n",
       "   Fatality Rate  \n",
       "0           3.26  \n",
       "1           1.72  \n",
       "2           0.93  \n",
       "3           1.69  \n",
       "4           1.56  "
      ]
     },
     "execution_count": 13,
     "metadata": {},
     "output_type": "execute_result"
    }
   ],
   "source": [
    "#hide\n",
    "df_table.head()"
   ]
  },
  {
   "cell_type": "code",
   "execution_count": 14,
   "metadata": {
    "execution": {
     "iopub.execute_input": "2020-08-24T05:37:19.398734Z",
     "iopub.status.busy": "2020-08-24T05:37:19.398083Z",
     "iopub.status.idle": "2020-08-24T05:37:19.406803Z",
     "shell.execute_reply": "2020-08-24T05:37:19.406155Z"
    },
    "papermill": {
     "duration": 0.040092,
     "end_time": "2020-08-24T05:37:19.406939",
     "exception": false,
     "start_time": "2020-08-24T05:37:19.366847",
     "status": "completed"
    },
    "tags": []
   },
   "outputs": [
    {
     "data": {
      "text/plain": [
       "{'updated': '2020-08-24',\n",
       " 'since': '2020-08-23',\n",
       " 'Cases': 3107612,\n",
       " 'PCases': 3105185,\n",
       " 'Deaths': 57704,\n",
       " 'PDeaths': 57692,\n",
       " 'Cases (+)': 2427,\n",
       " 'Deaths (+)': 12}"
      ]
     },
     "execution_count": 14,
     "metadata": {},
     "output_type": "execute_result"
    }
   ],
   "source": [
    "#hide\n",
    "summary = {'updated':dates[-1], 'since':dates[-2]}\n",
    "list_names = ['Cases', 'PCases', 'Deaths', 'PDeaths', 'Cases (+)', 'Deaths (+)']\n",
    "for name in list_names:\n",
    "    summary[name] = df_table.sum()[name]\n",
    "summary"
   ]
  },
  {
   "cell_type": "code",
   "execution_count": 15,
   "metadata": {
    "execution": {
     "iopub.execute_input": "2020-08-24T05:37:19.449795Z",
     "iopub.status.busy": "2020-08-24T05:37:19.449192Z",
     "iopub.status.idle": "2020-08-24T05:37:19.451457Z",
     "shell.execute_reply": "2020-08-24T05:37:19.450863Z"
    },
    "papermill": {
     "duration": 0.027899,
     "end_time": "2020-08-24T05:37:19.451587",
     "exception": false,
     "start_time": "2020-08-24T05:37:19.423688",
     "status": "completed"
    },
    "tags": []
   },
   "outputs": [],
   "source": [
    "#hide\n",
    "overview = '''\n",
    "<!-- #######  HTML!! #########-->\n",
    "<h1 style=\"color: #5e9ca0; text-align: center;\">India</h1>\n",
    "<p style=\"text-align: center;\">Last update: <strong>{update}</strong></p>\n",
    "<p style=\"text-align: center;\">Confirmed cases:</p>\n",
    "<p style=\"text-align: center;font-size:24px;\">{cases} (<span style=\"color: #ff0000;\">+{new}</span>)</p>\n",
    "<p style=\"text-align: center;\">Confirmed deaths:</p>\n",
    "<p style=\"text-align: center;font-size:24px;\">{deaths} (<span style=\"color: #ff0000;\">+{dnew}</span>)</p>\n",
    "'''"
   ]
  },
  {
   "cell_type": "code",
   "execution_count": 16,
   "metadata": {
    "execution": {
     "iopub.execute_input": "2020-08-24T05:37:19.498945Z",
     "iopub.status.busy": "2020-08-24T05:37:19.498262Z",
     "iopub.status.idle": "2020-08-24T05:37:19.500537Z",
     "shell.execute_reply": "2020-08-24T05:37:19.501020Z"
    },
    "papermill": {
     "duration": 0.02972,
     "end_time": "2020-08-24T05:37:19.501172",
     "exception": false,
     "start_time": "2020-08-24T05:37:19.471452",
     "status": "completed"
    },
    "tags": []
   },
   "outputs": [
    {
     "data": {
      "text/html": [
       "\n",
       "<!-- #######  HTML!! #########-->\n",
       "<h1 style=\"color: #5e9ca0; text-align: center;\">India</h1>\n",
       "<p style=\"text-align: center;\">Last update: <strong>2020-08-24</strong></p>\n",
       "<p style=\"text-align: center;\">Confirmed cases:</p>\n",
       "<p style=\"text-align: center;font-size:24px;\">3107612 (<span style=\"color: #ff0000;\">+2427</span>)</p>\n",
       "<p style=\"text-align: center;\">Confirmed deaths:</p>\n",
       "<p style=\"text-align: center;font-size:24px;\">57704 (<span style=\"color: #ff0000;\">+12</span>)</p>\n"
      ],
      "text/plain": [
       "<IPython.core.display.HTML object>"
      ]
     },
     "metadata": {},
     "output_type": "display_data"
    }
   ],
   "source": [
    "#hide_input\n",
    "update = summary['updated']\n",
    "cases = summary['Cases']\n",
    "new = summary['Cases (+)']\n",
    "deaths = summary['Deaths']\n",
    "dnew = summary['Deaths (+)']\n",
    "\n",
    "html = HTML(overview.format(update=update, cases=cases,new=new,deaths=deaths,dnew=dnew))\n",
    "\n",
    "display(html)"
   ]
  },
  {
   "cell_type": "code",
   "execution_count": 17,
   "metadata": {
    "execution": {
     "iopub.execute_input": "2020-08-24T05:37:19.543674Z",
     "iopub.status.busy": "2020-08-24T05:37:19.543076Z",
     "iopub.status.idle": "2020-08-24T05:37:19.548316Z",
     "shell.execute_reply": "2020-08-24T05:37:19.548794Z"
    },
    "papermill": {
     "duration": 0.030701,
     "end_time": "2020-08-24T05:37:19.548960",
     "exception": false,
     "start_time": "2020-08-24T05:37:19.518259",
     "status": "completed"
    },
    "tags": []
   },
   "outputs": [],
   "source": [
    "#hide\n",
    "dt_cols = list(dft_cases.columns[1:])\n",
    "dft_ct_new_cases = dft_cases.groupby('state')[dt_cols].sum().diff(axis=1).fillna(0).astype(int)\n",
    "dft_ct_new_cases.sort_values(by = dates[-1], ascending = False,inplace = True)"
   ]
  },
  {
   "cell_type": "code",
   "execution_count": 18,
   "metadata": {
    "execution": {
     "iopub.execute_input": "2020-08-24T05:37:19.600838Z",
     "iopub.status.busy": "2020-08-24T05:37:19.600119Z",
     "iopub.status.idle": "2020-08-24T05:37:19.602683Z",
     "shell.execute_reply": "2020-08-24T05:37:19.603336Z"
    },
    "papermill": {
     "duration": 0.037673,
     "end_time": "2020-08-24T05:37:19.603490",
     "exception": false,
     "start_time": "2020-08-24T05:37:19.565817",
     "status": "completed"
    },
    "tags": []
   },
   "outputs": [
    {
     "data": {
      "text/html": [
       "<div>\n",
       "<style scoped>\n",
       "    .dataframe tbody tr th:only-of-type {\n",
       "        vertical-align: middle;\n",
       "    }\n",
       "\n",
       "    .dataframe tbody tr th {\n",
       "        vertical-align: top;\n",
       "    }\n",
       "\n",
       "    .dataframe thead th {\n",
       "        text-align: right;\n",
       "    }\n",
       "</style>\n",
       "<table border=\"1\" class=\"dataframe\">\n",
       "  <thead>\n",
       "    <tr style=\"text-align: right;\">\n",
       "      <th>states</th>\n",
       "      <th>2020-07-01</th>\n",
       "      <th>2020-07-02</th>\n",
       "      <th>2020-07-03</th>\n",
       "      <th>2020-07-04</th>\n",
       "      <th>2020-07-05</th>\n",
       "      <th>2020-07-06</th>\n",
       "      <th>2020-07-07</th>\n",
       "      <th>2020-07-08</th>\n",
       "      <th>2020-07-09</th>\n",
       "      <th>2020-07-10</th>\n",
       "      <th>...</th>\n",
       "      <th>2020-08-15</th>\n",
       "      <th>2020-08-16</th>\n",
       "      <th>2020-08-17</th>\n",
       "      <th>2020-08-18</th>\n",
       "      <th>2020-08-19</th>\n",
       "      <th>2020-08-20</th>\n",
       "      <th>2020-08-21</th>\n",
       "      <th>2020-08-22</th>\n",
       "      <th>2020-08-23</th>\n",
       "      <th>2020-08-24</th>\n",
       "    </tr>\n",
       "    <tr>\n",
       "      <th>state</th>\n",
       "      <th></th>\n",
       "      <th></th>\n",
       "      <th></th>\n",
       "      <th></th>\n",
       "      <th></th>\n",
       "      <th></th>\n",
       "      <th></th>\n",
       "      <th></th>\n",
       "      <th></th>\n",
       "      <th></th>\n",
       "      <th></th>\n",
       "      <th></th>\n",
       "      <th></th>\n",
       "      <th></th>\n",
       "      <th></th>\n",
       "      <th></th>\n",
       "      <th></th>\n",
       "      <th></th>\n",
       "      <th></th>\n",
       "      <th></th>\n",
       "      <th></th>\n",
       "    </tr>\n",
       "  </thead>\n",
       "  <tbody>\n",
       "    <tr>\n",
       "      <th>Telangana</th>\n",
       "      <td>0</td>\n",
       "      <td>1213</td>\n",
       "      <td>1892</td>\n",
       "      <td>1850</td>\n",
       "      <td>1590</td>\n",
       "      <td>1831</td>\n",
       "      <td>1879</td>\n",
       "      <td>1924</td>\n",
       "      <td>1410</td>\n",
       "      <td>1278</td>\n",
       "      <td>...</td>\n",
       "      <td>1863</td>\n",
       "      <td>1102</td>\n",
       "      <td>894</td>\n",
       "      <td>1682</td>\n",
       "      <td>1763</td>\n",
       "      <td>1724</td>\n",
       "      <td>1967</td>\n",
       "      <td>2474</td>\n",
       "      <td>2384</td>\n",
       "      <td>1842</td>\n",
       "    </tr>\n",
       "    <tr>\n",
       "      <th>Rajasthan</th>\n",
       "      <td>0</td>\n",
       "      <td>350</td>\n",
       "      <td>390</td>\n",
       "      <td>480</td>\n",
       "      <td>632</td>\n",
       "      <td>524</td>\n",
       "      <td>716</td>\n",
       "      <td>659</td>\n",
       "      <td>500</td>\n",
       "      <td>611</td>\n",
       "      <td>...</td>\n",
       "      <td>1287</td>\n",
       "      <td>1317</td>\n",
       "      <td>1334</td>\n",
       "      <td>1347</td>\n",
       "      <td>1312</td>\n",
       "      <td>1330</td>\n",
       "      <td>1335</td>\n",
       "      <td>1310</td>\n",
       "      <td>1345</td>\n",
       "      <td>585</td>\n",
       "    </tr>\n",
       "    <tr>\n",
       "      <th>Andaman and Nicobar Islands</th>\n",
       "      <td>0</td>\n",
       "      <td>9</td>\n",
       "      <td>7</td>\n",
       "      <td>3</td>\n",
       "      <td>6</td>\n",
       "      <td>16</td>\n",
       "      <td>6</td>\n",
       "      <td>2</td>\n",
       "      <td>7</td>\n",
       "      <td>0</td>\n",
       "      <td>...</td>\n",
       "      <td>120</td>\n",
       "      <td>93</td>\n",
       "      <td>46</td>\n",
       "      <td>84</td>\n",
       "      <td>75</td>\n",
       "      <td>76</td>\n",
       "      <td>67</td>\n",
       "      <td>61</td>\n",
       "      <td>52</td>\n",
       "      <td>0</td>\n",
       "    </tr>\n",
       "    <tr>\n",
       "      <th>Puducherry</th>\n",
       "      <td>0</td>\n",
       "      <td>63</td>\n",
       "      <td>22</td>\n",
       "      <td>80</td>\n",
       "      <td>42</td>\n",
       "      <td>65</td>\n",
       "      <td>30</td>\n",
       "      <td>110</td>\n",
       "      <td>49</td>\n",
       "      <td>72</td>\n",
       "      <td>...</td>\n",
       "      <td>359</td>\n",
       "      <td>378</td>\n",
       "      <td>297</td>\n",
       "      <td>367</td>\n",
       "      <td>356</td>\n",
       "      <td>540</td>\n",
       "      <td>302</td>\n",
       "      <td>518</td>\n",
       "      <td>410</td>\n",
       "      <td>0</td>\n",
       "    </tr>\n",
       "    <tr>\n",
       "      <th>Maharashtra</th>\n",
       "      <td>0</td>\n",
       "      <td>6328</td>\n",
       "      <td>6364</td>\n",
       "      <td>7074</td>\n",
       "      <td>6555</td>\n",
       "      <td>5368</td>\n",
       "      <td>5134</td>\n",
       "      <td>6603</td>\n",
       "      <td>6875</td>\n",
       "      <td>7862</td>\n",
       "      <td>...</td>\n",
       "      <td>12020</td>\n",
       "      <td>11111</td>\n",
       "      <td>8493</td>\n",
       "      <td>11119</td>\n",
       "      <td>13165</td>\n",
       "      <td>14647</td>\n",
       "      <td>14161</td>\n",
       "      <td>14492</td>\n",
       "      <td>10441</td>\n",
       "      <td>0</td>\n",
       "    </tr>\n",
       "  </tbody>\n",
       "</table>\n",
       "<p>5 rows × 55 columns</p>\n",
       "</div>"
      ],
      "text/plain": [
       "states                       2020-07-01  2020-07-02  2020-07-03  2020-07-04  \\\n",
       "state                                                                         \n",
       "Telangana                             0        1213        1892        1850   \n",
       "Rajasthan                             0         350         390         480   \n",
       "Andaman and Nicobar Islands           0           9           7           3   \n",
       "Puducherry                            0          63          22          80   \n",
       "Maharashtra                           0        6328        6364        7074   \n",
       "\n",
       "states                       2020-07-05  2020-07-06  2020-07-07  2020-07-08  \\\n",
       "state                                                                         \n",
       "Telangana                          1590        1831        1879        1924   \n",
       "Rajasthan                           632         524         716         659   \n",
       "Andaman and Nicobar Islands           6          16           6           2   \n",
       "Puducherry                           42          65          30         110   \n",
       "Maharashtra                        6555        5368        5134        6603   \n",
       "\n",
       "states                       2020-07-09  2020-07-10  ...  2020-08-15  \\\n",
       "state                                                ...               \n",
       "Telangana                          1410        1278  ...        1863   \n",
       "Rajasthan                           500         611  ...        1287   \n",
       "Andaman and Nicobar Islands           7           0  ...         120   \n",
       "Puducherry                           49          72  ...         359   \n",
       "Maharashtra                        6875        7862  ...       12020   \n",
       "\n",
       "states                       2020-08-16  2020-08-17  2020-08-18  2020-08-19  \\\n",
       "state                                                                         \n",
       "Telangana                          1102         894        1682        1763   \n",
       "Rajasthan                          1317        1334        1347        1312   \n",
       "Andaman and Nicobar Islands          93          46          84          75   \n",
       "Puducherry                          378         297         367         356   \n",
       "Maharashtra                       11111        8493       11119       13165   \n",
       "\n",
       "states                       2020-08-20  2020-08-21  2020-08-22  2020-08-23  \\\n",
       "state                                                                         \n",
       "Telangana                          1724        1967        2474        2384   \n",
       "Rajasthan                          1330        1335        1310        1345   \n",
       "Andaman and Nicobar Islands          76          67          61          52   \n",
       "Puducherry                          540         302         518         410   \n",
       "Maharashtra                       14647       14161       14492       10441   \n",
       "\n",
       "states                       2020-08-24  \n",
       "state                                    \n",
       "Telangana                          1842  \n",
       "Rajasthan                           585  \n",
       "Andaman and Nicobar Islands           0  \n",
       "Puducherry                            0  \n",
       "Maharashtra                           0  \n",
       "\n",
       "[5 rows x 55 columns]"
      ]
     },
     "execution_count": 18,
     "metadata": {},
     "output_type": "execute_result"
    }
   ],
   "source": [
    "#hide\n",
    "dft_ct_new_cases.head()"
   ]
  },
  {
   "cell_type": "code",
   "execution_count": 19,
   "metadata": {
    "execution": {
     "iopub.execute_input": "2020-08-24T05:37:19.648216Z",
     "iopub.status.busy": "2020-08-24T05:37:19.647608Z",
     "iopub.status.idle": "2020-08-24T05:37:22.367845Z",
     "shell.execute_reply": "2020-08-24T05:37:22.367305Z"
    },
    "papermill": {
     "duration": 2.742885,
     "end_time": "2020-08-24T05:37:22.367972",
     "exception": false,
     "start_time": "2020-08-24T05:37:19.625087",
     "status": "completed"
    },
    "tags": []
   },
   "outputs": [
    {
     "data": {
      "image/png": "[encoded data removed]",
      "text/plain": [
       "<Figure size 1296x2016 with 11 Axes>"
      ]
     },
     "metadata": {
      "needs_background": "light"
     },
     "output_type": "display_data"
    }
   ],
   "source": [
    "#hide_input\n",
    "df = dft_ct_new_cases.copy()\n",
    "df.loc['Total'] = df.sum()\n",
    "n = 5\n",
    "ax = []\n",
    "fig = plt.figure(figsize = (18,28))\n",
    "gs = fig.add_gridspec(n+2, 5)\n",
    "# gs = fig.add_gridspec(2, 3)\n",
    "ax1 = fig.add_subplot(gs[0, :])\n",
    "ef = df.loc['Total'].rename_axis('date').reset_index()\n",
    "ef['date'] = ef['date'].astype('datetime64[ns]')\n",
    "ax1.bar(ef.date,ef.Total,alpha=0.3,color='#007acc')\n",
    "ax1.plot(ef.date,ef.Total , marker=\"o\", color='#007acc')\n",
    "ax1.xaxis.set_major_locator(mdates.WeekdayLocator())\n",
    "ax1.xaxis.set_major_formatter(mdates.DateFormatter('%b %d'))\n",
    "ax1.text(0.02, 0.5,'India daily case count', transform = ax1.transAxes, fontsize=25);\n",
    "ax1.spines['right'].set_visible(False)\n",
    "ax1.spines['top'].set_visible(False)\n",
    "\n",
    "ax2 = fig.add_subplot(gs[1,0])\n",
    "ef = df.loc['Maharashtra'].rename_axis('date').reset_index()\n",
    "ef['date'] = ef['date'].astype('datetime64[ns]')\n",
    "\n",
    "ax2.bar(ef.date, ef.Maharashtra,color = '#007acc',alpha=0.5)\n",
    "ax2.xaxis.set_major_locator(mdates.WeekdayLocator())\n",
    "ax2.xaxis.set_major_formatter(mdates.DateFormatter('%b %d'))\n",
    "ax2.set_xticks(ax2.get_xticks()[::3])\n",
    "maxyval = ef.Maharashtra.max()\n",
    "ax2.set_ylim([0,maxyval])\n",
    "ax2.text(0.05, 0.9,'Maharashtra', transform = ax2.transAxes, fontsize=20);\n",
    "ax2.spines['right'].set_visible(False)\n",
    "ax2.spines['top'].set_visible(False)\n",
    "\n",
    "\n",
    "ax3 = fig.add_subplot(gs[1,1])\n",
    "ef = df.loc['Tamil Nadu'].rename_axis('date').reset_index()\n",
    "ef['date'] = ef['date'].astype('datetime64[ns]')\n",
    "ax3.bar(ef.date, ef['Tamil Nadu'],color = '#007acc',alpha=0.5,)\n",
    "ax3.xaxis.set_major_locator(mdates.WeekdayLocator())\n",
    "ax3.xaxis.set_major_formatter(mdates.DateFormatter('%b %d'))\n",
    "ax3.set_xticks(ax3.get_xticks()[::3])\n",
    "ax3.text(0.05, 0.9,'Tamil Nadu', transform = ax3.transAxes, fontsize=20);\n",
    "ax3.spines['right'].set_visible(False)\n",
    "ax3.spines['top'].set_visible(False)\n",
    "\n",
    "ax5 = fig.add_subplot(gs[1,3])\n",
    "ef = df.loc['Telangana'].rename_axis('date').reset_index()\n",
    "ef['date'] = ef['date'].astype('datetime64[ns]')\n",
    "ax5.bar(ef.date, ef['Telangana'],color = '#007acc',alpha=0.5,)\n",
    "ax5.xaxis.set_major_locator(mdates.WeekdayLocator())\n",
    "ax5.xaxis.set_major_formatter(mdates.DateFormatter('%b %d'))\n",
    "ax5.set_xticks(ax5.get_xticks()[::3])\n",
    "ax5.text(0.05, 0.9,'Telangana', transform = ax5.transAxes, fontsize=20);\n",
    "ax5.spines['right'].set_visible(False)\n",
    "ax5.spines['top'].set_visible(False)\n",
    "\n",
    "ax6 = fig.add_subplot(gs[1,4])\n",
    "ef = df.loc['Andhra Pradesh'].rename_axis('date').reset_index()\n",
    "ef['date'] = ef['date'].astype('datetime64[ns]')\n",
    "ax6.bar(ef.date, ef['Andhra Pradesh'],color = '#007acc',alpha=0.5,)\n",
    "ax6.xaxis.set_major_locator(mdates.WeekdayLocator())\n",
    "ax6.xaxis.set_major_formatter(mdates.DateFormatter('%b %d'))\n",
    "ax6.set_xticks(ax6.get_xticks()[::3])\n",
    "ax6.text(0.05, 1,'Andhra Pradesh', transform = ax6.transAxes, fontsize=20);\n",
    "ax6.spines['right'].set_visible(False)\n",
    "ax6.spines['top'].set_visible(False)\n",
    "\n",
    "ax4 = fig.add_subplot(gs[1,2])\n",
    "ef = df.loc['Delhi'].rename_axis('date').reset_index()\n",
    "ef['date'] = ef['date'].astype('datetime64[ns]')\n",
    "ax4.bar(ef.date, ef.Delhi,color = '#007acc',alpha=0.5)\n",
    "ax4.set_xticks([])\n",
    "ax4.xaxis.set_major_locator(mdates.WeekdayLocator())\n",
    "ax4.xaxis.set_major_formatter(mdates.DateFormatter('%b %d'))\n",
    "ax4.set_xticks(ax4.get_xticks()[::3])\n",
    "ax4.spines['right'].set_visible(False)\n",
    "ax4.spines['top'].set_visible(False)\n",
    "\n",
    "ax4.text(0.05, 1,'Delhi', transform = ax4.transAxes, fontsize=20)\n",
    "\n",
    "for i in range(n):\n",
    "    \n",
    "    ax.append(fig.add_subplot(gs[i+2,:]))\n",
    "    ef = df.iloc[i+3].rename_axis('date').reset_index()\n",
    "    ef['date'] = ef['date'].astype('datetime64[ns]')\n",
    "    ax[i].bar(ef.date,ef.iloc[:,-1],color = '#007acc',alpha=0.3)\n",
    "    ax[i].plot(ef.date,ef.iloc[:,-1],marker='o',color='#007acc')\n",
    "    ax[i].text(0.02,0.5,f'{ef.columns.values[-1]}',transform = ax[i].transAxes, fontsize = 20);\n",
    "    ax[i].xaxis.set_major_locator(mdates.WeekdayLocator())\n",
    "    ax[i].xaxis.set_major_formatter(mdates.DateFormatter('%b %d'))\n",
    "    ax[i].set_ylim([0,7000])\n",
    "    ax[i].spines['right'].set_visible(False)\n",
    "    ax[i].spines['top'].set_visible(False)\n",
    "plt.tight_layout()\n"
   ]
  },
  {
   "cell_type": "code",
   "execution_count": 20,
   "metadata": {
    "execution": {
     "iopub.execute_input": "2020-08-24T05:37:22.423930Z",
     "iopub.status.busy": "2020-08-24T05:37:22.423308Z",
     "iopub.status.idle": "2020-08-24T05:37:22.425698Z",
     "shell.execute_reply": "2020-08-24T05:37:22.426171Z"
    },
    "papermill": {
     "duration": 0.03623,
     "end_time": "2020-08-24T05:37:22.426322",
     "exception": false,
     "start_time": "2020-08-24T05:37:22.390092",
     "status": "completed"
    },
    "tags": []
   },
   "outputs": [
    {
     "name": "stdout",
     "output_type": "stream",
     "text": [
      "                                   states   Cases  Deaths  PCases  PDeaths  Cases (+)  Deaths (+)  Fatality Rate\n",
      "                              Maharashtra  682383   22253  682383    22253          0           0           3.26\n",
      "                               Tamil Nadu  379385    6517  379385     6517          0           0           1.72\n",
      "                           Andhra Pradesh  353111    3282  353111     3282          0           0           0.93\n",
      "                                Karnataka  277814    4683  277814     4683          0           0           1.69\n",
      "                            Uttar Pradesh  187781    2926  187781     2926          0           0           1.56\n",
      "                                    Delhi  161466    4300  161466     4300          0           0           2.66\n",
      "                              West Bengal  138870    2794  138870     2794          0           0           2.01\n",
      "                                    Bihar  122156     610  122156      610          0           0           0.50\n",
      "                                Telangana  106091     761  104249      755       1842           6           0.72\n",
      "                                    Assam   90741     242   90741      242          0           0           0.27\n",
      "                                  Gujarat   86779    2895   86779     2895          0           0           3.34\n",
      "                                   Odisha   78530     462   78530      462          0           0           0.59\n",
      "                                Rajasthan   71194     961   70609      955        585           6           1.35\n",
      "                                   Kerala   58262     224   58262      224          0           0           0.38\n",
      "                                  Haryana   54386     603   54386      603          0           0           1.11\n",
      "                           Madhya Pradesh   53129    1229   53129     1229          0           0           2.31\n",
      "                                   Punjab   41779    1086   41779     1086          0           0           2.60\n",
      "                        Jammu and Kashmir   32647     617   32647      617          0           0           1.89\n",
      "                                Jharkhand   30178     318   30178      318          0           0           1.05\n",
      "                             Chhattisgarh   20918     197   20918      197          0           0           0.94\n",
      "                              Uttarakhand   15124     200   15124      200          0           0           1.32\n",
      "                                      Goa   13999     144   13999      144          0           0           1.03\n",
      "                               Puducherry   10522     159   10522      159          0           0           1.51\n",
      "                                  Tripura    8717      72    8717       72          0           0           0.83\n",
      "                                  Manipur    5246      22    5246       22          0           0           0.42\n",
      "                         Himachal Pradesh    5001      28    5001       28          0           0           0.56\n",
      "                                 Nagaland    3686       8    3686        8          0           0           0.22\n",
      "                        Arunachal Pradesh    3263       5    3263        5          0           0           0.15\n",
      "                               Chandigarh    2918      37    2918       37          0           0           1.27\n",
      "              Andaman and Nicobar Islands    2860      33    2860       33          0           0           1.15\n",
      "                                   Ladakh    2279      23    2279       23          0           0           1.01\n",
      " Dadra and Nagar Haveli and Daman and Diu    2159       2    2159        2          0           0           0.09\n",
      "                                Meghalaya    1917       8    1917        8          0           0           0.42\n",
      "                                   Sikkim    1403       3    1403        3          0           0           0.21\n",
      "                                  Mizoram     918       0     918        0          0           0           0.00\n",
      "                              Lakshadweep       0       0       0        0          0           0            NaN\n"
     ]
    }
   ],
   "source": [
    "#hide_input\n",
    "print(df_table.to_string(index=False))"
   ]
  },
  {
   "cell_type": "code",
   "execution_count": null,
   "metadata": {
    "papermill": {
     "duration": 0.02193,
     "end_time": "2020-08-24T05:37:22.471734",
     "exception": false,
     "start_time": "2020-08-24T05:37:22.449804",
     "status": "completed"
    },
    "tags": []
   },
   "outputs": [],
   "source": []
  },
  {
   "cell_type": "code",
   "execution_count": null,
   "metadata": {
    "papermill": {
     "duration": 0.021926,
     "end_time": "2020-08-24T05:37:22.515472",
     "exception": false,
     "start_time": "2020-08-24T05:37:22.493546",
     "status": "completed"
    },
    "tags": []
   },
   "outputs": [],
   "source": []
  }
 ],
 "metadata": {
  "kernelspec": {
   "display_name": "Python 3",
   "language": "python",
   "name": "python3"
  },
  "language_info": {
   "codemirror_mode": {
    "name": "ipython",
    "version": 3
   },
   "file_extension": ".py",
   "mimetype": "text/x-python",
   "name": "python",
   "nbconvert_exporter": "python",
   "pygments_lexer": "ipython3",
   "version": "3.6.11"
  },
  "papermill": {
   "duration": 8.876389,
   "end_time": "2020-08-24T05:37:22.945806",
   "environment_variables": {},
   "exception": null,
   "input_path": "latest.ipynb",
   "output_path": "latest.ipynb",
   "parameters": {},
   "start_time": "2020-08-24T05:37:14.069417",
   "version": "2.1.2"
  }
 },
 "nbformat": 4,
 "nbformat_minor": 4
}