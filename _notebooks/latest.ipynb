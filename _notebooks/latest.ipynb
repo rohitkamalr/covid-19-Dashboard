{
 "cells": [
  {
   "cell_type": "markdown",
   "metadata": {
    "papermill": {
     "duration": 0.025221,
     "end_time": "2020-08-20T05:52:12.562212",
     "exception": false,
     "start_time": "2020-08-20T05:52:12.536991",
     "status": "completed"
    },
    "tags": []
   },
   "source": [
    "# Latest COVID-19 India Matplotlib Overview"
   ]
  },
  {
   "cell_type": "code",
   "execution_count": 1,
   "metadata": {
    "execution": {
     "iopub.execute_input": "2020-08-20T05:52:12.609739Z",
     "iopub.status.busy": "2020-08-20T05:52:12.608939Z",
     "iopub.status.idle": "2020-08-20T05:52:13.229169Z",
     "shell.execute_reply": "2020-08-20T05:52:13.228504Z"
    },
    "papermill": {
     "duration": 0.646902,
     "end_time": "2020-08-20T05:52:13.229358",
     "exception": false,
     "start_time": "2020-08-20T05:52:12.582456",
     "status": "completed"
    },
    "tags": []
   },
   "outputs": [],
   "source": [
    "#hide\n",
    "import pandas as pd\n",
    "import numpy as np\n",
    "import requests\n",
    "import json\n",
    "import matplotlib.pyplot as plt\n",
    "import matplotlib.dates as mdates\n",
    "import matplotlib as mpl\n",
    "from IPython.core.display import display,HTML\n",
    "%matplotlib inline\n",
    "from datetime import date"
   ]
  },
  {
   "cell_type": "code",
   "execution_count": 2,
   "metadata": {
    "execution": {
     "iopub.execute_input": "2020-08-20T05:52:13.274721Z",
     "iopub.status.busy": "2020-08-20T05:52:13.273640Z",
     "iopub.status.idle": "2020-08-20T05:52:13.452287Z",
     "shell.execute_reply": "2020-08-20T05:52:13.452962Z"
    },
    "papermill": {
     "duration": 0.204672,
     "end_time": "2020-08-20T05:52:13.453171",
     "exception": false,
     "start_time": "2020-08-20T05:52:13.248499",
     "status": "completed"
    },
    "tags": []
   },
   "outputs": [],
   "source": [
    "#hide\n",
    "df  = pd.read_csv('https://api.covid19india.org/csv/latest/states.csv')\n",
    "df = df[['Date','State','Confirmed','Deceased']]\n",
    "df = df.rename(columns={'Confirmed':'Cases', \"Deceased\":'Deaths'})\n",
    "df_cases = df[[\"Date\",'State','Cases']]\n",
    "df_deaths = df[['Date','State','Deaths']]\n",
    "df_cases1 = df_cases.groupby('Date')\n",
    "df_deaths1= df_deaths.groupby('Date')"
   ]
  },
  {
   "cell_type": "code",
   "execution_count": 3,
   "metadata": {
    "execution": {
     "iopub.execute_input": "2020-08-20T05:52:13.496069Z",
     "iopub.status.busy": "2020-08-20T05:52:13.495446Z",
     "iopub.status.idle": "2020-08-20T05:52:13.516487Z",
     "shell.execute_reply": "2020-08-20T05:52:13.515823Z"
    },
    "papermill": {
     "duration": 0.044429,
     "end_time": "2020-08-20T05:52:13.516629",
     "exception": false,
     "start_time": "2020-08-20T05:52:13.472200",
     "status": "completed"
    },
    "tags": []
   },
   "outputs": [],
   "source": [
    "#hide\n",
    "df_snap = pd.read_csv('data/SnapshotCases-28-July.csv')\n",
    "arr_states = df_snap['states'].unique()\n",
    "arr_dates = df['Date'].unique()\n",
    "df_snap = df_snap.set_index('states')"
   ]
  },
  {
   "cell_type": "code",
   "execution_count": 4,
   "metadata": {
    "execution": {
     "iopub.execute_input": "2020-08-20T05:52:13.553532Z",
     "iopub.status.busy": "2020-08-20T05:52:13.552940Z",
     "iopub.status.idle": "2020-08-20T05:52:13.556321Z",
     "shell.execute_reply": "2020-08-20T05:52:13.555808Z"
    },
    "papermill": {
     "duration": 0.024529,
     "end_time": "2020-08-20T05:52:13.556437",
     "exception": false,
     "start_time": "2020-08-20T05:52:13.531908",
     "status": "completed"
    },
    "tags": []
   },
   "outputs": [
    {
     "data": {
      "text/plain": [
       "array(['Andaman and Nicobar Islands', 'Andhra Pradesh',\n",
       "       'Arunachal Pradesh', 'Assam', 'Bihar', 'Chandigarh',\n",
       "       'Dadra and Nagar Haveli and Daman and Diu', 'Delhi', 'Goa',\n",
       "       'Gujarat', 'Haryana', 'Himachal Pradesh', 'Jammu and Kashmir',\n",
       "       'Jharkhand', 'Karnataka', 'Kerala', 'Lakshadweep',\n",
       "       'Madhya Pradesh', 'Maharashtra', 'Manipur', 'Meghalaya', 'Mizoram',\n",
       "       'Nagaland', 'Odisha', 'Puducherry', 'Punjab', 'Rajasthan',\n",
       "       'Sikkim', 'Tamil Nadu', 'Telangana', 'Tripura', 'Uttar Pradesh',\n",
       "       'West Bengal', 'Chhattisgarh', 'Ladakh', 'Uttarakhand'],\n",
       "      dtype=object)"
      ]
     },
     "execution_count": 4,
     "metadata": {},
     "output_type": "execute_result"
    }
   ],
   "source": [
    "#hide\n",
    "arr_states[-9] = 'Puducherry'\n",
    "arr_states[-10] = 'Odisha'\n",
    "arr_states[6] = 'Dadra and Nagar Haveli and Daman and Diu'\n",
    "arr_states = np.append(arr_states,np.array(['Chhattisgarh','Ladakh','Uttarakhand']))\n",
    "arr_states"
   ]
  },
  {
   "cell_type": "code",
   "execution_count": 5,
   "metadata": {
    "execution": {
     "iopub.execute_input": "2020-08-20T05:52:13.594003Z",
     "iopub.status.busy": "2020-08-20T05:52:13.593430Z",
     "iopub.status.idle": "2020-08-20T05:52:13.602235Z",
     "shell.execute_reply": "2020-08-20T05:52:13.602786Z"
    },
    "papermill": {
     "duration": 0.031781,
     "end_time": "2020-08-20T05:52:13.602910",
     "exception": false,
     "start_time": "2020-08-20T05:52:13.571129",
     "status": "completed"
    },
    "tags": []
   },
   "outputs": [],
   "source": [
    "#hide\n",
    "dates = []\n",
    "for i in arr_dates:\n",
    "    if i>='2020-07-01':\n",
    "        dates.append(i)\n",
    "dict = {'states':dates}\n",
    "for i in arr_states:\n",
    "    dict[i] = [0]*len(dates)\n",
    "dft_cases = pd.DataFrame(dict)\n",
    "dft_deaths = pd.DataFrame(dict)\n"
   ]
  },
  {
   "cell_type": "code",
   "execution_count": 6,
   "metadata": {
    "execution": {
     "iopub.execute_input": "2020-08-20T05:52:13.636673Z",
     "iopub.status.busy": "2020-08-20T05:52:13.636071Z",
     "iopub.status.idle": "2020-08-20T05:52:14.527778Z",
     "shell.execute_reply": "2020-08-20T05:52:14.527147Z"
    },
    "papermill": {
     "duration": 0.910585,
     "end_time": "2020-08-20T05:52:14.527949",
     "exception": false,
     "start_time": "2020-08-20T05:52:13.617364",
     "status": "completed"
    },
    "tags": []
   },
   "outputs": [],
   "source": [
    "#hide\n",
    "for i in range(len(dates)):\n",
    "    df1_deaths = df_deaths1.get_group(dates[i])\n",
    "    for j in range(len(df1_deaths.index)):\n",
    "        if df1_deaths.iloc[j,1] in arr_states:\n",
    "            dft_deaths.loc[i,df1_deaths.iloc[j,1]] = df1_deaths.iloc[j,2]\n",
    "dft_deaths = dft_deaths.set_index('states')"
   ]
  },
  {
   "cell_type": "code",
   "execution_count": 7,
   "metadata": {
    "execution": {
     "iopub.execute_input": "2020-08-20T05:52:14.573497Z",
     "iopub.status.busy": "2020-08-20T05:52:14.572655Z",
     "iopub.status.idle": "2020-08-20T05:52:15.431116Z",
     "shell.execute_reply": "2020-08-20T05:52:15.430243Z"
    },
    "papermill": {
     "duration": 0.884644,
     "end_time": "2020-08-20T05:52:15.431261",
     "exception": false,
     "start_time": "2020-08-20T05:52:14.546617",
     "status": "completed"
    },
    "tags": []
   },
   "outputs": [],
   "source": [
    "#hide\n",
    "for i in range(len(dates)):\n",
    "    df1_cases = df_cases1.get_group(dates[i])\n",
    "    for j in range(len(df1_cases.index)):\n",
    "        if df1_cases.iloc[j,1] in arr_states:\n",
    "            dft_cases.loc[i,df1_cases.iloc[j,1]] = df1_cases.iloc[j,2]\n",
    "dft_cases = dft_cases.set_index('states')"
   ]
  },
  {
   "cell_type": "code",
   "execution_count": 8,
   "metadata": {
    "execution": {
     "iopub.execute_input": "2020-08-20T05:52:15.468137Z",
     "iopub.status.busy": "2020-08-20T05:52:15.467421Z",
     "iopub.status.idle": "2020-08-20T05:52:15.469614Z",
     "shell.execute_reply": "2020-08-20T05:52:15.468899Z"
    },
    "papermill": {
     "duration": 0.0224,
     "end_time": "2020-08-20T05:52:15.469769",
     "exception": false,
     "start_time": "2020-08-20T05:52:15.447369",
     "status": "completed"
    },
    "tags": []
   },
   "outputs": [],
   "source": [
    "#hide\n",
    "dft_cases = dft_cases.T\n",
    "dft_deaths = dft_deaths.T\n",
    "dt_today = dates[-1]\n",
    "dt_yday = dates[-2]"
   ]
  },
  {
   "cell_type": "code",
   "execution_count": 9,
   "metadata": {
    "execution": {
     "iopub.execute_input": "2020-08-20T05:52:15.512144Z",
     "iopub.status.busy": "2020-08-20T05:52:15.511431Z",
     "iopub.status.idle": "2020-08-20T05:52:15.515824Z",
     "shell.execute_reply": "2020-08-20T05:52:15.516449Z"
    },
    "papermill": {
     "duration": 0.027702,
     "end_time": "2020-08-20T05:52:15.516636",
     "exception": false,
     "start_time": "2020-08-20T05:52:15.488934",
     "status": "completed"
    },
    "tags": []
   },
   "outputs": [],
   "source": [
    "#hide\n",
    "dft_cases = dft_cases.reset_index()\n",
    "dft_deaths = dft_deaths.reset_index()\n",
    "dft_cases = dft_cases.rename(columns = {'index':'state'})\n",
    "dft_deaths = dft_deaths.rename(columns = {'index':'state'})"
   ]
  },
  {
   "cell_type": "code",
   "execution_count": 10,
   "metadata": {
    "execution": {
     "iopub.execute_input": "2020-08-20T05:52:15.561916Z",
     "iopub.status.busy": "2020-08-20T05:52:15.561336Z",
     "iopub.status.idle": "2020-08-20T05:52:15.565057Z",
     "shell.execute_reply": "2020-08-20T05:52:15.565507Z"
    },
    "papermill": {
     "duration": 0.030527,
     "end_time": "2020-08-20T05:52:15.565632",
     "exception": false,
     "start_time": "2020-08-20T05:52:15.535105",
     "status": "completed"
    },
    "tags": []
   },
   "outputs": [],
   "source": [
    "#hide\n",
    "dfc_cases = dft_cases.groupby('state')[dt_today].sum()\n",
    "dfc_deaths = dft_deaths.groupby('state')[dt_today].sum()\n",
    "dfp_cases = dft_cases.groupby('state')[dt_yday].sum()\n",
    "dfp_deaths = dft_deaths.groupby('state')[dt_yday].sum()"
   ]
  },
  {
   "cell_type": "code",
   "execution_count": 11,
   "metadata": {
    "execution": {
     "iopub.execute_input": "2020-08-20T05:52:15.605328Z",
     "iopub.status.busy": "2020-08-20T05:52:15.603413Z",
     "iopub.status.idle": "2020-08-20T05:52:15.617363Z",
     "shell.execute_reply": "2020-08-20T05:52:15.617838Z"
    },
    "papermill": {
     "duration": 0.036505,
     "end_time": "2020-08-20T05:52:15.617964",
     "exception": false,
     "start_time": "2020-08-20T05:52:15.581459",
     "status": "completed"
    },
    "tags": []
   },
   "outputs": [
    {
     "data": {
      "text/html": [
       "<div>\n",
       "<style scoped>\n",
       "    .dataframe tbody tr th:only-of-type {\n",
       "        vertical-align: middle;\n",
       "    }\n",
       "\n",
       "    .dataframe tbody tr th {\n",
       "        vertical-align: top;\n",
       "    }\n",
       "\n",
       "    .dataframe thead th {\n",
       "        text-align: right;\n",
       "    }\n",
       "</style>\n",
       "<table border=\"1\" class=\"dataframe\">\n",
       "  <thead>\n",
       "    <tr style=\"text-align: right;\">\n",
       "      <th></th>\n",
       "      <th>states</th>\n",
       "      <th>Cases</th>\n",
       "      <th>Deaths</th>\n",
       "      <th>PCases</th>\n",
       "      <th>PDeaths</th>\n",
       "    </tr>\n",
       "  </thead>\n",
       "  <tbody>\n",
       "    <tr>\n",
       "      <th>0</th>\n",
       "      <td>Maharashtra</td>\n",
       "      <td>628642</td>\n",
       "      <td>21033</td>\n",
       "      <td>628642</td>\n",
       "      <td>21033</td>\n",
       "    </tr>\n",
       "    <tr>\n",
       "      <th>1</th>\n",
       "      <td>Tamil Nadu</td>\n",
       "      <td>355449</td>\n",
       "      <td>6123</td>\n",
       "      <td>355449</td>\n",
       "      <td>6123</td>\n",
       "    </tr>\n",
       "    <tr>\n",
       "      <th>2</th>\n",
       "      <td>Andhra Pradesh</td>\n",
       "      <td>316003</td>\n",
       "      <td>2906</td>\n",
       "      <td>316003</td>\n",
       "      <td>2906</td>\n",
       "    </tr>\n",
       "    <tr>\n",
       "      <th>3</th>\n",
       "      <td>Karnataka</td>\n",
       "      <td>249590</td>\n",
       "      <td>4327</td>\n",
       "      <td>249590</td>\n",
       "      <td>4327</td>\n",
       "    </tr>\n",
       "    <tr>\n",
       "      <th>4</th>\n",
       "      <td>Uttar Pradesh</td>\n",
       "      <td>167510</td>\n",
       "      <td>2638</td>\n",
       "      <td>167510</td>\n",
       "      <td>2638</td>\n",
       "    </tr>\n",
       "  </tbody>\n",
       "</table>\n",
       "</div>"
      ],
      "text/plain": [
       "           states   Cases  Deaths  PCases  PDeaths\n",
       "0     Maharashtra  628642   21033  628642    21033\n",
       "1      Tamil Nadu  355449    6123  355449     6123\n",
       "2  Andhra Pradesh  316003    2906  316003     2906\n",
       "3       Karnataka  249590    4327  249590     4327\n",
       "4   Uttar Pradesh  167510    2638  167510     2638"
      ]
     },
     "execution_count": 11,
     "metadata": {},
     "output_type": "execute_result"
    }
   ],
   "source": [
    "#hide\n",
    "df_table = pd.DataFrame({'states': dfc_cases.index, 'Cases': dfc_cases.values, 'Deaths': dfc_deaths.values, 'PCases': dfp_cases.values, 'PDeaths': dfp_deaths.values}).set_index('states')\n",
    "df_table = df_table.sort_values(by = ['Cases','Deaths'], ascending = [False, False])\n",
    "df_table = df_table.reset_index()\n",
    "df_table.head()"
   ]
  },
  {
   "cell_type": "code",
   "execution_count": 12,
   "metadata": {
    "execution": {
     "iopub.execute_input": "2020-08-20T05:52:15.654241Z",
     "iopub.status.busy": "2020-08-20T05:52:15.653657Z",
     "iopub.status.idle": "2020-08-20T05:52:15.661334Z",
     "shell.execute_reply": "2020-08-20T05:52:15.661782Z"
    },
    "papermill": {
     "duration": 0.028464,
     "end_time": "2020-08-20T05:52:15.661916",
     "exception": false,
     "start_time": "2020-08-20T05:52:15.633452",
     "status": "completed"
    },
    "tags": []
   },
   "outputs": [],
   "source": [
    "#hide\n",
    "for c in 'Cases, Deaths'.split(', '):\n",
    "    df_table[f'{c} (+)'] = (df_table[c] - df_table[f'P{c}']).clip(0)\n",
    "df_table['Fatality Rate'] = (100* df_table['Deaths']/ df_table['Cases']).round(2)"
   ]
  },
  {
   "cell_type": "code",
   "execution_count": 13,
   "metadata": {
    "execution": {
     "iopub.execute_input": "2020-08-20T05:52:15.704076Z",
     "iopub.status.busy": "2020-08-20T05:52:15.703445Z",
     "iopub.status.idle": "2020-08-20T05:52:15.706781Z",
     "shell.execute_reply": "2020-08-20T05:52:15.706219Z"
    },
    "papermill": {
     "duration": 0.029556,
     "end_time": "2020-08-20T05:52:15.706894",
     "exception": false,
     "start_time": "2020-08-20T05:52:15.677338",
     "status": "completed"
    },
    "tags": []
   },
   "outputs": [
    {
     "data": {
      "text/html": [
       "<div>\n",
       "<style scoped>\n",
       "    .dataframe tbody tr th:only-of-type {\n",
       "        vertical-align: middle;\n",
       "    }\n",
       "\n",
       "    .dataframe tbody tr th {\n",
       "        vertical-align: top;\n",
       "    }\n",
       "\n",
       "    .dataframe thead th {\n",
       "        text-align: right;\n",
       "    }\n",
       "</style>\n",
       "<table border=\"1\" class=\"dataframe\">\n",
       "  <thead>\n",
       "    <tr style=\"text-align: right;\">\n",
       "      <th></th>\n",
       "      <th>states</th>\n",
       "      <th>Cases</th>\n",
       "      <th>Deaths</th>\n",
       "      <th>PCases</th>\n",
       "      <th>PDeaths</th>\n",
       "      <th>Cases (+)</th>\n",
       "      <th>Deaths (+)</th>\n",
       "      <th>Fatality Rate</th>\n",
       "    </tr>\n",
       "  </thead>\n",
       "  <tbody>\n",
       "    <tr>\n",
       "      <th>0</th>\n",
       "      <td>Maharashtra</td>\n",
       "      <td>628642</td>\n",
       "      <td>21033</td>\n",
       "      <td>628642</td>\n",
       "      <td>21033</td>\n",
       "      <td>0</td>\n",
       "      <td>0</td>\n",
       "      <td>3.35</td>\n",
       "    </tr>\n",
       "    <tr>\n",
       "      <th>1</th>\n",
       "      <td>Tamil Nadu</td>\n",
       "      <td>355449</td>\n",
       "      <td>6123</td>\n",
       "      <td>355449</td>\n",
       "      <td>6123</td>\n",
       "      <td>0</td>\n",
       "      <td>0</td>\n",
       "      <td>1.72</td>\n",
       "    </tr>\n",
       "    <tr>\n",
       "      <th>2</th>\n",
       "      <td>Andhra Pradesh</td>\n",
       "      <td>316003</td>\n",
       "      <td>2906</td>\n",
       "      <td>316003</td>\n",
       "      <td>2906</td>\n",
       "      <td>0</td>\n",
       "      <td>0</td>\n",
       "      <td>0.92</td>\n",
       "    </tr>\n",
       "    <tr>\n",
       "      <th>3</th>\n",
       "      <td>Karnataka</td>\n",
       "      <td>249590</td>\n",
       "      <td>4327</td>\n",
       "      <td>249590</td>\n",
       "      <td>4327</td>\n",
       "      <td>0</td>\n",
       "      <td>0</td>\n",
       "      <td>1.73</td>\n",
       "    </tr>\n",
       "    <tr>\n",
       "      <th>4</th>\n",
       "      <td>Uttar Pradesh</td>\n",
       "      <td>167510</td>\n",
       "      <td>2638</td>\n",
       "      <td>167510</td>\n",
       "      <td>2638</td>\n",
       "      <td>0</td>\n",
       "      <td>0</td>\n",
       "      <td>1.57</td>\n",
       "    </tr>\n",
       "  </tbody>\n",
       "</table>\n",
       "</div>"
      ],
      "text/plain": [
       "           states   Cases  Deaths  PCases  PDeaths  Cases (+)  Deaths (+)  \\\n",
       "0     Maharashtra  628642   21033  628642    21033          0           0   \n",
       "1      Tamil Nadu  355449    6123  355449     6123          0           0   \n",
       "2  Andhra Pradesh  316003    2906  316003     2906          0           0   \n",
       "3       Karnataka  249590    4327  249590     4327          0           0   \n",
       "4   Uttar Pradesh  167510    2638  167510     2638          0           0   \n",
       "\n",
       "   Fatality Rate  \n",
       "0           3.35  \n",
       "1           1.72  \n",
       "2           0.92  \n",
       "3           1.73  \n",
       "4           1.57  "
      ]
     },
     "execution_count": 13,
     "metadata": {},
     "output_type": "execute_result"
    }
   ],
   "source": [
    "#hide\n",
    "df_table.head()"
   ]
  },
  {
   "cell_type": "code",
   "execution_count": 14,
   "metadata": {
    "execution": {
     "iopub.execute_input": "2020-08-20T05:52:15.744991Z",
     "iopub.status.busy": "2020-08-20T05:52:15.744393Z",
     "iopub.status.idle": "2020-08-20T05:52:15.763335Z",
     "shell.execute_reply": "2020-08-20T05:52:15.762844Z"
    },
    "papermill": {
     "duration": 0.040781,
     "end_time": "2020-08-20T05:52:15.763448",
     "exception": false,
     "start_time": "2020-08-20T05:52:15.722667",
     "status": "completed"
    },
    "tags": []
   },
   "outputs": [
    {
     "data": {
      "text/plain": [
       "{'updated': '2020-08-20',\n",
       " 'since': '2020-08-19',\n",
       " 'Cases': 2838439,\n",
       " 'PCases': 2835822,\n",
       " 'Deaths': 54009,\n",
       " 'PDeaths': 53994,\n",
       " 'Cases (+)': 2617,\n",
       " 'Deaths (+)': 15}"
      ]
     },
     "execution_count": 14,
     "metadata": {},
     "output_type": "execute_result"
    }
   ],
   "source": [
    "#hide\n",
    "summary = {'updated':dates[-1], 'since':dates[-2]}\n",
    "list_names = ['Cases', 'PCases', 'Deaths', 'PDeaths', 'Cases (+)', 'Deaths (+)']\n",
    "for name in list_names:\n",
    "    summary[name] = df_table.sum()[name]\n",
    "summary"
   ]
  },
  {
   "cell_type": "code",
   "execution_count": 15,
   "metadata": {
    "execution": {
     "iopub.execute_input": "2020-08-20T05:52:15.805210Z",
     "iopub.status.busy": "2020-08-20T05:52:15.804617Z",
     "iopub.status.idle": "2020-08-20T05:52:15.806764Z",
     "shell.execute_reply": "2020-08-20T05:52:15.807233Z"
    },
    "papermill": {
     "duration": 0.02715,
     "end_time": "2020-08-20T05:52:15.807359",
     "exception": false,
     "start_time": "2020-08-20T05:52:15.780209",
     "status": "completed"
    },
    "tags": []
   },
   "outputs": [],
   "source": [
    "#hide\n",
    "overview = '''\n",
    "<!-- #######  HTML!! #########-->\n",
    "<h1 style=\"color: #5e9ca0; text-align: center;\">India</h1>\n",
    "<p style=\"text-align: center;\">Last update: <strong>{update}</strong></p>\n",
    "<p style=\"text-align: center;\">Confirmed cases:</p>\n",
    "<p style=\"text-align: center;font-size:24px;\">{cases} (<span style=\"color: #ff0000;\">+{new}</span>)</p>\n",
    "<p style=\"text-align: center;\">Confirmed deaths:</p>\n",
    "<p style=\"text-align: center;font-size:24px;\">{deaths} (<span style=\"color: #ff0000;\">+{dnew}</span>)</p>\n",
    "'''"
   ]
  },
  {
   "cell_type": "code",
   "execution_count": 16,
   "metadata": {
    "execution": {
     "iopub.execute_input": "2020-08-20T05:52:15.845396Z",
     "iopub.status.busy": "2020-08-20T05:52:15.844822Z",
     "iopub.status.idle": "2020-08-20T05:52:15.849314Z",
     "shell.execute_reply": "2020-08-20T05:52:15.849892Z"
    },
    "papermill": {
     "duration": 0.026126,
     "end_time": "2020-08-20T05:52:15.850017",
     "exception": false,
     "start_time": "2020-08-20T05:52:15.823891",
     "status": "completed"
    },
    "tags": []
   },
   "outputs": [
    {
     "data": {
      "text/html": [
       "\n",
       "<!-- #######  HTML!! #########-->\n",
       "<h1 style=\"color: #5e9ca0; text-align: center;\">India</h1>\n",
       "<p style=\"text-align: center;\">Last update: <strong>2020-08-20</strong></p>\n",
       "<p style=\"text-align: center;\">Confirmed cases:</p>\n",
       "<p style=\"text-align: center;font-size:24px;\">2838439 (<span style=\"color: #ff0000;\">+2617</span>)</p>\n",
       "<p style=\"text-align: center;\">Confirmed deaths:</p>\n",
       "<p style=\"text-align: center;font-size:24px;\">54009 (<span style=\"color: #ff0000;\">+15</span>)</p>\n"
      ],
      "text/plain": [
       "<IPython.core.display.HTML object>"
      ]
     },
     "metadata": {},
     "output_type": "display_data"
    }
   ],
   "source": [
    "#hide_input\n",
    "update = summary['updated']\n",
    "cases = summary['Cases']\n",
    "new = summary['Cases (+)']\n",
    "deaths = summary['Deaths']\n",
    "dnew = summary['Deaths (+)']\n",
    "\n",
    "html = HTML(overview.format(update=update, cases=cases,new=new,deaths=deaths,dnew=dnew))\n",
    "\n",
    "display(html)"
   ]
  },
  {
   "cell_type": "code",
   "execution_count": 17,
   "metadata": {
    "execution": {
     "iopub.execute_input": "2020-08-20T05:52:15.889725Z",
     "iopub.status.busy": "2020-08-20T05:52:15.889129Z",
     "iopub.status.idle": "2020-08-20T05:52:15.895112Z",
     "shell.execute_reply": "2020-08-20T05:52:15.895662Z"
    },
    "papermill": {
     "duration": 0.029961,
     "end_time": "2020-08-20T05:52:15.895786",
     "exception": false,
     "start_time": "2020-08-20T05:52:15.865825",
     "status": "completed"
    },
    "tags": []
   },
   "outputs": [],
   "source": [
    "#hide\n",
    "dt_cols = list(dft_cases.columns[1:])\n",
    "dft_ct_new_cases = dft_cases.groupby('state')[dt_cols].sum().diff(axis=1).fillna(0).astype(int)\n",
    "dft_ct_new_cases.sort_values(by = dates[-1], ascending = False,inplace = True)"
   ]
  },
  {
   "cell_type": "code",
   "execution_count": 18,
   "metadata": {
    "execution": {
     "iopub.execute_input": "2020-08-20T05:52:15.948043Z",
     "iopub.status.busy": "2020-08-20T05:52:15.947321Z",
     "iopub.status.idle": "2020-08-20T05:52:15.949990Z",
     "shell.execute_reply": "2020-08-20T05:52:15.951056Z"
    },
    "papermill": {
     "duration": 0.039597,
     "end_time": "2020-08-20T05:52:15.951219",
     "exception": false,
     "start_time": "2020-08-20T05:52:15.911622",
     "status": "completed"
    },
    "tags": []
   },
   "outputs": [
    {
     "data": {
      "text/html": [
       "<div>\n",
       "<style scoped>\n",
       "    .dataframe tbody tr th:only-of-type {\n",
       "        vertical-align: middle;\n",
       "    }\n",
       "\n",
       "    .dataframe tbody tr th {\n",
       "        vertical-align: top;\n",
       "    }\n",
       "\n",
       "    .dataframe thead th {\n",
       "        text-align: right;\n",
       "    }\n",
       "</style>\n",
       "<table border=\"1\" class=\"dataframe\">\n",
       "  <thead>\n",
       "    <tr style=\"text-align: right;\">\n",
       "      <th>states</th>\n",
       "      <th>2020-07-01</th>\n",
       "      <th>2020-07-02</th>\n",
       "      <th>2020-07-03</th>\n",
       "      <th>2020-07-04</th>\n",
       "      <th>2020-07-05</th>\n",
       "      <th>2020-07-06</th>\n",
       "      <th>2020-07-07</th>\n",
       "      <th>2020-07-08</th>\n",
       "      <th>2020-07-09</th>\n",
       "      <th>2020-07-10</th>\n",
       "      <th>...</th>\n",
       "      <th>2020-08-11</th>\n",
       "      <th>2020-08-12</th>\n",
       "      <th>2020-08-13</th>\n",
       "      <th>2020-08-14</th>\n",
       "      <th>2020-08-15</th>\n",
       "      <th>2020-08-16</th>\n",
       "      <th>2020-08-17</th>\n",
       "      <th>2020-08-18</th>\n",
       "      <th>2020-08-19</th>\n",
       "      <th>2020-08-20</th>\n",
       "    </tr>\n",
       "    <tr>\n",
       "      <th>state</th>\n",
       "      <th></th>\n",
       "      <th></th>\n",
       "      <th></th>\n",
       "      <th></th>\n",
       "      <th></th>\n",
       "      <th></th>\n",
       "      <th></th>\n",
       "      <th></th>\n",
       "      <th></th>\n",
       "      <th></th>\n",
       "      <th></th>\n",
       "      <th></th>\n",
       "      <th></th>\n",
       "      <th></th>\n",
       "      <th></th>\n",
       "      <th></th>\n",
       "      <th></th>\n",
       "      <th></th>\n",
       "      <th></th>\n",
       "      <th></th>\n",
       "      <th></th>\n",
       "    </tr>\n",
       "  </thead>\n",
       "  <tbody>\n",
       "    <tr>\n",
       "      <th>Telangana</th>\n",
       "      <td>0</td>\n",
       "      <td>1213</td>\n",
       "      <td>1892</td>\n",
       "      <td>1850</td>\n",
       "      <td>1590</td>\n",
       "      <td>1831</td>\n",
       "      <td>1879</td>\n",
       "      <td>1924</td>\n",
       "      <td>1410</td>\n",
       "      <td>1278</td>\n",
       "      <td>...</td>\n",
       "      <td>1896</td>\n",
       "      <td>1897</td>\n",
       "      <td>1931</td>\n",
       "      <td>1921</td>\n",
       "      <td>1863</td>\n",
       "      <td>1102</td>\n",
       "      <td>894</td>\n",
       "      <td>1682</td>\n",
       "      <td>1763</td>\n",
       "      <td>1724</td>\n",
       "    </tr>\n",
       "    <tr>\n",
       "      <th>Rajasthan</th>\n",
       "      <td>0</td>\n",
       "      <td>350</td>\n",
       "      <td>390</td>\n",
       "      <td>480</td>\n",
       "      <td>632</td>\n",
       "      <td>524</td>\n",
       "      <td>716</td>\n",
       "      <td>659</td>\n",
       "      <td>500</td>\n",
       "      <td>611</td>\n",
       "      <td>...</td>\n",
       "      <td>1217</td>\n",
       "      <td>1213</td>\n",
       "      <td>1314</td>\n",
       "      <td>1278</td>\n",
       "      <td>1287</td>\n",
       "      <td>1317</td>\n",
       "      <td>1334</td>\n",
       "      <td>1347</td>\n",
       "      <td>1312</td>\n",
       "      <td>690</td>\n",
       "    </tr>\n",
       "    <tr>\n",
       "      <th>Tripura</th>\n",
       "      <td>0</td>\n",
       "      <td>39</td>\n",
       "      <td>93</td>\n",
       "      <td>25</td>\n",
       "      <td>23</td>\n",
       "      <td>111</td>\n",
       "      <td>24</td>\n",
       "      <td>57</td>\n",
       "      <td>16</td>\n",
       "      <td>142</td>\n",
       "      <td>...</td>\n",
       "      <td>164</td>\n",
       "      <td>110</td>\n",
       "      <td>121</td>\n",
       "      <td>164</td>\n",
       "      <td>167</td>\n",
       "      <td>127</td>\n",
       "      <td>143</td>\n",
       "      <td>205</td>\n",
       "      <td>236</td>\n",
       "      <td>190</td>\n",
       "    </tr>\n",
       "    <tr>\n",
       "      <th>Mizoram</th>\n",
       "      <td>0</td>\n",
       "      <td>2</td>\n",
       "      <td>0</td>\n",
       "      <td>2</td>\n",
       "      <td>22</td>\n",
       "      <td>11</td>\n",
       "      <td>1</td>\n",
       "      <td>5</td>\n",
       "      <td>0</td>\n",
       "      <td>23</td>\n",
       "      <td>...</td>\n",
       "      <td>3</td>\n",
       "      <td>25</td>\n",
       "      <td>1</td>\n",
       "      <td>8</td>\n",
       "      <td>56</td>\n",
       "      <td>64</td>\n",
       "      <td>12</td>\n",
       "      <td>26</td>\n",
       "      <td>45</td>\n",
       "      <td>13</td>\n",
       "    </tr>\n",
       "    <tr>\n",
       "      <th>Andaman and Nicobar Islands</th>\n",
       "      <td>0</td>\n",
       "      <td>9</td>\n",
       "      <td>7</td>\n",
       "      <td>3</td>\n",
       "      <td>6</td>\n",
       "      <td>16</td>\n",
       "      <td>6</td>\n",
       "      <td>2</td>\n",
       "      <td>7</td>\n",
       "      <td>0</td>\n",
       "      <td>...</td>\n",
       "      <td>139</td>\n",
       "      <td>136</td>\n",
       "      <td>137</td>\n",
       "      <td>149</td>\n",
       "      <td>120</td>\n",
       "      <td>93</td>\n",
       "      <td>46</td>\n",
       "      <td>84</td>\n",
       "      <td>75</td>\n",
       "      <td>0</td>\n",
       "    </tr>\n",
       "  </tbody>\n",
       "</table>\n",
       "<p>5 rows × 51 columns</p>\n",
       "</div>"
      ],
      "text/plain": [
       "states                       2020-07-01  2020-07-02  2020-07-03  2020-07-04  \\\n",
       "state                                                                         \n",
       "Telangana                             0        1213        1892        1850   \n",
       "Rajasthan                             0         350         390         480   \n",
       "Tripura                               0          39          93          25   \n",
       "Mizoram                               0           2           0           2   \n",
       "Andaman and Nicobar Islands           0           9           7           3   \n",
       "\n",
       "states                       2020-07-05  2020-07-06  2020-07-07  2020-07-08  \\\n",
       "state                                                                         \n",
       "Telangana                          1590        1831        1879        1924   \n",
       "Rajasthan                           632         524         716         659   \n",
       "Tripura                              23         111          24          57   \n",
       "Mizoram                              22          11           1           5   \n",
       "Andaman and Nicobar Islands           6          16           6           2   \n",
       "\n",
       "states                       2020-07-09  2020-07-10  ...  2020-08-11  \\\n",
       "state                                                ...               \n",
       "Telangana                          1410        1278  ...        1896   \n",
       "Rajasthan                           500         611  ...        1217   \n",
       "Tripura                              16         142  ...         164   \n",
       "Mizoram                               0          23  ...           3   \n",
       "Andaman and Nicobar Islands           7           0  ...         139   \n",
       "\n",
       "states                       2020-08-12  2020-08-13  2020-08-14  2020-08-15  \\\n",
       "state                                                                         \n",
       "Telangana                          1897        1931        1921        1863   \n",
       "Rajasthan                          1213        1314        1278        1287   \n",
       "Tripura                             110         121         164         167   \n",
       "Mizoram                              25           1           8          56   \n",
       "Andaman and Nicobar Islands         136         137         149         120   \n",
       "\n",
       "states                       2020-08-16  2020-08-17  2020-08-18  2020-08-19  \\\n",
       "state                                                                         \n",
       "Telangana                          1102         894        1682        1763   \n",
       "Rajasthan                          1317        1334        1347        1312   \n",
       "Tripura                             127         143         205         236   \n",
       "Mizoram                              64          12          26          45   \n",
       "Andaman and Nicobar Islands          93          46          84          75   \n",
       "\n",
       "states                       2020-08-20  \n",
       "state                                    \n",
       "Telangana                          1724  \n",
       "Rajasthan                           690  \n",
       "Tripura                             190  \n",
       "Mizoram                              13  \n",
       "Andaman and Nicobar Islands           0  \n",
       "\n",
       "[5 rows x 51 columns]"
      ]
     },
     "execution_count": 18,
     "metadata": {},
     "output_type": "execute_result"
    }
   ],
   "source": [
    "#hide\n",
    "dft_ct_new_cases.head()"
   ]
  },
  {
   "cell_type": "code",
   "execution_count": 19,
   "metadata": {
    "execution": {
     "iopub.execute_input": "2020-08-20T05:52:16.013746Z",
     "iopub.status.busy": "2020-08-20T05:52:16.003331Z",
     "iopub.status.idle": "2020-08-20T05:52:19.004624Z",
     "shell.execute_reply": "2020-08-20T05:52:19.005107Z"
    },
    "papermill": {
     "duration": 3.031156,
     "end_time": "2020-08-20T05:52:19.005260",
     "exception": false,
     "start_time": "2020-08-20T05:52:15.974104",
     "status": "completed"
    },
    "tags": []
   },
   "outputs": [
    {
     "data": {
      "image/png": "[encoded data removed]",
      "text/plain": [
       "<Figure size 1296x2016 with 11 Axes>"
      ]
     },
     "metadata": {
      "needs_background": "light"
     },
     "output_type": "display_data"
    }
   ],
   "source": [
    "#hide_input\n",
    "df = dft_ct_new_cases.copy()\n",
    "df.loc['Total'] = df.sum()\n",
    "n = 5\n",
    "ax = []\n",
    "fig = plt.figure(figsize = (18,28))\n",
    "gs = fig.add_gridspec(n+2, 5)\n",
    "# gs = fig.add_gridspec(2, 3)\n",
    "ax1 = fig.add_subplot(gs[0, :])\n",
    "ef = df.loc['Total'].rename_axis('date').reset_index()\n",
    "ef['date'] = ef['date'].astype('datetime64[ns]')\n",
    "ax1.bar(ef.date,ef.Total,alpha=0.3,color='#007acc')\n",
    "ax1.plot(ef.date,ef.Total , marker=\"o\", color='#007acc')\n",
    "ax1.xaxis.set_major_locator(mdates.WeekdayLocator())\n",
    "ax1.xaxis.set_major_formatter(mdates.DateFormatter('%b %d'))\n",
    "ax1.text(0.02, 0.5,'India daily case count', transform = ax1.transAxes, fontsize=25);\n",
    "ax1.spines['right'].set_visible(False)\n",
    "ax1.spines['top'].set_visible(False)\n",
    "\n",
    "ax2 = fig.add_subplot(gs[1,0])\n",
    "ef = df.loc['Maharashtra'].rename_axis('date').reset_index()\n",
    "ef['date'] = ef['date'].astype('datetime64[ns]')\n",
    "\n",
    "ax2.bar(ef.date, ef.Maharashtra,color = '#007acc',alpha=0.5)\n",
    "ax2.xaxis.set_major_locator(mdates.WeekdayLocator())\n",
    "ax2.xaxis.set_major_formatter(mdates.DateFormatter('%b %d'))\n",
    "ax2.set_xticks(ax2.get_xticks()[::3])\n",
    "maxyval = ef.Maharashtra.max()\n",
    "ax2.set_ylim([0,maxyval])\n",
    "ax2.text(0.05, 0.9,'Maharashtra', transform = ax2.transAxes, fontsize=20);\n",
    "ax2.spines['right'].set_visible(False)\n",
    "ax2.spines['top'].set_visible(False)\n",
    "\n",
    "\n",
    "ax3 = fig.add_subplot(gs[1,1])\n",
    "ef = df.loc['Tamil Nadu'].rename_axis('date').reset_index()\n",
    "ef['date'] = ef['date'].astype('datetime64[ns]')\n",
    "ax3.bar(ef.date, ef['Tamil Nadu'],color = '#007acc',alpha=0.5,)\n",
    "ax3.xaxis.set_major_locator(mdates.WeekdayLocator())\n",
    "ax3.xaxis.set_major_formatter(mdates.DateFormatter('%b %d'))\n",
    "ax3.set_xticks(ax3.get_xticks()[::3])\n",
    "ax3.text(0.05, 0.9,'Tamil Nadu', transform = ax3.transAxes, fontsize=20);\n",
    "ax3.spines['right'].set_visible(False)\n",
    "ax3.spines['top'].set_visible(False)\n",
    "\n",
    "ax5 = fig.add_subplot(gs[1,3])\n",
    "ef = df.loc['Telangana'].rename_axis('date').reset_index()\n",
    "ef['date'] = ef['date'].astype('datetime64[ns]')\n",
    "ax5.bar(ef.date, ef['Telangana'],color = '#007acc',alpha=0.5,)\n",
    "ax5.xaxis.set_major_locator(mdates.WeekdayLocator())\n",
    "ax5.xaxis.set_major_formatter(mdates.DateFormatter('%b %d'))\n",
    "ax5.set_xticks(ax5.get_xticks()[::3])\n",
    "ax5.text(0.05, 0.9,'Telangana', transform = ax5.transAxes, fontsize=20);\n",
    "ax5.spines['right'].set_visible(False)\n",
    "ax5.spines['top'].set_visible(False)\n",
    "\n",
    "ax6 = fig.add_subplot(gs[1,4])\n",
    "ef = df.loc['Andhra Pradesh'].rename_axis('date').reset_index()\n",
    "ef['date'] = ef['date'].astype('datetime64[ns]')\n",
    "ax6.bar(ef.date, ef['Andhra Pradesh'],color = '#007acc',alpha=0.5,)\n",
    "ax6.xaxis.set_major_locator(mdates.WeekdayLocator())\n",
    "ax6.xaxis.set_major_formatter(mdates.DateFormatter('%b %d'))\n",
    "ax6.set_xticks(ax6.get_xticks()[::3])\n",
    "ax6.text(0.05, 1,'Andhra Pradesh', transform = ax6.transAxes, fontsize=20);\n",
    "ax6.spines['right'].set_visible(False)\n",
    "ax6.spines['top'].set_visible(False)\n",
    "\n",
    "ax4 = fig.add_subplot(gs[1,2])\n",
    "ef = df.loc['Delhi'].rename_axis('date').reset_index()\n",
    "ef['date'] = ef['date'].astype('datetime64[ns]')\n",
    "ax4.bar(ef.date, ef.Delhi,color = '#007acc',alpha=0.5)\n",
    "ax4.set_xticks([])\n",
    "ax4.xaxis.set_major_locator(mdates.WeekdayLocator())\n",
    "ax4.xaxis.set_major_formatter(mdates.DateFormatter('%b %d'))\n",
    "ax4.set_xticks(ax4.get_xticks()[::3])\n",
    "ax4.spines['right'].set_visible(False)\n",
    "ax4.spines['top'].set_visible(False)\n",
    "\n",
    "ax4.text(0.05, 1,'Delhi', transform = ax4.transAxes, fontsize=20)\n",
    "\n",
    "for i in range(n):\n",
    "    \n",
    "    ax.append(fig.add_subplot(gs[i+2,:]))\n",
    "    ef = df.iloc[i+3].rename_axis('date').reset_index()\n",
    "    ef['date'] = ef['date'].astype('datetime64[ns]')\n",
    "    ax[i].bar(ef.date,ef.iloc[:,-1],color = '#007acc',alpha=0.3)\n",
    "    ax[i].plot(ef.date,ef.iloc[:,-1],marker='o',color='#007acc')\n",
    "    ax[i].text(0.02,0.5,f'{ef.columns.values[-1]}',transform = ax[i].transAxes, fontsize = 20);\n",
    "    ax[i].xaxis.set_major_locator(mdates.WeekdayLocator())\n",
    "    ax[i].xaxis.set_major_formatter(mdates.DateFormatter('%b %d'))\n",
    "    ax[i].set_ylim([0,7000])\n",
    "    ax[i].spines['right'].set_visible(False)\n",
    "    ax[i].spines['top'].set_visible(False)\n",
    "plt.tight_layout()\n"
   ]
  },
  {
   "cell_type": "code",
   "execution_count": 20,
   "metadata": {
    "execution": {
     "iopub.execute_input": "2020-08-20T05:52:19.058066Z",
     "iopub.status.busy": "2020-08-20T05:52:19.057187Z",
     "iopub.status.idle": "2020-08-20T05:52:19.060974Z",
     "shell.execute_reply": "2020-08-20T05:52:19.060432Z"
    },
    "papermill": {
     "duration": 0.035896,
     "end_time": "2020-08-20T05:52:19.061091",
     "exception": false,
     "start_time": "2020-08-20T05:52:19.025195",
     "status": "completed"
    },
    "tags": []
   },
   "outputs": [
    {
     "name": "stdout",
     "output_type": "stream",
     "text": [
      "                                   states   Cases  Deaths  PCases  PDeaths  Cases (+)  Deaths (+)  Fatality Rate\n",
      "                              Maharashtra  628642   21033  628642    21033          0           0           3.35\n",
      "                               Tamil Nadu  355449    6123  355449     6123          0           0           1.72\n",
      "                           Andhra Pradesh  316003    2906  316003     2906          0           0           0.92\n",
      "                                Karnataka  249590    4327  249590     4327          0           0           1.73\n",
      "                            Uttar Pradesh  167510    2638  167510     2638          0           0           1.57\n",
      "                                    Delhi  156139    4235  156139     4235          0           0           2.71\n",
      "                              West Bengal  125922    2581  125922     2581          0           0           2.05\n",
      "                                    Bihar  112759     568  112759      568          0           0           0.50\n",
      "                                Telangana   97424     729   95700      719       1724          10           0.75\n",
      "                                    Assam   84318     213   84318      213          0           0           0.25\n",
      "                                  Gujarat   82087    2837   82087     2837          0           0           3.46\n",
      "                                   Odisha   67122     425   67122      425          0           0           0.63\n",
      "                                Rajasthan   65979     915   65289      910        690           5           1.39\n",
      "                                   Kerala   50231     183   50231      183          0           0           0.36\n",
      "                                  Haryana   49930     567   49930      567          0           0           1.14\n",
      "                           Madhya Pradesh   48351    1159   48351     1159          0           0           2.40\n",
      "                                   Punjab   36083     920   36083      920          0           0           2.55\n",
      "                        Jammu and Kashmir   30034     572   30034      572          0           0           1.90\n",
      "                                Jharkhand   26300     278   26300      278          0           0           1.06\n",
      "                             Chhattisgarh   17585     164   17585      164          0           0           0.93\n",
      "                              Uttarakhand   13225     178   13225      178          0           0           1.35\n",
      "                                      Goa   12675     124   12675      124          0           0           0.98\n",
      "                               Puducherry    8752     129    8752      129          0           0           1.47\n",
      "                                  Tripura    7850      65    7660       65        190           0           0.83\n",
      "                                  Manipur    4876      18    4876       18          0           0           0.37\n",
      "                         Himachal Pradesh    4411      20    4411       20          0           0           0.45\n",
      "                                 Nagaland    3558       7    3558        7          0           0           0.20\n",
      "                        Arunachal Pradesh    2950       5    2950        5          0           0           0.17\n",
      "              Andaman and Nicobar Islands    2604      30    2604       30          0           0           1.15\n",
      "                               Chandigarh    2396      31    2396       31          0           0           1.29\n",
      "                                   Ladakh    2048      18    2048       18          0           0           0.88\n",
      " Dadra and Nagar Haveli and Daman and Diu    1996       2    1996        2          0           0           0.10\n",
      "                                Meghalaya    1535       6    1535        6          0           0           0.39\n",
      "                                   Sikkim    1232       3    1232        3          0           0           0.24\n",
      "                                  Mizoram     873       0     860        0         13           0           0.00\n",
      "                              Lakshadweep       0       0       0        0          0           0            NaN\n"
     ]
    }
   ],
   "source": [
    "#hide_input\n",
    "print(df_table.to_string(index=False))"
   ]
  },
  {
   "cell_type": "code",
   "execution_count": null,
   "metadata": {
    "papermill": {
     "duration": 0.022327,
     "end_time": "2020-08-20T05:52:19.104881",
     "exception": false,
     "start_time": "2020-08-20T05:52:19.082554",
     "status": "completed"
    },
    "tags": []
   },
   "outputs": [],
   "source": []
  },
  {
   "cell_type": "code",
   "execution_count": null,
   "metadata": {
    "papermill": {
     "duration": 0.021589,
     "end_time": "2020-08-20T05:52:19.146349",
     "exception": false,
     "start_time": "2020-08-20T05:52:19.124760",
     "status": "completed"
    },
    "tags": []
   },
   "outputs": [],
   "source": []
  }
 ],
 "metadata": {
  "kernelspec": {
   "display_name": "Python 3",
   "language": "python",
   "name": "python3"
  },
  "language_info": {
   "codemirror_mode": {
    "name": "ipython",
    "version": 3
   },
   "file_extension": ".py",
   "mimetype": "text/x-python",
   "name": "python",
   "nbconvert_exporter": "python",
   "pygments_lexer": "ipython3",
   "version": "3.6.11"
  },
  "papermill": {
   "duration": 8.143133,
   "end_time": "2020-08-20T05:52:19.574276",
   "environment_variables": {},
   "exception": null,
   "input_path": "latest.ipynb",
   "output_path": "latest.ipynb",
   "parameters": {},
   "start_time": "2020-08-20T05:52:11.431143",
   "version": "2.1.2"
  }
 },
 "nbformat": 4,
 "nbformat_minor": 4
}