{
 "cells": [
  {
   "cell_type": "markdown",
   "metadata": {
    "papermill": {
     "duration": 0.02116,
     "end_time": "2021-01-16T07:08:34.507131",
     "exception": false,
     "start_time": "2021-01-16T07:08:34.485971",
     "status": "completed"
    },
    "tags": []
   },
   "source": [
    "# Latest COVID-19 India Matplotlib Overview"
   ]
  },
  {
   "cell_type": "code",
   "execution_count": 1,
   "metadata": {
    "execution": {
     "iopub.execute_input": "2021-01-16T07:08:34.548230Z",
     "iopub.status.busy": "2021-01-16T07:08:34.547564Z",
     "iopub.status.idle": "2021-01-16T07:08:35.171161Z",
     "shell.execute_reply": "2021-01-16T07:08:35.170034Z"
    },
    "papermill": {
     "duration": 0.64725,
     "end_time": "2021-01-16T07:08:35.171336",
     "exception": false,
     "start_time": "2021-01-16T07:08:34.524086",
     "status": "completed"
    },
    "tags": []
   },
   "outputs": [],
   "source": [
    "#hide\n",
    "import pandas as pd\n",
    "import numpy as np\n",
    "import requests\n",
    "import json\n",
    "import matplotlib.pyplot as plt\n",
    "import matplotlib.dates as mdates\n",
    "import matplotlib as mpl\n",
    "from IPython.core.display import display,HTML\n",
    "%matplotlib inline\n",
    "from datetime import date"
   ]
  },
  {
   "cell_type": "code",
   "execution_count": 2,
   "metadata": {
    "execution": {
     "iopub.execute_input": "2021-01-16T07:08:35.211328Z",
     "iopub.status.busy": "2021-01-16T07:08:35.210453Z",
     "iopub.status.idle": "2021-01-16T07:08:35.523669Z",
     "shell.execute_reply": "2021-01-16T07:08:35.523017Z"
    },
    "papermill": {
     "duration": 0.336537,
     "end_time": "2021-01-16T07:08:35.523817",
     "exception": false,
     "start_time": "2021-01-16T07:08:35.187280",
     "status": "completed"
    },
    "tags": []
   },
   "outputs": [],
   "source": [
    "#hide\n",
    "df  = pd.read_csv('https://api.covid19india.org/csv/latest/states.csv')\n",
    "df = df[['Date','State','Confirmed','Deceased']]\n",
    "df = df.rename(columns={'Confirmed':'Cases', \"Deceased\":'Deaths'})\n",
    "df_cases = df[[\"Date\",'State','Cases']]\n",
    "df_deaths = df[['Date','State','Deaths']]\n",
    "df_cases1 = df_cases.groupby('Date')\n",
    "df_deaths1= df_deaths.groupby('Date')"
   ]
  },
  {
   "cell_type": "code",
   "execution_count": 3,
   "metadata": {
    "execution": {
     "iopub.execute_input": "2021-01-16T07:08:35.562394Z",
     "iopub.status.busy": "2021-01-16T07:08:35.561793Z",
     "iopub.status.idle": "2021-01-16T07:08:35.580235Z",
     "shell.execute_reply": "2021-01-16T07:08:35.580711Z"
    },
    "papermill": {
     "duration": 0.04058,
     "end_time": "2021-01-16T07:08:35.580886",
     "exception": false,
     "start_time": "2021-01-16T07:08:35.540306",
     "status": "completed"
    },
    "tags": []
   },
   "outputs": [],
   "source": [
    "#hide\n",
    "df_snap = pd.read_csv('data/SnapshotCases-28-July.csv')\n",
    "arr_states = df_snap['states'].unique()\n",
    "arr_dates = df['Date'].unique()\n",
    "df_snap = df_snap.set_index('states')"
   ]
  },
  {
   "cell_type": "code",
   "execution_count": 4,
   "metadata": {
    "execution": {
     "iopub.execute_input": "2021-01-16T07:08:35.622799Z",
     "iopub.status.busy": "2021-01-16T07:08:35.622177Z",
     "iopub.status.idle": "2021-01-16T07:08:35.626332Z",
     "shell.execute_reply": "2021-01-16T07:08:35.626828Z"
    },
    "papermill": {
     "duration": 0.030347,
     "end_time": "2021-01-16T07:08:35.626982",
     "exception": false,
     "start_time": "2021-01-16T07:08:35.596635",
     "status": "completed"
    },
    "tags": []
   },
   "outputs": [
    {
     "data": {
      "text/plain": [
       "array(['Andaman and Nicobar Islands', 'Andhra Pradesh',\n",
       "       'Arunachal Pradesh', 'Assam', 'Bihar', 'Chandigarh',\n",
       "       'Dadra and Nagar Haveli and Daman and Diu', 'Delhi', 'Goa',\n",
       "       'Gujarat', 'Haryana', 'Himachal Pradesh', 'Jammu and Kashmir',\n",
       "       'Jharkhand', 'Karnataka', 'Kerala', 'Lakshadweep',\n",
       "       'Madhya Pradesh', 'Maharashtra', 'Manipur', 'Meghalaya', 'Mizoram',\n",
       "       'Nagaland', 'Odisha', 'Puducherry', 'Punjab', 'Rajasthan',\n",
       "       'Sikkim', 'Tamil Nadu', 'Telangana', 'Tripura', 'Uttar Pradesh',\n",
       "       'West Bengal', 'Chhattisgarh', 'Ladakh', 'Uttarakhand'],\n",
       "      dtype=object)"
      ]
     },
     "execution_count": 4,
     "metadata": {},
     "output_type": "execute_result"
    }
   ],
   "source": [
    "#hide\n",
    "arr_states[-9] = 'Puducherry'\n",
    "arr_states[-10] = 'Odisha'\n",
    "arr_states[6] = 'Dadra and Nagar Haveli and Daman and Diu'\n",
    "arr_states = np.append(arr_states,np.array(['Chhattisgarh','Ladakh','Uttarakhand']))\n",
    "arr_states"
   ]
  },
  {
   "cell_type": "code",
   "execution_count": 5,
   "metadata": {
    "execution": {
     "iopub.execute_input": "2021-01-16T07:08:35.669639Z",
     "iopub.status.busy": "2021-01-16T07:08:35.669015Z",
     "iopub.status.idle": "2021-01-16T07:08:35.681697Z",
     "shell.execute_reply": "2021-01-16T07:08:35.681204Z"
    },
    "papermill": {
     "duration": 0.038463,
     "end_time": "2021-01-16T07:08:35.681834",
     "exception": false,
     "start_time": "2021-01-16T07:08:35.643371",
     "status": "completed"
    },
    "tags": []
   },
   "outputs": [],
   "source": [
    "#hide\n",
    "dates = []\n",
    "for i in arr_dates:\n",
    "    if i>='2020-07-01':\n",
    "        dates.append(i)\n",
    "dict = {'states':dates}\n",
    "for i in arr_states:\n",
    "    dict[i] = [0]*len(dates)\n",
    "dft_cases = pd.DataFrame(dict)\n",
    "dft_deaths = pd.DataFrame(dict)\n"
   ]
  },
  {
   "cell_type": "code",
   "execution_count": 6,
   "metadata": {
    "execution": {
     "iopub.execute_input": "2021-01-16T07:08:35.722898Z",
     "iopub.status.busy": "2021-01-16T07:08:35.722272Z",
     "iopub.status.idle": "2021-01-16T07:08:38.729687Z",
     "shell.execute_reply": "2021-01-16T07:08:38.728624Z"
    },
    "papermill": {
     "duration": 3.031827,
     "end_time": "2021-01-16T07:08:38.729843",
     "exception": false,
     "start_time": "2021-01-16T07:08:35.698016",
     "status": "completed"
    },
    "tags": []
   },
   "outputs": [],
   "source": [
    "#hide\n",
    "for i in range(len(dates)):\n",
    "    df1_deaths = df_deaths1.get_group(dates[i])\n",
    "    for j in range(len(df1_deaths.index)):\n",
    "        if df1_deaths.iloc[j,1] in arr_states:\n",
    "            dft_deaths.loc[i,df1_deaths.iloc[j,1]] = df1_deaths.iloc[j,2]\n",
    "dft_deaths = dft_deaths.set_index('states')"
   ]
  },
  {
   "cell_type": "code",
   "execution_count": 7,
   "metadata": {
    "execution": {
     "iopub.execute_input": "2021-01-16T07:08:38.770776Z",
     "iopub.status.busy": "2021-01-16T07:08:38.769800Z",
     "iopub.status.idle": "2021-01-16T07:08:41.709502Z",
     "shell.execute_reply": "2021-01-16T07:08:41.708411Z"
    },
    "papermill": {
     "duration": 2.963547,
     "end_time": "2021-01-16T07:08:41.709658",
     "exception": false,
     "start_time": "2021-01-16T07:08:38.746111",
     "status": "completed"
    },
    "tags": []
   },
   "outputs": [],
   "source": [
    "#hide\n",
    "for i in range(len(dates)):\n",
    "    df1_cases = df_cases1.get_group(dates[i])\n",
    "    for j in range(len(df1_cases.index)):\n",
    "        if df1_cases.iloc[j,1] in arr_states:\n",
    "            dft_cases.loc[i,df1_cases.iloc[j,1]] = df1_cases.iloc[j,2]\n",
    "dft_cases = dft_cases.set_index('states')"
   ]
  },
  {
   "cell_type": "code",
   "execution_count": 8,
   "metadata": {
    "execution": {
     "iopub.execute_input": "2021-01-16T07:08:41.749638Z",
     "iopub.status.busy": "2021-01-16T07:08:41.748262Z",
     "iopub.status.idle": "2021-01-16T07:08:41.750500Z",
     "shell.execute_reply": "2021-01-16T07:08:41.751032Z"
    },
    "papermill": {
     "duration": 0.025167,
     "end_time": "2021-01-16T07:08:41.751186",
     "exception": false,
     "start_time": "2021-01-16T07:08:41.726019",
     "status": "completed"
    },
    "tags": []
   },
   "outputs": [],
   "source": [
    "#hide\n",
    "dft_cases = dft_cases.T\n",
    "dft_deaths = dft_deaths.T\n",
    "dt_today = dates[-1]\n",
    "dt_yday = dates[-2]"
   ]
  },
  {
   "cell_type": "code",
   "execution_count": 9,
   "metadata": {
    "execution": {
     "iopub.execute_input": "2021-01-16T07:08:41.793038Z",
     "iopub.status.busy": "2021-01-16T07:08:41.790973Z",
     "iopub.status.idle": "2021-01-16T07:08:41.796034Z",
     "shell.execute_reply": "2021-01-16T07:08:41.796551Z"
    },
    "papermill": {
     "duration": 0.02942,
     "end_time": "2021-01-16T07:08:41.796706",
     "exception": false,
     "start_time": "2021-01-16T07:08:41.767286",
     "status": "completed"
    },
    "tags": []
   },
   "outputs": [],
   "source": [
    "#hide\n",
    "dft_cases = dft_cases.reset_index()\n",
    "dft_deaths = dft_deaths.reset_index()\n",
    "dft_cases = dft_cases.rename(columns = {'index':'state'})\n",
    "dft_deaths = dft_deaths.rename(columns = {'index':'state'})"
   ]
  },
  {
   "cell_type": "code",
   "execution_count": 10,
   "metadata": {
    "execution": {
     "iopub.execute_input": "2021-01-16T07:08:41.841412Z",
     "iopub.status.busy": "2021-01-16T07:08:41.840769Z",
     "iopub.status.idle": "2021-01-16T07:08:41.843102Z",
     "shell.execute_reply": "2021-01-16T07:08:41.842502Z"
    },
    "papermill": {
     "duration": 0.030553,
     "end_time": "2021-01-16T07:08:41.843236",
     "exception": false,
     "start_time": "2021-01-16T07:08:41.812683",
     "status": "completed"
    },
    "tags": []
   },
   "outputs": [],
   "source": [
    "#hide\n",
    "dfc_cases = dft_cases.groupby('state')[dt_today].sum()\n",
    "dfc_deaths = dft_deaths.groupby('state')[dt_today].sum()\n",
    "dfp_cases = dft_cases.groupby('state')[dt_yday].sum()\n",
    "dfp_deaths = dft_deaths.groupby('state')[dt_yday].sum()"
   ]
  },
  {
   "cell_type": "code",
   "execution_count": 11,
   "metadata": {
    "execution": {
     "iopub.execute_input": "2021-01-16T07:08:41.884380Z",
     "iopub.status.busy": "2021-01-16T07:08:41.883764Z",
     "iopub.status.idle": "2021-01-16T07:08:41.897272Z",
     "shell.execute_reply": "2021-01-16T07:08:41.896662Z"
    },
    "papermill": {
     "duration": 0.038035,
     "end_time": "2021-01-16T07:08:41.897404",
     "exception": false,
     "start_time": "2021-01-16T07:08:41.859369",
     "status": "completed"
    },
    "tags": []
   },
   "outputs": [
    {
     "data": {
      "text/html": [
       "<div>\n",
       "<style scoped>\n",
       "    .dataframe tbody tr th:only-of-type {\n",
       "        vertical-align: middle;\n",
       "    }\n",
       "\n",
       "    .dataframe tbody tr th {\n",
       "        vertical-align: top;\n",
       "    }\n",
       "\n",
       "    .dataframe thead th {\n",
       "        text-align: right;\n",
       "    }\n",
       "</style>\n",
       "<table border=\"1\" class=\"dataframe\">\n",
       "  <thead>\n",
       "    <tr style=\"text-align: right;\">\n",
       "      <th></th>\n",
       "      <th>states</th>\n",
       "      <th>Cases</th>\n",
       "      <th>Deaths</th>\n",
       "      <th>PCases</th>\n",
       "      <th>PDeaths</th>\n",
       "    </tr>\n",
       "  </thead>\n",
       "  <tbody>\n",
       "    <tr>\n",
       "      <th>0</th>\n",
       "      <td>Maharashtra</td>\n",
       "      <td>1984768</td>\n",
       "      <td>50336</td>\n",
       "      <td>1984768</td>\n",
       "      <td>50336</td>\n",
       "    </tr>\n",
       "    <tr>\n",
       "      <th>1</th>\n",
       "      <td>Karnataka</td>\n",
       "      <td>930668</td>\n",
       "      <td>12158</td>\n",
       "      <td>930668</td>\n",
       "      <td>12158</td>\n",
       "    </tr>\n",
       "    <tr>\n",
       "      <th>2</th>\n",
       "      <td>Andhra Pradesh</td>\n",
       "      <td>885710</td>\n",
       "      <td>7139</td>\n",
       "      <td>885710</td>\n",
       "      <td>7139</td>\n",
       "    </tr>\n",
       "    <tr>\n",
       "      <th>3</th>\n",
       "      <td>Kerala</td>\n",
       "      <td>836884</td>\n",
       "      <td>3416</td>\n",
       "      <td>836884</td>\n",
       "      <td>3416</td>\n",
       "    </tr>\n",
       "    <tr>\n",
       "      <th>4</th>\n",
       "      <td>Tamil Nadu</td>\n",
       "      <td>829573</td>\n",
       "      <td>12251</td>\n",
       "      <td>829573</td>\n",
       "      <td>12251</td>\n",
       "    </tr>\n",
       "  </tbody>\n",
       "</table>\n",
       "</div>"
      ],
      "text/plain": [
       "           states    Cases  Deaths   PCases  PDeaths\n",
       "0     Maharashtra  1984768   50336  1984768    50336\n",
       "1       Karnataka   930668   12158   930668    12158\n",
       "2  Andhra Pradesh   885710    7139   885710     7139\n",
       "3          Kerala   836884    3416   836884     3416\n",
       "4      Tamil Nadu   829573   12251   829573    12251"
      ]
     },
     "execution_count": 11,
     "metadata": {},
     "output_type": "execute_result"
    }
   ],
   "source": [
    "#hide\n",
    "df_table = pd.DataFrame({'states': dfc_cases.index, 'Cases': dfc_cases.values, 'Deaths': dfc_deaths.values, 'PCases': dfp_cases.values, 'PDeaths': dfp_deaths.values}).set_index('states')\n",
    "df_table = df_table.sort_values(by = ['Cases','Deaths'], ascending = [False, False])\n",
    "df_table = df_table.reset_index()\n",
    "df_table.head()"
   ]
  },
  {
   "cell_type": "code",
   "execution_count": 12,
   "metadata": {
    "execution": {
     "iopub.execute_input": "2021-01-16T07:08:41.937089Z",
     "iopub.status.busy": "2021-01-16T07:08:41.936489Z",
     "iopub.status.idle": "2021-01-16T07:08:41.945611Z",
     "shell.execute_reply": "2021-01-16T07:08:41.945118Z"
    },
    "papermill": {
     "duration": 0.031973,
     "end_time": "2021-01-16T07:08:41.945746",
     "exception": false,
     "start_time": "2021-01-16T07:08:41.913773",
     "status": "completed"
    },
    "tags": []
   },
   "outputs": [],
   "source": [
    "#hide\n",
    "for c in 'Cases, Deaths'.split(', '):\n",
    "    df_table[f'{c} (+)'] = (df_table[c] - df_table[f'P{c}']).clip(0)\n",
    "df_table['Fatality Rate'] = (100* df_table['Deaths']/ df_table['Cases']).round(2)"
   ]
  },
  {
   "cell_type": "code",
   "execution_count": 13,
   "metadata": {
    "execution": {
     "iopub.execute_input": "2021-01-16T07:08:41.990476Z",
     "iopub.status.busy": "2021-01-16T07:08:41.989856Z",
     "iopub.status.idle": "2021-01-16T07:08:41.997003Z",
     "shell.execute_reply": "2021-01-16T07:08:41.996484Z"
    },
    "papermill": {
     "duration": 0.03487,
     "end_time": "2021-01-16T07:08:41.997140",
     "exception": false,
     "start_time": "2021-01-16T07:08:41.962270",
     "status": "completed"
    },
    "tags": []
   },
   "outputs": [
    {
     "data": {
      "text/html": [
       "<div>\n",
       "<style scoped>\n",
       "    .dataframe tbody tr th:only-of-type {\n",
       "        vertical-align: middle;\n",
       "    }\n",
       "\n",
       "    .dataframe tbody tr th {\n",
       "        vertical-align: top;\n",
       "    }\n",
       "\n",
       "    .dataframe thead th {\n",
       "        text-align: right;\n",
       "    }\n",
       "</style>\n",
       "<table border=\"1\" class=\"dataframe\">\n",
       "  <thead>\n",
       "    <tr style=\"text-align: right;\">\n",
       "      <th></th>\n",
       "      <th>states</th>\n",
       "      <th>Cases</th>\n",
       "      <th>Deaths</th>\n",
       "      <th>PCases</th>\n",
       "      <th>PDeaths</th>\n",
       "      <th>Cases (+)</th>\n",
       "      <th>Deaths (+)</th>\n",
       "      <th>Fatality Rate</th>\n",
       "    </tr>\n",
       "  </thead>\n",
       "  <tbody>\n",
       "    <tr>\n",
       "      <th>0</th>\n",
       "      <td>Maharashtra</td>\n",
       "      <td>1984768</td>\n",
       "      <td>50336</td>\n",
       "      <td>1984768</td>\n",
       "      <td>50336</td>\n",
       "      <td>0</td>\n",
       "      <td>0</td>\n",
       "      <td>2.54</td>\n",
       "    </tr>\n",
       "    <tr>\n",
       "      <th>1</th>\n",
       "      <td>Karnataka</td>\n",
       "      <td>930668</td>\n",
       "      <td>12158</td>\n",
       "      <td>930668</td>\n",
       "      <td>12158</td>\n",
       "      <td>0</td>\n",
       "      <td>0</td>\n",
       "      <td>1.31</td>\n",
       "    </tr>\n",
       "    <tr>\n",
       "      <th>2</th>\n",
       "      <td>Andhra Pradesh</td>\n",
       "      <td>885710</td>\n",
       "      <td>7139</td>\n",
       "      <td>885710</td>\n",
       "      <td>7139</td>\n",
       "      <td>0</td>\n",
       "      <td>0</td>\n",
       "      <td>0.81</td>\n",
       "    </tr>\n",
       "    <tr>\n",
       "      <th>3</th>\n",
       "      <td>Kerala</td>\n",
       "      <td>836884</td>\n",
       "      <td>3416</td>\n",
       "      <td>836884</td>\n",
       "      <td>3416</td>\n",
       "      <td>0</td>\n",
       "      <td>0</td>\n",
       "      <td>0.41</td>\n",
       "    </tr>\n",
       "    <tr>\n",
       "      <th>4</th>\n",
       "      <td>Tamil Nadu</td>\n",
       "      <td>829573</td>\n",
       "      <td>12251</td>\n",
       "      <td>829573</td>\n",
       "      <td>12251</td>\n",
       "      <td>0</td>\n",
       "      <td>0</td>\n",
       "      <td>1.48</td>\n",
       "    </tr>\n",
       "  </tbody>\n",
       "</table>\n",
       "</div>"
      ],
      "text/plain": [
       "           states    Cases  Deaths   PCases  PDeaths  Cases (+)  Deaths (+)  \\\n",
       "0     Maharashtra  1984768   50336  1984768    50336          0           0   \n",
       "1       Karnataka   930668   12158   930668    12158          0           0   \n",
       "2  Andhra Pradesh   885710    7139   885710     7139          0           0   \n",
       "3          Kerala   836884    3416   836884     3416          0           0   \n",
       "4      Tamil Nadu   829573   12251   829573    12251          0           0   \n",
       "\n",
       "   Fatality Rate  \n",
       "0           2.54  \n",
       "1           1.31  \n",
       "2           0.81  \n",
       "3           0.41  \n",
       "4           1.48  "
      ]
     },
     "execution_count": 13,
     "metadata": {},
     "output_type": "execute_result"
    }
   ],
   "source": [
    "#hide\n",
    "df_table.head()"
   ]
  },
  {
   "cell_type": "code",
   "execution_count": 14,
   "metadata": {
    "execution": {
     "iopub.execute_input": "2021-01-16T07:08:42.038034Z",
     "iopub.status.busy": "2021-01-16T07:08:42.037437Z",
     "iopub.status.idle": "2021-01-16T07:08:42.054650Z",
     "shell.execute_reply": "2021-01-16T07:08:42.054162Z"
    },
    "papermill": {
     "duration": 0.040861,
     "end_time": "2021-01-16T07:08:42.054787",
     "exception": false,
     "start_time": "2021-01-16T07:08:42.013926",
     "status": "completed"
    },
    "tags": []
   },
   "outputs": [
    {
     "data": {
      "text/plain": [
       "{'updated': '2021-01-16',\n",
       " 'since': '2021-01-15',\n",
       " 'Cases': 10543659,\n",
       " 'PCases': 10543659,\n",
       " 'Deaths': 152130,\n",
       " 'PDeaths': 152130,\n",
       " 'Cases (+)': 0,\n",
       " 'Deaths (+)': 0}"
      ]
     },
     "execution_count": 14,
     "metadata": {},
     "output_type": "execute_result"
    }
   ],
   "source": [
    "#hide\n",
    "summary = {'updated':dates[-1], 'since':dates[-2]}\n",
    "list_names = ['Cases', 'PCases', 'Deaths', 'PDeaths', 'Cases (+)', 'Deaths (+)']\n",
    "for name in list_names:\n",
    "    summary[name] = df_table.sum()[name]\n",
    "summary"
   ]
  },
  {
   "cell_type": "code",
   "execution_count": 15,
   "metadata": {
    "execution": {
     "iopub.execute_input": "2021-01-16T07:08:42.095153Z",
     "iopub.status.busy": "2021-01-16T07:08:42.094524Z",
     "iopub.status.idle": "2021-01-16T07:08:42.097417Z",
     "shell.execute_reply": "2021-01-16T07:08:42.096897Z"
    },
    "papermill": {
     "duration": 0.025464,
     "end_time": "2021-01-16T07:08:42.097559",
     "exception": false,
     "start_time": "2021-01-16T07:08:42.072095",
     "status": "completed"
    },
    "tags": []
   },
   "outputs": [],
   "source": [
    "#hide\n",
    "overview = '''\n",
    "<!-- #######  HTML!! #########-->\n",
    "<h1 style=\"color: #5e9ca0; text-align: center;\">India</h1>\n",
    "<p style=\"text-align: center;\">Last update: <strong>{update}</strong></p>\n",
    "<p style=\"text-align: center;\">Confirmed cases:</p>\n",
    "<p style=\"text-align: center;font-size:24px;\">{cases} (<span style=\"color: #ff0000;\">+{new}</span>)</p>\n",
    "<p style=\"text-align: center;\">Confirmed deaths:</p>\n",
    "<p style=\"text-align: center;font-size:24px;\">{deaths} (<span style=\"color: #ff0000;\">+{dnew}</span>)</p>\n",
    "'''"
   ]
  },
  {
   "cell_type": "code",
   "execution_count": 16,
   "metadata": {
    "execution": {
     "iopub.execute_input": "2021-01-16T07:08:42.139351Z",
     "iopub.status.busy": "2021-01-16T07:08:42.138735Z",
     "iopub.status.idle": "2021-01-16T07:08:42.141196Z",
     "shell.execute_reply": "2021-01-16T07:08:42.141716Z"
    },
    "papermill": {
     "duration": 0.026931,
     "end_time": "2021-01-16T07:08:42.141867",
     "exception": false,
     "start_time": "2021-01-16T07:08:42.114936",
     "status": "completed"
    },
    "tags": []
   },
   "outputs": [
    {
     "data": {
      "text/html": [
       "\n",
       "<!-- #######  HTML!! #########-->\n",
       "<h1 style=\"color: #5e9ca0; text-align: center;\">India</h1>\n",
       "<p style=\"text-align: center;\">Last update: <strong>2021-01-16</strong></p>\n",
       "<p style=\"text-align: center;\">Confirmed cases:</p>\n",
       "<p style=\"text-align: center;font-size:24px;\">10543659 (<span style=\"color: #ff0000;\">+0</span>)</p>\n",
       "<p style=\"text-align: center;\">Confirmed deaths:</p>\n",
       "<p style=\"text-align: center;font-size:24px;\">152130 (<span style=\"color: #ff0000;\">+0</span>)</p>\n"
      ],
      "text/plain": [
       "<IPython.core.display.HTML object>"
      ]
     },
     "metadata": {},
     "output_type": "display_data"
    }
   ],
   "source": [
    "#hide_input\n",
    "update = summary['updated']\n",
    "cases = summary['Cases']\n",
    "new = summary['Cases (+)']\n",
    "deaths = summary['Deaths']\n",
    "dnew = summary['Deaths (+)']\n",
    "\n",
    "html = HTML(overview.format(update=update, cases=cases,new=new,deaths=deaths,dnew=dnew))\n",
    "\n",
    "display(html)"
   ]
  },
  {
   "cell_type": "code",
   "execution_count": 17,
   "metadata": {
    "execution": {
     "iopub.execute_input": "2021-01-16T07:08:42.186048Z",
     "iopub.status.busy": "2021-01-16T07:08:42.185436Z",
     "iopub.status.idle": "2021-01-16T07:08:42.193204Z",
     "shell.execute_reply": "2021-01-16T07:08:42.193662Z"
    },
    "papermill": {
     "duration": 0.034355,
     "end_time": "2021-01-16T07:08:42.193818",
     "exception": false,
     "start_time": "2021-01-16T07:08:42.159463",
     "status": "completed"
    },
    "tags": []
   },
   "outputs": [],
   "source": [
    "#hide\n",
    "dt_cols = list(dft_cases.columns[1:])\n",
    "dft_ct_new_cases = dft_cases.groupby('state')[dt_cols].sum().diff(axis=1).fillna(0).astype(int)\n",
    "dft_ct_new_cases.sort_values(by = dates[-1], ascending = False,inplace = True)"
   ]
  },
  {
   "cell_type": "code",
   "execution_count": 18,
   "metadata": {
    "execution": {
     "iopub.execute_input": "2021-01-16T07:08:42.250593Z",
     "iopub.status.busy": "2021-01-16T07:08:42.249979Z",
     "iopub.status.idle": "2021-01-16T07:08:42.253339Z",
     "shell.execute_reply": "2021-01-16T07:08:42.252821Z"
    },
    "papermill": {
     "duration": 0.041809,
     "end_time": "2021-01-16T07:08:42.253474",
     "exception": false,
     "start_time": "2021-01-16T07:08:42.211665",
     "status": "completed"
    },
    "tags": []
   },
   "outputs": [
    {
     "data": {
      "text/html": [
       "<div>\n",
       "<style scoped>\n",
       "    .dataframe tbody tr th:only-of-type {\n",
       "        vertical-align: middle;\n",
       "    }\n",
       "\n",
       "    .dataframe tbody tr th {\n",
       "        vertical-align: top;\n",
       "    }\n",
       "\n",
       "    .dataframe thead th {\n",
       "        text-align: right;\n",
       "    }\n",
       "</style>\n",
       "<table border=\"1\" class=\"dataframe\">\n",
       "  <thead>\n",
       "    <tr style=\"text-align: right;\">\n",
       "      <th>states</th>\n",
       "      <th>2020-07-01</th>\n",
       "      <th>2020-07-02</th>\n",
       "      <th>2020-07-03</th>\n",
       "      <th>2020-07-04</th>\n",
       "      <th>2020-07-05</th>\n",
       "      <th>2020-07-06</th>\n",
       "      <th>2020-07-07</th>\n",
       "      <th>2020-07-08</th>\n",
       "      <th>2020-07-09</th>\n",
       "      <th>2020-07-10</th>\n",
       "      <th>...</th>\n",
       "      <th>2021-01-07</th>\n",
       "      <th>2021-01-08</th>\n",
       "      <th>2021-01-09</th>\n",
       "      <th>2021-01-10</th>\n",
       "      <th>2021-01-11</th>\n",
       "      <th>2021-01-12</th>\n",
       "      <th>2021-01-13</th>\n",
       "      <th>2021-01-14</th>\n",
       "      <th>2021-01-15</th>\n",
       "      <th>2021-01-16</th>\n",
       "    </tr>\n",
       "    <tr>\n",
       "      <th>state</th>\n",
       "      <th></th>\n",
       "      <th></th>\n",
       "      <th></th>\n",
       "      <th></th>\n",
       "      <th></th>\n",
       "      <th></th>\n",
       "      <th></th>\n",
       "      <th></th>\n",
       "      <th></th>\n",
       "      <th></th>\n",
       "      <th></th>\n",
       "      <th></th>\n",
       "      <th></th>\n",
       "      <th></th>\n",
       "      <th></th>\n",
       "      <th></th>\n",
       "      <th></th>\n",
       "      <th></th>\n",
       "      <th></th>\n",
       "      <th></th>\n",
       "      <th></th>\n",
       "    </tr>\n",
       "  </thead>\n",
       "  <tbody>\n",
       "    <tr>\n",
       "      <th>Andaman and Nicobar Islands</th>\n",
       "      <td>0</td>\n",
       "      <td>9</td>\n",
       "      <td>7</td>\n",
       "      <td>3</td>\n",
       "      <td>6</td>\n",
       "      <td>16</td>\n",
       "      <td>6</td>\n",
       "      <td>2</td>\n",
       "      <td>7</td>\n",
       "      <td>0</td>\n",
       "      <td>...</td>\n",
       "      <td>9</td>\n",
       "      <td>1</td>\n",
       "      <td>0</td>\n",
       "      <td>1</td>\n",
       "      <td>3</td>\n",
       "      <td>3</td>\n",
       "      <td>3</td>\n",
       "      <td>7</td>\n",
       "      <td>3</td>\n",
       "      <td>0</td>\n",
       "    </tr>\n",
       "    <tr>\n",
       "      <th>Andhra Pradesh</th>\n",
       "      <td>0</td>\n",
       "      <td>845</td>\n",
       "      <td>837</td>\n",
       "      <td>765</td>\n",
       "      <td>998</td>\n",
       "      <td>1322</td>\n",
       "      <td>1178</td>\n",
       "      <td>1062</td>\n",
       "      <td>1555</td>\n",
       "      <td>1608</td>\n",
       "      <td>...</td>\n",
       "      <td>295</td>\n",
       "      <td>319</td>\n",
       "      <td>199</td>\n",
       "      <td>227</td>\n",
       "      <td>121</td>\n",
       "      <td>197</td>\n",
       "      <td>203</td>\n",
       "      <td>179</td>\n",
       "      <td>94</td>\n",
       "      <td>0</td>\n",
       "    </tr>\n",
       "    <tr>\n",
       "      <th>Maharashtra</th>\n",
       "      <td>0</td>\n",
       "      <td>6328</td>\n",
       "      <td>6364</td>\n",
       "      <td>7074</td>\n",
       "      <td>6555</td>\n",
       "      <td>5368</td>\n",
       "      <td>5134</td>\n",
       "      <td>6603</td>\n",
       "      <td>6875</td>\n",
       "      <td>7862</td>\n",
       "      <td>...</td>\n",
       "      <td>3729</td>\n",
       "      <td>3693</td>\n",
       "      <td>3581</td>\n",
       "      <td>3558</td>\n",
       "      <td>2438</td>\n",
       "      <td>2936</td>\n",
       "      <td>3556</td>\n",
       "      <td>3579</td>\n",
       "      <td>3145</td>\n",
       "      <td>0</td>\n",
       "    </tr>\n",
       "    <tr>\n",
       "      <th>Manipur</th>\n",
       "      <td>0</td>\n",
       "      <td>19</td>\n",
       "      <td>37</td>\n",
       "      <td>9</td>\n",
       "      <td>41</td>\n",
       "      <td>24</td>\n",
       "      <td>40</td>\n",
       "      <td>5</td>\n",
       "      <td>15</td>\n",
       "      <td>132</td>\n",
       "      <td>...</td>\n",
       "      <td>47</td>\n",
       "      <td>48</td>\n",
       "      <td>67</td>\n",
       "      <td>14</td>\n",
       "      <td>33</td>\n",
       "      <td>32</td>\n",
       "      <td>44</td>\n",
       "      <td>18</td>\n",
       "      <td>24</td>\n",
       "      <td>0</td>\n",
       "    </tr>\n",
       "    <tr>\n",
       "      <th>Meghalaya</th>\n",
       "      <td>0</td>\n",
       "      <td>3</td>\n",
       "      <td>4</td>\n",
       "      <td>8</td>\n",
       "      <td>2</td>\n",
       "      <td>16</td>\n",
       "      <td>6</td>\n",
       "      <td>6</td>\n",
       "      <td>13</td>\n",
       "      <td>73</td>\n",
       "      <td>...</td>\n",
       "      <td>11</td>\n",
       "      <td>24</td>\n",
       "      <td>32</td>\n",
       "      <td>19</td>\n",
       "      <td>20</td>\n",
       "      <td>20</td>\n",
       "      <td>18</td>\n",
       "      <td>18</td>\n",
       "      <td>4</td>\n",
       "      <td>0</td>\n",
       "    </tr>\n",
       "  </tbody>\n",
       "</table>\n",
       "<p>5 rows × 200 columns</p>\n",
       "</div>"
      ],
      "text/plain": [
       "states                       2020-07-01  2020-07-02  2020-07-03  2020-07-04  \\\n",
       "state                                                                         \n",
       "Andaman and Nicobar Islands           0           9           7           3   \n",
       "Andhra Pradesh                        0         845         837         765   \n",
       "Maharashtra                           0        6328        6364        7074   \n",
       "Manipur                               0          19          37           9   \n",
       "Meghalaya                             0           3           4           8   \n",
       "\n",
       "states                       2020-07-05  2020-07-06  2020-07-07  2020-07-08  \\\n",
       "state                                                                         \n",
       "Andaman and Nicobar Islands           6          16           6           2   \n",
       "Andhra Pradesh                      998        1322        1178        1062   \n",
       "Maharashtra                        6555        5368        5134        6603   \n",
       "Manipur                              41          24          40           5   \n",
       "Meghalaya                             2          16           6           6   \n",
       "\n",
       "states                       2020-07-09  2020-07-10  ...  2021-01-07  \\\n",
       "state                                                ...               \n",
       "Andaman and Nicobar Islands           7           0  ...           9   \n",
       "Andhra Pradesh                     1555        1608  ...         295   \n",
       "Maharashtra                        6875        7862  ...        3729   \n",
       "Manipur                              15         132  ...          47   \n",
       "Meghalaya                            13          73  ...          11   \n",
       "\n",
       "states                       2021-01-08  2021-01-09  2021-01-10  2021-01-11  \\\n",
       "state                                                                         \n",
       "Andaman and Nicobar Islands           1           0           1           3   \n",
       "Andhra Pradesh                      319         199         227         121   \n",
       "Maharashtra                        3693        3581        3558        2438   \n",
       "Manipur                              48          67          14          33   \n",
       "Meghalaya                            24          32          19          20   \n",
       "\n",
       "states                       2021-01-12  2021-01-13  2021-01-14  2021-01-15  \\\n",
       "state                                                                         \n",
       "Andaman and Nicobar Islands           3           3           7           3   \n",
       "Andhra Pradesh                      197         203         179          94   \n",
       "Maharashtra                        2936        3556        3579        3145   \n",
       "Manipur                              32          44          18          24   \n",
       "Meghalaya                            20          18          18           4   \n",
       "\n",
       "states                       2021-01-16  \n",
       "state                                    \n",
       "Andaman and Nicobar Islands           0  \n",
       "Andhra Pradesh                        0  \n",
       "Maharashtra                           0  \n",
       "Manipur                               0  \n",
       "Meghalaya                             0  \n",
       "\n",
       "[5 rows x 200 columns]"
      ]
     },
     "execution_count": 18,
     "metadata": {},
     "output_type": "execute_result"
    }
   ],
   "source": [
    "#hide\n",
    "dft_ct_new_cases.head()"
   ]
  },
  {
   "cell_type": "code",
   "execution_count": 19,
   "metadata": {
    "execution": {
     "iopub.execute_input": "2021-01-16T07:08:42.305282Z",
     "iopub.status.busy": "2021-01-16T07:08:42.298887Z",
     "iopub.status.idle": "2021-01-16T07:08:49.495397Z",
     "shell.execute_reply": "2021-01-16T07:08:49.495928Z"
    },
    "papermill": {
     "duration": 7.224157,
     "end_time": "2021-01-16T07:08:49.496090",
     "exception": false,
     "start_time": "2021-01-16T07:08:42.271933",
     "status": "completed"
    },
    "tags": []
   },
   "outputs": [
    {
     "data": {
      "image/png": "[encoded data removed]",
      "text/plain": [
       "<Figure size 1296x2016 with 11 Axes>"
      ]
     },
     "metadata": {
      "needs_background": "light"
     },
     "output_type": "display_data"
    }
   ],
   "source": [
    "#hide_input\n",
    "df = dft_ct_new_cases.copy()\n",
    "df.loc['Total'] = df.sum()\n",
    "n = 5\n",
    "ax = []\n",
    "fig = plt.figure(figsize = (18,28))\n",
    "gs = fig.add_gridspec(n+2, 5)\n",
    "# gs = fig.add_gridspec(2, 3)\n",
    "ax1 = fig.add_subplot(gs[0, :])\n",
    "ef = df.loc['Total'].rename_axis('date').reset_index()\n",
    "ef['date'] = ef['date'].astype('datetime64[ns]')\n",
    "ax1.bar(ef.date,ef.Total,alpha=0.3,color='#007acc')\n",
    "ax1.plot(ef.date,ef.Total , marker=\"o\", color='#007acc')\n",
    "ax1.xaxis.set_major_locator(mdates.WeekdayLocator())\n",
    "ax1.xaxis.set_major_formatter(mdates.DateFormatter('%b %d'))\n",
    "ax1.text(0.02, 0.5,'India daily case count', transform = ax1.transAxes, fontsize=25);\n",
    "ax1.spines['right'].set_visible(False)\n",
    "ax1.spines['top'].set_visible(False)\n",
    "\n",
    "ax2 = fig.add_subplot(gs[1,0])\n",
    "ef = df.loc['Maharashtra'].rename_axis('date').reset_index()\n",
    "ef['date'] = ef['date'].astype('datetime64[ns]')\n",
    "\n",
    "ax2.bar(ef.date, ef.Maharashtra,color = '#007acc',alpha=0.5)\n",
    "ax2.xaxis.set_major_locator(mdates.WeekdayLocator())\n",
    "ax2.xaxis.set_major_formatter(mdates.DateFormatter('%b %d'))\n",
    "ax2.set_xticks(ax2.get_xticks()[::3])\n",
    "maxyval = ef.Maharashtra.max()\n",
    "ax2.set_ylim([0,maxyval])\n",
    "ax2.text(0.05, 0.9,'Maharashtra', transform = ax2.transAxes, fontsize=20);\n",
    "ax2.spines['right'].set_visible(False)\n",
    "ax2.spines['top'].set_visible(False)\n",
    "\n",
    "\n",
    "ax3 = fig.add_subplot(gs[1,1])\n",
    "ef = df.loc['Tamil Nadu'].rename_axis('date').reset_index()\n",
    "ef['date'] = ef['date'].astype('datetime64[ns]')\n",
    "ax3.bar(ef.date, ef['Tamil Nadu'],color = '#007acc',alpha=0.5,)\n",
    "ax3.xaxis.set_major_locator(mdates.WeekdayLocator())\n",
    "ax3.xaxis.set_major_formatter(mdates.DateFormatter('%b %d'))\n",
    "ax3.set_xticks(ax3.get_xticks()[::3])\n",
    "ax3.text(0.05, 0.9,'Tamil Nadu', transform = ax3.transAxes, fontsize=20);\n",
    "ax3.spines['right'].set_visible(False)\n",
    "ax3.spines['top'].set_visible(False)\n",
    "\n",
    "ax5 = fig.add_subplot(gs[1,3])\n",
    "ef = df.loc['Telangana'].rename_axis('date').reset_index()\n",
    "ef['date'] = ef['date'].astype('datetime64[ns]')\n",
    "ax5.bar(ef.date, ef['Telangana'],color = '#007acc',alpha=0.5,)\n",
    "ax5.xaxis.set_major_locator(mdates.WeekdayLocator())\n",
    "ax5.xaxis.set_major_formatter(mdates.DateFormatter('%b %d'))\n",
    "ax5.set_xticks(ax5.get_xticks()[::3])\n",
    "ax5.text(0.05, 0.9,'Telangana', transform = ax5.transAxes, fontsize=20);\n",
    "ax5.spines['right'].set_visible(False)\n",
    "ax5.spines['top'].set_visible(False)\n",
    "\n",
    "ax6 = fig.add_subplot(gs[1,4])\n",
    "ef = df.loc['Andhra Pradesh'].rename_axis('date').reset_index()\n",
    "ef['date'] = ef['date'].astype('datetime64[ns]')\n",
    "ax6.bar(ef.date, ef['Andhra Pradesh'],color = '#007acc',alpha=0.5,)\n",
    "ax6.xaxis.set_major_locator(mdates.WeekdayLocator())\n",
    "ax6.xaxis.set_major_formatter(mdates.DateFormatter('%b %d'))\n",
    "ax6.set_xticks(ax6.get_xticks()[::3])\n",
    "ax6.text(0.05, 1,'Andhra Pradesh', transform = ax6.transAxes, fontsize=20);\n",
    "ax6.spines['right'].set_visible(False)\n",
    "ax6.spines['top'].set_visible(False)\n",
    "\n",
    "ax4 = fig.add_subplot(gs[1,2])\n",
    "ef = df.loc['Delhi'].rename_axis('date').reset_index()\n",
    "ef['date'] = ef['date'].astype('datetime64[ns]')\n",
    "ax4.bar(ef.date, ef.Delhi,color = '#007acc',alpha=0.5)\n",
    "ax4.set_xticks([])\n",
    "ax4.xaxis.set_major_locator(mdates.WeekdayLocator())\n",
    "ax4.xaxis.set_major_formatter(mdates.DateFormatter('%b %d'))\n",
    "ax4.set_xticks(ax4.get_xticks()[::3])\n",
    "ax4.spines['right'].set_visible(False)\n",
    "ax4.spines['top'].set_visible(False)\n",
    "\n",
    "ax4.text(0.05, 1,'Delhi', transform = ax4.transAxes, fontsize=20)\n",
    "\n",
    "for i in range(n):\n",
    "    \n",
    "    ax.append(fig.add_subplot(gs[i+2,:]))\n",
    "    ef = df.iloc[i+3].rename_axis('date').reset_index()\n",
    "    ef['date'] = ef['date'].astype('datetime64[ns]')\n",
    "    ax[i].bar(ef.date,ef.iloc[:,-1],color = '#007acc',alpha=0.3)\n",
    "    ax[i].plot(ef.date,ef.iloc[:,-1],marker='o',color='#007acc')\n",
    "    ax[i].text(0.02,0.5,f'{ef.columns.values[-1]}',transform = ax[i].transAxes, fontsize = 20);\n",
    "    ax[i].xaxis.set_major_locator(mdates.WeekdayLocator())\n",
    "    ax[i].xaxis.set_major_formatter(mdates.DateFormatter('%b %d'))\n",
    "    ax[i].set_ylim([0,7000])\n",
    "    ax[i].spines['right'].set_visible(False)\n",
    "    ax[i].spines['top'].set_visible(False)\n",
    "plt.tight_layout()\n"
   ]
  },
  {
   "cell_type": "code",
   "execution_count": 20,
   "metadata": {
    "execution": {
     "iopub.execute_input": "2021-01-16T07:08:49.557825Z",
     "iopub.status.busy": "2021-01-16T07:08:49.557189Z",
     "iopub.status.idle": "2021-01-16T07:08:49.559395Z",
     "shell.execute_reply": "2021-01-16T07:08:49.559988Z"
    },
    "papermill": {
     "duration": 0.03948,
     "end_time": "2021-01-16T07:08:49.560142",
     "exception": false,
     "start_time": "2021-01-16T07:08:49.520662",
     "status": "completed"
    },
    "tags": []
   },
   "outputs": [
    {
     "name": "stdout",
     "output_type": "stream",
     "text": [
      "                                   states    Cases  Deaths   PCases  PDeaths  Cases (+)  Deaths (+)  Fatality Rate\n",
      "                              Maharashtra  1984768   50336  1984768    50336          0           0           2.54\n",
      "                                Karnataka   930668   12158   930668    12158          0           0           1.31\n",
      "                           Andhra Pradesh   885710    7139   885710     7139          0           0           0.81\n",
      "                                   Kerala   836884    3416   836884     3416          0           0           0.41\n",
      "                               Tamil Nadu   829573   12251   829573    12251          0           0           1.48\n",
      "                                    Delhi   631884   10732   631884    10732          0           0           1.70\n",
      "                            Uttar Pradesh   595614    8558   595614     8558          0           0           1.44\n",
      "                              West Bengal   564098   10026   564098    10026          0           0           1.78\n",
      "                                   Odisha   332949    1951   332949     1951          0           0           0.59\n",
      "                                Rajasthan   314682    2744   314682     2744          0           0           0.87\n",
      "                             Chhattisgarh   292612    3544   292612     3544          0           0           1.21\n",
      "                                Telangana   291118    1574   291118     1574          0           0           0.54\n",
      "                                  Haryana   265964    2979   265964     2979          0           0           1.12\n",
      "                                    Bihar   258289    1449   258289     1449          0           0           0.56\n",
      "                                  Gujarat   254849    4360   254849     4360          0           0           1.71\n",
      "                           Madhya Pradesh   250858    3746   250858     3746          0           0           1.49\n",
      "                                    Assam   216777    1066   216777     1066          0           0           0.49\n",
      "                                   Punjab   170191    5485   170191     5485          0           0           3.22\n",
      "                        Jammu and Kashmir   123108    1920   123108     1920          0           0           1.56\n",
      "                                Jharkhand   117480    1049   117480     1049          0           0           0.89\n",
      "                              Uttarakhand    94465    1602    94465     1602          0           0           1.70\n",
      "                         Himachal Pradesh    56802     951    56802      951          0           0           1.67\n",
      "                                      Goa    52262     753    52262      753          0           0           1.44\n",
      "                               Puducherry    38595     640    38595      640          0           0           1.66\n",
      "                                  Tripura    33322     387    33322      387          0           0           1.16\n",
      "                                  Manipur    28811     365    28811      365          0           0           1.27\n",
      "                               Chandigarh    20464     330    20464      330          0           0           1.61\n",
      "                        Arunachal Pradesh    16798      56    16798       56          0           0           0.33\n",
      "                                Meghalaya    13691     144    13691      144          0           0           1.05\n",
      "                                 Nagaland    12039      88    12039       88          0           0           0.73\n",
      "                                   Ladakh     9648     128     9648      128          0           0           1.33\n",
      "                                   Sikkim     6024     130     6024      130          0           0           2.16\n",
      "              Andaman and Nicobar Islands     4979      62     4979       62          0           0           1.25\n",
      "                                  Mizoram     4310       9     4310        9          0           0           0.21\n",
      " Dadra and Nagar Haveli and Daman and Diu     3373       2     3373        2          0           0           0.06\n",
      "                              Lakshadweep        0       0        0        0          0           0            NaN\n"
     ]
    }
   ],
   "source": [
    "#hide_input\n",
    "print(df_table.to_string(index=False))"
   ]
  },
  {
   "cell_type": "code",
   "execution_count": null,
   "metadata": {
    "papermill": {
     "duration": 0.023721,
     "end_time": "2021-01-16T07:08:49.607687",
     "exception": false,
     "start_time": "2021-01-16T07:08:49.583966",
     "status": "completed"
    },
    "tags": []
   },
   "outputs": [],
   "source": []
  },
  {
   "cell_type": "code",
   "execution_count": null,
   "metadata": {
    "papermill": {
     "duration": 0.023949,
     "end_time": "2021-01-16T07:08:49.655625",
     "exception": false,
     "start_time": "2021-01-16T07:08:49.631676",
     "status": "completed"
    },
    "tags": []
   },
   "outputs": [],
   "source": []
  }
 ],
 "metadata": {
  "kernelspec": {
   "display_name": "Python 3",
   "language": "python",
   "name": "python3"
  },
  "language_info": {
   "codemirror_mode": {
    "name": "ipython",
    "version": 3
   },
   "file_extension": ".py",
   "mimetype": "text/x-python",
   "name": "python",
   "nbconvert_exporter": "python",
   "pygments_lexer": "ipython3",
   "version": "3.6.12"
  },
  "papermill": {
   "duration": 17.102705,
   "end_time": "2021-01-16T07:08:50.290184",
   "environment_variables": {},
   "exception": null,
   "input_path": "latest.ipynb",
   "output_path": "latest.ipynb",
   "parameters": {},
   "start_time": "2021-01-16T07:08:33.187479",
   "version": "2.1.2"
  }
 },
 "nbformat": 4,
 "nbformat_minor": 4
}