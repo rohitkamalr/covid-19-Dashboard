{
 "cells": [
  {
   "cell_type": "markdown",
   "metadata": {
    "papermill": {
     "duration": 0.021,
     "end_time": "2020-08-18T11:51:44.875688",
     "exception": false,
     "start_time": "2020-08-18T11:51:44.854688",
     "status": "completed"
    },
    "tags": []
   },
   "source": [
    "# Latest COVID-19 India Matplotlib Overview"
   ]
  },
  {
   "cell_type": "code",
   "execution_count": 1,
   "metadata": {
    "execution": {
     "iopub.execute_input": "2020-08-18T11:51:44.914044Z",
     "iopub.status.busy": "2020-08-18T11:51:44.913314Z",
     "iopub.status.idle": "2020-08-18T11:51:45.539174Z",
     "shell.execute_reply": "2020-08-18T11:51:45.538159Z"
    },
    "papermill": {
     "duration": 0.647665,
     "end_time": "2020-08-18T11:51:45.539369",
     "exception": false,
     "start_time": "2020-08-18T11:51:44.891704",
     "status": "completed"
    },
    "tags": []
   },
   "outputs": [],
   "source": [
    "#hide\n",
    "import pandas as pd\n",
    "import numpy as np\n",
    "import requests\n",
    "import json\n",
    "import matplotlib.pyplot as plt\n",
    "import matplotlib.dates as mdates\n",
    "import matplotlib as mpl\n",
    "from IPython.core.display import display,HTML\n",
    "%matplotlib inline\n",
    "from datetime import date"
   ]
  },
  {
   "cell_type": "code",
   "execution_count": 2,
   "metadata": {
    "execution": {
     "iopub.execute_input": "2020-08-18T11:51:45.579840Z",
     "iopub.status.busy": "2020-08-18T11:51:45.578959Z",
     "iopub.status.idle": "2020-08-18T11:51:46.071926Z",
     "shell.execute_reply": "2020-08-18T11:51:46.071217Z"
    },
    "papermill": {
     "duration": 0.516836,
     "end_time": "2020-08-18T11:51:46.072081",
     "exception": false,
     "start_time": "2020-08-18T11:51:45.555245",
     "status": "completed"
    },
    "tags": []
   },
   "outputs": [],
   "source": [
    "#hide\n",
    "df  = pd.read_csv('https://api.covid19india.org/csv/latest/states.csv')\n",
    "df = df[['Date','State','Confirmed','Deceased']]\n",
    "df = df.rename(columns={'Confirmed':'Cases', \"Deceased\":'Deaths'})\n",
    "df_cases = df[[\"Date\",'State','Cases']]\n",
    "df_deaths = df[['Date','State','Deaths']]\n",
    "df_cases1 = df_cases.groupby('Date')\n",
    "df_deaths1= df_deaths.groupby('Date')"
   ]
  },
  {
   "cell_type": "code",
   "execution_count": 3,
   "metadata": {
    "execution": {
     "iopub.execute_input": "2020-08-18T11:51:46.110232Z",
     "iopub.status.busy": "2020-08-18T11:51:46.109497Z",
     "iopub.status.idle": "2020-08-18T11:51:46.128151Z",
     "shell.execute_reply": "2020-08-18T11:51:46.127412Z"
    },
    "papermill": {
     "duration": 0.03984,
     "end_time": "2020-08-18T11:51:46.128331",
     "exception": false,
     "start_time": "2020-08-18T11:51:46.088491",
     "status": "completed"
    },
    "tags": []
   },
   "outputs": [],
   "source": [
    "#hide\n",
    "df_snap = pd.read_csv('data/SnapshotCases-28-July.csv')\n",
    "arr_states = df_snap['states'].unique()\n",
    "arr_dates = df['Date'].unique()\n",
    "df_snap = df_snap.set_index('states')"
   ]
  },
  {
   "cell_type": "code",
   "execution_count": 4,
   "metadata": {
    "execution": {
     "iopub.execute_input": "2020-08-18T11:51:46.168612Z",
     "iopub.status.busy": "2020-08-18T11:51:46.167900Z",
     "iopub.status.idle": "2020-08-18T11:51:46.170367Z",
     "shell.execute_reply": "2020-08-18T11:51:46.170859Z"
    },
    "papermill": {
     "duration": 0.026899,
     "end_time": "2020-08-18T11:51:46.171023",
     "exception": false,
     "start_time": "2020-08-18T11:51:46.144124",
     "status": "completed"
    },
    "tags": []
   },
   "outputs": [
    {
     "data": {
      "text/plain": [
       "array(['Andaman and Nicobar Islands', 'Andhra Pradesh',\n",
       "       'Arunachal Pradesh', 'Assam', 'Bihar', 'Chandigarh',\n",
       "       'Dadra and Nagar Haveli and Daman and Diu', 'Delhi', 'Goa',\n",
       "       'Gujarat', 'Haryana', 'Himachal Pradesh', 'Jammu and Kashmir',\n",
       "       'Jharkhand', 'Karnataka', 'Kerala', 'Lakshadweep',\n",
       "       'Madhya Pradesh', 'Maharashtra', 'Manipur', 'Meghalaya', 'Mizoram',\n",
       "       'Nagaland', 'Odisha', 'Puducherry', 'Punjab', 'Rajasthan',\n",
       "       'Sikkim', 'Tamil Nadu', 'Telangana', 'Tripura', 'Uttar Pradesh',\n",
       "       'West Bengal', 'Chhattisgarh', 'Ladakh', 'Uttarakhand'],\n",
       "      dtype=object)"
      ]
     },
     "execution_count": 4,
     "metadata": {},
     "output_type": "execute_result"
    }
   ],
   "source": [
    "#hide\n",
    "arr_states[-9] = 'Puducherry'\n",
    "arr_states[-10] = 'Odisha'\n",
    "arr_states[6] = 'Dadra and Nagar Haveli and Daman and Diu'\n",
    "arr_states = np.append(arr_states,np.array(['Chhattisgarh','Ladakh','Uttarakhand']))\n",
    "arr_states"
   ]
  },
  {
   "cell_type": "code",
   "execution_count": 5,
   "metadata": {
    "execution": {
     "iopub.execute_input": "2020-08-18T11:51:46.214306Z",
     "iopub.status.busy": "2020-08-18T11:51:46.213396Z",
     "iopub.status.idle": "2020-08-18T11:51:46.221554Z",
     "shell.execute_reply": "2020-08-18T11:51:46.220975Z"
    },
    "papermill": {
     "duration": 0.034777,
     "end_time": "2020-08-18T11:51:46.221770",
     "exception": false,
     "start_time": "2020-08-18T11:51:46.186993",
     "status": "completed"
    },
    "tags": []
   },
   "outputs": [],
   "source": [
    "#hide\n",
    "dates = []\n",
    "for i in arr_dates:\n",
    "    if i>='2020-07-01':\n",
    "        dates.append(i)\n",
    "dict = {'states':dates}\n",
    "for i in arr_states:\n",
    "    dict[i] = [0]*len(dates)\n",
    "dft_cases = pd.DataFrame(dict)\n",
    "dft_deaths = pd.DataFrame(dict)\n"
   ]
  },
  {
   "cell_type": "code",
   "execution_count": 6,
   "metadata": {
    "execution": {
     "iopub.execute_input": "2020-08-18T11:51:46.264257Z",
     "iopub.status.busy": "2020-08-18T11:51:46.263425Z",
     "iopub.status.idle": "2020-08-18T11:51:46.953342Z",
     "shell.execute_reply": "2020-08-18T11:51:46.952776Z"
    },
    "papermill": {
     "duration": 0.715299,
     "end_time": "2020-08-18T11:51:46.953526",
     "exception": false,
     "start_time": "2020-08-18T11:51:46.238227",
     "status": "completed"
    },
    "tags": []
   },
   "outputs": [],
   "source": [
    "#hide\n",
    "for i in range(len(dates)):\n",
    "    df1_deaths = df_deaths1.get_group(dates[i])\n",
    "    for j in range(len(df1_deaths.index)):\n",
    "        if df1_deaths.iloc[j,1] in arr_states:\n",
    "            dft_deaths.loc[i,df1_deaths.iloc[j,1]] = df1_deaths.iloc[j,2]\n",
    "dft_deaths = dft_deaths.set_index('states')"
   ]
  },
  {
   "cell_type": "code",
   "execution_count": 7,
   "metadata": {
    "execution": {
     "iopub.execute_input": "2020-08-18T11:51:46.997099Z",
     "iopub.status.busy": "2020-08-18T11:51:46.996470Z",
     "iopub.status.idle": "2020-08-18T11:51:47.699696Z",
     "shell.execute_reply": "2020-08-18T11:51:47.698559Z"
    },
    "papermill": {
     "duration": 0.730079,
     "end_time": "2020-08-18T11:51:47.699948",
     "exception": false,
     "start_time": "2020-08-18T11:51:46.969869",
     "status": "completed"
    },
    "tags": []
   },
   "outputs": [],
   "source": [
    "#hide\n",
    "for i in range(len(dates)):\n",
    "    df1_cases = df_cases1.get_group(dates[i])\n",
    "    for j in range(len(df1_cases.index)):\n",
    "        if df1_cases.iloc[j,1] in arr_states:\n",
    "            dft_cases.loc[i,df1_cases.iloc[j,1]] = df1_cases.iloc[j,2]\n",
    "dft_cases = dft_cases.set_index('states')"
   ]
  },
  {
   "cell_type": "code",
   "execution_count": 8,
   "metadata": {
    "execution": {
     "iopub.execute_input": "2020-08-18T11:51:47.741086Z",
     "iopub.status.busy": "2020-08-18T11:51:47.739961Z",
     "iopub.status.idle": "2020-08-18T11:51:47.742023Z",
     "shell.execute_reply": "2020-08-18T11:51:47.742689Z"
    },
    "papermill": {
     "duration": 0.026283,
     "end_time": "2020-08-18T11:51:47.742895",
     "exception": false,
     "start_time": "2020-08-18T11:51:47.716612",
     "status": "completed"
    },
    "tags": []
   },
   "outputs": [],
   "source": [
    "#hide\n",
    "dft_cases = dft_cases.T\n",
    "dft_deaths = dft_deaths.T\n",
    "dt_today = dates[-1]\n",
    "dt_yday = dates[-2]"
   ]
  },
  {
   "cell_type": "code",
   "execution_count": 9,
   "metadata": {
    "execution": {
     "iopub.execute_input": "2020-08-18T11:51:47.786555Z",
     "iopub.status.busy": "2020-08-18T11:51:47.785868Z",
     "iopub.status.idle": "2020-08-18T11:51:47.787579Z",
     "shell.execute_reply": "2020-08-18T11:51:47.788060Z"
    },
    "papermill": {
     "duration": 0.029422,
     "end_time": "2020-08-18T11:51:47.788236",
     "exception": false,
     "start_time": "2020-08-18T11:51:47.758814",
     "status": "completed"
    },
    "tags": []
   },
   "outputs": [],
   "source": [
    "#hide\n",
    "dft_cases = dft_cases.reset_index()\n",
    "dft_deaths = dft_deaths.reset_index()\n",
    "dft_cases = dft_cases.rename(columns = {'index':'state'})\n",
    "dft_deaths = dft_deaths.rename(columns = {'index':'state'})"
   ]
  },
  {
   "cell_type": "code",
   "execution_count": 10,
   "metadata": {
    "execution": {
     "iopub.execute_input": "2020-08-18T11:51:47.832890Z",
     "iopub.status.busy": "2020-08-18T11:51:47.832258Z",
     "iopub.status.idle": "2020-08-18T11:51:47.833944Z",
     "shell.execute_reply": "2020-08-18T11:51:47.834404Z"
    },
    "papermill": {
     "duration": 0.030394,
     "end_time": "2020-08-18T11:51:47.834563",
     "exception": false,
     "start_time": "2020-08-18T11:51:47.804169",
     "status": "completed"
    },
    "tags": []
   },
   "outputs": [],
   "source": [
    "#hide\n",
    "dfc_cases = dft_cases.groupby('state')[dt_today].sum()\n",
    "dfc_deaths = dft_deaths.groupby('state')[dt_today].sum()\n",
    "dfp_cases = dft_cases.groupby('state')[dt_yday].sum()\n",
    "dfp_deaths = dft_deaths.groupby('state')[dt_yday].sum()"
   ]
  },
  {
   "cell_type": "code",
   "execution_count": 11,
   "metadata": {
    "execution": {
     "iopub.execute_input": "2020-08-18T11:51:47.876081Z",
     "iopub.status.busy": "2020-08-18T11:51:47.875385Z",
     "iopub.status.idle": "2020-08-18T11:51:47.889163Z",
     "shell.execute_reply": "2020-08-18T11:51:47.888620Z"
    },
    "papermill": {
     "duration": 0.038934,
     "end_time": "2020-08-18T11:51:47.889314",
     "exception": false,
     "start_time": "2020-08-18T11:51:47.850380",
     "status": "completed"
    },
    "tags": []
   },
   "outputs": [
    {
     "data": {
      "text/html": [
       "<div>\n",
       "<style scoped>\n",
       "    .dataframe tbody tr th:only-of-type {\n",
       "        vertical-align: middle;\n",
       "    }\n",
       "\n",
       "    .dataframe tbody tr th {\n",
       "        vertical-align: top;\n",
       "    }\n",
       "\n",
       "    .dataframe thead th {\n",
       "        text-align: right;\n",
       "    }\n",
       "</style>\n",
       "<table border=\"1\" class=\"dataframe\">\n",
       "  <thead>\n",
       "    <tr style=\"text-align: right;\">\n",
       "      <th></th>\n",
       "      <th>states</th>\n",
       "      <th>Cases</th>\n",
       "      <th>Deaths</th>\n",
       "      <th>PCases</th>\n",
       "      <th>PDeaths</th>\n",
       "    </tr>\n",
       "  </thead>\n",
       "  <tbody>\n",
       "    <tr>\n",
       "      <th>0</th>\n",
       "      <td>Maharashtra</td>\n",
       "      <td>604358</td>\n",
       "      <td>20265</td>\n",
       "      <td>604358</td>\n",
       "      <td>20265</td>\n",
       "    </tr>\n",
       "    <tr>\n",
       "      <th>1</th>\n",
       "      <td>Tamil Nadu</td>\n",
       "      <td>343945</td>\n",
       "      <td>5886</td>\n",
       "      <td>343945</td>\n",
       "      <td>5886</td>\n",
       "    </tr>\n",
       "    <tr>\n",
       "      <th>2</th>\n",
       "      <td>Andhra Pradesh</td>\n",
       "      <td>306261</td>\n",
       "      <td>2820</td>\n",
       "      <td>296609</td>\n",
       "      <td>2732</td>\n",
       "    </tr>\n",
       "    <tr>\n",
       "      <th>3</th>\n",
       "      <td>Karnataka</td>\n",
       "      <td>233283</td>\n",
       "      <td>4071</td>\n",
       "      <td>233283</td>\n",
       "      <td>4071</td>\n",
       "    </tr>\n",
       "    <tr>\n",
       "      <th>4</th>\n",
       "      <td>Uttar Pradesh</td>\n",
       "      <td>158216</td>\n",
       "      <td>2515</td>\n",
       "      <td>158216</td>\n",
       "      <td>2515</td>\n",
       "    </tr>\n",
       "  </tbody>\n",
       "</table>\n",
       "</div>"
      ],
      "text/plain": [
       "           states   Cases  Deaths  PCases  PDeaths\n",
       "0     Maharashtra  604358   20265  604358    20265\n",
       "1      Tamil Nadu  343945    5886  343945     5886\n",
       "2  Andhra Pradesh  306261    2820  296609     2732\n",
       "3       Karnataka  233283    4071  233283     4071\n",
       "4   Uttar Pradesh  158216    2515  158216     2515"
      ]
     },
     "execution_count": 11,
     "metadata": {},
     "output_type": "execute_result"
    }
   ],
   "source": [
    "#hide\n",
    "df_table = pd.DataFrame({'states': dfc_cases.index, 'Cases': dfc_cases.values, 'Deaths': dfc_deaths.values, 'PCases': dfp_cases.values, 'PDeaths': dfp_deaths.values}).set_index('states')\n",
    "df_table = df_table.sort_values(by = ['Cases','Deaths'], ascending = [False, False])\n",
    "df_table = df_table.reset_index()\n",
    "df_table.head()"
   ]
  },
  {
   "cell_type": "code",
   "execution_count": 12,
   "metadata": {
    "execution": {
     "iopub.execute_input": "2020-08-18T11:51:47.928852Z",
     "iopub.status.busy": "2020-08-18T11:51:47.928202Z",
     "iopub.status.idle": "2020-08-18T11:51:47.938321Z",
     "shell.execute_reply": "2020-08-18T11:51:47.937758Z"
    },
    "papermill": {
     "duration": 0.032665,
     "end_time": "2020-08-18T11:51:47.938479",
     "exception": false,
     "start_time": "2020-08-18T11:51:47.905814",
     "status": "completed"
    },
    "tags": []
   },
   "outputs": [],
   "source": [
    "#hide\n",
    "for c in 'Cases, Deaths'.split(', '):\n",
    "    df_table[f'{c} (+)'] = (df_table[c] - df_table[f'P{c}']).clip(0)\n",
    "df_table['Fatality Rate'] = (100* df_table['Deaths']/ df_table['Cases']).round(2)"
   ]
  },
  {
   "cell_type": "code",
   "execution_count": 13,
   "metadata": {
    "execution": {
     "iopub.execute_input": "2020-08-18T11:51:47.982838Z",
     "iopub.status.busy": "2020-08-18T11:51:47.982179Z",
     "iopub.status.idle": "2020-08-18T11:51:47.986768Z",
     "shell.execute_reply": "2020-08-18T11:51:47.987352Z"
    },
    "papermill": {
     "duration": 0.032655,
     "end_time": "2020-08-18T11:51:47.987520",
     "exception": false,
     "start_time": "2020-08-18T11:51:47.954865",
     "status": "completed"
    },
    "tags": []
   },
   "outputs": [
    {
     "data": {
      "text/html": [
       "<div>\n",
       "<style scoped>\n",
       "    .dataframe tbody tr th:only-of-type {\n",
       "        vertical-align: middle;\n",
       "    }\n",
       "\n",
       "    .dataframe tbody tr th {\n",
       "        vertical-align: top;\n",
       "    }\n",
       "\n",
       "    .dataframe thead th {\n",
       "        text-align: right;\n",
       "    }\n",
       "</style>\n",
       "<table border=\"1\" class=\"dataframe\">\n",
       "  <thead>\n",
       "    <tr style=\"text-align: right;\">\n",
       "      <th></th>\n",
       "      <th>states</th>\n",
       "      <th>Cases</th>\n",
       "      <th>Deaths</th>\n",
       "      <th>PCases</th>\n",
       "      <th>PDeaths</th>\n",
       "      <th>Cases (+)</th>\n",
       "      <th>Deaths (+)</th>\n",
       "      <th>Fatality Rate</th>\n",
       "    </tr>\n",
       "  </thead>\n",
       "  <tbody>\n",
       "    <tr>\n",
       "      <th>0</th>\n",
       "      <td>Maharashtra</td>\n",
       "      <td>604358</td>\n",
       "      <td>20265</td>\n",
       "      <td>604358</td>\n",
       "      <td>20265</td>\n",
       "      <td>0</td>\n",
       "      <td>0</td>\n",
       "      <td>3.35</td>\n",
       "    </tr>\n",
       "    <tr>\n",
       "      <th>1</th>\n",
       "      <td>Tamil Nadu</td>\n",
       "      <td>343945</td>\n",
       "      <td>5886</td>\n",
       "      <td>343945</td>\n",
       "      <td>5886</td>\n",
       "      <td>0</td>\n",
       "      <td>0</td>\n",
       "      <td>1.71</td>\n",
       "    </tr>\n",
       "    <tr>\n",
       "      <th>2</th>\n",
       "      <td>Andhra Pradesh</td>\n",
       "      <td>306261</td>\n",
       "      <td>2820</td>\n",
       "      <td>296609</td>\n",
       "      <td>2732</td>\n",
       "      <td>9652</td>\n",
       "      <td>88</td>\n",
       "      <td>0.92</td>\n",
       "    </tr>\n",
       "    <tr>\n",
       "      <th>3</th>\n",
       "      <td>Karnataka</td>\n",
       "      <td>233283</td>\n",
       "      <td>4071</td>\n",
       "      <td>233283</td>\n",
       "      <td>4071</td>\n",
       "      <td>0</td>\n",
       "      <td>0</td>\n",
       "      <td>1.75</td>\n",
       "    </tr>\n",
       "    <tr>\n",
       "      <th>4</th>\n",
       "      <td>Uttar Pradesh</td>\n",
       "      <td>158216</td>\n",
       "      <td>2515</td>\n",
       "      <td>158216</td>\n",
       "      <td>2515</td>\n",
       "      <td>0</td>\n",
       "      <td>0</td>\n",
       "      <td>1.59</td>\n",
       "    </tr>\n",
       "  </tbody>\n",
       "</table>\n",
       "</div>"
      ],
      "text/plain": [
       "           states   Cases  Deaths  PCases  PDeaths  Cases (+)  Deaths (+)  \\\n",
       "0     Maharashtra  604358   20265  604358    20265          0           0   \n",
       "1      Tamil Nadu  343945    5886  343945     5886          0           0   \n",
       "2  Andhra Pradesh  306261    2820  296609     2732       9652          88   \n",
       "3       Karnataka  233283    4071  233283     4071          0           0   \n",
       "4   Uttar Pradesh  158216    2515  158216     2515          0           0   \n",
       "\n",
       "   Fatality Rate  \n",
       "0           3.35  \n",
       "1           1.71  \n",
       "2           0.92  \n",
       "3           1.75  \n",
       "4           1.59  "
      ]
     },
     "execution_count": 13,
     "metadata": {},
     "output_type": "execute_result"
    }
   ],
   "source": [
    "#hide\n",
    "df_table.head()"
   ]
  },
  {
   "cell_type": "code",
   "execution_count": 14,
   "metadata": {
    "execution": {
     "iopub.execute_input": "2020-08-18T11:51:48.029020Z",
     "iopub.status.busy": "2020-08-18T11:51:48.028314Z",
     "iopub.status.idle": "2020-08-18T11:51:48.047625Z",
     "shell.execute_reply": "2020-08-18T11:51:48.048150Z"
    },
    "papermill": {
     "duration": 0.043677,
     "end_time": "2020-08-18T11:51:48.048320",
     "exception": false,
     "start_time": "2020-08-18T11:51:48.004643",
     "status": "completed"
    },
    "tags": []
   },
   "outputs": [
    {
     "data": {
      "text/plain": [
       "{'updated': '2020-08-18',\n",
       " 'since': '2020-08-17',\n",
       " 'Cases': 2719499,\n",
       " 'PCases': 2701602,\n",
       " 'Deaths': 52060,\n",
       " 'PDeaths': 51925,\n",
       " 'Cases (+)': 17897,\n",
       " 'Deaths (+)': 135}"
      ]
     },
     "execution_count": 14,
     "metadata": {},
     "output_type": "execute_result"
    }
   ],
   "source": [
    "#hide\n",
    "summary = {'updated':dates[-1], 'since':dates[-2]}\n",
    "list_names = ['Cases', 'PCases', 'Deaths', 'PDeaths', 'Cases (+)', 'Deaths (+)']\n",
    "for name in list_names:\n",
    "    summary[name] = df_table.sum()[name]\n",
    "summary"
   ]
  },
  {
   "cell_type": "code",
   "execution_count": 15,
   "metadata": {
    "execution": {
     "iopub.execute_input": "2020-08-18T11:51:48.087880Z",
     "iopub.status.busy": "2020-08-18T11:51:48.087192Z",
     "iopub.status.idle": "2020-08-18T11:51:48.088783Z",
     "shell.execute_reply": "2020-08-18T11:51:48.089239Z"
    },
    "papermill": {
     "duration": 0.023602,
     "end_time": "2020-08-18T11:51:48.089418",
     "exception": false,
     "start_time": "2020-08-18T11:51:48.065816",
     "status": "completed"
    },
    "tags": []
   },
   "outputs": [],
   "source": [
    "#hide\n",
    "overview = '''\n",
    "<!-- #######  HTML!! #########-->\n",
    "<h1 style=\"color: #5e9ca0; text-align: center;\">India</h1>\n",
    "<p style=\"text-align: center;\">Last update: <strong>{update}</strong></p>\n",
    "<p style=\"text-align: center;\">Confirmed cases:</p>\n",
    "<p style=\"text-align: center;font-size:24px;\">{cases} (<span style=\"color: #ff0000;\">+{new}</span>)</p>\n",
    "<p style=\"text-align: center;\">Confirmed deaths:</p>\n",
    "<p style=\"text-align: center;font-size:24px;\">{deaths} (<span style=\"color: #ff0000;\">+{dnew}</span>)</p>\n",
    "'''"
   ]
  },
  {
   "cell_type": "code",
   "execution_count": 16,
   "metadata": {
    "execution": {
     "iopub.execute_input": "2020-08-18T11:51:48.130994Z",
     "iopub.status.busy": "2020-08-18T11:51:48.130288Z",
     "iopub.status.idle": "2020-08-18T11:51:48.134373Z",
     "shell.execute_reply": "2020-08-18T11:51:48.134862Z"
    },
    "papermill": {
     "duration": 0.028174,
     "end_time": "2020-08-18T11:51:48.135034",
     "exception": false,
     "start_time": "2020-08-18T11:51:48.106860",
     "status": "completed"
    },
    "tags": []
   },
   "outputs": [
    {
     "data": {
      "text/html": [
       "\n",
       "<!-- #######  HTML!! #########-->\n",
       "<h1 style=\"color: #5e9ca0; text-align: center;\">India</h1>\n",
       "<p style=\"text-align: center;\">Last update: <strong>2020-08-18</strong></p>\n",
       "<p style=\"text-align: center;\">Confirmed cases:</p>\n",
       "<p style=\"text-align: center;font-size:24px;\">2719499 (<span style=\"color: #ff0000;\">+17897</span>)</p>\n",
       "<p style=\"text-align: center;\">Confirmed deaths:</p>\n",
       "<p style=\"text-align: center;font-size:24px;\">52060 (<span style=\"color: #ff0000;\">+135</span>)</p>\n"
      ],
      "text/plain": [
       "<IPython.core.display.HTML object>"
      ]
     },
     "metadata": {},
     "output_type": "display_data"
    }
   ],
   "source": [
    "#hide_input\n",
    "update = summary['updated']\n",
    "cases = summary['Cases']\n",
    "new = summary['Cases (+)']\n",
    "deaths = summary['Deaths']\n",
    "dnew = summary['Deaths (+)']\n",
    "\n",
    "html = HTML(overview.format(update=update, cases=cases,new=new,deaths=deaths,dnew=dnew))\n",
    "\n",
    "display(html)"
   ]
  },
  {
   "cell_type": "code",
   "execution_count": 17,
   "metadata": {
    "execution": {
     "iopub.execute_input": "2020-08-18T11:51:48.184093Z",
     "iopub.status.busy": "2020-08-18T11:51:48.181652Z",
     "iopub.status.idle": "2020-08-18T11:51:48.186913Z",
     "shell.execute_reply": "2020-08-18T11:51:48.186386Z"
    },
    "papermill": {
     "duration": 0.034259,
     "end_time": "2020-08-18T11:51:48.187061",
     "exception": false,
     "start_time": "2020-08-18T11:51:48.152802",
     "status": "completed"
    },
    "tags": []
   },
   "outputs": [],
   "source": [
    "#hide\n",
    "dt_cols = list(dft_cases.columns[1:])\n",
    "dft_ct_new_cases = dft_cases.groupby('state')[dt_cols].sum().diff(axis=1).fillna(0).astype(int)\n",
    "dft_ct_new_cases.sort_values(by = dates[-1], ascending = False,inplace = True)"
   ]
  },
  {
   "cell_type": "code",
   "execution_count": 18,
   "metadata": {
    "execution": {
     "iopub.execute_input": "2020-08-18T11:51:48.241609Z",
     "iopub.status.busy": "2020-08-18T11:51:48.240959Z",
     "iopub.status.idle": "2020-08-18T11:51:48.246426Z",
     "shell.execute_reply": "2020-08-18T11:51:48.245889Z"
    },
    "papermill": {
     "duration": 0.04102,
     "end_time": "2020-08-18T11:51:48.246581",
     "exception": false,
     "start_time": "2020-08-18T11:51:48.205561",
     "status": "completed"
    },
    "tags": []
   },
   "outputs": [
    {
     "data": {
      "text/html": [
       "<div>\n",
       "<style scoped>\n",
       "    .dataframe tbody tr th:only-of-type {\n",
       "        vertical-align: middle;\n",
       "    }\n",
       "\n",
       "    .dataframe tbody tr th {\n",
       "        vertical-align: top;\n",
       "    }\n",
       "\n",
       "    .dataframe thead th {\n",
       "        text-align: right;\n",
       "    }\n",
       "</style>\n",
       "<table border=\"1\" class=\"dataframe\">\n",
       "  <thead>\n",
       "    <tr style=\"text-align: right;\">\n",
       "      <th>states</th>\n",
       "      <th>2020-07-01</th>\n",
       "      <th>2020-07-02</th>\n",
       "      <th>2020-07-03</th>\n",
       "      <th>2020-07-04</th>\n",
       "      <th>2020-07-05</th>\n",
       "      <th>2020-07-06</th>\n",
       "      <th>2020-07-07</th>\n",
       "      <th>2020-07-08</th>\n",
       "      <th>2020-07-09</th>\n",
       "      <th>2020-07-10</th>\n",
       "      <th>...</th>\n",
       "      <th>2020-08-09</th>\n",
       "      <th>2020-08-10</th>\n",
       "      <th>2020-08-11</th>\n",
       "      <th>2020-08-12</th>\n",
       "      <th>2020-08-13</th>\n",
       "      <th>2020-08-14</th>\n",
       "      <th>2020-08-15</th>\n",
       "      <th>2020-08-16</th>\n",
       "      <th>2020-08-17</th>\n",
       "      <th>2020-08-18</th>\n",
       "    </tr>\n",
       "    <tr>\n",
       "      <th>state</th>\n",
       "      <th></th>\n",
       "      <th></th>\n",
       "      <th></th>\n",
       "      <th></th>\n",
       "      <th></th>\n",
       "      <th></th>\n",
       "      <th></th>\n",
       "      <th></th>\n",
       "      <th></th>\n",
       "      <th></th>\n",
       "      <th></th>\n",
       "      <th></th>\n",
       "      <th></th>\n",
       "      <th></th>\n",
       "      <th></th>\n",
       "      <th></th>\n",
       "      <th></th>\n",
       "      <th></th>\n",
       "      <th></th>\n",
       "      <th></th>\n",
       "      <th></th>\n",
       "    </tr>\n",
       "  </thead>\n",
       "  <tbody>\n",
       "    <tr>\n",
       "      <th>Andhra Pradesh</th>\n",
       "      <td>0</td>\n",
       "      <td>845</td>\n",
       "      <td>837</td>\n",
       "      <td>765</td>\n",
       "      <td>998</td>\n",
       "      <td>1322</td>\n",
       "      <td>1178</td>\n",
       "      <td>1062</td>\n",
       "      <td>1555</td>\n",
       "      <td>1608</td>\n",
       "      <td>...</td>\n",
       "      <td>10820</td>\n",
       "      <td>7665</td>\n",
       "      <td>9024</td>\n",
       "      <td>9597</td>\n",
       "      <td>9996</td>\n",
       "      <td>8943</td>\n",
       "      <td>8732</td>\n",
       "      <td>8012</td>\n",
       "      <td>6780</td>\n",
       "      <td>9652</td>\n",
       "    </tr>\n",
       "    <tr>\n",
       "      <th>Bihar</th>\n",
       "      <td>0</td>\n",
       "      <td>478</td>\n",
       "      <td>426</td>\n",
       "      <td>349</td>\n",
       "      <td>403</td>\n",
       "      <td>280</td>\n",
       "      <td>385</td>\n",
       "      <td>749</td>\n",
       "      <td>704</td>\n",
       "      <td>352</td>\n",
       "      <td>...</td>\n",
       "      <td>3934</td>\n",
       "      <td>3021</td>\n",
       "      <td>4071</td>\n",
       "      <td>3741</td>\n",
       "      <td>3906</td>\n",
       "      <td>3911</td>\n",
       "      <td>3536</td>\n",
       "      <td>2187</td>\n",
       "      <td>2525</td>\n",
       "      <td>3257</td>\n",
       "    </tr>\n",
       "    <tr>\n",
       "      <th>Odisha</th>\n",
       "      <td>0</td>\n",
       "      <td>229</td>\n",
       "      <td>561</td>\n",
       "      <td>495</td>\n",
       "      <td>469</td>\n",
       "      <td>456</td>\n",
       "      <td>571</td>\n",
       "      <td>527</td>\n",
       "      <td>577</td>\n",
       "      <td>755</td>\n",
       "      <td>...</td>\n",
       "      <td>1734</td>\n",
       "      <td>1528</td>\n",
       "      <td>1341</td>\n",
       "      <td>1876</td>\n",
       "      <td>1981</td>\n",
       "      <td>1977</td>\n",
       "      <td>2496</td>\n",
       "      <td>2924</td>\n",
       "      <td>2244</td>\n",
       "      <td>2239</td>\n",
       "    </tr>\n",
       "    <tr>\n",
       "      <th>Telangana</th>\n",
       "      <td>0</td>\n",
       "      <td>1213</td>\n",
       "      <td>1892</td>\n",
       "      <td>1850</td>\n",
       "      <td>1590</td>\n",
       "      <td>1831</td>\n",
       "      <td>1879</td>\n",
       "      <td>1924</td>\n",
       "      <td>1410</td>\n",
       "      <td>1278</td>\n",
       "      <td>...</td>\n",
       "      <td>1982</td>\n",
       "      <td>1256</td>\n",
       "      <td>1896</td>\n",
       "      <td>1897</td>\n",
       "      <td>1931</td>\n",
       "      <td>1921</td>\n",
       "      <td>1863</td>\n",
       "      <td>1102</td>\n",
       "      <td>894</td>\n",
       "      <td>1682</td>\n",
       "    </tr>\n",
       "    <tr>\n",
       "      <th>Rajasthan</th>\n",
       "      <td>0</td>\n",
       "      <td>350</td>\n",
       "      <td>390</td>\n",
       "      <td>480</td>\n",
       "      <td>632</td>\n",
       "      <td>524</td>\n",
       "      <td>716</td>\n",
       "      <td>659</td>\n",
       "      <td>500</td>\n",
       "      <td>611</td>\n",
       "      <td>...</td>\n",
       "      <td>1169</td>\n",
       "      <td>1173</td>\n",
       "      <td>1217</td>\n",
       "      <td>1213</td>\n",
       "      <td>1314</td>\n",
       "      <td>1278</td>\n",
       "      <td>1287</td>\n",
       "      <td>1317</td>\n",
       "      <td>1334</td>\n",
       "      <td>694</td>\n",
       "    </tr>\n",
       "  </tbody>\n",
       "</table>\n",
       "<p>5 rows × 49 columns</p>\n",
       "</div>"
      ],
      "text/plain": [
       "states          2020-07-01  2020-07-02  2020-07-03  2020-07-04  2020-07-05  \\\n",
       "state                                                                        \n",
       "Andhra Pradesh           0         845         837         765         998   \n",
       "Bihar                    0         478         426         349         403   \n",
       "Odisha                   0         229         561         495         469   \n",
       "Telangana                0        1213        1892        1850        1590   \n",
       "Rajasthan                0         350         390         480         632   \n",
       "\n",
       "states          2020-07-06  2020-07-07  2020-07-08  2020-07-09  2020-07-10  \\\n",
       "state                                                                        \n",
       "Andhra Pradesh        1322        1178        1062        1555        1608   \n",
       "Bihar                  280         385         749         704         352   \n",
       "Odisha                 456         571         527         577         755   \n",
       "Telangana             1831        1879        1924        1410        1278   \n",
       "Rajasthan              524         716         659         500         611   \n",
       "\n",
       "states          ...  2020-08-09  2020-08-10  2020-08-11  2020-08-12  \\\n",
       "state           ...                                                   \n",
       "Andhra Pradesh  ...       10820        7665        9024        9597   \n",
       "Bihar           ...        3934        3021        4071        3741   \n",
       "Odisha          ...        1734        1528        1341        1876   \n",
       "Telangana       ...        1982        1256        1896        1897   \n",
       "Rajasthan       ...        1169        1173        1217        1213   \n",
       "\n",
       "states          2020-08-13  2020-08-14  2020-08-15  2020-08-16  2020-08-17  \\\n",
       "state                                                                        \n",
       "Andhra Pradesh        9996        8943        8732        8012        6780   \n",
       "Bihar                 3906        3911        3536        2187        2525   \n",
       "Odisha                1981        1977        2496        2924        2244   \n",
       "Telangana             1931        1921        1863        1102         894   \n",
       "Rajasthan             1314        1278        1287        1317        1334   \n",
       "\n",
       "states          2020-08-18  \n",
       "state                       \n",
       "Andhra Pradesh        9652  \n",
       "Bihar                 3257  \n",
       "Odisha                2239  \n",
       "Telangana             1682  \n",
       "Rajasthan              694  \n",
       "\n",
       "[5 rows x 49 columns]"
      ]
     },
     "execution_count": 18,
     "metadata": {},
     "output_type": "execute_result"
    }
   ],
   "source": [
    "#hide\n",
    "dft_ct_new_cases.head()"
   ]
  },
  {
   "cell_type": "code",
   "execution_count": 19,
   "metadata": {
    "execution": {
     "iopub.execute_input": "2020-08-18T11:51:48.288425Z",
     "iopub.status.busy": "2020-08-18T11:51:48.287746Z",
     "iopub.status.idle": "2020-08-18T11:51:51.094835Z",
     "shell.execute_reply": "2020-08-18T11:51:51.095367Z"
    },
    "papermill": {
     "duration": 2.830245,
     "end_time": "2020-08-18T11:51:51.095530",
     "exception": false,
     "start_time": "2020-08-18T11:51:48.265285",
     "status": "completed"
    },
    "tags": []
   },
   "outputs": [
    {
     "data": {
      "image/png": "[encoded data removed]",
      "text/plain": [
       "<Figure size 1296x2016 with 11 Axes>"
      ]
     },
     "metadata": {
      "needs_background": "light"
     },
     "output_type": "display_data"
    }
   ],
   "source": [
    "#hide_input\n",
    "df = dft_ct_new_cases.copy()\n",
    "df.loc['Total'] = df.sum()\n",
    "n = 5\n",
    "ax = []\n",
    "fig = plt.figure(figsize = (18,28))\n",
    "gs = fig.add_gridspec(n+2, 5)\n",
    "# gs = fig.add_gridspec(2, 3)\n",
    "ax1 = fig.add_subplot(gs[0, :])\n",
    "ef = df.loc['Total'].rename_axis('date').reset_index()\n",
    "ef['date'] = ef['date'].astype('datetime64[ns]')\n",
    "ax1.bar(ef.date,ef.Total,alpha=0.3,color='#007acc')\n",
    "ax1.plot(ef.date,ef.Total , marker=\"o\", color='#007acc')\n",
    "ax1.xaxis.set_major_locator(mdates.WeekdayLocator())\n",
    "ax1.xaxis.set_major_formatter(mdates.DateFormatter('%b %d'))\n",
    "ax1.text(0.02, 0.5,'India daily case count', transform = ax1.transAxes, fontsize=25);\n",
    "ax1.spines['right'].set_visible(False)\n",
    "ax1.spines['top'].set_visible(False)\n",
    "\n",
    "ax2 = fig.add_subplot(gs[1,0])\n",
    "ef = df.loc['Maharashtra'].rename_axis('date').reset_index()\n",
    "ef['date'] = ef['date'].astype('datetime64[ns]')\n",
    "\n",
    "ax2.bar(ef.date, ef.Maharashtra,color = '#007acc',alpha=0.5)\n",
    "ax2.xaxis.set_major_locator(mdates.WeekdayLocator())\n",
    "ax2.xaxis.set_major_formatter(mdates.DateFormatter('%b %d'))\n",
    "ax2.set_xticks(ax2.get_xticks()[::3])\n",
    "maxyval = ef.Maharashtra.max()\n",
    "ax2.set_ylim([0,maxyval])\n",
    "ax2.text(0.05, 0.9,'Maharashtra', transform = ax2.transAxes, fontsize=20);\n",
    "ax2.spines['right'].set_visible(False)\n",
    "ax2.spines['top'].set_visible(False)\n",
    "\n",
    "\n",
    "ax3 = fig.add_subplot(gs[1,1])\n",
    "ef = df.loc['Tamil Nadu'].rename_axis('date').reset_index()\n",
    "ef['date'] = ef['date'].astype('datetime64[ns]')\n",
    "ax3.bar(ef.date, ef['Tamil Nadu'],color = '#007acc',alpha=0.5,)\n",
    "ax3.xaxis.set_major_locator(mdates.WeekdayLocator())\n",
    "ax3.xaxis.set_major_formatter(mdates.DateFormatter('%b %d'))\n",
    "ax3.set_xticks(ax3.get_xticks()[::3])\n",
    "ax3.text(0.05, 0.9,'Tamil Nadu', transform = ax3.transAxes, fontsize=20);\n",
    "ax3.spines['right'].set_visible(False)\n",
    "ax3.spines['top'].set_visible(False)\n",
    "\n",
    "ax5 = fig.add_subplot(gs[1,3])\n",
    "ef = df.loc['Telangana'].rename_axis('date').reset_index()\n",
    "ef['date'] = ef['date'].astype('datetime64[ns]')\n",
    "ax5.bar(ef.date, ef['Telangana'],color = '#007acc',alpha=0.5,)\n",
    "ax5.xaxis.set_major_locator(mdates.WeekdayLocator())\n",
    "ax5.xaxis.set_major_formatter(mdates.DateFormatter('%b %d'))\n",
    "ax5.set_xticks(ax5.get_xticks()[::3])\n",
    "ax5.text(0.05, 0.9,'Telangana', transform = ax5.transAxes, fontsize=20);\n",
    "ax5.spines['right'].set_visible(False)\n",
    "ax5.spines['top'].set_visible(False)\n",
    "\n",
    "ax6 = fig.add_subplot(gs[1,4])\n",
    "ef = df.loc['Andhra Pradesh'].rename_axis('date').reset_index()\n",
    "ef['date'] = ef['date'].astype('datetime64[ns]')\n",
    "ax6.bar(ef.date, ef['Andhra Pradesh'],color = '#007acc',alpha=0.5,)\n",
    "ax6.xaxis.set_major_locator(mdates.WeekdayLocator())\n",
    "ax6.xaxis.set_major_formatter(mdates.DateFormatter('%b %d'))\n",
    "ax6.set_xticks(ax6.get_xticks()[::3])\n",
    "ax6.text(0.05, 1,'Andhra Pradesh', transform = ax6.transAxes, fontsize=20);\n",
    "ax6.spines['right'].set_visible(False)\n",
    "ax6.spines['top'].set_visible(False)\n",
    "\n",
    "ax4 = fig.add_subplot(gs[1,2])\n",
    "ef = df.loc['Delhi'].rename_axis('date').reset_index()\n",
    "ef['date'] = ef['date'].astype('datetime64[ns]')\n",
    "ax4.bar(ef.date, ef.Delhi,color = '#007acc',alpha=0.5)\n",
    "ax4.set_xticks([])\n",
    "ax4.xaxis.set_major_locator(mdates.WeekdayLocator())\n",
    "ax4.xaxis.set_major_formatter(mdates.DateFormatter('%b %d'))\n",
    "ax4.set_xticks(ax4.get_xticks()[::3])\n",
    "ax4.spines['right'].set_visible(False)\n",
    "ax4.spines['top'].set_visible(False)\n",
    "\n",
    "ax4.text(0.05, 1,'Delhi', transform = ax4.transAxes, fontsize=20)\n",
    "\n",
    "for i in range(n):\n",
    "    \n",
    "    ax.append(fig.add_subplot(gs[i+2,:]))\n",
    "    ef = df.iloc[i+3].rename_axis('date').reset_index()\n",
    "    ef['date'] = ef['date'].astype('datetime64[ns]')\n",
    "    ax[i].bar(ef.date,ef.iloc[:,-1],color = '#007acc',alpha=0.3)\n",
    "    ax[i].plot(ef.date,ef.iloc[:,-1],marker='o',color='#007acc')\n",
    "    ax[i].text(0.02,0.5,f'{ef.columns.values[-1]}',transform = ax[i].transAxes, fontsize = 20);\n",
    "    ax[i].xaxis.set_major_locator(mdates.WeekdayLocator())\n",
    "    ax[i].xaxis.set_major_formatter(mdates.DateFormatter('%b %d'))\n",
    "    ax[i].set_ylim([0,7000])\n",
    "    ax[i].spines['right'].set_visible(False)\n",
    "    ax[i].spines['top'].set_visible(False)\n",
    "plt.tight_layout()\n"
   ]
  },
  {
   "cell_type": "code",
   "execution_count": 20,
   "metadata": {
    "execution": {
     "iopub.execute_input": "2020-08-18T11:51:51.158157Z",
     "iopub.status.busy": "2020-08-18T11:51:51.155587Z",
     "iopub.status.idle": "2020-08-18T11:51:51.160948Z",
     "shell.execute_reply": "2020-08-18T11:51:51.161519Z"
    },
    "papermill": {
     "duration": 0.044963,
     "end_time": "2020-08-18T11:51:51.163494",
     "exception": false,
     "start_time": "2020-08-18T11:51:51.118531",
     "status": "completed"
    },
    "tags": []
   },
   "outputs": [
    {
     "name": "stdout",
     "output_type": "stream",
     "text": [
      "                                   states   Cases  Deaths  PCases  PDeaths  Cases (+)  Deaths (+)  Fatality Rate\n",
      "                              Maharashtra  604358   20265  604358    20265          0           0           3.35\n",
      "                               Tamil Nadu  343945    5886  343945     5886          0           0           1.71\n",
      "                           Andhra Pradesh  306261    2820  296609     2732       9652          88           0.92\n",
      "                                Karnataka  233283    4071  233283     4071          0           0           1.75\n",
      "                            Uttar Pradesh  158216    2515  158216     2515          0           0           1.59\n",
      "                                    Delhi  153367    4214  153367     4214          0           0           2.75\n",
      "                              West Bengal  119578    2473  119578     2473          0           0           2.07\n",
      "                                    Bihar  109875     558  106618      542       3257          16           0.51\n",
      "                                Telangana   93937     711   92255      703       1682           8           0.76\n",
      "                                  Gujarat   79816    2800   79816     2800          0           0           3.51\n",
      "                                    Assam   79668     197   79668      197          0           0           0.25\n",
      "                                   Odisha   64533     415   62294      406       2239           9           0.64\n",
      "                                Rajasthan   63324     897   62630      887        694          10           1.42\n",
      "                                  Haryana   48040     550   48040      550          0           0           1.14\n",
      "                           Madhya Pradesh   46385    1128   46385     1128          0           0           2.43\n",
      "                                   Kerala   46140     170   46140      170          0           0           0.37\n",
      "                                   Punjab   32695     862   32695      862          0           0           2.64\n",
      "                        Jammu and Kashmir   28892     548   28892      548          0           0           1.90\n",
      "                                Jharkhand   24067     256   24067      255          0           1           1.06\n",
      "                             Chhattisgarh   16025     150   16025      150          0           0           0.94\n",
      "                              Uttarakhand   12493     158   12493      158          0           0           1.26\n",
      "                                      Goa   11994     111   11994      111          0           0           0.93\n",
      "                               Puducherry    8029     114    8029      114          0           0           1.42\n",
      "                                  Tripura    7424      62    7219       59        205           3           0.84\n",
      "                                  Manipur    4687      17    4687       17          0           0           0.36\n",
      "                         Himachal Pradesh    4208      18    4174       18         34           0           0.43\n",
      "                                 Nagaland    3520       7    3455        7         65           0           0.20\n",
      "                        Arunachal Pradesh    2741       5    2741        5          0           0           0.18\n",
      "              Andaman and Nicobar Islands    2445      29    2445       29          0           0           1.19\n",
      "                               Chandigarh    2216      30    2216       30          0           0           1.35\n",
      "                                   Ladakh    1966      14    1966       14          0           0           0.71\n",
      " Dadra and Nagar Haveli and Daman and Diu    1915       2    1908        2          7           0           0.10\n",
      "                                Meghalaya    1454       6    1418        6         36           0           0.41\n",
      "                                   Sikkim    1187       1    1187        1          0           0           0.08\n",
      "                                  Mizoram     815       0     789        0         26           0           0.00\n",
      "                              Lakshadweep       0       0       0        0          0           0            NaN\n"
     ]
    }
   ],
   "source": [
    "#hide_input\n",
    "print(df_table.to_string(index=False))"
   ]
  },
  {
   "cell_type": "code",
   "execution_count": null,
   "metadata": {
    "papermill": {
     "duration": 0.023505,
     "end_time": "2020-08-18T11:51:51.210514",
     "exception": false,
     "start_time": "2020-08-18T11:51:51.187009",
     "status": "completed"
    },
    "tags": []
   },
   "outputs": [],
   "source": []
  },
  {
   "cell_type": "code",
   "execution_count": null,
   "metadata": {
    "papermill": {
     "duration": 0.022113,
     "end_time": "2020-08-18T11:51:51.255163",
     "exception": false,
     "start_time": "2020-08-18T11:51:51.233050",
     "status": "completed"
    },
    "tags": []
   },
   "outputs": [],
   "source": []
  }
 ],
 "metadata": {
  "kernelspec": {
   "display_name": "Python 3",
   "language": "python",
   "name": "python3"
  },
  "language_info": {
   "codemirror_mode": {
    "name": "ipython",
    "version": 3
   },
   "file_extension": ".py",
   "mimetype": "text/x-python",
   "name": "python",
   "nbconvert_exporter": "python",
   "pygments_lexer": "ipython3",
   "version": "3.6.11"
  },
  "papermill": {
   "duration": 8.02544,
   "end_time": "2020-08-18T11:51:51.788377",
   "environment_variables": {},
   "exception": null,
   "input_path": "latest.ipynb",
   "output_path": "latest.ipynb",
   "parameters": {},
   "start_time": "2020-08-18T11:51:43.762937",
   "version": "2.1.2"
  }
 },
 "nbformat": 4,
 "nbformat_minor": 4
}