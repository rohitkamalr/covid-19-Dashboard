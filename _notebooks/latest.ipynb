{
 "cells": [
  {
   "cell_type": "markdown",
   "metadata": {
    "papermill": {
     "duration": 0.02033,
     "end_time": "2020-08-27T12:37:03.799087",
     "exception": false,
     "start_time": "2020-08-27T12:37:03.778757",
     "status": "completed"
    },
    "tags": []
   },
   "source": [
    "# Latest COVID-19 India Matplotlib Overview"
   ]
  },
  {
   "cell_type": "code",
   "execution_count": 1,
   "metadata": {
    "execution": {
     "iopub.execute_input": "2020-08-27T12:37:03.837748Z",
     "iopub.status.busy": "2020-08-27T12:37:03.837165Z",
     "iopub.status.idle": "2020-08-27T12:37:04.384743Z",
     "shell.execute_reply": "2020-08-27T12:37:04.383943Z"
    },
    "papermill": {
     "duration": 0.570876,
     "end_time": "2020-08-27T12:37:04.384958",
     "exception": false,
     "start_time": "2020-08-27T12:37:03.814082",
     "status": "completed"
    },
    "tags": []
   },
   "outputs": [],
   "source": [
    "#hide\n",
    "import pandas as pd\n",
    "import numpy as np\n",
    "import requests\n",
    "import json\n",
    "import matplotlib.pyplot as plt\n",
    "import matplotlib.dates as mdates\n",
    "import matplotlib as mpl\n",
    "from IPython.core.display import display,HTML\n",
    "%matplotlib inline\n",
    "from datetime import date"
   ]
  },
  {
   "cell_type": "code",
   "execution_count": 2,
   "metadata": {
    "execution": {
     "iopub.execute_input": "2020-08-27T12:37:04.426483Z",
     "iopub.status.busy": "2020-08-27T12:37:04.425583Z",
     "iopub.status.idle": "2020-08-27T12:37:04.709701Z",
     "shell.execute_reply": "2020-08-27T12:37:04.708978Z"
    },
    "papermill": {
     "duration": 0.307243,
     "end_time": "2020-08-27T12:37:04.709873",
     "exception": false,
     "start_time": "2020-08-27T12:37:04.402630",
     "status": "completed"
    },
    "tags": []
   },
   "outputs": [],
   "source": [
    "#hide\n",
    "df  = pd.read_csv('https://api.covid19india.org/csv/latest/states.csv')\n",
    "df = df[['Date','State','Confirmed','Deceased']]\n",
    "df = df.rename(columns={'Confirmed':'Cases', \"Deceased\":'Deaths'})\n",
    "df_cases = df[[\"Date\",'State','Cases']]\n",
    "df_deaths = df[['Date','State','Deaths']]\n",
    "df_cases1 = df_cases.groupby('Date')\n",
    "df_deaths1= df_deaths.groupby('Date')"
   ]
  },
  {
   "cell_type": "code",
   "execution_count": 3,
   "metadata": {
    "execution": {
     "iopub.execute_input": "2020-08-27T12:37:04.748728Z",
     "iopub.status.busy": "2020-08-27T12:37:04.748174Z",
     "iopub.status.idle": "2020-08-27T12:37:04.765358Z",
     "shell.execute_reply": "2020-08-27T12:37:04.764888Z"
    },
    "papermill": {
     "duration": 0.038318,
     "end_time": "2020-08-27T12:37:04.765487",
     "exception": false,
     "start_time": "2020-08-27T12:37:04.727169",
     "status": "completed"
    },
    "tags": []
   },
   "outputs": [],
   "source": [
    "#hide\n",
    "df_snap = pd.read_csv('data/SnapshotCases-28-July.csv')\n",
    "arr_states = df_snap['states'].unique()\n",
    "arr_dates = df['Date'].unique()\n",
    "df_snap = df_snap.set_index('states')"
   ]
  },
  {
   "cell_type": "code",
   "execution_count": 4,
   "metadata": {
    "execution": {
     "iopub.execute_input": "2020-08-27T12:37:04.801531Z",
     "iopub.status.busy": "2020-08-27T12:37:04.800952Z",
     "iopub.status.idle": "2020-08-27T12:37:04.803960Z",
     "shell.execute_reply": "2020-08-27T12:37:04.803492Z"
    },
    "papermill": {
     "duration": 0.024697,
     "end_time": "2020-08-27T12:37:04.804075",
     "exception": false,
     "start_time": "2020-08-27T12:37:04.779378",
     "status": "completed"
    },
    "tags": []
   },
   "outputs": [
    {
     "data": {
      "text/plain": [
       "array(['Andaman and Nicobar Islands', 'Andhra Pradesh',\n",
       "       'Arunachal Pradesh', 'Assam', 'Bihar', 'Chandigarh',\n",
       "       'Dadra and Nagar Haveli and Daman and Diu', 'Delhi', 'Goa',\n",
       "       'Gujarat', 'Haryana', 'Himachal Pradesh', 'Jammu and Kashmir',\n",
       "       'Jharkhand', 'Karnataka', 'Kerala', 'Lakshadweep',\n",
       "       'Madhya Pradesh', 'Maharashtra', 'Manipur', 'Meghalaya', 'Mizoram',\n",
       "       'Nagaland', 'Odisha', 'Puducherry', 'Punjab', 'Rajasthan',\n",
       "       'Sikkim', 'Tamil Nadu', 'Telangana', 'Tripura', 'Uttar Pradesh',\n",
       "       'West Bengal', 'Chhattisgarh', 'Ladakh', 'Uttarakhand'],\n",
       "      dtype=object)"
      ]
     },
     "execution_count": 4,
     "metadata": {},
     "output_type": "execute_result"
    }
   ],
   "source": [
    "#hide\n",
    "arr_states[-9] = 'Puducherry'\n",
    "arr_states[-10] = 'Odisha'\n",
    "arr_states[6] = 'Dadra and Nagar Haveli and Daman and Diu'\n",
    "arr_states = np.append(arr_states,np.array(['Chhattisgarh','Ladakh','Uttarakhand']))\n",
    "arr_states"
   ]
  },
  {
   "cell_type": "code",
   "execution_count": 5,
   "metadata": {
    "execution": {
     "iopub.execute_input": "2020-08-27T12:37:04.844974Z",
     "iopub.status.busy": "2020-08-27T12:37:04.844384Z",
     "iopub.status.idle": "2020-08-27T12:37:04.851505Z",
     "shell.execute_reply": "2020-08-27T12:37:04.850983Z"
    },
    "papermill": {
     "duration": 0.032881,
     "end_time": "2020-08-27T12:37:04.851631",
     "exception": false,
     "start_time": "2020-08-27T12:37:04.818750",
     "status": "completed"
    },
    "tags": []
   },
   "outputs": [],
   "source": [
    "#hide\n",
    "dates = []\n",
    "for i in arr_dates:\n",
    "    if i>='2020-07-01':\n",
    "        dates.append(i)\n",
    "dict = {'states':dates}\n",
    "for i in arr_states:\n",
    "    dict[i] = [0]*len(dates)\n",
    "dft_cases = pd.DataFrame(dict)\n",
    "dft_deaths = pd.DataFrame(dict)\n"
   ]
  },
  {
   "cell_type": "code",
   "execution_count": 6,
   "metadata": {
    "execution": {
     "iopub.execute_input": "2020-08-27T12:37:04.886593Z",
     "iopub.status.busy": "2020-08-27T12:37:04.886040Z",
     "iopub.status.idle": "2020-08-27T12:37:05.628118Z",
     "shell.execute_reply": "2020-08-27T12:37:05.628624Z"
    },
    "papermill": {
     "duration": 0.762881,
     "end_time": "2020-08-27T12:37:05.628779",
     "exception": false,
     "start_time": "2020-08-27T12:37:04.865898",
     "status": "completed"
    },
    "tags": []
   },
   "outputs": [],
   "source": [
    "#hide\n",
    "for i in range(len(dates)):\n",
    "    df1_deaths = df_deaths1.get_group(dates[i])\n",
    "    for j in range(len(df1_deaths.index)):\n",
    "        if df1_deaths.iloc[j,1] in arr_states:\n",
    "            dft_deaths.loc[i,df1_deaths.iloc[j,1]] = df1_deaths.iloc[j,2]\n",
    "dft_deaths = dft_deaths.set_index('states')"
   ]
  },
  {
   "cell_type": "code",
   "execution_count": 7,
   "metadata": {
    "execution": {
     "iopub.execute_input": "2020-08-27T12:37:05.664538Z",
     "iopub.status.busy": "2020-08-27T12:37:05.663947Z",
     "iopub.status.idle": "2020-08-27T12:37:06.399439Z",
     "shell.execute_reply": "2020-08-27T12:37:06.400075Z"
    },
    "papermill": {
     "duration": 0.756391,
     "end_time": "2020-08-27T12:37:06.400239",
     "exception": false,
     "start_time": "2020-08-27T12:37:05.643848",
     "status": "completed"
    },
    "tags": []
   },
   "outputs": [],
   "source": [
    "#hide\n",
    "for i in range(len(dates)):\n",
    "    df1_cases = df_cases1.get_group(dates[i])\n",
    "    for j in range(len(df1_cases.index)):\n",
    "        if df1_cases.iloc[j,1] in arr_states:\n",
    "            dft_cases.loc[i,df1_cases.iloc[j,1]] = df1_cases.iloc[j,2]\n",
    "dft_cases = dft_cases.set_index('states')"
   ]
  },
  {
   "cell_type": "code",
   "execution_count": 8,
   "metadata": {
    "execution": {
     "iopub.execute_input": "2020-08-27T12:37:06.439150Z",
     "iopub.status.busy": "2020-08-27T12:37:06.438223Z",
     "iopub.status.idle": "2020-08-27T12:37:06.440254Z",
     "shell.execute_reply": "2020-08-27T12:37:06.440668Z"
    },
    "papermill": {
     "duration": 0.025188,
     "end_time": "2020-08-27T12:37:06.440802",
     "exception": false,
     "start_time": "2020-08-27T12:37:06.415614",
     "status": "completed"
    },
    "tags": []
   },
   "outputs": [],
   "source": [
    "#hide\n",
    "dft_cases = dft_cases.T\n",
    "dft_deaths = dft_deaths.T\n",
    "dt_today = dates[-1]\n",
    "dt_yday = dates[-2]"
   ]
  },
  {
   "cell_type": "code",
   "execution_count": 9,
   "metadata": {
    "execution": {
     "iopub.execute_input": "2020-08-27T12:37:06.476235Z",
     "iopub.status.busy": "2020-08-27T12:37:06.475668Z",
     "iopub.status.idle": "2020-08-27T12:37:06.479305Z",
     "shell.execute_reply": "2020-08-27T12:37:06.478857Z"
    },
    "papermill": {
     "duration": 0.024406,
     "end_time": "2020-08-27T12:37:06.479418",
     "exception": false,
     "start_time": "2020-08-27T12:37:06.455012",
     "status": "completed"
    },
    "tags": []
   },
   "outputs": [],
   "source": [
    "#hide\n",
    "dft_cases = dft_cases.reset_index()\n",
    "dft_deaths = dft_deaths.reset_index()\n",
    "dft_cases = dft_cases.rename(columns = {'index':'state'})\n",
    "dft_deaths = dft_deaths.rename(columns = {'index':'state'})"
   ]
  },
  {
   "cell_type": "code",
   "execution_count": 10,
   "metadata": {
    "execution": {
     "iopub.execute_input": "2020-08-27T12:37:06.518664Z",
     "iopub.status.busy": "2020-08-27T12:37:06.518082Z",
     "iopub.status.idle": "2020-08-27T12:37:06.520168Z",
     "shell.execute_reply": "2020-08-27T12:37:06.520666Z"
    },
    "papermill": {
     "duration": 0.027251,
     "end_time": "2020-08-27T12:37:06.520796",
     "exception": false,
     "start_time": "2020-08-27T12:37:06.493545",
     "status": "completed"
    },
    "tags": []
   },
   "outputs": [],
   "source": [
    "#hide\n",
    "dfc_cases = dft_cases.groupby('state')[dt_today].sum()\n",
    "dfc_deaths = dft_deaths.groupby('state')[dt_today].sum()\n",
    "dfp_cases = dft_cases.groupby('state')[dt_yday].sum()\n",
    "dfp_deaths = dft_deaths.groupby('state')[dt_yday].sum()"
   ]
  },
  {
   "cell_type": "code",
   "execution_count": 11,
   "metadata": {
    "execution": {
     "iopub.execute_input": "2020-08-27T12:37:06.564606Z",
     "iopub.status.busy": "2020-08-27T12:37:06.564052Z",
     "iopub.status.idle": "2020-08-27T12:37:06.570545Z",
     "shell.execute_reply": "2020-08-27T12:37:06.570045Z"
    },
    "papermill": {
     "duration": 0.035027,
     "end_time": "2020-08-27T12:37:06.570667",
     "exception": false,
     "start_time": "2020-08-27T12:37:06.535640",
     "status": "completed"
    },
    "tags": []
   },
   "outputs": [
    {
     "data": {
      "text/html": [
       "<div>\n",
       "<style scoped>\n",
       "    .dataframe tbody tr th:only-of-type {\n",
       "        vertical-align: middle;\n",
       "    }\n",
       "\n",
       "    .dataframe tbody tr th {\n",
       "        vertical-align: top;\n",
       "    }\n",
       "\n",
       "    .dataframe thead th {\n",
       "        text-align: right;\n",
       "    }\n",
       "</style>\n",
       "<table border=\"1\" class=\"dataframe\">\n",
       "  <thead>\n",
       "    <tr style=\"text-align: right;\">\n",
       "      <th></th>\n",
       "      <th>states</th>\n",
       "      <th>Cases</th>\n",
       "      <th>Deaths</th>\n",
       "      <th>PCases</th>\n",
       "      <th>PDeaths</th>\n",
       "    </tr>\n",
       "  </thead>\n",
       "  <tbody>\n",
       "    <tr>\n",
       "      <th>0</th>\n",
       "      <td>Maharashtra</td>\n",
       "      <td>718711</td>\n",
       "      <td>23089</td>\n",
       "      <td>718711</td>\n",
       "      <td>23089</td>\n",
       "    </tr>\n",
       "    <tr>\n",
       "      <th>1</th>\n",
       "      <td>Tamil Nadu</td>\n",
       "      <td>397261</td>\n",
       "      <td>6839</td>\n",
       "      <td>397261</td>\n",
       "      <td>6839</td>\n",
       "    </tr>\n",
       "    <tr>\n",
       "      <th>2</th>\n",
       "      <td>Andhra Pradesh</td>\n",
       "      <td>393090</td>\n",
       "      <td>3633</td>\n",
       "      <td>382469</td>\n",
       "      <td>3541</td>\n",
       "    </tr>\n",
       "    <tr>\n",
       "      <th>3</th>\n",
       "      <td>Karnataka</td>\n",
       "      <td>300406</td>\n",
       "      <td>5091</td>\n",
       "      <td>300406</td>\n",
       "      <td>5091</td>\n",
       "    </tr>\n",
       "    <tr>\n",
       "      <th>4</th>\n",
       "      <td>Uttar Pradesh</td>\n",
       "      <td>203028</td>\n",
       "      <td>3141</td>\n",
       "      <td>203028</td>\n",
       "      <td>3141</td>\n",
       "    </tr>\n",
       "  </tbody>\n",
       "</table>\n",
       "</div>"
      ],
      "text/plain": [
       "           states   Cases  Deaths  PCases  PDeaths\n",
       "0     Maharashtra  718711   23089  718711    23089\n",
       "1      Tamil Nadu  397261    6839  397261     6839\n",
       "2  Andhra Pradesh  393090    3633  382469     3541\n",
       "3       Karnataka  300406    5091  300406     5091\n",
       "4   Uttar Pradesh  203028    3141  203028     3141"
      ]
     },
     "execution_count": 11,
     "metadata": {},
     "output_type": "execute_result"
    }
   ],
   "source": [
    "#hide\n",
    "df_table = pd.DataFrame({'states': dfc_cases.index, 'Cases': dfc_cases.values, 'Deaths': dfc_deaths.values, 'PCases': dfp_cases.values, 'PDeaths': dfp_deaths.values}).set_index('states')\n",
    "df_table = df_table.sort_values(by = ['Cases','Deaths'], ascending = [False, False])\n",
    "df_table = df_table.reset_index()\n",
    "df_table.head()"
   ]
  },
  {
   "cell_type": "code",
   "execution_count": 12,
   "metadata": {
    "execution": {
     "iopub.execute_input": "2020-08-27T12:37:06.607103Z",
     "iopub.status.busy": "2020-08-27T12:37:06.606525Z",
     "iopub.status.idle": "2020-08-27T12:37:06.616455Z",
     "shell.execute_reply": "2020-08-27T12:37:06.617012Z"
    },
    "papermill": {
     "duration": 0.03089,
     "end_time": "2020-08-27T12:37:06.617146",
     "exception": false,
     "start_time": "2020-08-27T12:37:06.586256",
     "status": "completed"
    },
    "tags": []
   },
   "outputs": [],
   "source": [
    "#hide\n",
    "for c in 'Cases, Deaths'.split(', '):\n",
    "    df_table[f'{c} (+)'] = (df_table[c] - df_table[f'P{c}']).clip(0)\n",
    "df_table['Fatality Rate'] = (100* df_table['Deaths']/ df_table['Cases']).round(2)"
   ]
  },
  {
   "cell_type": "code",
   "execution_count": 13,
   "metadata": {
    "execution": {
     "iopub.execute_input": "2020-08-27T12:37:06.658009Z",
     "iopub.status.busy": "2020-08-27T12:37:06.657386Z",
     "iopub.status.idle": "2020-08-27T12:37:06.659574Z",
     "shell.execute_reply": "2020-08-27T12:37:06.660070Z"
    },
    "papermill": {
     "duration": 0.027361,
     "end_time": "2020-08-27T12:37:06.660204",
     "exception": false,
     "start_time": "2020-08-27T12:37:06.632843",
     "status": "completed"
    },
    "tags": []
   },
   "outputs": [
    {
     "data": {
      "text/html": [
       "<div>\n",
       "<style scoped>\n",
       "    .dataframe tbody tr th:only-of-type {\n",
       "        vertical-align: middle;\n",
       "    }\n",
       "\n",
       "    .dataframe tbody tr th {\n",
       "        vertical-align: top;\n",
       "    }\n",
       "\n",
       "    .dataframe thead th {\n",
       "        text-align: right;\n",
       "    }\n",
       "</style>\n",
       "<table border=\"1\" class=\"dataframe\">\n",
       "  <thead>\n",
       "    <tr style=\"text-align: right;\">\n",
       "      <th></th>\n",
       "      <th>states</th>\n",
       "      <th>Cases</th>\n",
       "      <th>Deaths</th>\n",
       "      <th>PCases</th>\n",
       "      <th>PDeaths</th>\n",
       "      <th>Cases (+)</th>\n",
       "      <th>Deaths (+)</th>\n",
       "      <th>Fatality Rate</th>\n",
       "    </tr>\n",
       "  </thead>\n",
       "  <tbody>\n",
       "    <tr>\n",
       "      <th>0</th>\n",
       "      <td>Maharashtra</td>\n",
       "      <td>718711</td>\n",
       "      <td>23089</td>\n",
       "      <td>718711</td>\n",
       "      <td>23089</td>\n",
       "      <td>0</td>\n",
       "      <td>0</td>\n",
       "      <td>3.21</td>\n",
       "    </tr>\n",
       "    <tr>\n",
       "      <th>1</th>\n",
       "      <td>Tamil Nadu</td>\n",
       "      <td>397261</td>\n",
       "      <td>6839</td>\n",
       "      <td>397261</td>\n",
       "      <td>6839</td>\n",
       "      <td>0</td>\n",
       "      <td>0</td>\n",
       "      <td>1.72</td>\n",
       "    </tr>\n",
       "    <tr>\n",
       "      <th>2</th>\n",
       "      <td>Andhra Pradesh</td>\n",
       "      <td>393090</td>\n",
       "      <td>3633</td>\n",
       "      <td>382469</td>\n",
       "      <td>3541</td>\n",
       "      <td>10621</td>\n",
       "      <td>92</td>\n",
       "      <td>0.92</td>\n",
       "    </tr>\n",
       "    <tr>\n",
       "      <th>3</th>\n",
       "      <td>Karnataka</td>\n",
       "      <td>300406</td>\n",
       "      <td>5091</td>\n",
       "      <td>300406</td>\n",
       "      <td>5091</td>\n",
       "      <td>0</td>\n",
       "      <td>0</td>\n",
       "      <td>1.69</td>\n",
       "    </tr>\n",
       "    <tr>\n",
       "      <th>4</th>\n",
       "      <td>Uttar Pradesh</td>\n",
       "      <td>203028</td>\n",
       "      <td>3141</td>\n",
       "      <td>203028</td>\n",
       "      <td>3141</td>\n",
       "      <td>0</td>\n",
       "      <td>0</td>\n",
       "      <td>1.55</td>\n",
       "    </tr>\n",
       "  </tbody>\n",
       "</table>\n",
       "</div>"
      ],
      "text/plain": [
       "           states   Cases  Deaths  PCases  PDeaths  Cases (+)  Deaths (+)  \\\n",
       "0     Maharashtra  718711   23089  718711    23089          0           0   \n",
       "1      Tamil Nadu  397261    6839  397261     6839          0           0   \n",
       "2  Andhra Pradesh  393090    3633  382469     3541      10621          92   \n",
       "3       Karnataka  300406    5091  300406     5091          0           0   \n",
       "4   Uttar Pradesh  203028    3141  203028     3141          0           0   \n",
       "\n",
       "   Fatality Rate  \n",
       "0           3.21  \n",
       "1           1.72  \n",
       "2           0.92  \n",
       "3           1.69  \n",
       "4           1.55  "
      ]
     },
     "execution_count": 13,
     "metadata": {},
     "output_type": "execute_result"
    }
   ],
   "source": [
    "#hide\n",
    "df_table.head()"
   ]
  },
  {
   "cell_type": "code",
   "execution_count": 14,
   "metadata": {
    "execution": {
     "iopub.execute_input": "2020-08-27T12:37:06.697018Z",
     "iopub.status.busy": "2020-08-27T12:37:06.696477Z",
     "iopub.status.idle": "2020-08-27T12:37:06.711538Z",
     "shell.execute_reply": "2020-08-27T12:37:06.712005Z"
    },
    "papermill": {
     "duration": 0.035871,
     "end_time": "2020-08-27T12:37:06.712130",
     "exception": false,
     "start_time": "2020-08-27T12:37:06.676259",
     "status": "completed"
    },
    "tags": []
   },
   "outputs": [
    {
     "data": {
      "text/plain": [
       "{'updated': '2020-08-27',\n",
       " 'since': '2020-08-26',\n",
       " 'Cases': 3325675,\n",
       " 'PCases': 3307749,\n",
       " 'Deaths': 60749,\n",
       " 'PDeaths': 60629,\n",
       " 'Cases (+)': 17926,\n",
       " 'Deaths (+)': 120}"
      ]
     },
     "execution_count": 14,
     "metadata": {},
     "output_type": "execute_result"
    }
   ],
   "source": [
    "#hide\n",
    "summary = {'updated':dates[-1], 'since':dates[-2]}\n",
    "list_names = ['Cases', 'PCases', 'Deaths', 'PDeaths', 'Cases (+)', 'Deaths (+)']\n",
    "for name in list_names:\n",
    "    summary[name] = df_table.sum()[name]\n",
    "summary"
   ]
  },
  {
   "cell_type": "code",
   "execution_count": 15,
   "metadata": {
    "execution": {
     "iopub.execute_input": "2020-08-27T12:37:06.748331Z",
     "iopub.status.busy": "2020-08-27T12:37:06.747781Z",
     "iopub.status.idle": "2020-08-27T12:37:06.749991Z",
     "shell.execute_reply": "2020-08-27T12:37:06.750458Z"
    },
    "papermill": {
     "duration": 0.02275,
     "end_time": "2020-08-27T12:37:06.750567",
     "exception": false,
     "start_time": "2020-08-27T12:37:06.727817",
     "status": "completed"
    },
    "tags": []
   },
   "outputs": [],
   "source": [
    "#hide\n",
    "overview = '''\n",
    "<!-- #######  HTML!! #########-->\n",
    "<h1 style=\"color: #5e9ca0; text-align: center;\">India</h1>\n",
    "<p style=\"text-align: center;\">Last update: <strong>{update}</strong></p>\n",
    "<p style=\"text-align: center;\">Confirmed cases:</p>\n",
    "<p style=\"text-align: center;font-size:24px;\">{cases} (<span style=\"color: #ff0000;\">+{new}</span>)</p>\n",
    "<p style=\"text-align: center;\">Confirmed deaths:</p>\n",
    "<p style=\"text-align: center;font-size:24px;\">{deaths} (<span style=\"color: #ff0000;\">+{dnew}</span>)</p>\n",
    "'''"
   ]
  },
  {
   "cell_type": "code",
   "execution_count": 16,
   "metadata": {
    "execution": {
     "iopub.execute_input": "2020-08-27T12:37:06.786159Z",
     "iopub.status.busy": "2020-08-27T12:37:06.785555Z",
     "iopub.status.idle": "2020-08-27T12:37:06.790136Z",
     "shell.execute_reply": "2020-08-27T12:37:06.789593Z"
    },
    "papermill": {
     "duration": 0.024824,
     "end_time": "2020-08-27T12:37:06.790249",
     "exception": false,
     "start_time": "2020-08-27T12:37:06.765425",
     "status": "completed"
    },
    "tags": []
   },
   "outputs": [
    {
     "data": {
      "text/html": [
       "\n",
       "<!-- #######  HTML!! #########-->\n",
       "<h1 style=\"color: #5e9ca0; text-align: center;\">India</h1>\n",
       "<p style=\"text-align: center;\">Last update: <strong>2020-08-27</strong></p>\n",
       "<p style=\"text-align: center;\">Confirmed cases:</p>\n",
       "<p style=\"text-align: center;font-size:24px;\">3325675 (<span style=\"color: #ff0000;\">+17926</span>)</p>\n",
       "<p style=\"text-align: center;\">Confirmed deaths:</p>\n",
       "<p style=\"text-align: center;font-size:24px;\">60749 (<span style=\"color: #ff0000;\">+120</span>)</p>\n"
      ],
      "text/plain": [
       "<IPython.core.display.HTML object>"
      ]
     },
     "metadata": {},
     "output_type": "display_data"
    }
   ],
   "source": [
    "#hide_input\n",
    "update = summary['updated']\n",
    "cases = summary['Cases']\n",
    "new = summary['Cases (+)']\n",
    "deaths = summary['Deaths']\n",
    "dnew = summary['Deaths (+)']\n",
    "\n",
    "html = HTML(overview.format(update=update, cases=cases,new=new,deaths=deaths,dnew=dnew))\n",
    "\n",
    "display(html)"
   ]
  },
  {
   "cell_type": "code",
   "execution_count": 17,
   "metadata": {
    "execution": {
     "iopub.execute_input": "2020-08-27T12:37:06.830376Z",
     "iopub.status.busy": "2020-08-27T12:37:06.829791Z",
     "iopub.status.idle": "2020-08-27T12:37:06.834019Z",
     "shell.execute_reply": "2020-08-27T12:37:06.834386Z"
    },
    "papermill": {
     "duration": 0.027826,
     "end_time": "2020-08-27T12:37:06.834499",
     "exception": false,
     "start_time": "2020-08-27T12:37:06.806673",
     "status": "completed"
    },
    "tags": []
   },
   "outputs": [],
   "source": [
    "#hide\n",
    "dt_cols = list(dft_cases.columns[1:])\n",
    "dft_ct_new_cases = dft_cases.groupby('state')[dt_cols].sum().diff(axis=1).fillna(0).astype(int)\n",
    "dft_ct_new_cases.sort_values(by = dates[-1], ascending = False,inplace = True)"
   ]
  },
  {
   "cell_type": "code",
   "execution_count": 18,
   "metadata": {
    "execution": {
     "iopub.execute_input": "2020-08-27T12:37:06.886905Z",
     "iopub.status.busy": "2020-08-27T12:37:06.886354Z",
     "iopub.status.idle": "2020-08-27T12:37:06.889295Z",
     "shell.execute_reply": "2020-08-27T12:37:06.888792Z"
    },
    "papermill": {
     "duration": 0.038494,
     "end_time": "2020-08-27T12:37:06.889411",
     "exception": false,
     "start_time": "2020-08-27T12:37:06.850917",
     "status": "completed"
    },
    "tags": []
   },
   "outputs": [
    {
     "data": {
      "text/html": [
       "<div>\n",
       "<style scoped>\n",
       "    .dataframe tbody tr th:only-of-type {\n",
       "        vertical-align: middle;\n",
       "    }\n",
       "\n",
       "    .dataframe tbody tr th {\n",
       "        vertical-align: top;\n",
       "    }\n",
       "\n",
       "    .dataframe thead th {\n",
       "        text-align: right;\n",
       "    }\n",
       "</style>\n",
       "<table border=\"1\" class=\"dataframe\">\n",
       "  <thead>\n",
       "    <tr style=\"text-align: right;\">\n",
       "      <th>states</th>\n",
       "      <th>2020-07-01</th>\n",
       "      <th>2020-07-02</th>\n",
       "      <th>2020-07-03</th>\n",
       "      <th>2020-07-04</th>\n",
       "      <th>2020-07-05</th>\n",
       "      <th>2020-07-06</th>\n",
       "      <th>2020-07-07</th>\n",
       "      <th>2020-07-08</th>\n",
       "      <th>2020-07-09</th>\n",
       "      <th>2020-07-10</th>\n",
       "      <th>...</th>\n",
       "      <th>2020-08-18</th>\n",
       "      <th>2020-08-19</th>\n",
       "      <th>2020-08-20</th>\n",
       "      <th>2020-08-21</th>\n",
       "      <th>2020-08-22</th>\n",
       "      <th>2020-08-23</th>\n",
       "      <th>2020-08-24</th>\n",
       "      <th>2020-08-25</th>\n",
       "      <th>2020-08-26</th>\n",
       "      <th>2020-08-27</th>\n",
       "    </tr>\n",
       "    <tr>\n",
       "      <th>state</th>\n",
       "      <th></th>\n",
       "      <th></th>\n",
       "      <th></th>\n",
       "      <th></th>\n",
       "      <th></th>\n",
       "      <th></th>\n",
       "      <th></th>\n",
       "      <th></th>\n",
       "      <th></th>\n",
       "      <th></th>\n",
       "      <th></th>\n",
       "      <th></th>\n",
       "      <th></th>\n",
       "      <th></th>\n",
       "      <th></th>\n",
       "      <th></th>\n",
       "      <th></th>\n",
       "      <th></th>\n",
       "      <th></th>\n",
       "      <th></th>\n",
       "      <th></th>\n",
       "    </tr>\n",
       "  </thead>\n",
       "  <tbody>\n",
       "    <tr>\n",
       "      <th>Andhra Pradesh</th>\n",
       "      <td>0</td>\n",
       "      <td>845</td>\n",
       "      <td>837</td>\n",
       "      <td>765</td>\n",
       "      <td>998</td>\n",
       "      <td>1322</td>\n",
       "      <td>1178</td>\n",
       "      <td>1062</td>\n",
       "      <td>1555</td>\n",
       "      <td>1608</td>\n",
       "      <td>...</td>\n",
       "      <td>9652</td>\n",
       "      <td>9742</td>\n",
       "      <td>9393</td>\n",
       "      <td>9544</td>\n",
       "      <td>10276</td>\n",
       "      <td>7895</td>\n",
       "      <td>8601</td>\n",
       "      <td>9927</td>\n",
       "      <td>10830</td>\n",
       "      <td>10621</td>\n",
       "    </tr>\n",
       "    <tr>\n",
       "      <th>Odisha</th>\n",
       "      <td>0</td>\n",
       "      <td>229</td>\n",
       "      <td>561</td>\n",
       "      <td>495</td>\n",
       "      <td>469</td>\n",
       "      <td>456</td>\n",
       "      <td>571</td>\n",
       "      <td>527</td>\n",
       "      <td>577</td>\n",
       "      <td>755</td>\n",
       "      <td>...</td>\n",
       "      <td>2239</td>\n",
       "      <td>2589</td>\n",
       "      <td>2898</td>\n",
       "      <td>2698</td>\n",
       "      <td>2819</td>\n",
       "      <td>2993</td>\n",
       "      <td>2949</td>\n",
       "      <td>2752</td>\n",
       "      <td>3371</td>\n",
       "      <td>3384</td>\n",
       "    </tr>\n",
       "    <tr>\n",
       "      <th>Telangana</th>\n",
       "      <td>0</td>\n",
       "      <td>1213</td>\n",
       "      <td>1892</td>\n",
       "      <td>1850</td>\n",
       "      <td>1590</td>\n",
       "      <td>1831</td>\n",
       "      <td>1879</td>\n",
       "      <td>1924</td>\n",
       "      <td>1410</td>\n",
       "      <td>1278</td>\n",
       "      <td>...</td>\n",
       "      <td>1682</td>\n",
       "      <td>1763</td>\n",
       "      <td>1724</td>\n",
       "      <td>1967</td>\n",
       "      <td>2474</td>\n",
       "      <td>2384</td>\n",
       "      <td>1842</td>\n",
       "      <td>2579</td>\n",
       "      <td>3018</td>\n",
       "      <td>2795</td>\n",
       "    </tr>\n",
       "    <tr>\n",
       "      <th>Rajasthan</th>\n",
       "      <td>0</td>\n",
       "      <td>350</td>\n",
       "      <td>390</td>\n",
       "      <td>480</td>\n",
       "      <td>632</td>\n",
       "      <td>524</td>\n",
       "      <td>716</td>\n",
       "      <td>659</td>\n",
       "      <td>500</td>\n",
       "      <td>611</td>\n",
       "      <td>...</td>\n",
       "      <td>1347</td>\n",
       "      <td>1312</td>\n",
       "      <td>1330</td>\n",
       "      <td>1335</td>\n",
       "      <td>1310</td>\n",
       "      <td>1345</td>\n",
       "      <td>1346</td>\n",
       "      <td>1370</td>\n",
       "      <td>1345</td>\n",
       "      <td>633</td>\n",
       "    </tr>\n",
       "    <tr>\n",
       "      <th>Tripura</th>\n",
       "      <td>0</td>\n",
       "      <td>39</td>\n",
       "      <td>93</td>\n",
       "      <td>25</td>\n",
       "      <td>23</td>\n",
       "      <td>111</td>\n",
       "      <td>24</td>\n",
       "      <td>57</td>\n",
       "      <td>16</td>\n",
       "      <td>142</td>\n",
       "      <td>...</td>\n",
       "      <td>205</td>\n",
       "      <td>236</td>\n",
       "      <td>190</td>\n",
       "      <td>256</td>\n",
       "      <td>280</td>\n",
       "      <td>331</td>\n",
       "      <td>200</td>\n",
       "      <td>293</td>\n",
       "      <td>329</td>\n",
       "      <td>385</td>\n",
       "    </tr>\n",
       "  </tbody>\n",
       "</table>\n",
       "<p>5 rows × 58 columns</p>\n",
       "</div>"
      ],
      "text/plain": [
       "states          2020-07-01  2020-07-02  2020-07-03  2020-07-04  2020-07-05  \\\n",
       "state                                                                        \n",
       "Andhra Pradesh           0         845         837         765         998   \n",
       "Odisha                   0         229         561         495         469   \n",
       "Telangana                0        1213        1892        1850        1590   \n",
       "Rajasthan                0         350         390         480         632   \n",
       "Tripura                  0          39          93          25          23   \n",
       "\n",
       "states          2020-07-06  2020-07-07  2020-07-08  2020-07-09  2020-07-10  \\\n",
       "state                                                                        \n",
       "Andhra Pradesh        1322        1178        1062        1555        1608   \n",
       "Odisha                 456         571         527         577         755   \n",
       "Telangana             1831        1879        1924        1410        1278   \n",
       "Rajasthan              524         716         659         500         611   \n",
       "Tripura                111          24          57          16         142   \n",
       "\n",
       "states          ...  2020-08-18  2020-08-19  2020-08-20  2020-08-21  \\\n",
       "state           ...                                                   \n",
       "Andhra Pradesh  ...        9652        9742        9393        9544   \n",
       "Odisha          ...        2239        2589        2898        2698   \n",
       "Telangana       ...        1682        1763        1724        1967   \n",
       "Rajasthan       ...        1347        1312        1330        1335   \n",
       "Tripura         ...         205         236         190         256   \n",
       "\n",
       "states          2020-08-22  2020-08-23  2020-08-24  2020-08-25  2020-08-26  \\\n",
       "state                                                                        \n",
       "Andhra Pradesh       10276        7895        8601        9927       10830   \n",
       "Odisha                2819        2993        2949        2752        3371   \n",
       "Telangana             2474        2384        1842        2579        3018   \n",
       "Rajasthan             1310        1345        1346        1370        1345   \n",
       "Tripura                280         331         200         293         329   \n",
       "\n",
       "states          2020-08-27  \n",
       "state                       \n",
       "Andhra Pradesh       10621  \n",
       "Odisha                3384  \n",
       "Telangana             2795  \n",
       "Rajasthan              633  \n",
       "Tripura                385  \n",
       "\n",
       "[5 rows x 58 columns]"
      ]
     },
     "execution_count": 18,
     "metadata": {},
     "output_type": "execute_result"
    }
   ],
   "source": [
    "#hide\n",
    "dft_ct_new_cases.head()"
   ]
  },
  {
   "cell_type": "code",
   "execution_count": 19,
   "metadata": {
    "execution": {
     "iopub.execute_input": "2020-08-27T12:37:06.947725Z",
     "iopub.status.busy": "2020-08-27T12:37:06.937335Z",
     "iopub.status.idle": "2020-08-27T12:37:09.559093Z",
     "shell.execute_reply": "2020-08-27T12:37:09.559519Z"
    },
    "papermill": {
     "duration": 2.65296,
     "end_time": "2020-08-27T12:37:09.559671",
     "exception": false,
     "start_time": "2020-08-27T12:37:06.906711",
     "status": "completed"
    },
    "tags": []
   },
   "outputs": [
    {
     "data": {
      "image/png": "[encoded data removed]",
      "text/plain": [
       "<Figure size 1296x2016 with 11 Axes>"
      ]
     },
     "metadata": {
      "needs_background": "light"
     },
     "output_type": "display_data"
    }
   ],
   "source": [
    "#hide_input\n",
    "df = dft_ct_new_cases.copy()\n",
    "df.loc['Total'] = df.sum()\n",
    "n = 5\n",
    "ax = []\n",
    "fig = plt.figure(figsize = (18,28))\n",
    "gs = fig.add_gridspec(n+2, 5)\n",
    "# gs = fig.add_gridspec(2, 3)\n",
    "ax1 = fig.add_subplot(gs[0, :])\n",
    "ef = df.loc['Total'].rename_axis('date').reset_index()\n",
    "ef['date'] = ef['date'].astype('datetime64[ns]')\n",
    "ax1.bar(ef.date,ef.Total,alpha=0.3,color='#007acc')\n",
    "ax1.plot(ef.date,ef.Total , marker=\"o\", color='#007acc')\n",
    "ax1.xaxis.set_major_locator(mdates.WeekdayLocator())\n",
    "ax1.xaxis.set_major_formatter(mdates.DateFormatter('%b %d'))\n",
    "ax1.text(0.02, 0.5,'India daily case count', transform = ax1.transAxes, fontsize=25);\n",
    "ax1.spines['right'].set_visible(False)\n",
    "ax1.spines['top'].set_visible(False)\n",
    "\n",
    "ax2 = fig.add_subplot(gs[1,0])\n",
    "ef = df.loc['Maharashtra'].rename_axis('date').reset_index()\n",
    "ef['date'] = ef['date'].astype('datetime64[ns]')\n",
    "\n",
    "ax2.bar(ef.date, ef.Maharashtra,color = '#007acc',alpha=0.5)\n",
    "ax2.xaxis.set_major_locator(mdates.WeekdayLocator())\n",
    "ax2.xaxis.set_major_formatter(mdates.DateFormatter('%b %d'))\n",
    "ax2.set_xticks(ax2.get_xticks()[::3])\n",
    "maxyval = ef.Maharashtra.max()\n",
    "ax2.set_ylim([0,maxyval])\n",
    "ax2.text(0.05, 0.9,'Maharashtra', transform = ax2.transAxes, fontsize=20);\n",
    "ax2.spines['right'].set_visible(False)\n",
    "ax2.spines['top'].set_visible(False)\n",
    "\n",
    "\n",
    "ax3 = fig.add_subplot(gs[1,1])\n",
    "ef = df.loc['Tamil Nadu'].rename_axis('date').reset_index()\n",
    "ef['date'] = ef['date'].astype('datetime64[ns]')\n",
    "ax3.bar(ef.date, ef['Tamil Nadu'],color = '#007acc',alpha=0.5,)\n",
    "ax3.xaxis.set_major_locator(mdates.WeekdayLocator())\n",
    "ax3.xaxis.set_major_formatter(mdates.DateFormatter('%b %d'))\n",
    "ax3.set_xticks(ax3.get_xticks()[::3])\n",
    "ax3.text(0.05, 0.9,'Tamil Nadu', transform = ax3.transAxes, fontsize=20);\n",
    "ax3.spines['right'].set_visible(False)\n",
    "ax3.spines['top'].set_visible(False)\n",
    "\n",
    "ax5 = fig.add_subplot(gs[1,3])\n",
    "ef = df.loc['Telangana'].rename_axis('date').reset_index()\n",
    "ef['date'] = ef['date'].astype('datetime64[ns]')\n",
    "ax5.bar(ef.date, ef['Telangana'],color = '#007acc',alpha=0.5,)\n",
    "ax5.xaxis.set_major_locator(mdates.WeekdayLocator())\n",
    "ax5.xaxis.set_major_formatter(mdates.DateFormatter('%b %d'))\n",
    "ax5.set_xticks(ax5.get_xticks()[::3])\n",
    "ax5.text(0.05, 0.9,'Telangana', transform = ax5.transAxes, fontsize=20);\n",
    "ax5.spines['right'].set_visible(False)\n",
    "ax5.spines['top'].set_visible(False)\n",
    "\n",
    "ax6 = fig.add_subplot(gs[1,4])\n",
    "ef = df.loc['Andhra Pradesh'].rename_axis('date').reset_index()\n",
    "ef['date'] = ef['date'].astype('datetime64[ns]')\n",
    "ax6.bar(ef.date, ef['Andhra Pradesh'],color = '#007acc',alpha=0.5,)\n",
    "ax6.xaxis.set_major_locator(mdates.WeekdayLocator())\n",
    "ax6.xaxis.set_major_formatter(mdates.DateFormatter('%b %d'))\n",
    "ax6.set_xticks(ax6.get_xticks()[::3])\n",
    "ax6.text(0.05, 1,'Andhra Pradesh', transform = ax6.transAxes, fontsize=20);\n",
    "ax6.spines['right'].set_visible(False)\n",
    "ax6.spines['top'].set_visible(False)\n",
    "\n",
    "ax4 = fig.add_subplot(gs[1,2])\n",
    "ef = df.loc['Delhi'].rename_axis('date').reset_index()\n",
    "ef['date'] = ef['date'].astype('datetime64[ns]')\n",
    "ax4.bar(ef.date, ef.Delhi,color = '#007acc',alpha=0.5)\n",
    "ax4.set_xticks([])\n",
    "ax4.xaxis.set_major_locator(mdates.WeekdayLocator())\n",
    "ax4.xaxis.set_major_formatter(mdates.DateFormatter('%b %d'))\n",
    "ax4.set_xticks(ax4.get_xticks()[::3])\n",
    "ax4.spines['right'].set_visible(False)\n",
    "ax4.spines['top'].set_visible(False)\n",
    "\n",
    "ax4.text(0.05, 1,'Delhi', transform = ax4.transAxes, fontsize=20)\n",
    "\n",
    "for i in range(n):\n",
    "    \n",
    "    ax.append(fig.add_subplot(gs[i+2,:]))\n",
    "    ef = df.iloc[i+3].rename_axis('date').reset_index()\n",
    "    ef['date'] = ef['date'].astype('datetime64[ns]')\n",
    "    ax[i].bar(ef.date,ef.iloc[:,-1],color = '#007acc',alpha=0.3)\n",
    "    ax[i].plot(ef.date,ef.iloc[:,-1],marker='o',color='#007acc')\n",
    "    ax[i].text(0.02,0.5,f'{ef.columns.values[-1]}',transform = ax[i].transAxes, fontsize = 20);\n",
    "    ax[i].xaxis.set_major_locator(mdates.WeekdayLocator())\n",
    "    ax[i].xaxis.set_major_formatter(mdates.DateFormatter('%b %d'))\n",
    "    ax[i].set_ylim([0,7000])\n",
    "    ax[i].spines['right'].set_visible(False)\n",
    "    ax[i].spines['top'].set_visible(False)\n",
    "plt.tight_layout()\n"
   ]
  },
  {
   "cell_type": "code",
   "execution_count": 20,
   "metadata": {
    "execution": {
     "iopub.execute_input": "2020-08-27T12:37:09.796591Z",
     "iopub.status.busy": "2020-08-27T12:37:09.796007Z",
     "iopub.status.idle": "2020-08-27T12:37:09.806192Z",
     "shell.execute_reply": "2020-08-27T12:37:09.806981Z"
    },
    "papermill": {
     "duration": 0.226195,
     "end_time": "2020-08-27T12:37:09.807138",
     "exception": false,
     "start_time": "2020-08-27T12:37:09.580943",
     "status": "completed"
    },
    "tags": []
   },
   "outputs": [
    {
     "name": "stdout",
     "output_type": "stream",
     "text": [
      "                                   states   Cases  Deaths  PCases  PDeaths  Cases (+)  Deaths (+)  Fatality Rate\n",
      "                              Maharashtra  718711   23089  718711    23089          0           0           3.21\n",
      "                               Tamil Nadu  397261    6839  397261     6839          0           0           1.72\n",
      "                           Andhra Pradesh  393090    3633  382469     3541      10621          92           0.92\n",
      "                                Karnataka  300406    5091  300406     5091          0           0           1.69\n",
      "                            Uttar Pradesh  203028    3141  203028     3141          0           0           1.55\n",
      "                                    Delhi  165764    4347  165764     4347          0           0           2.62\n",
      "                              West Bengal  147775    2964  147775     2964          0           0           2.01\n",
      "                                    Bihar  126990     653  126990      653          0           0           0.51\n",
      "                                Telangana  114483     788  111688      780       2795           8           0.69\n",
      "                                    Assam   96772     274   96772      274          0           0           0.28\n",
      "                                   Odisha   90986     501   87602      494       3384           7           0.55\n",
      "                                  Gujarat   90139    2945   90139     2945          0           0           3.27\n",
      "                                Rajasthan   75303     998   74670      992        633           6           1.33\n",
      "                                   Kerala   64355     258   64355      258          0           0           0.40\n",
      "                                  Haryana   58005     634   58005      634          0           0           1.09\n",
      "                           Madhya Pradesh   56864    1282   56864     1282          0           0           2.25\n",
      "                                   Punjab   46090    1219   46090     1219          0           0           2.64\n",
      "                        Jammu and Kashmir   34480     657   34480      657          0           0           1.91\n",
      "                                Jharkhand   33311     367   33311      362          0           5           1.10\n",
      "                             Chhattisgarh   24550     231   24550      231          0           0           0.94\n",
      "                              Uttarakhand   16549     219   16549      219          0           0           1.32\n",
      "                                      Goa   15027     165   15027      165          0           0           1.10\n",
      "                               Puducherry   11930     180   11930      180          0           0           1.51\n",
      "                                  Tripura    9924      85    9539       83        385           2           0.86\n",
      "                                  Manipur    5585      25    5585       25          0           0           0.45\n",
      "                         Himachal Pradesh    5321      31    5321       31          0           0           0.58\n",
      "                                 Nagaland    3784       8    3778        8          6           0           0.21\n",
      "                        Arunachal Pradesh    3555       5    3555        5          0           0           0.14\n",
      "                               Chandigarh    3376      41    3376       41          0           0           1.21\n",
      "              Andaman and Nicobar Islands    2985      41    2985       41          0           0           1.37\n",
      "                                   Ladakh    2451      25    2451       25          0           0           1.02\n",
      " Dadra and Nagar Haveli and Daman and Diu    2251       2    2220        2         31           0           0.09\n",
      "                                Meghalaya    2114       8    2050        8         64           0           0.38\n",
      "                                   Sikkim    1486       3    1486        3          0           0           0.20\n",
      "                                  Mizoram     974       0     967        0          7           0           0.00\n",
      "                              Lakshadweep       0       0       0        0          0           0            NaN\n"
     ]
    }
   ],
   "source": [
    "#hide_input\n",
    "print(df_table.to_string(index=False))"
   ]
  },
  {
   "cell_type": "code",
   "execution_count": null,
   "metadata": {
    "papermill": {
     "duration": 0.103878,
     "end_time": "2020-08-27T12:37:10.087440",
     "exception": false,
     "start_time": "2020-08-27T12:37:09.983562",
     "status": "completed"
    },
    "tags": []
   },
   "outputs": [],
   "source": []
  },
  {
   "cell_type": "code",
   "execution_count": null,
   "metadata": {
    "papermill": {
     "duration": 0.021187,
     "end_time": "2020-08-27T12:37:10.134108",
     "exception": false,
     "start_time": "2020-08-27T12:37:10.112921",
     "status": "completed"
    },
    "tags": []
   },
   "outputs": [],
   "source": []
  }
 ],
 "metadata": {
  "kernelspec": {
   "display_name": "Python 3",
   "language": "python",
   "name": "python3"
  },
  "language_info": {
   "codemirror_mode": {
    "name": "ipython",
    "version": 3
   },
   "file_extension": ".py",
   "mimetype": "text/x-python",
   "name": "python",
   "nbconvert_exporter": "python",
   "pygments_lexer": "ipython3",
   "version": "3.6.11"
  },
  "papermill": {
   "duration": 7.821435,
   "end_time": "2020-08-27T12:37:10.564578",
   "environment_variables": {},
   "exception": null,
   "input_path": "latest.ipynb",
   "output_path": "latest.ipynb",
   "parameters": {},
   "start_time": "2020-08-27T12:37:02.743143",
   "version": "2.1.2"
  }
 },
 "nbformat": 4,
 "nbformat_minor": 4
}