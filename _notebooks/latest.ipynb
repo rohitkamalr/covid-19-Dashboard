{
 "cells": [
  {
   "cell_type": "markdown",
   "id": "colored-stack",
   "metadata": {
    "papermill": {
     "duration": 0.022854,
     "end_time": "2021-04-27T13:17:30.066825",
     "exception": false,
     "start_time": "2021-04-27T13:17:30.043971",
     "status": "completed"
    },
    "tags": []
   },
   "source": [
    "# Latest COVID-19 India Matplotlib Overview"
   ]
  },
  {
   "cell_type": "code",
   "execution_count": 1,
   "id": "light-proportion",
   "metadata": {
    "execution": {
     "iopub.execute_input": "2021-04-27T13:17:30.114900Z",
     "iopub.status.busy": "2021-04-27T13:17:30.114309Z",
     "iopub.status.idle": "2021-04-27T13:17:30.734601Z",
     "shell.execute_reply": "2021-04-27T13:17:30.733871Z"
    },
    "papermill": {
     "duration": 0.649583,
     "end_time": "2021-04-27T13:17:30.734799",
     "exception": false,
     "start_time": "2021-04-27T13:17:30.085216",
     "status": "completed"
    },
    "tags": []
   },
   "outputs": [],
   "source": [
    "#hide\n",
    "import pandas as pd\n",
    "import numpy as np\n",
    "import requests\n",
    "import json\n",
    "import matplotlib.pyplot as plt\n",
    "import matplotlib.dates as mdates\n",
    "import matplotlib as mpl\n",
    "from IPython.core.display import display,HTML\n",
    "%matplotlib inline\n",
    "from datetime import date"
   ]
  },
  {
   "cell_type": "code",
   "execution_count": 2,
   "id": "greenhouse-shooting",
   "metadata": {
    "execution": {
     "iopub.execute_input": "2021-04-27T13:17:30.781506Z",
     "iopub.status.busy": "2021-04-27T13:17:30.780903Z",
     "iopub.status.idle": "2021-04-27T13:17:31.107204Z",
     "shell.execute_reply": "2021-04-27T13:17:31.106518Z"
    },
    "papermill": {
     "duration": 0.354331,
     "end_time": "2021-04-27T13:17:31.107377",
     "exception": false,
     "start_time": "2021-04-27T13:17:30.753046",
     "status": "completed"
    },
    "tags": []
   },
   "outputs": [],
   "source": [
    "#hide\n",
    "df  = pd.read_csv('https://api.covid19india.org/csv/latest/states.csv')\n",
    "df = df[['Date','State','Confirmed','Deceased']]\n",
    "df = df.rename(columns={'Confirmed':'Cases', \"Deceased\":'Deaths'})\n",
    "df_cases = df[[\"Date\",'State','Cases']]\n",
    "df_deaths = df[['Date','State','Deaths']]\n",
    "df_cases1 = df_cases.groupby('Date')\n",
    "df_deaths1= df_deaths.groupby('Date')"
   ]
  },
  {
   "cell_type": "code",
   "execution_count": 3,
   "id": "hybrid-cathedral",
   "metadata": {
    "execution": {
     "iopub.execute_input": "2021-04-27T13:17:31.151041Z",
     "iopub.status.busy": "2021-04-27T13:17:31.150455Z",
     "iopub.status.idle": "2021-04-27T13:17:31.172463Z",
     "shell.execute_reply": "2021-04-27T13:17:31.171988Z"
    },
    "papermill": {
     "duration": 0.045566,
     "end_time": "2021-04-27T13:17:31.172614",
     "exception": false,
     "start_time": "2021-04-27T13:17:31.127048",
     "status": "completed"
    },
    "tags": []
   },
   "outputs": [],
   "source": [
    "#hide\n",
    "df_snap = pd.read_csv('data/SnapshotCases-28-July.csv')\n",
    "arr_states = df_snap['states'].unique()\n",
    "arr_dates = df['Date'].unique()\n",
    "df_snap = df_snap.set_index('states')"
   ]
  },
  {
   "cell_type": "code",
   "execution_count": 4,
   "id": "interior-belfast",
   "metadata": {
    "execution": {
     "iopub.execute_input": "2021-04-27T13:17:31.214344Z",
     "iopub.status.busy": "2021-04-27T13:17:31.213756Z",
     "iopub.status.idle": "2021-04-27T13:17:31.217512Z",
     "shell.execute_reply": "2021-04-27T13:17:31.218068Z"
    },
    "papermill": {
     "duration": 0.028578,
     "end_time": "2021-04-27T13:17:31.218210",
     "exception": false,
     "start_time": "2021-04-27T13:17:31.189632",
     "status": "completed"
    },
    "tags": []
   },
   "outputs": [
    {
     "data": {
      "text/plain": [
       "array(['Andaman and Nicobar Islands', 'Andhra Pradesh',\n",
       "       'Arunachal Pradesh', 'Assam', 'Bihar', 'Chandigarh',\n",
       "       'Dadra and Nagar Haveli and Daman and Diu', 'Delhi', 'Goa',\n",
       "       'Gujarat', 'Haryana', 'Himachal Pradesh', 'Jammu and Kashmir',\n",
       "       'Jharkhand', 'Karnataka', 'Kerala', 'Lakshadweep',\n",
       "       'Madhya Pradesh', 'Maharashtra', 'Manipur', 'Meghalaya', 'Mizoram',\n",
       "       'Nagaland', 'Odisha', 'Puducherry', 'Punjab', 'Rajasthan',\n",
       "       'Sikkim', 'Tamil Nadu', 'Telangana', 'Tripura', 'Uttar Pradesh',\n",
       "       'West Bengal', 'Chhattisgarh', 'Ladakh', 'Uttarakhand'],\n",
       "      dtype=object)"
      ]
     },
     "execution_count": 4,
     "metadata": {},
     "output_type": "execute_result"
    }
   ],
   "source": [
    "#hide\n",
    "arr_states[-9] = 'Puducherry'\n",
    "arr_states[-10] = 'Odisha'\n",
    "arr_states[6] = 'Dadra and Nagar Haveli and Daman and Diu'\n",
    "arr_states = np.append(arr_states,np.array(['Chhattisgarh','Ladakh','Uttarakhand']))\n",
    "arr_states"
   ]
  },
  {
   "cell_type": "code",
   "execution_count": 5,
   "id": "behind-manner",
   "metadata": {
    "execution": {
     "iopub.execute_input": "2021-04-27T13:17:31.268187Z",
     "iopub.status.busy": "2021-04-27T13:17:31.267592Z",
     "iopub.status.idle": "2021-04-27T13:17:31.278645Z",
     "shell.execute_reply": "2021-04-27T13:17:31.277774Z"
    },
    "papermill": {
     "duration": 0.043088,
     "end_time": "2021-04-27T13:17:31.278842",
     "exception": false,
     "start_time": "2021-04-27T13:17:31.235754",
     "status": "completed"
    },
    "tags": []
   },
   "outputs": [],
   "source": [
    "#hide\n",
    "dates = []\n",
    "for i in arr_dates:\n",
    "    if i>='2020-07-01':\n",
    "        dates.append(i)\n",
    "dict = {'states':dates}\n",
    "for i in arr_states:\n",
    "    dict[i] = [0]*len(dates)\n",
    "dft_cases = pd.DataFrame(dict)\n",
    "dft_deaths = pd.DataFrame(dict)\n"
   ]
  },
  {
   "cell_type": "code",
   "execution_count": 6,
   "id": "simplified-peter",
   "metadata": {
    "execution": {
     "iopub.execute_input": "2021-04-27T13:17:31.325133Z",
     "iopub.status.busy": "2021-04-27T13:17:31.324503Z",
     "iopub.status.idle": "2021-04-27T13:17:35.641288Z",
     "shell.execute_reply": "2021-04-27T13:17:35.640239Z"
    },
    "papermill": {
     "duration": 4.342066,
     "end_time": "2021-04-27T13:17:35.641429",
     "exception": false,
     "start_time": "2021-04-27T13:17:31.299363",
     "status": "completed"
    },
    "tags": []
   },
   "outputs": [],
   "source": [
    "#hide\n",
    "for i in range(len(dates)):\n",
    "    df1_deaths = df_deaths1.get_group(dates[i])\n",
    "    for j in range(len(df1_deaths.index)):\n",
    "        if df1_deaths.iloc[j,1] in arr_states:\n",
    "            dft_deaths.loc[i,df1_deaths.iloc[j,1]] = df1_deaths.iloc[j,2]\n",
    "dft_deaths = dft_deaths.set_index('states')"
   ]
  },
  {
   "cell_type": "code",
   "execution_count": 7,
   "id": "geological-welding",
   "metadata": {
    "execution": {
     "iopub.execute_input": "2021-04-27T13:17:35.684079Z",
     "iopub.status.busy": "2021-04-27T13:17:35.683467Z",
     "iopub.status.idle": "2021-04-27T13:17:40.037540Z",
     "shell.execute_reply": "2021-04-27T13:17:40.036574Z"
    },
    "papermill": {
     "duration": 4.378589,
     "end_time": "2021-04-27T13:17:40.037687",
     "exception": false,
     "start_time": "2021-04-27T13:17:35.659098",
     "status": "completed"
    },
    "tags": []
   },
   "outputs": [],
   "source": [
    "#hide\n",
    "for i in range(len(dates)):\n",
    "    df1_cases = df_cases1.get_group(dates[i])\n",
    "    for j in range(len(df1_cases.index)):\n",
    "        if df1_cases.iloc[j,1] in arr_states:\n",
    "            dft_cases.loc[i,df1_cases.iloc[j,1]] = df1_cases.iloc[j,2]\n",
    "dft_cases = dft_cases.set_index('states')"
   ]
  },
  {
   "cell_type": "code",
   "execution_count": 8,
   "id": "binary-ratio",
   "metadata": {
    "execution": {
     "iopub.execute_input": "2021-04-27T13:17:40.079745Z",
     "iopub.status.busy": "2021-04-27T13:17:40.078478Z",
     "iopub.status.idle": "2021-04-27T13:17:40.080383Z",
     "shell.execute_reply": "2021-04-27T13:17:40.080864Z"
    },
    "papermill": {
     "duration": 0.02543,
     "end_time": "2021-04-27T13:17:40.081005",
     "exception": false,
     "start_time": "2021-04-27T13:17:40.055575",
     "status": "completed"
    },
    "tags": []
   },
   "outputs": [],
   "source": [
    "#hide\n",
    "dft_cases = dft_cases.T\n",
    "dft_deaths = dft_deaths.T\n",
    "dt_today = dates[-1]\n",
    "dt_yday = dates[-2]"
   ]
  },
  {
   "cell_type": "code",
   "execution_count": 9,
   "id": "boolean-calculator",
   "metadata": {
    "execution": {
     "iopub.execute_input": "2021-04-27T13:17:40.124538Z",
     "iopub.status.busy": "2021-04-27T13:17:40.123927Z",
     "iopub.status.idle": "2021-04-27T13:17:40.129571Z",
     "shell.execute_reply": "2021-04-27T13:17:40.130041Z"
    },
    "papermill": {
     "duration": 0.030583,
     "end_time": "2021-04-27T13:17:40.130182",
     "exception": false,
     "start_time": "2021-04-27T13:17:40.099599",
     "status": "completed"
    },
    "tags": []
   },
   "outputs": [],
   "source": [
    "#hide\n",
    "dft_cases = dft_cases.reset_index()\n",
    "dft_deaths = dft_deaths.reset_index()\n",
    "dft_cases = dft_cases.rename(columns = {'index':'state'})\n",
    "dft_deaths = dft_deaths.rename(columns = {'index':'state'})"
   ]
  },
  {
   "cell_type": "code",
   "execution_count": 10,
   "id": "invisible-johnston",
   "metadata": {
    "execution": {
     "iopub.execute_input": "2021-04-27T13:17:40.179058Z",
     "iopub.status.busy": "2021-04-27T13:17:40.178453Z",
     "iopub.status.idle": "2021-04-27T13:17:40.180320Z",
     "shell.execute_reply": "2021-04-27T13:17:40.180792Z"
    },
    "papermill": {
     "duration": 0.032327,
     "end_time": "2021-04-27T13:17:40.180942",
     "exception": false,
     "start_time": "2021-04-27T13:17:40.148615",
     "status": "completed"
    },
    "tags": []
   },
   "outputs": [],
   "source": [
    "#hide\n",
    "dfc_cases = dft_cases.groupby('state')[dt_today].sum()\n",
    "dfc_deaths = dft_deaths.groupby('state')[dt_today].sum()\n",
    "dfp_cases = dft_cases.groupby('state')[dt_yday].sum()\n",
    "dfp_deaths = dft_deaths.groupby('state')[dt_yday].sum()"
   ]
  },
  {
   "cell_type": "code",
   "execution_count": 11,
   "id": "measured-great",
   "metadata": {
    "execution": {
     "iopub.execute_input": "2021-04-27T13:17:40.226958Z",
     "iopub.status.busy": "2021-04-27T13:17:40.226368Z",
     "iopub.status.idle": "2021-04-27T13:17:40.242274Z",
     "shell.execute_reply": "2021-04-27T13:17:40.241805Z"
    },
    "papermill": {
     "duration": 0.043796,
     "end_time": "2021-04-27T13:17:40.242401",
     "exception": false,
     "start_time": "2021-04-27T13:17:40.198605",
     "status": "completed"
    },
    "tags": []
   },
   "outputs": [
    {
     "data": {
      "text/html": [
       "<div>\n",
       "<style scoped>\n",
       "    .dataframe tbody tr th:only-of-type {\n",
       "        vertical-align: middle;\n",
       "    }\n",
       "\n",
       "    .dataframe tbody tr th {\n",
       "        vertical-align: top;\n",
       "    }\n",
       "\n",
       "    .dataframe thead th {\n",
       "        text-align: right;\n",
       "    }\n",
       "</style>\n",
       "<table border=\"1\" class=\"dataframe\">\n",
       "  <thead>\n",
       "    <tr style=\"text-align: right;\">\n",
       "      <th></th>\n",
       "      <th>states</th>\n",
       "      <th>Cases</th>\n",
       "      <th>Deaths</th>\n",
       "      <th>PCases</th>\n",
       "      <th>PDeaths</th>\n",
       "    </tr>\n",
       "  </thead>\n",
       "  <tbody>\n",
       "    <tr>\n",
       "      <th>0</th>\n",
       "      <td>Maharashtra</td>\n",
       "      <td>4343727</td>\n",
       "      <td>65284</td>\n",
       "      <td>4343727</td>\n",
       "      <td>65284</td>\n",
       "    </tr>\n",
       "    <tr>\n",
       "      <th>1</th>\n",
       "      <td>Kerala</td>\n",
       "      <td>1460365</td>\n",
       "      <td>5171</td>\n",
       "      <td>1427546</td>\n",
       "      <td>5139</td>\n",
       "    </tr>\n",
       "    <tr>\n",
       "      <th>2</th>\n",
       "      <td>Karnataka</td>\n",
       "      <td>1368945</td>\n",
       "      <td>14627</td>\n",
       "      <td>1368945</td>\n",
       "      <td>14627</td>\n",
       "    </tr>\n",
       "    <tr>\n",
       "      <th>3</th>\n",
       "      <td>Uttar Pradesh</td>\n",
       "      <td>1120176</td>\n",
       "      <td>11414</td>\n",
       "      <td>1120176</td>\n",
       "      <td>11414</td>\n",
       "    </tr>\n",
       "    <tr>\n",
       "      <th>4</th>\n",
       "      <td>Tamil Nadu</td>\n",
       "      <td>1097672</td>\n",
       "      <td>13651</td>\n",
       "      <td>1097672</td>\n",
       "      <td>13651</td>\n",
       "    </tr>\n",
       "  </tbody>\n",
       "</table>\n",
       "</div>"
      ],
      "text/plain": [
       "          states    Cases  Deaths   PCases  PDeaths\n",
       "0    Maharashtra  4343727   65284  4343727    65284\n",
       "1         Kerala  1460365    5171  1427546     5139\n",
       "2      Karnataka  1368945   14627  1368945    14627\n",
       "3  Uttar Pradesh  1120176   11414  1120176    11414\n",
       "4     Tamil Nadu  1097672   13651  1097672    13651"
      ]
     },
     "execution_count": 11,
     "metadata": {},
     "output_type": "execute_result"
    }
   ],
   "source": [
    "#hide\n",
    "df_table = pd.DataFrame({'states': dfc_cases.index, 'Cases': dfc_cases.values, 'Deaths': dfc_deaths.values, 'PCases': dfp_cases.values, 'PDeaths': dfp_deaths.values}).set_index('states')\n",
    "df_table = df_table.sort_values(by = ['Cases','Deaths'], ascending = [False, False])\n",
    "df_table = df_table.reset_index()\n",
    "df_table.head()"
   ]
  },
  {
   "cell_type": "code",
   "execution_count": 12,
   "id": "found-montreal",
   "metadata": {
    "execution": {
     "iopub.execute_input": "2021-04-27T13:17:40.285079Z",
     "iopub.status.busy": "2021-04-27T13:17:40.284461Z",
     "iopub.status.idle": "2021-04-27T13:17:40.292929Z",
     "shell.execute_reply": "2021-04-27T13:17:40.293394Z"
    },
    "papermill": {
     "duration": 0.033162,
     "end_time": "2021-04-27T13:17:40.293533",
     "exception": false,
     "start_time": "2021-04-27T13:17:40.260371",
     "status": "completed"
    },
    "tags": []
   },
   "outputs": [],
   "source": [
    "#hide\n",
    "for c in 'Cases, Deaths'.split(', '):\n",
    "    df_table[f'{c} (+)'] = (df_table[c] - df_table[f'P{c}']).clip(0)\n",
    "df_table['Fatality Rate'] = (100* df_table['Deaths']/ df_table['Cases']).round(2)"
   ]
  },
  {
   "cell_type": "code",
   "execution_count": 13,
   "id": "minus-savage",
   "metadata": {
    "execution": {
     "iopub.execute_input": "2021-04-27T13:17:40.340065Z",
     "iopub.status.busy": "2021-04-27T13:17:40.339470Z",
     "iopub.status.idle": "2021-04-27T13:17:40.342001Z",
     "shell.execute_reply": "2021-04-27T13:17:40.342467Z"
    },
    "papermill": {
     "duration": 0.031181,
     "end_time": "2021-04-27T13:17:40.342603",
     "exception": false,
     "start_time": "2021-04-27T13:17:40.311422",
     "status": "completed"
    },
    "tags": []
   },
   "outputs": [
    {
     "data": {
      "text/html": [
       "<div>\n",
       "<style scoped>\n",
       "    .dataframe tbody tr th:only-of-type {\n",
       "        vertical-align: middle;\n",
       "    }\n",
       "\n",
       "    .dataframe tbody tr th {\n",
       "        vertical-align: top;\n",
       "    }\n",
       "\n",
       "    .dataframe thead th {\n",
       "        text-align: right;\n",
       "    }\n",
       "</style>\n",
       "<table border=\"1\" class=\"dataframe\">\n",
       "  <thead>\n",
       "    <tr style=\"text-align: right;\">\n",
       "      <th></th>\n",
       "      <th>states</th>\n",
       "      <th>Cases</th>\n",
       "      <th>Deaths</th>\n",
       "      <th>PCases</th>\n",
       "      <th>PDeaths</th>\n",
       "      <th>Cases (+)</th>\n",
       "      <th>Deaths (+)</th>\n",
       "      <th>Fatality Rate</th>\n",
       "    </tr>\n",
       "  </thead>\n",
       "  <tbody>\n",
       "    <tr>\n",
       "      <th>0</th>\n",
       "      <td>Maharashtra</td>\n",
       "      <td>4343727</td>\n",
       "      <td>65284</td>\n",
       "      <td>4343727</td>\n",
       "      <td>65284</td>\n",
       "      <td>0</td>\n",
       "      <td>0</td>\n",
       "      <td>1.50</td>\n",
       "    </tr>\n",
       "    <tr>\n",
       "      <th>1</th>\n",
       "      <td>Kerala</td>\n",
       "      <td>1460365</td>\n",
       "      <td>5171</td>\n",
       "      <td>1427546</td>\n",
       "      <td>5139</td>\n",
       "      <td>32819</td>\n",
       "      <td>32</td>\n",
       "      <td>0.35</td>\n",
       "    </tr>\n",
       "    <tr>\n",
       "      <th>2</th>\n",
       "      <td>Karnataka</td>\n",
       "      <td>1368945</td>\n",
       "      <td>14627</td>\n",
       "      <td>1368945</td>\n",
       "      <td>14627</td>\n",
       "      <td>0</td>\n",
       "      <td>0</td>\n",
       "      <td>1.07</td>\n",
       "    </tr>\n",
       "    <tr>\n",
       "      <th>3</th>\n",
       "      <td>Uttar Pradesh</td>\n",
       "      <td>1120176</td>\n",
       "      <td>11414</td>\n",
       "      <td>1120176</td>\n",
       "      <td>11414</td>\n",
       "      <td>0</td>\n",
       "      <td>0</td>\n",
       "      <td>1.02</td>\n",
       "    </tr>\n",
       "    <tr>\n",
       "      <th>4</th>\n",
       "      <td>Tamil Nadu</td>\n",
       "      <td>1097672</td>\n",
       "      <td>13651</td>\n",
       "      <td>1097672</td>\n",
       "      <td>13651</td>\n",
       "      <td>0</td>\n",
       "      <td>0</td>\n",
       "      <td>1.24</td>\n",
       "    </tr>\n",
       "  </tbody>\n",
       "</table>\n",
       "</div>"
      ],
      "text/plain": [
       "          states    Cases  Deaths   PCases  PDeaths  Cases (+)  Deaths (+)  \\\n",
       "0    Maharashtra  4343727   65284  4343727    65284          0           0   \n",
       "1         Kerala  1460365    5171  1427546     5139      32819          32   \n",
       "2      Karnataka  1368945   14627  1368945    14627          0           0   \n",
       "3  Uttar Pradesh  1120176   11414  1120176    11414          0           0   \n",
       "4     Tamil Nadu  1097672   13651  1097672    13651          0           0   \n",
       "\n",
       "   Fatality Rate  \n",
       "0           1.50  \n",
       "1           0.35  \n",
       "2           1.07  \n",
       "3           1.02  \n",
       "4           1.24  "
      ]
     },
     "execution_count": 13,
     "metadata": {},
     "output_type": "execute_result"
    }
   ],
   "source": [
    "#hide\n",
    "df_table.head()"
   ]
  },
  {
   "cell_type": "code",
   "execution_count": 14,
   "id": "false-peter",
   "metadata": {
    "execution": {
     "iopub.execute_input": "2021-04-27T13:17:40.407136Z",
     "iopub.status.busy": "2021-04-27T13:17:40.406527Z",
     "iopub.status.idle": "2021-04-27T13:17:40.408934Z",
     "shell.execute_reply": "2021-04-27T13:17:40.409399Z"
    },
    "papermill": {
     "duration": 0.043751,
     "end_time": "2021-04-27T13:17:40.409540",
     "exception": false,
     "start_time": "2021-04-27T13:17:40.365789",
     "status": "completed"
    },
    "tags": []
   },
   "outputs": [
    {
     "data": {
      "text/plain": [
       "{'updated': '2021-04-27',\n",
       " 'since': '2021-04-26',\n",
       " 'Cases': 17676129,\n",
       " 'PCases': 17625880,\n",
       " 'Deaths': 197987,\n",
       " 'PDeaths': 197880,\n",
       " 'Cases (+)': 50249,\n",
       " 'Deaths (+)': 107}"
      ]
     },
     "execution_count": 14,
     "metadata": {},
     "output_type": "execute_result"
    }
   ],
   "source": [
    "#hide\n",
    "summary = {'updated':dates[-1], 'since':dates[-2]}\n",
    "list_names = ['Cases', 'PCases', 'Deaths', 'PDeaths', 'Cases (+)', 'Deaths (+)']\n",
    "for name in list_names:\n",
    "    summary[name] = df_table.sum()[name]\n",
    "summary"
   ]
  },
  {
   "cell_type": "code",
   "execution_count": 15,
   "id": "packed-viewer",
   "metadata": {
    "execution": {
     "iopub.execute_input": "2021-04-27T13:17:40.454697Z",
     "iopub.status.busy": "2021-04-27T13:17:40.453893Z",
     "iopub.status.idle": "2021-04-27T13:17:40.456469Z",
     "shell.execute_reply": "2021-04-27T13:17:40.456003Z"
    },
    "papermill": {
     "duration": 0.027276,
     "end_time": "2021-04-27T13:17:40.456625",
     "exception": false,
     "start_time": "2021-04-27T13:17:40.429349",
     "status": "completed"
    },
    "tags": []
   },
   "outputs": [],
   "source": [
    "#hide\n",
    "overview = '''\n",
    "<!-- #######  HTML!! #########-->\n",
    "<h1 style=\"color: #5e9ca0; text-align: center;\">India</h1>\n",
    "<p style=\"text-align: center;\">Last update: <strong>{update}</strong></p>\n",
    "<p style=\"text-align: center;\">Confirmed cases:</p>\n",
    "<p style=\"text-align: center;font-size:24px;\">{cases} (<span style=\"color: #ff0000;\">+{new}</span>)</p>\n",
    "<p style=\"text-align: center;\">Confirmed deaths:</p>\n",
    "<p style=\"text-align: center;font-size:24px;\">{deaths} (<span style=\"color: #ff0000;\">+{dnew}</span>)</p>\n",
    "'''"
   ]
  },
  {
   "cell_type": "code",
   "execution_count": 16,
   "id": "phantom-lover",
   "metadata": {
    "execution": {
     "iopub.execute_input": "2021-04-27T13:17:40.503107Z",
     "iopub.status.busy": "2021-04-27T13:17:40.502534Z",
     "iopub.status.idle": "2021-04-27T13:17:40.506002Z",
     "shell.execute_reply": "2021-04-27T13:17:40.506549Z"
    },
    "papermill": {
     "duration": 0.031481,
     "end_time": "2021-04-27T13:17:40.506686",
     "exception": false,
     "start_time": "2021-04-27T13:17:40.475205",
     "status": "completed"
    },
    "tags": []
   },
   "outputs": [
    {
     "data": {
      "text/html": [
       "\n",
       "<!-- #######  HTML!! #########-->\n",
       "<h1 style=\"color: #5e9ca0; text-align: center;\">India</h1>\n",
       "<p style=\"text-align: center;\">Last update: <strong>2021-04-27</strong></p>\n",
       "<p style=\"text-align: center;\">Confirmed cases:</p>\n",
       "<p style=\"text-align: center;font-size:24px;\">17676129 (<span style=\"color: #ff0000;\">+50249</span>)</p>\n",
       "<p style=\"text-align: center;\">Confirmed deaths:</p>\n",
       "<p style=\"text-align: center;font-size:24px;\">197987 (<span style=\"color: #ff0000;\">+107</span>)</p>\n"
      ],
      "text/plain": [
       "<IPython.core.display.HTML object>"
      ]
     },
     "metadata": {},
     "output_type": "display_data"
    }
   ],
   "source": [
    "#hide_input\n",
    "update = summary['updated']\n",
    "cases = summary['Cases']\n",
    "new = summary['Cases (+)']\n",
    "deaths = summary['Deaths']\n",
    "dnew = summary['Deaths (+)']\n",
    "\n",
    "html = HTML(overview.format(update=update, cases=cases,new=new,deaths=deaths,dnew=dnew))\n",
    "\n",
    "display(html)"
   ]
  },
  {
   "cell_type": "code",
   "execution_count": 17,
   "id": "sealed-reset",
   "metadata": {
    "execution": {
     "iopub.execute_input": "2021-04-27T13:17:40.557395Z",
     "iopub.status.busy": "2021-04-27T13:17:40.556789Z",
     "iopub.status.idle": "2021-04-27T13:17:40.563101Z",
     "shell.execute_reply": "2021-04-27T13:17:40.562447Z"
    },
    "papermill": {
     "duration": 0.036994,
     "end_time": "2021-04-27T13:17:40.563310",
     "exception": false,
     "start_time": "2021-04-27T13:17:40.526316",
     "status": "completed"
    },
    "tags": []
   },
   "outputs": [],
   "source": [
    "#hide\n",
    "dt_cols = list(dft_cases.columns[1:])\n",
    "dft_ct_new_cases = dft_cases.groupby('state')[dt_cols].sum().diff(axis=1).fillna(0).astype(int)\n",
    "dft_ct_new_cases.sort_values(by = dates[-1], ascending = False,inplace = True)"
   ]
  },
  {
   "cell_type": "code",
   "execution_count": 18,
   "id": "designed-constant",
   "metadata": {
    "execution": {
     "iopub.execute_input": "2021-04-27T13:17:40.621527Z",
     "iopub.status.busy": "2021-04-27T13:17:40.620926Z",
     "iopub.status.idle": "2021-04-27T13:17:40.623559Z",
     "shell.execute_reply": "2021-04-27T13:17:40.624048Z"
    },
    "papermill": {
     "duration": 0.041013,
     "end_time": "2021-04-27T13:17:40.624186",
     "exception": false,
     "start_time": "2021-04-27T13:17:40.583173",
     "status": "completed"
    },
    "tags": []
   },
   "outputs": [
    {
     "data": {
      "text/html": [
       "<div>\n",
       "<style scoped>\n",
       "    .dataframe tbody tr th:only-of-type {\n",
       "        vertical-align: middle;\n",
       "    }\n",
       "\n",
       "    .dataframe tbody tr th {\n",
       "        vertical-align: top;\n",
       "    }\n",
       "\n",
       "    .dataframe thead th {\n",
       "        text-align: right;\n",
       "    }\n",
       "</style>\n",
       "<table border=\"1\" class=\"dataframe\">\n",
       "  <thead>\n",
       "    <tr style=\"text-align: right;\">\n",
       "      <th>states</th>\n",
       "      <th>2020-07-01</th>\n",
       "      <th>2020-07-02</th>\n",
       "      <th>2020-07-03</th>\n",
       "      <th>2020-07-04</th>\n",
       "      <th>2020-07-05</th>\n",
       "      <th>2020-07-06</th>\n",
       "      <th>2020-07-07</th>\n",
       "      <th>2020-07-08</th>\n",
       "      <th>2020-07-09</th>\n",
       "      <th>2020-07-10</th>\n",
       "      <th>...</th>\n",
       "      <th>2021-04-18</th>\n",
       "      <th>2021-04-19</th>\n",
       "      <th>2021-04-20</th>\n",
       "      <th>2021-04-21</th>\n",
       "      <th>2021-04-22</th>\n",
       "      <th>2021-04-23</th>\n",
       "      <th>2021-04-24</th>\n",
       "      <th>2021-04-25</th>\n",
       "      <th>2021-04-26</th>\n",
       "      <th>2021-04-27</th>\n",
       "    </tr>\n",
       "    <tr>\n",
       "      <th>state</th>\n",
       "      <th></th>\n",
       "      <th></th>\n",
       "      <th></th>\n",
       "      <th></th>\n",
       "      <th></th>\n",
       "      <th></th>\n",
       "      <th></th>\n",
       "      <th></th>\n",
       "      <th></th>\n",
       "      <th></th>\n",
       "      <th></th>\n",
       "      <th></th>\n",
       "      <th></th>\n",
       "      <th></th>\n",
       "      <th></th>\n",
       "      <th></th>\n",
       "      <th></th>\n",
       "      <th></th>\n",
       "      <th></th>\n",
       "      <th></th>\n",
       "      <th></th>\n",
       "    </tr>\n",
       "  </thead>\n",
       "  <tbody>\n",
       "    <tr>\n",
       "      <th>Kerala</th>\n",
       "      <td>0</td>\n",
       "      <td>160</td>\n",
       "      <td>211</td>\n",
       "      <td>240</td>\n",
       "      <td>225</td>\n",
       "      <td>193</td>\n",
       "      <td>272</td>\n",
       "      <td>301</td>\n",
       "      <td>339</td>\n",
       "      <td>416</td>\n",
       "      <td>...</td>\n",
       "      <td>18257</td>\n",
       "      <td>13644</td>\n",
       "      <td>19577</td>\n",
       "      <td>22414</td>\n",
       "      <td>26995</td>\n",
       "      <td>28447</td>\n",
       "      <td>26685</td>\n",
       "      <td>28469</td>\n",
       "      <td>21890</td>\n",
       "      <td>32819</td>\n",
       "    </tr>\n",
       "    <tr>\n",
       "      <th>Telangana</th>\n",
       "      <td>0</td>\n",
       "      <td>1213</td>\n",
       "      <td>1892</td>\n",
       "      <td>1850</td>\n",
       "      <td>1590</td>\n",
       "      <td>1831</td>\n",
       "      <td>1879</td>\n",
       "      <td>1924</td>\n",
       "      <td>1410</td>\n",
       "      <td>1278</td>\n",
       "      <td>...</td>\n",
       "      <td>5093</td>\n",
       "      <td>4009</td>\n",
       "      <td>5926</td>\n",
       "      <td>6542</td>\n",
       "      <td>5567</td>\n",
       "      <td>6206</td>\n",
       "      <td>7432</td>\n",
       "      <td>8126</td>\n",
       "      <td>6551</td>\n",
       "      <td>10122</td>\n",
       "    </tr>\n",
       "    <tr>\n",
       "      <th>Odisha</th>\n",
       "      <td>0</td>\n",
       "      <td>229</td>\n",
       "      <td>561</td>\n",
       "      <td>495</td>\n",
       "      <td>469</td>\n",
       "      <td>456</td>\n",
       "      <td>571</td>\n",
       "      <td>527</td>\n",
       "      <td>577</td>\n",
       "      <td>755</td>\n",
       "      <td>...</td>\n",
       "      <td>3664</td>\n",
       "      <td>4445</td>\n",
       "      <td>4761</td>\n",
       "      <td>4851</td>\n",
       "      <td>6164</td>\n",
       "      <td>6215</td>\n",
       "      <td>6647</td>\n",
       "      <td>6116</td>\n",
       "      <td>6599</td>\n",
       "      <td>6073</td>\n",
       "    </tr>\n",
       "    <tr>\n",
       "      <th>Puducherry</th>\n",
       "      <td>0</td>\n",
       "      <td>63</td>\n",
       "      <td>22</td>\n",
       "      <td>80</td>\n",
       "      <td>42</td>\n",
       "      <td>65</td>\n",
       "      <td>30</td>\n",
       "      <td>110</td>\n",
       "      <td>49</td>\n",
       "      <td>72</td>\n",
       "      <td>...</td>\n",
       "      <td>663</td>\n",
       "      <td>565</td>\n",
       "      <td>638</td>\n",
       "      <td>619</td>\n",
       "      <td>987</td>\n",
       "      <td>792</td>\n",
       "      <td>899</td>\n",
       "      <td>1008</td>\n",
       "      <td>747</td>\n",
       "      <td>1021</td>\n",
       "    </tr>\n",
       "    <tr>\n",
       "      <th>Tripura</th>\n",
       "      <td>0</td>\n",
       "      <td>39</td>\n",
       "      <td>93</td>\n",
       "      <td>25</td>\n",
       "      <td>23</td>\n",
       "      <td>111</td>\n",
       "      <td>24</td>\n",
       "      <td>57</td>\n",
       "      <td>16</td>\n",
       "      <td>142</td>\n",
       "      <td>...</td>\n",
       "      <td>69</td>\n",
       "      <td>32</td>\n",
       "      <td>60</td>\n",
       "      <td>0</td>\n",
       "      <td>168</td>\n",
       "      <td>40</td>\n",
       "      <td>127</td>\n",
       "      <td>100</td>\n",
       "      <td>98</td>\n",
       "      <td>111</td>\n",
       "    </tr>\n",
       "  </tbody>\n",
       "</table>\n",
       "<p>5 rows × 301 columns</p>\n",
       "</div>"
      ],
      "text/plain": [
       "states      2020-07-01  2020-07-02  2020-07-03  2020-07-04  2020-07-05  \\\n",
       "state                                                                    \n",
       "Kerala               0         160         211         240         225   \n",
       "Telangana            0        1213        1892        1850        1590   \n",
       "Odisha               0         229         561         495         469   \n",
       "Puducherry           0          63          22          80          42   \n",
       "Tripura              0          39          93          25          23   \n",
       "\n",
       "states      2020-07-06  2020-07-07  2020-07-08  2020-07-09  2020-07-10  ...  \\\n",
       "state                                                                   ...   \n",
       "Kerala             193         272         301         339         416  ...   \n",
       "Telangana         1831        1879        1924        1410        1278  ...   \n",
       "Odisha             456         571         527         577         755  ...   \n",
       "Puducherry          65          30         110          49          72  ...   \n",
       "Tripura            111          24          57          16         142  ...   \n",
       "\n",
       "states      2021-04-18  2021-04-19  2021-04-20  2021-04-21  2021-04-22  \\\n",
       "state                                                                    \n",
       "Kerala           18257       13644       19577       22414       26995   \n",
       "Telangana         5093        4009        5926        6542        5567   \n",
       "Odisha            3664        4445        4761        4851        6164   \n",
       "Puducherry         663         565         638         619         987   \n",
       "Tripura             69          32          60           0         168   \n",
       "\n",
       "states      2021-04-23  2021-04-24  2021-04-25  2021-04-26  2021-04-27  \n",
       "state                                                                   \n",
       "Kerala           28447       26685       28469       21890       32819  \n",
       "Telangana         6206        7432        8126        6551       10122  \n",
       "Odisha            6215        6647        6116        6599        6073  \n",
       "Puducherry         792         899        1008         747        1021  \n",
       "Tripura             40         127         100          98         111  \n",
       "\n",
       "[5 rows x 301 columns]"
      ]
     },
     "execution_count": 18,
     "metadata": {},
     "output_type": "execute_result"
    }
   ],
   "source": [
    "#hide\n",
    "dft_ct_new_cases.head()"
   ]
  },
  {
   "cell_type": "code",
   "execution_count": 19,
   "id": "responsible-nightlife",
   "metadata": {
    "execution": {
     "iopub.execute_input": "2021-04-27T13:17:40.682291Z",
     "iopub.status.busy": "2021-04-27T13:17:40.671901Z",
     "iopub.status.idle": "2021-04-27T13:17:52.090135Z",
     "shell.execute_reply": "2021-04-27T13:17:52.090611Z"
    },
    "papermill": {
     "duration": 11.446784,
     "end_time": "2021-04-27T13:17:52.090760",
     "exception": false,
     "start_time": "2021-04-27T13:17:40.643976",
     "status": "completed"
    },
    "tags": []
   },
   "outputs": [
    {
     "data": {
      "image/png": "[encoded data removed]",
      "text/plain": [
       "<Figure size 1296x2016 with 11 Axes>"
      ]
     },
     "metadata": {
      "needs_background": "light"
     },
     "output_type": "display_data"
    }
   ],
   "source": [
    "#hide_input\n",
    "df = dft_ct_new_cases.copy()\n",
    "df.loc['Total'] = df.sum()\n",
    "n = 5\n",
    "ax = []\n",
    "fig = plt.figure(figsize = (18,28))\n",
    "gs = fig.add_gridspec(n+2, 5)\n",
    "# gs = fig.add_gridspec(2, 3)\n",
    "ax1 = fig.add_subplot(gs[0, :])\n",
    "ef = df.loc['Total'].rename_axis('date').reset_index()\n",
    "ef['date'] = ef['date'].astype('datetime64[ns]')\n",
    "ax1.bar(ef.date,ef.Total,alpha=0.3,color='#007acc')\n",
    "ax1.plot(ef.date,ef.Total , marker=\"o\", color='#007acc')\n",
    "ax1.xaxis.set_major_locator(mdates.WeekdayLocator())\n",
    "ax1.xaxis.set_major_formatter(mdates.DateFormatter('%b %d'))\n",
    "ax1.text(0.02, 0.5,'India daily case count', transform = ax1.transAxes, fontsize=25);\n",
    "ax1.spines['right'].set_visible(False)\n",
    "ax1.spines['top'].set_visible(False)\n",
    "\n",
    "ax2 = fig.add_subplot(gs[1,0])\n",
    "ef = df.loc['Maharashtra'].rename_axis('date').reset_index()\n",
    "ef['date'] = ef['date'].astype('datetime64[ns]')\n",
    "\n",
    "ax2.bar(ef.date, ef.Maharashtra,color = '#007acc',alpha=0.5)\n",
    "ax2.xaxis.set_major_locator(mdates.WeekdayLocator())\n",
    "ax2.xaxis.set_major_formatter(mdates.DateFormatter('%b %d'))\n",
    "ax2.set_xticks(ax2.get_xticks()[::3])\n",
    "maxyval = ef.Maharashtra.max()\n",
    "ax2.set_ylim([0,maxyval])\n",
    "ax2.text(0.05, 0.9,'Maharashtra', transform = ax2.transAxes, fontsize=20);\n",
    "ax2.spines['right'].set_visible(False)\n",
    "ax2.spines['top'].set_visible(False)\n",
    "\n",
    "\n",
    "ax3 = fig.add_subplot(gs[1,1])\n",
    "ef = df.loc['Tamil Nadu'].rename_axis('date').reset_index()\n",
    "ef['date'] = ef['date'].astype('datetime64[ns]')\n",
    "ax3.bar(ef.date, ef['Tamil Nadu'],color = '#007acc',alpha=0.5,)\n",
    "ax3.xaxis.set_major_locator(mdates.WeekdayLocator())\n",
    "ax3.xaxis.set_major_formatter(mdates.DateFormatter('%b %d'))\n",
    "ax3.set_xticks(ax3.get_xticks()[::3])\n",
    "ax3.text(0.05, 0.9,'Tamil Nadu', transform = ax3.transAxes, fontsize=20);\n",
    "ax3.spines['right'].set_visible(False)\n",
    "ax3.spines['top'].set_visible(False)\n",
    "\n",
    "ax5 = fig.add_subplot(gs[1,3])\n",
    "ef = df.loc['Telangana'].rename_axis('date').reset_index()\n",
    "ef['date'] = ef['date'].astype('datetime64[ns]')\n",
    "ax5.bar(ef.date, ef['Telangana'],color = '#007acc',alpha=0.5,)\n",
    "ax5.xaxis.set_major_locator(mdates.WeekdayLocator())\n",
    "ax5.xaxis.set_major_formatter(mdates.DateFormatter('%b %d'))\n",
    "ax5.set_xticks(ax5.get_xticks()[::3])\n",
    "ax5.text(0.05, 0.9,'Telangana', transform = ax5.transAxes, fontsize=20);\n",
    "ax5.spines['right'].set_visible(False)\n",
    "ax5.spines['top'].set_visible(False)\n",
    "\n",
    "ax6 = fig.add_subplot(gs[1,4])\n",
    "ef = df.loc['Andhra Pradesh'].rename_axis('date').reset_index()\n",
    "ef['date'] = ef['date'].astype('datetime64[ns]')\n",
    "ax6.bar(ef.date, ef['Andhra Pradesh'],color = '#007acc',alpha=0.5,)\n",
    "ax6.xaxis.set_major_locator(mdates.WeekdayLocator())\n",
    "ax6.xaxis.set_major_formatter(mdates.DateFormatter('%b %d'))\n",
    "ax6.set_xticks(ax6.get_xticks()[::3])\n",
    "ax6.text(0.05, 1,'Andhra Pradesh', transform = ax6.transAxes, fontsize=20);\n",
    "ax6.spines['right'].set_visible(False)\n",
    "ax6.spines['top'].set_visible(False)\n",
    "\n",
    "ax4 = fig.add_subplot(gs[1,2])\n",
    "ef = df.loc['Delhi'].rename_axis('date').reset_index()\n",
    "ef['date'] = ef['date'].astype('datetime64[ns]')\n",
    "ax4.bar(ef.date, ef.Delhi,color = '#007acc',alpha=0.5)\n",
    "ax4.set_xticks([])\n",
    "ax4.xaxis.set_major_locator(mdates.WeekdayLocator())\n",
    "ax4.xaxis.set_major_formatter(mdates.DateFormatter('%b %d'))\n",
    "ax4.set_xticks(ax4.get_xticks()[::3])\n",
    "ax4.spines['right'].set_visible(False)\n",
    "ax4.spines['top'].set_visible(False)\n",
    "\n",
    "ax4.text(0.05, 1,'Delhi', transform = ax4.transAxes, fontsize=20)\n",
    "\n",
    "for i in range(n):\n",
    "    \n",
    "    ax.append(fig.add_subplot(gs[i+2,:]))\n",
    "    ef = df.iloc[i+3].rename_axis('date').reset_index()\n",
    "    ef['date'] = ef['date'].astype('datetime64[ns]')\n",
    "    ax[i].bar(ef.date,ef.iloc[:,-1],color = '#007acc',alpha=0.3)\n",
    "    ax[i].plot(ef.date,ef.iloc[:,-1],marker='o',color='#007acc')\n",
    "    ax[i].text(0.02,0.5,f'{ef.columns.values[-1]}',transform = ax[i].transAxes, fontsize = 20);\n",
    "    ax[i].xaxis.set_major_locator(mdates.WeekdayLocator())\n",
    "    ax[i].xaxis.set_major_formatter(mdates.DateFormatter('%b %d'))\n",
    "    ax[i].set_ylim([0,7000])\n",
    "    ax[i].spines['right'].set_visible(False)\n",
    "    ax[i].spines['top'].set_visible(False)\n",
    "plt.tight_layout()\n"
   ]
  },
  {
   "cell_type": "code",
   "execution_count": 20,
   "id": "dress-forge",
   "metadata": {
    "execution": {
     "iopub.execute_input": "2021-04-27T13:17:52.147486Z",
     "iopub.status.busy": "2021-04-27T13:17:52.146864Z",
     "iopub.status.idle": "2021-04-27T13:17:52.155029Z",
     "shell.execute_reply": "2021-04-27T13:17:52.155570Z"
    },
    "papermill": {
     "duration": 0.038829,
     "end_time": "2021-04-27T13:17:52.155716",
     "exception": false,
     "start_time": "2021-04-27T13:17:52.116887",
     "status": "completed"
    },
    "tags": []
   },
   "outputs": [
    {
     "name": "stdout",
     "output_type": "stream",
     "text": [
      "                                   states    Cases  Deaths   PCases  PDeaths  Cases (+)  Deaths (+)  Fatality Rate\n",
      "                              Maharashtra  4343727   65284  4343727    65284          0           0           1.50\n",
      "                                   Kerala  1460365    5171  1427546     5139      32819          32           0.35\n",
      "                                Karnataka  1368945   14627  1368945    14627          0           0           1.07\n",
      "                            Uttar Pradesh  1120176   11414  1120176    11414          0           0           1.02\n",
      "                               Tamil Nadu  1097672   13651  1097672    13651          0           0           1.24\n",
      "                                    Delhi  1047916   14628  1047916    14628          0           0           1.40\n",
      "                           Andhra Pradesh  1043441    7736  1043441     7736          0           0           0.74\n",
      "                              West Bengal   759942   11009   759942    11009          0           0           1.45\n",
      "                             Chhattisgarh   667446    7536   667446     7536          0           0           1.13\n",
      "                                Rajasthan   530875    3685   530875     3685          0           0           0.69\n",
      "                           Madhya Pradesh   511990    5221   511990     5221          0           0           1.02\n",
      "                                  Gujarat   510373    6486   510373     6486          0           0           1.27\n",
      "                                  Haryana   435823    3842   435823     3842          0           0           0.88\n",
      "                                   Odisha   420129    2060   414056     2050       6073          10           0.49\n",
      "                                    Bihar   415397    2222   415397     2222          0           0           0.53\n",
      "                                Telangana   411905    2094   401783     2042      10122          52           0.51\n",
      "                                   Punjab   345366    8530   345366     8530          0           0           2.47\n",
      "                                    Assam   240670    1215   240670     1215          0           0           0.50\n",
      "                                Jharkhand   207288    2115   207288     2115          0           0           1.02\n",
      "                        Jammu and Kashmir   162890    2172   162890     2172          0           0           1.33\n",
      "                              Uttarakhand   156859    2213   156859     2213          0           0           1.41\n",
      "                         Himachal Pradesh    89193    1350    89193     1350          0           0           1.51\n",
      "                                      Goa    79798    1055    79798     1055          0           0           1.32\n",
      "                               Puducherry    55047     771    54026      758       1021          13           1.40\n",
      "                               Chandigarh    39513     440    39513      440          0           0           1.11\n",
      "                                  Tripura    34735     391    34624      391        111           0           1.13\n",
      "                                  Manipur    30567     390    30567      390          0           0           1.28\n",
      "                        Arunachal Pradesh    17775      58    17775       58          0           0           0.33\n",
      "                                Meghalaya    16124     161    16124      161          0           0           1.00\n",
      "                                   Ladakh    13502     138    13502      138          0           0           1.02\n",
      "                                 Nagaland    13238      98    13238       98          0           0           0.74\n",
      "                                   Sikkim     7329     140     7329      140          0           0           1.91\n",
      " Dadra and Nagar Haveli and Daman and Diu     6637       4     6637        4          0           0           0.06\n",
      "              Andaman and Nicobar Islands     5716      66     5716       66          0           0           1.15\n",
      "                                  Mizoram     5513      13     5410       13        103           0           0.24\n",
      "                              Lakshadweep     2247       1     2247        1          0           0           0.04\n"
     ]
    }
   ],
   "source": [
    "#hide_input\n",
    "print(df_table.to_string(index=False))"
   ]
  },
  {
   "cell_type": "code",
   "execution_count": null,
   "id": "quantitative-legend",
   "metadata": {
    "papermill": {
     "duration": 0.025659,
     "end_time": "2021-04-27T13:17:52.207170",
     "exception": false,
     "start_time": "2021-04-27T13:17:52.181511",
     "status": "completed"
    },
    "tags": []
   },
   "outputs": [],
   "source": []
  },
  {
   "cell_type": "code",
   "execution_count": null,
   "id": "distant-acoustic",
   "metadata": {
    "papermill": {
     "duration": 0.026197,
     "end_time": "2021-04-27T13:17:52.259348",
     "exception": false,
     "start_time": "2021-04-27T13:17:52.233151",
     "status": "completed"
    },
    "tags": []
   },
   "outputs": [],
   "source": []
  }
 ],
 "metadata": {
  "kernelspec": {
   "display_name": "Python 3",
   "language": "python",
   "name": "python3"
  },
  "language_info": {
   "codemirror_mode": {
    "name": "ipython",
    "version": 3
   },
   "file_extension": ".py",
   "mimetype": "text/x-python",
   "name": "python",
   "nbconvert_exporter": "python",
   "pygments_lexer": "ipython3",
   "version": "3.6.13"
  },
  "papermill": {
   "duration": 24.239315,
   "end_time": "2021-04-27T13:17:52.995516",
   "environment_variables": {},
   "exception": null,
   "input_path": "latest.ipynb",
   "output_path": "latest.ipynb",
   "parameters": {},
   "start_time": "2021-04-27T13:17:28.756201",
   "version": "2.1.2"
  }
 },
 "nbformat": 4,
 "nbformat_minor": 5
}