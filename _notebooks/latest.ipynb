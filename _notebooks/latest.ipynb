{
 "cells": [
  {
   "cell_type": "markdown",
   "metadata": {
    "papermill": {
     "duration": 0.051576,
     "end_time": "2020-08-10T13:17:37.042823",
     "exception": false,
     "start_time": "2020-08-10T13:17:36.991247",
     "status": "completed"
    },
    "tags": []
   },
   "source": [
    "# Latest COVID-19 India Matplotlib Overview"
   ]
  },
  {
   "cell_type": "code",
   "execution_count": 1,
   "metadata": {
    "execution": {
     "iopub.execute_input": "2020-08-10T13:17:37.255223Z",
     "iopub.status.busy": "2020-08-10T13:17:37.253570Z",
     "iopub.status.idle": "2020-08-10T13:17:37.877155Z",
     "shell.execute_reply": "2020-08-10T13:17:37.877966Z"
    },
    "papermill": {
     "duration": 0.73084,
     "end_time": "2020-08-10T13:17:37.878178",
     "exception": false,
     "start_time": "2020-08-10T13:17:37.147338",
     "status": "completed"
    },
    "tags": []
   },
   "outputs": [],
   "source": [
    "#hide\n",
    "import pandas as pd\n",
    "import numpy as np\n",
    "import requests\n",
    "import json\n",
    "import matplotlib.pyplot as plt\n",
    "import matplotlib.dates as mdates\n",
    "import matplotlib as mpl\n",
    "from IPython.core.display import display,HTML\n",
    "%matplotlib inline\n",
    "from datetime import date"
   ]
  },
  {
   "cell_type": "code",
   "execution_count": 2,
   "metadata": {
    "execution": {
     "iopub.execute_input": "2020-08-10T13:17:37.919442Z",
     "iopub.status.busy": "2020-08-10T13:17:37.918468Z",
     "iopub.status.idle": "2020-08-10T13:17:38.137147Z",
     "shell.execute_reply": "2020-08-10T13:17:38.137743Z"
    },
    "papermill": {
     "duration": 0.243028,
     "end_time": "2020-08-10T13:17:38.137907",
     "exception": false,
     "start_time": "2020-08-10T13:17:37.894879",
     "status": "completed"
    },
    "tags": []
   },
   "outputs": [],
   "source": [
    "#hide\n",
    "df  = pd.read_csv('https://api.covid19india.org/csv/latest/states.csv')\n",
    "df = df[['Date','State','Confirmed','Deceased']]\n",
    "df = df.rename(columns={'Confirmed':'Cases', \"Deceased\":'Deaths'})\n",
    "df_cases = df[[\"Date\",'State','Cases']]\n",
    "df_deaths = df[['Date','State','Deaths']]\n",
    "df_cases1 = df_cases.groupby('Date')\n",
    "df_deaths1= df_deaths.groupby('Date')"
   ]
  },
  {
   "cell_type": "code",
   "execution_count": 3,
   "metadata": {
    "execution": {
     "iopub.execute_input": "2020-08-10T13:17:38.179209Z",
     "iopub.status.busy": "2020-08-10T13:17:38.178548Z",
     "iopub.status.idle": "2020-08-10T13:17:38.197784Z",
     "shell.execute_reply": "2020-08-10T13:17:38.197237Z"
    },
    "papermill": {
     "duration": 0.042206,
     "end_time": "2020-08-10T13:17:38.197946",
     "exception": false,
     "start_time": "2020-08-10T13:17:38.155740",
     "status": "completed"
    },
    "tags": []
   },
   "outputs": [],
   "source": [
    "#hide\n",
    "df_snap = pd.read_csv('data/SnapshotCases-28-July.csv')\n",
    "arr_states = df_snap['states'].unique()\n",
    "arr_dates = df['Date'].unique()\n",
    "df_snap = df_snap.set_index('states')"
   ]
  },
  {
   "cell_type": "code",
   "execution_count": 4,
   "metadata": {
    "execution": {
     "iopub.execute_input": "2020-08-10T13:17:38.239521Z",
     "iopub.status.busy": "2020-08-10T13:17:38.238879Z",
     "iopub.status.idle": "2020-08-10T13:17:38.242216Z",
     "shell.execute_reply": "2020-08-10T13:17:38.241621Z"
    },
    "papermill": {
     "duration": 0.026909,
     "end_time": "2020-08-10T13:17:38.242349",
     "exception": false,
     "start_time": "2020-08-10T13:17:38.215440",
     "status": "completed"
    },
    "tags": []
   },
   "outputs": [
    {
     "data": {
      "text/plain": [
       "array(['Andaman and Nicobar Islands', 'Andhra Pradesh',\n",
       "       'Arunachal Pradesh', 'Assam', 'Bihar', 'Chandigarh',\n",
       "       'Dadra and Nagar Haveli and Daman and Diu', 'Delhi', 'Goa',\n",
       "       'Gujarat', 'Haryana', 'Himachal Pradesh', 'Jammu and Kashmir',\n",
       "       'Jharkhand', 'Karnataka', 'Kerala', 'Lakshadweep',\n",
       "       'Madhya Pradesh', 'Maharashtra', 'Manipur', 'Meghalaya', 'Mizoram',\n",
       "       'Nagaland', 'Odisha', 'Puducherry', 'Punjab', 'Rajasthan',\n",
       "       'Sikkim', 'Tamil Nadu', 'Telangana', 'Tripura', 'Uttar Pradesh',\n",
       "       'West Bengal', 'Chhattisgarh', 'Ladakh', 'Uttarakhand'],\n",
       "      dtype=object)"
      ]
     },
     "execution_count": 4,
     "metadata": {},
     "output_type": "execute_result"
    }
   ],
   "source": [
    "#hide\n",
    "arr_states[-9] = 'Puducherry'\n",
    "arr_states[-10] = 'Odisha'\n",
    "arr_states[6] = 'Dadra and Nagar Haveli and Daman and Diu'\n",
    "arr_states = np.append(arr_states,np.array(['Chhattisgarh','Ladakh','Uttarakhand']))\n",
    "arr_states"
   ]
  },
  {
   "cell_type": "code",
   "execution_count": 5,
   "metadata": {
    "execution": {
     "iopub.execute_input": "2020-08-10T13:17:38.287596Z",
     "iopub.status.busy": "2020-08-10T13:17:38.287001Z",
     "iopub.status.idle": "2020-08-10T13:17:38.294001Z",
     "shell.execute_reply": "2020-08-10T13:17:38.293509Z"
    },
    "papermill": {
     "duration": 0.034194,
     "end_time": "2020-08-10T13:17:38.294129",
     "exception": false,
     "start_time": "2020-08-10T13:17:38.259935",
     "status": "completed"
    },
    "tags": []
   },
   "outputs": [],
   "source": [
    "#hide\n",
    "dates = []\n",
    "for i in arr_dates:\n",
    "    if i>='2020-07-01':\n",
    "        dates.append(i)\n",
    "dict = {'states':dates}\n",
    "for i in arr_states:\n",
    "    dict[i] = [0]*len(dates)\n",
    "dft_cases = pd.DataFrame(dict)\n",
    "dft_deaths = pd.DataFrame(dict)\n"
   ]
  },
  {
   "cell_type": "code",
   "execution_count": 6,
   "metadata": {
    "execution": {
     "iopub.execute_input": "2020-08-10T13:17:38.335769Z",
     "iopub.status.busy": "2020-08-10T13:17:38.335145Z",
     "iopub.status.idle": "2020-08-10T13:17:39.055327Z",
     "shell.execute_reply": "2020-08-10T13:17:39.056008Z"
    },
    "papermill": {
     "duration": 0.744448,
     "end_time": "2020-08-10T13:17:39.056196",
     "exception": false,
     "start_time": "2020-08-10T13:17:38.311748",
     "status": "completed"
    },
    "tags": []
   },
   "outputs": [],
   "source": [
    "#hide\n",
    "for i in range(len(dates)):\n",
    "    df1_deaths = df_deaths1.get_group(dates[i])\n",
    "    for j in range(len(df1_deaths.index)):\n",
    "        if df1_deaths.iloc[j,1] in arr_states:\n",
    "            dft_deaths.loc[i,df1_deaths.iloc[j,1]] = df1_deaths.iloc[j,2]\n",
    "dft_deaths = dft_deaths.set_index('states')"
   ]
  },
  {
   "cell_type": "code",
   "execution_count": 7,
   "metadata": {
    "execution": {
     "iopub.execute_input": "2020-08-10T13:17:39.099364Z",
     "iopub.status.busy": "2020-08-10T13:17:39.098565Z",
     "iopub.status.idle": "2020-08-10T13:17:39.797748Z",
     "shell.execute_reply": "2020-08-10T13:17:39.796624Z"
    },
    "papermill": {
     "duration": 0.722784,
     "end_time": "2020-08-10T13:17:39.797895",
     "exception": false,
     "start_time": "2020-08-10T13:17:39.075111",
     "status": "completed"
    },
    "tags": []
   },
   "outputs": [],
   "source": [
    "#hide\n",
    "for i in range(len(dates)):\n",
    "    df1_cases = df_cases1.get_group(dates[i])\n",
    "    for j in range(len(df1_cases.index)):\n",
    "        if df1_cases.iloc[j,1] in arr_states:\n",
    "            dft_cases.loc[i,df1_cases.iloc[j,1]] = df1_cases.iloc[j,2]\n",
    "dft_cases = dft_cases.set_index('states')"
   ]
  },
  {
   "cell_type": "code",
   "execution_count": 8,
   "metadata": {
    "execution": {
     "iopub.execute_input": "2020-08-10T13:17:39.838593Z",
     "iopub.status.busy": "2020-08-10T13:17:39.837948Z",
     "iopub.status.idle": "2020-08-10T13:17:39.840125Z",
     "shell.execute_reply": "2020-08-10T13:17:39.839538Z"
    },
    "papermill": {
     "duration": 0.025086,
     "end_time": "2020-08-10T13:17:39.840274",
     "exception": false,
     "start_time": "2020-08-10T13:17:39.815188",
     "status": "completed"
    },
    "tags": []
   },
   "outputs": [],
   "source": [
    "#hide\n",
    "dft_cases = dft_cases.T\n",
    "dft_deaths = dft_deaths.T\n",
    "dt_today = dates[-1]\n",
    "dt_yday = dates[-2]"
   ]
  },
  {
   "cell_type": "code",
   "execution_count": 9,
   "metadata": {
    "execution": {
     "iopub.execute_input": "2020-08-10T13:17:39.885954Z",
     "iopub.status.busy": "2020-08-10T13:17:39.885265Z",
     "iopub.status.idle": "2020-08-10T13:17:39.887911Z",
     "shell.execute_reply": "2020-08-10T13:17:39.887262Z"
    },
    "papermill": {
     "duration": 0.029895,
     "end_time": "2020-08-10T13:17:39.888071",
     "exception": false,
     "start_time": "2020-08-10T13:17:39.858176",
     "status": "completed"
    },
    "tags": []
   },
   "outputs": [],
   "source": [
    "#hide\n",
    "dft_cases = dft_cases.reset_index()\n",
    "dft_deaths = dft_deaths.reset_index()\n",
    "dft_cases = dft_cases.rename(columns = {'index':'state'})\n",
    "dft_deaths = dft_deaths.rename(columns = {'index':'state'})"
   ]
  },
  {
   "cell_type": "code",
   "execution_count": 10,
   "metadata": {
    "execution": {
     "iopub.execute_input": "2020-08-10T13:17:39.937122Z",
     "iopub.status.busy": "2020-08-10T13:17:39.936409Z",
     "iopub.status.idle": "2020-08-10T13:17:39.938725Z",
     "shell.execute_reply": "2020-08-10T13:17:39.938055Z"
    },
    "papermill": {
     "duration": 0.032586,
     "end_time": "2020-08-10T13:17:39.938864",
     "exception": false,
     "start_time": "2020-08-10T13:17:39.906278",
     "status": "completed"
    },
    "tags": []
   },
   "outputs": [],
   "source": [
    "#hide\n",
    "dfc_cases = dft_cases.groupby('state')[dt_today].sum()\n",
    "dfc_deaths = dft_deaths.groupby('state')[dt_today].sum()\n",
    "dfp_cases = dft_cases.groupby('state')[dt_yday].sum()\n",
    "dfp_deaths = dft_deaths.groupby('state')[dt_yday].sum()"
   ]
  },
  {
   "cell_type": "code",
   "execution_count": 11,
   "metadata": {
    "execution": {
     "iopub.execute_input": "2020-08-10T13:17:39.993835Z",
     "iopub.status.busy": "2020-08-10T13:17:39.990448Z",
     "iopub.status.idle": "2020-08-10T13:17:39.997686Z",
     "shell.execute_reply": "2020-08-10T13:17:39.997113Z"
    },
    "papermill": {
     "duration": 0.040645,
     "end_time": "2020-08-10T13:17:39.997824",
     "exception": false,
     "start_time": "2020-08-10T13:17:39.957179",
     "status": "completed"
    },
    "tags": []
   },
   "outputs": [
    {
     "data": {
      "text/html": [
       "<div>\n",
       "<style scoped>\n",
       "    .dataframe tbody tr th:only-of-type {\n",
       "        vertical-align: middle;\n",
       "    }\n",
       "\n",
       "    .dataframe tbody tr th {\n",
       "        vertical-align: top;\n",
       "    }\n",
       "\n",
       "    .dataframe thead th {\n",
       "        text-align: right;\n",
       "    }\n",
       "</style>\n",
       "<table border=\"1\" class=\"dataframe\">\n",
       "  <thead>\n",
       "    <tr style=\"text-align: right;\">\n",
       "      <th></th>\n",
       "      <th>states</th>\n",
       "      <th>Cases</th>\n",
       "      <th>Deaths</th>\n",
       "      <th>PCases</th>\n",
       "      <th>PDeaths</th>\n",
       "    </tr>\n",
       "  </thead>\n",
       "  <tbody>\n",
       "    <tr>\n",
       "      <th>0</th>\n",
       "      <td>Maharashtra</td>\n",
       "      <td>515332</td>\n",
       "      <td>17757</td>\n",
       "      <td>515332</td>\n",
       "      <td>17757</td>\n",
       "    </tr>\n",
       "    <tr>\n",
       "      <th>1</th>\n",
       "      <td>Tamil Nadu</td>\n",
       "      <td>296901</td>\n",
       "      <td>4927</td>\n",
       "      <td>296901</td>\n",
       "      <td>4927</td>\n",
       "    </tr>\n",
       "    <tr>\n",
       "      <th>2</th>\n",
       "      <td>Andhra Pradesh</td>\n",
       "      <td>227860</td>\n",
       "      <td>2036</td>\n",
       "      <td>227860</td>\n",
       "      <td>2036</td>\n",
       "    </tr>\n",
       "    <tr>\n",
       "      <th>3</th>\n",
       "      <td>Karnataka</td>\n",
       "      <td>178087</td>\n",
       "      <td>3198</td>\n",
       "      <td>178087</td>\n",
       "      <td>3198</td>\n",
       "    </tr>\n",
       "    <tr>\n",
       "      <th>4</th>\n",
       "      <td>Delhi</td>\n",
       "      <td>146134</td>\n",
       "      <td>4131</td>\n",
       "      <td>145427</td>\n",
       "      <td>4111</td>\n",
       "    </tr>\n",
       "  </tbody>\n",
       "</table>\n",
       "</div>"
      ],
      "text/plain": [
       "           states   Cases  Deaths  PCases  PDeaths\n",
       "0     Maharashtra  515332   17757  515332    17757\n",
       "1      Tamil Nadu  296901    4927  296901     4927\n",
       "2  Andhra Pradesh  227860    2036  227860     2036\n",
       "3       Karnataka  178087    3198  178087     3198\n",
       "4           Delhi  146134    4131  145427     4111"
      ]
     },
     "execution_count": 11,
     "metadata": {},
     "output_type": "execute_result"
    }
   ],
   "source": [
    "#hide\n",
    "df_table = pd.DataFrame({'states': dfc_cases.index, 'Cases': dfc_cases.values, 'Deaths': dfc_deaths.values, 'PCases': dfp_cases.values, 'PDeaths': dfp_deaths.values}).set_index('states')\n",
    "df_table = df_table.sort_values(by = ['Cases','Deaths'], ascending = [False, False])\n",
    "df_table = df_table.reset_index()\n",
    "df_table.head()"
   ]
  },
  {
   "cell_type": "code",
   "execution_count": 12,
   "metadata": {
    "execution": {
     "iopub.execute_input": "2020-08-10T13:17:40.041220Z",
     "iopub.status.busy": "2020-08-10T13:17:40.040532Z",
     "iopub.status.idle": "2020-08-10T13:17:40.051094Z",
     "shell.execute_reply": "2020-08-10T13:17:40.050232Z"
    },
    "papermill": {
     "duration": 0.034883,
     "end_time": "2020-08-10T13:17:40.051878",
     "exception": false,
     "start_time": "2020-08-10T13:17:40.016995",
     "status": "completed"
    },
    "tags": []
   },
   "outputs": [],
   "source": [
    "#hide\n",
    "for c in 'Cases, Deaths'.split(', '):\n",
    "    df_table[f'{c} (+)'] = (df_table[c] - df_table[f'P{c}']).clip(0)\n",
    "df_table['Fatality Rate'] = (100* df_table['Deaths']/ df_table['Cases']).round(2)"
   ]
  },
  {
   "cell_type": "code",
   "execution_count": 13,
   "metadata": {
    "execution": {
     "iopub.execute_input": "2020-08-10T13:17:40.105610Z",
     "iopub.status.busy": "2020-08-10T13:17:40.104833Z",
     "iopub.status.idle": "2020-08-10T13:17:40.107540Z",
     "shell.execute_reply": "2020-08-10T13:17:40.108206Z"
    },
    "papermill": {
     "duration": 0.03564,
     "end_time": "2020-08-10T13:17:40.108369",
     "exception": false,
     "start_time": "2020-08-10T13:17:40.072729",
     "status": "completed"
    },
    "tags": []
   },
   "outputs": [
    {
     "data": {
      "text/html": [
       "<div>\n",
       "<style scoped>\n",
       "    .dataframe tbody tr th:only-of-type {\n",
       "        vertical-align: middle;\n",
       "    }\n",
       "\n",
       "    .dataframe tbody tr th {\n",
       "        vertical-align: top;\n",
       "    }\n",
       "\n",
       "    .dataframe thead th {\n",
       "        text-align: right;\n",
       "    }\n",
       "</style>\n",
       "<table border=\"1\" class=\"dataframe\">\n",
       "  <thead>\n",
       "    <tr style=\"text-align: right;\">\n",
       "      <th></th>\n",
       "      <th>states</th>\n",
       "      <th>Cases</th>\n",
       "      <th>Deaths</th>\n",
       "      <th>PCases</th>\n",
       "      <th>PDeaths</th>\n",
       "      <th>Cases (+)</th>\n",
       "      <th>Deaths (+)</th>\n",
       "      <th>Fatality Rate</th>\n",
       "    </tr>\n",
       "  </thead>\n",
       "  <tbody>\n",
       "    <tr>\n",
       "      <th>0</th>\n",
       "      <td>Maharashtra</td>\n",
       "      <td>515332</td>\n",
       "      <td>17757</td>\n",
       "      <td>515332</td>\n",
       "      <td>17757</td>\n",
       "      <td>0</td>\n",
       "      <td>0</td>\n",
       "      <td>3.45</td>\n",
       "    </tr>\n",
       "    <tr>\n",
       "      <th>1</th>\n",
       "      <td>Tamil Nadu</td>\n",
       "      <td>296901</td>\n",
       "      <td>4927</td>\n",
       "      <td>296901</td>\n",
       "      <td>4927</td>\n",
       "      <td>0</td>\n",
       "      <td>0</td>\n",
       "      <td>1.66</td>\n",
       "    </tr>\n",
       "    <tr>\n",
       "      <th>2</th>\n",
       "      <td>Andhra Pradesh</td>\n",
       "      <td>227860</td>\n",
       "      <td>2036</td>\n",
       "      <td>227860</td>\n",
       "      <td>2036</td>\n",
       "      <td>0</td>\n",
       "      <td>0</td>\n",
       "      <td>0.89</td>\n",
       "    </tr>\n",
       "    <tr>\n",
       "      <th>3</th>\n",
       "      <td>Karnataka</td>\n",
       "      <td>178087</td>\n",
       "      <td>3198</td>\n",
       "      <td>178087</td>\n",
       "      <td>3198</td>\n",
       "      <td>0</td>\n",
       "      <td>0</td>\n",
       "      <td>1.80</td>\n",
       "    </tr>\n",
       "    <tr>\n",
       "      <th>4</th>\n",
       "      <td>Delhi</td>\n",
       "      <td>146134</td>\n",
       "      <td>4131</td>\n",
       "      <td>145427</td>\n",
       "      <td>4111</td>\n",
       "      <td>707</td>\n",
       "      <td>20</td>\n",
       "      <td>2.83</td>\n",
       "    </tr>\n",
       "  </tbody>\n",
       "</table>\n",
       "</div>"
      ],
      "text/plain": [
       "           states   Cases  Deaths  PCases  PDeaths  Cases (+)  Deaths (+)  \\\n",
       "0     Maharashtra  515332   17757  515332    17757          0           0   \n",
       "1      Tamil Nadu  296901    4927  296901     4927          0           0   \n",
       "2  Andhra Pradesh  227860    2036  227860     2036          0           0   \n",
       "3       Karnataka  178087    3198  178087     3198          0           0   \n",
       "4           Delhi  146134    4131  145427     4111        707          20   \n",
       "\n",
       "   Fatality Rate  \n",
       "0           3.45  \n",
       "1           1.66  \n",
       "2           0.89  \n",
       "3           1.80  \n",
       "4           2.83  "
      ]
     },
     "execution_count": 13,
     "metadata": {},
     "output_type": "execute_result"
    }
   ],
   "source": [
    "#hide\n",
    "df_table.head()"
   ]
  },
  {
   "cell_type": "code",
   "execution_count": 14,
   "metadata": {
    "execution": {
     "iopub.execute_input": "2020-08-10T13:17:40.154720Z",
     "iopub.status.busy": "2020-08-10T13:17:40.154020Z",
     "iopub.status.idle": "2020-08-10T13:17:40.173557Z",
     "shell.execute_reply": "2020-08-10T13:17:40.173005Z"
    },
    "papermill": {
     "duration": 0.045827,
     "end_time": "2020-08-10T13:17:40.173720",
     "exception": false,
     "start_time": "2020-08-10T13:17:40.127893",
     "status": "completed"
    },
    "tags": []
   },
   "outputs": [
    {
     "data": {
      "text/plain": [
       "{'updated': '2020-08-10',\n",
       " 'since': '2020-08-09',\n",
       " 'Cases': 2226471,\n",
       " 'PCases': 2214137,\n",
       " 'Deaths': 44599,\n",
       " 'PDeaths': 44466,\n",
       " 'Cases (+)': 12334,\n",
       " 'Deaths (+)': 133}"
      ]
     },
     "execution_count": 14,
     "metadata": {},
     "output_type": "execute_result"
    }
   ],
   "source": [
    "#hide\n",
    "summary = {'updated':dates[-1], 'since':dates[-2]}\n",
    "list_names = ['Cases', 'PCases', 'Deaths', 'PDeaths', 'Cases (+)', 'Deaths (+)']\n",
    "for name in list_names:\n",
    "    summary[name] = df_table.sum()[name]\n",
    "summary"
   ]
  },
  {
   "cell_type": "code",
   "execution_count": 15,
   "metadata": {
    "execution": {
     "iopub.execute_input": "2020-08-10T13:17:40.217235Z",
     "iopub.status.busy": "2020-08-10T13:17:40.216508Z",
     "iopub.status.idle": "2020-08-10T13:17:40.219041Z",
     "shell.execute_reply": "2020-08-10T13:17:40.218490Z"
    },
    "papermill": {
     "duration": 0.026025,
     "end_time": "2020-08-10T13:17:40.219173",
     "exception": false,
     "start_time": "2020-08-10T13:17:40.193148",
     "status": "completed"
    },
    "tags": []
   },
   "outputs": [],
   "source": [
    "#hide\n",
    "overview = '''\n",
    "<!-- #######  HTML!! #########-->\n",
    "<h1 style=\"color: #5e9ca0; text-align: center;\">India</h1>\n",
    "<p style=\"text-align: center;\">Last update: <strong>{update}</strong></p>\n",
    "<p style=\"text-align: center;\">Confirmed cases:</p>\n",
    "<p style=\"text-align: center;font-size:24px;\">{cases} (<span style=\"color: #ff0000;\">+{new}</span>)</p>\n",
    "<p style=\"text-align: center;\">Confirmed deaths:</p>\n",
    "<p style=\"text-align: center;font-size:24px;\">{deaths} (<span style=\"color: #ff0000;\">+{dnew}</span>)</p>\n",
    "'''"
   ]
  },
  {
   "cell_type": "code",
   "execution_count": 16,
   "metadata": {
    "execution": {
     "iopub.execute_input": "2020-08-10T13:17:40.262934Z",
     "iopub.status.busy": "2020-08-10T13:17:40.262245Z",
     "iopub.status.idle": "2020-08-10T13:17:40.265270Z",
     "shell.execute_reply": "2020-08-10T13:17:40.265809Z"
    },
    "papermill": {
     "duration": 0.028683,
     "end_time": "2020-08-10T13:17:40.265979",
     "exception": false,
     "start_time": "2020-08-10T13:17:40.237296",
     "status": "completed"
    },
    "tags": []
   },
   "outputs": [
    {
     "data": {
      "text/html": [
       "\n",
       "<!-- #######  HTML!! #########-->\n",
       "<h1 style=\"color: #5e9ca0; text-align: center;\">India</h1>\n",
       "<p style=\"text-align: center;\">Last update: <strong>2020-08-10</strong></p>\n",
       "<p style=\"text-align: center;\">Confirmed cases:</p>\n",
       "<p style=\"text-align: center;font-size:24px;\">2226471 (<span style=\"color: #ff0000;\">+12334</span>)</p>\n",
       "<p style=\"text-align: center;\">Confirmed deaths:</p>\n",
       "<p style=\"text-align: center;font-size:24px;\">44599 (<span style=\"color: #ff0000;\">+133</span>)</p>\n"
      ],
      "text/plain": [
       "<IPython.core.display.HTML object>"
      ]
     },
     "metadata": {},
     "output_type": "display_data"
    }
   ],
   "source": [
    "#hide_input\n",
    "update = summary['updated']\n",
    "cases = summary['Cases']\n",
    "new = summary['Cases (+)']\n",
    "deaths = summary['Deaths']\n",
    "dnew = summary['Deaths (+)']\n",
    "\n",
    "html = HTML(overview.format(update=update, cases=cases,new=new,deaths=deaths,dnew=dnew))\n",
    "\n",
    "display(html)"
   ]
  },
  {
   "cell_type": "code",
   "execution_count": 17,
   "metadata": {
    "execution": {
     "iopub.execute_input": "2020-08-10T13:17:40.311266Z",
     "iopub.status.busy": "2020-08-10T13:17:40.310618Z",
     "iopub.status.idle": "2020-08-10T13:17:40.316461Z",
     "shell.execute_reply": "2020-08-10T13:17:40.317140Z"
    },
    "papermill": {
     "duration": 0.032556,
     "end_time": "2020-08-10T13:17:40.317316",
     "exception": false,
     "start_time": "2020-08-10T13:17:40.284760",
     "status": "completed"
    },
    "tags": []
   },
   "outputs": [],
   "source": [
    "#hide\n",
    "dt_cols = list(dft_cases.columns[1:])\n",
    "dft_ct_new_cases = dft_cases.groupby('state')[dt_cols].sum().diff(axis=1).fillna(0).astype(int)\n",
    "dft_ct_new_cases.sort_values(by = dates[-1], ascending = False,inplace = True)"
   ]
  },
  {
   "cell_type": "code",
   "execution_count": 18,
   "metadata": {
    "execution": {
     "iopub.execute_input": "2020-08-10T13:17:40.376078Z",
     "iopub.status.busy": "2020-08-10T13:17:40.375428Z",
     "iopub.status.idle": "2020-08-10T13:17:40.378489Z",
     "shell.execute_reply": "2020-08-10T13:17:40.379125Z"
    },
    "papermill": {
     "duration": 0.042567,
     "end_time": "2020-08-10T13:17:40.379300",
     "exception": false,
     "start_time": "2020-08-10T13:17:40.336733",
     "status": "completed"
    },
    "tags": []
   },
   "outputs": [
    {
     "data": {
      "text/html": [
       "<div>\n",
       "<style scoped>\n",
       "    .dataframe tbody tr th:only-of-type {\n",
       "        vertical-align: middle;\n",
       "    }\n",
       "\n",
       "    .dataframe tbody tr th {\n",
       "        vertical-align: top;\n",
       "    }\n",
       "\n",
       "    .dataframe thead th {\n",
       "        text-align: right;\n",
       "    }\n",
       "</style>\n",
       "<table border=\"1\" class=\"dataframe\">\n",
       "  <thead>\n",
       "    <tr style=\"text-align: right;\">\n",
       "      <th>states</th>\n",
       "      <th>2020-07-01</th>\n",
       "      <th>2020-07-02</th>\n",
       "      <th>2020-07-03</th>\n",
       "      <th>2020-07-04</th>\n",
       "      <th>2020-07-05</th>\n",
       "      <th>2020-07-06</th>\n",
       "      <th>2020-07-07</th>\n",
       "      <th>2020-07-08</th>\n",
       "      <th>2020-07-09</th>\n",
       "      <th>2020-07-10</th>\n",
       "      <th>...</th>\n",
       "      <th>2020-08-01</th>\n",
       "      <th>2020-08-02</th>\n",
       "      <th>2020-08-03</th>\n",
       "      <th>2020-08-04</th>\n",
       "      <th>2020-08-05</th>\n",
       "      <th>2020-08-06</th>\n",
       "      <th>2020-08-07</th>\n",
       "      <th>2020-08-08</th>\n",
       "      <th>2020-08-09</th>\n",
       "      <th>2020-08-10</th>\n",
       "    </tr>\n",
       "    <tr>\n",
       "      <th>state</th>\n",
       "      <th></th>\n",
       "      <th></th>\n",
       "      <th></th>\n",
       "      <th></th>\n",
       "      <th></th>\n",
       "      <th></th>\n",
       "      <th></th>\n",
       "      <th></th>\n",
       "      <th></th>\n",
       "      <th></th>\n",
       "      <th></th>\n",
       "      <th></th>\n",
       "      <th></th>\n",
       "      <th></th>\n",
       "      <th></th>\n",
       "      <th></th>\n",
       "      <th></th>\n",
       "      <th></th>\n",
       "      <th></th>\n",
       "      <th></th>\n",
       "      <th></th>\n",
       "    </tr>\n",
       "  </thead>\n",
       "  <tbody>\n",
       "    <tr>\n",
       "      <th>Uttar Pradesh</th>\n",
       "      <td>0</td>\n",
       "      <td>769</td>\n",
       "      <td>972</td>\n",
       "      <td>757</td>\n",
       "      <td>1153</td>\n",
       "      <td>929</td>\n",
       "      <td>1332</td>\n",
       "      <td>1188</td>\n",
       "      <td>1206</td>\n",
       "      <td>1338</td>\n",
       "      <td>...</td>\n",
       "      <td>3587</td>\n",
       "      <td>3873</td>\n",
       "      <td>4441</td>\n",
       "      <td>2948</td>\n",
       "      <td>4078</td>\n",
       "      <td>4586</td>\n",
       "      <td>4404</td>\n",
       "      <td>4660</td>\n",
       "      <td>4571</td>\n",
       "      <td>4113</td>\n",
       "    </tr>\n",
       "    <tr>\n",
       "      <th>Bihar</th>\n",
       "      <td>0</td>\n",
       "      <td>478</td>\n",
       "      <td>426</td>\n",
       "      <td>349</td>\n",
       "      <td>403</td>\n",
       "      <td>280</td>\n",
       "      <td>385</td>\n",
       "      <td>749</td>\n",
       "      <td>704</td>\n",
       "      <td>352</td>\n",
       "      <td>...</td>\n",
       "      <td>3521</td>\n",
       "      <td>2762</td>\n",
       "      <td>2297</td>\n",
       "      <td>2464</td>\n",
       "      <td>2701</td>\n",
       "      <td>3416</td>\n",
       "      <td>3646</td>\n",
       "      <td>3992</td>\n",
       "      <td>3934</td>\n",
       "      <td>3021</td>\n",
       "    </tr>\n",
       "    <tr>\n",
       "      <th>Odisha</th>\n",
       "      <td>0</td>\n",
       "      <td>229</td>\n",
       "      <td>561</td>\n",
       "      <td>495</td>\n",
       "      <td>469</td>\n",
       "      <td>456</td>\n",
       "      <td>571</td>\n",
       "      <td>527</td>\n",
       "      <td>577</td>\n",
       "      <td>755</td>\n",
       "      <td>...</td>\n",
       "      <td>1602</td>\n",
       "      <td>1434</td>\n",
       "      <td>1384</td>\n",
       "      <td>1384</td>\n",
       "      <td>1337</td>\n",
       "      <td>1699</td>\n",
       "      <td>1833</td>\n",
       "      <td>1643</td>\n",
       "      <td>1734</td>\n",
       "      <td>1528</td>\n",
       "    </tr>\n",
       "    <tr>\n",
       "      <th>Telangana</th>\n",
       "      <td>0</td>\n",
       "      <td>1213</td>\n",
       "      <td>1892</td>\n",
       "      <td>1850</td>\n",
       "      <td>1590</td>\n",
       "      <td>1831</td>\n",
       "      <td>1879</td>\n",
       "      <td>1924</td>\n",
       "      <td>1410</td>\n",
       "      <td>1278</td>\n",
       "      <td>...</td>\n",
       "      <td>2083</td>\n",
       "      <td>1891</td>\n",
       "      <td>983</td>\n",
       "      <td>1286</td>\n",
       "      <td>2012</td>\n",
       "      <td>2092</td>\n",
       "      <td>2207</td>\n",
       "      <td>2256</td>\n",
       "      <td>1982</td>\n",
       "      <td>1256</td>\n",
       "    </tr>\n",
       "    <tr>\n",
       "      <th>Delhi</th>\n",
       "      <td>0</td>\n",
       "      <td>2373</td>\n",
       "      <td>2520</td>\n",
       "      <td>2505</td>\n",
       "      <td>2244</td>\n",
       "      <td>1379</td>\n",
       "      <td>2008</td>\n",
       "      <td>2033</td>\n",
       "      <td>2187</td>\n",
       "      <td>2089</td>\n",
       "      <td>...</td>\n",
       "      <td>1118</td>\n",
       "      <td>961</td>\n",
       "      <td>805</td>\n",
       "      <td>674</td>\n",
       "      <td>1076</td>\n",
       "      <td>1299</td>\n",
       "      <td>1192</td>\n",
       "      <td>1404</td>\n",
       "      <td>1300</td>\n",
       "      <td>707</td>\n",
       "    </tr>\n",
       "  </tbody>\n",
       "</table>\n",
       "<p>5 rows × 41 columns</p>\n",
       "</div>"
      ],
      "text/plain": [
       "states         2020-07-01  2020-07-02  2020-07-03  2020-07-04  2020-07-05  \\\n",
       "state                                                                       \n",
       "Uttar Pradesh           0         769         972         757        1153   \n",
       "Bihar                   0         478         426         349         403   \n",
       "Odisha                  0         229         561         495         469   \n",
       "Telangana               0        1213        1892        1850        1590   \n",
       "Delhi                   0        2373        2520        2505        2244   \n",
       "\n",
       "states         2020-07-06  2020-07-07  2020-07-08  2020-07-09  2020-07-10  \\\n",
       "state                                                                       \n",
       "Uttar Pradesh         929        1332        1188        1206        1338   \n",
       "Bihar                 280         385         749         704         352   \n",
       "Odisha                456         571         527         577         755   \n",
       "Telangana            1831        1879        1924        1410        1278   \n",
       "Delhi                1379        2008        2033        2187        2089   \n",
       "\n",
       "states         ...  2020-08-01  2020-08-02  2020-08-03  2020-08-04  \\\n",
       "state          ...                                                   \n",
       "Uttar Pradesh  ...        3587        3873        4441        2948   \n",
       "Bihar          ...        3521        2762        2297        2464   \n",
       "Odisha         ...        1602        1434        1384        1384   \n",
       "Telangana      ...        2083        1891         983        1286   \n",
       "Delhi          ...        1118         961         805         674   \n",
       "\n",
       "states         2020-08-05  2020-08-06  2020-08-07  2020-08-08  2020-08-09  \\\n",
       "state                                                                       \n",
       "Uttar Pradesh        4078        4586        4404        4660        4571   \n",
       "Bihar                2701        3416        3646        3992        3934   \n",
       "Odisha               1337        1699        1833        1643        1734   \n",
       "Telangana            2012        2092        2207        2256        1982   \n",
       "Delhi                1076        1299        1192        1404        1300   \n",
       "\n",
       "states         2020-08-10  \n",
       "state                      \n",
       "Uttar Pradesh        4113  \n",
       "Bihar                3021  \n",
       "Odisha               1528  \n",
       "Telangana            1256  \n",
       "Delhi                 707  \n",
       "\n",
       "[5 rows x 41 columns]"
      ]
     },
     "execution_count": 18,
     "metadata": {},
     "output_type": "execute_result"
    }
   ],
   "source": [
    "#hide\n",
    "dft_ct_new_cases.head()"
   ]
  },
  {
   "cell_type": "code",
   "execution_count": 19,
   "metadata": {
    "execution": {
     "iopub.execute_input": "2020-08-10T13:17:40.444258Z",
     "iopub.status.busy": "2020-08-10T13:17:40.438982Z",
     "iopub.status.idle": "2020-08-10T13:17:44.420961Z",
     "shell.execute_reply": "2020-08-10T13:17:44.421482Z"
    },
    "papermill": {
     "duration": 4.021984,
     "end_time": "2020-08-10T13:17:44.421646",
     "exception": false,
     "start_time": "2020-08-10T13:17:40.399662",
     "status": "completed"
    },
    "tags": []
   },
   "outputs": [
    {
     "data": {
      "image/png": "[encoded data removed]",
      "text/plain": [
       "<Figure size 1296x2016 with 11 Axes>"
      ]
     },
     "metadata": {
      "needs_background": "light"
     },
     "output_type": "display_data"
    }
   ],
   "source": [
    "#hide_input\n",
    "df = dft_ct_new_cases.copy()\n",
    "df.loc['Total'] = df.sum()\n",
    "n = 5\n",
    "ax = []\n",
    "fig = plt.figure(figsize = (18,28))\n",
    "gs = fig.add_gridspec(n+2, 5)\n",
    "# gs = fig.add_gridspec(2, 3)\n",
    "ax1 = fig.add_subplot(gs[0, :])\n",
    "ef = df.loc['Total'].rename_axis('date').reset_index()\n",
    "ef['date'] = ef['date'].astype('datetime64[ns]')\n",
    "ax1.bar(ef.date,ef.Total,alpha=0.3,color='#007acc')\n",
    "ax1.plot(ef.date,ef.Total , marker=\"o\", color='#007acc')\n",
    "ax1.xaxis.set_major_locator(mdates.WeekdayLocator())\n",
    "ax1.xaxis.set_major_formatter(mdates.DateFormatter('%b %d'))\n",
    "ax1.text(0.02, 0.5,'India daily case count', transform = ax1.transAxes, fontsize=25);\n",
    "ax1.spines['right'].set_visible(False)\n",
    "ax1.spines['top'].set_visible(False)\n",
    "\n",
    "ax2 = fig.add_subplot(gs[1,0])\n",
    "ef = df.loc['Maharashtra'].rename_axis('date').reset_index()\n",
    "ef['date'] = ef['date'].astype('datetime64[ns]')\n",
    "\n",
    "ax2.bar(ef.date, ef.Maharashtra,color = '#007acc',alpha=0.5)\n",
    "ax2.xaxis.set_major_locator(mdates.WeekdayLocator())\n",
    "ax2.xaxis.set_major_formatter(mdates.DateFormatter('%b %d'))\n",
    "ax2.set_xticks(ax2.get_xticks()[::3])\n",
    "maxyval = ef.Maharashtra.max()\n",
    "ax2.set_ylim([0,maxyval])\n",
    "ax2.text(0.05, 0.9,'Maharashtra', transform = ax2.transAxes, fontsize=20);\n",
    "ax2.spines['right'].set_visible(False)\n",
    "ax2.spines['top'].set_visible(False)\n",
    "\n",
    "\n",
    "ax3 = fig.add_subplot(gs[1,1])\n",
    "ef = df.loc['Tamil Nadu'].rename_axis('date').reset_index()\n",
    "ef['date'] = ef['date'].astype('datetime64[ns]')\n",
    "ax3.bar(ef.date, ef['Tamil Nadu'],color = '#007acc',alpha=0.5,)\n",
    "ax3.xaxis.set_major_locator(mdates.WeekdayLocator())\n",
    "ax3.xaxis.set_major_formatter(mdates.DateFormatter('%b %d'))\n",
    "ax3.set_xticks(ax3.get_xticks()[::3])\n",
    "ax3.text(0.05, 0.9,'Tamil Nadu', transform = ax3.transAxes, fontsize=20);\n",
    "ax3.spines['right'].set_visible(False)\n",
    "ax3.spines['top'].set_visible(False)\n",
    "\n",
    "ax5 = fig.add_subplot(gs[1,3])\n",
    "ef = df.loc['Telangana'].rename_axis('date').reset_index()\n",
    "ef['date'] = ef['date'].astype('datetime64[ns]')\n",
    "ax5.bar(ef.date, ef['Telangana'],color = '#007acc',alpha=0.5,)\n",
    "ax5.xaxis.set_major_locator(mdates.WeekdayLocator())\n",
    "ax5.xaxis.set_major_formatter(mdates.DateFormatter('%b %d'))\n",
    "ax5.set_xticks(ax5.get_xticks()[::3])\n",
    "ax5.text(0.05, 0.9,'Telangana', transform = ax5.transAxes, fontsize=20);\n",
    "ax5.spines['right'].set_visible(False)\n",
    "ax5.spines['top'].set_visible(False)\n",
    "\n",
    "ax6 = fig.add_subplot(gs[1,4])\n",
    "ef = df.loc['Andhra Pradesh'].rename_axis('date').reset_index()\n",
    "ef['date'] = ef['date'].astype('datetime64[ns]')\n",
    "ax6.bar(ef.date, ef['Andhra Pradesh'],color = '#007acc',alpha=0.5,)\n",
    "ax6.xaxis.set_major_locator(mdates.WeekdayLocator())\n",
    "ax6.xaxis.set_major_formatter(mdates.DateFormatter('%b %d'))\n",
    "ax6.set_xticks(ax6.get_xticks()[::3])\n",
    "ax6.text(0.05, 1,'Andhra Pradesh', transform = ax6.transAxes, fontsize=20);\n",
    "ax6.spines['right'].set_visible(False)\n",
    "ax6.spines['top'].set_visible(False)\n",
    "\n",
    "ax4 = fig.add_subplot(gs[1,2])\n",
    "ef = df.loc['Delhi'].rename_axis('date').reset_index()\n",
    "ef['date'] = ef['date'].astype('datetime64[ns]')\n",
    "ax4.bar(ef.date, ef.Delhi,color = '#007acc',alpha=0.5)\n",
    "ax4.set_xticks([])\n",
    "ax4.xaxis.set_major_locator(mdates.WeekdayLocator())\n",
    "ax4.xaxis.set_major_formatter(mdates.DateFormatter('%b %d'))\n",
    "ax4.set_xticks(ax4.get_xticks()[::3])\n",
    "ax4.spines['right'].set_visible(False)\n",
    "ax4.spines['top'].set_visible(False)\n",
    "\n",
    "ax4.text(0.05, 1,'Delhi', transform = ax4.transAxes, fontsize=20)\n",
    "\n",
    "for i in range(n):\n",
    "    \n",
    "    ax.append(fig.add_subplot(gs[i+2,:]))\n",
    "    ef = df.iloc[i+3].rename_axis('date').reset_index()\n",
    "    ef['date'] = ef['date'].astype('datetime64[ns]')\n",
    "    ax[i].bar(ef.date,ef.iloc[:,-1],color = '#007acc',alpha=0.3)\n",
    "    ax[i].plot(ef.date,ef.iloc[:,-1],marker='o',color='#007acc')\n",
    "    ax[i].text(0.02,0.5,f'{ef.columns.values[-1]}',transform = ax[i].transAxes, fontsize = 20);\n",
    "    ax[i].xaxis.set_major_locator(mdates.WeekdayLocator())\n",
    "    ax[i].xaxis.set_major_formatter(mdates.DateFormatter('%b %d'))\n",
    "    ax[i].set_ylim([0,7000])\n",
    "    ax[i].spines['right'].set_visible(False)\n",
    "    ax[i].spines['top'].set_visible(False)\n",
    "plt.tight_layout()\n"
   ]
  },
  {
   "cell_type": "code",
   "execution_count": 20,
   "metadata": {
    "execution": {
     "iopub.execute_input": "2020-08-10T13:17:44.479281Z",
     "iopub.status.busy": "2020-08-10T13:17:44.478541Z",
     "iopub.status.idle": "2020-08-10T13:17:44.481082Z",
     "shell.execute_reply": "2020-08-10T13:17:44.481625Z"
    },
    "papermill": {
     "duration": 0.036893,
     "end_time": "2020-08-10T13:17:44.481800",
     "exception": false,
     "start_time": "2020-08-10T13:17:44.444907",
     "status": "completed"
    },
    "tags": []
   },
   "outputs": [
    {
     "name": "stdout",
     "output_type": "stream",
     "text": [
      "                                   states   Cases  Deaths  PCases  PDeaths  Cases (+)  Deaths (+)  Fatality Rate\n",
      "                              Maharashtra  515332   17757  515332    17757          0           0           3.45\n",
      "                               Tamil Nadu  296901    4927  296901     4927          0           0           1.66\n",
      "                           Andhra Pradesh  227860    2036  227860     2036          0           0           0.89\n",
      "                                Karnataka  178087    3198  178087     3198          0           0           1.80\n",
      "                                    Delhi  146134    4131  145427     4111        707          20           2.83\n",
      "                            Uttar Pradesh  126722    2120  122609     2069       4113          51           1.67\n",
      "                              West Bengal   95554    2059   95554     2059          0           0           2.15\n",
      "                                    Bihar   82741     450   79720      429       3021          21           0.54\n",
      "                                Telangana   80751     637   79495      627       1256          10           0.79\n",
      "                                  Gujarat   71064    2652   71064     2652          0           0           3.73\n",
      "                                    Assam   58838     145   58838      145          0           0           0.25\n",
      "                                Rajasthan   53095     795   52497      789        598           6           1.50\n",
      "                                   Odisha   47455     337   45927      321       1528          16           0.71\n",
      "                                  Haryana   41635     483   41635      483          0           0           1.16\n",
      "                           Madhya Pradesh   39025     996   39025      996          0           0           2.55\n",
      "                                   Kerala   34331     109   34331      109          0           0           0.32\n",
      "                        Jammu and Kashmir   25367     478   24897      472        470           6           1.88\n",
      "                                   Punjab   23903     586   23903      586          0           0           2.45\n",
      "                                Jharkhand   18156     177   18156      177          0           0           0.97\n",
      "                             Chhattisgarh   12148      96   12148       96          0           0           0.79\n",
      "                              Uttarakhand    9632     125    9632      125          0           0           1.30\n",
      "                                      Goa    8712      75    8712       75          0           0           0.86\n",
      "                                  Tripura    6223      42    6161       41         62           1           0.67\n",
      "                               Puducherry    5624      89    5382       87        242           2           1.58\n",
      "                                  Manipur    3753      11    3753       11          0           0           0.29\n",
      "                         Himachal Pradesh    3375      14    3371       14          4           0           0.41\n",
      "                                 Nagaland    3011       8    2781        8        230           0           0.27\n",
      "                        Arunachal Pradesh    2155       3    2155        3          0           0           0.14\n",
      "                                   Ladakh    1688       9    1688        9          0           0           0.53\n",
      " Dadra and Nagar Haveli and Daman and Diu    1594       2    1555        2         39           0           0.13\n",
      "                               Chandigarh    1515      25    1515       25          0           0           1.65\n",
      "              Andaman and Nicobar Islands    1490      20    1490       20          0           0           1.34\n",
      "                                Meghalaya    1114       6    1062        6         52           0           0.54\n",
      "                                   Sikkim     866       1     866        1          0           0           0.12\n",
      "                                  Mizoram     620       0     608        0         12           0           0.00\n",
      "                              Lakshadweep       0       0       0        0          0           0            NaN\n"
     ]
    }
   ],
   "source": [
    "#hide_input\n",
    "print(df_table.to_string(index=False))"
   ]
  },
  {
   "cell_type": "code",
   "execution_count": null,
   "metadata": {
    "papermill": {
     "duration": 0.023605,
     "end_time": "2020-08-10T13:17:44.529966",
     "exception": false,
     "start_time": "2020-08-10T13:17:44.506361",
     "status": "completed"
    },
    "tags": []
   },
   "outputs": [],
   "source": []
  },
  {
   "cell_type": "code",
   "execution_count": null,
   "metadata": {
    "papermill": {
     "duration": 0.024468,
     "end_time": "2020-08-10T13:17:44.577833",
     "exception": false,
     "start_time": "2020-08-10T13:17:44.553365",
     "status": "completed"
    },
    "tags": []
   },
   "outputs": [],
   "source": []
  }
 ],
 "metadata": {
  "kernelspec": {
   "display_name": "Python 3",
   "language": "python",
   "name": "python3"
  },
  "language_info": {
   "codemirror_mode": {
    "name": "ipython",
    "version": 3
   },
   "file_extension": ".py",
   "mimetype": "text/x-python",
   "name": "python",
   "nbconvert_exporter": "python",
   "pygments_lexer": "ipython3",
   "version": "3.6.11"
  },
  "papermill": {
   "duration": 9.127801,
   "end_time": "2020-08-10T13:17:45.011347",
   "environment_variables": {},
   "exception": null,
   "input_path": "latest.ipynb",
   "output_path": "latest.ipynb",
   "parameters": {},
   "start_time": "2020-08-10T13:17:35.883546",
   "version": "2.1.2"
  }
 },
 "nbformat": 4,
 "nbformat_minor": 4
}