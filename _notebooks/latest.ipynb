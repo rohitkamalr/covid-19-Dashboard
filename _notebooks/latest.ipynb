{
 "cells": [
  {
   "cell_type": "markdown",
   "metadata": {
    "papermill": {
     "duration": 0.020458,
     "end_time": "2020-09-21T05:38:43.262033",
     "exception": false,
     "start_time": "2020-09-21T05:38:43.241575",
     "status": "completed"
    },
    "tags": []
   },
   "source": [
    "# Latest COVID-19 India Matplotlib Overview"
   ]
  },
  {
   "cell_type": "code",
   "execution_count": 1,
   "metadata": {
    "execution": {
     "iopub.execute_input": "2020-09-21T05:38:43.303946Z",
     "iopub.status.busy": "2020-09-21T05:38:43.303296Z",
     "iopub.status.idle": "2020-09-21T05:38:43.925568Z",
     "shell.execute_reply": "2020-09-21T05:38:43.924560Z"
    },
    "papermill": {
     "duration": 0.646947,
     "end_time": "2020-09-21T05:38:43.925741",
     "exception": false,
     "start_time": "2020-09-21T05:38:43.278794",
     "status": "completed"
    },
    "tags": []
   },
   "outputs": [],
   "source": [
    "#hide\n",
    "import pandas as pd\n",
    "import numpy as np\n",
    "import requests\n",
    "import json\n",
    "import matplotlib.pyplot as plt\n",
    "import matplotlib.dates as mdates\n",
    "import matplotlib as mpl\n",
    "from IPython.core.display import display,HTML\n",
    "%matplotlib inline\n",
    "from datetime import date"
   ]
  },
  {
   "cell_type": "code",
   "execution_count": 2,
   "metadata": {
    "execution": {
     "iopub.execute_input": "2020-09-21T05:38:43.964650Z",
     "iopub.status.busy": "2020-09-21T05:38:43.964016Z",
     "iopub.status.idle": "2020-09-21T05:38:44.178714Z",
     "shell.execute_reply": "2020-09-21T05:38:44.179281Z"
    },
    "papermill": {
     "duration": 0.237849,
     "end_time": "2020-09-21T05:38:44.179453",
     "exception": false,
     "start_time": "2020-09-21T05:38:43.941604",
     "status": "completed"
    },
    "tags": []
   },
   "outputs": [],
   "source": [
    "#hide\n",
    "df  = pd.read_csv('https://api.covid19india.org/csv/latest/states.csv')\n",
    "df = df[['Date','State','Confirmed','Deceased']]\n",
    "df = df.rename(columns={'Confirmed':'Cases', \"Deceased\":'Deaths'})\n",
    "df_cases = df[[\"Date\",'State','Cases']]\n",
    "df_deaths = df[['Date','State','Deaths']]\n",
    "df_cases1 = df_cases.groupby('Date')\n",
    "df_deaths1= df_deaths.groupby('Date')"
   ]
  },
  {
   "cell_type": "code",
   "execution_count": 3,
   "metadata": {
    "execution": {
     "iopub.execute_input": "2020-09-21T05:38:44.218169Z",
     "iopub.status.busy": "2020-09-21T05:38:44.217527Z",
     "iopub.status.idle": "2020-09-21T05:38:44.236151Z",
     "shell.execute_reply": "2020-09-21T05:38:44.235561Z"
    },
    "papermill": {
     "duration": 0.04071,
     "end_time": "2020-09-21T05:38:44.236511",
     "exception": false,
     "start_time": "2020-09-21T05:38:44.195801",
     "status": "completed"
    },
    "tags": []
   },
   "outputs": [],
   "source": [
    "#hide\n",
    "df_snap = pd.read_csv('data/SnapshotCases-28-July.csv')\n",
    "arr_states = df_snap['states'].unique()\n",
    "arr_dates = df['Date'].unique()\n",
    "df_snap = df_snap.set_index('states')"
   ]
  },
  {
   "cell_type": "code",
   "execution_count": 4,
   "metadata": {
    "execution": {
     "iopub.execute_input": "2020-09-21T05:38:44.279466Z",
     "iopub.status.busy": "2020-09-21T05:38:44.278809Z",
     "iopub.status.idle": "2020-09-21T05:38:44.283487Z",
     "shell.execute_reply": "2020-09-21T05:38:44.282489Z"
    },
    "papermill": {
     "duration": 0.03012,
     "end_time": "2020-09-21T05:38:44.283823",
     "exception": false,
     "start_time": "2020-09-21T05:38:44.253703",
     "status": "completed"
    },
    "tags": []
   },
   "outputs": [
    {
     "data": {
      "text/plain": [
       "array(['Andaman and Nicobar Islands', 'Andhra Pradesh',\n",
       "       'Arunachal Pradesh', 'Assam', 'Bihar', 'Chandigarh',\n",
       "       'Dadra and Nagar Haveli and Daman and Diu', 'Delhi', 'Goa',\n",
       "       'Gujarat', 'Haryana', 'Himachal Pradesh', 'Jammu and Kashmir',\n",
       "       'Jharkhand', 'Karnataka', 'Kerala', 'Lakshadweep',\n",
       "       'Madhya Pradesh', 'Maharashtra', 'Manipur', 'Meghalaya', 'Mizoram',\n",
       "       'Nagaland', 'Odisha', 'Puducherry', 'Punjab', 'Rajasthan',\n",
       "       'Sikkim', 'Tamil Nadu', 'Telangana', 'Tripura', 'Uttar Pradesh',\n",
       "       'West Bengal', 'Chhattisgarh', 'Ladakh', 'Uttarakhand'],\n",
       "      dtype=object)"
      ]
     },
     "execution_count": 4,
     "metadata": {},
     "output_type": "execute_result"
    }
   ],
   "source": [
    "#hide\n",
    "arr_states[-9] = 'Puducherry'\n",
    "arr_states[-10] = 'Odisha'\n",
    "arr_states[6] = 'Dadra and Nagar Haveli and Daman and Diu'\n",
    "arr_states = np.append(arr_states,np.array(['Chhattisgarh','Ladakh','Uttarakhand']))\n",
    "arr_states"
   ]
  },
  {
   "cell_type": "code",
   "execution_count": 5,
   "metadata": {
    "execution": {
     "iopub.execute_input": "2020-09-21T05:38:44.333073Z",
     "iopub.status.busy": "2020-09-21T05:38:44.332403Z",
     "iopub.status.idle": "2020-09-21T05:38:44.339868Z",
     "shell.execute_reply": "2020-09-21T05:38:44.339329Z"
    },
    "papermill": {
     "duration": 0.039313,
     "end_time": "2020-09-21T05:38:44.340004",
     "exception": false,
     "start_time": "2020-09-21T05:38:44.300691",
     "status": "completed"
    },
    "tags": []
   },
   "outputs": [],
   "source": [
    "#hide\n",
    "dates = []\n",
    "for i in arr_dates:\n",
    "    if i>='2020-07-01':\n",
    "        dates.append(i)\n",
    "dict = {'states':dates}\n",
    "for i in arr_states:\n",
    "    dict[i] = [0]*len(dates)\n",
    "dft_cases = pd.DataFrame(dict)\n",
    "dft_deaths = pd.DataFrame(dict)\n"
   ]
  },
  {
   "cell_type": "code",
   "execution_count": 6,
   "metadata": {
    "execution": {
     "iopub.execute_input": "2020-09-21T05:38:44.434788Z",
     "iopub.status.busy": "2020-09-21T05:38:44.434175Z",
     "iopub.status.idle": "2020-09-21T05:38:45.589285Z",
     "shell.execute_reply": "2020-09-21T05:38:45.588744Z"
    },
    "papermill": {
     "duration": 1.231669,
     "end_time": "2020-09-21T05:38:45.589433",
     "exception": false,
     "start_time": "2020-09-21T05:38:44.357764",
     "status": "completed"
    },
    "tags": []
   },
   "outputs": [],
   "source": [
    "#hide\n",
    "for i in range(len(dates)):\n",
    "    df1_deaths = df_deaths1.get_group(dates[i])\n",
    "    for j in range(len(df1_deaths.index)):\n",
    "        if df1_deaths.iloc[j,1] in arr_states:\n",
    "            dft_deaths.loc[i,df1_deaths.iloc[j,1]] = df1_deaths.iloc[j,2]\n",
    "dft_deaths = dft_deaths.set_index('states')"
   ]
  },
  {
   "cell_type": "code",
   "execution_count": 7,
   "metadata": {
    "execution": {
     "iopub.execute_input": "2020-09-21T05:38:45.635161Z",
     "iopub.status.busy": "2020-09-21T05:38:45.634472Z",
     "iopub.status.idle": "2020-09-21T05:38:46.791785Z",
     "shell.execute_reply": "2020-09-21T05:38:46.790868Z"
    },
    "papermill": {
     "duration": 1.183192,
     "end_time": "2020-09-21T05:38:46.792019",
     "exception": false,
     "start_time": "2020-09-21T05:38:45.608827",
     "status": "completed"
    },
    "tags": []
   },
   "outputs": [],
   "source": [
    "#hide\n",
    "for i in range(len(dates)):\n",
    "    df1_cases = df_cases1.get_group(dates[i])\n",
    "    for j in range(len(df1_cases.index)):\n",
    "        if df1_cases.iloc[j,1] in arr_states:\n",
    "            dft_cases.loc[i,df1_cases.iloc[j,1]] = df1_cases.iloc[j,2]\n",
    "dft_cases = dft_cases.set_index('states')"
   ]
  },
  {
   "cell_type": "code",
   "execution_count": 8,
   "metadata": {
    "execution": {
     "iopub.execute_input": "2020-09-21T05:38:46.832873Z",
     "iopub.status.busy": "2020-09-21T05:38:46.832219Z",
     "iopub.status.idle": "2020-09-21T05:38:46.834934Z",
     "shell.execute_reply": "2020-09-21T05:38:46.834440Z"
    },
    "papermill": {
     "duration": 0.024658,
     "end_time": "2020-09-21T05:38:46.835094",
     "exception": false,
     "start_time": "2020-09-21T05:38:46.810436",
     "status": "completed"
    },
    "tags": []
   },
   "outputs": [],
   "source": [
    "#hide\n",
    "dft_cases = dft_cases.T\n",
    "dft_deaths = dft_deaths.T\n",
    "dt_today = dates[-1]\n",
    "dt_yday = dates[-2]"
   ]
  },
  {
   "cell_type": "code",
   "execution_count": 9,
   "metadata": {
    "execution": {
     "iopub.execute_input": "2020-09-21T05:38:46.874214Z",
     "iopub.status.busy": "2020-09-21T05:38:46.873350Z",
     "iopub.status.idle": "2020-09-21T05:38:46.878607Z",
     "shell.execute_reply": "2020-09-21T05:38:46.879134Z"
    },
    "papermill": {
     "duration": 0.027902,
     "end_time": "2020-09-21T05:38:46.879294",
     "exception": false,
     "start_time": "2020-09-21T05:38:46.851392",
     "status": "completed"
    },
    "tags": []
   },
   "outputs": [],
   "source": [
    "#hide\n",
    "dft_cases = dft_cases.reset_index()\n",
    "dft_deaths = dft_deaths.reset_index()\n",
    "dft_cases = dft_cases.rename(columns = {'index':'state'})\n",
    "dft_deaths = dft_deaths.rename(columns = {'index':'state'})"
   ]
  },
  {
   "cell_type": "code",
   "execution_count": 10,
   "metadata": {
    "execution": {
     "iopub.execute_input": "2020-09-21T05:38:46.923130Z",
     "iopub.status.busy": "2020-09-21T05:38:46.922454Z",
     "iopub.status.idle": "2020-09-21T05:38:46.926303Z",
     "shell.execute_reply": "2020-09-21T05:38:46.925806Z"
    },
    "papermill": {
     "duration": 0.03108,
     "end_time": "2020-09-21T05:38:46.926442",
     "exception": false,
     "start_time": "2020-09-21T05:38:46.895362",
     "status": "completed"
    },
    "tags": []
   },
   "outputs": [],
   "source": [
    "#hide\n",
    "dfc_cases = dft_cases.groupby('state')[dt_today].sum()\n",
    "dfc_deaths = dft_deaths.groupby('state')[dt_today].sum()\n",
    "dfp_cases = dft_cases.groupby('state')[dt_yday].sum()\n",
    "dfp_deaths = dft_deaths.groupby('state')[dt_yday].sum()"
   ]
  },
  {
   "cell_type": "code",
   "execution_count": 11,
   "metadata": {
    "execution": {
     "iopub.execute_input": "2020-09-21T05:38:46.976756Z",
     "iopub.status.busy": "2020-09-21T05:38:46.976116Z",
     "iopub.status.idle": "2020-09-21T05:38:46.984952Z",
     "shell.execute_reply": "2020-09-21T05:38:46.985450Z"
    },
    "papermill": {
     "duration": 0.042995,
     "end_time": "2020-09-21T05:38:46.985604",
     "exception": false,
     "start_time": "2020-09-21T05:38:46.942609",
     "status": "completed"
    },
    "tags": []
   },
   "outputs": [
    {
     "data": {
      "text/html": [
       "<div>\n",
       "<style scoped>\n",
       "    .dataframe tbody tr th:only-of-type {\n",
       "        vertical-align: middle;\n",
       "    }\n",
       "\n",
       "    .dataframe tbody tr th {\n",
       "        vertical-align: top;\n",
       "    }\n",
       "\n",
       "    .dataframe thead th {\n",
       "        text-align: right;\n",
       "    }\n",
       "</style>\n",
       "<table border=\"1\" class=\"dataframe\">\n",
       "  <thead>\n",
       "    <tr style=\"text-align: right;\">\n",
       "      <th></th>\n",
       "      <th>states</th>\n",
       "      <th>Cases</th>\n",
       "      <th>Deaths</th>\n",
       "      <th>PCases</th>\n",
       "      <th>PDeaths</th>\n",
       "    </tr>\n",
       "  </thead>\n",
       "  <tbody>\n",
       "    <tr>\n",
       "      <th>0</th>\n",
       "      <td>Maharashtra</td>\n",
       "      <td>1208642</td>\n",
       "      <td>32671</td>\n",
       "      <td>1208642</td>\n",
       "      <td>32671</td>\n",
       "    </tr>\n",
       "    <tr>\n",
       "      <th>1</th>\n",
       "      <td>Andhra Pradesh</td>\n",
       "      <td>625514</td>\n",
       "      <td>5359</td>\n",
       "      <td>625514</td>\n",
       "      <td>5359</td>\n",
       "    </tr>\n",
       "    <tr>\n",
       "      <th>2</th>\n",
       "      <td>Tamil Nadu</td>\n",
       "      <td>541993</td>\n",
       "      <td>8811</td>\n",
       "      <td>541993</td>\n",
       "      <td>8811</td>\n",
       "    </tr>\n",
       "    <tr>\n",
       "      <th>3</th>\n",
       "      <td>Karnataka</td>\n",
       "      <td>519537</td>\n",
       "      <td>8023</td>\n",
       "      <td>519537</td>\n",
       "      <td>8023</td>\n",
       "    </tr>\n",
       "    <tr>\n",
       "      <th>4</th>\n",
       "      <td>Uttar Pradesh</td>\n",
       "      <td>354275</td>\n",
       "      <td>5047</td>\n",
       "      <td>354275</td>\n",
       "      <td>5047</td>\n",
       "    </tr>\n",
       "  </tbody>\n",
       "</table>\n",
       "</div>"
      ],
      "text/plain": [
       "           states    Cases  Deaths   PCases  PDeaths\n",
       "0     Maharashtra  1208642   32671  1208642    32671\n",
       "1  Andhra Pradesh   625514    5359   625514     5359\n",
       "2      Tamil Nadu   541993    8811   541993     8811\n",
       "3       Karnataka   519537    8023   519537     8023\n",
       "4   Uttar Pradesh   354275    5047   354275     5047"
      ]
     },
     "execution_count": 11,
     "metadata": {},
     "output_type": "execute_result"
    }
   ],
   "source": [
    "#hide\n",
    "df_table = pd.DataFrame({'states': dfc_cases.index, 'Cases': dfc_cases.values, 'Deaths': dfc_deaths.values, 'PCases': dfp_cases.values, 'PDeaths': dfp_deaths.values}).set_index('states')\n",
    "df_table = df_table.sort_values(by = ['Cases','Deaths'], ascending = [False, False])\n",
    "df_table = df_table.reset_index()\n",
    "df_table.head()"
   ]
  },
  {
   "cell_type": "code",
   "execution_count": 12,
   "metadata": {
    "execution": {
     "iopub.execute_input": "2020-09-21T05:38:47.026681Z",
     "iopub.status.busy": "2020-09-21T05:38:47.026061Z",
     "iopub.status.idle": "2020-09-21T05:38:47.036588Z",
     "shell.execute_reply": "2020-09-21T05:38:47.036065Z"
    },
    "papermill": {
     "duration": 0.034602,
     "end_time": "2020-09-21T05:38:47.036723",
     "exception": false,
     "start_time": "2020-09-21T05:38:47.002121",
     "status": "completed"
    },
    "tags": []
   },
   "outputs": [],
   "source": [
    "#hide\n",
    "for c in 'Cases, Deaths'.split(', '):\n",
    "    df_table[f'{c} (+)'] = (df_table[c] - df_table[f'P{c}']).clip(0)\n",
    "df_table['Fatality Rate'] = (100* df_table['Deaths']/ df_table['Cases']).round(2)"
   ]
  },
  {
   "cell_type": "code",
   "execution_count": 13,
   "metadata": {
    "execution": {
     "iopub.execute_input": "2020-09-21T05:38:47.082147Z",
     "iopub.status.busy": "2020-09-21T05:38:47.081472Z",
     "iopub.status.idle": "2020-09-21T05:38:47.083819Z",
     "shell.execute_reply": "2020-09-21T05:38:47.084348Z"
    },
    "papermill": {
     "duration": 0.030951,
     "end_time": "2020-09-21T05:38:47.084503",
     "exception": false,
     "start_time": "2020-09-21T05:38:47.053552",
     "status": "completed"
    },
    "tags": []
   },
   "outputs": [
    {
     "data": {
      "text/html": [
       "<div>\n",
       "<style scoped>\n",
       "    .dataframe tbody tr th:only-of-type {\n",
       "        vertical-align: middle;\n",
       "    }\n",
       "\n",
       "    .dataframe tbody tr th {\n",
       "        vertical-align: top;\n",
       "    }\n",
       "\n",
       "    .dataframe thead th {\n",
       "        text-align: right;\n",
       "    }\n",
       "</style>\n",
       "<table border=\"1\" class=\"dataframe\">\n",
       "  <thead>\n",
       "    <tr style=\"text-align: right;\">\n",
       "      <th></th>\n",
       "      <th>states</th>\n",
       "      <th>Cases</th>\n",
       "      <th>Deaths</th>\n",
       "      <th>PCases</th>\n",
       "      <th>PDeaths</th>\n",
       "      <th>Cases (+)</th>\n",
       "      <th>Deaths (+)</th>\n",
       "      <th>Fatality Rate</th>\n",
       "    </tr>\n",
       "  </thead>\n",
       "  <tbody>\n",
       "    <tr>\n",
       "      <th>0</th>\n",
       "      <td>Maharashtra</td>\n",
       "      <td>1208642</td>\n",
       "      <td>32671</td>\n",
       "      <td>1208642</td>\n",
       "      <td>32671</td>\n",
       "      <td>0</td>\n",
       "      <td>0</td>\n",
       "      <td>2.70</td>\n",
       "    </tr>\n",
       "    <tr>\n",
       "      <th>1</th>\n",
       "      <td>Andhra Pradesh</td>\n",
       "      <td>625514</td>\n",
       "      <td>5359</td>\n",
       "      <td>625514</td>\n",
       "      <td>5359</td>\n",
       "      <td>0</td>\n",
       "      <td>0</td>\n",
       "      <td>0.86</td>\n",
       "    </tr>\n",
       "    <tr>\n",
       "      <th>2</th>\n",
       "      <td>Tamil Nadu</td>\n",
       "      <td>541993</td>\n",
       "      <td>8811</td>\n",
       "      <td>541993</td>\n",
       "      <td>8811</td>\n",
       "      <td>0</td>\n",
       "      <td>0</td>\n",
       "      <td>1.63</td>\n",
       "    </tr>\n",
       "    <tr>\n",
       "      <th>3</th>\n",
       "      <td>Karnataka</td>\n",
       "      <td>519537</td>\n",
       "      <td>8023</td>\n",
       "      <td>519537</td>\n",
       "      <td>8023</td>\n",
       "      <td>0</td>\n",
       "      <td>0</td>\n",
       "      <td>1.54</td>\n",
       "    </tr>\n",
       "    <tr>\n",
       "      <th>4</th>\n",
       "      <td>Uttar Pradesh</td>\n",
       "      <td>354275</td>\n",
       "      <td>5047</td>\n",
       "      <td>354275</td>\n",
       "      <td>5047</td>\n",
       "      <td>0</td>\n",
       "      <td>0</td>\n",
       "      <td>1.42</td>\n",
       "    </tr>\n",
       "  </tbody>\n",
       "</table>\n",
       "</div>"
      ],
      "text/plain": [
       "           states    Cases  Deaths   PCases  PDeaths  Cases (+)  Deaths (+)  \\\n",
       "0     Maharashtra  1208642   32671  1208642    32671          0           0   \n",
       "1  Andhra Pradesh   625514    5359   625514     5359          0           0   \n",
       "2      Tamil Nadu   541993    8811   541993     8811          0           0   \n",
       "3       Karnataka   519537    8023   519537     8023          0           0   \n",
       "4   Uttar Pradesh   354275    5047   354275     5047          0           0   \n",
       "\n",
       "   Fatality Rate  \n",
       "0           2.70  \n",
       "1           0.86  \n",
       "2           1.63  \n",
       "3           1.54  \n",
       "4           1.42  "
      ]
     },
     "execution_count": 13,
     "metadata": {},
     "output_type": "execute_result"
    }
   ],
   "source": [
    "#hide\n",
    "df_table.head()"
   ]
  },
  {
   "cell_type": "code",
   "execution_count": 14,
   "metadata": {
    "execution": {
     "iopub.execute_input": "2020-09-21T05:38:47.132511Z",
     "iopub.status.busy": "2020-09-21T05:38:47.131676Z",
     "iopub.status.idle": "2020-09-21T05:38:47.145805Z",
     "shell.execute_reply": "2020-09-21T05:38:47.145302Z"
    },
    "papermill": {
     "duration": 0.043031,
     "end_time": "2020-09-21T05:38:47.145943",
     "exception": false,
     "start_time": "2020-09-21T05:38:47.102912",
     "status": "completed"
    },
    "tags": []
   },
   "outputs": [
    {
     "data": {
      "text/plain": [
       "{'updated': '2020-09-21',\n",
       " 'since': '2020-09-20',\n",
       " 'Cases': 5487164,\n",
       " 'PCases': 5485612,\n",
       " 'Deaths': 87924,\n",
       " 'PDeaths': 87909,\n",
       " 'Cases (+)': 1552,\n",
       " 'Deaths (+)': 15}"
      ]
     },
     "execution_count": 14,
     "metadata": {},
     "output_type": "execute_result"
    }
   ],
   "source": [
    "#hide\n",
    "summary = {'updated':dates[-1], 'since':dates[-2]}\n",
    "list_names = ['Cases', 'PCases', 'Deaths', 'PDeaths', 'Cases (+)', 'Deaths (+)']\n",
    "for name in list_names:\n",
    "    summary[name] = df_table.sum()[name]\n",
    "summary"
   ]
  },
  {
   "cell_type": "code",
   "execution_count": 15,
   "metadata": {
    "execution": {
     "iopub.execute_input": "2020-09-21T05:38:47.185868Z",
     "iopub.status.busy": "2020-09-21T05:38:47.185196Z",
     "iopub.status.idle": "2020-09-21T05:38:47.187736Z",
     "shell.execute_reply": "2020-09-21T05:38:47.187239Z"
    },
    "papermill": {
     "duration": 0.024383,
     "end_time": "2020-09-21T05:38:47.187871",
     "exception": false,
     "start_time": "2020-09-21T05:38:47.163488",
     "status": "completed"
    },
    "tags": []
   },
   "outputs": [],
   "source": [
    "#hide\n",
    "overview = '''\n",
    "<!-- #######  HTML!! #########-->\n",
    "<h1 style=\"color: #5e9ca0; text-align: center;\">India</h1>\n",
    "<p style=\"text-align: center;\">Last update: <strong>{update}</strong></p>\n",
    "<p style=\"text-align: center;\">Confirmed cases:</p>\n",
    "<p style=\"text-align: center;font-size:24px;\">{cases} (<span style=\"color: #ff0000;\">+{new}</span>)</p>\n",
    "<p style=\"text-align: center;\">Confirmed deaths:</p>\n",
    "<p style=\"text-align: center;font-size:24px;\">{deaths} (<span style=\"color: #ff0000;\">+{dnew}</span>)</p>\n",
    "'''"
   ]
  },
  {
   "cell_type": "code",
   "execution_count": 16,
   "metadata": {
    "execution": {
     "iopub.execute_input": "2020-09-21T05:38:47.231789Z",
     "iopub.status.busy": "2020-09-21T05:38:47.231109Z",
     "iopub.status.idle": "2020-09-21T05:38:47.233330Z",
     "shell.execute_reply": "2020-09-21T05:38:47.233818Z"
    },
    "papermill": {
     "duration": 0.028427,
     "end_time": "2020-09-21T05:38:47.233971",
     "exception": false,
     "start_time": "2020-09-21T05:38:47.205544",
     "status": "completed"
    },
    "tags": []
   },
   "outputs": [
    {
     "data": {
      "text/html": [
       "\n",
       "<!-- #######  HTML!! #########-->\n",
       "<h1 style=\"color: #5e9ca0; text-align: center;\">India</h1>\n",
       "<p style=\"text-align: center;\">Last update: <strong>2020-09-21</strong></p>\n",
       "<p style=\"text-align: center;\">Confirmed cases:</p>\n",
       "<p style=\"text-align: center;font-size:24px;\">5487164 (<span style=\"color: #ff0000;\">+1552</span>)</p>\n",
       "<p style=\"text-align: center;\">Confirmed deaths:</p>\n",
       "<p style=\"text-align: center;font-size:24px;\">87924 (<span style=\"color: #ff0000;\">+15</span>)</p>\n"
      ],
      "text/plain": [
       "<IPython.core.display.HTML object>"
      ]
     },
     "metadata": {},
     "output_type": "display_data"
    }
   ],
   "source": [
    "#hide_input\n",
    "update = summary['updated']\n",
    "cases = summary['Cases']\n",
    "new = summary['Cases (+)']\n",
    "deaths = summary['Deaths']\n",
    "dnew = summary['Deaths (+)']\n",
    "\n",
    "html = HTML(overview.format(update=update, cases=cases,new=new,deaths=deaths,dnew=dnew))\n",
    "\n",
    "display(html)"
   ]
  },
  {
   "cell_type": "code",
   "execution_count": 17,
   "metadata": {
    "execution": {
     "iopub.execute_input": "2020-09-21T05:38:47.278636Z",
     "iopub.status.busy": "2020-09-21T05:38:47.277999Z",
     "iopub.status.idle": "2020-09-21T05:38:47.284643Z",
     "shell.execute_reply": "2020-09-21T05:38:47.284118Z"
    },
    "papermill": {
     "duration": 0.032922,
     "end_time": "2020-09-21T05:38:47.284780",
     "exception": false,
     "start_time": "2020-09-21T05:38:47.251858",
     "status": "completed"
    },
    "tags": []
   },
   "outputs": [],
   "source": [
    "#hide\n",
    "dt_cols = list(dft_cases.columns[1:])\n",
    "dft_ct_new_cases = dft_cases.groupby('state')[dt_cols].sum().diff(axis=1).fillna(0).astype(int)\n",
    "dft_ct_new_cases.sort_values(by = dates[-1], ascending = False,inplace = True)"
   ]
  },
  {
   "cell_type": "code",
   "execution_count": 18,
   "metadata": {
    "execution": {
     "iopub.execute_input": "2020-09-21T05:38:47.339101Z",
     "iopub.status.busy": "2020-09-21T05:38:47.338450Z",
     "iopub.status.idle": "2020-09-21T05:38:47.341928Z",
     "shell.execute_reply": "2020-09-21T05:38:47.341407Z"
    },
    "papermill": {
     "duration": 0.039336,
     "end_time": "2020-09-21T05:38:47.342062",
     "exception": false,
     "start_time": "2020-09-21T05:38:47.302726",
     "status": "completed"
    },
    "tags": []
   },
   "outputs": [
    {
     "data": {
      "text/html": [
       "<div>\n",
       "<style scoped>\n",
       "    .dataframe tbody tr th:only-of-type {\n",
       "        vertical-align: middle;\n",
       "    }\n",
       "\n",
       "    .dataframe tbody tr th {\n",
       "        vertical-align: top;\n",
       "    }\n",
       "\n",
       "    .dataframe thead th {\n",
       "        text-align: right;\n",
       "    }\n",
       "</style>\n",
       "<table border=\"1\" class=\"dataframe\">\n",
       "  <thead>\n",
       "    <tr style=\"text-align: right;\">\n",
       "      <th>states</th>\n",
       "      <th>2020-07-01</th>\n",
       "      <th>2020-07-02</th>\n",
       "      <th>2020-07-03</th>\n",
       "      <th>2020-07-04</th>\n",
       "      <th>2020-07-05</th>\n",
       "      <th>2020-07-06</th>\n",
       "      <th>2020-07-07</th>\n",
       "      <th>2020-07-08</th>\n",
       "      <th>2020-07-09</th>\n",
       "      <th>2020-07-10</th>\n",
       "      <th>...</th>\n",
       "      <th>2020-09-12</th>\n",
       "      <th>2020-09-13</th>\n",
       "      <th>2020-09-14</th>\n",
       "      <th>2020-09-15</th>\n",
       "      <th>2020-09-16</th>\n",
       "      <th>2020-09-17</th>\n",
       "      <th>2020-09-18</th>\n",
       "      <th>2020-09-19</th>\n",
       "      <th>2020-09-20</th>\n",
       "      <th>2020-09-21</th>\n",
       "    </tr>\n",
       "    <tr>\n",
       "      <th>state</th>\n",
       "      <th></th>\n",
       "      <th></th>\n",
       "      <th></th>\n",
       "      <th></th>\n",
       "      <th></th>\n",
       "      <th></th>\n",
       "      <th></th>\n",
       "      <th></th>\n",
       "      <th></th>\n",
       "      <th></th>\n",
       "      <th></th>\n",
       "      <th></th>\n",
       "      <th></th>\n",
       "      <th></th>\n",
       "      <th></th>\n",
       "      <th></th>\n",
       "      <th></th>\n",
       "      <th></th>\n",
       "      <th></th>\n",
       "      <th></th>\n",
       "      <th></th>\n",
       "    </tr>\n",
       "  </thead>\n",
       "  <tbody>\n",
       "    <tr>\n",
       "      <th>Telangana</th>\n",
       "      <td>0</td>\n",
       "      <td>1213</td>\n",
       "      <td>1892</td>\n",
       "      <td>1850</td>\n",
       "      <td>1590</td>\n",
       "      <td>1831</td>\n",
       "      <td>1879</td>\n",
       "      <td>1924</td>\n",
       "      <td>1410</td>\n",
       "      <td>1278</td>\n",
       "      <td>...</td>\n",
       "      <td>2278</td>\n",
       "      <td>2216</td>\n",
       "      <td>1417</td>\n",
       "      <td>2058</td>\n",
       "      <td>2273</td>\n",
       "      <td>2159</td>\n",
       "      <td>2043</td>\n",
       "      <td>2123</td>\n",
       "      <td>2137</td>\n",
       "      <td>1302</td>\n",
       "    </tr>\n",
       "    <tr>\n",
       "      <th>Tripura</th>\n",
       "      <td>0</td>\n",
       "      <td>39</td>\n",
       "      <td>93</td>\n",
       "      <td>25</td>\n",
       "      <td>23</td>\n",
       "      <td>111</td>\n",
       "      <td>24</td>\n",
       "      <td>57</td>\n",
       "      <td>16</td>\n",
       "      <td>142</td>\n",
       "      <td>...</td>\n",
       "      <td>470</td>\n",
       "      <td>629</td>\n",
       "      <td>255</td>\n",
       "      <td>531</td>\n",
       "      <td>454</td>\n",
       "      <td>527</td>\n",
       "      <td>273</td>\n",
       "      <td>535</td>\n",
       "      <td>525</td>\n",
       "      <td>243</td>\n",
       "    </tr>\n",
       "    <tr>\n",
       "      <th>Mizoram</th>\n",
       "      <td>0</td>\n",
       "      <td>2</td>\n",
       "      <td>0</td>\n",
       "      <td>2</td>\n",
       "      <td>22</td>\n",
       "      <td>11</td>\n",
       "      <td>1</td>\n",
       "      <td>5</td>\n",
       "      <td>0</td>\n",
       "      <td>23</td>\n",
       "      <td>...</td>\n",
       "      <td>26</td>\n",
       "      <td>35</td>\n",
       "      <td>14</td>\n",
       "      <td>40</td>\n",
       "      <td>12</td>\n",
       "      <td>26</td>\n",
       "      <td>28</td>\n",
       "      <td>14</td>\n",
       "      <td>30</td>\n",
       "      <td>7</td>\n",
       "    </tr>\n",
       "    <tr>\n",
       "      <th>Andaman and Nicobar Islands</th>\n",
       "      <td>0</td>\n",
       "      <td>9</td>\n",
       "      <td>7</td>\n",
       "      <td>3</td>\n",
       "      <td>6</td>\n",
       "      <td>16</td>\n",
       "      <td>6</td>\n",
       "      <td>2</td>\n",
       "      <td>7</td>\n",
       "      <td>0</td>\n",
       "      <td>...</td>\n",
       "      <td>27</td>\n",
       "      <td>25</td>\n",
       "      <td>11</td>\n",
       "      <td>17</td>\n",
       "      <td>19</td>\n",
       "      <td>11</td>\n",
       "      <td>27</td>\n",
       "      <td>13</td>\n",
       "      <td>7</td>\n",
       "      <td>0</td>\n",
       "    </tr>\n",
       "    <tr>\n",
       "      <th>Puducherry</th>\n",
       "      <td>0</td>\n",
       "      <td>63</td>\n",
       "      <td>22</td>\n",
       "      <td>80</td>\n",
       "      <td>42</td>\n",
       "      <td>65</td>\n",
       "      <td>30</td>\n",
       "      <td>110</td>\n",
       "      <td>49</td>\n",
       "      <td>72</td>\n",
       "      <td>...</td>\n",
       "      <td>419</td>\n",
       "      <td>388</td>\n",
       "      <td>393</td>\n",
       "      <td>375</td>\n",
       "      <td>510</td>\n",
       "      <td>317</td>\n",
       "      <td>485</td>\n",
       "      <td>543</td>\n",
       "      <td>467</td>\n",
       "      <td>0</td>\n",
       "    </tr>\n",
       "  </tbody>\n",
       "</table>\n",
       "<p>5 rows × 83 columns</p>\n",
       "</div>"
      ],
      "text/plain": [
       "states                       2020-07-01  2020-07-02  2020-07-03  2020-07-04  \\\n",
       "state                                                                         \n",
       "Telangana                             0        1213        1892        1850   \n",
       "Tripura                               0          39          93          25   \n",
       "Mizoram                               0           2           0           2   \n",
       "Andaman and Nicobar Islands           0           9           7           3   \n",
       "Puducherry                            0          63          22          80   \n",
       "\n",
       "states                       2020-07-05  2020-07-06  2020-07-07  2020-07-08  \\\n",
       "state                                                                         \n",
       "Telangana                          1590        1831        1879        1924   \n",
       "Tripura                              23         111          24          57   \n",
       "Mizoram                              22          11           1           5   \n",
       "Andaman and Nicobar Islands           6          16           6           2   \n",
       "Puducherry                           42          65          30         110   \n",
       "\n",
       "states                       2020-07-09  2020-07-10  ...  2020-09-12  \\\n",
       "state                                                ...               \n",
       "Telangana                          1410        1278  ...        2278   \n",
       "Tripura                              16         142  ...         470   \n",
       "Mizoram                               0          23  ...          26   \n",
       "Andaman and Nicobar Islands           7           0  ...          27   \n",
       "Puducherry                           49          72  ...         419   \n",
       "\n",
       "states                       2020-09-13  2020-09-14  2020-09-15  2020-09-16  \\\n",
       "state                                                                         \n",
       "Telangana                          2216        1417        2058        2273   \n",
       "Tripura                             629         255         531         454   \n",
       "Mizoram                              35          14          40          12   \n",
       "Andaman and Nicobar Islands          25          11          17          19   \n",
       "Puducherry                          388         393         375         510   \n",
       "\n",
       "states                       2020-09-17  2020-09-18  2020-09-19  2020-09-20  \\\n",
       "state                                                                         \n",
       "Telangana                          2159        2043        2123        2137   \n",
       "Tripura                             527         273         535         525   \n",
       "Mizoram                              26          28          14          30   \n",
       "Andaman and Nicobar Islands          11          27          13           7   \n",
       "Puducherry                          317         485         543         467   \n",
       "\n",
       "states                       2020-09-21  \n",
       "state                                    \n",
       "Telangana                          1302  \n",
       "Tripura                             243  \n",
       "Mizoram                               7  \n",
       "Andaman and Nicobar Islands           0  \n",
       "Puducherry                            0  \n",
       "\n",
       "[5 rows x 83 columns]"
      ]
     },
     "execution_count": 18,
     "metadata": {},
     "output_type": "execute_result"
    }
   ],
   "source": [
    "#hide\n",
    "dft_ct_new_cases.head()"
   ]
  },
  {
   "cell_type": "code",
   "execution_count": 19,
   "metadata": {
    "execution": {
     "iopub.execute_input": "2020-09-21T05:38:47.408071Z",
     "iopub.status.busy": "2020-09-21T05:38:47.392404Z",
     "iopub.status.idle": "2020-09-21T05:38:51.278153Z",
     "shell.execute_reply": "2020-09-21T05:38:51.278657Z"
    },
    "papermill": {
     "duration": 3.918154,
     "end_time": "2020-09-21T05:38:51.278820",
     "exception": false,
     "start_time": "2020-09-21T05:38:47.360666",
     "status": "completed"
    },
    "tags": []
   },
   "outputs": [
    {
     "data": {
      "image/png": "[encoded data removed]",
      "text/plain": [
       "<Figure size 1296x2016 with 11 Axes>"
      ]
     },
     "metadata": {
      "needs_background": "light"
     },
     "output_type": "display_data"
    }
   ],
   "source": [
    "#hide_input\n",
    "df = dft_ct_new_cases.copy()\n",
    "df.loc['Total'] = df.sum()\n",
    "n = 5\n",
    "ax = []\n",
    "fig = plt.figure(figsize = (18,28))\n",
    "gs = fig.add_gridspec(n+2, 5)\n",
    "# gs = fig.add_gridspec(2, 3)\n",
    "ax1 = fig.add_subplot(gs[0, :])\n",
    "ef = df.loc['Total'].rename_axis('date').reset_index()\n",
    "ef['date'] = ef['date'].astype('datetime64[ns]')\n",
    "ax1.bar(ef.date,ef.Total,alpha=0.3,color='#007acc')\n",
    "ax1.plot(ef.date,ef.Total , marker=\"o\", color='#007acc')\n",
    "ax1.xaxis.set_major_locator(mdates.WeekdayLocator())\n",
    "ax1.xaxis.set_major_formatter(mdates.DateFormatter('%b %d'))\n",
    "ax1.text(0.02, 0.5,'India daily case count', transform = ax1.transAxes, fontsize=25);\n",
    "ax1.spines['right'].set_visible(False)\n",
    "ax1.spines['top'].set_visible(False)\n",
    "\n",
    "ax2 = fig.add_subplot(gs[1,0])\n",
    "ef = df.loc['Maharashtra'].rename_axis('date').reset_index()\n",
    "ef['date'] = ef['date'].astype('datetime64[ns]')\n",
    "\n",
    "ax2.bar(ef.date, ef.Maharashtra,color = '#007acc',alpha=0.5)\n",
    "ax2.xaxis.set_major_locator(mdates.WeekdayLocator())\n",
    "ax2.xaxis.set_major_formatter(mdates.DateFormatter('%b %d'))\n",
    "ax2.set_xticks(ax2.get_xticks()[::3])\n",
    "maxyval = ef.Maharashtra.max()\n",
    "ax2.set_ylim([0,maxyval])\n",
    "ax2.text(0.05, 0.9,'Maharashtra', transform = ax2.transAxes, fontsize=20);\n",
    "ax2.spines['right'].set_visible(False)\n",
    "ax2.spines['top'].set_visible(False)\n",
    "\n",
    "\n",
    "ax3 = fig.add_subplot(gs[1,1])\n",
    "ef = df.loc['Tamil Nadu'].rename_axis('date').reset_index()\n",
    "ef['date'] = ef['date'].astype('datetime64[ns]')\n",
    "ax3.bar(ef.date, ef['Tamil Nadu'],color = '#007acc',alpha=0.5,)\n",
    "ax3.xaxis.set_major_locator(mdates.WeekdayLocator())\n",
    "ax3.xaxis.set_major_formatter(mdates.DateFormatter('%b %d'))\n",
    "ax3.set_xticks(ax3.get_xticks()[::3])\n",
    "ax3.text(0.05, 0.9,'Tamil Nadu', transform = ax3.transAxes, fontsize=20);\n",
    "ax3.spines['right'].set_visible(False)\n",
    "ax3.spines['top'].set_visible(False)\n",
    "\n",
    "ax5 = fig.add_subplot(gs[1,3])\n",
    "ef = df.loc['Telangana'].rename_axis('date').reset_index()\n",
    "ef['date'] = ef['date'].astype('datetime64[ns]')\n",
    "ax5.bar(ef.date, ef['Telangana'],color = '#007acc',alpha=0.5,)\n",
    "ax5.xaxis.set_major_locator(mdates.WeekdayLocator())\n",
    "ax5.xaxis.set_major_formatter(mdates.DateFormatter('%b %d'))\n",
    "ax5.set_xticks(ax5.get_xticks()[::3])\n",
    "ax5.text(0.05, 0.9,'Telangana', transform = ax5.transAxes, fontsize=20);\n",
    "ax5.spines['right'].set_visible(False)\n",
    "ax5.spines['top'].set_visible(False)\n",
    "\n",
    "ax6 = fig.add_subplot(gs[1,4])\n",
    "ef = df.loc['Andhra Pradesh'].rename_axis('date').reset_index()\n",
    "ef['date'] = ef['date'].astype('datetime64[ns]')\n",
    "ax6.bar(ef.date, ef['Andhra Pradesh'],color = '#007acc',alpha=0.5,)\n",
    "ax6.xaxis.set_major_locator(mdates.WeekdayLocator())\n",
    "ax6.xaxis.set_major_formatter(mdates.DateFormatter('%b %d'))\n",
    "ax6.set_xticks(ax6.get_xticks()[::3])\n",
    "ax6.text(0.05, 1,'Andhra Pradesh', transform = ax6.transAxes, fontsize=20);\n",
    "ax6.spines['right'].set_visible(False)\n",
    "ax6.spines['top'].set_visible(False)\n",
    "\n",
    "ax4 = fig.add_subplot(gs[1,2])\n",
    "ef = df.loc['Delhi'].rename_axis('date').reset_index()\n",
    "ef['date'] = ef['date'].astype('datetime64[ns]')\n",
    "ax4.bar(ef.date, ef.Delhi,color = '#007acc',alpha=0.5)\n",
    "ax4.set_xticks([])\n",
    "ax4.xaxis.set_major_locator(mdates.WeekdayLocator())\n",
    "ax4.xaxis.set_major_formatter(mdates.DateFormatter('%b %d'))\n",
    "ax4.set_xticks(ax4.get_xticks()[::3])\n",
    "ax4.spines['right'].set_visible(False)\n",
    "ax4.spines['top'].set_visible(False)\n",
    "\n",
    "ax4.text(0.05, 1,'Delhi', transform = ax4.transAxes, fontsize=20)\n",
    "\n",
    "for i in range(n):\n",
    "    \n",
    "    ax.append(fig.add_subplot(gs[i+2,:]))\n",
    "    ef = df.iloc[i+3].rename_axis('date').reset_index()\n",
    "    ef['date'] = ef['date'].astype('datetime64[ns]')\n",
    "    ax[i].bar(ef.date,ef.iloc[:,-1],color = '#007acc',alpha=0.3)\n",
    "    ax[i].plot(ef.date,ef.iloc[:,-1],marker='o',color='#007acc')\n",
    "    ax[i].text(0.02,0.5,f'{ef.columns.values[-1]}',transform = ax[i].transAxes, fontsize = 20);\n",
    "    ax[i].xaxis.set_major_locator(mdates.WeekdayLocator())\n",
    "    ax[i].xaxis.set_major_formatter(mdates.DateFormatter('%b %d'))\n",
    "    ax[i].set_ylim([0,7000])\n",
    "    ax[i].spines['right'].set_visible(False)\n",
    "    ax[i].spines['top'].set_visible(False)\n",
    "plt.tight_layout()\n"
   ]
  },
  {
   "cell_type": "code",
   "execution_count": 20,
   "metadata": {
    "execution": {
     "iopub.execute_input": "2020-09-21T05:38:51.340791Z",
     "iopub.status.busy": "2020-09-21T05:38:51.339935Z",
     "iopub.status.idle": "2020-09-21T05:38:51.344045Z",
     "shell.execute_reply": "2020-09-21T05:38:51.343553Z"
    },
    "papermill": {
     "duration": 0.040851,
     "end_time": "2020-09-21T05:38:51.344183",
     "exception": false,
     "start_time": "2020-09-21T05:38:51.303332",
     "status": "completed"
    },
    "tags": []
   },
   "outputs": [
    {
     "name": "stdout",
     "output_type": "stream",
     "text": [
      "                                   states    Cases  Deaths   PCases  PDeaths  Cases (+)  Deaths (+)  Fatality Rate\n",
      "                              Maharashtra  1208642   32671  1208642    32671          0           0           2.70\n",
      "                           Andhra Pradesh   625514    5359   625514     5359          0           0           0.86\n",
      "                               Tamil Nadu   541993    8811   541993     8811          0           0           1.63\n",
      "                                Karnataka   519537    8023   519537     8023          0           0           1.54\n",
      "                            Uttar Pradesh   354275    5047   354275     5047          0           0           1.42\n",
      "                                    Delhi   246711    4982   246711     4982          0           0           2.02\n",
      "                              West Bengal   225137    4359   225137     4359          0           0           1.94\n",
      "                                   Odisha   179880     754   179880      754          0           0           0.42\n",
      "                                Telangana   172608    1042   171306     1033       1302           9           0.60\n",
      "                                    Bihar   168542     864   168542      864          0           0           0.51\n",
      "                                    Assam   156680     562   156680      562          0           0           0.36\n",
      "                                   Kerala   135723     536   135723      536          0           0           0.39\n",
      "                                  Gujarat   123337    3320   123337     3320          0           0           2.69\n",
      "                                Rajasthan   114989    1336   114989     1336          0           0           1.16\n",
      "                                  Haryana   111257    1149   111257     1149          0           0           1.03\n",
      "                           Madhya Pradesh   105644    1970   105644     1970          0           0           1.86\n",
      "                                   Punjab    97689    2813    97689     2813          0           0           2.88\n",
      "                             Chhattisgarh    86183     677    86183      677          0           0           0.79\n",
      "                                Jharkhand    71352     617    71352      617          0           0           0.86\n",
      "                        Jammu and Kashmir    63990    1001    63990     1001          0           0           1.56\n",
      "                              Uttarakhand    40963     491    40963      491          0           0           1.20\n",
      "                                      Goa    28429     351    28429      351          0           0           1.23\n",
      "                               Puducherry    22923     458    22923      458          0           0           2.00\n",
      "                                  Tripura    22272     245    22029      239        243           6           1.10\n",
      "                         Himachal Pradesh    12129     118    12129      118          0           0           0.97\n",
      "                               Chandigarh    10082     120    10082      120          0           0           1.19\n",
      "                                  Manipur     8894      57     8894       57          0           0           0.64\n",
      "                        Arunachal Pradesh     7385      13     7385       13          0           0           0.18\n",
      "                                 Nagaland     5451      10     5451       10          0           0           0.18\n",
      "                                Meghalaya     4660      36     4660       36          0           0           0.77\n",
      "                                   Ladakh     3753      49     3753       49          0           0           1.31\n",
      "              Andaman and Nicobar Islands     3651      52     3651       52          0           0           1.42\n",
      " Dadra and Nagar Haveli and Daman and Diu     2913       2     2913        2          0           0           0.07\n",
      "                                   Sikkim     2391      29     2391       29          0           0           1.21\n",
      "                                  Mizoram     1585       0     1578        0          7           0           0.00\n",
      "                              Lakshadweep        0       0        0        0          0           0            NaN\n"
     ]
    }
   ],
   "source": [
    "#hide_input\n",
    "print(df_table.to_string(index=False))"
   ]
  },
  {
   "cell_type": "code",
   "execution_count": null,
   "metadata": {
    "papermill": {
     "duration": 0.023937,
     "end_time": "2020-09-21T05:38:51.392102",
     "exception": false,
     "start_time": "2020-09-21T05:38:51.368165",
     "status": "completed"
    },
    "tags": []
   },
   "outputs": [],
   "source": []
  },
  {
   "cell_type": "code",
   "execution_count": null,
   "metadata": {
    "papermill": {
     "duration": 0.023831,
     "end_time": "2020-09-21T05:38:51.440064",
     "exception": false,
     "start_time": "2020-09-21T05:38:51.416233",
     "status": "completed"
    },
    "tags": []
   },
   "outputs": [],
   "source": []
  }
 ],
 "metadata": {
  "kernelspec": {
   "display_name": "Python 3",
   "language": "python",
   "name": "python3"
  },
  "language_info": {
   "codemirror_mode": {
    "name": "ipython",
    "version": 3
   },
   "file_extension": ".py",
   "mimetype": "text/x-python",
   "name": "python",
   "nbconvert_exporter": "python",
   "pygments_lexer": "ipython3",
   "version": "3.6.12"
  },
  "papermill": {
   "duration": 9.830308,
   "end_time": "2020-09-21T05:38:51.973587",
   "environment_variables": {},
   "exception": null,
   "input_path": "latest.ipynb",
   "output_path": "latest.ipynb",
   "parameters": {},
   "start_time": "2020-09-21T05:38:42.143279",
   "version": "2.1.2"
  }
 },
 "nbformat": 4,
 "nbformat_minor": 4
}