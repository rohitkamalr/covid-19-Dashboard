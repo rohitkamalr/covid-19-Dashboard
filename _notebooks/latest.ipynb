{
 "cells": [
  {
   "cell_type": "markdown",
   "id": "colored-stack",
   "metadata": {
    "papermill": {
     "duration": 0.019052,
     "end_time": "2021-05-18T11:24:42.057340",
     "exception": false,
     "start_time": "2021-05-18T11:24:42.038288",
     "status": "completed"
    },
    "tags": []
   },
   "source": [
    "# Latest COVID-19 India Matplotlib Overview"
   ]
  },
  {
   "cell_type": "code",
   "execution_count": 1,
   "id": "light-proportion",
   "metadata": {
    "execution": {
     "iopub.execute_input": "2021-05-18T11:24:42.100217Z",
     "iopub.status.busy": "2021-05-18T11:24:42.099703Z",
     "iopub.status.idle": "2021-05-18T11:24:42.622122Z",
     "shell.execute_reply": "2021-05-18T11:24:42.621598Z"
    },
    "papermill": {
     "duration": 0.548752,
     "end_time": "2021-05-18T11:24:42.622267",
     "exception": false,
     "start_time": "2021-05-18T11:24:42.073515",
     "status": "completed"
    },
    "tags": []
   },
   "outputs": [],
   "source": [
    "#hide\n",
    "import pandas as pd\n",
    "import numpy as np\n",
    "import requests\n",
    "import json\n",
    "import matplotlib.pyplot as plt\n",
    "import matplotlib.dates as mdates\n",
    "import matplotlib as mpl\n",
    "from IPython.core.display import display,HTML\n",
    "%matplotlib inline\n",
    "from datetime import date"
   ]
  },
  {
   "cell_type": "code",
   "execution_count": 2,
   "id": "greenhouse-shooting",
   "metadata": {
    "execution": {
     "iopub.execute_input": "2021-05-18T11:24:42.661244Z",
     "iopub.status.busy": "2021-05-18T11:24:42.660738Z",
     "iopub.status.idle": "2021-05-18T11:24:42.839213Z",
     "shell.execute_reply": "2021-05-18T11:24:42.839699Z"
    },
    "papermill": {
     "duration": 0.201273,
     "end_time": "2021-05-18T11:24:42.839868",
     "exception": false,
     "start_time": "2021-05-18T11:24:42.638595",
     "status": "completed"
    },
    "tags": []
   },
   "outputs": [],
   "source": [
    "#hide\n",
    "df  = pd.read_csv('https://api.covid19india.org/csv/latest/states.csv')\n",
    "df = df[['Date','State','Confirmed','Deceased']]\n",
    "df = df.rename(columns={'Confirmed':'Cases', \"Deceased\":'Deaths'})\n",
    "df_cases = df[[\"Date\",'State','Cases']]\n",
    "df_deaths = df[['Date','State','Deaths']]\n",
    "df_cases1 = df_cases.groupby('Date')\n",
    "df_deaths1= df_deaths.groupby('Date')"
   ]
  },
  {
   "cell_type": "code",
   "execution_count": 3,
   "id": "hybrid-cathedral",
   "metadata": {
    "execution": {
     "iopub.execute_input": "2021-05-18T11:24:42.875710Z",
     "iopub.status.busy": "2021-05-18T11:24:42.875210Z",
     "iopub.status.idle": "2021-05-18T11:24:42.890852Z",
     "shell.execute_reply": "2021-05-18T11:24:42.890445Z"
    },
    "papermill": {
     "duration": 0.035258,
     "end_time": "2021-05-18T11:24:42.890958",
     "exception": false,
     "start_time": "2021-05-18T11:24:42.855700",
     "status": "completed"
    },
    "tags": []
   },
   "outputs": [],
   "source": [
    "#hide\n",
    "df_snap = pd.read_csv('data/SnapshotCases-28-July.csv')\n",
    "arr_states = df_snap['states'].unique()\n",
    "arr_dates = df['Date'].unique()\n",
    "df_snap = df_snap.set_index('states')"
   ]
  },
  {
   "cell_type": "code",
   "execution_count": 4,
   "id": "interior-belfast",
   "metadata": {
    "execution": {
     "iopub.execute_input": "2021-05-18T11:24:42.927640Z",
     "iopub.status.busy": "2021-05-18T11:24:42.927116Z",
     "iopub.status.idle": "2021-05-18T11:24:42.930071Z",
     "shell.execute_reply": "2021-05-18T11:24:42.930469Z"
    },
    "papermill": {
     "duration": 0.024604,
     "end_time": "2021-05-18T11:24:42.930589",
     "exception": false,
     "start_time": "2021-05-18T11:24:42.905985",
     "status": "completed"
    },
    "tags": []
   },
   "outputs": [
    {
     "data": {
      "text/plain": [
       "array(['Andaman and Nicobar Islands', 'Andhra Pradesh',\n",
       "       'Arunachal Pradesh', 'Assam', 'Bihar', 'Chandigarh',\n",
       "       'Dadra and Nagar Haveli and Daman and Diu', 'Delhi', 'Goa',\n",
       "       'Gujarat', 'Haryana', 'Himachal Pradesh', 'Jammu and Kashmir',\n",
       "       'Jharkhand', 'Karnataka', 'Kerala', 'Lakshadweep',\n",
       "       'Madhya Pradesh', 'Maharashtra', 'Manipur', 'Meghalaya', 'Mizoram',\n",
       "       'Nagaland', 'Odisha', 'Puducherry', 'Punjab', 'Rajasthan',\n",
       "       'Sikkim', 'Tamil Nadu', 'Telangana', 'Tripura', 'Uttar Pradesh',\n",
       "       'West Bengal', 'Chhattisgarh', 'Ladakh', 'Uttarakhand'],\n",
       "      dtype=object)"
      ]
     },
     "execution_count": 4,
     "metadata": {},
     "output_type": "execute_result"
    }
   ],
   "source": [
    "#hide\n",
    "arr_states[-9] = 'Puducherry'\n",
    "arr_states[-10] = 'Odisha'\n",
    "arr_states[6] = 'Dadra and Nagar Haveli and Daman and Diu'\n",
    "arr_states = np.append(arr_states,np.array(['Chhattisgarh','Ladakh','Uttarakhand']))\n",
    "arr_states"
   ]
  },
  {
   "cell_type": "code",
   "execution_count": 5,
   "id": "behind-manner",
   "metadata": {
    "execution": {
     "iopub.execute_input": "2021-05-18T11:24:42.973115Z",
     "iopub.status.busy": "2021-05-18T11:24:42.972605Z",
     "iopub.status.idle": "2021-05-18T11:24:42.981941Z",
     "shell.execute_reply": "2021-05-18T11:24:42.982339Z"
    },
    "papermill": {
     "duration": 0.0365,
     "end_time": "2021-05-18T11:24:42.982459",
     "exception": false,
     "start_time": "2021-05-18T11:24:42.945959",
     "status": "completed"
    },
    "tags": []
   },
   "outputs": [],
   "source": [
    "#hide\n",
    "dates = []\n",
    "for i in arr_dates:\n",
    "    if i>='2020-07-01':\n",
    "        dates.append(i)\n",
    "dict = {'states':dates}\n",
    "for i in arr_states:\n",
    "    dict[i] = [0]*len(dates)\n",
    "dft_cases = pd.DataFrame(dict)\n",
    "dft_deaths = pd.DataFrame(dict)\n"
   ]
  },
  {
   "cell_type": "code",
   "execution_count": 6,
   "id": "simplified-peter",
   "metadata": {
    "execution": {
     "iopub.execute_input": "2021-05-18T11:24:43.021021Z",
     "iopub.status.busy": "2021-05-18T11:24:43.020489Z",
     "iopub.status.idle": "2021-05-18T11:24:47.105939Z",
     "shell.execute_reply": "2021-05-18T11:24:47.105429Z"
    },
    "papermill": {
     "duration": 4.10818,
     "end_time": "2021-05-18T11:24:47.106077",
     "exception": false,
     "start_time": "2021-05-18T11:24:42.997897",
     "status": "completed"
    },
    "tags": []
   },
   "outputs": [],
   "source": [
    "#hide\n",
    "for i in range(len(dates)):\n",
    "    df1_deaths = df_deaths1.get_group(dates[i])\n",
    "    for j in range(len(df1_deaths.index)):\n",
    "        if df1_deaths.iloc[j,1] in arr_states:\n",
    "            dft_deaths.loc[i,df1_deaths.iloc[j,1]] = df1_deaths.iloc[j,2]\n",
    "dft_deaths = dft_deaths.set_index('states')"
   ]
  },
  {
   "cell_type": "code",
   "execution_count": 7,
   "id": "geological-welding",
   "metadata": {
    "execution": {
     "iopub.execute_input": "2021-05-18T11:24:47.148233Z",
     "iopub.status.busy": "2021-05-18T11:24:47.147644Z",
     "iopub.status.idle": "2021-05-18T11:24:51.220739Z",
     "shell.execute_reply": "2021-05-18T11:24:51.219852Z"
    },
    "papermill": {
     "duration": 4.096988,
     "end_time": "2021-05-18T11:24:51.220880",
     "exception": false,
     "start_time": "2021-05-18T11:24:47.123892",
     "status": "completed"
    },
    "tags": []
   },
   "outputs": [],
   "source": [
    "#hide\n",
    "for i in range(len(dates)):\n",
    "    df1_cases = df_cases1.get_group(dates[i])\n",
    "    for j in range(len(df1_cases.index)):\n",
    "        if df1_cases.iloc[j,1] in arr_states:\n",
    "            dft_cases.loc[i,df1_cases.iloc[j,1]] = df1_cases.iloc[j,2]\n",
    "dft_cases = dft_cases.set_index('states')"
   ]
  },
  {
   "cell_type": "code",
   "execution_count": 8,
   "id": "binary-ratio",
   "metadata": {
    "execution": {
     "iopub.execute_input": "2021-05-18T11:24:51.258335Z",
     "iopub.status.busy": "2021-05-18T11:24:51.257460Z",
     "iopub.status.idle": "2021-05-18T11:24:51.258956Z",
     "shell.execute_reply": "2021-05-18T11:24:51.259432Z"
    },
    "papermill": {
     "duration": 0.022831,
     "end_time": "2021-05-18T11:24:51.259580",
     "exception": false,
     "start_time": "2021-05-18T11:24:51.236749",
     "status": "completed"
    },
    "tags": []
   },
   "outputs": [],
   "source": [
    "#hide\n",
    "dft_cases = dft_cases.T\n",
    "dft_deaths = dft_deaths.T\n",
    "dt_today = dates[-1]\n",
    "dt_yday = dates[-2]"
   ]
  },
  {
   "cell_type": "code",
   "execution_count": 9,
   "id": "boolean-calculator",
   "metadata": {
    "execution": {
     "iopub.execute_input": "2021-05-18T11:24:51.296977Z",
     "iopub.status.busy": "2021-05-18T11:24:51.296462Z",
     "iopub.status.idle": "2021-05-18T11:24:51.300967Z",
     "shell.execute_reply": "2021-05-18T11:24:51.300534Z"
    },
    "papermill": {
     "duration": 0.025398,
     "end_time": "2021-05-18T11:24:51.301074",
     "exception": false,
     "start_time": "2021-05-18T11:24:51.275676",
     "status": "completed"
    },
    "tags": []
   },
   "outputs": [],
   "source": [
    "#hide\n",
    "dft_cases = dft_cases.reset_index()\n",
    "dft_deaths = dft_deaths.reset_index()\n",
    "dft_cases = dft_cases.rename(columns = {'index':'state'})\n",
    "dft_deaths = dft_deaths.rename(columns = {'index':'state'})"
   ]
  },
  {
   "cell_type": "code",
   "execution_count": 10,
   "id": "invisible-johnston",
   "metadata": {
    "execution": {
     "iopub.execute_input": "2021-05-18T11:24:51.342635Z",
     "iopub.status.busy": "2021-05-18T11:24:51.342113Z",
     "iopub.status.idle": "2021-05-18T11:24:51.344554Z",
     "shell.execute_reply": "2021-05-18T11:24:51.344126Z"
    },
    "papermill": {
     "duration": 0.027978,
     "end_time": "2021-05-18T11:24:51.344664",
     "exception": false,
     "start_time": "2021-05-18T11:24:51.316686",
     "status": "completed"
    },
    "tags": []
   },
   "outputs": [],
   "source": [
    "#hide\n",
    "dfc_cases = dft_cases.groupby('state')[dt_today].sum()\n",
    "dfc_deaths = dft_deaths.groupby('state')[dt_today].sum()\n",
    "dfp_cases = dft_cases.groupby('state')[dt_yday].sum()\n",
    "dfp_deaths = dft_deaths.groupby('state')[dt_yday].sum()"
   ]
  },
  {
   "cell_type": "code",
   "execution_count": 11,
   "id": "measured-great",
   "metadata": {
    "execution": {
     "iopub.execute_input": "2021-05-18T11:24:51.383870Z",
     "iopub.status.busy": "2021-05-18T11:24:51.383359Z",
     "iopub.status.idle": "2021-05-18T11:24:51.395936Z",
     "shell.execute_reply": "2021-05-18T11:24:51.395520Z"
    },
    "papermill": {
     "duration": 0.035591,
     "end_time": "2021-05-18T11:24:51.396052",
     "exception": false,
     "start_time": "2021-05-18T11:24:51.360461",
     "status": "completed"
    },
    "tags": []
   },
   "outputs": [
    {
     "data": {
      "text/html": [
       "<div>\n",
       "<style scoped>\n",
       "    .dataframe tbody tr th:only-of-type {\n",
       "        vertical-align: middle;\n",
       "    }\n",
       "\n",
       "    .dataframe tbody tr th {\n",
       "        vertical-align: top;\n",
       "    }\n",
       "\n",
       "    .dataframe thead th {\n",
       "        text-align: right;\n",
       "    }\n",
       "</style>\n",
       "<table border=\"1\" class=\"dataframe\">\n",
       "  <thead>\n",
       "    <tr style=\"text-align: right;\">\n",
       "      <th></th>\n",
       "      <th>states</th>\n",
       "      <th>Cases</th>\n",
       "      <th>Deaths</th>\n",
       "      <th>PCases</th>\n",
       "      <th>PDeaths</th>\n",
       "    </tr>\n",
       "  </thead>\n",
       "  <tbody>\n",
       "    <tr>\n",
       "      <th>0</th>\n",
       "      <td>Maharashtra</td>\n",
       "      <td>5405068</td>\n",
       "      <td>82486</td>\n",
       "      <td>5405068</td>\n",
       "      <td>82486</td>\n",
       "    </tr>\n",
       "    <tr>\n",
       "      <th>1</th>\n",
       "      <td>Karnataka</td>\n",
       "      <td>2242065</td>\n",
       "      <td>22313</td>\n",
       "      <td>2242065</td>\n",
       "      <td>22313</td>\n",
       "    </tr>\n",
       "    <tr>\n",
       "      <th>2</th>\n",
       "      <td>Kerala</td>\n",
       "      <td>2169370</td>\n",
       "      <td>6516</td>\n",
       "      <td>2169370</td>\n",
       "      <td>6516</td>\n",
       "    </tr>\n",
       "    <tr>\n",
       "      <th>3</th>\n",
       "      <td>Tamil Nadu</td>\n",
       "      <td>1631291</td>\n",
       "      <td>18005</td>\n",
       "      <td>1631291</td>\n",
       "      <td>18005</td>\n",
       "    </tr>\n",
       "    <tr>\n",
       "      <th>4</th>\n",
       "      <td>Uttar Pradesh</td>\n",
       "      <td>1628990</td>\n",
       "      <td>17817</td>\n",
       "      <td>1628990</td>\n",
       "      <td>17817</td>\n",
       "    </tr>\n",
       "  </tbody>\n",
       "</table>\n",
       "</div>"
      ],
      "text/plain": [
       "          states    Cases  Deaths   PCases  PDeaths\n",
       "0    Maharashtra  5405068   82486  5405068    82486\n",
       "1      Karnataka  2242065   22313  2242065    22313\n",
       "2         Kerala  2169370    6516  2169370     6516\n",
       "3     Tamil Nadu  1631291   18005  1631291    18005\n",
       "4  Uttar Pradesh  1628990   17817  1628990    17817"
      ]
     },
     "execution_count": 11,
     "metadata": {},
     "output_type": "execute_result"
    }
   ],
   "source": [
    "#hide\n",
    "df_table = pd.DataFrame({'states': dfc_cases.index, 'Cases': dfc_cases.values, 'Deaths': dfc_deaths.values, 'PCases': dfp_cases.values, 'PDeaths': dfp_deaths.values}).set_index('states')\n",
    "df_table = df_table.sort_values(by = ['Cases','Deaths'], ascending = [False, False])\n",
    "df_table = df_table.reset_index()\n",
    "df_table.head()"
   ]
  },
  {
   "cell_type": "code",
   "execution_count": 12,
   "id": "found-montreal",
   "metadata": {
    "execution": {
     "iopub.execute_input": "2021-05-18T11:24:51.433124Z",
     "iopub.status.busy": "2021-05-18T11:24:51.432634Z",
     "iopub.status.idle": "2021-05-18T11:24:51.441394Z",
     "shell.execute_reply": "2021-05-18T11:24:51.440992Z"
    },
    "papermill": {
     "duration": 0.029582,
     "end_time": "2021-05-18T11:24:51.441508",
     "exception": false,
     "start_time": "2021-05-18T11:24:51.411926",
     "status": "completed"
    },
    "tags": []
   },
   "outputs": [],
   "source": [
    "#hide\n",
    "for c in 'Cases, Deaths'.split(', '):\n",
    "    df_table[f'{c} (+)'] = (df_table[c] - df_table[f'P{c}']).clip(0)\n",
    "df_table['Fatality Rate'] = (100* df_table['Deaths']/ df_table['Cases']).round(2)"
   ]
  },
  {
   "cell_type": "code",
   "execution_count": 13,
   "id": "minus-savage",
   "metadata": {
    "execution": {
     "iopub.execute_input": "2021-05-18T11:24:51.483481Z",
     "iopub.status.busy": "2021-05-18T11:24:51.482942Z",
     "iopub.status.idle": "2021-05-18T11:24:51.485756Z",
     "shell.execute_reply": "2021-05-18T11:24:51.485335Z"
    },
    "papermill": {
     "duration": 0.028424,
     "end_time": "2021-05-18T11:24:51.485861",
     "exception": false,
     "start_time": "2021-05-18T11:24:51.457437",
     "status": "completed"
    },
    "tags": []
   },
   "outputs": [
    {
     "data": {
      "text/html": [
       "<div>\n",
       "<style scoped>\n",
       "    .dataframe tbody tr th:only-of-type {\n",
       "        vertical-align: middle;\n",
       "    }\n",
       "\n",
       "    .dataframe tbody tr th {\n",
       "        vertical-align: top;\n",
       "    }\n",
       "\n",
       "    .dataframe thead th {\n",
       "        text-align: right;\n",
       "    }\n",
       "</style>\n",
       "<table border=\"1\" class=\"dataframe\">\n",
       "  <thead>\n",
       "    <tr style=\"text-align: right;\">\n",
       "      <th></th>\n",
       "      <th>states</th>\n",
       "      <th>Cases</th>\n",
       "      <th>Deaths</th>\n",
       "      <th>PCases</th>\n",
       "      <th>PDeaths</th>\n",
       "      <th>Cases (+)</th>\n",
       "      <th>Deaths (+)</th>\n",
       "      <th>Fatality Rate</th>\n",
       "    </tr>\n",
       "  </thead>\n",
       "  <tbody>\n",
       "    <tr>\n",
       "      <th>0</th>\n",
       "      <td>Maharashtra</td>\n",
       "      <td>5405068</td>\n",
       "      <td>82486</td>\n",
       "      <td>5405068</td>\n",
       "      <td>82486</td>\n",
       "      <td>0</td>\n",
       "      <td>0</td>\n",
       "      <td>1.53</td>\n",
       "    </tr>\n",
       "    <tr>\n",
       "      <th>1</th>\n",
       "      <td>Karnataka</td>\n",
       "      <td>2242065</td>\n",
       "      <td>22313</td>\n",
       "      <td>2242065</td>\n",
       "      <td>22313</td>\n",
       "      <td>0</td>\n",
       "      <td>0</td>\n",
       "      <td>1.00</td>\n",
       "    </tr>\n",
       "    <tr>\n",
       "      <th>2</th>\n",
       "      <td>Kerala</td>\n",
       "      <td>2169370</td>\n",
       "      <td>6516</td>\n",
       "      <td>2169370</td>\n",
       "      <td>6516</td>\n",
       "      <td>0</td>\n",
       "      <td>0</td>\n",
       "      <td>0.30</td>\n",
       "    </tr>\n",
       "    <tr>\n",
       "      <th>3</th>\n",
       "      <td>Tamil Nadu</td>\n",
       "      <td>1631291</td>\n",
       "      <td>18005</td>\n",
       "      <td>1631291</td>\n",
       "      <td>18005</td>\n",
       "      <td>0</td>\n",
       "      <td>0</td>\n",
       "      <td>1.10</td>\n",
       "    </tr>\n",
       "    <tr>\n",
       "      <th>4</th>\n",
       "      <td>Uttar Pradesh</td>\n",
       "      <td>1628990</td>\n",
       "      <td>17817</td>\n",
       "      <td>1628990</td>\n",
       "      <td>17817</td>\n",
       "      <td>0</td>\n",
       "      <td>0</td>\n",
       "      <td>1.09</td>\n",
       "    </tr>\n",
       "  </tbody>\n",
       "</table>\n",
       "</div>"
      ],
      "text/plain": [
       "          states    Cases  Deaths   PCases  PDeaths  Cases (+)  Deaths (+)  \\\n",
       "0    Maharashtra  5405068   82486  5405068    82486          0           0   \n",
       "1      Karnataka  2242065   22313  2242065    22313          0           0   \n",
       "2         Kerala  2169370    6516  2169370     6516          0           0   \n",
       "3     Tamil Nadu  1631291   18005  1631291    18005          0           0   \n",
       "4  Uttar Pradesh  1628990   17817  1628990    17817          0           0   \n",
       "\n",
       "   Fatality Rate  \n",
       "0           1.53  \n",
       "1           1.00  \n",
       "2           0.30  \n",
       "3           1.10  \n",
       "4           1.09  "
      ]
     },
     "execution_count": 13,
     "metadata": {},
     "output_type": "execute_result"
    }
   ],
   "source": [
    "#hide\n",
    "df_table.head()"
   ]
  },
  {
   "cell_type": "code",
   "execution_count": 14,
   "id": "false-peter",
   "metadata": {
    "execution": {
     "iopub.execute_input": "2021-05-18T11:24:51.523954Z",
     "iopub.status.busy": "2021-05-18T11:24:51.523454Z",
     "iopub.status.idle": "2021-05-18T11:24:51.538766Z",
     "shell.execute_reply": "2021-05-18T11:24:51.538341Z"
    },
    "papermill": {
     "duration": 0.036555,
     "end_time": "2021-05-18T11:24:51.538877",
     "exception": false,
     "start_time": "2021-05-18T11:24:51.502322",
     "status": "completed"
    },
    "tags": []
   },
   "outputs": [
    {
     "data": {
      "text/plain": [
       "{'updated': '2021-05-18',\n",
       " 'since': '2021-05-17',\n",
       " 'Cases': 25245894,\n",
       " 'PCases': 25228100,\n",
       " 'Deaths': 279079,\n",
       " 'PDeaths': 278751,\n",
       " 'Cases (+)': 17794,\n",
       " 'Deaths (+)': 328}"
      ]
     },
     "execution_count": 14,
     "metadata": {},
     "output_type": "execute_result"
    }
   ],
   "source": [
    "#hide\n",
    "summary = {'updated':dates[-1], 'since':dates[-2]}\n",
    "list_names = ['Cases', 'PCases', 'Deaths', 'PDeaths', 'Cases (+)', 'Deaths (+)']\n",
    "for name in list_names:\n",
    "    summary[name] = df_table.sum()[name]\n",
    "summary"
   ]
  },
  {
   "cell_type": "code",
   "execution_count": 15,
   "id": "packed-viewer",
   "metadata": {
    "execution": {
     "iopub.execute_input": "2021-05-18T11:24:51.576864Z",
     "iopub.status.busy": "2021-05-18T11:24:51.576280Z",
     "iopub.status.idle": "2021-05-18T11:24:51.578439Z",
     "shell.execute_reply": "2021-05-18T11:24:51.577984Z"
    },
    "papermill": {
     "duration": 0.023008,
     "end_time": "2021-05-18T11:24:51.578542",
     "exception": false,
     "start_time": "2021-05-18T11:24:51.555534",
     "status": "completed"
    },
    "tags": []
   },
   "outputs": [],
   "source": [
    "#hide\n",
    "overview = '''\n",
    "<!-- #######  HTML!! #########-->\n",
    "<h1 style=\"color: #5e9ca0; text-align: center;\">India</h1>\n",
    "<p style=\"text-align: center;\">Last update: <strong>{update}</strong></p>\n",
    "<p style=\"text-align: center;\">Confirmed cases:</p>\n",
    "<p style=\"text-align: center;font-size:24px;\">{cases} (<span style=\"color: #ff0000;\">+{new}</span>)</p>\n",
    "<p style=\"text-align: center;\">Confirmed deaths:</p>\n",
    "<p style=\"text-align: center;font-size:24px;\">{deaths} (<span style=\"color: #ff0000;\">+{dnew}</span>)</p>\n",
    "'''"
   ]
  },
  {
   "cell_type": "code",
   "execution_count": 16,
   "id": "phantom-lover",
   "metadata": {
    "execution": {
     "iopub.execute_input": "2021-05-18T11:24:51.617211Z",
     "iopub.status.busy": "2021-05-18T11:24:51.616634Z",
     "iopub.status.idle": "2021-05-18T11:24:51.618782Z",
     "shell.execute_reply": "2021-05-18T11:24:51.619197Z"
    },
    "papermill": {
     "duration": 0.024388,
     "end_time": "2021-05-18T11:24:51.619317",
     "exception": false,
     "start_time": "2021-05-18T11:24:51.594929",
     "status": "completed"
    },
    "tags": []
   },
   "outputs": [
    {
     "data": {
      "text/html": [
       "\n",
       "<!-- #######  HTML!! #########-->\n",
       "<h1 style=\"color: #5e9ca0; text-align: center;\">India</h1>\n",
       "<p style=\"text-align: center;\">Last update: <strong>2021-05-18</strong></p>\n",
       "<p style=\"text-align: center;\">Confirmed cases:</p>\n",
       "<p style=\"text-align: center;font-size:24px;\">25245894 (<span style=\"color: #ff0000;\">+17794</span>)</p>\n",
       "<p style=\"text-align: center;\">Confirmed deaths:</p>\n",
       "<p style=\"text-align: center;font-size:24px;\">279079 (<span style=\"color: #ff0000;\">+328</span>)</p>\n"
      ],
      "text/plain": [
       "<IPython.core.display.HTML object>"
      ]
     },
     "metadata": {},
     "output_type": "display_data"
    }
   ],
   "source": [
    "#hide_input\n",
    "update = summary['updated']\n",
    "cases = summary['Cases']\n",
    "new = summary['Cases (+)']\n",
    "deaths = summary['Deaths']\n",
    "dnew = summary['Deaths (+)']\n",
    "\n",
    "html = HTML(overview.format(update=update, cases=cases,new=new,deaths=deaths,dnew=dnew))\n",
    "\n",
    "display(html)"
   ]
  },
  {
   "cell_type": "code",
   "execution_count": 17,
   "id": "sealed-reset",
   "metadata": {
    "execution": {
     "iopub.execute_input": "2021-05-18T11:24:51.660752Z",
     "iopub.status.busy": "2021-05-18T11:24:51.660261Z",
     "iopub.status.idle": "2021-05-18T11:24:51.666460Z",
     "shell.execute_reply": "2021-05-18T11:24:51.666854Z"
    },
    "papermill": {
     "duration": 0.030745,
     "end_time": "2021-05-18T11:24:51.666976",
     "exception": false,
     "start_time": "2021-05-18T11:24:51.636231",
     "status": "completed"
    },
    "tags": []
   },
   "outputs": [],
   "source": [
    "#hide\n",
    "dt_cols = list(dft_cases.columns[1:])\n",
    "dft_ct_new_cases = dft_cases.groupby('state')[dt_cols].sum().diff(axis=1).fillna(0).astype(int)\n",
    "dft_ct_new_cases.sort_values(by = dates[-1], ascending = False,inplace = True)"
   ]
  },
  {
   "cell_type": "code",
   "execution_count": 18,
   "id": "designed-constant",
   "metadata": {
    "execution": {
     "iopub.execute_input": "2021-05-18T11:24:51.716962Z",
     "iopub.status.busy": "2021-05-18T11:24:51.716462Z",
     "iopub.status.idle": "2021-05-18T11:24:51.719178Z",
     "shell.execute_reply": "2021-05-18T11:24:51.719608Z"
    },
    "papermill": {
     "duration": 0.035993,
     "end_time": "2021-05-18T11:24:51.719734",
     "exception": false,
     "start_time": "2021-05-18T11:24:51.683741",
     "status": "completed"
    },
    "tags": []
   },
   "outputs": [
    {
     "data": {
      "text/html": [
       "<div>\n",
       "<style scoped>\n",
       "    .dataframe tbody tr th:only-of-type {\n",
       "        vertical-align: middle;\n",
       "    }\n",
       "\n",
       "    .dataframe tbody tr th {\n",
       "        vertical-align: top;\n",
       "    }\n",
       "\n",
       "    .dataframe thead th {\n",
       "        text-align: right;\n",
       "    }\n",
       "</style>\n",
       "<table border=\"1\" class=\"dataframe\">\n",
       "  <thead>\n",
       "    <tr style=\"text-align: right;\">\n",
       "      <th>states</th>\n",
       "      <th>2020-07-01</th>\n",
       "      <th>2020-07-02</th>\n",
       "      <th>2020-07-03</th>\n",
       "      <th>2020-07-04</th>\n",
       "      <th>2020-07-05</th>\n",
       "      <th>2020-07-06</th>\n",
       "      <th>2020-07-07</th>\n",
       "      <th>2020-07-08</th>\n",
       "      <th>2020-07-09</th>\n",
       "      <th>2020-07-10</th>\n",
       "      <th>...</th>\n",
       "      <th>2021-05-09</th>\n",
       "      <th>2021-05-10</th>\n",
       "      <th>2021-05-11</th>\n",
       "      <th>2021-05-12</th>\n",
       "      <th>2021-05-13</th>\n",
       "      <th>2021-05-14</th>\n",
       "      <th>2021-05-15</th>\n",
       "      <th>2021-05-16</th>\n",
       "      <th>2021-05-17</th>\n",
       "      <th>2021-05-18</th>\n",
       "    </tr>\n",
       "    <tr>\n",
       "      <th>state</th>\n",
       "      <th></th>\n",
       "      <th></th>\n",
       "      <th></th>\n",
       "      <th></th>\n",
       "      <th></th>\n",
       "      <th></th>\n",
       "      <th></th>\n",
       "      <th></th>\n",
       "      <th></th>\n",
       "      <th></th>\n",
       "      <th></th>\n",
       "      <th></th>\n",
       "      <th></th>\n",
       "      <th></th>\n",
       "      <th></th>\n",
       "      <th></th>\n",
       "      <th></th>\n",
       "      <th></th>\n",
       "      <th></th>\n",
       "      <th></th>\n",
       "      <th></th>\n",
       "    </tr>\n",
       "  </thead>\n",
       "  <tbody>\n",
       "    <tr>\n",
       "      <th>Odisha</th>\n",
       "      <td>0</td>\n",
       "      <td>229</td>\n",
       "      <td>561</td>\n",
       "      <td>495</td>\n",
       "      <td>469</td>\n",
       "      <td>456</td>\n",
       "      <td>571</td>\n",
       "      <td>527</td>\n",
       "      <td>577</td>\n",
       "      <td>755</td>\n",
       "      <td>...</td>\n",
       "      <td>10635</td>\n",
       "      <td>10031</td>\n",
       "      <td>9793</td>\n",
       "      <td>10982</td>\n",
       "      <td>10649</td>\n",
       "      <td>12390</td>\n",
       "      <td>11805</td>\n",
       "      <td>11732</td>\n",
       "      <td>10757</td>\n",
       "      <td>10321</td>\n",
       "    </tr>\n",
       "    <tr>\n",
       "      <th>Delhi</th>\n",
       "      <td>0</td>\n",
       "      <td>2373</td>\n",
       "      <td>2520</td>\n",
       "      <td>2505</td>\n",
       "      <td>2244</td>\n",
       "      <td>1379</td>\n",
       "      <td>2008</td>\n",
       "      <td>2033</td>\n",
       "      <td>2187</td>\n",
       "      <td>2089</td>\n",
       "      <td>...</td>\n",
       "      <td>13336</td>\n",
       "      <td>12651</td>\n",
       "      <td>12481</td>\n",
       "      <td>13287</td>\n",
       "      <td>10489</td>\n",
       "      <td>8506</td>\n",
       "      <td>6430</td>\n",
       "      <td>6456</td>\n",
       "      <td>4524</td>\n",
       "      <td>4482</td>\n",
       "    </tr>\n",
       "    <tr>\n",
       "      <th>Puducherry</th>\n",
       "      <td>0</td>\n",
       "      <td>63</td>\n",
       "      <td>22</td>\n",
       "      <td>80</td>\n",
       "      <td>42</td>\n",
       "      <td>65</td>\n",
       "      <td>30</td>\n",
       "      <td>110</td>\n",
       "      <td>49</td>\n",
       "      <td>72</td>\n",
       "      <td>...</td>\n",
       "      <td>1633</td>\n",
       "      <td>1266</td>\n",
       "      <td>2049</td>\n",
       "      <td>2007</td>\n",
       "      <td>1942</td>\n",
       "      <td>1974</td>\n",
       "      <td>1598</td>\n",
       "      <td>1961</td>\n",
       "      <td>1446</td>\n",
       "      <td>1797</td>\n",
       "    </tr>\n",
       "    <tr>\n",
       "      <th>Tripura</th>\n",
       "      <td>0</td>\n",
       "      <td>39</td>\n",
       "      <td>93</td>\n",
       "      <td>25</td>\n",
       "      <td>23</td>\n",
       "      <td>111</td>\n",
       "      <td>24</td>\n",
       "      <td>57</td>\n",
       "      <td>16</td>\n",
       "      <td>142</td>\n",
       "      <td>...</td>\n",
       "      <td>351</td>\n",
       "      <td>133</td>\n",
       "      <td>466</td>\n",
       "      <td>416</td>\n",
       "      <td>480</td>\n",
       "      <td>552</td>\n",
       "      <td>449</td>\n",
       "      <td>761</td>\n",
       "      <td>335</td>\n",
       "      <td>746</td>\n",
       "    </tr>\n",
       "    <tr>\n",
       "      <th>Mizoram</th>\n",
       "      <td>0</td>\n",
       "      <td>2</td>\n",
       "      <td>0</td>\n",
       "      <td>2</td>\n",
       "      <td>22</td>\n",
       "      <td>11</td>\n",
       "      <td>1</td>\n",
       "      <td>5</td>\n",
       "      <td>0</td>\n",
       "      <td>23</td>\n",
       "      <td>...</td>\n",
       "      <td>168</td>\n",
       "      <td>73</td>\n",
       "      <td>172</td>\n",
       "      <td>240</td>\n",
       "      <td>141</td>\n",
       "      <td>201</td>\n",
       "      <td>122</td>\n",
       "      <td>180</td>\n",
       "      <td>150</td>\n",
       "      <td>239</td>\n",
       "    </tr>\n",
       "  </tbody>\n",
       "</table>\n",
       "<p>5 rows × 322 columns</p>\n",
       "</div>"
      ],
      "text/plain": [
       "states      2020-07-01  2020-07-02  2020-07-03  2020-07-04  2020-07-05  \\\n",
       "state                                                                    \n",
       "Odisha               0         229         561         495         469   \n",
       "Delhi                0        2373        2520        2505        2244   \n",
       "Puducherry           0          63          22          80          42   \n",
       "Tripura              0          39          93          25          23   \n",
       "Mizoram              0           2           0           2          22   \n",
       "\n",
       "states      2020-07-06  2020-07-07  2020-07-08  2020-07-09  2020-07-10  ...  \\\n",
       "state                                                                   ...   \n",
       "Odisha             456         571         527         577         755  ...   \n",
       "Delhi             1379        2008        2033        2187        2089  ...   \n",
       "Puducherry          65          30         110          49          72  ...   \n",
       "Tripura            111          24          57          16         142  ...   \n",
       "Mizoram             11           1           5           0          23  ...   \n",
       "\n",
       "states      2021-05-09  2021-05-10  2021-05-11  2021-05-12  2021-05-13  \\\n",
       "state                                                                    \n",
       "Odisha           10635       10031        9793       10982       10649   \n",
       "Delhi            13336       12651       12481       13287       10489   \n",
       "Puducherry        1633        1266        2049        2007        1942   \n",
       "Tripura            351         133         466         416         480   \n",
       "Mizoram            168          73         172         240         141   \n",
       "\n",
       "states      2021-05-14  2021-05-15  2021-05-16  2021-05-17  2021-05-18  \n",
       "state                                                                   \n",
       "Odisha           12390       11805       11732       10757       10321  \n",
       "Delhi             8506        6430        6456        4524        4482  \n",
       "Puducherry        1974        1598        1961        1446        1797  \n",
       "Tripura            552         449         761         335         746  \n",
       "Mizoram            201         122         180         150         239  \n",
       "\n",
       "[5 rows x 322 columns]"
      ]
     },
     "execution_count": 18,
     "metadata": {},
     "output_type": "execute_result"
    }
   ],
   "source": [
    "#hide\n",
    "dft_ct_new_cases.head()"
   ]
  },
  {
   "cell_type": "code",
   "execution_count": 19,
   "id": "responsible-nightlife",
   "metadata": {
    "execution": {
     "iopub.execute_input": "2021-05-18T11:24:51.778889Z",
     "iopub.status.busy": "2021-05-18T11:24:51.762482Z",
     "iopub.status.idle": "2021-05-18T11:25:02.487927Z",
     "shell.execute_reply": "2021-05-18T11:25:02.488339Z"
    },
    "papermill": {
     "duration": 10.751148,
     "end_time": "2021-05-18T11:25:02.488484",
     "exception": false,
     "start_time": "2021-05-18T11:24:51.737336",
     "status": "completed"
    },
    "tags": []
   },
   "outputs": [
    {
     "data": {
      "image/png": "[encoded data removed]",
      "text/plain": [
       "<Figure size 1296x2016 with 11 Axes>"
      ]
     },
     "metadata": {
      "needs_background": "light"
     },
     "output_type": "display_data"
    }
   ],
   "source": [
    "#hide_input\n",
    "df = dft_ct_new_cases.copy()\n",
    "df.loc['Total'] = df.sum()\n",
    "n = 5\n",
    "ax = []\n",
    "fig = plt.figure(figsize = (18,28))\n",
    "gs = fig.add_gridspec(n+2, 5)\n",
    "# gs = fig.add_gridspec(2, 3)\n",
    "ax1 = fig.add_subplot(gs[0, :])\n",
    "ef = df.loc['Total'].rename_axis('date').reset_index()\n",
    "ef['date'] = ef['date'].astype('datetime64[ns]')\n",
    "ax1.bar(ef.date,ef.Total,alpha=0.3,color='#007acc')\n",
    "ax1.plot(ef.date,ef.Total , marker=\"o\", color='#007acc')\n",
    "ax1.xaxis.set_major_locator(mdates.WeekdayLocator())\n",
    "ax1.xaxis.set_major_formatter(mdates.DateFormatter('%b %d'))\n",
    "ax1.text(0.02, 0.5,'India daily case count', transform = ax1.transAxes, fontsize=25);\n",
    "ax1.spines['right'].set_visible(False)\n",
    "ax1.spines['top'].set_visible(False)\n",
    "\n",
    "ax2 = fig.add_subplot(gs[1,0])\n",
    "ef = df.loc['Maharashtra'].rename_axis('date').reset_index()\n",
    "ef['date'] = ef['date'].astype('datetime64[ns]')\n",
    "\n",
    "ax2.bar(ef.date, ef.Maharashtra,color = '#007acc',alpha=0.5)\n",
    "ax2.xaxis.set_major_locator(mdates.WeekdayLocator())\n",
    "ax2.xaxis.set_major_formatter(mdates.DateFormatter('%b %d'))\n",
    "ax2.set_xticks(ax2.get_xticks()[::3])\n",
    "maxyval = ef.Maharashtra.max()\n",
    "ax2.set_ylim([0,maxyval])\n",
    "ax2.text(0.05, 0.9,'Maharashtra', transform = ax2.transAxes, fontsize=20);\n",
    "ax2.spines['right'].set_visible(False)\n",
    "ax2.spines['top'].set_visible(False)\n",
    "\n",
    "\n",
    "ax3 = fig.add_subplot(gs[1,1])\n",
    "ef = df.loc['Tamil Nadu'].rename_axis('date').reset_index()\n",
    "ef['date'] = ef['date'].astype('datetime64[ns]')\n",
    "ax3.bar(ef.date, ef['Tamil Nadu'],color = '#007acc',alpha=0.5,)\n",
    "ax3.xaxis.set_major_locator(mdates.WeekdayLocator())\n",
    "ax3.xaxis.set_major_formatter(mdates.DateFormatter('%b %d'))\n",
    "ax3.set_xticks(ax3.get_xticks()[::3])\n",
    "ax3.text(0.05, 0.9,'Tamil Nadu', transform = ax3.transAxes, fontsize=20);\n",
    "ax3.spines['right'].set_visible(False)\n",
    "ax3.spines['top'].set_visible(False)\n",
    "\n",
    "ax5 = fig.add_subplot(gs[1,3])\n",
    "ef = df.loc['Telangana'].rename_axis('date').reset_index()\n",
    "ef['date'] = ef['date'].astype('datetime64[ns]')\n",
    "ax5.bar(ef.date, ef['Telangana'],color = '#007acc',alpha=0.5,)\n",
    "ax5.xaxis.set_major_locator(mdates.WeekdayLocator())\n",
    "ax5.xaxis.set_major_formatter(mdates.DateFormatter('%b %d'))\n",
    "ax5.set_xticks(ax5.get_xticks()[::3])\n",
    "ax5.text(0.05, 0.9,'Telangana', transform = ax5.transAxes, fontsize=20);\n",
    "ax5.spines['right'].set_visible(False)\n",
    "ax5.spines['top'].set_visible(False)\n",
    "\n",
    "ax6 = fig.add_subplot(gs[1,4])\n",
    "ef = df.loc['Andhra Pradesh'].rename_axis('date').reset_index()\n",
    "ef['date'] = ef['date'].astype('datetime64[ns]')\n",
    "ax6.bar(ef.date, ef['Andhra Pradesh'],color = '#007acc',alpha=0.5,)\n",
    "ax6.xaxis.set_major_locator(mdates.WeekdayLocator())\n",
    "ax6.xaxis.set_major_formatter(mdates.DateFormatter('%b %d'))\n",
    "ax6.set_xticks(ax6.get_xticks()[::3])\n",
    "ax6.text(0.05, 1,'Andhra Pradesh', transform = ax6.transAxes, fontsize=20);\n",
    "ax6.spines['right'].set_visible(False)\n",
    "ax6.spines['top'].set_visible(False)\n",
    "\n",
    "ax4 = fig.add_subplot(gs[1,2])\n",
    "ef = df.loc['Delhi'].rename_axis('date').reset_index()\n",
    "ef['date'] = ef['date'].astype('datetime64[ns]')\n",
    "ax4.bar(ef.date, ef.Delhi,color = '#007acc',alpha=0.5)\n",
    "ax4.set_xticks([])\n",
    "ax4.xaxis.set_major_locator(mdates.WeekdayLocator())\n",
    "ax4.xaxis.set_major_formatter(mdates.DateFormatter('%b %d'))\n",
    "ax4.set_xticks(ax4.get_xticks()[::3])\n",
    "ax4.spines['right'].set_visible(False)\n",
    "ax4.spines['top'].set_visible(False)\n",
    "\n",
    "ax4.text(0.05, 1,'Delhi', transform = ax4.transAxes, fontsize=20)\n",
    "\n",
    "for i in range(n):\n",
    "    \n",
    "    ax.append(fig.add_subplot(gs[i+2,:]))\n",
    "    ef = df.iloc[i+3].rename_axis('date').reset_index()\n",
    "    ef['date'] = ef['date'].astype('datetime64[ns]')\n",
    "    ax[i].bar(ef.date,ef.iloc[:,-1],color = '#007acc',alpha=0.3)\n",
    "    ax[i].plot(ef.date,ef.iloc[:,-1],marker='o',color='#007acc')\n",
    "    ax[i].text(0.02,0.5,f'{ef.columns.values[-1]}',transform = ax[i].transAxes, fontsize = 20);\n",
    "    ax[i].xaxis.set_major_locator(mdates.WeekdayLocator())\n",
    "    ax[i].xaxis.set_major_formatter(mdates.DateFormatter('%b %d'))\n",
    "    ax[i].set_ylim([0,7000])\n",
    "    ax[i].spines['right'].set_visible(False)\n",
    "    ax[i].spines['top'].set_visible(False)\n",
    "plt.tight_layout()\n"
   ]
  },
  {
   "cell_type": "code",
   "execution_count": 20,
   "id": "dress-forge",
   "metadata": {
    "execution": {
     "iopub.execute_input": "2021-05-18T11:25:02.541962Z",
     "iopub.status.busy": "2021-05-18T11:25:02.541447Z",
     "iopub.status.idle": "2021-05-18T11:25:02.543441Z",
     "shell.execute_reply": "2021-05-18T11:25:02.543839Z"
    },
    "papermill": {
     "duration": 0.033128,
     "end_time": "2021-05-18T11:25:02.543964",
     "exception": false,
     "start_time": "2021-05-18T11:25:02.510836",
     "status": "completed"
    },
    "tags": []
   },
   "outputs": [
    {
     "name": "stdout",
     "output_type": "stream",
     "text": [
      "                                   states    Cases  Deaths   PCases  PDeaths  Cases (+)  Deaths (+)  Fatality Rate\n",
      "                              Maharashtra  5405068   82486  5405068    82486          0           0           1.53\n",
      "                                Karnataka  2242065   22313  2242065    22313          0           0           1.00\n",
      "                                   Kerala  2169370    6516  2169370     6516          0           0           0.30\n",
      "                               Tamil Nadu  1631291   18005  1631291    18005          0           0           1.10\n",
      "                            Uttar Pradesh  1628990   17817  1628990    17817          0           0           1.09\n",
      "                           Andhra Pradesh  1454052    9481  1454052     9481          0           0           0.65\n",
      "                                    Delhi  1402873   22111  1398391    21846       4482         265           1.58\n",
      "                              West Bengal  1152433   13431  1152433    13431          0           0           1.17\n",
      "                             Chhattisgarh   919054   11883   919054    11883          0           0           1.29\n",
      "                                Rajasthan   871266    6934   871266     6934          0           0           0.80\n",
      "                                  Gujarat   759754    9202   759754     9202          0           0           1.21\n",
      "                           Madhya Pradesh   737306    7069   737306     7069          0           0           0.96\n",
      "                                  Haryana   701915    6799   701915     6799          0           0           0.97\n",
      "                                    Bihar   657829    3928   657829     3928          0           0           0.60\n",
      "                                   Odisha   633302    2410   622981     2388      10321          22           0.38\n",
      "                                Telangana   532784    2985   532784     2985          0           0           0.56\n",
      "                                   Punjab   504586   12086   504586    12086          0           0           2.40\n",
      "                                    Assam   335023    2271   335023     2271          0           0           0.68\n",
      "                                Jharkhand   318009    4539   318009     4539          0           0           1.43\n",
      "                              Uttarakhand   291005    5034   291005     5034          0           0           1.73\n",
      "                        Jammu and Kashmir   247952    3222   247952     3222          0           0           1.30\n",
      "                         Himachal Pradesh   163786    2369   163786     2369          0           0           1.45\n",
      "                                      Goa   137418    2152   137418     2152          0           0           1.57\n",
      "                               Puducherry    87749    1212    85952     1179       1797          33           1.38\n",
      "                               Chandigarh    55987     641    55987      641          0           0           1.14\n",
      "                                  Tripura    41894     442    41148      438        746           4           1.06\n",
      "                                  Manipur    40059     592    40059      592          0           0           1.48\n",
      "                                Meghalaya    23966     336    23966      336          0           0           1.40\n",
      "                        Arunachal Pradesh    22106      85    22106       85          0           0           0.38\n",
      "                                 Nagaland    18349     216    18349      216          0           0           1.18\n",
      "                                   Ladakh    16582     165    16582      165          0           0           1.00\n",
      "                                   Sikkim    11689     212    11480      210        209           2           1.81\n",
      " Dadra and Nagar Haveli and Daman and Diu     9690       4     9690        4          0           0           0.04\n",
      "                                  Mizoram     9068      28     8829       26        239           2           0.31\n",
      "              Andaman and Nicobar Islands     6638      89     6638       89          0           0           1.34\n",
      "                              Lakshadweep     4986      14     4986       14          0           0           0.28\n"
     ]
    }
   ],
   "source": [
    "#hide_input\n",
    "print(df_table.to_string(index=False))"
   ]
  },
  {
   "cell_type": "code",
   "execution_count": null,
   "id": "quantitative-legend",
   "metadata": {
    "papermill": {
     "duration": 0.022969,
     "end_time": "2021-05-18T11:25:02.589481",
     "exception": false,
     "start_time": "2021-05-18T11:25:02.566512",
     "status": "completed"
    },
    "tags": []
   },
   "outputs": [],
   "source": []
  },
  {
   "cell_type": "code",
   "execution_count": null,
   "id": "distant-acoustic",
   "metadata": {
    "papermill": {
     "duration": 0.023586,
     "end_time": "2021-05-18T11:25:02.635475",
     "exception": false,
     "start_time": "2021-05-18T11:25:02.611889",
     "status": "completed"
    },
    "tags": []
   },
   "outputs": [],
   "source": []
  }
 ],
 "metadata": {
  "kernelspec": {
   "display_name": "Python 3",
   "language": "python",
   "name": "python3"
  },
  "language_info": {
   "codemirror_mode": {
    "name": "ipython",
    "version": 3
   },
   "file_extension": ".py",
   "mimetype": "text/x-python",
   "name": "python",
   "nbconvert_exporter": "python",
   "pygments_lexer": "ipython3",
   "version": "3.6.13"
  },
  "papermill": {
   "duration": 23.283797,
   "end_time": "2021-05-18T11:25:04.080391",
   "environment_variables": {},
   "exception": null,
   "input_path": "latest.ipynb",
   "output_path": "latest.ipynb",
   "parameters": {},
   "start_time": "2021-05-18T11:24:40.796594",
   "version": "2.1.2"
  }
 },
 "nbformat": 4,
 "nbformat_minor": 5
}