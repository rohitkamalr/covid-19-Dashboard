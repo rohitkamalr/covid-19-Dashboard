{
 "cells": [
  {
   "cell_type": "markdown",
   "id": "colored-stack",
   "metadata": {
    "papermill": {
     "duration": 0.024536,
     "end_time": "2021-05-21T12:42:40.326464",
     "exception": false,
     "start_time": "2021-05-21T12:42:40.301928",
     "status": "completed"
    },
    "tags": []
   },
   "source": [
    "# Latest COVID-19 India Matplotlib Overview"
   ]
  },
  {
   "cell_type": "code",
   "execution_count": 1,
   "id": "light-proportion",
   "metadata": {
    "execution": {
     "iopub.execute_input": "2021-05-21T12:42:40.384922Z",
     "iopub.status.busy": "2021-05-21T12:42:40.384144Z",
     "iopub.status.idle": "2021-05-21T12:42:41.043686Z",
     "shell.execute_reply": "2021-05-21T12:42:41.042614Z"
    },
    "papermill": {
     "duration": 0.696517,
     "end_time": "2021-05-21T12:42:41.043842",
     "exception": false,
     "start_time": "2021-05-21T12:42:40.347325",
     "status": "completed"
    },
    "tags": []
   },
   "outputs": [],
   "source": [
    "#hide\n",
    "import pandas as pd\n",
    "import numpy as np\n",
    "import requests\n",
    "import json\n",
    "import matplotlib.pyplot as plt\n",
    "import matplotlib.dates as mdates\n",
    "import matplotlib as mpl\n",
    "from IPython.core.display import display,HTML\n",
    "%matplotlib inline\n",
    "from datetime import date"
   ]
  },
  {
   "cell_type": "code",
   "execution_count": 2,
   "id": "greenhouse-shooting",
   "metadata": {
    "execution": {
     "iopub.execute_input": "2021-05-21T12:42:41.092427Z",
     "iopub.status.busy": "2021-05-21T12:42:41.091418Z",
     "iopub.status.idle": "2021-05-21T12:42:41.468646Z",
     "shell.execute_reply": "2021-05-21T12:42:41.468083Z"
    },
    "papermill": {
     "duration": 0.405653,
     "end_time": "2021-05-21T12:42:41.468795",
     "exception": false,
     "start_time": "2021-05-21T12:42:41.063142",
     "status": "completed"
    },
    "tags": []
   },
   "outputs": [],
   "source": [
    "#hide\n",
    "df  = pd.read_csv('https://api.covid19india.org/csv/latest/states.csv')\n",
    "df = df[['Date','State','Confirmed','Deceased']]\n",
    "df = df.rename(columns={'Confirmed':'Cases', \"Deceased\":'Deaths'})\n",
    "df_cases = df[[\"Date\",'State','Cases']]\n",
    "df_deaths = df[['Date','State','Deaths']]\n",
    "df_cases1 = df_cases.groupby('Date')\n",
    "df_deaths1= df_deaths.groupby('Date')"
   ]
  },
  {
   "cell_type": "code",
   "execution_count": 3,
   "id": "hybrid-cathedral",
   "metadata": {
    "execution": {
     "iopub.execute_input": "2021-05-21T12:42:41.512958Z",
     "iopub.status.busy": "2021-05-21T12:42:41.512316Z",
     "iopub.status.idle": "2021-05-21T12:42:41.532221Z",
     "shell.execute_reply": "2021-05-21T12:42:41.531658Z"
    },
    "papermill": {
     "duration": 0.044224,
     "end_time": "2021-05-21T12:42:41.532368",
     "exception": false,
     "start_time": "2021-05-21T12:42:41.488144",
     "status": "completed"
    },
    "tags": []
   },
   "outputs": [],
   "source": [
    "#hide\n",
    "df_snap = pd.read_csv('data/SnapshotCases-28-July.csv')\n",
    "arr_states = df_snap['states'].unique()\n",
    "arr_dates = df['Date'].unique()\n",
    "df_snap = df_snap.set_index('states')"
   ]
  },
  {
   "cell_type": "code",
   "execution_count": 4,
   "id": "interior-belfast",
   "metadata": {
    "execution": {
     "iopub.execute_input": "2021-05-21T12:42:41.580911Z",
     "iopub.status.busy": "2021-05-21T12:42:41.580247Z",
     "iopub.status.idle": "2021-05-21T12:42:41.582898Z",
     "shell.execute_reply": "2021-05-21T12:42:41.583456Z"
    },
    "papermill": {
     "duration": 0.03175,
     "end_time": "2021-05-21T12:42:41.583618",
     "exception": false,
     "start_time": "2021-05-21T12:42:41.551868",
     "status": "completed"
    },
    "tags": []
   },
   "outputs": [
    {
     "data": {
      "text/plain": [
       "array(['Andaman and Nicobar Islands', 'Andhra Pradesh',\n",
       "       'Arunachal Pradesh', 'Assam', 'Bihar', 'Chandigarh',\n",
       "       'Dadra and Nagar Haveli and Daman and Diu', 'Delhi', 'Goa',\n",
       "       'Gujarat', 'Haryana', 'Himachal Pradesh', 'Jammu and Kashmir',\n",
       "       'Jharkhand', 'Karnataka', 'Kerala', 'Lakshadweep',\n",
       "       'Madhya Pradesh', 'Maharashtra', 'Manipur', 'Meghalaya', 'Mizoram',\n",
       "       'Nagaland', 'Odisha', 'Puducherry', 'Punjab', 'Rajasthan',\n",
       "       'Sikkim', 'Tamil Nadu', 'Telangana', 'Tripura', 'Uttar Pradesh',\n",
       "       'West Bengal', 'Chhattisgarh', 'Ladakh', 'Uttarakhand'],\n",
       "      dtype=object)"
      ]
     },
     "execution_count": 4,
     "metadata": {},
     "output_type": "execute_result"
    }
   ],
   "source": [
    "#hide\n",
    "arr_states[-9] = 'Puducherry'\n",
    "arr_states[-10] = 'Odisha'\n",
    "arr_states[6] = 'Dadra and Nagar Haveli and Daman and Diu'\n",
    "arr_states = np.append(arr_states,np.array(['Chhattisgarh','Ladakh','Uttarakhand']))\n",
    "arr_states"
   ]
  },
  {
   "cell_type": "code",
   "execution_count": 5,
   "id": "behind-manner",
   "metadata": {
    "execution": {
     "iopub.execute_input": "2021-05-21T12:42:41.637654Z",
     "iopub.status.busy": "2021-05-21T12:42:41.636941Z",
     "iopub.status.idle": "2021-05-21T12:42:41.647520Z",
     "shell.execute_reply": "2021-05-21T12:42:41.646975Z"
    },
    "papermill": {
     "duration": 0.044196,
     "end_time": "2021-05-21T12:42:41.647668",
     "exception": false,
     "start_time": "2021-05-21T12:42:41.603472",
     "status": "completed"
    },
    "tags": []
   },
   "outputs": [],
   "source": [
    "#hide\n",
    "dates = []\n",
    "for i in arr_dates:\n",
    "    if i>='2020-07-01':\n",
    "        dates.append(i)\n",
    "dict = {'states':dates}\n",
    "for i in arr_states:\n",
    "    dict[i] = [0]*len(dates)\n",
    "dft_cases = pd.DataFrame(dict)\n",
    "dft_deaths = pd.DataFrame(dict)\n"
   ]
  },
  {
   "cell_type": "code",
   "execution_count": 6,
   "id": "simplified-peter",
   "metadata": {
    "execution": {
     "iopub.execute_input": "2021-05-21T12:42:41.693965Z",
     "iopub.status.busy": "2021-05-21T12:42:41.693302Z",
     "iopub.status.idle": "2021-05-21T12:42:47.715254Z",
     "shell.execute_reply": "2021-05-21T12:42:47.714700Z"
    },
    "papermill": {
     "duration": 6.047724,
     "end_time": "2021-05-21T12:42:47.715398",
     "exception": false,
     "start_time": "2021-05-21T12:42:41.667674",
     "status": "completed"
    },
    "tags": []
   },
   "outputs": [],
   "source": [
    "#hide\n",
    "for i in range(len(dates)):\n",
    "    df1_deaths = df_deaths1.get_group(dates[i])\n",
    "    for j in range(len(df1_deaths.index)):\n",
    "        if df1_deaths.iloc[j,1] in arr_states:\n",
    "            dft_deaths.loc[i,df1_deaths.iloc[j,1]] = df1_deaths.iloc[j,2]\n",
    "dft_deaths = dft_deaths.set_index('states')"
   ]
  },
  {
   "cell_type": "code",
   "execution_count": 7,
   "id": "geological-welding",
   "metadata": {
    "execution": {
     "iopub.execute_input": "2021-05-21T12:42:47.758249Z",
     "iopub.status.busy": "2021-05-21T12:42:47.757612Z",
     "iopub.status.idle": "2021-05-21T12:42:53.759159Z",
     "shell.execute_reply": "2021-05-21T12:42:53.758603Z"
    },
    "papermill": {
     "duration": 6.024225,
     "end_time": "2021-05-21T12:42:53.759303",
     "exception": false,
     "start_time": "2021-05-21T12:42:47.735078",
     "status": "completed"
    },
    "tags": []
   },
   "outputs": [],
   "source": [
    "#hide\n",
    "for i in range(len(dates)):\n",
    "    df1_cases = df_cases1.get_group(dates[i])\n",
    "    for j in range(len(df1_cases.index)):\n",
    "        if df1_cases.iloc[j,1] in arr_states:\n",
    "            dft_cases.loc[i,df1_cases.iloc[j,1]] = df1_cases.iloc[j,2]\n",
    "dft_cases = dft_cases.set_index('states')"
   ]
  },
  {
   "cell_type": "code",
   "execution_count": 8,
   "id": "binary-ratio",
   "metadata": {
    "execution": {
     "iopub.execute_input": "2021-05-21T12:42:53.805334Z",
     "iopub.status.busy": "2021-05-21T12:42:53.804286Z",
     "iopub.status.idle": "2021-05-21T12:42:53.808494Z",
     "shell.execute_reply": "2021-05-21T12:42:53.807937Z"
    },
    "papermill": {
     "duration": 0.029535,
     "end_time": "2021-05-21T12:42:53.808629",
     "exception": false,
     "start_time": "2021-05-21T12:42:53.779094",
     "status": "completed"
    },
    "tags": []
   },
   "outputs": [],
   "source": [
    "#hide\n",
    "dft_cases = dft_cases.T\n",
    "dft_deaths = dft_deaths.T\n",
    "dt_today = dates[-1]\n",
    "dt_yday = dates[-2]"
   ]
  },
  {
   "cell_type": "code",
   "execution_count": 9,
   "id": "boolean-calculator",
   "metadata": {
    "execution": {
     "iopub.execute_input": "2021-05-21T12:42:53.855857Z",
     "iopub.status.busy": "2021-05-21T12:42:53.854876Z",
     "iopub.status.idle": "2021-05-21T12:42:53.860059Z",
     "shell.execute_reply": "2021-05-21T12:42:53.860668Z"
    },
    "papermill": {
     "duration": 0.031718,
     "end_time": "2021-05-21T12:42:53.860835",
     "exception": false,
     "start_time": "2021-05-21T12:42:53.829117",
     "status": "completed"
    },
    "tags": []
   },
   "outputs": [],
   "source": [
    "#hide\n",
    "dft_cases = dft_cases.reset_index()\n",
    "dft_deaths = dft_deaths.reset_index()\n",
    "dft_cases = dft_cases.rename(columns = {'index':'state'})\n",
    "dft_deaths = dft_deaths.rename(columns = {'index':'state'})"
   ]
  },
  {
   "cell_type": "code",
   "execution_count": 10,
   "id": "invisible-johnston",
   "metadata": {
    "execution": {
     "iopub.execute_input": "2021-05-21T12:42:53.913659Z",
     "iopub.status.busy": "2021-05-21T12:42:53.912959Z",
     "iopub.status.idle": "2021-05-21T12:42:53.916375Z",
     "shell.execute_reply": "2021-05-21T12:42:53.915833Z"
    },
    "papermill": {
     "duration": 0.035376,
     "end_time": "2021-05-21T12:42:53.916518",
     "exception": false,
     "start_time": "2021-05-21T12:42:53.881142",
     "status": "completed"
    },
    "tags": []
   },
   "outputs": [],
   "source": [
    "#hide\n",
    "dfc_cases = dft_cases.groupby('state')[dt_today].sum()\n",
    "dfc_deaths = dft_deaths.groupby('state')[dt_today].sum()\n",
    "dfp_cases = dft_cases.groupby('state')[dt_yday].sum()\n",
    "dfp_deaths = dft_deaths.groupby('state')[dt_yday].sum()"
   ]
  },
  {
   "cell_type": "code",
   "execution_count": 11,
   "id": "measured-great",
   "metadata": {
    "execution": {
     "iopub.execute_input": "2021-05-21T12:42:53.964067Z",
     "iopub.status.busy": "2021-05-21T12:42:53.963402Z",
     "iopub.status.idle": "2021-05-21T12:42:53.978495Z",
     "shell.execute_reply": "2021-05-21T12:42:53.977954Z"
    },
    "papermill": {
     "duration": 0.042266,
     "end_time": "2021-05-21T12:42:53.978638",
     "exception": false,
     "start_time": "2021-05-21T12:42:53.936372",
     "status": "completed"
    },
    "tags": []
   },
   "outputs": [
    {
     "data": {
      "text/html": [
       "<div>\n",
       "<style scoped>\n",
       "    .dataframe tbody tr th:only-of-type {\n",
       "        vertical-align: middle;\n",
       "    }\n",
       "\n",
       "    .dataframe tbody tr th {\n",
       "        vertical-align: top;\n",
       "    }\n",
       "\n",
       "    .dataframe thead th {\n",
       "        text-align: right;\n",
       "    }\n",
       "</style>\n",
       "<table border=\"1\" class=\"dataframe\">\n",
       "  <thead>\n",
       "    <tr style=\"text-align: right;\">\n",
       "      <th></th>\n",
       "      <th>states</th>\n",
       "      <th>Cases</th>\n",
       "      <th>Deaths</th>\n",
       "      <th>PCases</th>\n",
       "      <th>PDeaths</th>\n",
       "    </tr>\n",
       "  </thead>\n",
       "  <tbody>\n",
       "    <tr>\n",
       "      <th>0</th>\n",
       "      <td>Maharashtra</td>\n",
       "      <td>5497448</td>\n",
       "      <td>85355</td>\n",
       "      <td>5497448</td>\n",
       "      <td>85355</td>\n",
       "    </tr>\n",
       "    <tr>\n",
       "      <th>1</th>\n",
       "      <td>Karnataka</td>\n",
       "      <td>2335524</td>\n",
       "      <td>23854</td>\n",
       "      <td>2335524</td>\n",
       "      <td>23854</td>\n",
       "    </tr>\n",
       "    <tr>\n",
       "      <th>2</th>\n",
       "      <td>Kerala</td>\n",
       "      <td>2263960</td>\n",
       "      <td>6853</td>\n",
       "      <td>2263960</td>\n",
       "      <td>6853</td>\n",
       "    </tr>\n",
       "    <tr>\n",
       "      <th>3</th>\n",
       "      <td>Tamil Nadu</td>\n",
       "      <td>1734804</td>\n",
       "      <td>19131</td>\n",
       "      <td>1734804</td>\n",
       "      <td>19131</td>\n",
       "    </tr>\n",
       "    <tr>\n",
       "      <th>4</th>\n",
       "      <td>Uttar Pradesh</td>\n",
       "      <td>1659212</td>\n",
       "      <td>18760</td>\n",
       "      <td>1651530</td>\n",
       "      <td>18588</td>\n",
       "    </tr>\n",
       "  </tbody>\n",
       "</table>\n",
       "</div>"
      ],
      "text/plain": [
       "          states    Cases  Deaths   PCases  PDeaths\n",
       "0    Maharashtra  5497448   85355  5497448    85355\n",
       "1      Karnataka  2335524   23854  2335524    23854\n",
       "2         Kerala  2263960    6853  2263960     6853\n",
       "3     Tamil Nadu  1734804   19131  1734804    19131\n",
       "4  Uttar Pradesh  1659212   18760  1651530    18588"
      ]
     },
     "execution_count": 11,
     "metadata": {},
     "output_type": "execute_result"
    }
   ],
   "source": [
    "#hide\n",
    "df_table = pd.DataFrame({'states': dfc_cases.index, 'Cases': dfc_cases.values, 'Deaths': dfc_deaths.values, 'PCases': dfp_cases.values, 'PDeaths': dfp_deaths.values}).set_index('states')\n",
    "df_table = df_table.sort_values(by = ['Cases','Deaths'], ascending = [False, False])\n",
    "df_table = df_table.reset_index()\n",
    "df_table.head()"
   ]
  },
  {
   "cell_type": "code",
   "execution_count": 12,
   "id": "found-montreal",
   "metadata": {
    "execution": {
     "iopub.execute_input": "2021-05-21T12:42:54.025981Z",
     "iopub.status.busy": "2021-05-21T12:42:54.025328Z",
     "iopub.status.idle": "2021-05-21T12:42:54.034247Z",
     "shell.execute_reply": "2021-05-21T12:42:54.034864Z"
    },
    "papermill": {
     "duration": 0.03617,
     "end_time": "2021-05-21T12:42:54.035032",
     "exception": false,
     "start_time": "2021-05-21T12:42:53.998862",
     "status": "completed"
    },
    "tags": []
   },
   "outputs": [],
   "source": [
    "#hide\n",
    "for c in 'Cases, Deaths'.split(', '):\n",
    "    df_table[f'{c} (+)'] = (df_table[c] - df_table[f'P{c}']).clip(0)\n",
    "df_table['Fatality Rate'] = (100* df_table['Deaths']/ df_table['Cases']).round(2)"
   ]
  },
  {
   "cell_type": "code",
   "execution_count": 13,
   "id": "minus-savage",
   "metadata": {
    "execution": {
     "iopub.execute_input": "2021-05-21T12:42:54.088229Z",
     "iopub.status.busy": "2021-05-21T12:42:54.087560Z",
     "iopub.status.idle": "2021-05-21T12:42:54.090165Z",
     "shell.execute_reply": "2021-05-21T12:42:54.090785Z"
    },
    "papermill": {
     "duration": 0.03547,
     "end_time": "2021-05-21T12:42:54.090946",
     "exception": false,
     "start_time": "2021-05-21T12:42:54.055476",
     "status": "completed"
    },
    "tags": []
   },
   "outputs": [
    {
     "data": {
      "text/html": [
       "<div>\n",
       "<style scoped>\n",
       "    .dataframe tbody tr th:only-of-type {\n",
       "        vertical-align: middle;\n",
       "    }\n",
       "\n",
       "    .dataframe tbody tr th {\n",
       "        vertical-align: top;\n",
       "    }\n",
       "\n",
       "    .dataframe thead th {\n",
       "        text-align: right;\n",
       "    }\n",
       "</style>\n",
       "<table border=\"1\" class=\"dataframe\">\n",
       "  <thead>\n",
       "    <tr style=\"text-align: right;\">\n",
       "      <th></th>\n",
       "      <th>states</th>\n",
       "      <th>Cases</th>\n",
       "      <th>Deaths</th>\n",
       "      <th>PCases</th>\n",
       "      <th>PDeaths</th>\n",
       "      <th>Cases (+)</th>\n",
       "      <th>Deaths (+)</th>\n",
       "      <th>Fatality Rate</th>\n",
       "    </tr>\n",
       "  </thead>\n",
       "  <tbody>\n",
       "    <tr>\n",
       "      <th>0</th>\n",
       "      <td>Maharashtra</td>\n",
       "      <td>5497448</td>\n",
       "      <td>85355</td>\n",
       "      <td>5497448</td>\n",
       "      <td>85355</td>\n",
       "      <td>0</td>\n",
       "      <td>0</td>\n",
       "      <td>1.55</td>\n",
       "    </tr>\n",
       "    <tr>\n",
       "      <th>1</th>\n",
       "      <td>Karnataka</td>\n",
       "      <td>2335524</td>\n",
       "      <td>23854</td>\n",
       "      <td>2335524</td>\n",
       "      <td>23854</td>\n",
       "      <td>0</td>\n",
       "      <td>0</td>\n",
       "      <td>1.02</td>\n",
       "    </tr>\n",
       "    <tr>\n",
       "      <th>2</th>\n",
       "      <td>Kerala</td>\n",
       "      <td>2263960</td>\n",
       "      <td>6853</td>\n",
       "      <td>2263960</td>\n",
       "      <td>6853</td>\n",
       "      <td>0</td>\n",
       "      <td>0</td>\n",
       "      <td>0.30</td>\n",
       "    </tr>\n",
       "    <tr>\n",
       "      <th>3</th>\n",
       "      <td>Tamil Nadu</td>\n",
       "      <td>1734804</td>\n",
       "      <td>19131</td>\n",
       "      <td>1734804</td>\n",
       "      <td>19131</td>\n",
       "      <td>0</td>\n",
       "      <td>0</td>\n",
       "      <td>1.10</td>\n",
       "    </tr>\n",
       "    <tr>\n",
       "      <th>4</th>\n",
       "      <td>Uttar Pradesh</td>\n",
       "      <td>1659212</td>\n",
       "      <td>18760</td>\n",
       "      <td>1651530</td>\n",
       "      <td>18588</td>\n",
       "      <td>7682</td>\n",
       "      <td>172</td>\n",
       "      <td>1.13</td>\n",
       "    </tr>\n",
       "  </tbody>\n",
       "</table>\n",
       "</div>"
      ],
      "text/plain": [
       "          states    Cases  Deaths   PCases  PDeaths  Cases (+)  Deaths (+)  \\\n",
       "0    Maharashtra  5497448   85355  5497448    85355          0           0   \n",
       "1      Karnataka  2335524   23854  2335524    23854          0           0   \n",
       "2         Kerala  2263960    6853  2263960     6853          0           0   \n",
       "3     Tamil Nadu  1734804   19131  1734804    19131          0           0   \n",
       "4  Uttar Pradesh  1659212   18760  1651530    18588       7682         172   \n",
       "\n",
       "   Fatality Rate  \n",
       "0           1.55  \n",
       "1           1.02  \n",
       "2           0.30  \n",
       "3           1.10  \n",
       "4           1.13  "
      ]
     },
     "execution_count": 13,
     "metadata": {},
     "output_type": "execute_result"
    }
   ],
   "source": [
    "#hide\n",
    "df_table.head()"
   ]
  },
  {
   "cell_type": "code",
   "execution_count": 14,
   "id": "false-peter",
   "metadata": {
    "execution": {
     "iopub.execute_input": "2021-05-21T12:42:54.139392Z",
     "iopub.status.busy": "2021-05-21T12:42:54.138731Z",
     "iopub.status.idle": "2021-05-21T12:42:54.157397Z",
     "shell.execute_reply": "2021-05-21T12:42:54.156789Z"
    },
    "papermill": {
     "duration": 0.045557,
     "end_time": "2021-05-21T12:42:54.157566",
     "exception": false,
     "start_time": "2021-05-21T12:42:54.112009",
     "status": "completed"
    },
    "tags": []
   },
   "outputs": [
    {
     "data": {
      "text/plain": [
       "{'updated': '2021-05-21',\n",
       " 'since': '2021-05-20',\n",
       " 'Cases': 26058001,\n",
       " 'PCases': 26030781,\n",
       " 'Deaths': 291873,\n",
       " 'PDeaths': 291366,\n",
       " 'Cases (+)': 27220,\n",
       " 'Deaths (+)': 507}"
      ]
     },
     "execution_count": 14,
     "metadata": {},
     "output_type": "execute_result"
    }
   ],
   "source": [
    "#hide\n",
    "summary = {'updated':dates[-1], 'since':dates[-2]}\n",
    "list_names = ['Cases', 'PCases', 'Deaths', 'PDeaths', 'Cases (+)', 'Deaths (+)']\n",
    "for name in list_names:\n",
    "    summary[name] = df_table.sum()[name]\n",
    "summary"
   ]
  },
  {
   "cell_type": "code",
   "execution_count": 15,
   "id": "packed-viewer",
   "metadata": {
    "execution": {
     "iopub.execute_input": "2021-05-21T12:42:54.206071Z",
     "iopub.status.busy": "2021-05-21T12:42:54.205415Z",
     "iopub.status.idle": "2021-05-21T12:42:54.207769Z",
     "shell.execute_reply": "2021-05-21T12:42:54.207217Z"
    },
    "papermill": {
     "duration": 0.028603,
     "end_time": "2021-05-21T12:42:54.207904",
     "exception": false,
     "start_time": "2021-05-21T12:42:54.179301",
     "status": "completed"
    },
    "tags": []
   },
   "outputs": [],
   "source": [
    "#hide\n",
    "overview = '''\n",
    "<!-- #######  HTML!! #########-->\n",
    "<h1 style=\"color: #5e9ca0; text-align: center;\">India</h1>\n",
    "<p style=\"text-align: center;\">Last update: <strong>{update}</strong></p>\n",
    "<p style=\"text-align: center;\">Confirmed cases:</p>\n",
    "<p style=\"text-align: center;font-size:24px;\">{cases} (<span style=\"color: #ff0000;\">+{new}</span>)</p>\n",
    "<p style=\"text-align: center;\">Confirmed deaths:</p>\n",
    "<p style=\"text-align: center;font-size:24px;\">{deaths} (<span style=\"color: #ff0000;\">+{dnew}</span>)</p>\n",
    "'''"
   ]
  },
  {
   "cell_type": "code",
   "execution_count": 16,
   "id": "phantom-lover",
   "metadata": {
    "execution": {
     "iopub.execute_input": "2021-05-21T12:42:54.256796Z",
     "iopub.status.busy": "2021-05-21T12:42:54.256143Z",
     "iopub.status.idle": "2021-05-21T12:42:54.259850Z",
     "shell.execute_reply": "2021-05-21T12:42:54.259289Z"
    },
    "papermill": {
     "duration": 0.030574,
     "end_time": "2021-05-21T12:42:54.259988",
     "exception": false,
     "start_time": "2021-05-21T12:42:54.229414",
     "status": "completed"
    },
    "tags": []
   },
   "outputs": [
    {
     "data": {
      "text/html": [
       "\n",
       "<!-- #######  HTML!! #########-->\n",
       "<h1 style=\"color: #5e9ca0; text-align: center;\">India</h1>\n",
       "<p style=\"text-align: center;\">Last update: <strong>2021-05-21</strong></p>\n",
       "<p style=\"text-align: center;\">Confirmed cases:</p>\n",
       "<p style=\"text-align: center;font-size:24px;\">26058001 (<span style=\"color: #ff0000;\">+27220</span>)</p>\n",
       "<p style=\"text-align: center;\">Confirmed deaths:</p>\n",
       "<p style=\"text-align: center;font-size:24px;\">291873 (<span style=\"color: #ff0000;\">+507</span>)</p>\n"
      ],
      "text/plain": [
       "<IPython.core.display.HTML object>"
      ]
     },
     "metadata": {},
     "output_type": "display_data"
    }
   ],
   "source": [
    "#hide_input\n",
    "update = summary['updated']\n",
    "cases = summary['Cases']\n",
    "new = summary['Cases (+)']\n",
    "deaths = summary['Deaths']\n",
    "dnew = summary['Deaths (+)']\n",
    "\n",
    "html = HTML(overview.format(update=update, cases=cases,new=new,deaths=deaths,dnew=dnew))\n",
    "\n",
    "display(html)"
   ]
  },
  {
   "cell_type": "code",
   "execution_count": 17,
   "id": "sealed-reset",
   "metadata": {
    "execution": {
     "iopub.execute_input": "2021-05-21T12:42:54.311696Z",
     "iopub.status.busy": "2021-05-21T12:42:54.311024Z",
     "iopub.status.idle": "2021-05-21T12:42:54.316947Z",
     "shell.execute_reply": "2021-05-21T12:42:54.317607Z"
    },
    "papermill": {
     "duration": 0.036228,
     "end_time": "2021-05-21T12:42:54.317774",
     "exception": false,
     "start_time": "2021-05-21T12:42:54.281546",
     "status": "completed"
    },
    "tags": []
   },
   "outputs": [],
   "source": [
    "#hide\n",
    "dt_cols = list(dft_cases.columns[1:])\n",
    "dft_ct_new_cases = dft_cases.groupby('state')[dt_cols].sum().diff(axis=1).fillna(0).astype(int)\n",
    "dft_ct_new_cases.sort_values(by = dates[-1], ascending = False,inplace = True)"
   ]
  },
  {
   "cell_type": "code",
   "execution_count": 18,
   "id": "designed-constant",
   "metadata": {
    "execution": {
     "iopub.execute_input": "2021-05-21T12:42:54.380558Z",
     "iopub.status.busy": "2021-05-21T12:42:54.379882Z",
     "iopub.status.idle": "2021-05-21T12:42:54.382591Z",
     "shell.execute_reply": "2021-05-21T12:42:54.383208Z"
    },
    "papermill": {
     "duration": 0.044183,
     "end_time": "2021-05-21T12:42:54.383370",
     "exception": false,
     "start_time": "2021-05-21T12:42:54.339187",
     "status": "completed"
    },
    "tags": []
   },
   "outputs": [
    {
     "data": {
      "text/html": [
       "<div>\n",
       "<style scoped>\n",
       "    .dataframe tbody tr th:only-of-type {\n",
       "        vertical-align: middle;\n",
       "    }\n",
       "\n",
       "    .dataframe tbody tr th {\n",
       "        vertical-align: top;\n",
       "    }\n",
       "\n",
       "    .dataframe thead th {\n",
       "        text-align: right;\n",
       "    }\n",
       "</style>\n",
       "<table border=\"1\" class=\"dataframe\">\n",
       "  <thead>\n",
       "    <tr style=\"text-align: right;\">\n",
       "      <th>states</th>\n",
       "      <th>2020-07-01</th>\n",
       "      <th>2020-07-02</th>\n",
       "      <th>2020-07-03</th>\n",
       "      <th>2020-07-04</th>\n",
       "      <th>2020-07-05</th>\n",
       "      <th>2020-07-06</th>\n",
       "      <th>2020-07-07</th>\n",
       "      <th>2020-07-08</th>\n",
       "      <th>2020-07-09</th>\n",
       "      <th>2020-07-10</th>\n",
       "      <th>...</th>\n",
       "      <th>2021-05-12</th>\n",
       "      <th>2021-05-13</th>\n",
       "      <th>2021-05-14</th>\n",
       "      <th>2021-05-15</th>\n",
       "      <th>2021-05-16</th>\n",
       "      <th>2021-05-17</th>\n",
       "      <th>2021-05-18</th>\n",
       "      <th>2021-05-19</th>\n",
       "      <th>2021-05-20</th>\n",
       "      <th>2021-05-21</th>\n",
       "    </tr>\n",
       "    <tr>\n",
       "      <th>state</th>\n",
       "      <th></th>\n",
       "      <th></th>\n",
       "      <th></th>\n",
       "      <th></th>\n",
       "      <th></th>\n",
       "      <th></th>\n",
       "      <th></th>\n",
       "      <th></th>\n",
       "      <th></th>\n",
       "      <th></th>\n",
       "      <th></th>\n",
       "      <th></th>\n",
       "      <th></th>\n",
       "      <th></th>\n",
       "      <th></th>\n",
       "      <th></th>\n",
       "      <th></th>\n",
       "      <th></th>\n",
       "      <th></th>\n",
       "      <th></th>\n",
       "      <th></th>\n",
       "    </tr>\n",
       "  </thead>\n",
       "  <tbody>\n",
       "    <tr>\n",
       "      <th>Odisha</th>\n",
       "      <td>0</td>\n",
       "      <td>229</td>\n",
       "      <td>561</td>\n",
       "      <td>495</td>\n",
       "      <td>469</td>\n",
       "      <td>456</td>\n",
       "      <td>571</td>\n",
       "      <td>527</td>\n",
       "      <td>577</td>\n",
       "      <td>755</td>\n",
       "      <td>...</td>\n",
       "      <td>10982</td>\n",
       "      <td>10649</td>\n",
       "      <td>12390</td>\n",
       "      <td>11805</td>\n",
       "      <td>11732</td>\n",
       "      <td>10757</td>\n",
       "      <td>10321</td>\n",
       "      <td>11099</td>\n",
       "      <td>11498</td>\n",
       "      <td>12523</td>\n",
       "    </tr>\n",
       "    <tr>\n",
       "      <th>Uttar Pradesh</th>\n",
       "      <td>0</td>\n",
       "      <td>769</td>\n",
       "      <td>972</td>\n",
       "      <td>757</td>\n",
       "      <td>1153</td>\n",
       "      <td>929</td>\n",
       "      <td>1332</td>\n",
       "      <td>1188</td>\n",
       "      <td>1206</td>\n",
       "      <td>1338</td>\n",
       "      <td>...</td>\n",
       "      <td>18023</td>\n",
       "      <td>17745</td>\n",
       "      <td>15647</td>\n",
       "      <td>12513</td>\n",
       "      <td>10505</td>\n",
       "      <td>9345</td>\n",
       "      <td>8673</td>\n",
       "      <td>7186</td>\n",
       "      <td>6681</td>\n",
       "      <td>7682</td>\n",
       "    </tr>\n",
       "    <tr>\n",
       "      <th>Delhi</th>\n",
       "      <td>0</td>\n",
       "      <td>2373</td>\n",
       "      <td>2520</td>\n",
       "      <td>2505</td>\n",
       "      <td>2244</td>\n",
       "      <td>1379</td>\n",
       "      <td>2008</td>\n",
       "      <td>2033</td>\n",
       "      <td>2187</td>\n",
       "      <td>2089</td>\n",
       "      <td>...</td>\n",
       "      <td>13287</td>\n",
       "      <td>10489</td>\n",
       "      <td>8506</td>\n",
       "      <td>6430</td>\n",
       "      <td>6456</td>\n",
       "      <td>4524</td>\n",
       "      <td>4482</td>\n",
       "      <td>3846</td>\n",
       "      <td>3231</td>\n",
       "      <td>3009</td>\n",
       "    </tr>\n",
       "    <tr>\n",
       "      <th>Puducherry</th>\n",
       "      <td>0</td>\n",
       "      <td>63</td>\n",
       "      <td>22</td>\n",
       "      <td>80</td>\n",
       "      <td>42</td>\n",
       "      <td>65</td>\n",
       "      <td>30</td>\n",
       "      <td>110</td>\n",
       "      <td>49</td>\n",
       "      <td>72</td>\n",
       "      <td>...</td>\n",
       "      <td>2007</td>\n",
       "      <td>1942</td>\n",
       "      <td>1974</td>\n",
       "      <td>1598</td>\n",
       "      <td>1961</td>\n",
       "      <td>1446</td>\n",
       "      <td>1797</td>\n",
       "      <td>1759</td>\n",
       "      <td>1957</td>\n",
       "      <td>1702</td>\n",
       "    </tr>\n",
       "    <tr>\n",
       "      <th>Tripura</th>\n",
       "      <td>0</td>\n",
       "      <td>39</td>\n",
       "      <td>93</td>\n",
       "      <td>25</td>\n",
       "      <td>23</td>\n",
       "      <td>111</td>\n",
       "      <td>24</td>\n",
       "      <td>57</td>\n",
       "      <td>16</td>\n",
       "      <td>142</td>\n",
       "      <td>...</td>\n",
       "      <td>416</td>\n",
       "      <td>480</td>\n",
       "      <td>552</td>\n",
       "      <td>449</td>\n",
       "      <td>761</td>\n",
       "      <td>335</td>\n",
       "      <td>746</td>\n",
       "      <td>879</td>\n",
       "      <td>720</td>\n",
       "      <td>863</td>\n",
       "    </tr>\n",
       "  </tbody>\n",
       "</table>\n",
       "<p>5 rows × 325 columns</p>\n",
       "</div>"
      ],
      "text/plain": [
       "states         2020-07-01  2020-07-02  2020-07-03  2020-07-04  2020-07-05  \\\n",
       "state                                                                       \n",
       "Odisha                  0         229         561         495         469   \n",
       "Uttar Pradesh           0         769         972         757        1153   \n",
       "Delhi                   0        2373        2520        2505        2244   \n",
       "Puducherry              0          63          22          80          42   \n",
       "Tripura                 0          39          93          25          23   \n",
       "\n",
       "states         2020-07-06  2020-07-07  2020-07-08  2020-07-09  2020-07-10  \\\n",
       "state                                                                       \n",
       "Odisha                456         571         527         577         755   \n",
       "Uttar Pradesh         929        1332        1188        1206        1338   \n",
       "Delhi                1379        2008        2033        2187        2089   \n",
       "Puducherry             65          30         110          49          72   \n",
       "Tripura               111          24          57          16         142   \n",
       "\n",
       "states         ...  2021-05-12  2021-05-13  2021-05-14  2021-05-15  \\\n",
       "state          ...                                                   \n",
       "Odisha         ...       10982       10649       12390       11805   \n",
       "Uttar Pradesh  ...       18023       17745       15647       12513   \n",
       "Delhi          ...       13287       10489        8506        6430   \n",
       "Puducherry     ...        2007        1942        1974        1598   \n",
       "Tripura        ...         416         480         552         449   \n",
       "\n",
       "states         2021-05-16  2021-05-17  2021-05-18  2021-05-19  2021-05-20  \\\n",
       "state                                                                       \n",
       "Odisha              11732       10757       10321       11099       11498   \n",
       "Uttar Pradesh       10505        9345        8673        7186        6681   \n",
       "Delhi                6456        4524        4482        3846        3231   \n",
       "Puducherry           1961        1446        1797        1759        1957   \n",
       "Tripura               761         335         746         879         720   \n",
       "\n",
       "states         2021-05-21  \n",
       "state                      \n",
       "Odisha              12523  \n",
       "Uttar Pradesh        7682  \n",
       "Delhi                3009  \n",
       "Puducherry           1702  \n",
       "Tripura               863  \n",
       "\n",
       "[5 rows x 325 columns]"
      ]
     },
     "execution_count": 18,
     "metadata": {},
     "output_type": "execute_result"
    }
   ],
   "source": [
    "#hide\n",
    "dft_ct_new_cases.head()"
   ]
  },
  {
   "cell_type": "code",
   "execution_count": 19,
   "id": "responsible-nightlife",
   "metadata": {
    "execution": {
     "iopub.execute_input": "2021-05-21T12:42:54.462703Z",
     "iopub.status.busy": "2021-05-21T12:42:54.451344Z",
     "iopub.status.idle": "2021-05-21T12:43:09.004651Z",
     "shell.execute_reply": "2021-05-21T12:43:09.004097Z"
    },
    "papermill": {
     "duration": 14.599337,
     "end_time": "2021-05-21T12:43:09.004789",
     "exception": false,
     "start_time": "2021-05-21T12:42:54.405452",
     "status": "completed"
    },
    "tags": []
   },
   "outputs": [
    {
     "data": {
      "image/png": "[encoded data removed]",
      "text/plain": [
       "<Figure size 1296x2016 with 11 Axes>"
      ]
     },
     "metadata": {
      "needs_background": "light"
     },
     "output_type": "display_data"
    }
   ],
   "source": [
    "#hide_input\n",
    "df = dft_ct_new_cases.copy()\n",
    "df.loc['Total'] = df.sum()\n",
    "n = 5\n",
    "ax = []\n",
    "fig = plt.figure(figsize = (18,28))\n",
    "gs = fig.add_gridspec(n+2, 5)\n",
    "# gs = fig.add_gridspec(2, 3)\n",
    "ax1 = fig.add_subplot(gs[0, :])\n",
    "ef = df.loc['Total'].rename_axis('date').reset_index()\n",
    "ef['date'] = ef['date'].astype('datetime64[ns]')\n",
    "ax1.bar(ef.date,ef.Total,alpha=0.3,color='#007acc')\n",
    "ax1.plot(ef.date,ef.Total , marker=\"o\", color='#007acc')\n",
    "ax1.xaxis.set_major_locator(mdates.WeekdayLocator())\n",
    "ax1.xaxis.set_major_formatter(mdates.DateFormatter('%b %d'))\n",
    "ax1.text(0.02, 0.5,'India daily case count', transform = ax1.transAxes, fontsize=25);\n",
    "ax1.spines['right'].set_visible(False)\n",
    "ax1.spines['top'].set_visible(False)\n",
    "\n",
    "ax2 = fig.add_subplot(gs[1,0])\n",
    "ef = df.loc['Maharashtra'].rename_axis('date').reset_index()\n",
    "ef['date'] = ef['date'].astype('datetime64[ns]')\n",
    "\n",
    "ax2.bar(ef.date, ef.Maharashtra,color = '#007acc',alpha=0.5)\n",
    "ax2.xaxis.set_major_locator(mdates.WeekdayLocator())\n",
    "ax2.xaxis.set_major_formatter(mdates.DateFormatter('%b %d'))\n",
    "ax2.set_xticks(ax2.get_xticks()[::3])\n",
    "maxyval = ef.Maharashtra.max()\n",
    "ax2.set_ylim([0,maxyval])\n",
    "ax2.text(0.05, 0.9,'Maharashtra', transform = ax2.transAxes, fontsize=20);\n",
    "ax2.spines['right'].set_visible(False)\n",
    "ax2.spines['top'].set_visible(False)\n",
    "\n",
    "\n",
    "ax3 = fig.add_subplot(gs[1,1])\n",
    "ef = df.loc['Tamil Nadu'].rename_axis('date').reset_index()\n",
    "ef['date'] = ef['date'].astype('datetime64[ns]')\n",
    "ax3.bar(ef.date, ef['Tamil Nadu'],color = '#007acc',alpha=0.5,)\n",
    "ax3.xaxis.set_major_locator(mdates.WeekdayLocator())\n",
    "ax3.xaxis.set_major_formatter(mdates.DateFormatter('%b %d'))\n",
    "ax3.set_xticks(ax3.get_xticks()[::3])\n",
    "ax3.text(0.05, 0.9,'Tamil Nadu', transform = ax3.transAxes, fontsize=20);\n",
    "ax3.spines['right'].set_visible(False)\n",
    "ax3.spines['top'].set_visible(False)\n",
    "\n",
    "ax5 = fig.add_subplot(gs[1,3])\n",
    "ef = df.loc['Telangana'].rename_axis('date').reset_index()\n",
    "ef['date'] = ef['date'].astype('datetime64[ns]')\n",
    "ax5.bar(ef.date, ef['Telangana'],color = '#007acc',alpha=0.5,)\n",
    "ax5.xaxis.set_major_locator(mdates.WeekdayLocator())\n",
    "ax5.xaxis.set_major_formatter(mdates.DateFormatter('%b %d'))\n",
    "ax5.set_xticks(ax5.get_xticks()[::3])\n",
    "ax5.text(0.05, 0.9,'Telangana', transform = ax5.transAxes, fontsize=20);\n",
    "ax5.spines['right'].set_visible(False)\n",
    "ax5.spines['top'].set_visible(False)\n",
    "\n",
    "ax6 = fig.add_subplot(gs[1,4])\n",
    "ef = df.loc['Andhra Pradesh'].rename_axis('date').reset_index()\n",
    "ef['date'] = ef['date'].astype('datetime64[ns]')\n",
    "ax6.bar(ef.date, ef['Andhra Pradesh'],color = '#007acc',alpha=0.5,)\n",
    "ax6.xaxis.set_major_locator(mdates.WeekdayLocator())\n",
    "ax6.xaxis.set_major_formatter(mdates.DateFormatter('%b %d'))\n",
    "ax6.set_xticks(ax6.get_xticks()[::3])\n",
    "ax6.text(0.05, 1,'Andhra Pradesh', transform = ax6.transAxes, fontsize=20);\n",
    "ax6.spines['right'].set_visible(False)\n",
    "ax6.spines['top'].set_visible(False)\n",
    "\n",
    "ax4 = fig.add_subplot(gs[1,2])\n",
    "ef = df.loc['Delhi'].rename_axis('date').reset_index()\n",
    "ef['date'] = ef['date'].astype('datetime64[ns]')\n",
    "ax4.bar(ef.date, ef.Delhi,color = '#007acc',alpha=0.5)\n",
    "ax4.set_xticks([])\n",
    "ax4.xaxis.set_major_locator(mdates.WeekdayLocator())\n",
    "ax4.xaxis.set_major_formatter(mdates.DateFormatter('%b %d'))\n",
    "ax4.set_xticks(ax4.get_xticks()[::3])\n",
    "ax4.spines['right'].set_visible(False)\n",
    "ax4.spines['top'].set_visible(False)\n",
    "\n",
    "ax4.text(0.05, 1,'Delhi', transform = ax4.transAxes, fontsize=20)\n",
    "\n",
    "for i in range(n):\n",
    "    \n",
    "    ax.append(fig.add_subplot(gs[i+2,:]))\n",
    "    ef = df.iloc[i+3].rename_axis('date').reset_index()\n",
    "    ef['date'] = ef['date'].astype('datetime64[ns]')\n",
    "    ax[i].bar(ef.date,ef.iloc[:,-1],color = '#007acc',alpha=0.3)\n",
    "    ax[i].plot(ef.date,ef.iloc[:,-1],marker='o',color='#007acc')\n",
    "    ax[i].text(0.02,0.5,f'{ef.columns.values[-1]}',transform = ax[i].transAxes, fontsize = 20);\n",
    "    ax[i].xaxis.set_major_locator(mdates.WeekdayLocator())\n",
    "    ax[i].xaxis.set_major_formatter(mdates.DateFormatter('%b %d'))\n",
    "    ax[i].set_ylim([0,7000])\n",
    "    ax[i].spines['right'].set_visible(False)\n",
    "    ax[i].spines['top'].set_visible(False)\n",
    "plt.tight_layout()\n"
   ]
  },
  {
   "cell_type": "code",
   "execution_count": 20,
   "id": "dress-forge",
   "metadata": {
    "execution": {
     "iopub.execute_input": "2021-05-21T12:43:09.071362Z",
     "iopub.status.busy": "2021-05-21T12:43:09.070695Z",
     "iopub.status.idle": "2021-05-21T12:43:09.073185Z",
     "shell.execute_reply": "2021-05-21T12:43:09.073744Z"
    },
    "papermill": {
     "duration": 0.040269,
     "end_time": "2021-05-21T12:43:09.073900",
     "exception": false,
     "start_time": "2021-05-21T12:43:09.033631",
     "status": "completed"
    },
    "tags": []
   },
   "outputs": [
    {
     "name": "stdout",
     "output_type": "stream",
     "text": [
      "                                   states    Cases  Deaths   PCases  PDeaths  Cases (+)  Deaths (+)  Fatality Rate\n",
      "                              Maharashtra  5497448   85355  5497448    85355          0           0           1.55\n",
      "                                Karnataka  2335524   23854  2335524    23854          0           0           1.02\n",
      "                                   Kerala  2263960    6853  2263960     6853          0           0           0.30\n",
      "                               Tamil Nadu  1734804   19131  1734804    19131          0           0           1.10\n",
      "                            Uttar Pradesh  1659212   18760  1651530    18588       7682         172           1.13\n",
      "                           Andhra Pradesh  1521142    9800  1521142     9800          0           0           0.64\n",
      "                                    Delhi  1412959   22831  1409950    22579       3009         252           1.62\n",
      "                              West Bengal  1209958   13895  1209958    13895          0           0           1.15\n",
      "                             Chhattisgarh   936423   12295   936423    12295          0           0           1.31\n",
      "                                Rajasthan   897193    7346   897193     7346          0           0           0.82\n",
      "                                  Gujarat   776220    9404   776220     9404          0           0           1.21\n",
      "                           Madhya Pradesh   752735    7315   752735     7315          0           0           0.97\n",
      "                                  Haryana   722964    7205   722964     7205          0           0           1.00\n",
      "                                    Bihar   676045    4241   676045     4241          0           0           0.63\n",
      "                                   Odisha   668422    2483   655899     2456      12523          27           0.37\n",
      "                                Telangana   544263    3060   544263     3060          0           0           0.56\n",
      "                                   Punjab   523423   12716   523423    12716          0           0           2.43\n",
      "                                    Assam   353574    2507   353574     2507          0           0           0.71\n",
      "                                Jharkhand   324884    4714   324884     4714          0           0           1.45\n",
      "                              Uttarakhand   303940    5484   303940     5484          0           0           1.80\n",
      "                        Jammu and Kashmir   260057    3422   260057     3422          0           0           1.32\n",
      "                         Himachal Pradesh   172722    2581   172722     2581          0           0           1.49\n",
      "                                      Goa   141567    2272   141567     2272          0           0           1.60\n",
      "                               Puducherry    93167    1295    91465     1269       1702          26           1.39\n",
      "                               Chandigarh    57331     666    57331      666          0           0           1.16\n",
      "                                  Tripura    44356     452    43493      450        863           2           1.02\n",
      "                                  Manipur    41909     646    41909      646          0           0           1.54\n",
      "                                Meghalaya    27755     414    26927      389        828          25           1.49\n",
      "                        Arunachal Pradesh    23159      89    23159       89          0           0           0.38\n",
      "                                 Nagaland    19284     245    19284      245          0           0           1.27\n",
      "                                   Ladakh    17025     172    17025      172          0           0           1.01\n",
      "                                   Sikkim    12527     220    12210      217        317           3           1.76\n",
      " Dadra and Nagar Haveli and Daman and Diu     9795       4     9795        4          0           0           0.04\n",
      "                                  Mizoram     9740      30     9444       30        296           0           0.31\n",
      "              Andaman and Nicobar Islands     6758      96     6758       96          0           0           1.42\n",
      "                              Lakshadweep     5756      20     5756       20          0           0           0.35\n"
     ]
    }
   ],
   "source": [
    "#hide_input\n",
    "print(df_table.to_string(index=False))"
   ]
  },
  {
   "cell_type": "code",
   "execution_count": null,
   "id": "quantitative-legend",
   "metadata": {
    "papermill": {
     "duration": 0.028132,
     "end_time": "2021-05-21T12:43:09.132639",
     "exception": false,
     "start_time": "2021-05-21T12:43:09.104507",
     "status": "completed"
    },
    "tags": []
   },
   "outputs": [],
   "source": []
  },
  {
   "cell_type": "code",
   "execution_count": null,
   "id": "distant-acoustic",
   "metadata": {
    "papermill": {
     "duration": 0.027358,
     "end_time": "2021-05-21T12:43:09.189525",
     "exception": false,
     "start_time": "2021-05-21T12:43:09.162167",
     "status": "completed"
    },
    "tags": []
   },
   "outputs": [],
   "source": []
  }
 ],
 "metadata": {
  "kernelspec": {
   "display_name": "Python 3",
   "language": "python",
   "name": "python3"
  },
  "language_info": {
   "codemirror_mode": {
    "name": "ipython",
    "version": 3
   },
   "file_extension": ".py",
   "mimetype": "text/x-python",
   "name": "python",
   "nbconvert_exporter": "python",
   "pygments_lexer": "ipython3",
   "version": "3.6.13"
  },
  "papermill": {
   "duration": 30.904805,
   "end_time": "2021-05-21T12:43:09.926442",
   "environment_variables": {},
   "exception": null,
   "input_path": "latest.ipynb",
   "output_path": "latest.ipynb",
   "parameters": {},
   "start_time": "2021-05-21T12:42:39.021637",
   "version": "2.1.2"
  }
 },
 "nbformat": 4,
 "nbformat_minor": 5
}