{
 "cells": [
  {
   "cell_type": "markdown",
   "id": "colored-stack",
   "metadata": {
    "papermill": {
     "duration": 0.02255,
     "end_time": "2021-04-13T13:57:47.062420",
     "exception": false,
     "start_time": "2021-04-13T13:57:47.039870",
     "status": "completed"
    },
    "tags": []
   },
   "source": [
    "# Latest COVID-19 India Matplotlib Overview"
   ]
  },
  {
   "cell_type": "code",
   "execution_count": 1,
   "id": "light-proportion",
   "metadata": {
    "execution": {
     "iopub.execute_input": "2021-04-13T13:57:47.116461Z",
     "iopub.status.busy": "2021-04-13T13:57:47.115408Z",
     "iopub.status.idle": "2021-04-13T13:57:47.765719Z",
     "shell.execute_reply": "2021-04-13T13:57:47.764800Z"
    },
    "papermill": {
     "duration": 0.68545,
     "end_time": "2021-04-13T13:57:47.765958",
     "exception": false,
     "start_time": "2021-04-13T13:57:47.080508",
     "status": "completed"
    },
    "tags": []
   },
   "outputs": [],
   "source": [
    "#hide\n",
    "import pandas as pd\n",
    "import numpy as np\n",
    "import requests\n",
    "import json\n",
    "import matplotlib.pyplot as plt\n",
    "import matplotlib.dates as mdates\n",
    "import matplotlib as mpl\n",
    "from IPython.core.display import display,HTML\n",
    "%matplotlib inline\n",
    "from datetime import date"
   ]
  },
  {
   "cell_type": "code",
   "execution_count": 2,
   "id": "greenhouse-shooting",
   "metadata": {
    "execution": {
     "iopub.execute_input": "2021-04-13T13:57:47.806891Z",
     "iopub.status.busy": "2021-04-13T13:57:47.806316Z",
     "iopub.status.idle": "2021-04-13T13:57:48.140132Z",
     "shell.execute_reply": "2021-04-13T13:57:48.138413Z"
    },
    "papermill": {
     "duration": 0.357231,
     "end_time": "2021-04-13T13:57:48.140372",
     "exception": false,
     "start_time": "2021-04-13T13:57:47.783141",
     "status": "completed"
    },
    "tags": []
   },
   "outputs": [],
   "source": [
    "#hide\n",
    "df  = pd.read_csv('https://api.covid19india.org/csv/latest/states.csv')\n",
    "df = df[['Date','State','Confirmed','Deceased']]\n",
    "df = df.rename(columns={'Confirmed':'Cases', \"Deceased\":'Deaths'})\n",
    "df_cases = df[[\"Date\",'State','Cases']]\n",
    "df_deaths = df[['Date','State','Deaths']]\n",
    "df_cases1 = df_cases.groupby('Date')\n",
    "df_deaths1= df_deaths.groupby('Date')"
   ]
  },
  {
   "cell_type": "code",
   "execution_count": 3,
   "id": "hybrid-cathedral",
   "metadata": {
    "execution": {
     "iopub.execute_input": "2021-04-13T13:57:48.184189Z",
     "iopub.status.busy": "2021-04-13T13:57:48.183606Z",
     "iopub.status.idle": "2021-04-13T13:57:48.201207Z",
     "shell.execute_reply": "2021-04-13T13:57:48.202116Z"
    },
    "papermill": {
     "duration": 0.040433,
     "end_time": "2021-04-13T13:57:48.202285",
     "exception": false,
     "start_time": "2021-04-13T13:57:48.161852",
     "status": "completed"
    },
    "tags": []
   },
   "outputs": [],
   "source": [
    "#hide\n",
    "df_snap = pd.read_csv('data/SnapshotCases-28-July.csv')\n",
    "arr_states = df_snap['states'].unique()\n",
    "arr_dates = df['Date'].unique()\n",
    "df_snap = df_snap.set_index('states')"
   ]
  },
  {
   "cell_type": "code",
   "execution_count": 4,
   "id": "interior-belfast",
   "metadata": {
    "execution": {
     "iopub.execute_input": "2021-04-13T13:57:48.253739Z",
     "iopub.status.busy": "2021-04-13T13:57:48.253109Z",
     "iopub.status.idle": "2021-04-13T13:57:48.256185Z",
     "shell.execute_reply": "2021-04-13T13:57:48.255705Z"
    },
    "papermill": {
     "duration": 0.032409,
     "end_time": "2021-04-13T13:57:48.256303",
     "exception": false,
     "start_time": "2021-04-13T13:57:48.223894",
     "status": "completed"
    },
    "tags": []
   },
   "outputs": [
    {
     "data": {
      "text/plain": [
       "array(['Andaman and Nicobar Islands', 'Andhra Pradesh',\n",
       "       'Arunachal Pradesh', 'Assam', 'Bihar', 'Chandigarh',\n",
       "       'Dadra and Nagar Haveli and Daman and Diu', 'Delhi', 'Goa',\n",
       "       'Gujarat', 'Haryana', 'Himachal Pradesh', 'Jammu and Kashmir',\n",
       "       'Jharkhand', 'Karnataka', 'Kerala', 'Lakshadweep',\n",
       "       'Madhya Pradesh', 'Maharashtra', 'Manipur', 'Meghalaya', 'Mizoram',\n",
       "       'Nagaland', 'Odisha', 'Puducherry', 'Punjab', 'Rajasthan',\n",
       "       'Sikkim', 'Tamil Nadu', 'Telangana', 'Tripura', 'Uttar Pradesh',\n",
       "       'West Bengal', 'Chhattisgarh', 'Ladakh', 'Uttarakhand'],\n",
       "      dtype=object)"
      ]
     },
     "execution_count": 4,
     "metadata": {},
     "output_type": "execute_result"
    }
   ],
   "source": [
    "#hide\n",
    "arr_states[-9] = 'Puducherry'\n",
    "arr_states[-10] = 'Odisha'\n",
    "arr_states[6] = 'Dadra and Nagar Haveli and Daman and Diu'\n",
    "arr_states = np.append(arr_states,np.array(['Chhattisgarh','Ladakh','Uttarakhand']))\n",
    "arr_states"
   ]
  },
  {
   "cell_type": "code",
   "execution_count": 5,
   "id": "behind-manner",
   "metadata": {
    "execution": {
     "iopub.execute_input": "2021-04-13T13:57:48.305929Z",
     "iopub.status.busy": "2021-04-13T13:57:48.305359Z",
     "iopub.status.idle": "2021-04-13T13:57:48.315285Z",
     "shell.execute_reply": "2021-04-13T13:57:48.314686Z"
    },
    "papermill": {
     "duration": 0.04228,
     "end_time": "2021-04-13T13:57:48.315438",
     "exception": false,
     "start_time": "2021-04-13T13:57:48.273158",
     "status": "completed"
    },
    "tags": []
   },
   "outputs": [],
   "source": [
    "#hide\n",
    "dates = []\n",
    "for i in arr_dates:\n",
    "    if i>='2020-07-01':\n",
    "        dates.append(i)\n",
    "dict = {'states':dates}\n",
    "for i in arr_states:\n",
    "    dict[i] = [0]*len(dates)\n",
    "dft_cases = pd.DataFrame(dict)\n",
    "dft_deaths = pd.DataFrame(dict)\n"
   ]
  },
  {
   "cell_type": "code",
   "execution_count": 6,
   "id": "simplified-peter",
   "metadata": {
    "execution": {
     "iopub.execute_input": "2021-04-13T13:57:48.362253Z",
     "iopub.status.busy": "2021-04-13T13:57:48.360881Z",
     "iopub.status.idle": "2021-04-13T13:57:52.345590Z",
     "shell.execute_reply": "2021-04-13T13:57:52.344233Z"
    },
    "papermill": {
     "duration": 4.012076,
     "end_time": "2021-04-13T13:57:52.345804",
     "exception": false,
     "start_time": "2021-04-13T13:57:48.333728",
     "status": "completed"
    },
    "tags": []
   },
   "outputs": [],
   "source": [
    "#hide\n",
    "for i in range(len(dates)):\n",
    "    df1_deaths = df_deaths1.get_group(dates[i])\n",
    "    for j in range(len(df1_deaths.index)):\n",
    "        if df1_deaths.iloc[j,1] in arr_states:\n",
    "            dft_deaths.loc[i,df1_deaths.iloc[j,1]] = df1_deaths.iloc[j,2]\n",
    "dft_deaths = dft_deaths.set_index('states')"
   ]
  },
  {
   "cell_type": "code",
   "execution_count": 7,
   "id": "geological-welding",
   "metadata": {
    "execution": {
     "iopub.execute_input": "2021-04-13T13:57:52.388864Z",
     "iopub.status.busy": "2021-04-13T13:57:52.388127Z",
     "iopub.status.idle": "2021-04-13T13:57:56.271670Z",
     "shell.execute_reply": "2021-04-13T13:57:56.270696Z"
    },
    "papermill": {
     "duration": 3.909093,
     "end_time": "2021-04-13T13:57:56.271806",
     "exception": false,
     "start_time": "2021-04-13T13:57:52.362713",
     "status": "completed"
    },
    "tags": []
   },
   "outputs": [],
   "source": [
    "#hide\n",
    "for i in range(len(dates)):\n",
    "    df1_cases = df_cases1.get_group(dates[i])\n",
    "    for j in range(len(df1_cases.index)):\n",
    "        if df1_cases.iloc[j,1] in arr_states:\n",
    "            dft_cases.loc[i,df1_cases.iloc[j,1]] = df1_cases.iloc[j,2]\n",
    "dft_cases = dft_cases.set_index('states')"
   ]
  },
  {
   "cell_type": "code",
   "execution_count": 8,
   "id": "binary-ratio",
   "metadata": {
    "execution": {
     "iopub.execute_input": "2021-04-13T13:57:56.309876Z",
     "iopub.status.busy": "2021-04-13T13:57:56.309289Z",
     "iopub.status.idle": "2021-04-13T13:57:56.310959Z",
     "shell.execute_reply": "2021-04-13T13:57:56.311504Z"
    },
    "papermill": {
     "duration": 0.023103,
     "end_time": "2021-04-13T13:57:56.311646",
     "exception": false,
     "start_time": "2021-04-13T13:57:56.288543",
     "status": "completed"
    },
    "tags": []
   },
   "outputs": [],
   "source": [
    "#hide\n",
    "dft_cases = dft_cases.T\n",
    "dft_deaths = dft_deaths.T\n",
    "dt_today = dates[-1]\n",
    "dt_yday = dates[-2]"
   ]
  },
  {
   "cell_type": "code",
   "execution_count": 9,
   "id": "boolean-calculator",
   "metadata": {
    "execution": {
     "iopub.execute_input": "2021-04-13T13:57:56.352859Z",
     "iopub.status.busy": "2021-04-13T13:57:56.352289Z",
     "iopub.status.idle": "2021-04-13T13:57:56.356847Z",
     "shell.execute_reply": "2021-04-13T13:57:56.356400Z"
    },
    "papermill": {
     "duration": 0.028273,
     "end_time": "2021-04-13T13:57:56.356951",
     "exception": false,
     "start_time": "2021-04-13T13:57:56.328678",
     "status": "completed"
    },
    "tags": []
   },
   "outputs": [],
   "source": [
    "#hide\n",
    "dft_cases = dft_cases.reset_index()\n",
    "dft_deaths = dft_deaths.reset_index()\n",
    "dft_cases = dft_cases.rename(columns = {'index':'state'})\n",
    "dft_deaths = dft_deaths.rename(columns = {'index':'state'})"
   ]
  },
  {
   "cell_type": "code",
   "execution_count": 10,
   "id": "invisible-johnston",
   "metadata": {
    "execution": {
     "iopub.execute_input": "2021-04-13T13:57:56.396573Z",
     "iopub.status.busy": "2021-04-13T13:57:56.395992Z",
     "iopub.status.idle": "2021-04-13T13:57:56.409095Z",
     "shell.execute_reply": "2021-04-13T13:57:56.408635Z"
    },
    "papermill": {
     "duration": 0.036262,
     "end_time": "2021-04-13T13:57:56.409208",
     "exception": false,
     "start_time": "2021-04-13T13:57:56.372946",
     "status": "completed"
    },
    "tags": []
   },
   "outputs": [],
   "source": [
    "#hide\n",
    "dfc_cases = dft_cases.groupby('state')[dt_today].sum()\n",
    "dfc_deaths = dft_deaths.groupby('state')[dt_today].sum()\n",
    "dfp_cases = dft_cases.groupby('state')[dt_yday].sum()\n",
    "dfp_deaths = dft_deaths.groupby('state')[dt_yday].sum()"
   ]
  },
  {
   "cell_type": "code",
   "execution_count": 11,
   "id": "measured-great",
   "metadata": {
    "execution": {
     "iopub.execute_input": "2021-04-13T13:57:56.457385Z",
     "iopub.status.busy": "2021-04-13T13:57:56.455700Z",
     "iopub.status.idle": "2021-04-13T13:57:56.467377Z",
     "shell.execute_reply": "2021-04-13T13:57:56.467867Z"
    },
    "papermill": {
     "duration": 0.041646,
     "end_time": "2021-04-13T13:57:56.467998",
     "exception": false,
     "start_time": "2021-04-13T13:57:56.426352",
     "status": "completed"
    },
    "tags": []
   },
   "outputs": [
    {
     "data": {
      "text/html": [
       "<div>\n",
       "<style scoped>\n",
       "    .dataframe tbody tr th:only-of-type {\n",
       "        vertical-align: middle;\n",
       "    }\n",
       "\n",
       "    .dataframe tbody tr th {\n",
       "        vertical-align: top;\n",
       "    }\n",
       "\n",
       "    .dataframe thead th {\n",
       "        text-align: right;\n",
       "    }\n",
       "</style>\n",
       "<table border=\"1\" class=\"dataframe\">\n",
       "  <thead>\n",
       "    <tr style=\"text-align: right;\">\n",
       "      <th></th>\n",
       "      <th>states</th>\n",
       "      <th>Cases</th>\n",
       "      <th>Deaths</th>\n",
       "      <th>PCases</th>\n",
       "      <th>PDeaths</th>\n",
       "    </tr>\n",
       "  </thead>\n",
       "  <tbody>\n",
       "    <tr>\n",
       "      <th>0</th>\n",
       "      <td>Maharashtra</td>\n",
       "      <td>3458996</td>\n",
       "      <td>58245</td>\n",
       "      <td>3458996</td>\n",
       "      <td>58245</td>\n",
       "    </tr>\n",
       "    <tr>\n",
       "      <th>1</th>\n",
       "      <td>Kerala</td>\n",
       "      <td>1180398</td>\n",
       "      <td>4815</td>\n",
       "      <td>1172883</td>\n",
       "      <td>4795</td>\n",
       "    </tr>\n",
       "    <tr>\n",
       "      <th>2</th>\n",
       "      <td>Karnataka</td>\n",
       "      <td>1074869</td>\n",
       "      <td>12941</td>\n",
       "      <td>1074869</td>\n",
       "      <td>12941</td>\n",
       "    </tr>\n",
       "    <tr>\n",
       "      <th>3</th>\n",
       "      <td>Tamil Nadu</td>\n",
       "      <td>940145</td>\n",
       "      <td>12927</td>\n",
       "      <td>940145</td>\n",
       "      <td>12927</td>\n",
       "    </tr>\n",
       "    <tr>\n",
       "      <th>4</th>\n",
       "      <td>Andhra Pradesh</td>\n",
       "      <td>928664</td>\n",
       "      <td>7311</td>\n",
       "      <td>928664</td>\n",
       "      <td>7311</td>\n",
       "    </tr>\n",
       "  </tbody>\n",
       "</table>\n",
       "</div>"
      ],
      "text/plain": [
       "           states    Cases  Deaths   PCases  PDeaths\n",
       "0     Maharashtra  3458996   58245  3458996    58245\n",
       "1          Kerala  1180398    4815  1172883     4795\n",
       "2       Karnataka  1074869   12941  1074869    12941\n",
       "3      Tamil Nadu   940145   12927   940145    12927\n",
       "4  Andhra Pradesh   928664    7311   928664     7311"
      ]
     },
     "execution_count": 11,
     "metadata": {},
     "output_type": "execute_result"
    }
   ],
   "source": [
    "#hide\n",
    "df_table = pd.DataFrame({'states': dfc_cases.index, 'Cases': dfc_cases.values, 'Deaths': dfc_deaths.values, 'PCases': dfp_cases.values, 'PDeaths': dfp_deaths.values}).set_index('states')\n",
    "df_table = df_table.sort_values(by = ['Cases','Deaths'], ascending = [False, False])\n",
    "df_table = df_table.reset_index()\n",
    "df_table.head()"
   ]
  },
  {
   "cell_type": "code",
   "execution_count": 12,
   "id": "found-montreal",
   "metadata": {
    "execution": {
     "iopub.execute_input": "2021-04-13T13:57:56.507731Z",
     "iopub.status.busy": "2021-04-13T13:57:56.507161Z",
     "iopub.status.idle": "2021-04-13T13:57:56.515785Z",
     "shell.execute_reply": "2021-04-13T13:57:56.516249Z"
    },
    "papermill": {
     "duration": 0.031488,
     "end_time": "2021-04-13T13:57:56.516382",
     "exception": false,
     "start_time": "2021-04-13T13:57:56.484894",
     "status": "completed"
    },
    "tags": []
   },
   "outputs": [],
   "source": [
    "#hide\n",
    "for c in 'Cases, Deaths'.split(', '):\n",
    "    df_table[f'{c} (+)'] = (df_table[c] - df_table[f'P{c}']).clip(0)\n",
    "df_table['Fatality Rate'] = (100* df_table['Deaths']/ df_table['Cases']).round(2)"
   ]
  },
  {
   "cell_type": "code",
   "execution_count": 13,
   "id": "minus-savage",
   "metadata": {
    "execution": {
     "iopub.execute_input": "2021-04-13T13:57:56.568009Z",
     "iopub.status.busy": "2021-04-13T13:57:56.567431Z",
     "iopub.status.idle": "2021-04-13T13:57:56.570510Z",
     "shell.execute_reply": "2021-04-13T13:57:56.570050Z"
    },
    "papermill": {
     "duration": 0.034498,
     "end_time": "2021-04-13T13:57:56.570625",
     "exception": false,
     "start_time": "2021-04-13T13:57:56.536127",
     "status": "completed"
    },
    "tags": []
   },
   "outputs": [
    {
     "data": {
      "text/html": [
       "<div>\n",
       "<style scoped>\n",
       "    .dataframe tbody tr th:only-of-type {\n",
       "        vertical-align: middle;\n",
       "    }\n",
       "\n",
       "    .dataframe tbody tr th {\n",
       "        vertical-align: top;\n",
       "    }\n",
       "\n",
       "    .dataframe thead th {\n",
       "        text-align: right;\n",
       "    }\n",
       "</style>\n",
       "<table border=\"1\" class=\"dataframe\">\n",
       "  <thead>\n",
       "    <tr style=\"text-align: right;\">\n",
       "      <th></th>\n",
       "      <th>states</th>\n",
       "      <th>Cases</th>\n",
       "      <th>Deaths</th>\n",
       "      <th>PCases</th>\n",
       "      <th>PDeaths</th>\n",
       "      <th>Cases (+)</th>\n",
       "      <th>Deaths (+)</th>\n",
       "      <th>Fatality Rate</th>\n",
       "    </tr>\n",
       "  </thead>\n",
       "  <tbody>\n",
       "    <tr>\n",
       "      <th>0</th>\n",
       "      <td>Maharashtra</td>\n",
       "      <td>3458996</td>\n",
       "      <td>58245</td>\n",
       "      <td>3458996</td>\n",
       "      <td>58245</td>\n",
       "      <td>0</td>\n",
       "      <td>0</td>\n",
       "      <td>1.68</td>\n",
       "    </tr>\n",
       "    <tr>\n",
       "      <th>1</th>\n",
       "      <td>Kerala</td>\n",
       "      <td>1180398</td>\n",
       "      <td>4815</td>\n",
       "      <td>1172883</td>\n",
       "      <td>4795</td>\n",
       "      <td>7515</td>\n",
       "      <td>20</td>\n",
       "      <td>0.41</td>\n",
       "    </tr>\n",
       "    <tr>\n",
       "      <th>2</th>\n",
       "      <td>Karnataka</td>\n",
       "      <td>1074869</td>\n",
       "      <td>12941</td>\n",
       "      <td>1074869</td>\n",
       "      <td>12941</td>\n",
       "      <td>0</td>\n",
       "      <td>0</td>\n",
       "      <td>1.20</td>\n",
       "    </tr>\n",
       "    <tr>\n",
       "      <th>3</th>\n",
       "      <td>Tamil Nadu</td>\n",
       "      <td>940145</td>\n",
       "      <td>12927</td>\n",
       "      <td>940145</td>\n",
       "      <td>12927</td>\n",
       "      <td>0</td>\n",
       "      <td>0</td>\n",
       "      <td>1.38</td>\n",
       "    </tr>\n",
       "    <tr>\n",
       "      <th>4</th>\n",
       "      <td>Andhra Pradesh</td>\n",
       "      <td>928664</td>\n",
       "      <td>7311</td>\n",
       "      <td>928664</td>\n",
       "      <td>7311</td>\n",
       "      <td>0</td>\n",
       "      <td>0</td>\n",
       "      <td>0.79</td>\n",
       "    </tr>\n",
       "  </tbody>\n",
       "</table>\n",
       "</div>"
      ],
      "text/plain": [
       "           states    Cases  Deaths   PCases  PDeaths  Cases (+)  Deaths (+)  \\\n",
       "0     Maharashtra  3458996   58245  3458996    58245          0           0   \n",
       "1          Kerala  1180398    4815  1172883     4795       7515          20   \n",
       "2       Karnataka  1074869   12941  1074869    12941          0           0   \n",
       "3      Tamil Nadu   940145   12927   940145    12927          0           0   \n",
       "4  Andhra Pradesh   928664    7311   928664     7311          0           0   \n",
       "\n",
       "   Fatality Rate  \n",
       "0           1.68  \n",
       "1           0.41  \n",
       "2           1.20  \n",
       "3           1.38  \n",
       "4           0.79  "
      ]
     },
     "execution_count": 13,
     "metadata": {},
     "output_type": "execute_result"
    }
   ],
   "source": [
    "#hide\n",
    "df_table.head()"
   ]
  },
  {
   "cell_type": "code",
   "execution_count": 14,
   "id": "false-peter",
   "metadata": {
    "execution": {
     "iopub.execute_input": "2021-04-13T13:57:56.616343Z",
     "iopub.status.busy": "2021-04-13T13:57:56.615779Z",
     "iopub.status.idle": "2021-04-13T13:57:56.631661Z",
     "shell.execute_reply": "2021-04-13T13:57:56.631201Z"
    },
    "papermill": {
     "duration": 0.042725,
     "end_time": "2021-04-13T13:57:56.631778",
     "exception": false,
     "start_time": "2021-04-13T13:57:56.589053",
     "status": "completed"
    },
    "tags": []
   },
   "outputs": [
    {
     "data": {
      "text/plain": [
       "{'updated': '2021-04-13',\n",
       " 'since': '2021-04-12',\n",
       " 'Cases': 13699048,\n",
       " 'PCases': 13686217,\n",
       " 'Deaths': 171121,\n",
       " 'PDeaths': 171089,\n",
       " 'Cases (+)': 12831,\n",
       " 'Deaths (+)': 32}"
      ]
     },
     "execution_count": 14,
     "metadata": {},
     "output_type": "execute_result"
    }
   ],
   "source": [
    "#hide\n",
    "summary = {'updated':dates[-1], 'since':dates[-2]}\n",
    "list_names = ['Cases', 'PCases', 'Deaths', 'PDeaths', 'Cases (+)', 'Deaths (+)']\n",
    "for name in list_names:\n",
    "    summary[name] = df_table.sum()[name]\n",
    "summary"
   ]
  },
  {
   "cell_type": "code",
   "execution_count": 15,
   "id": "packed-viewer",
   "metadata": {
    "execution": {
     "iopub.execute_input": "2021-04-13T13:57:56.680336Z",
     "iopub.status.busy": "2021-04-13T13:57:56.679826Z",
     "iopub.status.idle": "2021-04-13T13:57:56.682634Z",
     "shell.execute_reply": "2021-04-13T13:57:56.683100Z"
    },
    "papermill": {
     "duration": 0.032594,
     "end_time": "2021-04-13T13:57:56.683222",
     "exception": false,
     "start_time": "2021-04-13T13:57:56.650628",
     "status": "completed"
    },
    "tags": []
   },
   "outputs": [],
   "source": [
    "#hide\n",
    "overview = '''\n",
    "<!-- #######  HTML!! #########-->\n",
    "<h1 style=\"color: #5e9ca0; text-align: center;\">India</h1>\n",
    "<p style=\"text-align: center;\">Last update: <strong>{update}</strong></p>\n",
    "<p style=\"text-align: center;\">Confirmed cases:</p>\n",
    "<p style=\"text-align: center;font-size:24px;\">{cases} (<span style=\"color: #ff0000;\">+{new}</span>)</p>\n",
    "<p style=\"text-align: center;\">Confirmed deaths:</p>\n",
    "<p style=\"text-align: center;font-size:24px;\">{deaths} (<span style=\"color: #ff0000;\">+{dnew}</span>)</p>\n",
    "'''"
   ]
  },
  {
   "cell_type": "code",
   "execution_count": 16,
   "id": "phantom-lover",
   "metadata": {
    "execution": {
     "iopub.execute_input": "2021-04-13T13:57:56.722303Z",
     "iopub.status.busy": "2021-04-13T13:57:56.721835Z",
     "iopub.status.idle": "2021-04-13T13:57:56.725786Z",
     "shell.execute_reply": "2021-04-13T13:57:56.726304Z"
    },
    "papermill": {
     "duration": 0.026347,
     "end_time": "2021-04-13T13:57:56.726424",
     "exception": false,
     "start_time": "2021-04-13T13:57:56.700077",
     "status": "completed"
    },
    "tags": []
   },
   "outputs": [
    {
     "data": {
      "text/html": [
       "\n",
       "<!-- #######  HTML!! #########-->\n",
       "<h1 style=\"color: #5e9ca0; text-align: center;\">India</h1>\n",
       "<p style=\"text-align: center;\">Last update: <strong>2021-04-13</strong></p>\n",
       "<p style=\"text-align: center;\">Confirmed cases:</p>\n",
       "<p style=\"text-align: center;font-size:24px;\">13699048 (<span style=\"color: #ff0000;\">+12831</span>)</p>\n",
       "<p style=\"text-align: center;\">Confirmed deaths:</p>\n",
       "<p style=\"text-align: center;font-size:24px;\">171121 (<span style=\"color: #ff0000;\">+32</span>)</p>\n"
      ],
      "text/plain": [
       "<IPython.core.display.HTML object>"
      ]
     },
     "metadata": {},
     "output_type": "display_data"
    }
   ],
   "source": [
    "#hide_input\n",
    "update = summary['updated']\n",
    "cases = summary['Cases']\n",
    "new = summary['Cases (+)']\n",
    "deaths = summary['Deaths']\n",
    "dnew = summary['Deaths (+)']\n",
    "\n",
    "html = HTML(overview.format(update=update, cases=cases,new=new,deaths=deaths,dnew=dnew))\n",
    "\n",
    "display(html)"
   ]
  },
  {
   "cell_type": "code",
   "execution_count": 17,
   "id": "sealed-reset",
   "metadata": {
    "execution": {
     "iopub.execute_input": "2021-04-13T13:57:56.774581Z",
     "iopub.status.busy": "2021-04-13T13:57:56.774008Z",
     "iopub.status.idle": "2021-04-13T13:57:56.783634Z",
     "shell.execute_reply": "2021-04-13T13:57:56.783152Z"
    },
    "papermill": {
     "duration": 0.03665,
     "end_time": "2021-04-13T13:57:56.783743",
     "exception": false,
     "start_time": "2021-04-13T13:57:56.747093",
     "status": "completed"
    },
    "tags": []
   },
   "outputs": [],
   "source": [
    "#hide\n",
    "dt_cols = list(dft_cases.columns[1:])\n",
    "dft_ct_new_cases = dft_cases.groupby('state')[dt_cols].sum().diff(axis=1).fillna(0).astype(int)\n",
    "dft_ct_new_cases.sort_values(by = dates[-1], ascending = False,inplace = True)"
   ]
  },
  {
   "cell_type": "code",
   "execution_count": 18,
   "id": "designed-constant",
   "metadata": {
    "execution": {
     "iopub.execute_input": "2021-04-13T13:57:56.841326Z",
     "iopub.status.busy": "2021-04-13T13:57:56.840696Z",
     "iopub.status.idle": "2021-04-13T13:57:56.843226Z",
     "shell.execute_reply": "2021-04-13T13:57:56.843764Z"
    },
    "papermill": {
     "duration": 0.038536,
     "end_time": "2021-04-13T13:57:56.843924",
     "exception": false,
     "start_time": "2021-04-13T13:57:56.805388",
     "status": "completed"
    },
    "tags": []
   },
   "outputs": [
    {
     "data": {
      "text/html": [
       "<div>\n",
       "<style scoped>\n",
       "    .dataframe tbody tr th:only-of-type {\n",
       "        vertical-align: middle;\n",
       "    }\n",
       "\n",
       "    .dataframe tbody tr th {\n",
       "        vertical-align: top;\n",
       "    }\n",
       "\n",
       "    .dataframe thead th {\n",
       "        text-align: right;\n",
       "    }\n",
       "</style>\n",
       "<table border=\"1\" class=\"dataframe\">\n",
       "  <thead>\n",
       "    <tr style=\"text-align: right;\">\n",
       "      <th>states</th>\n",
       "      <th>2020-07-01</th>\n",
       "      <th>2020-07-02</th>\n",
       "      <th>2020-07-03</th>\n",
       "      <th>2020-07-04</th>\n",
       "      <th>2020-07-05</th>\n",
       "      <th>2020-07-06</th>\n",
       "      <th>2020-07-07</th>\n",
       "      <th>2020-07-08</th>\n",
       "      <th>2020-07-09</th>\n",
       "      <th>2020-07-10</th>\n",
       "      <th>...</th>\n",
       "      <th>2021-04-04</th>\n",
       "      <th>2021-04-05</th>\n",
       "      <th>2021-04-06</th>\n",
       "      <th>2021-04-07</th>\n",
       "      <th>2021-04-08</th>\n",
       "      <th>2021-04-09</th>\n",
       "      <th>2021-04-10</th>\n",
       "      <th>2021-04-11</th>\n",
       "      <th>2021-04-12</th>\n",
       "      <th>2021-04-13</th>\n",
       "    </tr>\n",
       "    <tr>\n",
       "      <th>state</th>\n",
       "      <th></th>\n",
       "      <th></th>\n",
       "      <th></th>\n",
       "      <th></th>\n",
       "      <th></th>\n",
       "      <th></th>\n",
       "      <th></th>\n",
       "      <th></th>\n",
       "      <th></th>\n",
       "      <th></th>\n",
       "      <th></th>\n",
       "      <th></th>\n",
       "      <th></th>\n",
       "      <th></th>\n",
       "      <th></th>\n",
       "      <th></th>\n",
       "      <th></th>\n",
       "      <th></th>\n",
       "      <th></th>\n",
       "      <th></th>\n",
       "      <th></th>\n",
       "    </tr>\n",
       "  </thead>\n",
       "  <tbody>\n",
       "    <tr>\n",
       "      <th>Kerala</th>\n",
       "      <td>0</td>\n",
       "      <td>160</td>\n",
       "      <td>211</td>\n",
       "      <td>240</td>\n",
       "      <td>225</td>\n",
       "      <td>193</td>\n",
       "      <td>272</td>\n",
       "      <td>301</td>\n",
       "      <td>339</td>\n",
       "      <td>416</td>\n",
       "      <td>...</td>\n",
       "      <td>2802</td>\n",
       "      <td>2357</td>\n",
       "      <td>3502</td>\n",
       "      <td>3502</td>\n",
       "      <td>4353</td>\n",
       "      <td>5063</td>\n",
       "      <td>6194</td>\n",
       "      <td>6986</td>\n",
       "      <td>5692</td>\n",
       "      <td>7515</td>\n",
       "    </tr>\n",
       "    <tr>\n",
       "      <th>Telangana</th>\n",
       "      <td>0</td>\n",
       "      <td>1213</td>\n",
       "      <td>1892</td>\n",
       "      <td>1850</td>\n",
       "      <td>1590</td>\n",
       "      <td>1831</td>\n",
       "      <td>1879</td>\n",
       "      <td>1924</td>\n",
       "      <td>1410</td>\n",
       "      <td>1278</td>\n",
       "      <td>...</td>\n",
       "      <td>1321</td>\n",
       "      <td>1097</td>\n",
       "      <td>1498</td>\n",
       "      <td>1914</td>\n",
       "      <td>2055</td>\n",
       "      <td>2478</td>\n",
       "      <td>2909</td>\n",
       "      <td>3187</td>\n",
       "      <td>2251</td>\n",
       "      <td>3052</td>\n",
       "    </tr>\n",
       "    <tr>\n",
       "      <th>Odisha</th>\n",
       "      <td>0</td>\n",
       "      <td>229</td>\n",
       "      <td>561</td>\n",
       "      <td>495</td>\n",
       "      <td>469</td>\n",
       "      <td>456</td>\n",
       "      <td>571</td>\n",
       "      <td>527</td>\n",
       "      <td>577</td>\n",
       "      <td>755</td>\n",
       "      <td>...</td>\n",
       "      <td>471</td>\n",
       "      <td>573</td>\n",
       "      <td>588</td>\n",
       "      <td>791</td>\n",
       "      <td>879</td>\n",
       "      <td>1282</td>\n",
       "      <td>1374</td>\n",
       "      <td>1379</td>\n",
       "      <td>1741</td>\n",
       "      <td>1784</td>\n",
       "    </tr>\n",
       "    <tr>\n",
       "      <th>Puducherry</th>\n",
       "      <td>0</td>\n",
       "      <td>63</td>\n",
       "      <td>22</td>\n",
       "      <td>80</td>\n",
       "      <td>42</td>\n",
       "      <td>65</td>\n",
       "      <td>30</td>\n",
       "      <td>110</td>\n",
       "      <td>49</td>\n",
       "      <td>72</td>\n",
       "      <td>...</td>\n",
       "      <td>227</td>\n",
       "      <td>180</td>\n",
       "      <td>237</td>\n",
       "      <td>173</td>\n",
       "      <td>293</td>\n",
       "      <td>223</td>\n",
       "      <td>272</td>\n",
       "      <td>306</td>\n",
       "      <td>512</td>\n",
       "      <td>418</td>\n",
       "    </tr>\n",
       "    <tr>\n",
       "      <th>Tripura</th>\n",
       "      <td>0</td>\n",
       "      <td>39</td>\n",
       "      <td>93</td>\n",
       "      <td>25</td>\n",
       "      <td>23</td>\n",
       "      <td>111</td>\n",
       "      <td>24</td>\n",
       "      <td>57</td>\n",
       "      <td>16</td>\n",
       "      <td>142</td>\n",
       "      <td>...</td>\n",
       "      <td>14</td>\n",
       "      <td>3</td>\n",
       "      <td>14</td>\n",
       "      <td>21</td>\n",
       "      <td>37</td>\n",
       "      <td>32</td>\n",
       "      <td>41</td>\n",
       "      <td>48</td>\n",
       "      <td>10</td>\n",
       "      <td>62</td>\n",
       "    </tr>\n",
       "  </tbody>\n",
       "</table>\n",
       "<p>5 rows × 287 columns</p>\n",
       "</div>"
      ],
      "text/plain": [
       "states      2020-07-01  2020-07-02  2020-07-03  2020-07-04  2020-07-05  \\\n",
       "state                                                                    \n",
       "Kerala               0         160         211         240         225   \n",
       "Telangana            0        1213        1892        1850        1590   \n",
       "Odisha               0         229         561         495         469   \n",
       "Puducherry           0          63          22          80          42   \n",
       "Tripura              0          39          93          25          23   \n",
       "\n",
       "states      2020-07-06  2020-07-07  2020-07-08  2020-07-09  2020-07-10  ...  \\\n",
       "state                                                                   ...   \n",
       "Kerala             193         272         301         339         416  ...   \n",
       "Telangana         1831        1879        1924        1410        1278  ...   \n",
       "Odisha             456         571         527         577         755  ...   \n",
       "Puducherry          65          30         110          49          72  ...   \n",
       "Tripura            111          24          57          16         142  ...   \n",
       "\n",
       "states      2021-04-04  2021-04-05  2021-04-06  2021-04-07  2021-04-08  \\\n",
       "state                                                                    \n",
       "Kerala            2802        2357        3502        3502        4353   \n",
       "Telangana         1321        1097        1498        1914        2055   \n",
       "Odisha             471         573         588         791         879   \n",
       "Puducherry         227         180         237         173         293   \n",
       "Tripura             14           3          14          21          37   \n",
       "\n",
       "states      2021-04-09  2021-04-10  2021-04-11  2021-04-12  2021-04-13  \n",
       "state                                                                   \n",
       "Kerala            5063        6194        6986        5692        7515  \n",
       "Telangana         2478        2909        3187        2251        3052  \n",
       "Odisha            1282        1374        1379        1741        1784  \n",
       "Puducherry         223         272         306         512         418  \n",
       "Tripura             32          41          48          10          62  \n",
       "\n",
       "[5 rows x 287 columns]"
      ]
     },
     "execution_count": 18,
     "metadata": {},
     "output_type": "execute_result"
    }
   ],
   "source": [
    "#hide\n",
    "dft_ct_new_cases.head()"
   ]
  },
  {
   "cell_type": "code",
   "execution_count": 19,
   "id": "responsible-nightlife",
   "metadata": {
    "execution": {
     "iopub.execute_input": "2021-04-13T13:57:56.915741Z",
     "iopub.status.busy": "2021-04-13T13:57:56.909731Z",
     "iopub.status.idle": "2021-04-13T13:58:07.906029Z",
     "shell.execute_reply": "2021-04-13T13:58:07.906523Z"
    },
    "papermill": {
     "duration": 11.042428,
     "end_time": "2021-04-13T13:58:07.906670",
     "exception": false,
     "start_time": "2021-04-13T13:57:56.864242",
     "status": "completed"
    },
    "tags": []
   },
   "outputs": [
    {
     "data": {
      "image/png": "[encoded data removed]",
      "text/plain": [
       "<Figure size 1296x2016 with 11 Axes>"
      ]
     },
     "metadata": {
      "needs_background": "light"
     },
     "output_type": "display_data"
    }
   ],
   "source": [
    "#hide_input\n",
    "df = dft_ct_new_cases.copy()\n",
    "df.loc['Total'] = df.sum()\n",
    "n = 5\n",
    "ax = []\n",
    "fig = plt.figure(figsize = (18,28))\n",
    "gs = fig.add_gridspec(n+2, 5)\n",
    "# gs = fig.add_gridspec(2, 3)\n",
    "ax1 = fig.add_subplot(gs[0, :])\n",
    "ef = df.loc['Total'].rename_axis('date').reset_index()\n",
    "ef['date'] = ef['date'].astype('datetime64[ns]')\n",
    "ax1.bar(ef.date,ef.Total,alpha=0.3,color='#007acc')\n",
    "ax1.plot(ef.date,ef.Total , marker=\"o\", color='#007acc')\n",
    "ax1.xaxis.set_major_locator(mdates.WeekdayLocator())\n",
    "ax1.xaxis.set_major_formatter(mdates.DateFormatter('%b %d'))\n",
    "ax1.text(0.02, 0.5,'India daily case count', transform = ax1.transAxes, fontsize=25);\n",
    "ax1.spines['right'].set_visible(False)\n",
    "ax1.spines['top'].set_visible(False)\n",
    "\n",
    "ax2 = fig.add_subplot(gs[1,0])\n",
    "ef = df.loc['Maharashtra'].rename_axis('date').reset_index()\n",
    "ef['date'] = ef['date'].astype('datetime64[ns]')\n",
    "\n",
    "ax2.bar(ef.date, ef.Maharashtra,color = '#007acc',alpha=0.5)\n",
    "ax2.xaxis.set_major_locator(mdates.WeekdayLocator())\n",
    "ax2.xaxis.set_major_formatter(mdates.DateFormatter('%b %d'))\n",
    "ax2.set_xticks(ax2.get_xticks()[::3])\n",
    "maxyval = ef.Maharashtra.max()\n",
    "ax2.set_ylim([0,maxyval])\n",
    "ax2.text(0.05, 0.9,'Maharashtra', transform = ax2.transAxes, fontsize=20);\n",
    "ax2.spines['right'].set_visible(False)\n",
    "ax2.spines['top'].set_visible(False)\n",
    "\n",
    "\n",
    "ax3 = fig.add_subplot(gs[1,1])\n",
    "ef = df.loc['Tamil Nadu'].rename_axis('date').reset_index()\n",
    "ef['date'] = ef['date'].astype('datetime64[ns]')\n",
    "ax3.bar(ef.date, ef['Tamil Nadu'],color = '#007acc',alpha=0.5,)\n",
    "ax3.xaxis.set_major_locator(mdates.WeekdayLocator())\n",
    "ax3.xaxis.set_major_formatter(mdates.DateFormatter('%b %d'))\n",
    "ax3.set_xticks(ax3.get_xticks()[::3])\n",
    "ax3.text(0.05, 0.9,'Tamil Nadu', transform = ax3.transAxes, fontsize=20);\n",
    "ax3.spines['right'].set_visible(False)\n",
    "ax3.spines['top'].set_visible(False)\n",
    "\n",
    "ax5 = fig.add_subplot(gs[1,3])\n",
    "ef = df.loc['Telangana'].rename_axis('date').reset_index()\n",
    "ef['date'] = ef['date'].astype('datetime64[ns]')\n",
    "ax5.bar(ef.date, ef['Telangana'],color = '#007acc',alpha=0.5,)\n",
    "ax5.xaxis.set_major_locator(mdates.WeekdayLocator())\n",
    "ax5.xaxis.set_major_formatter(mdates.DateFormatter('%b %d'))\n",
    "ax5.set_xticks(ax5.get_xticks()[::3])\n",
    "ax5.text(0.05, 0.9,'Telangana', transform = ax5.transAxes, fontsize=20);\n",
    "ax5.spines['right'].set_visible(False)\n",
    "ax5.spines['top'].set_visible(False)\n",
    "\n",
    "ax6 = fig.add_subplot(gs[1,4])\n",
    "ef = df.loc['Andhra Pradesh'].rename_axis('date').reset_index()\n",
    "ef['date'] = ef['date'].astype('datetime64[ns]')\n",
    "ax6.bar(ef.date, ef['Andhra Pradesh'],color = '#007acc',alpha=0.5,)\n",
    "ax6.xaxis.set_major_locator(mdates.WeekdayLocator())\n",
    "ax6.xaxis.set_major_formatter(mdates.DateFormatter('%b %d'))\n",
    "ax6.set_xticks(ax6.get_xticks()[::3])\n",
    "ax6.text(0.05, 1,'Andhra Pradesh', transform = ax6.transAxes, fontsize=20);\n",
    "ax6.spines['right'].set_visible(False)\n",
    "ax6.spines['top'].set_visible(False)\n",
    "\n",
    "ax4 = fig.add_subplot(gs[1,2])\n",
    "ef = df.loc['Delhi'].rename_axis('date').reset_index()\n",
    "ef['date'] = ef['date'].astype('datetime64[ns]')\n",
    "ax4.bar(ef.date, ef.Delhi,color = '#007acc',alpha=0.5)\n",
    "ax4.set_xticks([])\n",
    "ax4.xaxis.set_major_locator(mdates.WeekdayLocator())\n",
    "ax4.xaxis.set_major_formatter(mdates.DateFormatter('%b %d'))\n",
    "ax4.set_xticks(ax4.get_xticks()[::3])\n",
    "ax4.spines['right'].set_visible(False)\n",
    "ax4.spines['top'].set_visible(False)\n",
    "\n",
    "ax4.text(0.05, 1,'Delhi', transform = ax4.transAxes, fontsize=20)\n",
    "\n",
    "for i in range(n):\n",
    "    \n",
    "    ax.append(fig.add_subplot(gs[i+2,:]))\n",
    "    ef = df.iloc[i+3].rename_axis('date').reset_index()\n",
    "    ef['date'] = ef['date'].astype('datetime64[ns]')\n",
    "    ax[i].bar(ef.date,ef.iloc[:,-1],color = '#007acc',alpha=0.3)\n",
    "    ax[i].plot(ef.date,ef.iloc[:,-1],marker='o',color='#007acc')\n",
    "    ax[i].text(0.02,0.5,f'{ef.columns.values[-1]}',transform = ax[i].transAxes, fontsize = 20);\n",
    "    ax[i].xaxis.set_major_locator(mdates.WeekdayLocator())\n",
    "    ax[i].xaxis.set_major_formatter(mdates.DateFormatter('%b %d'))\n",
    "    ax[i].set_ylim([0,7000])\n",
    "    ax[i].spines['right'].set_visible(False)\n",
    "    ax[i].spines['top'].set_visible(False)\n",
    "plt.tight_layout()\n"
   ]
  },
  {
   "cell_type": "code",
   "execution_count": 20,
   "id": "dress-forge",
   "metadata": {
    "execution": {
     "iopub.execute_input": "2021-04-13T13:58:07.967481Z",
     "iopub.status.busy": "2021-04-13T13:58:07.966852Z",
     "iopub.status.idle": "2021-04-13T13:58:07.969398Z",
     "shell.execute_reply": "2021-04-13T13:58:07.969889Z"
    },
    "papermill": {
     "duration": 0.038345,
     "end_time": "2021-04-13T13:58:07.970032",
     "exception": false,
     "start_time": "2021-04-13T13:58:07.931687",
     "status": "completed"
    },
    "tags": []
   },
   "outputs": [
    {
     "name": "stdout",
     "output_type": "stream",
     "text": [
      "                                   states    Cases  Deaths   PCases  PDeaths  Cases (+)  Deaths (+)  Fatality Rate\n",
      "                              Maharashtra  3458996   58245  3458996    58245          0           0           1.68\n",
      "                                   Kerala  1180398    4815  1172883     4795       7515          20           0.41\n",
      "                                Karnataka  1074869   12941  1074869    12941          0           0           1.20\n",
      "                               Tamil Nadu   940145   12927   940145    12927          0           0           1.38\n",
      "                           Andhra Pradesh   928664    7311   928664     7311          0           0           0.79\n",
      "                                    Delhi   736688   11355   736688    11355          0           0           1.54\n",
      "                            Uttar Pradesh   705619    9224   705619     9224          0           0           1.31\n",
      "                              West Bengal   619407   10414   619407    10414          0           0           1.68\n",
      "                             Chhattisgarh   456873    5031   456873     5031          0           0           1.10\n",
      "                                Rajasthan   369564    2951   369564     2951          0           0           0.80\n",
      "                                  Gujarat   353516    4855   353516     4855          0           0           1.37\n",
      "                                   Odisha   353086    1983   351302     1981       1784           2           0.56\n",
      "                           Madhya Pradesh   344634    4221   344634     4221          0           0           1.22\n",
      "                                Telangana   332581    1772   329529     1765       3052           7           0.53\n",
      "                                  Haryana   320699    3282   320699     3282          0           0           1.02\n",
      "                                    Bihar   286228    1616   286228     1616          0           0           0.56\n",
      "                                   Punjab   276223    7559   276223     7559          0           0           2.74\n",
      "                                    Assam   220893    1118   220893     1118          0           0           0.51\n",
      "                                Jharkhand   141750    1232   141750     1232          0           0           0.87\n",
      "                        Jammu and Kashmir   139381    2034   139381     2034          0           0           1.46\n",
      "                              Uttarakhand   110146    1767   110146     1767          0           0           1.60\n",
      "                         Himachal Pradesh    70775    1111    70775     1111          0           0           1.57\n",
      "                                      Goa    62780     850    62780      850          0           0           1.35\n",
      "                               Puducherry    44973     696    44555      693        418           3           1.55\n",
      "                                  Tripura    33802     391    33740      391         62           0           1.16\n",
      "                               Chandigarh    31167     400    31167      400          0           0           1.28\n",
      "                                  Manipur    29514     376    29514      376          0           0           1.27\n",
      "                        Arunachal Pradesh    16888      56    16888       56          0           0           0.33\n",
      "                                Meghalaya    14300     151    14300      151          0           0           1.06\n",
      "                                 Nagaland    12416      93    12416       93          0           0           0.75\n",
      "                                   Ladakh    10905     131    10905      131          0           0           1.20\n",
      "                                   Sikkim     6410     136     6410      136          0           0           2.12\n",
      "              Andaman and Nicobar Islands     5201      62     5201       62          0           0           1.19\n",
      "                                  Mizoram     4619      12     4619       12          0           0           0.26\n",
      " Dadra and Nagar Haveli and Daman and Diu     4125       2     4125        2          0           0           0.05\n",
      "                              Lakshadweep      813       1      813        1          0           0           0.12\n"
     ]
    }
   ],
   "source": [
    "#hide_input\n",
    "print(df_table.to_string(index=False))"
   ]
  },
  {
   "cell_type": "code",
   "execution_count": null,
   "id": "quantitative-legend",
   "metadata": {
    "papermill": {
     "duration": 0.027984,
     "end_time": "2021-04-13T13:58:08.022916",
     "exception": false,
     "start_time": "2021-04-13T13:58:07.994932",
     "status": "completed"
    },
    "tags": []
   },
   "outputs": [],
   "source": []
  },
  {
   "cell_type": "code",
   "execution_count": null,
   "id": "distant-acoustic",
   "metadata": {
    "papermill": {
     "duration": 0.023129,
     "end_time": "2021-04-13T13:58:08.069196",
     "exception": false,
     "start_time": "2021-04-13T13:58:08.046067",
     "status": "completed"
    },
    "tags": []
   },
   "outputs": [],
   "source": []
  }
 ],
 "metadata": {
  "kernelspec": {
   "display_name": "Python 3",
   "language": "python",
   "name": "python3"
  },
  "language_info": {
   "codemirror_mode": {
    "name": "ipython",
    "version": 3
   },
   "file_extension": ".py",
   "mimetype": "text/x-python",
   "name": "python",
   "nbconvert_exporter": "python",
   "pygments_lexer": "ipython3",
   "version": "3.6.13"
  },
  "papermill": {
   "duration": 22.871706,
   "end_time": "2021-04-13T13:58:08.808971",
   "environment_variables": {},
   "exception": null,
   "input_path": "latest.ipynb",
   "output_path": "latest.ipynb",
   "parameters": {},
   "start_time": "2021-04-13T13:57:45.937265",
   "version": "2.1.2"
  }
 },
 "nbformat": 4,
 "nbformat_minor": 5
}