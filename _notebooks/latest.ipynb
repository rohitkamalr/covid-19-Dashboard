{
 "cells": [
  {
   "cell_type": "markdown",
   "metadata": {
    "papermill": {
     "duration": 0.02139,
     "end_time": "2020-08-13T13:51:37.228085",
     "exception": false,
     "start_time": "2020-08-13T13:51:37.206695",
     "status": "completed"
    },
    "tags": []
   },
   "source": [
    "# Latest COVID-19 India Matplotlib Overview"
   ]
  },
  {
   "cell_type": "code",
   "execution_count": 1,
   "metadata": {
    "execution": {
     "iopub.execute_input": "2020-08-13T13:51:37.269017Z",
     "iopub.status.busy": "2020-08-13T13:51:37.268370Z",
     "iopub.status.idle": "2020-08-13T13:51:37.894487Z",
     "shell.execute_reply": "2020-08-13T13:51:37.893856Z"
    },
    "papermill": {
     "duration": 0.650203,
     "end_time": "2020-08-13T13:51:37.894673",
     "exception": false,
     "start_time": "2020-08-13T13:51:37.244470",
     "status": "completed"
    },
    "tags": []
   },
   "outputs": [],
   "source": [
    "#hide\n",
    "import pandas as pd\n",
    "import numpy as np\n",
    "import requests\n",
    "import json\n",
    "import matplotlib.pyplot as plt\n",
    "import matplotlib.dates as mdates\n",
    "import matplotlib as mpl\n",
    "from IPython.core.display import display,HTML\n",
    "%matplotlib inline\n",
    "from datetime import date"
   ]
  },
  {
   "cell_type": "code",
   "execution_count": 2,
   "metadata": {
    "execution": {
     "iopub.execute_input": "2020-08-13T13:51:37.935574Z",
     "iopub.status.busy": "2020-08-13T13:51:37.934883Z",
     "iopub.status.idle": "2020-08-13T13:51:38.126882Z",
     "shell.execute_reply": "2020-08-13T13:51:38.127706Z"
    },
    "papermill": {
     "duration": 0.216039,
     "end_time": "2020-08-13T13:51:38.127893",
     "exception": false,
     "start_time": "2020-08-13T13:51:37.911854",
     "status": "completed"
    },
    "tags": []
   },
   "outputs": [],
   "source": [
    "#hide\n",
    "df  = pd.read_csv('https://api.covid19india.org/csv/latest/states.csv')\n",
    "df = df[['Date','State','Confirmed','Deceased']]\n",
    "df = df.rename(columns={'Confirmed':'Cases', \"Deceased\":'Deaths'})\n",
    "df_cases = df[[\"Date\",'State','Cases']]\n",
    "df_deaths = df[['Date','State','Deaths']]\n",
    "df_cases1 = df_cases.groupby('Date')\n",
    "df_deaths1= df_deaths.groupby('Date')"
   ]
  },
  {
   "cell_type": "code",
   "execution_count": 3,
   "metadata": {
    "execution": {
     "iopub.execute_input": "2020-08-13T13:51:38.165177Z",
     "iopub.status.busy": "2020-08-13T13:51:38.164579Z",
     "iopub.status.idle": "2020-08-13T13:51:38.186032Z",
     "shell.execute_reply": "2020-08-13T13:51:38.185504Z"
    },
    "papermill": {
     "duration": 0.042382,
     "end_time": "2020-08-13T13:51:38.186177",
     "exception": false,
     "start_time": "2020-08-13T13:51:38.143795",
     "status": "completed"
    },
    "tags": []
   },
   "outputs": [],
   "source": [
    "#hide\n",
    "df_snap = pd.read_csv('data/SnapshotCases-28-July.csv')\n",
    "arr_states = df_snap['states'].unique()\n",
    "arr_dates = df['Date'].unique()\n",
    "df_snap = df_snap.set_index('states')"
   ]
  },
  {
   "cell_type": "code",
   "execution_count": 4,
   "metadata": {
    "execution": {
     "iopub.execute_input": "2020-08-13T13:51:38.226447Z",
     "iopub.status.busy": "2020-08-13T13:51:38.225679Z",
     "iopub.status.idle": "2020-08-13T13:51:38.228220Z",
     "shell.execute_reply": "2020-08-13T13:51:38.228690Z"
    },
    "papermill": {
     "duration": 0.026998,
     "end_time": "2020-08-13T13:51:38.228856",
     "exception": false,
     "start_time": "2020-08-13T13:51:38.201858",
     "status": "completed"
    },
    "tags": []
   },
   "outputs": [
    {
     "data": {
      "text/plain": [
       "array(['Andaman and Nicobar Islands', 'Andhra Pradesh',\n",
       "       'Arunachal Pradesh', 'Assam', 'Bihar', 'Chandigarh',\n",
       "       'Dadra and Nagar Haveli and Daman and Diu', 'Delhi', 'Goa',\n",
       "       'Gujarat', 'Haryana', 'Himachal Pradesh', 'Jammu and Kashmir',\n",
       "       'Jharkhand', 'Karnataka', 'Kerala', 'Lakshadweep',\n",
       "       'Madhya Pradesh', 'Maharashtra', 'Manipur', 'Meghalaya', 'Mizoram',\n",
       "       'Nagaland', 'Odisha', 'Puducherry', 'Punjab', 'Rajasthan',\n",
       "       'Sikkim', 'Tamil Nadu', 'Telangana', 'Tripura', 'Uttar Pradesh',\n",
       "       'West Bengal', 'Chhattisgarh', 'Ladakh', 'Uttarakhand'],\n",
       "      dtype=object)"
      ]
     },
     "execution_count": 4,
     "metadata": {},
     "output_type": "execute_result"
    }
   ],
   "source": [
    "#hide\n",
    "arr_states[-9] = 'Puducherry'\n",
    "arr_states[-10] = 'Odisha'\n",
    "arr_states[6] = 'Dadra and Nagar Haveli and Daman and Diu'\n",
    "arr_states = np.append(arr_states,np.array(['Chhattisgarh','Ladakh','Uttarakhand']))\n",
    "arr_states"
   ]
  },
  {
   "cell_type": "code",
   "execution_count": 5,
   "metadata": {
    "execution": {
     "iopub.execute_input": "2020-08-13T13:51:38.276741Z",
     "iopub.status.busy": "2020-08-13T13:51:38.276070Z",
     "iopub.status.idle": "2020-08-13T13:51:38.284404Z",
     "shell.execute_reply": "2020-08-13T13:51:38.283854Z"
    },
    "papermill": {
     "duration": 0.036487,
     "end_time": "2020-08-13T13:51:38.284539",
     "exception": false,
     "start_time": "2020-08-13T13:51:38.248052",
     "status": "completed"
    },
    "tags": []
   },
   "outputs": [],
   "source": [
    "#hide\n",
    "dates = []\n",
    "for i in arr_dates:\n",
    "    if i>='2020-07-01':\n",
    "        dates.append(i)\n",
    "dict = {'states':dates}\n",
    "for i in arr_states:\n",
    "    dict[i] = [0]*len(dates)\n",
    "dft_cases = pd.DataFrame(dict)\n",
    "dft_deaths = pd.DataFrame(dict)\n"
   ]
  },
  {
   "cell_type": "code",
   "execution_count": 6,
   "metadata": {
    "execution": {
     "iopub.execute_input": "2020-08-13T13:51:38.324887Z",
     "iopub.status.busy": "2020-08-13T13:51:38.324230Z",
     "iopub.status.idle": "2020-08-13T13:51:38.946602Z",
     "shell.execute_reply": "2020-08-13T13:51:38.947095Z"
    },
    "papermill": {
     "duration": 0.646597,
     "end_time": "2020-08-13T13:51:38.947269",
     "exception": false,
     "start_time": "2020-08-13T13:51:38.300672",
     "status": "completed"
    },
    "tags": []
   },
   "outputs": [],
   "source": [
    "#hide\n",
    "for i in range(len(dates)):\n",
    "    df1_deaths = df_deaths1.get_group(dates[i])\n",
    "    for j in range(len(df1_deaths.index)):\n",
    "        if df1_deaths.iloc[j,1] in arr_states:\n",
    "            dft_deaths.loc[i,df1_deaths.iloc[j,1]] = df1_deaths.iloc[j,2]\n",
    "dft_deaths = dft_deaths.set_index('states')"
   ]
  },
  {
   "cell_type": "code",
   "execution_count": 7,
   "metadata": {
    "execution": {
     "iopub.execute_input": "2020-08-13T13:51:38.986539Z",
     "iopub.status.busy": "2020-08-13T13:51:38.985829Z",
     "iopub.status.idle": "2020-08-13T13:51:39.597219Z",
     "shell.execute_reply": "2020-08-13T13:51:39.596480Z"
    },
    "papermill": {
     "duration": 0.634094,
     "end_time": "2020-08-13T13:51:39.597370",
     "exception": false,
     "start_time": "2020-08-13T13:51:38.963276",
     "status": "completed"
    },
    "tags": []
   },
   "outputs": [],
   "source": [
    "#hide\n",
    "for i in range(len(dates)):\n",
    "    df1_cases = df_cases1.get_group(dates[i])\n",
    "    for j in range(len(df1_cases.index)):\n",
    "        if df1_cases.iloc[j,1] in arr_states:\n",
    "            dft_cases.loc[i,df1_cases.iloc[j,1]] = df1_cases.iloc[j,2]\n",
    "dft_cases = dft_cases.set_index('states')"
   ]
  },
  {
   "cell_type": "code",
   "execution_count": 8,
   "metadata": {
    "execution": {
     "iopub.execute_input": "2020-08-13T13:51:39.637110Z",
     "iopub.status.busy": "2020-08-13T13:51:39.636389Z",
     "iopub.status.idle": "2020-08-13T13:51:39.640839Z",
     "shell.execute_reply": "2020-08-13T13:51:39.640307Z"
    },
    "papermill": {
     "duration": 0.026815,
     "end_time": "2020-08-13T13:51:39.640973",
     "exception": false,
     "start_time": "2020-08-13T13:51:39.614158",
     "status": "completed"
    },
    "tags": []
   },
   "outputs": [],
   "source": [
    "#hide\n",
    "dft_cases = dft_cases.T\n",
    "dft_deaths = dft_deaths.T\n",
    "dt_today = dates[-1]\n",
    "dt_yday = dates[-2]"
   ]
  },
  {
   "cell_type": "code",
   "execution_count": 9,
   "metadata": {
    "execution": {
     "iopub.execute_input": "2020-08-13T13:51:39.679095Z",
     "iopub.status.busy": "2020-08-13T13:51:39.678511Z",
     "iopub.status.idle": "2020-08-13T13:51:39.683805Z",
     "shell.execute_reply": "2020-08-13T13:51:39.684381Z"
    },
    "papermill": {
     "duration": 0.027683,
     "end_time": "2020-08-13T13:51:39.684535",
     "exception": false,
     "start_time": "2020-08-13T13:51:39.656852",
     "status": "completed"
    },
    "tags": []
   },
   "outputs": [],
   "source": [
    "#hide\n",
    "dft_cases = dft_cases.reset_index()\n",
    "dft_deaths = dft_deaths.reset_index()\n",
    "dft_cases = dft_cases.rename(columns = {'index':'state'})\n",
    "dft_deaths = dft_deaths.rename(columns = {'index':'state'})"
   ]
  },
  {
   "cell_type": "code",
   "execution_count": 10,
   "metadata": {
    "execution": {
     "iopub.execute_input": "2020-08-13T13:51:39.728627Z",
     "iopub.status.busy": "2020-08-13T13:51:39.724931Z",
     "iopub.status.idle": "2020-08-13T13:51:39.730852Z",
     "shell.execute_reply": "2020-08-13T13:51:39.731654Z"
    },
    "papermill": {
     "duration": 0.031425,
     "end_time": "2020-08-13T13:51:39.731823",
     "exception": false,
     "start_time": "2020-08-13T13:51:39.700398",
     "status": "completed"
    },
    "tags": []
   },
   "outputs": [],
   "source": [
    "#hide\n",
    "dfc_cases = dft_cases.groupby('state')[dt_today].sum()\n",
    "dfc_deaths = dft_deaths.groupby('state')[dt_today].sum()\n",
    "dfp_cases = dft_cases.groupby('state')[dt_yday].sum()\n",
    "dfp_deaths = dft_deaths.groupby('state')[dt_yday].sum()"
   ]
  },
  {
   "cell_type": "code",
   "execution_count": 11,
   "metadata": {
    "execution": {
     "iopub.execute_input": "2020-08-13T13:51:39.773012Z",
     "iopub.status.busy": "2020-08-13T13:51:39.772465Z",
     "iopub.status.idle": "2020-08-13T13:51:39.784823Z",
     "shell.execute_reply": "2020-08-13T13:51:39.785298Z"
    },
    "papermill": {
     "duration": 0.037533,
     "end_time": "2020-08-13T13:51:39.785463",
     "exception": false,
     "start_time": "2020-08-13T13:51:39.747930",
     "status": "completed"
    },
    "tags": []
   },
   "outputs": [
    {
     "data": {
      "text/html": [
       "<div>\n",
       "<style scoped>\n",
       "    .dataframe tbody tr th:only-of-type {\n",
       "        vertical-align: middle;\n",
       "    }\n",
       "\n",
       "    .dataframe tbody tr th {\n",
       "        vertical-align: top;\n",
       "    }\n",
       "\n",
       "    .dataframe thead th {\n",
       "        text-align: right;\n",
       "    }\n",
       "</style>\n",
       "<table border=\"1\" class=\"dataframe\">\n",
       "  <thead>\n",
       "    <tr style=\"text-align: right;\">\n",
       "      <th></th>\n",
       "      <th>states</th>\n",
       "      <th>Cases</th>\n",
       "      <th>Deaths</th>\n",
       "      <th>PCases</th>\n",
       "      <th>PDeaths</th>\n",
       "    </tr>\n",
       "  </thead>\n",
       "  <tbody>\n",
       "    <tr>\n",
       "      <th>0</th>\n",
       "      <td>Maharashtra</td>\n",
       "      <td>548313</td>\n",
       "      <td>18650</td>\n",
       "      <td>548313</td>\n",
       "      <td>18650</td>\n",
       "    </tr>\n",
       "    <tr>\n",
       "      <th>1</th>\n",
       "      <td>Tamil Nadu</td>\n",
       "      <td>320355</td>\n",
       "      <td>5397</td>\n",
       "      <td>314520</td>\n",
       "      <td>5278</td>\n",
       "    </tr>\n",
       "    <tr>\n",
       "      <th>2</th>\n",
       "      <td>Andhra Pradesh</td>\n",
       "      <td>264142</td>\n",
       "      <td>2378</td>\n",
       "      <td>254146</td>\n",
       "      <td>2296</td>\n",
       "    </tr>\n",
       "    <tr>\n",
       "      <th>3</th>\n",
       "      <td>Karnataka</td>\n",
       "      <td>196494</td>\n",
       "      <td>3511</td>\n",
       "      <td>196494</td>\n",
       "      <td>3511</td>\n",
       "    </tr>\n",
       "    <tr>\n",
       "      <th>4</th>\n",
       "      <td>Delhi</td>\n",
       "      <td>149460</td>\n",
       "      <td>4167</td>\n",
       "      <td>148504</td>\n",
       "      <td>4153</td>\n",
       "    </tr>\n",
       "  </tbody>\n",
       "</table>\n",
       "</div>"
      ],
      "text/plain": [
       "           states   Cases  Deaths  PCases  PDeaths\n",
       "0     Maharashtra  548313   18650  548313    18650\n",
       "1      Tamil Nadu  320355    5397  314520     5278\n",
       "2  Andhra Pradesh  264142    2378  254146     2296\n",
       "3       Karnataka  196494    3511  196494     3511\n",
       "4           Delhi  149460    4167  148504     4153"
      ]
     },
     "execution_count": 11,
     "metadata": {},
     "output_type": "execute_result"
    }
   ],
   "source": [
    "#hide\n",
    "df_table = pd.DataFrame({'states': dfc_cases.index, 'Cases': dfc_cases.values, 'Deaths': dfc_deaths.values, 'PCases': dfp_cases.values, 'PDeaths': dfp_deaths.values}).set_index('states')\n",
    "df_table = df_table.sort_values(by = ['Cases','Deaths'], ascending = [False, False])\n",
    "df_table = df_table.reset_index()\n",
    "df_table.head()"
   ]
  },
  {
   "cell_type": "code",
   "execution_count": 12,
   "metadata": {
    "execution": {
     "iopub.execute_input": "2020-08-13T13:51:39.823942Z",
     "iopub.status.busy": "2020-08-13T13:51:39.823295Z",
     "iopub.status.idle": "2020-08-13T13:51:39.832790Z",
     "shell.execute_reply": "2020-08-13T13:51:39.832222Z"
    },
    "papermill": {
     "duration": 0.031313,
     "end_time": "2020-08-13T13:51:39.832929",
     "exception": false,
     "start_time": "2020-08-13T13:51:39.801616",
     "status": "completed"
    },
    "tags": []
   },
   "outputs": [],
   "source": [
    "#hide\n",
    "for c in 'Cases, Deaths'.split(', '):\n",
    "    df_table[f'{c} (+)'] = (df_table[c] - df_table[f'P{c}']).clip(0)\n",
    "df_table['Fatality Rate'] = (100* df_table['Deaths']/ df_table['Cases']).round(2)"
   ]
  },
  {
   "cell_type": "code",
   "execution_count": 13,
   "metadata": {
    "execution": {
     "iopub.execute_input": "2020-08-13T13:51:39.873505Z",
     "iopub.status.busy": "2020-08-13T13:51:39.872966Z",
     "iopub.status.idle": "2020-08-13T13:51:39.879909Z",
     "shell.execute_reply": "2020-08-13T13:51:39.879297Z"
    },
    "papermill": {
     "duration": 0.030616,
     "end_time": "2020-08-13T13:51:39.880038",
     "exception": false,
     "start_time": "2020-08-13T13:51:39.849422",
     "status": "completed"
    },
    "tags": []
   },
   "outputs": [
    {
     "data": {
      "text/html": [
       "<div>\n",
       "<style scoped>\n",
       "    .dataframe tbody tr th:only-of-type {\n",
       "        vertical-align: middle;\n",
       "    }\n",
       "\n",
       "    .dataframe tbody tr th {\n",
       "        vertical-align: top;\n",
       "    }\n",
       "\n",
       "    .dataframe thead th {\n",
       "        text-align: right;\n",
       "    }\n",
       "</style>\n",
       "<table border=\"1\" class=\"dataframe\">\n",
       "  <thead>\n",
       "    <tr style=\"text-align: right;\">\n",
       "      <th></th>\n",
       "      <th>states</th>\n",
       "      <th>Cases</th>\n",
       "      <th>Deaths</th>\n",
       "      <th>PCases</th>\n",
       "      <th>PDeaths</th>\n",
       "      <th>Cases (+)</th>\n",
       "      <th>Deaths (+)</th>\n",
       "      <th>Fatality Rate</th>\n",
       "    </tr>\n",
       "  </thead>\n",
       "  <tbody>\n",
       "    <tr>\n",
       "      <th>0</th>\n",
       "      <td>Maharashtra</td>\n",
       "      <td>548313</td>\n",
       "      <td>18650</td>\n",
       "      <td>548313</td>\n",
       "      <td>18650</td>\n",
       "      <td>0</td>\n",
       "      <td>0</td>\n",
       "      <td>3.40</td>\n",
       "    </tr>\n",
       "    <tr>\n",
       "      <th>1</th>\n",
       "      <td>Tamil Nadu</td>\n",
       "      <td>320355</td>\n",
       "      <td>5397</td>\n",
       "      <td>314520</td>\n",
       "      <td>5278</td>\n",
       "      <td>5835</td>\n",
       "      <td>119</td>\n",
       "      <td>1.68</td>\n",
       "    </tr>\n",
       "    <tr>\n",
       "      <th>2</th>\n",
       "      <td>Andhra Pradesh</td>\n",
       "      <td>264142</td>\n",
       "      <td>2378</td>\n",
       "      <td>254146</td>\n",
       "      <td>2296</td>\n",
       "      <td>9996</td>\n",
       "      <td>82</td>\n",
       "      <td>0.90</td>\n",
       "    </tr>\n",
       "    <tr>\n",
       "      <th>3</th>\n",
       "      <td>Karnataka</td>\n",
       "      <td>196494</td>\n",
       "      <td>3511</td>\n",
       "      <td>196494</td>\n",
       "      <td>3511</td>\n",
       "      <td>0</td>\n",
       "      <td>0</td>\n",
       "      <td>1.79</td>\n",
       "    </tr>\n",
       "    <tr>\n",
       "      <th>4</th>\n",
       "      <td>Delhi</td>\n",
       "      <td>149460</td>\n",
       "      <td>4167</td>\n",
       "      <td>148504</td>\n",
       "      <td>4153</td>\n",
       "      <td>956</td>\n",
       "      <td>14</td>\n",
       "      <td>2.79</td>\n",
       "    </tr>\n",
       "  </tbody>\n",
       "</table>\n",
       "</div>"
      ],
      "text/plain": [
       "           states   Cases  Deaths  PCases  PDeaths  Cases (+)  Deaths (+)  \\\n",
       "0     Maharashtra  548313   18650  548313    18650          0           0   \n",
       "1      Tamil Nadu  320355    5397  314520     5278       5835         119   \n",
       "2  Andhra Pradesh  264142    2378  254146     2296       9996          82   \n",
       "3       Karnataka  196494    3511  196494     3511          0           0   \n",
       "4           Delhi  149460    4167  148504     4153        956          14   \n",
       "\n",
       "   Fatality Rate  \n",
       "0           3.40  \n",
       "1           1.68  \n",
       "2           0.90  \n",
       "3           1.79  \n",
       "4           2.79  "
      ]
     },
     "execution_count": 13,
     "metadata": {},
     "output_type": "execute_result"
    }
   ],
   "source": [
    "#hide\n",
    "df_table.head()"
   ]
  },
  {
   "cell_type": "code",
   "execution_count": 14,
   "metadata": {
    "execution": {
     "iopub.execute_input": "2020-08-13T13:51:39.920774Z",
     "iopub.status.busy": "2020-08-13T13:51:39.920152Z",
     "iopub.status.idle": "2020-08-13T13:51:39.937182Z",
     "shell.execute_reply": "2020-08-13T13:51:39.936645Z"
    },
    "papermill": {
     "duration": 0.041073,
     "end_time": "2020-08-13T13:51:39.937323",
     "exception": false,
     "start_time": "2020-08-13T13:51:39.896250",
     "status": "completed"
    },
    "tags": []
   },
   "outputs": [
    {
     "data": {
      "text/plain": [
       "{'updated': '2020-08-13',\n",
       " 'since': '2020-08-12',\n",
       " 'Cases': 2427066,\n",
       " 'PCases': 2395471,\n",
       " 'Deaths': 47472,\n",
       " 'PDeaths': 47138,\n",
       " 'Cases (+)': 31595,\n",
       " 'Deaths (+)': 334}"
      ]
     },
     "execution_count": 14,
     "metadata": {},
     "output_type": "execute_result"
    }
   ],
   "source": [
    "#hide\n",
    "summary = {'updated':dates[-1], 'since':dates[-2]}\n",
    "list_names = ['Cases', 'PCases', 'Deaths', 'PDeaths', 'Cases (+)', 'Deaths (+)']\n",
    "for name in list_names:\n",
    "    summary[name] = df_table.sum()[name]\n",
    "summary"
   ]
  },
  {
   "cell_type": "code",
   "execution_count": 15,
   "metadata": {
    "execution": {
     "iopub.execute_input": "2020-08-13T13:51:39.976563Z",
     "iopub.status.busy": "2020-08-13T13:51:39.975974Z",
     "iopub.status.idle": "2020-08-13T13:51:39.978207Z",
     "shell.execute_reply": "2020-08-13T13:51:39.977714Z"
    },
    "papermill": {
     "duration": 0.023624,
     "end_time": "2020-08-13T13:51:39.978332",
     "exception": false,
     "start_time": "2020-08-13T13:51:39.954708",
     "status": "completed"
    },
    "tags": []
   },
   "outputs": [],
   "source": [
    "#hide\n",
    "overview = '''\n",
    "<!-- #######  HTML!! #########-->\n",
    "<h1 style=\"color: #5e9ca0; text-align: center;\">India</h1>\n",
    "<p style=\"text-align: center;\">Last update: <strong>{update}</strong></p>\n",
    "<p style=\"text-align: center;\">Confirmed cases:</p>\n",
    "<p style=\"text-align: center;font-size:24px;\">{cases} (<span style=\"color: #ff0000;\">+{new}</span>)</p>\n",
    "<p style=\"text-align: center;\">Confirmed deaths:</p>\n",
    "<p style=\"text-align: center;font-size:24px;\">{deaths} (<span style=\"color: #ff0000;\">+{dnew}</span>)</p>\n",
    "'''"
   ]
  },
  {
   "cell_type": "code",
   "execution_count": 16,
   "metadata": {
    "execution": {
     "iopub.execute_input": "2020-08-13T13:51:40.018109Z",
     "iopub.status.busy": "2020-08-13T13:51:40.017508Z",
     "iopub.status.idle": "2020-08-13T13:51:40.020623Z",
     "shell.execute_reply": "2020-08-13T13:51:40.020138Z"
    },
    "papermill": {
     "duration": 0.026419,
     "end_time": "2020-08-13T13:51:40.020753",
     "exception": false,
     "start_time": "2020-08-13T13:51:39.994334",
     "status": "completed"
    },
    "tags": []
   },
   "outputs": [
    {
     "data": {
      "text/html": [
       "\n",
       "<!-- #######  HTML!! #########-->\n",
       "<h1 style=\"color: #5e9ca0; text-align: center;\">India</h1>\n",
       "<p style=\"text-align: center;\">Last update: <strong>2020-08-13</strong></p>\n",
       "<p style=\"text-align: center;\">Confirmed cases:</p>\n",
       "<p style=\"text-align: center;font-size:24px;\">2427066 (<span style=\"color: #ff0000;\">+31595</span>)</p>\n",
       "<p style=\"text-align: center;\">Confirmed deaths:</p>\n",
       "<p style=\"text-align: center;font-size:24px;\">47472 (<span style=\"color: #ff0000;\">+334</span>)</p>\n"
      ],
      "text/plain": [
       "<IPython.core.display.HTML object>"
      ]
     },
     "metadata": {},
     "output_type": "display_data"
    }
   ],
   "source": [
    "#hide_input\n",
    "update = summary['updated']\n",
    "cases = summary['Cases']\n",
    "new = summary['Cases (+)']\n",
    "deaths = summary['Deaths']\n",
    "dnew = summary['Deaths (+)']\n",
    "\n",
    "html = HTML(overview.format(update=update, cases=cases,new=new,deaths=deaths,dnew=dnew))\n",
    "\n",
    "display(html)"
   ]
  },
  {
   "cell_type": "code",
   "execution_count": 17,
   "metadata": {
    "execution": {
     "iopub.execute_input": "2020-08-13T13:51:40.064806Z",
     "iopub.status.busy": "2020-08-13T13:51:40.064080Z",
     "iopub.status.idle": "2020-08-13T13:51:40.068899Z",
     "shell.execute_reply": "2020-08-13T13:51:40.068414Z"
    },
    "papermill": {
     "duration": 0.031048,
     "end_time": "2020-08-13T13:51:40.069036",
     "exception": false,
     "start_time": "2020-08-13T13:51:40.037988",
     "status": "completed"
    },
    "tags": []
   },
   "outputs": [],
   "source": [
    "#hide\n",
    "dt_cols = list(dft_cases.columns[1:])\n",
    "dft_ct_new_cases = dft_cases.groupby('state')[dt_cols].sum().diff(axis=1).fillna(0).astype(int)\n",
    "dft_ct_new_cases.sort_values(by = dates[-1], ascending = False,inplace = True)"
   ]
  },
  {
   "cell_type": "code",
   "execution_count": 18,
   "metadata": {
    "execution": {
     "iopub.execute_input": "2020-08-13T13:51:40.125538Z",
     "iopub.status.busy": "2020-08-13T13:51:40.124886Z",
     "iopub.status.idle": "2020-08-13T13:51:40.127697Z",
     "shell.execute_reply": "2020-08-13T13:51:40.128211Z"
    },
    "papermill": {
     "duration": 0.040538,
     "end_time": "2020-08-13T13:51:40.128372",
     "exception": false,
     "start_time": "2020-08-13T13:51:40.087834",
     "status": "completed"
    },
    "tags": []
   },
   "outputs": [
    {
     "data": {
      "text/html": [
       "<div>\n",
       "<style scoped>\n",
       "    .dataframe tbody tr th:only-of-type {\n",
       "        vertical-align: middle;\n",
       "    }\n",
       "\n",
       "    .dataframe tbody tr th {\n",
       "        vertical-align: top;\n",
       "    }\n",
       "\n",
       "    .dataframe thead th {\n",
       "        text-align: right;\n",
       "    }\n",
       "</style>\n",
       "<table border=\"1\" class=\"dataframe\">\n",
       "  <thead>\n",
       "    <tr style=\"text-align: right;\">\n",
       "      <th>states</th>\n",
       "      <th>2020-07-01</th>\n",
       "      <th>2020-07-02</th>\n",
       "      <th>2020-07-03</th>\n",
       "      <th>2020-07-04</th>\n",
       "      <th>2020-07-05</th>\n",
       "      <th>2020-07-06</th>\n",
       "      <th>2020-07-07</th>\n",
       "      <th>2020-07-08</th>\n",
       "      <th>2020-07-09</th>\n",
       "      <th>2020-07-10</th>\n",
       "      <th>...</th>\n",
       "      <th>2020-08-04</th>\n",
       "      <th>2020-08-05</th>\n",
       "      <th>2020-08-06</th>\n",
       "      <th>2020-08-07</th>\n",
       "      <th>2020-08-08</th>\n",
       "      <th>2020-08-09</th>\n",
       "      <th>2020-08-10</th>\n",
       "      <th>2020-08-11</th>\n",
       "      <th>2020-08-12</th>\n",
       "      <th>2020-08-13</th>\n",
       "    </tr>\n",
       "    <tr>\n",
       "      <th>state</th>\n",
       "      <th></th>\n",
       "      <th></th>\n",
       "      <th></th>\n",
       "      <th></th>\n",
       "      <th></th>\n",
       "      <th></th>\n",
       "      <th></th>\n",
       "      <th></th>\n",
       "      <th></th>\n",
       "      <th></th>\n",
       "      <th></th>\n",
       "      <th></th>\n",
       "      <th></th>\n",
       "      <th></th>\n",
       "      <th></th>\n",
       "      <th></th>\n",
       "      <th></th>\n",
       "      <th></th>\n",
       "      <th></th>\n",
       "      <th></th>\n",
       "      <th></th>\n",
       "    </tr>\n",
       "  </thead>\n",
       "  <tbody>\n",
       "    <tr>\n",
       "      <th>Andhra Pradesh</th>\n",
       "      <td>0</td>\n",
       "      <td>845</td>\n",
       "      <td>837</td>\n",
       "      <td>765</td>\n",
       "      <td>998</td>\n",
       "      <td>1322</td>\n",
       "      <td>1178</td>\n",
       "      <td>1062</td>\n",
       "      <td>1555</td>\n",
       "      <td>1608</td>\n",
       "      <td>...</td>\n",
       "      <td>9747</td>\n",
       "      <td>10128</td>\n",
       "      <td>10328</td>\n",
       "      <td>10171</td>\n",
       "      <td>10080</td>\n",
       "      <td>10820</td>\n",
       "      <td>7665</td>\n",
       "      <td>9024</td>\n",
       "      <td>9597</td>\n",
       "      <td>9996</td>\n",
       "    </tr>\n",
       "    <tr>\n",
       "      <th>Tamil Nadu</th>\n",
       "      <td>0</td>\n",
       "      <td>4343</td>\n",
       "      <td>4329</td>\n",
       "      <td>4280</td>\n",
       "      <td>4150</td>\n",
       "      <td>3827</td>\n",
       "      <td>3616</td>\n",
       "      <td>3756</td>\n",
       "      <td>4231</td>\n",
       "      <td>3680</td>\n",
       "      <td>...</td>\n",
       "      <td>5063</td>\n",
       "      <td>5175</td>\n",
       "      <td>5684</td>\n",
       "      <td>5880</td>\n",
       "      <td>5883</td>\n",
       "      <td>5994</td>\n",
       "      <td>5914</td>\n",
       "      <td>5834</td>\n",
       "      <td>5871</td>\n",
       "      <td>5835</td>\n",
       "    </tr>\n",
       "    <tr>\n",
       "      <th>Uttar Pradesh</th>\n",
       "      <td>0</td>\n",
       "      <td>769</td>\n",
       "      <td>972</td>\n",
       "      <td>757</td>\n",
       "      <td>1153</td>\n",
       "      <td>929</td>\n",
       "      <td>1332</td>\n",
       "      <td>1188</td>\n",
       "      <td>1206</td>\n",
       "      <td>1338</td>\n",
       "      <td>...</td>\n",
       "      <td>2948</td>\n",
       "      <td>4078</td>\n",
       "      <td>4586</td>\n",
       "      <td>4404</td>\n",
       "      <td>4660</td>\n",
       "      <td>4571</td>\n",
       "      <td>4113</td>\n",
       "      <td>5041</td>\n",
       "      <td>4475</td>\n",
       "      <td>4537</td>\n",
       "    </tr>\n",
       "    <tr>\n",
       "      <th>Bihar</th>\n",
       "      <td>0</td>\n",
       "      <td>478</td>\n",
       "      <td>426</td>\n",
       "      <td>349</td>\n",
       "      <td>403</td>\n",
       "      <td>280</td>\n",
       "      <td>385</td>\n",
       "      <td>749</td>\n",
       "      <td>704</td>\n",
       "      <td>352</td>\n",
       "      <td>...</td>\n",
       "      <td>2464</td>\n",
       "      <td>2701</td>\n",
       "      <td>3416</td>\n",
       "      <td>3646</td>\n",
       "      <td>3992</td>\n",
       "      <td>3934</td>\n",
       "      <td>3021</td>\n",
       "      <td>4071</td>\n",
       "      <td>3741</td>\n",
       "      <td>3906</td>\n",
       "    </tr>\n",
       "    <tr>\n",
       "      <th>Odisha</th>\n",
       "      <td>0</td>\n",
       "      <td>229</td>\n",
       "      <td>561</td>\n",
       "      <td>495</td>\n",
       "      <td>469</td>\n",
       "      <td>456</td>\n",
       "      <td>571</td>\n",
       "      <td>527</td>\n",
       "      <td>577</td>\n",
       "      <td>755</td>\n",
       "      <td>...</td>\n",
       "      <td>1384</td>\n",
       "      <td>1337</td>\n",
       "      <td>1699</td>\n",
       "      <td>1833</td>\n",
       "      <td>1643</td>\n",
       "      <td>1734</td>\n",
       "      <td>1528</td>\n",
       "      <td>1341</td>\n",
       "      <td>1876</td>\n",
       "      <td>1981</td>\n",
       "    </tr>\n",
       "  </tbody>\n",
       "</table>\n",
       "<p>5 rows × 44 columns</p>\n",
       "</div>"
      ],
      "text/plain": [
       "states          2020-07-01  2020-07-02  2020-07-03  2020-07-04  2020-07-05  \\\n",
       "state                                                                        \n",
       "Andhra Pradesh           0         845         837         765         998   \n",
       "Tamil Nadu               0        4343        4329        4280        4150   \n",
       "Uttar Pradesh            0         769         972         757        1153   \n",
       "Bihar                    0         478         426         349         403   \n",
       "Odisha                   0         229         561         495         469   \n",
       "\n",
       "states          2020-07-06  2020-07-07  2020-07-08  2020-07-09  2020-07-10  \\\n",
       "state                                                                        \n",
       "Andhra Pradesh        1322        1178        1062        1555        1608   \n",
       "Tamil Nadu            3827        3616        3756        4231        3680   \n",
       "Uttar Pradesh          929        1332        1188        1206        1338   \n",
       "Bihar                  280         385         749         704         352   \n",
       "Odisha                 456         571         527         577         755   \n",
       "\n",
       "states          ...  2020-08-04  2020-08-05  2020-08-06  2020-08-07  \\\n",
       "state           ...                                                   \n",
       "Andhra Pradesh  ...        9747       10128       10328       10171   \n",
       "Tamil Nadu      ...        5063        5175        5684        5880   \n",
       "Uttar Pradesh   ...        2948        4078        4586        4404   \n",
       "Bihar           ...        2464        2701        3416        3646   \n",
       "Odisha          ...        1384        1337        1699        1833   \n",
       "\n",
       "states          2020-08-08  2020-08-09  2020-08-10  2020-08-11  2020-08-12  \\\n",
       "state                                                                        \n",
       "Andhra Pradesh       10080       10820        7665        9024        9597   \n",
       "Tamil Nadu            5883        5994        5914        5834        5871   \n",
       "Uttar Pradesh         4660        4571        4113        5041        4475   \n",
       "Bihar                 3992        3934        3021        4071        3741   \n",
       "Odisha                1643        1734        1528        1341        1876   \n",
       "\n",
       "states          2020-08-13  \n",
       "state                       \n",
       "Andhra Pradesh        9996  \n",
       "Tamil Nadu            5835  \n",
       "Uttar Pradesh         4537  \n",
       "Bihar                 3906  \n",
       "Odisha                1981  \n",
       "\n",
       "[5 rows x 44 columns]"
      ]
     },
     "execution_count": 18,
     "metadata": {},
     "output_type": "execute_result"
    }
   ],
   "source": [
    "#hide\n",
    "dft_ct_new_cases.head()"
   ]
  },
  {
   "cell_type": "code",
   "execution_count": 19,
   "metadata": {
    "execution": {
     "iopub.execute_input": "2020-08-13T13:51:40.184974Z",
     "iopub.status.busy": "2020-08-13T13:51:40.173273Z",
     "iopub.status.idle": "2020-08-13T13:51:43.407298Z",
     "shell.execute_reply": "2020-08-13T13:51:43.407819Z"
    },
    "papermill": {
     "duration": 3.261275,
     "end_time": "2020-08-13T13:51:43.407992",
     "exception": false,
     "start_time": "2020-08-13T13:51:40.146717",
     "status": "completed"
    },
    "tags": []
   },
   "outputs": [
    {
     "data": {
      "image/png": "[encoded data removed]",
      "text/plain": [
       "<Figure size 1296x2016 with 11 Axes>"
      ]
     },
     "metadata": {
      "needs_background": "light"
     },
     "output_type": "display_data"
    }
   ],
   "source": [
    "#hide_input\n",
    "df = dft_ct_new_cases.copy()\n",
    "df.loc['Total'] = df.sum()\n",
    "n = 5\n",
    "ax = []\n",
    "fig = plt.figure(figsize = (18,28))\n",
    "gs = fig.add_gridspec(n+2, 5)\n",
    "# gs = fig.add_gridspec(2, 3)\n",
    "ax1 = fig.add_subplot(gs[0, :])\n",
    "ef = df.loc['Total'].rename_axis('date').reset_index()\n",
    "ef['date'] = ef['date'].astype('datetime64[ns]')\n",
    "ax1.bar(ef.date,ef.Total,alpha=0.3,color='#007acc')\n",
    "ax1.plot(ef.date,ef.Total , marker=\"o\", color='#007acc')\n",
    "ax1.xaxis.set_major_locator(mdates.WeekdayLocator())\n",
    "ax1.xaxis.set_major_formatter(mdates.DateFormatter('%b %d'))\n",
    "ax1.text(0.02, 0.5,'India daily case count', transform = ax1.transAxes, fontsize=25);\n",
    "ax1.spines['right'].set_visible(False)\n",
    "ax1.spines['top'].set_visible(False)\n",
    "\n",
    "ax2 = fig.add_subplot(gs[1,0])\n",
    "ef = df.loc['Maharashtra'].rename_axis('date').reset_index()\n",
    "ef['date'] = ef['date'].astype('datetime64[ns]')\n",
    "\n",
    "ax2.bar(ef.date, ef.Maharashtra,color = '#007acc',alpha=0.5)\n",
    "ax2.xaxis.set_major_locator(mdates.WeekdayLocator())\n",
    "ax2.xaxis.set_major_formatter(mdates.DateFormatter('%b %d'))\n",
    "ax2.set_xticks(ax2.get_xticks()[::3])\n",
    "maxyval = ef.Maharashtra.max()\n",
    "ax2.set_ylim([0,maxyval])\n",
    "ax2.text(0.05, 0.9,'Maharashtra', transform = ax2.transAxes, fontsize=20);\n",
    "ax2.spines['right'].set_visible(False)\n",
    "ax2.spines['top'].set_visible(False)\n",
    "\n",
    "\n",
    "ax3 = fig.add_subplot(gs[1,1])\n",
    "ef = df.loc['Tamil Nadu'].rename_axis('date').reset_index()\n",
    "ef['date'] = ef['date'].astype('datetime64[ns]')\n",
    "ax3.bar(ef.date, ef['Tamil Nadu'],color = '#007acc',alpha=0.5,)\n",
    "ax3.xaxis.set_major_locator(mdates.WeekdayLocator())\n",
    "ax3.xaxis.set_major_formatter(mdates.DateFormatter('%b %d'))\n",
    "ax3.set_xticks(ax3.get_xticks()[::3])\n",
    "ax3.text(0.05, 0.9,'Tamil Nadu', transform = ax3.transAxes, fontsize=20);\n",
    "ax3.spines['right'].set_visible(False)\n",
    "ax3.spines['top'].set_visible(False)\n",
    "\n",
    "ax5 = fig.add_subplot(gs[1,3])\n",
    "ef = df.loc['Telangana'].rename_axis('date').reset_index()\n",
    "ef['date'] = ef['date'].astype('datetime64[ns]')\n",
    "ax5.bar(ef.date, ef['Telangana'],color = '#007acc',alpha=0.5,)\n",
    "ax5.xaxis.set_major_locator(mdates.WeekdayLocator())\n",
    "ax5.xaxis.set_major_formatter(mdates.DateFormatter('%b %d'))\n",
    "ax5.set_xticks(ax5.get_xticks()[::3])\n",
    "ax5.text(0.05, 0.9,'Telangana', transform = ax5.transAxes, fontsize=20);\n",
    "ax5.spines['right'].set_visible(False)\n",
    "ax5.spines['top'].set_visible(False)\n",
    "\n",
    "ax6 = fig.add_subplot(gs[1,4])\n",
    "ef = df.loc['Andhra Pradesh'].rename_axis('date').reset_index()\n",
    "ef['date'] = ef['date'].astype('datetime64[ns]')\n",
    "ax6.bar(ef.date, ef['Andhra Pradesh'],color = '#007acc',alpha=0.5,)\n",
    "ax6.xaxis.set_major_locator(mdates.WeekdayLocator())\n",
    "ax6.xaxis.set_major_formatter(mdates.DateFormatter('%b %d'))\n",
    "ax6.set_xticks(ax6.get_xticks()[::3])\n",
    "ax6.text(0.05, 1,'Andhra Pradesh', transform = ax6.transAxes, fontsize=20);\n",
    "ax6.spines['right'].set_visible(False)\n",
    "ax6.spines['top'].set_visible(False)\n",
    "\n",
    "ax4 = fig.add_subplot(gs[1,2])\n",
    "ef = df.loc['Delhi'].rename_axis('date').reset_index()\n",
    "ef['date'] = ef['date'].astype('datetime64[ns]')\n",
    "ax4.bar(ef.date, ef.Delhi,color = '#007acc',alpha=0.5)\n",
    "ax4.set_xticks([])\n",
    "ax4.xaxis.set_major_locator(mdates.WeekdayLocator())\n",
    "ax4.xaxis.set_major_formatter(mdates.DateFormatter('%b %d'))\n",
    "ax4.set_xticks(ax4.get_xticks()[::3])\n",
    "ax4.spines['right'].set_visible(False)\n",
    "ax4.spines['top'].set_visible(False)\n",
    "\n",
    "ax4.text(0.05, 1,'Delhi', transform = ax4.transAxes, fontsize=20)\n",
    "\n",
    "for i in range(n):\n",
    "    \n",
    "    ax.append(fig.add_subplot(gs[i+2,:]))\n",
    "    ef = df.iloc[i+3].rename_axis('date').reset_index()\n",
    "    ef['date'] = ef['date'].astype('datetime64[ns]')\n",
    "    ax[i].bar(ef.date,ef.iloc[:,-1],color = '#007acc',alpha=0.3)\n",
    "    ax[i].plot(ef.date,ef.iloc[:,-1],marker='o',color='#007acc')\n",
    "    ax[i].text(0.02,0.5,f'{ef.columns.values[-1]}',transform = ax[i].transAxes, fontsize = 20);\n",
    "    ax[i].xaxis.set_major_locator(mdates.WeekdayLocator())\n",
    "    ax[i].xaxis.set_major_formatter(mdates.DateFormatter('%b %d'))\n",
    "    ax[i].set_ylim([0,7000])\n",
    "    ax[i].spines['right'].set_visible(False)\n",
    "    ax[i].spines['top'].set_visible(False)\n",
    "plt.tight_layout()\n"
   ]
  },
  {
   "cell_type": "code",
   "execution_count": 20,
   "metadata": {
    "execution": {
     "iopub.execute_input": "2020-08-13T13:51:43.464758Z",
     "iopub.status.busy": "2020-08-13T13:51:43.464097Z",
     "iopub.status.idle": "2020-08-13T13:51:43.466148Z",
     "shell.execute_reply": "2020-08-13T13:51:43.466702Z"
    },
    "papermill": {
     "duration": 0.035486,
     "end_time": "2020-08-13T13:51:43.466850",
     "exception": false,
     "start_time": "2020-08-13T13:51:43.431364",
     "status": "completed"
    },
    "tags": []
   },
   "outputs": [
    {
     "name": "stdout",
     "output_type": "stream",
     "text": [
      "                                   states   Cases  Deaths  PCases  PDeaths  Cases (+)  Deaths (+)  Fatality Rate\n",
      "                              Maharashtra  548313   18650  548313    18650          0           0           3.40\n",
      "                               Tamil Nadu  320355    5397  314520     5278       5835         119           1.68\n",
      "                           Andhra Pradesh  264142    2378  254146     2296       9996          82           0.90\n",
      "                                Karnataka  196494    3511  196494     3511          0           0           1.79\n",
      "                                    Delhi  149460    4167  148504     4153        956          14           2.79\n",
      "                            Uttar Pradesh  140775    2280  136238     2230       4537          50           1.62\n",
      "                              West Bengal  104326    2203  104326     2203          0           0           2.11\n",
      "                                    Bihar   94459     484   90553      474       3906          10           0.51\n",
      "                                Telangana   86475     665   84544      654       1931          11           0.77\n",
      "                                  Gujarat   74390    2713   74390     2713          0           0           3.65\n",
      "                                    Assam   69000     161   69000      161          0           0           0.23\n",
      "                                Rajasthan   56708     833   56100      822        608          11           1.47\n",
      "                                   Odisha   52653     367   50672      358       1981           9           0.70\n",
      "                                  Haryana   44024     503   44024      503          0           0           1.14\n",
      "                           Madhya Pradesh   42618    1065   41604     1048       1014          17           2.50\n",
      "                                   Kerala   38144     127   38144      127          0           0           0.33\n",
      "                                   Punjab   26909     675   26909      675          0           0           2.51\n",
      "                        Jammu and Kashmir   26413     498   26413      498          0           0           1.89\n",
      "                                Jharkhand   20321     204   20257      202         64           2           1.00\n",
      "                             Chhattisgarh   13552     109   13552      109          0           0           0.80\n",
      "                              Uttarakhand   10886     140   10886      140          0           0           1.29\n",
      "                                      Goa    9924      89    9924       89          0           0           0.90\n",
      "                               Puducherry    6680     102    6381       96        299           6           1.53\n",
      "                                  Tripura    6618      44    6497       43        121           1           0.66\n",
      "                                  Manipur    4112      13    3982       12        130           1           0.32\n",
      "                         Himachal Pradesh    3744      18    3636       17        108           1           0.48\n",
      "                                 Nagaland    3168       7    3118        7         50           0           0.22\n",
      "                        Arunachal Pradesh    2430       3    2430        3          0           0           0.12\n",
      "              Andaman and Nicobar Islands    1900      21    1900       21          0           0           1.11\n",
      "                                   Ladakh    1811       9    1811        9          0           0           0.50\n",
      "                               Chandigarh    1751      27    1751       27          0           0           1.54\n",
      " Dadra and Nagar Haveli and Daman and Diu    1741       2    1695        2         46           0           0.11\n",
      "                                Meghalaya    1191       6    1179        6         12           0           0.50\n",
      "                                   Sikkim     930       1     930        1          0           0           0.11\n",
      "                                  Mizoram     649       0     648        0          1           0           0.00\n",
      "                              Lakshadweep       0       0       0        0          0           0            NaN\n"
     ]
    }
   ],
   "source": [
    "#hide_input\n",
    "print(df_table.to_string(index=False))"
   ]
  },
  {
   "cell_type": "code",
   "execution_count": null,
   "metadata": {
    "papermill": {
     "duration": 0.023658,
     "end_time": "2020-08-13T13:51:43.513650",
     "exception": false,
     "start_time": "2020-08-13T13:51:43.489992",
     "status": "completed"
    },
    "tags": []
   },
   "outputs": [],
   "source": []
  },
  {
   "cell_type": "code",
   "execution_count": null,
   "metadata": {
    "papermill": {
     "duration": 0.023903,
     "end_time": "2020-08-13T13:51:43.561338",
     "exception": false,
     "start_time": "2020-08-13T13:51:43.537435",
     "status": "completed"
    },
    "tags": []
   },
   "outputs": [],
   "source": []
  }
 ],
 "metadata": {
  "kernelspec": {
   "display_name": "Python 3",
   "language": "python",
   "name": "python3"
  },
  "language_info": {
   "codemirror_mode": {
    "name": "ipython",
    "version": 3
   },
   "file_extension": ".py",
   "mimetype": "text/x-python",
   "name": "python",
   "nbconvert_exporter": "python",
   "pygments_lexer": "ipython3",
   "version": "3.6.11"
  },
  "papermill": {
   "duration": 7.974131,
   "end_time": "2020-08-13T13:51:44.093384",
   "environment_variables": {},
   "exception": null,
   "input_path": "latest.ipynb",
   "output_path": "latest.ipynb",
   "parameters": {},
   "start_time": "2020-08-13T13:51:36.119253",
   "version": "2.1.2"
  }
 },
 "nbformat": 4,
 "nbformat_minor": 4
}