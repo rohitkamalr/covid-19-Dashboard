{
 "cells": [
  {
   "cell_type": "markdown",
   "id": "colored-stack",
   "metadata": {
    "papermill": {
     "duration": 0.025438,
     "end_time": "2021-03-05T13:04:41.486800",
     "exception": false,
     "start_time": "2021-03-05T13:04:41.461362",
     "status": "completed"
    },
    "tags": []
   },
   "source": [
    "# Latest COVID-19 India Matplotlib Overview"
   ]
  },
  {
   "cell_type": "code",
   "execution_count": 1,
   "id": "light-proportion",
   "metadata": {
    "execution": {
     "iopub.execute_input": "2021-03-05T13:04:41.531473Z",
     "iopub.status.busy": "2021-03-05T13:04:41.530876Z",
     "iopub.status.idle": "2021-03-05T13:04:42.030941Z",
     "shell.execute_reply": "2021-03-05T13:04:42.030468Z"
    },
    "papermill": {
     "duration": 0.52725,
     "end_time": "2021-03-05T13:04:42.031077",
     "exception": false,
     "start_time": "2021-03-05T13:04:41.503827",
     "status": "completed"
    },
    "tags": []
   },
   "outputs": [],
   "source": [
    "#hide\n",
    "import pandas as pd\n",
    "import numpy as np\n",
    "import requests\n",
    "import json\n",
    "import matplotlib.pyplot as plt\n",
    "import matplotlib.dates as mdates\n",
    "import matplotlib as mpl\n",
    "from IPython.core.display import display,HTML\n",
    "%matplotlib inline\n",
    "from datetime import date"
   ]
  },
  {
   "cell_type": "code",
   "execution_count": 2,
   "id": "greenhouse-shooting",
   "metadata": {
    "execution": {
     "iopub.execute_input": "2021-03-05T13:04:42.069830Z",
     "iopub.status.busy": "2021-03-05T13:04:42.068994Z",
     "iopub.status.idle": "2021-03-05T13:04:42.284098Z",
     "shell.execute_reply": "2021-03-05T13:04:42.284514Z"
    },
    "papermill": {
     "duration": 0.237658,
     "end_time": "2021-03-05T13:04:42.284656",
     "exception": false,
     "start_time": "2021-03-05T13:04:42.046998",
     "status": "completed"
    },
    "tags": []
   },
   "outputs": [],
   "source": [
    "#hide\n",
    "df  = pd.read_csv('https://api.covid19india.org/csv/latest/states.csv')\n",
    "df = df[['Date','State','Confirmed','Deceased']]\n",
    "df = df.rename(columns={'Confirmed':'Cases', \"Deceased\":'Deaths'})\n",
    "df_cases = df[[\"Date\",'State','Cases']]\n",
    "df_deaths = df[['Date','State','Deaths']]\n",
    "df_cases1 = df_cases.groupby('Date')\n",
    "df_deaths1= df_deaths.groupby('Date')"
   ]
  },
  {
   "cell_type": "code",
   "execution_count": 3,
   "id": "hybrid-cathedral",
   "metadata": {
    "execution": {
     "iopub.execute_input": "2021-03-05T13:04:42.326034Z",
     "iopub.status.busy": "2021-03-05T13:04:42.325468Z",
     "iopub.status.idle": "2021-03-05T13:04:42.341861Z",
     "shell.execute_reply": "2021-03-05T13:04:42.342541Z"
    },
    "papermill": {
     "duration": 0.03959,
     "end_time": "2021-03-05T13:04:42.342719",
     "exception": false,
     "start_time": "2021-03-05T13:04:42.303129",
     "status": "completed"
    },
    "tags": []
   },
   "outputs": [],
   "source": [
    "#hide\n",
    "df_snap = pd.read_csv('data/SnapshotCases-28-July.csv')\n",
    "arr_states = df_snap['states'].unique()\n",
    "arr_dates = df['Date'].unique()\n",
    "df_snap = df_snap.set_index('states')"
   ]
  },
  {
   "cell_type": "code",
   "execution_count": 4,
   "id": "interior-belfast",
   "metadata": {
    "execution": {
     "iopub.execute_input": "2021-03-05T13:04:42.380095Z",
     "iopub.status.busy": "2021-03-05T13:04:42.379404Z",
     "iopub.status.idle": "2021-03-05T13:04:42.382516Z",
     "shell.execute_reply": "2021-03-05T13:04:42.382085Z"
    },
    "papermill": {
     "duration": 0.025194,
     "end_time": "2021-03-05T13:04:42.382611",
     "exception": false,
     "start_time": "2021-03-05T13:04:42.357417",
     "status": "completed"
    },
    "tags": []
   },
   "outputs": [
    {
     "data": {
      "text/plain": [
       "array(['Andaman and Nicobar Islands', 'Andhra Pradesh',\n",
       "       'Arunachal Pradesh', 'Assam', 'Bihar', 'Chandigarh',\n",
       "       'Dadra and Nagar Haveli and Daman and Diu', 'Delhi', 'Goa',\n",
       "       'Gujarat', 'Haryana', 'Himachal Pradesh', 'Jammu and Kashmir',\n",
       "       'Jharkhand', 'Karnataka', 'Kerala', 'Lakshadweep',\n",
       "       'Madhya Pradesh', 'Maharashtra', 'Manipur', 'Meghalaya', 'Mizoram',\n",
       "       'Nagaland', 'Odisha', 'Puducherry', 'Punjab', 'Rajasthan',\n",
       "       'Sikkim', 'Tamil Nadu', 'Telangana', 'Tripura', 'Uttar Pradesh',\n",
       "       'West Bengal', 'Chhattisgarh', 'Ladakh', 'Uttarakhand'],\n",
       "      dtype=object)"
      ]
     },
     "execution_count": 4,
     "metadata": {},
     "output_type": "execute_result"
    }
   ],
   "source": [
    "#hide\n",
    "arr_states[-9] = 'Puducherry'\n",
    "arr_states[-10] = 'Odisha'\n",
    "arr_states[6] = 'Dadra and Nagar Haveli and Daman and Diu'\n",
    "arr_states = np.append(arr_states,np.array(['Chhattisgarh','Ladakh','Uttarakhand']))\n",
    "arr_states"
   ]
  },
  {
   "cell_type": "code",
   "execution_count": 5,
   "id": "behind-manner",
   "metadata": {
    "execution": {
     "iopub.execute_input": "2021-03-05T13:04:42.423222Z",
     "iopub.status.busy": "2021-03-05T13:04:42.422685Z",
     "iopub.status.idle": "2021-03-05T13:04:42.430262Z",
     "shell.execute_reply": "2021-03-05T13:04:42.430736Z"
    },
    "papermill": {
     "duration": 0.032597,
     "end_time": "2021-03-05T13:04:42.430844",
     "exception": false,
     "start_time": "2021-03-05T13:04:42.398247",
     "status": "completed"
    },
    "tags": []
   },
   "outputs": [],
   "source": [
    "#hide\n",
    "dates = []\n",
    "for i in arr_dates:\n",
    "    if i>='2020-07-01':\n",
    "        dates.append(i)\n",
    "dict = {'states':dates}\n",
    "for i in arr_states:\n",
    "    dict[i] = [0]*len(dates)\n",
    "dft_cases = pd.DataFrame(dict)\n",
    "dft_deaths = pd.DataFrame(dict)\n"
   ]
  },
  {
   "cell_type": "code",
   "execution_count": 6,
   "id": "simplified-peter",
   "metadata": {
    "execution": {
     "iopub.execute_input": "2021-03-05T13:04:42.466359Z",
     "iopub.status.busy": "2021-03-05T13:04:42.465823Z",
     "iopub.status.idle": "2021-03-05T13:04:46.227602Z",
     "shell.execute_reply": "2021-03-05T13:04:46.226857Z"
    },
    "papermill": {
     "duration": 3.781503,
     "end_time": "2021-03-05T13:04:46.227739",
     "exception": false,
     "start_time": "2021-03-05T13:04:42.446236",
     "status": "completed"
    },
    "tags": []
   },
   "outputs": [],
   "source": [
    "#hide\n",
    "for i in range(len(dates)):\n",
    "    df1_deaths = df_deaths1.get_group(dates[i])\n",
    "    for j in range(len(df1_deaths.index)):\n",
    "        if df1_deaths.iloc[j,1] in arr_states:\n",
    "            dft_deaths.loc[i,df1_deaths.iloc[j,1]] = df1_deaths.iloc[j,2]\n",
    "dft_deaths = dft_deaths.set_index('states')"
   ]
  },
  {
   "cell_type": "code",
   "execution_count": 7,
   "id": "geological-welding",
   "metadata": {
    "execution": {
     "iopub.execute_input": "2021-03-05T13:04:46.265015Z",
     "iopub.status.busy": "2021-03-05T13:04:46.264448Z",
     "iopub.status.idle": "2021-03-05T13:04:50.131456Z",
     "shell.execute_reply": "2021-03-05T13:04:50.130973Z"
    },
    "papermill": {
     "duration": 3.887002,
     "end_time": "2021-03-05T13:04:50.131582",
     "exception": false,
     "start_time": "2021-03-05T13:04:46.244580",
     "status": "completed"
    },
    "tags": []
   },
   "outputs": [],
   "source": [
    "#hide\n",
    "for i in range(len(dates)):\n",
    "    df1_cases = df_cases1.get_group(dates[i])\n",
    "    for j in range(len(df1_cases.index)):\n",
    "        if df1_cases.iloc[j,1] in arr_states:\n",
    "            dft_cases.loc[i,df1_cases.iloc[j,1]] = df1_cases.iloc[j,2]\n",
    "dft_cases = dft_cases.set_index('states')"
   ]
  },
  {
   "cell_type": "code",
   "execution_count": 8,
   "id": "binary-ratio",
   "metadata": {
    "execution": {
     "iopub.execute_input": "2021-03-05T13:04:50.293281Z",
     "iopub.status.busy": "2021-03-05T13:04:50.292627Z",
     "iopub.status.idle": "2021-03-05T13:04:50.294885Z",
     "shell.execute_reply": "2021-03-05T13:04:50.294413Z"
    },
    "papermill": {
     "duration": 0.110728,
     "end_time": "2021-03-05T13:04:50.294990",
     "exception": false,
     "start_time": "2021-03-05T13:04:50.184262",
     "status": "completed"
    },
    "tags": []
   },
   "outputs": [],
   "source": [
    "#hide\n",
    "dft_cases = dft_cases.T\n",
    "dft_deaths = dft_deaths.T\n",
    "dt_today = dates[-1]\n",
    "dt_yday = dates[-2]"
   ]
  },
  {
   "cell_type": "code",
   "execution_count": 9,
   "id": "boolean-calculator",
   "metadata": {
    "execution": {
     "iopub.execute_input": "2021-03-05T13:04:50.554113Z",
     "iopub.status.busy": "2021-03-05T13:04:50.553533Z",
     "iopub.status.idle": "2021-03-05T13:04:50.558861Z",
     "shell.execute_reply": "2021-03-05T13:04:50.558399Z"
    },
    "papermill": {
     "duration": 0.166565,
     "end_time": "2021-03-05T13:04:50.558987",
     "exception": false,
     "start_time": "2021-03-05T13:04:50.392422",
     "status": "completed"
    },
    "tags": []
   },
   "outputs": [],
   "source": [
    "#hide\n",
    "dft_cases = dft_cases.reset_index()\n",
    "dft_deaths = dft_deaths.reset_index()\n",
    "dft_cases = dft_cases.rename(columns = {'index':'state'})\n",
    "dft_deaths = dft_deaths.rename(columns = {'index':'state'})"
   ]
  },
  {
   "cell_type": "code",
   "execution_count": 10,
   "id": "invisible-johnston",
   "metadata": {
    "execution": {
     "iopub.execute_input": "2021-03-05T13:04:50.677210Z",
     "iopub.status.busy": "2021-03-05T13:04:50.676651Z",
     "iopub.status.idle": "2021-03-05T13:04:50.683321Z",
     "shell.execute_reply": "2021-03-05T13:04:50.683857Z"
    },
    "papermill": {
     "duration": 0.02843,
     "end_time": "2021-03-05T13:04:50.683964",
     "exception": false,
     "start_time": "2021-03-05T13:04:50.655534",
     "status": "completed"
    },
    "tags": []
   },
   "outputs": [],
   "source": [
    "#hide\n",
    "dfc_cases = dft_cases.groupby('state')[dt_today].sum()\n",
    "dfc_deaths = dft_deaths.groupby('state')[dt_today].sum()\n",
    "dfp_cases = dft_cases.groupby('state')[dt_yday].sum()\n",
    "dfp_deaths = dft_deaths.groupby('state')[dt_yday].sum()"
   ]
  },
  {
   "cell_type": "code",
   "execution_count": 11,
   "id": "measured-great",
   "metadata": {
    "execution": {
     "iopub.execute_input": "2021-03-05T13:04:50.726160Z",
     "iopub.status.busy": "2021-03-05T13:04:50.725657Z",
     "iopub.status.idle": "2021-03-05T13:04:50.730964Z",
     "shell.execute_reply": "2021-03-05T13:04:50.731450Z"
    },
    "papermill": {
     "duration": 0.032851,
     "end_time": "2021-03-05T13:04:50.731557",
     "exception": false,
     "start_time": "2021-03-05T13:04:50.698706",
     "status": "completed"
    },
    "tags": []
   },
   "outputs": [
    {
     "data": {
      "text/html": [
       "<div>\n",
       "<style scoped>\n",
       "    .dataframe tbody tr th:only-of-type {\n",
       "        vertical-align: middle;\n",
       "    }\n",
       "\n",
       "    .dataframe tbody tr th {\n",
       "        vertical-align: top;\n",
       "    }\n",
       "\n",
       "    .dataframe thead th {\n",
       "        text-align: right;\n",
       "    }\n",
       "</style>\n",
       "<table border=\"1\" class=\"dataframe\">\n",
       "  <thead>\n",
       "    <tr style=\"text-align: right;\">\n",
       "      <th></th>\n",
       "      <th>states</th>\n",
       "      <th>Cases</th>\n",
       "      <th>Deaths</th>\n",
       "      <th>PCases</th>\n",
       "      <th>PDeaths</th>\n",
       "    </tr>\n",
       "  </thead>\n",
       "  <tbody>\n",
       "    <tr>\n",
       "      <th>0</th>\n",
       "      <td>Maharashtra</td>\n",
       "      <td>2188183</td>\n",
       "      <td>52340</td>\n",
       "      <td>2188183</td>\n",
       "      <td>52340</td>\n",
       "    </tr>\n",
       "    <tr>\n",
       "      <th>1</th>\n",
       "      <td>Kerala</td>\n",
       "      <td>1069661</td>\n",
       "      <td>4256</td>\n",
       "      <td>1069661</td>\n",
       "      <td>4256</td>\n",
       "    </tr>\n",
       "    <tr>\n",
       "      <th>2</th>\n",
       "      <td>Karnataka</td>\n",
       "      <td>953136</td>\n",
       "      <td>12350</td>\n",
       "      <td>953136</td>\n",
       "      <td>12350</td>\n",
       "    </tr>\n",
       "    <tr>\n",
       "      <th>3</th>\n",
       "      <td>Andhra Pradesh</td>\n",
       "      <td>890436</td>\n",
       "      <td>7172</td>\n",
       "      <td>890317</td>\n",
       "      <td>7171</td>\n",
       "    </tr>\n",
       "    <tr>\n",
       "      <th>4</th>\n",
       "      <td>Tamil Nadu</td>\n",
       "      <td>853449</td>\n",
       "      <td>12508</td>\n",
       "      <td>853449</td>\n",
       "      <td>12508</td>\n",
       "    </tr>\n",
       "  </tbody>\n",
       "</table>\n",
       "</div>"
      ],
      "text/plain": [
       "           states    Cases  Deaths   PCases  PDeaths\n",
       "0     Maharashtra  2188183   52340  2188183    52340\n",
       "1          Kerala  1069661    4256  1069661     4256\n",
       "2       Karnataka   953136   12350   953136    12350\n",
       "3  Andhra Pradesh   890436    7172   890317     7171\n",
       "4      Tamil Nadu   853449   12508   853449    12508"
      ]
     },
     "execution_count": 11,
     "metadata": {},
     "output_type": "execute_result"
    }
   ],
   "source": [
    "#hide\n",
    "df_table = pd.DataFrame({'states': dfc_cases.index, 'Cases': dfc_cases.values, 'Deaths': dfc_deaths.values, 'PCases': dfp_cases.values, 'PDeaths': dfp_deaths.values}).set_index('states')\n",
    "df_table = df_table.sort_values(by = ['Cases','Deaths'], ascending = [False, False])\n",
    "df_table = df_table.reset_index()\n",
    "df_table.head()"
   ]
  },
  {
   "cell_type": "code",
   "execution_count": 12,
   "id": "found-montreal",
   "metadata": {
    "execution": {
     "iopub.execute_input": "2021-03-05T13:04:50.767657Z",
     "iopub.status.busy": "2021-03-05T13:04:50.767124Z",
     "iopub.status.idle": "2021-03-05T13:04:50.774552Z",
     "shell.execute_reply": "2021-03-05T13:04:50.775038Z"
    },
    "papermill": {
     "duration": 0.027188,
     "end_time": "2021-03-05T13:04:50.775145",
     "exception": false,
     "start_time": "2021-03-05T13:04:50.747957",
     "status": "completed"
    },
    "tags": []
   },
   "outputs": [],
   "source": [
    "#hide\n",
    "for c in 'Cases, Deaths'.split(', '):\n",
    "    df_table[f'{c} (+)'] = (df_table[c] - df_table[f'P{c}']).clip(0)\n",
    "df_table['Fatality Rate'] = (100* df_table['Deaths']/ df_table['Cases']).round(2)"
   ]
  },
  {
   "cell_type": "code",
   "execution_count": 13,
   "id": "minus-savage",
   "metadata": {
    "execution": {
     "iopub.execute_input": "2021-03-05T13:04:50.818468Z",
     "iopub.status.busy": "2021-03-05T13:04:50.817922Z",
     "iopub.status.idle": "2021-03-05T13:04:50.820051Z",
     "shell.execute_reply": "2021-03-05T13:04:50.820513Z"
    },
    "papermill": {
     "duration": 0.030195,
     "end_time": "2021-03-05T13:04:50.820630",
     "exception": false,
     "start_time": "2021-03-05T13:04:50.790435",
     "status": "completed"
    },
    "tags": []
   },
   "outputs": [
    {
     "data": {
      "text/html": [
       "<div>\n",
       "<style scoped>\n",
       "    .dataframe tbody tr th:only-of-type {\n",
       "        vertical-align: middle;\n",
       "    }\n",
       "\n",
       "    .dataframe tbody tr th {\n",
       "        vertical-align: top;\n",
       "    }\n",
       "\n",
       "    .dataframe thead th {\n",
       "        text-align: right;\n",
       "    }\n",
       "</style>\n",
       "<table border=\"1\" class=\"dataframe\">\n",
       "  <thead>\n",
       "    <tr style=\"text-align: right;\">\n",
       "      <th></th>\n",
       "      <th>states</th>\n",
       "      <th>Cases</th>\n",
       "      <th>Deaths</th>\n",
       "      <th>PCases</th>\n",
       "      <th>PDeaths</th>\n",
       "      <th>Cases (+)</th>\n",
       "      <th>Deaths (+)</th>\n",
       "      <th>Fatality Rate</th>\n",
       "    </tr>\n",
       "  </thead>\n",
       "  <tbody>\n",
       "    <tr>\n",
       "      <th>0</th>\n",
       "      <td>Maharashtra</td>\n",
       "      <td>2188183</td>\n",
       "      <td>52340</td>\n",
       "      <td>2188183</td>\n",
       "      <td>52340</td>\n",
       "      <td>0</td>\n",
       "      <td>0</td>\n",
       "      <td>2.39</td>\n",
       "    </tr>\n",
       "    <tr>\n",
       "      <th>1</th>\n",
       "      <td>Kerala</td>\n",
       "      <td>1069661</td>\n",
       "      <td>4256</td>\n",
       "      <td>1069661</td>\n",
       "      <td>4256</td>\n",
       "      <td>0</td>\n",
       "      <td>0</td>\n",
       "      <td>0.40</td>\n",
       "    </tr>\n",
       "    <tr>\n",
       "      <th>2</th>\n",
       "      <td>Karnataka</td>\n",
       "      <td>953136</td>\n",
       "      <td>12350</td>\n",
       "      <td>953136</td>\n",
       "      <td>12350</td>\n",
       "      <td>0</td>\n",
       "      <td>0</td>\n",
       "      <td>1.30</td>\n",
       "    </tr>\n",
       "    <tr>\n",
       "      <th>3</th>\n",
       "      <td>Andhra Pradesh</td>\n",
       "      <td>890436</td>\n",
       "      <td>7172</td>\n",
       "      <td>890317</td>\n",
       "      <td>7171</td>\n",
       "      <td>119</td>\n",
       "      <td>1</td>\n",
       "      <td>0.81</td>\n",
       "    </tr>\n",
       "    <tr>\n",
       "      <th>4</th>\n",
       "      <td>Tamil Nadu</td>\n",
       "      <td>853449</td>\n",
       "      <td>12508</td>\n",
       "      <td>853449</td>\n",
       "      <td>12508</td>\n",
       "      <td>0</td>\n",
       "      <td>0</td>\n",
       "      <td>1.47</td>\n",
       "    </tr>\n",
       "  </tbody>\n",
       "</table>\n",
       "</div>"
      ],
      "text/plain": [
       "           states    Cases  Deaths   PCases  PDeaths  Cases (+)  Deaths (+)  \\\n",
       "0     Maharashtra  2188183   52340  2188183    52340          0           0   \n",
       "1          Kerala  1069661    4256  1069661     4256          0           0   \n",
       "2       Karnataka   953136   12350   953136    12350          0           0   \n",
       "3  Andhra Pradesh   890436    7172   890317     7171        119           1   \n",
       "4      Tamil Nadu   853449   12508   853449    12508          0           0   \n",
       "\n",
       "   Fatality Rate  \n",
       "0           2.39  \n",
       "1           0.40  \n",
       "2           1.30  \n",
       "3           0.81  \n",
       "4           1.47  "
      ]
     },
     "execution_count": 13,
     "metadata": {},
     "output_type": "execute_result"
    }
   ],
   "source": [
    "#hide\n",
    "df_table.head()"
   ]
  },
  {
   "cell_type": "code",
   "execution_count": 14,
   "id": "false-peter",
   "metadata": {
    "execution": {
     "iopub.execute_input": "2021-03-05T13:04:50.859492Z",
     "iopub.status.busy": "2021-03-05T13:04:50.858954Z",
     "iopub.status.idle": "2021-03-05T13:04:50.875435Z",
     "shell.execute_reply": "2021-03-05T13:04:50.876074Z"
    },
    "papermill": {
     "duration": 0.03869,
     "end_time": "2021-03-05T13:04:50.876238",
     "exception": false,
     "start_time": "2021-03-05T13:04:50.837548",
     "status": "completed"
    },
    "tags": []
   },
   "outputs": [
    {
     "data": {
      "text/plain": [
       "{'updated': '2021-03-05',\n",
       " 'since': '2021-03-04',\n",
       " 'Cases': 11174111,\n",
       " 'PCases': 11173572,\n",
       " 'Deaths': 157589,\n",
       " 'PDeaths': 157584,\n",
       " 'Cases (+)': 539,\n",
       " 'Deaths (+)': 5}"
      ]
     },
     "execution_count": 14,
     "metadata": {},
     "output_type": "execute_result"
    }
   ],
   "source": [
    "#hide\n",
    "summary = {'updated':dates[-1], 'since':dates[-2]}\n",
    "list_names = ['Cases', 'PCases', 'Deaths', 'PDeaths', 'Cases (+)', 'Deaths (+)']\n",
    "for name in list_names:\n",
    "    summary[name] = df_table.sum()[name]\n",
    "summary"
   ]
  },
  {
   "cell_type": "code",
   "execution_count": 15,
   "id": "packed-viewer",
   "metadata": {
    "execution": {
     "iopub.execute_input": "2021-03-05T13:04:50.923854Z",
     "iopub.status.busy": "2021-03-05T13:04:50.923138Z",
     "iopub.status.idle": "2021-03-05T13:04:50.925349Z",
     "shell.execute_reply": "2021-03-05T13:04:50.925975Z"
    },
    "papermill": {
     "duration": 0.028937,
     "end_time": "2021-03-05T13:04:50.926094",
     "exception": false,
     "start_time": "2021-03-05T13:04:50.897157",
     "status": "completed"
    },
    "tags": []
   },
   "outputs": [],
   "source": [
    "#hide\n",
    "overview = '''\n",
    "<!-- #######  HTML!! #########-->\n",
    "<h1 style=\"color: #5e9ca0; text-align: center;\">India</h1>\n",
    "<p style=\"text-align: center;\">Last update: <strong>{update}</strong></p>\n",
    "<p style=\"text-align: center;\">Confirmed cases:</p>\n",
    "<p style=\"text-align: center;font-size:24px;\">{cases} (<span style=\"color: #ff0000;\">+{new}</span>)</p>\n",
    "<p style=\"text-align: center;\">Confirmed deaths:</p>\n",
    "<p style=\"text-align: center;font-size:24px;\">{deaths} (<span style=\"color: #ff0000;\">+{dnew}</span>)</p>\n",
    "'''"
   ]
  },
  {
   "cell_type": "code",
   "execution_count": 16,
   "id": "phantom-lover",
   "metadata": {
    "execution": {
     "iopub.execute_input": "2021-03-05T13:04:50.966220Z",
     "iopub.status.busy": "2021-03-05T13:04:50.965686Z",
     "iopub.status.idle": "2021-03-05T13:04:50.969042Z",
     "shell.execute_reply": "2021-03-05T13:04:50.969494Z"
    },
    "papermill": {
     "duration": 0.024847,
     "end_time": "2021-03-05T13:04:50.969613",
     "exception": false,
     "start_time": "2021-03-05T13:04:50.944766",
     "status": "completed"
    },
    "tags": []
   },
   "outputs": [
    {
     "data": {
      "text/html": [
       "\n",
       "<!-- #######  HTML!! #########-->\n",
       "<h1 style=\"color: #5e9ca0; text-align: center;\">India</h1>\n",
       "<p style=\"text-align: center;\">Last update: <strong>2021-03-05</strong></p>\n",
       "<p style=\"text-align: center;\">Confirmed cases:</p>\n",
       "<p style=\"text-align: center;font-size:24px;\">11174111 (<span style=\"color: #ff0000;\">+539</span>)</p>\n",
       "<p style=\"text-align: center;\">Confirmed deaths:</p>\n",
       "<p style=\"text-align: center;font-size:24px;\">157589 (<span style=\"color: #ff0000;\">+5</span>)</p>\n"
      ],
      "text/plain": [
       "<IPython.core.display.HTML object>"
      ]
     },
     "metadata": {},
     "output_type": "display_data"
    }
   ],
   "source": [
    "#hide_input\n",
    "update = summary['updated']\n",
    "cases = summary['Cases']\n",
    "new = summary['Cases (+)']\n",
    "deaths = summary['Deaths']\n",
    "dnew = summary['Deaths (+)']\n",
    "\n",
    "html = HTML(overview.format(update=update, cases=cases,new=new,deaths=deaths,dnew=dnew))\n",
    "\n",
    "display(html)"
   ]
  },
  {
   "cell_type": "code",
   "execution_count": 17,
   "id": "sealed-reset",
   "metadata": {
    "execution": {
     "iopub.execute_input": "2021-03-05T13:04:51.008415Z",
     "iopub.status.busy": "2021-03-05T13:04:51.007907Z",
     "iopub.status.idle": "2021-03-05T13:04:51.014554Z",
     "shell.execute_reply": "2021-03-05T13:04:51.015175Z"
    },
    "papermill": {
     "duration": 0.028136,
     "end_time": "2021-03-05T13:04:51.015281",
     "exception": false,
     "start_time": "2021-03-05T13:04:50.987145",
     "status": "completed"
    },
    "tags": []
   },
   "outputs": [],
   "source": [
    "#hide\n",
    "dt_cols = list(dft_cases.columns[1:])\n",
    "dft_ct_new_cases = dft_cases.groupby('state')[dt_cols].sum().diff(axis=1).fillna(0).astype(int)\n",
    "dft_ct_new_cases.sort_values(by = dates[-1], ascending = False,inplace = True)"
   ]
  },
  {
   "cell_type": "code",
   "execution_count": 18,
   "id": "designed-constant",
   "metadata": {
    "execution": {
     "iopub.execute_input": "2021-03-05T13:04:51.066070Z",
     "iopub.status.busy": "2021-03-05T13:04:51.055847Z",
     "iopub.status.idle": "2021-03-05T13:04:51.068634Z",
     "shell.execute_reply": "2021-03-05T13:04:51.069110Z"
    },
    "papermill": {
     "duration": 0.034772,
     "end_time": "2021-03-05T13:04:51.069218",
     "exception": false,
     "start_time": "2021-03-05T13:04:51.034446",
     "status": "completed"
    },
    "tags": []
   },
   "outputs": [
    {
     "data": {
      "text/html": [
       "<div>\n",
       "<style scoped>\n",
       "    .dataframe tbody tr th:only-of-type {\n",
       "        vertical-align: middle;\n",
       "    }\n",
       "\n",
       "    .dataframe tbody tr th {\n",
       "        vertical-align: top;\n",
       "    }\n",
       "\n",
       "    .dataframe thead th {\n",
       "        text-align: right;\n",
       "    }\n",
       "</style>\n",
       "<table border=\"1\" class=\"dataframe\">\n",
       "  <thead>\n",
       "    <tr style=\"text-align: right;\">\n",
       "      <th>states</th>\n",
       "      <th>2020-07-01</th>\n",
       "      <th>2020-07-02</th>\n",
       "      <th>2020-07-03</th>\n",
       "      <th>2020-07-04</th>\n",
       "      <th>2020-07-05</th>\n",
       "      <th>2020-07-06</th>\n",
       "      <th>2020-07-07</th>\n",
       "      <th>2020-07-08</th>\n",
       "      <th>2020-07-09</th>\n",
       "      <th>2020-07-10</th>\n",
       "      <th>...</th>\n",
       "      <th>2021-02-24</th>\n",
       "      <th>2021-02-25</th>\n",
       "      <th>2021-02-26</th>\n",
       "      <th>2021-02-27</th>\n",
       "      <th>2021-02-28</th>\n",
       "      <th>2021-03-01</th>\n",
       "      <th>2021-03-02</th>\n",
       "      <th>2021-03-03</th>\n",
       "      <th>2021-03-04</th>\n",
       "      <th>2021-03-05</th>\n",
       "    </tr>\n",
       "    <tr>\n",
       "      <th>state</th>\n",
       "      <th></th>\n",
       "      <th></th>\n",
       "      <th></th>\n",
       "      <th></th>\n",
       "      <th></th>\n",
       "      <th></th>\n",
       "      <th></th>\n",
       "      <th></th>\n",
       "      <th></th>\n",
       "      <th></th>\n",
       "      <th></th>\n",
       "      <th></th>\n",
       "      <th></th>\n",
       "      <th></th>\n",
       "      <th></th>\n",
       "      <th></th>\n",
       "      <th></th>\n",
       "      <th></th>\n",
       "      <th></th>\n",
       "      <th></th>\n",
       "      <th></th>\n",
       "    </tr>\n",
       "  </thead>\n",
       "  <tbody>\n",
       "    <tr>\n",
       "      <th>Telangana</th>\n",
       "      <td>0</td>\n",
       "      <td>1213</td>\n",
       "      <td>1892</td>\n",
       "      <td>1850</td>\n",
       "      <td>1590</td>\n",
       "      <td>1831</td>\n",
       "      <td>1879</td>\n",
       "      <td>1924</td>\n",
       "      <td>1410</td>\n",
       "      <td>1278</td>\n",
       "      <td>...</td>\n",
       "      <td>345</td>\n",
       "      <td>207</td>\n",
       "      <td>189</td>\n",
       "      <td>178</td>\n",
       "      <td>176</td>\n",
       "      <td>116</td>\n",
       "      <td>163</td>\n",
       "      <td>168</td>\n",
       "      <td>152</td>\n",
       "      <td>166</td>\n",
       "    </tr>\n",
       "    <tr>\n",
       "      <th>Andhra Pradesh</th>\n",
       "      <td>0</td>\n",
       "      <td>845</td>\n",
       "      <td>837</td>\n",
       "      <td>765</td>\n",
       "      <td>998</td>\n",
       "      <td>1322</td>\n",
       "      <td>1178</td>\n",
       "      <td>1062</td>\n",
       "      <td>1555</td>\n",
       "      <td>1608</td>\n",
       "      <td>...</td>\n",
       "      <td>94</td>\n",
       "      <td>82</td>\n",
       "      <td>96</td>\n",
       "      <td>118</td>\n",
       "      <td>117</td>\n",
       "      <td>58</td>\n",
       "      <td>106</td>\n",
       "      <td>135</td>\n",
       "      <td>102</td>\n",
       "      <td>119</td>\n",
       "    </tr>\n",
       "    <tr>\n",
       "      <th>Odisha</th>\n",
       "      <td>0</td>\n",
       "      <td>229</td>\n",
       "      <td>561</td>\n",
       "      <td>495</td>\n",
       "      <td>469</td>\n",
       "      <td>456</td>\n",
       "      <td>571</td>\n",
       "      <td>527</td>\n",
       "      <td>577</td>\n",
       "      <td>755</td>\n",
       "      <td>...</td>\n",
       "      <td>68</td>\n",
       "      <td>89</td>\n",
       "      <td>94</td>\n",
       "      <td>86</td>\n",
       "      <td>87</td>\n",
       "      <td>86</td>\n",
       "      <td>74</td>\n",
       "      <td>97</td>\n",
       "      <td>81</td>\n",
       "      <td>91</td>\n",
       "    </tr>\n",
       "    <tr>\n",
       "      <th>Jammu and Kashmir</th>\n",
       "      <td>0</td>\n",
       "      <td>154</td>\n",
       "      <td>170</td>\n",
       "      <td>227</td>\n",
       "      <td>183</td>\n",
       "      <td>246</td>\n",
       "      <td>256</td>\n",
       "      <td>330</td>\n",
       "      <td>240</td>\n",
       "      <td>387</td>\n",
       "      <td>...</td>\n",
       "      <td>74</td>\n",
       "      <td>108</td>\n",
       "      <td>85</td>\n",
       "      <td>97</td>\n",
       "      <td>58</td>\n",
       "      <td>63</td>\n",
       "      <td>85</td>\n",
       "      <td>104</td>\n",
       "      <td>79</td>\n",
       "      <td>81</td>\n",
       "    </tr>\n",
       "    <tr>\n",
       "      <th>Goa</th>\n",
       "      <td>0</td>\n",
       "      <td>95</td>\n",
       "      <td>94</td>\n",
       "      <td>108</td>\n",
       "      <td>77</td>\n",
       "      <td>52</td>\n",
       "      <td>90</td>\n",
       "      <td>136</td>\n",
       "      <td>112</td>\n",
       "      <td>100</td>\n",
       "      <td>...</td>\n",
       "      <td>52</td>\n",
       "      <td>71</td>\n",
       "      <td>100</td>\n",
       "      <td>61</td>\n",
       "      <td>54</td>\n",
       "      <td>40</td>\n",
       "      <td>47</td>\n",
       "      <td>70</td>\n",
       "      <td>69</td>\n",
       "      <td>79</td>\n",
       "    </tr>\n",
       "  </tbody>\n",
       "</table>\n",
       "<p>5 rows × 248 columns</p>\n",
       "</div>"
      ],
      "text/plain": [
       "states             2020-07-01  2020-07-02  2020-07-03  2020-07-04  2020-07-05  \\\n",
       "state                                                                           \n",
       "Telangana                   0        1213        1892        1850        1590   \n",
       "Andhra Pradesh              0         845         837         765         998   \n",
       "Odisha                      0         229         561         495         469   \n",
       "Jammu and Kashmir           0         154         170         227         183   \n",
       "Goa                         0          95          94         108          77   \n",
       "\n",
       "states             2020-07-06  2020-07-07  2020-07-08  2020-07-09  2020-07-10  \\\n",
       "state                                                                           \n",
       "Telangana                1831        1879        1924        1410        1278   \n",
       "Andhra Pradesh           1322        1178        1062        1555        1608   \n",
       "Odisha                    456         571         527         577         755   \n",
       "Jammu and Kashmir         246         256         330         240         387   \n",
       "Goa                        52          90         136         112         100   \n",
       "\n",
       "states             ...  2021-02-24  2021-02-25  2021-02-26  2021-02-27  \\\n",
       "state              ...                                                   \n",
       "Telangana          ...         345         207         189         178   \n",
       "Andhra Pradesh     ...          94          82          96         118   \n",
       "Odisha             ...          68          89          94          86   \n",
       "Jammu and Kashmir  ...          74         108          85          97   \n",
       "Goa                ...          52          71         100          61   \n",
       "\n",
       "states             2021-02-28  2021-03-01  2021-03-02  2021-03-03  2021-03-04  \\\n",
       "state                                                                           \n",
       "Telangana                 176         116         163         168         152   \n",
       "Andhra Pradesh            117          58         106         135         102   \n",
       "Odisha                     87          86          74          97          81   \n",
       "Jammu and Kashmir          58          63          85         104          79   \n",
       "Goa                        54          40          47          70          69   \n",
       "\n",
       "states             2021-03-05  \n",
       "state                          \n",
       "Telangana                 166  \n",
       "Andhra Pradesh            119  \n",
       "Odisha                     91  \n",
       "Jammu and Kashmir          81  \n",
       "Goa                        79  \n",
       "\n",
       "[5 rows x 248 columns]"
      ]
     },
     "execution_count": 18,
     "metadata": {},
     "output_type": "execute_result"
    }
   ],
   "source": [
    "#hide\n",
    "dft_ct_new_cases.head()"
   ]
  },
  {
   "cell_type": "code",
   "execution_count": 19,
   "id": "responsible-nightlife",
   "metadata": {
    "execution": {
     "iopub.execute_input": "2021-03-05T13:04:51.110988Z",
     "iopub.status.busy": "2021-03-05T13:04:51.110371Z",
     "iopub.status.idle": "2021-03-05T13:05:00.540154Z",
     "shell.execute_reply": "2021-03-05T13:05:00.540699Z"
    },
    "papermill": {
     "duration": 9.45485,
     "end_time": "2021-03-05T13:05:00.540833",
     "exception": false,
     "start_time": "2021-03-05T13:04:51.085983",
     "status": "completed"
    },
    "tags": []
   },
   "outputs": [
    {
     "data": {
      "image/png": "[encoded data removed]",
      "text/plain": [
       "<Figure size 1296x2016 with 11 Axes>"
      ]
     },
     "metadata": {
      "needs_background": "light"
     },
     "output_type": "display_data"
    }
   ],
   "source": [
    "#hide_input\n",
    "df = dft_ct_new_cases.copy()\n",
    "df.loc['Total'] = df.sum()\n",
    "n = 5\n",
    "ax = []\n",
    "fig = plt.figure(figsize = (18,28))\n",
    "gs = fig.add_gridspec(n+2, 5)\n",
    "# gs = fig.add_gridspec(2, 3)\n",
    "ax1 = fig.add_subplot(gs[0, :])\n",
    "ef = df.loc['Total'].rename_axis('date').reset_index()\n",
    "ef['date'] = ef['date'].astype('datetime64[ns]')\n",
    "ax1.bar(ef.date,ef.Total,alpha=0.3,color='#007acc')\n",
    "ax1.plot(ef.date,ef.Total , marker=\"o\", color='#007acc')\n",
    "ax1.xaxis.set_major_locator(mdates.WeekdayLocator())\n",
    "ax1.xaxis.set_major_formatter(mdates.DateFormatter('%b %d'))\n",
    "ax1.text(0.02, 0.5,'India daily case count', transform = ax1.transAxes, fontsize=25);\n",
    "ax1.spines['right'].set_visible(False)\n",
    "ax1.spines['top'].set_visible(False)\n",
    "\n",
    "ax2 = fig.add_subplot(gs[1,0])\n",
    "ef = df.loc['Maharashtra'].rename_axis('date').reset_index()\n",
    "ef['date'] = ef['date'].astype('datetime64[ns]')\n",
    "\n",
    "ax2.bar(ef.date, ef.Maharashtra,color = '#007acc',alpha=0.5)\n",
    "ax2.xaxis.set_major_locator(mdates.WeekdayLocator())\n",
    "ax2.xaxis.set_major_formatter(mdates.DateFormatter('%b %d'))\n",
    "ax2.set_xticks(ax2.get_xticks()[::3])\n",
    "maxyval = ef.Maharashtra.max()\n",
    "ax2.set_ylim([0,maxyval])\n",
    "ax2.text(0.05, 0.9,'Maharashtra', transform = ax2.transAxes, fontsize=20);\n",
    "ax2.spines['right'].set_visible(False)\n",
    "ax2.spines['top'].set_visible(False)\n",
    "\n",
    "\n",
    "ax3 = fig.add_subplot(gs[1,1])\n",
    "ef = df.loc['Tamil Nadu'].rename_axis('date').reset_index()\n",
    "ef['date'] = ef['date'].astype('datetime64[ns]')\n",
    "ax3.bar(ef.date, ef['Tamil Nadu'],color = '#007acc',alpha=0.5,)\n",
    "ax3.xaxis.set_major_locator(mdates.WeekdayLocator())\n",
    "ax3.xaxis.set_major_formatter(mdates.DateFormatter('%b %d'))\n",
    "ax3.set_xticks(ax3.get_xticks()[::3])\n",
    "ax3.text(0.05, 0.9,'Tamil Nadu', transform = ax3.transAxes, fontsize=20);\n",
    "ax3.spines['right'].set_visible(False)\n",
    "ax3.spines['top'].set_visible(False)\n",
    "\n",
    "ax5 = fig.add_subplot(gs[1,3])\n",
    "ef = df.loc['Telangana'].rename_axis('date').reset_index()\n",
    "ef['date'] = ef['date'].astype('datetime64[ns]')\n",
    "ax5.bar(ef.date, ef['Telangana'],color = '#007acc',alpha=0.5,)\n",
    "ax5.xaxis.set_major_locator(mdates.WeekdayLocator())\n",
    "ax5.xaxis.set_major_formatter(mdates.DateFormatter('%b %d'))\n",
    "ax5.set_xticks(ax5.get_xticks()[::3])\n",
    "ax5.text(0.05, 0.9,'Telangana', transform = ax5.transAxes, fontsize=20);\n",
    "ax5.spines['right'].set_visible(False)\n",
    "ax5.spines['top'].set_visible(False)\n",
    "\n",
    "ax6 = fig.add_subplot(gs[1,4])\n",
    "ef = df.loc['Andhra Pradesh'].rename_axis('date').reset_index()\n",
    "ef['date'] = ef['date'].astype('datetime64[ns]')\n",
    "ax6.bar(ef.date, ef['Andhra Pradesh'],color = '#007acc',alpha=0.5,)\n",
    "ax6.xaxis.set_major_locator(mdates.WeekdayLocator())\n",
    "ax6.xaxis.set_major_formatter(mdates.DateFormatter('%b %d'))\n",
    "ax6.set_xticks(ax6.get_xticks()[::3])\n",
    "ax6.text(0.05, 1,'Andhra Pradesh', transform = ax6.transAxes, fontsize=20);\n",
    "ax6.spines['right'].set_visible(False)\n",
    "ax6.spines['top'].set_visible(False)\n",
    "\n",
    "ax4 = fig.add_subplot(gs[1,2])\n",
    "ef = df.loc['Delhi'].rename_axis('date').reset_index()\n",
    "ef['date'] = ef['date'].astype('datetime64[ns]')\n",
    "ax4.bar(ef.date, ef.Delhi,color = '#007acc',alpha=0.5)\n",
    "ax4.set_xticks([])\n",
    "ax4.xaxis.set_major_locator(mdates.WeekdayLocator())\n",
    "ax4.xaxis.set_major_formatter(mdates.DateFormatter('%b %d'))\n",
    "ax4.set_xticks(ax4.get_xticks()[::3])\n",
    "ax4.spines['right'].set_visible(False)\n",
    "ax4.spines['top'].set_visible(False)\n",
    "\n",
    "ax4.text(0.05, 1,'Delhi', transform = ax4.transAxes, fontsize=20)\n",
    "\n",
    "for i in range(n):\n",
    "    \n",
    "    ax.append(fig.add_subplot(gs[i+2,:]))\n",
    "    ef = df.iloc[i+3].rename_axis('date').reset_index()\n",
    "    ef['date'] = ef['date'].astype('datetime64[ns]')\n",
    "    ax[i].bar(ef.date,ef.iloc[:,-1],color = '#007acc',alpha=0.3)\n",
    "    ax[i].plot(ef.date,ef.iloc[:,-1],marker='o',color='#007acc')\n",
    "    ax[i].text(0.02,0.5,f'{ef.columns.values[-1]}',transform = ax[i].transAxes, fontsize = 20);\n",
    "    ax[i].xaxis.set_major_locator(mdates.WeekdayLocator())\n",
    "    ax[i].xaxis.set_major_formatter(mdates.DateFormatter('%b %d'))\n",
    "    ax[i].set_ylim([0,7000])\n",
    "    ax[i].spines['right'].set_visible(False)\n",
    "    ax[i].spines['top'].set_visible(False)\n",
    "plt.tight_layout()\n"
   ]
  },
  {
   "cell_type": "code",
   "execution_count": 20,
   "id": "dress-forge",
   "metadata": {
    "execution": {
     "iopub.execute_input": "2021-03-05T13:05:00.590171Z",
     "iopub.status.busy": "2021-03-05T13:05:00.589609Z",
     "iopub.status.idle": "2021-03-05T13:05:00.591600Z",
     "shell.execute_reply": "2021-03-05T13:05:00.592056Z"
    },
    "papermill": {
     "duration": 0.030722,
     "end_time": "2021-03-05T13:05:00.592270",
     "exception": false,
     "start_time": "2021-03-05T13:05:00.561548",
     "status": "completed"
    },
    "tags": []
   },
   "outputs": [
    {
     "name": "stdout",
     "output_type": "stream",
     "text": [
      "                                   states    Cases  Deaths   PCases  PDeaths  Cases (+)  Deaths (+)  Fatality Rate\n",
      "                              Maharashtra  2188183   52340  2188183    52340          0           0           2.39\n",
      "                                   Kerala  1069661    4256  1069661     4256          0           0           0.40\n",
      "                                Karnataka   953136   12350   953136    12350          0           0           1.30\n",
      "                           Andhra Pradesh   890436    7172   890317     7171        119           1           0.81\n",
      "                               Tamil Nadu   853449   12508   853449    12508          0           0           1.47\n",
      "                                    Delhi   640182   10915   640182    10915          0           0           1.70\n",
      "                            Uttar Pradesh   603907    8729   603907     8729          0           0           1.45\n",
      "                              West Bengal   575921   10273   575921    10273          0           0           1.78\n",
      "                                   Odisha   337620    1970   337529     1970         91           0           0.58\n",
      "                                Rajasthan   320928    2788   320928     2788          0           0           0.87\n",
      "                             Chhattisgarh   313534    3851   313534     3851          0           0           1.23\n",
      "                                Telangana   299572    1639   299406     1637        166           2           0.55\n",
      "                                  Gujarat   271725    4412   271725     4412          0           0           1.62\n",
      "                                  Haryana   271659    3052   271659     3052          0           0           1.12\n",
      "                           Madhya Pradesh   263290    3866   263290     3866          0           0           1.47\n",
      "                                    Bihar   262668    1543   262668     1543          0           0           0.59\n",
      "                                    Assam   217613    1093   217613     1093          0           0           0.50\n",
      "                                   Punjab   185381    5887   185381     5887          0           0           3.18\n",
      "                        Jammu and Kashmir   126853    1960   126772     1959         81           1           1.55\n",
      "                                Jharkhand   120129    1091   120129     1091          0           0           0.91\n",
      "                              Uttarakhand    97234    1692    97234     1692          0           0           1.74\n",
      "                         Himachal Pradesh    58942     983    58942      983          0           0           1.67\n",
      "                                      Goa    55291     799    55212      798         79           1           1.45\n",
      "                               Puducherry    39794     669    39794      669          0           0           1.68\n",
      "                                  Tripura    33419     388    33419      388          0           0           1.16\n",
      "                                  Manipur    29282     373    29282      373          0           0           1.27\n",
      "                               Chandigarh    22040     355    22040      355          0           0           1.61\n",
      "                        Arunachal Pradesh    16838      56    16838       56          0           0           0.33\n",
      "                                Meghalaya    13968     148    13966      148          2           0           1.06\n",
      "                                 Nagaland    12210      91    12210       91          0           0           0.75\n",
      "                                   Ladakh     9824     130     9824      130          0           0           1.32\n",
      "                                   Sikkim     6154     135     6154      135          0           0           2.19\n",
      "              Andaman and Nicobar Islands     5024      62     5024       62          0           0           1.23\n",
      "                                  Mizoram     4428      10     4427       10          1           0           0.23\n",
      " Dadra and Nagar Haveli and Daman and Diu     3390       2     3390        2          0           0           0.06\n",
      "                              Lakshadweep      426       1      426        1          0           0           0.23\n"
     ]
    }
   ],
   "source": [
    "#hide_input\n",
    "print(df_table.to_string(index=False))"
   ]
  },
  {
   "cell_type": "code",
   "execution_count": null,
   "id": "quantitative-legend",
   "metadata": {
    "papermill": {
     "duration": 0.02207,
     "end_time": "2021-03-05T13:05:00.635402",
     "exception": false,
     "start_time": "2021-03-05T13:05:00.613332",
     "status": "completed"
    },
    "tags": []
   },
   "outputs": [],
   "source": []
  },
  {
   "cell_type": "code",
   "execution_count": null,
   "id": "distant-acoustic",
   "metadata": {
    "papermill": {
     "duration": 0.020705,
     "end_time": "2021-03-05T13:05:00.677354",
     "exception": false,
     "start_time": "2021-03-05T13:05:00.656649",
     "status": "completed"
    },
    "tags": []
   },
   "outputs": [],
   "source": []
  }
 ],
 "metadata": {
  "kernelspec": {
   "display_name": "Python 3",
   "language": "python",
   "name": "python3"
  },
  "language_info": {
   "codemirror_mode": {
    "name": "ipython",
    "version": 3
   },
   "file_extension": ".py",
   "mimetype": "text/x-python",
   "name": "python",
   "nbconvert_exporter": "python",
   "pygments_lexer": "ipython3",
   "version": "3.6.13"
  },
  "papermill": {
   "duration": 20.725385,
   "end_time": "2021-03-05T13:05:01.205672",
   "environment_variables": {},
   "exception": null,
   "input_path": "latest.ipynb",
   "output_path": "latest.ipynb",
   "parameters": {},
   "start_time": "2021-03-05T13:04:40.480287",
   "version": "2.1.2"
  }
 },
 "nbformat": 4,
 "nbformat_minor": 5
}