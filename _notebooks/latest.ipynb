{
 "cells": [
  {
   "cell_type": "markdown",
   "metadata": {
    "papermill": {
     "duration": 0.020544,
     "end_time": "2020-09-19T13:20:17.582738",
     "exception": false,
     "start_time": "2020-09-19T13:20:17.562194",
     "status": "completed"
    },
    "tags": []
   },
   "source": [
    "# Latest COVID-19 India Matplotlib Overview"
   ]
  },
  {
   "cell_type": "code",
   "execution_count": 1,
   "metadata": {
    "execution": {
     "iopub.execute_input": "2020-09-19T13:20:17.616087Z",
     "iopub.status.busy": "2020-09-19T13:20:17.615653Z",
     "iopub.status.idle": "2020-09-19T13:20:18.130121Z",
     "shell.execute_reply": "2020-09-19T13:20:18.129101Z"
    },
    "papermill": {
     "duration": 0.534244,
     "end_time": "2020-09-19T13:20:18.130285",
     "exception": false,
     "start_time": "2020-09-19T13:20:17.596041",
     "status": "completed"
    },
    "tags": []
   },
   "outputs": [],
   "source": [
    "#hide\n",
    "import pandas as pd\n",
    "import numpy as np\n",
    "import requests\n",
    "import json\n",
    "import matplotlib.pyplot as plt\n",
    "import matplotlib.dates as mdates\n",
    "import matplotlib as mpl\n",
    "from IPython.core.display import display,HTML\n",
    "%matplotlib inline\n",
    "from datetime import date"
   ]
  },
  {
   "cell_type": "code",
   "execution_count": 2,
   "metadata": {
    "execution": {
     "iopub.execute_input": "2020-09-19T13:20:18.163793Z",
     "iopub.status.busy": "2020-09-19T13:20:18.162804Z",
     "iopub.status.idle": "2020-09-19T13:20:18.444465Z",
     "shell.execute_reply": "2020-09-19T13:20:18.443779Z"
    },
    "papermill": {
     "duration": 0.300921,
     "end_time": "2020-09-19T13:20:18.444640",
     "exception": false,
     "start_time": "2020-09-19T13:20:18.143719",
     "status": "completed"
    },
    "tags": []
   },
   "outputs": [],
   "source": [
    "#hide\n",
    "df  = pd.read_csv('https://api.covid19india.org/csv/latest/states.csv')\n",
    "df = df[['Date','State','Confirmed','Deceased']]\n",
    "df = df.rename(columns={'Confirmed':'Cases', \"Deceased\":'Deaths'})\n",
    "df_cases = df[[\"Date\",'State','Cases']]\n",
    "df_deaths = df[['Date','State','Deaths']]\n",
    "df_cases1 = df_cases.groupby('Date')\n",
    "df_deaths1= df_deaths.groupby('Date')"
   ]
  },
  {
   "cell_type": "code",
   "execution_count": 3,
   "metadata": {
    "execution": {
     "iopub.execute_input": "2020-09-19T13:20:18.480338Z",
     "iopub.status.busy": "2020-09-19T13:20:18.479722Z",
     "iopub.status.idle": "2020-09-19T13:20:18.497130Z",
     "shell.execute_reply": "2020-09-19T13:20:18.496617Z"
    },
    "papermill": {
     "duration": 0.035243,
     "end_time": "2020-09-19T13:20:18.497269",
     "exception": false,
     "start_time": "2020-09-19T13:20:18.462026",
     "status": "completed"
    },
    "tags": []
   },
   "outputs": [],
   "source": [
    "#hide\n",
    "df_snap = pd.read_csv('data/SnapshotCases-28-July.csv')\n",
    "arr_states = df_snap['states'].unique()\n",
    "arr_dates = df['Date'].unique()\n",
    "df_snap = df_snap.set_index('states')"
   ]
  },
  {
   "cell_type": "code",
   "execution_count": 4,
   "metadata": {
    "execution": {
     "iopub.execute_input": "2020-09-19T13:20:18.533977Z",
     "iopub.status.busy": "2020-09-19T13:20:18.533173Z",
     "iopub.status.idle": "2020-09-19T13:20:18.535630Z",
     "shell.execute_reply": "2020-09-19T13:20:18.536014Z"
    },
    "papermill": {
     "duration": 0.024636,
     "end_time": "2020-09-19T13:20:18.536134",
     "exception": false,
     "start_time": "2020-09-19T13:20:18.511498",
     "status": "completed"
    },
    "tags": []
   },
   "outputs": [
    {
     "data": {
      "text/plain": [
       "array(['Andaman and Nicobar Islands', 'Andhra Pradesh',\n",
       "       'Arunachal Pradesh', 'Assam', 'Bihar', 'Chandigarh',\n",
       "       'Dadra and Nagar Haveli and Daman and Diu', 'Delhi', 'Goa',\n",
       "       'Gujarat', 'Haryana', 'Himachal Pradesh', 'Jammu and Kashmir',\n",
       "       'Jharkhand', 'Karnataka', 'Kerala', 'Lakshadweep',\n",
       "       'Madhya Pradesh', 'Maharashtra', 'Manipur', 'Meghalaya', 'Mizoram',\n",
       "       'Nagaland', 'Odisha', 'Puducherry', 'Punjab', 'Rajasthan',\n",
       "       'Sikkim', 'Tamil Nadu', 'Telangana', 'Tripura', 'Uttar Pradesh',\n",
       "       'West Bengal', 'Chhattisgarh', 'Ladakh', 'Uttarakhand'],\n",
       "      dtype=object)"
      ]
     },
     "execution_count": 4,
     "metadata": {},
     "output_type": "execute_result"
    }
   ],
   "source": [
    "#hide\n",
    "arr_states[-9] = 'Puducherry'\n",
    "arr_states[-10] = 'Odisha'\n",
    "arr_states[6] = 'Dadra and Nagar Haveli and Daman and Diu'\n",
    "arr_states = np.append(arr_states,np.array(['Chhattisgarh','Ladakh','Uttarakhand']))\n",
    "arr_states"
   ]
  },
  {
   "cell_type": "code",
   "execution_count": 5,
   "metadata": {
    "execution": {
     "iopub.execute_input": "2020-09-19T13:20:18.577766Z",
     "iopub.status.busy": "2020-09-19T13:20:18.577341Z",
     "iopub.status.idle": "2020-09-19T13:20:18.583462Z",
     "shell.execute_reply": "2020-09-19T13:20:18.583099Z"
    },
    "papermill": {
     "duration": 0.032478,
     "end_time": "2020-09-19T13:20:18.583552",
     "exception": false,
     "start_time": "2020-09-19T13:20:18.551074",
     "status": "completed"
    },
    "tags": []
   },
   "outputs": [],
   "source": [
    "#hide\n",
    "dates = []\n",
    "for i in arr_dates:\n",
    "    if i>='2020-07-01':\n",
    "        dates.append(i)\n",
    "dict = {'states':dates}\n",
    "for i in arr_states:\n",
    "    dict[i] = [0]*len(dates)\n",
    "dft_cases = pd.DataFrame(dict)\n",
    "dft_deaths = pd.DataFrame(dict)\n"
   ]
  },
  {
   "cell_type": "code",
   "execution_count": 6,
   "metadata": {
    "execution": {
     "iopub.execute_input": "2020-09-19T13:20:18.625893Z",
     "iopub.status.busy": "2020-09-19T13:20:18.625279Z",
     "iopub.status.idle": "2020-09-19T13:20:19.596183Z",
     "shell.execute_reply": "2020-09-19T13:20:19.595567Z"
    },
    "papermill": {
     "duration": 0.999299,
     "end_time": "2020-09-19T13:20:19.596352",
     "exception": false,
     "start_time": "2020-09-19T13:20:18.597053",
     "status": "completed"
    },
    "tags": []
   },
   "outputs": [],
   "source": [
    "#hide\n",
    "for i in range(len(dates)):\n",
    "    df1_deaths = df_deaths1.get_group(dates[i])\n",
    "    for j in range(len(df1_deaths.index)):\n",
    "        if df1_deaths.iloc[j,1] in arr_states:\n",
    "            dft_deaths.loc[i,df1_deaths.iloc[j,1]] = df1_deaths.iloc[j,2]\n",
    "dft_deaths = dft_deaths.set_index('states')"
   ]
  },
  {
   "cell_type": "code",
   "execution_count": 7,
   "metadata": {
    "execution": {
     "iopub.execute_input": "2020-09-19T13:20:19.630547Z",
     "iopub.status.busy": "2020-09-19T13:20:19.629924Z",
     "iopub.status.idle": "2020-09-19T13:20:20.579524Z",
     "shell.execute_reply": "2020-09-19T13:20:20.579984Z"
    },
    "papermill": {
     "duration": 0.97043,
     "end_time": "2020-09-19T13:20:20.580130",
     "exception": false,
     "start_time": "2020-09-19T13:20:19.609700",
     "status": "completed"
    },
    "tags": []
   },
   "outputs": [],
   "source": [
    "#hide\n",
    "for i in range(len(dates)):\n",
    "    df1_cases = df_cases1.get_group(dates[i])\n",
    "    for j in range(len(df1_cases.index)):\n",
    "        if df1_cases.iloc[j,1] in arr_states:\n",
    "            dft_cases.loc[i,df1_cases.iloc[j,1]] = df1_cases.iloc[j,2]\n",
    "dft_cases = dft_cases.set_index('states')"
   ]
  },
  {
   "cell_type": "code",
   "execution_count": 8,
   "metadata": {
    "execution": {
     "iopub.execute_input": "2020-09-19T13:20:20.611872Z",
     "iopub.status.busy": "2020-09-19T13:20:20.611408Z",
     "iopub.status.idle": "2020-09-19T13:20:20.614911Z",
     "shell.execute_reply": "2020-09-19T13:20:20.614529Z"
    },
    "papermill": {
     "duration": 0.022913,
     "end_time": "2020-09-19T13:20:20.615007",
     "exception": false,
     "start_time": "2020-09-19T13:20:20.592094",
     "status": "completed"
    },
    "tags": []
   },
   "outputs": [],
   "source": [
    "#hide\n",
    "dft_cases = dft_cases.T\n",
    "dft_deaths = dft_deaths.T\n",
    "dt_today = dates[-1]\n",
    "dt_yday = dates[-2]"
   ]
  },
  {
   "cell_type": "code",
   "execution_count": 9,
   "metadata": {
    "execution": {
     "iopub.execute_input": "2020-09-19T13:20:20.651157Z",
     "iopub.status.busy": "2020-09-19T13:20:20.650666Z",
     "iopub.status.idle": "2020-09-19T13:20:20.654539Z",
     "shell.execute_reply": "2020-09-19T13:20:20.654098Z"
    },
    "papermill": {
     "duration": 0.027441,
     "end_time": "2020-09-19T13:20:20.654644",
     "exception": false,
     "start_time": "2020-09-19T13:20:20.627203",
     "status": "completed"
    },
    "tags": []
   },
   "outputs": [],
   "source": [
    "#hide\n",
    "dft_cases = dft_cases.reset_index()\n",
    "dft_deaths = dft_deaths.reset_index()\n",
    "dft_cases = dft_cases.rename(columns = {'index':'state'})\n",
    "dft_deaths = dft_deaths.rename(columns = {'index':'state'})"
   ]
  },
  {
   "cell_type": "code",
   "execution_count": 10,
   "metadata": {
    "execution": {
     "iopub.execute_input": "2020-09-19T13:20:20.688530Z",
     "iopub.status.busy": "2020-09-19T13:20:20.684620Z",
     "iopub.status.idle": "2020-09-19T13:20:20.691235Z",
     "shell.execute_reply": "2020-09-19T13:20:20.690901Z"
    },
    "papermill": {
     "duration": 0.025268,
     "end_time": "2020-09-19T13:20:20.691330",
     "exception": false,
     "start_time": "2020-09-19T13:20:20.666062",
     "status": "completed"
    },
    "tags": []
   },
   "outputs": [],
   "source": [
    "#hide\n",
    "dfc_cases = dft_cases.groupby('state')[dt_today].sum()\n",
    "dfc_deaths = dft_deaths.groupby('state')[dt_today].sum()\n",
    "dfp_cases = dft_cases.groupby('state')[dt_yday].sum()\n",
    "dfp_deaths = dft_deaths.groupby('state')[dt_yday].sum()"
   ]
  },
  {
   "cell_type": "code",
   "execution_count": 11,
   "metadata": {
    "execution": {
     "iopub.execute_input": "2020-09-19T13:20:20.730840Z",
     "iopub.status.busy": "2020-09-19T13:20:20.730131Z",
     "iopub.status.idle": "2020-09-19T13:20:20.736843Z",
     "shell.execute_reply": "2020-09-19T13:20:20.736242Z"
    },
    "papermill": {
     "duration": 0.033504,
     "end_time": "2020-09-19T13:20:20.736967",
     "exception": false,
     "start_time": "2020-09-19T13:20:20.703463",
     "status": "completed"
    },
    "tags": []
   },
   "outputs": [
    {
     "data": {
      "text/html": [
       "<div>\n",
       "<style scoped>\n",
       "    .dataframe tbody tr th:only-of-type {\n",
       "        vertical-align: middle;\n",
       "    }\n",
       "\n",
       "    .dataframe tbody tr th {\n",
       "        vertical-align: top;\n",
       "    }\n",
       "\n",
       "    .dataframe thead th {\n",
       "        text-align: right;\n",
       "    }\n",
       "</style>\n",
       "<table border=\"1\" class=\"dataframe\">\n",
       "  <thead>\n",
       "    <tr style=\"text-align: right;\">\n",
       "      <th></th>\n",
       "      <th>states</th>\n",
       "      <th>Cases</th>\n",
       "      <th>Deaths</th>\n",
       "      <th>PCases</th>\n",
       "      <th>PDeaths</th>\n",
       "    </tr>\n",
       "  </thead>\n",
       "  <tbody>\n",
       "    <tr>\n",
       "      <th>0</th>\n",
       "      <td>Maharashtra</td>\n",
       "      <td>1167496</td>\n",
       "      <td>31791</td>\n",
       "      <td>1167496</td>\n",
       "      <td>31791</td>\n",
       "    </tr>\n",
       "    <tr>\n",
       "      <th>1</th>\n",
       "      <td>Andhra Pradesh</td>\n",
       "      <td>617776</td>\n",
       "      <td>5302</td>\n",
       "      <td>609558</td>\n",
       "      <td>5244</td>\n",
       "    </tr>\n",
       "    <tr>\n",
       "      <th>2</th>\n",
       "      <td>Tamil Nadu</td>\n",
       "      <td>530908</td>\n",
       "      <td>8685</td>\n",
       "      <td>530908</td>\n",
       "      <td>8685</td>\n",
       "    </tr>\n",
       "    <tr>\n",
       "      <th>3</th>\n",
       "      <td>Karnataka</td>\n",
       "      <td>502982</td>\n",
       "      <td>7808</td>\n",
       "      <td>502982</td>\n",
       "      <td>7808</td>\n",
       "    </tr>\n",
       "    <tr>\n",
       "      <th>4</th>\n",
       "      <td>Uttar Pradesh</td>\n",
       "      <td>342788</td>\n",
       "      <td>4869</td>\n",
       "      <td>342788</td>\n",
       "      <td>4869</td>\n",
       "    </tr>\n",
       "  </tbody>\n",
       "</table>\n",
       "</div>"
      ],
      "text/plain": [
       "           states    Cases  Deaths   PCases  PDeaths\n",
       "0     Maharashtra  1167496   31791  1167496    31791\n",
       "1  Andhra Pradesh   617776    5302   609558     5244\n",
       "2      Tamil Nadu   530908    8685   530908     8685\n",
       "3       Karnataka   502982    7808   502982     7808\n",
       "4   Uttar Pradesh   342788    4869   342788     4869"
      ]
     },
     "execution_count": 11,
     "metadata": {},
     "output_type": "execute_result"
    }
   ],
   "source": [
    "#hide\n",
    "df_table = pd.DataFrame({'states': dfc_cases.index, 'Cases': dfc_cases.values, 'Deaths': dfc_deaths.values, 'PCases': dfp_cases.values, 'PDeaths': dfp_deaths.values}).set_index('states')\n",
    "df_table = df_table.sort_values(by = ['Cases','Deaths'], ascending = [False, False])\n",
    "df_table = df_table.reset_index()\n",
    "df_table.head()"
   ]
  },
  {
   "cell_type": "code",
   "execution_count": 12,
   "metadata": {
    "execution": {
     "iopub.execute_input": "2020-09-19T13:20:20.769247Z",
     "iopub.status.busy": "2020-09-19T13:20:20.768678Z",
     "iopub.status.idle": "2020-09-19T13:20:20.776546Z",
     "shell.execute_reply": "2020-09-19T13:20:20.776997Z"
    },
    "papermill": {
     "duration": 0.025997,
     "end_time": "2020-09-19T13:20:20.777140",
     "exception": false,
     "start_time": "2020-09-19T13:20:20.751143",
     "status": "completed"
    },
    "tags": []
   },
   "outputs": [],
   "source": [
    "#hide\n",
    "for c in 'Cases, Deaths'.split(', '):\n",
    "    df_table[f'{c} (+)'] = (df_table[c] - df_table[f'P{c}']).clip(0)\n",
    "df_table['Fatality Rate'] = (100* df_table['Deaths']/ df_table['Cases']).round(2)"
   ]
  },
  {
   "cell_type": "code",
   "execution_count": 13,
   "metadata": {
    "execution": {
     "iopub.execute_input": "2020-09-19T13:20:20.813860Z",
     "iopub.status.busy": "2020-09-19T13:20:20.813384Z",
     "iopub.status.idle": "2020-09-19T13:20:20.815874Z",
     "shell.execute_reply": "2020-09-19T13:20:20.815457Z"
    },
    "papermill": {
     "duration": 0.026169,
     "end_time": "2020-09-19T13:20:20.815961",
     "exception": false,
     "start_time": "2020-09-19T13:20:20.789792",
     "status": "completed"
    },
    "tags": []
   },
   "outputs": [
    {
     "data": {
      "text/html": [
       "<div>\n",
       "<style scoped>\n",
       "    .dataframe tbody tr th:only-of-type {\n",
       "        vertical-align: middle;\n",
       "    }\n",
       "\n",
       "    .dataframe tbody tr th {\n",
       "        vertical-align: top;\n",
       "    }\n",
       "\n",
       "    .dataframe thead th {\n",
       "        text-align: right;\n",
       "    }\n",
       "</style>\n",
       "<table border=\"1\" class=\"dataframe\">\n",
       "  <thead>\n",
       "    <tr style=\"text-align: right;\">\n",
       "      <th></th>\n",
       "      <th>states</th>\n",
       "      <th>Cases</th>\n",
       "      <th>Deaths</th>\n",
       "      <th>PCases</th>\n",
       "      <th>PDeaths</th>\n",
       "      <th>Cases (+)</th>\n",
       "      <th>Deaths (+)</th>\n",
       "      <th>Fatality Rate</th>\n",
       "    </tr>\n",
       "  </thead>\n",
       "  <tbody>\n",
       "    <tr>\n",
       "      <th>0</th>\n",
       "      <td>Maharashtra</td>\n",
       "      <td>1167496</td>\n",
       "      <td>31791</td>\n",
       "      <td>1167496</td>\n",
       "      <td>31791</td>\n",
       "      <td>0</td>\n",
       "      <td>0</td>\n",
       "      <td>2.72</td>\n",
       "    </tr>\n",
       "    <tr>\n",
       "      <th>1</th>\n",
       "      <td>Andhra Pradesh</td>\n",
       "      <td>617776</td>\n",
       "      <td>5302</td>\n",
       "      <td>609558</td>\n",
       "      <td>5244</td>\n",
       "      <td>8218</td>\n",
       "      <td>58</td>\n",
       "      <td>0.86</td>\n",
       "    </tr>\n",
       "    <tr>\n",
       "      <th>2</th>\n",
       "      <td>Tamil Nadu</td>\n",
       "      <td>530908</td>\n",
       "      <td>8685</td>\n",
       "      <td>530908</td>\n",
       "      <td>8685</td>\n",
       "      <td>0</td>\n",
       "      <td>0</td>\n",
       "      <td>1.64</td>\n",
       "    </tr>\n",
       "    <tr>\n",
       "      <th>3</th>\n",
       "      <td>Karnataka</td>\n",
       "      <td>502982</td>\n",
       "      <td>7808</td>\n",
       "      <td>502982</td>\n",
       "      <td>7808</td>\n",
       "      <td>0</td>\n",
       "      <td>0</td>\n",
       "      <td>1.55</td>\n",
       "    </tr>\n",
       "    <tr>\n",
       "      <th>4</th>\n",
       "      <td>Uttar Pradesh</td>\n",
       "      <td>342788</td>\n",
       "      <td>4869</td>\n",
       "      <td>342788</td>\n",
       "      <td>4869</td>\n",
       "      <td>0</td>\n",
       "      <td>0</td>\n",
       "      <td>1.42</td>\n",
       "    </tr>\n",
       "  </tbody>\n",
       "</table>\n",
       "</div>"
      ],
      "text/plain": [
       "           states    Cases  Deaths   PCases  PDeaths  Cases (+)  Deaths (+)  \\\n",
       "0     Maharashtra  1167496   31791  1167496    31791          0           0   \n",
       "1  Andhra Pradesh   617776    5302   609558     5244       8218          58   \n",
       "2      Tamil Nadu   530908    8685   530908     8685          0           0   \n",
       "3       Karnataka   502982    7808   502982     7808          0           0   \n",
       "4   Uttar Pradesh   342788    4869   342788     4869          0           0   \n",
       "\n",
       "   Fatality Rate  \n",
       "0           2.72  \n",
       "1           0.86  \n",
       "2           1.64  \n",
       "3           1.55  \n",
       "4           1.42  "
      ]
     },
     "execution_count": 13,
     "metadata": {},
     "output_type": "execute_result"
    }
   ],
   "source": [
    "#hide\n",
    "df_table.head()"
   ]
  },
  {
   "cell_type": "code",
   "execution_count": 14,
   "metadata": {
    "execution": {
     "iopub.execute_input": "2020-09-19T13:20:20.847488Z",
     "iopub.status.busy": "2020-09-19T13:20:20.846923Z",
     "iopub.status.idle": "2020-09-19T13:20:20.860150Z",
     "shell.execute_reply": "2020-09-19T13:20:20.859697Z"
    },
    "papermill": {
     "duration": 0.031558,
     "end_time": "2020-09-19T13:20:20.860262",
     "exception": false,
     "start_time": "2020-09-19T13:20:20.828704",
     "status": "completed"
    },
    "tags": []
   },
   "outputs": [
    {
     "data": {
      "text/plain": [
       "{'updated': '2020-09-19',\n",
       " 'since': '2020-09-18',\n",
       " 'Cases': 5322415,\n",
       " 'PCases': 5305656,\n",
       " 'Deaths': 85710,\n",
       " 'PDeaths': 85625,\n",
       " 'Cases (+)': 16759,\n",
       " 'Deaths (+)': 85}"
      ]
     },
     "execution_count": 14,
     "metadata": {},
     "output_type": "execute_result"
    }
   ],
   "source": [
    "#hide\n",
    "summary = {'updated':dates[-1], 'since':dates[-2]}\n",
    "list_names = ['Cases', 'PCases', 'Deaths', 'PDeaths', 'Cases (+)', 'Deaths (+)']\n",
    "for name in list_names:\n",
    "    summary[name] = df_table.sum()[name]\n",
    "summary"
   ]
  },
  {
   "cell_type": "code",
   "execution_count": 15,
   "metadata": {
    "execution": {
     "iopub.execute_input": "2020-09-19T13:20:20.895837Z",
     "iopub.status.busy": "2020-09-19T13:20:20.895281Z",
     "iopub.status.idle": "2020-09-19T13:20:20.897475Z",
     "shell.execute_reply": "2020-09-19T13:20:20.897088Z"
    },
    "papermill": {
     "duration": 0.019636,
     "end_time": "2020-09-19T13:20:20.897576",
     "exception": false,
     "start_time": "2020-09-19T13:20:20.877940",
     "status": "completed"
    },
    "tags": []
   },
   "outputs": [],
   "source": [
    "#hide\n",
    "overview = '''\n",
    "<!-- #######  HTML!! #########-->\n",
    "<h1 style=\"color: #5e9ca0; text-align: center;\">India</h1>\n",
    "<p style=\"text-align: center;\">Last update: <strong>{update}</strong></p>\n",
    "<p style=\"text-align: center;\">Confirmed cases:</p>\n",
    "<p style=\"text-align: center;font-size:24px;\">{cases} (<span style=\"color: #ff0000;\">+{new}</span>)</p>\n",
    "<p style=\"text-align: center;\">Confirmed deaths:</p>\n",
    "<p style=\"text-align: center;font-size:24px;\">{deaths} (<span style=\"color: #ff0000;\">+{dnew}</span>)</p>\n",
    "'''"
   ]
  },
  {
   "cell_type": "code",
   "execution_count": 16,
   "metadata": {
    "execution": {
     "iopub.execute_input": "2020-09-19T13:20:20.934284Z",
     "iopub.status.busy": "2020-09-19T13:20:20.933696Z",
     "iopub.status.idle": "2020-09-19T13:20:20.936925Z",
     "shell.execute_reply": "2020-09-19T13:20:20.936458Z"
    },
    "papermill": {
     "duration": 0.024433,
     "end_time": "2020-09-19T13:20:20.937039",
     "exception": false,
     "start_time": "2020-09-19T13:20:20.912606",
     "status": "completed"
    },
    "tags": []
   },
   "outputs": [
    {
     "data": {
      "text/html": [
       "\n",
       "<!-- #######  HTML!! #########-->\n",
       "<h1 style=\"color: #5e9ca0; text-align: center;\">India</h1>\n",
       "<p style=\"text-align: center;\">Last update: <strong>2020-09-19</strong></p>\n",
       "<p style=\"text-align: center;\">Confirmed cases:</p>\n",
       "<p style=\"text-align: center;font-size:24px;\">5322415 (<span style=\"color: #ff0000;\">+16759</span>)</p>\n",
       "<p style=\"text-align: center;\">Confirmed deaths:</p>\n",
       "<p style=\"text-align: center;font-size:24px;\">85710 (<span style=\"color: #ff0000;\">+85</span>)</p>\n"
      ],
      "text/plain": [
       "<IPython.core.display.HTML object>"
      ]
     },
     "metadata": {},
     "output_type": "display_data"
    }
   ],
   "source": [
    "#hide_input\n",
    "update = summary['updated']\n",
    "cases = summary['Cases']\n",
    "new = summary['Cases (+)']\n",
    "deaths = summary['Deaths']\n",
    "dnew = summary['Deaths (+)']\n",
    "\n",
    "html = HTML(overview.format(update=update, cases=cases,new=new,deaths=deaths,dnew=dnew))\n",
    "\n",
    "display(html)"
   ]
  },
  {
   "cell_type": "code",
   "execution_count": 17,
   "metadata": {
    "execution": {
     "iopub.execute_input": "2020-09-19T13:20:20.975405Z",
     "iopub.status.busy": "2020-09-19T13:20:20.974837Z",
     "iopub.status.idle": "2020-09-19T13:20:20.980375Z",
     "shell.execute_reply": "2020-09-19T13:20:20.980939Z"
    },
    "papermill": {
     "duration": 0.028161,
     "end_time": "2020-09-19T13:20:20.981095",
     "exception": false,
     "start_time": "2020-09-19T13:20:20.952934",
     "status": "completed"
    },
    "tags": []
   },
   "outputs": [],
   "source": [
    "#hide\n",
    "dt_cols = list(dft_cases.columns[1:])\n",
    "dft_ct_new_cases = dft_cases.groupby('state')[dt_cols].sum().diff(axis=1).fillna(0).astype(int)\n",
    "dft_ct_new_cases.sort_values(by = dates[-1], ascending = False,inplace = True)"
   ]
  },
  {
   "cell_type": "code",
   "execution_count": 18,
   "metadata": {
    "execution": {
     "iopub.execute_input": "2020-09-19T13:20:21.029344Z",
     "iopub.status.busy": "2020-09-19T13:20:21.028917Z",
     "iopub.status.idle": "2020-09-19T13:20:21.031350Z",
     "shell.execute_reply": "2020-09-19T13:20:21.030991Z"
    },
    "papermill": {
     "duration": 0.034115,
     "end_time": "2020-09-19T13:20:21.031442",
     "exception": false,
     "start_time": "2020-09-19T13:20:20.997327",
     "status": "completed"
    },
    "tags": []
   },
   "outputs": [
    {
     "data": {
      "text/html": [
       "<div>\n",
       "<style scoped>\n",
       "    .dataframe tbody tr th:only-of-type {\n",
       "        vertical-align: middle;\n",
       "    }\n",
       "\n",
       "    .dataframe tbody tr th {\n",
       "        vertical-align: top;\n",
       "    }\n",
       "\n",
       "    .dataframe thead th {\n",
       "        text-align: right;\n",
       "    }\n",
       "</style>\n",
       "<table border=\"1\" class=\"dataframe\">\n",
       "  <thead>\n",
       "    <tr style=\"text-align: right;\">\n",
       "      <th>states</th>\n",
       "      <th>2020-07-01</th>\n",
       "      <th>2020-07-02</th>\n",
       "      <th>2020-07-03</th>\n",
       "      <th>2020-07-04</th>\n",
       "      <th>2020-07-05</th>\n",
       "      <th>2020-07-06</th>\n",
       "      <th>2020-07-07</th>\n",
       "      <th>2020-07-08</th>\n",
       "      <th>2020-07-09</th>\n",
       "      <th>2020-07-10</th>\n",
       "      <th>...</th>\n",
       "      <th>2020-09-10</th>\n",
       "      <th>2020-09-11</th>\n",
       "      <th>2020-09-12</th>\n",
       "      <th>2020-09-13</th>\n",
       "      <th>2020-09-14</th>\n",
       "      <th>2020-09-15</th>\n",
       "      <th>2020-09-16</th>\n",
       "      <th>2020-09-17</th>\n",
       "      <th>2020-09-18</th>\n",
       "      <th>2020-09-19</th>\n",
       "    </tr>\n",
       "    <tr>\n",
       "      <th>state</th>\n",
       "      <th></th>\n",
       "      <th></th>\n",
       "      <th></th>\n",
       "      <th></th>\n",
       "      <th></th>\n",
       "      <th></th>\n",
       "      <th></th>\n",
       "      <th></th>\n",
       "      <th></th>\n",
       "      <th></th>\n",
       "      <th></th>\n",
       "      <th></th>\n",
       "      <th></th>\n",
       "      <th></th>\n",
       "      <th></th>\n",
       "      <th></th>\n",
       "      <th></th>\n",
       "      <th></th>\n",
       "      <th></th>\n",
       "      <th></th>\n",
       "      <th></th>\n",
       "    </tr>\n",
       "  </thead>\n",
       "  <tbody>\n",
       "    <tr>\n",
       "      <th>Andhra Pradesh</th>\n",
       "      <td>0</td>\n",
       "      <td>845</td>\n",
       "      <td>837</td>\n",
       "      <td>765</td>\n",
       "      <td>998</td>\n",
       "      <td>1322</td>\n",
       "      <td>1178</td>\n",
       "      <td>1062</td>\n",
       "      <td>1555</td>\n",
       "      <td>1608</td>\n",
       "      <td>...</td>\n",
       "      <td>10175</td>\n",
       "      <td>9999</td>\n",
       "      <td>9901</td>\n",
       "      <td>9536</td>\n",
       "      <td>7956</td>\n",
       "      <td>8846</td>\n",
       "      <td>8835</td>\n",
       "      <td>8702</td>\n",
       "      <td>8096</td>\n",
       "      <td>8218</td>\n",
       "    </tr>\n",
       "    <tr>\n",
       "      <th>Odisha</th>\n",
       "      <td>0</td>\n",
       "      <td>229</td>\n",
       "      <td>561</td>\n",
       "      <td>495</td>\n",
       "      <td>469</td>\n",
       "      <td>456</td>\n",
       "      <td>571</td>\n",
       "      <td>527</td>\n",
       "      <td>577</td>\n",
       "      <td>755</td>\n",
       "      <td>...</td>\n",
       "      <td>3991</td>\n",
       "      <td>3996</td>\n",
       "      <td>3777</td>\n",
       "      <td>3913</td>\n",
       "      <td>4198</td>\n",
       "      <td>3645</td>\n",
       "      <td>4270</td>\n",
       "      <td>4241</td>\n",
       "      <td>4180</td>\n",
       "      <td>4209</td>\n",
       "    </tr>\n",
       "    <tr>\n",
       "      <th>Telangana</th>\n",
       "      <td>0</td>\n",
       "      <td>1213</td>\n",
       "      <td>1892</td>\n",
       "      <td>1850</td>\n",
       "      <td>1590</td>\n",
       "      <td>1831</td>\n",
       "      <td>1879</td>\n",
       "      <td>1924</td>\n",
       "      <td>1410</td>\n",
       "      <td>1278</td>\n",
       "      <td>...</td>\n",
       "      <td>2534</td>\n",
       "      <td>2426</td>\n",
       "      <td>2278</td>\n",
       "      <td>2216</td>\n",
       "      <td>1417</td>\n",
       "      <td>2058</td>\n",
       "      <td>2273</td>\n",
       "      <td>2159</td>\n",
       "      <td>2043</td>\n",
       "      <td>2123</td>\n",
       "    </tr>\n",
       "    <tr>\n",
       "      <th>Bihar</th>\n",
       "      <td>0</td>\n",
       "      <td>478</td>\n",
       "      <td>426</td>\n",
       "      <td>349</td>\n",
       "      <td>403</td>\n",
       "      <td>280</td>\n",
       "      <td>385</td>\n",
       "      <td>749</td>\n",
       "      <td>704</td>\n",
       "      <td>352</td>\n",
       "      <td>...</td>\n",
       "      <td>1543</td>\n",
       "      <td>1710</td>\n",
       "      <td>1421</td>\n",
       "      <td>1523</td>\n",
       "      <td>1137</td>\n",
       "      <td>1575</td>\n",
       "      <td>1531</td>\n",
       "      <td>1592</td>\n",
       "      <td>1147</td>\n",
       "      <td>1616</td>\n",
       "    </tr>\n",
       "    <tr>\n",
       "      <th>Tripura</th>\n",
       "      <td>0</td>\n",
       "      <td>39</td>\n",
       "      <td>93</td>\n",
       "      <td>25</td>\n",
       "      <td>23</td>\n",
       "      <td>111</td>\n",
       "      <td>24</td>\n",
       "      <td>57</td>\n",
       "      <td>16</td>\n",
       "      <td>142</td>\n",
       "      <td>...</td>\n",
       "      <td>535</td>\n",
       "      <td>559</td>\n",
       "      <td>470</td>\n",
       "      <td>629</td>\n",
       "      <td>255</td>\n",
       "      <td>531</td>\n",
       "      <td>454</td>\n",
       "      <td>527</td>\n",
       "      <td>273</td>\n",
       "      <td>535</td>\n",
       "    </tr>\n",
       "  </tbody>\n",
       "</table>\n",
       "<p>5 rows × 81 columns</p>\n",
       "</div>"
      ],
      "text/plain": [
       "states          2020-07-01  2020-07-02  2020-07-03  2020-07-04  2020-07-05  \\\n",
       "state                                                                        \n",
       "Andhra Pradesh           0         845         837         765         998   \n",
       "Odisha                   0         229         561         495         469   \n",
       "Telangana                0        1213        1892        1850        1590   \n",
       "Bihar                    0         478         426         349         403   \n",
       "Tripura                  0          39          93          25          23   \n",
       "\n",
       "states          2020-07-06  2020-07-07  2020-07-08  2020-07-09  2020-07-10  \\\n",
       "state                                                                        \n",
       "Andhra Pradesh        1322        1178        1062        1555        1608   \n",
       "Odisha                 456         571         527         577         755   \n",
       "Telangana             1831        1879        1924        1410        1278   \n",
       "Bihar                  280         385         749         704         352   \n",
       "Tripura                111          24          57          16         142   \n",
       "\n",
       "states          ...  2020-09-10  2020-09-11  2020-09-12  2020-09-13  \\\n",
       "state           ...                                                   \n",
       "Andhra Pradesh  ...       10175        9999        9901        9536   \n",
       "Odisha          ...        3991        3996        3777        3913   \n",
       "Telangana       ...        2534        2426        2278        2216   \n",
       "Bihar           ...        1543        1710        1421        1523   \n",
       "Tripura         ...         535         559         470         629   \n",
       "\n",
       "states          2020-09-14  2020-09-15  2020-09-16  2020-09-17  2020-09-18  \\\n",
       "state                                                                        \n",
       "Andhra Pradesh        7956        8846        8835        8702        8096   \n",
       "Odisha                4198        3645        4270        4241        4180   \n",
       "Telangana             1417        2058        2273        2159        2043   \n",
       "Bihar                 1137        1575        1531        1592        1147   \n",
       "Tripura                255         531         454         527         273   \n",
       "\n",
       "states          2020-09-19  \n",
       "state                       \n",
       "Andhra Pradesh        8218  \n",
       "Odisha                4209  \n",
       "Telangana             2123  \n",
       "Bihar                 1616  \n",
       "Tripura                535  \n",
       "\n",
       "[5 rows x 81 columns]"
      ]
     },
     "execution_count": 18,
     "metadata": {},
     "output_type": "execute_result"
    }
   ],
   "source": [
    "#hide\n",
    "dft_ct_new_cases.head()"
   ]
  },
  {
   "cell_type": "code",
   "execution_count": 19,
   "metadata": {
    "execution": {
     "iopub.execute_input": "2020-09-19T13:20:21.083811Z",
     "iopub.status.busy": "2020-09-19T13:20:21.067517Z",
     "iopub.status.idle": "2020-09-19T13:20:24.164888Z",
     "shell.execute_reply": "2020-09-19T13:20:24.165342Z"
    },
    "papermill": {
     "duration": 3.120102,
     "end_time": "2020-09-19T13:20:24.165499",
     "exception": false,
     "start_time": "2020-09-19T13:20:21.045397",
     "status": "completed"
    },
    "tags": []
   },
   "outputs": [
    {
     "data": {
      "image/png": "[encoded data removed]",
      "text/plain": [
       "<Figure size 1296x2016 with 11 Axes>"
      ]
     },
     "metadata": {
      "needs_background": "light"
     },
     "output_type": "display_data"
    }
   ],
   "source": [
    "#hide_input\n",
    "df = dft_ct_new_cases.copy()\n",
    "df.loc['Total'] = df.sum()\n",
    "n = 5\n",
    "ax = []\n",
    "fig = plt.figure(figsize = (18,28))\n",
    "gs = fig.add_gridspec(n+2, 5)\n",
    "# gs = fig.add_gridspec(2, 3)\n",
    "ax1 = fig.add_subplot(gs[0, :])\n",
    "ef = df.loc['Total'].rename_axis('date').reset_index()\n",
    "ef['date'] = ef['date'].astype('datetime64[ns]')\n",
    "ax1.bar(ef.date,ef.Total,alpha=0.3,color='#007acc')\n",
    "ax1.plot(ef.date,ef.Total , marker=\"o\", color='#007acc')\n",
    "ax1.xaxis.set_major_locator(mdates.WeekdayLocator())\n",
    "ax1.xaxis.set_major_formatter(mdates.DateFormatter('%b %d'))\n",
    "ax1.text(0.02, 0.5,'India daily case count', transform = ax1.transAxes, fontsize=25);\n",
    "ax1.spines['right'].set_visible(False)\n",
    "ax1.spines['top'].set_visible(False)\n",
    "\n",
    "ax2 = fig.add_subplot(gs[1,0])\n",
    "ef = df.loc['Maharashtra'].rename_axis('date').reset_index()\n",
    "ef['date'] = ef['date'].astype('datetime64[ns]')\n",
    "\n",
    "ax2.bar(ef.date, ef.Maharashtra,color = '#007acc',alpha=0.5)\n",
    "ax2.xaxis.set_major_locator(mdates.WeekdayLocator())\n",
    "ax2.xaxis.set_major_formatter(mdates.DateFormatter('%b %d'))\n",
    "ax2.set_xticks(ax2.get_xticks()[::3])\n",
    "maxyval = ef.Maharashtra.max()\n",
    "ax2.set_ylim([0,maxyval])\n",
    "ax2.text(0.05, 0.9,'Maharashtra', transform = ax2.transAxes, fontsize=20);\n",
    "ax2.spines['right'].set_visible(False)\n",
    "ax2.spines['top'].set_visible(False)\n",
    "\n",
    "\n",
    "ax3 = fig.add_subplot(gs[1,1])\n",
    "ef = df.loc['Tamil Nadu'].rename_axis('date').reset_index()\n",
    "ef['date'] = ef['date'].astype('datetime64[ns]')\n",
    "ax3.bar(ef.date, ef['Tamil Nadu'],color = '#007acc',alpha=0.5,)\n",
    "ax3.xaxis.set_major_locator(mdates.WeekdayLocator())\n",
    "ax3.xaxis.set_major_formatter(mdates.DateFormatter('%b %d'))\n",
    "ax3.set_xticks(ax3.get_xticks()[::3])\n",
    "ax3.text(0.05, 0.9,'Tamil Nadu', transform = ax3.transAxes, fontsize=20);\n",
    "ax3.spines['right'].set_visible(False)\n",
    "ax3.spines['top'].set_visible(False)\n",
    "\n",
    "ax5 = fig.add_subplot(gs[1,3])\n",
    "ef = df.loc['Telangana'].rename_axis('date').reset_index()\n",
    "ef['date'] = ef['date'].astype('datetime64[ns]')\n",
    "ax5.bar(ef.date, ef['Telangana'],color = '#007acc',alpha=0.5,)\n",
    "ax5.xaxis.set_major_locator(mdates.WeekdayLocator())\n",
    "ax5.xaxis.set_major_formatter(mdates.DateFormatter('%b %d'))\n",
    "ax5.set_xticks(ax5.get_xticks()[::3])\n",
    "ax5.text(0.05, 0.9,'Telangana', transform = ax5.transAxes, fontsize=20);\n",
    "ax5.spines['right'].set_visible(False)\n",
    "ax5.spines['top'].set_visible(False)\n",
    "\n",
    "ax6 = fig.add_subplot(gs[1,4])\n",
    "ef = df.loc['Andhra Pradesh'].rename_axis('date').reset_index()\n",
    "ef['date'] = ef['date'].astype('datetime64[ns]')\n",
    "ax6.bar(ef.date, ef['Andhra Pradesh'],color = '#007acc',alpha=0.5,)\n",
    "ax6.xaxis.set_major_locator(mdates.WeekdayLocator())\n",
    "ax6.xaxis.set_major_formatter(mdates.DateFormatter('%b %d'))\n",
    "ax6.set_xticks(ax6.get_xticks()[::3])\n",
    "ax6.text(0.05, 1,'Andhra Pradesh', transform = ax6.transAxes, fontsize=20);\n",
    "ax6.spines['right'].set_visible(False)\n",
    "ax6.spines['top'].set_visible(False)\n",
    "\n",
    "ax4 = fig.add_subplot(gs[1,2])\n",
    "ef = df.loc['Delhi'].rename_axis('date').reset_index()\n",
    "ef['date'] = ef['date'].astype('datetime64[ns]')\n",
    "ax4.bar(ef.date, ef.Delhi,color = '#007acc',alpha=0.5)\n",
    "ax4.set_xticks([])\n",
    "ax4.xaxis.set_major_locator(mdates.WeekdayLocator())\n",
    "ax4.xaxis.set_major_formatter(mdates.DateFormatter('%b %d'))\n",
    "ax4.set_xticks(ax4.get_xticks()[::3])\n",
    "ax4.spines['right'].set_visible(False)\n",
    "ax4.spines['top'].set_visible(False)\n",
    "\n",
    "ax4.text(0.05, 1,'Delhi', transform = ax4.transAxes, fontsize=20)\n",
    "\n",
    "for i in range(n):\n",
    "    \n",
    "    ax.append(fig.add_subplot(gs[i+2,:]))\n",
    "    ef = df.iloc[i+3].rename_axis('date').reset_index()\n",
    "    ef['date'] = ef['date'].astype('datetime64[ns]')\n",
    "    ax[i].bar(ef.date,ef.iloc[:,-1],color = '#007acc',alpha=0.3)\n",
    "    ax[i].plot(ef.date,ef.iloc[:,-1],marker='o',color='#007acc')\n",
    "    ax[i].text(0.02,0.5,f'{ef.columns.values[-1]}',transform = ax[i].transAxes, fontsize = 20);\n",
    "    ax[i].xaxis.set_major_locator(mdates.WeekdayLocator())\n",
    "    ax[i].xaxis.set_major_formatter(mdates.DateFormatter('%b %d'))\n",
    "    ax[i].set_ylim([0,7000])\n",
    "    ax[i].spines['right'].set_visible(False)\n",
    "    ax[i].spines['top'].set_visible(False)\n",
    "plt.tight_layout()\n"
   ]
  },
  {
   "cell_type": "code",
   "execution_count": 20,
   "metadata": {
    "execution": {
     "iopub.execute_input": "2020-09-19T13:20:24.213210Z",
     "iopub.status.busy": "2020-09-19T13:20:24.212754Z",
     "iopub.status.idle": "2020-09-19T13:20:24.216693Z",
     "shell.execute_reply": "2020-09-19T13:20:24.217013Z"
    },
    "papermill": {
     "duration": 0.031457,
     "end_time": "2020-09-19T13:20:24.217127",
     "exception": false,
     "start_time": "2020-09-19T13:20:24.185670",
     "status": "completed"
    },
    "tags": []
   },
   "outputs": [
    {
     "name": "stdout",
     "output_type": "stream",
     "text": [
      "                                   states    Cases  Deaths   PCases  PDeaths  Cases (+)  Deaths (+)  Fatality Rate\n",
      "                              Maharashtra  1167496   31791  1167496    31791          0           0           2.72\n",
      "                           Andhra Pradesh   617776    5302   609558     5244       8218          58           0.86\n",
      "                               Tamil Nadu   530908    8685   530908     8685          0           0           1.64\n",
      "                                Karnataka   502982    7808   502982     7808          0           0           1.55\n",
      "                            Uttar Pradesh   342788    4869   342788     4869          0           0           1.42\n",
      "                                    Delhi   238828    4907   238828     4907          0           0           2.05\n",
      "                              West Bengal   218772    4242   218772     4242          0           0           1.94\n",
      "                                   Odisha   175550     744   171341      735       4209           9           0.42\n",
      "                                Telangana   169169    1025   167046     1016       2123           9           0.61\n",
      "                                    Bihar   166987     861   165371      859       1616           2           0.52\n",
      "                                    Assam   152858     540   152858      540          0           0           0.35\n",
      "                                   Kerala   126383     502   126383      502          0           0           0.40\n",
      "                                  Gujarat   120498    3287   120498     3287          0           0           2.73\n",
      "                                Rajasthan   111290    1308   111290     1308          0           0           1.18\n",
      "                                  Haryana   106261    1092   106261     1092          0           0           1.03\n",
      "                           Madhya Pradesh   100458    1901   100458     1901          0           0           1.89\n",
      "                                   Punjab    92806    2706    92806     2706          0           0           2.92\n",
      "                             Chhattisgarh    81617     645    81617      645          0           0           0.79\n",
      "                                Jharkhand    68578     602    68578      602          0           0           0.88\n",
      "                        Jammu and Kashmir    61041     966    61041      966          0           0           1.58\n",
      "                              Uttarakhand    38007     464    38007      464          0           0           1.22\n",
      "                                      Goa    27379     335    27379      335          0           0           1.22\n",
      "                               Puducherry    21913     437    21913      437          0           0           1.99\n",
      "                                  Tripura    21504     235    20969      228        535           7           1.09\n",
      "                         Himachal Pradesh    11622     109    11622      109          0           0           0.94\n",
      "                               Chandigarh     9516     110     9516      110          0           0           1.16\n",
      "                                  Manipur     8607      52     8607       52          0           0           0.60\n",
      "                        Arunachal Pradesh     7005      13     7005       13          0           0           0.19\n",
      "                                 Nagaland     5392      10     5357       10         35           0           0.19\n",
      "                                Meghalaya     4447      34     4447       34          0           0           0.76\n",
      "                                   Ladakh     3635      48     3635       48          0           0           1.32\n",
      "              Andaman and Nicobar Islands     3631      52     3631       52          0           0           1.43\n",
      " Dadra and Nagar Haveli and Daman and Diu     2860       2     2851        2          9           0           0.07\n",
      "                                   Sikkim     2303      26     2303       26          0           0           1.13\n",
      "                                  Mizoram     1548       0     1534        0         14           0           0.00\n",
      "                              Lakshadweep        0       0        0        0          0           0            NaN\n"
     ]
    }
   ],
   "source": [
    "#hide_input\n",
    "print(df_table.to_string(index=False))"
   ]
  },
  {
   "cell_type": "code",
   "execution_count": null,
   "metadata": {
    "papermill": {
     "duration": 0.018715,
     "end_time": "2020-09-19T13:20:24.255512",
     "exception": false,
     "start_time": "2020-09-19T13:20:24.236797",
     "status": "completed"
    },
    "tags": []
   },
   "outputs": [],
   "source": []
  },
  {
   "cell_type": "code",
   "execution_count": null,
   "metadata": {
    "papermill": {
     "duration": 0.019099,
     "end_time": "2020-09-19T13:20:24.295242",
     "exception": false,
     "start_time": "2020-09-19T13:20:24.276143",
     "status": "completed"
    },
    "tags": []
   },
   "outputs": [],
   "source": []
  }
 ],
 "metadata": {
  "kernelspec": {
   "display_name": "Python 3",
   "language": "python",
   "name": "python3"
  },
  "language_info": {
   "codemirror_mode": {
    "name": "ipython",
    "version": 3
   },
   "file_extension": ".py",
   "mimetype": "text/x-python",
   "name": "python",
   "nbconvert_exporter": "python",
   "pygments_lexer": "ipython3",
   "version": "3.6.12"
  },
  "papermill": {
   "duration": 8.183066,
   "end_time": "2020-09-19T13:20:24.724133",
   "environment_variables": {},
   "exception": null,
   "input_path": "latest.ipynb",
   "output_path": "latest.ipynb",
   "parameters": {},
   "start_time": "2020-09-19T13:20:16.541067",
   "version": "2.1.2"
  }
 },
 "nbformat": 4,
 "nbformat_minor": 4
}