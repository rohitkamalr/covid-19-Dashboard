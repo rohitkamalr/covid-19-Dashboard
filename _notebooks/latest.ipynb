{
 "cells": [
  {
   "cell_type": "markdown",
   "metadata": {
    "papermill": {
     "duration": 0.022487,
     "end_time": "2020-09-29T05:38:56.987340",
     "exception": false,
     "start_time": "2020-09-29T05:38:56.964853",
     "status": "completed"
    },
    "tags": []
   },
   "source": [
    "# Latest COVID-19 India Matplotlib Overview"
   ]
  },
  {
   "cell_type": "code",
   "execution_count": 1,
   "metadata": {
    "execution": {
     "iopub.execute_input": "2020-09-29T05:38:57.031378Z",
     "iopub.status.busy": "2020-09-29T05:38:57.030732Z",
     "iopub.status.idle": "2020-09-29T05:38:57.655135Z",
     "shell.execute_reply": "2020-09-29T05:38:57.654507Z"
    },
    "papermill": {
     "duration": 0.648772,
     "end_time": "2020-09-29T05:38:57.655318",
     "exception": false,
     "start_time": "2020-09-29T05:38:57.006546",
     "status": "completed"
    },
    "tags": []
   },
   "outputs": [],
   "source": [
    "#hide\n",
    "import pandas as pd\n",
    "import numpy as np\n",
    "import requests\n",
    "import json\n",
    "import matplotlib.pyplot as plt\n",
    "import matplotlib.dates as mdates\n",
    "import matplotlib as mpl\n",
    "from IPython.core.display import display,HTML\n",
    "%matplotlib inline\n",
    "from datetime import date"
   ]
  },
  {
   "cell_type": "code",
   "execution_count": 2,
   "metadata": {
    "execution": {
     "iopub.execute_input": "2020-09-29T05:38:57.702617Z",
     "iopub.status.busy": "2020-09-29T05:38:57.701728Z",
     "iopub.status.idle": "2020-09-29T05:38:58.074087Z",
     "shell.execute_reply": "2020-09-29T05:38:58.073431Z"
    },
    "papermill": {
     "duration": 0.400158,
     "end_time": "2020-09-29T05:38:58.074251",
     "exception": false,
     "start_time": "2020-09-29T05:38:57.674093",
     "status": "completed"
    },
    "tags": []
   },
   "outputs": [],
   "source": [
    "#hide\n",
    "df  = pd.read_csv('https://api.covid19india.org/csv/latest/states.csv')\n",
    "df = df[['Date','State','Confirmed','Deceased']]\n",
    "df = df.rename(columns={'Confirmed':'Cases', \"Deceased\":'Deaths'})\n",
    "df_cases = df[[\"Date\",'State','Cases']]\n",
    "df_deaths = df[['Date','State','Deaths']]\n",
    "df_cases1 = df_cases.groupby('Date')\n",
    "df_deaths1= df_deaths.groupby('Date')"
   ]
  },
  {
   "cell_type": "code",
   "execution_count": 3,
   "metadata": {
    "execution": {
     "iopub.execute_input": "2020-09-29T05:38:58.118387Z",
     "iopub.status.busy": "2020-09-29T05:38:58.117201Z",
     "iopub.status.idle": "2020-09-29T05:38:58.138017Z",
     "shell.execute_reply": "2020-09-29T05:38:58.137425Z"
    },
    "papermill": {
     "duration": 0.045597,
     "end_time": "2020-09-29T05:38:58.138172",
     "exception": false,
     "start_time": "2020-09-29T05:38:58.092575",
     "status": "completed"
    },
    "tags": []
   },
   "outputs": [],
   "source": [
    "#hide\n",
    "df_snap = pd.read_csv('data/SnapshotCases-28-July.csv')\n",
    "arr_states = df_snap['states'].unique()\n",
    "arr_dates = df['Date'].unique()\n",
    "df_snap = df_snap.set_index('states')"
   ]
  },
  {
   "cell_type": "code",
   "execution_count": 4,
   "metadata": {
    "execution": {
     "iopub.execute_input": "2020-09-29T05:38:58.184038Z",
     "iopub.status.busy": "2020-09-29T05:38:58.183312Z",
     "iopub.status.idle": "2020-09-29T05:38:58.186989Z",
     "shell.execute_reply": "2020-09-29T05:38:58.186379Z"
    },
    "papermill": {
     "duration": 0.02961,
     "end_time": "2020-09-29T05:38:58.187140",
     "exception": false,
     "start_time": "2020-09-29T05:38:58.157530",
     "status": "completed"
    },
    "tags": []
   },
   "outputs": [
    {
     "data": {
      "text/plain": [
       "array(['Andaman and Nicobar Islands', 'Andhra Pradesh',\n",
       "       'Arunachal Pradesh', 'Assam', 'Bihar', 'Chandigarh',\n",
       "       'Dadra and Nagar Haveli and Daman and Diu', 'Delhi', 'Goa',\n",
       "       'Gujarat', 'Haryana', 'Himachal Pradesh', 'Jammu and Kashmir',\n",
       "       'Jharkhand', 'Karnataka', 'Kerala', 'Lakshadweep',\n",
       "       'Madhya Pradesh', 'Maharashtra', 'Manipur', 'Meghalaya', 'Mizoram',\n",
       "       'Nagaland', 'Odisha', 'Puducherry', 'Punjab', 'Rajasthan',\n",
       "       'Sikkim', 'Tamil Nadu', 'Telangana', 'Tripura', 'Uttar Pradesh',\n",
       "       'West Bengal', 'Chhattisgarh', 'Ladakh', 'Uttarakhand'],\n",
       "      dtype=object)"
      ]
     },
     "execution_count": 4,
     "metadata": {},
     "output_type": "execute_result"
    }
   ],
   "source": [
    "#hide\n",
    "arr_states[-9] = 'Puducherry'\n",
    "arr_states[-10] = 'Odisha'\n",
    "arr_states[6] = 'Dadra and Nagar Haveli and Daman and Diu'\n",
    "arr_states = np.append(arr_states,np.array(['Chhattisgarh','Ladakh','Uttarakhand']))\n",
    "arr_states"
   ]
  },
  {
   "cell_type": "code",
   "execution_count": 5,
   "metadata": {
    "execution": {
     "iopub.execute_input": "2020-09-29T05:38:58.240721Z",
     "iopub.status.busy": "2020-09-29T05:38:58.239993Z",
     "iopub.status.idle": "2020-09-29T05:38:58.248610Z",
     "shell.execute_reply": "2020-09-29T05:38:58.249190Z"
    },
    "papermill": {
     "duration": 0.040144,
     "end_time": "2020-09-29T05:38:58.249366",
     "exception": false,
     "start_time": "2020-09-29T05:38:58.209222",
     "status": "completed"
    },
    "tags": []
   },
   "outputs": [],
   "source": [
    "#hide\n",
    "dates = []\n",
    "for i in arr_dates:\n",
    "    if i>='2020-07-01':\n",
    "        dates.append(i)\n",
    "dict = {'states':dates}\n",
    "for i in arr_states:\n",
    "    dict[i] = [0]*len(dates)\n",
    "dft_cases = pd.DataFrame(dict)\n",
    "dft_deaths = pd.DataFrame(dict)\n"
   ]
  },
  {
   "cell_type": "code",
   "execution_count": 6,
   "metadata": {
    "execution": {
     "iopub.execute_input": "2020-09-29T05:38:58.290742Z",
     "iopub.status.busy": "2020-09-29T05:38:58.290086Z",
     "iopub.status.idle": "2020-09-29T05:39:00.030411Z",
     "shell.execute_reply": "2020-09-29T05:39:00.029796Z"
    },
    "papermill": {
     "duration": 1.763184,
     "end_time": "2020-09-29T05:39:00.030572",
     "exception": false,
     "start_time": "2020-09-29T05:38:58.267388",
     "status": "completed"
    },
    "tags": []
   },
   "outputs": [],
   "source": [
    "#hide\n",
    "for i in range(len(dates)):\n",
    "    df1_deaths = df_deaths1.get_group(dates[i])\n",
    "    for j in range(len(df1_deaths.index)):\n",
    "        if df1_deaths.iloc[j,1] in arr_states:\n",
    "            dft_deaths.loc[i,df1_deaths.iloc[j,1]] = df1_deaths.iloc[j,2]\n",
    "dft_deaths = dft_deaths.set_index('states')"
   ]
  },
  {
   "cell_type": "code",
   "execution_count": 7,
   "metadata": {
    "execution": {
     "iopub.execute_input": "2020-09-29T05:39:00.126785Z",
     "iopub.status.busy": "2020-09-29T05:39:00.126057Z",
     "iopub.status.idle": "2020-09-29T05:39:01.873000Z",
     "shell.execute_reply": "2020-09-29T05:39:01.872056Z"
    },
    "papermill": {
     "duration": 1.82258,
     "end_time": "2020-09-29T05:39:01.873165",
     "exception": false,
     "start_time": "2020-09-29T05:39:00.050585",
     "status": "completed"
    },
    "tags": []
   },
   "outputs": [],
   "source": [
    "#hide\n",
    "for i in range(len(dates)):\n",
    "    df1_cases = df_cases1.get_group(dates[i])\n",
    "    for j in range(len(df1_cases.index)):\n",
    "        if df1_cases.iloc[j,1] in arr_states:\n",
    "            dft_cases.loc[i,df1_cases.iloc[j,1]] = df1_cases.iloc[j,2]\n",
    "dft_cases = dft_cases.set_index('states')"
   ]
  },
  {
   "cell_type": "code",
   "execution_count": 8,
   "metadata": {
    "execution": {
     "iopub.execute_input": "2020-09-29T05:39:01.915457Z",
     "iopub.status.busy": "2020-09-29T05:39:01.914773Z",
     "iopub.status.idle": "2020-09-29T05:39:01.918560Z",
     "shell.execute_reply": "2020-09-29T05:39:01.917934Z"
    },
    "papermill": {
     "duration": 0.028241,
     "end_time": "2020-09-29T05:39:01.918698",
     "exception": false,
     "start_time": "2020-09-29T05:39:01.890457",
     "status": "completed"
    },
    "tags": []
   },
   "outputs": [],
   "source": [
    "#hide\n",
    "dft_cases = dft_cases.T\n",
    "dft_deaths = dft_deaths.T\n",
    "dt_today = dates[-1]\n",
    "dt_yday = dates[-2]"
   ]
  },
  {
   "cell_type": "code",
   "execution_count": 9,
   "metadata": {
    "execution": {
     "iopub.execute_input": "2020-09-29T05:39:01.959759Z",
     "iopub.status.busy": "2020-09-29T05:39:01.957807Z",
     "iopub.status.idle": "2020-09-29T05:39:01.961753Z",
     "shell.execute_reply": "2020-09-29T05:39:01.962396Z"
    },
    "papermill": {
     "duration": 0.02757,
     "end_time": "2020-09-29T05:39:01.962548",
     "exception": false,
     "start_time": "2020-09-29T05:39:01.934978",
     "status": "completed"
    },
    "tags": []
   },
   "outputs": [],
   "source": [
    "#hide\n",
    "dft_cases = dft_cases.reset_index()\n",
    "dft_deaths = dft_deaths.reset_index()\n",
    "dft_cases = dft_cases.rename(columns = {'index':'state'})\n",
    "dft_deaths = dft_deaths.rename(columns = {'index':'state'})"
   ]
  },
  {
   "cell_type": "code",
   "execution_count": 10,
   "metadata": {
    "execution": {
     "iopub.execute_input": "2020-09-29T05:39:02.005568Z",
     "iopub.status.busy": "2020-09-29T05:39:02.004911Z",
     "iopub.status.idle": "2020-09-29T05:39:02.009616Z",
     "shell.execute_reply": "2020-09-29T05:39:02.007966Z"
    },
    "papermill": {
     "duration": 0.031289,
     "end_time": "2020-09-29T05:39:02.009765",
     "exception": false,
     "start_time": "2020-09-29T05:39:01.978476",
     "status": "completed"
    },
    "tags": []
   },
   "outputs": [],
   "source": [
    "#hide\n",
    "dfc_cases = dft_cases.groupby('state')[dt_today].sum()\n",
    "dfc_deaths = dft_deaths.groupby('state')[dt_today].sum()\n",
    "dfp_cases = dft_cases.groupby('state')[dt_yday].sum()\n",
    "dfp_deaths = dft_deaths.groupby('state')[dt_yday].sum()"
   ]
  },
  {
   "cell_type": "code",
   "execution_count": 11,
   "metadata": {
    "execution": {
     "iopub.execute_input": "2020-09-29T05:39:02.058911Z",
     "iopub.status.busy": "2020-09-29T05:39:02.058267Z",
     "iopub.status.idle": "2020-09-29T05:39:02.064694Z",
     "shell.execute_reply": "2020-09-29T05:39:02.065384Z"
    },
    "papermill": {
     "duration": 0.038851,
     "end_time": "2020-09-29T05:39:02.065567",
     "exception": false,
     "start_time": "2020-09-29T05:39:02.026716",
     "status": "completed"
    },
    "tags": []
   },
   "outputs": [
    {
     "data": {
      "text/html": [
       "<div>\n",
       "<style scoped>\n",
       "    .dataframe tbody tr th:only-of-type {\n",
       "        vertical-align: middle;\n",
       "    }\n",
       "\n",
       "    .dataframe tbody tr th {\n",
       "        vertical-align: top;\n",
       "    }\n",
       "\n",
       "    .dataframe thead th {\n",
       "        text-align: right;\n",
       "    }\n",
       "</style>\n",
       "<table border=\"1\" class=\"dataframe\">\n",
       "  <thead>\n",
       "    <tr style=\"text-align: right;\">\n",
       "      <th></th>\n",
       "      <th>states</th>\n",
       "      <th>Cases</th>\n",
       "      <th>Deaths</th>\n",
       "      <th>PCases</th>\n",
       "      <th>PDeaths</th>\n",
       "    </tr>\n",
       "  </thead>\n",
       "  <tbody>\n",
       "    <tr>\n",
       "      <th>0</th>\n",
       "      <td>Maharashtra</td>\n",
       "      <td>1351153</td>\n",
       "      <td>35751</td>\n",
       "      <td>1351153</td>\n",
       "      <td>35751</td>\n",
       "    </tr>\n",
       "    <tr>\n",
       "      <th>1</th>\n",
       "      <td>Andhra Pradesh</td>\n",
       "      <td>681161</td>\n",
       "      <td>5745</td>\n",
       "      <td>681161</td>\n",
       "      <td>5745</td>\n",
       "    </tr>\n",
       "    <tr>\n",
       "      <th>2</th>\n",
       "      <td>Tamil Nadu</td>\n",
       "      <td>586397</td>\n",
       "      <td>9383</td>\n",
       "      <td>586397</td>\n",
       "      <td>9383</td>\n",
       "    </tr>\n",
       "    <tr>\n",
       "      <th>3</th>\n",
       "      <td>Karnataka</td>\n",
       "      <td>582458</td>\n",
       "      <td>8641</td>\n",
       "      <td>582458</td>\n",
       "      <td>8641</td>\n",
       "    </tr>\n",
       "    <tr>\n",
       "      <th>4</th>\n",
       "      <td>Uttar Pradesh</td>\n",
       "      <td>390875</td>\n",
       "      <td>5652</td>\n",
       "      <td>390875</td>\n",
       "      <td>5652</td>\n",
       "    </tr>\n",
       "  </tbody>\n",
       "</table>\n",
       "</div>"
      ],
      "text/plain": [
       "           states    Cases  Deaths   PCases  PDeaths\n",
       "0     Maharashtra  1351153   35751  1351153    35751\n",
       "1  Andhra Pradesh   681161    5745   681161     5745\n",
       "2      Tamil Nadu   586397    9383   586397     9383\n",
       "3       Karnataka   582458    8641   582458     8641\n",
       "4   Uttar Pradesh   390875    5652   390875     5652"
      ]
     },
     "execution_count": 11,
     "metadata": {},
     "output_type": "execute_result"
    }
   ],
   "source": [
    "#hide\n",
    "df_table = pd.DataFrame({'states': dfc_cases.index, 'Cases': dfc_cases.values, 'Deaths': dfc_deaths.values, 'PCases': dfp_cases.values, 'PDeaths': dfp_deaths.values}).set_index('states')\n",
    "df_table = df_table.sort_values(by = ['Cases','Deaths'], ascending = [False, False])\n",
    "df_table = df_table.reset_index()\n",
    "df_table.head()"
   ]
  },
  {
   "cell_type": "code",
   "execution_count": 12,
   "metadata": {
    "execution": {
     "iopub.execute_input": "2020-09-29T05:39:02.104760Z",
     "iopub.status.busy": "2020-09-29T05:39:02.104114Z",
     "iopub.status.idle": "2020-09-29T05:39:02.113242Z",
     "shell.execute_reply": "2020-09-29T05:39:02.113757Z"
    },
    "papermill": {
     "duration": 0.032393,
     "end_time": "2020-09-29T05:39:02.113933",
     "exception": false,
     "start_time": "2020-09-29T05:39:02.081540",
     "status": "completed"
    },
    "tags": []
   },
   "outputs": [],
   "source": [
    "#hide\n",
    "for c in 'Cases, Deaths'.split(', '):\n",
    "    df_table[f'{c} (+)'] = (df_table[c] - df_table[f'P{c}']).clip(0)\n",
    "df_table['Fatality Rate'] = (100* df_table['Deaths']/ df_table['Cases']).round(2)"
   ]
  },
  {
   "cell_type": "code",
   "execution_count": 13,
   "metadata": {
    "execution": {
     "iopub.execute_input": "2020-09-29T05:39:02.161270Z",
     "iopub.status.busy": "2020-09-29T05:39:02.160610Z",
     "iopub.status.idle": "2020-09-29T05:39:02.164449Z",
     "shell.execute_reply": "2020-09-29T05:39:02.163872Z"
    },
    "papermill": {
     "duration": 0.033703,
     "end_time": "2020-09-29T05:39:02.164585",
     "exception": false,
     "start_time": "2020-09-29T05:39:02.130882",
     "status": "completed"
    },
    "tags": []
   },
   "outputs": [
    {
     "data": {
      "text/html": [
       "<div>\n",
       "<style scoped>\n",
       "    .dataframe tbody tr th:only-of-type {\n",
       "        vertical-align: middle;\n",
       "    }\n",
       "\n",
       "    .dataframe tbody tr th {\n",
       "        vertical-align: top;\n",
       "    }\n",
       "\n",
       "    .dataframe thead th {\n",
       "        text-align: right;\n",
       "    }\n",
       "</style>\n",
       "<table border=\"1\" class=\"dataframe\">\n",
       "  <thead>\n",
       "    <tr style=\"text-align: right;\">\n",
       "      <th></th>\n",
       "      <th>states</th>\n",
       "      <th>Cases</th>\n",
       "      <th>Deaths</th>\n",
       "      <th>PCases</th>\n",
       "      <th>PDeaths</th>\n",
       "      <th>Cases (+)</th>\n",
       "      <th>Deaths (+)</th>\n",
       "      <th>Fatality Rate</th>\n",
       "    </tr>\n",
       "  </thead>\n",
       "  <tbody>\n",
       "    <tr>\n",
       "      <th>0</th>\n",
       "      <td>Maharashtra</td>\n",
       "      <td>1351153</td>\n",
       "      <td>35751</td>\n",
       "      <td>1351153</td>\n",
       "      <td>35751</td>\n",
       "      <td>0</td>\n",
       "      <td>0</td>\n",
       "      <td>2.65</td>\n",
       "    </tr>\n",
       "    <tr>\n",
       "      <th>1</th>\n",
       "      <td>Andhra Pradesh</td>\n",
       "      <td>681161</td>\n",
       "      <td>5745</td>\n",
       "      <td>681161</td>\n",
       "      <td>5745</td>\n",
       "      <td>0</td>\n",
       "      <td>0</td>\n",
       "      <td>0.84</td>\n",
       "    </tr>\n",
       "    <tr>\n",
       "      <th>2</th>\n",
       "      <td>Tamil Nadu</td>\n",
       "      <td>586397</td>\n",
       "      <td>9383</td>\n",
       "      <td>586397</td>\n",
       "      <td>9383</td>\n",
       "      <td>0</td>\n",
       "      <td>0</td>\n",
       "      <td>1.60</td>\n",
       "    </tr>\n",
       "    <tr>\n",
       "      <th>3</th>\n",
       "      <td>Karnataka</td>\n",
       "      <td>582458</td>\n",
       "      <td>8641</td>\n",
       "      <td>582458</td>\n",
       "      <td>8641</td>\n",
       "      <td>0</td>\n",
       "      <td>0</td>\n",
       "      <td>1.48</td>\n",
       "    </tr>\n",
       "    <tr>\n",
       "      <th>4</th>\n",
       "      <td>Uttar Pradesh</td>\n",
       "      <td>390875</td>\n",
       "      <td>5652</td>\n",
       "      <td>390875</td>\n",
       "      <td>5652</td>\n",
       "      <td>0</td>\n",
       "      <td>0</td>\n",
       "      <td>1.45</td>\n",
       "    </tr>\n",
       "  </tbody>\n",
       "</table>\n",
       "</div>"
      ],
      "text/plain": [
       "           states    Cases  Deaths   PCases  PDeaths  Cases (+)  Deaths (+)  \\\n",
       "0     Maharashtra  1351153   35751  1351153    35751          0           0   \n",
       "1  Andhra Pradesh   681161    5745   681161     5745          0           0   \n",
       "2      Tamil Nadu   586397    9383   586397     9383          0           0   \n",
       "3       Karnataka   582458    8641   582458     8641          0           0   \n",
       "4   Uttar Pradesh   390875    5652   390875     5652          0           0   \n",
       "\n",
       "   Fatality Rate  \n",
       "0           2.65  \n",
       "1           0.84  \n",
       "2           1.60  \n",
       "3           1.48  \n",
       "4           1.45  "
      ]
     },
     "execution_count": 13,
     "metadata": {},
     "output_type": "execute_result"
    }
   ],
   "source": [
    "#hide\n",
    "df_table.head()"
   ]
  },
  {
   "cell_type": "code",
   "execution_count": 14,
   "metadata": {
    "execution": {
     "iopub.execute_input": "2020-09-29T05:39:02.207151Z",
     "iopub.status.busy": "2020-09-29T05:39:02.206519Z",
     "iopub.status.idle": "2020-09-29T05:39:02.226599Z",
     "shell.execute_reply": "2020-09-29T05:39:02.226097Z"
    },
    "papermill": {
     "duration": 0.04401,
     "end_time": "2020-09-29T05:39:02.226741",
     "exception": false,
     "start_time": "2020-09-29T05:39:02.182731",
     "status": "completed"
    },
    "tags": []
   },
   "outputs": [
    {
     "data": {
      "text/plain": [
       "{'updated': '2020-09-29',\n",
       " 'since': '2020-09-28',\n",
       " 'Cases': 6145573,\n",
       " 'PCases': 6143019,\n",
       " 'Deaths': 96363,\n",
       " 'PDeaths': 96351,\n",
       " 'Cases (+)': 2554,\n",
       " 'Deaths (+)': 12}"
      ]
     },
     "execution_count": 14,
     "metadata": {},
     "output_type": "execute_result"
    }
   ],
   "source": [
    "#hide\n",
    "summary = {'updated':dates[-1], 'since':dates[-2]}\n",
    "list_names = ['Cases', 'PCases', 'Deaths', 'PDeaths', 'Cases (+)', 'Deaths (+)']\n",
    "for name in list_names:\n",
    "    summary[name] = df_table.sum()[name]\n",
    "summary"
   ]
  },
  {
   "cell_type": "code",
   "execution_count": 15,
   "metadata": {
    "execution": {
     "iopub.execute_input": "2020-09-29T05:39:02.267994Z",
     "iopub.status.busy": "2020-09-29T05:39:02.267338Z",
     "iopub.status.idle": "2020-09-29T05:39:02.269123Z",
     "shell.execute_reply": "2020-09-29T05:39:02.269851Z"
    },
    "papermill": {
     "duration": 0.026027,
     "end_time": "2020-09-29T05:39:02.270007",
     "exception": false,
     "start_time": "2020-09-29T05:39:02.243980",
     "status": "completed"
    },
    "tags": []
   },
   "outputs": [],
   "source": [
    "#hide\n",
    "overview = '''\n",
    "<!-- #######  HTML!! #########-->\n",
    "<h1 style=\"color: #5e9ca0; text-align: center;\">India</h1>\n",
    "<p style=\"text-align: center;\">Last update: <strong>{update}</strong></p>\n",
    "<p style=\"text-align: center;\">Confirmed cases:</p>\n",
    "<p style=\"text-align: center;font-size:24px;\">{cases} (<span style=\"color: #ff0000;\">+{new}</span>)</p>\n",
    "<p style=\"text-align: center;\">Confirmed deaths:</p>\n",
    "<p style=\"text-align: center;font-size:24px;\">{deaths} (<span style=\"color: #ff0000;\">+{dnew}</span>)</p>\n",
    "'''"
   ]
  },
  {
   "cell_type": "code",
   "execution_count": 16,
   "metadata": {
    "execution": {
     "iopub.execute_input": "2020-09-29T05:39:02.314257Z",
     "iopub.status.busy": "2020-09-29T05:39:02.313527Z",
     "iopub.status.idle": "2020-09-29T05:39:02.316095Z",
     "shell.execute_reply": "2020-09-29T05:39:02.316808Z"
    },
    "papermill": {
     "duration": 0.028671,
     "end_time": "2020-09-29T05:39:02.316990",
     "exception": false,
     "start_time": "2020-09-29T05:39:02.288319",
     "status": "completed"
    },
    "tags": []
   },
   "outputs": [
    {
     "data": {
      "text/html": [
       "\n",
       "<!-- #######  HTML!! #########-->\n",
       "<h1 style=\"color: #5e9ca0; text-align: center;\">India</h1>\n",
       "<p style=\"text-align: center;\">Last update: <strong>2020-09-29</strong></p>\n",
       "<p style=\"text-align: center;\">Confirmed cases:</p>\n",
       "<p style=\"text-align: center;font-size:24px;\">6145573 (<span style=\"color: #ff0000;\">+2554</span>)</p>\n",
       "<p style=\"text-align: center;\">Confirmed deaths:</p>\n",
       "<p style=\"text-align: center;font-size:24px;\">96363 (<span style=\"color: #ff0000;\">+12</span>)</p>\n"
      ],
      "text/plain": [
       "<IPython.core.display.HTML object>"
      ]
     },
     "metadata": {},
     "output_type": "display_data"
    }
   ],
   "source": [
    "#hide_input\n",
    "update = summary['updated']\n",
    "cases = summary['Cases']\n",
    "new = summary['Cases (+)']\n",
    "deaths = summary['Deaths']\n",
    "dnew = summary['Deaths (+)']\n",
    "\n",
    "html = HTML(overview.format(update=update, cases=cases,new=new,deaths=deaths,dnew=dnew))\n",
    "\n",
    "display(html)"
   ]
  },
  {
   "cell_type": "code",
   "execution_count": 17,
   "metadata": {
    "execution": {
     "iopub.execute_input": "2020-09-29T05:39:02.367915Z",
     "iopub.status.busy": "2020-09-29T05:39:02.367094Z",
     "iopub.status.idle": "2020-09-29T05:39:02.372588Z",
     "shell.execute_reply": "2020-09-29T05:39:02.373245Z"
    },
    "papermill": {
     "duration": 0.036019,
     "end_time": "2020-09-29T05:39:02.373426",
     "exception": false,
     "start_time": "2020-09-29T05:39:02.337407",
     "status": "completed"
    },
    "tags": []
   },
   "outputs": [],
   "source": [
    "#hide\n",
    "dt_cols = list(dft_cases.columns[1:])\n",
    "dft_ct_new_cases = dft_cases.groupby('state')[dt_cols].sum().diff(axis=1).fillna(0).astype(int)\n",
    "dft_ct_new_cases.sort_values(by = dates[-1], ascending = False,inplace = True)"
   ]
  },
  {
   "cell_type": "code",
   "execution_count": 18,
   "metadata": {
    "execution": {
     "iopub.execute_input": "2020-09-29T05:39:02.438121Z",
     "iopub.status.busy": "2020-09-29T05:39:02.437365Z",
     "iopub.status.idle": "2020-09-29T05:39:02.440413Z",
     "shell.execute_reply": "2020-09-29T05:39:02.441035Z"
    },
    "papermill": {
     "duration": 0.046913,
     "end_time": "2020-09-29T05:39:02.441219",
     "exception": false,
     "start_time": "2020-09-29T05:39:02.394306",
     "status": "completed"
    },
    "tags": []
   },
   "outputs": [
    {
     "data": {
      "text/html": [
       "<div>\n",
       "<style scoped>\n",
       "    .dataframe tbody tr th:only-of-type {\n",
       "        vertical-align: middle;\n",
       "    }\n",
       "\n",
       "    .dataframe tbody tr th {\n",
       "        vertical-align: top;\n",
       "    }\n",
       "\n",
       "    .dataframe thead th {\n",
       "        text-align: right;\n",
       "    }\n",
       "</style>\n",
       "<table border=\"1\" class=\"dataframe\">\n",
       "  <thead>\n",
       "    <tr style=\"text-align: right;\">\n",
       "      <th>states</th>\n",
       "      <th>2020-07-01</th>\n",
       "      <th>2020-07-02</th>\n",
       "      <th>2020-07-03</th>\n",
       "      <th>2020-07-04</th>\n",
       "      <th>2020-07-05</th>\n",
       "      <th>2020-07-06</th>\n",
       "      <th>2020-07-07</th>\n",
       "      <th>2020-07-08</th>\n",
       "      <th>2020-07-09</th>\n",
       "      <th>2020-07-10</th>\n",
       "      <th>...</th>\n",
       "      <th>2020-09-20</th>\n",
       "      <th>2020-09-21</th>\n",
       "      <th>2020-09-22</th>\n",
       "      <th>2020-09-23</th>\n",
       "      <th>2020-09-24</th>\n",
       "      <th>2020-09-25</th>\n",
       "      <th>2020-09-26</th>\n",
       "      <th>2020-09-27</th>\n",
       "      <th>2020-09-28</th>\n",
       "      <th>2020-09-29</th>\n",
       "    </tr>\n",
       "    <tr>\n",
       "      <th>state</th>\n",
       "      <th></th>\n",
       "      <th></th>\n",
       "      <th></th>\n",
       "      <th></th>\n",
       "      <th></th>\n",
       "      <th></th>\n",
       "      <th></th>\n",
       "      <th></th>\n",
       "      <th></th>\n",
       "      <th></th>\n",
       "      <th></th>\n",
       "      <th></th>\n",
       "      <th></th>\n",
       "      <th></th>\n",
       "      <th></th>\n",
       "      <th></th>\n",
       "      <th></th>\n",
       "      <th></th>\n",
       "      <th></th>\n",
       "      <th></th>\n",
       "      <th></th>\n",
       "    </tr>\n",
       "  </thead>\n",
       "  <tbody>\n",
       "    <tr>\n",
       "      <th>Telangana</th>\n",
       "      <td>0</td>\n",
       "      <td>1213</td>\n",
       "      <td>1892</td>\n",
       "      <td>1850</td>\n",
       "      <td>1590</td>\n",
       "      <td>1831</td>\n",
       "      <td>1879</td>\n",
       "      <td>1924</td>\n",
       "      <td>1410</td>\n",
       "      <td>1278</td>\n",
       "      <td>...</td>\n",
       "      <td>2137</td>\n",
       "      <td>1302</td>\n",
       "      <td>2166</td>\n",
       "      <td>2296</td>\n",
       "      <td>2176</td>\n",
       "      <td>2381</td>\n",
       "      <td>2239</td>\n",
       "      <td>1967</td>\n",
       "      <td>1378</td>\n",
       "      <td>2072</td>\n",
       "    </tr>\n",
       "    <tr>\n",
       "      <th>Tripura</th>\n",
       "      <td>0</td>\n",
       "      <td>39</td>\n",
       "      <td>93</td>\n",
       "      <td>25</td>\n",
       "      <td>23</td>\n",
       "      <td>111</td>\n",
       "      <td>24</td>\n",
       "      <td>57</td>\n",
       "      <td>16</td>\n",
       "      <td>142</td>\n",
       "      <td>...</td>\n",
       "      <td>525</td>\n",
       "      <td>243</td>\n",
       "      <td>559</td>\n",
       "      <td>504</td>\n",
       "      <td>451</td>\n",
       "      <td>341</td>\n",
       "      <td>278</td>\n",
       "      <td>320</td>\n",
       "      <td>193</td>\n",
       "      <td>432</td>\n",
       "    </tr>\n",
       "    <tr>\n",
       "      <th>Mizoram</th>\n",
       "      <td>0</td>\n",
       "      <td>2</td>\n",
       "      <td>0</td>\n",
       "      <td>2</td>\n",
       "      <td>22</td>\n",
       "      <td>11</td>\n",
       "      <td>1</td>\n",
       "      <td>5</td>\n",
       "      <td>0</td>\n",
       "      <td>23</td>\n",
       "      <td>...</td>\n",
       "      <td>30</td>\n",
       "      <td>7</td>\n",
       "      <td>106</td>\n",
       "      <td>22</td>\n",
       "      <td>46</td>\n",
       "      <td>27</td>\n",
       "      <td>49</td>\n",
       "      <td>30</td>\n",
       "      <td>43</td>\n",
       "      <td>50</td>\n",
       "    </tr>\n",
       "    <tr>\n",
       "      <th>Andaman and Nicobar Islands</th>\n",
       "      <td>0</td>\n",
       "      <td>9</td>\n",
       "      <td>7</td>\n",
       "      <td>3</td>\n",
       "      <td>6</td>\n",
       "      <td>16</td>\n",
       "      <td>6</td>\n",
       "      <td>2</td>\n",
       "      <td>7</td>\n",
       "      <td>0</td>\n",
       "      <td>...</td>\n",
       "      <td>7</td>\n",
       "      <td>22</td>\n",
       "      <td>18</td>\n",
       "      <td>21</td>\n",
       "      <td>32</td>\n",
       "      <td>15</td>\n",
       "      <td>15</td>\n",
       "      <td>20</td>\n",
       "      <td>9</td>\n",
       "      <td>0</td>\n",
       "    </tr>\n",
       "    <tr>\n",
       "      <th>Puducherry</th>\n",
       "      <td>0</td>\n",
       "      <td>63</td>\n",
       "      <td>22</td>\n",
       "      <td>80</td>\n",
       "      <td>42</td>\n",
       "      <td>65</td>\n",
       "      <td>30</td>\n",
       "      <td>110</td>\n",
       "      <td>49</td>\n",
       "      <td>72</td>\n",
       "      <td>...</td>\n",
       "      <td>467</td>\n",
       "      <td>268</td>\n",
       "      <td>493</td>\n",
       "      <td>543</td>\n",
       "      <td>668</td>\n",
       "      <td>594</td>\n",
       "      <td>543</td>\n",
       "      <td>368</td>\n",
       "      <td>285</td>\n",
       "      <td>0</td>\n",
       "    </tr>\n",
       "  </tbody>\n",
       "</table>\n",
       "<p>5 rows × 91 columns</p>\n",
       "</div>"
      ],
      "text/plain": [
       "states                       2020-07-01  2020-07-02  2020-07-03  2020-07-04  \\\n",
       "state                                                                         \n",
       "Telangana                             0        1213        1892        1850   \n",
       "Tripura                               0          39          93          25   \n",
       "Mizoram                               0           2           0           2   \n",
       "Andaman and Nicobar Islands           0           9           7           3   \n",
       "Puducherry                            0          63          22          80   \n",
       "\n",
       "states                       2020-07-05  2020-07-06  2020-07-07  2020-07-08  \\\n",
       "state                                                                         \n",
       "Telangana                          1590        1831        1879        1924   \n",
       "Tripura                              23         111          24          57   \n",
       "Mizoram                              22          11           1           5   \n",
       "Andaman and Nicobar Islands           6          16           6           2   \n",
       "Puducherry                           42          65          30         110   \n",
       "\n",
       "states                       2020-07-09  2020-07-10  ...  2020-09-20  \\\n",
       "state                                                ...               \n",
       "Telangana                          1410        1278  ...        2137   \n",
       "Tripura                              16         142  ...         525   \n",
       "Mizoram                               0          23  ...          30   \n",
       "Andaman and Nicobar Islands           7           0  ...           7   \n",
       "Puducherry                           49          72  ...         467   \n",
       "\n",
       "states                       2020-09-21  2020-09-22  2020-09-23  2020-09-24  \\\n",
       "state                                                                         \n",
       "Telangana                          1302        2166        2296        2176   \n",
       "Tripura                             243         559         504         451   \n",
       "Mizoram                               7         106          22          46   \n",
       "Andaman and Nicobar Islands          22          18          21          32   \n",
       "Puducherry                          268         493         543         668   \n",
       "\n",
       "states                       2020-09-25  2020-09-26  2020-09-27  2020-09-28  \\\n",
       "state                                                                         \n",
       "Telangana                          2381        2239        1967        1378   \n",
       "Tripura                             341         278         320         193   \n",
       "Mizoram                              27          49          30          43   \n",
       "Andaman and Nicobar Islands          15          15          20           9   \n",
       "Puducherry                          594         543         368         285   \n",
       "\n",
       "states                       2020-09-29  \n",
       "state                                    \n",
       "Telangana                          2072  \n",
       "Tripura                             432  \n",
       "Mizoram                              50  \n",
       "Andaman and Nicobar Islands           0  \n",
       "Puducherry                            0  \n",
       "\n",
       "[5 rows x 91 columns]"
      ]
     },
     "execution_count": 18,
     "metadata": {},
     "output_type": "execute_result"
    }
   ],
   "source": [
    "#hide\n",
    "dft_ct_new_cases.head()"
   ]
  },
  {
   "cell_type": "code",
   "execution_count": 19,
   "metadata": {
    "execution": {
     "iopub.execute_input": "2020-09-29T05:39:02.537795Z",
     "iopub.status.busy": "2020-09-29T05:39:02.521186Z",
     "iopub.status.idle": "2020-09-29T05:39:06.997334Z",
     "shell.execute_reply": "2020-09-29T05:39:06.998279Z"
    },
    "papermill": {
     "duration": 4.531957,
     "end_time": "2020-09-29T05:39:06.998466",
     "exception": false,
     "start_time": "2020-09-29T05:39:02.466509",
     "status": "completed"
    },
    "tags": []
   },
   "outputs": [
    {
     "data": {
      "image/png": "[encoded data removed]",
      "text/plain": [
       "<Figure size 1296x2016 with 11 Axes>"
      ]
     },
     "metadata": {
      "needs_background": "light"
     },
     "output_type": "display_data"
    }
   ],
   "source": [
    "#hide_input\n",
    "df = dft_ct_new_cases.copy()\n",
    "df.loc['Total'] = df.sum()\n",
    "n = 5\n",
    "ax = []\n",
    "fig = plt.figure(figsize = (18,28))\n",
    "gs = fig.add_gridspec(n+2, 5)\n",
    "# gs = fig.add_gridspec(2, 3)\n",
    "ax1 = fig.add_subplot(gs[0, :])\n",
    "ef = df.loc['Total'].rename_axis('date').reset_index()\n",
    "ef['date'] = ef['date'].astype('datetime64[ns]')\n",
    "ax1.bar(ef.date,ef.Total,alpha=0.3,color='#007acc')\n",
    "ax1.plot(ef.date,ef.Total , marker=\"o\", color='#007acc')\n",
    "ax1.xaxis.set_major_locator(mdates.WeekdayLocator())\n",
    "ax1.xaxis.set_major_formatter(mdates.DateFormatter('%b %d'))\n",
    "ax1.text(0.02, 0.5,'India daily case count', transform = ax1.transAxes, fontsize=25);\n",
    "ax1.spines['right'].set_visible(False)\n",
    "ax1.spines['top'].set_visible(False)\n",
    "\n",
    "ax2 = fig.add_subplot(gs[1,0])\n",
    "ef = df.loc['Maharashtra'].rename_axis('date').reset_index()\n",
    "ef['date'] = ef['date'].astype('datetime64[ns]')\n",
    "\n",
    "ax2.bar(ef.date, ef.Maharashtra,color = '#007acc',alpha=0.5)\n",
    "ax2.xaxis.set_major_locator(mdates.WeekdayLocator())\n",
    "ax2.xaxis.set_major_formatter(mdates.DateFormatter('%b %d'))\n",
    "ax2.set_xticks(ax2.get_xticks()[::3])\n",
    "maxyval = ef.Maharashtra.max()\n",
    "ax2.set_ylim([0,maxyval])\n",
    "ax2.text(0.05, 0.9,'Maharashtra', transform = ax2.transAxes, fontsize=20);\n",
    "ax2.spines['right'].set_visible(False)\n",
    "ax2.spines['top'].set_visible(False)\n",
    "\n",
    "\n",
    "ax3 = fig.add_subplot(gs[1,1])\n",
    "ef = df.loc['Tamil Nadu'].rename_axis('date').reset_index()\n",
    "ef['date'] = ef['date'].astype('datetime64[ns]')\n",
    "ax3.bar(ef.date, ef['Tamil Nadu'],color = '#007acc',alpha=0.5,)\n",
    "ax3.xaxis.set_major_locator(mdates.WeekdayLocator())\n",
    "ax3.xaxis.set_major_formatter(mdates.DateFormatter('%b %d'))\n",
    "ax3.set_xticks(ax3.get_xticks()[::3])\n",
    "ax3.text(0.05, 0.9,'Tamil Nadu', transform = ax3.transAxes, fontsize=20);\n",
    "ax3.spines['right'].set_visible(False)\n",
    "ax3.spines['top'].set_visible(False)\n",
    "\n",
    "ax5 = fig.add_subplot(gs[1,3])\n",
    "ef = df.loc['Telangana'].rename_axis('date').reset_index()\n",
    "ef['date'] = ef['date'].astype('datetime64[ns]')\n",
    "ax5.bar(ef.date, ef['Telangana'],color = '#007acc',alpha=0.5,)\n",
    "ax5.xaxis.set_major_locator(mdates.WeekdayLocator())\n",
    "ax5.xaxis.set_major_formatter(mdates.DateFormatter('%b %d'))\n",
    "ax5.set_xticks(ax5.get_xticks()[::3])\n",
    "ax5.text(0.05, 0.9,'Telangana', transform = ax5.transAxes, fontsize=20);\n",
    "ax5.spines['right'].set_visible(False)\n",
    "ax5.spines['top'].set_visible(False)\n",
    "\n",
    "ax6 = fig.add_subplot(gs[1,4])\n",
    "ef = df.loc['Andhra Pradesh'].rename_axis('date').reset_index()\n",
    "ef['date'] = ef['date'].astype('datetime64[ns]')\n",
    "ax6.bar(ef.date, ef['Andhra Pradesh'],color = '#007acc',alpha=0.5,)\n",
    "ax6.xaxis.set_major_locator(mdates.WeekdayLocator())\n",
    "ax6.xaxis.set_major_formatter(mdates.DateFormatter('%b %d'))\n",
    "ax6.set_xticks(ax6.get_xticks()[::3])\n",
    "ax6.text(0.05, 1,'Andhra Pradesh', transform = ax6.transAxes, fontsize=20);\n",
    "ax6.spines['right'].set_visible(False)\n",
    "ax6.spines['top'].set_visible(False)\n",
    "\n",
    "ax4 = fig.add_subplot(gs[1,2])\n",
    "ef = df.loc['Delhi'].rename_axis('date').reset_index()\n",
    "ef['date'] = ef['date'].astype('datetime64[ns]')\n",
    "ax4.bar(ef.date, ef.Delhi,color = '#007acc',alpha=0.5)\n",
    "ax4.set_xticks([])\n",
    "ax4.xaxis.set_major_locator(mdates.WeekdayLocator())\n",
    "ax4.xaxis.set_major_formatter(mdates.DateFormatter('%b %d'))\n",
    "ax4.set_xticks(ax4.get_xticks()[::3])\n",
    "ax4.spines['right'].set_visible(False)\n",
    "ax4.spines['top'].set_visible(False)\n",
    "\n",
    "ax4.text(0.05, 1,'Delhi', transform = ax4.transAxes, fontsize=20)\n",
    "\n",
    "for i in range(n):\n",
    "    \n",
    "    ax.append(fig.add_subplot(gs[i+2,:]))\n",
    "    ef = df.iloc[i+3].rename_axis('date').reset_index()\n",
    "    ef['date'] = ef['date'].astype('datetime64[ns]')\n",
    "    ax[i].bar(ef.date,ef.iloc[:,-1],color = '#007acc',alpha=0.3)\n",
    "    ax[i].plot(ef.date,ef.iloc[:,-1],marker='o',color='#007acc')\n",
    "    ax[i].text(0.02,0.5,f'{ef.columns.values[-1]}',transform = ax[i].transAxes, fontsize = 20);\n",
    "    ax[i].xaxis.set_major_locator(mdates.WeekdayLocator())\n",
    "    ax[i].xaxis.set_major_formatter(mdates.DateFormatter('%b %d'))\n",
    "    ax[i].set_ylim([0,7000])\n",
    "    ax[i].spines['right'].set_visible(False)\n",
    "    ax[i].spines['top'].set_visible(False)\n",
    "plt.tight_layout()\n"
   ]
  },
  {
   "cell_type": "code",
   "execution_count": 20,
   "metadata": {
    "execution": {
     "iopub.execute_input": "2020-09-29T05:39:07.065781Z",
     "iopub.status.busy": "2020-09-29T05:39:07.064899Z",
     "iopub.status.idle": "2020-09-29T05:39:07.069134Z",
     "shell.execute_reply": "2020-09-29T05:39:07.068473Z"
    },
    "papermill": {
     "duration": 0.044088,
     "end_time": "2020-09-29T05:39:07.069299",
     "exception": false,
     "start_time": "2020-09-29T05:39:07.025211",
     "status": "completed"
    },
    "tags": []
   },
   "outputs": [
    {
     "name": "stdout",
     "output_type": "stream",
     "text": [
      "                                   states    Cases  Deaths   PCases  PDeaths  Cases (+)  Deaths (+)  Fatality Rate\n",
      "                              Maharashtra  1351153   35751  1351153    35751          0           0           2.65\n",
      "                           Andhra Pradesh   681161    5745   681161     5745          0           0           0.84\n",
      "                               Tamil Nadu   586397    9383   586397     9383          0           0           1.60\n",
      "                                Karnataka   582458    8641   582458     8641          0           0           1.48\n",
      "                            Uttar Pradesh   390875    5652   390875     5652          0           0           1.45\n",
      "                                    Delhi   273098    5272   273098     5272          0           0           1.93\n",
      "                              West Bengal   250580    4837   250580     4837          0           0           1.93\n",
      "                                   Odisha   212609     866   212609      866          0           0           0.41\n",
      "                                Telangana   189283    1116   187211     1107       2072           9           0.59\n",
      "                                    Bihar   180032     892   180032      892          0           0           0.50\n",
      "                                   Kerala   179923     698   179923      698          0           0           0.39\n",
      "                                    Assam   173629     667   173629      667          0           0           0.38\n",
      "                                  Gujarat   134623    3431   134623     3431          0           0           2.55\n",
      "                                Rajasthan   130971    1456   130971     1456          0           0           1.11\n",
      "                                  Haryana   125412    1331   125412     1331          0           0           1.06\n",
      "                           Madhya Pradesh   124166    2242   124166     2242          0           0           1.81\n",
      "                                   Punjab   111375    3284   111375     3284          0           0           2.95\n",
      "                             Chhattisgarh   108458     877   108458      877          0           0           0.81\n",
      "                                Jharkhand    81417     688    81417      688          0           0           0.85\n",
      "                        Jammu and Kashmir    73014    1146    73014     1146          0           0           1.57\n",
      "                              Uttarakhand    47502     580    47502      580          0           0           1.22\n",
      "                                      Goa    32396     407    32396      407          0           0           1.26\n",
      "                               Puducherry    26685     515    26685      515          0           0           1.93\n",
      "                                  Tripura    25350     273    24918      270        432           3           1.08\n",
      "                         Himachal Pradesh    14457     175    14457      175          0           0           1.21\n",
      "                               Chandigarh    11678     153    11678      153          0           0           1.31\n",
      "                                  Manipur    10477      64    10477       64          0           0           0.61\n",
      "                        Arunachal Pradesh     9332      15     9332       15          0           0           0.16\n",
      "                                 Nagaland     5957      12     5957       12          0           0           0.20\n",
      "                                Meghalaya     5362      46     5362       46          0           0           0.86\n",
      "                                   Ladakh     4152      58     4152       58          0           0           1.40\n",
      "              Andaman and Nicobar Islands     3803      53     3803       53          0           0           1.39\n",
      " Dadra and Nagar Haveli and Daman and Diu     3015       2     3015        2          0           0           0.07\n",
      "                                   Sikkim     2815      35     2815       35          0           0           1.24\n",
      "                                  Mizoram     1958       0     1908        0         50           0           0.00\n",
      "                              Lakshadweep        0       0        0        0          0           0            NaN\n"
     ]
    }
   ],
   "source": [
    "#hide_input\n",
    "print(df_table.to_string(index=False))"
   ]
  },
  {
   "cell_type": "code",
   "execution_count": null,
   "metadata": {
    "papermill": {
     "duration": 0.027716,
     "end_time": "2020-09-29T05:39:07.122835",
     "exception": false,
     "start_time": "2020-09-29T05:39:07.095119",
     "status": "completed"
    },
    "tags": []
   },
   "outputs": [],
   "source": []
  },
  {
   "cell_type": "code",
   "execution_count": null,
   "metadata": {
    "papermill": {
     "duration": 0.029137,
     "end_time": "2020-09-29T05:39:07.178121",
     "exception": false,
     "start_time": "2020-09-29T05:39:07.148984",
     "status": "completed"
    },
    "tags": []
   },
   "outputs": [],
   "source": []
  }
 ],
 "metadata": {
  "kernelspec": {
   "display_name": "Python 3",
   "language": "python",
   "name": "python3"
  },
  "language_info": {
   "codemirror_mode": {
    "name": "ipython",
    "version": 3
   },
   "file_extension": ".py",
   "mimetype": "text/x-python",
   "name": "python",
   "nbconvert_exporter": "python",
   "pygments_lexer": "ipython3",
   "version": "3.6.12"
  },
  "papermill": {
   "duration": 11.911896,
   "end_time": "2020-09-29T05:39:07.715690",
   "environment_variables": {},
   "exception": null,
   "input_path": "latest.ipynb",
   "output_path": "latest.ipynb",
   "parameters": {},
   "start_time": "2020-09-29T05:38:55.803794",
   "version": "2.1.2"
  }
 },
 "nbformat": 4,
 "nbformat_minor": 4
}