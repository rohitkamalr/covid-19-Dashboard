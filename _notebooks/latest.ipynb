{
 "cells": [
  {
   "cell_type": "markdown",
   "metadata": {
    "papermill": {
     "duration": 0.020324,
     "end_time": "2020-09-25T05:51:48.987860",
     "exception": false,
     "start_time": "2020-09-25T05:51:48.967536",
     "status": "completed"
    },
    "tags": []
   },
   "source": [
    "# Latest COVID-19 India Matplotlib Overview"
   ]
  },
  {
   "cell_type": "code",
   "execution_count": 1,
   "metadata": {
    "execution": {
     "iopub.execute_input": "2020-09-25T05:51:49.029138Z",
     "iopub.status.busy": "2020-09-25T05:51:49.028471Z",
     "iopub.status.idle": "2020-09-25T05:51:49.626304Z",
     "shell.execute_reply": "2020-09-25T05:51:49.625194Z"
    },
    "papermill": {
     "duration": 0.62101,
     "end_time": "2020-09-25T05:51:49.626476",
     "exception": false,
     "start_time": "2020-09-25T05:51:49.005466",
     "status": "completed"
    },
    "tags": []
   },
   "outputs": [],
   "source": [
    "#hide\n",
    "import pandas as pd\n",
    "import numpy as np\n",
    "import requests\n",
    "import json\n",
    "import matplotlib.pyplot as plt\n",
    "import matplotlib.dates as mdates\n",
    "import matplotlib as mpl\n",
    "from IPython.core.display import display,HTML\n",
    "%matplotlib inline\n",
    "from datetime import date"
   ]
  },
  {
   "cell_type": "code",
   "execution_count": 2,
   "metadata": {
    "execution": {
     "iopub.execute_input": "2020-09-25T05:51:49.666800Z",
     "iopub.status.busy": "2020-09-25T05:51:49.665825Z",
     "iopub.status.idle": "2020-09-25T05:51:49.932558Z",
     "shell.execute_reply": "2020-09-25T05:51:49.933073Z"
    },
    "papermill": {
     "duration": 0.290333,
     "end_time": "2020-09-25T05:51:49.933247",
     "exception": false,
     "start_time": "2020-09-25T05:51:49.642914",
     "status": "completed"
    },
    "tags": []
   },
   "outputs": [],
   "source": [
    "#hide\n",
    "df  = pd.read_csv('https://api.covid19india.org/csv/latest/states.csv')\n",
    "df = df[['Date','State','Confirmed','Deceased']]\n",
    "df = df.rename(columns={'Confirmed':'Cases', \"Deceased\":'Deaths'})\n",
    "df_cases = df[[\"Date\",'State','Cases']]\n",
    "df_deaths = df[['Date','State','Deaths']]\n",
    "df_cases1 = df_cases.groupby('Date')\n",
    "df_deaths1= df_deaths.groupby('Date')"
   ]
  },
  {
   "cell_type": "code",
   "execution_count": 3,
   "metadata": {
    "execution": {
     "iopub.execute_input": "2020-09-25T05:51:49.971909Z",
     "iopub.status.busy": "2020-09-25T05:51:49.971122Z",
     "iopub.status.idle": "2020-09-25T05:51:49.989511Z",
     "shell.execute_reply": "2020-09-25T05:51:49.989983Z"
    },
    "papermill": {
     "duration": 0.040034,
     "end_time": "2020-09-25T05:51:49.990143",
     "exception": false,
     "start_time": "2020-09-25T05:51:49.950109",
     "status": "completed"
    },
    "tags": []
   },
   "outputs": [],
   "source": [
    "#hide\n",
    "df_snap = pd.read_csv('data/SnapshotCases-28-July.csv')\n",
    "arr_states = df_snap['states'].unique()\n",
    "arr_dates = df['Date'].unique()\n",
    "df_snap = df_snap.set_index('states')"
   ]
  },
  {
   "cell_type": "code",
   "execution_count": 4,
   "metadata": {
    "execution": {
     "iopub.execute_input": "2020-09-25T05:51:50.030315Z",
     "iopub.status.busy": "2020-09-25T05:51:50.029650Z",
     "iopub.status.idle": "2020-09-25T05:51:50.033033Z",
     "shell.execute_reply": "2020-09-25T05:51:50.032475Z"
    },
    "papermill": {
     "duration": 0.026905,
     "end_time": "2020-09-25T05:51:50.033181",
     "exception": false,
     "start_time": "2020-09-25T05:51:50.006276",
     "status": "completed"
    },
    "tags": []
   },
   "outputs": [
    {
     "data": {
      "text/plain": [
       "array(['Andaman and Nicobar Islands', 'Andhra Pradesh',\n",
       "       'Arunachal Pradesh', 'Assam', 'Bihar', 'Chandigarh',\n",
       "       'Dadra and Nagar Haveli and Daman and Diu', 'Delhi', 'Goa',\n",
       "       'Gujarat', 'Haryana', 'Himachal Pradesh', 'Jammu and Kashmir',\n",
       "       'Jharkhand', 'Karnataka', 'Kerala', 'Lakshadweep',\n",
       "       'Madhya Pradesh', 'Maharashtra', 'Manipur', 'Meghalaya', 'Mizoram',\n",
       "       'Nagaland', 'Odisha', 'Puducherry', 'Punjab', 'Rajasthan',\n",
       "       'Sikkim', 'Tamil Nadu', 'Telangana', 'Tripura', 'Uttar Pradesh',\n",
       "       'West Bengal', 'Chhattisgarh', 'Ladakh', 'Uttarakhand'],\n",
       "      dtype=object)"
      ]
     },
     "execution_count": 4,
     "metadata": {},
     "output_type": "execute_result"
    }
   ],
   "source": [
    "#hide\n",
    "arr_states[-9] = 'Puducherry'\n",
    "arr_states[-10] = 'Odisha'\n",
    "arr_states[6] = 'Dadra and Nagar Haveli and Daman and Diu'\n",
    "arr_states = np.append(arr_states,np.array(['Chhattisgarh','Ladakh','Uttarakhand']))\n",
    "arr_states"
   ]
  },
  {
   "cell_type": "code",
   "execution_count": 5,
   "metadata": {
    "execution": {
     "iopub.execute_input": "2020-09-25T05:51:50.078300Z",
     "iopub.status.busy": "2020-09-25T05:51:50.077558Z",
     "iopub.status.idle": "2020-09-25T05:51:50.085961Z",
     "shell.execute_reply": "2020-09-25T05:51:50.085432Z"
    },
    "papermill": {
     "duration": 0.035676,
     "end_time": "2020-09-25T05:51:50.086107",
     "exception": false,
     "start_time": "2020-09-25T05:51:50.050431",
     "status": "completed"
    },
    "tags": []
   },
   "outputs": [],
   "source": [
    "#hide\n",
    "dates = []\n",
    "for i in arr_dates:\n",
    "    if i>='2020-07-01':\n",
    "        dates.append(i)\n",
    "dict = {'states':dates}\n",
    "for i in arr_states:\n",
    "    dict[i] = [0]*len(dates)\n",
    "dft_cases = pd.DataFrame(dict)\n",
    "dft_deaths = pd.DataFrame(dict)\n"
   ]
  },
  {
   "cell_type": "code",
   "execution_count": 6,
   "metadata": {
    "execution": {
     "iopub.execute_input": "2020-09-25T05:51:50.125797Z",
     "iopub.status.busy": "2020-09-25T05:51:50.125129Z",
     "iopub.status.idle": "2020-09-25T05:51:51.663053Z",
     "shell.execute_reply": "2020-09-25T05:51:51.662486Z"
    },
    "papermill": {
     "duration": 1.560494,
     "end_time": "2020-09-25T05:51:51.663204",
     "exception": false,
     "start_time": "2020-09-25T05:51:50.102710",
     "status": "completed"
    },
    "tags": []
   },
   "outputs": [],
   "source": [
    "#hide\n",
    "for i in range(len(dates)):\n",
    "    df1_deaths = df_deaths1.get_group(dates[i])\n",
    "    for j in range(len(df1_deaths.index)):\n",
    "        if df1_deaths.iloc[j,1] in arr_states:\n",
    "            dft_deaths.loc[i,df1_deaths.iloc[j,1]] = df1_deaths.iloc[j,2]\n",
    "dft_deaths = dft_deaths.set_index('states')"
   ]
  },
  {
   "cell_type": "code",
   "execution_count": 7,
   "metadata": {
    "execution": {
     "iopub.execute_input": "2020-09-25T05:51:51.706376Z",
     "iopub.status.busy": "2020-09-25T05:51:51.705471Z",
     "iopub.status.idle": "2020-09-25T05:51:53.222893Z",
     "shell.execute_reply": "2020-09-25T05:51:53.222332Z"
    },
    "papermill": {
     "duration": 1.542298,
     "end_time": "2020-09-25T05:51:53.223042",
     "exception": false,
     "start_time": "2020-09-25T05:51:51.680744",
     "status": "completed"
    },
    "tags": []
   },
   "outputs": [],
   "source": [
    "#hide\n",
    "for i in range(len(dates)):\n",
    "    df1_cases = df_cases1.get_group(dates[i])\n",
    "    for j in range(len(df1_cases.index)):\n",
    "        if df1_cases.iloc[j,1] in arr_states:\n",
    "            dft_cases.loc[i,df1_cases.iloc[j,1]] = df1_cases.iloc[j,2]\n",
    "dft_cases = dft_cases.set_index('states')"
   ]
  },
  {
   "cell_type": "code",
   "execution_count": 8,
   "metadata": {
    "execution": {
     "iopub.execute_input": "2020-09-25T05:51:53.265013Z",
     "iopub.status.busy": "2020-09-25T05:51:53.264355Z",
     "iopub.status.idle": "2020-09-25T05:51:53.266843Z",
     "shell.execute_reply": "2020-09-25T05:51:53.266290Z"
    },
    "papermill": {
     "duration": 0.026861,
     "end_time": "2020-09-25T05:51:53.266976",
     "exception": false,
     "start_time": "2020-09-25T05:51:53.240115",
     "status": "completed"
    },
    "tags": []
   },
   "outputs": [],
   "source": [
    "#hide\n",
    "dft_cases = dft_cases.T\n",
    "dft_deaths = dft_deaths.T\n",
    "dt_today = dates[-1]\n",
    "dt_yday = dates[-2]"
   ]
  },
  {
   "cell_type": "code",
   "execution_count": 9,
   "metadata": {
    "execution": {
     "iopub.execute_input": "2020-09-25T05:51:53.306056Z",
     "iopub.status.busy": "2020-09-25T05:51:53.305267Z",
     "iopub.status.idle": "2020-09-25T05:51:53.309915Z",
     "shell.execute_reply": "2020-09-25T05:51:53.310442Z"
    },
    "papermill": {
     "duration": 0.026755,
     "end_time": "2020-09-25T05:51:53.310583",
     "exception": false,
     "start_time": "2020-09-25T05:51:53.283828",
     "status": "completed"
    },
    "tags": []
   },
   "outputs": [],
   "source": [
    "#hide\n",
    "dft_cases = dft_cases.reset_index()\n",
    "dft_deaths = dft_deaths.reset_index()\n",
    "dft_cases = dft_cases.rename(columns = {'index':'state'})\n",
    "dft_deaths = dft_deaths.rename(columns = {'index':'state'})"
   ]
  },
  {
   "cell_type": "code",
   "execution_count": 10,
   "metadata": {
    "execution": {
     "iopub.execute_input": "2020-09-25T05:51:53.355972Z",
     "iopub.status.busy": "2020-09-25T05:51:53.350128Z",
     "iopub.status.idle": "2020-09-25T05:51:53.357916Z",
     "shell.execute_reply": "2020-09-25T05:51:53.358458Z"
    },
    "papermill": {
     "duration": 0.031345,
     "end_time": "2020-09-25T05:51:53.358620",
     "exception": false,
     "start_time": "2020-09-25T05:51:53.327275",
     "status": "completed"
    },
    "tags": []
   },
   "outputs": [],
   "source": [
    "#hide\n",
    "dfc_cases = dft_cases.groupby('state')[dt_today].sum()\n",
    "dfc_deaths = dft_deaths.groupby('state')[dt_today].sum()\n",
    "dfp_cases = dft_cases.groupby('state')[dt_yday].sum()\n",
    "dfp_deaths = dft_deaths.groupby('state')[dt_yday].sum()"
   ]
  },
  {
   "cell_type": "code",
   "execution_count": 11,
   "metadata": {
    "execution": {
     "iopub.execute_input": "2020-09-25T05:51:53.406438Z",
     "iopub.status.busy": "2020-09-25T05:51:53.399871Z",
     "iopub.status.idle": "2020-09-25T05:51:53.414458Z",
     "shell.execute_reply": "2020-09-25T05:51:53.413896Z"
    },
    "papermill": {
     "duration": 0.039096,
     "end_time": "2020-09-25T05:51:53.414599",
     "exception": false,
     "start_time": "2020-09-25T05:51:53.375503",
     "status": "completed"
    },
    "tags": []
   },
   "outputs": [
    {
     "data": {
      "text/html": [
       "<div>\n",
       "<style scoped>\n",
       "    .dataframe tbody tr th:only-of-type {\n",
       "        vertical-align: middle;\n",
       "    }\n",
       "\n",
       "    .dataframe tbody tr th {\n",
       "        vertical-align: top;\n",
       "    }\n",
       "\n",
       "    .dataframe thead th {\n",
       "        text-align: right;\n",
       "    }\n",
       "</style>\n",
       "<table border=\"1\" class=\"dataframe\">\n",
       "  <thead>\n",
       "    <tr style=\"text-align: right;\">\n",
       "      <th></th>\n",
       "      <th>states</th>\n",
       "      <th>Cases</th>\n",
       "      <th>Deaths</th>\n",
       "      <th>PCases</th>\n",
       "      <th>PDeaths</th>\n",
       "    </tr>\n",
       "  </thead>\n",
       "  <tbody>\n",
       "    <tr>\n",
       "      <th>0</th>\n",
       "      <td>Maharashtra</td>\n",
       "      <td>1282963</td>\n",
       "      <td>34345</td>\n",
       "      <td>1282963</td>\n",
       "      <td>34345</td>\n",
       "    </tr>\n",
       "    <tr>\n",
       "      <th>1</th>\n",
       "      <td>Andhra Pradesh</td>\n",
       "      <td>654385</td>\n",
       "      <td>5558</td>\n",
       "      <td>654385</td>\n",
       "      <td>5558</td>\n",
       "    </tr>\n",
       "    <tr>\n",
       "      <th>2</th>\n",
       "      <td>Tamil Nadu</td>\n",
       "      <td>563691</td>\n",
       "      <td>9076</td>\n",
       "      <td>563691</td>\n",
       "      <td>9076</td>\n",
       "    </tr>\n",
       "    <tr>\n",
       "      <th>3</th>\n",
       "      <td>Karnataka</td>\n",
       "      <td>548557</td>\n",
       "      <td>8331</td>\n",
       "      <td>548557</td>\n",
       "      <td>8331</td>\n",
       "    </tr>\n",
       "    <tr>\n",
       "      <th>4</th>\n",
       "      <td>Uttar Pradesh</td>\n",
       "      <td>374277</td>\n",
       "      <td>5366</td>\n",
       "      <td>374277</td>\n",
       "      <td>5366</td>\n",
       "    </tr>\n",
       "  </tbody>\n",
       "</table>\n",
       "</div>"
      ],
      "text/plain": [
       "           states    Cases  Deaths   PCases  PDeaths\n",
       "0     Maharashtra  1282963   34345  1282963    34345\n",
       "1  Andhra Pradesh   654385    5558   654385     5558\n",
       "2      Tamil Nadu   563691    9076   563691     9076\n",
       "3       Karnataka   548557    8331   548557     8331\n",
       "4   Uttar Pradesh   374277    5366   374277     5366"
      ]
     },
     "execution_count": 11,
     "metadata": {},
     "output_type": "execute_result"
    }
   ],
   "source": [
    "#hide\n",
    "df_table = pd.DataFrame({'states': dfc_cases.index, 'Cases': dfc_cases.values, 'Deaths': dfc_deaths.values, 'PCases': dfp_cases.values, 'PDeaths': dfp_deaths.values}).set_index('states')\n",
    "df_table = df_table.sort_values(by = ['Cases','Deaths'], ascending = [False, False])\n",
    "df_table = df_table.reset_index()\n",
    "df_table.head()"
   ]
  },
  {
   "cell_type": "code",
   "execution_count": 12,
   "metadata": {
    "execution": {
     "iopub.execute_input": "2020-09-25T05:51:53.456974Z",
     "iopub.status.busy": "2020-09-25T05:51:53.456309Z",
     "iopub.status.idle": "2020-09-25T05:51:53.464546Z",
     "shell.execute_reply": "2020-09-25T05:51:53.465150Z"
    },
    "papermill": {
     "duration": 0.031293,
     "end_time": "2020-09-25T05:51:53.465297",
     "exception": false,
     "start_time": "2020-09-25T05:51:53.434004",
     "status": "completed"
    },
    "tags": []
   },
   "outputs": [],
   "source": [
    "#hide\n",
    "for c in 'Cases, Deaths'.split(', '):\n",
    "    df_table[f'{c} (+)'] = (df_table[c] - df_table[f'P{c}']).clip(0)\n",
    "df_table['Fatality Rate'] = (100* df_table['Deaths']/ df_table['Cases']).round(2)"
   ]
  },
  {
   "cell_type": "code",
   "execution_count": 13,
   "metadata": {
    "execution": {
     "iopub.execute_input": "2020-09-25T05:51:53.511921Z",
     "iopub.status.busy": "2020-09-25T05:51:53.511274Z",
     "iopub.status.idle": "2020-09-25T05:51:53.513845Z",
     "shell.execute_reply": "2020-09-25T05:51:53.514423Z"
    },
    "papermill": {
     "duration": 0.032197,
     "end_time": "2020-09-25T05:51:53.514592",
     "exception": false,
     "start_time": "2020-09-25T05:51:53.482395",
     "status": "completed"
    },
    "tags": []
   },
   "outputs": [
    {
     "data": {
      "text/html": [
       "<div>\n",
       "<style scoped>\n",
       "    .dataframe tbody tr th:only-of-type {\n",
       "        vertical-align: middle;\n",
       "    }\n",
       "\n",
       "    .dataframe tbody tr th {\n",
       "        vertical-align: top;\n",
       "    }\n",
       "\n",
       "    .dataframe thead th {\n",
       "        text-align: right;\n",
       "    }\n",
       "</style>\n",
       "<table border=\"1\" class=\"dataframe\">\n",
       "  <thead>\n",
       "    <tr style=\"text-align: right;\">\n",
       "      <th></th>\n",
       "      <th>states</th>\n",
       "      <th>Cases</th>\n",
       "      <th>Deaths</th>\n",
       "      <th>PCases</th>\n",
       "      <th>PDeaths</th>\n",
       "      <th>Cases (+)</th>\n",
       "      <th>Deaths (+)</th>\n",
       "      <th>Fatality Rate</th>\n",
       "    </tr>\n",
       "  </thead>\n",
       "  <tbody>\n",
       "    <tr>\n",
       "      <th>0</th>\n",
       "      <td>Maharashtra</td>\n",
       "      <td>1282963</td>\n",
       "      <td>34345</td>\n",
       "      <td>1282963</td>\n",
       "      <td>34345</td>\n",
       "      <td>0</td>\n",
       "      <td>0</td>\n",
       "      <td>2.68</td>\n",
       "    </tr>\n",
       "    <tr>\n",
       "      <th>1</th>\n",
       "      <td>Andhra Pradesh</td>\n",
       "      <td>654385</td>\n",
       "      <td>5558</td>\n",
       "      <td>654385</td>\n",
       "      <td>5558</td>\n",
       "      <td>0</td>\n",
       "      <td>0</td>\n",
       "      <td>0.85</td>\n",
       "    </tr>\n",
       "    <tr>\n",
       "      <th>2</th>\n",
       "      <td>Tamil Nadu</td>\n",
       "      <td>563691</td>\n",
       "      <td>9076</td>\n",
       "      <td>563691</td>\n",
       "      <td>9076</td>\n",
       "      <td>0</td>\n",
       "      <td>0</td>\n",
       "      <td>1.61</td>\n",
       "    </tr>\n",
       "    <tr>\n",
       "      <th>3</th>\n",
       "      <td>Karnataka</td>\n",
       "      <td>548557</td>\n",
       "      <td>8331</td>\n",
       "      <td>548557</td>\n",
       "      <td>8331</td>\n",
       "      <td>0</td>\n",
       "      <td>0</td>\n",
       "      <td>1.52</td>\n",
       "    </tr>\n",
       "    <tr>\n",
       "      <th>4</th>\n",
       "      <td>Uttar Pradesh</td>\n",
       "      <td>374277</td>\n",
       "      <td>5366</td>\n",
       "      <td>374277</td>\n",
       "      <td>5366</td>\n",
       "      <td>0</td>\n",
       "      <td>0</td>\n",
       "      <td>1.43</td>\n",
       "    </tr>\n",
       "  </tbody>\n",
       "</table>\n",
       "</div>"
      ],
      "text/plain": [
       "           states    Cases  Deaths   PCases  PDeaths  Cases (+)  Deaths (+)  \\\n",
       "0     Maharashtra  1282963   34345  1282963    34345          0           0   \n",
       "1  Andhra Pradesh   654385    5558   654385     5558          0           0   \n",
       "2      Tamil Nadu   563691    9076   563691     9076          0           0   \n",
       "3       Karnataka   548557    8331   548557     8331          0           0   \n",
       "4   Uttar Pradesh   374277    5366   374277     5366          0           0   \n",
       "\n",
       "   Fatality Rate  \n",
       "0           2.68  \n",
       "1           0.85  \n",
       "2           1.61  \n",
       "3           1.52  \n",
       "4           1.43  "
      ]
     },
     "execution_count": 13,
     "metadata": {},
     "output_type": "execute_result"
    }
   ],
   "source": [
    "#hide\n",
    "df_table.head()"
   ]
  },
  {
   "cell_type": "code",
   "execution_count": 14,
   "metadata": {
    "execution": {
     "iopub.execute_input": "2020-09-25T05:51:53.569771Z",
     "iopub.status.busy": "2020-09-25T05:51:53.554970Z",
     "iopub.status.idle": "2020-09-25T05:51:53.572614Z",
     "shell.execute_reply": "2020-09-25T05:51:53.573221Z"
    },
    "papermill": {
     "duration": 0.041173,
     "end_time": "2020-09-25T05:51:53.573379",
     "exception": false,
     "start_time": "2020-09-25T05:51:53.532206",
     "status": "completed"
    },
    "tags": []
   },
   "outputs": [
    {
     "data": {
      "text/plain": [
       "{'updated': '2020-09-25',\n",
       " 'since': '2020-09-24',\n",
       " 'Cases': 5816130,\n",
       " 'PCases': 5816103,\n",
       " 'Deaths': 92317,\n",
       " 'PDeaths': 92317,\n",
       " 'Cases (+)': 27,\n",
       " 'Deaths (+)': 0}"
      ]
     },
     "execution_count": 14,
     "metadata": {},
     "output_type": "execute_result"
    }
   ],
   "source": [
    "#hide\n",
    "summary = {'updated':dates[-1], 'since':dates[-2]}\n",
    "list_names = ['Cases', 'PCases', 'Deaths', 'PDeaths', 'Cases (+)', 'Deaths (+)']\n",
    "for name in list_names:\n",
    "    summary[name] = df_table.sum()[name]\n",
    "summary"
   ]
  },
  {
   "cell_type": "code",
   "execution_count": 15,
   "metadata": {
    "execution": {
     "iopub.execute_input": "2020-09-25T05:51:53.617043Z",
     "iopub.status.busy": "2020-09-25T05:51:53.616379Z",
     "iopub.status.idle": "2020-09-25T05:51:53.618739Z",
     "shell.execute_reply": "2020-09-25T05:51:53.618099Z"
    },
    "papermill": {
     "duration": 0.024683,
     "end_time": "2020-09-25T05:51:53.618871",
     "exception": false,
     "start_time": "2020-09-25T05:51:53.594188",
     "status": "completed"
    },
    "tags": []
   },
   "outputs": [],
   "source": [
    "#hide\n",
    "overview = '''\n",
    "<!-- #######  HTML!! #########-->\n",
    "<h1 style=\"color: #5e9ca0; text-align: center;\">India</h1>\n",
    "<p style=\"text-align: center;\">Last update: <strong>{update}</strong></p>\n",
    "<p style=\"text-align: center;\">Confirmed cases:</p>\n",
    "<p style=\"text-align: center;font-size:24px;\">{cases} (<span style=\"color: #ff0000;\">+{new}</span>)</p>\n",
    "<p style=\"text-align: center;\">Confirmed deaths:</p>\n",
    "<p style=\"text-align: center;font-size:24px;\">{deaths} (<span style=\"color: #ff0000;\">+{dnew}</span>)</p>\n",
    "'''"
   ]
  },
  {
   "cell_type": "code",
   "execution_count": 16,
   "metadata": {
    "execution": {
     "iopub.execute_input": "2020-09-25T05:51:53.659905Z",
     "iopub.status.busy": "2020-09-25T05:51:53.659264Z",
     "iopub.status.idle": "2020-09-25T05:51:53.662707Z",
     "shell.execute_reply": "2020-09-25T05:51:53.662182Z"
    },
    "papermill": {
     "duration": 0.026304,
     "end_time": "2020-09-25T05:51:53.662849",
     "exception": false,
     "start_time": "2020-09-25T05:51:53.636545",
     "status": "completed"
    },
    "tags": []
   },
   "outputs": [
    {
     "data": {
      "text/html": [
       "\n",
       "<!-- #######  HTML!! #########-->\n",
       "<h1 style=\"color: #5e9ca0; text-align: center;\">India</h1>\n",
       "<p style=\"text-align: center;\">Last update: <strong>2020-09-25</strong></p>\n",
       "<p style=\"text-align: center;\">Confirmed cases:</p>\n",
       "<p style=\"text-align: center;font-size:24px;\">5816130 (<span style=\"color: #ff0000;\">+27</span>)</p>\n",
       "<p style=\"text-align: center;\">Confirmed deaths:</p>\n",
       "<p style=\"text-align: center;font-size:24px;\">92317 (<span style=\"color: #ff0000;\">+0</span>)</p>\n"
      ],
      "text/plain": [
       "<IPython.core.display.HTML object>"
      ]
     },
     "metadata": {},
     "output_type": "display_data"
    }
   ],
   "source": [
    "#hide_input\n",
    "update = summary['updated']\n",
    "cases = summary['Cases']\n",
    "new = summary['Cases (+)']\n",
    "deaths = summary['Deaths']\n",
    "dnew = summary['Deaths (+)']\n",
    "\n",
    "html = HTML(overview.format(update=update, cases=cases,new=new,deaths=deaths,dnew=dnew))\n",
    "\n",
    "display(html)"
   ]
  },
  {
   "cell_type": "code",
   "execution_count": 17,
   "metadata": {
    "execution": {
     "iopub.execute_input": "2020-09-25T05:51:53.707026Z",
     "iopub.status.busy": "2020-09-25T05:51:53.706385Z",
     "iopub.status.idle": "2020-09-25T05:51:53.711378Z",
     "shell.execute_reply": "2020-09-25T05:51:53.711882Z"
    },
    "papermill": {
     "duration": 0.031192,
     "end_time": "2020-09-25T05:51:53.712043",
     "exception": false,
     "start_time": "2020-09-25T05:51:53.680851",
     "status": "completed"
    },
    "tags": []
   },
   "outputs": [],
   "source": [
    "#hide\n",
    "dt_cols = list(dft_cases.columns[1:])\n",
    "dft_ct_new_cases = dft_cases.groupby('state')[dt_cols].sum().diff(axis=1).fillna(0).astype(int)\n",
    "dft_ct_new_cases.sort_values(by = dates[-1], ascending = False,inplace = True)"
   ]
  },
  {
   "cell_type": "code",
   "execution_count": 18,
   "metadata": {
    "execution": {
     "iopub.execute_input": "2020-09-25T05:51:53.768190Z",
     "iopub.status.busy": "2020-09-25T05:51:53.767528Z",
     "iopub.status.idle": "2020-09-25T05:51:53.770169Z",
     "shell.execute_reply": "2020-09-25T05:51:53.770792Z"
    },
    "papermill": {
     "duration": 0.040355,
     "end_time": "2020-09-25T05:51:53.770952",
     "exception": false,
     "start_time": "2020-09-25T05:51:53.730597",
     "status": "completed"
    },
    "tags": []
   },
   "outputs": [
    {
     "data": {
      "text/html": [
       "<div>\n",
       "<style scoped>\n",
       "    .dataframe tbody tr th:only-of-type {\n",
       "        vertical-align: middle;\n",
       "    }\n",
       "\n",
       "    .dataframe tbody tr th {\n",
       "        vertical-align: top;\n",
       "    }\n",
       "\n",
       "    .dataframe thead th {\n",
       "        text-align: right;\n",
       "    }\n",
       "</style>\n",
       "<table border=\"1\" class=\"dataframe\">\n",
       "  <thead>\n",
       "    <tr style=\"text-align: right;\">\n",
       "      <th>states</th>\n",
       "      <th>2020-07-01</th>\n",
       "      <th>2020-07-02</th>\n",
       "      <th>2020-07-03</th>\n",
       "      <th>2020-07-04</th>\n",
       "      <th>2020-07-05</th>\n",
       "      <th>2020-07-06</th>\n",
       "      <th>2020-07-07</th>\n",
       "      <th>2020-07-08</th>\n",
       "      <th>2020-07-09</th>\n",
       "      <th>2020-07-10</th>\n",
       "      <th>...</th>\n",
       "      <th>2020-09-16</th>\n",
       "      <th>2020-09-17</th>\n",
       "      <th>2020-09-18</th>\n",
       "      <th>2020-09-19</th>\n",
       "      <th>2020-09-20</th>\n",
       "      <th>2020-09-21</th>\n",
       "      <th>2020-09-22</th>\n",
       "      <th>2020-09-23</th>\n",
       "      <th>2020-09-24</th>\n",
       "      <th>2020-09-25</th>\n",
       "    </tr>\n",
       "    <tr>\n",
       "      <th>state</th>\n",
       "      <th></th>\n",
       "      <th></th>\n",
       "      <th></th>\n",
       "      <th></th>\n",
       "      <th></th>\n",
       "      <th></th>\n",
       "      <th></th>\n",
       "      <th></th>\n",
       "      <th></th>\n",
       "      <th></th>\n",
       "      <th></th>\n",
       "      <th></th>\n",
       "      <th></th>\n",
       "      <th></th>\n",
       "      <th></th>\n",
       "      <th></th>\n",
       "      <th></th>\n",
       "      <th></th>\n",
       "      <th></th>\n",
       "      <th></th>\n",
       "      <th></th>\n",
       "    </tr>\n",
       "  </thead>\n",
       "  <tbody>\n",
       "    <tr>\n",
       "      <th>Mizoram</th>\n",
       "      <td>0</td>\n",
       "      <td>2</td>\n",
       "      <td>0</td>\n",
       "      <td>2</td>\n",
       "      <td>22</td>\n",
       "      <td>11</td>\n",
       "      <td>1</td>\n",
       "      <td>5</td>\n",
       "      <td>0</td>\n",
       "      <td>23</td>\n",
       "      <td>...</td>\n",
       "      <td>12</td>\n",
       "      <td>26</td>\n",
       "      <td>28</td>\n",
       "      <td>14</td>\n",
       "      <td>30</td>\n",
       "      <td>7</td>\n",
       "      <td>106</td>\n",
       "      <td>22</td>\n",
       "      <td>46</td>\n",
       "      <td>27</td>\n",
       "    </tr>\n",
       "    <tr>\n",
       "      <th>Andaman and Nicobar Islands</th>\n",
       "      <td>0</td>\n",
       "      <td>9</td>\n",
       "      <td>7</td>\n",
       "      <td>3</td>\n",
       "      <td>6</td>\n",
       "      <td>16</td>\n",
       "      <td>6</td>\n",
       "      <td>2</td>\n",
       "      <td>7</td>\n",
       "      <td>0</td>\n",
       "      <td>...</td>\n",
       "      <td>19</td>\n",
       "      <td>11</td>\n",
       "      <td>27</td>\n",
       "      <td>13</td>\n",
       "      <td>7</td>\n",
       "      <td>22</td>\n",
       "      <td>18</td>\n",
       "      <td>21</td>\n",
       "      <td>32</td>\n",
       "      <td>0</td>\n",
       "    </tr>\n",
       "    <tr>\n",
       "      <th>Andhra Pradesh</th>\n",
       "      <td>0</td>\n",
       "      <td>845</td>\n",
       "      <td>837</td>\n",
       "      <td>765</td>\n",
       "      <td>998</td>\n",
       "      <td>1322</td>\n",
       "      <td>1178</td>\n",
       "      <td>1062</td>\n",
       "      <td>1555</td>\n",
       "      <td>1608</td>\n",
       "      <td>...</td>\n",
       "      <td>8835</td>\n",
       "      <td>8702</td>\n",
       "      <td>8096</td>\n",
       "      <td>8218</td>\n",
       "      <td>7738</td>\n",
       "      <td>6235</td>\n",
       "      <td>7553</td>\n",
       "      <td>7228</td>\n",
       "      <td>7855</td>\n",
       "      <td>0</td>\n",
       "    </tr>\n",
       "    <tr>\n",
       "      <th>Maharashtra</th>\n",
       "      <td>0</td>\n",
       "      <td>6328</td>\n",
       "      <td>6364</td>\n",
       "      <td>7074</td>\n",
       "      <td>6555</td>\n",
       "      <td>5368</td>\n",
       "      <td>5134</td>\n",
       "      <td>6603</td>\n",
       "      <td>6875</td>\n",
       "      <td>7862</td>\n",
       "      <td>...</td>\n",
       "      <td>23365</td>\n",
       "      <td>24619</td>\n",
       "      <td>21656</td>\n",
       "      <td>20519</td>\n",
       "      <td>20627</td>\n",
       "      <td>15738</td>\n",
       "      <td>18390</td>\n",
       "      <td>21029</td>\n",
       "      <td>19164</td>\n",
       "      <td>0</td>\n",
       "    </tr>\n",
       "    <tr>\n",
       "      <th>Manipur</th>\n",
       "      <td>0</td>\n",
       "      <td>19</td>\n",
       "      <td>37</td>\n",
       "      <td>9</td>\n",
       "      <td>41</td>\n",
       "      <td>24</td>\n",
       "      <td>40</td>\n",
       "      <td>5</td>\n",
       "      <td>15</td>\n",
       "      <td>132</td>\n",
       "      <td>...</td>\n",
       "      <td>110</td>\n",
       "      <td>110</td>\n",
       "      <td>177</td>\n",
       "      <td>117</td>\n",
       "      <td>170</td>\n",
       "      <td>116</td>\n",
       "      <td>270</td>\n",
       "      <td>96</td>\n",
       "      <td>161</td>\n",
       "      <td>0</td>\n",
       "    </tr>\n",
       "  </tbody>\n",
       "</table>\n",
       "<p>5 rows × 87 columns</p>\n",
       "</div>"
      ],
      "text/plain": [
       "states                       2020-07-01  2020-07-02  2020-07-03  2020-07-04  \\\n",
       "state                                                                         \n",
       "Mizoram                               0           2           0           2   \n",
       "Andaman and Nicobar Islands           0           9           7           3   \n",
       "Andhra Pradesh                        0         845         837         765   \n",
       "Maharashtra                           0        6328        6364        7074   \n",
       "Manipur                               0          19          37           9   \n",
       "\n",
       "states                       2020-07-05  2020-07-06  2020-07-07  2020-07-08  \\\n",
       "state                                                                         \n",
       "Mizoram                              22          11           1           5   \n",
       "Andaman and Nicobar Islands           6          16           6           2   \n",
       "Andhra Pradesh                      998        1322        1178        1062   \n",
       "Maharashtra                        6555        5368        5134        6603   \n",
       "Manipur                              41          24          40           5   \n",
       "\n",
       "states                       2020-07-09  2020-07-10  ...  2020-09-16  \\\n",
       "state                                                ...               \n",
       "Mizoram                               0          23  ...          12   \n",
       "Andaman and Nicobar Islands           7           0  ...          19   \n",
       "Andhra Pradesh                     1555        1608  ...        8835   \n",
       "Maharashtra                        6875        7862  ...       23365   \n",
       "Manipur                              15         132  ...         110   \n",
       "\n",
       "states                       2020-09-17  2020-09-18  2020-09-19  2020-09-20  \\\n",
       "state                                                                         \n",
       "Mizoram                              26          28          14          30   \n",
       "Andaman and Nicobar Islands          11          27          13           7   \n",
       "Andhra Pradesh                     8702        8096        8218        7738   \n",
       "Maharashtra                       24619       21656       20519       20627   \n",
       "Manipur                             110         177         117         170   \n",
       "\n",
       "states                       2020-09-21  2020-09-22  2020-09-23  2020-09-24  \\\n",
       "state                                                                         \n",
       "Mizoram                               7         106          22          46   \n",
       "Andaman and Nicobar Islands          22          18          21          32   \n",
       "Andhra Pradesh                     6235        7553        7228        7855   \n",
       "Maharashtra                       15738       18390       21029       19164   \n",
       "Manipur                             116         270          96         161   \n",
       "\n",
       "states                       2020-09-25  \n",
       "state                                    \n",
       "Mizoram                              27  \n",
       "Andaman and Nicobar Islands           0  \n",
       "Andhra Pradesh                        0  \n",
       "Maharashtra                           0  \n",
       "Manipur                               0  \n",
       "\n",
       "[5 rows x 87 columns]"
      ]
     },
     "execution_count": 18,
     "metadata": {},
     "output_type": "execute_result"
    }
   ],
   "source": [
    "#hide\n",
    "dft_ct_new_cases.head()"
   ]
  },
  {
   "cell_type": "code",
   "execution_count": 19,
   "metadata": {
    "execution": {
     "iopub.execute_input": "2020-09-25T05:51:53.833089Z",
     "iopub.status.busy": "2020-09-25T05:51:53.827812Z",
     "iopub.status.idle": "2020-09-25T05:51:57.971355Z",
     "shell.execute_reply": "2020-09-25T05:51:57.972079Z"
    },
    "papermill": {
     "duration": 4.182075,
     "end_time": "2020-09-25T05:51:57.972258",
     "exception": false,
     "start_time": "2020-09-25T05:51:53.790183",
     "status": "completed"
    },
    "tags": []
   },
   "outputs": [
    {
     "data": {
      "image/png": "[encoded data removed]",
      "text/plain": [
       "<Figure size 1296x2016 with 11 Axes>"
      ]
     },
     "metadata": {
      "needs_background": "light"
     },
     "output_type": "display_data"
    }
   ],
   "source": [
    "#hide_input\n",
    "df = dft_ct_new_cases.copy()\n",
    "df.loc['Total'] = df.sum()\n",
    "n = 5\n",
    "ax = []\n",
    "fig = plt.figure(figsize = (18,28))\n",
    "gs = fig.add_gridspec(n+2, 5)\n",
    "# gs = fig.add_gridspec(2, 3)\n",
    "ax1 = fig.add_subplot(gs[0, :])\n",
    "ef = df.loc['Total'].rename_axis('date').reset_index()\n",
    "ef['date'] = ef['date'].astype('datetime64[ns]')\n",
    "ax1.bar(ef.date,ef.Total,alpha=0.3,color='#007acc')\n",
    "ax1.plot(ef.date,ef.Total , marker=\"o\", color='#007acc')\n",
    "ax1.xaxis.set_major_locator(mdates.WeekdayLocator())\n",
    "ax1.xaxis.set_major_formatter(mdates.DateFormatter('%b %d'))\n",
    "ax1.text(0.02, 0.5,'India daily case count', transform = ax1.transAxes, fontsize=25);\n",
    "ax1.spines['right'].set_visible(False)\n",
    "ax1.spines['top'].set_visible(False)\n",
    "\n",
    "ax2 = fig.add_subplot(gs[1,0])\n",
    "ef = df.loc['Maharashtra'].rename_axis('date').reset_index()\n",
    "ef['date'] = ef['date'].astype('datetime64[ns]')\n",
    "\n",
    "ax2.bar(ef.date, ef.Maharashtra,color = '#007acc',alpha=0.5)\n",
    "ax2.xaxis.set_major_locator(mdates.WeekdayLocator())\n",
    "ax2.xaxis.set_major_formatter(mdates.DateFormatter('%b %d'))\n",
    "ax2.set_xticks(ax2.get_xticks()[::3])\n",
    "maxyval = ef.Maharashtra.max()\n",
    "ax2.set_ylim([0,maxyval])\n",
    "ax2.text(0.05, 0.9,'Maharashtra', transform = ax2.transAxes, fontsize=20);\n",
    "ax2.spines['right'].set_visible(False)\n",
    "ax2.spines['top'].set_visible(False)\n",
    "\n",
    "\n",
    "ax3 = fig.add_subplot(gs[1,1])\n",
    "ef = df.loc['Tamil Nadu'].rename_axis('date').reset_index()\n",
    "ef['date'] = ef['date'].astype('datetime64[ns]')\n",
    "ax3.bar(ef.date, ef['Tamil Nadu'],color = '#007acc',alpha=0.5,)\n",
    "ax3.xaxis.set_major_locator(mdates.WeekdayLocator())\n",
    "ax3.xaxis.set_major_formatter(mdates.DateFormatter('%b %d'))\n",
    "ax3.set_xticks(ax3.get_xticks()[::3])\n",
    "ax3.text(0.05, 0.9,'Tamil Nadu', transform = ax3.transAxes, fontsize=20);\n",
    "ax3.spines['right'].set_visible(False)\n",
    "ax3.spines['top'].set_visible(False)\n",
    "\n",
    "ax5 = fig.add_subplot(gs[1,3])\n",
    "ef = df.loc['Telangana'].rename_axis('date').reset_index()\n",
    "ef['date'] = ef['date'].astype('datetime64[ns]')\n",
    "ax5.bar(ef.date, ef['Telangana'],color = '#007acc',alpha=0.5,)\n",
    "ax5.xaxis.set_major_locator(mdates.WeekdayLocator())\n",
    "ax5.xaxis.set_major_formatter(mdates.DateFormatter('%b %d'))\n",
    "ax5.set_xticks(ax5.get_xticks()[::3])\n",
    "ax5.text(0.05, 0.9,'Telangana', transform = ax5.transAxes, fontsize=20);\n",
    "ax5.spines['right'].set_visible(False)\n",
    "ax5.spines['top'].set_visible(False)\n",
    "\n",
    "ax6 = fig.add_subplot(gs[1,4])\n",
    "ef = df.loc['Andhra Pradesh'].rename_axis('date').reset_index()\n",
    "ef['date'] = ef['date'].astype('datetime64[ns]')\n",
    "ax6.bar(ef.date, ef['Andhra Pradesh'],color = '#007acc',alpha=0.5,)\n",
    "ax6.xaxis.set_major_locator(mdates.WeekdayLocator())\n",
    "ax6.xaxis.set_major_formatter(mdates.DateFormatter('%b %d'))\n",
    "ax6.set_xticks(ax6.get_xticks()[::3])\n",
    "ax6.text(0.05, 1,'Andhra Pradesh', transform = ax6.transAxes, fontsize=20);\n",
    "ax6.spines['right'].set_visible(False)\n",
    "ax6.spines['top'].set_visible(False)\n",
    "\n",
    "ax4 = fig.add_subplot(gs[1,2])\n",
    "ef = df.loc['Delhi'].rename_axis('date').reset_index()\n",
    "ef['date'] = ef['date'].astype('datetime64[ns]')\n",
    "ax4.bar(ef.date, ef.Delhi,color = '#007acc',alpha=0.5)\n",
    "ax4.set_xticks([])\n",
    "ax4.xaxis.set_major_locator(mdates.WeekdayLocator())\n",
    "ax4.xaxis.set_major_formatter(mdates.DateFormatter('%b %d'))\n",
    "ax4.set_xticks(ax4.get_xticks()[::3])\n",
    "ax4.spines['right'].set_visible(False)\n",
    "ax4.spines['top'].set_visible(False)\n",
    "\n",
    "ax4.text(0.05, 1,'Delhi', transform = ax4.transAxes, fontsize=20)\n",
    "\n",
    "for i in range(n):\n",
    "    \n",
    "    ax.append(fig.add_subplot(gs[i+2,:]))\n",
    "    ef = df.iloc[i+3].rename_axis('date').reset_index()\n",
    "    ef['date'] = ef['date'].astype('datetime64[ns]')\n",
    "    ax[i].bar(ef.date,ef.iloc[:,-1],color = '#007acc',alpha=0.3)\n",
    "    ax[i].plot(ef.date,ef.iloc[:,-1],marker='o',color='#007acc')\n",
    "    ax[i].text(0.02,0.5,f'{ef.columns.values[-1]}',transform = ax[i].transAxes, fontsize = 20);\n",
    "    ax[i].xaxis.set_major_locator(mdates.WeekdayLocator())\n",
    "    ax[i].xaxis.set_major_formatter(mdates.DateFormatter('%b %d'))\n",
    "    ax[i].set_ylim([0,7000])\n",
    "    ax[i].spines['right'].set_visible(False)\n",
    "    ax[i].spines['top'].set_visible(False)\n",
    "plt.tight_layout()\n"
   ]
  },
  {
   "cell_type": "code",
   "execution_count": 20,
   "metadata": {
    "execution": {
     "iopub.execute_input": "2020-09-25T05:51:58.028233Z",
     "iopub.status.busy": "2020-09-25T05:51:58.027596Z",
     "iopub.status.idle": "2020-09-25T05:51:58.031093Z",
     "shell.execute_reply": "2020-09-25T05:51:58.031714Z"
    },
    "papermill": {
     "duration": 0.036429,
     "end_time": "2020-09-25T05:51:58.031879",
     "exception": false,
     "start_time": "2020-09-25T05:51:57.995450",
     "status": "completed"
    },
    "tags": []
   },
   "outputs": [
    {
     "name": "stdout",
     "output_type": "stream",
     "text": [
      "                                   states    Cases  Deaths   PCases  PDeaths  Cases (+)  Deaths (+)  Fatality Rate\n",
      "                              Maharashtra  1282963   34345  1282963    34345          0           0           2.68\n",
      "                           Andhra Pradesh   654385    5558   654385     5558          0           0           0.85\n",
      "                               Tamil Nadu   563691    9076   563691     9076          0           0           1.61\n",
      "                                Karnataka   548557    8331   548557     8331          0           0           1.52\n",
      "                            Uttar Pradesh   374277    5366   374277     5366          0           0           1.43\n",
      "                                    Delhi   260623    5123   260623     5123          0           0           1.97\n",
      "                              West Bengal   237869    4606   237869     4606          0           0           1.94\n",
      "                                   Odisha   196888     805   196888      805          0           0           0.41\n",
      "                                Telangana   179246    1070   179246     1070          0           0           0.60\n",
      "                                    Bihar   174266     878   174266      878          0           0           0.50\n",
      "                                    Assam   165582     608   165582      608          0           0           0.37\n",
      "                                   Kerala   154458     614   154458      614          0           0           0.40\n",
      "                                  Gujarat   128949    3382   128949     3382          0           0           2.62\n",
      "                                Rajasthan   122720    1397   122720     1397          0           0           1.14\n",
      "                                  Haryana   118554    1255   118554     1255          0           0           1.06\n",
      "                           Madhya Pradesh   115361    2122   115361     2122          0           0           1.84\n",
      "                                   Punjab   105220    3066   105220     3066          0           0           2.91\n",
      "                             Chhattisgarh    95623     752    95623      752          0           0           0.79\n",
      "                                Jharkhand    76438     652    76438      652          0           0           0.85\n",
      "                        Jammu and Kashmir    68614    1084    68614     1084          0           0           1.58\n",
      "                              Uttarakhand    44404     542    44404      542          0           0           1.22\n",
      "                                      Goa    30552     383    30552      383          0           0           1.25\n",
      "                               Puducherry    24895     487    24895      487          0           0           1.96\n",
      "                                  Tripura    23786     257    23786      257          0           0           1.08\n",
      "                         Himachal Pradesh    13386     145    13386      145          0           0           1.08\n",
      "                               Chandigarh    10968     144    10968      144          0           0           1.31\n",
      "                                  Manipur     9537      62     9537       62          0           0           0.65\n",
      "                        Arunachal Pradesh     8416      14     8416       14          0           0           0.17\n",
      "                                 Nagaland     5730      11     5730       11          0           0           0.19\n",
      "                                Meghalaya     5083      43     5083       43          0           0           0.85\n",
      "                                   Ladakh     3969      54     3969       54          0           0           1.36\n",
      "              Andaman and Nicobar Islands     3744      52     3744       52          0           0           1.39\n",
      " Dadra and Nagar Haveli and Daman and Diu     2978       2     2978        2          0           0           0.07\n",
      "                                   Sikkim     2612      31     2612       31          0           0           1.19\n",
      "                                  Mizoram     1786       0     1759        0         27           0           0.00\n",
      "                              Lakshadweep        0       0        0        0          0           0            NaN\n"
     ]
    }
   ],
   "source": [
    "#hide_input\n",
    "print(df_table.to_string(index=False))"
   ]
  },
  {
   "cell_type": "code",
   "execution_count": null,
   "metadata": {
    "papermill": {
     "duration": 0.023615,
     "end_time": "2020-09-25T05:51:58.078490",
     "exception": false,
     "start_time": "2020-09-25T05:51:58.054875",
     "status": "completed"
    },
    "tags": []
   },
   "outputs": [],
   "source": []
  },
  {
   "cell_type": "code",
   "execution_count": null,
   "metadata": {
    "papermill": {
     "duration": 0.024768,
     "end_time": "2020-09-25T05:51:58.126869",
     "exception": false,
     "start_time": "2020-09-25T05:51:58.102101",
     "status": "completed"
    },
    "tags": []
   },
   "outputs": [],
   "source": []
  }
 ],
 "metadata": {
  "kernelspec": {
   "display_name": "Python 3",
   "language": "python",
   "name": "python3"
  },
  "language_info": {
   "codemirror_mode": {
    "name": "ipython",
    "version": 3
   },
   "file_extension": ".py",
   "mimetype": "text/x-python",
   "name": "python",
   "nbconvert_exporter": "python",
   "pygments_lexer": "ipython3",
   "version": "3.6.12"
  },
  "papermill": {
   "duration": 10.679422,
   "end_time": "2020-09-25T05:51:58.558684",
   "environment_variables": {},
   "exception": null,
   "input_path": "latest.ipynb",
   "output_path": "latest.ipynb",
   "parameters": {},
   "start_time": "2020-09-25T05:51:47.879262",
   "version": "2.1.2"
  }
 },
 "nbformat": 4,
 "nbformat_minor": 4
}