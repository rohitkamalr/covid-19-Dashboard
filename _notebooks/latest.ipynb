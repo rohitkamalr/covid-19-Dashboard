{
 "cells": [
  {
   "cell_type": "markdown",
   "metadata": {
    "papermill": {
     "duration": 0.021623,
     "end_time": "2020-10-22T13:25:41.055281",
     "exception": false,
     "start_time": "2020-10-22T13:25:41.033658",
     "status": "completed"
    },
    "tags": []
   },
   "source": [
    "# Latest COVID-19 India Matplotlib Overview"
   ]
  },
  {
   "cell_type": "code",
   "execution_count": 1,
   "metadata": {
    "execution": {
     "iopub.execute_input": "2020-10-22T13:25:41.093832Z",
     "iopub.status.busy": "2020-10-22T13:25:41.093253Z",
     "iopub.status.idle": "2020-10-22T13:25:41.647565Z",
     "shell.execute_reply": "2020-10-22T13:25:41.646740Z"
    },
    "papermill": {
     "duration": 0.57595,
     "end_time": "2020-10-22T13:25:41.647793",
     "exception": false,
     "start_time": "2020-10-22T13:25:41.071843",
     "status": "completed"
    },
    "tags": []
   },
   "outputs": [],
   "source": [
    "#hide\n",
    "import pandas as pd\n",
    "import numpy as np\n",
    "import requests\n",
    "import json\n",
    "import matplotlib.pyplot as plt\n",
    "import matplotlib.dates as mdates\n",
    "import matplotlib as mpl\n",
    "from IPython.core.display import display,HTML\n",
    "%matplotlib inline\n",
    "from datetime import date"
   ]
  },
  {
   "cell_type": "code",
   "execution_count": 2,
   "metadata": {
    "execution": {
     "iopub.execute_input": "2020-10-22T13:25:41.688514Z",
     "iopub.status.busy": "2020-10-22T13:25:41.687525Z",
     "iopub.status.idle": "2020-10-22T13:25:42.000011Z",
     "shell.execute_reply": "2020-10-22T13:25:41.999479Z"
    },
    "papermill": {
     "duration": 0.335306,
     "end_time": "2020-10-22T13:25:42.000148",
     "exception": false,
     "start_time": "2020-10-22T13:25:41.664842",
     "status": "completed"
    },
    "tags": []
   },
   "outputs": [],
   "source": [
    "#hide\n",
    "df  = pd.read_csv('https://api.covid19india.org/csv/latest/states.csv')\n",
    "df = df[['Date','State','Confirmed','Deceased']]\n",
    "df = df.rename(columns={'Confirmed':'Cases', \"Deceased\":'Deaths'})\n",
    "df_cases = df[[\"Date\",'State','Cases']]\n",
    "df_deaths = df[['Date','State','Deaths']]\n",
    "df_cases1 = df_cases.groupby('Date')\n",
    "df_deaths1= df_deaths.groupby('Date')"
   ]
  },
  {
   "cell_type": "code",
   "execution_count": 3,
   "metadata": {
    "execution": {
     "iopub.execute_input": "2020-10-22T13:25:42.033468Z",
     "iopub.status.busy": "2020-10-22T13:25:42.032919Z",
     "iopub.status.idle": "2020-10-22T13:25:42.050356Z",
     "shell.execute_reply": "2020-10-22T13:25:42.049929Z"
    },
    "papermill": {
     "duration": 0.036552,
     "end_time": "2020-10-22T13:25:42.050469",
     "exception": false,
     "start_time": "2020-10-22T13:25:42.013917",
     "status": "completed"
    },
    "tags": []
   },
   "outputs": [],
   "source": [
    "#hide\n",
    "df_snap = pd.read_csv('data/SnapshotCases-28-July.csv')\n",
    "arr_states = df_snap['states'].unique()\n",
    "arr_dates = df['Date'].unique()\n",
    "df_snap = df_snap.set_index('states')"
   ]
  },
  {
   "cell_type": "code",
   "execution_count": 4,
   "metadata": {
    "execution": {
     "iopub.execute_input": "2020-10-22T13:25:42.086813Z",
     "iopub.status.busy": "2020-10-22T13:25:42.086107Z",
     "iopub.status.idle": "2020-10-22T13:25:42.090131Z",
     "shell.execute_reply": "2020-10-22T13:25:42.090799Z"
    },
    "papermill": {
     "duration": 0.0263,
     "end_time": "2020-10-22T13:25:42.090961",
     "exception": false,
     "start_time": "2020-10-22T13:25:42.064661",
     "status": "completed"
    },
    "tags": []
   },
   "outputs": [
    {
     "data": {
      "text/plain": [
       "array(['Andaman and Nicobar Islands', 'Andhra Pradesh',\n",
       "       'Arunachal Pradesh', 'Assam', 'Bihar', 'Chandigarh',\n",
       "       'Dadra and Nagar Haveli and Daman and Diu', 'Delhi', 'Goa',\n",
       "       'Gujarat', 'Haryana', 'Himachal Pradesh', 'Jammu and Kashmir',\n",
       "       'Jharkhand', 'Karnataka', 'Kerala', 'Lakshadweep',\n",
       "       'Madhya Pradesh', 'Maharashtra', 'Manipur', 'Meghalaya', 'Mizoram',\n",
       "       'Nagaland', 'Odisha', 'Puducherry', 'Punjab', 'Rajasthan',\n",
       "       'Sikkim', 'Tamil Nadu', 'Telangana', 'Tripura', 'Uttar Pradesh',\n",
       "       'West Bengal', 'Chhattisgarh', 'Ladakh', 'Uttarakhand'],\n",
       "      dtype=object)"
      ]
     },
     "execution_count": 4,
     "metadata": {},
     "output_type": "execute_result"
    }
   ],
   "source": [
    "#hide\n",
    "arr_states[-9] = 'Puducherry'\n",
    "arr_states[-10] = 'Odisha'\n",
    "arr_states[6] = 'Dadra and Nagar Haveli and Daman and Diu'\n",
    "arr_states = np.append(arr_states,np.array(['Chhattisgarh','Ladakh','Uttarakhand']))\n",
    "arr_states"
   ]
  },
  {
   "cell_type": "code",
   "execution_count": 5,
   "metadata": {
    "execution": {
     "iopub.execute_input": "2020-10-22T13:25:42.132849Z",
     "iopub.status.busy": "2020-10-22T13:25:42.123507Z",
     "iopub.status.idle": "2020-10-22T13:25:42.140215Z",
     "shell.execute_reply": "2020-10-22T13:25:42.139709Z"
    },
    "papermill": {
     "duration": 0.034185,
     "end_time": "2020-10-22T13:25:42.140340",
     "exception": false,
     "start_time": "2020-10-22T13:25:42.106155",
     "status": "completed"
    },
    "tags": []
   },
   "outputs": [],
   "source": [
    "#hide\n",
    "dates = []\n",
    "for i in arr_dates:\n",
    "    if i>='2020-07-01':\n",
    "        dates.append(i)\n",
    "dict = {'states':dates}\n",
    "for i in arr_states:\n",
    "    dict[i] = [0]*len(dates)\n",
    "dft_cases = pd.DataFrame(dict)\n",
    "dft_deaths = pd.DataFrame(dict)\n"
   ]
  },
  {
   "cell_type": "code",
   "execution_count": 6,
   "metadata": {
    "execution": {
     "iopub.execute_input": "2020-10-22T13:25:42.177669Z",
     "iopub.status.busy": "2020-10-22T13:25:42.177106Z",
     "iopub.status.idle": "2020-10-22T13:25:43.615507Z",
     "shell.execute_reply": "2020-10-22T13:25:43.615021Z"
    },
    "papermill": {
     "duration": 1.460488,
     "end_time": "2020-10-22T13:25:43.615642",
     "exception": false,
     "start_time": "2020-10-22T13:25:42.155154",
     "status": "completed"
    },
    "tags": []
   },
   "outputs": [],
   "source": [
    "#hide\n",
    "for i in range(len(dates)):\n",
    "    df1_deaths = df_deaths1.get_group(dates[i])\n",
    "    for j in range(len(df1_deaths.index)):\n",
    "        if df1_deaths.iloc[j,1] in arr_states:\n",
    "            dft_deaths.loc[i,df1_deaths.iloc[j,1]] = df1_deaths.iloc[j,2]\n",
    "dft_deaths = dft_deaths.set_index('states')"
   ]
  },
  {
   "cell_type": "code",
   "execution_count": 7,
   "metadata": {
    "execution": {
     "iopub.execute_input": "2020-10-22T13:25:43.657617Z",
     "iopub.status.busy": "2020-10-22T13:25:43.657044Z",
     "iopub.status.idle": "2020-10-22T13:25:45.131949Z",
     "shell.execute_reply": "2020-10-22T13:25:45.131061Z"
    },
    "papermill": {
     "duration": 1.497755,
     "end_time": "2020-10-22T13:25:45.132259",
     "exception": false,
     "start_time": "2020-10-22T13:25:43.634504",
     "status": "completed"
    },
    "tags": []
   },
   "outputs": [],
   "source": [
    "#hide\n",
    "for i in range(len(dates)):\n",
    "    df1_cases = df_cases1.get_group(dates[i])\n",
    "    for j in range(len(df1_cases.index)):\n",
    "        if df1_cases.iloc[j,1] in arr_states:\n",
    "            dft_cases.loc[i,df1_cases.iloc[j,1]] = df1_cases.iloc[j,2]\n",
    "dft_cases = dft_cases.set_index('states')"
   ]
  },
  {
   "cell_type": "code",
   "execution_count": 8,
   "metadata": {
    "execution": {
     "iopub.execute_input": "2020-10-22T13:25:45.169122Z",
     "iopub.status.busy": "2020-10-22T13:25:45.168343Z",
     "iopub.status.idle": "2020-10-22T13:25:45.172826Z",
     "shell.execute_reply": "2020-10-22T13:25:45.172286Z"
    },
    "papermill": {
     "duration": 0.025454,
     "end_time": "2020-10-22T13:25:45.172955",
     "exception": false,
     "start_time": "2020-10-22T13:25:45.147501",
     "status": "completed"
    },
    "tags": []
   },
   "outputs": [],
   "source": [
    "#hide\n",
    "dft_cases = dft_cases.T\n",
    "dft_deaths = dft_deaths.T\n",
    "dt_today = dates[-1]\n",
    "dt_yday = dates[-2]"
   ]
  },
  {
   "cell_type": "code",
   "execution_count": 9,
   "metadata": {
    "execution": {
     "iopub.execute_input": "2020-10-22T13:25:45.211831Z",
     "iopub.status.busy": "2020-10-22T13:25:45.210608Z",
     "iopub.status.idle": "2020-10-22T13:25:45.213257Z",
     "shell.execute_reply": "2020-10-22T13:25:45.212796Z"
    },
    "papermill": {
     "duration": 0.026155,
     "end_time": "2020-10-22T13:25:45.213377",
     "exception": false,
     "start_time": "2020-10-22T13:25:45.187222",
     "status": "completed"
    },
    "tags": []
   },
   "outputs": [],
   "source": [
    "#hide\n",
    "dft_cases = dft_cases.reset_index()\n",
    "dft_deaths = dft_deaths.reset_index()\n",
    "dft_cases = dft_cases.rename(columns = {'index':'state'})\n",
    "dft_deaths = dft_deaths.rename(columns = {'index':'state'})"
   ]
  },
  {
   "cell_type": "code",
   "execution_count": 10,
   "metadata": {
    "execution": {
     "iopub.execute_input": "2020-10-22T13:25:45.255161Z",
     "iopub.status.busy": "2020-10-22T13:25:45.252344Z",
     "iopub.status.idle": "2020-10-22T13:25:45.257559Z",
     "shell.execute_reply": "2020-10-22T13:25:45.257087Z"
    },
    "papermill": {
     "duration": 0.029892,
     "end_time": "2020-10-22T13:25:45.257701",
     "exception": false,
     "start_time": "2020-10-22T13:25:45.227809",
     "status": "completed"
    },
    "tags": []
   },
   "outputs": [],
   "source": [
    "#hide\n",
    "dfc_cases = dft_cases.groupby('state')[dt_today].sum()\n",
    "dfc_deaths = dft_deaths.groupby('state')[dt_today].sum()\n",
    "dfp_cases = dft_cases.groupby('state')[dt_yday].sum()\n",
    "dfp_deaths = dft_deaths.groupby('state')[dt_yday].sum()"
   ]
  },
  {
   "cell_type": "code",
   "execution_count": 11,
   "metadata": {
    "execution": {
     "iopub.execute_input": "2020-10-22T13:25:45.303274Z",
     "iopub.status.busy": "2020-10-22T13:25:45.302690Z",
     "iopub.status.idle": "2020-10-22T13:25:45.309348Z",
     "shell.execute_reply": "2020-10-22T13:25:45.308782Z"
    },
    "papermill": {
     "duration": 0.036199,
     "end_time": "2020-10-22T13:25:45.309495",
     "exception": false,
     "start_time": "2020-10-22T13:25:45.273296",
     "status": "completed"
    },
    "tags": []
   },
   "outputs": [
    {
     "data": {
      "text/html": [
       "<div>\n",
       "<style scoped>\n",
       "    .dataframe tbody tr th:only-of-type {\n",
       "        vertical-align: middle;\n",
       "    }\n",
       "\n",
       "    .dataframe tbody tr th {\n",
       "        vertical-align: top;\n",
       "    }\n",
       "\n",
       "    .dataframe thead th {\n",
       "        text-align: right;\n",
       "    }\n",
       "</style>\n",
       "<table border=\"1\" class=\"dataframe\">\n",
       "  <thead>\n",
       "    <tr style=\"text-align: right;\">\n",
       "      <th></th>\n",
       "      <th>states</th>\n",
       "      <th>Cases</th>\n",
       "      <th>Deaths</th>\n",
       "      <th>PCases</th>\n",
       "      <th>PDeaths</th>\n",
       "    </tr>\n",
       "  </thead>\n",
       "  <tbody>\n",
       "    <tr>\n",
       "      <th>0</th>\n",
       "      <td>Maharashtra</td>\n",
       "      <td>1617658</td>\n",
       "      <td>42633</td>\n",
       "      <td>1617658</td>\n",
       "      <td>42633</td>\n",
       "    </tr>\n",
       "    <tr>\n",
       "      <th>1</th>\n",
       "      <td>Andhra Pradesh</td>\n",
       "      <td>793299</td>\n",
       "      <td>6508</td>\n",
       "      <td>793299</td>\n",
       "      <td>6508</td>\n",
       "    </tr>\n",
       "    <tr>\n",
       "      <th>2</th>\n",
       "      <td>Karnataka</td>\n",
       "      <td>782773</td>\n",
       "      <td>10696</td>\n",
       "      <td>782773</td>\n",
       "      <td>10696</td>\n",
       "    </tr>\n",
       "    <tr>\n",
       "      <th>3</th>\n",
       "      <td>Tamil Nadu</td>\n",
       "      <td>697116</td>\n",
       "      <td>10780</td>\n",
       "      <td>697116</td>\n",
       "      <td>10780</td>\n",
       "    </tr>\n",
       "    <tr>\n",
       "      <th>4</th>\n",
       "      <td>Uttar Pradesh</td>\n",
       "      <td>461475</td>\n",
       "      <td>6755</td>\n",
       "      <td>461475</td>\n",
       "      <td>6755</td>\n",
       "    </tr>\n",
       "  </tbody>\n",
       "</table>\n",
       "</div>"
      ],
      "text/plain": [
       "           states    Cases  Deaths   PCases  PDeaths\n",
       "0     Maharashtra  1617658   42633  1617658    42633\n",
       "1  Andhra Pradesh   793299    6508   793299     6508\n",
       "2       Karnataka   782773   10696   782773    10696\n",
       "3      Tamil Nadu   697116   10780   697116    10780\n",
       "4   Uttar Pradesh   461475    6755   461475     6755"
      ]
     },
     "execution_count": 11,
     "metadata": {},
     "output_type": "execute_result"
    }
   ],
   "source": [
    "#hide\n",
    "df_table = pd.DataFrame({'states': dfc_cases.index, 'Cases': dfc_cases.values, 'Deaths': dfc_deaths.values, 'PCases': dfp_cases.values, 'PDeaths': dfp_deaths.values}).set_index('states')\n",
    "df_table = df_table.sort_values(by = ['Cases','Deaths'], ascending = [False, False])\n",
    "df_table = df_table.reset_index()\n",
    "df_table.head()"
   ]
  },
  {
   "cell_type": "code",
   "execution_count": 12,
   "metadata": {
    "execution": {
     "iopub.execute_input": "2020-10-22T13:25:45.345822Z",
     "iopub.status.busy": "2020-10-22T13:25:45.345259Z",
     "iopub.status.idle": "2020-10-22T13:25:45.353811Z",
     "shell.execute_reply": "2020-10-22T13:25:45.353325Z"
    },
    "papermill": {
     "duration": 0.029463,
     "end_time": "2020-10-22T13:25:45.353938",
     "exception": false,
     "start_time": "2020-10-22T13:25:45.324475",
     "status": "completed"
    },
    "tags": []
   },
   "outputs": [],
   "source": [
    "#hide\n",
    "for c in 'Cases, Deaths'.split(', '):\n",
    "    df_table[f'{c} (+)'] = (df_table[c] - df_table[f'P{c}']).clip(0)\n",
    "df_table['Fatality Rate'] = (100* df_table['Deaths']/ df_table['Cases']).round(2)"
   ]
  },
  {
   "cell_type": "code",
   "execution_count": 13,
   "metadata": {
    "execution": {
     "iopub.execute_input": "2020-10-22T13:25:45.397686Z",
     "iopub.status.busy": "2020-10-22T13:25:45.396849Z",
     "iopub.status.idle": "2020-10-22T13:25:45.400168Z",
     "shell.execute_reply": "2020-10-22T13:25:45.400647Z"
    },
    "papermill": {
     "duration": 0.031544,
     "end_time": "2020-10-22T13:25:45.400799",
     "exception": false,
     "start_time": "2020-10-22T13:25:45.369255",
     "status": "completed"
    },
    "tags": []
   },
   "outputs": [
    {
     "data": {
      "text/html": [
       "<div>\n",
       "<style scoped>\n",
       "    .dataframe tbody tr th:only-of-type {\n",
       "        vertical-align: middle;\n",
       "    }\n",
       "\n",
       "    .dataframe tbody tr th {\n",
       "        vertical-align: top;\n",
       "    }\n",
       "\n",
       "    .dataframe thead th {\n",
       "        text-align: right;\n",
       "    }\n",
       "</style>\n",
       "<table border=\"1\" class=\"dataframe\">\n",
       "  <thead>\n",
       "    <tr style=\"text-align: right;\">\n",
       "      <th></th>\n",
       "      <th>states</th>\n",
       "      <th>Cases</th>\n",
       "      <th>Deaths</th>\n",
       "      <th>PCases</th>\n",
       "      <th>PDeaths</th>\n",
       "      <th>Cases (+)</th>\n",
       "      <th>Deaths (+)</th>\n",
       "      <th>Fatality Rate</th>\n",
       "    </tr>\n",
       "  </thead>\n",
       "  <tbody>\n",
       "    <tr>\n",
       "      <th>0</th>\n",
       "      <td>Maharashtra</td>\n",
       "      <td>1617658</td>\n",
       "      <td>42633</td>\n",
       "      <td>1617658</td>\n",
       "      <td>42633</td>\n",
       "      <td>0</td>\n",
       "      <td>0</td>\n",
       "      <td>2.64</td>\n",
       "    </tr>\n",
       "    <tr>\n",
       "      <th>1</th>\n",
       "      <td>Andhra Pradesh</td>\n",
       "      <td>793299</td>\n",
       "      <td>6508</td>\n",
       "      <td>793299</td>\n",
       "      <td>6508</td>\n",
       "      <td>0</td>\n",
       "      <td>0</td>\n",
       "      <td>0.82</td>\n",
       "    </tr>\n",
       "    <tr>\n",
       "      <th>2</th>\n",
       "      <td>Karnataka</td>\n",
       "      <td>782773</td>\n",
       "      <td>10696</td>\n",
       "      <td>782773</td>\n",
       "      <td>10696</td>\n",
       "      <td>0</td>\n",
       "      <td>0</td>\n",
       "      <td>1.37</td>\n",
       "    </tr>\n",
       "    <tr>\n",
       "      <th>3</th>\n",
       "      <td>Tamil Nadu</td>\n",
       "      <td>697116</td>\n",
       "      <td>10780</td>\n",
       "      <td>697116</td>\n",
       "      <td>10780</td>\n",
       "      <td>0</td>\n",
       "      <td>0</td>\n",
       "      <td>1.55</td>\n",
       "    </tr>\n",
       "    <tr>\n",
       "      <th>4</th>\n",
       "      <td>Uttar Pradesh</td>\n",
       "      <td>461475</td>\n",
       "      <td>6755</td>\n",
       "      <td>461475</td>\n",
       "      <td>6755</td>\n",
       "      <td>0</td>\n",
       "      <td>0</td>\n",
       "      <td>1.46</td>\n",
       "    </tr>\n",
       "  </tbody>\n",
       "</table>\n",
       "</div>"
      ],
      "text/plain": [
       "           states    Cases  Deaths   PCases  PDeaths  Cases (+)  Deaths (+)  \\\n",
       "0     Maharashtra  1617658   42633  1617658    42633          0           0   \n",
       "1  Andhra Pradesh   793299    6508   793299     6508          0           0   \n",
       "2       Karnataka   782773   10696   782773    10696          0           0   \n",
       "3      Tamil Nadu   697116   10780   697116    10780          0           0   \n",
       "4   Uttar Pradesh   461475    6755   461475     6755          0           0   \n",
       "\n",
       "   Fatality Rate  \n",
       "0           2.64  \n",
       "1           0.82  \n",
       "2           1.37  \n",
       "3           1.55  \n",
       "4           1.46  "
      ]
     },
     "execution_count": 13,
     "metadata": {},
     "output_type": "execute_result"
    }
   ],
   "source": [
    "#hide\n",
    "df_table.head()"
   ]
  },
  {
   "cell_type": "code",
   "execution_count": 14,
   "metadata": {
    "execution": {
     "iopub.execute_input": "2020-10-22T13:25:45.443415Z",
     "iopub.status.busy": "2020-10-22T13:25:45.442859Z",
     "iopub.status.idle": "2020-10-22T13:25:45.458469Z",
     "shell.execute_reply": "2020-10-22T13:25:45.458919Z"
    },
    "papermill": {
     "duration": 0.038289,
     "end_time": "2020-10-22T13:25:45.459067",
     "exception": false,
     "start_time": "2020-10-22T13:25:45.420778",
     "status": "completed"
    },
    "tags": []
   },
   "outputs": [
    {
     "data": {
      "text/plain": [
       "{'updated': '2020-10-22',\n",
       " 'since': '2020-10-21',\n",
       " 'Cases': 7708947,\n",
       " 'PCases': 7705422,\n",
       " 'Deaths': 116673,\n",
       " 'PDeaths': 116651,\n",
       " 'Cases (+)': 3525,\n",
       " 'Deaths (+)': 22}"
      ]
     },
     "execution_count": 14,
     "metadata": {},
     "output_type": "execute_result"
    }
   ],
   "source": [
    "#hide\n",
    "summary = {'updated':dates[-1], 'since':dates[-2]}\n",
    "list_names = ['Cases', 'PCases', 'Deaths', 'PDeaths', 'Cases (+)', 'Deaths (+)']\n",
    "for name in list_names:\n",
    "    summary[name] = df_table.sum()[name]\n",
    "summary"
   ]
  },
  {
   "cell_type": "code",
   "execution_count": 15,
   "metadata": {
    "execution": {
     "iopub.execute_input": "2020-10-22T13:25:45.495829Z",
     "iopub.status.busy": "2020-10-22T13:25:45.495143Z",
     "iopub.status.idle": "2020-10-22T13:25:45.496576Z",
     "shell.execute_reply": "2020-10-22T13:25:45.497217Z"
    },
    "papermill": {
     "duration": 0.02268,
     "end_time": "2020-10-22T13:25:45.497375",
     "exception": false,
     "start_time": "2020-10-22T13:25:45.474695",
     "status": "completed"
    },
    "tags": []
   },
   "outputs": [],
   "source": [
    "#hide\n",
    "overview = '''\n",
    "<!-- #######  HTML!! #########-->\n",
    "<h1 style=\"color: #5e9ca0; text-align: center;\">India</h1>\n",
    "<p style=\"text-align: center;\">Last update: <strong>{update}</strong></p>\n",
    "<p style=\"text-align: center;\">Confirmed cases:</p>\n",
    "<p style=\"text-align: center;font-size:24px;\">{cases} (<span style=\"color: #ff0000;\">+{new}</span>)</p>\n",
    "<p style=\"text-align: center;\">Confirmed deaths:</p>\n",
    "<p style=\"text-align: center;font-size:24px;\">{deaths} (<span style=\"color: #ff0000;\">+{dnew}</span>)</p>\n",
    "'''"
   ]
  },
  {
   "cell_type": "code",
   "execution_count": 16,
   "metadata": {
    "execution": {
     "iopub.execute_input": "2020-10-22T13:25:45.536483Z",
     "iopub.status.busy": "2020-10-22T13:25:45.535711Z",
     "iopub.status.idle": "2020-10-22T13:25:45.537935Z",
     "shell.execute_reply": "2020-10-22T13:25:45.538387Z"
    },
    "papermill": {
     "duration": 0.025729,
     "end_time": "2020-10-22T13:25:45.538530",
     "exception": false,
     "start_time": "2020-10-22T13:25:45.512801",
     "status": "completed"
    },
    "tags": []
   },
   "outputs": [
    {
     "data": {
      "text/html": [
       "\n",
       "<!-- #######  HTML!! #########-->\n",
       "<h1 style=\"color: #5e9ca0; text-align: center;\">India</h1>\n",
       "<p style=\"text-align: center;\">Last update: <strong>2020-10-22</strong></p>\n",
       "<p style=\"text-align: center;\">Confirmed cases:</p>\n",
       "<p style=\"text-align: center;font-size:24px;\">7708947 (<span style=\"color: #ff0000;\">+3525</span>)</p>\n",
       "<p style=\"text-align: center;\">Confirmed deaths:</p>\n",
       "<p style=\"text-align: center;font-size:24px;\">116673 (<span style=\"color: #ff0000;\">+22</span>)</p>\n"
      ],
      "text/plain": [
       "<IPython.core.display.HTML object>"
      ]
     },
     "metadata": {},
     "output_type": "display_data"
    }
   ],
   "source": [
    "#hide_input\n",
    "update = summary['updated']\n",
    "cases = summary['Cases']\n",
    "new = summary['Cases (+)']\n",
    "deaths = summary['Deaths']\n",
    "dnew = summary['Deaths (+)']\n",
    "\n",
    "html = HTML(overview.format(update=update, cases=cases,new=new,deaths=deaths,dnew=dnew))\n",
    "\n",
    "display(html)"
   ]
  },
  {
   "cell_type": "code",
   "execution_count": 17,
   "metadata": {
    "execution": {
     "iopub.execute_input": "2020-10-22T13:25:45.579317Z",
     "iopub.status.busy": "2020-10-22T13:25:45.578718Z",
     "iopub.status.idle": "2020-10-22T13:25:45.584085Z",
     "shell.execute_reply": "2020-10-22T13:25:45.583602Z"
    },
    "papermill": {
     "duration": 0.029352,
     "end_time": "2020-10-22T13:25:45.584219",
     "exception": false,
     "start_time": "2020-10-22T13:25:45.554867",
     "status": "completed"
    },
    "tags": []
   },
   "outputs": [],
   "source": [
    "#hide\n",
    "dt_cols = list(dft_cases.columns[1:])\n",
    "dft_ct_new_cases = dft_cases.groupby('state')[dt_cols].sum().diff(axis=1).fillna(0).astype(int)\n",
    "dft_ct_new_cases.sort_values(by = dates[-1], ascending = False,inplace = True)"
   ]
  },
  {
   "cell_type": "code",
   "execution_count": 18,
   "metadata": {
    "execution": {
     "iopub.execute_input": "2020-10-22T13:25:45.640324Z",
     "iopub.status.busy": "2020-10-22T13:25:45.639519Z",
     "iopub.status.idle": "2020-10-22T13:25:45.644418Z",
     "shell.execute_reply": "2020-10-22T13:25:45.643930Z"
    },
    "papermill": {
     "duration": 0.044035,
     "end_time": "2020-10-22T13:25:45.644555",
     "exception": false,
     "start_time": "2020-10-22T13:25:45.600520",
     "status": "completed"
    },
    "tags": []
   },
   "outputs": [
    {
     "data": {
      "text/html": [
       "<div>\n",
       "<style scoped>\n",
       "    .dataframe tbody tr th:only-of-type {\n",
       "        vertical-align: middle;\n",
       "    }\n",
       "\n",
       "    .dataframe tbody tr th {\n",
       "        vertical-align: top;\n",
       "    }\n",
       "\n",
       "    .dataframe thead th {\n",
       "        text-align: right;\n",
       "    }\n",
       "</style>\n",
       "<table border=\"1\" class=\"dataframe\">\n",
       "  <thead>\n",
       "    <tr style=\"text-align: right;\">\n",
       "      <th>states</th>\n",
       "      <th>2020-07-01</th>\n",
       "      <th>2020-07-02</th>\n",
       "      <th>2020-07-03</th>\n",
       "      <th>2020-07-04</th>\n",
       "      <th>2020-07-05</th>\n",
       "      <th>2020-07-06</th>\n",
       "      <th>2020-07-07</th>\n",
       "      <th>2020-07-08</th>\n",
       "      <th>2020-07-09</th>\n",
       "      <th>2020-07-10</th>\n",
       "      <th>...</th>\n",
       "      <th>2020-10-13</th>\n",
       "      <th>2020-10-14</th>\n",
       "      <th>2020-10-15</th>\n",
       "      <th>2020-10-16</th>\n",
       "      <th>2020-10-17</th>\n",
       "      <th>2020-10-18</th>\n",
       "      <th>2020-10-19</th>\n",
       "      <th>2020-10-20</th>\n",
       "      <th>2020-10-21</th>\n",
       "      <th>2020-10-22</th>\n",
       "    </tr>\n",
       "    <tr>\n",
       "      <th>state</th>\n",
       "      <th></th>\n",
       "      <th></th>\n",
       "      <th></th>\n",
       "      <th></th>\n",
       "      <th></th>\n",
       "      <th></th>\n",
       "      <th></th>\n",
       "      <th></th>\n",
       "      <th></th>\n",
       "      <th></th>\n",
       "      <th></th>\n",
       "      <th></th>\n",
       "      <th></th>\n",
       "      <th></th>\n",
       "      <th></th>\n",
       "      <th></th>\n",
       "      <th></th>\n",
       "      <th></th>\n",
       "      <th></th>\n",
       "      <th></th>\n",
       "      <th></th>\n",
       "    </tr>\n",
       "  </thead>\n",
       "  <tbody>\n",
       "    <tr>\n",
       "      <th>Odisha</th>\n",
       "      <td>0</td>\n",
       "      <td>229</td>\n",
       "      <td>561</td>\n",
       "      <td>495</td>\n",
       "      <td>469</td>\n",
       "      <td>456</td>\n",
       "      <td>571</td>\n",
       "      <td>527</td>\n",
       "      <td>577</td>\n",
       "      <td>755</td>\n",
       "      <td>...</td>\n",
       "      <td>2275</td>\n",
       "      <td>2604</td>\n",
       "      <td>2470</td>\n",
       "      <td>2138</td>\n",
       "      <td>2196</td>\n",
       "      <td>2019</td>\n",
       "      <td>1982</td>\n",
       "      <td>1904</td>\n",
       "      <td>1931</td>\n",
       "      <td>1913</td>\n",
       "    </tr>\n",
       "    <tr>\n",
       "      <th>Telangana</th>\n",
       "      <td>0</td>\n",
       "      <td>1213</td>\n",
       "      <td>1892</td>\n",
       "      <td>1850</td>\n",
       "      <td>1590</td>\n",
       "      <td>1831</td>\n",
       "      <td>1879</td>\n",
       "      <td>1924</td>\n",
       "      <td>1410</td>\n",
       "      <td>1278</td>\n",
       "      <td>...</td>\n",
       "      <td>1708</td>\n",
       "      <td>1446</td>\n",
       "      <td>1432</td>\n",
       "      <td>1554</td>\n",
       "      <td>1451</td>\n",
       "      <td>1436</td>\n",
       "      <td>948</td>\n",
       "      <td>1486</td>\n",
       "      <td>1579</td>\n",
       "      <td>1456</td>\n",
       "    </tr>\n",
       "    <tr>\n",
       "      <th>Tripura</th>\n",
       "      <td>0</td>\n",
       "      <td>39</td>\n",
       "      <td>93</td>\n",
       "      <td>25</td>\n",
       "      <td>23</td>\n",
       "      <td>111</td>\n",
       "      <td>24</td>\n",
       "      <td>57</td>\n",
       "      <td>16</td>\n",
       "      <td>142</td>\n",
       "      <td>...</td>\n",
       "      <td>217</td>\n",
       "      <td>181</td>\n",
       "      <td>172</td>\n",
       "      <td>162</td>\n",
       "      <td>134</td>\n",
       "      <td>141</td>\n",
       "      <td>85</td>\n",
       "      <td>135</td>\n",
       "      <td>112</td>\n",
       "      <td>125</td>\n",
       "    </tr>\n",
       "    <tr>\n",
       "      <th>Mizoram</th>\n",
       "      <td>0</td>\n",
       "      <td>2</td>\n",
       "      <td>0</td>\n",
       "      <td>2</td>\n",
       "      <td>22</td>\n",
       "      <td>11</td>\n",
       "      <td>1</td>\n",
       "      <td>5</td>\n",
       "      <td>0</td>\n",
       "      <td>23</td>\n",
       "      <td>...</td>\n",
       "      <td>18</td>\n",
       "      <td>10</td>\n",
       "      <td>8</td>\n",
       "      <td>9</td>\n",
       "      <td>16</td>\n",
       "      <td>8</td>\n",
       "      <td>0</td>\n",
       "      <td>27</td>\n",
       "      <td>30</td>\n",
       "      <td>31</td>\n",
       "    </tr>\n",
       "    <tr>\n",
       "      <th>Andaman and Nicobar Islands</th>\n",
       "      <td>0</td>\n",
       "      <td>9</td>\n",
       "      <td>7</td>\n",
       "      <td>3</td>\n",
       "      <td>6</td>\n",
       "      <td>16</td>\n",
       "      <td>6</td>\n",
       "      <td>2</td>\n",
       "      <td>7</td>\n",
       "      <td>0</td>\n",
       "      <td>...</td>\n",
       "      <td>13</td>\n",
       "      <td>10</td>\n",
       "      <td>16</td>\n",
       "      <td>10</td>\n",
       "      <td>11</td>\n",
       "      <td>25</td>\n",
       "      <td>18</td>\n",
       "      <td>15</td>\n",
       "      <td>27</td>\n",
       "      <td>0</td>\n",
       "    </tr>\n",
       "  </tbody>\n",
       "</table>\n",
       "<p>5 rows × 114 columns</p>\n",
       "</div>"
      ],
      "text/plain": [
       "states                       2020-07-01  2020-07-02  2020-07-03  2020-07-04  \\\n",
       "state                                                                         \n",
       "Odisha                                0         229         561         495   \n",
       "Telangana                             0        1213        1892        1850   \n",
       "Tripura                               0          39          93          25   \n",
       "Mizoram                               0           2           0           2   \n",
       "Andaman and Nicobar Islands           0           9           7           3   \n",
       "\n",
       "states                       2020-07-05  2020-07-06  2020-07-07  2020-07-08  \\\n",
       "state                                                                         \n",
       "Odisha                              469         456         571         527   \n",
       "Telangana                          1590        1831        1879        1924   \n",
       "Tripura                              23         111          24          57   \n",
       "Mizoram                              22          11           1           5   \n",
       "Andaman and Nicobar Islands           6          16           6           2   \n",
       "\n",
       "states                       2020-07-09  2020-07-10  ...  2020-10-13  \\\n",
       "state                                                ...               \n",
       "Odisha                              577         755  ...        2275   \n",
       "Telangana                          1410        1278  ...        1708   \n",
       "Tripura                              16         142  ...         217   \n",
       "Mizoram                               0          23  ...          18   \n",
       "Andaman and Nicobar Islands           7           0  ...          13   \n",
       "\n",
       "states                       2020-10-14  2020-10-15  2020-10-16  2020-10-17  \\\n",
       "state                                                                         \n",
       "Odisha                             2604        2470        2138        2196   \n",
       "Telangana                          1446        1432        1554        1451   \n",
       "Tripura                             181         172         162         134   \n",
       "Mizoram                              10           8           9          16   \n",
       "Andaman and Nicobar Islands          10          16          10          11   \n",
       "\n",
       "states                       2020-10-18  2020-10-19  2020-10-20  2020-10-21  \\\n",
       "state                                                                         \n",
       "Odisha                             2019        1982        1904        1931   \n",
       "Telangana                          1436         948        1486        1579   \n",
       "Tripura                             141          85         135         112   \n",
       "Mizoram                               8           0          27          30   \n",
       "Andaman and Nicobar Islands          25          18          15          27   \n",
       "\n",
       "states                       2020-10-22  \n",
       "state                                    \n",
       "Odisha                             1913  \n",
       "Telangana                          1456  \n",
       "Tripura                             125  \n",
       "Mizoram                              31  \n",
       "Andaman and Nicobar Islands           0  \n",
       "\n",
       "[5 rows x 114 columns]"
      ]
     },
     "execution_count": 18,
     "metadata": {},
     "output_type": "execute_result"
    }
   ],
   "source": [
    "#hide\n",
    "dft_ct_new_cases.head()"
   ]
  },
  {
   "cell_type": "code",
   "execution_count": 19,
   "metadata": {
    "execution": {
     "iopub.execute_input": "2020-10-22T13:25:45.697563Z",
     "iopub.status.busy": "2020-10-22T13:25:45.692291Z",
     "iopub.status.idle": "2020-10-22T13:25:49.963447Z",
     "shell.execute_reply": "2020-10-22T13:25:49.963947Z"
    },
    "papermill": {
     "duration": 4.302387,
     "end_time": "2020-10-22T13:25:49.964128",
     "exception": false,
     "start_time": "2020-10-22T13:25:45.661741",
     "status": "completed"
    },
    "tags": []
   },
   "outputs": [
    {
     "data": {
      "image/png": "[encoded data removed]",
      "text/plain": [
       "<Figure size 1296x2016 with 11 Axes>"
      ]
     },
     "metadata": {
      "needs_background": "light"
     },
     "output_type": "display_data"
    }
   ],
   "source": [
    "#hide_input\n",
    "df = dft_ct_new_cases.copy()\n",
    "df.loc['Total'] = df.sum()\n",
    "n = 5\n",
    "ax = []\n",
    "fig = plt.figure(figsize = (18,28))\n",
    "gs = fig.add_gridspec(n+2, 5)\n",
    "# gs = fig.add_gridspec(2, 3)\n",
    "ax1 = fig.add_subplot(gs[0, :])\n",
    "ef = df.loc['Total'].rename_axis('date').reset_index()\n",
    "ef['date'] = ef['date'].astype('datetime64[ns]')\n",
    "ax1.bar(ef.date,ef.Total,alpha=0.3,color='#007acc')\n",
    "ax1.plot(ef.date,ef.Total , marker=\"o\", color='#007acc')\n",
    "ax1.xaxis.set_major_locator(mdates.WeekdayLocator())\n",
    "ax1.xaxis.set_major_formatter(mdates.DateFormatter('%b %d'))\n",
    "ax1.text(0.02, 0.5,'India daily case count', transform = ax1.transAxes, fontsize=25);\n",
    "ax1.spines['right'].set_visible(False)\n",
    "ax1.spines['top'].set_visible(False)\n",
    "\n",
    "ax2 = fig.add_subplot(gs[1,0])\n",
    "ef = df.loc['Maharashtra'].rename_axis('date').reset_index()\n",
    "ef['date'] = ef['date'].astype('datetime64[ns]')\n",
    "\n",
    "ax2.bar(ef.date, ef.Maharashtra,color = '#007acc',alpha=0.5)\n",
    "ax2.xaxis.set_major_locator(mdates.WeekdayLocator())\n",
    "ax2.xaxis.set_major_formatter(mdates.DateFormatter('%b %d'))\n",
    "ax2.set_xticks(ax2.get_xticks()[::3])\n",
    "maxyval = ef.Maharashtra.max()\n",
    "ax2.set_ylim([0,maxyval])\n",
    "ax2.text(0.05, 0.9,'Maharashtra', transform = ax2.transAxes, fontsize=20);\n",
    "ax2.spines['right'].set_visible(False)\n",
    "ax2.spines['top'].set_visible(False)\n",
    "\n",
    "\n",
    "ax3 = fig.add_subplot(gs[1,1])\n",
    "ef = df.loc['Tamil Nadu'].rename_axis('date').reset_index()\n",
    "ef['date'] = ef['date'].astype('datetime64[ns]')\n",
    "ax3.bar(ef.date, ef['Tamil Nadu'],color = '#007acc',alpha=0.5,)\n",
    "ax3.xaxis.set_major_locator(mdates.WeekdayLocator())\n",
    "ax3.xaxis.set_major_formatter(mdates.DateFormatter('%b %d'))\n",
    "ax3.set_xticks(ax3.get_xticks()[::3])\n",
    "ax3.text(0.05, 0.9,'Tamil Nadu', transform = ax3.transAxes, fontsize=20);\n",
    "ax3.spines['right'].set_visible(False)\n",
    "ax3.spines['top'].set_visible(False)\n",
    "\n",
    "ax5 = fig.add_subplot(gs[1,3])\n",
    "ef = df.loc['Telangana'].rename_axis('date').reset_index()\n",
    "ef['date'] = ef['date'].astype('datetime64[ns]')\n",
    "ax5.bar(ef.date, ef['Telangana'],color = '#007acc',alpha=0.5,)\n",
    "ax5.xaxis.set_major_locator(mdates.WeekdayLocator())\n",
    "ax5.xaxis.set_major_formatter(mdates.DateFormatter('%b %d'))\n",
    "ax5.set_xticks(ax5.get_xticks()[::3])\n",
    "ax5.text(0.05, 0.9,'Telangana', transform = ax5.transAxes, fontsize=20);\n",
    "ax5.spines['right'].set_visible(False)\n",
    "ax5.spines['top'].set_visible(False)\n",
    "\n",
    "ax6 = fig.add_subplot(gs[1,4])\n",
    "ef = df.loc['Andhra Pradesh'].rename_axis('date').reset_index()\n",
    "ef['date'] = ef['date'].astype('datetime64[ns]')\n",
    "ax6.bar(ef.date, ef['Andhra Pradesh'],color = '#007acc',alpha=0.5,)\n",
    "ax6.xaxis.set_major_locator(mdates.WeekdayLocator())\n",
    "ax6.xaxis.set_major_formatter(mdates.DateFormatter('%b %d'))\n",
    "ax6.set_xticks(ax6.get_xticks()[::3])\n",
    "ax6.text(0.05, 1,'Andhra Pradesh', transform = ax6.transAxes, fontsize=20);\n",
    "ax6.spines['right'].set_visible(False)\n",
    "ax6.spines['top'].set_visible(False)\n",
    "\n",
    "ax4 = fig.add_subplot(gs[1,2])\n",
    "ef = df.loc['Delhi'].rename_axis('date').reset_index()\n",
    "ef['date'] = ef['date'].astype('datetime64[ns]')\n",
    "ax4.bar(ef.date, ef.Delhi,color = '#007acc',alpha=0.5)\n",
    "ax4.set_xticks([])\n",
    "ax4.xaxis.set_major_locator(mdates.WeekdayLocator())\n",
    "ax4.xaxis.set_major_formatter(mdates.DateFormatter('%b %d'))\n",
    "ax4.set_xticks(ax4.get_xticks()[::3])\n",
    "ax4.spines['right'].set_visible(False)\n",
    "ax4.spines['top'].set_visible(False)\n",
    "\n",
    "ax4.text(0.05, 1,'Delhi', transform = ax4.transAxes, fontsize=20)\n",
    "\n",
    "for i in range(n):\n",
    "    \n",
    "    ax.append(fig.add_subplot(gs[i+2,:]))\n",
    "    ef = df.iloc[i+3].rename_axis('date').reset_index()\n",
    "    ef['date'] = ef['date'].astype('datetime64[ns]')\n",
    "    ax[i].bar(ef.date,ef.iloc[:,-1],color = '#007acc',alpha=0.3)\n",
    "    ax[i].plot(ef.date,ef.iloc[:,-1],marker='o',color='#007acc')\n",
    "    ax[i].text(0.02,0.5,f'{ef.columns.values[-1]}',transform = ax[i].transAxes, fontsize = 20);\n",
    "    ax[i].xaxis.set_major_locator(mdates.WeekdayLocator())\n",
    "    ax[i].xaxis.set_major_formatter(mdates.DateFormatter('%b %d'))\n",
    "    ax[i].set_ylim([0,7000])\n",
    "    ax[i].spines['right'].set_visible(False)\n",
    "    ax[i].spines['top'].set_visible(False)\n",
    "plt.tight_layout()\n"
   ]
  },
  {
   "cell_type": "code",
   "execution_count": 20,
   "metadata": {
    "execution": {
     "iopub.execute_input": "2020-10-22T13:25:50.018847Z",
     "iopub.status.busy": "2020-10-22T13:25:50.018182Z",
     "iopub.status.idle": "2020-10-22T13:25:50.020384Z",
     "shell.execute_reply": "2020-10-22T13:25:50.020831Z"
    },
    "papermill": {
     "duration": 0.033839,
     "end_time": "2020-10-22T13:25:50.020974",
     "exception": false,
     "start_time": "2020-10-22T13:25:49.987135",
     "status": "completed"
    },
    "tags": []
   },
   "outputs": [
    {
     "name": "stdout",
     "output_type": "stream",
     "text": [
      "                                   states    Cases  Deaths   PCases  PDeaths  Cases (+)  Deaths (+)  Fatality Rate\n",
      "                              Maharashtra  1617658   42633  1617658    42633          0           0           2.64\n",
      "                           Andhra Pradesh   793299    6508   793299     6508          0           0           0.82\n",
      "                                Karnataka   782773   10696   782773    10696          0           0           1.37\n",
      "                               Tamil Nadu   697116   10780   697116    10780          0           0           1.55\n",
      "                            Uttar Pradesh   461475    6755   461475     6755          0           0           1.46\n",
      "                                   Kerala   361842    1233   361842     1233          0           0           0.34\n",
      "                                    Delhi   340436    6128   340436     6128          0           0           1.80\n",
      "                              West Bengal   333126    6244   333126     6244          0           0           1.87\n",
      "                                   Odisha   276094    1249   274181     1234       1913          15           0.45\n",
      "                                Telangana   227580    1292   226124     1287       1456           5           0.57\n",
      "                                    Bihar   208238    1019   208238     1019          0           0           0.49\n",
      "                                    Assam   202774     889   202774      889          0           0           0.44\n",
      "                                Rajasthan   178933    1788   178933     1788          0           0           1.00\n",
      "                             Chhattisgarh   167639    1628   167639     1628          0           0           0.97\n",
      "                           Madhya Pradesh   163296    2828   163296     2828          0           0           1.73\n",
      "                                  Gujarat   162985    3663   162985     3663          0           0           2.25\n",
      "                                  Haryana   153367    1674   153367     1674          0           0           1.09\n",
      "                                   Punjab   129088    4060   129088     4060          0           0           3.15\n",
      "                                Jharkhand    98061     851    98061      851          0           0           0.87\n",
      "                        Jammu and Kashmir    89582    1402    89582     1402          0           0           1.57\n",
      "                              Uttarakhand    59106     960    59106      960          0           0           1.62\n",
      "                                      Goa    41339     557    41339      557          0           0           1.35\n",
      "                               Puducherry    33622     580    33622      580          0           0           1.73\n",
      "                                  Tripura    29922     331    29797      329        125           2           1.11\n",
      "                         Himachal Pradesh    19621     274    19621      274          0           0           1.40\n",
      "                                  Manipur    16276     124    16276      124          0           0           0.76\n",
      "                        Arunachal Pradesh    13912      31    13912       31          0           0           0.22\n",
      "                               Chandigarh    13797     209    13797      209          0           0           1.51\n",
      "                                Meghalaya     8677      77     8677       77          0           0           0.89\n",
      "                                 Nagaland     8139      21     8139       21          0           0           0.26\n",
      "                                   Ladakh     5781      68     5781       68          0           0           1.18\n",
      "              Andaman and Nicobar Islands     4168      56     4168       56          0           0           1.34\n",
      "                                   Sikkim     3677      63     3677       63          0           0           1.71\n",
      " Dadra and Nagar Haveli and Daman and Diu     3207       2     3207        2          0           0           0.06\n",
      "                                  Mizoram     2341       0     2310        0         31           0           0.00\n",
      "                              Lakshadweep        0       0        0        0          0           0            NaN\n"
     ]
    }
   ],
   "source": [
    "#hide_input\n",
    "print(df_table.to_string(index=False))"
   ]
  },
  {
   "cell_type": "code",
   "execution_count": null,
   "metadata": {
    "papermill": {
     "duration": 0.022298,
     "end_time": "2020-10-22T13:25:50.065791",
     "exception": false,
     "start_time": "2020-10-22T13:25:50.043493",
     "status": "completed"
    },
    "tags": []
   },
   "outputs": [],
   "source": []
  },
  {
   "cell_type": "code",
   "execution_count": null,
   "metadata": {
    "papermill": {
     "duration": 0.021901,
     "end_time": "2020-10-22T13:25:50.109266",
     "exception": false,
     "start_time": "2020-10-22T13:25:50.087365",
     "status": "completed"
    },
    "tags": []
   },
   "outputs": [],
   "source": []
  }
 ],
 "metadata": {
  "kernelspec": {
   "display_name": "Python 3",
   "language": "python",
   "name": "python3"
  },
  "language_info": {
   "codemirror_mode": {
    "name": "ipython",
    "version": 3
   },
   "file_extension": ".py",
   "mimetype": "text/x-python",
   "name": "python",
   "nbconvert_exporter": "python",
   "pygments_lexer": "ipython3",
   "version": "3.6.12"
  },
  "papermill": {
   "duration": 10.706117,
   "end_time": "2020-10-22T13:25:50.640643",
   "environment_variables": {},
   "exception": null,
   "input_path": "latest.ipynb",
   "output_path": "latest.ipynb",
   "parameters": {},
   "start_time": "2020-10-22T13:25:39.934526",
   "version": "2.1.2"
  }
 },
 "nbformat": 4,
 "nbformat_minor": 4
}