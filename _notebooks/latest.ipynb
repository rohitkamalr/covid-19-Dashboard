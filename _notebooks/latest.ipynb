{
 "cells": [
  {
   "cell_type": "markdown",
   "id": "colored-stack",
   "metadata": {
    "papermill": {
     "duration": 0.022352,
     "end_time": "2021-04-01T13:16:08.686070",
     "exception": false,
     "start_time": "2021-04-01T13:16:08.663718",
     "status": "completed"
    },
    "tags": []
   },
   "source": [
    "# Latest COVID-19 India Matplotlib Overview"
   ]
  },
  {
   "cell_type": "code",
   "execution_count": 1,
   "id": "light-proportion",
   "metadata": {
    "execution": {
     "iopub.execute_input": "2021-04-01T13:16:08.739937Z",
     "iopub.status.busy": "2021-04-01T13:16:08.734359Z",
     "iopub.status.idle": "2021-04-01T13:16:09.366755Z",
     "shell.execute_reply": "2021-04-01T13:16:09.365528Z"
    },
    "papermill": {
     "duration": 0.662892,
     "end_time": "2021-04-01T13:16:09.366958",
     "exception": false,
     "start_time": "2021-04-01T13:16:08.704066",
     "status": "completed"
    },
    "tags": []
   },
   "outputs": [],
   "source": [
    "#hide\n",
    "import pandas as pd\n",
    "import numpy as np\n",
    "import requests\n",
    "import json\n",
    "import matplotlib.pyplot as plt\n",
    "import matplotlib.dates as mdates\n",
    "import matplotlib as mpl\n",
    "from IPython.core.display import display,HTML\n",
    "%matplotlib inline\n",
    "from datetime import date"
   ]
  },
  {
   "cell_type": "code",
   "execution_count": 2,
   "id": "greenhouse-shooting",
   "metadata": {
    "execution": {
     "iopub.execute_input": "2021-04-01T13:16:09.413543Z",
     "iopub.status.busy": "2021-04-01T13:16:09.412949Z",
     "iopub.status.idle": "2021-04-01T13:16:09.587605Z",
     "shell.execute_reply": "2021-04-01T13:16:09.588085Z"
    },
    "papermill": {
     "duration": 0.202521,
     "end_time": "2021-04-01T13:16:09.588251",
     "exception": false,
     "start_time": "2021-04-01T13:16:09.385730",
     "status": "completed"
    },
    "tags": []
   },
   "outputs": [],
   "source": [
    "#hide\n",
    "df  = pd.read_csv('https://api.covid19india.org/csv/latest/states.csv')\n",
    "df = df[['Date','State','Confirmed','Deceased']]\n",
    "df = df.rename(columns={'Confirmed':'Cases', \"Deceased\":'Deaths'})\n",
    "df_cases = df[[\"Date\",'State','Cases']]\n",
    "df_deaths = df[['Date','State','Deaths']]\n",
    "df_cases1 = df_cases.groupby('Date')\n",
    "df_deaths1= df_deaths.groupby('Date')"
   ]
  },
  {
   "cell_type": "code",
   "execution_count": 3,
   "id": "hybrid-cathedral",
   "metadata": {
    "execution": {
     "iopub.execute_input": "2021-04-01T13:16:09.630044Z",
     "iopub.status.busy": "2021-04-01T13:16:09.629464Z",
     "iopub.status.idle": "2021-04-01T13:16:09.650750Z",
     "shell.execute_reply": "2021-04-01T13:16:09.650158Z"
    },
    "papermill": {
     "duration": 0.045225,
     "end_time": "2021-04-01T13:16:09.650904",
     "exception": false,
     "start_time": "2021-04-01T13:16:09.605679",
     "status": "completed"
    },
    "tags": []
   },
   "outputs": [],
   "source": [
    "#hide\n",
    "df_snap = pd.read_csv('data/SnapshotCases-28-July.csv')\n",
    "arr_states = df_snap['states'].unique()\n",
    "arr_dates = df['Date'].unique()\n",
    "df_snap = df_snap.set_index('states')"
   ]
  },
  {
   "cell_type": "code",
   "execution_count": 4,
   "id": "interior-belfast",
   "metadata": {
    "execution": {
     "iopub.execute_input": "2021-04-01T13:16:09.696477Z",
     "iopub.status.busy": "2021-04-01T13:16:09.695878Z",
     "iopub.status.idle": "2021-04-01T13:16:09.699122Z",
     "shell.execute_reply": "2021-04-01T13:16:09.698627Z"
    },
    "papermill": {
     "duration": 0.030754,
     "end_time": "2021-04-01T13:16:09.699243",
     "exception": false,
     "start_time": "2021-04-01T13:16:09.668489",
     "status": "completed"
    },
    "tags": []
   },
   "outputs": [
    {
     "data": {
      "text/plain": [
       "array(['Andaman and Nicobar Islands', 'Andhra Pradesh',\n",
       "       'Arunachal Pradesh', 'Assam', 'Bihar', 'Chandigarh',\n",
       "       'Dadra and Nagar Haveli and Daman and Diu', 'Delhi', 'Goa',\n",
       "       'Gujarat', 'Haryana', 'Himachal Pradesh', 'Jammu and Kashmir',\n",
       "       'Jharkhand', 'Karnataka', 'Kerala', 'Lakshadweep',\n",
       "       'Madhya Pradesh', 'Maharashtra', 'Manipur', 'Meghalaya', 'Mizoram',\n",
       "       'Nagaland', 'Odisha', 'Puducherry', 'Punjab', 'Rajasthan',\n",
       "       'Sikkim', 'Tamil Nadu', 'Telangana', 'Tripura', 'Uttar Pradesh',\n",
       "       'West Bengal', 'Chhattisgarh', 'Ladakh', 'Uttarakhand'],\n",
       "      dtype=object)"
      ]
     },
     "execution_count": 4,
     "metadata": {},
     "output_type": "execute_result"
    }
   ],
   "source": [
    "#hide\n",
    "arr_states[-9] = 'Puducherry'\n",
    "arr_states[-10] = 'Odisha'\n",
    "arr_states[6] = 'Dadra and Nagar Haveli and Daman and Diu'\n",
    "arr_states = np.append(arr_states,np.array(['Chhattisgarh','Ladakh','Uttarakhand']))\n",
    "arr_states"
   ]
  },
  {
   "cell_type": "code",
   "execution_count": 5,
   "id": "behind-manner",
   "metadata": {
    "execution": {
     "iopub.execute_input": "2021-04-01T13:16:09.749274Z",
     "iopub.status.busy": "2021-04-01T13:16:09.748720Z",
     "iopub.status.idle": "2021-04-01T13:16:09.758016Z",
     "shell.execute_reply": "2021-04-01T13:16:09.757543Z"
    },
    "papermill": {
     "duration": 0.041272,
     "end_time": "2021-04-01T13:16:09.758139",
     "exception": false,
     "start_time": "2021-04-01T13:16:09.716867",
     "status": "completed"
    },
    "tags": []
   },
   "outputs": [],
   "source": [
    "#hide\n",
    "dates = []\n",
    "for i in arr_dates:\n",
    "    if i>='2020-07-01':\n",
    "        dates.append(i)\n",
    "dict = {'states':dates}\n",
    "for i in arr_states:\n",
    "    dict[i] = [0]*len(dates)\n",
    "dft_cases = pd.DataFrame(dict)\n",
    "dft_deaths = pd.DataFrame(dict)\n"
   ]
  },
  {
   "cell_type": "code",
   "execution_count": 6,
   "id": "simplified-peter",
   "metadata": {
    "execution": {
     "iopub.execute_input": "2021-04-01T13:16:09.802785Z",
     "iopub.status.busy": "2021-04-01T13:16:09.802197Z",
     "iopub.status.idle": "2021-04-01T13:16:13.596073Z",
     "shell.execute_reply": "2021-04-01T13:16:13.595182Z"
    },
    "papermill": {
     "duration": 3.819527,
     "end_time": "2021-04-01T13:16:13.596287",
     "exception": false,
     "start_time": "2021-04-01T13:16:09.776760",
     "status": "completed"
    },
    "tags": []
   },
   "outputs": [],
   "source": [
    "#hide\n",
    "for i in range(len(dates)):\n",
    "    df1_deaths = df_deaths1.get_group(dates[i])\n",
    "    for j in range(len(df1_deaths.index)):\n",
    "        if df1_deaths.iloc[j,1] in arr_states:\n",
    "            dft_deaths.loc[i,df1_deaths.iloc[j,1]] = df1_deaths.iloc[j,2]\n",
    "dft_deaths = dft_deaths.set_index('states')"
   ]
  },
  {
   "cell_type": "code",
   "execution_count": 7,
   "id": "geological-welding",
   "metadata": {
    "execution": {
     "iopub.execute_input": "2021-04-01T13:16:13.641281Z",
     "iopub.status.busy": "2021-04-01T13:16:13.640763Z",
     "iopub.status.idle": "2021-04-01T13:16:17.394003Z",
     "shell.execute_reply": "2021-04-01T13:16:17.392941Z"
    },
    "papermill": {
     "duration": 3.778004,
     "end_time": "2021-04-01T13:16:17.394153",
     "exception": false,
     "start_time": "2021-04-01T13:16:13.616149",
     "status": "completed"
    },
    "tags": []
   },
   "outputs": [],
   "source": [
    "#hide\n",
    "for i in range(len(dates)):\n",
    "    df1_cases = df_cases1.get_group(dates[i])\n",
    "    for j in range(len(df1_cases.index)):\n",
    "        if df1_cases.iloc[j,1] in arr_states:\n",
    "            dft_cases.loc[i,df1_cases.iloc[j,1]] = df1_cases.iloc[j,2]\n",
    "dft_cases = dft_cases.set_index('states')"
   ]
  },
  {
   "cell_type": "code",
   "execution_count": 8,
   "id": "binary-ratio",
   "metadata": {
    "execution": {
     "iopub.execute_input": "2021-04-01T13:16:17.434679Z",
     "iopub.status.busy": "2021-04-01T13:16:17.433896Z",
     "iopub.status.idle": "2021-04-01T13:16:17.435500Z",
     "shell.execute_reply": "2021-04-01T13:16:17.435982Z"
    },
    "papermill": {
     "duration": 0.024416,
     "end_time": "2021-04-01T13:16:17.436114",
     "exception": false,
     "start_time": "2021-04-01T13:16:17.411698",
     "status": "completed"
    },
    "tags": []
   },
   "outputs": [],
   "source": [
    "#hide\n",
    "dft_cases = dft_cases.T\n",
    "dft_deaths = dft_deaths.T\n",
    "dt_today = dates[-1]\n",
    "dt_yday = dates[-2]"
   ]
  },
  {
   "cell_type": "code",
   "execution_count": 9,
   "id": "boolean-calculator",
   "metadata": {
    "execution": {
     "iopub.execute_input": "2021-04-01T13:16:17.478686Z",
     "iopub.status.busy": "2021-04-01T13:16:17.478152Z",
     "iopub.status.idle": "2021-04-01T13:16:17.481869Z",
     "shell.execute_reply": "2021-04-01T13:16:17.482363Z"
    },
    "papermill": {
     "duration": 0.029684,
     "end_time": "2021-04-01T13:16:17.482485",
     "exception": false,
     "start_time": "2021-04-01T13:16:17.452801",
     "status": "completed"
    },
    "tags": []
   },
   "outputs": [],
   "source": [
    "#hide\n",
    "dft_cases = dft_cases.reset_index()\n",
    "dft_deaths = dft_deaths.reset_index()\n",
    "dft_cases = dft_cases.rename(columns = {'index':'state'})\n",
    "dft_deaths = dft_deaths.rename(columns = {'index':'state'})"
   ]
  },
  {
   "cell_type": "code",
   "execution_count": 10,
   "id": "invisible-johnston",
   "metadata": {
    "execution": {
     "iopub.execute_input": "2021-04-01T13:16:17.530934Z",
     "iopub.status.busy": "2021-04-01T13:16:17.526508Z",
     "iopub.status.idle": "2021-04-01T13:16:17.533338Z",
     "shell.execute_reply": "2021-04-01T13:16:17.532784Z"
    },
    "papermill": {
     "duration": 0.033589,
     "end_time": "2021-04-01T13:16:17.533461",
     "exception": false,
     "start_time": "2021-04-01T13:16:17.499872",
     "status": "completed"
    },
    "tags": []
   },
   "outputs": [],
   "source": [
    "#hide\n",
    "dfc_cases = dft_cases.groupby('state')[dt_today].sum()\n",
    "dfc_deaths = dft_deaths.groupby('state')[dt_today].sum()\n",
    "dfp_cases = dft_cases.groupby('state')[dt_yday].sum()\n",
    "dfp_deaths = dft_deaths.groupby('state')[dt_yday].sum()"
   ]
  },
  {
   "cell_type": "code",
   "execution_count": 11,
   "id": "measured-great",
   "metadata": {
    "execution": {
     "iopub.execute_input": "2021-04-01T13:16:17.585011Z",
     "iopub.status.busy": "2021-04-01T13:16:17.584385Z",
     "iopub.status.idle": "2021-04-01T13:16:17.591663Z",
     "shell.execute_reply": "2021-04-01T13:16:17.591212Z"
    },
    "papermill": {
     "duration": 0.040994,
     "end_time": "2021-04-01T13:16:17.591795",
     "exception": false,
     "start_time": "2021-04-01T13:16:17.550801",
     "status": "completed"
    },
    "tags": []
   },
   "outputs": [
    {
     "data": {
      "text/html": [
       "<div>\n",
       "<style scoped>\n",
       "    .dataframe tbody tr th:only-of-type {\n",
       "        vertical-align: middle;\n",
       "    }\n",
       "\n",
       "    .dataframe tbody tr th {\n",
       "        vertical-align: top;\n",
       "    }\n",
       "\n",
       "    .dataframe thead th {\n",
       "        text-align: right;\n",
       "    }\n",
       "</style>\n",
       "<table border=\"1\" class=\"dataframe\">\n",
       "  <thead>\n",
       "    <tr style=\"text-align: right;\">\n",
       "      <th></th>\n",
       "      <th>states</th>\n",
       "      <th>Cases</th>\n",
       "      <th>Deaths</th>\n",
       "      <th>PCases</th>\n",
       "      <th>PDeaths</th>\n",
       "    </tr>\n",
       "  </thead>\n",
       "  <tbody>\n",
       "    <tr>\n",
       "      <th>0</th>\n",
       "      <td>Maharashtra</td>\n",
       "      <td>2812980</td>\n",
       "      <td>54649</td>\n",
       "      <td>2812980</td>\n",
       "      <td>54649</td>\n",
       "    </tr>\n",
       "    <tr>\n",
       "      <th>1</th>\n",
       "      <td>Kerala</td>\n",
       "      <td>1124585</td>\n",
       "      <td>4622</td>\n",
       "      <td>1124585</td>\n",
       "      <td>4622</td>\n",
       "    </tr>\n",
       "    <tr>\n",
       "      <th>2</th>\n",
       "      <td>Karnataka</td>\n",
       "      <td>997004</td>\n",
       "      <td>12567</td>\n",
       "      <td>997004</td>\n",
       "      <td>12567</td>\n",
       "    </tr>\n",
       "    <tr>\n",
       "      <th>3</th>\n",
       "      <td>Andhra Pradesh</td>\n",
       "      <td>901989</td>\n",
       "      <td>7217</td>\n",
       "      <td>901989</td>\n",
       "      <td>7217</td>\n",
       "    </tr>\n",
       "    <tr>\n",
       "      <th>4</th>\n",
       "      <td>Tamil Nadu</td>\n",
       "      <td>886673</td>\n",
       "      <td>12719</td>\n",
       "      <td>886673</td>\n",
       "      <td>12719</td>\n",
       "    </tr>\n",
       "  </tbody>\n",
       "</table>\n",
       "</div>"
      ],
      "text/plain": [
       "           states    Cases  Deaths   PCases  PDeaths\n",
       "0     Maharashtra  2812980   54649  2812980    54649\n",
       "1          Kerala  1124585    4622  1124585     4622\n",
       "2       Karnataka   997004   12567   997004    12567\n",
       "3  Andhra Pradesh   901989    7217   901989     7217\n",
       "4      Tamil Nadu   886673   12719   886673    12719"
      ]
     },
     "execution_count": 11,
     "metadata": {},
     "output_type": "execute_result"
    }
   ],
   "source": [
    "#hide\n",
    "df_table = pd.DataFrame({'states': dfc_cases.index, 'Cases': dfc_cases.values, 'Deaths': dfc_deaths.values, 'PCases': dfp_cases.values, 'PDeaths': dfp_deaths.values}).set_index('states')\n",
    "df_table = df_table.sort_values(by = ['Cases','Deaths'], ascending = [False, False])\n",
    "df_table = df_table.reset_index()\n",
    "df_table.head()"
   ]
  },
  {
   "cell_type": "code",
   "execution_count": 12,
   "id": "found-montreal",
   "metadata": {
    "execution": {
     "iopub.execute_input": "2021-04-01T13:16:17.631248Z",
     "iopub.status.busy": "2021-04-01T13:16:17.630724Z",
     "iopub.status.idle": "2021-04-01T13:16:17.638778Z",
     "shell.execute_reply": "2021-04-01T13:16:17.638330Z"
    },
    "papermill": {
     "duration": 0.028998,
     "end_time": "2021-04-01T13:16:17.638886",
     "exception": false,
     "start_time": "2021-04-01T13:16:17.609888",
     "status": "completed"
    },
    "tags": []
   },
   "outputs": [],
   "source": [
    "#hide\n",
    "for c in 'Cases, Deaths'.split(', '):\n",
    "    df_table[f'{c} (+)'] = (df_table[c] - df_table[f'P{c}']).clip(0)\n",
    "df_table['Fatality Rate'] = (100* df_table['Deaths']/ df_table['Cases']).round(2)"
   ]
  },
  {
   "cell_type": "code",
   "execution_count": 13,
   "id": "minus-savage",
   "metadata": {
    "execution": {
     "iopub.execute_input": "2021-04-01T13:16:17.726755Z",
     "iopub.status.busy": "2021-04-01T13:16:17.726121Z",
     "iopub.status.idle": "2021-04-01T13:16:17.728971Z",
     "shell.execute_reply": "2021-04-01T13:16:17.728424Z"
    },
    "papermill": {
     "duration": 0.038896,
     "end_time": "2021-04-01T13:16:17.729095",
     "exception": false,
     "start_time": "2021-04-01T13:16:17.690199",
     "status": "completed"
    },
    "tags": []
   },
   "outputs": [
    {
     "data": {
      "text/html": [
       "<div>\n",
       "<style scoped>\n",
       "    .dataframe tbody tr th:only-of-type {\n",
       "        vertical-align: middle;\n",
       "    }\n",
       "\n",
       "    .dataframe tbody tr th {\n",
       "        vertical-align: top;\n",
       "    }\n",
       "\n",
       "    .dataframe thead th {\n",
       "        text-align: right;\n",
       "    }\n",
       "</style>\n",
       "<table border=\"1\" class=\"dataframe\">\n",
       "  <thead>\n",
       "    <tr style=\"text-align: right;\">\n",
       "      <th></th>\n",
       "      <th>states</th>\n",
       "      <th>Cases</th>\n",
       "      <th>Deaths</th>\n",
       "      <th>PCases</th>\n",
       "      <th>PDeaths</th>\n",
       "      <th>Cases (+)</th>\n",
       "      <th>Deaths (+)</th>\n",
       "      <th>Fatality Rate</th>\n",
       "    </tr>\n",
       "  </thead>\n",
       "  <tbody>\n",
       "    <tr>\n",
       "      <th>0</th>\n",
       "      <td>Maharashtra</td>\n",
       "      <td>2812980</td>\n",
       "      <td>54649</td>\n",
       "      <td>2812980</td>\n",
       "      <td>54649</td>\n",
       "      <td>0</td>\n",
       "      <td>0</td>\n",
       "      <td>1.94</td>\n",
       "    </tr>\n",
       "    <tr>\n",
       "      <th>1</th>\n",
       "      <td>Kerala</td>\n",
       "      <td>1124585</td>\n",
       "      <td>4622</td>\n",
       "      <td>1124585</td>\n",
       "      <td>4622</td>\n",
       "      <td>0</td>\n",
       "      <td>0</td>\n",
       "      <td>0.41</td>\n",
       "    </tr>\n",
       "    <tr>\n",
       "      <th>2</th>\n",
       "      <td>Karnataka</td>\n",
       "      <td>997004</td>\n",
       "      <td>12567</td>\n",
       "      <td>997004</td>\n",
       "      <td>12567</td>\n",
       "      <td>0</td>\n",
       "      <td>0</td>\n",
       "      <td>1.26</td>\n",
       "    </tr>\n",
       "    <tr>\n",
       "      <th>3</th>\n",
       "      <td>Andhra Pradesh</td>\n",
       "      <td>901989</td>\n",
       "      <td>7217</td>\n",
       "      <td>901989</td>\n",
       "      <td>7217</td>\n",
       "      <td>0</td>\n",
       "      <td>0</td>\n",
       "      <td>0.80</td>\n",
       "    </tr>\n",
       "    <tr>\n",
       "      <th>4</th>\n",
       "      <td>Tamil Nadu</td>\n",
       "      <td>886673</td>\n",
       "      <td>12719</td>\n",
       "      <td>886673</td>\n",
       "      <td>12719</td>\n",
       "      <td>0</td>\n",
       "      <td>0</td>\n",
       "      <td>1.43</td>\n",
       "    </tr>\n",
       "  </tbody>\n",
       "</table>\n",
       "</div>"
      ],
      "text/plain": [
       "           states    Cases  Deaths   PCases  PDeaths  Cases (+)  Deaths (+)  \\\n",
       "0     Maharashtra  2812980   54649  2812980    54649          0           0   \n",
       "1          Kerala  1124585    4622  1124585     4622          0           0   \n",
       "2       Karnataka   997004   12567   997004    12567          0           0   \n",
       "3  Andhra Pradesh   901989    7217   901989     7217          0           0   \n",
       "4      Tamil Nadu   886673   12719   886673    12719          0           0   \n",
       "\n",
       "   Fatality Rate  \n",
       "0           1.94  \n",
       "1           0.41  \n",
       "2           1.26  \n",
       "3           0.80  \n",
       "4           1.43  "
      ]
     },
     "execution_count": 13,
     "metadata": {},
     "output_type": "execute_result"
    }
   ],
   "source": [
    "#hide\n",
    "df_table.head()"
   ]
  },
  {
   "cell_type": "code",
   "execution_count": 14,
   "id": "false-peter",
   "metadata": {
    "execution": {
     "iopub.execute_input": "2021-04-01T13:16:17.774382Z",
     "iopub.status.busy": "2021-04-01T13:16:17.773788Z",
     "iopub.status.idle": "2021-04-01T13:16:17.791231Z",
     "shell.execute_reply": "2021-04-01T13:16:17.791683Z"
    },
    "papermill": {
     "duration": 0.044167,
     "end_time": "2021-04-01T13:16:17.791829",
     "exception": false,
     "start_time": "2021-04-01T13:16:17.747662",
     "status": "completed"
    },
    "tags": []
   },
   "outputs": [
    {
     "data": {
      "text/plain": [
       "{'updated': '2021-04-01',\n",
       " 'since': '2021-03-31',\n",
       " 'Cases': 12222738,\n",
       " 'PCases': 12220712,\n",
       " 'Deaths': 162969,\n",
       " 'PDeaths': 162960,\n",
       " 'Cases (+)': 2026,\n",
       " 'Deaths (+)': 9}"
      ]
     },
     "execution_count": 14,
     "metadata": {},
     "output_type": "execute_result"
    }
   ],
   "source": [
    "#hide\n",
    "summary = {'updated':dates[-1], 'since':dates[-2]}\n",
    "list_names = ['Cases', 'PCases', 'Deaths', 'PDeaths', 'Cases (+)', 'Deaths (+)']\n",
    "for name in list_names:\n",
    "    summary[name] = df_table.sum()[name]\n",
    "summary"
   ]
  },
  {
   "cell_type": "code",
   "execution_count": 15,
   "id": "packed-viewer",
   "metadata": {
    "execution": {
     "iopub.execute_input": "2021-04-01T13:16:17.835856Z",
     "iopub.status.busy": "2021-04-01T13:16:17.835240Z",
     "iopub.status.idle": "2021-04-01T13:16:17.837600Z",
     "shell.execute_reply": "2021-04-01T13:16:17.837102Z"
    },
    "papermill": {
     "duration": 0.026063,
     "end_time": "2021-04-01T13:16:17.837725",
     "exception": false,
     "start_time": "2021-04-01T13:16:17.811662",
     "status": "completed"
    },
    "tags": []
   },
   "outputs": [],
   "source": [
    "#hide\n",
    "overview = '''\n",
    "<!-- #######  HTML!! #########-->\n",
    "<h1 style=\"color: #5e9ca0; text-align: center;\">India</h1>\n",
    "<p style=\"text-align: center;\">Last update: <strong>{update}</strong></p>\n",
    "<p style=\"text-align: center;\">Confirmed cases:</p>\n",
    "<p style=\"text-align: center;font-size:24px;\">{cases} (<span style=\"color: #ff0000;\">+{new}</span>)</p>\n",
    "<p style=\"text-align: center;\">Confirmed deaths:</p>\n",
    "<p style=\"text-align: center;font-size:24px;\">{deaths} (<span style=\"color: #ff0000;\">+{dnew}</span>)</p>\n",
    "'''"
   ]
  },
  {
   "cell_type": "code",
   "execution_count": 16,
   "id": "phantom-lover",
   "metadata": {
    "execution": {
     "iopub.execute_input": "2021-04-01T13:16:17.884731Z",
     "iopub.status.busy": "2021-04-01T13:16:17.884094Z",
     "iopub.status.idle": "2021-04-01T13:16:17.887343Z",
     "shell.execute_reply": "2021-04-01T13:16:17.886853Z"
    },
    "papermill": {
     "duration": 0.030579,
     "end_time": "2021-04-01T13:16:17.887467",
     "exception": false,
     "start_time": "2021-04-01T13:16:17.856888",
     "status": "completed"
    },
    "tags": []
   },
   "outputs": [
    {
     "data": {
      "text/html": [
       "\n",
       "<!-- #######  HTML!! #########-->\n",
       "<h1 style=\"color: #5e9ca0; text-align: center;\">India</h1>\n",
       "<p style=\"text-align: center;\">Last update: <strong>2021-04-01</strong></p>\n",
       "<p style=\"text-align: center;\">Confirmed cases:</p>\n",
       "<p style=\"text-align: center;font-size:24px;\">12222738 (<span style=\"color: #ff0000;\">+2026</span>)</p>\n",
       "<p style=\"text-align: center;\">Confirmed deaths:</p>\n",
       "<p style=\"text-align: center;font-size:24px;\">162969 (<span style=\"color: #ff0000;\">+9</span>)</p>\n"
      ],
      "text/plain": [
       "<IPython.core.display.HTML object>"
      ]
     },
     "metadata": {},
     "output_type": "display_data"
    }
   ],
   "source": [
    "#hide_input\n",
    "update = summary['updated']\n",
    "cases = summary['Cases']\n",
    "new = summary['Cases (+)']\n",
    "deaths = summary['Deaths']\n",
    "dnew = summary['Deaths (+)']\n",
    "\n",
    "html = HTML(overview.format(update=update, cases=cases,new=new,deaths=deaths,dnew=dnew))\n",
    "\n",
    "display(html)"
   ]
  },
  {
   "cell_type": "code",
   "execution_count": 17,
   "id": "sealed-reset",
   "metadata": {
    "execution": {
     "iopub.execute_input": "2021-04-01T13:16:17.933045Z",
     "iopub.status.busy": "2021-04-01T13:16:17.932438Z",
     "iopub.status.idle": "2021-04-01T13:16:17.939652Z",
     "shell.execute_reply": "2021-04-01T13:16:17.940156Z"
    },
    "papermill": {
     "duration": 0.033244,
     "end_time": "2021-04-01T13:16:17.940308",
     "exception": false,
     "start_time": "2021-04-01T13:16:17.907064",
     "status": "completed"
    },
    "tags": []
   },
   "outputs": [],
   "source": [
    "#hide\n",
    "dt_cols = list(dft_cases.columns[1:])\n",
    "dft_ct_new_cases = dft_cases.groupby('state')[dt_cols].sum().diff(axis=1).fillna(0).astype(int)\n",
    "dft_ct_new_cases.sort_values(by = dates[-1], ascending = False,inplace = True)"
   ]
  },
  {
   "cell_type": "code",
   "execution_count": 18,
   "id": "designed-constant",
   "metadata": {
    "execution": {
     "iopub.execute_input": "2021-04-01T13:16:17.999029Z",
     "iopub.status.busy": "2021-04-01T13:16:17.998405Z",
     "iopub.status.idle": "2021-04-01T13:16:18.002162Z",
     "shell.execute_reply": "2021-04-01T13:16:18.002725Z"
    },
    "papermill": {
     "duration": 0.043013,
     "end_time": "2021-04-01T13:16:18.002874",
     "exception": false,
     "start_time": "2021-04-01T13:16:17.959861",
     "status": "completed"
    },
    "tags": []
   },
   "outputs": [
    {
     "data": {
      "text/html": [
       "<div>\n",
       "<style scoped>\n",
       "    .dataframe tbody tr th:only-of-type {\n",
       "        vertical-align: middle;\n",
       "    }\n",
       "\n",
       "    .dataframe tbody tr th {\n",
       "        vertical-align: top;\n",
       "    }\n",
       "\n",
       "    .dataframe thead th {\n",
       "        text-align: right;\n",
       "    }\n",
       "</style>\n",
       "<table border=\"1\" class=\"dataframe\">\n",
       "  <thead>\n",
       "    <tr style=\"text-align: right;\">\n",
       "      <th>states</th>\n",
       "      <th>2020-07-01</th>\n",
       "      <th>2020-07-02</th>\n",
       "      <th>2020-07-03</th>\n",
       "      <th>2020-07-04</th>\n",
       "      <th>2020-07-05</th>\n",
       "      <th>2020-07-06</th>\n",
       "      <th>2020-07-07</th>\n",
       "      <th>2020-07-08</th>\n",
       "      <th>2020-07-09</th>\n",
       "      <th>2020-07-10</th>\n",
       "      <th>...</th>\n",
       "      <th>2021-03-23</th>\n",
       "      <th>2021-03-24</th>\n",
       "      <th>2021-03-25</th>\n",
       "      <th>2021-03-26</th>\n",
       "      <th>2021-03-27</th>\n",
       "      <th>2021-03-28</th>\n",
       "      <th>2021-03-29</th>\n",
       "      <th>2021-03-30</th>\n",
       "      <th>2021-03-31</th>\n",
       "      <th>2021-04-01</th>\n",
       "    </tr>\n",
       "    <tr>\n",
       "      <th>state</th>\n",
       "      <th></th>\n",
       "      <th></th>\n",
       "      <th></th>\n",
       "      <th></th>\n",
       "      <th></th>\n",
       "      <th></th>\n",
       "      <th></th>\n",
       "      <th></th>\n",
       "      <th></th>\n",
       "      <th></th>\n",
       "      <th></th>\n",
       "      <th></th>\n",
       "      <th></th>\n",
       "      <th></th>\n",
       "      <th></th>\n",
       "      <th></th>\n",
       "      <th></th>\n",
       "      <th></th>\n",
       "      <th></th>\n",
       "      <th></th>\n",
       "      <th></th>\n",
       "    </tr>\n",
       "  </thead>\n",
       "  <tbody>\n",
       "    <tr>\n",
       "      <th>Telangana</th>\n",
       "      <td>0</td>\n",
       "      <td>1213</td>\n",
       "      <td>1892</td>\n",
       "      <td>1850</td>\n",
       "      <td>1590</td>\n",
       "      <td>1831</td>\n",
       "      <td>1879</td>\n",
       "      <td>1924</td>\n",
       "      <td>1410</td>\n",
       "      <td>1278</td>\n",
       "      <td>...</td>\n",
       "      <td>412</td>\n",
       "      <td>431</td>\n",
       "      <td>493</td>\n",
       "      <td>518</td>\n",
       "      <td>495</td>\n",
       "      <td>535</td>\n",
       "      <td>403</td>\n",
       "      <td>463</td>\n",
       "      <td>684</td>\n",
       "      <td>887</td>\n",
       "    </tr>\n",
       "    <tr>\n",
       "      <th>Jammu and Kashmir</th>\n",
       "      <td>0</td>\n",
       "      <td>154</td>\n",
       "      <td>170</td>\n",
       "      <td>227</td>\n",
       "      <td>183</td>\n",
       "      <td>246</td>\n",
       "      <td>256</td>\n",
       "      <td>330</td>\n",
       "      <td>240</td>\n",
       "      <td>387</td>\n",
       "      <td>...</td>\n",
       "      <td>157</td>\n",
       "      <td>195</td>\n",
       "      <td>172</td>\n",
       "      <td>210</td>\n",
       "      <td>271</td>\n",
       "      <td>309</td>\n",
       "      <td>235</td>\n",
       "      <td>359</td>\n",
       "      <td>373</td>\n",
       "      <td>461</td>\n",
       "    </tr>\n",
       "    <tr>\n",
       "      <th>Odisha</th>\n",
       "      <td>0</td>\n",
       "      <td>229</td>\n",
       "      <td>561</td>\n",
       "      <td>495</td>\n",
       "      <td>469</td>\n",
       "      <td>456</td>\n",
       "      <td>571</td>\n",
       "      <td>527</td>\n",
       "      <td>577</td>\n",
       "      <td>755</td>\n",
       "      <td>...</td>\n",
       "      <td>113</td>\n",
       "      <td>170</td>\n",
       "      <td>214</td>\n",
       "      <td>234</td>\n",
       "      <td>210</td>\n",
       "      <td>290</td>\n",
       "      <td>208</td>\n",
       "      <td>218</td>\n",
       "      <td>297</td>\n",
       "      <td>394</td>\n",
       "    </tr>\n",
       "    <tr>\n",
       "      <th>Puducherry</th>\n",
       "      <td>0</td>\n",
       "      <td>63</td>\n",
       "      <td>22</td>\n",
       "      <td>80</td>\n",
       "      <td>42</td>\n",
       "      <td>65</td>\n",
       "      <td>30</td>\n",
       "      <td>110</td>\n",
       "      <td>49</td>\n",
       "      <td>72</td>\n",
       "      <td>...</td>\n",
       "      <td>87</td>\n",
       "      <td>125</td>\n",
       "      <td>95</td>\n",
       "      <td>96</td>\n",
       "      <td>128</td>\n",
       "      <td>137</td>\n",
       "      <td>125</td>\n",
       "      <td>115</td>\n",
       "      <td>127</td>\n",
       "      <td>260</td>\n",
       "    </tr>\n",
       "    <tr>\n",
       "      <th>Tripura</th>\n",
       "      <td>0</td>\n",
       "      <td>39</td>\n",
       "      <td>93</td>\n",
       "      <td>25</td>\n",
       "      <td>23</td>\n",
       "      <td>111</td>\n",
       "      <td>24</td>\n",
       "      <td>57</td>\n",
       "      <td>16</td>\n",
       "      <td>142</td>\n",
       "      <td>...</td>\n",
       "      <td>6</td>\n",
       "      <td>9</td>\n",
       "      <td>1</td>\n",
       "      <td>0</td>\n",
       "      <td>10</td>\n",
       "      <td>0</td>\n",
       "      <td>3</td>\n",
       "      <td>0</td>\n",
       "      <td>0</td>\n",
       "      <td>24</td>\n",
       "    </tr>\n",
       "  </tbody>\n",
       "</table>\n",
       "<p>5 rows × 275 columns</p>\n",
       "</div>"
      ],
      "text/plain": [
       "states             2020-07-01  2020-07-02  2020-07-03  2020-07-04  2020-07-05  \\\n",
       "state                                                                           \n",
       "Telangana                   0        1213        1892        1850        1590   \n",
       "Jammu and Kashmir           0         154         170         227         183   \n",
       "Odisha                      0         229         561         495         469   \n",
       "Puducherry                  0          63          22          80          42   \n",
       "Tripura                     0          39          93          25          23   \n",
       "\n",
       "states             2020-07-06  2020-07-07  2020-07-08  2020-07-09  2020-07-10  \\\n",
       "state                                                                           \n",
       "Telangana                1831        1879        1924        1410        1278   \n",
       "Jammu and Kashmir         246         256         330         240         387   \n",
       "Odisha                    456         571         527         577         755   \n",
       "Puducherry                 65          30         110          49          72   \n",
       "Tripura                   111          24          57          16         142   \n",
       "\n",
       "states             ...  2021-03-23  2021-03-24  2021-03-25  2021-03-26  \\\n",
       "state              ...                                                   \n",
       "Telangana          ...         412         431         493         518   \n",
       "Jammu and Kashmir  ...         157         195         172         210   \n",
       "Odisha             ...         113         170         214         234   \n",
       "Puducherry         ...          87         125          95          96   \n",
       "Tripura            ...           6           9           1           0   \n",
       "\n",
       "states             2021-03-27  2021-03-28  2021-03-29  2021-03-30  2021-03-31  \\\n",
       "state                                                                           \n",
       "Telangana                 495         535         403         463         684   \n",
       "Jammu and Kashmir         271         309         235         359         373   \n",
       "Odisha                    210         290         208         218         297   \n",
       "Puducherry                128         137         125         115         127   \n",
       "Tripura                    10           0           3           0           0   \n",
       "\n",
       "states             2021-04-01  \n",
       "state                          \n",
       "Telangana                 887  \n",
       "Jammu and Kashmir         461  \n",
       "Odisha                    394  \n",
       "Puducherry                260  \n",
       "Tripura                    24  \n",
       "\n",
       "[5 rows x 275 columns]"
      ]
     },
     "execution_count": 18,
     "metadata": {},
     "output_type": "execute_result"
    }
   ],
   "source": [
    "#hide\n",
    "dft_ct_new_cases.head()"
   ]
  },
  {
   "cell_type": "code",
   "execution_count": 19,
   "id": "responsible-nightlife",
   "metadata": {
    "execution": {
     "iopub.execute_input": "2021-04-01T13:16:18.072682Z",
     "iopub.status.busy": "2021-04-01T13:16:18.052025Z",
     "iopub.status.idle": "2021-04-01T13:16:28.132417Z",
     "shell.execute_reply": "2021-04-01T13:16:28.132911Z"
    },
    "papermill": {
     "duration": 10.109146,
     "end_time": "2021-04-01T13:16:28.133067",
     "exception": false,
     "start_time": "2021-04-01T13:16:18.023921",
     "status": "completed"
    },
    "tags": []
   },
   "outputs": [
    {
     "data": {
      "image/png": "[encoded data removed]",
      "text/plain": [
       "<Figure size 1296x2016 with 11 Axes>"
      ]
     },
     "metadata": {
      "needs_background": "light"
     },
     "output_type": "display_data"
    }
   ],
   "source": [
    "#hide_input\n",
    "df = dft_ct_new_cases.copy()\n",
    "df.loc['Total'] = df.sum()\n",
    "n = 5\n",
    "ax = []\n",
    "fig = plt.figure(figsize = (18,28))\n",
    "gs = fig.add_gridspec(n+2, 5)\n",
    "# gs = fig.add_gridspec(2, 3)\n",
    "ax1 = fig.add_subplot(gs[0, :])\n",
    "ef = df.loc['Total'].rename_axis('date').reset_index()\n",
    "ef['date'] = ef['date'].astype('datetime64[ns]')\n",
    "ax1.bar(ef.date,ef.Total,alpha=0.3,color='#007acc')\n",
    "ax1.plot(ef.date,ef.Total , marker=\"o\", color='#007acc')\n",
    "ax1.xaxis.set_major_locator(mdates.WeekdayLocator())\n",
    "ax1.xaxis.set_major_formatter(mdates.DateFormatter('%b %d'))\n",
    "ax1.text(0.02, 0.5,'India daily case count', transform = ax1.transAxes, fontsize=25);\n",
    "ax1.spines['right'].set_visible(False)\n",
    "ax1.spines['top'].set_visible(False)\n",
    "\n",
    "ax2 = fig.add_subplot(gs[1,0])\n",
    "ef = df.loc['Maharashtra'].rename_axis('date').reset_index()\n",
    "ef['date'] = ef['date'].astype('datetime64[ns]')\n",
    "\n",
    "ax2.bar(ef.date, ef.Maharashtra,color = '#007acc',alpha=0.5)\n",
    "ax2.xaxis.set_major_locator(mdates.WeekdayLocator())\n",
    "ax2.xaxis.set_major_formatter(mdates.DateFormatter('%b %d'))\n",
    "ax2.set_xticks(ax2.get_xticks()[::3])\n",
    "maxyval = ef.Maharashtra.max()\n",
    "ax2.set_ylim([0,maxyval])\n",
    "ax2.text(0.05, 0.9,'Maharashtra', transform = ax2.transAxes, fontsize=20);\n",
    "ax2.spines['right'].set_visible(False)\n",
    "ax2.spines['top'].set_visible(False)\n",
    "\n",
    "\n",
    "ax3 = fig.add_subplot(gs[1,1])\n",
    "ef = df.loc['Tamil Nadu'].rename_axis('date').reset_index()\n",
    "ef['date'] = ef['date'].astype('datetime64[ns]')\n",
    "ax3.bar(ef.date, ef['Tamil Nadu'],color = '#007acc',alpha=0.5,)\n",
    "ax3.xaxis.set_major_locator(mdates.WeekdayLocator())\n",
    "ax3.xaxis.set_major_formatter(mdates.DateFormatter('%b %d'))\n",
    "ax3.set_xticks(ax3.get_xticks()[::3])\n",
    "ax3.text(0.05, 0.9,'Tamil Nadu', transform = ax3.transAxes, fontsize=20);\n",
    "ax3.spines['right'].set_visible(False)\n",
    "ax3.spines['top'].set_visible(False)\n",
    "\n",
    "ax5 = fig.add_subplot(gs[1,3])\n",
    "ef = df.loc['Telangana'].rename_axis('date').reset_index()\n",
    "ef['date'] = ef['date'].astype('datetime64[ns]')\n",
    "ax5.bar(ef.date, ef['Telangana'],color = '#007acc',alpha=0.5,)\n",
    "ax5.xaxis.set_major_locator(mdates.WeekdayLocator())\n",
    "ax5.xaxis.set_major_formatter(mdates.DateFormatter('%b %d'))\n",
    "ax5.set_xticks(ax5.get_xticks()[::3])\n",
    "ax5.text(0.05, 0.9,'Telangana', transform = ax5.transAxes, fontsize=20);\n",
    "ax5.spines['right'].set_visible(False)\n",
    "ax5.spines['top'].set_visible(False)\n",
    "\n",
    "ax6 = fig.add_subplot(gs[1,4])\n",
    "ef = df.loc['Andhra Pradesh'].rename_axis('date').reset_index()\n",
    "ef['date'] = ef['date'].astype('datetime64[ns]')\n",
    "ax6.bar(ef.date, ef['Andhra Pradesh'],color = '#007acc',alpha=0.5,)\n",
    "ax6.xaxis.set_major_locator(mdates.WeekdayLocator())\n",
    "ax6.xaxis.set_major_formatter(mdates.DateFormatter('%b %d'))\n",
    "ax6.set_xticks(ax6.get_xticks()[::3])\n",
    "ax6.text(0.05, 1,'Andhra Pradesh', transform = ax6.transAxes, fontsize=20);\n",
    "ax6.spines['right'].set_visible(False)\n",
    "ax6.spines['top'].set_visible(False)\n",
    "\n",
    "ax4 = fig.add_subplot(gs[1,2])\n",
    "ef = df.loc['Delhi'].rename_axis('date').reset_index()\n",
    "ef['date'] = ef['date'].astype('datetime64[ns]')\n",
    "ax4.bar(ef.date, ef.Delhi,color = '#007acc',alpha=0.5)\n",
    "ax4.set_xticks([])\n",
    "ax4.xaxis.set_major_locator(mdates.WeekdayLocator())\n",
    "ax4.xaxis.set_major_formatter(mdates.DateFormatter('%b %d'))\n",
    "ax4.set_xticks(ax4.get_xticks()[::3])\n",
    "ax4.spines['right'].set_visible(False)\n",
    "ax4.spines['top'].set_visible(False)\n",
    "\n",
    "ax4.text(0.05, 1,'Delhi', transform = ax4.transAxes, fontsize=20)\n",
    "\n",
    "for i in range(n):\n",
    "    \n",
    "    ax.append(fig.add_subplot(gs[i+2,:]))\n",
    "    ef = df.iloc[i+3].rename_axis('date').reset_index()\n",
    "    ef['date'] = ef['date'].astype('datetime64[ns]')\n",
    "    ax[i].bar(ef.date,ef.iloc[:,-1],color = '#007acc',alpha=0.3)\n",
    "    ax[i].plot(ef.date,ef.iloc[:,-1],marker='o',color='#007acc')\n",
    "    ax[i].text(0.02,0.5,f'{ef.columns.values[-1]}',transform = ax[i].transAxes, fontsize = 20);\n",
    "    ax[i].xaxis.set_major_locator(mdates.WeekdayLocator())\n",
    "    ax[i].xaxis.set_major_formatter(mdates.DateFormatter('%b %d'))\n",
    "    ax[i].set_ylim([0,7000])\n",
    "    ax[i].spines['right'].set_visible(False)\n",
    "    ax[i].spines['top'].set_visible(False)\n",
    "plt.tight_layout()\n"
   ]
  },
  {
   "cell_type": "code",
   "execution_count": 20,
   "id": "dress-forge",
   "metadata": {
    "execution": {
     "iopub.execute_input": "2021-04-01T13:16:28.192336Z",
     "iopub.status.busy": "2021-04-01T13:16:28.191724Z",
     "iopub.status.idle": "2021-04-01T13:16:28.195123Z",
     "shell.execute_reply": "2021-04-01T13:16:28.195567Z"
    },
    "papermill": {
     "duration": 0.037021,
     "end_time": "2021-04-01T13:16:28.195713",
     "exception": false,
     "start_time": "2021-04-01T13:16:28.158692",
     "status": "completed"
    },
    "tags": []
   },
   "outputs": [
    {
     "name": "stdout",
     "output_type": "stream",
     "text": [
      "                                   states    Cases  Deaths   PCases  PDeaths  Cases (+)  Deaths (+)  Fatality Rate\n",
      "                              Maharashtra  2812980   54649  2812980    54649          0           0           1.94\n",
      "                                   Kerala  1124585    4622  1124585     4622          0           0           0.41\n",
      "                                Karnataka   997004   12567   997004    12567          0           0           1.26\n",
      "                           Andhra Pradesh   901989    7217   901989     7217          0           0           0.80\n",
      "                               Tamil Nadu   886673   12719   886673    12719          0           0           1.43\n",
      "                                    Delhi   662430   11027   662430    11027          0           0           1.66\n",
      "                            Uttar Pradesh   617194    8811   617194     8811          0           0           1.43\n",
      "                              West Bengal   586915   10329   586915    10329          0           0           1.76\n",
      "                             Chhattisgarh   349187    4170   349187     4170          0           0           1.19\n",
      "                                   Odisha   341311    1974   340917     1974        394           0           0.58\n",
      "                                Rajasthan   333149    2818   333149     2818          0           0           0.85\n",
      "                                Telangana   308776    1701   307889     1697        887           4           0.55\n",
      "                                  Gujarat   307698    4519   307698     4519          0           0           1.47\n",
      "                           Madhya Pradesh   295511    3986   295511     3986          0           0           1.35\n",
      "                                  Haryana   290800    3155   290800     3155          0           0           1.08\n",
      "                                    Bihar   265527    1576   265527     1576          0           0           0.59\n",
      "                                   Punjab   239734    6868   239734     6868          0           0           2.86\n",
      "                                    Assam   218412    1105   218412     1105          0           0           0.51\n",
      "                        Jammu and Kashmir   131421    1998   130960     1994        461           4           1.52\n",
      "                                Jharkhand   124201    1113   124201     1113          0           0           0.90\n",
      "                              Uttarakhand   100411    1717   100411     1717          0           0           1.71\n",
      "                         Himachal Pradesh    63605    1035    63605     1035          0           0           1.63\n",
      "                                      Goa    58039     830    58039      830          0           0           1.43\n",
      "                               Puducherry    41728     683    41468      682        260           1           1.64\n",
      "                                  Tripura    33514     389    33490      389         24           0           1.16\n",
      "                                  Manipur    29396     374    29396      374          0           0           1.27\n",
      "                               Chandigarh    26999     379    26999      379          0           0           1.40\n",
      "                        Arunachal Pradesh    16845      56    16845       56          0           0           0.33\n",
      "                                Meghalaya    14065     150    14065      150          0           0           1.07\n",
      "                                 Nagaland    12340      91    12340       91          0           0           0.74\n",
      "                                   Ladakh    10157     130    10157      130          0           0           1.28\n",
      "                                   Sikkim     6235     135     6235      135          0           0           2.17\n",
      "              Andaman and Nicobar Islands     5083      62     5083       62          0           0           1.22\n",
      "                                  Mizoram     4473      11     4473       11          0           0           0.25\n",
      " Dadra and Nagar Haveli and Daman and Diu     3628       2     3628        2          0           0           0.06\n",
      "                              Lakshadweep      723       1      723        1          0           0           0.14\n"
     ]
    }
   ],
   "source": [
    "#hide_input\n",
    "print(df_table.to_string(index=False))"
   ]
  },
  {
   "cell_type": "code",
   "execution_count": null,
   "id": "quantitative-legend",
   "metadata": {
    "papermill": {
     "duration": 0.026435,
     "end_time": "2021-04-01T13:16:28.246686",
     "exception": false,
     "start_time": "2021-04-01T13:16:28.220251",
     "status": "completed"
    },
    "tags": []
   },
   "outputs": [],
   "source": []
  },
  {
   "cell_type": "code",
   "execution_count": null,
   "id": "distant-acoustic",
   "metadata": {
    "papermill": {
     "duration": 0.02674,
     "end_time": "2021-04-01T13:16:28.300732",
     "exception": false,
     "start_time": "2021-04-01T13:16:28.273992",
     "status": "completed"
    },
    "tags": []
   },
   "outputs": [],
   "source": []
  }
 ],
 "metadata": {
  "kernelspec": {
   "display_name": "Python 3",
   "language": "python",
   "name": "python3"
  },
  "language_info": {
   "codemirror_mode": {
    "name": "ipython",
    "version": 3
   },
   "file_extension": ".py",
   "mimetype": "text/x-python",
   "name": "python",
   "nbconvert_exporter": "python",
   "pygments_lexer": "ipython3",
   "version": "3.6.13"
  },
  "papermill": {
   "duration": 22.360381,
   "end_time": "2021-04-01T13:16:29.721346",
   "environment_variables": {},
   "exception": null,
   "input_path": "latest.ipynb",
   "output_path": "latest.ipynb",
   "parameters": {},
   "start_time": "2021-04-01T13:16:07.360965",
   "version": "2.1.2"
  }
 },
 "nbformat": 4,
 "nbformat_minor": 5
}