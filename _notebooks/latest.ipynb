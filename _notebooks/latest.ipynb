{
 "cells": [
  {
   "cell_type": "markdown",
   "metadata": {
    "papermill": {
     "duration": 0.022512,
     "end_time": "2020-09-21T12:52:28.225334",
     "exception": false,
     "start_time": "2020-09-21T12:52:28.202822",
     "status": "completed"
    },
    "tags": []
   },
   "source": [
    "# Latest COVID-19 India Matplotlib Overview"
   ]
  },
  {
   "cell_type": "code",
   "execution_count": 1,
   "metadata": {
    "execution": {
     "iopub.execute_input": "2020-09-21T12:52:28.268455Z",
     "iopub.status.busy": "2020-09-21T12:52:28.267781Z",
     "iopub.status.idle": "2020-09-21T12:52:28.891203Z",
     "shell.execute_reply": "2020-09-21T12:52:28.890244Z"
    },
    "papermill": {
     "duration": 0.648622,
     "end_time": "2020-09-21T12:52:28.891369",
     "exception": false,
     "start_time": "2020-09-21T12:52:28.242747",
     "status": "completed"
    },
    "tags": []
   },
   "outputs": [],
   "source": [
    "#hide\n",
    "import pandas as pd\n",
    "import numpy as np\n",
    "import requests\n",
    "import json\n",
    "import matplotlib.pyplot as plt\n",
    "import matplotlib.dates as mdates\n",
    "import matplotlib as mpl\n",
    "from IPython.core.display import display,HTML\n",
    "%matplotlib inline\n",
    "from datetime import date"
   ]
  },
  {
   "cell_type": "code",
   "execution_count": 2,
   "metadata": {
    "execution": {
     "iopub.execute_input": "2020-09-21T12:52:28.932768Z",
     "iopub.status.busy": "2020-09-21T12:52:28.932082Z",
     "iopub.status.idle": "2020-09-21T12:52:29.044935Z",
     "shell.execute_reply": "2020-09-21T12:52:29.044317Z"
    },
    "papermill": {
     "duration": 0.136999,
     "end_time": "2020-09-21T12:52:29.045083",
     "exception": false,
     "start_time": "2020-09-21T12:52:28.908084",
     "status": "completed"
    },
    "tags": []
   },
   "outputs": [],
   "source": [
    "#hide\n",
    "df  = pd.read_csv('https://api.covid19india.org/csv/latest/states.csv')\n",
    "df = df[['Date','State','Confirmed','Deceased']]\n",
    "df = df.rename(columns={'Confirmed':'Cases', \"Deceased\":'Deaths'})\n",
    "df_cases = df[[\"Date\",'State','Cases']]\n",
    "df_deaths = df[['Date','State','Deaths']]\n",
    "df_cases1 = df_cases.groupby('Date')\n",
    "df_deaths1= df_deaths.groupby('Date')"
   ]
  },
  {
   "cell_type": "code",
   "execution_count": 3,
   "metadata": {
    "execution": {
     "iopub.execute_input": "2020-09-21T12:52:29.085713Z",
     "iopub.status.busy": "2020-09-21T12:52:29.085063Z",
     "iopub.status.idle": "2020-09-21T12:52:29.104532Z",
     "shell.execute_reply": "2020-09-21T12:52:29.103927Z"
    },
    "papermill": {
     "duration": 0.042868,
     "end_time": "2020-09-21T12:52:29.104681",
     "exception": false,
     "start_time": "2020-09-21T12:52:29.061813",
     "status": "completed"
    },
    "tags": []
   },
   "outputs": [],
   "source": [
    "#hide\n",
    "df_snap = pd.read_csv('data/SnapshotCases-28-July.csv')\n",
    "arr_states = df_snap['states'].unique()\n",
    "arr_dates = df['Date'].unique()\n",
    "df_snap = df_snap.set_index('states')"
   ]
  },
  {
   "cell_type": "code",
   "execution_count": 4,
   "metadata": {
    "execution": {
     "iopub.execute_input": "2020-09-21T12:52:29.146414Z",
     "iopub.status.busy": "2020-09-21T12:52:29.145739Z",
     "iopub.status.idle": "2020-09-21T12:52:29.149945Z",
     "shell.execute_reply": "2020-09-21T12:52:29.150548Z"
    },
    "papermill": {
     "duration": 0.029019,
     "end_time": "2020-09-21T12:52:29.150707",
     "exception": false,
     "start_time": "2020-09-21T12:52:29.121688",
     "status": "completed"
    },
    "tags": []
   },
   "outputs": [
    {
     "data": {
      "text/plain": [
       "array(['Andaman and Nicobar Islands', 'Andhra Pradesh',\n",
       "       'Arunachal Pradesh', 'Assam', 'Bihar', 'Chandigarh',\n",
       "       'Dadra and Nagar Haveli and Daman and Diu', 'Delhi', 'Goa',\n",
       "       'Gujarat', 'Haryana', 'Himachal Pradesh', 'Jammu and Kashmir',\n",
       "       'Jharkhand', 'Karnataka', 'Kerala', 'Lakshadweep',\n",
       "       'Madhya Pradesh', 'Maharashtra', 'Manipur', 'Meghalaya', 'Mizoram',\n",
       "       'Nagaland', 'Odisha', 'Puducherry', 'Punjab', 'Rajasthan',\n",
       "       'Sikkim', 'Tamil Nadu', 'Telangana', 'Tripura', 'Uttar Pradesh',\n",
       "       'West Bengal', 'Chhattisgarh', 'Ladakh', 'Uttarakhand'],\n",
       "      dtype=object)"
      ]
     },
     "execution_count": 4,
     "metadata": {},
     "output_type": "execute_result"
    }
   ],
   "source": [
    "#hide\n",
    "arr_states[-9] = 'Puducherry'\n",
    "arr_states[-10] = 'Odisha'\n",
    "arr_states[6] = 'Dadra and Nagar Haveli and Daman and Diu'\n",
    "arr_states = np.append(arr_states,np.array(['Chhattisgarh','Ladakh','Uttarakhand']))\n",
    "arr_states"
   ]
  },
  {
   "cell_type": "code",
   "execution_count": 5,
   "metadata": {
    "execution": {
     "iopub.execute_input": "2020-09-21T12:52:29.195653Z",
     "iopub.status.busy": "2020-09-21T12:52:29.194994Z",
     "iopub.status.idle": "2020-09-21T12:52:29.202667Z",
     "shell.execute_reply": "2020-09-21T12:52:29.203210Z"
    },
    "papermill": {
     "duration": 0.035706,
     "end_time": "2020-09-21T12:52:29.203366",
     "exception": false,
     "start_time": "2020-09-21T12:52:29.167660",
     "status": "completed"
    },
    "tags": []
   },
   "outputs": [],
   "source": [
    "#hide\n",
    "dates = []\n",
    "for i in arr_dates:\n",
    "    if i>='2020-07-01':\n",
    "        dates.append(i)\n",
    "dict = {'states':dates}\n",
    "for i in arr_states:\n",
    "    dict[i] = [0]*len(dates)\n",
    "dft_cases = pd.DataFrame(dict)\n",
    "dft_deaths = pd.DataFrame(dict)\n"
   ]
  },
  {
   "cell_type": "code",
   "execution_count": 6,
   "metadata": {
    "execution": {
     "iopub.execute_input": "2020-09-21T12:52:29.245451Z",
     "iopub.status.busy": "2020-09-21T12:52:29.244799Z",
     "iopub.status.idle": "2020-09-21T12:52:30.753125Z",
     "shell.execute_reply": "2020-09-21T12:52:30.752193Z"
    },
    "papermill": {
     "duration": 1.531784,
     "end_time": "2020-09-21T12:52:30.753275",
     "exception": false,
     "start_time": "2020-09-21T12:52:29.221491",
     "status": "completed"
    },
    "tags": []
   },
   "outputs": [],
   "source": [
    "#hide\n",
    "for i in range(len(dates)):\n",
    "    df1_deaths = df_deaths1.get_group(dates[i])\n",
    "    for j in range(len(df1_deaths.index)):\n",
    "        if df1_deaths.iloc[j,1] in arr_states:\n",
    "            dft_deaths.loc[i,df1_deaths.iloc[j,1]] = df1_deaths.iloc[j,2]\n",
    "dft_deaths = dft_deaths.set_index('states')"
   ]
  },
  {
   "cell_type": "code",
   "execution_count": 7,
   "metadata": {
    "execution": {
     "iopub.execute_input": "2020-09-21T12:52:31.158521Z",
     "iopub.status.busy": "2020-09-21T12:52:31.157410Z",
     "iopub.status.idle": "2020-09-21T12:52:32.655574Z",
     "shell.execute_reply": "2020-09-21T12:52:32.656399Z"
    },
    "papermill": {
     "duration": 1.882054,
     "end_time": "2020-09-21T12:52:32.656571",
     "exception": false,
     "start_time": "2020-09-21T12:52:30.774517",
     "status": "completed"
    },
    "tags": []
   },
   "outputs": [],
   "source": [
    "#hide\n",
    "for i in range(len(dates)):\n",
    "    df1_cases = df_cases1.get_group(dates[i])\n",
    "    for j in range(len(df1_cases.index)):\n",
    "        if df1_cases.iloc[j,1] in arr_states:\n",
    "            dft_cases.loc[i,df1_cases.iloc[j,1]] = df1_cases.iloc[j,2]\n",
    "dft_cases = dft_cases.set_index('states')"
   ]
  },
  {
   "cell_type": "code",
   "execution_count": 8,
   "metadata": {
    "execution": {
     "iopub.execute_input": "2020-09-21T12:52:32.696314Z",
     "iopub.status.busy": "2020-09-21T12:52:32.695646Z",
     "iopub.status.idle": "2020-09-21T12:52:32.697654Z",
     "shell.execute_reply": "2020-09-21T12:52:32.698150Z"
    },
    "papermill": {
     "duration": 0.02473,
     "end_time": "2020-09-21T12:52:32.698332",
     "exception": false,
     "start_time": "2020-09-21T12:52:32.673602",
     "status": "completed"
    },
    "tags": []
   },
   "outputs": [],
   "source": [
    "#hide\n",
    "dft_cases = dft_cases.T\n",
    "dft_deaths = dft_deaths.T\n",
    "dt_today = dates[-1]\n",
    "dt_yday = dates[-2]"
   ]
  },
  {
   "cell_type": "code",
   "execution_count": 9,
   "metadata": {
    "execution": {
     "iopub.execute_input": "2020-09-21T12:52:32.740731Z",
     "iopub.status.busy": "2020-09-21T12:52:32.739390Z",
     "iopub.status.idle": "2020-09-21T12:52:32.741425Z",
     "shell.execute_reply": "2020-09-21T12:52:32.741947Z"
    },
    "papermill": {
     "duration": 0.02706,
     "end_time": "2020-09-21T12:52:32.742105",
     "exception": false,
     "start_time": "2020-09-21T12:52:32.715045",
     "status": "completed"
    },
    "tags": []
   },
   "outputs": [],
   "source": [
    "#hide\n",
    "dft_cases = dft_cases.reset_index()\n",
    "dft_deaths = dft_deaths.reset_index()\n",
    "dft_cases = dft_cases.rename(columns = {'index':'state'})\n",
    "dft_deaths = dft_deaths.rename(columns = {'index':'state'})"
   ]
  },
  {
   "cell_type": "code",
   "execution_count": 10,
   "metadata": {
    "execution": {
     "iopub.execute_input": "2020-09-21T12:52:32.782926Z",
     "iopub.status.busy": "2020-09-21T12:52:32.781432Z",
     "iopub.status.idle": "2020-09-21T12:52:32.789593Z",
     "shell.execute_reply": "2020-09-21T12:52:32.789068Z"
    },
    "papermill": {
     "duration": 0.030951,
     "end_time": "2020-09-21T12:52:32.789737",
     "exception": false,
     "start_time": "2020-09-21T12:52:32.758786",
     "status": "completed"
    },
    "tags": []
   },
   "outputs": [],
   "source": [
    "#hide\n",
    "dfc_cases = dft_cases.groupby('state')[dt_today].sum()\n",
    "dfc_deaths = dft_deaths.groupby('state')[dt_today].sum()\n",
    "dfp_cases = dft_cases.groupby('state')[dt_yday].sum()\n",
    "dfp_deaths = dft_deaths.groupby('state')[dt_yday].sum()"
   ]
  },
  {
   "cell_type": "code",
   "execution_count": 11,
   "metadata": {
    "execution": {
     "iopub.execute_input": "2020-09-21T12:52:32.829394Z",
     "iopub.status.busy": "2020-09-21T12:52:32.828755Z",
     "iopub.status.idle": "2020-09-21T12:52:32.845041Z",
     "shell.execute_reply": "2020-09-21T12:52:32.844488Z"
    },
    "papermill": {
     "duration": 0.038811,
     "end_time": "2020-09-21T12:52:32.845300",
     "exception": false,
     "start_time": "2020-09-21T12:52:32.806489",
     "status": "completed"
    },
    "tags": []
   },
   "outputs": [
    {
     "data": {
      "text/html": [
       "<div>\n",
       "<style scoped>\n",
       "    .dataframe tbody tr th:only-of-type {\n",
       "        vertical-align: middle;\n",
       "    }\n",
       "\n",
       "    .dataframe tbody tr th {\n",
       "        vertical-align: top;\n",
       "    }\n",
       "\n",
       "    .dataframe thead th {\n",
       "        text-align: right;\n",
       "    }\n",
       "</style>\n",
       "<table border=\"1\" class=\"dataframe\">\n",
       "  <thead>\n",
       "    <tr style=\"text-align: right;\">\n",
       "      <th></th>\n",
       "      <th>states</th>\n",
       "      <th>Cases</th>\n",
       "      <th>Deaths</th>\n",
       "      <th>PCases</th>\n",
       "      <th>PDeaths</th>\n",
       "    </tr>\n",
       "  </thead>\n",
       "  <tbody>\n",
       "    <tr>\n",
       "      <th>0</th>\n",
       "      <td>Maharashtra</td>\n",
       "      <td>1208642</td>\n",
       "      <td>32671</td>\n",
       "      <td>1208642</td>\n",
       "      <td>32671</td>\n",
       "    </tr>\n",
       "    <tr>\n",
       "      <th>1</th>\n",
       "      <td>Andhra Pradesh</td>\n",
       "      <td>631749</td>\n",
       "      <td>5410</td>\n",
       "      <td>625514</td>\n",
       "      <td>5359</td>\n",
       "    </tr>\n",
       "    <tr>\n",
       "      <th>2</th>\n",
       "      <td>Tamil Nadu</td>\n",
       "      <td>541993</td>\n",
       "      <td>8811</td>\n",
       "      <td>541993</td>\n",
       "      <td>8811</td>\n",
       "    </tr>\n",
       "    <tr>\n",
       "      <th>3</th>\n",
       "      <td>Karnataka</td>\n",
       "      <td>519537</td>\n",
       "      <td>8023</td>\n",
       "      <td>519537</td>\n",
       "      <td>8023</td>\n",
       "    </tr>\n",
       "    <tr>\n",
       "      <th>4</th>\n",
       "      <td>Uttar Pradesh</td>\n",
       "      <td>354275</td>\n",
       "      <td>5047</td>\n",
       "      <td>354275</td>\n",
       "      <td>5047</td>\n",
       "    </tr>\n",
       "  </tbody>\n",
       "</table>\n",
       "</div>"
      ],
      "text/plain": [
       "           states    Cases  Deaths   PCases  PDeaths\n",
       "0     Maharashtra  1208642   32671  1208642    32671\n",
       "1  Andhra Pradesh   631749    5410   625514     5359\n",
       "2      Tamil Nadu   541993    8811   541993     8811\n",
       "3       Karnataka   519537    8023   519537     8023\n",
       "4   Uttar Pradesh   354275    5047   354275     5047"
      ]
     },
     "execution_count": 11,
     "metadata": {},
     "output_type": "execute_result"
    }
   ],
   "source": [
    "#hide\n",
    "df_table = pd.DataFrame({'states': dfc_cases.index, 'Cases': dfc_cases.values, 'Deaths': dfc_deaths.values, 'PCases': dfp_cases.values, 'PDeaths': dfp_deaths.values}).set_index('states')\n",
    "df_table = df_table.sort_values(by = ['Cases','Deaths'], ascending = [False, False])\n",
    "df_table = df_table.reset_index()\n",
    "df_table.head()"
   ]
  },
  {
   "cell_type": "code",
   "execution_count": 12,
   "metadata": {
    "execution": {
     "iopub.execute_input": "2020-09-21T12:52:32.885686Z",
     "iopub.status.busy": "2020-09-21T12:52:32.885046Z",
     "iopub.status.idle": "2020-09-21T12:52:32.894241Z",
     "shell.execute_reply": "2020-09-21T12:52:32.894782Z"
    },
    "papermill": {
     "duration": 0.03226,
     "end_time": "2020-09-21T12:52:32.894954",
     "exception": false,
     "start_time": "2020-09-21T12:52:32.862694",
     "status": "completed"
    },
    "tags": []
   },
   "outputs": [],
   "source": [
    "#hide\n",
    "for c in 'Cases, Deaths'.split(', '):\n",
    "    df_table[f'{c} (+)'] = (df_table[c] - df_table[f'P{c}']).clip(0)\n",
    "df_table['Fatality Rate'] = (100* df_table['Deaths']/ df_table['Cases']).round(2)"
   ]
  },
  {
   "cell_type": "code",
   "execution_count": 13,
   "metadata": {
    "execution": {
     "iopub.execute_input": "2020-09-21T12:52:32.942088Z",
     "iopub.status.busy": "2020-09-21T12:52:32.941418Z",
     "iopub.status.idle": "2020-09-21T12:52:32.943999Z",
     "shell.execute_reply": "2020-09-21T12:52:32.944613Z"
    },
    "papermill": {
     "duration": 0.032282,
     "end_time": "2020-09-21T12:52:32.944778",
     "exception": false,
     "start_time": "2020-09-21T12:52:32.912496",
     "status": "completed"
    },
    "tags": []
   },
   "outputs": [
    {
     "data": {
      "text/html": [
       "<div>\n",
       "<style scoped>\n",
       "    .dataframe tbody tr th:only-of-type {\n",
       "        vertical-align: middle;\n",
       "    }\n",
       "\n",
       "    .dataframe tbody tr th {\n",
       "        vertical-align: top;\n",
       "    }\n",
       "\n",
       "    .dataframe thead th {\n",
       "        text-align: right;\n",
       "    }\n",
       "</style>\n",
       "<table border=\"1\" class=\"dataframe\">\n",
       "  <thead>\n",
       "    <tr style=\"text-align: right;\">\n",
       "      <th></th>\n",
       "      <th>states</th>\n",
       "      <th>Cases</th>\n",
       "      <th>Deaths</th>\n",
       "      <th>PCases</th>\n",
       "      <th>PDeaths</th>\n",
       "      <th>Cases (+)</th>\n",
       "      <th>Deaths (+)</th>\n",
       "      <th>Fatality Rate</th>\n",
       "    </tr>\n",
       "  </thead>\n",
       "  <tbody>\n",
       "    <tr>\n",
       "      <th>0</th>\n",
       "      <td>Maharashtra</td>\n",
       "      <td>1208642</td>\n",
       "      <td>32671</td>\n",
       "      <td>1208642</td>\n",
       "      <td>32671</td>\n",
       "      <td>0</td>\n",
       "      <td>0</td>\n",
       "      <td>2.70</td>\n",
       "    </tr>\n",
       "    <tr>\n",
       "      <th>1</th>\n",
       "      <td>Andhra Pradesh</td>\n",
       "      <td>631749</td>\n",
       "      <td>5410</td>\n",
       "      <td>625514</td>\n",
       "      <td>5359</td>\n",
       "      <td>6235</td>\n",
       "      <td>51</td>\n",
       "      <td>0.86</td>\n",
       "    </tr>\n",
       "    <tr>\n",
       "      <th>2</th>\n",
       "      <td>Tamil Nadu</td>\n",
       "      <td>541993</td>\n",
       "      <td>8811</td>\n",
       "      <td>541993</td>\n",
       "      <td>8811</td>\n",
       "      <td>0</td>\n",
       "      <td>0</td>\n",
       "      <td>1.63</td>\n",
       "    </tr>\n",
       "    <tr>\n",
       "      <th>3</th>\n",
       "      <td>Karnataka</td>\n",
       "      <td>519537</td>\n",
       "      <td>8023</td>\n",
       "      <td>519537</td>\n",
       "      <td>8023</td>\n",
       "      <td>0</td>\n",
       "      <td>0</td>\n",
       "      <td>1.54</td>\n",
       "    </tr>\n",
       "    <tr>\n",
       "      <th>4</th>\n",
       "      <td>Uttar Pradesh</td>\n",
       "      <td>354275</td>\n",
       "      <td>5047</td>\n",
       "      <td>354275</td>\n",
       "      <td>5047</td>\n",
       "      <td>0</td>\n",
       "      <td>0</td>\n",
       "      <td>1.42</td>\n",
       "    </tr>\n",
       "  </tbody>\n",
       "</table>\n",
       "</div>"
      ],
      "text/plain": [
       "           states    Cases  Deaths   PCases  PDeaths  Cases (+)  Deaths (+)  \\\n",
       "0     Maharashtra  1208642   32671  1208642    32671          0           0   \n",
       "1  Andhra Pradesh   631749    5410   625514     5359       6235          51   \n",
       "2      Tamil Nadu   541993    8811   541993     8811          0           0   \n",
       "3       Karnataka   519537    8023   519537     8023          0           0   \n",
       "4   Uttar Pradesh   354275    5047   354275     5047          0           0   \n",
       "\n",
       "   Fatality Rate  \n",
       "0           2.70  \n",
       "1           0.86  \n",
       "2           1.63  \n",
       "3           1.54  \n",
       "4           1.42  "
      ]
     },
     "execution_count": 13,
     "metadata": {},
     "output_type": "execute_result"
    }
   ],
   "source": [
    "#hide\n",
    "df_table.head()"
   ]
  },
  {
   "cell_type": "code",
   "execution_count": 14,
   "metadata": {
    "execution": {
     "iopub.execute_input": "2020-09-21T12:52:32.986394Z",
     "iopub.status.busy": "2020-09-21T12:52:32.985394Z",
     "iopub.status.idle": "2020-09-21T12:52:33.004225Z",
     "shell.execute_reply": "2020-09-21T12:52:33.003662Z"
    },
    "papermill": {
     "duration": 0.042,
     "end_time": "2020-09-21T12:52:33.004371",
     "exception": false,
     "start_time": "2020-09-21T12:52:32.962371",
     "status": "completed"
    },
    "tags": []
   },
   "outputs": [
    {
     "data": {
      "text/plain": [
       "{'updated': '2020-09-21',\n",
       " 'since': '2020-09-20',\n",
       " 'Cases': 5498959,\n",
       " 'PCases': 5485612,\n",
       " 'Deaths': 87990,\n",
       " 'PDeaths': 87909,\n",
       " 'Cases (+)': 13347,\n",
       " 'Deaths (+)': 81}"
      ]
     },
     "execution_count": 14,
     "metadata": {},
     "output_type": "execute_result"
    }
   ],
   "source": [
    "#hide\n",
    "summary = {'updated':dates[-1], 'since':dates[-2]}\n",
    "list_names = ['Cases', 'PCases', 'Deaths', 'PDeaths', 'Cases (+)', 'Deaths (+)']\n",
    "for name in list_names:\n",
    "    summary[name] = df_table.sum()[name]\n",
    "summary"
   ]
  },
  {
   "cell_type": "code",
   "execution_count": 15,
   "metadata": {
    "execution": {
     "iopub.execute_input": "2020-09-21T12:52:33.049728Z",
     "iopub.status.busy": "2020-09-21T12:52:33.049036Z",
     "iopub.status.idle": "2020-09-21T12:52:33.050665Z",
     "shell.execute_reply": "2020-09-21T12:52:33.051242Z"
    },
    "papermill": {
     "duration": 0.025105,
     "end_time": "2020-09-21T12:52:33.051395",
     "exception": false,
     "start_time": "2020-09-21T12:52:33.026290",
     "status": "completed"
    },
    "tags": []
   },
   "outputs": [],
   "source": [
    "#hide\n",
    "overview = '''\n",
    "<!-- #######  HTML!! #########-->\n",
    "<h1 style=\"color: #5e9ca0; text-align: center;\">India</h1>\n",
    "<p style=\"text-align: center;\">Last update: <strong>{update}</strong></p>\n",
    "<p style=\"text-align: center;\">Confirmed cases:</p>\n",
    "<p style=\"text-align: center;font-size:24px;\">{cases} (<span style=\"color: #ff0000;\">+{new}</span>)</p>\n",
    "<p style=\"text-align: center;\">Confirmed deaths:</p>\n",
    "<p style=\"text-align: center;font-size:24px;\">{deaths} (<span style=\"color: #ff0000;\">+{dnew}</span>)</p>\n",
    "'''"
   ]
  },
  {
   "cell_type": "code",
   "execution_count": 16,
   "metadata": {
    "execution": {
     "iopub.execute_input": "2020-09-21T12:52:33.095303Z",
     "iopub.status.busy": "2020-09-21T12:52:33.094508Z",
     "iopub.status.idle": "2020-09-21T12:52:33.097162Z",
     "shell.execute_reply": "2020-09-21T12:52:33.097780Z"
    },
    "papermill": {
     "duration": 0.027843,
     "end_time": "2020-09-21T12:52:33.097942",
     "exception": false,
     "start_time": "2020-09-21T12:52:33.070099",
     "status": "completed"
    },
    "tags": []
   },
   "outputs": [
    {
     "data": {
      "text/html": [
       "\n",
       "<!-- #######  HTML!! #########-->\n",
       "<h1 style=\"color: #5e9ca0; text-align: center;\">India</h1>\n",
       "<p style=\"text-align: center;\">Last update: <strong>2020-09-21</strong></p>\n",
       "<p style=\"text-align: center;\">Confirmed cases:</p>\n",
       "<p style=\"text-align: center;font-size:24px;\">5498959 (<span style=\"color: #ff0000;\">+13347</span>)</p>\n",
       "<p style=\"text-align: center;\">Confirmed deaths:</p>\n",
       "<p style=\"text-align: center;font-size:24px;\">87990 (<span style=\"color: #ff0000;\">+81</span>)</p>\n"
      ],
      "text/plain": [
       "<IPython.core.display.HTML object>"
      ]
     },
     "metadata": {},
     "output_type": "display_data"
    }
   ],
   "source": [
    "#hide_input\n",
    "update = summary['updated']\n",
    "cases = summary['Cases']\n",
    "new = summary['Cases (+)']\n",
    "deaths = summary['Deaths']\n",
    "dnew = summary['Deaths (+)']\n",
    "\n",
    "html = HTML(overview.format(update=update, cases=cases,new=new,deaths=deaths,dnew=dnew))\n",
    "\n",
    "display(html)"
   ]
  },
  {
   "cell_type": "code",
   "execution_count": 17,
   "metadata": {
    "execution": {
     "iopub.execute_input": "2020-09-21T12:52:33.143705Z",
     "iopub.status.busy": "2020-09-21T12:52:33.143061Z",
     "iopub.status.idle": "2020-09-21T12:52:33.148563Z",
     "shell.execute_reply": "2020-09-21T12:52:33.148072Z"
    },
    "papermill": {
     "duration": 0.032052,
     "end_time": "2020-09-21T12:52:33.148695",
     "exception": false,
     "start_time": "2020-09-21T12:52:33.116643",
     "status": "completed"
    },
    "tags": []
   },
   "outputs": [],
   "source": [
    "#hide\n",
    "dt_cols = list(dft_cases.columns[1:])\n",
    "dft_ct_new_cases = dft_cases.groupby('state')[dt_cols].sum().diff(axis=1).fillna(0).astype(int)\n",
    "dft_ct_new_cases.sort_values(by = dates[-1], ascending = False,inplace = True)"
   ]
  },
  {
   "cell_type": "code",
   "execution_count": 18,
   "metadata": {
    "execution": {
     "iopub.execute_input": "2020-09-21T12:52:33.210900Z",
     "iopub.status.busy": "2020-09-21T12:52:33.210199Z",
     "iopub.status.idle": "2020-09-21T12:52:33.213694Z",
     "shell.execute_reply": "2020-09-21T12:52:33.213139Z"
    },
    "papermill": {
     "duration": 0.043241,
     "end_time": "2020-09-21T12:52:33.213839",
     "exception": false,
     "start_time": "2020-09-21T12:52:33.170598",
     "status": "completed"
    },
    "tags": []
   },
   "outputs": [
    {
     "data": {
      "text/html": [
       "<div>\n",
       "<style scoped>\n",
       "    .dataframe tbody tr th:only-of-type {\n",
       "        vertical-align: middle;\n",
       "    }\n",
       "\n",
       "    .dataframe tbody tr th {\n",
       "        vertical-align: top;\n",
       "    }\n",
       "\n",
       "    .dataframe thead th {\n",
       "        text-align: right;\n",
       "    }\n",
       "</style>\n",
       "<table border=\"1\" class=\"dataframe\">\n",
       "  <thead>\n",
       "    <tr style=\"text-align: right;\">\n",
       "      <th>states</th>\n",
       "      <th>2020-07-01</th>\n",
       "      <th>2020-07-02</th>\n",
       "      <th>2020-07-03</th>\n",
       "      <th>2020-07-04</th>\n",
       "      <th>2020-07-05</th>\n",
       "      <th>2020-07-06</th>\n",
       "      <th>2020-07-07</th>\n",
       "      <th>2020-07-08</th>\n",
       "      <th>2020-07-09</th>\n",
       "      <th>2020-07-10</th>\n",
       "      <th>...</th>\n",
       "      <th>2020-09-12</th>\n",
       "      <th>2020-09-13</th>\n",
       "      <th>2020-09-14</th>\n",
       "      <th>2020-09-15</th>\n",
       "      <th>2020-09-16</th>\n",
       "      <th>2020-09-17</th>\n",
       "      <th>2020-09-18</th>\n",
       "      <th>2020-09-19</th>\n",
       "      <th>2020-09-20</th>\n",
       "      <th>2020-09-21</th>\n",
       "    </tr>\n",
       "    <tr>\n",
       "      <th>state</th>\n",
       "      <th></th>\n",
       "      <th></th>\n",
       "      <th></th>\n",
       "      <th></th>\n",
       "      <th></th>\n",
       "      <th></th>\n",
       "      <th></th>\n",
       "      <th></th>\n",
       "      <th></th>\n",
       "      <th></th>\n",
       "      <th></th>\n",
       "      <th></th>\n",
       "      <th></th>\n",
       "      <th></th>\n",
       "      <th></th>\n",
       "      <th></th>\n",
       "      <th></th>\n",
       "      <th></th>\n",
       "      <th></th>\n",
       "      <th></th>\n",
       "      <th></th>\n",
       "    </tr>\n",
       "  </thead>\n",
       "  <tbody>\n",
       "    <tr>\n",
       "      <th>Andhra Pradesh</th>\n",
       "      <td>0</td>\n",
       "      <td>845</td>\n",
       "      <td>837</td>\n",
       "      <td>765</td>\n",
       "      <td>998</td>\n",
       "      <td>1322</td>\n",
       "      <td>1178</td>\n",
       "      <td>1062</td>\n",
       "      <td>1555</td>\n",
       "      <td>1608</td>\n",
       "      <td>...</td>\n",
       "      <td>9901</td>\n",
       "      <td>9536</td>\n",
       "      <td>7956</td>\n",
       "      <td>8846</td>\n",
       "      <td>8835</td>\n",
       "      <td>8702</td>\n",
       "      <td>8096</td>\n",
       "      <td>8218</td>\n",
       "      <td>7738</td>\n",
       "      <td>6235</td>\n",
       "    </tr>\n",
       "    <tr>\n",
       "      <th>Odisha</th>\n",
       "      <td>0</td>\n",
       "      <td>229</td>\n",
       "      <td>561</td>\n",
       "      <td>495</td>\n",
       "      <td>469</td>\n",
       "      <td>456</td>\n",
       "      <td>571</td>\n",
       "      <td>527</td>\n",
       "      <td>577</td>\n",
       "      <td>755</td>\n",
       "      <td>...</td>\n",
       "      <td>3777</td>\n",
       "      <td>3913</td>\n",
       "      <td>4198</td>\n",
       "      <td>3645</td>\n",
       "      <td>4270</td>\n",
       "      <td>4241</td>\n",
       "      <td>4180</td>\n",
       "      <td>4209</td>\n",
       "      <td>4330</td>\n",
       "      <td>4242</td>\n",
       "    </tr>\n",
       "    <tr>\n",
       "      <th>Bihar</th>\n",
       "      <td>0</td>\n",
       "      <td>478</td>\n",
       "      <td>426</td>\n",
       "      <td>349</td>\n",
       "      <td>403</td>\n",
       "      <td>280</td>\n",
       "      <td>385</td>\n",
       "      <td>749</td>\n",
       "      <td>704</td>\n",
       "      <td>352</td>\n",
       "      <td>...</td>\n",
       "      <td>1421</td>\n",
       "      <td>1523</td>\n",
       "      <td>1137</td>\n",
       "      <td>1575</td>\n",
       "      <td>1531</td>\n",
       "      <td>1592</td>\n",
       "      <td>1147</td>\n",
       "      <td>1616</td>\n",
       "      <td>1555</td>\n",
       "      <td>1314</td>\n",
       "    </tr>\n",
       "    <tr>\n",
       "      <th>Telangana</th>\n",
       "      <td>0</td>\n",
       "      <td>1213</td>\n",
       "      <td>1892</td>\n",
       "      <td>1850</td>\n",
       "      <td>1590</td>\n",
       "      <td>1831</td>\n",
       "      <td>1879</td>\n",
       "      <td>1924</td>\n",
       "      <td>1410</td>\n",
       "      <td>1278</td>\n",
       "      <td>...</td>\n",
       "      <td>2278</td>\n",
       "      <td>2216</td>\n",
       "      <td>1417</td>\n",
       "      <td>2058</td>\n",
       "      <td>2273</td>\n",
       "      <td>2159</td>\n",
       "      <td>2043</td>\n",
       "      <td>2123</td>\n",
       "      <td>2137</td>\n",
       "      <td>1302</td>\n",
       "    </tr>\n",
       "    <tr>\n",
       "      <th>Tripura</th>\n",
       "      <td>0</td>\n",
       "      <td>39</td>\n",
       "      <td>93</td>\n",
       "      <td>25</td>\n",
       "      <td>23</td>\n",
       "      <td>111</td>\n",
       "      <td>24</td>\n",
       "      <td>57</td>\n",
       "      <td>16</td>\n",
       "      <td>142</td>\n",
       "      <td>...</td>\n",
       "      <td>470</td>\n",
       "      <td>629</td>\n",
       "      <td>255</td>\n",
       "      <td>531</td>\n",
       "      <td>454</td>\n",
       "      <td>527</td>\n",
       "      <td>273</td>\n",
       "      <td>535</td>\n",
       "      <td>525</td>\n",
       "      <td>243</td>\n",
       "    </tr>\n",
       "  </tbody>\n",
       "</table>\n",
       "<p>5 rows × 83 columns</p>\n",
       "</div>"
      ],
      "text/plain": [
       "states          2020-07-01  2020-07-02  2020-07-03  2020-07-04  2020-07-05  \\\n",
       "state                                                                        \n",
       "Andhra Pradesh           0         845         837         765         998   \n",
       "Odisha                   0         229         561         495         469   \n",
       "Bihar                    0         478         426         349         403   \n",
       "Telangana                0        1213        1892        1850        1590   \n",
       "Tripura                  0          39          93          25          23   \n",
       "\n",
       "states          2020-07-06  2020-07-07  2020-07-08  2020-07-09  2020-07-10  \\\n",
       "state                                                                        \n",
       "Andhra Pradesh        1322        1178        1062        1555        1608   \n",
       "Odisha                 456         571         527         577         755   \n",
       "Bihar                  280         385         749         704         352   \n",
       "Telangana             1831        1879        1924        1410        1278   \n",
       "Tripura                111          24          57          16         142   \n",
       "\n",
       "states          ...  2020-09-12  2020-09-13  2020-09-14  2020-09-15  \\\n",
       "state           ...                                                   \n",
       "Andhra Pradesh  ...        9901        9536        7956        8846   \n",
       "Odisha          ...        3777        3913        4198        3645   \n",
       "Bihar           ...        1421        1523        1137        1575   \n",
       "Telangana       ...        2278        2216        1417        2058   \n",
       "Tripura         ...         470         629         255         531   \n",
       "\n",
       "states          2020-09-16  2020-09-17  2020-09-18  2020-09-19  2020-09-20  \\\n",
       "state                                                                        \n",
       "Andhra Pradesh        8835        8702        8096        8218        7738   \n",
       "Odisha                4270        4241        4180        4209        4330   \n",
       "Bihar                 1531        1592        1147        1616        1555   \n",
       "Telangana             2273        2159        2043        2123        2137   \n",
       "Tripura                454         527         273         535         525   \n",
       "\n",
       "states          2020-09-21  \n",
       "state                       \n",
       "Andhra Pradesh        6235  \n",
       "Odisha                4242  \n",
       "Bihar                 1314  \n",
       "Telangana             1302  \n",
       "Tripura                243  \n",
       "\n",
       "[5 rows x 83 columns]"
      ]
     },
     "execution_count": 18,
     "metadata": {},
     "output_type": "execute_result"
    }
   ],
   "source": [
    "#hide\n",
    "dft_ct_new_cases.head()"
   ]
  },
  {
   "cell_type": "code",
   "execution_count": 19,
   "metadata": {
    "execution": {
     "iopub.execute_input": "2020-09-21T12:52:33.307511Z",
     "iopub.status.busy": "2020-09-21T12:52:33.271650Z",
     "iopub.status.idle": "2020-09-21T12:52:37.327500Z",
     "shell.execute_reply": "2020-09-21T12:52:37.328121Z"
    },
    "papermill": {
     "duration": 4.094531,
     "end_time": "2020-09-21T12:52:37.328307",
     "exception": false,
     "start_time": "2020-09-21T12:52:33.233776",
     "status": "completed"
    },
    "tags": []
   },
   "outputs": [
    {
     "data": {
      "image/png": "[encoded data removed]",
      "text/plain": [
       "<Figure size 1296x2016 with 11 Axes>"
      ]
     },
     "metadata": {
      "needs_background": "light"
     },
     "output_type": "display_data"
    }
   ],
   "source": [
    "#hide_input\n",
    "df = dft_ct_new_cases.copy()\n",
    "df.loc['Total'] = df.sum()\n",
    "n = 5\n",
    "ax = []\n",
    "fig = plt.figure(figsize = (18,28))\n",
    "gs = fig.add_gridspec(n+2, 5)\n",
    "# gs = fig.add_gridspec(2, 3)\n",
    "ax1 = fig.add_subplot(gs[0, :])\n",
    "ef = df.loc['Total'].rename_axis('date').reset_index()\n",
    "ef['date'] = ef['date'].astype('datetime64[ns]')\n",
    "ax1.bar(ef.date,ef.Total,alpha=0.3,color='#007acc')\n",
    "ax1.plot(ef.date,ef.Total , marker=\"o\", color='#007acc')\n",
    "ax1.xaxis.set_major_locator(mdates.WeekdayLocator())\n",
    "ax1.xaxis.set_major_formatter(mdates.DateFormatter('%b %d'))\n",
    "ax1.text(0.02, 0.5,'India daily case count', transform = ax1.transAxes, fontsize=25);\n",
    "ax1.spines['right'].set_visible(False)\n",
    "ax1.spines['top'].set_visible(False)\n",
    "\n",
    "ax2 = fig.add_subplot(gs[1,0])\n",
    "ef = df.loc['Maharashtra'].rename_axis('date').reset_index()\n",
    "ef['date'] = ef['date'].astype('datetime64[ns]')\n",
    "\n",
    "ax2.bar(ef.date, ef.Maharashtra,color = '#007acc',alpha=0.5)\n",
    "ax2.xaxis.set_major_locator(mdates.WeekdayLocator())\n",
    "ax2.xaxis.set_major_formatter(mdates.DateFormatter('%b %d'))\n",
    "ax2.set_xticks(ax2.get_xticks()[::3])\n",
    "maxyval = ef.Maharashtra.max()\n",
    "ax2.set_ylim([0,maxyval])\n",
    "ax2.text(0.05, 0.9,'Maharashtra', transform = ax2.transAxes, fontsize=20);\n",
    "ax2.spines['right'].set_visible(False)\n",
    "ax2.spines['top'].set_visible(False)\n",
    "\n",
    "\n",
    "ax3 = fig.add_subplot(gs[1,1])\n",
    "ef = df.loc['Tamil Nadu'].rename_axis('date').reset_index()\n",
    "ef['date'] = ef['date'].astype('datetime64[ns]')\n",
    "ax3.bar(ef.date, ef['Tamil Nadu'],color = '#007acc',alpha=0.5,)\n",
    "ax3.xaxis.set_major_locator(mdates.WeekdayLocator())\n",
    "ax3.xaxis.set_major_formatter(mdates.DateFormatter('%b %d'))\n",
    "ax3.set_xticks(ax3.get_xticks()[::3])\n",
    "ax3.text(0.05, 0.9,'Tamil Nadu', transform = ax3.transAxes, fontsize=20);\n",
    "ax3.spines['right'].set_visible(False)\n",
    "ax3.spines['top'].set_visible(False)\n",
    "\n",
    "ax5 = fig.add_subplot(gs[1,3])\n",
    "ef = df.loc['Telangana'].rename_axis('date').reset_index()\n",
    "ef['date'] = ef['date'].astype('datetime64[ns]')\n",
    "ax5.bar(ef.date, ef['Telangana'],color = '#007acc',alpha=0.5,)\n",
    "ax5.xaxis.set_major_locator(mdates.WeekdayLocator())\n",
    "ax5.xaxis.set_major_formatter(mdates.DateFormatter('%b %d'))\n",
    "ax5.set_xticks(ax5.get_xticks()[::3])\n",
    "ax5.text(0.05, 0.9,'Telangana', transform = ax5.transAxes, fontsize=20);\n",
    "ax5.spines['right'].set_visible(False)\n",
    "ax5.spines['top'].set_visible(False)\n",
    "\n",
    "ax6 = fig.add_subplot(gs[1,4])\n",
    "ef = df.loc['Andhra Pradesh'].rename_axis('date').reset_index()\n",
    "ef['date'] = ef['date'].astype('datetime64[ns]')\n",
    "ax6.bar(ef.date, ef['Andhra Pradesh'],color = '#007acc',alpha=0.5,)\n",
    "ax6.xaxis.set_major_locator(mdates.WeekdayLocator())\n",
    "ax6.xaxis.set_major_formatter(mdates.DateFormatter('%b %d'))\n",
    "ax6.set_xticks(ax6.get_xticks()[::3])\n",
    "ax6.text(0.05, 1,'Andhra Pradesh', transform = ax6.transAxes, fontsize=20);\n",
    "ax6.spines['right'].set_visible(False)\n",
    "ax6.spines['top'].set_visible(False)\n",
    "\n",
    "ax4 = fig.add_subplot(gs[1,2])\n",
    "ef = df.loc['Delhi'].rename_axis('date').reset_index()\n",
    "ef['date'] = ef['date'].astype('datetime64[ns]')\n",
    "ax4.bar(ef.date, ef.Delhi,color = '#007acc',alpha=0.5)\n",
    "ax4.set_xticks([])\n",
    "ax4.xaxis.set_major_locator(mdates.WeekdayLocator())\n",
    "ax4.xaxis.set_major_formatter(mdates.DateFormatter('%b %d'))\n",
    "ax4.set_xticks(ax4.get_xticks()[::3])\n",
    "ax4.spines['right'].set_visible(False)\n",
    "ax4.spines['top'].set_visible(False)\n",
    "\n",
    "ax4.text(0.05, 1,'Delhi', transform = ax4.transAxes, fontsize=20)\n",
    "\n",
    "for i in range(n):\n",
    "    \n",
    "    ax.append(fig.add_subplot(gs[i+2,:]))\n",
    "    ef = df.iloc[i+3].rename_axis('date').reset_index()\n",
    "    ef['date'] = ef['date'].astype('datetime64[ns]')\n",
    "    ax[i].bar(ef.date,ef.iloc[:,-1],color = '#007acc',alpha=0.3)\n",
    "    ax[i].plot(ef.date,ef.iloc[:,-1],marker='o',color='#007acc')\n",
    "    ax[i].text(0.02,0.5,f'{ef.columns.values[-1]}',transform = ax[i].transAxes, fontsize = 20);\n",
    "    ax[i].xaxis.set_major_locator(mdates.WeekdayLocator())\n",
    "    ax[i].xaxis.set_major_formatter(mdates.DateFormatter('%b %d'))\n",
    "    ax[i].set_ylim([0,7000])\n",
    "    ax[i].spines['right'].set_visible(False)\n",
    "    ax[i].spines['top'].set_visible(False)\n",
    "plt.tight_layout()\n"
   ]
  },
  {
   "cell_type": "code",
   "execution_count": 20,
   "metadata": {
    "execution": {
     "iopub.execute_input": "2020-09-21T12:52:37.389595Z",
     "iopub.status.busy": "2020-09-21T12:52:37.388941Z",
     "iopub.status.idle": "2020-09-21T12:52:37.391390Z",
     "shell.execute_reply": "2020-09-21T12:52:37.391912Z"
    },
    "papermill": {
     "duration": 0.036108,
     "end_time": "2020-09-21T12:52:37.392227",
     "exception": false,
     "start_time": "2020-09-21T12:52:37.356119",
     "status": "completed"
    },
    "tags": []
   },
   "outputs": [
    {
     "name": "stdout",
     "output_type": "stream",
     "text": [
      "                                   states    Cases  Deaths   PCases  PDeaths  Cases (+)  Deaths (+)  Fatality Rate\n",
      "                              Maharashtra  1208642   32671  1208642    32671          0           0           2.70\n",
      "                           Andhra Pradesh   631749    5410   625514     5359       6235          51           0.86\n",
      "                               Tamil Nadu   541993    8811   541993     8811          0           0           1.63\n",
      "                                Karnataka   519537    8023   519537     8023          0           0           1.54\n",
      "                            Uttar Pradesh   354275    5047   354275     5047          0           0           1.42\n",
      "                                    Delhi   246711    4982   246711     4982          0           0           2.02\n",
      "                              West Bengal   225137    4359   225137     4359          0           0           1.94\n",
      "                                   Odisha   184122     763   179880      754       4242           9           0.41\n",
      "                                Telangana   172608    1042   171306     1033       1302           9           0.60\n",
      "                                    Bihar   169856     870   168542      864       1314           6           0.51\n",
      "                                    Assam   156680     562   156680      562          0           0           0.36\n",
      "                                   Kerala   135723     536   135723      536          0           0           0.39\n",
      "                                  Gujarat   123337    3320   123337     3320          0           0           2.69\n",
      "                                Rajasthan   114989    1336   114989     1336          0           0           1.16\n",
      "                                  Haryana   111257    1149   111257     1149          0           0           1.03\n",
      "                           Madhya Pradesh   105644    1970   105644     1970          0           0           1.86\n",
      "                                   Punjab    97689    2813    97689     2813          0           0           2.88\n",
      "                             Chhattisgarh    86183     677    86183      677          0           0           0.79\n",
      "                                Jharkhand    71352     617    71352      617          0           0           0.86\n",
      "                        Jammu and Kashmir    63990    1001    63990     1001          0           0           1.56\n",
      "                              Uttarakhand    40963     491    40963      491          0           0           1.20\n",
      "                                      Goa    28429     351    28429      351          0           0           1.23\n",
      "                               Puducherry    22923     458    22923      458          0           0           2.00\n",
      "                                  Tripura    22272     245    22029      239        243           6           1.10\n",
      "                         Himachal Pradesh    12129     118    12129      118          0           0           0.97\n",
      "                               Chandigarh    10082     120    10082      120          0           0           1.19\n",
      "                                  Manipur     8894      57     8894       57          0           0           0.64\n",
      "                        Arunachal Pradesh     7385      13     7385       13          0           0           0.18\n",
      "                                 Nagaland     5451      10     5451       10          0           0           0.18\n",
      "                                Meghalaya     4660      36     4660       36          0           0           0.77\n",
      "                                   Ladakh     3753      49     3753       49          0           0           1.31\n",
      "              Andaman and Nicobar Islands     3651      52     3651       52          0           0           1.42\n",
      " Dadra and Nagar Haveli and Daman and Diu     2917       2     2913        2          4           0           0.07\n",
      "                                   Sikkim     2391      29     2391       29          0           0           1.21\n",
      "                                  Mizoram     1585       0     1578        0          7           0           0.00\n",
      "                              Lakshadweep        0       0        0        0          0           0            NaN\n"
     ]
    }
   ],
   "source": [
    "#hide_input\n",
    "print(df_table.to_string(index=False))"
   ]
  },
  {
   "cell_type": "code",
   "execution_count": null,
   "metadata": {
    "papermill": {
     "duration": 0.023494,
     "end_time": "2020-09-21T12:52:37.438681",
     "exception": false,
     "start_time": "2020-09-21T12:52:37.415187",
     "status": "completed"
    },
    "tags": []
   },
   "outputs": [],
   "source": []
  },
  {
   "cell_type": "code",
   "execution_count": null,
   "metadata": {
    "papermill": {
     "duration": 0.023346,
     "end_time": "2020-09-21T12:52:37.485661",
     "exception": false,
     "start_time": "2020-09-21T12:52:37.462315",
     "status": "completed"
    },
    "tags": []
   },
   "outputs": [],
   "source": []
  }
 ],
 "metadata": {
  "kernelspec": {
   "display_name": "Python 3",
   "language": "python",
   "name": "python3"
  },
  "language_info": {
   "codemirror_mode": {
    "name": "ipython",
    "version": 3
   },
   "file_extension": ".py",
   "mimetype": "text/x-python",
   "name": "python",
   "nbconvert_exporter": "python",
   "pygments_lexer": "ipython3",
   "version": "3.6.12"
  },
  "papermill": {
   "duration": 10.856252,
   "end_time": "2020-09-21T12:52:37.916905",
   "environment_variables": {},
   "exception": null,
   "input_path": "latest.ipynb",
   "output_path": "latest.ipynb",
   "parameters": {},
   "start_time": "2020-09-21T12:52:27.060653",
   "version": "2.1.2"
  }
 },
 "nbformat": 4,
 "nbformat_minor": 4
}