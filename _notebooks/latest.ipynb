{
 "cells": [
  {
   "cell_type": "markdown",
   "id": "colored-stack",
   "metadata": {
    "papermill": {
     "duration": 0.022848,
     "end_time": "2021-01-30T16:47:14.272239",
     "exception": false,
     "start_time": "2021-01-30T16:47:14.249391",
     "status": "completed"
    },
    "tags": []
   },
   "source": [
    "# Latest COVID-19 India Matplotlib Overview"
   ]
  },
  {
   "cell_type": "code",
   "execution_count": 1,
   "id": "light-proportion",
   "metadata": {
    "execution": {
     "iopub.execute_input": "2021-01-30T16:47:14.322651Z",
     "iopub.status.busy": "2021-01-30T16:47:14.322057Z",
     "iopub.status.idle": "2021-01-30T16:47:14.946824Z",
     "shell.execute_reply": "2021-01-30T16:47:14.945934Z"
    },
    "papermill": {
     "duration": 0.656962,
     "end_time": "2021-01-30T16:47:14.947067",
     "exception": false,
     "start_time": "2021-01-30T16:47:14.290105",
     "status": "completed"
    },
    "tags": []
   },
   "outputs": [],
   "source": [
    "#hide\n",
    "import pandas as pd\n",
    "import numpy as np\n",
    "import requests\n",
    "import json\n",
    "import matplotlib.pyplot as plt\n",
    "import matplotlib.dates as mdates\n",
    "import matplotlib as mpl\n",
    "from IPython.core.display import display,HTML\n",
    "%matplotlib inline\n",
    "from datetime import date"
   ]
  },
  {
   "cell_type": "code",
   "execution_count": 2,
   "id": "greenhouse-shooting",
   "metadata": {
    "execution": {
     "iopub.execute_input": "2021-01-30T16:47:14.991295Z",
     "iopub.status.busy": "2021-01-30T16:47:14.990642Z",
     "iopub.status.idle": "2021-01-30T16:47:15.188879Z",
     "shell.execute_reply": "2021-01-30T16:47:15.188001Z"
    },
    "papermill": {
     "duration": 0.224779,
     "end_time": "2021-01-30T16:47:15.189103",
     "exception": false,
     "start_time": "2021-01-30T16:47:14.964324",
     "status": "completed"
    },
    "tags": []
   },
   "outputs": [],
   "source": [
    "#hide\n",
    "df  = pd.read_csv('https://api.covid19india.org/csv/latest/states.csv')\n",
    "df = df[['Date','State','Confirmed','Deceased']]\n",
    "df = df.rename(columns={'Confirmed':'Cases', \"Deceased\":'Deaths'})\n",
    "df_cases = df[[\"Date\",'State','Cases']]\n",
    "df_deaths = df[['Date','State','Deaths']]\n",
    "df_cases1 = df_cases.groupby('Date')\n",
    "df_deaths1= df_deaths.groupby('Date')"
   ]
  },
  {
   "cell_type": "code",
   "execution_count": 3,
   "id": "hybrid-cathedral",
   "metadata": {
    "execution": {
     "iopub.execute_input": "2021-01-30T16:47:15.233605Z",
     "iopub.status.busy": "2021-01-30T16:47:15.232996Z",
     "iopub.status.idle": "2021-01-30T16:47:15.251425Z",
     "shell.execute_reply": "2021-01-30T16:47:15.250902Z"
    },
    "papermill": {
     "duration": 0.044689,
     "end_time": "2021-01-30T16:47:15.251564",
     "exception": false,
     "start_time": "2021-01-30T16:47:15.206875",
     "status": "completed"
    },
    "tags": []
   },
   "outputs": [],
   "source": [
    "#hide\n",
    "df_snap = pd.read_csv('data/SnapshotCases-28-July.csv')\n",
    "arr_states = df_snap['states'].unique()\n",
    "arr_dates = df['Date'].unique()\n",
    "df_snap = df_snap.set_index('states')"
   ]
  },
  {
   "cell_type": "code",
   "execution_count": 4,
   "id": "interior-belfast",
   "metadata": {
    "execution": {
     "iopub.execute_input": "2021-01-30T16:47:15.293818Z",
     "iopub.status.busy": "2021-01-30T16:47:15.293189Z",
     "iopub.status.idle": "2021-01-30T16:47:15.296027Z",
     "shell.execute_reply": "2021-01-30T16:47:15.296499Z"
    },
    "papermill": {
     "duration": 0.028432,
     "end_time": "2021-01-30T16:47:15.296652",
     "exception": false,
     "start_time": "2021-01-30T16:47:15.268220",
     "status": "completed"
    },
    "tags": []
   },
   "outputs": [
    {
     "data": {
      "text/plain": [
       "array(['Andaman and Nicobar Islands', 'Andhra Pradesh',\n",
       "       'Arunachal Pradesh', 'Assam', 'Bihar', 'Chandigarh',\n",
       "       'Dadra and Nagar Haveli and Daman and Diu', 'Delhi', 'Goa',\n",
       "       'Gujarat', 'Haryana', 'Himachal Pradesh', 'Jammu and Kashmir',\n",
       "       'Jharkhand', 'Karnataka', 'Kerala', 'Lakshadweep',\n",
       "       'Madhya Pradesh', 'Maharashtra', 'Manipur', 'Meghalaya', 'Mizoram',\n",
       "       'Nagaland', 'Odisha', 'Puducherry', 'Punjab', 'Rajasthan',\n",
       "       'Sikkim', 'Tamil Nadu', 'Telangana', 'Tripura', 'Uttar Pradesh',\n",
       "       'West Bengal', 'Chhattisgarh', 'Ladakh', 'Uttarakhand'],\n",
       "      dtype=object)"
      ]
     },
     "execution_count": 4,
     "metadata": {},
     "output_type": "execute_result"
    }
   ],
   "source": [
    "#hide\n",
    "arr_states[-9] = 'Puducherry'\n",
    "arr_states[-10] = 'Odisha'\n",
    "arr_states[6] = 'Dadra and Nagar Haveli and Daman and Diu'\n",
    "arr_states = np.append(arr_states,np.array(['Chhattisgarh','Ladakh','Uttarakhand']))\n",
    "arr_states"
   ]
  },
  {
   "cell_type": "code",
   "execution_count": 5,
   "id": "behind-manner",
   "metadata": {
    "execution": {
     "iopub.execute_input": "2021-01-30T16:47:15.342849Z",
     "iopub.status.busy": "2021-01-30T16:47:15.342253Z",
     "iopub.status.idle": "2021-01-30T16:47:15.351294Z",
     "shell.execute_reply": "2021-01-30T16:47:15.350793Z"
    },
    "papermill": {
     "duration": 0.037537,
     "end_time": "2021-01-30T16:47:15.351427",
     "exception": false,
     "start_time": "2021-01-30T16:47:15.313890",
     "status": "completed"
    },
    "tags": []
   },
   "outputs": [],
   "source": [
    "#hide\n",
    "dates = []\n",
    "for i in arr_dates:\n",
    "    if i>='2020-07-01':\n",
    "        dates.append(i)\n",
    "dict = {'states':dates}\n",
    "for i in arr_states:\n",
    "    dict[i] = [0]*len(dates)\n",
    "dft_cases = pd.DataFrame(dict)\n",
    "dft_deaths = pd.DataFrame(dict)\n"
   ]
  },
  {
   "cell_type": "code",
   "execution_count": 6,
   "id": "simplified-peter",
   "metadata": {
    "execution": {
     "iopub.execute_input": "2021-01-30T16:47:15.397369Z",
     "iopub.status.busy": "2021-01-30T16:47:15.396550Z",
     "iopub.status.idle": "2021-01-30T16:47:18.493550Z",
     "shell.execute_reply": "2021-01-30T16:47:18.492599Z"
    },
    "papermill": {
     "duration": 3.123459,
     "end_time": "2021-01-30T16:47:18.493692",
     "exception": false,
     "start_time": "2021-01-30T16:47:15.370233",
     "status": "completed"
    },
    "tags": []
   },
   "outputs": [],
   "source": [
    "#hide\n",
    "for i in range(len(dates)):\n",
    "    df1_deaths = df_deaths1.get_group(dates[i])\n",
    "    for j in range(len(df1_deaths.index)):\n",
    "        if df1_deaths.iloc[j,1] in arr_states:\n",
    "            dft_deaths.loc[i,df1_deaths.iloc[j,1]] = df1_deaths.iloc[j,2]\n",
    "dft_deaths = dft_deaths.set_index('states')"
   ]
  },
  {
   "cell_type": "code",
   "execution_count": 7,
   "id": "geological-welding",
   "metadata": {
    "execution": {
     "iopub.execute_input": "2021-01-30T16:47:18.535313Z",
     "iopub.status.busy": "2021-01-30T16:47:18.534301Z",
     "iopub.status.idle": "2021-01-30T16:47:21.628994Z",
     "shell.execute_reply": "2021-01-30T16:47:21.628114Z"
    },
    "papermill": {
     "duration": 3.117822,
     "end_time": "2021-01-30T16:47:21.629220",
     "exception": false,
     "start_time": "2021-01-30T16:47:18.511398",
     "status": "completed"
    },
    "tags": []
   },
   "outputs": [],
   "source": [
    "#hide\n",
    "for i in range(len(dates)):\n",
    "    df1_cases = df_cases1.get_group(dates[i])\n",
    "    for j in range(len(df1_cases.index)):\n",
    "        if df1_cases.iloc[j,1] in arr_states:\n",
    "            dft_cases.loc[i,df1_cases.iloc[j,1]] = df1_cases.iloc[j,2]\n",
    "dft_cases = dft_cases.set_index('states')"
   ]
  },
  {
   "cell_type": "code",
   "execution_count": 8,
   "id": "binary-ratio",
   "metadata": {
    "execution": {
     "iopub.execute_input": "2021-01-30T16:47:21.670048Z",
     "iopub.status.busy": "2021-01-30T16:47:21.668860Z",
     "iopub.status.idle": "2021-01-30T16:47:21.670698Z",
     "shell.execute_reply": "2021-01-30T16:47:21.671163Z"
    },
    "papermill": {
     "duration": 0.025121,
     "end_time": "2021-01-30T16:47:21.671329",
     "exception": false,
     "start_time": "2021-01-30T16:47:21.646208",
     "status": "completed"
    },
    "tags": []
   },
   "outputs": [],
   "source": [
    "#hide\n",
    "dft_cases = dft_cases.T\n",
    "dft_deaths = dft_deaths.T\n",
    "dt_today = dates[-1]\n",
    "dt_yday = dates[-2]"
   ]
  },
  {
   "cell_type": "code",
   "execution_count": 9,
   "id": "boolean-calculator",
   "metadata": {
    "execution": {
     "iopub.execute_input": "2021-01-30T16:47:21.712500Z",
     "iopub.status.busy": "2021-01-30T16:47:21.711917Z",
     "iopub.status.idle": "2021-01-30T16:47:21.715379Z",
     "shell.execute_reply": "2021-01-30T16:47:21.715861Z"
    },
    "papermill": {
     "duration": 0.028411,
     "end_time": "2021-01-30T16:47:21.716002",
     "exception": false,
     "start_time": "2021-01-30T16:47:21.687591",
     "status": "completed"
    },
    "tags": []
   },
   "outputs": [],
   "source": [
    "#hide\n",
    "dft_cases = dft_cases.reset_index()\n",
    "dft_deaths = dft_deaths.reset_index()\n",
    "dft_cases = dft_cases.rename(columns = {'index':'state'})\n",
    "dft_deaths = dft_deaths.rename(columns = {'index':'state'})"
   ]
  },
  {
   "cell_type": "code",
   "execution_count": 10,
   "id": "invisible-johnston",
   "metadata": {
    "execution": {
     "iopub.execute_input": "2021-01-30T16:47:21.760717Z",
     "iopub.status.busy": "2021-01-30T16:47:21.760146Z",
     "iopub.status.idle": "2021-01-30T16:47:21.762627Z",
     "shell.execute_reply": "2021-01-30T16:47:21.762053Z"
    },
    "papermill": {
     "duration": 0.030316,
     "end_time": "2021-01-30T16:47:21.762740",
     "exception": false,
     "start_time": "2021-01-30T16:47:21.732424",
     "status": "completed"
    },
    "tags": []
   },
   "outputs": [],
   "source": [
    "#hide\n",
    "dfc_cases = dft_cases.groupby('state')[dt_today].sum()\n",
    "dfc_deaths = dft_deaths.groupby('state')[dt_today].sum()\n",
    "dfp_cases = dft_cases.groupby('state')[dt_yday].sum()\n",
    "dfp_deaths = dft_deaths.groupby('state')[dt_yday].sum()"
   ]
  },
  {
   "cell_type": "code",
   "execution_count": 11,
   "id": "measured-great",
   "metadata": {
    "execution": {
     "iopub.execute_input": "2021-01-30T16:47:21.812427Z",
     "iopub.status.busy": "2021-01-30T16:47:21.803784Z",
     "iopub.status.idle": "2021-01-30T16:47:21.819305Z",
     "shell.execute_reply": "2021-01-30T16:47:21.818810Z"
    },
    "papermill": {
     "duration": 0.040184,
     "end_time": "2021-01-30T16:47:21.819434",
     "exception": false,
     "start_time": "2021-01-30T16:47:21.779250",
     "status": "completed"
    },
    "tags": []
   },
   "outputs": [
    {
     "data": {
      "text/html": [
       "<div>\n",
       "<style scoped>\n",
       "    .dataframe tbody tr th:only-of-type {\n",
       "        vertical-align: middle;\n",
       "    }\n",
       "\n",
       "    .dataframe tbody tr th {\n",
       "        vertical-align: top;\n",
       "    }\n",
       "\n",
       "    .dataframe thead th {\n",
       "        text-align: right;\n",
       "    }\n",
       "</style>\n",
       "<table border=\"1\" class=\"dataframe\">\n",
       "  <thead>\n",
       "    <tr style=\"text-align: right;\">\n",
       "      <th></th>\n",
       "      <th>states</th>\n",
       "      <th>Cases</th>\n",
       "      <th>Deaths</th>\n",
       "      <th>PCases</th>\n",
       "      <th>PDeaths</th>\n",
       "    </tr>\n",
       "  </thead>\n",
       "  <tbody>\n",
       "    <tr>\n",
       "      <th>0</th>\n",
       "      <td>Maharashtra</td>\n",
       "      <td>2021184</td>\n",
       "      <td>51000</td>\n",
       "      <td>2021184</td>\n",
       "      <td>51000</td>\n",
       "    </tr>\n",
       "    <tr>\n",
       "      <th>1</th>\n",
       "      <td>Karnataka</td>\n",
       "      <td>938401</td>\n",
       "      <td>12211</td>\n",
       "      <td>938401</td>\n",
       "      <td>12211</td>\n",
       "    </tr>\n",
       "    <tr>\n",
       "      <th>2</th>\n",
       "      <td>Kerala</td>\n",
       "      <td>923913</td>\n",
       "      <td>3723</td>\n",
       "      <td>917631</td>\n",
       "      <td>3705</td>\n",
       "    </tr>\n",
       "    <tr>\n",
       "      <th>3</th>\n",
       "      <td>Andhra Pradesh</td>\n",
       "      <td>887591</td>\n",
       "      <td>7152</td>\n",
       "      <td>887591</td>\n",
       "      <td>7152</td>\n",
       "    </tr>\n",
       "    <tr>\n",
       "      <th>4</th>\n",
       "      <td>Tamil Nadu</td>\n",
       "      <td>837327</td>\n",
       "      <td>12345</td>\n",
       "      <td>837327</td>\n",
       "      <td>12345</td>\n",
       "    </tr>\n",
       "  </tbody>\n",
       "</table>\n",
       "</div>"
      ],
      "text/plain": [
       "           states    Cases  Deaths   PCases  PDeaths\n",
       "0     Maharashtra  2021184   51000  2021184    51000\n",
       "1       Karnataka   938401   12211   938401    12211\n",
       "2          Kerala   923913    3723   917631     3705\n",
       "3  Andhra Pradesh   887591    7152   887591     7152\n",
       "4      Tamil Nadu   837327   12345   837327    12345"
      ]
     },
     "execution_count": 11,
     "metadata": {},
     "output_type": "execute_result"
    }
   ],
   "source": [
    "#hide\n",
    "df_table = pd.DataFrame({'states': dfc_cases.index, 'Cases': dfc_cases.values, 'Deaths': dfc_deaths.values, 'PCases': dfp_cases.values, 'PDeaths': dfp_deaths.values}).set_index('states')\n",
    "df_table = df_table.sort_values(by = ['Cases','Deaths'], ascending = [False, False])\n",
    "df_table = df_table.reset_index()\n",
    "df_table.head()"
   ]
  },
  {
   "cell_type": "code",
   "execution_count": 12,
   "id": "found-montreal",
   "metadata": {
    "execution": {
     "iopub.execute_input": "2021-01-30T16:47:21.859304Z",
     "iopub.status.busy": "2021-01-30T16:47:21.858659Z",
     "iopub.status.idle": "2021-01-30T16:47:21.868877Z",
     "shell.execute_reply": "2021-01-30T16:47:21.868441Z"
    },
    "papermill": {
     "duration": 0.032753,
     "end_time": "2021-01-30T16:47:21.868993",
     "exception": false,
     "start_time": "2021-01-30T16:47:21.836240",
     "status": "completed"
    },
    "tags": []
   },
   "outputs": [],
   "source": [
    "#hide\n",
    "for c in 'Cases, Deaths'.split(', '):\n",
    "    df_table[f'{c} (+)'] = (df_table[c] - df_table[f'P{c}']).clip(0)\n",
    "df_table['Fatality Rate'] = (100* df_table['Deaths']/ df_table['Cases']).round(2)"
   ]
  },
  {
   "cell_type": "code",
   "execution_count": 13,
   "id": "minus-savage",
   "metadata": {
    "execution": {
     "iopub.execute_input": "2021-01-30T16:47:21.912929Z",
     "iopub.status.busy": "2021-01-30T16:47:21.912343Z",
     "iopub.status.idle": "2021-01-30T16:47:21.915485Z",
     "shell.execute_reply": "2021-01-30T16:47:21.914966Z"
    },
    "papermill": {
     "duration": 0.029759,
     "end_time": "2021-01-30T16:47:21.915610",
     "exception": false,
     "start_time": "2021-01-30T16:47:21.885851",
     "status": "completed"
    },
    "tags": []
   },
   "outputs": [
    {
     "data": {
      "text/html": [
       "<div>\n",
       "<style scoped>\n",
       "    .dataframe tbody tr th:only-of-type {\n",
       "        vertical-align: middle;\n",
       "    }\n",
       "\n",
       "    .dataframe tbody tr th {\n",
       "        vertical-align: top;\n",
       "    }\n",
       "\n",
       "    .dataframe thead th {\n",
       "        text-align: right;\n",
       "    }\n",
       "</style>\n",
       "<table border=\"1\" class=\"dataframe\">\n",
       "  <thead>\n",
       "    <tr style=\"text-align: right;\">\n",
       "      <th></th>\n",
       "      <th>states</th>\n",
       "      <th>Cases</th>\n",
       "      <th>Deaths</th>\n",
       "      <th>PCases</th>\n",
       "      <th>PDeaths</th>\n",
       "      <th>Cases (+)</th>\n",
       "      <th>Deaths (+)</th>\n",
       "      <th>Fatality Rate</th>\n",
       "    </tr>\n",
       "  </thead>\n",
       "  <tbody>\n",
       "    <tr>\n",
       "      <th>0</th>\n",
       "      <td>Maharashtra</td>\n",
       "      <td>2021184</td>\n",
       "      <td>51000</td>\n",
       "      <td>2021184</td>\n",
       "      <td>51000</td>\n",
       "      <td>0</td>\n",
       "      <td>0</td>\n",
       "      <td>2.52</td>\n",
       "    </tr>\n",
       "    <tr>\n",
       "      <th>1</th>\n",
       "      <td>Karnataka</td>\n",
       "      <td>938401</td>\n",
       "      <td>12211</td>\n",
       "      <td>938401</td>\n",
       "      <td>12211</td>\n",
       "      <td>0</td>\n",
       "      <td>0</td>\n",
       "      <td>1.30</td>\n",
       "    </tr>\n",
       "    <tr>\n",
       "      <th>2</th>\n",
       "      <td>Kerala</td>\n",
       "      <td>923913</td>\n",
       "      <td>3723</td>\n",
       "      <td>917631</td>\n",
       "      <td>3705</td>\n",
       "      <td>6282</td>\n",
       "      <td>18</td>\n",
       "      <td>0.40</td>\n",
       "    </tr>\n",
       "    <tr>\n",
       "      <th>3</th>\n",
       "      <td>Andhra Pradesh</td>\n",
       "      <td>887591</td>\n",
       "      <td>7152</td>\n",
       "      <td>887591</td>\n",
       "      <td>7152</td>\n",
       "      <td>0</td>\n",
       "      <td>0</td>\n",
       "      <td>0.81</td>\n",
       "    </tr>\n",
       "    <tr>\n",
       "      <th>4</th>\n",
       "      <td>Tamil Nadu</td>\n",
       "      <td>837327</td>\n",
       "      <td>12345</td>\n",
       "      <td>837327</td>\n",
       "      <td>12345</td>\n",
       "      <td>0</td>\n",
       "      <td>0</td>\n",
       "      <td>1.47</td>\n",
       "    </tr>\n",
       "  </tbody>\n",
       "</table>\n",
       "</div>"
      ],
      "text/plain": [
       "           states    Cases  Deaths   PCases  PDeaths  Cases (+)  Deaths (+)  \\\n",
       "0     Maharashtra  2021184   51000  2021184    51000          0           0   \n",
       "1       Karnataka   938401   12211   938401    12211          0           0   \n",
       "2          Kerala   923913    3723   917631     3705       6282          18   \n",
       "3  Andhra Pradesh   887591    7152   887591     7152          0           0   \n",
       "4      Tamil Nadu   837327   12345   837327    12345          0           0   \n",
       "\n",
       "   Fatality Rate  \n",
       "0           2.52  \n",
       "1           1.30  \n",
       "2           0.40  \n",
       "3           0.81  \n",
       "4           1.47  "
      ]
     },
     "execution_count": 13,
     "metadata": {},
     "output_type": "execute_result"
    }
   ],
   "source": [
    "#hide\n",
    "df_table.head()"
   ]
  },
  {
   "cell_type": "code",
   "execution_count": 14,
   "id": "false-peter",
   "metadata": {
    "execution": {
     "iopub.execute_input": "2021-01-30T16:47:21.957419Z",
     "iopub.status.busy": "2021-01-30T16:47:21.956876Z",
     "iopub.status.idle": "2021-01-30T16:47:21.972235Z",
     "shell.execute_reply": "2021-01-30T16:47:21.971800Z"
    },
    "papermill": {
     "duration": 0.038656,
     "end_time": "2021-01-30T16:47:21.972351",
     "exception": false,
     "start_time": "2021-01-30T16:47:21.933695",
     "status": "completed"
    },
    "tags": []
   },
   "outputs": [
    {
     "data": {
      "text/plain": [
       "{'updated': '2021-01-30',\n",
       " 'since': '2021-01-29',\n",
       " 'Cases': 10741039,\n",
       " 'PCases': 10734027,\n",
       " 'Deaths': 154209,\n",
       " 'PDeaths': 154184,\n",
       " 'Cases (+)': 7012,\n",
       " 'Deaths (+)': 25}"
      ]
     },
     "execution_count": 14,
     "metadata": {},
     "output_type": "execute_result"
    }
   ],
   "source": [
    "#hide\n",
    "summary = {'updated':dates[-1], 'since':dates[-2]}\n",
    "list_names = ['Cases', 'PCases', 'Deaths', 'PDeaths', 'Cases (+)', 'Deaths (+)']\n",
    "for name in list_names:\n",
    "    summary[name] = df_table.sum()[name]\n",
    "summary"
   ]
  },
  {
   "cell_type": "code",
   "execution_count": 15,
   "id": "packed-viewer",
   "metadata": {
    "execution": {
     "iopub.execute_input": "2021-01-30T16:47:22.013904Z",
     "iopub.status.busy": "2021-01-30T16:47:22.012941Z",
     "iopub.status.idle": "2021-01-30T16:47:22.015312Z",
     "shell.execute_reply": "2021-01-30T16:47:22.015788Z"
    },
    "papermill": {
     "duration": 0.026094,
     "end_time": "2021-01-30T16:47:22.015916",
     "exception": false,
     "start_time": "2021-01-30T16:47:21.989822",
     "status": "completed"
    },
    "tags": []
   },
   "outputs": [],
   "source": [
    "#hide\n",
    "overview = '''\n",
    "<!-- #######  HTML!! #########-->\n",
    "<h1 style=\"color: #5e9ca0; text-align: center;\">India</h1>\n",
    "<p style=\"text-align: center;\">Last update: <strong>{update}</strong></p>\n",
    "<p style=\"text-align: center;\">Confirmed cases:</p>\n",
    "<p style=\"text-align: center;font-size:24px;\">{cases} (<span style=\"color: #ff0000;\">+{new}</span>)</p>\n",
    "<p style=\"text-align: center;\">Confirmed deaths:</p>\n",
    "<p style=\"text-align: center;font-size:24px;\">{deaths} (<span style=\"color: #ff0000;\">+{dnew}</span>)</p>\n",
    "'''"
   ]
  },
  {
   "cell_type": "code",
   "execution_count": 16,
   "id": "phantom-lover",
   "metadata": {
    "execution": {
     "iopub.execute_input": "2021-01-30T16:47:22.058692Z",
     "iopub.status.busy": "2021-01-30T16:47:22.058067Z",
     "iopub.status.idle": "2021-01-30T16:47:22.061266Z",
     "shell.execute_reply": "2021-01-30T16:47:22.060767Z"
    },
    "papermill": {
     "duration": 0.027733,
     "end_time": "2021-01-30T16:47:22.061390",
     "exception": false,
     "start_time": "2021-01-30T16:47:22.033657",
     "status": "completed"
    },
    "tags": []
   },
   "outputs": [
    {
     "data": {
      "text/html": [
       "\n",
       "<!-- #######  HTML!! #########-->\n",
       "<h1 style=\"color: #5e9ca0; text-align: center;\">India</h1>\n",
       "<p style=\"text-align: center;\">Last update: <strong>2021-01-30</strong></p>\n",
       "<p style=\"text-align: center;\">Confirmed cases:</p>\n",
       "<p style=\"text-align: center;font-size:24px;\">10741039 (<span style=\"color: #ff0000;\">+7012</span>)</p>\n",
       "<p style=\"text-align: center;\">Confirmed deaths:</p>\n",
       "<p style=\"text-align: center;font-size:24px;\">154209 (<span style=\"color: #ff0000;\">+25</span>)</p>\n"
      ],
      "text/plain": [
       "<IPython.core.display.HTML object>"
      ]
     },
     "metadata": {},
     "output_type": "display_data"
    }
   ],
   "source": [
    "#hide_input\n",
    "update = summary['updated']\n",
    "cases = summary['Cases']\n",
    "new = summary['Cases (+)']\n",
    "deaths = summary['Deaths']\n",
    "dnew = summary['Deaths (+)']\n",
    "\n",
    "html = HTML(overview.format(update=update, cases=cases,new=new,deaths=deaths,dnew=dnew))\n",
    "\n",
    "display(html)"
   ]
  },
  {
   "cell_type": "code",
   "execution_count": 17,
   "id": "sealed-reset",
   "metadata": {
    "execution": {
     "iopub.execute_input": "2021-01-30T16:47:22.105901Z",
     "iopub.status.busy": "2021-01-30T16:47:22.105321Z",
     "iopub.status.idle": "2021-01-30T16:47:22.112970Z",
     "shell.execute_reply": "2021-01-30T16:47:22.113432Z"
    },
    "papermill": {
     "duration": 0.03402,
     "end_time": "2021-01-30T16:47:22.113564",
     "exception": false,
     "start_time": "2021-01-30T16:47:22.079544",
     "status": "completed"
    },
    "tags": []
   },
   "outputs": [],
   "source": [
    "#hide\n",
    "dt_cols = list(dft_cases.columns[1:])\n",
    "dft_ct_new_cases = dft_cases.groupby('state')[dt_cols].sum().diff(axis=1).fillna(0).astype(int)\n",
    "dft_ct_new_cases.sort_values(by = dates[-1], ascending = False,inplace = True)"
   ]
  },
  {
   "cell_type": "code",
   "execution_count": 18,
   "id": "designed-constant",
   "metadata": {
    "execution": {
     "iopub.execute_input": "2021-01-30T16:47:22.163782Z",
     "iopub.status.busy": "2021-01-30T16:47:22.163127Z",
     "iopub.status.idle": "2021-01-30T16:47:22.165642Z",
     "shell.execute_reply": "2021-01-30T16:47:22.166182Z"
    },
    "papermill": {
     "duration": 0.035793,
     "end_time": "2021-01-30T16:47:22.166324",
     "exception": false,
     "start_time": "2021-01-30T16:47:22.130531",
     "status": "completed"
    },
    "tags": []
   },
   "outputs": [
    {
     "data": {
      "text/html": [
       "<div>\n",
       "<style scoped>\n",
       "    .dataframe tbody tr th:only-of-type {\n",
       "        vertical-align: middle;\n",
       "    }\n",
       "\n",
       "    .dataframe tbody tr th {\n",
       "        vertical-align: top;\n",
       "    }\n",
       "\n",
       "    .dataframe thead th {\n",
       "        text-align: right;\n",
       "    }\n",
       "</style>\n",
       "<table border=\"1\" class=\"dataframe\">\n",
       "  <thead>\n",
       "    <tr style=\"text-align: right;\">\n",
       "      <th>states</th>\n",
       "      <th>2020-07-01</th>\n",
       "      <th>2020-07-02</th>\n",
       "      <th>2020-07-03</th>\n",
       "      <th>2020-07-04</th>\n",
       "      <th>2020-07-05</th>\n",
       "      <th>2020-07-06</th>\n",
       "      <th>2020-07-07</th>\n",
       "      <th>2020-07-08</th>\n",
       "      <th>2020-07-09</th>\n",
       "      <th>2020-07-10</th>\n",
       "      <th>...</th>\n",
       "      <th>2021-01-21</th>\n",
       "      <th>2021-01-22</th>\n",
       "      <th>2021-01-23</th>\n",
       "      <th>2021-01-24</th>\n",
       "      <th>2021-01-25</th>\n",
       "      <th>2021-01-26</th>\n",
       "      <th>2021-01-27</th>\n",
       "      <th>2021-01-28</th>\n",
       "      <th>2021-01-29</th>\n",
       "      <th>2021-01-30</th>\n",
       "    </tr>\n",
       "    <tr>\n",
       "      <th>state</th>\n",
       "      <th></th>\n",
       "      <th></th>\n",
       "      <th></th>\n",
       "      <th></th>\n",
       "      <th></th>\n",
       "      <th></th>\n",
       "      <th></th>\n",
       "      <th></th>\n",
       "      <th></th>\n",
       "      <th></th>\n",
       "      <th></th>\n",
       "      <th></th>\n",
       "      <th></th>\n",
       "      <th></th>\n",
       "      <th></th>\n",
       "      <th></th>\n",
       "      <th></th>\n",
       "      <th></th>\n",
       "      <th></th>\n",
       "      <th></th>\n",
       "      <th></th>\n",
       "    </tr>\n",
       "  </thead>\n",
       "  <tbody>\n",
       "    <tr>\n",
       "      <th>Kerala</th>\n",
       "      <td>0</td>\n",
       "      <td>160</td>\n",
       "      <td>211</td>\n",
       "      <td>240</td>\n",
       "      <td>225</td>\n",
       "      <td>193</td>\n",
       "      <td>272</td>\n",
       "      <td>301</td>\n",
       "      <td>339</td>\n",
       "      <td>416</td>\n",
       "      <td>...</td>\n",
       "      <td>6334</td>\n",
       "      <td>6753</td>\n",
       "      <td>6960</td>\n",
       "      <td>6036</td>\n",
       "      <td>3361</td>\n",
       "      <td>6293</td>\n",
       "      <td>5659</td>\n",
       "      <td>5771</td>\n",
       "      <td>6268</td>\n",
       "      <td>6282</td>\n",
       "    </tr>\n",
       "    <tr>\n",
       "      <th>Gujarat</th>\n",
       "      <td>0</td>\n",
       "      <td>681</td>\n",
       "      <td>687</td>\n",
       "      <td>712</td>\n",
       "      <td>725</td>\n",
       "      <td>735</td>\n",
       "      <td>778</td>\n",
       "      <td>783</td>\n",
       "      <td>861</td>\n",
       "      <td>875</td>\n",
       "      <td>...</td>\n",
       "      <td>471</td>\n",
       "      <td>451</td>\n",
       "      <td>423</td>\n",
       "      <td>410</td>\n",
       "      <td>390</td>\n",
       "      <td>380</td>\n",
       "      <td>353</td>\n",
       "      <td>346</td>\n",
       "      <td>335</td>\n",
       "      <td>323</td>\n",
       "    </tr>\n",
       "    <tr>\n",
       "      <th>Telangana</th>\n",
       "      <td>0</td>\n",
       "      <td>1213</td>\n",
       "      <td>1892</td>\n",
       "      <td>1850</td>\n",
       "      <td>1590</td>\n",
       "      <td>1831</td>\n",
       "      <td>1879</td>\n",
       "      <td>1924</td>\n",
       "      <td>1410</td>\n",
       "      <td>1278</td>\n",
       "      <td>...</td>\n",
       "      <td>226</td>\n",
       "      <td>214</td>\n",
       "      <td>221</td>\n",
       "      <td>197</td>\n",
       "      <td>148</td>\n",
       "      <td>189</td>\n",
       "      <td>147</td>\n",
       "      <td>186</td>\n",
       "      <td>197</td>\n",
       "      <td>186</td>\n",
       "    </tr>\n",
       "    <tr>\n",
       "      <th>Goa</th>\n",
       "      <td>0</td>\n",
       "      <td>95</td>\n",
       "      <td>94</td>\n",
       "      <td>108</td>\n",
       "      <td>77</td>\n",
       "      <td>52</td>\n",
       "      <td>90</td>\n",
       "      <td>136</td>\n",
       "      <td>112</td>\n",
       "      <td>100</td>\n",
       "      <td>...</td>\n",
       "      <td>55</td>\n",
       "      <td>70</td>\n",
       "      <td>85</td>\n",
       "      <td>53</td>\n",
       "      <td>57</td>\n",
       "      <td>70</td>\n",
       "      <td>53</td>\n",
       "      <td>85</td>\n",
       "      <td>78</td>\n",
       "      <td>93</td>\n",
       "    </tr>\n",
       "    <tr>\n",
       "      <th>Jammu and Kashmir</th>\n",
       "      <td>0</td>\n",
       "      <td>154</td>\n",
       "      <td>170</td>\n",
       "      <td>227</td>\n",
       "      <td>183</td>\n",
       "      <td>246</td>\n",
       "      <td>256</td>\n",
       "      <td>330</td>\n",
       "      <td>240</td>\n",
       "      <td>387</td>\n",
       "      <td>...</td>\n",
       "      <td>117</td>\n",
       "      <td>88</td>\n",
       "      <td>94</td>\n",
       "      <td>73</td>\n",
       "      <td>64</td>\n",
       "      <td>74</td>\n",
       "      <td>77</td>\n",
       "      <td>63</td>\n",
       "      <td>76</td>\n",
       "      <td>65</td>\n",
       "    </tr>\n",
       "  </tbody>\n",
       "</table>\n",
       "<p>5 rows × 214 columns</p>\n",
       "</div>"
      ],
      "text/plain": [
       "states             2020-07-01  2020-07-02  2020-07-03  2020-07-04  2020-07-05  \\\n",
       "state                                                                           \n",
       "Kerala                      0         160         211         240         225   \n",
       "Gujarat                     0         681         687         712         725   \n",
       "Telangana                   0        1213        1892        1850        1590   \n",
       "Goa                         0          95          94         108          77   \n",
       "Jammu and Kashmir           0         154         170         227         183   \n",
       "\n",
       "states             2020-07-06  2020-07-07  2020-07-08  2020-07-09  2020-07-10  \\\n",
       "state                                                                           \n",
       "Kerala                    193         272         301         339         416   \n",
       "Gujarat                   735         778         783         861         875   \n",
       "Telangana                1831        1879        1924        1410        1278   \n",
       "Goa                        52          90         136         112         100   \n",
       "Jammu and Kashmir         246         256         330         240         387   \n",
       "\n",
       "states             ...  2021-01-21  2021-01-22  2021-01-23  2021-01-24  \\\n",
       "state              ...                                                   \n",
       "Kerala             ...        6334        6753        6960        6036   \n",
       "Gujarat            ...         471         451         423         410   \n",
       "Telangana          ...         226         214         221         197   \n",
       "Goa                ...          55          70          85          53   \n",
       "Jammu and Kashmir  ...         117          88          94          73   \n",
       "\n",
       "states             2021-01-25  2021-01-26  2021-01-27  2021-01-28  2021-01-29  \\\n",
       "state                                                                           \n",
       "Kerala                   3361        6293        5659        5771        6268   \n",
       "Gujarat                   390         380         353         346         335   \n",
       "Telangana                 148         189         147         186         197   \n",
       "Goa                        57          70          53          85          78   \n",
       "Jammu and Kashmir          64          74          77          63          76   \n",
       "\n",
       "states             2021-01-30  \n",
       "state                          \n",
       "Kerala                   6282  \n",
       "Gujarat                   323  \n",
       "Telangana                 186  \n",
       "Goa                        93  \n",
       "Jammu and Kashmir          65  \n",
       "\n",
       "[5 rows x 214 columns]"
      ]
     },
     "execution_count": 18,
     "metadata": {},
     "output_type": "execute_result"
    }
   ],
   "source": [
    "#hide\n",
    "dft_ct_new_cases.head()"
   ]
  },
  {
   "cell_type": "code",
   "execution_count": 19,
   "id": "responsible-nightlife",
   "metadata": {
    "execution": {
     "iopub.execute_input": "2021-01-30T16:47:22.224715Z",
     "iopub.status.busy": "2021-01-30T16:47:22.212260Z",
     "iopub.status.idle": "2021-01-30T16:47:29.230952Z",
     "shell.execute_reply": "2021-01-30T16:47:29.231476Z"
    },
    "papermill": {
     "duration": 7.046162,
     "end_time": "2021-01-30T16:47:29.231638",
     "exception": false,
     "start_time": "2021-01-30T16:47:22.185476",
     "status": "completed"
    },
    "tags": []
   },
   "outputs": [
    {
     "data": {
      "image/png": "[encoded data removed]",
      "text/plain": [
       "<Figure size 1296x2016 with 11 Axes>"
      ]
     },
     "metadata": {
      "needs_background": "light"
     },
     "output_type": "display_data"
    }
   ],
   "source": [
    "#hide_input\n",
    "df = dft_ct_new_cases.copy()\n",
    "df.loc['Total'] = df.sum()\n",
    "n = 5\n",
    "ax = []\n",
    "fig = plt.figure(figsize = (18,28))\n",
    "gs = fig.add_gridspec(n+2, 5)\n",
    "# gs = fig.add_gridspec(2, 3)\n",
    "ax1 = fig.add_subplot(gs[0, :])\n",
    "ef = df.loc['Total'].rename_axis('date').reset_index()\n",
    "ef['date'] = ef['date'].astype('datetime64[ns]')\n",
    "ax1.bar(ef.date,ef.Total,alpha=0.3,color='#007acc')\n",
    "ax1.plot(ef.date,ef.Total , marker=\"o\", color='#007acc')\n",
    "ax1.xaxis.set_major_locator(mdates.WeekdayLocator())\n",
    "ax1.xaxis.set_major_formatter(mdates.DateFormatter('%b %d'))\n",
    "ax1.text(0.02, 0.5,'India daily case count', transform = ax1.transAxes, fontsize=25);\n",
    "ax1.spines['right'].set_visible(False)\n",
    "ax1.spines['top'].set_visible(False)\n",
    "\n",
    "ax2 = fig.add_subplot(gs[1,0])\n",
    "ef = df.loc['Maharashtra'].rename_axis('date').reset_index()\n",
    "ef['date'] = ef['date'].astype('datetime64[ns]')\n",
    "\n",
    "ax2.bar(ef.date, ef.Maharashtra,color = '#007acc',alpha=0.5)\n",
    "ax2.xaxis.set_major_locator(mdates.WeekdayLocator())\n",
    "ax2.xaxis.set_major_formatter(mdates.DateFormatter('%b %d'))\n",
    "ax2.set_xticks(ax2.get_xticks()[::3])\n",
    "maxyval = ef.Maharashtra.max()\n",
    "ax2.set_ylim([0,maxyval])\n",
    "ax2.text(0.05, 0.9,'Maharashtra', transform = ax2.transAxes, fontsize=20);\n",
    "ax2.spines['right'].set_visible(False)\n",
    "ax2.spines['top'].set_visible(False)\n",
    "\n",
    "\n",
    "ax3 = fig.add_subplot(gs[1,1])\n",
    "ef = df.loc['Tamil Nadu'].rename_axis('date').reset_index()\n",
    "ef['date'] = ef['date'].astype('datetime64[ns]')\n",
    "ax3.bar(ef.date, ef['Tamil Nadu'],color = '#007acc',alpha=0.5,)\n",
    "ax3.xaxis.set_major_locator(mdates.WeekdayLocator())\n",
    "ax3.xaxis.set_major_formatter(mdates.DateFormatter('%b %d'))\n",
    "ax3.set_xticks(ax3.get_xticks()[::3])\n",
    "ax3.text(0.05, 0.9,'Tamil Nadu', transform = ax3.transAxes, fontsize=20);\n",
    "ax3.spines['right'].set_visible(False)\n",
    "ax3.spines['top'].set_visible(False)\n",
    "\n",
    "ax5 = fig.add_subplot(gs[1,3])\n",
    "ef = df.loc['Telangana'].rename_axis('date').reset_index()\n",
    "ef['date'] = ef['date'].astype('datetime64[ns]')\n",
    "ax5.bar(ef.date, ef['Telangana'],color = '#007acc',alpha=0.5,)\n",
    "ax5.xaxis.set_major_locator(mdates.WeekdayLocator())\n",
    "ax5.xaxis.set_major_formatter(mdates.DateFormatter('%b %d'))\n",
    "ax5.set_xticks(ax5.get_xticks()[::3])\n",
    "ax5.text(0.05, 0.9,'Telangana', transform = ax5.transAxes, fontsize=20);\n",
    "ax5.spines['right'].set_visible(False)\n",
    "ax5.spines['top'].set_visible(False)\n",
    "\n",
    "ax6 = fig.add_subplot(gs[1,4])\n",
    "ef = df.loc['Andhra Pradesh'].rename_axis('date').reset_index()\n",
    "ef['date'] = ef['date'].astype('datetime64[ns]')\n",
    "ax6.bar(ef.date, ef['Andhra Pradesh'],color = '#007acc',alpha=0.5,)\n",
    "ax6.xaxis.set_major_locator(mdates.WeekdayLocator())\n",
    "ax6.xaxis.set_major_formatter(mdates.DateFormatter('%b %d'))\n",
    "ax6.set_xticks(ax6.get_xticks()[::3])\n",
    "ax6.text(0.05, 1,'Andhra Pradesh', transform = ax6.transAxes, fontsize=20);\n",
    "ax6.spines['right'].set_visible(False)\n",
    "ax6.spines['top'].set_visible(False)\n",
    "\n",
    "ax4 = fig.add_subplot(gs[1,2])\n",
    "ef = df.loc['Delhi'].rename_axis('date').reset_index()\n",
    "ef['date'] = ef['date'].astype('datetime64[ns]')\n",
    "ax4.bar(ef.date, ef.Delhi,color = '#007acc',alpha=0.5)\n",
    "ax4.set_xticks([])\n",
    "ax4.xaxis.set_major_locator(mdates.WeekdayLocator())\n",
    "ax4.xaxis.set_major_formatter(mdates.DateFormatter('%b %d'))\n",
    "ax4.set_xticks(ax4.get_xticks()[::3])\n",
    "ax4.spines['right'].set_visible(False)\n",
    "ax4.spines['top'].set_visible(False)\n",
    "\n",
    "ax4.text(0.05, 1,'Delhi', transform = ax4.transAxes, fontsize=20)\n",
    "\n",
    "for i in range(n):\n",
    "    \n",
    "    ax.append(fig.add_subplot(gs[i+2,:]))\n",
    "    ef = df.iloc[i+3].rename_axis('date').reset_index()\n",
    "    ef['date'] = ef['date'].astype('datetime64[ns]')\n",
    "    ax[i].bar(ef.date,ef.iloc[:,-1],color = '#007acc',alpha=0.3)\n",
    "    ax[i].plot(ef.date,ef.iloc[:,-1],marker='o',color='#007acc')\n",
    "    ax[i].text(0.02,0.5,f'{ef.columns.values[-1]}',transform = ax[i].transAxes, fontsize = 20);\n",
    "    ax[i].xaxis.set_major_locator(mdates.WeekdayLocator())\n",
    "    ax[i].xaxis.set_major_formatter(mdates.DateFormatter('%b %d'))\n",
    "    ax[i].set_ylim([0,7000])\n",
    "    ax[i].spines['right'].set_visible(False)\n",
    "    ax[i].spines['top'].set_visible(False)\n",
    "plt.tight_layout()\n"
   ]
  },
  {
   "cell_type": "code",
   "execution_count": 20,
   "id": "dress-forge",
   "metadata": {
    "execution": {
     "iopub.execute_input": "2021-01-30T16:47:29.292017Z",
     "iopub.status.busy": "2021-01-30T16:47:29.291358Z",
     "iopub.status.idle": "2021-01-30T16:47:29.293607Z",
     "shell.execute_reply": "2021-01-30T16:47:29.294136Z"
    },
    "papermill": {
     "duration": 0.039645,
     "end_time": "2021-01-30T16:47:29.294321",
     "exception": false,
     "start_time": "2021-01-30T16:47:29.254676",
     "status": "completed"
    },
    "tags": []
   },
   "outputs": [
    {
     "name": "stdout",
     "output_type": "stream",
     "text": [
      "                                   states    Cases  Deaths   PCases  PDeaths  Cases (+)  Deaths (+)  Fatality Rate\n",
      "                              Maharashtra  2021184   51000  2021184    51000          0           0           2.52\n",
      "                                Karnataka   938401   12211   938401    12211          0           0           1.30\n",
      "                                   Kerala   923913    3723   917631     3705       6282          18           0.40\n",
      "                           Andhra Pradesh   887591    7152   887591     7152          0           0           0.81\n",
      "                               Tamil Nadu   837327   12345   837327    12345          0           0           1.47\n",
      "                                    Delhi   634773   10841   634773    10841          0           0           1.71\n",
      "                            Uttar Pradesh   599837    8646   599837     8646          0           0           1.44\n",
      "                              West Bengal   569459   10155   569459    10155          0           0           1.78\n",
      "                                   Odisha   334850    1959   334850     1959          0           0           0.59\n",
      "                                Rajasthan   317292    2765   317292     2765          0           0           0.87\n",
      "                             Chhattisgarh   304689    3689   304689     3689          0           0           1.21\n",
      "                                Telangana   294306    1598   294120     1596        186           2           0.54\n",
      "                                  Haryana   267708    3015   267708     3015          0           0           1.13\n",
      "                                  Gujarat   261224    4387   260901     4385        323           2           1.68\n",
      "                                    Bihar   260480    1495   260480     1495          0           0           0.57\n",
      "                           Madhya Pradesh   254667    3805   254667     3805          0           0           1.49\n",
      "                                    Assam   217091    1081   217091     1081          0           0           0.50\n",
      "                                   Punjab   172860    5601   172860     5601          0           0           3.24\n",
      "                        Jammu and Kashmir   124438    1936   124373     1933         65           3           1.56\n",
      "                                Jharkhand   118602    1070   118602     1070          0           0           0.90\n",
      "                              Uttarakhand    95986    1642    95986     1642          0           0           1.71\n",
      "                         Himachal Pradesh    57400     962    57400      962          0           0           1.68\n",
      "                                      Goa    53356     766    53263      766         93           0           1.44\n",
      "                               Puducherry    39047     647    39004      647         43           0           1.66\n",
      "                                  Tripura    33345     388    33345      388          0           0           1.16\n",
      "                                  Manipur    29052     371    29037      371         15           0           1.28\n",
      "                               Chandigarh    20882     334    20882      334          0           0           1.60\n",
      "                        Arunachal Pradesh    16827      56    16827       56          0           0           0.33\n",
      "                                Meghalaya    13753     146    13753      146          0           0           1.06\n",
      "                                 Nagaland    12090      88    12088       88          2           0           0.73\n",
      "                                   Ladakh     9714     129     9714      129          0           0           1.33\n",
      "                                   Sikkim     6085     133     6085      133          0           0           2.19\n",
      "              Andaman and Nicobar Islands     4994      62     4994       62          0           0           1.24\n",
      "                                  Mizoram     4366       9     4363        9          3           0           0.21\n",
      " Dadra and Nagar Haveli and Daman and Diu     3380       2     3380        2          0           0           0.06\n",
      "                              Lakshadweep       70       0       70        0          0           0           0.00\n"
     ]
    }
   ],
   "source": [
    "#hide_input\n",
    "print(df_table.to_string(index=False))"
   ]
  },
  {
   "cell_type": "code",
   "execution_count": null,
   "id": "quantitative-legend",
   "metadata": {
    "papermill": {
     "duration": 0.023569,
     "end_time": "2021-01-30T16:47:29.341844",
     "exception": false,
     "start_time": "2021-01-30T16:47:29.318275",
     "status": "completed"
    },
    "tags": []
   },
   "outputs": [],
   "source": []
  },
  {
   "cell_type": "code",
   "execution_count": null,
   "id": "distant-acoustic",
   "metadata": {
    "papermill": {
     "duration": 0.023223,
     "end_time": "2021-01-30T16:47:29.387916",
     "exception": false,
     "start_time": "2021-01-30T16:47:29.364693",
     "status": "completed"
    },
    "tags": []
   },
   "outputs": [],
   "source": []
  }
 ],
 "metadata": {
  "kernelspec": {
   "display_name": "Python 3",
   "language": "python",
   "name": "python3"
  },
  "language_info": {
   "codemirror_mode": {
    "name": "ipython",
    "version": 3
   },
   "file_extension": ".py",
   "mimetype": "text/x-python",
   "name": "python",
   "nbconvert_exporter": "python",
   "pygments_lexer": "ipython3",
   "version": "3.6.12"
  },
  "papermill": {
   "duration": 17.066978,
   "end_time": "2021-01-30T16:47:30.020250",
   "environment_variables": {},
   "exception": null,
   "input_path": "latest.ipynb",
   "output_path": "latest.ipynb",
   "parameters": {},
   "start_time": "2021-01-30T16:47:12.953272",
   "version": "2.1.2"
  }
 },
 "nbformat": 4,
 "nbformat_minor": 5
}