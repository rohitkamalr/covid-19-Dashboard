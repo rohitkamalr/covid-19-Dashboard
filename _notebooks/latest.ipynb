{
 "cells": [
  {
   "cell_type": "markdown",
   "metadata": {
    "papermill": {
     "duration": 0.021639,
     "end_time": "2020-11-02T08:21:04.103560",
     "exception": false,
     "start_time": "2020-11-02T08:21:04.081921",
     "status": "completed"
    },
    "tags": []
   },
   "source": [
    "# Latest COVID-19 India Matplotlib Overview"
   ]
  },
  {
   "cell_type": "code",
   "execution_count": 1,
   "metadata": {
    "execution": {
     "iopub.execute_input": "2020-11-02T08:21:04.145399Z",
     "iopub.status.busy": "2020-11-02T08:21:04.144723Z",
     "iopub.status.idle": "2020-11-02T08:21:04.776129Z",
     "shell.execute_reply": "2020-11-02T08:21:04.775516Z"
    },
    "papermill": {
     "duration": 0.654893,
     "end_time": "2020-11-02T08:21:04.776310",
     "exception": false,
     "start_time": "2020-11-02T08:21:04.121417",
     "status": "completed"
    },
    "tags": []
   },
   "outputs": [],
   "source": [
    "#hide\n",
    "import pandas as pd\n",
    "import numpy as np\n",
    "import requests\n",
    "import json\n",
    "import matplotlib.pyplot as plt\n",
    "import matplotlib.dates as mdates\n",
    "import matplotlib as mpl\n",
    "from IPython.core.display import display,HTML\n",
    "%matplotlib inline\n",
    "from datetime import date"
   ]
  },
  {
   "cell_type": "code",
   "execution_count": 2,
   "metadata": {
    "execution": {
     "iopub.execute_input": "2020-11-02T08:21:04.819612Z",
     "iopub.status.busy": "2020-11-02T08:21:04.818905Z",
     "iopub.status.idle": "2020-11-02T08:21:04.947914Z",
     "shell.execute_reply": "2020-11-02T08:21:04.947325Z"
    },
    "papermill": {
     "duration": 0.15446,
     "end_time": "2020-11-02T08:21:04.948079",
     "exception": false,
     "start_time": "2020-11-02T08:21:04.793619",
     "status": "completed"
    },
    "tags": []
   },
   "outputs": [],
   "source": [
    "#hide\n",
    "df  = pd.read_csv('https://api.covid19india.org/csv/latest/states.csv')\n",
    "df = df[['Date','State','Confirmed','Deceased']]\n",
    "df = df.rename(columns={'Confirmed':'Cases', \"Deceased\":'Deaths'})\n",
    "df_cases = df[[\"Date\",'State','Cases']]\n",
    "df_deaths = df[['Date','State','Deaths']]\n",
    "df_cases1 = df_cases.groupby('Date')\n",
    "df_deaths1= df_deaths.groupby('Date')"
   ]
  },
  {
   "cell_type": "code",
   "execution_count": 3,
   "metadata": {
    "execution": {
     "iopub.execute_input": "2020-11-02T08:21:05.003198Z",
     "iopub.status.busy": "2020-11-02T08:21:05.002408Z",
     "iopub.status.idle": "2020-11-02T08:21:05.030282Z",
     "shell.execute_reply": "2020-11-02T08:21:05.029671Z"
    },
    "papermill": {
     "duration": 0.057841,
     "end_time": "2020-11-02T08:21:05.030438",
     "exception": false,
     "start_time": "2020-11-02T08:21:04.972597",
     "status": "completed"
    },
    "tags": []
   },
   "outputs": [],
   "source": [
    "#hide\n",
    "df_snap = pd.read_csv('data/SnapshotCases-28-July.csv')\n",
    "arr_states = df_snap['states'].unique()\n",
    "arr_dates = df['Date'].unique()\n",
    "df_snap = df_snap.set_index('states')"
   ]
  },
  {
   "cell_type": "code",
   "execution_count": 4,
   "metadata": {
    "execution": {
     "iopub.execute_input": "2020-11-02T08:21:05.082690Z",
     "iopub.status.busy": "2020-11-02T08:21:05.082001Z",
     "iopub.status.idle": "2020-11-02T08:21:05.085699Z",
     "shell.execute_reply": "2020-11-02T08:21:05.085015Z"
    },
    "papermill": {
     "duration": 0.030735,
     "end_time": "2020-11-02T08:21:05.085852",
     "exception": false,
     "start_time": "2020-11-02T08:21:05.055117",
     "status": "completed"
    },
    "tags": []
   },
   "outputs": [
    {
     "data": {
      "text/plain": [
       "array(['Andaman and Nicobar Islands', 'Andhra Pradesh',\n",
       "       'Arunachal Pradesh', 'Assam', 'Bihar', 'Chandigarh',\n",
       "       'Dadra and Nagar Haveli and Daman and Diu', 'Delhi', 'Goa',\n",
       "       'Gujarat', 'Haryana', 'Himachal Pradesh', 'Jammu and Kashmir',\n",
       "       'Jharkhand', 'Karnataka', 'Kerala', 'Lakshadweep',\n",
       "       'Madhya Pradesh', 'Maharashtra', 'Manipur', 'Meghalaya', 'Mizoram',\n",
       "       'Nagaland', 'Odisha', 'Puducherry', 'Punjab', 'Rajasthan',\n",
       "       'Sikkim', 'Tamil Nadu', 'Telangana', 'Tripura', 'Uttar Pradesh',\n",
       "       'West Bengal', 'Chhattisgarh', 'Ladakh', 'Uttarakhand'],\n",
       "      dtype=object)"
      ]
     },
     "execution_count": 4,
     "metadata": {},
     "output_type": "execute_result"
    }
   ],
   "source": [
    "#hide\n",
    "arr_states[-9] = 'Puducherry'\n",
    "arr_states[-10] = 'Odisha'\n",
    "arr_states[6] = 'Dadra and Nagar Haveli and Daman and Diu'\n",
    "arr_states = np.append(arr_states,np.array(['Chhattisgarh','Ladakh','Uttarakhand']))\n",
    "arr_states"
   ]
  },
  {
   "cell_type": "code",
   "execution_count": 5,
   "metadata": {
    "execution": {
     "iopub.execute_input": "2020-11-02T08:21:05.133775Z",
     "iopub.status.busy": "2020-11-02T08:21:05.133062Z",
     "iopub.status.idle": "2020-11-02T08:21:05.151525Z",
     "shell.execute_reply": "2020-11-02T08:21:05.142805Z"
    },
    "papermill": {
     "duration": 0.047442,
     "end_time": "2020-11-02T08:21:05.151695",
     "exception": false,
     "start_time": "2020-11-02T08:21:05.104253",
     "status": "completed"
    },
    "tags": []
   },
   "outputs": [],
   "source": [
    "#hide\n",
    "dates = []\n",
    "for i in arr_dates:\n",
    "    if i>='2020-07-01':\n",
    "        dates.append(i)\n",
    "dict = {'states':dates}\n",
    "for i in arr_states:\n",
    "    dict[i] = [0]*len(dates)\n",
    "dft_cases = pd.DataFrame(dict)\n",
    "dft_deaths = pd.DataFrame(dict)\n"
   ]
  },
  {
   "cell_type": "code",
   "execution_count": 6,
   "metadata": {
    "execution": {
     "iopub.execute_input": "2020-11-02T08:21:05.193708Z",
     "iopub.status.busy": "2020-11-02T08:21:05.193021Z",
     "iopub.status.idle": "2020-11-02T08:21:07.384805Z",
     "shell.execute_reply": "2020-11-02T08:21:07.384064Z"
    },
    "papermill": {
     "duration": 2.215692,
     "end_time": "2020-11-02T08:21:07.384980",
     "exception": false,
     "start_time": "2020-11-02T08:21:05.169288",
     "status": "completed"
    },
    "tags": []
   },
   "outputs": [],
   "source": [
    "#hide\n",
    "for i in range(len(dates)):\n",
    "    df1_deaths = df_deaths1.get_group(dates[i])\n",
    "    for j in range(len(df1_deaths.index)):\n",
    "        if df1_deaths.iloc[j,1] in arr_states:\n",
    "            dft_deaths.loc[i,df1_deaths.iloc[j,1]] = df1_deaths.iloc[j,2]\n",
    "dft_deaths = dft_deaths.set_index('states')"
   ]
  },
  {
   "cell_type": "code",
   "execution_count": 7,
   "metadata": {
    "execution": {
     "iopub.execute_input": "2020-11-02T08:21:07.452676Z",
     "iopub.status.busy": "2020-11-02T08:21:07.451956Z",
     "iopub.status.idle": "2020-11-02T08:21:09.645735Z",
     "shell.execute_reply": "2020-11-02T08:21:09.646277Z"
    },
    "papermill": {
     "duration": 2.243311,
     "end_time": "2020-11-02T08:21:09.646461",
     "exception": false,
     "start_time": "2020-11-02T08:21:07.403150",
     "status": "completed"
    },
    "tags": []
   },
   "outputs": [],
   "source": [
    "#hide\n",
    "for i in range(len(dates)):\n",
    "    df1_cases = df_cases1.get_group(dates[i])\n",
    "    for j in range(len(df1_cases.index)):\n",
    "        if df1_cases.iloc[j,1] in arr_states:\n",
    "            dft_cases.loc[i,df1_cases.iloc[j,1]] = df1_cases.iloc[j,2]\n",
    "dft_cases = dft_cases.set_index('states')"
   ]
  },
  {
   "cell_type": "code",
   "execution_count": 8,
   "metadata": {
    "execution": {
     "iopub.execute_input": "2020-11-02T08:21:09.689713Z",
     "iopub.status.busy": "2020-11-02T08:21:09.689001Z",
     "iopub.status.idle": "2020-11-02T08:21:09.692609Z",
     "shell.execute_reply": "2020-11-02T08:21:09.691944Z"
    },
    "papermill": {
     "duration": 0.02837,
     "end_time": "2020-11-02T08:21:09.692789",
     "exception": false,
     "start_time": "2020-11-02T08:21:09.664419",
     "status": "completed"
    },
    "tags": []
   },
   "outputs": [],
   "source": [
    "#hide\n",
    "dft_cases = dft_cases.T\n",
    "dft_deaths = dft_deaths.T\n",
    "dt_today = dates[-1]\n",
    "dt_yday = dates[-2]"
   ]
  },
  {
   "cell_type": "code",
   "execution_count": 9,
   "metadata": {
    "execution": {
     "iopub.execute_input": "2020-11-02T08:21:09.734119Z",
     "iopub.status.busy": "2020-11-02T08:21:09.733448Z",
     "iopub.status.idle": "2020-11-02T08:21:09.739177Z",
     "shell.execute_reply": "2020-11-02T08:21:09.738483Z"
    },
    "papermill": {
     "duration": 0.028773,
     "end_time": "2020-11-02T08:21:09.739325",
     "exception": false,
     "start_time": "2020-11-02T08:21:09.710552",
     "status": "completed"
    },
    "tags": []
   },
   "outputs": [],
   "source": [
    "#hide\n",
    "dft_cases = dft_cases.reset_index()\n",
    "dft_deaths = dft_deaths.reset_index()\n",
    "dft_cases = dft_cases.rename(columns = {'index':'state'})\n",
    "dft_deaths = dft_deaths.rename(columns = {'index':'state'})"
   ]
  },
  {
   "cell_type": "code",
   "execution_count": 10,
   "metadata": {
    "execution": {
     "iopub.execute_input": "2020-11-02T08:21:09.785164Z",
     "iopub.status.busy": "2020-11-02T08:21:09.784423Z",
     "iopub.status.idle": "2020-11-02T08:21:09.794124Z",
     "shell.execute_reply": "2020-11-02T08:21:09.794726Z"
    },
    "papermill": {
     "duration": 0.038467,
     "end_time": "2020-11-02T08:21:09.794932",
     "exception": false,
     "start_time": "2020-11-02T08:21:09.756465",
     "status": "completed"
    },
    "tags": []
   },
   "outputs": [],
   "source": [
    "#hide\n",
    "dfc_cases = dft_cases.groupby('state')[dt_today].sum()\n",
    "dfc_deaths = dft_deaths.groupby('state')[dt_today].sum()\n",
    "dfp_cases = dft_cases.groupby('state')[dt_yday].sum()\n",
    "dfp_deaths = dft_deaths.groupby('state')[dt_yday].sum()"
   ]
  },
  {
   "cell_type": "code",
   "execution_count": 11,
   "metadata": {
    "execution": {
     "iopub.execute_input": "2020-11-02T08:21:09.850539Z",
     "iopub.status.busy": "2020-11-02T08:21:09.849826Z",
     "iopub.status.idle": "2020-11-02T08:21:09.857315Z",
     "shell.execute_reply": "2020-11-02T08:21:09.856760Z"
    },
    "papermill": {
     "duration": 0.04043,
     "end_time": "2020-11-02T08:21:09.857472",
     "exception": false,
     "start_time": "2020-11-02T08:21:09.817042",
     "status": "completed"
    },
    "tags": []
   },
   "outputs": [
    {
     "data": {
      "text/html": [
       "<div>\n",
       "<style scoped>\n",
       "    .dataframe tbody tr th:only-of-type {\n",
       "        vertical-align: middle;\n",
       "    }\n",
       "\n",
       "    .dataframe tbody tr th {\n",
       "        vertical-align: top;\n",
       "    }\n",
       "\n",
       "    .dataframe thead th {\n",
       "        text-align: right;\n",
       "    }\n",
       "</style>\n",
       "<table border=\"1\" class=\"dataframe\">\n",
       "  <thead>\n",
       "    <tr style=\"text-align: right;\">\n",
       "      <th></th>\n",
       "      <th>states</th>\n",
       "      <th>Cases</th>\n",
       "      <th>Deaths</th>\n",
       "      <th>PCases</th>\n",
       "      <th>PDeaths</th>\n",
       "    </tr>\n",
       "  </thead>\n",
       "  <tbody>\n",
       "    <tr>\n",
       "      <th>0</th>\n",
       "      <td>Maharashtra</td>\n",
       "      <td>1683775</td>\n",
       "      <td>44024</td>\n",
       "      <td>1683775</td>\n",
       "      <td>44024</td>\n",
       "    </tr>\n",
       "    <tr>\n",
       "      <th>1</th>\n",
       "      <td>Karnataka</td>\n",
       "      <td>827064</td>\n",
       "      <td>11192</td>\n",
       "      <td>827064</td>\n",
       "      <td>11192</td>\n",
       "    </tr>\n",
       "    <tr>\n",
       "      <th>2</th>\n",
       "      <td>Andhra Pradesh</td>\n",
       "      <td>825966</td>\n",
       "      <td>6706</td>\n",
       "      <td>825966</td>\n",
       "      <td>6706</td>\n",
       "    </tr>\n",
       "    <tr>\n",
       "      <th>3</th>\n",
       "      <td>Tamil Nadu</td>\n",
       "      <td>727026</td>\n",
       "      <td>11152</td>\n",
       "      <td>727026</td>\n",
       "      <td>11152</td>\n",
       "    </tr>\n",
       "    <tr>\n",
       "      <th>4</th>\n",
       "      <td>Uttar Pradesh</td>\n",
       "      <td>483832</td>\n",
       "      <td>7051</td>\n",
       "      <td>483832</td>\n",
       "      <td>7051</td>\n",
       "    </tr>\n",
       "  </tbody>\n",
       "</table>\n",
       "</div>"
      ],
      "text/plain": [
       "           states    Cases  Deaths   PCases  PDeaths\n",
       "0     Maharashtra  1683775   44024  1683775    44024\n",
       "1       Karnataka   827064   11192   827064    11192\n",
       "2  Andhra Pradesh   825966    6706   825966     6706\n",
       "3      Tamil Nadu   727026   11152   727026    11152\n",
       "4   Uttar Pradesh   483832    7051   483832     7051"
      ]
     },
     "execution_count": 11,
     "metadata": {},
     "output_type": "execute_result"
    }
   ],
   "source": [
    "#hide\n",
    "df_table = pd.DataFrame({'states': dfc_cases.index, 'Cases': dfc_cases.values, 'Deaths': dfc_deaths.values, 'PCases': dfp_cases.values, 'PDeaths': dfp_deaths.values}).set_index('states')\n",
    "df_table = df_table.sort_values(by = ['Cases','Deaths'], ascending = [False, False])\n",
    "df_table = df_table.reset_index()\n",
    "df_table.head()"
   ]
  },
  {
   "cell_type": "code",
   "execution_count": 12,
   "metadata": {
    "execution": {
     "iopub.execute_input": "2020-11-02T08:21:09.900762Z",
     "iopub.status.busy": "2020-11-02T08:21:09.900044Z",
     "iopub.status.idle": "2020-11-02T08:21:09.910242Z",
     "shell.execute_reply": "2020-11-02T08:21:09.909618Z"
    },
    "papermill": {
     "duration": 0.035067,
     "end_time": "2020-11-02T08:21:09.910406",
     "exception": false,
     "start_time": "2020-11-02T08:21:09.875339",
     "status": "completed"
    },
    "tags": []
   },
   "outputs": [],
   "source": [
    "#hide\n",
    "for c in 'Cases, Deaths'.split(', '):\n",
    "    df_table[f'{c} (+)'] = (df_table[c] - df_table[f'P{c}']).clip(0)\n",
    "df_table['Fatality Rate'] = (100* df_table['Deaths']/ df_table['Cases']).round(2)"
   ]
  },
  {
   "cell_type": "code",
   "execution_count": 13,
   "metadata": {
    "execution": {
     "iopub.execute_input": "2020-11-02T08:21:09.958795Z",
     "iopub.status.busy": "2020-11-02T08:21:09.958071Z",
     "iopub.status.idle": "2020-11-02T08:21:09.960871Z",
     "shell.execute_reply": "2020-11-02T08:21:09.961516Z"
    },
    "papermill": {
     "duration": 0.032815,
     "end_time": "2020-11-02T08:21:09.961689",
     "exception": false,
     "start_time": "2020-11-02T08:21:09.928874",
     "status": "completed"
    },
    "tags": []
   },
   "outputs": [
    {
     "data": {
      "text/html": [
       "<div>\n",
       "<style scoped>\n",
       "    .dataframe tbody tr th:only-of-type {\n",
       "        vertical-align: middle;\n",
       "    }\n",
       "\n",
       "    .dataframe tbody tr th {\n",
       "        vertical-align: top;\n",
       "    }\n",
       "\n",
       "    .dataframe thead th {\n",
       "        text-align: right;\n",
       "    }\n",
       "</style>\n",
       "<table border=\"1\" class=\"dataframe\">\n",
       "  <thead>\n",
       "    <tr style=\"text-align: right;\">\n",
       "      <th></th>\n",
       "      <th>states</th>\n",
       "      <th>Cases</th>\n",
       "      <th>Deaths</th>\n",
       "      <th>PCases</th>\n",
       "      <th>PDeaths</th>\n",
       "      <th>Cases (+)</th>\n",
       "      <th>Deaths (+)</th>\n",
       "      <th>Fatality Rate</th>\n",
       "    </tr>\n",
       "  </thead>\n",
       "  <tbody>\n",
       "    <tr>\n",
       "      <th>0</th>\n",
       "      <td>Maharashtra</td>\n",
       "      <td>1683775</td>\n",
       "      <td>44024</td>\n",
       "      <td>1683775</td>\n",
       "      <td>44024</td>\n",
       "      <td>0</td>\n",
       "      <td>0</td>\n",
       "      <td>2.61</td>\n",
       "    </tr>\n",
       "    <tr>\n",
       "      <th>1</th>\n",
       "      <td>Karnataka</td>\n",
       "      <td>827064</td>\n",
       "      <td>11192</td>\n",
       "      <td>827064</td>\n",
       "      <td>11192</td>\n",
       "      <td>0</td>\n",
       "      <td>0</td>\n",
       "      <td>1.35</td>\n",
       "    </tr>\n",
       "    <tr>\n",
       "      <th>2</th>\n",
       "      <td>Andhra Pradesh</td>\n",
       "      <td>825966</td>\n",
       "      <td>6706</td>\n",
       "      <td>825966</td>\n",
       "      <td>6706</td>\n",
       "      <td>0</td>\n",
       "      <td>0</td>\n",
       "      <td>0.81</td>\n",
       "    </tr>\n",
       "    <tr>\n",
       "      <th>3</th>\n",
       "      <td>Tamil Nadu</td>\n",
       "      <td>727026</td>\n",
       "      <td>11152</td>\n",
       "      <td>727026</td>\n",
       "      <td>11152</td>\n",
       "      <td>0</td>\n",
       "      <td>0</td>\n",
       "      <td>1.53</td>\n",
       "    </tr>\n",
       "    <tr>\n",
       "      <th>4</th>\n",
       "      <td>Uttar Pradesh</td>\n",
       "      <td>483832</td>\n",
       "      <td>7051</td>\n",
       "      <td>483832</td>\n",
       "      <td>7051</td>\n",
       "      <td>0</td>\n",
       "      <td>0</td>\n",
       "      <td>1.46</td>\n",
       "    </tr>\n",
       "  </tbody>\n",
       "</table>\n",
       "</div>"
      ],
      "text/plain": [
       "           states    Cases  Deaths   PCases  PDeaths  Cases (+)  Deaths (+)  \\\n",
       "0     Maharashtra  1683775   44024  1683775    44024          0           0   \n",
       "1       Karnataka   827064   11192   827064    11192          0           0   \n",
       "2  Andhra Pradesh   825966    6706   825966     6706          0           0   \n",
       "3      Tamil Nadu   727026   11152   727026    11152          0           0   \n",
       "4   Uttar Pradesh   483832    7051   483832     7051          0           0   \n",
       "\n",
       "   Fatality Rate  \n",
       "0           2.61  \n",
       "1           1.35  \n",
       "2           0.81  \n",
       "3           1.53  \n",
       "4           1.46  "
      ]
     },
     "execution_count": 13,
     "metadata": {},
     "output_type": "execute_result"
    }
   ],
   "source": [
    "#hide\n",
    "df_table.head()"
   ]
  },
  {
   "cell_type": "code",
   "execution_count": 14,
   "metadata": {
    "execution": {
     "iopub.execute_input": "2020-11-02T08:21:10.007129Z",
     "iopub.status.busy": "2020-11-02T08:21:10.006476Z",
     "iopub.status.idle": "2020-11-02T08:21:10.024424Z",
     "shell.execute_reply": "2020-11-02T08:21:10.023748Z"
    },
    "papermill": {
     "duration": 0.042766,
     "end_time": "2020-11-02T08:21:10.024620",
     "exception": false,
     "start_time": "2020-11-02T08:21:09.981854",
     "status": "completed"
    },
    "tags": []
   },
   "outputs": [
    {
     "data": {
      "text/plain": [
       "{'updated': '2020-11-02',\n",
       " 'since': '2020-11-01',\n",
       " 'Cases': 8230711,\n",
       " 'PCases': 8229322,\n",
       " 'Deaths': 122651,\n",
       " 'PDeaths': 122642,\n",
       " 'Cases (+)': 1389,\n",
       " 'Deaths (+)': 9}"
      ]
     },
     "execution_count": 14,
     "metadata": {},
     "output_type": "execute_result"
    }
   ],
   "source": [
    "#hide\n",
    "summary = {'updated':dates[-1], 'since':dates[-2]}\n",
    "list_names = ['Cases', 'PCases', 'Deaths', 'PDeaths', 'Cases (+)', 'Deaths (+)']\n",
    "for name in list_names:\n",
    "    summary[name] = df_table.sum()[name]\n",
    "summary"
   ]
  },
  {
   "cell_type": "code",
   "execution_count": 15,
   "metadata": {
    "execution": {
     "iopub.execute_input": "2020-11-02T08:21:10.070043Z",
     "iopub.status.busy": "2020-11-02T08:21:10.068053Z",
     "iopub.status.idle": "2020-11-02T08:21:10.072004Z",
     "shell.execute_reply": "2020-11-02T08:21:10.072569Z"
    },
    "papermill": {
     "duration": 0.028701,
     "end_time": "2020-11-02T08:21:10.072756",
     "exception": false,
     "start_time": "2020-11-02T08:21:10.044055",
     "status": "completed"
    },
    "tags": []
   },
   "outputs": [],
   "source": [
    "#hide\n",
    "overview = '''\n",
    "<!-- #######  HTML!! #########-->\n",
    "<h1 style=\"color: #5e9ca0; text-align: center;\">India</h1>\n",
    "<p style=\"text-align: center;\">Last update: <strong>{update}</strong></p>\n",
    "<p style=\"text-align: center;\">Confirmed cases:</p>\n",
    "<p style=\"text-align: center;font-size:24px;\">{cases} (<span style=\"color: #ff0000;\">+{new}</span>)</p>\n",
    "<p style=\"text-align: center;\">Confirmed deaths:</p>\n",
    "<p style=\"text-align: center;font-size:24px;\">{deaths} (<span style=\"color: #ff0000;\">+{dnew}</span>)</p>\n",
    "'''"
   ]
  },
  {
   "cell_type": "code",
   "execution_count": 16,
   "metadata": {
    "execution": {
     "iopub.execute_input": "2020-11-02T08:21:10.118466Z",
     "iopub.status.busy": "2020-11-02T08:21:10.117779Z",
     "iopub.status.idle": "2020-11-02T08:21:10.121455Z",
     "shell.execute_reply": "2020-11-02T08:21:10.122020Z"
    },
    "papermill": {
     "duration": 0.030144,
     "end_time": "2020-11-02T08:21:10.122189",
     "exception": false,
     "start_time": "2020-11-02T08:21:10.092045",
     "status": "completed"
    },
    "tags": []
   },
   "outputs": [
    {
     "data": {
      "text/html": [
       "\n",
       "<!-- #######  HTML!! #########-->\n",
       "<h1 style=\"color: #5e9ca0; text-align: center;\">India</h1>\n",
       "<p style=\"text-align: center;\">Last update: <strong>2020-11-02</strong></p>\n",
       "<p style=\"text-align: center;\">Confirmed cases:</p>\n",
       "<p style=\"text-align: center;font-size:24px;\">8230711 (<span style=\"color: #ff0000;\">+1389</span>)</p>\n",
       "<p style=\"text-align: center;\">Confirmed deaths:</p>\n",
       "<p style=\"text-align: center;font-size:24px;\">122651 (<span style=\"color: #ff0000;\">+9</span>)</p>\n"
      ],
      "text/plain": [
       "<IPython.core.display.HTML object>"
      ]
     },
     "metadata": {},
     "output_type": "display_data"
    }
   ],
   "source": [
    "#hide_input\n",
    "update = summary['updated']\n",
    "cases = summary['Cases']\n",
    "new = summary['Cases (+)']\n",
    "deaths = summary['Deaths']\n",
    "dnew = summary['Deaths (+)']\n",
    "\n",
    "html = HTML(overview.format(update=update, cases=cases,new=new,deaths=deaths,dnew=dnew))\n",
    "\n",
    "display(html)"
   ]
  },
  {
   "cell_type": "code",
   "execution_count": 17,
   "metadata": {
    "execution": {
     "iopub.execute_input": "2020-11-02T08:21:10.178544Z",
     "iopub.status.busy": "2020-11-02T08:21:10.177839Z",
     "iopub.status.idle": "2020-11-02T08:21:10.184537Z",
     "shell.execute_reply": "2020-11-02T08:21:10.185114Z"
    },
    "papermill": {
     "duration": 0.042399,
     "end_time": "2020-11-02T08:21:10.185282",
     "exception": false,
     "start_time": "2020-11-02T08:21:10.142883",
     "status": "completed"
    },
    "tags": []
   },
   "outputs": [],
   "source": [
    "#hide\n",
    "dt_cols = list(dft_cases.columns[1:])\n",
    "dft_ct_new_cases = dft_cases.groupby('state')[dt_cols].sum().diff(axis=1).fillna(0).astype(int)\n",
    "dft_ct_new_cases.sort_values(by = dates[-1], ascending = False,inplace = True)"
   ]
  },
  {
   "cell_type": "code",
   "execution_count": 18,
   "metadata": {
    "execution": {
     "iopub.execute_input": "2020-11-02T08:21:10.251053Z",
     "iopub.status.busy": "2020-11-02T08:21:10.250380Z",
     "iopub.status.idle": "2020-11-02T08:21:10.254382Z",
     "shell.execute_reply": "2020-11-02T08:21:10.253312Z"
    },
    "papermill": {
     "duration": 0.048887,
     "end_time": "2020-11-02T08:21:10.254533",
     "exception": false,
     "start_time": "2020-11-02T08:21:10.205646",
     "status": "completed"
    },
    "tags": []
   },
   "outputs": [
    {
     "data": {
      "text/html": [
       "<div>\n",
       "<style scoped>\n",
       "    .dataframe tbody tr th:only-of-type {\n",
       "        vertical-align: middle;\n",
       "    }\n",
       "\n",
       "    .dataframe tbody tr th {\n",
       "        vertical-align: top;\n",
       "    }\n",
       "\n",
       "    .dataframe thead th {\n",
       "        text-align: right;\n",
       "    }\n",
       "</style>\n",
       "<table border=\"1\" class=\"dataframe\">\n",
       "  <thead>\n",
       "    <tr style=\"text-align: right;\">\n",
       "      <th>states</th>\n",
       "      <th>2020-07-01</th>\n",
       "      <th>2020-07-02</th>\n",
       "      <th>2020-07-03</th>\n",
       "      <th>2020-07-04</th>\n",
       "      <th>2020-07-05</th>\n",
       "      <th>2020-07-06</th>\n",
       "      <th>2020-07-07</th>\n",
       "      <th>2020-07-08</th>\n",
       "      <th>2020-07-09</th>\n",
       "      <th>2020-07-10</th>\n",
       "      <th>...</th>\n",
       "      <th>2020-10-24</th>\n",
       "      <th>2020-10-25</th>\n",
       "      <th>2020-10-26</th>\n",
       "      <th>2020-10-27</th>\n",
       "      <th>2020-10-28</th>\n",
       "      <th>2020-10-29</th>\n",
       "      <th>2020-10-30</th>\n",
       "      <th>2020-10-31</th>\n",
       "      <th>2020-11-01</th>\n",
       "      <th>2020-11-02</th>\n",
       "    </tr>\n",
       "    <tr>\n",
       "      <th>state</th>\n",
       "      <th></th>\n",
       "      <th></th>\n",
       "      <th></th>\n",
       "      <th></th>\n",
       "      <th></th>\n",
       "      <th></th>\n",
       "      <th></th>\n",
       "      <th></th>\n",
       "      <th></th>\n",
       "      <th></th>\n",
       "      <th></th>\n",
       "      <th></th>\n",
       "      <th></th>\n",
       "      <th></th>\n",
       "      <th></th>\n",
       "      <th></th>\n",
       "      <th></th>\n",
       "      <th></th>\n",
       "      <th></th>\n",
       "      <th></th>\n",
       "      <th></th>\n",
       "    </tr>\n",
       "  </thead>\n",
       "  <tbody>\n",
       "    <tr>\n",
       "      <th>Odisha</th>\n",
       "      <td>0</td>\n",
       "      <td>229</td>\n",
       "      <td>561</td>\n",
       "      <td>495</td>\n",
       "      <td>469</td>\n",
       "      <td>456</td>\n",
       "      <td>571</td>\n",
       "      <td>527</td>\n",
       "      <td>577</td>\n",
       "      <td>755</td>\n",
       "      <td>...</td>\n",
       "      <td>1695</td>\n",
       "      <td>1633</td>\n",
       "      <td>1480</td>\n",
       "      <td>1247</td>\n",
       "      <td>1540</td>\n",
       "      <td>1617</td>\n",
       "      <td>1547</td>\n",
       "      <td>1470</td>\n",
       "      <td>1709</td>\n",
       "      <td>1389</td>\n",
       "    </tr>\n",
       "    <tr>\n",
       "      <th>Andaman and Nicobar Islands</th>\n",
       "      <td>0</td>\n",
       "      <td>9</td>\n",
       "      <td>7</td>\n",
       "      <td>3</td>\n",
       "      <td>6</td>\n",
       "      <td>16</td>\n",
       "      <td>6</td>\n",
       "      <td>2</td>\n",
       "      <td>7</td>\n",
       "      <td>0</td>\n",
       "      <td>...</td>\n",
       "      <td>18</td>\n",
       "      <td>20</td>\n",
       "      <td>8</td>\n",
       "      <td>21</td>\n",
       "      <td>15</td>\n",
       "      <td>16</td>\n",
       "      <td>12</td>\n",
       "      <td>15</td>\n",
       "      <td>8</td>\n",
       "      <td>0</td>\n",
       "    </tr>\n",
       "    <tr>\n",
       "      <th>Andhra Pradesh</th>\n",
       "      <td>0</td>\n",
       "      <td>845</td>\n",
       "      <td>837</td>\n",
       "      <td>765</td>\n",
       "      <td>998</td>\n",
       "      <td>1322</td>\n",
       "      <td>1178</td>\n",
       "      <td>1062</td>\n",
       "      <td>1555</td>\n",
       "      <td>1608</td>\n",
       "      <td>...</td>\n",
       "      <td>3342</td>\n",
       "      <td>2997</td>\n",
       "      <td>1901</td>\n",
       "      <td>2901</td>\n",
       "      <td>2949</td>\n",
       "      <td>2905</td>\n",
       "      <td>2886</td>\n",
       "      <td>2783</td>\n",
       "      <td>2618</td>\n",
       "      <td>0</td>\n",
       "    </tr>\n",
       "    <tr>\n",
       "      <th>Maharashtra</th>\n",
       "      <td>0</td>\n",
       "      <td>6328</td>\n",
       "      <td>6364</td>\n",
       "      <td>7074</td>\n",
       "      <td>6555</td>\n",
       "      <td>5368</td>\n",
       "      <td>5134</td>\n",
       "      <td>6603</td>\n",
       "      <td>6875</td>\n",
       "      <td>7862</td>\n",
       "      <td>...</td>\n",
       "      <td>6417</td>\n",
       "      <td>6059</td>\n",
       "      <td>3645</td>\n",
       "      <td>5363</td>\n",
       "      <td>6738</td>\n",
       "      <td>5902</td>\n",
       "      <td>6190</td>\n",
       "      <td>5548</td>\n",
       "      <td>5369</td>\n",
       "      <td>0</td>\n",
       "    </tr>\n",
       "    <tr>\n",
       "      <th>Manipur</th>\n",
       "      <td>0</td>\n",
       "      <td>19</td>\n",
       "      <td>37</td>\n",
       "      <td>9</td>\n",
       "      <td>41</td>\n",
       "      <td>24</td>\n",
       "      <td>40</td>\n",
       "      <td>5</td>\n",
       "      <td>15</td>\n",
       "      <td>132</td>\n",
       "      <td>...</td>\n",
       "      <td>245</td>\n",
       "      <td>138</td>\n",
       "      <td>264</td>\n",
       "      <td>180</td>\n",
       "      <td>205</td>\n",
       "      <td>242</td>\n",
       "      <td>221</td>\n",
       "      <td>230</td>\n",
       "      <td>248</td>\n",
       "      <td>0</td>\n",
       "    </tr>\n",
       "  </tbody>\n",
       "</table>\n",
       "<p>5 rows × 125 columns</p>\n",
       "</div>"
      ],
      "text/plain": [
       "states                       2020-07-01  2020-07-02  2020-07-03  2020-07-04  \\\n",
       "state                                                                         \n",
       "Odisha                                0         229         561         495   \n",
       "Andaman and Nicobar Islands           0           9           7           3   \n",
       "Andhra Pradesh                        0         845         837         765   \n",
       "Maharashtra                           0        6328        6364        7074   \n",
       "Manipur                               0          19          37           9   \n",
       "\n",
       "states                       2020-07-05  2020-07-06  2020-07-07  2020-07-08  \\\n",
       "state                                                                         \n",
       "Odisha                              469         456         571         527   \n",
       "Andaman and Nicobar Islands           6          16           6           2   \n",
       "Andhra Pradesh                      998        1322        1178        1062   \n",
       "Maharashtra                        6555        5368        5134        6603   \n",
       "Manipur                              41          24          40           5   \n",
       "\n",
       "states                       2020-07-09  2020-07-10  ...  2020-10-24  \\\n",
       "state                                                ...               \n",
       "Odisha                              577         755  ...        1695   \n",
       "Andaman and Nicobar Islands           7           0  ...          18   \n",
       "Andhra Pradesh                     1555        1608  ...        3342   \n",
       "Maharashtra                        6875        7862  ...        6417   \n",
       "Manipur                              15         132  ...         245   \n",
       "\n",
       "states                       2020-10-25  2020-10-26  2020-10-27  2020-10-28  \\\n",
       "state                                                                         \n",
       "Odisha                             1633        1480        1247        1540   \n",
       "Andaman and Nicobar Islands          20           8          21          15   \n",
       "Andhra Pradesh                     2997        1901        2901        2949   \n",
       "Maharashtra                        6059        3645        5363        6738   \n",
       "Manipur                             138         264         180         205   \n",
       "\n",
       "states                       2020-10-29  2020-10-30  2020-10-31  2020-11-01  \\\n",
       "state                                                                         \n",
       "Odisha                             1617        1547        1470        1709   \n",
       "Andaman and Nicobar Islands          16          12          15           8   \n",
       "Andhra Pradesh                     2905        2886        2783        2618   \n",
       "Maharashtra                        5902        6190        5548        5369   \n",
       "Manipur                             242         221         230         248   \n",
       "\n",
       "states                       2020-11-02  \n",
       "state                                    \n",
       "Odisha                             1389  \n",
       "Andaman and Nicobar Islands           0  \n",
       "Andhra Pradesh                        0  \n",
       "Maharashtra                           0  \n",
       "Manipur                               0  \n",
       "\n",
       "[5 rows x 125 columns]"
      ]
     },
     "execution_count": 18,
     "metadata": {},
     "output_type": "execute_result"
    }
   ],
   "source": [
    "#hide\n",
    "dft_ct_new_cases.head()"
   ]
  },
  {
   "cell_type": "code",
   "execution_count": 19,
   "metadata": {
    "execution": {
     "iopub.execute_input": "2020-11-02T08:21:10.328966Z",
     "iopub.status.busy": "2020-11-02T08:21:10.318598Z",
     "iopub.status.idle": "2020-11-02T08:21:15.941282Z",
     "shell.execute_reply": "2020-11-02T08:21:15.940687Z"
    },
    "papermill": {
     "duration": 5.661797,
     "end_time": "2020-11-02T08:21:15.941433",
     "exception": false,
     "start_time": "2020-11-02T08:21:10.279636",
     "status": "completed"
    },
    "tags": []
   },
   "outputs": [
    {
     "data": {
      "image/png": "[encoded data removed]",
      "text/plain": [
       "<Figure size 1296x2016 with 11 Axes>"
      ]
     },
     "metadata": {
      "needs_background": "light"
     },
     "output_type": "display_data"
    }
   ],
   "source": [
    "#hide_input\n",
    "df = dft_ct_new_cases.copy()\n",
    "df.loc['Total'] = df.sum()\n",
    "n = 5\n",
    "ax = []\n",
    "fig = plt.figure(figsize = (18,28))\n",
    "gs = fig.add_gridspec(n+2, 5)\n",
    "# gs = fig.add_gridspec(2, 3)\n",
    "ax1 = fig.add_subplot(gs[0, :])\n",
    "ef = df.loc['Total'].rename_axis('date').reset_index()\n",
    "ef['date'] = ef['date'].astype('datetime64[ns]')\n",
    "ax1.bar(ef.date,ef.Total,alpha=0.3,color='#007acc')\n",
    "ax1.plot(ef.date,ef.Total , marker=\"o\", color='#007acc')\n",
    "ax1.xaxis.set_major_locator(mdates.WeekdayLocator())\n",
    "ax1.xaxis.set_major_formatter(mdates.DateFormatter('%b %d'))\n",
    "ax1.text(0.02, 0.5,'India daily case count', transform = ax1.transAxes, fontsize=25);\n",
    "ax1.spines['right'].set_visible(False)\n",
    "ax1.spines['top'].set_visible(False)\n",
    "\n",
    "ax2 = fig.add_subplot(gs[1,0])\n",
    "ef = df.loc['Maharashtra'].rename_axis('date').reset_index()\n",
    "ef['date'] = ef['date'].astype('datetime64[ns]')\n",
    "\n",
    "ax2.bar(ef.date, ef.Maharashtra,color = '#007acc',alpha=0.5)\n",
    "ax2.xaxis.set_major_locator(mdates.WeekdayLocator())\n",
    "ax2.xaxis.set_major_formatter(mdates.DateFormatter('%b %d'))\n",
    "ax2.set_xticks(ax2.get_xticks()[::3])\n",
    "maxyval = ef.Maharashtra.max()\n",
    "ax2.set_ylim([0,maxyval])\n",
    "ax2.text(0.05, 0.9,'Maharashtra', transform = ax2.transAxes, fontsize=20);\n",
    "ax2.spines['right'].set_visible(False)\n",
    "ax2.spines['top'].set_visible(False)\n",
    "\n",
    "\n",
    "ax3 = fig.add_subplot(gs[1,1])\n",
    "ef = df.loc['Tamil Nadu'].rename_axis('date').reset_index()\n",
    "ef['date'] = ef['date'].astype('datetime64[ns]')\n",
    "ax3.bar(ef.date, ef['Tamil Nadu'],color = '#007acc',alpha=0.5,)\n",
    "ax3.xaxis.set_major_locator(mdates.WeekdayLocator())\n",
    "ax3.xaxis.set_major_formatter(mdates.DateFormatter('%b %d'))\n",
    "ax3.set_xticks(ax3.get_xticks()[::3])\n",
    "ax3.text(0.05, 0.9,'Tamil Nadu', transform = ax3.transAxes, fontsize=20);\n",
    "ax3.spines['right'].set_visible(False)\n",
    "ax3.spines['top'].set_visible(False)\n",
    "\n",
    "ax5 = fig.add_subplot(gs[1,3])\n",
    "ef = df.loc['Telangana'].rename_axis('date').reset_index()\n",
    "ef['date'] = ef['date'].astype('datetime64[ns]')\n",
    "ax5.bar(ef.date, ef['Telangana'],color = '#007acc',alpha=0.5,)\n",
    "ax5.xaxis.set_major_locator(mdates.WeekdayLocator())\n",
    "ax5.xaxis.set_major_formatter(mdates.DateFormatter('%b %d'))\n",
    "ax5.set_xticks(ax5.get_xticks()[::3])\n",
    "ax5.text(0.05, 0.9,'Telangana', transform = ax5.transAxes, fontsize=20);\n",
    "ax5.spines['right'].set_visible(False)\n",
    "ax5.spines['top'].set_visible(False)\n",
    "\n",
    "ax6 = fig.add_subplot(gs[1,4])\n",
    "ef = df.loc['Andhra Pradesh'].rename_axis('date').reset_index()\n",
    "ef['date'] = ef['date'].astype('datetime64[ns]')\n",
    "ax6.bar(ef.date, ef['Andhra Pradesh'],color = '#007acc',alpha=0.5,)\n",
    "ax6.xaxis.set_major_locator(mdates.WeekdayLocator())\n",
    "ax6.xaxis.set_major_formatter(mdates.DateFormatter('%b %d'))\n",
    "ax6.set_xticks(ax6.get_xticks()[::3])\n",
    "ax6.text(0.05, 1,'Andhra Pradesh', transform = ax6.transAxes, fontsize=20);\n",
    "ax6.spines['right'].set_visible(False)\n",
    "ax6.spines['top'].set_visible(False)\n",
    "\n",
    "ax4 = fig.add_subplot(gs[1,2])\n",
    "ef = df.loc['Delhi'].rename_axis('date').reset_index()\n",
    "ef['date'] = ef['date'].astype('datetime64[ns]')\n",
    "ax4.bar(ef.date, ef.Delhi,color = '#007acc',alpha=0.5)\n",
    "ax4.set_xticks([])\n",
    "ax4.xaxis.set_major_locator(mdates.WeekdayLocator())\n",
    "ax4.xaxis.set_major_formatter(mdates.DateFormatter('%b %d'))\n",
    "ax4.set_xticks(ax4.get_xticks()[::3])\n",
    "ax4.spines['right'].set_visible(False)\n",
    "ax4.spines['top'].set_visible(False)\n",
    "\n",
    "ax4.text(0.05, 1,'Delhi', transform = ax4.transAxes, fontsize=20)\n",
    "\n",
    "for i in range(n):\n",
    "    \n",
    "    ax.append(fig.add_subplot(gs[i+2,:]))\n",
    "    ef = df.iloc[i+3].rename_axis('date').reset_index()\n",
    "    ef['date'] = ef['date'].astype('datetime64[ns]')\n",
    "    ax[i].bar(ef.date,ef.iloc[:,-1],color = '#007acc',alpha=0.3)\n",
    "    ax[i].plot(ef.date,ef.iloc[:,-1],marker='o',color='#007acc')\n",
    "    ax[i].text(0.02,0.5,f'{ef.columns.values[-1]}',transform = ax[i].transAxes, fontsize = 20);\n",
    "    ax[i].xaxis.set_major_locator(mdates.WeekdayLocator())\n",
    "    ax[i].xaxis.set_major_formatter(mdates.DateFormatter('%b %d'))\n",
    "    ax[i].set_ylim([0,7000])\n",
    "    ax[i].spines['right'].set_visible(False)\n",
    "    ax[i].spines['top'].set_visible(False)\n",
    "plt.tight_layout()\n"
   ]
  },
  {
   "cell_type": "code",
   "execution_count": 20,
   "metadata": {
    "execution": {
     "iopub.execute_input": "2020-11-02T08:21:15.997298Z",
     "iopub.status.busy": "2020-11-02T08:21:15.996569Z",
     "iopub.status.idle": "2020-11-02T08:21:15.999421Z",
     "shell.execute_reply": "2020-11-02T08:21:16.000173Z"
    },
    "papermill": {
     "duration": 0.036307,
     "end_time": "2020-11-02T08:21:16.000339",
     "exception": false,
     "start_time": "2020-11-02T08:21:15.964032",
     "status": "completed"
    },
    "tags": []
   },
   "outputs": [
    {
     "name": "stdout",
     "output_type": "stream",
     "text": [
      "                                   states    Cases  Deaths   PCases  PDeaths  Cases (+)  Deaths (+)  Fatality Rate\n",
      "                              Maharashtra  1683775   44024  1683775    44024          0           0           2.61\n",
      "                                Karnataka   827064   11192   827064    11192          0           0           1.35\n",
      "                           Andhra Pradesh   825966    6706   825966     6706          0           0           0.81\n",
      "                               Tamil Nadu   727026   11152   727026    11152          0           0           1.53\n",
      "                            Uttar Pradesh   483832    7051   483832     7051          0           0           1.46\n",
      "                                   Kerala   440131    1513   440131     1513          0           0           0.34\n",
      "                                    Delhi   392370    6562   392370     6562          0           0           1.67\n",
      "                              West Bengal   377651    6900   377651     6900          0           0           1.83\n",
      "                                   Odisha   293214    1393   291825     1384       1389           9           0.48\n",
      "                                Telangana   240048    1341   240048     1341          0           0           0.56\n",
      "                                    Bihar   217541    1097   217541     1097          0           0           0.50\n",
      "                                    Assam   206517     931   206517      931          0           0           0.45\n",
      "                                Rajasthan   198747    1917   198747     1917          0           0           0.96\n",
      "                             Chhattisgarh   188813    2150   188813     2150          0           0           1.14\n",
      "                                  Gujarat   173804    3724   173804     3724          0           0           2.14\n",
      "                           Madhya Pradesh   172082    2958   172082     2958          0           0           1.72\n",
      "                                  Haryana   168880    1795   168880     1795          0           0           1.06\n",
      "                                   Punjab   133975    4214   133975     4214          0           0           3.15\n",
      "                                Jharkhand   102087     885   102087      885          0           0           0.87\n",
      "                        Jammu and Kashmir    95325    1482    95325     1482          0           0           1.55\n",
      "                              Uttarakhand    62550    1027    62550     1027          0           0           1.64\n",
      "                                      Goa    43768     609    43768      609          0           0           1.39\n",
      "                               Puducherry    35109     595    35109      595          0           0           1.69\n",
      "                                  Tripura    30791     343    30791      343          0           0           1.11\n",
      "                         Himachal Pradesh    22264     320    22264      320          0           0           1.44\n",
      "                                  Manipur    18750     171    18750      171          0           0           0.91\n",
      "                        Arunachal Pradesh    14881      37    14881       37          0           0           0.25\n",
      "                               Chandigarh    14476     226    14476      226          0           0           1.56\n",
      "                                Meghalaya     9607      90     9607       90          0           0           0.94\n",
      "                                 Nagaland     9075      39     9075       39          0           0           0.43\n",
      "                                   Ladakh     6287      75     6287       75          0           0           1.19\n",
      "              Andaman and Nicobar Islands     4340      60     4340       60          0           0           1.38\n",
      "                                   Sikkim     3958      69     3958       69          0           0           1.74\n",
      " Dadra and Nagar Haveli and Daman and Diu     3251       2     3251        2          0           0           0.06\n",
      "                                  Mizoram     2756       1     2756        1          0           0           0.04\n",
      "                              Lakshadweep        0       0        0        0          0           0            NaN\n"
     ]
    }
   ],
   "source": [
    "#hide_input\n",
    "print(df_table.to_string(index=False))"
   ]
  },
  {
   "cell_type": "code",
   "execution_count": null,
   "metadata": {
    "papermill": {
     "duration": 0.023843,
     "end_time": "2020-11-02T08:21:16.048900",
     "exception": false,
     "start_time": "2020-11-02T08:21:16.025057",
     "status": "completed"
    },
    "tags": []
   },
   "outputs": [],
   "source": []
  },
  {
   "cell_type": "code",
   "execution_count": null,
   "metadata": {
    "papermill": {
     "duration": 0.024149,
     "end_time": "2020-11-02T08:21:16.097348",
     "exception": false,
     "start_time": "2020-11-02T08:21:16.073199",
     "status": "completed"
    },
    "tags": []
   },
   "outputs": [],
   "source": []
  }
 ],
 "metadata": {
  "kernelspec": {
   "display_name": "Python 3",
   "language": "python",
   "name": "python3"
  },
  "language_info": {
   "codemirror_mode": {
    "name": "ipython",
    "version": 3
   },
   "file_extension": ".py",
   "mimetype": "text/x-python",
   "name": "python",
   "nbconvert_exporter": "python",
   "pygments_lexer": "ipython3",
   "version": "3.6.12"
  },
  "papermill": {
   "duration": 13.676254,
   "end_time": "2020-11-02T08:21:16.633743",
   "environment_variables": {},
   "exception": null,
   "input_path": "latest.ipynb",
   "output_path": "latest.ipynb",
   "parameters": {},
   "start_time": "2020-11-02T08:21:02.957489",
   "version": "2.1.2"
  }
 },
 "nbformat": 4,
 "nbformat_minor": 4
}