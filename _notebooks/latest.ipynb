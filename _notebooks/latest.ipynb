{
 "cells": [
  {
   "cell_type": "markdown",
   "metadata": {
    "papermill": {
     "duration": 0.029416,
     "end_time": "2020-09-06T06:37:11.418449",
     "exception": false,
     "start_time": "2020-09-06T06:37:11.389033",
     "status": "completed"
    },
    "tags": []
   },
   "source": [
    "# Latest COVID-19 India Matplotlib Overview"
   ]
  },
  {
   "cell_type": "code",
   "execution_count": 1,
   "metadata": {
    "execution": {
     "iopub.execute_input": "2020-09-06T06:37:11.457472Z",
     "iopub.status.busy": "2020-09-06T06:37:11.456779Z",
     "iopub.status.idle": "2020-09-06T06:37:12.177829Z",
     "shell.execute_reply": "2020-09-06T06:37:12.177172Z"
    },
    "papermill": {
     "duration": 0.741507,
     "end_time": "2020-09-06T06:37:12.177996",
     "exception": false,
     "start_time": "2020-09-06T06:37:11.436489",
     "status": "completed"
    },
    "tags": []
   },
   "outputs": [],
   "source": [
    "#hide\n",
    "import pandas as pd\n",
    "import numpy as np\n",
    "import requests\n",
    "import json\n",
    "import matplotlib.pyplot as plt\n",
    "import matplotlib.dates as mdates\n",
    "import matplotlib as mpl\n",
    "from IPython.core.display import display,HTML\n",
    "%matplotlib inline\n",
    "from datetime import date"
   ]
  },
  {
   "cell_type": "code",
   "execution_count": 2,
   "metadata": {
    "execution": {
     "iopub.execute_input": "2020-09-06T06:37:12.224563Z",
     "iopub.status.busy": "2020-09-06T06:37:12.223457Z",
     "iopub.status.idle": "2020-09-06T06:37:12.562746Z",
     "shell.execute_reply": "2020-09-06T06:37:12.562168Z"
    },
    "papermill": {
     "duration": 0.364811,
     "end_time": "2020-09-06T06:37:12.562900",
     "exception": false,
     "start_time": "2020-09-06T06:37:12.198089",
     "status": "completed"
    },
    "tags": []
   },
   "outputs": [],
   "source": [
    "#hide\n",
    "df  = pd.read_csv('https://api.covid19india.org/csv/latest/states.csv')\n",
    "df = df[['Date','State','Confirmed','Deceased']]\n",
    "df = df.rename(columns={'Confirmed':'Cases', \"Deceased\":'Deaths'})\n",
    "df_cases = df[[\"Date\",'State','Cases']]\n",
    "df_deaths = df[['Date','State','Deaths']]\n",
    "df_cases1 = df_cases.groupby('Date')\n",
    "df_deaths1= df_deaths.groupby('Date')"
   ]
  },
  {
   "cell_type": "code",
   "execution_count": 3,
   "metadata": {
    "execution": {
     "iopub.execute_input": "2020-09-06T06:37:12.738196Z",
     "iopub.status.busy": "2020-09-06T06:37:12.737503Z",
     "iopub.status.idle": "2020-09-06T06:37:12.757283Z",
     "shell.execute_reply": "2020-09-06T06:37:12.756644Z"
    },
    "papermill": {
     "duration": 0.144151,
     "end_time": "2020-09-06T06:37:12.757433",
     "exception": false,
     "start_time": "2020-09-06T06:37:12.613282",
     "status": "completed"
    },
    "tags": []
   },
   "outputs": [],
   "source": [
    "#hide\n",
    "df_snap = pd.read_csv('data/SnapshotCases-28-July.csv')\n",
    "arr_states = df_snap['states'].unique()\n",
    "arr_dates = df['Date'].unique()\n",
    "df_snap = df_snap.set_index('states')"
   ]
  },
  {
   "cell_type": "code",
   "execution_count": 4,
   "metadata": {
    "execution": {
     "iopub.execute_input": "2020-09-06T06:37:13.444440Z",
     "iopub.status.busy": "2020-09-06T06:37:13.438371Z",
     "iopub.status.idle": "2020-09-06T06:37:13.450021Z",
     "shell.execute_reply": "2020-09-06T06:37:13.450953Z"
    },
    "papermill": {
     "duration": 0.21754,
     "end_time": "2020-09-06T06:37:13.451139",
     "exception": false,
     "start_time": "2020-09-06T06:37:13.233599",
     "status": "completed"
    },
    "tags": []
   },
   "outputs": [
    {
     "data": {
      "text/plain": [
       "array(['Andaman and Nicobar Islands', 'Andhra Pradesh',\n",
       "       'Arunachal Pradesh', 'Assam', 'Bihar', 'Chandigarh',\n",
       "       'Dadra and Nagar Haveli and Daman and Diu', 'Delhi', 'Goa',\n",
       "       'Gujarat', 'Haryana', 'Himachal Pradesh', 'Jammu and Kashmir',\n",
       "       'Jharkhand', 'Karnataka', 'Kerala', 'Lakshadweep',\n",
       "       'Madhya Pradesh', 'Maharashtra', 'Manipur', 'Meghalaya', 'Mizoram',\n",
       "       'Nagaland', 'Odisha', 'Puducherry', 'Punjab', 'Rajasthan',\n",
       "       'Sikkim', 'Tamil Nadu', 'Telangana', 'Tripura', 'Uttar Pradesh',\n",
       "       'West Bengal', 'Chhattisgarh', 'Ladakh', 'Uttarakhand'],\n",
       "      dtype=object)"
      ]
     },
     "execution_count": 4,
     "metadata": {},
     "output_type": "execute_result"
    }
   ],
   "source": [
    "#hide\n",
    "arr_states[-9] = 'Puducherry'\n",
    "arr_states[-10] = 'Odisha'\n",
    "arr_states[6] = 'Dadra and Nagar Haveli and Daman and Diu'\n",
    "arr_states = np.append(arr_states,np.array(['Chhattisgarh','Ladakh','Uttarakhand']))\n",
    "arr_states"
   ]
  },
  {
   "cell_type": "code",
   "execution_count": 5,
   "metadata": {
    "execution": {
     "iopub.execute_input": "2020-09-06T06:37:13.994173Z",
     "iopub.status.busy": "2020-09-06T06:37:13.993452Z",
     "iopub.status.idle": "2020-09-06T06:37:14.001584Z",
     "shell.execute_reply": "2020-09-06T06:37:14.002121Z"
    },
    "papermill": {
     "duration": 0.219308,
     "end_time": "2020-09-06T06:37:14.002305",
     "exception": false,
     "start_time": "2020-09-06T06:37:13.782997",
     "status": "completed"
    },
    "tags": []
   },
   "outputs": [],
   "source": [
    "#hide\n",
    "dates = []\n",
    "for i in arr_dates:\n",
    "    if i>='2020-07-01':\n",
    "        dates.append(i)\n",
    "dict = {'states':dates}\n",
    "for i in arr_states:\n",
    "    dict[i] = [0]*len(dates)\n",
    "dft_cases = pd.DataFrame(dict)\n",
    "dft_deaths = pd.DataFrame(dict)\n"
   ]
  },
  {
   "cell_type": "code",
   "execution_count": 6,
   "metadata": {
    "execution": {
     "iopub.execute_input": "2020-09-06T06:37:14.050408Z",
     "iopub.status.busy": "2020-09-06T06:37:14.049414Z",
     "iopub.status.idle": "2020-09-06T06:37:15.353536Z",
     "shell.execute_reply": "2020-09-06T06:37:15.352853Z"
    },
    "papermill": {
     "duration": 1.333317,
     "end_time": "2020-09-06T06:37:15.353690",
     "exception": false,
     "start_time": "2020-09-06T06:37:14.020373",
     "status": "completed"
    },
    "tags": []
   },
   "outputs": [],
   "source": [
    "#hide\n",
    "for i in range(len(dates)):\n",
    "    df1_deaths = df_deaths1.get_group(dates[i])\n",
    "    for j in range(len(df1_deaths.index)):\n",
    "        if df1_deaths.iloc[j,1] in arr_states:\n",
    "            dft_deaths.loc[i,df1_deaths.iloc[j,1]] = df1_deaths.iloc[j,2]\n",
    "dft_deaths = dft_deaths.set_index('states')"
   ]
  },
  {
   "cell_type": "code",
   "execution_count": 7,
   "metadata": {
    "execution": {
     "iopub.execute_input": "2020-09-06T06:37:15.400737Z",
     "iopub.status.busy": "2020-09-06T06:37:15.399969Z",
     "iopub.status.idle": "2020-09-06T06:37:16.647440Z",
     "shell.execute_reply": "2020-09-06T06:37:16.646845Z"
    },
    "papermill": {
     "duration": 1.273876,
     "end_time": "2020-09-06T06:37:16.647605",
     "exception": false,
     "start_time": "2020-09-06T06:37:15.373729",
     "status": "completed"
    },
    "tags": []
   },
   "outputs": [],
   "source": [
    "#hide\n",
    "for i in range(len(dates)):\n",
    "    df1_cases = df_cases1.get_group(dates[i])\n",
    "    for j in range(len(df1_cases.index)):\n",
    "        if df1_cases.iloc[j,1] in arr_states:\n",
    "            dft_cases.loc[i,df1_cases.iloc[j,1]] = df1_cases.iloc[j,2]\n",
    "dft_cases = dft_cases.set_index('states')"
   ]
  },
  {
   "cell_type": "code",
   "execution_count": 8,
   "metadata": {
    "execution": {
     "iopub.execute_input": "2020-09-06T06:37:16.691197Z",
     "iopub.status.busy": "2020-09-06T06:37:16.690455Z",
     "iopub.status.idle": "2020-09-06T06:37:16.695020Z",
     "shell.execute_reply": "2020-09-06T06:37:16.694453Z"
    },
    "papermill": {
     "duration": 0.029217,
     "end_time": "2020-09-06T06:37:16.695181",
     "exception": false,
     "start_time": "2020-09-06T06:37:16.665964",
     "status": "completed"
    },
    "tags": []
   },
   "outputs": [],
   "source": [
    "#hide\n",
    "dft_cases = dft_cases.T\n",
    "dft_deaths = dft_deaths.T\n",
    "dt_today = dates[-1]\n",
    "dt_yday = dates[-2]"
   ]
  },
  {
   "cell_type": "code",
   "execution_count": 9,
   "metadata": {
    "execution": {
     "iopub.execute_input": "2020-09-06T06:37:16.740810Z",
     "iopub.status.busy": "2020-09-06T06:37:16.740057Z",
     "iopub.status.idle": "2020-09-06T06:37:16.742966Z",
     "shell.execute_reply": "2020-09-06T06:37:16.742247Z"
    },
    "papermill": {
     "duration": 0.029833,
     "end_time": "2020-09-06T06:37:16.743115",
     "exception": false,
     "start_time": "2020-09-06T06:37:16.713282",
     "status": "completed"
    },
    "tags": []
   },
   "outputs": [],
   "source": [
    "#hide\n",
    "dft_cases = dft_cases.reset_index()\n",
    "dft_deaths = dft_deaths.reset_index()\n",
    "dft_cases = dft_cases.rename(columns = {'index':'state'})\n",
    "dft_deaths = dft_deaths.rename(columns = {'index':'state'})"
   ]
  },
  {
   "cell_type": "code",
   "execution_count": 10,
   "metadata": {
    "execution": {
     "iopub.execute_input": "2020-09-06T06:37:16.795545Z",
     "iopub.status.busy": "2020-09-06T06:37:16.794805Z",
     "iopub.status.idle": "2020-09-06T06:37:16.797373Z",
     "shell.execute_reply": "2020-09-06T06:37:16.796715Z"
    },
    "papermill": {
     "duration": 0.036277,
     "end_time": "2020-09-06T06:37:16.797520",
     "exception": false,
     "start_time": "2020-09-06T06:37:16.761243",
     "status": "completed"
    },
    "tags": []
   },
   "outputs": [],
   "source": [
    "#hide\n",
    "dfc_cases = dft_cases.groupby('state')[dt_today].sum()\n",
    "dfc_deaths = dft_deaths.groupby('state')[dt_today].sum()\n",
    "dfp_cases = dft_cases.groupby('state')[dt_yday].sum()\n",
    "dfp_deaths = dft_deaths.groupby('state')[dt_yday].sum()"
   ]
  },
  {
   "cell_type": "code",
   "execution_count": 11,
   "metadata": {
    "execution": {
     "iopub.execute_input": "2020-09-06T06:37:16.841498Z",
     "iopub.status.busy": "2020-09-06T06:37:16.840798Z",
     "iopub.status.idle": "2020-09-06T06:37:16.856559Z",
     "shell.execute_reply": "2020-09-06T06:37:16.857166Z"
    },
    "papermill": {
     "duration": 0.041608,
     "end_time": "2020-09-06T06:37:16.857351",
     "exception": false,
     "start_time": "2020-09-06T06:37:16.815743",
     "status": "completed"
    },
    "tags": []
   },
   "outputs": [
    {
     "data": {
      "text/html": [
       "<div>\n",
       "<style scoped>\n",
       "    .dataframe tbody tr th:only-of-type {\n",
       "        vertical-align: middle;\n",
       "    }\n",
       "\n",
       "    .dataframe tbody tr th {\n",
       "        vertical-align: top;\n",
       "    }\n",
       "\n",
       "    .dataframe thead th {\n",
       "        text-align: right;\n",
       "    }\n",
       "</style>\n",
       "<table border=\"1\" class=\"dataframe\">\n",
       "  <thead>\n",
       "    <tr style=\"text-align: right;\">\n",
       "      <th></th>\n",
       "      <th>states</th>\n",
       "      <th>Cases</th>\n",
       "      <th>Deaths</th>\n",
       "      <th>PCases</th>\n",
       "      <th>PDeaths</th>\n",
       "    </tr>\n",
       "  </thead>\n",
       "  <tbody>\n",
       "    <tr>\n",
       "      <th>0</th>\n",
       "      <td>Maharashtra</td>\n",
       "      <td>883862</td>\n",
       "      <td>26276</td>\n",
       "      <td>883862</td>\n",
       "      <td>26276</td>\n",
       "    </tr>\n",
       "    <tr>\n",
       "      <th>1</th>\n",
       "      <td>Andhra Pradesh</td>\n",
       "      <td>487331</td>\n",
       "      <td>4347</td>\n",
       "      <td>487331</td>\n",
       "      <td>4347</td>\n",
       "    </tr>\n",
       "    <tr>\n",
       "      <th>2</th>\n",
       "      <td>Tamil Nadu</td>\n",
       "      <td>457697</td>\n",
       "      <td>7751</td>\n",
       "      <td>457697</td>\n",
       "      <td>7751</td>\n",
       "    </tr>\n",
       "    <tr>\n",
       "      <th>3</th>\n",
       "      <td>Karnataka</td>\n",
       "      <td>389232</td>\n",
       "      <td>6298</td>\n",
       "      <td>389232</td>\n",
       "      <td>6298</td>\n",
       "    </tr>\n",
       "    <tr>\n",
       "      <th>4</th>\n",
       "      <td>Uttar Pradesh</td>\n",
       "      <td>259765</td>\n",
       "      <td>3843</td>\n",
       "      <td>259765</td>\n",
       "      <td>3843</td>\n",
       "    </tr>\n",
       "  </tbody>\n",
       "</table>\n",
       "</div>"
      ],
      "text/plain": [
       "           states   Cases  Deaths  PCases  PDeaths\n",
       "0     Maharashtra  883862   26276  883862    26276\n",
       "1  Andhra Pradesh  487331    4347  487331     4347\n",
       "2      Tamil Nadu  457697    7751  457697     7751\n",
       "3       Karnataka  389232    6298  389232     6298\n",
       "4   Uttar Pradesh  259765    3843  259765     3843"
      ]
     },
     "execution_count": 11,
     "metadata": {},
     "output_type": "execute_result"
    }
   ],
   "source": [
    "#hide\n",
    "df_table = pd.DataFrame({'states': dfc_cases.index, 'Cases': dfc_cases.values, 'Deaths': dfc_deaths.values, 'PCases': dfp_cases.values, 'PDeaths': dfp_deaths.values}).set_index('states')\n",
    "df_table = df_table.sort_values(by = ['Cases','Deaths'], ascending = [False, False])\n",
    "df_table = df_table.reset_index()\n",
    "df_table.head()"
   ]
  },
  {
   "cell_type": "code",
   "execution_count": 12,
   "metadata": {
    "execution": {
     "iopub.execute_input": "2020-09-06T06:37:16.900169Z",
     "iopub.status.busy": "2020-09-06T06:37:16.899502Z",
     "iopub.status.idle": "2020-09-06T06:37:16.910511Z",
     "shell.execute_reply": "2020-09-06T06:37:16.909858Z"
    },
    "papermill": {
     "duration": 0.035328,
     "end_time": "2020-09-06T06:37:16.910660",
     "exception": false,
     "start_time": "2020-09-06T06:37:16.875332",
     "status": "completed"
    },
    "tags": []
   },
   "outputs": [],
   "source": [
    "#hide\n",
    "for c in 'Cases, Deaths'.split(', '):\n",
    "    df_table[f'{c} (+)'] = (df_table[c] - df_table[f'P{c}']).clip(0)\n",
    "df_table['Fatality Rate'] = (100* df_table['Deaths']/ df_table['Cases']).round(2)"
   ]
  },
  {
   "cell_type": "code",
   "execution_count": 13,
   "metadata": {
    "execution": {
     "iopub.execute_input": "2020-09-06T06:37:16.961377Z",
     "iopub.status.busy": "2020-09-06T06:37:16.960625Z",
     "iopub.status.idle": "2020-09-06T06:37:16.964672Z",
     "shell.execute_reply": "2020-09-06T06:37:16.965306Z"
    },
    "papermill": {
     "duration": 0.035846,
     "end_time": "2020-09-06T06:37:16.965470",
     "exception": false,
     "start_time": "2020-09-06T06:37:16.929624",
     "status": "completed"
    },
    "tags": []
   },
   "outputs": [
    {
     "data": {
      "text/html": [
       "<div>\n",
       "<style scoped>\n",
       "    .dataframe tbody tr th:only-of-type {\n",
       "        vertical-align: middle;\n",
       "    }\n",
       "\n",
       "    .dataframe tbody tr th {\n",
       "        vertical-align: top;\n",
       "    }\n",
       "\n",
       "    .dataframe thead th {\n",
       "        text-align: right;\n",
       "    }\n",
       "</style>\n",
       "<table border=\"1\" class=\"dataframe\">\n",
       "  <thead>\n",
       "    <tr style=\"text-align: right;\">\n",
       "      <th></th>\n",
       "      <th>states</th>\n",
       "      <th>Cases</th>\n",
       "      <th>Deaths</th>\n",
       "      <th>PCases</th>\n",
       "      <th>PDeaths</th>\n",
       "      <th>Cases (+)</th>\n",
       "      <th>Deaths (+)</th>\n",
       "      <th>Fatality Rate</th>\n",
       "    </tr>\n",
       "  </thead>\n",
       "  <tbody>\n",
       "    <tr>\n",
       "      <th>0</th>\n",
       "      <td>Maharashtra</td>\n",
       "      <td>883862</td>\n",
       "      <td>26276</td>\n",
       "      <td>883862</td>\n",
       "      <td>26276</td>\n",
       "      <td>0</td>\n",
       "      <td>0</td>\n",
       "      <td>2.97</td>\n",
       "    </tr>\n",
       "    <tr>\n",
       "      <th>1</th>\n",
       "      <td>Andhra Pradesh</td>\n",
       "      <td>487331</td>\n",
       "      <td>4347</td>\n",
       "      <td>487331</td>\n",
       "      <td>4347</td>\n",
       "      <td>0</td>\n",
       "      <td>0</td>\n",
       "      <td>0.89</td>\n",
       "    </tr>\n",
       "    <tr>\n",
       "      <th>2</th>\n",
       "      <td>Tamil Nadu</td>\n",
       "      <td>457697</td>\n",
       "      <td>7751</td>\n",
       "      <td>457697</td>\n",
       "      <td>7751</td>\n",
       "      <td>0</td>\n",
       "      <td>0</td>\n",
       "      <td>1.69</td>\n",
       "    </tr>\n",
       "    <tr>\n",
       "      <th>3</th>\n",
       "      <td>Karnataka</td>\n",
       "      <td>389232</td>\n",
       "      <td>6298</td>\n",
       "      <td>389232</td>\n",
       "      <td>6298</td>\n",
       "      <td>0</td>\n",
       "      <td>0</td>\n",
       "      <td>1.62</td>\n",
       "    </tr>\n",
       "    <tr>\n",
       "      <th>4</th>\n",
       "      <td>Uttar Pradesh</td>\n",
       "      <td>259765</td>\n",
       "      <td>3843</td>\n",
       "      <td>259765</td>\n",
       "      <td>3843</td>\n",
       "      <td>0</td>\n",
       "      <td>0</td>\n",
       "      <td>1.48</td>\n",
       "    </tr>\n",
       "  </tbody>\n",
       "</table>\n",
       "</div>"
      ],
      "text/plain": [
       "           states   Cases  Deaths  PCases  PDeaths  Cases (+)  Deaths (+)  \\\n",
       "0     Maharashtra  883862   26276  883862    26276          0           0   \n",
       "1  Andhra Pradesh  487331    4347  487331     4347          0           0   \n",
       "2      Tamil Nadu  457697    7751  457697     7751          0           0   \n",
       "3       Karnataka  389232    6298  389232     6298          0           0   \n",
       "4   Uttar Pradesh  259765    3843  259765     3843          0           0   \n",
       "\n",
       "   Fatality Rate  \n",
       "0           2.97  \n",
       "1           0.89  \n",
       "2           1.69  \n",
       "3           1.62  \n",
       "4           1.48  "
      ]
     },
     "execution_count": 13,
     "metadata": {},
     "output_type": "execute_result"
    }
   ],
   "source": [
    "#hide\n",
    "df_table.head()"
   ]
  },
  {
   "cell_type": "code",
   "execution_count": 14,
   "metadata": {
    "execution": {
     "iopub.execute_input": "2020-09-06T06:37:17.009062Z",
     "iopub.status.busy": "2020-09-06T06:37:17.008369Z",
     "iopub.status.idle": "2020-09-06T06:37:17.026503Z",
     "shell.execute_reply": "2020-09-06T06:37:17.027084Z"
    },
    "papermill": {
     "duration": 0.043344,
     "end_time": "2020-09-06T06:37:17.027247",
     "exception": false,
     "start_time": "2020-09-06T06:37:16.983903",
     "status": "completed"
    },
    "tags": []
   },
   "outputs": [
    {
     "data": {
      "text/plain": [
       "{'updated': '2020-09-06',\n",
       " 'since': '2020-09-05',\n",
       " 'Cases': 4114773,\n",
       " 'PCases': 4110839,\n",
       " 'Deaths': 70704,\n",
       " 'PDeaths': 70679,\n",
       " 'Cases (+)': 3934,\n",
       " 'Deaths (+)': 25}"
      ]
     },
     "execution_count": 14,
     "metadata": {},
     "output_type": "execute_result"
    }
   ],
   "source": [
    "#hide\n",
    "summary = {'updated':dates[-1], 'since':dates[-2]}\n",
    "list_names = ['Cases', 'PCases', 'Deaths', 'PDeaths', 'Cases (+)', 'Deaths (+)']\n",
    "for name in list_names:\n",
    "    summary[name] = df_table.sum()[name]\n",
    "summary"
   ]
  },
  {
   "cell_type": "code",
   "execution_count": 15,
   "metadata": {
    "execution": {
     "iopub.execute_input": "2020-09-06T06:37:17.071939Z",
     "iopub.status.busy": "2020-09-06T06:37:17.071237Z",
     "iopub.status.idle": "2020-09-06T06:37:17.073502Z",
     "shell.execute_reply": "2020-09-06T06:37:17.074104Z"
    },
    "papermill": {
     "duration": 0.027011,
     "end_time": "2020-09-06T06:37:17.074260",
     "exception": false,
     "start_time": "2020-09-06T06:37:17.047249",
     "status": "completed"
    },
    "tags": []
   },
   "outputs": [],
   "source": [
    "#hide\n",
    "overview = '''\n",
    "<!-- #######  HTML!! #########-->\n",
    "<h1 style=\"color: #5e9ca0; text-align: center;\">India</h1>\n",
    "<p style=\"text-align: center;\">Last update: <strong>{update}</strong></p>\n",
    "<p style=\"text-align: center;\">Confirmed cases:</p>\n",
    "<p style=\"text-align: center;font-size:24px;\">{cases} (<span style=\"color: #ff0000;\">+{new}</span>)</p>\n",
    "<p style=\"text-align: center;\">Confirmed deaths:</p>\n",
    "<p style=\"text-align: center;font-size:24px;\">{deaths} (<span style=\"color: #ff0000;\">+{dnew}</span>)</p>\n",
    "'''"
   ]
  },
  {
   "cell_type": "code",
   "execution_count": 16,
   "metadata": {
    "execution": {
     "iopub.execute_input": "2020-09-06T06:37:17.119170Z",
     "iopub.status.busy": "2020-09-06T06:37:17.118479Z",
     "iopub.status.idle": "2020-09-06T06:37:17.122279Z",
     "shell.execute_reply": "2020-09-06T06:37:17.121721Z"
    },
    "papermill": {
     "duration": 0.029598,
     "end_time": "2020-09-06T06:37:17.122425",
     "exception": false,
     "start_time": "2020-09-06T06:37:17.092827",
     "status": "completed"
    },
    "tags": []
   },
   "outputs": [
    {
     "data": {
      "text/html": [
       "\n",
       "<!-- #######  HTML!! #########-->\n",
       "<h1 style=\"color: #5e9ca0; text-align: center;\">India</h1>\n",
       "<p style=\"text-align: center;\">Last update: <strong>2020-09-06</strong></p>\n",
       "<p style=\"text-align: center;\">Confirmed cases:</p>\n",
       "<p style=\"text-align: center;font-size:24px;\">4114773 (<span style=\"color: #ff0000;\">+3934</span>)</p>\n",
       "<p style=\"text-align: center;\">Confirmed deaths:</p>\n",
       "<p style=\"text-align: center;font-size:24px;\">70704 (<span style=\"color: #ff0000;\">+25</span>)</p>\n"
      ],
      "text/plain": [
       "<IPython.core.display.HTML object>"
      ]
     },
     "metadata": {},
     "output_type": "display_data"
    }
   ],
   "source": [
    "#hide_input\n",
    "update = summary['updated']\n",
    "cases = summary['Cases']\n",
    "new = summary['Cases (+)']\n",
    "deaths = summary['Deaths']\n",
    "dnew = summary['Deaths (+)']\n",
    "\n",
    "html = HTML(overview.format(update=update, cases=cases,new=new,deaths=deaths,dnew=dnew))\n",
    "\n",
    "display(html)"
   ]
  },
  {
   "cell_type": "code",
   "execution_count": 17,
   "metadata": {
    "execution": {
     "iopub.execute_input": "2020-09-06T06:37:17.174567Z",
     "iopub.status.busy": "2020-09-06T06:37:17.173871Z",
     "iopub.status.idle": "2020-09-06T06:37:17.179277Z",
     "shell.execute_reply": "2020-09-06T06:37:17.178699Z"
    },
    "papermill": {
     "duration": 0.037543,
     "end_time": "2020-09-06T06:37:17.179421",
     "exception": false,
     "start_time": "2020-09-06T06:37:17.141878",
     "status": "completed"
    },
    "tags": []
   },
   "outputs": [],
   "source": [
    "#hide\n",
    "dt_cols = list(dft_cases.columns[1:])\n",
    "dft_ct_new_cases = dft_cases.groupby('state')[dt_cols].sum().diff(axis=1).fillna(0).astype(int)\n",
    "dft_ct_new_cases.sort_values(by = dates[-1], ascending = False,inplace = True)"
   ]
  },
  {
   "cell_type": "code",
   "execution_count": 18,
   "metadata": {
    "execution": {
     "iopub.execute_input": "2020-09-06T06:37:17.240567Z",
     "iopub.status.busy": "2020-09-06T06:37:17.239826Z",
     "iopub.status.idle": "2020-09-06T06:37:17.242823Z",
     "shell.execute_reply": "2020-09-06T06:37:17.243481Z"
    },
    "papermill": {
     "duration": 0.043387,
     "end_time": "2020-09-06T06:37:17.243644",
     "exception": false,
     "start_time": "2020-09-06T06:37:17.200257",
     "status": "completed"
    },
    "tags": []
   },
   "outputs": [
    {
     "data": {
      "text/html": [
       "<div>\n",
       "<style scoped>\n",
       "    .dataframe tbody tr th:only-of-type {\n",
       "        vertical-align: middle;\n",
       "    }\n",
       "\n",
       "    .dataframe tbody tr th {\n",
       "        vertical-align: top;\n",
       "    }\n",
       "\n",
       "    .dataframe thead th {\n",
       "        text-align: right;\n",
       "    }\n",
       "</style>\n",
       "<table border=\"1\" class=\"dataframe\">\n",
       "  <thead>\n",
       "    <tr style=\"text-align: right;\">\n",
       "      <th>states</th>\n",
       "      <th>2020-07-01</th>\n",
       "      <th>2020-07-02</th>\n",
       "      <th>2020-07-03</th>\n",
       "      <th>2020-07-04</th>\n",
       "      <th>2020-07-05</th>\n",
       "      <th>2020-07-06</th>\n",
       "      <th>2020-07-07</th>\n",
       "      <th>2020-07-08</th>\n",
       "      <th>2020-07-09</th>\n",
       "      <th>2020-07-10</th>\n",
       "      <th>...</th>\n",
       "      <th>2020-08-28</th>\n",
       "      <th>2020-08-29</th>\n",
       "      <th>2020-08-30</th>\n",
       "      <th>2020-08-31</th>\n",
       "      <th>2020-09-01</th>\n",
       "      <th>2020-09-02</th>\n",
       "      <th>2020-09-03</th>\n",
       "      <th>2020-09-04</th>\n",
       "      <th>2020-09-05</th>\n",
       "      <th>2020-09-06</th>\n",
       "    </tr>\n",
       "    <tr>\n",
       "      <th>state</th>\n",
       "      <th></th>\n",
       "      <th></th>\n",
       "      <th></th>\n",
       "      <th></th>\n",
       "      <th></th>\n",
       "      <th></th>\n",
       "      <th></th>\n",
       "      <th></th>\n",
       "      <th></th>\n",
       "      <th></th>\n",
       "      <th></th>\n",
       "      <th></th>\n",
       "      <th></th>\n",
       "      <th></th>\n",
       "      <th></th>\n",
       "      <th></th>\n",
       "      <th></th>\n",
       "      <th></th>\n",
       "      <th></th>\n",
       "      <th></th>\n",
       "      <th></th>\n",
       "    </tr>\n",
       "  </thead>\n",
       "  <tbody>\n",
       "    <tr>\n",
       "      <th>Telangana</th>\n",
       "      <td>0</td>\n",
       "      <td>1213</td>\n",
       "      <td>1892</td>\n",
       "      <td>1850</td>\n",
       "      <td>1590</td>\n",
       "      <td>1831</td>\n",
       "      <td>1879</td>\n",
       "      <td>1924</td>\n",
       "      <td>1410</td>\n",
       "      <td>1278</td>\n",
       "      <td>...</td>\n",
       "      <td>2932</td>\n",
       "      <td>2751</td>\n",
       "      <td>2924</td>\n",
       "      <td>1873</td>\n",
       "      <td>2734</td>\n",
       "      <td>2892</td>\n",
       "      <td>2817</td>\n",
       "      <td>2478</td>\n",
       "      <td>2511</td>\n",
       "      <td>2574</td>\n",
       "    </tr>\n",
       "    <tr>\n",
       "      <th>Rajasthan</th>\n",
       "      <td>0</td>\n",
       "      <td>350</td>\n",
       "      <td>390</td>\n",
       "      <td>480</td>\n",
       "      <td>632</td>\n",
       "      <td>524</td>\n",
       "      <td>716</td>\n",
       "      <td>659</td>\n",
       "      <td>500</td>\n",
       "      <td>611</td>\n",
       "      <td>...</td>\n",
       "      <td>1355</td>\n",
       "      <td>1407</td>\n",
       "      <td>1450</td>\n",
       "      <td>1466</td>\n",
       "      <td>1470</td>\n",
       "      <td>1511</td>\n",
       "      <td>1553</td>\n",
       "      <td>1570</td>\n",
       "      <td>1566</td>\n",
       "      <td>726</td>\n",
       "    </tr>\n",
       "    <tr>\n",
       "      <th>Tripura</th>\n",
       "      <td>0</td>\n",
       "      <td>39</td>\n",
       "      <td>93</td>\n",
       "      <td>25</td>\n",
       "      <td>23</td>\n",
       "      <td>111</td>\n",
       "      <td>24</td>\n",
       "      <td>57</td>\n",
       "      <td>16</td>\n",
       "      <td>142</td>\n",
       "      <td>...</td>\n",
       "      <td>509</td>\n",
       "      <td>443</td>\n",
       "      <td>447</td>\n",
       "      <td>321</td>\n",
       "      <td>509</td>\n",
       "      <td>566</td>\n",
       "      <td>590</td>\n",
       "      <td>524</td>\n",
       "      <td>691</td>\n",
       "      <td>603</td>\n",
       "    </tr>\n",
       "    <tr>\n",
       "      <th>Mizoram</th>\n",
       "      <td>0</td>\n",
       "      <td>2</td>\n",
       "      <td>0</td>\n",
       "      <td>2</td>\n",
       "      <td>22</td>\n",
       "      <td>11</td>\n",
       "      <td>1</td>\n",
       "      <td>5</td>\n",
       "      <td>0</td>\n",
       "      <td>23</td>\n",
       "      <td>...</td>\n",
       "      <td>29</td>\n",
       "      <td>0</td>\n",
       "      <td>5</td>\n",
       "      <td>3</td>\n",
       "      <td>1</td>\n",
       "      <td>8</td>\n",
       "      <td>20</td>\n",
       "      <td>6</td>\n",
       "      <td>16</td>\n",
       "      <td>31</td>\n",
       "    </tr>\n",
       "    <tr>\n",
       "      <th>Andaman and Nicobar Islands</th>\n",
       "      <td>0</td>\n",
       "      <td>9</td>\n",
       "      <td>7</td>\n",
       "      <td>3</td>\n",
       "      <td>6</td>\n",
       "      <td>16</td>\n",
       "      <td>6</td>\n",
       "      <td>2</td>\n",
       "      <td>7</td>\n",
       "      <td>0</td>\n",
       "      <td>...</td>\n",
       "      <td>32</td>\n",
       "      <td>31</td>\n",
       "      <td>23</td>\n",
       "      <td>28</td>\n",
       "      <td>28</td>\n",
       "      <td>26</td>\n",
       "      <td>37</td>\n",
       "      <td>34</td>\n",
       "      <td>35</td>\n",
       "      <td>0</td>\n",
       "    </tr>\n",
       "  </tbody>\n",
       "</table>\n",
       "<p>5 rows × 68 columns</p>\n",
       "</div>"
      ],
      "text/plain": [
       "states                       2020-07-01  2020-07-02  2020-07-03  2020-07-04  \\\n",
       "state                                                                         \n",
       "Telangana                             0        1213        1892        1850   \n",
       "Rajasthan                             0         350         390         480   \n",
       "Tripura                               0          39          93          25   \n",
       "Mizoram                               0           2           0           2   \n",
       "Andaman and Nicobar Islands           0           9           7           3   \n",
       "\n",
       "states                       2020-07-05  2020-07-06  2020-07-07  2020-07-08  \\\n",
       "state                                                                         \n",
       "Telangana                          1590        1831        1879        1924   \n",
       "Rajasthan                           632         524         716         659   \n",
       "Tripura                              23         111          24          57   \n",
       "Mizoram                              22          11           1           5   \n",
       "Andaman and Nicobar Islands           6          16           6           2   \n",
       "\n",
       "states                       2020-07-09  2020-07-10  ...  2020-08-28  \\\n",
       "state                                                ...               \n",
       "Telangana                          1410        1278  ...        2932   \n",
       "Rajasthan                           500         611  ...        1355   \n",
       "Tripura                              16         142  ...         509   \n",
       "Mizoram                               0          23  ...          29   \n",
       "Andaman and Nicobar Islands           7           0  ...          32   \n",
       "\n",
       "states                       2020-08-29  2020-08-30  2020-08-31  2020-09-01  \\\n",
       "state                                                                         \n",
       "Telangana                          2751        2924        1873        2734   \n",
       "Rajasthan                          1407        1450        1466        1470   \n",
       "Tripura                             443         447         321         509   \n",
       "Mizoram                               0           5           3           1   \n",
       "Andaman and Nicobar Islands          31          23          28          28   \n",
       "\n",
       "states                       2020-09-02  2020-09-03  2020-09-04  2020-09-05  \\\n",
       "state                                                                         \n",
       "Telangana                          2892        2817        2478        2511   \n",
       "Rajasthan                          1511        1553        1570        1566   \n",
       "Tripura                             566         590         524         691   \n",
       "Mizoram                               8          20           6          16   \n",
       "Andaman and Nicobar Islands          26          37          34          35   \n",
       "\n",
       "states                       2020-09-06  \n",
       "state                                    \n",
       "Telangana                          2574  \n",
       "Rajasthan                           726  \n",
       "Tripura                             603  \n",
       "Mizoram                              31  \n",
       "Andaman and Nicobar Islands           0  \n",
       "\n",
       "[5 rows x 68 columns]"
      ]
     },
     "execution_count": 18,
     "metadata": {},
     "output_type": "execute_result"
    }
   ],
   "source": [
    "#hide\n",
    "dft_ct_new_cases.head()"
   ]
  },
  {
   "cell_type": "code",
   "execution_count": 19,
   "metadata": {
    "execution": {
     "iopub.execute_input": "2020-09-06T06:37:17.337561Z",
     "iopub.status.busy": "2020-09-06T06:37:17.309706Z",
     "iopub.status.idle": "2020-09-06T06:37:21.123955Z",
     "shell.execute_reply": "2020-09-06T06:37:21.124473Z"
    },
    "papermill": {
     "duration": 3.860054,
     "end_time": "2020-09-06T06:37:21.124650",
     "exception": false,
     "start_time": "2020-09-06T06:37:17.264596",
     "status": "completed"
    },
    "tags": []
   },
   "outputs": [
    {
     "data": {
      "image/png": "[encoded data removed]",
      "text/plain": [
       "<Figure size 1296x2016 with 11 Axes>"
      ]
     },
     "metadata": {
      "needs_background": "light"
     },
     "output_type": "display_data"
    }
   ],
   "source": [
    "#hide_input\n",
    "df = dft_ct_new_cases.copy()\n",
    "df.loc['Total'] = df.sum()\n",
    "n = 5\n",
    "ax = []\n",
    "fig = plt.figure(figsize = (18,28))\n",
    "gs = fig.add_gridspec(n+2, 5)\n",
    "# gs = fig.add_gridspec(2, 3)\n",
    "ax1 = fig.add_subplot(gs[0, :])\n",
    "ef = df.loc['Total'].rename_axis('date').reset_index()\n",
    "ef['date'] = ef['date'].astype('datetime64[ns]')\n",
    "ax1.bar(ef.date,ef.Total,alpha=0.3,color='#007acc')\n",
    "ax1.plot(ef.date,ef.Total , marker=\"o\", color='#007acc')\n",
    "ax1.xaxis.set_major_locator(mdates.WeekdayLocator())\n",
    "ax1.xaxis.set_major_formatter(mdates.DateFormatter('%b %d'))\n",
    "ax1.text(0.02, 0.5,'India daily case count', transform = ax1.transAxes, fontsize=25);\n",
    "ax1.spines['right'].set_visible(False)\n",
    "ax1.spines['top'].set_visible(False)\n",
    "\n",
    "ax2 = fig.add_subplot(gs[1,0])\n",
    "ef = df.loc['Maharashtra'].rename_axis('date').reset_index()\n",
    "ef['date'] = ef['date'].astype('datetime64[ns]')\n",
    "\n",
    "ax2.bar(ef.date, ef.Maharashtra,color = '#007acc',alpha=0.5)\n",
    "ax2.xaxis.set_major_locator(mdates.WeekdayLocator())\n",
    "ax2.xaxis.set_major_formatter(mdates.DateFormatter('%b %d'))\n",
    "ax2.set_xticks(ax2.get_xticks()[::3])\n",
    "maxyval = ef.Maharashtra.max()\n",
    "ax2.set_ylim([0,maxyval])\n",
    "ax2.text(0.05, 0.9,'Maharashtra', transform = ax2.transAxes, fontsize=20);\n",
    "ax2.spines['right'].set_visible(False)\n",
    "ax2.spines['top'].set_visible(False)\n",
    "\n",
    "\n",
    "ax3 = fig.add_subplot(gs[1,1])\n",
    "ef = df.loc['Tamil Nadu'].rename_axis('date').reset_index()\n",
    "ef['date'] = ef['date'].astype('datetime64[ns]')\n",
    "ax3.bar(ef.date, ef['Tamil Nadu'],color = '#007acc',alpha=0.5,)\n",
    "ax3.xaxis.set_major_locator(mdates.WeekdayLocator())\n",
    "ax3.xaxis.set_major_formatter(mdates.DateFormatter('%b %d'))\n",
    "ax3.set_xticks(ax3.get_xticks()[::3])\n",
    "ax3.text(0.05, 0.9,'Tamil Nadu', transform = ax3.transAxes, fontsize=20);\n",
    "ax3.spines['right'].set_visible(False)\n",
    "ax3.spines['top'].set_visible(False)\n",
    "\n",
    "ax5 = fig.add_subplot(gs[1,3])\n",
    "ef = df.loc['Telangana'].rename_axis('date').reset_index()\n",
    "ef['date'] = ef['date'].astype('datetime64[ns]')\n",
    "ax5.bar(ef.date, ef['Telangana'],color = '#007acc',alpha=0.5,)\n",
    "ax5.xaxis.set_major_locator(mdates.WeekdayLocator())\n",
    "ax5.xaxis.set_major_formatter(mdates.DateFormatter('%b %d'))\n",
    "ax5.set_xticks(ax5.get_xticks()[::3])\n",
    "ax5.text(0.05, 0.9,'Telangana', transform = ax5.transAxes, fontsize=20);\n",
    "ax5.spines['right'].set_visible(False)\n",
    "ax5.spines['top'].set_visible(False)\n",
    "\n",
    "ax6 = fig.add_subplot(gs[1,4])\n",
    "ef = df.loc['Andhra Pradesh'].rename_axis('date').reset_index()\n",
    "ef['date'] = ef['date'].astype('datetime64[ns]')\n",
    "ax6.bar(ef.date, ef['Andhra Pradesh'],color = '#007acc',alpha=0.5,)\n",
    "ax6.xaxis.set_major_locator(mdates.WeekdayLocator())\n",
    "ax6.xaxis.set_major_formatter(mdates.DateFormatter('%b %d'))\n",
    "ax6.set_xticks(ax6.get_xticks()[::3])\n",
    "ax6.text(0.05, 1,'Andhra Pradesh', transform = ax6.transAxes, fontsize=20);\n",
    "ax6.spines['right'].set_visible(False)\n",
    "ax6.spines['top'].set_visible(False)\n",
    "\n",
    "ax4 = fig.add_subplot(gs[1,2])\n",
    "ef = df.loc['Delhi'].rename_axis('date').reset_index()\n",
    "ef['date'] = ef['date'].astype('datetime64[ns]')\n",
    "ax4.bar(ef.date, ef.Delhi,color = '#007acc',alpha=0.5)\n",
    "ax4.set_xticks([])\n",
    "ax4.xaxis.set_major_locator(mdates.WeekdayLocator())\n",
    "ax4.xaxis.set_major_formatter(mdates.DateFormatter('%b %d'))\n",
    "ax4.set_xticks(ax4.get_xticks()[::3])\n",
    "ax4.spines['right'].set_visible(False)\n",
    "ax4.spines['top'].set_visible(False)\n",
    "\n",
    "ax4.text(0.05, 1,'Delhi', transform = ax4.transAxes, fontsize=20)\n",
    "\n",
    "for i in range(n):\n",
    "    \n",
    "    ax.append(fig.add_subplot(gs[i+2,:]))\n",
    "    ef = df.iloc[i+3].rename_axis('date').reset_index()\n",
    "    ef['date'] = ef['date'].astype('datetime64[ns]')\n",
    "    ax[i].bar(ef.date,ef.iloc[:,-1],color = '#007acc',alpha=0.3)\n",
    "    ax[i].plot(ef.date,ef.iloc[:,-1],marker='o',color='#007acc')\n",
    "    ax[i].text(0.02,0.5,f'{ef.columns.values[-1]}',transform = ax[i].transAxes, fontsize = 20);\n",
    "    ax[i].xaxis.set_major_locator(mdates.WeekdayLocator())\n",
    "    ax[i].xaxis.set_major_formatter(mdates.DateFormatter('%b %d'))\n",
    "    ax[i].set_ylim([0,7000])\n",
    "    ax[i].spines['right'].set_visible(False)\n",
    "    ax[i].spines['top'].set_visible(False)\n",
    "plt.tight_layout()\n"
   ]
  },
  {
   "cell_type": "code",
   "execution_count": 20,
   "metadata": {
    "execution": {
     "iopub.execute_input": "2020-09-06T06:37:21.182711Z",
     "iopub.status.busy": "2020-09-06T06:37:21.181782Z",
     "iopub.status.idle": "2020-09-06T06:37:21.184304Z",
     "shell.execute_reply": "2020-09-06T06:37:21.184937Z"
    },
    "papermill": {
     "duration": 0.035159,
     "end_time": "2020-09-06T06:37:21.185077",
     "exception": false,
     "start_time": "2020-09-06T06:37:21.149918",
     "status": "completed"
    },
    "tags": []
   },
   "outputs": [
    {
     "name": "stdout",
     "output_type": "stream",
     "text": [
      "                                   states   Cases  Deaths  PCases  PDeaths  Cases (+)  Deaths (+)  Fatality Rate\n",
      "                              Maharashtra  883862   26276  883862    26276          0           0           2.97\n",
      "                           Andhra Pradesh  487331    4347  487331     4347          0           0           0.89\n",
      "                               Tamil Nadu  457697    7751  457697     7751          0           0           1.69\n",
      "                                Karnataka  389232    6298  389232     6298          0           0           1.62\n",
      "                            Uttar Pradesh  259765    3843  259765     3843          0           0           1.48\n",
      "                                    Delhi  188193    4538  188193     4538          0           0           2.41\n",
      "                              West Bengal  177701    3510  177701     3510          0           0           1.98\n",
      "                                    Bihar  145861     750  145861      750          0           0           0.51\n",
      "                                Telangana  140969     886  138395      877       2574           9           0.63\n",
      "                                    Assam  123923     352  123923      352          0           0           0.28\n",
      "                                   Odisha  120221     591  120221      591          0           0           0.49\n",
      "                                  Gujarat  103006    3092  103006     3092          0           0           3.00\n",
      "                                Rajasthan   90089    1130   89363     1122        726           8           1.25\n",
      "                                   Kerala   84760     338   84760      338          0           0           0.40\n",
      "                                  Haryana   74272     781   74272      781          0           0           1.05\n",
      "                           Madhya Pradesh   71880    1543   71880     1543          0           0           2.15\n",
      "                                   Punjab   61527    1808   61527     1808          0           0           2.94\n",
      "                                Jharkhand   49797     462   49797      462          0           0           0.93\n",
      "                             Chhattisgarh   43163     356   43163      356          0           0           0.82\n",
      "                        Jammu and Kashmir   42241     770   42241      770          0           0           1.82\n",
      "                              Uttarakhand   23961     330   23961      330          0           0           1.38\n",
      "                                      Goa   20455     229   20455      229          0           0           1.12\n",
      "                               Puducherry   16566     298   16566      298          0           0           1.80\n",
      "                                  Tripura   15127     144   14524      136        603           8           0.95\n",
      "                         Himachal Pradesh    7018      53    7018       53          0           0           0.76\n",
      "                                  Manipur    6883      36    6883       36          0           0           0.52\n",
      "                               Chandigarh    5502      69    5502       69          0           0           1.25\n",
      "                        Arunachal Pradesh    4914       8    4914        8          0           0           0.16\n",
      "                                 Nagaland    4128       8    4128        8          0           0           0.19\n",
      "              Andaman and Nicobar Islands    3292      50    3292       50          0           0           1.52\n",
      "                                   Ladakh    2996      35    2996       35          0           0           1.17\n",
      "                                Meghalaya    2916      15    2916       15          0           0           0.51\n",
      " Dadra and Nagar Haveli and Daman and Diu    2531       2    2531        2          0           0           0.08\n",
      "                                   Sikkim    1901       5    1901        5          0           0           0.26\n",
      "                                  Mizoram    1093       0    1062        0         31           0           0.00\n",
      "                              Lakshadweep       0       0       0        0          0           0            NaN\n"
     ]
    }
   ],
   "source": [
    "#hide_input\n",
    "print(df_table.to_string(index=False))"
   ]
  },
  {
   "cell_type": "code",
   "execution_count": null,
   "metadata": {
    "papermill": {
     "duration": 0.022754,
     "end_time": "2020-09-06T06:37:21.230469",
     "exception": false,
     "start_time": "2020-09-06T06:37:21.207715",
     "status": "completed"
    },
    "tags": []
   },
   "outputs": [],
   "source": []
  },
  {
   "cell_type": "code",
   "execution_count": null,
   "metadata": {
    "papermill": {
     "duration": 0.022783,
     "end_time": "2020-09-06T06:37:21.276447",
     "exception": false,
     "start_time": "2020-09-06T06:37:21.253664",
     "status": "completed"
    },
    "tags": []
   },
   "outputs": [],
   "source": []
  }
 ],
 "metadata": {
  "kernelspec": {
   "display_name": "Python 3",
   "language": "python",
   "name": "python3"
  },
  "language_info": {
   "codemirror_mode": {
    "name": "ipython",
    "version": 3
   },
   "file_extension": ".py",
   "mimetype": "text/x-python",
   "name": "python",
   "nbconvert_exporter": "python",
   "pygments_lexer": "ipython3",
   "version": "3.6.12"
  },
  "papermill": {
   "duration": 12.35392,
   "end_time": "2020-09-06T06:37:22.585105",
   "environment_variables": {},
   "exception": null,
   "input_path": "latest.ipynb",
   "output_path": "latest.ipynb",
   "parameters": {},
   "start_time": "2020-09-06T06:37:10.231185",
   "version": "2.1.2"
  }
 },
 "nbformat": 4,
 "nbformat_minor": 4
}