{
 "cells": [
  {
   "cell_type": "markdown",
   "metadata": {
    "papermill": {
     "duration": 0.020008,
     "end_time": "2020-10-03T06:51:53.420917",
     "exception": false,
     "start_time": "2020-10-03T06:51:53.400909",
     "status": "completed"
    },
    "tags": []
   },
   "source": [
    "# Latest COVID-19 India Matplotlib Overview"
   ]
  },
  {
   "cell_type": "code",
   "execution_count": 1,
   "metadata": {
    "execution": {
     "iopub.execute_input": "2020-10-03T06:51:53.458365Z",
     "iopub.status.busy": "2020-10-03T06:51:53.457859Z",
     "iopub.status.idle": "2020-10-03T06:51:54.012848Z",
     "shell.execute_reply": "2020-10-03T06:51:54.011958Z"
    },
    "papermill": {
     "duration": 0.577959,
     "end_time": "2020-10-03T06:51:54.013090",
     "exception": false,
     "start_time": "2020-10-03T06:51:53.435131",
     "status": "completed"
    },
    "tags": []
   },
   "outputs": [],
   "source": [
    "#hide\n",
    "import pandas as pd\n",
    "import numpy as np\n",
    "import requests\n",
    "import json\n",
    "import matplotlib.pyplot as plt\n",
    "import matplotlib.dates as mdates\n",
    "import matplotlib as mpl\n",
    "from IPython.core.display import display,HTML\n",
    "%matplotlib inline\n",
    "from datetime import date"
   ]
  },
  {
   "cell_type": "code",
   "execution_count": 2,
   "metadata": {
    "execution": {
     "iopub.execute_input": "2020-10-03T06:51:54.051595Z",
     "iopub.status.busy": "2020-10-03T06:51:54.050974Z",
     "iopub.status.idle": "2020-10-03T06:51:54.168267Z",
     "shell.execute_reply": "2020-10-03T06:51:54.167717Z"
    },
    "papermill": {
     "duration": 0.139091,
     "end_time": "2020-10-03T06:51:54.168404",
     "exception": false,
     "start_time": "2020-10-03T06:51:54.029313",
     "status": "completed"
    },
    "tags": []
   },
   "outputs": [],
   "source": [
    "#hide\n",
    "df  = pd.read_csv('https://api.covid19india.org/csv/latest/states.csv')\n",
    "df = df[['Date','State','Confirmed','Deceased']]\n",
    "df = df.rename(columns={'Confirmed':'Cases', \"Deceased\":'Deaths'})\n",
    "df_cases = df[[\"Date\",'State','Cases']]\n",
    "df_deaths = df[['Date','State','Deaths']]\n",
    "df_cases1 = df_cases.groupby('Date')\n",
    "df_deaths1= df_deaths.groupby('Date')"
   ]
  },
  {
   "cell_type": "code",
   "execution_count": 3,
   "metadata": {
    "execution": {
     "iopub.execute_input": "2020-10-03T06:51:54.201587Z",
     "iopub.status.busy": "2020-10-03T06:51:54.201069Z",
     "iopub.status.idle": "2020-10-03T06:51:54.217567Z",
     "shell.execute_reply": "2020-10-03T06:51:54.217978Z"
    },
    "papermill": {
     "duration": 0.035888,
     "end_time": "2020-10-03T06:51:54.218138",
     "exception": false,
     "start_time": "2020-10-03T06:51:54.182250",
     "status": "completed"
    },
    "tags": []
   },
   "outputs": [],
   "source": [
    "#hide\n",
    "df_snap = pd.read_csv('data/SnapshotCases-28-July.csv')\n",
    "arr_states = df_snap['states'].unique()\n",
    "arr_dates = df['Date'].unique()\n",
    "df_snap = df_snap.set_index('states')"
   ]
  },
  {
   "cell_type": "code",
   "execution_count": 4,
   "metadata": {
    "execution": {
     "iopub.execute_input": "2020-10-03T06:51:54.252258Z",
     "iopub.status.busy": "2020-10-03T06:51:54.251758Z",
     "iopub.status.idle": "2020-10-03T06:51:54.254608Z",
     "shell.execute_reply": "2020-10-03T06:51:54.254033Z"
    },
    "papermill": {
     "duration": 0.022691,
     "end_time": "2020-10-03T06:51:54.254761",
     "exception": false,
     "start_time": "2020-10-03T06:51:54.232070",
     "status": "completed"
    },
    "tags": []
   },
   "outputs": [
    {
     "data": {
      "text/plain": [
       "array(['Andaman and Nicobar Islands', 'Andhra Pradesh',\n",
       "       'Arunachal Pradesh', 'Assam', 'Bihar', 'Chandigarh',\n",
       "       'Dadra and Nagar Haveli and Daman and Diu', 'Delhi', 'Goa',\n",
       "       'Gujarat', 'Haryana', 'Himachal Pradesh', 'Jammu and Kashmir',\n",
       "       'Jharkhand', 'Karnataka', 'Kerala', 'Lakshadweep',\n",
       "       'Madhya Pradesh', 'Maharashtra', 'Manipur', 'Meghalaya', 'Mizoram',\n",
       "       'Nagaland', 'Odisha', 'Puducherry', 'Punjab', 'Rajasthan',\n",
       "       'Sikkim', 'Tamil Nadu', 'Telangana', 'Tripura', 'Uttar Pradesh',\n",
       "       'West Bengal', 'Chhattisgarh', 'Ladakh', 'Uttarakhand'],\n",
       "      dtype=object)"
      ]
     },
     "execution_count": 4,
     "metadata": {},
     "output_type": "execute_result"
    }
   ],
   "source": [
    "#hide\n",
    "arr_states[-9] = 'Puducherry'\n",
    "arr_states[-10] = 'Odisha'\n",
    "arr_states[6] = 'Dadra and Nagar Haveli and Daman and Diu'\n",
    "arr_states = np.append(arr_states,np.array(['Chhattisgarh','Ladakh','Uttarakhand']))\n",
    "arr_states"
   ]
  },
  {
   "cell_type": "code",
   "execution_count": 5,
   "metadata": {
    "execution": {
     "iopub.execute_input": "2020-10-03T06:51:54.292550Z",
     "iopub.status.busy": "2020-10-03T06:51:54.292078Z",
     "iopub.status.idle": "2020-10-03T06:51:54.298469Z",
     "shell.execute_reply": "2020-10-03T06:51:54.298940Z"
    },
    "papermill": {
     "duration": 0.030874,
     "end_time": "2020-10-03T06:51:54.299064",
     "exception": false,
     "start_time": "2020-10-03T06:51:54.268190",
     "status": "completed"
    },
    "tags": []
   },
   "outputs": [],
   "source": [
    "#hide\n",
    "dates = []\n",
    "for i in arr_dates:\n",
    "    if i>='2020-07-01':\n",
    "        dates.append(i)\n",
    "dict = {'states':dates}\n",
    "for i in arr_states:\n",
    "    dict[i] = [0]*len(dates)\n",
    "dft_cases = pd.DataFrame(dict)\n",
    "dft_deaths = pd.DataFrame(dict)\n"
   ]
  },
  {
   "cell_type": "code",
   "execution_count": 6,
   "metadata": {
    "execution": {
     "iopub.execute_input": "2020-10-03T06:51:54.332241Z",
     "iopub.status.busy": "2020-10-03T06:51:54.331666Z",
     "iopub.status.idle": "2020-10-03T06:51:55.500925Z",
     "shell.execute_reply": "2020-10-03T06:51:55.500393Z"
    },
    "papermill": {
     "duration": 1.188177,
     "end_time": "2020-10-03T06:51:55.501069",
     "exception": false,
     "start_time": "2020-10-03T06:51:54.312892",
     "status": "completed"
    },
    "tags": []
   },
   "outputs": [],
   "source": [
    "#hide\n",
    "for i in range(len(dates)):\n",
    "    df1_deaths = df_deaths1.get_group(dates[i])\n",
    "    for j in range(len(df1_deaths.index)):\n",
    "        if df1_deaths.iloc[j,1] in arr_states:\n",
    "            dft_deaths.loc[i,df1_deaths.iloc[j,1]] = df1_deaths.iloc[j,2]\n",
    "dft_deaths = dft_deaths.set_index('states')"
   ]
  },
  {
   "cell_type": "code",
   "execution_count": 7,
   "metadata": {
    "execution": {
     "iopub.execute_input": "2020-10-03T06:51:55.535310Z",
     "iopub.status.busy": "2020-10-03T06:51:55.534668Z",
     "iopub.status.idle": "2020-10-03T06:51:56.742992Z",
     "shell.execute_reply": "2020-10-03T06:51:56.742510Z"
    },
    "papermill": {
     "duration": 1.227341,
     "end_time": "2020-10-03T06:51:56.743119",
     "exception": false,
     "start_time": "2020-10-03T06:51:55.515778",
     "status": "completed"
    },
    "tags": []
   },
   "outputs": [],
   "source": [
    "#hide\n",
    "for i in range(len(dates)):\n",
    "    df1_cases = df_cases1.get_group(dates[i])\n",
    "    for j in range(len(df1_cases.index)):\n",
    "        if df1_cases.iloc[j,1] in arr_states:\n",
    "            dft_cases.loc[i,df1_cases.iloc[j,1]] = df1_cases.iloc[j,2]\n",
    "dft_cases = dft_cases.set_index('states')"
   ]
  },
  {
   "cell_type": "code",
   "execution_count": 8,
   "metadata": {
    "execution": {
     "iopub.execute_input": "2020-10-03T06:51:56.777442Z",
     "iopub.status.busy": "2020-10-03T06:51:56.776713Z",
     "iopub.status.idle": "2020-10-03T06:51:56.780342Z",
     "shell.execute_reply": "2020-10-03T06:51:56.780781Z"
    },
    "papermill": {
     "duration": 0.02361,
     "end_time": "2020-10-03T06:51:56.780927",
     "exception": false,
     "start_time": "2020-10-03T06:51:56.757317",
     "status": "completed"
    },
    "tags": []
   },
   "outputs": [],
   "source": [
    "#hide\n",
    "dft_cases = dft_cases.T\n",
    "dft_deaths = dft_deaths.T\n",
    "dt_today = dates[-1]\n",
    "dt_yday = dates[-2]"
   ]
  },
  {
   "cell_type": "code",
   "execution_count": 9,
   "metadata": {
    "execution": {
     "iopub.execute_input": "2020-10-03T06:51:56.813733Z",
     "iopub.status.busy": "2020-10-03T06:51:56.813251Z",
     "iopub.status.idle": "2020-10-03T06:51:56.817589Z",
     "shell.execute_reply": "2020-10-03T06:51:56.817135Z"
    },
    "papermill": {
     "duration": 0.023349,
     "end_time": "2020-10-03T06:51:56.817708",
     "exception": false,
     "start_time": "2020-10-03T06:51:56.794359",
     "status": "completed"
    },
    "tags": []
   },
   "outputs": [],
   "source": [
    "#hide\n",
    "dft_cases = dft_cases.reset_index()\n",
    "dft_deaths = dft_deaths.reset_index()\n",
    "dft_cases = dft_cases.rename(columns = {'index':'state'})\n",
    "dft_deaths = dft_deaths.rename(columns = {'index':'state'})"
   ]
  },
  {
   "cell_type": "code",
   "execution_count": 10,
   "metadata": {
    "execution": {
     "iopub.execute_input": "2020-10-03T06:51:56.855647Z",
     "iopub.status.busy": "2020-10-03T06:51:56.853739Z",
     "iopub.status.idle": "2020-10-03T06:51:56.858578Z",
     "shell.execute_reply": "2020-10-03T06:51:56.858119Z"
    },
    "papermill": {
     "duration": 0.027649,
     "end_time": "2020-10-03T06:51:56.858720",
     "exception": false,
     "start_time": "2020-10-03T06:51:56.831071",
     "status": "completed"
    },
    "tags": []
   },
   "outputs": [],
   "source": [
    "#hide\n",
    "dfc_cases = dft_cases.groupby('state')[dt_today].sum()\n",
    "dfc_deaths = dft_deaths.groupby('state')[dt_today].sum()\n",
    "dfp_cases = dft_cases.groupby('state')[dt_yday].sum()\n",
    "dfp_deaths = dft_deaths.groupby('state')[dt_yday].sum()"
   ]
  },
  {
   "cell_type": "code",
   "execution_count": 11,
   "metadata": {
    "execution": {
     "iopub.execute_input": "2020-10-03T06:51:56.901079Z",
     "iopub.status.busy": "2020-10-03T06:51:56.900546Z",
     "iopub.status.idle": "2020-10-03T06:51:56.906323Z",
     "shell.execute_reply": "2020-10-03T06:51:56.905856Z"
    },
    "papermill": {
     "duration": 0.033819,
     "end_time": "2020-10-03T06:51:56.906436",
     "exception": false,
     "start_time": "2020-10-03T06:51:56.872617",
     "status": "completed"
    },
    "tags": []
   },
   "outputs": [
    {
     "data": {
      "text/html": [
       "<div>\n",
       "<style scoped>\n",
       "    .dataframe tbody tr th:only-of-type {\n",
       "        vertical-align: middle;\n",
       "    }\n",
       "\n",
       "    .dataframe tbody tr th {\n",
       "        vertical-align: top;\n",
       "    }\n",
       "\n",
       "    .dataframe thead th {\n",
       "        text-align: right;\n",
       "    }\n",
       "</style>\n",
       "<table border=\"1\" class=\"dataframe\">\n",
       "  <thead>\n",
       "    <tr style=\"text-align: right;\">\n",
       "      <th></th>\n",
       "      <th>states</th>\n",
       "      <th>Cases</th>\n",
       "      <th>Deaths</th>\n",
       "      <th>PCases</th>\n",
       "      <th>PDeaths</th>\n",
       "    </tr>\n",
       "  </thead>\n",
       "  <tbody>\n",
       "    <tr>\n",
       "      <th>0</th>\n",
       "      <td>Maharashtra</td>\n",
       "      <td>1416513</td>\n",
       "      <td>37480</td>\n",
       "      <td>1416513</td>\n",
       "      <td>37480</td>\n",
       "    </tr>\n",
       "    <tr>\n",
       "      <th>1</th>\n",
       "      <td>Andhra Pradesh</td>\n",
       "      <td>706790</td>\n",
       "      <td>5900</td>\n",
       "      <td>706790</td>\n",
       "      <td>5900</td>\n",
       "    </tr>\n",
       "    <tr>\n",
       "      <th>2</th>\n",
       "      <td>Karnataka</td>\n",
       "      <td>620630</td>\n",
       "      <td>9119</td>\n",
       "      <td>620630</td>\n",
       "      <td>9119</td>\n",
       "    </tr>\n",
       "    <tr>\n",
       "      <th>3</th>\n",
       "      <td>Tamil Nadu</td>\n",
       "      <td>608885</td>\n",
       "      <td>9653</td>\n",
       "      <td>608885</td>\n",
       "      <td>9653</td>\n",
       "    </tr>\n",
       "    <tr>\n",
       "      <th>4</th>\n",
       "      <td>Uttar Pradesh</td>\n",
       "      <td>406995</td>\n",
       "      <td>5917</td>\n",
       "      <td>406995</td>\n",
       "      <td>5917</td>\n",
       "    </tr>\n",
       "  </tbody>\n",
       "</table>\n",
       "</div>"
      ],
      "text/plain": [
       "           states    Cases  Deaths   PCases  PDeaths\n",
       "0     Maharashtra  1416513   37480  1416513    37480\n",
       "1  Andhra Pradesh   706790    5900   706790     5900\n",
       "2       Karnataka   620630    9119   620630     9119\n",
       "3      Tamil Nadu   608885    9653   608885     9653\n",
       "4   Uttar Pradesh   406995    5917   406995     5917"
      ]
     },
     "execution_count": 11,
     "metadata": {},
     "output_type": "execute_result"
    }
   ],
   "source": [
    "#hide\n",
    "df_table = pd.DataFrame({'states': dfc_cases.index, 'Cases': dfc_cases.values, 'Deaths': dfc_deaths.values, 'PCases': dfp_cases.values, 'PDeaths': dfp_deaths.values}).set_index('states')\n",
    "df_table = df_table.sort_values(by = ['Cases','Deaths'], ascending = [False, False])\n",
    "df_table = df_table.reset_index()\n",
    "df_table.head()"
   ]
  },
  {
   "cell_type": "code",
   "execution_count": 12,
   "metadata": {
    "execution": {
     "iopub.execute_input": "2020-10-03T06:51:56.940135Z",
     "iopub.status.busy": "2020-10-03T06:51:56.939598Z",
     "iopub.status.idle": "2020-10-03T06:51:56.948754Z",
     "shell.execute_reply": "2020-10-03T06:51:56.949159Z"
    },
    "papermill": {
     "duration": 0.029096,
     "end_time": "2020-10-03T06:51:56.949288",
     "exception": false,
     "start_time": "2020-10-03T06:51:56.920192",
     "status": "completed"
    },
    "tags": []
   },
   "outputs": [],
   "source": [
    "#hide\n",
    "for c in 'Cases, Deaths'.split(', '):\n",
    "    df_table[f'{c} (+)'] = (df_table[c] - df_table[f'P{c}']).clip(0)\n",
    "df_table['Fatality Rate'] = (100* df_table['Deaths']/ df_table['Cases']).round(2)"
   ]
  },
  {
   "cell_type": "code",
   "execution_count": 13,
   "metadata": {
    "execution": {
     "iopub.execute_input": "2020-10-03T06:51:56.990193Z",
     "iopub.status.busy": "2020-10-03T06:51:56.989616Z",
     "iopub.status.idle": "2020-10-03T06:51:56.991998Z",
     "shell.execute_reply": "2020-10-03T06:51:56.992497Z"
    },
    "papermill": {
     "duration": 0.029196,
     "end_time": "2020-10-03T06:51:56.992607",
     "exception": false,
     "start_time": "2020-10-03T06:51:56.963411",
     "status": "completed"
    },
    "tags": []
   },
   "outputs": [
    {
     "data": {
      "text/html": [
       "<div>\n",
       "<style scoped>\n",
       "    .dataframe tbody tr th:only-of-type {\n",
       "        vertical-align: middle;\n",
       "    }\n",
       "\n",
       "    .dataframe tbody tr th {\n",
       "        vertical-align: top;\n",
       "    }\n",
       "\n",
       "    .dataframe thead th {\n",
       "        text-align: right;\n",
       "    }\n",
       "</style>\n",
       "<table border=\"1\" class=\"dataframe\">\n",
       "  <thead>\n",
       "    <tr style=\"text-align: right;\">\n",
       "      <th></th>\n",
       "      <th>states</th>\n",
       "      <th>Cases</th>\n",
       "      <th>Deaths</th>\n",
       "      <th>PCases</th>\n",
       "      <th>PDeaths</th>\n",
       "      <th>Cases (+)</th>\n",
       "      <th>Deaths (+)</th>\n",
       "      <th>Fatality Rate</th>\n",
       "    </tr>\n",
       "  </thead>\n",
       "  <tbody>\n",
       "    <tr>\n",
       "      <th>0</th>\n",
       "      <td>Maharashtra</td>\n",
       "      <td>1416513</td>\n",
       "      <td>37480</td>\n",
       "      <td>1416513</td>\n",
       "      <td>37480</td>\n",
       "      <td>0</td>\n",
       "      <td>0</td>\n",
       "      <td>2.65</td>\n",
       "    </tr>\n",
       "    <tr>\n",
       "      <th>1</th>\n",
       "      <td>Andhra Pradesh</td>\n",
       "      <td>706790</td>\n",
       "      <td>5900</td>\n",
       "      <td>706790</td>\n",
       "      <td>5900</td>\n",
       "      <td>0</td>\n",
       "      <td>0</td>\n",
       "      <td>0.83</td>\n",
       "    </tr>\n",
       "    <tr>\n",
       "      <th>2</th>\n",
       "      <td>Karnataka</td>\n",
       "      <td>620630</td>\n",
       "      <td>9119</td>\n",
       "      <td>620630</td>\n",
       "      <td>9119</td>\n",
       "      <td>0</td>\n",
       "      <td>0</td>\n",
       "      <td>1.47</td>\n",
       "    </tr>\n",
       "    <tr>\n",
       "      <th>3</th>\n",
       "      <td>Tamil Nadu</td>\n",
       "      <td>608885</td>\n",
       "      <td>9653</td>\n",
       "      <td>608885</td>\n",
       "      <td>9653</td>\n",
       "      <td>0</td>\n",
       "      <td>0</td>\n",
       "      <td>1.59</td>\n",
       "    </tr>\n",
       "    <tr>\n",
       "      <th>4</th>\n",
       "      <td>Uttar Pradesh</td>\n",
       "      <td>406995</td>\n",
       "      <td>5917</td>\n",
       "      <td>406995</td>\n",
       "      <td>5917</td>\n",
       "      <td>0</td>\n",
       "      <td>0</td>\n",
       "      <td>1.45</td>\n",
       "    </tr>\n",
       "  </tbody>\n",
       "</table>\n",
       "</div>"
      ],
      "text/plain": [
       "           states    Cases  Deaths   PCases  PDeaths  Cases (+)  Deaths (+)  \\\n",
       "0     Maharashtra  1416513   37480  1416513    37480          0           0   \n",
       "1  Andhra Pradesh   706790    5900   706790     5900          0           0   \n",
       "2       Karnataka   620630    9119   620630     9119          0           0   \n",
       "3      Tamil Nadu   608885    9653   608885     9653          0           0   \n",
       "4   Uttar Pradesh   406995    5917   406995     5917          0           0   \n",
       "\n",
       "   Fatality Rate  \n",
       "0           2.65  \n",
       "1           0.83  \n",
       "2           1.47  \n",
       "3           1.59  \n",
       "4           1.45  "
      ]
     },
     "execution_count": 13,
     "metadata": {},
     "output_type": "execute_result"
    }
   ],
   "source": [
    "#hide\n",
    "df_table.head()"
   ]
  },
  {
   "cell_type": "code",
   "execution_count": 14,
   "metadata": {
    "execution": {
     "iopub.execute_input": "2020-10-03T06:51:57.028457Z",
     "iopub.status.busy": "2020-10-03T06:51:57.027926Z",
     "iopub.status.idle": "2020-10-03T06:51:57.042424Z",
     "shell.execute_reply": "2020-10-03T06:51:57.042804Z"
    },
    "papermill": {
     "duration": 0.035051,
     "end_time": "2020-10-03T06:51:57.042933",
     "exception": false,
     "start_time": "2020-10-03T06:51:57.007882",
     "status": "completed"
    },
    "tags": []
   },
   "outputs": [
    {
     "data": {
      "text/plain": [
       "{'updated': '2020-10-03',\n",
       " 'since': '2020-10-02',\n",
       " 'Cases': 6472124,\n",
       " 'PCases': 6471934,\n",
       " 'Deaths': 100878,\n",
       " 'PDeaths': 100875,\n",
       " 'Cases (+)': 190,\n",
       " 'Deaths (+)': 3}"
      ]
     },
     "execution_count": 14,
     "metadata": {},
     "output_type": "execute_result"
    }
   ],
   "source": [
    "#hide\n",
    "summary = {'updated':dates[-1], 'since':dates[-2]}\n",
    "list_names = ['Cases', 'PCases', 'Deaths', 'PDeaths', 'Cases (+)', 'Deaths (+)']\n",
    "for name in list_names:\n",
    "    summary[name] = df_table.sum()[name]\n",
    "summary"
   ]
  },
  {
   "cell_type": "code",
   "execution_count": 15,
   "metadata": {
    "execution": {
     "iopub.execute_input": "2020-10-03T06:51:57.079083Z",
     "iopub.status.busy": "2020-10-03T06:51:57.078414Z",
     "iopub.status.idle": "2020-10-03T06:51:57.080772Z",
     "shell.execute_reply": "2020-10-03T06:51:57.080288Z"
    },
    "papermill": {
     "duration": 0.022441,
     "end_time": "2020-10-03T06:51:57.080904",
     "exception": false,
     "start_time": "2020-10-03T06:51:57.058463",
     "status": "completed"
    },
    "tags": []
   },
   "outputs": [],
   "source": [
    "#hide\n",
    "overview = '''\n",
    "<!-- #######  HTML!! #########-->\n",
    "<h1 style=\"color: #5e9ca0; text-align: center;\">India</h1>\n",
    "<p style=\"text-align: center;\">Last update: <strong>{update}</strong></p>\n",
    "<p style=\"text-align: center;\">Confirmed cases:</p>\n",
    "<p style=\"text-align: center;font-size:24px;\">{cases} (<span style=\"color: #ff0000;\">+{new}</span>)</p>\n",
    "<p style=\"text-align: center;\">Confirmed deaths:</p>\n",
    "<p style=\"text-align: center;font-size:24px;\">{deaths} (<span style=\"color: #ff0000;\">+{dnew}</span>)</p>\n",
    "'''"
   ]
  },
  {
   "cell_type": "code",
   "execution_count": 16,
   "metadata": {
    "execution": {
     "iopub.execute_input": "2020-10-03T06:51:57.118738Z",
     "iopub.status.busy": "2020-10-03T06:51:57.118204Z",
     "iopub.status.idle": "2020-10-03T06:51:57.120726Z",
     "shell.execute_reply": "2020-10-03T06:51:57.121219Z"
    },
    "papermill": {
     "duration": 0.024569,
     "end_time": "2020-10-03T06:51:57.121355",
     "exception": false,
     "start_time": "2020-10-03T06:51:57.096786",
     "status": "completed"
    },
    "tags": []
   },
   "outputs": [
    {
     "data": {
      "text/html": [
       "\n",
       "<!-- #######  HTML!! #########-->\n",
       "<h1 style=\"color: #5e9ca0; text-align: center;\">India</h1>\n",
       "<p style=\"text-align: center;\">Last update: <strong>2020-10-03</strong></p>\n",
       "<p style=\"text-align: center;\">Confirmed cases:</p>\n",
       "<p style=\"text-align: center;font-size:24px;\">6472124 (<span style=\"color: #ff0000;\">+190</span>)</p>\n",
       "<p style=\"text-align: center;\">Confirmed deaths:</p>\n",
       "<p style=\"text-align: center;font-size:24px;\">100878 (<span style=\"color: #ff0000;\">+3</span>)</p>\n"
      ],
      "text/plain": [
       "<IPython.core.display.HTML object>"
      ]
     },
     "metadata": {},
     "output_type": "display_data"
    }
   ],
   "source": [
    "#hide_input\n",
    "update = summary['updated']\n",
    "cases = summary['Cases']\n",
    "new = summary['Cases (+)']\n",
    "deaths = summary['Deaths']\n",
    "dnew = summary['Deaths (+)']\n",
    "\n",
    "html = HTML(overview.format(update=update, cases=cases,new=new,deaths=deaths,dnew=dnew))\n",
    "\n",
    "display(html)"
   ]
  },
  {
   "cell_type": "code",
   "execution_count": 17,
   "metadata": {
    "execution": {
     "iopub.execute_input": "2020-10-03T06:51:57.160312Z",
     "iopub.status.busy": "2020-10-03T06:51:57.159739Z",
     "iopub.status.idle": "2020-10-03T06:51:57.164412Z",
     "shell.execute_reply": "2020-10-03T06:51:57.164908Z"
    },
    "papermill": {
     "duration": 0.028321,
     "end_time": "2020-10-03T06:51:57.165044",
     "exception": false,
     "start_time": "2020-10-03T06:51:57.136723",
     "status": "completed"
    },
    "tags": []
   },
   "outputs": [],
   "source": [
    "#hide\n",
    "dt_cols = list(dft_cases.columns[1:])\n",
    "dft_ct_new_cases = dft_cases.groupby('state')[dt_cols].sum().diff(axis=1).fillna(0).astype(int)\n",
    "dft_ct_new_cases.sort_values(by = dates[-1], ascending = False,inplace = True)"
   ]
  },
  {
   "cell_type": "code",
   "execution_count": 18,
   "metadata": {
    "execution": {
     "iopub.execute_input": "2020-10-03T06:51:57.211523Z",
     "iopub.status.busy": "2020-10-03T06:51:57.207185Z",
     "iopub.status.idle": "2020-10-03T06:51:57.214397Z",
     "shell.execute_reply": "2020-10-03T06:51:57.213988Z"
    },
    "papermill": {
     "duration": 0.033656,
     "end_time": "2020-10-03T06:51:57.214514",
     "exception": false,
     "start_time": "2020-10-03T06:51:57.180858",
     "status": "completed"
    },
    "tags": []
   },
   "outputs": [
    {
     "data": {
      "text/html": [
       "<div>\n",
       "<style scoped>\n",
       "    .dataframe tbody tr th:only-of-type {\n",
       "        vertical-align: middle;\n",
       "    }\n",
       "\n",
       "    .dataframe tbody tr th {\n",
       "        vertical-align: top;\n",
       "    }\n",
       "\n",
       "    .dataframe thead th {\n",
       "        text-align: right;\n",
       "    }\n",
       "</style>\n",
       "<table border=\"1\" class=\"dataframe\">\n",
       "  <thead>\n",
       "    <tr style=\"text-align: right;\">\n",
       "      <th>states</th>\n",
       "      <th>2020-07-01</th>\n",
       "      <th>2020-07-02</th>\n",
       "      <th>2020-07-03</th>\n",
       "      <th>2020-07-04</th>\n",
       "      <th>2020-07-05</th>\n",
       "      <th>2020-07-06</th>\n",
       "      <th>2020-07-07</th>\n",
       "      <th>2020-07-08</th>\n",
       "      <th>2020-07-09</th>\n",
       "      <th>2020-07-10</th>\n",
       "      <th>...</th>\n",
       "      <th>2020-09-24</th>\n",
       "      <th>2020-09-25</th>\n",
       "      <th>2020-09-26</th>\n",
       "      <th>2020-09-27</th>\n",
       "      <th>2020-09-28</th>\n",
       "      <th>2020-09-29</th>\n",
       "      <th>2020-09-30</th>\n",
       "      <th>2020-10-01</th>\n",
       "      <th>2020-10-02</th>\n",
       "      <th>2020-10-03</th>\n",
       "    </tr>\n",
       "    <tr>\n",
       "      <th>state</th>\n",
       "      <th></th>\n",
       "      <th></th>\n",
       "      <th></th>\n",
       "      <th></th>\n",
       "      <th></th>\n",
       "      <th></th>\n",
       "      <th></th>\n",
       "      <th></th>\n",
       "      <th></th>\n",
       "      <th></th>\n",
       "      <th></th>\n",
       "      <th></th>\n",
       "      <th></th>\n",
       "      <th></th>\n",
       "      <th></th>\n",
       "      <th></th>\n",
       "      <th></th>\n",
       "      <th></th>\n",
       "      <th></th>\n",
       "      <th></th>\n",
       "      <th></th>\n",
       "    </tr>\n",
       "  </thead>\n",
       "  <tbody>\n",
       "    <tr>\n",
       "      <th>Tripura</th>\n",
       "      <td>0</td>\n",
       "      <td>39</td>\n",
       "      <td>93</td>\n",
       "      <td>25</td>\n",
       "      <td>23</td>\n",
       "      <td>111</td>\n",
       "      <td>24</td>\n",
       "      <td>57</td>\n",
       "      <td>16</td>\n",
       "      <td>142</td>\n",
       "      <td>...</td>\n",
       "      <td>451</td>\n",
       "      <td>341</td>\n",
       "      <td>278</td>\n",
       "      <td>320</td>\n",
       "      <td>193</td>\n",
       "      <td>432</td>\n",
       "      <td>381</td>\n",
       "      <td>332</td>\n",
       "      <td>296</td>\n",
       "      <td>190</td>\n",
       "    </tr>\n",
       "    <tr>\n",
       "      <th>Andaman and Nicobar Islands</th>\n",
       "      <td>0</td>\n",
       "      <td>9</td>\n",
       "      <td>7</td>\n",
       "      <td>3</td>\n",
       "      <td>6</td>\n",
       "      <td>16</td>\n",
       "      <td>6</td>\n",
       "      <td>2</td>\n",
       "      <td>7</td>\n",
       "      <td>0</td>\n",
       "      <td>...</td>\n",
       "      <td>32</td>\n",
       "      <td>15</td>\n",
       "      <td>15</td>\n",
       "      <td>20</td>\n",
       "      <td>9</td>\n",
       "      <td>18</td>\n",
       "      <td>14</td>\n",
       "      <td>13</td>\n",
       "      <td>10</td>\n",
       "      <td>0</td>\n",
       "    </tr>\n",
       "    <tr>\n",
       "      <th>Puducherry</th>\n",
       "      <td>0</td>\n",
       "      <td>63</td>\n",
       "      <td>22</td>\n",
       "      <td>80</td>\n",
       "      <td>42</td>\n",
       "      <td>65</td>\n",
       "      <td>30</td>\n",
       "      <td>110</td>\n",
       "      <td>49</td>\n",
       "      <td>72</td>\n",
       "      <td>...</td>\n",
       "      <td>668</td>\n",
       "      <td>594</td>\n",
       "      <td>543</td>\n",
       "      <td>368</td>\n",
       "      <td>285</td>\n",
       "      <td>381</td>\n",
       "      <td>478</td>\n",
       "      <td>480</td>\n",
       "      <td>510</td>\n",
       "      <td>0</td>\n",
       "    </tr>\n",
       "    <tr>\n",
       "      <th>Maharashtra</th>\n",
       "      <td>0</td>\n",
       "      <td>6328</td>\n",
       "      <td>6364</td>\n",
       "      <td>7074</td>\n",
       "      <td>6555</td>\n",
       "      <td>5368</td>\n",
       "      <td>5134</td>\n",
       "      <td>6603</td>\n",
       "      <td>6875</td>\n",
       "      <td>7862</td>\n",
       "      <td>...</td>\n",
       "      <td>19164</td>\n",
       "      <td>17794</td>\n",
       "      <td>20419</td>\n",
       "      <td>18056</td>\n",
       "      <td>11921</td>\n",
       "      <td>14976</td>\n",
       "      <td>18317</td>\n",
       "      <td>16476</td>\n",
       "      <td>15591</td>\n",
       "      <td>0</td>\n",
       "    </tr>\n",
       "    <tr>\n",
       "      <th>Manipur</th>\n",
       "      <td>0</td>\n",
       "      <td>19</td>\n",
       "      <td>37</td>\n",
       "      <td>9</td>\n",
       "      <td>41</td>\n",
       "      <td>24</td>\n",
       "      <td>40</td>\n",
       "      <td>5</td>\n",
       "      <td>15</td>\n",
       "      <td>132</td>\n",
       "      <td>...</td>\n",
       "      <td>161</td>\n",
       "      <td>254</td>\n",
       "      <td>260</td>\n",
       "      <td>248</td>\n",
       "      <td>178</td>\n",
       "      <td>269</td>\n",
       "      <td>237</td>\n",
       "      <td>128</td>\n",
       "      <td>286</td>\n",
       "      <td>0</td>\n",
       "    </tr>\n",
       "  </tbody>\n",
       "</table>\n",
       "<p>5 rows × 95 columns</p>\n",
       "</div>"
      ],
      "text/plain": [
       "states                       2020-07-01  2020-07-02  2020-07-03  2020-07-04  \\\n",
       "state                                                                         \n",
       "Tripura                               0          39          93          25   \n",
       "Andaman and Nicobar Islands           0           9           7           3   \n",
       "Puducherry                            0          63          22          80   \n",
       "Maharashtra                           0        6328        6364        7074   \n",
       "Manipur                               0          19          37           9   \n",
       "\n",
       "states                       2020-07-05  2020-07-06  2020-07-07  2020-07-08  \\\n",
       "state                                                                         \n",
       "Tripura                              23         111          24          57   \n",
       "Andaman and Nicobar Islands           6          16           6           2   \n",
       "Puducherry                           42          65          30         110   \n",
       "Maharashtra                        6555        5368        5134        6603   \n",
       "Manipur                              41          24          40           5   \n",
       "\n",
       "states                       2020-07-09  2020-07-10  ...  2020-09-24  \\\n",
       "state                                                ...               \n",
       "Tripura                              16         142  ...         451   \n",
       "Andaman and Nicobar Islands           7           0  ...          32   \n",
       "Puducherry                           49          72  ...         668   \n",
       "Maharashtra                        6875        7862  ...       19164   \n",
       "Manipur                              15         132  ...         161   \n",
       "\n",
       "states                       2020-09-25  2020-09-26  2020-09-27  2020-09-28  \\\n",
       "state                                                                         \n",
       "Tripura                             341         278         320         193   \n",
       "Andaman and Nicobar Islands          15          15          20           9   \n",
       "Puducherry                          594         543         368         285   \n",
       "Maharashtra                       17794       20419       18056       11921   \n",
       "Manipur                             254         260         248         178   \n",
       "\n",
       "states                       2020-09-29  2020-09-30  2020-10-01  2020-10-02  \\\n",
       "state                                                                         \n",
       "Tripura                             432         381         332         296   \n",
       "Andaman and Nicobar Islands          18          14          13          10   \n",
       "Puducherry                          381         478         480         510   \n",
       "Maharashtra                       14976       18317       16476       15591   \n",
       "Manipur                             269         237         128         286   \n",
       "\n",
       "states                       2020-10-03  \n",
       "state                                    \n",
       "Tripura                             190  \n",
       "Andaman and Nicobar Islands           0  \n",
       "Puducherry                            0  \n",
       "Maharashtra                           0  \n",
       "Manipur                               0  \n",
       "\n",
       "[5 rows x 95 columns]"
      ]
     },
     "execution_count": 18,
     "metadata": {},
     "output_type": "execute_result"
    }
   ],
   "source": [
    "#hide\n",
    "dft_ct_new_cases.head()"
   ]
  },
  {
   "cell_type": "code",
   "execution_count": 19,
   "metadata": {
    "execution": {
     "iopub.execute_input": "2020-10-03T06:51:57.260489Z",
     "iopub.status.busy": "2020-10-03T06:51:57.255239Z",
     "iopub.status.idle": "2020-10-03T06:52:00.739219Z",
     "shell.execute_reply": "2020-10-03T06:52:00.739679Z"
    },
    "papermill": {
     "duration": 3.509042,
     "end_time": "2020-10-03T06:52:00.739825",
     "exception": false,
     "start_time": "2020-10-03T06:51:57.230783",
     "status": "completed"
    },
    "tags": []
   },
   "outputs": [
    {
     "data": {
      "image/png": "[encoded data removed]",
      "text/plain": [
       "<Figure size 1296x2016 with 11 Axes>"
      ]
     },
     "metadata": {
      "needs_background": "light"
     },
     "output_type": "display_data"
    }
   ],
   "source": [
    "#hide_input\n",
    "df = dft_ct_new_cases.copy()\n",
    "df.loc['Total'] = df.sum()\n",
    "n = 5\n",
    "ax = []\n",
    "fig = plt.figure(figsize = (18,28))\n",
    "gs = fig.add_gridspec(n+2, 5)\n",
    "# gs = fig.add_gridspec(2, 3)\n",
    "ax1 = fig.add_subplot(gs[0, :])\n",
    "ef = df.loc['Total'].rename_axis('date').reset_index()\n",
    "ef['date'] = ef['date'].astype('datetime64[ns]')\n",
    "ax1.bar(ef.date,ef.Total,alpha=0.3,color='#007acc')\n",
    "ax1.plot(ef.date,ef.Total , marker=\"o\", color='#007acc')\n",
    "ax1.xaxis.set_major_locator(mdates.WeekdayLocator())\n",
    "ax1.xaxis.set_major_formatter(mdates.DateFormatter('%b %d'))\n",
    "ax1.text(0.02, 0.5,'India daily case count', transform = ax1.transAxes, fontsize=25);\n",
    "ax1.spines['right'].set_visible(False)\n",
    "ax1.spines['top'].set_visible(False)\n",
    "\n",
    "ax2 = fig.add_subplot(gs[1,0])\n",
    "ef = df.loc['Maharashtra'].rename_axis('date').reset_index()\n",
    "ef['date'] = ef['date'].astype('datetime64[ns]')\n",
    "\n",
    "ax2.bar(ef.date, ef.Maharashtra,color = '#007acc',alpha=0.5)\n",
    "ax2.xaxis.set_major_locator(mdates.WeekdayLocator())\n",
    "ax2.xaxis.set_major_formatter(mdates.DateFormatter('%b %d'))\n",
    "ax2.set_xticks(ax2.get_xticks()[::3])\n",
    "maxyval = ef.Maharashtra.max()\n",
    "ax2.set_ylim([0,maxyval])\n",
    "ax2.text(0.05, 0.9,'Maharashtra', transform = ax2.transAxes, fontsize=20);\n",
    "ax2.spines['right'].set_visible(False)\n",
    "ax2.spines['top'].set_visible(False)\n",
    "\n",
    "\n",
    "ax3 = fig.add_subplot(gs[1,1])\n",
    "ef = df.loc['Tamil Nadu'].rename_axis('date').reset_index()\n",
    "ef['date'] = ef['date'].astype('datetime64[ns]')\n",
    "ax3.bar(ef.date, ef['Tamil Nadu'],color = '#007acc',alpha=0.5,)\n",
    "ax3.xaxis.set_major_locator(mdates.WeekdayLocator())\n",
    "ax3.xaxis.set_major_formatter(mdates.DateFormatter('%b %d'))\n",
    "ax3.set_xticks(ax3.get_xticks()[::3])\n",
    "ax3.text(0.05, 0.9,'Tamil Nadu', transform = ax3.transAxes, fontsize=20);\n",
    "ax3.spines['right'].set_visible(False)\n",
    "ax3.spines['top'].set_visible(False)\n",
    "\n",
    "ax5 = fig.add_subplot(gs[1,3])\n",
    "ef = df.loc['Telangana'].rename_axis('date').reset_index()\n",
    "ef['date'] = ef['date'].astype('datetime64[ns]')\n",
    "ax5.bar(ef.date, ef['Telangana'],color = '#007acc',alpha=0.5,)\n",
    "ax5.xaxis.set_major_locator(mdates.WeekdayLocator())\n",
    "ax5.xaxis.set_major_formatter(mdates.DateFormatter('%b %d'))\n",
    "ax5.set_xticks(ax5.get_xticks()[::3])\n",
    "ax5.text(0.05, 0.9,'Telangana', transform = ax5.transAxes, fontsize=20);\n",
    "ax5.spines['right'].set_visible(False)\n",
    "ax5.spines['top'].set_visible(False)\n",
    "\n",
    "ax6 = fig.add_subplot(gs[1,4])\n",
    "ef = df.loc['Andhra Pradesh'].rename_axis('date').reset_index()\n",
    "ef['date'] = ef['date'].astype('datetime64[ns]')\n",
    "ax6.bar(ef.date, ef['Andhra Pradesh'],color = '#007acc',alpha=0.5,)\n",
    "ax6.xaxis.set_major_locator(mdates.WeekdayLocator())\n",
    "ax6.xaxis.set_major_formatter(mdates.DateFormatter('%b %d'))\n",
    "ax6.set_xticks(ax6.get_xticks()[::3])\n",
    "ax6.text(0.05, 1,'Andhra Pradesh', transform = ax6.transAxes, fontsize=20);\n",
    "ax6.spines['right'].set_visible(False)\n",
    "ax6.spines['top'].set_visible(False)\n",
    "\n",
    "ax4 = fig.add_subplot(gs[1,2])\n",
    "ef = df.loc['Delhi'].rename_axis('date').reset_index()\n",
    "ef['date'] = ef['date'].astype('datetime64[ns]')\n",
    "ax4.bar(ef.date, ef.Delhi,color = '#007acc',alpha=0.5)\n",
    "ax4.set_xticks([])\n",
    "ax4.xaxis.set_major_locator(mdates.WeekdayLocator())\n",
    "ax4.xaxis.set_major_formatter(mdates.DateFormatter('%b %d'))\n",
    "ax4.set_xticks(ax4.get_xticks()[::3])\n",
    "ax4.spines['right'].set_visible(False)\n",
    "ax4.spines['top'].set_visible(False)\n",
    "\n",
    "ax4.text(0.05, 1,'Delhi', transform = ax4.transAxes, fontsize=20)\n",
    "\n",
    "for i in range(n):\n",
    "    \n",
    "    ax.append(fig.add_subplot(gs[i+2,:]))\n",
    "    ef = df.iloc[i+3].rename_axis('date').reset_index()\n",
    "    ef['date'] = ef['date'].astype('datetime64[ns]')\n",
    "    ax[i].bar(ef.date,ef.iloc[:,-1],color = '#007acc',alpha=0.3)\n",
    "    ax[i].plot(ef.date,ef.iloc[:,-1],marker='o',color='#007acc')\n",
    "    ax[i].text(0.02,0.5,f'{ef.columns.values[-1]}',transform = ax[i].transAxes, fontsize = 20);\n",
    "    ax[i].xaxis.set_major_locator(mdates.WeekdayLocator())\n",
    "    ax[i].xaxis.set_major_formatter(mdates.DateFormatter('%b %d'))\n",
    "    ax[i].set_ylim([0,7000])\n",
    "    ax[i].spines['right'].set_visible(False)\n",
    "    ax[i].spines['top'].set_visible(False)\n",
    "plt.tight_layout()\n"
   ]
  },
  {
   "cell_type": "code",
   "execution_count": 20,
   "metadata": {
    "execution": {
     "iopub.execute_input": "2020-10-03T06:52:00.792323Z",
     "iopub.status.busy": "2020-10-03T06:52:00.791704Z",
     "iopub.status.idle": "2020-10-03T06:52:00.795669Z",
     "shell.execute_reply": "2020-10-03T06:52:00.796110Z"
    },
    "papermill": {
     "duration": 0.035929,
     "end_time": "2020-10-03T06:52:00.796266",
     "exception": false,
     "start_time": "2020-10-03T06:52:00.760337",
     "status": "completed"
    },
    "tags": []
   },
   "outputs": [
    {
     "name": "stdout",
     "output_type": "stream",
     "text": [
      "                                   states    Cases  Deaths   PCases  PDeaths  Cases (+)  Deaths (+)  Fatality Rate\n",
      "                              Maharashtra  1416513   37480  1416513    37480          0           0           2.65\n",
      "                           Andhra Pradesh   706790    5900   706790     5900          0           0           0.83\n",
      "                                Karnataka   620630    9119   620630     9119          0           0           1.47\n",
      "                               Tamil Nadu   608885    9653   608885     9653          0           0           1.59\n",
      "                            Uttar Pradesh   406995    5917   406995     5917          0           0           1.45\n",
      "                                    Delhi   285672    5438   285672     5438          0           0           1.90\n",
      "                              West Bengal   263634    5070   263634     5070          0           0           1.92\n",
      "                                   Odisha   226334     928   226334      928          0           0           0.41\n",
      "                                   Kerala   213500     792   213500      792          0           0           0.37\n",
      "                                Telangana   195609    1145   195609     1145          0           0           0.59\n",
      "                                    Bihar   185707     910   185707      910          0           0           0.49\n",
      "                                    Assam   183812     721   183812      721          0           0           0.39\n",
      "                                  Gujarat   140054    3478   140054     3478          0           0           2.48\n",
      "                                Rajasthan   139696    1516   139696     1516          0           0           1.09\n",
      "                           Madhya Pradesh   132107    2372   132107     2372          0           0           1.80\n",
      "                                  Haryana   131388    1425   131388     1425          0           0           1.08\n",
      "                             Chhattisgarh   118790    1002   118790     1002          0           0           0.84\n",
      "                                   Punjab   116213    3501   116213     3501          0           0           3.01\n",
      "                                Jharkhand    85400     729    85400      729          0           0           0.85\n",
      "                        Jammu and Kashmir    77253    1212    77253     1212          0           0           1.57\n",
      "                              Uttarakhand    49559     636    49559      636          0           0           1.28\n",
      "                                      Goa    34455     442    34455      442          0           0           1.28\n",
      "                               Puducherry    28534     532    28534      532          0           0           1.86\n",
      "                                  Tripura    26549     286    26359      283        190           3           1.08\n",
      "                         Himachal Pradesh    15454     197    15454      197          0           0           1.27\n",
      "                               Chandigarh    12212     169    12212      169          0           0           1.38\n",
      "                                  Manipur    11397      69    11397       69          0           0           0.61\n",
      "                        Arunachal Pradesh    10220      18    10220       18          0           0           0.18\n",
      "                                 Nagaland     6318      12     6318       12          0           0           0.19\n",
      "                                Meghalaya     6033      52     6033       52          0           0           0.86\n",
      "                                   Ladakh     4429      61     4429       61          0           0           1.38\n",
      "              Andaman and Nicobar Islands     3858      53     3858       53          0           0           1.37\n",
      " Dadra and Nagar Haveli and Daman and Diu     3064       2     3064        2          0           0           0.07\n",
      "                                   Sikkim     3011      41     3011       41          0           0           1.36\n",
      "                                  Mizoram     2049       0     2049        0          0           0           0.00\n",
      "                              Lakshadweep        0       0        0        0          0           0            NaN\n"
     ]
    }
   ],
   "source": [
    "#hide_input\n",
    "print(df_table.to_string(index=False))"
   ]
  },
  {
   "cell_type": "code",
   "execution_count": null,
   "metadata": {
    "papermill": {
     "duration": 0.022966,
     "end_time": "2020-10-03T06:52:00.887409",
     "exception": false,
     "start_time": "2020-10-03T06:52:00.864443",
     "status": "completed"
    },
    "tags": []
   },
   "outputs": [],
   "source": []
  },
  {
   "cell_type": "code",
   "execution_count": null,
   "metadata": {
    "papermill": {
     "duration": 0.023994,
     "end_time": "2020-10-03T06:52:00.998381",
     "exception": false,
     "start_time": "2020-10-03T06:52:00.974387",
     "status": "completed"
    },
    "tags": []
   },
   "outputs": [],
   "source": []
  }
 ],
 "metadata": {
  "kernelspec": {
   "display_name": "Python 3",
   "language": "python",
   "name": "python3"
  },
  "language_info": {
   "codemirror_mode": {
    "name": "ipython",
    "version": 3
   },
   "file_extension": ".py",
   "mimetype": "text/x-python",
   "name": "python",
   "nbconvert_exporter": "python",
   "pygments_lexer": "ipython3",
   "version": "3.6.12"
  },
  "papermill": {
   "duration": 9.073371,
   "end_time": "2020-10-03T06:52:01.427931",
   "environment_variables": {},
   "exception": null,
   "input_path": "latest.ipynb",
   "output_path": "latest.ipynb",
   "parameters": {},
   "start_time": "2020-10-03T06:51:52.354560",
   "version": "2.1.2"
  }
 },
 "nbformat": 4,
 "nbformat_minor": 4
}