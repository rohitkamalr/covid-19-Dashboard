{
 "cells": [
  {
   "cell_type": "markdown",
   "metadata": {
    "papermill": {
     "duration": 0.024186,
     "end_time": "2020-09-04T04:22:34.446511",
     "exception": false,
     "start_time": "2020-09-04T04:22:34.422325",
     "status": "completed"
    },
    "tags": []
   },
   "source": [
    "# Latest COVID-19 India Matplotlib Overview"
   ]
  },
  {
   "cell_type": "code",
   "execution_count": 1,
   "metadata": {
    "execution": {
     "iopub.execute_input": "2020-09-04T04:22:34.492325Z",
     "iopub.status.busy": "2020-09-04T04:22:34.491345Z",
     "iopub.status.idle": "2020-09-04T04:22:35.188928Z",
     "shell.execute_reply": "2020-09-04T04:22:35.188292Z"
    },
    "papermill": {
     "duration": 0.724039,
     "end_time": "2020-09-04T04:22:35.189115",
     "exception": false,
     "start_time": "2020-09-04T04:22:34.465076",
     "status": "completed"
    },
    "tags": []
   },
   "outputs": [],
   "source": [
    "#hide\n",
    "import pandas as pd\n",
    "import numpy as np\n",
    "import requests\n",
    "import json\n",
    "import matplotlib.pyplot as plt\n",
    "import matplotlib.dates as mdates\n",
    "import matplotlib as mpl\n",
    "from IPython.core.display import display,HTML\n",
    "%matplotlib inline\n",
    "from datetime import date"
   ]
  },
  {
   "cell_type": "code",
   "execution_count": 2,
   "metadata": {
    "execution": {
     "iopub.execute_input": "2020-09-04T04:22:35.234116Z",
     "iopub.status.busy": "2020-09-04T04:22:35.232989Z",
     "iopub.status.idle": "2020-09-04T04:22:35.463582Z",
     "shell.execute_reply": "2020-09-04T04:22:35.462956Z"
    },
    "papermill": {
     "duration": 0.256383,
     "end_time": "2020-09-04T04:22:35.463748",
     "exception": false,
     "start_time": "2020-09-04T04:22:35.207365",
     "status": "completed"
    },
    "tags": []
   },
   "outputs": [],
   "source": [
    "#hide\n",
    "df  = pd.read_csv('https://api.covid19india.org/csv/latest/states.csv')\n",
    "df = df[['Date','State','Confirmed','Deceased']]\n",
    "df = df.rename(columns={'Confirmed':'Cases', \"Deceased\":'Deaths'})\n",
    "df_cases = df[[\"Date\",'State','Cases']]\n",
    "df_deaths = df[['Date','State','Deaths']]\n",
    "df_cases1 = df_cases.groupby('Date')\n",
    "df_deaths1= df_deaths.groupby('Date')"
   ]
  },
  {
   "cell_type": "code",
   "execution_count": 3,
   "metadata": {
    "execution": {
     "iopub.execute_input": "2020-09-04T04:22:35.506292Z",
     "iopub.status.busy": "2020-09-04T04:22:35.505571Z",
     "iopub.status.idle": "2020-09-04T04:22:35.526105Z",
     "shell.execute_reply": "2020-09-04T04:22:35.525483Z"
    },
    "papermill": {
     "duration": 0.043202,
     "end_time": "2020-09-04T04:22:35.526258",
     "exception": false,
     "start_time": "2020-09-04T04:22:35.483056",
     "status": "completed"
    },
    "tags": []
   },
   "outputs": [],
   "source": [
    "#hide\n",
    "df_snap = pd.read_csv('data/SnapshotCases-28-July.csv')\n",
    "arr_states = df_snap['states'].unique()\n",
    "arr_dates = df['Date'].unique()\n",
    "df_snap = df_snap.set_index('states')"
   ]
  },
  {
   "cell_type": "code",
   "execution_count": 4,
   "metadata": {
    "execution": {
     "iopub.execute_input": "2020-09-04T04:22:35.573478Z",
     "iopub.status.busy": "2020-09-04T04:22:35.572724Z",
     "iopub.status.idle": "2020-09-04T04:22:35.578072Z",
     "shell.execute_reply": "2020-09-04T04:22:35.577427Z"
    },
    "papermill": {
     "duration": 0.032647,
     "end_time": "2020-09-04T04:22:35.578222",
     "exception": false,
     "start_time": "2020-09-04T04:22:35.545575",
     "status": "completed"
    },
    "tags": []
   },
   "outputs": [
    {
     "data": {
      "text/plain": [
       "array(['Andaman and Nicobar Islands', 'Andhra Pradesh',\n",
       "       'Arunachal Pradesh', 'Assam', 'Bihar', 'Chandigarh',\n",
       "       'Dadra and Nagar Haveli and Daman and Diu', 'Delhi', 'Goa',\n",
       "       'Gujarat', 'Haryana', 'Himachal Pradesh', 'Jammu and Kashmir',\n",
       "       'Jharkhand', 'Karnataka', 'Kerala', 'Lakshadweep',\n",
       "       'Madhya Pradesh', 'Maharashtra', 'Manipur', 'Meghalaya', 'Mizoram',\n",
       "       'Nagaland', 'Odisha', 'Puducherry', 'Punjab', 'Rajasthan',\n",
       "       'Sikkim', 'Tamil Nadu', 'Telangana', 'Tripura', 'Uttar Pradesh',\n",
       "       'West Bengal', 'Chhattisgarh', 'Ladakh', 'Uttarakhand'],\n",
       "      dtype=object)"
      ]
     },
     "execution_count": 4,
     "metadata": {},
     "output_type": "execute_result"
    }
   ],
   "source": [
    "#hide\n",
    "arr_states[-9] = 'Puducherry'\n",
    "arr_states[-10] = 'Odisha'\n",
    "arr_states[6] = 'Dadra and Nagar Haveli and Daman and Diu'\n",
    "arr_states = np.append(arr_states,np.array(['Chhattisgarh','Ladakh','Uttarakhand']))\n",
    "arr_states"
   ]
  },
  {
   "cell_type": "code",
   "execution_count": 5,
   "metadata": {
    "execution": {
     "iopub.execute_input": "2020-09-04T04:22:35.628084Z",
     "iopub.status.busy": "2020-09-04T04:22:35.627369Z",
     "iopub.status.idle": "2020-09-04T04:22:35.636341Z",
     "shell.execute_reply": "2020-09-04T04:22:35.635839Z"
    },
    "papermill": {
     "duration": 0.037951,
     "end_time": "2020-09-04T04:22:35.636466",
     "exception": false,
     "start_time": "2020-09-04T04:22:35.598515",
     "status": "completed"
    },
    "tags": []
   },
   "outputs": [],
   "source": [
    "#hide\n",
    "dates = []\n",
    "for i in arr_dates:\n",
    "    if i>='2020-07-01':\n",
    "        dates.append(i)\n",
    "dict = {'states':dates}\n",
    "for i in arr_states:\n",
    "    dict[i] = [0]*len(dates)\n",
    "dft_cases = pd.DataFrame(dict)\n",
    "dft_deaths = pd.DataFrame(dict)\n"
   ]
  },
  {
   "cell_type": "code",
   "execution_count": 6,
   "metadata": {
    "execution": {
     "iopub.execute_input": "2020-09-04T04:22:35.675214Z",
     "iopub.status.busy": "2020-09-04T04:22:35.674429Z",
     "iopub.status.idle": "2020-09-04T04:22:36.944951Z",
     "shell.execute_reply": "2020-09-04T04:22:36.944238Z"
    },
    "papermill": {
     "duration": 1.292893,
     "end_time": "2020-09-04T04:22:36.945131",
     "exception": false,
     "start_time": "2020-09-04T04:22:35.652238",
     "status": "completed"
    },
    "tags": []
   },
   "outputs": [],
   "source": [
    "#hide\n",
    "for i in range(len(dates)):\n",
    "    df1_deaths = df_deaths1.get_group(dates[i])\n",
    "    for j in range(len(df1_deaths.index)):\n",
    "        if df1_deaths.iloc[j,1] in arr_states:\n",
    "            dft_deaths.loc[i,df1_deaths.iloc[j,1]] = df1_deaths.iloc[j,2]\n",
    "dft_deaths = dft_deaths.set_index('states')"
   ]
  },
  {
   "cell_type": "code",
   "execution_count": 7,
   "metadata": {
    "execution": {
     "iopub.execute_input": "2020-09-04T04:22:36.991780Z",
     "iopub.status.busy": "2020-09-04T04:22:36.991056Z",
     "iopub.status.idle": "2020-09-04T04:22:38.257770Z",
     "shell.execute_reply": "2020-09-04T04:22:38.257090Z"
    },
    "papermill": {
     "duration": 1.292987,
     "end_time": "2020-09-04T04:22:38.257948",
     "exception": false,
     "start_time": "2020-09-04T04:22:36.964961",
     "status": "completed"
    },
    "tags": []
   },
   "outputs": [],
   "source": [
    "#hide\n",
    "for i in range(len(dates)):\n",
    "    df1_cases = df_cases1.get_group(dates[i])\n",
    "    for j in range(len(df1_cases.index)):\n",
    "        if df1_cases.iloc[j,1] in arr_states:\n",
    "            dft_cases.loc[i,df1_cases.iloc[j,1]] = df1_cases.iloc[j,2]\n",
    "dft_cases = dft_cases.set_index('states')"
   ]
  },
  {
   "cell_type": "code",
   "execution_count": 8,
   "metadata": {
    "execution": {
     "iopub.execute_input": "2020-09-04T04:22:38.302728Z",
     "iopub.status.busy": "2020-09-04T04:22:38.302125Z",
     "iopub.status.idle": "2020-09-04T04:22:38.305566Z",
     "shell.execute_reply": "2020-09-04T04:22:38.304786Z"
    },
    "papermill": {
     "duration": 0.028643,
     "end_time": "2020-09-04T04:22:38.305703",
     "exception": false,
     "start_time": "2020-09-04T04:22:38.277060",
     "status": "completed"
    },
    "tags": []
   },
   "outputs": [],
   "source": [
    "#hide\n",
    "dft_cases = dft_cases.T\n",
    "dft_deaths = dft_deaths.T\n",
    "dt_today = dates[-1]\n",
    "dt_yday = dates[-2]"
   ]
  },
  {
   "cell_type": "code",
   "execution_count": 9,
   "metadata": {
    "execution": {
     "iopub.execute_input": "2020-09-04T04:22:38.344123Z",
     "iopub.status.busy": "2020-09-04T04:22:38.343417Z",
     "iopub.status.idle": "2020-09-04T04:22:38.349776Z",
     "shell.execute_reply": "2020-09-04T04:22:38.349110Z"
    },
    "papermill": {
     "duration": 0.028302,
     "end_time": "2020-09-04T04:22:38.349950",
     "exception": false,
     "start_time": "2020-09-04T04:22:38.321648",
     "status": "completed"
    },
    "tags": []
   },
   "outputs": [],
   "source": [
    "#hide\n",
    "dft_cases = dft_cases.reset_index()\n",
    "dft_deaths = dft_deaths.reset_index()\n",
    "dft_cases = dft_cases.rename(columns = {'index':'state'})\n",
    "dft_deaths = dft_deaths.rename(columns = {'index':'state'})"
   ]
  },
  {
   "cell_type": "code",
   "execution_count": 10,
   "metadata": {
    "execution": {
     "iopub.execute_input": "2020-09-04T04:22:38.400416Z",
     "iopub.status.busy": "2020-09-04T04:22:38.399551Z",
     "iopub.status.idle": "2020-09-04T04:22:38.402597Z",
     "shell.execute_reply": "2020-09-04T04:22:38.403261Z"
    },
    "papermill": {
     "duration": 0.033753,
     "end_time": "2020-09-04T04:22:38.403713",
     "exception": false,
     "start_time": "2020-09-04T04:22:38.369960",
     "status": "completed"
    },
    "tags": []
   },
   "outputs": [],
   "source": [
    "#hide\n",
    "dfc_cases = dft_cases.groupby('state')[dt_today].sum()\n",
    "dfc_deaths = dft_deaths.groupby('state')[dt_today].sum()\n",
    "dfp_cases = dft_cases.groupby('state')[dt_yday].sum()\n",
    "dfp_deaths = dft_deaths.groupby('state')[dt_yday].sum()"
   ]
  },
  {
   "cell_type": "code",
   "execution_count": 11,
   "metadata": {
    "execution": {
     "iopub.execute_input": "2020-09-04T04:22:38.445800Z",
     "iopub.status.busy": "2020-09-04T04:22:38.445034Z",
     "iopub.status.idle": "2020-09-04T04:22:38.460133Z",
     "shell.execute_reply": "2020-09-04T04:22:38.460699Z"
    },
    "papermill": {
     "duration": 0.04081,
     "end_time": "2020-09-04T04:22:38.460850",
     "exception": false,
     "start_time": "2020-09-04T04:22:38.420040",
     "status": "completed"
    },
    "tags": []
   },
   "outputs": [
    {
     "data": {
      "text/html": [
       "<div>\n",
       "<style scoped>\n",
       "    .dataframe tbody tr th:only-of-type {\n",
       "        vertical-align: middle;\n",
       "    }\n",
       "\n",
       "    .dataframe tbody tr th {\n",
       "        vertical-align: top;\n",
       "    }\n",
       "\n",
       "    .dataframe thead th {\n",
       "        text-align: right;\n",
       "    }\n",
       "</style>\n",
       "<table border=\"1\" class=\"dataframe\">\n",
       "  <thead>\n",
       "    <tr style=\"text-align: right;\">\n",
       "      <th></th>\n",
       "      <th>states</th>\n",
       "      <th>Cases</th>\n",
       "      <th>Deaths</th>\n",
       "      <th>PCases</th>\n",
       "      <th>PDeaths</th>\n",
       "    </tr>\n",
       "  </thead>\n",
       "  <tbody>\n",
       "    <tr>\n",
       "      <th>0</th>\n",
       "      <td>Maharashtra</td>\n",
       "      <td>843844</td>\n",
       "      <td>25586</td>\n",
       "      <td>843844</td>\n",
       "      <td>25586</td>\n",
       "    </tr>\n",
       "    <tr>\n",
       "      <th>1</th>\n",
       "      <td>Andhra Pradesh</td>\n",
       "      <td>465730</td>\n",
       "      <td>4200</td>\n",
       "      <td>465730</td>\n",
       "      <td>4200</td>\n",
       "    </tr>\n",
       "    <tr>\n",
       "      <th>2</th>\n",
       "      <td>Tamil Nadu</td>\n",
       "      <td>445851</td>\n",
       "      <td>7608</td>\n",
       "      <td>445851</td>\n",
       "      <td>7608</td>\n",
       "    </tr>\n",
       "    <tr>\n",
       "      <th>3</th>\n",
       "      <td>Karnataka</td>\n",
       "      <td>370206</td>\n",
       "      <td>6054</td>\n",
       "      <td>370206</td>\n",
       "      <td>6054</td>\n",
       "    </tr>\n",
       "    <tr>\n",
       "      <th>4</th>\n",
       "      <td>Uttar Pradesh</td>\n",
       "      <td>247101</td>\n",
       "      <td>3691</td>\n",
       "      <td>247101</td>\n",
       "      <td>3691</td>\n",
       "    </tr>\n",
       "  </tbody>\n",
       "</table>\n",
       "</div>"
      ],
      "text/plain": [
       "           states   Cases  Deaths  PCases  PDeaths\n",
       "0     Maharashtra  843844   25586  843844    25586\n",
       "1  Andhra Pradesh  465730    4200  465730     4200\n",
       "2      Tamil Nadu  445851    7608  445851     7608\n",
       "3       Karnataka  370206    6054  370206     6054\n",
       "4   Uttar Pradesh  247101    3691  247101     3691"
      ]
     },
     "execution_count": 11,
     "metadata": {},
     "output_type": "execute_result"
    }
   ],
   "source": [
    "#hide\n",
    "df_table = pd.DataFrame({'states': dfc_cases.index, 'Cases': dfc_cases.values, 'Deaths': dfc_deaths.values, 'PCases': dfp_cases.values, 'PDeaths': dfp_deaths.values}).set_index('states')\n",
    "df_table = df_table.sort_values(by = ['Cases','Deaths'], ascending = [False, False])\n",
    "df_table = df_table.reset_index()\n",
    "df_table.head()"
   ]
  },
  {
   "cell_type": "code",
   "execution_count": 12,
   "metadata": {
    "execution": {
     "iopub.execute_input": "2020-09-04T04:22:38.500673Z",
     "iopub.status.busy": "2020-09-04T04:22:38.500070Z",
     "iopub.status.idle": "2020-09-04T04:22:38.510663Z",
     "shell.execute_reply": "2020-09-04T04:22:38.511301Z"
    },
    "papermill": {
     "duration": 0.031954,
     "end_time": "2020-09-04T04:22:38.511471",
     "exception": false,
     "start_time": "2020-09-04T04:22:38.479517",
     "status": "completed"
    },
    "tags": []
   },
   "outputs": [],
   "source": [
    "#hide\n",
    "for c in 'Cases, Deaths'.split(', '):\n",
    "    df_table[f'{c} (+)'] = (df_table[c] - df_table[f'P{c}']).clip(0)\n",
    "df_table['Fatality Rate'] = (100* df_table['Deaths']/ df_table['Cases']).round(2)"
   ]
  },
  {
   "cell_type": "code",
   "execution_count": 13,
   "metadata": {
    "execution": {
     "iopub.execute_input": "2020-09-04T04:22:38.558981Z",
     "iopub.status.busy": "2020-09-04T04:22:38.558245Z",
     "iopub.status.idle": "2020-09-04T04:22:38.562787Z",
     "shell.execute_reply": "2020-09-04T04:22:38.563355Z"
    },
    "papermill": {
     "duration": 0.035942,
     "end_time": "2020-09-04T04:22:38.563537",
     "exception": false,
     "start_time": "2020-09-04T04:22:38.527595",
     "status": "completed"
    },
    "tags": []
   },
   "outputs": [
    {
     "data": {
      "text/html": [
       "<div>\n",
       "<style scoped>\n",
       "    .dataframe tbody tr th:only-of-type {\n",
       "        vertical-align: middle;\n",
       "    }\n",
       "\n",
       "    .dataframe tbody tr th {\n",
       "        vertical-align: top;\n",
       "    }\n",
       "\n",
       "    .dataframe thead th {\n",
       "        text-align: right;\n",
       "    }\n",
       "</style>\n",
       "<table border=\"1\" class=\"dataframe\">\n",
       "  <thead>\n",
       "    <tr style=\"text-align: right;\">\n",
       "      <th></th>\n",
       "      <th>states</th>\n",
       "      <th>Cases</th>\n",
       "      <th>Deaths</th>\n",
       "      <th>PCases</th>\n",
       "      <th>PDeaths</th>\n",
       "      <th>Cases (+)</th>\n",
       "      <th>Deaths (+)</th>\n",
       "      <th>Fatality Rate</th>\n",
       "    </tr>\n",
       "  </thead>\n",
       "  <tbody>\n",
       "    <tr>\n",
       "      <th>0</th>\n",
       "      <td>Maharashtra</td>\n",
       "      <td>843844</td>\n",
       "      <td>25586</td>\n",
       "      <td>843844</td>\n",
       "      <td>25586</td>\n",
       "      <td>0</td>\n",
       "      <td>0</td>\n",
       "      <td>3.03</td>\n",
       "    </tr>\n",
       "    <tr>\n",
       "      <th>1</th>\n",
       "      <td>Andhra Pradesh</td>\n",
       "      <td>465730</td>\n",
       "      <td>4200</td>\n",
       "      <td>465730</td>\n",
       "      <td>4200</td>\n",
       "      <td>0</td>\n",
       "      <td>0</td>\n",
       "      <td>0.90</td>\n",
       "    </tr>\n",
       "    <tr>\n",
       "      <th>2</th>\n",
       "      <td>Tamil Nadu</td>\n",
       "      <td>445851</td>\n",
       "      <td>7608</td>\n",
       "      <td>445851</td>\n",
       "      <td>7608</td>\n",
       "      <td>0</td>\n",
       "      <td>0</td>\n",
       "      <td>1.71</td>\n",
       "    </tr>\n",
       "    <tr>\n",
       "      <th>3</th>\n",
       "      <td>Karnataka</td>\n",
       "      <td>370206</td>\n",
       "      <td>6054</td>\n",
       "      <td>370206</td>\n",
       "      <td>6054</td>\n",
       "      <td>0</td>\n",
       "      <td>0</td>\n",
       "      <td>1.64</td>\n",
       "    </tr>\n",
       "    <tr>\n",
       "      <th>4</th>\n",
       "      <td>Uttar Pradesh</td>\n",
       "      <td>247101</td>\n",
       "      <td>3691</td>\n",
       "      <td>247101</td>\n",
       "      <td>3691</td>\n",
       "      <td>0</td>\n",
       "      <td>0</td>\n",
       "      <td>1.49</td>\n",
       "    </tr>\n",
       "  </tbody>\n",
       "</table>\n",
       "</div>"
      ],
      "text/plain": [
       "           states   Cases  Deaths  PCases  PDeaths  Cases (+)  Deaths (+)  \\\n",
       "0     Maharashtra  843844   25586  843844    25586          0           0   \n",
       "1  Andhra Pradesh  465730    4200  465730     4200          0           0   \n",
       "2      Tamil Nadu  445851    7608  445851     7608          0           0   \n",
       "3       Karnataka  370206    6054  370206     6054          0           0   \n",
       "4   Uttar Pradesh  247101    3691  247101     3691          0           0   \n",
       "\n",
       "   Fatality Rate  \n",
       "0           3.03  \n",
       "1           0.90  \n",
       "2           1.71  \n",
       "3           1.64  \n",
       "4           1.49  "
      ]
     },
     "execution_count": 13,
     "metadata": {},
     "output_type": "execute_result"
    }
   ],
   "source": [
    "#hide\n",
    "df_table.head()"
   ]
  },
  {
   "cell_type": "code",
   "execution_count": 14,
   "metadata": {
    "execution": {
     "iopub.execute_input": "2020-09-04T04:22:38.626704Z",
     "iopub.status.busy": "2020-09-04T04:22:38.611744Z",
     "iopub.status.idle": "2020-09-04T04:22:38.630501Z",
     "shell.execute_reply": "2020-09-04T04:22:38.629669Z"
    },
    "papermill": {
     "duration": 0.046538,
     "end_time": "2020-09-04T04:22:38.630666",
     "exception": false,
     "start_time": "2020-09-04T04:22:38.584128",
     "status": "completed"
    },
    "tags": []
   },
   "outputs": [
    {
     "data": {
      "text/plain": [
       "{'updated': '2020-09-04',\n",
       " 'since': '2020-09-03',\n",
       " 'Cases': 3936126,\n",
       " 'PCases': 3933124,\n",
       " 'Deaths': 68582,\n",
       " 'PDeaths': 68569,\n",
       " 'Cases (+)': 3002,\n",
       " 'Deaths (+)': 13}"
      ]
     },
     "execution_count": 14,
     "metadata": {},
     "output_type": "execute_result"
    }
   ],
   "source": [
    "#hide\n",
    "summary = {'updated':dates[-1], 'since':dates[-2]}\n",
    "list_names = ['Cases', 'PCases', 'Deaths', 'PDeaths', 'Cases (+)', 'Deaths (+)']\n",
    "for name in list_names:\n",
    "    summary[name] = df_table.sum()[name]\n",
    "summary"
   ]
  },
  {
   "cell_type": "code",
   "execution_count": 15,
   "metadata": {
    "execution": {
     "iopub.execute_input": "2020-09-04T04:22:38.676911Z",
     "iopub.status.busy": "2020-09-04T04:22:38.676175Z",
     "iopub.status.idle": "2020-09-04T04:22:38.678012Z",
     "shell.execute_reply": "2020-09-04T04:22:38.678599Z"
    },
    "papermill": {
     "duration": 0.027001,
     "end_time": "2020-09-04T04:22:38.679257",
     "exception": false,
     "start_time": "2020-09-04T04:22:38.652256",
     "status": "completed"
    },
    "tags": []
   },
   "outputs": [],
   "source": [
    "#hide\n",
    "overview = '''\n",
    "<!-- #######  HTML!! #########-->\n",
    "<h1 style=\"color: #5e9ca0; text-align: center;\">India</h1>\n",
    "<p style=\"text-align: center;\">Last update: <strong>{update}</strong></p>\n",
    "<p style=\"text-align: center;\">Confirmed cases:</p>\n",
    "<p style=\"text-align: center;font-size:24px;\">{cases} (<span style=\"color: #ff0000;\">+{new}</span>)</p>\n",
    "<p style=\"text-align: center;\">Confirmed deaths:</p>\n",
    "<p style=\"text-align: center;font-size:24px;\">{deaths} (<span style=\"color: #ff0000;\">+{dnew}</span>)</p>\n",
    "'''"
   ]
  },
  {
   "cell_type": "code",
   "execution_count": 16,
   "metadata": {
    "execution": {
     "iopub.execute_input": "2020-09-04T04:22:38.729077Z",
     "iopub.status.busy": "2020-09-04T04:22:38.728346Z",
     "iopub.status.idle": "2020-09-04T04:22:38.731105Z",
     "shell.execute_reply": "2020-09-04T04:22:38.731728Z"
    },
    "papermill": {
     "duration": 0.031794,
     "end_time": "2020-09-04T04:22:38.731895",
     "exception": false,
     "start_time": "2020-09-04T04:22:38.700101",
     "status": "completed"
    },
    "tags": []
   },
   "outputs": [
    {
     "data": {
      "text/html": [
       "\n",
       "<!-- #######  HTML!! #########-->\n",
       "<h1 style=\"color: #5e9ca0; text-align: center;\">India</h1>\n",
       "<p style=\"text-align: center;\">Last update: <strong>2020-09-04</strong></p>\n",
       "<p style=\"text-align: center;\">Confirmed cases:</p>\n",
       "<p style=\"text-align: center;font-size:24px;\">3936126 (<span style=\"color: #ff0000;\">+3002</span>)</p>\n",
       "<p style=\"text-align: center;\">Confirmed deaths:</p>\n",
       "<p style=\"text-align: center;font-size:24px;\">68582 (<span style=\"color: #ff0000;\">+13</span>)</p>\n"
      ],
      "text/plain": [
       "<IPython.core.display.HTML object>"
      ]
     },
     "metadata": {},
     "output_type": "display_data"
    }
   ],
   "source": [
    "#hide_input\n",
    "update = summary['updated']\n",
    "cases = summary['Cases']\n",
    "new = summary['Cases (+)']\n",
    "deaths = summary['Deaths']\n",
    "dnew = summary['Deaths (+)']\n",
    "\n",
    "html = HTML(overview.format(update=update, cases=cases,new=new,deaths=deaths,dnew=dnew))\n",
    "\n",
    "display(html)"
   ]
  },
  {
   "cell_type": "code",
   "execution_count": 17,
   "metadata": {
    "execution": {
     "iopub.execute_input": "2020-09-04T04:22:38.780033Z",
     "iopub.status.busy": "2020-09-04T04:22:38.779377Z",
     "iopub.status.idle": "2020-09-04T04:22:38.784966Z",
     "shell.execute_reply": "2020-09-04T04:22:38.785702Z"
    },
    "papermill": {
     "duration": 0.033807,
     "end_time": "2020-09-04T04:22:38.785884",
     "exception": false,
     "start_time": "2020-09-04T04:22:38.752077",
     "status": "completed"
    },
    "tags": []
   },
   "outputs": [],
   "source": [
    "#hide\n",
    "dt_cols = list(dft_cases.columns[1:])\n",
    "dft_ct_new_cases = dft_cases.groupby('state')[dt_cols].sum().diff(axis=1).fillna(0).astype(int)\n",
    "dft_ct_new_cases.sort_values(by = dates[-1], ascending = False,inplace = True)"
   ]
  },
  {
   "cell_type": "code",
   "execution_count": 18,
   "metadata": {
    "execution": {
     "iopub.execute_input": "2020-09-04T04:22:38.848909Z",
     "iopub.status.busy": "2020-09-04T04:22:38.848253Z",
     "iopub.status.idle": "2020-09-04T04:22:38.851209Z",
     "shell.execute_reply": "2020-09-04T04:22:38.851740Z"
    },
    "papermill": {
     "duration": 0.043796,
     "end_time": "2020-09-04T04:22:38.851972",
     "exception": false,
     "start_time": "2020-09-04T04:22:38.808176",
     "status": "completed"
    },
    "tags": []
   },
   "outputs": [
    {
     "data": {
      "text/html": [
       "<div>\n",
       "<style scoped>\n",
       "    .dataframe tbody tr th:only-of-type {\n",
       "        vertical-align: middle;\n",
       "    }\n",
       "\n",
       "    .dataframe tbody tr th {\n",
       "        vertical-align: top;\n",
       "    }\n",
       "\n",
       "    .dataframe thead th {\n",
       "        text-align: right;\n",
       "    }\n",
       "</style>\n",
       "<table border=\"1\" class=\"dataframe\">\n",
       "  <thead>\n",
       "    <tr style=\"text-align: right;\">\n",
       "      <th>states</th>\n",
       "      <th>2020-07-01</th>\n",
       "      <th>2020-07-02</th>\n",
       "      <th>2020-07-03</th>\n",
       "      <th>2020-07-04</th>\n",
       "      <th>2020-07-05</th>\n",
       "      <th>2020-07-06</th>\n",
       "      <th>2020-07-07</th>\n",
       "      <th>2020-07-08</th>\n",
       "      <th>2020-07-09</th>\n",
       "      <th>2020-07-10</th>\n",
       "      <th>...</th>\n",
       "      <th>2020-08-26</th>\n",
       "      <th>2020-08-27</th>\n",
       "      <th>2020-08-28</th>\n",
       "      <th>2020-08-29</th>\n",
       "      <th>2020-08-30</th>\n",
       "      <th>2020-08-31</th>\n",
       "      <th>2020-09-01</th>\n",
       "      <th>2020-09-02</th>\n",
       "      <th>2020-09-03</th>\n",
       "      <th>2020-09-04</th>\n",
       "    </tr>\n",
       "    <tr>\n",
       "      <th>state</th>\n",
       "      <th></th>\n",
       "      <th></th>\n",
       "      <th></th>\n",
       "      <th></th>\n",
       "      <th></th>\n",
       "      <th></th>\n",
       "      <th></th>\n",
       "      <th></th>\n",
       "      <th></th>\n",
       "      <th></th>\n",
       "      <th></th>\n",
       "      <th></th>\n",
       "      <th></th>\n",
       "      <th></th>\n",
       "      <th></th>\n",
       "      <th></th>\n",
       "      <th></th>\n",
       "      <th></th>\n",
       "      <th></th>\n",
       "      <th></th>\n",
       "      <th></th>\n",
       "    </tr>\n",
       "  </thead>\n",
       "  <tbody>\n",
       "    <tr>\n",
       "      <th>Telangana</th>\n",
       "      <td>0</td>\n",
       "      <td>1213</td>\n",
       "      <td>1892</td>\n",
       "      <td>1850</td>\n",
       "      <td>1590</td>\n",
       "      <td>1831</td>\n",
       "      <td>1879</td>\n",
       "      <td>1924</td>\n",
       "      <td>1410</td>\n",
       "      <td>1278</td>\n",
       "      <td>...</td>\n",
       "      <td>3018</td>\n",
       "      <td>2795</td>\n",
       "      <td>2932</td>\n",
       "      <td>2751</td>\n",
       "      <td>2924</td>\n",
       "      <td>1873</td>\n",
       "      <td>2734</td>\n",
       "      <td>2892</td>\n",
       "      <td>2817</td>\n",
       "      <td>2478</td>\n",
       "    </tr>\n",
       "    <tr>\n",
       "      <th>Tripura</th>\n",
       "      <td>0</td>\n",
       "      <td>39</td>\n",
       "      <td>93</td>\n",
       "      <td>25</td>\n",
       "      <td>23</td>\n",
       "      <td>111</td>\n",
       "      <td>24</td>\n",
       "      <td>57</td>\n",
       "      <td>16</td>\n",
       "      <td>142</td>\n",
       "      <td>...</td>\n",
       "      <td>329</td>\n",
       "      <td>385</td>\n",
       "      <td>509</td>\n",
       "      <td>443</td>\n",
       "      <td>447</td>\n",
       "      <td>321</td>\n",
       "      <td>509</td>\n",
       "      <td>566</td>\n",
       "      <td>590</td>\n",
       "      <td>524</td>\n",
       "    </tr>\n",
       "    <tr>\n",
       "      <th>Andaman and Nicobar Islands</th>\n",
       "      <td>0</td>\n",
       "      <td>9</td>\n",
       "      <td>7</td>\n",
       "      <td>3</td>\n",
       "      <td>6</td>\n",
       "      <td>16</td>\n",
       "      <td>6</td>\n",
       "      <td>2</td>\n",
       "      <td>7</td>\n",
       "      <td>0</td>\n",
       "      <td>...</td>\n",
       "      <td>40</td>\n",
       "      <td>33</td>\n",
       "      <td>32</td>\n",
       "      <td>31</td>\n",
       "      <td>23</td>\n",
       "      <td>28</td>\n",
       "      <td>28</td>\n",
       "      <td>26</td>\n",
       "      <td>37</td>\n",
       "      <td>0</td>\n",
       "    </tr>\n",
       "    <tr>\n",
       "      <th>Puducherry</th>\n",
       "      <td>0</td>\n",
       "      <td>63</td>\n",
       "      <td>22</td>\n",
       "      <td>80</td>\n",
       "      <td>42</td>\n",
       "      <td>65</td>\n",
       "      <td>30</td>\n",
       "      <td>110</td>\n",
       "      <td>49</td>\n",
       "      <td>72</td>\n",
       "      <td>...</td>\n",
       "      <td>504</td>\n",
       "      <td>504</td>\n",
       "      <td>590</td>\n",
       "      <td>532</td>\n",
       "      <td>571</td>\n",
       "      <td>284</td>\n",
       "      <td>355</td>\n",
       "      <td>391</td>\n",
       "      <td>424</td>\n",
       "      <td>0</td>\n",
       "    </tr>\n",
       "    <tr>\n",
       "      <th>Maharashtra</th>\n",
       "      <td>0</td>\n",
       "      <td>6328</td>\n",
       "      <td>6364</td>\n",
       "      <td>7074</td>\n",
       "      <td>6555</td>\n",
       "      <td>5368</td>\n",
       "      <td>5134</td>\n",
       "      <td>6603</td>\n",
       "      <td>6875</td>\n",
       "      <td>7862</td>\n",
       "      <td>...</td>\n",
       "      <td>14888</td>\n",
       "      <td>14857</td>\n",
       "      <td>14427</td>\n",
       "      <td>16286</td>\n",
       "      <td>16408</td>\n",
       "      <td>11852</td>\n",
       "      <td>15765</td>\n",
       "      <td>17433</td>\n",
       "      <td>18105</td>\n",
       "      <td>0</td>\n",
       "    </tr>\n",
       "  </tbody>\n",
       "</table>\n",
       "<p>5 rows × 66 columns</p>\n",
       "</div>"
      ],
      "text/plain": [
       "states                       2020-07-01  2020-07-02  2020-07-03  2020-07-04  \\\n",
       "state                                                                         \n",
       "Telangana                             0        1213        1892        1850   \n",
       "Tripura                               0          39          93          25   \n",
       "Andaman and Nicobar Islands           0           9           7           3   \n",
       "Puducherry                            0          63          22          80   \n",
       "Maharashtra                           0        6328        6364        7074   \n",
       "\n",
       "states                       2020-07-05  2020-07-06  2020-07-07  2020-07-08  \\\n",
       "state                                                                         \n",
       "Telangana                          1590        1831        1879        1924   \n",
       "Tripura                              23         111          24          57   \n",
       "Andaman and Nicobar Islands           6          16           6           2   \n",
       "Puducherry                           42          65          30         110   \n",
       "Maharashtra                        6555        5368        5134        6603   \n",
       "\n",
       "states                       2020-07-09  2020-07-10  ...  2020-08-26  \\\n",
       "state                                                ...               \n",
       "Telangana                          1410        1278  ...        3018   \n",
       "Tripura                              16         142  ...         329   \n",
       "Andaman and Nicobar Islands           7           0  ...          40   \n",
       "Puducherry                           49          72  ...         504   \n",
       "Maharashtra                        6875        7862  ...       14888   \n",
       "\n",
       "states                       2020-08-27  2020-08-28  2020-08-29  2020-08-30  \\\n",
       "state                                                                         \n",
       "Telangana                          2795        2932        2751        2924   \n",
       "Tripura                             385         509         443         447   \n",
       "Andaman and Nicobar Islands          33          32          31          23   \n",
       "Puducherry                          504         590         532         571   \n",
       "Maharashtra                       14857       14427       16286       16408   \n",
       "\n",
       "states                       2020-08-31  2020-09-01  2020-09-02  2020-09-03  \\\n",
       "state                                                                         \n",
       "Telangana                          1873        2734        2892        2817   \n",
       "Tripura                             321         509         566         590   \n",
       "Andaman and Nicobar Islands          28          28          26          37   \n",
       "Puducherry                          284         355         391         424   \n",
       "Maharashtra                       11852       15765       17433       18105   \n",
       "\n",
       "states                       2020-09-04  \n",
       "state                                    \n",
       "Telangana                          2478  \n",
       "Tripura                             524  \n",
       "Andaman and Nicobar Islands           0  \n",
       "Puducherry                            0  \n",
       "Maharashtra                           0  \n",
       "\n",
       "[5 rows x 66 columns]"
      ]
     },
     "execution_count": 18,
     "metadata": {},
     "output_type": "execute_result"
    }
   ],
   "source": [
    "#hide\n",
    "dft_ct_new_cases.head()"
   ]
  },
  {
   "cell_type": "code",
   "execution_count": 19,
   "metadata": {
    "execution": {
     "iopub.execute_input": "2020-09-04T04:22:38.938356Z",
     "iopub.status.busy": "2020-09-04T04:22:38.937632Z",
     "iopub.status.idle": "2020-09-04T04:22:42.652157Z",
     "shell.execute_reply": "2020-09-04T04:22:42.652776Z"
    },
    "papermill": {
     "duration": 3.782448,
     "end_time": "2020-09-04T04:22:42.652992",
     "exception": false,
     "start_time": "2020-09-04T04:22:38.870544",
     "status": "completed"
    },
    "tags": []
   },
   "outputs": [
    {
     "data": {
      "image/png": "[encoded data removed]",
      "text/plain": [
       "<Figure size 1296x2016 with 11 Axes>"
      ]
     },
     "metadata": {
      "needs_background": "light"
     },
     "output_type": "display_data"
    }
   ],
   "source": [
    "#hide_input\n",
    "df = dft_ct_new_cases.copy()\n",
    "df.loc['Total'] = df.sum()\n",
    "n = 5\n",
    "ax = []\n",
    "fig = plt.figure(figsize = (18,28))\n",
    "gs = fig.add_gridspec(n+2, 5)\n",
    "# gs = fig.add_gridspec(2, 3)\n",
    "ax1 = fig.add_subplot(gs[0, :])\n",
    "ef = df.loc['Total'].rename_axis('date').reset_index()\n",
    "ef['date'] = ef['date'].astype('datetime64[ns]')\n",
    "ax1.bar(ef.date,ef.Total,alpha=0.3,color='#007acc')\n",
    "ax1.plot(ef.date,ef.Total , marker=\"o\", color='#007acc')\n",
    "ax1.xaxis.set_major_locator(mdates.WeekdayLocator())\n",
    "ax1.xaxis.set_major_formatter(mdates.DateFormatter('%b %d'))\n",
    "ax1.text(0.02, 0.5,'India daily case count', transform = ax1.transAxes, fontsize=25);\n",
    "ax1.spines['right'].set_visible(False)\n",
    "ax1.spines['top'].set_visible(False)\n",
    "\n",
    "ax2 = fig.add_subplot(gs[1,0])\n",
    "ef = df.loc['Maharashtra'].rename_axis('date').reset_index()\n",
    "ef['date'] = ef['date'].astype('datetime64[ns]')\n",
    "\n",
    "ax2.bar(ef.date, ef.Maharashtra,color = '#007acc',alpha=0.5)\n",
    "ax2.xaxis.set_major_locator(mdates.WeekdayLocator())\n",
    "ax2.xaxis.set_major_formatter(mdates.DateFormatter('%b %d'))\n",
    "ax2.set_xticks(ax2.get_xticks()[::3])\n",
    "maxyval = ef.Maharashtra.max()\n",
    "ax2.set_ylim([0,maxyval])\n",
    "ax2.text(0.05, 0.9,'Maharashtra', transform = ax2.transAxes, fontsize=20);\n",
    "ax2.spines['right'].set_visible(False)\n",
    "ax2.spines['top'].set_visible(False)\n",
    "\n",
    "\n",
    "ax3 = fig.add_subplot(gs[1,1])\n",
    "ef = df.loc['Tamil Nadu'].rename_axis('date').reset_index()\n",
    "ef['date'] = ef['date'].astype('datetime64[ns]')\n",
    "ax3.bar(ef.date, ef['Tamil Nadu'],color = '#007acc',alpha=0.5,)\n",
    "ax3.xaxis.set_major_locator(mdates.WeekdayLocator())\n",
    "ax3.xaxis.set_major_formatter(mdates.DateFormatter('%b %d'))\n",
    "ax3.set_xticks(ax3.get_xticks()[::3])\n",
    "ax3.text(0.05, 0.9,'Tamil Nadu', transform = ax3.transAxes, fontsize=20);\n",
    "ax3.spines['right'].set_visible(False)\n",
    "ax3.spines['top'].set_visible(False)\n",
    "\n",
    "ax5 = fig.add_subplot(gs[1,3])\n",
    "ef = df.loc['Telangana'].rename_axis('date').reset_index()\n",
    "ef['date'] = ef['date'].astype('datetime64[ns]')\n",
    "ax5.bar(ef.date, ef['Telangana'],color = '#007acc',alpha=0.5,)\n",
    "ax5.xaxis.set_major_locator(mdates.WeekdayLocator())\n",
    "ax5.xaxis.set_major_formatter(mdates.DateFormatter('%b %d'))\n",
    "ax5.set_xticks(ax5.get_xticks()[::3])\n",
    "ax5.text(0.05, 0.9,'Telangana', transform = ax5.transAxes, fontsize=20);\n",
    "ax5.spines['right'].set_visible(False)\n",
    "ax5.spines['top'].set_visible(False)\n",
    "\n",
    "ax6 = fig.add_subplot(gs[1,4])\n",
    "ef = df.loc['Andhra Pradesh'].rename_axis('date').reset_index()\n",
    "ef['date'] = ef['date'].astype('datetime64[ns]')\n",
    "ax6.bar(ef.date, ef['Andhra Pradesh'],color = '#007acc',alpha=0.5,)\n",
    "ax6.xaxis.set_major_locator(mdates.WeekdayLocator())\n",
    "ax6.xaxis.set_major_formatter(mdates.DateFormatter('%b %d'))\n",
    "ax6.set_xticks(ax6.get_xticks()[::3])\n",
    "ax6.text(0.05, 1,'Andhra Pradesh', transform = ax6.transAxes, fontsize=20);\n",
    "ax6.spines['right'].set_visible(False)\n",
    "ax6.spines['top'].set_visible(False)\n",
    "\n",
    "ax4 = fig.add_subplot(gs[1,2])\n",
    "ef = df.loc['Delhi'].rename_axis('date').reset_index()\n",
    "ef['date'] = ef['date'].astype('datetime64[ns]')\n",
    "ax4.bar(ef.date, ef.Delhi,color = '#007acc',alpha=0.5)\n",
    "ax4.set_xticks([])\n",
    "ax4.xaxis.set_major_locator(mdates.WeekdayLocator())\n",
    "ax4.xaxis.set_major_formatter(mdates.DateFormatter('%b %d'))\n",
    "ax4.set_xticks(ax4.get_xticks()[::3])\n",
    "ax4.spines['right'].set_visible(False)\n",
    "ax4.spines['top'].set_visible(False)\n",
    "\n",
    "ax4.text(0.05, 1,'Delhi', transform = ax4.transAxes, fontsize=20)\n",
    "\n",
    "for i in range(n):\n",
    "    \n",
    "    ax.append(fig.add_subplot(gs[i+2,:]))\n",
    "    ef = df.iloc[i+3].rename_axis('date').reset_index()\n",
    "    ef['date'] = ef['date'].astype('datetime64[ns]')\n",
    "    ax[i].bar(ef.date,ef.iloc[:,-1],color = '#007acc',alpha=0.3)\n",
    "    ax[i].plot(ef.date,ef.iloc[:,-1],marker='o',color='#007acc')\n",
    "    ax[i].text(0.02,0.5,f'{ef.columns.values[-1]}',transform = ax[i].transAxes, fontsize = 20);\n",
    "    ax[i].xaxis.set_major_locator(mdates.WeekdayLocator())\n",
    "    ax[i].xaxis.set_major_formatter(mdates.DateFormatter('%b %d'))\n",
    "    ax[i].set_ylim([0,7000])\n",
    "    ax[i].spines['right'].set_visible(False)\n",
    "    ax[i].spines['top'].set_visible(False)\n",
    "plt.tight_layout()\n"
   ]
  },
  {
   "cell_type": "code",
   "execution_count": 20,
   "metadata": {
    "execution": {
     "iopub.execute_input": "2020-09-04T04:22:42.707123Z",
     "iopub.status.busy": "2020-09-04T04:22:42.704421Z",
     "iopub.status.idle": "2020-09-04T04:22:42.709337Z",
     "shell.execute_reply": "2020-09-04T04:22:42.709830Z"
    },
    "papermill": {
     "duration": 0.035217,
     "end_time": "2020-09-04T04:22:42.709973",
     "exception": false,
     "start_time": "2020-09-04T04:22:42.674756",
     "status": "completed"
    },
    "tags": []
   },
   "outputs": [
    {
     "name": "stdout",
     "output_type": "stream",
     "text": [
      "                                   states   Cases  Deaths  PCases  PDeaths  Cases (+)  Deaths (+)  Fatality Rate\n",
      "                              Maharashtra  843844   25586  843844    25586          0           0           3.03\n",
      "                           Andhra Pradesh  465730    4200  465730     4200          0           0           0.90\n",
      "                               Tamil Nadu  445851    7608  445851     7608          0           0           1.71\n",
      "                                Karnataka  370206    6054  370206     6054          0           0           1.64\n",
      "                            Uttar Pradesh  247101    3691  247101     3691          0           0           1.49\n",
      "                                    Delhi  182306    4500  182306     4500          0           0           2.47\n",
      "                              West Bengal  171681    3394  171681     3394          0           0           1.98\n",
      "                                    Bihar  142156     728  142156      728          0           0           0.51\n",
      "                                Telangana  135884     866  133406      856       2478          10           0.64\n",
      "                                    Assam  118334     330  118334      330          0           0           0.28\n",
      "                                   Odisha  113411     575  113411      575          0           0           0.51\n",
      "                                  Gujarat  100375    3062  100375     3062          0           0           3.05\n",
      "                                Rajasthan   86227    1095   86227     1095          0           0           1.27\n",
      "                                   Kerala   79626     316   79626      316          0           0           0.40\n",
      "                                  Haryana   70099     740   70099      740          0           0           1.06\n",
      "                           Madhya Pradesh   68586    1483   68586     1483          0           0           2.16\n",
      "                                   Punjab   58515    1690   58515     1690          0           0           2.89\n",
      "                                Jharkhand   46480     444   46480      444          0           0           0.96\n",
      "                        Jammu and Kashmir   39943     743   39943      743          0           0           1.86\n",
      "                             Chhattisgarh   37967     315   37967      315          0           0           0.83\n",
      "                              Uttarakhand   22180     300   22180      300          0           0           1.35\n",
      "                                      Goa   19355     212   19355      212          0           0           1.10\n",
      "                               Puducherry   15581     260   15581      260          0           0           1.67\n",
      "                                  Tripura   13833     129   13309      126        524           3           0.93\n",
      "                         Himachal Pradesh    6615      47    6615       47          0           0           0.71\n",
      "                                  Manipur    6609      32    6609       32          0           0           0.48\n",
      "                               Chandigarh    5065      63    5065       63          0           0           1.24\n",
      "                        Arunachal Pradesh    4574       8    4574        8          0           0           0.17\n",
      "                                 Nagaland    4066       8    4066        8          0           0           0.20\n",
      "              Andaman and Nicobar Islands    3223      48    3223       48          0           0           1.49\n",
      "                                   Ladakh    2840      35    2840       35          0           0           1.23\n",
      "                                Meghalaya    2626      13    2626       13          0           0           0.50\n",
      " Dadra and Nagar Haveli and Daman and Diu    2459       2    2459        2          0           0           0.08\n",
      "                                   Sikkim    1738       5    1738        5          0           0           0.29\n",
      "                                  Mizoram    1040       0    1040        0          0           0           0.00\n",
      "                              Lakshadweep       0       0       0        0          0           0            NaN\n"
     ]
    }
   ],
   "source": [
    "#hide_input\n",
    "print(df_table.to_string(index=False))"
   ]
  },
  {
   "cell_type": "code",
   "execution_count": null,
   "metadata": {
    "papermill": {
     "duration": 0.020535,
     "end_time": "2020-09-04T04:22:42.752688",
     "exception": false,
     "start_time": "2020-09-04T04:22:42.732153",
     "status": "completed"
    },
    "tags": []
   },
   "outputs": [],
   "source": []
  },
  {
   "cell_type": "code",
   "execution_count": null,
   "metadata": {
    "papermill": {
     "duration": 0.021753,
     "end_time": "2020-09-04T04:22:42.794993",
     "exception": false,
     "start_time": "2020-09-04T04:22:42.773240",
     "status": "completed"
    },
    "tags": []
   },
   "outputs": [],
   "source": []
  }
 ],
 "metadata": {
  "kernelspec": {
   "display_name": "Python 3",
   "language": "python",
   "name": "python3"
  },
  "language_info": {
   "codemirror_mode": {
    "name": "ipython",
    "version": 3
   },
   "file_extension": ".py",
   "mimetype": "text/x-python",
   "name": "python",
   "nbconvert_exporter": "python",
   "pygments_lexer": "ipython3",
   "version": "3.6.12"
  },
  "papermill": {
   "duration": 10.001942,
   "end_time": "2020-09-04T04:22:43.223802",
   "environment_variables": {},
   "exception": null,
   "input_path": "latest.ipynb",
   "output_path": "latest.ipynb",
   "parameters": {},
   "start_time": "2020-09-04T04:22:33.221860",
   "version": "2.1.2"
  }
 },
 "nbformat": 4,
 "nbformat_minor": 4
}