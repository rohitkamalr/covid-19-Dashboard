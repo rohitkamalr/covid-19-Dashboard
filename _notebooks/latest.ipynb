{
 "cells": [
  {
   "cell_type": "markdown",
   "metadata": {
    "papermill": {
     "duration": 0.02271,
     "end_time": "2020-09-18T07:52:08.267895",
     "exception": false,
     "start_time": "2020-09-18T07:52:08.245185",
     "status": "completed"
    },
    "tags": []
   },
   "source": [
    "# Latest COVID-19 India Matplotlib Overview"
   ]
  },
  {
   "cell_type": "code",
   "execution_count": 1,
   "metadata": {
    "execution": {
     "iopub.execute_input": "2020-09-18T07:52:08.315736Z",
     "iopub.status.busy": "2020-09-18T07:52:08.315018Z",
     "iopub.status.idle": "2020-09-18T07:52:08.956928Z",
     "shell.execute_reply": "2020-09-18T07:52:08.956167Z"
    },
    "papermill": {
     "duration": 0.668562,
     "end_time": "2020-09-18T07:52:08.957117",
     "exception": false,
     "start_time": "2020-09-18T07:52:08.288555",
     "status": "completed"
    },
    "tags": []
   },
   "outputs": [],
   "source": [
    "#hide\n",
    "import pandas as pd\n",
    "import numpy as np\n",
    "import requests\n",
    "import json\n",
    "import matplotlib.pyplot as plt\n",
    "import matplotlib.dates as mdates\n",
    "import matplotlib as mpl\n",
    "from IPython.core.display import display,HTML\n",
    "%matplotlib inline\n",
    "from datetime import date"
   ]
  },
  {
   "cell_type": "code",
   "execution_count": 2,
   "metadata": {
    "execution": {
     "iopub.execute_input": "2020-09-18T07:52:09.004033Z",
     "iopub.status.busy": "2020-09-18T07:52:09.003309Z",
     "iopub.status.idle": "2020-09-18T07:52:09.328222Z",
     "shell.execute_reply": "2020-09-18T07:52:09.327026Z"
    },
    "papermill": {
     "duration": 0.351955,
     "end_time": "2020-09-18T07:52:09.328386",
     "exception": false,
     "start_time": "2020-09-18T07:52:08.976431",
     "status": "completed"
    },
    "tags": []
   },
   "outputs": [],
   "source": [
    "#hide\n",
    "df  = pd.read_csv('https://api.covid19india.org/csv/latest/states.csv')\n",
    "df = df[['Date','State','Confirmed','Deceased']]\n",
    "df = df.rename(columns={'Confirmed':'Cases', \"Deceased\":'Deaths'})\n",
    "df_cases = df[[\"Date\",'State','Cases']]\n",
    "df_deaths = df[['Date','State','Deaths']]\n",
    "df_cases1 = df_cases.groupby('Date')\n",
    "df_deaths1= df_deaths.groupby('Date')"
   ]
  },
  {
   "cell_type": "code",
   "execution_count": 3,
   "metadata": {
    "execution": {
     "iopub.execute_input": "2020-09-18T07:52:09.373130Z",
     "iopub.status.busy": "2020-09-18T07:52:09.372422Z",
     "iopub.status.idle": "2020-09-18T07:52:09.393102Z",
     "shell.execute_reply": "2020-09-18T07:52:09.392520Z"
    },
    "papermill": {
     "duration": 0.046507,
     "end_time": "2020-09-18T07:52:09.393263",
     "exception": false,
     "start_time": "2020-09-18T07:52:09.346756",
     "status": "completed"
    },
    "tags": []
   },
   "outputs": [],
   "source": [
    "#hide\n",
    "df_snap = pd.read_csv('data/SnapshotCases-28-July.csv')\n",
    "arr_states = df_snap['states'].unique()\n",
    "arr_dates = df['Date'].unique()\n",
    "df_snap = df_snap.set_index('states')"
   ]
  },
  {
   "cell_type": "code",
   "execution_count": 4,
   "metadata": {
    "execution": {
     "iopub.execute_input": "2020-09-18T07:52:09.438103Z",
     "iopub.status.busy": "2020-09-18T07:52:09.437384Z",
     "iopub.status.idle": "2020-09-18T07:52:09.442757Z",
     "shell.execute_reply": "2020-09-18T07:52:09.442174Z"
    },
    "papermill": {
     "duration": 0.030303,
     "end_time": "2020-09-18T07:52:09.443024",
     "exception": false,
     "start_time": "2020-09-18T07:52:09.412721",
     "status": "completed"
    },
    "tags": []
   },
   "outputs": [
    {
     "data": {
      "text/plain": [
       "array(['Andaman and Nicobar Islands', 'Andhra Pradesh',\n",
       "       'Arunachal Pradesh', 'Assam', 'Bihar', 'Chandigarh',\n",
       "       'Dadra and Nagar Haveli and Daman and Diu', 'Delhi', 'Goa',\n",
       "       'Gujarat', 'Haryana', 'Himachal Pradesh', 'Jammu and Kashmir',\n",
       "       'Jharkhand', 'Karnataka', 'Kerala', 'Lakshadweep',\n",
       "       'Madhya Pradesh', 'Maharashtra', 'Manipur', 'Meghalaya', 'Mizoram',\n",
       "       'Nagaland', 'Odisha', 'Puducherry', 'Punjab', 'Rajasthan',\n",
       "       'Sikkim', 'Tamil Nadu', 'Telangana', 'Tripura', 'Uttar Pradesh',\n",
       "       'West Bengal', 'Chhattisgarh', 'Ladakh', 'Uttarakhand'],\n",
       "      dtype=object)"
      ]
     },
     "execution_count": 4,
     "metadata": {},
     "output_type": "execute_result"
    }
   ],
   "source": [
    "#hide\n",
    "arr_states[-9] = 'Puducherry'\n",
    "arr_states[-10] = 'Odisha'\n",
    "arr_states[6] = 'Dadra and Nagar Haveli and Daman and Diu'\n",
    "arr_states = np.append(arr_states,np.array(['Chhattisgarh','Ladakh','Uttarakhand']))\n",
    "arr_states"
   ]
  },
  {
   "cell_type": "code",
   "execution_count": 5,
   "metadata": {
    "execution": {
     "iopub.execute_input": "2020-09-18T07:52:09.492309Z",
     "iopub.status.busy": "2020-09-18T07:52:09.491538Z",
     "iopub.status.idle": "2020-09-18T07:52:09.500640Z",
     "shell.execute_reply": "2020-09-18T07:52:09.499967Z"
    },
    "papermill": {
     "duration": 0.039196,
     "end_time": "2020-09-18T07:52:09.500802",
     "exception": false,
     "start_time": "2020-09-18T07:52:09.461606",
     "status": "completed"
    },
    "tags": []
   },
   "outputs": [],
   "source": [
    "#hide\n",
    "dates = []\n",
    "for i in arr_dates:\n",
    "    if i>='2020-07-01':\n",
    "        dates.append(i)\n",
    "dict = {'states':dates}\n",
    "for i in arr_states:\n",
    "    dict[i] = [0]*len(dates)\n",
    "dft_cases = pd.DataFrame(dict)\n",
    "dft_deaths = pd.DataFrame(dict)\n"
   ]
  },
  {
   "cell_type": "code",
   "execution_count": 6,
   "metadata": {
    "execution": {
     "iopub.execute_input": "2020-09-18T07:52:09.550402Z",
     "iopub.status.busy": "2020-09-18T07:52:09.549667Z",
     "iopub.status.idle": "2020-09-18T07:52:11.064269Z",
     "shell.execute_reply": "2020-09-18T07:52:11.063575Z"
    },
    "papermill": {
     "duration": 1.541753,
     "end_time": "2020-09-18T07:52:11.064437",
     "exception": false,
     "start_time": "2020-09-18T07:52:09.522684",
     "status": "completed"
    },
    "tags": []
   },
   "outputs": [],
   "source": [
    "#hide\n",
    "for i in range(len(dates)):\n",
    "    df1_deaths = df_deaths1.get_group(dates[i])\n",
    "    for j in range(len(df1_deaths.index)):\n",
    "        if df1_deaths.iloc[j,1] in arr_states:\n",
    "            dft_deaths.loc[i,df1_deaths.iloc[j,1]] = df1_deaths.iloc[j,2]\n",
    "dft_deaths = dft_deaths.set_index('states')"
   ]
  },
  {
   "cell_type": "code",
   "execution_count": 7,
   "metadata": {
    "execution": {
     "iopub.execute_input": "2020-09-18T07:52:11.110891Z",
     "iopub.status.busy": "2020-09-18T07:52:11.110171Z",
     "iopub.status.idle": "2020-09-18T07:52:12.645055Z",
     "shell.execute_reply": "2020-09-18T07:52:12.645632Z"
    },
    "papermill": {
     "duration": 1.560004,
     "end_time": "2020-09-18T07:52:12.645822",
     "exception": false,
     "start_time": "2020-09-18T07:52:11.085818",
     "status": "completed"
    },
    "tags": []
   },
   "outputs": [],
   "source": [
    "#hide\n",
    "for i in range(len(dates)):\n",
    "    df1_cases = df_cases1.get_group(dates[i])\n",
    "    for j in range(len(df1_cases.index)):\n",
    "        if df1_cases.iloc[j,1] in arr_states:\n",
    "            dft_cases.loc[i,df1_cases.iloc[j,1]] = df1_cases.iloc[j,2]\n",
    "dft_cases = dft_cases.set_index('states')"
   ]
  },
  {
   "cell_type": "code",
   "execution_count": 8,
   "metadata": {
    "execution": {
     "iopub.execute_input": "2020-09-18T07:52:12.720512Z",
     "iopub.status.busy": "2020-09-18T07:52:12.719757Z",
     "iopub.status.idle": "2020-09-18T07:52:12.722636Z",
     "shell.execute_reply": "2020-09-18T07:52:12.723168Z"
    },
    "papermill": {
     "duration": 0.057193,
     "end_time": "2020-09-18T07:52:12.723327",
     "exception": false,
     "start_time": "2020-09-18T07:52:12.666134",
     "status": "completed"
    },
    "tags": []
   },
   "outputs": [],
   "source": [
    "#hide\n",
    "dft_cases = dft_cases.T\n",
    "dft_deaths = dft_deaths.T\n",
    "dt_today = dates[-1]\n",
    "dt_yday = dates[-2]"
   ]
  },
  {
   "cell_type": "code",
   "execution_count": 9,
   "metadata": {
    "execution": {
     "iopub.execute_input": "2020-09-18T07:52:12.783400Z",
     "iopub.status.busy": "2020-09-18T07:52:12.782756Z",
     "iopub.status.idle": "2020-09-18T07:52:12.787727Z",
     "shell.execute_reply": "2020-09-18T07:52:12.788851Z"
    },
    "papermill": {
     "duration": 0.029409,
     "end_time": "2020-09-18T07:52:12.788999",
     "exception": false,
     "start_time": "2020-09-18T07:52:12.759590",
     "status": "completed"
    },
    "tags": []
   },
   "outputs": [],
   "source": [
    "#hide\n",
    "dft_cases = dft_cases.reset_index()\n",
    "dft_deaths = dft_deaths.reset_index()\n",
    "dft_cases = dft_cases.rename(columns = {'index':'state'})\n",
    "dft_deaths = dft_deaths.rename(columns = {'index':'state'})"
   ]
  },
  {
   "cell_type": "code",
   "execution_count": 10,
   "metadata": {
    "execution": {
     "iopub.execute_input": "2020-09-18T07:52:12.831382Z",
     "iopub.status.busy": "2020-09-18T07:52:12.830729Z",
     "iopub.status.idle": "2020-09-18T07:52:12.838031Z",
     "shell.execute_reply": "2020-09-18T07:52:12.838643Z"
    },
    "papermill": {
     "duration": 0.033274,
     "end_time": "2020-09-18T07:52:12.838797",
     "exception": false,
     "start_time": "2020-09-18T07:52:12.805523",
     "status": "completed"
    },
    "tags": []
   },
   "outputs": [],
   "source": [
    "#hide\n",
    "dfc_cases = dft_cases.groupby('state')[dt_today].sum()\n",
    "dfc_deaths = dft_deaths.groupby('state')[dt_today].sum()\n",
    "dfp_cases = dft_cases.groupby('state')[dt_yday].sum()\n",
    "dfp_deaths = dft_deaths.groupby('state')[dt_yday].sum()"
   ]
  },
  {
   "cell_type": "code",
   "execution_count": 11,
   "metadata": {
    "execution": {
     "iopub.execute_input": "2020-09-18T07:52:12.892451Z",
     "iopub.status.busy": "2020-09-18T07:52:12.891678Z",
     "iopub.status.idle": "2020-09-18T07:52:12.898164Z",
     "shell.execute_reply": "2020-09-18T07:52:12.898784Z"
    },
    "papermill": {
     "duration": 0.043354,
     "end_time": "2020-09-18T07:52:12.898943",
     "exception": false,
     "start_time": "2020-09-18T07:52:12.855589",
     "status": "completed"
    },
    "tags": []
   },
   "outputs": [
    {
     "data": {
      "text/html": [
       "<div>\n",
       "<style scoped>\n",
       "    .dataframe tbody tr th:only-of-type {\n",
       "        vertical-align: middle;\n",
       "    }\n",
       "\n",
       "    .dataframe tbody tr th {\n",
       "        vertical-align: top;\n",
       "    }\n",
       "\n",
       "    .dataframe thead th {\n",
       "        text-align: right;\n",
       "    }\n",
       "</style>\n",
       "<table border=\"1\" class=\"dataframe\">\n",
       "  <thead>\n",
       "    <tr style=\"text-align: right;\">\n",
       "      <th></th>\n",
       "      <th>states</th>\n",
       "      <th>Cases</th>\n",
       "      <th>Deaths</th>\n",
       "      <th>PCases</th>\n",
       "      <th>PDeaths</th>\n",
       "    </tr>\n",
       "  </thead>\n",
       "  <tbody>\n",
       "    <tr>\n",
       "      <th>0</th>\n",
       "      <td>Maharashtra</td>\n",
       "      <td>1145840</td>\n",
       "      <td>31351</td>\n",
       "      <td>1145840</td>\n",
       "      <td>31351</td>\n",
       "    </tr>\n",
       "    <tr>\n",
       "      <th>1</th>\n",
       "      <td>Andhra Pradesh</td>\n",
       "      <td>601462</td>\n",
       "      <td>5177</td>\n",
       "      <td>601462</td>\n",
       "      <td>5177</td>\n",
       "    </tr>\n",
       "    <tr>\n",
       "      <th>2</th>\n",
       "      <td>Tamil Nadu</td>\n",
       "      <td>525420</td>\n",
       "      <td>8618</td>\n",
       "      <td>525420</td>\n",
       "      <td>8618</td>\n",
       "    </tr>\n",
       "    <tr>\n",
       "      <th>3</th>\n",
       "      <td>Karnataka</td>\n",
       "      <td>494356</td>\n",
       "      <td>7629</td>\n",
       "      <td>494356</td>\n",
       "      <td>7629</td>\n",
       "    </tr>\n",
       "    <tr>\n",
       "      <th>4</th>\n",
       "      <td>Uttar Pradesh</td>\n",
       "      <td>336294</td>\n",
       "      <td>4771</td>\n",
       "      <td>336294</td>\n",
       "      <td>4771</td>\n",
       "    </tr>\n",
       "  </tbody>\n",
       "</table>\n",
       "</div>"
      ],
      "text/plain": [
       "           states    Cases  Deaths   PCases  PDeaths\n",
       "0     Maharashtra  1145840   31351  1145840    31351\n",
       "1  Andhra Pradesh   601462    5177   601462     5177\n",
       "2      Tamil Nadu   525420    8618   525420     8618\n",
       "3       Karnataka   494356    7629   494356     7629\n",
       "4   Uttar Pradesh   336294    4771   336294     4771"
      ]
     },
     "execution_count": 11,
     "metadata": {},
     "output_type": "execute_result"
    }
   ],
   "source": [
    "#hide\n",
    "df_table = pd.DataFrame({'states': dfc_cases.index, 'Cases': dfc_cases.values, 'Deaths': dfc_deaths.values, 'PCases': dfp_cases.values, 'PDeaths': dfp_deaths.values}).set_index('states')\n",
    "df_table = df_table.sort_values(by = ['Cases','Deaths'], ascending = [False, False])\n",
    "df_table = df_table.reset_index()\n",
    "df_table.head()"
   ]
  },
  {
   "cell_type": "code",
   "execution_count": 12,
   "metadata": {
    "execution": {
     "iopub.execute_input": "2020-09-18T07:52:12.943847Z",
     "iopub.status.busy": "2020-09-18T07:52:12.943119Z",
     "iopub.status.idle": "2020-09-18T07:52:12.952284Z",
     "shell.execute_reply": "2020-09-18T07:52:12.951642Z"
    },
    "papermill": {
     "duration": 0.034248,
     "end_time": "2020-09-18T07:52:12.952434",
     "exception": false,
     "start_time": "2020-09-18T07:52:12.918186",
     "status": "completed"
    },
    "tags": []
   },
   "outputs": [],
   "source": [
    "#hide\n",
    "for c in 'Cases, Deaths'.split(', '):\n",
    "    df_table[f'{c} (+)'] = (df_table[c] - df_table[f'P{c}']).clip(0)\n",
    "df_table['Fatality Rate'] = (100* df_table['Deaths']/ df_table['Cases']).round(2)"
   ]
  },
  {
   "cell_type": "code",
   "execution_count": 13,
   "metadata": {
    "execution": {
     "iopub.execute_input": "2020-09-18T07:52:13.003710Z",
     "iopub.status.busy": "2020-09-18T07:52:13.002982Z",
     "iopub.status.idle": "2020-09-18T07:52:13.007478Z",
     "shell.execute_reply": "2020-09-18T07:52:13.006664Z"
    },
    "papermill": {
     "duration": 0.0356,
     "end_time": "2020-09-18T07:52:13.007629",
     "exception": false,
     "start_time": "2020-09-18T07:52:12.972029",
     "status": "completed"
    },
    "tags": []
   },
   "outputs": [
    {
     "data": {
      "text/html": [
       "<div>\n",
       "<style scoped>\n",
       "    .dataframe tbody tr th:only-of-type {\n",
       "        vertical-align: middle;\n",
       "    }\n",
       "\n",
       "    .dataframe tbody tr th {\n",
       "        vertical-align: top;\n",
       "    }\n",
       "\n",
       "    .dataframe thead th {\n",
       "        text-align: right;\n",
       "    }\n",
       "</style>\n",
       "<table border=\"1\" class=\"dataframe\">\n",
       "  <thead>\n",
       "    <tr style=\"text-align: right;\">\n",
       "      <th></th>\n",
       "      <th>states</th>\n",
       "      <th>Cases</th>\n",
       "      <th>Deaths</th>\n",
       "      <th>PCases</th>\n",
       "      <th>PDeaths</th>\n",
       "      <th>Cases (+)</th>\n",
       "      <th>Deaths (+)</th>\n",
       "      <th>Fatality Rate</th>\n",
       "    </tr>\n",
       "  </thead>\n",
       "  <tbody>\n",
       "    <tr>\n",
       "      <th>0</th>\n",
       "      <td>Maharashtra</td>\n",
       "      <td>1145840</td>\n",
       "      <td>31351</td>\n",
       "      <td>1145840</td>\n",
       "      <td>31351</td>\n",
       "      <td>0</td>\n",
       "      <td>0</td>\n",
       "      <td>2.74</td>\n",
       "    </tr>\n",
       "    <tr>\n",
       "      <th>1</th>\n",
       "      <td>Andhra Pradesh</td>\n",
       "      <td>601462</td>\n",
       "      <td>5177</td>\n",
       "      <td>601462</td>\n",
       "      <td>5177</td>\n",
       "      <td>0</td>\n",
       "      <td>0</td>\n",
       "      <td>0.86</td>\n",
       "    </tr>\n",
       "    <tr>\n",
       "      <th>2</th>\n",
       "      <td>Tamil Nadu</td>\n",
       "      <td>525420</td>\n",
       "      <td>8618</td>\n",
       "      <td>525420</td>\n",
       "      <td>8618</td>\n",
       "      <td>0</td>\n",
       "      <td>0</td>\n",
       "      <td>1.64</td>\n",
       "    </tr>\n",
       "    <tr>\n",
       "      <th>3</th>\n",
       "      <td>Karnataka</td>\n",
       "      <td>494356</td>\n",
       "      <td>7629</td>\n",
       "      <td>494356</td>\n",
       "      <td>7629</td>\n",
       "      <td>0</td>\n",
       "      <td>0</td>\n",
       "      <td>1.54</td>\n",
       "    </tr>\n",
       "    <tr>\n",
       "      <th>4</th>\n",
       "      <td>Uttar Pradesh</td>\n",
       "      <td>336294</td>\n",
       "      <td>4771</td>\n",
       "      <td>336294</td>\n",
       "      <td>4771</td>\n",
       "      <td>0</td>\n",
       "      <td>0</td>\n",
       "      <td>1.42</td>\n",
       "    </tr>\n",
       "  </tbody>\n",
       "</table>\n",
       "</div>"
      ],
      "text/plain": [
       "           states    Cases  Deaths   PCases  PDeaths  Cases (+)  Deaths (+)  \\\n",
       "0     Maharashtra  1145840   31351  1145840    31351          0           0   \n",
       "1  Andhra Pradesh   601462    5177   601462     5177          0           0   \n",
       "2      Tamil Nadu   525420    8618   525420     8618          0           0   \n",
       "3       Karnataka   494356    7629   494356     7629          0           0   \n",
       "4   Uttar Pradesh   336294    4771   336294     4771          0           0   \n",
       "\n",
       "   Fatality Rate  \n",
       "0           2.74  \n",
       "1           0.86  \n",
       "2           1.64  \n",
       "3           1.54  \n",
       "4           1.42  "
      ]
     },
     "execution_count": 13,
     "metadata": {},
     "output_type": "execute_result"
    }
   ],
   "source": [
    "#hide\n",
    "df_table.head()"
   ]
  },
  {
   "cell_type": "code",
   "execution_count": 14,
   "metadata": {
    "execution": {
     "iopub.execute_input": "2020-09-18T07:52:13.055640Z",
     "iopub.status.busy": "2020-09-18T07:52:13.054906Z",
     "iopub.status.idle": "2020-09-18T07:52:13.077039Z",
     "shell.execute_reply": "2020-09-18T07:52:13.077907Z"
    },
    "papermill": {
     "duration": 0.049497,
     "end_time": "2020-09-18T07:52:13.078089",
     "exception": false,
     "start_time": "2020-09-18T07:52:13.028592",
     "status": "completed"
    },
    "tags": []
   },
   "outputs": [
    {
     "data": {
      "text/plain": [
       "{'updated': '2020-09-18',\n",
       " 'since': '2020-09-17',\n",
       " 'Cases': 5219211,\n",
       " 'PCases': 5212687,\n",
       " 'Deaths': 84434,\n",
       " 'PDeaths': 84404,\n",
       " 'Cases (+)': 6524,\n",
       " 'Deaths (+)': 30}"
      ]
     },
     "execution_count": 14,
     "metadata": {},
     "output_type": "execute_result"
    }
   ],
   "source": [
    "#hide\n",
    "summary = {'updated':dates[-1], 'since':dates[-2]}\n",
    "list_names = ['Cases', 'PCases', 'Deaths', 'PDeaths', 'Cases (+)', 'Deaths (+)']\n",
    "for name in list_names:\n",
    "    summary[name] = df_table.sum()[name]\n",
    "summary"
   ]
  },
  {
   "cell_type": "code",
   "execution_count": 15,
   "metadata": {
    "execution": {
     "iopub.execute_input": "2020-09-18T07:52:13.130227Z",
     "iopub.status.busy": "2020-09-18T07:52:13.129374Z",
     "iopub.status.idle": "2020-09-18T07:52:13.132423Z",
     "shell.execute_reply": "2020-09-18T07:52:13.131713Z"
    },
    "papermill": {
     "duration": 0.032198,
     "end_time": "2020-09-18T07:52:13.132572",
     "exception": false,
     "start_time": "2020-09-18T07:52:13.100374",
     "status": "completed"
    },
    "tags": []
   },
   "outputs": [],
   "source": [
    "#hide\n",
    "overview = '''\n",
    "<!-- #######  HTML!! #########-->\n",
    "<h1 style=\"color: #5e9ca0; text-align: center;\">India</h1>\n",
    "<p style=\"text-align: center;\">Last update: <strong>{update}</strong></p>\n",
    "<p style=\"text-align: center;\">Confirmed cases:</p>\n",
    "<p style=\"text-align: center;font-size:24px;\">{cases} (<span style=\"color: #ff0000;\">+{new}</span>)</p>\n",
    "<p style=\"text-align: center;\">Confirmed deaths:</p>\n",
    "<p style=\"text-align: center;font-size:24px;\">{deaths} (<span style=\"color: #ff0000;\">+{dnew}</span>)</p>\n",
    "'''"
   ]
  },
  {
   "cell_type": "code",
   "execution_count": 16,
   "metadata": {
    "execution": {
     "iopub.execute_input": "2020-09-18T07:52:13.180951Z",
     "iopub.status.busy": "2020-09-18T07:52:13.180357Z",
     "iopub.status.idle": "2020-09-18T07:52:13.184042Z",
     "shell.execute_reply": "2020-09-18T07:52:13.183559Z"
    },
    "papermill": {
     "duration": 0.031517,
     "end_time": "2020-09-18T07:52:13.184204",
     "exception": false,
     "start_time": "2020-09-18T07:52:13.152687",
     "status": "completed"
    },
    "tags": []
   },
   "outputs": [
    {
     "data": {
      "text/html": [
       "\n",
       "<!-- #######  HTML!! #########-->\n",
       "<h1 style=\"color: #5e9ca0; text-align: center;\">India</h1>\n",
       "<p style=\"text-align: center;\">Last update: <strong>2020-09-18</strong></p>\n",
       "<p style=\"text-align: center;\">Confirmed cases:</p>\n",
       "<p style=\"text-align: center;font-size:24px;\">5219211 (<span style=\"color: #ff0000;\">+6524</span>)</p>\n",
       "<p style=\"text-align: center;\">Confirmed deaths:</p>\n",
       "<p style=\"text-align: center;font-size:24px;\">84434 (<span style=\"color: #ff0000;\">+30</span>)</p>\n"
      ],
      "text/plain": [
       "<IPython.core.display.HTML object>"
      ]
     },
     "metadata": {},
     "output_type": "display_data"
    }
   ],
   "source": [
    "#hide_input\n",
    "update = summary['updated']\n",
    "cases = summary['Cases']\n",
    "new = summary['Cases (+)']\n",
    "deaths = summary['Deaths']\n",
    "dnew = summary['Deaths (+)']\n",
    "\n",
    "html = HTML(overview.format(update=update, cases=cases,new=new,deaths=deaths,dnew=dnew))\n",
    "\n",
    "display(html)"
   ]
  },
  {
   "cell_type": "code",
   "execution_count": 17,
   "metadata": {
    "execution": {
     "iopub.execute_input": "2020-09-18T07:52:13.226913Z",
     "iopub.status.busy": "2020-09-18T07:52:13.226114Z",
     "iopub.status.idle": "2020-09-18T07:52:13.232826Z",
     "shell.execute_reply": "2020-09-18T07:52:13.233398Z"
    },
    "papermill": {
     "duration": 0.031808,
     "end_time": "2020-09-18T07:52:13.233534",
     "exception": false,
     "start_time": "2020-09-18T07:52:13.201726",
     "status": "completed"
    },
    "tags": []
   },
   "outputs": [],
   "source": [
    "#hide\n",
    "dt_cols = list(dft_cases.columns[1:])\n",
    "dft_ct_new_cases = dft_cases.groupby('state')[dt_cols].sum().diff(axis=1).fillna(0).astype(int)\n",
    "dft_ct_new_cases.sort_values(by = dates[-1], ascending = False,inplace = True)"
   ]
  },
  {
   "cell_type": "code",
   "execution_count": 18,
   "metadata": {
    "execution": {
     "iopub.execute_input": "2020-09-18T07:52:13.281972Z",
     "iopub.status.busy": "2020-09-18T07:52:13.281232Z",
     "iopub.status.idle": "2020-09-18T07:52:13.295517Z",
     "shell.execute_reply": "2020-09-18T07:52:13.296285Z"
    },
    "papermill": {
     "duration": 0.045782,
     "end_time": "2020-09-18T07:52:13.296464",
     "exception": false,
     "start_time": "2020-09-18T07:52:13.250682",
     "status": "completed"
    },
    "tags": []
   },
   "outputs": [
    {
     "data": {
      "text/html": [
       "<div>\n",
       "<style scoped>\n",
       "    .dataframe tbody tr th:only-of-type {\n",
       "        vertical-align: middle;\n",
       "    }\n",
       "\n",
       "    .dataframe tbody tr th {\n",
       "        vertical-align: top;\n",
       "    }\n",
       "\n",
       "    .dataframe thead th {\n",
       "        text-align: right;\n",
       "    }\n",
       "</style>\n",
       "<table border=\"1\" class=\"dataframe\">\n",
       "  <thead>\n",
       "    <tr style=\"text-align: right;\">\n",
       "      <th>states</th>\n",
       "      <th>2020-07-01</th>\n",
       "      <th>2020-07-02</th>\n",
       "      <th>2020-07-03</th>\n",
       "      <th>2020-07-04</th>\n",
       "      <th>2020-07-05</th>\n",
       "      <th>2020-07-06</th>\n",
       "      <th>2020-07-07</th>\n",
       "      <th>2020-07-08</th>\n",
       "      <th>2020-07-09</th>\n",
       "      <th>2020-07-10</th>\n",
       "      <th>...</th>\n",
       "      <th>2020-09-09</th>\n",
       "      <th>2020-09-10</th>\n",
       "      <th>2020-09-11</th>\n",
       "      <th>2020-09-12</th>\n",
       "      <th>2020-09-13</th>\n",
       "      <th>2020-09-14</th>\n",
       "      <th>2020-09-15</th>\n",
       "      <th>2020-09-16</th>\n",
       "      <th>2020-09-17</th>\n",
       "      <th>2020-09-18</th>\n",
       "    </tr>\n",
       "    <tr>\n",
       "      <th>state</th>\n",
       "      <th></th>\n",
       "      <th></th>\n",
       "      <th></th>\n",
       "      <th></th>\n",
       "      <th></th>\n",
       "      <th></th>\n",
       "      <th></th>\n",
       "      <th></th>\n",
       "      <th></th>\n",
       "      <th></th>\n",
       "      <th></th>\n",
       "      <th></th>\n",
       "      <th></th>\n",
       "      <th></th>\n",
       "      <th></th>\n",
       "      <th></th>\n",
       "      <th></th>\n",
       "      <th></th>\n",
       "      <th></th>\n",
       "      <th></th>\n",
       "      <th></th>\n",
       "    </tr>\n",
       "  </thead>\n",
       "  <tbody>\n",
       "    <tr>\n",
       "      <th>Odisha</th>\n",
       "      <td>0</td>\n",
       "      <td>229</td>\n",
       "      <td>561</td>\n",
       "      <td>495</td>\n",
       "      <td>469</td>\n",
       "      <td>456</td>\n",
       "      <td>571</td>\n",
       "      <td>527</td>\n",
       "      <td>577</td>\n",
       "      <td>755</td>\n",
       "      <td>...</td>\n",
       "      <td>3748</td>\n",
       "      <td>3991</td>\n",
       "      <td>3996</td>\n",
       "      <td>3777</td>\n",
       "      <td>3913</td>\n",
       "      <td>4198</td>\n",
       "      <td>3645</td>\n",
       "      <td>4270</td>\n",
       "      <td>4241</td>\n",
       "      <td>4180</td>\n",
       "    </tr>\n",
       "    <tr>\n",
       "      <th>Telangana</th>\n",
       "      <td>0</td>\n",
       "      <td>1213</td>\n",
       "      <td>1892</td>\n",
       "      <td>1850</td>\n",
       "      <td>1590</td>\n",
       "      <td>1831</td>\n",
       "      <td>1879</td>\n",
       "      <td>1924</td>\n",
       "      <td>1410</td>\n",
       "      <td>1278</td>\n",
       "      <td>...</td>\n",
       "      <td>2479</td>\n",
       "      <td>2534</td>\n",
       "      <td>2426</td>\n",
       "      <td>2278</td>\n",
       "      <td>2216</td>\n",
       "      <td>1417</td>\n",
       "      <td>2058</td>\n",
       "      <td>2273</td>\n",
       "      <td>2159</td>\n",
       "      <td>2043</td>\n",
       "    </tr>\n",
       "    <tr>\n",
       "      <th>Tripura</th>\n",
       "      <td>0</td>\n",
       "      <td>39</td>\n",
       "      <td>93</td>\n",
       "      <td>25</td>\n",
       "      <td>23</td>\n",
       "      <td>111</td>\n",
       "      <td>24</td>\n",
       "      <td>57</td>\n",
       "      <td>16</td>\n",
       "      <td>142</td>\n",
       "      <td>...</td>\n",
       "      <td>582</td>\n",
       "      <td>535</td>\n",
       "      <td>559</td>\n",
       "      <td>470</td>\n",
       "      <td>629</td>\n",
       "      <td>255</td>\n",
       "      <td>531</td>\n",
       "      <td>454</td>\n",
       "      <td>527</td>\n",
       "      <td>273</td>\n",
       "    </tr>\n",
       "    <tr>\n",
       "      <th>Mizoram</th>\n",
       "      <td>0</td>\n",
       "      <td>2</td>\n",
       "      <td>0</td>\n",
       "      <td>2</td>\n",
       "      <td>22</td>\n",
       "      <td>11</td>\n",
       "      <td>1</td>\n",
       "      <td>5</td>\n",
       "      <td>0</td>\n",
       "      <td>23</td>\n",
       "      <td>...</td>\n",
       "      <td>69</td>\n",
       "      <td>141</td>\n",
       "      <td>20</td>\n",
       "      <td>26</td>\n",
       "      <td>35</td>\n",
       "      <td>14</td>\n",
       "      <td>40</td>\n",
       "      <td>12</td>\n",
       "      <td>26</td>\n",
       "      <td>28</td>\n",
       "    </tr>\n",
       "    <tr>\n",
       "      <th>Andaman and Nicobar Islands</th>\n",
       "      <td>0</td>\n",
       "      <td>9</td>\n",
       "      <td>7</td>\n",
       "      <td>3</td>\n",
       "      <td>6</td>\n",
       "      <td>16</td>\n",
       "      <td>6</td>\n",
       "      <td>2</td>\n",
       "      <td>7</td>\n",
       "      <td>0</td>\n",
       "      <td>...</td>\n",
       "      <td>34</td>\n",
       "      <td>39</td>\n",
       "      <td>29</td>\n",
       "      <td>27</td>\n",
       "      <td>25</td>\n",
       "      <td>11</td>\n",
       "      <td>17</td>\n",
       "      <td>19</td>\n",
       "      <td>11</td>\n",
       "      <td>0</td>\n",
       "    </tr>\n",
       "  </tbody>\n",
       "</table>\n",
       "<p>5 rows × 80 columns</p>\n",
       "</div>"
      ],
      "text/plain": [
       "states                       2020-07-01  2020-07-02  2020-07-03  2020-07-04  \\\n",
       "state                                                                         \n",
       "Odisha                                0         229         561         495   \n",
       "Telangana                             0        1213        1892        1850   \n",
       "Tripura                               0          39          93          25   \n",
       "Mizoram                               0           2           0           2   \n",
       "Andaman and Nicobar Islands           0           9           7           3   \n",
       "\n",
       "states                       2020-07-05  2020-07-06  2020-07-07  2020-07-08  \\\n",
       "state                                                                         \n",
       "Odisha                              469         456         571         527   \n",
       "Telangana                          1590        1831        1879        1924   \n",
       "Tripura                              23         111          24          57   \n",
       "Mizoram                              22          11           1           5   \n",
       "Andaman and Nicobar Islands           6          16           6           2   \n",
       "\n",
       "states                       2020-07-09  2020-07-10  ...  2020-09-09  \\\n",
       "state                                                ...               \n",
       "Odisha                              577         755  ...        3748   \n",
       "Telangana                          1410        1278  ...        2479   \n",
       "Tripura                              16         142  ...         582   \n",
       "Mizoram                               0          23  ...          69   \n",
       "Andaman and Nicobar Islands           7           0  ...          34   \n",
       "\n",
       "states                       2020-09-10  2020-09-11  2020-09-12  2020-09-13  \\\n",
       "state                                                                         \n",
       "Odisha                             3991        3996        3777        3913   \n",
       "Telangana                          2534        2426        2278        2216   \n",
       "Tripura                             535         559         470         629   \n",
       "Mizoram                             141          20          26          35   \n",
       "Andaman and Nicobar Islands          39          29          27          25   \n",
       "\n",
       "states                       2020-09-14  2020-09-15  2020-09-16  2020-09-17  \\\n",
       "state                                                                         \n",
       "Odisha                             4198        3645        4270        4241   \n",
       "Telangana                          1417        2058        2273        2159   \n",
       "Tripura                             255         531         454         527   \n",
       "Mizoram                              14          40          12          26   \n",
       "Andaman and Nicobar Islands          11          17          19          11   \n",
       "\n",
       "states                       2020-09-18  \n",
       "state                                    \n",
       "Odisha                             4180  \n",
       "Telangana                          2043  \n",
       "Tripura                             273  \n",
       "Mizoram                              28  \n",
       "Andaman and Nicobar Islands           0  \n",
       "\n",
       "[5 rows x 80 columns]"
      ]
     },
     "execution_count": 18,
     "metadata": {},
     "output_type": "execute_result"
    }
   ],
   "source": [
    "#hide\n",
    "dft_ct_new_cases.head()"
   ]
  },
  {
   "cell_type": "code",
   "execution_count": 19,
   "metadata": {
    "execution": {
     "iopub.execute_input": "2020-09-18T07:52:13.343540Z",
     "iopub.status.busy": "2020-09-18T07:52:13.342776Z",
     "iopub.status.idle": "2020-09-18T07:52:17.615995Z",
     "shell.execute_reply": "2020-09-18T07:52:17.616611Z"
    },
    "papermill": {
     "duration": 4.298155,
     "end_time": "2020-09-18T07:52:17.616793",
     "exception": false,
     "start_time": "2020-09-18T07:52:13.318638",
     "status": "completed"
    },
    "tags": []
   },
   "outputs": [
    {
     "data": {
      "image/png": "[encoded data removed]",
      "text/plain": [
       "<Figure size 1296x2016 with 11 Axes>"
      ]
     },
     "metadata": {
      "needs_background": "light"
     },
     "output_type": "display_data"
    }
   ],
   "source": [
    "#hide_input\n",
    "df = dft_ct_new_cases.copy()\n",
    "df.loc['Total'] = df.sum()\n",
    "n = 5\n",
    "ax = []\n",
    "fig = plt.figure(figsize = (18,28))\n",
    "gs = fig.add_gridspec(n+2, 5)\n",
    "# gs = fig.add_gridspec(2, 3)\n",
    "ax1 = fig.add_subplot(gs[0, :])\n",
    "ef = df.loc['Total'].rename_axis('date').reset_index()\n",
    "ef['date'] = ef['date'].astype('datetime64[ns]')\n",
    "ax1.bar(ef.date,ef.Total,alpha=0.3,color='#007acc')\n",
    "ax1.plot(ef.date,ef.Total , marker=\"o\", color='#007acc')\n",
    "ax1.xaxis.set_major_locator(mdates.WeekdayLocator())\n",
    "ax1.xaxis.set_major_formatter(mdates.DateFormatter('%b %d'))\n",
    "ax1.text(0.02, 0.5,'India daily case count', transform = ax1.transAxes, fontsize=25);\n",
    "ax1.spines['right'].set_visible(False)\n",
    "ax1.spines['top'].set_visible(False)\n",
    "\n",
    "ax2 = fig.add_subplot(gs[1,0])\n",
    "ef = df.loc['Maharashtra'].rename_axis('date').reset_index()\n",
    "ef['date'] = ef['date'].astype('datetime64[ns]')\n",
    "\n",
    "ax2.bar(ef.date, ef.Maharashtra,color = '#007acc',alpha=0.5)\n",
    "ax2.xaxis.set_major_locator(mdates.WeekdayLocator())\n",
    "ax2.xaxis.set_major_formatter(mdates.DateFormatter('%b %d'))\n",
    "ax2.set_xticks(ax2.get_xticks()[::3])\n",
    "maxyval = ef.Maharashtra.max()\n",
    "ax2.set_ylim([0,maxyval])\n",
    "ax2.text(0.05, 0.9,'Maharashtra', transform = ax2.transAxes, fontsize=20);\n",
    "ax2.spines['right'].set_visible(False)\n",
    "ax2.spines['top'].set_visible(False)\n",
    "\n",
    "\n",
    "ax3 = fig.add_subplot(gs[1,1])\n",
    "ef = df.loc['Tamil Nadu'].rename_axis('date').reset_index()\n",
    "ef['date'] = ef['date'].astype('datetime64[ns]')\n",
    "ax3.bar(ef.date, ef['Tamil Nadu'],color = '#007acc',alpha=0.5,)\n",
    "ax3.xaxis.set_major_locator(mdates.WeekdayLocator())\n",
    "ax3.xaxis.set_major_formatter(mdates.DateFormatter('%b %d'))\n",
    "ax3.set_xticks(ax3.get_xticks()[::3])\n",
    "ax3.text(0.05, 0.9,'Tamil Nadu', transform = ax3.transAxes, fontsize=20);\n",
    "ax3.spines['right'].set_visible(False)\n",
    "ax3.spines['top'].set_visible(False)\n",
    "\n",
    "ax5 = fig.add_subplot(gs[1,3])\n",
    "ef = df.loc['Telangana'].rename_axis('date').reset_index()\n",
    "ef['date'] = ef['date'].astype('datetime64[ns]')\n",
    "ax5.bar(ef.date, ef['Telangana'],color = '#007acc',alpha=0.5,)\n",
    "ax5.xaxis.set_major_locator(mdates.WeekdayLocator())\n",
    "ax5.xaxis.set_major_formatter(mdates.DateFormatter('%b %d'))\n",
    "ax5.set_xticks(ax5.get_xticks()[::3])\n",
    "ax5.text(0.05, 0.9,'Telangana', transform = ax5.transAxes, fontsize=20);\n",
    "ax5.spines['right'].set_visible(False)\n",
    "ax5.spines['top'].set_visible(False)\n",
    "\n",
    "ax6 = fig.add_subplot(gs[1,4])\n",
    "ef = df.loc['Andhra Pradesh'].rename_axis('date').reset_index()\n",
    "ef['date'] = ef['date'].astype('datetime64[ns]')\n",
    "ax6.bar(ef.date, ef['Andhra Pradesh'],color = '#007acc',alpha=0.5,)\n",
    "ax6.xaxis.set_major_locator(mdates.WeekdayLocator())\n",
    "ax6.xaxis.set_major_formatter(mdates.DateFormatter('%b %d'))\n",
    "ax6.set_xticks(ax6.get_xticks()[::3])\n",
    "ax6.text(0.05, 1,'Andhra Pradesh', transform = ax6.transAxes, fontsize=20);\n",
    "ax6.spines['right'].set_visible(False)\n",
    "ax6.spines['top'].set_visible(False)\n",
    "\n",
    "ax4 = fig.add_subplot(gs[1,2])\n",
    "ef = df.loc['Delhi'].rename_axis('date').reset_index()\n",
    "ef['date'] = ef['date'].astype('datetime64[ns]')\n",
    "ax4.bar(ef.date, ef.Delhi,color = '#007acc',alpha=0.5)\n",
    "ax4.set_xticks([])\n",
    "ax4.xaxis.set_major_locator(mdates.WeekdayLocator())\n",
    "ax4.xaxis.set_major_formatter(mdates.DateFormatter('%b %d'))\n",
    "ax4.set_xticks(ax4.get_xticks()[::3])\n",
    "ax4.spines['right'].set_visible(False)\n",
    "ax4.spines['top'].set_visible(False)\n",
    "\n",
    "ax4.text(0.05, 1,'Delhi', transform = ax4.transAxes, fontsize=20)\n",
    "\n",
    "for i in range(n):\n",
    "    \n",
    "    ax.append(fig.add_subplot(gs[i+2,:]))\n",
    "    ef = df.iloc[i+3].rename_axis('date').reset_index()\n",
    "    ef['date'] = ef['date'].astype('datetime64[ns]')\n",
    "    ax[i].bar(ef.date,ef.iloc[:,-1],color = '#007acc',alpha=0.3)\n",
    "    ax[i].plot(ef.date,ef.iloc[:,-1],marker='o',color='#007acc')\n",
    "    ax[i].text(0.02,0.5,f'{ef.columns.values[-1]}',transform = ax[i].transAxes, fontsize = 20);\n",
    "    ax[i].xaxis.set_major_locator(mdates.WeekdayLocator())\n",
    "    ax[i].xaxis.set_major_formatter(mdates.DateFormatter('%b %d'))\n",
    "    ax[i].set_ylim([0,7000])\n",
    "    ax[i].spines['right'].set_visible(False)\n",
    "    ax[i].spines['top'].set_visible(False)\n",
    "plt.tight_layout()\n"
   ]
  },
  {
   "cell_type": "code",
   "execution_count": 20,
   "metadata": {
    "execution": {
     "iopub.execute_input": "2020-09-18T07:52:17.715144Z",
     "iopub.status.busy": "2020-09-18T07:52:17.714416Z",
     "iopub.status.idle": "2020-09-18T07:52:17.726065Z",
     "shell.execute_reply": "2020-09-18T07:52:17.724153Z"
    },
    "papermill": {
     "duration": 0.084124,
     "end_time": "2020-09-18T07:52:17.726224",
     "exception": false,
     "start_time": "2020-09-18T07:52:17.642100",
     "status": "completed"
    },
    "tags": []
   },
   "outputs": [
    {
     "name": "stdout",
     "output_type": "stream",
     "text": [
      "                                   states    Cases  Deaths   PCases  PDeaths  Cases (+)  Deaths (+)  Fatality Rate\n",
      "                              Maharashtra  1145840   31351  1145840    31351          0           0           2.74\n",
      "                           Andhra Pradesh   601462    5177   601462     5177          0           0           0.86\n",
      "                               Tamil Nadu   525420    8618   525420     8618          0           0           1.64\n",
      "                                Karnataka   494356    7629   494356     7629          0           0           1.54\n",
      "                            Uttar Pradesh   336294    4771   336294     4771          0           0           1.42\n",
      "                                    Delhi   234701    4877   234701     4877          0           0           2.08\n",
      "                              West Bengal   215580    4183   215580     4183          0           0           1.94\n",
      "                                   Odisha   171341     735   167161      722       4180          13           0.43\n",
      "                                Telangana   167046    1016   165003     1005       2043          11           0.61\n",
      "                                    Bihar   164224     855   164224      855          0           0           0.52\n",
      "                                    Assam   150349     528   150349      528          0           0           0.35\n",
      "                                   Kerala   122216     490   122216      490          0           0           0.40\n",
      "                                  Gujarat   119088    3271   119088     3271          0           0           2.75\n",
      "                                Rajasthan   109473    1293   109473     1293          0           0           1.18\n",
      "                                  Haryana   103773    1069   103773     1069          0           0           1.03\n",
      "                           Madhya Pradesh    97906    1877    97906     1877          0           0           1.92\n",
      "                                   Punjab    90032    2646    90032     2646          0           0           2.94\n",
      "                             Chhattisgarh    77775     628    77775      628          0           0           0.81\n",
      "                                Jharkhand    67100     590    67100      590          0           0           0.88\n",
      "                        Jammu and Kashmir    59711     951    59711      951          0           0           1.59\n",
      "                              Uttarakhand    37139     460    37139      460          0           0           1.24\n",
      "                                      Goa    26783     327    26783      327          0           0           1.22\n",
      "                               Puducherry    21428     431    21428      431          0           0           2.01\n",
      "                                  Tripura    20969     228    20696      222        273           6           1.09\n",
      "                         Himachal Pradesh    11190      97    11190       97          0           0           0.87\n",
      "                               Chandigarh     9256     106     9256      106          0           0           1.15\n",
      "                                  Manipur     8430      51     8430       51          0           0           0.60\n",
      "                        Arunachal Pradesh     6851      13     6851       13          0           0           0.19\n",
      "                                 Nagaland     5306      10     5306       10          0           0           0.19\n",
      "                                Meghalaya     4357      32     4357       32          0           0           0.73\n",
      "              Andaman and Nicobar Islands     3604      52     3604       52          0           0           1.44\n",
      "                                   Ladakh     3576      47     3576       47          0           0           1.31\n",
      " Dadra and Nagar Haveli and Daman and Diu     2827       2     2827        2          0           0           0.07\n",
      "                                   Sikkim     2274      23     2274       23          0           0           1.01\n",
      "                                  Mizoram     1534       0     1506        0         28           0           0.00\n",
      "                              Lakshadweep        0       0        0        0          0           0            NaN\n"
     ]
    }
   ],
   "source": [
    "#hide_input\n",
    "print(df_table.to_string(index=False))"
   ]
  },
  {
   "cell_type": "code",
   "execution_count": null,
   "metadata": {
    "papermill": {
     "duration": 0.064641,
     "end_time": "2020-09-18T07:52:17.821027",
     "exception": false,
     "start_time": "2020-09-18T07:52:17.756386",
     "status": "completed"
    },
    "tags": []
   },
   "outputs": [],
   "source": []
  },
  {
   "cell_type": "code",
   "execution_count": null,
   "metadata": {
    "papermill": {
     "duration": 0.156897,
     "end_time": "2020-09-18T07:52:18.166622",
     "exception": false,
     "start_time": "2020-09-18T07:52:18.009725",
     "status": "completed"
    },
    "tags": []
   },
   "outputs": [],
   "source": []
  }
 ],
 "metadata": {
  "kernelspec": {
   "display_name": "Python 3",
   "language": "python",
   "name": "python3"
  },
  "language_info": {
   "codemirror_mode": {
    "name": "ipython",
    "version": 3
   },
   "file_extension": ".py",
   "mimetype": "text/x-python",
   "name": "python",
   "nbconvert_exporter": "python",
   "pygments_lexer": "ipython3",
   "version": "3.6.12"
  },
  "papermill": {
   "duration": 12.354858,
   "end_time": "2020-09-18T07:52:19.483145",
   "environment_variables": {},
   "exception": null,
   "input_path": "latest.ipynb",
   "output_path": "latest.ipynb",
   "parameters": {},
   "start_time": "2020-09-18T07:52:07.128287",
   "version": "2.1.2"
  }
 },
 "nbformat": 4,
 "nbformat_minor": 4
}