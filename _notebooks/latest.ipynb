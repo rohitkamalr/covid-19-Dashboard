{
 "cells": [
  {
   "cell_type": "markdown",
   "metadata": {
    "papermill": {
     "duration": 0.022587,
     "end_time": "2021-01-09T13:01:44.987994",
     "exception": false,
     "start_time": "2021-01-09T13:01:44.965407",
     "status": "completed"
    },
    "tags": []
   },
   "source": [
    "# Latest COVID-19 India Matplotlib Overview"
   ]
  },
  {
   "cell_type": "code",
   "execution_count": 1,
   "metadata": {
    "execution": {
     "iopub.execute_input": "2021-01-09T13:01:45.039016Z",
     "iopub.status.busy": "2021-01-09T13:01:45.038371Z",
     "iopub.status.idle": "2021-01-09T13:01:45.653613Z",
     "shell.execute_reply": "2021-01-09T13:01:45.653055Z"
    },
    "papermill": {
     "duration": 0.647525,
     "end_time": "2021-01-09T13:01:45.653779",
     "exception": false,
     "start_time": "2021-01-09T13:01:45.006254",
     "status": "completed"
    },
    "tags": []
   },
   "outputs": [],
   "source": [
    "#hide\n",
    "import pandas as pd\n",
    "import numpy as np\n",
    "import requests\n",
    "import json\n",
    "import matplotlib.pyplot as plt\n",
    "import matplotlib.dates as mdates\n",
    "import matplotlib as mpl\n",
    "from IPython.core.display import display,HTML\n",
    "%matplotlib inline\n",
    "from datetime import date"
   ]
  },
  {
   "cell_type": "code",
   "execution_count": 2,
   "metadata": {
    "execution": {
     "iopub.execute_input": "2021-01-09T13:01:45.695035Z",
     "iopub.status.busy": "2021-01-09T13:01:45.694106Z",
     "iopub.status.idle": "2021-01-09T13:01:45.887073Z",
     "shell.execute_reply": "2021-01-09T13:01:45.887648Z"
    },
    "papermill": {
     "duration": 0.21772,
     "end_time": "2021-01-09T13:01:45.887845",
     "exception": false,
     "start_time": "2021-01-09T13:01:45.670125",
     "status": "completed"
    },
    "tags": []
   },
   "outputs": [],
   "source": [
    "#hide\n",
    "df  = pd.read_csv('https://api.covid19india.org/csv/latest/states.csv')\n",
    "df = df[['Date','State','Confirmed','Deceased']]\n",
    "df = df.rename(columns={'Confirmed':'Cases', \"Deceased\":'Deaths'})\n",
    "df_cases = df[[\"Date\",'State','Cases']]\n",
    "df_deaths = df[['Date','State','Deaths']]\n",
    "df_cases1 = df_cases.groupby('Date')\n",
    "df_deaths1= df_deaths.groupby('Date')"
   ]
  },
  {
   "cell_type": "code",
   "execution_count": 3,
   "metadata": {
    "execution": {
     "iopub.execute_input": "2021-01-09T13:01:45.926589Z",
     "iopub.status.busy": "2021-01-09T13:01:45.925995Z",
     "iopub.status.idle": "2021-01-09T13:01:45.943914Z",
     "shell.execute_reply": "2021-01-09T13:01:45.943398Z"
    },
    "papermill": {
     "duration": 0.039833,
     "end_time": "2021-01-09T13:01:45.944059",
     "exception": false,
     "start_time": "2021-01-09T13:01:45.904226",
     "status": "completed"
    },
    "tags": []
   },
   "outputs": [],
   "source": [
    "#hide\n",
    "df_snap = pd.read_csv('data/SnapshotCases-28-July.csv')\n",
    "arr_states = df_snap['states'].unique()\n",
    "arr_dates = df['Date'].unique()\n",
    "df_snap = df_snap.set_index('states')"
   ]
  },
  {
   "cell_type": "code",
   "execution_count": 4,
   "metadata": {
    "execution": {
     "iopub.execute_input": "2021-01-09T13:01:45.981841Z",
     "iopub.status.busy": "2021-01-09T13:01:45.981232Z",
     "iopub.status.idle": "2021-01-09T13:01:45.986156Z",
     "shell.execute_reply": "2021-01-09T13:01:45.986666Z"
    },
    "papermill": {
     "duration": 0.027419,
     "end_time": "2021-01-09T13:01:45.986880",
     "exception": false,
     "start_time": "2021-01-09T13:01:45.959461",
     "status": "completed"
    },
    "tags": []
   },
   "outputs": [
    {
     "data": {
      "text/plain": [
       "array(['Andaman and Nicobar Islands', 'Andhra Pradesh',\n",
       "       'Arunachal Pradesh', 'Assam', 'Bihar', 'Chandigarh',\n",
       "       'Dadra and Nagar Haveli and Daman and Diu', 'Delhi', 'Goa',\n",
       "       'Gujarat', 'Haryana', 'Himachal Pradesh', 'Jammu and Kashmir',\n",
       "       'Jharkhand', 'Karnataka', 'Kerala', 'Lakshadweep',\n",
       "       'Madhya Pradesh', 'Maharashtra', 'Manipur', 'Meghalaya', 'Mizoram',\n",
       "       'Nagaland', 'Odisha', 'Puducherry', 'Punjab', 'Rajasthan',\n",
       "       'Sikkim', 'Tamil Nadu', 'Telangana', 'Tripura', 'Uttar Pradesh',\n",
       "       'West Bengal', 'Chhattisgarh', 'Ladakh', 'Uttarakhand'],\n",
       "      dtype=object)"
      ]
     },
     "execution_count": 4,
     "metadata": {},
     "output_type": "execute_result"
    }
   ],
   "source": [
    "#hide\n",
    "arr_states[-9] = 'Puducherry'\n",
    "arr_states[-10] = 'Odisha'\n",
    "arr_states[6] = 'Dadra and Nagar Haveli and Daman and Diu'\n",
    "arr_states = np.append(arr_states,np.array(['Chhattisgarh','Ladakh','Uttarakhand']))\n",
    "arr_states"
   ]
  },
  {
   "cell_type": "code",
   "execution_count": 5,
   "metadata": {
    "execution": {
     "iopub.execute_input": "2021-01-09T13:01:46.031626Z",
     "iopub.status.busy": "2021-01-09T13:01:46.031025Z",
     "iopub.status.idle": "2021-01-09T13:01:46.039943Z",
     "shell.execute_reply": "2021-01-09T13:01:46.039409Z"
    },
    "papermill": {
     "duration": 0.03805,
     "end_time": "2021-01-09T13:01:46.040082",
     "exception": false,
     "start_time": "2021-01-09T13:01:46.002032",
     "status": "completed"
    },
    "tags": []
   },
   "outputs": [],
   "source": [
    "#hide\n",
    "dates = []\n",
    "for i in arr_dates:\n",
    "    if i>='2020-07-01':\n",
    "        dates.append(i)\n",
    "dict = {'states':dates}\n",
    "for i in arr_states:\n",
    "    dict[i] = [0]*len(dates)\n",
    "dft_cases = pd.DataFrame(dict)\n",
    "dft_deaths = pd.DataFrame(dict)\n"
   ]
  },
  {
   "cell_type": "code",
   "execution_count": 6,
   "metadata": {
    "execution": {
     "iopub.execute_input": "2021-01-09T13:01:46.084010Z",
     "iopub.status.busy": "2021-01-09T13:01:46.083399Z",
     "iopub.status.idle": "2021-01-09T13:01:48.855677Z",
     "shell.execute_reply": "2021-01-09T13:01:48.855053Z"
    },
    "papermill": {
     "duration": 2.796247,
     "end_time": "2021-01-09T13:01:48.855847",
     "exception": false,
     "start_time": "2021-01-09T13:01:46.059600",
     "status": "completed"
    },
    "tags": []
   },
   "outputs": [],
   "source": [
    "#hide\n",
    "for i in range(len(dates)):\n",
    "    df1_deaths = df_deaths1.get_group(dates[i])\n",
    "    for j in range(len(df1_deaths.index)):\n",
    "        if df1_deaths.iloc[j,1] in arr_states:\n",
    "            dft_deaths.loc[i,df1_deaths.iloc[j,1]] = df1_deaths.iloc[j,2]\n",
    "dft_deaths = dft_deaths.set_index('states')"
   ]
  },
  {
   "cell_type": "code",
   "execution_count": 7,
   "metadata": {
    "execution": {
     "iopub.execute_input": "2021-01-09T13:01:48.898137Z",
     "iopub.status.busy": "2021-01-09T13:01:48.897499Z",
     "iopub.status.idle": "2021-01-09T13:01:51.759150Z",
     "shell.execute_reply": "2021-01-09T13:01:51.758532Z"
    },
    "papermill": {
     "duration": 2.88628,
     "end_time": "2021-01-09T13:01:51.759312",
     "exception": false,
     "start_time": "2021-01-09T13:01:48.873032",
     "status": "completed"
    },
    "tags": []
   },
   "outputs": [],
   "source": [
    "#hide\n",
    "for i in range(len(dates)):\n",
    "    df1_cases = df_cases1.get_group(dates[i])\n",
    "    for j in range(len(df1_cases.index)):\n",
    "        if df1_cases.iloc[j,1] in arr_states:\n",
    "            dft_cases.loc[i,df1_cases.iloc[j,1]] = df1_cases.iloc[j,2]\n",
    "dft_cases = dft_cases.set_index('states')"
   ]
  },
  {
   "cell_type": "code",
   "execution_count": 8,
   "metadata": {
    "execution": {
     "iopub.execute_input": "2021-01-09T13:01:51.797797Z",
     "iopub.status.busy": "2021-01-09T13:01:51.797184Z",
     "iopub.status.idle": "2021-01-09T13:01:51.799774Z",
     "shell.execute_reply": "2021-01-09T13:01:51.800272Z"
    },
    "papermill": {
     "duration": 0.024503,
     "end_time": "2021-01-09T13:01:51.800419",
     "exception": false,
     "start_time": "2021-01-09T13:01:51.775916",
     "status": "completed"
    },
    "tags": []
   },
   "outputs": [],
   "source": [
    "#hide\n",
    "dft_cases = dft_cases.T\n",
    "dft_deaths = dft_deaths.T\n",
    "dt_today = dates[-1]\n",
    "dt_yday = dates[-2]"
   ]
  },
  {
   "cell_type": "code",
   "execution_count": 9,
   "metadata": {
    "execution": {
     "iopub.execute_input": "2021-01-09T13:01:51.837711Z",
     "iopub.status.busy": "2021-01-09T13:01:51.837116Z",
     "iopub.status.idle": "2021-01-09T13:01:51.841514Z",
     "shell.execute_reply": "2021-01-09T13:01:51.841966Z"
    },
    "papermill": {
     "duration": 0.025382,
     "end_time": "2021-01-09T13:01:51.842114",
     "exception": false,
     "start_time": "2021-01-09T13:01:51.816732",
     "status": "completed"
    },
    "tags": []
   },
   "outputs": [],
   "source": [
    "#hide\n",
    "dft_cases = dft_cases.reset_index()\n",
    "dft_deaths = dft_deaths.reset_index()\n",
    "dft_cases = dft_cases.rename(columns = {'index':'state'})\n",
    "dft_deaths = dft_deaths.rename(columns = {'index':'state'})"
   ]
  },
  {
   "cell_type": "code",
   "execution_count": 10,
   "metadata": {
    "execution": {
     "iopub.execute_input": "2021-01-09T13:01:51.887732Z",
     "iopub.status.busy": "2021-01-09T13:01:51.887132Z",
     "iopub.status.idle": "2021-01-09T13:01:51.889580Z",
     "shell.execute_reply": "2021-01-09T13:01:51.889107Z"
    },
    "papermill": {
     "duration": 0.030921,
     "end_time": "2021-01-09T13:01:51.889709",
     "exception": false,
     "start_time": "2021-01-09T13:01:51.858788",
     "status": "completed"
    },
    "tags": []
   },
   "outputs": [],
   "source": [
    "#hide\n",
    "dfc_cases = dft_cases.groupby('state')[dt_today].sum()\n",
    "dfc_deaths = dft_deaths.groupby('state')[dt_today].sum()\n",
    "dfp_cases = dft_cases.groupby('state')[dt_yday].sum()\n",
    "dfp_deaths = dft_deaths.groupby('state')[dt_yday].sum()"
   ]
  },
  {
   "cell_type": "code",
   "execution_count": 11,
   "metadata": {
    "execution": {
     "iopub.execute_input": "2021-01-09T13:01:51.935462Z",
     "iopub.status.busy": "2021-01-09T13:01:51.934853Z",
     "iopub.status.idle": "2021-01-09T13:01:51.941805Z",
     "shell.execute_reply": "2021-01-09T13:01:51.941243Z"
    },
    "papermill": {
     "duration": 0.036619,
     "end_time": "2021-01-09T13:01:51.941943",
     "exception": false,
     "start_time": "2021-01-09T13:01:51.905324",
     "status": "completed"
    },
    "tags": []
   },
   "outputs": [
    {
     "data": {
      "text/html": [
       "<div>\n",
       "<style scoped>\n",
       "    .dataframe tbody tr th:only-of-type {\n",
       "        vertical-align: middle;\n",
       "    }\n",
       "\n",
       "    .dataframe tbody tr th {\n",
       "        vertical-align: top;\n",
       "    }\n",
       "\n",
       "    .dataframe thead th {\n",
       "        text-align: right;\n",
       "    }\n",
       "</style>\n",
       "<table border=\"1\" class=\"dataframe\">\n",
       "  <thead>\n",
       "    <tr style=\"text-align: right;\">\n",
       "      <th></th>\n",
       "      <th>states</th>\n",
       "      <th>Cases</th>\n",
       "      <th>Deaths</th>\n",
       "      <th>PCases</th>\n",
       "      <th>PDeaths</th>\n",
       "    </tr>\n",
       "  </thead>\n",
       "  <tbody>\n",
       "    <tr>\n",
       "      <th>0</th>\n",
       "      <td>Maharashtra</td>\n",
       "      <td>1961975</td>\n",
       "      <td>49970</td>\n",
       "      <td>1961975</td>\n",
       "      <td>49970</td>\n",
       "    </tr>\n",
       "    <tr>\n",
       "      <th>1</th>\n",
       "      <td>Karnataka</td>\n",
       "      <td>925868</td>\n",
       "      <td>12134</td>\n",
       "      <td>925868</td>\n",
       "      <td>12134</td>\n",
       "    </tr>\n",
       "    <tr>\n",
       "      <th>2</th>\n",
       "      <td>Andhra Pradesh</td>\n",
       "      <td>884490</td>\n",
       "      <td>7127</td>\n",
       "      <td>884490</td>\n",
       "      <td>7127</td>\n",
       "    </tr>\n",
       "    <tr>\n",
       "      <th>3</th>\n",
       "      <td>Tamil Nadu</td>\n",
       "      <td>824776</td>\n",
       "      <td>12208</td>\n",
       "      <td>824776</td>\n",
       "      <td>12208</td>\n",
       "    </tr>\n",
       "    <tr>\n",
       "      <th>4</th>\n",
       "      <td>Kerala</td>\n",
       "      <td>801076</td>\n",
       "      <td>3258</td>\n",
       "      <td>801076</td>\n",
       "      <td>3258</td>\n",
       "    </tr>\n",
       "  </tbody>\n",
       "</table>\n",
       "</div>"
      ],
      "text/plain": [
       "           states    Cases  Deaths   PCases  PDeaths\n",
       "0     Maharashtra  1961975   49970  1961975    49970\n",
       "1       Karnataka   925868   12134   925868    12134\n",
       "2  Andhra Pradesh   884490    7127   884490     7127\n",
       "3      Tamil Nadu   824776   12208   824776    12208\n",
       "4          Kerala   801076    3258   801076     3258"
      ]
     },
     "execution_count": 11,
     "metadata": {},
     "output_type": "execute_result"
    }
   ],
   "source": [
    "#hide\n",
    "df_table = pd.DataFrame({'states': dfc_cases.index, 'Cases': dfc_cases.values, 'Deaths': dfc_deaths.values, 'PCases': dfp_cases.values, 'PDeaths': dfp_deaths.values}).set_index('states')\n",
    "df_table = df_table.sort_values(by = ['Cases','Deaths'], ascending = [False, False])\n",
    "df_table = df_table.reset_index()\n",
    "df_table.head()"
   ]
  },
  {
   "cell_type": "code",
   "execution_count": 12,
   "metadata": {
    "execution": {
     "iopub.execute_input": "2021-01-09T13:01:51.982088Z",
     "iopub.status.busy": "2021-01-09T13:01:51.981495Z",
     "iopub.status.idle": "2021-01-09T13:01:51.990861Z",
     "shell.execute_reply": "2021-01-09T13:01:51.991376Z"
    },
    "papermill": {
     "duration": 0.031992,
     "end_time": "2021-01-09T13:01:51.991526",
     "exception": false,
     "start_time": "2021-01-09T13:01:51.959534",
     "status": "completed"
    },
    "tags": []
   },
   "outputs": [],
   "source": [
    "#hide\n",
    "for c in 'Cases, Deaths'.split(', '):\n",
    "    df_table[f'{c} (+)'] = (df_table[c] - df_table[f'P{c}']).clip(0)\n",
    "df_table['Fatality Rate'] = (100* df_table['Deaths']/ df_table['Cases']).round(2)"
   ]
  },
  {
   "cell_type": "code",
   "execution_count": 13,
   "metadata": {
    "execution": {
     "iopub.execute_input": "2021-01-09T13:01:52.033334Z",
     "iopub.status.busy": "2021-01-09T13:01:52.032720Z",
     "iopub.status.idle": "2021-01-09T13:01:52.035973Z",
     "shell.execute_reply": "2021-01-09T13:01:52.035468Z"
    },
    "papermill": {
     "duration": 0.028574,
     "end_time": "2021-01-09T13:01:52.036100",
     "exception": false,
     "start_time": "2021-01-09T13:01:52.007526",
     "status": "completed"
    },
    "tags": []
   },
   "outputs": [
    {
     "data": {
      "text/html": [
       "<div>\n",
       "<style scoped>\n",
       "    .dataframe tbody tr th:only-of-type {\n",
       "        vertical-align: middle;\n",
       "    }\n",
       "\n",
       "    .dataframe tbody tr th {\n",
       "        vertical-align: top;\n",
       "    }\n",
       "\n",
       "    .dataframe thead th {\n",
       "        text-align: right;\n",
       "    }\n",
       "</style>\n",
       "<table border=\"1\" class=\"dataframe\">\n",
       "  <thead>\n",
       "    <tr style=\"text-align: right;\">\n",
       "      <th></th>\n",
       "      <th>states</th>\n",
       "      <th>Cases</th>\n",
       "      <th>Deaths</th>\n",
       "      <th>PCases</th>\n",
       "      <th>PDeaths</th>\n",
       "      <th>Cases (+)</th>\n",
       "      <th>Deaths (+)</th>\n",
       "      <th>Fatality Rate</th>\n",
       "    </tr>\n",
       "  </thead>\n",
       "  <tbody>\n",
       "    <tr>\n",
       "      <th>0</th>\n",
       "      <td>Maharashtra</td>\n",
       "      <td>1961975</td>\n",
       "      <td>49970</td>\n",
       "      <td>1961975</td>\n",
       "      <td>49970</td>\n",
       "      <td>0</td>\n",
       "      <td>0</td>\n",
       "      <td>2.55</td>\n",
       "    </tr>\n",
       "    <tr>\n",
       "      <th>1</th>\n",
       "      <td>Karnataka</td>\n",
       "      <td>925868</td>\n",
       "      <td>12134</td>\n",
       "      <td>925868</td>\n",
       "      <td>12134</td>\n",
       "      <td>0</td>\n",
       "      <td>0</td>\n",
       "      <td>1.31</td>\n",
       "    </tr>\n",
       "    <tr>\n",
       "      <th>2</th>\n",
       "      <td>Andhra Pradesh</td>\n",
       "      <td>884490</td>\n",
       "      <td>7127</td>\n",
       "      <td>884490</td>\n",
       "      <td>7127</td>\n",
       "      <td>0</td>\n",
       "      <td>0</td>\n",
       "      <td>0.81</td>\n",
       "    </tr>\n",
       "    <tr>\n",
       "      <th>3</th>\n",
       "      <td>Tamil Nadu</td>\n",
       "      <td>824776</td>\n",
       "      <td>12208</td>\n",
       "      <td>824776</td>\n",
       "      <td>12208</td>\n",
       "      <td>0</td>\n",
       "      <td>0</td>\n",
       "      <td>1.48</td>\n",
       "    </tr>\n",
       "    <tr>\n",
       "      <th>4</th>\n",
       "      <td>Kerala</td>\n",
       "      <td>801076</td>\n",
       "      <td>3258</td>\n",
       "      <td>801076</td>\n",
       "      <td>3258</td>\n",
       "      <td>0</td>\n",
       "      <td>0</td>\n",
       "      <td>0.41</td>\n",
       "    </tr>\n",
       "  </tbody>\n",
       "</table>\n",
       "</div>"
      ],
      "text/plain": [
       "           states    Cases  Deaths   PCases  PDeaths  Cases (+)  Deaths (+)  \\\n",
       "0     Maharashtra  1961975   49970  1961975    49970          0           0   \n",
       "1       Karnataka   925868   12134   925868    12134          0           0   \n",
       "2  Andhra Pradesh   884490    7127   884490     7127          0           0   \n",
       "3      Tamil Nadu   824776   12208   824776    12208          0           0   \n",
       "4          Kerala   801076    3258   801076     3258          0           0   \n",
       "\n",
       "   Fatality Rate  \n",
       "0           2.55  \n",
       "1           1.31  \n",
       "2           0.81  \n",
       "3           1.48  \n",
       "4           0.41  "
      ]
     },
     "execution_count": 13,
     "metadata": {},
     "output_type": "execute_result"
    }
   ],
   "source": [
    "#hide\n",
    "df_table.head()"
   ]
  },
  {
   "cell_type": "code",
   "execution_count": 14,
   "metadata": {
    "execution": {
     "iopub.execute_input": "2021-01-09T13:01:52.078386Z",
     "iopub.status.busy": "2021-01-09T13:01:52.077783Z",
     "iopub.status.idle": "2021-01-09T13:01:52.093550Z",
     "shell.execute_reply": "2021-01-09T13:01:52.093061Z"
    },
    "papermill": {
     "duration": 0.041404,
     "end_time": "2021-01-09T13:01:52.093683",
     "exception": false,
     "start_time": "2021-01-09T13:01:52.052279",
     "status": "completed"
    },
    "tags": []
   },
   "outputs": [
    {
     "data": {
      "text/plain": [
       "{'updated': '2021-01-09',\n",
       " 'since': '2021-01-08',\n",
       " 'Cases': 10433549,\n",
       " 'PCases': 10432526,\n",
       " 'Deaths': 150850,\n",
       " 'PDeaths': 150835,\n",
       " 'Cases (+)': 1023,\n",
       " 'Deaths (+)': 15}"
      ]
     },
     "execution_count": 14,
     "metadata": {},
     "output_type": "execute_result"
    }
   ],
   "source": [
    "#hide\n",
    "summary = {'updated':dates[-1], 'since':dates[-2]}\n",
    "list_names = ['Cases', 'PCases', 'Deaths', 'PDeaths', 'Cases (+)', 'Deaths (+)']\n",
    "for name in list_names:\n",
    "    summary[name] = df_table.sum()[name]\n",
    "summary"
   ]
  },
  {
   "cell_type": "code",
   "execution_count": 15,
   "metadata": {
    "execution": {
     "iopub.execute_input": "2021-01-09T13:01:52.138112Z",
     "iopub.status.busy": "2021-01-09T13:01:52.137504Z",
     "iopub.status.idle": "2021-01-09T13:01:52.139701Z",
     "shell.execute_reply": "2021-01-09T13:01:52.139230Z"
    },
    "papermill": {
     "duration": 0.028036,
     "end_time": "2021-01-09T13:01:52.139829",
     "exception": false,
     "start_time": "2021-01-09T13:01:52.111793",
     "status": "completed"
    },
    "tags": []
   },
   "outputs": [],
   "source": [
    "#hide\n",
    "overview = '''\n",
    "<!-- #######  HTML!! #########-->\n",
    "<h1 style=\"color: #5e9ca0; text-align: center;\">India</h1>\n",
    "<p style=\"text-align: center;\">Last update: <strong>{update}</strong></p>\n",
    "<p style=\"text-align: center;\">Confirmed cases:</p>\n",
    "<p style=\"text-align: center;font-size:24px;\">{cases} (<span style=\"color: #ff0000;\">+{new}</span>)</p>\n",
    "<p style=\"text-align: center;\">Confirmed deaths:</p>\n",
    "<p style=\"text-align: center;font-size:24px;\">{deaths} (<span style=\"color: #ff0000;\">+{dnew}</span>)</p>\n",
    "'''"
   ]
  },
  {
   "cell_type": "code",
   "execution_count": 16,
   "metadata": {
    "execution": {
     "iopub.execute_input": "2021-01-09T13:01:52.181200Z",
     "iopub.status.busy": "2021-01-09T13:01:52.180554Z",
     "iopub.status.idle": "2021-01-09T13:01:52.183174Z",
     "shell.execute_reply": "2021-01-09T13:01:52.183689Z"
    },
    "papermill": {
     "duration": 0.027191,
     "end_time": "2021-01-09T13:01:52.183839",
     "exception": false,
     "start_time": "2021-01-09T13:01:52.156648",
     "status": "completed"
    },
    "tags": []
   },
   "outputs": [
    {
     "data": {
      "text/html": [
       "\n",
       "<!-- #######  HTML!! #########-->\n",
       "<h1 style=\"color: #5e9ca0; text-align: center;\">India</h1>\n",
       "<p style=\"text-align: center;\">Last update: <strong>2021-01-09</strong></p>\n",
       "<p style=\"text-align: center;\">Confirmed cases:</p>\n",
       "<p style=\"text-align: center;font-size:24px;\">10433549 (<span style=\"color: #ff0000;\">+1023</span>)</p>\n",
       "<p style=\"text-align: center;\">Confirmed deaths:</p>\n",
       "<p style=\"text-align: center;font-size:24px;\">150850 (<span style=\"color: #ff0000;\">+15</span>)</p>\n"
      ],
      "text/plain": [
       "<IPython.core.display.HTML object>"
      ]
     },
     "metadata": {},
     "output_type": "display_data"
    }
   ],
   "source": [
    "#hide_input\n",
    "update = summary['updated']\n",
    "cases = summary['Cases']\n",
    "new = summary['Cases (+)']\n",
    "deaths = summary['Deaths']\n",
    "dnew = summary['Deaths (+)']\n",
    "\n",
    "html = HTML(overview.format(update=update, cases=cases,new=new,deaths=deaths,dnew=dnew))\n",
    "\n",
    "display(html)"
   ]
  },
  {
   "cell_type": "code",
   "execution_count": 17,
   "metadata": {
    "execution": {
     "iopub.execute_input": "2021-01-09T13:01:52.226256Z",
     "iopub.status.busy": "2021-01-09T13:01:52.225674Z",
     "iopub.status.idle": "2021-01-09T13:01:52.234273Z",
     "shell.execute_reply": "2021-01-09T13:01:52.234690Z"
    },
    "papermill": {
     "duration": 0.03354,
     "end_time": "2021-01-09T13:01:52.234852",
     "exception": false,
     "start_time": "2021-01-09T13:01:52.201312",
     "status": "completed"
    },
    "tags": []
   },
   "outputs": [],
   "source": [
    "#hide\n",
    "dt_cols = list(dft_cases.columns[1:])\n",
    "dft_ct_new_cases = dft_cases.groupby('state')[dt_cols].sum().diff(axis=1).fillna(0).astype(int)\n",
    "dft_ct_new_cases.sort_values(by = dates[-1], ascending = False,inplace = True)"
   ]
  },
  {
   "cell_type": "code",
   "execution_count": 18,
   "metadata": {
    "execution": {
     "iopub.execute_input": "2021-01-09T13:01:52.291895Z",
     "iopub.status.busy": "2021-01-09T13:01:52.291291Z",
     "iopub.status.idle": "2021-01-09T13:01:52.294210Z",
     "shell.execute_reply": "2021-01-09T13:01:52.294705Z"
    },
    "papermill": {
     "duration": 0.042569,
     "end_time": "2021-01-09T13:01:52.294846",
     "exception": false,
     "start_time": "2021-01-09T13:01:52.252277",
     "status": "completed"
    },
    "tags": []
   },
   "outputs": [
    {
     "data": {
      "text/html": [
       "<div>\n",
       "<style scoped>\n",
       "    .dataframe tbody tr th:only-of-type {\n",
       "        vertical-align: middle;\n",
       "    }\n",
       "\n",
       "    .dataframe tbody tr th {\n",
       "        vertical-align: top;\n",
       "    }\n",
       "\n",
       "    .dataframe thead th {\n",
       "        text-align: right;\n",
       "    }\n",
       "</style>\n",
       "<table border=\"1\" class=\"dataframe\">\n",
       "  <thead>\n",
       "    <tr style=\"text-align: right;\">\n",
       "      <th>states</th>\n",
       "      <th>2020-07-01</th>\n",
       "      <th>2020-07-02</th>\n",
       "      <th>2020-07-03</th>\n",
       "      <th>2020-07-04</th>\n",
       "      <th>2020-07-05</th>\n",
       "      <th>2020-07-06</th>\n",
       "      <th>2020-07-07</th>\n",
       "      <th>2020-07-08</th>\n",
       "      <th>2020-07-09</th>\n",
       "      <th>2020-07-10</th>\n",
       "      <th>...</th>\n",
       "      <th>2020-12-31</th>\n",
       "      <th>2021-01-01</th>\n",
       "      <th>2021-01-02</th>\n",
       "      <th>2021-01-03</th>\n",
       "      <th>2021-01-04</th>\n",
       "      <th>2021-01-05</th>\n",
       "      <th>2021-01-06</th>\n",
       "      <th>2021-01-07</th>\n",
       "      <th>2021-01-08</th>\n",
       "      <th>2021-01-09</th>\n",
       "    </tr>\n",
       "    <tr>\n",
       "      <th>state</th>\n",
       "      <th></th>\n",
       "      <th></th>\n",
       "      <th></th>\n",
       "      <th></th>\n",
       "      <th></th>\n",
       "      <th></th>\n",
       "      <th></th>\n",
       "      <th></th>\n",
       "      <th></th>\n",
       "      <th></th>\n",
       "      <th></th>\n",
       "      <th></th>\n",
       "      <th></th>\n",
       "      <th></th>\n",
       "      <th></th>\n",
       "      <th></th>\n",
       "      <th></th>\n",
       "      <th></th>\n",
       "      <th></th>\n",
       "      <th></th>\n",
       "      <th></th>\n",
       "    </tr>\n",
       "  </thead>\n",
       "  <tbody>\n",
       "    <tr>\n",
       "      <th>Delhi</th>\n",
       "      <td>0</td>\n",
       "      <td>2373</td>\n",
       "      <td>2520</td>\n",
       "      <td>2505</td>\n",
       "      <td>2244</td>\n",
       "      <td>1379</td>\n",
       "      <td>2008</td>\n",
       "      <td>2033</td>\n",
       "      <td>2187</td>\n",
       "      <td>2089</td>\n",
       "      <td>...</td>\n",
       "      <td>574</td>\n",
       "      <td>585</td>\n",
       "      <td>494</td>\n",
       "      <td>424</td>\n",
       "      <td>384</td>\n",
       "      <td>442</td>\n",
       "      <td>654</td>\n",
       "      <td>486</td>\n",
       "      <td>444</td>\n",
       "      <td>519</td>\n",
       "    </tr>\n",
       "    <tr>\n",
       "      <th>Telangana</th>\n",
       "      <td>0</td>\n",
       "      <td>1213</td>\n",
       "      <td>1892</td>\n",
       "      <td>1850</td>\n",
       "      <td>1590</td>\n",
       "      <td>1831</td>\n",
       "      <td>1879</td>\n",
       "      <td>1924</td>\n",
       "      <td>1410</td>\n",
       "      <td>1278</td>\n",
       "      <td>...</td>\n",
       "      <td>415</td>\n",
       "      <td>461</td>\n",
       "      <td>293</td>\n",
       "      <td>394</td>\n",
       "      <td>238</td>\n",
       "      <td>253</td>\n",
       "      <td>417</td>\n",
       "      <td>379</td>\n",
       "      <td>346</td>\n",
       "      <td>298</td>\n",
       "    </tr>\n",
       "    <tr>\n",
       "      <th>Odisha</th>\n",
       "      <td>0</td>\n",
       "      <td>229</td>\n",
       "      <td>561</td>\n",
       "      <td>495</td>\n",
       "      <td>469</td>\n",
       "      <td>456</td>\n",
       "      <td>571</td>\n",
       "      <td>527</td>\n",
       "      <td>577</td>\n",
       "      <td>755</td>\n",
       "      <td>...</td>\n",
       "      <td>315</td>\n",
       "      <td>245</td>\n",
       "      <td>251</td>\n",
       "      <td>192</td>\n",
       "      <td>183</td>\n",
       "      <td>198</td>\n",
       "      <td>231</td>\n",
       "      <td>230</td>\n",
       "      <td>245</td>\n",
       "      <td>206</td>\n",
       "    </tr>\n",
       "    <tr>\n",
       "      <th>Andaman and Nicobar Islands</th>\n",
       "      <td>0</td>\n",
       "      <td>9</td>\n",
       "      <td>7</td>\n",
       "      <td>3</td>\n",
       "      <td>6</td>\n",
       "      <td>16</td>\n",
       "      <td>6</td>\n",
       "      <td>2</td>\n",
       "      <td>7</td>\n",
       "      <td>0</td>\n",
       "      <td>...</td>\n",
       "      <td>4</td>\n",
       "      <td>1</td>\n",
       "      <td>1</td>\n",
       "      <td>1</td>\n",
       "      <td>0</td>\n",
       "      <td>1</td>\n",
       "      <td>0</td>\n",
       "      <td>9</td>\n",
       "      <td>1</td>\n",
       "      <td>0</td>\n",
       "    </tr>\n",
       "    <tr>\n",
       "      <th>Punjab</th>\n",
       "      <td>0</td>\n",
       "      <td>116</td>\n",
       "      <td>153</td>\n",
       "      <td>172</td>\n",
       "      <td>174</td>\n",
       "      <td>208</td>\n",
       "      <td>258</td>\n",
       "      <td>158</td>\n",
       "      <td>233</td>\n",
       "      <td>217</td>\n",
       "      <td>...</td>\n",
       "      <td>283</td>\n",
       "      <td>248</td>\n",
       "      <td>242</td>\n",
       "      <td>207</td>\n",
       "      <td>222</td>\n",
       "      <td>211</td>\n",
       "      <td>258</td>\n",
       "      <td>277</td>\n",
       "      <td>299</td>\n",
       "      <td>0</td>\n",
       "    </tr>\n",
       "  </tbody>\n",
       "</table>\n",
       "<p>5 rows × 193 columns</p>\n",
       "</div>"
      ],
      "text/plain": [
       "states                       2020-07-01  2020-07-02  2020-07-03  2020-07-04  \\\n",
       "state                                                                         \n",
       "Delhi                                 0        2373        2520        2505   \n",
       "Telangana                             0        1213        1892        1850   \n",
       "Odisha                                0         229         561         495   \n",
       "Andaman and Nicobar Islands           0           9           7           3   \n",
       "Punjab                                0         116         153         172   \n",
       "\n",
       "states                       2020-07-05  2020-07-06  2020-07-07  2020-07-08  \\\n",
       "state                                                                         \n",
       "Delhi                              2244        1379        2008        2033   \n",
       "Telangana                          1590        1831        1879        1924   \n",
       "Odisha                              469         456         571         527   \n",
       "Andaman and Nicobar Islands           6          16           6           2   \n",
       "Punjab                              174         208         258         158   \n",
       "\n",
       "states                       2020-07-09  2020-07-10  ...  2020-12-31  \\\n",
       "state                                                ...               \n",
       "Delhi                              2187        2089  ...         574   \n",
       "Telangana                          1410        1278  ...         415   \n",
       "Odisha                              577         755  ...         315   \n",
       "Andaman and Nicobar Islands           7           0  ...           4   \n",
       "Punjab                              233         217  ...         283   \n",
       "\n",
       "states                       2021-01-01  2021-01-02  2021-01-03  2021-01-04  \\\n",
       "state                                                                         \n",
       "Delhi                               585         494         424         384   \n",
       "Telangana                           461         293         394         238   \n",
       "Odisha                              245         251         192         183   \n",
       "Andaman and Nicobar Islands           1           1           1           0   \n",
       "Punjab                              248         242         207         222   \n",
       "\n",
       "states                       2021-01-05  2021-01-06  2021-01-07  2021-01-08  \\\n",
       "state                                                                         \n",
       "Delhi                               442         654         486         444   \n",
       "Telangana                           253         417         379         346   \n",
       "Odisha                              198         231         230         245   \n",
       "Andaman and Nicobar Islands           1           0           9           1   \n",
       "Punjab                              211         258         277         299   \n",
       "\n",
       "states                       2021-01-09  \n",
       "state                                    \n",
       "Delhi                               519  \n",
       "Telangana                           298  \n",
       "Odisha                              206  \n",
       "Andaman and Nicobar Islands           0  \n",
       "Punjab                                0  \n",
       "\n",
       "[5 rows x 193 columns]"
      ]
     },
     "execution_count": 18,
     "metadata": {},
     "output_type": "execute_result"
    }
   ],
   "source": [
    "#hide\n",
    "dft_ct_new_cases.head()"
   ]
  },
  {
   "cell_type": "code",
   "execution_count": 19,
   "metadata": {
    "execution": {
     "iopub.execute_input": "2021-01-09T13:01:52.358688Z",
     "iopub.status.busy": "2021-01-09T13:01:52.342689Z",
     "iopub.status.idle": "2021-01-09T13:01:59.220408Z",
     "shell.execute_reply": "2021-01-09T13:01:59.221000Z"
    },
    "papermill": {
     "duration": 6.909013,
     "end_time": "2021-01-09T13:01:59.221189",
     "exception": false,
     "start_time": "2021-01-09T13:01:52.312176",
     "status": "completed"
    },
    "tags": []
   },
   "outputs": [
    {
     "data": {
      "image/png": "[encoded data removed]",
      "text/plain": [
       "<Figure size 1296x2016 with 11 Axes>"
      ]
     },
     "metadata": {
      "needs_background": "light"
     },
     "output_type": "display_data"
    }
   ],
   "source": [
    "#hide_input\n",
    "df = dft_ct_new_cases.copy()\n",
    "df.loc['Total'] = df.sum()\n",
    "n = 5\n",
    "ax = []\n",
    "fig = plt.figure(figsize = (18,28))\n",
    "gs = fig.add_gridspec(n+2, 5)\n",
    "# gs = fig.add_gridspec(2, 3)\n",
    "ax1 = fig.add_subplot(gs[0, :])\n",
    "ef = df.loc['Total'].rename_axis('date').reset_index()\n",
    "ef['date'] = ef['date'].astype('datetime64[ns]')\n",
    "ax1.bar(ef.date,ef.Total,alpha=0.3,color='#007acc')\n",
    "ax1.plot(ef.date,ef.Total , marker=\"o\", color='#007acc')\n",
    "ax1.xaxis.set_major_locator(mdates.WeekdayLocator())\n",
    "ax1.xaxis.set_major_formatter(mdates.DateFormatter('%b %d'))\n",
    "ax1.text(0.02, 0.5,'India daily case count', transform = ax1.transAxes, fontsize=25);\n",
    "ax1.spines['right'].set_visible(False)\n",
    "ax1.spines['top'].set_visible(False)\n",
    "\n",
    "ax2 = fig.add_subplot(gs[1,0])\n",
    "ef = df.loc['Maharashtra'].rename_axis('date').reset_index()\n",
    "ef['date'] = ef['date'].astype('datetime64[ns]')\n",
    "\n",
    "ax2.bar(ef.date, ef.Maharashtra,color = '#007acc',alpha=0.5)\n",
    "ax2.xaxis.set_major_locator(mdates.WeekdayLocator())\n",
    "ax2.xaxis.set_major_formatter(mdates.DateFormatter('%b %d'))\n",
    "ax2.set_xticks(ax2.get_xticks()[::3])\n",
    "maxyval = ef.Maharashtra.max()\n",
    "ax2.set_ylim([0,maxyval])\n",
    "ax2.text(0.05, 0.9,'Maharashtra', transform = ax2.transAxes, fontsize=20);\n",
    "ax2.spines['right'].set_visible(False)\n",
    "ax2.spines['top'].set_visible(False)\n",
    "\n",
    "\n",
    "ax3 = fig.add_subplot(gs[1,1])\n",
    "ef = df.loc['Tamil Nadu'].rename_axis('date').reset_index()\n",
    "ef['date'] = ef['date'].astype('datetime64[ns]')\n",
    "ax3.bar(ef.date, ef['Tamil Nadu'],color = '#007acc',alpha=0.5,)\n",
    "ax3.xaxis.set_major_locator(mdates.WeekdayLocator())\n",
    "ax3.xaxis.set_major_formatter(mdates.DateFormatter('%b %d'))\n",
    "ax3.set_xticks(ax3.get_xticks()[::3])\n",
    "ax3.text(0.05, 0.9,'Tamil Nadu', transform = ax3.transAxes, fontsize=20);\n",
    "ax3.spines['right'].set_visible(False)\n",
    "ax3.spines['top'].set_visible(False)\n",
    "\n",
    "ax5 = fig.add_subplot(gs[1,3])\n",
    "ef = df.loc['Telangana'].rename_axis('date').reset_index()\n",
    "ef['date'] = ef['date'].astype('datetime64[ns]')\n",
    "ax5.bar(ef.date, ef['Telangana'],color = '#007acc',alpha=0.5,)\n",
    "ax5.xaxis.set_major_locator(mdates.WeekdayLocator())\n",
    "ax5.xaxis.set_major_formatter(mdates.DateFormatter('%b %d'))\n",
    "ax5.set_xticks(ax5.get_xticks()[::3])\n",
    "ax5.text(0.05, 0.9,'Telangana', transform = ax5.transAxes, fontsize=20);\n",
    "ax5.spines['right'].set_visible(False)\n",
    "ax5.spines['top'].set_visible(False)\n",
    "\n",
    "ax6 = fig.add_subplot(gs[1,4])\n",
    "ef = df.loc['Andhra Pradesh'].rename_axis('date').reset_index()\n",
    "ef['date'] = ef['date'].astype('datetime64[ns]')\n",
    "ax6.bar(ef.date, ef['Andhra Pradesh'],color = '#007acc',alpha=0.5,)\n",
    "ax6.xaxis.set_major_locator(mdates.WeekdayLocator())\n",
    "ax6.xaxis.set_major_formatter(mdates.DateFormatter('%b %d'))\n",
    "ax6.set_xticks(ax6.get_xticks()[::3])\n",
    "ax6.text(0.05, 1,'Andhra Pradesh', transform = ax6.transAxes, fontsize=20);\n",
    "ax6.spines['right'].set_visible(False)\n",
    "ax6.spines['top'].set_visible(False)\n",
    "\n",
    "ax4 = fig.add_subplot(gs[1,2])\n",
    "ef = df.loc['Delhi'].rename_axis('date').reset_index()\n",
    "ef['date'] = ef['date'].astype('datetime64[ns]')\n",
    "ax4.bar(ef.date, ef.Delhi,color = '#007acc',alpha=0.5)\n",
    "ax4.set_xticks([])\n",
    "ax4.xaxis.set_major_locator(mdates.WeekdayLocator())\n",
    "ax4.xaxis.set_major_formatter(mdates.DateFormatter('%b %d'))\n",
    "ax4.set_xticks(ax4.get_xticks()[::3])\n",
    "ax4.spines['right'].set_visible(False)\n",
    "ax4.spines['top'].set_visible(False)\n",
    "\n",
    "ax4.text(0.05, 1,'Delhi', transform = ax4.transAxes, fontsize=20)\n",
    "\n",
    "for i in range(n):\n",
    "    \n",
    "    ax.append(fig.add_subplot(gs[i+2,:]))\n",
    "    ef = df.iloc[i+3].rename_axis('date').reset_index()\n",
    "    ef['date'] = ef['date'].astype('datetime64[ns]')\n",
    "    ax[i].bar(ef.date,ef.iloc[:,-1],color = '#007acc',alpha=0.3)\n",
    "    ax[i].plot(ef.date,ef.iloc[:,-1],marker='o',color='#007acc')\n",
    "    ax[i].text(0.02,0.5,f'{ef.columns.values[-1]}',transform = ax[i].transAxes, fontsize = 20);\n",
    "    ax[i].xaxis.set_major_locator(mdates.WeekdayLocator())\n",
    "    ax[i].xaxis.set_major_formatter(mdates.DateFormatter('%b %d'))\n",
    "    ax[i].set_ylim([0,7000])\n",
    "    ax[i].spines['right'].set_visible(False)\n",
    "    ax[i].spines['top'].set_visible(False)\n",
    "plt.tight_layout()\n"
   ]
  },
  {
   "cell_type": "code",
   "execution_count": 20,
   "metadata": {
    "execution": {
     "iopub.execute_input": "2021-01-09T13:01:59.280651Z",
     "iopub.status.busy": "2021-01-09T13:01:59.279829Z",
     "iopub.status.idle": "2021-01-09T13:01:59.282537Z",
     "shell.execute_reply": "2021-01-09T13:01:59.283097Z"
    },
    "papermill": {
     "duration": 0.03828,
     "end_time": "2021-01-09T13:01:59.283267",
     "exception": false,
     "start_time": "2021-01-09T13:01:59.244987",
     "status": "completed"
    },
    "tags": []
   },
   "outputs": [
    {
     "name": "stdout",
     "output_type": "stream",
     "text": [
      "                                   states    Cases  Deaths   PCases  PDeaths  Cases (+)  Deaths (+)  Fatality Rate\n",
      "                              Maharashtra  1961975   49970  1961975    49970          0           0           2.55\n",
      "                                Karnataka   925868   12134   925868    12134          0           0           1.31\n",
      "                           Andhra Pradesh   884490    7127   884490     7127          0           0           0.81\n",
      "                               Tamil Nadu   824776   12208   824776    12208          0           0           1.48\n",
      "                                   Kerala   801076    3258   801076     3258          0           0           0.41\n",
      "                                    Delhi   629801   10666   629282    10654        519          12           1.69\n",
      "                            Uttar Pradesh   591610    8469   591610     8469          0           0           1.43\n",
      "                              West Bengal   559099    9902   559099     9902          0           0           1.77\n",
      "                                   Odisha   331602    1944   331396     1943        206           1           0.59\n",
      "                                Rajasthan   312091    2727   312091     2727          0           0           0.87\n",
      "                                Telangana   289433    1563   289135     1561        298           2           0.54\n",
      "                             Chhattisgarh   287556    3469   287556     3469          0           0           1.21\n",
      "                                  Haryana   264442    2943   264442     2943          0           0           1.11\n",
      "                                    Bihar   255926    1428   255926     1428          0           0           0.56\n",
      "                                  Gujarat   250598    4335   250598     4335          0           0           1.73\n",
      "                           Madhya Pradesh   247436    3691   247436     3691          0           0           1.49\n",
      "                                    Assam   216531    1059   216531     1059          0           0           0.49\n",
      "                                   Punjab   168486    5437   168486     5437          0           0           3.23\n",
      "                        Jammu and Kashmir   122298    1907   122298     1907          0           0           1.56\n",
      "                                Jharkhand   116436    1043   116436     1043          0           0           0.90\n",
      "                              Uttarakhand    93111    1562    93111     1562          0           0           1.68\n",
      "                         Himachal Pradesh    56282     943    56282      943          0           0           1.68\n",
      "                                      Goa    51709     744    51709      744          0           0           1.44\n",
      "                               Puducherry    38389     636    38389      636          0           0           1.66\n",
      "                                  Tripura    33296     385    33296      385          0           0           1.16\n",
      "                                  Manipur    28579     364    28579      364          0           0           1.27\n",
      "                               Chandigarh    20201     326    20201      326          0           0           1.61\n",
      "                        Arunachal Pradesh    16764      56    16764       56          0           0           0.33\n",
      "                                Meghalaya    13560     143    13560      143          0           0           1.05\n",
      "                                 Nagaland    11964      83    11964       83          0           0           0.69\n",
      "                                   Ladakh     9601     127     9601      127          0           0           1.32\n",
      "                                   Sikkim     5979     129     5979      129          0           0           2.16\n",
      "              Andaman and Nicobar Islands     4959      62     4959       62          0           0           1.25\n",
      "                                  Mizoram     4259       8     4259        8          0           0           0.19\n",
      " Dadra and Nagar Haveli and Daman and Diu     3366       2     3366        2          0           0           0.06\n",
      "                              Lakshadweep        0       0        0        0          0           0            NaN\n"
     ]
    }
   ],
   "source": [
    "#hide_input\n",
    "print(df_table.to_string(index=False))"
   ]
  },
  {
   "cell_type": "code",
   "execution_count": null,
   "metadata": {
    "papermill": {
     "duration": 0.024115,
     "end_time": "2021-01-09T13:01:59.332886",
     "exception": false,
     "start_time": "2021-01-09T13:01:59.308771",
     "status": "completed"
    },
    "tags": []
   },
   "outputs": [],
   "source": []
  },
  {
   "cell_type": "code",
   "execution_count": null,
   "metadata": {
    "papermill": {
     "duration": 0.024231,
     "end_time": "2021-01-09T13:01:59.380947",
     "exception": false,
     "start_time": "2021-01-09T13:01:59.356716",
     "status": "completed"
    },
    "tags": []
   },
   "outputs": [],
   "source": []
  }
 ],
 "metadata": {
  "kernelspec": {
   "display_name": "Python 3",
   "language": "python",
   "name": "python3"
  },
  "language_info": {
   "codemirror_mode": {
    "name": "ipython",
    "version": 3
   },
   "file_extension": ".py",
   "mimetype": "text/x-python",
   "name": "python",
   "nbconvert_exporter": "python",
   "pygments_lexer": "ipython3",
   "version": "3.6.12"
  },
  "papermill": {
   "duration": 16.035914,
   "end_time": "2021-01-09T13:01:59.912971",
   "environment_variables": {},
   "exception": null,
   "input_path": "latest.ipynb",
   "output_path": "latest.ipynb",
   "parameters": {},
   "start_time": "2021-01-09T13:01:43.877057",
   "version": "2.1.2"
  }
 },
 "nbformat": 4,
 "nbformat_minor": 4
}