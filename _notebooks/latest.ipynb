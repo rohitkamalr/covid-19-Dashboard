{
 "cells": [
  {
   "cell_type": "markdown",
   "metadata": {
    "papermill": {
     "duration": 0.022682,
     "end_time": "2020-10-13T05:38:54.129559",
     "exception": false,
     "start_time": "2020-10-13T05:38:54.106877",
     "status": "completed"
    },
    "tags": []
   },
   "source": [
    "# Latest COVID-19 India Matplotlib Overview"
   ]
  },
  {
   "cell_type": "code",
   "execution_count": 1,
   "metadata": {
    "execution": {
     "iopub.execute_input": "2020-10-13T05:38:54.181255Z",
     "iopub.status.busy": "2020-10-13T05:38:54.180491Z",
     "iopub.status.idle": "2020-10-13T05:38:54.840437Z",
     "shell.execute_reply": "2020-10-13T05:38:54.839875Z"
    },
    "papermill": {
     "duration": 0.690967,
     "end_time": "2020-10-13T05:38:54.840602",
     "exception": false,
     "start_time": "2020-10-13T05:38:54.149635",
     "status": "completed"
    },
    "tags": []
   },
   "outputs": [],
   "source": [
    "#hide\n",
    "import pandas as pd\n",
    "import numpy as np\n",
    "import requests\n",
    "import json\n",
    "import matplotlib.pyplot as plt\n",
    "import matplotlib.dates as mdates\n",
    "import matplotlib as mpl\n",
    "from IPython.core.display import display,HTML\n",
    "%matplotlib inline\n",
    "from datetime import date"
   ]
  },
  {
   "cell_type": "code",
   "execution_count": 2,
   "metadata": {
    "execution": {
     "iopub.execute_input": "2020-10-13T05:38:54.884505Z",
     "iopub.status.busy": "2020-10-13T05:38:54.883466Z",
     "iopub.status.idle": "2020-10-13T05:38:55.026572Z",
     "shell.execute_reply": "2020-10-13T05:38:55.025964Z"
    },
    "papermill": {
     "duration": 0.168257,
     "end_time": "2020-10-13T05:38:55.026725",
     "exception": false,
     "start_time": "2020-10-13T05:38:54.858468",
     "status": "completed"
    },
    "tags": []
   },
   "outputs": [],
   "source": [
    "#hide\n",
    "df  = pd.read_csv('https://api.covid19india.org/csv/latest/states.csv')\n",
    "df = df[['Date','State','Confirmed','Deceased']]\n",
    "df = df.rename(columns={'Confirmed':'Cases', \"Deceased\":'Deaths'})\n",
    "df_cases = df[[\"Date\",'State','Cases']]\n",
    "df_deaths = df[['Date','State','Deaths']]\n",
    "df_cases1 = df_cases.groupby('Date')\n",
    "df_deaths1= df_deaths.groupby('Date')"
   ]
  },
  {
   "cell_type": "code",
   "execution_count": 3,
   "metadata": {
    "execution": {
     "iopub.execute_input": "2020-10-13T05:38:55.128294Z",
     "iopub.status.busy": "2020-10-13T05:38:55.127593Z",
     "iopub.status.idle": "2020-10-13T05:38:55.148323Z",
     "shell.execute_reply": "2020-10-13T05:38:55.147698Z"
    },
    "papermill": {
     "duration": 0.082381,
     "end_time": "2020-10-13T05:38:55.148488",
     "exception": false,
     "start_time": "2020-10-13T05:38:55.066107",
     "status": "completed"
    },
    "tags": []
   },
   "outputs": [],
   "source": [
    "#hide\n",
    "df_snap = pd.read_csv('data/SnapshotCases-28-July.csv')\n",
    "arr_states = df_snap['states'].unique()\n",
    "arr_dates = df['Date'].unique()\n",
    "df_snap = df_snap.set_index('states')"
   ]
  },
  {
   "cell_type": "code",
   "execution_count": 4,
   "metadata": {
    "execution": {
     "iopub.execute_input": "2020-10-13T05:38:55.282338Z",
     "iopub.status.busy": "2020-10-13T05:38:55.281639Z",
     "iopub.status.idle": "2020-10-13T05:38:55.286568Z",
     "shell.execute_reply": "2020-10-13T05:38:55.287211Z"
    },
    "papermill": {
     "duration": 0.117015,
     "end_time": "2020-10-13T05:38:55.287428",
     "exception": false,
     "start_time": "2020-10-13T05:38:55.170413",
     "status": "completed"
    },
    "tags": []
   },
   "outputs": [
    {
     "data": {
      "text/plain": [
       "array(['Andaman and Nicobar Islands', 'Andhra Pradesh',\n",
       "       'Arunachal Pradesh', 'Assam', 'Bihar', 'Chandigarh',\n",
       "       'Dadra and Nagar Haveli and Daman and Diu', 'Delhi', 'Goa',\n",
       "       'Gujarat', 'Haryana', 'Himachal Pradesh', 'Jammu and Kashmir',\n",
       "       'Jharkhand', 'Karnataka', 'Kerala', 'Lakshadweep',\n",
       "       'Madhya Pradesh', 'Maharashtra', 'Manipur', 'Meghalaya', 'Mizoram',\n",
       "       'Nagaland', 'Odisha', 'Puducherry', 'Punjab', 'Rajasthan',\n",
       "       'Sikkim', 'Tamil Nadu', 'Telangana', 'Tripura', 'Uttar Pradesh',\n",
       "       'West Bengal', 'Chhattisgarh', 'Ladakh', 'Uttarakhand'],\n",
       "      dtype=object)"
      ]
     },
     "execution_count": 4,
     "metadata": {},
     "output_type": "execute_result"
    }
   ],
   "source": [
    "#hide\n",
    "arr_states[-9] = 'Puducherry'\n",
    "arr_states[-10] = 'Odisha'\n",
    "arr_states[6] = 'Dadra and Nagar Haveli and Daman and Diu'\n",
    "arr_states = np.append(arr_states,np.array(['Chhattisgarh','Ladakh','Uttarakhand']))\n",
    "arr_states"
   ]
  },
  {
   "cell_type": "code",
   "execution_count": 5,
   "metadata": {
    "execution": {
     "iopub.execute_input": "2020-10-13T05:38:55.544164Z",
     "iopub.status.busy": "2020-10-13T05:38:55.538355Z",
     "iopub.status.idle": "2020-10-13T05:38:55.548657Z",
     "shell.execute_reply": "2020-10-13T05:38:55.548089Z"
    },
    "papermill": {
     "duration": 0.177403,
     "end_time": "2020-10-13T05:38:55.548818",
     "exception": false,
     "start_time": "2020-10-13T05:38:55.371415",
     "status": "completed"
    },
    "tags": []
   },
   "outputs": [],
   "source": [
    "#hide\n",
    "dates = []\n",
    "for i in arr_dates:\n",
    "    if i>='2020-07-01':\n",
    "        dates.append(i)\n",
    "dict = {'states':dates}\n",
    "for i in arr_states:\n",
    "    dict[i] = [0]*len(dates)\n",
    "dft_cases = pd.DataFrame(dict)\n",
    "dft_deaths = pd.DataFrame(dict)\n"
   ]
  },
  {
   "cell_type": "code",
   "execution_count": 6,
   "metadata": {
    "execution": {
     "iopub.execute_input": "2020-10-13T05:38:55.592773Z",
     "iopub.status.busy": "2020-10-13T05:38:55.592096Z",
     "iopub.status.idle": "2020-10-13T05:38:57.510480Z",
     "shell.execute_reply": "2020-10-13T05:38:57.509487Z"
    },
    "papermill": {
     "duration": 1.942574,
     "end_time": "2020-10-13T05:38:57.510652",
     "exception": false,
     "start_time": "2020-10-13T05:38:55.568078",
     "status": "completed"
    },
    "tags": []
   },
   "outputs": [],
   "source": [
    "#hide\n",
    "for i in range(len(dates)):\n",
    "    df1_deaths = df_deaths1.get_group(dates[i])\n",
    "    for j in range(len(df1_deaths.index)):\n",
    "        if df1_deaths.iloc[j,1] in arr_states:\n",
    "            dft_deaths.loc[i,df1_deaths.iloc[j,1]] = df1_deaths.iloc[j,2]\n",
    "dft_deaths = dft_deaths.set_index('states')"
   ]
  },
  {
   "cell_type": "code",
   "execution_count": 7,
   "metadata": {
    "execution": {
     "iopub.execute_input": "2020-10-13T05:38:57.555689Z",
     "iopub.status.busy": "2020-10-13T05:38:57.554886Z",
     "iopub.status.idle": "2020-10-13T05:38:59.473414Z",
     "shell.execute_reply": "2020-10-13T05:38:59.472060Z"
    },
    "papermill": {
     "duration": 1.944033,
     "end_time": "2020-10-13T05:38:59.473574",
     "exception": false,
     "start_time": "2020-10-13T05:38:57.529541",
     "status": "completed"
    },
    "tags": []
   },
   "outputs": [],
   "source": [
    "#hide\n",
    "for i in range(len(dates)):\n",
    "    df1_cases = df_cases1.get_group(dates[i])\n",
    "    for j in range(len(df1_cases.index)):\n",
    "        if df1_cases.iloc[j,1] in arr_states:\n",
    "            dft_cases.loc[i,df1_cases.iloc[j,1]] = df1_cases.iloc[j,2]\n",
    "dft_cases = dft_cases.set_index('states')"
   ]
  },
  {
   "cell_type": "code",
   "execution_count": 8,
   "metadata": {
    "execution": {
     "iopub.execute_input": "2020-10-13T05:38:59.521201Z",
     "iopub.status.busy": "2020-10-13T05:38:59.520517Z",
     "iopub.status.idle": "2020-10-13T05:38:59.523290Z",
     "shell.execute_reply": "2020-10-13T05:38:59.523924Z"
    },
    "papermill": {
     "duration": 0.027966,
     "end_time": "2020-10-13T05:38:59.524088",
     "exception": false,
     "start_time": "2020-10-13T05:38:59.496122",
     "status": "completed"
    },
    "tags": []
   },
   "outputs": [],
   "source": [
    "#hide\n",
    "dft_cases = dft_cases.T\n",
    "dft_deaths = dft_deaths.T\n",
    "dt_today = dates[-1]\n",
    "dt_yday = dates[-2]"
   ]
  },
  {
   "cell_type": "code",
   "execution_count": 9,
   "metadata": {
    "execution": {
     "iopub.execute_input": "2020-10-13T05:38:59.571856Z",
     "iopub.status.busy": "2020-10-13T05:38:59.568259Z",
     "iopub.status.idle": "2020-10-13T05:38:59.574877Z",
     "shell.execute_reply": "2020-10-13T05:38:59.574181Z"
    },
    "papermill": {
     "duration": 0.031447,
     "end_time": "2020-10-13T05:38:59.575017",
     "exception": false,
     "start_time": "2020-10-13T05:38:59.543570",
     "status": "completed"
    },
    "tags": []
   },
   "outputs": [],
   "source": [
    "#hide\n",
    "dft_cases = dft_cases.reset_index()\n",
    "dft_deaths = dft_deaths.reset_index()\n",
    "dft_cases = dft_cases.rename(columns = {'index':'state'})\n",
    "dft_deaths = dft_deaths.rename(columns = {'index':'state'})"
   ]
  },
  {
   "cell_type": "code",
   "execution_count": 10,
   "metadata": {
    "execution": {
     "iopub.execute_input": "2020-10-13T05:38:59.617244Z",
     "iopub.status.busy": "2020-10-13T05:38:59.616430Z",
     "iopub.status.idle": "2020-10-13T05:38:59.626599Z",
     "shell.execute_reply": "2020-10-13T05:38:59.625917Z"
    },
    "papermill": {
     "duration": 0.033643,
     "end_time": "2020-10-13T05:38:59.626744",
     "exception": false,
     "start_time": "2020-10-13T05:38:59.593101",
     "status": "completed"
    },
    "tags": []
   },
   "outputs": [],
   "source": [
    "#hide\n",
    "dfc_cases = dft_cases.groupby('state')[dt_today].sum()\n",
    "dfc_deaths = dft_deaths.groupby('state')[dt_today].sum()\n",
    "dfp_cases = dft_cases.groupby('state')[dt_yday].sum()\n",
    "dfp_deaths = dft_deaths.groupby('state')[dt_yday].sum()"
   ]
  },
  {
   "cell_type": "code",
   "execution_count": 11,
   "metadata": {
    "execution": {
     "iopub.execute_input": "2020-10-13T05:38:59.683411Z",
     "iopub.status.busy": "2020-10-13T05:38:59.682606Z",
     "iopub.status.idle": "2020-10-13T05:38:59.690297Z",
     "shell.execute_reply": "2020-10-13T05:38:59.690966Z"
    },
    "papermill": {
     "duration": 0.046044,
     "end_time": "2020-10-13T05:38:59.691155",
     "exception": false,
     "start_time": "2020-10-13T05:38:59.645111",
     "status": "completed"
    },
    "tags": []
   },
   "outputs": [
    {
     "data": {
      "text/html": [
       "<div>\n",
       "<style scoped>\n",
       "    .dataframe tbody tr th:only-of-type {\n",
       "        vertical-align: middle;\n",
       "    }\n",
       "\n",
       "    .dataframe tbody tr th {\n",
       "        vertical-align: top;\n",
       "    }\n",
       "\n",
       "    .dataframe thead th {\n",
       "        text-align: right;\n",
       "    }\n",
       "</style>\n",
       "<table border=\"1\" class=\"dataframe\">\n",
       "  <thead>\n",
       "    <tr style=\"text-align: right;\">\n",
       "      <th></th>\n",
       "      <th>states</th>\n",
       "      <th>Cases</th>\n",
       "      <th>Deaths</th>\n",
       "      <th>PCases</th>\n",
       "      <th>PDeaths</th>\n",
       "    </tr>\n",
       "  </thead>\n",
       "  <tbody>\n",
       "    <tr>\n",
       "      <th>0</th>\n",
       "      <td>Maharashtra</td>\n",
       "      <td>1535315</td>\n",
       "      <td>40514</td>\n",
       "      <td>1535315</td>\n",
       "      <td>40514</td>\n",
       "    </tr>\n",
       "    <tr>\n",
       "      <th>1</th>\n",
       "      <td>Andhra Pradesh</td>\n",
       "      <td>758951</td>\n",
       "      <td>6256</td>\n",
       "      <td>758951</td>\n",
       "      <td>6256</td>\n",
       "    </tr>\n",
       "    <tr>\n",
       "      <th>2</th>\n",
       "      <td>Karnataka</td>\n",
       "      <td>717915</td>\n",
       "      <td>10036</td>\n",
       "      <td>717915</td>\n",
       "      <td>10036</td>\n",
       "    </tr>\n",
       "    <tr>\n",
       "      <th>3</th>\n",
       "      <td>Tamil Nadu</td>\n",
       "      <td>661264</td>\n",
       "      <td>10314</td>\n",
       "      <td>661264</td>\n",
       "      <td>10314</td>\n",
       "    </tr>\n",
       "    <tr>\n",
       "      <th>4</th>\n",
       "      <td>Uttar Pradesh</td>\n",
       "      <td>439161</td>\n",
       "      <td>6438</td>\n",
       "      <td>439161</td>\n",
       "      <td>6438</td>\n",
       "    </tr>\n",
       "  </tbody>\n",
       "</table>\n",
       "</div>"
      ],
      "text/plain": [
       "           states    Cases  Deaths   PCases  PDeaths\n",
       "0     Maharashtra  1535315   40514  1535315    40514\n",
       "1  Andhra Pradesh   758951    6256   758951     6256\n",
       "2       Karnataka   717915   10036   717915    10036\n",
       "3      Tamil Nadu   661264   10314   661264    10314\n",
       "4   Uttar Pradesh   439161    6438   439161     6438"
      ]
     },
     "execution_count": 11,
     "metadata": {},
     "output_type": "execute_result"
    }
   ],
   "source": [
    "#hide\n",
    "df_table = pd.DataFrame({'states': dfc_cases.index, 'Cases': dfc_cases.values, 'Deaths': dfc_deaths.values, 'PCases': dfp_cases.values, 'PDeaths': dfp_deaths.values}).set_index('states')\n",
    "df_table = df_table.sort_values(by = ['Cases','Deaths'], ascending = [False, False])\n",
    "df_table = df_table.reset_index()\n",
    "df_table.head()"
   ]
  },
  {
   "cell_type": "code",
   "execution_count": 12,
   "metadata": {
    "execution": {
     "iopub.execute_input": "2020-10-13T05:38:59.737282Z",
     "iopub.status.busy": "2020-10-13T05:38:59.736589Z",
     "iopub.status.idle": "2020-10-13T05:38:59.747234Z",
     "shell.execute_reply": "2020-10-13T05:38:59.747769Z"
    },
    "papermill": {
     "duration": 0.036642,
     "end_time": "2020-10-13T05:38:59.747977",
     "exception": false,
     "start_time": "2020-10-13T05:38:59.711335",
     "status": "completed"
    },
    "tags": []
   },
   "outputs": [],
   "source": [
    "#hide\n",
    "for c in 'Cases, Deaths'.split(', '):\n",
    "    df_table[f'{c} (+)'] = (df_table[c] - df_table[f'P{c}']).clip(0)\n",
    "df_table['Fatality Rate'] = (100* df_table['Deaths']/ df_table['Cases']).round(2)"
   ]
  },
  {
   "cell_type": "code",
   "execution_count": 13,
   "metadata": {
    "execution": {
     "iopub.execute_input": "2020-10-13T05:38:59.797997Z",
     "iopub.status.busy": "2020-10-13T05:38:59.797299Z",
     "iopub.status.idle": "2020-10-13T05:38:59.800894Z",
     "shell.execute_reply": "2020-10-13T05:38:59.800197Z"
    },
    "papermill": {
     "duration": 0.034296,
     "end_time": "2020-10-13T05:38:59.801060",
     "exception": false,
     "start_time": "2020-10-13T05:38:59.766764",
     "status": "completed"
    },
    "tags": []
   },
   "outputs": [
    {
     "data": {
      "text/html": [
       "<div>\n",
       "<style scoped>\n",
       "    .dataframe tbody tr th:only-of-type {\n",
       "        vertical-align: middle;\n",
       "    }\n",
       "\n",
       "    .dataframe tbody tr th {\n",
       "        vertical-align: top;\n",
       "    }\n",
       "\n",
       "    .dataframe thead th {\n",
       "        text-align: right;\n",
       "    }\n",
       "</style>\n",
       "<table border=\"1\" class=\"dataframe\">\n",
       "  <thead>\n",
       "    <tr style=\"text-align: right;\">\n",
       "      <th></th>\n",
       "      <th>states</th>\n",
       "      <th>Cases</th>\n",
       "      <th>Deaths</th>\n",
       "      <th>PCases</th>\n",
       "      <th>PDeaths</th>\n",
       "      <th>Cases (+)</th>\n",
       "      <th>Deaths (+)</th>\n",
       "      <th>Fatality Rate</th>\n",
       "    </tr>\n",
       "  </thead>\n",
       "  <tbody>\n",
       "    <tr>\n",
       "      <th>0</th>\n",
       "      <td>Maharashtra</td>\n",
       "      <td>1535315</td>\n",
       "      <td>40514</td>\n",
       "      <td>1535315</td>\n",
       "      <td>40514</td>\n",
       "      <td>0</td>\n",
       "      <td>0</td>\n",
       "      <td>2.64</td>\n",
       "    </tr>\n",
       "    <tr>\n",
       "      <th>1</th>\n",
       "      <td>Andhra Pradesh</td>\n",
       "      <td>758951</td>\n",
       "      <td>6256</td>\n",
       "      <td>758951</td>\n",
       "      <td>6256</td>\n",
       "      <td>0</td>\n",
       "      <td>0</td>\n",
       "      <td>0.82</td>\n",
       "    </tr>\n",
       "    <tr>\n",
       "      <th>2</th>\n",
       "      <td>Karnataka</td>\n",
       "      <td>717915</td>\n",
       "      <td>10036</td>\n",
       "      <td>717915</td>\n",
       "      <td>10036</td>\n",
       "      <td>0</td>\n",
       "      <td>0</td>\n",
       "      <td>1.40</td>\n",
       "    </tr>\n",
       "    <tr>\n",
       "      <th>3</th>\n",
       "      <td>Tamil Nadu</td>\n",
       "      <td>661264</td>\n",
       "      <td>10314</td>\n",
       "      <td>661264</td>\n",
       "      <td>10314</td>\n",
       "      <td>0</td>\n",
       "      <td>0</td>\n",
       "      <td>1.56</td>\n",
       "    </tr>\n",
       "    <tr>\n",
       "      <th>4</th>\n",
       "      <td>Uttar Pradesh</td>\n",
       "      <td>439161</td>\n",
       "      <td>6438</td>\n",
       "      <td>439161</td>\n",
       "      <td>6438</td>\n",
       "      <td>0</td>\n",
       "      <td>0</td>\n",
       "      <td>1.47</td>\n",
       "    </tr>\n",
       "  </tbody>\n",
       "</table>\n",
       "</div>"
      ],
      "text/plain": [
       "           states    Cases  Deaths   PCases  PDeaths  Cases (+)  Deaths (+)  \\\n",
       "0     Maharashtra  1535315   40514  1535315    40514          0           0   \n",
       "1  Andhra Pradesh   758951    6256   758951     6256          0           0   \n",
       "2       Karnataka   717915   10036   717915    10036          0           0   \n",
       "3      Tamil Nadu   661264   10314   661264    10314          0           0   \n",
       "4   Uttar Pradesh   439161    6438   439161     6438          0           0   \n",
       "\n",
       "   Fatality Rate  \n",
       "0           2.64  \n",
       "1           0.82  \n",
       "2           1.40  \n",
       "3           1.56  \n",
       "4           1.47  "
      ]
     },
     "execution_count": 13,
     "metadata": {},
     "output_type": "execute_result"
    }
   ],
   "source": [
    "#hide\n",
    "df_table.head()"
   ]
  },
  {
   "cell_type": "code",
   "execution_count": 14,
   "metadata": {
    "execution": {
     "iopub.execute_input": "2020-10-13T05:38:59.861752Z",
     "iopub.status.busy": "2020-10-13T05:38:59.861019Z",
     "iopub.status.idle": "2020-10-13T05:38:59.863688Z",
     "shell.execute_reply": "2020-10-13T05:38:59.864323Z"
    },
    "papermill": {
     "duration": 0.044805,
     "end_time": "2020-10-13T05:38:59.864489",
     "exception": false,
     "start_time": "2020-10-13T05:38:59.819684",
     "status": "completed"
    },
    "tags": []
   },
   "outputs": [
    {
     "data": {
      "text/plain": [
       "{'updated': '2020-10-13',\n",
       " 'since': '2020-10-12',\n",
       " 'Cases': 7173782,\n",
       " 'PCases': 7173565,\n",
       " 'Deaths': 109895,\n",
       " 'PDeaths': 109894,\n",
       " 'Cases (+)': 217,\n",
       " 'Deaths (+)': 1}"
      ]
     },
     "execution_count": 14,
     "metadata": {},
     "output_type": "execute_result"
    }
   ],
   "source": [
    "#hide\n",
    "summary = {'updated':dates[-1], 'since':dates[-2]}\n",
    "list_names = ['Cases', 'PCases', 'Deaths', 'PDeaths', 'Cases (+)', 'Deaths (+)']\n",
    "for name in list_names:\n",
    "    summary[name] = df_table.sum()[name]\n",
    "summary"
   ]
  },
  {
   "cell_type": "code",
   "execution_count": 15,
   "metadata": {
    "execution": {
     "iopub.execute_input": "2020-10-13T05:38:59.908951Z",
     "iopub.status.busy": "2020-10-13T05:38:59.908190Z",
     "iopub.status.idle": "2020-10-13T05:38:59.912722Z",
     "shell.execute_reply": "2020-10-13T05:38:59.913206Z"
    },
    "papermill": {
     "duration": 0.029588,
     "end_time": "2020-10-13T05:38:59.913402",
     "exception": false,
     "start_time": "2020-10-13T05:38:59.883814",
     "status": "completed"
    },
    "tags": []
   },
   "outputs": [],
   "source": [
    "#hide\n",
    "overview = '''\n",
    "<!-- #######  HTML!! #########-->\n",
    "<h1 style=\"color: #5e9ca0; text-align: center;\">India</h1>\n",
    "<p style=\"text-align: center;\">Last update: <strong>{update}</strong></p>\n",
    "<p style=\"text-align: center;\">Confirmed cases:</p>\n",
    "<p style=\"text-align: center;font-size:24px;\">{cases} (<span style=\"color: #ff0000;\">+{new}</span>)</p>\n",
    "<p style=\"text-align: center;\">Confirmed deaths:</p>\n",
    "<p style=\"text-align: center;font-size:24px;\">{deaths} (<span style=\"color: #ff0000;\">+{dnew}</span>)</p>\n",
    "'''"
   ]
  },
  {
   "cell_type": "code",
   "execution_count": 16,
   "metadata": {
    "execution": {
     "iopub.execute_input": "2020-10-13T05:38:59.959216Z",
     "iopub.status.busy": "2020-10-13T05:38:59.958543Z",
     "iopub.status.idle": "2020-10-13T05:38:59.962263Z",
     "shell.execute_reply": "2020-10-13T05:38:59.961594Z"
    },
    "papermill": {
     "duration": 0.029704,
     "end_time": "2020-10-13T05:38:59.962436",
     "exception": false,
     "start_time": "2020-10-13T05:38:59.932732",
     "status": "completed"
    },
    "tags": []
   },
   "outputs": [
    {
     "data": {
      "text/html": [
       "\n",
       "<!-- #######  HTML!! #########-->\n",
       "<h1 style=\"color: #5e9ca0; text-align: center;\">India</h1>\n",
       "<p style=\"text-align: center;\">Last update: <strong>2020-10-13</strong></p>\n",
       "<p style=\"text-align: center;\">Confirmed cases:</p>\n",
       "<p style=\"text-align: center;font-size:24px;\">7173782 (<span style=\"color: #ff0000;\">+217</span>)</p>\n",
       "<p style=\"text-align: center;\">Confirmed deaths:</p>\n",
       "<p style=\"text-align: center;font-size:24px;\">109895 (<span style=\"color: #ff0000;\">+1</span>)</p>\n"
      ],
      "text/plain": [
       "<IPython.core.display.HTML object>"
      ]
     },
     "metadata": {},
     "output_type": "display_data"
    }
   ],
   "source": [
    "#hide_input\n",
    "update = summary['updated']\n",
    "cases = summary['Cases']\n",
    "new = summary['Cases (+)']\n",
    "deaths = summary['Deaths']\n",
    "dnew = summary['Deaths (+)']\n",
    "\n",
    "html = HTML(overview.format(update=update, cases=cases,new=new,deaths=deaths,dnew=dnew))\n",
    "\n",
    "display(html)"
   ]
  },
  {
   "cell_type": "code",
   "execution_count": 17,
   "metadata": {
    "execution": {
     "iopub.execute_input": "2020-10-13T05:39:00.010547Z",
     "iopub.status.busy": "2020-10-13T05:39:00.009789Z",
     "iopub.status.idle": "2020-10-13T05:39:00.015272Z",
     "shell.execute_reply": "2020-10-13T05:39:00.015769Z"
    },
    "papermill": {
     "duration": 0.033239,
     "end_time": "2020-10-13T05:39:00.015922",
     "exception": false,
     "start_time": "2020-10-13T05:38:59.982683",
     "status": "completed"
    },
    "tags": []
   },
   "outputs": [],
   "source": [
    "#hide\n",
    "dt_cols = list(dft_cases.columns[1:])\n",
    "dft_ct_new_cases = dft_cases.groupby('state')[dt_cols].sum().diff(axis=1).fillna(0).astype(int)\n",
    "dft_ct_new_cases.sort_values(by = dates[-1], ascending = False,inplace = True)"
   ]
  },
  {
   "cell_type": "code",
   "execution_count": 18,
   "metadata": {
    "execution": {
     "iopub.execute_input": "2020-10-13T05:39:00.075072Z",
     "iopub.status.busy": "2020-10-13T05:39:00.074396Z",
     "iopub.status.idle": "2020-10-13T05:39:00.077311Z",
     "shell.execute_reply": "2020-10-13T05:39:00.078029Z"
    },
    "papermill": {
     "duration": 0.043846,
     "end_time": "2020-10-13T05:39:00.078221",
     "exception": false,
     "start_time": "2020-10-13T05:39:00.034375",
     "status": "completed"
    },
    "tags": []
   },
   "outputs": [
    {
     "data": {
      "text/html": [
       "<div>\n",
       "<style scoped>\n",
       "    .dataframe tbody tr th:only-of-type {\n",
       "        vertical-align: middle;\n",
       "    }\n",
       "\n",
       "    .dataframe tbody tr th {\n",
       "        vertical-align: top;\n",
       "    }\n",
       "\n",
       "    .dataframe thead th {\n",
       "        text-align: right;\n",
       "    }\n",
       "</style>\n",
       "<table border=\"1\" class=\"dataframe\">\n",
       "  <thead>\n",
       "    <tr style=\"text-align: right;\">\n",
       "      <th>states</th>\n",
       "      <th>2020-07-01</th>\n",
       "      <th>2020-07-02</th>\n",
       "      <th>2020-07-03</th>\n",
       "      <th>2020-07-04</th>\n",
       "      <th>2020-07-05</th>\n",
       "      <th>2020-07-06</th>\n",
       "      <th>2020-07-07</th>\n",
       "      <th>2020-07-08</th>\n",
       "      <th>2020-07-09</th>\n",
       "      <th>2020-07-10</th>\n",
       "      <th>...</th>\n",
       "      <th>2020-10-04</th>\n",
       "      <th>2020-10-05</th>\n",
       "      <th>2020-10-06</th>\n",
       "      <th>2020-10-07</th>\n",
       "      <th>2020-10-08</th>\n",
       "      <th>2020-10-09</th>\n",
       "      <th>2020-10-10</th>\n",
       "      <th>2020-10-11</th>\n",
       "      <th>2020-10-12</th>\n",
       "      <th>2020-10-13</th>\n",
       "    </tr>\n",
       "    <tr>\n",
       "      <th>state</th>\n",
       "      <th></th>\n",
       "      <th></th>\n",
       "      <th></th>\n",
       "      <th></th>\n",
       "      <th></th>\n",
       "      <th></th>\n",
       "      <th></th>\n",
       "      <th></th>\n",
       "      <th></th>\n",
       "      <th></th>\n",
       "      <th></th>\n",
       "      <th></th>\n",
       "      <th></th>\n",
       "      <th></th>\n",
       "      <th></th>\n",
       "      <th></th>\n",
       "      <th></th>\n",
       "      <th></th>\n",
       "      <th></th>\n",
       "      <th></th>\n",
       "      <th></th>\n",
       "    </tr>\n",
       "  </thead>\n",
       "  <tbody>\n",
       "    <tr>\n",
       "      <th>Tripura</th>\n",
       "      <td>0</td>\n",
       "      <td>39</td>\n",
       "      <td>93</td>\n",
       "      <td>25</td>\n",
       "      <td>23</td>\n",
       "      <td>111</td>\n",
       "      <td>24</td>\n",
       "      <td>57</td>\n",
       "      <td>16</td>\n",
       "      <td>142</td>\n",
       "      <td>...</td>\n",
       "      <td>322</td>\n",
       "      <td>159</td>\n",
       "      <td>275</td>\n",
       "      <td>237</td>\n",
       "      <td>214</td>\n",
       "      <td>223</td>\n",
       "      <td>171</td>\n",
       "      <td>199</td>\n",
       "      <td>109</td>\n",
       "      <td>217</td>\n",
       "    </tr>\n",
       "    <tr>\n",
       "      <th>Andaman and Nicobar Islands</th>\n",
       "      <td>0</td>\n",
       "      <td>9</td>\n",
       "      <td>7</td>\n",
       "      <td>3</td>\n",
       "      <td>6</td>\n",
       "      <td>16</td>\n",
       "      <td>6</td>\n",
       "      <td>2</td>\n",
       "      <td>7</td>\n",
       "      <td>0</td>\n",
       "      <td>...</td>\n",
       "      <td>16</td>\n",
       "      <td>15</td>\n",
       "      <td>13</td>\n",
       "      <td>23</td>\n",
       "      <td>17</td>\n",
       "      <td>24</td>\n",
       "      <td>16</td>\n",
       "      <td>13</td>\n",
       "      <td>18</td>\n",
       "      <td>0</td>\n",
       "    </tr>\n",
       "    <tr>\n",
       "      <th>Puducherry</th>\n",
       "      <td>0</td>\n",
       "      <td>63</td>\n",
       "      <td>22</td>\n",
       "      <td>80</td>\n",
       "      <td>42</td>\n",
       "      <td>65</td>\n",
       "      <td>30</td>\n",
       "      <td>110</td>\n",
       "      <td>49</td>\n",
       "      <td>72</td>\n",
       "      <td>...</td>\n",
       "      <td>337</td>\n",
       "      <td>188</td>\n",
       "      <td>405</td>\n",
       "      <td>479</td>\n",
       "      <td>378</td>\n",
       "      <td>365</td>\n",
       "      <td>337</td>\n",
       "      <td>308</td>\n",
       "      <td>188</td>\n",
       "      <td>0</td>\n",
       "    </tr>\n",
       "    <tr>\n",
       "      <th>Maharashtra</th>\n",
       "      <td>0</td>\n",
       "      <td>6328</td>\n",
       "      <td>6364</td>\n",
       "      <td>7074</td>\n",
       "      <td>6555</td>\n",
       "      <td>5368</td>\n",
       "      <td>5134</td>\n",
       "      <td>6603</td>\n",
       "      <td>6875</td>\n",
       "      <td>7862</td>\n",
       "      <td>...</td>\n",
       "      <td>12548</td>\n",
       "      <td>10244</td>\n",
       "      <td>12258</td>\n",
       "      <td>14578</td>\n",
       "      <td>13395</td>\n",
       "      <td>12134</td>\n",
       "      <td>11416</td>\n",
       "      <td>10792</td>\n",
       "      <td>7089</td>\n",
       "      <td>0</td>\n",
       "    </tr>\n",
       "    <tr>\n",
       "      <th>Manipur</th>\n",
       "      <td>0</td>\n",
       "      <td>19</td>\n",
       "      <td>37</td>\n",
       "      <td>9</td>\n",
       "      <td>41</td>\n",
       "      <td>24</td>\n",
       "      <td>40</td>\n",
       "      <td>5</td>\n",
       "      <td>15</td>\n",
       "      <td>132</td>\n",
       "      <td>...</td>\n",
       "      <td>206</td>\n",
       "      <td>250</td>\n",
       "      <td>135</td>\n",
       "      <td>249</td>\n",
       "      <td>190</td>\n",
       "      <td>131</td>\n",
       "      <td>282</td>\n",
       "      <td>234</td>\n",
       "      <td>230</td>\n",
       "      <td>0</td>\n",
       "    </tr>\n",
       "  </tbody>\n",
       "</table>\n",
       "<p>5 rows × 105 columns</p>\n",
       "</div>"
      ],
      "text/plain": [
       "states                       2020-07-01  2020-07-02  2020-07-03  2020-07-04  \\\n",
       "state                                                                         \n",
       "Tripura                               0          39          93          25   \n",
       "Andaman and Nicobar Islands           0           9           7           3   \n",
       "Puducherry                            0          63          22          80   \n",
       "Maharashtra                           0        6328        6364        7074   \n",
       "Manipur                               0          19          37           9   \n",
       "\n",
       "states                       2020-07-05  2020-07-06  2020-07-07  2020-07-08  \\\n",
       "state                                                                         \n",
       "Tripura                              23         111          24          57   \n",
       "Andaman and Nicobar Islands           6          16           6           2   \n",
       "Puducherry                           42          65          30         110   \n",
       "Maharashtra                        6555        5368        5134        6603   \n",
       "Manipur                              41          24          40           5   \n",
       "\n",
       "states                       2020-07-09  2020-07-10  ...  2020-10-04  \\\n",
       "state                                                ...               \n",
       "Tripura                              16         142  ...         322   \n",
       "Andaman and Nicobar Islands           7           0  ...          16   \n",
       "Puducherry                           49          72  ...         337   \n",
       "Maharashtra                        6875        7862  ...       12548   \n",
       "Manipur                              15         132  ...         206   \n",
       "\n",
       "states                       2020-10-05  2020-10-06  2020-10-07  2020-10-08  \\\n",
       "state                                                                         \n",
       "Tripura                             159         275         237         214   \n",
       "Andaman and Nicobar Islands          15          13          23          17   \n",
       "Puducherry                          188         405         479         378   \n",
       "Maharashtra                       10244       12258       14578       13395   \n",
       "Manipur                             250         135         249         190   \n",
       "\n",
       "states                       2020-10-09  2020-10-10  2020-10-11  2020-10-12  \\\n",
       "state                                                                         \n",
       "Tripura                             223         171         199         109   \n",
       "Andaman and Nicobar Islands          24          16          13          18   \n",
       "Puducherry                          365         337         308         188   \n",
       "Maharashtra                       12134       11416       10792        7089   \n",
       "Manipur                             131         282         234         230   \n",
       "\n",
       "states                       2020-10-13  \n",
       "state                                    \n",
       "Tripura                             217  \n",
       "Andaman and Nicobar Islands           0  \n",
       "Puducherry                            0  \n",
       "Maharashtra                           0  \n",
       "Manipur                               0  \n",
       "\n",
       "[5 rows x 105 columns]"
      ]
     },
     "execution_count": 18,
     "metadata": {},
     "output_type": "execute_result"
    }
   ],
   "source": [
    "#hide\n",
    "dft_ct_new_cases.head()"
   ]
  },
  {
   "cell_type": "code",
   "execution_count": 19,
   "metadata": {
    "execution": {
     "iopub.execute_input": "2020-10-13T05:39:00.132496Z",
     "iopub.status.busy": "2020-10-13T05:39:00.127072Z",
     "iopub.status.idle": "2020-10-13T05:39:05.321520Z",
     "shell.execute_reply": "2020-10-13T05:39:05.320318Z"
    },
    "papermill": {
     "duration": 5.222677,
     "end_time": "2020-10-13T05:39:05.321677",
     "exception": false,
     "start_time": "2020-10-13T05:39:00.099000",
     "status": "completed"
    },
    "tags": []
   },
   "outputs": [
    {
     "data": {
      "image/png": "[encoded data removed]",
      "text/plain": [
       "<Figure size 1296x2016 with 11 Axes>"
      ]
     },
     "metadata": {
      "needs_background": "light"
     },
     "output_type": "display_data"
    }
   ],
   "source": [
    "#hide_input\n",
    "df = dft_ct_new_cases.copy()\n",
    "df.loc['Total'] = df.sum()\n",
    "n = 5\n",
    "ax = []\n",
    "fig = plt.figure(figsize = (18,28))\n",
    "gs = fig.add_gridspec(n+2, 5)\n",
    "# gs = fig.add_gridspec(2, 3)\n",
    "ax1 = fig.add_subplot(gs[0, :])\n",
    "ef = df.loc['Total'].rename_axis('date').reset_index()\n",
    "ef['date'] = ef['date'].astype('datetime64[ns]')\n",
    "ax1.bar(ef.date,ef.Total,alpha=0.3,color='#007acc')\n",
    "ax1.plot(ef.date,ef.Total , marker=\"o\", color='#007acc')\n",
    "ax1.xaxis.set_major_locator(mdates.WeekdayLocator())\n",
    "ax1.xaxis.set_major_formatter(mdates.DateFormatter('%b %d'))\n",
    "ax1.text(0.02, 0.5,'India daily case count', transform = ax1.transAxes, fontsize=25);\n",
    "ax1.spines['right'].set_visible(False)\n",
    "ax1.spines['top'].set_visible(False)\n",
    "\n",
    "ax2 = fig.add_subplot(gs[1,0])\n",
    "ef = df.loc['Maharashtra'].rename_axis('date').reset_index()\n",
    "ef['date'] = ef['date'].astype('datetime64[ns]')\n",
    "\n",
    "ax2.bar(ef.date, ef.Maharashtra,color = '#007acc',alpha=0.5)\n",
    "ax2.xaxis.set_major_locator(mdates.WeekdayLocator())\n",
    "ax2.xaxis.set_major_formatter(mdates.DateFormatter('%b %d'))\n",
    "ax2.set_xticks(ax2.get_xticks()[::3])\n",
    "maxyval = ef.Maharashtra.max()\n",
    "ax2.set_ylim([0,maxyval])\n",
    "ax2.text(0.05, 0.9,'Maharashtra', transform = ax2.transAxes, fontsize=20);\n",
    "ax2.spines['right'].set_visible(False)\n",
    "ax2.spines['top'].set_visible(False)\n",
    "\n",
    "\n",
    "ax3 = fig.add_subplot(gs[1,1])\n",
    "ef = df.loc['Tamil Nadu'].rename_axis('date').reset_index()\n",
    "ef['date'] = ef['date'].astype('datetime64[ns]')\n",
    "ax3.bar(ef.date, ef['Tamil Nadu'],color = '#007acc',alpha=0.5,)\n",
    "ax3.xaxis.set_major_locator(mdates.WeekdayLocator())\n",
    "ax3.xaxis.set_major_formatter(mdates.DateFormatter('%b %d'))\n",
    "ax3.set_xticks(ax3.get_xticks()[::3])\n",
    "ax3.text(0.05, 0.9,'Tamil Nadu', transform = ax3.transAxes, fontsize=20);\n",
    "ax3.spines['right'].set_visible(False)\n",
    "ax3.spines['top'].set_visible(False)\n",
    "\n",
    "ax5 = fig.add_subplot(gs[1,3])\n",
    "ef = df.loc['Telangana'].rename_axis('date').reset_index()\n",
    "ef['date'] = ef['date'].astype('datetime64[ns]')\n",
    "ax5.bar(ef.date, ef['Telangana'],color = '#007acc',alpha=0.5,)\n",
    "ax5.xaxis.set_major_locator(mdates.WeekdayLocator())\n",
    "ax5.xaxis.set_major_formatter(mdates.DateFormatter('%b %d'))\n",
    "ax5.set_xticks(ax5.get_xticks()[::3])\n",
    "ax5.text(0.05, 0.9,'Telangana', transform = ax5.transAxes, fontsize=20);\n",
    "ax5.spines['right'].set_visible(False)\n",
    "ax5.spines['top'].set_visible(False)\n",
    "\n",
    "ax6 = fig.add_subplot(gs[1,4])\n",
    "ef = df.loc['Andhra Pradesh'].rename_axis('date').reset_index()\n",
    "ef['date'] = ef['date'].astype('datetime64[ns]')\n",
    "ax6.bar(ef.date, ef['Andhra Pradesh'],color = '#007acc',alpha=0.5,)\n",
    "ax6.xaxis.set_major_locator(mdates.WeekdayLocator())\n",
    "ax6.xaxis.set_major_formatter(mdates.DateFormatter('%b %d'))\n",
    "ax6.set_xticks(ax6.get_xticks()[::3])\n",
    "ax6.text(0.05, 1,'Andhra Pradesh', transform = ax6.transAxes, fontsize=20);\n",
    "ax6.spines['right'].set_visible(False)\n",
    "ax6.spines['top'].set_visible(False)\n",
    "\n",
    "ax4 = fig.add_subplot(gs[1,2])\n",
    "ef = df.loc['Delhi'].rename_axis('date').reset_index()\n",
    "ef['date'] = ef['date'].astype('datetime64[ns]')\n",
    "ax4.bar(ef.date, ef.Delhi,color = '#007acc',alpha=0.5)\n",
    "ax4.set_xticks([])\n",
    "ax4.xaxis.set_major_locator(mdates.WeekdayLocator())\n",
    "ax4.xaxis.set_major_formatter(mdates.DateFormatter('%b %d'))\n",
    "ax4.set_xticks(ax4.get_xticks()[::3])\n",
    "ax4.spines['right'].set_visible(False)\n",
    "ax4.spines['top'].set_visible(False)\n",
    "\n",
    "ax4.text(0.05, 1,'Delhi', transform = ax4.transAxes, fontsize=20)\n",
    "\n",
    "for i in range(n):\n",
    "    \n",
    "    ax.append(fig.add_subplot(gs[i+2,:]))\n",
    "    ef = df.iloc[i+3].rename_axis('date').reset_index()\n",
    "    ef['date'] = ef['date'].astype('datetime64[ns]')\n",
    "    ax[i].bar(ef.date,ef.iloc[:,-1],color = '#007acc',alpha=0.3)\n",
    "    ax[i].plot(ef.date,ef.iloc[:,-1],marker='o',color='#007acc')\n",
    "    ax[i].text(0.02,0.5,f'{ef.columns.values[-1]}',transform = ax[i].transAxes, fontsize = 20);\n",
    "    ax[i].xaxis.set_major_locator(mdates.WeekdayLocator())\n",
    "    ax[i].xaxis.set_major_formatter(mdates.DateFormatter('%b %d'))\n",
    "    ax[i].set_ylim([0,7000])\n",
    "    ax[i].spines['right'].set_visible(False)\n",
    "    ax[i].spines['top'].set_visible(False)\n",
    "plt.tight_layout()\n"
   ]
  },
  {
   "cell_type": "code",
   "execution_count": 20,
   "metadata": {
    "execution": {
     "iopub.execute_input": "2020-10-13T05:39:05.382098Z",
     "iopub.status.busy": "2020-10-13T05:39:05.381434Z",
     "iopub.status.idle": "2020-10-13T05:39:05.383677Z",
     "shell.execute_reply": "2020-10-13T05:39:05.384163Z"
    },
    "papermill": {
     "duration": 0.035444,
     "end_time": "2020-10-13T05:39:05.384293",
     "exception": false,
     "start_time": "2020-10-13T05:39:05.348849",
     "status": "completed"
    },
    "tags": []
   },
   "outputs": [
    {
     "name": "stdout",
     "output_type": "stream",
     "text": [
      "                                   states    Cases  Deaths   PCases  PDeaths  Cases (+)  Deaths (+)  Fatality Rate\n",
      "                              Maharashtra  1535315   40514  1535315    40514          0           0           2.64\n",
      "                           Andhra Pradesh   758951    6256   758951     6256          0           0           0.82\n",
      "                                Karnataka   717915   10036   717915    10036          0           0           1.40\n",
      "                               Tamil Nadu   661264   10314   661264    10314          0           0           1.56\n",
      "                            Uttar Pradesh   439161    6438   439161     6438          0           0           1.47\n",
      "                                    Delhi   311188    5809   311188     5809          0           0           1.87\n",
      "                              West Bengal   298389    5682   298389     5682          0           0           1.90\n",
      "                                   Kerala   295133    1026   295133     1026          0           0           0.35\n",
      "                                   Odisha   254662    1093   254662     1093          0           0           0.43\n",
      "                                Telangana   213084    1228   213084     1228          0           0           0.58\n",
      "                                    Bihar   197000     955   197000      955          0           0           0.48\n",
      "                                    Assam   195304     826   195304      826          0           0           0.42\n",
      "                                Rajasthan   161184    1665   161184     1665          0           0           1.03\n",
      "                                  Gujarat   152764    3577   152764     3577          0           0           2.34\n",
      "                           Madhya Pradesh   148298    2645   148298     2645          0           0           1.78\n",
      "                             Chhattisgarh   145247    1286   145247     1286          0           0           0.89\n",
      "                                  Haryana   143221    1592   143221     1592          0           0           1.11\n",
      "                                   Punjab   124535    3860   124535     3860          0           0           3.10\n",
      "                                Jharkhand    93035     798    93035      798          0           0           0.86\n",
      "                        Jammu and Kashmir    84031    1333    84031     1333          0           0           1.59\n",
      "                              Uttarakhand    55347     762    55347      762          0           0           1.38\n",
      "                                      Goa    38674     511    38674      511          0           0           1.32\n",
      "                               Puducherry    31737     565    31737      565          0           0           1.78\n",
      "                                  Tripura    28675     314    28458      313        217           1           1.10\n",
      "                         Himachal Pradesh    17578     246    17578      246          0           0           1.40\n",
      "                                  Manipur    13556      93    13556       93          0           0           0.69\n",
      "                               Chandigarh    13264     192    13264      192          0           0           1.45\n",
      "                        Arunachal Pradesh    12367      24    12367       24          0           0           0.19\n",
      "                                Meghalaya     7771      64     7771       64          0           0           0.82\n",
      "                                 Nagaland     7240      13     7240       13          0           0           0.18\n",
      "                                   Ladakh     5151      64     5151       64          0           0           1.24\n",
      "              Andaman and Nicobar Islands     4023      55     4023       55          0           0           1.37\n",
      "                                   Sikkim     3367      57     3367       57          0           0           1.69\n",
      " Dadra and Nagar Haveli and Daman and Diu     3167       2     3167        2          0           0           0.06\n",
      "                                  Mizoram     2184       0     2184        0          0           0           0.00\n",
      "                              Lakshadweep        0       0        0        0          0           0            NaN\n"
     ]
    }
   ],
   "source": [
    "#hide_input\n",
    "print(df_table.to_string(index=False))"
   ]
  },
  {
   "cell_type": "code",
   "execution_count": null,
   "metadata": {
    "papermill": {
     "duration": 0.025075,
     "end_time": "2020-10-13T05:39:05.433133",
     "exception": false,
     "start_time": "2020-10-13T05:39:05.408058",
     "status": "completed"
    },
    "tags": []
   },
   "outputs": [],
   "source": []
  },
  {
   "cell_type": "code",
   "execution_count": null,
   "metadata": {
    "papermill": {
     "duration": 0.024757,
     "end_time": "2020-10-13T05:39:05.482376",
     "exception": false,
     "start_time": "2020-10-13T05:39:05.457619",
     "status": "completed"
    },
    "tags": []
   },
   "outputs": [],
   "source": []
  }
 ],
 "metadata": {
  "kernelspec": {
   "display_name": "Python 3",
   "language": "python",
   "name": "python3"
  },
  "language_info": {
   "codemirror_mode": {
    "name": "ipython",
    "version": 3
   },
   "file_extension": ".py",
   "mimetype": "text/x-python",
   "name": "python",
   "nbconvert_exporter": "python",
   "pygments_lexer": "ipython3",
   "version": "3.6.12"
  },
  "papermill": {
   "duration": 12.954315,
   "end_time": "2020-10-13T05:39:05.915094",
   "environment_variables": {},
   "exception": null,
   "input_path": "latest.ipynb",
   "output_path": "latest.ipynb",
   "parameters": {},
   "start_time": "2020-10-13T05:38:52.960779",
   "version": "2.1.2"
  }
 },
 "nbformat": 4,
 "nbformat_minor": 4
}