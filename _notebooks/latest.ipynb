{
 "cells": [
  {
   "cell_type": "markdown",
   "metadata": {
    "papermill": {
     "duration": 0.018957,
     "end_time": "2020-08-26T10:51:47.212589",
     "exception": false,
     "start_time": "2020-08-26T10:51:47.193632",
     "status": "completed"
    },
    "tags": []
   },
   "source": [
    "# Latest COVID-19 India Matplotlib Overview"
   ]
  },
  {
   "cell_type": "code",
   "execution_count": 1,
   "metadata": {
    "execution": {
     "iopub.execute_input": "2020-08-26T10:51:47.250132Z",
     "iopub.status.busy": "2020-08-26T10:51:47.249558Z",
     "iopub.status.idle": "2020-08-26T10:51:47.807391Z",
     "shell.execute_reply": "2020-08-26T10:51:47.806403Z"
    },
    "papermill": {
     "duration": 0.579513,
     "end_time": "2020-08-26T10:51:47.807556",
     "exception": false,
     "start_time": "2020-08-26T10:51:47.228043",
     "status": "completed"
    },
    "tags": []
   },
   "outputs": [],
   "source": [
    "#hide\n",
    "import pandas as pd\n",
    "import numpy as np\n",
    "import requests\n",
    "import json\n",
    "import matplotlib.pyplot as plt\n",
    "import matplotlib.dates as mdates\n",
    "import matplotlib as mpl\n",
    "from IPython.core.display import display,HTML\n",
    "%matplotlib inline\n",
    "from datetime import date"
   ]
  },
  {
   "cell_type": "code",
   "execution_count": 2,
   "metadata": {
    "execution": {
     "iopub.execute_input": "2020-08-26T10:51:47.845433Z",
     "iopub.status.busy": "2020-08-26T10:51:47.844348Z",
     "iopub.status.idle": "2020-08-26T10:51:48.136909Z",
     "shell.execute_reply": "2020-08-26T10:51:48.137388Z"
    },
    "papermill": {
     "duration": 0.31454,
     "end_time": "2020-08-26T10:51:48.137557",
     "exception": false,
     "start_time": "2020-08-26T10:51:47.823017",
     "status": "completed"
    },
    "tags": []
   },
   "outputs": [],
   "source": [
    "#hide\n",
    "df  = pd.read_csv('https://api.covid19india.org/csv/latest/states.csv')\n",
    "df = df[['Date','State','Confirmed','Deceased']]\n",
    "df = df.rename(columns={'Confirmed':'Cases', \"Deceased\":'Deaths'})\n",
    "df_cases = df[[\"Date\",'State','Cases']]\n",
    "df_deaths = df[['Date','State','Deaths']]\n",
    "df_cases1 = df_cases.groupby('Date')\n",
    "df_deaths1= df_deaths.groupby('Date')"
   ]
  },
  {
   "cell_type": "code",
   "execution_count": 3,
   "metadata": {
    "execution": {
     "iopub.execute_input": "2020-08-26T10:51:48.183937Z",
     "iopub.status.busy": "2020-08-26T10:51:48.183338Z",
     "iopub.status.idle": "2020-08-26T10:51:48.199762Z",
     "shell.execute_reply": "2020-08-26T10:51:48.199327Z"
    },
    "papermill": {
     "duration": 0.039434,
     "end_time": "2020-08-26T10:51:48.199882",
     "exception": false,
     "start_time": "2020-08-26T10:51:48.160448",
     "status": "completed"
    },
    "tags": []
   },
   "outputs": [],
   "source": [
    "#hide\n",
    "df_snap = pd.read_csv('data/SnapshotCases-28-July.csv')\n",
    "arr_states = df_snap['states'].unique()\n",
    "arr_dates = df['Date'].unique()\n",
    "df_snap = df_snap.set_index('states')"
   ]
  },
  {
   "cell_type": "code",
   "execution_count": 4,
   "metadata": {
    "execution": {
     "iopub.execute_input": "2020-08-26T10:51:48.235507Z",
     "iopub.status.busy": "2020-08-26T10:51:48.234969Z",
     "iopub.status.idle": "2020-08-26T10:51:48.239529Z",
     "shell.execute_reply": "2020-08-26T10:51:48.239076Z"
    },
    "papermill": {
     "duration": 0.025329,
     "end_time": "2020-08-26T10:51:48.239637",
     "exception": false,
     "start_time": "2020-08-26T10:51:48.214308",
     "status": "completed"
    },
    "tags": []
   },
   "outputs": [
    {
     "data": {
      "text/plain": [
       "array(['Andaman and Nicobar Islands', 'Andhra Pradesh',\n",
       "       'Arunachal Pradesh', 'Assam', 'Bihar', 'Chandigarh',\n",
       "       'Dadra and Nagar Haveli and Daman and Diu', 'Delhi', 'Goa',\n",
       "       'Gujarat', 'Haryana', 'Himachal Pradesh', 'Jammu and Kashmir',\n",
       "       'Jharkhand', 'Karnataka', 'Kerala', 'Lakshadweep',\n",
       "       'Madhya Pradesh', 'Maharashtra', 'Manipur', 'Meghalaya', 'Mizoram',\n",
       "       'Nagaland', 'Odisha', 'Puducherry', 'Punjab', 'Rajasthan',\n",
       "       'Sikkim', 'Tamil Nadu', 'Telangana', 'Tripura', 'Uttar Pradesh',\n",
       "       'West Bengal', 'Chhattisgarh', 'Ladakh', 'Uttarakhand'],\n",
       "      dtype=object)"
      ]
     },
     "execution_count": 4,
     "metadata": {},
     "output_type": "execute_result"
    }
   ],
   "source": [
    "#hide\n",
    "arr_states[-9] = 'Puducherry'\n",
    "arr_states[-10] = 'Odisha'\n",
    "arr_states[6] = 'Dadra and Nagar Haveli and Daman and Diu'\n",
    "arr_states = np.append(arr_states,np.array(['Chhattisgarh','Ladakh','Uttarakhand']))\n",
    "arr_states"
   ]
  },
  {
   "cell_type": "code",
   "execution_count": 5,
   "metadata": {
    "execution": {
     "iopub.execute_input": "2020-08-26T10:51:48.278651Z",
     "iopub.status.busy": "2020-08-26T10:51:48.278059Z",
     "iopub.status.idle": "2020-08-26T10:51:48.285158Z",
     "shell.execute_reply": "2020-08-26T10:51:48.284654Z"
    },
    "papermill": {
     "duration": 0.030622,
     "end_time": "2020-08-26T10:51:48.285280",
     "exception": false,
     "start_time": "2020-08-26T10:51:48.254658",
     "status": "completed"
    },
    "tags": []
   },
   "outputs": [],
   "source": [
    "#hide\n",
    "dates = []\n",
    "for i in arr_dates:\n",
    "    if i>='2020-07-01':\n",
    "        dates.append(i)\n",
    "dict = {'states':dates}\n",
    "for i in arr_states:\n",
    "    dict[i] = [0]*len(dates)\n",
    "dft_cases = pd.DataFrame(dict)\n",
    "dft_deaths = pd.DataFrame(dict)\n"
   ]
  },
  {
   "cell_type": "code",
   "execution_count": 6,
   "metadata": {
    "execution": {
     "iopub.execute_input": "2020-08-26T10:51:48.319988Z",
     "iopub.status.busy": "2020-08-26T10:51:48.319457Z",
     "iopub.status.idle": "2020-08-26T10:51:49.069341Z",
     "shell.execute_reply": "2020-08-26T10:51:49.069891Z"
    },
    "papermill": {
     "duration": 0.770645,
     "end_time": "2020-08-26T10:51:49.070085",
     "exception": false,
     "start_time": "2020-08-26T10:51:48.299440",
     "status": "completed"
    },
    "tags": []
   },
   "outputs": [],
   "source": [
    "#hide\n",
    "for i in range(len(dates)):\n",
    "    df1_deaths = df_deaths1.get_group(dates[i])\n",
    "    for j in range(len(df1_deaths.index)):\n",
    "        if df1_deaths.iloc[j,1] in arr_states:\n",
    "            dft_deaths.loc[i,df1_deaths.iloc[j,1]] = df1_deaths.iloc[j,2]\n",
    "dft_deaths = dft_deaths.set_index('states')"
   ]
  },
  {
   "cell_type": "code",
   "execution_count": 7,
   "metadata": {
    "execution": {
     "iopub.execute_input": "2020-08-26T10:51:49.106255Z",
     "iopub.status.busy": "2020-08-26T10:51:49.105680Z",
     "iopub.status.idle": "2020-08-26T10:51:49.868392Z",
     "shell.execute_reply": "2020-08-26T10:51:49.867799Z"
    },
    "papermill": {
     "duration": 0.783112,
     "end_time": "2020-08-26T10:51:49.868555",
     "exception": false,
     "start_time": "2020-08-26T10:51:49.085443",
     "status": "completed"
    },
    "tags": []
   },
   "outputs": [],
   "source": [
    "#hide\n",
    "for i in range(len(dates)):\n",
    "    df1_cases = df_cases1.get_group(dates[i])\n",
    "    for j in range(len(df1_cases.index)):\n",
    "        if df1_cases.iloc[j,1] in arr_states:\n",
    "            dft_cases.loc[i,df1_cases.iloc[j,1]] = df1_cases.iloc[j,2]\n",
    "dft_cases = dft_cases.set_index('states')"
   ]
  },
  {
   "cell_type": "code",
   "execution_count": 8,
   "metadata": {
    "execution": {
     "iopub.execute_input": "2020-08-26T10:51:49.906161Z",
     "iopub.status.busy": "2020-08-26T10:51:49.905403Z",
     "iopub.status.idle": "2020-08-26T10:51:49.907519Z",
     "shell.execute_reply": "2020-08-26T10:51:49.908180Z"
    },
    "papermill": {
     "duration": 0.023628,
     "end_time": "2020-08-26T10:51:49.908338",
     "exception": false,
     "start_time": "2020-08-26T10:51:49.884710",
     "status": "completed"
    },
    "tags": []
   },
   "outputs": [],
   "source": [
    "#hide\n",
    "dft_cases = dft_cases.T\n",
    "dft_deaths = dft_deaths.T\n",
    "dt_today = dates[-1]\n",
    "dt_yday = dates[-2]"
   ]
  },
  {
   "cell_type": "code",
   "execution_count": 9,
   "metadata": {
    "execution": {
     "iopub.execute_input": "2020-08-26T10:51:49.945037Z",
     "iopub.status.busy": "2020-08-26T10:51:49.944439Z",
     "iopub.status.idle": "2020-08-26T10:51:49.946306Z",
     "shell.execute_reply": "2020-08-26T10:51:49.946750Z"
    },
    "papermill": {
     "duration": 0.023348,
     "end_time": "2020-08-26T10:51:49.946872",
     "exception": false,
     "start_time": "2020-08-26T10:51:49.923524",
     "status": "completed"
    },
    "tags": []
   },
   "outputs": [],
   "source": [
    "#hide\n",
    "dft_cases = dft_cases.reset_index()\n",
    "dft_deaths = dft_deaths.reset_index()\n",
    "dft_cases = dft_cases.rename(columns = {'index':'state'})\n",
    "dft_deaths = dft_deaths.rename(columns = {'index':'state'})"
   ]
  },
  {
   "cell_type": "code",
   "execution_count": 10,
   "metadata": {
    "execution": {
     "iopub.execute_input": "2020-08-26T10:51:49.985983Z",
     "iopub.status.busy": "2020-08-26T10:51:49.985445Z",
     "iopub.status.idle": "2020-08-26T10:51:49.987630Z",
     "shell.execute_reply": "2020-08-26T10:51:49.987146Z"
    },
    "papermill": {
     "duration": 0.026615,
     "end_time": "2020-08-26T10:51:49.987739",
     "exception": false,
     "start_time": "2020-08-26T10:51:49.961124",
     "status": "completed"
    },
    "tags": []
   },
   "outputs": [],
   "source": [
    "#hide\n",
    "dfc_cases = dft_cases.groupby('state')[dt_today].sum()\n",
    "dfc_deaths = dft_deaths.groupby('state')[dt_today].sum()\n",
    "dfp_cases = dft_cases.groupby('state')[dt_yday].sum()\n",
    "dfp_deaths = dft_deaths.groupby('state')[dt_yday].sum()"
   ]
  },
  {
   "cell_type": "code",
   "execution_count": 11,
   "metadata": {
    "execution": {
     "iopub.execute_input": "2020-08-26T10:51:50.023083Z",
     "iopub.status.busy": "2020-08-26T10:51:50.022556Z",
     "iopub.status.idle": "2020-08-26T10:51:50.035287Z",
     "shell.execute_reply": "2020-08-26T10:51:50.035742Z"
    },
    "papermill": {
     "duration": 0.033423,
     "end_time": "2020-08-26T10:51:50.035863",
     "exception": false,
     "start_time": "2020-08-26T10:51:50.002440",
     "status": "completed"
    },
    "tags": []
   },
   "outputs": [
    {
     "data": {
      "text/html": [
       "<div>\n",
       "<style scoped>\n",
       "    .dataframe tbody tr th:only-of-type {\n",
       "        vertical-align: middle;\n",
       "    }\n",
       "\n",
       "    .dataframe tbody tr th {\n",
       "        vertical-align: top;\n",
       "    }\n",
       "\n",
       "    .dataframe thead th {\n",
       "        text-align: right;\n",
       "    }\n",
       "</style>\n",
       "<table border=\"1\" class=\"dataframe\">\n",
       "  <thead>\n",
       "    <tr style=\"text-align: right;\">\n",
       "      <th></th>\n",
       "      <th>states</th>\n",
       "      <th>Cases</th>\n",
       "      <th>Deaths</th>\n",
       "      <th>PCases</th>\n",
       "      <th>PDeaths</th>\n",
       "    </tr>\n",
       "  </thead>\n",
       "  <tbody>\n",
       "    <tr>\n",
       "      <th>0</th>\n",
       "      <td>Maharashtra</td>\n",
       "      <td>703823</td>\n",
       "      <td>22794</td>\n",
       "      <td>703823</td>\n",
       "      <td>22794</td>\n",
       "    </tr>\n",
       "    <tr>\n",
       "      <th>1</th>\n",
       "      <td>Tamil Nadu</td>\n",
       "      <td>391303</td>\n",
       "      <td>6721</td>\n",
       "      <td>391303</td>\n",
       "      <td>6721</td>\n",
       "    </tr>\n",
       "    <tr>\n",
       "      <th>2</th>\n",
       "      <td>Andhra Pradesh</td>\n",
       "      <td>371639</td>\n",
       "      <td>3460</td>\n",
       "      <td>371639</td>\n",
       "      <td>3460</td>\n",
       "    </tr>\n",
       "    <tr>\n",
       "      <th>3</th>\n",
       "      <td>Karnataka</td>\n",
       "      <td>291826</td>\n",
       "      <td>4958</td>\n",
       "      <td>291826</td>\n",
       "      <td>4958</td>\n",
       "    </tr>\n",
       "    <tr>\n",
       "      <th>4</th>\n",
       "      <td>Uttar Pradesh</td>\n",
       "      <td>197388</td>\n",
       "      <td>3059</td>\n",
       "      <td>197388</td>\n",
       "      <td>3059</td>\n",
       "    </tr>\n",
       "  </tbody>\n",
       "</table>\n",
       "</div>"
      ],
      "text/plain": [
       "           states   Cases  Deaths  PCases  PDeaths\n",
       "0     Maharashtra  703823   22794  703823    22794\n",
       "1      Tamil Nadu  391303    6721  391303     6721\n",
       "2  Andhra Pradesh  371639    3460  371639     3460\n",
       "3       Karnataka  291826    4958  291826     4958\n",
       "4   Uttar Pradesh  197388    3059  197388     3059"
      ]
     },
     "execution_count": 11,
     "metadata": {},
     "output_type": "execute_result"
    }
   ],
   "source": [
    "#hide\n",
    "df_table = pd.DataFrame({'states': dfc_cases.index, 'Cases': dfc_cases.values, 'Deaths': dfc_deaths.values, 'PCases': dfp_cases.values, 'PDeaths': dfp_deaths.values}).set_index('states')\n",
    "df_table = df_table.sort_values(by = ['Cases','Deaths'], ascending = [False, False])\n",
    "df_table = df_table.reset_index()\n",
    "df_table.head()"
   ]
  },
  {
   "cell_type": "code",
   "execution_count": 12,
   "metadata": {
    "execution": {
     "iopub.execute_input": "2020-08-26T10:51:50.069649Z",
     "iopub.status.busy": "2020-08-26T10:51:50.069090Z",
     "iopub.status.idle": "2020-08-26T10:51:50.077365Z",
     "shell.execute_reply": "2020-08-26T10:51:50.077820Z"
    },
    "papermill": {
     "duration": 0.027825,
     "end_time": "2020-08-26T10:51:50.077940",
     "exception": false,
     "start_time": "2020-08-26T10:51:50.050115",
     "status": "completed"
    },
    "tags": []
   },
   "outputs": [],
   "source": [
    "#hide\n",
    "for c in 'Cases, Deaths'.split(', '):\n",
    "    df_table[f'{c} (+)'] = (df_table[c] - df_table[f'P{c}']).clip(0)\n",
    "df_table['Fatality Rate'] = (100* df_table['Deaths']/ df_table['Cases']).round(2)"
   ]
  },
  {
   "cell_type": "code",
   "execution_count": 13,
   "metadata": {
    "execution": {
     "iopub.execute_input": "2020-08-26T10:51:50.118008Z",
     "iopub.status.busy": "2020-08-26T10:51:50.117481Z",
     "iopub.status.idle": "2020-08-26T10:51:50.120276Z",
     "shell.execute_reply": "2020-08-26T10:51:50.119829Z"
    },
    "papermill": {
     "duration": 0.02754,
     "end_time": "2020-08-26T10:51:50.120383",
     "exception": false,
     "start_time": "2020-08-26T10:51:50.092843",
     "status": "completed"
    },
    "tags": []
   },
   "outputs": [
    {
     "data": {
      "text/html": [
       "<div>\n",
       "<style scoped>\n",
       "    .dataframe tbody tr th:only-of-type {\n",
       "        vertical-align: middle;\n",
       "    }\n",
       "\n",
       "    .dataframe tbody tr th {\n",
       "        vertical-align: top;\n",
       "    }\n",
       "\n",
       "    .dataframe thead th {\n",
       "        text-align: right;\n",
       "    }\n",
       "</style>\n",
       "<table border=\"1\" class=\"dataframe\">\n",
       "  <thead>\n",
       "    <tr style=\"text-align: right;\">\n",
       "      <th></th>\n",
       "      <th>states</th>\n",
       "      <th>Cases</th>\n",
       "      <th>Deaths</th>\n",
       "      <th>PCases</th>\n",
       "      <th>PDeaths</th>\n",
       "      <th>Cases (+)</th>\n",
       "      <th>Deaths (+)</th>\n",
       "      <th>Fatality Rate</th>\n",
       "    </tr>\n",
       "  </thead>\n",
       "  <tbody>\n",
       "    <tr>\n",
       "      <th>0</th>\n",
       "      <td>Maharashtra</td>\n",
       "      <td>703823</td>\n",
       "      <td>22794</td>\n",
       "      <td>703823</td>\n",
       "      <td>22794</td>\n",
       "      <td>0</td>\n",
       "      <td>0</td>\n",
       "      <td>3.24</td>\n",
       "    </tr>\n",
       "    <tr>\n",
       "      <th>1</th>\n",
       "      <td>Tamil Nadu</td>\n",
       "      <td>391303</td>\n",
       "      <td>6721</td>\n",
       "      <td>391303</td>\n",
       "      <td>6721</td>\n",
       "      <td>0</td>\n",
       "      <td>0</td>\n",
       "      <td>1.72</td>\n",
       "    </tr>\n",
       "    <tr>\n",
       "      <th>2</th>\n",
       "      <td>Andhra Pradesh</td>\n",
       "      <td>371639</td>\n",
       "      <td>3460</td>\n",
       "      <td>371639</td>\n",
       "      <td>3460</td>\n",
       "      <td>0</td>\n",
       "      <td>0</td>\n",
       "      <td>0.93</td>\n",
       "    </tr>\n",
       "    <tr>\n",
       "      <th>3</th>\n",
       "      <td>Karnataka</td>\n",
       "      <td>291826</td>\n",
       "      <td>4958</td>\n",
       "      <td>291826</td>\n",
       "      <td>4958</td>\n",
       "      <td>0</td>\n",
       "      <td>0</td>\n",
       "      <td>1.70</td>\n",
       "    </tr>\n",
       "    <tr>\n",
       "      <th>4</th>\n",
       "      <td>Uttar Pradesh</td>\n",
       "      <td>197388</td>\n",
       "      <td>3059</td>\n",
       "      <td>197388</td>\n",
       "      <td>3059</td>\n",
       "      <td>0</td>\n",
       "      <td>0</td>\n",
       "      <td>1.55</td>\n",
       "    </tr>\n",
       "  </tbody>\n",
       "</table>\n",
       "</div>"
      ],
      "text/plain": [
       "           states   Cases  Deaths  PCases  PDeaths  Cases (+)  Deaths (+)  \\\n",
       "0     Maharashtra  703823   22794  703823    22794          0           0   \n",
       "1      Tamil Nadu  391303    6721  391303     6721          0           0   \n",
       "2  Andhra Pradesh  371639    3460  371639     3460          0           0   \n",
       "3       Karnataka  291826    4958  291826     4958          0           0   \n",
       "4   Uttar Pradesh  197388    3059  197388     3059          0           0   \n",
       "\n",
       "   Fatality Rate  \n",
       "0           3.24  \n",
       "1           1.72  \n",
       "2           0.93  \n",
       "3           1.70  \n",
       "4           1.55  "
      ]
     },
     "execution_count": 13,
     "metadata": {},
     "output_type": "execute_result"
    }
   ],
   "source": [
    "#hide\n",
    "df_table.head()"
   ]
  },
  {
   "cell_type": "code",
   "execution_count": 14,
   "metadata": {
    "execution": {
     "iopub.execute_input": "2020-08-26T10:51:50.171484Z",
     "iopub.status.busy": "2020-08-26T10:51:50.170931Z",
     "iopub.status.idle": "2020-08-26T10:51:50.173741Z",
     "shell.execute_reply": "2020-08-26T10:51:50.173186Z"
    },
    "papermill": {
     "duration": 0.037675,
     "end_time": "2020-08-26T10:51:50.173857",
     "exception": false,
     "start_time": "2020-08-26T10:51:50.136182",
     "status": "completed"
    },
    "tags": []
   },
   "outputs": [
    {
     "data": {
      "text/plain": [
       "{'updated': '2020-08-26',\n",
       " 'since': '2020-08-25',\n",
       " 'Cases': 3239100,\n",
       " 'PCases': 3231754,\n",
       " 'Deaths': 59645,\n",
       " 'PDeaths': 59612,\n",
       " 'Cases (+)': 7346,\n",
       " 'Deaths (+)': 33}"
      ]
     },
     "execution_count": 14,
     "metadata": {},
     "output_type": "execute_result"
    }
   ],
   "source": [
    "#hide\n",
    "summary = {'updated':dates[-1], 'since':dates[-2]}\n",
    "list_names = ['Cases', 'PCases', 'Deaths', 'PDeaths', 'Cases (+)', 'Deaths (+)']\n",
    "for name in list_names:\n",
    "    summary[name] = df_table.sum()[name]\n",
    "summary"
   ]
  },
  {
   "cell_type": "code",
   "execution_count": 15,
   "metadata": {
    "execution": {
     "iopub.execute_input": "2020-08-26T10:51:50.208332Z",
     "iopub.status.busy": "2020-08-26T10:51:50.207646Z",
     "iopub.status.idle": "2020-08-26T10:51:50.209313Z",
     "shell.execute_reply": "2020-08-26T10:51:50.209826Z"
    },
    "papermill": {
     "duration": 0.020699,
     "end_time": "2020-08-26T10:51:50.209981",
     "exception": false,
     "start_time": "2020-08-26T10:51:50.189282",
     "status": "completed"
    },
    "tags": []
   },
   "outputs": [],
   "source": [
    "#hide\n",
    "overview = '''\n",
    "<!-- #######  HTML!! #########-->\n",
    "<h1 style=\"color: #5e9ca0; text-align: center;\">India</h1>\n",
    "<p style=\"text-align: center;\">Last update: <strong>{update}</strong></p>\n",
    "<p style=\"text-align: center;\">Confirmed cases:</p>\n",
    "<p style=\"text-align: center;font-size:24px;\">{cases} (<span style=\"color: #ff0000;\">+{new}</span>)</p>\n",
    "<p style=\"text-align: center;\">Confirmed deaths:</p>\n",
    "<p style=\"text-align: center;font-size:24px;\">{deaths} (<span style=\"color: #ff0000;\">+{dnew}</span>)</p>\n",
    "'''"
   ]
  },
  {
   "cell_type": "code",
   "execution_count": 16,
   "metadata": {
    "execution": {
     "iopub.execute_input": "2020-08-26T10:51:50.248853Z",
     "iopub.status.busy": "2020-08-26T10:51:50.248244Z",
     "iopub.status.idle": "2020-08-26T10:51:50.251361Z",
     "shell.execute_reply": "2020-08-26T10:51:50.251873Z"
    },
    "papermill": {
     "duration": 0.025155,
     "end_time": "2020-08-26T10:51:50.251995",
     "exception": false,
     "start_time": "2020-08-26T10:51:50.226840",
     "status": "completed"
    },
    "tags": []
   },
   "outputs": [
    {
     "data": {
      "text/html": [
       "\n",
       "<!-- #######  HTML!! #########-->\n",
       "<h1 style=\"color: #5e9ca0; text-align: center;\">India</h1>\n",
       "<p style=\"text-align: center;\">Last update: <strong>2020-08-26</strong></p>\n",
       "<p style=\"text-align: center;\">Confirmed cases:</p>\n",
       "<p style=\"text-align: center;font-size:24px;\">3239100 (<span style=\"color: #ff0000;\">+7346</span>)</p>\n",
       "<p style=\"text-align: center;\">Confirmed deaths:</p>\n",
       "<p style=\"text-align: center;font-size:24px;\">59645 (<span style=\"color: #ff0000;\">+33</span>)</p>\n"
      ],
      "text/plain": [
       "<IPython.core.display.HTML object>"
      ]
     },
     "metadata": {},
     "output_type": "display_data"
    }
   ],
   "source": [
    "#hide_input\n",
    "update = summary['updated']\n",
    "cases = summary['Cases']\n",
    "new = summary['Cases (+)']\n",
    "deaths = summary['Deaths']\n",
    "dnew = summary['Deaths (+)']\n",
    "\n",
    "html = HTML(overview.format(update=update, cases=cases,new=new,deaths=deaths,dnew=dnew))\n",
    "\n",
    "display(html)"
   ]
  },
  {
   "cell_type": "code",
   "execution_count": 17,
   "metadata": {
    "execution": {
     "iopub.execute_input": "2020-08-26T10:51:50.290729Z",
     "iopub.status.busy": "2020-08-26T10:51:50.290184Z",
     "iopub.status.idle": "2020-08-26T10:51:50.296847Z",
     "shell.execute_reply": "2020-08-26T10:51:50.296334Z"
    },
    "papermill": {
     "duration": 0.028711,
     "end_time": "2020-08-26T10:51:50.296966",
     "exception": false,
     "start_time": "2020-08-26T10:51:50.268255",
     "status": "completed"
    },
    "tags": []
   },
   "outputs": [],
   "source": [
    "#hide\n",
    "dt_cols = list(dft_cases.columns[1:])\n",
    "dft_ct_new_cases = dft_cases.groupby('state')[dt_cols].sum().diff(axis=1).fillna(0).astype(int)\n",
    "dft_ct_new_cases.sort_values(by = dates[-1], ascending = False,inplace = True)"
   ]
  },
  {
   "cell_type": "code",
   "execution_count": 18,
   "metadata": {
    "execution": {
     "iopub.execute_input": "2020-08-26T10:51:50.338424Z",
     "iopub.status.busy": "2020-08-26T10:51:50.337897Z",
     "iopub.status.idle": "2020-08-26T10:51:50.347164Z",
     "shell.execute_reply": "2020-08-26T10:51:50.347572Z"
    },
    "papermill": {
     "duration": 0.034633,
     "end_time": "2020-08-26T10:51:50.347694",
     "exception": false,
     "start_time": "2020-08-26T10:51:50.313061",
     "status": "completed"
    },
    "tags": []
   },
   "outputs": [
    {
     "data": {
      "text/html": [
       "<div>\n",
       "<style scoped>\n",
       "    .dataframe tbody tr th:only-of-type {\n",
       "        vertical-align: middle;\n",
       "    }\n",
       "\n",
       "    .dataframe tbody tr th {\n",
       "        vertical-align: top;\n",
       "    }\n",
       "\n",
       "    .dataframe thead th {\n",
       "        text-align: right;\n",
       "    }\n",
       "</style>\n",
       "<table border=\"1\" class=\"dataframe\">\n",
       "  <thead>\n",
       "    <tr style=\"text-align: right;\">\n",
       "      <th>states</th>\n",
       "      <th>2020-07-01</th>\n",
       "      <th>2020-07-02</th>\n",
       "      <th>2020-07-03</th>\n",
       "      <th>2020-07-04</th>\n",
       "      <th>2020-07-05</th>\n",
       "      <th>2020-07-06</th>\n",
       "      <th>2020-07-07</th>\n",
       "      <th>2020-07-08</th>\n",
       "      <th>2020-07-09</th>\n",
       "      <th>2020-07-10</th>\n",
       "      <th>...</th>\n",
       "      <th>2020-08-17</th>\n",
       "      <th>2020-08-18</th>\n",
       "      <th>2020-08-19</th>\n",
       "      <th>2020-08-20</th>\n",
       "      <th>2020-08-21</th>\n",
       "      <th>2020-08-22</th>\n",
       "      <th>2020-08-23</th>\n",
       "      <th>2020-08-24</th>\n",
       "      <th>2020-08-25</th>\n",
       "      <th>2020-08-26</th>\n",
       "    </tr>\n",
       "    <tr>\n",
       "      <th>state</th>\n",
       "      <th></th>\n",
       "      <th></th>\n",
       "      <th></th>\n",
       "      <th></th>\n",
       "      <th></th>\n",
       "      <th></th>\n",
       "      <th></th>\n",
       "      <th></th>\n",
       "      <th></th>\n",
       "      <th></th>\n",
       "      <th></th>\n",
       "      <th></th>\n",
       "      <th></th>\n",
       "      <th></th>\n",
       "      <th></th>\n",
       "      <th></th>\n",
       "      <th></th>\n",
       "      <th></th>\n",
       "      <th></th>\n",
       "      <th></th>\n",
       "      <th></th>\n",
       "    </tr>\n",
       "  </thead>\n",
       "  <tbody>\n",
       "    <tr>\n",
       "      <th>Odisha</th>\n",
       "      <td>0</td>\n",
       "      <td>229</td>\n",
       "      <td>561</td>\n",
       "      <td>495</td>\n",
       "      <td>469</td>\n",
       "      <td>456</td>\n",
       "      <td>571</td>\n",
       "      <td>527</td>\n",
       "      <td>577</td>\n",
       "      <td>755</td>\n",
       "      <td>...</td>\n",
       "      <td>2244</td>\n",
       "      <td>2239</td>\n",
       "      <td>2589</td>\n",
       "      <td>2898</td>\n",
       "      <td>2698</td>\n",
       "      <td>2819</td>\n",
       "      <td>2993</td>\n",
       "      <td>2949</td>\n",
       "      <td>2752</td>\n",
       "      <td>3371</td>\n",
       "    </tr>\n",
       "    <tr>\n",
       "      <th>Telangana</th>\n",
       "      <td>0</td>\n",
       "      <td>1213</td>\n",
       "      <td>1892</td>\n",
       "      <td>1850</td>\n",
       "      <td>1590</td>\n",
       "      <td>1831</td>\n",
       "      <td>1879</td>\n",
       "      <td>1924</td>\n",
       "      <td>1410</td>\n",
       "      <td>1278</td>\n",
       "      <td>...</td>\n",
       "      <td>894</td>\n",
       "      <td>1682</td>\n",
       "      <td>1763</td>\n",
       "      <td>1724</td>\n",
       "      <td>1967</td>\n",
       "      <td>2474</td>\n",
       "      <td>2384</td>\n",
       "      <td>1842</td>\n",
       "      <td>2579</td>\n",
       "      <td>3018</td>\n",
       "    </tr>\n",
       "    <tr>\n",
       "      <th>Rajasthan</th>\n",
       "      <td>0</td>\n",
       "      <td>350</td>\n",
       "      <td>390</td>\n",
       "      <td>480</td>\n",
       "      <td>632</td>\n",
       "      <td>524</td>\n",
       "      <td>716</td>\n",
       "      <td>659</td>\n",
       "      <td>500</td>\n",
       "      <td>611</td>\n",
       "      <td>...</td>\n",
       "      <td>1334</td>\n",
       "      <td>1347</td>\n",
       "      <td>1312</td>\n",
       "      <td>1330</td>\n",
       "      <td>1335</td>\n",
       "      <td>1310</td>\n",
       "      <td>1345</td>\n",
       "      <td>1346</td>\n",
       "      <td>1370</td>\n",
       "      <td>610</td>\n",
       "    </tr>\n",
       "    <tr>\n",
       "      <th>Tripura</th>\n",
       "      <td>0</td>\n",
       "      <td>39</td>\n",
       "      <td>93</td>\n",
       "      <td>25</td>\n",
       "      <td>23</td>\n",
       "      <td>111</td>\n",
       "      <td>24</td>\n",
       "      <td>57</td>\n",
       "      <td>16</td>\n",
       "      <td>142</td>\n",
       "      <td>...</td>\n",
       "      <td>143</td>\n",
       "      <td>205</td>\n",
       "      <td>236</td>\n",
       "      <td>190</td>\n",
       "      <td>256</td>\n",
       "      <td>280</td>\n",
       "      <td>331</td>\n",
       "      <td>200</td>\n",
       "      <td>293</td>\n",
       "      <td>329</td>\n",
       "    </tr>\n",
       "    <tr>\n",
       "      <th>Mizoram</th>\n",
       "      <td>0</td>\n",
       "      <td>2</td>\n",
       "      <td>0</td>\n",
       "      <td>2</td>\n",
       "      <td>22</td>\n",
       "      <td>11</td>\n",
       "      <td>1</td>\n",
       "      <td>5</td>\n",
       "      <td>0</td>\n",
       "      <td>23</td>\n",
       "      <td>...</td>\n",
       "      <td>12</td>\n",
       "      <td>26</td>\n",
       "      <td>45</td>\n",
       "      <td>14</td>\n",
       "      <td>21</td>\n",
       "      <td>8</td>\n",
       "      <td>15</td>\n",
       "      <td>0</td>\n",
       "      <td>35</td>\n",
       "      <td>14</td>\n",
       "    </tr>\n",
       "  </tbody>\n",
       "</table>\n",
       "<p>5 rows × 57 columns</p>\n",
       "</div>"
      ],
      "text/plain": [
       "states     2020-07-01  2020-07-02  2020-07-03  2020-07-04  2020-07-05  \\\n",
       "state                                                                   \n",
       "Odisha              0         229         561         495         469   \n",
       "Telangana           0        1213        1892        1850        1590   \n",
       "Rajasthan           0         350         390         480         632   \n",
       "Tripura             0          39          93          25          23   \n",
       "Mizoram             0           2           0           2          22   \n",
       "\n",
       "states     2020-07-06  2020-07-07  2020-07-08  2020-07-09  2020-07-10  ...  \\\n",
       "state                                                                  ...   \n",
       "Odisha            456         571         527         577         755  ...   \n",
       "Telangana        1831        1879        1924        1410        1278  ...   \n",
       "Rajasthan         524         716         659         500         611  ...   \n",
       "Tripura           111          24          57          16         142  ...   \n",
       "Mizoram            11           1           5           0          23  ...   \n",
       "\n",
       "states     2020-08-17  2020-08-18  2020-08-19  2020-08-20  2020-08-21  \\\n",
       "state                                                                   \n",
       "Odisha           2244        2239        2589        2898        2698   \n",
       "Telangana         894        1682        1763        1724        1967   \n",
       "Rajasthan        1334        1347        1312        1330        1335   \n",
       "Tripura           143         205         236         190         256   \n",
       "Mizoram            12          26          45          14          21   \n",
       "\n",
       "states     2020-08-22  2020-08-23  2020-08-24  2020-08-25  2020-08-26  \n",
       "state                                                                  \n",
       "Odisha           2819        2993        2949        2752        3371  \n",
       "Telangana        2474        2384        1842        2579        3018  \n",
       "Rajasthan        1310        1345        1346        1370         610  \n",
       "Tripura           280         331         200         293         329  \n",
       "Mizoram             8          15           0          35          14  \n",
       "\n",
       "[5 rows x 57 columns]"
      ]
     },
     "execution_count": 18,
     "metadata": {},
     "output_type": "execute_result"
    }
   ],
   "source": [
    "#hide\n",
    "dft_ct_new_cases.head()"
   ]
  },
  {
   "cell_type": "code",
   "execution_count": 19,
   "metadata": {
    "execution": {
     "iopub.execute_input": "2020-08-26T10:51:50.407347Z",
     "iopub.status.busy": "2020-08-26T10:51:50.391835Z",
     "iopub.status.idle": "2020-08-26T10:51:53.056051Z",
     "shell.execute_reply": "2020-08-26T10:51:53.055542Z"
    },
    "papermill": {
     "duration": 2.692333,
     "end_time": "2020-08-26T10:51:53.056193",
     "exception": false,
     "start_time": "2020-08-26T10:51:50.363860",
     "status": "completed"
    },
    "tags": []
   },
   "outputs": [
    {
     "data": {
      "image/png": "[encoded data removed]",
      "text/plain": [
       "<Figure size 1296x2016 with 11 Axes>"
      ]
     },
     "metadata": {
      "needs_background": "light"
     },
     "output_type": "display_data"
    }
   ],
   "source": [
    "#hide_input\n",
    "df = dft_ct_new_cases.copy()\n",
    "df.loc['Total'] = df.sum()\n",
    "n = 5\n",
    "ax = []\n",
    "fig = plt.figure(figsize = (18,28))\n",
    "gs = fig.add_gridspec(n+2, 5)\n",
    "# gs = fig.add_gridspec(2, 3)\n",
    "ax1 = fig.add_subplot(gs[0, :])\n",
    "ef = df.loc['Total'].rename_axis('date').reset_index()\n",
    "ef['date'] = ef['date'].astype('datetime64[ns]')\n",
    "ax1.bar(ef.date,ef.Total,alpha=0.3,color='#007acc')\n",
    "ax1.plot(ef.date,ef.Total , marker=\"o\", color='#007acc')\n",
    "ax1.xaxis.set_major_locator(mdates.WeekdayLocator())\n",
    "ax1.xaxis.set_major_formatter(mdates.DateFormatter('%b %d'))\n",
    "ax1.text(0.02, 0.5,'India daily case count', transform = ax1.transAxes, fontsize=25);\n",
    "ax1.spines['right'].set_visible(False)\n",
    "ax1.spines['top'].set_visible(False)\n",
    "\n",
    "ax2 = fig.add_subplot(gs[1,0])\n",
    "ef = df.loc['Maharashtra'].rename_axis('date').reset_index()\n",
    "ef['date'] = ef['date'].astype('datetime64[ns]')\n",
    "\n",
    "ax2.bar(ef.date, ef.Maharashtra,color = '#007acc',alpha=0.5)\n",
    "ax2.xaxis.set_major_locator(mdates.WeekdayLocator())\n",
    "ax2.xaxis.set_major_formatter(mdates.DateFormatter('%b %d'))\n",
    "ax2.set_xticks(ax2.get_xticks()[::3])\n",
    "maxyval = ef.Maharashtra.max()\n",
    "ax2.set_ylim([0,maxyval])\n",
    "ax2.text(0.05, 0.9,'Maharashtra', transform = ax2.transAxes, fontsize=20);\n",
    "ax2.spines['right'].set_visible(False)\n",
    "ax2.spines['top'].set_visible(False)\n",
    "\n",
    "\n",
    "ax3 = fig.add_subplot(gs[1,1])\n",
    "ef = df.loc['Tamil Nadu'].rename_axis('date').reset_index()\n",
    "ef['date'] = ef['date'].astype('datetime64[ns]')\n",
    "ax3.bar(ef.date, ef['Tamil Nadu'],color = '#007acc',alpha=0.5,)\n",
    "ax3.xaxis.set_major_locator(mdates.WeekdayLocator())\n",
    "ax3.xaxis.set_major_formatter(mdates.DateFormatter('%b %d'))\n",
    "ax3.set_xticks(ax3.get_xticks()[::3])\n",
    "ax3.text(0.05, 0.9,'Tamil Nadu', transform = ax3.transAxes, fontsize=20);\n",
    "ax3.spines['right'].set_visible(False)\n",
    "ax3.spines['top'].set_visible(False)\n",
    "\n",
    "ax5 = fig.add_subplot(gs[1,3])\n",
    "ef = df.loc['Telangana'].rename_axis('date').reset_index()\n",
    "ef['date'] = ef['date'].astype('datetime64[ns]')\n",
    "ax5.bar(ef.date, ef['Telangana'],color = '#007acc',alpha=0.5,)\n",
    "ax5.xaxis.set_major_locator(mdates.WeekdayLocator())\n",
    "ax5.xaxis.set_major_formatter(mdates.DateFormatter('%b %d'))\n",
    "ax5.set_xticks(ax5.get_xticks()[::3])\n",
    "ax5.text(0.05, 0.9,'Telangana', transform = ax5.transAxes, fontsize=20);\n",
    "ax5.spines['right'].set_visible(False)\n",
    "ax5.spines['top'].set_visible(False)\n",
    "\n",
    "ax6 = fig.add_subplot(gs[1,4])\n",
    "ef = df.loc['Andhra Pradesh'].rename_axis('date').reset_index()\n",
    "ef['date'] = ef['date'].astype('datetime64[ns]')\n",
    "ax6.bar(ef.date, ef['Andhra Pradesh'],color = '#007acc',alpha=0.5,)\n",
    "ax6.xaxis.set_major_locator(mdates.WeekdayLocator())\n",
    "ax6.xaxis.set_major_formatter(mdates.DateFormatter('%b %d'))\n",
    "ax6.set_xticks(ax6.get_xticks()[::3])\n",
    "ax6.text(0.05, 1,'Andhra Pradesh', transform = ax6.transAxes, fontsize=20);\n",
    "ax6.spines['right'].set_visible(False)\n",
    "ax6.spines['top'].set_visible(False)\n",
    "\n",
    "ax4 = fig.add_subplot(gs[1,2])\n",
    "ef = df.loc['Delhi'].rename_axis('date').reset_index()\n",
    "ef['date'] = ef['date'].astype('datetime64[ns]')\n",
    "ax4.bar(ef.date, ef.Delhi,color = '#007acc',alpha=0.5)\n",
    "ax4.set_xticks([])\n",
    "ax4.xaxis.set_major_locator(mdates.WeekdayLocator())\n",
    "ax4.xaxis.set_major_formatter(mdates.DateFormatter('%b %d'))\n",
    "ax4.set_xticks(ax4.get_xticks()[::3])\n",
    "ax4.spines['right'].set_visible(False)\n",
    "ax4.spines['top'].set_visible(False)\n",
    "\n",
    "ax4.text(0.05, 1,'Delhi', transform = ax4.transAxes, fontsize=20)\n",
    "\n",
    "for i in range(n):\n",
    "    \n",
    "    ax.append(fig.add_subplot(gs[i+2,:]))\n",
    "    ef = df.iloc[i+3].rename_axis('date').reset_index()\n",
    "    ef['date'] = ef['date'].astype('datetime64[ns]')\n",
    "    ax[i].bar(ef.date,ef.iloc[:,-1],color = '#007acc',alpha=0.3)\n",
    "    ax[i].plot(ef.date,ef.iloc[:,-1],marker='o',color='#007acc')\n",
    "    ax[i].text(0.02,0.5,f'{ef.columns.values[-1]}',transform = ax[i].transAxes, fontsize = 20);\n",
    "    ax[i].xaxis.set_major_locator(mdates.WeekdayLocator())\n",
    "    ax[i].xaxis.set_major_formatter(mdates.DateFormatter('%b %d'))\n",
    "    ax[i].set_ylim([0,7000])\n",
    "    ax[i].spines['right'].set_visible(False)\n",
    "    ax[i].spines['top'].set_visible(False)\n",
    "plt.tight_layout()\n"
   ]
  },
  {
   "cell_type": "code",
   "execution_count": 20,
   "metadata": {
    "execution": {
     "iopub.execute_input": "2020-08-26T10:51:53.106899Z",
     "iopub.status.busy": "2020-08-26T10:51:53.106339Z",
     "iopub.status.idle": "2020-08-26T10:51:53.108509Z",
     "shell.execute_reply": "2020-08-26T10:51:53.108937Z"
    },
    "papermill": {
     "duration": 0.031422,
     "end_time": "2020-08-26T10:51:53.109057",
     "exception": false,
     "start_time": "2020-08-26T10:51:53.077635",
     "status": "completed"
    },
    "tags": []
   },
   "outputs": [
    {
     "name": "stdout",
     "output_type": "stream",
     "text": [
      "                                   states   Cases  Deaths  PCases  PDeaths  Cases (+)  Deaths (+)  Fatality Rate\n",
      "                              Maharashtra  703823   22794  703823    22794          0           0           3.24\n",
      "                               Tamil Nadu  391303    6721  391303     6721          0           0           1.72\n",
      "                           Andhra Pradesh  371639    3460  371639     3460          0           0           0.93\n",
      "                                Karnataka  291826    4958  291826     4958          0           0           1.70\n",
      "                            Uttar Pradesh  197388    3059  197388     3059          0           0           1.55\n",
      "                                    Delhi  164071    4330  164071     4330          0           0           2.64\n",
      "                              West Bengal  144801    2909  144801     2909          0           0           2.01\n",
      "                                    Bihar  124827     644  124827      644          0           0           0.52\n",
      "                                Telangana  111688     780  108670      770       3018          10           0.70\n",
      "                                    Assam   94593     260   94593      260          0           0           0.27\n",
      "                                  Gujarat   88942    2928   88942     2928          0           0           3.29\n",
      "                                   Odisha   87602     494   84231      481       3371          13           0.56\n",
      "                                Rajasthan   73935     986   73325      980        610           6           1.33\n",
      "                                   Kerala   61879     245   61879      245          0           0           0.40\n",
      "                                  Haryana   56608     623   56608      623          0           0           1.10\n",
      "                           Madhya Pradesh   55800    1265   55800     1265          0           0           2.27\n",
      "                                   Punjab   44577    1178   44577     1178          0           0           2.64\n",
      "                        Jammu and Kashmir   33776     638   33776      638          0           0           1.89\n",
      "                                Jharkhand   32174     347   32174      347          0           0           1.08\n",
      "                             Chhattisgarh   23341     221   23341      221          0           0           0.95\n",
      "                              Uttarakhand   16014     213   16014      213          0           0           1.33\n",
      "                                      Goa   14530     157   14530      157          0           0           1.08\n",
      "                               Puducherry   11426     172   11426      172          0           0           1.51\n",
      "                                  Tripura    9539      83    9210       79        329           4           0.87\n",
      "                                  Manipur    5444      24    5444       24          0           0           0.44\n",
      "                         Himachal Pradesh    5154      29    5154       29          0           0           0.56\n",
      "                                 Nagaland    3752       8    3752        8          0           0           0.21\n",
      "                        Arunachal Pradesh    3412       5    3412        5          0           0           0.15\n",
      "                               Chandigarh    3209      40    3209       40          0           0           1.25\n",
      "              Andaman and Nicobar Islands    2945      37    2945       37          0           0           1.26\n",
      "                                   Ladakh    2420      24    2420       24          0           0           0.99\n",
      " Dadra and Nagar Haveli and Daman and Diu    2198       2    2198        2          0           0           0.09\n",
      "                                Meghalaya    2022       8    2018        8          4           0           0.40\n",
      "                                   Sikkim    1475       3    1475        3          0           0           0.20\n",
      "                                  Mizoram     967       0     953        0         14           0           0.00\n",
      "                              Lakshadweep       0       0       0        0          0           0            NaN\n"
     ]
    }
   ],
   "source": [
    "#hide_input\n",
    "print(df_table.to_string(index=False))"
   ]
  },
  {
   "cell_type": "code",
   "execution_count": null,
   "metadata": {
    "papermill": {
     "duration": 0.020708,
     "end_time": "2020-08-26T10:51:53.149500",
     "exception": false,
     "start_time": "2020-08-26T10:51:53.128792",
     "status": "completed"
    },
    "tags": []
   },
   "outputs": [],
   "source": []
  },
  {
   "cell_type": "code",
   "execution_count": null,
   "metadata": {
    "papermill": {
     "duration": 0.020521,
     "end_time": "2020-08-26T10:51:53.190461",
     "exception": false,
     "start_time": "2020-08-26T10:51:53.169940",
     "status": "completed"
    },
    "tags": []
   },
   "outputs": [],
   "source": []
  }
 ],
 "metadata": {
  "kernelspec": {
   "display_name": "Python 3",
   "language": "python",
   "name": "python3"
  },
  "language_info": {
   "codemirror_mode": {
    "name": "ipython",
    "version": 3
   },
   "file_extension": ".py",
   "mimetype": "text/x-python",
   "name": "python",
   "nbconvert_exporter": "python",
   "pygments_lexer": "ipython3",
   "version": "3.6.11"
  },
  "papermill": {
   "duration": 8.307442,
   "end_time": "2020-08-26T10:51:54.445478",
   "environment_variables": {},
   "exception": null,
   "input_path": "latest.ipynb",
   "output_path": "latest.ipynb",
   "parameters": {},
   "start_time": "2020-08-26T10:51:46.138036",
   "version": "2.1.2"
  }
 },
 "nbformat": 4,
 "nbformat_minor": 4
}