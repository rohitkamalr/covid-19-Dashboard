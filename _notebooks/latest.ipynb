{
 "cells": [
  {
   "cell_type": "markdown",
   "metadata": {
    "papermill": {
     "duration": 0.021688,
     "end_time": "2020-09-13T05:51:25.143721",
     "exception": false,
     "start_time": "2020-09-13T05:51:25.122033",
     "status": "completed"
    },
    "tags": []
   },
   "source": [
    "# Latest COVID-19 India Matplotlib Overview"
   ]
  },
  {
   "cell_type": "code",
   "execution_count": 1,
   "metadata": {
    "execution": {
     "iopub.execute_input": "2020-09-13T05:51:25.181661Z",
     "iopub.status.busy": "2020-09-13T05:51:25.180637Z",
     "iopub.status.idle": "2020-09-13T05:51:25.755281Z",
     "shell.execute_reply": "2020-09-13T05:51:25.754477Z"
    },
    "papermill": {
     "duration": 0.596058,
     "end_time": "2020-09-13T05:51:25.755418",
     "exception": false,
     "start_time": "2020-09-13T05:51:25.159360",
     "status": "completed"
    },
    "tags": []
   },
   "outputs": [],
   "source": [
    "#hide\n",
    "import pandas as pd\n",
    "import numpy as np\n",
    "import requests\n",
    "import json\n",
    "import matplotlib.pyplot as plt\n",
    "import matplotlib.dates as mdates\n",
    "import matplotlib as mpl\n",
    "from IPython.core.display import display,HTML\n",
    "%matplotlib inline\n",
    "from datetime import date"
   ]
  },
  {
   "cell_type": "code",
   "execution_count": 2,
   "metadata": {
    "execution": {
     "iopub.execute_input": "2020-09-13T05:51:25.796055Z",
     "iopub.status.busy": "2020-09-13T05:51:25.795510Z",
     "iopub.status.idle": "2020-09-13T05:51:25.910674Z",
     "shell.execute_reply": "2020-09-13T05:51:25.911154Z"
    },
    "papermill": {
     "duration": 0.140893,
     "end_time": "2020-09-13T05:51:25.911318",
     "exception": false,
     "start_time": "2020-09-13T05:51:25.770425",
     "status": "completed"
    },
    "tags": []
   },
   "outputs": [],
   "source": [
    "#hide\n",
    "df  = pd.read_csv('https://api.covid19india.org/csv/latest/states.csv')\n",
    "df = df[['Date','State','Confirmed','Deceased']]\n",
    "df = df.rename(columns={'Confirmed':'Cases', \"Deceased\":'Deaths'})\n",
    "df_cases = df[[\"Date\",'State','Cases']]\n",
    "df_deaths = df[['Date','State','Deaths']]\n",
    "df_cases1 = df_cases.groupby('Date')\n",
    "df_deaths1= df_deaths.groupby('Date')"
   ]
  },
  {
   "cell_type": "code",
   "execution_count": 3,
   "metadata": {
    "execution": {
     "iopub.execute_input": "2020-09-13T05:51:26.296277Z",
     "iopub.status.busy": "2020-09-13T05:51:26.295623Z",
     "iopub.status.idle": "2020-09-13T05:51:26.312718Z",
     "shell.execute_reply": "2020-09-13T05:51:26.313129Z"
    },
    "papermill": {
     "duration": 0.369801,
     "end_time": "2020-09-13T05:51:26.313266",
     "exception": false,
     "start_time": "2020-09-13T05:51:25.943465",
     "status": "completed"
    },
    "tags": []
   },
   "outputs": [],
   "source": [
    "#hide\n",
    "df_snap = pd.read_csv('data/SnapshotCases-28-July.csv')\n",
    "arr_states = df_snap['states'].unique()\n",
    "arr_dates = df['Date'].unique()\n",
    "df_snap = df_snap.set_index('states')"
   ]
  },
  {
   "cell_type": "code",
   "execution_count": 4,
   "metadata": {
    "execution": {
     "iopub.execute_input": "2020-09-13T05:51:26.350310Z",
     "iopub.status.busy": "2020-09-13T05:51:26.349589Z",
     "iopub.status.idle": "2020-09-13T05:51:26.352483Z",
     "shell.execute_reply": "2020-09-13T05:51:26.353120Z"
    },
    "papermill": {
     "duration": 0.025545,
     "end_time": "2020-09-13T05:51:26.353270",
     "exception": false,
     "start_time": "2020-09-13T05:51:26.327725",
     "status": "completed"
    },
    "tags": []
   },
   "outputs": [
    {
     "data": {
      "text/plain": [
       "array(['Andaman and Nicobar Islands', 'Andhra Pradesh',\n",
       "       'Arunachal Pradesh', 'Assam', 'Bihar', 'Chandigarh',\n",
       "       'Dadra and Nagar Haveli and Daman and Diu', 'Delhi', 'Goa',\n",
       "       'Gujarat', 'Haryana', 'Himachal Pradesh', 'Jammu and Kashmir',\n",
       "       'Jharkhand', 'Karnataka', 'Kerala', 'Lakshadweep',\n",
       "       'Madhya Pradesh', 'Maharashtra', 'Manipur', 'Meghalaya', 'Mizoram',\n",
       "       'Nagaland', 'Odisha', 'Puducherry', 'Punjab', 'Rajasthan',\n",
       "       'Sikkim', 'Tamil Nadu', 'Telangana', 'Tripura', 'Uttar Pradesh',\n",
       "       'West Bengal', 'Chhattisgarh', 'Ladakh', 'Uttarakhand'],\n",
       "      dtype=object)"
      ]
     },
     "execution_count": 4,
     "metadata": {},
     "output_type": "execute_result"
    }
   ],
   "source": [
    "#hide\n",
    "arr_states[-9] = 'Puducherry'\n",
    "arr_states[-10] = 'Odisha'\n",
    "arr_states[6] = 'Dadra and Nagar Haveli and Daman and Diu'\n",
    "arr_states = np.append(arr_states,np.array(['Chhattisgarh','Ladakh','Uttarakhand']))\n",
    "arr_states"
   ]
  },
  {
   "cell_type": "code",
   "execution_count": 5,
   "metadata": {
    "execution": {
     "iopub.execute_input": "2020-09-13T05:51:26.396342Z",
     "iopub.status.busy": "2020-09-13T05:51:26.395764Z",
     "iopub.status.idle": "2020-09-13T05:51:26.403901Z",
     "shell.execute_reply": "2020-09-13T05:51:26.403423Z"
    },
    "papermill": {
     "duration": 0.035116,
     "end_time": "2020-09-13T05:51:26.404013",
     "exception": false,
     "start_time": "2020-09-13T05:51:26.368897",
     "status": "completed"
    },
    "tags": []
   },
   "outputs": [],
   "source": [
    "#hide\n",
    "dates = []\n",
    "for i in arr_dates:\n",
    "    if i>='2020-07-01':\n",
    "        dates.append(i)\n",
    "dict = {'states':dates}\n",
    "for i in arr_states:\n",
    "    dict[i] = [0]*len(dates)\n",
    "dft_cases = pd.DataFrame(dict)\n",
    "dft_deaths = pd.DataFrame(dict)\n"
   ]
  },
  {
   "cell_type": "code",
   "execution_count": 6,
   "metadata": {
    "execution": {
     "iopub.execute_input": "2020-09-13T05:51:26.440917Z",
     "iopub.status.busy": "2020-09-13T05:51:26.440336Z",
     "iopub.status.idle": "2020-09-13T05:51:27.404362Z",
     "shell.execute_reply": "2020-09-13T05:51:27.403369Z"
    },
    "papermill": {
     "duration": 0.985695,
     "end_time": "2020-09-13T05:51:27.404520",
     "exception": false,
     "start_time": "2020-09-13T05:51:26.418825",
     "status": "completed"
    },
    "tags": []
   },
   "outputs": [],
   "source": [
    "#hide\n",
    "for i in range(len(dates)):\n",
    "    df1_deaths = df_deaths1.get_group(dates[i])\n",
    "    for j in range(len(df1_deaths.index)):\n",
    "        if df1_deaths.iloc[j,1] in arr_states:\n",
    "            dft_deaths.loc[i,df1_deaths.iloc[j,1]] = df1_deaths.iloc[j,2]\n",
    "dft_deaths = dft_deaths.set_index('states')"
   ]
  },
  {
   "cell_type": "code",
   "execution_count": 7,
   "metadata": {
    "execution": {
     "iopub.execute_input": "2020-09-13T05:51:27.438300Z",
     "iopub.status.busy": "2020-09-13T05:51:27.437693Z",
     "iopub.status.idle": "2020-09-13T05:51:28.380272Z",
     "shell.execute_reply": "2020-09-13T05:51:28.379784Z"
    },
    "papermill": {
     "duration": 0.961784,
     "end_time": "2020-09-13T05:51:28.380404",
     "exception": false,
     "start_time": "2020-09-13T05:51:27.418620",
     "status": "completed"
    },
    "tags": []
   },
   "outputs": [],
   "source": [
    "#hide\n",
    "for i in range(len(dates)):\n",
    "    df1_cases = df_cases1.get_group(dates[i])\n",
    "    for j in range(len(df1_cases.index)):\n",
    "        if df1_cases.iloc[j,1] in arr_states:\n",
    "            dft_cases.loc[i,df1_cases.iloc[j,1]] = df1_cases.iloc[j,2]\n",
    "dft_cases = dft_cases.set_index('states')"
   ]
  },
  {
   "cell_type": "code",
   "execution_count": 8,
   "metadata": {
    "execution": {
     "iopub.execute_input": "2020-09-13T05:51:28.419290Z",
     "iopub.status.busy": "2020-09-13T05:51:28.418729Z",
     "iopub.status.idle": "2020-09-13T05:51:28.422538Z",
     "shell.execute_reply": "2020-09-13T05:51:28.422047Z"
    },
    "papermill": {
     "duration": 0.026253,
     "end_time": "2020-09-13T05:51:28.422673",
     "exception": false,
     "start_time": "2020-09-13T05:51:28.396420",
     "status": "completed"
    },
    "tags": []
   },
   "outputs": [],
   "source": [
    "#hide\n",
    "dft_cases = dft_cases.T\n",
    "dft_deaths = dft_deaths.T\n",
    "dt_today = dates[-1]\n",
    "dt_yday = dates[-2]"
   ]
  },
  {
   "cell_type": "code",
   "execution_count": 9,
   "metadata": {
    "execution": {
     "iopub.execute_input": "2020-09-13T05:51:28.460007Z",
     "iopub.status.busy": "2020-09-13T05:51:28.458816Z",
     "iopub.status.idle": "2020-09-13T05:51:28.460607Z",
     "shell.execute_reply": "2020-09-13T05:51:28.461032Z"
    },
    "papermill": {
     "duration": 0.023933,
     "end_time": "2020-09-13T05:51:28.461322",
     "exception": false,
     "start_time": "2020-09-13T05:51:28.437389",
     "status": "completed"
    },
    "tags": []
   },
   "outputs": [],
   "source": [
    "#hide\n",
    "dft_cases = dft_cases.reset_index()\n",
    "dft_deaths = dft_deaths.reset_index()\n",
    "dft_cases = dft_cases.rename(columns = {'index':'state'})\n",
    "dft_deaths = dft_deaths.rename(columns = {'index':'state'})"
   ]
  },
  {
   "cell_type": "code",
   "execution_count": 10,
   "metadata": {
    "execution": {
     "iopub.execute_input": "2020-09-13T05:51:28.504738Z",
     "iopub.status.busy": "2020-09-13T05:51:28.503554Z",
     "iopub.status.idle": "2020-09-13T05:51:28.505351Z",
     "shell.execute_reply": "2020-09-13T05:51:28.505786Z"
    },
    "papermill": {
     "duration": 0.030221,
     "end_time": "2020-09-13T05:51:28.505911",
     "exception": false,
     "start_time": "2020-09-13T05:51:28.475690",
     "status": "completed"
    },
    "tags": []
   },
   "outputs": [],
   "source": [
    "#hide\n",
    "dfc_cases = dft_cases.groupby('state')[dt_today].sum()\n",
    "dfc_deaths = dft_deaths.groupby('state')[dt_today].sum()\n",
    "dfp_cases = dft_cases.groupby('state')[dt_yday].sum()\n",
    "dfp_deaths = dft_deaths.groupby('state')[dt_yday].sum()"
   ]
  },
  {
   "cell_type": "code",
   "execution_count": 11,
   "metadata": {
    "execution": {
     "iopub.execute_input": "2020-09-13T05:51:28.548424Z",
     "iopub.status.busy": "2020-09-13T05:51:28.547881Z",
     "iopub.status.idle": "2020-09-13T05:51:28.556485Z",
     "shell.execute_reply": "2020-09-13T05:51:28.556002Z"
    },
    "papermill": {
     "duration": 0.03649,
     "end_time": "2020-09-13T05:51:28.556601",
     "exception": false,
     "start_time": "2020-09-13T05:51:28.520111",
     "status": "completed"
    },
    "tags": []
   },
   "outputs": [
    {
     "data": {
      "text/html": [
       "<div>\n",
       "<style scoped>\n",
       "    .dataframe tbody tr th:only-of-type {\n",
       "        vertical-align: middle;\n",
       "    }\n",
       "\n",
       "    .dataframe tbody tr th {\n",
       "        vertical-align: top;\n",
       "    }\n",
       "\n",
       "    .dataframe thead th {\n",
       "        text-align: right;\n",
       "    }\n",
       "</style>\n",
       "<table border=\"1\" class=\"dataframe\">\n",
       "  <thead>\n",
       "    <tr style=\"text-align: right;\">\n",
       "      <th></th>\n",
       "      <th>states</th>\n",
       "      <th>Cases</th>\n",
       "      <th>Deaths</th>\n",
       "      <th>PCases</th>\n",
       "      <th>PDeaths</th>\n",
       "    </tr>\n",
       "  </thead>\n",
       "  <tbody>\n",
       "    <tr>\n",
       "      <th>0</th>\n",
       "      <td>Maharashtra</td>\n",
       "      <td>1037765</td>\n",
       "      <td>29115</td>\n",
       "      <td>1037765</td>\n",
       "      <td>29115</td>\n",
       "    </tr>\n",
       "    <tr>\n",
       "      <th>1</th>\n",
       "      <td>Andhra Pradesh</td>\n",
       "      <td>557587</td>\n",
       "      <td>4846</td>\n",
       "      <td>557587</td>\n",
       "      <td>4846</td>\n",
       "    </tr>\n",
       "    <tr>\n",
       "      <th>2</th>\n",
       "      <td>Tamil Nadu</td>\n",
       "      <td>497066</td>\n",
       "      <td>8307</td>\n",
       "      <td>497066</td>\n",
       "      <td>8307</td>\n",
       "    </tr>\n",
       "    <tr>\n",
       "      <th>3</th>\n",
       "      <td>Karnataka</td>\n",
       "      <td>449551</td>\n",
       "      <td>7161</td>\n",
       "      <td>449551</td>\n",
       "      <td>7161</td>\n",
       "    </tr>\n",
       "    <tr>\n",
       "      <th>4</th>\n",
       "      <td>Uttar Pradesh</td>\n",
       "      <td>305831</td>\n",
       "      <td>4349</td>\n",
       "      <td>305831</td>\n",
       "      <td>4349</td>\n",
       "    </tr>\n",
       "  </tbody>\n",
       "</table>\n",
       "</div>"
      ],
      "text/plain": [
       "           states    Cases  Deaths   PCases  PDeaths\n",
       "0     Maharashtra  1037765   29115  1037765    29115\n",
       "1  Andhra Pradesh   557587    4846   557587     4846\n",
       "2      Tamil Nadu   497066    8307   497066     8307\n",
       "3       Karnataka   449551    7161   449551     7161\n",
       "4   Uttar Pradesh   305831    4349   305831     4349"
      ]
     },
     "execution_count": 11,
     "metadata": {},
     "output_type": "execute_result"
    }
   ],
   "source": [
    "#hide\n",
    "df_table = pd.DataFrame({'states': dfc_cases.index, 'Cases': dfc_cases.values, 'Deaths': dfc_deaths.values, 'PCases': dfp_cases.values, 'PDeaths': dfp_deaths.values}).set_index('states')\n",
    "df_table = df_table.sort_values(by = ['Cases','Deaths'], ascending = [False, False])\n",
    "df_table = df_table.reset_index()\n",
    "df_table.head()"
   ]
  },
  {
   "cell_type": "code",
   "execution_count": 12,
   "metadata": {
    "execution": {
     "iopub.execute_input": "2020-09-13T05:51:28.591768Z",
     "iopub.status.busy": "2020-09-13T05:51:28.591236Z",
     "iopub.status.idle": "2020-09-13T05:51:28.598953Z",
     "shell.execute_reply": "2020-09-13T05:51:28.599360Z"
    },
    "papermill": {
     "duration": 0.028176,
     "end_time": "2020-09-13T05:51:28.599489",
     "exception": false,
     "start_time": "2020-09-13T05:51:28.571313",
     "status": "completed"
    },
    "tags": []
   },
   "outputs": [],
   "source": [
    "#hide\n",
    "for c in 'Cases, Deaths'.split(', '):\n",
    "    df_table[f'{c} (+)'] = (df_table[c] - df_table[f'P{c}']).clip(0)\n",
    "df_table['Fatality Rate'] = (100* df_table['Deaths']/ df_table['Cases']).round(2)"
   ]
  },
  {
   "cell_type": "code",
   "execution_count": 13,
   "metadata": {
    "execution": {
     "iopub.execute_input": "2020-09-13T05:51:28.646744Z",
     "iopub.status.busy": "2020-09-13T05:51:28.646151Z",
     "iopub.status.idle": "2020-09-13T05:51:28.648655Z",
     "shell.execute_reply": "2020-09-13T05:51:28.649150Z"
    },
    "papermill": {
     "duration": 0.028665,
     "end_time": "2020-09-13T05:51:28.649284",
     "exception": false,
     "start_time": "2020-09-13T05:51:28.620619",
     "status": "completed"
    },
    "tags": []
   },
   "outputs": [
    {
     "data": {
      "text/html": [
       "<div>\n",
       "<style scoped>\n",
       "    .dataframe tbody tr th:only-of-type {\n",
       "        vertical-align: middle;\n",
       "    }\n",
       "\n",
       "    .dataframe tbody tr th {\n",
       "        vertical-align: top;\n",
       "    }\n",
       "\n",
       "    .dataframe thead th {\n",
       "        text-align: right;\n",
       "    }\n",
       "</style>\n",
       "<table border=\"1\" class=\"dataframe\">\n",
       "  <thead>\n",
       "    <tr style=\"text-align: right;\">\n",
       "      <th></th>\n",
       "      <th>states</th>\n",
       "      <th>Cases</th>\n",
       "      <th>Deaths</th>\n",
       "      <th>PCases</th>\n",
       "      <th>PDeaths</th>\n",
       "      <th>Cases (+)</th>\n",
       "      <th>Deaths (+)</th>\n",
       "      <th>Fatality Rate</th>\n",
       "    </tr>\n",
       "  </thead>\n",
       "  <tbody>\n",
       "    <tr>\n",
       "      <th>0</th>\n",
       "      <td>Maharashtra</td>\n",
       "      <td>1037765</td>\n",
       "      <td>29115</td>\n",
       "      <td>1037765</td>\n",
       "      <td>29115</td>\n",
       "      <td>0</td>\n",
       "      <td>0</td>\n",
       "      <td>2.81</td>\n",
       "    </tr>\n",
       "    <tr>\n",
       "      <th>1</th>\n",
       "      <td>Andhra Pradesh</td>\n",
       "      <td>557587</td>\n",
       "      <td>4846</td>\n",
       "      <td>557587</td>\n",
       "      <td>4846</td>\n",
       "      <td>0</td>\n",
       "      <td>0</td>\n",
       "      <td>0.87</td>\n",
       "    </tr>\n",
       "    <tr>\n",
       "      <th>2</th>\n",
       "      <td>Tamil Nadu</td>\n",
       "      <td>497066</td>\n",
       "      <td>8307</td>\n",
       "      <td>497066</td>\n",
       "      <td>8307</td>\n",
       "      <td>0</td>\n",
       "      <td>0</td>\n",
       "      <td>1.67</td>\n",
       "    </tr>\n",
       "    <tr>\n",
       "      <th>3</th>\n",
       "      <td>Karnataka</td>\n",
       "      <td>449551</td>\n",
       "      <td>7161</td>\n",
       "      <td>449551</td>\n",
       "      <td>7161</td>\n",
       "      <td>0</td>\n",
       "      <td>0</td>\n",
       "      <td>1.59</td>\n",
       "    </tr>\n",
       "    <tr>\n",
       "      <th>4</th>\n",
       "      <td>Uttar Pradesh</td>\n",
       "      <td>305831</td>\n",
       "      <td>4349</td>\n",
       "      <td>305831</td>\n",
       "      <td>4349</td>\n",
       "      <td>0</td>\n",
       "      <td>0</td>\n",
       "      <td>1.42</td>\n",
       "    </tr>\n",
       "  </tbody>\n",
       "</table>\n",
       "</div>"
      ],
      "text/plain": [
       "           states    Cases  Deaths   PCases  PDeaths  Cases (+)  Deaths (+)  \\\n",
       "0     Maharashtra  1037765   29115  1037765    29115          0           0   \n",
       "1  Andhra Pradesh   557587    4846   557587     4846          0           0   \n",
       "2      Tamil Nadu   497066    8307   497066     8307          0           0   \n",
       "3       Karnataka   449551    7161   449551     7161          0           0   \n",
       "4   Uttar Pradesh   305831    4349   305831     4349          0           0   \n",
       "\n",
       "   Fatality Rate  \n",
       "0           2.81  \n",
       "1           0.87  \n",
       "2           1.67  \n",
       "3           1.59  \n",
       "4           1.42  "
      ]
     },
     "execution_count": 13,
     "metadata": {},
     "output_type": "execute_result"
    }
   ],
   "source": [
    "#hide\n",
    "df_table.head()"
   ]
  },
  {
   "cell_type": "code",
   "execution_count": 14,
   "metadata": {
    "execution": {
     "iopub.execute_input": "2020-09-13T05:51:28.687844Z",
     "iopub.status.busy": "2020-09-13T05:51:28.687313Z",
     "iopub.status.idle": "2020-09-13T05:51:28.703748Z",
     "shell.execute_reply": "2020-09-13T05:51:28.703252Z"
    },
    "papermill": {
     "duration": 0.039091,
     "end_time": "2020-09-13T05:51:28.703859",
     "exception": false,
     "start_time": "2020-09-13T05:51:28.664768",
     "status": "completed"
    },
    "tags": []
   },
   "outputs": [
    {
     "data": {
      "text/plain": [
       "{'updated': '2020-09-13',\n",
       " 'since': '2020-09-12',\n",
       " 'Cases': 4754668,\n",
       " 'PCases': 4751788,\n",
       " 'Deaths': 78637,\n",
       " 'PDeaths': 78614,\n",
       " 'Cases (+)': 2880,\n",
       " 'Deaths (+)': 23}"
      ]
     },
     "execution_count": 14,
     "metadata": {},
     "output_type": "execute_result"
    }
   ],
   "source": [
    "#hide\n",
    "summary = {'updated':dates[-1], 'since':dates[-2]}\n",
    "list_names = ['Cases', 'PCases', 'Deaths', 'PDeaths', 'Cases (+)', 'Deaths (+)']\n",
    "for name in list_names:\n",
    "    summary[name] = df_table.sum()[name]\n",
    "summary"
   ]
  },
  {
   "cell_type": "code",
   "execution_count": 15,
   "metadata": {
    "execution": {
     "iopub.execute_input": "2020-09-13T05:51:28.739493Z",
     "iopub.status.busy": "2020-09-13T05:51:28.738952Z",
     "iopub.status.idle": "2020-09-13T05:51:28.741493Z",
     "shell.execute_reply": "2020-09-13T05:51:28.741069Z"
    },
    "papermill": {
     "duration": 0.022323,
     "end_time": "2020-09-13T05:51:28.741593",
     "exception": false,
     "start_time": "2020-09-13T05:51:28.719270",
     "status": "completed"
    },
    "tags": []
   },
   "outputs": [],
   "source": [
    "#hide\n",
    "overview = '''\n",
    "<!-- #######  HTML!! #########-->\n",
    "<h1 style=\"color: #5e9ca0; text-align: center;\">India</h1>\n",
    "<p style=\"text-align: center;\">Last update: <strong>{update}</strong></p>\n",
    "<p style=\"text-align: center;\">Confirmed cases:</p>\n",
    "<p style=\"text-align: center;font-size:24px;\">{cases} (<span style=\"color: #ff0000;\">+{new}</span>)</p>\n",
    "<p style=\"text-align: center;\">Confirmed deaths:</p>\n",
    "<p style=\"text-align: center;font-size:24px;\">{deaths} (<span style=\"color: #ff0000;\">+{dnew}</span>)</p>\n",
    "'''"
   ]
  },
  {
   "cell_type": "code",
   "execution_count": 16,
   "metadata": {
    "execution": {
     "iopub.execute_input": "2020-09-13T05:51:28.777850Z",
     "iopub.status.busy": "2020-09-13T05:51:28.777323Z",
     "iopub.status.idle": "2020-09-13T05:51:28.781869Z",
     "shell.execute_reply": "2020-09-13T05:51:28.781418Z"
    },
    "papermill": {
     "duration": 0.025386,
     "end_time": "2020-09-13T05:51:28.781975",
     "exception": false,
     "start_time": "2020-09-13T05:51:28.756589",
     "status": "completed"
    },
    "tags": []
   },
   "outputs": [
    {
     "data": {
      "text/html": [
       "\n",
       "<!-- #######  HTML!! #########-->\n",
       "<h1 style=\"color: #5e9ca0; text-align: center;\">India</h1>\n",
       "<p style=\"text-align: center;\">Last update: <strong>2020-09-13</strong></p>\n",
       "<p style=\"text-align: center;\">Confirmed cases:</p>\n",
       "<p style=\"text-align: center;font-size:24px;\">4754668 (<span style=\"color: #ff0000;\">+2880</span>)</p>\n",
       "<p style=\"text-align: center;\">Confirmed deaths:</p>\n",
       "<p style=\"text-align: center;font-size:24px;\">78637 (<span style=\"color: #ff0000;\">+23</span>)</p>\n"
      ],
      "text/plain": [
       "<IPython.core.display.HTML object>"
      ]
     },
     "metadata": {},
     "output_type": "display_data"
    }
   ],
   "source": [
    "#hide_input\n",
    "update = summary['updated']\n",
    "cases = summary['Cases']\n",
    "new = summary['Cases (+)']\n",
    "deaths = summary['Deaths']\n",
    "dnew = summary['Deaths (+)']\n",
    "\n",
    "html = HTML(overview.format(update=update, cases=cases,new=new,deaths=deaths,dnew=dnew))\n",
    "\n",
    "display(html)"
   ]
  },
  {
   "cell_type": "code",
   "execution_count": 17,
   "metadata": {
    "execution": {
     "iopub.execute_input": "2020-09-13T05:51:28.823400Z",
     "iopub.status.busy": "2020-09-13T05:51:28.822803Z",
     "iopub.status.idle": "2020-09-13T05:51:28.828759Z",
     "shell.execute_reply": "2020-09-13T05:51:28.828297Z"
    },
    "papermill": {
     "duration": 0.031561,
     "end_time": "2020-09-13T05:51:28.828862",
     "exception": false,
     "start_time": "2020-09-13T05:51:28.797301",
     "status": "completed"
    },
    "tags": []
   },
   "outputs": [],
   "source": [
    "#hide\n",
    "dt_cols = list(dft_cases.columns[1:])\n",
    "dft_ct_new_cases = dft_cases.groupby('state')[dt_cols].sum().diff(axis=1).fillna(0).astype(int)\n",
    "dft_ct_new_cases.sort_values(by = dates[-1], ascending = False,inplace = True)"
   ]
  },
  {
   "cell_type": "code",
   "execution_count": 18,
   "metadata": {
    "execution": {
     "iopub.execute_input": "2020-09-13T05:51:28.876169Z",
     "iopub.status.busy": "2020-09-13T05:51:28.875638Z",
     "iopub.status.idle": "2020-09-13T05:51:28.878491Z",
     "shell.execute_reply": "2020-09-13T05:51:28.878035Z"
    },
    "papermill": {
     "duration": 0.033932,
     "end_time": "2020-09-13T05:51:28.878601",
     "exception": false,
     "start_time": "2020-09-13T05:51:28.844669",
     "status": "completed"
    },
    "tags": []
   },
   "outputs": [
    {
     "data": {
      "text/html": [
       "<div>\n",
       "<style scoped>\n",
       "    .dataframe tbody tr th:only-of-type {\n",
       "        vertical-align: middle;\n",
       "    }\n",
       "\n",
       "    .dataframe tbody tr th {\n",
       "        vertical-align: top;\n",
       "    }\n",
       "\n",
       "    .dataframe thead th {\n",
       "        text-align: right;\n",
       "    }\n",
       "</style>\n",
       "<table border=\"1\" class=\"dataframe\">\n",
       "  <thead>\n",
       "    <tr style=\"text-align: right;\">\n",
       "      <th>states</th>\n",
       "      <th>2020-07-01</th>\n",
       "      <th>2020-07-02</th>\n",
       "      <th>2020-07-03</th>\n",
       "      <th>2020-07-04</th>\n",
       "      <th>2020-07-05</th>\n",
       "      <th>2020-07-06</th>\n",
       "      <th>2020-07-07</th>\n",
       "      <th>2020-07-08</th>\n",
       "      <th>2020-07-09</th>\n",
       "      <th>2020-07-10</th>\n",
       "      <th>...</th>\n",
       "      <th>2020-09-04</th>\n",
       "      <th>2020-09-05</th>\n",
       "      <th>2020-09-06</th>\n",
       "      <th>2020-09-07</th>\n",
       "      <th>2020-09-08</th>\n",
       "      <th>2020-09-09</th>\n",
       "      <th>2020-09-10</th>\n",
       "      <th>2020-09-11</th>\n",
       "      <th>2020-09-12</th>\n",
       "      <th>2020-09-13</th>\n",
       "    </tr>\n",
       "    <tr>\n",
       "      <th>state</th>\n",
       "      <th></th>\n",
       "      <th></th>\n",
       "      <th></th>\n",
       "      <th></th>\n",
       "      <th></th>\n",
       "      <th></th>\n",
       "      <th></th>\n",
       "      <th></th>\n",
       "      <th></th>\n",
       "      <th></th>\n",
       "      <th></th>\n",
       "      <th></th>\n",
       "      <th></th>\n",
       "      <th></th>\n",
       "      <th></th>\n",
       "      <th></th>\n",
       "      <th></th>\n",
       "      <th></th>\n",
       "      <th></th>\n",
       "      <th></th>\n",
       "      <th></th>\n",
       "    </tr>\n",
       "  </thead>\n",
       "  <tbody>\n",
       "    <tr>\n",
       "      <th>Telangana</th>\n",
       "      <td>0</td>\n",
       "      <td>1213</td>\n",
       "      <td>1892</td>\n",
       "      <td>1850</td>\n",
       "      <td>1590</td>\n",
       "      <td>1831</td>\n",
       "      <td>1879</td>\n",
       "      <td>1924</td>\n",
       "      <td>1410</td>\n",
       "      <td>1278</td>\n",
       "      <td>...</td>\n",
       "      <td>2478</td>\n",
       "      <td>2511</td>\n",
       "      <td>2574</td>\n",
       "      <td>1802</td>\n",
       "      <td>2392</td>\n",
       "      <td>2479</td>\n",
       "      <td>2534</td>\n",
       "      <td>2426</td>\n",
       "      <td>2278</td>\n",
       "      <td>2216</td>\n",
       "    </tr>\n",
       "    <tr>\n",
       "      <th>Tripura</th>\n",
       "      <td>0</td>\n",
       "      <td>39</td>\n",
       "      <td>93</td>\n",
       "      <td>25</td>\n",
       "      <td>23</td>\n",
       "      <td>111</td>\n",
       "      <td>24</td>\n",
       "      <td>57</td>\n",
       "      <td>16</td>\n",
       "      <td>142</td>\n",
       "      <td>...</td>\n",
       "      <td>524</td>\n",
       "      <td>691</td>\n",
       "      <td>603</td>\n",
       "      <td>399</td>\n",
       "      <td>628</td>\n",
       "      <td>582</td>\n",
       "      <td>535</td>\n",
       "      <td>559</td>\n",
       "      <td>470</td>\n",
       "      <td>629</td>\n",
       "    </tr>\n",
       "    <tr>\n",
       "      <th>Mizoram</th>\n",
       "      <td>0</td>\n",
       "      <td>2</td>\n",
       "      <td>0</td>\n",
       "      <td>2</td>\n",
       "      <td>22</td>\n",
       "      <td>11</td>\n",
       "      <td>1</td>\n",
       "      <td>5</td>\n",
       "      <td>0</td>\n",
       "      <td>23</td>\n",
       "      <td>...</td>\n",
       "      <td>6</td>\n",
       "      <td>16</td>\n",
       "      <td>31</td>\n",
       "      <td>21</td>\n",
       "      <td>9</td>\n",
       "      <td>69</td>\n",
       "      <td>141</td>\n",
       "      <td>20</td>\n",
       "      <td>26</td>\n",
       "      <td>35</td>\n",
       "    </tr>\n",
       "    <tr>\n",
       "      <th>Andaman and Nicobar Islands</th>\n",
       "      <td>0</td>\n",
       "      <td>9</td>\n",
       "      <td>7</td>\n",
       "      <td>3</td>\n",
       "      <td>6</td>\n",
       "      <td>16</td>\n",
       "      <td>6</td>\n",
       "      <td>2</td>\n",
       "      <td>7</td>\n",
       "      <td>0</td>\n",
       "      <td>...</td>\n",
       "      <td>34</td>\n",
       "      <td>35</td>\n",
       "      <td>40</td>\n",
       "      <td>27</td>\n",
       "      <td>33</td>\n",
       "      <td>34</td>\n",
       "      <td>39</td>\n",
       "      <td>29</td>\n",
       "      <td>27</td>\n",
       "      <td>0</td>\n",
       "    </tr>\n",
       "    <tr>\n",
       "      <th>Puducherry</th>\n",
       "      <td>0</td>\n",
       "      <td>63</td>\n",
       "      <td>22</td>\n",
       "      <td>80</td>\n",
       "      <td>42</td>\n",
       "      <td>65</td>\n",
       "      <td>30</td>\n",
       "      <td>110</td>\n",
       "      <td>49</td>\n",
       "      <td>72</td>\n",
       "      <td>...</td>\n",
       "      <td>591</td>\n",
       "      <td>394</td>\n",
       "      <td>466</td>\n",
       "      <td>284</td>\n",
       "      <td>433</td>\n",
       "      <td>335</td>\n",
       "      <td>452</td>\n",
       "      <td>490</td>\n",
       "      <td>419</td>\n",
       "      <td>0</td>\n",
       "    </tr>\n",
       "  </tbody>\n",
       "</table>\n",
       "<p>5 rows × 75 columns</p>\n",
       "</div>"
      ],
      "text/plain": [
       "states                       2020-07-01  2020-07-02  2020-07-03  2020-07-04  \\\n",
       "state                                                                         \n",
       "Telangana                             0        1213        1892        1850   \n",
       "Tripura                               0          39          93          25   \n",
       "Mizoram                               0           2           0           2   \n",
       "Andaman and Nicobar Islands           0           9           7           3   \n",
       "Puducherry                            0          63          22          80   \n",
       "\n",
       "states                       2020-07-05  2020-07-06  2020-07-07  2020-07-08  \\\n",
       "state                                                                         \n",
       "Telangana                          1590        1831        1879        1924   \n",
       "Tripura                              23         111          24          57   \n",
       "Mizoram                              22          11           1           5   \n",
       "Andaman and Nicobar Islands           6          16           6           2   \n",
       "Puducherry                           42          65          30         110   \n",
       "\n",
       "states                       2020-07-09  2020-07-10  ...  2020-09-04  \\\n",
       "state                                                ...               \n",
       "Telangana                          1410        1278  ...        2478   \n",
       "Tripura                              16         142  ...         524   \n",
       "Mizoram                               0          23  ...           6   \n",
       "Andaman and Nicobar Islands           7           0  ...          34   \n",
       "Puducherry                           49          72  ...         591   \n",
       "\n",
       "states                       2020-09-05  2020-09-06  2020-09-07  2020-09-08  \\\n",
       "state                                                                         \n",
       "Telangana                          2511        2574        1802        2392   \n",
       "Tripura                             691         603         399         628   \n",
       "Mizoram                              16          31          21           9   \n",
       "Andaman and Nicobar Islands          35          40          27          33   \n",
       "Puducherry                          394         466         284         433   \n",
       "\n",
       "states                       2020-09-09  2020-09-10  2020-09-11  2020-09-12  \\\n",
       "state                                                                         \n",
       "Telangana                          2479        2534        2426        2278   \n",
       "Tripura                             582         535         559         470   \n",
       "Mizoram                              69         141          20          26   \n",
       "Andaman and Nicobar Islands          34          39          29          27   \n",
       "Puducherry                          335         452         490         419   \n",
       "\n",
       "states                       2020-09-13  \n",
       "state                                    \n",
       "Telangana                          2216  \n",
       "Tripura                             629  \n",
       "Mizoram                              35  \n",
       "Andaman and Nicobar Islands           0  \n",
       "Puducherry                            0  \n",
       "\n",
       "[5 rows x 75 columns]"
      ]
     },
     "execution_count": 18,
     "metadata": {},
     "output_type": "execute_result"
    }
   ],
   "source": [
    "#hide\n",
    "dft_ct_new_cases.head()"
   ]
  },
  {
   "cell_type": "code",
   "execution_count": 19,
   "metadata": {
    "execution": {
     "iopub.execute_input": "2020-09-13T05:51:28.931179Z",
     "iopub.status.busy": "2020-09-13T05:51:28.920640Z",
     "iopub.status.idle": "2020-09-13T05:51:31.937298Z",
     "shell.execute_reply": "2020-09-13T05:51:31.936847Z"
    },
    "papermill": {
     "duration": 3.04169,
     "end_time": "2020-09-13T05:51:31.937434",
     "exception": false,
     "start_time": "2020-09-13T05:51:28.895744",
     "status": "completed"
    },
    "tags": []
   },
   "outputs": [
    {
     "data": {
      "image/png": "[encoded data removed]",
      "text/plain": [
       "<Figure size 1296x2016 with 11 Axes>"
      ]
     },
     "metadata": {
      "needs_background": "light"
     },
     "output_type": "display_data"
    }
   ],
   "source": [
    "#hide_input\n",
    "df = dft_ct_new_cases.copy()\n",
    "df.loc['Total'] = df.sum()\n",
    "n = 5\n",
    "ax = []\n",
    "fig = plt.figure(figsize = (18,28))\n",
    "gs = fig.add_gridspec(n+2, 5)\n",
    "# gs = fig.add_gridspec(2, 3)\n",
    "ax1 = fig.add_subplot(gs[0, :])\n",
    "ef = df.loc['Total'].rename_axis('date').reset_index()\n",
    "ef['date'] = ef['date'].astype('datetime64[ns]')\n",
    "ax1.bar(ef.date,ef.Total,alpha=0.3,color='#007acc')\n",
    "ax1.plot(ef.date,ef.Total , marker=\"o\", color='#007acc')\n",
    "ax1.xaxis.set_major_locator(mdates.WeekdayLocator())\n",
    "ax1.xaxis.set_major_formatter(mdates.DateFormatter('%b %d'))\n",
    "ax1.text(0.02, 0.5,'India daily case count', transform = ax1.transAxes, fontsize=25);\n",
    "ax1.spines['right'].set_visible(False)\n",
    "ax1.spines['top'].set_visible(False)\n",
    "\n",
    "ax2 = fig.add_subplot(gs[1,0])\n",
    "ef = df.loc['Maharashtra'].rename_axis('date').reset_index()\n",
    "ef['date'] = ef['date'].astype('datetime64[ns]')\n",
    "\n",
    "ax2.bar(ef.date, ef.Maharashtra,color = '#007acc',alpha=0.5)\n",
    "ax2.xaxis.set_major_locator(mdates.WeekdayLocator())\n",
    "ax2.xaxis.set_major_formatter(mdates.DateFormatter('%b %d'))\n",
    "ax2.set_xticks(ax2.get_xticks()[::3])\n",
    "maxyval = ef.Maharashtra.max()\n",
    "ax2.set_ylim([0,maxyval])\n",
    "ax2.text(0.05, 0.9,'Maharashtra', transform = ax2.transAxes, fontsize=20);\n",
    "ax2.spines['right'].set_visible(False)\n",
    "ax2.spines['top'].set_visible(False)\n",
    "\n",
    "\n",
    "ax3 = fig.add_subplot(gs[1,1])\n",
    "ef = df.loc['Tamil Nadu'].rename_axis('date').reset_index()\n",
    "ef['date'] = ef['date'].astype('datetime64[ns]')\n",
    "ax3.bar(ef.date, ef['Tamil Nadu'],color = '#007acc',alpha=0.5,)\n",
    "ax3.xaxis.set_major_locator(mdates.WeekdayLocator())\n",
    "ax3.xaxis.set_major_formatter(mdates.DateFormatter('%b %d'))\n",
    "ax3.set_xticks(ax3.get_xticks()[::3])\n",
    "ax3.text(0.05, 0.9,'Tamil Nadu', transform = ax3.transAxes, fontsize=20);\n",
    "ax3.spines['right'].set_visible(False)\n",
    "ax3.spines['top'].set_visible(False)\n",
    "\n",
    "ax5 = fig.add_subplot(gs[1,3])\n",
    "ef = df.loc['Telangana'].rename_axis('date').reset_index()\n",
    "ef['date'] = ef['date'].astype('datetime64[ns]')\n",
    "ax5.bar(ef.date, ef['Telangana'],color = '#007acc',alpha=0.5,)\n",
    "ax5.xaxis.set_major_locator(mdates.WeekdayLocator())\n",
    "ax5.xaxis.set_major_formatter(mdates.DateFormatter('%b %d'))\n",
    "ax5.set_xticks(ax5.get_xticks()[::3])\n",
    "ax5.text(0.05, 0.9,'Telangana', transform = ax5.transAxes, fontsize=20);\n",
    "ax5.spines['right'].set_visible(False)\n",
    "ax5.spines['top'].set_visible(False)\n",
    "\n",
    "ax6 = fig.add_subplot(gs[1,4])\n",
    "ef = df.loc['Andhra Pradesh'].rename_axis('date').reset_index()\n",
    "ef['date'] = ef['date'].astype('datetime64[ns]')\n",
    "ax6.bar(ef.date, ef['Andhra Pradesh'],color = '#007acc',alpha=0.5,)\n",
    "ax6.xaxis.set_major_locator(mdates.WeekdayLocator())\n",
    "ax6.xaxis.set_major_formatter(mdates.DateFormatter('%b %d'))\n",
    "ax6.set_xticks(ax6.get_xticks()[::3])\n",
    "ax6.text(0.05, 1,'Andhra Pradesh', transform = ax6.transAxes, fontsize=20);\n",
    "ax6.spines['right'].set_visible(False)\n",
    "ax6.spines['top'].set_visible(False)\n",
    "\n",
    "ax4 = fig.add_subplot(gs[1,2])\n",
    "ef = df.loc['Delhi'].rename_axis('date').reset_index()\n",
    "ef['date'] = ef['date'].astype('datetime64[ns]')\n",
    "ax4.bar(ef.date, ef.Delhi,color = '#007acc',alpha=0.5)\n",
    "ax4.set_xticks([])\n",
    "ax4.xaxis.set_major_locator(mdates.WeekdayLocator())\n",
    "ax4.xaxis.set_major_formatter(mdates.DateFormatter('%b %d'))\n",
    "ax4.set_xticks(ax4.get_xticks()[::3])\n",
    "ax4.spines['right'].set_visible(False)\n",
    "ax4.spines['top'].set_visible(False)\n",
    "\n",
    "ax4.text(0.05, 1,'Delhi', transform = ax4.transAxes, fontsize=20)\n",
    "\n",
    "for i in range(n):\n",
    "    \n",
    "    ax.append(fig.add_subplot(gs[i+2,:]))\n",
    "    ef = df.iloc[i+3].rename_axis('date').reset_index()\n",
    "    ef['date'] = ef['date'].astype('datetime64[ns]')\n",
    "    ax[i].bar(ef.date,ef.iloc[:,-1],color = '#007acc',alpha=0.3)\n",
    "    ax[i].plot(ef.date,ef.iloc[:,-1],marker='o',color='#007acc')\n",
    "    ax[i].text(0.02,0.5,f'{ef.columns.values[-1]}',transform = ax[i].transAxes, fontsize = 20);\n",
    "    ax[i].xaxis.set_major_locator(mdates.WeekdayLocator())\n",
    "    ax[i].xaxis.set_major_formatter(mdates.DateFormatter('%b %d'))\n",
    "    ax[i].set_ylim([0,7000])\n",
    "    ax[i].spines['right'].set_visible(False)\n",
    "    ax[i].spines['top'].set_visible(False)\n",
    "plt.tight_layout()\n"
   ]
  },
  {
   "cell_type": "code",
   "execution_count": 20,
   "metadata": {
    "execution": {
     "iopub.execute_input": "2020-09-13T05:51:32.668610Z",
     "iopub.status.busy": "2020-09-13T05:51:32.667922Z",
     "iopub.status.idle": "2020-09-13T05:51:32.670551Z",
     "shell.execute_reply": "2020-09-13T05:51:32.671167Z"
    },
    "papermill": {
     "duration": 0.680763,
     "end_time": "2020-09-13T05:51:32.671321",
     "exception": false,
     "start_time": "2020-09-13T05:51:31.990558",
     "status": "completed"
    },
    "tags": []
   },
   "outputs": [
    {
     "name": "stdout",
     "output_type": "stream",
     "text": [
      "                                   states    Cases  Deaths   PCases  PDeaths  Cases (+)  Deaths (+)  Fatality Rate\n",
      "                              Maharashtra  1037765   29115  1037765    29115          0           0           2.81\n",
      "                           Andhra Pradesh   557587    4846   557587     4846          0           0           0.87\n",
      "                               Tamil Nadu   497066    8307   497066     8307          0           0           1.67\n",
      "                                Karnataka   449551    7161   449551     7161          0           0           1.59\n",
      "                            Uttar Pradesh   305831    4349   305831     4349          0           0           1.42\n",
      "                                    Delhi   214069    4715   214069     4715          0           0           2.20\n",
      "                              West Bengal   199493    3887   199493     3887          0           0           1.95\n",
      "                                Telangana   157096     961   154880      950       2216          11           0.61\n",
      "                                    Bihar   156866     808   156866      808          0           0           0.52\n",
      "                                   Odisha   146894     669   146894      669          0           0           0.46\n",
      "                                    Assam   140471     453   140471      453          0           0           0.32\n",
      "                                  Gujarat   112336    3196   112336     3196          0           0           2.85\n",
      "                                   Kerala   105140     426   105140      426          0           0           0.41\n",
      "                                Rajasthan   100705    1221   100705     1221          0           0           1.21\n",
      "                                  Haryana    91115     956    91115      956          0           0           1.05\n",
      "                           Madhya Pradesh    85966    1728    85966     1728          0           0           2.01\n",
      "                                   Punjab    77057    2288    77057     2288          0           0           2.97\n",
      "                             Chhattisgarh    61763     539    61763      539          0           0           0.87\n",
      "                                Jharkhand    60460     542    60460      542          0           0           0.90\n",
      "                        Jammu and Kashmir    52410     864    52410      864          0           0           1.65\n",
      "                              Uttarakhand    30336     402    30336      402          0           0           1.33\n",
      "                                      Goa    24185     286    24185      286          0           0           1.18\n",
      "                               Puducherry    19445     370    19445      370          0           0           1.90\n",
      "                                  Tripura    18929     194    18300      182        629          12           1.02\n",
      "                         Himachal Pradesh     9229      72     9229       72          0           0           0.78\n",
      "                                  Manipur     7731      45     7731       45          0           0           0.58\n",
      "                               Chandigarh     7542      89     7542       89          0           0           1.18\n",
      "                        Arunachal Pradesh     5961      10     5961       10          0           0           0.17\n",
      "                                 Nagaland     5064       8     5064        8          0           0           0.16\n",
      "                                Meghalaya     3615      25     3615       25          0           0           0.69\n",
      "              Andaman and Nicobar Islands     3521      51     3521       51          0           0           1.45\n",
      "                                   Ladakh     3294      39     3294       39          0           0           1.18\n",
      " Dadra and Nagar Haveli and Daman and Diu     2706       2     2706        2          0           0           0.07\n",
      "                                   Sikkim     2055      13     2055       13          0           0           0.63\n",
      "                                  Mizoram     1414       0     1379        0         35           0           0.00\n",
      "                              Lakshadweep        0       0        0        0          0           0            NaN\n"
     ]
    }
   ],
   "source": [
    "#hide_input\n",
    "print(df_table.to_string(index=False))"
   ]
  },
  {
   "cell_type": "code",
   "execution_count": null,
   "metadata": {
    "papermill": {
     "duration": 0.045106,
     "end_time": "2020-09-13T05:51:32.744077",
     "exception": false,
     "start_time": "2020-09-13T05:51:32.698971",
     "status": "completed"
    },
    "tags": []
   },
   "outputs": [],
   "source": []
  },
  {
   "cell_type": "code",
   "execution_count": null,
   "metadata": {
    "papermill": {
     "duration": 0.047848,
     "end_time": "2020-09-13T05:51:32.837836",
     "exception": false,
     "start_time": "2020-09-13T05:51:32.789988",
     "status": "completed"
    },
    "tags": []
   },
   "outputs": [],
   "source": []
  }
 ],
 "metadata": {
  "kernelspec": {
   "display_name": "Python 3",
   "language": "python",
   "name": "python3"
  },
  "language_info": {
   "codemirror_mode": {
    "name": "ipython",
    "version": 3
   },
   "file_extension": ".py",
   "mimetype": "text/x-python",
   "name": "python",
   "nbconvert_exporter": "python",
   "pygments_lexer": "ipython3",
   "version": "3.6.12"
  },
  "papermill": {
   "duration": 9.291424,
   "end_time": "2020-09-13T05:51:33.276125",
   "environment_variables": {},
   "exception": null,
   "input_path": "latest.ipynb",
   "output_path": "latest.ipynb",
   "parameters": {},
   "start_time": "2020-09-13T05:51:23.984701",
   "version": "2.1.2"
  }
 },
 "nbformat": 4,
 "nbformat_minor": 4
}