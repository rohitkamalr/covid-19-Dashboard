{
 "cells": [
  {
   "cell_type": "markdown",
   "metadata": {
    "papermill": {
     "duration": 0.017503,
     "end_time": "2020-12-17T12:34:37.989299",
     "exception": false,
     "start_time": "2020-12-17T12:34:37.971796",
     "status": "completed"
    },
    "tags": []
   },
   "source": [
    "# Latest COVID-19 India Matplotlib Overview"
   ]
  },
  {
   "cell_type": "code",
   "execution_count": 1,
   "metadata": {
    "execution": {
     "iopub.execute_input": "2020-12-17T12:34:38.029461Z",
     "iopub.status.busy": "2020-12-17T12:34:38.028864Z",
     "iopub.status.idle": "2020-12-17T12:34:38.564793Z",
     "shell.execute_reply": "2020-12-17T12:34:38.564265Z"
    },
    "papermill": {
     "duration": 0.561325,
     "end_time": "2020-12-17T12:34:38.564981",
     "exception": false,
     "start_time": "2020-12-17T12:34:38.003656",
     "status": "completed"
    },
    "tags": []
   },
   "outputs": [],
   "source": [
    "#hide\n",
    "import pandas as pd\n",
    "import numpy as np\n",
    "import requests\n",
    "import json\n",
    "import matplotlib.pyplot as plt\n",
    "import matplotlib.dates as mdates\n",
    "import matplotlib as mpl\n",
    "from IPython.core.display import display,HTML\n",
    "%matplotlib inline\n",
    "from datetime import date"
   ]
  },
  {
   "cell_type": "code",
   "execution_count": 2,
   "metadata": {
    "execution": {
     "iopub.execute_input": "2020-12-17T12:34:38.599702Z",
     "iopub.status.busy": "2020-12-17T12:34:38.598834Z",
     "iopub.status.idle": "2020-12-17T12:34:38.898079Z",
     "shell.execute_reply": "2020-12-17T12:34:38.898547Z"
    },
    "papermill": {
     "duration": 0.319937,
     "end_time": "2020-12-17T12:34:38.898719",
     "exception": false,
     "start_time": "2020-12-17T12:34:38.578782",
     "status": "completed"
    },
    "tags": []
   },
   "outputs": [],
   "source": [
    "#hide\n",
    "df  = pd.read_csv('https://api.covid19india.org/csv/latest/states.csv')\n",
    "df = df[['Date','State','Confirmed','Deceased']]\n",
    "df = df.rename(columns={'Confirmed':'Cases', \"Deceased\":'Deaths'})\n",
    "df_cases = df[[\"Date\",'State','Cases']]\n",
    "df_deaths = df[['Date','State','Deaths']]\n",
    "df_cases1 = df_cases.groupby('Date')\n",
    "df_deaths1= df_deaths.groupby('Date')"
   ]
  },
  {
   "cell_type": "code",
   "execution_count": 3,
   "metadata": {
    "execution": {
     "iopub.execute_input": "2020-12-17T12:34:38.931111Z",
     "iopub.status.busy": "2020-12-17T12:34:38.930601Z",
     "iopub.status.idle": "2020-12-17T12:34:38.946362Z",
     "shell.execute_reply": "2020-12-17T12:34:38.945923Z"
    },
    "papermill": {
     "duration": 0.033902,
     "end_time": "2020-12-17T12:34:38.946486",
     "exception": false,
     "start_time": "2020-12-17T12:34:38.912584",
     "status": "completed"
    },
    "tags": []
   },
   "outputs": [],
   "source": [
    "#hide\n",
    "df_snap = pd.read_csv('data/SnapshotCases-28-July.csv')\n",
    "arr_states = df_snap['states'].unique()\n",
    "arr_dates = df['Date'].unique()\n",
    "df_snap = df_snap.set_index('states')"
   ]
  },
  {
   "cell_type": "code",
   "execution_count": 4,
   "metadata": {
    "execution": {
     "iopub.execute_input": "2020-12-17T12:34:38.980781Z",
     "iopub.status.busy": "2020-12-17T12:34:38.980181Z",
     "iopub.status.idle": "2020-12-17T12:34:38.982245Z",
     "shell.execute_reply": "2020-12-17T12:34:38.982717Z"
    },
    "papermill": {
     "duration": 0.022932,
     "end_time": "2020-12-17T12:34:38.982850",
     "exception": false,
     "start_time": "2020-12-17T12:34:38.959918",
     "status": "completed"
    },
    "tags": []
   },
   "outputs": [
    {
     "data": {
      "text/plain": [
       "array(['Andaman and Nicobar Islands', 'Andhra Pradesh',\n",
       "       'Arunachal Pradesh', 'Assam', 'Bihar', 'Chandigarh',\n",
       "       'Dadra and Nagar Haveli and Daman and Diu', 'Delhi', 'Goa',\n",
       "       'Gujarat', 'Haryana', 'Himachal Pradesh', 'Jammu and Kashmir',\n",
       "       'Jharkhand', 'Karnataka', 'Kerala', 'Lakshadweep',\n",
       "       'Madhya Pradesh', 'Maharashtra', 'Manipur', 'Meghalaya', 'Mizoram',\n",
       "       'Nagaland', 'Odisha', 'Puducherry', 'Punjab', 'Rajasthan',\n",
       "       'Sikkim', 'Tamil Nadu', 'Telangana', 'Tripura', 'Uttar Pradesh',\n",
       "       'West Bengal', 'Chhattisgarh', 'Ladakh', 'Uttarakhand'],\n",
       "      dtype=object)"
      ]
     },
     "execution_count": 4,
     "metadata": {},
     "output_type": "execute_result"
    }
   ],
   "source": [
    "#hide\n",
    "arr_states[-9] = 'Puducherry'\n",
    "arr_states[-10] = 'Odisha'\n",
    "arr_states[6] = 'Dadra and Nagar Haveli and Daman and Diu'\n",
    "arr_states = np.append(arr_states,np.array(['Chhattisgarh','Ladakh','Uttarakhand']))\n",
    "arr_states"
   ]
  },
  {
   "cell_type": "code",
   "execution_count": 5,
   "metadata": {
    "execution": {
     "iopub.execute_input": "2020-12-17T12:34:39.025169Z",
     "iopub.status.busy": "2020-12-17T12:34:39.024588Z",
     "iopub.status.idle": "2020-12-17T12:34:39.027295Z",
     "shell.execute_reply": "2020-12-17T12:34:39.026856Z"
    },
    "papermill": {
     "duration": 0.030852,
     "end_time": "2020-12-17T12:34:39.027414",
     "exception": false,
     "start_time": "2020-12-17T12:34:38.996562",
     "status": "completed"
    },
    "tags": []
   },
   "outputs": [],
   "source": [
    "#hide\n",
    "dates = []\n",
    "for i in arr_dates:\n",
    "    if i>='2020-07-01':\n",
    "        dates.append(i)\n",
    "dict = {'states':dates}\n",
    "for i in arr_states:\n",
    "    dict[i] = [0]*len(dates)\n",
    "dft_cases = pd.DataFrame(dict)\n",
    "dft_deaths = pd.DataFrame(dict)\n"
   ]
  },
  {
   "cell_type": "code",
   "execution_count": 6,
   "metadata": {
    "execution": {
     "iopub.execute_input": "2020-12-17T12:34:39.061377Z",
     "iopub.status.busy": "2020-12-17T12:34:39.060820Z",
     "iopub.status.idle": "2020-12-17T12:34:41.169800Z",
     "shell.execute_reply": "2020-12-17T12:34:41.169273Z"
    },
    "papermill": {
     "duration": 2.128536,
     "end_time": "2020-12-17T12:34:41.169933",
     "exception": false,
     "start_time": "2020-12-17T12:34:39.041397",
     "status": "completed"
    },
    "tags": []
   },
   "outputs": [],
   "source": [
    "#hide\n",
    "for i in range(len(dates)):\n",
    "    df1_deaths = df_deaths1.get_group(dates[i])\n",
    "    for j in range(len(df1_deaths.index)):\n",
    "        if df1_deaths.iloc[j,1] in arr_states:\n",
    "            dft_deaths.loc[i,df1_deaths.iloc[j,1]] = df1_deaths.iloc[j,2]\n",
    "dft_deaths = dft_deaths.set_index('states')"
   ]
  },
  {
   "cell_type": "code",
   "execution_count": 7,
   "metadata": {
    "execution": {
     "iopub.execute_input": "2020-12-17T12:34:41.204319Z",
     "iopub.status.busy": "2020-12-17T12:34:41.203796Z",
     "iopub.status.idle": "2020-12-17T12:34:43.328060Z",
     "shell.execute_reply": "2020-12-17T12:34:43.327592Z"
    },
    "papermill": {
     "duration": 2.144135,
     "end_time": "2020-12-17T12:34:43.328192",
     "exception": false,
     "start_time": "2020-12-17T12:34:41.184057",
     "status": "completed"
    },
    "tags": []
   },
   "outputs": [],
   "source": [
    "#hide\n",
    "for i in range(len(dates)):\n",
    "    df1_cases = df_cases1.get_group(dates[i])\n",
    "    for j in range(len(df1_cases.index)):\n",
    "        if df1_cases.iloc[j,1] in arr_states:\n",
    "            dft_cases.loc[i,df1_cases.iloc[j,1]] = df1_cases.iloc[j,2]\n",
    "dft_cases = dft_cases.set_index('states')"
   ]
  },
  {
   "cell_type": "code",
   "execution_count": 8,
   "metadata": {
    "execution": {
     "iopub.execute_input": "2020-12-17T12:34:43.362578Z",
     "iopub.status.busy": "2020-12-17T12:34:43.362011Z",
     "iopub.status.idle": "2020-12-17T12:34:43.365829Z",
     "shell.execute_reply": "2020-12-17T12:34:43.365394Z"
    },
    "papermill": {
     "duration": 0.022965,
     "end_time": "2020-12-17T12:34:43.365959",
     "exception": false,
     "start_time": "2020-12-17T12:34:43.342994",
     "status": "completed"
    },
    "tags": []
   },
   "outputs": [],
   "source": [
    "#hide\n",
    "dft_cases = dft_cases.T\n",
    "dft_deaths = dft_deaths.T\n",
    "dt_today = dates[-1]\n",
    "dt_yday = dates[-2]"
   ]
  },
  {
   "cell_type": "code",
   "execution_count": 9,
   "metadata": {
    "execution": {
     "iopub.execute_input": "2020-12-17T12:34:43.401513Z",
     "iopub.status.busy": "2020-12-17T12:34:43.400763Z",
     "iopub.status.idle": "2020-12-17T12:34:43.405175Z",
     "shell.execute_reply": "2020-12-17T12:34:43.404722Z"
    },
    "papermill": {
     "duration": 0.025383,
     "end_time": "2020-12-17T12:34:43.405308",
     "exception": false,
     "start_time": "2020-12-17T12:34:43.379925",
     "status": "completed"
    },
    "tags": []
   },
   "outputs": [],
   "source": [
    "#hide\n",
    "dft_cases = dft_cases.reset_index()\n",
    "dft_deaths = dft_deaths.reset_index()\n",
    "dft_cases = dft_cases.rename(columns = {'index':'state'})\n",
    "dft_deaths = dft_deaths.rename(columns = {'index':'state'})"
   ]
  },
  {
   "cell_type": "code",
   "execution_count": 10,
   "metadata": {
    "execution": {
     "iopub.execute_input": "2020-12-17T12:34:43.443036Z",
     "iopub.status.busy": "2020-12-17T12:34:43.441421Z",
     "iopub.status.idle": "2020-12-17T12:34:43.447502Z",
     "shell.execute_reply": "2020-12-17T12:34:43.447082Z"
    },
    "papermill": {
     "duration": 0.027401,
     "end_time": "2020-12-17T12:34:43.447632",
     "exception": false,
     "start_time": "2020-12-17T12:34:43.420231",
     "status": "completed"
    },
    "tags": []
   },
   "outputs": [],
   "source": [
    "#hide\n",
    "dfc_cases = dft_cases.groupby('state')[dt_today].sum()\n",
    "dfc_deaths = dft_deaths.groupby('state')[dt_today].sum()\n",
    "dfp_cases = dft_cases.groupby('state')[dt_yday].sum()\n",
    "dfp_deaths = dft_deaths.groupby('state')[dt_yday].sum()"
   ]
  },
  {
   "cell_type": "code",
   "execution_count": 11,
   "metadata": {
    "execution": {
     "iopub.execute_input": "2020-12-17T12:34:43.485421Z",
     "iopub.status.busy": "2020-12-17T12:34:43.484837Z",
     "iopub.status.idle": "2020-12-17T12:34:43.496022Z",
     "shell.execute_reply": "2020-12-17T12:34:43.496410Z"
    },
    "papermill": {
     "duration": 0.034763,
     "end_time": "2020-12-17T12:34:43.496559",
     "exception": false,
     "start_time": "2020-12-17T12:34:43.461796",
     "status": "completed"
    },
    "tags": []
   },
   "outputs": [
    {
     "data": {
      "text/html": [
       "<div>\n",
       "<style scoped>\n",
       "    .dataframe tbody tr th:only-of-type {\n",
       "        vertical-align: middle;\n",
       "    }\n",
       "\n",
       "    .dataframe tbody tr th {\n",
       "        vertical-align: top;\n",
       "    }\n",
       "\n",
       "    .dataframe thead th {\n",
       "        text-align: right;\n",
       "    }\n",
       "</style>\n",
       "<table border=\"1\" class=\"dataframe\">\n",
       "  <thead>\n",
       "    <tr style=\"text-align: right;\">\n",
       "      <th></th>\n",
       "      <th>states</th>\n",
       "      <th>Cases</th>\n",
       "      <th>Deaths</th>\n",
       "      <th>PCases</th>\n",
       "      <th>PDeaths</th>\n",
       "    </tr>\n",
       "  </thead>\n",
       "  <tbody>\n",
       "    <tr>\n",
       "      <th>0</th>\n",
       "      <td>Maharashtra</td>\n",
       "      <td>1880893</td>\n",
       "      <td>48434</td>\n",
       "      <td>1880893</td>\n",
       "      <td>48434</td>\n",
       "    </tr>\n",
       "    <tr>\n",
       "      <th>1</th>\n",
       "      <td>Karnataka</td>\n",
       "      <td>904665</td>\n",
       "      <td>11971</td>\n",
       "      <td>904665</td>\n",
       "      <td>11971</td>\n",
       "    </tr>\n",
       "    <tr>\n",
       "      <th>2</th>\n",
       "      <td>Andhra Pradesh</td>\n",
       "      <td>876814</td>\n",
       "      <td>7067</td>\n",
       "      <td>876814</td>\n",
       "      <td>7067</td>\n",
       "    </tr>\n",
       "    <tr>\n",
       "      <th>3</th>\n",
       "      <td>Tamil Nadu</td>\n",
       "      <td>802342</td>\n",
       "      <td>11931</td>\n",
       "      <td>802342</td>\n",
       "      <td>11931</td>\n",
       "    </tr>\n",
       "    <tr>\n",
       "      <th>4</th>\n",
       "      <td>Kerala</td>\n",
       "      <td>683441</td>\n",
       "      <td>2708</td>\n",
       "      <td>683441</td>\n",
       "      <td>2708</td>\n",
       "    </tr>\n",
       "  </tbody>\n",
       "</table>\n",
       "</div>"
      ],
      "text/plain": [
       "           states    Cases  Deaths   PCases  PDeaths\n",
       "0     Maharashtra  1880893   48434  1880893    48434\n",
       "1       Karnataka   904665   11971   904665    11971\n",
       "2  Andhra Pradesh   876814    7067   876814     7067\n",
       "3      Tamil Nadu   802342   11931   802342    11931\n",
       "4          Kerala   683441    2708   683441     2708"
      ]
     },
     "execution_count": 11,
     "metadata": {},
     "output_type": "execute_result"
    }
   ],
   "source": [
    "#hide\n",
    "df_table = pd.DataFrame({'states': dfc_cases.index, 'Cases': dfc_cases.values, 'Deaths': dfc_deaths.values, 'PCases': dfp_cases.values, 'PDeaths': dfp_deaths.values}).set_index('states')\n",
    "df_table = df_table.sort_values(by = ['Cases','Deaths'], ascending = [False, False])\n",
    "df_table = df_table.reset_index()\n",
    "df_table.head()"
   ]
  },
  {
   "cell_type": "code",
   "execution_count": 12,
   "metadata": {
    "execution": {
     "iopub.execute_input": "2020-12-17T12:34:43.530946Z",
     "iopub.status.busy": "2020-12-17T12:34:43.530406Z",
     "iopub.status.idle": "2020-12-17T12:34:43.538818Z",
     "shell.execute_reply": "2020-12-17T12:34:43.539269Z"
    },
    "papermill": {
     "duration": 0.028505,
     "end_time": "2020-12-17T12:34:43.539422",
     "exception": false,
     "start_time": "2020-12-17T12:34:43.510917",
     "status": "completed"
    },
    "tags": []
   },
   "outputs": [],
   "source": [
    "#hide\n",
    "for c in 'Cases, Deaths'.split(', '):\n",
    "    df_table[f'{c} (+)'] = (df_table[c] - df_table[f'P{c}']).clip(0)\n",
    "df_table['Fatality Rate'] = (100* df_table['Deaths']/ df_table['Cases']).round(2)"
   ]
  },
  {
   "cell_type": "code",
   "execution_count": 13,
   "metadata": {
    "execution": {
     "iopub.execute_input": "2020-12-17T12:34:43.578470Z",
     "iopub.status.busy": "2020-12-17T12:34:43.577932Z",
     "iopub.status.idle": "2020-12-17T12:34:43.580252Z",
     "shell.execute_reply": "2020-12-17T12:34:43.580670Z"
    },
    "papermill": {
     "duration": 0.026974,
     "end_time": "2020-12-17T12:34:43.580816",
     "exception": false,
     "start_time": "2020-12-17T12:34:43.553842",
     "status": "completed"
    },
    "tags": []
   },
   "outputs": [
    {
     "data": {
      "text/html": [
       "<div>\n",
       "<style scoped>\n",
       "    .dataframe tbody tr th:only-of-type {\n",
       "        vertical-align: middle;\n",
       "    }\n",
       "\n",
       "    .dataframe tbody tr th {\n",
       "        vertical-align: top;\n",
       "    }\n",
       "\n",
       "    .dataframe thead th {\n",
       "        text-align: right;\n",
       "    }\n",
       "</style>\n",
       "<table border=\"1\" class=\"dataframe\">\n",
       "  <thead>\n",
       "    <tr style=\"text-align: right;\">\n",
       "      <th></th>\n",
       "      <th>states</th>\n",
       "      <th>Cases</th>\n",
       "      <th>Deaths</th>\n",
       "      <th>PCases</th>\n",
       "      <th>PDeaths</th>\n",
       "      <th>Cases (+)</th>\n",
       "      <th>Deaths (+)</th>\n",
       "      <th>Fatality Rate</th>\n",
       "    </tr>\n",
       "  </thead>\n",
       "  <tbody>\n",
       "    <tr>\n",
       "      <th>0</th>\n",
       "      <td>Maharashtra</td>\n",
       "      <td>1880893</td>\n",
       "      <td>48434</td>\n",
       "      <td>1880893</td>\n",
       "      <td>48434</td>\n",
       "      <td>0</td>\n",
       "      <td>0</td>\n",
       "      <td>2.58</td>\n",
       "    </tr>\n",
       "    <tr>\n",
       "      <th>1</th>\n",
       "      <td>Karnataka</td>\n",
       "      <td>904665</td>\n",
       "      <td>11971</td>\n",
       "      <td>904665</td>\n",
       "      <td>11971</td>\n",
       "      <td>0</td>\n",
       "      <td>0</td>\n",
       "      <td>1.32</td>\n",
       "    </tr>\n",
       "    <tr>\n",
       "      <th>2</th>\n",
       "      <td>Andhra Pradesh</td>\n",
       "      <td>876814</td>\n",
       "      <td>7067</td>\n",
       "      <td>876814</td>\n",
       "      <td>7067</td>\n",
       "      <td>0</td>\n",
       "      <td>0</td>\n",
       "      <td>0.81</td>\n",
       "    </tr>\n",
       "    <tr>\n",
       "      <th>3</th>\n",
       "      <td>Tamil Nadu</td>\n",
       "      <td>802342</td>\n",
       "      <td>11931</td>\n",
       "      <td>802342</td>\n",
       "      <td>11931</td>\n",
       "      <td>0</td>\n",
       "      <td>0</td>\n",
       "      <td>1.49</td>\n",
       "    </tr>\n",
       "    <tr>\n",
       "      <th>4</th>\n",
       "      <td>Kerala</td>\n",
       "      <td>683441</td>\n",
       "      <td>2708</td>\n",
       "      <td>683441</td>\n",
       "      <td>2708</td>\n",
       "      <td>0</td>\n",
       "      <td>0</td>\n",
       "      <td>0.40</td>\n",
       "    </tr>\n",
       "  </tbody>\n",
       "</table>\n",
       "</div>"
      ],
      "text/plain": [
       "           states    Cases  Deaths   PCases  PDeaths  Cases (+)  Deaths (+)  \\\n",
       "0     Maharashtra  1880893   48434  1880893    48434          0           0   \n",
       "1       Karnataka   904665   11971   904665    11971          0           0   \n",
       "2  Andhra Pradesh   876814    7067   876814     7067          0           0   \n",
       "3      Tamil Nadu   802342   11931   802342    11931          0           0   \n",
       "4          Kerala   683441    2708   683441     2708          0           0   \n",
       "\n",
       "   Fatality Rate  \n",
       "0           2.58  \n",
       "1           1.32  \n",
       "2           0.81  \n",
       "3           1.49  \n",
       "4           0.40  "
      ]
     },
     "execution_count": 13,
     "metadata": {},
     "output_type": "execute_result"
    }
   ],
   "source": [
    "#hide\n",
    "df_table.head()"
   ]
  },
  {
   "cell_type": "code",
   "execution_count": 14,
   "metadata": {
    "execution": {
     "iopub.execute_input": "2020-12-17T12:34:43.616224Z",
     "iopub.status.busy": "2020-12-17T12:34:43.615694Z",
     "iopub.status.idle": "2020-12-17T12:34:43.630737Z",
     "shell.execute_reply": "2020-12-17T12:34:43.630309Z"
    },
    "papermill": {
     "duration": 0.035173,
     "end_time": "2020-12-17T12:34:43.630868",
     "exception": false,
     "start_time": "2020-12-17T12:34:43.595695",
     "status": "completed"
    },
    "tags": []
   },
   "outputs": [
    {
     "data": {
      "text/plain": [
       "{'updated': '2020-12-17',\n",
       " 'since': '2020-12-16',\n",
       " 'Cases': 9951963,\n",
       " 'PCases': 9951080,\n",
       " 'Deaths': 144495,\n",
       " 'PDeaths': 144487,\n",
       " 'Cases (+)': 883,\n",
       " 'Deaths (+)': 8}"
      ]
     },
     "execution_count": 14,
     "metadata": {},
     "output_type": "execute_result"
    }
   ],
   "source": [
    "#hide\n",
    "summary = {'updated':dates[-1], 'since':dates[-2]}\n",
    "list_names = ['Cases', 'PCases', 'Deaths', 'PDeaths', 'Cases (+)', 'Deaths (+)']\n",
    "for name in list_names:\n",
    "    summary[name] = df_table.sum()[name]\n",
    "summary"
   ]
  },
  {
   "cell_type": "code",
   "execution_count": 15,
   "metadata": {
    "execution": {
     "iopub.execute_input": "2020-12-17T12:34:43.665786Z",
     "iopub.status.busy": "2020-12-17T12:34:43.665249Z",
     "iopub.status.idle": "2020-12-17T12:34:43.666808Z",
     "shell.execute_reply": "2020-12-17T12:34:43.667237Z"
    },
    "papermill": {
     "duration": 0.021473,
     "end_time": "2020-12-17T12:34:43.667380",
     "exception": false,
     "start_time": "2020-12-17T12:34:43.645907",
     "status": "completed"
    },
    "tags": []
   },
   "outputs": [],
   "source": [
    "#hide\n",
    "overview = '''\n",
    "<!-- #######  HTML!! #########-->\n",
    "<h1 style=\"color: #5e9ca0; text-align: center;\">India</h1>\n",
    "<p style=\"text-align: center;\">Last update: <strong>{update}</strong></p>\n",
    "<p style=\"text-align: center;\">Confirmed cases:</p>\n",
    "<p style=\"text-align: center;font-size:24px;\">{cases} (<span style=\"color: #ff0000;\">+{new}</span>)</p>\n",
    "<p style=\"text-align: center;\">Confirmed deaths:</p>\n",
    "<p style=\"text-align: center;font-size:24px;\">{deaths} (<span style=\"color: #ff0000;\">+{dnew}</span>)</p>\n",
    "'''"
   ]
  },
  {
   "cell_type": "code",
   "execution_count": 16,
   "metadata": {
    "execution": {
     "iopub.execute_input": "2020-12-17T12:34:43.703536Z",
     "iopub.status.busy": "2020-12-17T12:34:43.703013Z",
     "iopub.status.idle": "2020-12-17T12:34:43.705799Z",
     "shell.execute_reply": "2020-12-17T12:34:43.706217Z"
    },
    "papermill": {
     "duration": 0.023974,
     "end_time": "2020-12-17T12:34:43.706362",
     "exception": false,
     "start_time": "2020-12-17T12:34:43.682388",
     "status": "completed"
    },
    "tags": []
   },
   "outputs": [
    {
     "data": {
      "text/html": [
       "\n",
       "<!-- #######  HTML!! #########-->\n",
       "<h1 style=\"color: #5e9ca0; text-align: center;\">India</h1>\n",
       "<p style=\"text-align: center;\">Last update: <strong>2020-12-17</strong></p>\n",
       "<p style=\"text-align: center;\">Confirmed cases:</p>\n",
       "<p style=\"text-align: center;font-size:24px;\">9951963 (<span style=\"color: #ff0000;\">+883</span>)</p>\n",
       "<p style=\"text-align: center;\">Confirmed deaths:</p>\n",
       "<p style=\"text-align: center;font-size:24px;\">144495 (<span style=\"color: #ff0000;\">+8</span>)</p>\n"
      ],
      "text/plain": [
       "<IPython.core.display.HTML object>"
      ]
     },
     "metadata": {},
     "output_type": "display_data"
    }
   ],
   "source": [
    "#hide_input\n",
    "update = summary['updated']\n",
    "cases = summary['Cases']\n",
    "new = summary['Cases (+)']\n",
    "deaths = summary['Deaths']\n",
    "dnew = summary['Deaths (+)']\n",
    "\n",
    "html = HTML(overview.format(update=update, cases=cases,new=new,deaths=deaths,dnew=dnew))\n",
    "\n",
    "display(html)"
   ]
  },
  {
   "cell_type": "code",
   "execution_count": 17,
   "metadata": {
    "execution": {
     "iopub.execute_input": "2020-12-17T12:34:43.743649Z",
     "iopub.status.busy": "2020-12-17T12:34:43.743119Z",
     "iopub.status.idle": "2020-12-17T12:34:43.750267Z",
     "shell.execute_reply": "2020-12-17T12:34:43.749844Z"
    },
    "papermill": {
     "duration": 0.028501,
     "end_time": "2020-12-17T12:34:43.750391",
     "exception": false,
     "start_time": "2020-12-17T12:34:43.721890",
     "status": "completed"
    },
    "tags": []
   },
   "outputs": [],
   "source": [
    "#hide\n",
    "dt_cols = list(dft_cases.columns[1:])\n",
    "dft_ct_new_cases = dft_cases.groupby('state')[dt_cols].sum().diff(axis=1).fillna(0).astype(int)\n",
    "dft_ct_new_cases.sort_values(by = dates[-1], ascending = False,inplace = True)"
   ]
  },
  {
   "cell_type": "code",
   "execution_count": 18,
   "metadata": {
    "execution": {
     "iopub.execute_input": "2020-12-17T12:34:43.797332Z",
     "iopub.status.busy": "2020-12-17T12:34:43.793148Z",
     "iopub.status.idle": "2020-12-17T12:34:43.800473Z",
     "shell.execute_reply": "2020-12-17T12:34:43.800054Z"
    },
    "papermill": {
     "duration": 0.034813,
     "end_time": "2020-12-17T12:34:43.800602",
     "exception": false,
     "start_time": "2020-12-17T12:34:43.765789",
     "status": "completed"
    },
    "tags": []
   },
   "outputs": [
    {
     "data": {
      "text/html": [
       "<div>\n",
       "<style scoped>\n",
       "    .dataframe tbody tr th:only-of-type {\n",
       "        vertical-align: middle;\n",
       "    }\n",
       "\n",
       "    .dataframe tbody tr th {\n",
       "        vertical-align: top;\n",
       "    }\n",
       "\n",
       "    .dataframe thead th {\n",
       "        text-align: right;\n",
       "    }\n",
       "</style>\n",
       "<table border=\"1\" class=\"dataframe\">\n",
       "  <thead>\n",
       "    <tr style=\"text-align: right;\">\n",
       "      <th>states</th>\n",
       "      <th>2020-07-01</th>\n",
       "      <th>2020-07-02</th>\n",
       "      <th>2020-07-03</th>\n",
       "      <th>2020-07-04</th>\n",
       "      <th>2020-07-05</th>\n",
       "      <th>2020-07-06</th>\n",
       "      <th>2020-07-07</th>\n",
       "      <th>2020-07-08</th>\n",
       "      <th>2020-07-09</th>\n",
       "      <th>2020-07-10</th>\n",
       "      <th>...</th>\n",
       "      <th>2020-12-08</th>\n",
       "      <th>2020-12-09</th>\n",
       "      <th>2020-12-10</th>\n",
       "      <th>2020-12-11</th>\n",
       "      <th>2020-12-12</th>\n",
       "      <th>2020-12-13</th>\n",
       "      <th>2020-12-14</th>\n",
       "      <th>2020-12-15</th>\n",
       "      <th>2020-12-16</th>\n",
       "      <th>2020-12-17</th>\n",
       "    </tr>\n",
       "    <tr>\n",
       "      <th>state</th>\n",
       "      <th></th>\n",
       "      <th></th>\n",
       "      <th></th>\n",
       "      <th></th>\n",
       "      <th></th>\n",
       "      <th></th>\n",
       "      <th></th>\n",
       "      <th></th>\n",
       "      <th></th>\n",
       "      <th></th>\n",
       "      <th></th>\n",
       "      <th></th>\n",
       "      <th></th>\n",
       "      <th></th>\n",
       "      <th></th>\n",
       "      <th></th>\n",
       "      <th></th>\n",
       "      <th></th>\n",
       "      <th></th>\n",
       "      <th></th>\n",
       "      <th></th>\n",
       "    </tr>\n",
       "  </thead>\n",
       "  <tbody>\n",
       "    <tr>\n",
       "      <th>Telangana</th>\n",
       "      <td>0</td>\n",
       "      <td>1213</td>\n",
       "      <td>1892</td>\n",
       "      <td>1850</td>\n",
       "      <td>1590</td>\n",
       "      <td>1831</td>\n",
       "      <td>1879</td>\n",
       "      <td>1924</td>\n",
       "      <td>1410</td>\n",
       "      <td>1278</td>\n",
       "      <td>...</td>\n",
       "      <td>682</td>\n",
       "      <td>721</td>\n",
       "      <td>643</td>\n",
       "      <td>612</td>\n",
       "      <td>635</td>\n",
       "      <td>573</td>\n",
       "      <td>384</td>\n",
       "      <td>491</td>\n",
       "      <td>536</td>\n",
       "      <td>509</td>\n",
       "    </tr>\n",
       "    <tr>\n",
       "      <th>Odisha</th>\n",
       "      <td>0</td>\n",
       "      <td>229</td>\n",
       "      <td>561</td>\n",
       "      <td>495</td>\n",
       "      <td>469</td>\n",
       "      <td>456</td>\n",
       "      <td>571</td>\n",
       "      <td>527</td>\n",
       "      <td>577</td>\n",
       "      <td>755</td>\n",
       "      <td>...</td>\n",
       "      <td>349</td>\n",
       "      <td>386</td>\n",
       "      <td>343</td>\n",
       "      <td>387</td>\n",
       "      <td>335</td>\n",
       "      <td>393</td>\n",
       "      <td>332</td>\n",
       "      <td>300</td>\n",
       "      <td>407</td>\n",
       "      <td>351</td>\n",
       "    </tr>\n",
       "    <tr>\n",
       "      <th>Tripura</th>\n",
       "      <td>0</td>\n",
       "      <td>39</td>\n",
       "      <td>93</td>\n",
       "      <td>25</td>\n",
       "      <td>23</td>\n",
       "      <td>111</td>\n",
       "      <td>24</td>\n",
       "      <td>57</td>\n",
       "      <td>16</td>\n",
       "      <td>142</td>\n",
       "      <td>...</td>\n",
       "      <td>28</td>\n",
       "      <td>20</td>\n",
       "      <td>31</td>\n",
       "      <td>21</td>\n",
       "      <td>18</td>\n",
       "      <td>23</td>\n",
       "      <td>10</td>\n",
       "      <td>9</td>\n",
       "      <td>24</td>\n",
       "      <td>17</td>\n",
       "    </tr>\n",
       "    <tr>\n",
       "      <th>Mizoram</th>\n",
       "      <td>0</td>\n",
       "      <td>2</td>\n",
       "      <td>0</td>\n",
       "      <td>2</td>\n",
       "      <td>22</td>\n",
       "      <td>11</td>\n",
       "      <td>1</td>\n",
       "      <td>5</td>\n",
       "      <td>0</td>\n",
       "      <td>23</td>\n",
       "      <td>...</td>\n",
       "      <td>32</td>\n",
       "      <td>9</td>\n",
       "      <td>7</td>\n",
       "      <td>23</td>\n",
       "      <td>17</td>\n",
       "      <td>11</td>\n",
       "      <td>5</td>\n",
       "      <td>9</td>\n",
       "      <td>31</td>\n",
       "      <td>5</td>\n",
       "    </tr>\n",
       "    <tr>\n",
       "      <th>Dadra and Nagar Haveli and Daman and Diu</th>\n",
       "      <td>0</td>\n",
       "      <td>25</td>\n",
       "      <td>50</td>\n",
       "      <td>37</td>\n",
       "      <td>32</td>\n",
       "      <td>27</td>\n",
       "      <td>27</td>\n",
       "      <td>15</td>\n",
       "      <td>14</td>\n",
       "      <td>14</td>\n",
       "      <td>...</td>\n",
       "      <td>5</td>\n",
       "      <td>3</td>\n",
       "      <td>0</td>\n",
       "      <td>1</td>\n",
       "      <td>0</td>\n",
       "      <td>0</td>\n",
       "      <td>0</td>\n",
       "      <td>0</td>\n",
       "      <td>1</td>\n",
       "      <td>1</td>\n",
       "    </tr>\n",
       "  </tbody>\n",
       "</table>\n",
       "<p>5 rows × 170 columns</p>\n",
       "</div>"
      ],
      "text/plain": [
       "states                                    2020-07-01  2020-07-02  2020-07-03  \\\n",
       "state                                                                          \n",
       "Telangana                                          0        1213        1892   \n",
       "Odisha                                             0         229         561   \n",
       "Tripura                                            0          39          93   \n",
       "Mizoram                                            0           2           0   \n",
       "Dadra and Nagar Haveli and Daman and Diu           0          25          50   \n",
       "\n",
       "states                                    2020-07-04  2020-07-05  2020-07-06  \\\n",
       "state                                                                          \n",
       "Telangana                                       1850        1590        1831   \n",
       "Odisha                                           495         469         456   \n",
       "Tripura                                           25          23         111   \n",
       "Mizoram                                            2          22          11   \n",
       "Dadra and Nagar Haveli and Daman and Diu          37          32          27   \n",
       "\n",
       "states                                    2020-07-07  2020-07-08  2020-07-09  \\\n",
       "state                                                                          \n",
       "Telangana                                       1879        1924        1410   \n",
       "Odisha                                           571         527         577   \n",
       "Tripura                                           24          57          16   \n",
       "Mizoram                                            1           5           0   \n",
       "Dadra and Nagar Haveli and Daman and Diu          27          15          14   \n",
       "\n",
       "states                                    2020-07-10  ...  2020-12-08  \\\n",
       "state                                                 ...               \n",
       "Telangana                                       1278  ...         682   \n",
       "Odisha                                           755  ...         349   \n",
       "Tripura                                          142  ...          28   \n",
       "Mizoram                                           23  ...          32   \n",
       "Dadra and Nagar Haveli and Daman and Diu          14  ...           5   \n",
       "\n",
       "states                                    2020-12-09  2020-12-10  2020-12-11  \\\n",
       "state                                                                          \n",
       "Telangana                                        721         643         612   \n",
       "Odisha                                           386         343         387   \n",
       "Tripura                                           20          31          21   \n",
       "Mizoram                                            9           7          23   \n",
       "Dadra and Nagar Haveli and Daman and Diu           3           0           1   \n",
       "\n",
       "states                                    2020-12-12  2020-12-13  2020-12-14  \\\n",
       "state                                                                          \n",
       "Telangana                                        635         573         384   \n",
       "Odisha                                           335         393         332   \n",
       "Tripura                                           18          23          10   \n",
       "Mizoram                                           17          11           5   \n",
       "Dadra and Nagar Haveli and Daman and Diu           0           0           0   \n",
       "\n",
       "states                                    2020-12-15  2020-12-16  2020-12-17  \n",
       "state                                                                         \n",
       "Telangana                                        491         536         509  \n",
       "Odisha                                           300         407         351  \n",
       "Tripura                                            9          24          17  \n",
       "Mizoram                                            9          31           5  \n",
       "Dadra and Nagar Haveli and Daman and Diu           0           1           1  \n",
       "\n",
       "[5 rows x 170 columns]"
      ]
     },
     "execution_count": 18,
     "metadata": {},
     "output_type": "execute_result"
    }
   ],
   "source": [
    "#hide\n",
    "dft_ct_new_cases.head()"
   ]
  },
  {
   "cell_type": "code",
   "execution_count": 19,
   "metadata": {
    "execution": {
     "iopub.execute_input": "2020-12-17T12:34:43.857552Z",
     "iopub.status.busy": "2020-12-17T12:34:43.840581Z",
     "iopub.status.idle": "2020-12-17T12:34:49.103710Z",
     "shell.execute_reply": "2020-12-17T12:34:49.104119Z"
    },
    "papermill": {
     "duration": 5.287478,
     "end_time": "2020-12-17T12:34:49.104258",
     "exception": false,
     "start_time": "2020-12-17T12:34:43.816780",
     "status": "completed"
    },
    "tags": []
   },
   "outputs": [
    {
     "data": {
      "image/png": "[encoded data removed]",
      "text/plain": [
       "<Figure size 1296x2016 with 11 Axes>"
      ]
     },
     "metadata": {
      "needs_background": "light"
     },
     "output_type": "display_data"
    }
   ],
   "source": [
    "#hide_input\n",
    "df = dft_ct_new_cases.copy()\n",
    "df.loc['Total'] = df.sum()\n",
    "n = 5\n",
    "ax = []\n",
    "fig = plt.figure(figsize = (18,28))\n",
    "gs = fig.add_gridspec(n+2, 5)\n",
    "# gs = fig.add_gridspec(2, 3)\n",
    "ax1 = fig.add_subplot(gs[0, :])\n",
    "ef = df.loc['Total'].rename_axis('date').reset_index()\n",
    "ef['date'] = ef['date'].astype('datetime64[ns]')\n",
    "ax1.bar(ef.date,ef.Total,alpha=0.3,color='#007acc')\n",
    "ax1.plot(ef.date,ef.Total , marker=\"o\", color='#007acc')\n",
    "ax1.xaxis.set_major_locator(mdates.WeekdayLocator())\n",
    "ax1.xaxis.set_major_formatter(mdates.DateFormatter('%b %d'))\n",
    "ax1.text(0.02, 0.5,'India daily case count', transform = ax1.transAxes, fontsize=25);\n",
    "ax1.spines['right'].set_visible(False)\n",
    "ax1.spines['top'].set_visible(False)\n",
    "\n",
    "ax2 = fig.add_subplot(gs[1,0])\n",
    "ef = df.loc['Maharashtra'].rename_axis('date').reset_index()\n",
    "ef['date'] = ef['date'].astype('datetime64[ns]')\n",
    "\n",
    "ax2.bar(ef.date, ef.Maharashtra,color = '#007acc',alpha=0.5)\n",
    "ax2.xaxis.set_major_locator(mdates.WeekdayLocator())\n",
    "ax2.xaxis.set_major_formatter(mdates.DateFormatter('%b %d'))\n",
    "ax2.set_xticks(ax2.get_xticks()[::3])\n",
    "maxyval = ef.Maharashtra.max()\n",
    "ax2.set_ylim([0,maxyval])\n",
    "ax2.text(0.05, 0.9,'Maharashtra', transform = ax2.transAxes, fontsize=20);\n",
    "ax2.spines['right'].set_visible(False)\n",
    "ax2.spines['top'].set_visible(False)\n",
    "\n",
    "\n",
    "ax3 = fig.add_subplot(gs[1,1])\n",
    "ef = df.loc['Tamil Nadu'].rename_axis('date').reset_index()\n",
    "ef['date'] = ef['date'].astype('datetime64[ns]')\n",
    "ax3.bar(ef.date, ef['Tamil Nadu'],color = '#007acc',alpha=0.5,)\n",
    "ax3.xaxis.set_major_locator(mdates.WeekdayLocator())\n",
    "ax3.xaxis.set_major_formatter(mdates.DateFormatter('%b %d'))\n",
    "ax3.set_xticks(ax3.get_xticks()[::3])\n",
    "ax3.text(0.05, 0.9,'Tamil Nadu', transform = ax3.transAxes, fontsize=20);\n",
    "ax3.spines['right'].set_visible(False)\n",
    "ax3.spines['top'].set_visible(False)\n",
    "\n",
    "ax5 = fig.add_subplot(gs[1,3])\n",
    "ef = df.loc['Telangana'].rename_axis('date').reset_index()\n",
    "ef['date'] = ef['date'].astype('datetime64[ns]')\n",
    "ax5.bar(ef.date, ef['Telangana'],color = '#007acc',alpha=0.5,)\n",
    "ax5.xaxis.set_major_locator(mdates.WeekdayLocator())\n",
    "ax5.xaxis.set_major_formatter(mdates.DateFormatter('%b %d'))\n",
    "ax5.set_xticks(ax5.get_xticks()[::3])\n",
    "ax5.text(0.05, 0.9,'Telangana', transform = ax5.transAxes, fontsize=20);\n",
    "ax5.spines['right'].set_visible(False)\n",
    "ax5.spines['top'].set_visible(False)\n",
    "\n",
    "ax6 = fig.add_subplot(gs[1,4])\n",
    "ef = df.loc['Andhra Pradesh'].rename_axis('date').reset_index()\n",
    "ef['date'] = ef['date'].astype('datetime64[ns]')\n",
    "ax6.bar(ef.date, ef['Andhra Pradesh'],color = '#007acc',alpha=0.5,)\n",
    "ax6.xaxis.set_major_locator(mdates.WeekdayLocator())\n",
    "ax6.xaxis.set_major_formatter(mdates.DateFormatter('%b %d'))\n",
    "ax6.set_xticks(ax6.get_xticks()[::3])\n",
    "ax6.text(0.05, 1,'Andhra Pradesh', transform = ax6.transAxes, fontsize=20);\n",
    "ax6.spines['right'].set_visible(False)\n",
    "ax6.spines['top'].set_visible(False)\n",
    "\n",
    "ax4 = fig.add_subplot(gs[1,2])\n",
    "ef = df.loc['Delhi'].rename_axis('date').reset_index()\n",
    "ef['date'] = ef['date'].astype('datetime64[ns]')\n",
    "ax4.bar(ef.date, ef.Delhi,color = '#007acc',alpha=0.5)\n",
    "ax4.set_xticks([])\n",
    "ax4.xaxis.set_major_locator(mdates.WeekdayLocator())\n",
    "ax4.xaxis.set_major_formatter(mdates.DateFormatter('%b %d'))\n",
    "ax4.set_xticks(ax4.get_xticks()[::3])\n",
    "ax4.spines['right'].set_visible(False)\n",
    "ax4.spines['top'].set_visible(False)\n",
    "\n",
    "ax4.text(0.05, 1,'Delhi', transform = ax4.transAxes, fontsize=20)\n",
    "\n",
    "for i in range(n):\n",
    "    \n",
    "    ax.append(fig.add_subplot(gs[i+2,:]))\n",
    "    ef = df.iloc[i+3].rename_axis('date').reset_index()\n",
    "    ef['date'] = ef['date'].astype('datetime64[ns]')\n",
    "    ax[i].bar(ef.date,ef.iloc[:,-1],color = '#007acc',alpha=0.3)\n",
    "    ax[i].plot(ef.date,ef.iloc[:,-1],marker='o',color='#007acc')\n",
    "    ax[i].text(0.02,0.5,f'{ef.columns.values[-1]}',transform = ax[i].transAxes, fontsize = 20);\n",
    "    ax[i].xaxis.set_major_locator(mdates.WeekdayLocator())\n",
    "    ax[i].xaxis.set_major_formatter(mdates.DateFormatter('%b %d'))\n",
    "    ax[i].set_ylim([0,7000])\n",
    "    ax[i].spines['right'].set_visible(False)\n",
    "    ax[i].spines['top'].set_visible(False)\n",
    "plt.tight_layout()\n"
   ]
  },
  {
   "cell_type": "code",
   "execution_count": 20,
   "metadata": {
    "execution": {
     "iopub.execute_input": "2020-12-17T12:34:49.152804Z",
     "iopub.status.busy": "2020-12-17T12:34:49.152264Z",
     "iopub.status.idle": "2020-12-17T12:34:49.156566Z",
     "shell.execute_reply": "2020-12-17T12:34:49.156153Z"
    },
    "papermill": {
     "duration": 0.032248,
     "end_time": "2020-12-17T12:34:49.156690",
     "exception": false,
     "start_time": "2020-12-17T12:34:49.124442",
     "status": "completed"
    },
    "tags": []
   },
   "outputs": [
    {
     "name": "stdout",
     "output_type": "stream",
     "text": [
      "                                   states    Cases  Deaths   PCases  PDeaths  Cases (+)  Deaths (+)  Fatality Rate\n",
      "                              Maharashtra  1880893   48434  1880893    48434          0           0           2.58\n",
      "                                Karnataka   904665   11971   904665    11971          0           0           1.32\n",
      "                           Andhra Pradesh   876814    7067   876814     7067          0           0           0.81\n",
      "                               Tamil Nadu   802342   11931   802342    11931          0           0           1.49\n",
      "                                   Kerala   683441    2708   683441     2708          0           0           0.40\n",
      "                                    Delhi   611994   10147   611994    10147          0           0           1.66\n",
      "                            Uttar Pradesh   569263    8118   569263     8118          0           0           1.43\n",
      "                              West Bengal   528211    9191   528211     9191          0           0           1.74\n",
      "                                   Odisha   325147    1878   324796     1873        351           5           0.58\n",
      "                                Rajasthan   294831    2578   294831     2578          0           0           0.87\n",
      "                                Telangana   279644    1505   279135     1502        509           3           0.54\n",
      "                             Chhattisgarh   261901    3145   261901     3145          0           0           1.20\n",
      "                                  Haryana   255014    2765   255014     2765          0           0           1.08\n",
      "                                    Bihar   244810    1332   244810     1332          0           0           0.54\n",
      "                                  Gujarat   231073    4203   231073     4203          0           0           1.82\n",
      "                           Madhya Pradesh   226788    3433   226788     3433          0           0           1.51\n",
      "                                    Assam   215042    1007   215042     1007          0           0           0.47\n",
      "                                   Punjab   161383    5135   161383     5135          0           0           3.18\n",
      "                        Jammu and Kashmir   116932    1817   116932     1817          0           0           1.55\n",
      "                                Jharkhand   112121    1004   112121     1004          0           0           0.90\n",
      "                              Uttarakhand    84069    1375    84069     1375          0           0           1.64\n",
      "                         Himachal Pradesh    50680     836    50680      836          0           0           1.65\n",
      "                                      Goa    49657     713    49657      713          0           0           1.44\n",
      "                               Puducherry    37582     622    37582      622          0           0           1.66\n",
      "                                  Tripura    33095     375    33078      375         17           0           1.13\n",
      "                                  Manipur    27373     329    27373      329          0           0           1.20\n",
      "                               Chandigarh    18843     304    18843      304          0           0           1.61\n",
      "                        Arunachal Pradesh    16574      55    16574       55          0           0           0.33\n",
      "                                Meghalaya    13072     133    13072      133          0           0           1.02\n",
      "                                 Nagaland    11787      70    11787       70          0           0           0.59\n",
      "                                   Ladakh     9238     123     9238      123          0           0           1.33\n",
      "                                   Sikkim     5398     121     5398      121          0           0           2.24\n",
      "              Andaman and Nicobar Islands     4850      61     4850       61          0           0           1.26\n",
      "                                  Mizoram     4085       7     4080        7          5           0           0.17\n",
      " Dadra and Nagar Haveli and Daman and Diu     3351       2     3350        2          1           0           0.06\n",
      "                              Lakshadweep        0       0        0        0          0           0            NaN\n"
     ]
    }
   ],
   "source": [
    "#hide_input\n",
    "print(df_table.to_string(index=False))"
   ]
  },
  {
   "cell_type": "code",
   "execution_count": null,
   "metadata": {
    "papermill": {
     "duration": 0.020383,
     "end_time": "2020-12-17T12:34:49.197605",
     "exception": false,
     "start_time": "2020-12-17T12:34:49.177222",
     "status": "completed"
    },
    "tags": []
   },
   "outputs": [],
   "source": []
  },
  {
   "cell_type": "code",
   "execution_count": null,
   "metadata": {
    "papermill": {
     "duration": 0.020308,
     "end_time": "2020-12-17T12:34:49.238707",
     "exception": false,
     "start_time": "2020-12-17T12:34:49.218399",
     "status": "completed"
    },
    "tags": []
   },
   "outputs": [],
   "source": []
  }
 ],
 "metadata": {
  "kernelspec": {
   "display_name": "Python 3",
   "language": "python",
   "name": "python3"
  },
  "language_info": {
   "codemirror_mode": {
    "name": "ipython",
    "version": 3
   },
   "file_extension": ".py",
   "mimetype": "text/x-python",
   "name": "python",
   "nbconvert_exporter": "python",
   "pygments_lexer": "ipython3",
   "version": "3.6.12"
  },
  "papermill": {
   "duration": 12.937376,
   "end_time": "2020-12-17T12:34:49.868693",
   "environment_variables": {},
   "exception": null,
   "input_path": "latest.ipynb",
   "output_path": "latest.ipynb",
   "parameters": {},
   "start_time": "2020-12-17T12:34:36.931317",
   "version": "2.1.2"
  }
 },
 "nbformat": 4,
 "nbformat_minor": 4
}