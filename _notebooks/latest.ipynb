{
 "cells": [
  {
   "cell_type": "markdown",
   "metadata": {
    "papermill": {
     "duration": 0.019701,
     "end_time": "2020-12-02T11:40:09.223841",
     "exception": false,
     "start_time": "2020-12-02T11:40:09.204140",
     "status": "completed"
    },
    "tags": []
   },
   "source": [
    "# Latest COVID-19 India Matplotlib Overview"
   ]
  },
  {
   "cell_type": "code",
   "execution_count": 1,
   "metadata": {
    "execution": {
     "iopub.execute_input": "2020-12-02T11:40:09.263674Z",
     "iopub.status.busy": "2020-12-02T11:40:09.263074Z",
     "iopub.status.idle": "2020-12-02T11:40:09.895539Z",
     "shell.execute_reply": "2020-12-02T11:40:09.894715Z"
    },
    "papermill": {
     "duration": 0.654634,
     "end_time": "2020-12-02T11:40:09.895710",
     "exception": false,
     "start_time": "2020-12-02T11:40:09.241076",
     "status": "completed"
    },
    "tags": []
   },
   "outputs": [],
   "source": [
    "#hide\n",
    "import pandas as pd\n",
    "import numpy as np\n",
    "import requests\n",
    "import json\n",
    "import matplotlib.pyplot as plt\n",
    "import matplotlib.dates as mdates\n",
    "import matplotlib as mpl\n",
    "from IPython.core.display import display,HTML\n",
    "%matplotlib inline\n",
    "from datetime import date"
   ]
  },
  {
   "cell_type": "code",
   "execution_count": 2,
   "metadata": {
    "execution": {
     "iopub.execute_input": "2020-12-02T11:40:09.937449Z",
     "iopub.status.busy": "2020-12-02T11:40:09.936194Z",
     "iopub.status.idle": "2020-12-02T11:40:10.168031Z",
     "shell.execute_reply": "2020-12-02T11:40:10.167404Z"
    },
    "papermill": {
     "duration": 0.256616,
     "end_time": "2020-12-02T11:40:10.168166",
     "exception": false,
     "start_time": "2020-12-02T11:40:09.911550",
     "status": "completed"
    },
    "tags": []
   },
   "outputs": [],
   "source": [
    "#hide\n",
    "df  = pd.read_csv('https://api.covid19india.org/csv/latest/states.csv')\n",
    "df = df[['Date','State','Confirmed','Deceased']]\n",
    "df = df.rename(columns={'Confirmed':'Cases', \"Deceased\":'Deaths'})\n",
    "df_cases = df[[\"Date\",'State','Cases']]\n",
    "df_deaths = df[['Date','State','Deaths']]\n",
    "df_cases1 = df_cases.groupby('Date')\n",
    "df_deaths1= df_deaths.groupby('Date')"
   ]
  },
  {
   "cell_type": "code",
   "execution_count": 3,
   "metadata": {
    "execution": {
     "iopub.execute_input": "2020-12-02T11:40:10.205893Z",
     "iopub.status.busy": "2020-12-02T11:40:10.205272Z",
     "iopub.status.idle": "2020-12-02T11:40:10.224781Z",
     "shell.execute_reply": "2020-12-02T11:40:10.224196Z"
    },
    "papermill": {
     "duration": 0.040627,
     "end_time": "2020-12-02T11:40:10.224915",
     "exception": false,
     "start_time": "2020-12-02T11:40:10.184288",
     "status": "completed"
    },
    "tags": []
   },
   "outputs": [],
   "source": [
    "#hide\n",
    "df_snap = pd.read_csv('data/SnapshotCases-28-July.csv')\n",
    "arr_states = df_snap['states'].unique()\n",
    "arr_dates = df['Date'].unique()\n",
    "df_snap = df_snap.set_index('states')"
   ]
  },
  {
   "cell_type": "code",
   "execution_count": 4,
   "metadata": {
    "execution": {
     "iopub.execute_input": "2020-12-02T11:40:10.263889Z",
     "iopub.status.busy": "2020-12-02T11:40:10.263287Z",
     "iopub.status.idle": "2020-12-02T11:40:10.267495Z",
     "shell.execute_reply": "2020-12-02T11:40:10.267940Z"
    },
    "papermill": {
     "duration": 0.028151,
     "end_time": "2020-12-02T11:40:10.268093",
     "exception": false,
     "start_time": "2020-12-02T11:40:10.239942",
     "status": "completed"
    },
    "tags": []
   },
   "outputs": [
    {
     "data": {
      "text/plain": [
       "array(['Andaman and Nicobar Islands', 'Andhra Pradesh',\n",
       "       'Arunachal Pradesh', 'Assam', 'Bihar', 'Chandigarh',\n",
       "       'Dadra and Nagar Haveli and Daman and Diu', 'Delhi', 'Goa',\n",
       "       'Gujarat', 'Haryana', 'Himachal Pradesh', 'Jammu and Kashmir',\n",
       "       'Jharkhand', 'Karnataka', 'Kerala', 'Lakshadweep',\n",
       "       'Madhya Pradesh', 'Maharashtra', 'Manipur', 'Meghalaya', 'Mizoram',\n",
       "       'Nagaland', 'Odisha', 'Puducherry', 'Punjab', 'Rajasthan',\n",
       "       'Sikkim', 'Tamil Nadu', 'Telangana', 'Tripura', 'Uttar Pradesh',\n",
       "       'West Bengal', 'Chhattisgarh', 'Ladakh', 'Uttarakhand'],\n",
       "      dtype=object)"
      ]
     },
     "execution_count": 4,
     "metadata": {},
     "output_type": "execute_result"
    }
   ],
   "source": [
    "#hide\n",
    "arr_states[-9] = 'Puducherry'\n",
    "arr_states[-10] = 'Odisha'\n",
    "arr_states[6] = 'Dadra and Nagar Haveli and Daman and Diu'\n",
    "arr_states = np.append(arr_states,np.array(['Chhattisgarh','Ladakh','Uttarakhand']))\n",
    "arr_states"
   ]
  },
  {
   "cell_type": "code",
   "execution_count": 5,
   "metadata": {
    "execution": {
     "iopub.execute_input": "2020-12-02T11:40:10.315588Z",
     "iopub.status.busy": "2020-12-02T11:40:10.308470Z",
     "iopub.status.idle": "2020-12-02T11:40:10.323674Z",
     "shell.execute_reply": "2020-12-02T11:40:10.324251Z"
    },
    "papermill": {
     "duration": 0.040588,
     "end_time": "2020-12-02T11:40:10.324539",
     "exception": false,
     "start_time": "2020-12-02T11:40:10.283951",
     "status": "completed"
    },
    "tags": []
   },
   "outputs": [],
   "source": [
    "#hide\n",
    "dates = []\n",
    "for i in arr_dates:\n",
    "    if i>='2020-07-01':\n",
    "        dates.append(i)\n",
    "dict = {'states':dates}\n",
    "for i in arr_states:\n",
    "    dict[i] = [0]*len(dates)\n",
    "dft_cases = pd.DataFrame(dict)\n",
    "dft_deaths = pd.DataFrame(dict)\n"
   ]
  },
  {
   "cell_type": "code",
   "execution_count": 6,
   "metadata": {
    "execution": {
     "iopub.execute_input": "2020-12-02T11:40:10.363262Z",
     "iopub.status.busy": "2020-12-02T11:40:10.362627Z",
     "iopub.status.idle": "2020-12-02T11:40:12.621122Z",
     "shell.execute_reply": "2020-12-02T11:40:12.620610Z"
    },
    "papermill": {
     "duration": 2.280862,
     "end_time": "2020-12-02T11:40:12.621261",
     "exception": false,
     "start_time": "2020-12-02T11:40:10.340399",
     "status": "completed"
    },
    "tags": []
   },
   "outputs": [],
   "source": [
    "#hide\n",
    "for i in range(len(dates)):\n",
    "    df1_deaths = df_deaths1.get_group(dates[i])\n",
    "    for j in range(len(df1_deaths.index)):\n",
    "        if df1_deaths.iloc[j,1] in arr_states:\n",
    "            dft_deaths.loc[i,df1_deaths.iloc[j,1]] = df1_deaths.iloc[j,2]\n",
    "dft_deaths = dft_deaths.set_index('states')"
   ]
  },
  {
   "cell_type": "code",
   "execution_count": 7,
   "metadata": {
    "execution": {
     "iopub.execute_input": "2020-12-02T11:40:12.659321Z",
     "iopub.status.busy": "2020-12-02T11:40:12.658611Z",
     "iopub.status.idle": "2020-12-02T11:40:14.907875Z",
     "shell.execute_reply": "2020-12-02T11:40:14.907361Z"
    },
    "papermill": {
     "duration": 2.27084,
     "end_time": "2020-12-02T11:40:14.908017",
     "exception": false,
     "start_time": "2020-12-02T11:40:12.637177",
     "status": "completed"
    },
    "tags": []
   },
   "outputs": [],
   "source": [
    "#hide\n",
    "for i in range(len(dates)):\n",
    "    df1_cases = df_cases1.get_group(dates[i])\n",
    "    for j in range(len(df1_cases.index)):\n",
    "        if df1_cases.iloc[j,1] in arr_states:\n",
    "            dft_cases.loc[i,df1_cases.iloc[j,1]] = df1_cases.iloc[j,2]\n",
    "dft_cases = dft_cases.set_index('states')"
   ]
  },
  {
   "cell_type": "code",
   "execution_count": 8,
   "metadata": {
    "execution": {
     "iopub.execute_input": "2020-12-02T11:40:14.946007Z",
     "iopub.status.busy": "2020-12-02T11:40:14.945421Z",
     "iopub.status.idle": "2020-12-02T11:40:14.947381Z",
     "shell.execute_reply": "2020-12-02T11:40:14.947829Z"
    },
    "papermill": {
     "duration": 0.023798,
     "end_time": "2020-12-02T11:40:14.947972",
     "exception": false,
     "start_time": "2020-12-02T11:40:14.924174",
     "status": "completed"
    },
    "tags": []
   },
   "outputs": [],
   "source": [
    "#hide\n",
    "dft_cases = dft_cases.T\n",
    "dft_deaths = dft_deaths.T\n",
    "dt_today = dates[-1]\n",
    "dt_yday = dates[-2]"
   ]
  },
  {
   "cell_type": "code",
   "execution_count": 9,
   "metadata": {
    "execution": {
     "iopub.execute_input": "2020-12-02T11:40:14.989722Z",
     "iopub.status.busy": "2020-12-02T11:40:14.989101Z",
     "iopub.status.idle": "2020-12-02T11:40:14.992280Z",
     "shell.execute_reply": "2020-12-02T11:40:14.991721Z"
    },
    "papermill": {
     "duration": 0.028958,
     "end_time": "2020-12-02T11:40:14.992419",
     "exception": false,
     "start_time": "2020-12-02T11:40:14.963461",
     "status": "completed"
    },
    "tags": []
   },
   "outputs": [],
   "source": [
    "#hide\n",
    "dft_cases = dft_cases.reset_index()\n",
    "dft_deaths = dft_deaths.reset_index()\n",
    "dft_cases = dft_cases.rename(columns = {'index':'state'})\n",
    "dft_deaths = dft_deaths.rename(columns = {'index':'state'})"
   ]
  },
  {
   "cell_type": "code",
   "execution_count": 10,
   "metadata": {
    "execution": {
     "iopub.execute_input": "2020-12-02T11:40:15.035728Z",
     "iopub.status.busy": "2020-12-02T11:40:15.034974Z",
     "iopub.status.idle": "2020-12-02T11:40:15.036864Z",
     "shell.execute_reply": "2020-12-02T11:40:15.037357Z"
    },
    "papermill": {
     "duration": 0.029343,
     "end_time": "2020-12-02T11:40:15.037500",
     "exception": false,
     "start_time": "2020-12-02T11:40:15.008157",
     "status": "completed"
    },
    "tags": []
   },
   "outputs": [],
   "source": [
    "#hide\n",
    "dfc_cases = dft_cases.groupby('state')[dt_today].sum()\n",
    "dfc_deaths = dft_deaths.groupby('state')[dt_today].sum()\n",
    "dfp_cases = dft_cases.groupby('state')[dt_yday].sum()\n",
    "dfp_deaths = dft_deaths.groupby('state')[dt_yday].sum()"
   ]
  },
  {
   "cell_type": "code",
   "execution_count": 11,
   "metadata": {
    "execution": {
     "iopub.execute_input": "2020-12-02T11:40:15.082863Z",
     "iopub.status.busy": "2020-12-02T11:40:15.081799Z",
     "iopub.status.idle": "2020-12-02T11:40:15.093305Z",
     "shell.execute_reply": "2020-12-02T11:40:15.093895Z"
    },
    "papermill": {
     "duration": 0.039805,
     "end_time": "2020-12-02T11:40:15.094052",
     "exception": false,
     "start_time": "2020-12-02T11:40:15.054247",
     "status": "completed"
    },
    "tags": []
   },
   "outputs": [
    {
     "data": {
      "text/html": [
       "<div>\n",
       "<style scoped>\n",
       "    .dataframe tbody tr th:only-of-type {\n",
       "        vertical-align: middle;\n",
       "    }\n",
       "\n",
       "    .dataframe tbody tr th {\n",
       "        vertical-align: top;\n",
       "    }\n",
       "\n",
       "    .dataframe thead th {\n",
       "        text-align: right;\n",
       "    }\n",
       "</style>\n",
       "<table border=\"1\" class=\"dataframe\">\n",
       "  <thead>\n",
       "    <tr style=\"text-align: right;\">\n",
       "      <th></th>\n",
       "      <th>states</th>\n",
       "      <th>Cases</th>\n",
       "      <th>Deaths</th>\n",
       "      <th>PCases</th>\n",
       "      <th>PDeaths</th>\n",
       "    </tr>\n",
       "  </thead>\n",
       "  <tbody>\n",
       "    <tr>\n",
       "      <th>0</th>\n",
       "      <td>Maharashtra</td>\n",
       "      <td>1828826</td>\n",
       "      <td>47246</td>\n",
       "      <td>1828826</td>\n",
       "      <td>47246</td>\n",
       "    </tr>\n",
       "    <tr>\n",
       "      <th>1</th>\n",
       "      <td>Karnataka</td>\n",
       "      <td>886227</td>\n",
       "      <td>11792</td>\n",
       "      <td>886227</td>\n",
       "      <td>11792</td>\n",
       "    </tr>\n",
       "    <tr>\n",
       "      <th>2</th>\n",
       "      <td>Andhra Pradesh</td>\n",
       "      <td>868749</td>\n",
       "      <td>6996</td>\n",
       "      <td>868749</td>\n",
       "      <td>6996</td>\n",
       "    </tr>\n",
       "    <tr>\n",
       "      <th>3</th>\n",
       "      <td>Tamil Nadu</td>\n",
       "      <td>783319</td>\n",
       "      <td>11722</td>\n",
       "      <td>783319</td>\n",
       "      <td>11722</td>\n",
       "    </tr>\n",
       "    <tr>\n",
       "      <th>4</th>\n",
       "      <td>Kerala</td>\n",
       "      <td>608358</td>\n",
       "      <td>2271</td>\n",
       "      <td>608358</td>\n",
       "      <td>2271</td>\n",
       "    </tr>\n",
       "  </tbody>\n",
       "</table>\n",
       "</div>"
      ],
      "text/plain": [
       "           states    Cases  Deaths   PCases  PDeaths\n",
       "0     Maharashtra  1828826   47246  1828826    47246\n",
       "1       Karnataka   886227   11792   886227    11792\n",
       "2  Andhra Pradesh   868749    6996   868749     6996\n",
       "3      Tamil Nadu   783319   11722   783319    11722\n",
       "4          Kerala   608358    2271   608358     2271"
      ]
     },
     "execution_count": 11,
     "metadata": {},
     "output_type": "execute_result"
    }
   ],
   "source": [
    "#hide\n",
    "df_table = pd.DataFrame({'states': dfc_cases.index, 'Cases': dfc_cases.values, 'Deaths': dfc_deaths.values, 'PCases': dfp_cases.values, 'PDeaths': dfp_deaths.values}).set_index('states')\n",
    "df_table = df_table.sort_values(by = ['Cases','Deaths'], ascending = [False, False])\n",
    "df_table = df_table.reset_index()\n",
    "df_table.head()"
   ]
  },
  {
   "cell_type": "code",
   "execution_count": 12,
   "metadata": {
    "execution": {
     "iopub.execute_input": "2020-12-02T11:40:15.133735Z",
     "iopub.status.busy": "2020-12-02T11:40:15.133166Z",
     "iopub.status.idle": "2020-12-02T11:40:15.144998Z",
     "shell.execute_reply": "2020-12-02T11:40:15.144496Z"
    },
    "papermill": {
     "duration": 0.031204,
     "end_time": "2020-12-02T11:40:15.145121",
     "exception": false,
     "start_time": "2020-12-02T11:40:15.113917",
     "status": "completed"
    },
    "tags": []
   },
   "outputs": [],
   "source": [
    "#hide\n",
    "for c in 'Cases, Deaths'.split(', '):\n",
    "    df_table[f'{c} (+)'] = (df_table[c] - df_table[f'P{c}']).clip(0)\n",
    "df_table['Fatality Rate'] = (100* df_table['Deaths']/ df_table['Cases']).round(2)"
   ]
  },
  {
   "cell_type": "code",
   "execution_count": 13,
   "metadata": {
    "execution": {
     "iopub.execute_input": "2020-12-02T11:40:15.184623Z",
     "iopub.status.busy": "2020-12-02T11:40:15.184040Z",
     "iopub.status.idle": "2020-12-02T11:40:15.191119Z",
     "shell.execute_reply": "2020-12-02T11:40:15.190570Z"
    },
    "papermill": {
     "duration": 0.030216,
     "end_time": "2020-12-02T11:40:15.191251",
     "exception": false,
     "start_time": "2020-12-02T11:40:15.161035",
     "status": "completed"
    },
    "tags": []
   },
   "outputs": [
    {
     "data": {
      "text/html": [
       "<div>\n",
       "<style scoped>\n",
       "    .dataframe tbody tr th:only-of-type {\n",
       "        vertical-align: middle;\n",
       "    }\n",
       "\n",
       "    .dataframe tbody tr th {\n",
       "        vertical-align: top;\n",
       "    }\n",
       "\n",
       "    .dataframe thead th {\n",
       "        text-align: right;\n",
       "    }\n",
       "</style>\n",
       "<table border=\"1\" class=\"dataframe\">\n",
       "  <thead>\n",
       "    <tr style=\"text-align: right;\">\n",
       "      <th></th>\n",
       "      <th>states</th>\n",
       "      <th>Cases</th>\n",
       "      <th>Deaths</th>\n",
       "      <th>PCases</th>\n",
       "      <th>PDeaths</th>\n",
       "      <th>Cases (+)</th>\n",
       "      <th>Deaths (+)</th>\n",
       "      <th>Fatality Rate</th>\n",
       "    </tr>\n",
       "  </thead>\n",
       "  <tbody>\n",
       "    <tr>\n",
       "      <th>0</th>\n",
       "      <td>Maharashtra</td>\n",
       "      <td>1828826</td>\n",
       "      <td>47246</td>\n",
       "      <td>1828826</td>\n",
       "      <td>47246</td>\n",
       "      <td>0</td>\n",
       "      <td>0</td>\n",
       "      <td>2.58</td>\n",
       "    </tr>\n",
       "    <tr>\n",
       "      <th>1</th>\n",
       "      <td>Karnataka</td>\n",
       "      <td>886227</td>\n",
       "      <td>11792</td>\n",
       "      <td>886227</td>\n",
       "      <td>11792</td>\n",
       "      <td>0</td>\n",
       "      <td>0</td>\n",
       "      <td>1.33</td>\n",
       "    </tr>\n",
       "    <tr>\n",
       "      <th>2</th>\n",
       "      <td>Andhra Pradesh</td>\n",
       "      <td>868749</td>\n",
       "      <td>6996</td>\n",
       "      <td>868749</td>\n",
       "      <td>6996</td>\n",
       "      <td>0</td>\n",
       "      <td>0</td>\n",
       "      <td>0.81</td>\n",
       "    </tr>\n",
       "    <tr>\n",
       "      <th>3</th>\n",
       "      <td>Tamil Nadu</td>\n",
       "      <td>783319</td>\n",
       "      <td>11722</td>\n",
       "      <td>783319</td>\n",
       "      <td>11722</td>\n",
       "      <td>0</td>\n",
       "      <td>0</td>\n",
       "      <td>1.50</td>\n",
       "    </tr>\n",
       "    <tr>\n",
       "      <th>4</th>\n",
       "      <td>Kerala</td>\n",
       "      <td>608358</td>\n",
       "      <td>2271</td>\n",
       "      <td>608358</td>\n",
       "      <td>2271</td>\n",
       "      <td>0</td>\n",
       "      <td>0</td>\n",
       "      <td>0.37</td>\n",
       "    </tr>\n",
       "  </tbody>\n",
       "</table>\n",
       "</div>"
      ],
      "text/plain": [
       "           states    Cases  Deaths   PCases  PDeaths  Cases (+)  Deaths (+)  \\\n",
       "0     Maharashtra  1828826   47246  1828826    47246          0           0   \n",
       "1       Karnataka   886227   11792   886227    11792          0           0   \n",
       "2  Andhra Pradesh   868749    6996   868749     6996          0           0   \n",
       "3      Tamil Nadu   783319   11722   783319    11722          0           0   \n",
       "4          Kerala   608358    2271   608358     2271          0           0   \n",
       "\n",
       "   Fatality Rate  \n",
       "0           2.58  \n",
       "1           1.33  \n",
       "2           0.81  \n",
       "3           1.50  \n",
       "4           0.37  "
      ]
     },
     "execution_count": 13,
     "metadata": {},
     "output_type": "execute_result"
    }
   ],
   "source": [
    "#hide\n",
    "df_table.head()"
   ]
  },
  {
   "cell_type": "code",
   "execution_count": 14,
   "metadata": {
    "execution": {
     "iopub.execute_input": "2020-12-02T11:40:15.231391Z",
     "iopub.status.busy": "2020-12-02T11:40:15.230533Z",
     "iopub.status.idle": "2020-12-02T11:40:15.249455Z",
     "shell.execute_reply": "2020-12-02T11:40:15.248953Z"
    },
    "papermill": {
     "duration": 0.041866,
     "end_time": "2020-12-02T11:40:15.249584",
     "exception": false,
     "start_time": "2020-12-02T11:40:15.207718",
     "status": "completed"
    },
    "tags": []
   },
   "outputs": [
    {
     "data": {
      "text/plain": [
       "{'updated': '2020-12-02',\n",
       " 'since': '2020-12-01',\n",
       " 'Cases': 9504803,\n",
       " 'PCases': 9499752,\n",
       " 'Deaths': 138251,\n",
       " 'PDeaths': 138160,\n",
       " 'Cases (+)': 5051,\n",
       " 'Deaths (+)': 91}"
      ]
     },
     "execution_count": 14,
     "metadata": {},
     "output_type": "execute_result"
    }
   ],
   "source": [
    "#hide\n",
    "summary = {'updated':dates[-1], 'since':dates[-2]}\n",
    "list_names = ['Cases', 'PCases', 'Deaths', 'PDeaths', 'Cases (+)', 'Deaths (+)']\n",
    "for name in list_names:\n",
    "    summary[name] = df_table.sum()[name]\n",
    "summary"
   ]
  },
  {
   "cell_type": "code",
   "execution_count": 15,
   "metadata": {
    "execution": {
     "iopub.execute_input": "2020-12-02T11:40:15.297553Z",
     "iopub.status.busy": "2020-12-02T11:40:15.296945Z",
     "iopub.status.idle": "2020-12-02T11:40:15.299803Z",
     "shell.execute_reply": "2020-12-02T11:40:15.299103Z"
    },
    "papermill": {
     "duration": 0.027737,
     "end_time": "2020-12-02T11:40:15.299941",
     "exception": false,
     "start_time": "2020-12-02T11:40:15.272204",
     "status": "completed"
    },
    "tags": []
   },
   "outputs": [],
   "source": [
    "#hide\n",
    "overview = '''\n",
    "<!-- #######  HTML!! #########-->\n",
    "<h1 style=\"color: #5e9ca0; text-align: center;\">India</h1>\n",
    "<p style=\"text-align: center;\">Last update: <strong>{update}</strong></p>\n",
    "<p style=\"text-align: center;\">Confirmed cases:</p>\n",
    "<p style=\"text-align: center;font-size:24px;\">{cases} (<span style=\"color: #ff0000;\">+{new}</span>)</p>\n",
    "<p style=\"text-align: center;\">Confirmed deaths:</p>\n",
    "<p style=\"text-align: center;font-size:24px;\">{deaths} (<span style=\"color: #ff0000;\">+{dnew}</span>)</p>\n",
    "'''"
   ]
  },
  {
   "cell_type": "code",
   "execution_count": 16,
   "metadata": {
    "execution": {
     "iopub.execute_input": "2020-12-02T11:40:15.339148Z",
     "iopub.status.busy": "2020-12-02T11:40:15.338525Z",
     "iopub.status.idle": "2020-12-02T11:40:15.342519Z",
     "shell.execute_reply": "2020-12-02T11:40:15.343105Z"
    },
    "papermill": {
     "duration": 0.02686,
     "end_time": "2020-12-02T11:40:15.343260",
     "exception": false,
     "start_time": "2020-12-02T11:40:15.316400",
     "status": "completed"
    },
    "tags": []
   },
   "outputs": [
    {
     "data": {
      "text/html": [
       "\n",
       "<!-- #######  HTML!! #########-->\n",
       "<h1 style=\"color: #5e9ca0; text-align: center;\">India</h1>\n",
       "<p style=\"text-align: center;\">Last update: <strong>2020-12-02</strong></p>\n",
       "<p style=\"text-align: center;\">Confirmed cases:</p>\n",
       "<p style=\"text-align: center;font-size:24px;\">9504803 (<span style=\"color: #ff0000;\">+5051</span>)</p>\n",
       "<p style=\"text-align: center;\">Confirmed deaths:</p>\n",
       "<p style=\"text-align: center;font-size:24px;\">138251 (<span style=\"color: #ff0000;\">+91</span>)</p>\n"
      ],
      "text/plain": [
       "<IPython.core.display.HTML object>"
      ]
     },
     "metadata": {},
     "output_type": "display_data"
    }
   ],
   "source": [
    "#hide_input\n",
    "update = summary['updated']\n",
    "cases = summary['Cases']\n",
    "new = summary['Cases (+)']\n",
    "deaths = summary['Deaths']\n",
    "dnew = summary['Deaths (+)']\n",
    "\n",
    "html = HTML(overview.format(update=update, cases=cases,new=new,deaths=deaths,dnew=dnew))\n",
    "\n",
    "display(html)"
   ]
  },
  {
   "cell_type": "code",
   "execution_count": 17,
   "metadata": {
    "execution": {
     "iopub.execute_input": "2020-12-02T11:40:15.386654Z",
     "iopub.status.busy": "2020-12-02T11:40:15.386063Z",
     "iopub.status.idle": "2020-12-02T11:40:15.391549Z",
     "shell.execute_reply": "2020-12-02T11:40:15.391043Z"
    },
    "papermill": {
     "duration": 0.030461,
     "end_time": "2020-12-02T11:40:15.391676",
     "exception": false,
     "start_time": "2020-12-02T11:40:15.361215",
     "status": "completed"
    },
    "tags": []
   },
   "outputs": [],
   "source": [
    "#hide\n",
    "dt_cols = list(dft_cases.columns[1:])\n",
    "dft_ct_new_cases = dft_cases.groupby('state')[dt_cols].sum().diff(axis=1).fillna(0).astype(int)\n",
    "dft_ct_new_cases.sort_values(by = dates[-1], ascending = False,inplace = True)"
   ]
  },
  {
   "cell_type": "code",
   "execution_count": 18,
   "metadata": {
    "execution": {
     "iopub.execute_input": "2020-12-02T11:40:15.445839Z",
     "iopub.status.busy": "2020-12-02T11:40:15.445161Z",
     "iopub.status.idle": "2020-12-02T11:40:15.459549Z",
     "shell.execute_reply": "2020-12-02T11:40:15.460049Z"
    },
    "papermill": {
     "duration": 0.051281,
     "end_time": "2020-12-02T11:40:15.460199",
     "exception": false,
     "start_time": "2020-12-02T11:40:15.408918",
     "status": "completed"
    },
    "tags": []
   },
   "outputs": [
    {
     "data": {
      "text/html": [
       "<div>\n",
       "<style scoped>\n",
       "    .dataframe tbody tr th:only-of-type {\n",
       "        vertical-align: middle;\n",
       "    }\n",
       "\n",
       "    .dataframe tbody tr th {\n",
       "        vertical-align: top;\n",
       "    }\n",
       "\n",
       "    .dataframe thead th {\n",
       "        text-align: right;\n",
       "    }\n",
       "</style>\n",
       "<table border=\"1\" class=\"dataframe\">\n",
       "  <thead>\n",
       "    <tr style=\"text-align: right;\">\n",
       "      <th>states</th>\n",
       "      <th>2020-07-01</th>\n",
       "      <th>2020-07-02</th>\n",
       "      <th>2020-07-03</th>\n",
       "      <th>2020-07-04</th>\n",
       "      <th>2020-07-05</th>\n",
       "      <th>2020-07-06</th>\n",
       "      <th>2020-07-07</th>\n",
       "      <th>2020-07-08</th>\n",
       "      <th>2020-07-09</th>\n",
       "      <th>2020-07-10</th>\n",
       "      <th>...</th>\n",
       "      <th>2020-11-23</th>\n",
       "      <th>2020-11-24</th>\n",
       "      <th>2020-11-25</th>\n",
       "      <th>2020-11-26</th>\n",
       "      <th>2020-11-27</th>\n",
       "      <th>2020-11-28</th>\n",
       "      <th>2020-11-29</th>\n",
       "      <th>2020-11-30</th>\n",
       "      <th>2020-12-01</th>\n",
       "      <th>2020-12-02</th>\n",
       "    </tr>\n",
       "    <tr>\n",
       "      <th>state</th>\n",
       "      <th></th>\n",
       "      <th></th>\n",
       "      <th></th>\n",
       "      <th></th>\n",
       "      <th></th>\n",
       "      <th></th>\n",
       "      <th></th>\n",
       "      <th></th>\n",
       "      <th></th>\n",
       "      <th></th>\n",
       "      <th></th>\n",
       "      <th></th>\n",
       "      <th></th>\n",
       "      <th></th>\n",
       "      <th></th>\n",
       "      <th></th>\n",
       "      <th></th>\n",
       "      <th></th>\n",
       "      <th></th>\n",
       "      <th></th>\n",
       "      <th></th>\n",
       "    </tr>\n",
       "  </thead>\n",
       "  <tbody>\n",
       "    <tr>\n",
       "      <th>Delhi</th>\n",
       "      <td>0</td>\n",
       "      <td>2373</td>\n",
       "      <td>2520</td>\n",
       "      <td>2505</td>\n",
       "      <td>2244</td>\n",
       "      <td>1379</td>\n",
       "      <td>2008</td>\n",
       "      <td>2033</td>\n",
       "      <td>2187</td>\n",
       "      <td>2089</td>\n",
       "      <td>...</td>\n",
       "      <td>4454</td>\n",
       "      <td>6224</td>\n",
       "      <td>5246</td>\n",
       "      <td>5475</td>\n",
       "      <td>5482</td>\n",
       "      <td>4998</td>\n",
       "      <td>4906</td>\n",
       "      <td>3726</td>\n",
       "      <td>4006</td>\n",
       "      <td>3944</td>\n",
       "    </tr>\n",
       "    <tr>\n",
       "      <th>Telangana</th>\n",
       "      <td>0</td>\n",
       "      <td>1213</td>\n",
       "      <td>1892</td>\n",
       "      <td>1850</td>\n",
       "      <td>1590</td>\n",
       "      <td>1831</td>\n",
       "      <td>1879</td>\n",
       "      <td>1924</td>\n",
       "      <td>1410</td>\n",
       "      <td>1278</td>\n",
       "      <td>...</td>\n",
       "      <td>602</td>\n",
       "      <td>921</td>\n",
       "      <td>993</td>\n",
       "      <td>862</td>\n",
       "      <td>761</td>\n",
       "      <td>753</td>\n",
       "      <td>805</td>\n",
       "      <td>593</td>\n",
       "      <td>502</td>\n",
       "      <td>565</td>\n",
       "    </tr>\n",
       "    <tr>\n",
       "      <th>Odisha</th>\n",
       "      <td>0</td>\n",
       "      <td>229</td>\n",
       "      <td>561</td>\n",
       "      <td>495</td>\n",
       "      <td>469</td>\n",
       "      <td>456</td>\n",
       "      <td>571</td>\n",
       "      <td>527</td>\n",
       "      <td>577</td>\n",
       "      <td>755</td>\n",
       "      <td>...</td>\n",
       "      <td>668</td>\n",
       "      <td>642</td>\n",
       "      <td>730</td>\n",
       "      <td>644</td>\n",
       "      <td>594</td>\n",
       "      <td>550</td>\n",
       "      <td>518</td>\n",
       "      <td>418</td>\n",
       "      <td>378</td>\n",
       "      <td>480</td>\n",
       "    </tr>\n",
       "    <tr>\n",
       "      <th>Tripura</th>\n",
       "      <td>0</td>\n",
       "      <td>39</td>\n",
       "      <td>93</td>\n",
       "      <td>25</td>\n",
       "      <td>23</td>\n",
       "      <td>111</td>\n",
       "      <td>24</td>\n",
       "      <td>57</td>\n",
       "      <td>16</td>\n",
       "      <td>142</td>\n",
       "      <td>...</td>\n",
       "      <td>19</td>\n",
       "      <td>59</td>\n",
       "      <td>35</td>\n",
       "      <td>50</td>\n",
       "      <td>32</td>\n",
       "      <td>31</td>\n",
       "      <td>0</td>\n",
       "      <td>54</td>\n",
       "      <td>31</td>\n",
       "      <td>38</td>\n",
       "    </tr>\n",
       "    <tr>\n",
       "      <th>Mizoram</th>\n",
       "      <td>0</td>\n",
       "      <td>2</td>\n",
       "      <td>0</td>\n",
       "      <td>2</td>\n",
       "      <td>22</td>\n",
       "      <td>11</td>\n",
       "      <td>1</td>\n",
       "      <td>5</td>\n",
       "      <td>0</td>\n",
       "      <td>23</td>\n",
       "      <td>...</td>\n",
       "      <td>13</td>\n",
       "      <td>50</td>\n",
       "      <td>35</td>\n",
       "      <td>20</td>\n",
       "      <td>23</td>\n",
       "      <td>18</td>\n",
       "      <td>17</td>\n",
       "      <td>2</td>\n",
       "      <td>22</td>\n",
       "      <td>22</td>\n",
       "    </tr>\n",
       "  </tbody>\n",
       "</table>\n",
       "<p>5 rows × 155 columns</p>\n",
       "</div>"
      ],
      "text/plain": [
       "states     2020-07-01  2020-07-02  2020-07-03  2020-07-04  2020-07-05  \\\n",
       "state                                                                   \n",
       "Delhi               0        2373        2520        2505        2244   \n",
       "Telangana           0        1213        1892        1850        1590   \n",
       "Odisha              0         229         561         495         469   \n",
       "Tripura             0          39          93          25          23   \n",
       "Mizoram             0           2           0           2          22   \n",
       "\n",
       "states     2020-07-06  2020-07-07  2020-07-08  2020-07-09  2020-07-10  ...  \\\n",
       "state                                                                  ...   \n",
       "Delhi            1379        2008        2033        2187        2089  ...   \n",
       "Telangana        1831        1879        1924        1410        1278  ...   \n",
       "Odisha            456         571         527         577         755  ...   \n",
       "Tripura           111          24          57          16         142  ...   \n",
       "Mizoram            11           1           5           0          23  ...   \n",
       "\n",
       "states     2020-11-23  2020-11-24  2020-11-25  2020-11-26  2020-11-27  \\\n",
       "state                                                                   \n",
       "Delhi            4454        6224        5246        5475        5482   \n",
       "Telangana         602         921         993         862         761   \n",
       "Odisha            668         642         730         644         594   \n",
       "Tripura            19          59          35          50          32   \n",
       "Mizoram            13          50          35          20          23   \n",
       "\n",
       "states     2020-11-28  2020-11-29  2020-11-30  2020-12-01  2020-12-02  \n",
       "state                                                                  \n",
       "Delhi            4998        4906        3726        4006        3944  \n",
       "Telangana         753         805         593         502         565  \n",
       "Odisha            550         518         418         378         480  \n",
       "Tripura            31           0          54          31          38  \n",
       "Mizoram            18          17           2          22          22  \n",
       "\n",
       "[5 rows x 155 columns]"
      ]
     },
     "execution_count": 18,
     "metadata": {},
     "output_type": "execute_result"
    }
   ],
   "source": [
    "#hide\n",
    "dft_ct_new_cases.head()"
   ]
  },
  {
   "cell_type": "code",
   "execution_count": 19,
   "metadata": {
    "execution": {
     "iopub.execute_input": "2020-12-02T11:40:15.526477Z",
     "iopub.status.busy": "2020-12-02T11:40:15.505486Z",
     "iopub.status.idle": "2020-12-02T11:40:21.656015Z",
     "shell.execute_reply": "2020-12-02T11:40:21.656486Z"
    },
    "papermill": {
     "duration": 6.178005,
     "end_time": "2020-12-02T11:40:21.656635",
     "exception": false,
     "start_time": "2020-12-02T11:40:15.478630",
     "status": "completed"
    },
    "tags": []
   },
   "outputs": [
    {
     "data": {
      "image/png": "[encoded data removed]",
      "text/plain": [
       "<Figure size 1296x2016 with 11 Axes>"
      ]
     },
     "metadata": {
      "needs_background": "light"
     },
     "output_type": "display_data"
    }
   ],
   "source": [
    "#hide_input\n",
    "df = dft_ct_new_cases.copy()\n",
    "df.loc['Total'] = df.sum()\n",
    "n = 5\n",
    "ax = []\n",
    "fig = plt.figure(figsize = (18,28))\n",
    "gs = fig.add_gridspec(n+2, 5)\n",
    "# gs = fig.add_gridspec(2, 3)\n",
    "ax1 = fig.add_subplot(gs[0, :])\n",
    "ef = df.loc['Total'].rename_axis('date').reset_index()\n",
    "ef['date'] = ef['date'].astype('datetime64[ns]')\n",
    "ax1.bar(ef.date,ef.Total,alpha=0.3,color='#007acc')\n",
    "ax1.plot(ef.date,ef.Total , marker=\"o\", color='#007acc')\n",
    "ax1.xaxis.set_major_locator(mdates.WeekdayLocator())\n",
    "ax1.xaxis.set_major_formatter(mdates.DateFormatter('%b %d'))\n",
    "ax1.text(0.02, 0.5,'India daily case count', transform = ax1.transAxes, fontsize=25);\n",
    "ax1.spines['right'].set_visible(False)\n",
    "ax1.spines['top'].set_visible(False)\n",
    "\n",
    "ax2 = fig.add_subplot(gs[1,0])\n",
    "ef = df.loc['Maharashtra'].rename_axis('date').reset_index()\n",
    "ef['date'] = ef['date'].astype('datetime64[ns]')\n",
    "\n",
    "ax2.bar(ef.date, ef.Maharashtra,color = '#007acc',alpha=0.5)\n",
    "ax2.xaxis.set_major_locator(mdates.WeekdayLocator())\n",
    "ax2.xaxis.set_major_formatter(mdates.DateFormatter('%b %d'))\n",
    "ax2.set_xticks(ax2.get_xticks()[::3])\n",
    "maxyval = ef.Maharashtra.max()\n",
    "ax2.set_ylim([0,maxyval])\n",
    "ax2.text(0.05, 0.9,'Maharashtra', transform = ax2.transAxes, fontsize=20);\n",
    "ax2.spines['right'].set_visible(False)\n",
    "ax2.spines['top'].set_visible(False)\n",
    "\n",
    "\n",
    "ax3 = fig.add_subplot(gs[1,1])\n",
    "ef = df.loc['Tamil Nadu'].rename_axis('date').reset_index()\n",
    "ef['date'] = ef['date'].astype('datetime64[ns]')\n",
    "ax3.bar(ef.date, ef['Tamil Nadu'],color = '#007acc',alpha=0.5,)\n",
    "ax3.xaxis.set_major_locator(mdates.WeekdayLocator())\n",
    "ax3.xaxis.set_major_formatter(mdates.DateFormatter('%b %d'))\n",
    "ax3.set_xticks(ax3.get_xticks()[::3])\n",
    "ax3.text(0.05, 0.9,'Tamil Nadu', transform = ax3.transAxes, fontsize=20);\n",
    "ax3.spines['right'].set_visible(False)\n",
    "ax3.spines['top'].set_visible(False)\n",
    "\n",
    "ax5 = fig.add_subplot(gs[1,3])\n",
    "ef = df.loc['Telangana'].rename_axis('date').reset_index()\n",
    "ef['date'] = ef['date'].astype('datetime64[ns]')\n",
    "ax5.bar(ef.date, ef['Telangana'],color = '#007acc',alpha=0.5,)\n",
    "ax5.xaxis.set_major_locator(mdates.WeekdayLocator())\n",
    "ax5.xaxis.set_major_formatter(mdates.DateFormatter('%b %d'))\n",
    "ax5.set_xticks(ax5.get_xticks()[::3])\n",
    "ax5.text(0.05, 0.9,'Telangana', transform = ax5.transAxes, fontsize=20);\n",
    "ax5.spines['right'].set_visible(False)\n",
    "ax5.spines['top'].set_visible(False)\n",
    "\n",
    "ax6 = fig.add_subplot(gs[1,4])\n",
    "ef = df.loc['Andhra Pradesh'].rename_axis('date').reset_index()\n",
    "ef['date'] = ef['date'].astype('datetime64[ns]')\n",
    "ax6.bar(ef.date, ef['Andhra Pradesh'],color = '#007acc',alpha=0.5,)\n",
    "ax6.xaxis.set_major_locator(mdates.WeekdayLocator())\n",
    "ax6.xaxis.set_major_formatter(mdates.DateFormatter('%b %d'))\n",
    "ax6.set_xticks(ax6.get_xticks()[::3])\n",
    "ax6.text(0.05, 1,'Andhra Pradesh', transform = ax6.transAxes, fontsize=20);\n",
    "ax6.spines['right'].set_visible(False)\n",
    "ax6.spines['top'].set_visible(False)\n",
    "\n",
    "ax4 = fig.add_subplot(gs[1,2])\n",
    "ef = df.loc['Delhi'].rename_axis('date').reset_index()\n",
    "ef['date'] = ef['date'].astype('datetime64[ns]')\n",
    "ax4.bar(ef.date, ef.Delhi,color = '#007acc',alpha=0.5)\n",
    "ax4.set_xticks([])\n",
    "ax4.xaxis.set_major_locator(mdates.WeekdayLocator())\n",
    "ax4.xaxis.set_major_formatter(mdates.DateFormatter('%b %d'))\n",
    "ax4.set_xticks(ax4.get_xticks()[::3])\n",
    "ax4.spines['right'].set_visible(False)\n",
    "ax4.spines['top'].set_visible(False)\n",
    "\n",
    "ax4.text(0.05, 1,'Delhi', transform = ax4.transAxes, fontsize=20)\n",
    "\n",
    "for i in range(n):\n",
    "    \n",
    "    ax.append(fig.add_subplot(gs[i+2,:]))\n",
    "    ef = df.iloc[i+3].rename_axis('date').reset_index()\n",
    "    ef['date'] = ef['date'].astype('datetime64[ns]')\n",
    "    ax[i].bar(ef.date,ef.iloc[:,-1],color = '#007acc',alpha=0.3)\n",
    "    ax[i].plot(ef.date,ef.iloc[:,-1],marker='o',color='#007acc')\n",
    "    ax[i].text(0.02,0.5,f'{ef.columns.values[-1]}',transform = ax[i].transAxes, fontsize = 20);\n",
    "    ax[i].xaxis.set_major_locator(mdates.WeekdayLocator())\n",
    "    ax[i].xaxis.set_major_formatter(mdates.DateFormatter('%b %d'))\n",
    "    ax[i].set_ylim([0,7000])\n",
    "    ax[i].spines['right'].set_visible(False)\n",
    "    ax[i].spines['top'].set_visible(False)\n",
    "plt.tight_layout()\n"
   ]
  },
  {
   "cell_type": "code",
   "execution_count": 20,
   "metadata": {
    "execution": {
     "iopub.execute_input": "2020-12-02T11:40:21.719674Z",
     "iopub.status.busy": "2020-12-02T11:40:21.719048Z",
     "iopub.status.idle": "2020-12-02T11:40:21.723874Z",
     "shell.execute_reply": "2020-12-02T11:40:21.723401Z"
    },
    "papermill": {
     "duration": 0.039851,
     "end_time": "2020-12-02T11:40:21.724003",
     "exception": false,
     "start_time": "2020-12-02T11:40:21.684152",
     "status": "completed"
    },
    "tags": []
   },
   "outputs": [
    {
     "name": "stdout",
     "output_type": "stream",
     "text": [
      "                                   states    Cases  Deaths   PCases  PDeaths  Cases (+)  Deaths (+)  Fatality Rate\n",
      "                              Maharashtra  1828826   47246  1828826    47246          0           0           2.58\n",
      "                                Karnataka   886227   11792   886227    11792          0           0           1.33\n",
      "                           Andhra Pradesh   868749    6996   868749     6996          0           0           0.81\n",
      "                               Tamil Nadu   783319   11722   783319    11722          0           0           1.50\n",
      "                                   Kerala   608358    2271   608358     2271          0           0           0.37\n",
      "                                    Delhi   578324    9342   574380     9260       3944          82           1.62\n",
      "                            Uttar Pradesh   545545    7788   545545     7788          0           0           1.43\n",
      "                              West Bengal   486799    8476   486799     8476          0           0           1.74\n",
      "                                   Odisha   319583    1803   319103     1797        480           6           0.56\n",
      "                                Telangana   270883    1462   270318     1461        565           1           0.54\n",
      "                                Rajasthan   270410    2331   270410     2331          0           0           0.86\n",
      "                             Chhattisgarh   239215    2892   239215     2892          0           0           1.21\n",
      "                                    Bihar   236098    1268   236098     1268          0           0           0.54\n",
      "                                  Haryana   235997    2456   235997     2456          0           0           1.04\n",
      "                                    Assam   212998     981   212998      981          0           0           0.46\n",
      "                                  Gujarat   211257    4004   211257     4004          0           0           1.90\n",
      "                           Madhya Pradesh   207485    3270   207485     3270          0           0           1.58\n",
      "                                   Punjab   152709    4821   152709     4821          0           0           3.16\n",
      "                        Jammu and Kashmir   110678    1702   110678     1702          0           0           1.54\n",
      "                                Jharkhand   109332     969   109332      969          0           0           0.89\n",
      "                              Uttarakhand    75292    1238    75292     1238          0           0           1.64\n",
      "                                      Goa    48124     690    48124      690          0           0           1.43\n",
      "                         Himachal Pradesh    41227     656    41227      656          0           0           1.59\n",
      "                               Puducherry    37020     611    37020      611          0           0           1.65\n",
      "                                  Tripura    32761     369    32723      367         38           2           1.13\n",
      "                                  Manipur    25243     289    25243      289          0           0           1.14\n",
      "                               Chandigarh    17537     278    17537      278          0           0           1.59\n",
      "                        Arunachal Pradesh    16296      54    16296       54          0           0           0.33\n",
      "                                Meghalaya    11875     112    11875      112          0           0           0.94\n",
      "                                 Nagaland    11209      64    11209       64          0           0           0.57\n",
      "                                   Ladakh     8477     119     8477      119          0           0           1.40\n",
      "                                   Sikkim     5032     110     5032      110          0           0           2.19\n",
      "              Andaman and Nicobar Islands     4718      61     4718       61          0           0           1.29\n",
      "                                  Mizoram     3869       6     3847        6         22           0           0.16\n",
      " Dadra and Nagar Haveli and Daman and Diu     3331       2     3329        2          2           0           0.06\n",
      "                              Lakshadweep        0       0        0        0          0           0            NaN\n"
     ]
    }
   ],
   "source": [
    "#hide_input\n",
    "print(df_table.to_string(index=False))"
   ]
  },
  {
   "cell_type": "code",
   "execution_count": null,
   "metadata": {
    "papermill": {
     "duration": 0.023182,
     "end_time": "2020-12-02T11:40:21.770537",
     "exception": false,
     "start_time": "2020-12-02T11:40:21.747355",
     "status": "completed"
    },
    "tags": []
   },
   "outputs": [],
   "source": []
  },
  {
   "cell_type": "code",
   "execution_count": null,
   "metadata": {
    "papermill": {
     "duration": 0.023787,
     "end_time": "2020-12-02T11:40:21.817921",
     "exception": false,
     "start_time": "2020-12-02T11:40:21.794134",
     "status": "completed"
    },
    "tags": []
   },
   "outputs": [],
   "source": []
  }
 ],
 "metadata": {
  "kernelspec": {
   "display_name": "Python 3",
   "language": "python",
   "name": "python3"
  },
  "language_info": {
   "codemirror_mode": {
    "name": "ipython",
    "version": 3
   },
   "file_extension": ".py",
   "mimetype": "text/x-python",
   "name": "python",
   "nbconvert_exporter": "python",
   "pygments_lexer": "ipython3",
   "version": "3.6.12"
  },
  "papermill": {
   "duration": 14.252742,
   "end_time": "2020-12-02T11:40:22.351385",
   "environment_variables": {},
   "exception": null,
   "input_path": "latest.ipynb",
   "output_path": "latest.ipynb",
   "parameters": {},
   "start_time": "2020-12-02T11:40:08.098643",
   "version": "2.1.2"
  }
 },
 "nbformat": 4,
 "nbformat_minor": 4
}