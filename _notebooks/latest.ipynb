{
 "cells": [
  {
   "cell_type": "markdown",
   "metadata": {
    "papermill": {
     "duration": 0.020053,
     "end_time": "2020-11-20T12:43:27.513760",
     "exception": false,
     "start_time": "2020-11-20T12:43:27.493707",
     "status": "completed"
    },
    "tags": []
   },
   "source": [
    "# Latest COVID-19 India Matplotlib Overview"
   ]
  },
  {
   "cell_type": "code",
   "execution_count": 1,
   "metadata": {
    "execution": {
     "iopub.execute_input": "2020-11-20T12:43:27.551712Z",
     "iopub.status.busy": "2020-11-20T12:43:27.551056Z",
     "iopub.status.idle": "2020-11-20T12:43:28.152206Z",
     "shell.execute_reply": "2020-11-20T12:43:28.151198Z"
    },
    "papermill": {
     "duration": 0.622583,
     "end_time": "2020-11-20T12:43:28.152367",
     "exception": false,
     "start_time": "2020-11-20T12:43:27.529784",
     "status": "completed"
    },
    "tags": []
   },
   "outputs": [],
   "source": [
    "#hide\n",
    "import pandas as pd\n",
    "import numpy as np\n",
    "import requests\n",
    "import json\n",
    "import matplotlib.pyplot as plt\n",
    "import matplotlib.dates as mdates\n",
    "import matplotlib as mpl\n",
    "from IPython.core.display import display,HTML\n",
    "%matplotlib inline\n",
    "from datetime import date"
   ]
  },
  {
   "cell_type": "code",
   "execution_count": 2,
   "metadata": {
    "execution": {
     "iopub.execute_input": "2020-11-20T12:43:28.190522Z",
     "iopub.status.busy": "2020-11-20T12:43:28.189900Z",
     "iopub.status.idle": "2020-11-20T12:43:28.377979Z",
     "shell.execute_reply": "2020-11-20T12:43:28.377427Z"
    },
    "papermill": {
     "duration": 0.210512,
     "end_time": "2020-11-20T12:43:28.378113",
     "exception": false,
     "start_time": "2020-11-20T12:43:28.167601",
     "status": "completed"
    },
    "tags": []
   },
   "outputs": [],
   "source": [
    "#hide\n",
    "df  = pd.read_csv('https://api.covid19india.org/csv/latest/states.csv')\n",
    "df = df[['Date','State','Confirmed','Deceased']]\n",
    "df = df.rename(columns={'Confirmed':'Cases', \"Deceased\":'Deaths'})\n",
    "df_cases = df[[\"Date\",'State','Cases']]\n",
    "df_deaths = df[['Date','State','Deaths']]\n",
    "df_cases1 = df_cases.groupby('Date')\n",
    "df_deaths1= df_deaths.groupby('Date')"
   ]
  },
  {
   "cell_type": "code",
   "execution_count": 3,
   "metadata": {
    "execution": {
     "iopub.execute_input": "2020-11-20T12:43:28.414691Z",
     "iopub.status.busy": "2020-11-20T12:43:28.414104Z",
     "iopub.status.idle": "2020-11-20T12:43:28.431357Z",
     "shell.execute_reply": "2020-11-20T12:43:28.431809Z"
    },
    "papermill": {
     "duration": 0.03811,
     "end_time": "2020-11-20T12:43:28.431962",
     "exception": false,
     "start_time": "2020-11-20T12:43:28.393852",
     "status": "completed"
    },
    "tags": []
   },
   "outputs": [],
   "source": [
    "#hide\n",
    "df_snap = pd.read_csv('data/SnapshotCases-28-July.csv')\n",
    "arr_states = df_snap['states'].unique()\n",
    "arr_dates = df['Date'].unique()\n",
    "df_snap = df_snap.set_index('states')"
   ]
  },
  {
   "cell_type": "code",
   "execution_count": 4,
   "metadata": {
    "execution": {
     "iopub.execute_input": "2020-11-20T12:43:28.472137Z",
     "iopub.status.busy": "2020-11-20T12:43:28.471398Z",
     "iopub.status.idle": "2020-11-20T12:43:28.475674Z",
     "shell.execute_reply": "2020-11-20T12:43:28.475138Z"
    },
    "papermill": {
     "duration": 0.028621,
     "end_time": "2020-11-20T12:43:28.475818",
     "exception": false,
     "start_time": "2020-11-20T12:43:28.447197",
     "status": "completed"
    },
    "tags": []
   },
   "outputs": [
    {
     "data": {
      "text/plain": [
       "array(['Andaman and Nicobar Islands', 'Andhra Pradesh',\n",
       "       'Arunachal Pradesh', 'Assam', 'Bihar', 'Chandigarh',\n",
       "       'Dadra and Nagar Haveli and Daman and Diu', 'Delhi', 'Goa',\n",
       "       'Gujarat', 'Haryana', 'Himachal Pradesh', 'Jammu and Kashmir',\n",
       "       'Jharkhand', 'Karnataka', 'Kerala', 'Lakshadweep',\n",
       "       'Madhya Pradesh', 'Maharashtra', 'Manipur', 'Meghalaya', 'Mizoram',\n",
       "       'Nagaland', 'Odisha', 'Puducherry', 'Punjab', 'Rajasthan',\n",
       "       'Sikkim', 'Tamil Nadu', 'Telangana', 'Tripura', 'Uttar Pradesh',\n",
       "       'West Bengal', 'Chhattisgarh', 'Ladakh', 'Uttarakhand'],\n",
       "      dtype=object)"
      ]
     },
     "execution_count": 4,
     "metadata": {},
     "output_type": "execute_result"
    }
   ],
   "source": [
    "#hide\n",
    "arr_states[-9] = 'Puducherry'\n",
    "arr_states[-10] = 'Odisha'\n",
    "arr_states[6] = 'Dadra and Nagar Haveli and Daman and Diu'\n",
    "arr_states = np.append(arr_states,np.array(['Chhattisgarh','Ladakh','Uttarakhand']))\n",
    "arr_states"
   ]
  },
  {
   "cell_type": "code",
   "execution_count": 5,
   "metadata": {
    "execution": {
     "iopub.execute_input": "2020-11-20T12:43:28.521110Z",
     "iopub.status.busy": "2020-11-20T12:43:28.520354Z",
     "iopub.status.idle": "2020-11-20T12:43:28.529518Z",
     "shell.execute_reply": "2020-11-20T12:43:28.528966Z"
    },
    "papermill": {
     "duration": 0.03814,
     "end_time": "2020-11-20T12:43:28.529669",
     "exception": false,
     "start_time": "2020-11-20T12:43:28.491529",
     "status": "completed"
    },
    "tags": []
   },
   "outputs": [],
   "source": [
    "#hide\n",
    "dates = []\n",
    "for i in arr_dates:\n",
    "    if i>='2020-07-01':\n",
    "        dates.append(i)\n",
    "dict = {'states':dates}\n",
    "for i in arr_states:\n",
    "    dict[i] = [0]*len(dates)\n",
    "dft_cases = pd.DataFrame(dict)\n",
    "dft_deaths = pd.DataFrame(dict)\n"
   ]
  },
  {
   "cell_type": "code",
   "execution_count": 6,
   "metadata": {
    "execution": {
     "iopub.execute_input": "2020-11-20T12:43:28.568091Z",
     "iopub.status.busy": "2020-11-20T12:43:28.567383Z",
     "iopub.status.idle": "2020-11-20T12:43:30.599751Z",
     "shell.execute_reply": "2020-11-20T12:43:30.599192Z"
    },
    "papermill": {
     "duration": 2.054579,
     "end_time": "2020-11-20T12:43:30.599901",
     "exception": false,
     "start_time": "2020-11-20T12:43:28.545322",
     "status": "completed"
    },
    "tags": []
   },
   "outputs": [],
   "source": [
    "#hide\n",
    "for i in range(len(dates)):\n",
    "    df1_deaths = df_deaths1.get_group(dates[i])\n",
    "    for j in range(len(df1_deaths.index)):\n",
    "        if df1_deaths.iloc[j,1] in arr_states:\n",
    "            dft_deaths.loc[i,df1_deaths.iloc[j,1]] = df1_deaths.iloc[j,2]\n",
    "dft_deaths = dft_deaths.set_index('states')"
   ]
  },
  {
   "cell_type": "code",
   "execution_count": 7,
   "metadata": {
    "execution": {
     "iopub.execute_input": "2020-11-20T12:43:30.643941Z",
     "iopub.status.busy": "2020-11-20T12:43:30.643198Z",
     "iopub.status.idle": "2020-11-20T12:43:32.707963Z",
     "shell.execute_reply": "2020-11-20T12:43:32.707302Z"
    },
    "papermill": {
     "duration": 2.09161,
     "end_time": "2020-11-20T12:43:32.708138",
     "exception": false,
     "start_time": "2020-11-20T12:43:30.616528",
     "status": "completed"
    },
    "tags": []
   },
   "outputs": [],
   "source": [
    "#hide\n",
    "for i in range(len(dates)):\n",
    "    df1_cases = df_cases1.get_group(dates[i])\n",
    "    for j in range(len(df1_cases.index)):\n",
    "        if df1_cases.iloc[j,1] in arr_states:\n",
    "            dft_cases.loc[i,df1_cases.iloc[j,1]] = df1_cases.iloc[j,2]\n",
    "dft_cases = dft_cases.set_index('states')"
   ]
  },
  {
   "cell_type": "code",
   "execution_count": 8,
   "metadata": {
    "execution": {
     "iopub.execute_input": "2020-11-20T12:43:32.748881Z",
     "iopub.status.busy": "2020-11-20T12:43:32.747927Z",
     "iopub.status.idle": "2020-11-20T12:43:32.752704Z",
     "shell.execute_reply": "2020-11-20T12:43:32.752226Z"
    },
    "papermill": {
     "duration": 0.028435,
     "end_time": "2020-11-20T12:43:32.752840",
     "exception": false,
     "start_time": "2020-11-20T12:43:32.724405",
     "status": "completed"
    },
    "tags": []
   },
   "outputs": [],
   "source": [
    "#hide\n",
    "dft_cases = dft_cases.T\n",
    "dft_deaths = dft_deaths.T\n",
    "dt_today = dates[-1]\n",
    "dt_yday = dates[-2]"
   ]
  },
  {
   "cell_type": "code",
   "execution_count": 9,
   "metadata": {
    "execution": {
     "iopub.execute_input": "2020-11-20T12:43:32.792758Z",
     "iopub.status.busy": "2020-11-20T12:43:32.792100Z",
     "iopub.status.idle": "2020-11-20T12:43:32.796935Z",
     "shell.execute_reply": "2020-11-20T12:43:32.796429Z"
    },
    "papermill": {
     "duration": 0.028681,
     "end_time": "2020-11-20T12:43:32.797079",
     "exception": false,
     "start_time": "2020-11-20T12:43:32.768398",
     "status": "completed"
    },
    "tags": []
   },
   "outputs": [],
   "source": [
    "#hide\n",
    "dft_cases = dft_cases.reset_index()\n",
    "dft_deaths = dft_deaths.reset_index()\n",
    "dft_cases = dft_cases.rename(columns = {'index':'state'})\n",
    "dft_deaths = dft_deaths.rename(columns = {'index':'state'})"
   ]
  },
  {
   "cell_type": "code",
   "execution_count": 10,
   "metadata": {
    "execution": {
     "iopub.execute_input": "2020-11-20T12:43:32.840836Z",
     "iopub.status.busy": "2020-11-20T12:43:32.840156Z",
     "iopub.status.idle": "2020-11-20T12:43:32.842675Z",
     "shell.execute_reply": "2020-11-20T12:43:32.843265Z"
    },
    "papermill": {
     "duration": 0.030737,
     "end_time": "2020-11-20T12:43:32.843435",
     "exception": false,
     "start_time": "2020-11-20T12:43:32.812698",
     "status": "completed"
    },
    "tags": []
   },
   "outputs": [],
   "source": [
    "#hide\n",
    "dfc_cases = dft_cases.groupby('state')[dt_today].sum()\n",
    "dfc_deaths = dft_deaths.groupby('state')[dt_today].sum()\n",
    "dfp_cases = dft_cases.groupby('state')[dt_yday].sum()\n",
    "dfp_deaths = dft_deaths.groupby('state')[dt_yday].sum()"
   ]
  },
  {
   "cell_type": "code",
   "execution_count": 11,
   "metadata": {
    "execution": {
     "iopub.execute_input": "2020-11-20T12:43:32.895056Z",
     "iopub.status.busy": "2020-11-20T12:43:32.891340Z",
     "iopub.status.idle": "2020-11-20T12:43:32.898146Z",
     "shell.execute_reply": "2020-11-20T12:43:32.898675Z"
    },
    "papermill": {
     "duration": 0.039584,
     "end_time": "2020-11-20T12:43:32.898844",
     "exception": false,
     "start_time": "2020-11-20T12:43:32.859260",
     "status": "completed"
    },
    "tags": []
   },
   "outputs": [
    {
     "data": {
      "text/html": [
       "<div>\n",
       "<style scoped>\n",
       "    .dataframe tbody tr th:only-of-type {\n",
       "        vertical-align: middle;\n",
       "    }\n",
       "\n",
       "    .dataframe tbody tr th {\n",
       "        vertical-align: top;\n",
       "    }\n",
       "\n",
       "    .dataframe thead th {\n",
       "        text-align: right;\n",
       "    }\n",
       "</style>\n",
       "<table border=\"1\" class=\"dataframe\">\n",
       "  <thead>\n",
       "    <tr style=\"text-align: right;\">\n",
       "      <th></th>\n",
       "      <th>states</th>\n",
       "      <th>Cases</th>\n",
       "      <th>Deaths</th>\n",
       "      <th>PCases</th>\n",
       "      <th>PDeaths</th>\n",
       "    </tr>\n",
       "  </thead>\n",
       "  <tbody>\n",
       "    <tr>\n",
       "      <th>0</th>\n",
       "      <td>Maharashtra</td>\n",
       "      <td>1763055</td>\n",
       "      <td>46356</td>\n",
       "      <td>1763055</td>\n",
       "      <td>46356</td>\n",
       "    </tr>\n",
       "    <tr>\n",
       "      <th>1</th>\n",
       "      <td>Karnataka</td>\n",
       "      <td>867780</td>\n",
       "      <td>11604</td>\n",
       "      <td>867780</td>\n",
       "      <td>11604</td>\n",
       "    </tr>\n",
       "    <tr>\n",
       "      <th>2</th>\n",
       "      <td>Andhra Pradesh</td>\n",
       "      <td>858711</td>\n",
       "      <td>6910</td>\n",
       "      <td>858711</td>\n",
       "      <td>6910</td>\n",
       "    </tr>\n",
       "    <tr>\n",
       "      <th>3</th>\n",
       "      <td>Tamil Nadu</td>\n",
       "      <td>764989</td>\n",
       "      <td>11550</td>\n",
       "      <td>764989</td>\n",
       "      <td>11550</td>\n",
       "    </tr>\n",
       "    <tr>\n",
       "      <th>4</th>\n",
       "      <td>Kerala</td>\n",
       "      <td>545642</td>\n",
       "      <td>1970</td>\n",
       "      <td>545642</td>\n",
       "      <td>1970</td>\n",
       "    </tr>\n",
       "  </tbody>\n",
       "</table>\n",
       "</div>"
      ],
      "text/plain": [
       "           states    Cases  Deaths   PCases  PDeaths\n",
       "0     Maharashtra  1763055   46356  1763055    46356\n",
       "1       Karnataka   867780   11604   867780    11604\n",
       "2  Andhra Pradesh   858711    6910   858711     6910\n",
       "3      Tamil Nadu   764989   11550   764989    11550\n",
       "4          Kerala   545642    1970   545642     1970"
      ]
     },
     "execution_count": 11,
     "metadata": {},
     "output_type": "execute_result"
    }
   ],
   "source": [
    "#hide\n",
    "df_table = pd.DataFrame({'states': dfc_cases.index, 'Cases': dfc_cases.values, 'Deaths': dfc_deaths.values, 'PCases': dfp_cases.values, 'PDeaths': dfp_deaths.values}).set_index('states')\n",
    "df_table = df_table.sort_values(by = ['Cases','Deaths'], ascending = [False, False])\n",
    "df_table = df_table.reset_index()\n",
    "df_table.head()"
   ]
  },
  {
   "cell_type": "code",
   "execution_count": 12,
   "metadata": {
    "execution": {
     "iopub.execute_input": "2020-11-20T12:43:32.940750Z",
     "iopub.status.busy": "2020-11-20T12:43:32.940110Z",
     "iopub.status.idle": "2020-11-20T12:43:32.953561Z",
     "shell.execute_reply": "2020-11-20T12:43:32.953024Z"
    },
    "papermill": {
     "duration": 0.038628,
     "end_time": "2020-11-20T12:43:32.953709",
     "exception": false,
     "start_time": "2020-11-20T12:43:32.915081",
     "status": "completed"
    },
    "tags": []
   },
   "outputs": [],
   "source": [
    "#hide\n",
    "for c in 'Cases, Deaths'.split(', '):\n",
    "    df_table[f'{c} (+)'] = (df_table[c] - df_table[f'P{c}']).clip(0)\n",
    "df_table['Fatality Rate'] = (100* df_table['Deaths']/ df_table['Cases']).round(2)"
   ]
  },
  {
   "cell_type": "code",
   "execution_count": 13,
   "metadata": {
    "execution": {
     "iopub.execute_input": "2020-11-20T12:43:32.998052Z",
     "iopub.status.busy": "2020-11-20T12:43:32.992844Z",
     "iopub.status.idle": "2020-11-20T12:43:33.008153Z",
     "shell.execute_reply": "2020-11-20T12:43:33.008731Z"
    },
    "papermill": {
     "duration": 0.037298,
     "end_time": "2020-11-20T12:43:33.008891",
     "exception": false,
     "start_time": "2020-11-20T12:43:32.971593",
     "status": "completed"
    },
    "tags": []
   },
   "outputs": [
    {
     "data": {
      "text/html": [
       "<div>\n",
       "<style scoped>\n",
       "    .dataframe tbody tr th:only-of-type {\n",
       "        vertical-align: middle;\n",
       "    }\n",
       "\n",
       "    .dataframe tbody tr th {\n",
       "        vertical-align: top;\n",
       "    }\n",
       "\n",
       "    .dataframe thead th {\n",
       "        text-align: right;\n",
       "    }\n",
       "</style>\n",
       "<table border=\"1\" class=\"dataframe\">\n",
       "  <thead>\n",
       "    <tr style=\"text-align: right;\">\n",
       "      <th></th>\n",
       "      <th>states</th>\n",
       "      <th>Cases</th>\n",
       "      <th>Deaths</th>\n",
       "      <th>PCases</th>\n",
       "      <th>PDeaths</th>\n",
       "      <th>Cases (+)</th>\n",
       "      <th>Deaths (+)</th>\n",
       "      <th>Fatality Rate</th>\n",
       "    </tr>\n",
       "  </thead>\n",
       "  <tbody>\n",
       "    <tr>\n",
       "      <th>0</th>\n",
       "      <td>Maharashtra</td>\n",
       "      <td>1763055</td>\n",
       "      <td>46356</td>\n",
       "      <td>1763055</td>\n",
       "      <td>46356</td>\n",
       "      <td>0</td>\n",
       "      <td>0</td>\n",
       "      <td>2.63</td>\n",
       "    </tr>\n",
       "    <tr>\n",
       "      <th>1</th>\n",
       "      <td>Karnataka</td>\n",
       "      <td>867780</td>\n",
       "      <td>11604</td>\n",
       "      <td>867780</td>\n",
       "      <td>11604</td>\n",
       "      <td>0</td>\n",
       "      <td>0</td>\n",
       "      <td>1.34</td>\n",
       "    </tr>\n",
       "    <tr>\n",
       "      <th>2</th>\n",
       "      <td>Andhra Pradesh</td>\n",
       "      <td>858711</td>\n",
       "      <td>6910</td>\n",
       "      <td>858711</td>\n",
       "      <td>6910</td>\n",
       "      <td>0</td>\n",
       "      <td>0</td>\n",
       "      <td>0.80</td>\n",
       "    </tr>\n",
       "    <tr>\n",
       "      <th>3</th>\n",
       "      <td>Tamil Nadu</td>\n",
       "      <td>764989</td>\n",
       "      <td>11550</td>\n",
       "      <td>764989</td>\n",
       "      <td>11550</td>\n",
       "      <td>0</td>\n",
       "      <td>0</td>\n",
       "      <td>1.51</td>\n",
       "    </tr>\n",
       "    <tr>\n",
       "      <th>4</th>\n",
       "      <td>Kerala</td>\n",
       "      <td>545642</td>\n",
       "      <td>1970</td>\n",
       "      <td>545642</td>\n",
       "      <td>1970</td>\n",
       "      <td>0</td>\n",
       "      <td>0</td>\n",
       "      <td>0.36</td>\n",
       "    </tr>\n",
       "  </tbody>\n",
       "</table>\n",
       "</div>"
      ],
      "text/plain": [
       "           states    Cases  Deaths   PCases  PDeaths  Cases (+)  Deaths (+)  \\\n",
       "0     Maharashtra  1763055   46356  1763055    46356          0           0   \n",
       "1       Karnataka   867780   11604   867780    11604          0           0   \n",
       "2  Andhra Pradesh   858711    6910   858711     6910          0           0   \n",
       "3      Tamil Nadu   764989   11550   764989    11550          0           0   \n",
       "4          Kerala   545642    1970   545642     1970          0           0   \n",
       "\n",
       "   Fatality Rate  \n",
       "0           2.63  \n",
       "1           1.34  \n",
       "2           0.80  \n",
       "3           1.51  \n",
       "4           0.36  "
      ]
     },
     "execution_count": 13,
     "metadata": {},
     "output_type": "execute_result"
    }
   ],
   "source": [
    "#hide\n",
    "df_table.head()"
   ]
  },
  {
   "cell_type": "code",
   "execution_count": 14,
   "metadata": {
    "execution": {
     "iopub.execute_input": "2020-11-20T12:43:33.049585Z",
     "iopub.status.busy": "2020-11-20T12:43:33.048454Z",
     "iopub.status.idle": "2020-11-20T12:43:33.068632Z",
     "shell.execute_reply": "2020-11-20T12:43:33.068085Z"
    },
    "papermill": {
     "duration": 0.043317,
     "end_time": "2020-11-20T12:43:33.068773",
     "exception": false,
     "start_time": "2020-11-20T12:43:33.025456",
     "status": "completed"
    },
    "tags": []
   },
   "outputs": [
    {
     "data": {
      "text/plain": [
       "{'updated': '2020-11-20',\n",
       " 'since': '2020-11-19',\n",
       " 'Cases': 9006583,\n",
       " 'PCases': 9004325,\n",
       " 'Deaths': 132226,\n",
       " 'PDeaths': 132202,\n",
       " 'Cases (+)': 2258,\n",
       " 'Deaths (+)': 24}"
      ]
     },
     "execution_count": 14,
     "metadata": {},
     "output_type": "execute_result"
    }
   ],
   "source": [
    "#hide\n",
    "summary = {'updated':dates[-1], 'since':dates[-2]}\n",
    "list_names = ['Cases', 'PCases', 'Deaths', 'PDeaths', 'Cases (+)', 'Deaths (+)']\n",
    "for name in list_names:\n",
    "    summary[name] = df_table.sum()[name]\n",
    "summary"
   ]
  },
  {
   "cell_type": "code",
   "execution_count": 15,
   "metadata": {
    "execution": {
     "iopub.execute_input": "2020-11-20T12:43:33.108036Z",
     "iopub.status.busy": "2020-11-20T12:43:33.107382Z",
     "iopub.status.idle": "2020-11-20T12:43:33.109358Z",
     "shell.execute_reply": "2020-11-20T12:43:33.109818Z"
    },
    "papermill": {
     "duration": 0.024169,
     "end_time": "2020-11-20T12:43:33.109983",
     "exception": false,
     "start_time": "2020-11-20T12:43:33.085814",
     "status": "completed"
    },
    "tags": []
   },
   "outputs": [],
   "source": [
    "#hide\n",
    "overview = '''\n",
    "<!-- #######  HTML!! #########-->\n",
    "<h1 style=\"color: #5e9ca0; text-align: center;\">India</h1>\n",
    "<p style=\"text-align: center;\">Last update: <strong>{update}</strong></p>\n",
    "<p style=\"text-align: center;\">Confirmed cases:</p>\n",
    "<p style=\"text-align: center;font-size:24px;\">{cases} (<span style=\"color: #ff0000;\">+{new}</span>)</p>\n",
    "<p style=\"text-align: center;\">Confirmed deaths:</p>\n",
    "<p style=\"text-align: center;font-size:24px;\">{deaths} (<span style=\"color: #ff0000;\">+{dnew}</span>)</p>\n",
    "'''"
   ]
  },
  {
   "cell_type": "code",
   "execution_count": 16,
   "metadata": {
    "execution": {
     "iopub.execute_input": "2020-11-20T12:43:33.150533Z",
     "iopub.status.busy": "2020-11-20T12:43:33.149845Z",
     "iopub.status.idle": "2020-11-20T12:43:33.155300Z",
     "shell.execute_reply": "2020-11-20T12:43:33.154583Z"
    },
    "papermill": {
     "duration": 0.028785,
     "end_time": "2020-11-20T12:43:33.155455",
     "exception": false,
     "start_time": "2020-11-20T12:43:33.126670",
     "status": "completed"
    },
    "tags": []
   },
   "outputs": [
    {
     "data": {
      "text/html": [
       "\n",
       "<!-- #######  HTML!! #########-->\n",
       "<h1 style=\"color: #5e9ca0; text-align: center;\">India</h1>\n",
       "<p style=\"text-align: center;\">Last update: <strong>2020-11-20</strong></p>\n",
       "<p style=\"text-align: center;\">Confirmed cases:</p>\n",
       "<p style=\"text-align: center;font-size:24px;\">9006583 (<span style=\"color: #ff0000;\">+2258</span>)</p>\n",
       "<p style=\"text-align: center;\">Confirmed deaths:</p>\n",
       "<p style=\"text-align: center;font-size:24px;\">132226 (<span style=\"color: #ff0000;\">+24</span>)</p>\n"
      ],
      "text/plain": [
       "<IPython.core.display.HTML object>"
      ]
     },
     "metadata": {},
     "output_type": "display_data"
    }
   ],
   "source": [
    "#hide_input\n",
    "update = summary['updated']\n",
    "cases = summary['Cases']\n",
    "new = summary['Cases (+)']\n",
    "deaths = summary['Deaths']\n",
    "dnew = summary['Deaths (+)']\n",
    "\n",
    "html = HTML(overview.format(update=update, cases=cases,new=new,deaths=deaths,dnew=dnew))\n",
    "\n",
    "display(html)"
   ]
  },
  {
   "cell_type": "code",
   "execution_count": 17,
   "metadata": {
    "execution": {
     "iopub.execute_input": "2020-11-20T12:43:33.199584Z",
     "iopub.status.busy": "2020-11-20T12:43:33.198882Z",
     "iopub.status.idle": "2020-11-20T12:43:33.205269Z",
     "shell.execute_reply": "2020-11-20T12:43:33.204751Z"
    },
    "papermill": {
     "duration": 0.032328,
     "end_time": "2020-11-20T12:43:33.205413",
     "exception": false,
     "start_time": "2020-11-20T12:43:33.173085",
     "status": "completed"
    },
    "tags": []
   },
   "outputs": [],
   "source": [
    "#hide\n",
    "dt_cols = list(dft_cases.columns[1:])\n",
    "dft_ct_new_cases = dft_cases.groupby('state')[dt_cols].sum().diff(axis=1).fillna(0).astype(int)\n",
    "dft_ct_new_cases.sort_values(by = dates[-1], ascending = False,inplace = True)"
   ]
  },
  {
   "cell_type": "code",
   "execution_count": 18,
   "metadata": {
    "execution": {
     "iopub.execute_input": "2020-11-20T12:43:33.261332Z",
     "iopub.status.busy": "2020-11-20T12:43:33.260670Z",
     "iopub.status.idle": "2020-11-20T12:43:33.264158Z",
     "shell.execute_reply": "2020-11-20T12:43:33.264801Z"
    },
    "papermill": {
     "duration": 0.042306,
     "end_time": "2020-11-20T12:43:33.265036",
     "exception": false,
     "start_time": "2020-11-20T12:43:33.222730",
     "status": "completed"
    },
    "tags": []
   },
   "outputs": [
    {
     "data": {
      "text/html": [
       "<div>\n",
       "<style scoped>\n",
       "    .dataframe tbody tr th:only-of-type {\n",
       "        vertical-align: middle;\n",
       "    }\n",
       "\n",
       "    .dataframe tbody tr th {\n",
       "        vertical-align: top;\n",
       "    }\n",
       "\n",
       "    .dataframe thead th {\n",
       "        text-align: right;\n",
       "    }\n",
       "</style>\n",
       "<table border=\"1\" class=\"dataframe\">\n",
       "  <thead>\n",
       "    <tr style=\"text-align: right;\">\n",
       "      <th>states</th>\n",
       "      <th>2020-07-01</th>\n",
       "      <th>2020-07-02</th>\n",
       "      <th>2020-07-03</th>\n",
       "      <th>2020-07-04</th>\n",
       "      <th>2020-07-05</th>\n",
       "      <th>2020-07-06</th>\n",
       "      <th>2020-07-07</th>\n",
       "      <th>2020-07-08</th>\n",
       "      <th>2020-07-09</th>\n",
       "      <th>2020-07-10</th>\n",
       "      <th>...</th>\n",
       "      <th>2020-11-11</th>\n",
       "      <th>2020-11-12</th>\n",
       "      <th>2020-11-13</th>\n",
       "      <th>2020-11-14</th>\n",
       "      <th>2020-11-15</th>\n",
       "      <th>2020-11-16</th>\n",
       "      <th>2020-11-17</th>\n",
       "      <th>2020-11-18</th>\n",
       "      <th>2020-11-19</th>\n",
       "      <th>2020-11-20</th>\n",
       "    </tr>\n",
       "    <tr>\n",
       "      <th>state</th>\n",
       "      <th></th>\n",
       "      <th></th>\n",
       "      <th></th>\n",
       "      <th></th>\n",
       "      <th></th>\n",
       "      <th></th>\n",
       "      <th></th>\n",
       "      <th></th>\n",
       "      <th></th>\n",
       "      <th></th>\n",
       "      <th></th>\n",
       "      <th></th>\n",
       "      <th></th>\n",
       "      <th></th>\n",
       "      <th></th>\n",
       "      <th></th>\n",
       "      <th></th>\n",
       "      <th></th>\n",
       "      <th></th>\n",
       "      <th></th>\n",
       "      <th></th>\n",
       "    </tr>\n",
       "  </thead>\n",
       "  <tbody>\n",
       "    <tr>\n",
       "      <th>Telangana</th>\n",
       "      <td>0</td>\n",
       "      <td>1213</td>\n",
       "      <td>1892</td>\n",
       "      <td>1850</td>\n",
       "      <td>1590</td>\n",
       "      <td>1831</td>\n",
       "      <td>1879</td>\n",
       "      <td>1924</td>\n",
       "      <td>1410</td>\n",
       "      <td>1278</td>\n",
       "      <td>...</td>\n",
       "      <td>1196</td>\n",
       "      <td>1015</td>\n",
       "      <td>997</td>\n",
       "      <td>1050</td>\n",
       "      <td>661</td>\n",
       "      <td>502</td>\n",
       "      <td>952</td>\n",
       "      <td>948</td>\n",
       "      <td>1058</td>\n",
       "      <td>894</td>\n",
       "    </tr>\n",
       "    <tr>\n",
       "      <th>Odisha</th>\n",
       "      <td>0</td>\n",
       "      <td>229</td>\n",
       "      <td>561</td>\n",
       "      <td>495</td>\n",
       "      <td>469</td>\n",
       "      <td>456</td>\n",
       "      <td>571</td>\n",
       "      <td>527</td>\n",
       "      <td>577</td>\n",
       "      <td>755</td>\n",
       "      <td>...</td>\n",
       "      <td>1220</td>\n",
       "      <td>986</td>\n",
       "      <td>1018</td>\n",
       "      <td>902</td>\n",
       "      <td>753</td>\n",
       "      <td>749</td>\n",
       "      <td>644</td>\n",
       "      <td>868</td>\n",
       "      <td>868</td>\n",
       "      <td>757</td>\n",
       "    </tr>\n",
       "    <tr>\n",
       "      <th>Bihar</th>\n",
       "      <td>0</td>\n",
       "      <td>478</td>\n",
       "      <td>426</td>\n",
       "      <td>349</td>\n",
       "      <td>403</td>\n",
       "      <td>280</td>\n",
       "      <td>388</td>\n",
       "      <td>749</td>\n",
       "      <td>704</td>\n",
       "      <td>352</td>\n",
       "      <td>...</td>\n",
       "      <td>702</td>\n",
       "      <td>523</td>\n",
       "      <td>581</td>\n",
       "      <td>588</td>\n",
       "      <td>247</td>\n",
       "      <td>517</td>\n",
       "      <td>513</td>\n",
       "      <td>734</td>\n",
       "      <td>794</td>\n",
       "      <td>495</td>\n",
       "    </tr>\n",
       "    <tr>\n",
       "      <th>Tripura</th>\n",
       "      <td>0</td>\n",
       "      <td>39</td>\n",
       "      <td>93</td>\n",
       "      <td>25</td>\n",
       "      <td>23</td>\n",
       "      <td>111</td>\n",
       "      <td>24</td>\n",
       "      <td>57</td>\n",
       "      <td>16</td>\n",
       "      <td>142</td>\n",
       "      <td>...</td>\n",
       "      <td>84</td>\n",
       "      <td>59</td>\n",
       "      <td>76</td>\n",
       "      <td>78</td>\n",
       "      <td>26</td>\n",
       "      <td>17</td>\n",
       "      <td>77</td>\n",
       "      <td>73</td>\n",
       "      <td>105</td>\n",
       "      <td>75</td>\n",
       "    </tr>\n",
       "    <tr>\n",
       "      <th>Mizoram</th>\n",
       "      <td>0</td>\n",
       "      <td>2</td>\n",
       "      <td>0</td>\n",
       "      <td>2</td>\n",
       "      <td>22</td>\n",
       "      <td>11</td>\n",
       "      <td>1</td>\n",
       "      <td>5</td>\n",
       "      <td>0</td>\n",
       "      <td>23</td>\n",
       "      <td>...</td>\n",
       "      <td>61</td>\n",
       "      <td>25</td>\n",
       "      <td>67</td>\n",
       "      <td>59</td>\n",
       "      <td>25</td>\n",
       "      <td>3</td>\n",
       "      <td>48</td>\n",
       "      <td>37</td>\n",
       "      <td>32</td>\n",
       "      <td>28</td>\n",
       "    </tr>\n",
       "  </tbody>\n",
       "</table>\n",
       "<p>5 rows × 143 columns</p>\n",
       "</div>"
      ],
      "text/plain": [
       "states     2020-07-01  2020-07-02  2020-07-03  2020-07-04  2020-07-05  \\\n",
       "state                                                                   \n",
       "Telangana           0        1213        1892        1850        1590   \n",
       "Odisha              0         229         561         495         469   \n",
       "Bihar               0         478         426         349         403   \n",
       "Tripura             0          39          93          25          23   \n",
       "Mizoram             0           2           0           2          22   \n",
       "\n",
       "states     2020-07-06  2020-07-07  2020-07-08  2020-07-09  2020-07-10  ...  \\\n",
       "state                                                                  ...   \n",
       "Telangana        1831        1879        1924        1410        1278  ...   \n",
       "Odisha            456         571         527         577         755  ...   \n",
       "Bihar             280         388         749         704         352  ...   \n",
       "Tripura           111          24          57          16         142  ...   \n",
       "Mizoram            11           1           5           0          23  ...   \n",
       "\n",
       "states     2020-11-11  2020-11-12  2020-11-13  2020-11-14  2020-11-15  \\\n",
       "state                                                                   \n",
       "Telangana        1196        1015         997        1050         661   \n",
       "Odisha           1220         986        1018         902         753   \n",
       "Bihar             702         523         581         588         247   \n",
       "Tripura            84          59          76          78          26   \n",
       "Mizoram            61          25          67          59          25   \n",
       "\n",
       "states     2020-11-16  2020-11-17  2020-11-18  2020-11-19  2020-11-20  \n",
       "state                                                                  \n",
       "Telangana         502         952         948        1058         894  \n",
       "Odisha            749         644         868         868         757  \n",
       "Bihar             517         513         734         794         495  \n",
       "Tripura            17          77          73         105          75  \n",
       "Mizoram             3          48          37          32          28  \n",
       "\n",
       "[5 rows x 143 columns]"
      ]
     },
     "execution_count": 18,
     "metadata": {},
     "output_type": "execute_result"
    }
   ],
   "source": [
    "#hide\n",
    "dft_ct_new_cases.head()"
   ]
  },
  {
   "cell_type": "code",
   "execution_count": 19,
   "metadata": {
    "execution": {
     "iopub.execute_input": "2020-11-20T12:43:33.321401Z",
     "iopub.status.busy": "2020-11-20T12:43:33.311012Z",
     "iopub.status.idle": "2020-11-20T12:43:38.774614Z",
     "shell.execute_reply": "2020-11-20T12:43:38.775146Z"
    },
    "papermill": {
     "duration": 5.491263,
     "end_time": "2020-11-20T12:43:38.775321",
     "exception": false,
     "start_time": "2020-11-20T12:43:33.284058",
     "status": "completed"
    },
    "tags": []
   },
   "outputs": [
    {
     "data": {
      "image/png": "[encoded data removed]",
      "text/plain": [
       "<Figure size 1296x2016 with 11 Axes>"
      ]
     },
     "metadata": {
      "needs_background": "light"
     },
     "output_type": "display_data"
    }
   ],
   "source": [
    "#hide_input\n",
    "df = dft_ct_new_cases.copy()\n",
    "df.loc['Total'] = df.sum()\n",
    "n = 5\n",
    "ax = []\n",
    "fig = plt.figure(figsize = (18,28))\n",
    "gs = fig.add_gridspec(n+2, 5)\n",
    "# gs = fig.add_gridspec(2, 3)\n",
    "ax1 = fig.add_subplot(gs[0, :])\n",
    "ef = df.loc['Total'].rename_axis('date').reset_index()\n",
    "ef['date'] = ef['date'].astype('datetime64[ns]')\n",
    "ax1.bar(ef.date,ef.Total,alpha=0.3,color='#007acc')\n",
    "ax1.plot(ef.date,ef.Total , marker=\"o\", color='#007acc')\n",
    "ax1.xaxis.set_major_locator(mdates.WeekdayLocator())\n",
    "ax1.xaxis.set_major_formatter(mdates.DateFormatter('%b %d'))\n",
    "ax1.text(0.02, 0.5,'India daily case count', transform = ax1.transAxes, fontsize=25);\n",
    "ax1.spines['right'].set_visible(False)\n",
    "ax1.spines['top'].set_visible(False)\n",
    "\n",
    "ax2 = fig.add_subplot(gs[1,0])\n",
    "ef = df.loc['Maharashtra'].rename_axis('date').reset_index()\n",
    "ef['date'] = ef['date'].astype('datetime64[ns]')\n",
    "\n",
    "ax2.bar(ef.date, ef.Maharashtra,color = '#007acc',alpha=0.5)\n",
    "ax2.xaxis.set_major_locator(mdates.WeekdayLocator())\n",
    "ax2.xaxis.set_major_formatter(mdates.DateFormatter('%b %d'))\n",
    "ax2.set_xticks(ax2.get_xticks()[::3])\n",
    "maxyval = ef.Maharashtra.max()\n",
    "ax2.set_ylim([0,maxyval])\n",
    "ax2.text(0.05, 0.9,'Maharashtra', transform = ax2.transAxes, fontsize=20);\n",
    "ax2.spines['right'].set_visible(False)\n",
    "ax2.spines['top'].set_visible(False)\n",
    "\n",
    "\n",
    "ax3 = fig.add_subplot(gs[1,1])\n",
    "ef = df.loc['Tamil Nadu'].rename_axis('date').reset_index()\n",
    "ef['date'] = ef['date'].astype('datetime64[ns]')\n",
    "ax3.bar(ef.date, ef['Tamil Nadu'],color = '#007acc',alpha=0.5,)\n",
    "ax3.xaxis.set_major_locator(mdates.WeekdayLocator())\n",
    "ax3.xaxis.set_major_formatter(mdates.DateFormatter('%b %d'))\n",
    "ax3.set_xticks(ax3.get_xticks()[::3])\n",
    "ax3.text(0.05, 0.9,'Tamil Nadu', transform = ax3.transAxes, fontsize=20);\n",
    "ax3.spines['right'].set_visible(False)\n",
    "ax3.spines['top'].set_visible(False)\n",
    "\n",
    "ax5 = fig.add_subplot(gs[1,3])\n",
    "ef = df.loc['Telangana'].rename_axis('date').reset_index()\n",
    "ef['date'] = ef['date'].astype('datetime64[ns]')\n",
    "ax5.bar(ef.date, ef['Telangana'],color = '#007acc',alpha=0.5,)\n",
    "ax5.xaxis.set_major_locator(mdates.WeekdayLocator())\n",
    "ax5.xaxis.set_major_formatter(mdates.DateFormatter('%b %d'))\n",
    "ax5.set_xticks(ax5.get_xticks()[::3])\n",
    "ax5.text(0.05, 0.9,'Telangana', transform = ax5.transAxes, fontsize=20);\n",
    "ax5.spines['right'].set_visible(False)\n",
    "ax5.spines['top'].set_visible(False)\n",
    "\n",
    "ax6 = fig.add_subplot(gs[1,4])\n",
    "ef = df.loc['Andhra Pradesh'].rename_axis('date').reset_index()\n",
    "ef['date'] = ef['date'].astype('datetime64[ns]')\n",
    "ax6.bar(ef.date, ef['Andhra Pradesh'],color = '#007acc',alpha=0.5,)\n",
    "ax6.xaxis.set_major_locator(mdates.WeekdayLocator())\n",
    "ax6.xaxis.set_major_formatter(mdates.DateFormatter('%b %d'))\n",
    "ax6.set_xticks(ax6.get_xticks()[::3])\n",
    "ax6.text(0.05, 1,'Andhra Pradesh', transform = ax6.transAxes, fontsize=20);\n",
    "ax6.spines['right'].set_visible(False)\n",
    "ax6.spines['top'].set_visible(False)\n",
    "\n",
    "ax4 = fig.add_subplot(gs[1,2])\n",
    "ef = df.loc['Delhi'].rename_axis('date').reset_index()\n",
    "ef['date'] = ef['date'].astype('datetime64[ns]')\n",
    "ax4.bar(ef.date, ef.Delhi,color = '#007acc',alpha=0.5)\n",
    "ax4.set_xticks([])\n",
    "ax4.xaxis.set_major_locator(mdates.WeekdayLocator())\n",
    "ax4.xaxis.set_major_formatter(mdates.DateFormatter('%b %d'))\n",
    "ax4.set_xticks(ax4.get_xticks()[::3])\n",
    "ax4.spines['right'].set_visible(False)\n",
    "ax4.spines['top'].set_visible(False)\n",
    "\n",
    "ax4.text(0.05, 1,'Delhi', transform = ax4.transAxes, fontsize=20)\n",
    "\n",
    "for i in range(n):\n",
    "    \n",
    "    ax.append(fig.add_subplot(gs[i+2,:]))\n",
    "    ef = df.iloc[i+3].rename_axis('date').reset_index()\n",
    "    ef['date'] = ef['date'].astype('datetime64[ns]')\n",
    "    ax[i].bar(ef.date,ef.iloc[:,-1],color = '#007acc',alpha=0.3)\n",
    "    ax[i].plot(ef.date,ef.iloc[:,-1],marker='o',color='#007acc')\n",
    "    ax[i].text(0.02,0.5,f'{ef.columns.values[-1]}',transform = ax[i].transAxes, fontsize = 20);\n",
    "    ax[i].xaxis.set_major_locator(mdates.WeekdayLocator())\n",
    "    ax[i].xaxis.set_major_formatter(mdates.DateFormatter('%b %d'))\n",
    "    ax[i].set_ylim([0,7000])\n",
    "    ax[i].spines['right'].set_visible(False)\n",
    "    ax[i].spines['top'].set_visible(False)\n",
    "plt.tight_layout()\n"
   ]
  },
  {
   "cell_type": "code",
   "execution_count": 20,
   "metadata": {
    "execution": {
     "iopub.execute_input": "2020-11-20T12:43:38.832650Z",
     "iopub.status.busy": "2020-11-20T12:43:38.831860Z",
     "iopub.status.idle": "2020-11-20T12:43:38.836384Z",
     "shell.execute_reply": "2020-11-20T12:43:38.836834Z"
    },
    "papermill": {
     "duration": 0.037208,
     "end_time": "2020-11-20T12:43:38.836989",
     "exception": false,
     "start_time": "2020-11-20T12:43:38.799781",
     "status": "completed"
    },
    "tags": []
   },
   "outputs": [
    {
     "name": "stdout",
     "output_type": "stream",
     "text": [
      "                                   states    Cases  Deaths   PCases  PDeaths  Cases (+)  Deaths (+)  Fatality Rate\n",
      "                              Maharashtra  1763055   46356  1763055    46356          0           0           2.63\n",
      "                                Karnataka   867780   11604   867780    11604          0           0           1.34\n",
      "                           Andhra Pradesh   858711    6910   858711     6910          0           0           0.80\n",
      "                               Tamil Nadu   764989   11550   764989    11550          0           0           1.51\n",
      "                                   Kerala   545642    1970   545642     1970          0           0           0.36\n",
      "                            Uttar Pradesh   519148    7480   519148     7480          0           0           1.44\n",
      "                                    Delhi   510630    8041   510630     8041          0           0           1.57\n",
      "                              West Bengal   445505    7873   445505     7873          0           0           1.77\n",
      "                                   Odisha   312545    1661   311788     1645        757          16           0.53\n",
      "                                Telangana   261728    1423   260834     1419        894           4           0.54\n",
      "                                Rajasthan   234907    2116   234907     2116          0           0           0.90\n",
      "                                    Bihar   229969    1212   229474     1209        495           3           0.53\n",
      "                             Chhattisgarh   217562    2672   217562     2672          0           0           1.23\n",
      "                                    Assam   211040     970   211040      970          0           0           0.46\n",
      "                                  Haryana   209251    2113   209251     2113          0           0           1.01\n",
      "                                  Gujarat   192982    3830   192982     3830          0           0           1.98\n",
      "                           Madhya Pradesh   188018    3129   188018     3129          0           0           1.66\n",
      "                                   Punjab   144177    4556   144177     4556          0           0           3.16\n",
      "                                Jharkhand   106972     937   106972      937          0           0           0.88\n",
      "                        Jammu and Kashmir   104715    1618   104715     1618          0           0           1.55\n",
      "                              Uttarakhand    69693    1134    69693     1134          0           0           1.63\n",
      "                                      Goa    46480     670    46480      670          0           0           1.44\n",
      "                               Puducherry    36533     609    36533      609          0           0           1.67\n",
      "                                  Tripura    32289     362    32214      361         75           1           1.12\n",
      "                         Himachal Pradesh    32197     480    32197      480          0           0           1.49\n",
      "                                  Manipur    22548     231    22548      231          0           0           1.02\n",
      "                               Chandigarh    16322     254    16322      254          0           0           1.56\n",
      "                        Arunachal Pradesh    15976      49    15976       49          0           0           0.31\n",
      "                                Meghalaya    10979     104    10979      104          0           0           0.95\n",
      "                                 Nagaland    10460      54    10460       54          0           0           0.52\n",
      "                                   Ladakh     7714      95     7714       95          0           0           1.23\n",
      "                                   Sikkim     4610      95     4610       95          0           0           2.06\n",
      "              Andaman and Nicobar Islands     4604      61     4604       61          0           0           1.32\n",
      "                                  Mizoram     3541       5     3513        5         28           0           0.14\n",
      " Dadra and Nagar Haveli and Daman and Diu     3311       2     3302        2          9           0           0.06\n",
      "                              Lakshadweep        0       0        0        0          0           0            NaN\n"
     ]
    }
   ],
   "source": [
    "#hide_input\n",
    "print(df_table.to_string(index=False))"
   ]
  },
  {
   "cell_type": "code",
   "execution_count": null,
   "metadata": {
    "papermill": {
     "duration": 0.023202,
     "end_time": "2020-11-20T12:43:38.883742",
     "exception": false,
     "start_time": "2020-11-20T12:43:38.860540",
     "status": "completed"
    },
    "tags": []
   },
   "outputs": [],
   "source": []
  },
  {
   "cell_type": "code",
   "execution_count": null,
   "metadata": {
    "papermill": {
     "duration": 0.023168,
     "end_time": "2020-11-20T12:43:38.930463",
     "exception": false,
     "start_time": "2020-11-20T12:43:38.907295",
     "status": "completed"
    },
    "tags": []
   },
   "outputs": [],
   "source": []
  }
 ],
 "metadata": {
  "kernelspec": {
   "display_name": "Python 3",
   "language": "python",
   "name": "python3"
  },
  "language_info": {
   "codemirror_mode": {
    "name": "ipython",
    "version": 3
   },
   "file_extension": ".py",
   "mimetype": "text/x-python",
   "name": "python",
   "nbconvert_exporter": "python",
   "pygments_lexer": "ipython3",
   "version": "3.6.12"
  },
  "papermill": {
   "duration": 13.166047,
   "end_time": "2020-11-20T12:43:39.563437",
   "environment_variables": {},
   "exception": null,
   "input_path": "latest.ipynb",
   "output_path": "latest.ipynb",
   "parameters": {},
   "start_time": "2020-11-20T12:43:26.397390",
   "version": "2.1.2"
  }
 },
 "nbformat": 4,
 "nbformat_minor": 4
}