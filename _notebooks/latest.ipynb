{
 "cells": [
  {
   "cell_type": "markdown",
   "metadata": {
    "papermill": {
     "duration": 0.019118,
     "end_time": "2020-09-15T04:38:13.864457",
     "exception": false,
     "start_time": "2020-09-15T04:38:13.845339",
     "status": "completed"
    },
    "tags": []
   },
   "source": [
    "# Latest COVID-19 India Matplotlib Overview"
   ]
  },
  {
   "cell_type": "code",
   "execution_count": 1,
   "metadata": {
    "execution": {
     "iopub.execute_input": "2020-09-15T04:38:13.899920Z",
     "iopub.status.busy": "2020-09-15T04:38:13.899335Z",
     "iopub.status.idle": "2020-09-15T04:38:14.473158Z",
     "shell.execute_reply": "2020-09-15T04:38:14.472572Z"
    },
    "papermill": {
     "duration": 0.593884,
     "end_time": "2020-09-15T04:38:14.473340",
     "exception": false,
     "start_time": "2020-09-15T04:38:13.879456",
     "status": "completed"
    },
    "tags": []
   },
   "outputs": [],
   "source": [
    "#hide\n",
    "import pandas as pd\n",
    "import numpy as np\n",
    "import requests\n",
    "import json\n",
    "import matplotlib.pyplot as plt\n",
    "import matplotlib.dates as mdates\n",
    "import matplotlib as mpl\n",
    "from IPython.core.display import display,HTML\n",
    "%matplotlib inline\n",
    "from datetime import date"
   ]
  },
  {
   "cell_type": "code",
   "execution_count": 2,
   "metadata": {
    "execution": {
     "iopub.execute_input": "2020-09-15T04:38:14.510057Z",
     "iopub.status.busy": "2020-09-15T04:38:14.506174Z",
     "iopub.status.idle": "2020-09-15T04:38:14.606512Z",
     "shell.execute_reply": "2020-09-15T04:38:14.606972Z"
    },
    "papermill": {
     "duration": 0.118194,
     "end_time": "2020-09-15T04:38:14.607157",
     "exception": false,
     "start_time": "2020-09-15T04:38:14.488963",
     "status": "completed"
    },
    "tags": []
   },
   "outputs": [],
   "source": [
    "#hide\n",
    "df  = pd.read_csv('https://api.covid19india.org/csv/latest/states.csv')\n",
    "df = df[['Date','State','Confirmed','Deceased']]\n",
    "df = df.rename(columns={'Confirmed':'Cases', \"Deceased\":'Deaths'})\n",
    "df_cases = df[[\"Date\",'State','Cases']]\n",
    "df_deaths = df[['Date','State','Deaths']]\n",
    "df_cases1 = df_cases.groupby('Date')\n",
    "df_deaths1= df_deaths.groupby('Date')"
   ]
  },
  {
   "cell_type": "code",
   "execution_count": 3,
   "metadata": {
    "execution": {
     "iopub.execute_input": "2020-09-15T04:38:14.642170Z",
     "iopub.status.busy": "2020-09-15T04:38:14.641481Z",
     "iopub.status.idle": "2020-09-15T04:38:14.657707Z",
     "shell.execute_reply": "2020-09-15T04:38:14.657245Z"
    },
    "papermill": {
     "duration": 0.035123,
     "end_time": "2020-09-15T04:38:14.657821",
     "exception": false,
     "start_time": "2020-09-15T04:38:14.622698",
     "status": "completed"
    },
    "tags": []
   },
   "outputs": [],
   "source": [
    "#hide\n",
    "df_snap = pd.read_csv('data/SnapshotCases-28-July.csv')\n",
    "arr_states = df_snap['states'].unique()\n",
    "arr_dates = df['Date'].unique()\n",
    "df_snap = df_snap.set_index('states')"
   ]
  },
  {
   "cell_type": "code",
   "execution_count": 4,
   "metadata": {
    "execution": {
     "iopub.execute_input": "2020-09-15T04:38:14.693713Z",
     "iopub.status.busy": "2020-09-15T04:38:14.693156Z",
     "iopub.status.idle": "2020-09-15T04:38:14.696536Z",
     "shell.execute_reply": "2020-09-15T04:38:14.696095Z"
    },
    "papermill": {
     "duration": 0.024356,
     "end_time": "2020-09-15T04:38:14.696642",
     "exception": false,
     "start_time": "2020-09-15T04:38:14.672286",
     "status": "completed"
    },
    "tags": []
   },
   "outputs": [
    {
     "data": {
      "text/plain": [
       "array(['Andaman and Nicobar Islands', 'Andhra Pradesh',\n",
       "       'Arunachal Pradesh', 'Assam', 'Bihar', 'Chandigarh',\n",
       "       'Dadra and Nagar Haveli and Daman and Diu', 'Delhi', 'Goa',\n",
       "       'Gujarat', 'Haryana', 'Himachal Pradesh', 'Jammu and Kashmir',\n",
       "       'Jharkhand', 'Karnataka', 'Kerala', 'Lakshadweep',\n",
       "       'Madhya Pradesh', 'Maharashtra', 'Manipur', 'Meghalaya', 'Mizoram',\n",
       "       'Nagaland', 'Odisha', 'Puducherry', 'Punjab', 'Rajasthan',\n",
       "       'Sikkim', 'Tamil Nadu', 'Telangana', 'Tripura', 'Uttar Pradesh',\n",
       "       'West Bengal', 'Chhattisgarh', 'Ladakh', 'Uttarakhand'],\n",
       "      dtype=object)"
      ]
     },
     "execution_count": 4,
     "metadata": {},
     "output_type": "execute_result"
    }
   ],
   "source": [
    "#hide\n",
    "arr_states[-9] = 'Puducherry'\n",
    "arr_states[-10] = 'Odisha'\n",
    "arr_states[6] = 'Dadra and Nagar Haveli and Daman and Diu'\n",
    "arr_states = np.append(arr_states,np.array(['Chhattisgarh','Ladakh','Uttarakhand']))\n",
    "arr_states"
   ]
  },
  {
   "cell_type": "code",
   "execution_count": 5,
   "metadata": {
    "execution": {
     "iopub.execute_input": "2020-09-15T04:38:14.742411Z",
     "iopub.status.busy": "2020-09-15T04:38:14.741726Z",
     "iopub.status.idle": "2020-09-15T04:38:14.750163Z",
     "shell.execute_reply": "2020-09-15T04:38:14.749581Z"
    },
    "papermill": {
     "duration": 0.038402,
     "end_time": "2020-09-15T04:38:14.750297",
     "exception": false,
     "start_time": "2020-09-15T04:38:14.711895",
     "status": "completed"
    },
    "tags": []
   },
   "outputs": [],
   "source": [
    "#hide\n",
    "dates = []\n",
    "for i in arr_dates:\n",
    "    if i>='2020-07-01':\n",
    "        dates.append(i)\n",
    "dict = {'states':dates}\n",
    "for i in arr_states:\n",
    "    dict[i] = [0]*len(dates)\n",
    "dft_cases = pd.DataFrame(dict)\n",
    "dft_deaths = pd.DataFrame(dict)\n"
   ]
  },
  {
   "cell_type": "code",
   "execution_count": 6,
   "metadata": {
    "execution": {
     "iopub.execute_input": "2020-09-15T04:38:14.790686Z",
     "iopub.status.busy": "2020-09-15T04:38:14.789987Z",
     "iopub.status.idle": "2020-09-15T04:38:16.090551Z",
     "shell.execute_reply": "2020-09-15T04:38:16.089490Z"
    },
    "papermill": {
     "duration": 1.324791,
     "end_time": "2020-09-15T04:38:16.090692",
     "exception": false,
     "start_time": "2020-09-15T04:38:14.765901",
     "status": "completed"
    },
    "tags": []
   },
   "outputs": [],
   "source": [
    "#hide\n",
    "for i in range(len(dates)):\n",
    "    df1_deaths = df_deaths1.get_group(dates[i])\n",
    "    for j in range(len(df1_deaths.index)):\n",
    "        if df1_deaths.iloc[j,1] in arr_states:\n",
    "            dft_deaths.loc[i,df1_deaths.iloc[j,1]] = df1_deaths.iloc[j,2]\n",
    "dft_deaths = dft_deaths.set_index('states')"
   ]
  },
  {
   "cell_type": "code",
   "execution_count": 7,
   "metadata": {
    "execution": {
     "iopub.execute_input": "2020-09-15T04:38:16.127260Z",
     "iopub.status.busy": "2020-09-15T04:38:16.126666Z",
     "iopub.status.idle": "2020-09-15T04:38:17.341147Z",
     "shell.execute_reply": "2020-09-15T04:38:17.340176Z"
    },
    "papermill": {
     "duration": 1.236413,
     "end_time": "2020-09-15T04:38:17.341292",
     "exception": false,
     "start_time": "2020-09-15T04:38:16.104879",
     "status": "completed"
    },
    "tags": []
   },
   "outputs": [],
   "source": [
    "#hide\n",
    "for i in range(len(dates)):\n",
    "    df1_cases = df_cases1.get_group(dates[i])\n",
    "    for j in range(len(df1_cases.index)):\n",
    "        if df1_cases.iloc[j,1] in arr_states:\n",
    "            dft_cases.loc[i,df1_cases.iloc[j,1]] = df1_cases.iloc[j,2]\n",
    "dft_cases = dft_cases.set_index('states')"
   ]
  },
  {
   "cell_type": "code",
   "execution_count": 8,
   "metadata": {
    "execution": {
     "iopub.execute_input": "2020-09-15T04:38:17.376539Z",
     "iopub.status.busy": "2020-09-15T04:38:17.375149Z",
     "iopub.status.idle": "2020-09-15T04:38:17.377276Z",
     "shell.execute_reply": "2020-09-15T04:38:17.377789Z"
    },
    "papermill": {
     "duration": 0.022091,
     "end_time": "2020-09-15T04:38:17.377917",
     "exception": false,
     "start_time": "2020-09-15T04:38:17.355826",
     "status": "completed"
    },
    "tags": []
   },
   "outputs": [],
   "source": [
    "#hide\n",
    "dft_cases = dft_cases.T\n",
    "dft_deaths = dft_deaths.T\n",
    "dt_today = dates[-1]\n",
    "dt_yday = dates[-2]"
   ]
  },
  {
   "cell_type": "code",
   "execution_count": 9,
   "metadata": {
    "execution": {
     "iopub.execute_input": "2020-09-15T04:38:17.413868Z",
     "iopub.status.busy": "2020-09-15T04:38:17.413155Z",
     "iopub.status.idle": "2020-09-15T04:38:17.416246Z",
     "shell.execute_reply": "2020-09-15T04:38:17.416759Z"
    },
    "papermill": {
     "duration": 0.024401,
     "end_time": "2020-09-15T04:38:17.416882",
     "exception": false,
     "start_time": "2020-09-15T04:38:17.392481",
     "status": "completed"
    },
    "tags": []
   },
   "outputs": [],
   "source": [
    "#hide\n",
    "dft_cases = dft_cases.reset_index()\n",
    "dft_deaths = dft_deaths.reset_index()\n",
    "dft_cases = dft_cases.rename(columns = {'index':'state'})\n",
    "dft_deaths = dft_deaths.rename(columns = {'index':'state'})"
   ]
  },
  {
   "cell_type": "code",
   "execution_count": 10,
   "metadata": {
    "execution": {
     "iopub.execute_input": "2020-09-15T04:38:17.458402Z",
     "iopub.status.busy": "2020-09-15T04:38:17.457886Z",
     "iopub.status.idle": "2020-09-15T04:38:17.460410Z",
     "shell.execute_reply": "2020-09-15T04:38:17.459847Z"
    },
    "papermill": {
     "duration": 0.027877,
     "end_time": "2020-09-15T04:38:17.460515",
     "exception": false,
     "start_time": "2020-09-15T04:38:17.432638",
     "status": "completed"
    },
    "tags": []
   },
   "outputs": [],
   "source": [
    "#hide\n",
    "dfc_cases = dft_cases.groupby('state')[dt_today].sum()\n",
    "dfc_deaths = dft_deaths.groupby('state')[dt_today].sum()\n",
    "dfp_cases = dft_cases.groupby('state')[dt_yday].sum()\n",
    "dfp_deaths = dft_deaths.groupby('state')[dt_yday].sum()"
   ]
  },
  {
   "cell_type": "code",
   "execution_count": 11,
   "metadata": {
    "execution": {
     "iopub.execute_input": "2020-09-15T04:38:17.508151Z",
     "iopub.status.busy": "2020-09-15T04:38:17.507419Z",
     "iopub.status.idle": "2020-09-15T04:38:17.510870Z",
     "shell.execute_reply": "2020-09-15T04:38:17.510312Z"
    },
    "papermill": {
     "duration": 0.034958,
     "end_time": "2020-09-15T04:38:17.510981",
     "exception": false,
     "start_time": "2020-09-15T04:38:17.476023",
     "status": "completed"
    },
    "tags": []
   },
   "outputs": [
    {
     "data": {
      "text/html": [
       "<div>\n",
       "<style scoped>\n",
       "    .dataframe tbody tr th:only-of-type {\n",
       "        vertical-align: middle;\n",
       "    }\n",
       "\n",
       "    .dataframe tbody tr th {\n",
       "        vertical-align: top;\n",
       "    }\n",
       "\n",
       "    .dataframe thead th {\n",
       "        text-align: right;\n",
       "    }\n",
       "</style>\n",
       "<table border=\"1\" class=\"dataframe\">\n",
       "  <thead>\n",
       "    <tr style=\"text-align: right;\">\n",
       "      <th></th>\n",
       "      <th>states</th>\n",
       "      <th>Cases</th>\n",
       "      <th>Deaths</th>\n",
       "      <th>PCases</th>\n",
       "      <th>PDeaths</th>\n",
       "    </tr>\n",
       "  </thead>\n",
       "  <tbody>\n",
       "    <tr>\n",
       "      <th>0</th>\n",
       "      <td>Maharashtra</td>\n",
       "      <td>1077374</td>\n",
       "      <td>29894</td>\n",
       "      <td>1077374</td>\n",
       "      <td>29894</td>\n",
       "    </tr>\n",
       "    <tr>\n",
       "      <th>1</th>\n",
       "      <td>Andhra Pradesh</td>\n",
       "      <td>575079</td>\n",
       "      <td>4972</td>\n",
       "      <td>575079</td>\n",
       "      <td>4972</td>\n",
       "    </tr>\n",
       "    <tr>\n",
       "      <th>2</th>\n",
       "      <td>Tamil Nadu</td>\n",
       "      <td>508511</td>\n",
       "      <td>8434</td>\n",
       "      <td>508511</td>\n",
       "      <td>8434</td>\n",
       "    </tr>\n",
       "    <tr>\n",
       "      <th>3</th>\n",
       "      <td>Karnataka</td>\n",
       "      <td>467689</td>\n",
       "      <td>7384</td>\n",
       "      <td>467689</td>\n",
       "      <td>7384</td>\n",
       "    </tr>\n",
       "    <tr>\n",
       "      <th>4</th>\n",
       "      <td>Uttar Pradesh</td>\n",
       "      <td>317195</td>\n",
       "      <td>4491</td>\n",
       "      <td>317195</td>\n",
       "      <td>4491</td>\n",
       "    </tr>\n",
       "  </tbody>\n",
       "</table>\n",
       "</div>"
      ],
      "text/plain": [
       "           states    Cases  Deaths   PCases  PDeaths\n",
       "0     Maharashtra  1077374   29894  1077374    29894\n",
       "1  Andhra Pradesh   575079    4972   575079     4972\n",
       "2      Tamil Nadu   508511    8434   508511     8434\n",
       "3       Karnataka   467689    7384   467689     7384\n",
       "4   Uttar Pradesh   317195    4491   317195     4491"
      ]
     },
     "execution_count": 11,
     "metadata": {},
     "output_type": "execute_result"
    }
   ],
   "source": [
    "#hide\n",
    "df_table = pd.DataFrame({'states': dfc_cases.index, 'Cases': dfc_cases.values, 'Deaths': dfc_deaths.values, 'PCases': dfp_cases.values, 'PDeaths': dfp_deaths.values}).set_index('states')\n",
    "df_table = df_table.sort_values(by = ['Cases','Deaths'], ascending = [False, False])\n",
    "df_table = df_table.reset_index()\n",
    "df_table.head()"
   ]
  },
  {
   "cell_type": "code",
   "execution_count": 12,
   "metadata": {
    "execution": {
     "iopub.execute_input": "2020-09-15T04:38:17.550622Z",
     "iopub.status.busy": "2020-09-15T04:38:17.543688Z",
     "iopub.status.idle": "2020-09-15T04:38:17.552700Z",
     "shell.execute_reply": "2020-09-15T04:38:17.553129Z"
    },
    "papermill": {
     "duration": 0.028333,
     "end_time": "2020-09-15T04:38:17.553278",
     "exception": false,
     "start_time": "2020-09-15T04:38:17.524945",
     "status": "completed"
    },
    "tags": []
   },
   "outputs": [],
   "source": [
    "#hide\n",
    "for c in 'Cases, Deaths'.split(', '):\n",
    "    df_table[f'{c} (+)'] = (df_table[c] - df_table[f'P{c}']).clip(0)\n",
    "df_table['Fatality Rate'] = (100* df_table['Deaths']/ df_table['Cases']).round(2)"
   ]
  },
  {
   "cell_type": "code",
   "execution_count": 13,
   "metadata": {
    "execution": {
     "iopub.execute_input": "2020-09-15T04:38:17.593157Z",
     "iopub.status.busy": "2020-09-15T04:38:17.592556Z",
     "iopub.status.idle": "2020-09-15T04:38:17.595496Z",
     "shell.execute_reply": "2020-09-15T04:38:17.594975Z"
    },
    "papermill": {
     "duration": 0.027563,
     "end_time": "2020-09-15T04:38:17.595601",
     "exception": false,
     "start_time": "2020-09-15T04:38:17.568038",
     "status": "completed"
    },
    "tags": []
   },
   "outputs": [
    {
     "data": {
      "text/html": [
       "<div>\n",
       "<style scoped>\n",
       "    .dataframe tbody tr th:only-of-type {\n",
       "        vertical-align: middle;\n",
       "    }\n",
       "\n",
       "    .dataframe tbody tr th {\n",
       "        vertical-align: top;\n",
       "    }\n",
       "\n",
       "    .dataframe thead th {\n",
       "        text-align: right;\n",
       "    }\n",
       "</style>\n",
       "<table border=\"1\" class=\"dataframe\">\n",
       "  <thead>\n",
       "    <tr style=\"text-align: right;\">\n",
       "      <th></th>\n",
       "      <th>states</th>\n",
       "      <th>Cases</th>\n",
       "      <th>Deaths</th>\n",
       "      <th>PCases</th>\n",
       "      <th>PDeaths</th>\n",
       "      <th>Cases (+)</th>\n",
       "      <th>Deaths (+)</th>\n",
       "      <th>Fatality Rate</th>\n",
       "    </tr>\n",
       "  </thead>\n",
       "  <tbody>\n",
       "    <tr>\n",
       "      <th>0</th>\n",
       "      <td>Maharashtra</td>\n",
       "      <td>1077374</td>\n",
       "      <td>29894</td>\n",
       "      <td>1077374</td>\n",
       "      <td>29894</td>\n",
       "      <td>0</td>\n",
       "      <td>0</td>\n",
       "      <td>2.77</td>\n",
       "    </tr>\n",
       "    <tr>\n",
       "      <th>1</th>\n",
       "      <td>Andhra Pradesh</td>\n",
       "      <td>575079</td>\n",
       "      <td>4972</td>\n",
       "      <td>575079</td>\n",
       "      <td>4972</td>\n",
       "      <td>0</td>\n",
       "      <td>0</td>\n",
       "      <td>0.86</td>\n",
       "    </tr>\n",
       "    <tr>\n",
       "      <th>2</th>\n",
       "      <td>Tamil Nadu</td>\n",
       "      <td>508511</td>\n",
       "      <td>8434</td>\n",
       "      <td>508511</td>\n",
       "      <td>8434</td>\n",
       "      <td>0</td>\n",
       "      <td>0</td>\n",
       "      <td>1.66</td>\n",
       "    </tr>\n",
       "    <tr>\n",
       "      <th>3</th>\n",
       "      <td>Karnataka</td>\n",
       "      <td>467689</td>\n",
       "      <td>7384</td>\n",
       "      <td>467689</td>\n",
       "      <td>7384</td>\n",
       "      <td>0</td>\n",
       "      <td>0</td>\n",
       "      <td>1.58</td>\n",
       "    </tr>\n",
       "    <tr>\n",
       "      <th>4</th>\n",
       "      <td>Uttar Pradesh</td>\n",
       "      <td>317195</td>\n",
       "      <td>4491</td>\n",
       "      <td>317195</td>\n",
       "      <td>4491</td>\n",
       "      <td>0</td>\n",
       "      <td>0</td>\n",
       "      <td>1.42</td>\n",
       "    </tr>\n",
       "  </tbody>\n",
       "</table>\n",
       "</div>"
      ],
      "text/plain": [
       "           states    Cases  Deaths   PCases  PDeaths  Cases (+)  Deaths (+)  \\\n",
       "0     Maharashtra  1077374   29894  1077374    29894          0           0   \n",
       "1  Andhra Pradesh   575079    4972   575079     4972          0           0   \n",
       "2      Tamil Nadu   508511    8434   508511     8434          0           0   \n",
       "3       Karnataka   467689    7384   467689     7384          0           0   \n",
       "4   Uttar Pradesh   317195    4491   317195     4491          0           0   \n",
       "\n",
       "   Fatality Rate  \n",
       "0           2.77  \n",
       "1           0.86  \n",
       "2           1.66  \n",
       "3           1.58  \n",
       "4           1.42  "
      ]
     },
     "execution_count": 13,
     "metadata": {},
     "output_type": "execute_result"
    }
   ],
   "source": [
    "#hide\n",
    "df_table.head()"
   ]
  },
  {
   "cell_type": "code",
   "execution_count": 14,
   "metadata": {
    "execution": {
     "iopub.execute_input": "2020-09-15T04:38:17.653733Z",
     "iopub.status.busy": "2020-09-15T04:38:17.636071Z",
     "iopub.status.idle": "2020-09-15T04:38:17.657701Z",
     "shell.execute_reply": "2020-09-15T04:38:17.657204Z"
    },
    "papermill": {
     "duration": 0.044703,
     "end_time": "2020-09-15T04:38:17.657829",
     "exception": false,
     "start_time": "2020-09-15T04:38:17.613126",
     "status": "completed"
    },
    "tags": []
   },
   "outputs": [
    {
     "data": {
      "text/plain": [
       "{'updated': '2020-09-15',\n",
       " 'since': '2020-09-14',\n",
       " 'Cases': 4929543,\n",
       " 'PCases': 4926914,\n",
       " 'Deaths': 80825,\n",
       " 'PDeaths': 80808,\n",
       " 'Cases (+)': 2629,\n",
       " 'Deaths (+)': 17}"
      ]
     },
     "execution_count": 14,
     "metadata": {},
     "output_type": "execute_result"
    }
   ],
   "source": [
    "#hide\n",
    "summary = {'updated':dates[-1], 'since':dates[-2]}\n",
    "list_names = ['Cases', 'PCases', 'Deaths', 'PDeaths', 'Cases (+)', 'Deaths (+)']\n",
    "for name in list_names:\n",
    "    summary[name] = df_table.sum()[name]\n",
    "summary"
   ]
  },
  {
   "cell_type": "code",
   "execution_count": 15,
   "metadata": {
    "execution": {
     "iopub.execute_input": "2020-09-15T04:38:17.696708Z",
     "iopub.status.busy": "2020-09-15T04:38:17.696120Z",
     "iopub.status.idle": "2020-09-15T04:38:17.698471Z",
     "shell.execute_reply": "2020-09-15T04:38:17.697987Z"
    },
    "papermill": {
     "duration": 0.024322,
     "end_time": "2020-09-15T04:38:17.698589",
     "exception": false,
     "start_time": "2020-09-15T04:38:17.674267",
     "status": "completed"
    },
    "tags": []
   },
   "outputs": [],
   "source": [
    "#hide\n",
    "overview = '''\n",
    "<!-- #######  HTML!! #########-->\n",
    "<h1 style=\"color: #5e9ca0; text-align: center;\">India</h1>\n",
    "<p style=\"text-align: center;\">Last update: <strong>{update}</strong></p>\n",
    "<p style=\"text-align: center;\">Confirmed cases:</p>\n",
    "<p style=\"text-align: center;font-size:24px;\">{cases} (<span style=\"color: #ff0000;\">+{new}</span>)</p>\n",
    "<p style=\"text-align: center;\">Confirmed deaths:</p>\n",
    "<p style=\"text-align: center;font-size:24px;\">{deaths} (<span style=\"color: #ff0000;\">+{dnew}</span>)</p>\n",
    "'''"
   ]
  },
  {
   "cell_type": "code",
   "execution_count": 16,
   "metadata": {
    "execution": {
     "iopub.execute_input": "2020-09-15T04:38:17.738404Z",
     "iopub.status.busy": "2020-09-15T04:38:17.737788Z",
     "iopub.status.idle": "2020-09-15T04:38:17.741527Z",
     "shell.execute_reply": "2020-09-15T04:38:17.740851Z"
    },
    "papermill": {
     "duration": 0.026895,
     "end_time": "2020-09-15T04:38:17.741659",
     "exception": false,
     "start_time": "2020-09-15T04:38:17.714764",
     "status": "completed"
    },
    "tags": []
   },
   "outputs": [
    {
     "data": {
      "text/html": [
       "\n",
       "<!-- #######  HTML!! #########-->\n",
       "<h1 style=\"color: #5e9ca0; text-align: center;\">India</h1>\n",
       "<p style=\"text-align: center;\">Last update: <strong>2020-09-15</strong></p>\n",
       "<p style=\"text-align: center;\">Confirmed cases:</p>\n",
       "<p style=\"text-align: center;font-size:24px;\">4929543 (<span style=\"color: #ff0000;\">+2629</span>)</p>\n",
       "<p style=\"text-align: center;\">Confirmed deaths:</p>\n",
       "<p style=\"text-align: center;font-size:24px;\">80825 (<span style=\"color: #ff0000;\">+17</span>)</p>\n"
      ],
      "text/plain": [
       "<IPython.core.display.HTML object>"
      ]
     },
     "metadata": {},
     "output_type": "display_data"
    }
   ],
   "source": [
    "#hide_input\n",
    "update = summary['updated']\n",
    "cases = summary['Cases']\n",
    "new = summary['Cases (+)']\n",
    "deaths = summary['Deaths']\n",
    "dnew = summary['Deaths (+)']\n",
    "\n",
    "html = HTML(overview.format(update=update, cases=cases,new=new,deaths=deaths,dnew=dnew))\n",
    "\n",
    "display(html)"
   ]
  },
  {
   "cell_type": "code",
   "execution_count": 17,
   "metadata": {
    "execution": {
     "iopub.execute_input": "2020-09-15T04:38:17.783821Z",
     "iopub.status.busy": "2020-09-15T04:38:17.783158Z",
     "iopub.status.idle": "2020-09-15T04:38:17.788813Z",
     "shell.execute_reply": "2020-09-15T04:38:17.788220Z"
    },
    "papermill": {
     "duration": 0.029852,
     "end_time": "2020-09-15T04:38:17.789012",
     "exception": false,
     "start_time": "2020-09-15T04:38:17.759160",
     "status": "completed"
    },
    "tags": []
   },
   "outputs": [],
   "source": [
    "#hide\n",
    "dt_cols = list(dft_cases.columns[1:])\n",
    "dft_ct_new_cases = dft_cases.groupby('state')[dt_cols].sum().diff(axis=1).fillna(0).astype(int)\n",
    "dft_ct_new_cases.sort_values(by = dates[-1], ascending = False,inplace = True)"
   ]
  },
  {
   "cell_type": "code",
   "execution_count": 18,
   "metadata": {
    "execution": {
     "iopub.execute_input": "2020-09-15T04:38:17.840023Z",
     "iopub.status.busy": "2020-09-15T04:38:17.839394Z",
     "iopub.status.idle": "2020-09-15T04:38:17.842336Z",
     "shell.execute_reply": "2020-09-15T04:38:17.842814Z"
    },
    "papermill": {
     "duration": 0.037067,
     "end_time": "2020-09-15T04:38:17.842941",
     "exception": false,
     "start_time": "2020-09-15T04:38:17.805874",
     "status": "completed"
    },
    "tags": []
   },
   "outputs": [
    {
     "data": {
      "text/html": [
       "<div>\n",
       "<style scoped>\n",
       "    .dataframe tbody tr th:only-of-type {\n",
       "        vertical-align: middle;\n",
       "    }\n",
       "\n",
       "    .dataframe tbody tr th {\n",
       "        vertical-align: top;\n",
       "    }\n",
       "\n",
       "    .dataframe thead th {\n",
       "        text-align: right;\n",
       "    }\n",
       "</style>\n",
       "<table border=\"1\" class=\"dataframe\">\n",
       "  <thead>\n",
       "    <tr style=\"text-align: right;\">\n",
       "      <th>states</th>\n",
       "      <th>2020-07-01</th>\n",
       "      <th>2020-07-02</th>\n",
       "      <th>2020-07-03</th>\n",
       "      <th>2020-07-04</th>\n",
       "      <th>2020-07-05</th>\n",
       "      <th>2020-07-06</th>\n",
       "      <th>2020-07-07</th>\n",
       "      <th>2020-07-08</th>\n",
       "      <th>2020-07-09</th>\n",
       "      <th>2020-07-10</th>\n",
       "      <th>...</th>\n",
       "      <th>2020-09-06</th>\n",
       "      <th>2020-09-07</th>\n",
       "      <th>2020-09-08</th>\n",
       "      <th>2020-09-09</th>\n",
       "      <th>2020-09-10</th>\n",
       "      <th>2020-09-11</th>\n",
       "      <th>2020-09-12</th>\n",
       "      <th>2020-09-13</th>\n",
       "      <th>2020-09-14</th>\n",
       "      <th>2020-09-15</th>\n",
       "    </tr>\n",
       "    <tr>\n",
       "      <th>state</th>\n",
       "      <th></th>\n",
       "      <th></th>\n",
       "      <th></th>\n",
       "      <th></th>\n",
       "      <th></th>\n",
       "      <th></th>\n",
       "      <th></th>\n",
       "      <th></th>\n",
       "      <th></th>\n",
       "      <th></th>\n",
       "      <th></th>\n",
       "      <th></th>\n",
       "      <th></th>\n",
       "      <th></th>\n",
       "      <th></th>\n",
       "      <th></th>\n",
       "      <th></th>\n",
       "      <th></th>\n",
       "      <th></th>\n",
       "      <th></th>\n",
       "      <th></th>\n",
       "    </tr>\n",
       "  </thead>\n",
       "  <tbody>\n",
       "    <tr>\n",
       "      <th>Telangana</th>\n",
       "      <td>0</td>\n",
       "      <td>1213</td>\n",
       "      <td>1892</td>\n",
       "      <td>1850</td>\n",
       "      <td>1590</td>\n",
       "      <td>1831</td>\n",
       "      <td>1879</td>\n",
       "      <td>1924</td>\n",
       "      <td>1410</td>\n",
       "      <td>1278</td>\n",
       "      <td>...</td>\n",
       "      <td>2574</td>\n",
       "      <td>1802</td>\n",
       "      <td>2392</td>\n",
       "      <td>2479</td>\n",
       "      <td>2534</td>\n",
       "      <td>2426</td>\n",
       "      <td>2278</td>\n",
       "      <td>2216</td>\n",
       "      <td>1417</td>\n",
       "      <td>2058</td>\n",
       "    </tr>\n",
       "    <tr>\n",
       "      <th>Tripura</th>\n",
       "      <td>0</td>\n",
       "      <td>39</td>\n",
       "      <td>93</td>\n",
       "      <td>25</td>\n",
       "      <td>23</td>\n",
       "      <td>111</td>\n",
       "      <td>24</td>\n",
       "      <td>57</td>\n",
       "      <td>16</td>\n",
       "      <td>142</td>\n",
       "      <td>...</td>\n",
       "      <td>603</td>\n",
       "      <td>399</td>\n",
       "      <td>628</td>\n",
       "      <td>582</td>\n",
       "      <td>535</td>\n",
       "      <td>559</td>\n",
       "      <td>470</td>\n",
       "      <td>629</td>\n",
       "      <td>255</td>\n",
       "      <td>531</td>\n",
       "    </tr>\n",
       "    <tr>\n",
       "      <th>Mizoram</th>\n",
       "      <td>0</td>\n",
       "      <td>2</td>\n",
       "      <td>0</td>\n",
       "      <td>2</td>\n",
       "      <td>22</td>\n",
       "      <td>11</td>\n",
       "      <td>1</td>\n",
       "      <td>5</td>\n",
       "      <td>0</td>\n",
       "      <td>23</td>\n",
       "      <td>...</td>\n",
       "      <td>31</td>\n",
       "      <td>21</td>\n",
       "      <td>9</td>\n",
       "      <td>69</td>\n",
       "      <td>141</td>\n",
       "      <td>20</td>\n",
       "      <td>26</td>\n",
       "      <td>35</td>\n",
       "      <td>14</td>\n",
       "      <td>40</td>\n",
       "    </tr>\n",
       "    <tr>\n",
       "      <th>Andaman and Nicobar Islands</th>\n",
       "      <td>0</td>\n",
       "      <td>9</td>\n",
       "      <td>7</td>\n",
       "      <td>3</td>\n",
       "      <td>6</td>\n",
       "      <td>16</td>\n",
       "      <td>6</td>\n",
       "      <td>2</td>\n",
       "      <td>7</td>\n",
       "      <td>0</td>\n",
       "      <td>...</td>\n",
       "      <td>40</td>\n",
       "      <td>27</td>\n",
       "      <td>33</td>\n",
       "      <td>34</td>\n",
       "      <td>39</td>\n",
       "      <td>29</td>\n",
       "      <td>27</td>\n",
       "      <td>25</td>\n",
       "      <td>11</td>\n",
       "      <td>0</td>\n",
       "    </tr>\n",
       "    <tr>\n",
       "      <th>Puducherry</th>\n",
       "      <td>0</td>\n",
       "      <td>63</td>\n",
       "      <td>22</td>\n",
       "      <td>80</td>\n",
       "      <td>42</td>\n",
       "      <td>65</td>\n",
       "      <td>30</td>\n",
       "      <td>110</td>\n",
       "      <td>49</td>\n",
       "      <td>72</td>\n",
       "      <td>...</td>\n",
       "      <td>466</td>\n",
       "      <td>284</td>\n",
       "      <td>433</td>\n",
       "      <td>335</td>\n",
       "      <td>452</td>\n",
       "      <td>490</td>\n",
       "      <td>419</td>\n",
       "      <td>388</td>\n",
       "      <td>393</td>\n",
       "      <td>0</td>\n",
       "    </tr>\n",
       "  </tbody>\n",
       "</table>\n",
       "<p>5 rows × 77 columns</p>\n",
       "</div>"
      ],
      "text/plain": [
       "states                       2020-07-01  2020-07-02  2020-07-03  2020-07-04  \\\n",
       "state                                                                         \n",
       "Telangana                             0        1213        1892        1850   \n",
       "Tripura                               0          39          93          25   \n",
       "Mizoram                               0           2           0           2   \n",
       "Andaman and Nicobar Islands           0           9           7           3   \n",
       "Puducherry                            0          63          22          80   \n",
       "\n",
       "states                       2020-07-05  2020-07-06  2020-07-07  2020-07-08  \\\n",
       "state                                                                         \n",
       "Telangana                          1590        1831        1879        1924   \n",
       "Tripura                              23         111          24          57   \n",
       "Mizoram                              22          11           1           5   \n",
       "Andaman and Nicobar Islands           6          16           6           2   \n",
       "Puducherry                           42          65          30         110   \n",
       "\n",
       "states                       2020-07-09  2020-07-10  ...  2020-09-06  \\\n",
       "state                                                ...               \n",
       "Telangana                          1410        1278  ...        2574   \n",
       "Tripura                              16         142  ...         603   \n",
       "Mizoram                               0          23  ...          31   \n",
       "Andaman and Nicobar Islands           7           0  ...          40   \n",
       "Puducherry                           49          72  ...         466   \n",
       "\n",
       "states                       2020-09-07  2020-09-08  2020-09-09  2020-09-10  \\\n",
       "state                                                                         \n",
       "Telangana                          1802        2392        2479        2534   \n",
       "Tripura                             399         628         582         535   \n",
       "Mizoram                              21           9          69         141   \n",
       "Andaman and Nicobar Islands          27          33          34          39   \n",
       "Puducherry                          284         433         335         452   \n",
       "\n",
       "states                       2020-09-11  2020-09-12  2020-09-13  2020-09-14  \\\n",
       "state                                                                         \n",
       "Telangana                          2426        2278        2216        1417   \n",
       "Tripura                             559         470         629         255   \n",
       "Mizoram                              20          26          35          14   \n",
       "Andaman and Nicobar Islands          29          27          25          11   \n",
       "Puducherry                          490         419         388         393   \n",
       "\n",
       "states                       2020-09-15  \n",
       "state                                    \n",
       "Telangana                          2058  \n",
       "Tripura                             531  \n",
       "Mizoram                              40  \n",
       "Andaman and Nicobar Islands           0  \n",
       "Puducherry                            0  \n",
       "\n",
       "[5 rows x 77 columns]"
      ]
     },
     "execution_count": 18,
     "metadata": {},
     "output_type": "execute_result"
    }
   ],
   "source": [
    "#hide\n",
    "dft_ct_new_cases.head()"
   ]
  },
  {
   "cell_type": "code",
   "execution_count": 19,
   "metadata": {
    "execution": {
     "iopub.execute_input": "2020-09-15T04:38:17.889668Z",
     "iopub.status.busy": "2020-09-15T04:38:17.888971Z",
     "iopub.status.idle": "2020-09-15T04:38:21.911374Z",
     "shell.execute_reply": "2020-09-15T04:38:21.911795Z"
    },
    "papermill": {
     "duration": 4.052347,
     "end_time": "2020-09-15T04:38:21.911927",
     "exception": false,
     "start_time": "2020-09-15T04:38:17.859580",
     "status": "completed"
    },
    "tags": []
   },
   "outputs": [
    {
     "data": {
      "image/png": "[encoded data removed]",
      "text/plain": [
       "<Figure size 1296x2016 with 11 Axes>"
      ]
     },
     "metadata": {
      "needs_background": "light"
     },
     "output_type": "display_data"
    }
   ],
   "source": [
    "#hide_input\n",
    "df = dft_ct_new_cases.copy()\n",
    "df.loc['Total'] = df.sum()\n",
    "n = 5\n",
    "ax = []\n",
    "fig = plt.figure(figsize = (18,28))\n",
    "gs = fig.add_gridspec(n+2, 5)\n",
    "# gs = fig.add_gridspec(2, 3)\n",
    "ax1 = fig.add_subplot(gs[0, :])\n",
    "ef = df.loc['Total'].rename_axis('date').reset_index()\n",
    "ef['date'] = ef['date'].astype('datetime64[ns]')\n",
    "ax1.bar(ef.date,ef.Total,alpha=0.3,color='#007acc')\n",
    "ax1.plot(ef.date,ef.Total , marker=\"o\", color='#007acc')\n",
    "ax1.xaxis.set_major_locator(mdates.WeekdayLocator())\n",
    "ax1.xaxis.set_major_formatter(mdates.DateFormatter('%b %d'))\n",
    "ax1.text(0.02, 0.5,'India daily case count', transform = ax1.transAxes, fontsize=25);\n",
    "ax1.spines['right'].set_visible(False)\n",
    "ax1.spines['top'].set_visible(False)\n",
    "\n",
    "ax2 = fig.add_subplot(gs[1,0])\n",
    "ef = df.loc['Maharashtra'].rename_axis('date').reset_index()\n",
    "ef['date'] = ef['date'].astype('datetime64[ns]')\n",
    "\n",
    "ax2.bar(ef.date, ef.Maharashtra,color = '#007acc',alpha=0.5)\n",
    "ax2.xaxis.set_major_locator(mdates.WeekdayLocator())\n",
    "ax2.xaxis.set_major_formatter(mdates.DateFormatter('%b %d'))\n",
    "ax2.set_xticks(ax2.get_xticks()[::3])\n",
    "maxyval = ef.Maharashtra.max()\n",
    "ax2.set_ylim([0,maxyval])\n",
    "ax2.text(0.05, 0.9,'Maharashtra', transform = ax2.transAxes, fontsize=20);\n",
    "ax2.spines['right'].set_visible(False)\n",
    "ax2.spines['top'].set_visible(False)\n",
    "\n",
    "\n",
    "ax3 = fig.add_subplot(gs[1,1])\n",
    "ef = df.loc['Tamil Nadu'].rename_axis('date').reset_index()\n",
    "ef['date'] = ef['date'].astype('datetime64[ns]')\n",
    "ax3.bar(ef.date, ef['Tamil Nadu'],color = '#007acc',alpha=0.5,)\n",
    "ax3.xaxis.set_major_locator(mdates.WeekdayLocator())\n",
    "ax3.xaxis.set_major_formatter(mdates.DateFormatter('%b %d'))\n",
    "ax3.set_xticks(ax3.get_xticks()[::3])\n",
    "ax3.text(0.05, 0.9,'Tamil Nadu', transform = ax3.transAxes, fontsize=20);\n",
    "ax3.spines['right'].set_visible(False)\n",
    "ax3.spines['top'].set_visible(False)\n",
    "\n",
    "ax5 = fig.add_subplot(gs[1,3])\n",
    "ef = df.loc['Telangana'].rename_axis('date').reset_index()\n",
    "ef['date'] = ef['date'].astype('datetime64[ns]')\n",
    "ax5.bar(ef.date, ef['Telangana'],color = '#007acc',alpha=0.5,)\n",
    "ax5.xaxis.set_major_locator(mdates.WeekdayLocator())\n",
    "ax5.xaxis.set_major_formatter(mdates.DateFormatter('%b %d'))\n",
    "ax5.set_xticks(ax5.get_xticks()[::3])\n",
    "ax5.text(0.05, 0.9,'Telangana', transform = ax5.transAxes, fontsize=20);\n",
    "ax5.spines['right'].set_visible(False)\n",
    "ax5.spines['top'].set_visible(False)\n",
    "\n",
    "ax6 = fig.add_subplot(gs[1,4])\n",
    "ef = df.loc['Andhra Pradesh'].rename_axis('date').reset_index()\n",
    "ef['date'] = ef['date'].astype('datetime64[ns]')\n",
    "ax6.bar(ef.date, ef['Andhra Pradesh'],color = '#007acc',alpha=0.5,)\n",
    "ax6.xaxis.set_major_locator(mdates.WeekdayLocator())\n",
    "ax6.xaxis.set_major_formatter(mdates.DateFormatter('%b %d'))\n",
    "ax6.set_xticks(ax6.get_xticks()[::3])\n",
    "ax6.text(0.05, 1,'Andhra Pradesh', transform = ax6.transAxes, fontsize=20);\n",
    "ax6.spines['right'].set_visible(False)\n",
    "ax6.spines['top'].set_visible(False)\n",
    "\n",
    "ax4 = fig.add_subplot(gs[1,2])\n",
    "ef = df.loc['Delhi'].rename_axis('date').reset_index()\n",
    "ef['date'] = ef['date'].astype('datetime64[ns]')\n",
    "ax4.bar(ef.date, ef.Delhi,color = '#007acc',alpha=0.5)\n",
    "ax4.set_xticks([])\n",
    "ax4.xaxis.set_major_locator(mdates.WeekdayLocator())\n",
    "ax4.xaxis.set_major_formatter(mdates.DateFormatter('%b %d'))\n",
    "ax4.set_xticks(ax4.get_xticks()[::3])\n",
    "ax4.spines['right'].set_visible(False)\n",
    "ax4.spines['top'].set_visible(False)\n",
    "\n",
    "ax4.text(0.05, 1,'Delhi', transform = ax4.transAxes, fontsize=20)\n",
    "\n",
    "for i in range(n):\n",
    "    \n",
    "    ax.append(fig.add_subplot(gs[i+2,:]))\n",
    "    ef = df.iloc[i+3].rename_axis('date').reset_index()\n",
    "    ef['date'] = ef['date'].astype('datetime64[ns]')\n",
    "    ax[i].bar(ef.date,ef.iloc[:,-1],color = '#007acc',alpha=0.3)\n",
    "    ax[i].plot(ef.date,ef.iloc[:,-1],marker='o',color='#007acc')\n",
    "    ax[i].text(0.02,0.5,f'{ef.columns.values[-1]}',transform = ax[i].transAxes, fontsize = 20);\n",
    "    ax[i].xaxis.set_major_locator(mdates.WeekdayLocator())\n",
    "    ax[i].xaxis.set_major_formatter(mdates.DateFormatter('%b %d'))\n",
    "    ax[i].set_ylim([0,7000])\n",
    "    ax[i].spines['right'].set_visible(False)\n",
    "    ax[i].spines['top'].set_visible(False)\n",
    "plt.tight_layout()\n"
   ]
  },
  {
   "cell_type": "code",
   "execution_count": 20,
   "metadata": {
    "execution": {
     "iopub.execute_input": "2020-09-15T04:38:21.959603Z",
     "iopub.status.busy": "2020-09-15T04:38:21.958989Z",
     "iopub.status.idle": "2020-09-15T04:38:21.961415Z",
     "shell.execute_reply": "2020-09-15T04:38:21.961945Z"
    },
    "papermill": {
     "duration": 0.031274,
     "end_time": "2020-09-15T04:38:21.962119",
     "exception": false,
     "start_time": "2020-09-15T04:38:21.930845",
     "status": "completed"
    },
    "tags": []
   },
   "outputs": [
    {
     "name": "stdout",
     "output_type": "stream",
     "text": [
      "                                   states    Cases  Deaths   PCases  PDeaths  Cases (+)  Deaths (+)  Fatality Rate\n",
      "                              Maharashtra  1077374   29894  1077374    29894          0           0           2.77\n",
      "                           Andhra Pradesh   575079    4972   575079     4972          0           0           0.86\n",
      "                               Tamil Nadu   508511    8434   508511     8434          0           0           1.66\n",
      "                                Karnataka   467689    7384   467689     7384          0           0           1.58\n",
      "                            Uttar Pradesh   317195    4491   317195     4491          0           0           1.42\n",
      "                                    Delhi   221533    4770   221533     4770          0           0           2.15\n",
      "                              West Bengal   205919    4003   205919     4003          0           0           1.94\n",
      "                                Telangana   160571     984   158513      974       2058          10           0.61\n",
      "                                    Bihar   159526     831   159526      831          0           0           0.52\n",
      "                                   Odisha   155005     690   155005      690          0           0           0.45\n",
      "                                    Assam   144166     482   144166      482          0           0           0.33\n",
      "                                  Gujarat   114996    3228   114996     3228          0           0           2.81\n",
      "                                   Kerala   110819     455   110819      455          0           0           0.41\n",
      "                                Rajasthan   104138    1250   104138     1250          0           0           1.20\n",
      "                                  Haryana    96129    1000    96129     1000          0           0           1.04\n",
      "                           Madhya Pradesh    90730    1791    90730     1791          0           0           1.97\n",
      "                                   Punjab    82100    2423    82100     2423          0           0           2.95\n",
      "                             Chhattisgarh    67327     573    67327      573          0           0           0.85\n",
      "                                Jharkhand    62737     561    62737      561          0           0           0.89\n",
      "                        Jammu and Kashmir    55325     895    55325      895          0           0           1.62\n",
      "                              Uttarakhand    33016     429    33016      429          0           0           1.30\n",
      "                                      Goa    24898     304    24898      304          0           0           1.22\n",
      "                               Puducherry    20226     394    20226      394          0           0           1.95\n",
      "                                  Tripura    19715     207    19184      200        531           7           1.05\n",
      "                         Himachal Pradesh     9923      81     9923       81          0           0           0.82\n",
      "                               Chandigarh     8245      95     8245       95          0           0           1.15\n",
      "                                  Manipur     7971      46     7971       46          0           0           0.58\n",
      "                        Arunachal Pradesh     6297      11     6297       11          0           0           0.17\n",
      "                                 Nagaland     5214       8     5214        8          0           0           0.15\n",
      "                                Meghalaya     3863      28     3863       28          0           0           0.72\n",
      "              Andaman and Nicobar Islands     3557      52     3557       52          0           0           1.46\n",
      "                                   Ladakh     3419      41     3419       41          0           0           1.20\n",
      " Dadra and Nagar Haveli and Daman and Diu     2743       2     2743        2          0           0           0.07\n",
      "                                   Sikkim     2119      16     2119       16          0           0           0.76\n",
      "                                  Mizoram     1468       0     1428        0         40           0           0.00\n",
      "                              Lakshadweep        0       0        0        0          0           0            NaN\n"
     ]
    }
   ],
   "source": [
    "#hide_input\n",
    "print(df_table.to_string(index=False))"
   ]
  },
  {
   "cell_type": "code",
   "execution_count": null,
   "metadata": {
    "papermill": {
     "duration": 0.021217,
     "end_time": "2020-09-15T04:38:22.003022",
     "exception": false,
     "start_time": "2020-09-15T04:38:21.981805",
     "status": "completed"
    },
    "tags": []
   },
   "outputs": [],
   "source": []
  },
  {
   "cell_type": "code",
   "execution_count": null,
   "metadata": {
    "papermill": {
     "duration": 0.019586,
     "end_time": "2020-09-15T04:38:22.043049",
     "exception": false,
     "start_time": "2020-09-15T04:38:22.023463",
     "status": "completed"
    },
    "tags": []
   },
   "outputs": [],
   "source": []
  }
 ],
 "metadata": {
  "kernelspec": {
   "display_name": "Python 3",
   "language": "python",
   "name": "python3"
  },
  "language_info": {
   "codemirror_mode": {
    "name": "ipython",
    "version": 3
   },
   "file_extension": ".py",
   "mimetype": "text/x-python",
   "name": "python",
   "nbconvert_exporter": "python",
   "pygments_lexer": "ipython3",
   "version": "3.6.12"
  },
  "papermill": {
   "duration": 9.703585,
   "end_time": "2020-09-15T04:38:22.472784",
   "environment_variables": {},
   "exception": null,
   "input_path": "latest.ipynb",
   "output_path": "latest.ipynb",
   "parameters": {},
   "start_time": "2020-09-15T04:38:12.769199",
   "version": "2.1.2"
  }
 },
 "nbformat": 4,
 "nbformat_minor": 4
}