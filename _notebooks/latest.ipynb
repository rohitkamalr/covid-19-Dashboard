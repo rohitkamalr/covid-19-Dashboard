{
 "cells": [
  {
   "cell_type": "markdown",
   "metadata": {
    "papermill": {
     "duration": 0.022919,
     "end_time": "2020-08-17T03:52:12.744360",
     "exception": false,
     "start_time": "2020-08-17T03:52:12.721441",
     "status": "completed"
    },
    "tags": []
   },
   "source": [
    "# Latest COVID-19 India Matplotlib Overview"
   ]
  },
  {
   "cell_type": "code",
   "execution_count": 1,
   "metadata": {
    "execution": {
     "iopub.execute_input": "2020-08-17T03:52:12.790271Z",
     "iopub.status.busy": "2020-08-17T03:52:12.789643Z",
     "iopub.status.idle": "2020-08-17T03:52:13.394875Z",
     "shell.execute_reply": "2020-08-17T03:52:13.393940Z"
    },
    "papermill": {
     "duration": 0.634014,
     "end_time": "2020-08-17T03:52:13.395130",
     "exception": false,
     "start_time": "2020-08-17T03:52:12.761116",
     "status": "completed"
    },
    "tags": []
   },
   "outputs": [],
   "source": [
    "#hide\n",
    "import pandas as pd\n",
    "import numpy as np\n",
    "import requests\n",
    "import json\n",
    "import matplotlib.pyplot as plt\n",
    "import matplotlib.dates as mdates\n",
    "import matplotlib as mpl\n",
    "from IPython.core.display import display,HTML\n",
    "%matplotlib inline\n",
    "from datetime import date"
   ]
  },
  {
   "cell_type": "code",
   "execution_count": 2,
   "metadata": {
    "execution": {
     "iopub.execute_input": "2020-08-17T03:52:13.438082Z",
     "iopub.status.busy": "2020-08-17T03:52:13.436975Z",
     "iopub.status.idle": "2020-08-17T03:52:13.559925Z",
     "shell.execute_reply": "2020-08-17T03:52:13.559300Z"
    },
    "papermill": {
     "duration": 0.147742,
     "end_time": "2020-08-17T03:52:13.560093",
     "exception": false,
     "start_time": "2020-08-17T03:52:13.412351",
     "status": "completed"
    },
    "tags": []
   },
   "outputs": [],
   "source": [
    "#hide\n",
    "df  = pd.read_csv('https://api.covid19india.org/csv/latest/states.csv')\n",
    "df = df[['Date','State','Confirmed','Deceased']]\n",
    "df = df.rename(columns={'Confirmed':'Cases', \"Deceased\":'Deaths'})\n",
    "df_cases = df[[\"Date\",'State','Cases']]\n",
    "df_deaths = df[['Date','State','Deaths']]\n",
    "df_cases1 = df_cases.groupby('Date')\n",
    "df_deaths1= df_deaths.groupby('Date')"
   ]
  },
  {
   "cell_type": "code",
   "execution_count": 3,
   "metadata": {
    "execution": {
     "iopub.execute_input": "2020-08-17T03:52:13.601010Z",
     "iopub.status.busy": "2020-08-17T03:52:13.600382Z",
     "iopub.status.idle": "2020-08-17T03:52:13.618364Z",
     "shell.execute_reply": "2020-08-17T03:52:13.617867Z"
    },
    "papermill": {
     "duration": 0.041638,
     "end_time": "2020-08-17T03:52:13.618501",
     "exception": false,
     "start_time": "2020-08-17T03:52:13.576863",
     "status": "completed"
    },
    "tags": []
   },
   "outputs": [],
   "source": [
    "#hide\n",
    "df_snap = pd.read_csv('data/SnapshotCases-28-July.csv')\n",
    "arr_states = df_snap['states'].unique()\n",
    "arr_dates = df['Date'].unique()\n",
    "df_snap = df_snap.set_index('states')"
   ]
  },
  {
   "cell_type": "code",
   "execution_count": 4,
   "metadata": {
    "execution": {
     "iopub.execute_input": "2020-08-17T03:52:13.661141Z",
     "iopub.status.busy": "2020-08-17T03:52:13.658917Z",
     "iopub.status.idle": "2020-08-17T03:52:13.665451Z",
     "shell.execute_reply": "2020-08-17T03:52:13.664491Z"
    },
    "papermill": {
     "duration": 0.030656,
     "end_time": "2020-08-17T03:52:13.665592",
     "exception": false,
     "start_time": "2020-08-17T03:52:13.634936",
     "status": "completed"
    },
    "tags": []
   },
   "outputs": [
    {
     "data": {
      "text/plain": [
       "array(['Andaman and Nicobar Islands', 'Andhra Pradesh',\n",
       "       'Arunachal Pradesh', 'Assam', 'Bihar', 'Chandigarh',\n",
       "       'Dadra and Nagar Haveli and Daman and Diu', 'Delhi', 'Goa',\n",
       "       'Gujarat', 'Haryana', 'Himachal Pradesh', 'Jammu and Kashmir',\n",
       "       'Jharkhand', 'Karnataka', 'Kerala', 'Lakshadweep',\n",
       "       'Madhya Pradesh', 'Maharashtra', 'Manipur', 'Meghalaya', 'Mizoram',\n",
       "       'Nagaland', 'Odisha', 'Puducherry', 'Punjab', 'Rajasthan',\n",
       "       'Sikkim', 'Tamil Nadu', 'Telangana', 'Tripura', 'Uttar Pradesh',\n",
       "       'West Bengal', 'Chhattisgarh', 'Ladakh', 'Uttarakhand'],\n",
       "      dtype=object)"
      ]
     },
     "execution_count": 4,
     "metadata": {},
     "output_type": "execute_result"
    }
   ],
   "source": [
    "#hide\n",
    "arr_states[-9] = 'Puducherry'\n",
    "arr_states[-10] = 'Odisha'\n",
    "arr_states[6] = 'Dadra and Nagar Haveli and Daman and Diu'\n",
    "arr_states = np.append(arr_states,np.array(['Chhattisgarh','Ladakh','Uttarakhand']))\n",
    "arr_states"
   ]
  },
  {
   "cell_type": "code",
   "execution_count": 5,
   "metadata": {
    "execution": {
     "iopub.execute_input": "2020-08-17T03:52:13.714040Z",
     "iopub.status.busy": "2020-08-17T03:52:13.713414Z",
     "iopub.status.idle": "2020-08-17T03:52:13.721139Z",
     "shell.execute_reply": "2020-08-17T03:52:13.720592Z"
    },
    "papermill": {
     "duration": 0.039133,
     "end_time": "2020-08-17T03:52:13.721272",
     "exception": false,
     "start_time": "2020-08-17T03:52:13.682139",
     "status": "completed"
    },
    "tags": []
   },
   "outputs": [],
   "source": [
    "#hide\n",
    "dates = []\n",
    "for i in arr_dates:\n",
    "    if i>='2020-07-01':\n",
    "        dates.append(i)\n",
    "dict = {'states':dates}\n",
    "for i in arr_states:\n",
    "    dict[i] = [0]*len(dates)\n",
    "dft_cases = pd.DataFrame(dict)\n",
    "dft_deaths = pd.DataFrame(dict)\n"
   ]
  },
  {
   "cell_type": "code",
   "execution_count": 6,
   "metadata": {
    "execution": {
     "iopub.execute_input": "2020-08-17T03:52:13.762270Z",
     "iopub.status.busy": "2020-08-17T03:52:13.761644Z",
     "iopub.status.idle": "2020-08-17T03:52:14.469607Z",
     "shell.execute_reply": "2020-08-17T03:52:14.468997Z"
    },
    "papermill": {
     "duration": 0.732229,
     "end_time": "2020-08-17T03:52:14.469776",
     "exception": false,
     "start_time": "2020-08-17T03:52:13.737547",
     "status": "completed"
    },
    "tags": []
   },
   "outputs": [],
   "source": [
    "#hide\n",
    "for i in range(len(dates)):\n",
    "    df1_deaths = df_deaths1.get_group(dates[i])\n",
    "    for j in range(len(df1_deaths.index)):\n",
    "        if df1_deaths.iloc[j,1] in arr_states:\n",
    "            dft_deaths.loc[i,df1_deaths.iloc[j,1]] = df1_deaths.iloc[j,2]\n",
    "dft_deaths = dft_deaths.set_index('states')"
   ]
  },
  {
   "cell_type": "code",
   "execution_count": 7,
   "metadata": {
    "execution": {
     "iopub.execute_input": "2020-08-17T03:52:14.511071Z",
     "iopub.status.busy": "2020-08-17T03:52:14.510454Z",
     "iopub.status.idle": "2020-08-17T03:52:15.219485Z",
     "shell.execute_reply": "2020-08-17T03:52:15.220227Z"
    },
    "papermill": {
     "duration": 0.733395,
     "end_time": "2020-08-17T03:52:15.220463",
     "exception": false,
     "start_time": "2020-08-17T03:52:14.487068",
     "status": "completed"
    },
    "tags": []
   },
   "outputs": [],
   "source": [
    "#hide\n",
    "for i in range(len(dates)):\n",
    "    df1_cases = df_cases1.get_group(dates[i])\n",
    "    for j in range(len(df1_cases.index)):\n",
    "        if df1_cases.iloc[j,1] in arr_states:\n",
    "            dft_cases.loc[i,df1_cases.iloc[j,1]] = df1_cases.iloc[j,2]\n",
    "dft_cases = dft_cases.set_index('states')"
   ]
  },
  {
   "cell_type": "code",
   "execution_count": 8,
   "metadata": {
    "execution": {
     "iopub.execute_input": "2020-08-17T03:52:15.260990Z",
     "iopub.status.busy": "2020-08-17T03:52:15.260288Z",
     "iopub.status.idle": "2020-08-17T03:52:15.264956Z",
     "shell.execute_reply": "2020-08-17T03:52:15.264423Z"
    },
    "papermill": {
     "duration": 0.027108,
     "end_time": "2020-08-17T03:52:15.265087",
     "exception": false,
     "start_time": "2020-08-17T03:52:15.237979",
     "status": "completed"
    },
    "tags": []
   },
   "outputs": [],
   "source": [
    "#hide\n",
    "dft_cases = dft_cases.T\n",
    "dft_deaths = dft_deaths.T\n",
    "dt_today = dates[-1]\n",
    "dt_yday = dates[-2]"
   ]
  },
  {
   "cell_type": "code",
   "execution_count": 9,
   "metadata": {
    "execution": {
     "iopub.execute_input": "2020-08-17T03:52:15.561470Z",
     "iopub.status.busy": "2020-08-17T03:52:15.560844Z",
     "iopub.status.idle": "2020-08-17T03:52:15.565268Z",
     "shell.execute_reply": "2020-08-17T03:52:15.564530Z"
    },
    "papermill": {
     "duration": 0.283902,
     "end_time": "2020-08-17T03:52:15.565409",
     "exception": false,
     "start_time": "2020-08-17T03:52:15.281507",
     "status": "completed"
    },
    "tags": []
   },
   "outputs": [],
   "source": [
    "#hide\n",
    "dft_cases = dft_cases.reset_index()\n",
    "dft_deaths = dft_deaths.reset_index()\n",
    "dft_cases = dft_cases.rename(columns = {'index':'state'})\n",
    "dft_deaths = dft_deaths.rename(columns = {'index':'state'})"
   ]
  },
  {
   "cell_type": "code",
   "execution_count": 10,
   "metadata": {
    "execution": {
     "iopub.execute_input": "2020-08-17T03:52:15.609270Z",
     "iopub.status.busy": "2020-08-17T03:52:15.600504Z",
     "iopub.status.idle": "2020-08-17T03:52:15.615279Z",
     "shell.execute_reply": "2020-08-17T03:52:15.614729Z"
    },
    "papermill": {
     "duration": 0.03355,
     "end_time": "2020-08-17T03:52:15.615408",
     "exception": false,
     "start_time": "2020-08-17T03:52:15.581858",
     "status": "completed"
    },
    "tags": []
   },
   "outputs": [],
   "source": [
    "#hide\n",
    "dfc_cases = dft_cases.groupby('state')[dt_today].sum()\n",
    "dfc_deaths = dft_deaths.groupby('state')[dt_today].sum()\n",
    "dfp_cases = dft_cases.groupby('state')[dt_yday].sum()\n",
    "dfp_deaths = dft_deaths.groupby('state')[dt_yday].sum()"
   ]
  },
  {
   "cell_type": "code",
   "execution_count": 11,
   "metadata": {
    "execution": {
     "iopub.execute_input": "2020-08-17T03:52:15.655384Z",
     "iopub.status.busy": "2020-08-17T03:52:15.654774Z",
     "iopub.status.idle": "2020-08-17T03:52:15.667841Z",
     "shell.execute_reply": "2020-08-17T03:52:15.667353Z"
    },
    "papermill": {
     "duration": 0.036532,
     "end_time": "2020-08-17T03:52:15.667996",
     "exception": false,
     "start_time": "2020-08-17T03:52:15.631464",
     "status": "completed"
    },
    "tags": []
   },
   "outputs": [
    {
     "data": {
      "text/html": [
       "<div>\n",
       "<style scoped>\n",
       "    .dataframe tbody tr th:only-of-type {\n",
       "        vertical-align: middle;\n",
       "    }\n",
       "\n",
       "    .dataframe tbody tr th {\n",
       "        vertical-align: top;\n",
       "    }\n",
       "\n",
       "    .dataframe thead th {\n",
       "        text-align: right;\n",
       "    }\n",
       "</style>\n",
       "<table border=\"1\" class=\"dataframe\">\n",
       "  <thead>\n",
       "    <tr style=\"text-align: right;\">\n",
       "      <th></th>\n",
       "      <th>states</th>\n",
       "      <th>Cases</th>\n",
       "      <th>Deaths</th>\n",
       "      <th>PCases</th>\n",
       "      <th>PDeaths</th>\n",
       "    </tr>\n",
       "  </thead>\n",
       "  <tbody>\n",
       "    <tr>\n",
       "      <th>0</th>\n",
       "      <td>Maharashtra</td>\n",
       "      <td>595865</td>\n",
       "      <td>20037</td>\n",
       "      <td>595865</td>\n",
       "      <td>20037</td>\n",
       "    </tr>\n",
       "    <tr>\n",
       "      <th>1</th>\n",
       "      <td>Tamil Nadu</td>\n",
       "      <td>338055</td>\n",
       "      <td>5766</td>\n",
       "      <td>338055</td>\n",
       "      <td>5766</td>\n",
       "    </tr>\n",
       "    <tr>\n",
       "      <th>2</th>\n",
       "      <td>Andhra Pradesh</td>\n",
       "      <td>289829</td>\n",
       "      <td>2650</td>\n",
       "      <td>289829</td>\n",
       "      <td>2650</td>\n",
       "    </tr>\n",
       "    <tr>\n",
       "      <th>3</th>\n",
       "      <td>Karnataka</td>\n",
       "      <td>226966</td>\n",
       "      <td>3956</td>\n",
       "      <td>226966</td>\n",
       "      <td>3956</td>\n",
       "    </tr>\n",
       "    <tr>\n",
       "      <th>4</th>\n",
       "      <td>Uttar Pradesh</td>\n",
       "      <td>154418</td>\n",
       "      <td>2449</td>\n",
       "      <td>154418</td>\n",
       "      <td>2449</td>\n",
       "    </tr>\n",
       "  </tbody>\n",
       "</table>\n",
       "</div>"
      ],
      "text/plain": [
       "           states   Cases  Deaths  PCases  PDeaths\n",
       "0     Maharashtra  595865   20037  595865    20037\n",
       "1      Tamil Nadu  338055    5766  338055     5766\n",
       "2  Andhra Pradesh  289829    2650  289829     2650\n",
       "3       Karnataka  226966    3956  226966     3956\n",
       "4   Uttar Pradesh  154418    2449  154418     2449"
      ]
     },
     "execution_count": 11,
     "metadata": {},
     "output_type": "execute_result"
    }
   ],
   "source": [
    "#hide\n",
    "df_table = pd.DataFrame({'states': dfc_cases.index, 'Cases': dfc_cases.values, 'Deaths': dfc_deaths.values, 'PCases': dfp_cases.values, 'PDeaths': dfp_deaths.values}).set_index('states')\n",
    "df_table = df_table.sort_values(by = ['Cases','Deaths'], ascending = [False, False])\n",
    "df_table = df_table.reset_index()\n",
    "df_table.head()"
   ]
  },
  {
   "cell_type": "code",
   "execution_count": 12,
   "metadata": {
    "execution": {
     "iopub.execute_input": "2020-08-17T03:52:15.707245Z",
     "iopub.status.busy": "2020-08-17T03:52:15.706628Z",
     "iopub.status.idle": "2020-08-17T03:52:15.715505Z",
     "shell.execute_reply": "2020-08-17T03:52:15.715013Z"
    },
    "papermill": {
     "duration": 0.030718,
     "end_time": "2020-08-17T03:52:15.715639",
     "exception": false,
     "start_time": "2020-08-17T03:52:15.684921",
     "status": "completed"
    },
    "tags": []
   },
   "outputs": [],
   "source": [
    "#hide\n",
    "for c in 'Cases, Deaths'.split(', '):\n",
    "    df_table[f'{c} (+)'] = (df_table[c] - df_table[f'P{c}']).clip(0)\n",
    "df_table['Fatality Rate'] = (100* df_table['Deaths']/ df_table['Cases']).round(2)"
   ]
  },
  {
   "cell_type": "code",
   "execution_count": 13,
   "metadata": {
    "execution": {
     "iopub.execute_input": "2020-08-17T03:52:15.759435Z",
     "iopub.status.busy": "2020-08-17T03:52:15.758823Z",
     "iopub.status.idle": "2020-08-17T03:52:15.761726Z",
     "shell.execute_reply": "2020-08-17T03:52:15.762220Z"
    },
    "papermill": {
     "duration": 0.030071,
     "end_time": "2020-08-17T03:52:15.762363",
     "exception": false,
     "start_time": "2020-08-17T03:52:15.732292",
     "status": "completed"
    },
    "tags": []
   },
   "outputs": [
    {
     "data": {
      "text/html": [
       "<div>\n",
       "<style scoped>\n",
       "    .dataframe tbody tr th:only-of-type {\n",
       "        vertical-align: middle;\n",
       "    }\n",
       "\n",
       "    .dataframe tbody tr th {\n",
       "        vertical-align: top;\n",
       "    }\n",
       "\n",
       "    .dataframe thead th {\n",
       "        text-align: right;\n",
       "    }\n",
       "</style>\n",
       "<table border=\"1\" class=\"dataframe\">\n",
       "  <thead>\n",
       "    <tr style=\"text-align: right;\">\n",
       "      <th></th>\n",
       "      <th>states</th>\n",
       "      <th>Cases</th>\n",
       "      <th>Deaths</th>\n",
       "      <th>PCases</th>\n",
       "      <th>PDeaths</th>\n",
       "      <th>Cases (+)</th>\n",
       "      <th>Deaths (+)</th>\n",
       "      <th>Fatality Rate</th>\n",
       "    </tr>\n",
       "  </thead>\n",
       "  <tbody>\n",
       "    <tr>\n",
       "      <th>0</th>\n",
       "      <td>Maharashtra</td>\n",
       "      <td>595865</td>\n",
       "      <td>20037</td>\n",
       "      <td>595865</td>\n",
       "      <td>20037</td>\n",
       "      <td>0</td>\n",
       "      <td>0</td>\n",
       "      <td>3.36</td>\n",
       "    </tr>\n",
       "    <tr>\n",
       "      <th>1</th>\n",
       "      <td>Tamil Nadu</td>\n",
       "      <td>338055</td>\n",
       "      <td>5766</td>\n",
       "      <td>338055</td>\n",
       "      <td>5766</td>\n",
       "      <td>0</td>\n",
       "      <td>0</td>\n",
       "      <td>1.71</td>\n",
       "    </tr>\n",
       "    <tr>\n",
       "      <th>2</th>\n",
       "      <td>Andhra Pradesh</td>\n",
       "      <td>289829</td>\n",
       "      <td>2650</td>\n",
       "      <td>289829</td>\n",
       "      <td>2650</td>\n",
       "      <td>0</td>\n",
       "      <td>0</td>\n",
       "      <td>0.91</td>\n",
       "    </tr>\n",
       "    <tr>\n",
       "      <th>3</th>\n",
       "      <td>Karnataka</td>\n",
       "      <td>226966</td>\n",
       "      <td>3956</td>\n",
       "      <td>226966</td>\n",
       "      <td>3956</td>\n",
       "      <td>0</td>\n",
       "      <td>0</td>\n",
       "      <td>1.74</td>\n",
       "    </tr>\n",
       "    <tr>\n",
       "      <th>4</th>\n",
       "      <td>Uttar Pradesh</td>\n",
       "      <td>154418</td>\n",
       "      <td>2449</td>\n",
       "      <td>154418</td>\n",
       "      <td>2449</td>\n",
       "      <td>0</td>\n",
       "      <td>0</td>\n",
       "      <td>1.59</td>\n",
       "    </tr>\n",
       "  </tbody>\n",
       "</table>\n",
       "</div>"
      ],
      "text/plain": [
       "           states   Cases  Deaths  PCases  PDeaths  Cases (+)  Deaths (+)  \\\n",
       "0     Maharashtra  595865   20037  595865    20037          0           0   \n",
       "1      Tamil Nadu  338055    5766  338055     5766          0           0   \n",
       "2  Andhra Pradesh  289829    2650  289829     2650          0           0   \n",
       "3       Karnataka  226966    3956  226966     3956          0           0   \n",
       "4   Uttar Pradesh  154418    2449  154418     2449          0           0   \n",
       "\n",
       "   Fatality Rate  \n",
       "0           3.36  \n",
       "1           1.71  \n",
       "2           0.91  \n",
       "3           1.74  \n",
       "4           1.59  "
      ]
     },
     "execution_count": 13,
     "metadata": {},
     "output_type": "execute_result"
    }
   ],
   "source": [
    "#hide\n",
    "df_table.head()"
   ]
  },
  {
   "cell_type": "code",
   "execution_count": 14,
   "metadata": {
    "execution": {
     "iopub.execute_input": "2020-08-17T03:52:15.802641Z",
     "iopub.status.busy": "2020-08-17T03:52:15.802035Z",
     "iopub.status.idle": "2020-08-17T03:52:15.819107Z",
     "shell.execute_reply": "2020-08-17T03:52:15.818615Z"
    },
    "papermill": {
     "duration": 0.039564,
     "end_time": "2020-08-17T03:52:15.819241",
     "exception": false,
     "start_time": "2020-08-17T03:52:15.779677",
     "status": "completed"
    },
    "tags": []
   },
   "outputs": [
    {
     "data": {
      "text/plain": [
       "{'updated': '2020-08-17',\n",
       " 'since': '2020-08-16',\n",
       " 'Cases': 2647459,\n",
       " 'PCases': 2647304,\n",
       " 'Deaths': 51049,\n",
       " 'PDeaths': 51045,\n",
       " 'Cases (+)': 155,\n",
       " 'Deaths (+)': 4}"
      ]
     },
     "execution_count": 14,
     "metadata": {},
     "output_type": "execute_result"
    }
   ],
   "source": [
    "#hide\n",
    "summary = {'updated':dates[-1], 'since':dates[-2]}\n",
    "list_names = ['Cases', 'PCases', 'Deaths', 'PDeaths', 'Cases (+)', 'Deaths (+)']\n",
    "for name in list_names:\n",
    "    summary[name] = df_table.sum()[name]\n",
    "summary"
   ]
  },
  {
   "cell_type": "code",
   "execution_count": 15,
   "metadata": {
    "execution": {
     "iopub.execute_input": "2020-08-17T03:52:15.858968Z",
     "iopub.status.busy": "2020-08-17T03:52:15.858359Z",
     "iopub.status.idle": "2020-08-17T03:52:15.860610Z",
     "shell.execute_reply": "2020-08-17T03:52:15.861191Z"
    },
    "papermill": {
     "duration": 0.024176,
     "end_time": "2020-08-17T03:52:15.861341",
     "exception": false,
     "start_time": "2020-08-17T03:52:15.837165",
     "status": "completed"
    },
    "tags": []
   },
   "outputs": [],
   "source": [
    "#hide\n",
    "overview = '''\n",
    "<!-- #######  HTML!! #########-->\n",
    "<h1 style=\"color: #5e9ca0; text-align: center;\">India</h1>\n",
    "<p style=\"text-align: center;\">Last update: <strong>{update}</strong></p>\n",
    "<p style=\"text-align: center;\">Confirmed cases:</p>\n",
    "<p style=\"text-align: center;font-size:24px;\">{cases} (<span style=\"color: #ff0000;\">+{new}</span>)</p>\n",
    "<p style=\"text-align: center;\">Confirmed deaths:</p>\n",
    "<p style=\"text-align: center;font-size:24px;\">{deaths} (<span style=\"color: #ff0000;\">+{dnew}</span>)</p>\n",
    "'''"
   ]
  },
  {
   "cell_type": "code",
   "execution_count": 16,
   "metadata": {
    "execution": {
     "iopub.execute_input": "2020-08-17T03:52:15.903136Z",
     "iopub.status.busy": "2020-08-17T03:52:15.902527Z",
     "iopub.status.idle": "2020-08-17T03:52:15.905626Z",
     "shell.execute_reply": "2020-08-17T03:52:15.906122Z"
    },
    "papermill": {
     "duration": 0.026879,
     "end_time": "2020-08-17T03:52:15.906262",
     "exception": false,
     "start_time": "2020-08-17T03:52:15.879383",
     "status": "completed"
    },
    "tags": []
   },
   "outputs": [
    {
     "data": {
      "text/html": [
       "\n",
       "<!-- #######  HTML!! #########-->\n",
       "<h1 style=\"color: #5e9ca0; text-align: center;\">India</h1>\n",
       "<p style=\"text-align: center;\">Last update: <strong>2020-08-17</strong></p>\n",
       "<p style=\"text-align: center;\">Confirmed cases:</p>\n",
       "<p style=\"text-align: center;font-size:24px;\">2647459 (<span style=\"color: #ff0000;\">+155</span>)</p>\n",
       "<p style=\"text-align: center;\">Confirmed deaths:</p>\n",
       "<p style=\"text-align: center;font-size:24px;\">51049 (<span style=\"color: #ff0000;\">+4</span>)</p>\n"
      ],
      "text/plain": [
       "<IPython.core.display.HTML object>"
      ]
     },
     "metadata": {},
     "output_type": "display_data"
    }
   ],
   "source": [
    "#hide_input\n",
    "update = summary['updated']\n",
    "cases = summary['Cases']\n",
    "new = summary['Cases (+)']\n",
    "deaths = summary['Deaths']\n",
    "dnew = summary['Deaths (+)']\n",
    "\n",
    "html = HTML(overview.format(update=update, cases=cases,new=new,deaths=deaths,dnew=dnew))\n",
    "\n",
    "display(html)"
   ]
  },
  {
   "cell_type": "code",
   "execution_count": 17,
   "metadata": {
    "execution": {
     "iopub.execute_input": "2020-08-17T03:52:15.950602Z",
     "iopub.status.busy": "2020-08-17T03:52:15.949989Z",
     "iopub.status.idle": "2020-08-17T03:52:15.954865Z",
     "shell.execute_reply": "2020-08-17T03:52:15.954292Z"
    },
    "papermill": {
     "duration": 0.030713,
     "end_time": "2020-08-17T03:52:15.955002",
     "exception": false,
     "start_time": "2020-08-17T03:52:15.924289",
     "status": "completed"
    },
    "tags": []
   },
   "outputs": [],
   "source": [
    "#hide\n",
    "dt_cols = list(dft_cases.columns[1:])\n",
    "dft_ct_new_cases = dft_cases.groupby('state')[dt_cols].sum().diff(axis=1).fillna(0).astype(int)\n",
    "dft_ct_new_cases.sort_values(by = dates[-1], ascending = False,inplace = True)"
   ]
  },
  {
   "cell_type": "code",
   "execution_count": 18,
   "metadata": {
    "execution": {
     "iopub.execute_input": "2020-08-17T03:52:16.009242Z",
     "iopub.status.busy": "2020-08-17T03:52:16.008633Z",
     "iopub.status.idle": "2020-08-17T03:52:16.011214Z",
     "shell.execute_reply": "2020-08-17T03:52:16.011707Z"
    },
    "papermill": {
     "duration": 0.038089,
     "end_time": "2020-08-17T03:52:16.011855",
     "exception": false,
     "start_time": "2020-08-17T03:52:15.973766",
     "status": "completed"
    },
    "tags": []
   },
   "outputs": [
    {
     "data": {
      "text/html": [
       "<div>\n",
       "<style scoped>\n",
       "    .dataframe tbody tr th:only-of-type {\n",
       "        vertical-align: middle;\n",
       "    }\n",
       "\n",
       "    .dataframe tbody tr th {\n",
       "        vertical-align: top;\n",
       "    }\n",
       "\n",
       "    .dataframe thead th {\n",
       "        text-align: right;\n",
       "    }\n",
       "</style>\n",
       "<table border=\"1\" class=\"dataframe\">\n",
       "  <thead>\n",
       "    <tr style=\"text-align: right;\">\n",
       "      <th>states</th>\n",
       "      <th>2020-07-01</th>\n",
       "      <th>2020-07-02</th>\n",
       "      <th>2020-07-03</th>\n",
       "      <th>2020-07-04</th>\n",
       "      <th>2020-07-05</th>\n",
       "      <th>2020-07-06</th>\n",
       "      <th>2020-07-07</th>\n",
       "      <th>2020-07-08</th>\n",
       "      <th>2020-07-09</th>\n",
       "      <th>2020-07-10</th>\n",
       "      <th>...</th>\n",
       "      <th>2020-08-08</th>\n",
       "      <th>2020-08-09</th>\n",
       "      <th>2020-08-10</th>\n",
       "      <th>2020-08-11</th>\n",
       "      <th>2020-08-12</th>\n",
       "      <th>2020-08-13</th>\n",
       "      <th>2020-08-14</th>\n",
       "      <th>2020-08-15</th>\n",
       "      <th>2020-08-16</th>\n",
       "      <th>2020-08-17</th>\n",
       "    </tr>\n",
       "    <tr>\n",
       "      <th>state</th>\n",
       "      <th></th>\n",
       "      <th></th>\n",
       "      <th></th>\n",
       "      <th></th>\n",
       "      <th></th>\n",
       "      <th></th>\n",
       "      <th></th>\n",
       "      <th></th>\n",
       "      <th></th>\n",
       "      <th></th>\n",
       "      <th></th>\n",
       "      <th></th>\n",
       "      <th></th>\n",
       "      <th></th>\n",
       "      <th></th>\n",
       "      <th></th>\n",
       "      <th></th>\n",
       "      <th></th>\n",
       "      <th></th>\n",
       "      <th></th>\n",
       "      <th></th>\n",
       "    </tr>\n",
       "  </thead>\n",
       "  <tbody>\n",
       "    <tr>\n",
       "      <th>Tripura</th>\n",
       "      <td>0</td>\n",
       "      <td>39</td>\n",
       "      <td>93</td>\n",
       "      <td>25</td>\n",
       "      <td>23</td>\n",
       "      <td>111</td>\n",
       "      <td>24</td>\n",
       "      <td>57</td>\n",
       "      <td>16</td>\n",
       "      <td>142</td>\n",
       "      <td>...</td>\n",
       "      <td>146</td>\n",
       "      <td>147</td>\n",
       "      <td>62</td>\n",
       "      <td>164</td>\n",
       "      <td>110</td>\n",
       "      <td>121</td>\n",
       "      <td>164</td>\n",
       "      <td>167</td>\n",
       "      <td>127</td>\n",
       "      <td>143</td>\n",
       "    </tr>\n",
       "    <tr>\n",
       "      <th>Mizoram</th>\n",
       "      <td>0</td>\n",
       "      <td>2</td>\n",
       "      <td>0</td>\n",
       "      <td>2</td>\n",
       "      <td>22</td>\n",
       "      <td>11</td>\n",
       "      <td>1</td>\n",
       "      <td>5</td>\n",
       "      <td>0</td>\n",
       "      <td>23</td>\n",
       "      <td>...</td>\n",
       "      <td>8</td>\n",
       "      <td>41</td>\n",
       "      <td>12</td>\n",
       "      <td>3</td>\n",
       "      <td>25</td>\n",
       "      <td>1</td>\n",
       "      <td>8</td>\n",
       "      <td>56</td>\n",
       "      <td>64</td>\n",
       "      <td>12</td>\n",
       "    </tr>\n",
       "    <tr>\n",
       "      <th>Andaman and Nicobar Islands</th>\n",
       "      <td>0</td>\n",
       "      <td>9</td>\n",
       "      <td>7</td>\n",
       "      <td>3</td>\n",
       "      <td>6</td>\n",
       "      <td>16</td>\n",
       "      <td>6</td>\n",
       "      <td>2</td>\n",
       "      <td>7</td>\n",
       "      <td>0</td>\n",
       "      <td>...</td>\n",
       "      <td>129</td>\n",
       "      <td>139</td>\n",
       "      <td>135</td>\n",
       "      <td>139</td>\n",
       "      <td>136</td>\n",
       "      <td>137</td>\n",
       "      <td>149</td>\n",
       "      <td>120</td>\n",
       "      <td>93</td>\n",
       "      <td>0</td>\n",
       "    </tr>\n",
       "    <tr>\n",
       "      <th>Puducherry</th>\n",
       "      <td>0</td>\n",
       "      <td>63</td>\n",
       "      <td>22</td>\n",
       "      <td>80</td>\n",
       "      <td>42</td>\n",
       "      <td>65</td>\n",
       "      <td>30</td>\n",
       "      <td>110</td>\n",
       "      <td>49</td>\n",
       "      <td>72</td>\n",
       "      <td>...</td>\n",
       "      <td>261</td>\n",
       "      <td>259</td>\n",
       "      <td>242</td>\n",
       "      <td>276</td>\n",
       "      <td>481</td>\n",
       "      <td>299</td>\n",
       "      <td>315</td>\n",
       "      <td>359</td>\n",
       "      <td>378</td>\n",
       "      <td>0</td>\n",
       "    </tr>\n",
       "    <tr>\n",
       "      <th>Maharashtra</th>\n",
       "      <td>0</td>\n",
       "      <td>6328</td>\n",
       "      <td>6364</td>\n",
       "      <td>7074</td>\n",
       "      <td>6555</td>\n",
       "      <td>5368</td>\n",
       "      <td>5134</td>\n",
       "      <td>6603</td>\n",
       "      <td>6875</td>\n",
       "      <td>7862</td>\n",
       "      <td>...</td>\n",
       "      <td>12822</td>\n",
       "      <td>12248</td>\n",
       "      <td>9181</td>\n",
       "      <td>11088</td>\n",
       "      <td>12712</td>\n",
       "      <td>11813</td>\n",
       "      <td>12608</td>\n",
       "      <td>12020</td>\n",
       "      <td>11111</td>\n",
       "      <td>0</td>\n",
       "    </tr>\n",
       "  </tbody>\n",
       "</table>\n",
       "<p>5 rows × 48 columns</p>\n",
       "</div>"
      ],
      "text/plain": [
       "states                       2020-07-01  2020-07-02  2020-07-03  2020-07-04  \\\n",
       "state                                                                         \n",
       "Tripura                               0          39          93          25   \n",
       "Mizoram                               0           2           0           2   \n",
       "Andaman and Nicobar Islands           0           9           7           3   \n",
       "Puducherry                            0          63          22          80   \n",
       "Maharashtra                           0        6328        6364        7074   \n",
       "\n",
       "states                       2020-07-05  2020-07-06  2020-07-07  2020-07-08  \\\n",
       "state                                                                         \n",
       "Tripura                              23         111          24          57   \n",
       "Mizoram                              22          11           1           5   \n",
       "Andaman and Nicobar Islands           6          16           6           2   \n",
       "Puducherry                           42          65          30         110   \n",
       "Maharashtra                        6555        5368        5134        6603   \n",
       "\n",
       "states                       2020-07-09  2020-07-10  ...  2020-08-08  \\\n",
       "state                                                ...               \n",
       "Tripura                              16         142  ...         146   \n",
       "Mizoram                               0          23  ...           8   \n",
       "Andaman and Nicobar Islands           7           0  ...         129   \n",
       "Puducherry                           49          72  ...         261   \n",
       "Maharashtra                        6875        7862  ...       12822   \n",
       "\n",
       "states                       2020-08-09  2020-08-10  2020-08-11  2020-08-12  \\\n",
       "state                                                                         \n",
       "Tripura                             147          62         164         110   \n",
       "Mizoram                              41          12           3          25   \n",
       "Andaman and Nicobar Islands         139         135         139         136   \n",
       "Puducherry                          259         242         276         481   \n",
       "Maharashtra                       12248        9181       11088       12712   \n",
       "\n",
       "states                       2020-08-13  2020-08-14  2020-08-15  2020-08-16  \\\n",
       "state                                                                         \n",
       "Tripura                             121         164         167         127   \n",
       "Mizoram                               1           8          56          64   \n",
       "Andaman and Nicobar Islands         137         149         120          93   \n",
       "Puducherry                          299         315         359         378   \n",
       "Maharashtra                       11813       12608       12020       11111   \n",
       "\n",
       "states                       2020-08-17  \n",
       "state                                    \n",
       "Tripura                             143  \n",
       "Mizoram                              12  \n",
       "Andaman and Nicobar Islands           0  \n",
       "Puducherry                            0  \n",
       "Maharashtra                           0  \n",
       "\n",
       "[5 rows x 48 columns]"
      ]
     },
     "execution_count": 18,
     "metadata": {},
     "output_type": "execute_result"
    }
   ],
   "source": [
    "#hide\n",
    "dft_ct_new_cases.head()"
   ]
  },
  {
   "cell_type": "code",
   "execution_count": 19,
   "metadata": {
    "execution": {
     "iopub.execute_input": "2020-08-17T03:52:16.053636Z",
     "iopub.status.busy": "2020-08-17T03:52:16.052981Z",
     "iopub.status.idle": "2020-08-17T03:52:18.657508Z",
     "shell.execute_reply": "2020-08-17T03:52:18.658280Z"
    },
    "papermill": {
     "duration": 2.628044,
     "end_time": "2020-08-17T03:52:18.658452",
     "exception": false,
     "start_time": "2020-08-17T03:52:16.030408",
     "status": "completed"
    },
    "tags": []
   },
   "outputs": [
    {
     "data": {
      "image/png": "[encoded data removed]",
      "text/plain": [
       "<Figure size 1296x2016 with 11 Axes>"
      ]
     },
     "metadata": {
      "needs_background": "light"
     },
     "output_type": "display_data"
    }
   ],
   "source": [
    "#hide_input\n",
    "df = dft_ct_new_cases.copy()\n",
    "df.loc['Total'] = df.sum()\n",
    "n = 5\n",
    "ax = []\n",
    "fig = plt.figure(figsize = (18,28))\n",
    "gs = fig.add_gridspec(n+2, 5)\n",
    "# gs = fig.add_gridspec(2, 3)\n",
    "ax1 = fig.add_subplot(gs[0, :])\n",
    "ef = df.loc['Total'].rename_axis('date').reset_index()\n",
    "ef['date'] = ef['date'].astype('datetime64[ns]')\n",
    "ax1.bar(ef.date,ef.Total,alpha=0.3,color='#007acc')\n",
    "ax1.plot(ef.date,ef.Total , marker=\"o\", color='#007acc')\n",
    "ax1.xaxis.set_major_locator(mdates.WeekdayLocator())\n",
    "ax1.xaxis.set_major_formatter(mdates.DateFormatter('%b %d'))\n",
    "ax1.text(0.02, 0.5,'India daily case count', transform = ax1.transAxes, fontsize=25);\n",
    "ax1.spines['right'].set_visible(False)\n",
    "ax1.spines['top'].set_visible(False)\n",
    "\n",
    "ax2 = fig.add_subplot(gs[1,0])\n",
    "ef = df.loc['Maharashtra'].rename_axis('date').reset_index()\n",
    "ef['date'] = ef['date'].astype('datetime64[ns]')\n",
    "\n",
    "ax2.bar(ef.date, ef.Maharashtra,color = '#007acc',alpha=0.5)\n",
    "ax2.xaxis.set_major_locator(mdates.WeekdayLocator())\n",
    "ax2.xaxis.set_major_formatter(mdates.DateFormatter('%b %d'))\n",
    "ax2.set_xticks(ax2.get_xticks()[::3])\n",
    "maxyval = ef.Maharashtra.max()\n",
    "ax2.set_ylim([0,maxyval])\n",
    "ax2.text(0.05, 0.9,'Maharashtra', transform = ax2.transAxes, fontsize=20);\n",
    "ax2.spines['right'].set_visible(False)\n",
    "ax2.spines['top'].set_visible(False)\n",
    "\n",
    "\n",
    "ax3 = fig.add_subplot(gs[1,1])\n",
    "ef = df.loc['Tamil Nadu'].rename_axis('date').reset_index()\n",
    "ef['date'] = ef['date'].astype('datetime64[ns]')\n",
    "ax3.bar(ef.date, ef['Tamil Nadu'],color = '#007acc',alpha=0.5,)\n",
    "ax3.xaxis.set_major_locator(mdates.WeekdayLocator())\n",
    "ax3.xaxis.set_major_formatter(mdates.DateFormatter('%b %d'))\n",
    "ax3.set_xticks(ax3.get_xticks()[::3])\n",
    "ax3.text(0.05, 0.9,'Tamil Nadu', transform = ax3.transAxes, fontsize=20);\n",
    "ax3.spines['right'].set_visible(False)\n",
    "ax3.spines['top'].set_visible(False)\n",
    "\n",
    "ax5 = fig.add_subplot(gs[1,3])\n",
    "ef = df.loc['Telangana'].rename_axis('date').reset_index()\n",
    "ef['date'] = ef['date'].astype('datetime64[ns]')\n",
    "ax5.bar(ef.date, ef['Telangana'],color = '#007acc',alpha=0.5,)\n",
    "ax5.xaxis.set_major_locator(mdates.WeekdayLocator())\n",
    "ax5.xaxis.set_major_formatter(mdates.DateFormatter('%b %d'))\n",
    "ax5.set_xticks(ax5.get_xticks()[::3])\n",
    "ax5.text(0.05, 0.9,'Telangana', transform = ax5.transAxes, fontsize=20);\n",
    "ax5.spines['right'].set_visible(False)\n",
    "ax5.spines['top'].set_visible(False)\n",
    "\n",
    "ax6 = fig.add_subplot(gs[1,4])\n",
    "ef = df.loc['Andhra Pradesh'].rename_axis('date').reset_index()\n",
    "ef['date'] = ef['date'].astype('datetime64[ns]')\n",
    "ax6.bar(ef.date, ef['Andhra Pradesh'],color = '#007acc',alpha=0.5,)\n",
    "ax6.xaxis.set_major_locator(mdates.WeekdayLocator())\n",
    "ax6.xaxis.set_major_formatter(mdates.DateFormatter('%b %d'))\n",
    "ax6.set_xticks(ax6.get_xticks()[::3])\n",
    "ax6.text(0.05, 1,'Andhra Pradesh', transform = ax6.transAxes, fontsize=20);\n",
    "ax6.spines['right'].set_visible(False)\n",
    "ax6.spines['top'].set_visible(False)\n",
    "\n",
    "ax4 = fig.add_subplot(gs[1,2])\n",
    "ef = df.loc['Delhi'].rename_axis('date').reset_index()\n",
    "ef['date'] = ef['date'].astype('datetime64[ns]')\n",
    "ax4.bar(ef.date, ef.Delhi,color = '#007acc',alpha=0.5)\n",
    "ax4.set_xticks([])\n",
    "ax4.xaxis.set_major_locator(mdates.WeekdayLocator())\n",
    "ax4.xaxis.set_major_formatter(mdates.DateFormatter('%b %d'))\n",
    "ax4.set_xticks(ax4.get_xticks()[::3])\n",
    "ax4.spines['right'].set_visible(False)\n",
    "ax4.spines['top'].set_visible(False)\n",
    "\n",
    "ax4.text(0.05, 1,'Delhi', transform = ax4.transAxes, fontsize=20)\n",
    "\n",
    "for i in range(n):\n",
    "    \n",
    "    ax.append(fig.add_subplot(gs[i+2,:]))\n",
    "    ef = df.iloc[i+3].rename_axis('date').reset_index()\n",
    "    ef['date'] = ef['date'].astype('datetime64[ns]')\n",
    "    ax[i].bar(ef.date,ef.iloc[:,-1],color = '#007acc',alpha=0.3)\n",
    "    ax[i].plot(ef.date,ef.iloc[:,-1],marker='o',color='#007acc')\n",
    "    ax[i].text(0.02,0.5,f'{ef.columns.values[-1]}',transform = ax[i].transAxes, fontsize = 20);\n",
    "    ax[i].xaxis.set_major_locator(mdates.WeekdayLocator())\n",
    "    ax[i].xaxis.set_major_formatter(mdates.DateFormatter('%b %d'))\n",
    "    ax[i].set_ylim([0,7000])\n",
    "    ax[i].spines['right'].set_visible(False)\n",
    "    ax[i].spines['top'].set_visible(False)\n",
    "plt.tight_layout()\n"
   ]
  },
  {
   "cell_type": "code",
   "execution_count": 20,
   "metadata": {
    "execution": {
     "iopub.execute_input": "2020-08-17T03:52:18.718564Z",
     "iopub.status.busy": "2020-08-17T03:52:18.717914Z",
     "iopub.status.idle": "2020-08-17T03:52:18.723744Z",
     "shell.execute_reply": "2020-08-17T03:52:18.723246Z"
    },
    "papermill": {
     "duration": 0.039205,
     "end_time": "2020-08-17T03:52:18.723881",
     "exception": false,
     "start_time": "2020-08-17T03:52:18.684676",
     "status": "completed"
    },
    "tags": []
   },
   "outputs": [
    {
     "name": "stdout",
     "output_type": "stream",
     "text": [
      "                                   states   Cases  Deaths  PCases  PDeaths  Cases (+)  Deaths (+)  Fatality Rate\n",
      "                              Maharashtra  595865   20037  595865    20037          0           0           3.36\n",
      "                               Tamil Nadu  338055    5766  338055     5766          0           0           1.71\n",
      "                           Andhra Pradesh  289829    2650  289829     2650          0           0           0.91\n",
      "                                Karnataka  226966    3956  226966     3956          0           0           1.74\n",
      "                            Uttar Pradesh  154418    2449  154418     2449          0           0           1.59\n",
      "                                    Delhi  152580    4196  152580     4196          0           0           2.75\n",
      "                              West Bengal  116498    2428  116498     2428          0           0           2.08\n",
      "                                    Bihar  104093     537  104093      537          0           0           0.52\n",
      "                                Telangana   91361     693   91361      693          0           0           0.76\n",
      "                                  Gujarat   78783    2785   78783     2785          0           0           3.54\n",
      "                                    Assam   76876     189   76876      189          0           0           0.25\n",
      "                                Rajasthan   61296     876   61296      876          0           0           1.43\n",
      "                                   Odisha   60050     396   60050      396          0           0           0.66\n",
      "                                  Haryana   47153     538   47153      538          0           0           1.14\n",
      "                           Madhya Pradesh   45455    1105   45455     1105          0           0           2.43\n",
      "                                   Kerala   44415     157   44415      157          0           0           0.35\n",
      "                                   Punjab   31206     812   31206      812          0           0           2.60\n",
      "                        Jammu and Kashmir   28470     542   28470      542          0           0           1.90\n",
      "                                Jharkhand   23224     244   23224      244          0           0           1.05\n",
      "                             Chhattisgarh   15621     142   15621      142          0           0           0.91\n",
      "                              Uttarakhand   12175     152   12175      152          0           0           1.25\n",
      "                                      Goa   11639     104   11639      104          0           0           0.89\n",
      "                               Puducherry    7732     110    7732      110          0           0           1.42\n",
      "                                  Tripura    7219      59    7076       55        143           4           0.82\n",
      "                                  Manipur    4569      16    4569       16          0           0           0.35\n",
      "                         Himachal Pradesh    4156      18    4156       18          0           0           0.43\n",
      "                                 Nagaland    3394       7    3394        7          0           0           0.21\n",
      "                        Arunachal Pradesh    2701       5    2701        5          0           0           0.19\n",
      "              Andaman and Nicobar Islands    2399      28    2399       28          0           0           1.17\n",
      "                               Chandigarh    2102      29    2102       29          0           0           1.38\n",
      "                                   Ladakh    1948      14    1948       14          0           0           0.72\n",
      " Dadra and Nagar Haveli and Daman and Diu    1881       2    1881        2          0           0           0.11\n",
      "                                Meghalaya    1374       6    1374        6          0           0           0.44\n",
      "                                   Sikkim    1167       1    1167        1          0           0           0.09\n",
      "                                  Mizoram     789       0     777        0         12           0           0.00\n",
      "                              Lakshadweep       0       0       0        0          0           0            NaN\n"
     ]
    }
   ],
   "source": [
    "#hide_input\n",
    "print(df_table.to_string(index=False))"
   ]
  },
  {
   "cell_type": "code",
   "execution_count": null,
   "metadata": {
    "papermill": {
     "duration": 0.023814,
     "end_time": "2020-08-17T03:52:18.771030",
     "exception": false,
     "start_time": "2020-08-17T03:52:18.747216",
     "status": "completed"
    },
    "tags": []
   },
   "outputs": [],
   "source": []
  },
  {
   "cell_type": "code",
   "execution_count": null,
   "metadata": {
    "papermill": {
     "duration": 0.023388,
     "end_time": "2020-08-17T03:52:18.817996",
     "exception": false,
     "start_time": "2020-08-17T03:52:18.794608",
     "status": "completed"
    },
    "tags": []
   },
   "outputs": [],
   "source": []
  }
 ],
 "metadata": {
  "kernelspec": {
   "display_name": "Python 3",
   "language": "python",
   "name": "python3"
  },
  "language_info": {
   "codemirror_mode": {
    "name": "ipython",
    "version": 3
   },
   "file_extension": ".py",
   "mimetype": "text/x-python",
   "name": "python",
   "nbconvert_exporter": "python",
   "pygments_lexer": "ipython3",
   "version": "3.6.11"
  },
  "papermill": {
   "duration": 7.606083,
   "end_time": "2020-08-17T03:52:19.250589",
   "environment_variables": {},
   "exception": null,
   "input_path": "latest.ipynb",
   "output_path": "latest.ipynb",
   "parameters": {},
   "start_time": "2020-08-17T03:52:11.644506",
   "version": "2.1.2"
  }
 },
 "nbformat": 4,
 "nbformat_minor": 4
}