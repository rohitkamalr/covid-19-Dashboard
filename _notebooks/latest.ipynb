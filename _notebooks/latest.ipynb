{
 "cells": [
  {
   "cell_type": "markdown",
   "id": "colored-stack",
   "metadata": {
    "papermill": {
     "duration": 0.027559,
     "end_time": "2021-02-24T13:58:39.188719",
     "exception": false,
     "start_time": "2021-02-24T13:58:39.161160",
     "status": "completed"
    },
    "tags": []
   },
   "source": [
    "# Latest COVID-19 India Matplotlib Overview"
   ]
  },
  {
   "cell_type": "code",
   "execution_count": 1,
   "id": "light-proportion",
   "metadata": {
    "execution": {
     "iopub.execute_input": "2021-02-24T13:58:39.251395Z",
     "iopub.status.busy": "2021-02-24T13:58:39.250508Z",
     "iopub.status.idle": "2021-02-24T13:58:39.967972Z",
     "shell.execute_reply": "2021-02-24T13:58:39.966495Z"
    },
    "papermill": {
     "duration": 0.755515,
     "end_time": "2021-02-24T13:58:39.968147",
     "exception": false,
     "start_time": "2021-02-24T13:58:39.212632",
     "status": "completed"
    },
    "tags": []
   },
   "outputs": [],
   "source": [
    "#hide\n",
    "import pandas as pd\n",
    "import numpy as np\n",
    "import requests\n",
    "import json\n",
    "import matplotlib.pyplot as plt\n",
    "import matplotlib.dates as mdates\n",
    "import matplotlib as mpl\n",
    "from IPython.core.display import display,HTML\n",
    "%matplotlib inline\n",
    "from datetime import date"
   ]
  },
  {
   "cell_type": "code",
   "execution_count": 2,
   "id": "greenhouse-shooting",
   "metadata": {
    "execution": {
     "iopub.execute_input": "2021-02-24T13:58:40.020283Z",
     "iopub.status.busy": "2021-02-24T13:58:40.019579Z",
     "iopub.status.idle": "2021-02-24T13:58:40.192434Z",
     "shell.execute_reply": "2021-02-24T13:58:40.191806Z"
    },
    "papermill": {
     "duration": 0.202918,
     "end_time": "2021-02-24T13:58:40.192651",
     "exception": false,
     "start_time": "2021-02-24T13:58:39.989733",
     "status": "completed"
    },
    "tags": []
   },
   "outputs": [],
   "source": [
    "#hide\n",
    "df  = pd.read_csv('https://api.covid19india.org/csv/latest/states.csv')\n",
    "df = df[['Date','State','Confirmed','Deceased']]\n",
    "df = df.rename(columns={'Confirmed':'Cases', \"Deceased\":'Deaths'})\n",
    "df_cases = df[[\"Date\",'State','Cases']]\n",
    "df_deaths = df[['Date','State','Deaths']]\n",
    "df_cases1 = df_cases.groupby('Date')\n",
    "df_deaths1= df_deaths.groupby('Date')"
   ]
  },
  {
   "cell_type": "code",
   "execution_count": 3,
   "id": "hybrid-cathedral",
   "metadata": {
    "execution": {
     "iopub.execute_input": "2021-02-24T13:58:40.244045Z",
     "iopub.status.busy": "2021-02-24T13:58:40.243321Z",
     "iopub.status.idle": "2021-02-24T13:58:40.265415Z",
     "shell.execute_reply": "2021-02-24T13:58:40.264886Z"
    },
    "papermill": {
     "duration": 0.050278,
     "end_time": "2021-02-24T13:58:40.265541",
     "exception": false,
     "start_time": "2021-02-24T13:58:40.215263",
     "status": "completed"
    },
    "tags": []
   },
   "outputs": [],
   "source": [
    "#hide\n",
    "df_snap = pd.read_csv('data/SnapshotCases-28-July.csv')\n",
    "arr_states = df_snap['states'].unique()\n",
    "arr_dates = df['Date'].unique()\n",
    "df_snap = df_snap.set_index('states')"
   ]
  },
  {
   "cell_type": "code",
   "execution_count": 4,
   "id": "interior-belfast",
   "metadata": {
    "execution": {
     "iopub.execute_input": "2021-02-24T13:58:40.317932Z",
     "iopub.status.busy": "2021-02-24T13:58:40.317118Z",
     "iopub.status.idle": "2021-02-24T13:58:40.323578Z",
     "shell.execute_reply": "2021-02-24T13:58:40.324232Z"
    },
    "papermill": {
     "duration": 0.036906,
     "end_time": "2021-02-24T13:58:40.324409",
     "exception": false,
     "start_time": "2021-02-24T13:58:40.287503",
     "status": "completed"
    },
    "tags": []
   },
   "outputs": [
    {
     "data": {
      "text/plain": [
       "array(['Andaman and Nicobar Islands', 'Andhra Pradesh',\n",
       "       'Arunachal Pradesh', 'Assam', 'Bihar', 'Chandigarh',\n",
       "       'Dadra and Nagar Haveli and Daman and Diu', 'Delhi', 'Goa',\n",
       "       'Gujarat', 'Haryana', 'Himachal Pradesh', 'Jammu and Kashmir',\n",
       "       'Jharkhand', 'Karnataka', 'Kerala', 'Lakshadweep',\n",
       "       'Madhya Pradesh', 'Maharashtra', 'Manipur', 'Meghalaya', 'Mizoram',\n",
       "       'Nagaland', 'Odisha', 'Puducherry', 'Punjab', 'Rajasthan',\n",
       "       'Sikkim', 'Tamil Nadu', 'Telangana', 'Tripura', 'Uttar Pradesh',\n",
       "       'West Bengal', 'Chhattisgarh', 'Ladakh', 'Uttarakhand'],\n",
       "      dtype=object)"
      ]
     },
     "execution_count": 4,
     "metadata": {},
     "output_type": "execute_result"
    }
   ],
   "source": [
    "#hide\n",
    "arr_states[-9] = 'Puducherry'\n",
    "arr_states[-10] = 'Odisha'\n",
    "arr_states[6] = 'Dadra and Nagar Haveli and Daman and Diu'\n",
    "arr_states = np.append(arr_states,np.array(['Chhattisgarh','Ladakh','Uttarakhand']))\n",
    "arr_states"
   ]
  },
  {
   "cell_type": "code",
   "execution_count": 5,
   "id": "behind-manner",
   "metadata": {
    "execution": {
     "iopub.execute_input": "2021-02-24T13:58:40.394685Z",
     "iopub.status.busy": "2021-02-24T13:58:40.393372Z",
     "iopub.status.idle": "2021-02-24T13:58:40.396309Z",
     "shell.execute_reply": "2021-02-24T13:58:40.396966Z"
    },
    "papermill": {
     "duration": 0.049155,
     "end_time": "2021-02-24T13:58:40.397104",
     "exception": false,
     "start_time": "2021-02-24T13:58:40.347949",
     "status": "completed"
    },
    "tags": []
   },
   "outputs": [],
   "source": [
    "#hide\n",
    "dates = []\n",
    "for i in arr_dates:\n",
    "    if i>='2020-07-01':\n",
    "        dates.append(i)\n",
    "dict = {'states':dates}\n",
    "for i in arr_states:\n",
    "    dict[i] = [0]*len(dates)\n",
    "dft_cases = pd.DataFrame(dict)\n",
    "dft_deaths = pd.DataFrame(dict)\n"
   ]
  },
  {
   "cell_type": "code",
   "execution_count": 6,
   "id": "simplified-peter",
   "metadata": {
    "execution": {
     "iopub.execute_input": "2021-02-24T13:58:40.466665Z",
     "iopub.status.busy": "2021-02-24T13:58:40.465638Z",
     "iopub.status.idle": "2021-02-24T13:58:45.842926Z",
     "shell.execute_reply": "2021-02-24T13:58:45.843563Z"
    },
    "papermill": {
     "duration": 5.414332,
     "end_time": "2021-02-24T13:58:45.843734",
     "exception": false,
     "start_time": "2021-02-24T13:58:40.429402",
     "status": "completed"
    },
    "tags": []
   },
   "outputs": [],
   "source": [
    "#hide\n",
    "for i in range(len(dates)):\n",
    "    df1_deaths = df_deaths1.get_group(dates[i])\n",
    "    for j in range(len(df1_deaths.index)):\n",
    "        if df1_deaths.iloc[j,1] in arr_states:\n",
    "            dft_deaths.loc[i,df1_deaths.iloc[j,1]] = df1_deaths.iloc[j,2]\n",
    "dft_deaths = dft_deaths.set_index('states')"
   ]
  },
  {
   "cell_type": "code",
   "execution_count": 7,
   "id": "geological-welding",
   "metadata": {
    "execution": {
     "iopub.execute_input": "2021-02-24T13:58:45.896767Z",
     "iopub.status.busy": "2021-02-24T13:58:45.895898Z",
     "iopub.status.idle": "2021-02-24T13:58:51.389762Z",
     "shell.execute_reply": "2021-02-24T13:58:51.388929Z"
    },
    "papermill": {
     "duration": 5.52346,
     "end_time": "2021-02-24T13:58:51.390047",
     "exception": false,
     "start_time": "2021-02-24T13:58:45.866587",
     "status": "completed"
    },
    "tags": []
   },
   "outputs": [],
   "source": [
    "#hide\n",
    "for i in range(len(dates)):\n",
    "    df1_cases = df_cases1.get_group(dates[i])\n",
    "    for j in range(len(df1_cases.index)):\n",
    "        if df1_cases.iloc[j,1] in arr_states:\n",
    "            dft_cases.loc[i,df1_cases.iloc[j,1]] = df1_cases.iloc[j,2]\n",
    "dft_cases = dft_cases.set_index('states')"
   ]
  },
  {
   "cell_type": "code",
   "execution_count": 8,
   "id": "binary-ratio",
   "metadata": {
    "execution": {
     "iopub.execute_input": "2021-02-24T13:58:51.446777Z",
     "iopub.status.busy": "2021-02-24T13:58:51.445977Z",
     "iopub.status.idle": "2021-02-24T13:58:51.450434Z",
     "shell.execute_reply": "2021-02-24T13:58:51.451406Z"
    },
    "papermill": {
     "duration": 0.036054,
     "end_time": "2021-02-24T13:58:51.451767",
     "exception": false,
     "start_time": "2021-02-24T13:58:51.415713",
     "status": "completed"
    },
    "tags": []
   },
   "outputs": [],
   "source": [
    "#hide\n",
    "dft_cases = dft_cases.T\n",
    "dft_deaths = dft_deaths.T\n",
    "dt_today = dates[-1]\n",
    "dt_yday = dates[-2]"
   ]
  },
  {
   "cell_type": "code",
   "execution_count": 9,
   "id": "boolean-calculator",
   "metadata": {
    "execution": {
     "iopub.execute_input": "2021-02-24T13:58:51.503192Z",
     "iopub.status.busy": "2021-02-24T13:58:51.502386Z",
     "iopub.status.idle": "2021-02-24T13:58:51.508389Z",
     "shell.execute_reply": "2021-02-24T13:58:51.507823Z"
    },
    "papermill": {
     "duration": 0.034004,
     "end_time": "2021-02-24T13:58:51.508518",
     "exception": false,
     "start_time": "2021-02-24T13:58:51.474514",
     "status": "completed"
    },
    "tags": []
   },
   "outputs": [],
   "source": [
    "#hide\n",
    "dft_cases = dft_cases.reset_index()\n",
    "dft_deaths = dft_deaths.reset_index()\n",
    "dft_cases = dft_cases.rename(columns = {'index':'state'})\n",
    "dft_deaths = dft_deaths.rename(columns = {'index':'state'})"
   ]
  },
  {
   "cell_type": "code",
   "execution_count": 10,
   "id": "invisible-johnston",
   "metadata": {
    "execution": {
     "iopub.execute_input": "2021-02-24T13:58:51.564445Z",
     "iopub.status.busy": "2021-02-24T13:58:51.563724Z",
     "iopub.status.idle": "2021-02-24T13:58:51.567310Z",
     "shell.execute_reply": "2021-02-24T13:58:51.567951Z"
    },
    "papermill": {
     "duration": 0.037844,
     "end_time": "2021-02-24T13:58:51.568093",
     "exception": false,
     "start_time": "2021-02-24T13:58:51.530249",
     "status": "completed"
    },
    "tags": []
   },
   "outputs": [],
   "source": [
    "#hide\n",
    "dfc_cases = dft_cases.groupby('state')[dt_today].sum()\n",
    "dfc_deaths = dft_deaths.groupby('state')[dt_today].sum()\n",
    "dfp_cases = dft_cases.groupby('state')[dt_yday].sum()\n",
    "dfp_deaths = dft_deaths.groupby('state')[dt_yday].sum()"
   ]
  },
  {
   "cell_type": "code",
   "execution_count": 11,
   "id": "measured-great",
   "metadata": {
    "execution": {
     "iopub.execute_input": "2021-02-24T13:58:51.630916Z",
     "iopub.status.busy": "2021-02-24T13:58:51.629938Z",
     "iopub.status.idle": "2021-02-24T13:58:51.637525Z",
     "shell.execute_reply": "2021-02-24T13:58:51.638268Z"
    },
    "papermill": {
     "duration": 0.049186,
     "end_time": "2021-02-24T13:58:51.638409",
     "exception": false,
     "start_time": "2021-02-24T13:58:51.589223",
     "status": "completed"
    },
    "tags": []
   },
   "outputs": [
    {
     "data": {
      "text/html": [
       "<div>\n",
       "<style scoped>\n",
       "    .dataframe tbody tr th:only-of-type {\n",
       "        vertical-align: middle;\n",
       "    }\n",
       "\n",
       "    .dataframe tbody tr th {\n",
       "        vertical-align: top;\n",
       "    }\n",
       "\n",
       "    .dataframe thead th {\n",
       "        text-align: right;\n",
       "    }\n",
       "</style>\n",
       "<table border=\"1\" class=\"dataframe\">\n",
       "  <thead>\n",
       "    <tr style=\"text-align: right;\">\n",
       "      <th></th>\n",
       "      <th>states</th>\n",
       "      <th>Cases</th>\n",
       "      <th>Deaths</th>\n",
       "      <th>PCases</th>\n",
       "      <th>PDeaths</th>\n",
       "    </tr>\n",
       "  </thead>\n",
       "  <tbody>\n",
       "    <tr>\n",
       "      <th>0</th>\n",
       "      <td>Maharashtra</td>\n",
       "      <td>2112312</td>\n",
       "      <td>51857</td>\n",
       "      <td>2112312</td>\n",
       "      <td>51857</td>\n",
       "    </tr>\n",
       "    <tr>\n",
       "      <th>1</th>\n",
       "      <td>Kerala</td>\n",
       "      <td>1045010</td>\n",
       "      <td>4137</td>\n",
       "      <td>1040904</td>\n",
       "      <td>4120</td>\n",
       "    </tr>\n",
       "    <tr>\n",
       "      <th>2</th>\n",
       "      <td>Karnataka</td>\n",
       "      <td>948849</td>\n",
       "      <td>12303</td>\n",
       "      <td>948849</td>\n",
       "      <td>12303</td>\n",
       "    </tr>\n",
       "    <tr>\n",
       "      <th>3</th>\n",
       "      <td>Andhra Pradesh</td>\n",
       "      <td>889409</td>\n",
       "      <td>7168</td>\n",
       "      <td>889409</td>\n",
       "      <td>7168</td>\n",
       "    </tr>\n",
       "    <tr>\n",
       "      <th>4</th>\n",
       "      <td>Tamil Nadu</td>\n",
       "      <td>849166</td>\n",
       "      <td>12472</td>\n",
       "      <td>849166</td>\n",
       "      <td>12472</td>\n",
       "    </tr>\n",
       "  </tbody>\n",
       "</table>\n",
       "</div>"
      ],
      "text/plain": [
       "           states    Cases  Deaths   PCases  PDeaths\n",
       "0     Maharashtra  2112312   51857  2112312    51857\n",
       "1          Kerala  1045010    4137  1040904     4120\n",
       "2       Karnataka   948849   12303   948849    12303\n",
       "3  Andhra Pradesh   889409    7168   889409     7168\n",
       "4      Tamil Nadu   849166   12472   849166    12472"
      ]
     },
     "execution_count": 11,
     "metadata": {},
     "output_type": "execute_result"
    }
   ],
   "source": [
    "#hide\n",
    "df_table = pd.DataFrame({'states': dfc_cases.index, 'Cases': dfc_cases.values, 'Deaths': dfc_deaths.values, 'PCases': dfp_cases.values, 'PDeaths': dfp_deaths.values}).set_index('states')\n",
    "df_table = df_table.sort_values(by = ['Cases','Deaths'], ascending = [False, False])\n",
    "df_table = df_table.reset_index()\n",
    "df_table.head()"
   ]
  },
  {
   "cell_type": "code",
   "execution_count": 12,
   "id": "found-montreal",
   "metadata": {
    "execution": {
     "iopub.execute_input": "2021-02-24T13:58:51.691751Z",
     "iopub.status.busy": "2021-02-24T13:58:51.690724Z",
     "iopub.status.idle": "2021-02-24T13:58:51.701536Z",
     "shell.execute_reply": "2021-02-24T13:58:51.700967Z"
    },
    "papermill": {
     "duration": 0.040181,
     "end_time": "2021-02-24T13:58:51.701663",
     "exception": false,
     "start_time": "2021-02-24T13:58:51.661482",
     "status": "completed"
    },
    "tags": []
   },
   "outputs": [],
   "source": [
    "#hide\n",
    "for c in 'Cases, Deaths'.split(', '):\n",
    "    df_table[f'{c} (+)'] = (df_table[c] - df_table[f'P{c}']).clip(0)\n",
    "df_table['Fatality Rate'] = (100* df_table['Deaths']/ df_table['Cases']).round(2)"
   ]
  },
  {
   "cell_type": "code",
   "execution_count": 13,
   "id": "minus-savage",
   "metadata": {
    "execution": {
     "iopub.execute_input": "2021-02-24T13:58:51.767223Z",
     "iopub.status.busy": "2021-02-24T13:58:51.766146Z",
     "iopub.status.idle": "2021-02-24T13:58:51.770210Z",
     "shell.execute_reply": "2021-02-24T13:58:51.769491Z"
    },
    "papermill": {
     "duration": 0.043843,
     "end_time": "2021-02-24T13:58:51.770357",
     "exception": false,
     "start_time": "2021-02-24T13:58:51.726514",
     "status": "completed"
    },
    "tags": []
   },
   "outputs": [
    {
     "data": {
      "text/html": [
       "<div>\n",
       "<style scoped>\n",
       "    .dataframe tbody tr th:only-of-type {\n",
       "        vertical-align: middle;\n",
       "    }\n",
       "\n",
       "    .dataframe tbody tr th {\n",
       "        vertical-align: top;\n",
       "    }\n",
       "\n",
       "    .dataframe thead th {\n",
       "        text-align: right;\n",
       "    }\n",
       "</style>\n",
       "<table border=\"1\" class=\"dataframe\">\n",
       "  <thead>\n",
       "    <tr style=\"text-align: right;\">\n",
       "      <th></th>\n",
       "      <th>states</th>\n",
       "      <th>Cases</th>\n",
       "      <th>Deaths</th>\n",
       "      <th>PCases</th>\n",
       "      <th>PDeaths</th>\n",
       "      <th>Cases (+)</th>\n",
       "      <th>Deaths (+)</th>\n",
       "      <th>Fatality Rate</th>\n",
       "    </tr>\n",
       "  </thead>\n",
       "  <tbody>\n",
       "    <tr>\n",
       "      <th>0</th>\n",
       "      <td>Maharashtra</td>\n",
       "      <td>2112312</td>\n",
       "      <td>51857</td>\n",
       "      <td>2112312</td>\n",
       "      <td>51857</td>\n",
       "      <td>0</td>\n",
       "      <td>0</td>\n",
       "      <td>2.45</td>\n",
       "    </tr>\n",
       "    <tr>\n",
       "      <th>1</th>\n",
       "      <td>Kerala</td>\n",
       "      <td>1045010</td>\n",
       "      <td>4137</td>\n",
       "      <td>1040904</td>\n",
       "      <td>4120</td>\n",
       "      <td>4106</td>\n",
       "      <td>17</td>\n",
       "      <td>0.40</td>\n",
       "    </tr>\n",
       "    <tr>\n",
       "      <th>2</th>\n",
       "      <td>Karnataka</td>\n",
       "      <td>948849</td>\n",
       "      <td>12303</td>\n",
       "      <td>948849</td>\n",
       "      <td>12303</td>\n",
       "      <td>0</td>\n",
       "      <td>0</td>\n",
       "      <td>1.30</td>\n",
       "    </tr>\n",
       "    <tr>\n",
       "      <th>3</th>\n",
       "      <td>Andhra Pradesh</td>\n",
       "      <td>889409</td>\n",
       "      <td>7168</td>\n",
       "      <td>889409</td>\n",
       "      <td>7168</td>\n",
       "      <td>0</td>\n",
       "      <td>0</td>\n",
       "      <td>0.81</td>\n",
       "    </tr>\n",
       "    <tr>\n",
       "      <th>4</th>\n",
       "      <td>Tamil Nadu</td>\n",
       "      <td>849166</td>\n",
       "      <td>12472</td>\n",
       "      <td>849166</td>\n",
       "      <td>12472</td>\n",
       "      <td>0</td>\n",
       "      <td>0</td>\n",
       "      <td>1.47</td>\n",
       "    </tr>\n",
       "  </tbody>\n",
       "</table>\n",
       "</div>"
      ],
      "text/plain": [
       "           states    Cases  Deaths   PCases  PDeaths  Cases (+)  Deaths (+)  \\\n",
       "0     Maharashtra  2112312   51857  2112312    51857          0           0   \n",
       "1          Kerala  1045010    4137  1040904     4120       4106          17   \n",
       "2       Karnataka   948849   12303   948849    12303          0           0   \n",
       "3  Andhra Pradesh   889409    7168   889409     7168          0           0   \n",
       "4      Tamil Nadu   849166   12472   849166    12472          0           0   \n",
       "\n",
       "   Fatality Rate  \n",
       "0           2.45  \n",
       "1           0.40  \n",
       "2           1.30  \n",
       "3           0.81  \n",
       "4           1.47  "
      ]
     },
     "execution_count": 13,
     "metadata": {},
     "output_type": "execute_result"
    }
   ],
   "source": [
    "#hide\n",
    "df_table.head()"
   ]
  },
  {
   "cell_type": "code",
   "execution_count": 14,
   "id": "false-peter",
   "metadata": {
    "execution": {
     "iopub.execute_input": "2021-02-24T13:58:51.824719Z",
     "iopub.status.busy": "2021-02-24T13:58:51.823873Z",
     "iopub.status.idle": "2021-02-24T13:58:51.844288Z",
     "shell.execute_reply": "2021-02-24T13:58:51.845119Z"
    },
    "papermill": {
     "duration": 0.051264,
     "end_time": "2021-02-24T13:58:51.845266",
     "exception": false,
     "start_time": "2021-02-24T13:58:51.794002",
     "status": "completed"
    },
    "tags": []
   },
   "outputs": [
    {
     "data": {
      "text/plain": [
       "{'updated': '2021-02-24',\n",
       " 'since': '2021-02-23',\n",
       " 'Cases': 11033652,\n",
       " 'PCases': 11029546,\n",
       " 'Deaths': 156618,\n",
       " 'PDeaths': 156601,\n",
       " 'Cases (+)': 4106,\n",
       " 'Deaths (+)': 17}"
      ]
     },
     "execution_count": 14,
     "metadata": {},
     "output_type": "execute_result"
    }
   ],
   "source": [
    "#hide\n",
    "summary = {'updated':dates[-1], 'since':dates[-2]}\n",
    "list_names = ['Cases', 'PCases', 'Deaths', 'PDeaths', 'Cases (+)', 'Deaths (+)']\n",
    "for name in list_names:\n",
    "    summary[name] = df_table.sum()[name]\n",
    "summary"
   ]
  },
  {
   "cell_type": "code",
   "execution_count": 15,
   "id": "packed-viewer",
   "metadata": {
    "execution": {
     "iopub.execute_input": "2021-02-24T13:58:51.900492Z",
     "iopub.status.busy": "2021-02-24T13:58:51.899666Z",
     "iopub.status.idle": "2021-02-24T13:58:51.901969Z",
     "shell.execute_reply": "2021-02-24T13:58:51.902695Z"
    },
    "papermill": {
     "duration": 0.031363,
     "end_time": "2021-02-24T13:58:51.902839",
     "exception": false,
     "start_time": "2021-02-24T13:58:51.871476",
     "status": "completed"
    },
    "tags": []
   },
   "outputs": [],
   "source": [
    "#hide\n",
    "overview = '''\n",
    "<!-- #######  HTML!! #########-->\n",
    "<h1 style=\"color: #5e9ca0; text-align: center;\">India</h1>\n",
    "<p style=\"text-align: center;\">Last update: <strong>{update}</strong></p>\n",
    "<p style=\"text-align: center;\">Confirmed cases:</p>\n",
    "<p style=\"text-align: center;font-size:24px;\">{cases} (<span style=\"color: #ff0000;\">+{new}</span>)</p>\n",
    "<p style=\"text-align: center;\">Confirmed deaths:</p>\n",
    "<p style=\"text-align: center;font-size:24px;\">{deaths} (<span style=\"color: #ff0000;\">+{dnew}</span>)</p>\n",
    "'''"
   ]
  },
  {
   "cell_type": "code",
   "execution_count": 16,
   "id": "phantom-lover",
   "metadata": {
    "execution": {
     "iopub.execute_input": "2021-02-24T13:58:51.959651Z",
     "iopub.status.busy": "2021-02-24T13:58:51.958902Z",
     "iopub.status.idle": "2021-02-24T13:58:51.961839Z",
     "shell.execute_reply": "2021-02-24T13:58:51.962466Z"
    },
    "papermill": {
     "duration": 0.035483,
     "end_time": "2021-02-24T13:58:51.962623",
     "exception": false,
     "start_time": "2021-02-24T13:58:51.927140",
     "status": "completed"
    },
    "tags": []
   },
   "outputs": [
    {
     "data": {
      "text/html": [
       "\n",
       "<!-- #######  HTML!! #########-->\n",
       "<h1 style=\"color: #5e9ca0; text-align: center;\">India</h1>\n",
       "<p style=\"text-align: center;\">Last update: <strong>2021-02-24</strong></p>\n",
       "<p style=\"text-align: center;\">Confirmed cases:</p>\n",
       "<p style=\"text-align: center;font-size:24px;\">11033652 (<span style=\"color: #ff0000;\">+4106</span>)</p>\n",
       "<p style=\"text-align: center;\">Confirmed deaths:</p>\n",
       "<p style=\"text-align: center;font-size:24px;\">156618 (<span style=\"color: #ff0000;\">+17</span>)</p>\n"
      ],
      "text/plain": [
       "<IPython.core.display.HTML object>"
      ]
     },
     "metadata": {},
     "output_type": "display_data"
    }
   ],
   "source": [
    "#hide_input\n",
    "update = summary['updated']\n",
    "cases = summary['Cases']\n",
    "new = summary['Cases (+)']\n",
    "deaths = summary['Deaths']\n",
    "dnew = summary['Deaths (+)']\n",
    "\n",
    "html = HTML(overview.format(update=update, cases=cases,new=new,deaths=deaths,dnew=dnew))\n",
    "\n",
    "display(html)"
   ]
  },
  {
   "cell_type": "code",
   "execution_count": 17,
   "id": "sealed-reset",
   "metadata": {
    "execution": {
     "iopub.execute_input": "2021-02-24T13:58:52.021849Z",
     "iopub.status.busy": "2021-02-24T13:58:52.020706Z",
     "iopub.status.idle": "2021-02-24T13:58:52.029151Z",
     "shell.execute_reply": "2021-02-24T13:58:52.028442Z"
    },
    "papermill": {
     "duration": 0.040184,
     "end_time": "2021-02-24T13:58:52.029285",
     "exception": false,
     "start_time": "2021-02-24T13:58:51.989101",
     "status": "completed"
    },
    "tags": []
   },
   "outputs": [],
   "source": [
    "#hide\n",
    "dt_cols = list(dft_cases.columns[1:])\n",
    "dft_ct_new_cases = dft_cases.groupby('state')[dt_cols].sum().diff(axis=1).fillna(0).astype(int)\n",
    "dft_ct_new_cases.sort_values(by = dates[-1], ascending = False,inplace = True)"
   ]
  },
  {
   "cell_type": "code",
   "execution_count": 18,
   "id": "designed-constant",
   "metadata": {
    "execution": {
     "iopub.execute_input": "2021-02-24T13:58:52.100960Z",
     "iopub.status.busy": "2021-02-24T13:58:52.100196Z",
     "iopub.status.idle": "2021-02-24T13:58:52.103191Z",
     "shell.execute_reply": "2021-02-24T13:58:52.103895Z"
    },
    "papermill": {
     "duration": 0.049259,
     "end_time": "2021-02-24T13:58:52.104047",
     "exception": false,
     "start_time": "2021-02-24T13:58:52.054788",
     "status": "completed"
    },
    "tags": []
   },
   "outputs": [
    {
     "data": {
      "text/html": [
       "<div>\n",
       "<style scoped>\n",
       "    .dataframe tbody tr th:only-of-type {\n",
       "        vertical-align: middle;\n",
       "    }\n",
       "\n",
       "    .dataframe tbody tr th {\n",
       "        vertical-align: top;\n",
       "    }\n",
       "\n",
       "    .dataframe thead th {\n",
       "        text-align: right;\n",
       "    }\n",
       "</style>\n",
       "<table border=\"1\" class=\"dataframe\">\n",
       "  <thead>\n",
       "    <tr style=\"text-align: right;\">\n",
       "      <th>states</th>\n",
       "      <th>2020-07-01</th>\n",
       "      <th>2020-07-02</th>\n",
       "      <th>2020-07-03</th>\n",
       "      <th>2020-07-04</th>\n",
       "      <th>2020-07-05</th>\n",
       "      <th>2020-07-06</th>\n",
       "      <th>2020-07-07</th>\n",
       "      <th>2020-07-08</th>\n",
       "      <th>2020-07-09</th>\n",
       "      <th>2020-07-10</th>\n",
       "      <th>...</th>\n",
       "      <th>2021-02-15</th>\n",
       "      <th>2021-02-16</th>\n",
       "      <th>2021-02-17</th>\n",
       "      <th>2021-02-18</th>\n",
       "      <th>2021-02-19</th>\n",
       "      <th>2021-02-20</th>\n",
       "      <th>2021-02-21</th>\n",
       "      <th>2021-02-22</th>\n",
       "      <th>2021-02-23</th>\n",
       "      <th>2021-02-24</th>\n",
       "    </tr>\n",
       "    <tr>\n",
       "      <th>state</th>\n",
       "      <th></th>\n",
       "      <th></th>\n",
       "      <th></th>\n",
       "      <th></th>\n",
       "      <th></th>\n",
       "      <th></th>\n",
       "      <th></th>\n",
       "      <th></th>\n",
       "      <th></th>\n",
       "      <th></th>\n",
       "      <th></th>\n",
       "      <th></th>\n",
       "      <th></th>\n",
       "      <th></th>\n",
       "      <th></th>\n",
       "      <th></th>\n",
       "      <th></th>\n",
       "      <th></th>\n",
       "      <th></th>\n",
       "      <th></th>\n",
       "      <th></th>\n",
       "    </tr>\n",
       "  </thead>\n",
       "  <tbody>\n",
       "    <tr>\n",
       "      <th>Kerala</th>\n",
       "      <td>0</td>\n",
       "      <td>160</td>\n",
       "      <td>211</td>\n",
       "      <td>240</td>\n",
       "      <td>225</td>\n",
       "      <td>193</td>\n",
       "      <td>272</td>\n",
       "      <td>301</td>\n",
       "      <td>339</td>\n",
       "      <td>416</td>\n",
       "      <td>...</td>\n",
       "      <td>2884</td>\n",
       "      <td>4937</td>\n",
       "      <td>4892</td>\n",
       "      <td>4584</td>\n",
       "      <td>4505</td>\n",
       "      <td>4650</td>\n",
       "      <td>4070</td>\n",
       "      <td>2212</td>\n",
       "      <td>4034</td>\n",
       "      <td>4106</td>\n",
       "    </tr>\n",
       "    <tr>\n",
       "      <th>Andaman and Nicobar Islands</th>\n",
       "      <td>0</td>\n",
       "      <td>9</td>\n",
       "      <td>7</td>\n",
       "      <td>3</td>\n",
       "      <td>6</td>\n",
       "      <td>16</td>\n",
       "      <td>6</td>\n",
       "      <td>2</td>\n",
       "      <td>7</td>\n",
       "      <td>0</td>\n",
       "      <td>...</td>\n",
       "      <td>0</td>\n",
       "      <td>4</td>\n",
       "      <td>1</td>\n",
       "      <td>0</td>\n",
       "      <td>0</td>\n",
       "      <td>0</td>\n",
       "      <td>0</td>\n",
       "      <td>1</td>\n",
       "      <td>1</td>\n",
       "      <td>0</td>\n",
       "    </tr>\n",
       "    <tr>\n",
       "      <th>Madhya Pradesh</th>\n",
       "      <td>0</td>\n",
       "      <td>245</td>\n",
       "      <td>191</td>\n",
       "      <td>307</td>\n",
       "      <td>326</td>\n",
       "      <td>354</td>\n",
       "      <td>343</td>\n",
       "      <td>409</td>\n",
       "      <td>305</td>\n",
       "      <td>316</td>\n",
       "      <td>...</td>\n",
       "      <td>203</td>\n",
       "      <td>233</td>\n",
       "      <td>251</td>\n",
       "      <td>241</td>\n",
       "      <td>297</td>\n",
       "      <td>257</td>\n",
       "      <td>299</td>\n",
       "      <td>294</td>\n",
       "      <td>246</td>\n",
       "      <td>0</td>\n",
       "    </tr>\n",
       "    <tr>\n",
       "      <th>Manipur</th>\n",
       "      <td>0</td>\n",
       "      <td>19</td>\n",
       "      <td>37</td>\n",
       "      <td>9</td>\n",
       "      <td>41</td>\n",
       "      <td>24</td>\n",
       "      <td>40</td>\n",
       "      <td>5</td>\n",
       "      <td>15</td>\n",
       "      <td>132</td>\n",
       "      <td>...</td>\n",
       "      <td>8</td>\n",
       "      <td>9</td>\n",
       "      <td>10</td>\n",
       "      <td>2</td>\n",
       "      <td>5</td>\n",
       "      <td>3</td>\n",
       "      <td>4</td>\n",
       "      <td>3</td>\n",
       "      <td>3</td>\n",
       "      <td>0</td>\n",
       "    </tr>\n",
       "    <tr>\n",
       "      <th>Meghalaya</th>\n",
       "      <td>0</td>\n",
       "      <td>3</td>\n",
       "      <td>4</td>\n",
       "      <td>8</td>\n",
       "      <td>2</td>\n",
       "      <td>16</td>\n",
       "      <td>6</td>\n",
       "      <td>6</td>\n",
       "      <td>13</td>\n",
       "      <td>73</td>\n",
       "      <td>...</td>\n",
       "      <td>0</td>\n",
       "      <td>2</td>\n",
       "      <td>1</td>\n",
       "      <td>1</td>\n",
       "      <td>5</td>\n",
       "      <td>1</td>\n",
       "      <td>0</td>\n",
       "      <td>2</td>\n",
       "      <td>1</td>\n",
       "      <td>0</td>\n",
       "    </tr>\n",
       "  </tbody>\n",
       "</table>\n",
       "<p>5 rows × 239 columns</p>\n",
       "</div>"
      ],
      "text/plain": [
       "states                       2020-07-01  2020-07-02  2020-07-03  2020-07-04  \\\n",
       "state                                                                         \n",
       "Kerala                                0         160         211         240   \n",
       "Andaman and Nicobar Islands           0           9           7           3   \n",
       "Madhya Pradesh                        0         245         191         307   \n",
       "Manipur                               0          19          37           9   \n",
       "Meghalaya                             0           3           4           8   \n",
       "\n",
       "states                       2020-07-05  2020-07-06  2020-07-07  2020-07-08  \\\n",
       "state                                                                         \n",
       "Kerala                              225         193         272         301   \n",
       "Andaman and Nicobar Islands           6          16           6           2   \n",
       "Madhya Pradesh                      326         354         343         409   \n",
       "Manipur                              41          24          40           5   \n",
       "Meghalaya                             2          16           6           6   \n",
       "\n",
       "states                       2020-07-09  2020-07-10  ...  2021-02-15  \\\n",
       "state                                                ...               \n",
       "Kerala                              339         416  ...        2884   \n",
       "Andaman and Nicobar Islands           7           0  ...           0   \n",
       "Madhya Pradesh                      305         316  ...         203   \n",
       "Manipur                              15         132  ...           8   \n",
       "Meghalaya                            13          73  ...           0   \n",
       "\n",
       "states                       2021-02-16  2021-02-17  2021-02-18  2021-02-19  \\\n",
       "state                                                                         \n",
       "Kerala                             4937        4892        4584        4505   \n",
       "Andaman and Nicobar Islands           4           1           0           0   \n",
       "Madhya Pradesh                      233         251         241         297   \n",
       "Manipur                               9          10           2           5   \n",
       "Meghalaya                             2           1           1           5   \n",
       "\n",
       "states                       2021-02-20  2021-02-21  2021-02-22  2021-02-23  \\\n",
       "state                                                                         \n",
       "Kerala                             4650        4070        2212        4034   \n",
       "Andaman and Nicobar Islands           0           0           1           1   \n",
       "Madhya Pradesh                      257         299         294         246   \n",
       "Manipur                               3           4           3           3   \n",
       "Meghalaya                             1           0           2           1   \n",
       "\n",
       "states                       2021-02-24  \n",
       "state                                    \n",
       "Kerala                             4106  \n",
       "Andaman and Nicobar Islands           0  \n",
       "Madhya Pradesh                        0  \n",
       "Manipur                               0  \n",
       "Meghalaya                             0  \n",
       "\n",
       "[5 rows x 239 columns]"
      ]
     },
     "execution_count": 18,
     "metadata": {},
     "output_type": "execute_result"
    }
   ],
   "source": [
    "#hide\n",
    "dft_ct_new_cases.head()"
   ]
  },
  {
   "cell_type": "code",
   "execution_count": 19,
   "id": "responsible-nightlife",
   "metadata": {
    "execution": {
     "iopub.execute_input": "2021-02-24T13:58:52.156972Z",
     "iopub.status.busy": "2021-02-24T13:58:52.156161Z",
     "iopub.status.idle": "2021-02-24T13:59:03.940416Z",
     "shell.execute_reply": "2021-02-24T13:59:03.939836Z"
    },
    "papermill": {
     "duration": 11.811612,
     "end_time": "2021-02-24T13:59:03.940643",
     "exception": false,
     "start_time": "2021-02-24T13:58:52.129031",
     "status": "completed"
    },
    "tags": []
   },
   "outputs": [
    {
     "data": {
      "image/png": "[encoded data removed]",
      "text/plain": [
       "<Figure size 1296x2016 with 11 Axes>"
      ]
     },
     "metadata": {
      "needs_background": "light"
     },
     "output_type": "display_data"
    }
   ],
   "source": [
    "#hide_input\n",
    "df = dft_ct_new_cases.copy()\n",
    "df.loc['Total'] = df.sum()\n",
    "n = 5\n",
    "ax = []\n",
    "fig = plt.figure(figsize = (18,28))\n",
    "gs = fig.add_gridspec(n+2, 5)\n",
    "# gs = fig.add_gridspec(2, 3)\n",
    "ax1 = fig.add_subplot(gs[0, :])\n",
    "ef = df.loc['Total'].rename_axis('date').reset_index()\n",
    "ef['date'] = ef['date'].astype('datetime64[ns]')\n",
    "ax1.bar(ef.date,ef.Total,alpha=0.3,color='#007acc')\n",
    "ax1.plot(ef.date,ef.Total , marker=\"o\", color='#007acc')\n",
    "ax1.xaxis.set_major_locator(mdates.WeekdayLocator())\n",
    "ax1.xaxis.set_major_formatter(mdates.DateFormatter('%b %d'))\n",
    "ax1.text(0.02, 0.5,'India daily case count', transform = ax1.transAxes, fontsize=25);\n",
    "ax1.spines['right'].set_visible(False)\n",
    "ax1.spines['top'].set_visible(False)\n",
    "\n",
    "ax2 = fig.add_subplot(gs[1,0])\n",
    "ef = df.loc['Maharashtra'].rename_axis('date').reset_index()\n",
    "ef['date'] = ef['date'].astype('datetime64[ns]')\n",
    "\n",
    "ax2.bar(ef.date, ef.Maharashtra,color = '#007acc',alpha=0.5)\n",
    "ax2.xaxis.set_major_locator(mdates.WeekdayLocator())\n",
    "ax2.xaxis.set_major_formatter(mdates.DateFormatter('%b %d'))\n",
    "ax2.set_xticks(ax2.get_xticks()[::3])\n",
    "maxyval = ef.Maharashtra.max()\n",
    "ax2.set_ylim([0,maxyval])\n",
    "ax2.text(0.05, 0.9,'Maharashtra', transform = ax2.transAxes, fontsize=20);\n",
    "ax2.spines['right'].set_visible(False)\n",
    "ax2.spines['top'].set_visible(False)\n",
    "\n",
    "\n",
    "ax3 = fig.add_subplot(gs[1,1])\n",
    "ef = df.loc['Tamil Nadu'].rename_axis('date').reset_index()\n",
    "ef['date'] = ef['date'].astype('datetime64[ns]')\n",
    "ax3.bar(ef.date, ef['Tamil Nadu'],color = '#007acc',alpha=0.5,)\n",
    "ax3.xaxis.set_major_locator(mdates.WeekdayLocator())\n",
    "ax3.xaxis.set_major_formatter(mdates.DateFormatter('%b %d'))\n",
    "ax3.set_xticks(ax3.get_xticks()[::3])\n",
    "ax3.text(0.05, 0.9,'Tamil Nadu', transform = ax3.transAxes, fontsize=20);\n",
    "ax3.spines['right'].set_visible(False)\n",
    "ax3.spines['top'].set_visible(False)\n",
    "\n",
    "ax5 = fig.add_subplot(gs[1,3])\n",
    "ef = df.loc['Telangana'].rename_axis('date').reset_index()\n",
    "ef['date'] = ef['date'].astype('datetime64[ns]')\n",
    "ax5.bar(ef.date, ef['Telangana'],color = '#007acc',alpha=0.5,)\n",
    "ax5.xaxis.set_major_locator(mdates.WeekdayLocator())\n",
    "ax5.xaxis.set_major_formatter(mdates.DateFormatter('%b %d'))\n",
    "ax5.set_xticks(ax5.get_xticks()[::3])\n",
    "ax5.text(0.05, 0.9,'Telangana', transform = ax5.transAxes, fontsize=20);\n",
    "ax5.spines['right'].set_visible(False)\n",
    "ax5.spines['top'].set_visible(False)\n",
    "\n",
    "ax6 = fig.add_subplot(gs[1,4])\n",
    "ef = df.loc['Andhra Pradesh'].rename_axis('date').reset_index()\n",
    "ef['date'] = ef['date'].astype('datetime64[ns]')\n",
    "ax6.bar(ef.date, ef['Andhra Pradesh'],color = '#007acc',alpha=0.5,)\n",
    "ax6.xaxis.set_major_locator(mdates.WeekdayLocator())\n",
    "ax6.xaxis.set_major_formatter(mdates.DateFormatter('%b %d'))\n",
    "ax6.set_xticks(ax6.get_xticks()[::3])\n",
    "ax6.text(0.05, 1,'Andhra Pradesh', transform = ax6.transAxes, fontsize=20);\n",
    "ax6.spines['right'].set_visible(False)\n",
    "ax6.spines['top'].set_visible(False)\n",
    "\n",
    "ax4 = fig.add_subplot(gs[1,2])\n",
    "ef = df.loc['Delhi'].rename_axis('date').reset_index()\n",
    "ef['date'] = ef['date'].astype('datetime64[ns]')\n",
    "ax4.bar(ef.date, ef.Delhi,color = '#007acc',alpha=0.5)\n",
    "ax4.set_xticks([])\n",
    "ax4.xaxis.set_major_locator(mdates.WeekdayLocator())\n",
    "ax4.xaxis.set_major_formatter(mdates.DateFormatter('%b %d'))\n",
    "ax4.set_xticks(ax4.get_xticks()[::3])\n",
    "ax4.spines['right'].set_visible(False)\n",
    "ax4.spines['top'].set_visible(False)\n",
    "\n",
    "ax4.text(0.05, 1,'Delhi', transform = ax4.transAxes, fontsize=20)\n",
    "\n",
    "for i in range(n):\n",
    "    \n",
    "    ax.append(fig.add_subplot(gs[i+2,:]))\n",
    "    ef = df.iloc[i+3].rename_axis('date').reset_index()\n",
    "    ef['date'] = ef['date'].astype('datetime64[ns]')\n",
    "    ax[i].bar(ef.date,ef.iloc[:,-1],color = '#007acc',alpha=0.3)\n",
    "    ax[i].plot(ef.date,ef.iloc[:,-1],marker='o',color='#007acc')\n",
    "    ax[i].text(0.02,0.5,f'{ef.columns.values[-1]}',transform = ax[i].transAxes, fontsize = 20);\n",
    "    ax[i].xaxis.set_major_locator(mdates.WeekdayLocator())\n",
    "    ax[i].xaxis.set_major_formatter(mdates.DateFormatter('%b %d'))\n",
    "    ax[i].set_ylim([0,7000])\n",
    "    ax[i].spines['right'].set_visible(False)\n",
    "    ax[i].spines['top'].set_visible(False)\n",
    "plt.tight_layout()\n"
   ]
  },
  {
   "cell_type": "code",
   "execution_count": 20,
   "id": "dress-forge",
   "metadata": {
    "execution": {
     "iopub.execute_input": "2021-02-24T13:59:04.015984Z",
     "iopub.status.busy": "2021-02-24T13:59:04.015177Z",
     "iopub.status.idle": "2021-02-24T13:59:04.019695Z",
     "shell.execute_reply": "2021-02-24T13:59:04.019042Z"
    },
    "papermill": {
     "duration": 0.046208,
     "end_time": "2021-02-24T13:59:04.019892",
     "exception": false,
     "start_time": "2021-02-24T13:59:03.973684",
     "status": "completed"
    },
    "tags": []
   },
   "outputs": [
    {
     "name": "stdout",
     "output_type": "stream",
     "text": [
      "                                   states    Cases  Deaths   PCases  PDeaths  Cases (+)  Deaths (+)  Fatality Rate\n",
      "                              Maharashtra  2112312   51857  2112312    51857          0           0           2.45\n",
      "                                   Kerala  1045010    4137  1040904     4120       4106          17           0.40\n",
      "                                Karnataka   948849   12303   948849    12303          0           0           1.30\n",
      "                           Andhra Pradesh   889409    7168   889409     7168          0           0           0.81\n",
      "                               Tamil Nadu   849166   12472   849166    12472          0           0           1.47\n",
      "                                    Delhi   638173   10903   638173    10903          0           0           1.71\n",
      "                            Uttar Pradesh   602975    8718   602975     8718          0           0           1.45\n",
      "                              West Bengal   574099   10253   574099    10253          0           0           1.79\n",
      "                                   Odisha   336767    1967   336767     1967          0           0           0.58\n",
      "                                Rajasthan   319702    2785   319702     2785          0           0           0.87\n",
      "                             Chhattisgarh   311433    3809   311433     3809          0           0           1.22\n",
      "                                Telangana   297712    1625   297712     1625          0           0           0.55\n",
      "                                  Haryana   269967    3042   269967     3042          0           0           1.13\n",
      "                                  Gujarat   267767    4406   267767     4406          0           0           1.65\n",
      "                                    Bihar   262303    1537   262303     1537          0           0           0.59\n",
      "                           Madhya Pradesh   259967    3855   259967     3855          0           0           1.48\n",
      "                                    Assam   217427    1091   217427     1091          0           0           0.50\n",
      "                                   Punjab   179261    5779   179261     5779          0           0           3.22\n",
      "                        Jammu and Kashmir   126019    1955   126019     1955          0           0           1.55\n",
      "                                Jharkhand   119687    1086   119687     1086          0           0           0.91\n",
      "                              Uttarakhand    96773    1690    96773     1690          0           0           1.75\n",
      "                         Himachal Pradesh    58423     982    58423      982          0           0           1.68\n",
      "                                      Goa    54648     788    54648      788          0           0           1.44\n",
      "                               Puducherry    39628     665    39628      665          0           0           1.68\n",
      "                                  Tripura    33395     388    33395      388          0           0           1.16\n",
      "                                  Manipur    29243     373    29243      373          0           0           1.28\n",
      "                               Chandigarh    21500     350    21500      350          0           0           1.63\n",
      "                        Arunachal Pradesh    16836      56    16836       56          0           0           0.33\n",
      "                                Meghalaya    13955     148    13955      148          0           0           1.06\n",
      "                                 Nagaland    12192      91    12192       91          0           0           0.75\n",
      "                                   Ladakh     9796     130     9796      130          0           0           1.33\n",
      "                                   Sikkim     6132     135     6132      135          0           0           2.20\n",
      "              Andaman and Nicobar Islands     5016      62     5016       62          0           0           1.24\n",
      "                                  Mizoram     4410      10     4410       10          0           0           0.23\n",
      " Dadra and Nagar Haveli and Daman and Diu     3384       2     3384        2          0           0           0.06\n",
      "                              Lakshadweep      316       0      316        0          0           0           0.00\n"
     ]
    }
   ],
   "source": [
    "#hide_input\n",
    "print(df_table.to_string(index=False))"
   ]
  },
  {
   "cell_type": "code",
   "execution_count": null,
   "id": "quantitative-legend",
   "metadata": {
    "papermill": {
     "duration": 0.03427,
     "end_time": "2021-02-24T13:59:04.084748",
     "exception": false,
     "start_time": "2021-02-24T13:59:04.050478",
     "status": "completed"
    },
    "tags": []
   },
   "outputs": [],
   "source": []
  },
  {
   "cell_type": "code",
   "execution_count": null,
   "id": "distant-acoustic",
   "metadata": {
    "papermill": {
     "duration": 0.028477,
     "end_time": "2021-02-24T13:59:04.143698",
     "exception": false,
     "start_time": "2021-02-24T13:59:04.115221",
     "status": "completed"
    },
    "tags": []
   },
   "outputs": [],
   "source": []
  }
 ],
 "metadata": {
  "kernelspec": {
   "display_name": "Python 3",
   "language": "python",
   "name": "python3"
  },
  "language_info": {
   "codemirror_mode": {
    "name": "ipython",
    "version": 3
   },
   "file_extension": ".py",
   "mimetype": "text/x-python",
   "name": "python",
   "nbconvert_exporter": "python",
   "pygments_lexer": "ipython3",
   "version": "3.6.13"
  },
  "papermill": {
   "duration": 27.023173,
   "end_time": "2021-02-24T13:59:04.680387",
   "environment_variables": {},
   "exception": null,
   "input_path": "latest.ipynb",
   "output_path": "latest.ipynb",
   "parameters": {},
   "start_time": "2021-02-24T13:58:37.657214",
   "version": "2.1.2"
  }
 },
 "nbformat": 4,
 "nbformat_minor": 5
}