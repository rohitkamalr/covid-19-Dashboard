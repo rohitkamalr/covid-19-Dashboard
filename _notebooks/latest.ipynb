{
 "cells": [
  {
   "cell_type": "markdown",
   "metadata": {
    "papermill": {
     "duration": 0.019721,
     "end_time": "2020-10-14T05:51:40.301579",
     "exception": false,
     "start_time": "2020-10-14T05:51:40.281858",
     "status": "completed"
    },
    "tags": []
   },
   "source": [
    "# Latest COVID-19 India Matplotlib Overview"
   ]
  },
  {
   "cell_type": "code",
   "execution_count": 1,
   "metadata": {
    "execution": {
     "iopub.execute_input": "2020-10-14T05:51:40.341480Z",
     "iopub.status.busy": "2020-10-14T05:51:40.340895Z",
     "iopub.status.idle": "2020-10-14T05:51:40.929656Z",
     "shell.execute_reply": "2020-10-14T05:51:40.930613Z"
    },
    "papermill": {
     "duration": 0.61271,
     "end_time": "2020-10-14T05:51:40.930873",
     "exception": false,
     "start_time": "2020-10-14T05:51:40.318163",
     "status": "completed"
    },
    "tags": []
   },
   "outputs": [],
   "source": [
    "#hide\n",
    "import pandas as pd\n",
    "import numpy as np\n",
    "import requests\n",
    "import json\n",
    "import matplotlib.pyplot as plt\n",
    "import matplotlib.dates as mdates\n",
    "import matplotlib as mpl\n",
    "from IPython.core.display import display,HTML\n",
    "%matplotlib inline\n",
    "from datetime import date"
   ]
  },
  {
   "cell_type": "code",
   "execution_count": 2,
   "metadata": {
    "execution": {
     "iopub.execute_input": "2020-10-14T05:51:41.012788Z",
     "iopub.status.busy": "2020-10-14T05:51:41.011802Z",
     "iopub.status.idle": "2020-10-14T05:51:41.133241Z",
     "shell.execute_reply": "2020-10-14T05:51:41.132709Z"
    },
    "papermill": {
     "duration": 0.178111,
     "end_time": "2020-10-14T05:51:41.133394",
     "exception": false,
     "start_time": "2020-10-14T05:51:40.955283",
     "status": "completed"
    },
    "tags": []
   },
   "outputs": [],
   "source": [
    "#hide\n",
    "df  = pd.read_csv('https://api.covid19india.org/csv/latest/states.csv')\n",
    "df = df[['Date','State','Confirmed','Deceased']]\n",
    "df = df.rename(columns={'Confirmed':'Cases', \"Deceased\":'Deaths'})\n",
    "df_cases = df[[\"Date\",'State','Cases']]\n",
    "df_deaths = df[['Date','State','Deaths']]\n",
    "df_cases1 = df_cases.groupby('Date')\n",
    "df_deaths1= df_deaths.groupby('Date')"
   ]
  },
  {
   "cell_type": "code",
   "execution_count": 3,
   "metadata": {
    "execution": {
     "iopub.execute_input": "2020-10-14T05:51:41.183570Z",
     "iopub.status.busy": "2020-10-14T05:51:41.182982Z",
     "iopub.status.idle": "2020-10-14T05:51:41.198808Z",
     "shell.execute_reply": "2020-10-14T05:51:41.199266Z"
    },
    "papermill": {
     "duration": 0.040882,
     "end_time": "2020-10-14T05:51:41.199414",
     "exception": false,
     "start_time": "2020-10-14T05:51:41.158532",
     "status": "completed"
    },
    "tags": []
   },
   "outputs": [],
   "source": [
    "#hide\n",
    "df_snap = pd.read_csv('data/SnapshotCases-28-July.csv')\n",
    "arr_states = df_snap['states'].unique()\n",
    "arr_dates = df['Date'].unique()\n",
    "df_snap = df_snap.set_index('states')"
   ]
  },
  {
   "cell_type": "code",
   "execution_count": 4,
   "metadata": {
    "execution": {
     "iopub.execute_input": "2020-10-14T05:51:41.413427Z",
     "iopub.status.busy": "2020-10-14T05:51:41.411898Z",
     "iopub.status.idle": "2020-10-14T05:51:41.423312Z",
     "shell.execute_reply": "2020-10-14T05:51:41.423733Z"
    },
    "papermill": {
     "duration": 0.15504,
     "end_time": "2020-10-14T05:51:41.423874",
     "exception": false,
     "start_time": "2020-10-14T05:51:41.268834",
     "status": "completed"
    },
    "tags": []
   },
   "outputs": [
    {
     "data": {
      "text/plain": [
       "array(['Andaman and Nicobar Islands', 'Andhra Pradesh',\n",
       "       'Arunachal Pradesh', 'Assam', 'Bihar', 'Chandigarh',\n",
       "       'Dadra and Nagar Haveli and Daman and Diu', 'Delhi', 'Goa',\n",
       "       'Gujarat', 'Haryana', 'Himachal Pradesh', 'Jammu and Kashmir',\n",
       "       'Jharkhand', 'Karnataka', 'Kerala', 'Lakshadweep',\n",
       "       'Madhya Pradesh', 'Maharashtra', 'Manipur', 'Meghalaya', 'Mizoram',\n",
       "       'Nagaland', 'Odisha', 'Puducherry', 'Punjab', 'Rajasthan',\n",
       "       'Sikkim', 'Tamil Nadu', 'Telangana', 'Tripura', 'Uttar Pradesh',\n",
       "       'West Bengal', 'Chhattisgarh', 'Ladakh', 'Uttarakhand'],\n",
       "      dtype=object)"
      ]
     },
     "execution_count": 4,
     "metadata": {},
     "output_type": "execute_result"
    }
   ],
   "source": [
    "#hide\n",
    "arr_states[-9] = 'Puducherry'\n",
    "arr_states[-10] = 'Odisha'\n",
    "arr_states[6] = 'Dadra and Nagar Haveli and Daman and Diu'\n",
    "arr_states = np.append(arr_states,np.array(['Chhattisgarh','Ladakh','Uttarakhand']))\n",
    "arr_states"
   ]
  },
  {
   "cell_type": "code",
   "execution_count": 5,
   "metadata": {
    "execution": {
     "iopub.execute_input": "2020-10-14T05:51:41.831199Z",
     "iopub.status.busy": "2020-10-14T05:51:41.830393Z",
     "iopub.status.idle": "2020-10-14T05:51:41.841734Z",
     "shell.execute_reply": "2020-10-14T05:51:41.841280Z"
    },
    "papermill": {
     "duration": 0.384629,
     "end_time": "2020-10-14T05:51:41.841863",
     "exception": false,
     "start_time": "2020-10-14T05:51:41.457234",
     "status": "completed"
    },
    "tags": []
   },
   "outputs": [],
   "source": [
    "#hide\n",
    "dates = []\n",
    "for i in arr_dates:\n",
    "    if i>='2020-07-01':\n",
    "        dates.append(i)\n",
    "dict = {'states':dates}\n",
    "for i in arr_states:\n",
    "    dict[i] = [0]*len(dates)\n",
    "dft_cases = pd.DataFrame(dict)\n",
    "dft_deaths = pd.DataFrame(dict)\n"
   ]
  },
  {
   "cell_type": "code",
   "execution_count": 6,
   "metadata": {
    "execution": {
     "iopub.execute_input": "2020-10-14T05:51:42.042598Z",
     "iopub.status.busy": "2020-10-14T05:51:42.041911Z",
     "iopub.status.idle": "2020-10-14T05:51:43.885024Z",
     "shell.execute_reply": "2020-10-14T05:51:43.884379Z"
    },
    "papermill": {
     "duration": 1.864977,
     "end_time": "2020-10-14T05:51:43.885211",
     "exception": false,
     "start_time": "2020-10-14T05:51:42.020234",
     "status": "completed"
    },
    "tags": []
   },
   "outputs": [],
   "source": [
    "#hide\n",
    "for i in range(len(dates)):\n",
    "    df1_deaths = df_deaths1.get_group(dates[i])\n",
    "    for j in range(len(df1_deaths.index)):\n",
    "        if df1_deaths.iloc[j,1] in arr_states:\n",
    "            dft_deaths.loc[i,df1_deaths.iloc[j,1]] = df1_deaths.iloc[j,2]\n",
    "dft_deaths = dft_deaths.set_index('states')"
   ]
  },
  {
   "cell_type": "code",
   "execution_count": 7,
   "metadata": {
    "execution": {
     "iopub.execute_input": "2020-10-14T05:51:43.926681Z",
     "iopub.status.busy": "2020-10-14T05:51:43.925985Z",
     "iopub.status.idle": "2020-10-14T05:51:45.742797Z",
     "shell.execute_reply": "2020-10-14T05:51:45.741798Z"
    },
    "papermill": {
     "duration": 1.840059,
     "end_time": "2020-10-14T05:51:45.743051",
     "exception": false,
     "start_time": "2020-10-14T05:51:43.902992",
     "status": "completed"
    },
    "tags": []
   },
   "outputs": [],
   "source": [
    "#hide\n",
    "for i in range(len(dates)):\n",
    "    df1_cases = df_cases1.get_group(dates[i])\n",
    "    for j in range(len(df1_cases.index)):\n",
    "        if df1_cases.iloc[j,1] in arr_states:\n",
    "            dft_cases.loc[i,df1_cases.iloc[j,1]] = df1_cases.iloc[j,2]\n",
    "dft_cases = dft_cases.set_index('states')"
   ]
  },
  {
   "cell_type": "code",
   "execution_count": 8,
   "metadata": {
    "execution": {
     "iopub.execute_input": "2020-10-14T05:51:45.782582Z",
     "iopub.status.busy": "2020-10-14T05:51:45.781736Z",
     "iopub.status.idle": "2020-10-14T05:51:45.784565Z",
     "shell.execute_reply": "2020-10-14T05:51:45.783926Z"
    },
    "papermill": {
     "duration": 0.024608,
     "end_time": "2020-10-14T05:51:45.784719",
     "exception": false,
     "start_time": "2020-10-14T05:51:45.760111",
     "status": "completed"
    },
    "tags": []
   },
   "outputs": [],
   "source": [
    "#hide\n",
    "dft_cases = dft_cases.T\n",
    "dft_deaths = dft_deaths.T\n",
    "dt_today = dates[-1]\n",
    "dt_yday = dates[-2]"
   ]
  },
  {
   "cell_type": "code",
   "execution_count": 9,
   "metadata": {
    "execution": {
     "iopub.execute_input": "2020-10-14T05:51:45.825367Z",
     "iopub.status.busy": "2020-10-14T05:51:45.823857Z",
     "iopub.status.idle": "2020-10-14T05:51:45.828153Z",
     "shell.execute_reply": "2020-10-14T05:51:45.827581Z"
    },
    "papermill": {
     "duration": 0.027284,
     "end_time": "2020-10-14T05:51:45.828279",
     "exception": false,
     "start_time": "2020-10-14T05:51:45.800995",
     "status": "completed"
    },
    "tags": []
   },
   "outputs": [],
   "source": [
    "#hide\n",
    "dft_cases = dft_cases.reset_index()\n",
    "dft_deaths = dft_deaths.reset_index()\n",
    "dft_cases = dft_cases.rename(columns = {'index':'state'})\n",
    "dft_deaths = dft_deaths.rename(columns = {'index':'state'})"
   ]
  },
  {
   "cell_type": "code",
   "execution_count": 10,
   "metadata": {
    "execution": {
     "iopub.execute_input": "2020-10-14T05:51:45.875224Z",
     "iopub.status.busy": "2020-10-14T05:51:45.873841Z",
     "iopub.status.idle": "2020-10-14T05:51:45.876067Z",
     "shell.execute_reply": "2020-10-14T05:51:45.876564Z"
    },
    "papermill": {
     "duration": 0.032835,
     "end_time": "2020-10-14T05:51:45.876709",
     "exception": false,
     "start_time": "2020-10-14T05:51:45.843874",
     "status": "completed"
    },
    "tags": []
   },
   "outputs": [],
   "source": [
    "#hide\n",
    "dfc_cases = dft_cases.groupby('state')[dt_today].sum()\n",
    "dfc_deaths = dft_deaths.groupby('state')[dt_today].sum()\n",
    "dfp_cases = dft_cases.groupby('state')[dt_yday].sum()\n",
    "dfp_deaths = dft_deaths.groupby('state')[dt_yday].sum()"
   ]
  },
  {
   "cell_type": "code",
   "execution_count": 11,
   "metadata": {
    "execution": {
     "iopub.execute_input": "2020-10-14T05:51:45.923867Z",
     "iopub.status.busy": "2020-10-14T05:51:45.923268Z",
     "iopub.status.idle": "2020-10-14T05:51:45.931754Z",
     "shell.execute_reply": "2020-10-14T05:51:45.932678Z"
    },
    "papermill": {
     "duration": 0.040449,
     "end_time": "2020-10-14T05:51:45.932859",
     "exception": false,
     "start_time": "2020-10-14T05:51:45.892410",
     "status": "completed"
    },
    "tags": []
   },
   "outputs": [
    {
     "data": {
      "text/html": [
       "<div>\n",
       "<style scoped>\n",
       "    .dataframe tbody tr th:only-of-type {\n",
       "        vertical-align: middle;\n",
       "    }\n",
       "\n",
       "    .dataframe tbody tr th {\n",
       "        vertical-align: top;\n",
       "    }\n",
       "\n",
       "    .dataframe thead th {\n",
       "        text-align: right;\n",
       "    }\n",
       "</style>\n",
       "<table border=\"1\" class=\"dataframe\">\n",
       "  <thead>\n",
       "    <tr style=\"text-align: right;\">\n",
       "      <th></th>\n",
       "      <th>states</th>\n",
       "      <th>Cases</th>\n",
       "      <th>Deaths</th>\n",
       "      <th>PCases</th>\n",
       "      <th>PDeaths</th>\n",
       "    </tr>\n",
       "  </thead>\n",
       "  <tbody>\n",
       "    <tr>\n",
       "      <th>0</th>\n",
       "      <td>Maharashtra</td>\n",
       "      <td>1543837</td>\n",
       "      <td>40701</td>\n",
       "      <td>1543837</td>\n",
       "      <td>40701</td>\n",
       "    </tr>\n",
       "    <tr>\n",
       "      <th>1</th>\n",
       "      <td>Andhra Pradesh</td>\n",
       "      <td>763573</td>\n",
       "      <td>6291</td>\n",
       "      <td>763573</td>\n",
       "      <td>6291</td>\n",
       "    </tr>\n",
       "    <tr>\n",
       "      <th>2</th>\n",
       "      <td>Karnataka</td>\n",
       "      <td>726106</td>\n",
       "      <td>10123</td>\n",
       "      <td>726106</td>\n",
       "      <td>10123</td>\n",
       "    </tr>\n",
       "    <tr>\n",
       "      <th>3</th>\n",
       "      <td>Tamil Nadu</td>\n",
       "      <td>665930</td>\n",
       "      <td>10371</td>\n",
       "      <td>665930</td>\n",
       "      <td>10371</td>\n",
       "    </tr>\n",
       "    <tr>\n",
       "      <th>4</th>\n",
       "      <td>Uttar Pradesh</td>\n",
       "      <td>442118</td>\n",
       "      <td>6466</td>\n",
       "      <td>442118</td>\n",
       "      <td>6466</td>\n",
       "    </tr>\n",
       "  </tbody>\n",
       "</table>\n",
       "</div>"
      ],
      "text/plain": [
       "           states    Cases  Deaths   PCases  PDeaths\n",
       "0     Maharashtra  1543837   40701  1543837    40701\n",
       "1  Andhra Pradesh   763573    6291   763573     6291\n",
       "2       Karnataka   726106   10123   726106    10123\n",
       "3      Tamil Nadu   665930   10371   665930    10371\n",
       "4   Uttar Pradesh   442118    6466   442118     6466"
      ]
     },
     "execution_count": 11,
     "metadata": {},
     "output_type": "execute_result"
    }
   ],
   "source": [
    "#hide\n",
    "df_table = pd.DataFrame({'states': dfc_cases.index, 'Cases': dfc_cases.values, 'Deaths': dfc_deaths.values, 'PCases': dfp_cases.values, 'PDeaths': dfp_deaths.values}).set_index('states')\n",
    "df_table = df_table.sort_values(by = ['Cases','Deaths'], ascending = [False, False])\n",
    "df_table = df_table.reset_index()\n",
    "df_table.head()"
   ]
  },
  {
   "cell_type": "code",
   "execution_count": 12,
   "metadata": {
    "execution": {
     "iopub.execute_input": "2020-10-14T05:51:45.972199Z",
     "iopub.status.busy": "2020-10-14T05:51:45.971550Z",
     "iopub.status.idle": "2020-10-14T05:51:45.980847Z",
     "shell.execute_reply": "2020-10-14T05:51:45.980111Z"
    },
    "papermill": {
     "duration": 0.031579,
     "end_time": "2020-10-14T05:51:45.981033",
     "exception": false,
     "start_time": "2020-10-14T05:51:45.949454",
     "status": "completed"
    },
    "tags": []
   },
   "outputs": [],
   "source": [
    "#hide\n",
    "for c in 'Cases, Deaths'.split(', '):\n",
    "    df_table[f'{c} (+)'] = (df_table[c] - df_table[f'P{c}']).clip(0)\n",
    "df_table['Fatality Rate'] = (100* df_table['Deaths']/ df_table['Cases']).round(2)"
   ]
  },
  {
   "cell_type": "code",
   "execution_count": 13,
   "metadata": {
    "execution": {
     "iopub.execute_input": "2020-10-14T05:51:46.026019Z",
     "iopub.status.busy": "2020-10-14T05:51:46.025327Z",
     "iopub.status.idle": "2020-10-14T05:51:46.030586Z",
     "shell.execute_reply": "2020-10-14T05:51:46.029984Z"
    },
    "papermill": {
     "duration": 0.033222,
     "end_time": "2020-10-14T05:51:46.030745",
     "exception": false,
     "start_time": "2020-10-14T05:51:45.997523",
     "status": "completed"
    },
    "tags": []
   },
   "outputs": [
    {
     "data": {
      "text/html": [
       "<div>\n",
       "<style scoped>\n",
       "    .dataframe tbody tr th:only-of-type {\n",
       "        vertical-align: middle;\n",
       "    }\n",
       "\n",
       "    .dataframe tbody tr th {\n",
       "        vertical-align: top;\n",
       "    }\n",
       "\n",
       "    .dataframe thead th {\n",
       "        text-align: right;\n",
       "    }\n",
       "</style>\n",
       "<table border=\"1\" class=\"dataframe\">\n",
       "  <thead>\n",
       "    <tr style=\"text-align: right;\">\n",
       "      <th></th>\n",
       "      <th>states</th>\n",
       "      <th>Cases</th>\n",
       "      <th>Deaths</th>\n",
       "      <th>PCases</th>\n",
       "      <th>PDeaths</th>\n",
       "      <th>Cases (+)</th>\n",
       "      <th>Deaths (+)</th>\n",
       "      <th>Fatality Rate</th>\n",
       "    </tr>\n",
       "  </thead>\n",
       "  <tbody>\n",
       "    <tr>\n",
       "      <th>0</th>\n",
       "      <td>Maharashtra</td>\n",
       "      <td>1543837</td>\n",
       "      <td>40701</td>\n",
       "      <td>1543837</td>\n",
       "      <td>40701</td>\n",
       "      <td>0</td>\n",
       "      <td>0</td>\n",
       "      <td>2.64</td>\n",
       "    </tr>\n",
       "    <tr>\n",
       "      <th>1</th>\n",
       "      <td>Andhra Pradesh</td>\n",
       "      <td>763573</td>\n",
       "      <td>6291</td>\n",
       "      <td>763573</td>\n",
       "      <td>6291</td>\n",
       "      <td>0</td>\n",
       "      <td>0</td>\n",
       "      <td>0.82</td>\n",
       "    </tr>\n",
       "    <tr>\n",
       "      <th>2</th>\n",
       "      <td>Karnataka</td>\n",
       "      <td>726106</td>\n",
       "      <td>10123</td>\n",
       "      <td>726106</td>\n",
       "      <td>10123</td>\n",
       "      <td>0</td>\n",
       "      <td>0</td>\n",
       "      <td>1.39</td>\n",
       "    </tr>\n",
       "    <tr>\n",
       "      <th>3</th>\n",
       "      <td>Tamil Nadu</td>\n",
       "      <td>665930</td>\n",
       "      <td>10371</td>\n",
       "      <td>665930</td>\n",
       "      <td>10371</td>\n",
       "      <td>0</td>\n",
       "      <td>0</td>\n",
       "      <td>1.56</td>\n",
       "    </tr>\n",
       "    <tr>\n",
       "      <th>4</th>\n",
       "      <td>Uttar Pradesh</td>\n",
       "      <td>442118</td>\n",
       "      <td>6466</td>\n",
       "      <td>442118</td>\n",
       "      <td>6466</td>\n",
       "      <td>0</td>\n",
       "      <td>0</td>\n",
       "      <td>1.46</td>\n",
       "    </tr>\n",
       "  </tbody>\n",
       "</table>\n",
       "</div>"
      ],
      "text/plain": [
       "           states    Cases  Deaths   PCases  PDeaths  Cases (+)  Deaths (+)  \\\n",
       "0     Maharashtra  1543837   40701  1543837    40701          0           0   \n",
       "1  Andhra Pradesh   763573    6291   763573     6291          0           0   \n",
       "2       Karnataka   726106   10123   726106    10123          0           0   \n",
       "3      Tamil Nadu   665930   10371   665930    10371          0           0   \n",
       "4   Uttar Pradesh   442118    6466   442118     6466          0           0   \n",
       "\n",
       "   Fatality Rate  \n",
       "0           2.64  \n",
       "1           0.82  \n",
       "2           1.39  \n",
       "3           1.56  \n",
       "4           1.46  "
      ]
     },
     "execution_count": 13,
     "metadata": {},
     "output_type": "execute_result"
    }
   ],
   "source": [
    "#hide\n",
    "df_table.head()"
   ]
  },
  {
   "cell_type": "code",
   "execution_count": 14,
   "metadata": {
    "execution": {
     "iopub.execute_input": "2020-10-14T05:51:46.073943Z",
     "iopub.status.busy": "2020-10-14T05:51:46.073371Z",
     "iopub.status.idle": "2020-10-14T05:51:46.090316Z",
     "shell.execute_reply": "2020-10-14T05:51:46.090849Z"
    },
    "papermill": {
     "duration": 0.042393,
     "end_time": "2020-10-14T05:51:46.090984",
     "exception": false,
     "start_time": "2020-10-14T05:51:46.048591",
     "status": "completed"
    },
    "tags": []
   },
   "outputs": [
    {
     "data": {
      "text/plain": [
       "{'updated': '2020-10-14',\n",
       " 'since': '2020-10-13',\n",
       " 'Cases': 7238732,\n",
       " 'PCases': 7237276,\n",
       " 'Deaths': 110629,\n",
       " 'PDeaths': 110621,\n",
       " 'Cases (+)': 1456,\n",
       " 'Deaths (+)': 8}"
      ]
     },
     "execution_count": 14,
     "metadata": {},
     "output_type": "execute_result"
    }
   ],
   "source": [
    "#hide\n",
    "summary = {'updated':dates[-1], 'since':dates[-2]}\n",
    "list_names = ['Cases', 'PCases', 'Deaths', 'PDeaths', 'Cases (+)', 'Deaths (+)']\n",
    "for name in list_names:\n",
    "    summary[name] = df_table.sum()[name]\n",
    "summary"
   ]
  },
  {
   "cell_type": "code",
   "execution_count": 15,
   "metadata": {
    "execution": {
     "iopub.execute_input": "2020-10-14T05:51:46.130967Z",
     "iopub.status.busy": "2020-10-14T05:51:46.130299Z",
     "iopub.status.idle": "2020-10-14T05:51:46.132691Z",
     "shell.execute_reply": "2020-10-14T05:51:46.132166Z"
    },
    "papermill": {
     "duration": 0.024173,
     "end_time": "2020-10-14T05:51:46.132811",
     "exception": false,
     "start_time": "2020-10-14T05:51:46.108638",
     "status": "completed"
    },
    "tags": []
   },
   "outputs": [],
   "source": [
    "#hide\n",
    "overview = '''\n",
    "<!-- #######  HTML!! #########-->\n",
    "<h1 style=\"color: #5e9ca0; text-align: center;\">India</h1>\n",
    "<p style=\"text-align: center;\">Last update: <strong>{update}</strong></p>\n",
    "<p style=\"text-align: center;\">Confirmed cases:</p>\n",
    "<p style=\"text-align: center;font-size:24px;\">{cases} (<span style=\"color: #ff0000;\">+{new}</span>)</p>\n",
    "<p style=\"text-align: center;\">Confirmed deaths:</p>\n",
    "<p style=\"text-align: center;font-size:24px;\">{deaths} (<span style=\"color: #ff0000;\">+{dnew}</span>)</p>\n",
    "'''"
   ]
  },
  {
   "cell_type": "code",
   "execution_count": 16,
   "metadata": {
    "execution": {
     "iopub.execute_input": "2020-10-14T05:51:46.173647Z",
     "iopub.status.busy": "2020-10-14T05:51:46.172789Z",
     "iopub.status.idle": "2020-10-14T05:51:46.175600Z",
     "shell.execute_reply": "2020-10-14T05:51:46.176024Z"
    },
    "papermill": {
     "duration": 0.025626,
     "end_time": "2020-10-14T05:51:46.176218",
     "exception": false,
     "start_time": "2020-10-14T05:51:46.150592",
     "status": "completed"
    },
    "tags": []
   },
   "outputs": [
    {
     "data": {
      "text/html": [
       "\n",
       "<!-- #######  HTML!! #########-->\n",
       "<h1 style=\"color: #5e9ca0; text-align: center;\">India</h1>\n",
       "<p style=\"text-align: center;\">Last update: <strong>2020-10-14</strong></p>\n",
       "<p style=\"text-align: center;\">Confirmed cases:</p>\n",
       "<p style=\"text-align: center;font-size:24px;\">7238732 (<span style=\"color: #ff0000;\">+1456</span>)</p>\n",
       "<p style=\"text-align: center;\">Confirmed deaths:</p>\n",
       "<p style=\"text-align: center;font-size:24px;\">110629 (<span style=\"color: #ff0000;\">+8</span>)</p>\n"
      ],
      "text/plain": [
       "<IPython.core.display.HTML object>"
      ]
     },
     "metadata": {},
     "output_type": "display_data"
    }
   ],
   "source": [
    "#hide_input\n",
    "update = summary['updated']\n",
    "cases = summary['Cases']\n",
    "new = summary['Cases (+)']\n",
    "deaths = summary['Deaths']\n",
    "dnew = summary['Deaths (+)']\n",
    "\n",
    "html = HTML(overview.format(update=update, cases=cases,new=new,deaths=deaths,dnew=dnew))\n",
    "\n",
    "display(html)"
   ]
  },
  {
   "cell_type": "code",
   "execution_count": 17,
   "metadata": {
    "execution": {
     "iopub.execute_input": "2020-10-14T05:51:46.217589Z",
     "iopub.status.busy": "2020-10-14T05:51:46.217020Z",
     "iopub.status.idle": "2020-10-14T05:51:46.222468Z",
     "shell.execute_reply": "2020-10-14T05:51:46.223203Z"
    },
    "papermill": {
     "duration": 0.029672,
     "end_time": "2020-10-14T05:51:46.223329",
     "exception": false,
     "start_time": "2020-10-14T05:51:46.193657",
     "status": "completed"
    },
    "tags": []
   },
   "outputs": [],
   "source": [
    "#hide\n",
    "dt_cols = list(dft_cases.columns[1:])\n",
    "dft_ct_new_cases = dft_cases.groupby('state')[dt_cols].sum().diff(axis=1).fillna(0).astype(int)\n",
    "dft_ct_new_cases.sort_values(by = dates[-1], ascending = False,inplace = True)"
   ]
  },
  {
   "cell_type": "code",
   "execution_count": 18,
   "metadata": {
    "execution": {
     "iopub.execute_input": "2020-10-14T05:51:46.268578Z",
     "iopub.status.busy": "2020-10-14T05:51:46.267892Z",
     "iopub.status.idle": "2020-10-14T05:51:46.276604Z",
     "shell.execute_reply": "2020-10-14T05:51:46.277059Z"
    },
    "papermill": {
     "duration": 0.037593,
     "end_time": "2020-10-14T05:51:46.277180",
     "exception": false,
     "start_time": "2020-10-14T05:51:46.239587",
     "status": "completed"
    },
    "tags": []
   },
   "outputs": [
    {
     "data": {
      "text/html": [
       "<div>\n",
       "<style scoped>\n",
       "    .dataframe tbody tr th:only-of-type {\n",
       "        vertical-align: middle;\n",
       "    }\n",
       "\n",
       "    .dataframe tbody tr th {\n",
       "        vertical-align: top;\n",
       "    }\n",
       "\n",
       "    .dataframe thead th {\n",
       "        text-align: right;\n",
       "    }\n",
       "</style>\n",
       "<table border=\"1\" class=\"dataframe\">\n",
       "  <thead>\n",
       "    <tr style=\"text-align: right;\">\n",
       "      <th>states</th>\n",
       "      <th>2020-07-01</th>\n",
       "      <th>2020-07-02</th>\n",
       "      <th>2020-07-03</th>\n",
       "      <th>2020-07-04</th>\n",
       "      <th>2020-07-05</th>\n",
       "      <th>2020-07-06</th>\n",
       "      <th>2020-07-07</th>\n",
       "      <th>2020-07-08</th>\n",
       "      <th>2020-07-09</th>\n",
       "      <th>2020-07-10</th>\n",
       "      <th>...</th>\n",
       "      <th>2020-10-05</th>\n",
       "      <th>2020-10-06</th>\n",
       "      <th>2020-10-07</th>\n",
       "      <th>2020-10-08</th>\n",
       "      <th>2020-10-09</th>\n",
       "      <th>2020-10-10</th>\n",
       "      <th>2020-10-11</th>\n",
       "      <th>2020-10-12</th>\n",
       "      <th>2020-10-13</th>\n",
       "      <th>2020-10-14</th>\n",
       "    </tr>\n",
       "    <tr>\n",
       "      <th>state</th>\n",
       "      <th></th>\n",
       "      <th></th>\n",
       "      <th></th>\n",
       "      <th></th>\n",
       "      <th></th>\n",
       "      <th></th>\n",
       "      <th></th>\n",
       "      <th></th>\n",
       "      <th></th>\n",
       "      <th></th>\n",
       "      <th></th>\n",
       "      <th></th>\n",
       "      <th></th>\n",
       "      <th></th>\n",
       "      <th></th>\n",
       "      <th></th>\n",
       "      <th></th>\n",
       "      <th></th>\n",
       "      <th></th>\n",
       "      <th></th>\n",
       "      <th></th>\n",
       "    </tr>\n",
       "  </thead>\n",
       "  <tbody>\n",
       "    <tr>\n",
       "      <th>Telangana</th>\n",
       "      <td>0</td>\n",
       "      <td>1213</td>\n",
       "      <td>1892</td>\n",
       "      <td>1850</td>\n",
       "      <td>1590</td>\n",
       "      <td>1831</td>\n",
       "      <td>1879</td>\n",
       "      <td>1924</td>\n",
       "      <td>1410</td>\n",
       "      <td>1278</td>\n",
       "      <td>...</td>\n",
       "      <td>1335</td>\n",
       "      <td>1983</td>\n",
       "      <td>2154</td>\n",
       "      <td>1896</td>\n",
       "      <td>1891</td>\n",
       "      <td>1811</td>\n",
       "      <td>1717</td>\n",
       "      <td>1021</td>\n",
       "      <td>1708</td>\n",
       "      <td>1446</td>\n",
       "    </tr>\n",
       "    <tr>\n",
       "      <th>Mizoram</th>\n",
       "      <td>0</td>\n",
       "      <td>2</td>\n",
       "      <td>0</td>\n",
       "      <td>2</td>\n",
       "      <td>22</td>\n",
       "      <td>11</td>\n",
       "      <td>1</td>\n",
       "      <td>5</td>\n",
       "      <td>0</td>\n",
       "      <td>23</td>\n",
       "      <td>...</td>\n",
       "      <td>0</td>\n",
       "      <td>8</td>\n",
       "      <td>20</td>\n",
       "      <td>2</td>\n",
       "      <td>7</td>\n",
       "      <td>5</td>\n",
       "      <td>13</td>\n",
       "      <td>9</td>\n",
       "      <td>18</td>\n",
       "      <td>10</td>\n",
       "    </tr>\n",
       "    <tr>\n",
       "      <th>Andaman and Nicobar Islands</th>\n",
       "      <td>0</td>\n",
       "      <td>9</td>\n",
       "      <td>7</td>\n",
       "      <td>3</td>\n",
       "      <td>6</td>\n",
       "      <td>16</td>\n",
       "      <td>6</td>\n",
       "      <td>2</td>\n",
       "      <td>7</td>\n",
       "      <td>0</td>\n",
       "      <td>...</td>\n",
       "      <td>15</td>\n",
       "      <td>13</td>\n",
       "      <td>23</td>\n",
       "      <td>17</td>\n",
       "      <td>24</td>\n",
       "      <td>16</td>\n",
       "      <td>13</td>\n",
       "      <td>18</td>\n",
       "      <td>10</td>\n",
       "      <td>0</td>\n",
       "    </tr>\n",
       "    <tr>\n",
       "      <th>Puducherry</th>\n",
       "      <td>0</td>\n",
       "      <td>63</td>\n",
       "      <td>22</td>\n",
       "      <td>80</td>\n",
       "      <td>42</td>\n",
       "      <td>65</td>\n",
       "      <td>30</td>\n",
       "      <td>110</td>\n",
       "      <td>49</td>\n",
       "      <td>72</td>\n",
       "      <td>...</td>\n",
       "      <td>188</td>\n",
       "      <td>405</td>\n",
       "      <td>479</td>\n",
       "      <td>378</td>\n",
       "      <td>365</td>\n",
       "      <td>337</td>\n",
       "      <td>308</td>\n",
       "      <td>188</td>\n",
       "      <td>267</td>\n",
       "      <td>0</td>\n",
       "    </tr>\n",
       "    <tr>\n",
       "      <th>Maharashtra</th>\n",
       "      <td>0</td>\n",
       "      <td>6328</td>\n",
       "      <td>6364</td>\n",
       "      <td>7074</td>\n",
       "      <td>6555</td>\n",
       "      <td>5368</td>\n",
       "      <td>5134</td>\n",
       "      <td>6603</td>\n",
       "      <td>6875</td>\n",
       "      <td>7862</td>\n",
       "      <td>...</td>\n",
       "      <td>10244</td>\n",
       "      <td>12258</td>\n",
       "      <td>14578</td>\n",
       "      <td>13395</td>\n",
       "      <td>12134</td>\n",
       "      <td>11416</td>\n",
       "      <td>10792</td>\n",
       "      <td>7089</td>\n",
       "      <td>8522</td>\n",
       "      <td>0</td>\n",
       "    </tr>\n",
       "  </tbody>\n",
       "</table>\n",
       "<p>5 rows × 106 columns</p>\n",
       "</div>"
      ],
      "text/plain": [
       "states                       2020-07-01  2020-07-02  2020-07-03  2020-07-04  \\\n",
       "state                                                                         \n",
       "Telangana                             0        1213        1892        1850   \n",
       "Mizoram                               0           2           0           2   \n",
       "Andaman and Nicobar Islands           0           9           7           3   \n",
       "Puducherry                            0          63          22          80   \n",
       "Maharashtra                           0        6328        6364        7074   \n",
       "\n",
       "states                       2020-07-05  2020-07-06  2020-07-07  2020-07-08  \\\n",
       "state                                                                         \n",
       "Telangana                          1590        1831        1879        1924   \n",
       "Mizoram                              22          11           1           5   \n",
       "Andaman and Nicobar Islands           6          16           6           2   \n",
       "Puducherry                           42          65          30         110   \n",
       "Maharashtra                        6555        5368        5134        6603   \n",
       "\n",
       "states                       2020-07-09  2020-07-10  ...  2020-10-05  \\\n",
       "state                                                ...               \n",
       "Telangana                          1410        1278  ...        1335   \n",
       "Mizoram                               0          23  ...           0   \n",
       "Andaman and Nicobar Islands           7           0  ...          15   \n",
       "Puducherry                           49          72  ...         188   \n",
       "Maharashtra                        6875        7862  ...       10244   \n",
       "\n",
       "states                       2020-10-06  2020-10-07  2020-10-08  2020-10-09  \\\n",
       "state                                                                         \n",
       "Telangana                          1983        2154        1896        1891   \n",
       "Mizoram                               8          20           2           7   \n",
       "Andaman and Nicobar Islands          13          23          17          24   \n",
       "Puducherry                          405         479         378         365   \n",
       "Maharashtra                       12258       14578       13395       12134   \n",
       "\n",
       "states                       2020-10-10  2020-10-11  2020-10-12  2020-10-13  \\\n",
       "state                                                                         \n",
       "Telangana                          1811        1717        1021        1708   \n",
       "Mizoram                               5          13           9          18   \n",
       "Andaman and Nicobar Islands          16          13          18          10   \n",
       "Puducherry                          337         308         188         267   \n",
       "Maharashtra                       11416       10792        7089        8522   \n",
       "\n",
       "states                       2020-10-14  \n",
       "state                                    \n",
       "Telangana                          1446  \n",
       "Mizoram                              10  \n",
       "Andaman and Nicobar Islands           0  \n",
       "Puducherry                            0  \n",
       "Maharashtra                           0  \n",
       "\n",
       "[5 rows x 106 columns]"
      ]
     },
     "execution_count": 18,
     "metadata": {},
     "output_type": "execute_result"
    }
   ],
   "source": [
    "#hide\n",
    "dft_ct_new_cases.head()"
   ]
  },
  {
   "cell_type": "code",
   "execution_count": 19,
   "metadata": {
    "execution": {
     "iopub.execute_input": "2020-10-14T05:51:46.338046Z",
     "iopub.status.busy": "2020-10-14T05:51:46.326867Z",
     "iopub.status.idle": "2020-10-14T05:51:51.774497Z",
     "shell.execute_reply": "2020-10-14T05:51:51.774981Z"
    },
    "papermill": {
     "duration": 5.479972,
     "end_time": "2020-10-14T05:51:51.775140",
     "exception": false,
     "start_time": "2020-10-14T05:51:46.295168",
     "status": "completed"
    },
    "tags": []
   },
   "outputs": [
    {
     "data": {
      "image/png": "[encoded data removed]",
      "text/plain": [
       "<Figure size 1296x2016 with 11 Axes>"
      ]
     },
     "metadata": {
      "needs_background": "light"
     },
     "output_type": "display_data"
    }
   ],
   "source": [
    "#hide_input\n",
    "df = dft_ct_new_cases.copy()\n",
    "df.loc['Total'] = df.sum()\n",
    "n = 5\n",
    "ax = []\n",
    "fig = plt.figure(figsize = (18,28))\n",
    "gs = fig.add_gridspec(n+2, 5)\n",
    "# gs = fig.add_gridspec(2, 3)\n",
    "ax1 = fig.add_subplot(gs[0, :])\n",
    "ef = df.loc['Total'].rename_axis('date').reset_index()\n",
    "ef['date'] = ef['date'].astype('datetime64[ns]')\n",
    "ax1.bar(ef.date,ef.Total,alpha=0.3,color='#007acc')\n",
    "ax1.plot(ef.date,ef.Total , marker=\"o\", color='#007acc')\n",
    "ax1.xaxis.set_major_locator(mdates.WeekdayLocator())\n",
    "ax1.xaxis.set_major_formatter(mdates.DateFormatter('%b %d'))\n",
    "ax1.text(0.02, 0.5,'India daily case count', transform = ax1.transAxes, fontsize=25);\n",
    "ax1.spines['right'].set_visible(False)\n",
    "ax1.spines['top'].set_visible(False)\n",
    "\n",
    "ax2 = fig.add_subplot(gs[1,0])\n",
    "ef = df.loc['Maharashtra'].rename_axis('date').reset_index()\n",
    "ef['date'] = ef['date'].astype('datetime64[ns]')\n",
    "\n",
    "ax2.bar(ef.date, ef.Maharashtra,color = '#007acc',alpha=0.5)\n",
    "ax2.xaxis.set_major_locator(mdates.WeekdayLocator())\n",
    "ax2.xaxis.set_major_formatter(mdates.DateFormatter('%b %d'))\n",
    "ax2.set_xticks(ax2.get_xticks()[::3])\n",
    "maxyval = ef.Maharashtra.max()\n",
    "ax2.set_ylim([0,maxyval])\n",
    "ax2.text(0.05, 0.9,'Maharashtra', transform = ax2.transAxes, fontsize=20);\n",
    "ax2.spines['right'].set_visible(False)\n",
    "ax2.spines['top'].set_visible(False)\n",
    "\n",
    "\n",
    "ax3 = fig.add_subplot(gs[1,1])\n",
    "ef = df.loc['Tamil Nadu'].rename_axis('date').reset_index()\n",
    "ef['date'] = ef['date'].astype('datetime64[ns]')\n",
    "ax3.bar(ef.date, ef['Tamil Nadu'],color = '#007acc',alpha=0.5,)\n",
    "ax3.xaxis.set_major_locator(mdates.WeekdayLocator())\n",
    "ax3.xaxis.set_major_formatter(mdates.DateFormatter('%b %d'))\n",
    "ax3.set_xticks(ax3.get_xticks()[::3])\n",
    "ax3.text(0.05, 0.9,'Tamil Nadu', transform = ax3.transAxes, fontsize=20);\n",
    "ax3.spines['right'].set_visible(False)\n",
    "ax3.spines['top'].set_visible(False)\n",
    "\n",
    "ax5 = fig.add_subplot(gs[1,3])\n",
    "ef = df.loc['Telangana'].rename_axis('date').reset_index()\n",
    "ef['date'] = ef['date'].astype('datetime64[ns]')\n",
    "ax5.bar(ef.date, ef['Telangana'],color = '#007acc',alpha=0.5,)\n",
    "ax5.xaxis.set_major_locator(mdates.WeekdayLocator())\n",
    "ax5.xaxis.set_major_formatter(mdates.DateFormatter('%b %d'))\n",
    "ax5.set_xticks(ax5.get_xticks()[::3])\n",
    "ax5.text(0.05, 0.9,'Telangana', transform = ax5.transAxes, fontsize=20);\n",
    "ax5.spines['right'].set_visible(False)\n",
    "ax5.spines['top'].set_visible(False)\n",
    "\n",
    "ax6 = fig.add_subplot(gs[1,4])\n",
    "ef = df.loc['Andhra Pradesh'].rename_axis('date').reset_index()\n",
    "ef['date'] = ef['date'].astype('datetime64[ns]')\n",
    "ax6.bar(ef.date, ef['Andhra Pradesh'],color = '#007acc',alpha=0.5,)\n",
    "ax6.xaxis.set_major_locator(mdates.WeekdayLocator())\n",
    "ax6.xaxis.set_major_formatter(mdates.DateFormatter('%b %d'))\n",
    "ax6.set_xticks(ax6.get_xticks()[::3])\n",
    "ax6.text(0.05, 1,'Andhra Pradesh', transform = ax6.transAxes, fontsize=20);\n",
    "ax6.spines['right'].set_visible(False)\n",
    "ax6.spines['top'].set_visible(False)\n",
    "\n",
    "ax4 = fig.add_subplot(gs[1,2])\n",
    "ef = df.loc['Delhi'].rename_axis('date').reset_index()\n",
    "ef['date'] = ef['date'].astype('datetime64[ns]')\n",
    "ax4.bar(ef.date, ef.Delhi,color = '#007acc',alpha=0.5)\n",
    "ax4.set_xticks([])\n",
    "ax4.xaxis.set_major_locator(mdates.WeekdayLocator())\n",
    "ax4.xaxis.set_major_formatter(mdates.DateFormatter('%b %d'))\n",
    "ax4.set_xticks(ax4.get_xticks()[::3])\n",
    "ax4.spines['right'].set_visible(False)\n",
    "ax4.spines['top'].set_visible(False)\n",
    "\n",
    "ax4.text(0.05, 1,'Delhi', transform = ax4.transAxes, fontsize=20)\n",
    "\n",
    "for i in range(n):\n",
    "    \n",
    "    ax.append(fig.add_subplot(gs[i+2,:]))\n",
    "    ef = df.iloc[i+3].rename_axis('date').reset_index()\n",
    "    ef['date'] = ef['date'].astype('datetime64[ns]')\n",
    "    ax[i].bar(ef.date,ef.iloc[:,-1],color = '#007acc',alpha=0.3)\n",
    "    ax[i].plot(ef.date,ef.iloc[:,-1],marker='o',color='#007acc')\n",
    "    ax[i].text(0.02,0.5,f'{ef.columns.values[-1]}',transform = ax[i].transAxes, fontsize = 20);\n",
    "    ax[i].xaxis.set_major_locator(mdates.WeekdayLocator())\n",
    "    ax[i].xaxis.set_major_formatter(mdates.DateFormatter('%b %d'))\n",
    "    ax[i].set_ylim([0,7000])\n",
    "    ax[i].spines['right'].set_visible(False)\n",
    "    ax[i].spines['top'].set_visible(False)\n",
    "plt.tight_layout()\n"
   ]
  },
  {
   "cell_type": "code",
   "execution_count": 20,
   "metadata": {
    "execution": {
     "iopub.execute_input": "2020-10-14T05:51:51.832490Z",
     "iopub.status.busy": "2020-10-14T05:51:51.831833Z",
     "iopub.status.idle": "2020-10-14T05:51:51.836720Z",
     "shell.execute_reply": "2020-10-14T05:51:51.836186Z"
    },
    "papermill": {
     "duration": 0.039663,
     "end_time": "2020-10-14T05:51:51.836886",
     "exception": false,
     "start_time": "2020-10-14T05:51:51.797223",
     "status": "completed"
    },
    "tags": []
   },
   "outputs": [
    {
     "name": "stdout",
     "output_type": "stream",
     "text": [
      "                                   states    Cases  Deaths   PCases  PDeaths  Cases (+)  Deaths (+)  Fatality Rate\n",
      "                              Maharashtra  1543837   40701  1543837    40701          0           0           2.64\n",
      "                           Andhra Pradesh   763573    6291   763573     6291          0           0           0.82\n",
      "                                Karnataka   726106   10123   726106    10123          0           0           1.39\n",
      "                               Tamil Nadu   665930   10371   665930    10371          0           0           1.56\n",
      "                            Uttar Pradesh   442118    6466   442118     6466          0           0           1.46\n",
      "                                    Delhi   314224    5854   314224     5854          0           0           1.86\n",
      "                                   Kerala   303897    1047   303897     1047          0           0           0.34\n",
      "                              West Bengal   302020    5744   302020     5744          0           0           1.90\n",
      "                                   Odisha   256937    1110   256937     1110          0           0           0.43\n",
      "                                Telangana   216238    1241   214792     1233       1446           8           0.57\n",
      "                                    Bihar   198223     961   198223      961          0           0           0.48\n",
      "                                    Assam   196786     830   196786      830          0           0           0.42\n",
      "                                Rajasthan   163219    1679   163219     1679          0           0           1.03\n",
      "                                  Gujarat   153923    3587   153923     3587          0           0           2.33\n",
      "                           Madhya Pradesh   149761    2671   149761     2671          0           0           1.78\n",
      "                             Chhattisgarh   147866    1306   147866     1306          0           0           0.88\n",
      "                                  Haryana   144302    1601   144302     1601          0           0           1.11\n",
      "                                   Punjab   125211    3894   125211     3894          0           0           3.11\n",
      "                                Jharkhand    93736     805    93736      805          0           0           0.86\n",
      "                        Jammu and Kashmir    84708    1340    84708     1340          0           0           1.58\n",
      "                              Uttarakhand    55641     782    55641      782          0           0           1.41\n",
      "                                      Goa    39082     514    39082      514          0           0           1.32\n",
      "                               Puducherry    32004     567    32004      567          0           0           1.77\n",
      "                                  Tripura    28675     314    28675      314          0           0           1.10\n",
      "                         Himachal Pradesh    17762     249    17762      249          0           0           1.40\n",
      "                                  Manipur    13793      97    13793       97          0           0           0.70\n",
      "                               Chandigarh    13331     197    13331      197          0           0           1.48\n",
      "                        Arunachal Pradesh    12561      28    12561       28          0           0           0.22\n",
      "                                Meghalaya     7838      65     7838       65          0           0           0.83\n",
      "                                 Nagaland     7363      14     7363       14          0           0           0.19\n",
      "                                   Ladakh     5238      64     5238       64          0           0           1.22\n",
      "              Andaman and Nicobar Islands     4033      55     4033       55          0           0           1.36\n",
      "                                   Sikkim     3417      59     3417       59          0           0           1.73\n",
      " Dadra and Nagar Haveli and Daman and Diu     3167       2     3167        2          0           0           0.06\n",
      "                                  Mizoram     2212       0     2202        0         10           0           0.00\n",
      "                              Lakshadweep        0       0        0        0          0           0            NaN\n"
     ]
    }
   ],
   "source": [
    "#hide_input\n",
    "print(df_table.to_string(index=False))"
   ]
  },
  {
   "cell_type": "code",
   "execution_count": null,
   "metadata": {
    "papermill": {
     "duration": 0.024176,
     "end_time": "2020-10-14T05:51:51.881827",
     "exception": false,
     "start_time": "2020-10-14T05:51:51.857651",
     "status": "completed"
    },
    "tags": []
   },
   "outputs": [],
   "source": []
  },
  {
   "cell_type": "code",
   "execution_count": null,
   "metadata": {
    "papermill": {
     "duration": 0.025245,
     "end_time": "2020-10-14T05:51:51.929075",
     "exception": false,
     "start_time": "2020-10-14T05:51:51.903830",
     "status": "completed"
    },
    "tags": []
   },
   "outputs": [],
   "source": []
  }
 ],
 "metadata": {
  "kernelspec": {
   "display_name": "Python 3",
   "language": "python",
   "name": "python3"
  },
  "language_info": {
   "codemirror_mode": {
    "name": "ipython",
    "version": 3
   },
   "file_extension": ".py",
   "mimetype": "text/x-python",
   "name": "python",
   "nbconvert_exporter": "python",
   "pygments_lexer": "ipython3",
   "version": "3.6.12"
  },
  "papermill": {
   "duration": 13.167823,
   "end_time": "2020-10-14T05:51:52.375038",
   "environment_variables": {},
   "exception": null,
   "input_path": "latest.ipynb",
   "output_path": "latest.ipynb",
   "parameters": {},
   "start_time": "2020-10-14T05:51:39.207215",
   "version": "2.1.2"
  }
 },
 "nbformat": 4,
 "nbformat_minor": 4
}