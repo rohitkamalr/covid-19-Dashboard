{
 "cells": [
  {
   "cell_type": "markdown",
   "id": "colored-stack",
   "metadata": {
    "papermill": {
     "duration": 0.019984,
     "end_time": "2021-04-08T12:39:45.659300",
     "exception": false,
     "start_time": "2021-04-08T12:39:45.639316",
     "status": "completed"
    },
    "tags": []
   },
   "source": [
    "# Latest COVID-19 India Matplotlib Overview"
   ]
  },
  {
   "cell_type": "code",
   "execution_count": 1,
   "id": "light-proportion",
   "metadata": {
    "execution": {
     "iopub.execute_input": "2021-04-08T12:39:45.703028Z",
     "iopub.status.busy": "2021-04-08T12:39:45.702505Z",
     "iopub.status.idle": "2021-04-08T12:39:46.237040Z",
     "shell.execute_reply": "2021-04-08T12:39:46.237540Z"
    },
    "papermill": {
     "duration": 0.562371,
     "end_time": "2021-04-08T12:39:46.237754",
     "exception": false,
     "start_time": "2021-04-08T12:39:45.675383",
     "status": "completed"
    },
    "tags": []
   },
   "outputs": [],
   "source": [
    "#hide\n",
    "import pandas as pd\n",
    "import numpy as np\n",
    "import requests\n",
    "import json\n",
    "import matplotlib.pyplot as plt\n",
    "import matplotlib.dates as mdates\n",
    "import matplotlib as mpl\n",
    "from IPython.core.display import display,HTML\n",
    "%matplotlib inline\n",
    "from datetime import date"
   ]
  },
  {
   "cell_type": "code",
   "execution_count": 2,
   "id": "greenhouse-shooting",
   "metadata": {
    "execution": {
     "iopub.execute_input": "2021-04-08T12:39:46.277323Z",
     "iopub.status.busy": "2021-04-08T12:39:46.276422Z",
     "iopub.status.idle": "2021-04-08T12:39:46.611469Z",
     "shell.execute_reply": "2021-04-08T12:39:46.610992Z"
    },
    "papermill": {
     "duration": 0.35799,
     "end_time": "2021-04-08T12:39:46.611590",
     "exception": false,
     "start_time": "2021-04-08T12:39:46.253600",
     "status": "completed"
    },
    "tags": []
   },
   "outputs": [],
   "source": [
    "#hide\n",
    "df  = pd.read_csv('https://api.covid19india.org/csv/latest/states.csv')\n",
    "df = df[['Date','State','Confirmed','Deceased']]\n",
    "df = df.rename(columns={'Confirmed':'Cases', \"Deceased\":'Deaths'})\n",
    "df_cases = df[[\"Date\",'State','Cases']]\n",
    "df_deaths = df[['Date','State','Deaths']]\n",
    "df_cases1 = df_cases.groupby('Date')\n",
    "df_deaths1= df_deaths.groupby('Date')"
   ]
  },
  {
   "cell_type": "code",
   "execution_count": 3,
   "id": "hybrid-cathedral",
   "metadata": {
    "execution": {
     "iopub.execute_input": "2021-04-08T12:39:46.648024Z",
     "iopub.status.busy": "2021-04-08T12:39:46.647508Z",
     "iopub.status.idle": "2021-04-08T12:39:46.663327Z",
     "shell.execute_reply": "2021-04-08T12:39:46.663715Z"
    },
    "papermill": {
     "duration": 0.036529,
     "end_time": "2021-04-08T12:39:46.663862",
     "exception": false,
     "start_time": "2021-04-08T12:39:46.627333",
     "status": "completed"
    },
    "tags": []
   },
   "outputs": [],
   "source": [
    "#hide\n",
    "df_snap = pd.read_csv('data/SnapshotCases-28-July.csv')\n",
    "arr_states = df_snap['states'].unique()\n",
    "arr_dates = df['Date'].unique()\n",
    "df_snap = df_snap.set_index('states')"
   ]
  },
  {
   "cell_type": "code",
   "execution_count": 4,
   "id": "interior-belfast",
   "metadata": {
    "execution": {
     "iopub.execute_input": "2021-04-08T12:39:46.702925Z",
     "iopub.status.busy": "2021-04-08T12:39:46.702399Z",
     "iopub.status.idle": "2021-04-08T12:39:46.706083Z",
     "shell.execute_reply": "2021-04-08T12:39:46.706463Z"
    },
    "papermill": {
     "duration": 0.027312,
     "end_time": "2021-04-08T12:39:46.706597",
     "exception": false,
     "start_time": "2021-04-08T12:39:46.679285",
     "status": "completed"
    },
    "tags": []
   },
   "outputs": [
    {
     "data": {
      "text/plain": [
       "array(['Andaman and Nicobar Islands', 'Andhra Pradesh',\n",
       "       'Arunachal Pradesh', 'Assam', 'Bihar', 'Chandigarh',\n",
       "       'Dadra and Nagar Haveli and Daman and Diu', 'Delhi', 'Goa',\n",
       "       'Gujarat', 'Haryana', 'Himachal Pradesh', 'Jammu and Kashmir',\n",
       "       'Jharkhand', 'Karnataka', 'Kerala', 'Lakshadweep',\n",
       "       'Madhya Pradesh', 'Maharashtra', 'Manipur', 'Meghalaya', 'Mizoram',\n",
       "       'Nagaland', 'Odisha', 'Puducherry', 'Punjab', 'Rajasthan',\n",
       "       'Sikkim', 'Tamil Nadu', 'Telangana', 'Tripura', 'Uttar Pradesh',\n",
       "       'West Bengal', 'Chhattisgarh', 'Ladakh', 'Uttarakhand'],\n",
       "      dtype=object)"
      ]
     },
     "execution_count": 4,
     "metadata": {},
     "output_type": "execute_result"
    }
   ],
   "source": [
    "#hide\n",
    "arr_states[-9] = 'Puducherry'\n",
    "arr_states[-10] = 'Odisha'\n",
    "arr_states[6] = 'Dadra and Nagar Haveli and Daman and Diu'\n",
    "arr_states = np.append(arr_states,np.array(['Chhattisgarh','Ladakh','Uttarakhand']))\n",
    "arr_states"
   ]
  },
  {
   "cell_type": "code",
   "execution_count": 5,
   "id": "behind-manner",
   "metadata": {
    "execution": {
     "iopub.execute_input": "2021-04-08T12:39:46.750542Z",
     "iopub.status.busy": "2021-04-08T12:39:46.749999Z",
     "iopub.status.idle": "2021-04-08T12:39:46.758082Z",
     "shell.execute_reply": "2021-04-08T12:39:46.758516Z"
    },
    "papermill": {
     "duration": 0.036381,
     "end_time": "2021-04-08T12:39:46.758649",
     "exception": false,
     "start_time": "2021-04-08T12:39:46.722268",
     "status": "completed"
    },
    "tags": []
   },
   "outputs": [],
   "source": [
    "#hide\n",
    "dates = []\n",
    "for i in arr_dates:\n",
    "    if i>='2020-07-01':\n",
    "        dates.append(i)\n",
    "dict = {'states':dates}\n",
    "for i in arr_states:\n",
    "    dict[i] = [0]*len(dates)\n",
    "dft_cases = pd.DataFrame(dict)\n",
    "dft_deaths = pd.DataFrame(dict)\n"
   ]
  },
  {
   "cell_type": "code",
   "execution_count": 6,
   "id": "simplified-peter",
   "metadata": {
    "execution": {
     "iopub.execute_input": "2021-04-08T12:39:46.796556Z",
     "iopub.status.busy": "2021-04-08T12:39:46.796045Z",
     "iopub.status.idle": "2021-04-08T12:39:50.342163Z",
     "shell.execute_reply": "2021-04-08T12:39:50.342577Z"
    },
    "papermill": {
     "duration": 3.568191,
     "end_time": "2021-04-08T12:39:50.342725",
     "exception": false,
     "start_time": "2021-04-08T12:39:46.774534",
     "status": "completed"
    },
    "tags": []
   },
   "outputs": [],
   "source": [
    "#hide\n",
    "for i in range(len(dates)):\n",
    "    df1_deaths = df_deaths1.get_group(dates[i])\n",
    "    for j in range(len(df1_deaths.index)):\n",
    "        if df1_deaths.iloc[j,1] in arr_states:\n",
    "            dft_deaths.loc[i,df1_deaths.iloc[j,1]] = df1_deaths.iloc[j,2]\n",
    "dft_deaths = dft_deaths.set_index('states')"
   ]
  },
  {
   "cell_type": "code",
   "execution_count": 7,
   "id": "geological-welding",
   "metadata": {
    "execution": {
     "iopub.execute_input": "2021-04-08T12:39:50.380989Z",
     "iopub.status.busy": "2021-04-08T12:39:50.380471Z",
     "iopub.status.idle": "2021-04-08T12:39:53.967628Z",
     "shell.execute_reply": "2021-04-08T12:39:53.966760Z"
    },
    "papermill": {
     "duration": 3.608723,
     "end_time": "2021-04-08T12:39:53.967764",
     "exception": false,
     "start_time": "2021-04-08T12:39:50.359041",
     "status": "completed"
    },
    "tags": []
   },
   "outputs": [],
   "source": [
    "#hide\n",
    "for i in range(len(dates)):\n",
    "    df1_cases = df_cases1.get_group(dates[i])\n",
    "    for j in range(len(df1_cases.index)):\n",
    "        if df1_cases.iloc[j,1] in arr_states:\n",
    "            dft_cases.loc[i,df1_cases.iloc[j,1]] = df1_cases.iloc[j,2]\n",
    "dft_cases = dft_cases.set_index('states')"
   ]
  },
  {
   "cell_type": "code",
   "execution_count": 8,
   "id": "binary-ratio",
   "metadata": {
    "execution": {
     "iopub.execute_input": "2021-04-08T12:39:54.005398Z",
     "iopub.status.busy": "2021-04-08T12:39:54.004794Z",
     "iopub.status.idle": "2021-04-08T12:39:54.006312Z",
     "shell.execute_reply": "2021-04-08T12:39:54.006747Z"
    },
    "papermill": {
     "duration": 0.023114,
     "end_time": "2021-04-08T12:39:54.006902",
     "exception": false,
     "start_time": "2021-04-08T12:39:53.983788",
     "status": "completed"
    },
    "tags": []
   },
   "outputs": [],
   "source": [
    "#hide\n",
    "dft_cases = dft_cases.T\n",
    "dft_deaths = dft_deaths.T\n",
    "dt_today = dates[-1]\n",
    "dt_yday = dates[-2]"
   ]
  },
  {
   "cell_type": "code",
   "execution_count": 9,
   "id": "boolean-calculator",
   "metadata": {
    "execution": {
     "iopub.execute_input": "2021-04-08T12:39:54.043962Z",
     "iopub.status.busy": "2021-04-08T12:39:54.043444Z",
     "iopub.status.idle": "2021-04-08T12:39:54.048801Z",
     "shell.execute_reply": "2021-04-08T12:39:54.049240Z"
    },
    "papermill": {
     "duration": 0.025887,
     "end_time": "2021-04-08T12:39:54.049379",
     "exception": false,
     "start_time": "2021-04-08T12:39:54.023492",
     "status": "completed"
    },
    "tags": []
   },
   "outputs": [],
   "source": [
    "#hide\n",
    "dft_cases = dft_cases.reset_index()\n",
    "dft_deaths = dft_deaths.reset_index()\n",
    "dft_cases = dft_cases.rename(columns = {'index':'state'})\n",
    "dft_deaths = dft_deaths.rename(columns = {'index':'state'})"
   ]
  },
  {
   "cell_type": "code",
   "execution_count": 10,
   "id": "invisible-johnston",
   "metadata": {
    "execution": {
     "iopub.execute_input": "2021-04-08T12:39:54.091697Z",
     "iopub.status.busy": "2021-04-08T12:39:54.091141Z",
     "iopub.status.idle": "2021-04-08T12:39:54.094469Z",
     "shell.execute_reply": "2021-04-08T12:39:54.094866Z"
    },
    "papermill": {
     "duration": 0.0298,
     "end_time": "2021-04-08T12:39:54.095008",
     "exception": false,
     "start_time": "2021-04-08T12:39:54.065208",
     "status": "completed"
    },
    "tags": []
   },
   "outputs": [],
   "source": [
    "#hide\n",
    "dfc_cases = dft_cases.groupby('state')[dt_today].sum()\n",
    "dfc_deaths = dft_deaths.groupby('state')[dt_today].sum()\n",
    "dfp_cases = dft_cases.groupby('state')[dt_yday].sum()\n",
    "dfp_deaths = dft_deaths.groupby('state')[dt_yday].sum()"
   ]
  },
  {
   "cell_type": "code",
   "execution_count": 11,
   "id": "measured-great",
   "metadata": {
    "execution": {
     "iopub.execute_input": "2021-04-08T12:39:54.141115Z",
     "iopub.status.busy": "2021-04-08T12:39:54.140590Z",
     "iopub.status.idle": "2021-04-08T12:39:54.146435Z",
     "shell.execute_reply": "2021-04-08T12:39:54.146878Z"
    },
    "papermill": {
     "duration": 0.035991,
     "end_time": "2021-04-08T12:39:54.147023",
     "exception": false,
     "start_time": "2021-04-08T12:39:54.111032",
     "status": "completed"
    },
    "tags": []
   },
   "outputs": [
    {
     "data": {
      "text/html": [
       "<div>\n",
       "<style scoped>\n",
       "    .dataframe tbody tr th:only-of-type {\n",
       "        vertical-align: middle;\n",
       "    }\n",
       "\n",
       "    .dataframe tbody tr th {\n",
       "        vertical-align: top;\n",
       "    }\n",
       "\n",
       "    .dataframe thead th {\n",
       "        text-align: right;\n",
       "    }\n",
       "</style>\n",
       "<table border=\"1\" class=\"dataframe\">\n",
       "  <thead>\n",
       "    <tr style=\"text-align: right;\">\n",
       "      <th></th>\n",
       "      <th>states</th>\n",
       "      <th>Cases</th>\n",
       "      <th>Deaths</th>\n",
       "      <th>PCases</th>\n",
       "      <th>PDeaths</th>\n",
       "    </tr>\n",
       "  </thead>\n",
       "  <tbody>\n",
       "    <tr>\n",
       "      <th>0</th>\n",
       "      <td>Maharashtra</td>\n",
       "      <td>3173261</td>\n",
       "      <td>56652</td>\n",
       "      <td>3173261</td>\n",
       "      <td>56652</td>\n",
       "    </tr>\n",
       "    <tr>\n",
       "      <th>1</th>\n",
       "      <td>Kerala</td>\n",
       "      <td>1144595</td>\n",
       "      <td>4711</td>\n",
       "      <td>1144595</td>\n",
       "      <td>4711</td>\n",
       "    </tr>\n",
       "    <tr>\n",
       "      <th>2</th>\n",
       "      <td>Karnataka</td>\n",
       "      <td>1033560</td>\n",
       "      <td>12731</td>\n",
       "      <td>1033560</td>\n",
       "      <td>12731</td>\n",
       "    </tr>\n",
       "    <tr>\n",
       "      <th>3</th>\n",
       "      <td>Andhra Pradesh</td>\n",
       "      <td>915832</td>\n",
       "      <td>7268</td>\n",
       "      <td>913274</td>\n",
       "      <td>7262</td>\n",
       "    </tr>\n",
       "    <tr>\n",
       "      <th>4</th>\n",
       "      <td>Tamil Nadu</td>\n",
       "      <td>911110</td>\n",
       "      <td>12821</td>\n",
       "      <td>911110</td>\n",
       "      <td>12821</td>\n",
       "    </tr>\n",
       "  </tbody>\n",
       "</table>\n",
       "</div>"
      ],
      "text/plain": [
       "           states    Cases  Deaths   PCases  PDeaths\n",
       "0     Maharashtra  3173261   56652  3173261    56652\n",
       "1          Kerala  1144595    4711  1144595     4711\n",
       "2       Karnataka  1033560   12731  1033560    12731\n",
       "3  Andhra Pradesh   915832    7268   913274     7262\n",
       "4      Tamil Nadu   911110   12821   911110    12821"
      ]
     },
     "execution_count": 11,
     "metadata": {},
     "output_type": "execute_result"
    }
   ],
   "source": [
    "#hide\n",
    "df_table = pd.DataFrame({'states': dfc_cases.index, 'Cases': dfc_cases.values, 'Deaths': dfc_deaths.values, 'PCases': dfp_cases.values, 'PDeaths': dfp_deaths.values}).set_index('states')\n",
    "df_table = df_table.sort_values(by = ['Cases','Deaths'], ascending = [False, False])\n",
    "df_table = df_table.reset_index()\n",
    "df_table.head()"
   ]
  },
  {
   "cell_type": "code",
   "execution_count": 12,
   "id": "found-montreal",
   "metadata": {
    "execution": {
     "iopub.execute_input": "2021-04-08T12:39:54.184905Z",
     "iopub.status.busy": "2021-04-08T12:39:54.184397Z",
     "iopub.status.idle": "2021-04-08T12:39:54.192886Z",
     "shell.execute_reply": "2021-04-08T12:39:54.192466Z"
    },
    "papermill": {
     "duration": 0.029783,
     "end_time": "2021-04-08T12:39:54.193009",
     "exception": false,
     "start_time": "2021-04-08T12:39:54.163226",
     "status": "completed"
    },
    "tags": []
   },
   "outputs": [],
   "source": [
    "#hide\n",
    "for c in 'Cases, Deaths'.split(', '):\n",
    "    df_table[f'{c} (+)'] = (df_table[c] - df_table[f'P{c}']).clip(0)\n",
    "df_table['Fatality Rate'] = (100* df_table['Deaths']/ df_table['Cases']).round(2)"
   ]
  },
  {
   "cell_type": "code",
   "execution_count": 13,
   "id": "minus-savage",
   "metadata": {
    "execution": {
     "iopub.execute_input": "2021-04-08T12:39:54.230055Z",
     "iopub.status.busy": "2021-04-08T12:39:54.229510Z",
     "iopub.status.idle": "2021-04-08T12:39:54.237490Z",
     "shell.execute_reply": "2021-04-08T12:39:54.237986Z"
    },
    "papermill": {
     "duration": 0.028892,
     "end_time": "2021-04-08T12:39:54.238131",
     "exception": false,
     "start_time": "2021-04-08T12:39:54.209239",
     "status": "completed"
    },
    "tags": []
   },
   "outputs": [
    {
     "data": {
      "text/html": [
       "<div>\n",
       "<style scoped>\n",
       "    .dataframe tbody tr th:only-of-type {\n",
       "        vertical-align: middle;\n",
       "    }\n",
       "\n",
       "    .dataframe tbody tr th {\n",
       "        vertical-align: top;\n",
       "    }\n",
       "\n",
       "    .dataframe thead th {\n",
       "        text-align: right;\n",
       "    }\n",
       "</style>\n",
       "<table border=\"1\" class=\"dataframe\">\n",
       "  <thead>\n",
       "    <tr style=\"text-align: right;\">\n",
       "      <th></th>\n",
       "      <th>states</th>\n",
       "      <th>Cases</th>\n",
       "      <th>Deaths</th>\n",
       "      <th>PCases</th>\n",
       "      <th>PDeaths</th>\n",
       "      <th>Cases (+)</th>\n",
       "      <th>Deaths (+)</th>\n",
       "      <th>Fatality Rate</th>\n",
       "    </tr>\n",
       "  </thead>\n",
       "  <tbody>\n",
       "    <tr>\n",
       "      <th>0</th>\n",
       "      <td>Maharashtra</td>\n",
       "      <td>3173261</td>\n",
       "      <td>56652</td>\n",
       "      <td>3173261</td>\n",
       "      <td>56652</td>\n",
       "      <td>0</td>\n",
       "      <td>0</td>\n",
       "      <td>1.79</td>\n",
       "    </tr>\n",
       "    <tr>\n",
       "      <th>1</th>\n",
       "      <td>Kerala</td>\n",
       "      <td>1144595</td>\n",
       "      <td>4711</td>\n",
       "      <td>1144595</td>\n",
       "      <td>4711</td>\n",
       "      <td>0</td>\n",
       "      <td>0</td>\n",
       "      <td>0.41</td>\n",
       "    </tr>\n",
       "    <tr>\n",
       "      <th>2</th>\n",
       "      <td>Karnataka</td>\n",
       "      <td>1033560</td>\n",
       "      <td>12731</td>\n",
       "      <td>1033560</td>\n",
       "      <td>12731</td>\n",
       "      <td>0</td>\n",
       "      <td>0</td>\n",
       "      <td>1.23</td>\n",
       "    </tr>\n",
       "    <tr>\n",
       "      <th>3</th>\n",
       "      <td>Andhra Pradesh</td>\n",
       "      <td>915832</td>\n",
       "      <td>7268</td>\n",
       "      <td>913274</td>\n",
       "      <td>7262</td>\n",
       "      <td>2558</td>\n",
       "      <td>6</td>\n",
       "      <td>0.79</td>\n",
       "    </tr>\n",
       "    <tr>\n",
       "      <th>4</th>\n",
       "      <td>Tamil Nadu</td>\n",
       "      <td>911110</td>\n",
       "      <td>12821</td>\n",
       "      <td>911110</td>\n",
       "      <td>12821</td>\n",
       "      <td>0</td>\n",
       "      <td>0</td>\n",
       "      <td>1.41</td>\n",
       "    </tr>\n",
       "  </tbody>\n",
       "</table>\n",
       "</div>"
      ],
      "text/plain": [
       "           states    Cases  Deaths   PCases  PDeaths  Cases (+)  Deaths (+)  \\\n",
       "0     Maharashtra  3173261   56652  3173261    56652          0           0   \n",
       "1          Kerala  1144595    4711  1144595     4711          0           0   \n",
       "2       Karnataka  1033560   12731  1033560    12731          0           0   \n",
       "3  Andhra Pradesh   915832    7268   913274     7262       2558           6   \n",
       "4      Tamil Nadu   911110   12821   911110    12821          0           0   \n",
       "\n",
       "   Fatality Rate  \n",
       "0           1.79  \n",
       "1           0.41  \n",
       "2           1.23  \n",
       "3           0.79  \n",
       "4           1.41  "
      ]
     },
     "execution_count": 13,
     "metadata": {},
     "output_type": "execute_result"
    }
   ],
   "source": [
    "#hide\n",
    "df_table.head()"
   ]
  },
  {
   "cell_type": "code",
   "execution_count": 14,
   "id": "false-peter",
   "metadata": {
    "execution": {
     "iopub.execute_input": "2021-04-08T12:39:54.277193Z",
     "iopub.status.busy": "2021-04-08T12:39:54.276686Z",
     "iopub.status.idle": "2021-04-08T12:39:54.291224Z",
     "shell.execute_reply": "2021-04-08T12:39:54.291661Z"
    },
    "papermill": {
     "duration": 0.036937,
     "end_time": "2021-04-08T12:39:54.291801",
     "exception": false,
     "start_time": "2021-04-08T12:39:54.254864",
     "status": "completed"
    },
    "tags": []
   },
   "outputs": [
    {
     "data": {
      "text/plain": [
       "{'updated': '2021-04-08',\n",
       " 'since': '2021-04-07',\n",
       " 'Cases': 12931922,\n",
       " 'PCases': 12926061,\n",
       " 'Deaths': 166906,\n",
       " 'PDeaths': 166892,\n",
       " 'Cases (+)': 5861,\n",
       " 'Deaths (+)': 14}"
      ]
     },
     "execution_count": 14,
     "metadata": {},
     "output_type": "execute_result"
    }
   ],
   "source": [
    "#hide\n",
    "summary = {'updated':dates[-1], 'since':dates[-2]}\n",
    "list_names = ['Cases', 'PCases', 'Deaths', 'PDeaths', 'Cases (+)', 'Deaths (+)']\n",
    "for name in list_names:\n",
    "    summary[name] = df_table.sum()[name]\n",
    "summary"
   ]
  },
  {
   "cell_type": "code",
   "execution_count": 15,
   "id": "packed-viewer",
   "metadata": {
    "execution": {
     "iopub.execute_input": "2021-04-08T12:39:54.330186Z",
     "iopub.status.busy": "2021-04-08T12:39:54.329625Z",
     "iopub.status.idle": "2021-04-08T12:39:54.331656Z",
     "shell.execute_reply": "2021-04-08T12:39:54.331248Z"
    },
    "papermill": {
     "duration": 0.023087,
     "end_time": "2021-04-08T12:39:54.331772",
     "exception": false,
     "start_time": "2021-04-08T12:39:54.308685",
     "status": "completed"
    },
    "tags": []
   },
   "outputs": [],
   "source": [
    "#hide\n",
    "overview = '''\n",
    "<!-- #######  HTML!! #########-->\n",
    "<h1 style=\"color: #5e9ca0; text-align: center;\">India</h1>\n",
    "<p style=\"text-align: center;\">Last update: <strong>{update}</strong></p>\n",
    "<p style=\"text-align: center;\">Confirmed cases:</p>\n",
    "<p style=\"text-align: center;font-size:24px;\">{cases} (<span style=\"color: #ff0000;\">+{new}</span>)</p>\n",
    "<p style=\"text-align: center;\">Confirmed deaths:</p>\n",
    "<p style=\"text-align: center;font-size:24px;\">{deaths} (<span style=\"color: #ff0000;\">+{dnew}</span>)</p>\n",
    "'''"
   ]
  },
  {
   "cell_type": "code",
   "execution_count": 16,
   "id": "phantom-lover",
   "metadata": {
    "execution": {
     "iopub.execute_input": "2021-04-08T12:39:54.371416Z",
     "iopub.status.busy": "2021-04-08T12:39:54.370889Z",
     "iopub.status.idle": "2021-04-08T12:39:54.373818Z",
     "shell.execute_reply": "2021-04-08T12:39:54.373362Z"
    },
    "papermill": {
     "duration": 0.025376,
     "end_time": "2021-04-08T12:39:54.373935",
     "exception": false,
     "start_time": "2021-04-08T12:39:54.348559",
     "status": "completed"
    },
    "tags": []
   },
   "outputs": [
    {
     "data": {
      "text/html": [
       "\n",
       "<!-- #######  HTML!! #########-->\n",
       "<h1 style=\"color: #5e9ca0; text-align: center;\">India</h1>\n",
       "<p style=\"text-align: center;\">Last update: <strong>2021-04-08</strong></p>\n",
       "<p style=\"text-align: center;\">Confirmed cases:</p>\n",
       "<p style=\"text-align: center;font-size:24px;\">12931922 (<span style=\"color: #ff0000;\">+5861</span>)</p>\n",
       "<p style=\"text-align: center;\">Confirmed deaths:</p>\n",
       "<p style=\"text-align: center;font-size:24px;\">166906 (<span style=\"color: #ff0000;\">+14</span>)</p>\n"
      ],
      "text/plain": [
       "<IPython.core.display.HTML object>"
      ]
     },
     "metadata": {},
     "output_type": "display_data"
    }
   ],
   "source": [
    "#hide_input\n",
    "update = summary['updated']\n",
    "cases = summary['Cases']\n",
    "new = summary['Cases (+)']\n",
    "deaths = summary['Deaths']\n",
    "dnew = summary['Deaths (+)']\n",
    "\n",
    "html = HTML(overview.format(update=update, cases=cases,new=new,deaths=deaths,dnew=dnew))\n",
    "\n",
    "display(html)"
   ]
  },
  {
   "cell_type": "code",
   "execution_count": 17,
   "id": "sealed-reset",
   "metadata": {
    "execution": {
     "iopub.execute_input": "2021-04-08T12:39:54.415000Z",
     "iopub.status.busy": "2021-04-08T12:39:54.414485Z",
     "iopub.status.idle": "2021-04-08T12:39:54.421239Z",
     "shell.execute_reply": "2021-04-08T12:39:54.420797Z"
    },
    "papermill": {
     "duration": 0.029778,
     "end_time": "2021-04-08T12:39:54.421356",
     "exception": false,
     "start_time": "2021-04-08T12:39:54.391578",
     "status": "completed"
    },
    "tags": []
   },
   "outputs": [],
   "source": [
    "#hide\n",
    "dt_cols = list(dft_cases.columns[1:])\n",
    "dft_ct_new_cases = dft_cases.groupby('state')[dt_cols].sum().diff(axis=1).fillna(0).astype(int)\n",
    "dft_ct_new_cases.sort_values(by = dates[-1], ascending = False,inplace = True)"
   ]
  },
  {
   "cell_type": "code",
   "execution_count": 18,
   "id": "designed-constant",
   "metadata": {
    "execution": {
     "iopub.execute_input": "2021-04-08T12:39:54.472583Z",
     "iopub.status.busy": "2021-04-08T12:39:54.472057Z",
     "iopub.status.idle": "2021-04-08T12:39:54.474315Z",
     "shell.execute_reply": "2021-04-08T12:39:54.474781Z"
    },
    "papermill": {
     "duration": 0.036125,
     "end_time": "2021-04-08T12:39:54.474914",
     "exception": false,
     "start_time": "2021-04-08T12:39:54.438789",
     "status": "completed"
    },
    "tags": []
   },
   "outputs": [
    {
     "data": {
      "text/html": [
       "<div>\n",
       "<style scoped>\n",
       "    .dataframe tbody tr th:only-of-type {\n",
       "        vertical-align: middle;\n",
       "    }\n",
       "\n",
       "    .dataframe tbody tr th {\n",
       "        vertical-align: top;\n",
       "    }\n",
       "\n",
       "    .dataframe thead th {\n",
       "        text-align: right;\n",
       "    }\n",
       "</style>\n",
       "<table border=\"1\" class=\"dataframe\">\n",
       "  <thead>\n",
       "    <tr style=\"text-align: right;\">\n",
       "      <th>states</th>\n",
       "      <th>2020-07-01</th>\n",
       "      <th>2020-07-02</th>\n",
       "      <th>2020-07-03</th>\n",
       "      <th>2020-07-04</th>\n",
       "      <th>2020-07-05</th>\n",
       "      <th>2020-07-06</th>\n",
       "      <th>2020-07-07</th>\n",
       "      <th>2020-07-08</th>\n",
       "      <th>2020-07-09</th>\n",
       "      <th>2020-07-10</th>\n",
       "      <th>...</th>\n",
       "      <th>2021-03-30</th>\n",
       "      <th>2021-03-31</th>\n",
       "      <th>2021-04-01</th>\n",
       "      <th>2021-04-02</th>\n",
       "      <th>2021-04-03</th>\n",
       "      <th>2021-04-04</th>\n",
       "      <th>2021-04-05</th>\n",
       "      <th>2021-04-06</th>\n",
       "      <th>2021-04-07</th>\n",
       "      <th>2021-04-08</th>\n",
       "    </tr>\n",
       "    <tr>\n",
       "      <th>state</th>\n",
       "      <th></th>\n",
       "      <th></th>\n",
       "      <th></th>\n",
       "      <th></th>\n",
       "      <th></th>\n",
       "      <th></th>\n",
       "      <th></th>\n",
       "      <th></th>\n",
       "      <th></th>\n",
       "      <th></th>\n",
       "      <th></th>\n",
       "      <th></th>\n",
       "      <th></th>\n",
       "      <th></th>\n",
       "      <th></th>\n",
       "      <th></th>\n",
       "      <th></th>\n",
       "      <th></th>\n",
       "      <th></th>\n",
       "      <th></th>\n",
       "      <th></th>\n",
       "    </tr>\n",
       "  </thead>\n",
       "  <tbody>\n",
       "    <tr>\n",
       "      <th>Andhra Pradesh</th>\n",
       "      <td>0</td>\n",
       "      <td>845</td>\n",
       "      <td>837</td>\n",
       "      <td>765</td>\n",
       "      <td>998</td>\n",
       "      <td>1322</td>\n",
       "      <td>1178</td>\n",
       "      <td>1062</td>\n",
       "      <td>1555</td>\n",
       "      <td>1608</td>\n",
       "      <td>...</td>\n",
       "      <td>993</td>\n",
       "      <td>1184</td>\n",
       "      <td>1271</td>\n",
       "      <td>1288</td>\n",
       "      <td>1398</td>\n",
       "      <td>1730</td>\n",
       "      <td>1326</td>\n",
       "      <td>1941</td>\n",
       "      <td>2331</td>\n",
       "      <td>2558</td>\n",
       "    </tr>\n",
       "    <tr>\n",
       "      <th>Telangana</th>\n",
       "      <td>0</td>\n",
       "      <td>1213</td>\n",
       "      <td>1892</td>\n",
       "      <td>1850</td>\n",
       "      <td>1590</td>\n",
       "      <td>1831</td>\n",
       "      <td>1879</td>\n",
       "      <td>1924</td>\n",
       "      <td>1410</td>\n",
       "      <td>1278</td>\n",
       "      <td>...</td>\n",
       "      <td>463</td>\n",
       "      <td>684</td>\n",
       "      <td>887</td>\n",
       "      <td>965</td>\n",
       "      <td>1078</td>\n",
       "      <td>1321</td>\n",
       "      <td>1097</td>\n",
       "      <td>1498</td>\n",
       "      <td>1914</td>\n",
       "      <td>2055</td>\n",
       "    </tr>\n",
       "    <tr>\n",
       "      <th>Odisha</th>\n",
       "      <td>0</td>\n",
       "      <td>229</td>\n",
       "      <td>561</td>\n",
       "      <td>495</td>\n",
       "      <td>469</td>\n",
       "      <td>456</td>\n",
       "      <td>571</td>\n",
       "      <td>527</td>\n",
       "      <td>577</td>\n",
       "      <td>755</td>\n",
       "      <td>...</td>\n",
       "      <td>218</td>\n",
       "      <td>297</td>\n",
       "      <td>394</td>\n",
       "      <td>461</td>\n",
       "      <td>452</td>\n",
       "      <td>471</td>\n",
       "      <td>573</td>\n",
       "      <td>588</td>\n",
       "      <td>791</td>\n",
       "      <td>879</td>\n",
       "    </tr>\n",
       "    <tr>\n",
       "      <th>Puducherry</th>\n",
       "      <td>0</td>\n",
       "      <td>63</td>\n",
       "      <td>22</td>\n",
       "      <td>80</td>\n",
       "      <td>42</td>\n",
       "      <td>65</td>\n",
       "      <td>30</td>\n",
       "      <td>110</td>\n",
       "      <td>49</td>\n",
       "      <td>72</td>\n",
       "      <td>...</td>\n",
       "      <td>115</td>\n",
       "      <td>127</td>\n",
       "      <td>260</td>\n",
       "      <td>213</td>\n",
       "      <td>191</td>\n",
       "      <td>227</td>\n",
       "      <td>180</td>\n",
       "      <td>237</td>\n",
       "      <td>173</td>\n",
       "      <td>293</td>\n",
       "    </tr>\n",
       "    <tr>\n",
       "      <th>Tripura</th>\n",
       "      <td>0</td>\n",
       "      <td>39</td>\n",
       "      <td>93</td>\n",
       "      <td>25</td>\n",
       "      <td>23</td>\n",
       "      <td>111</td>\n",
       "      <td>24</td>\n",
       "      <td>57</td>\n",
       "      <td>16</td>\n",
       "      <td>142</td>\n",
       "      <td>...</td>\n",
       "      <td>0</td>\n",
       "      <td>0</td>\n",
       "      <td>24</td>\n",
       "      <td>4</td>\n",
       "      <td>2</td>\n",
       "      <td>14</td>\n",
       "      <td>3</td>\n",
       "      <td>14</td>\n",
       "      <td>21</td>\n",
       "      <td>37</td>\n",
       "    </tr>\n",
       "  </tbody>\n",
       "</table>\n",
       "<p>5 rows × 282 columns</p>\n",
       "</div>"
      ],
      "text/plain": [
       "states          2020-07-01  2020-07-02  2020-07-03  2020-07-04  2020-07-05  \\\n",
       "state                                                                        \n",
       "Andhra Pradesh           0         845         837         765         998   \n",
       "Telangana                0        1213        1892        1850        1590   \n",
       "Odisha                   0         229         561         495         469   \n",
       "Puducherry               0          63          22          80          42   \n",
       "Tripura                  0          39          93          25          23   \n",
       "\n",
       "states          2020-07-06  2020-07-07  2020-07-08  2020-07-09  2020-07-10  \\\n",
       "state                                                                        \n",
       "Andhra Pradesh        1322        1178        1062        1555        1608   \n",
       "Telangana             1831        1879        1924        1410        1278   \n",
       "Odisha                 456         571         527         577         755   \n",
       "Puducherry              65          30         110          49          72   \n",
       "Tripura                111          24          57          16         142   \n",
       "\n",
       "states          ...  2021-03-30  2021-03-31  2021-04-01  2021-04-02  \\\n",
       "state           ...                                                   \n",
       "Andhra Pradesh  ...         993        1184        1271        1288   \n",
       "Telangana       ...         463         684         887         965   \n",
       "Odisha          ...         218         297         394         461   \n",
       "Puducherry      ...         115         127         260         213   \n",
       "Tripura         ...           0           0          24           4   \n",
       "\n",
       "states          2021-04-03  2021-04-04  2021-04-05  2021-04-06  2021-04-07  \\\n",
       "state                                                                        \n",
       "Andhra Pradesh        1398        1730        1326        1941        2331   \n",
       "Telangana             1078        1321        1097        1498        1914   \n",
       "Odisha                 452         471         573         588         791   \n",
       "Puducherry             191         227         180         237         173   \n",
       "Tripura                  2          14           3          14          21   \n",
       "\n",
       "states          2021-04-08  \n",
       "state                       \n",
       "Andhra Pradesh        2558  \n",
       "Telangana             2055  \n",
       "Odisha                 879  \n",
       "Puducherry             293  \n",
       "Tripura                 37  \n",
       "\n",
       "[5 rows x 282 columns]"
      ]
     },
     "execution_count": 18,
     "metadata": {},
     "output_type": "execute_result"
    }
   ],
   "source": [
    "#hide\n",
    "dft_ct_new_cases.head()"
   ]
  },
  {
   "cell_type": "code",
   "execution_count": 19,
   "id": "responsible-nightlife",
   "metadata": {
    "execution": {
     "iopub.execute_input": "2021-04-08T12:39:54.514090Z",
     "iopub.status.busy": "2021-04-08T12:39:54.513502Z",
     "iopub.status.idle": "2021-04-08T12:40:03.622661Z",
     "shell.execute_reply": "2021-04-08T12:40:03.623071Z"
    },
    "papermill": {
     "duration": 9.130111,
     "end_time": "2021-04-08T12:40:03.623215",
     "exception": false,
     "start_time": "2021-04-08T12:39:54.493104",
     "status": "completed"
    },
    "tags": []
   },
   "outputs": [
    {
     "data": {
      "image/png": "[encoded data removed]",
      "text/plain": [
       "<Figure size 1296x2016 with 11 Axes>"
      ]
     },
     "metadata": {
      "needs_background": "light"
     },
     "output_type": "display_data"
    }
   ],
   "source": [
    "#hide_input\n",
    "df = dft_ct_new_cases.copy()\n",
    "df.loc['Total'] = df.sum()\n",
    "n = 5\n",
    "ax = []\n",
    "fig = plt.figure(figsize = (18,28))\n",
    "gs = fig.add_gridspec(n+2, 5)\n",
    "# gs = fig.add_gridspec(2, 3)\n",
    "ax1 = fig.add_subplot(gs[0, :])\n",
    "ef = df.loc['Total'].rename_axis('date').reset_index()\n",
    "ef['date'] = ef['date'].astype('datetime64[ns]')\n",
    "ax1.bar(ef.date,ef.Total,alpha=0.3,color='#007acc')\n",
    "ax1.plot(ef.date,ef.Total , marker=\"o\", color='#007acc')\n",
    "ax1.xaxis.set_major_locator(mdates.WeekdayLocator())\n",
    "ax1.xaxis.set_major_formatter(mdates.DateFormatter('%b %d'))\n",
    "ax1.text(0.02, 0.5,'India daily case count', transform = ax1.transAxes, fontsize=25);\n",
    "ax1.spines['right'].set_visible(False)\n",
    "ax1.spines['top'].set_visible(False)\n",
    "\n",
    "ax2 = fig.add_subplot(gs[1,0])\n",
    "ef = df.loc['Maharashtra'].rename_axis('date').reset_index()\n",
    "ef['date'] = ef['date'].astype('datetime64[ns]')\n",
    "\n",
    "ax2.bar(ef.date, ef.Maharashtra,color = '#007acc',alpha=0.5)\n",
    "ax2.xaxis.set_major_locator(mdates.WeekdayLocator())\n",
    "ax2.xaxis.set_major_formatter(mdates.DateFormatter('%b %d'))\n",
    "ax2.set_xticks(ax2.get_xticks()[::3])\n",
    "maxyval = ef.Maharashtra.max()\n",
    "ax2.set_ylim([0,maxyval])\n",
    "ax2.text(0.05, 0.9,'Maharashtra', transform = ax2.transAxes, fontsize=20);\n",
    "ax2.spines['right'].set_visible(False)\n",
    "ax2.spines['top'].set_visible(False)\n",
    "\n",
    "\n",
    "ax3 = fig.add_subplot(gs[1,1])\n",
    "ef = df.loc['Tamil Nadu'].rename_axis('date').reset_index()\n",
    "ef['date'] = ef['date'].astype('datetime64[ns]')\n",
    "ax3.bar(ef.date, ef['Tamil Nadu'],color = '#007acc',alpha=0.5,)\n",
    "ax3.xaxis.set_major_locator(mdates.WeekdayLocator())\n",
    "ax3.xaxis.set_major_formatter(mdates.DateFormatter('%b %d'))\n",
    "ax3.set_xticks(ax3.get_xticks()[::3])\n",
    "ax3.text(0.05, 0.9,'Tamil Nadu', transform = ax3.transAxes, fontsize=20);\n",
    "ax3.spines['right'].set_visible(False)\n",
    "ax3.spines['top'].set_visible(False)\n",
    "\n",
    "ax5 = fig.add_subplot(gs[1,3])\n",
    "ef = df.loc['Telangana'].rename_axis('date').reset_index()\n",
    "ef['date'] = ef['date'].astype('datetime64[ns]')\n",
    "ax5.bar(ef.date, ef['Telangana'],color = '#007acc',alpha=0.5,)\n",
    "ax5.xaxis.set_major_locator(mdates.WeekdayLocator())\n",
    "ax5.xaxis.set_major_formatter(mdates.DateFormatter('%b %d'))\n",
    "ax5.set_xticks(ax5.get_xticks()[::3])\n",
    "ax5.text(0.05, 0.9,'Telangana', transform = ax5.transAxes, fontsize=20);\n",
    "ax5.spines['right'].set_visible(False)\n",
    "ax5.spines['top'].set_visible(False)\n",
    "\n",
    "ax6 = fig.add_subplot(gs[1,4])\n",
    "ef = df.loc['Andhra Pradesh'].rename_axis('date').reset_index()\n",
    "ef['date'] = ef['date'].astype('datetime64[ns]')\n",
    "ax6.bar(ef.date, ef['Andhra Pradesh'],color = '#007acc',alpha=0.5,)\n",
    "ax6.xaxis.set_major_locator(mdates.WeekdayLocator())\n",
    "ax6.xaxis.set_major_formatter(mdates.DateFormatter('%b %d'))\n",
    "ax6.set_xticks(ax6.get_xticks()[::3])\n",
    "ax6.text(0.05, 1,'Andhra Pradesh', transform = ax6.transAxes, fontsize=20);\n",
    "ax6.spines['right'].set_visible(False)\n",
    "ax6.spines['top'].set_visible(False)\n",
    "\n",
    "ax4 = fig.add_subplot(gs[1,2])\n",
    "ef = df.loc['Delhi'].rename_axis('date').reset_index()\n",
    "ef['date'] = ef['date'].astype('datetime64[ns]')\n",
    "ax4.bar(ef.date, ef.Delhi,color = '#007acc',alpha=0.5)\n",
    "ax4.set_xticks([])\n",
    "ax4.xaxis.set_major_locator(mdates.WeekdayLocator())\n",
    "ax4.xaxis.set_major_formatter(mdates.DateFormatter('%b %d'))\n",
    "ax4.set_xticks(ax4.get_xticks()[::3])\n",
    "ax4.spines['right'].set_visible(False)\n",
    "ax4.spines['top'].set_visible(False)\n",
    "\n",
    "ax4.text(0.05, 1,'Delhi', transform = ax4.transAxes, fontsize=20)\n",
    "\n",
    "for i in range(n):\n",
    "    \n",
    "    ax.append(fig.add_subplot(gs[i+2,:]))\n",
    "    ef = df.iloc[i+3].rename_axis('date').reset_index()\n",
    "    ef['date'] = ef['date'].astype('datetime64[ns]')\n",
    "    ax[i].bar(ef.date,ef.iloc[:,-1],color = '#007acc',alpha=0.3)\n",
    "    ax[i].plot(ef.date,ef.iloc[:,-1],marker='o',color='#007acc')\n",
    "    ax[i].text(0.02,0.5,f'{ef.columns.values[-1]}',transform = ax[i].transAxes, fontsize = 20);\n",
    "    ax[i].xaxis.set_major_locator(mdates.WeekdayLocator())\n",
    "    ax[i].xaxis.set_major_formatter(mdates.DateFormatter('%b %d'))\n",
    "    ax[i].set_ylim([0,7000])\n",
    "    ax[i].spines['right'].set_visible(False)\n",
    "    ax[i].spines['top'].set_visible(False)\n",
    "plt.tight_layout()\n"
   ]
  },
  {
   "cell_type": "code",
   "execution_count": 20,
   "id": "dress-forge",
   "metadata": {
    "execution": {
     "iopub.execute_input": "2021-04-08T12:40:03.677488Z",
     "iopub.status.busy": "2021-04-08T12:40:03.676937Z",
     "iopub.status.idle": "2021-04-08T12:40:03.678994Z",
     "shell.execute_reply": "2021-04-08T12:40:03.679401Z"
    },
    "papermill": {
     "duration": 0.033666,
     "end_time": "2021-04-08T12:40:03.679534",
     "exception": false,
     "start_time": "2021-04-08T12:40:03.645868",
     "status": "completed"
    },
    "tags": []
   },
   "outputs": [
    {
     "name": "stdout",
     "output_type": "stream",
     "text": [
      "                                   states    Cases  Deaths   PCases  PDeaths  Cases (+)  Deaths (+)  Fatality Rate\n",
      "                              Maharashtra  3173261   56652  3173261    56652          0           0           1.79\n",
      "                                   Kerala  1144595    4711  1144595     4711          0           0           0.41\n",
      "                                Karnataka  1033560   12731  1033560    12731          0           0           1.23\n",
      "                           Andhra Pradesh   915832    7268   913274     7262       2558           6           0.79\n",
      "                               Tamil Nadu   911110   12821   911110    12821          0           0           1.41\n",
      "                                    Delhi   690568   11133   690568    11133          0           0           1.61\n",
      "                            Uttar Pradesh   645930    8964   645930     8964          0           0           1.39\n",
      "                              West Bengal   600024   10363   600024    10363          0           0           1.73\n",
      "                             Chhattisgarh   396579    4469   396579     4469          0           0           1.13\n",
      "                                Rajasthan   346791    2866   346791     2866          0           0           0.83\n",
      "                                   Odisha   345526    1976   344647     1976        879           0           0.57\n",
      "                                  Gujarat   328453    4620   328453     4620          0           0           1.41\n",
      "                                Telangana   318704    1741   316649     1734       2055           7           0.55\n",
      "                           Madhya Pradesh   318014    4086   318014     4086          0           0           1.28\n",
      "                                  Haryana   304638    3219   304638     3219          0           0           1.06\n",
      "                                    Bihar   271919    1591   271919     1591          0           0           0.59\n",
      "                                   Punjab   260020    7278   260020     7278          0           0           2.80\n",
      "                                    Assam   219027    1111   219027     1111          0           0           0.51\n",
      "                        Jammu and Kashmir   134827    2018   134827     2018          0           0           1.50\n",
      "                                Jharkhand   130907    1151   130907     1151          0           0           0.88\n",
      "                              Uttarakhand   104711    1741   104711     1741          0           0           1.66\n",
      "                         Himachal Pradesh    66890    1077    66890     1077          0           0           1.61\n",
      "                                      Goa    60229     840    60229      840          0           0           1.39\n",
      "                               Puducherry    43242     687    42949      687        293           0           1.59\n",
      "                                  Tripura    33609     390    33572      390         37           0           1.16\n",
      "                                  Manipur    29443     374    29443      374          0           0           1.27\n",
      "                               Chandigarh    29197     388    29197      388          0           0           1.33\n",
      "                        Arunachal Pradesh    16861      56    16861       56          0           0           0.33\n",
      "                                Meghalaya    14165     151    14140      150         25           1           1.07\n",
      "                                 Nagaland    12376      91    12376       91          0           0           0.74\n",
      "                                   Ladakh    10412     130    10412      130          0           0           1.25\n",
      "                                   Sikkim     6317     136     6317      136          0           0           2.15\n",
      "              Andaman and Nicobar Islands     5131      62     5131       62          0           0           1.21\n",
      "                                  Mizoram     4522      11     4508       11         14           0           0.24\n",
      " Dadra and Nagar Haveli and Daman and Diu     3762       2     3762        2          0           0           0.05\n",
      "                              Lakshadweep      770       1      770        1          0           0           0.13\n"
     ]
    }
   ],
   "source": [
    "#hide_input\n",
    "print(df_table.to_string(index=False))"
   ]
  },
  {
   "cell_type": "code",
   "execution_count": null,
   "id": "quantitative-legend",
   "metadata": {
    "papermill": {
     "duration": 0.022687,
     "end_time": "2021-04-08T12:40:03.725231",
     "exception": false,
     "start_time": "2021-04-08T12:40:03.702544",
     "status": "completed"
    },
    "tags": []
   },
   "outputs": [],
   "source": []
  },
  {
   "cell_type": "code",
   "execution_count": null,
   "id": "distant-acoustic",
   "metadata": {
    "papermill": {
     "duration": 0.022719,
     "end_time": "2021-04-08T12:40:03.770781",
     "exception": false,
     "start_time": "2021-04-08T12:40:03.748062",
     "status": "completed"
    },
    "tags": []
   },
   "outputs": [],
   "source": []
  }
 ],
 "metadata": {
  "kernelspec": {
   "display_name": "Python 3",
   "language": "python",
   "name": "python3"
  },
  "language_info": {
   "codemirror_mode": {
    "name": "ipython",
    "version": 3
   },
   "file_extension": ".py",
   "mimetype": "text/x-python",
   "name": "python",
   "nbconvert_exporter": "python",
   "pygments_lexer": "ipython3",
   "version": "3.6.13"
  },
  "papermill": {
   "duration": 19.910748,
   "end_time": "2021-04-08T12:40:04.502197",
   "environment_variables": {},
   "exception": null,
   "input_path": "latest.ipynb",
   "output_path": "latest.ipynb",
   "parameters": {},
   "start_time": "2021-04-08T12:39:44.591449",
   "version": "2.1.2"
  }
 },
 "nbformat": 4,
 "nbformat_minor": 5
}