{
 "cells": [
  {
   "cell_type": "markdown",
   "metadata": {
    "papermill": {
     "duration": 0.019872,
     "end_time": "2020-09-20T06:37:54.457392",
     "exception": false,
     "start_time": "2020-09-20T06:37:54.437520",
     "status": "completed"
    },
    "tags": []
   },
   "source": [
    "# Latest COVID-19 India Matplotlib Overview"
   ]
  },
  {
   "cell_type": "code",
   "execution_count": 1,
   "metadata": {
    "execution": {
     "iopub.execute_input": "2020-09-20T06:37:54.497926Z",
     "iopub.status.busy": "2020-09-20T06:37:54.497078Z",
     "iopub.status.idle": "2020-09-20T06:37:55.107777Z",
     "shell.execute_reply": "2020-09-20T06:37:55.106668Z"
    },
    "papermill": {
     "duration": 0.633471,
     "end_time": "2020-09-20T06:37:55.107967",
     "exception": false,
     "start_time": "2020-09-20T06:37:54.474496",
     "status": "completed"
    },
    "tags": []
   },
   "outputs": [],
   "source": [
    "#hide\n",
    "import pandas as pd\n",
    "import numpy as np\n",
    "import requests\n",
    "import json\n",
    "import matplotlib.pyplot as plt\n",
    "import matplotlib.dates as mdates\n",
    "import matplotlib as mpl\n",
    "from IPython.core.display import display,HTML\n",
    "%matplotlib inline\n",
    "from datetime import date"
   ]
  },
  {
   "cell_type": "code",
   "execution_count": 2,
   "metadata": {
    "execution": {
     "iopub.execute_input": "2020-09-20T06:37:55.147153Z",
     "iopub.status.busy": "2020-09-20T06:37:55.146244Z",
     "iopub.status.idle": "2020-09-20T06:37:55.321610Z",
     "shell.execute_reply": "2020-09-20T06:37:55.320976Z"
    },
    "papermill": {
     "duration": 0.198264,
     "end_time": "2020-09-20T06:37:55.321750",
     "exception": false,
     "start_time": "2020-09-20T06:37:55.123486",
     "status": "completed"
    },
    "tags": []
   },
   "outputs": [],
   "source": [
    "#hide\n",
    "df  = pd.read_csv('https://api.covid19india.org/csv/latest/states.csv')\n",
    "df = df[['Date','State','Confirmed','Deceased']]\n",
    "df = df.rename(columns={'Confirmed':'Cases', \"Deceased\":'Deaths'})\n",
    "df_cases = df[[\"Date\",'State','Cases']]\n",
    "df_deaths = df[['Date','State','Deaths']]\n",
    "df_cases1 = df_cases.groupby('Date')\n",
    "df_deaths1= df_deaths.groupby('Date')"
   ]
  },
  {
   "cell_type": "code",
   "execution_count": 3,
   "metadata": {
    "execution": {
     "iopub.execute_input": "2020-09-20T06:37:55.361938Z",
     "iopub.status.busy": "2020-09-20T06:37:55.361319Z",
     "iopub.status.idle": "2020-09-20T06:37:55.380227Z",
     "shell.execute_reply": "2020-09-20T06:37:55.379772Z"
    },
    "papermill": {
     "duration": 0.041964,
     "end_time": "2020-09-20T06:37:55.380347",
     "exception": false,
     "start_time": "2020-09-20T06:37:55.338383",
     "status": "completed"
    },
    "tags": []
   },
   "outputs": [],
   "source": [
    "#hide\n",
    "df_snap = pd.read_csv('data/SnapshotCases-28-July.csv')\n",
    "arr_states = df_snap['states'].unique()\n",
    "arr_dates = df['Date'].unique()\n",
    "df_snap = df_snap.set_index('states')"
   ]
  },
  {
   "cell_type": "code",
   "execution_count": 4,
   "metadata": {
    "execution": {
     "iopub.execute_input": "2020-09-20T06:37:55.419387Z",
     "iopub.status.busy": "2020-09-20T06:37:55.418798Z",
     "iopub.status.idle": "2020-09-20T06:37:55.422020Z",
     "shell.execute_reply": "2020-09-20T06:37:55.421537Z"
    },
    "papermill": {
     "duration": 0.024919,
     "end_time": "2020-09-20T06:37:55.422140",
     "exception": false,
     "start_time": "2020-09-20T06:37:55.397221",
     "status": "completed"
    },
    "tags": []
   },
   "outputs": [
    {
     "data": {
      "text/plain": [
       "array(['Andaman and Nicobar Islands', 'Andhra Pradesh',\n",
       "       'Arunachal Pradesh', 'Assam', 'Bihar', 'Chandigarh',\n",
       "       'Dadra and Nagar Haveli and Daman and Diu', 'Delhi', 'Goa',\n",
       "       'Gujarat', 'Haryana', 'Himachal Pradesh', 'Jammu and Kashmir',\n",
       "       'Jharkhand', 'Karnataka', 'Kerala', 'Lakshadweep',\n",
       "       'Madhya Pradesh', 'Maharashtra', 'Manipur', 'Meghalaya', 'Mizoram',\n",
       "       'Nagaland', 'Odisha', 'Puducherry', 'Punjab', 'Rajasthan',\n",
       "       'Sikkim', 'Tamil Nadu', 'Telangana', 'Tripura', 'Uttar Pradesh',\n",
       "       'West Bengal', 'Chhattisgarh', 'Ladakh', 'Uttarakhand'],\n",
       "      dtype=object)"
      ]
     },
     "execution_count": 4,
     "metadata": {},
     "output_type": "execute_result"
    }
   ],
   "source": [
    "#hide\n",
    "arr_states[-9] = 'Puducherry'\n",
    "arr_states[-10] = 'Odisha'\n",
    "arr_states[6] = 'Dadra and Nagar Haveli and Daman and Diu'\n",
    "arr_states = np.append(arr_states,np.array(['Chhattisgarh','Ladakh','Uttarakhand']))\n",
    "arr_states"
   ]
  },
  {
   "cell_type": "code",
   "execution_count": 5,
   "metadata": {
    "execution": {
     "iopub.execute_input": "2020-09-20T06:37:55.462037Z",
     "iopub.status.busy": "2020-09-20T06:37:55.461215Z",
     "iopub.status.idle": "2020-09-20T06:37:55.471707Z",
     "shell.execute_reply": "2020-09-20T06:37:55.471072Z"
    },
    "papermill": {
     "duration": 0.034578,
     "end_time": "2020-09-20T06:37:55.471819",
     "exception": false,
     "start_time": "2020-09-20T06:37:55.437241",
     "status": "completed"
    },
    "tags": []
   },
   "outputs": [],
   "source": [
    "#hide\n",
    "dates = []\n",
    "for i in arr_dates:\n",
    "    if i>='2020-07-01':\n",
    "        dates.append(i)\n",
    "dict = {'states':dates}\n",
    "for i in arr_states:\n",
    "    dict[i] = [0]*len(dates)\n",
    "dft_cases = pd.DataFrame(dict)\n",
    "dft_deaths = pd.DataFrame(dict)\n"
   ]
  },
  {
   "cell_type": "code",
   "execution_count": 6,
   "metadata": {
    "execution": {
     "iopub.execute_input": "2020-09-20T06:37:55.512401Z",
     "iopub.status.busy": "2020-09-20T06:37:55.511746Z",
     "iopub.status.idle": "2020-09-20T06:37:56.961083Z",
     "shell.execute_reply": "2020-09-20T06:37:56.960461Z"
    },
    "papermill": {
     "duration": 1.473231,
     "end_time": "2020-09-20T06:37:56.961252",
     "exception": false,
     "start_time": "2020-09-20T06:37:55.488021",
     "status": "completed"
    },
    "tags": []
   },
   "outputs": [],
   "source": [
    "#hide\n",
    "for i in range(len(dates)):\n",
    "    df1_deaths = df_deaths1.get_group(dates[i])\n",
    "    for j in range(len(df1_deaths.index)):\n",
    "        if df1_deaths.iloc[j,1] in arr_states:\n",
    "            dft_deaths.loc[i,df1_deaths.iloc[j,1]] = df1_deaths.iloc[j,2]\n",
    "dft_deaths = dft_deaths.set_index('states')"
   ]
  },
  {
   "cell_type": "code",
   "execution_count": 7,
   "metadata": {
    "execution": {
     "iopub.execute_input": "2020-09-20T06:37:56.999982Z",
     "iopub.status.busy": "2020-09-20T06:37:56.999394Z",
     "iopub.status.idle": "2020-09-20T06:37:58.458751Z",
     "shell.execute_reply": "2020-09-20T06:37:58.458208Z"
    },
    "papermill": {
     "duration": 1.481722,
     "end_time": "2020-09-20T06:37:58.458880",
     "exception": false,
     "start_time": "2020-09-20T06:37:56.977158",
     "status": "completed"
    },
    "tags": []
   },
   "outputs": [],
   "source": [
    "#hide\n",
    "for i in range(len(dates)):\n",
    "    df1_cases = df_cases1.get_group(dates[i])\n",
    "    for j in range(len(df1_cases.index)):\n",
    "        if df1_cases.iloc[j,1] in arr_states:\n",
    "            dft_cases.loc[i,df1_cases.iloc[j,1]] = df1_cases.iloc[j,2]\n",
    "dft_cases = dft_cases.set_index('states')"
   ]
  },
  {
   "cell_type": "code",
   "execution_count": 8,
   "metadata": {
    "execution": {
     "iopub.execute_input": "2020-09-20T06:37:58.497247Z",
     "iopub.status.busy": "2020-09-20T06:37:58.496426Z",
     "iopub.status.idle": "2020-09-20T06:37:58.499904Z",
     "shell.execute_reply": "2020-09-20T06:37:58.500368Z"
    },
    "papermill": {
     "duration": 0.024922,
     "end_time": "2020-09-20T06:37:58.500509",
     "exception": false,
     "start_time": "2020-09-20T06:37:58.475587",
     "status": "completed"
    },
    "tags": []
   },
   "outputs": [],
   "source": [
    "#hide\n",
    "dft_cases = dft_cases.T\n",
    "dft_deaths = dft_deaths.T\n",
    "dt_today = dates[-1]\n",
    "dt_yday = dates[-2]"
   ]
  },
  {
   "cell_type": "code",
   "execution_count": 9,
   "metadata": {
    "execution": {
     "iopub.execute_input": "2020-09-20T06:37:58.542348Z",
     "iopub.status.busy": "2020-09-20T06:37:58.541681Z",
     "iopub.status.idle": "2020-09-20T06:37:58.546007Z",
     "shell.execute_reply": "2020-09-20T06:37:58.545416Z"
    },
    "papermill": {
     "duration": 0.028926,
     "end_time": "2020-09-20T06:37:58.546132",
     "exception": false,
     "start_time": "2020-09-20T06:37:58.517206",
     "status": "completed"
    },
    "tags": []
   },
   "outputs": [],
   "source": [
    "#hide\n",
    "dft_cases = dft_cases.reset_index()\n",
    "dft_deaths = dft_deaths.reset_index()\n",
    "dft_cases = dft_cases.rename(columns = {'index':'state'})\n",
    "dft_deaths = dft_deaths.rename(columns = {'index':'state'})"
   ]
  },
  {
   "cell_type": "code",
   "execution_count": 10,
   "metadata": {
    "execution": {
     "iopub.execute_input": "2020-09-20T06:37:58.591833Z",
     "iopub.status.busy": "2020-09-20T06:37:58.591187Z",
     "iopub.status.idle": "2020-09-20T06:37:58.595342Z",
     "shell.execute_reply": "2020-09-20T06:37:58.594870Z"
    },
    "papermill": {
     "duration": 0.032185,
     "end_time": "2020-09-20T06:37:58.595464",
     "exception": false,
     "start_time": "2020-09-20T06:37:58.563279",
     "status": "completed"
    },
    "tags": []
   },
   "outputs": [],
   "source": [
    "#hide\n",
    "dfc_cases = dft_cases.groupby('state')[dt_today].sum()\n",
    "dfc_deaths = dft_deaths.groupby('state')[dt_today].sum()\n",
    "dfp_cases = dft_cases.groupby('state')[dt_yday].sum()\n",
    "dfp_deaths = dft_deaths.groupby('state')[dt_yday].sum()"
   ]
  },
  {
   "cell_type": "code",
   "execution_count": 11,
   "metadata": {
    "execution": {
     "iopub.execute_input": "2020-09-20T06:37:58.646398Z",
     "iopub.status.busy": "2020-09-20T06:37:58.645751Z",
     "iopub.status.idle": "2020-09-20T06:37:58.648367Z",
     "shell.execute_reply": "2020-09-20T06:37:58.649052Z"
    },
    "papermill": {
     "duration": 0.037608,
     "end_time": "2020-09-20T06:37:58.649192",
     "exception": false,
     "start_time": "2020-09-20T06:37:58.611584",
     "status": "completed"
    },
    "tags": []
   },
   "outputs": [
    {
     "data": {
      "text/html": [
       "<div>\n",
       "<style scoped>\n",
       "    .dataframe tbody tr th:only-of-type {\n",
       "        vertical-align: middle;\n",
       "    }\n",
       "\n",
       "    .dataframe tbody tr th {\n",
       "        vertical-align: top;\n",
       "    }\n",
       "\n",
       "    .dataframe thead th {\n",
       "        text-align: right;\n",
       "    }\n",
       "</style>\n",
       "<table border=\"1\" class=\"dataframe\">\n",
       "  <thead>\n",
       "    <tr style=\"text-align: right;\">\n",
       "      <th></th>\n",
       "      <th>states</th>\n",
       "      <th>Cases</th>\n",
       "      <th>Deaths</th>\n",
       "      <th>PCases</th>\n",
       "      <th>PDeaths</th>\n",
       "    </tr>\n",
       "  </thead>\n",
       "  <tbody>\n",
       "    <tr>\n",
       "      <th>0</th>\n",
       "      <td>Maharashtra</td>\n",
       "      <td>1188015</td>\n",
       "      <td>32216</td>\n",
       "      <td>1188015</td>\n",
       "      <td>32216</td>\n",
       "    </tr>\n",
       "    <tr>\n",
       "      <th>1</th>\n",
       "      <td>Andhra Pradesh</td>\n",
       "      <td>617776</td>\n",
       "      <td>5302</td>\n",
       "      <td>617776</td>\n",
       "      <td>5302</td>\n",
       "    </tr>\n",
       "    <tr>\n",
       "      <th>2</th>\n",
       "      <td>Tamil Nadu</td>\n",
       "      <td>536477</td>\n",
       "      <td>8751</td>\n",
       "      <td>536477</td>\n",
       "      <td>8751</td>\n",
       "    </tr>\n",
       "    <tr>\n",
       "      <th>3</th>\n",
       "      <td>Karnataka</td>\n",
       "      <td>511346</td>\n",
       "      <td>7922</td>\n",
       "      <td>511346</td>\n",
       "      <td>7922</td>\n",
       "    </tr>\n",
       "    <tr>\n",
       "      <th>4</th>\n",
       "      <td>Uttar Pradesh</td>\n",
       "      <td>348517</td>\n",
       "      <td>4953</td>\n",
       "      <td>348517</td>\n",
       "      <td>4953</td>\n",
       "    </tr>\n",
       "  </tbody>\n",
       "</table>\n",
       "</div>"
      ],
      "text/plain": [
       "           states    Cases  Deaths   PCases  PDeaths\n",
       "0     Maharashtra  1188015   32216  1188015    32216\n",
       "1  Andhra Pradesh   617776    5302   617776     5302\n",
       "2      Tamil Nadu   536477    8751   536477     8751\n",
       "3       Karnataka   511346    7922   511346     7922\n",
       "4   Uttar Pradesh   348517    4953   348517     4953"
      ]
     },
     "execution_count": 11,
     "metadata": {},
     "output_type": "execute_result"
    }
   ],
   "source": [
    "#hide\n",
    "df_table = pd.DataFrame({'states': dfc_cases.index, 'Cases': dfc_cases.values, 'Deaths': dfc_deaths.values, 'PCases': dfp_cases.values, 'PDeaths': dfp_deaths.values}).set_index('states')\n",
    "df_table = df_table.sort_values(by = ['Cases','Deaths'], ascending = [False, False])\n",
    "df_table = df_table.reset_index()\n",
    "df_table.head()"
   ]
  },
  {
   "cell_type": "code",
   "execution_count": 12,
   "metadata": {
    "execution": {
     "iopub.execute_input": "2020-09-20T06:37:58.689667Z",
     "iopub.status.busy": "2020-09-20T06:37:58.689017Z",
     "iopub.status.idle": "2020-09-20T06:37:58.697897Z",
     "shell.execute_reply": "2020-09-20T06:37:58.698441Z"
    },
    "papermill": {
     "duration": 0.032489,
     "end_time": "2020-09-20T06:37:58.698580",
     "exception": false,
     "start_time": "2020-09-20T06:37:58.666091",
     "status": "completed"
    },
    "tags": []
   },
   "outputs": [],
   "source": [
    "#hide\n",
    "for c in 'Cases, Deaths'.split(', '):\n",
    "    df_table[f'{c} (+)'] = (df_table[c] - df_table[f'P{c}']).clip(0)\n",
    "df_table['Fatality Rate'] = (100* df_table['Deaths']/ df_table['Cases']).round(2)"
   ]
  },
  {
   "cell_type": "code",
   "execution_count": 13,
   "metadata": {
    "execution": {
     "iopub.execute_input": "2020-09-20T06:37:58.743045Z",
     "iopub.status.busy": "2020-09-20T06:37:58.742178Z",
     "iopub.status.idle": "2020-09-20T06:37:58.746556Z",
     "shell.execute_reply": "2020-09-20T06:37:58.745935Z"
    },
    "papermill": {
     "duration": 0.031517,
     "end_time": "2020-09-20T06:37:58.746671",
     "exception": false,
     "start_time": "2020-09-20T06:37:58.715154",
     "status": "completed"
    },
    "tags": []
   },
   "outputs": [
    {
     "data": {
      "text/html": [
       "<div>\n",
       "<style scoped>\n",
       "    .dataframe tbody tr th:only-of-type {\n",
       "        vertical-align: middle;\n",
       "    }\n",
       "\n",
       "    .dataframe tbody tr th {\n",
       "        vertical-align: top;\n",
       "    }\n",
       "\n",
       "    .dataframe thead th {\n",
       "        text-align: right;\n",
       "    }\n",
       "</style>\n",
       "<table border=\"1\" class=\"dataframe\">\n",
       "  <thead>\n",
       "    <tr style=\"text-align: right;\">\n",
       "      <th></th>\n",
       "      <th>states</th>\n",
       "      <th>Cases</th>\n",
       "      <th>Deaths</th>\n",
       "      <th>PCases</th>\n",
       "      <th>PDeaths</th>\n",
       "      <th>Cases (+)</th>\n",
       "      <th>Deaths (+)</th>\n",
       "      <th>Fatality Rate</th>\n",
       "    </tr>\n",
       "  </thead>\n",
       "  <tbody>\n",
       "    <tr>\n",
       "      <th>0</th>\n",
       "      <td>Maharashtra</td>\n",
       "      <td>1188015</td>\n",
       "      <td>32216</td>\n",
       "      <td>1188015</td>\n",
       "      <td>32216</td>\n",
       "      <td>0</td>\n",
       "      <td>0</td>\n",
       "      <td>2.71</td>\n",
       "    </tr>\n",
       "    <tr>\n",
       "      <th>1</th>\n",
       "      <td>Andhra Pradesh</td>\n",
       "      <td>617776</td>\n",
       "      <td>5302</td>\n",
       "      <td>617776</td>\n",
       "      <td>5302</td>\n",
       "      <td>0</td>\n",
       "      <td>0</td>\n",
       "      <td>0.86</td>\n",
       "    </tr>\n",
       "    <tr>\n",
       "      <th>2</th>\n",
       "      <td>Tamil Nadu</td>\n",
       "      <td>536477</td>\n",
       "      <td>8751</td>\n",
       "      <td>536477</td>\n",
       "      <td>8751</td>\n",
       "      <td>0</td>\n",
       "      <td>0</td>\n",
       "      <td>1.63</td>\n",
       "    </tr>\n",
       "    <tr>\n",
       "      <th>3</th>\n",
       "      <td>Karnataka</td>\n",
       "      <td>511346</td>\n",
       "      <td>7922</td>\n",
       "      <td>511346</td>\n",
       "      <td>7922</td>\n",
       "      <td>0</td>\n",
       "      <td>0</td>\n",
       "      <td>1.55</td>\n",
       "    </tr>\n",
       "    <tr>\n",
       "      <th>4</th>\n",
       "      <td>Uttar Pradesh</td>\n",
       "      <td>348517</td>\n",
       "      <td>4953</td>\n",
       "      <td>348517</td>\n",
       "      <td>4953</td>\n",
       "      <td>0</td>\n",
       "      <td>0</td>\n",
       "      <td>1.42</td>\n",
       "    </tr>\n",
       "  </tbody>\n",
       "</table>\n",
       "</div>"
      ],
      "text/plain": [
       "           states    Cases  Deaths   PCases  PDeaths  Cases (+)  Deaths (+)  \\\n",
       "0     Maharashtra  1188015   32216  1188015    32216          0           0   \n",
       "1  Andhra Pradesh   617776    5302   617776     5302          0           0   \n",
       "2      Tamil Nadu   536477    8751   536477     8751          0           0   \n",
       "3       Karnataka   511346    7922   511346     7922          0           0   \n",
       "4   Uttar Pradesh   348517    4953   348517     4953          0           0   \n",
       "\n",
       "   Fatality Rate  \n",
       "0           2.71  \n",
       "1           0.86  \n",
       "2           1.63  \n",
       "3           1.55  \n",
       "4           1.42  "
      ]
     },
     "execution_count": 13,
     "metadata": {},
     "output_type": "execute_result"
    }
   ],
   "source": [
    "#hide\n",
    "df_table.head()"
   ]
  },
  {
   "cell_type": "code",
   "execution_count": 14,
   "metadata": {
    "execution": {
     "iopub.execute_input": "2020-09-20T06:37:58.786320Z",
     "iopub.status.busy": "2020-09-20T06:37:58.785754Z",
     "iopub.status.idle": "2020-09-20T06:37:58.802663Z",
     "shell.execute_reply": "2020-09-20T06:37:58.803183Z"
    },
    "papermill": {
     "duration": 0.039876,
     "end_time": "2020-09-20T06:37:58.803311",
     "exception": false,
     "start_time": "2020-09-20T06:37:58.763435",
     "status": "completed"
    },
    "tags": []
   },
   "outputs": [
    {
     "data": {
      "text/plain": [
       "{'updated': '2020-09-20',\n",
       " 'since': '2020-09-19',\n",
       " 'Cases': 5400922,\n",
       " 'PCases': 5398230,\n",
       " 'Deaths': 86786,\n",
       " 'PDeaths': 86774,\n",
       " 'Cases (+)': 2692,\n",
       " 'Deaths (+)': 12}"
      ]
     },
     "execution_count": 14,
     "metadata": {},
     "output_type": "execute_result"
    }
   ],
   "source": [
    "#hide\n",
    "summary = {'updated':dates[-1], 'since':dates[-2]}\n",
    "list_names = ['Cases', 'PCases', 'Deaths', 'PDeaths', 'Cases (+)', 'Deaths (+)']\n",
    "for name in list_names:\n",
    "    summary[name] = df_table.sum()[name]\n",
    "summary"
   ]
  },
  {
   "cell_type": "code",
   "execution_count": 15,
   "metadata": {
    "execution": {
     "iopub.execute_input": "2020-09-20T06:37:58.843946Z",
     "iopub.status.busy": "2020-09-20T06:37:58.843287Z",
     "iopub.status.idle": "2020-09-20T06:37:58.845708Z",
     "shell.execute_reply": "2020-09-20T06:37:58.845176Z"
    },
    "papermill": {
     "duration": 0.025093,
     "end_time": "2020-09-20T06:37:58.845834",
     "exception": false,
     "start_time": "2020-09-20T06:37:58.820741",
     "status": "completed"
    },
    "tags": []
   },
   "outputs": [],
   "source": [
    "#hide\n",
    "overview = '''\n",
    "<!-- #######  HTML!! #########-->\n",
    "<h1 style=\"color: #5e9ca0; text-align: center;\">India</h1>\n",
    "<p style=\"text-align: center;\">Last update: <strong>{update}</strong></p>\n",
    "<p style=\"text-align: center;\">Confirmed cases:</p>\n",
    "<p style=\"text-align: center;font-size:24px;\">{cases} (<span style=\"color: #ff0000;\">+{new}</span>)</p>\n",
    "<p style=\"text-align: center;\">Confirmed deaths:</p>\n",
    "<p style=\"text-align: center;font-size:24px;\">{deaths} (<span style=\"color: #ff0000;\">+{dnew}</span>)</p>\n",
    "'''"
   ]
  },
  {
   "cell_type": "code",
   "execution_count": 16,
   "metadata": {
    "execution": {
     "iopub.execute_input": "2020-09-20T06:37:58.888085Z",
     "iopub.status.busy": "2020-09-20T06:37:58.887425Z",
     "iopub.status.idle": "2020-09-20T06:37:58.890310Z",
     "shell.execute_reply": "2020-09-20T06:37:58.890840Z"
    },
    "papermill": {
     "duration": 0.027274,
     "end_time": "2020-09-20T06:37:58.890979",
     "exception": false,
     "start_time": "2020-09-20T06:37:58.863705",
     "status": "completed"
    },
    "tags": []
   },
   "outputs": [
    {
     "data": {
      "text/html": [
       "\n",
       "<!-- #######  HTML!! #########-->\n",
       "<h1 style=\"color: #5e9ca0; text-align: center;\">India</h1>\n",
       "<p style=\"text-align: center;\">Last update: <strong>2020-09-20</strong></p>\n",
       "<p style=\"text-align: center;\">Confirmed cases:</p>\n",
       "<p style=\"text-align: center;font-size:24px;\">5400922 (<span style=\"color: #ff0000;\">+2692</span>)</p>\n",
       "<p style=\"text-align: center;\">Confirmed deaths:</p>\n",
       "<p style=\"text-align: center;font-size:24px;\">86786 (<span style=\"color: #ff0000;\">+12</span>)</p>\n"
      ],
      "text/plain": [
       "<IPython.core.display.HTML object>"
      ]
     },
     "metadata": {},
     "output_type": "display_data"
    }
   ],
   "source": [
    "#hide_input\n",
    "update = summary['updated']\n",
    "cases = summary['Cases']\n",
    "new = summary['Cases (+)']\n",
    "deaths = summary['Deaths']\n",
    "dnew = summary['Deaths (+)']\n",
    "\n",
    "html = HTML(overview.format(update=update, cases=cases,new=new,deaths=deaths,dnew=dnew))\n",
    "\n",
    "display(html)"
   ]
  },
  {
   "cell_type": "code",
   "execution_count": 17,
   "metadata": {
    "execution": {
     "iopub.execute_input": "2020-09-20T06:37:58.937253Z",
     "iopub.status.busy": "2020-09-20T06:37:58.936591Z",
     "iopub.status.idle": "2020-09-20T06:37:58.942592Z",
     "shell.execute_reply": "2020-09-20T06:37:58.943168Z"
    },
    "papermill": {
     "duration": 0.034821,
     "end_time": "2020-09-20T06:37:58.943340",
     "exception": false,
     "start_time": "2020-09-20T06:37:58.908519",
     "status": "completed"
    },
    "tags": []
   },
   "outputs": [],
   "source": [
    "#hide\n",
    "dt_cols = list(dft_cases.columns[1:])\n",
    "dft_ct_new_cases = dft_cases.groupby('state')[dt_cols].sum().diff(axis=1).fillna(0).astype(int)\n",
    "dft_ct_new_cases.sort_values(by = dates[-1], ascending = False,inplace = True)"
   ]
  },
  {
   "cell_type": "code",
   "execution_count": 18,
   "metadata": {
    "execution": {
     "iopub.execute_input": "2020-09-20T06:37:58.999095Z",
     "iopub.status.busy": "2020-09-20T06:37:58.998495Z",
     "iopub.status.idle": "2020-09-20T06:37:59.001827Z",
     "shell.execute_reply": "2020-09-20T06:37:59.001164Z"
    },
    "papermill": {
     "duration": 0.039304,
     "end_time": "2020-09-20T06:37:59.001944",
     "exception": false,
     "start_time": "2020-09-20T06:37:58.962640",
     "status": "completed"
    },
    "tags": []
   },
   "outputs": [
    {
     "data": {
      "text/html": [
       "<div>\n",
       "<style scoped>\n",
       "    .dataframe tbody tr th:only-of-type {\n",
       "        vertical-align: middle;\n",
       "    }\n",
       "\n",
       "    .dataframe tbody tr th {\n",
       "        vertical-align: top;\n",
       "    }\n",
       "\n",
       "    .dataframe thead th {\n",
       "        text-align: right;\n",
       "    }\n",
       "</style>\n",
       "<table border=\"1\" class=\"dataframe\">\n",
       "  <thead>\n",
       "    <tr style=\"text-align: right;\">\n",
       "      <th>states</th>\n",
       "      <th>2020-07-01</th>\n",
       "      <th>2020-07-02</th>\n",
       "      <th>2020-07-03</th>\n",
       "      <th>2020-07-04</th>\n",
       "      <th>2020-07-05</th>\n",
       "      <th>2020-07-06</th>\n",
       "      <th>2020-07-07</th>\n",
       "      <th>2020-07-08</th>\n",
       "      <th>2020-07-09</th>\n",
       "      <th>2020-07-10</th>\n",
       "      <th>...</th>\n",
       "      <th>2020-09-11</th>\n",
       "      <th>2020-09-12</th>\n",
       "      <th>2020-09-13</th>\n",
       "      <th>2020-09-14</th>\n",
       "      <th>2020-09-15</th>\n",
       "      <th>2020-09-16</th>\n",
       "      <th>2020-09-17</th>\n",
       "      <th>2020-09-18</th>\n",
       "      <th>2020-09-19</th>\n",
       "      <th>2020-09-20</th>\n",
       "    </tr>\n",
       "    <tr>\n",
       "      <th>state</th>\n",
       "      <th></th>\n",
       "      <th></th>\n",
       "      <th></th>\n",
       "      <th></th>\n",
       "      <th></th>\n",
       "      <th></th>\n",
       "      <th></th>\n",
       "      <th></th>\n",
       "      <th></th>\n",
       "      <th></th>\n",
       "      <th></th>\n",
       "      <th></th>\n",
       "      <th></th>\n",
       "      <th></th>\n",
       "      <th></th>\n",
       "      <th></th>\n",
       "      <th></th>\n",
       "      <th></th>\n",
       "      <th></th>\n",
       "      <th></th>\n",
       "      <th></th>\n",
       "    </tr>\n",
       "  </thead>\n",
       "  <tbody>\n",
       "    <tr>\n",
       "      <th>Telangana</th>\n",
       "      <td>0</td>\n",
       "      <td>1213</td>\n",
       "      <td>1892</td>\n",
       "      <td>1850</td>\n",
       "      <td>1590</td>\n",
       "      <td>1831</td>\n",
       "      <td>1879</td>\n",
       "      <td>1924</td>\n",
       "      <td>1410</td>\n",
       "      <td>1278</td>\n",
       "      <td>...</td>\n",
       "      <td>2426</td>\n",
       "      <td>2278</td>\n",
       "      <td>2216</td>\n",
       "      <td>1417</td>\n",
       "      <td>2058</td>\n",
       "      <td>2273</td>\n",
       "      <td>2159</td>\n",
       "      <td>2043</td>\n",
       "      <td>2123</td>\n",
       "      <td>2137</td>\n",
       "    </tr>\n",
       "    <tr>\n",
       "      <th>Tripura</th>\n",
       "      <td>0</td>\n",
       "      <td>39</td>\n",
       "      <td>93</td>\n",
       "      <td>25</td>\n",
       "      <td>23</td>\n",
       "      <td>111</td>\n",
       "      <td>24</td>\n",
       "      <td>57</td>\n",
       "      <td>16</td>\n",
       "      <td>142</td>\n",
       "      <td>...</td>\n",
       "      <td>559</td>\n",
       "      <td>470</td>\n",
       "      <td>629</td>\n",
       "      <td>255</td>\n",
       "      <td>531</td>\n",
       "      <td>454</td>\n",
       "      <td>527</td>\n",
       "      <td>273</td>\n",
       "      <td>535</td>\n",
       "      <td>525</td>\n",
       "    </tr>\n",
       "    <tr>\n",
       "      <th>Mizoram</th>\n",
       "      <td>0</td>\n",
       "      <td>2</td>\n",
       "      <td>0</td>\n",
       "      <td>2</td>\n",
       "      <td>22</td>\n",
       "      <td>11</td>\n",
       "      <td>1</td>\n",
       "      <td>5</td>\n",
       "      <td>0</td>\n",
       "      <td>23</td>\n",
       "      <td>...</td>\n",
       "      <td>20</td>\n",
       "      <td>26</td>\n",
       "      <td>35</td>\n",
       "      <td>14</td>\n",
       "      <td>40</td>\n",
       "      <td>12</td>\n",
       "      <td>26</td>\n",
       "      <td>28</td>\n",
       "      <td>14</td>\n",
       "      <td>30</td>\n",
       "    </tr>\n",
       "    <tr>\n",
       "      <th>Andaman and Nicobar Islands</th>\n",
       "      <td>0</td>\n",
       "      <td>9</td>\n",
       "      <td>7</td>\n",
       "      <td>3</td>\n",
       "      <td>6</td>\n",
       "      <td>16</td>\n",
       "      <td>6</td>\n",
       "      <td>2</td>\n",
       "      <td>7</td>\n",
       "      <td>0</td>\n",
       "      <td>...</td>\n",
       "      <td>29</td>\n",
       "      <td>27</td>\n",
       "      <td>25</td>\n",
       "      <td>11</td>\n",
       "      <td>17</td>\n",
       "      <td>19</td>\n",
       "      <td>11</td>\n",
       "      <td>27</td>\n",
       "      <td>13</td>\n",
       "      <td>0</td>\n",
       "    </tr>\n",
       "    <tr>\n",
       "      <th>Puducherry</th>\n",
       "      <td>0</td>\n",
       "      <td>63</td>\n",
       "      <td>22</td>\n",
       "      <td>80</td>\n",
       "      <td>42</td>\n",
       "      <td>65</td>\n",
       "      <td>30</td>\n",
       "      <td>110</td>\n",
       "      <td>49</td>\n",
       "      <td>72</td>\n",
       "      <td>...</td>\n",
       "      <td>490</td>\n",
       "      <td>419</td>\n",
       "      <td>388</td>\n",
       "      <td>393</td>\n",
       "      <td>375</td>\n",
       "      <td>510</td>\n",
       "      <td>317</td>\n",
       "      <td>485</td>\n",
       "      <td>543</td>\n",
       "      <td>0</td>\n",
       "    </tr>\n",
       "  </tbody>\n",
       "</table>\n",
       "<p>5 rows × 82 columns</p>\n",
       "</div>"
      ],
      "text/plain": [
       "states                       2020-07-01  2020-07-02  2020-07-03  2020-07-04  \\\n",
       "state                                                                         \n",
       "Telangana                             0        1213        1892        1850   \n",
       "Tripura                               0          39          93          25   \n",
       "Mizoram                               0           2           0           2   \n",
       "Andaman and Nicobar Islands           0           9           7           3   \n",
       "Puducherry                            0          63          22          80   \n",
       "\n",
       "states                       2020-07-05  2020-07-06  2020-07-07  2020-07-08  \\\n",
       "state                                                                         \n",
       "Telangana                          1590        1831        1879        1924   \n",
       "Tripura                              23         111          24          57   \n",
       "Mizoram                              22          11           1           5   \n",
       "Andaman and Nicobar Islands           6          16           6           2   \n",
       "Puducherry                           42          65          30         110   \n",
       "\n",
       "states                       2020-07-09  2020-07-10  ...  2020-09-11  \\\n",
       "state                                                ...               \n",
       "Telangana                          1410        1278  ...        2426   \n",
       "Tripura                              16         142  ...         559   \n",
       "Mizoram                               0          23  ...          20   \n",
       "Andaman and Nicobar Islands           7           0  ...          29   \n",
       "Puducherry                           49          72  ...         490   \n",
       "\n",
       "states                       2020-09-12  2020-09-13  2020-09-14  2020-09-15  \\\n",
       "state                                                                         \n",
       "Telangana                          2278        2216        1417        2058   \n",
       "Tripura                             470         629         255         531   \n",
       "Mizoram                              26          35          14          40   \n",
       "Andaman and Nicobar Islands          27          25          11          17   \n",
       "Puducherry                          419         388         393         375   \n",
       "\n",
       "states                       2020-09-16  2020-09-17  2020-09-18  2020-09-19  \\\n",
       "state                                                                         \n",
       "Telangana                          2273        2159        2043        2123   \n",
       "Tripura                             454         527         273         535   \n",
       "Mizoram                              12          26          28          14   \n",
       "Andaman and Nicobar Islands          19          11          27          13   \n",
       "Puducherry                          510         317         485         543   \n",
       "\n",
       "states                       2020-09-20  \n",
       "state                                    \n",
       "Telangana                          2137  \n",
       "Tripura                             525  \n",
       "Mizoram                              30  \n",
       "Andaman and Nicobar Islands           0  \n",
       "Puducherry                            0  \n",
       "\n",
       "[5 rows x 82 columns]"
      ]
     },
     "execution_count": 18,
     "metadata": {},
     "output_type": "execute_result"
    }
   ],
   "source": [
    "#hide\n",
    "dft_ct_new_cases.head()"
   ]
  },
  {
   "cell_type": "code",
   "execution_count": 19,
   "metadata": {
    "execution": {
     "iopub.execute_input": "2020-09-20T06:37:59.056423Z",
     "iopub.status.busy": "2020-09-20T06:37:59.050953Z",
     "iopub.status.idle": "2020-09-20T06:38:03.553797Z",
     "shell.execute_reply": "2020-09-20T06:38:03.554440Z"
    },
    "papermill": {
     "duration": 4.534747,
     "end_time": "2020-09-20T06:38:03.554947",
     "exception": false,
     "start_time": "2020-09-20T06:37:59.020200",
     "status": "completed"
    },
    "tags": []
   },
   "outputs": [
    {
     "data": {
      "image/png": "[encoded data removed]",
      "text/plain": [
       "<Figure size 1296x2016 with 11 Axes>"
      ]
     },
     "metadata": {
      "needs_background": "light"
     },
     "output_type": "display_data"
    }
   ],
   "source": [
    "#hide_input\n",
    "df = dft_ct_new_cases.copy()\n",
    "df.loc['Total'] = df.sum()\n",
    "n = 5\n",
    "ax = []\n",
    "fig = plt.figure(figsize = (18,28))\n",
    "gs = fig.add_gridspec(n+2, 5)\n",
    "# gs = fig.add_gridspec(2, 3)\n",
    "ax1 = fig.add_subplot(gs[0, :])\n",
    "ef = df.loc['Total'].rename_axis('date').reset_index()\n",
    "ef['date'] = ef['date'].astype('datetime64[ns]')\n",
    "ax1.bar(ef.date,ef.Total,alpha=0.3,color='#007acc')\n",
    "ax1.plot(ef.date,ef.Total , marker=\"o\", color='#007acc')\n",
    "ax1.xaxis.set_major_locator(mdates.WeekdayLocator())\n",
    "ax1.xaxis.set_major_formatter(mdates.DateFormatter('%b %d'))\n",
    "ax1.text(0.02, 0.5,'India daily case count', transform = ax1.transAxes, fontsize=25);\n",
    "ax1.spines['right'].set_visible(False)\n",
    "ax1.spines['top'].set_visible(False)\n",
    "\n",
    "ax2 = fig.add_subplot(gs[1,0])\n",
    "ef = df.loc['Maharashtra'].rename_axis('date').reset_index()\n",
    "ef['date'] = ef['date'].astype('datetime64[ns]')\n",
    "\n",
    "ax2.bar(ef.date, ef.Maharashtra,color = '#007acc',alpha=0.5)\n",
    "ax2.xaxis.set_major_locator(mdates.WeekdayLocator())\n",
    "ax2.xaxis.set_major_formatter(mdates.DateFormatter('%b %d'))\n",
    "ax2.set_xticks(ax2.get_xticks()[::3])\n",
    "maxyval = ef.Maharashtra.max()\n",
    "ax2.set_ylim([0,maxyval])\n",
    "ax2.text(0.05, 0.9,'Maharashtra', transform = ax2.transAxes, fontsize=20);\n",
    "ax2.spines['right'].set_visible(False)\n",
    "ax2.spines['top'].set_visible(False)\n",
    "\n",
    "\n",
    "ax3 = fig.add_subplot(gs[1,1])\n",
    "ef = df.loc['Tamil Nadu'].rename_axis('date').reset_index()\n",
    "ef['date'] = ef['date'].astype('datetime64[ns]')\n",
    "ax3.bar(ef.date, ef['Tamil Nadu'],color = '#007acc',alpha=0.5,)\n",
    "ax3.xaxis.set_major_locator(mdates.WeekdayLocator())\n",
    "ax3.xaxis.set_major_formatter(mdates.DateFormatter('%b %d'))\n",
    "ax3.set_xticks(ax3.get_xticks()[::3])\n",
    "ax3.text(0.05, 0.9,'Tamil Nadu', transform = ax3.transAxes, fontsize=20);\n",
    "ax3.spines['right'].set_visible(False)\n",
    "ax3.spines['top'].set_visible(False)\n",
    "\n",
    "ax5 = fig.add_subplot(gs[1,3])\n",
    "ef = df.loc['Telangana'].rename_axis('date').reset_index()\n",
    "ef['date'] = ef['date'].astype('datetime64[ns]')\n",
    "ax5.bar(ef.date, ef['Telangana'],color = '#007acc',alpha=0.5,)\n",
    "ax5.xaxis.set_major_locator(mdates.WeekdayLocator())\n",
    "ax5.xaxis.set_major_formatter(mdates.DateFormatter('%b %d'))\n",
    "ax5.set_xticks(ax5.get_xticks()[::3])\n",
    "ax5.text(0.05, 0.9,'Telangana', transform = ax5.transAxes, fontsize=20);\n",
    "ax5.spines['right'].set_visible(False)\n",
    "ax5.spines['top'].set_visible(False)\n",
    "\n",
    "ax6 = fig.add_subplot(gs[1,4])\n",
    "ef = df.loc['Andhra Pradesh'].rename_axis('date').reset_index()\n",
    "ef['date'] = ef['date'].astype('datetime64[ns]')\n",
    "ax6.bar(ef.date, ef['Andhra Pradesh'],color = '#007acc',alpha=0.5,)\n",
    "ax6.xaxis.set_major_locator(mdates.WeekdayLocator())\n",
    "ax6.xaxis.set_major_formatter(mdates.DateFormatter('%b %d'))\n",
    "ax6.set_xticks(ax6.get_xticks()[::3])\n",
    "ax6.text(0.05, 1,'Andhra Pradesh', transform = ax6.transAxes, fontsize=20);\n",
    "ax6.spines['right'].set_visible(False)\n",
    "ax6.spines['top'].set_visible(False)\n",
    "\n",
    "ax4 = fig.add_subplot(gs[1,2])\n",
    "ef = df.loc['Delhi'].rename_axis('date').reset_index()\n",
    "ef['date'] = ef['date'].astype('datetime64[ns]')\n",
    "ax4.bar(ef.date, ef.Delhi,color = '#007acc',alpha=0.5)\n",
    "ax4.set_xticks([])\n",
    "ax4.xaxis.set_major_locator(mdates.WeekdayLocator())\n",
    "ax4.xaxis.set_major_formatter(mdates.DateFormatter('%b %d'))\n",
    "ax4.set_xticks(ax4.get_xticks()[::3])\n",
    "ax4.spines['right'].set_visible(False)\n",
    "ax4.spines['top'].set_visible(False)\n",
    "\n",
    "ax4.text(0.05, 1,'Delhi', transform = ax4.transAxes, fontsize=20)\n",
    "\n",
    "for i in range(n):\n",
    "    \n",
    "    ax.append(fig.add_subplot(gs[i+2,:]))\n",
    "    ef = df.iloc[i+3].rename_axis('date').reset_index()\n",
    "    ef['date'] = ef['date'].astype('datetime64[ns]')\n",
    "    ax[i].bar(ef.date,ef.iloc[:,-1],color = '#007acc',alpha=0.3)\n",
    "    ax[i].plot(ef.date,ef.iloc[:,-1],marker='o',color='#007acc')\n",
    "    ax[i].text(0.02,0.5,f'{ef.columns.values[-1]}',transform = ax[i].transAxes, fontsize = 20);\n",
    "    ax[i].xaxis.set_major_locator(mdates.WeekdayLocator())\n",
    "    ax[i].xaxis.set_major_formatter(mdates.DateFormatter('%b %d'))\n",
    "    ax[i].set_ylim([0,7000])\n",
    "    ax[i].spines['right'].set_visible(False)\n",
    "    ax[i].spines['top'].set_visible(False)\n",
    "plt.tight_layout()\n"
   ]
  },
  {
   "cell_type": "code",
   "execution_count": 20,
   "metadata": {
    "execution": {
     "iopub.execute_input": "2020-09-20T06:38:03.607942Z",
     "iopub.status.busy": "2020-09-20T06:38:03.607186Z",
     "iopub.status.idle": "2020-09-20T06:38:03.609745Z",
     "shell.execute_reply": "2020-09-20T06:38:03.610256Z"
    },
    "papermill": {
     "duration": 0.03352,
     "end_time": "2020-09-20T06:38:03.610412",
     "exception": false,
     "start_time": "2020-09-20T06:38:03.576892",
     "status": "completed"
    },
    "tags": []
   },
   "outputs": [
    {
     "name": "stdout",
     "output_type": "stream",
     "text": [
      "                                   states    Cases  Deaths   PCases  PDeaths  Cases (+)  Deaths (+)  Fatality Rate\n",
      "                              Maharashtra  1188015   32216  1188015    32216          0           0           2.71\n",
      "                           Andhra Pradesh   617776    5302   617776     5302          0           0           0.86\n",
      "                               Tamil Nadu   536477    8751   536477     8751          0           0           1.63\n",
      "                                Karnataka   511346    7922   511346     7922          0           0           1.55\n",
      "                            Uttar Pradesh   348517    4953   348517     4953          0           0           1.42\n",
      "                                    Delhi   242899    4945   242899     4945          0           0           2.04\n",
      "                              West Bengal   221960    4298   221960     4298          0           0           1.94\n",
      "                                   Odisha   175550     744   175550      744          0           0           0.42\n",
      "                                Telangana   171306    1033   169169     1025       2137           8           0.60\n",
      "                                    Bihar   166987     861   166987      861          0           0           0.52\n",
      "                                    Assam   155453     548   155453      548          0           0           0.35\n",
      "                                   Kerala   131027     520   131027      520          0           0           0.40\n",
      "                                  Gujarat   121930    3303   121930     3303          0           0           2.71\n",
      "                                Rajasthan   113124    1322   113124     1322          0           0           1.17\n",
      "                                  Haryana   108952    1120   108952     1120          0           0           1.03\n",
      "                           Madhya Pradesh   103065    1943   103065     1943          0           0           1.89\n",
      "                                   Punjab    95529    2757    95529     2757          0           0           2.89\n",
      "                             Chhattisgarh    84234     664    84234      664          0           0           0.79\n",
      "                                Jharkhand    69860     615    69860      615          0           0           0.88\n",
      "                        Jammu and Kashmir    62533     987    62533      987          0           0           1.58\n",
      "                              Uttarakhand    40085     478    40085      478          0           0           1.19\n",
      "                                      Goa    28022     342    28022      342          0           0           1.22\n",
      "                               Puducherry    22456     448    22456      448          0           0           2.00\n",
      "                                  Tripura    22029     239    21504      235        525           4           1.08\n",
      "                         Himachal Pradesh    11908     114    11908      114          0           0           0.96\n",
      "                               Chandigarh     9806     116     9806      116          0           0           1.18\n",
      "                                  Manipur     8724      55     8724       55          0           0           0.63\n",
      "                        Arunachal Pradesh     7250      13     7250       13          0           0           0.18\n",
      "                                 Nagaland     5392      10     5392       10          0           0           0.19\n",
      "                                Meghalaya     4559      36     4559       36          0           0           0.79\n",
      "                                   Ladakh     3708      49     3708       49          0           0           1.32\n",
      "              Andaman and Nicobar Islands     3644      52     3644       52          0           0           1.43\n",
      " Dadra and Nagar Haveli and Daman and Diu     2879       2     2879        2          0           0           0.07\n",
      "                                   Sikkim     2342      28     2342       28          0           0           1.20\n",
      "                                  Mizoram     1578       0     1548        0         30           0           0.00\n",
      "                              Lakshadweep        0       0        0        0          0           0            NaN\n"
     ]
    }
   ],
   "source": [
    "#hide_input\n",
    "print(df_table.to_string(index=False))"
   ]
  },
  {
   "cell_type": "code",
   "execution_count": null,
   "metadata": {
    "papermill": {
     "duration": 0.022446,
     "end_time": "2020-09-20T06:38:03.656010",
     "exception": false,
     "start_time": "2020-09-20T06:38:03.633564",
     "status": "completed"
    },
    "tags": []
   },
   "outputs": [],
   "source": []
  },
  {
   "cell_type": "code",
   "execution_count": null,
   "metadata": {
    "papermill": {
     "duration": 0.0228,
     "end_time": "2020-09-20T06:38:03.701020",
     "exception": false,
     "start_time": "2020-09-20T06:38:03.678220",
     "status": "completed"
    },
    "tags": []
   },
   "outputs": [],
   "source": []
  }
 ],
 "metadata": {
  "kernelspec": {
   "display_name": "Python 3",
   "language": "python",
   "name": "python3"
  },
  "language_info": {
   "codemirror_mode": {
    "name": "ipython",
    "version": 3
   },
   "file_extension": ".py",
   "mimetype": "text/x-python",
   "name": "python",
   "nbconvert_exporter": "python",
   "pygments_lexer": "ipython3",
   "version": "3.6.12"
  },
  "papermill": {
   "duration": 10.860068,
   "end_time": "2020-09-20T06:38:04.130129",
   "environment_variables": {},
   "exception": null,
   "input_path": "latest.ipynb",
   "output_path": "latest.ipynb",
   "parameters": {},
   "start_time": "2020-09-20T06:37:53.270061",
   "version": "2.1.2"
  }
 },
 "nbformat": 4,
 "nbformat_minor": 4
}