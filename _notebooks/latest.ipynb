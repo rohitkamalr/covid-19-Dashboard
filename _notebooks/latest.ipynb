{
 "cells": [
  {
   "cell_type": "markdown",
   "metadata": {
    "papermill": {
     "duration": 0.019373,
     "end_time": "2020-10-10T06:26:40.776769",
     "exception": false,
     "start_time": "2020-10-10T06:26:40.757396",
     "status": "completed"
    },
    "tags": []
   },
   "source": [
    "# Latest COVID-19 India Matplotlib Overview"
   ]
  },
  {
   "cell_type": "code",
   "execution_count": 1,
   "metadata": {
    "execution": {
     "iopub.execute_input": "2020-10-10T06:26:40.813645Z",
     "iopub.status.busy": "2020-10-10T06:26:40.813023Z",
     "iopub.status.idle": "2020-10-10T06:26:41.405688Z",
     "shell.execute_reply": "2020-10-10T06:26:41.405095Z"
    },
    "papermill": {
     "duration": 0.61372,
     "end_time": "2020-10-10T06:26:41.405869",
     "exception": false,
     "start_time": "2020-10-10T06:26:40.792149",
     "status": "completed"
    },
    "tags": []
   },
   "outputs": [],
   "source": [
    "#hide\n",
    "import pandas as pd\n",
    "import numpy as np\n",
    "import requests\n",
    "import json\n",
    "import matplotlib.pyplot as plt\n",
    "import matplotlib.dates as mdates\n",
    "import matplotlib as mpl\n",
    "from IPython.core.display import display,HTML\n",
    "%matplotlib inline\n",
    "from datetime import date"
   ]
  },
  {
   "cell_type": "code",
   "execution_count": 2,
   "metadata": {
    "execution": {
     "iopub.execute_input": "2020-10-10T06:26:41.444704Z",
     "iopub.status.busy": "2020-10-10T06:26:41.444069Z",
     "iopub.status.idle": "2020-10-10T06:26:41.943693Z",
     "shell.execute_reply": "2020-10-10T06:26:41.943118Z"
    },
    "papermill": {
     "duration": 0.522356,
     "end_time": "2020-10-10T06:26:41.943862",
     "exception": false,
     "start_time": "2020-10-10T06:26:41.421506",
     "status": "completed"
    },
    "tags": []
   },
   "outputs": [],
   "source": [
    "#hide\n",
    "df  = pd.read_csv('https://api.covid19india.org/csv/latest/states.csv')\n",
    "df = df[['Date','State','Confirmed','Deceased']]\n",
    "df = df.rename(columns={'Confirmed':'Cases', \"Deceased\":'Deaths'})\n",
    "df_cases = df[[\"Date\",'State','Cases']]\n",
    "df_deaths = df[['Date','State','Deaths']]\n",
    "df_cases1 = df_cases.groupby('Date')\n",
    "df_deaths1= df_deaths.groupby('Date')"
   ]
  },
  {
   "cell_type": "code",
   "execution_count": 3,
   "metadata": {
    "execution": {
     "iopub.execute_input": "2020-10-10T06:26:41.979783Z",
     "iopub.status.busy": "2020-10-10T06:26:41.979120Z",
     "iopub.status.idle": "2020-10-10T06:26:41.997602Z",
     "shell.execute_reply": "2020-10-10T06:26:41.997069Z"
    },
    "papermill": {
     "duration": 0.038259,
     "end_time": "2020-10-10T06:26:41.997740",
     "exception": false,
     "start_time": "2020-10-10T06:26:41.959481",
     "status": "completed"
    },
    "tags": []
   },
   "outputs": [],
   "source": [
    "#hide\n",
    "df_snap = pd.read_csv('data/SnapshotCases-28-July.csv')\n",
    "arr_states = df_snap['states'].unique()\n",
    "arr_dates = df['Date'].unique()\n",
    "df_snap = df_snap.set_index('states')"
   ]
  },
  {
   "cell_type": "code",
   "execution_count": 4,
   "metadata": {
    "execution": {
     "iopub.execute_input": "2020-10-10T06:26:42.035581Z",
     "iopub.status.busy": "2020-10-10T06:26:42.034902Z",
     "iopub.status.idle": "2020-10-10T06:26:42.040902Z",
     "shell.execute_reply": "2020-10-10T06:26:42.041429Z"
    },
    "papermill": {
     "duration": 0.028414,
     "end_time": "2020-10-10T06:26:42.041570",
     "exception": false,
     "start_time": "2020-10-10T06:26:42.013156",
     "status": "completed"
    },
    "tags": []
   },
   "outputs": [
    {
     "data": {
      "text/plain": [
       "array(['Andaman and Nicobar Islands', 'Andhra Pradesh',\n",
       "       'Arunachal Pradesh', 'Assam', 'Bihar', 'Chandigarh',\n",
       "       'Dadra and Nagar Haveli and Daman and Diu', 'Delhi', 'Goa',\n",
       "       'Gujarat', 'Haryana', 'Himachal Pradesh', 'Jammu and Kashmir',\n",
       "       'Jharkhand', 'Karnataka', 'Kerala', 'Lakshadweep',\n",
       "       'Madhya Pradesh', 'Maharashtra', 'Manipur', 'Meghalaya', 'Mizoram',\n",
       "       'Nagaland', 'Odisha', 'Puducherry', 'Punjab', 'Rajasthan',\n",
       "       'Sikkim', 'Tamil Nadu', 'Telangana', 'Tripura', 'Uttar Pradesh',\n",
       "       'West Bengal', 'Chhattisgarh', 'Ladakh', 'Uttarakhand'],\n",
       "      dtype=object)"
      ]
     },
     "execution_count": 4,
     "metadata": {},
     "output_type": "execute_result"
    }
   ],
   "source": [
    "#hide\n",
    "arr_states[-9] = 'Puducherry'\n",
    "arr_states[-10] = 'Odisha'\n",
    "arr_states[6] = 'Dadra and Nagar Haveli and Daman and Diu'\n",
    "arr_states = np.append(arr_states,np.array(['Chhattisgarh','Ladakh','Uttarakhand']))\n",
    "arr_states"
   ]
  },
  {
   "cell_type": "code",
   "execution_count": 5,
   "metadata": {
    "execution": {
     "iopub.execute_input": "2020-10-10T06:26:42.085817Z",
     "iopub.status.busy": "2020-10-10T06:26:42.085160Z",
     "iopub.status.idle": "2020-10-10T06:26:42.093185Z",
     "shell.execute_reply": "2020-10-10T06:26:42.093774Z"
    },
    "papermill": {
     "duration": 0.034842,
     "end_time": "2020-10-10T06:26:42.093907",
     "exception": false,
     "start_time": "2020-10-10T06:26:42.059065",
     "status": "completed"
    },
    "tags": []
   },
   "outputs": [],
   "source": [
    "#hide\n",
    "dates = []\n",
    "for i in arr_dates:\n",
    "    if i>='2020-07-01':\n",
    "        dates.append(i)\n",
    "dict = {'states':dates}\n",
    "for i in arr_states:\n",
    "    dict[i] = [0]*len(dates)\n",
    "dft_cases = pd.DataFrame(dict)\n",
    "dft_deaths = pd.DataFrame(dict)\n"
   ]
  },
  {
   "cell_type": "code",
   "execution_count": 6,
   "metadata": {
    "execution": {
     "iopub.execute_input": "2020-10-10T06:26:42.130450Z",
     "iopub.status.busy": "2020-10-10T06:26:42.129845Z",
     "iopub.status.idle": "2020-10-10T06:26:43.847241Z",
     "shell.execute_reply": "2020-10-10T06:26:43.847718Z"
    },
    "papermill": {
     "duration": 1.738663,
     "end_time": "2020-10-10T06:26:43.847899",
     "exception": false,
     "start_time": "2020-10-10T06:26:42.109236",
     "status": "completed"
    },
    "tags": []
   },
   "outputs": [],
   "source": [
    "#hide\n",
    "for i in range(len(dates)):\n",
    "    df1_deaths = df_deaths1.get_group(dates[i])\n",
    "    for j in range(len(df1_deaths.index)):\n",
    "        if df1_deaths.iloc[j,1] in arr_states:\n",
    "            dft_deaths.loc[i,df1_deaths.iloc[j,1]] = df1_deaths.iloc[j,2]\n",
    "dft_deaths = dft_deaths.set_index('states')"
   ]
  },
  {
   "cell_type": "code",
   "execution_count": 7,
   "metadata": {
    "execution": {
     "iopub.execute_input": "2020-10-10T06:26:43.889157Z",
     "iopub.status.busy": "2020-10-10T06:26:43.888421Z",
     "iopub.status.idle": "2020-10-10T06:26:45.567098Z",
     "shell.execute_reply": "2020-10-10T06:26:45.567654Z"
    },
    "papermill": {
     "duration": 1.703271,
     "end_time": "2020-10-10T06:26:45.567835",
     "exception": false,
     "start_time": "2020-10-10T06:26:43.864564",
     "status": "completed"
    },
    "tags": []
   },
   "outputs": [],
   "source": [
    "#hide\n",
    "for i in range(len(dates)):\n",
    "    df1_cases = df_cases1.get_group(dates[i])\n",
    "    for j in range(len(df1_cases.index)):\n",
    "        if df1_cases.iloc[j,1] in arr_states:\n",
    "            dft_cases.loc[i,df1_cases.iloc[j,1]] = df1_cases.iloc[j,2]\n",
    "dft_cases = dft_cases.set_index('states')"
   ]
  },
  {
   "cell_type": "code",
   "execution_count": 8,
   "metadata": {
    "execution": {
     "iopub.execute_input": "2020-10-10T06:26:45.605264Z",
     "iopub.status.busy": "2020-10-10T06:26:45.604555Z",
     "iopub.status.idle": "2020-10-10T06:26:45.607359Z",
     "shell.execute_reply": "2020-10-10T06:26:45.606842Z"
    },
    "papermill": {
     "duration": 0.0235,
     "end_time": "2020-10-10T06:26:45.607476",
     "exception": false,
     "start_time": "2020-10-10T06:26:45.583976",
     "status": "completed"
    },
    "tags": []
   },
   "outputs": [],
   "source": [
    "#hide\n",
    "dft_cases = dft_cases.T\n",
    "dft_deaths = dft_deaths.T\n",
    "dt_today = dates[-1]\n",
    "dt_yday = dates[-2]"
   ]
  },
  {
   "cell_type": "code",
   "execution_count": 9,
   "metadata": {
    "execution": {
     "iopub.execute_input": "2020-10-10T06:26:45.644630Z",
     "iopub.status.busy": "2020-10-10T06:26:45.644005Z",
     "iopub.status.idle": "2020-10-10T06:26:45.649806Z",
     "shell.execute_reply": "2020-10-10T06:26:45.649156Z"
    },
    "papermill": {
     "duration": 0.02557,
     "end_time": "2020-10-10T06:26:45.649962",
     "exception": false,
     "start_time": "2020-10-10T06:26:45.624392",
     "status": "completed"
    },
    "tags": []
   },
   "outputs": [],
   "source": [
    "#hide\n",
    "dft_cases = dft_cases.reset_index()\n",
    "dft_deaths = dft_deaths.reset_index()\n",
    "dft_cases = dft_cases.rename(columns = {'index':'state'})\n",
    "dft_deaths = dft_deaths.rename(columns = {'index':'state'})"
   ]
  },
  {
   "cell_type": "code",
   "execution_count": 10,
   "metadata": {
    "execution": {
     "iopub.execute_input": "2020-10-10T06:26:45.687349Z",
     "iopub.status.busy": "2020-10-10T06:26:45.686725Z",
     "iopub.status.idle": "2020-10-10T06:26:45.693659Z",
     "shell.execute_reply": "2020-10-10T06:26:45.694153Z"
    },
    "papermill": {
     "duration": 0.029299,
     "end_time": "2020-10-10T06:26:45.694289",
     "exception": false,
     "start_time": "2020-10-10T06:26:45.664990",
     "status": "completed"
    },
    "tags": []
   },
   "outputs": [],
   "source": [
    "#hide\n",
    "dfc_cases = dft_cases.groupby('state')[dt_today].sum()\n",
    "dfc_deaths = dft_deaths.groupby('state')[dt_today].sum()\n",
    "dfp_cases = dft_cases.groupby('state')[dt_yday].sum()\n",
    "dfp_deaths = dft_deaths.groupby('state')[dt_yday].sum()"
   ]
  },
  {
   "cell_type": "code",
   "execution_count": 11,
   "metadata": {
    "execution": {
     "iopub.execute_input": "2020-10-10T06:26:45.732322Z",
     "iopub.status.busy": "2020-10-10T06:26:45.731674Z",
     "iopub.status.idle": "2020-10-10T06:26:45.746349Z",
     "shell.execute_reply": "2020-10-10T06:26:45.745884Z"
    },
    "papermill": {
     "duration": 0.036771,
     "end_time": "2020-10-10T06:26:45.746468",
     "exception": false,
     "start_time": "2020-10-10T06:26:45.709697",
     "status": "completed"
    },
    "tags": []
   },
   "outputs": [
    {
     "data": {
      "text/html": [
       "<div>\n",
       "<style scoped>\n",
       "    .dataframe tbody tr th:only-of-type {\n",
       "        vertical-align: middle;\n",
       "    }\n",
       "\n",
       "    .dataframe tbody tr th {\n",
       "        vertical-align: top;\n",
       "    }\n",
       "\n",
       "    .dataframe thead th {\n",
       "        text-align: right;\n",
       "    }\n",
       "</style>\n",
       "<table border=\"1\" class=\"dataframe\">\n",
       "  <thead>\n",
       "    <tr style=\"text-align: right;\">\n",
       "      <th></th>\n",
       "      <th>states</th>\n",
       "      <th>Cases</th>\n",
       "      <th>Deaths</th>\n",
       "      <th>PCases</th>\n",
       "      <th>PDeaths</th>\n",
       "    </tr>\n",
       "  </thead>\n",
       "  <tbody>\n",
       "    <tr>\n",
       "      <th>0</th>\n",
       "      <td>Maharashtra</td>\n",
       "      <td>1506018</td>\n",
       "      <td>39732</td>\n",
       "      <td>1506018</td>\n",
       "      <td>39732</td>\n",
       "    </tr>\n",
       "    <tr>\n",
       "      <th>1</th>\n",
       "      <td>Andhra Pradesh</td>\n",
       "      <td>744864</td>\n",
       "      <td>6159</td>\n",
       "      <td>744864</td>\n",
       "      <td>6159</td>\n",
       "    </tr>\n",
       "    <tr>\n",
       "      <th>2</th>\n",
       "      <td>Karnataka</td>\n",
       "      <td>690269</td>\n",
       "      <td>9789</td>\n",
       "      <td>690269</td>\n",
       "      <td>9789</td>\n",
       "    </tr>\n",
       "    <tr>\n",
       "      <th>3</th>\n",
       "      <td>Tamil Nadu</td>\n",
       "      <td>646128</td>\n",
       "      <td>10120</td>\n",
       "      <td>646128</td>\n",
       "      <td>10120</td>\n",
       "    </tr>\n",
       "    <tr>\n",
       "      <th>4</th>\n",
       "      <td>Uttar Pradesh</td>\n",
       "      <td>430666</td>\n",
       "      <td>6293</td>\n",
       "      <td>430666</td>\n",
       "      <td>6293</td>\n",
       "    </tr>\n",
       "  </tbody>\n",
       "</table>\n",
       "</div>"
      ],
      "text/plain": [
       "           states    Cases  Deaths   PCases  PDeaths\n",
       "0     Maharashtra  1506018   39732  1506018    39732\n",
       "1  Andhra Pradesh   744864    6159   744864     6159\n",
       "2       Karnataka   690269    9789   690269     9789\n",
       "3      Tamil Nadu   646128   10120   646128    10120\n",
       "4   Uttar Pradesh   430666    6293   430666     6293"
      ]
     },
     "execution_count": 11,
     "metadata": {},
     "output_type": "execute_result"
    }
   ],
   "source": [
    "#hide\n",
    "df_table = pd.DataFrame({'states': dfc_cases.index, 'Cases': dfc_cases.values, 'Deaths': dfc_deaths.values, 'PCases': dfp_cases.values, 'PDeaths': dfp_deaths.values}).set_index('states')\n",
    "df_table = df_table.sort_values(by = ['Cases','Deaths'], ascending = [False, False])\n",
    "df_table = df_table.reset_index()\n",
    "df_table.head()"
   ]
  },
  {
   "cell_type": "code",
   "execution_count": 12,
   "metadata": {
    "execution": {
     "iopub.execute_input": "2020-10-10T06:26:45.783453Z",
     "iopub.status.busy": "2020-10-10T06:26:45.782783Z",
     "iopub.status.idle": "2020-10-10T06:26:45.790948Z",
     "shell.execute_reply": "2020-10-10T06:26:45.791448Z"
    },
    "papermill": {
     "duration": 0.028989,
     "end_time": "2020-10-10T06:26:45.791630",
     "exception": false,
     "start_time": "2020-10-10T06:26:45.762641",
     "status": "completed"
    },
    "tags": []
   },
   "outputs": [],
   "source": [
    "#hide\n",
    "for c in 'Cases, Deaths'.split(', '):\n",
    "    df_table[f'{c} (+)'] = (df_table[c] - df_table[f'P{c}']).clip(0)\n",
    "df_table['Fatality Rate'] = (100* df_table['Deaths']/ df_table['Cases']).round(2)"
   ]
  },
  {
   "cell_type": "code",
   "execution_count": 13,
   "metadata": {
    "execution": {
     "iopub.execute_input": "2020-10-10T06:26:45.831071Z",
     "iopub.status.busy": "2020-10-10T06:26:45.830449Z",
     "iopub.status.idle": "2020-10-10T06:26:45.837721Z",
     "shell.execute_reply": "2020-10-10T06:26:45.838301Z"
    },
    "papermill": {
     "duration": 0.030397,
     "end_time": "2020-10-10T06:26:45.838460",
     "exception": false,
     "start_time": "2020-10-10T06:26:45.808063",
     "status": "completed"
    },
    "tags": []
   },
   "outputs": [
    {
     "data": {
      "text/html": [
       "<div>\n",
       "<style scoped>\n",
       "    .dataframe tbody tr th:only-of-type {\n",
       "        vertical-align: middle;\n",
       "    }\n",
       "\n",
       "    .dataframe tbody tr th {\n",
       "        vertical-align: top;\n",
       "    }\n",
       "\n",
       "    .dataframe thead th {\n",
       "        text-align: right;\n",
       "    }\n",
       "</style>\n",
       "<table border=\"1\" class=\"dataframe\">\n",
       "  <thead>\n",
       "    <tr style=\"text-align: right;\">\n",
       "      <th></th>\n",
       "      <th>states</th>\n",
       "      <th>Cases</th>\n",
       "      <th>Deaths</th>\n",
       "      <th>PCases</th>\n",
       "      <th>PDeaths</th>\n",
       "      <th>Cases (+)</th>\n",
       "      <th>Deaths (+)</th>\n",
       "      <th>Fatality Rate</th>\n",
       "    </tr>\n",
       "  </thead>\n",
       "  <tbody>\n",
       "    <tr>\n",
       "      <th>0</th>\n",
       "      <td>Maharashtra</td>\n",
       "      <td>1506018</td>\n",
       "      <td>39732</td>\n",
       "      <td>1506018</td>\n",
       "      <td>39732</td>\n",
       "      <td>0</td>\n",
       "      <td>0</td>\n",
       "      <td>2.64</td>\n",
       "    </tr>\n",
       "    <tr>\n",
       "      <th>1</th>\n",
       "      <td>Andhra Pradesh</td>\n",
       "      <td>744864</td>\n",
       "      <td>6159</td>\n",
       "      <td>744864</td>\n",
       "      <td>6159</td>\n",
       "      <td>0</td>\n",
       "      <td>0</td>\n",
       "      <td>0.83</td>\n",
       "    </tr>\n",
       "    <tr>\n",
       "      <th>2</th>\n",
       "      <td>Karnataka</td>\n",
       "      <td>690269</td>\n",
       "      <td>9789</td>\n",
       "      <td>690269</td>\n",
       "      <td>9789</td>\n",
       "      <td>0</td>\n",
       "      <td>0</td>\n",
       "      <td>1.42</td>\n",
       "    </tr>\n",
       "    <tr>\n",
       "      <th>3</th>\n",
       "      <td>Tamil Nadu</td>\n",
       "      <td>646128</td>\n",
       "      <td>10120</td>\n",
       "      <td>646128</td>\n",
       "      <td>10120</td>\n",
       "      <td>0</td>\n",
       "      <td>0</td>\n",
       "      <td>1.57</td>\n",
       "    </tr>\n",
       "    <tr>\n",
       "      <th>4</th>\n",
       "      <td>Uttar Pradesh</td>\n",
       "      <td>430666</td>\n",
       "      <td>6293</td>\n",
       "      <td>430666</td>\n",
       "      <td>6293</td>\n",
       "      <td>0</td>\n",
       "      <td>0</td>\n",
       "      <td>1.46</td>\n",
       "    </tr>\n",
       "  </tbody>\n",
       "</table>\n",
       "</div>"
      ],
      "text/plain": [
       "           states    Cases  Deaths   PCases  PDeaths  Cases (+)  Deaths (+)  \\\n",
       "0     Maharashtra  1506018   39732  1506018    39732          0           0   \n",
       "1  Andhra Pradesh   744864    6159   744864     6159          0           0   \n",
       "2       Karnataka   690269    9789   690269     9789          0           0   \n",
       "3      Tamil Nadu   646128   10120   646128    10120          0           0   \n",
       "4   Uttar Pradesh   430666    6293   430666     6293          0           0   \n",
       "\n",
       "   Fatality Rate  \n",
       "0           2.64  \n",
       "1           0.83  \n",
       "2           1.42  \n",
       "3           1.57  \n",
       "4           1.46  "
      ]
     },
     "execution_count": 13,
     "metadata": {},
     "output_type": "execute_result"
    }
   ],
   "source": [
    "#hide\n",
    "df_table.head()"
   ]
  },
  {
   "cell_type": "code",
   "execution_count": 14,
   "metadata": {
    "execution": {
     "iopub.execute_input": "2020-10-10T06:26:45.878322Z",
     "iopub.status.busy": "2020-10-10T06:26:45.877635Z",
     "iopub.status.idle": "2020-10-10T06:26:45.894909Z",
     "shell.execute_reply": "2020-10-10T06:26:45.895554Z"
    },
    "papermill": {
     "duration": 0.039803,
     "end_time": "2020-10-10T06:26:45.895711",
     "exception": false,
     "start_time": "2020-10-10T06:26:45.855908",
     "status": "completed"
    },
    "tags": []
   },
   "outputs": [
    {
     "data": {
      "text/plain": [
       "{'updated': '2020-10-10',\n",
       " 'since': '2020-10-09',\n",
       " 'Cases': 6977264,\n",
       " 'PCases': 6977093,\n",
       " 'Deaths': 107452,\n",
       " 'PDeaths': 107450,\n",
       " 'Cases (+)': 171,\n",
       " 'Deaths (+)': 2}"
      ]
     },
     "execution_count": 14,
     "metadata": {},
     "output_type": "execute_result"
    }
   ],
   "source": [
    "#hide\n",
    "summary = {'updated':dates[-1], 'since':dates[-2]}\n",
    "list_names = ['Cases', 'PCases', 'Deaths', 'PDeaths', 'Cases (+)', 'Deaths (+)']\n",
    "for name in list_names:\n",
    "    summary[name] = df_table.sum()[name]\n",
    "summary"
   ]
  },
  {
   "cell_type": "code",
   "execution_count": 15,
   "metadata": {
    "execution": {
     "iopub.execute_input": "2020-10-10T06:26:45.934613Z",
     "iopub.status.busy": "2020-10-10T06:26:45.934012Z",
     "iopub.status.idle": "2020-10-10T06:26:45.938872Z",
     "shell.execute_reply": "2020-10-10T06:26:45.938344Z"
    },
    "papermill": {
     "duration": 0.026641,
     "end_time": "2020-10-10T06:26:45.938992",
     "exception": false,
     "start_time": "2020-10-10T06:26:45.912351",
     "status": "completed"
    },
    "tags": []
   },
   "outputs": [],
   "source": [
    "#hide\n",
    "overview = '''\n",
    "<!-- #######  HTML!! #########-->\n",
    "<h1 style=\"color: #5e9ca0; text-align: center;\">India</h1>\n",
    "<p style=\"text-align: center;\">Last update: <strong>{update}</strong></p>\n",
    "<p style=\"text-align: center;\">Confirmed cases:</p>\n",
    "<p style=\"text-align: center;font-size:24px;\">{cases} (<span style=\"color: #ff0000;\">+{new}</span>)</p>\n",
    "<p style=\"text-align: center;\">Confirmed deaths:</p>\n",
    "<p style=\"text-align: center;font-size:24px;\">{deaths} (<span style=\"color: #ff0000;\">+{dnew}</span>)</p>\n",
    "'''"
   ]
  },
  {
   "cell_type": "code",
   "execution_count": 16,
   "metadata": {
    "execution": {
     "iopub.execute_input": "2020-10-10T06:26:45.977990Z",
     "iopub.status.busy": "2020-10-10T06:26:45.977276Z",
     "iopub.status.idle": "2020-10-10T06:26:45.985290Z",
     "shell.execute_reply": "2020-10-10T06:26:45.985793Z"
    },
    "papermill": {
     "duration": 0.030248,
     "end_time": "2020-10-10T06:26:45.985952",
     "exception": false,
     "start_time": "2020-10-10T06:26:45.955704",
     "status": "completed"
    },
    "tags": []
   },
   "outputs": [
    {
     "data": {
      "text/html": [
       "\n",
       "<!-- #######  HTML!! #########-->\n",
       "<h1 style=\"color: #5e9ca0; text-align: center;\">India</h1>\n",
       "<p style=\"text-align: center;\">Last update: <strong>2020-10-10</strong></p>\n",
       "<p style=\"text-align: center;\">Confirmed cases:</p>\n",
       "<p style=\"text-align: center;font-size:24px;\">6977264 (<span style=\"color: #ff0000;\">+171</span>)</p>\n",
       "<p style=\"text-align: center;\">Confirmed deaths:</p>\n",
       "<p style=\"text-align: center;font-size:24px;\">107452 (<span style=\"color: #ff0000;\">+2</span>)</p>\n"
      ],
      "text/plain": [
       "<IPython.core.display.HTML object>"
      ]
     },
     "metadata": {},
     "output_type": "display_data"
    }
   ],
   "source": [
    "#hide_input\n",
    "update = summary['updated']\n",
    "cases = summary['Cases']\n",
    "new = summary['Cases (+)']\n",
    "deaths = summary['Deaths']\n",
    "dnew = summary['Deaths (+)']\n",
    "\n",
    "html = HTML(overview.format(update=update, cases=cases,new=new,deaths=deaths,dnew=dnew))\n",
    "\n",
    "display(html)"
   ]
  },
  {
   "cell_type": "code",
   "execution_count": 17,
   "metadata": {
    "execution": {
     "iopub.execute_input": "2020-10-10T06:26:46.178515Z",
     "iopub.status.busy": "2020-10-10T06:26:46.177835Z",
     "iopub.status.idle": "2020-10-10T06:26:46.184620Z",
     "shell.execute_reply": "2020-10-10T06:26:46.184080Z"
    },
    "papermill": {
     "duration": 0.181205,
     "end_time": "2020-10-10T06:26:46.184751",
     "exception": false,
     "start_time": "2020-10-10T06:26:46.003546",
     "status": "completed"
    },
    "tags": []
   },
   "outputs": [],
   "source": [
    "#hide\n",
    "dt_cols = list(dft_cases.columns[1:])\n",
    "dft_ct_new_cases = dft_cases.groupby('state')[dt_cols].sum().diff(axis=1).fillna(0).astype(int)\n",
    "dft_ct_new_cases.sort_values(by = dates[-1], ascending = False,inplace = True)"
   ]
  },
  {
   "cell_type": "code",
   "execution_count": 18,
   "metadata": {
    "execution": {
     "iopub.execute_input": "2020-10-10T06:26:46.294177Z",
     "iopub.status.busy": "2020-10-10T06:26:46.293011Z",
     "iopub.status.idle": "2020-10-10T06:26:46.296866Z",
     "shell.execute_reply": "2020-10-10T06:26:46.296314Z"
    },
    "papermill": {
     "duration": 0.084933,
     "end_time": "2020-10-10T06:26:46.297029",
     "exception": false,
     "start_time": "2020-10-10T06:26:46.212096",
     "status": "completed"
    },
    "tags": []
   },
   "outputs": [
    {
     "data": {
      "text/html": [
       "<div>\n",
       "<style scoped>\n",
       "    .dataframe tbody tr th:only-of-type {\n",
       "        vertical-align: middle;\n",
       "    }\n",
       "\n",
       "    .dataframe tbody tr th {\n",
       "        vertical-align: top;\n",
       "    }\n",
       "\n",
       "    .dataframe thead th {\n",
       "        text-align: right;\n",
       "    }\n",
       "</style>\n",
       "<table border=\"1\" class=\"dataframe\">\n",
       "  <thead>\n",
       "    <tr style=\"text-align: right;\">\n",
       "      <th>states</th>\n",
       "      <th>2020-07-01</th>\n",
       "      <th>2020-07-02</th>\n",
       "      <th>2020-07-03</th>\n",
       "      <th>2020-07-04</th>\n",
       "      <th>2020-07-05</th>\n",
       "      <th>2020-07-06</th>\n",
       "      <th>2020-07-07</th>\n",
       "      <th>2020-07-08</th>\n",
       "      <th>2020-07-09</th>\n",
       "      <th>2020-07-10</th>\n",
       "      <th>...</th>\n",
       "      <th>2020-10-01</th>\n",
       "      <th>2020-10-02</th>\n",
       "      <th>2020-10-03</th>\n",
       "      <th>2020-10-04</th>\n",
       "      <th>2020-10-05</th>\n",
       "      <th>2020-10-06</th>\n",
       "      <th>2020-10-07</th>\n",
       "      <th>2020-10-08</th>\n",
       "      <th>2020-10-09</th>\n",
       "      <th>2020-10-10</th>\n",
       "    </tr>\n",
       "    <tr>\n",
       "      <th>state</th>\n",
       "      <th></th>\n",
       "      <th></th>\n",
       "      <th></th>\n",
       "      <th></th>\n",
       "      <th></th>\n",
       "      <th></th>\n",
       "      <th></th>\n",
       "      <th></th>\n",
       "      <th></th>\n",
       "      <th></th>\n",
       "      <th></th>\n",
       "      <th></th>\n",
       "      <th></th>\n",
       "      <th></th>\n",
       "      <th></th>\n",
       "      <th></th>\n",
       "      <th></th>\n",
       "      <th></th>\n",
       "      <th></th>\n",
       "      <th></th>\n",
       "      <th></th>\n",
       "    </tr>\n",
       "  </thead>\n",
       "  <tbody>\n",
       "    <tr>\n",
       "      <th>Tripura</th>\n",
       "      <td>0</td>\n",
       "      <td>39</td>\n",
       "      <td>93</td>\n",
       "      <td>25</td>\n",
       "      <td>23</td>\n",
       "      <td>111</td>\n",
       "      <td>24</td>\n",
       "      <td>57</td>\n",
       "      <td>16</td>\n",
       "      <td>142</td>\n",
       "      <td>...</td>\n",
       "      <td>332</td>\n",
       "      <td>296</td>\n",
       "      <td>190</td>\n",
       "      <td>322</td>\n",
       "      <td>159</td>\n",
       "      <td>275</td>\n",
       "      <td>237</td>\n",
       "      <td>214</td>\n",
       "      <td>223</td>\n",
       "      <td>171</td>\n",
       "    </tr>\n",
       "    <tr>\n",
       "      <th>Andaman and Nicobar Islands</th>\n",
       "      <td>0</td>\n",
       "      <td>9</td>\n",
       "      <td>7</td>\n",
       "      <td>3</td>\n",
       "      <td>6</td>\n",
       "      <td>16</td>\n",
       "      <td>6</td>\n",
       "      <td>2</td>\n",
       "      <td>7</td>\n",
       "      <td>0</td>\n",
       "      <td>...</td>\n",
       "      <td>13</td>\n",
       "      <td>10</td>\n",
       "      <td>10</td>\n",
       "      <td>16</td>\n",
       "      <td>15</td>\n",
       "      <td>13</td>\n",
       "      <td>23</td>\n",
       "      <td>17</td>\n",
       "      <td>24</td>\n",
       "      <td>0</td>\n",
       "    </tr>\n",
       "    <tr>\n",
       "      <th>Puducherry</th>\n",
       "      <td>0</td>\n",
       "      <td>63</td>\n",
       "      <td>22</td>\n",
       "      <td>80</td>\n",
       "      <td>42</td>\n",
       "      <td>65</td>\n",
       "      <td>30</td>\n",
       "      <td>110</td>\n",
       "      <td>49</td>\n",
       "      <td>72</td>\n",
       "      <td>...</td>\n",
       "      <td>480</td>\n",
       "      <td>510</td>\n",
       "      <td>218</td>\n",
       "      <td>337</td>\n",
       "      <td>188</td>\n",
       "      <td>405</td>\n",
       "      <td>479</td>\n",
       "      <td>378</td>\n",
       "      <td>365</td>\n",
       "      <td>0</td>\n",
       "    </tr>\n",
       "    <tr>\n",
       "      <th>Maharashtra</th>\n",
       "      <td>0</td>\n",
       "      <td>6328</td>\n",
       "      <td>6364</td>\n",
       "      <td>7074</td>\n",
       "      <td>6555</td>\n",
       "      <td>5368</td>\n",
       "      <td>5134</td>\n",
       "      <td>6603</td>\n",
       "      <td>6875</td>\n",
       "      <td>7862</td>\n",
       "      <td>...</td>\n",
       "      <td>16476</td>\n",
       "      <td>15591</td>\n",
       "      <td>14348</td>\n",
       "      <td>12548</td>\n",
       "      <td>10244</td>\n",
       "      <td>12258</td>\n",
       "      <td>14578</td>\n",
       "      <td>13395</td>\n",
       "      <td>12134</td>\n",
       "      <td>0</td>\n",
       "    </tr>\n",
       "    <tr>\n",
       "      <th>Manipur</th>\n",
       "      <td>0</td>\n",
       "      <td>19</td>\n",
       "      <td>37</td>\n",
       "      <td>9</td>\n",
       "      <td>41</td>\n",
       "      <td>24</td>\n",
       "      <td>40</td>\n",
       "      <td>5</td>\n",
       "      <td>15</td>\n",
       "      <td>132</td>\n",
       "      <td>...</td>\n",
       "      <td>128</td>\n",
       "      <td>286</td>\n",
       "      <td>252</td>\n",
       "      <td>206</td>\n",
       "      <td>250</td>\n",
       "      <td>135</td>\n",
       "      <td>249</td>\n",
       "      <td>190</td>\n",
       "      <td>131</td>\n",
       "      <td>0</td>\n",
       "    </tr>\n",
       "  </tbody>\n",
       "</table>\n",
       "<p>5 rows × 102 columns</p>\n",
       "</div>"
      ],
      "text/plain": [
       "states                       2020-07-01  2020-07-02  2020-07-03  2020-07-04  \\\n",
       "state                                                                         \n",
       "Tripura                               0          39          93          25   \n",
       "Andaman and Nicobar Islands           0           9           7           3   \n",
       "Puducherry                            0          63          22          80   \n",
       "Maharashtra                           0        6328        6364        7074   \n",
       "Manipur                               0          19          37           9   \n",
       "\n",
       "states                       2020-07-05  2020-07-06  2020-07-07  2020-07-08  \\\n",
       "state                                                                         \n",
       "Tripura                              23         111          24          57   \n",
       "Andaman and Nicobar Islands           6          16           6           2   \n",
       "Puducherry                           42          65          30         110   \n",
       "Maharashtra                        6555        5368        5134        6603   \n",
       "Manipur                              41          24          40           5   \n",
       "\n",
       "states                       2020-07-09  2020-07-10  ...  2020-10-01  \\\n",
       "state                                                ...               \n",
       "Tripura                              16         142  ...         332   \n",
       "Andaman and Nicobar Islands           7           0  ...          13   \n",
       "Puducherry                           49          72  ...         480   \n",
       "Maharashtra                        6875        7862  ...       16476   \n",
       "Manipur                              15         132  ...         128   \n",
       "\n",
       "states                       2020-10-02  2020-10-03  2020-10-04  2020-10-05  \\\n",
       "state                                                                         \n",
       "Tripura                             296         190         322         159   \n",
       "Andaman and Nicobar Islands          10          10          16          15   \n",
       "Puducherry                          510         218         337         188   \n",
       "Maharashtra                       15591       14348       12548       10244   \n",
       "Manipur                             286         252         206         250   \n",
       "\n",
       "states                       2020-10-06  2020-10-07  2020-10-08  2020-10-09  \\\n",
       "state                                                                         \n",
       "Tripura                             275         237         214         223   \n",
       "Andaman and Nicobar Islands          13          23          17          24   \n",
       "Puducherry                          405         479         378         365   \n",
       "Maharashtra                       12258       14578       13395       12134   \n",
       "Manipur                             135         249         190         131   \n",
       "\n",
       "states                       2020-10-10  \n",
       "state                                    \n",
       "Tripura                             171  \n",
       "Andaman and Nicobar Islands           0  \n",
       "Puducherry                            0  \n",
       "Maharashtra                           0  \n",
       "Manipur                               0  \n",
       "\n",
       "[5 rows x 102 columns]"
      ]
     },
     "execution_count": 18,
     "metadata": {},
     "output_type": "execute_result"
    }
   ],
   "source": [
    "#hide\n",
    "dft_ct_new_cases.head()"
   ]
  },
  {
   "cell_type": "code",
   "execution_count": 19,
   "metadata": {
    "execution": {
     "iopub.execute_input": "2020-10-10T06:26:46.414973Z",
     "iopub.status.busy": "2020-10-10T06:26:46.391314Z",
     "iopub.status.idle": "2020-10-10T06:26:50.878941Z",
     "shell.execute_reply": "2020-10-10T06:26:50.879430Z"
    },
    "papermill": {
     "duration": 4.558251,
     "end_time": "2020-10-10T06:26:50.879596",
     "exception": false,
     "start_time": "2020-10-10T06:26:46.321345",
     "status": "completed"
    },
    "tags": []
   },
   "outputs": [
    {
     "data": {
      "image/png": "[encoded data removed]",
      "text/plain": [
       "<Figure size 1296x2016 with 11 Axes>"
      ]
     },
     "metadata": {
      "needs_background": "light"
     },
     "output_type": "display_data"
    }
   ],
   "source": [
    "#hide_input\n",
    "df = dft_ct_new_cases.copy()\n",
    "df.loc['Total'] = df.sum()\n",
    "n = 5\n",
    "ax = []\n",
    "fig = plt.figure(figsize = (18,28))\n",
    "gs = fig.add_gridspec(n+2, 5)\n",
    "# gs = fig.add_gridspec(2, 3)\n",
    "ax1 = fig.add_subplot(gs[0, :])\n",
    "ef = df.loc['Total'].rename_axis('date').reset_index()\n",
    "ef['date'] = ef['date'].astype('datetime64[ns]')\n",
    "ax1.bar(ef.date,ef.Total,alpha=0.3,color='#007acc')\n",
    "ax1.plot(ef.date,ef.Total , marker=\"o\", color='#007acc')\n",
    "ax1.xaxis.set_major_locator(mdates.WeekdayLocator())\n",
    "ax1.xaxis.set_major_formatter(mdates.DateFormatter('%b %d'))\n",
    "ax1.text(0.02, 0.5,'India daily case count', transform = ax1.transAxes, fontsize=25);\n",
    "ax1.spines['right'].set_visible(False)\n",
    "ax1.spines['top'].set_visible(False)\n",
    "\n",
    "ax2 = fig.add_subplot(gs[1,0])\n",
    "ef = df.loc['Maharashtra'].rename_axis('date').reset_index()\n",
    "ef['date'] = ef['date'].astype('datetime64[ns]')\n",
    "\n",
    "ax2.bar(ef.date, ef.Maharashtra,color = '#007acc',alpha=0.5)\n",
    "ax2.xaxis.set_major_locator(mdates.WeekdayLocator())\n",
    "ax2.xaxis.set_major_formatter(mdates.DateFormatter('%b %d'))\n",
    "ax2.set_xticks(ax2.get_xticks()[::3])\n",
    "maxyval = ef.Maharashtra.max()\n",
    "ax2.set_ylim([0,maxyval])\n",
    "ax2.text(0.05, 0.9,'Maharashtra', transform = ax2.transAxes, fontsize=20);\n",
    "ax2.spines['right'].set_visible(False)\n",
    "ax2.spines['top'].set_visible(False)\n",
    "\n",
    "\n",
    "ax3 = fig.add_subplot(gs[1,1])\n",
    "ef = df.loc['Tamil Nadu'].rename_axis('date').reset_index()\n",
    "ef['date'] = ef['date'].astype('datetime64[ns]')\n",
    "ax3.bar(ef.date, ef['Tamil Nadu'],color = '#007acc',alpha=0.5,)\n",
    "ax3.xaxis.set_major_locator(mdates.WeekdayLocator())\n",
    "ax3.xaxis.set_major_formatter(mdates.DateFormatter('%b %d'))\n",
    "ax3.set_xticks(ax3.get_xticks()[::3])\n",
    "ax3.text(0.05, 0.9,'Tamil Nadu', transform = ax3.transAxes, fontsize=20);\n",
    "ax3.spines['right'].set_visible(False)\n",
    "ax3.spines['top'].set_visible(False)\n",
    "\n",
    "ax5 = fig.add_subplot(gs[1,3])\n",
    "ef = df.loc['Telangana'].rename_axis('date').reset_index()\n",
    "ef['date'] = ef['date'].astype('datetime64[ns]')\n",
    "ax5.bar(ef.date, ef['Telangana'],color = '#007acc',alpha=0.5,)\n",
    "ax5.xaxis.set_major_locator(mdates.WeekdayLocator())\n",
    "ax5.xaxis.set_major_formatter(mdates.DateFormatter('%b %d'))\n",
    "ax5.set_xticks(ax5.get_xticks()[::3])\n",
    "ax5.text(0.05, 0.9,'Telangana', transform = ax5.transAxes, fontsize=20);\n",
    "ax5.spines['right'].set_visible(False)\n",
    "ax5.spines['top'].set_visible(False)\n",
    "\n",
    "ax6 = fig.add_subplot(gs[1,4])\n",
    "ef = df.loc['Andhra Pradesh'].rename_axis('date').reset_index()\n",
    "ef['date'] = ef['date'].astype('datetime64[ns]')\n",
    "ax6.bar(ef.date, ef['Andhra Pradesh'],color = '#007acc',alpha=0.5,)\n",
    "ax6.xaxis.set_major_locator(mdates.WeekdayLocator())\n",
    "ax6.xaxis.set_major_formatter(mdates.DateFormatter('%b %d'))\n",
    "ax6.set_xticks(ax6.get_xticks()[::3])\n",
    "ax6.text(0.05, 1,'Andhra Pradesh', transform = ax6.transAxes, fontsize=20);\n",
    "ax6.spines['right'].set_visible(False)\n",
    "ax6.spines['top'].set_visible(False)\n",
    "\n",
    "ax4 = fig.add_subplot(gs[1,2])\n",
    "ef = df.loc['Delhi'].rename_axis('date').reset_index()\n",
    "ef['date'] = ef['date'].astype('datetime64[ns]')\n",
    "ax4.bar(ef.date, ef.Delhi,color = '#007acc',alpha=0.5)\n",
    "ax4.set_xticks([])\n",
    "ax4.xaxis.set_major_locator(mdates.WeekdayLocator())\n",
    "ax4.xaxis.set_major_formatter(mdates.DateFormatter('%b %d'))\n",
    "ax4.set_xticks(ax4.get_xticks()[::3])\n",
    "ax4.spines['right'].set_visible(False)\n",
    "ax4.spines['top'].set_visible(False)\n",
    "\n",
    "ax4.text(0.05, 1,'Delhi', transform = ax4.transAxes, fontsize=20)\n",
    "\n",
    "for i in range(n):\n",
    "    \n",
    "    ax.append(fig.add_subplot(gs[i+2,:]))\n",
    "    ef = df.iloc[i+3].rename_axis('date').reset_index()\n",
    "    ef['date'] = ef['date'].astype('datetime64[ns]')\n",
    "    ax[i].bar(ef.date,ef.iloc[:,-1],color = '#007acc',alpha=0.3)\n",
    "    ax[i].plot(ef.date,ef.iloc[:,-1],marker='o',color='#007acc')\n",
    "    ax[i].text(0.02,0.5,f'{ef.columns.values[-1]}',transform = ax[i].transAxes, fontsize = 20);\n",
    "    ax[i].xaxis.set_major_locator(mdates.WeekdayLocator())\n",
    "    ax[i].xaxis.set_major_formatter(mdates.DateFormatter('%b %d'))\n",
    "    ax[i].set_ylim([0,7000])\n",
    "    ax[i].spines['right'].set_visible(False)\n",
    "    ax[i].spines['top'].set_visible(False)\n",
    "plt.tight_layout()\n"
   ]
  },
  {
   "cell_type": "code",
   "execution_count": 20,
   "metadata": {
    "execution": {
     "iopub.execute_input": "2020-10-10T06:26:50.936927Z",
     "iopub.status.busy": "2020-10-10T06:26:50.936246Z",
     "iopub.status.idle": "2020-10-10T06:26:50.940207Z",
     "shell.execute_reply": "2020-10-10T06:26:50.939661Z"
    },
    "papermill": {
     "duration": 0.033959,
     "end_time": "2020-10-10T06:26:50.940363",
     "exception": false,
     "start_time": "2020-10-10T06:26:50.906404",
     "status": "completed"
    },
    "tags": []
   },
   "outputs": [
    {
     "name": "stdout",
     "output_type": "stream",
     "text": [
      "                                   states    Cases  Deaths   PCases  PDeaths  Cases (+)  Deaths (+)  Fatality Rate\n",
      "                              Maharashtra  1506018   39732  1506018    39732          0           0           2.64\n",
      "                           Andhra Pradesh   744864    6159   744864     6159          0           0           0.83\n",
      "                                Karnataka   690269    9789   690269     9789          0           0           1.42\n",
      "                               Tamil Nadu   646128   10120   646128    10120          0           0           1.57\n",
      "                            Uttar Pradesh   430666    6293   430666     6293          0           0           1.46\n",
      "                                    Delhi   303693    5692   303693     5692          0           0           1.87\n",
      "                              West Bengal   287603    5501   287603     5501          0           0           1.91\n",
      "                                   Kerala   268101     956   268101      956          0           0           0.36\n",
      "                                   Odisha   246839    1044   246839     1044          0           0           0.42\n",
      "                                Telangana   208535    1208   208535     1208          0           0           0.58\n",
      "                                    Bihar   193826     934   193826      934          0           0           0.48\n",
      "                                    Assam   192416     802   192416      802          0           0           0.42\n",
      "                                Rajasthan   154785    1621   154785     1621          0           0           1.05\n",
      "                                  Gujarat   149193    3550   149193     3550          0           0           2.38\n",
      "                           Madhya Pradesh   143629    2574   143629     2574          0           0           1.79\n",
      "                                  Haryana   139932    1562   139932     1562          0           0           1.12\n",
      "                             Chhattisgarh   137570    1196   137570     1196          0           0           0.87\n",
      "                                   Punjab   122459    3773   122459     3773          0           0           3.08\n",
      "                                Jharkhand    91254     781    91254      781          0           0           0.86\n",
      "                        Jammu and Kashmir    82429    1306    82429     1306          0           0           1.58\n",
      "                              Uttarakhand    54063     716    54063      716          0           0           1.32\n",
      "                                      Goa    37591     491    37591      491          0           0           1.31\n",
      "                               Puducherry    30904     558    30904      558          0           0           1.81\n",
      "                                  Tripura    28150     310    27979      308        171           2           1.10\n",
      "                         Himachal Pradesh    16977     240    16977      240          0           0           1.41\n",
      "                               Chandigarh    12985     188    12985      188          0           0           1.45\n",
      "                                  Manipur    12810      86    12810       86          0           0           0.67\n",
      "                        Arunachal Pradesh    11760      23    11760       23          0           0           0.20\n",
      "                                Meghalaya     7388      61     7388       61          0           0           0.83\n",
      "                                 Nagaland     6888      12     6888       12          0           0           0.17\n",
      "                                   Ladakh     4987      63     4987       63          0           0           1.26\n",
      "              Andaman and Nicobar Islands     3976      55     3976       55          0           0           1.38\n",
      "                                   Sikkim     3279      54     3279       54          0           0           1.65\n",
      " Dadra and Nagar Haveli and Daman and Diu     3140       2     3140        2          0           0           0.06\n",
      "                                  Mizoram     2157       0     2157        0          0           0           0.00\n",
      "                              Lakshadweep        0       0        0        0          0           0            NaN\n"
     ]
    }
   ],
   "source": [
    "#hide_input\n",
    "print(df_table.to_string(index=False))"
   ]
  },
  {
   "cell_type": "code",
   "execution_count": null,
   "metadata": {
    "papermill": {
     "duration": 0.022858,
     "end_time": "2020-10-10T06:26:50.985729",
     "exception": false,
     "start_time": "2020-10-10T06:26:50.962871",
     "status": "completed"
    },
    "tags": []
   },
   "outputs": [],
   "source": []
  },
  {
   "cell_type": "code",
   "execution_count": null,
   "metadata": {
    "papermill": {
     "duration": 0.024738,
     "end_time": "2020-10-10T06:26:51.033802",
     "exception": false,
     "start_time": "2020-10-10T06:26:51.009064",
     "status": "completed"
    },
    "tags": []
   },
   "outputs": [],
   "source": []
  }
 ],
 "metadata": {
  "kernelspec": {
   "display_name": "Python 3",
   "language": "python",
   "name": "python3"
  },
  "language_info": {
   "codemirror_mode": {
    "name": "ipython",
    "version": 3
   },
   "file_extension": ".py",
   "mimetype": "text/x-python",
   "name": "python",
   "nbconvert_exporter": "python",
   "pygments_lexer": "ipython3",
   "version": "3.6.12"
  },
  "papermill": {
   "duration": 11.788123,
   "end_time": "2020-10-10T06:26:51.463875",
   "environment_variables": {},
   "exception": null,
   "input_path": "latest.ipynb",
   "output_path": "latest.ipynb",
   "parameters": {},
   "start_time": "2020-10-10T06:26:39.675752",
   "version": "2.1.2"
  }
 },
 "nbformat": 4,
 "nbformat_minor": 4
}