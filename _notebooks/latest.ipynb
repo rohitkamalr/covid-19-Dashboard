{
 "cells": [
  {
   "cell_type": "markdown",
   "id": "colored-stack",
   "metadata": {
    "papermill": {
     "duration": 0.024433,
     "end_time": "2021-02-07T13:03:34.617445",
     "exception": false,
     "start_time": "2021-02-07T13:03:34.593012",
     "status": "completed"
    },
    "tags": []
   },
   "source": [
    "# Latest COVID-19 India Matplotlib Overview"
   ]
  },
  {
   "cell_type": "code",
   "execution_count": 1,
   "id": "light-proportion",
   "metadata": {
    "execution": {
     "iopub.execute_input": "2021-02-07T13:03:34.665057Z",
     "iopub.status.busy": "2021-02-07T13:03:34.664461Z",
     "iopub.status.idle": "2021-02-07T13:03:35.276580Z",
     "shell.execute_reply": "2021-02-07T13:03:35.275831Z"
    },
    "papermill": {
     "duration": 0.641901,
     "end_time": "2021-02-07T13:03:35.276749",
     "exception": false,
     "start_time": "2021-02-07T13:03:34.634848",
     "status": "completed"
    },
    "tags": []
   },
   "outputs": [],
   "source": [
    "#hide\n",
    "import pandas as pd\n",
    "import numpy as np\n",
    "import requests\n",
    "import json\n",
    "import matplotlib.pyplot as plt\n",
    "import matplotlib.dates as mdates\n",
    "import matplotlib as mpl\n",
    "from IPython.core.display import display,HTML\n",
    "%matplotlib inline\n",
    "from datetime import date"
   ]
  },
  {
   "cell_type": "code",
   "execution_count": 2,
   "id": "greenhouse-shooting",
   "metadata": {
    "execution": {
     "iopub.execute_input": "2021-02-07T13:03:35.323374Z",
     "iopub.status.busy": "2021-02-07T13:03:35.322667Z",
     "iopub.status.idle": "2021-02-07T13:03:35.512937Z",
     "shell.execute_reply": "2021-02-07T13:03:35.512396Z"
    },
    "papermill": {
     "duration": 0.219145,
     "end_time": "2021-02-07T13:03:35.513085",
     "exception": false,
     "start_time": "2021-02-07T13:03:35.293940",
     "status": "completed"
    },
    "tags": []
   },
   "outputs": [],
   "source": [
    "#hide\n",
    "df  = pd.read_csv('https://api.covid19india.org/csv/latest/states.csv')\n",
    "df = df[['Date','State','Confirmed','Deceased']]\n",
    "df = df.rename(columns={'Confirmed':'Cases', \"Deceased\":'Deaths'})\n",
    "df_cases = df[[\"Date\",'State','Cases']]\n",
    "df_deaths = df[['Date','State','Deaths']]\n",
    "df_cases1 = df_cases.groupby('Date')\n",
    "df_deaths1= df_deaths.groupby('Date')"
   ]
  },
  {
   "cell_type": "code",
   "execution_count": 3,
   "id": "hybrid-cathedral",
   "metadata": {
    "execution": {
     "iopub.execute_input": "2021-02-07T13:03:35.555723Z",
     "iopub.status.busy": "2021-02-07T13:03:35.555093Z",
     "iopub.status.idle": "2021-02-07T13:03:35.573625Z",
     "shell.execute_reply": "2021-02-07T13:03:35.573108Z"
    },
    "papermill": {
     "duration": 0.042536,
     "end_time": "2021-02-07T13:03:35.573770",
     "exception": false,
     "start_time": "2021-02-07T13:03:35.531234",
     "status": "completed"
    },
    "tags": []
   },
   "outputs": [],
   "source": [
    "#hide\n",
    "df_snap = pd.read_csv('data/SnapshotCases-28-July.csv')\n",
    "arr_states = df_snap['states'].unique()\n",
    "arr_dates = df['Date'].unique()\n",
    "df_snap = df_snap.set_index('states')"
   ]
  },
  {
   "cell_type": "code",
   "execution_count": 4,
   "id": "interior-belfast",
   "metadata": {
    "execution": {
     "iopub.execute_input": "2021-02-07T13:03:35.616165Z",
     "iopub.status.busy": "2021-02-07T13:03:35.615551Z",
     "iopub.status.idle": "2021-02-07T13:03:35.619371Z",
     "shell.execute_reply": "2021-02-07T13:03:35.618849Z"
    },
    "papermill": {
     "duration": 0.028631,
     "end_time": "2021-02-07T13:03:35.619504",
     "exception": false,
     "start_time": "2021-02-07T13:03:35.590873",
     "status": "completed"
    },
    "tags": []
   },
   "outputs": [
    {
     "data": {
      "text/plain": [
       "array(['Andaman and Nicobar Islands', 'Andhra Pradesh',\n",
       "       'Arunachal Pradesh', 'Assam', 'Bihar', 'Chandigarh',\n",
       "       'Dadra and Nagar Haveli and Daman and Diu', 'Delhi', 'Goa',\n",
       "       'Gujarat', 'Haryana', 'Himachal Pradesh', 'Jammu and Kashmir',\n",
       "       'Jharkhand', 'Karnataka', 'Kerala', 'Lakshadweep',\n",
       "       'Madhya Pradesh', 'Maharashtra', 'Manipur', 'Meghalaya', 'Mizoram',\n",
       "       'Nagaland', 'Odisha', 'Puducherry', 'Punjab', 'Rajasthan',\n",
       "       'Sikkim', 'Tamil Nadu', 'Telangana', 'Tripura', 'Uttar Pradesh',\n",
       "       'West Bengal', 'Chhattisgarh', 'Ladakh', 'Uttarakhand'],\n",
       "      dtype=object)"
      ]
     },
     "execution_count": 4,
     "metadata": {},
     "output_type": "execute_result"
    }
   ],
   "source": [
    "#hide\n",
    "arr_states[-9] = 'Puducherry'\n",
    "arr_states[-10] = 'Odisha'\n",
    "arr_states[6] = 'Dadra and Nagar Haveli and Daman and Diu'\n",
    "arr_states = np.append(arr_states,np.array(['Chhattisgarh','Ladakh','Uttarakhand']))\n",
    "arr_states"
   ]
  },
  {
   "cell_type": "code",
   "execution_count": 5,
   "id": "behind-manner",
   "metadata": {
    "execution": {
     "iopub.execute_input": "2021-02-07T13:03:35.667122Z",
     "iopub.status.busy": "2021-02-07T13:03:35.666462Z",
     "iopub.status.idle": "2021-02-07T13:03:35.675577Z",
     "shell.execute_reply": "2021-02-07T13:03:35.675060Z"
    },
    "papermill": {
     "duration": 0.038748,
     "end_time": "2021-02-07T13:03:35.675714",
     "exception": false,
     "start_time": "2021-02-07T13:03:35.636966",
     "status": "completed"
    },
    "tags": []
   },
   "outputs": [],
   "source": [
    "#hide\n",
    "dates = []\n",
    "for i in arr_dates:\n",
    "    if i>='2020-07-01':\n",
    "        dates.append(i)\n",
    "dict = {'states':dates}\n",
    "for i in arr_states:\n",
    "    dict[i] = [0]*len(dates)\n",
    "dft_cases = pd.DataFrame(dict)\n",
    "dft_deaths = pd.DataFrame(dict)\n"
   ]
  },
  {
   "cell_type": "code",
   "execution_count": 6,
   "id": "simplified-peter",
   "metadata": {
    "execution": {
     "iopub.execute_input": "2021-02-07T13:03:35.719849Z",
     "iopub.status.busy": "2021-02-07T13:03:35.719218Z",
     "iopub.status.idle": "2021-02-07T13:03:38.956057Z",
     "shell.execute_reply": "2021-02-07T13:03:38.954958Z"
    },
    "papermill": {
     "duration": 3.262813,
     "end_time": "2021-02-07T13:03:38.956212",
     "exception": false,
     "start_time": "2021-02-07T13:03:35.693399",
     "status": "completed"
    },
    "tags": []
   },
   "outputs": [],
   "source": [
    "#hide\n",
    "for i in range(len(dates)):\n",
    "    df1_deaths = df_deaths1.get_group(dates[i])\n",
    "    for j in range(len(df1_deaths.index)):\n",
    "        if df1_deaths.iloc[j,1] in arr_states:\n",
    "            dft_deaths.loc[i,df1_deaths.iloc[j,1]] = df1_deaths.iloc[j,2]\n",
    "dft_deaths = dft_deaths.set_index('states')"
   ]
  },
  {
   "cell_type": "code",
   "execution_count": 7,
   "id": "geological-welding",
   "metadata": {
    "execution": {
     "iopub.execute_input": "2021-02-07T13:03:38.997490Z",
     "iopub.status.busy": "2021-02-07T13:03:38.996491Z",
     "iopub.status.idle": "2021-02-07T13:03:42.084481Z",
     "shell.execute_reply": "2021-02-07T13:03:42.083905Z"
    },
    "papermill": {
     "duration": 3.111329,
     "end_time": "2021-02-07T13:03:42.084641",
     "exception": false,
     "start_time": "2021-02-07T13:03:38.973312",
     "status": "completed"
    },
    "tags": []
   },
   "outputs": [],
   "source": [
    "#hide\n",
    "for i in range(len(dates)):\n",
    "    df1_cases = df_cases1.get_group(dates[i])\n",
    "    for j in range(len(df1_cases.index)):\n",
    "        if df1_cases.iloc[j,1] in arr_states:\n",
    "            dft_cases.loc[i,df1_cases.iloc[j,1]] = df1_cases.iloc[j,2]\n",
    "dft_cases = dft_cases.set_index('states')"
   ]
  },
  {
   "cell_type": "code",
   "execution_count": 8,
   "id": "binary-ratio",
   "metadata": {
    "execution": {
     "iopub.execute_input": "2021-02-07T13:03:42.127169Z",
     "iopub.status.busy": "2021-02-07T13:03:42.126519Z",
     "iopub.status.idle": "2021-02-07T13:03:42.129868Z",
     "shell.execute_reply": "2021-02-07T13:03:42.129386Z"
    },
    "papermill": {
     "duration": 0.027169,
     "end_time": "2021-02-07T13:03:42.130005",
     "exception": false,
     "start_time": "2021-02-07T13:03:42.102836",
     "status": "completed"
    },
    "tags": []
   },
   "outputs": [],
   "source": [
    "#hide\n",
    "dft_cases = dft_cases.T\n",
    "dft_deaths = dft_deaths.T\n",
    "dt_today = dates[-1]\n",
    "dt_yday = dates[-2]"
   ]
  },
  {
   "cell_type": "code",
   "execution_count": 9,
   "id": "boolean-calculator",
   "metadata": {
    "execution": {
     "iopub.execute_input": "2021-02-07T13:03:42.174932Z",
     "iopub.status.busy": "2021-02-07T13:03:42.170755Z",
     "iopub.status.idle": "2021-02-07T13:03:42.178364Z",
     "shell.execute_reply": "2021-02-07T13:03:42.177880Z"
    },
    "papermill": {
     "duration": 0.031233,
     "end_time": "2021-02-07T13:03:42.178500",
     "exception": false,
     "start_time": "2021-02-07T13:03:42.147267",
     "status": "completed"
    },
    "tags": []
   },
   "outputs": [],
   "source": [
    "#hide\n",
    "dft_cases = dft_cases.reset_index()\n",
    "dft_deaths = dft_deaths.reset_index()\n",
    "dft_cases = dft_cases.rename(columns = {'index':'state'})\n",
    "dft_deaths = dft_deaths.rename(columns = {'index':'state'})"
   ]
  },
  {
   "cell_type": "code",
   "execution_count": 10,
   "id": "invisible-johnston",
   "metadata": {
    "execution": {
     "iopub.execute_input": "2021-02-07T13:03:42.221170Z",
     "iopub.status.busy": "2021-02-07T13:03:42.220562Z",
     "iopub.status.idle": "2021-02-07T13:03:42.230097Z",
     "shell.execute_reply": "2021-02-07T13:03:42.230554Z"
    },
    "papermill": {
     "duration": 0.034999,
     "end_time": "2021-02-07T13:03:42.230737",
     "exception": false,
     "start_time": "2021-02-07T13:03:42.195738",
     "status": "completed"
    },
    "tags": []
   },
   "outputs": [],
   "source": [
    "#hide\n",
    "dfc_cases = dft_cases.groupby('state')[dt_today].sum()\n",
    "dfc_deaths = dft_deaths.groupby('state')[dt_today].sum()\n",
    "dfp_cases = dft_cases.groupby('state')[dt_yday].sum()\n",
    "dfp_deaths = dft_deaths.groupby('state')[dt_yday].sum()"
   ]
  },
  {
   "cell_type": "code",
   "execution_count": 11,
   "id": "measured-great",
   "metadata": {
    "execution": {
     "iopub.execute_input": "2021-02-07T13:03:42.282457Z",
     "iopub.status.busy": "2021-02-07T13:03:42.281842Z",
     "iopub.status.idle": "2021-02-07T13:03:42.288918Z",
     "shell.execute_reply": "2021-02-07T13:03:42.288409Z"
    },
    "papermill": {
     "duration": 0.040945,
     "end_time": "2021-02-07T13:03:42.289050",
     "exception": false,
     "start_time": "2021-02-07T13:03:42.248105",
     "status": "completed"
    },
    "tags": []
   },
   "outputs": [
    {
     "data": {
      "text/html": [
       "<div>\n",
       "<style scoped>\n",
       "    .dataframe tbody tr th:only-of-type {\n",
       "        vertical-align: middle;\n",
       "    }\n",
       "\n",
       "    .dataframe tbody tr th {\n",
       "        vertical-align: top;\n",
       "    }\n",
       "\n",
       "    .dataframe thead th {\n",
       "        text-align: right;\n",
       "    }\n",
       "</style>\n",
       "<table border=\"1\" class=\"dataframe\">\n",
       "  <thead>\n",
       "    <tr style=\"text-align: right;\">\n",
       "      <th></th>\n",
       "      <th>states</th>\n",
       "      <th>Cases</th>\n",
       "      <th>Deaths</th>\n",
       "      <th>PCases</th>\n",
       "      <th>PDeaths</th>\n",
       "    </tr>\n",
       "  </thead>\n",
       "  <tbody>\n",
       "    <tr>\n",
       "      <th>0</th>\n",
       "      <td>Maharashtra</td>\n",
       "      <td>2041398</td>\n",
       "      <td>51280</td>\n",
       "      <td>2041398</td>\n",
       "      <td>51280</td>\n",
       "    </tr>\n",
       "    <tr>\n",
       "      <th>1</th>\n",
       "      <td>Kerala</td>\n",
       "      <td>962364</td>\n",
       "      <td>3849</td>\n",
       "      <td>962364</td>\n",
       "      <td>3849</td>\n",
       "    </tr>\n",
       "    <tr>\n",
       "      <th>2</th>\n",
       "      <td>Karnataka</td>\n",
       "      <td>942031</td>\n",
       "      <td>12233</td>\n",
       "      <td>942031</td>\n",
       "      <td>12233</td>\n",
       "    </tr>\n",
       "    <tr>\n",
       "      <th>3</th>\n",
       "      <td>Andhra Pradesh</td>\n",
       "      <td>888350</td>\n",
       "      <td>7159</td>\n",
       "      <td>888350</td>\n",
       "      <td>7159</td>\n",
       "    </tr>\n",
       "    <tr>\n",
       "      <th>4</th>\n",
       "      <td>Tamil Nadu</td>\n",
       "      <td>841326</td>\n",
       "      <td>12382</td>\n",
       "      <td>841326</td>\n",
       "      <td>12382</td>\n",
       "    </tr>\n",
       "  </tbody>\n",
       "</table>\n",
       "</div>"
      ],
      "text/plain": [
       "           states    Cases  Deaths   PCases  PDeaths\n",
       "0     Maharashtra  2041398   51280  2041398    51280\n",
       "1          Kerala   962364    3849   962364     3849\n",
       "2       Karnataka   942031   12233   942031    12233\n",
       "3  Andhra Pradesh   888350    7159   888350     7159\n",
       "4      Tamil Nadu   841326   12382   841326    12382"
      ]
     },
     "execution_count": 11,
     "metadata": {},
     "output_type": "execute_result"
    }
   ],
   "source": [
    "#hide\n",
    "df_table = pd.DataFrame({'states': dfc_cases.index, 'Cases': dfc_cases.values, 'Deaths': dfc_deaths.values, 'PCases': dfp_cases.values, 'PDeaths': dfp_deaths.values}).set_index('states')\n",
    "df_table = df_table.sort_values(by = ['Cases','Deaths'], ascending = [False, False])\n",
    "df_table = df_table.reset_index()\n",
    "df_table.head()"
   ]
  },
  {
   "cell_type": "code",
   "execution_count": 12,
   "id": "found-montreal",
   "metadata": {
    "execution": {
     "iopub.execute_input": "2021-02-07T13:03:42.332146Z",
     "iopub.status.busy": "2021-02-07T13:03:42.331538Z",
     "iopub.status.idle": "2021-02-07T13:03:42.341514Z",
     "shell.execute_reply": "2021-02-07T13:03:42.342025Z"
    },
    "papermill": {
     "duration": 0.035536,
     "end_time": "2021-02-07T13:03:42.342178",
     "exception": false,
     "start_time": "2021-02-07T13:03:42.306642",
     "status": "completed"
    },
    "tags": []
   },
   "outputs": [],
   "source": [
    "#hide\n",
    "for c in 'Cases, Deaths'.split(', '):\n",
    "    df_table[f'{c} (+)'] = (df_table[c] - df_table[f'P{c}']).clip(0)\n",
    "df_table['Fatality Rate'] = (100* df_table['Deaths']/ df_table['Cases']).round(2)"
   ]
  },
  {
   "cell_type": "code",
   "execution_count": 13,
   "id": "minus-savage",
   "metadata": {
    "execution": {
     "iopub.execute_input": "2021-02-07T13:03:42.390271Z",
     "iopub.status.busy": "2021-02-07T13:03:42.389652Z",
     "iopub.status.idle": "2021-02-07T13:03:42.392171Z",
     "shell.execute_reply": "2021-02-07T13:03:42.392683Z"
    },
    "papermill": {
     "duration": 0.032916,
     "end_time": "2021-02-07T13:03:42.392837",
     "exception": false,
     "start_time": "2021-02-07T13:03:42.359921",
     "status": "completed"
    },
    "tags": []
   },
   "outputs": [
    {
     "data": {
      "text/html": [
       "<div>\n",
       "<style scoped>\n",
       "    .dataframe tbody tr th:only-of-type {\n",
       "        vertical-align: middle;\n",
       "    }\n",
       "\n",
       "    .dataframe tbody tr th {\n",
       "        vertical-align: top;\n",
       "    }\n",
       "\n",
       "    .dataframe thead th {\n",
       "        text-align: right;\n",
       "    }\n",
       "</style>\n",
       "<table border=\"1\" class=\"dataframe\">\n",
       "  <thead>\n",
       "    <tr style=\"text-align: right;\">\n",
       "      <th></th>\n",
       "      <th>states</th>\n",
       "      <th>Cases</th>\n",
       "      <th>Deaths</th>\n",
       "      <th>PCases</th>\n",
       "      <th>PDeaths</th>\n",
       "      <th>Cases (+)</th>\n",
       "      <th>Deaths (+)</th>\n",
       "      <th>Fatality Rate</th>\n",
       "    </tr>\n",
       "  </thead>\n",
       "  <tbody>\n",
       "    <tr>\n",
       "      <th>0</th>\n",
       "      <td>Maharashtra</td>\n",
       "      <td>2041398</td>\n",
       "      <td>51280</td>\n",
       "      <td>2041398</td>\n",
       "      <td>51280</td>\n",
       "      <td>0</td>\n",
       "      <td>0</td>\n",
       "      <td>2.51</td>\n",
       "    </tr>\n",
       "    <tr>\n",
       "      <th>1</th>\n",
       "      <td>Kerala</td>\n",
       "      <td>962364</td>\n",
       "      <td>3849</td>\n",
       "      <td>962364</td>\n",
       "      <td>3849</td>\n",
       "      <td>0</td>\n",
       "      <td>0</td>\n",
       "      <td>0.40</td>\n",
       "    </tr>\n",
       "    <tr>\n",
       "      <th>2</th>\n",
       "      <td>Karnataka</td>\n",
       "      <td>942031</td>\n",
       "      <td>12233</td>\n",
       "      <td>942031</td>\n",
       "      <td>12233</td>\n",
       "      <td>0</td>\n",
       "      <td>0</td>\n",
       "      <td>1.30</td>\n",
       "    </tr>\n",
       "    <tr>\n",
       "      <th>3</th>\n",
       "      <td>Andhra Pradesh</td>\n",
       "      <td>888350</td>\n",
       "      <td>7159</td>\n",
       "      <td>888350</td>\n",
       "      <td>7159</td>\n",
       "      <td>0</td>\n",
       "      <td>0</td>\n",
       "      <td>0.81</td>\n",
       "    </tr>\n",
       "    <tr>\n",
       "      <th>4</th>\n",
       "      <td>Tamil Nadu</td>\n",
       "      <td>841326</td>\n",
       "      <td>12382</td>\n",
       "      <td>841326</td>\n",
       "      <td>12382</td>\n",
       "      <td>0</td>\n",
       "      <td>0</td>\n",
       "      <td>1.47</td>\n",
       "    </tr>\n",
       "  </tbody>\n",
       "</table>\n",
       "</div>"
      ],
      "text/plain": [
       "           states    Cases  Deaths   PCases  PDeaths  Cases (+)  Deaths (+)  \\\n",
       "0     Maharashtra  2041398   51280  2041398    51280          0           0   \n",
       "1          Kerala   962364    3849   962364     3849          0           0   \n",
       "2       Karnataka   942031   12233   942031    12233          0           0   \n",
       "3  Andhra Pradesh   888350    7159   888350     7159          0           0   \n",
       "4      Tamil Nadu   841326   12382   841326    12382          0           0   \n",
       "\n",
       "   Fatality Rate  \n",
       "0           2.51  \n",
       "1           0.40  \n",
       "2           1.30  \n",
       "3           0.81  \n",
       "4           1.47  "
      ]
     },
     "execution_count": 13,
     "metadata": {},
     "output_type": "execute_result"
    }
   ],
   "source": [
    "#hide\n",
    "df_table.head()"
   ]
  },
  {
   "cell_type": "code",
   "execution_count": 14,
   "id": "false-peter",
   "metadata": {
    "execution": {
     "iopub.execute_input": "2021-02-07T13:03:42.450342Z",
     "iopub.status.busy": "2021-02-07T13:03:42.436757Z",
     "iopub.status.idle": "2021-02-07T13:03:42.453049Z",
     "shell.execute_reply": "2021-02-07T13:03:42.453533Z"
    },
    "papermill": {
     "duration": 0.042675,
     "end_time": "2021-02-07T13:03:42.453691",
     "exception": false,
     "start_time": "2021-02-07T13:03:42.411016",
     "status": "completed"
    },
    "tags": []
   },
   "outputs": [
    {
     "data": {
      "text/plain": [
       "{'updated': '2021-02-07',\n",
       " 'since': '2021-02-06',\n",
       " 'Cases': 10827655,\n",
       " 'PCases': 10827314,\n",
       " 'Deaths': 155036,\n",
       " 'PDeaths': 155032,\n",
       " 'Cases (+)': 341,\n",
       " 'Deaths (+)': 4}"
      ]
     },
     "execution_count": 14,
     "metadata": {},
     "output_type": "execute_result"
    }
   ],
   "source": [
    "#hide\n",
    "summary = {'updated':dates[-1], 'since':dates[-2]}\n",
    "list_names = ['Cases', 'PCases', 'Deaths', 'PDeaths', 'Cases (+)', 'Deaths (+)']\n",
    "for name in list_names:\n",
    "    summary[name] = df_table.sum()[name]\n",
    "summary"
   ]
  },
  {
   "cell_type": "code",
   "execution_count": 15,
   "id": "packed-viewer",
   "metadata": {
    "execution": {
     "iopub.execute_input": "2021-02-07T13:03:42.496315Z",
     "iopub.status.busy": "2021-02-07T13:03:42.495710Z",
     "iopub.status.idle": "2021-02-07T13:03:42.498166Z",
     "shell.execute_reply": "2021-02-07T13:03:42.498681Z"
    },
    "papermill": {
     "duration": 0.026386,
     "end_time": "2021-02-07T13:03:42.498856",
     "exception": false,
     "start_time": "2021-02-07T13:03:42.472470",
     "status": "completed"
    },
    "tags": []
   },
   "outputs": [],
   "source": [
    "#hide\n",
    "overview = '''\n",
    "<!-- #######  HTML!! #########-->\n",
    "<h1 style=\"color: #5e9ca0; text-align: center;\">India</h1>\n",
    "<p style=\"text-align: center;\">Last update: <strong>{update}</strong></p>\n",
    "<p style=\"text-align: center;\">Confirmed cases:</p>\n",
    "<p style=\"text-align: center;font-size:24px;\">{cases} (<span style=\"color: #ff0000;\">+{new}</span>)</p>\n",
    "<p style=\"text-align: center;\">Confirmed deaths:</p>\n",
    "<p style=\"text-align: center;font-size:24px;\">{deaths} (<span style=\"color: #ff0000;\">+{dnew}</span>)</p>\n",
    "'''"
   ]
  },
  {
   "cell_type": "code",
   "execution_count": 16,
   "id": "phantom-lover",
   "metadata": {
    "execution": {
     "iopub.execute_input": "2021-02-07T13:03:42.542265Z",
     "iopub.status.busy": "2021-02-07T13:03:42.541660Z",
     "iopub.status.idle": "2021-02-07T13:03:42.545209Z",
     "shell.execute_reply": "2021-02-07T13:03:42.544724Z"
    },
    "papermill": {
     "duration": 0.028122,
     "end_time": "2021-02-07T13:03:42.545349",
     "exception": false,
     "start_time": "2021-02-07T13:03:42.517227",
     "status": "completed"
    },
    "tags": []
   },
   "outputs": [
    {
     "data": {
      "text/html": [
       "\n",
       "<!-- #######  HTML!! #########-->\n",
       "<h1 style=\"color: #5e9ca0; text-align: center;\">India</h1>\n",
       "<p style=\"text-align: center;\">Last update: <strong>2021-02-07</strong></p>\n",
       "<p style=\"text-align: center;\">Confirmed cases:</p>\n",
       "<p style=\"text-align: center;font-size:24px;\">10827655 (<span style=\"color: #ff0000;\">+341</span>)</p>\n",
       "<p style=\"text-align: center;\">Confirmed deaths:</p>\n",
       "<p style=\"text-align: center;font-size:24px;\">155036 (<span style=\"color: #ff0000;\">+4</span>)</p>\n"
      ],
      "text/plain": [
       "<IPython.core.display.HTML object>"
      ]
     },
     "metadata": {},
     "output_type": "display_data"
    }
   ],
   "source": [
    "#hide_input\n",
    "update = summary['updated']\n",
    "cases = summary['Cases']\n",
    "new = summary['Cases (+)']\n",
    "deaths = summary['Deaths']\n",
    "dnew = summary['Deaths (+)']\n",
    "\n",
    "html = HTML(overview.format(update=update, cases=cases,new=new,deaths=deaths,dnew=dnew))\n",
    "\n",
    "display(html)"
   ]
  },
  {
   "cell_type": "code",
   "execution_count": 17,
   "id": "sealed-reset",
   "metadata": {
    "execution": {
     "iopub.execute_input": "2021-02-07T13:03:42.592257Z",
     "iopub.status.busy": "2021-02-07T13:03:42.590993Z",
     "iopub.status.idle": "2021-02-07T13:03:42.597691Z",
     "shell.execute_reply": "2021-02-07T13:03:42.598145Z"
    },
    "papermill": {
     "duration": 0.034018,
     "end_time": "2021-02-07T13:03:42.598298",
     "exception": false,
     "start_time": "2021-02-07T13:03:42.564280",
     "status": "completed"
    },
    "tags": []
   },
   "outputs": [],
   "source": [
    "#hide\n",
    "dt_cols = list(dft_cases.columns[1:])\n",
    "dft_ct_new_cases = dft_cases.groupby('state')[dt_cols].sum().diff(axis=1).fillna(0).astype(int)\n",
    "dft_ct_new_cases.sort_values(by = dates[-1], ascending = False,inplace = True)"
   ]
  },
  {
   "cell_type": "code",
   "execution_count": 18,
   "id": "designed-constant",
   "metadata": {
    "execution": {
     "iopub.execute_input": "2021-02-07T13:03:42.653819Z",
     "iopub.status.busy": "2021-02-07T13:03:42.653227Z",
     "iopub.status.idle": "2021-02-07T13:03:42.656574Z",
     "shell.execute_reply": "2021-02-07T13:03:42.656071Z"
    },
    "papermill": {
     "duration": 0.039402,
     "end_time": "2021-02-07T13:03:42.656704",
     "exception": false,
     "start_time": "2021-02-07T13:03:42.617302",
     "status": "completed"
    },
    "tags": []
   },
   "outputs": [
    {
     "data": {
      "text/html": [
       "<div>\n",
       "<style scoped>\n",
       "    .dataframe tbody tr th:only-of-type {\n",
       "        vertical-align: middle;\n",
       "    }\n",
       "\n",
       "    .dataframe tbody tr th {\n",
       "        vertical-align: top;\n",
       "    }\n",
       "\n",
       "    .dataframe thead th {\n",
       "        text-align: right;\n",
       "    }\n",
       "</style>\n",
       "<table border=\"1\" class=\"dataframe\">\n",
       "  <thead>\n",
       "    <tr style=\"text-align: right;\">\n",
       "      <th>states</th>\n",
       "      <th>2020-07-01</th>\n",
       "      <th>2020-07-02</th>\n",
       "      <th>2020-07-03</th>\n",
       "      <th>2020-07-04</th>\n",
       "      <th>2020-07-05</th>\n",
       "      <th>2020-07-06</th>\n",
       "      <th>2020-07-07</th>\n",
       "      <th>2020-07-08</th>\n",
       "      <th>2020-07-09</th>\n",
       "      <th>2020-07-10</th>\n",
       "      <th>...</th>\n",
       "      <th>2021-01-29</th>\n",
       "      <th>2021-01-30</th>\n",
       "      <th>2021-01-31</th>\n",
       "      <th>2021-02-01</th>\n",
       "      <th>2021-02-02</th>\n",
       "      <th>2021-02-03</th>\n",
       "      <th>2021-02-04</th>\n",
       "      <th>2021-02-05</th>\n",
       "      <th>2021-02-06</th>\n",
       "      <th>2021-02-07</th>\n",
       "    </tr>\n",
       "    <tr>\n",
       "      <th>state</th>\n",
       "      <th></th>\n",
       "      <th></th>\n",
       "      <th></th>\n",
       "      <th></th>\n",
       "      <th></th>\n",
       "      <th></th>\n",
       "      <th></th>\n",
       "      <th></th>\n",
       "      <th></th>\n",
       "      <th></th>\n",
       "      <th></th>\n",
       "      <th></th>\n",
       "      <th></th>\n",
       "      <th></th>\n",
       "      <th></th>\n",
       "      <th></th>\n",
       "      <th></th>\n",
       "      <th></th>\n",
       "      <th></th>\n",
       "      <th></th>\n",
       "      <th></th>\n",
       "    </tr>\n",
       "  </thead>\n",
       "  <tbody>\n",
       "    <tr>\n",
       "      <th>Telangana</th>\n",
       "      <td>0</td>\n",
       "      <td>1213</td>\n",
       "      <td>1892</td>\n",
       "      <td>1850</td>\n",
       "      <td>1590</td>\n",
       "      <td>1831</td>\n",
       "      <td>1879</td>\n",
       "      <td>1924</td>\n",
       "      <td>1410</td>\n",
       "      <td>1278</td>\n",
       "      <td>...</td>\n",
       "      <td>197</td>\n",
       "      <td>186</td>\n",
       "      <td>163</td>\n",
       "      <td>118</td>\n",
       "      <td>152</td>\n",
       "      <td>185</td>\n",
       "      <td>177</td>\n",
       "      <td>169</td>\n",
       "      <td>161</td>\n",
       "      <td>150</td>\n",
       "    </tr>\n",
       "    <tr>\n",
       "      <th>Delhi</th>\n",
       "      <td>0</td>\n",
       "      <td>2373</td>\n",
       "      <td>2520</td>\n",
       "      <td>2505</td>\n",
       "      <td>2244</td>\n",
       "      <td>1379</td>\n",
       "      <td>2008</td>\n",
       "      <td>2033</td>\n",
       "      <td>2187</td>\n",
       "      <td>2089</td>\n",
       "      <td>...</td>\n",
       "      <td>249</td>\n",
       "      <td>183</td>\n",
       "      <td>140</td>\n",
       "      <td>121</td>\n",
       "      <td>114</td>\n",
       "      <td>150</td>\n",
       "      <td>158</td>\n",
       "      <td>154</td>\n",
       "      <td>123</td>\n",
       "      <td>119</td>\n",
       "    </tr>\n",
       "    <tr>\n",
       "      <th>Odisha</th>\n",
       "      <td>0</td>\n",
       "      <td>229</td>\n",
       "      <td>561</td>\n",
       "      <td>495</td>\n",
       "      <td>469</td>\n",
       "      <td>456</td>\n",
       "      <td>571</td>\n",
       "      <td>527</td>\n",
       "      <td>577</td>\n",
       "      <td>755</td>\n",
       "      <td>...</td>\n",
       "      <td>70</td>\n",
       "      <td>108</td>\n",
       "      <td>114</td>\n",
       "      <td>79</td>\n",
       "      <td>60</td>\n",
       "      <td>71</td>\n",
       "      <td>87</td>\n",
       "      <td>97</td>\n",
       "      <td>82</td>\n",
       "      <td>72</td>\n",
       "    </tr>\n",
       "    <tr>\n",
       "      <th>Andaman and Nicobar Islands</th>\n",
       "      <td>0</td>\n",
       "      <td>9</td>\n",
       "      <td>7</td>\n",
       "      <td>3</td>\n",
       "      <td>6</td>\n",
       "      <td>16</td>\n",
       "      <td>6</td>\n",
       "      <td>2</td>\n",
       "      <td>7</td>\n",
       "      <td>0</td>\n",
       "      <td>...</td>\n",
       "      <td>0</td>\n",
       "      <td>0</td>\n",
       "      <td>0</td>\n",
       "      <td>0</td>\n",
       "      <td>0</td>\n",
       "      <td>0</td>\n",
       "      <td>0</td>\n",
       "      <td>3</td>\n",
       "      <td>3</td>\n",
       "      <td>0</td>\n",
       "    </tr>\n",
       "    <tr>\n",
       "      <th>Punjab</th>\n",
       "      <td>0</td>\n",
       "      <td>116</td>\n",
       "      <td>153</td>\n",
       "      <td>172</td>\n",
       "      <td>174</td>\n",
       "      <td>208</td>\n",
       "      <td>258</td>\n",
       "      <td>158</td>\n",
       "      <td>233</td>\n",
       "      <td>217</td>\n",
       "      <td>...</td>\n",
       "      <td>254</td>\n",
       "      <td>224</td>\n",
       "      <td>192</td>\n",
       "      <td>194</td>\n",
       "      <td>204</td>\n",
       "      <td>187</td>\n",
       "      <td>196</td>\n",
       "      <td>199</td>\n",
       "      <td>183</td>\n",
       "      <td>0</td>\n",
       "    </tr>\n",
       "  </tbody>\n",
       "</table>\n",
       "<p>5 rows × 222 columns</p>\n",
       "</div>"
      ],
      "text/plain": [
       "states                       2020-07-01  2020-07-02  2020-07-03  2020-07-04  \\\n",
       "state                                                                         \n",
       "Telangana                             0        1213        1892        1850   \n",
       "Delhi                                 0        2373        2520        2505   \n",
       "Odisha                                0         229         561         495   \n",
       "Andaman and Nicobar Islands           0           9           7           3   \n",
       "Punjab                                0         116         153         172   \n",
       "\n",
       "states                       2020-07-05  2020-07-06  2020-07-07  2020-07-08  \\\n",
       "state                                                                         \n",
       "Telangana                          1590        1831        1879        1924   \n",
       "Delhi                              2244        1379        2008        2033   \n",
       "Odisha                              469         456         571         527   \n",
       "Andaman and Nicobar Islands           6          16           6           2   \n",
       "Punjab                              174         208         258         158   \n",
       "\n",
       "states                       2020-07-09  2020-07-10  ...  2021-01-29  \\\n",
       "state                                                ...               \n",
       "Telangana                          1410        1278  ...         197   \n",
       "Delhi                              2187        2089  ...         249   \n",
       "Odisha                              577         755  ...          70   \n",
       "Andaman and Nicobar Islands           7           0  ...           0   \n",
       "Punjab                              233         217  ...         254   \n",
       "\n",
       "states                       2021-01-30  2021-01-31  2021-02-01  2021-02-02  \\\n",
       "state                                                                         \n",
       "Telangana                           186         163         118         152   \n",
       "Delhi                               183         140         121         114   \n",
       "Odisha                              108         114          79          60   \n",
       "Andaman and Nicobar Islands           0           0           0           0   \n",
       "Punjab                              224         192         194         204   \n",
       "\n",
       "states                       2021-02-03  2021-02-04  2021-02-05  2021-02-06  \\\n",
       "state                                                                         \n",
       "Telangana                           185         177         169         161   \n",
       "Delhi                               150         158         154         123   \n",
       "Odisha                               71          87          97          82   \n",
       "Andaman and Nicobar Islands           0           0           3           3   \n",
       "Punjab                              187         196         199         183   \n",
       "\n",
       "states                       2021-02-07  \n",
       "state                                    \n",
       "Telangana                           150  \n",
       "Delhi                               119  \n",
       "Odisha                               72  \n",
       "Andaman and Nicobar Islands           0  \n",
       "Punjab                                0  \n",
       "\n",
       "[5 rows x 222 columns]"
      ]
     },
     "execution_count": 18,
     "metadata": {},
     "output_type": "execute_result"
    }
   ],
   "source": [
    "#hide\n",
    "dft_ct_new_cases.head()"
   ]
  },
  {
   "cell_type": "code",
   "execution_count": 19,
   "id": "responsible-nightlife",
   "metadata": {
    "execution": {
     "iopub.execute_input": "2021-02-07T13:03:42.720322Z",
     "iopub.status.busy": "2021-02-07T13:03:42.704426Z",
     "iopub.status.idle": "2021-02-07T13:03:50.257794Z",
     "shell.execute_reply": "2021-02-07T13:03:50.258280Z"
    },
    "papermill": {
     "duration": 7.58234,
     "end_time": "2021-02-07T13:03:50.258438",
     "exception": false,
     "start_time": "2021-02-07T13:03:42.676098",
     "status": "completed"
    },
    "tags": []
   },
   "outputs": [
    {
     "data": {
      "image/png": "[encoded data removed]",
      "text/plain": [
       "<Figure size 1296x2016 with 11 Axes>"
      ]
     },
     "metadata": {
      "needs_background": "light"
     },
     "output_type": "display_data"
    }
   ],
   "source": [
    "#hide_input\n",
    "df = dft_ct_new_cases.copy()\n",
    "df.loc['Total'] = df.sum()\n",
    "n = 5\n",
    "ax = []\n",
    "fig = plt.figure(figsize = (18,28))\n",
    "gs = fig.add_gridspec(n+2, 5)\n",
    "# gs = fig.add_gridspec(2, 3)\n",
    "ax1 = fig.add_subplot(gs[0, :])\n",
    "ef = df.loc['Total'].rename_axis('date').reset_index()\n",
    "ef['date'] = ef['date'].astype('datetime64[ns]')\n",
    "ax1.bar(ef.date,ef.Total,alpha=0.3,color='#007acc')\n",
    "ax1.plot(ef.date,ef.Total , marker=\"o\", color='#007acc')\n",
    "ax1.xaxis.set_major_locator(mdates.WeekdayLocator())\n",
    "ax1.xaxis.set_major_formatter(mdates.DateFormatter('%b %d'))\n",
    "ax1.text(0.02, 0.5,'India daily case count', transform = ax1.transAxes, fontsize=25);\n",
    "ax1.spines['right'].set_visible(False)\n",
    "ax1.spines['top'].set_visible(False)\n",
    "\n",
    "ax2 = fig.add_subplot(gs[1,0])\n",
    "ef = df.loc['Maharashtra'].rename_axis('date').reset_index()\n",
    "ef['date'] = ef['date'].astype('datetime64[ns]')\n",
    "\n",
    "ax2.bar(ef.date, ef.Maharashtra,color = '#007acc',alpha=0.5)\n",
    "ax2.xaxis.set_major_locator(mdates.WeekdayLocator())\n",
    "ax2.xaxis.set_major_formatter(mdates.DateFormatter('%b %d'))\n",
    "ax2.set_xticks(ax2.get_xticks()[::3])\n",
    "maxyval = ef.Maharashtra.max()\n",
    "ax2.set_ylim([0,maxyval])\n",
    "ax2.text(0.05, 0.9,'Maharashtra', transform = ax2.transAxes, fontsize=20);\n",
    "ax2.spines['right'].set_visible(False)\n",
    "ax2.spines['top'].set_visible(False)\n",
    "\n",
    "\n",
    "ax3 = fig.add_subplot(gs[1,1])\n",
    "ef = df.loc['Tamil Nadu'].rename_axis('date').reset_index()\n",
    "ef['date'] = ef['date'].astype('datetime64[ns]')\n",
    "ax3.bar(ef.date, ef['Tamil Nadu'],color = '#007acc',alpha=0.5,)\n",
    "ax3.xaxis.set_major_locator(mdates.WeekdayLocator())\n",
    "ax3.xaxis.set_major_formatter(mdates.DateFormatter('%b %d'))\n",
    "ax3.set_xticks(ax3.get_xticks()[::3])\n",
    "ax3.text(0.05, 0.9,'Tamil Nadu', transform = ax3.transAxes, fontsize=20);\n",
    "ax3.spines['right'].set_visible(False)\n",
    "ax3.spines['top'].set_visible(False)\n",
    "\n",
    "ax5 = fig.add_subplot(gs[1,3])\n",
    "ef = df.loc['Telangana'].rename_axis('date').reset_index()\n",
    "ef['date'] = ef['date'].astype('datetime64[ns]')\n",
    "ax5.bar(ef.date, ef['Telangana'],color = '#007acc',alpha=0.5,)\n",
    "ax5.xaxis.set_major_locator(mdates.WeekdayLocator())\n",
    "ax5.xaxis.set_major_formatter(mdates.DateFormatter('%b %d'))\n",
    "ax5.set_xticks(ax5.get_xticks()[::3])\n",
    "ax5.text(0.05, 0.9,'Telangana', transform = ax5.transAxes, fontsize=20);\n",
    "ax5.spines['right'].set_visible(False)\n",
    "ax5.spines['top'].set_visible(False)\n",
    "\n",
    "ax6 = fig.add_subplot(gs[1,4])\n",
    "ef = df.loc['Andhra Pradesh'].rename_axis('date').reset_index()\n",
    "ef['date'] = ef['date'].astype('datetime64[ns]')\n",
    "ax6.bar(ef.date, ef['Andhra Pradesh'],color = '#007acc',alpha=0.5,)\n",
    "ax6.xaxis.set_major_locator(mdates.WeekdayLocator())\n",
    "ax6.xaxis.set_major_formatter(mdates.DateFormatter('%b %d'))\n",
    "ax6.set_xticks(ax6.get_xticks()[::3])\n",
    "ax6.text(0.05, 1,'Andhra Pradesh', transform = ax6.transAxes, fontsize=20);\n",
    "ax6.spines['right'].set_visible(False)\n",
    "ax6.spines['top'].set_visible(False)\n",
    "\n",
    "ax4 = fig.add_subplot(gs[1,2])\n",
    "ef = df.loc['Delhi'].rename_axis('date').reset_index()\n",
    "ef['date'] = ef['date'].astype('datetime64[ns]')\n",
    "ax4.bar(ef.date, ef.Delhi,color = '#007acc',alpha=0.5)\n",
    "ax4.set_xticks([])\n",
    "ax4.xaxis.set_major_locator(mdates.WeekdayLocator())\n",
    "ax4.xaxis.set_major_formatter(mdates.DateFormatter('%b %d'))\n",
    "ax4.set_xticks(ax4.get_xticks()[::3])\n",
    "ax4.spines['right'].set_visible(False)\n",
    "ax4.spines['top'].set_visible(False)\n",
    "\n",
    "ax4.text(0.05, 1,'Delhi', transform = ax4.transAxes, fontsize=20)\n",
    "\n",
    "for i in range(n):\n",
    "    \n",
    "    ax.append(fig.add_subplot(gs[i+2,:]))\n",
    "    ef = df.iloc[i+3].rename_axis('date').reset_index()\n",
    "    ef['date'] = ef['date'].astype('datetime64[ns]')\n",
    "    ax[i].bar(ef.date,ef.iloc[:,-1],color = '#007acc',alpha=0.3)\n",
    "    ax[i].plot(ef.date,ef.iloc[:,-1],marker='o',color='#007acc')\n",
    "    ax[i].text(0.02,0.5,f'{ef.columns.values[-1]}',transform = ax[i].transAxes, fontsize = 20);\n",
    "    ax[i].xaxis.set_major_locator(mdates.WeekdayLocator())\n",
    "    ax[i].xaxis.set_major_formatter(mdates.DateFormatter('%b %d'))\n",
    "    ax[i].set_ylim([0,7000])\n",
    "    ax[i].spines['right'].set_visible(False)\n",
    "    ax[i].spines['top'].set_visible(False)\n",
    "plt.tight_layout()\n"
   ]
  },
  {
   "cell_type": "code",
   "execution_count": 20,
   "id": "dress-forge",
   "metadata": {
    "execution": {
     "iopub.execute_input": "2021-02-07T13:03:50.319220Z",
     "iopub.status.busy": "2021-02-07T13:03:50.318516Z",
     "iopub.status.idle": "2021-02-07T13:03:50.322247Z",
     "shell.execute_reply": "2021-02-07T13:03:50.321756Z"
    },
    "papermill": {
     "duration": 0.039188,
     "end_time": "2021-02-07T13:03:50.322389",
     "exception": false,
     "start_time": "2021-02-07T13:03:50.283201",
     "status": "completed"
    },
    "tags": []
   },
   "outputs": [
    {
     "name": "stdout",
     "output_type": "stream",
     "text": [
      "                                   states    Cases  Deaths   PCases  PDeaths  Cases (+)  Deaths (+)  Fatality Rate\n",
      "                              Maharashtra  2041398   51280  2041398    51280          0           0           2.51\n",
      "                                   Kerala   962364    3849   962364     3849          0           0           0.40\n",
      "                                Karnataka   942031   12233   942031    12233          0           0           1.30\n",
      "                           Andhra Pradesh   888350    7159   888350     7159          0           0           0.81\n",
      "                               Tamil Nadu   841326   12382   841326    12382          0           0           1.47\n",
      "                                    Delhi   636035   10879   635916    10877        119           2           1.71\n",
      "                            Uttar Pradesh   601272    8686   601272     8686          0           0           1.44\n",
      "                              West Bengal   571178   10202   571178    10202          0           0           1.79\n",
      "                                   Odisha   335620    1962   335548     1962         72           0           0.58\n",
      "                                Rajasthan   318118    2772   318118     2772          0           0           0.87\n",
      "                             Chhattisgarh   307339    3735   307339     3735          0           0           1.22\n",
      "                                Telangana   295581    1610   295431     1608        150           2           0.54\n",
      "                                  Haryana   268364    3027   268364     3027          0           0           1.13\n",
      "                                  Gujarat   263200    4394   263200     4394          0           0           1.67\n",
      "                                    Bihar   261246    1515   261246     1515          0           0           0.58\n",
      "                           Madhya Pradesh   256214    3820   256214     3820          0           0           1.49\n",
      "                                    Assam   217202    1084   217202     1084          0           0           0.50\n",
      "                                   Punjab   174439    5640   174439     5640          0           0           3.23\n",
      "                        Jammu and Kashmir   124850    1944   124850     1944          0           0           1.56\n",
      "                                Jharkhand   118979    1077   118979     1077          0           0           0.91\n",
      "                              Uttarakhand    96478    1664    96478     1664          0           0           1.72\n",
      "                         Himachal Pradesh    57851     971    57851      971          0           0           1.68\n",
      "                                      Goa    53838     770    53838      770          0           0           1.43\n",
      "                               Puducherry    39270     654    39270      654          0           0           1.67\n",
      "                                  Tripura    33349     388    33349      388          0           0           1.16\n",
      "                                  Manipur    29117     372    29117      372          0           0           1.28\n",
      "                               Chandigarh    21060     338    21060      338          0           0           1.60\n",
      "                        Arunachal Pradesh    16830      56    16830       56          0           0           0.33\n",
      "                                Meghalaya    13845     147    13845      147          0           0           1.06\n",
      "                                 Nagaland    12148      88    12148       88          0           0           0.72\n",
      "                                   Ladakh     9743     130     9743      130          0           0           1.33\n",
      "                                   Sikkim     6108     135     6108      135          0           0           2.21\n",
      "              Andaman and Nicobar Islands     5000      62     5000       62          0           0           1.24\n",
      "                                  Mizoram     4381       9     4381        9          0           0           0.21\n",
      " Dadra and Nagar Haveli and Daman and Diu     3380       2     3380        2          0           0           0.06\n",
      "                              Lakshadweep      151       0      151        0          0           0           0.00\n"
     ]
    }
   ],
   "source": [
    "#hide_input\n",
    "print(df_table.to_string(index=False))"
   ]
  },
  {
   "cell_type": "code",
   "execution_count": null,
   "id": "quantitative-legend",
   "metadata": {
    "papermill": {
     "duration": 0.024745,
     "end_time": "2021-02-07T13:03:50.371954",
     "exception": false,
     "start_time": "2021-02-07T13:03:50.347209",
     "status": "completed"
    },
    "tags": []
   },
   "outputs": [],
   "source": []
  },
  {
   "cell_type": "code",
   "execution_count": null,
   "id": "distant-acoustic",
   "metadata": {
    "papermill": {
     "duration": 0.024659,
     "end_time": "2021-02-07T13:03:50.421522",
     "exception": false,
     "start_time": "2021-02-07T13:03:50.396863",
     "status": "completed"
    },
    "tags": []
   },
   "outputs": [],
   "source": []
  }
 ],
 "metadata": {
  "kernelspec": {
   "display_name": "Python 3",
   "language": "python",
   "name": "python3"
  },
  "language_info": {
   "codemirror_mode": {
    "name": "ipython",
    "version": 3
   },
   "file_extension": ".py",
   "mimetype": "text/x-python",
   "name": "python",
   "nbconvert_exporter": "python",
   "pygments_lexer": "ipython3",
   "version": "3.6.12"
  },
  "papermill": {
   "duration": 18.336586,
   "end_time": "2021-02-07T13:03:51.835793",
   "environment_variables": {},
   "exception": null,
   "input_path": "latest.ipynb",
   "output_path": "latest.ipynb",
   "parameters": {},
   "start_time": "2021-02-07T13:03:33.499207",
   "version": "2.1.2"
  }
 },
 "nbformat": 4,
 "nbformat_minor": 5
}