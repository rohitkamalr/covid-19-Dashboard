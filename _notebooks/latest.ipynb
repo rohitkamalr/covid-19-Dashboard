{
 "cells": [
  {
   "cell_type": "markdown",
   "metadata": {
    "papermill": {
     "duration": 0.020056,
     "end_time": "2020-10-06T05:23:27.630384",
     "exception": false,
     "start_time": "2020-10-06T05:23:27.610328",
     "status": "completed"
    },
    "tags": []
   },
   "source": [
    "# Latest COVID-19 India Matplotlib Overview"
   ]
  },
  {
   "cell_type": "code",
   "execution_count": 1,
   "metadata": {
    "execution": {
     "iopub.execute_input": "2020-10-06T05:23:27.671552Z",
     "iopub.status.busy": "2020-10-06T05:23:27.670871Z",
     "iopub.status.idle": "2020-10-06T05:23:28.312074Z",
     "shell.execute_reply": "2020-10-06T05:23:28.311523Z"
    },
    "papermill": {
     "duration": 0.664909,
     "end_time": "2020-10-06T05:23:28.312235",
     "exception": false,
     "start_time": "2020-10-06T05:23:27.647326",
     "status": "completed"
    },
    "tags": []
   },
   "outputs": [],
   "source": [
    "#hide\n",
    "import pandas as pd\n",
    "import numpy as np\n",
    "import requests\n",
    "import json\n",
    "import matplotlib.pyplot as plt\n",
    "import matplotlib.dates as mdates\n",
    "import matplotlib as mpl\n",
    "from IPython.core.display import display,HTML\n",
    "%matplotlib inline\n",
    "from datetime import date"
   ]
  },
  {
   "cell_type": "code",
   "execution_count": 2,
   "metadata": {
    "execution": {
     "iopub.execute_input": "2020-10-06T05:23:28.353940Z",
     "iopub.status.busy": "2020-10-06T05:23:28.353048Z",
     "iopub.status.idle": "2020-10-06T05:23:28.710766Z",
     "shell.execute_reply": "2020-10-06T05:23:28.710030Z"
    },
    "papermill": {
     "duration": 0.381369,
     "end_time": "2020-10-06T05:23:28.710957",
     "exception": false,
     "start_time": "2020-10-06T05:23:28.329588",
     "status": "completed"
    },
    "tags": []
   },
   "outputs": [],
   "source": [
    "#hide\n",
    "df  = pd.read_csv('https://api.covid19india.org/csv/latest/states.csv')\n",
    "df = df[['Date','State','Confirmed','Deceased']]\n",
    "df = df.rename(columns={'Confirmed':'Cases', \"Deceased\":'Deaths'})\n",
    "df_cases = df[[\"Date\",'State','Cases']]\n",
    "df_deaths = df[['Date','State','Deaths']]\n",
    "df_cases1 = df_cases.groupby('Date')\n",
    "df_deaths1= df_deaths.groupby('Date')"
   ]
  },
  {
   "cell_type": "code",
   "execution_count": 3,
   "metadata": {
    "execution": {
     "iopub.execute_input": "2020-10-06T05:23:28.750590Z",
     "iopub.status.busy": "2020-10-06T05:23:28.749964Z",
     "iopub.status.idle": "2020-10-06T05:23:28.769931Z",
     "shell.execute_reply": "2020-10-06T05:23:28.769268Z"
    },
    "papermill": {
     "duration": 0.040441,
     "end_time": "2020-10-06T05:23:28.770069",
     "exception": false,
     "start_time": "2020-10-06T05:23:28.729628",
     "status": "completed"
    },
    "tags": []
   },
   "outputs": [],
   "source": [
    "#hide\n",
    "df_snap = pd.read_csv('data/SnapshotCases-28-July.csv')\n",
    "arr_states = df_snap['states'].unique()\n",
    "arr_dates = df['Date'].unique()\n",
    "df_snap = df_snap.set_index('states')"
   ]
  },
  {
   "cell_type": "code",
   "execution_count": 4,
   "metadata": {
    "execution": {
     "iopub.execute_input": "2020-10-06T05:23:28.807495Z",
     "iopub.status.busy": "2020-10-06T05:23:28.806454Z",
     "iopub.status.idle": "2020-10-06T05:23:28.810769Z",
     "shell.execute_reply": "2020-10-06T05:23:28.811449Z"
    },
    "papermill": {
     "duration": 0.026719,
     "end_time": "2020-10-06T05:23:28.811663",
     "exception": false,
     "start_time": "2020-10-06T05:23:28.784944",
     "status": "completed"
    },
    "tags": []
   },
   "outputs": [
    {
     "data": {
      "text/plain": [
       "array(['Andaman and Nicobar Islands', 'Andhra Pradesh',\n",
       "       'Arunachal Pradesh', 'Assam', 'Bihar', 'Chandigarh',\n",
       "       'Dadra and Nagar Haveli and Daman and Diu', 'Delhi', 'Goa',\n",
       "       'Gujarat', 'Haryana', 'Himachal Pradesh', 'Jammu and Kashmir',\n",
       "       'Jharkhand', 'Karnataka', 'Kerala', 'Lakshadweep',\n",
       "       'Madhya Pradesh', 'Maharashtra', 'Manipur', 'Meghalaya', 'Mizoram',\n",
       "       'Nagaland', 'Odisha', 'Puducherry', 'Punjab', 'Rajasthan',\n",
       "       'Sikkim', 'Tamil Nadu', 'Telangana', 'Tripura', 'Uttar Pradesh',\n",
       "       'West Bengal', 'Chhattisgarh', 'Ladakh', 'Uttarakhand'],\n",
       "      dtype=object)"
      ]
     },
     "execution_count": 4,
     "metadata": {},
     "output_type": "execute_result"
    }
   ],
   "source": [
    "#hide\n",
    "arr_states[-9] = 'Puducherry'\n",
    "arr_states[-10] = 'Odisha'\n",
    "arr_states[6] = 'Dadra and Nagar Haveli and Daman and Diu'\n",
    "arr_states = np.append(arr_states,np.array(['Chhattisgarh','Ladakh','Uttarakhand']))\n",
    "arr_states"
   ]
  },
  {
   "cell_type": "code",
   "execution_count": 5,
   "metadata": {
    "execution": {
     "iopub.execute_input": "2020-10-06T05:23:28.867067Z",
     "iopub.status.busy": "2020-10-06T05:23:28.865694Z",
     "iopub.status.idle": "2020-10-06T05:23:28.867789Z",
     "shell.execute_reply": "2020-10-06T05:23:28.866360Z"
    },
    "papermill": {
     "duration": 0.039497,
     "end_time": "2020-10-06T05:23:28.867996",
     "exception": false,
     "start_time": "2020-10-06T05:23:28.828499",
     "status": "completed"
    },
    "tags": []
   },
   "outputs": [],
   "source": [
    "#hide\n",
    "dates = []\n",
    "for i in arr_dates:\n",
    "    if i>='2020-07-01':\n",
    "        dates.append(i)\n",
    "dict = {'states':dates}\n",
    "for i in arr_states:\n",
    "    dict[i] = [0]*len(dates)\n",
    "dft_cases = pd.DataFrame(dict)\n",
    "dft_deaths = pd.DataFrame(dict)\n"
   ]
  },
  {
   "cell_type": "code",
   "execution_count": 6,
   "metadata": {
    "execution": {
     "iopub.execute_input": "2020-10-06T05:23:29.166222Z",
     "iopub.status.busy": "2020-10-06T05:23:29.165490Z",
     "iopub.status.idle": "2020-10-06T05:23:30.912799Z",
     "shell.execute_reply": "2020-10-06T05:23:30.912184Z"
    },
    "papermill": {
     "duration": 1.979933,
     "end_time": "2020-10-06T05:23:30.912968",
     "exception": false,
     "start_time": "2020-10-06T05:23:28.933035",
     "status": "completed"
    },
    "tags": []
   },
   "outputs": [],
   "source": [
    "#hide\n",
    "for i in range(len(dates)):\n",
    "    df1_deaths = df_deaths1.get_group(dates[i])\n",
    "    for j in range(len(df1_deaths.index)):\n",
    "        if df1_deaths.iloc[j,1] in arr_states:\n",
    "            dft_deaths.loc[i,df1_deaths.iloc[j,1]] = df1_deaths.iloc[j,2]\n",
    "dft_deaths = dft_deaths.set_index('states')"
   ]
  },
  {
   "cell_type": "code",
   "execution_count": 7,
   "metadata": {
    "execution": {
     "iopub.execute_input": "2020-10-06T05:23:30.966627Z",
     "iopub.status.busy": "2020-10-06T05:23:30.965997Z",
     "iopub.status.idle": "2020-10-06T05:23:32.663930Z",
     "shell.execute_reply": "2020-10-06T05:23:32.663352Z"
    },
    "papermill": {
     "duration": 1.731638,
     "end_time": "2020-10-06T05:23:32.664071",
     "exception": false,
     "start_time": "2020-10-06T05:23:30.932433",
     "status": "completed"
    },
    "tags": []
   },
   "outputs": [],
   "source": [
    "#hide\n",
    "for i in range(len(dates)):\n",
    "    df1_cases = df_cases1.get_group(dates[i])\n",
    "    for j in range(len(df1_cases.index)):\n",
    "        if df1_cases.iloc[j,1] in arr_states:\n",
    "            dft_cases.loc[i,df1_cases.iloc[j,1]] = df1_cases.iloc[j,2]\n",
    "dft_cases = dft_cases.set_index('states')"
   ]
  },
  {
   "cell_type": "code",
   "execution_count": 8,
   "metadata": {
    "execution": {
     "iopub.execute_input": "2020-10-06T05:23:32.703862Z",
     "iopub.status.busy": "2020-10-06T05:23:32.703268Z",
     "iopub.status.idle": "2020-10-06T05:23:32.706585Z",
     "shell.execute_reply": "2020-10-06T05:23:32.707651Z"
    },
    "papermill": {
     "duration": 0.026585,
     "end_time": "2020-10-06T05:23:32.707830",
     "exception": false,
     "start_time": "2020-10-06T05:23:32.681245",
     "status": "completed"
    },
    "tags": []
   },
   "outputs": [],
   "source": [
    "#hide\n",
    "dft_cases = dft_cases.T\n",
    "dft_deaths = dft_deaths.T\n",
    "dt_today = dates[-1]\n",
    "dt_yday = dates[-2]"
   ]
  },
  {
   "cell_type": "code",
   "execution_count": 9,
   "metadata": {
    "execution": {
     "iopub.execute_input": "2020-10-06T05:23:32.749921Z",
     "iopub.status.busy": "2020-10-06T05:23:32.749307Z",
     "iopub.status.idle": "2020-10-06T05:23:32.754448Z",
     "shell.execute_reply": "2020-10-06T05:23:32.753672Z"
    },
    "papermill": {
     "duration": 0.028832,
     "end_time": "2020-10-06T05:23:32.754582",
     "exception": false,
     "start_time": "2020-10-06T05:23:32.725750",
     "status": "completed"
    },
    "tags": []
   },
   "outputs": [],
   "source": [
    "#hide\n",
    "dft_cases = dft_cases.reset_index()\n",
    "dft_deaths = dft_deaths.reset_index()\n",
    "dft_cases = dft_cases.rename(columns = {'index':'state'})\n",
    "dft_deaths = dft_deaths.rename(columns = {'index':'state'})"
   ]
  },
  {
   "cell_type": "code",
   "execution_count": 10,
   "metadata": {
    "execution": {
     "iopub.execute_input": "2020-10-06T05:23:32.798842Z",
     "iopub.status.busy": "2020-10-06T05:23:32.798139Z",
     "iopub.status.idle": "2020-10-06T05:23:32.800383Z",
     "shell.execute_reply": "2020-10-06T05:23:32.799887Z"
    },
    "papermill": {
     "duration": 0.029539,
     "end_time": "2020-10-06T05:23:32.800533",
     "exception": false,
     "start_time": "2020-10-06T05:23:32.770994",
     "status": "completed"
    },
    "tags": []
   },
   "outputs": [],
   "source": [
    "#hide\n",
    "dfc_cases = dft_cases.groupby('state')[dt_today].sum()\n",
    "dfc_deaths = dft_deaths.groupby('state')[dt_today].sum()\n",
    "dfp_cases = dft_cases.groupby('state')[dt_yday].sum()\n",
    "dfp_deaths = dft_deaths.groupby('state')[dt_yday].sum()"
   ]
  },
  {
   "cell_type": "code",
   "execution_count": 11,
   "metadata": {
    "execution": {
     "iopub.execute_input": "2020-10-06T05:23:32.852580Z",
     "iopub.status.busy": "2020-10-06T05:23:32.848890Z",
     "iopub.status.idle": "2020-10-06T05:23:32.855904Z",
     "shell.execute_reply": "2020-10-06T05:23:32.856420Z"
    },
    "papermill": {
     "duration": 0.039311,
     "end_time": "2020-10-06T05:23:32.856558",
     "exception": false,
     "start_time": "2020-10-06T05:23:32.817247",
     "status": "completed"
    },
    "tags": []
   },
   "outputs": [
    {
     "data": {
      "text/html": [
       "<div>\n",
       "<style scoped>\n",
       "    .dataframe tbody tr th:only-of-type {\n",
       "        vertical-align: middle;\n",
       "    }\n",
       "\n",
       "    .dataframe tbody tr th {\n",
       "        vertical-align: top;\n",
       "    }\n",
       "\n",
       "    .dataframe thead th {\n",
       "        text-align: right;\n",
       "    }\n",
       "</style>\n",
       "<table border=\"1\" class=\"dataframe\">\n",
       "  <thead>\n",
       "    <tr style=\"text-align: right;\">\n",
       "      <th></th>\n",
       "      <th>states</th>\n",
       "      <th>Cases</th>\n",
       "      <th>Deaths</th>\n",
       "      <th>PCases</th>\n",
       "      <th>PDeaths</th>\n",
       "    </tr>\n",
       "  </thead>\n",
       "  <tbody>\n",
       "    <tr>\n",
       "      <th>0</th>\n",
       "      <td>Maharashtra</td>\n",
       "      <td>1453653</td>\n",
       "      <td>38347</td>\n",
       "      <td>1453653</td>\n",
       "      <td>38347</td>\n",
       "    </tr>\n",
       "    <tr>\n",
       "      <th>1</th>\n",
       "      <td>Andhra Pradesh</td>\n",
       "      <td>723512</td>\n",
       "      <td>6019</td>\n",
       "      <td>723512</td>\n",
       "      <td>6019</td>\n",
       "    </tr>\n",
       "    <tr>\n",
       "      <th>2</th>\n",
       "      <td>Karnataka</td>\n",
       "      <td>647712</td>\n",
       "      <td>9370</td>\n",
       "      <td>647712</td>\n",
       "      <td>9370</td>\n",
       "    </tr>\n",
       "    <tr>\n",
       "      <th>3</th>\n",
       "      <td>Tamil Nadu</td>\n",
       "      <td>625391</td>\n",
       "      <td>9846</td>\n",
       "      <td>625391</td>\n",
       "      <td>9846</td>\n",
       "    </tr>\n",
       "    <tr>\n",
       "      <th>4</th>\n",
       "      <td>Uttar Pradesh</td>\n",
       "      <td>417437</td>\n",
       "      <td>6092</td>\n",
       "      <td>417437</td>\n",
       "      <td>6092</td>\n",
       "    </tr>\n",
       "  </tbody>\n",
       "</table>\n",
       "</div>"
      ],
      "text/plain": [
       "           states    Cases  Deaths   PCases  PDeaths\n",
       "0     Maharashtra  1453653   38347  1453653    38347\n",
       "1  Andhra Pradesh   723512    6019   723512     6019\n",
       "2       Karnataka   647712    9370   647712     9370\n",
       "3      Tamil Nadu   625391    9846   625391     9846\n",
       "4   Uttar Pradesh   417437    6092   417437     6092"
      ]
     },
     "execution_count": 11,
     "metadata": {},
     "output_type": "execute_result"
    }
   ],
   "source": [
    "#hide\n",
    "df_table = pd.DataFrame({'states': dfc_cases.index, 'Cases': dfc_cases.values, 'Deaths': dfc_deaths.values, 'PCases': dfp_cases.values, 'PDeaths': dfp_deaths.values}).set_index('states')\n",
    "df_table = df_table.sort_values(by = ['Cases','Deaths'], ascending = [False, False])\n",
    "df_table = df_table.reset_index()\n",
    "df_table.head()"
   ]
  },
  {
   "cell_type": "code",
   "execution_count": 12,
   "metadata": {
    "execution": {
     "iopub.execute_input": "2020-10-06T05:23:32.895025Z",
     "iopub.status.busy": "2020-10-06T05:23:32.894210Z",
     "iopub.status.idle": "2020-10-06T05:23:32.903714Z",
     "shell.execute_reply": "2020-10-06T05:23:32.903228Z"
    },
    "papermill": {
     "duration": 0.031196,
     "end_time": "2020-10-06T05:23:32.903840",
     "exception": false,
     "start_time": "2020-10-06T05:23:32.872644",
     "status": "completed"
    },
    "tags": []
   },
   "outputs": [],
   "source": [
    "#hide\n",
    "for c in 'Cases, Deaths'.split(', '):\n",
    "    df_table[f'{c} (+)'] = (df_table[c] - df_table[f'P{c}']).clip(0)\n",
    "df_table['Fatality Rate'] = (100* df_table['Deaths']/ df_table['Cases']).round(2)"
   ]
  },
  {
   "cell_type": "code",
   "execution_count": 13,
   "metadata": {
    "execution": {
     "iopub.execute_input": "2020-10-06T05:23:32.951723Z",
     "iopub.status.busy": "2020-10-06T05:23:32.951076Z",
     "iopub.status.idle": "2020-10-06T05:23:32.955244Z",
     "shell.execute_reply": "2020-10-06T05:23:32.954645Z"
    },
    "papermill": {
     "duration": 0.033167,
     "end_time": "2020-10-06T05:23:32.955365",
     "exception": false,
     "start_time": "2020-10-06T05:23:32.922198",
     "status": "completed"
    },
    "tags": []
   },
   "outputs": [
    {
     "data": {
      "text/html": [
       "<div>\n",
       "<style scoped>\n",
       "    .dataframe tbody tr th:only-of-type {\n",
       "        vertical-align: middle;\n",
       "    }\n",
       "\n",
       "    .dataframe tbody tr th {\n",
       "        vertical-align: top;\n",
       "    }\n",
       "\n",
       "    .dataframe thead th {\n",
       "        text-align: right;\n",
       "    }\n",
       "</style>\n",
       "<table border=\"1\" class=\"dataframe\">\n",
       "  <thead>\n",
       "    <tr style=\"text-align: right;\">\n",
       "      <th></th>\n",
       "      <th>states</th>\n",
       "      <th>Cases</th>\n",
       "      <th>Deaths</th>\n",
       "      <th>PCases</th>\n",
       "      <th>PDeaths</th>\n",
       "      <th>Cases (+)</th>\n",
       "      <th>Deaths (+)</th>\n",
       "      <th>Fatality Rate</th>\n",
       "    </tr>\n",
       "  </thead>\n",
       "  <tbody>\n",
       "    <tr>\n",
       "      <th>0</th>\n",
       "      <td>Maharashtra</td>\n",
       "      <td>1453653</td>\n",
       "      <td>38347</td>\n",
       "      <td>1453653</td>\n",
       "      <td>38347</td>\n",
       "      <td>0</td>\n",
       "      <td>0</td>\n",
       "      <td>2.64</td>\n",
       "    </tr>\n",
       "    <tr>\n",
       "      <th>1</th>\n",
       "      <td>Andhra Pradesh</td>\n",
       "      <td>723512</td>\n",
       "      <td>6019</td>\n",
       "      <td>723512</td>\n",
       "      <td>6019</td>\n",
       "      <td>0</td>\n",
       "      <td>0</td>\n",
       "      <td>0.83</td>\n",
       "    </tr>\n",
       "    <tr>\n",
       "      <th>2</th>\n",
       "      <td>Karnataka</td>\n",
       "      <td>647712</td>\n",
       "      <td>9370</td>\n",
       "      <td>647712</td>\n",
       "      <td>9370</td>\n",
       "      <td>0</td>\n",
       "      <td>0</td>\n",
       "      <td>1.45</td>\n",
       "    </tr>\n",
       "    <tr>\n",
       "      <th>3</th>\n",
       "      <td>Tamil Nadu</td>\n",
       "      <td>625391</td>\n",
       "      <td>9846</td>\n",
       "      <td>625391</td>\n",
       "      <td>9846</td>\n",
       "      <td>0</td>\n",
       "      <td>0</td>\n",
       "      <td>1.57</td>\n",
       "    </tr>\n",
       "    <tr>\n",
       "      <th>4</th>\n",
       "      <td>Uttar Pradesh</td>\n",
       "      <td>417437</td>\n",
       "      <td>6092</td>\n",
       "      <td>417437</td>\n",
       "      <td>6092</td>\n",
       "      <td>0</td>\n",
       "      <td>0</td>\n",
       "      <td>1.46</td>\n",
       "    </tr>\n",
       "  </tbody>\n",
       "</table>\n",
       "</div>"
      ],
      "text/plain": [
       "           states    Cases  Deaths   PCases  PDeaths  Cases (+)  Deaths (+)  \\\n",
       "0     Maharashtra  1453653   38347  1453653    38347          0           0   \n",
       "1  Andhra Pradesh   723512    6019   723512     6019          0           0   \n",
       "2       Karnataka   647712    9370   647712     9370          0           0   \n",
       "3      Tamil Nadu   625391    9846   625391     9846          0           0   \n",
       "4   Uttar Pradesh   417437    6092   417437     6092          0           0   \n",
       "\n",
       "   Fatality Rate  \n",
       "0           2.64  \n",
       "1           0.83  \n",
       "2           1.45  \n",
       "3           1.57  \n",
       "4           1.46  "
      ]
     },
     "execution_count": 13,
     "metadata": {},
     "output_type": "execute_result"
    }
   ],
   "source": [
    "#hide\n",
    "df_table.head()"
   ]
  },
  {
   "cell_type": "code",
   "execution_count": 14,
   "metadata": {
    "execution": {
     "iopub.execute_input": "2020-10-06T05:23:32.994360Z",
     "iopub.status.busy": "2020-10-06T05:23:32.993747Z",
     "iopub.status.idle": "2020-10-06T05:23:33.011986Z",
     "shell.execute_reply": "2020-10-06T05:23:33.012431Z"
    },
    "papermill": {
     "duration": 0.039768,
     "end_time": "2020-10-06T05:23:33.012561",
     "exception": false,
     "start_time": "2020-10-06T05:23:32.972793",
     "status": "completed"
    },
    "tags": []
   },
   "outputs": [
    {
     "data": {
      "text/plain": [
       "{'updated': '2020-10-06',\n",
       " 'since': '2020-10-05',\n",
       " 'Cases': 6682583,\n",
       " 'PCases': 6682308,\n",
       " 'Deaths': 103603,\n",
       " 'PDeaths': 103601,\n",
       " 'Cases (+)': 275,\n",
       " 'Deaths (+)': 2}"
      ]
     },
     "execution_count": 14,
     "metadata": {},
     "output_type": "execute_result"
    }
   ],
   "source": [
    "#hide\n",
    "summary = {'updated':dates[-1], 'since':dates[-2]}\n",
    "list_names = ['Cases', 'PCases', 'Deaths', 'PDeaths', 'Cases (+)', 'Deaths (+)']\n",
    "for name in list_names:\n",
    "    summary[name] = df_table.sum()[name]\n",
    "summary"
   ]
  },
  {
   "cell_type": "code",
   "execution_count": 15,
   "metadata": {
    "execution": {
     "iopub.execute_input": "2020-10-06T05:23:33.050426Z",
     "iopub.status.busy": "2020-10-06T05:23:33.049816Z",
     "iopub.status.idle": "2020-10-06T05:23:33.052799Z",
     "shell.execute_reply": "2020-10-06T05:23:33.052116Z"
    },
    "papermill": {
     "duration": 0.023926,
     "end_time": "2020-10-06T05:23:33.052958",
     "exception": false,
     "start_time": "2020-10-06T05:23:33.029032",
     "status": "completed"
    },
    "tags": []
   },
   "outputs": [],
   "source": [
    "#hide\n",
    "overview = '''\n",
    "<!-- #######  HTML!! #########-->\n",
    "<h1 style=\"color: #5e9ca0; text-align: center;\">India</h1>\n",
    "<p style=\"text-align: center;\">Last update: <strong>{update}</strong></p>\n",
    "<p style=\"text-align: center;\">Confirmed cases:</p>\n",
    "<p style=\"text-align: center;font-size:24px;\">{cases} (<span style=\"color: #ff0000;\">+{new}</span>)</p>\n",
    "<p style=\"text-align: center;\">Confirmed deaths:</p>\n",
    "<p style=\"text-align: center;font-size:24px;\">{deaths} (<span style=\"color: #ff0000;\">+{dnew}</span>)</p>\n",
    "'''"
   ]
  },
  {
   "cell_type": "code",
   "execution_count": 16,
   "metadata": {
    "execution": {
     "iopub.execute_input": "2020-10-06T05:23:33.094002Z",
     "iopub.status.busy": "2020-10-06T05:23:33.093364Z",
     "iopub.status.idle": "2020-10-06T05:23:33.096244Z",
     "shell.execute_reply": "2020-10-06T05:23:33.096933Z"
    },
    "papermill": {
     "duration": 0.025683,
     "end_time": "2020-10-06T05:23:33.097150",
     "exception": false,
     "start_time": "2020-10-06T05:23:33.071467",
     "status": "completed"
    },
    "tags": []
   },
   "outputs": [
    {
     "data": {
      "text/html": [
       "\n",
       "<!-- #######  HTML!! #########-->\n",
       "<h1 style=\"color: #5e9ca0; text-align: center;\">India</h1>\n",
       "<p style=\"text-align: center;\">Last update: <strong>2020-10-06</strong></p>\n",
       "<p style=\"text-align: center;\">Confirmed cases:</p>\n",
       "<p style=\"text-align: center;font-size:24px;\">6682583 (<span style=\"color: #ff0000;\">+275</span>)</p>\n",
       "<p style=\"text-align: center;\">Confirmed deaths:</p>\n",
       "<p style=\"text-align: center;font-size:24px;\">103603 (<span style=\"color: #ff0000;\">+2</span>)</p>\n"
      ],
      "text/plain": [
       "<IPython.core.display.HTML object>"
      ]
     },
     "metadata": {},
     "output_type": "display_data"
    }
   ],
   "source": [
    "#hide_input\n",
    "update = summary['updated']\n",
    "cases = summary['Cases']\n",
    "new = summary['Cases (+)']\n",
    "deaths = summary['Deaths']\n",
    "dnew = summary['Deaths (+)']\n",
    "\n",
    "html = HTML(overview.format(update=update, cases=cases,new=new,deaths=deaths,dnew=dnew))\n",
    "\n",
    "display(html)"
   ]
  },
  {
   "cell_type": "code",
   "execution_count": 17,
   "metadata": {
    "execution": {
     "iopub.execute_input": "2020-10-06T05:23:33.150541Z",
     "iopub.status.busy": "2020-10-06T05:23:33.147375Z",
     "iopub.status.idle": "2020-10-06T05:23:33.156493Z",
     "shell.execute_reply": "2020-10-06T05:23:33.155891Z"
    },
    "papermill": {
     "duration": 0.041757,
     "end_time": "2020-10-06T05:23:33.156644",
     "exception": false,
     "start_time": "2020-10-06T05:23:33.114887",
     "status": "completed"
    },
    "tags": []
   },
   "outputs": [],
   "source": [
    "#hide\n",
    "dt_cols = list(dft_cases.columns[1:])\n",
    "dft_ct_new_cases = dft_cases.groupby('state')[dt_cols].sum().diff(axis=1).fillna(0).astype(int)\n",
    "dft_ct_new_cases.sort_values(by = dates[-1], ascending = False,inplace = True)"
   ]
  },
  {
   "cell_type": "code",
   "execution_count": 18,
   "metadata": {
    "execution": {
     "iopub.execute_input": "2020-10-06T05:23:33.211888Z",
     "iopub.status.busy": "2020-10-06T05:23:33.211064Z",
     "iopub.status.idle": "2020-10-06T05:23:33.214084Z",
     "shell.execute_reply": "2020-10-06T05:23:33.214527Z"
    },
    "papermill": {
     "duration": 0.039278,
     "end_time": "2020-10-06T05:23:33.214671",
     "exception": false,
     "start_time": "2020-10-06T05:23:33.175393",
     "status": "completed"
    },
    "tags": []
   },
   "outputs": [
    {
     "data": {
      "text/html": [
       "<div>\n",
       "<style scoped>\n",
       "    .dataframe tbody tr th:only-of-type {\n",
       "        vertical-align: middle;\n",
       "    }\n",
       "\n",
       "    .dataframe tbody tr th {\n",
       "        vertical-align: top;\n",
       "    }\n",
       "\n",
       "    .dataframe thead th {\n",
       "        text-align: right;\n",
       "    }\n",
       "</style>\n",
       "<table border=\"1\" class=\"dataframe\">\n",
       "  <thead>\n",
       "    <tr style=\"text-align: right;\">\n",
       "      <th>states</th>\n",
       "      <th>2020-07-01</th>\n",
       "      <th>2020-07-02</th>\n",
       "      <th>2020-07-03</th>\n",
       "      <th>2020-07-04</th>\n",
       "      <th>2020-07-05</th>\n",
       "      <th>2020-07-06</th>\n",
       "      <th>2020-07-07</th>\n",
       "      <th>2020-07-08</th>\n",
       "      <th>2020-07-09</th>\n",
       "      <th>2020-07-10</th>\n",
       "      <th>...</th>\n",
       "      <th>2020-09-27</th>\n",
       "      <th>2020-09-28</th>\n",
       "      <th>2020-09-29</th>\n",
       "      <th>2020-09-30</th>\n",
       "      <th>2020-10-01</th>\n",
       "      <th>2020-10-02</th>\n",
       "      <th>2020-10-03</th>\n",
       "      <th>2020-10-04</th>\n",
       "      <th>2020-10-05</th>\n",
       "      <th>2020-10-06</th>\n",
       "    </tr>\n",
       "    <tr>\n",
       "      <th>state</th>\n",
       "      <th></th>\n",
       "      <th></th>\n",
       "      <th></th>\n",
       "      <th></th>\n",
       "      <th></th>\n",
       "      <th></th>\n",
       "      <th></th>\n",
       "      <th></th>\n",
       "      <th></th>\n",
       "      <th></th>\n",
       "      <th></th>\n",
       "      <th></th>\n",
       "      <th></th>\n",
       "      <th></th>\n",
       "      <th></th>\n",
       "      <th></th>\n",
       "      <th></th>\n",
       "      <th></th>\n",
       "      <th></th>\n",
       "      <th></th>\n",
       "      <th></th>\n",
       "    </tr>\n",
       "  </thead>\n",
       "  <tbody>\n",
       "    <tr>\n",
       "      <th>Tripura</th>\n",
       "      <td>0</td>\n",
       "      <td>39</td>\n",
       "      <td>93</td>\n",
       "      <td>25</td>\n",
       "      <td>23</td>\n",
       "      <td>111</td>\n",
       "      <td>24</td>\n",
       "      <td>57</td>\n",
       "      <td>16</td>\n",
       "      <td>142</td>\n",
       "      <td>...</td>\n",
       "      <td>320</td>\n",
       "      <td>193</td>\n",
       "      <td>432</td>\n",
       "      <td>381</td>\n",
       "      <td>332</td>\n",
       "      <td>296</td>\n",
       "      <td>190</td>\n",
       "      <td>322</td>\n",
       "      <td>159</td>\n",
       "      <td>275</td>\n",
       "    </tr>\n",
       "    <tr>\n",
       "      <th>Andaman and Nicobar Islands</th>\n",
       "      <td>0</td>\n",
       "      <td>9</td>\n",
       "      <td>7</td>\n",
       "      <td>3</td>\n",
       "      <td>6</td>\n",
       "      <td>16</td>\n",
       "      <td>6</td>\n",
       "      <td>2</td>\n",
       "      <td>7</td>\n",
       "      <td>0</td>\n",
       "      <td>...</td>\n",
       "      <td>20</td>\n",
       "      <td>9</td>\n",
       "      <td>18</td>\n",
       "      <td>14</td>\n",
       "      <td>13</td>\n",
       "      <td>10</td>\n",
       "      <td>10</td>\n",
       "      <td>16</td>\n",
       "      <td>15</td>\n",
       "      <td>0</td>\n",
       "    </tr>\n",
       "    <tr>\n",
       "      <th>Puducherry</th>\n",
       "      <td>0</td>\n",
       "      <td>63</td>\n",
       "      <td>22</td>\n",
       "      <td>80</td>\n",
       "      <td>42</td>\n",
       "      <td>65</td>\n",
       "      <td>30</td>\n",
       "      <td>110</td>\n",
       "      <td>49</td>\n",
       "      <td>72</td>\n",
       "      <td>...</td>\n",
       "      <td>368</td>\n",
       "      <td>285</td>\n",
       "      <td>381</td>\n",
       "      <td>478</td>\n",
       "      <td>480</td>\n",
       "      <td>510</td>\n",
       "      <td>218</td>\n",
       "      <td>337</td>\n",
       "      <td>188</td>\n",
       "      <td>0</td>\n",
       "    </tr>\n",
       "    <tr>\n",
       "      <th>Maharashtra</th>\n",
       "      <td>0</td>\n",
       "      <td>6328</td>\n",
       "      <td>6364</td>\n",
       "      <td>7074</td>\n",
       "      <td>6555</td>\n",
       "      <td>5368</td>\n",
       "      <td>5134</td>\n",
       "      <td>6603</td>\n",
       "      <td>6875</td>\n",
       "      <td>7862</td>\n",
       "      <td>...</td>\n",
       "      <td>18056</td>\n",
       "      <td>11921</td>\n",
       "      <td>14976</td>\n",
       "      <td>18317</td>\n",
       "      <td>16476</td>\n",
       "      <td>15591</td>\n",
       "      <td>14348</td>\n",
       "      <td>12548</td>\n",
       "      <td>10244</td>\n",
       "      <td>0</td>\n",
       "    </tr>\n",
       "    <tr>\n",
       "      <th>Manipur</th>\n",
       "      <td>0</td>\n",
       "      <td>19</td>\n",
       "      <td>37</td>\n",
       "      <td>9</td>\n",
       "      <td>41</td>\n",
       "      <td>24</td>\n",
       "      <td>40</td>\n",
       "      <td>5</td>\n",
       "      <td>15</td>\n",
       "      <td>132</td>\n",
       "      <td>...</td>\n",
       "      <td>248</td>\n",
       "      <td>178</td>\n",
       "      <td>269</td>\n",
       "      <td>237</td>\n",
       "      <td>128</td>\n",
       "      <td>286</td>\n",
       "      <td>252</td>\n",
       "      <td>206</td>\n",
       "      <td>250</td>\n",
       "      <td>0</td>\n",
       "    </tr>\n",
       "  </tbody>\n",
       "</table>\n",
       "<p>5 rows × 98 columns</p>\n",
       "</div>"
      ],
      "text/plain": [
       "states                       2020-07-01  2020-07-02  2020-07-03  2020-07-04  \\\n",
       "state                                                                         \n",
       "Tripura                               0          39          93          25   \n",
       "Andaman and Nicobar Islands           0           9           7           3   \n",
       "Puducherry                            0          63          22          80   \n",
       "Maharashtra                           0        6328        6364        7074   \n",
       "Manipur                               0          19          37           9   \n",
       "\n",
       "states                       2020-07-05  2020-07-06  2020-07-07  2020-07-08  \\\n",
       "state                                                                         \n",
       "Tripura                              23         111          24          57   \n",
       "Andaman and Nicobar Islands           6          16           6           2   \n",
       "Puducherry                           42          65          30         110   \n",
       "Maharashtra                        6555        5368        5134        6603   \n",
       "Manipur                              41          24          40           5   \n",
       "\n",
       "states                       2020-07-09  2020-07-10  ...  2020-09-27  \\\n",
       "state                                                ...               \n",
       "Tripura                              16         142  ...         320   \n",
       "Andaman and Nicobar Islands           7           0  ...          20   \n",
       "Puducherry                           49          72  ...         368   \n",
       "Maharashtra                        6875        7862  ...       18056   \n",
       "Manipur                              15         132  ...         248   \n",
       "\n",
       "states                       2020-09-28  2020-09-29  2020-09-30  2020-10-01  \\\n",
       "state                                                                         \n",
       "Tripura                             193         432         381         332   \n",
       "Andaman and Nicobar Islands           9          18          14          13   \n",
       "Puducherry                          285         381         478         480   \n",
       "Maharashtra                       11921       14976       18317       16476   \n",
       "Manipur                             178         269         237         128   \n",
       "\n",
       "states                       2020-10-02  2020-10-03  2020-10-04  2020-10-05  \\\n",
       "state                                                                         \n",
       "Tripura                             296         190         322         159   \n",
       "Andaman and Nicobar Islands          10          10          16          15   \n",
       "Puducherry                          510         218         337         188   \n",
       "Maharashtra                       15591       14348       12548       10244   \n",
       "Manipur                             286         252         206         250   \n",
       "\n",
       "states                       2020-10-06  \n",
       "state                                    \n",
       "Tripura                             275  \n",
       "Andaman and Nicobar Islands           0  \n",
       "Puducherry                            0  \n",
       "Maharashtra                           0  \n",
       "Manipur                               0  \n",
       "\n",
       "[5 rows x 98 columns]"
      ]
     },
     "execution_count": 18,
     "metadata": {},
     "output_type": "execute_result"
    }
   ],
   "source": [
    "#hide\n",
    "dft_ct_new_cases.head()"
   ]
  },
  {
   "cell_type": "code",
   "execution_count": 19,
   "metadata": {
    "execution": {
     "iopub.execute_input": "2020-10-06T05:23:33.276728Z",
     "iopub.status.busy": "2020-10-06T05:23:33.259108Z",
     "iopub.status.idle": "2020-10-06T05:23:38.142894Z",
     "shell.execute_reply": "2020-10-06T05:23:38.143493Z"
    },
    "papermill": {
     "duration": 4.909749,
     "end_time": "2020-10-06T05:23:38.143670",
     "exception": false,
     "start_time": "2020-10-06T05:23:33.233921",
     "status": "completed"
    },
    "tags": []
   },
   "outputs": [
    {
     "data": {
      "image/png": "[encoded data removed]",
      "text/plain": [
       "<Figure size 1296x2016 with 11 Axes>"
      ]
     },
     "metadata": {
      "needs_background": "light"
     },
     "output_type": "display_data"
    }
   ],
   "source": [
    "#hide_input\n",
    "df = dft_ct_new_cases.copy()\n",
    "df.loc['Total'] = df.sum()\n",
    "n = 5\n",
    "ax = []\n",
    "fig = plt.figure(figsize = (18,28))\n",
    "gs = fig.add_gridspec(n+2, 5)\n",
    "# gs = fig.add_gridspec(2, 3)\n",
    "ax1 = fig.add_subplot(gs[0, :])\n",
    "ef = df.loc['Total'].rename_axis('date').reset_index()\n",
    "ef['date'] = ef['date'].astype('datetime64[ns]')\n",
    "ax1.bar(ef.date,ef.Total,alpha=0.3,color='#007acc')\n",
    "ax1.plot(ef.date,ef.Total , marker=\"o\", color='#007acc')\n",
    "ax1.xaxis.set_major_locator(mdates.WeekdayLocator())\n",
    "ax1.xaxis.set_major_formatter(mdates.DateFormatter('%b %d'))\n",
    "ax1.text(0.02, 0.5,'India daily case count', transform = ax1.transAxes, fontsize=25);\n",
    "ax1.spines['right'].set_visible(False)\n",
    "ax1.spines['top'].set_visible(False)\n",
    "\n",
    "ax2 = fig.add_subplot(gs[1,0])\n",
    "ef = df.loc['Maharashtra'].rename_axis('date').reset_index()\n",
    "ef['date'] = ef['date'].astype('datetime64[ns]')\n",
    "\n",
    "ax2.bar(ef.date, ef.Maharashtra,color = '#007acc',alpha=0.5)\n",
    "ax2.xaxis.set_major_locator(mdates.WeekdayLocator())\n",
    "ax2.xaxis.set_major_formatter(mdates.DateFormatter('%b %d'))\n",
    "ax2.set_xticks(ax2.get_xticks()[::3])\n",
    "maxyval = ef.Maharashtra.max()\n",
    "ax2.set_ylim([0,maxyval])\n",
    "ax2.text(0.05, 0.9,'Maharashtra', transform = ax2.transAxes, fontsize=20);\n",
    "ax2.spines['right'].set_visible(False)\n",
    "ax2.spines['top'].set_visible(False)\n",
    "\n",
    "\n",
    "ax3 = fig.add_subplot(gs[1,1])\n",
    "ef = df.loc['Tamil Nadu'].rename_axis('date').reset_index()\n",
    "ef['date'] = ef['date'].astype('datetime64[ns]')\n",
    "ax3.bar(ef.date, ef['Tamil Nadu'],color = '#007acc',alpha=0.5,)\n",
    "ax3.xaxis.set_major_locator(mdates.WeekdayLocator())\n",
    "ax3.xaxis.set_major_formatter(mdates.DateFormatter('%b %d'))\n",
    "ax3.set_xticks(ax3.get_xticks()[::3])\n",
    "ax3.text(0.05, 0.9,'Tamil Nadu', transform = ax3.transAxes, fontsize=20);\n",
    "ax3.spines['right'].set_visible(False)\n",
    "ax3.spines['top'].set_visible(False)\n",
    "\n",
    "ax5 = fig.add_subplot(gs[1,3])\n",
    "ef = df.loc['Telangana'].rename_axis('date').reset_index()\n",
    "ef['date'] = ef['date'].astype('datetime64[ns]')\n",
    "ax5.bar(ef.date, ef['Telangana'],color = '#007acc',alpha=0.5,)\n",
    "ax5.xaxis.set_major_locator(mdates.WeekdayLocator())\n",
    "ax5.xaxis.set_major_formatter(mdates.DateFormatter('%b %d'))\n",
    "ax5.set_xticks(ax5.get_xticks()[::3])\n",
    "ax5.text(0.05, 0.9,'Telangana', transform = ax5.transAxes, fontsize=20);\n",
    "ax5.spines['right'].set_visible(False)\n",
    "ax5.spines['top'].set_visible(False)\n",
    "\n",
    "ax6 = fig.add_subplot(gs[1,4])\n",
    "ef = df.loc['Andhra Pradesh'].rename_axis('date').reset_index()\n",
    "ef['date'] = ef['date'].astype('datetime64[ns]')\n",
    "ax6.bar(ef.date, ef['Andhra Pradesh'],color = '#007acc',alpha=0.5,)\n",
    "ax6.xaxis.set_major_locator(mdates.WeekdayLocator())\n",
    "ax6.xaxis.set_major_formatter(mdates.DateFormatter('%b %d'))\n",
    "ax6.set_xticks(ax6.get_xticks()[::3])\n",
    "ax6.text(0.05, 1,'Andhra Pradesh', transform = ax6.transAxes, fontsize=20);\n",
    "ax6.spines['right'].set_visible(False)\n",
    "ax6.spines['top'].set_visible(False)\n",
    "\n",
    "ax4 = fig.add_subplot(gs[1,2])\n",
    "ef = df.loc['Delhi'].rename_axis('date').reset_index()\n",
    "ef['date'] = ef['date'].astype('datetime64[ns]')\n",
    "ax4.bar(ef.date, ef.Delhi,color = '#007acc',alpha=0.5)\n",
    "ax4.set_xticks([])\n",
    "ax4.xaxis.set_major_locator(mdates.WeekdayLocator())\n",
    "ax4.xaxis.set_major_formatter(mdates.DateFormatter('%b %d'))\n",
    "ax4.set_xticks(ax4.get_xticks()[::3])\n",
    "ax4.spines['right'].set_visible(False)\n",
    "ax4.spines['top'].set_visible(False)\n",
    "\n",
    "ax4.text(0.05, 1,'Delhi', transform = ax4.transAxes, fontsize=20)\n",
    "\n",
    "for i in range(n):\n",
    "    \n",
    "    ax.append(fig.add_subplot(gs[i+2,:]))\n",
    "    ef = df.iloc[i+3].rename_axis('date').reset_index()\n",
    "    ef['date'] = ef['date'].astype('datetime64[ns]')\n",
    "    ax[i].bar(ef.date,ef.iloc[:,-1],color = '#007acc',alpha=0.3)\n",
    "    ax[i].plot(ef.date,ef.iloc[:,-1],marker='o',color='#007acc')\n",
    "    ax[i].text(0.02,0.5,f'{ef.columns.values[-1]}',transform = ax[i].transAxes, fontsize = 20);\n",
    "    ax[i].xaxis.set_major_locator(mdates.WeekdayLocator())\n",
    "    ax[i].xaxis.set_major_formatter(mdates.DateFormatter('%b %d'))\n",
    "    ax[i].set_ylim([0,7000])\n",
    "    ax[i].spines['right'].set_visible(False)\n",
    "    ax[i].spines['top'].set_visible(False)\n",
    "plt.tight_layout()\n"
   ]
  },
  {
   "cell_type": "code",
   "execution_count": 20,
   "metadata": {
    "execution": {
     "iopub.execute_input": "2020-10-06T05:23:38.203321Z",
     "iopub.status.busy": "2020-10-06T05:23:38.202458Z",
     "iopub.status.idle": "2020-10-06T05:23:38.205301Z",
     "shell.execute_reply": "2020-10-06T05:23:38.205872Z"
    },
    "papermill": {
     "duration": 0.037235,
     "end_time": "2020-10-06T05:23:38.206078",
     "exception": false,
     "start_time": "2020-10-06T05:23:38.168843",
     "status": "completed"
    },
    "tags": []
   },
   "outputs": [
    {
     "name": "stdout",
     "output_type": "stream",
     "text": [
      "                                   states    Cases  Deaths   PCases  PDeaths  Cases (+)  Deaths (+)  Fatality Rate\n",
      "                              Maharashtra  1453653   38347  1453653    38347          0           0           2.64\n",
      "                           Andhra Pradesh   723512    6019   723512     6019          0           0           0.83\n",
      "                                Karnataka   647712    9370   647712     9370          0           0           1.45\n",
      "                               Tamil Nadu   625391    9846   625391     9846          0           0           1.57\n",
      "                            Uttar Pradesh   417437    6092   417437     6092          0           0           1.46\n",
      "                                    Delhi   292560    5542   292560     5542          0           0           1.89\n",
      "                              West Bengal   273679    5255   273679     5255          0           0           1.92\n",
      "                                   Odisha   235330     977   235330      977          0           0           0.42\n",
      "                                   Kerala   234929     860   234929      860          0           0           0.37\n",
      "                                Telangana   200611    1171   200611     1171          0           0           0.58\n",
      "                                    Bihar   188858     924   188858      924          0           0           0.49\n",
      "                                    Assam   187718     760   187718      760          0           0           0.40\n",
      "                                Rajasthan   146195    1559   146195     1559          0           0           1.07\n",
      "                                  Gujarat   144026    3512   144026     3512          0           0           2.44\n",
      "                           Madhya Pradesh   137098    2463   137098     2463          0           0           1.80\n",
      "                                  Haryana   134909    1491   134909     1491          0           0           1.11\n",
      "                             Chhattisgarh   126005    1081   126005     1081          0           0           0.86\n",
      "                                   Punjab   119186    3641   119186     3641          0           0           3.05\n",
      "                                Jharkhand    88026     747    88026      747          0           0           0.85\n",
      "                        Jammu and Kashmir    79738    1252    79738     1252          0           0           1.57\n",
      "                              Uttarakhand    51991     669    51991      669          0           0           1.29\n",
      "                                      Goa    35719     460    35719      460          0           0           1.29\n",
      "                               Puducherry    29277     543    29277      543          0           0           1.85\n",
      "                                  Tripura    27305     298    27030      296        275           2           1.09\n",
      "                         Himachal Pradesh    16033     219    16033      219          0           0           1.37\n",
      "                               Chandigarh    12578     177    12578      177          0           0           1.41\n",
      "                                  Manipur    12105      75    12105       75          0           0           0.62\n",
      "                        Arunachal Pradesh    10783      19    10783       19          0           0           0.18\n",
      "                                Meghalaya     6765      59     6765       59          0           0           0.87\n",
      "                                 Nagaland     6594      12     6594       12          0           0           0.18\n",
      "                                   Ladakh     4641      61     4641       61          0           0           1.31\n",
      "              Andaman and Nicobar Islands     3899      54     3899       54          0           0           1.38\n",
      "                                   Sikkim     3110      46     3110       46          0           0           1.48\n",
      " Dadra and Nagar Haveli and Daman and Diu     3090       2     3090        2          0           0           0.06\n",
      "                                  Mizoram     2120       0     2120        0          0           0           0.00\n",
      "                              Lakshadweep        0       0        0        0          0           0            NaN\n"
     ]
    }
   ],
   "source": [
    "#hide_input\n",
    "print(df_table.to_string(index=False))"
   ]
  },
  {
   "cell_type": "code",
   "execution_count": null,
   "metadata": {
    "papermill": {
     "duration": 0.025376,
     "end_time": "2020-10-06T05:23:38.257345",
     "exception": false,
     "start_time": "2020-10-06T05:23:38.231969",
     "status": "completed"
    },
    "tags": []
   },
   "outputs": [],
   "source": []
  },
  {
   "cell_type": "code",
   "execution_count": null,
   "metadata": {
    "papermill": {
     "duration": 0.023774,
     "end_time": "2020-10-06T05:23:38.304843",
     "exception": false,
     "start_time": "2020-10-06T05:23:38.281069",
     "status": "completed"
    },
    "tags": []
   },
   "outputs": [],
   "source": []
  }
 ],
 "metadata": {
  "kernelspec": {
   "display_name": "Python 3",
   "language": "python",
   "name": "python3"
  },
  "language_info": {
   "codemirror_mode": {
    "name": "ipython",
    "version": 3
   },
   "file_extension": ".py",
   "mimetype": "text/x-python",
   "name": "python",
   "nbconvert_exporter": "python",
   "pygments_lexer": "ipython3",
   "version": "3.6.12"
  },
  "papermill": {
   "duration": 12.322236,
   "end_time": "2020-10-06T05:23:38.838727",
   "environment_variables": {},
   "exception": null,
   "input_path": "latest.ipynb",
   "output_path": "latest.ipynb",
   "parameters": {},
   "start_time": "2020-10-06T05:23:26.516491",
   "version": "2.1.2"
  }
 },
 "nbformat": 4,
 "nbformat_minor": 4
}