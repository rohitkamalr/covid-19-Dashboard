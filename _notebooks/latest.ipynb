{
 "cells": [
  {
   "cell_type": "markdown",
   "id": "colored-stack",
   "metadata": {
    "papermill": {
     "duration": 0.022654,
     "end_time": "2021-05-03T13:15:55.530493",
     "exception": false,
     "start_time": "2021-05-03T13:15:55.507839",
     "status": "completed"
    },
    "tags": []
   },
   "source": [
    "# Latest COVID-19 India Matplotlib Overview"
   ]
  },
  {
   "cell_type": "code",
   "execution_count": 1,
   "id": "light-proportion",
   "metadata": {
    "execution": {
     "iopub.execute_input": "2021-05-03T13:15:55.584078Z",
     "iopub.status.busy": "2021-05-03T13:15:55.583133Z",
     "iopub.status.idle": "2021-05-03T13:15:56.224065Z",
     "shell.execute_reply": "2021-05-03T13:15:56.223029Z"
    },
    "papermill": {
     "duration": 0.675135,
     "end_time": "2021-05-03T13:15:56.224284",
     "exception": false,
     "start_time": "2021-05-03T13:15:55.549149",
     "status": "completed"
    },
    "tags": []
   },
   "outputs": [],
   "source": [
    "#hide\n",
    "import pandas as pd\n",
    "import numpy as np\n",
    "import requests\n",
    "import json\n",
    "import matplotlib.pyplot as plt\n",
    "import matplotlib.dates as mdates\n",
    "import matplotlib as mpl\n",
    "from IPython.core.display import display,HTML\n",
    "%matplotlib inline\n",
    "from datetime import date"
   ]
  },
  {
   "cell_type": "code",
   "execution_count": 2,
   "id": "greenhouse-shooting",
   "metadata": {
    "execution": {
     "iopub.execute_input": "2021-05-03T13:15:56.273068Z",
     "iopub.status.busy": "2021-05-03T13:15:56.272334Z",
     "iopub.status.idle": "2021-05-03T13:15:56.569443Z",
     "shell.execute_reply": "2021-05-03T13:15:56.568894Z"
    },
    "papermill": {
     "duration": 0.327177,
     "end_time": "2021-05-03T13:15:56.569576",
     "exception": false,
     "start_time": "2021-05-03T13:15:56.242399",
     "status": "completed"
    },
    "tags": []
   },
   "outputs": [],
   "source": [
    "#hide\n",
    "df  = pd.read_csv('https://api.covid19india.org/csv/latest/states.csv')\n",
    "df = df[['Date','State','Confirmed','Deceased']]\n",
    "df = df.rename(columns={'Confirmed':'Cases', \"Deceased\":'Deaths'})\n",
    "df_cases = df[[\"Date\",'State','Cases']]\n",
    "df_deaths = df[['Date','State','Deaths']]\n",
    "df_cases1 = df_cases.groupby('Date')\n",
    "df_deaths1= df_deaths.groupby('Date')"
   ]
  },
  {
   "cell_type": "code",
   "execution_count": 3,
   "id": "hybrid-cathedral",
   "metadata": {
    "execution": {
     "iopub.execute_input": "2021-05-03T13:15:56.609047Z",
     "iopub.status.busy": "2021-05-03T13:15:56.608457Z",
     "iopub.status.idle": "2021-05-03T13:15:56.628146Z",
     "shell.execute_reply": "2021-05-03T13:15:56.628589Z"
    },
    "papermill": {
     "duration": 0.042068,
     "end_time": "2021-05-03T13:15:56.628746",
     "exception": false,
     "start_time": "2021-05-03T13:15:56.586678",
     "status": "completed"
    },
    "tags": []
   },
   "outputs": [],
   "source": [
    "#hide\n",
    "df_snap = pd.read_csv('data/SnapshotCases-28-July.csv')\n",
    "arr_states = df_snap['states'].unique()\n",
    "arr_dates = df['Date'].unique()\n",
    "df_snap = df_snap.set_index('states')"
   ]
  },
  {
   "cell_type": "code",
   "execution_count": 4,
   "id": "interior-belfast",
   "metadata": {
    "execution": {
     "iopub.execute_input": "2021-05-03T13:15:56.671059Z",
     "iopub.status.busy": "2021-05-03T13:15:56.670408Z",
     "iopub.status.idle": "2021-05-03T13:15:56.673309Z",
     "shell.execute_reply": "2021-05-03T13:15:56.673746Z"
    },
    "papermill": {
     "duration": 0.028337,
     "end_time": "2021-05-03T13:15:56.673896",
     "exception": false,
     "start_time": "2021-05-03T13:15:56.645559",
     "status": "completed"
    },
    "tags": []
   },
   "outputs": [
    {
     "data": {
      "text/plain": [
       "array(['Andaman and Nicobar Islands', 'Andhra Pradesh',\n",
       "       'Arunachal Pradesh', 'Assam', 'Bihar', 'Chandigarh',\n",
       "       'Dadra and Nagar Haveli and Daman and Diu', 'Delhi', 'Goa',\n",
       "       'Gujarat', 'Haryana', 'Himachal Pradesh', 'Jammu and Kashmir',\n",
       "       'Jharkhand', 'Karnataka', 'Kerala', 'Lakshadweep',\n",
       "       'Madhya Pradesh', 'Maharashtra', 'Manipur', 'Meghalaya', 'Mizoram',\n",
       "       'Nagaland', 'Odisha', 'Puducherry', 'Punjab', 'Rajasthan',\n",
       "       'Sikkim', 'Tamil Nadu', 'Telangana', 'Tripura', 'Uttar Pradesh',\n",
       "       'West Bengal', 'Chhattisgarh', 'Ladakh', 'Uttarakhand'],\n",
       "      dtype=object)"
      ]
     },
     "execution_count": 4,
     "metadata": {},
     "output_type": "execute_result"
    }
   ],
   "source": [
    "#hide\n",
    "arr_states[-9] = 'Puducherry'\n",
    "arr_states[-10] = 'Odisha'\n",
    "arr_states[6] = 'Dadra and Nagar Haveli and Daman and Diu'\n",
    "arr_states = np.append(arr_states,np.array(['Chhattisgarh','Ladakh','Uttarakhand']))\n",
    "arr_states"
   ]
  },
  {
   "cell_type": "code",
   "execution_count": 5,
   "id": "behind-manner",
   "metadata": {
    "execution": {
     "iopub.execute_input": "2021-05-03T13:15:56.723545Z",
     "iopub.status.busy": "2021-05-03T13:15:56.722940Z",
     "iopub.status.idle": "2021-05-03T13:15:56.734141Z",
     "shell.execute_reply": "2021-05-03T13:15:56.734677Z"
    },
    "papermill": {
     "duration": 0.043295,
     "end_time": "2021-05-03T13:15:56.734834",
     "exception": false,
     "start_time": "2021-05-03T13:15:56.691539",
     "status": "completed"
    },
    "tags": []
   },
   "outputs": [],
   "source": [
    "#hide\n",
    "dates = []\n",
    "for i in arr_dates:\n",
    "    if i>='2020-07-01':\n",
    "        dates.append(i)\n",
    "dict = {'states':dates}\n",
    "for i in arr_states:\n",
    "    dict[i] = [0]*len(dates)\n",
    "dft_cases = pd.DataFrame(dict)\n",
    "dft_deaths = pd.DataFrame(dict)\n"
   ]
  },
  {
   "cell_type": "code",
   "execution_count": 6,
   "id": "simplified-peter",
   "metadata": {
    "execution": {
     "iopub.execute_input": "2021-05-03T13:15:56.777174Z",
     "iopub.status.busy": "2021-05-03T13:15:56.776581Z",
     "iopub.status.idle": "2021-05-03T13:16:01.271085Z",
     "shell.execute_reply": "2021-05-03T13:16:01.270181Z"
    },
    "papermill": {
     "duration": 4.518422,
     "end_time": "2021-05-03T13:16:01.271306",
     "exception": false,
     "start_time": "2021-05-03T13:15:56.752884",
     "status": "completed"
    },
    "tags": []
   },
   "outputs": [],
   "source": [
    "#hide\n",
    "for i in range(len(dates)):\n",
    "    df1_deaths = df_deaths1.get_group(dates[i])\n",
    "    for j in range(len(df1_deaths.index)):\n",
    "        if df1_deaths.iloc[j,1] in arr_states:\n",
    "            dft_deaths.loc[i,df1_deaths.iloc[j,1]] = df1_deaths.iloc[j,2]\n",
    "dft_deaths = dft_deaths.set_index('states')"
   ]
  },
  {
   "cell_type": "code",
   "execution_count": 7,
   "id": "geological-welding",
   "metadata": {
    "execution": {
     "iopub.execute_input": "2021-05-03T13:16:01.319242Z",
     "iopub.status.busy": "2021-05-03T13:16:01.318640Z",
     "iopub.status.idle": "2021-05-03T13:16:05.677916Z",
     "shell.execute_reply": "2021-05-03T13:16:05.677045Z"
    },
    "papermill": {
     "duration": 4.386534,
     "end_time": "2021-05-03T13:16:05.678138",
     "exception": false,
     "start_time": "2021-05-03T13:16:01.291604",
     "status": "completed"
    },
    "tags": []
   },
   "outputs": [],
   "source": [
    "#hide\n",
    "for i in range(len(dates)):\n",
    "    df1_cases = df_cases1.get_group(dates[i])\n",
    "    for j in range(len(df1_cases.index)):\n",
    "        if df1_cases.iloc[j,1] in arr_states:\n",
    "            dft_cases.loc[i,df1_cases.iloc[j,1]] = df1_cases.iloc[j,2]\n",
    "dft_cases = dft_cases.set_index('states')"
   ]
  },
  {
   "cell_type": "code",
   "execution_count": 8,
   "id": "binary-ratio",
   "metadata": {
    "execution": {
     "iopub.execute_input": "2021-05-03T13:16:05.720087Z",
     "iopub.status.busy": "2021-05-03T13:16:05.719472Z",
     "iopub.status.idle": "2021-05-03T13:16:05.721741Z",
     "shell.execute_reply": "2021-05-03T13:16:05.721272Z"
    },
    "papermill": {
     "duration": 0.025639,
     "end_time": "2021-05-03T13:16:05.721869",
     "exception": false,
     "start_time": "2021-05-03T13:16:05.696230",
     "status": "completed"
    },
    "tags": []
   },
   "outputs": [],
   "source": [
    "#hide\n",
    "dft_cases = dft_cases.T\n",
    "dft_deaths = dft_deaths.T\n",
    "dt_today = dates[-1]\n",
    "dt_yday = dates[-2]"
   ]
  },
  {
   "cell_type": "code",
   "execution_count": 9,
   "id": "boolean-calculator",
   "metadata": {
    "execution": {
     "iopub.execute_input": "2021-05-03T13:16:05.764600Z",
     "iopub.status.busy": "2021-05-03T13:16:05.764010Z",
     "iopub.status.idle": "2021-05-03T13:16:05.768356Z",
     "shell.execute_reply": "2021-05-03T13:16:05.768795Z"
    },
    "papermill": {
     "duration": 0.029759,
     "end_time": "2021-05-03T13:16:05.768942",
     "exception": false,
     "start_time": "2021-05-03T13:16:05.739183",
     "status": "completed"
    },
    "tags": []
   },
   "outputs": [],
   "source": [
    "#hide\n",
    "dft_cases = dft_cases.reset_index()\n",
    "dft_deaths = dft_deaths.reset_index()\n",
    "dft_cases = dft_cases.rename(columns = {'index':'state'})\n",
    "dft_deaths = dft_deaths.rename(columns = {'index':'state'})"
   ]
  },
  {
   "cell_type": "code",
   "execution_count": 10,
   "id": "invisible-johnston",
   "metadata": {
    "execution": {
     "iopub.execute_input": "2021-05-03T13:16:05.814872Z",
     "iopub.status.busy": "2021-05-03T13:16:05.814225Z",
     "iopub.status.idle": "2021-05-03T13:16:05.816733Z",
     "shell.execute_reply": "2021-05-03T13:16:05.816236Z"
    },
    "papermill": {
     "duration": 0.030572,
     "end_time": "2021-05-03T13:16:05.816856",
     "exception": false,
     "start_time": "2021-05-03T13:16:05.786284",
     "status": "completed"
    },
    "tags": []
   },
   "outputs": [],
   "source": [
    "#hide\n",
    "dfc_cases = dft_cases.groupby('state')[dt_today].sum()\n",
    "dfc_deaths = dft_deaths.groupby('state')[dt_today].sum()\n",
    "dfp_cases = dft_cases.groupby('state')[dt_yday].sum()\n",
    "dfp_deaths = dft_deaths.groupby('state')[dt_yday].sum()"
   ]
  },
  {
   "cell_type": "code",
   "execution_count": 11,
   "id": "measured-great",
   "metadata": {
    "execution": {
     "iopub.execute_input": "2021-05-03T13:16:05.858400Z",
     "iopub.status.busy": "2021-05-03T13:16:05.857811Z",
     "iopub.status.idle": "2021-05-03T13:16:05.872775Z",
     "shell.execute_reply": "2021-05-03T13:16:05.872265Z"
    },
    "papermill": {
     "duration": 0.03865,
     "end_time": "2021-05-03T13:16:05.872898",
     "exception": false,
     "start_time": "2021-05-03T13:16:05.834248",
     "status": "completed"
    },
    "tags": []
   },
   "outputs": [
    {
     "data": {
      "text/html": [
       "<div>\n",
       "<style scoped>\n",
       "    .dataframe tbody tr th:only-of-type {\n",
       "        vertical-align: middle;\n",
       "    }\n",
       "\n",
       "    .dataframe tbody tr th {\n",
       "        vertical-align: top;\n",
       "    }\n",
       "\n",
       "    .dataframe thead th {\n",
       "        text-align: right;\n",
       "    }\n",
       "</style>\n",
       "<table border=\"1\" class=\"dataframe\">\n",
       "  <thead>\n",
       "    <tr style=\"text-align: right;\">\n",
       "      <th></th>\n",
       "      <th>states</th>\n",
       "      <th>Cases</th>\n",
       "      <th>Deaths</th>\n",
       "      <th>PCases</th>\n",
       "      <th>PDeaths</th>\n",
       "    </tr>\n",
       "  </thead>\n",
       "  <tbody>\n",
       "    <tr>\n",
       "      <th>0</th>\n",
       "      <td>Maharashtra</td>\n",
       "      <td>4722401</td>\n",
       "      <td>70284</td>\n",
       "      <td>4722401</td>\n",
       "      <td>70284</td>\n",
       "    </tr>\n",
       "    <tr>\n",
       "      <th>1</th>\n",
       "      <td>Kerala</td>\n",
       "      <td>1638779</td>\n",
       "      <td>5406</td>\n",
       "      <td>1638779</td>\n",
       "      <td>5406</td>\n",
       "    </tr>\n",
       "    <tr>\n",
       "      <th>2</th>\n",
       "      <td>Karnataka</td>\n",
       "      <td>1601865</td>\n",
       "      <td>16011</td>\n",
       "      <td>1601865</td>\n",
       "      <td>16011</td>\n",
       "    </tr>\n",
       "    <tr>\n",
       "      <th>3</th>\n",
       "      <td>Uttar Pradesh</td>\n",
       "      <td>1313361</td>\n",
       "      <td>13162</td>\n",
       "      <td>1313361</td>\n",
       "      <td>13162</td>\n",
       "    </tr>\n",
       "    <tr>\n",
       "      <th>4</th>\n",
       "      <td>Tamil Nadu</td>\n",
       "      <td>1207112</td>\n",
       "      <td>14346</td>\n",
       "      <td>1207112</td>\n",
       "      <td>14346</td>\n",
       "    </tr>\n",
       "  </tbody>\n",
       "</table>\n",
       "</div>"
      ],
      "text/plain": [
       "          states    Cases  Deaths   PCases  PDeaths\n",
       "0    Maharashtra  4722401   70284  4722401    70284\n",
       "1         Kerala  1638779    5406  1638779     5406\n",
       "2      Karnataka  1601865   16011  1601865    16011\n",
       "3  Uttar Pradesh  1313361   13162  1313361    13162\n",
       "4     Tamil Nadu  1207112   14346  1207112    14346"
      ]
     },
     "execution_count": 11,
     "metadata": {},
     "output_type": "execute_result"
    }
   ],
   "source": [
    "#hide\n",
    "df_table = pd.DataFrame({'states': dfc_cases.index, 'Cases': dfc_cases.values, 'Deaths': dfc_deaths.values, 'PCases': dfp_cases.values, 'PDeaths': dfp_deaths.values}).set_index('states')\n",
    "df_table = df_table.sort_values(by = ['Cases','Deaths'], ascending = [False, False])\n",
    "df_table = df_table.reset_index()\n",
    "df_table.head()"
   ]
  },
  {
   "cell_type": "code",
   "execution_count": 12,
   "id": "found-montreal",
   "metadata": {
    "execution": {
     "iopub.execute_input": "2021-05-03T13:16:05.915881Z",
     "iopub.status.busy": "2021-05-03T13:16:05.915295Z",
     "iopub.status.idle": "2021-05-03T13:16:05.924553Z",
     "shell.execute_reply": "2021-05-03T13:16:05.924078Z"
    },
    "papermill": {
     "duration": 0.034116,
     "end_time": "2021-05-03T13:16:05.924683",
     "exception": false,
     "start_time": "2021-05-03T13:16:05.890567",
     "status": "completed"
    },
    "tags": []
   },
   "outputs": [],
   "source": [
    "#hide\n",
    "for c in 'Cases, Deaths'.split(', '):\n",
    "    df_table[f'{c} (+)'] = (df_table[c] - df_table[f'P{c}']).clip(0)\n",
    "df_table['Fatality Rate'] = (100* df_table['Deaths']/ df_table['Cases']).round(2)"
   ]
  },
  {
   "cell_type": "code",
   "execution_count": 13,
   "id": "minus-savage",
   "metadata": {
    "execution": {
     "iopub.execute_input": "2021-05-03T13:16:05.972465Z",
     "iopub.status.busy": "2021-05-03T13:16:05.971872Z",
     "iopub.status.idle": "2021-05-03T13:16:05.975340Z",
     "shell.execute_reply": "2021-05-03T13:16:05.974828Z"
    },
    "papermill": {
     "duration": 0.03285,
     "end_time": "2021-05-03T13:16:05.975468",
     "exception": false,
     "start_time": "2021-05-03T13:16:05.942618",
     "status": "completed"
    },
    "tags": []
   },
   "outputs": [
    {
     "data": {
      "text/html": [
       "<div>\n",
       "<style scoped>\n",
       "    .dataframe tbody tr th:only-of-type {\n",
       "        vertical-align: middle;\n",
       "    }\n",
       "\n",
       "    .dataframe tbody tr th {\n",
       "        vertical-align: top;\n",
       "    }\n",
       "\n",
       "    .dataframe thead th {\n",
       "        text-align: right;\n",
       "    }\n",
       "</style>\n",
       "<table border=\"1\" class=\"dataframe\">\n",
       "  <thead>\n",
       "    <tr style=\"text-align: right;\">\n",
       "      <th></th>\n",
       "      <th>states</th>\n",
       "      <th>Cases</th>\n",
       "      <th>Deaths</th>\n",
       "      <th>PCases</th>\n",
       "      <th>PDeaths</th>\n",
       "      <th>Cases (+)</th>\n",
       "      <th>Deaths (+)</th>\n",
       "      <th>Fatality Rate</th>\n",
       "    </tr>\n",
       "  </thead>\n",
       "  <tbody>\n",
       "    <tr>\n",
       "      <th>0</th>\n",
       "      <td>Maharashtra</td>\n",
       "      <td>4722401</td>\n",
       "      <td>70284</td>\n",
       "      <td>4722401</td>\n",
       "      <td>70284</td>\n",
       "      <td>0</td>\n",
       "      <td>0</td>\n",
       "      <td>1.49</td>\n",
       "    </tr>\n",
       "    <tr>\n",
       "      <th>1</th>\n",
       "      <td>Kerala</td>\n",
       "      <td>1638779</td>\n",
       "      <td>5406</td>\n",
       "      <td>1638779</td>\n",
       "      <td>5406</td>\n",
       "      <td>0</td>\n",
       "      <td>0</td>\n",
       "      <td>0.33</td>\n",
       "    </tr>\n",
       "    <tr>\n",
       "      <th>2</th>\n",
       "      <td>Karnataka</td>\n",
       "      <td>1601865</td>\n",
       "      <td>16011</td>\n",
       "      <td>1601865</td>\n",
       "      <td>16011</td>\n",
       "      <td>0</td>\n",
       "      <td>0</td>\n",
       "      <td>1.00</td>\n",
       "    </tr>\n",
       "    <tr>\n",
       "      <th>3</th>\n",
       "      <td>Uttar Pradesh</td>\n",
       "      <td>1313361</td>\n",
       "      <td>13162</td>\n",
       "      <td>1313361</td>\n",
       "      <td>13162</td>\n",
       "      <td>0</td>\n",
       "      <td>0</td>\n",
       "      <td>1.00</td>\n",
       "    </tr>\n",
       "    <tr>\n",
       "      <th>4</th>\n",
       "      <td>Tamil Nadu</td>\n",
       "      <td>1207112</td>\n",
       "      <td>14346</td>\n",
       "      <td>1207112</td>\n",
       "      <td>14346</td>\n",
       "      <td>0</td>\n",
       "      <td>0</td>\n",
       "      <td>1.19</td>\n",
       "    </tr>\n",
       "  </tbody>\n",
       "</table>\n",
       "</div>"
      ],
      "text/plain": [
       "          states    Cases  Deaths   PCases  PDeaths  Cases (+)  Deaths (+)  \\\n",
       "0    Maharashtra  4722401   70284  4722401    70284          0           0   \n",
       "1         Kerala  1638779    5406  1638779     5406          0           0   \n",
       "2      Karnataka  1601865   16011  1601865    16011          0           0   \n",
       "3  Uttar Pradesh  1313361   13162  1313361    13162          0           0   \n",
       "4     Tamil Nadu  1207112   14346  1207112    14346          0           0   \n",
       "\n",
       "   Fatality Rate  \n",
       "0           1.49  \n",
       "1           0.33  \n",
       "2           1.00  \n",
       "3           1.00  \n",
       "4           1.19  "
      ]
     },
     "execution_count": 13,
     "metadata": {},
     "output_type": "execute_result"
    }
   ],
   "source": [
    "#hide\n",
    "df_table.head()"
   ]
  },
  {
   "cell_type": "code",
   "execution_count": 14,
   "id": "false-peter",
   "metadata": {
    "execution": {
     "iopub.execute_input": "2021-05-03T13:16:06.019156Z",
     "iopub.status.busy": "2021-05-03T13:16:06.018536Z",
     "iopub.status.idle": "2021-05-03T13:16:06.035310Z",
     "shell.execute_reply": "2021-05-03T13:16:06.034817Z"
    },
    "papermill": {
     "duration": 0.041611,
     "end_time": "2021-05-03T13:16:06.035443",
     "exception": false,
     "start_time": "2021-05-03T13:16:05.993832",
     "status": "completed"
    },
    "tags": []
   },
   "outputs": [
    {
     "data": {
      "text/plain": [
       "{'updated': '2021-05-03',\n",
       " 'since': '2021-05-02',\n",
       " 'Cases': 19935752,\n",
       " 'PCases': 19919863,\n",
       " 'Deaths': 219024,\n",
       " 'PDeaths': 218947,\n",
       " 'Cases (+)': 15889,\n",
       " 'Deaths (+)': 77}"
      ]
     },
     "execution_count": 14,
     "metadata": {},
     "output_type": "execute_result"
    }
   ],
   "source": [
    "#hide\n",
    "summary = {'updated':dates[-1], 'since':dates[-2]}\n",
    "list_names = ['Cases', 'PCases', 'Deaths', 'PDeaths', 'Cases (+)', 'Deaths (+)']\n",
    "for name in list_names:\n",
    "    summary[name] = df_table.sum()[name]\n",
    "summary"
   ]
  },
  {
   "cell_type": "code",
   "execution_count": 15,
   "id": "packed-viewer",
   "metadata": {
    "execution": {
     "iopub.execute_input": "2021-05-03T13:16:06.077913Z",
     "iopub.status.busy": "2021-05-03T13:16:06.077304Z",
     "iopub.status.idle": "2021-05-03T13:16:06.079981Z",
     "shell.execute_reply": "2021-05-03T13:16:06.079499Z"
    },
    "papermill": {
     "duration": 0.025698,
     "end_time": "2021-05-03T13:16:06.080107",
     "exception": false,
     "start_time": "2021-05-03T13:16:06.054409",
     "status": "completed"
    },
    "tags": []
   },
   "outputs": [],
   "source": [
    "#hide\n",
    "overview = '''\n",
    "<!-- #######  HTML!! #########-->\n",
    "<h1 style=\"color: #5e9ca0; text-align: center;\">India</h1>\n",
    "<p style=\"text-align: center;\">Last update: <strong>{update}</strong></p>\n",
    "<p style=\"text-align: center;\">Confirmed cases:</p>\n",
    "<p style=\"text-align: center;font-size:24px;\">{cases} (<span style=\"color: #ff0000;\">+{new}</span>)</p>\n",
    "<p style=\"text-align: center;\">Confirmed deaths:</p>\n",
    "<p style=\"text-align: center;font-size:24px;\">{deaths} (<span style=\"color: #ff0000;\">+{dnew}</span>)</p>\n",
    "'''"
   ]
  },
  {
   "cell_type": "code",
   "execution_count": 16,
   "id": "phantom-lover",
   "metadata": {
    "execution": {
     "iopub.execute_input": "2021-05-03T13:16:06.124690Z",
     "iopub.status.busy": "2021-05-03T13:16:06.124072Z",
     "iopub.status.idle": "2021-05-03T13:16:06.127184Z",
     "shell.execute_reply": "2021-05-03T13:16:06.126605Z"
    },
    "papermill": {
     "duration": 0.02871,
     "end_time": "2021-05-03T13:16:06.127305",
     "exception": false,
     "start_time": "2021-05-03T13:16:06.098595",
     "status": "completed"
    },
    "tags": []
   },
   "outputs": [
    {
     "data": {
      "text/html": [
       "\n",
       "<!-- #######  HTML!! #########-->\n",
       "<h1 style=\"color: #5e9ca0; text-align: center;\">India</h1>\n",
       "<p style=\"text-align: center;\">Last update: <strong>2021-05-03</strong></p>\n",
       "<p style=\"text-align: center;\">Confirmed cases:</p>\n",
       "<p style=\"text-align: center;font-size:24px;\">19935752 (<span style=\"color: #ff0000;\">+15889</span>)</p>\n",
       "<p style=\"text-align: center;\">Confirmed deaths:</p>\n",
       "<p style=\"text-align: center;font-size:24px;\">219024 (<span style=\"color: #ff0000;\">+77</span>)</p>\n"
      ],
      "text/plain": [
       "<IPython.core.display.HTML object>"
      ]
     },
     "metadata": {},
     "output_type": "display_data"
    }
   ],
   "source": [
    "#hide_input\n",
    "update = summary['updated']\n",
    "cases = summary['Cases']\n",
    "new = summary['Cases (+)']\n",
    "deaths = summary['Deaths']\n",
    "dnew = summary['Deaths (+)']\n",
    "\n",
    "html = HTML(overview.format(update=update, cases=cases,new=new,deaths=deaths,dnew=dnew))\n",
    "\n",
    "display(html)"
   ]
  },
  {
   "cell_type": "code",
   "execution_count": 17,
   "id": "sealed-reset",
   "metadata": {
    "execution": {
     "iopub.execute_input": "2021-05-03T13:16:06.176704Z",
     "iopub.status.busy": "2021-05-03T13:16:06.176110Z",
     "iopub.status.idle": "2021-05-03T13:16:06.184814Z",
     "shell.execute_reply": "2021-05-03T13:16:06.184319Z"
    },
    "papermill": {
     "duration": 0.037233,
     "end_time": "2021-05-03T13:16:06.184953",
     "exception": false,
     "start_time": "2021-05-03T13:16:06.147720",
     "status": "completed"
    },
    "tags": []
   },
   "outputs": [],
   "source": [
    "#hide\n",
    "dt_cols = list(dft_cases.columns[1:])\n",
    "dft_ct_new_cases = dft_cases.groupby('state')[dt_cols].sum().diff(axis=1).fillna(0).astype(int)\n",
    "dft_ct_new_cases.sort_values(by = dates[-1], ascending = False,inplace = True)"
   ]
  },
  {
   "cell_type": "code",
   "execution_count": 18,
   "id": "designed-constant",
   "metadata": {
    "execution": {
     "iopub.execute_input": "2021-05-03T13:16:06.243317Z",
     "iopub.status.busy": "2021-05-03T13:16:06.242702Z",
     "iopub.status.idle": "2021-05-03T13:16:06.245206Z",
     "shell.execute_reply": "2021-05-03T13:16:06.245742Z"
    },
    "papermill": {
     "duration": 0.041077,
     "end_time": "2021-05-03T13:16:06.245890",
     "exception": false,
     "start_time": "2021-05-03T13:16:06.204813",
     "status": "completed"
    },
    "tags": []
   },
   "outputs": [
    {
     "data": {
      "text/html": [
       "<div>\n",
       "<style scoped>\n",
       "    .dataframe tbody tr th:only-of-type {\n",
       "        vertical-align: middle;\n",
       "    }\n",
       "\n",
       "    .dataframe tbody tr th {\n",
       "        vertical-align: top;\n",
       "    }\n",
       "\n",
       "    .dataframe thead th {\n",
       "        text-align: right;\n",
       "    }\n",
       "</style>\n",
       "<table border=\"1\" class=\"dataframe\">\n",
       "  <thead>\n",
       "    <tr style=\"text-align: right;\">\n",
       "      <th>states</th>\n",
       "      <th>2020-07-01</th>\n",
       "      <th>2020-07-02</th>\n",
       "      <th>2020-07-03</th>\n",
       "      <th>2020-07-04</th>\n",
       "      <th>2020-07-05</th>\n",
       "      <th>2020-07-06</th>\n",
       "      <th>2020-07-07</th>\n",
       "      <th>2020-07-08</th>\n",
       "      <th>2020-07-09</th>\n",
       "      <th>2020-07-10</th>\n",
       "      <th>...</th>\n",
       "      <th>2021-04-24</th>\n",
       "      <th>2021-04-25</th>\n",
       "      <th>2021-04-26</th>\n",
       "      <th>2021-04-27</th>\n",
       "      <th>2021-04-28</th>\n",
       "      <th>2021-04-29</th>\n",
       "      <th>2021-04-30</th>\n",
       "      <th>2021-05-01</th>\n",
       "      <th>2021-05-02</th>\n",
       "      <th>2021-05-03</th>\n",
       "    </tr>\n",
       "    <tr>\n",
       "      <th>state</th>\n",
       "      <th></th>\n",
       "      <th></th>\n",
       "      <th></th>\n",
       "      <th></th>\n",
       "      <th></th>\n",
       "      <th></th>\n",
       "      <th></th>\n",
       "      <th></th>\n",
       "      <th></th>\n",
       "      <th></th>\n",
       "      <th></th>\n",
       "      <th></th>\n",
       "      <th></th>\n",
       "      <th></th>\n",
       "      <th></th>\n",
       "      <th></th>\n",
       "      <th></th>\n",
       "      <th></th>\n",
       "      <th></th>\n",
       "      <th></th>\n",
       "      <th></th>\n",
       "    </tr>\n",
       "  </thead>\n",
       "  <tbody>\n",
       "    <tr>\n",
       "      <th>Odisha</th>\n",
       "      <td>0</td>\n",
       "      <td>229</td>\n",
       "      <td>561</td>\n",
       "      <td>495</td>\n",
       "      <td>469</td>\n",
       "      <td>456</td>\n",
       "      <td>571</td>\n",
       "      <td>527</td>\n",
       "      <td>577</td>\n",
       "      <td>755</td>\n",
       "      <td>...</td>\n",
       "      <td>6647</td>\n",
       "      <td>6116</td>\n",
       "      <td>6599</td>\n",
       "      <td>6073</td>\n",
       "      <td>8386</td>\n",
       "      <td>6998</td>\n",
       "      <td>8681</td>\n",
       "      <td>10413</td>\n",
       "      <td>8015</td>\n",
       "      <td>8914</td>\n",
       "    </tr>\n",
       "    <tr>\n",
       "      <th>Telangana</th>\n",
       "      <td>0</td>\n",
       "      <td>1213</td>\n",
       "      <td>1892</td>\n",
       "      <td>1850</td>\n",
       "      <td>1590</td>\n",
       "      <td>1831</td>\n",
       "      <td>1879</td>\n",
       "      <td>1924</td>\n",
       "      <td>1410</td>\n",
       "      <td>1278</td>\n",
       "      <td>...</td>\n",
       "      <td>7432</td>\n",
       "      <td>8126</td>\n",
       "      <td>6551</td>\n",
       "      <td>10122</td>\n",
       "      <td>8061</td>\n",
       "      <td>7994</td>\n",
       "      <td>7646</td>\n",
       "      <td>7754</td>\n",
       "      <td>7430</td>\n",
       "      <td>5695</td>\n",
       "    </tr>\n",
       "    <tr>\n",
       "      <th>Puducherry</th>\n",
       "      <td>0</td>\n",
       "      <td>63</td>\n",
       "      <td>22</td>\n",
       "      <td>80</td>\n",
       "      <td>42</td>\n",
       "      <td>65</td>\n",
       "      <td>30</td>\n",
       "      <td>110</td>\n",
       "      <td>49</td>\n",
       "      <td>72</td>\n",
       "      <td>...</td>\n",
       "      <td>899</td>\n",
       "      <td>1008</td>\n",
       "      <td>747</td>\n",
       "      <td>1021</td>\n",
       "      <td>1258</td>\n",
       "      <td>1122</td>\n",
       "      <td>1195</td>\n",
       "      <td>1379</td>\n",
       "      <td>1360</td>\n",
       "      <td>799</td>\n",
       "    </tr>\n",
       "    <tr>\n",
       "      <th>Meghalaya</th>\n",
       "      <td>0</td>\n",
       "      <td>3</td>\n",
       "      <td>4</td>\n",
       "      <td>8</td>\n",
       "      <td>2</td>\n",
       "      <td>16</td>\n",
       "      <td>6</td>\n",
       "      <td>6</td>\n",
       "      <td>13</td>\n",
       "      <td>73</td>\n",
       "      <td>...</td>\n",
       "      <td>155</td>\n",
       "      <td>208</td>\n",
       "      <td>130</td>\n",
       "      <td>147</td>\n",
       "      <td>159</td>\n",
       "      <td>187</td>\n",
       "      <td>229</td>\n",
       "      <td>262</td>\n",
       "      <td>321</td>\n",
       "      <td>246</td>\n",
       "    </tr>\n",
       "    <tr>\n",
       "      <th>Tripura</th>\n",
       "      <td>0</td>\n",
       "      <td>39</td>\n",
       "      <td>93</td>\n",
       "      <td>25</td>\n",
       "      <td>23</td>\n",
       "      <td>111</td>\n",
       "      <td>24</td>\n",
       "      <td>57</td>\n",
       "      <td>16</td>\n",
       "      <td>142</td>\n",
       "      <td>...</td>\n",
       "      <td>127</td>\n",
       "      <td>100</td>\n",
       "      <td>98</td>\n",
       "      <td>111</td>\n",
       "      <td>124</td>\n",
       "      <td>166</td>\n",
       "      <td>141</td>\n",
       "      <td>173</td>\n",
       "      <td>247</td>\n",
       "      <td>134</td>\n",
       "    </tr>\n",
       "  </tbody>\n",
       "</table>\n",
       "<p>5 rows × 307 columns</p>\n",
       "</div>"
      ],
      "text/plain": [
       "states      2020-07-01  2020-07-02  2020-07-03  2020-07-04  2020-07-05  \\\n",
       "state                                                                    \n",
       "Odisha               0         229         561         495         469   \n",
       "Telangana            0        1213        1892        1850        1590   \n",
       "Puducherry           0          63          22          80          42   \n",
       "Meghalaya            0           3           4           8           2   \n",
       "Tripura              0          39          93          25          23   \n",
       "\n",
       "states      2020-07-06  2020-07-07  2020-07-08  2020-07-09  2020-07-10  ...  \\\n",
       "state                                                                   ...   \n",
       "Odisha             456         571         527         577         755  ...   \n",
       "Telangana         1831        1879        1924        1410        1278  ...   \n",
       "Puducherry          65          30         110          49          72  ...   \n",
       "Meghalaya           16           6           6          13          73  ...   \n",
       "Tripura            111          24          57          16         142  ...   \n",
       "\n",
       "states      2021-04-24  2021-04-25  2021-04-26  2021-04-27  2021-04-28  \\\n",
       "state                                                                    \n",
       "Odisha            6647        6116        6599        6073        8386   \n",
       "Telangana         7432        8126        6551       10122        8061   \n",
       "Puducherry         899        1008         747        1021        1258   \n",
       "Meghalaya          155         208         130         147         159   \n",
       "Tripura            127         100          98         111         124   \n",
       "\n",
       "states      2021-04-29  2021-04-30  2021-05-01  2021-05-02  2021-05-03  \n",
       "state                                                                   \n",
       "Odisha            6998        8681       10413        8015        8914  \n",
       "Telangana         7994        7646        7754        7430        5695  \n",
       "Puducherry        1122        1195        1379        1360         799  \n",
       "Meghalaya          187         229         262         321         246  \n",
       "Tripura            166         141         173         247         134  \n",
       "\n",
       "[5 rows x 307 columns]"
      ]
     },
     "execution_count": 18,
     "metadata": {},
     "output_type": "execute_result"
    }
   ],
   "source": [
    "#hide\n",
    "dft_ct_new_cases.head()"
   ]
  },
  {
   "cell_type": "code",
   "execution_count": 19,
   "id": "responsible-nightlife",
   "metadata": {
    "execution": {
     "iopub.execute_input": "2021-05-03T13:16:06.316874Z",
     "iopub.status.busy": "2021-05-03T13:16:06.293713Z",
     "iopub.status.idle": "2021-05-03T13:16:17.794713Z",
     "shell.execute_reply": "2021-05-03T13:16:17.795195Z"
    },
    "papermill": {
     "duration": 11.529934,
     "end_time": "2021-05-03T13:16:17.795348",
     "exception": false,
     "start_time": "2021-05-03T13:16:06.265414",
     "status": "completed"
    },
    "tags": []
   },
   "outputs": [
    {
     "data": {
      "image/png": "[encoded data removed]",
      "text/plain": [
       "<Figure size 1296x2016 with 11 Axes>"
      ]
     },
     "metadata": {
      "needs_background": "light"
     },
     "output_type": "display_data"
    }
   ],
   "source": [
    "#hide_input\n",
    "df = dft_ct_new_cases.copy()\n",
    "df.loc['Total'] = df.sum()\n",
    "n = 5\n",
    "ax = []\n",
    "fig = plt.figure(figsize = (18,28))\n",
    "gs = fig.add_gridspec(n+2, 5)\n",
    "# gs = fig.add_gridspec(2, 3)\n",
    "ax1 = fig.add_subplot(gs[0, :])\n",
    "ef = df.loc['Total'].rename_axis('date').reset_index()\n",
    "ef['date'] = ef['date'].astype('datetime64[ns]')\n",
    "ax1.bar(ef.date,ef.Total,alpha=0.3,color='#007acc')\n",
    "ax1.plot(ef.date,ef.Total , marker=\"o\", color='#007acc')\n",
    "ax1.xaxis.set_major_locator(mdates.WeekdayLocator())\n",
    "ax1.xaxis.set_major_formatter(mdates.DateFormatter('%b %d'))\n",
    "ax1.text(0.02, 0.5,'India daily case count', transform = ax1.transAxes, fontsize=25);\n",
    "ax1.spines['right'].set_visible(False)\n",
    "ax1.spines['top'].set_visible(False)\n",
    "\n",
    "ax2 = fig.add_subplot(gs[1,0])\n",
    "ef = df.loc['Maharashtra'].rename_axis('date').reset_index()\n",
    "ef['date'] = ef['date'].astype('datetime64[ns]')\n",
    "\n",
    "ax2.bar(ef.date, ef.Maharashtra,color = '#007acc',alpha=0.5)\n",
    "ax2.xaxis.set_major_locator(mdates.WeekdayLocator())\n",
    "ax2.xaxis.set_major_formatter(mdates.DateFormatter('%b %d'))\n",
    "ax2.set_xticks(ax2.get_xticks()[::3])\n",
    "maxyval = ef.Maharashtra.max()\n",
    "ax2.set_ylim([0,maxyval])\n",
    "ax2.text(0.05, 0.9,'Maharashtra', transform = ax2.transAxes, fontsize=20);\n",
    "ax2.spines['right'].set_visible(False)\n",
    "ax2.spines['top'].set_visible(False)\n",
    "\n",
    "\n",
    "ax3 = fig.add_subplot(gs[1,1])\n",
    "ef = df.loc['Tamil Nadu'].rename_axis('date').reset_index()\n",
    "ef['date'] = ef['date'].astype('datetime64[ns]')\n",
    "ax3.bar(ef.date, ef['Tamil Nadu'],color = '#007acc',alpha=0.5,)\n",
    "ax3.xaxis.set_major_locator(mdates.WeekdayLocator())\n",
    "ax3.xaxis.set_major_formatter(mdates.DateFormatter('%b %d'))\n",
    "ax3.set_xticks(ax3.get_xticks()[::3])\n",
    "ax3.text(0.05, 0.9,'Tamil Nadu', transform = ax3.transAxes, fontsize=20);\n",
    "ax3.spines['right'].set_visible(False)\n",
    "ax3.spines['top'].set_visible(False)\n",
    "\n",
    "ax5 = fig.add_subplot(gs[1,3])\n",
    "ef = df.loc['Telangana'].rename_axis('date').reset_index()\n",
    "ef['date'] = ef['date'].astype('datetime64[ns]')\n",
    "ax5.bar(ef.date, ef['Telangana'],color = '#007acc',alpha=0.5,)\n",
    "ax5.xaxis.set_major_locator(mdates.WeekdayLocator())\n",
    "ax5.xaxis.set_major_formatter(mdates.DateFormatter('%b %d'))\n",
    "ax5.set_xticks(ax5.get_xticks()[::3])\n",
    "ax5.text(0.05, 0.9,'Telangana', transform = ax5.transAxes, fontsize=20);\n",
    "ax5.spines['right'].set_visible(False)\n",
    "ax5.spines['top'].set_visible(False)\n",
    "\n",
    "ax6 = fig.add_subplot(gs[1,4])\n",
    "ef = df.loc['Andhra Pradesh'].rename_axis('date').reset_index()\n",
    "ef['date'] = ef['date'].astype('datetime64[ns]')\n",
    "ax6.bar(ef.date, ef['Andhra Pradesh'],color = '#007acc',alpha=0.5,)\n",
    "ax6.xaxis.set_major_locator(mdates.WeekdayLocator())\n",
    "ax6.xaxis.set_major_formatter(mdates.DateFormatter('%b %d'))\n",
    "ax6.set_xticks(ax6.get_xticks()[::3])\n",
    "ax6.text(0.05, 1,'Andhra Pradesh', transform = ax6.transAxes, fontsize=20);\n",
    "ax6.spines['right'].set_visible(False)\n",
    "ax6.spines['top'].set_visible(False)\n",
    "\n",
    "ax4 = fig.add_subplot(gs[1,2])\n",
    "ef = df.loc['Delhi'].rename_axis('date').reset_index()\n",
    "ef['date'] = ef['date'].astype('datetime64[ns]')\n",
    "ax4.bar(ef.date, ef.Delhi,color = '#007acc',alpha=0.5)\n",
    "ax4.set_xticks([])\n",
    "ax4.xaxis.set_major_locator(mdates.WeekdayLocator())\n",
    "ax4.xaxis.set_major_formatter(mdates.DateFormatter('%b %d'))\n",
    "ax4.set_xticks(ax4.get_xticks()[::3])\n",
    "ax4.spines['right'].set_visible(False)\n",
    "ax4.spines['top'].set_visible(False)\n",
    "\n",
    "ax4.text(0.05, 1,'Delhi', transform = ax4.transAxes, fontsize=20)\n",
    "\n",
    "for i in range(n):\n",
    "    \n",
    "    ax.append(fig.add_subplot(gs[i+2,:]))\n",
    "    ef = df.iloc[i+3].rename_axis('date').reset_index()\n",
    "    ef['date'] = ef['date'].astype('datetime64[ns]')\n",
    "    ax[i].bar(ef.date,ef.iloc[:,-1],color = '#007acc',alpha=0.3)\n",
    "    ax[i].plot(ef.date,ef.iloc[:,-1],marker='o',color='#007acc')\n",
    "    ax[i].text(0.02,0.5,f'{ef.columns.values[-1]}',transform = ax[i].transAxes, fontsize = 20);\n",
    "    ax[i].xaxis.set_major_locator(mdates.WeekdayLocator())\n",
    "    ax[i].xaxis.set_major_formatter(mdates.DateFormatter('%b %d'))\n",
    "    ax[i].set_ylim([0,7000])\n",
    "    ax[i].spines['right'].set_visible(False)\n",
    "    ax[i].spines['top'].set_visible(False)\n",
    "plt.tight_layout()\n"
   ]
  },
  {
   "cell_type": "code",
   "execution_count": 20,
   "id": "dress-forge",
   "metadata": {
    "execution": {
     "iopub.execute_input": "2021-05-03T13:16:17.855447Z",
     "iopub.status.busy": "2021-05-03T13:16:17.854902Z",
     "iopub.status.idle": "2021-05-03T13:16:17.858324Z",
     "shell.execute_reply": "2021-05-03T13:16:17.857781Z"
    },
    "papermill": {
     "duration": 0.036853,
     "end_time": "2021-05-03T13:16:17.858456",
     "exception": false,
     "start_time": "2021-05-03T13:16:17.821603",
     "status": "completed"
    },
    "tags": []
   },
   "outputs": [
    {
     "name": "stdout",
     "output_type": "stream",
     "text": [
      "                                   states    Cases  Deaths   PCases  PDeaths  Cases (+)  Deaths (+)  Fatality Rate\n",
      "                              Maharashtra  4722401   70284  4722401    70284          0           0           1.49\n",
      "                                   Kerala  1638779    5406  1638779     5406          0           0           0.33\n",
      "                                Karnataka  1601865   16011  1601865    16011          0           0           1.00\n",
      "                            Uttar Pradesh  1313361   13162  1313361    13162          0           0           1.00\n",
      "                               Tamil Nadu  1207112   14346  1207112    14346          0           0           1.19\n",
      "                                    Delhi  1194946   16966  1194946    16966          0           0           1.42\n",
      "                           Andhra Pradesh  1145022    8136  1145022     8136          0           0           0.71\n",
      "                              West Bengal   863393   11539   863393    11539          0           0           1.34\n",
      "                             Chhattisgarh   756427    9009   756427     9009          0           0           1.19\n",
      "                                Rajasthan   633951    4558   633951     4558          0           0           0.72\n",
      "                                  Gujarat   594602    7508   594602     7508          0           0           1.26\n",
      "                           Madhya Pradesh   588368    5812   588368     5812          0           0           0.99\n",
      "                                  Haryana   514888    4486   514888     4486          0           0           0.87\n",
      "                                    Bihar   497640    2739   497640     2739          0           0           0.55\n",
      "                                   Odisha   471536    2126   462622     2121       8914           5           0.45\n",
      "                                Telangana   456485    2417   450790     2368       5695          49           0.53\n",
      "                                   Punjab   385270    9317   385270     9317          0           0           2.42\n",
      "                                    Assam   258961    1360   258961     1360          0           0           0.53\n",
      "                                Jharkhand   244472    2944   244472     2944          0           0           1.20\n",
      "                              Uttarakhand   191620    2802   191620     2802          0           0           1.46\n",
      "                        Jammu and Kashmir   183486    2370   183486     2370          0           0           1.29\n",
      "                         Himachal Pradesh   104491    1556   104491     1556          0           0           1.49\n",
      "                                      Goa    95385    1274    95385     1274          0           0           1.34\n",
      "                               Puducherry    62160     848    61361      833        799          15           1.36\n",
      "                               Chandigarh    44306     496    44306      496          0           0           1.12\n",
      "                                  Tripura    35720     396    35586      395        134           1           1.11\n",
      "                                  Manipur    32161     415    32161      415          0           0           1.29\n",
      "                        Arunachal Pradesh    18739      59    18739       59          0           0           0.31\n",
      "                                Meghalaya    17675     185    17429      179        246           6           1.05\n",
      "                                 Nagaland    14350     109    14350      109          0           0           0.76\n",
      "                                   Ladakh    14226     145    14226      145          0           0           1.02\n",
      "                                   Sikkim     8468     150     8441      149         27           1           1.77\n",
      " Dadra and Nagar Haveli and Daman and Diu     8034       4     8034        4          0           0           0.05\n",
      "                                  Mizoram     6358      16     6284       16         74           0           0.25\n",
      "              Andaman and Nicobar Islands     6084      69     6084       69          0           0           1.13\n",
      "                              Lakshadweep     3010       4     3010        4          0           0           0.13\n"
     ]
    }
   ],
   "source": [
    "#hide_input\n",
    "print(df_table.to_string(index=False))"
   ]
  },
  {
   "cell_type": "code",
   "execution_count": null,
   "id": "quantitative-legend",
   "metadata": {
    "papermill": {
     "duration": 0.025268,
     "end_time": "2021-05-03T13:16:17.909621",
     "exception": false,
     "start_time": "2021-05-03T13:16:17.884353",
     "status": "completed"
    },
    "tags": []
   },
   "outputs": [],
   "source": []
  },
  {
   "cell_type": "code",
   "execution_count": null,
   "id": "distant-acoustic",
   "metadata": {
    "papermill": {
     "duration": 0.026094,
     "end_time": "2021-05-03T13:16:17.961231",
     "exception": false,
     "start_time": "2021-05-03T13:16:17.935137",
     "status": "completed"
    },
    "tags": []
   },
   "outputs": [],
   "source": []
  }
 ],
 "metadata": {
  "kernelspec": {
   "display_name": "Python 3",
   "language": "python",
   "name": "python3"
  },
  "language_info": {
   "codemirror_mode": {
    "name": "ipython",
    "version": 3
   },
   "file_extension": ".py",
   "mimetype": "text/x-python",
   "name": "python",
   "nbconvert_exporter": "python",
   "pygments_lexer": "ipython3",
   "version": "3.6.13"
  },
  "papermill": {
   "duration": 24.277126,
   "end_time": "2021-05-03T13:16:18.697085",
   "environment_variables": {},
   "exception": null,
   "input_path": "latest.ipynb",
   "output_path": "latest.ipynb",
   "parameters": {},
   "start_time": "2021-05-03T13:15:54.419959",
   "version": "2.1.2"
  }
 },
 "nbformat": 4,
 "nbformat_minor": 5
}