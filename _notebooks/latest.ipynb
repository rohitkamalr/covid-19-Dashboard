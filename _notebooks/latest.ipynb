{
 "cells": [
  {
   "cell_type": "markdown",
   "id": "colored-stack",
   "metadata": {
    "papermill": {
     "duration": 0.022427,
     "end_time": "2021-04-15T13:13:55.508064",
     "exception": false,
     "start_time": "2021-04-15T13:13:55.485637",
     "status": "completed"
    },
    "tags": []
   },
   "source": [
    "# Latest COVID-19 India Matplotlib Overview"
   ]
  },
  {
   "cell_type": "code",
   "execution_count": 1,
   "id": "light-proportion",
   "metadata": {
    "execution": {
     "iopub.execute_input": "2021-04-15T13:13:55.567082Z",
     "iopub.status.busy": "2021-04-15T13:13:55.566301Z",
     "iopub.status.idle": "2021-04-15T13:13:56.191870Z",
     "shell.execute_reply": "2021-04-15T13:13:56.191163Z"
    },
    "papermill": {
     "duration": 0.6564,
     "end_time": "2021-04-15T13:13:56.192081",
     "exception": false,
     "start_time": "2021-04-15T13:13:55.535681",
     "status": "completed"
    },
    "tags": []
   },
   "outputs": [],
   "source": [
    "#hide\n",
    "import pandas as pd\n",
    "import numpy as np\n",
    "import requests\n",
    "import json\n",
    "import matplotlib.pyplot as plt\n",
    "import matplotlib.dates as mdates\n",
    "import matplotlib as mpl\n",
    "from IPython.core.display import display,HTML\n",
    "%matplotlib inline\n",
    "from datetime import date"
   ]
  },
  {
   "cell_type": "code",
   "execution_count": 2,
   "id": "greenhouse-shooting",
   "metadata": {
    "execution": {
     "iopub.execute_input": "2021-04-15T13:13:56.236043Z",
     "iopub.status.busy": "2021-04-15T13:13:56.235348Z",
     "iopub.status.idle": "2021-04-15T13:13:56.660690Z",
     "shell.execute_reply": "2021-04-15T13:13:56.660187Z"
    },
    "papermill": {
     "duration": 0.450603,
     "end_time": "2021-04-15T13:13:56.660818",
     "exception": false,
     "start_time": "2021-04-15T13:13:56.210215",
     "status": "completed"
    },
    "tags": []
   },
   "outputs": [],
   "source": [
    "#hide\n",
    "df  = pd.read_csv('https://api.covid19india.org/csv/latest/states.csv')\n",
    "df = df[['Date','State','Confirmed','Deceased']]\n",
    "df = df.rename(columns={'Confirmed':'Cases', \"Deceased\":'Deaths'})\n",
    "df_cases = df[[\"Date\",'State','Cases']]\n",
    "df_deaths = df[['Date','State','Deaths']]\n",
    "df_cases1 = df_cases.groupby('Date')\n",
    "df_deaths1= df_deaths.groupby('Date')"
   ]
  },
  {
   "cell_type": "code",
   "execution_count": 3,
   "id": "hybrid-cathedral",
   "metadata": {
    "execution": {
     "iopub.execute_input": "2021-04-15T13:13:56.704656Z",
     "iopub.status.busy": "2021-04-15T13:13:56.704068Z",
     "iopub.status.idle": "2021-04-15T13:13:56.724780Z",
     "shell.execute_reply": "2021-04-15T13:13:56.725365Z"
    },
    "papermill": {
     "duration": 0.045633,
     "end_time": "2021-04-15T13:13:56.725497",
     "exception": false,
     "start_time": "2021-04-15T13:13:56.679864",
     "status": "completed"
    },
    "tags": []
   },
   "outputs": [],
   "source": [
    "#hide\n",
    "df_snap = pd.read_csv('data/SnapshotCases-28-July.csv')\n",
    "arr_states = df_snap['states'].unique()\n",
    "arr_dates = df['Date'].unique()\n",
    "df_snap = df_snap.set_index('states')"
   ]
  },
  {
   "cell_type": "code",
   "execution_count": 4,
   "id": "interior-belfast",
   "metadata": {
    "execution": {
     "iopub.execute_input": "2021-04-15T13:13:56.770825Z",
     "iopub.status.busy": "2021-04-15T13:13:56.770212Z",
     "iopub.status.idle": "2021-04-15T13:13:56.774922Z",
     "shell.execute_reply": "2021-04-15T13:13:56.774298Z"
    },
    "papermill": {
     "duration": 0.030106,
     "end_time": "2021-04-15T13:13:56.775020",
     "exception": false,
     "start_time": "2021-04-15T13:13:56.744914",
     "status": "completed"
    },
    "tags": []
   },
   "outputs": [
    {
     "data": {
      "text/plain": [
       "array(['Andaman and Nicobar Islands', 'Andhra Pradesh',\n",
       "       'Arunachal Pradesh', 'Assam', 'Bihar', 'Chandigarh',\n",
       "       'Dadra and Nagar Haveli and Daman and Diu', 'Delhi', 'Goa',\n",
       "       'Gujarat', 'Haryana', 'Himachal Pradesh', 'Jammu and Kashmir',\n",
       "       'Jharkhand', 'Karnataka', 'Kerala', 'Lakshadweep',\n",
       "       'Madhya Pradesh', 'Maharashtra', 'Manipur', 'Meghalaya', 'Mizoram',\n",
       "       'Nagaland', 'Odisha', 'Puducherry', 'Punjab', 'Rajasthan',\n",
       "       'Sikkim', 'Tamil Nadu', 'Telangana', 'Tripura', 'Uttar Pradesh',\n",
       "       'West Bengal', 'Chhattisgarh', 'Ladakh', 'Uttarakhand'],\n",
       "      dtype=object)"
      ]
     },
     "execution_count": 4,
     "metadata": {},
     "output_type": "execute_result"
    }
   ],
   "source": [
    "#hide\n",
    "arr_states[-9] = 'Puducherry'\n",
    "arr_states[-10] = 'Odisha'\n",
    "arr_states[6] = 'Dadra and Nagar Haveli and Daman and Diu'\n",
    "arr_states = np.append(arr_states,np.array(['Chhattisgarh','Ladakh','Uttarakhand']))\n",
    "arr_states"
   ]
  },
  {
   "cell_type": "code",
   "execution_count": 5,
   "id": "behind-manner",
   "metadata": {
    "execution": {
     "iopub.execute_input": "2021-04-15T13:13:56.825962Z",
     "iopub.status.busy": "2021-04-15T13:13:56.825421Z",
     "iopub.status.idle": "2021-04-15T13:13:56.837094Z",
     "shell.execute_reply": "2021-04-15T13:13:56.836029Z"
    },
    "papermill": {
     "duration": 0.043153,
     "end_time": "2021-04-15T13:13:56.837199",
     "exception": false,
     "start_time": "2021-04-15T13:13:56.794046",
     "status": "completed"
    },
    "tags": []
   },
   "outputs": [],
   "source": [
    "#hide\n",
    "dates = []\n",
    "for i in arr_dates:\n",
    "    if i>='2020-07-01':\n",
    "        dates.append(i)\n",
    "dict = {'states':dates}\n",
    "for i in arr_states:\n",
    "    dict[i] = [0]*len(dates)\n",
    "dft_cases = pd.DataFrame(dict)\n",
    "dft_deaths = pd.DataFrame(dict)\n"
   ]
  },
  {
   "cell_type": "code",
   "execution_count": 6,
   "id": "simplified-peter",
   "metadata": {
    "execution": {
     "iopub.execute_input": "2021-04-15T13:13:56.882005Z",
     "iopub.status.busy": "2021-04-15T13:13:56.881341Z",
     "iopub.status.idle": "2021-04-15T13:14:02.077905Z",
     "shell.execute_reply": "2021-04-15T13:14:02.077020Z"
    },
    "papermill": {
     "duration": 5.221124,
     "end_time": "2021-04-15T13:14:02.078036",
     "exception": false,
     "start_time": "2021-04-15T13:13:56.856912",
     "status": "completed"
    },
    "tags": []
   },
   "outputs": [],
   "source": [
    "#hide\n",
    "for i in range(len(dates)):\n",
    "    df1_deaths = df_deaths1.get_group(dates[i])\n",
    "    for j in range(len(df1_deaths.index)):\n",
    "        if df1_deaths.iloc[j,1] in arr_states:\n",
    "            dft_deaths.loc[i,df1_deaths.iloc[j,1]] = df1_deaths.iloc[j,2]\n",
    "dft_deaths = dft_deaths.set_index('states')"
   ]
  },
  {
   "cell_type": "code",
   "execution_count": 7,
   "id": "geological-welding",
   "metadata": {
    "execution": {
     "iopub.execute_input": "2021-04-15T13:14:02.121214Z",
     "iopub.status.busy": "2021-04-15T13:14:02.120331Z",
     "iopub.status.idle": "2021-04-15T13:14:07.250211Z",
     "shell.execute_reply": "2021-04-15T13:14:07.249373Z"
    },
    "papermill": {
     "duration": 5.153928,
     "end_time": "2021-04-15T13:14:07.250337",
     "exception": false,
     "start_time": "2021-04-15T13:14:02.096409",
     "status": "completed"
    },
    "tags": []
   },
   "outputs": [],
   "source": [
    "#hide\n",
    "for i in range(len(dates)):\n",
    "    df1_cases = df_cases1.get_group(dates[i])\n",
    "    for j in range(len(df1_cases.index)):\n",
    "        if df1_cases.iloc[j,1] in arr_states:\n",
    "            dft_cases.loc[i,df1_cases.iloc[j,1]] = df1_cases.iloc[j,2]\n",
    "dft_cases = dft_cases.set_index('states')"
   ]
  },
  {
   "cell_type": "code",
   "execution_count": 8,
   "id": "binary-ratio",
   "metadata": {
    "execution": {
     "iopub.execute_input": "2021-04-15T13:14:07.291520Z",
     "iopub.status.busy": "2021-04-15T13:14:07.290984Z",
     "iopub.status.idle": "2021-04-15T13:14:07.293128Z",
     "shell.execute_reply": "2021-04-15T13:14:07.293591Z"
    },
    "papermill": {
     "duration": 0.024883,
     "end_time": "2021-04-15T13:14:07.293711",
     "exception": false,
     "start_time": "2021-04-15T13:14:07.268828",
     "status": "completed"
    },
    "tags": []
   },
   "outputs": [],
   "source": [
    "#hide\n",
    "dft_cases = dft_cases.T\n",
    "dft_deaths = dft_deaths.T\n",
    "dt_today = dates[-1]\n",
    "dt_yday = dates[-2]"
   ]
  },
  {
   "cell_type": "code",
   "execution_count": 9,
   "id": "boolean-calculator",
   "metadata": {
    "execution": {
     "iopub.execute_input": "2021-04-15T13:14:07.337358Z",
     "iopub.status.busy": "2021-04-15T13:14:07.336639Z",
     "iopub.status.idle": "2021-04-15T13:14:07.343124Z",
     "shell.execute_reply": "2021-04-15T13:14:07.342632Z"
    },
    "papermill": {
     "duration": 0.030641,
     "end_time": "2021-04-15T13:14:07.343231",
     "exception": false,
     "start_time": "2021-04-15T13:14:07.312590",
     "status": "completed"
    },
    "tags": []
   },
   "outputs": [],
   "source": [
    "#hide\n",
    "dft_cases = dft_cases.reset_index()\n",
    "dft_deaths = dft_deaths.reset_index()\n",
    "dft_cases = dft_cases.rename(columns = {'index':'state'})\n",
    "dft_deaths = dft_deaths.rename(columns = {'index':'state'})"
   ]
  },
  {
   "cell_type": "code",
   "execution_count": 10,
   "id": "invisible-johnston",
   "metadata": {
    "execution": {
     "iopub.execute_input": "2021-04-15T13:14:07.392464Z",
     "iopub.status.busy": "2021-04-15T13:14:07.391794Z",
     "iopub.status.idle": "2021-04-15T13:14:07.393532Z",
     "shell.execute_reply": "2021-04-15T13:14:07.394213Z"
    },
    "papermill": {
     "duration": 0.032459,
     "end_time": "2021-04-15T13:14:07.394341",
     "exception": false,
     "start_time": "2021-04-15T13:14:07.361882",
     "status": "completed"
    },
    "tags": []
   },
   "outputs": [],
   "source": [
    "#hide\n",
    "dfc_cases = dft_cases.groupby('state')[dt_today].sum()\n",
    "dfc_deaths = dft_deaths.groupby('state')[dt_today].sum()\n",
    "dfp_cases = dft_cases.groupby('state')[dt_yday].sum()\n",
    "dfp_deaths = dft_deaths.groupby('state')[dt_yday].sum()"
   ]
  },
  {
   "cell_type": "code",
   "execution_count": 11,
   "id": "measured-great",
   "metadata": {
    "execution": {
     "iopub.execute_input": "2021-04-15T13:14:07.444646Z",
     "iopub.status.busy": "2021-04-15T13:14:07.444058Z",
     "iopub.status.idle": "2021-04-15T13:14:07.460858Z",
     "shell.execute_reply": "2021-04-15T13:14:07.461499Z"
    },
    "papermill": {
     "duration": 0.047966,
     "end_time": "2021-04-15T13:14:07.461665",
     "exception": false,
     "start_time": "2021-04-15T13:14:07.413699",
     "status": "completed"
    },
    "tags": []
   },
   "outputs": [
    {
     "data": {
      "text/html": [
       "<div>\n",
       "<style scoped>\n",
       "    .dataframe tbody tr th:only-of-type {\n",
       "        vertical-align: middle;\n",
       "    }\n",
       "\n",
       "    .dataframe tbody tr th {\n",
       "        vertical-align: top;\n",
       "    }\n",
       "\n",
       "    .dataframe thead th {\n",
       "        text-align: right;\n",
       "    }\n",
       "</style>\n",
       "<table border=\"1\" class=\"dataframe\">\n",
       "  <thead>\n",
       "    <tr style=\"text-align: right;\">\n",
       "      <th></th>\n",
       "      <th>states</th>\n",
       "      <th>Cases</th>\n",
       "      <th>Deaths</th>\n",
       "      <th>PCases</th>\n",
       "      <th>PDeaths</th>\n",
       "    </tr>\n",
       "  </thead>\n",
       "  <tbody>\n",
       "    <tr>\n",
       "      <th>0</th>\n",
       "      <td>Maharashtra</td>\n",
       "      <td>3578160</td>\n",
       "      <td>58804</td>\n",
       "      <td>3578160</td>\n",
       "      <td>58804</td>\n",
       "    </tr>\n",
       "    <tr>\n",
       "      <th>1</th>\n",
       "      <td>Kerala</td>\n",
       "      <td>1189176</td>\n",
       "      <td>4837</td>\n",
       "      <td>1189176</td>\n",
       "      <td>4837</td>\n",
       "    </tr>\n",
       "    <tr>\n",
       "      <th>2</th>\n",
       "      <td>Karnataka</td>\n",
       "      <td>1094912</td>\n",
       "      <td>13046</td>\n",
       "      <td>1094912</td>\n",
       "      <td>13046</td>\n",
       "    </tr>\n",
       "    <tr>\n",
       "      <th>3</th>\n",
       "      <td>Tamil Nadu</td>\n",
       "      <td>954948</td>\n",
       "      <td>12970</td>\n",
       "      <td>954948</td>\n",
       "      <td>12970</td>\n",
       "    </tr>\n",
       "    <tr>\n",
       "      <th>4</th>\n",
       "      <td>Andhra Pradesh</td>\n",
       "      <td>942135</td>\n",
       "      <td>7353</td>\n",
       "      <td>937049</td>\n",
       "      <td>7339</td>\n",
       "    </tr>\n",
       "  </tbody>\n",
       "</table>\n",
       "</div>"
      ],
      "text/plain": [
       "           states    Cases  Deaths   PCases  PDeaths\n",
       "0     Maharashtra  3578160   58804  3578160    58804\n",
       "1          Kerala  1189176    4837  1189176     4837\n",
       "2       Karnataka  1094912   13046  1094912    13046\n",
       "3      Tamil Nadu   954948   12970   954948    12970\n",
       "4  Andhra Pradesh   942135    7353   937049     7339"
      ]
     },
     "execution_count": 11,
     "metadata": {},
     "output_type": "execute_result"
    }
   ],
   "source": [
    "#hide\n",
    "df_table = pd.DataFrame({'states': dfc_cases.index, 'Cases': dfc_cases.values, 'Deaths': dfc_deaths.values, 'PCases': dfp_cases.values, 'PDeaths': dfp_deaths.values}).set_index('states')\n",
    "df_table = df_table.sort_values(by = ['Cases','Deaths'], ascending = [False, False])\n",
    "df_table = df_table.reset_index()\n",
    "df_table.head()"
   ]
  },
  {
   "cell_type": "code",
   "execution_count": 12,
   "id": "found-montreal",
   "metadata": {
    "execution": {
     "iopub.execute_input": "2021-04-15T13:14:07.512349Z",
     "iopub.status.busy": "2021-04-15T13:14:07.511249Z",
     "iopub.status.idle": "2021-04-15T13:14:07.513447Z",
     "shell.execute_reply": "2021-04-15T13:14:07.513896Z"
    },
    "papermill": {
     "duration": 0.034777,
     "end_time": "2021-04-15T13:14:07.514069",
     "exception": false,
     "start_time": "2021-04-15T13:14:07.479292",
     "status": "completed"
    },
    "tags": []
   },
   "outputs": [],
   "source": [
    "#hide\n",
    "for c in 'Cases, Deaths'.split(', '):\n",
    "    df_table[f'{c} (+)'] = (df_table[c] - df_table[f'P{c}']).clip(0)\n",
    "df_table['Fatality Rate'] = (100* df_table['Deaths']/ df_table['Cases']).round(2)"
   ]
  },
  {
   "cell_type": "code",
   "execution_count": 13,
   "id": "minus-savage",
   "metadata": {
    "execution": {
     "iopub.execute_input": "2021-04-15T13:14:07.564837Z",
     "iopub.status.busy": "2021-04-15T13:14:07.564191Z",
     "iopub.status.idle": "2021-04-15T13:14:07.567416Z",
     "shell.execute_reply": "2021-04-15T13:14:07.567907Z"
    },
    "papermill": {
     "duration": 0.036104,
     "end_time": "2021-04-15T13:14:07.568036",
     "exception": false,
     "start_time": "2021-04-15T13:14:07.531932",
     "status": "completed"
    },
    "tags": []
   },
   "outputs": [
    {
     "data": {
      "text/html": [
       "<div>\n",
       "<style scoped>\n",
       "    .dataframe tbody tr th:only-of-type {\n",
       "        vertical-align: middle;\n",
       "    }\n",
       "\n",
       "    .dataframe tbody tr th {\n",
       "        vertical-align: top;\n",
       "    }\n",
       "\n",
       "    .dataframe thead th {\n",
       "        text-align: right;\n",
       "    }\n",
       "</style>\n",
       "<table border=\"1\" class=\"dataframe\">\n",
       "  <thead>\n",
       "    <tr style=\"text-align: right;\">\n",
       "      <th></th>\n",
       "      <th>states</th>\n",
       "      <th>Cases</th>\n",
       "      <th>Deaths</th>\n",
       "      <th>PCases</th>\n",
       "      <th>PDeaths</th>\n",
       "      <th>Cases (+)</th>\n",
       "      <th>Deaths (+)</th>\n",
       "      <th>Fatality Rate</th>\n",
       "    </tr>\n",
       "  </thead>\n",
       "  <tbody>\n",
       "    <tr>\n",
       "      <th>0</th>\n",
       "      <td>Maharashtra</td>\n",
       "      <td>3578160</td>\n",
       "      <td>58804</td>\n",
       "      <td>3578160</td>\n",
       "      <td>58804</td>\n",
       "      <td>0</td>\n",
       "      <td>0</td>\n",
       "      <td>1.64</td>\n",
       "    </tr>\n",
       "    <tr>\n",
       "      <th>1</th>\n",
       "      <td>Kerala</td>\n",
       "      <td>1189176</td>\n",
       "      <td>4837</td>\n",
       "      <td>1189176</td>\n",
       "      <td>4837</td>\n",
       "      <td>0</td>\n",
       "      <td>0</td>\n",
       "      <td>0.41</td>\n",
       "    </tr>\n",
       "    <tr>\n",
       "      <th>2</th>\n",
       "      <td>Karnataka</td>\n",
       "      <td>1094912</td>\n",
       "      <td>13046</td>\n",
       "      <td>1094912</td>\n",
       "      <td>13046</td>\n",
       "      <td>0</td>\n",
       "      <td>0</td>\n",
       "      <td>1.19</td>\n",
       "    </tr>\n",
       "    <tr>\n",
       "      <th>3</th>\n",
       "      <td>Tamil Nadu</td>\n",
       "      <td>954948</td>\n",
       "      <td>12970</td>\n",
       "      <td>954948</td>\n",
       "      <td>12970</td>\n",
       "      <td>0</td>\n",
       "      <td>0</td>\n",
       "      <td>1.36</td>\n",
       "    </tr>\n",
       "    <tr>\n",
       "      <th>4</th>\n",
       "      <td>Andhra Pradesh</td>\n",
       "      <td>942135</td>\n",
       "      <td>7353</td>\n",
       "      <td>937049</td>\n",
       "      <td>7339</td>\n",
       "      <td>5086</td>\n",
       "      <td>14</td>\n",
       "      <td>0.78</td>\n",
       "    </tr>\n",
       "  </tbody>\n",
       "</table>\n",
       "</div>"
      ],
      "text/plain": [
       "           states    Cases  Deaths   PCases  PDeaths  Cases (+)  Deaths (+)  \\\n",
       "0     Maharashtra  3578160   58804  3578160    58804          0           0   \n",
       "1          Kerala  1189176    4837  1189176     4837          0           0   \n",
       "2       Karnataka  1094912   13046  1094912    13046          0           0   \n",
       "3      Tamil Nadu   954948   12970   954948    12970          0           0   \n",
       "4  Andhra Pradesh   942135    7353   937049     7339       5086          14   \n",
       "\n",
       "   Fatality Rate  \n",
       "0           1.64  \n",
       "1           0.41  \n",
       "2           1.19  \n",
       "3           1.36  \n",
       "4           0.78  "
      ]
     },
     "execution_count": 13,
     "metadata": {},
     "output_type": "execute_result"
    }
   ],
   "source": [
    "#hide\n",
    "df_table.head()"
   ]
  },
  {
   "cell_type": "code",
   "execution_count": 14,
   "id": "false-peter",
   "metadata": {
    "execution": {
     "iopub.execute_input": "2021-04-15T13:14:07.614349Z",
     "iopub.status.busy": "2021-04-15T13:14:07.613691Z",
     "iopub.status.idle": "2021-04-15T13:14:07.633632Z",
     "shell.execute_reply": "2021-04-15T13:14:07.633165Z"
    },
    "papermill": {
     "duration": 0.045731,
     "end_time": "2021-04-15T13:14:07.633745",
     "exception": false,
     "start_time": "2021-04-15T13:14:07.588014",
     "status": "completed"
    },
    "tags": []
   },
   "outputs": [
    {
     "data": {
      "text/plain": [
       "{'updated': '2021-04-15',\n",
       " 'since': '2021-04-14',\n",
       " 'Cases': 14083069,\n",
       " 'PCases': 14071098,\n",
       " 'Deaths': 173178,\n",
       " 'PDeaths': 173153,\n",
       " 'Cases (+)': 11971,\n",
       " 'Deaths (+)': 25}"
      ]
     },
     "execution_count": 14,
     "metadata": {},
     "output_type": "execute_result"
    }
   ],
   "source": [
    "#hide\n",
    "summary = {'updated':dates[-1], 'since':dates[-2]}\n",
    "list_names = ['Cases', 'PCases', 'Deaths', 'PDeaths', 'Cases (+)', 'Deaths (+)']\n",
    "for name in list_names:\n",
    "    summary[name] = df_table.sum()[name]\n",
    "summary"
   ]
  },
  {
   "cell_type": "code",
   "execution_count": 15,
   "id": "packed-viewer",
   "metadata": {
    "execution": {
     "iopub.execute_input": "2021-04-15T13:14:07.682326Z",
     "iopub.status.busy": "2021-04-15T13:14:07.681755Z",
     "iopub.status.idle": "2021-04-15T13:14:07.684108Z",
     "shell.execute_reply": "2021-04-15T13:14:07.684682Z"
    },
    "papermill": {
     "duration": 0.029327,
     "end_time": "2021-04-15T13:14:07.684838",
     "exception": false,
     "start_time": "2021-04-15T13:14:07.655511",
     "status": "completed"
    },
    "tags": []
   },
   "outputs": [],
   "source": [
    "#hide\n",
    "overview = '''\n",
    "<!-- #######  HTML!! #########-->\n",
    "<h1 style=\"color: #5e9ca0; text-align: center;\">India</h1>\n",
    "<p style=\"text-align: center;\">Last update: <strong>{update}</strong></p>\n",
    "<p style=\"text-align: center;\">Confirmed cases:</p>\n",
    "<p style=\"text-align: center;font-size:24px;\">{cases} (<span style=\"color: #ff0000;\">+{new}</span>)</p>\n",
    "<p style=\"text-align: center;\">Confirmed deaths:</p>\n",
    "<p style=\"text-align: center;font-size:24px;\">{deaths} (<span style=\"color: #ff0000;\">+{dnew}</span>)</p>\n",
    "'''"
   ]
  },
  {
   "cell_type": "code",
   "execution_count": 16,
   "id": "phantom-lover",
   "metadata": {
    "execution": {
     "iopub.execute_input": "2021-04-15T13:14:07.730538Z",
     "iopub.status.busy": "2021-04-15T13:14:07.729985Z",
     "iopub.status.idle": "2021-04-15T13:14:07.733438Z",
     "shell.execute_reply": "2021-04-15T13:14:07.732927Z"
    },
    "papermill": {
     "duration": 0.029022,
     "end_time": "2021-04-15T13:14:07.733549",
     "exception": false,
     "start_time": "2021-04-15T13:14:07.704527",
     "status": "completed"
    },
    "tags": []
   },
   "outputs": [
    {
     "data": {
      "text/html": [
       "\n",
       "<!-- #######  HTML!! #########-->\n",
       "<h1 style=\"color: #5e9ca0; text-align: center;\">India</h1>\n",
       "<p style=\"text-align: center;\">Last update: <strong>2021-04-15</strong></p>\n",
       "<p style=\"text-align: center;\">Confirmed cases:</p>\n",
       "<p style=\"text-align: center;font-size:24px;\">14083069 (<span style=\"color: #ff0000;\">+11971</span>)</p>\n",
       "<p style=\"text-align: center;\">Confirmed deaths:</p>\n",
       "<p style=\"text-align: center;font-size:24px;\">173178 (<span style=\"color: #ff0000;\">+25</span>)</p>\n"
      ],
      "text/plain": [
       "<IPython.core.display.HTML object>"
      ]
     },
     "metadata": {},
     "output_type": "display_data"
    }
   ],
   "source": [
    "#hide_input\n",
    "update = summary['updated']\n",
    "cases = summary['Cases']\n",
    "new = summary['Cases (+)']\n",
    "deaths = summary['Deaths']\n",
    "dnew = summary['Deaths (+)']\n",
    "\n",
    "html = HTML(overview.format(update=update, cases=cases,new=new,deaths=deaths,dnew=dnew))\n",
    "\n",
    "display(html)"
   ]
  },
  {
   "cell_type": "code",
   "execution_count": 17,
   "id": "sealed-reset",
   "metadata": {
    "execution": {
     "iopub.execute_input": "2021-04-15T13:14:07.782879Z",
     "iopub.status.busy": "2021-04-15T13:14:07.782250Z",
     "iopub.status.idle": "2021-04-15T13:14:07.790882Z",
     "shell.execute_reply": "2021-04-15T13:14:07.790171Z"
    },
    "papermill": {
     "duration": 0.036187,
     "end_time": "2021-04-15T13:14:07.790999",
     "exception": false,
     "start_time": "2021-04-15T13:14:07.754812",
     "status": "completed"
    },
    "tags": []
   },
   "outputs": [],
   "source": [
    "#hide\n",
    "dt_cols = list(dft_cases.columns[1:])\n",
    "dft_ct_new_cases = dft_cases.groupby('state')[dt_cols].sum().diff(axis=1).fillna(0).astype(int)\n",
    "dft_ct_new_cases.sort_values(by = dates[-1], ascending = False,inplace = True)"
   ]
  },
  {
   "cell_type": "code",
   "execution_count": 18,
   "id": "designed-constant",
   "metadata": {
    "execution": {
     "iopub.execute_input": "2021-04-15T13:14:07.859671Z",
     "iopub.status.busy": "2021-04-15T13:14:07.858821Z",
     "iopub.status.idle": "2021-04-15T13:14:07.862314Z",
     "shell.execute_reply": "2021-04-15T13:14:07.862957Z"
    },
    "papermill": {
     "duration": 0.048465,
     "end_time": "2021-04-15T13:14:07.863105",
     "exception": false,
     "start_time": "2021-04-15T13:14:07.814640",
     "status": "completed"
    },
    "tags": []
   },
   "outputs": [
    {
     "data": {
      "text/html": [
       "<div>\n",
       "<style scoped>\n",
       "    .dataframe tbody tr th:only-of-type {\n",
       "        vertical-align: middle;\n",
       "    }\n",
       "\n",
       "    .dataframe tbody tr th {\n",
       "        vertical-align: top;\n",
       "    }\n",
       "\n",
       "    .dataframe thead th {\n",
       "        text-align: right;\n",
       "    }\n",
       "</style>\n",
       "<table border=\"1\" class=\"dataframe\">\n",
       "  <thead>\n",
       "    <tr style=\"text-align: right;\">\n",
       "      <th>states</th>\n",
       "      <th>2020-07-01</th>\n",
       "      <th>2020-07-02</th>\n",
       "      <th>2020-07-03</th>\n",
       "      <th>2020-07-04</th>\n",
       "      <th>2020-07-05</th>\n",
       "      <th>2020-07-06</th>\n",
       "      <th>2020-07-07</th>\n",
       "      <th>2020-07-08</th>\n",
       "      <th>2020-07-09</th>\n",
       "      <th>2020-07-10</th>\n",
       "      <th>...</th>\n",
       "      <th>2021-04-06</th>\n",
       "      <th>2021-04-07</th>\n",
       "      <th>2021-04-08</th>\n",
       "      <th>2021-04-09</th>\n",
       "      <th>2021-04-10</th>\n",
       "      <th>2021-04-11</th>\n",
       "      <th>2021-04-12</th>\n",
       "      <th>2021-04-13</th>\n",
       "      <th>2021-04-14</th>\n",
       "      <th>2021-04-15</th>\n",
       "    </tr>\n",
       "    <tr>\n",
       "      <th>state</th>\n",
       "      <th></th>\n",
       "      <th></th>\n",
       "      <th></th>\n",
       "      <th></th>\n",
       "      <th></th>\n",
       "      <th></th>\n",
       "      <th></th>\n",
       "      <th></th>\n",
       "      <th></th>\n",
       "      <th></th>\n",
       "      <th></th>\n",
       "      <th></th>\n",
       "      <th></th>\n",
       "      <th></th>\n",
       "      <th></th>\n",
       "      <th></th>\n",
       "      <th></th>\n",
       "      <th></th>\n",
       "      <th></th>\n",
       "      <th></th>\n",
       "      <th></th>\n",
       "    </tr>\n",
       "  </thead>\n",
       "  <tbody>\n",
       "    <tr>\n",
       "      <th>Andhra Pradesh</th>\n",
       "      <td>0</td>\n",
       "      <td>845</td>\n",
       "      <td>837</td>\n",
       "      <td>765</td>\n",
       "      <td>998</td>\n",
       "      <td>1322</td>\n",
       "      <td>1178</td>\n",
       "      <td>1062</td>\n",
       "      <td>1555</td>\n",
       "      <td>1608</td>\n",
       "      <td>...</td>\n",
       "      <td>1941</td>\n",
       "      <td>2331</td>\n",
       "      <td>2558</td>\n",
       "      <td>2765</td>\n",
       "      <td>3309</td>\n",
       "      <td>3495</td>\n",
       "      <td>3263</td>\n",
       "      <td>4228</td>\n",
       "      <td>4157</td>\n",
       "      <td>5086</td>\n",
       "    </tr>\n",
       "    <tr>\n",
       "      <th>Telangana</th>\n",
       "      <td>0</td>\n",
       "      <td>1213</td>\n",
       "      <td>1892</td>\n",
       "      <td>1850</td>\n",
       "      <td>1590</td>\n",
       "      <td>1831</td>\n",
       "      <td>1879</td>\n",
       "      <td>1924</td>\n",
       "      <td>1410</td>\n",
       "      <td>1278</td>\n",
       "      <td>...</td>\n",
       "      <td>1498</td>\n",
       "      <td>1914</td>\n",
       "      <td>2055</td>\n",
       "      <td>2478</td>\n",
       "      <td>2909</td>\n",
       "      <td>3187</td>\n",
       "      <td>2251</td>\n",
       "      <td>3052</td>\n",
       "      <td>2157</td>\n",
       "      <td>3307</td>\n",
       "    </tr>\n",
       "    <tr>\n",
       "      <th>Odisha</th>\n",
       "      <td>0</td>\n",
       "      <td>229</td>\n",
       "      <td>561</td>\n",
       "      <td>495</td>\n",
       "      <td>469</td>\n",
       "      <td>456</td>\n",
       "      <td>571</td>\n",
       "      <td>527</td>\n",
       "      <td>577</td>\n",
       "      <td>755</td>\n",
       "      <td>...</td>\n",
       "      <td>588</td>\n",
       "      <td>791</td>\n",
       "      <td>879</td>\n",
       "      <td>1282</td>\n",
       "      <td>1374</td>\n",
       "      <td>1379</td>\n",
       "      <td>1741</td>\n",
       "      <td>1784</td>\n",
       "      <td>2267</td>\n",
       "      <td>2989</td>\n",
       "    </tr>\n",
       "    <tr>\n",
       "      <th>Puducherry</th>\n",
       "      <td>0</td>\n",
       "      <td>63</td>\n",
       "      <td>22</td>\n",
       "      <td>80</td>\n",
       "      <td>42</td>\n",
       "      <td>65</td>\n",
       "      <td>30</td>\n",
       "      <td>110</td>\n",
       "      <td>49</td>\n",
       "      <td>72</td>\n",
       "      <td>...</td>\n",
       "      <td>237</td>\n",
       "      <td>173</td>\n",
       "      <td>293</td>\n",
       "      <td>223</td>\n",
       "      <td>272</td>\n",
       "      <td>306</td>\n",
       "      <td>512</td>\n",
       "      <td>418</td>\n",
       "      <td>476</td>\n",
       "      <td>413</td>\n",
       "    </tr>\n",
       "    <tr>\n",
       "      <th>Meghalaya</th>\n",
       "      <td>0</td>\n",
       "      <td>3</td>\n",
       "      <td>4</td>\n",
       "      <td>8</td>\n",
       "      <td>2</td>\n",
       "      <td>16</td>\n",
       "      <td>6</td>\n",
       "      <td>6</td>\n",
       "      <td>13</td>\n",
       "      <td>73</td>\n",
       "      <td>...</td>\n",
       "      <td>9</td>\n",
       "      <td>5</td>\n",
       "      <td>25</td>\n",
       "      <td>42</td>\n",
       "      <td>39</td>\n",
       "      <td>28</td>\n",
       "      <td>26</td>\n",
       "      <td>87</td>\n",
       "      <td>98</td>\n",
       "      <td>97</td>\n",
       "    </tr>\n",
       "  </tbody>\n",
       "</table>\n",
       "<p>5 rows × 289 columns</p>\n",
       "</div>"
      ],
      "text/plain": [
       "states          2020-07-01  2020-07-02  2020-07-03  2020-07-04  2020-07-05  \\\n",
       "state                                                                        \n",
       "Andhra Pradesh           0         845         837         765         998   \n",
       "Telangana                0        1213        1892        1850        1590   \n",
       "Odisha                   0         229         561         495         469   \n",
       "Puducherry               0          63          22          80          42   \n",
       "Meghalaya                0           3           4           8           2   \n",
       "\n",
       "states          2020-07-06  2020-07-07  2020-07-08  2020-07-09  2020-07-10  \\\n",
       "state                                                                        \n",
       "Andhra Pradesh        1322        1178        1062        1555        1608   \n",
       "Telangana             1831        1879        1924        1410        1278   \n",
       "Odisha                 456         571         527         577         755   \n",
       "Puducherry              65          30         110          49          72   \n",
       "Meghalaya               16           6           6          13          73   \n",
       "\n",
       "states          ...  2021-04-06  2021-04-07  2021-04-08  2021-04-09  \\\n",
       "state           ...                                                   \n",
       "Andhra Pradesh  ...        1941        2331        2558        2765   \n",
       "Telangana       ...        1498        1914        2055        2478   \n",
       "Odisha          ...         588         791         879        1282   \n",
       "Puducherry      ...         237         173         293         223   \n",
       "Meghalaya       ...           9           5          25          42   \n",
       "\n",
       "states          2021-04-10  2021-04-11  2021-04-12  2021-04-13  2021-04-14  \\\n",
       "state                                                                        \n",
       "Andhra Pradesh        3309        3495        3263        4228        4157   \n",
       "Telangana             2909        3187        2251        3052        2157   \n",
       "Odisha                1374        1379        1741        1784        2267   \n",
       "Puducherry             272         306         512         418         476   \n",
       "Meghalaya               39          28          26          87          98   \n",
       "\n",
       "states          2021-04-15  \n",
       "state                       \n",
       "Andhra Pradesh        5086  \n",
       "Telangana             3307  \n",
       "Odisha                2989  \n",
       "Puducherry             413  \n",
       "Meghalaya               97  \n",
       "\n",
       "[5 rows x 289 columns]"
      ]
     },
     "execution_count": 18,
     "metadata": {},
     "output_type": "execute_result"
    }
   ],
   "source": [
    "#hide\n",
    "dft_ct_new_cases.head()"
   ]
  },
  {
   "cell_type": "code",
   "execution_count": 19,
   "id": "responsible-nightlife",
   "metadata": {
    "execution": {
     "iopub.execute_input": "2021-04-15T13:14:07.908280Z",
     "iopub.status.busy": "2021-04-15T13:14:07.907574Z",
     "iopub.status.idle": "2021-04-15T13:14:21.407345Z",
     "shell.execute_reply": "2021-04-15T13:14:21.407828Z"
    },
    "papermill": {
     "duration": 13.524113,
     "end_time": "2021-04-15T13:14:21.407965",
     "exception": false,
     "start_time": "2021-04-15T13:14:07.883852",
     "status": "completed"
    },
    "tags": []
   },
   "outputs": [
    {
     "data": {
      "image/png": "[encoded data removed]",
      "text/plain": [
       "<Figure size 1296x2016 with 11 Axes>"
      ]
     },
     "metadata": {
      "needs_background": "light"
     },
     "output_type": "display_data"
    }
   ],
   "source": [
    "#hide_input\n",
    "df = dft_ct_new_cases.copy()\n",
    "df.loc['Total'] = df.sum()\n",
    "n = 5\n",
    "ax = []\n",
    "fig = plt.figure(figsize = (18,28))\n",
    "gs = fig.add_gridspec(n+2, 5)\n",
    "# gs = fig.add_gridspec(2, 3)\n",
    "ax1 = fig.add_subplot(gs[0, :])\n",
    "ef = df.loc['Total'].rename_axis('date').reset_index()\n",
    "ef['date'] = ef['date'].astype('datetime64[ns]')\n",
    "ax1.bar(ef.date,ef.Total,alpha=0.3,color='#007acc')\n",
    "ax1.plot(ef.date,ef.Total , marker=\"o\", color='#007acc')\n",
    "ax1.xaxis.set_major_locator(mdates.WeekdayLocator())\n",
    "ax1.xaxis.set_major_formatter(mdates.DateFormatter('%b %d'))\n",
    "ax1.text(0.02, 0.5,'India daily case count', transform = ax1.transAxes, fontsize=25);\n",
    "ax1.spines['right'].set_visible(False)\n",
    "ax1.spines['top'].set_visible(False)\n",
    "\n",
    "ax2 = fig.add_subplot(gs[1,0])\n",
    "ef = df.loc['Maharashtra'].rename_axis('date').reset_index()\n",
    "ef['date'] = ef['date'].astype('datetime64[ns]')\n",
    "\n",
    "ax2.bar(ef.date, ef.Maharashtra,color = '#007acc',alpha=0.5)\n",
    "ax2.xaxis.set_major_locator(mdates.WeekdayLocator())\n",
    "ax2.xaxis.set_major_formatter(mdates.DateFormatter('%b %d'))\n",
    "ax2.set_xticks(ax2.get_xticks()[::3])\n",
    "maxyval = ef.Maharashtra.max()\n",
    "ax2.set_ylim([0,maxyval])\n",
    "ax2.text(0.05, 0.9,'Maharashtra', transform = ax2.transAxes, fontsize=20);\n",
    "ax2.spines['right'].set_visible(False)\n",
    "ax2.spines['top'].set_visible(False)\n",
    "\n",
    "\n",
    "ax3 = fig.add_subplot(gs[1,1])\n",
    "ef = df.loc['Tamil Nadu'].rename_axis('date').reset_index()\n",
    "ef['date'] = ef['date'].astype('datetime64[ns]')\n",
    "ax3.bar(ef.date, ef['Tamil Nadu'],color = '#007acc',alpha=0.5,)\n",
    "ax3.xaxis.set_major_locator(mdates.WeekdayLocator())\n",
    "ax3.xaxis.set_major_formatter(mdates.DateFormatter('%b %d'))\n",
    "ax3.set_xticks(ax3.get_xticks()[::3])\n",
    "ax3.text(0.05, 0.9,'Tamil Nadu', transform = ax3.transAxes, fontsize=20);\n",
    "ax3.spines['right'].set_visible(False)\n",
    "ax3.spines['top'].set_visible(False)\n",
    "\n",
    "ax5 = fig.add_subplot(gs[1,3])\n",
    "ef = df.loc['Telangana'].rename_axis('date').reset_index()\n",
    "ef['date'] = ef['date'].astype('datetime64[ns]')\n",
    "ax5.bar(ef.date, ef['Telangana'],color = '#007acc',alpha=0.5,)\n",
    "ax5.xaxis.set_major_locator(mdates.WeekdayLocator())\n",
    "ax5.xaxis.set_major_formatter(mdates.DateFormatter('%b %d'))\n",
    "ax5.set_xticks(ax5.get_xticks()[::3])\n",
    "ax5.text(0.05, 0.9,'Telangana', transform = ax5.transAxes, fontsize=20);\n",
    "ax5.spines['right'].set_visible(False)\n",
    "ax5.spines['top'].set_visible(False)\n",
    "\n",
    "ax6 = fig.add_subplot(gs[1,4])\n",
    "ef = df.loc['Andhra Pradesh'].rename_axis('date').reset_index()\n",
    "ef['date'] = ef['date'].astype('datetime64[ns]')\n",
    "ax6.bar(ef.date, ef['Andhra Pradesh'],color = '#007acc',alpha=0.5,)\n",
    "ax6.xaxis.set_major_locator(mdates.WeekdayLocator())\n",
    "ax6.xaxis.set_major_formatter(mdates.DateFormatter('%b %d'))\n",
    "ax6.set_xticks(ax6.get_xticks()[::3])\n",
    "ax6.text(0.05, 1,'Andhra Pradesh', transform = ax6.transAxes, fontsize=20);\n",
    "ax6.spines['right'].set_visible(False)\n",
    "ax6.spines['top'].set_visible(False)\n",
    "\n",
    "ax4 = fig.add_subplot(gs[1,2])\n",
    "ef = df.loc['Delhi'].rename_axis('date').reset_index()\n",
    "ef['date'] = ef['date'].astype('datetime64[ns]')\n",
    "ax4.bar(ef.date, ef.Delhi,color = '#007acc',alpha=0.5)\n",
    "ax4.set_xticks([])\n",
    "ax4.xaxis.set_major_locator(mdates.WeekdayLocator())\n",
    "ax4.xaxis.set_major_formatter(mdates.DateFormatter('%b %d'))\n",
    "ax4.set_xticks(ax4.get_xticks()[::3])\n",
    "ax4.spines['right'].set_visible(False)\n",
    "ax4.spines['top'].set_visible(False)\n",
    "\n",
    "ax4.text(0.05, 1,'Delhi', transform = ax4.transAxes, fontsize=20)\n",
    "\n",
    "for i in range(n):\n",
    "    \n",
    "    ax.append(fig.add_subplot(gs[i+2,:]))\n",
    "    ef = df.iloc[i+3].rename_axis('date').reset_index()\n",
    "    ef['date'] = ef['date'].astype('datetime64[ns]')\n",
    "    ax[i].bar(ef.date,ef.iloc[:,-1],color = '#007acc',alpha=0.3)\n",
    "    ax[i].plot(ef.date,ef.iloc[:,-1],marker='o',color='#007acc')\n",
    "    ax[i].text(0.02,0.5,f'{ef.columns.values[-1]}',transform = ax[i].transAxes, fontsize = 20);\n",
    "    ax[i].xaxis.set_major_locator(mdates.WeekdayLocator())\n",
    "    ax[i].xaxis.set_major_formatter(mdates.DateFormatter('%b %d'))\n",
    "    ax[i].set_ylim([0,7000])\n",
    "    ax[i].spines['right'].set_visible(False)\n",
    "    ax[i].spines['top'].set_visible(False)\n",
    "plt.tight_layout()\n"
   ]
  },
  {
   "cell_type": "code",
   "execution_count": 20,
   "id": "dress-forge",
   "metadata": {
    "execution": {
     "iopub.execute_input": "2021-04-15T13:14:21.470364Z",
     "iopub.status.busy": "2021-04-15T13:14:21.469784Z",
     "iopub.status.idle": "2021-04-15T13:14:21.472555Z",
     "shell.execute_reply": "2021-04-15T13:14:21.472120Z"
    },
    "papermill": {
     "duration": 0.038052,
     "end_time": "2021-04-15T13:14:21.472700",
     "exception": false,
     "start_time": "2021-04-15T13:14:21.434648",
     "status": "completed"
    },
    "tags": []
   },
   "outputs": [
    {
     "name": "stdout",
     "output_type": "stream",
     "text": [
      "                                   states    Cases  Deaths   PCases  PDeaths  Cases (+)  Deaths (+)  Fatality Rate\n",
      "                              Maharashtra  3578160   58804  3578160    58804          0           0           1.64\n",
      "                                   Kerala  1189176    4837  1189176     4837          0           0           0.41\n",
      "                                Karnataka  1094912   13046  1094912    13046          0           0           1.19\n",
      "                               Tamil Nadu   954948   12970   954948    12970          0           0           1.36\n",
      "                           Andhra Pradesh   942135    7353   937049     7339       5086          14           0.78\n",
      "                                    Delhi   767438   11540   767438    11540          0           0           1.50\n",
      "                            Uttar Pradesh   744021    9376   744021     9376          0           0           1.26\n",
      "                              West Bengal   630116   10458   630116    10458          0           0           1.66\n",
      "                             Chhattisgarh   486244    5307   486244     5307          0           0           1.09\n",
      "                                Rajasthan   381292    3008   381292     3008          0           0           0.79\n",
      "                                  Gujarat   367616    4995   367616     4995          0           0           1.36\n",
      "                           Madhya Pradesh   363352    4312   363352     4312          0           0           1.19\n",
      "                                   Odisha   358342    1988   355353     1986       2989           2           0.55\n",
      "                                Telangana   338045    1788   334738     1780       3307           8           0.53\n",
      "                                  Haryana   329942    3316   329942     3316          0           0           1.01\n",
      "                                    Bihar   295171    1651   295171     1651          0           0           0.56\n",
      "                                   Punjab   282505    7672   282505     7672          0           0           2.72\n",
      "                                    Assam   221868    1122   221868     1122          0           0           0.51\n",
      "                                Jharkhand   147792    1292   147792     1292          0           0           0.87\n",
      "                        Jammu and Kashmir   141736    2042   141736     2042          0           0           1.44\n",
      "                              Uttarakhand   114024    1793   114024     1793          0           0           1.57\n",
      "                         Himachal Pradesh    72319    1135    72319     1135          0           0           1.57\n",
      "                                      Goa    63815     857    63815      857          0           0           1.34\n",
      "                               Puducherry    45862     699    45449      698        413           1           1.52\n",
      "                                  Tripura    33841     391    33841      391          0           0           1.16\n",
      "                               Chandigarh    31985     404    31985      404          0           0           1.26\n",
      "                                  Manipur    29561     376    29561      376          0           0           1.27\n",
      "                        Arunachal Pradesh    16912      56    16912       56          0           0           0.33\n",
      "                                Meghalaya    14582     151    14485      151         97           0           1.04\n",
      "                                 Nagaland    12482      93    12440       93         42           0           0.75\n",
      "                                   Ladakh    11278     132    11278      132          0           0           1.17\n",
      "                                   Sikkim     6456     136     6456      136          0           0           2.11\n",
      "              Andaman and Nicobar Islands     5247      63     5247       63          0           0           1.20\n",
      "                                  Mizoram     4722      12     4685       12         37           0           0.25\n",
      " Dadra and Nagar Haveli and Daman and Diu     4327       2     4327        2          0           0           0.05\n",
      "                              Lakshadweep      845       1      845        1          0           0           0.12\n"
     ]
    }
   ],
   "source": [
    "#hide_input\n",
    "print(df_table.to_string(index=False))"
   ]
  },
  {
   "cell_type": "code",
   "execution_count": null,
   "id": "quantitative-legend",
   "metadata": {
    "papermill": {
     "duration": 0.025249,
     "end_time": "2021-04-15T13:14:21.524445",
     "exception": false,
     "start_time": "2021-04-15T13:14:21.499196",
     "status": "completed"
    },
    "tags": []
   },
   "outputs": [],
   "source": []
  },
  {
   "cell_type": "code",
   "execution_count": null,
   "id": "distant-acoustic",
   "metadata": {
    "papermill": {
     "duration": 0.025603,
     "end_time": "2021-04-15T13:14:21.575298",
     "exception": false,
     "start_time": "2021-04-15T13:14:21.549695",
     "status": "completed"
    },
    "tags": []
   },
   "outputs": [],
   "source": []
  }
 ],
 "metadata": {
  "kernelspec": {
   "display_name": "Python 3",
   "language": "python",
   "name": "python3"
  },
  "language_info": {
   "codemirror_mode": {
    "name": "ipython",
    "version": 3
   },
   "file_extension": ".py",
   "mimetype": "text/x-python",
   "name": "python",
   "nbconvert_exporter": "python",
   "pygments_lexer": "ipython3",
   "version": "3.6.13"
  },
  "papermill": {
   "duration": 27.974612,
   "end_time": "2021-04-15T13:14:22.211576",
   "environment_variables": {},
   "exception": null,
   "input_path": "latest.ipynb",
   "output_path": "latest.ipynb",
   "parameters": {},
   "start_time": "2021-04-15T13:13:54.236964",
   "version": "2.1.2"
  }
 },
 "nbformat": 4,
 "nbformat_minor": 5
}