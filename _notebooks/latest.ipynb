{
 "cells": [
  {
   "cell_type": "markdown",
   "metadata": {
    "papermill": {
     "duration": 0.026806,
     "end_time": "2020-08-24T12:51:49.054386",
     "exception": false,
     "start_time": "2020-08-24T12:51:49.027580",
     "status": "completed"
    },
    "tags": []
   },
   "source": [
    "# Latest COVID-19 India Matplotlib Overview"
   ]
  },
  {
   "cell_type": "code",
   "execution_count": 1,
   "metadata": {
    "execution": {
     "iopub.execute_input": "2020-08-24T12:51:49.098093Z",
     "iopub.status.busy": "2020-08-24T12:51:49.097419Z",
     "iopub.status.idle": "2020-08-24T12:51:49.762159Z",
     "shell.execute_reply": "2020-08-24T12:51:49.761290Z"
    },
    "papermill": {
     "duration": 0.68954,
     "end_time": "2020-08-24T12:51:49.762326",
     "exception": false,
     "start_time": "2020-08-24T12:51:49.072786",
     "status": "completed"
    },
    "tags": []
   },
   "outputs": [],
   "source": [
    "#hide\n",
    "import pandas as pd\n",
    "import numpy as np\n",
    "import requests\n",
    "import json\n",
    "import matplotlib.pyplot as plt\n",
    "import matplotlib.dates as mdates\n",
    "import matplotlib as mpl\n",
    "from IPython.core.display import display,HTML\n",
    "%matplotlib inline\n",
    "from datetime import date"
   ]
  },
  {
   "cell_type": "code",
   "execution_count": 2,
   "metadata": {
    "execution": {
     "iopub.execute_input": "2020-08-24T12:51:49.806547Z",
     "iopub.status.busy": "2020-08-24T12:51:49.805832Z",
     "iopub.status.idle": "2020-08-24T12:51:50.000516Z",
     "shell.execute_reply": "2020-08-24T12:51:49.999410Z"
    },
    "papermill": {
     "duration": 0.219417,
     "end_time": "2020-08-24T12:51:50.000698",
     "exception": false,
     "start_time": "2020-08-24T12:51:49.781281",
     "status": "completed"
    },
    "tags": []
   },
   "outputs": [],
   "source": [
    "#hide\n",
    "df  = pd.read_csv('https://api.covid19india.org/csv/latest/states.csv')\n",
    "df = df[['Date','State','Confirmed','Deceased']]\n",
    "df = df.rename(columns={'Confirmed':'Cases', \"Deceased\":'Deaths'})\n",
    "df_cases = df[[\"Date\",'State','Cases']]\n",
    "df_deaths = df[['Date','State','Deaths']]\n",
    "df_cases1 = df_cases.groupby('Date')\n",
    "df_deaths1= df_deaths.groupby('Date')"
   ]
  },
  {
   "cell_type": "code",
   "execution_count": 3,
   "metadata": {
    "execution": {
     "iopub.execute_input": "2020-08-24T12:51:50.044645Z",
     "iopub.status.busy": "2020-08-24T12:51:50.043953Z",
     "iopub.status.idle": "2020-08-24T12:51:50.064064Z",
     "shell.execute_reply": "2020-08-24T12:51:50.063491Z"
    },
    "papermill": {
     "duration": 0.045381,
     "end_time": "2020-08-24T12:51:50.064246",
     "exception": false,
     "start_time": "2020-08-24T12:51:50.018865",
     "status": "completed"
    },
    "tags": []
   },
   "outputs": [],
   "source": [
    "#hide\n",
    "df_snap = pd.read_csv('data/SnapshotCases-28-July.csv')\n",
    "arr_states = df_snap['states'].unique()\n",
    "arr_dates = df['Date'].unique()\n",
    "df_snap = df_snap.set_index('states')"
   ]
  },
  {
   "cell_type": "code",
   "execution_count": 4,
   "metadata": {
    "execution": {
     "iopub.execute_input": "2020-08-24T12:51:50.106730Z",
     "iopub.status.busy": "2020-08-24T12:51:50.106038Z",
     "iopub.status.idle": "2020-08-24T12:51:50.109626Z",
     "shell.execute_reply": "2020-08-24T12:51:50.109032Z"
    },
    "papermill": {
     "duration": 0.028137,
     "end_time": "2020-08-24T12:51:50.109775",
     "exception": false,
     "start_time": "2020-08-24T12:51:50.081638",
     "status": "completed"
    },
    "tags": []
   },
   "outputs": [
    {
     "data": {
      "text/plain": [
       "array(['Andaman and Nicobar Islands', 'Andhra Pradesh',\n",
       "       'Arunachal Pradesh', 'Assam', 'Bihar', 'Chandigarh',\n",
       "       'Dadra and Nagar Haveli and Daman and Diu', 'Delhi', 'Goa',\n",
       "       'Gujarat', 'Haryana', 'Himachal Pradesh', 'Jammu and Kashmir',\n",
       "       'Jharkhand', 'Karnataka', 'Kerala', 'Lakshadweep',\n",
       "       'Madhya Pradesh', 'Maharashtra', 'Manipur', 'Meghalaya', 'Mizoram',\n",
       "       'Nagaland', 'Odisha', 'Puducherry', 'Punjab', 'Rajasthan',\n",
       "       'Sikkim', 'Tamil Nadu', 'Telangana', 'Tripura', 'Uttar Pradesh',\n",
       "       'West Bengal', 'Chhattisgarh', 'Ladakh', 'Uttarakhand'],\n",
       "      dtype=object)"
      ]
     },
     "execution_count": 4,
     "metadata": {},
     "output_type": "execute_result"
    }
   ],
   "source": [
    "#hide\n",
    "arr_states[-9] = 'Puducherry'\n",
    "arr_states[-10] = 'Odisha'\n",
    "arr_states[6] = 'Dadra and Nagar Haveli and Daman and Diu'\n",
    "arr_states = np.append(arr_states,np.array(['Chhattisgarh','Ladakh','Uttarakhand']))\n",
    "arr_states"
   ]
  },
  {
   "cell_type": "code",
   "execution_count": 5,
   "metadata": {
    "execution": {
     "iopub.execute_input": "2020-08-24T12:51:50.153934Z",
     "iopub.status.busy": "2020-08-24T12:51:50.153246Z",
     "iopub.status.idle": "2020-08-24T12:51:50.165295Z",
     "shell.execute_reply": "2020-08-24T12:51:50.166206Z"
    },
    "papermill": {
     "duration": 0.038909,
     "end_time": "2020-08-24T12:51:50.166387",
     "exception": false,
     "start_time": "2020-08-24T12:51:50.127478",
     "status": "completed"
    },
    "tags": []
   },
   "outputs": [],
   "source": [
    "#hide\n",
    "dates = []\n",
    "for i in arr_dates:\n",
    "    if i>='2020-07-01':\n",
    "        dates.append(i)\n",
    "dict = {'states':dates}\n",
    "for i in arr_states:\n",
    "    dict[i] = [0]*len(dates)\n",
    "dft_cases = pd.DataFrame(dict)\n",
    "dft_deaths = pd.DataFrame(dict)\n"
   ]
  },
  {
   "cell_type": "code",
   "execution_count": 6,
   "metadata": {
    "execution": {
     "iopub.execute_input": "2020-08-24T12:51:50.734397Z",
     "iopub.status.busy": "2020-08-24T12:51:50.729383Z",
     "iopub.status.idle": "2020-08-24T12:51:51.768904Z",
     "shell.execute_reply": "2020-08-24T12:51:51.769445Z"
    },
    "papermill": {
     "duration": 1.439471,
     "end_time": "2020-08-24T12:51:51.769620",
     "exception": false,
     "start_time": "2020-08-24T12:51:50.330149",
     "status": "completed"
    },
    "tags": []
   },
   "outputs": [],
   "source": [
    "#hide\n",
    "for i in range(len(dates)):\n",
    "    df1_deaths = df_deaths1.get_group(dates[i])\n",
    "    for j in range(len(df1_deaths.index)):\n",
    "        if df1_deaths.iloc[j,1] in arr_states:\n",
    "            dft_deaths.loc[i,df1_deaths.iloc[j,1]] = df1_deaths.iloc[j,2]\n",
    "dft_deaths = dft_deaths.set_index('states')"
   ]
  },
  {
   "cell_type": "code",
   "execution_count": 7,
   "metadata": {
    "execution": {
     "iopub.execute_input": "2020-08-24T12:51:52.271173Z",
     "iopub.status.busy": "2020-08-24T12:51:52.270495Z",
     "iopub.status.idle": "2020-08-24T12:51:53.266123Z",
     "shell.execute_reply": "2020-08-24T12:51:53.266781Z"
    },
    "papermill": {
     "duration": 1.479544,
     "end_time": "2020-08-24T12:51:53.266966",
     "exception": false,
     "start_time": "2020-08-24T12:51:51.787422",
     "status": "completed"
    },
    "tags": []
   },
   "outputs": [],
   "source": [
    "#hide\n",
    "for i in range(len(dates)):\n",
    "    df1_cases = df_cases1.get_group(dates[i])\n",
    "    for j in range(len(df1_cases.index)):\n",
    "        if df1_cases.iloc[j,1] in arr_states:\n",
    "            dft_cases.loc[i,df1_cases.iloc[j,1]] = df1_cases.iloc[j,2]\n",
    "dft_cases = dft_cases.set_index('states')"
   ]
  },
  {
   "cell_type": "code",
   "execution_count": 8,
   "metadata": {
    "execution": {
     "iopub.execute_input": "2020-08-24T12:51:53.309506Z",
     "iopub.status.busy": "2020-08-24T12:51:53.308875Z",
     "iopub.status.idle": "2020-08-24T12:51:53.313139Z",
     "shell.execute_reply": "2020-08-24T12:51:53.312593Z"
    },
    "papermill": {
     "duration": 0.028167,
     "end_time": "2020-08-24T12:51:53.313281",
     "exception": false,
     "start_time": "2020-08-24T12:51:53.285114",
     "status": "completed"
    },
    "tags": []
   },
   "outputs": [],
   "source": [
    "#hide\n",
    "dft_cases = dft_cases.T\n",
    "dft_deaths = dft_deaths.T\n",
    "dt_today = dates[-1]\n",
    "dt_yday = dates[-2]"
   ]
  },
  {
   "cell_type": "code",
   "execution_count": 9,
   "metadata": {
    "execution": {
     "iopub.execute_input": "2020-08-24T12:51:53.357573Z",
     "iopub.status.busy": "2020-08-24T12:51:53.356914Z",
     "iopub.status.idle": "2020-08-24T12:51:53.359832Z",
     "shell.execute_reply": "2020-08-24T12:51:53.359112Z"
    },
    "papermill": {
     "duration": 0.029149,
     "end_time": "2020-08-24T12:51:53.359976",
     "exception": false,
     "start_time": "2020-08-24T12:51:53.330827",
     "status": "completed"
    },
    "tags": []
   },
   "outputs": [],
   "source": [
    "#hide\n",
    "dft_cases = dft_cases.reset_index()\n",
    "dft_deaths = dft_deaths.reset_index()\n",
    "dft_cases = dft_cases.rename(columns = {'index':'state'})\n",
    "dft_deaths = dft_deaths.rename(columns = {'index':'state'})"
   ]
  },
  {
   "cell_type": "code",
   "execution_count": 10,
   "metadata": {
    "execution": {
     "iopub.execute_input": "2020-08-24T12:51:53.408825Z",
     "iopub.status.busy": "2020-08-24T12:51:53.408103Z",
     "iopub.status.idle": "2020-08-24T12:51:53.411782Z",
     "shell.execute_reply": "2020-08-24T12:51:53.411184Z"
    },
    "papermill": {
     "duration": 0.034852,
     "end_time": "2020-08-24T12:51:53.412081",
     "exception": false,
     "start_time": "2020-08-24T12:51:53.377229",
     "status": "completed"
    },
    "tags": []
   },
   "outputs": [],
   "source": [
    "#hide\n",
    "dfc_cases = dft_cases.groupby('state')[dt_today].sum()\n",
    "dfc_deaths = dft_deaths.groupby('state')[dt_today].sum()\n",
    "dfp_cases = dft_cases.groupby('state')[dt_yday].sum()\n",
    "dfp_deaths = dft_deaths.groupby('state')[dt_yday].sum()"
   ]
  },
  {
   "cell_type": "code",
   "execution_count": 11,
   "metadata": {
    "execution": {
     "iopub.execute_input": "2020-08-24T12:51:53.467866Z",
     "iopub.status.busy": "2020-08-24T12:51:53.459909Z",
     "iopub.status.idle": "2020-08-24T12:51:53.476180Z",
     "shell.execute_reply": "2020-08-24T12:51:53.475389Z"
    },
    "papermill": {
     "duration": 0.044891,
     "end_time": "2020-08-24T12:51:53.476391",
     "exception": false,
     "start_time": "2020-08-24T12:51:53.431500",
     "status": "completed"
    },
    "tags": []
   },
   "outputs": [
    {
     "data": {
      "text/html": [
       "<div>\n",
       "<style scoped>\n",
       "    .dataframe tbody tr th:only-of-type {\n",
       "        vertical-align: middle;\n",
       "    }\n",
       "\n",
       "    .dataframe tbody tr th {\n",
       "        vertical-align: top;\n",
       "    }\n",
       "\n",
       "    .dataframe thead th {\n",
       "        text-align: right;\n",
       "    }\n",
       "</style>\n",
       "<table border=\"1\" class=\"dataframe\">\n",
       "  <thead>\n",
       "    <tr style=\"text-align: right;\">\n",
       "      <th></th>\n",
       "      <th>states</th>\n",
       "      <th>Cases</th>\n",
       "      <th>Deaths</th>\n",
       "      <th>PCases</th>\n",
       "      <th>PDeaths</th>\n",
       "    </tr>\n",
       "  </thead>\n",
       "  <tbody>\n",
       "    <tr>\n",
       "      <th>0</th>\n",
       "      <td>Maharashtra</td>\n",
       "      <td>682383</td>\n",
       "      <td>22253</td>\n",
       "      <td>682383</td>\n",
       "      <td>22253</td>\n",
       "    </tr>\n",
       "    <tr>\n",
       "      <th>1</th>\n",
       "      <td>Tamil Nadu</td>\n",
       "      <td>379385</td>\n",
       "      <td>6517</td>\n",
       "      <td>379385</td>\n",
       "      <td>6517</td>\n",
       "    </tr>\n",
       "    <tr>\n",
       "      <th>2</th>\n",
       "      <td>Andhra Pradesh</td>\n",
       "      <td>361712</td>\n",
       "      <td>3368</td>\n",
       "      <td>353111</td>\n",
       "      <td>3282</td>\n",
       "    </tr>\n",
       "    <tr>\n",
       "      <th>3</th>\n",
       "      <td>Karnataka</td>\n",
       "      <td>277814</td>\n",
       "      <td>4683</td>\n",
       "      <td>277814</td>\n",
       "      <td>4683</td>\n",
       "    </tr>\n",
       "    <tr>\n",
       "      <th>4</th>\n",
       "      <td>Uttar Pradesh</td>\n",
       "      <td>192382</td>\n",
       "      <td>2987</td>\n",
       "      <td>187781</td>\n",
       "      <td>2926</td>\n",
       "    </tr>\n",
       "  </tbody>\n",
       "</table>\n",
       "</div>"
      ],
      "text/plain": [
       "           states   Cases  Deaths  PCases  PDeaths\n",
       "0     Maharashtra  682383   22253  682383    22253\n",
       "1      Tamil Nadu  379385    6517  379385     6517\n",
       "2  Andhra Pradesh  361712    3368  353111     3282\n",
       "3       Karnataka  277814    4683  277814     4683\n",
       "4   Uttar Pradesh  192382    2987  187781     2926"
      ]
     },
     "execution_count": 11,
     "metadata": {},
     "output_type": "execute_result"
    }
   ],
   "source": [
    "#hide\n",
    "df_table = pd.DataFrame({'states': dfc_cases.index, 'Cases': dfc_cases.values, 'Deaths': dfc_deaths.values, 'PCases': dfp_cases.values, 'PDeaths': dfp_deaths.values}).set_index('states')\n",
    "df_table = df_table.sort_values(by = ['Cases','Deaths'], ascending = [False, False])\n",
    "df_table = df_table.reset_index()\n",
    "df_table.head()"
   ]
  },
  {
   "cell_type": "code",
   "execution_count": 12,
   "metadata": {
    "execution": {
     "iopub.execute_input": "2020-08-24T12:51:53.521120Z",
     "iopub.status.busy": "2020-08-24T12:51:53.520465Z",
     "iopub.status.idle": "2020-08-24T12:51:53.530701Z",
     "shell.execute_reply": "2020-08-24T12:51:53.529892Z"
    },
    "papermill": {
     "duration": 0.035961,
     "end_time": "2020-08-24T12:51:53.531042",
     "exception": false,
     "start_time": "2020-08-24T12:51:53.495081",
     "status": "completed"
    },
    "tags": []
   },
   "outputs": [],
   "source": [
    "#hide\n",
    "for c in 'Cases, Deaths'.split(', '):\n",
    "    df_table[f'{c} (+)'] = (df_table[c] - df_table[f'P{c}']).clip(0)\n",
    "df_table['Fatality Rate'] = (100* df_table['Deaths']/ df_table['Cases']).round(2)"
   ]
  },
  {
   "cell_type": "code",
   "execution_count": 13,
   "metadata": {
    "execution": {
     "iopub.execute_input": "2020-08-24T12:51:53.585776Z",
     "iopub.status.busy": "2020-08-24T12:51:53.584566Z",
     "iopub.status.idle": "2020-08-24T12:51:53.588533Z",
     "shell.execute_reply": "2020-08-24T12:51:53.587939Z"
    },
    "papermill": {
     "duration": 0.036136,
     "end_time": "2020-08-24T12:51:53.588673",
     "exception": false,
     "start_time": "2020-08-24T12:51:53.552537",
     "status": "completed"
    },
    "tags": []
   },
   "outputs": [
    {
     "data": {
      "text/html": [
       "<div>\n",
       "<style scoped>\n",
       "    .dataframe tbody tr th:only-of-type {\n",
       "        vertical-align: middle;\n",
       "    }\n",
       "\n",
       "    .dataframe tbody tr th {\n",
       "        vertical-align: top;\n",
       "    }\n",
       "\n",
       "    .dataframe thead th {\n",
       "        text-align: right;\n",
       "    }\n",
       "</style>\n",
       "<table border=\"1\" class=\"dataframe\">\n",
       "  <thead>\n",
       "    <tr style=\"text-align: right;\">\n",
       "      <th></th>\n",
       "      <th>states</th>\n",
       "      <th>Cases</th>\n",
       "      <th>Deaths</th>\n",
       "      <th>PCases</th>\n",
       "      <th>PDeaths</th>\n",
       "      <th>Cases (+)</th>\n",
       "      <th>Deaths (+)</th>\n",
       "      <th>Fatality Rate</th>\n",
       "    </tr>\n",
       "  </thead>\n",
       "  <tbody>\n",
       "    <tr>\n",
       "      <th>0</th>\n",
       "      <td>Maharashtra</td>\n",
       "      <td>682383</td>\n",
       "      <td>22253</td>\n",
       "      <td>682383</td>\n",
       "      <td>22253</td>\n",
       "      <td>0</td>\n",
       "      <td>0</td>\n",
       "      <td>3.26</td>\n",
       "    </tr>\n",
       "    <tr>\n",
       "      <th>1</th>\n",
       "      <td>Tamil Nadu</td>\n",
       "      <td>379385</td>\n",
       "      <td>6517</td>\n",
       "      <td>379385</td>\n",
       "      <td>6517</td>\n",
       "      <td>0</td>\n",
       "      <td>0</td>\n",
       "      <td>1.72</td>\n",
       "    </tr>\n",
       "    <tr>\n",
       "      <th>2</th>\n",
       "      <td>Andhra Pradesh</td>\n",
       "      <td>361712</td>\n",
       "      <td>3368</td>\n",
       "      <td>353111</td>\n",
       "      <td>3282</td>\n",
       "      <td>8601</td>\n",
       "      <td>86</td>\n",
       "      <td>0.93</td>\n",
       "    </tr>\n",
       "    <tr>\n",
       "      <th>3</th>\n",
       "      <td>Karnataka</td>\n",
       "      <td>277814</td>\n",
       "      <td>4683</td>\n",
       "      <td>277814</td>\n",
       "      <td>4683</td>\n",
       "      <td>0</td>\n",
       "      <td>0</td>\n",
       "      <td>1.69</td>\n",
       "    </tr>\n",
       "    <tr>\n",
       "      <th>4</th>\n",
       "      <td>Uttar Pradesh</td>\n",
       "      <td>192382</td>\n",
       "      <td>2987</td>\n",
       "      <td>187781</td>\n",
       "      <td>2926</td>\n",
       "      <td>4601</td>\n",
       "      <td>61</td>\n",
       "      <td>1.55</td>\n",
       "    </tr>\n",
       "  </tbody>\n",
       "</table>\n",
       "</div>"
      ],
      "text/plain": [
       "           states   Cases  Deaths  PCases  PDeaths  Cases (+)  Deaths (+)  \\\n",
       "0     Maharashtra  682383   22253  682383    22253          0           0   \n",
       "1      Tamil Nadu  379385    6517  379385     6517          0           0   \n",
       "2  Andhra Pradesh  361712    3368  353111     3282       8601          86   \n",
       "3       Karnataka  277814    4683  277814     4683          0           0   \n",
       "4   Uttar Pradesh  192382    2987  187781     2926       4601          61   \n",
       "\n",
       "   Fatality Rate  \n",
       "0           3.26  \n",
       "1           1.72  \n",
       "2           0.93  \n",
       "3           1.69  \n",
       "4           1.55  "
      ]
     },
     "execution_count": 13,
     "metadata": {},
     "output_type": "execute_result"
    }
   ],
   "source": [
    "#hide\n",
    "df_table.head()"
   ]
  },
  {
   "cell_type": "code",
   "execution_count": 14,
   "metadata": {
    "execution": {
     "iopub.execute_input": "2020-08-24T12:51:53.631480Z",
     "iopub.status.busy": "2020-08-24T12:51:53.630880Z",
     "iopub.status.idle": "2020-08-24T12:51:53.652125Z",
     "shell.execute_reply": "2020-08-24T12:51:53.651581Z"
    },
    "papermill": {
     "duration": 0.045857,
     "end_time": "2020-08-24T12:51:53.652296",
     "exception": false,
     "start_time": "2020-08-24T12:51:53.606439",
     "status": "completed"
    },
    "tags": []
   },
   "outputs": [
    {
     "data": {
      "text/plain": [
       "{'updated': '2020-08-24',\n",
       " 'since': '2020-08-23',\n",
       " 'Cases': 3124846,\n",
       " 'PCases': 3105185,\n",
       " 'Deaths': 57874,\n",
       " 'PDeaths': 57692,\n",
       " 'Cases (+)': 19661,\n",
       " 'Deaths (+)': 182}"
      ]
     },
     "execution_count": 14,
     "metadata": {},
     "output_type": "execute_result"
    }
   ],
   "source": [
    "#hide\n",
    "summary = {'updated':dates[-1], 'since':dates[-2]}\n",
    "list_names = ['Cases', 'PCases', 'Deaths', 'PDeaths', 'Cases (+)', 'Deaths (+)']\n",
    "for name in list_names:\n",
    "    summary[name] = df_table.sum()[name]\n",
    "summary"
   ]
  },
  {
   "cell_type": "code",
   "execution_count": 15,
   "metadata": {
    "execution": {
     "iopub.execute_input": "2020-08-24T12:51:53.692644Z",
     "iopub.status.busy": "2020-08-24T12:51:53.691805Z",
     "iopub.status.idle": "2020-08-24T12:51:53.695267Z",
     "shell.execute_reply": "2020-08-24T12:51:53.694759Z"
    },
    "papermill": {
     "duration": 0.025874,
     "end_time": "2020-08-24T12:51:53.695386",
     "exception": false,
     "start_time": "2020-08-24T12:51:53.669512",
     "status": "completed"
    },
    "tags": []
   },
   "outputs": [],
   "source": [
    "#hide\n",
    "overview = '''\n",
    "<!-- #######  HTML!! #########-->\n",
    "<h1 style=\"color: #5e9ca0; text-align: center;\">India</h1>\n",
    "<p style=\"text-align: center;\">Last update: <strong>{update}</strong></p>\n",
    "<p style=\"text-align: center;\">Confirmed cases:</p>\n",
    "<p style=\"text-align: center;font-size:24px;\">{cases} (<span style=\"color: #ff0000;\">+{new}</span>)</p>\n",
    "<p style=\"text-align: center;\">Confirmed deaths:</p>\n",
    "<p style=\"text-align: center;font-size:24px;\">{deaths} (<span style=\"color: #ff0000;\">+{dnew}</span>)</p>\n",
    "'''"
   ]
  },
  {
   "cell_type": "code",
   "execution_count": 16,
   "metadata": {
    "execution": {
     "iopub.execute_input": "2020-08-24T12:51:53.738678Z",
     "iopub.status.busy": "2020-08-24T12:51:53.737329Z",
     "iopub.status.idle": "2020-08-24T12:51:53.741092Z",
     "shell.execute_reply": "2020-08-24T12:51:53.741567Z"
    },
    "papermill": {
     "duration": 0.029385,
     "end_time": "2020-08-24T12:51:53.741823",
     "exception": false,
     "start_time": "2020-08-24T12:51:53.712438",
     "status": "completed"
    },
    "tags": []
   },
   "outputs": [
    {
     "data": {
      "text/html": [
       "\n",
       "<!-- #######  HTML!! #########-->\n",
       "<h1 style=\"color: #5e9ca0; text-align: center;\">India</h1>\n",
       "<p style=\"text-align: center;\">Last update: <strong>2020-08-24</strong></p>\n",
       "<p style=\"text-align: center;\">Confirmed cases:</p>\n",
       "<p style=\"text-align: center;font-size:24px;\">3124846 (<span style=\"color: #ff0000;\">+19661</span>)</p>\n",
       "<p style=\"text-align: center;\">Confirmed deaths:</p>\n",
       "<p style=\"text-align: center;font-size:24px;\">57874 (<span style=\"color: #ff0000;\">+182</span>)</p>\n"
      ],
      "text/plain": [
       "<IPython.core.display.HTML object>"
      ]
     },
     "metadata": {},
     "output_type": "display_data"
    }
   ],
   "source": [
    "#hide_input\n",
    "update = summary['updated']\n",
    "cases = summary['Cases']\n",
    "new = summary['Cases (+)']\n",
    "deaths = summary['Deaths']\n",
    "dnew = summary['Deaths (+)']\n",
    "\n",
    "html = HTML(overview.format(update=update, cases=cases,new=new,deaths=deaths,dnew=dnew))\n",
    "\n",
    "display(html)"
   ]
  },
  {
   "cell_type": "code",
   "execution_count": 17,
   "metadata": {
    "execution": {
     "iopub.execute_input": "2020-08-24T12:51:53.786969Z",
     "iopub.status.busy": "2020-08-24T12:51:53.786411Z",
     "iopub.status.idle": "2020-08-24T12:51:53.792287Z",
     "shell.execute_reply": "2020-08-24T12:51:53.791549Z"
    },
    "papermill": {
     "duration": 0.031432,
     "end_time": "2020-08-24T12:51:53.792409",
     "exception": false,
     "start_time": "2020-08-24T12:51:53.760977",
     "status": "completed"
    },
    "tags": []
   },
   "outputs": [],
   "source": [
    "#hide\n",
    "dt_cols = list(dft_cases.columns[1:])\n",
    "dft_ct_new_cases = dft_cases.groupby('state')[dt_cols].sum().diff(axis=1).fillna(0).astype(int)\n",
    "dft_ct_new_cases.sort_values(by = dates[-1], ascending = False,inplace = True)"
   ]
  },
  {
   "cell_type": "code",
   "execution_count": 18,
   "metadata": {
    "execution": {
     "iopub.execute_input": "2020-08-24T12:51:53.840848Z",
     "iopub.status.busy": "2020-08-24T12:51:53.840281Z",
     "iopub.status.idle": "2020-08-24T12:51:53.843450Z",
     "shell.execute_reply": "2020-08-24T12:51:53.842723Z"
    },
    "papermill": {
     "duration": 0.03465,
     "end_time": "2020-08-24T12:51:53.843582",
     "exception": false,
     "start_time": "2020-08-24T12:51:53.808932",
     "status": "completed"
    },
    "tags": []
   },
   "outputs": [
    {
     "data": {
      "text/html": [
       "<div>\n",
       "<style scoped>\n",
       "    .dataframe tbody tr th:only-of-type {\n",
       "        vertical-align: middle;\n",
       "    }\n",
       "\n",
       "    .dataframe tbody tr th {\n",
       "        vertical-align: top;\n",
       "    }\n",
       "\n",
       "    .dataframe thead th {\n",
       "        text-align: right;\n",
       "    }\n",
       "</style>\n",
       "<table border=\"1\" class=\"dataframe\">\n",
       "  <thead>\n",
       "    <tr style=\"text-align: right;\">\n",
       "      <th>states</th>\n",
       "      <th>2020-07-01</th>\n",
       "      <th>2020-07-02</th>\n",
       "      <th>2020-07-03</th>\n",
       "      <th>2020-07-04</th>\n",
       "      <th>2020-07-05</th>\n",
       "      <th>2020-07-06</th>\n",
       "      <th>2020-07-07</th>\n",
       "      <th>2020-07-08</th>\n",
       "      <th>2020-07-09</th>\n",
       "      <th>2020-07-10</th>\n",
       "      <th>...</th>\n",
       "      <th>2020-08-15</th>\n",
       "      <th>2020-08-16</th>\n",
       "      <th>2020-08-17</th>\n",
       "      <th>2020-08-18</th>\n",
       "      <th>2020-08-19</th>\n",
       "      <th>2020-08-20</th>\n",
       "      <th>2020-08-21</th>\n",
       "      <th>2020-08-22</th>\n",
       "      <th>2020-08-23</th>\n",
       "      <th>2020-08-24</th>\n",
       "    </tr>\n",
       "    <tr>\n",
       "      <th>state</th>\n",
       "      <th></th>\n",
       "      <th></th>\n",
       "      <th></th>\n",
       "      <th></th>\n",
       "      <th></th>\n",
       "      <th></th>\n",
       "      <th></th>\n",
       "      <th></th>\n",
       "      <th></th>\n",
       "      <th></th>\n",
       "      <th></th>\n",
       "      <th></th>\n",
       "      <th></th>\n",
       "      <th></th>\n",
       "      <th></th>\n",
       "      <th></th>\n",
       "      <th></th>\n",
       "      <th></th>\n",
       "      <th></th>\n",
       "      <th></th>\n",
       "      <th></th>\n",
       "    </tr>\n",
       "  </thead>\n",
       "  <tbody>\n",
       "    <tr>\n",
       "      <th>Andhra Pradesh</th>\n",
       "      <td>0</td>\n",
       "      <td>845</td>\n",
       "      <td>837</td>\n",
       "      <td>765</td>\n",
       "      <td>998</td>\n",
       "      <td>1322</td>\n",
       "      <td>1178</td>\n",
       "      <td>1062</td>\n",
       "      <td>1555</td>\n",
       "      <td>1608</td>\n",
       "      <td>...</td>\n",
       "      <td>8732</td>\n",
       "      <td>8012</td>\n",
       "      <td>6780</td>\n",
       "      <td>9652</td>\n",
       "      <td>9742</td>\n",
       "      <td>9393</td>\n",
       "      <td>9544</td>\n",
       "      <td>10276</td>\n",
       "      <td>7895</td>\n",
       "      <td>8601</td>\n",
       "    </tr>\n",
       "    <tr>\n",
       "      <th>Uttar Pradesh</th>\n",
       "      <td>0</td>\n",
       "      <td>769</td>\n",
       "      <td>972</td>\n",
       "      <td>757</td>\n",
       "      <td>1153</td>\n",
       "      <td>929</td>\n",
       "      <td>1332</td>\n",
       "      <td>1188</td>\n",
       "      <td>1206</td>\n",
       "      <td>1338</td>\n",
       "      <td>...</td>\n",
       "      <td>4774</td>\n",
       "      <td>4357</td>\n",
       "      <td>3798</td>\n",
       "      <td>4218</td>\n",
       "      <td>5076</td>\n",
       "      <td>4824</td>\n",
       "      <td>4905</td>\n",
       "      <td>5217</td>\n",
       "      <td>5325</td>\n",
       "      <td>4601</td>\n",
       "    </tr>\n",
       "    <tr>\n",
       "      <th>Odisha</th>\n",
       "      <td>0</td>\n",
       "      <td>229</td>\n",
       "      <td>561</td>\n",
       "      <td>495</td>\n",
       "      <td>469</td>\n",
       "      <td>456</td>\n",
       "      <td>571</td>\n",
       "      <td>527</td>\n",
       "      <td>577</td>\n",
       "      <td>755</td>\n",
       "      <td>...</td>\n",
       "      <td>2496</td>\n",
       "      <td>2924</td>\n",
       "      <td>2244</td>\n",
       "      <td>2239</td>\n",
       "      <td>2589</td>\n",
       "      <td>2898</td>\n",
       "      <td>2698</td>\n",
       "      <td>2819</td>\n",
       "      <td>2993</td>\n",
       "      <td>2949</td>\n",
       "    </tr>\n",
       "    <tr>\n",
       "      <th>Telangana</th>\n",
       "      <td>0</td>\n",
       "      <td>1213</td>\n",
       "      <td>1892</td>\n",
       "      <td>1850</td>\n",
       "      <td>1590</td>\n",
       "      <td>1831</td>\n",
       "      <td>1879</td>\n",
       "      <td>1924</td>\n",
       "      <td>1410</td>\n",
       "      <td>1278</td>\n",
       "      <td>...</td>\n",
       "      <td>1863</td>\n",
       "      <td>1102</td>\n",
       "      <td>894</td>\n",
       "      <td>1682</td>\n",
       "      <td>1763</td>\n",
       "      <td>1724</td>\n",
       "      <td>1967</td>\n",
       "      <td>2474</td>\n",
       "      <td>2384</td>\n",
       "      <td>1842</td>\n",
       "    </tr>\n",
       "    <tr>\n",
       "      <th>Rajasthan</th>\n",
       "      <td>0</td>\n",
       "      <td>350</td>\n",
       "      <td>390</td>\n",
       "      <td>480</td>\n",
       "      <td>632</td>\n",
       "      <td>524</td>\n",
       "      <td>716</td>\n",
       "      <td>659</td>\n",
       "      <td>500</td>\n",
       "      <td>611</td>\n",
       "      <td>...</td>\n",
       "      <td>1287</td>\n",
       "      <td>1317</td>\n",
       "      <td>1334</td>\n",
       "      <td>1347</td>\n",
       "      <td>1312</td>\n",
       "      <td>1330</td>\n",
       "      <td>1335</td>\n",
       "      <td>1310</td>\n",
       "      <td>1345</td>\n",
       "      <td>585</td>\n",
       "    </tr>\n",
       "  </tbody>\n",
       "</table>\n",
       "<p>5 rows × 55 columns</p>\n",
       "</div>"
      ],
      "text/plain": [
       "states          2020-07-01  2020-07-02  2020-07-03  2020-07-04  2020-07-05  \\\n",
       "state                                                                        \n",
       "Andhra Pradesh           0         845         837         765         998   \n",
       "Uttar Pradesh            0         769         972         757        1153   \n",
       "Odisha                   0         229         561         495         469   \n",
       "Telangana                0        1213        1892        1850        1590   \n",
       "Rajasthan                0         350         390         480         632   \n",
       "\n",
       "states          2020-07-06  2020-07-07  2020-07-08  2020-07-09  2020-07-10  \\\n",
       "state                                                                        \n",
       "Andhra Pradesh        1322        1178        1062        1555        1608   \n",
       "Uttar Pradesh          929        1332        1188        1206        1338   \n",
       "Odisha                 456         571         527         577         755   \n",
       "Telangana             1831        1879        1924        1410        1278   \n",
       "Rajasthan              524         716         659         500         611   \n",
       "\n",
       "states          ...  2020-08-15  2020-08-16  2020-08-17  2020-08-18  \\\n",
       "state           ...                                                   \n",
       "Andhra Pradesh  ...        8732        8012        6780        9652   \n",
       "Uttar Pradesh   ...        4774        4357        3798        4218   \n",
       "Odisha          ...        2496        2924        2244        2239   \n",
       "Telangana       ...        1863        1102         894        1682   \n",
       "Rajasthan       ...        1287        1317        1334        1347   \n",
       "\n",
       "states          2020-08-19  2020-08-20  2020-08-21  2020-08-22  2020-08-23  \\\n",
       "state                                                                        \n",
       "Andhra Pradesh        9742        9393        9544       10276        7895   \n",
       "Uttar Pradesh         5076        4824        4905        5217        5325   \n",
       "Odisha                2589        2898        2698        2819        2993   \n",
       "Telangana             1763        1724        1967        2474        2384   \n",
       "Rajasthan             1312        1330        1335        1310        1345   \n",
       "\n",
       "states          2020-08-24  \n",
       "state                       \n",
       "Andhra Pradesh        8601  \n",
       "Uttar Pradesh         4601  \n",
       "Odisha                2949  \n",
       "Telangana             1842  \n",
       "Rajasthan              585  \n",
       "\n",
       "[5 rows x 55 columns]"
      ]
     },
     "execution_count": 18,
     "metadata": {},
     "output_type": "execute_result"
    }
   ],
   "source": [
    "#hide\n",
    "dft_ct_new_cases.head()"
   ]
  },
  {
   "cell_type": "code",
   "execution_count": 19,
   "metadata": {
    "execution": {
     "iopub.execute_input": "2020-08-24T12:51:53.888879Z",
     "iopub.status.busy": "2020-08-24T12:51:53.887975Z",
     "iopub.status.idle": "2020-08-24T12:51:57.246477Z",
     "shell.execute_reply": "2020-08-24T12:51:57.247012Z"
    },
    "papermill": {
     "duration": 3.388489,
     "end_time": "2020-08-24T12:51:57.247185",
     "exception": false,
     "start_time": "2020-08-24T12:51:53.858696",
     "status": "completed"
    },
    "tags": []
   },
   "outputs": [
    {
     "data": {
      "image/png": "[encoded data removed]",
      "text/plain": [
       "<Figure size 1296x2016 with 11 Axes>"
      ]
     },
     "metadata": {
      "needs_background": "light"
     },
     "output_type": "display_data"
    }
   ],
   "source": [
    "#hide_input\n",
    "df = dft_ct_new_cases.copy()\n",
    "df.loc['Total'] = df.sum()\n",
    "n = 5\n",
    "ax = []\n",
    "fig = plt.figure(figsize = (18,28))\n",
    "gs = fig.add_gridspec(n+2, 5)\n",
    "# gs = fig.add_gridspec(2, 3)\n",
    "ax1 = fig.add_subplot(gs[0, :])\n",
    "ef = df.loc['Total'].rename_axis('date').reset_index()\n",
    "ef['date'] = ef['date'].astype('datetime64[ns]')\n",
    "ax1.bar(ef.date,ef.Total,alpha=0.3,color='#007acc')\n",
    "ax1.plot(ef.date,ef.Total , marker=\"o\", color='#007acc')\n",
    "ax1.xaxis.set_major_locator(mdates.WeekdayLocator())\n",
    "ax1.xaxis.set_major_formatter(mdates.DateFormatter('%b %d'))\n",
    "ax1.text(0.02, 0.5,'India daily case count', transform = ax1.transAxes, fontsize=25);\n",
    "ax1.spines['right'].set_visible(False)\n",
    "ax1.spines['top'].set_visible(False)\n",
    "\n",
    "ax2 = fig.add_subplot(gs[1,0])\n",
    "ef = df.loc['Maharashtra'].rename_axis('date').reset_index()\n",
    "ef['date'] = ef['date'].astype('datetime64[ns]')\n",
    "\n",
    "ax2.bar(ef.date, ef.Maharashtra,color = '#007acc',alpha=0.5)\n",
    "ax2.xaxis.set_major_locator(mdates.WeekdayLocator())\n",
    "ax2.xaxis.set_major_formatter(mdates.DateFormatter('%b %d'))\n",
    "ax2.set_xticks(ax2.get_xticks()[::3])\n",
    "maxyval = ef.Maharashtra.max()\n",
    "ax2.set_ylim([0,maxyval])\n",
    "ax2.text(0.05, 0.9,'Maharashtra', transform = ax2.transAxes, fontsize=20);\n",
    "ax2.spines['right'].set_visible(False)\n",
    "ax2.spines['top'].set_visible(False)\n",
    "\n",
    "\n",
    "ax3 = fig.add_subplot(gs[1,1])\n",
    "ef = df.loc['Tamil Nadu'].rename_axis('date').reset_index()\n",
    "ef['date'] = ef['date'].astype('datetime64[ns]')\n",
    "ax3.bar(ef.date, ef['Tamil Nadu'],color = '#007acc',alpha=0.5,)\n",
    "ax3.xaxis.set_major_locator(mdates.WeekdayLocator())\n",
    "ax3.xaxis.set_major_formatter(mdates.DateFormatter('%b %d'))\n",
    "ax3.set_xticks(ax3.get_xticks()[::3])\n",
    "ax3.text(0.05, 0.9,'Tamil Nadu', transform = ax3.transAxes, fontsize=20);\n",
    "ax3.spines['right'].set_visible(False)\n",
    "ax3.spines['top'].set_visible(False)\n",
    "\n",
    "ax5 = fig.add_subplot(gs[1,3])\n",
    "ef = df.loc['Telangana'].rename_axis('date').reset_index()\n",
    "ef['date'] = ef['date'].astype('datetime64[ns]')\n",
    "ax5.bar(ef.date, ef['Telangana'],color = '#007acc',alpha=0.5,)\n",
    "ax5.xaxis.set_major_locator(mdates.WeekdayLocator())\n",
    "ax5.xaxis.set_major_formatter(mdates.DateFormatter('%b %d'))\n",
    "ax5.set_xticks(ax5.get_xticks()[::3])\n",
    "ax5.text(0.05, 0.9,'Telangana', transform = ax5.transAxes, fontsize=20);\n",
    "ax5.spines['right'].set_visible(False)\n",
    "ax5.spines['top'].set_visible(False)\n",
    "\n",
    "ax6 = fig.add_subplot(gs[1,4])\n",
    "ef = df.loc['Andhra Pradesh'].rename_axis('date').reset_index()\n",
    "ef['date'] = ef['date'].astype('datetime64[ns]')\n",
    "ax6.bar(ef.date, ef['Andhra Pradesh'],color = '#007acc',alpha=0.5,)\n",
    "ax6.xaxis.set_major_locator(mdates.WeekdayLocator())\n",
    "ax6.xaxis.set_major_formatter(mdates.DateFormatter('%b %d'))\n",
    "ax6.set_xticks(ax6.get_xticks()[::3])\n",
    "ax6.text(0.05, 1,'Andhra Pradesh', transform = ax6.transAxes, fontsize=20);\n",
    "ax6.spines['right'].set_visible(False)\n",
    "ax6.spines['top'].set_visible(False)\n",
    "\n",
    "ax4 = fig.add_subplot(gs[1,2])\n",
    "ef = df.loc['Delhi'].rename_axis('date').reset_index()\n",
    "ef['date'] = ef['date'].astype('datetime64[ns]')\n",
    "ax4.bar(ef.date, ef.Delhi,color = '#007acc',alpha=0.5)\n",
    "ax4.set_xticks([])\n",
    "ax4.xaxis.set_major_locator(mdates.WeekdayLocator())\n",
    "ax4.xaxis.set_major_formatter(mdates.DateFormatter('%b %d'))\n",
    "ax4.set_xticks(ax4.get_xticks()[::3])\n",
    "ax4.spines['right'].set_visible(False)\n",
    "ax4.spines['top'].set_visible(False)\n",
    "\n",
    "ax4.text(0.05, 1,'Delhi', transform = ax4.transAxes, fontsize=20)\n",
    "\n",
    "for i in range(n):\n",
    "    \n",
    "    ax.append(fig.add_subplot(gs[i+2,:]))\n",
    "    ef = df.iloc[i+3].rename_axis('date').reset_index()\n",
    "    ef['date'] = ef['date'].astype('datetime64[ns]')\n",
    "    ax[i].bar(ef.date,ef.iloc[:,-1],color = '#007acc',alpha=0.3)\n",
    "    ax[i].plot(ef.date,ef.iloc[:,-1],marker='o',color='#007acc')\n",
    "    ax[i].text(0.02,0.5,f'{ef.columns.values[-1]}',transform = ax[i].transAxes, fontsize = 20);\n",
    "    ax[i].xaxis.set_major_locator(mdates.WeekdayLocator())\n",
    "    ax[i].xaxis.set_major_formatter(mdates.DateFormatter('%b %d'))\n",
    "    ax[i].set_ylim([0,7000])\n",
    "    ax[i].spines['right'].set_visible(False)\n",
    "    ax[i].spines['top'].set_visible(False)\n",
    "plt.tight_layout()\n"
   ]
  },
  {
   "cell_type": "code",
   "execution_count": 20,
   "metadata": {
    "execution": {
     "iopub.execute_input": "2020-08-24T12:51:57.304771Z",
     "iopub.status.busy": "2020-08-24T12:51:57.304008Z",
     "iopub.status.idle": "2020-08-24T12:51:57.307728Z",
     "shell.execute_reply": "2020-08-24T12:51:57.307045Z"
    },
    "papermill": {
     "duration": 0.036842,
     "end_time": "2020-08-24T12:51:57.307880",
     "exception": false,
     "start_time": "2020-08-24T12:51:57.271038",
     "status": "completed"
    },
    "tags": []
   },
   "outputs": [
    {
     "name": "stdout",
     "output_type": "stream",
     "text": [
      "                                   states   Cases  Deaths  PCases  PDeaths  Cases (+)  Deaths (+)  Fatality Rate\n",
      "                              Maharashtra  682383   22253  682383    22253          0           0           3.26\n",
      "                               Tamil Nadu  379385    6517  379385     6517          0           0           1.72\n",
      "                           Andhra Pradesh  361712    3368  353111     3282       8601          86           0.93\n",
      "                                Karnataka  277814    4683  277814     4683          0           0           1.69\n",
      "                            Uttar Pradesh  192382    2987  187781     2926       4601          61           1.55\n",
      "                                    Delhi  161466    4300  161466     4300          0           0           2.66\n",
      "                              West Bengal  138870    2794  138870     2794          0           0           2.01\n",
      "                                    Bihar  122156     610  122156      610          0           0           0.50\n",
      "                                Telangana  106091     761  104249      755       1842           6           0.72\n",
      "                                    Assam   90741     242   90741      242          0           0           0.27\n",
      "                                  Gujarat   86779    2895   86779     2895          0           0           3.34\n",
      "                                   Odisha   81479     472   78530      462       2949          10           0.58\n",
      "                                Rajasthan   71194     961   70609      955        585           6           1.35\n",
      "                                   Kerala   58262     224   58262      224          0           0           0.38\n",
      "                                  Haryana   54386     603   54386      603          0           0           1.11\n",
      "                           Madhya Pradesh   53129    1229   53129     1229          0           0           2.31\n",
      "                                   Punjab   41779    1086   41779     1086          0           0           2.60\n",
      "                        Jammu and Kashmir   33075     624   32647      617        428           7           1.89\n",
      "                                Jharkhand   30178     318   30178      318          0           0           1.05\n",
      "                             Chhattisgarh   20918     197   20918      197          0           0           0.94\n",
      "                              Uttarakhand   15124     200   15124      200          0           0           1.32\n",
      "                                      Goa   13999     144   13999      144          0           0           1.03\n",
      "                               Puducherry   10859     164   10522      159        337           5           1.51\n",
      "                                  Tripura    8917      73    8717       72        200           1           0.82\n",
      "                                  Manipur    5362      22    5246       22        116           0           0.41\n",
      "                         Himachal Pradesh    5001      28    5001       28          0           0           0.56\n",
      "                                 Nagaland    3686       8    3686        8          0           0           0.22\n",
      "                        Arunachal Pradesh    3263       5    3263        5          0           0           0.15\n",
      "                               Chandigarh    2918      37    2918       37          0           0           1.27\n",
      "              Andaman and Nicobar Islands    2860      33    2860       33          0           0           1.15\n",
      "                                   Ladakh    2279      23    2279       23          0           0           1.01\n",
      " Dadra and Nagar Haveli and Daman and Diu    2161       2    2159        2          2           0           0.09\n",
      "                                Meghalaya    1917       8    1917        8          0           0           0.42\n",
      "                                   Sikkim    1403       3    1403        3          0           0           0.21\n",
      "                                  Mizoram     918       0     918        0          0           0           0.00\n",
      "                              Lakshadweep       0       0       0        0          0           0            NaN\n"
     ]
    }
   ],
   "source": [
    "#hide_input\n",
    "print(df_table.to_string(index=False))"
   ]
  },
  {
   "cell_type": "code",
   "execution_count": null,
   "metadata": {
    "papermill": {
     "duration": 0.041647,
     "end_time": "2020-08-24T12:51:57.376689",
     "exception": false,
     "start_time": "2020-08-24T12:51:57.335042",
     "status": "completed"
    },
    "tags": []
   },
   "outputs": [],
   "source": []
  },
  {
   "cell_type": "code",
   "execution_count": null,
   "metadata": {
    "papermill": {
     "duration": 0.051839,
     "end_time": "2020-08-24T12:51:57.474174",
     "exception": false,
     "start_time": "2020-08-24T12:51:57.422335",
     "status": "completed"
    },
    "tags": []
   },
   "outputs": [],
   "source": []
  }
 ],
 "metadata": {
  "kernelspec": {
   "display_name": "Python 3",
   "language": "python",
   "name": "python3"
  },
  "language_info": {
   "codemirror_mode": {
    "name": "ipython",
    "version": 3
   },
   "file_extension": ".py",
   "mimetype": "text/x-python",
   "name": "python",
   "nbconvert_exporter": "python",
   "pygments_lexer": "ipython3",
   "version": "3.6.11"
  },
  "papermill": {
   "duration": 10.045005,
   "end_time": "2020-08-24T12:51:57.938148",
   "environment_variables": {},
   "exception": null,
   "input_path": "latest.ipynb",
   "output_path": "latest.ipynb",
   "parameters": {},
   "start_time": "2020-08-24T12:51:47.893143",
   "version": "2.1.2"
  }
 },
 "nbformat": 4,
 "nbformat_minor": 4
}