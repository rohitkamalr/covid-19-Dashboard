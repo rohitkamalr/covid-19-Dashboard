{
 "cells": [
  {
   "cell_type": "markdown",
   "metadata": {
    "papermill": {
     "duration": 0.017905,
     "end_time": "2020-08-28T04:37:27.341008",
     "exception": false,
     "start_time": "2020-08-28T04:37:27.323103",
     "status": "completed"
    },
    "tags": []
   },
   "source": [
    "# Latest COVID-19 India Matplotlib Overview"
   ]
  },
  {
   "cell_type": "code",
   "execution_count": 1,
   "metadata": {
    "execution": {
     "iopub.execute_input": "2020-08-28T04:37:27.378227Z",
     "iopub.status.busy": "2020-08-28T04:37:27.377619Z",
     "iopub.status.idle": "2020-08-28T04:37:27.931731Z",
     "shell.execute_reply": "2020-08-28T04:37:27.930790Z"
    },
    "papermill": {
     "duration": 0.576428,
     "end_time": "2020-08-28T04:37:27.931981",
     "exception": false,
     "start_time": "2020-08-28T04:37:27.355553",
     "status": "completed"
    },
    "tags": []
   },
   "outputs": [],
   "source": [
    "#hide\n",
    "import pandas as pd\n",
    "import numpy as np\n",
    "import requests\n",
    "import json\n",
    "import matplotlib.pyplot as plt\n",
    "import matplotlib.dates as mdates\n",
    "import matplotlib as mpl\n",
    "from IPython.core.display import display,HTML\n",
    "%matplotlib inline\n",
    "from datetime import date"
   ]
  },
  {
   "cell_type": "code",
   "execution_count": 2,
   "metadata": {
    "execution": {
     "iopub.execute_input": "2020-08-28T04:37:27.971740Z",
     "iopub.status.busy": "2020-08-28T04:37:27.971122Z",
     "iopub.status.idle": "2020-08-28T04:37:28.287873Z",
     "shell.execute_reply": "2020-08-28T04:37:28.287354Z"
    },
    "papermill": {
     "duration": 0.340067,
     "end_time": "2020-08-28T04:37:28.288001",
     "exception": false,
     "start_time": "2020-08-28T04:37:27.947934",
     "status": "completed"
    },
    "tags": []
   },
   "outputs": [],
   "source": [
    "#hide\n",
    "df  = pd.read_csv('https://api.covid19india.org/csv/latest/states.csv')\n",
    "df = df[['Date','State','Confirmed','Deceased']]\n",
    "df = df.rename(columns={'Confirmed':'Cases', \"Deceased\":'Deaths'})\n",
    "df_cases = df[[\"Date\",'State','Cases']]\n",
    "df_deaths = df[['Date','State','Deaths']]\n",
    "df_cases1 = df_cases.groupby('Date')\n",
    "df_deaths1= df_deaths.groupby('Date')"
   ]
  },
  {
   "cell_type": "code",
   "execution_count": 3,
   "metadata": {
    "execution": {
     "iopub.execute_input": "2020-08-28T04:37:28.637823Z",
     "iopub.status.busy": "2020-08-28T04:37:28.637217Z",
     "iopub.status.idle": "2020-08-28T04:37:28.643438Z",
     "shell.execute_reply": "2020-08-28T04:37:28.642959Z"
    },
    "papermill": {
     "duration": 0.340491,
     "end_time": "2020-08-28T04:37:28.643603",
     "exception": false,
     "start_time": "2020-08-28T04:37:28.303112",
     "status": "completed"
    },
    "tags": []
   },
   "outputs": [],
   "source": [
    "#hide\n",
    "df_snap = pd.read_csv('data/SnapshotCases-28-July.csv')\n",
    "arr_states = df_snap['states'].unique()\n",
    "arr_dates = df['Date'].unique()\n",
    "df_snap = df_snap.set_index('states')"
   ]
  },
  {
   "cell_type": "code",
   "execution_count": 4,
   "metadata": {
    "execution": {
     "iopub.execute_input": "2020-08-28T04:37:29.376625Z",
     "iopub.status.busy": "2020-08-28T04:37:29.376041Z",
     "iopub.status.idle": "2020-08-28T04:37:29.381537Z",
     "shell.execute_reply": "2020-08-28T04:37:29.381067Z"
    },
    "papermill": {
     "duration": 0.414655,
     "end_time": "2020-08-28T04:37:29.381664",
     "exception": false,
     "start_time": "2020-08-28T04:37:28.967009",
     "status": "completed"
    },
    "tags": []
   },
   "outputs": [
    {
     "data": {
      "text/plain": [
       "array(['Andaman and Nicobar Islands', 'Andhra Pradesh',\n",
       "       'Arunachal Pradesh', 'Assam', 'Bihar', 'Chandigarh',\n",
       "       'Dadra and Nagar Haveli and Daman and Diu', 'Delhi', 'Goa',\n",
       "       'Gujarat', 'Haryana', 'Himachal Pradesh', 'Jammu and Kashmir',\n",
       "       'Jharkhand', 'Karnataka', 'Kerala', 'Lakshadweep',\n",
       "       'Madhya Pradesh', 'Maharashtra', 'Manipur', 'Meghalaya', 'Mizoram',\n",
       "       'Nagaland', 'Odisha', 'Puducherry', 'Punjab', 'Rajasthan',\n",
       "       'Sikkim', 'Tamil Nadu', 'Telangana', 'Tripura', 'Uttar Pradesh',\n",
       "       'West Bengal', 'Chhattisgarh', 'Ladakh', 'Uttarakhand'],\n",
       "      dtype=object)"
      ]
     },
     "execution_count": 4,
     "metadata": {},
     "output_type": "execute_result"
    }
   ],
   "source": [
    "#hide\n",
    "arr_states[-9] = 'Puducherry'\n",
    "arr_states[-10] = 'Odisha'\n",
    "arr_states[6] = 'Dadra and Nagar Haveli and Daman and Diu'\n",
    "arr_states = np.append(arr_states,np.array(['Chhattisgarh','Ladakh','Uttarakhand']))\n",
    "arr_states"
   ]
  },
  {
   "cell_type": "code",
   "execution_count": 5,
   "metadata": {
    "execution": {
     "iopub.execute_input": "2020-08-28T04:37:30.020703Z",
     "iopub.status.busy": "2020-08-28T04:37:30.016320Z",
     "iopub.status.idle": "2020-08-28T04:37:30.023570Z",
     "shell.execute_reply": "2020-08-28T04:37:30.022703Z"
    },
    "papermill": {
     "duration": 0.516368,
     "end_time": "2020-08-28T04:37:30.023715",
     "exception": false,
     "start_time": "2020-08-28T04:37:29.507347",
     "status": "completed"
    },
    "tags": []
   },
   "outputs": [],
   "source": [
    "#hide\n",
    "dates = []\n",
    "for i in arr_dates:\n",
    "    if i>='2020-07-01':\n",
    "        dates.append(i)\n",
    "dict = {'states':dates}\n",
    "for i in arr_states:\n",
    "    dict[i] = [0]*len(dates)\n",
    "dft_cases = pd.DataFrame(dict)\n",
    "dft_deaths = pd.DataFrame(dict)\n"
   ]
  },
  {
   "cell_type": "code",
   "execution_count": 6,
   "metadata": {
    "execution": {
     "iopub.execute_input": "2020-08-28T04:37:30.061740Z",
     "iopub.status.busy": "2020-08-28T04:37:30.061157Z",
     "iopub.status.idle": "2020-08-28T04:37:30.839727Z",
     "shell.execute_reply": "2020-08-28T04:37:30.838833Z"
    },
    "papermill": {
     "duration": 0.801138,
     "end_time": "2020-08-28T04:37:30.839958",
     "exception": false,
     "start_time": "2020-08-28T04:37:30.038820",
     "status": "completed"
    },
    "tags": []
   },
   "outputs": [],
   "source": [
    "#hide\n",
    "for i in range(len(dates)):\n",
    "    df1_deaths = df_deaths1.get_group(dates[i])\n",
    "    for j in range(len(df1_deaths.index)):\n",
    "        if df1_deaths.iloc[j,1] in arr_states:\n",
    "            dft_deaths.loc[i,df1_deaths.iloc[j,1]] = df1_deaths.iloc[j,2]\n",
    "dft_deaths = dft_deaths.set_index('states')"
   ]
  },
  {
   "cell_type": "code",
   "execution_count": 7,
   "metadata": {
    "execution": {
     "iopub.execute_input": "2020-08-28T04:37:30.878554Z",
     "iopub.status.busy": "2020-08-28T04:37:30.877933Z",
     "iopub.status.idle": "2020-08-28T04:37:31.685705Z",
     "shell.execute_reply": "2020-08-28T04:37:31.684821Z"
    },
    "papermill": {
     "duration": 0.830451,
     "end_time": "2020-08-28T04:37:31.685935",
     "exception": false,
     "start_time": "2020-08-28T04:37:30.855484",
     "status": "completed"
    },
    "tags": []
   },
   "outputs": [],
   "source": [
    "#hide\n",
    "for i in range(len(dates)):\n",
    "    df1_cases = df_cases1.get_group(dates[i])\n",
    "    for j in range(len(df1_cases.index)):\n",
    "        if df1_cases.iloc[j,1] in arr_states:\n",
    "            dft_cases.loc[i,df1_cases.iloc[j,1]] = df1_cases.iloc[j,2]\n",
    "dft_cases = dft_cases.set_index('states')"
   ]
  },
  {
   "cell_type": "code",
   "execution_count": 8,
   "metadata": {
    "execution": {
     "iopub.execute_input": "2020-08-28T04:37:31.725868Z",
     "iopub.status.busy": "2020-08-28T04:37:31.725261Z",
     "iopub.status.idle": "2020-08-28T04:37:31.727657Z",
     "shell.execute_reply": "2020-08-28T04:37:31.728164Z"
    },
    "papermill": {
     "duration": 0.023946,
     "end_time": "2020-08-28T04:37:31.728310",
     "exception": false,
     "start_time": "2020-08-28T04:37:31.704364",
     "status": "completed"
    },
    "tags": []
   },
   "outputs": [],
   "source": [
    "#hide\n",
    "dft_cases = dft_cases.T\n",
    "dft_deaths = dft_deaths.T\n",
    "dt_today = dates[-1]\n",
    "dt_yday = dates[-2]"
   ]
  },
  {
   "cell_type": "code",
   "execution_count": 9,
   "metadata": {
    "execution": {
     "iopub.execute_input": "2020-08-28T04:37:31.767680Z",
     "iopub.status.busy": "2020-08-28T04:37:31.767085Z",
     "iopub.status.idle": "2020-08-28T04:37:31.769502Z",
     "shell.execute_reply": "2020-08-28T04:37:31.769026Z"
    },
    "papermill": {
     "duration": 0.026278,
     "end_time": "2020-08-28T04:37:31.769627",
     "exception": false,
     "start_time": "2020-08-28T04:37:31.743349",
     "status": "completed"
    },
    "tags": []
   },
   "outputs": [],
   "source": [
    "#hide\n",
    "dft_cases = dft_cases.reset_index()\n",
    "dft_deaths = dft_deaths.reset_index()\n",
    "dft_cases = dft_cases.rename(columns = {'index':'state'})\n",
    "dft_deaths = dft_deaths.rename(columns = {'index':'state'})"
   ]
  },
  {
   "cell_type": "code",
   "execution_count": 10,
   "metadata": {
    "execution": {
     "iopub.execute_input": "2020-08-28T04:37:31.808432Z",
     "iopub.status.busy": "2020-08-28T04:37:31.807858Z",
     "iopub.status.idle": "2020-08-28T04:37:31.813567Z",
     "shell.execute_reply": "2020-08-28T04:37:31.813097Z"
    },
    "papermill": {
     "duration": 0.029106,
     "end_time": "2020-08-28T04:37:31.813686",
     "exception": false,
     "start_time": "2020-08-28T04:37:31.784580",
     "status": "completed"
    },
    "tags": []
   },
   "outputs": [],
   "source": [
    "#hide\n",
    "dfc_cases = dft_cases.groupby('state')[dt_today].sum()\n",
    "dfc_deaths = dft_deaths.groupby('state')[dt_today].sum()\n",
    "dfp_cases = dft_cases.groupby('state')[dt_yday].sum()\n",
    "dfp_deaths = dft_deaths.groupby('state')[dt_yday].sum()"
   ]
  },
  {
   "cell_type": "code",
   "execution_count": 11,
   "metadata": {
    "execution": {
     "iopub.execute_input": "2020-08-28T04:37:31.857844Z",
     "iopub.status.busy": "2020-08-28T04:37:31.853890Z",
     "iopub.status.idle": "2020-08-28T04:37:31.865089Z",
     "shell.execute_reply": "2020-08-28T04:37:31.864583Z"
    },
    "papermill": {
     "duration": 0.036388,
     "end_time": "2020-08-28T04:37:31.865208",
     "exception": false,
     "start_time": "2020-08-28T04:37:31.828820",
     "status": "completed"
    },
    "tags": []
   },
   "outputs": [
    {
     "data": {
      "text/html": [
       "<div>\n",
       "<style scoped>\n",
       "    .dataframe tbody tr th:only-of-type {\n",
       "        vertical-align: middle;\n",
       "    }\n",
       "\n",
       "    .dataframe tbody tr th {\n",
       "        vertical-align: top;\n",
       "    }\n",
       "\n",
       "    .dataframe thead th {\n",
       "        text-align: right;\n",
       "    }\n",
       "</style>\n",
       "<table border=\"1\" class=\"dataframe\">\n",
       "  <thead>\n",
       "    <tr style=\"text-align: right;\">\n",
       "      <th></th>\n",
       "      <th>states</th>\n",
       "      <th>Cases</th>\n",
       "      <th>Deaths</th>\n",
       "      <th>PCases</th>\n",
       "      <th>PDeaths</th>\n",
       "    </tr>\n",
       "  </thead>\n",
       "  <tbody>\n",
       "    <tr>\n",
       "      <th>0</th>\n",
       "      <td>Maharashtra</td>\n",
       "      <td>733568</td>\n",
       "      <td>23444</td>\n",
       "      <td>733568</td>\n",
       "      <td>23444</td>\n",
       "    </tr>\n",
       "    <tr>\n",
       "      <th>1</th>\n",
       "      <td>Tamil Nadu</td>\n",
       "      <td>403242</td>\n",
       "      <td>6948</td>\n",
       "      <td>403242</td>\n",
       "      <td>6948</td>\n",
       "    </tr>\n",
       "    <tr>\n",
       "      <th>2</th>\n",
       "      <td>Andhra Pradesh</td>\n",
       "      <td>393090</td>\n",
       "      <td>3633</td>\n",
       "      <td>393090</td>\n",
       "      <td>3633</td>\n",
       "    </tr>\n",
       "    <tr>\n",
       "      <th>3</th>\n",
       "      <td>Karnataka</td>\n",
       "      <td>309792</td>\n",
       "      <td>5232</td>\n",
       "      <td>309792</td>\n",
       "      <td>5232</td>\n",
       "    </tr>\n",
       "    <tr>\n",
       "      <th>4</th>\n",
       "      <td>Uttar Pradesh</td>\n",
       "      <td>208419</td>\n",
       "      <td>3217</td>\n",
       "      <td>208419</td>\n",
       "      <td>3217</td>\n",
       "    </tr>\n",
       "  </tbody>\n",
       "</table>\n",
       "</div>"
      ],
      "text/plain": [
       "           states   Cases  Deaths  PCases  PDeaths\n",
       "0     Maharashtra  733568   23444  733568    23444\n",
       "1      Tamil Nadu  403242    6948  403242     6948\n",
       "2  Andhra Pradesh  393090    3633  393090     3633\n",
       "3       Karnataka  309792    5232  309792     5232\n",
       "4   Uttar Pradesh  208419    3217  208419     3217"
      ]
     },
     "execution_count": 11,
     "metadata": {},
     "output_type": "execute_result"
    }
   ],
   "source": [
    "#hide\n",
    "df_table = pd.DataFrame({'states': dfc_cases.index, 'Cases': dfc_cases.values, 'Deaths': dfc_deaths.values, 'PCases': dfp_cases.values, 'PDeaths': dfp_deaths.values}).set_index('states')\n",
    "df_table = df_table.sort_values(by = ['Cases','Deaths'], ascending = [False, False])\n",
    "df_table = df_table.reset_index()\n",
    "df_table.head()"
   ]
  },
  {
   "cell_type": "code",
   "execution_count": 12,
   "metadata": {
    "execution": {
     "iopub.execute_input": "2020-08-28T04:37:31.900924Z",
     "iopub.status.busy": "2020-08-28T04:37:31.900365Z",
     "iopub.status.idle": "2020-08-28T04:37:31.908874Z",
     "shell.execute_reply": "2020-08-28T04:37:31.909351Z"
    },
    "papermill": {
     "duration": 0.028967,
     "end_time": "2020-08-28T04:37:31.909487",
     "exception": false,
     "start_time": "2020-08-28T04:37:31.880520",
     "status": "completed"
    },
    "tags": []
   },
   "outputs": [],
   "source": [
    "#hide\n",
    "for c in 'Cases, Deaths'.split(', '):\n",
    "    df_table[f'{c} (+)'] = (df_table[c] - df_table[f'P{c}']).clip(0)\n",
    "df_table['Fatality Rate'] = (100* df_table['Deaths']/ df_table['Cases']).round(2)"
   ]
  },
  {
   "cell_type": "code",
   "execution_count": 13,
   "metadata": {
    "execution": {
     "iopub.execute_input": "2020-08-28T04:37:31.952400Z",
     "iopub.status.busy": "2020-08-28T04:37:31.951811Z",
     "iopub.status.idle": "2020-08-28T04:37:31.957370Z",
     "shell.execute_reply": "2020-08-28T04:37:31.956782Z"
    },
    "papermill": {
     "duration": 0.033069,
     "end_time": "2020-08-28T04:37:31.957493",
     "exception": false,
     "start_time": "2020-08-28T04:37:31.924424",
     "status": "completed"
    },
    "tags": []
   },
   "outputs": [
    {
     "data": {
      "text/html": [
       "<div>\n",
       "<style scoped>\n",
       "    .dataframe tbody tr th:only-of-type {\n",
       "        vertical-align: middle;\n",
       "    }\n",
       "\n",
       "    .dataframe tbody tr th {\n",
       "        vertical-align: top;\n",
       "    }\n",
       "\n",
       "    .dataframe thead th {\n",
       "        text-align: right;\n",
       "    }\n",
       "</style>\n",
       "<table border=\"1\" class=\"dataframe\">\n",
       "  <thead>\n",
       "    <tr style=\"text-align: right;\">\n",
       "      <th></th>\n",
       "      <th>states</th>\n",
       "      <th>Cases</th>\n",
       "      <th>Deaths</th>\n",
       "      <th>PCases</th>\n",
       "      <th>PDeaths</th>\n",
       "      <th>Cases (+)</th>\n",
       "      <th>Deaths (+)</th>\n",
       "      <th>Fatality Rate</th>\n",
       "    </tr>\n",
       "  </thead>\n",
       "  <tbody>\n",
       "    <tr>\n",
       "      <th>0</th>\n",
       "      <td>Maharashtra</td>\n",
       "      <td>733568</td>\n",
       "      <td>23444</td>\n",
       "      <td>733568</td>\n",
       "      <td>23444</td>\n",
       "      <td>0</td>\n",
       "      <td>0</td>\n",
       "      <td>3.20</td>\n",
       "    </tr>\n",
       "    <tr>\n",
       "      <th>1</th>\n",
       "      <td>Tamil Nadu</td>\n",
       "      <td>403242</td>\n",
       "      <td>6948</td>\n",
       "      <td>403242</td>\n",
       "      <td>6948</td>\n",
       "      <td>0</td>\n",
       "      <td>0</td>\n",
       "      <td>1.72</td>\n",
       "    </tr>\n",
       "    <tr>\n",
       "      <th>2</th>\n",
       "      <td>Andhra Pradesh</td>\n",
       "      <td>393090</td>\n",
       "      <td>3633</td>\n",
       "      <td>393090</td>\n",
       "      <td>3633</td>\n",
       "      <td>0</td>\n",
       "      <td>0</td>\n",
       "      <td>0.92</td>\n",
       "    </tr>\n",
       "    <tr>\n",
       "      <th>3</th>\n",
       "      <td>Karnataka</td>\n",
       "      <td>309792</td>\n",
       "      <td>5232</td>\n",
       "      <td>309792</td>\n",
       "      <td>5232</td>\n",
       "      <td>0</td>\n",
       "      <td>0</td>\n",
       "      <td>1.69</td>\n",
       "    </tr>\n",
       "    <tr>\n",
       "      <th>4</th>\n",
       "      <td>Uttar Pradesh</td>\n",
       "      <td>208419</td>\n",
       "      <td>3217</td>\n",
       "      <td>208419</td>\n",
       "      <td>3217</td>\n",
       "      <td>0</td>\n",
       "      <td>0</td>\n",
       "      <td>1.54</td>\n",
       "    </tr>\n",
       "  </tbody>\n",
       "</table>\n",
       "</div>"
      ],
      "text/plain": [
       "           states   Cases  Deaths  PCases  PDeaths  Cases (+)  Deaths (+)  \\\n",
       "0     Maharashtra  733568   23444  733568    23444          0           0   \n",
       "1      Tamil Nadu  403242    6948  403242     6948          0           0   \n",
       "2  Andhra Pradesh  393090    3633  393090     3633          0           0   \n",
       "3       Karnataka  309792    5232  309792     5232          0           0   \n",
       "4   Uttar Pradesh  208419    3217  208419     3217          0           0   \n",
       "\n",
       "   Fatality Rate  \n",
       "0           3.20  \n",
       "1           1.72  \n",
       "2           0.92  \n",
       "3           1.69  \n",
       "4           1.54  "
      ]
     },
     "execution_count": 13,
     "metadata": {},
     "output_type": "execute_result"
    }
   ],
   "source": [
    "#hide\n",
    "df_table.head()"
   ]
  },
  {
   "cell_type": "code",
   "execution_count": 14,
   "metadata": {
    "execution": {
     "iopub.execute_input": "2020-08-28T04:37:31.996274Z",
     "iopub.status.busy": "2020-08-28T04:37:31.995691Z",
     "iopub.status.idle": "2020-08-28T04:37:32.011698Z",
     "shell.execute_reply": "2020-08-28T04:37:32.011245Z"
    },
    "papermill": {
     "duration": 0.038339,
     "end_time": "2020-08-28T04:37:32.011810",
     "exception": false,
     "start_time": "2020-08-28T04:37:31.973471",
     "status": "completed"
    },
    "tags": []
   },
   "outputs": [
    {
     "data": {
      "text/plain": [
       "{'updated': '2020-08-28',\n",
       " 'since': '2020-08-27',\n",
       " 'Cases': 3388055,\n",
       " 'PCases': 3384575,\n",
       " 'Deaths': 61709,\n",
       " 'PDeaths': 61694,\n",
       " 'Cases (+)': 3480,\n",
       " 'Deaths (+)': 15}"
      ]
     },
     "execution_count": 14,
     "metadata": {},
     "output_type": "execute_result"
    }
   ],
   "source": [
    "#hide\n",
    "summary = {'updated':dates[-1], 'since':dates[-2]}\n",
    "list_names = ['Cases', 'PCases', 'Deaths', 'PDeaths', 'Cases (+)', 'Deaths (+)']\n",
    "for name in list_names:\n",
    "    summary[name] = df_table.sum()[name]\n",
    "summary"
   ]
  },
  {
   "cell_type": "code",
   "execution_count": 15,
   "metadata": {
    "execution": {
     "iopub.execute_input": "2020-08-28T04:37:32.048813Z",
     "iopub.status.busy": "2020-08-28T04:37:32.048276Z",
     "iopub.status.idle": "2020-08-28T04:37:32.049894Z",
     "shell.execute_reply": "2020-08-28T04:37:32.050401Z"
    },
    "papermill": {
     "duration": 0.022912,
     "end_time": "2020-08-28T04:37:32.050532",
     "exception": false,
     "start_time": "2020-08-28T04:37:32.027620",
     "status": "completed"
    },
    "tags": []
   },
   "outputs": [],
   "source": [
    "#hide\n",
    "overview = '''\n",
    "<!-- #######  HTML!! #########-->\n",
    "<h1 style=\"color: #5e9ca0; text-align: center;\">India</h1>\n",
    "<p style=\"text-align: center;\">Last update: <strong>{update}</strong></p>\n",
    "<p style=\"text-align: center;\">Confirmed cases:</p>\n",
    "<p style=\"text-align: center;font-size:24px;\">{cases} (<span style=\"color: #ff0000;\">+{new}</span>)</p>\n",
    "<p style=\"text-align: center;\">Confirmed deaths:</p>\n",
    "<p style=\"text-align: center;font-size:24px;\">{deaths} (<span style=\"color: #ff0000;\">+{dnew}</span>)</p>\n",
    "'''"
   ]
  },
  {
   "cell_type": "code",
   "execution_count": 16,
   "metadata": {
    "execution": {
     "iopub.execute_input": "2020-08-28T04:37:32.089863Z",
     "iopub.status.busy": "2020-08-28T04:37:32.089314Z",
     "iopub.status.idle": "2020-08-28T04:37:32.092417Z",
     "shell.execute_reply": "2020-08-28T04:37:32.091923Z"
    },
    "papermill": {
     "duration": 0.02634,
     "end_time": "2020-08-28T04:37:32.092533",
     "exception": false,
     "start_time": "2020-08-28T04:37:32.066193",
     "status": "completed"
    },
    "tags": []
   },
   "outputs": [
    {
     "data": {
      "text/html": [
       "\n",
       "<!-- #######  HTML!! #########-->\n",
       "<h1 style=\"color: #5e9ca0; text-align: center;\">India</h1>\n",
       "<p style=\"text-align: center;\">Last update: <strong>2020-08-28</strong></p>\n",
       "<p style=\"text-align: center;\">Confirmed cases:</p>\n",
       "<p style=\"text-align: center;font-size:24px;\">3388055 (<span style=\"color: #ff0000;\">+3480</span>)</p>\n",
       "<p style=\"text-align: center;\">Confirmed deaths:</p>\n",
       "<p style=\"text-align: center;font-size:24px;\">61709 (<span style=\"color: #ff0000;\">+15</span>)</p>\n"
      ],
      "text/plain": [
       "<IPython.core.display.HTML object>"
      ]
     },
     "metadata": {},
     "output_type": "display_data"
    }
   ],
   "source": [
    "#hide_input\n",
    "update = summary['updated']\n",
    "cases = summary['Cases']\n",
    "new = summary['Cases (+)']\n",
    "deaths = summary['Deaths']\n",
    "dnew = summary['Deaths (+)']\n",
    "\n",
    "html = HTML(overview.format(update=update, cases=cases,new=new,deaths=deaths,dnew=dnew))\n",
    "\n",
    "display(html)"
   ]
  },
  {
   "cell_type": "code",
   "execution_count": 17,
   "metadata": {
    "execution": {
     "iopub.execute_input": "2020-08-28T04:37:32.133269Z",
     "iopub.status.busy": "2020-08-28T04:37:32.132670Z",
     "iopub.status.idle": "2020-08-28T04:37:32.136988Z",
     "shell.execute_reply": "2020-08-28T04:37:32.137458Z"
    },
    "papermill": {
     "duration": 0.028527,
     "end_time": "2020-08-28T04:37:32.137600",
     "exception": false,
     "start_time": "2020-08-28T04:37:32.109073",
     "status": "completed"
    },
    "tags": []
   },
   "outputs": [],
   "source": [
    "#hide\n",
    "dt_cols = list(dft_cases.columns[1:])\n",
    "dft_ct_new_cases = dft_cases.groupby('state')[dt_cols].sum().diff(axis=1).fillna(0).astype(int)\n",
    "dft_ct_new_cases.sort_values(by = dates[-1], ascending = False,inplace = True)"
   ]
  },
  {
   "cell_type": "code",
   "execution_count": 18,
   "metadata": {
    "execution": {
     "iopub.execute_input": "2020-08-28T04:37:32.186946Z",
     "iopub.status.busy": "2020-08-28T04:37:32.186310Z",
     "iopub.status.idle": "2020-08-28T04:37:32.188857Z",
     "shell.execute_reply": "2020-08-28T04:37:32.189339Z"
    },
    "papermill": {
     "duration": 0.035733,
     "end_time": "2020-08-28T04:37:32.189475",
     "exception": false,
     "start_time": "2020-08-28T04:37:32.153742",
     "status": "completed"
    },
    "tags": []
   },
   "outputs": [
    {
     "data": {
      "text/html": [
       "<div>\n",
       "<style scoped>\n",
       "    .dataframe tbody tr th:only-of-type {\n",
       "        vertical-align: middle;\n",
       "    }\n",
       "\n",
       "    .dataframe tbody tr th {\n",
       "        vertical-align: top;\n",
       "    }\n",
       "\n",
       "    .dataframe thead th {\n",
       "        text-align: right;\n",
       "    }\n",
       "</style>\n",
       "<table border=\"1\" class=\"dataframe\">\n",
       "  <thead>\n",
       "    <tr style=\"text-align: right;\">\n",
       "      <th>states</th>\n",
       "      <th>2020-07-01</th>\n",
       "      <th>2020-07-02</th>\n",
       "      <th>2020-07-03</th>\n",
       "      <th>2020-07-04</th>\n",
       "      <th>2020-07-05</th>\n",
       "      <th>2020-07-06</th>\n",
       "      <th>2020-07-07</th>\n",
       "      <th>2020-07-08</th>\n",
       "      <th>2020-07-09</th>\n",
       "      <th>2020-07-10</th>\n",
       "      <th>...</th>\n",
       "      <th>2020-08-19</th>\n",
       "      <th>2020-08-20</th>\n",
       "      <th>2020-08-21</th>\n",
       "      <th>2020-08-22</th>\n",
       "      <th>2020-08-23</th>\n",
       "      <th>2020-08-24</th>\n",
       "      <th>2020-08-25</th>\n",
       "      <th>2020-08-26</th>\n",
       "      <th>2020-08-27</th>\n",
       "      <th>2020-08-28</th>\n",
       "    </tr>\n",
       "    <tr>\n",
       "      <th>state</th>\n",
       "      <th></th>\n",
       "      <th></th>\n",
       "      <th></th>\n",
       "      <th></th>\n",
       "      <th></th>\n",
       "      <th></th>\n",
       "      <th></th>\n",
       "      <th></th>\n",
       "      <th></th>\n",
       "      <th></th>\n",
       "      <th></th>\n",
       "      <th></th>\n",
       "      <th></th>\n",
       "      <th></th>\n",
       "      <th></th>\n",
       "      <th></th>\n",
       "      <th></th>\n",
       "      <th></th>\n",
       "      <th></th>\n",
       "      <th></th>\n",
       "      <th></th>\n",
       "    </tr>\n",
       "  </thead>\n",
       "  <tbody>\n",
       "    <tr>\n",
       "      <th>Telangana</th>\n",
       "      <td>0</td>\n",
       "      <td>1213</td>\n",
       "      <td>1892</td>\n",
       "      <td>1850</td>\n",
       "      <td>1590</td>\n",
       "      <td>1831</td>\n",
       "      <td>1879</td>\n",
       "      <td>1924</td>\n",
       "      <td>1410</td>\n",
       "      <td>1278</td>\n",
       "      <td>...</td>\n",
       "      <td>1763</td>\n",
       "      <td>1724</td>\n",
       "      <td>1967</td>\n",
       "      <td>2474</td>\n",
       "      <td>2384</td>\n",
       "      <td>1842</td>\n",
       "      <td>2579</td>\n",
       "      <td>3018</td>\n",
       "      <td>2795</td>\n",
       "      <td>2942</td>\n",
       "    </tr>\n",
       "    <tr>\n",
       "      <th>Tripura</th>\n",
       "      <td>0</td>\n",
       "      <td>39</td>\n",
       "      <td>93</td>\n",
       "      <td>25</td>\n",
       "      <td>23</td>\n",
       "      <td>111</td>\n",
       "      <td>24</td>\n",
       "      <td>57</td>\n",
       "      <td>16</td>\n",
       "      <td>142</td>\n",
       "      <td>...</td>\n",
       "      <td>236</td>\n",
       "      <td>190</td>\n",
       "      <td>256</td>\n",
       "      <td>280</td>\n",
       "      <td>331</td>\n",
       "      <td>200</td>\n",
       "      <td>293</td>\n",
       "      <td>329</td>\n",
       "      <td>385</td>\n",
       "      <td>509</td>\n",
       "    </tr>\n",
       "    <tr>\n",
       "      <th>Mizoram</th>\n",
       "      <td>0</td>\n",
       "      <td>2</td>\n",
       "      <td>0</td>\n",
       "      <td>2</td>\n",
       "      <td>22</td>\n",
       "      <td>11</td>\n",
       "      <td>1</td>\n",
       "      <td>5</td>\n",
       "      <td>0</td>\n",
       "      <td>23</td>\n",
       "      <td>...</td>\n",
       "      <td>45</td>\n",
       "      <td>14</td>\n",
       "      <td>21</td>\n",
       "      <td>8</td>\n",
       "      <td>15</td>\n",
       "      <td>0</td>\n",
       "      <td>35</td>\n",
       "      <td>14</td>\n",
       "      <td>7</td>\n",
       "      <td>29</td>\n",
       "    </tr>\n",
       "    <tr>\n",
       "      <th>Andaman and Nicobar Islands</th>\n",
       "      <td>0</td>\n",
       "      <td>9</td>\n",
       "      <td>7</td>\n",
       "      <td>3</td>\n",
       "      <td>6</td>\n",
       "      <td>16</td>\n",
       "      <td>6</td>\n",
       "      <td>2</td>\n",
       "      <td>7</td>\n",
       "      <td>0</td>\n",
       "      <td>...</td>\n",
       "      <td>75</td>\n",
       "      <td>76</td>\n",
       "      <td>67</td>\n",
       "      <td>61</td>\n",
       "      <td>52</td>\n",
       "      <td>44</td>\n",
       "      <td>41</td>\n",
       "      <td>40</td>\n",
       "      <td>33</td>\n",
       "      <td>0</td>\n",
       "    </tr>\n",
       "    <tr>\n",
       "      <th>Puducherry</th>\n",
       "      <td>0</td>\n",
       "      <td>63</td>\n",
       "      <td>22</td>\n",
       "      <td>80</td>\n",
       "      <td>42</td>\n",
       "      <td>65</td>\n",
       "      <td>30</td>\n",
       "      <td>110</td>\n",
       "      <td>49</td>\n",
       "      <td>72</td>\n",
       "      <td>...</td>\n",
       "      <td>356</td>\n",
       "      <td>540</td>\n",
       "      <td>302</td>\n",
       "      <td>518</td>\n",
       "      <td>410</td>\n",
       "      <td>337</td>\n",
       "      <td>567</td>\n",
       "      <td>504</td>\n",
       "      <td>504</td>\n",
       "      <td>0</td>\n",
       "    </tr>\n",
       "  </tbody>\n",
       "</table>\n",
       "<p>5 rows × 59 columns</p>\n",
       "</div>"
      ],
      "text/plain": [
       "states                       2020-07-01  2020-07-02  2020-07-03  2020-07-04  \\\n",
       "state                                                                         \n",
       "Telangana                             0        1213        1892        1850   \n",
       "Tripura                               0          39          93          25   \n",
       "Mizoram                               0           2           0           2   \n",
       "Andaman and Nicobar Islands           0           9           7           3   \n",
       "Puducherry                            0          63          22          80   \n",
       "\n",
       "states                       2020-07-05  2020-07-06  2020-07-07  2020-07-08  \\\n",
       "state                                                                         \n",
       "Telangana                          1590        1831        1879        1924   \n",
       "Tripura                              23         111          24          57   \n",
       "Mizoram                              22          11           1           5   \n",
       "Andaman and Nicobar Islands           6          16           6           2   \n",
       "Puducherry                           42          65          30         110   \n",
       "\n",
       "states                       2020-07-09  2020-07-10  ...  2020-08-19  \\\n",
       "state                                                ...               \n",
       "Telangana                          1410        1278  ...        1763   \n",
       "Tripura                              16         142  ...         236   \n",
       "Mizoram                               0          23  ...          45   \n",
       "Andaman and Nicobar Islands           7           0  ...          75   \n",
       "Puducherry                           49          72  ...         356   \n",
       "\n",
       "states                       2020-08-20  2020-08-21  2020-08-22  2020-08-23  \\\n",
       "state                                                                         \n",
       "Telangana                          1724        1967        2474        2384   \n",
       "Tripura                             190         256         280         331   \n",
       "Mizoram                              14          21           8          15   \n",
       "Andaman and Nicobar Islands          76          67          61          52   \n",
       "Puducherry                          540         302         518         410   \n",
       "\n",
       "states                       2020-08-24  2020-08-25  2020-08-26  2020-08-27  \\\n",
       "state                                                                         \n",
       "Telangana                          1842        2579        3018        2795   \n",
       "Tripura                             200         293         329         385   \n",
       "Mizoram                               0          35          14           7   \n",
       "Andaman and Nicobar Islands          44          41          40          33   \n",
       "Puducherry                          337         567         504         504   \n",
       "\n",
       "states                       2020-08-28  \n",
       "state                                    \n",
       "Telangana                          2942  \n",
       "Tripura                             509  \n",
       "Mizoram                              29  \n",
       "Andaman and Nicobar Islands           0  \n",
       "Puducherry                            0  \n",
       "\n",
       "[5 rows x 59 columns]"
      ]
     },
     "execution_count": 18,
     "metadata": {},
     "output_type": "execute_result"
    }
   ],
   "source": [
    "#hide\n",
    "dft_ct_new_cases.head()"
   ]
  },
  {
   "cell_type": "code",
   "execution_count": 19,
   "metadata": {
    "execution": {
     "iopub.execute_input": "2020-08-28T04:37:32.247949Z",
     "iopub.status.busy": "2020-08-28T04:37:32.237611Z",
     "iopub.status.idle": "2020-08-28T04:37:34.926710Z",
     "shell.execute_reply": "2020-08-28T04:37:34.927209Z"
    },
    "papermill": {
     "duration": 2.720754,
     "end_time": "2020-08-28T04:37:34.927371",
     "exception": false,
     "start_time": "2020-08-28T04:37:32.206617",
     "status": "completed"
    },
    "tags": []
   },
   "outputs": [
    {
     "data": {
      "image/png": "[encoded data removed]",
      "text/plain": [
       "<Figure size 1296x2016 with 11 Axes>"
      ]
     },
     "metadata": {
      "needs_background": "light"
     },
     "output_type": "display_data"
    }
   ],
   "source": [
    "#hide_input\n",
    "df = dft_ct_new_cases.copy()\n",
    "df.loc['Total'] = df.sum()\n",
    "n = 5\n",
    "ax = []\n",
    "fig = plt.figure(figsize = (18,28))\n",
    "gs = fig.add_gridspec(n+2, 5)\n",
    "# gs = fig.add_gridspec(2, 3)\n",
    "ax1 = fig.add_subplot(gs[0, :])\n",
    "ef = df.loc['Total'].rename_axis('date').reset_index()\n",
    "ef['date'] = ef['date'].astype('datetime64[ns]')\n",
    "ax1.bar(ef.date,ef.Total,alpha=0.3,color='#007acc')\n",
    "ax1.plot(ef.date,ef.Total , marker=\"o\", color='#007acc')\n",
    "ax1.xaxis.set_major_locator(mdates.WeekdayLocator())\n",
    "ax1.xaxis.set_major_formatter(mdates.DateFormatter('%b %d'))\n",
    "ax1.text(0.02, 0.5,'India daily case count', transform = ax1.transAxes, fontsize=25);\n",
    "ax1.spines['right'].set_visible(False)\n",
    "ax1.spines['top'].set_visible(False)\n",
    "\n",
    "ax2 = fig.add_subplot(gs[1,0])\n",
    "ef = df.loc['Maharashtra'].rename_axis('date').reset_index()\n",
    "ef['date'] = ef['date'].astype('datetime64[ns]')\n",
    "\n",
    "ax2.bar(ef.date, ef.Maharashtra,color = '#007acc',alpha=0.5)\n",
    "ax2.xaxis.set_major_locator(mdates.WeekdayLocator())\n",
    "ax2.xaxis.set_major_formatter(mdates.DateFormatter('%b %d'))\n",
    "ax2.set_xticks(ax2.get_xticks()[::3])\n",
    "maxyval = ef.Maharashtra.max()\n",
    "ax2.set_ylim([0,maxyval])\n",
    "ax2.text(0.05, 0.9,'Maharashtra', transform = ax2.transAxes, fontsize=20);\n",
    "ax2.spines['right'].set_visible(False)\n",
    "ax2.spines['top'].set_visible(False)\n",
    "\n",
    "\n",
    "ax3 = fig.add_subplot(gs[1,1])\n",
    "ef = df.loc['Tamil Nadu'].rename_axis('date').reset_index()\n",
    "ef['date'] = ef['date'].astype('datetime64[ns]')\n",
    "ax3.bar(ef.date, ef['Tamil Nadu'],color = '#007acc',alpha=0.5,)\n",
    "ax3.xaxis.set_major_locator(mdates.WeekdayLocator())\n",
    "ax3.xaxis.set_major_formatter(mdates.DateFormatter('%b %d'))\n",
    "ax3.set_xticks(ax3.get_xticks()[::3])\n",
    "ax3.text(0.05, 0.9,'Tamil Nadu', transform = ax3.transAxes, fontsize=20);\n",
    "ax3.spines['right'].set_visible(False)\n",
    "ax3.spines['top'].set_visible(False)\n",
    "\n",
    "ax5 = fig.add_subplot(gs[1,3])\n",
    "ef = df.loc['Telangana'].rename_axis('date').reset_index()\n",
    "ef['date'] = ef['date'].astype('datetime64[ns]')\n",
    "ax5.bar(ef.date, ef['Telangana'],color = '#007acc',alpha=0.5,)\n",
    "ax5.xaxis.set_major_locator(mdates.WeekdayLocator())\n",
    "ax5.xaxis.set_major_formatter(mdates.DateFormatter('%b %d'))\n",
    "ax5.set_xticks(ax5.get_xticks()[::3])\n",
    "ax5.text(0.05, 0.9,'Telangana', transform = ax5.transAxes, fontsize=20);\n",
    "ax5.spines['right'].set_visible(False)\n",
    "ax5.spines['top'].set_visible(False)\n",
    "\n",
    "ax6 = fig.add_subplot(gs[1,4])\n",
    "ef = df.loc['Andhra Pradesh'].rename_axis('date').reset_index()\n",
    "ef['date'] = ef['date'].astype('datetime64[ns]')\n",
    "ax6.bar(ef.date, ef['Andhra Pradesh'],color = '#007acc',alpha=0.5,)\n",
    "ax6.xaxis.set_major_locator(mdates.WeekdayLocator())\n",
    "ax6.xaxis.set_major_formatter(mdates.DateFormatter('%b %d'))\n",
    "ax6.set_xticks(ax6.get_xticks()[::3])\n",
    "ax6.text(0.05, 1,'Andhra Pradesh', transform = ax6.transAxes, fontsize=20);\n",
    "ax6.spines['right'].set_visible(False)\n",
    "ax6.spines['top'].set_visible(False)\n",
    "\n",
    "ax4 = fig.add_subplot(gs[1,2])\n",
    "ef = df.loc['Delhi'].rename_axis('date').reset_index()\n",
    "ef['date'] = ef['date'].astype('datetime64[ns]')\n",
    "ax4.bar(ef.date, ef.Delhi,color = '#007acc',alpha=0.5)\n",
    "ax4.set_xticks([])\n",
    "ax4.xaxis.set_major_locator(mdates.WeekdayLocator())\n",
    "ax4.xaxis.set_major_formatter(mdates.DateFormatter('%b %d'))\n",
    "ax4.set_xticks(ax4.get_xticks()[::3])\n",
    "ax4.spines['right'].set_visible(False)\n",
    "ax4.spines['top'].set_visible(False)\n",
    "\n",
    "ax4.text(0.05, 1,'Delhi', transform = ax4.transAxes, fontsize=20)\n",
    "\n",
    "for i in range(n):\n",
    "    \n",
    "    ax.append(fig.add_subplot(gs[i+2,:]))\n",
    "    ef = df.iloc[i+3].rename_axis('date').reset_index()\n",
    "    ef['date'] = ef['date'].astype('datetime64[ns]')\n",
    "    ax[i].bar(ef.date,ef.iloc[:,-1],color = '#007acc',alpha=0.3)\n",
    "    ax[i].plot(ef.date,ef.iloc[:,-1],marker='o',color='#007acc')\n",
    "    ax[i].text(0.02,0.5,f'{ef.columns.values[-1]}',transform = ax[i].transAxes, fontsize = 20);\n",
    "    ax[i].xaxis.set_major_locator(mdates.WeekdayLocator())\n",
    "    ax[i].xaxis.set_major_formatter(mdates.DateFormatter('%b %d'))\n",
    "    ax[i].set_ylim([0,7000])\n",
    "    ax[i].spines['right'].set_visible(False)\n",
    "    ax[i].spines['top'].set_visible(False)\n",
    "plt.tight_layout()\n"
   ]
  },
  {
   "cell_type": "code",
   "execution_count": 20,
   "metadata": {
    "execution": {
     "iopub.execute_input": "2020-08-28T04:37:35.331839Z",
     "iopub.status.busy": "2020-08-28T04:37:35.331202Z",
     "iopub.status.idle": "2020-08-28T04:37:35.335820Z",
     "shell.execute_reply": "2020-08-28T04:37:35.336275Z"
    },
    "papermill": {
     "duration": 0.387607,
     "end_time": "2020-08-28T04:37:35.336431",
     "exception": false,
     "start_time": "2020-08-28T04:37:34.948824",
     "status": "completed"
    },
    "tags": []
   },
   "outputs": [
    {
     "name": "stdout",
     "output_type": "stream",
     "text": [
      "                                   states   Cases  Deaths  PCases  PDeaths  Cases (+)  Deaths (+)  Fatality Rate\n",
      "                              Maharashtra  733568   23444  733568    23444          0           0           3.20\n",
      "                               Tamil Nadu  403242    6948  403242     6948          0           0           1.72\n",
      "                           Andhra Pradesh  393090    3633  393090     3633          0           0           0.92\n",
      "                                Karnataka  309792    5232  309792     5232          0           0           1.69\n",
      "                            Uttar Pradesh  208419    3217  208419     3217          0           0           1.54\n",
      "                                    Delhi  167604    4369  167604     4369          0           0           2.61\n",
      "                              West Bengal  150772    3017  150772     3017          0           0           2.00\n",
      "                                    Bihar  128850     662  128850      662          0           0           0.51\n",
      "                                Telangana  117425     799  114483      788       2942          11           0.68\n",
      "                                    Assam   98808     278   98808      278          0           0           0.28\n",
      "                                  Gujarat   91329    2962   91329     2962          0           0           3.24\n",
      "                                   Odisha   90986     501   90986      501          0           0           0.55\n",
      "                                Rajasthan   76015    1005   76015     1005          0           0           1.32\n",
      "                                   Kerala   66761     268   66761      268          0           0           0.40\n",
      "                                  Haryana   59298     646   59298      646          0           0           1.09\n",
      "                           Madhya Pradesh   58181    1306   58181     1306          0           0           2.24\n",
      "                                   Punjab   47836    1256   47836     1256          0           0           2.63\n",
      "                        Jammu and Kashmir   35135     671   35135      671          0           0           1.91\n",
      "                                Jharkhand   34676     377   34676      377          0           0           1.09\n",
      "                             Chhattisgarh   25988     245   25988      245          0           0           0.94\n",
      "                              Uttarakhand   17277     228   17277      228          0           0           1.32\n",
      "                                      Goa   15483     171   15483      171          0           0           1.10\n",
      "                               Puducherry   12434     190   12434      190          0           0           1.53\n",
      "                                  Tripura   10433      89    9924       85        509           4           0.85\n",
      "                                  Manipur    5725      25    5725       25          0           0           0.44\n",
      "                         Himachal Pradesh    5501      32    5501       32          0           0           0.58\n",
      "                                 Nagaland    3784       8    3784        8          0           0           0.21\n",
      "                        Arunachal Pradesh    3633       5    3633        5          0           0           0.14\n",
      "                               Chandigarh    3564      43    3564       43          0           0           1.21\n",
      "              Andaman and Nicobar Islands    3018      42    3018       42          0           0           1.39\n",
      "                                   Ladakh    2492      27    2492       27          0           0           1.08\n",
      " Dadra and Nagar Haveli and Daman and Diu    2262       2    2262        2          0           0           0.09\n",
      "                                Meghalaya    2129       8    2129        8          0           0           0.38\n",
      "                                   Sikkim    1542       3    1542        3          0           0           0.19\n",
      "                                  Mizoram    1003       0     974        0         29           0           0.00\n",
      "                              Lakshadweep       0       0       0        0          0           0            NaN\n"
     ]
    }
   ],
   "source": [
    "#hide_input\n",
    "print(df_table.to_string(index=False))"
   ]
  },
  {
   "cell_type": "code",
   "execution_count": null,
   "metadata": {
    "papermill": {
     "duration": 0.564516,
     "end_time": "2020-08-28T04:37:36.070276",
     "exception": false,
     "start_time": "2020-08-28T04:37:35.505760",
     "status": "completed"
    },
    "tags": []
   },
   "outputs": [],
   "source": []
  },
  {
   "cell_type": "code",
   "execution_count": null,
   "metadata": {
    "papermill": {
     "duration": 0.157095,
     "end_time": "2020-08-28T04:37:36.320150",
     "exception": false,
     "start_time": "2020-08-28T04:37:36.163055",
     "status": "completed"
    },
    "tags": []
   },
   "outputs": [],
   "source": []
  }
 ],
 "metadata": {
  "kernelspec": {
   "display_name": "Python 3",
   "language": "python",
   "name": "python3"
  },
  "language_info": {
   "codemirror_mode": {
    "name": "ipython",
    "version": 3
   },
   "file_extension": ".py",
   "mimetype": "text/x-python",
   "name": "python",
   "nbconvert_exporter": "python",
   "pygments_lexer": "ipython3",
   "version": "3.6.11"
  },
  "papermill": {
   "duration": 11.297251,
   "end_time": "2020-08-28T04:37:37.568527",
   "environment_variables": {},
   "exception": null,
   "input_path": "latest.ipynb",
   "output_path": "latest.ipynb",
   "parameters": {},
   "start_time": "2020-08-28T04:37:26.271276",
   "version": "2.1.2"
  }
 },
 "nbformat": 4,
 "nbformat_minor": 4
}