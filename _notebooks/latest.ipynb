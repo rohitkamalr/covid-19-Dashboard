{
 "cells": [
  {
   "cell_type": "markdown",
   "metadata": {
    "papermill": {
     "duration": 0.019073,
     "end_time": "2020-10-18T08:27:34.275415",
     "exception": false,
     "start_time": "2020-10-18T08:27:34.256342",
     "status": "completed"
    },
    "tags": []
   },
   "source": [
    "# Latest COVID-19 India Matplotlib Overview"
   ]
  },
  {
   "cell_type": "code",
   "execution_count": 1,
   "metadata": {
    "execution": {
     "iopub.execute_input": "2020-10-18T08:27:34.312321Z",
     "iopub.status.busy": "2020-10-18T08:27:34.311514Z",
     "iopub.status.idle": "2020-10-18T08:27:34.860952Z",
     "shell.execute_reply": "2020-10-18T08:27:34.860041Z"
    },
    "papermill": {
     "duration": 0.570633,
     "end_time": "2020-10-18T08:27:34.861197",
     "exception": false,
     "start_time": "2020-10-18T08:27:34.290564",
     "status": "completed"
    },
    "tags": []
   },
   "outputs": [],
   "source": [
    "#hide\n",
    "import pandas as pd\n",
    "import numpy as np\n",
    "import requests\n",
    "import json\n",
    "import matplotlib.pyplot as plt\n",
    "import matplotlib.dates as mdates\n",
    "import matplotlib as mpl\n",
    "from IPython.core.display import display,HTML\n",
    "%matplotlib inline\n",
    "from datetime import date"
   ]
  },
  {
   "cell_type": "code",
   "execution_count": 2,
   "metadata": {
    "execution": {
     "iopub.execute_input": "2020-10-18T08:27:34.902514Z",
     "iopub.status.busy": "2020-10-18T08:27:34.901592Z",
     "iopub.status.idle": "2020-10-18T08:27:35.225115Z",
     "shell.execute_reply": "2020-10-18T08:27:35.224582Z"
    },
    "papermill": {
     "duration": 0.346413,
     "end_time": "2020-10-18T08:27:35.225242",
     "exception": false,
     "start_time": "2020-10-18T08:27:34.878829",
     "status": "completed"
    },
    "tags": []
   },
   "outputs": [],
   "source": [
    "#hide\n",
    "df  = pd.read_csv('https://api.covid19india.org/csv/latest/states.csv')\n",
    "df = df[['Date','State','Confirmed','Deceased']]\n",
    "df = df.rename(columns={'Confirmed':'Cases', \"Deceased\":'Deaths'})\n",
    "df_cases = df[[\"Date\",'State','Cases']]\n",
    "df_deaths = df[['Date','State','Deaths']]\n",
    "df_cases1 = df_cases.groupby('Date')\n",
    "df_deaths1= df_deaths.groupby('Date')"
   ]
  },
  {
   "cell_type": "code",
   "execution_count": 3,
   "metadata": {
    "execution": {
     "iopub.execute_input": "2020-10-18T08:27:35.260441Z",
     "iopub.status.busy": "2020-10-18T08:27:35.259890Z",
     "iopub.status.idle": "2020-10-18T08:27:35.277252Z",
     "shell.execute_reply": "2020-10-18T08:27:35.277681Z"
    },
    "papermill": {
     "duration": 0.037924,
     "end_time": "2020-10-18T08:27:35.277826",
     "exception": false,
     "start_time": "2020-10-18T08:27:35.239902",
     "status": "completed"
    },
    "tags": []
   },
   "outputs": [],
   "source": [
    "#hide\n",
    "df_snap = pd.read_csv('data/SnapshotCases-28-July.csv')\n",
    "arr_states = df_snap['states'].unique()\n",
    "arr_dates = df['Date'].unique()\n",
    "df_snap = df_snap.set_index('states')"
   ]
  },
  {
   "cell_type": "code",
   "execution_count": 4,
   "metadata": {
    "execution": {
     "iopub.execute_input": "2020-10-18T08:27:35.316112Z",
     "iopub.status.busy": "2020-10-18T08:27:35.315493Z",
     "iopub.status.idle": "2020-10-18T08:27:35.318111Z",
     "shell.execute_reply": "2020-10-18T08:27:35.318516Z"
    },
    "papermill": {
     "duration": 0.026319,
     "end_time": "2020-10-18T08:27:35.318635",
     "exception": false,
     "start_time": "2020-10-18T08:27:35.292316",
     "status": "completed"
    },
    "tags": []
   },
   "outputs": [
    {
     "data": {
      "text/plain": [
       "array(['Andaman and Nicobar Islands', 'Andhra Pradesh',\n",
       "       'Arunachal Pradesh', 'Assam', 'Bihar', 'Chandigarh',\n",
       "       'Dadra and Nagar Haveli and Daman and Diu', 'Delhi', 'Goa',\n",
       "       'Gujarat', 'Haryana', 'Himachal Pradesh', 'Jammu and Kashmir',\n",
       "       'Jharkhand', 'Karnataka', 'Kerala', 'Lakshadweep',\n",
       "       'Madhya Pradesh', 'Maharashtra', 'Manipur', 'Meghalaya', 'Mizoram',\n",
       "       'Nagaland', 'Odisha', 'Puducherry', 'Punjab', 'Rajasthan',\n",
       "       'Sikkim', 'Tamil Nadu', 'Telangana', 'Tripura', 'Uttar Pradesh',\n",
       "       'West Bengal', 'Chhattisgarh', 'Ladakh', 'Uttarakhand'],\n",
       "      dtype=object)"
      ]
     },
     "execution_count": 4,
     "metadata": {},
     "output_type": "execute_result"
    }
   ],
   "source": [
    "#hide\n",
    "arr_states[-9] = 'Puducherry'\n",
    "arr_states[-10] = 'Odisha'\n",
    "arr_states[6] = 'Dadra and Nagar Haveli and Daman and Diu'\n",
    "arr_states = np.append(arr_states,np.array(['Chhattisgarh','Ladakh','Uttarakhand']))\n",
    "arr_states"
   ]
  },
  {
   "cell_type": "code",
   "execution_count": 5,
   "metadata": {
    "execution": {
     "iopub.execute_input": "2020-10-18T08:27:35.358861Z",
     "iopub.status.busy": "2020-10-18T08:27:35.358317Z",
     "iopub.status.idle": "2020-10-18T08:27:35.365689Z",
     "shell.execute_reply": "2020-10-18T08:27:35.365211Z"
    },
    "papermill": {
     "duration": 0.03251,
     "end_time": "2020-10-18T08:27:35.365799",
     "exception": false,
     "start_time": "2020-10-18T08:27:35.333289",
     "status": "completed"
    },
    "tags": []
   },
   "outputs": [],
   "source": [
    "#hide\n",
    "dates = []\n",
    "for i in arr_dates:\n",
    "    if i>='2020-07-01':\n",
    "        dates.append(i)\n",
    "dict = {'states':dates}\n",
    "for i in arr_states:\n",
    "    dict[i] = [0]*len(dates)\n",
    "dft_cases = pd.DataFrame(dict)\n",
    "dft_deaths = pd.DataFrame(dict)\n"
   ]
  },
  {
   "cell_type": "code",
   "execution_count": 6,
   "metadata": {
    "execution": {
     "iopub.execute_input": "2020-10-18T08:27:35.400723Z",
     "iopub.status.busy": "2020-10-18T08:27:35.400137Z",
     "iopub.status.idle": "2020-10-18T08:27:36.846459Z",
     "shell.execute_reply": "2020-10-18T08:27:36.845859Z"
    },
    "papermill": {
     "duration": 1.465882,
     "end_time": "2020-10-18T08:27:36.846620",
     "exception": false,
     "start_time": "2020-10-18T08:27:35.380738",
     "status": "completed"
    },
    "tags": []
   },
   "outputs": [],
   "source": [
    "#hide\n",
    "for i in range(len(dates)):\n",
    "    df1_deaths = df_deaths1.get_group(dates[i])\n",
    "    for j in range(len(df1_deaths.index)):\n",
    "        if df1_deaths.iloc[j,1] in arr_states:\n",
    "            dft_deaths.loc[i,df1_deaths.iloc[j,1]] = df1_deaths.iloc[j,2]\n",
    "dft_deaths = dft_deaths.set_index('states')"
   ]
  },
  {
   "cell_type": "code",
   "execution_count": 7,
   "metadata": {
    "execution": {
     "iopub.execute_input": "2020-10-18T08:27:36.884126Z",
     "iopub.status.busy": "2020-10-18T08:27:36.883525Z",
     "iopub.status.idle": "2020-10-18T08:27:38.379985Z",
     "shell.execute_reply": "2020-10-18T08:27:38.379122Z"
    },
    "papermill": {
     "duration": 1.517941,
     "end_time": "2020-10-18T08:27:38.380211",
     "exception": false,
     "start_time": "2020-10-18T08:27:36.862270",
     "status": "completed"
    },
    "tags": []
   },
   "outputs": [],
   "source": [
    "#hide\n",
    "for i in range(len(dates)):\n",
    "    df1_cases = df_cases1.get_group(dates[i])\n",
    "    for j in range(len(df1_cases.index)):\n",
    "        if df1_cases.iloc[j,1] in arr_states:\n",
    "            dft_cases.loc[i,df1_cases.iloc[j,1]] = df1_cases.iloc[j,2]\n",
    "dft_cases = dft_cases.set_index('states')"
   ]
  },
  {
   "cell_type": "code",
   "execution_count": 8,
   "metadata": {
    "execution": {
     "iopub.execute_input": "2020-10-18T08:27:38.419941Z",
     "iopub.status.busy": "2020-10-18T08:27:38.419354Z",
     "iopub.status.idle": "2020-10-18T08:27:38.422990Z",
     "shell.execute_reply": "2020-10-18T08:27:38.423503Z"
    },
    "papermill": {
     "duration": 0.025638,
     "end_time": "2020-10-18T08:27:38.423675",
     "exception": false,
     "start_time": "2020-10-18T08:27:38.398037",
     "status": "completed"
    },
    "tags": []
   },
   "outputs": [],
   "source": [
    "#hide\n",
    "dft_cases = dft_cases.T\n",
    "dft_deaths = dft_deaths.T\n",
    "dt_today = dates[-1]\n",
    "dt_yday = dates[-2]"
   ]
  },
  {
   "cell_type": "code",
   "execution_count": 9,
   "metadata": {
    "execution": {
     "iopub.execute_input": "2020-10-18T08:27:38.463295Z",
     "iopub.status.busy": "2020-10-18T08:27:38.461996Z",
     "iopub.status.idle": "2020-10-18T08:27:38.463946Z",
     "shell.execute_reply": "2020-10-18T08:27:38.464408Z"
    },
    "papermill": {
     "duration": 0.025619,
     "end_time": "2020-10-18T08:27:38.464544",
     "exception": false,
     "start_time": "2020-10-18T08:27:38.438925",
     "status": "completed"
    },
    "tags": []
   },
   "outputs": [],
   "source": [
    "#hide\n",
    "dft_cases = dft_cases.reset_index()\n",
    "dft_deaths = dft_deaths.reset_index()\n",
    "dft_cases = dft_cases.rename(columns = {'index':'state'})\n",
    "dft_deaths = dft_deaths.rename(columns = {'index':'state'})"
   ]
  },
  {
   "cell_type": "code",
   "execution_count": 10,
   "metadata": {
    "execution": {
     "iopub.execute_input": "2020-10-18T08:27:38.506354Z",
     "iopub.status.busy": "2020-10-18T08:27:38.505720Z",
     "iopub.status.idle": "2020-10-18T08:27:38.509250Z",
     "shell.execute_reply": "2020-10-18T08:27:38.508817Z"
    },
    "papermill": {
     "duration": 0.029127,
     "end_time": "2020-10-18T08:27:38.509366",
     "exception": false,
     "start_time": "2020-10-18T08:27:38.480239",
     "status": "completed"
    },
    "tags": []
   },
   "outputs": [],
   "source": [
    "#hide\n",
    "dfc_cases = dft_cases.groupby('state')[dt_today].sum()\n",
    "dfc_deaths = dft_deaths.groupby('state')[dt_today].sum()\n",
    "dfp_cases = dft_cases.groupby('state')[dt_yday].sum()\n",
    "dfp_deaths = dft_deaths.groupby('state')[dt_yday].sum()"
   ]
  },
  {
   "cell_type": "code",
   "execution_count": 11,
   "metadata": {
    "execution": {
     "iopub.execute_input": "2020-10-18T08:27:38.559779Z",
     "iopub.status.busy": "2020-10-18T08:27:38.556240Z",
     "iopub.status.idle": "2020-10-18T08:27:38.562923Z",
     "shell.execute_reply": "2020-10-18T08:27:38.562427Z"
    },
    "papermill": {
     "duration": 0.038395,
     "end_time": "2020-10-18T08:27:38.563045",
     "exception": false,
     "start_time": "2020-10-18T08:27:38.524650",
     "status": "completed"
    },
    "tags": []
   },
   "outputs": [
    {
     "data": {
      "text/html": [
       "<div>\n",
       "<style scoped>\n",
       "    .dataframe tbody tr th:only-of-type {\n",
       "        vertical-align: middle;\n",
       "    }\n",
       "\n",
       "    .dataframe tbody tr th {\n",
       "        vertical-align: top;\n",
       "    }\n",
       "\n",
       "    .dataframe thead th {\n",
       "        text-align: right;\n",
       "    }\n",
       "</style>\n",
       "<table border=\"1\" class=\"dataframe\">\n",
       "  <thead>\n",
       "    <tr style=\"text-align: right;\">\n",
       "      <th></th>\n",
       "      <th>states</th>\n",
       "      <th>Cases</th>\n",
       "      <th>Deaths</th>\n",
       "      <th>PCases</th>\n",
       "      <th>PDeaths</th>\n",
       "    </tr>\n",
       "  </thead>\n",
       "  <tbody>\n",
       "    <tr>\n",
       "      <th>0</th>\n",
       "      <td>Maharashtra</td>\n",
       "      <td>1586321</td>\n",
       "      <td>41965</td>\n",
       "      <td>1586321</td>\n",
       "      <td>41965</td>\n",
       "    </tr>\n",
       "    <tr>\n",
       "      <th>1</th>\n",
       "      <td>Andhra Pradesh</td>\n",
       "      <td>779146</td>\n",
       "      <td>6406</td>\n",
       "      <td>779146</td>\n",
       "      <td>6406</td>\n",
       "    </tr>\n",
       "    <tr>\n",
       "      <th>2</th>\n",
       "      <td>Karnataka</td>\n",
       "      <td>758574</td>\n",
       "      <td>10427</td>\n",
       "      <td>758574</td>\n",
       "      <td>10427</td>\n",
       "    </tr>\n",
       "    <tr>\n",
       "      <th>3</th>\n",
       "      <td>Tamil Nadu</td>\n",
       "      <td>683486</td>\n",
       "      <td>10586</td>\n",
       "      <td>683486</td>\n",
       "      <td>10586</td>\n",
       "    </tr>\n",
       "    <tr>\n",
       "      <th>4</th>\n",
       "      <td>Uttar Pradesh</td>\n",
       "      <td>452660</td>\n",
       "      <td>6629</td>\n",
       "      <td>452660</td>\n",
       "      <td>6629</td>\n",
       "    </tr>\n",
       "  </tbody>\n",
       "</table>\n",
       "</div>"
      ],
      "text/plain": [
       "           states    Cases  Deaths   PCases  PDeaths\n",
       "0     Maharashtra  1586321   41965  1586321    41965\n",
       "1  Andhra Pradesh   779146    6406   779146     6406\n",
       "2       Karnataka   758574   10427   758574    10427\n",
       "3      Tamil Nadu   683486   10586   683486    10586\n",
       "4   Uttar Pradesh   452660    6629   452660     6629"
      ]
     },
     "execution_count": 11,
     "metadata": {},
     "output_type": "execute_result"
    }
   ],
   "source": [
    "#hide\n",
    "df_table = pd.DataFrame({'states': dfc_cases.index, 'Cases': dfc_cases.values, 'Deaths': dfc_deaths.values, 'PCases': dfp_cases.values, 'PDeaths': dfp_deaths.values}).set_index('states')\n",
    "df_table = df_table.sort_values(by = ['Cases','Deaths'], ascending = [False, False])\n",
    "df_table = df_table.reset_index()\n",
    "df_table.head()"
   ]
  },
  {
   "cell_type": "code",
   "execution_count": 12,
   "metadata": {
    "execution": {
     "iopub.execute_input": "2020-10-18T08:27:38.600247Z",
     "iopub.status.busy": "2020-10-18T08:27:38.599772Z",
     "iopub.status.idle": "2020-10-18T08:27:38.607934Z",
     "shell.execute_reply": "2020-10-18T08:27:38.607468Z"
    },
    "papermill": {
     "duration": 0.029693,
     "end_time": "2020-10-18T08:27:38.608056",
     "exception": false,
     "start_time": "2020-10-18T08:27:38.578363",
     "status": "completed"
    },
    "tags": []
   },
   "outputs": [],
   "source": [
    "#hide\n",
    "for c in 'Cases, Deaths'.split(', '):\n",
    "    df_table[f'{c} (+)'] = (df_table[c] - df_table[f'P{c}']).clip(0)\n",
    "df_table['Fatality Rate'] = (100* df_table['Deaths']/ df_table['Cases']).round(2)"
   ]
  },
  {
   "cell_type": "code",
   "execution_count": 13,
   "metadata": {
    "execution": {
     "iopub.execute_input": "2020-10-18T08:27:38.649122Z",
     "iopub.status.busy": "2020-10-18T08:27:38.648551Z",
     "iopub.status.idle": "2020-10-18T08:27:38.650982Z",
     "shell.execute_reply": "2020-10-18T08:27:38.651448Z"
    },
    "papermill": {
     "duration": 0.027982,
     "end_time": "2020-10-18T08:27:38.651578",
     "exception": false,
     "start_time": "2020-10-18T08:27:38.623596",
     "status": "completed"
    },
    "tags": []
   },
   "outputs": [
    {
     "data": {
      "text/html": [
       "<div>\n",
       "<style scoped>\n",
       "    .dataframe tbody tr th:only-of-type {\n",
       "        vertical-align: middle;\n",
       "    }\n",
       "\n",
       "    .dataframe tbody tr th {\n",
       "        vertical-align: top;\n",
       "    }\n",
       "\n",
       "    .dataframe thead th {\n",
       "        text-align: right;\n",
       "    }\n",
       "</style>\n",
       "<table border=\"1\" class=\"dataframe\">\n",
       "  <thead>\n",
       "    <tr style=\"text-align: right;\">\n",
       "      <th></th>\n",
       "      <th>states</th>\n",
       "      <th>Cases</th>\n",
       "      <th>Deaths</th>\n",
       "      <th>PCases</th>\n",
       "      <th>PDeaths</th>\n",
       "      <th>Cases (+)</th>\n",
       "      <th>Deaths (+)</th>\n",
       "      <th>Fatality Rate</th>\n",
       "    </tr>\n",
       "  </thead>\n",
       "  <tbody>\n",
       "    <tr>\n",
       "      <th>0</th>\n",
       "      <td>Maharashtra</td>\n",
       "      <td>1586321</td>\n",
       "      <td>41965</td>\n",
       "      <td>1586321</td>\n",
       "      <td>41965</td>\n",
       "      <td>0</td>\n",
       "      <td>0</td>\n",
       "      <td>2.65</td>\n",
       "    </tr>\n",
       "    <tr>\n",
       "      <th>1</th>\n",
       "      <td>Andhra Pradesh</td>\n",
       "      <td>779146</td>\n",
       "      <td>6406</td>\n",
       "      <td>779146</td>\n",
       "      <td>6406</td>\n",
       "      <td>0</td>\n",
       "      <td>0</td>\n",
       "      <td>0.82</td>\n",
       "    </tr>\n",
       "    <tr>\n",
       "      <th>2</th>\n",
       "      <td>Karnataka</td>\n",
       "      <td>758574</td>\n",
       "      <td>10427</td>\n",
       "      <td>758574</td>\n",
       "      <td>10427</td>\n",
       "      <td>0</td>\n",
       "      <td>0</td>\n",
       "      <td>1.37</td>\n",
       "    </tr>\n",
       "    <tr>\n",
       "      <th>3</th>\n",
       "      <td>Tamil Nadu</td>\n",
       "      <td>683486</td>\n",
       "      <td>10586</td>\n",
       "      <td>683486</td>\n",
       "      <td>10586</td>\n",
       "      <td>0</td>\n",
       "      <td>0</td>\n",
       "      <td>1.55</td>\n",
       "    </tr>\n",
       "    <tr>\n",
       "      <th>4</th>\n",
       "      <td>Uttar Pradesh</td>\n",
       "      <td>452660</td>\n",
       "      <td>6629</td>\n",
       "      <td>452660</td>\n",
       "      <td>6629</td>\n",
       "      <td>0</td>\n",
       "      <td>0</td>\n",
       "      <td>1.46</td>\n",
       "    </tr>\n",
       "  </tbody>\n",
       "</table>\n",
       "</div>"
      ],
      "text/plain": [
       "           states    Cases  Deaths   PCases  PDeaths  Cases (+)  Deaths (+)  \\\n",
       "0     Maharashtra  1586321   41965  1586321    41965          0           0   \n",
       "1  Andhra Pradesh   779146    6406   779146     6406          0           0   \n",
       "2       Karnataka   758574   10427   758574    10427          0           0   \n",
       "3      Tamil Nadu   683486   10586   683486    10586          0           0   \n",
       "4   Uttar Pradesh   452660    6629   452660     6629          0           0   \n",
       "\n",
       "   Fatality Rate  \n",
       "0           2.65  \n",
       "1           0.82  \n",
       "2           1.37  \n",
       "3           1.55  \n",
       "4           1.46  "
      ]
     },
     "execution_count": 13,
     "metadata": {},
     "output_type": "execute_result"
    }
   ],
   "source": [
    "#hide\n",
    "df_table.head()"
   ]
  },
  {
   "cell_type": "code",
   "execution_count": 14,
   "metadata": {
    "execution": {
     "iopub.execute_input": "2020-10-18T08:27:38.689316Z",
     "iopub.status.busy": "2020-10-18T08:27:38.688748Z",
     "iopub.status.idle": "2020-10-18T08:27:38.704394Z",
     "shell.execute_reply": "2020-10-18T08:27:38.704863Z"
    },
    "papermill": {
     "duration": 0.037958,
     "end_time": "2020-10-18T08:27:38.704992",
     "exception": false,
     "start_time": "2020-10-18T08:27:38.667034",
     "status": "completed"
    },
    "tags": []
   },
   "outputs": [
    {
     "data": {
      "text/plain": [
       "{'updated': '2020-10-18',\n",
       " 'since': '2020-10-17',\n",
       " 'Cases': 7494746,\n",
       " 'PCases': 7492727,\n",
       " 'Deaths': 114078,\n",
       " 'PDeaths': 114064,\n",
       " 'Cases (+)': 2019,\n",
       " 'Deaths (+)': 14}"
      ]
     },
     "execution_count": 14,
     "metadata": {},
     "output_type": "execute_result"
    }
   ],
   "source": [
    "#hide\n",
    "summary = {'updated':dates[-1], 'since':dates[-2]}\n",
    "list_names = ['Cases', 'PCases', 'Deaths', 'PDeaths', 'Cases (+)', 'Deaths (+)']\n",
    "for name in list_names:\n",
    "    summary[name] = df_table.sum()[name]\n",
    "summary"
   ]
  },
  {
   "cell_type": "code",
   "execution_count": 15,
   "metadata": {
    "execution": {
     "iopub.execute_input": "2020-10-18T08:27:38.742500Z",
     "iopub.status.busy": "2020-10-18T08:27:38.741882Z",
     "iopub.status.idle": "2020-10-18T08:27:38.743701Z",
     "shell.execute_reply": "2020-10-18T08:27:38.744139Z"
    },
    "papermill": {
     "duration": 0.023181,
     "end_time": "2020-10-18T08:27:38.744271",
     "exception": false,
     "start_time": "2020-10-18T08:27:38.721090",
     "status": "completed"
    },
    "tags": []
   },
   "outputs": [],
   "source": [
    "#hide\n",
    "overview = '''\n",
    "<!-- #######  HTML!! #########-->\n",
    "<h1 style=\"color: #5e9ca0; text-align: center;\">India</h1>\n",
    "<p style=\"text-align: center;\">Last update: <strong>{update}</strong></p>\n",
    "<p style=\"text-align: center;\">Confirmed cases:</p>\n",
    "<p style=\"text-align: center;font-size:24px;\">{cases} (<span style=\"color: #ff0000;\">+{new}</span>)</p>\n",
    "<p style=\"text-align: center;\">Confirmed deaths:</p>\n",
    "<p style=\"text-align: center;font-size:24px;\">{deaths} (<span style=\"color: #ff0000;\">+{dnew}</span>)</p>\n",
    "'''"
   ]
  },
  {
   "cell_type": "code",
   "execution_count": 16,
   "metadata": {
    "execution": {
     "iopub.execute_input": "2020-10-18T08:27:38.781963Z",
     "iopub.status.busy": "2020-10-18T08:27:38.781388Z",
     "iopub.status.idle": "2020-10-18T08:27:38.783991Z",
     "shell.execute_reply": "2020-10-18T08:27:38.784431Z"
    },
    "papermill": {
     "duration": 0.024175,
     "end_time": "2020-10-18T08:27:38.784566",
     "exception": false,
     "start_time": "2020-10-18T08:27:38.760391",
     "status": "completed"
    },
    "tags": []
   },
   "outputs": [
    {
     "data": {
      "text/html": [
       "\n",
       "<!-- #######  HTML!! #########-->\n",
       "<h1 style=\"color: #5e9ca0; text-align: center;\">India</h1>\n",
       "<p style=\"text-align: center;\">Last update: <strong>2020-10-18</strong></p>\n",
       "<p style=\"text-align: center;\">Confirmed cases:</p>\n",
       "<p style=\"text-align: center;font-size:24px;\">7494746 (<span style=\"color: #ff0000;\">+2019</span>)</p>\n",
       "<p style=\"text-align: center;\">Confirmed deaths:</p>\n",
       "<p style=\"text-align: center;font-size:24px;\">114078 (<span style=\"color: #ff0000;\">+14</span>)</p>\n"
      ],
      "text/plain": [
       "<IPython.core.display.HTML object>"
      ]
     },
     "metadata": {},
     "output_type": "display_data"
    }
   ],
   "source": [
    "#hide_input\n",
    "update = summary['updated']\n",
    "cases = summary['Cases']\n",
    "new = summary['Cases (+)']\n",
    "deaths = summary['Deaths']\n",
    "dnew = summary['Deaths (+)']\n",
    "\n",
    "html = HTML(overview.format(update=update, cases=cases,new=new,deaths=deaths,dnew=dnew))\n",
    "\n",
    "display(html)"
   ]
  },
  {
   "cell_type": "code",
   "execution_count": 17,
   "metadata": {
    "execution": {
     "iopub.execute_input": "2020-10-18T08:27:38.825347Z",
     "iopub.status.busy": "2020-10-18T08:27:38.824762Z",
     "iopub.status.idle": "2020-10-18T08:27:38.830667Z",
     "shell.execute_reply": "2020-10-18T08:27:38.830157Z"
    },
    "papermill": {
     "duration": 0.029354,
     "end_time": "2020-10-18T08:27:38.830783",
     "exception": false,
     "start_time": "2020-10-18T08:27:38.801429",
     "status": "completed"
    },
    "tags": []
   },
   "outputs": [],
   "source": [
    "#hide\n",
    "dt_cols = list(dft_cases.columns[1:])\n",
    "dft_ct_new_cases = dft_cases.groupby('state')[dt_cols].sum().diff(axis=1).fillna(0).astype(int)\n",
    "dft_ct_new_cases.sort_values(by = dates[-1], ascending = False,inplace = True)"
   ]
  },
  {
   "cell_type": "code",
   "execution_count": 18,
   "metadata": {
    "execution": {
     "iopub.execute_input": "2020-10-18T08:27:38.882715Z",
     "iopub.status.busy": "2020-10-18T08:27:38.878250Z",
     "iopub.status.idle": "2020-10-18T08:27:38.885551Z",
     "shell.execute_reply": "2020-10-18T08:27:38.886053Z"
    },
    "papermill": {
     "duration": 0.03892,
     "end_time": "2020-10-18T08:27:38.886208",
     "exception": false,
     "start_time": "2020-10-18T08:27:38.847288",
     "status": "completed"
    },
    "tags": []
   },
   "outputs": [
    {
     "data": {
      "text/html": [
       "<div>\n",
       "<style scoped>\n",
       "    .dataframe tbody tr th:only-of-type {\n",
       "        vertical-align: middle;\n",
       "    }\n",
       "\n",
       "    .dataframe tbody tr th {\n",
       "        vertical-align: top;\n",
       "    }\n",
       "\n",
       "    .dataframe thead th {\n",
       "        text-align: right;\n",
       "    }\n",
       "</style>\n",
       "<table border=\"1\" class=\"dataframe\">\n",
       "  <thead>\n",
       "    <tr style=\"text-align: right;\">\n",
       "      <th>states</th>\n",
       "      <th>2020-07-01</th>\n",
       "      <th>2020-07-02</th>\n",
       "      <th>2020-07-03</th>\n",
       "      <th>2020-07-04</th>\n",
       "      <th>2020-07-05</th>\n",
       "      <th>2020-07-06</th>\n",
       "      <th>2020-07-07</th>\n",
       "      <th>2020-07-08</th>\n",
       "      <th>2020-07-09</th>\n",
       "      <th>2020-07-10</th>\n",
       "      <th>...</th>\n",
       "      <th>2020-10-09</th>\n",
       "      <th>2020-10-10</th>\n",
       "      <th>2020-10-11</th>\n",
       "      <th>2020-10-12</th>\n",
       "      <th>2020-10-13</th>\n",
       "      <th>2020-10-14</th>\n",
       "      <th>2020-10-15</th>\n",
       "      <th>2020-10-16</th>\n",
       "      <th>2020-10-17</th>\n",
       "      <th>2020-10-18</th>\n",
       "    </tr>\n",
       "    <tr>\n",
       "      <th>state</th>\n",
       "      <th></th>\n",
       "      <th></th>\n",
       "      <th></th>\n",
       "      <th></th>\n",
       "      <th></th>\n",
       "      <th></th>\n",
       "      <th></th>\n",
       "      <th></th>\n",
       "      <th></th>\n",
       "      <th></th>\n",
       "      <th></th>\n",
       "      <th></th>\n",
       "      <th></th>\n",
       "      <th></th>\n",
       "      <th></th>\n",
       "      <th></th>\n",
       "      <th></th>\n",
       "      <th></th>\n",
       "      <th></th>\n",
       "      <th></th>\n",
       "      <th></th>\n",
       "    </tr>\n",
       "  </thead>\n",
       "  <tbody>\n",
       "    <tr>\n",
       "      <th>Odisha</th>\n",
       "      <td>0</td>\n",
       "      <td>229</td>\n",
       "      <td>561</td>\n",
       "      <td>495</td>\n",
       "      <td>469</td>\n",
       "      <td>456</td>\n",
       "      <td>571</td>\n",
       "      <td>527</td>\n",
       "      <td>577</td>\n",
       "      <td>755</td>\n",
       "      <td>...</td>\n",
       "      <td>2697</td>\n",
       "      <td>2854</td>\n",
       "      <td>2546</td>\n",
       "      <td>2423</td>\n",
       "      <td>2275</td>\n",
       "      <td>2604</td>\n",
       "      <td>2470</td>\n",
       "      <td>2138</td>\n",
       "      <td>2196</td>\n",
       "      <td>2019</td>\n",
       "    </tr>\n",
       "    <tr>\n",
       "      <th>Andaman and Nicobar Islands</th>\n",
       "      <td>0</td>\n",
       "      <td>9</td>\n",
       "      <td>7</td>\n",
       "      <td>3</td>\n",
       "      <td>6</td>\n",
       "      <td>16</td>\n",
       "      <td>6</td>\n",
       "      <td>2</td>\n",
       "      <td>7</td>\n",
       "      <td>0</td>\n",
       "      <td>...</td>\n",
       "      <td>24</td>\n",
       "      <td>16</td>\n",
       "      <td>13</td>\n",
       "      <td>18</td>\n",
       "      <td>13</td>\n",
       "      <td>10</td>\n",
       "      <td>16</td>\n",
       "      <td>10</td>\n",
       "      <td>11</td>\n",
       "      <td>0</td>\n",
       "    </tr>\n",
       "    <tr>\n",
       "      <th>Andhra Pradesh</th>\n",
       "      <td>0</td>\n",
       "      <td>845</td>\n",
       "      <td>837</td>\n",
       "      <td>765</td>\n",
       "      <td>998</td>\n",
       "      <td>1322</td>\n",
       "      <td>1178</td>\n",
       "      <td>1062</td>\n",
       "      <td>1555</td>\n",
       "      <td>1608</td>\n",
       "      <td>...</td>\n",
       "      <td>5145</td>\n",
       "      <td>5653</td>\n",
       "      <td>5210</td>\n",
       "      <td>3224</td>\n",
       "      <td>4622</td>\n",
       "      <td>3892</td>\n",
       "      <td>4038</td>\n",
       "      <td>3967</td>\n",
       "      <td>3676</td>\n",
       "      <td>0</td>\n",
       "    </tr>\n",
       "    <tr>\n",
       "      <th>Maharashtra</th>\n",
       "      <td>0</td>\n",
       "      <td>6328</td>\n",
       "      <td>6364</td>\n",
       "      <td>7074</td>\n",
       "      <td>6555</td>\n",
       "      <td>5368</td>\n",
       "      <td>5134</td>\n",
       "      <td>6603</td>\n",
       "      <td>6875</td>\n",
       "      <td>7862</td>\n",
       "      <td>...</td>\n",
       "      <td>12134</td>\n",
       "      <td>11416</td>\n",
       "      <td>10792</td>\n",
       "      <td>7089</td>\n",
       "      <td>8522</td>\n",
       "      <td>10552</td>\n",
       "      <td>10226</td>\n",
       "      <td>11447</td>\n",
       "      <td>10259</td>\n",
       "      <td>0</td>\n",
       "    </tr>\n",
       "    <tr>\n",
       "      <th>Manipur</th>\n",
       "      <td>0</td>\n",
       "      <td>19</td>\n",
       "      <td>37</td>\n",
       "      <td>9</td>\n",
       "      <td>41</td>\n",
       "      <td>24</td>\n",
       "      <td>40</td>\n",
       "      <td>5</td>\n",
       "      <td>15</td>\n",
       "      <td>132</td>\n",
       "      <td>...</td>\n",
       "      <td>131</td>\n",
       "      <td>282</td>\n",
       "      <td>234</td>\n",
       "      <td>230</td>\n",
       "      <td>237</td>\n",
       "      <td>301</td>\n",
       "      <td>284</td>\n",
       "      <td>337</td>\n",
       "      <td>426</td>\n",
       "      <td>0</td>\n",
       "    </tr>\n",
       "  </tbody>\n",
       "</table>\n",
       "<p>5 rows × 110 columns</p>\n",
       "</div>"
      ],
      "text/plain": [
       "states                       2020-07-01  2020-07-02  2020-07-03  2020-07-04  \\\n",
       "state                                                                         \n",
       "Odisha                                0         229         561         495   \n",
       "Andaman and Nicobar Islands           0           9           7           3   \n",
       "Andhra Pradesh                        0         845         837         765   \n",
       "Maharashtra                           0        6328        6364        7074   \n",
       "Manipur                               0          19          37           9   \n",
       "\n",
       "states                       2020-07-05  2020-07-06  2020-07-07  2020-07-08  \\\n",
       "state                                                                         \n",
       "Odisha                              469         456         571         527   \n",
       "Andaman and Nicobar Islands           6          16           6           2   \n",
       "Andhra Pradesh                      998        1322        1178        1062   \n",
       "Maharashtra                        6555        5368        5134        6603   \n",
       "Manipur                              41          24          40           5   \n",
       "\n",
       "states                       2020-07-09  2020-07-10  ...  2020-10-09  \\\n",
       "state                                                ...               \n",
       "Odisha                              577         755  ...        2697   \n",
       "Andaman and Nicobar Islands           7           0  ...          24   \n",
       "Andhra Pradesh                     1555        1608  ...        5145   \n",
       "Maharashtra                        6875        7862  ...       12134   \n",
       "Manipur                              15         132  ...         131   \n",
       "\n",
       "states                       2020-10-10  2020-10-11  2020-10-12  2020-10-13  \\\n",
       "state                                                                         \n",
       "Odisha                             2854        2546        2423        2275   \n",
       "Andaman and Nicobar Islands          16          13          18          13   \n",
       "Andhra Pradesh                     5653        5210        3224        4622   \n",
       "Maharashtra                       11416       10792        7089        8522   \n",
       "Manipur                             282         234         230         237   \n",
       "\n",
       "states                       2020-10-14  2020-10-15  2020-10-16  2020-10-17  \\\n",
       "state                                                                         \n",
       "Odisha                             2604        2470        2138        2196   \n",
       "Andaman and Nicobar Islands          10          16          10          11   \n",
       "Andhra Pradesh                     3892        4038        3967        3676   \n",
       "Maharashtra                       10552       10226       11447       10259   \n",
       "Manipur                             301         284         337         426   \n",
       "\n",
       "states                       2020-10-18  \n",
       "state                                    \n",
       "Odisha                             2019  \n",
       "Andaman and Nicobar Islands           0  \n",
       "Andhra Pradesh                        0  \n",
       "Maharashtra                           0  \n",
       "Manipur                               0  \n",
       "\n",
       "[5 rows x 110 columns]"
      ]
     },
     "execution_count": 18,
     "metadata": {},
     "output_type": "execute_result"
    }
   ],
   "source": [
    "#hide\n",
    "dft_ct_new_cases.head()"
   ]
  },
  {
   "cell_type": "code",
   "execution_count": 19,
   "metadata": {
    "execution": {
     "iopub.execute_input": "2020-10-18T08:27:38.924188Z",
     "iopub.status.busy": "2020-10-18T08:27:38.923577Z",
     "iopub.status.idle": "2020-10-18T08:27:42.983040Z",
     "shell.execute_reply": "2020-10-18T08:27:42.983496Z"
    },
    "papermill": {
     "duration": 4.07976,
     "end_time": "2020-10-18T08:27:42.983655",
     "exception": false,
     "start_time": "2020-10-18T08:27:38.903895",
     "status": "completed"
    },
    "tags": []
   },
   "outputs": [
    {
     "data": {
      "image/png": "[encoded data removed]",
      "text/plain": [
       "<Figure size 1296x2016 with 11 Axes>"
      ]
     },
     "metadata": {
      "needs_background": "light"
     },
     "output_type": "display_data"
    }
   ],
   "source": [
    "#hide_input\n",
    "df = dft_ct_new_cases.copy()\n",
    "df.loc['Total'] = df.sum()\n",
    "n = 5\n",
    "ax = []\n",
    "fig = plt.figure(figsize = (18,28))\n",
    "gs = fig.add_gridspec(n+2, 5)\n",
    "# gs = fig.add_gridspec(2, 3)\n",
    "ax1 = fig.add_subplot(gs[0, :])\n",
    "ef = df.loc['Total'].rename_axis('date').reset_index()\n",
    "ef['date'] = ef['date'].astype('datetime64[ns]')\n",
    "ax1.bar(ef.date,ef.Total,alpha=0.3,color='#007acc')\n",
    "ax1.plot(ef.date,ef.Total , marker=\"o\", color='#007acc')\n",
    "ax1.xaxis.set_major_locator(mdates.WeekdayLocator())\n",
    "ax1.xaxis.set_major_formatter(mdates.DateFormatter('%b %d'))\n",
    "ax1.text(0.02, 0.5,'India daily case count', transform = ax1.transAxes, fontsize=25);\n",
    "ax1.spines['right'].set_visible(False)\n",
    "ax1.spines['top'].set_visible(False)\n",
    "\n",
    "ax2 = fig.add_subplot(gs[1,0])\n",
    "ef = df.loc['Maharashtra'].rename_axis('date').reset_index()\n",
    "ef['date'] = ef['date'].astype('datetime64[ns]')\n",
    "\n",
    "ax2.bar(ef.date, ef.Maharashtra,color = '#007acc',alpha=0.5)\n",
    "ax2.xaxis.set_major_locator(mdates.WeekdayLocator())\n",
    "ax2.xaxis.set_major_formatter(mdates.DateFormatter('%b %d'))\n",
    "ax2.set_xticks(ax2.get_xticks()[::3])\n",
    "maxyval = ef.Maharashtra.max()\n",
    "ax2.set_ylim([0,maxyval])\n",
    "ax2.text(0.05, 0.9,'Maharashtra', transform = ax2.transAxes, fontsize=20);\n",
    "ax2.spines['right'].set_visible(False)\n",
    "ax2.spines['top'].set_visible(False)\n",
    "\n",
    "\n",
    "ax3 = fig.add_subplot(gs[1,1])\n",
    "ef = df.loc['Tamil Nadu'].rename_axis('date').reset_index()\n",
    "ef['date'] = ef['date'].astype('datetime64[ns]')\n",
    "ax3.bar(ef.date, ef['Tamil Nadu'],color = '#007acc',alpha=0.5,)\n",
    "ax3.xaxis.set_major_locator(mdates.WeekdayLocator())\n",
    "ax3.xaxis.set_major_formatter(mdates.DateFormatter('%b %d'))\n",
    "ax3.set_xticks(ax3.get_xticks()[::3])\n",
    "ax3.text(0.05, 0.9,'Tamil Nadu', transform = ax3.transAxes, fontsize=20);\n",
    "ax3.spines['right'].set_visible(False)\n",
    "ax3.spines['top'].set_visible(False)\n",
    "\n",
    "ax5 = fig.add_subplot(gs[1,3])\n",
    "ef = df.loc['Telangana'].rename_axis('date').reset_index()\n",
    "ef['date'] = ef['date'].astype('datetime64[ns]')\n",
    "ax5.bar(ef.date, ef['Telangana'],color = '#007acc',alpha=0.5,)\n",
    "ax5.xaxis.set_major_locator(mdates.WeekdayLocator())\n",
    "ax5.xaxis.set_major_formatter(mdates.DateFormatter('%b %d'))\n",
    "ax5.set_xticks(ax5.get_xticks()[::3])\n",
    "ax5.text(0.05, 0.9,'Telangana', transform = ax5.transAxes, fontsize=20);\n",
    "ax5.spines['right'].set_visible(False)\n",
    "ax5.spines['top'].set_visible(False)\n",
    "\n",
    "ax6 = fig.add_subplot(gs[1,4])\n",
    "ef = df.loc['Andhra Pradesh'].rename_axis('date').reset_index()\n",
    "ef['date'] = ef['date'].astype('datetime64[ns]')\n",
    "ax6.bar(ef.date, ef['Andhra Pradesh'],color = '#007acc',alpha=0.5,)\n",
    "ax6.xaxis.set_major_locator(mdates.WeekdayLocator())\n",
    "ax6.xaxis.set_major_formatter(mdates.DateFormatter('%b %d'))\n",
    "ax6.set_xticks(ax6.get_xticks()[::3])\n",
    "ax6.text(0.05, 1,'Andhra Pradesh', transform = ax6.transAxes, fontsize=20);\n",
    "ax6.spines['right'].set_visible(False)\n",
    "ax6.spines['top'].set_visible(False)\n",
    "\n",
    "ax4 = fig.add_subplot(gs[1,2])\n",
    "ef = df.loc['Delhi'].rename_axis('date').reset_index()\n",
    "ef['date'] = ef['date'].astype('datetime64[ns]')\n",
    "ax4.bar(ef.date, ef.Delhi,color = '#007acc',alpha=0.5)\n",
    "ax4.set_xticks([])\n",
    "ax4.xaxis.set_major_locator(mdates.WeekdayLocator())\n",
    "ax4.xaxis.set_major_formatter(mdates.DateFormatter('%b %d'))\n",
    "ax4.set_xticks(ax4.get_xticks()[::3])\n",
    "ax4.spines['right'].set_visible(False)\n",
    "ax4.spines['top'].set_visible(False)\n",
    "\n",
    "ax4.text(0.05, 1,'Delhi', transform = ax4.transAxes, fontsize=20)\n",
    "\n",
    "for i in range(n):\n",
    "    \n",
    "    ax.append(fig.add_subplot(gs[i+2,:]))\n",
    "    ef = df.iloc[i+3].rename_axis('date').reset_index()\n",
    "    ef['date'] = ef['date'].astype('datetime64[ns]')\n",
    "    ax[i].bar(ef.date,ef.iloc[:,-1],color = '#007acc',alpha=0.3)\n",
    "    ax[i].plot(ef.date,ef.iloc[:,-1],marker='o',color='#007acc')\n",
    "    ax[i].text(0.02,0.5,f'{ef.columns.values[-1]}',transform = ax[i].transAxes, fontsize = 20);\n",
    "    ax[i].xaxis.set_major_locator(mdates.WeekdayLocator())\n",
    "    ax[i].xaxis.set_major_formatter(mdates.DateFormatter('%b %d'))\n",
    "    ax[i].set_ylim([0,7000])\n",
    "    ax[i].spines['right'].set_visible(False)\n",
    "    ax[i].spines['top'].set_visible(False)\n",
    "plt.tight_layout()\n"
   ]
  },
  {
   "cell_type": "code",
   "execution_count": 20,
   "metadata": {
    "execution": {
     "iopub.execute_input": "2020-10-18T08:27:43.039964Z",
     "iopub.status.busy": "2020-10-18T08:27:43.039359Z",
     "iopub.status.idle": "2020-10-18T08:27:43.041467Z",
     "shell.execute_reply": "2020-10-18T08:27:43.041965Z"
    },
    "papermill": {
     "duration": 0.036331,
     "end_time": "2020-10-18T08:27:43.042134",
     "exception": false,
     "start_time": "2020-10-18T08:27:43.005803",
     "status": "completed"
    },
    "tags": []
   },
   "outputs": [
    {
     "name": "stdout",
     "output_type": "stream",
     "text": [
      "                                   states    Cases  Deaths   PCases  PDeaths  Cases (+)  Deaths (+)  Fatality Rate\n",
      "                              Maharashtra  1586321   41965  1586321    41965          0           0           2.65\n",
      "                           Andhra Pradesh   779146    6406   779146     6406          0           0           0.82\n",
      "                                Karnataka   758574   10427   758574    10427          0           0           1.37\n",
      "                               Tamil Nadu   683486   10586   683486    10586          0           0           1.55\n",
      "                            Uttar Pradesh   452660    6629   452660     6629          0           0           1.46\n",
      "                                   Kerala   334229    1140   334229     1140          0           0           0.34\n",
      "                                    Delhi   327718    5981   327718     5981          0           0           1.83\n",
      "                              West Bengal   317053    5992   317053     5992          0           0           1.89\n",
      "                                   Odisha   268364    1188   266345     1174       2019          14           0.44\n",
      "                                Telangana   220675    1265   220675     1265          0           0           0.57\n",
      "                                    Bihar   203060     990   203060      990          0           0           0.49\n",
      "                                    Assam   200391     865   200391      865          0           0           0.43\n",
      "                                Rajasthan   171281    1735   171281     1735          0           0           1.01\n",
      "                           Madhya Pradesh   159158    2753   159158     2753          0           0           1.73\n",
      "                                  Gujarat   158635    3629   158635     3629          0           0           2.29\n",
      "                             Chhattisgarh   158502    1439   158502     1439          0           0           0.91\n",
      "                                  Haryana   149081    1640   149081     1640          0           0           1.10\n",
      "                                   Punjab   127154    3999   127154     3999          0           0           3.15\n",
      "                                Jharkhand    95967     832    95967      832          0           0           0.87\n",
      "                        Jammu and Kashmir    87364    1372    87364     1372          0           0           1.57\n",
      "                              Uttarakhand    57648     924    57648      924          0           0           1.60\n",
      "                                      Goa    40400     538    40400      538          0           0           1.33\n",
      "                               Puducherry    32978     574    32978      574          0           0           1.74\n",
      "                                  Tripura    29324     323    29324      323          0           0           1.10\n",
      "                         Himachal Pradesh    18797     260    18797      260          0           0           1.38\n",
      "                                  Manipur    15141     111    15141      111          0           0           0.73\n",
      "                               Chandigarh    13582     207    13582      207          0           0           1.52\n",
      "                        Arunachal Pradesh    13348      30    13348       30          0           0           0.22\n",
      "                                Meghalaya     8404      75     8404       75          0           0           0.89\n",
      "                                 Nagaland     7698      21     7698       21          0           0           0.27\n",
      "                                   Ladakh     5534      65     5534       65          0           0           1.17\n",
      "              Andaman and Nicobar Islands     4083      56     4083       56          0           0           1.37\n",
      "                                   Sikkim     3567      59     3567       59          0           0           1.65\n",
      " Dadra and Nagar Haveli and Daman and Diu     3178       2     3178        2          0           0           0.06\n",
      "                                  Mizoram     2245       0     2245        0          0           0           0.00\n",
      "                              Lakshadweep        0       0        0        0          0           0            NaN\n"
     ]
    }
   ],
   "source": [
    "#hide_input\n",
    "print(df_table.to_string(index=False))"
   ]
  },
  {
   "cell_type": "code",
   "execution_count": null,
   "metadata": {
    "papermill": {
     "duration": 0.021509,
     "end_time": "2020-10-18T08:27:43.085636",
     "exception": false,
     "start_time": "2020-10-18T08:27:43.064127",
     "status": "completed"
    },
    "tags": []
   },
   "outputs": [],
   "source": []
  },
  {
   "cell_type": "code",
   "execution_count": null,
   "metadata": {
    "papermill": {
     "duration": 0.020794,
     "end_time": "2020-10-18T08:27:43.127265",
     "exception": false,
     "start_time": "2020-10-18T08:27:43.106471",
     "status": "completed"
    },
    "tags": []
   },
   "outputs": [],
   "source": []
  }
 ],
 "metadata": {
  "kernelspec": {
   "display_name": "Python 3",
   "language": "python",
   "name": "python3"
  },
  "language_info": {
   "codemirror_mode": {
    "name": "ipython",
    "version": 3
   },
   "file_extension": ".py",
   "mimetype": "text/x-python",
   "name": "python",
   "nbconvert_exporter": "python",
   "pygments_lexer": "ipython3",
   "version": "3.6.12"
  },
  "papermill": {
   "duration": 11.326965,
   "end_time": "2020-10-18T08:27:44.508075",
   "environment_variables": {},
   "exception": null,
   "input_path": "latest.ipynb",
   "output_path": "latest.ipynb",
   "parameters": {},
   "start_time": "2020-10-18T08:27:33.181110",
   "version": "2.1.2"
  }
 },
 "nbformat": 4,
 "nbformat_minor": 4
}