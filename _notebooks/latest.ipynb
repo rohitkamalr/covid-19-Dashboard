{
 "cells": [
  {
   "cell_type": "markdown",
   "metadata": {
    "papermill": {
     "duration": 0.020064,
     "end_time": "2020-08-26T13:37:30.182502",
     "exception": false,
     "start_time": "2020-08-26T13:37:30.162438",
     "status": "completed"
    },
    "tags": []
   },
   "source": [
    "# Latest COVID-19 India Matplotlib Overview"
   ]
  },
  {
   "cell_type": "code",
   "execution_count": 1,
   "metadata": {
    "execution": {
     "iopub.execute_input": "2020-08-26T13:37:30.220603Z",
     "iopub.status.busy": "2020-08-26T13:37:30.219990Z",
     "iopub.status.idle": "2020-08-26T13:37:30.792891Z",
     "shell.execute_reply": "2020-08-26T13:37:30.791353Z"
    },
    "papermill": {
     "duration": 0.59467,
     "end_time": "2020-08-26T13:37:30.793055",
     "exception": false,
     "start_time": "2020-08-26T13:37:30.198385",
     "status": "completed"
    },
    "tags": []
   },
   "outputs": [],
   "source": [
    "#hide\n",
    "import pandas as pd\n",
    "import numpy as np\n",
    "import requests\n",
    "import json\n",
    "import matplotlib.pyplot as plt\n",
    "import matplotlib.dates as mdates\n",
    "import matplotlib as mpl\n",
    "from IPython.core.display import display,HTML\n",
    "%matplotlib inline\n",
    "from datetime import date"
   ]
  },
  {
   "cell_type": "code",
   "execution_count": 2,
   "metadata": {
    "execution": {
     "iopub.execute_input": "2020-08-26T13:37:30.830938Z",
     "iopub.status.busy": "2020-08-26T13:37:30.829966Z",
     "iopub.status.idle": "2020-08-26T13:37:30.962885Z",
     "shell.execute_reply": "2020-08-26T13:37:30.961966Z"
    },
    "papermill": {
     "duration": 0.154727,
     "end_time": "2020-08-26T13:37:30.963247",
     "exception": false,
     "start_time": "2020-08-26T13:37:30.808520",
     "status": "completed"
    },
    "tags": []
   },
   "outputs": [],
   "source": [
    "#hide\n",
    "df  = pd.read_csv('https://api.covid19india.org/csv/latest/states.csv')\n",
    "df = df[['Date','State','Confirmed','Deceased']]\n",
    "df = df.rename(columns={'Confirmed':'Cases', \"Deceased\":'Deaths'})\n",
    "df_cases = df[[\"Date\",'State','Cases']]\n",
    "df_deaths = df[['Date','State','Deaths']]\n",
    "df_cases1 = df_cases.groupby('Date')\n",
    "df_deaths1= df_deaths.groupby('Date')"
   ]
  },
  {
   "cell_type": "code",
   "execution_count": 3,
   "metadata": {
    "execution": {
     "iopub.execute_input": "2020-08-26T13:37:31.003300Z",
     "iopub.status.busy": "2020-08-26T13:37:31.002716Z",
     "iopub.status.idle": "2020-08-26T13:37:31.022306Z",
     "shell.execute_reply": "2020-08-26T13:37:31.021825Z"
    },
    "papermill": {
     "duration": 0.041821,
     "end_time": "2020-08-26T13:37:31.022439",
     "exception": false,
     "start_time": "2020-08-26T13:37:30.980618",
     "status": "completed"
    },
    "tags": []
   },
   "outputs": [],
   "source": [
    "#hide\n",
    "df_snap = pd.read_csv('data/SnapshotCases-28-July.csv')\n",
    "arr_states = df_snap['states'].unique()\n",
    "arr_dates = df['Date'].unique()\n",
    "df_snap = df_snap.set_index('states')"
   ]
  },
  {
   "cell_type": "code",
   "execution_count": 4,
   "metadata": {
    "execution": {
     "iopub.execute_input": "2020-08-26T13:37:31.066867Z",
     "iopub.status.busy": "2020-08-26T13:37:31.061314Z",
     "iopub.status.idle": "2020-08-26T13:37:31.070176Z",
     "shell.execute_reply": "2020-08-26T13:37:31.069671Z"
    },
    "papermill": {
     "duration": 0.032601,
     "end_time": "2020-08-26T13:37:31.070301",
     "exception": false,
     "start_time": "2020-08-26T13:37:31.037700",
     "status": "completed"
    },
    "tags": []
   },
   "outputs": [
    {
     "data": {
      "text/plain": [
       "array(['Andaman and Nicobar Islands', 'Andhra Pradesh',\n",
       "       'Arunachal Pradesh', 'Assam', 'Bihar', 'Chandigarh',\n",
       "       'Dadra and Nagar Haveli and Daman and Diu', 'Delhi', 'Goa',\n",
       "       'Gujarat', 'Haryana', 'Himachal Pradesh', 'Jammu and Kashmir',\n",
       "       'Jharkhand', 'Karnataka', 'Kerala', 'Lakshadweep',\n",
       "       'Madhya Pradesh', 'Maharashtra', 'Manipur', 'Meghalaya', 'Mizoram',\n",
       "       'Nagaland', 'Odisha', 'Puducherry', 'Punjab', 'Rajasthan',\n",
       "       'Sikkim', 'Tamil Nadu', 'Telangana', 'Tripura', 'Uttar Pradesh',\n",
       "       'West Bengal', 'Chhattisgarh', 'Ladakh', 'Uttarakhand'],\n",
       "      dtype=object)"
      ]
     },
     "execution_count": 4,
     "metadata": {},
     "output_type": "execute_result"
    }
   ],
   "source": [
    "#hide\n",
    "arr_states[-9] = 'Puducherry'\n",
    "arr_states[-10] = 'Odisha'\n",
    "arr_states[6] = 'Dadra and Nagar Haveli and Daman and Diu'\n",
    "arr_states = np.append(arr_states,np.array(['Chhattisgarh','Ladakh','Uttarakhand']))\n",
    "arr_states"
   ]
  },
  {
   "cell_type": "code",
   "execution_count": 5,
   "metadata": {
    "execution": {
     "iopub.execute_input": "2020-08-26T13:37:31.112526Z",
     "iopub.status.busy": "2020-08-26T13:37:31.111938Z",
     "iopub.status.idle": "2020-08-26T13:37:31.118938Z",
     "shell.execute_reply": "2020-08-26T13:37:31.118444Z"
    },
    "papermill": {
     "duration": 0.033343,
     "end_time": "2020-08-26T13:37:31.119058",
     "exception": false,
     "start_time": "2020-08-26T13:37:31.085715",
     "status": "completed"
    },
    "tags": []
   },
   "outputs": [],
   "source": [
    "#hide\n",
    "dates = []\n",
    "for i in arr_dates:\n",
    "    if i>='2020-07-01':\n",
    "        dates.append(i)\n",
    "dict = {'states':dates}\n",
    "for i in arr_states:\n",
    "    dict[i] = [0]*len(dates)\n",
    "dft_cases = pd.DataFrame(dict)\n",
    "dft_deaths = pd.DataFrame(dict)\n"
   ]
  },
  {
   "cell_type": "code",
   "execution_count": 6,
   "metadata": {
    "execution": {
     "iopub.execute_input": "2020-08-26T13:37:31.158122Z",
     "iopub.status.busy": "2020-08-26T13:37:31.157469Z",
     "iopub.status.idle": "2020-08-26T13:37:31.937551Z",
     "shell.execute_reply": "2020-08-26T13:37:31.936685Z"
    },
    "papermill": {
     "duration": 0.803435,
     "end_time": "2020-08-26T13:37:31.937787",
     "exception": false,
     "start_time": "2020-08-26T13:37:31.134352",
     "status": "completed"
    },
    "tags": []
   },
   "outputs": [],
   "source": [
    "#hide\n",
    "for i in range(len(dates)):\n",
    "    df1_deaths = df_deaths1.get_group(dates[i])\n",
    "    for j in range(len(df1_deaths.index)):\n",
    "        if df1_deaths.iloc[j,1] in arr_states:\n",
    "            dft_deaths.loc[i,df1_deaths.iloc[j,1]] = df1_deaths.iloc[j,2]\n",
    "dft_deaths = dft_deaths.set_index('states')"
   ]
  },
  {
   "cell_type": "code",
   "execution_count": 7,
   "metadata": {
    "execution": {
     "iopub.execute_input": "2020-08-26T13:37:31.981462Z",
     "iopub.status.busy": "2020-08-26T13:37:31.980862Z",
     "iopub.status.idle": "2020-08-26T13:37:32.804885Z",
     "shell.execute_reply": "2020-08-26T13:37:32.804246Z"
    },
    "papermill": {
     "duration": 0.848371,
     "end_time": "2020-08-26T13:37:32.805023",
     "exception": false,
     "start_time": "2020-08-26T13:37:31.956652",
     "status": "completed"
    },
    "tags": []
   },
   "outputs": [],
   "source": [
    "#hide\n",
    "for i in range(len(dates)):\n",
    "    df1_cases = df_cases1.get_group(dates[i])\n",
    "    for j in range(len(df1_cases.index)):\n",
    "        if df1_cases.iloc[j,1] in arr_states:\n",
    "            dft_cases.loc[i,df1_cases.iloc[j,1]] = df1_cases.iloc[j,2]\n",
    "dft_cases = dft_cases.set_index('states')"
   ]
  },
  {
   "cell_type": "code",
   "execution_count": 8,
   "metadata": {
    "execution": {
     "iopub.execute_input": "2020-08-26T13:37:32.843391Z",
     "iopub.status.busy": "2020-08-26T13:37:32.842589Z",
     "iopub.status.idle": "2020-08-26T13:37:32.844289Z",
     "shell.execute_reply": "2020-08-26T13:37:32.844960Z"
    },
    "papermill": {
     "duration": 0.02417,
     "end_time": "2020-08-26T13:37:32.845147",
     "exception": false,
     "start_time": "2020-08-26T13:37:32.820977",
     "status": "completed"
    },
    "tags": []
   },
   "outputs": [],
   "source": [
    "#hide\n",
    "dft_cases = dft_cases.T\n",
    "dft_deaths = dft_deaths.T\n",
    "dt_today = dates[-1]\n",
    "dt_yday = dates[-2]"
   ]
  },
  {
   "cell_type": "code",
   "execution_count": 9,
   "metadata": {
    "execution": {
     "iopub.execute_input": "2020-08-26T13:37:32.885673Z",
     "iopub.status.busy": "2020-08-26T13:37:32.884964Z",
     "iopub.status.idle": "2020-08-26T13:37:32.887572Z",
     "shell.execute_reply": "2020-08-26T13:37:32.887074Z"
    },
    "papermill": {
     "duration": 0.025423,
     "end_time": "2020-08-26T13:37:32.887722",
     "exception": false,
     "start_time": "2020-08-26T13:37:32.862299",
     "status": "completed"
    },
    "tags": []
   },
   "outputs": [],
   "source": [
    "#hide\n",
    "dft_cases = dft_cases.reset_index()\n",
    "dft_deaths = dft_deaths.reset_index()\n",
    "dft_cases = dft_cases.rename(columns = {'index':'state'})\n",
    "dft_deaths = dft_deaths.rename(columns = {'index':'state'})"
   ]
  },
  {
   "cell_type": "code",
   "execution_count": 10,
   "metadata": {
    "execution": {
     "iopub.execute_input": "2020-08-26T13:37:32.931060Z",
     "iopub.status.busy": "2020-08-26T13:37:32.930478Z",
     "iopub.status.idle": "2020-08-26T13:37:32.933265Z",
     "shell.execute_reply": "2020-08-26T13:37:32.932798Z"
    },
    "papermill": {
     "duration": 0.030084,
     "end_time": "2020-08-26T13:37:32.933391",
     "exception": false,
     "start_time": "2020-08-26T13:37:32.903307",
     "status": "completed"
    },
    "tags": []
   },
   "outputs": [],
   "source": [
    "#hide\n",
    "dfc_cases = dft_cases.groupby('state')[dt_today].sum()\n",
    "dfc_deaths = dft_deaths.groupby('state')[dt_today].sum()\n",
    "dfp_cases = dft_cases.groupby('state')[dt_yday].sum()\n",
    "dfp_deaths = dft_deaths.groupby('state')[dt_yday].sum()"
   ]
  },
  {
   "cell_type": "code",
   "execution_count": 11,
   "metadata": {
    "execution": {
     "iopub.execute_input": "2020-08-26T13:37:32.980998Z",
     "iopub.status.busy": "2020-08-26T13:37:32.974829Z",
     "iopub.status.idle": "2020-08-26T13:37:32.988883Z",
     "shell.execute_reply": "2020-08-26T13:37:32.989440Z"
    },
    "papermill": {
     "duration": 0.040619,
     "end_time": "2020-08-26T13:37:32.989587",
     "exception": false,
     "start_time": "2020-08-26T13:37:32.948968",
     "status": "completed"
    },
    "tags": []
   },
   "outputs": [
    {
     "data": {
      "text/html": [
       "<div>\n",
       "<style scoped>\n",
       "    .dataframe tbody tr th:only-of-type {\n",
       "        vertical-align: middle;\n",
       "    }\n",
       "\n",
       "    .dataframe tbody tr th {\n",
       "        vertical-align: top;\n",
       "    }\n",
       "\n",
       "    .dataframe thead th {\n",
       "        text-align: right;\n",
       "    }\n",
       "</style>\n",
       "<table border=\"1\" class=\"dataframe\">\n",
       "  <thead>\n",
       "    <tr style=\"text-align: right;\">\n",
       "      <th></th>\n",
       "      <th>states</th>\n",
       "      <th>Cases</th>\n",
       "      <th>Deaths</th>\n",
       "      <th>PCases</th>\n",
       "      <th>PDeaths</th>\n",
       "    </tr>\n",
       "  </thead>\n",
       "  <tbody>\n",
       "    <tr>\n",
       "      <th>0</th>\n",
       "      <td>Maharashtra</td>\n",
       "      <td>703823</td>\n",
       "      <td>22794</td>\n",
       "      <td>703823</td>\n",
       "      <td>22794</td>\n",
       "    </tr>\n",
       "    <tr>\n",
       "      <th>1</th>\n",
       "      <td>Tamil Nadu</td>\n",
       "      <td>391303</td>\n",
       "      <td>6721</td>\n",
       "      <td>391303</td>\n",
       "      <td>6721</td>\n",
       "    </tr>\n",
       "    <tr>\n",
       "      <th>2</th>\n",
       "      <td>Andhra Pradesh</td>\n",
       "      <td>371639</td>\n",
       "      <td>3460</td>\n",
       "      <td>371639</td>\n",
       "      <td>3460</td>\n",
       "    </tr>\n",
       "    <tr>\n",
       "      <th>3</th>\n",
       "      <td>Karnataka</td>\n",
       "      <td>291826</td>\n",
       "      <td>4958</td>\n",
       "      <td>291826</td>\n",
       "      <td>4958</td>\n",
       "    </tr>\n",
       "    <tr>\n",
       "      <th>4</th>\n",
       "      <td>Uttar Pradesh</td>\n",
       "      <td>203028</td>\n",
       "      <td>3141</td>\n",
       "      <td>197388</td>\n",
       "      <td>3059</td>\n",
       "    </tr>\n",
       "  </tbody>\n",
       "</table>\n",
       "</div>"
      ],
      "text/plain": [
       "           states   Cases  Deaths  PCases  PDeaths\n",
       "0     Maharashtra  703823   22794  703823    22794\n",
       "1      Tamil Nadu  391303    6721  391303     6721\n",
       "2  Andhra Pradesh  371639    3460  371639     3460\n",
       "3       Karnataka  291826    4958  291826     4958\n",
       "4   Uttar Pradesh  203028    3141  197388     3059"
      ]
     },
     "execution_count": 11,
     "metadata": {},
     "output_type": "execute_result"
    }
   ],
   "source": [
    "#hide\n",
    "df_table = pd.DataFrame({'states': dfc_cases.index, 'Cases': dfc_cases.values, 'Deaths': dfc_deaths.values, 'PCases': dfp_cases.values, 'PDeaths': dfp_deaths.values}).set_index('states')\n",
    "df_table = df_table.sort_values(by = ['Cases','Deaths'], ascending = [False, False])\n",
    "df_table = df_table.reset_index()\n",
    "df_table.head()"
   ]
  },
  {
   "cell_type": "code",
   "execution_count": 12,
   "metadata": {
    "execution": {
     "iopub.execute_input": "2020-08-26T13:37:33.031962Z",
     "iopub.status.busy": "2020-08-26T13:37:33.031321Z",
     "iopub.status.idle": "2020-08-26T13:37:33.040392Z",
     "shell.execute_reply": "2020-08-26T13:37:33.040902Z"
    },
    "papermill": {
     "duration": 0.034277,
     "end_time": "2020-08-26T13:37:33.041104",
     "exception": false,
     "start_time": "2020-08-26T13:37:33.006827",
     "status": "completed"
    },
    "tags": []
   },
   "outputs": [],
   "source": [
    "#hide\n",
    "for c in 'Cases, Deaths'.split(', '):\n",
    "    df_table[f'{c} (+)'] = (df_table[c] - df_table[f'P{c}']).clip(0)\n",
    "df_table['Fatality Rate'] = (100* df_table['Deaths']/ df_table['Cases']).round(2)"
   ]
  },
  {
   "cell_type": "code",
   "execution_count": 13,
   "metadata": {
    "execution": {
     "iopub.execute_input": "2020-08-26T13:37:33.085111Z",
     "iopub.status.busy": "2020-08-26T13:37:33.084522Z",
     "iopub.status.idle": "2020-08-26T13:37:33.087813Z",
     "shell.execute_reply": "2020-08-26T13:37:33.088791Z"
    },
    "papermill": {
     "duration": 0.030428,
     "end_time": "2020-08-26T13:37:33.088960",
     "exception": false,
     "start_time": "2020-08-26T13:37:33.058532",
     "status": "completed"
    },
    "tags": []
   },
   "outputs": [
    {
     "data": {
      "text/html": [
       "<div>\n",
       "<style scoped>\n",
       "    .dataframe tbody tr th:only-of-type {\n",
       "        vertical-align: middle;\n",
       "    }\n",
       "\n",
       "    .dataframe tbody tr th {\n",
       "        vertical-align: top;\n",
       "    }\n",
       "\n",
       "    .dataframe thead th {\n",
       "        text-align: right;\n",
       "    }\n",
       "</style>\n",
       "<table border=\"1\" class=\"dataframe\">\n",
       "  <thead>\n",
       "    <tr style=\"text-align: right;\">\n",
       "      <th></th>\n",
       "      <th>states</th>\n",
       "      <th>Cases</th>\n",
       "      <th>Deaths</th>\n",
       "      <th>PCases</th>\n",
       "      <th>PDeaths</th>\n",
       "      <th>Cases (+)</th>\n",
       "      <th>Deaths (+)</th>\n",
       "      <th>Fatality Rate</th>\n",
       "    </tr>\n",
       "  </thead>\n",
       "  <tbody>\n",
       "    <tr>\n",
       "      <th>0</th>\n",
       "      <td>Maharashtra</td>\n",
       "      <td>703823</td>\n",
       "      <td>22794</td>\n",
       "      <td>703823</td>\n",
       "      <td>22794</td>\n",
       "      <td>0</td>\n",
       "      <td>0</td>\n",
       "      <td>3.24</td>\n",
       "    </tr>\n",
       "    <tr>\n",
       "      <th>1</th>\n",
       "      <td>Tamil Nadu</td>\n",
       "      <td>391303</td>\n",
       "      <td>6721</td>\n",
       "      <td>391303</td>\n",
       "      <td>6721</td>\n",
       "      <td>0</td>\n",
       "      <td>0</td>\n",
       "      <td>1.72</td>\n",
       "    </tr>\n",
       "    <tr>\n",
       "      <th>2</th>\n",
       "      <td>Andhra Pradesh</td>\n",
       "      <td>371639</td>\n",
       "      <td>3460</td>\n",
       "      <td>371639</td>\n",
       "      <td>3460</td>\n",
       "      <td>0</td>\n",
       "      <td>0</td>\n",
       "      <td>0.93</td>\n",
       "    </tr>\n",
       "    <tr>\n",
       "      <th>3</th>\n",
       "      <td>Karnataka</td>\n",
       "      <td>291826</td>\n",
       "      <td>4958</td>\n",
       "      <td>291826</td>\n",
       "      <td>4958</td>\n",
       "      <td>0</td>\n",
       "      <td>0</td>\n",
       "      <td>1.70</td>\n",
       "    </tr>\n",
       "    <tr>\n",
       "      <th>4</th>\n",
       "      <td>Uttar Pradesh</td>\n",
       "      <td>203028</td>\n",
       "      <td>3141</td>\n",
       "      <td>197388</td>\n",
       "      <td>3059</td>\n",
       "      <td>5640</td>\n",
       "      <td>82</td>\n",
       "      <td>1.55</td>\n",
       "    </tr>\n",
       "  </tbody>\n",
       "</table>\n",
       "</div>"
      ],
      "text/plain": [
       "           states   Cases  Deaths  PCases  PDeaths  Cases (+)  Deaths (+)  \\\n",
       "0     Maharashtra  703823   22794  703823    22794          0           0   \n",
       "1      Tamil Nadu  391303    6721  391303     6721          0           0   \n",
       "2  Andhra Pradesh  371639    3460  371639     3460          0           0   \n",
       "3       Karnataka  291826    4958  291826     4958          0           0   \n",
       "4   Uttar Pradesh  203028    3141  197388     3059       5640          82   \n",
       "\n",
       "   Fatality Rate  \n",
       "0           3.24  \n",
       "1           1.72  \n",
       "2           0.93  \n",
       "3           1.70  \n",
       "4           1.55  "
      ]
     },
     "execution_count": 13,
     "metadata": {},
     "output_type": "execute_result"
    }
   ],
   "source": [
    "#hide\n",
    "df_table.head()"
   ]
  },
  {
   "cell_type": "code",
   "execution_count": 14,
   "metadata": {
    "execution": {
     "iopub.execute_input": "2020-08-26T13:37:33.127205Z",
     "iopub.status.busy": "2020-08-26T13:37:33.126627Z",
     "iopub.status.idle": "2020-08-26T13:37:33.142151Z",
     "shell.execute_reply": "2020-08-26T13:37:33.141655Z"
    },
    "papermill": {
     "duration": 0.037036,
     "end_time": "2020-08-26T13:37:33.142277",
     "exception": false,
     "start_time": "2020-08-26T13:37:33.105241",
     "status": "completed"
    },
    "tags": []
   },
   "outputs": [
    {
     "data": {
      "text/plain": [
       "{'updated': '2020-08-26',\n",
       " 'since': '2020-08-25',\n",
       " 'Cases': 3250109,\n",
       " 'PCases': 3231754,\n",
       " 'Deaths': 59768,\n",
       " 'PDeaths': 59612,\n",
       " 'Cases (+)': 18355,\n",
       " 'Deaths (+)': 156}"
      ]
     },
     "execution_count": 14,
     "metadata": {},
     "output_type": "execute_result"
    }
   ],
   "source": [
    "#hide\n",
    "summary = {'updated':dates[-1], 'since':dates[-2]}\n",
    "list_names = ['Cases', 'PCases', 'Deaths', 'PDeaths', 'Cases (+)', 'Deaths (+)']\n",
    "for name in list_names:\n",
    "    summary[name] = df_table.sum()[name]\n",
    "summary"
   ]
  },
  {
   "cell_type": "code",
   "execution_count": 15,
   "metadata": {
    "execution": {
     "iopub.execute_input": "2020-08-26T13:37:33.181582Z",
     "iopub.status.busy": "2020-08-26T13:37:33.180998Z",
     "iopub.status.idle": "2020-08-26T13:37:33.183400Z",
     "shell.execute_reply": "2020-08-26T13:37:33.183983Z"
    },
    "papermill": {
     "duration": 0.025128,
     "end_time": "2020-08-26T13:37:33.184204",
     "exception": false,
     "start_time": "2020-08-26T13:37:33.159076",
     "status": "completed"
    },
    "tags": []
   },
   "outputs": [],
   "source": [
    "#hide\n",
    "overview = '''\n",
    "<!-- #######  HTML!! #########-->\n",
    "<h1 style=\"color: #5e9ca0; text-align: center;\">India</h1>\n",
    "<p style=\"text-align: center;\">Last update: <strong>{update}</strong></p>\n",
    "<p style=\"text-align: center;\">Confirmed cases:</p>\n",
    "<p style=\"text-align: center;font-size:24px;\">{cases} (<span style=\"color: #ff0000;\">+{new}</span>)</p>\n",
    "<p style=\"text-align: center;\">Confirmed deaths:</p>\n",
    "<p style=\"text-align: center;font-size:24px;\">{deaths} (<span style=\"color: #ff0000;\">+{dnew}</span>)</p>\n",
    "'''"
   ]
  },
  {
   "cell_type": "code",
   "execution_count": 16,
   "metadata": {
    "execution": {
     "iopub.execute_input": "2020-08-26T13:37:33.227511Z",
     "iopub.status.busy": "2020-08-26T13:37:33.226927Z",
     "iopub.status.idle": "2020-08-26T13:37:33.229852Z",
     "shell.execute_reply": "2020-08-26T13:37:33.230295Z"
    },
    "papermill": {
     "duration": 0.029031,
     "end_time": "2020-08-26T13:37:33.230440",
     "exception": false,
     "start_time": "2020-08-26T13:37:33.201409",
     "status": "completed"
    },
    "tags": []
   },
   "outputs": [
    {
     "data": {
      "text/html": [
       "\n",
       "<!-- #######  HTML!! #########-->\n",
       "<h1 style=\"color: #5e9ca0; text-align: center;\">India</h1>\n",
       "<p style=\"text-align: center;\">Last update: <strong>2020-08-26</strong></p>\n",
       "<p style=\"text-align: center;\">Confirmed cases:</p>\n",
       "<p style=\"text-align: center;font-size:24px;\">3250109 (<span style=\"color: #ff0000;\">+18355</span>)</p>\n",
       "<p style=\"text-align: center;\">Confirmed deaths:</p>\n",
       "<p style=\"text-align: center;font-size:24px;\">59768 (<span style=\"color: #ff0000;\">+156</span>)</p>\n"
      ],
      "text/plain": [
       "<IPython.core.display.HTML object>"
      ]
     },
     "metadata": {},
     "output_type": "display_data"
    }
   ],
   "source": [
    "#hide_input\n",
    "update = summary['updated']\n",
    "cases = summary['Cases']\n",
    "new = summary['Cases (+)']\n",
    "deaths = summary['Deaths']\n",
    "dnew = summary['Deaths (+)']\n",
    "\n",
    "html = HTML(overview.format(update=update, cases=cases,new=new,deaths=deaths,dnew=dnew))\n",
    "\n",
    "display(html)"
   ]
  },
  {
   "cell_type": "code",
   "execution_count": 17,
   "metadata": {
    "execution": {
     "iopub.execute_input": "2020-08-26T13:37:33.276764Z",
     "iopub.status.busy": "2020-08-26T13:37:33.276161Z",
     "iopub.status.idle": "2020-08-26T13:37:33.281121Z",
     "shell.execute_reply": "2020-08-26T13:37:33.280626Z"
    },
    "papermill": {
     "duration": 0.032969,
     "end_time": "2020-08-26T13:37:33.281242",
     "exception": false,
     "start_time": "2020-08-26T13:37:33.248273",
     "status": "completed"
    },
    "tags": []
   },
   "outputs": [],
   "source": [
    "#hide\n",
    "dt_cols = list(dft_cases.columns[1:])\n",
    "dft_ct_new_cases = dft_cases.groupby('state')[dt_cols].sum().diff(axis=1).fillna(0).astype(int)\n",
    "dft_ct_new_cases.sort_values(by = dates[-1], ascending = False,inplace = True)"
   ]
  },
  {
   "cell_type": "code",
   "execution_count": 18,
   "metadata": {
    "execution": {
     "iopub.execute_input": "2020-08-26T13:37:33.328813Z",
     "iopub.status.busy": "2020-08-26T13:37:33.328221Z",
     "iopub.status.idle": "2020-08-26T13:37:33.338676Z",
     "shell.execute_reply": "2020-08-26T13:37:33.338015Z"
    },
    "papermill": {
     "duration": 0.040424,
     "end_time": "2020-08-26T13:37:33.338812",
     "exception": false,
     "start_time": "2020-08-26T13:37:33.298388",
     "status": "completed"
    },
    "tags": []
   },
   "outputs": [
    {
     "data": {
      "text/html": [
       "<div>\n",
       "<style scoped>\n",
       "    .dataframe tbody tr th:only-of-type {\n",
       "        vertical-align: middle;\n",
       "    }\n",
       "\n",
       "    .dataframe tbody tr th {\n",
       "        vertical-align: top;\n",
       "    }\n",
       "\n",
       "    .dataframe thead th {\n",
       "        text-align: right;\n",
       "    }\n",
       "</style>\n",
       "<table border=\"1\" class=\"dataframe\">\n",
       "  <thead>\n",
       "    <tr style=\"text-align: right;\">\n",
       "      <th>states</th>\n",
       "      <th>2020-07-01</th>\n",
       "      <th>2020-07-02</th>\n",
       "      <th>2020-07-03</th>\n",
       "      <th>2020-07-04</th>\n",
       "      <th>2020-07-05</th>\n",
       "      <th>2020-07-06</th>\n",
       "      <th>2020-07-07</th>\n",
       "      <th>2020-07-08</th>\n",
       "      <th>2020-07-09</th>\n",
       "      <th>2020-07-10</th>\n",
       "      <th>...</th>\n",
       "      <th>2020-08-17</th>\n",
       "      <th>2020-08-18</th>\n",
       "      <th>2020-08-19</th>\n",
       "      <th>2020-08-20</th>\n",
       "      <th>2020-08-21</th>\n",
       "      <th>2020-08-22</th>\n",
       "      <th>2020-08-23</th>\n",
       "      <th>2020-08-24</th>\n",
       "      <th>2020-08-25</th>\n",
       "      <th>2020-08-26</th>\n",
       "    </tr>\n",
       "    <tr>\n",
       "      <th>state</th>\n",
       "      <th></th>\n",
       "      <th></th>\n",
       "      <th></th>\n",
       "      <th></th>\n",
       "      <th></th>\n",
       "      <th></th>\n",
       "      <th></th>\n",
       "      <th></th>\n",
       "      <th></th>\n",
       "      <th></th>\n",
       "      <th></th>\n",
       "      <th></th>\n",
       "      <th></th>\n",
       "      <th></th>\n",
       "      <th></th>\n",
       "      <th></th>\n",
       "      <th></th>\n",
       "      <th></th>\n",
       "      <th></th>\n",
       "      <th></th>\n",
       "      <th></th>\n",
       "    </tr>\n",
       "  </thead>\n",
       "  <tbody>\n",
       "    <tr>\n",
       "      <th>Uttar Pradesh</th>\n",
       "      <td>0</td>\n",
       "      <td>769</td>\n",
       "      <td>972</td>\n",
       "      <td>757</td>\n",
       "      <td>1153</td>\n",
       "      <td>929</td>\n",
       "      <td>1332</td>\n",
       "      <td>1188</td>\n",
       "      <td>1206</td>\n",
       "      <td>1338</td>\n",
       "      <td>...</td>\n",
       "      <td>3798</td>\n",
       "      <td>4218</td>\n",
       "      <td>5076</td>\n",
       "      <td>4824</td>\n",
       "      <td>4905</td>\n",
       "      <td>5217</td>\n",
       "      <td>5325</td>\n",
       "      <td>4601</td>\n",
       "      <td>5006</td>\n",
       "      <td>5640</td>\n",
       "    </tr>\n",
       "    <tr>\n",
       "      <th>Odisha</th>\n",
       "      <td>0</td>\n",
       "      <td>229</td>\n",
       "      <td>561</td>\n",
       "      <td>495</td>\n",
       "      <td>469</td>\n",
       "      <td>456</td>\n",
       "      <td>571</td>\n",
       "      <td>527</td>\n",
       "      <td>577</td>\n",
       "      <td>755</td>\n",
       "      <td>...</td>\n",
       "      <td>2244</td>\n",
       "      <td>2239</td>\n",
       "      <td>2589</td>\n",
       "      <td>2898</td>\n",
       "      <td>2698</td>\n",
       "      <td>2819</td>\n",
       "      <td>2993</td>\n",
       "      <td>2949</td>\n",
       "      <td>2752</td>\n",
       "      <td>3371</td>\n",
       "    </tr>\n",
       "    <tr>\n",
       "      <th>Telangana</th>\n",
       "      <td>0</td>\n",
       "      <td>1213</td>\n",
       "      <td>1892</td>\n",
       "      <td>1850</td>\n",
       "      <td>1590</td>\n",
       "      <td>1831</td>\n",
       "      <td>1879</td>\n",
       "      <td>1924</td>\n",
       "      <td>1410</td>\n",
       "      <td>1278</td>\n",
       "      <td>...</td>\n",
       "      <td>894</td>\n",
       "      <td>1682</td>\n",
       "      <td>1763</td>\n",
       "      <td>1724</td>\n",
       "      <td>1967</td>\n",
       "      <td>2474</td>\n",
       "      <td>2384</td>\n",
       "      <td>1842</td>\n",
       "      <td>2579</td>\n",
       "      <td>3018</td>\n",
       "    </tr>\n",
       "    <tr>\n",
       "      <th>Kerala</th>\n",
       "      <td>0</td>\n",
       "      <td>160</td>\n",
       "      <td>211</td>\n",
       "      <td>240</td>\n",
       "      <td>225</td>\n",
       "      <td>193</td>\n",
       "      <td>272</td>\n",
       "      <td>301</td>\n",
       "      <td>339</td>\n",
       "      <td>416</td>\n",
       "      <td>...</td>\n",
       "      <td>1725</td>\n",
       "      <td>1758</td>\n",
       "      <td>2333</td>\n",
       "      <td>1968</td>\n",
       "      <td>1983</td>\n",
       "      <td>2172</td>\n",
       "      <td>1908</td>\n",
       "      <td>1242</td>\n",
       "      <td>2375</td>\n",
       "      <td>2476</td>\n",
       "    </tr>\n",
       "    <tr>\n",
       "      <th>Bihar</th>\n",
       "      <td>0</td>\n",
       "      <td>478</td>\n",
       "      <td>426</td>\n",
       "      <td>349</td>\n",
       "      <td>403</td>\n",
       "      <td>280</td>\n",
       "      <td>385</td>\n",
       "      <td>749</td>\n",
       "      <td>704</td>\n",
       "      <td>352</td>\n",
       "      <td>...</td>\n",
       "      <td>2525</td>\n",
       "      <td>3257</td>\n",
       "      <td>2884</td>\n",
       "      <td>2451</td>\n",
       "      <td>2461</td>\n",
       "      <td>2238</td>\n",
       "      <td>2247</td>\n",
       "      <td>1227</td>\n",
       "      <td>1444</td>\n",
       "      <td>2163</td>\n",
       "    </tr>\n",
       "  </tbody>\n",
       "</table>\n",
       "<p>5 rows × 57 columns</p>\n",
       "</div>"
      ],
      "text/plain": [
       "states         2020-07-01  2020-07-02  2020-07-03  2020-07-04  2020-07-05  \\\n",
       "state                                                                       \n",
       "Uttar Pradesh           0         769         972         757        1153   \n",
       "Odisha                  0         229         561         495         469   \n",
       "Telangana               0        1213        1892        1850        1590   \n",
       "Kerala                  0         160         211         240         225   \n",
       "Bihar                   0         478         426         349         403   \n",
       "\n",
       "states         2020-07-06  2020-07-07  2020-07-08  2020-07-09  2020-07-10  \\\n",
       "state                                                                       \n",
       "Uttar Pradesh         929        1332        1188        1206        1338   \n",
       "Odisha                456         571         527         577         755   \n",
       "Telangana            1831        1879        1924        1410        1278   \n",
       "Kerala                193         272         301         339         416   \n",
       "Bihar                 280         385         749         704         352   \n",
       "\n",
       "states         ...  2020-08-17  2020-08-18  2020-08-19  2020-08-20  \\\n",
       "state          ...                                                   \n",
       "Uttar Pradesh  ...        3798        4218        5076        4824   \n",
       "Odisha         ...        2244        2239        2589        2898   \n",
       "Telangana      ...         894        1682        1763        1724   \n",
       "Kerala         ...        1725        1758        2333        1968   \n",
       "Bihar          ...        2525        3257        2884        2451   \n",
       "\n",
       "states         2020-08-21  2020-08-22  2020-08-23  2020-08-24  2020-08-25  \\\n",
       "state                                                                       \n",
       "Uttar Pradesh        4905        5217        5325        4601        5006   \n",
       "Odisha               2698        2819        2993        2949        2752   \n",
       "Telangana            1967        2474        2384        1842        2579   \n",
       "Kerala               1983        2172        1908        1242        2375   \n",
       "Bihar                2461        2238        2247        1227        1444   \n",
       "\n",
       "states         2020-08-26  \n",
       "state                      \n",
       "Uttar Pradesh        5640  \n",
       "Odisha               3371  \n",
       "Telangana            3018  \n",
       "Kerala               2476  \n",
       "Bihar                2163  \n",
       "\n",
       "[5 rows x 57 columns]"
      ]
     },
     "execution_count": 18,
     "metadata": {},
     "output_type": "execute_result"
    }
   ],
   "source": [
    "#hide\n",
    "dft_ct_new_cases.head()"
   ]
  },
  {
   "cell_type": "code",
   "execution_count": 19,
   "metadata": {
    "execution": {
     "iopub.execute_input": "2020-08-26T13:37:33.394195Z",
     "iopub.status.busy": "2020-08-26T13:37:33.383039Z",
     "iopub.status.idle": "2020-08-26T13:37:36.125953Z",
     "shell.execute_reply": "2020-08-26T13:37:36.126435Z"
    },
    "papermill": {
     "duration": 2.769704,
     "end_time": "2020-08-26T13:37:36.126594",
     "exception": false,
     "start_time": "2020-08-26T13:37:33.356890",
     "status": "completed"
    },
    "tags": []
   },
   "outputs": [
    {
     "data": {
      "image/png": "[encoded data removed]",
      "text/plain": [
       "<Figure size 1296x2016 with 11 Axes>"
      ]
     },
     "metadata": {
      "needs_background": "light"
     },
     "output_type": "display_data"
    }
   ],
   "source": [
    "#hide_input\n",
    "df = dft_ct_new_cases.copy()\n",
    "df.loc['Total'] = df.sum()\n",
    "n = 5\n",
    "ax = []\n",
    "fig = plt.figure(figsize = (18,28))\n",
    "gs = fig.add_gridspec(n+2, 5)\n",
    "# gs = fig.add_gridspec(2, 3)\n",
    "ax1 = fig.add_subplot(gs[0, :])\n",
    "ef = df.loc['Total'].rename_axis('date').reset_index()\n",
    "ef['date'] = ef['date'].astype('datetime64[ns]')\n",
    "ax1.bar(ef.date,ef.Total,alpha=0.3,color='#007acc')\n",
    "ax1.plot(ef.date,ef.Total , marker=\"o\", color='#007acc')\n",
    "ax1.xaxis.set_major_locator(mdates.WeekdayLocator())\n",
    "ax1.xaxis.set_major_formatter(mdates.DateFormatter('%b %d'))\n",
    "ax1.text(0.02, 0.5,'India daily case count', transform = ax1.transAxes, fontsize=25);\n",
    "ax1.spines['right'].set_visible(False)\n",
    "ax1.spines['top'].set_visible(False)\n",
    "\n",
    "ax2 = fig.add_subplot(gs[1,0])\n",
    "ef = df.loc['Maharashtra'].rename_axis('date').reset_index()\n",
    "ef['date'] = ef['date'].astype('datetime64[ns]')\n",
    "\n",
    "ax2.bar(ef.date, ef.Maharashtra,color = '#007acc',alpha=0.5)\n",
    "ax2.xaxis.set_major_locator(mdates.WeekdayLocator())\n",
    "ax2.xaxis.set_major_formatter(mdates.DateFormatter('%b %d'))\n",
    "ax2.set_xticks(ax2.get_xticks()[::3])\n",
    "maxyval = ef.Maharashtra.max()\n",
    "ax2.set_ylim([0,maxyval])\n",
    "ax2.text(0.05, 0.9,'Maharashtra', transform = ax2.transAxes, fontsize=20);\n",
    "ax2.spines['right'].set_visible(False)\n",
    "ax2.spines['top'].set_visible(False)\n",
    "\n",
    "\n",
    "ax3 = fig.add_subplot(gs[1,1])\n",
    "ef = df.loc['Tamil Nadu'].rename_axis('date').reset_index()\n",
    "ef['date'] = ef['date'].astype('datetime64[ns]')\n",
    "ax3.bar(ef.date, ef['Tamil Nadu'],color = '#007acc',alpha=0.5,)\n",
    "ax3.xaxis.set_major_locator(mdates.WeekdayLocator())\n",
    "ax3.xaxis.set_major_formatter(mdates.DateFormatter('%b %d'))\n",
    "ax3.set_xticks(ax3.get_xticks()[::3])\n",
    "ax3.text(0.05, 0.9,'Tamil Nadu', transform = ax3.transAxes, fontsize=20);\n",
    "ax3.spines['right'].set_visible(False)\n",
    "ax3.spines['top'].set_visible(False)\n",
    "\n",
    "ax5 = fig.add_subplot(gs[1,3])\n",
    "ef = df.loc['Telangana'].rename_axis('date').reset_index()\n",
    "ef['date'] = ef['date'].astype('datetime64[ns]')\n",
    "ax5.bar(ef.date, ef['Telangana'],color = '#007acc',alpha=0.5,)\n",
    "ax5.xaxis.set_major_locator(mdates.WeekdayLocator())\n",
    "ax5.xaxis.set_major_formatter(mdates.DateFormatter('%b %d'))\n",
    "ax5.set_xticks(ax5.get_xticks()[::3])\n",
    "ax5.text(0.05, 0.9,'Telangana', transform = ax5.transAxes, fontsize=20);\n",
    "ax5.spines['right'].set_visible(False)\n",
    "ax5.spines['top'].set_visible(False)\n",
    "\n",
    "ax6 = fig.add_subplot(gs[1,4])\n",
    "ef = df.loc['Andhra Pradesh'].rename_axis('date').reset_index()\n",
    "ef['date'] = ef['date'].astype('datetime64[ns]')\n",
    "ax6.bar(ef.date, ef['Andhra Pradesh'],color = '#007acc',alpha=0.5,)\n",
    "ax6.xaxis.set_major_locator(mdates.WeekdayLocator())\n",
    "ax6.xaxis.set_major_formatter(mdates.DateFormatter('%b %d'))\n",
    "ax6.set_xticks(ax6.get_xticks()[::3])\n",
    "ax6.text(0.05, 1,'Andhra Pradesh', transform = ax6.transAxes, fontsize=20);\n",
    "ax6.spines['right'].set_visible(False)\n",
    "ax6.spines['top'].set_visible(False)\n",
    "\n",
    "ax4 = fig.add_subplot(gs[1,2])\n",
    "ef = df.loc['Delhi'].rename_axis('date').reset_index()\n",
    "ef['date'] = ef['date'].astype('datetime64[ns]')\n",
    "ax4.bar(ef.date, ef.Delhi,color = '#007acc',alpha=0.5)\n",
    "ax4.set_xticks([])\n",
    "ax4.xaxis.set_major_locator(mdates.WeekdayLocator())\n",
    "ax4.xaxis.set_major_formatter(mdates.DateFormatter('%b %d'))\n",
    "ax4.set_xticks(ax4.get_xticks()[::3])\n",
    "ax4.spines['right'].set_visible(False)\n",
    "ax4.spines['top'].set_visible(False)\n",
    "\n",
    "ax4.text(0.05, 1,'Delhi', transform = ax4.transAxes, fontsize=20)\n",
    "\n",
    "for i in range(n):\n",
    "    \n",
    "    ax.append(fig.add_subplot(gs[i+2,:]))\n",
    "    ef = df.iloc[i+3].rename_axis('date').reset_index()\n",
    "    ef['date'] = ef['date'].astype('datetime64[ns]')\n",
    "    ax[i].bar(ef.date,ef.iloc[:,-1],color = '#007acc',alpha=0.3)\n",
    "    ax[i].plot(ef.date,ef.iloc[:,-1],marker='o',color='#007acc')\n",
    "    ax[i].text(0.02,0.5,f'{ef.columns.values[-1]}',transform = ax[i].transAxes, fontsize = 20);\n",
    "    ax[i].xaxis.set_major_locator(mdates.WeekdayLocator())\n",
    "    ax[i].xaxis.set_major_formatter(mdates.DateFormatter('%b %d'))\n",
    "    ax[i].set_ylim([0,7000])\n",
    "    ax[i].spines['right'].set_visible(False)\n",
    "    ax[i].spines['top'].set_visible(False)\n",
    "plt.tight_layout()\n"
   ]
  },
  {
   "cell_type": "code",
   "execution_count": 20,
   "metadata": {
    "execution": {
     "iopub.execute_input": "2020-08-26T13:37:36.182040Z",
     "iopub.status.busy": "2020-08-26T13:37:36.181440Z",
     "iopub.status.idle": "2020-08-26T13:37:36.183662Z",
     "shell.execute_reply": "2020-08-26T13:37:36.184224Z"
    },
    "papermill": {
     "duration": 0.034843,
     "end_time": "2020-08-26T13:37:36.184369",
     "exception": false,
     "start_time": "2020-08-26T13:37:36.149526",
     "status": "completed"
    },
    "tags": []
   },
   "outputs": [
    {
     "name": "stdout",
     "output_type": "stream",
     "text": [
      "                                   states   Cases  Deaths  PCases  PDeaths  Cases (+)  Deaths (+)  Fatality Rate\n",
      "                              Maharashtra  703823   22794  703823    22794          0           0           3.24\n",
      "                               Tamil Nadu  391303    6721  391303     6721          0           0           1.72\n",
      "                           Andhra Pradesh  371639    3460  371639     3460          0           0           0.93\n",
      "                                Karnataka  291826    4958  291826     4958          0           0           1.70\n",
      "                            Uttar Pradesh  203028    3141  197388     3059       5640          82           1.55\n",
      "                                    Delhi  164071    4330  164071     4330          0           0           2.64\n",
      "                              West Bengal  144801    2909  144801     2909          0           0           2.01\n",
      "                                    Bihar  126990     653  124827      644       2163           9           0.51\n",
      "                                Telangana  111688     780  108670      770       3018          10           0.70\n",
      "                                    Assam   94593     260   94593      260          0           0           0.27\n",
      "                                  Gujarat   88942    2928   88942     2928          0           0           3.29\n",
      "                                   Odisha   87602     494   84231      481       3371          13           0.56\n",
      "                                Rajasthan   73935     986   73325      980        610           6           1.33\n",
      "                                   Kerala   64355     258   61879      245       2476          13           0.40\n",
      "                                  Haryana   56608     623   56608      623          0           0           1.10\n",
      "                           Madhya Pradesh   55800    1265   55800     1265          0           0           2.27\n",
      "                                   Punjab   44577    1178   44577     1178          0           0           2.64\n",
      "                        Jammu and Kashmir   34480     657   33776      638        704          19           1.91\n",
      "                                Jharkhand   32174     347   32174      347          0           0           1.08\n",
      "                             Chhattisgarh   23341     221   23341      221          0           0           0.95\n",
      "                              Uttarakhand   16014     213   16014      213          0           0           1.33\n",
      "                                      Goa   14530     157   14530      157          0           0           1.08\n",
      "                               Puducherry   11426     172   11426      172          0           0           1.51\n",
      "                                  Tripura    9539      83    9210       79        329           4           0.87\n",
      "                                  Manipur    5444      24    5444       24          0           0           0.44\n",
      "                         Himachal Pradesh    5154      29    5154       29          0           0           0.56\n",
      "                                 Nagaland    3778       8    3752        8         26           0           0.21\n",
      "                        Arunachal Pradesh    3412       5    3412        5          0           0           0.15\n",
      "                               Chandigarh    3209      40    3209       40          0           0           1.25\n",
      "              Andaman and Nicobar Islands    2945      37    2945       37          0           0           1.26\n",
      "                                   Ladakh    2420      24    2420       24          0           0           0.99\n",
      " Dadra and Nagar Haveli and Daman and Diu    2198       2    2198        2          0           0           0.09\n",
      "                                Meghalaya    2022       8    2018        8          4           0           0.40\n",
      "                                   Sikkim    1475       3    1475        3          0           0           0.20\n",
      "                                  Mizoram     967       0     953        0         14           0           0.00\n",
      "                              Lakshadweep       0       0       0        0          0           0            NaN\n"
     ]
    }
   ],
   "source": [
    "#hide_input\n",
    "print(df_table.to_string(index=False))"
   ]
  },
  {
   "cell_type": "code",
   "execution_count": null,
   "metadata": {
    "papermill": {
     "duration": 0.023602,
     "end_time": "2020-08-26T13:37:36.230903",
     "exception": false,
     "start_time": "2020-08-26T13:37:36.207301",
     "status": "completed"
    },
    "tags": []
   },
   "outputs": [],
   "source": []
  },
  {
   "cell_type": "code",
   "execution_count": null,
   "metadata": {
    "papermill": {
     "duration": 0.023564,
     "end_time": "2020-08-26T13:37:36.279832",
     "exception": false,
     "start_time": "2020-08-26T13:37:36.256268",
     "status": "completed"
    },
    "tags": []
   },
   "outputs": [],
   "source": []
  }
 ],
 "metadata": {
  "kernelspec": {
   "display_name": "Python 3",
   "language": "python",
   "name": "python3"
  },
  "language_info": {
   "codemirror_mode": {
    "name": "ipython",
    "version": 3
   },
   "file_extension": ".py",
   "mimetype": "text/x-python",
   "name": "python",
   "nbconvert_exporter": "python",
   "pygments_lexer": "ipython3",
   "version": "3.6.11"
  },
  "papermill": {
   "duration": 7.630957,
   "end_time": "2020-08-26T13:37:36.715319",
   "environment_variables": {},
   "exception": null,
   "input_path": "latest.ipynb",
   "output_path": "latest.ipynb",
   "parameters": {},
   "start_time": "2020-08-26T13:37:29.084362",
   "version": "2.1.2"
  }
 },
 "nbformat": 4,
 "nbformat_minor": 4
}