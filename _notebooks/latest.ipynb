{
 "cells": [
  {
   "cell_type": "markdown",
   "metadata": {
    "papermill": {
     "duration": 0.023091,
     "end_time": "2020-10-13T11:24:04.274384",
     "exception": false,
     "start_time": "2020-10-13T11:24:04.251293",
     "status": "completed"
    },
    "tags": []
   },
   "source": [
    "# Latest COVID-19 India Matplotlib Overview"
   ]
  },
  {
   "cell_type": "code",
   "execution_count": 1,
   "metadata": {
    "execution": {
     "iopub.execute_input": "2020-10-13T11:24:04.312290Z",
     "iopub.status.busy": "2020-10-13T11:24:04.311617Z",
     "iopub.status.idle": "2020-10-13T11:24:04.906246Z",
     "shell.execute_reply": "2020-10-13T11:24:04.905701Z"
    },
    "papermill": {
     "duration": 0.616161,
     "end_time": "2020-10-13T11:24:04.906404",
     "exception": false,
     "start_time": "2020-10-13T11:24:04.290243",
     "status": "completed"
    },
    "tags": []
   },
   "outputs": [],
   "source": [
    "#hide\n",
    "import pandas as pd\n",
    "import numpy as np\n",
    "import requests\n",
    "import json\n",
    "import matplotlib.pyplot as plt\n",
    "import matplotlib.dates as mdates\n",
    "import matplotlib as mpl\n",
    "from IPython.core.display import display,HTML\n",
    "%matplotlib inline\n",
    "from datetime import date"
   ]
  },
  {
   "cell_type": "code",
   "execution_count": 2,
   "metadata": {
    "execution": {
     "iopub.execute_input": "2020-10-13T11:24:04.957059Z",
     "iopub.status.busy": "2020-10-13T11:24:04.956445Z",
     "iopub.status.idle": "2020-10-13T11:24:05.133783Z",
     "shell.execute_reply": "2020-10-13T11:24:05.132866Z"
    },
    "papermill": {
     "duration": 0.21171,
     "end_time": "2020-10-13T11:24:05.134024",
     "exception": false,
     "start_time": "2020-10-13T11:24:04.922314",
     "status": "completed"
    },
    "tags": []
   },
   "outputs": [],
   "source": [
    "#hide\n",
    "df  = pd.read_csv('https://api.covid19india.org/csv/latest/states.csv')\n",
    "df = df[['Date','State','Confirmed','Deceased']]\n",
    "df = df.rename(columns={'Confirmed':'Cases', \"Deceased\":'Deaths'})\n",
    "df_cases = df[[\"Date\",'State','Cases']]\n",
    "df_deaths = df[['Date','State','Deaths']]\n",
    "df_cases1 = df_cases.groupby('Date')\n",
    "df_deaths1= df_deaths.groupby('Date')"
   ]
  },
  {
   "cell_type": "code",
   "execution_count": 3,
   "metadata": {
    "execution": {
     "iopub.execute_input": "2020-10-13T11:24:05.172660Z",
     "iopub.status.busy": "2020-10-13T11:24:05.172074Z",
     "iopub.status.idle": "2020-10-13T11:24:05.189223Z",
     "shell.execute_reply": "2020-10-13T11:24:05.188749Z"
    },
    "papermill": {
     "duration": 0.037747,
     "end_time": "2020-10-13T11:24:05.189379",
     "exception": false,
     "start_time": "2020-10-13T11:24:05.151632",
     "status": "completed"
    },
    "tags": []
   },
   "outputs": [],
   "source": [
    "#hide\n",
    "df_snap = pd.read_csv('data/SnapshotCases-28-July.csv')\n",
    "arr_states = df_snap['states'].unique()\n",
    "arr_dates = df['Date'].unique()\n",
    "df_snap = df_snap.set_index('states')"
   ]
  },
  {
   "cell_type": "code",
   "execution_count": 4,
   "metadata": {
    "execution": {
     "iopub.execute_input": "2020-10-13T11:24:05.229613Z",
     "iopub.status.busy": "2020-10-13T11:24:05.228534Z",
     "iopub.status.idle": "2020-10-13T11:24:05.234807Z",
     "shell.execute_reply": "2020-10-13T11:24:05.234307Z"
    },
    "papermill": {
     "duration": 0.030086,
     "end_time": "2020-10-13T11:24:05.234935",
     "exception": false,
     "start_time": "2020-10-13T11:24:05.204849",
     "status": "completed"
    },
    "tags": []
   },
   "outputs": [
    {
     "data": {
      "text/plain": [
       "array(['Andaman and Nicobar Islands', 'Andhra Pradesh',\n",
       "       'Arunachal Pradesh', 'Assam', 'Bihar', 'Chandigarh',\n",
       "       'Dadra and Nagar Haveli and Daman and Diu', 'Delhi', 'Goa',\n",
       "       'Gujarat', 'Haryana', 'Himachal Pradesh', 'Jammu and Kashmir',\n",
       "       'Jharkhand', 'Karnataka', 'Kerala', 'Lakshadweep',\n",
       "       'Madhya Pradesh', 'Maharashtra', 'Manipur', 'Meghalaya', 'Mizoram',\n",
       "       'Nagaland', 'Odisha', 'Puducherry', 'Punjab', 'Rajasthan',\n",
       "       'Sikkim', 'Tamil Nadu', 'Telangana', 'Tripura', 'Uttar Pradesh',\n",
       "       'West Bengal', 'Chhattisgarh', 'Ladakh', 'Uttarakhand'],\n",
       "      dtype=object)"
      ]
     },
     "execution_count": 4,
     "metadata": {},
     "output_type": "execute_result"
    }
   ],
   "source": [
    "#hide\n",
    "arr_states[-9] = 'Puducherry'\n",
    "arr_states[-10] = 'Odisha'\n",
    "arr_states[6] = 'Dadra and Nagar Haveli and Daman and Diu'\n",
    "arr_states = np.append(arr_states,np.array(['Chhattisgarh','Ladakh','Uttarakhand']))\n",
    "arr_states"
   ]
  },
  {
   "cell_type": "code",
   "execution_count": 5,
   "metadata": {
    "execution": {
     "iopub.execute_input": "2020-10-13T11:24:05.277563Z",
     "iopub.status.busy": "2020-10-13T11:24:05.274254Z",
     "iopub.status.idle": "2020-10-13T11:24:05.285196Z",
     "shell.execute_reply": "2020-10-13T11:24:05.284714Z"
    },
    "papermill": {
     "duration": 0.034902,
     "end_time": "2020-10-13T11:24:05.285360",
     "exception": false,
     "start_time": "2020-10-13T11:24:05.250458",
     "status": "completed"
    },
    "tags": []
   },
   "outputs": [],
   "source": [
    "#hide\n",
    "dates = []\n",
    "for i in arr_dates:\n",
    "    if i>='2020-07-01':\n",
    "        dates.append(i)\n",
    "dict = {'states':dates}\n",
    "for i in arr_states:\n",
    "    dict[i] = [0]*len(dates)\n",
    "dft_cases = pd.DataFrame(dict)\n",
    "dft_deaths = pd.DataFrame(dict)\n"
   ]
  },
  {
   "cell_type": "code",
   "execution_count": 6,
   "metadata": {
    "execution": {
     "iopub.execute_input": "2020-10-13T11:24:05.323216Z",
     "iopub.status.busy": "2020-10-13T11:24:05.322581Z",
     "iopub.status.idle": "2020-10-13T11:24:06.819242Z",
     "shell.execute_reply": "2020-10-13T11:24:06.818395Z"
    },
    "papermill": {
     "duration": 1.518397,
     "end_time": "2020-10-13T11:24:06.819386",
     "exception": false,
     "start_time": "2020-10-13T11:24:05.300989",
     "status": "completed"
    },
    "tags": []
   },
   "outputs": [],
   "source": [
    "#hide\n",
    "for i in range(len(dates)):\n",
    "    df1_deaths = df_deaths1.get_group(dates[i])\n",
    "    for j in range(len(df1_deaths.index)):\n",
    "        if df1_deaths.iloc[j,1] in arr_states:\n",
    "            dft_deaths.loc[i,df1_deaths.iloc[j,1]] = df1_deaths.iloc[j,2]\n",
    "dft_deaths = dft_deaths.set_index('states')"
   ]
  },
  {
   "cell_type": "code",
   "execution_count": 7,
   "metadata": {
    "execution": {
     "iopub.execute_input": "2020-10-13T11:24:06.860519Z",
     "iopub.status.busy": "2020-10-13T11:24:06.859914Z",
     "iopub.status.idle": "2020-10-13T11:24:08.296502Z",
     "shell.execute_reply": "2020-10-13T11:24:08.295979Z"
    },
    "papermill": {
     "duration": 1.461493,
     "end_time": "2020-10-13T11:24:08.296646",
     "exception": false,
     "start_time": "2020-10-13T11:24:06.835153",
     "status": "completed"
    },
    "tags": []
   },
   "outputs": [],
   "source": [
    "#hide\n",
    "for i in range(len(dates)):\n",
    "    df1_cases = df_cases1.get_group(dates[i])\n",
    "    for j in range(len(df1_cases.index)):\n",
    "        if df1_cases.iloc[j,1] in arr_states:\n",
    "            dft_cases.loc[i,df1_cases.iloc[j,1]] = df1_cases.iloc[j,2]\n",
    "dft_cases = dft_cases.set_index('states')"
   ]
  },
  {
   "cell_type": "code",
   "execution_count": 8,
   "metadata": {
    "execution": {
     "iopub.execute_input": "2020-10-13T11:24:08.336777Z",
     "iopub.status.busy": "2020-10-13T11:24:08.336135Z",
     "iopub.status.idle": "2020-10-13T11:24:08.339760Z",
     "shell.execute_reply": "2020-10-13T11:24:08.340210Z"
    },
    "papermill": {
     "duration": 0.026757,
     "end_time": "2020-10-13T11:24:08.340369",
     "exception": false,
     "start_time": "2020-10-13T11:24:08.313612",
     "status": "completed"
    },
    "tags": []
   },
   "outputs": [],
   "source": [
    "#hide\n",
    "dft_cases = dft_cases.T\n",
    "dft_deaths = dft_deaths.T\n",
    "dt_today = dates[-1]\n",
    "dt_yday = dates[-2]"
   ]
  },
  {
   "cell_type": "code",
   "execution_count": 9,
   "metadata": {
    "execution": {
     "iopub.execute_input": "2020-10-13T11:24:08.378504Z",
     "iopub.status.busy": "2020-10-13T11:24:08.377893Z",
     "iopub.status.idle": "2020-10-13T11:24:08.382628Z",
     "shell.execute_reply": "2020-10-13T11:24:08.382137Z"
    },
    "papermill": {
     "duration": 0.026316,
     "end_time": "2020-10-13T11:24:08.382764",
     "exception": false,
     "start_time": "2020-10-13T11:24:08.356448",
     "status": "completed"
    },
    "tags": []
   },
   "outputs": [],
   "source": [
    "#hide\n",
    "dft_cases = dft_cases.reset_index()\n",
    "dft_deaths = dft_deaths.reset_index()\n",
    "dft_cases = dft_cases.rename(columns = {'index':'state'})\n",
    "dft_deaths = dft_deaths.rename(columns = {'index':'state'})"
   ]
  },
  {
   "cell_type": "code",
   "execution_count": 10,
   "metadata": {
    "execution": {
     "iopub.execute_input": "2020-10-13T11:24:08.424474Z",
     "iopub.status.busy": "2020-10-13T11:24:08.422374Z",
     "iopub.status.idle": "2020-10-13T11:24:08.431055Z",
     "shell.execute_reply": "2020-10-13T11:24:08.431510Z"
    },
    "papermill": {
     "duration": 0.033123,
     "end_time": "2020-10-13T11:24:08.431672",
     "exception": false,
     "start_time": "2020-10-13T11:24:08.398549",
     "status": "completed"
    },
    "tags": []
   },
   "outputs": [],
   "source": [
    "#hide\n",
    "dfc_cases = dft_cases.groupby('state')[dt_today].sum()\n",
    "dfc_deaths = dft_deaths.groupby('state')[dt_today].sum()\n",
    "dfp_cases = dft_cases.groupby('state')[dt_yday].sum()\n",
    "dfp_deaths = dft_deaths.groupby('state')[dt_yday].sum()"
   ]
  },
  {
   "cell_type": "code",
   "execution_count": 11,
   "metadata": {
    "execution": {
     "iopub.execute_input": "2020-10-13T11:24:08.477951Z",
     "iopub.status.busy": "2020-10-13T11:24:08.477268Z",
     "iopub.status.idle": "2020-10-13T11:24:08.483869Z",
     "shell.execute_reply": "2020-10-13T11:24:08.483379Z"
    },
    "papermill": {
     "duration": 0.03673,
     "end_time": "2020-10-13T11:24:08.484009",
     "exception": false,
     "start_time": "2020-10-13T11:24:08.447279",
     "status": "completed"
    },
    "tags": []
   },
   "outputs": [
    {
     "data": {
      "text/html": [
       "<div>\n",
       "<style scoped>\n",
       "    .dataframe tbody tr th:only-of-type {\n",
       "        vertical-align: middle;\n",
       "    }\n",
       "\n",
       "    .dataframe tbody tr th {\n",
       "        vertical-align: top;\n",
       "    }\n",
       "\n",
       "    .dataframe thead th {\n",
       "        text-align: right;\n",
       "    }\n",
       "</style>\n",
       "<table border=\"1\" class=\"dataframe\">\n",
       "  <thead>\n",
       "    <tr style=\"text-align: right;\">\n",
       "      <th></th>\n",
       "      <th>states</th>\n",
       "      <th>Cases</th>\n",
       "      <th>Deaths</th>\n",
       "      <th>PCases</th>\n",
       "      <th>PDeaths</th>\n",
       "    </tr>\n",
       "  </thead>\n",
       "  <tbody>\n",
       "    <tr>\n",
       "      <th>0</th>\n",
       "      <td>Maharashtra</td>\n",
       "      <td>1535315</td>\n",
       "      <td>40514</td>\n",
       "      <td>1535315</td>\n",
       "      <td>40514</td>\n",
       "    </tr>\n",
       "    <tr>\n",
       "      <th>1</th>\n",
       "      <td>Andhra Pradesh</td>\n",
       "      <td>758951</td>\n",
       "      <td>6256</td>\n",
       "      <td>758951</td>\n",
       "      <td>6256</td>\n",
       "    </tr>\n",
       "    <tr>\n",
       "      <th>2</th>\n",
       "      <td>Karnataka</td>\n",
       "      <td>717915</td>\n",
       "      <td>10036</td>\n",
       "      <td>717915</td>\n",
       "      <td>10036</td>\n",
       "    </tr>\n",
       "    <tr>\n",
       "      <th>3</th>\n",
       "      <td>Tamil Nadu</td>\n",
       "      <td>661264</td>\n",
       "      <td>10314</td>\n",
       "      <td>661264</td>\n",
       "      <td>10314</td>\n",
       "    </tr>\n",
       "    <tr>\n",
       "      <th>4</th>\n",
       "      <td>Uttar Pradesh</td>\n",
       "      <td>439161</td>\n",
       "      <td>6438</td>\n",
       "      <td>439161</td>\n",
       "      <td>6438</td>\n",
       "    </tr>\n",
       "  </tbody>\n",
       "</table>\n",
       "</div>"
      ],
      "text/plain": [
       "           states    Cases  Deaths   PCases  PDeaths\n",
       "0     Maharashtra  1535315   40514  1535315    40514\n",
       "1  Andhra Pradesh   758951    6256   758951     6256\n",
       "2       Karnataka   717915   10036   717915    10036\n",
       "3      Tamil Nadu   661264   10314   661264    10314\n",
       "4   Uttar Pradesh   439161    6438   439161     6438"
      ]
     },
     "execution_count": 11,
     "metadata": {},
     "output_type": "execute_result"
    }
   ],
   "source": [
    "#hide\n",
    "df_table = pd.DataFrame({'states': dfc_cases.index, 'Cases': dfc_cases.values, 'Deaths': dfc_deaths.values, 'PCases': dfp_cases.values, 'PDeaths': dfp_deaths.values}).set_index('states')\n",
    "df_table = df_table.sort_values(by = ['Cases','Deaths'], ascending = [False, False])\n",
    "df_table = df_table.reset_index()\n",
    "df_table.head()"
   ]
  },
  {
   "cell_type": "code",
   "execution_count": 12,
   "metadata": {
    "execution": {
     "iopub.execute_input": "2020-10-13T11:24:08.523744Z",
     "iopub.status.busy": "2020-10-13T11:24:08.523147Z",
     "iopub.status.idle": "2020-10-13T11:24:08.533367Z",
     "shell.execute_reply": "2020-10-13T11:24:08.532846Z"
    },
    "papermill": {
     "duration": 0.032877,
     "end_time": "2020-10-13T11:24:08.533509",
     "exception": false,
     "start_time": "2020-10-13T11:24:08.500632",
     "status": "completed"
    },
    "tags": []
   },
   "outputs": [],
   "source": [
    "#hide\n",
    "for c in 'Cases, Deaths'.split(', '):\n",
    "    df_table[f'{c} (+)'] = (df_table[c] - df_table[f'P{c}']).clip(0)\n",
    "df_table['Fatality Rate'] = (100* df_table['Deaths']/ df_table['Cases']).round(2)"
   ]
  },
  {
   "cell_type": "code",
   "execution_count": 13,
   "metadata": {
    "execution": {
     "iopub.execute_input": "2020-10-13T11:24:09.004382Z",
     "iopub.status.busy": "2020-10-13T11:24:09.003759Z",
     "iopub.status.idle": "2020-10-13T11:24:09.012040Z",
     "shell.execute_reply": "2020-10-13T11:24:09.012515Z"
    },
    "papermill": {
     "duration": 0.462115,
     "end_time": "2020-10-13T11:24:09.012671",
     "exception": false,
     "start_time": "2020-10-13T11:24:08.550556",
     "status": "completed"
    },
    "tags": []
   },
   "outputs": [
    {
     "data": {
      "text/html": [
       "<div>\n",
       "<style scoped>\n",
       "    .dataframe tbody tr th:only-of-type {\n",
       "        vertical-align: middle;\n",
       "    }\n",
       "\n",
       "    .dataframe tbody tr th {\n",
       "        vertical-align: top;\n",
       "    }\n",
       "\n",
       "    .dataframe thead th {\n",
       "        text-align: right;\n",
       "    }\n",
       "</style>\n",
       "<table border=\"1\" class=\"dataframe\">\n",
       "  <thead>\n",
       "    <tr style=\"text-align: right;\">\n",
       "      <th></th>\n",
       "      <th>states</th>\n",
       "      <th>Cases</th>\n",
       "      <th>Deaths</th>\n",
       "      <th>PCases</th>\n",
       "      <th>PDeaths</th>\n",
       "      <th>Cases (+)</th>\n",
       "      <th>Deaths (+)</th>\n",
       "      <th>Fatality Rate</th>\n",
       "    </tr>\n",
       "  </thead>\n",
       "  <tbody>\n",
       "    <tr>\n",
       "      <th>0</th>\n",
       "      <td>Maharashtra</td>\n",
       "      <td>1535315</td>\n",
       "      <td>40514</td>\n",
       "      <td>1535315</td>\n",
       "      <td>40514</td>\n",
       "      <td>0</td>\n",
       "      <td>0</td>\n",
       "      <td>2.64</td>\n",
       "    </tr>\n",
       "    <tr>\n",
       "      <th>1</th>\n",
       "      <td>Andhra Pradesh</td>\n",
       "      <td>758951</td>\n",
       "      <td>6256</td>\n",
       "      <td>758951</td>\n",
       "      <td>6256</td>\n",
       "      <td>0</td>\n",
       "      <td>0</td>\n",
       "      <td>0.82</td>\n",
       "    </tr>\n",
       "    <tr>\n",
       "      <th>2</th>\n",
       "      <td>Karnataka</td>\n",
       "      <td>717915</td>\n",
       "      <td>10036</td>\n",
       "      <td>717915</td>\n",
       "      <td>10036</td>\n",
       "      <td>0</td>\n",
       "      <td>0</td>\n",
       "      <td>1.40</td>\n",
       "    </tr>\n",
       "    <tr>\n",
       "      <th>3</th>\n",
       "      <td>Tamil Nadu</td>\n",
       "      <td>661264</td>\n",
       "      <td>10314</td>\n",
       "      <td>661264</td>\n",
       "      <td>10314</td>\n",
       "      <td>0</td>\n",
       "      <td>0</td>\n",
       "      <td>1.56</td>\n",
       "    </tr>\n",
       "    <tr>\n",
       "      <th>4</th>\n",
       "      <td>Uttar Pradesh</td>\n",
       "      <td>439161</td>\n",
       "      <td>6438</td>\n",
       "      <td>439161</td>\n",
       "      <td>6438</td>\n",
       "      <td>0</td>\n",
       "      <td>0</td>\n",
       "      <td>1.47</td>\n",
       "    </tr>\n",
       "  </tbody>\n",
       "</table>\n",
       "</div>"
      ],
      "text/plain": [
       "           states    Cases  Deaths   PCases  PDeaths  Cases (+)  Deaths (+)  \\\n",
       "0     Maharashtra  1535315   40514  1535315    40514          0           0   \n",
       "1  Andhra Pradesh   758951    6256   758951     6256          0           0   \n",
       "2       Karnataka   717915   10036   717915    10036          0           0   \n",
       "3      Tamil Nadu   661264   10314   661264    10314          0           0   \n",
       "4   Uttar Pradesh   439161    6438   439161     6438          0           0   \n",
       "\n",
       "   Fatality Rate  \n",
       "0           2.64  \n",
       "1           0.82  \n",
       "2           1.40  \n",
       "3           1.56  \n",
       "4           1.47  "
      ]
     },
     "execution_count": 13,
     "metadata": {},
     "output_type": "execute_result"
    }
   ],
   "source": [
    "#hide\n",
    "df_table.head()"
   ]
  },
  {
   "cell_type": "code",
   "execution_count": 14,
   "metadata": {
    "execution": {
     "iopub.execute_input": "2020-10-13T11:24:09.186524Z",
     "iopub.status.busy": "2020-10-13T11:24:09.185911Z",
     "iopub.status.idle": "2020-10-13T11:24:09.201712Z",
     "shell.execute_reply": "2020-10-13T11:24:09.202188Z"
    },
    "papermill": {
     "duration": 0.103735,
     "end_time": "2020-10-13T11:24:09.202342",
     "exception": false,
     "start_time": "2020-10-13T11:24:09.098607",
     "status": "completed"
    },
    "tags": []
   },
   "outputs": [
    {
     "data": {
      "text/plain": [
       "{'updated': '2020-10-13',\n",
       " 'since': '2020-10-12',\n",
       " 'Cases': 7177783,\n",
       " 'PCases': 7173565,\n",
       " 'Deaths': 109917,\n",
       " 'PDeaths': 109894,\n",
       " 'Cases (+)': 4218,\n",
       " 'Deaths (+)': 23}"
      ]
     },
     "execution_count": 14,
     "metadata": {},
     "output_type": "execute_result"
    }
   ],
   "source": [
    "#hide\n",
    "summary = {'updated':dates[-1], 'since':dates[-2]}\n",
    "list_names = ['Cases', 'PCases', 'Deaths', 'PDeaths', 'Cases (+)', 'Deaths (+)']\n",
    "for name in list_names:\n",
    "    summary[name] = df_table.sum()[name]\n",
    "summary"
   ]
  },
  {
   "cell_type": "code",
   "execution_count": 15,
   "metadata": {
    "execution": {
     "iopub.execute_input": "2020-10-13T11:24:09.241444Z",
     "iopub.status.busy": "2020-10-13T11:24:09.240550Z",
     "iopub.status.idle": "2020-10-13T11:24:09.242355Z",
     "shell.execute_reply": "2020-10-13T11:24:09.243026Z"
    },
    "papermill": {
     "duration": 0.02425,
     "end_time": "2020-10-13T11:24:09.243225",
     "exception": false,
     "start_time": "2020-10-13T11:24:09.218975",
     "status": "completed"
    },
    "tags": []
   },
   "outputs": [],
   "source": [
    "#hide\n",
    "overview = '''\n",
    "<!-- #######  HTML!! #########-->\n",
    "<h1 style=\"color: #5e9ca0; text-align: center;\">India</h1>\n",
    "<p style=\"text-align: center;\">Last update: <strong>{update}</strong></p>\n",
    "<p style=\"text-align: center;\">Confirmed cases:</p>\n",
    "<p style=\"text-align: center;font-size:24px;\">{cases} (<span style=\"color: #ff0000;\">+{new}</span>)</p>\n",
    "<p style=\"text-align: center;\">Confirmed deaths:</p>\n",
    "<p style=\"text-align: center;font-size:24px;\">{deaths} (<span style=\"color: #ff0000;\">+{dnew}</span>)</p>\n",
    "'''"
   ]
  },
  {
   "cell_type": "code",
   "execution_count": 16,
   "metadata": {
    "execution": {
     "iopub.execute_input": "2020-10-13T11:24:09.285985Z",
     "iopub.status.busy": "2020-10-13T11:24:09.285346Z",
     "iopub.status.idle": "2020-10-13T11:24:09.289029Z",
     "shell.execute_reply": "2020-10-13T11:24:09.288555Z"
    },
    "papermill": {
     "duration": 0.028212,
     "end_time": "2020-10-13T11:24:09.289162",
     "exception": false,
     "start_time": "2020-10-13T11:24:09.260950",
     "status": "completed"
    },
    "tags": []
   },
   "outputs": [
    {
     "data": {
      "text/html": [
       "\n",
       "<!-- #######  HTML!! #########-->\n",
       "<h1 style=\"color: #5e9ca0; text-align: center;\">India</h1>\n",
       "<p style=\"text-align: center;\">Last update: <strong>2020-10-13</strong></p>\n",
       "<p style=\"text-align: center;\">Confirmed cases:</p>\n",
       "<p style=\"text-align: center;font-size:24px;\">7177783 (<span style=\"color: #ff0000;\">+4218</span>)</p>\n",
       "<p style=\"text-align: center;\">Confirmed deaths:</p>\n",
       "<p style=\"text-align: center;font-size:24px;\">109917 (<span style=\"color: #ff0000;\">+23</span>)</p>\n"
      ],
      "text/plain": [
       "<IPython.core.display.HTML object>"
      ]
     },
     "metadata": {},
     "output_type": "display_data"
    }
   ],
   "source": [
    "#hide_input\n",
    "update = summary['updated']\n",
    "cases = summary['Cases']\n",
    "new = summary['Cases (+)']\n",
    "deaths = summary['Deaths']\n",
    "dnew = summary['Deaths (+)']\n",
    "\n",
    "html = HTML(overview.format(update=update, cases=cases,new=new,deaths=deaths,dnew=dnew))\n",
    "\n",
    "display(html)"
   ]
  },
  {
   "cell_type": "code",
   "execution_count": 17,
   "metadata": {
    "execution": {
     "iopub.execute_input": "2020-10-13T11:24:09.333075Z",
     "iopub.status.busy": "2020-10-13T11:24:09.332481Z",
     "iopub.status.idle": "2020-10-13T11:24:09.337280Z",
     "shell.execute_reply": "2020-10-13T11:24:09.337766Z"
    },
    "papermill": {
     "duration": 0.031669,
     "end_time": "2020-10-13T11:24:09.337920",
     "exception": false,
     "start_time": "2020-10-13T11:24:09.306251",
     "status": "completed"
    },
    "tags": []
   },
   "outputs": [],
   "source": [
    "#hide\n",
    "dt_cols = list(dft_cases.columns[1:])\n",
    "dft_ct_new_cases = dft_cases.groupby('state')[dt_cols].sum().diff(axis=1).fillna(0).astype(int)\n",
    "dft_ct_new_cases.sort_values(by = dates[-1], ascending = False,inplace = True)"
   ]
  },
  {
   "cell_type": "code",
   "execution_count": 18,
   "metadata": {
    "execution": {
     "iopub.execute_input": "2020-10-13T11:24:09.375799Z",
     "iopub.status.busy": "2020-10-13T11:24:09.375193Z",
     "iopub.status.idle": "2020-10-13T11:24:09.393171Z",
     "shell.execute_reply": "2020-10-13T11:24:09.393671Z"
    },
    "papermill": {
     "duration": 0.038672,
     "end_time": "2020-10-13T11:24:09.393829",
     "exception": false,
     "start_time": "2020-10-13T11:24:09.355157",
     "status": "completed"
    },
    "tags": []
   },
   "outputs": [
    {
     "data": {
      "text/html": [
       "<div>\n",
       "<style scoped>\n",
       "    .dataframe tbody tr th:only-of-type {\n",
       "        vertical-align: middle;\n",
       "    }\n",
       "\n",
       "    .dataframe tbody tr th {\n",
       "        vertical-align: top;\n",
       "    }\n",
       "\n",
       "    .dataframe thead th {\n",
       "        text-align: right;\n",
       "    }\n",
       "</style>\n",
       "<table border=\"1\" class=\"dataframe\">\n",
       "  <thead>\n",
       "    <tr style=\"text-align: right;\">\n",
       "      <th>states</th>\n",
       "      <th>2020-07-01</th>\n",
       "      <th>2020-07-02</th>\n",
       "      <th>2020-07-03</th>\n",
       "      <th>2020-07-04</th>\n",
       "      <th>2020-07-05</th>\n",
       "      <th>2020-07-06</th>\n",
       "      <th>2020-07-07</th>\n",
       "      <th>2020-07-08</th>\n",
       "      <th>2020-07-09</th>\n",
       "      <th>2020-07-10</th>\n",
       "      <th>...</th>\n",
       "      <th>2020-10-04</th>\n",
       "      <th>2020-10-05</th>\n",
       "      <th>2020-10-06</th>\n",
       "      <th>2020-10-07</th>\n",
       "      <th>2020-10-08</th>\n",
       "      <th>2020-10-09</th>\n",
       "      <th>2020-10-10</th>\n",
       "      <th>2020-10-11</th>\n",
       "      <th>2020-10-12</th>\n",
       "      <th>2020-10-13</th>\n",
       "    </tr>\n",
       "    <tr>\n",
       "      <th>state</th>\n",
       "      <th></th>\n",
       "      <th></th>\n",
       "      <th></th>\n",
       "      <th></th>\n",
       "      <th></th>\n",
       "      <th></th>\n",
       "      <th></th>\n",
       "      <th></th>\n",
       "      <th></th>\n",
       "      <th></th>\n",
       "      <th></th>\n",
       "      <th></th>\n",
       "      <th></th>\n",
       "      <th></th>\n",
       "      <th></th>\n",
       "      <th></th>\n",
       "      <th></th>\n",
       "      <th></th>\n",
       "      <th></th>\n",
       "      <th></th>\n",
       "      <th></th>\n",
       "    </tr>\n",
       "  </thead>\n",
       "  <tbody>\n",
       "    <tr>\n",
       "      <th>Odisha</th>\n",
       "      <td>0</td>\n",
       "      <td>229</td>\n",
       "      <td>561</td>\n",
       "      <td>495</td>\n",
       "      <td>469</td>\n",
       "      <td>456</td>\n",
       "      <td>571</td>\n",
       "      <td>527</td>\n",
       "      <td>577</td>\n",
       "      <td>755</td>\n",
       "      <td>...</td>\n",
       "      <td>3326</td>\n",
       "      <td>2617</td>\n",
       "      <td>2673</td>\n",
       "      <td>2995</td>\n",
       "      <td>3144</td>\n",
       "      <td>2697</td>\n",
       "      <td>2854</td>\n",
       "      <td>2546</td>\n",
       "      <td>2423</td>\n",
       "      <td>2275</td>\n",
       "    </tr>\n",
       "    <tr>\n",
       "      <th>Telangana</th>\n",
       "      <td>0</td>\n",
       "      <td>1213</td>\n",
       "      <td>1892</td>\n",
       "      <td>1850</td>\n",
       "      <td>1590</td>\n",
       "      <td>1831</td>\n",
       "      <td>1879</td>\n",
       "      <td>1924</td>\n",
       "      <td>1410</td>\n",
       "      <td>1278</td>\n",
       "      <td>...</td>\n",
       "      <td>1949</td>\n",
       "      <td>1335</td>\n",
       "      <td>1983</td>\n",
       "      <td>2154</td>\n",
       "      <td>1896</td>\n",
       "      <td>1891</td>\n",
       "      <td>1811</td>\n",
       "      <td>1717</td>\n",
       "      <td>1021</td>\n",
       "      <td>1708</td>\n",
       "    </tr>\n",
       "    <tr>\n",
       "      <th>Tripura</th>\n",
       "      <td>0</td>\n",
       "      <td>39</td>\n",
       "      <td>93</td>\n",
       "      <td>25</td>\n",
       "      <td>23</td>\n",
       "      <td>111</td>\n",
       "      <td>24</td>\n",
       "      <td>57</td>\n",
       "      <td>16</td>\n",
       "      <td>142</td>\n",
       "      <td>...</td>\n",
       "      <td>322</td>\n",
       "      <td>159</td>\n",
       "      <td>275</td>\n",
       "      <td>237</td>\n",
       "      <td>214</td>\n",
       "      <td>223</td>\n",
       "      <td>171</td>\n",
       "      <td>199</td>\n",
       "      <td>109</td>\n",
       "      <td>217</td>\n",
       "    </tr>\n",
       "    <tr>\n",
       "      <th>Mizoram</th>\n",
       "      <td>0</td>\n",
       "      <td>2</td>\n",
       "      <td>0</td>\n",
       "      <td>2</td>\n",
       "      <td>22</td>\n",
       "      <td>11</td>\n",
       "      <td>1</td>\n",
       "      <td>5</td>\n",
       "      <td>0</td>\n",
       "      <td>23</td>\n",
       "      <td>...</td>\n",
       "      <td>17</td>\n",
       "      <td>0</td>\n",
       "      <td>8</td>\n",
       "      <td>20</td>\n",
       "      <td>2</td>\n",
       "      <td>7</td>\n",
       "      <td>5</td>\n",
       "      <td>13</td>\n",
       "      <td>9</td>\n",
       "      <td>18</td>\n",
       "    </tr>\n",
       "    <tr>\n",
       "      <th>Andaman and Nicobar Islands</th>\n",
       "      <td>0</td>\n",
       "      <td>9</td>\n",
       "      <td>7</td>\n",
       "      <td>3</td>\n",
       "      <td>6</td>\n",
       "      <td>16</td>\n",
       "      <td>6</td>\n",
       "      <td>2</td>\n",
       "      <td>7</td>\n",
       "      <td>0</td>\n",
       "      <td>...</td>\n",
       "      <td>16</td>\n",
       "      <td>15</td>\n",
       "      <td>13</td>\n",
       "      <td>23</td>\n",
       "      <td>17</td>\n",
       "      <td>24</td>\n",
       "      <td>16</td>\n",
       "      <td>13</td>\n",
       "      <td>18</td>\n",
       "      <td>0</td>\n",
       "    </tr>\n",
       "  </tbody>\n",
       "</table>\n",
       "<p>5 rows × 105 columns</p>\n",
       "</div>"
      ],
      "text/plain": [
       "states                       2020-07-01  2020-07-02  2020-07-03  2020-07-04  \\\n",
       "state                                                                         \n",
       "Odisha                                0         229         561         495   \n",
       "Telangana                             0        1213        1892        1850   \n",
       "Tripura                               0          39          93          25   \n",
       "Mizoram                               0           2           0           2   \n",
       "Andaman and Nicobar Islands           0           9           7           3   \n",
       "\n",
       "states                       2020-07-05  2020-07-06  2020-07-07  2020-07-08  \\\n",
       "state                                                                         \n",
       "Odisha                              469         456         571         527   \n",
       "Telangana                          1590        1831        1879        1924   \n",
       "Tripura                              23         111          24          57   \n",
       "Mizoram                              22          11           1           5   \n",
       "Andaman and Nicobar Islands           6          16           6           2   \n",
       "\n",
       "states                       2020-07-09  2020-07-10  ...  2020-10-04  \\\n",
       "state                                                ...               \n",
       "Odisha                              577         755  ...        3326   \n",
       "Telangana                          1410        1278  ...        1949   \n",
       "Tripura                              16         142  ...         322   \n",
       "Mizoram                               0          23  ...          17   \n",
       "Andaman and Nicobar Islands           7           0  ...          16   \n",
       "\n",
       "states                       2020-10-05  2020-10-06  2020-10-07  2020-10-08  \\\n",
       "state                                                                         \n",
       "Odisha                             2617        2673        2995        3144   \n",
       "Telangana                          1335        1983        2154        1896   \n",
       "Tripura                             159         275         237         214   \n",
       "Mizoram                               0           8          20           2   \n",
       "Andaman and Nicobar Islands          15          13          23          17   \n",
       "\n",
       "states                       2020-10-09  2020-10-10  2020-10-11  2020-10-12  \\\n",
       "state                                                                         \n",
       "Odisha                             2697        2854        2546        2423   \n",
       "Telangana                          1891        1811        1717        1021   \n",
       "Tripura                             223         171         199         109   \n",
       "Mizoram                               7           5          13           9   \n",
       "Andaman and Nicobar Islands          24          16          13          18   \n",
       "\n",
       "states                       2020-10-13  \n",
       "state                                    \n",
       "Odisha                             2275  \n",
       "Telangana                          1708  \n",
       "Tripura                             217  \n",
       "Mizoram                              18  \n",
       "Andaman and Nicobar Islands           0  \n",
       "\n",
       "[5 rows x 105 columns]"
      ]
     },
     "execution_count": 18,
     "metadata": {},
     "output_type": "execute_result"
    }
   ],
   "source": [
    "#hide\n",
    "dft_ct_new_cases.head()"
   ]
  },
  {
   "cell_type": "code",
   "execution_count": 19,
   "metadata": {
    "execution": {
     "iopub.execute_input": "2020-10-13T11:24:09.465009Z",
     "iopub.status.busy": "2020-10-13T11:24:09.447730Z",
     "iopub.status.idle": "2020-10-13T11:24:13.477953Z",
     "shell.execute_reply": "2020-10-13T11:24:13.478429Z"
    },
    "papermill": {
     "duration": 4.066976,
     "end_time": "2020-10-13T11:24:13.478586",
     "exception": false,
     "start_time": "2020-10-13T11:24:09.411610",
     "status": "completed"
    },
    "tags": []
   },
   "outputs": [
    {
     "data": {
      "image/png": "[encoded data removed]",
      "text/plain": [
       "<Figure size 1296x2016 with 11 Axes>"
      ]
     },
     "metadata": {
      "needs_background": "light"
     },
     "output_type": "display_data"
    }
   ],
   "source": [
    "#hide_input\n",
    "df = dft_ct_new_cases.copy()\n",
    "df.loc['Total'] = df.sum()\n",
    "n = 5\n",
    "ax = []\n",
    "fig = plt.figure(figsize = (18,28))\n",
    "gs = fig.add_gridspec(n+2, 5)\n",
    "# gs = fig.add_gridspec(2, 3)\n",
    "ax1 = fig.add_subplot(gs[0, :])\n",
    "ef = df.loc['Total'].rename_axis('date').reset_index()\n",
    "ef['date'] = ef['date'].astype('datetime64[ns]')\n",
    "ax1.bar(ef.date,ef.Total,alpha=0.3,color='#007acc')\n",
    "ax1.plot(ef.date,ef.Total , marker=\"o\", color='#007acc')\n",
    "ax1.xaxis.set_major_locator(mdates.WeekdayLocator())\n",
    "ax1.xaxis.set_major_formatter(mdates.DateFormatter('%b %d'))\n",
    "ax1.text(0.02, 0.5,'India daily case count', transform = ax1.transAxes, fontsize=25);\n",
    "ax1.spines['right'].set_visible(False)\n",
    "ax1.spines['top'].set_visible(False)\n",
    "\n",
    "ax2 = fig.add_subplot(gs[1,0])\n",
    "ef = df.loc['Maharashtra'].rename_axis('date').reset_index()\n",
    "ef['date'] = ef['date'].astype('datetime64[ns]')\n",
    "\n",
    "ax2.bar(ef.date, ef.Maharashtra,color = '#007acc',alpha=0.5)\n",
    "ax2.xaxis.set_major_locator(mdates.WeekdayLocator())\n",
    "ax2.xaxis.set_major_formatter(mdates.DateFormatter('%b %d'))\n",
    "ax2.set_xticks(ax2.get_xticks()[::3])\n",
    "maxyval = ef.Maharashtra.max()\n",
    "ax2.set_ylim([0,maxyval])\n",
    "ax2.text(0.05, 0.9,'Maharashtra', transform = ax2.transAxes, fontsize=20);\n",
    "ax2.spines['right'].set_visible(False)\n",
    "ax2.spines['top'].set_visible(False)\n",
    "\n",
    "\n",
    "ax3 = fig.add_subplot(gs[1,1])\n",
    "ef = df.loc['Tamil Nadu'].rename_axis('date').reset_index()\n",
    "ef['date'] = ef['date'].astype('datetime64[ns]')\n",
    "ax3.bar(ef.date, ef['Tamil Nadu'],color = '#007acc',alpha=0.5,)\n",
    "ax3.xaxis.set_major_locator(mdates.WeekdayLocator())\n",
    "ax3.xaxis.set_major_formatter(mdates.DateFormatter('%b %d'))\n",
    "ax3.set_xticks(ax3.get_xticks()[::3])\n",
    "ax3.text(0.05, 0.9,'Tamil Nadu', transform = ax3.transAxes, fontsize=20);\n",
    "ax3.spines['right'].set_visible(False)\n",
    "ax3.spines['top'].set_visible(False)\n",
    "\n",
    "ax5 = fig.add_subplot(gs[1,3])\n",
    "ef = df.loc['Telangana'].rename_axis('date').reset_index()\n",
    "ef['date'] = ef['date'].astype('datetime64[ns]')\n",
    "ax5.bar(ef.date, ef['Telangana'],color = '#007acc',alpha=0.5,)\n",
    "ax5.xaxis.set_major_locator(mdates.WeekdayLocator())\n",
    "ax5.xaxis.set_major_formatter(mdates.DateFormatter('%b %d'))\n",
    "ax5.set_xticks(ax5.get_xticks()[::3])\n",
    "ax5.text(0.05, 0.9,'Telangana', transform = ax5.transAxes, fontsize=20);\n",
    "ax5.spines['right'].set_visible(False)\n",
    "ax5.spines['top'].set_visible(False)\n",
    "\n",
    "ax6 = fig.add_subplot(gs[1,4])\n",
    "ef = df.loc['Andhra Pradesh'].rename_axis('date').reset_index()\n",
    "ef['date'] = ef['date'].astype('datetime64[ns]')\n",
    "ax6.bar(ef.date, ef['Andhra Pradesh'],color = '#007acc',alpha=0.5,)\n",
    "ax6.xaxis.set_major_locator(mdates.WeekdayLocator())\n",
    "ax6.xaxis.set_major_formatter(mdates.DateFormatter('%b %d'))\n",
    "ax6.set_xticks(ax6.get_xticks()[::3])\n",
    "ax6.text(0.05, 1,'Andhra Pradesh', transform = ax6.transAxes, fontsize=20);\n",
    "ax6.spines['right'].set_visible(False)\n",
    "ax6.spines['top'].set_visible(False)\n",
    "\n",
    "ax4 = fig.add_subplot(gs[1,2])\n",
    "ef = df.loc['Delhi'].rename_axis('date').reset_index()\n",
    "ef['date'] = ef['date'].astype('datetime64[ns]')\n",
    "ax4.bar(ef.date, ef.Delhi,color = '#007acc',alpha=0.5)\n",
    "ax4.set_xticks([])\n",
    "ax4.xaxis.set_major_locator(mdates.WeekdayLocator())\n",
    "ax4.xaxis.set_major_formatter(mdates.DateFormatter('%b %d'))\n",
    "ax4.set_xticks(ax4.get_xticks()[::3])\n",
    "ax4.spines['right'].set_visible(False)\n",
    "ax4.spines['top'].set_visible(False)\n",
    "\n",
    "ax4.text(0.05, 1,'Delhi', transform = ax4.transAxes, fontsize=20)\n",
    "\n",
    "for i in range(n):\n",
    "    \n",
    "    ax.append(fig.add_subplot(gs[i+2,:]))\n",
    "    ef = df.iloc[i+3].rename_axis('date').reset_index()\n",
    "    ef['date'] = ef['date'].astype('datetime64[ns]')\n",
    "    ax[i].bar(ef.date,ef.iloc[:,-1],color = '#007acc',alpha=0.3)\n",
    "    ax[i].plot(ef.date,ef.iloc[:,-1],marker='o',color='#007acc')\n",
    "    ax[i].text(0.02,0.5,f'{ef.columns.values[-1]}',transform = ax[i].transAxes, fontsize = 20);\n",
    "    ax[i].xaxis.set_major_locator(mdates.WeekdayLocator())\n",
    "    ax[i].xaxis.set_major_formatter(mdates.DateFormatter('%b %d'))\n",
    "    ax[i].set_ylim([0,7000])\n",
    "    ax[i].spines['right'].set_visible(False)\n",
    "    ax[i].spines['top'].set_visible(False)\n",
    "plt.tight_layout()\n"
   ]
  },
  {
   "cell_type": "code",
   "execution_count": 20,
   "metadata": {
    "execution": {
     "iopub.execute_input": "2020-10-13T11:24:13.534417Z",
     "iopub.status.busy": "2020-10-13T11:24:13.533789Z",
     "iopub.status.idle": "2020-10-13T11:24:13.536032Z",
     "shell.execute_reply": "2020-10-13T11:24:13.536499Z"
    },
    "papermill": {
     "duration": 0.035119,
     "end_time": "2020-10-13T11:24:13.536650",
     "exception": false,
     "start_time": "2020-10-13T11:24:13.501531",
     "status": "completed"
    },
    "tags": []
   },
   "outputs": [
    {
     "name": "stdout",
     "output_type": "stream",
     "text": [
      "                                   states    Cases  Deaths   PCases  PDeaths  Cases (+)  Deaths (+)  Fatality Rate\n",
      "                              Maharashtra  1535315   40514  1535315    40514          0           0           2.64\n",
      "                           Andhra Pradesh   758951    6256   758951     6256          0           0           0.82\n",
      "                                Karnataka   717915   10036   717915    10036          0           0           1.40\n",
      "                               Tamil Nadu   661264   10314   661264    10314          0           0           1.56\n",
      "                            Uttar Pradesh   439161    6438   439161     6438          0           0           1.47\n",
      "                                    Delhi   311188    5809   311188     5809          0           0           1.87\n",
      "                              West Bengal   298389    5682   298389     5682          0           0           1.90\n",
      "                                   Kerala   295133    1026   295133     1026          0           0           0.35\n",
      "                                   Odisha   256937    1110   254662     1093       2275          17           0.43\n",
      "                                Telangana   214792    1233   213084     1228       1708           5           0.57\n",
      "                                    Bihar   197000     955   197000      955          0           0           0.48\n",
      "                                    Assam   195304     826   195304      826          0           0           0.42\n",
      "                                Rajasthan   161184    1665   161184     1665          0           0           1.03\n",
      "                                  Gujarat   152764    3577   152764     3577          0           0           2.34\n",
      "                           Madhya Pradesh   148298    2645   148298     2645          0           0           1.78\n",
      "                             Chhattisgarh   145247    1286   145247     1286          0           0           0.89\n",
      "                                  Haryana   143221    1592   143221     1592          0           0           1.11\n",
      "                                   Punjab   124535    3860   124535     3860          0           0           3.10\n",
      "                                Jharkhand    93035     798    93035      798          0           0           0.86\n",
      "                        Jammu and Kashmir    84031    1333    84031     1333          0           0           1.59\n",
      "                              Uttarakhand    55347     762    55347      762          0           0           1.38\n",
      "                                      Goa    38674     511    38674      511          0           0           1.32\n",
      "                               Puducherry    31737     565    31737      565          0           0           1.78\n",
      "                                  Tripura    28675     314    28458      313        217           1           1.10\n",
      "                         Himachal Pradesh    17578     246    17578      246          0           0           1.40\n",
      "                                  Manipur    13556      93    13556       93          0           0           0.69\n",
      "                               Chandigarh    13264     192    13264      192          0           0           1.45\n",
      "                        Arunachal Pradesh    12367      24    12367       24          0           0           0.19\n",
      "                                Meghalaya     7771      64     7771       64          0           0           0.82\n",
      "                                 Nagaland     7240      13     7240       13          0           0           0.18\n",
      "                                   Ladakh     5151      64     5151       64          0           0           1.24\n",
      "              Andaman and Nicobar Islands     4023      55     4023       55          0           0           1.37\n",
      "                                   Sikkim     3367      57     3367       57          0           0           1.69\n",
      " Dadra and Nagar Haveli and Daman and Diu     3167       2     3167        2          0           0           0.06\n",
      "                                  Mizoram     2202       0     2184        0         18           0           0.00\n",
      "                              Lakshadweep        0       0        0        0          0           0            NaN\n"
     ]
    }
   ],
   "source": [
    "#hide_input\n",
    "print(df_table.to_string(index=False))"
   ]
  },
  {
   "cell_type": "code",
   "execution_count": null,
   "metadata": {
    "papermill": {
     "duration": 0.02397,
     "end_time": "2020-10-13T11:24:13.584252",
     "exception": false,
     "start_time": "2020-10-13T11:24:13.560282",
     "status": "completed"
    },
    "tags": []
   },
   "outputs": [],
   "source": []
  },
  {
   "cell_type": "code",
   "execution_count": null,
   "metadata": {
    "papermill": {
     "duration": 0.024295,
     "end_time": "2020-10-13T11:24:13.634536",
     "exception": false,
     "start_time": "2020-10-13T11:24:13.610241",
     "status": "completed"
    },
    "tags": []
   },
   "outputs": [],
   "source": []
  }
 ],
 "metadata": {
  "kernelspec": {
   "display_name": "Python 3",
   "language": "python",
   "name": "python3"
  },
  "language_info": {
   "codemirror_mode": {
    "name": "ipython",
    "version": 3
   },
   "file_extension": ".py",
   "mimetype": "text/x-python",
   "name": "python",
   "nbconvert_exporter": "python",
   "pygments_lexer": "ipython3",
   "version": "3.6.12"
  },
  "papermill": {
   "duration": 10.996187,
   "end_time": "2020-10-13T11:24:14.165982",
   "environment_variables": {},
   "exception": null,
   "input_path": "latest.ipynb",
   "output_path": "latest.ipynb",
   "parameters": {},
   "start_time": "2020-10-13T11:24:03.169795",
   "version": "2.1.2"
  }
 },
 "nbformat": 4,
 "nbformat_minor": 4
}