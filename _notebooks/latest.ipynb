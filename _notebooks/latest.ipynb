{
 "cells": [
  {
   "cell_type": "markdown",
   "id": "colored-stack",
   "metadata": {
    "papermill": {
     "duration": 0.022317,
     "end_time": "2021-01-22T15:05:34.254064",
     "exception": false,
     "start_time": "2021-01-22T15:05:34.231747",
     "status": "completed"
    },
    "tags": []
   },
   "source": [
    "# Latest COVID-19 India Matplotlib Overview"
   ]
  },
  {
   "cell_type": "code",
   "execution_count": 1,
   "id": "light-proportion",
   "metadata": {
    "execution": {
     "iopub.execute_input": "2021-01-22T15:05:34.302484Z",
     "iopub.status.busy": "2021-01-22T15:05:34.301895Z",
     "iopub.status.idle": "2021-01-22T15:05:34.892542Z",
     "shell.execute_reply": "2021-01-22T15:05:34.891595Z"
    },
    "papermill": {
     "duration": 0.621066,
     "end_time": "2021-01-22T15:05:34.892705",
     "exception": false,
     "start_time": "2021-01-22T15:05:34.271639",
     "status": "completed"
    },
    "tags": []
   },
   "outputs": [],
   "source": [
    "#hide\n",
    "import pandas as pd\n",
    "import numpy as np\n",
    "import requests\n",
    "import json\n",
    "import matplotlib.pyplot as plt\n",
    "import matplotlib.dates as mdates\n",
    "import matplotlib as mpl\n",
    "from IPython.core.display import display,HTML\n",
    "%matplotlib inline\n",
    "from datetime import date"
   ]
  },
  {
   "cell_type": "code",
   "execution_count": 2,
   "id": "greenhouse-shooting",
   "metadata": {
    "execution": {
     "iopub.execute_input": "2021-01-22T15:05:34.932868Z",
     "iopub.status.busy": "2021-01-22T15:05:34.932283Z",
     "iopub.status.idle": "2021-01-22T15:05:35.081744Z",
     "shell.execute_reply": "2021-01-22T15:05:35.080790Z"
    },
    "papermill": {
     "duration": 0.172323,
     "end_time": "2021-01-22T15:05:35.081962",
     "exception": false,
     "start_time": "2021-01-22T15:05:34.909639",
     "status": "completed"
    },
    "tags": []
   },
   "outputs": [],
   "source": [
    "#hide\n",
    "df  = pd.read_csv('https://api.covid19india.org/csv/latest/states.csv')\n",
    "df = df[['Date','State','Confirmed','Deceased']]\n",
    "df = df.rename(columns={'Confirmed':'Cases', \"Deceased\":'Deaths'})\n",
    "df_cases = df[[\"Date\",'State','Cases']]\n",
    "df_deaths = df[['Date','State','Deaths']]\n",
    "df_cases1 = df_cases.groupby('Date')\n",
    "df_deaths1= df_deaths.groupby('Date')"
   ]
  },
  {
   "cell_type": "code",
   "execution_count": 3,
   "id": "hybrid-cathedral",
   "metadata": {
    "execution": {
     "iopub.execute_input": "2021-01-22T15:05:35.122470Z",
     "iopub.status.busy": "2021-01-22T15:05:35.121902Z",
     "iopub.status.idle": "2021-01-22T15:05:35.139561Z",
     "shell.execute_reply": "2021-01-22T15:05:35.139087Z"
    },
    "papermill": {
     "duration": 0.039323,
     "end_time": "2021-01-22T15:05:35.139686",
     "exception": false,
     "start_time": "2021-01-22T15:05:35.100363",
     "status": "completed"
    },
    "tags": []
   },
   "outputs": [],
   "source": [
    "#hide\n",
    "df_snap = pd.read_csv('data/SnapshotCases-28-July.csv')\n",
    "arr_states = df_snap['states'].unique()\n",
    "arr_dates = df['Date'].unique()\n",
    "df_snap = df_snap.set_index('states')"
   ]
  },
  {
   "cell_type": "code",
   "execution_count": 4,
   "id": "interior-belfast",
   "metadata": {
    "execution": {
     "iopub.execute_input": "2021-01-22T15:05:35.176391Z",
     "iopub.status.busy": "2021-01-22T15:05:35.175825Z",
     "iopub.status.idle": "2021-01-22T15:05:35.183014Z",
     "shell.execute_reply": "2021-01-22T15:05:35.182525Z"
    },
    "papermill": {
     "duration": 0.02692,
     "end_time": "2021-01-22T15:05:35.183131",
     "exception": false,
     "start_time": "2021-01-22T15:05:35.156211",
     "status": "completed"
    },
    "tags": []
   },
   "outputs": [
    {
     "data": {
      "text/plain": [
       "array(['Andaman and Nicobar Islands', 'Andhra Pradesh',\n",
       "       'Arunachal Pradesh', 'Assam', 'Bihar', 'Chandigarh',\n",
       "       'Dadra and Nagar Haveli and Daman and Diu', 'Delhi', 'Goa',\n",
       "       'Gujarat', 'Haryana', 'Himachal Pradesh', 'Jammu and Kashmir',\n",
       "       'Jharkhand', 'Karnataka', 'Kerala', 'Lakshadweep',\n",
       "       'Madhya Pradesh', 'Maharashtra', 'Manipur', 'Meghalaya', 'Mizoram',\n",
       "       'Nagaland', 'Odisha', 'Puducherry', 'Punjab', 'Rajasthan',\n",
       "       'Sikkim', 'Tamil Nadu', 'Telangana', 'Tripura', 'Uttar Pradesh',\n",
       "       'West Bengal', 'Chhattisgarh', 'Ladakh', 'Uttarakhand'],\n",
       "      dtype=object)"
      ]
     },
     "execution_count": 4,
     "metadata": {},
     "output_type": "execute_result"
    }
   ],
   "source": [
    "#hide\n",
    "arr_states[-9] = 'Puducherry'\n",
    "arr_states[-10] = 'Odisha'\n",
    "arr_states[6] = 'Dadra and Nagar Haveli and Daman and Diu'\n",
    "arr_states = np.append(arr_states,np.array(['Chhattisgarh','Ladakh','Uttarakhand']))\n",
    "arr_states"
   ]
  },
  {
   "cell_type": "code",
   "execution_count": 5,
   "id": "behind-manner",
   "metadata": {
    "execution": {
     "iopub.execute_input": "2021-01-22T15:05:35.234164Z",
     "iopub.status.busy": "2021-01-22T15:05:35.233583Z",
     "iopub.status.idle": "2021-01-22T15:05:35.236078Z",
     "shell.execute_reply": "2021-01-22T15:05:35.236609Z"
    },
    "papermill": {
     "duration": 0.036586,
     "end_time": "2021-01-22T15:05:35.236740",
     "exception": false,
     "start_time": "2021-01-22T15:05:35.200154",
     "status": "completed"
    },
    "tags": []
   },
   "outputs": [],
   "source": [
    "#hide\n",
    "dates = []\n",
    "for i in arr_dates:\n",
    "    if i>='2020-07-01':\n",
    "        dates.append(i)\n",
    "dict = {'states':dates}\n",
    "for i in arr_states:\n",
    "    dict[i] = [0]*len(dates)\n",
    "dft_cases = pd.DataFrame(dict)\n",
    "dft_deaths = pd.DataFrame(dict)\n"
   ]
  },
  {
   "cell_type": "code",
   "execution_count": 6,
   "id": "simplified-peter",
   "metadata": {
    "execution": {
     "iopub.execute_input": "2021-01-22T15:05:35.277466Z",
     "iopub.status.busy": "2021-01-22T15:05:35.276864Z",
     "iopub.status.idle": "2021-01-22T15:05:38.177442Z",
     "shell.execute_reply": "2021-01-22T15:05:38.176892Z"
    },
    "papermill": {
     "duration": 2.924078,
     "end_time": "2021-01-22T15:05:38.177584",
     "exception": false,
     "start_time": "2021-01-22T15:05:35.253506",
     "status": "completed"
    },
    "tags": []
   },
   "outputs": [],
   "source": [
    "#hide\n",
    "for i in range(len(dates)):\n",
    "    df1_deaths = df_deaths1.get_group(dates[i])\n",
    "    for j in range(len(df1_deaths.index)):\n",
    "        if df1_deaths.iloc[j,1] in arr_states:\n",
    "            dft_deaths.loc[i,df1_deaths.iloc[j,1]] = df1_deaths.iloc[j,2]\n",
    "dft_deaths = dft_deaths.set_index('states')"
   ]
  },
  {
   "cell_type": "code",
   "execution_count": 7,
   "id": "geological-welding",
   "metadata": {
    "execution": {
     "iopub.execute_input": "2021-01-22T15:05:38.220639Z",
     "iopub.status.busy": "2021-01-22T15:05:38.220020Z",
     "iopub.status.idle": "2021-01-22T15:05:41.085151Z",
     "shell.execute_reply": "2021-01-22T15:05:41.084190Z"
    },
    "papermill": {
     "duration": 2.890734,
     "end_time": "2021-01-22T15:05:41.085315",
     "exception": false,
     "start_time": "2021-01-22T15:05:38.194581",
     "status": "completed"
    },
    "tags": []
   },
   "outputs": [],
   "source": [
    "#hide\n",
    "for i in range(len(dates)):\n",
    "    df1_cases = df_cases1.get_group(dates[i])\n",
    "    for j in range(len(df1_cases.index)):\n",
    "        if df1_cases.iloc[j,1] in arr_states:\n",
    "            dft_cases.loc[i,df1_cases.iloc[j,1]] = df1_cases.iloc[j,2]\n",
    "dft_cases = dft_cases.set_index('states')"
   ]
  },
  {
   "cell_type": "code",
   "execution_count": 8,
   "id": "binary-ratio",
   "metadata": {
    "execution": {
     "iopub.execute_input": "2021-01-22T15:05:41.186148Z",
     "iopub.status.busy": "2021-01-22T15:05:41.185485Z",
     "iopub.status.idle": "2021-01-22T15:05:41.186918Z",
     "shell.execute_reply": "2021-01-22T15:05:41.187408Z"
    },
    "papermill": {
     "duration": 0.084893,
     "end_time": "2021-01-22T15:05:41.187560",
     "exception": false,
     "start_time": "2021-01-22T15:05:41.102667",
     "status": "completed"
    },
    "tags": []
   },
   "outputs": [],
   "source": [
    "#hide\n",
    "dft_cases = dft_cases.T\n",
    "dft_deaths = dft_deaths.T\n",
    "dt_today = dates[-1]\n",
    "dt_yday = dates[-2]"
   ]
  },
  {
   "cell_type": "code",
   "execution_count": 9,
   "id": "boolean-calculator",
   "metadata": {
    "execution": {
     "iopub.execute_input": "2021-01-22T15:05:41.298265Z",
     "iopub.status.busy": "2021-01-22T15:05:41.287856Z",
     "iopub.status.idle": "2021-01-22T15:05:41.298955Z",
     "shell.execute_reply": "2021-01-22T15:05:41.299416Z"
    },
    "papermill": {
     "duration": 0.055979,
     "end_time": "2021-01-22T15:05:41.299557",
     "exception": false,
     "start_time": "2021-01-22T15:05:41.243578",
     "status": "completed"
    },
    "tags": []
   },
   "outputs": [],
   "source": [
    "#hide\n",
    "dft_cases = dft_cases.reset_index()\n",
    "dft_deaths = dft_deaths.reset_index()\n",
    "dft_cases = dft_cases.rename(columns = {'index':'state'})\n",
    "dft_deaths = dft_deaths.rename(columns = {'index':'state'})"
   ]
  },
  {
   "cell_type": "code",
   "execution_count": 10,
   "id": "invisible-johnston",
   "metadata": {
    "execution": {
     "iopub.execute_input": "2021-01-22T15:05:41.444990Z",
     "iopub.status.busy": "2021-01-22T15:05:41.444378Z",
     "iopub.status.idle": "2021-01-22T15:05:41.447257Z",
     "shell.execute_reply": "2021-01-22T15:05:41.446760Z"
    },
    "papermill": {
     "duration": 0.110362,
     "end_time": "2021-01-22T15:05:41.447380",
     "exception": false,
     "start_time": "2021-01-22T15:05:41.337018",
     "status": "completed"
    },
    "tags": []
   },
   "outputs": [],
   "source": [
    "#hide\n",
    "dfc_cases = dft_cases.groupby('state')[dt_today].sum()\n",
    "dfc_deaths = dft_deaths.groupby('state')[dt_today].sum()\n",
    "dfp_cases = dft_cases.groupby('state')[dt_yday].sum()\n",
    "dfp_deaths = dft_deaths.groupby('state')[dt_yday].sum()"
   ]
  },
  {
   "cell_type": "code",
   "execution_count": 11,
   "id": "measured-great",
   "metadata": {
    "execution": {
     "iopub.execute_input": "2021-01-22T15:05:41.865519Z",
     "iopub.status.busy": "2021-01-22T15:05:41.864888Z",
     "iopub.status.idle": "2021-01-22T15:05:41.877194Z",
     "shell.execute_reply": "2021-01-22T15:05:41.876728Z"
    },
    "papermill": {
     "duration": 0.037423,
     "end_time": "2021-01-22T15:05:41.877343",
     "exception": false,
     "start_time": "2021-01-22T15:05:41.839920",
     "status": "completed"
    },
    "tags": []
   },
   "outputs": [
    {
     "data": {
      "text/html": [
       "<div>\n",
       "<style scoped>\n",
       "    .dataframe tbody tr th:only-of-type {\n",
       "        vertical-align: middle;\n",
       "    }\n",
       "\n",
       "    .dataframe tbody tr th {\n",
       "        vertical-align: top;\n",
       "    }\n",
       "\n",
       "    .dataframe thead th {\n",
       "        text-align: right;\n",
       "    }\n",
       "</style>\n",
       "<table border=\"1\" class=\"dataframe\">\n",
       "  <thead>\n",
       "    <tr style=\"text-align: right;\">\n",
       "      <th></th>\n",
       "      <th>states</th>\n",
       "      <th>Cases</th>\n",
       "      <th>Deaths</th>\n",
       "      <th>PCases</th>\n",
       "      <th>PDeaths</th>\n",
       "    </tr>\n",
       "  </thead>\n",
       "  <tbody>\n",
       "    <tr>\n",
       "      <th>0</th>\n",
       "      <td>Maharashtra</td>\n",
       "      <td>2000878</td>\n",
       "      <td>50634</td>\n",
       "      <td>2000878</td>\n",
       "      <td>50634</td>\n",
       "    </tr>\n",
       "    <tr>\n",
       "      <th>1</th>\n",
       "      <td>Karnataka</td>\n",
       "      <td>934252</td>\n",
       "      <td>12187</td>\n",
       "      <td>934252</td>\n",
       "      <td>12187</td>\n",
       "    </tr>\n",
       "    <tr>\n",
       "      <th>2</th>\n",
       "      <td>Andhra Pradesh</td>\n",
       "      <td>886557</td>\n",
       "      <td>7142</td>\n",
       "      <td>886557</td>\n",
       "      <td>7142</td>\n",
       "    </tr>\n",
       "    <tr>\n",
       "      <th>3</th>\n",
       "      <td>Kerala</td>\n",
       "      <td>877283</td>\n",
       "      <td>3565</td>\n",
       "      <td>870530</td>\n",
       "      <td>3546</td>\n",
       "    </tr>\n",
       "    <tr>\n",
       "      <th>4</th>\n",
       "      <td>Tamil Nadu</td>\n",
       "      <td>833011</td>\n",
       "      <td>12299</td>\n",
       "      <td>833011</td>\n",
       "      <td>12299</td>\n",
       "    </tr>\n",
       "  </tbody>\n",
       "</table>\n",
       "</div>"
      ],
      "text/plain": [
       "           states    Cases  Deaths   PCases  PDeaths\n",
       "0     Maharashtra  2000878   50634  2000878    50634\n",
       "1       Karnataka   934252   12187   934252    12187\n",
       "2  Andhra Pradesh   886557    7142   886557     7142\n",
       "3          Kerala   877283    3565   870530     3546\n",
       "4      Tamil Nadu   833011   12299   833011    12299"
      ]
     },
     "execution_count": 11,
     "metadata": {},
     "output_type": "execute_result"
    }
   ],
   "source": [
    "#hide\n",
    "df_table = pd.DataFrame({'states': dfc_cases.index, 'Cases': dfc_cases.values, 'Deaths': dfc_deaths.values, 'PCases': dfp_cases.values, 'PDeaths': dfp_deaths.values}).set_index('states')\n",
    "df_table = df_table.sort_values(by = ['Cases','Deaths'], ascending = [False, False])\n",
    "df_table = df_table.reset_index()\n",
    "df_table.head()"
   ]
  },
  {
   "cell_type": "code",
   "execution_count": 12,
   "id": "found-montreal",
   "metadata": {
    "execution": {
     "iopub.execute_input": "2021-01-22T15:05:41.917788Z",
     "iopub.status.busy": "2021-01-22T15:05:41.917180Z",
     "iopub.status.idle": "2021-01-22T15:05:41.926170Z",
     "shell.execute_reply": "2021-01-22T15:05:41.925704Z"
    },
    "papermill": {
     "duration": 0.031724,
     "end_time": "2021-01-22T15:05:41.926293",
     "exception": false,
     "start_time": "2021-01-22T15:05:41.894569",
     "status": "completed"
    },
    "tags": []
   },
   "outputs": [],
   "source": [
    "#hide\n",
    "for c in 'Cases, Deaths'.split(', '):\n",
    "    df_table[f'{c} (+)'] = (df_table[c] - df_table[f'P{c}']).clip(0)\n",
    "df_table['Fatality Rate'] = (100* df_table['Deaths']/ df_table['Cases']).round(2)"
   ]
  },
  {
   "cell_type": "code",
   "execution_count": 13,
   "id": "minus-savage",
   "metadata": {
    "execution": {
     "iopub.execute_input": "2021-01-22T15:05:41.971823Z",
     "iopub.status.busy": "2021-01-22T15:05:41.971245Z",
     "iopub.status.idle": "2021-01-22T15:05:41.973574Z",
     "shell.execute_reply": "2021-01-22T15:05:41.974074Z"
    },
    "papermill": {
     "duration": 0.030548,
     "end_time": "2021-01-22T15:05:41.974203",
     "exception": false,
     "start_time": "2021-01-22T15:05:41.943655",
     "status": "completed"
    },
    "tags": []
   },
   "outputs": [
    {
     "data": {
      "text/html": [
       "<div>\n",
       "<style scoped>\n",
       "    .dataframe tbody tr th:only-of-type {\n",
       "        vertical-align: middle;\n",
       "    }\n",
       "\n",
       "    .dataframe tbody tr th {\n",
       "        vertical-align: top;\n",
       "    }\n",
       "\n",
       "    .dataframe thead th {\n",
       "        text-align: right;\n",
       "    }\n",
       "</style>\n",
       "<table border=\"1\" class=\"dataframe\">\n",
       "  <thead>\n",
       "    <tr style=\"text-align: right;\">\n",
       "      <th></th>\n",
       "      <th>states</th>\n",
       "      <th>Cases</th>\n",
       "      <th>Deaths</th>\n",
       "      <th>PCases</th>\n",
       "      <th>PDeaths</th>\n",
       "      <th>Cases (+)</th>\n",
       "      <th>Deaths (+)</th>\n",
       "      <th>Fatality Rate</th>\n",
       "    </tr>\n",
       "  </thead>\n",
       "  <tbody>\n",
       "    <tr>\n",
       "      <th>0</th>\n",
       "      <td>Maharashtra</td>\n",
       "      <td>2000878</td>\n",
       "      <td>50634</td>\n",
       "      <td>2000878</td>\n",
       "      <td>50634</td>\n",
       "      <td>0</td>\n",
       "      <td>0</td>\n",
       "      <td>2.53</td>\n",
       "    </tr>\n",
       "    <tr>\n",
       "      <th>1</th>\n",
       "      <td>Karnataka</td>\n",
       "      <td>934252</td>\n",
       "      <td>12187</td>\n",
       "      <td>934252</td>\n",
       "      <td>12187</td>\n",
       "      <td>0</td>\n",
       "      <td>0</td>\n",
       "      <td>1.30</td>\n",
       "    </tr>\n",
       "    <tr>\n",
       "      <th>2</th>\n",
       "      <td>Andhra Pradesh</td>\n",
       "      <td>886557</td>\n",
       "      <td>7142</td>\n",
       "      <td>886557</td>\n",
       "      <td>7142</td>\n",
       "      <td>0</td>\n",
       "      <td>0</td>\n",
       "      <td>0.81</td>\n",
       "    </tr>\n",
       "    <tr>\n",
       "      <th>3</th>\n",
       "      <td>Kerala</td>\n",
       "      <td>877283</td>\n",
       "      <td>3565</td>\n",
       "      <td>870530</td>\n",
       "      <td>3546</td>\n",
       "      <td>6753</td>\n",
       "      <td>19</td>\n",
       "      <td>0.41</td>\n",
       "    </tr>\n",
       "    <tr>\n",
       "      <th>4</th>\n",
       "      <td>Tamil Nadu</td>\n",
       "      <td>833011</td>\n",
       "      <td>12299</td>\n",
       "      <td>833011</td>\n",
       "      <td>12299</td>\n",
       "      <td>0</td>\n",
       "      <td>0</td>\n",
       "      <td>1.48</td>\n",
       "    </tr>\n",
       "  </tbody>\n",
       "</table>\n",
       "</div>"
      ],
      "text/plain": [
       "           states    Cases  Deaths   PCases  PDeaths  Cases (+)  Deaths (+)  \\\n",
       "0     Maharashtra  2000878   50634  2000878    50634          0           0   \n",
       "1       Karnataka   934252   12187   934252    12187          0           0   \n",
       "2  Andhra Pradesh   886557    7142   886557     7142          0           0   \n",
       "3          Kerala   877283    3565   870530     3546       6753          19   \n",
       "4      Tamil Nadu   833011   12299   833011    12299          0           0   \n",
       "\n",
       "   Fatality Rate  \n",
       "0           2.53  \n",
       "1           1.30  \n",
       "2           0.81  \n",
       "3           0.41  \n",
       "4           1.48  "
      ]
     },
     "execution_count": 13,
     "metadata": {},
     "output_type": "execute_result"
    }
   ],
   "source": [
    "#hide\n",
    "df_table.head()"
   ]
  },
  {
   "cell_type": "code",
   "execution_count": 14,
   "id": "false-peter",
   "metadata": {
    "execution": {
     "iopub.execute_input": "2021-01-22T15:05:42.013663Z",
     "iopub.status.busy": "2021-01-22T15:05:42.013023Z",
     "iopub.status.idle": "2021-01-22T15:05:42.031899Z",
     "shell.execute_reply": "2021-01-22T15:05:42.031405Z"
    },
    "papermill": {
     "duration": 0.03986,
     "end_time": "2021-01-22T15:05:42.032021",
     "exception": false,
     "start_time": "2021-01-22T15:05:41.992161",
     "status": "completed"
    },
    "tags": []
   },
   "outputs": [
    {
     "data": {
      "text/plain": [
       "{'updated': '2021-01-22',\n",
       " 'since': '2021-01-21',\n",
       " 'Cases': 10633339,\n",
       " 'PCases': 10626218,\n",
       " 'Deaths': 153088,\n",
       " 'PDeaths': 153067,\n",
       " 'Cases (+)': 7121,\n",
       " 'Deaths (+)': 21}"
      ]
     },
     "execution_count": 14,
     "metadata": {},
     "output_type": "execute_result"
    }
   ],
   "source": [
    "#hide\n",
    "summary = {'updated':dates[-1], 'since':dates[-2]}\n",
    "list_names = ['Cases', 'PCases', 'Deaths', 'PDeaths', 'Cases (+)', 'Deaths (+)']\n",
    "for name in list_names:\n",
    "    summary[name] = df_table.sum()[name]\n",
    "summary"
   ]
  },
  {
   "cell_type": "code",
   "execution_count": 15,
   "id": "packed-viewer",
   "metadata": {
    "execution": {
     "iopub.execute_input": "2021-01-22T15:05:42.075382Z",
     "iopub.status.busy": "2021-01-22T15:05:42.074358Z",
     "iopub.status.idle": "2021-01-22T15:05:42.076443Z",
     "shell.execute_reply": "2021-01-22T15:05:42.077240Z"
    },
    "papermill": {
     "duration": 0.027084,
     "end_time": "2021-01-22T15:05:42.077492",
     "exception": false,
     "start_time": "2021-01-22T15:05:42.050408",
     "status": "completed"
    },
    "tags": []
   },
   "outputs": [],
   "source": [
    "#hide\n",
    "overview = '''\n",
    "<!-- #######  HTML!! #########-->\n",
    "<h1 style=\"color: #5e9ca0; text-align: center;\">India</h1>\n",
    "<p style=\"text-align: center;\">Last update: <strong>{update}</strong></p>\n",
    "<p style=\"text-align: center;\">Confirmed cases:</p>\n",
    "<p style=\"text-align: center;font-size:24px;\">{cases} (<span style=\"color: #ff0000;\">+{new}</span>)</p>\n",
    "<p style=\"text-align: center;\">Confirmed deaths:</p>\n",
    "<p style=\"text-align: center;font-size:24px;\">{deaths} (<span style=\"color: #ff0000;\">+{dnew}</span>)</p>\n",
    "'''"
   ]
  },
  {
   "cell_type": "code",
   "execution_count": 16,
   "id": "phantom-lover",
   "metadata": {
    "execution": {
     "iopub.execute_input": "2021-01-22T15:05:42.121101Z",
     "iopub.status.busy": "2021-01-22T15:05:42.120523Z",
     "iopub.status.idle": "2021-01-22T15:05:42.123794Z",
     "shell.execute_reply": "2021-01-22T15:05:42.123367Z"
    },
    "papermill": {
     "duration": 0.028101,
     "end_time": "2021-01-22T15:05:42.123908",
     "exception": false,
     "start_time": "2021-01-22T15:05:42.095807",
     "status": "completed"
    },
    "tags": []
   },
   "outputs": [
    {
     "data": {
      "text/html": [
       "\n",
       "<!-- #######  HTML!! #########-->\n",
       "<h1 style=\"color: #5e9ca0; text-align: center;\">India</h1>\n",
       "<p style=\"text-align: center;\">Last update: <strong>2021-01-22</strong></p>\n",
       "<p style=\"text-align: center;\">Confirmed cases:</p>\n",
       "<p style=\"text-align: center;font-size:24px;\">10633339 (<span style=\"color: #ff0000;\">+7121</span>)</p>\n",
       "<p style=\"text-align: center;\">Confirmed deaths:</p>\n",
       "<p style=\"text-align: center;font-size:24px;\">153088 (<span style=\"color: #ff0000;\">+21</span>)</p>\n"
      ],
      "text/plain": [
       "<IPython.core.display.HTML object>"
      ]
     },
     "metadata": {},
     "output_type": "display_data"
    }
   ],
   "source": [
    "#hide_input\n",
    "update = summary['updated']\n",
    "cases = summary['Cases']\n",
    "new = summary['Cases (+)']\n",
    "deaths = summary['Deaths']\n",
    "dnew = summary['Deaths (+)']\n",
    "\n",
    "html = HTML(overview.format(update=update, cases=cases,new=new,deaths=deaths,dnew=dnew))\n",
    "\n",
    "display(html)"
   ]
  },
  {
   "cell_type": "code",
   "execution_count": 17,
   "id": "sealed-reset",
   "metadata": {
    "execution": {
     "iopub.execute_input": "2021-01-22T15:05:42.169386Z",
     "iopub.status.busy": "2021-01-22T15:05:42.168784Z",
     "iopub.status.idle": "2021-01-22T15:05:42.176216Z",
     "shell.execute_reply": "2021-01-22T15:05:42.175725Z"
    },
    "papermill": {
     "duration": 0.034191,
     "end_time": "2021-01-22T15:05:42.176335",
     "exception": false,
     "start_time": "2021-01-22T15:05:42.142144",
     "status": "completed"
    },
    "tags": []
   },
   "outputs": [],
   "source": [
    "#hide\n",
    "dt_cols = list(dft_cases.columns[1:])\n",
    "dft_ct_new_cases = dft_cases.groupby('state')[dt_cols].sum().diff(axis=1).fillna(0).astype(int)\n",
    "dft_ct_new_cases.sort_values(by = dates[-1], ascending = False,inplace = True)"
   ]
  },
  {
   "cell_type": "code",
   "execution_count": 18,
   "id": "designed-constant",
   "metadata": {
    "execution": {
     "iopub.execute_input": "2021-01-22T15:05:42.232260Z",
     "iopub.status.busy": "2021-01-22T15:05:42.231676Z",
     "iopub.status.idle": "2021-01-22T15:05:42.235199Z",
     "shell.execute_reply": "2021-01-22T15:05:42.234708Z"
    },
    "papermill": {
     "duration": 0.040345,
     "end_time": "2021-01-22T15:05:42.235318",
     "exception": false,
     "start_time": "2021-01-22T15:05:42.194973",
     "status": "completed"
    },
    "tags": []
   },
   "outputs": [
    {
     "data": {
      "text/html": [
       "<div>\n",
       "<style scoped>\n",
       "    .dataframe tbody tr th:only-of-type {\n",
       "        vertical-align: middle;\n",
       "    }\n",
       "\n",
       "    .dataframe tbody tr th {\n",
       "        vertical-align: top;\n",
       "    }\n",
       "\n",
       "    .dataframe thead th {\n",
       "        text-align: right;\n",
       "    }\n",
       "</style>\n",
       "<table border=\"1\" class=\"dataframe\">\n",
       "  <thead>\n",
       "    <tr style=\"text-align: right;\">\n",
       "      <th>states</th>\n",
       "      <th>2020-07-01</th>\n",
       "      <th>2020-07-02</th>\n",
       "      <th>2020-07-03</th>\n",
       "      <th>2020-07-04</th>\n",
       "      <th>2020-07-05</th>\n",
       "      <th>2020-07-06</th>\n",
       "      <th>2020-07-07</th>\n",
       "      <th>2020-07-08</th>\n",
       "      <th>2020-07-09</th>\n",
       "      <th>2020-07-10</th>\n",
       "      <th>...</th>\n",
       "      <th>2021-01-13</th>\n",
       "      <th>2021-01-14</th>\n",
       "      <th>2021-01-15</th>\n",
       "      <th>2021-01-16</th>\n",
       "      <th>2021-01-17</th>\n",
       "      <th>2021-01-18</th>\n",
       "      <th>2021-01-19</th>\n",
       "      <th>2021-01-20</th>\n",
       "      <th>2021-01-21</th>\n",
       "      <th>2021-01-22</th>\n",
       "    </tr>\n",
       "    <tr>\n",
       "      <th>state</th>\n",
       "      <th></th>\n",
       "      <th></th>\n",
       "      <th></th>\n",
       "      <th></th>\n",
       "      <th></th>\n",
       "      <th></th>\n",
       "      <th></th>\n",
       "      <th></th>\n",
       "      <th></th>\n",
       "      <th></th>\n",
       "      <th></th>\n",
       "      <th></th>\n",
       "      <th></th>\n",
       "      <th></th>\n",
       "      <th></th>\n",
       "      <th></th>\n",
       "      <th></th>\n",
       "      <th></th>\n",
       "      <th></th>\n",
       "      <th></th>\n",
       "      <th></th>\n",
       "    </tr>\n",
       "  </thead>\n",
       "  <tbody>\n",
       "    <tr>\n",
       "      <th>Kerala</th>\n",
       "      <td>0</td>\n",
       "      <td>160</td>\n",
       "      <td>211</td>\n",
       "      <td>240</td>\n",
       "      <td>225</td>\n",
       "      <td>193</td>\n",
       "      <td>272</td>\n",
       "      <td>301</td>\n",
       "      <td>339</td>\n",
       "      <td>416</td>\n",
       "      <td>...</td>\n",
       "      <td>6004</td>\n",
       "      <td>5490</td>\n",
       "      <td>5624</td>\n",
       "      <td>5960</td>\n",
       "      <td>5005</td>\n",
       "      <td>3346</td>\n",
       "      <td>6186</td>\n",
       "      <td>6815</td>\n",
       "      <td>6334</td>\n",
       "      <td>6753</td>\n",
       "    </tr>\n",
       "    <tr>\n",
       "      <th>Telangana</th>\n",
       "      <td>0</td>\n",
       "      <td>1213</td>\n",
       "      <td>1892</td>\n",
       "      <td>1850</td>\n",
       "      <td>1590</td>\n",
       "      <td>1831</td>\n",
       "      <td>1879</td>\n",
       "      <td>1924</td>\n",
       "      <td>1410</td>\n",
       "      <td>1278</td>\n",
       "      <td>...</td>\n",
       "      <td>331</td>\n",
       "      <td>276</td>\n",
       "      <td>202</td>\n",
       "      <td>249</td>\n",
       "      <td>299</td>\n",
       "      <td>206</td>\n",
       "      <td>256</td>\n",
       "      <td>267</td>\n",
       "      <td>226</td>\n",
       "      <td>214</td>\n",
       "    </tr>\n",
       "    <tr>\n",
       "      <th>Odisha</th>\n",
       "      <td>0</td>\n",
       "      <td>229</td>\n",
       "      <td>561</td>\n",
       "      <td>495</td>\n",
       "      <td>469</td>\n",
       "      <td>456</td>\n",
       "      <td>571</td>\n",
       "      <td>527</td>\n",
       "      <td>577</td>\n",
       "      <td>755</td>\n",
       "      <td>...</td>\n",
       "      <td>210</td>\n",
       "      <td>222</td>\n",
       "      <td>186</td>\n",
       "      <td>178</td>\n",
       "      <td>183</td>\n",
       "      <td>134</td>\n",
       "      <td>122</td>\n",
       "      <td>157</td>\n",
       "      <td>143</td>\n",
       "      <td>154</td>\n",
       "    </tr>\n",
       "    <tr>\n",
       "      <th>Andaman and Nicobar Islands</th>\n",
       "      <td>0</td>\n",
       "      <td>9</td>\n",
       "      <td>7</td>\n",
       "      <td>3</td>\n",
       "      <td>6</td>\n",
       "      <td>16</td>\n",
       "      <td>6</td>\n",
       "      <td>2</td>\n",
       "      <td>7</td>\n",
       "      <td>0</td>\n",
       "      <td>...</td>\n",
       "      <td>3</td>\n",
       "      <td>7</td>\n",
       "      <td>3</td>\n",
       "      <td>3</td>\n",
       "      <td>1</td>\n",
       "      <td>5</td>\n",
       "      <td>1</td>\n",
       "      <td>2</td>\n",
       "      <td>0</td>\n",
       "      <td>0</td>\n",
       "    </tr>\n",
       "    <tr>\n",
       "      <th>Puducherry</th>\n",
       "      <td>0</td>\n",
       "      <td>63</td>\n",
       "      <td>22</td>\n",
       "      <td>80</td>\n",
       "      <td>42</td>\n",
       "      <td>65</td>\n",
       "      <td>30</td>\n",
       "      <td>110</td>\n",
       "      <td>49</td>\n",
       "      <td>72</td>\n",
       "      <td>...</td>\n",
       "      <td>29</td>\n",
       "      <td>43</td>\n",
       "      <td>28</td>\n",
       "      <td>16</td>\n",
       "      <td>35</td>\n",
       "      <td>23</td>\n",
       "      <td>37</td>\n",
       "      <td>31</td>\n",
       "      <td>35</td>\n",
       "      <td>0</td>\n",
       "    </tr>\n",
       "  </tbody>\n",
       "</table>\n",
       "<p>5 rows × 206 columns</p>\n",
       "</div>"
      ],
      "text/plain": [
       "states                       2020-07-01  2020-07-02  2020-07-03  2020-07-04  \\\n",
       "state                                                                         \n",
       "Kerala                                0         160         211         240   \n",
       "Telangana                             0        1213        1892        1850   \n",
       "Odisha                                0         229         561         495   \n",
       "Andaman and Nicobar Islands           0           9           7           3   \n",
       "Puducherry                            0          63          22          80   \n",
       "\n",
       "states                       2020-07-05  2020-07-06  2020-07-07  2020-07-08  \\\n",
       "state                                                                         \n",
       "Kerala                              225         193         272         301   \n",
       "Telangana                          1590        1831        1879        1924   \n",
       "Odisha                              469         456         571         527   \n",
       "Andaman and Nicobar Islands           6          16           6           2   \n",
       "Puducherry                           42          65          30         110   \n",
       "\n",
       "states                       2020-07-09  2020-07-10  ...  2021-01-13  \\\n",
       "state                                                ...               \n",
       "Kerala                              339         416  ...        6004   \n",
       "Telangana                          1410        1278  ...         331   \n",
       "Odisha                              577         755  ...         210   \n",
       "Andaman and Nicobar Islands           7           0  ...           3   \n",
       "Puducherry                           49          72  ...          29   \n",
       "\n",
       "states                       2021-01-14  2021-01-15  2021-01-16  2021-01-17  \\\n",
       "state                                                                         \n",
       "Kerala                             5490        5624        5960        5005   \n",
       "Telangana                           276         202         249         299   \n",
       "Odisha                              222         186         178         183   \n",
       "Andaman and Nicobar Islands           7           3           3           1   \n",
       "Puducherry                           43          28          16          35   \n",
       "\n",
       "states                       2021-01-18  2021-01-19  2021-01-20  2021-01-21  \\\n",
       "state                                                                         \n",
       "Kerala                             3346        6186        6815        6334   \n",
       "Telangana                           206         256         267         226   \n",
       "Odisha                              134         122         157         143   \n",
       "Andaman and Nicobar Islands           5           1           2           0   \n",
       "Puducherry                           23          37          31          35   \n",
       "\n",
       "states                       2021-01-22  \n",
       "state                                    \n",
       "Kerala                             6753  \n",
       "Telangana                           214  \n",
       "Odisha                              154  \n",
       "Andaman and Nicobar Islands           0  \n",
       "Puducherry                            0  \n",
       "\n",
       "[5 rows x 206 columns]"
      ]
     },
     "execution_count": 18,
     "metadata": {},
     "output_type": "execute_result"
    }
   ],
   "source": [
    "#hide\n",
    "dft_ct_new_cases.head()"
   ]
  },
  {
   "cell_type": "code",
   "execution_count": 19,
   "id": "responsible-nightlife",
   "metadata": {
    "execution": {
     "iopub.execute_input": "2021-01-22T15:05:42.277001Z",
     "iopub.status.busy": "2021-01-22T15:05:42.276368Z",
     "iopub.status.idle": "2021-01-22T15:05:49.302490Z",
     "shell.execute_reply": "2021-01-22T15:05:49.302966Z"
    },
    "papermill": {
     "duration": 7.048641,
     "end_time": "2021-01-22T15:05:49.303118",
     "exception": false,
     "start_time": "2021-01-22T15:05:42.254477",
     "status": "completed"
    },
    "tags": []
   },
   "outputs": [
    {
     "data": {
      "image/png": "[encoded data removed]",
      "text/plain": [
       "<Figure size 1296x2016 with 11 Axes>"
      ]
     },
     "metadata": {
      "needs_background": "light"
     },
     "output_type": "display_data"
    }
   ],
   "source": [
    "#hide_input\n",
    "df = dft_ct_new_cases.copy()\n",
    "df.loc['Total'] = df.sum()\n",
    "n = 5\n",
    "ax = []\n",
    "fig = plt.figure(figsize = (18,28))\n",
    "gs = fig.add_gridspec(n+2, 5)\n",
    "# gs = fig.add_gridspec(2, 3)\n",
    "ax1 = fig.add_subplot(gs[0, :])\n",
    "ef = df.loc['Total'].rename_axis('date').reset_index()\n",
    "ef['date'] = ef['date'].astype('datetime64[ns]')\n",
    "ax1.bar(ef.date,ef.Total,alpha=0.3,color='#007acc')\n",
    "ax1.plot(ef.date,ef.Total , marker=\"o\", color='#007acc')\n",
    "ax1.xaxis.set_major_locator(mdates.WeekdayLocator())\n",
    "ax1.xaxis.set_major_formatter(mdates.DateFormatter('%b %d'))\n",
    "ax1.text(0.02, 0.5,'India daily case count', transform = ax1.transAxes, fontsize=25);\n",
    "ax1.spines['right'].set_visible(False)\n",
    "ax1.spines['top'].set_visible(False)\n",
    "\n",
    "ax2 = fig.add_subplot(gs[1,0])\n",
    "ef = df.loc['Maharashtra'].rename_axis('date').reset_index()\n",
    "ef['date'] = ef['date'].astype('datetime64[ns]')\n",
    "\n",
    "ax2.bar(ef.date, ef.Maharashtra,color = '#007acc',alpha=0.5)\n",
    "ax2.xaxis.set_major_locator(mdates.WeekdayLocator())\n",
    "ax2.xaxis.set_major_formatter(mdates.DateFormatter('%b %d'))\n",
    "ax2.set_xticks(ax2.get_xticks()[::3])\n",
    "maxyval = ef.Maharashtra.max()\n",
    "ax2.set_ylim([0,maxyval])\n",
    "ax2.text(0.05, 0.9,'Maharashtra', transform = ax2.transAxes, fontsize=20);\n",
    "ax2.spines['right'].set_visible(False)\n",
    "ax2.spines['top'].set_visible(False)\n",
    "\n",
    "\n",
    "ax3 = fig.add_subplot(gs[1,1])\n",
    "ef = df.loc['Tamil Nadu'].rename_axis('date').reset_index()\n",
    "ef['date'] = ef['date'].astype('datetime64[ns]')\n",
    "ax3.bar(ef.date, ef['Tamil Nadu'],color = '#007acc',alpha=0.5,)\n",
    "ax3.xaxis.set_major_locator(mdates.WeekdayLocator())\n",
    "ax3.xaxis.set_major_formatter(mdates.DateFormatter('%b %d'))\n",
    "ax3.set_xticks(ax3.get_xticks()[::3])\n",
    "ax3.text(0.05, 0.9,'Tamil Nadu', transform = ax3.transAxes, fontsize=20);\n",
    "ax3.spines['right'].set_visible(False)\n",
    "ax3.spines['top'].set_visible(False)\n",
    "\n",
    "ax5 = fig.add_subplot(gs[1,3])\n",
    "ef = df.loc['Telangana'].rename_axis('date').reset_index()\n",
    "ef['date'] = ef['date'].astype('datetime64[ns]')\n",
    "ax5.bar(ef.date, ef['Telangana'],color = '#007acc',alpha=0.5,)\n",
    "ax5.xaxis.set_major_locator(mdates.WeekdayLocator())\n",
    "ax5.xaxis.set_major_formatter(mdates.DateFormatter('%b %d'))\n",
    "ax5.set_xticks(ax5.get_xticks()[::3])\n",
    "ax5.text(0.05, 0.9,'Telangana', transform = ax5.transAxes, fontsize=20);\n",
    "ax5.spines['right'].set_visible(False)\n",
    "ax5.spines['top'].set_visible(False)\n",
    "\n",
    "ax6 = fig.add_subplot(gs[1,4])\n",
    "ef = df.loc['Andhra Pradesh'].rename_axis('date').reset_index()\n",
    "ef['date'] = ef['date'].astype('datetime64[ns]')\n",
    "ax6.bar(ef.date, ef['Andhra Pradesh'],color = '#007acc',alpha=0.5,)\n",
    "ax6.xaxis.set_major_locator(mdates.WeekdayLocator())\n",
    "ax6.xaxis.set_major_formatter(mdates.DateFormatter('%b %d'))\n",
    "ax6.set_xticks(ax6.get_xticks()[::3])\n",
    "ax6.text(0.05, 1,'Andhra Pradesh', transform = ax6.transAxes, fontsize=20);\n",
    "ax6.spines['right'].set_visible(False)\n",
    "ax6.spines['top'].set_visible(False)\n",
    "\n",
    "ax4 = fig.add_subplot(gs[1,2])\n",
    "ef = df.loc['Delhi'].rename_axis('date').reset_index()\n",
    "ef['date'] = ef['date'].astype('datetime64[ns]')\n",
    "ax4.bar(ef.date, ef.Delhi,color = '#007acc',alpha=0.5)\n",
    "ax4.set_xticks([])\n",
    "ax4.xaxis.set_major_locator(mdates.WeekdayLocator())\n",
    "ax4.xaxis.set_major_formatter(mdates.DateFormatter('%b %d'))\n",
    "ax4.set_xticks(ax4.get_xticks()[::3])\n",
    "ax4.spines['right'].set_visible(False)\n",
    "ax4.spines['top'].set_visible(False)\n",
    "\n",
    "ax4.text(0.05, 1,'Delhi', transform = ax4.transAxes, fontsize=20)\n",
    "\n",
    "for i in range(n):\n",
    "    \n",
    "    ax.append(fig.add_subplot(gs[i+2,:]))\n",
    "    ef = df.iloc[i+3].rename_axis('date').reset_index()\n",
    "    ef['date'] = ef['date'].astype('datetime64[ns]')\n",
    "    ax[i].bar(ef.date,ef.iloc[:,-1],color = '#007acc',alpha=0.3)\n",
    "    ax[i].plot(ef.date,ef.iloc[:,-1],marker='o',color='#007acc')\n",
    "    ax[i].text(0.02,0.5,f'{ef.columns.values[-1]}',transform = ax[i].transAxes, fontsize = 20);\n",
    "    ax[i].xaxis.set_major_locator(mdates.WeekdayLocator())\n",
    "    ax[i].xaxis.set_major_formatter(mdates.DateFormatter('%b %d'))\n",
    "    ax[i].set_ylim([0,7000])\n",
    "    ax[i].spines['right'].set_visible(False)\n",
    "    ax[i].spines['top'].set_visible(False)\n",
    "plt.tight_layout()\n"
   ]
  },
  {
   "cell_type": "code",
   "execution_count": 20,
   "id": "dress-forge",
   "metadata": {
    "execution": {
     "iopub.execute_input": "2021-01-22T15:05:49.361509Z",
     "iopub.status.busy": "2021-01-22T15:05:49.360878Z",
     "iopub.status.idle": "2021-01-22T15:05:49.363204Z",
     "shell.execute_reply": "2021-01-22T15:05:49.363673Z"
    },
    "papermill": {
     "duration": 0.036325,
     "end_time": "2021-01-22T15:05:49.363817",
     "exception": false,
     "start_time": "2021-01-22T15:05:49.327492",
     "status": "completed"
    },
    "tags": []
   },
   "outputs": [
    {
     "name": "stdout",
     "output_type": "stream",
     "text": [
      "                                   states    Cases  Deaths   PCases  PDeaths  Cases (+)  Deaths (+)  Fatality Rate\n",
      "                              Maharashtra  2000878   50634  2000878    50634          0           0           2.53\n",
      "                                Karnataka   934252   12187   934252    12187          0           0           1.30\n",
      "                           Andhra Pradesh   886557    7142   886557     7142          0           0           0.81\n",
      "                                   Kerala   877283    3565   870530     3546       6753          19           0.41\n",
      "                               Tamil Nadu   833011   12299   833011    12299          0           0           1.48\n",
      "                                    Delhi   633276   10782   633276    10782          0           0           1.70\n",
      "                            Uttar Pradesh   597823    8597   597823     8597          0           0           1.44\n",
      "                              West Bengal   566898   10089   566898    10089          0           0           1.78\n",
      "                                   Odisha   334020    1956   333866     1956        154           0           0.59\n",
      "                                Rajasthan   316081    2756   316081     2756          0           0           0.87\n",
      "                             Chhattisgarh   295509    3593   295509     3593          0           0           1.22\n",
      "                                Telangana   292835    1586   292621     1584        214           2           0.54\n",
      "                                  Haryana   266819    3000   266819     3000          0           0           1.12\n",
      "                                    Bihar   259449    1468   259449     1468          0           0           0.57\n",
      "                                  Gujarat   257813    4372   257813     4372          0           0           1.70\n",
      "                           Madhya Pradesh   252767    3776   252767     3776          0           0           1.49\n",
      "                                    Assam   216940    1077   216940     1077          0           0           0.50\n",
      "                                   Punjab   171316    5535   171316     5535          0           0           3.23\n",
      "                        Jammu and Kashmir   123764    1924   123764     1924          0           0           1.55\n",
      "                                Jharkhand   118079    1058   118079     1058          0           0           0.90\n",
      "                              Uttarakhand    95354    1626    95354     1626          0           0           1.71\n",
      "                         Himachal Pradesh    57121     958    57121      958          0           0           1.68\n",
      "                                      Goa    52712     757    52712      757          0           0           1.44\n",
      "                               Puducherry    38772     643    38772      643          0           0           1.66\n",
      "                                  Tripura    33335     388    33335      388          0           0           1.16\n",
      "                                  Manipur    28938     367    28938      367          0           0           1.27\n",
      "                               Chandigarh    20639     331    20639      331          0           0           1.60\n",
      "                        Arunachal Pradesh    16816      56    16816       56          0           0           0.33\n",
      "                                Meghalaya    13721     146    13721      146          0           0           1.06\n",
      "                                 Nagaland    12070      88    12070       88          0           0           0.73\n",
      "                                   Ladakh     9668     128     9668      128          0           0           1.32\n",
      "                                   Sikkim     6062     131     6062      131          0           0           2.16\n",
      "              Andaman and Nicobar Islands     4991      62     4991       62          0           0           1.24\n",
      "                                  Mizoram     4346       9     4346        9          0           0           0.21\n",
      " Dadra and Nagar Haveli and Daman and Diu     3376       2     3376        2          0           0           0.06\n",
      "                              Lakshadweep       48       0       48        0          0           0           0.00\n"
     ]
    }
   ],
   "source": [
    "#hide_input\n",
    "print(df_table.to_string(index=False))"
   ]
  },
  {
   "cell_type": "code",
   "execution_count": null,
   "id": "quantitative-legend",
   "metadata": {
    "papermill": {
     "duration": 0.024231,
     "end_time": "2021-01-22T15:05:49.412377",
     "exception": false,
     "start_time": "2021-01-22T15:05:49.388146",
     "status": "completed"
    },
    "tags": []
   },
   "outputs": [],
   "source": []
  },
  {
   "cell_type": "code",
   "execution_count": null,
   "id": "distant-acoustic",
   "metadata": {
    "papermill": {
     "duration": 0.024081,
     "end_time": "2021-01-22T15:05:49.460826",
     "exception": false,
     "start_time": "2021-01-22T15:05:49.436745",
     "status": "completed"
    },
    "tags": []
   },
   "outputs": [],
   "source": []
  }
 ],
 "metadata": {
  "kernelspec": {
   "display_name": "Python 3",
   "language": "python",
   "name": "python3"
  },
  "language_info": {
   "codemirror_mode": {
    "name": "ipython",
    "version": 3
   },
   "file_extension": ".py",
   "mimetype": "text/x-python",
   "name": "python",
   "nbconvert_exporter": "python",
   "pygments_lexer": "ipython3",
   "version": "3.6.12"
  },
  "papermill": {
   "duration": 16.842481,
   "end_time": "2021-01-22T15:05:49.994657",
   "environment_variables": {},
   "exception": null,
   "input_path": "latest.ipynb",
   "output_path": "latest.ipynb",
   "parameters": {},
   "start_time": "2021-01-22T15:05:33.152176",
   "version": "2.1.2"
  }
 },
 "nbformat": 4,
 "nbformat_minor": 5
}