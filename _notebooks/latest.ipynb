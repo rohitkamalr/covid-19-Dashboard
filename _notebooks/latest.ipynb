{
 "cells": [
  {
   "cell_type": "markdown",
   "metadata": {
    "papermill": {
     "duration": 0.019798,
     "end_time": "2020-09-16T11:20:43.483495",
     "exception": false,
     "start_time": "2020-09-16T11:20:43.463697",
     "status": "completed"
    },
    "tags": []
   },
   "source": [
    "# Latest COVID-19 India Matplotlib Overview"
   ]
  },
  {
   "cell_type": "code",
   "execution_count": 1,
   "metadata": {
    "execution": {
     "iopub.execute_input": "2020-09-16T11:20:43.525335Z",
     "iopub.status.busy": "2020-09-16T11:20:43.524681Z",
     "iopub.status.idle": "2020-09-16T11:20:44.165225Z",
     "shell.execute_reply": "2020-09-16T11:20:44.164591Z"
    },
    "papermill": {
     "duration": 0.664946,
     "end_time": "2020-09-16T11:20:44.165380",
     "exception": false,
     "start_time": "2020-09-16T11:20:43.500434",
     "status": "completed"
    },
    "tags": []
   },
   "outputs": [],
   "source": [
    "#hide\n",
    "import pandas as pd\n",
    "import numpy as np\n",
    "import requests\n",
    "import json\n",
    "import matplotlib.pyplot as plt\n",
    "import matplotlib.dates as mdates\n",
    "import matplotlib as mpl\n",
    "from IPython.core.display import display,HTML\n",
    "%matplotlib inline\n",
    "from datetime import date"
   ]
  },
  {
   "cell_type": "code",
   "execution_count": 2,
   "metadata": {
    "execution": {
     "iopub.execute_input": "2020-09-16T11:20:44.204313Z",
     "iopub.status.busy": "2020-09-16T11:20:44.203613Z",
     "iopub.status.idle": "2020-09-16T11:20:44.392464Z",
     "shell.execute_reply": "2020-09-16T11:20:44.391825Z"
    },
    "papermill": {
     "duration": 0.211031,
     "end_time": "2020-09-16T11:20:44.392604",
     "exception": false,
     "start_time": "2020-09-16T11:20:44.181573",
     "status": "completed"
    },
    "tags": []
   },
   "outputs": [],
   "source": [
    "#hide\n",
    "df  = pd.read_csv('https://api.covid19india.org/csv/latest/states.csv')\n",
    "df = df[['Date','State','Confirmed','Deceased']]\n",
    "df = df.rename(columns={'Confirmed':'Cases', \"Deceased\":'Deaths'})\n",
    "df_cases = df[[\"Date\",'State','Cases']]\n",
    "df_deaths = df[['Date','State','Deaths']]\n",
    "df_cases1 = df_cases.groupby('Date')\n",
    "df_deaths1= df_deaths.groupby('Date')"
   ]
  },
  {
   "cell_type": "code",
   "execution_count": 3,
   "metadata": {
    "execution": {
     "iopub.execute_input": "2020-09-16T11:20:44.435611Z",
     "iopub.status.busy": "2020-09-16T11:20:44.434972Z",
     "iopub.status.idle": "2020-09-16T11:20:44.455342Z",
     "shell.execute_reply": "2020-09-16T11:20:44.454654Z"
    },
    "papermill": {
     "duration": 0.045673,
     "end_time": "2020-09-16T11:20:44.455491",
     "exception": false,
     "start_time": "2020-09-16T11:20:44.409818",
     "status": "completed"
    },
    "tags": []
   },
   "outputs": [],
   "source": [
    "#hide\n",
    "df_snap = pd.read_csv('data/SnapshotCases-28-July.csv')\n",
    "arr_states = df_snap['states'].unique()\n",
    "arr_dates = df['Date'].unique()\n",
    "df_snap = df_snap.set_index('states')"
   ]
  },
  {
   "cell_type": "code",
   "execution_count": 4,
   "metadata": {
    "execution": {
     "iopub.execute_input": "2020-09-16T11:20:44.496032Z",
     "iopub.status.busy": "2020-09-16T11:20:44.495384Z",
     "iopub.status.idle": "2020-09-16T11:20:44.506934Z",
     "shell.execute_reply": "2020-09-16T11:20:44.506282Z"
    },
    "papermill": {
     "duration": 0.035143,
     "end_time": "2020-09-16T11:20:44.507073",
     "exception": false,
     "start_time": "2020-09-16T11:20:44.471930",
     "status": "completed"
    },
    "tags": []
   },
   "outputs": [
    {
     "data": {
      "text/plain": [
       "array(['Andaman and Nicobar Islands', 'Andhra Pradesh',\n",
       "       'Arunachal Pradesh', 'Assam', 'Bihar', 'Chandigarh',\n",
       "       'Dadra and Nagar Haveli and Daman and Diu', 'Delhi', 'Goa',\n",
       "       'Gujarat', 'Haryana', 'Himachal Pradesh', 'Jammu and Kashmir',\n",
       "       'Jharkhand', 'Karnataka', 'Kerala', 'Lakshadweep',\n",
       "       'Madhya Pradesh', 'Maharashtra', 'Manipur', 'Meghalaya', 'Mizoram',\n",
       "       'Nagaland', 'Odisha', 'Puducherry', 'Punjab', 'Rajasthan',\n",
       "       'Sikkim', 'Tamil Nadu', 'Telangana', 'Tripura', 'Uttar Pradesh',\n",
       "       'West Bengal', 'Chhattisgarh', 'Ladakh', 'Uttarakhand'],\n",
       "      dtype=object)"
      ]
     },
     "execution_count": 4,
     "metadata": {},
     "output_type": "execute_result"
    }
   ],
   "source": [
    "#hide\n",
    "arr_states[-9] = 'Puducherry'\n",
    "arr_states[-10] = 'Odisha'\n",
    "arr_states[6] = 'Dadra and Nagar Haveli and Daman and Diu'\n",
    "arr_states = np.append(arr_states,np.array(['Chhattisgarh','Ladakh','Uttarakhand']))\n",
    "arr_states"
   ]
  },
  {
   "cell_type": "code",
   "execution_count": 5,
   "metadata": {
    "execution": {
     "iopub.execute_input": "2020-09-16T11:20:44.551315Z",
     "iopub.status.busy": "2020-09-16T11:20:44.550677Z",
     "iopub.status.idle": "2020-09-16T11:20:44.558724Z",
     "shell.execute_reply": "2020-09-16T11:20:44.559294Z"
    },
    "papermill": {
     "duration": 0.035379,
     "end_time": "2020-09-16T11:20:44.559443",
     "exception": false,
     "start_time": "2020-09-16T11:20:44.524064",
     "status": "completed"
    },
    "tags": []
   },
   "outputs": [],
   "source": [
    "#hide\n",
    "dates = []\n",
    "for i in arr_dates:\n",
    "    if i>='2020-07-01':\n",
    "        dates.append(i)\n",
    "dict = {'states':dates}\n",
    "for i in arr_states:\n",
    "    dict[i] = [0]*len(dates)\n",
    "dft_cases = pd.DataFrame(dict)\n",
    "dft_deaths = pd.DataFrame(dict)\n"
   ]
  },
  {
   "cell_type": "code",
   "execution_count": 6,
   "metadata": {
    "execution": {
     "iopub.execute_input": "2020-09-16T11:20:44.598838Z",
     "iopub.status.busy": "2020-09-16T11:20:44.598151Z",
     "iopub.status.idle": "2020-09-16T11:20:45.969105Z",
     "shell.execute_reply": "2020-09-16T11:20:45.968518Z"
    },
    "papermill": {
     "duration": 1.393346,
     "end_time": "2020-09-16T11:20:45.969252",
     "exception": false,
     "start_time": "2020-09-16T11:20:44.575906",
     "status": "completed"
    },
    "tags": []
   },
   "outputs": [],
   "source": [
    "#hide\n",
    "for i in range(len(dates)):\n",
    "    df1_deaths = df_deaths1.get_group(dates[i])\n",
    "    for j in range(len(df1_deaths.index)):\n",
    "        if df1_deaths.iloc[j,1] in arr_states:\n",
    "            dft_deaths.loc[i,df1_deaths.iloc[j,1]] = df1_deaths.iloc[j,2]\n",
    "dft_deaths = dft_deaths.set_index('states')"
   ]
  },
  {
   "cell_type": "code",
   "execution_count": 7,
   "metadata": {
    "execution": {
     "iopub.execute_input": "2020-09-16T11:20:46.905722Z",
     "iopub.status.busy": "2020-09-16T11:20:46.646826Z",
     "iopub.status.idle": "2020-09-16T11:20:47.440403Z",
     "shell.execute_reply": "2020-09-16T11:20:47.439177Z"
    },
    "papermill": {
     "duration": 1.454713,
     "end_time": "2020-09-16T11:20:47.440542",
     "exception": false,
     "start_time": "2020-09-16T11:20:45.985829",
     "status": "completed"
    },
    "tags": []
   },
   "outputs": [],
   "source": [
    "#hide\n",
    "for i in range(len(dates)):\n",
    "    df1_cases = df_cases1.get_group(dates[i])\n",
    "    for j in range(len(df1_cases.index)):\n",
    "        if df1_cases.iloc[j,1] in arr_states:\n",
    "            dft_cases.loc[i,df1_cases.iloc[j,1]] = df1_cases.iloc[j,2]\n",
    "dft_cases = dft_cases.set_index('states')"
   ]
  },
  {
   "cell_type": "code",
   "execution_count": 8,
   "metadata": {
    "execution": {
     "iopub.execute_input": "2020-09-16T11:20:47.479182Z",
     "iopub.status.busy": "2020-09-16T11:20:47.478560Z",
     "iopub.status.idle": "2020-09-16T11:20:47.483124Z",
     "shell.execute_reply": "2020-09-16T11:20:47.482340Z"
    },
    "papermill": {
     "duration": 0.026158,
     "end_time": "2020-09-16T11:20:47.483249",
     "exception": false,
     "start_time": "2020-09-16T11:20:47.457091",
     "status": "completed"
    },
    "tags": []
   },
   "outputs": [],
   "source": [
    "#hide\n",
    "dft_cases = dft_cases.T\n",
    "dft_deaths = dft_deaths.T\n",
    "dt_today = dates[-1]\n",
    "dt_yday = dates[-2]"
   ]
  },
  {
   "cell_type": "code",
   "execution_count": 9,
   "metadata": {
    "execution": {
     "iopub.execute_input": "2020-09-16T11:20:47.523705Z",
     "iopub.status.busy": "2020-09-16T11:20:47.522710Z",
     "iopub.status.idle": "2020-09-16T11:20:47.527509Z",
     "shell.execute_reply": "2020-09-16T11:20:47.528108Z"
    },
    "papermill": {
     "duration": 0.027462,
     "end_time": "2020-09-16T11:20:47.528278",
     "exception": false,
     "start_time": "2020-09-16T11:20:47.500816",
     "status": "completed"
    },
    "tags": []
   },
   "outputs": [],
   "source": [
    "#hide\n",
    "dft_cases = dft_cases.reset_index()\n",
    "dft_deaths = dft_deaths.reset_index()\n",
    "dft_cases = dft_cases.rename(columns = {'index':'state'})\n",
    "dft_deaths = dft_deaths.rename(columns = {'index':'state'})"
   ]
  },
  {
   "cell_type": "code",
   "execution_count": 10,
   "metadata": {
    "execution": {
     "iopub.execute_input": "2020-09-16T11:20:47.577276Z",
     "iopub.status.busy": "2020-09-16T11:20:47.575757Z",
     "iopub.status.idle": "2020-09-16T11:20:47.577975Z",
     "shell.execute_reply": "2020-09-16T11:20:47.578668Z"
    },
    "papermill": {
     "duration": 0.032454,
     "end_time": "2020-09-16T11:20:47.578820",
     "exception": false,
     "start_time": "2020-09-16T11:20:47.546366",
     "status": "completed"
    },
    "tags": []
   },
   "outputs": [],
   "source": [
    "#hide\n",
    "dfc_cases = dft_cases.groupby('state')[dt_today].sum()\n",
    "dfc_deaths = dft_deaths.groupby('state')[dt_today].sum()\n",
    "dfp_cases = dft_cases.groupby('state')[dt_yday].sum()\n",
    "dfp_deaths = dft_deaths.groupby('state')[dt_yday].sum()"
   ]
  },
  {
   "cell_type": "code",
   "execution_count": 11,
   "metadata": {
    "execution": {
     "iopub.execute_input": "2020-09-16T11:20:47.627271Z",
     "iopub.status.busy": "2020-09-16T11:20:47.620372Z",
     "iopub.status.idle": "2020-09-16T11:20:47.633866Z",
     "shell.execute_reply": "2020-09-16T11:20:47.634400Z"
    },
    "papermill": {
     "duration": 0.038361,
     "end_time": "2020-09-16T11:20:47.634547",
     "exception": false,
     "start_time": "2020-09-16T11:20:47.596186",
     "status": "completed"
    },
    "tags": []
   },
   "outputs": [
    {
     "data": {
      "text/html": [
       "<div>\n",
       "<style scoped>\n",
       "    .dataframe tbody tr th:only-of-type {\n",
       "        vertical-align: middle;\n",
       "    }\n",
       "\n",
       "    .dataframe tbody tr th {\n",
       "        vertical-align: top;\n",
       "    }\n",
       "\n",
       "    .dataframe thead th {\n",
       "        text-align: right;\n",
       "    }\n",
       "</style>\n",
       "<table border=\"1\" class=\"dataframe\">\n",
       "  <thead>\n",
       "    <tr style=\"text-align: right;\">\n",
       "      <th></th>\n",
       "      <th>states</th>\n",
       "      <th>Cases</th>\n",
       "      <th>Deaths</th>\n",
       "      <th>PCases</th>\n",
       "      <th>PDeaths</th>\n",
       "    </tr>\n",
       "  </thead>\n",
       "  <tbody>\n",
       "    <tr>\n",
       "      <th>0</th>\n",
       "      <td>Maharashtra</td>\n",
       "      <td>1097856</td>\n",
       "      <td>30409</td>\n",
       "      <td>1097856</td>\n",
       "      <td>30409</td>\n",
       "    </tr>\n",
       "    <tr>\n",
       "      <th>1</th>\n",
       "      <td>Andhra Pradesh</td>\n",
       "      <td>583925</td>\n",
       "      <td>5041</td>\n",
       "      <td>583925</td>\n",
       "      <td>5041</td>\n",
       "    </tr>\n",
       "    <tr>\n",
       "      <th>2</th>\n",
       "      <td>Tamil Nadu</td>\n",
       "      <td>514208</td>\n",
       "      <td>8502</td>\n",
       "      <td>514208</td>\n",
       "      <td>8502</td>\n",
       "    </tr>\n",
       "    <tr>\n",
       "      <th>3</th>\n",
       "      <td>Karnataka</td>\n",
       "      <td>475265</td>\n",
       "      <td>7481</td>\n",
       "      <td>475265</td>\n",
       "      <td>7481</td>\n",
       "    </tr>\n",
       "    <tr>\n",
       "      <th>4</th>\n",
       "      <td>Uttar Pradesh</td>\n",
       "      <td>324036</td>\n",
       "      <td>4604</td>\n",
       "      <td>324036</td>\n",
       "      <td>4604</td>\n",
       "    </tr>\n",
       "  </tbody>\n",
       "</table>\n",
       "</div>"
      ],
      "text/plain": [
       "           states    Cases  Deaths   PCases  PDeaths\n",
       "0     Maharashtra  1097856   30409  1097856    30409\n",
       "1  Andhra Pradesh   583925    5041   583925     5041\n",
       "2      Tamil Nadu   514208    8502   514208     8502\n",
       "3       Karnataka   475265    7481   475265     7481\n",
       "4   Uttar Pradesh   324036    4604   324036     4604"
      ]
     },
     "execution_count": 11,
     "metadata": {},
     "output_type": "execute_result"
    }
   ],
   "source": [
    "#hide\n",
    "df_table = pd.DataFrame({'states': dfc_cases.index, 'Cases': dfc_cases.values, 'Deaths': dfc_deaths.values, 'PCases': dfp_cases.values, 'PDeaths': dfp_deaths.values}).set_index('states')\n",
    "df_table = df_table.sort_values(by = ['Cases','Deaths'], ascending = [False, False])\n",
    "df_table = df_table.reset_index()\n",
    "df_table.head()"
   ]
  },
  {
   "cell_type": "code",
   "execution_count": 12,
   "metadata": {
    "execution": {
     "iopub.execute_input": "2020-09-16T11:20:47.674944Z",
     "iopub.status.busy": "2020-09-16T11:20:47.674306Z",
     "iopub.status.idle": "2020-09-16T11:20:47.684454Z",
     "shell.execute_reply": "2020-09-16T11:20:47.683878Z"
    },
    "papermill": {
     "duration": 0.03161,
     "end_time": "2020-09-16T11:20:47.684581",
     "exception": false,
     "start_time": "2020-09-16T11:20:47.652971",
     "status": "completed"
    },
    "tags": []
   },
   "outputs": [],
   "source": [
    "#hide\n",
    "for c in 'Cases, Deaths'.split(', '):\n",
    "    df_table[f'{c} (+)'] = (df_table[c] - df_table[f'P{c}']).clip(0)\n",
    "df_table['Fatality Rate'] = (100* df_table['Deaths']/ df_table['Cases']).round(2)"
   ]
  },
  {
   "cell_type": "code",
   "execution_count": 13,
   "metadata": {
    "execution": {
     "iopub.execute_input": "2020-09-16T11:20:47.730649Z",
     "iopub.status.busy": "2020-09-16T11:20:47.730026Z",
     "iopub.status.idle": "2020-09-16T11:20:47.735180Z",
     "shell.execute_reply": "2020-09-16T11:20:47.735684Z"
    },
    "papermill": {
     "duration": 0.033227,
     "end_time": "2020-09-16T11:20:47.735828",
     "exception": false,
     "start_time": "2020-09-16T11:20:47.702601",
     "status": "completed"
    },
    "tags": []
   },
   "outputs": [
    {
     "data": {
      "text/html": [
       "<div>\n",
       "<style scoped>\n",
       "    .dataframe tbody tr th:only-of-type {\n",
       "        vertical-align: middle;\n",
       "    }\n",
       "\n",
       "    .dataframe tbody tr th {\n",
       "        vertical-align: top;\n",
       "    }\n",
       "\n",
       "    .dataframe thead th {\n",
       "        text-align: right;\n",
       "    }\n",
       "</style>\n",
       "<table border=\"1\" class=\"dataframe\">\n",
       "  <thead>\n",
       "    <tr style=\"text-align: right;\">\n",
       "      <th></th>\n",
       "      <th>states</th>\n",
       "      <th>Cases</th>\n",
       "      <th>Deaths</th>\n",
       "      <th>PCases</th>\n",
       "      <th>PDeaths</th>\n",
       "      <th>Cases (+)</th>\n",
       "      <th>Deaths (+)</th>\n",
       "      <th>Fatality Rate</th>\n",
       "    </tr>\n",
       "  </thead>\n",
       "  <tbody>\n",
       "    <tr>\n",
       "      <th>0</th>\n",
       "      <td>Maharashtra</td>\n",
       "      <td>1097856</td>\n",
       "      <td>30409</td>\n",
       "      <td>1097856</td>\n",
       "      <td>30409</td>\n",
       "      <td>0</td>\n",
       "      <td>0</td>\n",
       "      <td>2.77</td>\n",
       "    </tr>\n",
       "    <tr>\n",
       "      <th>1</th>\n",
       "      <td>Andhra Pradesh</td>\n",
       "      <td>583925</td>\n",
       "      <td>5041</td>\n",
       "      <td>583925</td>\n",
       "      <td>5041</td>\n",
       "      <td>0</td>\n",
       "      <td>0</td>\n",
       "      <td>0.86</td>\n",
       "    </tr>\n",
       "    <tr>\n",
       "      <th>2</th>\n",
       "      <td>Tamil Nadu</td>\n",
       "      <td>514208</td>\n",
       "      <td>8502</td>\n",
       "      <td>514208</td>\n",
       "      <td>8502</td>\n",
       "      <td>0</td>\n",
       "      <td>0</td>\n",
       "      <td>1.65</td>\n",
       "    </tr>\n",
       "    <tr>\n",
       "      <th>3</th>\n",
       "      <td>Karnataka</td>\n",
       "      <td>475265</td>\n",
       "      <td>7481</td>\n",
       "      <td>475265</td>\n",
       "      <td>7481</td>\n",
       "      <td>0</td>\n",
       "      <td>0</td>\n",
       "      <td>1.57</td>\n",
       "    </tr>\n",
       "    <tr>\n",
       "      <th>4</th>\n",
       "      <td>Uttar Pradesh</td>\n",
       "      <td>324036</td>\n",
       "      <td>4604</td>\n",
       "      <td>324036</td>\n",
       "      <td>4604</td>\n",
       "      <td>0</td>\n",
       "      <td>0</td>\n",
       "      <td>1.42</td>\n",
       "    </tr>\n",
       "  </tbody>\n",
       "</table>\n",
       "</div>"
      ],
      "text/plain": [
       "           states    Cases  Deaths   PCases  PDeaths  Cases (+)  Deaths (+)  \\\n",
       "0     Maharashtra  1097856   30409  1097856    30409          0           0   \n",
       "1  Andhra Pradesh   583925    5041   583925     5041          0           0   \n",
       "2      Tamil Nadu   514208    8502   514208     8502          0           0   \n",
       "3       Karnataka   475265    7481   475265     7481          0           0   \n",
       "4   Uttar Pradesh   324036    4604   324036     4604          0           0   \n",
       "\n",
       "   Fatality Rate  \n",
       "0           2.77  \n",
       "1           0.86  \n",
       "2           1.65  \n",
       "3           1.57  \n",
       "4           1.42  "
      ]
     },
     "execution_count": 13,
     "metadata": {},
     "output_type": "execute_result"
    }
   ],
   "source": [
    "#hide\n",
    "df_table.head()"
   ]
  },
  {
   "cell_type": "code",
   "execution_count": 14,
   "metadata": {
    "execution": {
     "iopub.execute_input": "2020-09-16T11:20:47.776104Z",
     "iopub.status.busy": "2020-09-16T11:20:47.773082Z",
     "iopub.status.idle": "2020-09-16T11:20:47.793805Z",
     "shell.execute_reply": "2020-09-16T11:20:47.793174Z"
    },
    "papermill": {
     "duration": 0.040254,
     "end_time": "2020-09-16T11:20:47.793945",
     "exception": false,
     "start_time": "2020-09-16T11:20:47.753691",
     "status": "completed"
    },
    "tags": []
   },
   "outputs": [
    {
     "data": {
      "text/plain": [
       "{'updated': '2020-09-16',\n",
       " 'since': '2020-09-15',\n",
       " 'Cases': 5025043,\n",
       " 'PCases': 5018034,\n",
       " 'Deaths': 82124,\n",
       " 'PDeaths': 82091,\n",
       " 'Cases (+)': 7009,\n",
       " 'Deaths (+)': 33}"
      ]
     },
     "execution_count": 14,
     "metadata": {},
     "output_type": "execute_result"
    }
   ],
   "source": [
    "#hide\n",
    "summary = {'updated':dates[-1], 'since':dates[-2]}\n",
    "list_names = ['Cases', 'PCases', 'Deaths', 'PDeaths', 'Cases (+)', 'Deaths (+)']\n",
    "for name in list_names:\n",
    "    summary[name] = df_table.sum()[name]\n",
    "summary"
   ]
  },
  {
   "cell_type": "code",
   "execution_count": 15,
   "metadata": {
    "execution": {
     "iopub.execute_input": "2020-09-16T11:20:47.833964Z",
     "iopub.status.busy": "2020-09-16T11:20:47.833353Z",
     "iopub.status.idle": "2020-09-16T11:20:47.837893Z",
     "shell.execute_reply": "2020-09-16T11:20:47.837376Z"
    },
    "papermill": {
     "duration": 0.025888,
     "end_time": "2020-09-16T11:20:47.838023",
     "exception": false,
     "start_time": "2020-09-16T11:20:47.812135",
     "status": "completed"
    },
    "tags": []
   },
   "outputs": [],
   "source": [
    "#hide\n",
    "overview = '''\n",
    "<!-- #######  HTML!! #########-->\n",
    "<h1 style=\"color: #5e9ca0; text-align: center;\">India</h1>\n",
    "<p style=\"text-align: center;\">Last update: <strong>{update}</strong></p>\n",
    "<p style=\"text-align: center;\">Confirmed cases:</p>\n",
    "<p style=\"text-align: center;font-size:24px;\">{cases} (<span style=\"color: #ff0000;\">+{new}</span>)</p>\n",
    "<p style=\"text-align: center;\">Confirmed deaths:</p>\n",
    "<p style=\"text-align: center;font-size:24px;\">{deaths} (<span style=\"color: #ff0000;\">+{dnew}</span>)</p>\n",
    "'''"
   ]
  },
  {
   "cell_type": "code",
   "execution_count": 16,
   "metadata": {
    "execution": {
     "iopub.execute_input": "2020-09-16T11:20:47.879465Z",
     "iopub.status.busy": "2020-09-16T11:20:47.878778Z",
     "iopub.status.idle": "2020-09-16T11:20:47.882022Z",
     "shell.execute_reply": "2020-09-16T11:20:47.882554Z"
    },
    "papermill": {
     "duration": 0.02713,
     "end_time": "2020-09-16T11:20:47.882686",
     "exception": false,
     "start_time": "2020-09-16T11:20:47.855556",
     "status": "completed"
    },
    "tags": []
   },
   "outputs": [
    {
     "data": {
      "text/html": [
       "\n",
       "<!-- #######  HTML!! #########-->\n",
       "<h1 style=\"color: #5e9ca0; text-align: center;\">India</h1>\n",
       "<p style=\"text-align: center;\">Last update: <strong>2020-09-16</strong></p>\n",
       "<p style=\"text-align: center;\">Confirmed cases:</p>\n",
       "<p style=\"text-align: center;font-size:24px;\">5025043 (<span style=\"color: #ff0000;\">+7009</span>)</p>\n",
       "<p style=\"text-align: center;\">Confirmed deaths:</p>\n",
       "<p style=\"text-align: center;font-size:24px;\">82124 (<span style=\"color: #ff0000;\">+33</span>)</p>\n"
      ],
      "text/plain": [
       "<IPython.core.display.HTML object>"
      ]
     },
     "metadata": {},
     "output_type": "display_data"
    }
   ],
   "source": [
    "#hide_input\n",
    "update = summary['updated']\n",
    "cases = summary['Cases']\n",
    "new = summary['Cases (+)']\n",
    "deaths = summary['Deaths']\n",
    "dnew = summary['Deaths (+)']\n",
    "\n",
    "html = HTML(overview.format(update=update, cases=cases,new=new,deaths=deaths,dnew=dnew))\n",
    "\n",
    "display(html)"
   ]
  },
  {
   "cell_type": "code",
   "execution_count": 17,
   "metadata": {
    "execution": {
     "iopub.execute_input": "2020-09-16T11:20:47.929897Z",
     "iopub.status.busy": "2020-09-16T11:20:47.929183Z",
     "iopub.status.idle": "2020-09-16T11:20:47.934144Z",
     "shell.execute_reply": "2020-09-16T11:20:47.934687Z"
    },
    "papermill": {
     "duration": 0.032639,
     "end_time": "2020-09-16T11:20:47.934885",
     "exception": false,
     "start_time": "2020-09-16T11:20:47.902246",
     "status": "completed"
    },
    "tags": []
   },
   "outputs": [],
   "source": [
    "#hide\n",
    "dt_cols = list(dft_cases.columns[1:])\n",
    "dft_ct_new_cases = dft_cases.groupby('state')[dt_cols].sum().diff(axis=1).fillna(0).astype(int)\n",
    "dft_ct_new_cases.sort_values(by = dates[-1], ascending = False,inplace = True)"
   ]
  },
  {
   "cell_type": "code",
   "execution_count": 18,
   "metadata": {
    "execution": {
     "iopub.execute_input": "2020-09-16T11:20:47.994247Z",
     "iopub.status.busy": "2020-09-16T11:20:47.993597Z",
     "iopub.status.idle": "2020-09-16T11:20:47.999637Z",
     "shell.execute_reply": "2020-09-16T11:20:47.999062Z"
    },
    "papermill": {
     "duration": 0.042623,
     "end_time": "2020-09-16T11:20:47.999770",
     "exception": false,
     "start_time": "2020-09-16T11:20:47.957147",
     "status": "completed"
    },
    "tags": []
   },
   "outputs": [
    {
     "data": {
      "text/html": [
       "<div>\n",
       "<style scoped>\n",
       "    .dataframe tbody tr th:only-of-type {\n",
       "        vertical-align: middle;\n",
       "    }\n",
       "\n",
       "    .dataframe tbody tr th {\n",
       "        vertical-align: top;\n",
       "    }\n",
       "\n",
       "    .dataframe thead th {\n",
       "        text-align: right;\n",
       "    }\n",
       "</style>\n",
       "<table border=\"1\" class=\"dataframe\">\n",
       "  <thead>\n",
       "    <tr style=\"text-align: right;\">\n",
       "      <th>states</th>\n",
       "      <th>2020-07-01</th>\n",
       "      <th>2020-07-02</th>\n",
       "      <th>2020-07-03</th>\n",
       "      <th>2020-07-04</th>\n",
       "      <th>2020-07-05</th>\n",
       "      <th>2020-07-06</th>\n",
       "      <th>2020-07-07</th>\n",
       "      <th>2020-07-08</th>\n",
       "      <th>2020-07-09</th>\n",
       "      <th>2020-07-10</th>\n",
       "      <th>...</th>\n",
       "      <th>2020-09-07</th>\n",
       "      <th>2020-09-08</th>\n",
       "      <th>2020-09-09</th>\n",
       "      <th>2020-09-10</th>\n",
       "      <th>2020-09-11</th>\n",
       "      <th>2020-09-12</th>\n",
       "      <th>2020-09-13</th>\n",
       "      <th>2020-09-14</th>\n",
       "      <th>2020-09-15</th>\n",
       "      <th>2020-09-16</th>\n",
       "    </tr>\n",
       "    <tr>\n",
       "      <th>state</th>\n",
       "      <th></th>\n",
       "      <th></th>\n",
       "      <th></th>\n",
       "      <th></th>\n",
       "      <th></th>\n",
       "      <th></th>\n",
       "      <th></th>\n",
       "      <th></th>\n",
       "      <th></th>\n",
       "      <th></th>\n",
       "      <th></th>\n",
       "      <th></th>\n",
       "      <th></th>\n",
       "      <th></th>\n",
       "      <th></th>\n",
       "      <th></th>\n",
       "      <th></th>\n",
       "      <th></th>\n",
       "      <th></th>\n",
       "      <th></th>\n",
       "      <th></th>\n",
       "    </tr>\n",
       "  </thead>\n",
       "  <tbody>\n",
       "    <tr>\n",
       "      <th>Odisha</th>\n",
       "      <td>0</td>\n",
       "      <td>229</td>\n",
       "      <td>561</td>\n",
       "      <td>495</td>\n",
       "      <td>469</td>\n",
       "      <td>456</td>\n",
       "      <td>571</td>\n",
       "      <td>527</td>\n",
       "      <td>577</td>\n",
       "      <td>755</td>\n",
       "      <td>...</td>\n",
       "      <td>3861</td>\n",
       "      <td>3490</td>\n",
       "      <td>3748</td>\n",
       "      <td>3991</td>\n",
       "      <td>3996</td>\n",
       "      <td>3777</td>\n",
       "      <td>3913</td>\n",
       "      <td>4198</td>\n",
       "      <td>3645</td>\n",
       "      <td>4270</td>\n",
       "    </tr>\n",
       "    <tr>\n",
       "      <th>Telangana</th>\n",
       "      <td>0</td>\n",
       "      <td>1213</td>\n",
       "      <td>1892</td>\n",
       "      <td>1850</td>\n",
       "      <td>1590</td>\n",
       "      <td>1831</td>\n",
       "      <td>1879</td>\n",
       "      <td>1924</td>\n",
       "      <td>1410</td>\n",
       "      <td>1278</td>\n",
       "      <td>...</td>\n",
       "      <td>1802</td>\n",
       "      <td>2392</td>\n",
       "      <td>2479</td>\n",
       "      <td>2534</td>\n",
       "      <td>2426</td>\n",
       "      <td>2278</td>\n",
       "      <td>2216</td>\n",
       "      <td>1417</td>\n",
       "      <td>2058</td>\n",
       "      <td>2273</td>\n",
       "    </tr>\n",
       "    <tr>\n",
       "      <th>Tripura</th>\n",
       "      <td>0</td>\n",
       "      <td>39</td>\n",
       "      <td>93</td>\n",
       "      <td>25</td>\n",
       "      <td>23</td>\n",
       "      <td>111</td>\n",
       "      <td>24</td>\n",
       "      <td>57</td>\n",
       "      <td>16</td>\n",
       "      <td>142</td>\n",
       "      <td>...</td>\n",
       "      <td>399</td>\n",
       "      <td>628</td>\n",
       "      <td>582</td>\n",
       "      <td>535</td>\n",
       "      <td>559</td>\n",
       "      <td>470</td>\n",
       "      <td>629</td>\n",
       "      <td>255</td>\n",
       "      <td>531</td>\n",
       "      <td>454</td>\n",
       "    </tr>\n",
       "    <tr>\n",
       "      <th>Mizoram</th>\n",
       "      <td>0</td>\n",
       "      <td>2</td>\n",
       "      <td>0</td>\n",
       "      <td>2</td>\n",
       "      <td>22</td>\n",
       "      <td>11</td>\n",
       "      <td>1</td>\n",
       "      <td>5</td>\n",
       "      <td>0</td>\n",
       "      <td>23</td>\n",
       "      <td>...</td>\n",
       "      <td>21</td>\n",
       "      <td>9</td>\n",
       "      <td>69</td>\n",
       "      <td>141</td>\n",
       "      <td>20</td>\n",
       "      <td>26</td>\n",
       "      <td>35</td>\n",
       "      <td>14</td>\n",
       "      <td>40</td>\n",
       "      <td>12</td>\n",
       "    </tr>\n",
       "    <tr>\n",
       "      <th>Andaman and Nicobar Islands</th>\n",
       "      <td>0</td>\n",
       "      <td>9</td>\n",
       "      <td>7</td>\n",
       "      <td>3</td>\n",
       "      <td>6</td>\n",
       "      <td>16</td>\n",
       "      <td>6</td>\n",
       "      <td>2</td>\n",
       "      <td>7</td>\n",
       "      <td>0</td>\n",
       "      <td>...</td>\n",
       "      <td>27</td>\n",
       "      <td>33</td>\n",
       "      <td>34</td>\n",
       "      <td>39</td>\n",
       "      <td>29</td>\n",
       "      <td>27</td>\n",
       "      <td>25</td>\n",
       "      <td>11</td>\n",
       "      <td>17</td>\n",
       "      <td>0</td>\n",
       "    </tr>\n",
       "  </tbody>\n",
       "</table>\n",
       "<p>5 rows × 78 columns</p>\n",
       "</div>"
      ],
      "text/plain": [
       "states                       2020-07-01  2020-07-02  2020-07-03  2020-07-04  \\\n",
       "state                                                                         \n",
       "Odisha                                0         229         561         495   \n",
       "Telangana                             0        1213        1892        1850   \n",
       "Tripura                               0          39          93          25   \n",
       "Mizoram                               0           2           0           2   \n",
       "Andaman and Nicobar Islands           0           9           7           3   \n",
       "\n",
       "states                       2020-07-05  2020-07-06  2020-07-07  2020-07-08  \\\n",
       "state                                                                         \n",
       "Odisha                              469         456         571         527   \n",
       "Telangana                          1590        1831        1879        1924   \n",
       "Tripura                              23         111          24          57   \n",
       "Mizoram                              22          11           1           5   \n",
       "Andaman and Nicobar Islands           6          16           6           2   \n",
       "\n",
       "states                       2020-07-09  2020-07-10  ...  2020-09-07  \\\n",
       "state                                                ...               \n",
       "Odisha                              577         755  ...        3861   \n",
       "Telangana                          1410        1278  ...        1802   \n",
       "Tripura                              16         142  ...         399   \n",
       "Mizoram                               0          23  ...          21   \n",
       "Andaman and Nicobar Islands           7           0  ...          27   \n",
       "\n",
       "states                       2020-09-08  2020-09-09  2020-09-10  2020-09-11  \\\n",
       "state                                                                         \n",
       "Odisha                             3490        3748        3991        3996   \n",
       "Telangana                          2392        2479        2534        2426   \n",
       "Tripura                             628         582         535         559   \n",
       "Mizoram                               9          69         141          20   \n",
       "Andaman and Nicobar Islands          33          34          39          29   \n",
       "\n",
       "states                       2020-09-12  2020-09-13  2020-09-14  2020-09-15  \\\n",
       "state                                                                         \n",
       "Odisha                             3777        3913        4198        3645   \n",
       "Telangana                          2278        2216        1417        2058   \n",
       "Tripura                             470         629         255         531   \n",
       "Mizoram                              26          35          14          40   \n",
       "Andaman and Nicobar Islands          27          25          11          17   \n",
       "\n",
       "states                       2020-09-16  \n",
       "state                                    \n",
       "Odisha                             4270  \n",
       "Telangana                          2273  \n",
       "Tripura                             454  \n",
       "Mizoram                              12  \n",
       "Andaman and Nicobar Islands           0  \n",
       "\n",
       "[5 rows x 78 columns]"
      ]
     },
     "execution_count": 18,
     "metadata": {},
     "output_type": "execute_result"
    }
   ],
   "source": [
    "#hide\n",
    "dft_ct_new_cases.head()"
   ]
  },
  {
   "cell_type": "code",
   "execution_count": 19,
   "metadata": {
    "execution": {
     "iopub.execute_input": "2020-09-16T11:20:48.045309Z",
     "iopub.status.busy": "2020-09-16T11:20:48.039930Z",
     "iopub.status.idle": "2020-09-16T11:20:51.968197Z",
     "shell.execute_reply": "2020-09-16T11:20:51.969382Z"
    },
    "papermill": {
     "duration": 3.951089,
     "end_time": "2020-09-16T11:20:51.969568",
     "exception": false,
     "start_time": "2020-09-16T11:20:48.018479",
     "status": "completed"
    },
    "tags": []
   },
   "outputs": [
    {
     "data": {
      "image/png": "[encoded data removed]",
      "text/plain": [
       "<Figure size 1296x2016 with 11 Axes>"
      ]
     },
     "metadata": {
      "needs_background": "light"
     },
     "output_type": "display_data"
    }
   ],
   "source": [
    "#hide_input\n",
    "df = dft_ct_new_cases.copy()\n",
    "df.loc['Total'] = df.sum()\n",
    "n = 5\n",
    "ax = []\n",
    "fig = plt.figure(figsize = (18,28))\n",
    "gs = fig.add_gridspec(n+2, 5)\n",
    "# gs = fig.add_gridspec(2, 3)\n",
    "ax1 = fig.add_subplot(gs[0, :])\n",
    "ef = df.loc['Total'].rename_axis('date').reset_index()\n",
    "ef['date'] = ef['date'].astype('datetime64[ns]')\n",
    "ax1.bar(ef.date,ef.Total,alpha=0.3,color='#007acc')\n",
    "ax1.plot(ef.date,ef.Total , marker=\"o\", color='#007acc')\n",
    "ax1.xaxis.set_major_locator(mdates.WeekdayLocator())\n",
    "ax1.xaxis.set_major_formatter(mdates.DateFormatter('%b %d'))\n",
    "ax1.text(0.02, 0.5,'India daily case count', transform = ax1.transAxes, fontsize=25);\n",
    "ax1.spines['right'].set_visible(False)\n",
    "ax1.spines['top'].set_visible(False)\n",
    "\n",
    "ax2 = fig.add_subplot(gs[1,0])\n",
    "ef = df.loc['Maharashtra'].rename_axis('date').reset_index()\n",
    "ef['date'] = ef['date'].astype('datetime64[ns]')\n",
    "\n",
    "ax2.bar(ef.date, ef.Maharashtra,color = '#007acc',alpha=0.5)\n",
    "ax2.xaxis.set_major_locator(mdates.WeekdayLocator())\n",
    "ax2.xaxis.set_major_formatter(mdates.DateFormatter('%b %d'))\n",
    "ax2.set_xticks(ax2.get_xticks()[::3])\n",
    "maxyval = ef.Maharashtra.max()\n",
    "ax2.set_ylim([0,maxyval])\n",
    "ax2.text(0.05, 0.9,'Maharashtra', transform = ax2.transAxes, fontsize=20);\n",
    "ax2.spines['right'].set_visible(False)\n",
    "ax2.spines['top'].set_visible(False)\n",
    "\n",
    "\n",
    "ax3 = fig.add_subplot(gs[1,1])\n",
    "ef = df.loc['Tamil Nadu'].rename_axis('date').reset_index()\n",
    "ef['date'] = ef['date'].astype('datetime64[ns]')\n",
    "ax3.bar(ef.date, ef['Tamil Nadu'],color = '#007acc',alpha=0.5,)\n",
    "ax3.xaxis.set_major_locator(mdates.WeekdayLocator())\n",
    "ax3.xaxis.set_major_formatter(mdates.DateFormatter('%b %d'))\n",
    "ax3.set_xticks(ax3.get_xticks()[::3])\n",
    "ax3.text(0.05, 0.9,'Tamil Nadu', transform = ax3.transAxes, fontsize=20);\n",
    "ax3.spines['right'].set_visible(False)\n",
    "ax3.spines['top'].set_visible(False)\n",
    "\n",
    "ax5 = fig.add_subplot(gs[1,3])\n",
    "ef = df.loc['Telangana'].rename_axis('date').reset_index()\n",
    "ef['date'] = ef['date'].astype('datetime64[ns]')\n",
    "ax5.bar(ef.date, ef['Telangana'],color = '#007acc',alpha=0.5,)\n",
    "ax5.xaxis.set_major_locator(mdates.WeekdayLocator())\n",
    "ax5.xaxis.set_major_formatter(mdates.DateFormatter('%b %d'))\n",
    "ax5.set_xticks(ax5.get_xticks()[::3])\n",
    "ax5.text(0.05, 0.9,'Telangana', transform = ax5.transAxes, fontsize=20);\n",
    "ax5.spines['right'].set_visible(False)\n",
    "ax5.spines['top'].set_visible(False)\n",
    "\n",
    "ax6 = fig.add_subplot(gs[1,4])\n",
    "ef = df.loc['Andhra Pradesh'].rename_axis('date').reset_index()\n",
    "ef['date'] = ef['date'].astype('datetime64[ns]')\n",
    "ax6.bar(ef.date, ef['Andhra Pradesh'],color = '#007acc',alpha=0.5,)\n",
    "ax6.xaxis.set_major_locator(mdates.WeekdayLocator())\n",
    "ax6.xaxis.set_major_formatter(mdates.DateFormatter('%b %d'))\n",
    "ax6.set_xticks(ax6.get_xticks()[::3])\n",
    "ax6.text(0.05, 1,'Andhra Pradesh', transform = ax6.transAxes, fontsize=20);\n",
    "ax6.spines['right'].set_visible(False)\n",
    "ax6.spines['top'].set_visible(False)\n",
    "\n",
    "ax4 = fig.add_subplot(gs[1,2])\n",
    "ef = df.loc['Delhi'].rename_axis('date').reset_index()\n",
    "ef['date'] = ef['date'].astype('datetime64[ns]')\n",
    "ax4.bar(ef.date, ef.Delhi,color = '#007acc',alpha=0.5)\n",
    "ax4.set_xticks([])\n",
    "ax4.xaxis.set_major_locator(mdates.WeekdayLocator())\n",
    "ax4.xaxis.set_major_formatter(mdates.DateFormatter('%b %d'))\n",
    "ax4.set_xticks(ax4.get_xticks()[::3])\n",
    "ax4.spines['right'].set_visible(False)\n",
    "ax4.spines['top'].set_visible(False)\n",
    "\n",
    "ax4.text(0.05, 1,'Delhi', transform = ax4.transAxes, fontsize=20)\n",
    "\n",
    "for i in range(n):\n",
    "    \n",
    "    ax.append(fig.add_subplot(gs[i+2,:]))\n",
    "    ef = df.iloc[i+3].rename_axis('date').reset_index()\n",
    "    ef['date'] = ef['date'].astype('datetime64[ns]')\n",
    "    ax[i].bar(ef.date,ef.iloc[:,-1],color = '#007acc',alpha=0.3)\n",
    "    ax[i].plot(ef.date,ef.iloc[:,-1],marker='o',color='#007acc')\n",
    "    ax[i].text(0.02,0.5,f'{ef.columns.values[-1]}',transform = ax[i].transAxes, fontsize = 20);\n",
    "    ax[i].xaxis.set_major_locator(mdates.WeekdayLocator())\n",
    "    ax[i].xaxis.set_major_formatter(mdates.DateFormatter('%b %d'))\n",
    "    ax[i].set_ylim([0,7000])\n",
    "    ax[i].spines['right'].set_visible(False)\n",
    "    ax[i].spines['top'].set_visible(False)\n",
    "plt.tight_layout()\n"
   ]
  },
  {
   "cell_type": "code",
   "execution_count": 20,
   "metadata": {
    "execution": {
     "iopub.execute_input": "2020-09-16T11:20:52.029225Z",
     "iopub.status.busy": "2020-09-16T11:20:52.028498Z",
     "iopub.status.idle": "2020-09-16T11:20:52.031942Z",
     "shell.execute_reply": "2020-09-16T11:20:52.031393Z"
    },
    "papermill": {
     "duration": 0.035993,
     "end_time": "2020-09-16T11:20:52.032083",
     "exception": false,
     "start_time": "2020-09-16T11:20:51.996090",
     "status": "completed"
    },
    "tags": []
   },
   "outputs": [
    {
     "name": "stdout",
     "output_type": "stream",
     "text": [
      "                                   states    Cases  Deaths   PCases  PDeaths  Cases (+)  Deaths (+)  Fatality Rate\n",
      "                              Maharashtra  1097856   30409  1097856    30409          0           0           2.77\n",
      "                           Andhra Pradesh   583925    5041   583925     5041          0           0           0.86\n",
      "                               Tamil Nadu   514208    8502   514208     8502          0           0           1.65\n",
      "                                Karnataka   475265    7481   475265     7481          0           0           1.57\n",
      "                            Uttar Pradesh   324036    4604   324036     4604          0           0           1.42\n",
      "                                    Delhi   225796    4806   225796     4806          0           0           2.13\n",
      "                              West Bengal   209146    4062   209146     4062          0           0           1.94\n",
      "                                   Odisha   162920     709   158650      698       4270          11           0.44\n",
      "                                Telangana   162844     996   160571      984       2273          12           0.61\n",
      "                                    Bihar   161101     836   161101      836          0           0           0.52\n",
      "                                    Assam   146575     492   146575      492          0           0           0.34\n",
      "                                  Gujarat   116345    3245   116345     3245          0           0           2.79\n",
      "                                   Kerala   114034     467   114034      467          0           0           0.41\n",
      "                                Rajasthan   105898    1264   105898     1264          0           0           1.19\n",
      "                                  Haryana    98622    1026    98622     1026          0           0           1.04\n",
      "                           Madhya Pradesh    93053    1820    93053     1820          0           0           1.96\n",
      "                                   Punjab    84482    2514    84482     2514          0           0           2.98\n",
      "                             Chhattisgarh    70777     588    70777      588          0           0           0.83\n",
      "                                Jharkhand    64439     571    64439      571          0           0           0.89\n",
      "                        Jammu and Kashmir    56654     914    56654      914          0           0           1.61\n",
      "                              Uttarakhand    34407     438    34407      438          0           0           1.27\n",
      "                                      Goa    25511     315    25511      315          0           0           1.23\n",
      "                               Puducherry    20601     405    20601      405          0           0           1.97\n",
      "                                  Tripura    20169     217    19715      207        454          10           1.08\n",
      "                         Himachal Pradesh    10335      89    10335       89          0           0           0.86\n",
      "                               Chandigarh     8592      96     8592       96          0           0           1.12\n",
      "                                  Manipur     8210      47     8210       47          0           0           0.57\n",
      "                        Arunachal Pradesh     6466      13     6466       13          0           0           0.20\n",
      "                                 Nagaland     5229      10     5229       10          0           0           0.19\n",
      "                                Meghalaya     4037      29     4037       29          0           0           0.72\n",
      "              Andaman and Nicobar Islands     3574      52     3574       52          0           0           1.45\n",
      "                                   Ladakh     3499      44     3499       44          0           0           1.26\n",
      " Dadra and Nagar Haveli and Daman and Diu     2784       2     2784        2          0           0           0.07\n",
      "                                   Sikkim     2173      20     2173       20          0           0           0.92\n",
      "                                  Mizoram     1480       0     1468        0         12           0           0.00\n",
      "                              Lakshadweep        0       0        0        0          0           0            NaN\n"
     ]
    }
   ],
   "source": [
    "#hide_input\n",
    "print(df_table.to_string(index=False))"
   ]
  },
  {
   "cell_type": "code",
   "execution_count": null,
   "metadata": {
    "papermill": {
     "duration": 0.022594,
     "end_time": "2020-09-16T11:20:52.077850",
     "exception": false,
     "start_time": "2020-09-16T11:20:52.055256",
     "status": "completed"
    },
    "tags": []
   },
   "outputs": [],
   "source": []
  },
  {
   "cell_type": "code",
   "execution_count": null,
   "metadata": {
    "papermill": {
     "duration": 0.022843,
     "end_time": "2020-09-16T11:20:52.124959",
     "exception": false,
     "start_time": "2020-09-16T11:20:52.102116",
     "status": "completed"
    },
    "tags": []
   },
   "outputs": [],
   "source": []
  }
 ],
 "metadata": {
  "kernelspec": {
   "display_name": "Python 3",
   "language": "python",
   "name": "python3"
  },
  "language_info": {
   "codemirror_mode": {
    "name": "ipython",
    "version": 3
   },
   "file_extension": ".py",
   "mimetype": "text/x-python",
   "name": "python",
   "nbconvert_exporter": "python",
   "pygments_lexer": "ipython3",
   "version": "3.6.12"
  },
  "papermill": {
   "duration": 10.179859,
   "end_time": "2020-09-16T11:20:52.557999",
   "environment_variables": {},
   "exception": null,
   "input_path": "latest.ipynb",
   "output_path": "latest.ipynb",
   "parameters": {},
   "start_time": "2020-09-16T11:20:42.378140",
   "version": "2.1.2"
  }
 },
 "nbformat": 4,
 "nbformat_minor": 4
}