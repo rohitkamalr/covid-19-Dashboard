{
 "cells": [
  {
   "cell_type": "markdown",
   "id": "colored-stack",
   "metadata": {
    "papermill": {
     "duration": 0.021951,
     "end_time": "2021-03-23T10:51:24.473346",
     "exception": false,
     "start_time": "2021-03-23T10:51:24.451395",
     "status": "completed"
    },
    "tags": []
   },
   "source": [
    "# Latest COVID-19 India Matplotlib Overview"
   ]
  },
  {
   "cell_type": "code",
   "execution_count": 1,
   "id": "light-proportion",
   "metadata": {
    "execution": {
     "iopub.execute_input": "2021-03-23T10:51:24.522405Z",
     "iopub.status.busy": "2021-03-23T10:51:24.521851Z",
     "iopub.status.idle": "2021-03-23T10:51:25.106299Z",
     "shell.execute_reply": "2021-03-23T10:51:25.105648Z"
    },
    "papermill": {
     "duration": 0.615658,
     "end_time": "2021-03-23T10:51:25.106470",
     "exception": false,
     "start_time": "2021-03-23T10:51:24.490812",
     "status": "completed"
    },
    "tags": []
   },
   "outputs": [],
   "source": [
    "#hide\n",
    "import pandas as pd\n",
    "import numpy as np\n",
    "import requests\n",
    "import json\n",
    "import matplotlib.pyplot as plt\n",
    "import matplotlib.dates as mdates\n",
    "import matplotlib as mpl\n",
    "from IPython.core.display import display,HTML\n",
    "%matplotlib inline\n",
    "from datetime import date"
   ]
  },
  {
   "cell_type": "code",
   "execution_count": 2,
   "id": "greenhouse-shooting",
   "metadata": {
    "execution": {
     "iopub.execute_input": "2021-03-23T10:51:25.150089Z",
     "iopub.status.busy": "2021-03-23T10:51:25.149181Z",
     "iopub.status.idle": "2021-03-23T10:51:30.483233Z",
     "shell.execute_reply": "2021-03-23T10:51:30.482679Z"
    },
    "papermill": {
     "duration": 5.358239,
     "end_time": "2021-03-23T10:51:30.483361",
     "exception": false,
     "start_time": "2021-03-23T10:51:25.125122",
     "status": "completed"
    },
    "tags": []
   },
   "outputs": [],
   "source": [
    "#hide\n",
    "df  = pd.read_csv('https://api.covid19india.org/csv/latest/states.csv')\n",
    "df = df[['Date','State','Confirmed','Deceased']]\n",
    "df = df.rename(columns={'Confirmed':'Cases', \"Deceased\":'Deaths'})\n",
    "df_cases = df[[\"Date\",'State','Cases']]\n",
    "df_deaths = df[['Date','State','Deaths']]\n",
    "df_cases1 = df_cases.groupby('Date')\n",
    "df_deaths1= df_deaths.groupby('Date')"
   ]
  },
  {
   "cell_type": "code",
   "execution_count": 3,
   "id": "hybrid-cathedral",
   "metadata": {
    "execution": {
     "iopub.execute_input": "2021-03-23T10:51:30.524200Z",
     "iopub.status.busy": "2021-03-23T10:51:30.523566Z",
     "iopub.status.idle": "2021-03-23T10:51:30.541734Z",
     "shell.execute_reply": "2021-03-23T10:51:30.541261Z"
    },
    "papermill": {
     "duration": 0.039758,
     "end_time": "2021-03-23T10:51:30.541912",
     "exception": false,
     "start_time": "2021-03-23T10:51:30.502154",
     "status": "completed"
    },
    "tags": []
   },
   "outputs": [],
   "source": [
    "#hide\n",
    "df_snap = pd.read_csv('data/SnapshotCases-28-July.csv')\n",
    "arr_states = df_snap['states'].unique()\n",
    "arr_dates = df['Date'].unique()\n",
    "df_snap = df_snap.set_index('states')"
   ]
  },
  {
   "cell_type": "code",
   "execution_count": 4,
   "id": "interior-belfast",
   "metadata": {
    "execution": {
     "iopub.execute_input": "2021-03-23T10:51:30.584002Z",
     "iopub.status.busy": "2021-03-23T10:51:30.583318Z",
     "iopub.status.idle": "2021-03-23T10:51:30.585531Z",
     "shell.execute_reply": "2021-03-23T10:51:30.586043Z"
    },
    "papermill": {
     "duration": 0.0271,
     "end_time": "2021-03-23T10:51:30.586188",
     "exception": false,
     "start_time": "2021-03-23T10:51:30.559088",
     "status": "completed"
    },
    "tags": []
   },
   "outputs": [
    {
     "data": {
      "text/plain": [
       "array(['Andaman and Nicobar Islands', 'Andhra Pradesh',\n",
       "       'Arunachal Pradesh', 'Assam', 'Bihar', 'Chandigarh',\n",
       "       'Dadra and Nagar Haveli and Daman and Diu', 'Delhi', 'Goa',\n",
       "       'Gujarat', 'Haryana', 'Himachal Pradesh', 'Jammu and Kashmir',\n",
       "       'Jharkhand', 'Karnataka', 'Kerala', 'Lakshadweep',\n",
       "       'Madhya Pradesh', 'Maharashtra', 'Manipur', 'Meghalaya', 'Mizoram',\n",
       "       'Nagaland', 'Odisha', 'Puducherry', 'Punjab', 'Rajasthan',\n",
       "       'Sikkim', 'Tamil Nadu', 'Telangana', 'Tripura', 'Uttar Pradesh',\n",
       "       'West Bengal', 'Chhattisgarh', 'Ladakh', 'Uttarakhand'],\n",
       "      dtype=object)"
      ]
     },
     "execution_count": 4,
     "metadata": {},
     "output_type": "execute_result"
    }
   ],
   "source": [
    "#hide\n",
    "arr_states[-9] = 'Puducherry'\n",
    "arr_states[-10] = 'Odisha'\n",
    "arr_states[6] = 'Dadra and Nagar Haveli and Daman and Diu'\n",
    "arr_states = np.append(arr_states,np.array(['Chhattisgarh','Ladakh','Uttarakhand']))\n",
    "arr_states"
   ]
  },
  {
   "cell_type": "code",
   "execution_count": 5,
   "id": "behind-manner",
   "metadata": {
    "execution": {
     "iopub.execute_input": "2021-03-23T10:51:30.632993Z",
     "iopub.status.busy": "2021-03-23T10:51:30.632440Z",
     "iopub.status.idle": "2021-03-23T10:51:30.641963Z",
     "shell.execute_reply": "2021-03-23T10:51:30.641388Z"
    },
    "papermill": {
     "duration": 0.038519,
     "end_time": "2021-03-23T10:51:30.642092",
     "exception": false,
     "start_time": "2021-03-23T10:51:30.603573",
     "status": "completed"
    },
    "tags": []
   },
   "outputs": [],
   "source": [
    "#hide\n",
    "dates = []\n",
    "for i in arr_dates:\n",
    "    if i>='2020-07-01':\n",
    "        dates.append(i)\n",
    "dict = {'states':dates}\n",
    "for i in arr_states:\n",
    "    dict[i] = [0]*len(dates)\n",
    "dft_cases = pd.DataFrame(dict)\n",
    "dft_deaths = pd.DataFrame(dict)\n"
   ]
  },
  {
   "cell_type": "code",
   "execution_count": 6,
   "id": "simplified-peter",
   "metadata": {
    "execution": {
     "iopub.execute_input": "2021-03-23T10:51:30.683143Z",
     "iopub.status.busy": "2021-03-23T10:51:30.682558Z",
     "iopub.status.idle": "2021-03-23T10:51:34.421016Z",
     "shell.execute_reply": "2021-03-23T10:51:34.420116Z"
    },
    "papermill": {
     "duration": 3.761819,
     "end_time": "2021-03-23T10:51:34.421162",
     "exception": false,
     "start_time": "2021-03-23T10:51:30.659343",
     "status": "completed"
    },
    "tags": []
   },
   "outputs": [],
   "source": [
    "#hide\n",
    "for i in range(len(dates)):\n",
    "    df1_deaths = df_deaths1.get_group(dates[i])\n",
    "    for j in range(len(df1_deaths.index)):\n",
    "        if df1_deaths.iloc[j,1] in arr_states:\n",
    "            dft_deaths.loc[i,df1_deaths.iloc[j,1]] = df1_deaths.iloc[j,2]\n",
    "dft_deaths = dft_deaths.set_index('states')"
   ]
  },
  {
   "cell_type": "code",
   "execution_count": 7,
   "id": "geological-welding",
   "metadata": {
    "execution": {
     "iopub.execute_input": "2021-03-23T10:51:34.463843Z",
     "iopub.status.busy": "2021-03-23T10:51:34.463251Z",
     "iopub.status.idle": "2021-03-23T10:51:38.159957Z",
     "shell.execute_reply": "2021-03-23T10:51:38.158871Z"
    },
    "papermill": {
     "duration": 3.720926,
     "end_time": "2021-03-23T10:51:38.160109",
     "exception": false,
     "start_time": "2021-03-23T10:51:34.439183",
     "status": "completed"
    },
    "tags": []
   },
   "outputs": [],
   "source": [
    "#hide\n",
    "for i in range(len(dates)):\n",
    "    df1_cases = df_cases1.get_group(dates[i])\n",
    "    for j in range(len(df1_cases.index)):\n",
    "        if df1_cases.iloc[j,1] in arr_states:\n",
    "            dft_cases.loc[i,df1_cases.iloc[j,1]] = df1_cases.iloc[j,2]\n",
    "dft_cases = dft_cases.set_index('states')"
   ]
  },
  {
   "cell_type": "code",
   "execution_count": 8,
   "id": "binary-ratio",
   "metadata": {
    "execution": {
     "iopub.execute_input": "2021-03-23T10:51:38.203844Z",
     "iopub.status.busy": "2021-03-23T10:51:38.202589Z",
     "iopub.status.idle": "2021-03-23T10:51:38.204509Z",
     "shell.execute_reply": "2021-03-23T10:51:38.204968Z"
    },
    "papermill": {
     "duration": 0.024809,
     "end_time": "2021-03-23T10:51:38.205107",
     "exception": false,
     "start_time": "2021-03-23T10:51:38.180298",
     "status": "completed"
    },
    "tags": []
   },
   "outputs": [],
   "source": [
    "#hide\n",
    "dft_cases = dft_cases.T\n",
    "dft_deaths = dft_deaths.T\n",
    "dt_today = dates[-1]\n",
    "dt_yday = dates[-2]"
   ]
  },
  {
   "cell_type": "code",
   "execution_count": 9,
   "id": "boolean-calculator",
   "metadata": {
    "execution": {
     "iopub.execute_input": "2021-03-23T10:51:38.291366Z",
     "iopub.status.busy": "2021-03-23T10:51:38.290749Z",
     "iopub.status.idle": "2021-03-23T10:51:38.295248Z",
     "shell.execute_reply": "2021-03-23T10:51:38.294781Z"
    },
    "papermill": {
     "duration": 0.031764,
     "end_time": "2021-03-23T10:51:38.295363",
     "exception": false,
     "start_time": "2021-03-23T10:51:38.263599",
     "status": "completed"
    },
    "tags": []
   },
   "outputs": [],
   "source": [
    "#hide\n",
    "dft_cases = dft_cases.reset_index()\n",
    "dft_deaths = dft_deaths.reset_index()\n",
    "dft_cases = dft_cases.rename(columns = {'index':'state'})\n",
    "dft_deaths = dft_deaths.rename(columns = {'index':'state'})"
   ]
  },
  {
   "cell_type": "code",
   "execution_count": 10,
   "id": "invisible-johnston",
   "metadata": {
    "execution": {
     "iopub.execute_input": "2021-03-23T10:51:38.341208Z",
     "iopub.status.busy": "2021-03-23T10:51:38.340618Z",
     "iopub.status.idle": "2021-03-23T10:51:38.343010Z",
     "shell.execute_reply": "2021-03-23T10:51:38.342437Z"
    },
    "papermill": {
     "duration": 0.030414,
     "end_time": "2021-03-23T10:51:38.343127",
     "exception": false,
     "start_time": "2021-03-23T10:51:38.312713",
     "status": "completed"
    },
    "tags": []
   },
   "outputs": [],
   "source": [
    "#hide\n",
    "dfc_cases = dft_cases.groupby('state')[dt_today].sum()\n",
    "dfc_deaths = dft_deaths.groupby('state')[dt_today].sum()\n",
    "dfp_cases = dft_cases.groupby('state')[dt_yday].sum()\n",
    "dfp_deaths = dft_deaths.groupby('state')[dt_yday].sum()"
   ]
  },
  {
   "cell_type": "code",
   "execution_count": 11,
   "id": "measured-great",
   "metadata": {
    "execution": {
     "iopub.execute_input": "2021-03-23T10:51:38.385573Z",
     "iopub.status.busy": "2021-03-23T10:51:38.385000Z",
     "iopub.status.idle": "2021-03-23T10:51:38.397702Z",
     "shell.execute_reply": "2021-03-23T10:51:38.397208Z"
    },
    "papermill": {
     "duration": 0.037434,
     "end_time": "2021-03-23T10:51:38.397819",
     "exception": false,
     "start_time": "2021-03-23T10:51:38.360385",
     "status": "completed"
    },
    "tags": []
   },
   "outputs": [
    {
     "data": {
      "text/html": [
       "<div>\n",
       "<style scoped>\n",
       "    .dataframe tbody tr th:only-of-type {\n",
       "        vertical-align: middle;\n",
       "    }\n",
       "\n",
       "    .dataframe tbody tr th {\n",
       "        vertical-align: top;\n",
       "    }\n",
       "\n",
       "    .dataframe thead th {\n",
       "        text-align: right;\n",
       "    }\n",
       "</style>\n",
       "<table border=\"1\" class=\"dataframe\">\n",
       "  <thead>\n",
       "    <tr style=\"text-align: right;\">\n",
       "      <th></th>\n",
       "      <th>states</th>\n",
       "      <th>Cases</th>\n",
       "      <th>Deaths</th>\n",
       "      <th>PCases</th>\n",
       "      <th>PDeaths</th>\n",
       "    </tr>\n",
       "  </thead>\n",
       "  <tbody>\n",
       "    <tr>\n",
       "      <th>0</th>\n",
       "      <td>Maharashtra</td>\n",
       "      <td>2504327</td>\n",
       "      <td>53457</td>\n",
       "      <td>2504327</td>\n",
       "      <td>53457</td>\n",
       "    </tr>\n",
       "    <tr>\n",
       "      <th>1</th>\n",
       "      <td>Kerala</td>\n",
       "      <td>1105468</td>\n",
       "      <td>4508</td>\n",
       "      <td>1105468</td>\n",
       "      <td>4508</td>\n",
       "    </tr>\n",
       "    <tr>\n",
       "      <th>2</th>\n",
       "      <td>Karnataka</td>\n",
       "      <td>971647</td>\n",
       "      <td>12444</td>\n",
       "      <td>971647</td>\n",
       "      <td>12444</td>\n",
       "    </tr>\n",
       "    <tr>\n",
       "      <th>3</th>\n",
       "      <td>Andhra Pradesh</td>\n",
       "      <td>894044</td>\n",
       "      <td>7191</td>\n",
       "      <td>894044</td>\n",
       "      <td>7191</td>\n",
       "    </tr>\n",
       "    <tr>\n",
       "      <th>4</th>\n",
       "      <td>Tamil Nadu</td>\n",
       "      <td>868367</td>\n",
       "      <td>12609</td>\n",
       "      <td>868367</td>\n",
       "      <td>12609</td>\n",
       "    </tr>\n",
       "  </tbody>\n",
       "</table>\n",
       "</div>"
      ],
      "text/plain": [
       "           states    Cases  Deaths   PCases  PDeaths\n",
       "0     Maharashtra  2504327   53457  2504327    53457\n",
       "1          Kerala  1105468    4508  1105468     4508\n",
       "2       Karnataka   971647   12444   971647    12444\n",
       "3  Andhra Pradesh   894044    7191   894044     7191\n",
       "4      Tamil Nadu   868367   12609   868367    12609"
      ]
     },
     "execution_count": 11,
     "metadata": {},
     "output_type": "execute_result"
    }
   ],
   "source": [
    "#hide\n",
    "df_table = pd.DataFrame({'states': dfc_cases.index, 'Cases': dfc_cases.values, 'Deaths': dfc_deaths.values, 'PCases': dfp_cases.values, 'PDeaths': dfp_deaths.values}).set_index('states')\n",
    "df_table = df_table.sort_values(by = ['Cases','Deaths'], ascending = [False, False])\n",
    "df_table = df_table.reset_index()\n",
    "df_table.head()"
   ]
  },
  {
   "cell_type": "code",
   "execution_count": 12,
   "id": "found-montreal",
   "metadata": {
    "execution": {
     "iopub.execute_input": "2021-03-23T10:51:38.438723Z",
     "iopub.status.busy": "2021-03-23T10:51:38.438130Z",
     "iopub.status.idle": "2021-03-23T10:51:38.446470Z",
     "shell.execute_reply": "2021-03-23T10:51:38.446914Z"
    },
    "papermill": {
     "duration": 0.031408,
     "end_time": "2021-03-23T10:51:38.447058",
     "exception": false,
     "start_time": "2021-03-23T10:51:38.415650",
     "status": "completed"
    },
    "tags": []
   },
   "outputs": [],
   "source": [
    "#hide\n",
    "for c in 'Cases, Deaths'.split(', '):\n",
    "    df_table[f'{c} (+)'] = (df_table[c] - df_table[f'P{c}']).clip(0)\n",
    "df_table['Fatality Rate'] = (100* df_table['Deaths']/ df_table['Cases']).round(2)"
   ]
  },
  {
   "cell_type": "code",
   "execution_count": 13,
   "id": "minus-savage",
   "metadata": {
    "execution": {
     "iopub.execute_input": "2021-03-23T10:51:38.490162Z",
     "iopub.status.busy": "2021-03-23T10:51:38.489597Z",
     "iopub.status.idle": "2021-03-23T10:51:38.497414Z",
     "shell.execute_reply": "2021-03-23T10:51:38.496916Z"
    },
    "papermill": {
     "duration": 0.032796,
     "end_time": "2021-03-23T10:51:38.497531",
     "exception": false,
     "start_time": "2021-03-23T10:51:38.464735",
     "status": "completed"
    },
    "tags": []
   },
   "outputs": [
    {
     "data": {
      "text/html": [
       "<div>\n",
       "<style scoped>\n",
       "    .dataframe tbody tr th:only-of-type {\n",
       "        vertical-align: middle;\n",
       "    }\n",
       "\n",
       "    .dataframe tbody tr th {\n",
       "        vertical-align: top;\n",
       "    }\n",
       "\n",
       "    .dataframe thead th {\n",
       "        text-align: right;\n",
       "    }\n",
       "</style>\n",
       "<table border=\"1\" class=\"dataframe\">\n",
       "  <thead>\n",
       "    <tr style=\"text-align: right;\">\n",
       "      <th></th>\n",
       "      <th>states</th>\n",
       "      <th>Cases</th>\n",
       "      <th>Deaths</th>\n",
       "      <th>PCases</th>\n",
       "      <th>PDeaths</th>\n",
       "      <th>Cases (+)</th>\n",
       "      <th>Deaths (+)</th>\n",
       "      <th>Fatality Rate</th>\n",
       "    </tr>\n",
       "  </thead>\n",
       "  <tbody>\n",
       "    <tr>\n",
       "      <th>0</th>\n",
       "      <td>Maharashtra</td>\n",
       "      <td>2504327</td>\n",
       "      <td>53457</td>\n",
       "      <td>2504327</td>\n",
       "      <td>53457</td>\n",
       "      <td>0</td>\n",
       "      <td>0</td>\n",
       "      <td>2.13</td>\n",
       "    </tr>\n",
       "    <tr>\n",
       "      <th>1</th>\n",
       "      <td>Kerala</td>\n",
       "      <td>1105468</td>\n",
       "      <td>4508</td>\n",
       "      <td>1105468</td>\n",
       "      <td>4508</td>\n",
       "      <td>0</td>\n",
       "      <td>0</td>\n",
       "      <td>0.41</td>\n",
       "    </tr>\n",
       "    <tr>\n",
       "      <th>2</th>\n",
       "      <td>Karnataka</td>\n",
       "      <td>971647</td>\n",
       "      <td>12444</td>\n",
       "      <td>971647</td>\n",
       "      <td>12444</td>\n",
       "      <td>0</td>\n",
       "      <td>0</td>\n",
       "      <td>1.28</td>\n",
       "    </tr>\n",
       "    <tr>\n",
       "      <th>3</th>\n",
       "      <td>Andhra Pradesh</td>\n",
       "      <td>894044</td>\n",
       "      <td>7191</td>\n",
       "      <td>894044</td>\n",
       "      <td>7191</td>\n",
       "      <td>0</td>\n",
       "      <td>0</td>\n",
       "      <td>0.80</td>\n",
       "    </tr>\n",
       "    <tr>\n",
       "      <th>4</th>\n",
       "      <td>Tamil Nadu</td>\n",
       "      <td>868367</td>\n",
       "      <td>12609</td>\n",
       "      <td>868367</td>\n",
       "      <td>12609</td>\n",
       "      <td>0</td>\n",
       "      <td>0</td>\n",
       "      <td>1.45</td>\n",
       "    </tr>\n",
       "  </tbody>\n",
       "</table>\n",
       "</div>"
      ],
      "text/plain": [
       "           states    Cases  Deaths   PCases  PDeaths  Cases (+)  Deaths (+)  \\\n",
       "0     Maharashtra  2504327   53457  2504327    53457          0           0   \n",
       "1          Kerala  1105468    4508  1105468     4508          0           0   \n",
       "2       Karnataka   971647   12444   971647    12444          0           0   \n",
       "3  Andhra Pradesh   894044    7191   894044     7191          0           0   \n",
       "4      Tamil Nadu   868367   12609   868367    12609          0           0   \n",
       "\n",
       "   Fatality Rate  \n",
       "0           2.13  \n",
       "1           0.41  \n",
       "2           1.28  \n",
       "3           0.80  \n",
       "4           1.45  "
      ]
     },
     "execution_count": 13,
     "metadata": {},
     "output_type": "execute_result"
    }
   ],
   "source": [
    "#hide\n",
    "df_table.head()"
   ]
  },
  {
   "cell_type": "code",
   "execution_count": 14,
   "id": "false-peter",
   "metadata": {
    "execution": {
     "iopub.execute_input": "2021-03-23T10:51:38.540353Z",
     "iopub.status.busy": "2021-03-23T10:51:38.539756Z",
     "iopub.status.idle": "2021-03-23T10:51:38.555555Z",
     "shell.execute_reply": "2021-03-23T10:51:38.555993Z"
    },
    "papermill": {
     "duration": 0.0407,
     "end_time": "2021-03-23T10:51:38.556133",
     "exception": false,
     "start_time": "2021-03-23T10:51:38.515433",
     "status": "completed"
    },
    "tags": []
   },
   "outputs": [
    {
     "data": {
      "text/plain": [
       "{'updated': '2021-03-23',\n",
       " 'since': '2021-03-22',\n",
       " 'Cases': 11686956,\n",
       " 'PCases': 11686330,\n",
       " 'Deaths': 160205,\n",
       " 'PDeaths': 160200,\n",
       " 'Cases (+)': 626,\n",
       " 'Deaths (+)': 5}"
      ]
     },
     "execution_count": 14,
     "metadata": {},
     "output_type": "execute_result"
    }
   ],
   "source": [
    "#hide\n",
    "summary = {'updated':dates[-1], 'since':dates[-2]}\n",
    "list_names = ['Cases', 'PCases', 'Deaths', 'PDeaths', 'Cases (+)', 'Deaths (+)']\n",
    "for name in list_names:\n",
    "    summary[name] = df_table.sum()[name]\n",
    "summary"
   ]
  },
  {
   "cell_type": "code",
   "execution_count": 15,
   "id": "packed-viewer",
   "metadata": {
    "execution": {
     "iopub.execute_input": "2021-03-23T10:51:38.598086Z",
     "iopub.status.busy": "2021-03-23T10:51:38.597509Z",
     "iopub.status.idle": "2021-03-23T10:51:38.599539Z",
     "shell.execute_reply": "2021-03-23T10:51:38.599973Z"
    },
    "papermill": {
     "duration": 0.025461,
     "end_time": "2021-03-23T10:51:38.600109",
     "exception": false,
     "start_time": "2021-03-23T10:51:38.574648",
     "status": "completed"
    },
    "tags": []
   },
   "outputs": [],
   "source": [
    "#hide\n",
    "overview = '''\n",
    "<!-- #######  HTML!! #########-->\n",
    "<h1 style=\"color: #5e9ca0; text-align: center;\">India</h1>\n",
    "<p style=\"text-align: center;\">Last update: <strong>{update}</strong></p>\n",
    "<p style=\"text-align: center;\">Confirmed cases:</p>\n",
    "<p style=\"text-align: center;font-size:24px;\">{cases} (<span style=\"color: #ff0000;\">+{new}</span>)</p>\n",
    "<p style=\"text-align: center;\">Confirmed deaths:</p>\n",
    "<p style=\"text-align: center;font-size:24px;\">{deaths} (<span style=\"color: #ff0000;\">+{dnew}</span>)</p>\n",
    "'''"
   ]
  },
  {
   "cell_type": "code",
   "execution_count": 16,
   "id": "phantom-lover",
   "metadata": {
    "execution": {
     "iopub.execute_input": "2021-03-23T10:51:38.643648Z",
     "iopub.status.busy": "2021-03-23T10:51:38.643037Z",
     "iopub.status.idle": "2021-03-23T10:51:38.646391Z",
     "shell.execute_reply": "2021-03-23T10:51:38.646830Z"
    },
    "papermill": {
     "duration": 0.028451,
     "end_time": "2021-03-23T10:51:38.646964",
     "exception": false,
     "start_time": "2021-03-23T10:51:38.618513",
     "status": "completed"
    },
    "tags": []
   },
   "outputs": [
    {
     "data": {
      "text/html": [
       "\n",
       "<!-- #######  HTML!! #########-->\n",
       "<h1 style=\"color: #5e9ca0; text-align: center;\">India</h1>\n",
       "<p style=\"text-align: center;\">Last update: <strong>2021-03-23</strong></p>\n",
       "<p style=\"text-align: center;\">Confirmed cases:</p>\n",
       "<p style=\"text-align: center;font-size:24px;\">11686956 (<span style=\"color: #ff0000;\">+626</span>)</p>\n",
       "<p style=\"text-align: center;\">Confirmed deaths:</p>\n",
       "<p style=\"text-align: center;font-size:24px;\">160205 (<span style=\"color: #ff0000;\">+5</span>)</p>\n"
      ],
      "text/plain": [
       "<IPython.core.display.HTML object>"
      ]
     },
     "metadata": {},
     "output_type": "display_data"
    }
   ],
   "source": [
    "#hide_input\n",
    "update = summary['updated']\n",
    "cases = summary['Cases']\n",
    "new = summary['Cases (+)']\n",
    "deaths = summary['Deaths']\n",
    "dnew = summary['Deaths (+)']\n",
    "\n",
    "html = HTML(overview.format(update=update, cases=cases,new=new,deaths=deaths,dnew=dnew))\n",
    "\n",
    "display(html)"
   ]
  },
  {
   "cell_type": "code",
   "execution_count": 17,
   "id": "sealed-reset",
   "metadata": {
    "execution": {
     "iopub.execute_input": "2021-03-23T10:51:38.691855Z",
     "iopub.status.busy": "2021-03-23T10:51:38.691288Z",
     "iopub.status.idle": "2021-03-23T10:51:38.699017Z",
     "shell.execute_reply": "2021-03-23T10:51:38.698553Z"
    },
    "papermill": {
     "duration": 0.033588,
     "end_time": "2021-03-23T10:51:38.699132",
     "exception": false,
     "start_time": "2021-03-23T10:51:38.665544",
     "status": "completed"
    },
    "tags": []
   },
   "outputs": [],
   "source": [
    "#hide\n",
    "dt_cols = list(dft_cases.columns[1:])\n",
    "dft_ct_new_cases = dft_cases.groupby('state')[dt_cols].sum().diff(axis=1).fillna(0).astype(int)\n",
    "dft_ct_new_cases.sort_values(by = dates[-1], ascending = False,inplace = True)"
   ]
  },
  {
   "cell_type": "code",
   "execution_count": 18,
   "id": "designed-constant",
   "metadata": {
    "execution": {
     "iopub.execute_input": "2021-03-23T10:51:38.754603Z",
     "iopub.status.busy": "2021-03-23T10:51:38.753998Z",
     "iopub.status.idle": "2021-03-23T10:51:38.756355Z",
     "shell.execute_reply": "2021-03-23T10:51:38.756821Z"
    },
    "papermill": {
     "duration": 0.039041,
     "end_time": "2021-03-23T10:51:38.756951",
     "exception": false,
     "start_time": "2021-03-23T10:51:38.717910",
     "status": "completed"
    },
    "tags": []
   },
   "outputs": [
    {
     "data": {
      "text/html": [
       "<div>\n",
       "<style scoped>\n",
       "    .dataframe tbody tr th:only-of-type {\n",
       "        vertical-align: middle;\n",
       "    }\n",
       "\n",
       "    .dataframe tbody tr th {\n",
       "        vertical-align: top;\n",
       "    }\n",
       "\n",
       "    .dataframe thead th {\n",
       "        text-align: right;\n",
       "    }\n",
       "</style>\n",
       "<table border=\"1\" class=\"dataframe\">\n",
       "  <thead>\n",
       "    <tr style=\"text-align: right;\">\n",
       "      <th>states</th>\n",
       "      <th>2020-07-01</th>\n",
       "      <th>2020-07-02</th>\n",
       "      <th>2020-07-03</th>\n",
       "      <th>2020-07-04</th>\n",
       "      <th>2020-07-05</th>\n",
       "      <th>2020-07-06</th>\n",
       "      <th>2020-07-07</th>\n",
       "      <th>2020-07-08</th>\n",
       "      <th>2020-07-09</th>\n",
       "      <th>2020-07-10</th>\n",
       "      <th>...</th>\n",
       "      <th>2021-03-14</th>\n",
       "      <th>2021-03-15</th>\n",
       "      <th>2021-03-16</th>\n",
       "      <th>2021-03-17</th>\n",
       "      <th>2021-03-18</th>\n",
       "      <th>2021-03-19</th>\n",
       "      <th>2021-03-20</th>\n",
       "      <th>2021-03-21</th>\n",
       "      <th>2021-03-22</th>\n",
       "      <th>2021-03-23</th>\n",
       "    </tr>\n",
       "    <tr>\n",
       "      <th>state</th>\n",
       "      <th></th>\n",
       "      <th></th>\n",
       "      <th></th>\n",
       "      <th></th>\n",
       "      <th></th>\n",
       "      <th></th>\n",
       "      <th></th>\n",
       "      <th></th>\n",
       "      <th></th>\n",
       "      <th></th>\n",
       "      <th></th>\n",
       "      <th></th>\n",
       "      <th></th>\n",
       "      <th></th>\n",
       "      <th></th>\n",
       "      <th></th>\n",
       "      <th></th>\n",
       "      <th></th>\n",
       "      <th></th>\n",
       "      <th></th>\n",
       "      <th></th>\n",
       "    </tr>\n",
       "  </thead>\n",
       "  <tbody>\n",
       "    <tr>\n",
       "      <th>Telangana</th>\n",
       "      <td>0</td>\n",
       "      <td>1213</td>\n",
       "      <td>1892</td>\n",
       "      <td>1850</td>\n",
       "      <td>1590</td>\n",
       "      <td>1831</td>\n",
       "      <td>1879</td>\n",
       "      <td>1924</td>\n",
       "      <td>1410</td>\n",
       "      <td>1278</td>\n",
       "      <td>...</td>\n",
       "      <td>228</td>\n",
       "      <td>157</td>\n",
       "      <td>204</td>\n",
       "      <td>247</td>\n",
       "      <td>278</td>\n",
       "      <td>313</td>\n",
       "      <td>364</td>\n",
       "      <td>394</td>\n",
       "      <td>337</td>\n",
       "      <td>412</td>\n",
       "    </tr>\n",
       "    <tr>\n",
       "      <th>Odisha</th>\n",
       "      <td>0</td>\n",
       "      <td>229</td>\n",
       "      <td>561</td>\n",
       "      <td>495</td>\n",
       "      <td>469</td>\n",
       "      <td>456</td>\n",
       "      <td>571</td>\n",
       "      <td>527</td>\n",
       "      <td>577</td>\n",
       "      <td>755</td>\n",
       "      <td>...</td>\n",
       "      <td>71</td>\n",
       "      <td>66</td>\n",
       "      <td>65</td>\n",
       "      <td>82</td>\n",
       "      <td>84</td>\n",
       "      <td>110</td>\n",
       "      <td>120</td>\n",
       "      <td>98</td>\n",
       "      <td>146</td>\n",
       "      <td>113</td>\n",
       "    </tr>\n",
       "    <tr>\n",
       "      <th>Puducherry</th>\n",
       "      <td>0</td>\n",
       "      <td>63</td>\n",
       "      <td>22</td>\n",
       "      <td>80</td>\n",
       "      <td>42</td>\n",
       "      <td>65</td>\n",
       "      <td>30</td>\n",
       "      <td>110</td>\n",
       "      <td>49</td>\n",
       "      <td>72</td>\n",
       "      <td>...</td>\n",
       "      <td>15</td>\n",
       "      <td>14</td>\n",
       "      <td>24</td>\n",
       "      <td>52</td>\n",
       "      <td>81</td>\n",
       "      <td>61</td>\n",
       "      <td>60</td>\n",
       "      <td>64</td>\n",
       "      <td>47</td>\n",
       "      <td>87</td>\n",
       "    </tr>\n",
       "    <tr>\n",
       "      <th>Tripura</th>\n",
       "      <td>0</td>\n",
       "      <td>39</td>\n",
       "      <td>93</td>\n",
       "      <td>25</td>\n",
       "      <td>23</td>\n",
       "      <td>111</td>\n",
       "      <td>24</td>\n",
       "      <td>57</td>\n",
       "      <td>16</td>\n",
       "      <td>142</td>\n",
       "      <td>...</td>\n",
       "      <td>2</td>\n",
       "      <td>0</td>\n",
       "      <td>11</td>\n",
       "      <td>1</td>\n",
       "      <td>3</td>\n",
       "      <td>10</td>\n",
       "      <td>5</td>\n",
       "      <td>5</td>\n",
       "      <td>0</td>\n",
       "      <td>6</td>\n",
       "    </tr>\n",
       "    <tr>\n",
       "      <th>Dadra and Nagar Haveli and Daman and Diu</th>\n",
       "      <td>0</td>\n",
       "      <td>25</td>\n",
       "      <td>50</td>\n",
       "      <td>37</td>\n",
       "      <td>32</td>\n",
       "      <td>27</td>\n",
       "      <td>27</td>\n",
       "      <td>15</td>\n",
       "      <td>14</td>\n",
       "      <td>14</td>\n",
       "      <td>...</td>\n",
       "      <td>3</td>\n",
       "      <td>2</td>\n",
       "      <td>5</td>\n",
       "      <td>0</td>\n",
       "      <td>9</td>\n",
       "      <td>10</td>\n",
       "      <td>7</td>\n",
       "      <td>10</td>\n",
       "      <td>4</td>\n",
       "      <td>4</td>\n",
       "    </tr>\n",
       "  </tbody>\n",
       "</table>\n",
       "<p>5 rows × 266 columns</p>\n",
       "</div>"
      ],
      "text/plain": [
       "states                                    2020-07-01  2020-07-02  2020-07-03  \\\n",
       "state                                                                          \n",
       "Telangana                                          0        1213        1892   \n",
       "Odisha                                             0         229         561   \n",
       "Puducherry                                         0          63          22   \n",
       "Tripura                                            0          39          93   \n",
       "Dadra and Nagar Haveli and Daman and Diu           0          25          50   \n",
       "\n",
       "states                                    2020-07-04  2020-07-05  2020-07-06  \\\n",
       "state                                                                          \n",
       "Telangana                                       1850        1590        1831   \n",
       "Odisha                                           495         469         456   \n",
       "Puducherry                                        80          42          65   \n",
       "Tripura                                           25          23         111   \n",
       "Dadra and Nagar Haveli and Daman and Diu          37          32          27   \n",
       "\n",
       "states                                    2020-07-07  2020-07-08  2020-07-09  \\\n",
       "state                                                                          \n",
       "Telangana                                       1879        1924        1410   \n",
       "Odisha                                           571         527         577   \n",
       "Puducherry                                        30         110          49   \n",
       "Tripura                                           24          57          16   \n",
       "Dadra and Nagar Haveli and Daman and Diu          27          15          14   \n",
       "\n",
       "states                                    2020-07-10  ...  2021-03-14  \\\n",
       "state                                                 ...               \n",
       "Telangana                                       1278  ...         228   \n",
       "Odisha                                           755  ...          71   \n",
       "Puducherry                                        72  ...          15   \n",
       "Tripura                                          142  ...           2   \n",
       "Dadra and Nagar Haveli and Daman and Diu          14  ...           3   \n",
       "\n",
       "states                                    2021-03-15  2021-03-16  2021-03-17  \\\n",
       "state                                                                          \n",
       "Telangana                                        157         204         247   \n",
       "Odisha                                            66          65          82   \n",
       "Puducherry                                        14          24          52   \n",
       "Tripura                                            0          11           1   \n",
       "Dadra and Nagar Haveli and Daman and Diu           2           5           0   \n",
       "\n",
       "states                                    2021-03-18  2021-03-19  2021-03-20  \\\n",
       "state                                                                          \n",
       "Telangana                                        278         313         364   \n",
       "Odisha                                            84         110         120   \n",
       "Puducherry                                        81          61          60   \n",
       "Tripura                                            3          10           5   \n",
       "Dadra and Nagar Haveli and Daman and Diu           9          10           7   \n",
       "\n",
       "states                                    2021-03-21  2021-03-22  2021-03-23  \n",
       "state                                                                         \n",
       "Telangana                                        394         337         412  \n",
       "Odisha                                            98         146         113  \n",
       "Puducherry                                        64          47          87  \n",
       "Tripura                                            5           0           6  \n",
       "Dadra and Nagar Haveli and Daman and Diu          10           4           4  \n",
       "\n",
       "[5 rows x 266 columns]"
      ]
     },
     "execution_count": 18,
     "metadata": {},
     "output_type": "execute_result"
    }
   ],
   "source": [
    "#hide\n",
    "dft_ct_new_cases.head()"
   ]
  },
  {
   "cell_type": "code",
   "execution_count": 19,
   "id": "responsible-nightlife",
   "metadata": {
    "execution": {
     "iopub.execute_input": "2021-03-23T10:51:38.799547Z",
     "iopub.status.busy": "2021-03-23T10:51:38.798933Z",
     "iopub.status.idle": "2021-03-23T10:51:47.971129Z",
     "shell.execute_reply": "2021-03-23T10:51:47.971600Z"
    },
    "papermill": {
     "duration": 9.195208,
     "end_time": "2021-03-23T10:51:47.971747",
     "exception": false,
     "start_time": "2021-03-23T10:51:38.776539",
     "status": "completed"
    },
    "tags": []
   },
   "outputs": [
    {
     "data": {
      "image/png": "[encoded data removed]",
      "text/plain": [
       "<Figure size 1296x2016 with 11 Axes>"
      ]
     },
     "metadata": {
      "needs_background": "light"
     },
     "output_type": "display_data"
    }
   ],
   "source": [
    "#hide_input\n",
    "df = dft_ct_new_cases.copy()\n",
    "df.loc['Total'] = df.sum()\n",
    "n = 5\n",
    "ax = []\n",
    "fig = plt.figure(figsize = (18,28))\n",
    "gs = fig.add_gridspec(n+2, 5)\n",
    "# gs = fig.add_gridspec(2, 3)\n",
    "ax1 = fig.add_subplot(gs[0, :])\n",
    "ef = df.loc['Total'].rename_axis('date').reset_index()\n",
    "ef['date'] = ef['date'].astype('datetime64[ns]')\n",
    "ax1.bar(ef.date,ef.Total,alpha=0.3,color='#007acc')\n",
    "ax1.plot(ef.date,ef.Total , marker=\"o\", color='#007acc')\n",
    "ax1.xaxis.set_major_locator(mdates.WeekdayLocator())\n",
    "ax1.xaxis.set_major_formatter(mdates.DateFormatter('%b %d'))\n",
    "ax1.text(0.02, 0.5,'India daily case count', transform = ax1.transAxes, fontsize=25);\n",
    "ax1.spines['right'].set_visible(False)\n",
    "ax1.spines['top'].set_visible(False)\n",
    "\n",
    "ax2 = fig.add_subplot(gs[1,0])\n",
    "ef = df.loc['Maharashtra'].rename_axis('date').reset_index()\n",
    "ef['date'] = ef['date'].astype('datetime64[ns]')\n",
    "\n",
    "ax2.bar(ef.date, ef.Maharashtra,color = '#007acc',alpha=0.5)\n",
    "ax2.xaxis.set_major_locator(mdates.WeekdayLocator())\n",
    "ax2.xaxis.set_major_formatter(mdates.DateFormatter('%b %d'))\n",
    "ax2.set_xticks(ax2.get_xticks()[::3])\n",
    "maxyval = ef.Maharashtra.max()\n",
    "ax2.set_ylim([0,maxyval])\n",
    "ax2.text(0.05, 0.9,'Maharashtra', transform = ax2.transAxes, fontsize=20);\n",
    "ax2.spines['right'].set_visible(False)\n",
    "ax2.spines['top'].set_visible(False)\n",
    "\n",
    "\n",
    "ax3 = fig.add_subplot(gs[1,1])\n",
    "ef = df.loc['Tamil Nadu'].rename_axis('date').reset_index()\n",
    "ef['date'] = ef['date'].astype('datetime64[ns]')\n",
    "ax3.bar(ef.date, ef['Tamil Nadu'],color = '#007acc',alpha=0.5,)\n",
    "ax3.xaxis.set_major_locator(mdates.WeekdayLocator())\n",
    "ax3.xaxis.set_major_formatter(mdates.DateFormatter('%b %d'))\n",
    "ax3.set_xticks(ax3.get_xticks()[::3])\n",
    "ax3.text(0.05, 0.9,'Tamil Nadu', transform = ax3.transAxes, fontsize=20);\n",
    "ax3.spines['right'].set_visible(False)\n",
    "ax3.spines['top'].set_visible(False)\n",
    "\n",
    "ax5 = fig.add_subplot(gs[1,3])\n",
    "ef = df.loc['Telangana'].rename_axis('date').reset_index()\n",
    "ef['date'] = ef['date'].astype('datetime64[ns]')\n",
    "ax5.bar(ef.date, ef['Telangana'],color = '#007acc',alpha=0.5,)\n",
    "ax5.xaxis.set_major_locator(mdates.WeekdayLocator())\n",
    "ax5.xaxis.set_major_formatter(mdates.DateFormatter('%b %d'))\n",
    "ax5.set_xticks(ax5.get_xticks()[::3])\n",
    "ax5.text(0.05, 0.9,'Telangana', transform = ax5.transAxes, fontsize=20);\n",
    "ax5.spines['right'].set_visible(False)\n",
    "ax5.spines['top'].set_visible(False)\n",
    "\n",
    "ax6 = fig.add_subplot(gs[1,4])\n",
    "ef = df.loc['Andhra Pradesh'].rename_axis('date').reset_index()\n",
    "ef['date'] = ef['date'].astype('datetime64[ns]')\n",
    "ax6.bar(ef.date, ef['Andhra Pradesh'],color = '#007acc',alpha=0.5,)\n",
    "ax6.xaxis.set_major_locator(mdates.WeekdayLocator())\n",
    "ax6.xaxis.set_major_formatter(mdates.DateFormatter('%b %d'))\n",
    "ax6.set_xticks(ax6.get_xticks()[::3])\n",
    "ax6.text(0.05, 1,'Andhra Pradesh', transform = ax6.transAxes, fontsize=20);\n",
    "ax6.spines['right'].set_visible(False)\n",
    "ax6.spines['top'].set_visible(False)\n",
    "\n",
    "ax4 = fig.add_subplot(gs[1,2])\n",
    "ef = df.loc['Delhi'].rename_axis('date').reset_index()\n",
    "ef['date'] = ef['date'].astype('datetime64[ns]')\n",
    "ax4.bar(ef.date, ef.Delhi,color = '#007acc',alpha=0.5)\n",
    "ax4.set_xticks([])\n",
    "ax4.xaxis.set_major_locator(mdates.WeekdayLocator())\n",
    "ax4.xaxis.set_major_formatter(mdates.DateFormatter('%b %d'))\n",
    "ax4.set_xticks(ax4.get_xticks()[::3])\n",
    "ax4.spines['right'].set_visible(False)\n",
    "ax4.spines['top'].set_visible(False)\n",
    "\n",
    "ax4.text(0.05, 1,'Delhi', transform = ax4.transAxes, fontsize=20)\n",
    "\n",
    "for i in range(n):\n",
    "    \n",
    "    ax.append(fig.add_subplot(gs[i+2,:]))\n",
    "    ef = df.iloc[i+3].rename_axis('date').reset_index()\n",
    "    ef['date'] = ef['date'].astype('datetime64[ns]')\n",
    "    ax[i].bar(ef.date,ef.iloc[:,-1],color = '#007acc',alpha=0.3)\n",
    "    ax[i].plot(ef.date,ef.iloc[:,-1],marker='o',color='#007acc')\n",
    "    ax[i].text(0.02,0.5,f'{ef.columns.values[-1]}',transform = ax[i].transAxes, fontsize = 20);\n",
    "    ax[i].xaxis.set_major_locator(mdates.WeekdayLocator())\n",
    "    ax[i].xaxis.set_major_formatter(mdates.DateFormatter('%b %d'))\n",
    "    ax[i].set_ylim([0,7000])\n",
    "    ax[i].spines['right'].set_visible(False)\n",
    "    ax[i].spines['top'].set_visible(False)\n",
    "plt.tight_layout()\n"
   ]
  },
  {
   "cell_type": "code",
   "execution_count": 20,
   "id": "dress-forge",
   "metadata": {
    "execution": {
     "iopub.execute_input": "2021-03-23T10:51:48.032136Z",
     "iopub.status.busy": "2021-03-23T10:51:48.031511Z",
     "iopub.status.idle": "2021-03-23T10:51:48.035093Z",
     "shell.execute_reply": "2021-03-23T10:51:48.034624Z"
    },
    "papermill": {
     "duration": 0.038066,
     "end_time": "2021-03-23T10:51:48.035214",
     "exception": false,
     "start_time": "2021-03-23T10:51:47.997148",
     "status": "completed"
    },
    "tags": []
   },
   "outputs": [
    {
     "name": "stdout",
     "output_type": "stream",
     "text": [
      "                                   states    Cases  Deaths   PCases  PDeaths  Cases (+)  Deaths (+)  Fatality Rate\n",
      "                              Maharashtra  2504327   53457  2504327    53457          0           0           2.13\n",
      "                                   Kerala  1105468    4508  1105468     4508          0           0           0.41\n",
      "                                Karnataka   971647   12444   971647    12444          0           0           1.28\n",
      "                           Andhra Pradesh   894044    7191   894044     7191          0           0           0.80\n",
      "                               Tamil Nadu   868367   12609   868367    12609          0           0           1.45\n",
      "                                    Delhi   648872   10963   648872    10963          0           0           1.69\n",
      "                            Uttar Pradesh   608076    8760   608076     8760          0           0           1.44\n",
      "                              West Bengal   580999   10308   580999    10308          0           0           1.77\n",
      "                                   Odisha   339076    1972   338963     1972        113           0           0.58\n",
      "                                Rajasthan   326026    2803   326026     2803          0           0           0.86\n",
      "                             Chhattisgarh   325678    3962   325678     3962          0           0           1.22\n",
      "                                Telangana   303867    1674   303455     1671        412           3           0.55\n",
      "                                  Gujarat   288649    4454   288649     4454          0           0           1.54\n",
      "                                  Haryana   280693    3101   280693     3101          0           0           1.10\n",
      "                           Madhya Pradesh   277075    3908   277075     3908          0           0           1.41\n",
      "                                    Bihar   263659    1561   263659     1561          0           0           0.59\n",
      "                                    Assam   218006    1101   218006     1101          0           0           0.51\n",
      "                                   Punjab   215409    6382   215409     6382          0           0           2.96\n",
      "                        Jammu and Kashmir   128679    1981   128679     1981          0           0           1.54\n",
      "                                Jharkhand   121371    1097   121371     1097          0           0           0.90\n",
      "                              Uttarakhand    98552    1704    98552     1704          0           0           1.73\n",
      "                         Himachal Pradesh    60878    1008    60878     1008          0           0           1.66\n",
      "                                      Goa    56708     818    56708      818          0           0           1.44\n",
      "                               Puducherry    40520     677    40433      676         87           1           1.67\n",
      "                                  Tripura    33467     389    33461      388          6           1           1.16\n",
      "                                  Manipur    29339     373    29339      373          0           0           1.27\n",
      "                               Chandigarh    24667     363    24667      363          0           0           1.47\n",
      "                        Arunachal Pradesh    16842      56    16842       56          0           0           0.33\n",
      "                                Meghalaya    14017     149    14016      149          1           0           1.06\n",
      "                                 Nagaland    12225      91    12225       91          0           0           0.74\n",
      "                                   Ladakh     9920     130     9920      130          0           0           1.31\n",
      "                                   Sikkim     6206     135     6206      135          0           0           2.18\n",
      "              Andaman and Nicobar Islands     5039      62     5039       62          0           0           1.23\n",
      "                                  Mizoram     4451      11     4448       11          3           0           0.25\n",
      " Dadra and Nagar Haveli and Daman and Diu     3471       2     3467        2          4           0           0.06\n",
      "                              Lakshadweep      666       1      666        1          0           0           0.15\n"
     ]
    }
   ],
   "source": [
    "#hide_input\n",
    "print(df_table.to_string(index=False))"
   ]
  },
  {
   "cell_type": "code",
   "execution_count": null,
   "id": "quantitative-legend",
   "metadata": {
    "papermill": {
     "duration": 0.02531,
     "end_time": "2021-03-23T10:51:48.086363",
     "exception": false,
     "start_time": "2021-03-23T10:51:48.061053",
     "status": "completed"
    },
    "tags": []
   },
   "outputs": [],
   "source": []
  },
  {
   "cell_type": "code",
   "execution_count": null,
   "id": "distant-acoustic",
   "metadata": {
    "papermill": {
     "duration": 0.025341,
     "end_time": "2021-03-23T10:51:48.137624",
     "exception": false,
     "start_time": "2021-03-23T10:51:48.112283",
     "status": "completed"
    },
    "tags": []
   },
   "outputs": [],
   "source": []
  }
 ],
 "metadata": {
  "kernelspec": {
   "display_name": "Python 3",
   "language": "python",
   "name": "python3"
  },
  "language_info": {
   "codemirror_mode": {
    "name": "ipython",
    "version": 3
   },
   "file_extension": ".py",
   "mimetype": "text/x-python",
   "name": "python",
   "nbconvert_exporter": "python",
   "pygments_lexer": "ipython3",
   "version": "3.6.13"
  },
  "papermill": {
   "duration": 26.331314,
   "end_time": "2021-03-23T10:51:49.696875",
   "environment_variables": {},
   "exception": null,
   "input_path": "latest.ipynb",
   "output_path": "latest.ipynb",
   "parameters": {},
   "start_time": "2021-03-23T10:51:23.365561",
   "version": "2.1.2"
  }
 },
 "nbformat": 4,
 "nbformat_minor": 5
}