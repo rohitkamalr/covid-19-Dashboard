{
 "cells": [
  {
   "cell_type": "markdown",
   "id": "colored-stack",
   "metadata": {
    "papermill": {
     "duration": 0.025113,
     "end_time": "2021-03-20T13:06:11.906785",
     "exception": false,
     "start_time": "2021-03-20T13:06:11.881672",
     "status": "completed"
    },
    "tags": []
   },
   "source": [
    "# Latest COVID-19 India Matplotlib Overview"
   ]
  },
  {
   "cell_type": "code",
   "execution_count": 1,
   "id": "light-proportion",
   "metadata": {
    "execution": {
     "iopub.execute_input": "2021-03-20T13:06:11.960432Z",
     "iopub.status.busy": "2021-03-20T13:06:11.959730Z",
     "iopub.status.idle": "2021-03-20T13:06:12.554351Z",
     "shell.execute_reply": "2021-03-20T13:06:12.555130Z"
    },
    "papermill": {
     "duration": 0.627531,
     "end_time": "2021-03-20T13:06:12.555321",
     "exception": false,
     "start_time": "2021-03-20T13:06:11.927790",
     "status": "completed"
    },
    "tags": []
   },
   "outputs": [],
   "source": [
    "#hide\n",
    "import pandas as pd\n",
    "import numpy as np\n",
    "import requests\n",
    "import json\n",
    "import matplotlib.pyplot as plt\n",
    "import matplotlib.dates as mdates\n",
    "import matplotlib as mpl\n",
    "from IPython.core.display import display,HTML\n",
    "%matplotlib inline\n",
    "from datetime import date"
   ]
  },
  {
   "cell_type": "code",
   "execution_count": 2,
   "id": "greenhouse-shooting",
   "metadata": {
    "execution": {
     "iopub.execute_input": "2021-03-20T13:06:12.599573Z",
     "iopub.status.busy": "2021-03-20T13:06:12.598613Z",
     "iopub.status.idle": "2021-03-20T13:06:12.876570Z",
     "shell.execute_reply": "2021-03-20T13:06:12.875986Z"
    },
    "papermill": {
     "duration": 0.302706,
     "end_time": "2021-03-20T13:06:12.876713",
     "exception": false,
     "start_time": "2021-03-20T13:06:12.574007",
     "status": "completed"
    },
    "tags": []
   },
   "outputs": [],
   "source": [
    "#hide\n",
    "df  = pd.read_csv('https://api.covid19india.org/csv/latest/states.csv')\n",
    "df = df[['Date','State','Confirmed','Deceased']]\n",
    "df = df.rename(columns={'Confirmed':'Cases', \"Deceased\":'Deaths'})\n",
    "df_cases = df[[\"Date\",'State','Cases']]\n",
    "df_deaths = df[['Date','State','Deaths']]\n",
    "df_cases1 = df_cases.groupby('Date')\n",
    "df_deaths1= df_deaths.groupby('Date')"
   ]
  },
  {
   "cell_type": "code",
   "execution_count": 3,
   "id": "hybrid-cathedral",
   "metadata": {
    "execution": {
     "iopub.execute_input": "2021-03-20T13:06:12.919884Z",
     "iopub.status.busy": "2021-03-20T13:06:12.919246Z",
     "iopub.status.idle": "2021-03-20T13:06:12.938064Z",
     "shell.execute_reply": "2021-03-20T13:06:12.938565Z"
    },
    "papermill": {
     "duration": 0.043213,
     "end_time": "2021-03-20T13:06:12.938716",
     "exception": false,
     "start_time": "2021-03-20T13:06:12.895503",
     "status": "completed"
    },
    "tags": []
   },
   "outputs": [],
   "source": [
    "#hide\n",
    "df_snap = pd.read_csv('data/SnapshotCases-28-July.csv')\n",
    "arr_states = df_snap['states'].unique()\n",
    "arr_dates = df['Date'].unique()\n",
    "df_snap = df_snap.set_index('states')"
   ]
  },
  {
   "cell_type": "code",
   "execution_count": 4,
   "id": "interior-belfast",
   "metadata": {
    "execution": {
     "iopub.execute_input": "2021-03-20T13:06:12.982079Z",
     "iopub.status.busy": "2021-03-20T13:06:12.981431Z",
     "iopub.status.idle": "2021-03-20T13:06:12.984847Z",
     "shell.execute_reply": "2021-03-20T13:06:12.984122Z"
    },
    "papermill": {
     "duration": 0.027966,
     "end_time": "2021-03-20T13:06:12.984996",
     "exception": false,
     "start_time": "2021-03-20T13:06:12.957030",
     "status": "completed"
    },
    "tags": []
   },
   "outputs": [
    {
     "data": {
      "text/plain": [
       "array(['Andaman and Nicobar Islands', 'Andhra Pradesh',\n",
       "       'Arunachal Pradesh', 'Assam', 'Bihar', 'Chandigarh',\n",
       "       'Dadra and Nagar Haveli and Daman and Diu', 'Delhi', 'Goa',\n",
       "       'Gujarat', 'Haryana', 'Himachal Pradesh', 'Jammu and Kashmir',\n",
       "       'Jharkhand', 'Karnataka', 'Kerala', 'Lakshadweep',\n",
       "       'Madhya Pradesh', 'Maharashtra', 'Manipur', 'Meghalaya', 'Mizoram',\n",
       "       'Nagaland', 'Odisha', 'Puducherry', 'Punjab', 'Rajasthan',\n",
       "       'Sikkim', 'Tamil Nadu', 'Telangana', 'Tripura', 'Uttar Pradesh',\n",
       "       'West Bengal', 'Chhattisgarh', 'Ladakh', 'Uttarakhand'],\n",
       "      dtype=object)"
      ]
     },
     "execution_count": 4,
     "metadata": {},
     "output_type": "execute_result"
    }
   ],
   "source": [
    "#hide\n",
    "arr_states[-9] = 'Puducherry'\n",
    "arr_states[-10] = 'Odisha'\n",
    "arr_states[6] = 'Dadra and Nagar Haveli and Daman and Diu'\n",
    "arr_states = np.append(arr_states,np.array(['Chhattisgarh','Ladakh','Uttarakhand']))\n",
    "arr_states"
   ]
  },
  {
   "cell_type": "code",
   "execution_count": 5,
   "id": "behind-manner",
   "metadata": {
    "execution": {
     "iopub.execute_input": "2021-03-20T13:06:13.035756Z",
     "iopub.status.busy": "2021-03-20T13:06:13.035101Z",
     "iopub.status.idle": "2021-03-20T13:06:13.044761Z",
     "shell.execute_reply": "2021-03-20T13:06:13.044206Z"
    },
    "papermill": {
     "duration": 0.040862,
     "end_time": "2021-03-20T13:06:13.044920",
     "exception": false,
     "start_time": "2021-03-20T13:06:13.004058",
     "status": "completed"
    },
    "tags": []
   },
   "outputs": [],
   "source": [
    "#hide\n",
    "dates = []\n",
    "for i in arr_dates:\n",
    "    if i>='2020-07-01':\n",
    "        dates.append(i)\n",
    "dict = {'states':dates}\n",
    "for i in arr_states:\n",
    "    dict[i] = [0]*len(dates)\n",
    "dft_cases = pd.DataFrame(dict)\n",
    "dft_deaths = pd.DataFrame(dict)\n"
   ]
  },
  {
   "cell_type": "code",
   "execution_count": 6,
   "id": "simplified-peter",
   "metadata": {
    "execution": {
     "iopub.execute_input": "2021-03-20T13:06:13.088772Z",
     "iopub.status.busy": "2021-03-20T13:06:13.088130Z",
     "iopub.status.idle": "2021-03-20T13:06:17.718295Z",
     "shell.execute_reply": "2021-03-20T13:06:17.717738Z"
    },
    "papermill": {
     "duration": 4.65445,
     "end_time": "2021-03-20T13:06:17.718443",
     "exception": false,
     "start_time": "2021-03-20T13:06:13.063993",
     "status": "completed"
    },
    "tags": []
   },
   "outputs": [],
   "source": [
    "#hide\n",
    "for i in range(len(dates)):\n",
    "    df1_deaths = df_deaths1.get_group(dates[i])\n",
    "    for j in range(len(df1_deaths.index)):\n",
    "        if df1_deaths.iloc[j,1] in arr_states:\n",
    "            dft_deaths.loc[i,df1_deaths.iloc[j,1]] = df1_deaths.iloc[j,2]\n",
    "dft_deaths = dft_deaths.set_index('states')"
   ]
  },
  {
   "cell_type": "code",
   "execution_count": 7,
   "id": "geological-welding",
   "metadata": {
    "execution": {
     "iopub.execute_input": "2021-03-20T13:06:17.765616Z",
     "iopub.status.busy": "2021-03-20T13:06:17.764972Z",
     "iopub.status.idle": "2021-03-20T13:06:22.419409Z",
     "shell.execute_reply": "2021-03-20T13:06:22.418844Z"
    },
    "papermill": {
     "duration": 4.680246,
     "end_time": "2021-03-20T13:06:22.419559",
     "exception": false,
     "start_time": "2021-03-20T13:06:17.739313",
     "status": "completed"
    },
    "tags": []
   },
   "outputs": [],
   "source": [
    "#hide\n",
    "for i in range(len(dates)):\n",
    "    df1_cases = df_cases1.get_group(dates[i])\n",
    "    for j in range(len(df1_cases.index)):\n",
    "        if df1_cases.iloc[j,1] in arr_states:\n",
    "            dft_cases.loc[i,df1_cases.iloc[j,1]] = df1_cases.iloc[j,2]\n",
    "dft_cases = dft_cases.set_index('states')"
   ]
  },
  {
   "cell_type": "code",
   "execution_count": 8,
   "id": "binary-ratio",
   "metadata": {
    "execution": {
     "iopub.execute_input": "2021-03-20T13:06:22.463704Z",
     "iopub.status.busy": "2021-03-20T13:06:22.463010Z",
     "iopub.status.idle": "2021-03-20T13:06:22.465482Z",
     "shell.execute_reply": "2021-03-20T13:06:22.464964Z"
    },
    "papermill": {
     "duration": 0.026825,
     "end_time": "2021-03-20T13:06:22.465608",
     "exception": false,
     "start_time": "2021-03-20T13:06:22.438783",
     "status": "completed"
    },
    "tags": []
   },
   "outputs": [],
   "source": [
    "#hide\n",
    "dft_cases = dft_cases.T\n",
    "dft_deaths = dft_deaths.T\n",
    "dt_today = dates[-1]\n",
    "dt_yday = dates[-2]"
   ]
  },
  {
   "cell_type": "code",
   "execution_count": 9,
   "id": "boolean-calculator",
   "metadata": {
    "execution": {
     "iopub.execute_input": "2021-03-20T13:06:22.508410Z",
     "iopub.status.busy": "2021-03-20T13:06:22.507769Z",
     "iopub.status.idle": "2021-03-20T13:06:22.513316Z",
     "shell.execute_reply": "2021-03-20T13:06:22.512741Z"
    },
    "papermill": {
     "duration": 0.02911,
     "end_time": "2021-03-20T13:06:22.513436",
     "exception": false,
     "start_time": "2021-03-20T13:06:22.484326",
     "status": "completed"
    },
    "tags": []
   },
   "outputs": [],
   "source": [
    "#hide\n",
    "dft_cases = dft_cases.reset_index()\n",
    "dft_deaths = dft_deaths.reset_index()\n",
    "dft_cases = dft_cases.rename(columns = {'index':'state'})\n",
    "dft_deaths = dft_deaths.rename(columns = {'index':'state'})"
   ]
  },
  {
   "cell_type": "code",
   "execution_count": 10,
   "id": "invisible-johnston",
   "metadata": {
    "execution": {
     "iopub.execute_input": "2021-03-20T13:06:22.557826Z",
     "iopub.status.busy": "2021-03-20T13:06:22.557193Z",
     "iopub.status.idle": "2021-03-20T13:06:22.563185Z",
     "shell.execute_reply": "2021-03-20T13:06:22.563784Z"
    },
    "papermill": {
     "duration": 0.031931,
     "end_time": "2021-03-20T13:06:22.563918",
     "exception": false,
     "start_time": "2021-03-20T13:06:22.531987",
     "status": "completed"
    },
    "tags": []
   },
   "outputs": [],
   "source": [
    "#hide\n",
    "dfc_cases = dft_cases.groupby('state')[dt_today].sum()\n",
    "dfc_deaths = dft_deaths.groupby('state')[dt_today].sum()\n",
    "dfp_cases = dft_cases.groupby('state')[dt_yday].sum()\n",
    "dfp_deaths = dft_deaths.groupby('state')[dt_yday].sum()"
   ]
  },
  {
   "cell_type": "code",
   "execution_count": 11,
   "id": "measured-great",
   "metadata": {
    "execution": {
     "iopub.execute_input": "2021-03-20T13:06:22.606755Z",
     "iopub.status.busy": "2021-03-20T13:06:22.606124Z",
     "iopub.status.idle": "2021-03-20T13:06:22.620824Z",
     "shell.execute_reply": "2021-03-20T13:06:22.621409Z"
    },
    "papermill": {
     "duration": 0.038856,
     "end_time": "2021-03-20T13:06:22.621544",
     "exception": false,
     "start_time": "2021-03-20T13:06:22.582688",
     "status": "completed"
    },
    "tags": []
   },
   "outputs": [
    {
     "data": {
      "text/html": [
       "<div>\n",
       "<style scoped>\n",
       "    .dataframe tbody tr th:only-of-type {\n",
       "        vertical-align: middle;\n",
       "    }\n",
       "\n",
       "    .dataframe tbody tr th {\n",
       "        vertical-align: top;\n",
       "    }\n",
       "\n",
       "    .dataframe thead th {\n",
       "        text-align: right;\n",
       "    }\n",
       "</style>\n",
       "<table border=\"1\" class=\"dataframe\">\n",
       "  <thead>\n",
       "    <tr style=\"text-align: right;\">\n",
       "      <th></th>\n",
       "      <th>states</th>\n",
       "      <th>Cases</th>\n",
       "      <th>Deaths</th>\n",
       "      <th>PCases</th>\n",
       "      <th>PDeaths</th>\n",
       "    </tr>\n",
       "  </thead>\n",
       "  <tbody>\n",
       "    <tr>\n",
       "      <th>0</th>\n",
       "      <td>Maharashtra</td>\n",
       "      <td>2422021</td>\n",
       "      <td>53208</td>\n",
       "      <td>2422021</td>\n",
       "      <td>53208</td>\n",
       "    </tr>\n",
       "    <tr>\n",
       "      <th>1</th>\n",
       "      <td>Kerala</td>\n",
       "      <td>1100276</td>\n",
       "      <td>4468</td>\n",
       "      <td>1100276</td>\n",
       "      <td>4468</td>\n",
       "    </tr>\n",
       "    <tr>\n",
       "      <th>2</th>\n",
       "      <td>Karnataka</td>\n",
       "      <td>966689</td>\n",
       "      <td>12425</td>\n",
       "      <td>966689</td>\n",
       "      <td>12425</td>\n",
       "    </tr>\n",
       "    <tr>\n",
       "      <th>3</th>\n",
       "      <td>Andhra Pradesh</td>\n",
       "      <td>892986</td>\n",
       "      <td>7187</td>\n",
       "      <td>892986</td>\n",
       "      <td>7187</td>\n",
       "    </tr>\n",
       "    <tr>\n",
       "      <th>4</th>\n",
       "      <td>Tamil Nadu</td>\n",
       "      <td>864450</td>\n",
       "      <td>12582</td>\n",
       "      <td>864450</td>\n",
       "      <td>12582</td>\n",
       "    </tr>\n",
       "  </tbody>\n",
       "</table>\n",
       "</div>"
      ],
      "text/plain": [
       "           states    Cases  Deaths   PCases  PDeaths\n",
       "0     Maharashtra  2422021   53208  2422021    53208\n",
       "1          Kerala  1100276    4468  1100276     4468\n",
       "2       Karnataka   966689   12425   966689    12425\n",
       "3  Andhra Pradesh   892986    7187   892986     7187\n",
       "4      Tamil Nadu   864450   12582   864450    12582"
      ]
     },
     "execution_count": 11,
     "metadata": {},
     "output_type": "execute_result"
    }
   ],
   "source": [
    "#hide\n",
    "df_table = pd.DataFrame({'states': dfc_cases.index, 'Cases': dfc_cases.values, 'Deaths': dfc_deaths.values, 'PCases': dfp_cases.values, 'PDeaths': dfp_deaths.values}).set_index('states')\n",
    "df_table = df_table.sort_values(by = ['Cases','Deaths'], ascending = [False, False])\n",
    "df_table = df_table.reset_index()\n",
    "df_table.head()"
   ]
  },
  {
   "cell_type": "code",
   "execution_count": 12,
   "id": "found-montreal",
   "metadata": {
    "execution": {
     "iopub.execute_input": "2021-03-20T13:06:22.662252Z",
     "iopub.status.busy": "2021-03-20T13:06:22.661621Z",
     "iopub.status.idle": "2021-03-20T13:06:22.672264Z",
     "shell.execute_reply": "2021-03-20T13:06:22.672832Z"
    },
    "papermill": {
     "duration": 0.032309,
     "end_time": "2021-03-20T13:06:22.673013",
     "exception": false,
     "start_time": "2021-03-20T13:06:22.640704",
     "status": "completed"
    },
    "tags": []
   },
   "outputs": [],
   "source": [
    "#hide\n",
    "for c in 'Cases, Deaths'.split(', '):\n",
    "    df_table[f'{c} (+)'] = (df_table[c] - df_table[f'P{c}']).clip(0)\n",
    "df_table['Fatality Rate'] = (100* df_table['Deaths']/ df_table['Cases']).round(2)"
   ]
  },
  {
   "cell_type": "code",
   "execution_count": 13,
   "id": "minus-savage",
   "metadata": {
    "execution": {
     "iopub.execute_input": "2021-03-20T13:06:22.725902Z",
     "iopub.status.busy": "2021-03-20T13:06:22.725266Z",
     "iopub.status.idle": "2021-03-20T13:06:22.728060Z",
     "shell.execute_reply": "2021-03-20T13:06:22.728583Z"
    },
    "papermill": {
     "duration": 0.03496,
     "end_time": "2021-03-20T13:06:22.728726",
     "exception": false,
     "start_time": "2021-03-20T13:06:22.693766",
     "status": "completed"
    },
    "tags": []
   },
   "outputs": [
    {
     "data": {
      "text/html": [
       "<div>\n",
       "<style scoped>\n",
       "    .dataframe tbody tr th:only-of-type {\n",
       "        vertical-align: middle;\n",
       "    }\n",
       "\n",
       "    .dataframe tbody tr th {\n",
       "        vertical-align: top;\n",
       "    }\n",
       "\n",
       "    .dataframe thead th {\n",
       "        text-align: right;\n",
       "    }\n",
       "</style>\n",
       "<table border=\"1\" class=\"dataframe\">\n",
       "  <thead>\n",
       "    <tr style=\"text-align: right;\">\n",
       "      <th></th>\n",
       "      <th>states</th>\n",
       "      <th>Cases</th>\n",
       "      <th>Deaths</th>\n",
       "      <th>PCases</th>\n",
       "      <th>PDeaths</th>\n",
       "      <th>Cases (+)</th>\n",
       "      <th>Deaths (+)</th>\n",
       "      <th>Fatality Rate</th>\n",
       "    </tr>\n",
       "  </thead>\n",
       "  <tbody>\n",
       "    <tr>\n",
       "      <th>0</th>\n",
       "      <td>Maharashtra</td>\n",
       "      <td>2422021</td>\n",
       "      <td>53208</td>\n",
       "      <td>2422021</td>\n",
       "      <td>53208</td>\n",
       "      <td>0</td>\n",
       "      <td>0</td>\n",
       "      <td>2.20</td>\n",
       "    </tr>\n",
       "    <tr>\n",
       "      <th>1</th>\n",
       "      <td>Kerala</td>\n",
       "      <td>1100276</td>\n",
       "      <td>4468</td>\n",
       "      <td>1100276</td>\n",
       "      <td>4468</td>\n",
       "      <td>0</td>\n",
       "      <td>0</td>\n",
       "      <td>0.41</td>\n",
       "    </tr>\n",
       "    <tr>\n",
       "      <th>2</th>\n",
       "      <td>Karnataka</td>\n",
       "      <td>966689</td>\n",
       "      <td>12425</td>\n",
       "      <td>966689</td>\n",
       "      <td>12425</td>\n",
       "      <td>0</td>\n",
       "      <td>0</td>\n",
       "      <td>1.29</td>\n",
       "    </tr>\n",
       "    <tr>\n",
       "      <th>3</th>\n",
       "      <td>Andhra Pradesh</td>\n",
       "      <td>892986</td>\n",
       "      <td>7187</td>\n",
       "      <td>892986</td>\n",
       "      <td>7187</td>\n",
       "      <td>0</td>\n",
       "      <td>0</td>\n",
       "      <td>0.80</td>\n",
       "    </tr>\n",
       "    <tr>\n",
       "      <th>4</th>\n",
       "      <td>Tamil Nadu</td>\n",
       "      <td>864450</td>\n",
       "      <td>12582</td>\n",
       "      <td>864450</td>\n",
       "      <td>12582</td>\n",
       "      <td>0</td>\n",
       "      <td>0</td>\n",
       "      <td>1.46</td>\n",
       "    </tr>\n",
       "  </tbody>\n",
       "</table>\n",
       "</div>"
      ],
      "text/plain": [
       "           states    Cases  Deaths   PCases  PDeaths  Cases (+)  Deaths (+)  \\\n",
       "0     Maharashtra  2422021   53208  2422021    53208          0           0   \n",
       "1          Kerala  1100276    4468  1100276     4468          0           0   \n",
       "2       Karnataka   966689   12425   966689    12425          0           0   \n",
       "3  Andhra Pradesh   892986    7187   892986     7187          0           0   \n",
       "4      Tamil Nadu   864450   12582   864450    12582          0           0   \n",
       "\n",
       "   Fatality Rate  \n",
       "0           2.20  \n",
       "1           0.41  \n",
       "2           1.29  \n",
       "3           0.80  \n",
       "4           1.46  "
      ]
     },
     "execution_count": 13,
     "metadata": {},
     "output_type": "execute_result"
    }
   ],
   "source": [
    "#hide\n",
    "df_table.head()"
   ]
  },
  {
   "cell_type": "code",
   "execution_count": 14,
   "id": "false-peter",
   "metadata": {
    "execution": {
     "iopub.execute_input": "2021-03-20T13:06:22.774811Z",
     "iopub.status.busy": "2021-03-20T13:06:22.774172Z",
     "iopub.status.idle": "2021-03-20T13:06:22.793560Z",
     "shell.execute_reply": "2021-03-20T13:06:22.794057Z"
    },
    "papermill": {
     "duration": 0.04595,
     "end_time": "2021-03-20T13:06:22.794197",
     "exception": false,
     "start_time": "2021-03-20T13:06:22.748247",
     "status": "completed"
    },
    "tags": []
   },
   "outputs": [
    {
     "data": {
      "text/plain": [
       "{'updated': '2021-03-20',\n",
       " 'since': '2021-03-19',\n",
       " 'Cases': 11556263,\n",
       " 'PCases': 11554895,\n",
       " 'Deaths': 159599,\n",
       " 'PDeaths': 159594,\n",
       " 'Cases (+)': 1368,\n",
       " 'Deaths (+)': 5}"
      ]
     },
     "execution_count": 14,
     "metadata": {},
     "output_type": "execute_result"
    }
   ],
   "source": [
    "#hide\n",
    "summary = {'updated':dates[-1], 'since':dates[-2]}\n",
    "list_names = ['Cases', 'PCases', 'Deaths', 'PDeaths', 'Cases (+)', 'Deaths (+)']\n",
    "for name in list_names:\n",
    "    summary[name] = df_table.sum()[name]\n",
    "summary"
   ]
  },
  {
   "cell_type": "code",
   "execution_count": 15,
   "id": "packed-viewer",
   "metadata": {
    "execution": {
     "iopub.execute_input": "2021-03-20T13:06:22.838383Z",
     "iopub.status.busy": "2021-03-20T13:06:22.837731Z",
     "iopub.status.idle": "2021-03-20T13:06:22.840256Z",
     "shell.execute_reply": "2021-03-20T13:06:22.839711Z"
    },
    "papermill": {
     "duration": 0.026075,
     "end_time": "2021-03-20T13:06:22.840377",
     "exception": false,
     "start_time": "2021-03-20T13:06:22.814302",
     "status": "completed"
    },
    "tags": []
   },
   "outputs": [],
   "source": [
    "#hide\n",
    "overview = '''\n",
    "<!-- #######  HTML!! #########-->\n",
    "<h1 style=\"color: #5e9ca0; text-align: center;\">India</h1>\n",
    "<p style=\"text-align: center;\">Last update: <strong>{update}</strong></p>\n",
    "<p style=\"text-align: center;\">Confirmed cases:</p>\n",
    "<p style=\"text-align: center;font-size:24px;\">{cases} (<span style=\"color: #ff0000;\">+{new}</span>)</p>\n",
    "<p style=\"text-align: center;\">Confirmed deaths:</p>\n",
    "<p style=\"text-align: center;font-size:24px;\">{deaths} (<span style=\"color: #ff0000;\">+{dnew}</span>)</p>\n",
    "'''"
   ]
  },
  {
   "cell_type": "code",
   "execution_count": 16,
   "id": "phantom-lover",
   "metadata": {
    "execution": {
     "iopub.execute_input": "2021-03-20T13:06:22.886827Z",
     "iopub.status.busy": "2021-03-20T13:06:22.886180Z",
     "iopub.status.idle": "2021-03-20T13:06:22.890222Z",
     "shell.execute_reply": "2021-03-20T13:06:22.889496Z"
    },
    "papermill": {
     "duration": 0.029972,
     "end_time": "2021-03-20T13:06:22.890348",
     "exception": false,
     "start_time": "2021-03-20T13:06:22.860376",
     "status": "completed"
    },
    "tags": []
   },
   "outputs": [
    {
     "data": {
      "text/html": [
       "\n",
       "<!-- #######  HTML!! #########-->\n",
       "<h1 style=\"color: #5e9ca0; text-align: center;\">India</h1>\n",
       "<p style=\"text-align: center;\">Last update: <strong>2021-03-20</strong></p>\n",
       "<p style=\"text-align: center;\">Confirmed cases:</p>\n",
       "<p style=\"text-align: center;font-size:24px;\">11556263 (<span style=\"color: #ff0000;\">+1368</span>)</p>\n",
       "<p style=\"text-align: center;\">Confirmed deaths:</p>\n",
       "<p style=\"text-align: center;font-size:24px;\">159599 (<span style=\"color: #ff0000;\">+5</span>)</p>\n"
      ],
      "text/plain": [
       "<IPython.core.display.HTML object>"
      ]
     },
     "metadata": {},
     "output_type": "display_data"
    }
   ],
   "source": [
    "#hide_input\n",
    "update = summary['updated']\n",
    "cases = summary['Cases']\n",
    "new = summary['Cases (+)']\n",
    "deaths = summary['Deaths']\n",
    "dnew = summary['Deaths (+)']\n",
    "\n",
    "html = HTML(overview.format(update=update, cases=cases,new=new,deaths=deaths,dnew=dnew))\n",
    "\n",
    "display(html)"
   ]
  },
  {
   "cell_type": "code",
   "execution_count": 17,
   "id": "sealed-reset",
   "metadata": {
    "execution": {
     "iopub.execute_input": "2021-03-20T13:06:22.941429Z",
     "iopub.status.busy": "2021-03-20T13:06:22.940761Z",
     "iopub.status.idle": "2021-03-20T13:06:22.947995Z",
     "shell.execute_reply": "2021-03-20T13:06:22.948558Z"
    },
    "papermill": {
     "duration": 0.034151,
     "end_time": "2021-03-20T13:06:22.948694",
     "exception": false,
     "start_time": "2021-03-20T13:06:22.914543",
     "status": "completed"
    },
    "tags": []
   },
   "outputs": [],
   "source": [
    "#hide\n",
    "dt_cols = list(dft_cases.columns[1:])\n",
    "dft_ct_new_cases = dft_cases.groupby('state')[dt_cols].sum().diff(axis=1).fillna(0).astype(int)\n",
    "dft_ct_new_cases.sort_values(by = dates[-1], ascending = False,inplace = True)"
   ]
  },
  {
   "cell_type": "code",
   "execution_count": 18,
   "id": "designed-constant",
   "metadata": {
    "execution": {
     "iopub.execute_input": "2021-03-20T13:06:23.009361Z",
     "iopub.status.busy": "2021-03-20T13:06:23.008686Z",
     "iopub.status.idle": "2021-03-20T13:06:23.011795Z",
     "shell.execute_reply": "2021-03-20T13:06:23.012360Z"
    },
    "papermill": {
     "duration": 0.042904,
     "end_time": "2021-03-20T13:06:23.012501",
     "exception": false,
     "start_time": "2021-03-20T13:06:22.969597",
     "status": "completed"
    },
    "tags": []
   },
   "outputs": [
    {
     "data": {
      "text/html": [
       "<div>\n",
       "<style scoped>\n",
       "    .dataframe tbody tr th:only-of-type {\n",
       "        vertical-align: middle;\n",
       "    }\n",
       "\n",
       "    .dataframe tbody tr th {\n",
       "        vertical-align: top;\n",
       "    }\n",
       "\n",
       "    .dataframe thead th {\n",
       "        text-align: right;\n",
       "    }\n",
       "</style>\n",
       "<table border=\"1\" class=\"dataframe\">\n",
       "  <thead>\n",
       "    <tr style=\"text-align: right;\">\n",
       "      <th>states</th>\n",
       "      <th>2020-07-01</th>\n",
       "      <th>2020-07-02</th>\n",
       "      <th>2020-07-03</th>\n",
       "      <th>2020-07-04</th>\n",
       "      <th>2020-07-05</th>\n",
       "      <th>2020-07-06</th>\n",
       "      <th>2020-07-07</th>\n",
       "      <th>2020-07-08</th>\n",
       "      <th>2020-07-09</th>\n",
       "      <th>2020-07-10</th>\n",
       "      <th>...</th>\n",
       "      <th>2021-03-11</th>\n",
       "      <th>2021-03-12</th>\n",
       "      <th>2021-03-13</th>\n",
       "      <th>2021-03-14</th>\n",
       "      <th>2021-03-15</th>\n",
       "      <th>2021-03-16</th>\n",
       "      <th>2021-03-17</th>\n",
       "      <th>2021-03-18</th>\n",
       "      <th>2021-03-19</th>\n",
       "      <th>2021-03-20</th>\n",
       "    </tr>\n",
       "    <tr>\n",
       "      <th>state</th>\n",
       "      <th></th>\n",
       "      <th></th>\n",
       "      <th></th>\n",
       "      <th></th>\n",
       "      <th></th>\n",
       "      <th></th>\n",
       "      <th></th>\n",
       "      <th></th>\n",
       "      <th></th>\n",
       "      <th></th>\n",
       "      <th></th>\n",
       "      <th></th>\n",
       "      <th></th>\n",
       "      <th></th>\n",
       "      <th></th>\n",
       "      <th></th>\n",
       "      <th></th>\n",
       "      <th></th>\n",
       "      <th></th>\n",
       "      <th></th>\n",
       "      <th></th>\n",
       "    </tr>\n",
       "  </thead>\n",
       "  <tbody>\n",
       "    <tr>\n",
       "      <th>Delhi</th>\n",
       "      <td>0</td>\n",
       "      <td>2373</td>\n",
       "      <td>2520</td>\n",
       "      <td>2505</td>\n",
       "      <td>2244</td>\n",
       "      <td>1379</td>\n",
       "      <td>2008</td>\n",
       "      <td>2033</td>\n",
       "      <td>2187</td>\n",
       "      <td>2089</td>\n",
       "      <td>...</td>\n",
       "      <td>409</td>\n",
       "      <td>431</td>\n",
       "      <td>419</td>\n",
       "      <td>407</td>\n",
       "      <td>368</td>\n",
       "      <td>425</td>\n",
       "      <td>536</td>\n",
       "      <td>607</td>\n",
       "      <td>716</td>\n",
       "      <td>813</td>\n",
       "    </tr>\n",
       "    <tr>\n",
       "      <th>Telangana</th>\n",
       "      <td>0</td>\n",
       "      <td>1213</td>\n",
       "      <td>1892</td>\n",
       "      <td>1850</td>\n",
       "      <td>1590</td>\n",
       "      <td>1831</td>\n",
       "      <td>1879</td>\n",
       "      <td>1924</td>\n",
       "      <td>1410</td>\n",
       "      <td>1278</td>\n",
       "      <td>...</td>\n",
       "      <td>194</td>\n",
       "      <td>181</td>\n",
       "      <td>216</td>\n",
       "      <td>228</td>\n",
       "      <td>157</td>\n",
       "      <td>204</td>\n",
       "      <td>247</td>\n",
       "      <td>278</td>\n",
       "      <td>313</td>\n",
       "      <td>364</td>\n",
       "    </tr>\n",
       "    <tr>\n",
       "      <th>Odisha</th>\n",
       "      <td>0</td>\n",
       "      <td>229</td>\n",
       "      <td>561</td>\n",
       "      <td>495</td>\n",
       "      <td>469</td>\n",
       "      <td>456</td>\n",
       "      <td>571</td>\n",
       "      <td>527</td>\n",
       "      <td>577</td>\n",
       "      <td>755</td>\n",
       "      <td>...</td>\n",
       "      <td>63</td>\n",
       "      <td>64</td>\n",
       "      <td>65</td>\n",
       "      <td>71</td>\n",
       "      <td>66</td>\n",
       "      <td>65</td>\n",
       "      <td>82</td>\n",
       "      <td>84</td>\n",
       "      <td>110</td>\n",
       "      <td>120</td>\n",
       "    </tr>\n",
       "    <tr>\n",
       "      <th>Puducherry</th>\n",
       "      <td>0</td>\n",
       "      <td>63</td>\n",
       "      <td>22</td>\n",
       "      <td>80</td>\n",
       "      <td>42</td>\n",
       "      <td>65</td>\n",
       "      <td>30</td>\n",
       "      <td>110</td>\n",
       "      <td>49</td>\n",
       "      <td>72</td>\n",
       "      <td>...</td>\n",
       "      <td>22</td>\n",
       "      <td>30</td>\n",
       "      <td>31</td>\n",
       "      <td>15</td>\n",
       "      <td>14</td>\n",
       "      <td>24</td>\n",
       "      <td>52</td>\n",
       "      <td>81</td>\n",
       "      <td>61</td>\n",
       "      <td>60</td>\n",
       "    </tr>\n",
       "    <tr>\n",
       "      <th>Tripura</th>\n",
       "      <td>0</td>\n",
       "      <td>39</td>\n",
       "      <td>93</td>\n",
       "      <td>25</td>\n",
       "      <td>23</td>\n",
       "      <td>111</td>\n",
       "      <td>24</td>\n",
       "      <td>57</td>\n",
       "      <td>16</td>\n",
       "      <td>142</td>\n",
       "      <td>...</td>\n",
       "      <td>1</td>\n",
       "      <td>0</td>\n",
       "      <td>2</td>\n",
       "      <td>2</td>\n",
       "      <td>0</td>\n",
       "      <td>11</td>\n",
       "      <td>1</td>\n",
       "      <td>3</td>\n",
       "      <td>10</td>\n",
       "      <td>5</td>\n",
       "    </tr>\n",
       "  </tbody>\n",
       "</table>\n",
       "<p>5 rows × 263 columns</p>\n",
       "</div>"
      ],
      "text/plain": [
       "states      2020-07-01  2020-07-02  2020-07-03  2020-07-04  2020-07-05  \\\n",
       "state                                                                    \n",
       "Delhi                0        2373        2520        2505        2244   \n",
       "Telangana            0        1213        1892        1850        1590   \n",
       "Odisha               0         229         561         495         469   \n",
       "Puducherry           0          63          22          80          42   \n",
       "Tripura              0          39          93          25          23   \n",
       "\n",
       "states      2020-07-06  2020-07-07  2020-07-08  2020-07-09  2020-07-10  ...  \\\n",
       "state                                                                   ...   \n",
       "Delhi             1379        2008        2033        2187        2089  ...   \n",
       "Telangana         1831        1879        1924        1410        1278  ...   \n",
       "Odisha             456         571         527         577         755  ...   \n",
       "Puducherry          65          30         110          49          72  ...   \n",
       "Tripura            111          24          57          16         142  ...   \n",
       "\n",
       "states      2021-03-11  2021-03-12  2021-03-13  2021-03-14  2021-03-15  \\\n",
       "state                                                                    \n",
       "Delhi              409         431         419         407         368   \n",
       "Telangana          194         181         216         228         157   \n",
       "Odisha              63          64          65          71          66   \n",
       "Puducherry          22          30          31          15          14   \n",
       "Tripura              1           0           2           2           0   \n",
       "\n",
       "states      2021-03-16  2021-03-17  2021-03-18  2021-03-19  2021-03-20  \n",
       "state                                                                   \n",
       "Delhi              425         536         607         716         813  \n",
       "Telangana          204         247         278         313         364  \n",
       "Odisha              65          82          84         110         120  \n",
       "Puducherry          24          52          81          61          60  \n",
       "Tripura             11           1           3          10           5  \n",
       "\n",
       "[5 rows x 263 columns]"
      ]
     },
     "execution_count": 18,
     "metadata": {},
     "output_type": "execute_result"
    }
   ],
   "source": [
    "#hide\n",
    "dft_ct_new_cases.head()"
   ]
  },
  {
   "cell_type": "code",
   "execution_count": 19,
   "id": "responsible-nightlife",
   "metadata": {
    "execution": {
     "iopub.execute_input": "2021-03-20T13:06:23.066957Z",
     "iopub.status.busy": "2021-03-20T13:06:23.066256Z",
     "iopub.status.idle": "2021-03-20T13:06:33.739149Z",
     "shell.execute_reply": "2021-03-20T13:06:33.739682Z"
    },
    "papermill": {
     "duration": 10.705568,
     "end_time": "2021-03-20T13:06:33.739847",
     "exception": false,
     "start_time": "2021-03-20T13:06:23.034279",
     "status": "completed"
    },
    "tags": []
   },
   "outputs": [
    {
     "data": {
      "image/png": "[encoded data removed]",
      "text/plain": [
       "<Figure size 1296x2016 with 11 Axes>"
      ]
     },
     "metadata": {
      "needs_background": "light"
     },
     "output_type": "display_data"
    }
   ],
   "source": [
    "#hide_input\n",
    "df = dft_ct_new_cases.copy()\n",
    "df.loc['Total'] = df.sum()\n",
    "n = 5\n",
    "ax = []\n",
    "fig = plt.figure(figsize = (18,28))\n",
    "gs = fig.add_gridspec(n+2, 5)\n",
    "# gs = fig.add_gridspec(2, 3)\n",
    "ax1 = fig.add_subplot(gs[0, :])\n",
    "ef = df.loc['Total'].rename_axis('date').reset_index()\n",
    "ef['date'] = ef['date'].astype('datetime64[ns]')\n",
    "ax1.bar(ef.date,ef.Total,alpha=0.3,color='#007acc')\n",
    "ax1.plot(ef.date,ef.Total , marker=\"o\", color='#007acc')\n",
    "ax1.xaxis.set_major_locator(mdates.WeekdayLocator())\n",
    "ax1.xaxis.set_major_formatter(mdates.DateFormatter('%b %d'))\n",
    "ax1.text(0.02, 0.5,'India daily case count', transform = ax1.transAxes, fontsize=25);\n",
    "ax1.spines['right'].set_visible(False)\n",
    "ax1.spines['top'].set_visible(False)\n",
    "\n",
    "ax2 = fig.add_subplot(gs[1,0])\n",
    "ef = df.loc['Maharashtra'].rename_axis('date').reset_index()\n",
    "ef['date'] = ef['date'].astype('datetime64[ns]')\n",
    "\n",
    "ax2.bar(ef.date, ef.Maharashtra,color = '#007acc',alpha=0.5)\n",
    "ax2.xaxis.set_major_locator(mdates.WeekdayLocator())\n",
    "ax2.xaxis.set_major_formatter(mdates.DateFormatter('%b %d'))\n",
    "ax2.set_xticks(ax2.get_xticks()[::3])\n",
    "maxyval = ef.Maharashtra.max()\n",
    "ax2.set_ylim([0,maxyval])\n",
    "ax2.text(0.05, 0.9,'Maharashtra', transform = ax2.transAxes, fontsize=20);\n",
    "ax2.spines['right'].set_visible(False)\n",
    "ax2.spines['top'].set_visible(False)\n",
    "\n",
    "\n",
    "ax3 = fig.add_subplot(gs[1,1])\n",
    "ef = df.loc['Tamil Nadu'].rename_axis('date').reset_index()\n",
    "ef['date'] = ef['date'].astype('datetime64[ns]')\n",
    "ax3.bar(ef.date, ef['Tamil Nadu'],color = '#007acc',alpha=0.5,)\n",
    "ax3.xaxis.set_major_locator(mdates.WeekdayLocator())\n",
    "ax3.xaxis.set_major_formatter(mdates.DateFormatter('%b %d'))\n",
    "ax3.set_xticks(ax3.get_xticks()[::3])\n",
    "ax3.text(0.05, 0.9,'Tamil Nadu', transform = ax3.transAxes, fontsize=20);\n",
    "ax3.spines['right'].set_visible(False)\n",
    "ax3.spines['top'].set_visible(False)\n",
    "\n",
    "ax5 = fig.add_subplot(gs[1,3])\n",
    "ef = df.loc['Telangana'].rename_axis('date').reset_index()\n",
    "ef['date'] = ef['date'].astype('datetime64[ns]')\n",
    "ax5.bar(ef.date, ef['Telangana'],color = '#007acc',alpha=0.5,)\n",
    "ax5.xaxis.set_major_locator(mdates.WeekdayLocator())\n",
    "ax5.xaxis.set_major_formatter(mdates.DateFormatter('%b %d'))\n",
    "ax5.set_xticks(ax5.get_xticks()[::3])\n",
    "ax5.text(0.05, 0.9,'Telangana', transform = ax5.transAxes, fontsize=20);\n",
    "ax5.spines['right'].set_visible(False)\n",
    "ax5.spines['top'].set_visible(False)\n",
    "\n",
    "ax6 = fig.add_subplot(gs[1,4])\n",
    "ef = df.loc['Andhra Pradesh'].rename_axis('date').reset_index()\n",
    "ef['date'] = ef['date'].astype('datetime64[ns]')\n",
    "ax6.bar(ef.date, ef['Andhra Pradesh'],color = '#007acc',alpha=0.5,)\n",
    "ax6.xaxis.set_major_locator(mdates.WeekdayLocator())\n",
    "ax6.xaxis.set_major_formatter(mdates.DateFormatter('%b %d'))\n",
    "ax6.set_xticks(ax6.get_xticks()[::3])\n",
    "ax6.text(0.05, 1,'Andhra Pradesh', transform = ax6.transAxes, fontsize=20);\n",
    "ax6.spines['right'].set_visible(False)\n",
    "ax6.spines['top'].set_visible(False)\n",
    "\n",
    "ax4 = fig.add_subplot(gs[1,2])\n",
    "ef = df.loc['Delhi'].rename_axis('date').reset_index()\n",
    "ef['date'] = ef['date'].astype('datetime64[ns]')\n",
    "ax4.bar(ef.date, ef.Delhi,color = '#007acc',alpha=0.5)\n",
    "ax4.set_xticks([])\n",
    "ax4.xaxis.set_major_locator(mdates.WeekdayLocator())\n",
    "ax4.xaxis.set_major_formatter(mdates.DateFormatter('%b %d'))\n",
    "ax4.set_xticks(ax4.get_xticks()[::3])\n",
    "ax4.spines['right'].set_visible(False)\n",
    "ax4.spines['top'].set_visible(False)\n",
    "\n",
    "ax4.text(0.05, 1,'Delhi', transform = ax4.transAxes, fontsize=20)\n",
    "\n",
    "for i in range(n):\n",
    "    \n",
    "    ax.append(fig.add_subplot(gs[i+2,:]))\n",
    "    ef = df.iloc[i+3].rename_axis('date').reset_index()\n",
    "    ef['date'] = ef['date'].astype('datetime64[ns]')\n",
    "    ax[i].bar(ef.date,ef.iloc[:,-1],color = '#007acc',alpha=0.3)\n",
    "    ax[i].plot(ef.date,ef.iloc[:,-1],marker='o',color='#007acc')\n",
    "    ax[i].text(0.02,0.5,f'{ef.columns.values[-1]}',transform = ax[i].transAxes, fontsize = 20);\n",
    "    ax[i].xaxis.set_major_locator(mdates.WeekdayLocator())\n",
    "    ax[i].xaxis.set_major_formatter(mdates.DateFormatter('%b %d'))\n",
    "    ax[i].set_ylim([0,7000])\n",
    "    ax[i].spines['right'].set_visible(False)\n",
    "    ax[i].spines['top'].set_visible(False)\n",
    "plt.tight_layout()\n"
   ]
  },
  {
   "cell_type": "code",
   "execution_count": 20,
   "id": "dress-forge",
   "metadata": {
    "execution": {
     "iopub.execute_input": "2021-03-20T13:06:33.800630Z",
     "iopub.status.busy": "2021-03-20T13:06:33.799947Z",
     "iopub.status.idle": "2021-03-20T13:06:33.802522Z",
     "shell.execute_reply": "2021-03-20T13:06:33.803048Z"
    },
    "papermill": {
     "duration": 0.037231,
     "end_time": "2021-03-20T13:06:33.803190",
     "exception": false,
     "start_time": "2021-03-20T13:06:33.765959",
     "status": "completed"
    },
    "tags": []
   },
   "outputs": [
    {
     "name": "stdout",
     "output_type": "stream",
     "text": [
      "                                   states    Cases  Deaths   PCases  PDeaths  Cases (+)  Deaths (+)  Fatality Rate\n",
      "                              Maharashtra  2422021   53208  2422021    53208          0           0           2.20\n",
      "                                   Kerala  1100276    4468  1100276     4468          0           0           0.41\n",
      "                                Karnataka   966689   12425   966689    12425          0           0           1.29\n",
      "                           Andhra Pradesh   892986    7187   892986     7187          0           0           0.80\n",
      "                               Tamil Nadu   864450   12582   864450    12582          0           0           1.46\n",
      "                                    Delhi   647161   10955   646348    10953        813           2           1.69\n",
      "                            Uttar Pradesh   606609    8757   606609     8757          0           0           1.44\n",
      "                              West Bengal   579826   10301   579826    10301          0           0           1.78\n",
      "                                   Odisha   338719    1971   338599     1971        120           0           0.58\n",
      "                                Rajasthan   324503    2796   324503     2796          0           0           0.86\n",
      "                             Chhattisgarh   321880    3929   321880     3929          0           0           1.22\n",
      "                                Telangana   302724    1666   302360     1664        364           2           0.55\n",
      "                                  Gujarat   283864    4437   283864     4437          0           0           1.56\n",
      "                                  Haryana   278140    3090   278140     3090          0           0           1.11\n",
      "                           Madhya Pradesh   273097    3901   273097     3901          0           0           1.43\n",
      "                                    Bihar   263355    1556   263355     1556          0           0           0.59\n",
      "                                    Assam   217924    1100   217924     1100          0           0           0.50\n",
      "                                   Punjab   207888    6242   207888     6242          0           0           3.00\n",
      "                        Jammu and Kashmir   128249    1979   128249     1979          0           0           1.54\n",
      "                                Jharkhand   121055    1095   121055     1095          0           0           0.90\n",
      "                              Uttarakhand    98228    1704    98228     1704          0           0           1.73\n",
      "                         Himachal Pradesh    60389    1003    60389     1003          0           0           1.66\n",
      "                                      Goa    56371     815    56371      815          0           0           1.45\n",
      "                               Puducherry    40322     674    40262      674         60           0           1.67\n",
      "                                  Tripura    33456     388    33451      388          5           0           1.16\n",
      "                                  Manipur    29326     373    29326      373          0           0           1.27\n",
      "                               Chandigarh    24017     360    24017      360          0           0           1.50\n",
      "                        Arunachal Pradesh    16842      56    16842       56          0           0           0.33\n",
      "                                Meghalaya    14012     149    14008      148          4           1           1.06\n",
      "                                 Nagaland    12225      91    12225       91          0           0           0.74\n",
      "                                   Ladakh     9881     130     9881      130          0           0           1.32\n",
      "                                   Sikkim     6199     135     6199      135          0           0           2.18\n",
      "              Andaman and Nicobar Islands     5038      62     5038       62          0           0           1.23\n",
      "                                  Mizoram     4446      11     4445       11          1           0           0.25\n",
      " Dadra and Nagar Haveli and Daman and Diu     3447       2     3446        2          1           0           0.06\n",
      "                              Lakshadweep      648       1      648        1          0           0           0.15\n"
     ]
    }
   ],
   "source": [
    "#hide_input\n",
    "print(df_table.to_string(index=False))"
   ]
  },
  {
   "cell_type": "code",
   "execution_count": null,
   "id": "quantitative-legend",
   "metadata": {
    "papermill": {
     "duration": 0.031987,
     "end_time": "2021-03-20T13:06:33.861825",
     "exception": false,
     "start_time": "2021-03-20T13:06:33.829838",
     "status": "completed"
    },
    "tags": []
   },
   "outputs": [],
   "source": []
  },
  {
   "cell_type": "code",
   "execution_count": null,
   "id": "distant-acoustic",
   "metadata": {
    "papermill": {
     "duration": 0.026174,
     "end_time": "2021-03-20T13:06:33.914194",
     "exception": false,
     "start_time": "2021-03-20T13:06:33.888020",
     "status": "completed"
    },
    "tags": []
   },
   "outputs": [],
   "source": []
  }
 ],
 "metadata": {
  "kernelspec": {
   "display_name": "Python 3",
   "language": "python",
   "name": "python3"
  },
  "language_info": {
   "codemirror_mode": {
    "name": "ipython",
    "version": 3
   },
   "file_extension": ".py",
   "mimetype": "text/x-python",
   "name": "python",
   "nbconvert_exporter": "python",
   "pygments_lexer": "ipython3",
   "version": "3.6.13"
  },
  "papermill": {
   "duration": 23.959728,
   "end_time": "2021-03-20T13:06:34.550903",
   "environment_variables": {},
   "exception": null,
   "input_path": "latest.ipynb",
   "output_path": "latest.ipynb",
   "parameters": {},
   "start_time": "2021-03-20T13:06:10.591175",
   "version": "2.1.2"
  }
 },
 "nbformat": 4,
 "nbformat_minor": 5
}