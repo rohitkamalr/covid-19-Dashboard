{
 "cells": [
  {
   "cell_type": "markdown",
   "metadata": {
    "papermill": {
     "duration": 0.022437,
     "end_time": "2020-09-17T09:23:36.202857",
     "exception": false,
     "start_time": "2020-09-17T09:23:36.180420",
     "status": "completed"
    },
    "tags": []
   },
   "source": [
    "# Latest COVID-19 India Matplotlib Overview"
   ]
  },
  {
   "cell_type": "code",
   "execution_count": 1,
   "metadata": {
    "execution": {
     "iopub.execute_input": "2020-09-17T09:23:36.242809Z",
     "iopub.status.busy": "2020-09-17T09:23:36.242129Z",
     "iopub.status.idle": "2020-09-17T09:23:36.863579Z",
     "shell.execute_reply": "2020-09-17T09:23:36.863019Z"
    },
    "papermill": {
     "duration": 0.64353,
     "end_time": "2020-09-17T09:23:36.863737",
     "exception": false,
     "start_time": "2020-09-17T09:23:36.220207",
     "status": "completed"
    },
    "tags": []
   },
   "outputs": [],
   "source": [
    "#hide\n",
    "import pandas as pd\n",
    "import numpy as np\n",
    "import requests\n",
    "import json\n",
    "import matplotlib.pyplot as plt\n",
    "import matplotlib.dates as mdates\n",
    "import matplotlib as mpl\n",
    "from IPython.core.display import display,HTML\n",
    "%matplotlib inline\n",
    "from datetime import date"
   ]
  },
  {
   "cell_type": "code",
   "execution_count": 2,
   "metadata": {
    "execution": {
     "iopub.execute_input": "2020-09-17T09:23:36.907075Z",
     "iopub.status.busy": "2020-09-17T09:23:36.906337Z",
     "iopub.status.idle": "2020-09-17T09:23:37.142412Z",
     "shell.execute_reply": "2020-09-17T09:23:37.141807Z"
    },
    "papermill": {
     "duration": 0.260668,
     "end_time": "2020-09-17T09:23:37.142557",
     "exception": false,
     "start_time": "2020-09-17T09:23:36.881889",
     "status": "completed"
    },
    "tags": []
   },
   "outputs": [],
   "source": [
    "#hide\n",
    "df  = pd.read_csv('https://api.covid19india.org/csv/latest/states.csv')\n",
    "df = df[['Date','State','Confirmed','Deceased']]\n",
    "df = df.rename(columns={'Confirmed':'Cases', \"Deceased\":'Deaths'})\n",
    "df_cases = df[[\"Date\",'State','Cases']]\n",
    "df_deaths = df[['Date','State','Deaths']]\n",
    "df_cases1 = df_cases.groupby('Date')\n",
    "df_deaths1= df_deaths.groupby('Date')"
   ]
  },
  {
   "cell_type": "code",
   "execution_count": 3,
   "metadata": {
    "execution": {
     "iopub.execute_input": "2020-09-17T09:23:37.182545Z",
     "iopub.status.busy": "2020-09-17T09:23:37.181877Z",
     "iopub.status.idle": "2020-09-17T09:23:37.199320Z",
     "shell.execute_reply": "2020-09-17T09:23:37.199790Z"
    },
    "papermill": {
     "duration": 0.040478,
     "end_time": "2020-09-17T09:23:37.199950",
     "exception": false,
     "start_time": "2020-09-17T09:23:37.159472",
     "status": "completed"
    },
    "tags": []
   },
   "outputs": [],
   "source": [
    "#hide\n",
    "df_snap = pd.read_csv('data/SnapshotCases-28-July.csv')\n",
    "arr_states = df_snap['states'].unique()\n",
    "arr_dates = df['Date'].unique()\n",
    "df_snap = df_snap.set_index('states')"
   ]
  },
  {
   "cell_type": "code",
   "execution_count": 4,
   "metadata": {
    "execution": {
     "iopub.execute_input": "2020-09-17T09:23:37.241634Z",
     "iopub.status.busy": "2020-09-17T09:23:37.240723Z",
     "iopub.status.idle": "2020-09-17T09:23:37.243175Z",
     "shell.execute_reply": "2020-09-17T09:23:37.243650Z"
    },
    "papermill": {
     "duration": 0.027438,
     "end_time": "2020-09-17T09:23:37.243795",
     "exception": false,
     "start_time": "2020-09-17T09:23:37.216357",
     "status": "completed"
    },
    "tags": []
   },
   "outputs": [
    {
     "data": {
      "text/plain": [
       "array(['Andaman and Nicobar Islands', 'Andhra Pradesh',\n",
       "       'Arunachal Pradesh', 'Assam', 'Bihar', 'Chandigarh',\n",
       "       'Dadra and Nagar Haveli and Daman and Diu', 'Delhi', 'Goa',\n",
       "       'Gujarat', 'Haryana', 'Himachal Pradesh', 'Jammu and Kashmir',\n",
       "       'Jharkhand', 'Karnataka', 'Kerala', 'Lakshadweep',\n",
       "       'Madhya Pradesh', 'Maharashtra', 'Manipur', 'Meghalaya', 'Mizoram',\n",
       "       'Nagaland', 'Odisha', 'Puducherry', 'Punjab', 'Rajasthan',\n",
       "       'Sikkim', 'Tamil Nadu', 'Telangana', 'Tripura', 'Uttar Pradesh',\n",
       "       'West Bengal', 'Chhattisgarh', 'Ladakh', 'Uttarakhand'],\n",
       "      dtype=object)"
      ]
     },
     "execution_count": 4,
     "metadata": {},
     "output_type": "execute_result"
    }
   ],
   "source": [
    "#hide\n",
    "arr_states[-9] = 'Puducherry'\n",
    "arr_states[-10] = 'Odisha'\n",
    "arr_states[6] = 'Dadra and Nagar Haveli and Daman and Diu'\n",
    "arr_states = np.append(arr_states,np.array(['Chhattisgarh','Ladakh','Uttarakhand']))\n",
    "arr_states"
   ]
  },
  {
   "cell_type": "code",
   "execution_count": 5,
   "metadata": {
    "execution": {
     "iopub.execute_input": "2020-09-17T09:23:37.286800Z",
     "iopub.status.busy": "2020-09-17T09:23:37.283762Z",
     "iopub.status.idle": "2020-09-17T09:23:37.293982Z",
     "shell.execute_reply": "2020-09-17T09:23:37.294559Z"
    },
    "papermill": {
     "duration": 0.034796,
     "end_time": "2020-09-17T09:23:37.294702",
     "exception": false,
     "start_time": "2020-09-17T09:23:37.259906",
     "status": "completed"
    },
    "tags": []
   },
   "outputs": [],
   "source": [
    "#hide\n",
    "dates = []\n",
    "for i in arr_dates:\n",
    "    if i>='2020-07-01':\n",
    "        dates.append(i)\n",
    "dict = {'states':dates}\n",
    "for i in arr_states:\n",
    "    dict[i] = [0]*len(dates)\n",
    "dft_cases = pd.DataFrame(dict)\n",
    "dft_deaths = pd.DataFrame(dict)\n"
   ]
  },
  {
   "cell_type": "code",
   "execution_count": 6,
   "metadata": {
    "execution": {
     "iopub.execute_input": "2020-09-17T09:23:37.334982Z",
     "iopub.status.busy": "2020-09-17T09:23:37.334378Z",
     "iopub.status.idle": "2020-09-17T09:23:38.505034Z",
     "shell.execute_reply": "2020-09-17T09:23:38.504136Z"
    },
    "papermill": {
     "duration": 1.194619,
     "end_time": "2020-09-17T09:23:38.505264",
     "exception": false,
     "start_time": "2020-09-17T09:23:37.310645",
     "status": "completed"
    },
    "tags": []
   },
   "outputs": [],
   "source": [
    "#hide\n",
    "for i in range(len(dates)):\n",
    "    df1_deaths = df_deaths1.get_group(dates[i])\n",
    "    for j in range(len(df1_deaths.index)):\n",
    "        if df1_deaths.iloc[j,1] in arr_states:\n",
    "            dft_deaths.loc[i,df1_deaths.iloc[j,1]] = df1_deaths.iloc[j,2]\n",
    "dft_deaths = dft_deaths.set_index('states')"
   ]
  },
  {
   "cell_type": "code",
   "execution_count": 7,
   "metadata": {
    "execution": {
     "iopub.execute_input": "2020-09-17T09:23:38.547307Z",
     "iopub.status.busy": "2020-09-17T09:23:38.546701Z",
     "iopub.status.idle": "2020-09-17T09:23:39.701516Z",
     "shell.execute_reply": "2020-09-17T09:23:39.700385Z"
    },
    "papermill": {
     "duration": 1.179621,
     "end_time": "2020-09-17T09:23:39.701675",
     "exception": false,
     "start_time": "2020-09-17T09:23:38.522054",
     "status": "completed"
    },
    "tags": []
   },
   "outputs": [],
   "source": [
    "#hide\n",
    "for i in range(len(dates)):\n",
    "    df1_cases = df_cases1.get_group(dates[i])\n",
    "    for j in range(len(df1_cases.index)):\n",
    "        if df1_cases.iloc[j,1] in arr_states:\n",
    "            dft_cases.loc[i,df1_cases.iloc[j,1]] = df1_cases.iloc[j,2]\n",
    "dft_cases = dft_cases.set_index('states')"
   ]
  },
  {
   "cell_type": "code",
   "execution_count": 8,
   "metadata": {
    "execution": {
     "iopub.execute_input": "2020-09-17T09:23:39.741239Z",
     "iopub.status.busy": "2020-09-17T09:23:39.739608Z",
     "iopub.status.idle": "2020-09-17T09:23:39.742058Z",
     "shell.execute_reply": "2020-09-17T09:23:39.742627Z"
    },
    "papermill": {
     "duration": 0.024433,
     "end_time": "2020-09-17T09:23:39.742798",
     "exception": false,
     "start_time": "2020-09-17T09:23:39.718365",
     "status": "completed"
    },
    "tags": []
   },
   "outputs": [],
   "source": [
    "#hide\n",
    "dft_cases = dft_cases.T\n",
    "dft_deaths = dft_deaths.T\n",
    "dt_today = dates[-1]\n",
    "dt_yday = dates[-2]"
   ]
  },
  {
   "cell_type": "code",
   "execution_count": 9,
   "metadata": {
    "execution": {
     "iopub.execute_input": "2020-09-17T09:23:39.785274Z",
     "iopub.status.busy": "2020-09-17T09:23:39.782153Z",
     "iopub.status.idle": "2020-09-17T09:23:39.787957Z",
     "shell.execute_reply": "2020-09-17T09:23:39.787431Z"
    },
    "papermill": {
     "duration": 0.029355,
     "end_time": "2020-09-17T09:23:39.788086",
     "exception": false,
     "start_time": "2020-09-17T09:23:39.758731",
     "status": "completed"
    },
    "tags": []
   },
   "outputs": [],
   "source": [
    "#hide\n",
    "dft_cases = dft_cases.reset_index()\n",
    "dft_deaths = dft_deaths.reset_index()\n",
    "dft_cases = dft_cases.rename(columns = {'index':'state'})\n",
    "dft_deaths = dft_deaths.rename(columns = {'index':'state'})"
   ]
  },
  {
   "cell_type": "code",
   "execution_count": 10,
   "metadata": {
    "execution": {
     "iopub.execute_input": "2020-09-17T09:23:39.831732Z",
     "iopub.status.busy": "2020-09-17T09:23:39.831128Z",
     "iopub.status.idle": "2020-09-17T09:23:39.832979Z",
     "shell.execute_reply": "2020-09-17T09:23:39.833453Z"
    },
    "papermill": {
     "duration": 0.029547,
     "end_time": "2020-09-17T09:23:39.833601",
     "exception": false,
     "start_time": "2020-09-17T09:23:39.804054",
     "status": "completed"
    },
    "tags": []
   },
   "outputs": [],
   "source": [
    "#hide\n",
    "dfc_cases = dft_cases.groupby('state')[dt_today].sum()\n",
    "dfc_deaths = dft_deaths.groupby('state')[dt_today].sum()\n",
    "dfp_cases = dft_cases.groupby('state')[dt_yday].sum()\n",
    "dfp_deaths = dft_deaths.groupby('state')[dt_yday].sum()"
   ]
  },
  {
   "cell_type": "code",
   "execution_count": 11,
   "metadata": {
    "execution": {
     "iopub.execute_input": "2020-09-17T09:23:39.880235Z",
     "iopub.status.busy": "2020-09-17T09:23:39.879634Z",
     "iopub.status.idle": "2020-09-17T09:23:39.886702Z",
     "shell.execute_reply": "2020-09-17T09:23:39.887183Z"
    },
    "papermill": {
     "duration": 0.036761,
     "end_time": "2020-09-17T09:23:39.887323",
     "exception": false,
     "start_time": "2020-09-17T09:23:39.850562",
     "status": "completed"
    },
    "tags": []
   },
   "outputs": [
    {
     "data": {
      "text/html": [
       "<div>\n",
       "<style scoped>\n",
       "    .dataframe tbody tr th:only-of-type {\n",
       "        vertical-align: middle;\n",
       "    }\n",
       "\n",
       "    .dataframe tbody tr th {\n",
       "        vertical-align: top;\n",
       "    }\n",
       "\n",
       "    .dataframe thead th {\n",
       "        text-align: right;\n",
       "    }\n",
       "</style>\n",
       "<table border=\"1\" class=\"dataframe\">\n",
       "  <thead>\n",
       "    <tr style=\"text-align: right;\">\n",
       "      <th></th>\n",
       "      <th>states</th>\n",
       "      <th>Cases</th>\n",
       "      <th>Deaths</th>\n",
       "      <th>PCases</th>\n",
       "      <th>PDeaths</th>\n",
       "    </tr>\n",
       "  </thead>\n",
       "  <tbody>\n",
       "    <tr>\n",
       "      <th>0</th>\n",
       "      <td>Maharashtra</td>\n",
       "      <td>1121221</td>\n",
       "      <td>30883</td>\n",
       "      <td>1121221</td>\n",
       "      <td>30883</td>\n",
       "    </tr>\n",
       "    <tr>\n",
       "      <th>1</th>\n",
       "      <td>Andhra Pradesh</td>\n",
       "      <td>592760</td>\n",
       "      <td>5105</td>\n",
       "      <td>592760</td>\n",
       "      <td>5105</td>\n",
       "    </tr>\n",
       "    <tr>\n",
       "      <th>2</th>\n",
       "      <td>Tamil Nadu</td>\n",
       "      <td>519860</td>\n",
       "      <td>8559</td>\n",
       "      <td>519860</td>\n",
       "      <td>8559</td>\n",
       "    </tr>\n",
       "    <tr>\n",
       "      <th>3</th>\n",
       "      <td>Karnataka</td>\n",
       "      <td>484990</td>\n",
       "      <td>7536</td>\n",
       "      <td>484990</td>\n",
       "      <td>7536</td>\n",
       "    </tr>\n",
       "    <tr>\n",
       "      <th>4</th>\n",
       "      <td>Uttar Pradesh</td>\n",
       "      <td>330265</td>\n",
       "      <td>4690</td>\n",
       "      <td>330265</td>\n",
       "      <td>4690</td>\n",
       "    </tr>\n",
       "  </tbody>\n",
       "</table>\n",
       "</div>"
      ],
      "text/plain": [
       "           states    Cases  Deaths   PCases  PDeaths\n",
       "0     Maharashtra  1121221   30883  1121221    30883\n",
       "1  Andhra Pradesh   592760    5105   592760     5105\n",
       "2      Tamil Nadu   519860    8559   519860     8559\n",
       "3       Karnataka   484990    7536   484990     7536\n",
       "4   Uttar Pradesh   330265    4690   330265     4690"
      ]
     },
     "execution_count": 11,
     "metadata": {},
     "output_type": "execute_result"
    }
   ],
   "source": [
    "#hide\n",
    "df_table = pd.DataFrame({'states': dfc_cases.index, 'Cases': dfc_cases.values, 'Deaths': dfc_deaths.values, 'PCases': dfp_cases.values, 'PDeaths': dfp_deaths.values}).set_index('states')\n",
    "df_table = df_table.sort_values(by = ['Cases','Deaths'], ascending = [False, False])\n",
    "df_table = df_table.reset_index()\n",
    "df_table.head()"
   ]
  },
  {
   "cell_type": "code",
   "execution_count": 12,
   "metadata": {
    "execution": {
     "iopub.execute_input": "2020-09-17T09:23:39.925618Z",
     "iopub.status.busy": "2020-09-17T09:23:39.925001Z",
     "iopub.status.idle": "2020-09-17T09:23:39.933206Z",
     "shell.execute_reply": "2020-09-17T09:23:39.933686Z"
    },
    "papermill": {
     "duration": 0.03011,
     "end_time": "2020-09-17T09:23:39.933831",
     "exception": false,
     "start_time": "2020-09-17T09:23:39.903721",
     "status": "completed"
    },
    "tags": []
   },
   "outputs": [],
   "source": [
    "#hide\n",
    "for c in 'Cases, Deaths'.split(', '):\n",
    "    df_table[f'{c} (+)'] = (df_table[c] - df_table[f'P{c}']).clip(0)\n",
    "df_table['Fatality Rate'] = (100* df_table['Deaths']/ df_table['Cases']).round(2)"
   ]
  },
  {
   "cell_type": "code",
   "execution_count": 13,
   "metadata": {
    "execution": {
     "iopub.execute_input": "2020-09-17T09:23:39.978098Z",
     "iopub.status.busy": "2020-09-17T09:23:39.977490Z",
     "iopub.status.idle": "2020-09-17T09:23:39.980079Z",
     "shell.execute_reply": "2020-09-17T09:23:39.980590Z"
    },
    "papermill": {
     "duration": 0.03027,
     "end_time": "2020-09-17T09:23:39.980728",
     "exception": false,
     "start_time": "2020-09-17T09:23:39.950458",
     "status": "completed"
    },
    "tags": []
   },
   "outputs": [
    {
     "data": {
      "text/html": [
       "<div>\n",
       "<style scoped>\n",
       "    .dataframe tbody tr th:only-of-type {\n",
       "        vertical-align: middle;\n",
       "    }\n",
       "\n",
       "    .dataframe tbody tr th {\n",
       "        vertical-align: top;\n",
       "    }\n",
       "\n",
       "    .dataframe thead th {\n",
       "        text-align: right;\n",
       "    }\n",
       "</style>\n",
       "<table border=\"1\" class=\"dataframe\">\n",
       "  <thead>\n",
       "    <tr style=\"text-align: right;\">\n",
       "      <th></th>\n",
       "      <th>states</th>\n",
       "      <th>Cases</th>\n",
       "      <th>Deaths</th>\n",
       "      <th>PCases</th>\n",
       "      <th>PDeaths</th>\n",
       "      <th>Cases (+)</th>\n",
       "      <th>Deaths (+)</th>\n",
       "      <th>Fatality Rate</th>\n",
       "    </tr>\n",
       "  </thead>\n",
       "  <tbody>\n",
       "    <tr>\n",
       "      <th>0</th>\n",
       "      <td>Maharashtra</td>\n",
       "      <td>1121221</td>\n",
       "      <td>30883</td>\n",
       "      <td>1121221</td>\n",
       "      <td>30883</td>\n",
       "      <td>0</td>\n",
       "      <td>0</td>\n",
       "      <td>2.75</td>\n",
       "    </tr>\n",
       "    <tr>\n",
       "      <th>1</th>\n",
       "      <td>Andhra Pradesh</td>\n",
       "      <td>592760</td>\n",
       "      <td>5105</td>\n",
       "      <td>592760</td>\n",
       "      <td>5105</td>\n",
       "      <td>0</td>\n",
       "      <td>0</td>\n",
       "      <td>0.86</td>\n",
       "    </tr>\n",
       "    <tr>\n",
       "      <th>2</th>\n",
       "      <td>Tamil Nadu</td>\n",
       "      <td>519860</td>\n",
       "      <td>8559</td>\n",
       "      <td>519860</td>\n",
       "      <td>8559</td>\n",
       "      <td>0</td>\n",
       "      <td>0</td>\n",
       "      <td>1.65</td>\n",
       "    </tr>\n",
       "    <tr>\n",
       "      <th>3</th>\n",
       "      <td>Karnataka</td>\n",
       "      <td>484990</td>\n",
       "      <td>7536</td>\n",
       "      <td>484990</td>\n",
       "      <td>7536</td>\n",
       "      <td>0</td>\n",
       "      <td>0</td>\n",
       "      <td>1.55</td>\n",
       "    </tr>\n",
       "    <tr>\n",
       "      <th>4</th>\n",
       "      <td>Uttar Pradesh</td>\n",
       "      <td>330265</td>\n",
       "      <td>4690</td>\n",
       "      <td>330265</td>\n",
       "      <td>4690</td>\n",
       "      <td>0</td>\n",
       "      <td>0</td>\n",
       "      <td>1.42</td>\n",
       "    </tr>\n",
       "  </tbody>\n",
       "</table>\n",
       "</div>"
      ],
      "text/plain": [
       "           states    Cases  Deaths   PCases  PDeaths  Cases (+)  Deaths (+)  \\\n",
       "0     Maharashtra  1121221   30883  1121221    30883          0           0   \n",
       "1  Andhra Pradesh   592760    5105   592760     5105          0           0   \n",
       "2      Tamil Nadu   519860    8559   519860     8559          0           0   \n",
       "3       Karnataka   484990    7536   484990     7536          0           0   \n",
       "4   Uttar Pradesh   330265    4690   330265     4690          0           0   \n",
       "\n",
       "   Fatality Rate  \n",
       "0           2.75  \n",
       "1           0.86  \n",
       "2           1.65  \n",
       "3           1.55  \n",
       "4           1.42  "
      ]
     },
     "execution_count": 13,
     "metadata": {},
     "output_type": "execute_result"
    }
   ],
   "source": [
    "#hide\n",
    "df_table.head()"
   ]
  },
  {
   "cell_type": "code",
   "execution_count": 14,
   "metadata": {
    "execution": {
     "iopub.execute_input": "2020-09-17T09:23:40.020915Z",
     "iopub.status.busy": "2020-09-17T09:23:40.020321Z",
     "iopub.status.idle": "2020-09-17T09:23:40.036810Z",
     "shell.execute_reply": "2020-09-17T09:23:40.036298Z"
    },
    "papermill": {
     "duration": 0.039036,
     "end_time": "2020-09-17T09:23:40.036936",
     "exception": false,
     "start_time": "2020-09-17T09:23:39.997900",
     "status": "completed"
    },
    "tags": []
   },
   "outputs": [
    {
     "data": {
      "text/plain": [
       "{'updated': '2020-09-17',\n",
       " 'since': '2020-09-16',\n",
       " 'Cases': 5122846,\n",
       " 'PCases': 5115893,\n",
       " 'Deaths': 83257,\n",
       " 'PDeaths': 83230,\n",
       " 'Cases (+)': 6953,\n",
       " 'Deaths (+)': 27}"
      ]
     },
     "execution_count": 14,
     "metadata": {},
     "output_type": "execute_result"
    }
   ],
   "source": [
    "#hide\n",
    "summary = {'updated':dates[-1], 'since':dates[-2]}\n",
    "list_names = ['Cases', 'PCases', 'Deaths', 'PDeaths', 'Cases (+)', 'Deaths (+)']\n",
    "for name in list_names:\n",
    "    summary[name] = df_table.sum()[name]\n",
    "summary"
   ]
  },
  {
   "cell_type": "code",
   "execution_count": 15,
   "metadata": {
    "execution": {
     "iopub.execute_input": "2020-09-17T09:23:40.077155Z",
     "iopub.status.busy": "2020-09-17T09:23:40.076539Z",
     "iopub.status.idle": "2020-09-17T09:23:40.079182Z",
     "shell.execute_reply": "2020-09-17T09:23:40.078700Z"
    },
    "papermill": {
     "duration": 0.024801,
     "end_time": "2020-09-17T09:23:40.079311",
     "exception": false,
     "start_time": "2020-09-17T09:23:40.054510",
     "status": "completed"
    },
    "tags": []
   },
   "outputs": [],
   "source": [
    "#hide\n",
    "overview = '''\n",
    "<!-- #######  HTML!! #########-->\n",
    "<h1 style=\"color: #5e9ca0; text-align: center;\">India</h1>\n",
    "<p style=\"text-align: center;\">Last update: <strong>{update}</strong></p>\n",
    "<p style=\"text-align: center;\">Confirmed cases:</p>\n",
    "<p style=\"text-align: center;font-size:24px;\">{cases} (<span style=\"color: #ff0000;\">+{new}</span>)</p>\n",
    "<p style=\"text-align: center;\">Confirmed deaths:</p>\n",
    "<p style=\"text-align: center;font-size:24px;\">{deaths} (<span style=\"color: #ff0000;\">+{dnew}</span>)</p>\n",
    "'''"
   ]
  },
  {
   "cell_type": "code",
   "execution_count": 16,
   "metadata": {
    "execution": {
     "iopub.execute_input": "2020-09-17T09:23:40.122077Z",
     "iopub.status.busy": "2020-09-17T09:23:40.121452Z",
     "iopub.status.idle": "2020-09-17T09:23:40.125239Z",
     "shell.execute_reply": "2020-09-17T09:23:40.125878Z"
    },
    "papermill": {
     "duration": 0.029576,
     "end_time": "2020-09-17T09:23:40.126030",
     "exception": false,
     "start_time": "2020-09-17T09:23:40.096454",
     "status": "completed"
    },
    "tags": []
   },
   "outputs": [
    {
     "data": {
      "text/html": [
       "\n",
       "<!-- #######  HTML!! #########-->\n",
       "<h1 style=\"color: #5e9ca0; text-align: center;\">India</h1>\n",
       "<p style=\"text-align: center;\">Last update: <strong>2020-09-17</strong></p>\n",
       "<p style=\"text-align: center;\">Confirmed cases:</p>\n",
       "<p style=\"text-align: center;font-size:24px;\">5122846 (<span style=\"color: #ff0000;\">+6953</span>)</p>\n",
       "<p style=\"text-align: center;\">Confirmed deaths:</p>\n",
       "<p style=\"text-align: center;font-size:24px;\">83257 (<span style=\"color: #ff0000;\">+27</span>)</p>\n"
      ],
      "text/plain": [
       "<IPython.core.display.HTML object>"
      ]
     },
     "metadata": {},
     "output_type": "display_data"
    }
   ],
   "source": [
    "#hide_input\n",
    "update = summary['updated']\n",
    "cases = summary['Cases']\n",
    "new = summary['Cases (+)']\n",
    "deaths = summary['Deaths']\n",
    "dnew = summary['Deaths (+)']\n",
    "\n",
    "html = HTML(overview.format(update=update, cases=cases,new=new,deaths=deaths,dnew=dnew))\n",
    "\n",
    "display(html)"
   ]
  },
  {
   "cell_type": "code",
   "execution_count": 17,
   "metadata": {
    "execution": {
     "iopub.execute_input": "2020-09-17T09:23:40.170483Z",
     "iopub.status.busy": "2020-09-17T09:23:40.169809Z",
     "iopub.status.idle": "2020-09-17T09:23:40.176566Z",
     "shell.execute_reply": "2020-09-17T09:23:40.176081Z"
    },
    "papermill": {
     "duration": 0.032925,
     "end_time": "2020-09-17T09:23:40.176699",
     "exception": false,
     "start_time": "2020-09-17T09:23:40.143774",
     "status": "completed"
    },
    "tags": []
   },
   "outputs": [],
   "source": [
    "#hide\n",
    "dt_cols = list(dft_cases.columns[1:])\n",
    "dft_ct_new_cases = dft_cases.groupby('state')[dt_cols].sum().diff(axis=1).fillna(0).astype(int)\n",
    "dft_ct_new_cases.sort_values(by = dates[-1], ascending = False,inplace = True)"
   ]
  },
  {
   "cell_type": "code",
   "execution_count": 18,
   "metadata": {
    "execution": {
     "iopub.execute_input": "2020-09-17T09:23:40.231995Z",
     "iopub.status.busy": "2020-09-17T09:23:40.231357Z",
     "iopub.status.idle": "2020-09-17T09:23:40.234321Z",
     "shell.execute_reply": "2020-09-17T09:23:40.234808Z"
    },
    "papermill": {
     "duration": 0.040178,
     "end_time": "2020-09-17T09:23:40.234962",
     "exception": false,
     "start_time": "2020-09-17T09:23:40.194784",
     "status": "completed"
    },
    "tags": []
   },
   "outputs": [
    {
     "data": {
      "text/html": [
       "<div>\n",
       "<style scoped>\n",
       "    .dataframe tbody tr th:only-of-type {\n",
       "        vertical-align: middle;\n",
       "    }\n",
       "\n",
       "    .dataframe tbody tr th {\n",
       "        vertical-align: top;\n",
       "    }\n",
       "\n",
       "    .dataframe thead th {\n",
       "        text-align: right;\n",
       "    }\n",
       "</style>\n",
       "<table border=\"1\" class=\"dataframe\">\n",
       "  <thead>\n",
       "    <tr style=\"text-align: right;\">\n",
       "      <th>states</th>\n",
       "      <th>2020-07-01</th>\n",
       "      <th>2020-07-02</th>\n",
       "      <th>2020-07-03</th>\n",
       "      <th>2020-07-04</th>\n",
       "      <th>2020-07-05</th>\n",
       "      <th>2020-07-06</th>\n",
       "      <th>2020-07-07</th>\n",
       "      <th>2020-07-08</th>\n",
       "      <th>2020-07-09</th>\n",
       "      <th>2020-07-10</th>\n",
       "      <th>...</th>\n",
       "      <th>2020-09-08</th>\n",
       "      <th>2020-09-09</th>\n",
       "      <th>2020-09-10</th>\n",
       "      <th>2020-09-11</th>\n",
       "      <th>2020-09-12</th>\n",
       "      <th>2020-09-13</th>\n",
       "      <th>2020-09-14</th>\n",
       "      <th>2020-09-15</th>\n",
       "      <th>2020-09-16</th>\n",
       "      <th>2020-09-17</th>\n",
       "    </tr>\n",
       "    <tr>\n",
       "      <th>state</th>\n",
       "      <th></th>\n",
       "      <th></th>\n",
       "      <th></th>\n",
       "      <th></th>\n",
       "      <th></th>\n",
       "      <th></th>\n",
       "      <th></th>\n",
       "      <th></th>\n",
       "      <th></th>\n",
       "      <th></th>\n",
       "      <th></th>\n",
       "      <th></th>\n",
       "      <th></th>\n",
       "      <th></th>\n",
       "      <th></th>\n",
       "      <th></th>\n",
       "      <th></th>\n",
       "      <th></th>\n",
       "      <th></th>\n",
       "      <th></th>\n",
       "      <th></th>\n",
       "    </tr>\n",
       "  </thead>\n",
       "  <tbody>\n",
       "    <tr>\n",
       "      <th>Odisha</th>\n",
       "      <td>0</td>\n",
       "      <td>229</td>\n",
       "      <td>561</td>\n",
       "      <td>495</td>\n",
       "      <td>469</td>\n",
       "      <td>456</td>\n",
       "      <td>571</td>\n",
       "      <td>527</td>\n",
       "      <td>577</td>\n",
       "      <td>755</td>\n",
       "      <td>...</td>\n",
       "      <td>3490</td>\n",
       "      <td>3748</td>\n",
       "      <td>3991</td>\n",
       "      <td>3996</td>\n",
       "      <td>3777</td>\n",
       "      <td>3913</td>\n",
       "      <td>4198</td>\n",
       "      <td>3645</td>\n",
       "      <td>4270</td>\n",
       "      <td>4241</td>\n",
       "    </tr>\n",
       "    <tr>\n",
       "      <th>Telangana</th>\n",
       "      <td>0</td>\n",
       "      <td>1213</td>\n",
       "      <td>1892</td>\n",
       "      <td>1850</td>\n",
       "      <td>1590</td>\n",
       "      <td>1831</td>\n",
       "      <td>1879</td>\n",
       "      <td>1924</td>\n",
       "      <td>1410</td>\n",
       "      <td>1278</td>\n",
       "      <td>...</td>\n",
       "      <td>2392</td>\n",
       "      <td>2479</td>\n",
       "      <td>2534</td>\n",
       "      <td>2426</td>\n",
       "      <td>2278</td>\n",
       "      <td>2216</td>\n",
       "      <td>1417</td>\n",
       "      <td>2058</td>\n",
       "      <td>2273</td>\n",
       "      <td>2159</td>\n",
       "    </tr>\n",
       "    <tr>\n",
       "      <th>Tripura</th>\n",
       "      <td>0</td>\n",
       "      <td>39</td>\n",
       "      <td>93</td>\n",
       "      <td>25</td>\n",
       "      <td>23</td>\n",
       "      <td>111</td>\n",
       "      <td>24</td>\n",
       "      <td>57</td>\n",
       "      <td>16</td>\n",
       "      <td>142</td>\n",
       "      <td>...</td>\n",
       "      <td>628</td>\n",
       "      <td>582</td>\n",
       "      <td>535</td>\n",
       "      <td>559</td>\n",
       "      <td>470</td>\n",
       "      <td>629</td>\n",
       "      <td>255</td>\n",
       "      <td>531</td>\n",
       "      <td>454</td>\n",
       "      <td>527</td>\n",
       "    </tr>\n",
       "    <tr>\n",
       "      <th>Mizoram</th>\n",
       "      <td>0</td>\n",
       "      <td>2</td>\n",
       "      <td>0</td>\n",
       "      <td>2</td>\n",
       "      <td>22</td>\n",
       "      <td>11</td>\n",
       "      <td>1</td>\n",
       "      <td>5</td>\n",
       "      <td>0</td>\n",
       "      <td>23</td>\n",
       "      <td>...</td>\n",
       "      <td>9</td>\n",
       "      <td>69</td>\n",
       "      <td>141</td>\n",
       "      <td>20</td>\n",
       "      <td>26</td>\n",
       "      <td>35</td>\n",
       "      <td>14</td>\n",
       "      <td>40</td>\n",
       "      <td>12</td>\n",
       "      <td>26</td>\n",
       "    </tr>\n",
       "    <tr>\n",
       "      <th>Andaman and Nicobar Islands</th>\n",
       "      <td>0</td>\n",
       "      <td>9</td>\n",
       "      <td>7</td>\n",
       "      <td>3</td>\n",
       "      <td>6</td>\n",
       "      <td>16</td>\n",
       "      <td>6</td>\n",
       "      <td>2</td>\n",
       "      <td>7</td>\n",
       "      <td>0</td>\n",
       "      <td>...</td>\n",
       "      <td>33</td>\n",
       "      <td>34</td>\n",
       "      <td>39</td>\n",
       "      <td>29</td>\n",
       "      <td>27</td>\n",
       "      <td>25</td>\n",
       "      <td>11</td>\n",
       "      <td>17</td>\n",
       "      <td>19</td>\n",
       "      <td>0</td>\n",
       "    </tr>\n",
       "  </tbody>\n",
       "</table>\n",
       "<p>5 rows × 79 columns</p>\n",
       "</div>"
      ],
      "text/plain": [
       "states                       2020-07-01  2020-07-02  2020-07-03  2020-07-04  \\\n",
       "state                                                                         \n",
       "Odisha                                0         229         561         495   \n",
       "Telangana                             0        1213        1892        1850   \n",
       "Tripura                               0          39          93          25   \n",
       "Mizoram                               0           2           0           2   \n",
       "Andaman and Nicobar Islands           0           9           7           3   \n",
       "\n",
       "states                       2020-07-05  2020-07-06  2020-07-07  2020-07-08  \\\n",
       "state                                                                         \n",
       "Odisha                              469         456         571         527   \n",
       "Telangana                          1590        1831        1879        1924   \n",
       "Tripura                              23         111          24          57   \n",
       "Mizoram                              22          11           1           5   \n",
       "Andaman and Nicobar Islands           6          16           6           2   \n",
       "\n",
       "states                       2020-07-09  2020-07-10  ...  2020-09-08  \\\n",
       "state                                                ...               \n",
       "Odisha                              577         755  ...        3490   \n",
       "Telangana                          1410        1278  ...        2392   \n",
       "Tripura                              16         142  ...         628   \n",
       "Mizoram                               0          23  ...           9   \n",
       "Andaman and Nicobar Islands           7           0  ...          33   \n",
       "\n",
       "states                       2020-09-09  2020-09-10  2020-09-11  2020-09-12  \\\n",
       "state                                                                         \n",
       "Odisha                             3748        3991        3996        3777   \n",
       "Telangana                          2479        2534        2426        2278   \n",
       "Tripura                             582         535         559         470   \n",
       "Mizoram                              69         141          20          26   \n",
       "Andaman and Nicobar Islands          34          39          29          27   \n",
       "\n",
       "states                       2020-09-13  2020-09-14  2020-09-15  2020-09-16  \\\n",
       "state                                                                         \n",
       "Odisha                             3913        4198        3645        4270   \n",
       "Telangana                          2216        1417        2058        2273   \n",
       "Tripura                             629         255         531         454   \n",
       "Mizoram                              35          14          40          12   \n",
       "Andaman and Nicobar Islands          25          11          17          19   \n",
       "\n",
       "states                       2020-09-17  \n",
       "state                                    \n",
       "Odisha                             4241  \n",
       "Telangana                          2159  \n",
       "Tripura                             527  \n",
       "Mizoram                              26  \n",
       "Andaman and Nicobar Islands           0  \n",
       "\n",
       "[5 rows x 79 columns]"
      ]
     },
     "execution_count": 18,
     "metadata": {},
     "output_type": "execute_result"
    }
   ],
   "source": [
    "#hide\n",
    "dft_ct_new_cases.head()"
   ]
  },
  {
   "cell_type": "code",
   "execution_count": 19,
   "metadata": {
    "execution": {
     "iopub.execute_input": "2020-09-17T09:23:40.286524Z",
     "iopub.status.busy": "2020-09-17T09:23:40.280347Z",
     "iopub.status.idle": "2020-09-17T09:23:43.901366Z",
     "shell.execute_reply": "2020-09-17T09:23:43.901870Z"
    },
    "papermill": {
     "duration": 3.648517,
     "end_time": "2020-09-17T09:23:43.902039",
     "exception": false,
     "start_time": "2020-09-17T09:23:40.253522",
     "status": "completed"
    },
    "tags": []
   },
   "outputs": [
    {
     "data": {
      "image/png": "[encoded data removed]",
      "text/plain": [
       "<Figure size 1296x2016 with 11 Axes>"
      ]
     },
     "metadata": {
      "needs_background": "light"
     },
     "output_type": "display_data"
    }
   ],
   "source": [
    "#hide_input\n",
    "df = dft_ct_new_cases.copy()\n",
    "df.loc['Total'] = df.sum()\n",
    "n = 5\n",
    "ax = []\n",
    "fig = plt.figure(figsize = (18,28))\n",
    "gs = fig.add_gridspec(n+2, 5)\n",
    "# gs = fig.add_gridspec(2, 3)\n",
    "ax1 = fig.add_subplot(gs[0, :])\n",
    "ef = df.loc['Total'].rename_axis('date').reset_index()\n",
    "ef['date'] = ef['date'].astype('datetime64[ns]')\n",
    "ax1.bar(ef.date,ef.Total,alpha=0.3,color='#007acc')\n",
    "ax1.plot(ef.date,ef.Total , marker=\"o\", color='#007acc')\n",
    "ax1.xaxis.set_major_locator(mdates.WeekdayLocator())\n",
    "ax1.xaxis.set_major_formatter(mdates.DateFormatter('%b %d'))\n",
    "ax1.text(0.02, 0.5,'India daily case count', transform = ax1.transAxes, fontsize=25);\n",
    "ax1.spines['right'].set_visible(False)\n",
    "ax1.spines['top'].set_visible(False)\n",
    "\n",
    "ax2 = fig.add_subplot(gs[1,0])\n",
    "ef = df.loc['Maharashtra'].rename_axis('date').reset_index()\n",
    "ef['date'] = ef['date'].astype('datetime64[ns]')\n",
    "\n",
    "ax2.bar(ef.date, ef.Maharashtra,color = '#007acc',alpha=0.5)\n",
    "ax2.xaxis.set_major_locator(mdates.WeekdayLocator())\n",
    "ax2.xaxis.set_major_formatter(mdates.DateFormatter('%b %d'))\n",
    "ax2.set_xticks(ax2.get_xticks()[::3])\n",
    "maxyval = ef.Maharashtra.max()\n",
    "ax2.set_ylim([0,maxyval])\n",
    "ax2.text(0.05, 0.9,'Maharashtra', transform = ax2.transAxes, fontsize=20);\n",
    "ax2.spines['right'].set_visible(False)\n",
    "ax2.spines['top'].set_visible(False)\n",
    "\n",
    "\n",
    "ax3 = fig.add_subplot(gs[1,1])\n",
    "ef = df.loc['Tamil Nadu'].rename_axis('date').reset_index()\n",
    "ef['date'] = ef['date'].astype('datetime64[ns]')\n",
    "ax3.bar(ef.date, ef['Tamil Nadu'],color = '#007acc',alpha=0.5,)\n",
    "ax3.xaxis.set_major_locator(mdates.WeekdayLocator())\n",
    "ax3.xaxis.set_major_formatter(mdates.DateFormatter('%b %d'))\n",
    "ax3.set_xticks(ax3.get_xticks()[::3])\n",
    "ax3.text(0.05, 0.9,'Tamil Nadu', transform = ax3.transAxes, fontsize=20);\n",
    "ax3.spines['right'].set_visible(False)\n",
    "ax3.spines['top'].set_visible(False)\n",
    "\n",
    "ax5 = fig.add_subplot(gs[1,3])\n",
    "ef = df.loc['Telangana'].rename_axis('date').reset_index()\n",
    "ef['date'] = ef['date'].astype('datetime64[ns]')\n",
    "ax5.bar(ef.date, ef['Telangana'],color = '#007acc',alpha=0.5,)\n",
    "ax5.xaxis.set_major_locator(mdates.WeekdayLocator())\n",
    "ax5.xaxis.set_major_formatter(mdates.DateFormatter('%b %d'))\n",
    "ax5.set_xticks(ax5.get_xticks()[::3])\n",
    "ax5.text(0.05, 0.9,'Telangana', transform = ax5.transAxes, fontsize=20);\n",
    "ax5.spines['right'].set_visible(False)\n",
    "ax5.spines['top'].set_visible(False)\n",
    "\n",
    "ax6 = fig.add_subplot(gs[1,4])\n",
    "ef = df.loc['Andhra Pradesh'].rename_axis('date').reset_index()\n",
    "ef['date'] = ef['date'].astype('datetime64[ns]')\n",
    "ax6.bar(ef.date, ef['Andhra Pradesh'],color = '#007acc',alpha=0.5,)\n",
    "ax6.xaxis.set_major_locator(mdates.WeekdayLocator())\n",
    "ax6.xaxis.set_major_formatter(mdates.DateFormatter('%b %d'))\n",
    "ax6.set_xticks(ax6.get_xticks()[::3])\n",
    "ax6.text(0.05, 1,'Andhra Pradesh', transform = ax6.transAxes, fontsize=20);\n",
    "ax6.spines['right'].set_visible(False)\n",
    "ax6.spines['top'].set_visible(False)\n",
    "\n",
    "ax4 = fig.add_subplot(gs[1,2])\n",
    "ef = df.loc['Delhi'].rename_axis('date').reset_index()\n",
    "ef['date'] = ef['date'].astype('datetime64[ns]')\n",
    "ax4.bar(ef.date, ef.Delhi,color = '#007acc',alpha=0.5)\n",
    "ax4.set_xticks([])\n",
    "ax4.xaxis.set_major_locator(mdates.WeekdayLocator())\n",
    "ax4.xaxis.set_major_formatter(mdates.DateFormatter('%b %d'))\n",
    "ax4.set_xticks(ax4.get_xticks()[::3])\n",
    "ax4.spines['right'].set_visible(False)\n",
    "ax4.spines['top'].set_visible(False)\n",
    "\n",
    "ax4.text(0.05, 1,'Delhi', transform = ax4.transAxes, fontsize=20)\n",
    "\n",
    "for i in range(n):\n",
    "    \n",
    "    ax.append(fig.add_subplot(gs[i+2,:]))\n",
    "    ef = df.iloc[i+3].rename_axis('date').reset_index()\n",
    "    ef['date'] = ef['date'].astype('datetime64[ns]')\n",
    "    ax[i].bar(ef.date,ef.iloc[:,-1],color = '#007acc',alpha=0.3)\n",
    "    ax[i].plot(ef.date,ef.iloc[:,-1],marker='o',color='#007acc')\n",
    "    ax[i].text(0.02,0.5,f'{ef.columns.values[-1]}',transform = ax[i].transAxes, fontsize = 20);\n",
    "    ax[i].xaxis.set_major_locator(mdates.WeekdayLocator())\n",
    "    ax[i].xaxis.set_major_formatter(mdates.DateFormatter('%b %d'))\n",
    "    ax[i].set_ylim([0,7000])\n",
    "    ax[i].spines['right'].set_visible(False)\n",
    "    ax[i].spines['top'].set_visible(False)\n",
    "plt.tight_layout()\n"
   ]
  },
  {
   "cell_type": "code",
   "execution_count": 20,
   "metadata": {
    "execution": {
     "iopub.execute_input": "2020-09-17T09:23:43.960390Z",
     "iopub.status.busy": "2020-09-17T09:23:43.959745Z",
     "iopub.status.idle": "2020-09-17T09:23:43.964516Z",
     "shell.execute_reply": "2020-09-17T09:23:43.963992Z"
    },
    "papermill": {
     "duration": 0.038673,
     "end_time": "2020-09-17T09:23:43.964649",
     "exception": false,
     "start_time": "2020-09-17T09:23:43.925976",
     "status": "completed"
    },
    "tags": []
   },
   "outputs": [
    {
     "name": "stdout",
     "output_type": "stream",
     "text": [
      "                                   states    Cases  Deaths   PCases  PDeaths  Cases (+)  Deaths (+)  Fatality Rate\n",
      "                              Maharashtra  1121221   30883  1121221    30883          0           0           2.75\n",
      "                           Andhra Pradesh   592760    5105   592760     5105          0           0           0.86\n",
      "                               Tamil Nadu   519860    8559   519860     8559          0           0           1.65\n",
      "                                Karnataka   484990    7536   484990     7536          0           0           1.55\n",
      "                            Uttar Pradesh   330265    4690   330265     4690          0           0           1.42\n",
      "                                    Delhi   230269    4839   230269     4839          0           0           2.10\n",
      "                              West Bengal   212383    4123   212383     4123          0           0           1.94\n",
      "                                   Odisha   167161     722   162920      709       4241          13           0.43\n",
      "                                Telangana   165003    1005   162844      996       2159           9           0.61\n",
      "                                    Bihar   162632     848   162632      848          0           0           0.52\n",
      "                                    Assam   148969     511   148969      511          0           0           0.34\n",
      "                                   Kerala   117864     481   117864      481          0           0           0.41\n",
      "                                  Gujarat   117709    3257   117709     3257          0           0           2.77\n",
      "                                Rajasthan   107680    1279   107680     1279          0           0           1.19\n",
      "                                  Haryana   101316    1045   101316     1045          0           0           1.03\n",
      "                           Madhya Pradesh    95515    1844    95515     1844          0           0           1.93\n",
      "                                   Punjab    87184    2592    87184     2592          0           0           2.97\n",
      "                             Chhattisgarh    73966     611    73966      611          0           0           0.83\n",
      "                                Jharkhand    66074     579    66074      579          0           0           0.88\n",
      "                        Jammu and Kashmir    58244     932    58244      932          0           0           1.60\n",
      "                              Uttarakhand    35947     447    35947      447          0           0           1.24\n",
      "                                      Goa    26139     319    26139      319          0           0           1.22\n",
      "                               Puducherry    21111     418    21111      418          0           0           1.98\n",
      "                                  Tripura    20696     222    20169      217        527           5           1.07\n",
      "                         Himachal Pradesh    10795      90    10795       90          0           0           0.83\n",
      "                               Chandigarh     8958     101     8958      101          0           0           1.13\n",
      "                                  Manipur     8320      48     8320       48          0           0           0.58\n",
      "                        Arunachal Pradesh     6692      13     6692       13          0           0           0.19\n",
      "                                 Nagaland     5263      10     5263       10          0           0           0.19\n",
      "                                Meghalaya     4195      29     4195       29          0           0           0.69\n",
      "              Andaman and Nicobar Islands     3593      52     3593       52          0           0           1.45\n",
      "                                   Ladakh     3535      46     3535       46          0           0           1.30\n",
      " Dadra and Nagar Haveli and Daman and Diu     2810       2     2810        2          0           0           0.07\n",
      "                                   Sikkim     2221      19     2221       19          0           0           0.86\n",
      "                                  Mizoram     1506       0     1480        0         26           0           0.00\n",
      "                              Lakshadweep        0       0        0        0          0           0            NaN\n"
     ]
    }
   ],
   "source": [
    "#hide_input\n",
    "print(df_table.to_string(index=False))"
   ]
  },
  {
   "cell_type": "code",
   "execution_count": null,
   "metadata": {
    "papermill": {
     "duration": 0.024989,
     "end_time": "2020-09-17T09:23:44.013274",
     "exception": false,
     "start_time": "2020-09-17T09:23:43.988285",
     "status": "completed"
    },
    "tags": []
   },
   "outputs": [],
   "source": []
  },
  {
   "cell_type": "code",
   "execution_count": null,
   "metadata": {
    "papermill": {
     "duration": 0.024352,
     "end_time": "2020-09-17T09:23:44.061898",
     "exception": false,
     "start_time": "2020-09-17T09:23:44.037546",
     "status": "completed"
    },
    "tags": []
   },
   "outputs": [],
   "source": []
  }
 ],
 "metadata": {
  "kernelspec": {
   "display_name": "Python 3",
   "language": "python",
   "name": "python3"
  },
  "language_info": {
   "codemirror_mode": {
    "name": "ipython",
    "version": 3
   },
   "file_extension": ".py",
   "mimetype": "text/x-python",
   "name": "python",
   "nbconvert_exporter": "python",
   "pygments_lexer": "ipython3",
   "version": "3.6.12"
  },
  "papermill": {
   "duration": 10.323766,
   "end_time": "2020-09-17T09:23:45.401910",
   "environment_variables": {},
   "exception": null,
   "input_path": "latest.ipynb",
   "output_path": "latest.ipynb",
   "parameters": {},
   "start_time": "2020-09-17T09:23:35.078144",
   "version": "2.1.2"
  }
 },
 "nbformat": 4,
 "nbformat_minor": 4
}