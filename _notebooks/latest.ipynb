{
 "cells": [
  {
   "cell_type": "markdown",
   "metadata": {
    "papermill": {
     "duration": 0.018197,
     "end_time": "2020-10-08T15:24:52.344054",
     "exception": false,
     "start_time": "2020-10-08T15:24:52.325857",
     "status": "completed"
    },
    "tags": []
   },
   "source": [
    "# Latest COVID-19 India Matplotlib Overview"
   ]
  },
  {
   "cell_type": "code",
   "execution_count": 1,
   "metadata": {
    "execution": {
     "iopub.execute_input": "2020-10-08T15:24:52.380964Z",
     "iopub.status.busy": "2020-10-08T15:24:52.380379Z",
     "iopub.status.idle": "2020-10-08T15:24:52.958527Z",
     "shell.execute_reply": "2020-10-08T15:24:52.957971Z"
    },
    "papermill": {
     "duration": 0.599458,
     "end_time": "2020-10-08T15:24:52.958687",
     "exception": false,
     "start_time": "2020-10-08T15:24:52.359229",
     "status": "completed"
    },
    "tags": []
   },
   "outputs": [],
   "source": [
    "#hide\n",
    "import pandas as pd\n",
    "import numpy as np\n",
    "import requests\n",
    "import json\n",
    "import matplotlib.pyplot as plt\n",
    "import matplotlib.dates as mdates\n",
    "import matplotlib as mpl\n",
    "from IPython.core.display import display,HTML\n",
    "%matplotlib inline\n",
    "from datetime import date"
   ]
  },
  {
   "cell_type": "code",
   "execution_count": 2,
   "metadata": {
    "execution": {
     "iopub.execute_input": "2020-10-08T15:24:52.997105Z",
     "iopub.status.busy": "2020-10-08T15:24:52.996414Z",
     "iopub.status.idle": "2020-10-08T15:24:53.119632Z",
     "shell.execute_reply": "2020-10-08T15:24:53.119046Z"
    },
    "papermill": {
     "duration": 0.146366,
     "end_time": "2020-10-08T15:24:53.119768",
     "exception": false,
     "start_time": "2020-10-08T15:24:52.973402",
     "status": "completed"
    },
    "tags": []
   },
   "outputs": [],
   "source": [
    "#hide\n",
    "df  = pd.read_csv('https://api.covid19india.org/csv/latest/states.csv')\n",
    "df = df[['Date','State','Confirmed','Deceased']]\n",
    "df = df.rename(columns={'Confirmed':'Cases', \"Deceased\":'Deaths'})\n",
    "df_cases = df[[\"Date\",'State','Cases']]\n",
    "df_deaths = df[['Date','State','Deaths']]\n",
    "df_cases1 = df_cases.groupby('Date')\n",
    "df_deaths1= df_deaths.groupby('Date')"
   ]
  },
  {
   "cell_type": "code",
   "execution_count": 3,
   "metadata": {
    "execution": {
     "iopub.execute_input": "2020-10-08T15:24:53.154790Z",
     "iopub.status.busy": "2020-10-08T15:24:53.154186Z",
     "iopub.status.idle": "2020-10-08T15:24:53.171584Z",
     "shell.execute_reply": "2020-10-08T15:24:53.171076Z"
    },
    "papermill": {
     "duration": 0.036992,
     "end_time": "2020-10-08T15:24:53.171714",
     "exception": false,
     "start_time": "2020-10-08T15:24:53.134722",
     "status": "completed"
    },
    "tags": []
   },
   "outputs": [],
   "source": [
    "#hide\n",
    "df_snap = pd.read_csv('data/SnapshotCases-28-July.csv')\n",
    "arr_states = df_snap['states'].unique()\n",
    "arr_dates = df['Date'].unique()\n",
    "df_snap = df_snap.set_index('states')"
   ]
  },
  {
   "cell_type": "code",
   "execution_count": 4,
   "metadata": {
    "execution": {
     "iopub.execute_input": "2020-10-08T15:24:53.208690Z",
     "iopub.status.busy": "2020-10-08T15:24:53.207943Z",
     "iopub.status.idle": "2020-10-08T15:24:53.210416Z",
     "shell.execute_reply": "2020-10-08T15:24:53.210892Z"
    },
    "papermill": {
     "duration": 0.024945,
     "end_time": "2020-10-08T15:24:53.211034",
     "exception": false,
     "start_time": "2020-10-08T15:24:53.186089",
     "status": "completed"
    },
    "tags": []
   },
   "outputs": [
    {
     "data": {
      "text/plain": [
       "array(['Andaman and Nicobar Islands', 'Andhra Pradesh',\n",
       "       'Arunachal Pradesh', 'Assam', 'Bihar', 'Chandigarh',\n",
       "       'Dadra and Nagar Haveli and Daman and Diu', 'Delhi', 'Goa',\n",
       "       'Gujarat', 'Haryana', 'Himachal Pradesh', 'Jammu and Kashmir',\n",
       "       'Jharkhand', 'Karnataka', 'Kerala', 'Lakshadweep',\n",
       "       'Madhya Pradesh', 'Maharashtra', 'Manipur', 'Meghalaya', 'Mizoram',\n",
       "       'Nagaland', 'Odisha', 'Puducherry', 'Punjab', 'Rajasthan',\n",
       "       'Sikkim', 'Tamil Nadu', 'Telangana', 'Tripura', 'Uttar Pradesh',\n",
       "       'West Bengal', 'Chhattisgarh', 'Ladakh', 'Uttarakhand'],\n",
       "      dtype=object)"
      ]
     },
     "execution_count": 4,
     "metadata": {},
     "output_type": "execute_result"
    }
   ],
   "source": [
    "#hide\n",
    "arr_states[-9] = 'Puducherry'\n",
    "arr_states[-10] = 'Odisha'\n",
    "arr_states[6] = 'Dadra and Nagar Haveli and Daman and Diu'\n",
    "arr_states = np.append(arr_states,np.array(['Chhattisgarh','Ladakh','Uttarakhand']))\n",
    "arr_states"
   ]
  },
  {
   "cell_type": "code",
   "execution_count": 5,
   "metadata": {
    "execution": {
     "iopub.execute_input": "2020-10-08T15:24:53.253413Z",
     "iopub.status.busy": "2020-10-08T15:24:53.252788Z",
     "iopub.status.idle": "2020-10-08T15:24:53.260417Z",
     "shell.execute_reply": "2020-10-08T15:24:53.259849Z"
    },
    "papermill": {
     "duration": 0.033976,
     "end_time": "2020-10-08T15:24:53.260553",
     "exception": false,
     "start_time": "2020-10-08T15:24:53.226577",
     "status": "completed"
    },
    "tags": []
   },
   "outputs": [],
   "source": [
    "#hide\n",
    "dates = []\n",
    "for i in arr_dates:\n",
    "    if i>='2020-07-01':\n",
    "        dates.append(i)\n",
    "dict = {'states':dates}\n",
    "for i in arr_states:\n",
    "    dict[i] = [0]*len(dates)\n",
    "dft_cases = pd.DataFrame(dict)\n",
    "dft_deaths = pd.DataFrame(dict)\n"
   ]
  },
  {
   "cell_type": "code",
   "execution_count": 6,
   "metadata": {
    "execution": {
     "iopub.execute_input": "2020-10-08T15:24:53.296813Z",
     "iopub.status.busy": "2020-10-08T15:24:53.296180Z",
     "iopub.status.idle": "2020-10-08T15:24:54.634815Z",
     "shell.execute_reply": "2020-10-08T15:24:54.634182Z"
    },
    "papermill": {
     "duration": 1.359629,
     "end_time": "2020-10-08T15:24:54.634984",
     "exception": false,
     "start_time": "2020-10-08T15:24:53.275355",
     "status": "completed"
    },
    "tags": []
   },
   "outputs": [],
   "source": [
    "#hide\n",
    "for i in range(len(dates)):\n",
    "    df1_deaths = df_deaths1.get_group(dates[i])\n",
    "    for j in range(len(df1_deaths.index)):\n",
    "        if df1_deaths.iloc[j,1] in arr_states:\n",
    "            dft_deaths.loc[i,df1_deaths.iloc[j,1]] = df1_deaths.iloc[j,2]\n",
    "dft_deaths = dft_deaths.set_index('states')"
   ]
  },
  {
   "cell_type": "code",
   "execution_count": 7,
   "metadata": {
    "execution": {
     "iopub.execute_input": "2020-10-08T15:24:54.673487Z",
     "iopub.status.busy": "2020-10-08T15:24:54.672913Z",
     "iopub.status.idle": "2020-10-08T15:24:55.984853Z",
     "shell.execute_reply": "2020-10-08T15:24:55.984287Z"
    },
    "papermill": {
     "duration": 1.333855,
     "end_time": "2020-10-08T15:24:55.985002",
     "exception": false,
     "start_time": "2020-10-08T15:24:54.651147",
     "status": "completed"
    },
    "tags": []
   },
   "outputs": [],
   "source": [
    "#hide\n",
    "for i in range(len(dates)):\n",
    "    df1_cases = df_cases1.get_group(dates[i])\n",
    "    for j in range(len(df1_cases.index)):\n",
    "        if df1_cases.iloc[j,1] in arr_states:\n",
    "            dft_cases.loc[i,df1_cases.iloc[j,1]] = df1_cases.iloc[j,2]\n",
    "dft_cases = dft_cases.set_index('states')"
   ]
  },
  {
   "cell_type": "code",
   "execution_count": 8,
   "metadata": {
    "execution": {
     "iopub.execute_input": "2020-10-08T15:24:56.021564Z",
     "iopub.status.busy": "2020-10-08T15:24:56.020844Z",
     "iopub.status.idle": "2020-10-08T15:24:56.025491Z",
     "shell.execute_reply": "2020-10-08T15:24:56.025001Z"
    },
    "papermill": {
     "duration": 0.025595,
     "end_time": "2020-10-08T15:24:56.025632",
     "exception": false,
     "start_time": "2020-10-08T15:24:56.000037",
     "status": "completed"
    },
    "tags": []
   },
   "outputs": [],
   "source": [
    "#hide\n",
    "dft_cases = dft_cases.T\n",
    "dft_deaths = dft_deaths.T\n",
    "dt_today = dates[-1]\n",
    "dt_yday = dates[-2]"
   ]
  },
  {
   "cell_type": "code",
   "execution_count": 9,
   "metadata": {
    "execution": {
     "iopub.execute_input": "2020-10-08T15:24:56.061411Z",
     "iopub.status.busy": "2020-10-08T15:24:56.060781Z",
     "iopub.status.idle": "2020-10-08T15:24:56.065747Z",
     "shell.execute_reply": "2020-10-08T15:24:56.066271Z"
    },
    "papermill": {
     "duration": 0.026212,
     "end_time": "2020-10-08T15:24:56.066421",
     "exception": false,
     "start_time": "2020-10-08T15:24:56.040209",
     "status": "completed"
    },
    "tags": []
   },
   "outputs": [],
   "source": [
    "#hide\n",
    "dft_cases = dft_cases.reset_index()\n",
    "dft_deaths = dft_deaths.reset_index()\n",
    "dft_cases = dft_cases.rename(columns = {'index':'state'})\n",
    "dft_deaths = dft_deaths.rename(columns = {'index':'state'})"
   ]
  },
  {
   "cell_type": "code",
   "execution_count": 10,
   "metadata": {
    "execution": {
     "iopub.execute_input": "2020-10-08T15:24:56.107519Z",
     "iopub.status.busy": "2020-10-08T15:24:56.106946Z",
     "iopub.status.idle": "2020-10-08T15:24:56.108973Z",
     "shell.execute_reply": "2020-10-08T15:24:56.109432Z"
    },
    "papermill": {
     "duration": 0.028002,
     "end_time": "2020-10-08T15:24:56.109584",
     "exception": false,
     "start_time": "2020-10-08T15:24:56.081582",
     "status": "completed"
    },
    "tags": []
   },
   "outputs": [],
   "source": [
    "#hide\n",
    "dfc_cases = dft_cases.groupby('state')[dt_today].sum()\n",
    "dfc_deaths = dft_deaths.groupby('state')[dt_today].sum()\n",
    "dfp_cases = dft_cases.groupby('state')[dt_yday].sum()\n",
    "dfp_deaths = dft_deaths.groupby('state')[dt_yday].sum()"
   ]
  },
  {
   "cell_type": "code",
   "execution_count": 11,
   "metadata": {
    "execution": {
     "iopub.execute_input": "2020-10-08T15:24:56.148410Z",
     "iopub.status.busy": "2020-10-08T15:24:56.147823Z",
     "iopub.status.idle": "2020-10-08T15:24:56.159989Z",
     "shell.execute_reply": "2020-10-08T15:24:56.160486Z"
    },
    "papermill": {
     "duration": 0.035821,
     "end_time": "2020-10-08T15:24:56.160641",
     "exception": false,
     "start_time": "2020-10-08T15:24:56.124820",
     "status": "completed"
    },
    "tags": []
   },
   "outputs": [
    {
     "data": {
      "text/html": [
       "<div>\n",
       "<style scoped>\n",
       "    .dataframe tbody tr th:only-of-type {\n",
       "        vertical-align: middle;\n",
       "    }\n",
       "\n",
       "    .dataframe tbody tr th {\n",
       "        vertical-align: top;\n",
       "    }\n",
       "\n",
       "    .dataframe thead th {\n",
       "        text-align: right;\n",
       "    }\n",
       "</style>\n",
       "<table border=\"1\" class=\"dataframe\">\n",
       "  <thead>\n",
       "    <tr style=\"text-align: right;\">\n",
       "      <th></th>\n",
       "      <th>states</th>\n",
       "      <th>Cases</th>\n",
       "      <th>Deaths</th>\n",
       "      <th>PCases</th>\n",
       "      <th>PDeaths</th>\n",
       "    </tr>\n",
       "  </thead>\n",
       "  <tbody>\n",
       "    <tr>\n",
       "      <th>0</th>\n",
       "      <td>Maharashtra</td>\n",
       "      <td>1480489</td>\n",
       "      <td>39072</td>\n",
       "      <td>1480489</td>\n",
       "      <td>39072</td>\n",
       "    </tr>\n",
       "    <tr>\n",
       "      <th>1</th>\n",
       "      <td>Andhra Pradesh</td>\n",
       "      <td>734427</td>\n",
       "      <td>6086</td>\n",
       "      <td>734427</td>\n",
       "      <td>6086</td>\n",
       "    </tr>\n",
       "    <tr>\n",
       "      <th>2</th>\n",
       "      <td>Karnataka</td>\n",
       "      <td>668652</td>\n",
       "      <td>9574</td>\n",
       "      <td>668652</td>\n",
       "      <td>9574</td>\n",
       "    </tr>\n",
       "    <tr>\n",
       "      <th>3</th>\n",
       "      <td>Tamil Nadu</td>\n",
       "      <td>635855</td>\n",
       "      <td>9984</td>\n",
       "      <td>635855</td>\n",
       "      <td>9984</td>\n",
       "    </tr>\n",
       "    <tr>\n",
       "      <th>4</th>\n",
       "      <td>Uttar Pradesh</td>\n",
       "      <td>424326</td>\n",
       "      <td>6200</td>\n",
       "      <td>424326</td>\n",
       "      <td>6200</td>\n",
       "    </tr>\n",
       "  </tbody>\n",
       "</table>\n",
       "</div>"
      ],
      "text/plain": [
       "           states    Cases  Deaths   PCases  PDeaths\n",
       "0     Maharashtra  1480489   39072  1480489    39072\n",
       "1  Andhra Pradesh   734427    6086   734427     6086\n",
       "2       Karnataka   668652    9574   668652     9574\n",
       "3      Tamil Nadu   635855    9984   635855     9984\n",
       "4   Uttar Pradesh   424326    6200   424326     6200"
      ]
     },
     "execution_count": 11,
     "metadata": {},
     "output_type": "execute_result"
    }
   ],
   "source": [
    "#hide\n",
    "df_table = pd.DataFrame({'states': dfc_cases.index, 'Cases': dfc_cases.values, 'Deaths': dfc_deaths.values, 'PCases': dfp_cases.values, 'PDeaths': dfp_deaths.values}).set_index('states')\n",
    "df_table = df_table.sort_values(by = ['Cases','Deaths'], ascending = [False, False])\n",
    "df_table = df_table.reset_index()\n",
    "df_table.head()"
   ]
  },
  {
   "cell_type": "code",
   "execution_count": 12,
   "metadata": {
    "execution": {
     "iopub.execute_input": "2020-10-08T15:24:56.197361Z",
     "iopub.status.busy": "2020-10-08T15:24:56.196748Z",
     "iopub.status.idle": "2020-10-08T15:24:56.205924Z",
     "shell.execute_reply": "2020-10-08T15:24:56.205404Z"
    },
    "papermill": {
     "duration": 0.030133,
     "end_time": "2020-10-08T15:24:56.206055",
     "exception": false,
     "start_time": "2020-10-08T15:24:56.175922",
     "status": "completed"
    },
    "tags": []
   },
   "outputs": [],
   "source": [
    "#hide\n",
    "for c in 'Cases, Deaths'.split(', '):\n",
    "    df_table[f'{c} (+)'] = (df_table[c] - df_table[f'P{c}']).clip(0)\n",
    "df_table['Fatality Rate'] = (100* df_table['Deaths']/ df_table['Cases']).round(2)"
   ]
  },
  {
   "cell_type": "code",
   "execution_count": 13,
   "metadata": {
    "execution": {
     "iopub.execute_input": "2020-10-08T15:24:56.248964Z",
     "iopub.status.busy": "2020-10-08T15:24:56.248344Z",
     "iopub.status.idle": "2020-10-08T15:24:56.251363Z",
     "shell.execute_reply": "2020-10-08T15:24:56.251811Z"
    },
    "papermill": {
     "duration": 0.030029,
     "end_time": "2020-10-08T15:24:56.251952",
     "exception": false,
     "start_time": "2020-10-08T15:24:56.221923",
     "status": "completed"
    },
    "tags": []
   },
   "outputs": [
    {
     "data": {
      "text/html": [
       "<div>\n",
       "<style scoped>\n",
       "    .dataframe tbody tr th:only-of-type {\n",
       "        vertical-align: middle;\n",
       "    }\n",
       "\n",
       "    .dataframe tbody tr th {\n",
       "        vertical-align: top;\n",
       "    }\n",
       "\n",
       "    .dataframe thead th {\n",
       "        text-align: right;\n",
       "    }\n",
       "</style>\n",
       "<table border=\"1\" class=\"dataframe\">\n",
       "  <thead>\n",
       "    <tr style=\"text-align: right;\">\n",
       "      <th></th>\n",
       "      <th>states</th>\n",
       "      <th>Cases</th>\n",
       "      <th>Deaths</th>\n",
       "      <th>PCases</th>\n",
       "      <th>PDeaths</th>\n",
       "      <th>Cases (+)</th>\n",
       "      <th>Deaths (+)</th>\n",
       "      <th>Fatality Rate</th>\n",
       "    </tr>\n",
       "  </thead>\n",
       "  <tbody>\n",
       "    <tr>\n",
       "      <th>0</th>\n",
       "      <td>Maharashtra</td>\n",
       "      <td>1480489</td>\n",
       "      <td>39072</td>\n",
       "      <td>1480489</td>\n",
       "      <td>39072</td>\n",
       "      <td>0</td>\n",
       "      <td>0</td>\n",
       "      <td>2.64</td>\n",
       "    </tr>\n",
       "    <tr>\n",
       "      <th>1</th>\n",
       "      <td>Andhra Pradesh</td>\n",
       "      <td>734427</td>\n",
       "      <td>6086</td>\n",
       "      <td>734427</td>\n",
       "      <td>6086</td>\n",
       "      <td>0</td>\n",
       "      <td>0</td>\n",
       "      <td>0.83</td>\n",
       "    </tr>\n",
       "    <tr>\n",
       "      <th>2</th>\n",
       "      <td>Karnataka</td>\n",
       "      <td>668652</td>\n",
       "      <td>9574</td>\n",
       "      <td>668652</td>\n",
       "      <td>9574</td>\n",
       "      <td>0</td>\n",
       "      <td>0</td>\n",
       "      <td>1.43</td>\n",
       "    </tr>\n",
       "    <tr>\n",
       "      <th>3</th>\n",
       "      <td>Tamil Nadu</td>\n",
       "      <td>635855</td>\n",
       "      <td>9984</td>\n",
       "      <td>635855</td>\n",
       "      <td>9984</td>\n",
       "      <td>0</td>\n",
       "      <td>0</td>\n",
       "      <td>1.57</td>\n",
       "    </tr>\n",
       "    <tr>\n",
       "      <th>4</th>\n",
       "      <td>Uttar Pradesh</td>\n",
       "      <td>424326</td>\n",
       "      <td>6200</td>\n",
       "      <td>424326</td>\n",
       "      <td>6200</td>\n",
       "      <td>0</td>\n",
       "      <td>0</td>\n",
       "      <td>1.46</td>\n",
       "    </tr>\n",
       "  </tbody>\n",
       "</table>\n",
       "</div>"
      ],
      "text/plain": [
       "           states    Cases  Deaths   PCases  PDeaths  Cases (+)  Deaths (+)  \\\n",
       "0     Maharashtra  1480489   39072  1480489    39072          0           0   \n",
       "1  Andhra Pradesh   734427    6086   734427     6086          0           0   \n",
       "2       Karnataka   668652    9574   668652     9574          0           0   \n",
       "3      Tamil Nadu   635855    9984   635855     9984          0           0   \n",
       "4   Uttar Pradesh   424326    6200   424326     6200          0           0   \n",
       "\n",
       "   Fatality Rate  \n",
       "0           2.64  \n",
       "1           0.83  \n",
       "2           1.43  \n",
       "3           1.57  \n",
       "4           1.46  "
      ]
     },
     "execution_count": 13,
     "metadata": {},
     "output_type": "execute_result"
    }
   ],
   "source": [
    "#hide\n",
    "df_table.head()"
   ]
  },
  {
   "cell_type": "code",
   "execution_count": 14,
   "metadata": {
    "execution": {
     "iopub.execute_input": "2020-10-08T15:24:56.288818Z",
     "iopub.status.busy": "2020-10-08T15:24:56.288226Z",
     "iopub.status.idle": "2020-10-08T15:24:56.303618Z",
     "shell.execute_reply": "2020-10-08T15:24:56.303140Z"
    },
    "papermill": {
     "duration": 0.036079,
     "end_time": "2020-10-08T15:24:56.303738",
     "exception": false,
     "start_time": "2020-10-08T15:24:56.267659",
     "status": "completed"
    },
    "tags": []
   },
   "outputs": [
    {
     "data": {
      "text/plain": [
       "{'updated': '2020-10-08',\n",
       " 'since': '2020-10-07',\n",
       " 'Cases': 6841813,\n",
       " 'PCases': 6832988,\n",
       " 'Deaths': 105632,\n",
       " 'PDeaths': 105554,\n",
       " 'Cases (+)': 8825,\n",
       " 'Deaths (+)': 78}"
      ]
     },
     "execution_count": 14,
     "metadata": {},
     "output_type": "execute_result"
    }
   ],
   "source": [
    "#hide\n",
    "summary = {'updated':dates[-1], 'since':dates[-2]}\n",
    "list_names = ['Cases', 'PCases', 'Deaths', 'PDeaths', 'Cases (+)', 'Deaths (+)']\n",
    "for name in list_names:\n",
    "    summary[name] = df_table.sum()[name]\n",
    "summary"
   ]
  },
  {
   "cell_type": "code",
   "execution_count": 15,
   "metadata": {
    "execution": {
     "iopub.execute_input": "2020-10-08T15:24:56.340031Z",
     "iopub.status.busy": "2020-10-08T15:24:56.339413Z",
     "iopub.status.idle": "2020-10-08T15:24:56.341242Z",
     "shell.execute_reply": "2020-10-08T15:24:56.341718Z"
    },
    "papermill": {
     "duration": 0.022264,
     "end_time": "2020-10-08T15:24:56.341848",
     "exception": false,
     "start_time": "2020-10-08T15:24:56.319584",
     "status": "completed"
    },
    "tags": []
   },
   "outputs": [],
   "source": [
    "#hide\n",
    "overview = '''\n",
    "<!-- #######  HTML!! #########-->\n",
    "<h1 style=\"color: #5e9ca0; text-align: center;\">India</h1>\n",
    "<p style=\"text-align: center;\">Last update: <strong>{update}</strong></p>\n",
    "<p style=\"text-align: center;\">Confirmed cases:</p>\n",
    "<p style=\"text-align: center;font-size:24px;\">{cases} (<span style=\"color: #ff0000;\">+{new}</span>)</p>\n",
    "<p style=\"text-align: center;\">Confirmed deaths:</p>\n",
    "<p style=\"text-align: center;font-size:24px;\">{deaths} (<span style=\"color: #ff0000;\">+{dnew}</span>)</p>\n",
    "'''"
   ]
  },
  {
   "cell_type": "code",
   "execution_count": 16,
   "metadata": {
    "execution": {
     "iopub.execute_input": "2020-10-08T15:24:56.380083Z",
     "iopub.status.busy": "2020-10-08T15:24:56.379484Z",
     "iopub.status.idle": "2020-10-08T15:24:56.382539Z",
     "shell.execute_reply": "2020-10-08T15:24:56.381988Z"
    },
    "papermill": {
     "duration": 0.024737,
     "end_time": "2020-10-08T15:24:56.382655",
     "exception": false,
     "start_time": "2020-10-08T15:24:56.357918",
     "status": "completed"
    },
    "tags": []
   },
   "outputs": [
    {
     "data": {
      "text/html": [
       "\n",
       "<!-- #######  HTML!! #########-->\n",
       "<h1 style=\"color: #5e9ca0; text-align: center;\">India</h1>\n",
       "<p style=\"text-align: center;\">Last update: <strong>2020-10-08</strong></p>\n",
       "<p style=\"text-align: center;\">Confirmed cases:</p>\n",
       "<p style=\"text-align: center;font-size:24px;\">6841813 (<span style=\"color: #ff0000;\">+8825</span>)</p>\n",
       "<p style=\"text-align: center;\">Confirmed deaths:</p>\n",
       "<p style=\"text-align: center;font-size:24px;\">105632 (<span style=\"color: #ff0000;\">+78</span>)</p>\n"
      ],
      "text/plain": [
       "<IPython.core.display.HTML object>"
      ]
     },
     "metadata": {},
     "output_type": "display_data"
    }
   ],
   "source": [
    "#hide_input\n",
    "update = summary['updated']\n",
    "cases = summary['Cases']\n",
    "new = summary['Cases (+)']\n",
    "deaths = summary['Deaths']\n",
    "dnew = summary['Deaths (+)']\n",
    "\n",
    "html = HTML(overview.format(update=update, cases=cases,new=new,deaths=deaths,dnew=dnew))\n",
    "\n",
    "display(html)"
   ]
  },
  {
   "cell_type": "code",
   "execution_count": 17,
   "metadata": {
    "execution": {
     "iopub.execute_input": "2020-10-08T15:24:56.423070Z",
     "iopub.status.busy": "2020-10-08T15:24:56.422509Z",
     "iopub.status.idle": "2020-10-08T15:24:56.428951Z",
     "shell.execute_reply": "2020-10-08T15:24:56.428466Z"
    },
    "papermill": {
     "duration": 0.029653,
     "end_time": "2020-10-08T15:24:56.429067",
     "exception": false,
     "start_time": "2020-10-08T15:24:56.399414",
     "status": "completed"
    },
    "tags": []
   },
   "outputs": [],
   "source": [
    "#hide\n",
    "dt_cols = list(dft_cases.columns[1:])\n",
    "dft_ct_new_cases = dft_cases.groupby('state')[dt_cols].sum().diff(axis=1).fillna(0).astype(int)\n",
    "dft_ct_new_cases.sort_values(by = dates[-1], ascending = False,inplace = True)"
   ]
  },
  {
   "cell_type": "code",
   "execution_count": 18,
   "metadata": {
    "execution": {
     "iopub.execute_input": "2020-10-08T15:24:56.479585Z",
     "iopub.status.busy": "2020-10-08T15:24:56.474904Z",
     "iopub.status.idle": "2020-10-08T15:24:56.482298Z",
     "shell.execute_reply": "2020-10-08T15:24:56.482804Z"
    },
    "papermill": {
     "duration": 0.037655,
     "end_time": "2020-10-08T15:24:56.482956",
     "exception": false,
     "start_time": "2020-10-08T15:24:56.445301",
     "status": "completed"
    },
    "tags": []
   },
   "outputs": [
    {
     "data": {
      "text/html": [
       "<div>\n",
       "<style scoped>\n",
       "    .dataframe tbody tr th:only-of-type {\n",
       "        vertical-align: middle;\n",
       "    }\n",
       "\n",
       "    .dataframe tbody tr th {\n",
       "        vertical-align: top;\n",
       "    }\n",
       "\n",
       "    .dataframe thead th {\n",
       "        text-align: right;\n",
       "    }\n",
       "</style>\n",
       "<table border=\"1\" class=\"dataframe\">\n",
       "  <thead>\n",
       "    <tr style=\"text-align: right;\">\n",
       "      <th>states</th>\n",
       "      <th>2020-07-01</th>\n",
       "      <th>2020-07-02</th>\n",
       "      <th>2020-07-03</th>\n",
       "      <th>2020-07-04</th>\n",
       "      <th>2020-07-05</th>\n",
       "      <th>2020-07-06</th>\n",
       "      <th>2020-07-07</th>\n",
       "      <th>2020-07-08</th>\n",
       "      <th>2020-07-09</th>\n",
       "      <th>2020-07-10</th>\n",
       "      <th>...</th>\n",
       "      <th>2020-09-29</th>\n",
       "      <th>2020-09-30</th>\n",
       "      <th>2020-10-01</th>\n",
       "      <th>2020-10-02</th>\n",
       "      <th>2020-10-03</th>\n",
       "      <th>2020-10-04</th>\n",
       "      <th>2020-10-05</th>\n",
       "      <th>2020-10-06</th>\n",
       "      <th>2020-10-07</th>\n",
       "      <th>2020-10-08</th>\n",
       "    </tr>\n",
       "    <tr>\n",
       "      <th>state</th>\n",
       "      <th></th>\n",
       "      <th></th>\n",
       "      <th></th>\n",
       "      <th></th>\n",
       "      <th></th>\n",
       "      <th></th>\n",
       "      <th></th>\n",
       "      <th></th>\n",
       "      <th></th>\n",
       "      <th></th>\n",
       "      <th></th>\n",
       "      <th></th>\n",
       "      <th></th>\n",
       "      <th></th>\n",
       "      <th></th>\n",
       "      <th></th>\n",
       "      <th></th>\n",
       "      <th></th>\n",
       "      <th></th>\n",
       "      <th></th>\n",
       "      <th></th>\n",
       "    </tr>\n",
       "  </thead>\n",
       "  <tbody>\n",
       "    <tr>\n",
       "      <th>Kerala</th>\n",
       "      <td>0</td>\n",
       "      <td>160</td>\n",
       "      <td>211</td>\n",
       "      <td>240</td>\n",
       "      <td>225</td>\n",
       "      <td>193</td>\n",
       "      <td>272</td>\n",
       "      <td>301</td>\n",
       "      <td>339</td>\n",
       "      <td>416</td>\n",
       "      <td>...</td>\n",
       "      <td>7354</td>\n",
       "      <td>8830</td>\n",
       "      <td>8135</td>\n",
       "      <td>9258</td>\n",
       "      <td>7834</td>\n",
       "      <td>8553</td>\n",
       "      <td>5042</td>\n",
       "      <td>7871</td>\n",
       "      <td>10606</td>\n",
       "      <td>5445</td>\n",
       "    </tr>\n",
       "    <tr>\n",
       "      <th>Telangana</th>\n",
       "      <td>0</td>\n",
       "      <td>1213</td>\n",
       "      <td>1892</td>\n",
       "      <td>1850</td>\n",
       "      <td>1590</td>\n",
       "      <td>1831</td>\n",
       "      <td>1879</td>\n",
       "      <td>1924</td>\n",
       "      <td>1410</td>\n",
       "      <td>1278</td>\n",
       "      <td>...</td>\n",
       "      <td>2072</td>\n",
       "      <td>2103</td>\n",
       "      <td>2214</td>\n",
       "      <td>2009</td>\n",
       "      <td>1718</td>\n",
       "      <td>1949</td>\n",
       "      <td>1335</td>\n",
       "      <td>1983</td>\n",
       "      <td>2154</td>\n",
       "      <td>1896</td>\n",
       "    </tr>\n",
       "    <tr>\n",
       "      <th>Gujarat</th>\n",
       "      <td>0</td>\n",
       "      <td>681</td>\n",
       "      <td>687</td>\n",
       "      <td>712</td>\n",
       "      <td>725</td>\n",
       "      <td>735</td>\n",
       "      <td>778</td>\n",
       "      <td>783</td>\n",
       "      <td>861</td>\n",
       "      <td>875</td>\n",
       "      <td>...</td>\n",
       "      <td>1381</td>\n",
       "      <td>1390</td>\n",
       "      <td>1350</td>\n",
       "      <td>1310</td>\n",
       "      <td>1343</td>\n",
       "      <td>1302</td>\n",
       "      <td>1327</td>\n",
       "      <td>1335</td>\n",
       "      <td>1311</td>\n",
       "      <td>1268</td>\n",
       "    </tr>\n",
       "    <tr>\n",
       "      <th>Tripura</th>\n",
       "      <td>0</td>\n",
       "      <td>39</td>\n",
       "      <td>93</td>\n",
       "      <td>25</td>\n",
       "      <td>23</td>\n",
       "      <td>111</td>\n",
       "      <td>24</td>\n",
       "      <td>57</td>\n",
       "      <td>16</td>\n",
       "      <td>142</td>\n",
       "      <td>...</td>\n",
       "      <td>432</td>\n",
       "      <td>381</td>\n",
       "      <td>332</td>\n",
       "      <td>296</td>\n",
       "      <td>190</td>\n",
       "      <td>322</td>\n",
       "      <td>159</td>\n",
       "      <td>275</td>\n",
       "      <td>237</td>\n",
       "      <td>214</td>\n",
       "    </tr>\n",
       "    <tr>\n",
       "      <th>Mizoram</th>\n",
       "      <td>0</td>\n",
       "      <td>2</td>\n",
       "      <td>0</td>\n",
       "      <td>2</td>\n",
       "      <td>22</td>\n",
       "      <td>11</td>\n",
       "      <td>1</td>\n",
       "      <td>5</td>\n",
       "      <td>0</td>\n",
       "      <td>23</td>\n",
       "      <td>...</td>\n",
       "      <td>50</td>\n",
       "      <td>28</td>\n",
       "      <td>32</td>\n",
       "      <td>31</td>\n",
       "      <td>54</td>\n",
       "      <td>17</td>\n",
       "      <td>0</td>\n",
       "      <td>8</td>\n",
       "      <td>20</td>\n",
       "      <td>2</td>\n",
       "    </tr>\n",
       "  </tbody>\n",
       "</table>\n",
       "<p>5 rows × 100 columns</p>\n",
       "</div>"
      ],
      "text/plain": [
       "states     2020-07-01  2020-07-02  2020-07-03  2020-07-04  2020-07-05  \\\n",
       "state                                                                   \n",
       "Kerala              0         160         211         240         225   \n",
       "Telangana           0        1213        1892        1850        1590   \n",
       "Gujarat             0         681         687         712         725   \n",
       "Tripura             0          39          93          25          23   \n",
       "Mizoram             0           2           0           2          22   \n",
       "\n",
       "states     2020-07-06  2020-07-07  2020-07-08  2020-07-09  2020-07-10  ...  \\\n",
       "state                                                                  ...   \n",
       "Kerala            193         272         301         339         416  ...   \n",
       "Telangana        1831        1879        1924        1410        1278  ...   \n",
       "Gujarat           735         778         783         861         875  ...   \n",
       "Tripura           111          24          57          16         142  ...   \n",
       "Mizoram            11           1           5           0          23  ...   \n",
       "\n",
       "states     2020-09-29  2020-09-30  2020-10-01  2020-10-02  2020-10-03  \\\n",
       "state                                                                   \n",
       "Kerala           7354        8830        8135        9258        7834   \n",
       "Telangana        2072        2103        2214        2009        1718   \n",
       "Gujarat          1381        1390        1350        1310        1343   \n",
       "Tripura           432         381         332         296         190   \n",
       "Mizoram            50          28          32          31          54   \n",
       "\n",
       "states     2020-10-04  2020-10-05  2020-10-06  2020-10-07  2020-10-08  \n",
       "state                                                                  \n",
       "Kerala           8553        5042        7871       10606        5445  \n",
       "Telangana        1949        1335        1983        2154        1896  \n",
       "Gujarat          1302        1327        1335        1311        1268  \n",
       "Tripura           322         159         275         237         214  \n",
       "Mizoram            17           0           8          20           2  \n",
       "\n",
       "[5 rows x 100 columns]"
      ]
     },
     "execution_count": 18,
     "metadata": {},
     "output_type": "execute_result"
    }
   ],
   "source": [
    "#hide\n",
    "dft_ct_new_cases.head()"
   ]
  },
  {
   "cell_type": "code",
   "execution_count": 19,
   "metadata": {
    "execution": {
     "iopub.execute_input": "2020-10-08T15:24:56.520100Z",
     "iopub.status.busy": "2020-10-08T15:24:56.519450Z",
     "iopub.status.idle": "2020-10-08T15:25:00.402154Z",
     "shell.execute_reply": "2020-10-08T15:25:00.402604Z"
    },
    "papermill": {
     "duration": 3.902629,
     "end_time": "2020-10-08T15:25:00.402765",
     "exception": false,
     "start_time": "2020-10-08T15:24:56.500136",
     "status": "completed"
    },
    "tags": []
   },
   "outputs": [
    {
     "data": {
      "image/png": "[encoded data removed]",
      "text/plain": [
       "<Figure size 1296x2016 with 11 Axes>"
      ]
     },
     "metadata": {
      "needs_background": "light"
     },
     "output_type": "display_data"
    }
   ],
   "source": [
    "#hide_input\n",
    "df = dft_ct_new_cases.copy()\n",
    "df.loc['Total'] = df.sum()\n",
    "n = 5\n",
    "ax = []\n",
    "fig = plt.figure(figsize = (18,28))\n",
    "gs = fig.add_gridspec(n+2, 5)\n",
    "# gs = fig.add_gridspec(2, 3)\n",
    "ax1 = fig.add_subplot(gs[0, :])\n",
    "ef = df.loc['Total'].rename_axis('date').reset_index()\n",
    "ef['date'] = ef['date'].astype('datetime64[ns]')\n",
    "ax1.bar(ef.date,ef.Total,alpha=0.3,color='#007acc')\n",
    "ax1.plot(ef.date,ef.Total , marker=\"o\", color='#007acc')\n",
    "ax1.xaxis.set_major_locator(mdates.WeekdayLocator())\n",
    "ax1.xaxis.set_major_formatter(mdates.DateFormatter('%b %d'))\n",
    "ax1.text(0.02, 0.5,'India daily case count', transform = ax1.transAxes, fontsize=25);\n",
    "ax1.spines['right'].set_visible(False)\n",
    "ax1.spines['top'].set_visible(False)\n",
    "\n",
    "ax2 = fig.add_subplot(gs[1,0])\n",
    "ef = df.loc['Maharashtra'].rename_axis('date').reset_index()\n",
    "ef['date'] = ef['date'].astype('datetime64[ns]')\n",
    "\n",
    "ax2.bar(ef.date, ef.Maharashtra,color = '#007acc',alpha=0.5)\n",
    "ax2.xaxis.set_major_locator(mdates.WeekdayLocator())\n",
    "ax2.xaxis.set_major_formatter(mdates.DateFormatter('%b %d'))\n",
    "ax2.set_xticks(ax2.get_xticks()[::3])\n",
    "maxyval = ef.Maharashtra.max()\n",
    "ax2.set_ylim([0,maxyval])\n",
    "ax2.text(0.05, 0.9,'Maharashtra', transform = ax2.transAxes, fontsize=20);\n",
    "ax2.spines['right'].set_visible(False)\n",
    "ax2.spines['top'].set_visible(False)\n",
    "\n",
    "\n",
    "ax3 = fig.add_subplot(gs[1,1])\n",
    "ef = df.loc['Tamil Nadu'].rename_axis('date').reset_index()\n",
    "ef['date'] = ef['date'].astype('datetime64[ns]')\n",
    "ax3.bar(ef.date, ef['Tamil Nadu'],color = '#007acc',alpha=0.5,)\n",
    "ax3.xaxis.set_major_locator(mdates.WeekdayLocator())\n",
    "ax3.xaxis.set_major_formatter(mdates.DateFormatter('%b %d'))\n",
    "ax3.set_xticks(ax3.get_xticks()[::3])\n",
    "ax3.text(0.05, 0.9,'Tamil Nadu', transform = ax3.transAxes, fontsize=20);\n",
    "ax3.spines['right'].set_visible(False)\n",
    "ax3.spines['top'].set_visible(False)\n",
    "\n",
    "ax5 = fig.add_subplot(gs[1,3])\n",
    "ef = df.loc['Telangana'].rename_axis('date').reset_index()\n",
    "ef['date'] = ef['date'].astype('datetime64[ns]')\n",
    "ax5.bar(ef.date, ef['Telangana'],color = '#007acc',alpha=0.5,)\n",
    "ax5.xaxis.set_major_locator(mdates.WeekdayLocator())\n",
    "ax5.xaxis.set_major_formatter(mdates.DateFormatter('%b %d'))\n",
    "ax5.set_xticks(ax5.get_xticks()[::3])\n",
    "ax5.text(0.05, 0.9,'Telangana', transform = ax5.transAxes, fontsize=20);\n",
    "ax5.spines['right'].set_visible(False)\n",
    "ax5.spines['top'].set_visible(False)\n",
    "\n",
    "ax6 = fig.add_subplot(gs[1,4])\n",
    "ef = df.loc['Andhra Pradesh'].rename_axis('date').reset_index()\n",
    "ef['date'] = ef['date'].astype('datetime64[ns]')\n",
    "ax6.bar(ef.date, ef['Andhra Pradesh'],color = '#007acc',alpha=0.5,)\n",
    "ax6.xaxis.set_major_locator(mdates.WeekdayLocator())\n",
    "ax6.xaxis.set_major_formatter(mdates.DateFormatter('%b %d'))\n",
    "ax6.set_xticks(ax6.get_xticks()[::3])\n",
    "ax6.text(0.05, 1,'Andhra Pradesh', transform = ax6.transAxes, fontsize=20);\n",
    "ax6.spines['right'].set_visible(False)\n",
    "ax6.spines['top'].set_visible(False)\n",
    "\n",
    "ax4 = fig.add_subplot(gs[1,2])\n",
    "ef = df.loc['Delhi'].rename_axis('date').reset_index()\n",
    "ef['date'] = ef['date'].astype('datetime64[ns]')\n",
    "ax4.bar(ef.date, ef.Delhi,color = '#007acc',alpha=0.5)\n",
    "ax4.set_xticks([])\n",
    "ax4.xaxis.set_major_locator(mdates.WeekdayLocator())\n",
    "ax4.xaxis.set_major_formatter(mdates.DateFormatter('%b %d'))\n",
    "ax4.set_xticks(ax4.get_xticks()[::3])\n",
    "ax4.spines['right'].set_visible(False)\n",
    "ax4.spines['top'].set_visible(False)\n",
    "\n",
    "ax4.text(0.05, 1,'Delhi', transform = ax4.transAxes, fontsize=20)\n",
    "\n",
    "for i in range(n):\n",
    "    \n",
    "    ax.append(fig.add_subplot(gs[i+2,:]))\n",
    "    ef = df.iloc[i+3].rename_axis('date').reset_index()\n",
    "    ef['date'] = ef['date'].astype('datetime64[ns]')\n",
    "    ax[i].bar(ef.date,ef.iloc[:,-1],color = '#007acc',alpha=0.3)\n",
    "    ax[i].plot(ef.date,ef.iloc[:,-1],marker='o',color='#007acc')\n",
    "    ax[i].text(0.02,0.5,f'{ef.columns.values[-1]}',transform = ax[i].transAxes, fontsize = 20);\n",
    "    ax[i].xaxis.set_major_locator(mdates.WeekdayLocator())\n",
    "    ax[i].xaxis.set_major_formatter(mdates.DateFormatter('%b %d'))\n",
    "    ax[i].set_ylim([0,7000])\n",
    "    ax[i].spines['right'].set_visible(False)\n",
    "    ax[i].spines['top'].set_visible(False)\n",
    "plt.tight_layout()\n"
   ]
  },
  {
   "cell_type": "code",
   "execution_count": 20,
   "metadata": {
    "execution": {
     "iopub.execute_input": "2020-10-08T15:25:00.456551Z",
     "iopub.status.busy": "2020-10-08T15:25:00.455889Z",
     "iopub.status.idle": "2020-10-08T15:25:00.458153Z",
     "shell.execute_reply": "2020-10-08T15:25:00.458637Z"
    },
    "papermill": {
     "duration": 0.033213,
     "end_time": "2020-10-08T15:25:00.458792",
     "exception": false,
     "start_time": "2020-10-08T15:25:00.425579",
     "status": "completed"
    },
    "tags": []
   },
   "outputs": [
    {
     "name": "stdout",
     "output_type": "stream",
     "text": [
      "                                   states    Cases  Deaths   PCases  PDeaths  Cases (+)  Deaths (+)  Fatality Rate\n",
      "                              Maharashtra  1480489   39072  1480489    39072          0           0           2.64\n",
      "                           Andhra Pradesh   734427    6086   734427     6086          0           0           0.83\n",
      "                                Karnataka   668652    9574   668652     9574          0           0           1.43\n",
      "                               Tamil Nadu   635855    9984   635855     9984          0           0           1.57\n",
      "                            Uttar Pradesh   424326    6200   424326     6200          0           0           1.46\n",
      "                                    Delhi   298107    5616   298107     5616          0           0           1.88\n",
      "                              West Bengal   280504    5376   280504     5376          0           0           1.92\n",
      "                                   Kerala   258851     931   253406      907       5445          24           0.36\n",
      "                                   Odisha   240998    1011   240998     1011          0           0           0.42\n",
      "                                Telangana   206644    1201   204748     1189       1896          12           0.58\n",
      "                                    Bihar   191427     927   191427      927          0           0           0.48\n",
      "                                    Assam   190209     785   190209      785          0           0           0.41\n",
      "                                Rajasthan   150467    1590   150467     1590          0           0           1.06\n",
      "                                  Gujarat   147940    3541   146672     3531       1268          10           2.39\n",
      "                           Madhya Pradesh   140307    2518   140307     2518          0           0           1.79\n",
      "                                  Haryana   137398    1528   137398     1528          0           0           1.11\n",
      "                             Chhattisgarh   131739    1134   131739     1134          0           0           0.86\n",
      "                                   Punjab   120868    3741   120868     3712          0          29           3.10\n",
      "                                Jharkhand    89702     767    89702      767          0           0           0.86\n",
      "                        Jammu and Kashmir    81097    1282    81097     1282          0           0           1.58\n",
      "                              Uttarakhand    52959     688    52959      688          0           0           1.30\n",
      "                                      Goa    36670     477    36670      477          0           0           1.30\n",
      "                               Puducherry    30161     551    30161      551          0           0           1.83\n",
      "                                  Tripura    27756     301    27542      298        214           3           1.08\n",
      "                         Himachal Pradesh    16565     226    16565      226          0           0           1.36\n",
      "                               Chandigarh    12820     182    12820      182          0           0           1.42\n",
      "                                  Manipur    12489      80    12489       80          0           0           0.64\n",
      "                        Arunachal Pradesh    11267      21    11267       21          0           0           0.19\n",
      "                                Meghalaya     7165      60     7165       60          0           0           0.84\n",
      "                                 Nagaland     6715      12     6715       12          0           0           0.18\n",
      "                                   Ladakh     4802      63     4802       63          0           0           1.31\n",
      "              Andaman and Nicobar Islands     3935      54     3935       54          0           0           1.37\n",
      "                                   Sikkim     3234      51     3234       51          0           0           1.58\n",
      " Dadra and Nagar Haveli and Daman and Diu     3118       2     3118        2          0           0           0.06\n",
      "                                  Mizoram     2150       0     2148        0          2           0           0.00\n",
      "                              Lakshadweep        0       0        0        0          0           0            NaN\n"
     ]
    }
   ],
   "source": [
    "#hide_input\n",
    "print(df_table.to_string(index=False))"
   ]
  },
  {
   "cell_type": "code",
   "execution_count": null,
   "metadata": {
    "papermill": {
     "duration": 0.021854,
     "end_time": "2020-10-08T15:25:00.503609",
     "exception": false,
     "start_time": "2020-10-08T15:25:00.481755",
     "status": "completed"
    },
    "tags": []
   },
   "outputs": [],
   "source": []
  },
  {
   "cell_type": "code",
   "execution_count": null,
   "metadata": {
    "papermill": {
     "duration": 0.021967,
     "end_time": "2020-10-08T15:25:00.547619",
     "exception": false,
     "start_time": "2020-10-08T15:25:00.525652",
     "status": "completed"
    },
    "tags": []
   },
   "outputs": [],
   "source": []
  }
 ],
 "metadata": {
  "kernelspec": {
   "display_name": "Python 3",
   "language": "python",
   "name": "python3"
  },
  "language_info": {
   "codemirror_mode": {
    "name": "ipython",
    "version": 3
   },
   "file_extension": ".py",
   "mimetype": "text/x-python",
   "name": "python",
   "nbconvert_exporter": "python",
   "pygments_lexer": "ipython3",
   "version": "3.6.12"
  },
  "papermill": {
   "duration": 9.724113,
   "end_time": "2020-10-08T15:25:00.977827",
   "environment_variables": {},
   "exception": null,
   "input_path": "latest.ipynb",
   "output_path": "latest.ipynb",
   "parameters": {},
   "start_time": "2020-10-08T15:24:51.253714",
   "version": "2.1.2"
  }
 },
 "nbformat": 4,
 "nbformat_minor": 4
}