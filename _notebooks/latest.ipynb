{
 "cells": [
  {
   "cell_type": "markdown",
   "id": "colored-stack",
   "metadata": {
    "papermill": {
     "duration": 0.021171,
     "end_time": "2021-02-28T12:59:10.423721",
     "exception": false,
     "start_time": "2021-02-28T12:59:10.402550",
     "status": "completed"
    },
    "tags": []
   },
   "source": [
    "# Latest COVID-19 India Matplotlib Overview"
   ]
  },
  {
   "cell_type": "code",
   "execution_count": 1,
   "id": "light-proportion",
   "metadata": {
    "execution": {
     "iopub.execute_input": "2021-02-28T12:59:10.476312Z",
     "iopub.status.busy": "2021-02-28T12:59:10.475694Z",
     "iopub.status.idle": "2021-02-28T12:59:11.084580Z",
     "shell.execute_reply": "2021-02-28T12:59:11.083357Z"
    },
    "papermill": {
     "duration": 0.642219,
     "end_time": "2021-02-28T12:59:11.084741",
     "exception": false,
     "start_time": "2021-02-28T12:59:10.442522",
     "status": "completed"
    },
    "tags": []
   },
   "outputs": [],
   "source": [
    "#hide\n",
    "import pandas as pd\n",
    "import numpy as np\n",
    "import requests\n",
    "import json\n",
    "import matplotlib.pyplot as plt\n",
    "import matplotlib.dates as mdates\n",
    "import matplotlib as mpl\n",
    "from IPython.core.display import display,HTML\n",
    "%matplotlib inline\n",
    "from datetime import date"
   ]
  },
  {
   "cell_type": "code",
   "execution_count": 2,
   "id": "greenhouse-shooting",
   "metadata": {
    "execution": {
     "iopub.execute_input": "2021-02-28T12:59:11.127895Z",
     "iopub.status.busy": "2021-02-28T12:59:11.126556Z",
     "iopub.status.idle": "2021-02-28T12:59:11.514602Z",
     "shell.execute_reply": "2021-02-28T12:59:11.514081Z"
    },
    "papermill": {
     "duration": 0.412582,
     "end_time": "2021-02-28T12:59:11.514738",
     "exception": false,
     "start_time": "2021-02-28T12:59:11.102156",
     "status": "completed"
    },
    "tags": []
   },
   "outputs": [],
   "source": [
    "#hide\n",
    "df  = pd.read_csv('https://api.covid19india.org/csv/latest/states.csv')\n",
    "df = df[['Date','State','Confirmed','Deceased']]\n",
    "df = df.rename(columns={'Confirmed':'Cases', \"Deceased\":'Deaths'})\n",
    "df_cases = df[[\"Date\",'State','Cases']]\n",
    "df_deaths = df[['Date','State','Deaths']]\n",
    "df_cases1 = df_cases.groupby('Date')\n",
    "df_deaths1= df_deaths.groupby('Date')"
   ]
  },
  {
   "cell_type": "code",
   "execution_count": 3,
   "id": "hybrid-cathedral",
   "metadata": {
    "execution": {
     "iopub.execute_input": "2021-02-28T12:59:11.557181Z",
     "iopub.status.busy": "2021-02-28T12:59:11.556574Z",
     "iopub.status.idle": "2021-02-28T12:59:11.574896Z",
     "shell.execute_reply": "2021-02-28T12:59:11.574392Z"
    },
    "papermill": {
     "duration": 0.041602,
     "end_time": "2021-02-28T12:59:11.575026",
     "exception": false,
     "start_time": "2021-02-28T12:59:11.533424",
     "status": "completed"
    },
    "tags": []
   },
   "outputs": [],
   "source": [
    "#hide\n",
    "df_snap = pd.read_csv('data/SnapshotCases-28-July.csv')\n",
    "arr_states = df_snap['states'].unique()\n",
    "arr_dates = df['Date'].unique()\n",
    "df_snap = df_snap.set_index('states')"
   ]
  },
  {
   "cell_type": "code",
   "execution_count": 4,
   "id": "interior-belfast",
   "metadata": {
    "execution": {
     "iopub.execute_input": "2021-02-28T12:59:11.619062Z",
     "iopub.status.busy": "2021-02-28T12:59:11.618459Z",
     "iopub.status.idle": "2021-02-28T12:59:11.621345Z",
     "shell.execute_reply": "2021-02-28T12:59:11.621795Z"
    },
    "papermill": {
     "duration": 0.028576,
     "end_time": "2021-02-28T12:59:11.621941",
     "exception": false,
     "start_time": "2021-02-28T12:59:11.593365",
     "status": "completed"
    },
    "tags": []
   },
   "outputs": [
    {
     "data": {
      "text/plain": [
       "array(['Andaman and Nicobar Islands', 'Andhra Pradesh',\n",
       "       'Arunachal Pradesh', 'Assam', 'Bihar', 'Chandigarh',\n",
       "       'Dadra and Nagar Haveli and Daman and Diu', 'Delhi', 'Goa',\n",
       "       'Gujarat', 'Haryana', 'Himachal Pradesh', 'Jammu and Kashmir',\n",
       "       'Jharkhand', 'Karnataka', 'Kerala', 'Lakshadweep',\n",
       "       'Madhya Pradesh', 'Maharashtra', 'Manipur', 'Meghalaya', 'Mizoram',\n",
       "       'Nagaland', 'Odisha', 'Puducherry', 'Punjab', 'Rajasthan',\n",
       "       'Sikkim', 'Tamil Nadu', 'Telangana', 'Tripura', 'Uttar Pradesh',\n",
       "       'West Bengal', 'Chhattisgarh', 'Ladakh', 'Uttarakhand'],\n",
       "      dtype=object)"
      ]
     },
     "execution_count": 4,
     "metadata": {},
     "output_type": "execute_result"
    }
   ],
   "source": [
    "#hide\n",
    "arr_states[-9] = 'Puducherry'\n",
    "arr_states[-10] = 'Odisha'\n",
    "arr_states[6] = 'Dadra and Nagar Haveli and Daman and Diu'\n",
    "arr_states = np.append(arr_states,np.array(['Chhattisgarh','Ladakh','Uttarakhand']))\n",
    "arr_states"
   ]
  },
  {
   "cell_type": "code",
   "execution_count": 5,
   "id": "behind-manner",
   "metadata": {
    "execution": {
     "iopub.execute_input": "2021-02-28T12:59:11.674683Z",
     "iopub.status.busy": "2021-02-28T12:59:11.674072Z",
     "iopub.status.idle": "2021-02-28T12:59:11.683134Z",
     "shell.execute_reply": "2021-02-28T12:59:11.683650Z"
    },
    "papermill": {
     "duration": 0.042635,
     "end_time": "2021-02-28T12:59:11.683798",
     "exception": false,
     "start_time": "2021-02-28T12:59:11.641163",
     "status": "completed"
    },
    "tags": []
   },
   "outputs": [],
   "source": [
    "#hide\n",
    "dates = []\n",
    "for i in arr_dates:\n",
    "    if i>='2020-07-01':\n",
    "        dates.append(i)\n",
    "dict = {'states':dates}\n",
    "for i in arr_states:\n",
    "    dict[i] = [0]*len(dates)\n",
    "dft_cases = pd.DataFrame(dict)\n",
    "dft_deaths = pd.DataFrame(dict)\n"
   ]
  },
  {
   "cell_type": "code",
   "execution_count": 6,
   "id": "simplified-peter",
   "metadata": {
    "execution": {
     "iopub.execute_input": "2021-02-28T12:59:11.728296Z",
     "iopub.status.busy": "2021-02-28T12:59:11.727689Z",
     "iopub.status.idle": "2021-02-28T12:59:15.130326Z",
     "shell.execute_reply": "2021-02-28T12:59:15.129561Z"
    },
    "papermill": {
     "duration": 3.428203,
     "end_time": "2021-02-28T12:59:15.130518",
     "exception": false,
     "start_time": "2021-02-28T12:59:11.702315",
     "status": "completed"
    },
    "tags": []
   },
   "outputs": [],
   "source": [
    "#hide\n",
    "for i in range(len(dates)):\n",
    "    df1_deaths = df_deaths1.get_group(dates[i])\n",
    "    for j in range(len(df1_deaths.index)):\n",
    "        if df1_deaths.iloc[j,1] in arr_states:\n",
    "            dft_deaths.loc[i,df1_deaths.iloc[j,1]] = df1_deaths.iloc[j,2]\n",
    "dft_deaths = dft_deaths.set_index('states')"
   ]
  },
  {
   "cell_type": "code",
   "execution_count": 7,
   "id": "geological-welding",
   "metadata": {
    "execution": {
     "iopub.execute_input": "2021-02-28T12:59:15.176189Z",
     "iopub.status.busy": "2021-02-28T12:59:15.175584Z",
     "iopub.status.idle": "2021-02-28T12:59:18.565357Z",
     "shell.execute_reply": "2021-02-28T12:59:18.564823Z"
    },
    "papermill": {
     "duration": 3.414361,
     "end_time": "2021-02-28T12:59:18.565492",
     "exception": false,
     "start_time": "2021-02-28T12:59:15.151131",
     "status": "completed"
    },
    "tags": []
   },
   "outputs": [],
   "source": [
    "#hide\n",
    "for i in range(len(dates)):\n",
    "    df1_cases = df_cases1.get_group(dates[i])\n",
    "    for j in range(len(df1_cases.index)):\n",
    "        if df1_cases.iloc[j,1] in arr_states:\n",
    "            dft_cases.loc[i,df1_cases.iloc[j,1]] = df1_cases.iloc[j,2]\n",
    "dft_cases = dft_cases.set_index('states')"
   ]
  },
  {
   "cell_type": "code",
   "execution_count": 8,
   "id": "binary-ratio",
   "metadata": {
    "execution": {
     "iopub.execute_input": "2021-02-28T12:59:18.607104Z",
     "iopub.status.busy": "2021-02-28T12:59:18.606503Z",
     "iopub.status.idle": "2021-02-28T12:59:18.611536Z",
     "shell.execute_reply": "2021-02-28T12:59:18.610705Z"
    },
    "papermill": {
     "duration": 0.028634,
     "end_time": "2021-02-28T12:59:18.611739",
     "exception": false,
     "start_time": "2021-02-28T12:59:18.583105",
     "status": "completed"
    },
    "tags": []
   },
   "outputs": [],
   "source": [
    "#hide\n",
    "dft_cases = dft_cases.T\n",
    "dft_deaths = dft_deaths.T\n",
    "dt_today = dates[-1]\n",
    "dt_yday = dates[-2]"
   ]
  },
  {
   "cell_type": "code",
   "execution_count": 9,
   "id": "boolean-calculator",
   "metadata": {
    "execution": {
     "iopub.execute_input": "2021-02-28T12:59:18.657672Z",
     "iopub.status.busy": "2021-02-28T12:59:18.655919Z",
     "iopub.status.idle": "2021-02-28T12:59:18.659965Z",
     "shell.execute_reply": "2021-02-28T12:59:18.659463Z"
    },
    "papermill": {
     "duration": 0.030079,
     "end_time": "2021-02-28T12:59:18.660087",
     "exception": false,
     "start_time": "2021-02-28T12:59:18.630008",
     "status": "completed"
    },
    "tags": []
   },
   "outputs": [],
   "source": [
    "#hide\n",
    "dft_cases = dft_cases.reset_index()\n",
    "dft_deaths = dft_deaths.reset_index()\n",
    "dft_cases = dft_cases.rename(columns = {'index':'state'})\n",
    "dft_deaths = dft_deaths.rename(columns = {'index':'state'})"
   ]
  },
  {
   "cell_type": "code",
   "execution_count": 10,
   "id": "invisible-johnston",
   "metadata": {
    "execution": {
     "iopub.execute_input": "2021-02-28T12:59:18.710799Z",
     "iopub.status.busy": "2021-02-28T12:59:18.709586Z",
     "iopub.status.idle": "2021-02-28T12:59:18.711707Z",
     "shell.execute_reply": "2021-02-28T12:59:18.712209Z"
    },
    "papermill": {
     "duration": 0.034864,
     "end_time": "2021-02-28T12:59:18.712355",
     "exception": false,
     "start_time": "2021-02-28T12:59:18.677491",
     "status": "completed"
    },
    "tags": []
   },
   "outputs": [],
   "source": [
    "#hide\n",
    "dfc_cases = dft_cases.groupby('state')[dt_today].sum()\n",
    "dfc_deaths = dft_deaths.groupby('state')[dt_today].sum()\n",
    "dfp_cases = dft_cases.groupby('state')[dt_yday].sum()\n",
    "dfp_deaths = dft_deaths.groupby('state')[dt_yday].sum()"
   ]
  },
  {
   "cell_type": "code",
   "execution_count": 11,
   "id": "measured-great",
   "metadata": {
    "execution": {
     "iopub.execute_input": "2021-02-28T12:59:18.757961Z",
     "iopub.status.busy": "2021-02-28T12:59:18.757306Z",
     "iopub.status.idle": "2021-02-28T12:59:18.770245Z",
     "shell.execute_reply": "2021-02-28T12:59:18.769762Z"
    },
    "papermill": {
     "duration": 0.040332,
     "end_time": "2021-02-28T12:59:18.770373",
     "exception": false,
     "start_time": "2021-02-28T12:59:18.730041",
     "status": "completed"
    },
    "tags": []
   },
   "outputs": [
    {
     "data": {
      "text/html": [
       "<div>\n",
       "<style scoped>\n",
       "    .dataframe tbody tr th:only-of-type {\n",
       "        vertical-align: middle;\n",
       "    }\n",
       "\n",
       "    .dataframe tbody tr th {\n",
       "        vertical-align: top;\n",
       "    }\n",
       "\n",
       "    .dataframe thead th {\n",
       "        text-align: right;\n",
       "    }\n",
       "</style>\n",
       "<table border=\"1\" class=\"dataframe\">\n",
       "  <thead>\n",
       "    <tr style=\"text-align: right;\">\n",
       "      <th></th>\n",
       "      <th>states</th>\n",
       "      <th>Cases</th>\n",
       "      <th>Deaths</th>\n",
       "      <th>PCases</th>\n",
       "      <th>PDeaths</th>\n",
       "    </tr>\n",
       "  </thead>\n",
       "  <tbody>\n",
       "    <tr>\n",
       "      <th>0</th>\n",
       "      <td>Maharashtra</td>\n",
       "      <td>2146777</td>\n",
       "      <td>52092</td>\n",
       "      <td>2146777</td>\n",
       "      <td>52092</td>\n",
       "    </tr>\n",
       "    <tr>\n",
       "      <th>1</th>\n",
       "      <td>Kerala</td>\n",
       "      <td>1056150</td>\n",
       "      <td>4183</td>\n",
       "      <td>1056150</td>\n",
       "      <td>4183</td>\n",
       "    </tr>\n",
       "    <tr>\n",
       "      <th>2</th>\n",
       "      <td>Karnataka</td>\n",
       "      <td>950730</td>\n",
       "      <td>12326</td>\n",
       "      <td>950730</td>\n",
       "      <td>12326</td>\n",
       "    </tr>\n",
       "    <tr>\n",
       "      <th>3</th>\n",
       "      <td>Andhra Pradesh</td>\n",
       "      <td>889799</td>\n",
       "      <td>7169</td>\n",
       "      <td>889799</td>\n",
       "      <td>7169</td>\n",
       "    </tr>\n",
       "    <tr>\n",
       "      <th>4</th>\n",
       "      <td>Tamil Nadu</td>\n",
       "      <td>851063</td>\n",
       "      <td>12493</td>\n",
       "      <td>851063</td>\n",
       "      <td>12493</td>\n",
       "    </tr>\n",
       "  </tbody>\n",
       "</table>\n",
       "</div>"
      ],
      "text/plain": [
       "           states    Cases  Deaths   PCases  PDeaths\n",
       "0     Maharashtra  2146777   52092  2146777    52092\n",
       "1          Kerala  1056150    4183  1056150     4183\n",
       "2       Karnataka   950730   12326   950730    12326\n",
       "3  Andhra Pradesh   889799    7169   889799     7169\n",
       "4      Tamil Nadu   851063   12493   851063    12493"
      ]
     },
     "execution_count": 11,
     "metadata": {},
     "output_type": "execute_result"
    }
   ],
   "source": [
    "#hide\n",
    "df_table = pd.DataFrame({'states': dfc_cases.index, 'Cases': dfc_cases.values, 'Deaths': dfc_deaths.values, 'PCases': dfp_cases.values, 'PDeaths': dfp_deaths.values}).set_index('states')\n",
    "df_table = df_table.sort_values(by = ['Cases','Deaths'], ascending = [False, False])\n",
    "df_table = df_table.reset_index()\n",
    "df_table.head()"
   ]
  },
  {
   "cell_type": "code",
   "execution_count": 12,
   "id": "found-montreal",
   "metadata": {
    "execution": {
     "iopub.execute_input": "2021-02-28T12:59:18.813989Z",
     "iopub.status.busy": "2021-02-28T12:59:18.813398Z",
     "iopub.status.idle": "2021-02-28T12:59:18.823026Z",
     "shell.execute_reply": "2021-02-28T12:59:18.823502Z"
    },
    "papermill": {
     "duration": 0.035309,
     "end_time": "2021-02-28T12:59:18.823648",
     "exception": false,
     "start_time": "2021-02-28T12:59:18.788339",
     "status": "completed"
    },
    "tags": []
   },
   "outputs": [],
   "source": [
    "#hide\n",
    "for c in 'Cases, Deaths'.split(', '):\n",
    "    df_table[f'{c} (+)'] = (df_table[c] - df_table[f'P{c}']).clip(0)\n",
    "df_table['Fatality Rate'] = (100* df_table['Deaths']/ df_table['Cases']).round(2)"
   ]
  },
  {
   "cell_type": "code",
   "execution_count": 13,
   "id": "minus-savage",
   "metadata": {
    "execution": {
     "iopub.execute_input": "2021-02-28T12:59:18.873307Z",
     "iopub.status.busy": "2021-02-28T12:59:18.872679Z",
     "iopub.status.idle": "2021-02-28T12:59:18.875229Z",
     "shell.execute_reply": "2021-02-28T12:59:18.875711Z"
    },
    "papermill": {
     "duration": 0.034491,
     "end_time": "2021-02-28T12:59:18.875857",
     "exception": false,
     "start_time": "2021-02-28T12:59:18.841366",
     "status": "completed"
    },
    "tags": []
   },
   "outputs": [
    {
     "data": {
      "text/html": [
       "<div>\n",
       "<style scoped>\n",
       "    .dataframe tbody tr th:only-of-type {\n",
       "        vertical-align: middle;\n",
       "    }\n",
       "\n",
       "    .dataframe tbody tr th {\n",
       "        vertical-align: top;\n",
       "    }\n",
       "\n",
       "    .dataframe thead th {\n",
       "        text-align: right;\n",
       "    }\n",
       "</style>\n",
       "<table border=\"1\" class=\"dataframe\">\n",
       "  <thead>\n",
       "    <tr style=\"text-align: right;\">\n",
       "      <th></th>\n",
       "      <th>states</th>\n",
       "      <th>Cases</th>\n",
       "      <th>Deaths</th>\n",
       "      <th>PCases</th>\n",
       "      <th>PDeaths</th>\n",
       "      <th>Cases (+)</th>\n",
       "      <th>Deaths (+)</th>\n",
       "      <th>Fatality Rate</th>\n",
       "    </tr>\n",
       "  </thead>\n",
       "  <tbody>\n",
       "    <tr>\n",
       "      <th>0</th>\n",
       "      <td>Maharashtra</td>\n",
       "      <td>2146777</td>\n",
       "      <td>52092</td>\n",
       "      <td>2146777</td>\n",
       "      <td>52092</td>\n",
       "      <td>0</td>\n",
       "      <td>0</td>\n",
       "      <td>2.43</td>\n",
       "    </tr>\n",
       "    <tr>\n",
       "      <th>1</th>\n",
       "      <td>Kerala</td>\n",
       "      <td>1056150</td>\n",
       "      <td>4183</td>\n",
       "      <td>1056150</td>\n",
       "      <td>4183</td>\n",
       "      <td>0</td>\n",
       "      <td>0</td>\n",
       "      <td>0.40</td>\n",
       "    </tr>\n",
       "    <tr>\n",
       "      <th>2</th>\n",
       "      <td>Karnataka</td>\n",
       "      <td>950730</td>\n",
       "      <td>12326</td>\n",
       "      <td>950730</td>\n",
       "      <td>12326</td>\n",
       "      <td>0</td>\n",
       "      <td>0</td>\n",
       "      <td>1.30</td>\n",
       "    </tr>\n",
       "    <tr>\n",
       "      <th>3</th>\n",
       "      <td>Andhra Pradesh</td>\n",
       "      <td>889799</td>\n",
       "      <td>7169</td>\n",
       "      <td>889799</td>\n",
       "      <td>7169</td>\n",
       "      <td>0</td>\n",
       "      <td>0</td>\n",
       "      <td>0.81</td>\n",
       "    </tr>\n",
       "    <tr>\n",
       "      <th>4</th>\n",
       "      <td>Tamil Nadu</td>\n",
       "      <td>851063</td>\n",
       "      <td>12493</td>\n",
       "      <td>851063</td>\n",
       "      <td>12493</td>\n",
       "      <td>0</td>\n",
       "      <td>0</td>\n",
       "      <td>1.47</td>\n",
       "    </tr>\n",
       "  </tbody>\n",
       "</table>\n",
       "</div>"
      ],
      "text/plain": [
       "           states    Cases  Deaths   PCases  PDeaths  Cases (+)  Deaths (+)  \\\n",
       "0     Maharashtra  2146777   52092  2146777    52092          0           0   \n",
       "1          Kerala  1056150    4183  1056150     4183          0           0   \n",
       "2       Karnataka   950730   12326   950730    12326          0           0   \n",
       "3  Andhra Pradesh   889799    7169   889799     7169          0           0   \n",
       "4      Tamil Nadu   851063   12493   851063    12493          0           0   \n",
       "\n",
       "   Fatality Rate  \n",
       "0           2.43  \n",
       "1           0.40  \n",
       "2           1.30  \n",
       "3           0.81  \n",
       "4           1.47  "
      ]
     },
     "execution_count": 13,
     "metadata": {},
     "output_type": "execute_result"
    }
   ],
   "source": [
    "#hide\n",
    "df_table.head()"
   ]
  },
  {
   "cell_type": "code",
   "execution_count": 14,
   "id": "false-peter",
   "metadata": {
    "execution": {
     "iopub.execute_input": "2021-02-28T12:59:18.920686Z",
     "iopub.status.busy": "2021-02-28T12:59:18.920059Z",
     "iopub.status.idle": "2021-02-28T12:59:18.935471Z",
     "shell.execute_reply": "2021-02-28T12:59:18.935976Z"
    },
    "papermill": {
     "duration": 0.041426,
     "end_time": "2021-02-28T12:59:18.936121",
     "exception": false,
     "start_time": "2021-02-28T12:59:18.894695",
     "status": "completed"
    },
    "tags": []
   },
   "outputs": [
    {
     "data": {
      "text/plain": [
       "{'updated': '2021-02-28',\n",
       " 'since': '2021-02-27',\n",
       " 'Cases': 11097017,\n",
       " 'PCases': 11096442,\n",
       " 'Deaths': 157092,\n",
       " 'PDeaths': 157087,\n",
       " 'Cases (+)': 575,\n",
       " 'Deaths (+)': 5}"
      ]
     },
     "execution_count": 14,
     "metadata": {},
     "output_type": "execute_result"
    }
   ],
   "source": [
    "#hide\n",
    "summary = {'updated':dates[-1], 'since':dates[-2]}\n",
    "list_names = ['Cases', 'PCases', 'Deaths', 'PDeaths', 'Cases (+)', 'Deaths (+)']\n",
    "for name in list_names:\n",
    "    summary[name] = df_table.sum()[name]\n",
    "summary"
   ]
  },
  {
   "cell_type": "code",
   "execution_count": 15,
   "id": "packed-viewer",
   "metadata": {
    "execution": {
     "iopub.execute_input": "2021-02-28T12:59:18.979882Z",
     "iopub.status.busy": "2021-02-28T12:59:18.979254Z",
     "iopub.status.idle": "2021-02-28T12:59:18.981580Z",
     "shell.execute_reply": "2021-02-28T12:59:18.981097Z"
    },
    "papermill": {
     "duration": 0.026866,
     "end_time": "2021-02-28T12:59:18.981706",
     "exception": false,
     "start_time": "2021-02-28T12:59:18.954840",
     "status": "completed"
    },
    "tags": []
   },
   "outputs": [],
   "source": [
    "#hide\n",
    "overview = '''\n",
    "<!-- #######  HTML!! #########-->\n",
    "<h1 style=\"color: #5e9ca0; text-align: center;\">India</h1>\n",
    "<p style=\"text-align: center;\">Last update: <strong>{update}</strong></p>\n",
    "<p style=\"text-align: center;\">Confirmed cases:</p>\n",
    "<p style=\"text-align: center;font-size:24px;\">{cases} (<span style=\"color: #ff0000;\">+{new}</span>)</p>\n",
    "<p style=\"text-align: center;\">Confirmed deaths:</p>\n",
    "<p style=\"text-align: center;font-size:24px;\">{deaths} (<span style=\"color: #ff0000;\">+{dnew}</span>)</p>\n",
    "'''"
   ]
  },
  {
   "cell_type": "code",
   "execution_count": 16,
   "id": "phantom-lover",
   "metadata": {
    "execution": {
     "iopub.execute_input": "2021-02-28T12:59:19.025858Z",
     "iopub.status.busy": "2021-02-28T12:59:19.025251Z",
     "iopub.status.idle": "2021-02-28T12:59:19.028959Z",
     "shell.execute_reply": "2021-02-28T12:59:19.028423Z"
    },
    "papermill": {
     "duration": 0.028706,
     "end_time": "2021-02-28T12:59:19.029085",
     "exception": false,
     "start_time": "2021-02-28T12:59:19.000379",
     "status": "completed"
    },
    "tags": []
   },
   "outputs": [
    {
     "data": {
      "text/html": [
       "\n",
       "<!-- #######  HTML!! #########-->\n",
       "<h1 style=\"color: #5e9ca0; text-align: center;\">India</h1>\n",
       "<p style=\"text-align: center;\">Last update: <strong>2021-02-28</strong></p>\n",
       "<p style=\"text-align: center;\">Confirmed cases:</p>\n",
       "<p style=\"text-align: center;font-size:24px;\">11097017 (<span style=\"color: #ff0000;\">+575</span>)</p>\n",
       "<p style=\"text-align: center;\">Confirmed deaths:</p>\n",
       "<p style=\"text-align: center;font-size:24px;\">157092 (<span style=\"color: #ff0000;\">+5</span>)</p>\n"
      ],
      "text/plain": [
       "<IPython.core.display.HTML object>"
      ]
     },
     "metadata": {},
     "output_type": "display_data"
    }
   ],
   "source": [
    "#hide_input\n",
    "update = summary['updated']\n",
    "cases = summary['Cases']\n",
    "new = summary['Cases (+)']\n",
    "deaths = summary['Deaths']\n",
    "dnew = summary['Deaths (+)']\n",
    "\n",
    "html = HTML(overview.format(update=update, cases=cases,new=new,deaths=deaths,dnew=dnew))\n",
    "\n",
    "display(html)"
   ]
  },
  {
   "cell_type": "code",
   "execution_count": 17,
   "id": "sealed-reset",
   "metadata": {
    "execution": {
     "iopub.execute_input": "2021-02-28T12:59:19.075958Z",
     "iopub.status.busy": "2021-02-28T12:59:19.075370Z",
     "iopub.status.idle": "2021-02-28T12:59:19.083833Z",
     "shell.execute_reply": "2021-02-28T12:59:19.083354Z"
    },
    "papermill": {
     "duration": 0.035924,
     "end_time": "2021-02-28T12:59:19.083959",
     "exception": false,
     "start_time": "2021-02-28T12:59:19.048035",
     "status": "completed"
    },
    "tags": []
   },
   "outputs": [],
   "source": [
    "#hide\n",
    "dt_cols = list(dft_cases.columns[1:])\n",
    "dft_ct_new_cases = dft_cases.groupby('state')[dt_cols].sum().diff(axis=1).fillna(0).astype(int)\n",
    "dft_ct_new_cases.sort_values(by = dates[-1], ascending = False,inplace = True)"
   ]
  },
  {
   "cell_type": "code",
   "execution_count": 18,
   "id": "designed-constant",
   "metadata": {
    "execution": {
     "iopub.execute_input": "2021-02-28T12:59:19.141637Z",
     "iopub.status.busy": "2021-02-28T12:59:19.141029Z",
     "iopub.status.idle": "2021-02-28T12:59:19.143452Z",
     "shell.execute_reply": "2021-02-28T12:59:19.143997Z"
    },
    "papermill": {
     "duration": 0.040667,
     "end_time": "2021-02-28T12:59:19.144137",
     "exception": false,
     "start_time": "2021-02-28T12:59:19.103470",
     "status": "completed"
    },
    "tags": []
   },
   "outputs": [
    {
     "data": {
      "text/html": [
       "<div>\n",
       "<style scoped>\n",
       "    .dataframe tbody tr th:only-of-type {\n",
       "        vertical-align: middle;\n",
       "    }\n",
       "\n",
       "    .dataframe tbody tr th {\n",
       "        vertical-align: top;\n",
       "    }\n",
       "\n",
       "    .dataframe thead th {\n",
       "        text-align: right;\n",
       "    }\n",
       "</style>\n",
       "<table border=\"1\" class=\"dataframe\">\n",
       "  <thead>\n",
       "    <tr style=\"text-align: right;\">\n",
       "      <th>states</th>\n",
       "      <th>2020-07-01</th>\n",
       "      <th>2020-07-02</th>\n",
       "      <th>2020-07-03</th>\n",
       "      <th>2020-07-04</th>\n",
       "      <th>2020-07-05</th>\n",
       "      <th>2020-07-06</th>\n",
       "      <th>2020-07-07</th>\n",
       "      <th>2020-07-08</th>\n",
       "      <th>2020-07-09</th>\n",
       "      <th>2020-07-10</th>\n",
       "      <th>...</th>\n",
       "      <th>2021-02-19</th>\n",
       "      <th>2021-02-20</th>\n",
       "      <th>2021-02-21</th>\n",
       "      <th>2021-02-22</th>\n",
       "      <th>2021-02-23</th>\n",
       "      <th>2021-02-24</th>\n",
       "      <th>2021-02-25</th>\n",
       "      <th>2021-02-26</th>\n",
       "      <th>2021-02-27</th>\n",
       "      <th>2021-02-28</th>\n",
       "    </tr>\n",
       "    <tr>\n",
       "      <th>state</th>\n",
       "      <th></th>\n",
       "      <th></th>\n",
       "      <th></th>\n",
       "      <th></th>\n",
       "      <th></th>\n",
       "      <th></th>\n",
       "      <th></th>\n",
       "      <th></th>\n",
       "      <th></th>\n",
       "      <th></th>\n",
       "      <th></th>\n",
       "      <th></th>\n",
       "      <th></th>\n",
       "      <th></th>\n",
       "      <th></th>\n",
       "      <th></th>\n",
       "      <th></th>\n",
       "      <th></th>\n",
       "      <th></th>\n",
       "      <th></th>\n",
       "      <th></th>\n",
       "    </tr>\n",
       "  </thead>\n",
       "  <tbody>\n",
       "    <tr>\n",
       "      <th>Delhi</th>\n",
       "      <td>0</td>\n",
       "      <td>2373</td>\n",
       "      <td>2520</td>\n",
       "      <td>2505</td>\n",
       "      <td>2244</td>\n",
       "      <td>1379</td>\n",
       "      <td>2008</td>\n",
       "      <td>2033</td>\n",
       "      <td>2187</td>\n",
       "      <td>2089</td>\n",
       "      <td>...</td>\n",
       "      <td>158</td>\n",
       "      <td>152</td>\n",
       "      <td>145</td>\n",
       "      <td>128</td>\n",
       "      <td>145</td>\n",
       "      <td>200</td>\n",
       "      <td>220</td>\n",
       "      <td>256</td>\n",
       "      <td>243</td>\n",
       "      <td>197</td>\n",
       "    </tr>\n",
       "    <tr>\n",
       "      <th>Telangana</th>\n",
       "      <td>0</td>\n",
       "      <td>1213</td>\n",
       "      <td>1892</td>\n",
       "      <td>1850</td>\n",
       "      <td>1590</td>\n",
       "      <td>1831</td>\n",
       "      <td>1879</td>\n",
       "      <td>1924</td>\n",
       "      <td>1410</td>\n",
       "      <td>1278</td>\n",
       "      <td>...</td>\n",
       "      <td>165</td>\n",
       "      <td>157</td>\n",
       "      <td>163</td>\n",
       "      <td>114</td>\n",
       "      <td>0</td>\n",
       "      <td>345</td>\n",
       "      <td>207</td>\n",
       "      <td>189</td>\n",
       "      <td>178</td>\n",
       "      <td>176</td>\n",
       "    </tr>\n",
       "    <tr>\n",
       "      <th>Odisha</th>\n",
       "      <td>0</td>\n",
       "      <td>229</td>\n",
       "      <td>561</td>\n",
       "      <td>495</td>\n",
       "      <td>469</td>\n",
       "      <td>456</td>\n",
       "      <td>571</td>\n",
       "      <td>527</td>\n",
       "      <td>577</td>\n",
       "      <td>755</td>\n",
       "      <td>...</td>\n",
       "      <td>53</td>\n",
       "      <td>65</td>\n",
       "      <td>58</td>\n",
       "      <td>69</td>\n",
       "      <td>62</td>\n",
       "      <td>68</td>\n",
       "      <td>89</td>\n",
       "      <td>94</td>\n",
       "      <td>86</td>\n",
       "      <td>87</td>\n",
       "    </tr>\n",
       "    <tr>\n",
       "      <th>Jammu and Kashmir</th>\n",
       "      <td>0</td>\n",
       "      <td>154</td>\n",
       "      <td>170</td>\n",
       "      <td>227</td>\n",
       "      <td>183</td>\n",
       "      <td>246</td>\n",
       "      <td>256</td>\n",
       "      <td>330</td>\n",
       "      <td>240</td>\n",
       "      <td>387</td>\n",
       "      <td>...</td>\n",
       "      <td>81</td>\n",
       "      <td>68</td>\n",
       "      <td>84</td>\n",
       "      <td>58</td>\n",
       "      <td>94</td>\n",
       "      <td>74</td>\n",
       "      <td>108</td>\n",
       "      <td>85</td>\n",
       "      <td>97</td>\n",
       "      <td>58</td>\n",
       "    </tr>\n",
       "    <tr>\n",
       "      <th>Goa</th>\n",
       "      <td>0</td>\n",
       "      <td>95</td>\n",
       "      <td>94</td>\n",
       "      <td>108</td>\n",
       "      <td>77</td>\n",
       "      <td>52</td>\n",
       "      <td>90</td>\n",
       "      <td>136</td>\n",
       "      <td>112</td>\n",
       "      <td>100</td>\n",
       "      <td>...</td>\n",
       "      <td>45</td>\n",
       "      <td>57</td>\n",
       "      <td>39</td>\n",
       "      <td>29</td>\n",
       "      <td>57</td>\n",
       "      <td>52</td>\n",
       "      <td>71</td>\n",
       "      <td>100</td>\n",
       "      <td>61</td>\n",
       "      <td>54</td>\n",
       "    </tr>\n",
       "  </tbody>\n",
       "</table>\n",
       "<p>5 rows × 243 columns</p>\n",
       "</div>"
      ],
      "text/plain": [
       "states             2020-07-01  2020-07-02  2020-07-03  2020-07-04  2020-07-05  \\\n",
       "state                                                                           \n",
       "Delhi                       0        2373        2520        2505        2244   \n",
       "Telangana                   0        1213        1892        1850        1590   \n",
       "Odisha                      0         229         561         495         469   \n",
       "Jammu and Kashmir           0         154         170         227         183   \n",
       "Goa                         0          95          94         108          77   \n",
       "\n",
       "states             2020-07-06  2020-07-07  2020-07-08  2020-07-09  2020-07-10  \\\n",
       "state                                                                           \n",
       "Delhi                    1379        2008        2033        2187        2089   \n",
       "Telangana                1831        1879        1924        1410        1278   \n",
       "Odisha                    456         571         527         577         755   \n",
       "Jammu and Kashmir         246         256         330         240         387   \n",
       "Goa                        52          90         136         112         100   \n",
       "\n",
       "states             ...  2021-02-19  2021-02-20  2021-02-21  2021-02-22  \\\n",
       "state              ...                                                   \n",
       "Delhi              ...         158         152         145         128   \n",
       "Telangana          ...         165         157         163         114   \n",
       "Odisha             ...          53          65          58          69   \n",
       "Jammu and Kashmir  ...          81          68          84          58   \n",
       "Goa                ...          45          57          39          29   \n",
       "\n",
       "states             2021-02-23  2021-02-24  2021-02-25  2021-02-26  2021-02-27  \\\n",
       "state                                                                           \n",
       "Delhi                     145         200         220         256         243   \n",
       "Telangana                   0         345         207         189         178   \n",
       "Odisha                     62          68          89          94          86   \n",
       "Jammu and Kashmir          94          74         108          85          97   \n",
       "Goa                        57          52          71         100          61   \n",
       "\n",
       "states             2021-02-28  \n",
       "state                          \n",
       "Delhi                     197  \n",
       "Telangana                 176  \n",
       "Odisha                     87  \n",
       "Jammu and Kashmir          58  \n",
       "Goa                        54  \n",
       "\n",
       "[5 rows x 243 columns]"
      ]
     },
     "execution_count": 18,
     "metadata": {},
     "output_type": "execute_result"
    }
   ],
   "source": [
    "#hide\n",
    "dft_ct_new_cases.head()"
   ]
  },
  {
   "cell_type": "code",
   "execution_count": 19,
   "id": "responsible-nightlife",
   "metadata": {
    "execution": {
     "iopub.execute_input": "2021-02-28T12:59:19.217239Z",
     "iopub.status.busy": "2021-02-28T12:59:19.193948Z",
     "iopub.status.idle": "2021-02-28T12:59:27.320134Z",
     "shell.execute_reply": "2021-02-28T12:59:27.320653Z"
    },
    "papermill": {
     "duration": 8.156807,
     "end_time": "2021-02-28T12:59:27.320808",
     "exception": false,
     "start_time": "2021-02-28T12:59:19.164001",
     "status": "completed"
    },
    "tags": []
   },
   "outputs": [
    {
     "data": {
      "image/png": "[encoded data removed]",
      "text/plain": [
       "<Figure size 1296x2016 with 11 Axes>"
      ]
     },
     "metadata": {
      "needs_background": "light"
     },
     "output_type": "display_data"
    }
   ],
   "source": [
    "#hide_input\n",
    "df = dft_ct_new_cases.copy()\n",
    "df.loc['Total'] = df.sum()\n",
    "n = 5\n",
    "ax = []\n",
    "fig = plt.figure(figsize = (18,28))\n",
    "gs = fig.add_gridspec(n+2, 5)\n",
    "# gs = fig.add_gridspec(2, 3)\n",
    "ax1 = fig.add_subplot(gs[0, :])\n",
    "ef = df.loc['Total'].rename_axis('date').reset_index()\n",
    "ef['date'] = ef['date'].astype('datetime64[ns]')\n",
    "ax1.bar(ef.date,ef.Total,alpha=0.3,color='#007acc')\n",
    "ax1.plot(ef.date,ef.Total , marker=\"o\", color='#007acc')\n",
    "ax1.xaxis.set_major_locator(mdates.WeekdayLocator())\n",
    "ax1.xaxis.set_major_formatter(mdates.DateFormatter('%b %d'))\n",
    "ax1.text(0.02, 0.5,'India daily case count', transform = ax1.transAxes, fontsize=25);\n",
    "ax1.spines['right'].set_visible(False)\n",
    "ax1.spines['top'].set_visible(False)\n",
    "\n",
    "ax2 = fig.add_subplot(gs[1,0])\n",
    "ef = df.loc['Maharashtra'].rename_axis('date').reset_index()\n",
    "ef['date'] = ef['date'].astype('datetime64[ns]')\n",
    "\n",
    "ax2.bar(ef.date, ef.Maharashtra,color = '#007acc',alpha=0.5)\n",
    "ax2.xaxis.set_major_locator(mdates.WeekdayLocator())\n",
    "ax2.xaxis.set_major_formatter(mdates.DateFormatter('%b %d'))\n",
    "ax2.set_xticks(ax2.get_xticks()[::3])\n",
    "maxyval = ef.Maharashtra.max()\n",
    "ax2.set_ylim([0,maxyval])\n",
    "ax2.text(0.05, 0.9,'Maharashtra', transform = ax2.transAxes, fontsize=20);\n",
    "ax2.spines['right'].set_visible(False)\n",
    "ax2.spines['top'].set_visible(False)\n",
    "\n",
    "\n",
    "ax3 = fig.add_subplot(gs[1,1])\n",
    "ef = df.loc['Tamil Nadu'].rename_axis('date').reset_index()\n",
    "ef['date'] = ef['date'].astype('datetime64[ns]')\n",
    "ax3.bar(ef.date, ef['Tamil Nadu'],color = '#007acc',alpha=0.5,)\n",
    "ax3.xaxis.set_major_locator(mdates.WeekdayLocator())\n",
    "ax3.xaxis.set_major_formatter(mdates.DateFormatter('%b %d'))\n",
    "ax3.set_xticks(ax3.get_xticks()[::3])\n",
    "ax3.text(0.05, 0.9,'Tamil Nadu', transform = ax3.transAxes, fontsize=20);\n",
    "ax3.spines['right'].set_visible(False)\n",
    "ax3.spines['top'].set_visible(False)\n",
    "\n",
    "ax5 = fig.add_subplot(gs[1,3])\n",
    "ef = df.loc['Telangana'].rename_axis('date').reset_index()\n",
    "ef['date'] = ef['date'].astype('datetime64[ns]')\n",
    "ax5.bar(ef.date, ef['Telangana'],color = '#007acc',alpha=0.5,)\n",
    "ax5.xaxis.set_major_locator(mdates.WeekdayLocator())\n",
    "ax5.xaxis.set_major_formatter(mdates.DateFormatter('%b %d'))\n",
    "ax5.set_xticks(ax5.get_xticks()[::3])\n",
    "ax5.text(0.05, 0.9,'Telangana', transform = ax5.transAxes, fontsize=20);\n",
    "ax5.spines['right'].set_visible(False)\n",
    "ax5.spines['top'].set_visible(False)\n",
    "\n",
    "ax6 = fig.add_subplot(gs[1,4])\n",
    "ef = df.loc['Andhra Pradesh'].rename_axis('date').reset_index()\n",
    "ef['date'] = ef['date'].astype('datetime64[ns]')\n",
    "ax6.bar(ef.date, ef['Andhra Pradesh'],color = '#007acc',alpha=0.5,)\n",
    "ax6.xaxis.set_major_locator(mdates.WeekdayLocator())\n",
    "ax6.xaxis.set_major_formatter(mdates.DateFormatter('%b %d'))\n",
    "ax6.set_xticks(ax6.get_xticks()[::3])\n",
    "ax6.text(0.05, 1,'Andhra Pradesh', transform = ax6.transAxes, fontsize=20);\n",
    "ax6.spines['right'].set_visible(False)\n",
    "ax6.spines['top'].set_visible(False)\n",
    "\n",
    "ax4 = fig.add_subplot(gs[1,2])\n",
    "ef = df.loc['Delhi'].rename_axis('date').reset_index()\n",
    "ef['date'] = ef['date'].astype('datetime64[ns]')\n",
    "ax4.bar(ef.date, ef.Delhi,color = '#007acc',alpha=0.5)\n",
    "ax4.set_xticks([])\n",
    "ax4.xaxis.set_major_locator(mdates.WeekdayLocator())\n",
    "ax4.xaxis.set_major_formatter(mdates.DateFormatter('%b %d'))\n",
    "ax4.set_xticks(ax4.get_xticks()[::3])\n",
    "ax4.spines['right'].set_visible(False)\n",
    "ax4.spines['top'].set_visible(False)\n",
    "\n",
    "ax4.text(0.05, 1,'Delhi', transform = ax4.transAxes, fontsize=20)\n",
    "\n",
    "for i in range(n):\n",
    "    \n",
    "    ax.append(fig.add_subplot(gs[i+2,:]))\n",
    "    ef = df.iloc[i+3].rename_axis('date').reset_index()\n",
    "    ef['date'] = ef['date'].astype('datetime64[ns]')\n",
    "    ax[i].bar(ef.date,ef.iloc[:,-1],color = '#007acc',alpha=0.3)\n",
    "    ax[i].plot(ef.date,ef.iloc[:,-1],marker='o',color='#007acc')\n",
    "    ax[i].text(0.02,0.5,f'{ef.columns.values[-1]}',transform = ax[i].transAxes, fontsize = 20);\n",
    "    ax[i].xaxis.set_major_locator(mdates.WeekdayLocator())\n",
    "    ax[i].xaxis.set_major_formatter(mdates.DateFormatter('%b %d'))\n",
    "    ax[i].set_ylim([0,7000])\n",
    "    ax[i].spines['right'].set_visible(False)\n",
    "    ax[i].spines['top'].set_visible(False)\n",
    "plt.tight_layout()\n"
   ]
  },
  {
   "cell_type": "code",
   "execution_count": 20,
   "id": "dress-forge",
   "metadata": {
    "execution": {
     "iopub.execute_input": "2021-02-28T12:59:27.379669Z",
     "iopub.status.busy": "2021-02-28T12:59:27.379033Z",
     "iopub.status.idle": "2021-02-28T12:59:27.381248Z",
     "shell.execute_reply": "2021-02-28T12:59:27.381791Z"
    },
    "papermill": {
     "duration": 0.036302,
     "end_time": "2021-02-28T12:59:27.381933",
     "exception": false,
     "start_time": "2021-02-28T12:59:27.345631",
     "status": "completed"
    },
    "tags": []
   },
   "outputs": [
    {
     "name": "stdout",
     "output_type": "stream",
     "text": [
      "                                   states    Cases  Deaths   PCases  PDeaths  Cases (+)  Deaths (+)  Fatality Rate\n",
      "                              Maharashtra  2146777   52092  2146777    52092          0           0           2.43\n",
      "                                   Kerala  1056150    4183  1056150     4183          0           0           0.40\n",
      "                                Karnataka   950730   12326   950730    12326          0           0           1.30\n",
      "                           Andhra Pradesh   889799    7169   889799     7169          0           0           0.81\n",
      "                               Tamil Nadu   851063   12493   851063    12493          0           0           1.47\n",
      "                                    Delhi   639289   10910   639092    10909        197           1           1.71\n",
      "                            Uttar Pradesh   603427    8724   603427     8724          0           0           1.45\n",
      "                              West Bengal   574926   10266   574926    10266          0           0           1.79\n",
      "                                   Odisha   337191    1969   337104     1968         87           1           0.58\n",
      "                                Rajasthan   320180    2787   320180     2787          0           0           0.87\n",
      "                             Chhattisgarh   312419    3833   312419     3833          0           0           1.23\n",
      "                                Telangana   298807    1634   298631     1633        176           1           0.55\n",
      "                                  Haryana   270610    3047   270610     3047          0           0           1.13\n",
      "                                  Gujarat   269482    4409   269482     4409          0           0           1.64\n",
      "                                    Bihar   262509    1541   262509     1541          0           0           0.59\n",
      "                           Madhya Pradesh   261403    3863   261403     3863          0           0           1.48\n",
      "                                    Assam   217527    1092   217527     1092          0           0           0.50\n",
      "                                   Punjab   181597    5825   181597     5825          0           0           3.21\n",
      "                        Jammu and Kashmir   126441    1957   126383     1956         58           1           1.55\n",
      "                                Jharkhand   119905    1088   119905     1088          0           0           0.91\n",
      "                              Uttarakhand    96949    1692    96949     1692          0           0           1.75\n",
      "                         Himachal Pradesh    58598     982    58598      982          0           0           1.68\n",
      "                                      Goa    54986     795    54932      794         54           1           1.45\n",
      "                               Puducherry    39717     668    39717      668          0           0           1.68\n",
      "                                  Tripura    33404     388    33404      388          0           0           1.16\n",
      "                                  Manipur    29271     373    29271      373          0           0           1.27\n",
      "                               Chandigarh    21719     351    21719      351          0           0           1.62\n",
      "                        Arunachal Pradesh    16836      56    16836       56          0           0           0.33\n",
      "                                Meghalaya    13962     148    13961      148          1           0           1.06\n",
      "                                 Nagaland    12200      91    12199       91          1           0           0.75\n",
      "                                   Ladakh     9818     130     9818      130          0           0           1.32\n",
      "                                   Sikkim     6137     135     6137      135          0           0           2.20\n",
      "              Andaman and Nicobar Islands     5018      62     5018       62          0           0           1.24\n",
      "                                  Mizoram     4423      10     4422       10          1           0           0.23\n",
      " Dadra and Nagar Haveli and Daman and Diu     3388       2     3388        2          0           0           0.06\n",
      "                              Lakshadweep      359       1      359        1          0           0           0.28\n"
     ]
    }
   ],
   "source": [
    "#hide_input\n",
    "print(df_table.to_string(index=False))"
   ]
  },
  {
   "cell_type": "code",
   "execution_count": null,
   "id": "quantitative-legend",
   "metadata": {
    "papermill": {
     "duration": 0.025354,
     "end_time": "2021-02-28T12:59:27.432711",
     "exception": false,
     "start_time": "2021-02-28T12:59:27.407357",
     "status": "completed"
    },
    "tags": []
   },
   "outputs": [],
   "source": []
  },
  {
   "cell_type": "code",
   "execution_count": null,
   "id": "distant-acoustic",
   "metadata": {
    "papermill": {
     "duration": 0.025237,
     "end_time": "2021-02-28T12:59:27.483772",
     "exception": false,
     "start_time": "2021-02-28T12:59:27.458535",
     "status": "completed"
    },
    "tags": []
   },
   "outputs": [],
   "source": []
  }
 ],
 "metadata": {
  "kernelspec": {
   "display_name": "Python 3",
   "language": "python",
   "name": "python3"
  },
  "language_info": {
   "codemirror_mode": {
    "name": "ipython",
    "version": 3
   },
   "file_extension": ".py",
   "mimetype": "text/x-python",
   "name": "python",
   "nbconvert_exporter": "python",
   "pygments_lexer": "ipython3",
   "version": "3.6.13"
  },
  "papermill": {
   "duration": 19.117669,
   "end_time": "2021-02-28T12:59:28.220574",
   "environment_variables": {},
   "exception": null,
   "input_path": "latest.ipynb",
   "output_path": "latest.ipynb",
   "parameters": {},
   "start_time": "2021-02-28T12:59:09.102905",
   "version": "2.1.2"
  }
 },
 "nbformat": 4,
 "nbformat_minor": 5
}