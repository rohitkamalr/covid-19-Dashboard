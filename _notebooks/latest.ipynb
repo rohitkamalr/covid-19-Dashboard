{
 "cells": [
  {
   "cell_type": "markdown",
   "id": "colored-stack",
   "metadata": {
    "papermill": {
     "duration": 0.020882,
     "end_time": "2021-03-13T13:51:27.728387",
     "exception": false,
     "start_time": "2021-03-13T13:51:27.707505",
     "status": "completed"
    },
    "tags": []
   },
   "source": [
    "# Latest COVID-19 India Matplotlib Overview"
   ]
  },
  {
   "cell_type": "code",
   "execution_count": 1,
   "id": "light-proportion",
   "metadata": {
    "execution": {
     "iopub.execute_input": "2021-03-13T13:51:27.771828Z",
     "iopub.status.busy": "2021-03-13T13:51:27.770989Z",
     "iopub.status.idle": "2021-03-13T13:51:28.273073Z",
     "shell.execute_reply": "2021-03-13T13:51:28.272611Z"
    },
    "papermill": {
     "duration": 0.527482,
     "end_time": "2021-03-13T13:51:28.273202",
     "exception": false,
     "start_time": "2021-03-13T13:51:27.745720",
     "status": "completed"
    },
    "tags": []
   },
   "outputs": [],
   "source": [
    "#hide\n",
    "import pandas as pd\n",
    "import numpy as np\n",
    "import requests\n",
    "import json\n",
    "import matplotlib.pyplot as plt\n",
    "import matplotlib.dates as mdates\n",
    "import matplotlib as mpl\n",
    "from IPython.core.display import display,HTML\n",
    "%matplotlib inline\n",
    "from datetime import date"
   ]
  },
  {
   "cell_type": "code",
   "execution_count": 2,
   "id": "greenhouse-shooting",
   "metadata": {
    "execution": {
     "iopub.execute_input": "2021-03-13T13:51:28.308567Z",
     "iopub.status.busy": "2021-03-13T13:51:28.307777Z",
     "iopub.status.idle": "2021-03-13T13:51:28.481614Z",
     "shell.execute_reply": "2021-03-13T13:51:28.481122Z"
    },
    "papermill": {
     "duration": 0.194025,
     "end_time": "2021-03-13T13:51:28.481735",
     "exception": false,
     "start_time": "2021-03-13T13:51:28.287710",
     "status": "completed"
    },
    "tags": []
   },
   "outputs": [],
   "source": [
    "#hide\n",
    "df  = pd.read_csv('https://api.covid19india.org/csv/latest/states.csv')\n",
    "df = df[['Date','State','Confirmed','Deceased']]\n",
    "df = df.rename(columns={'Confirmed':'Cases', \"Deceased\":'Deaths'})\n",
    "df_cases = df[[\"Date\",'State','Cases']]\n",
    "df_deaths = df[['Date','State','Deaths']]\n",
    "df_cases1 = df_cases.groupby('Date')\n",
    "df_deaths1= df_deaths.groupby('Date')"
   ]
  },
  {
   "cell_type": "code",
   "execution_count": 3,
   "id": "hybrid-cathedral",
   "metadata": {
    "execution": {
     "iopub.execute_input": "2021-03-13T13:51:28.516419Z",
     "iopub.status.busy": "2021-03-13T13:51:28.515912Z",
     "iopub.status.idle": "2021-03-13T13:51:28.531294Z",
     "shell.execute_reply": "2021-03-13T13:51:28.531686Z"
    },
    "papermill": {
     "duration": 0.034957,
     "end_time": "2021-03-13T13:51:28.531800",
     "exception": false,
     "start_time": "2021-03-13T13:51:28.496843",
     "status": "completed"
    },
    "tags": []
   },
   "outputs": [],
   "source": [
    "#hide\n",
    "df_snap = pd.read_csv('data/SnapshotCases-28-July.csv')\n",
    "arr_states = df_snap['states'].unique()\n",
    "arr_dates = df['Date'].unique()\n",
    "df_snap = df_snap.set_index('states')"
   ]
  },
  {
   "cell_type": "code",
   "execution_count": 4,
   "id": "interior-belfast",
   "metadata": {
    "execution": {
     "iopub.execute_input": "2021-03-13T13:51:28.567055Z",
     "iopub.status.busy": "2021-03-13T13:51:28.566491Z",
     "iopub.status.idle": "2021-03-13T13:51:28.570843Z",
     "shell.execute_reply": "2021-03-13T13:51:28.570293Z"
    },
    "papermill": {
     "duration": 0.024123,
     "end_time": "2021-03-13T13:51:28.570948",
     "exception": false,
     "start_time": "2021-03-13T13:51:28.546825",
     "status": "completed"
    },
    "tags": []
   },
   "outputs": [
    {
     "data": {
      "text/plain": [
       "array(['Andaman and Nicobar Islands', 'Andhra Pradesh',\n",
       "       'Arunachal Pradesh', 'Assam', 'Bihar', 'Chandigarh',\n",
       "       'Dadra and Nagar Haveli and Daman and Diu', 'Delhi', 'Goa',\n",
       "       'Gujarat', 'Haryana', 'Himachal Pradesh', 'Jammu and Kashmir',\n",
       "       'Jharkhand', 'Karnataka', 'Kerala', 'Lakshadweep',\n",
       "       'Madhya Pradesh', 'Maharashtra', 'Manipur', 'Meghalaya', 'Mizoram',\n",
       "       'Nagaland', 'Odisha', 'Puducherry', 'Punjab', 'Rajasthan',\n",
       "       'Sikkim', 'Tamil Nadu', 'Telangana', 'Tripura', 'Uttar Pradesh',\n",
       "       'West Bengal', 'Chhattisgarh', 'Ladakh', 'Uttarakhand'],\n",
       "      dtype=object)"
      ]
     },
     "execution_count": 4,
     "metadata": {},
     "output_type": "execute_result"
    }
   ],
   "source": [
    "#hide\n",
    "arr_states[-9] = 'Puducherry'\n",
    "arr_states[-10] = 'Odisha'\n",
    "arr_states[6] = 'Dadra and Nagar Haveli and Daman and Diu'\n",
    "arr_states = np.append(arr_states,np.array(['Chhattisgarh','Ladakh','Uttarakhand']))\n",
    "arr_states"
   ]
  },
  {
   "cell_type": "code",
   "execution_count": 5,
   "id": "behind-manner",
   "metadata": {
    "execution": {
     "iopub.execute_input": "2021-03-13T13:51:28.620190Z",
     "iopub.status.busy": "2021-03-13T13:51:28.619625Z",
     "iopub.status.idle": "2021-03-13T13:51:28.622054Z",
     "shell.execute_reply": "2021-03-13T13:51:28.622574Z"
    },
    "papermill": {
     "duration": 0.035641,
     "end_time": "2021-03-13T13:51:28.622684",
     "exception": false,
     "start_time": "2021-03-13T13:51:28.587043",
     "status": "completed"
    },
    "tags": []
   },
   "outputs": [],
   "source": [
    "#hide\n",
    "dates = []\n",
    "for i in arr_dates:\n",
    "    if i>='2020-07-01':\n",
    "        dates.append(i)\n",
    "dict = {'states':dates}\n",
    "for i in arr_states:\n",
    "    dict[i] = [0]*len(dates)\n",
    "dft_cases = pd.DataFrame(dict)\n",
    "dft_deaths = pd.DataFrame(dict)\n"
   ]
  },
  {
   "cell_type": "code",
   "execution_count": 6,
   "id": "simplified-peter",
   "metadata": {
    "execution": {
     "iopub.execute_input": "2021-03-13T13:51:28.661223Z",
     "iopub.status.busy": "2021-03-13T13:51:28.660647Z",
     "iopub.status.idle": "2021-03-13T13:51:32.459971Z",
     "shell.execute_reply": "2021-03-13T13:51:32.460414Z"
    },
    "papermill": {
     "duration": 3.82104,
     "end_time": "2021-03-13T13:51:32.460561",
     "exception": false,
     "start_time": "2021-03-13T13:51:28.639521",
     "status": "completed"
    },
    "tags": []
   },
   "outputs": [],
   "source": [
    "#hide\n",
    "for i in range(len(dates)):\n",
    "    df1_deaths = df_deaths1.get_group(dates[i])\n",
    "    for j in range(len(df1_deaths.index)):\n",
    "        if df1_deaths.iloc[j,1] in arr_states:\n",
    "            dft_deaths.loc[i,df1_deaths.iloc[j,1]] = df1_deaths.iloc[j,2]\n",
    "dft_deaths = dft_deaths.set_index('states')"
   ]
  },
  {
   "cell_type": "code",
   "execution_count": 7,
   "id": "geological-welding",
   "metadata": {
    "execution": {
     "iopub.execute_input": "2021-03-13T13:51:32.496385Z",
     "iopub.status.busy": "2021-03-13T13:51:32.495784Z",
     "iopub.status.idle": "2021-03-13T13:51:36.387662Z",
     "shell.execute_reply": "2021-03-13T13:51:36.387174Z"
    },
    "papermill": {
     "duration": 3.911813,
     "end_time": "2021-03-13T13:51:36.387781",
     "exception": false,
     "start_time": "2021-03-13T13:51:32.475968",
     "status": "completed"
    },
    "tags": []
   },
   "outputs": [],
   "source": [
    "#hide\n",
    "for i in range(len(dates)):\n",
    "    df1_cases = df_cases1.get_group(dates[i])\n",
    "    for j in range(len(df1_cases.index)):\n",
    "        if df1_cases.iloc[j,1] in arr_states:\n",
    "            dft_cases.loc[i,df1_cases.iloc[j,1]] = df1_cases.iloc[j,2]\n",
    "dft_cases = dft_cases.set_index('states')"
   ]
  },
  {
   "cell_type": "code",
   "execution_count": 8,
   "id": "binary-ratio",
   "metadata": {
    "execution": {
     "iopub.execute_input": "2021-03-13T13:51:36.424003Z",
     "iopub.status.busy": "2021-03-13T13:51:36.422883Z",
     "iopub.status.idle": "2021-03-13T13:51:36.424581Z",
     "shell.execute_reply": "2021-03-13T13:51:36.425067Z"
    },
    "papermill": {
     "duration": 0.022074,
     "end_time": "2021-03-13T13:51:36.425181",
     "exception": false,
     "start_time": "2021-03-13T13:51:36.403107",
     "status": "completed"
    },
    "tags": []
   },
   "outputs": [],
   "source": [
    "#hide\n",
    "dft_cases = dft_cases.T\n",
    "dft_deaths = dft_deaths.T\n",
    "dt_today = dates[-1]\n",
    "dt_yday = dates[-2]"
   ]
  },
  {
   "cell_type": "code",
   "execution_count": 9,
   "id": "boolean-calculator",
   "metadata": {
    "execution": {
     "iopub.execute_input": "2021-03-13T13:51:36.464590Z",
     "iopub.status.busy": "2021-03-13T13:51:36.463963Z",
     "iopub.status.idle": "2021-03-13T13:51:36.468474Z",
     "shell.execute_reply": "2021-03-13T13:51:36.468950Z"
    },
    "papermill": {
     "duration": 0.025128,
     "end_time": "2021-03-13T13:51:36.469060",
     "exception": false,
     "start_time": "2021-03-13T13:51:36.443932",
     "status": "completed"
    },
    "tags": []
   },
   "outputs": [],
   "source": [
    "#hide\n",
    "dft_cases = dft_cases.reset_index()\n",
    "dft_deaths = dft_deaths.reset_index()\n",
    "dft_cases = dft_cases.rename(columns = {'index':'state'})\n",
    "dft_deaths = dft_deaths.rename(columns = {'index':'state'})"
   ]
  },
  {
   "cell_type": "code",
   "execution_count": 10,
   "id": "invisible-johnston",
   "metadata": {
    "execution": {
     "iopub.execute_input": "2021-03-13T13:51:36.509307Z",
     "iopub.status.busy": "2021-03-13T13:51:36.508782Z",
     "iopub.status.idle": "2021-03-13T13:51:36.510991Z",
     "shell.execute_reply": "2021-03-13T13:51:36.511489Z"
    },
    "papermill": {
     "duration": 0.027879,
     "end_time": "2021-03-13T13:51:36.511603",
     "exception": false,
     "start_time": "2021-03-13T13:51:36.483724",
     "status": "completed"
    },
    "tags": []
   },
   "outputs": [],
   "source": [
    "#hide\n",
    "dfc_cases = dft_cases.groupby('state')[dt_today].sum()\n",
    "dfc_deaths = dft_deaths.groupby('state')[dt_today].sum()\n",
    "dfp_cases = dft_cases.groupby('state')[dt_yday].sum()\n",
    "dfp_deaths = dft_deaths.groupby('state')[dt_yday].sum()"
   ]
  },
  {
   "cell_type": "code",
   "execution_count": 11,
   "id": "measured-great",
   "metadata": {
    "execution": {
     "iopub.execute_input": "2021-03-13T13:51:36.547026Z",
     "iopub.status.busy": "2021-03-13T13:51:36.546375Z",
     "iopub.status.idle": "2021-03-13T13:51:36.559065Z",
     "shell.execute_reply": "2021-03-13T13:51:36.559554Z"
    },
    "papermill": {
     "duration": 0.032889,
     "end_time": "2021-03-13T13:51:36.559664",
     "exception": false,
     "start_time": "2021-03-13T13:51:36.526775",
     "status": "completed"
    },
    "tags": []
   },
   "outputs": [
    {
     "data": {
      "text/html": [
       "<div>\n",
       "<style scoped>\n",
       "    .dataframe tbody tr th:only-of-type {\n",
       "        vertical-align: middle;\n",
       "    }\n",
       "\n",
       "    .dataframe tbody tr th {\n",
       "        vertical-align: top;\n",
       "    }\n",
       "\n",
       "    .dataframe thead th {\n",
       "        text-align: right;\n",
       "    }\n",
       "</style>\n",
       "<table border=\"1\" class=\"dataframe\">\n",
       "  <thead>\n",
       "    <tr style=\"text-align: right;\">\n",
       "      <th></th>\n",
       "      <th>states</th>\n",
       "      <th>Cases</th>\n",
       "      <th>Deaths</th>\n",
       "      <th>PCases</th>\n",
       "      <th>PDeaths</th>\n",
       "    </tr>\n",
       "  </thead>\n",
       "  <tbody>\n",
       "    <tr>\n",
       "      <th>0</th>\n",
       "      <td>Maharashtra</td>\n",
       "      <td>2282191</td>\n",
       "      <td>52723</td>\n",
       "      <td>2282191</td>\n",
       "      <td>52723</td>\n",
       "    </tr>\n",
       "    <tr>\n",
       "      <th>1</th>\n",
       "      <td>Kerala</td>\n",
       "      <td>1087444</td>\n",
       "      <td>4370</td>\n",
       "      <td>1087444</td>\n",
       "      <td>4370</td>\n",
       "    </tr>\n",
       "    <tr>\n",
       "      <th>2</th>\n",
       "      <td>Karnataka</td>\n",
       "      <td>958417</td>\n",
       "      <td>12386</td>\n",
       "      <td>958417</td>\n",
       "      <td>12386</td>\n",
       "    </tr>\n",
       "    <tr>\n",
       "      <th>3</th>\n",
       "      <td>Andhra Pradesh</td>\n",
       "      <td>891388</td>\n",
       "      <td>7180</td>\n",
       "      <td>891388</td>\n",
       "      <td>7180</td>\n",
       "    </tr>\n",
       "    <tr>\n",
       "      <th>4</th>\n",
       "      <td>Tamil Nadu</td>\n",
       "      <td>858272</td>\n",
       "      <td>12539</td>\n",
       "      <td>858272</td>\n",
       "      <td>12539</td>\n",
       "    </tr>\n",
       "  </tbody>\n",
       "</table>\n",
       "</div>"
      ],
      "text/plain": [
       "           states    Cases  Deaths   PCases  PDeaths\n",
       "0     Maharashtra  2282191   52723  2282191    52723\n",
       "1          Kerala  1087444    4370  1087444     4370\n",
       "2       Karnataka   958417   12386   958417    12386\n",
       "3  Andhra Pradesh   891388    7180   891388     7180\n",
       "4      Tamil Nadu   858272   12539   858272    12539"
      ]
     },
     "execution_count": 11,
     "metadata": {},
     "output_type": "execute_result"
    }
   ],
   "source": [
    "#hide\n",
    "df_table = pd.DataFrame({'states': dfc_cases.index, 'Cases': dfc_cases.values, 'Deaths': dfc_deaths.values, 'PCases': dfp_cases.values, 'PDeaths': dfp_deaths.values}).set_index('states')\n",
    "df_table = df_table.sort_values(by = ['Cases','Deaths'], ascending = [False, False])\n",
    "df_table = df_table.reset_index()\n",
    "df_table.head()"
   ]
  },
  {
   "cell_type": "code",
   "execution_count": 12,
   "id": "found-montreal",
   "metadata": {
    "execution": {
     "iopub.execute_input": "2021-03-13T13:51:36.593772Z",
     "iopub.status.busy": "2021-03-13T13:51:36.593119Z",
     "iopub.status.idle": "2021-03-13T13:51:36.601344Z",
     "shell.execute_reply": "2021-03-13T13:51:36.600922Z"
    },
    "papermill": {
     "duration": 0.026909,
     "end_time": "2021-03-13T13:51:36.601444",
     "exception": false,
     "start_time": "2021-03-13T13:51:36.574535",
     "status": "completed"
    },
    "tags": []
   },
   "outputs": [],
   "source": [
    "#hide\n",
    "for c in 'Cases, Deaths'.split(', '):\n",
    "    df_table[f'{c} (+)'] = (df_table[c] - df_table[f'P{c}']).clip(0)\n",
    "df_table['Fatality Rate'] = (100* df_table['Deaths']/ df_table['Cases']).round(2)"
   ]
  },
  {
   "cell_type": "code",
   "execution_count": 13,
   "id": "minus-savage",
   "metadata": {
    "execution": {
     "iopub.execute_input": "2021-03-13T13:51:36.641259Z",
     "iopub.status.busy": "2021-03-13T13:51:36.640740Z",
     "iopub.status.idle": "2021-03-13T13:51:36.643214Z",
     "shell.execute_reply": "2021-03-13T13:51:36.643771Z"
    },
    "papermill": {
     "duration": 0.027637,
     "end_time": "2021-03-13T13:51:36.643882",
     "exception": false,
     "start_time": "2021-03-13T13:51:36.616245",
     "status": "completed"
    },
    "tags": []
   },
   "outputs": [
    {
     "data": {
      "text/html": [
       "<div>\n",
       "<style scoped>\n",
       "    .dataframe tbody tr th:only-of-type {\n",
       "        vertical-align: middle;\n",
       "    }\n",
       "\n",
       "    .dataframe tbody tr th {\n",
       "        vertical-align: top;\n",
       "    }\n",
       "\n",
       "    .dataframe thead th {\n",
       "        text-align: right;\n",
       "    }\n",
       "</style>\n",
       "<table border=\"1\" class=\"dataframe\">\n",
       "  <thead>\n",
       "    <tr style=\"text-align: right;\">\n",
       "      <th></th>\n",
       "      <th>states</th>\n",
       "      <th>Cases</th>\n",
       "      <th>Deaths</th>\n",
       "      <th>PCases</th>\n",
       "      <th>PDeaths</th>\n",
       "      <th>Cases (+)</th>\n",
       "      <th>Deaths (+)</th>\n",
       "      <th>Fatality Rate</th>\n",
       "    </tr>\n",
       "  </thead>\n",
       "  <tbody>\n",
       "    <tr>\n",
       "      <th>0</th>\n",
       "      <td>Maharashtra</td>\n",
       "      <td>2282191</td>\n",
       "      <td>52723</td>\n",
       "      <td>2282191</td>\n",
       "      <td>52723</td>\n",
       "      <td>0</td>\n",
       "      <td>0</td>\n",
       "      <td>2.31</td>\n",
       "    </tr>\n",
       "    <tr>\n",
       "      <th>1</th>\n",
       "      <td>Kerala</td>\n",
       "      <td>1087444</td>\n",
       "      <td>4370</td>\n",
       "      <td>1087444</td>\n",
       "      <td>4370</td>\n",
       "      <td>0</td>\n",
       "      <td>0</td>\n",
       "      <td>0.40</td>\n",
       "    </tr>\n",
       "    <tr>\n",
       "      <th>2</th>\n",
       "      <td>Karnataka</td>\n",
       "      <td>958417</td>\n",
       "      <td>12386</td>\n",
       "      <td>958417</td>\n",
       "      <td>12386</td>\n",
       "      <td>0</td>\n",
       "      <td>0</td>\n",
       "      <td>1.29</td>\n",
       "    </tr>\n",
       "    <tr>\n",
       "      <th>3</th>\n",
       "      <td>Andhra Pradesh</td>\n",
       "      <td>891388</td>\n",
       "      <td>7180</td>\n",
       "      <td>891388</td>\n",
       "      <td>7180</td>\n",
       "      <td>0</td>\n",
       "      <td>0</td>\n",
       "      <td>0.81</td>\n",
       "    </tr>\n",
       "    <tr>\n",
       "      <th>4</th>\n",
       "      <td>Tamil Nadu</td>\n",
       "      <td>858272</td>\n",
       "      <td>12539</td>\n",
       "      <td>858272</td>\n",
       "      <td>12539</td>\n",
       "      <td>0</td>\n",
       "      <td>0</td>\n",
       "      <td>1.46</td>\n",
       "    </tr>\n",
       "  </tbody>\n",
       "</table>\n",
       "</div>"
      ],
      "text/plain": [
       "           states    Cases  Deaths   PCases  PDeaths  Cases (+)  Deaths (+)  \\\n",
       "0     Maharashtra  2282191   52723  2282191    52723          0           0   \n",
       "1          Kerala  1087444    4370  1087444     4370          0           0   \n",
       "2       Karnataka   958417   12386   958417    12386          0           0   \n",
       "3  Andhra Pradesh   891388    7180   891388     7180          0           0   \n",
       "4      Tamil Nadu   858272   12539   858272    12539          0           0   \n",
       "\n",
       "   Fatality Rate  \n",
       "0           2.31  \n",
       "1           0.40  \n",
       "2           1.29  \n",
       "3           0.81  \n",
       "4           1.46  "
      ]
     },
     "execution_count": 13,
     "metadata": {},
     "output_type": "execute_result"
    }
   ],
   "source": [
    "#hide\n",
    "df_table.head()"
   ]
  },
  {
   "cell_type": "code",
   "execution_count": 14,
   "id": "false-peter",
   "metadata": {
    "execution": {
     "iopub.execute_input": "2021-03-13T13:51:36.679447Z",
     "iopub.status.busy": "2021-03-13T13:51:36.678902Z",
     "iopub.status.idle": "2021-03-13T13:51:36.693792Z",
     "shell.execute_reply": "2021-03-13T13:51:36.694273Z"
    },
    "papermill": {
     "duration": 0.035225,
     "end_time": "2021-03-13T13:51:36.694380",
     "exception": false,
     "start_time": "2021-03-13T13:51:36.659155",
     "status": "completed"
    },
    "tags": []
   },
   "outputs": [
    {
     "data": {
      "text/plain": [
       "{'updated': '2021-03-13',\n",
       " 'since': '2021-03-12',\n",
       " 'Cases': 11333807,\n",
       " 'PCases': 11333491,\n",
       " 'Deaths': 158485,\n",
       " 'PDeaths': 158483,\n",
       " 'Cases (+)': 316,\n",
       " 'Deaths (+)': 2}"
      ]
     },
     "execution_count": 14,
     "metadata": {},
     "output_type": "execute_result"
    }
   ],
   "source": [
    "#hide\n",
    "summary = {'updated':dates[-1], 'since':dates[-2]}\n",
    "list_names = ['Cases', 'PCases', 'Deaths', 'PDeaths', 'Cases (+)', 'Deaths (+)']\n",
    "for name in list_names:\n",
    "    summary[name] = df_table.sum()[name]\n",
    "summary"
   ]
  },
  {
   "cell_type": "code",
   "execution_count": 15,
   "id": "packed-viewer",
   "metadata": {
    "execution": {
     "iopub.execute_input": "2021-03-13T13:51:36.732338Z",
     "iopub.status.busy": "2021-03-13T13:51:36.731783Z",
     "iopub.status.idle": "2021-03-13T13:51:36.733951Z",
     "shell.execute_reply": "2021-03-13T13:51:36.734447Z"
    },
    "papermill": {
     "duration": 0.024759,
     "end_time": "2021-03-13T13:51:36.734610",
     "exception": false,
     "start_time": "2021-03-13T13:51:36.709851",
     "status": "completed"
    },
    "tags": []
   },
   "outputs": [],
   "source": [
    "#hide\n",
    "overview = '''\n",
    "<!-- #######  HTML!! #########-->\n",
    "<h1 style=\"color: #5e9ca0; text-align: center;\">India</h1>\n",
    "<p style=\"text-align: center;\">Last update: <strong>{update}</strong></p>\n",
    "<p style=\"text-align: center;\">Confirmed cases:</p>\n",
    "<p style=\"text-align: center;font-size:24px;\">{cases} (<span style=\"color: #ff0000;\">+{new}</span>)</p>\n",
    "<p style=\"text-align: center;\">Confirmed deaths:</p>\n",
    "<p style=\"text-align: center;font-size:24px;\">{deaths} (<span style=\"color: #ff0000;\">+{dnew}</span>)</p>\n",
    "'''"
   ]
  },
  {
   "cell_type": "code",
   "execution_count": 16,
   "id": "phantom-lover",
   "metadata": {
    "execution": {
     "iopub.execute_input": "2021-03-13T13:51:36.770422Z",
     "iopub.status.busy": "2021-03-13T13:51:36.769903Z",
     "iopub.status.idle": "2021-03-13T13:51:36.772905Z",
     "shell.execute_reply": "2021-03-13T13:51:36.773413Z"
    },
    "papermill": {
     "duration": 0.023463,
     "end_time": "2021-03-13T13:51:36.773521",
     "exception": false,
     "start_time": "2021-03-13T13:51:36.750058",
     "status": "completed"
    },
    "tags": []
   },
   "outputs": [
    {
     "data": {
      "text/html": [
       "\n",
       "<!-- #######  HTML!! #########-->\n",
       "<h1 style=\"color: #5e9ca0; text-align: center;\">India</h1>\n",
       "<p style=\"text-align: center;\">Last update: <strong>2021-03-13</strong></p>\n",
       "<p style=\"text-align: center;\">Confirmed cases:</p>\n",
       "<p style=\"text-align: center;font-size:24px;\">11333807 (<span style=\"color: #ff0000;\">+316</span>)</p>\n",
       "<p style=\"text-align: center;\">Confirmed deaths:</p>\n",
       "<p style=\"text-align: center;font-size:24px;\">158485 (<span style=\"color: #ff0000;\">+2</span>)</p>\n"
      ],
      "text/plain": [
       "<IPython.core.display.HTML object>"
      ]
     },
     "metadata": {},
     "output_type": "display_data"
    }
   ],
   "source": [
    "#hide_input\n",
    "update = summary['updated']\n",
    "cases = summary['Cases']\n",
    "new = summary['Cases (+)']\n",
    "deaths = summary['Deaths']\n",
    "dnew = summary['Deaths (+)']\n",
    "\n",
    "html = HTML(overview.format(update=update, cases=cases,new=new,deaths=deaths,dnew=dnew))\n",
    "\n",
    "display(html)"
   ]
  },
  {
   "cell_type": "code",
   "execution_count": 17,
   "id": "sealed-reset",
   "metadata": {
    "execution": {
     "iopub.execute_input": "2021-03-13T13:51:36.810506Z",
     "iopub.status.busy": "2021-03-13T13:51:36.809993Z",
     "iopub.status.idle": "2021-03-13T13:51:36.816585Z",
     "shell.execute_reply": "2021-03-13T13:51:36.817089Z"
    },
    "papermill": {
     "duration": 0.027586,
     "end_time": "2021-03-13T13:51:36.817200",
     "exception": false,
     "start_time": "2021-03-13T13:51:36.789614",
     "status": "completed"
    },
    "tags": []
   },
   "outputs": [],
   "source": [
    "#hide\n",
    "dt_cols = list(dft_cases.columns[1:])\n",
    "dft_ct_new_cases = dft_cases.groupby('state')[dt_cols].sum().diff(axis=1).fillna(0).astype(int)\n",
    "dft_ct_new_cases.sort_values(by = dates[-1], ascending = False,inplace = True)"
   ]
  },
  {
   "cell_type": "code",
   "execution_count": 18,
   "id": "designed-constant",
   "metadata": {
    "execution": {
     "iopub.execute_input": "2021-03-13T13:51:36.863824Z",
     "iopub.status.busy": "2021-03-13T13:51:36.863279Z",
     "iopub.status.idle": "2021-03-13T13:51:36.865764Z",
     "shell.execute_reply": "2021-03-13T13:51:36.866263Z"
    },
    "papermill": {
     "duration": 0.033309,
     "end_time": "2021-03-13T13:51:36.866408",
     "exception": false,
     "start_time": "2021-03-13T13:51:36.833099",
     "status": "completed"
    },
    "tags": []
   },
   "outputs": [
    {
     "data": {
      "text/html": [
       "<div>\n",
       "<style scoped>\n",
       "    .dataframe tbody tr th:only-of-type {\n",
       "        vertical-align: middle;\n",
       "    }\n",
       "\n",
       "    .dataframe tbody tr th {\n",
       "        vertical-align: top;\n",
       "    }\n",
       "\n",
       "    .dataframe thead th {\n",
       "        text-align: right;\n",
       "    }\n",
       "</style>\n",
       "<table border=\"1\" class=\"dataframe\">\n",
       "  <thead>\n",
       "    <tr style=\"text-align: right;\">\n",
       "      <th>states</th>\n",
       "      <th>2020-07-01</th>\n",
       "      <th>2020-07-02</th>\n",
       "      <th>2020-07-03</th>\n",
       "      <th>2020-07-04</th>\n",
       "      <th>2020-07-05</th>\n",
       "      <th>2020-07-06</th>\n",
       "      <th>2020-07-07</th>\n",
       "      <th>2020-07-08</th>\n",
       "      <th>2020-07-09</th>\n",
       "      <th>2020-07-10</th>\n",
       "      <th>...</th>\n",
       "      <th>2021-03-04</th>\n",
       "      <th>2021-03-05</th>\n",
       "      <th>2021-03-06</th>\n",
       "      <th>2021-03-07</th>\n",
       "      <th>2021-03-08</th>\n",
       "      <th>2021-03-09</th>\n",
       "      <th>2021-03-10</th>\n",
       "      <th>2021-03-11</th>\n",
       "      <th>2021-03-12</th>\n",
       "      <th>2021-03-13</th>\n",
       "    </tr>\n",
       "    <tr>\n",
       "      <th>state</th>\n",
       "      <th></th>\n",
       "      <th></th>\n",
       "      <th></th>\n",
       "      <th></th>\n",
       "      <th></th>\n",
       "      <th></th>\n",
       "      <th></th>\n",
       "      <th></th>\n",
       "      <th></th>\n",
       "      <th></th>\n",
       "      <th></th>\n",
       "      <th></th>\n",
       "      <th></th>\n",
       "      <th></th>\n",
       "      <th></th>\n",
       "      <th></th>\n",
       "      <th></th>\n",
       "      <th></th>\n",
       "      <th></th>\n",
       "      <th></th>\n",
       "      <th></th>\n",
       "    </tr>\n",
       "  </thead>\n",
       "  <tbody>\n",
       "    <tr>\n",
       "      <th>Telangana</th>\n",
       "      <td>0</td>\n",
       "      <td>1213</td>\n",
       "      <td>1892</td>\n",
       "      <td>1850</td>\n",
       "      <td>1590</td>\n",
       "      <td>1831</td>\n",
       "      <td>1879</td>\n",
       "      <td>1924</td>\n",
       "      <td>1410</td>\n",
       "      <td>1278</td>\n",
       "      <td>...</td>\n",
       "      <td>152</td>\n",
       "      <td>166</td>\n",
       "      <td>170</td>\n",
       "      <td>158</td>\n",
       "      <td>111</td>\n",
       "      <td>142</td>\n",
       "      <td>189</td>\n",
       "      <td>194</td>\n",
       "      <td>181</td>\n",
       "      <td>216</td>\n",
       "    </tr>\n",
       "    <tr>\n",
       "      <th>Odisha</th>\n",
       "      <td>0</td>\n",
       "      <td>229</td>\n",
       "      <td>561</td>\n",
       "      <td>495</td>\n",
       "      <td>469</td>\n",
       "      <td>456</td>\n",
       "      <td>571</td>\n",
       "      <td>527</td>\n",
       "      <td>577</td>\n",
       "      <td>755</td>\n",
       "      <td>...</td>\n",
       "      <td>81</td>\n",
       "      <td>91</td>\n",
       "      <td>54</td>\n",
       "      <td>70</td>\n",
       "      <td>59</td>\n",
       "      <td>57</td>\n",
       "      <td>69</td>\n",
       "      <td>63</td>\n",
       "      <td>64</td>\n",
       "      <td>65</td>\n",
       "    </tr>\n",
       "    <tr>\n",
       "      <th>Puducherry</th>\n",
       "      <td>0</td>\n",
       "      <td>63</td>\n",
       "      <td>22</td>\n",
       "      <td>80</td>\n",
       "      <td>42</td>\n",
       "      <td>65</td>\n",
       "      <td>30</td>\n",
       "      <td>110</td>\n",
       "      <td>49</td>\n",
       "      <td>72</td>\n",
       "      <td>...</td>\n",
       "      <td>17</td>\n",
       "      <td>30</td>\n",
       "      <td>19</td>\n",
       "      <td>25</td>\n",
       "      <td>14</td>\n",
       "      <td>26</td>\n",
       "      <td>24</td>\n",
       "      <td>22</td>\n",
       "      <td>30</td>\n",
       "      <td>31</td>\n",
       "    </tr>\n",
       "    <tr>\n",
       "      <th>Tripura</th>\n",
       "      <td>0</td>\n",
       "      <td>39</td>\n",
       "      <td>93</td>\n",
       "      <td>25</td>\n",
       "      <td>23</td>\n",
       "      <td>111</td>\n",
       "      <td>24</td>\n",
       "      <td>57</td>\n",
       "      <td>16</td>\n",
       "      <td>142</td>\n",
       "      <td>...</td>\n",
       "      <td>2</td>\n",
       "      <td>0</td>\n",
       "      <td>2</td>\n",
       "      <td>0</td>\n",
       "      <td>0</td>\n",
       "      <td>0</td>\n",
       "      <td>0</td>\n",
       "      <td>1</td>\n",
       "      <td>0</td>\n",
       "      <td>2</td>\n",
       "    </tr>\n",
       "    <tr>\n",
       "      <th>Dadra and Nagar Haveli and Daman and Diu</th>\n",
       "      <td>0</td>\n",
       "      <td>25</td>\n",
       "      <td>50</td>\n",
       "      <td>37</td>\n",
       "      <td>32</td>\n",
       "      <td>27</td>\n",
       "      <td>27</td>\n",
       "      <td>15</td>\n",
       "      <td>14</td>\n",
       "      <td>14</td>\n",
       "      <td>...</td>\n",
       "      <td>0</td>\n",
       "      <td>0</td>\n",
       "      <td>2</td>\n",
       "      <td>9</td>\n",
       "      <td>5</td>\n",
       "      <td>0</td>\n",
       "      <td>3</td>\n",
       "      <td>0</td>\n",
       "      <td>4</td>\n",
       "      <td>2</td>\n",
       "    </tr>\n",
       "  </tbody>\n",
       "</table>\n",
       "<p>5 rows × 256 columns</p>\n",
       "</div>"
      ],
      "text/plain": [
       "states                                    2020-07-01  2020-07-02  2020-07-03  \\\n",
       "state                                                                          \n",
       "Telangana                                          0        1213        1892   \n",
       "Odisha                                             0         229         561   \n",
       "Puducherry                                         0          63          22   \n",
       "Tripura                                            0          39          93   \n",
       "Dadra and Nagar Haveli and Daman and Diu           0          25          50   \n",
       "\n",
       "states                                    2020-07-04  2020-07-05  2020-07-06  \\\n",
       "state                                                                          \n",
       "Telangana                                       1850        1590        1831   \n",
       "Odisha                                           495         469         456   \n",
       "Puducherry                                        80          42          65   \n",
       "Tripura                                           25          23         111   \n",
       "Dadra and Nagar Haveli and Daman and Diu          37          32          27   \n",
       "\n",
       "states                                    2020-07-07  2020-07-08  2020-07-09  \\\n",
       "state                                                                          \n",
       "Telangana                                       1879        1924        1410   \n",
       "Odisha                                           571         527         577   \n",
       "Puducherry                                        30         110          49   \n",
       "Tripura                                           24          57          16   \n",
       "Dadra and Nagar Haveli and Daman and Diu          27          15          14   \n",
       "\n",
       "states                                    2020-07-10  ...  2021-03-04  \\\n",
       "state                                                 ...               \n",
       "Telangana                                       1278  ...         152   \n",
       "Odisha                                           755  ...          81   \n",
       "Puducherry                                        72  ...          17   \n",
       "Tripura                                          142  ...           2   \n",
       "Dadra and Nagar Haveli and Daman and Diu          14  ...           0   \n",
       "\n",
       "states                                    2021-03-05  2021-03-06  2021-03-07  \\\n",
       "state                                                                          \n",
       "Telangana                                        166         170         158   \n",
       "Odisha                                            91          54          70   \n",
       "Puducherry                                        30          19          25   \n",
       "Tripura                                            0           2           0   \n",
       "Dadra and Nagar Haveli and Daman and Diu           0           2           9   \n",
       "\n",
       "states                                    2021-03-08  2021-03-09  2021-03-10  \\\n",
       "state                                                                          \n",
       "Telangana                                        111         142         189   \n",
       "Odisha                                            59          57          69   \n",
       "Puducherry                                        14          26          24   \n",
       "Tripura                                            0           0           0   \n",
       "Dadra and Nagar Haveli and Daman and Diu           5           0           3   \n",
       "\n",
       "states                                    2021-03-11  2021-03-12  2021-03-13  \n",
       "state                                                                         \n",
       "Telangana                                        194         181         216  \n",
       "Odisha                                            63          64          65  \n",
       "Puducherry                                        22          30          31  \n",
       "Tripura                                            1           0           2  \n",
       "Dadra and Nagar Haveli and Daman and Diu           0           4           2  \n",
       "\n",
       "[5 rows x 256 columns]"
      ]
     },
     "execution_count": 18,
     "metadata": {},
     "output_type": "execute_result"
    }
   ],
   "source": [
    "#hide\n",
    "dft_ct_new_cases.head()"
   ]
  },
  {
   "cell_type": "code",
   "execution_count": 19,
   "id": "responsible-nightlife",
   "metadata": {
    "execution": {
     "iopub.execute_input": "2021-03-13T13:51:36.922935Z",
     "iopub.status.busy": "2021-03-13T13:51:36.907733Z",
     "iopub.status.idle": "2021-03-13T13:51:46.629762Z",
     "shell.execute_reply": "2021-03-13T13:51:46.630185Z"
    },
    "papermill": {
     "duration": 9.74721,
     "end_time": "2021-03-13T13:51:46.630319",
     "exception": false,
     "start_time": "2021-03-13T13:51:36.883109",
     "status": "completed"
    },
    "tags": []
   },
   "outputs": [
    {
     "data": {
      "image/png": "[encoded data removed]",
      "text/plain": [
       "<Figure size 1296x2016 with 11 Axes>"
      ]
     },
     "metadata": {
      "needs_background": "light"
     },
     "output_type": "display_data"
    }
   ],
   "source": [
    "#hide_input\n",
    "df = dft_ct_new_cases.copy()\n",
    "df.loc['Total'] = df.sum()\n",
    "n = 5\n",
    "ax = []\n",
    "fig = plt.figure(figsize = (18,28))\n",
    "gs = fig.add_gridspec(n+2, 5)\n",
    "# gs = fig.add_gridspec(2, 3)\n",
    "ax1 = fig.add_subplot(gs[0, :])\n",
    "ef = df.loc['Total'].rename_axis('date').reset_index()\n",
    "ef['date'] = ef['date'].astype('datetime64[ns]')\n",
    "ax1.bar(ef.date,ef.Total,alpha=0.3,color='#007acc')\n",
    "ax1.plot(ef.date,ef.Total , marker=\"o\", color='#007acc')\n",
    "ax1.xaxis.set_major_locator(mdates.WeekdayLocator())\n",
    "ax1.xaxis.set_major_formatter(mdates.DateFormatter('%b %d'))\n",
    "ax1.text(0.02, 0.5,'India daily case count', transform = ax1.transAxes, fontsize=25);\n",
    "ax1.spines['right'].set_visible(False)\n",
    "ax1.spines['top'].set_visible(False)\n",
    "\n",
    "ax2 = fig.add_subplot(gs[1,0])\n",
    "ef = df.loc['Maharashtra'].rename_axis('date').reset_index()\n",
    "ef['date'] = ef['date'].astype('datetime64[ns]')\n",
    "\n",
    "ax2.bar(ef.date, ef.Maharashtra,color = '#007acc',alpha=0.5)\n",
    "ax2.xaxis.set_major_locator(mdates.WeekdayLocator())\n",
    "ax2.xaxis.set_major_formatter(mdates.DateFormatter('%b %d'))\n",
    "ax2.set_xticks(ax2.get_xticks()[::3])\n",
    "maxyval = ef.Maharashtra.max()\n",
    "ax2.set_ylim([0,maxyval])\n",
    "ax2.text(0.05, 0.9,'Maharashtra', transform = ax2.transAxes, fontsize=20);\n",
    "ax2.spines['right'].set_visible(False)\n",
    "ax2.spines['top'].set_visible(False)\n",
    "\n",
    "\n",
    "ax3 = fig.add_subplot(gs[1,1])\n",
    "ef = df.loc['Tamil Nadu'].rename_axis('date').reset_index()\n",
    "ef['date'] = ef['date'].astype('datetime64[ns]')\n",
    "ax3.bar(ef.date, ef['Tamil Nadu'],color = '#007acc',alpha=0.5,)\n",
    "ax3.xaxis.set_major_locator(mdates.WeekdayLocator())\n",
    "ax3.xaxis.set_major_formatter(mdates.DateFormatter('%b %d'))\n",
    "ax3.set_xticks(ax3.get_xticks()[::3])\n",
    "ax3.text(0.05, 0.9,'Tamil Nadu', transform = ax3.transAxes, fontsize=20);\n",
    "ax3.spines['right'].set_visible(False)\n",
    "ax3.spines['top'].set_visible(False)\n",
    "\n",
    "ax5 = fig.add_subplot(gs[1,3])\n",
    "ef = df.loc['Telangana'].rename_axis('date').reset_index()\n",
    "ef['date'] = ef['date'].astype('datetime64[ns]')\n",
    "ax5.bar(ef.date, ef['Telangana'],color = '#007acc',alpha=0.5,)\n",
    "ax5.xaxis.set_major_locator(mdates.WeekdayLocator())\n",
    "ax5.xaxis.set_major_formatter(mdates.DateFormatter('%b %d'))\n",
    "ax5.set_xticks(ax5.get_xticks()[::3])\n",
    "ax5.text(0.05, 0.9,'Telangana', transform = ax5.transAxes, fontsize=20);\n",
    "ax5.spines['right'].set_visible(False)\n",
    "ax5.spines['top'].set_visible(False)\n",
    "\n",
    "ax6 = fig.add_subplot(gs[1,4])\n",
    "ef = df.loc['Andhra Pradesh'].rename_axis('date').reset_index()\n",
    "ef['date'] = ef['date'].astype('datetime64[ns]')\n",
    "ax6.bar(ef.date, ef['Andhra Pradesh'],color = '#007acc',alpha=0.5,)\n",
    "ax6.xaxis.set_major_locator(mdates.WeekdayLocator())\n",
    "ax6.xaxis.set_major_formatter(mdates.DateFormatter('%b %d'))\n",
    "ax6.set_xticks(ax6.get_xticks()[::3])\n",
    "ax6.text(0.05, 1,'Andhra Pradesh', transform = ax6.transAxes, fontsize=20);\n",
    "ax6.spines['right'].set_visible(False)\n",
    "ax6.spines['top'].set_visible(False)\n",
    "\n",
    "ax4 = fig.add_subplot(gs[1,2])\n",
    "ef = df.loc['Delhi'].rename_axis('date').reset_index()\n",
    "ef['date'] = ef['date'].astype('datetime64[ns]')\n",
    "ax4.bar(ef.date, ef.Delhi,color = '#007acc',alpha=0.5)\n",
    "ax4.set_xticks([])\n",
    "ax4.xaxis.set_major_locator(mdates.WeekdayLocator())\n",
    "ax4.xaxis.set_major_formatter(mdates.DateFormatter('%b %d'))\n",
    "ax4.set_xticks(ax4.get_xticks()[::3])\n",
    "ax4.spines['right'].set_visible(False)\n",
    "ax4.spines['top'].set_visible(False)\n",
    "\n",
    "ax4.text(0.05, 1,'Delhi', transform = ax4.transAxes, fontsize=20)\n",
    "\n",
    "for i in range(n):\n",
    "    \n",
    "    ax.append(fig.add_subplot(gs[i+2,:]))\n",
    "    ef = df.iloc[i+3].rename_axis('date').reset_index()\n",
    "    ef['date'] = ef['date'].astype('datetime64[ns]')\n",
    "    ax[i].bar(ef.date,ef.iloc[:,-1],color = '#007acc',alpha=0.3)\n",
    "    ax[i].plot(ef.date,ef.iloc[:,-1],marker='o',color='#007acc')\n",
    "    ax[i].text(0.02,0.5,f'{ef.columns.values[-1]}',transform = ax[i].transAxes, fontsize = 20);\n",
    "    ax[i].xaxis.set_major_locator(mdates.WeekdayLocator())\n",
    "    ax[i].xaxis.set_major_formatter(mdates.DateFormatter('%b %d'))\n",
    "    ax[i].set_ylim([0,7000])\n",
    "    ax[i].spines['right'].set_visible(False)\n",
    "    ax[i].spines['top'].set_visible(False)\n",
    "plt.tight_layout()\n"
   ]
  },
  {
   "cell_type": "code",
   "execution_count": 20,
   "id": "dress-forge",
   "metadata": {
    "execution": {
     "iopub.execute_input": "2021-03-13T13:51:46.677159Z",
     "iopub.status.busy": "2021-03-13T13:51:46.676595Z",
     "iopub.status.idle": "2021-03-13T13:51:46.680623Z",
     "shell.execute_reply": "2021-03-13T13:51:46.680174Z"
    },
    "papermill": {
     "duration": 0.030936,
     "end_time": "2021-03-13T13:51:46.680730",
     "exception": false,
     "start_time": "2021-03-13T13:51:46.649794",
     "status": "completed"
    },
    "tags": []
   },
   "outputs": [
    {
     "name": "stdout",
     "output_type": "stream",
     "text": [
      "                                   states    Cases  Deaths   PCases  PDeaths  Cases (+)  Deaths (+)  Fatality Rate\n",
      "                              Maharashtra  2282191   52723  2282191    52723          0           0           2.31\n",
      "                                   Kerala  1087444    4370  1087444     4370          0           0           0.40\n",
      "                                Karnataka   958417   12386   958417    12386          0           0           1.29\n",
      "                           Andhra Pradesh   891388    7180   891388     7180          0           0           0.81\n",
      "                               Tamil Nadu   858272   12539   858272    12539          0           0           1.46\n",
      "                                    Delhi   642870   10936   642870    10936          0           0           1.70\n",
      "                            Uttar Pradesh   604958    8743   604958     8743          0           0           1.45\n",
      "                              West Bengal   577788   10287   577788    10287          0           0           1.78\n",
      "                                   Odisha   338121    1971   338056     1971         65           0           0.58\n",
      "                                Rajasthan   322518    2789   322518     2789          0           0           0.86\n",
      "                             Chhattisgarh   316311    3880   316311     3880          0           0           1.23\n",
      "                                Telangana   300933    1652   300717     1650        216           2           0.55\n",
      "                                  Gujarat   276622    4420   276622     4420          0           0           1.60\n",
      "                                  Haryana   274273    3069   274273     3069          0           0           1.12\n",
      "                           Madhya Pradesh   267176    3883   267176     3883          0           0           1.45\n",
      "                                    Bihar   262937    1549   262937     1549          0           0           0.59\n",
      "                                    Assam   217766    1097   217766     1097          0           0           0.50\n",
      "                                   Punjab   194753    6030   194753     6030          0           0           3.10\n",
      "                        Jammu and Kashmir   127436    1971   127436     1971          0           0           1.55\n",
      "                                Jharkhand   120524    1093   120524     1093          0           0           0.91\n",
      "                              Uttarakhand    97700    1700    97700     1700          0           0           1.74\n",
      "                         Himachal Pradesh    59527     990    59527      990          0           0           1.66\n",
      "                                      Goa    55758     804    55758      804          0           0           1.44\n",
      "                               Puducherry    40015     670    39984      670         31           0           1.67\n",
      "                                  Tripura    33424     388    33422      388          2           0           1.16\n",
      "                                  Manipur    29310     373    29310      373          0           0           1.27\n",
      "                               Chandigarh    22832     357    22832      357          0           0           1.56\n",
      "                        Arunachal Pradesh    16840      56    16840       56          0           0           0.33\n",
      "                                Meghalaya    13986     148    13986      148          0           0           1.06\n",
      "                                 Nagaland    12221      91    12221       91          0           0           0.74\n",
      "                                   Ladakh     9846     130     9846      130          0           0           1.32\n",
      "                                   Sikkim     6183     135     6183      135          0           0           2.18\n",
      "              Andaman and Nicobar Islands     5029      62     5029       62          0           0           1.23\n",
      "                                  Mizoram     4435      10     4435       10          0           0           0.23\n",
      " Dadra and Nagar Haveli and Daman and Diu     3415       2     3413        2          2           0           0.06\n",
      "                              Lakshadweep      588       1      588        1          0           0           0.17\n"
     ]
    }
   ],
   "source": [
    "#hide_input\n",
    "print(df_table.to_string(index=False))"
   ]
  },
  {
   "cell_type": "code",
   "execution_count": null,
   "id": "quantitative-legend",
   "metadata": {
    "papermill": {
     "duration": 0.019842,
     "end_time": "2021-03-13T13:51:46.721030",
     "exception": false,
     "start_time": "2021-03-13T13:51:46.701188",
     "status": "completed"
    },
    "tags": []
   },
   "outputs": [],
   "source": []
  },
  {
   "cell_type": "code",
   "execution_count": null,
   "id": "distant-acoustic",
   "metadata": {
    "papermill": {
     "duration": 0.019967,
     "end_time": "2021-03-13T13:51:46.761160",
     "exception": false,
     "start_time": "2021-03-13T13:51:46.741193",
     "status": "completed"
    },
    "tags": []
   },
   "outputs": [],
   "source": []
  }
 ],
 "metadata": {
  "kernelspec": {
   "display_name": "Python 3",
   "language": "python",
   "name": "python3"
  },
  "language_info": {
   "codemirror_mode": {
    "name": "ipython",
    "version": 3
   },
   "file_extension": ".py",
   "mimetype": "text/x-python",
   "name": "python",
   "nbconvert_exporter": "python",
   "pygments_lexer": "ipython3",
   "version": "3.6.13"
  },
  "papermill": {
   "duration": 20.821074,
   "end_time": "2021-03-13T13:51:47.288330",
   "environment_variables": {},
   "exception": null,
   "input_path": "latest.ipynb",
   "output_path": "latest.ipynb",
   "parameters": {},
   "start_time": "2021-03-13T13:51:26.467256",
   "version": "2.1.2"
  }
 },
 "nbformat": 4,
 "nbformat_minor": 5
}