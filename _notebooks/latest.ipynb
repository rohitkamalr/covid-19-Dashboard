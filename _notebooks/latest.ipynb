{
 "cells": [
  {
   "cell_type": "markdown",
   "metadata": {
    "papermill": {
     "duration": 0.0197,
     "end_time": "2020-09-23T05:52:18.749937",
     "exception": false,
     "start_time": "2020-09-23T05:52:18.730237",
     "status": "completed"
    },
    "tags": []
   },
   "source": [
    "# Latest COVID-19 India Matplotlib Overview"
   ]
  },
  {
   "cell_type": "code",
   "execution_count": 1,
   "metadata": {
    "execution": {
     "iopub.execute_input": "2020-09-23T05:52:18.787716Z",
     "iopub.status.busy": "2020-09-23T05:52:18.787114Z",
     "iopub.status.idle": "2020-09-23T05:52:19.366953Z",
     "shell.execute_reply": "2020-09-23T05:52:19.365808Z"
    },
    "papermill": {
     "duration": 0.6015,
     "end_time": "2020-09-23T05:52:19.367125",
     "exception": false,
     "start_time": "2020-09-23T05:52:18.765625",
     "status": "completed"
    },
    "tags": []
   },
   "outputs": [],
   "source": [
    "#hide\n",
    "import pandas as pd\n",
    "import numpy as np\n",
    "import requests\n",
    "import json\n",
    "import matplotlib.pyplot as plt\n",
    "import matplotlib.dates as mdates\n",
    "import matplotlib as mpl\n",
    "from IPython.core.display import display,HTML\n",
    "%matplotlib inline\n",
    "from datetime import date"
   ]
  },
  {
   "cell_type": "code",
   "execution_count": 2,
   "metadata": {
    "execution": {
     "iopub.execute_input": "2020-09-23T05:52:19.404230Z",
     "iopub.status.busy": "2020-09-23T05:52:19.403256Z",
     "iopub.status.idle": "2020-09-23T05:52:19.510912Z",
     "shell.execute_reply": "2020-09-23T05:52:19.510047Z"
    },
    "papermill": {
     "duration": 0.128976,
     "end_time": "2020-09-23T05:52:19.511137",
     "exception": false,
     "start_time": "2020-09-23T05:52:19.382161",
     "status": "completed"
    },
    "tags": []
   },
   "outputs": [],
   "source": [
    "#hide\n",
    "df  = pd.read_csv('https://api.covid19india.org/csv/latest/states.csv')\n",
    "df = df[['Date','State','Confirmed','Deceased']]\n",
    "df = df.rename(columns={'Confirmed':'Cases', \"Deceased\":'Deaths'})\n",
    "df_cases = df[[\"Date\",'State','Cases']]\n",
    "df_deaths = df[['Date','State','Deaths']]\n",
    "df_cases1 = df_cases.groupby('Date')\n",
    "df_deaths1= df_deaths.groupby('Date')"
   ]
  },
  {
   "cell_type": "code",
   "execution_count": 3,
   "metadata": {
    "execution": {
     "iopub.execute_input": "2020-09-23T05:52:19.550878Z",
     "iopub.status.busy": "2020-09-23T05:52:19.550293Z",
     "iopub.status.idle": "2020-09-23T05:52:19.568575Z",
     "shell.execute_reply": "2020-09-23T05:52:19.568065Z"
    },
    "papermill": {
     "duration": 0.041744,
     "end_time": "2020-09-23T05:52:19.568715",
     "exception": false,
     "start_time": "2020-09-23T05:52:19.526971",
     "status": "completed"
    },
    "tags": []
   },
   "outputs": [],
   "source": [
    "#hide\n",
    "df_snap = pd.read_csv('data/SnapshotCases-28-July.csv')\n",
    "arr_states = df_snap['states'].unique()\n",
    "arr_dates = df['Date'].unique()\n",
    "df_snap = df_snap.set_index('states')"
   ]
  },
  {
   "cell_type": "code",
   "execution_count": 4,
   "metadata": {
    "execution": {
     "iopub.execute_input": "2020-09-23T05:52:19.606349Z",
     "iopub.status.busy": "2020-09-23T05:52:19.605763Z",
     "iopub.status.idle": "2020-09-23T05:52:19.611145Z",
     "shell.execute_reply": "2020-09-23T05:52:19.610655Z"
    },
    "papermill": {
     "duration": 0.027382,
     "end_time": "2020-09-23T05:52:19.611269",
     "exception": false,
     "start_time": "2020-09-23T05:52:19.583887",
     "status": "completed"
    },
    "tags": []
   },
   "outputs": [
    {
     "data": {
      "text/plain": [
       "array(['Andaman and Nicobar Islands', 'Andhra Pradesh',\n",
       "       'Arunachal Pradesh', 'Assam', 'Bihar', 'Chandigarh',\n",
       "       'Dadra and Nagar Haveli and Daman and Diu', 'Delhi', 'Goa',\n",
       "       'Gujarat', 'Haryana', 'Himachal Pradesh', 'Jammu and Kashmir',\n",
       "       'Jharkhand', 'Karnataka', 'Kerala', 'Lakshadweep',\n",
       "       'Madhya Pradesh', 'Maharashtra', 'Manipur', 'Meghalaya', 'Mizoram',\n",
       "       'Nagaland', 'Odisha', 'Puducherry', 'Punjab', 'Rajasthan',\n",
       "       'Sikkim', 'Tamil Nadu', 'Telangana', 'Tripura', 'Uttar Pradesh',\n",
       "       'West Bengal', 'Chhattisgarh', 'Ladakh', 'Uttarakhand'],\n",
       "      dtype=object)"
      ]
     },
     "execution_count": 4,
     "metadata": {},
     "output_type": "execute_result"
    }
   ],
   "source": [
    "#hide\n",
    "arr_states[-9] = 'Puducherry'\n",
    "arr_states[-10] = 'Odisha'\n",
    "arr_states[6] = 'Dadra and Nagar Haveli and Daman and Diu'\n",
    "arr_states = np.append(arr_states,np.array(['Chhattisgarh','Ladakh','Uttarakhand']))\n",
    "arr_states"
   ]
  },
  {
   "cell_type": "code",
   "execution_count": 5,
   "metadata": {
    "execution": {
     "iopub.execute_input": "2020-09-23T05:52:19.655262Z",
     "iopub.status.busy": "2020-09-23T05:52:19.650938Z",
     "iopub.status.idle": "2020-09-23T05:52:19.658369Z",
     "shell.execute_reply": "2020-09-23T05:52:19.657875Z"
    },
    "papermill": {
     "duration": 0.031887,
     "end_time": "2020-09-23T05:52:19.658493",
     "exception": false,
     "start_time": "2020-09-23T05:52:19.626606",
     "status": "completed"
    },
    "tags": []
   },
   "outputs": [],
   "source": [
    "#hide\n",
    "dates = []\n",
    "for i in arr_dates:\n",
    "    if i>='2020-07-01':\n",
    "        dates.append(i)\n",
    "dict = {'states':dates}\n",
    "for i in arr_states:\n",
    "    dict[i] = [0]*len(dates)\n",
    "dft_cases = pd.DataFrame(dict)\n",
    "dft_deaths = pd.DataFrame(dict)\n"
   ]
  },
  {
   "cell_type": "code",
   "execution_count": 6,
   "metadata": {
    "execution": {
     "iopub.execute_input": "2020-09-23T05:52:19.695764Z",
     "iopub.status.busy": "2020-09-23T05:52:19.695183Z",
     "iopub.status.idle": "2020-09-23T05:52:20.838110Z",
     "shell.execute_reply": "2020-09-23T05:52:20.837005Z"
    },
    "papermill": {
     "duration": 1.164511,
     "end_time": "2020-09-23T05:52:20.838268",
     "exception": false,
     "start_time": "2020-09-23T05:52:19.673757",
     "status": "completed"
    },
    "tags": []
   },
   "outputs": [],
   "source": [
    "#hide\n",
    "for i in range(len(dates)):\n",
    "    df1_deaths = df_deaths1.get_group(dates[i])\n",
    "    for j in range(len(df1_deaths.index)):\n",
    "        if df1_deaths.iloc[j,1] in arr_states:\n",
    "            dft_deaths.loc[i,df1_deaths.iloc[j,1]] = df1_deaths.iloc[j,2]\n",
    "dft_deaths = dft_deaths.set_index('states')"
   ]
  },
  {
   "cell_type": "code",
   "execution_count": 7,
   "metadata": {
    "execution": {
     "iopub.execute_input": "2020-09-23T05:52:20.874987Z",
     "iopub.status.busy": "2020-09-23T05:52:20.873937Z",
     "iopub.status.idle": "2020-09-23T05:52:22.067281Z",
     "shell.execute_reply": "2020-09-23T05:52:22.066380Z"
    },
    "papermill": {
     "duration": 1.214324,
     "end_time": "2020-09-23T05:52:22.067432",
     "exception": false,
     "start_time": "2020-09-23T05:52:20.853108",
     "status": "completed"
    },
    "tags": []
   },
   "outputs": [],
   "source": [
    "#hide\n",
    "for i in range(len(dates)):\n",
    "    df1_cases = df_cases1.get_group(dates[i])\n",
    "    for j in range(len(df1_cases.index)):\n",
    "        if df1_cases.iloc[j,1] in arr_states:\n",
    "            dft_cases.loc[i,df1_cases.iloc[j,1]] = df1_cases.iloc[j,2]\n",
    "dft_cases = dft_cases.set_index('states')"
   ]
  },
  {
   "cell_type": "code",
   "execution_count": 8,
   "metadata": {
    "execution": {
     "iopub.execute_input": "2020-09-23T05:52:22.106725Z",
     "iopub.status.busy": "2020-09-23T05:52:22.105956Z",
     "iopub.status.idle": "2020-09-23T05:52:22.107809Z",
     "shell.execute_reply": "2020-09-23T05:52:22.108242Z"
    },
    "papermill": {
     "duration": 0.025392,
     "end_time": "2020-09-23T05:52:22.108401",
     "exception": false,
     "start_time": "2020-09-23T05:52:22.083009",
     "status": "completed"
    },
    "tags": []
   },
   "outputs": [],
   "source": [
    "#hide\n",
    "dft_cases = dft_cases.T\n",
    "dft_deaths = dft_deaths.T\n",
    "dt_today = dates[-1]\n",
    "dt_yday = dates[-2]"
   ]
  },
  {
   "cell_type": "code",
   "execution_count": 9,
   "metadata": {
    "execution": {
     "iopub.execute_input": "2020-09-23T05:52:22.148948Z",
     "iopub.status.busy": "2020-09-23T05:52:22.147003Z",
     "iopub.status.idle": "2020-09-23T05:52:22.151660Z",
     "shell.execute_reply": "2020-09-23T05:52:22.152106Z"
    },
    "papermill": {
     "duration": 0.028798,
     "end_time": "2020-09-23T05:52:22.152251",
     "exception": false,
     "start_time": "2020-09-23T05:52:22.123453",
     "status": "completed"
    },
    "tags": []
   },
   "outputs": [],
   "source": [
    "#hide\n",
    "dft_cases = dft_cases.reset_index()\n",
    "dft_deaths = dft_deaths.reset_index()\n",
    "dft_cases = dft_cases.rename(columns = {'index':'state'})\n",
    "dft_deaths = dft_deaths.rename(columns = {'index':'state'})"
   ]
  },
  {
   "cell_type": "code",
   "execution_count": 10,
   "metadata": {
    "execution": {
     "iopub.execute_input": "2020-09-23T05:52:22.195219Z",
     "iopub.status.busy": "2020-09-23T05:52:22.193796Z",
     "iopub.status.idle": "2020-09-23T05:52:22.196893Z",
     "shell.execute_reply": "2020-09-23T05:52:22.196100Z"
    },
    "papermill": {
     "duration": 0.02968,
     "end_time": "2020-09-23T05:52:22.197081",
     "exception": false,
     "start_time": "2020-09-23T05:52:22.167401",
     "status": "completed"
    },
    "tags": []
   },
   "outputs": [],
   "source": [
    "#hide\n",
    "dfc_cases = dft_cases.groupby('state')[dt_today].sum()\n",
    "dfc_deaths = dft_deaths.groupby('state')[dt_today].sum()\n",
    "dfp_cases = dft_cases.groupby('state')[dt_yday].sum()\n",
    "dfp_deaths = dft_deaths.groupby('state')[dt_yday].sum()"
   ]
  },
  {
   "cell_type": "code",
   "execution_count": 11,
   "metadata": {
    "execution": {
     "iopub.execute_input": "2020-09-23T05:52:22.245409Z",
     "iopub.status.busy": "2020-09-23T05:52:22.238559Z",
     "iopub.status.idle": "2020-09-23T05:52:22.251820Z",
     "shell.execute_reply": "2020-09-23T05:52:22.251332Z"
    },
    "papermill": {
     "duration": 0.039242,
     "end_time": "2020-09-23T05:52:22.251938",
     "exception": false,
     "start_time": "2020-09-23T05:52:22.212696",
     "status": "completed"
    },
    "tags": []
   },
   "outputs": [
    {
     "data": {
      "text/html": [
       "<div>\n",
       "<style scoped>\n",
       "    .dataframe tbody tr th:only-of-type {\n",
       "        vertical-align: middle;\n",
       "    }\n",
       "\n",
       "    .dataframe tbody tr th {\n",
       "        vertical-align: top;\n",
       "    }\n",
       "\n",
       "    .dataframe thead th {\n",
       "        text-align: right;\n",
       "    }\n",
       "</style>\n",
       "<table border=\"1\" class=\"dataframe\">\n",
       "  <thead>\n",
       "    <tr style=\"text-align: right;\">\n",
       "      <th></th>\n",
       "      <th>states</th>\n",
       "      <th>Cases</th>\n",
       "      <th>Deaths</th>\n",
       "      <th>PCases</th>\n",
       "      <th>PDeaths</th>\n",
       "    </tr>\n",
       "  </thead>\n",
       "  <tbody>\n",
       "    <tr>\n",
       "      <th>0</th>\n",
       "      <td>Maharashtra</td>\n",
       "      <td>1242770</td>\n",
       "      <td>33407</td>\n",
       "      <td>1242770</td>\n",
       "      <td>33407</td>\n",
       "    </tr>\n",
       "    <tr>\n",
       "      <th>1</th>\n",
       "      <td>Andhra Pradesh</td>\n",
       "      <td>639302</td>\n",
       "      <td>5461</td>\n",
       "      <td>639302</td>\n",
       "      <td>5461</td>\n",
       "    </tr>\n",
       "    <tr>\n",
       "      <th>2</th>\n",
       "      <td>Tamil Nadu</td>\n",
       "      <td>552674</td>\n",
       "      <td>8947</td>\n",
       "      <td>552674</td>\n",
       "      <td>8947</td>\n",
       "    </tr>\n",
       "    <tr>\n",
       "      <th>3</th>\n",
       "      <td>Karnataka</td>\n",
       "      <td>533850</td>\n",
       "      <td>8228</td>\n",
       "      <td>533850</td>\n",
       "      <td>8228</td>\n",
       "    </tr>\n",
       "    <tr>\n",
       "      <th>4</th>\n",
       "      <td>Uttar Pradesh</td>\n",
       "      <td>364543</td>\n",
       "      <td>5212</td>\n",
       "      <td>364543</td>\n",
       "      <td>5212</td>\n",
       "    </tr>\n",
       "  </tbody>\n",
       "</table>\n",
       "</div>"
      ],
      "text/plain": [
       "           states    Cases  Deaths   PCases  PDeaths\n",
       "0     Maharashtra  1242770   33407  1242770    33407\n",
       "1  Andhra Pradesh   639302    5461   639302     5461\n",
       "2      Tamil Nadu   552674    8947   552674     8947\n",
       "3       Karnataka   533850    8228   533850     8228\n",
       "4   Uttar Pradesh   364543    5212   364543     5212"
      ]
     },
     "execution_count": 11,
     "metadata": {},
     "output_type": "execute_result"
    }
   ],
   "source": [
    "#hide\n",
    "df_table = pd.DataFrame({'states': dfc_cases.index, 'Cases': dfc_cases.values, 'Deaths': dfc_deaths.values, 'PCases': dfp_cases.values, 'PDeaths': dfp_deaths.values}).set_index('states')\n",
    "df_table = df_table.sort_values(by = ['Cases','Deaths'], ascending = [False, False])\n",
    "df_table = df_table.reset_index()\n",
    "df_table.head()"
   ]
  },
  {
   "cell_type": "code",
   "execution_count": 12,
   "metadata": {
    "execution": {
     "iopub.execute_input": "2020-09-23T05:52:22.289911Z",
     "iopub.status.busy": "2020-09-23T05:52:22.289312Z",
     "iopub.status.idle": "2020-09-23T05:52:22.297805Z",
     "shell.execute_reply": "2020-09-23T05:52:22.297288Z"
    },
    "papermill": {
     "duration": 0.030378,
     "end_time": "2020-09-23T05:52:22.297924",
     "exception": false,
     "start_time": "2020-09-23T05:52:22.267546",
     "status": "completed"
    },
    "tags": []
   },
   "outputs": [],
   "source": [
    "#hide\n",
    "for c in 'Cases, Deaths'.split(', '):\n",
    "    df_table[f'{c} (+)'] = (df_table[c] - df_table[f'P{c}']).clip(0)\n",
    "df_table['Fatality Rate'] = (100* df_table['Deaths']/ df_table['Cases']).round(2)"
   ]
  },
  {
   "cell_type": "code",
   "execution_count": 13,
   "metadata": {
    "execution": {
     "iopub.execute_input": "2020-09-23T05:52:22.342414Z",
     "iopub.status.busy": "2020-09-23T05:52:22.341821Z",
     "iopub.status.idle": "2020-09-23T05:52:22.344664Z",
     "shell.execute_reply": "2020-09-23T05:52:22.345120Z"
    },
    "papermill": {
     "duration": 0.031725,
     "end_time": "2020-09-23T05:52:22.345256",
     "exception": false,
     "start_time": "2020-09-23T05:52:22.313531",
     "status": "completed"
    },
    "tags": []
   },
   "outputs": [
    {
     "data": {
      "text/html": [
       "<div>\n",
       "<style scoped>\n",
       "    .dataframe tbody tr th:only-of-type {\n",
       "        vertical-align: middle;\n",
       "    }\n",
       "\n",
       "    .dataframe tbody tr th {\n",
       "        vertical-align: top;\n",
       "    }\n",
       "\n",
       "    .dataframe thead th {\n",
       "        text-align: right;\n",
       "    }\n",
       "</style>\n",
       "<table border=\"1\" class=\"dataframe\">\n",
       "  <thead>\n",
       "    <tr style=\"text-align: right;\">\n",
       "      <th></th>\n",
       "      <th>states</th>\n",
       "      <th>Cases</th>\n",
       "      <th>Deaths</th>\n",
       "      <th>PCases</th>\n",
       "      <th>PDeaths</th>\n",
       "      <th>Cases (+)</th>\n",
       "      <th>Deaths (+)</th>\n",
       "      <th>Fatality Rate</th>\n",
       "    </tr>\n",
       "  </thead>\n",
       "  <tbody>\n",
       "    <tr>\n",
       "      <th>0</th>\n",
       "      <td>Maharashtra</td>\n",
       "      <td>1242770</td>\n",
       "      <td>33407</td>\n",
       "      <td>1242770</td>\n",
       "      <td>33407</td>\n",
       "      <td>0</td>\n",
       "      <td>0</td>\n",
       "      <td>2.69</td>\n",
       "    </tr>\n",
       "    <tr>\n",
       "      <th>1</th>\n",
       "      <td>Andhra Pradesh</td>\n",
       "      <td>639302</td>\n",
       "      <td>5461</td>\n",
       "      <td>639302</td>\n",
       "      <td>5461</td>\n",
       "      <td>0</td>\n",
       "      <td>0</td>\n",
       "      <td>0.85</td>\n",
       "    </tr>\n",
       "    <tr>\n",
       "      <th>2</th>\n",
       "      <td>Tamil Nadu</td>\n",
       "      <td>552674</td>\n",
       "      <td>8947</td>\n",
       "      <td>552674</td>\n",
       "      <td>8947</td>\n",
       "      <td>0</td>\n",
       "      <td>0</td>\n",
       "      <td>1.62</td>\n",
       "    </tr>\n",
       "    <tr>\n",
       "      <th>3</th>\n",
       "      <td>Karnataka</td>\n",
       "      <td>533850</td>\n",
       "      <td>8228</td>\n",
       "      <td>533850</td>\n",
       "      <td>8228</td>\n",
       "      <td>0</td>\n",
       "      <td>0</td>\n",
       "      <td>1.54</td>\n",
       "    </tr>\n",
       "    <tr>\n",
       "      <th>4</th>\n",
       "      <td>Uttar Pradesh</td>\n",
       "      <td>364543</td>\n",
       "      <td>5212</td>\n",
       "      <td>364543</td>\n",
       "      <td>5212</td>\n",
       "      <td>0</td>\n",
       "      <td>0</td>\n",
       "      <td>1.43</td>\n",
       "    </tr>\n",
       "  </tbody>\n",
       "</table>\n",
       "</div>"
      ],
      "text/plain": [
       "           states    Cases  Deaths   PCases  PDeaths  Cases (+)  Deaths (+)  \\\n",
       "0     Maharashtra  1242770   33407  1242770    33407          0           0   \n",
       "1  Andhra Pradesh   639302    5461   639302     5461          0           0   \n",
       "2      Tamil Nadu   552674    8947   552674     8947          0           0   \n",
       "3       Karnataka   533850    8228   533850     8228          0           0   \n",
       "4   Uttar Pradesh   364543    5212   364543     5212          0           0   \n",
       "\n",
       "   Fatality Rate  \n",
       "0           2.69  \n",
       "1           0.85  \n",
       "2           1.62  \n",
       "3           1.54  \n",
       "4           1.43  "
      ]
     },
     "execution_count": 13,
     "metadata": {},
     "output_type": "execute_result"
    }
   ],
   "source": [
    "#hide\n",
    "df_table.head()"
   ]
  },
  {
   "cell_type": "code",
   "execution_count": 14,
   "metadata": {
    "execution": {
     "iopub.execute_input": "2020-09-23T05:52:22.383362Z",
     "iopub.status.busy": "2020-09-23T05:52:22.382781Z",
     "iopub.status.idle": "2020-09-23T05:52:22.398162Z",
     "shell.execute_reply": "2020-09-23T05:52:22.397669Z"
    },
    "papermill": {
     "duration": 0.037005,
     "end_time": "2020-09-23T05:52:22.398280",
     "exception": false,
     "start_time": "2020-09-23T05:52:22.361275",
     "status": "completed"
    },
    "tags": []
   },
   "outputs": [
    {
     "data": {
      "text/plain": [
       "{'updated': '2020-09-23',\n",
       " 'since': '2020-09-22',\n",
       " 'Cases': 5646281,\n",
       " 'PCases': 5643481,\n",
       " 'Deaths': 90063,\n",
       " 'PDeaths': 90050,\n",
       " 'Cases (+)': 2800,\n",
       " 'Deaths (+)': 13}"
      ]
     },
     "execution_count": 14,
     "metadata": {},
     "output_type": "execute_result"
    }
   ],
   "source": [
    "#hide\n",
    "summary = {'updated':dates[-1], 'since':dates[-2]}\n",
    "list_names = ['Cases', 'PCases', 'Deaths', 'PDeaths', 'Cases (+)', 'Deaths (+)']\n",
    "for name in list_names:\n",
    "    summary[name] = df_table.sum()[name]\n",
    "summary"
   ]
  },
  {
   "cell_type": "code",
   "execution_count": 15,
   "metadata": {
    "execution": {
     "iopub.execute_input": "2020-09-23T05:52:22.436295Z",
     "iopub.status.busy": "2020-09-23T05:52:22.435385Z",
     "iopub.status.idle": "2020-09-23T05:52:22.439857Z",
     "shell.execute_reply": "2020-09-23T05:52:22.440539Z"
    },
    "papermill": {
     "duration": 0.026229,
     "end_time": "2020-09-23T05:52:22.440744",
     "exception": false,
     "start_time": "2020-09-23T05:52:22.414515",
     "status": "completed"
    },
    "tags": []
   },
   "outputs": [],
   "source": [
    "#hide\n",
    "overview = '''\n",
    "<!-- #######  HTML!! #########-->\n",
    "<h1 style=\"color: #5e9ca0; text-align: center;\">India</h1>\n",
    "<p style=\"text-align: center;\">Last update: <strong>{update}</strong></p>\n",
    "<p style=\"text-align: center;\">Confirmed cases:</p>\n",
    "<p style=\"text-align: center;font-size:24px;\">{cases} (<span style=\"color: #ff0000;\">+{new}</span>)</p>\n",
    "<p style=\"text-align: center;\">Confirmed deaths:</p>\n",
    "<p style=\"text-align: center;font-size:24px;\">{deaths} (<span style=\"color: #ff0000;\">+{dnew}</span>)</p>\n",
    "'''"
   ]
  },
  {
   "cell_type": "code",
   "execution_count": 16,
   "metadata": {
    "execution": {
     "iopub.execute_input": "2020-09-23T05:52:22.479397Z",
     "iopub.status.busy": "2020-09-23T05:52:22.478818Z",
     "iopub.status.idle": "2020-09-23T05:52:22.481907Z",
     "shell.execute_reply": "2020-09-23T05:52:22.481414Z"
    },
    "papermill": {
     "duration": 0.024383,
     "end_time": "2020-09-23T05:52:22.482024",
     "exception": false,
     "start_time": "2020-09-23T05:52:22.457641",
     "status": "completed"
    },
    "tags": []
   },
   "outputs": [
    {
     "data": {
      "text/html": [
       "\n",
       "<!-- #######  HTML!! #########-->\n",
       "<h1 style=\"color: #5e9ca0; text-align: center;\">India</h1>\n",
       "<p style=\"text-align: center;\">Last update: <strong>2020-09-23</strong></p>\n",
       "<p style=\"text-align: center;\">Confirmed cases:</p>\n",
       "<p style=\"text-align: center;font-size:24px;\">5646281 (<span style=\"color: #ff0000;\">+2800</span>)</p>\n",
       "<p style=\"text-align: center;\">Confirmed deaths:</p>\n",
       "<p style=\"text-align: center;font-size:24px;\">90063 (<span style=\"color: #ff0000;\">+13</span>)</p>\n"
      ],
      "text/plain": [
       "<IPython.core.display.HTML object>"
      ]
     },
     "metadata": {},
     "output_type": "display_data"
    }
   ],
   "source": [
    "#hide_input\n",
    "update = summary['updated']\n",
    "cases = summary['Cases']\n",
    "new = summary['Cases (+)']\n",
    "deaths = summary['Deaths']\n",
    "dnew = summary['Deaths (+)']\n",
    "\n",
    "html = HTML(overview.format(update=update, cases=cases,new=new,deaths=deaths,dnew=dnew))\n",
    "\n",
    "display(html)"
   ]
  },
  {
   "cell_type": "code",
   "execution_count": 17,
   "metadata": {
    "execution": {
     "iopub.execute_input": "2020-09-23T05:52:22.524825Z",
     "iopub.status.busy": "2020-09-23T05:52:22.524245Z",
     "iopub.status.idle": "2020-09-23T05:52:22.528919Z",
     "shell.execute_reply": "2020-09-23T05:52:22.529380Z"
    },
    "papermill": {
     "duration": 0.030715,
     "end_time": "2020-09-23T05:52:22.529525",
     "exception": false,
     "start_time": "2020-09-23T05:52:22.498810",
     "status": "completed"
    },
    "tags": []
   },
   "outputs": [],
   "source": [
    "#hide\n",
    "dt_cols = list(dft_cases.columns[1:])\n",
    "dft_ct_new_cases = dft_cases.groupby('state')[dt_cols].sum().diff(axis=1).fillna(0).astype(int)\n",
    "dft_ct_new_cases.sort_values(by = dates[-1], ascending = False,inplace = True)"
   ]
  },
  {
   "cell_type": "code",
   "execution_count": 18,
   "metadata": {
    "execution": {
     "iopub.execute_input": "2020-09-23T05:52:22.583078Z",
     "iopub.status.busy": "2020-09-23T05:52:22.582494Z",
     "iopub.status.idle": "2020-09-23T05:52:22.585625Z",
     "shell.execute_reply": "2020-09-23T05:52:22.585105Z"
    },
    "papermill": {
     "duration": 0.039288,
     "end_time": "2020-09-23T05:52:22.585749",
     "exception": false,
     "start_time": "2020-09-23T05:52:22.546461",
     "status": "completed"
    },
    "tags": []
   },
   "outputs": [
    {
     "data": {
      "text/html": [
       "<div>\n",
       "<style scoped>\n",
       "    .dataframe tbody tr th:only-of-type {\n",
       "        vertical-align: middle;\n",
       "    }\n",
       "\n",
       "    .dataframe tbody tr th {\n",
       "        vertical-align: top;\n",
       "    }\n",
       "\n",
       "    .dataframe thead th {\n",
       "        text-align: right;\n",
       "    }\n",
       "</style>\n",
       "<table border=\"1\" class=\"dataframe\">\n",
       "  <thead>\n",
       "    <tr style=\"text-align: right;\">\n",
       "      <th>states</th>\n",
       "      <th>2020-07-01</th>\n",
       "      <th>2020-07-02</th>\n",
       "      <th>2020-07-03</th>\n",
       "      <th>2020-07-04</th>\n",
       "      <th>2020-07-05</th>\n",
       "      <th>2020-07-06</th>\n",
       "      <th>2020-07-07</th>\n",
       "      <th>2020-07-08</th>\n",
       "      <th>2020-07-09</th>\n",
       "      <th>2020-07-10</th>\n",
       "      <th>...</th>\n",
       "      <th>2020-09-14</th>\n",
       "      <th>2020-09-15</th>\n",
       "      <th>2020-09-16</th>\n",
       "      <th>2020-09-17</th>\n",
       "      <th>2020-09-18</th>\n",
       "      <th>2020-09-19</th>\n",
       "      <th>2020-09-20</th>\n",
       "      <th>2020-09-21</th>\n",
       "      <th>2020-09-22</th>\n",
       "      <th>2020-09-23</th>\n",
       "    </tr>\n",
       "    <tr>\n",
       "      <th>state</th>\n",
       "      <th></th>\n",
       "      <th></th>\n",
       "      <th></th>\n",
       "      <th></th>\n",
       "      <th></th>\n",
       "      <th></th>\n",
       "      <th></th>\n",
       "      <th></th>\n",
       "      <th></th>\n",
       "      <th></th>\n",
       "      <th></th>\n",
       "      <th></th>\n",
       "      <th></th>\n",
       "      <th></th>\n",
       "      <th></th>\n",
       "      <th></th>\n",
       "      <th></th>\n",
       "      <th></th>\n",
       "      <th></th>\n",
       "      <th></th>\n",
       "      <th></th>\n",
       "    </tr>\n",
       "  </thead>\n",
       "  <tbody>\n",
       "    <tr>\n",
       "      <th>Telangana</th>\n",
       "      <td>0</td>\n",
       "      <td>1213</td>\n",
       "      <td>1892</td>\n",
       "      <td>1850</td>\n",
       "      <td>1590</td>\n",
       "      <td>1831</td>\n",
       "      <td>1879</td>\n",
       "      <td>1924</td>\n",
       "      <td>1410</td>\n",
       "      <td>1278</td>\n",
       "      <td>...</td>\n",
       "      <td>1417</td>\n",
       "      <td>2058</td>\n",
       "      <td>2273</td>\n",
       "      <td>2159</td>\n",
       "      <td>2043</td>\n",
       "      <td>2123</td>\n",
       "      <td>2137</td>\n",
       "      <td>1302</td>\n",
       "      <td>2166</td>\n",
       "      <td>2296</td>\n",
       "    </tr>\n",
       "    <tr>\n",
       "      <th>Tripura</th>\n",
       "      <td>0</td>\n",
       "      <td>39</td>\n",
       "      <td>93</td>\n",
       "      <td>25</td>\n",
       "      <td>23</td>\n",
       "      <td>111</td>\n",
       "      <td>24</td>\n",
       "      <td>57</td>\n",
       "      <td>16</td>\n",
       "      <td>142</td>\n",
       "      <td>...</td>\n",
       "      <td>255</td>\n",
       "      <td>531</td>\n",
       "      <td>454</td>\n",
       "      <td>527</td>\n",
       "      <td>273</td>\n",
       "      <td>535</td>\n",
       "      <td>525</td>\n",
       "      <td>243</td>\n",
       "      <td>559</td>\n",
       "      <td>504</td>\n",
       "    </tr>\n",
       "    <tr>\n",
       "      <th>Andaman and Nicobar Islands</th>\n",
       "      <td>0</td>\n",
       "      <td>9</td>\n",
       "      <td>7</td>\n",
       "      <td>3</td>\n",
       "      <td>6</td>\n",
       "      <td>16</td>\n",
       "      <td>6</td>\n",
       "      <td>2</td>\n",
       "      <td>7</td>\n",
       "      <td>0</td>\n",
       "      <td>...</td>\n",
       "      <td>11</td>\n",
       "      <td>17</td>\n",
       "      <td>19</td>\n",
       "      <td>11</td>\n",
       "      <td>27</td>\n",
       "      <td>13</td>\n",
       "      <td>7</td>\n",
       "      <td>22</td>\n",
       "      <td>18</td>\n",
       "      <td>0</td>\n",
       "    </tr>\n",
       "    <tr>\n",
       "      <th>Puducherry</th>\n",
       "      <td>0</td>\n",
       "      <td>63</td>\n",
       "      <td>22</td>\n",
       "      <td>80</td>\n",
       "      <td>42</td>\n",
       "      <td>65</td>\n",
       "      <td>30</td>\n",
       "      <td>110</td>\n",
       "      <td>49</td>\n",
       "      <td>72</td>\n",
       "      <td>...</td>\n",
       "      <td>393</td>\n",
       "      <td>375</td>\n",
       "      <td>510</td>\n",
       "      <td>317</td>\n",
       "      <td>485</td>\n",
       "      <td>543</td>\n",
       "      <td>467</td>\n",
       "      <td>268</td>\n",
       "      <td>493</td>\n",
       "      <td>0</td>\n",
       "    </tr>\n",
       "    <tr>\n",
       "      <th>Maharashtra</th>\n",
       "      <td>0</td>\n",
       "      <td>6328</td>\n",
       "      <td>6364</td>\n",
       "      <td>7074</td>\n",
       "      <td>6555</td>\n",
       "      <td>5368</td>\n",
       "      <td>5134</td>\n",
       "      <td>6603</td>\n",
       "      <td>6875</td>\n",
       "      <td>7862</td>\n",
       "      <td>...</td>\n",
       "      <td>17066</td>\n",
       "      <td>20482</td>\n",
       "      <td>23365</td>\n",
       "      <td>24619</td>\n",
       "      <td>21656</td>\n",
       "      <td>20519</td>\n",
       "      <td>20627</td>\n",
       "      <td>15738</td>\n",
       "      <td>18390</td>\n",
       "      <td>0</td>\n",
       "    </tr>\n",
       "  </tbody>\n",
       "</table>\n",
       "<p>5 rows × 85 columns</p>\n",
       "</div>"
      ],
      "text/plain": [
       "states                       2020-07-01  2020-07-02  2020-07-03  2020-07-04  \\\n",
       "state                                                                         \n",
       "Telangana                             0        1213        1892        1850   \n",
       "Tripura                               0          39          93          25   \n",
       "Andaman and Nicobar Islands           0           9           7           3   \n",
       "Puducherry                            0          63          22          80   \n",
       "Maharashtra                           0        6328        6364        7074   \n",
       "\n",
       "states                       2020-07-05  2020-07-06  2020-07-07  2020-07-08  \\\n",
       "state                                                                         \n",
       "Telangana                          1590        1831        1879        1924   \n",
       "Tripura                              23         111          24          57   \n",
       "Andaman and Nicobar Islands           6          16           6           2   \n",
       "Puducherry                           42          65          30         110   \n",
       "Maharashtra                        6555        5368        5134        6603   \n",
       "\n",
       "states                       2020-07-09  2020-07-10  ...  2020-09-14  \\\n",
       "state                                                ...               \n",
       "Telangana                          1410        1278  ...        1417   \n",
       "Tripura                              16         142  ...         255   \n",
       "Andaman and Nicobar Islands           7           0  ...          11   \n",
       "Puducherry                           49          72  ...         393   \n",
       "Maharashtra                        6875        7862  ...       17066   \n",
       "\n",
       "states                       2020-09-15  2020-09-16  2020-09-17  2020-09-18  \\\n",
       "state                                                                         \n",
       "Telangana                          2058        2273        2159        2043   \n",
       "Tripura                             531         454         527         273   \n",
       "Andaman and Nicobar Islands          17          19          11          27   \n",
       "Puducherry                          375         510         317         485   \n",
       "Maharashtra                       20482       23365       24619       21656   \n",
       "\n",
       "states                       2020-09-19  2020-09-20  2020-09-21  2020-09-22  \\\n",
       "state                                                                         \n",
       "Telangana                          2123        2137        1302        2166   \n",
       "Tripura                             535         525         243         559   \n",
       "Andaman and Nicobar Islands          13           7          22          18   \n",
       "Puducherry                          543         467         268         493   \n",
       "Maharashtra                       20519       20627       15738       18390   \n",
       "\n",
       "states                       2020-09-23  \n",
       "state                                    \n",
       "Telangana                          2296  \n",
       "Tripura                             504  \n",
       "Andaman and Nicobar Islands           0  \n",
       "Puducherry                            0  \n",
       "Maharashtra                           0  \n",
       "\n",
       "[5 rows x 85 columns]"
      ]
     },
     "execution_count": 18,
     "metadata": {},
     "output_type": "execute_result"
    }
   ],
   "source": [
    "#hide\n",
    "dft_ct_new_cases.head()"
   ]
  },
  {
   "cell_type": "code",
   "execution_count": 19,
   "metadata": {
    "execution": {
     "iopub.execute_input": "2020-09-23T05:52:22.623370Z",
     "iopub.status.busy": "2020-09-23T05:52:22.622745Z",
     "iopub.status.idle": "2020-09-23T05:52:26.070570Z",
     "shell.execute_reply": "2020-09-23T05:52:26.071048Z"
    },
    "papermill": {
     "duration": 3.468458,
     "end_time": "2020-09-23T05:52:26.071205",
     "exception": false,
     "start_time": "2020-09-23T05:52:22.602747",
     "status": "completed"
    },
    "tags": []
   },
   "outputs": [
    {
     "data": {
      "image/png": "[encoded data removed]",
      "text/plain": [
       "<Figure size 1296x2016 with 11 Axes>"
      ]
     },
     "metadata": {
      "needs_background": "light"
     },
     "output_type": "display_data"
    }
   ],
   "source": [
    "#hide_input\n",
    "df = dft_ct_new_cases.copy()\n",
    "df.loc['Total'] = df.sum()\n",
    "n = 5\n",
    "ax = []\n",
    "fig = plt.figure(figsize = (18,28))\n",
    "gs = fig.add_gridspec(n+2, 5)\n",
    "# gs = fig.add_gridspec(2, 3)\n",
    "ax1 = fig.add_subplot(gs[0, :])\n",
    "ef = df.loc['Total'].rename_axis('date').reset_index()\n",
    "ef['date'] = ef['date'].astype('datetime64[ns]')\n",
    "ax1.bar(ef.date,ef.Total,alpha=0.3,color='#007acc')\n",
    "ax1.plot(ef.date,ef.Total , marker=\"o\", color='#007acc')\n",
    "ax1.xaxis.set_major_locator(mdates.WeekdayLocator())\n",
    "ax1.xaxis.set_major_formatter(mdates.DateFormatter('%b %d'))\n",
    "ax1.text(0.02, 0.5,'India daily case count', transform = ax1.transAxes, fontsize=25);\n",
    "ax1.spines['right'].set_visible(False)\n",
    "ax1.spines['top'].set_visible(False)\n",
    "\n",
    "ax2 = fig.add_subplot(gs[1,0])\n",
    "ef = df.loc['Maharashtra'].rename_axis('date').reset_index()\n",
    "ef['date'] = ef['date'].astype('datetime64[ns]')\n",
    "\n",
    "ax2.bar(ef.date, ef.Maharashtra,color = '#007acc',alpha=0.5)\n",
    "ax2.xaxis.set_major_locator(mdates.WeekdayLocator())\n",
    "ax2.xaxis.set_major_formatter(mdates.DateFormatter('%b %d'))\n",
    "ax2.set_xticks(ax2.get_xticks()[::3])\n",
    "maxyval = ef.Maharashtra.max()\n",
    "ax2.set_ylim([0,maxyval])\n",
    "ax2.text(0.05, 0.9,'Maharashtra', transform = ax2.transAxes, fontsize=20);\n",
    "ax2.spines['right'].set_visible(False)\n",
    "ax2.spines['top'].set_visible(False)\n",
    "\n",
    "\n",
    "ax3 = fig.add_subplot(gs[1,1])\n",
    "ef = df.loc['Tamil Nadu'].rename_axis('date').reset_index()\n",
    "ef['date'] = ef['date'].astype('datetime64[ns]')\n",
    "ax3.bar(ef.date, ef['Tamil Nadu'],color = '#007acc',alpha=0.5,)\n",
    "ax3.xaxis.set_major_locator(mdates.WeekdayLocator())\n",
    "ax3.xaxis.set_major_formatter(mdates.DateFormatter('%b %d'))\n",
    "ax3.set_xticks(ax3.get_xticks()[::3])\n",
    "ax3.text(0.05, 0.9,'Tamil Nadu', transform = ax3.transAxes, fontsize=20);\n",
    "ax3.spines['right'].set_visible(False)\n",
    "ax3.spines['top'].set_visible(False)\n",
    "\n",
    "ax5 = fig.add_subplot(gs[1,3])\n",
    "ef = df.loc['Telangana'].rename_axis('date').reset_index()\n",
    "ef['date'] = ef['date'].astype('datetime64[ns]')\n",
    "ax5.bar(ef.date, ef['Telangana'],color = '#007acc',alpha=0.5,)\n",
    "ax5.xaxis.set_major_locator(mdates.WeekdayLocator())\n",
    "ax5.xaxis.set_major_formatter(mdates.DateFormatter('%b %d'))\n",
    "ax5.set_xticks(ax5.get_xticks()[::3])\n",
    "ax5.text(0.05, 0.9,'Telangana', transform = ax5.transAxes, fontsize=20);\n",
    "ax5.spines['right'].set_visible(False)\n",
    "ax5.spines['top'].set_visible(False)\n",
    "\n",
    "ax6 = fig.add_subplot(gs[1,4])\n",
    "ef = df.loc['Andhra Pradesh'].rename_axis('date').reset_index()\n",
    "ef['date'] = ef['date'].astype('datetime64[ns]')\n",
    "ax6.bar(ef.date, ef['Andhra Pradesh'],color = '#007acc',alpha=0.5,)\n",
    "ax6.xaxis.set_major_locator(mdates.WeekdayLocator())\n",
    "ax6.xaxis.set_major_formatter(mdates.DateFormatter('%b %d'))\n",
    "ax6.set_xticks(ax6.get_xticks()[::3])\n",
    "ax6.text(0.05, 1,'Andhra Pradesh', transform = ax6.transAxes, fontsize=20);\n",
    "ax6.spines['right'].set_visible(False)\n",
    "ax6.spines['top'].set_visible(False)\n",
    "\n",
    "ax4 = fig.add_subplot(gs[1,2])\n",
    "ef = df.loc['Delhi'].rename_axis('date').reset_index()\n",
    "ef['date'] = ef['date'].astype('datetime64[ns]')\n",
    "ax4.bar(ef.date, ef.Delhi,color = '#007acc',alpha=0.5)\n",
    "ax4.set_xticks([])\n",
    "ax4.xaxis.set_major_locator(mdates.WeekdayLocator())\n",
    "ax4.xaxis.set_major_formatter(mdates.DateFormatter('%b %d'))\n",
    "ax4.set_xticks(ax4.get_xticks()[::3])\n",
    "ax4.spines['right'].set_visible(False)\n",
    "ax4.spines['top'].set_visible(False)\n",
    "\n",
    "ax4.text(0.05, 1,'Delhi', transform = ax4.transAxes, fontsize=20)\n",
    "\n",
    "for i in range(n):\n",
    "    \n",
    "    ax.append(fig.add_subplot(gs[i+2,:]))\n",
    "    ef = df.iloc[i+3].rename_axis('date').reset_index()\n",
    "    ef['date'] = ef['date'].astype('datetime64[ns]')\n",
    "    ax[i].bar(ef.date,ef.iloc[:,-1],color = '#007acc',alpha=0.3)\n",
    "    ax[i].plot(ef.date,ef.iloc[:,-1],marker='o',color='#007acc')\n",
    "    ax[i].text(0.02,0.5,f'{ef.columns.values[-1]}',transform = ax[i].transAxes, fontsize = 20);\n",
    "    ax[i].xaxis.set_major_locator(mdates.WeekdayLocator())\n",
    "    ax[i].xaxis.set_major_formatter(mdates.DateFormatter('%b %d'))\n",
    "    ax[i].set_ylim([0,7000])\n",
    "    ax[i].spines['right'].set_visible(False)\n",
    "    ax[i].spines['top'].set_visible(False)\n",
    "plt.tight_layout()\n"
   ]
  },
  {
   "cell_type": "code",
   "execution_count": 20,
   "metadata": {
    "execution": {
     "iopub.execute_input": "2020-09-23T05:52:26.131039Z",
     "iopub.status.busy": "2020-09-23T05:52:26.130430Z",
     "iopub.status.idle": "2020-09-23T05:52:26.133413Z",
     "shell.execute_reply": "2020-09-23T05:52:26.132892Z"
    },
    "papermill": {
     "duration": 0.037846,
     "end_time": "2020-09-23T05:52:26.133546",
     "exception": false,
     "start_time": "2020-09-23T05:52:26.095700",
     "status": "completed"
    },
    "tags": []
   },
   "outputs": [
    {
     "name": "stdout",
     "output_type": "stream",
     "text": [
      "                                   states    Cases  Deaths   PCases  PDeaths  Cases (+)  Deaths (+)  Fatality Rate\n",
      "                              Maharashtra  1242770   33407  1242770    33407          0           0           2.69\n",
      "                           Andhra Pradesh   639302    5461   639302     5461          0           0           0.85\n",
      "                               Tamil Nadu   552674    8947   552674     8947          0           0           1.62\n",
      "                                Karnataka   533850    8228   533850     8228          0           0           1.54\n",
      "                            Uttar Pradesh   364543    5212   364543     5212          0           0           1.43\n",
      "                                    Delhi   253075    5051   253075     5051          0           0           2.00\n",
      "                              West Bengal   231484    4483   231484     4483          0           0           1.94\n",
      "                                   Odisha   188311     775   188311      774          0           1           0.41\n",
      "                                Telangana   177070    1062   174774     1052       2296          10           0.60\n",
      "                                    Bihar   171465     873   171465      873          0           0           0.51\n",
      "                                    Assam   161393     586   161393      586          0           0           0.36\n",
      "                                   Kerala   142758     573   142758      573          0           0           0.40\n",
      "                                  Gujarat   126169    3353   126169     3353          0           0           2.66\n",
      "                                Rajasthan   118793    1367   118793     1367          0           0           1.15\n",
      "                                  Haryana   114870    1206   114870     1206          0           0           1.05\n",
      "                           Madhya Pradesh   110711    2035   110711     2035          0           0           1.84\n",
      "                                   Punjab   101341    2926   101341     2926          0           0           2.89\n",
      "                             Chhattisgarh    90917     718    90917      718          0           0           0.79\n",
      "                                Jharkhand    73948     641    73948      641          0           0           0.87\n",
      "                        Jammu and Kashmir    66261    1042    66261     1042          0           0           1.57\n",
      "                              Uttarakhand    42651     512    42651      512          0           0           1.20\n",
      "                                      Goa    29343     368    29343      368          0           0           1.25\n",
      "                               Puducherry    23684     473    23684      473          0           0           2.00\n",
      "                                  Tripura    23335     250    22831      248        504           2           1.07\n",
      "                         Himachal Pradesh    12769     130    12769      130          0           0           1.02\n",
      "                               Chandigarh    10546     127    10546      127          0           0           1.20\n",
      "                                  Manipur     9280      60     9280       60          0           0           0.65\n",
      "                        Arunachal Pradesh     7844      14     7844       14          0           0           0.18\n",
      "                                 Nagaland     5604      10     5604       10          0           0           0.18\n",
      "                                Meghalaya     4791      40     4791       40          0           0           0.83\n",
      "                                   Ladakh     3887      50     3887       50          0           0           1.29\n",
      "              Andaman and Nicobar Islands     3691      52     3691       52          0           0           1.41\n",
      " Dadra and Nagar Haveli and Daman and Diu     2947       2     2947        2          0           0           0.07\n",
      "                                   Sikkim     2513      29     2513       29          0           0           1.15\n",
      "                                  Mizoram     1691       0     1691        0          0           0           0.00\n",
      "                              Lakshadweep        0       0        0        0          0           0            NaN\n"
     ]
    }
   ],
   "source": [
    "#hide_input\n",
    "print(df_table.to_string(index=False))"
   ]
  },
  {
   "cell_type": "code",
   "execution_count": null,
   "metadata": {
    "papermill": {
     "duration": 0.022439,
     "end_time": "2020-09-23T05:52:26.178513",
     "exception": false,
     "start_time": "2020-09-23T05:52:26.156074",
     "status": "completed"
    },
    "tags": []
   },
   "outputs": [],
   "source": []
  },
  {
   "cell_type": "code",
   "execution_count": null,
   "metadata": {
    "papermill": {
     "duration": 0.022336,
     "end_time": "2020-09-23T05:52:26.223439",
     "exception": false,
     "start_time": "2020-09-23T05:52:26.201103",
     "status": "completed"
    },
    "tags": []
   },
   "outputs": [],
   "source": []
  }
 ],
 "metadata": {
  "kernelspec": {
   "display_name": "Python 3",
   "language": "python",
   "name": "python3"
  },
  "language_info": {
   "codemirror_mode": {
    "name": "ipython",
    "version": 3
   },
   "file_extension": ".py",
   "mimetype": "text/x-python",
   "name": "python",
   "nbconvert_exporter": "python",
   "pygments_lexer": "ipython3",
   "version": "3.6.12"
  },
  "papermill": {
   "duration": 8.998015,
   "end_time": "2020-09-23T05:52:26.655160",
   "environment_variables": {},
   "exception": null,
   "input_path": "latest.ipynb",
   "output_path": "latest.ipynb",
   "parameters": {},
   "start_time": "2020-09-23T05:52:17.657145",
   "version": "2.1.2"
  }
 },
 "nbformat": 4,
 "nbformat_minor": 4
}