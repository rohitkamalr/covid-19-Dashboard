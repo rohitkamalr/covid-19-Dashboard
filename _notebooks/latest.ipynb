{
 "cells": [
  {
   "cell_type": "markdown",
   "metadata": {
    "papermill": {
     "duration": 0.020681,
     "end_time": "2020-08-18T13:51:37.355239",
     "exception": false,
     "start_time": "2020-08-18T13:51:37.334558",
     "status": "completed"
    },
    "tags": []
   },
   "source": [
    "# Latest COVID-19 India Matplotlib Overview"
   ]
  },
  {
   "cell_type": "code",
   "execution_count": 1,
   "metadata": {
    "execution": {
     "iopub.execute_input": "2020-08-18T13:51:37.739297Z",
     "iopub.status.busy": "2020-08-18T13:51:37.738652Z",
     "iopub.status.idle": "2020-08-18T13:51:38.283967Z",
     "shell.execute_reply": "2020-08-18T13:51:38.282879Z"
    },
    "papermill": {
     "duration": 0.690586,
     "end_time": "2020-08-18T13:51:38.284130",
     "exception": false,
     "start_time": "2020-08-18T13:51:37.593544",
     "status": "completed"
    },
    "tags": []
   },
   "outputs": [],
   "source": [
    "#hide\n",
    "import pandas as pd\n",
    "import numpy as np\n",
    "import requests\n",
    "import json\n",
    "import matplotlib.pyplot as plt\n",
    "import matplotlib.dates as mdates\n",
    "import matplotlib as mpl\n",
    "from IPython.core.display import display,HTML\n",
    "%matplotlib inline\n",
    "from datetime import date"
   ]
  },
  {
   "cell_type": "code",
   "execution_count": 2,
   "metadata": {
    "execution": {
     "iopub.execute_input": "2020-08-18T13:51:38.440653Z",
     "iopub.status.busy": "2020-08-18T13:51:38.439885Z",
     "iopub.status.idle": "2020-08-18T13:51:38.570762Z",
     "shell.execute_reply": "2020-08-18T13:51:38.569730Z"
    },
    "papermill": {
     "duration": 0.239478,
     "end_time": "2020-08-18T13:51:38.570917",
     "exception": false,
     "start_time": "2020-08-18T13:51:38.331439",
     "status": "completed"
    },
    "tags": []
   },
   "outputs": [],
   "source": [
    "#hide\n",
    "df  = pd.read_csv('https://api.covid19india.org/csv/latest/states.csv')\n",
    "df = df[['Date','State','Confirmed','Deceased']]\n",
    "df = df.rename(columns={'Confirmed':'Cases', \"Deceased\":'Deaths'})\n",
    "df_cases = df[[\"Date\",'State','Cases']]\n",
    "df_deaths = df[['Date','State','Deaths']]\n",
    "df_cases1 = df_cases.groupby('Date')\n",
    "df_deaths1= df_deaths.groupby('Date')"
   ]
  },
  {
   "cell_type": "code",
   "execution_count": 3,
   "metadata": {
    "execution": {
     "iopub.execute_input": "2020-08-18T13:51:38.890400Z",
     "iopub.status.busy": "2020-08-18T13:51:38.889849Z",
     "iopub.status.idle": "2020-08-18T13:51:38.908012Z",
     "shell.execute_reply": "2020-08-18T13:51:38.907128Z"
    },
    "papermill": {
     "duration": 0.264434,
     "end_time": "2020-08-18T13:51:38.908221",
     "exception": false,
     "start_time": "2020-08-18T13:51:38.643787",
     "status": "completed"
    },
    "tags": []
   },
   "outputs": [],
   "source": [
    "#hide\n",
    "df_snap = pd.read_csv('data/SnapshotCases-28-July.csv')\n",
    "arr_states = df_snap['states'].unique()\n",
    "arr_dates = df['Date'].unique()\n",
    "df_snap = df_snap.set_index('states')"
   ]
  },
  {
   "cell_type": "code",
   "execution_count": 4,
   "metadata": {
    "execution": {
     "iopub.execute_input": "2020-08-18T13:51:38.986315Z",
     "iopub.status.busy": "2020-08-18T13:51:38.985754Z",
     "iopub.status.idle": "2020-08-18T13:51:38.987989Z",
     "shell.execute_reply": "2020-08-18T13:51:38.988422Z"
    },
    "papermill": {
     "duration": 0.061461,
     "end_time": "2020-08-18T13:51:38.988553",
     "exception": false,
     "start_time": "2020-08-18T13:51:38.927092",
     "status": "completed"
    },
    "tags": []
   },
   "outputs": [
    {
     "data": {
      "text/plain": [
       "array(['Andaman and Nicobar Islands', 'Andhra Pradesh',\n",
       "       'Arunachal Pradesh', 'Assam', 'Bihar', 'Chandigarh',\n",
       "       'Dadra and Nagar Haveli and Daman and Diu', 'Delhi', 'Goa',\n",
       "       'Gujarat', 'Haryana', 'Himachal Pradesh', 'Jammu and Kashmir',\n",
       "       'Jharkhand', 'Karnataka', 'Kerala', 'Lakshadweep',\n",
       "       'Madhya Pradesh', 'Maharashtra', 'Manipur', 'Meghalaya', 'Mizoram',\n",
       "       'Nagaland', 'Odisha', 'Puducherry', 'Punjab', 'Rajasthan',\n",
       "       'Sikkim', 'Tamil Nadu', 'Telangana', 'Tripura', 'Uttar Pradesh',\n",
       "       'West Bengal', 'Chhattisgarh', 'Ladakh', 'Uttarakhand'],\n",
       "      dtype=object)"
      ]
     },
     "execution_count": 4,
     "metadata": {},
     "output_type": "execute_result"
    }
   ],
   "source": [
    "#hide\n",
    "arr_states[-9] = 'Puducherry'\n",
    "arr_states[-10] = 'Odisha'\n",
    "arr_states[6] = 'Dadra and Nagar Haveli and Daman and Diu'\n",
    "arr_states = np.append(arr_states,np.array(['Chhattisgarh','Ladakh','Uttarakhand']))\n",
    "arr_states"
   ]
  },
  {
   "cell_type": "code",
   "execution_count": 5,
   "metadata": {
    "execution": {
     "iopub.execute_input": "2020-08-18T13:51:39.098817Z",
     "iopub.status.busy": "2020-08-18T13:51:39.098179Z",
     "iopub.status.idle": "2020-08-18T13:51:39.106839Z",
     "shell.execute_reply": "2020-08-18T13:51:39.107290Z"
    },
    "papermill": {
     "duration": 0.076122,
     "end_time": "2020-08-18T13:51:39.107424",
     "exception": false,
     "start_time": "2020-08-18T13:51:39.031302",
     "status": "completed"
    },
    "tags": []
   },
   "outputs": [],
   "source": [
    "#hide\n",
    "dates = []\n",
    "for i in arr_dates:\n",
    "    if i>='2020-07-01':\n",
    "        dates.append(i)\n",
    "dict = {'states':dates}\n",
    "for i in arr_states:\n",
    "    dict[i] = [0]*len(dates)\n",
    "dft_cases = pd.DataFrame(dict)\n",
    "dft_deaths = pd.DataFrame(dict)\n"
   ]
  },
  {
   "cell_type": "code",
   "execution_count": 6,
   "metadata": {
    "execution": {
     "iopub.execute_input": "2020-08-18T13:51:39.189137Z",
     "iopub.status.busy": "2020-08-18T13:51:39.188537Z",
     "iopub.status.idle": "2020-08-18T13:51:39.827202Z",
     "shell.execute_reply": "2020-08-18T13:51:39.826154Z"
    },
    "papermill": {
     "duration": 0.692314,
     "end_time": "2020-08-18T13:51:39.827346",
     "exception": false,
     "start_time": "2020-08-18T13:51:39.135032",
     "status": "completed"
    },
    "tags": []
   },
   "outputs": [],
   "source": [
    "#hide\n",
    "for i in range(len(dates)):\n",
    "    df1_deaths = df_deaths1.get_group(dates[i])\n",
    "    for j in range(len(df1_deaths.index)):\n",
    "        if df1_deaths.iloc[j,1] in arr_states:\n",
    "            dft_deaths.loc[i,df1_deaths.iloc[j,1]] = df1_deaths.iloc[j,2]\n",
    "dft_deaths = dft_deaths.set_index('states')"
   ]
  },
  {
   "cell_type": "code",
   "execution_count": 7,
   "metadata": {
    "execution": {
     "iopub.execute_input": "2020-08-18T13:51:39.868363Z",
     "iopub.status.busy": "2020-08-18T13:51:39.862151Z",
     "iopub.status.idle": "2020-08-18T13:51:40.564209Z",
     "shell.execute_reply": "2020-08-18T13:51:40.563502Z"
    },
    "papermill": {
     "duration": 0.722387,
     "end_time": "2020-08-18T13:51:40.564345",
     "exception": false,
     "start_time": "2020-08-18T13:51:39.841958",
     "status": "completed"
    },
    "tags": []
   },
   "outputs": [],
   "source": [
    "#hide\n",
    "for i in range(len(dates)):\n",
    "    df1_cases = df_cases1.get_group(dates[i])\n",
    "    for j in range(len(df1_cases.index)):\n",
    "        if df1_cases.iloc[j,1] in arr_states:\n",
    "            dft_cases.loc[i,df1_cases.iloc[j,1]] = df1_cases.iloc[j,2]\n",
    "dft_cases = dft_cases.set_index('states')"
   ]
  },
  {
   "cell_type": "code",
   "execution_count": 8,
   "metadata": {
    "execution": {
     "iopub.execute_input": "2020-08-18T13:51:40.601087Z",
     "iopub.status.busy": "2020-08-18T13:51:40.600547Z",
     "iopub.status.idle": "2020-08-18T13:51:40.601952Z",
     "shell.execute_reply": "2020-08-18T13:51:40.602488Z"
    },
    "papermill": {
     "duration": 0.022539,
     "end_time": "2020-08-18T13:51:40.602631",
     "exception": false,
     "start_time": "2020-08-18T13:51:40.580092",
     "status": "completed"
    },
    "tags": []
   },
   "outputs": [],
   "source": [
    "#hide\n",
    "dft_cases = dft_cases.T\n",
    "dft_deaths = dft_deaths.T\n",
    "dt_today = dates[-1]\n",
    "dt_yday = dates[-2]"
   ]
  },
  {
   "cell_type": "code",
   "execution_count": 9,
   "metadata": {
    "execution": {
     "iopub.execute_input": "2020-08-18T13:51:40.638506Z",
     "iopub.status.busy": "2020-08-18T13:51:40.637959Z",
     "iopub.status.idle": "2020-08-18T13:51:40.640049Z",
     "shell.execute_reply": "2020-08-18T13:51:40.640460Z"
    },
    "papermill": {
     "duration": 0.023639,
     "end_time": "2020-08-18T13:51:40.640585",
     "exception": false,
     "start_time": "2020-08-18T13:51:40.616946",
     "status": "completed"
    },
    "tags": []
   },
   "outputs": [],
   "source": [
    "#hide\n",
    "dft_cases = dft_cases.reset_index()\n",
    "dft_deaths = dft_deaths.reset_index()\n",
    "dft_cases = dft_cases.rename(columns = {'index':'state'})\n",
    "dft_deaths = dft_deaths.rename(columns = {'index':'state'})"
   ]
  },
  {
   "cell_type": "code",
   "execution_count": 10,
   "metadata": {
    "execution": {
     "iopub.execute_input": "2020-08-18T13:51:40.676334Z",
     "iopub.status.busy": "2020-08-18T13:51:40.675761Z",
     "iopub.status.idle": "2020-08-18T13:51:40.681443Z",
     "shell.execute_reply": "2020-08-18T13:51:40.681999Z"
    },
    "papermill": {
     "duration": 0.027088,
     "end_time": "2020-08-18T13:51:40.682125",
     "exception": false,
     "start_time": "2020-08-18T13:51:40.655037",
     "status": "completed"
    },
    "tags": []
   },
   "outputs": [],
   "source": [
    "#hide\n",
    "dfc_cases = dft_cases.groupby('state')[dt_today].sum()\n",
    "dfc_deaths = dft_deaths.groupby('state')[dt_today].sum()\n",
    "dfp_cases = dft_cases.groupby('state')[dt_yday].sum()\n",
    "dfp_deaths = dft_deaths.groupby('state')[dt_yday].sum()"
   ]
  },
  {
   "cell_type": "code",
   "execution_count": 11,
   "metadata": {
    "execution": {
     "iopub.execute_input": "2020-08-18T13:51:40.716891Z",
     "iopub.status.busy": "2020-08-18T13:51:40.716418Z",
     "iopub.status.idle": "2020-08-18T13:51:40.730478Z",
     "shell.execute_reply": "2020-08-18T13:51:40.730944Z"
    },
    "papermill": {
     "duration": 0.034335,
     "end_time": "2020-08-18T13:51:40.731083",
     "exception": false,
     "start_time": "2020-08-18T13:51:40.696748",
     "status": "completed"
    },
    "tags": []
   },
   "outputs": [
    {
     "data": {
      "text/html": [
       "<div>\n",
       "<style scoped>\n",
       "    .dataframe tbody tr th:only-of-type {\n",
       "        vertical-align: middle;\n",
       "    }\n",
       "\n",
       "    .dataframe tbody tr th {\n",
       "        vertical-align: top;\n",
       "    }\n",
       "\n",
       "    .dataframe thead th {\n",
       "        text-align: right;\n",
       "    }\n",
       "</style>\n",
       "<table border=\"1\" class=\"dataframe\">\n",
       "  <thead>\n",
       "    <tr style=\"text-align: right;\">\n",
       "      <th></th>\n",
       "      <th>states</th>\n",
       "      <th>Cases</th>\n",
       "      <th>Deaths</th>\n",
       "      <th>PCases</th>\n",
       "      <th>PDeaths</th>\n",
       "    </tr>\n",
       "  </thead>\n",
       "  <tbody>\n",
       "    <tr>\n",
       "      <th>0</th>\n",
       "      <td>Maharashtra</td>\n",
       "      <td>604358</td>\n",
       "      <td>20265</td>\n",
       "      <td>604358</td>\n",
       "      <td>20265</td>\n",
       "    </tr>\n",
       "    <tr>\n",
       "      <th>1</th>\n",
       "      <td>Tamil Nadu</td>\n",
       "      <td>349654</td>\n",
       "      <td>6007</td>\n",
       "      <td>343945</td>\n",
       "      <td>5886</td>\n",
       "    </tr>\n",
       "    <tr>\n",
       "      <th>2</th>\n",
       "      <td>Andhra Pradesh</td>\n",
       "      <td>306261</td>\n",
       "      <td>2820</td>\n",
       "      <td>296609</td>\n",
       "      <td>2732</td>\n",
       "    </tr>\n",
       "    <tr>\n",
       "      <th>3</th>\n",
       "      <td>Karnataka</td>\n",
       "      <td>233283</td>\n",
       "      <td>4071</td>\n",
       "      <td>233283</td>\n",
       "      <td>4071</td>\n",
       "    </tr>\n",
       "    <tr>\n",
       "      <th>4</th>\n",
       "      <td>Uttar Pradesh</td>\n",
       "      <td>162434</td>\n",
       "      <td>2585</td>\n",
       "      <td>158216</td>\n",
       "      <td>2515</td>\n",
       "    </tr>\n",
       "  </tbody>\n",
       "</table>\n",
       "</div>"
      ],
      "text/plain": [
       "           states   Cases  Deaths  PCases  PDeaths\n",
       "0     Maharashtra  604358   20265  604358    20265\n",
       "1      Tamil Nadu  349654    6007  343945     5886\n",
       "2  Andhra Pradesh  306261    2820  296609     2732\n",
       "3       Karnataka  233283    4071  233283     4071\n",
       "4   Uttar Pradesh  162434    2585  158216     2515"
      ]
     },
     "execution_count": 11,
     "metadata": {},
     "output_type": "execute_result"
    }
   ],
   "source": [
    "#hide\n",
    "df_table = pd.DataFrame({'states': dfc_cases.index, 'Cases': dfc_cases.values, 'Deaths': dfc_deaths.values, 'PCases': dfp_cases.values, 'PDeaths': dfp_deaths.values}).set_index('states')\n",
    "df_table = df_table.sort_values(by = ['Cases','Deaths'], ascending = [False, False])\n",
    "df_table = df_table.reset_index()\n",
    "df_table.head()"
   ]
  },
  {
   "cell_type": "code",
   "execution_count": 12,
   "metadata": {
    "execution": {
     "iopub.execute_input": "2020-08-18T13:51:40.777260Z",
     "iopub.status.busy": "2020-08-18T13:51:40.776684Z",
     "iopub.status.idle": "2020-08-18T13:51:40.785335Z",
     "shell.execute_reply": "2020-08-18T13:51:40.784656Z"
    },
    "papermill": {
     "duration": 0.038721,
     "end_time": "2020-08-18T13:51:40.785473",
     "exception": false,
     "start_time": "2020-08-18T13:51:40.746752",
     "status": "completed"
    },
    "tags": []
   },
   "outputs": [],
   "source": [
    "#hide\n",
    "for c in 'Cases, Deaths'.split(', '):\n",
    "    df_table[f'{c} (+)'] = (df_table[c] - df_table[f'P{c}']).clip(0)\n",
    "df_table['Fatality Rate'] = (100* df_table['Deaths']/ df_table['Cases']).round(2)"
   ]
  },
  {
   "cell_type": "code",
   "execution_count": 13,
   "metadata": {
    "execution": {
     "iopub.execute_input": "2020-08-18T13:51:40.819125Z",
     "iopub.status.busy": "2020-08-18T13:51:40.818536Z",
     "iopub.status.idle": "2020-08-18T13:51:40.830224Z",
     "shell.execute_reply": "2020-08-18T13:51:40.829750Z"
    },
    "papermill": {
     "duration": 0.02964,
     "end_time": "2020-08-18T13:51:40.830336",
     "exception": false,
     "start_time": "2020-08-18T13:51:40.800696",
     "status": "completed"
    },
    "tags": []
   },
   "outputs": [
    {
     "data": {
      "text/html": [
       "<div>\n",
       "<style scoped>\n",
       "    .dataframe tbody tr th:only-of-type {\n",
       "        vertical-align: middle;\n",
       "    }\n",
       "\n",
       "    .dataframe tbody tr th {\n",
       "        vertical-align: top;\n",
       "    }\n",
       "\n",
       "    .dataframe thead th {\n",
       "        text-align: right;\n",
       "    }\n",
       "</style>\n",
       "<table border=\"1\" class=\"dataframe\">\n",
       "  <thead>\n",
       "    <tr style=\"text-align: right;\">\n",
       "      <th></th>\n",
       "      <th>states</th>\n",
       "      <th>Cases</th>\n",
       "      <th>Deaths</th>\n",
       "      <th>PCases</th>\n",
       "      <th>PDeaths</th>\n",
       "      <th>Cases (+)</th>\n",
       "      <th>Deaths (+)</th>\n",
       "      <th>Fatality Rate</th>\n",
       "    </tr>\n",
       "  </thead>\n",
       "  <tbody>\n",
       "    <tr>\n",
       "      <th>0</th>\n",
       "      <td>Maharashtra</td>\n",
       "      <td>604358</td>\n",
       "      <td>20265</td>\n",
       "      <td>604358</td>\n",
       "      <td>20265</td>\n",
       "      <td>0</td>\n",
       "      <td>0</td>\n",
       "      <td>3.35</td>\n",
       "    </tr>\n",
       "    <tr>\n",
       "      <th>1</th>\n",
       "      <td>Tamil Nadu</td>\n",
       "      <td>349654</td>\n",
       "      <td>6007</td>\n",
       "      <td>343945</td>\n",
       "      <td>5886</td>\n",
       "      <td>5709</td>\n",
       "      <td>121</td>\n",
       "      <td>1.72</td>\n",
       "    </tr>\n",
       "    <tr>\n",
       "      <th>2</th>\n",
       "      <td>Andhra Pradesh</td>\n",
       "      <td>306261</td>\n",
       "      <td>2820</td>\n",
       "      <td>296609</td>\n",
       "      <td>2732</td>\n",
       "      <td>9652</td>\n",
       "      <td>88</td>\n",
       "      <td>0.92</td>\n",
       "    </tr>\n",
       "    <tr>\n",
       "      <th>3</th>\n",
       "      <td>Karnataka</td>\n",
       "      <td>233283</td>\n",
       "      <td>4071</td>\n",
       "      <td>233283</td>\n",
       "      <td>4071</td>\n",
       "      <td>0</td>\n",
       "      <td>0</td>\n",
       "      <td>1.75</td>\n",
       "    </tr>\n",
       "    <tr>\n",
       "      <th>4</th>\n",
       "      <td>Uttar Pradesh</td>\n",
       "      <td>162434</td>\n",
       "      <td>2585</td>\n",
       "      <td>158216</td>\n",
       "      <td>2515</td>\n",
       "      <td>4218</td>\n",
       "      <td>70</td>\n",
       "      <td>1.59</td>\n",
       "    </tr>\n",
       "  </tbody>\n",
       "</table>\n",
       "</div>"
      ],
      "text/plain": [
       "           states   Cases  Deaths  PCases  PDeaths  Cases (+)  Deaths (+)  \\\n",
       "0     Maharashtra  604358   20265  604358    20265          0           0   \n",
       "1      Tamil Nadu  349654    6007  343945     5886       5709         121   \n",
       "2  Andhra Pradesh  306261    2820  296609     2732       9652          88   \n",
       "3       Karnataka  233283    4071  233283     4071          0           0   \n",
       "4   Uttar Pradesh  162434    2585  158216     2515       4218          70   \n",
       "\n",
       "   Fatality Rate  \n",
       "0           3.35  \n",
       "1           1.72  \n",
       "2           0.92  \n",
       "3           1.75  \n",
       "4           1.59  "
      ]
     },
     "execution_count": 13,
     "metadata": {},
     "output_type": "execute_result"
    }
   ],
   "source": [
    "#hide\n",
    "df_table.head()"
   ]
  },
  {
   "cell_type": "code",
   "execution_count": 14,
   "metadata": {
    "execution": {
     "iopub.execute_input": "2020-08-18T13:51:40.866150Z",
     "iopub.status.busy": "2020-08-18T13:51:40.865484Z",
     "iopub.status.idle": "2020-08-18T13:51:40.881023Z",
     "shell.execute_reply": "2020-08-18T13:51:40.880440Z"
    },
    "papermill": {
     "duration": 0.035972,
     "end_time": "2020-08-18T13:51:40.881153",
     "exception": false,
     "start_time": "2020-08-18T13:51:40.845181",
     "status": "completed"
    },
    "tags": []
   },
   "outputs": [
    {
     "data": {
      "text/plain": [
       "{'updated': '2020-08-18',\n",
       " 'since': '2020-08-17',\n",
       " 'Cases': 2732218,\n",
       " 'PCases': 2701602,\n",
       " 'Deaths': 52280,\n",
       " 'PDeaths': 51925,\n",
       " 'Cases (+)': 30616,\n",
       " 'Deaths (+)': 355}"
      ]
     },
     "execution_count": 14,
     "metadata": {},
     "output_type": "execute_result"
    }
   ],
   "source": [
    "#hide\n",
    "summary = {'updated':dates[-1], 'since':dates[-2]}\n",
    "list_names = ['Cases', 'PCases', 'Deaths', 'PDeaths', 'Cases (+)', 'Deaths (+)']\n",
    "for name in list_names:\n",
    "    summary[name] = df_table.sum()[name]\n",
    "summary"
   ]
  },
  {
   "cell_type": "code",
   "execution_count": 15,
   "metadata": {
    "execution": {
     "iopub.execute_input": "2020-08-18T13:51:40.916612Z",
     "iopub.status.busy": "2020-08-18T13:51:40.916010Z",
     "iopub.status.idle": "2020-08-18T13:51:40.919763Z",
     "shell.execute_reply": "2020-08-18T13:51:40.919222Z"
    },
    "papermill": {
     "duration": 0.023277,
     "end_time": "2020-08-18T13:51:40.919879",
     "exception": false,
     "start_time": "2020-08-18T13:51:40.896602",
     "status": "completed"
    },
    "tags": []
   },
   "outputs": [],
   "source": [
    "#hide\n",
    "overview = '''\n",
    "<!-- #######  HTML!! #########-->\n",
    "<h1 style=\"color: #5e9ca0; text-align: center;\">India</h1>\n",
    "<p style=\"text-align: center;\">Last update: <strong>{update}</strong></p>\n",
    "<p style=\"text-align: center;\">Confirmed cases:</p>\n",
    "<p style=\"text-align: center;font-size:24px;\">{cases} (<span style=\"color: #ff0000;\">+{new}</span>)</p>\n",
    "<p style=\"text-align: center;\">Confirmed deaths:</p>\n",
    "<p style=\"text-align: center;font-size:24px;\">{deaths} (<span style=\"color: #ff0000;\">+{dnew}</span>)</p>\n",
    "'''"
   ]
  },
  {
   "cell_type": "code",
   "execution_count": 16,
   "metadata": {
    "execution": {
     "iopub.execute_input": "2020-08-18T13:51:40.958696Z",
     "iopub.status.busy": "2020-08-18T13:51:40.958083Z",
     "iopub.status.idle": "2020-08-18T13:51:40.960851Z",
     "shell.execute_reply": "2020-08-18T13:51:40.961312Z"
    },
    "papermill": {
     "duration": 0.025371,
     "end_time": "2020-08-18T13:51:40.961586",
     "exception": false,
     "start_time": "2020-08-18T13:51:40.936215",
     "status": "completed"
    },
    "tags": []
   },
   "outputs": [
    {
     "data": {
      "text/html": [
       "\n",
       "<!-- #######  HTML!! #########-->\n",
       "<h1 style=\"color: #5e9ca0; text-align: center;\">India</h1>\n",
       "<p style=\"text-align: center;\">Last update: <strong>2020-08-18</strong></p>\n",
       "<p style=\"text-align: center;\">Confirmed cases:</p>\n",
       "<p style=\"text-align: center;font-size:24px;\">2732218 (<span style=\"color: #ff0000;\">+30616</span>)</p>\n",
       "<p style=\"text-align: center;\">Confirmed deaths:</p>\n",
       "<p style=\"text-align: center;font-size:24px;\">52280 (<span style=\"color: #ff0000;\">+355</span>)</p>\n"
      ],
      "text/plain": [
       "<IPython.core.display.HTML object>"
      ]
     },
     "metadata": {},
     "output_type": "display_data"
    }
   ],
   "source": [
    "#hide_input\n",
    "update = summary['updated']\n",
    "cases = summary['Cases']\n",
    "new = summary['Cases (+)']\n",
    "deaths = summary['Deaths']\n",
    "dnew = summary['Deaths (+)']\n",
    "\n",
    "html = HTML(overview.format(update=update, cases=cases,new=new,deaths=deaths,dnew=dnew))\n",
    "\n",
    "display(html)"
   ]
  },
  {
   "cell_type": "code",
   "execution_count": 17,
   "metadata": {
    "execution": {
     "iopub.execute_input": "2020-08-18T13:51:41.002622Z",
     "iopub.status.busy": "2020-08-18T13:51:41.002066Z",
     "iopub.status.idle": "2020-08-18T13:51:41.006673Z",
     "shell.execute_reply": "2020-08-18T13:51:41.006099Z"
    },
    "papermill": {
     "duration": 0.028,
     "end_time": "2020-08-18T13:51:41.006808",
     "exception": false,
     "start_time": "2020-08-18T13:51:40.978808",
     "status": "completed"
    },
    "tags": []
   },
   "outputs": [],
   "source": [
    "#hide\n",
    "dt_cols = list(dft_cases.columns[1:])\n",
    "dft_ct_new_cases = dft_cases.groupby('state')[dt_cols].sum().diff(axis=1).fillna(0).astype(int)\n",
    "dft_ct_new_cases.sort_values(by = dates[-1], ascending = False,inplace = True)"
   ]
  },
  {
   "cell_type": "code",
   "execution_count": 18,
   "metadata": {
    "execution": {
     "iopub.execute_input": "2020-08-18T13:51:41.053295Z",
     "iopub.status.busy": "2020-08-18T13:51:41.052781Z",
     "iopub.status.idle": "2020-08-18T13:51:41.057468Z",
     "shell.execute_reply": "2020-08-18T13:51:41.056937Z"
    },
    "papermill": {
     "duration": 0.034553,
     "end_time": "2020-08-18T13:51:41.057632",
     "exception": false,
     "start_time": "2020-08-18T13:51:41.023079",
     "status": "completed"
    },
    "tags": []
   },
   "outputs": [
    {
     "data": {
      "text/html": [
       "<div>\n",
       "<style scoped>\n",
       "    .dataframe tbody tr th:only-of-type {\n",
       "        vertical-align: middle;\n",
       "    }\n",
       "\n",
       "    .dataframe tbody tr th {\n",
       "        vertical-align: top;\n",
       "    }\n",
       "\n",
       "    .dataframe thead th {\n",
       "        text-align: right;\n",
       "    }\n",
       "</style>\n",
       "<table border=\"1\" class=\"dataframe\">\n",
       "  <thead>\n",
       "    <tr style=\"text-align: right;\">\n",
       "      <th>states</th>\n",
       "      <th>2020-07-01</th>\n",
       "      <th>2020-07-02</th>\n",
       "      <th>2020-07-03</th>\n",
       "      <th>2020-07-04</th>\n",
       "      <th>2020-07-05</th>\n",
       "      <th>2020-07-06</th>\n",
       "      <th>2020-07-07</th>\n",
       "      <th>2020-07-08</th>\n",
       "      <th>2020-07-09</th>\n",
       "      <th>2020-07-10</th>\n",
       "      <th>...</th>\n",
       "      <th>2020-08-09</th>\n",
       "      <th>2020-08-10</th>\n",
       "      <th>2020-08-11</th>\n",
       "      <th>2020-08-12</th>\n",
       "      <th>2020-08-13</th>\n",
       "      <th>2020-08-14</th>\n",
       "      <th>2020-08-15</th>\n",
       "      <th>2020-08-16</th>\n",
       "      <th>2020-08-17</th>\n",
       "      <th>2020-08-18</th>\n",
       "    </tr>\n",
       "    <tr>\n",
       "      <th>state</th>\n",
       "      <th></th>\n",
       "      <th></th>\n",
       "      <th></th>\n",
       "      <th></th>\n",
       "      <th></th>\n",
       "      <th></th>\n",
       "      <th></th>\n",
       "      <th></th>\n",
       "      <th></th>\n",
       "      <th></th>\n",
       "      <th></th>\n",
       "      <th></th>\n",
       "      <th></th>\n",
       "      <th></th>\n",
       "      <th></th>\n",
       "      <th></th>\n",
       "      <th></th>\n",
       "      <th></th>\n",
       "      <th></th>\n",
       "      <th></th>\n",
       "      <th></th>\n",
       "    </tr>\n",
       "  </thead>\n",
       "  <tbody>\n",
       "    <tr>\n",
       "      <th>Andhra Pradesh</th>\n",
       "      <td>0</td>\n",
       "      <td>845</td>\n",
       "      <td>837</td>\n",
       "      <td>765</td>\n",
       "      <td>998</td>\n",
       "      <td>1322</td>\n",
       "      <td>1178</td>\n",
       "      <td>1062</td>\n",
       "      <td>1555</td>\n",
       "      <td>1608</td>\n",
       "      <td>...</td>\n",
       "      <td>10820</td>\n",
       "      <td>7665</td>\n",
       "      <td>9024</td>\n",
       "      <td>9597</td>\n",
       "      <td>9996</td>\n",
       "      <td>8943</td>\n",
       "      <td>8732</td>\n",
       "      <td>8012</td>\n",
       "      <td>6780</td>\n",
       "      <td>9652</td>\n",
       "    </tr>\n",
       "    <tr>\n",
       "      <th>Tamil Nadu</th>\n",
       "      <td>0</td>\n",
       "      <td>4343</td>\n",
       "      <td>4329</td>\n",
       "      <td>4280</td>\n",
       "      <td>4150</td>\n",
       "      <td>3827</td>\n",
       "      <td>3616</td>\n",
       "      <td>3756</td>\n",
       "      <td>4231</td>\n",
       "      <td>3680</td>\n",
       "      <td>...</td>\n",
       "      <td>5994</td>\n",
       "      <td>5914</td>\n",
       "      <td>5834</td>\n",
       "      <td>5871</td>\n",
       "      <td>5835</td>\n",
       "      <td>5890</td>\n",
       "      <td>5860</td>\n",
       "      <td>5950</td>\n",
       "      <td>5890</td>\n",
       "      <td>5709</td>\n",
       "    </tr>\n",
       "    <tr>\n",
       "      <th>Uttar Pradesh</th>\n",
       "      <td>0</td>\n",
       "      <td>769</td>\n",
       "      <td>972</td>\n",
       "      <td>757</td>\n",
       "      <td>1153</td>\n",
       "      <td>929</td>\n",
       "      <td>1332</td>\n",
       "      <td>1188</td>\n",
       "      <td>1206</td>\n",
       "      <td>1338</td>\n",
       "      <td>...</td>\n",
       "      <td>4571</td>\n",
       "      <td>4113</td>\n",
       "      <td>5041</td>\n",
       "      <td>4475</td>\n",
       "      <td>4537</td>\n",
       "      <td>4512</td>\n",
       "      <td>4774</td>\n",
       "      <td>4357</td>\n",
       "      <td>3798</td>\n",
       "      <td>4218</td>\n",
       "    </tr>\n",
       "    <tr>\n",
       "      <th>Bihar</th>\n",
       "      <td>0</td>\n",
       "      <td>478</td>\n",
       "      <td>426</td>\n",
       "      <td>349</td>\n",
       "      <td>403</td>\n",
       "      <td>280</td>\n",
       "      <td>385</td>\n",
       "      <td>749</td>\n",
       "      <td>704</td>\n",
       "      <td>352</td>\n",
       "      <td>...</td>\n",
       "      <td>3934</td>\n",
       "      <td>3021</td>\n",
       "      <td>4071</td>\n",
       "      <td>3741</td>\n",
       "      <td>3906</td>\n",
       "      <td>3911</td>\n",
       "      <td>3536</td>\n",
       "      <td>2187</td>\n",
       "      <td>2525</td>\n",
       "      <td>3257</td>\n",
       "    </tr>\n",
       "    <tr>\n",
       "      <th>Odisha</th>\n",
       "      <td>0</td>\n",
       "      <td>229</td>\n",
       "      <td>561</td>\n",
       "      <td>495</td>\n",
       "      <td>469</td>\n",
       "      <td>456</td>\n",
       "      <td>571</td>\n",
       "      <td>527</td>\n",
       "      <td>577</td>\n",
       "      <td>755</td>\n",
       "      <td>...</td>\n",
       "      <td>1734</td>\n",
       "      <td>1528</td>\n",
       "      <td>1341</td>\n",
       "      <td>1876</td>\n",
       "      <td>1981</td>\n",
       "      <td>1977</td>\n",
       "      <td>2496</td>\n",
       "      <td>2924</td>\n",
       "      <td>2244</td>\n",
       "      <td>2239</td>\n",
       "    </tr>\n",
       "  </tbody>\n",
       "</table>\n",
       "<p>5 rows × 49 columns</p>\n",
       "</div>"
      ],
      "text/plain": [
       "states          2020-07-01  2020-07-02  2020-07-03  2020-07-04  2020-07-05  \\\n",
       "state                                                                        \n",
       "Andhra Pradesh           0         845         837         765         998   \n",
       "Tamil Nadu               0        4343        4329        4280        4150   \n",
       "Uttar Pradesh            0         769         972         757        1153   \n",
       "Bihar                    0         478         426         349         403   \n",
       "Odisha                   0         229         561         495         469   \n",
       "\n",
       "states          2020-07-06  2020-07-07  2020-07-08  2020-07-09  2020-07-10  \\\n",
       "state                                                                        \n",
       "Andhra Pradesh        1322        1178        1062        1555        1608   \n",
       "Tamil Nadu            3827        3616        3756        4231        3680   \n",
       "Uttar Pradesh          929        1332        1188        1206        1338   \n",
       "Bihar                  280         385         749         704         352   \n",
       "Odisha                 456         571         527         577         755   \n",
       "\n",
       "states          ...  2020-08-09  2020-08-10  2020-08-11  2020-08-12  \\\n",
       "state           ...                                                   \n",
       "Andhra Pradesh  ...       10820        7665        9024        9597   \n",
       "Tamil Nadu      ...        5994        5914        5834        5871   \n",
       "Uttar Pradesh   ...        4571        4113        5041        4475   \n",
       "Bihar           ...        3934        3021        4071        3741   \n",
       "Odisha          ...        1734        1528        1341        1876   \n",
       "\n",
       "states          2020-08-13  2020-08-14  2020-08-15  2020-08-16  2020-08-17  \\\n",
       "state                                                                        \n",
       "Andhra Pradesh        9996        8943        8732        8012        6780   \n",
       "Tamil Nadu            5835        5890        5860        5950        5890   \n",
       "Uttar Pradesh         4537        4512        4774        4357        3798   \n",
       "Bihar                 3906        3911        3536        2187        2525   \n",
       "Odisha                1981        1977        2496        2924        2244   \n",
       "\n",
       "states          2020-08-18  \n",
       "state                       \n",
       "Andhra Pradesh        9652  \n",
       "Tamil Nadu            5709  \n",
       "Uttar Pradesh         4218  \n",
       "Bihar                 3257  \n",
       "Odisha                2239  \n",
       "\n",
       "[5 rows x 49 columns]"
      ]
     },
     "execution_count": 18,
     "metadata": {},
     "output_type": "execute_result"
    }
   ],
   "source": [
    "#hide\n",
    "dft_ct_new_cases.head()"
   ]
  },
  {
   "cell_type": "code",
   "execution_count": 19,
   "metadata": {
    "execution": {
     "iopub.execute_input": "2020-08-18T13:51:41.109376Z",
     "iopub.status.busy": "2020-08-18T13:51:41.103686Z",
     "iopub.status.idle": "2020-08-18T13:51:43.554352Z",
     "shell.execute_reply": "2020-08-18T13:51:43.553864Z"
    },
    "papermill": {
     "duration": 2.479652,
     "end_time": "2020-08-18T13:51:43.554477",
     "exception": false,
     "start_time": "2020-08-18T13:51:41.074825",
     "status": "completed"
    },
    "tags": []
   },
   "outputs": [
    {
     "data": {
      "image/png": "[encoded data removed]",
      "text/plain": [
       "<Figure size 1296x2016 with 11 Axes>"
      ]
     },
     "metadata": {
      "needs_background": "light"
     },
     "output_type": "display_data"
    }
   ],
   "source": [
    "#hide_input\n",
    "df = dft_ct_new_cases.copy()\n",
    "df.loc['Total'] = df.sum()\n",
    "n = 5\n",
    "ax = []\n",
    "fig = plt.figure(figsize = (18,28))\n",
    "gs = fig.add_gridspec(n+2, 5)\n",
    "# gs = fig.add_gridspec(2, 3)\n",
    "ax1 = fig.add_subplot(gs[0, :])\n",
    "ef = df.loc['Total'].rename_axis('date').reset_index()\n",
    "ef['date'] = ef['date'].astype('datetime64[ns]')\n",
    "ax1.bar(ef.date,ef.Total,alpha=0.3,color='#007acc')\n",
    "ax1.plot(ef.date,ef.Total , marker=\"o\", color='#007acc')\n",
    "ax1.xaxis.set_major_locator(mdates.WeekdayLocator())\n",
    "ax1.xaxis.set_major_formatter(mdates.DateFormatter('%b %d'))\n",
    "ax1.text(0.02, 0.5,'India daily case count', transform = ax1.transAxes, fontsize=25);\n",
    "ax1.spines['right'].set_visible(False)\n",
    "ax1.spines['top'].set_visible(False)\n",
    "\n",
    "ax2 = fig.add_subplot(gs[1,0])\n",
    "ef = df.loc['Maharashtra'].rename_axis('date').reset_index()\n",
    "ef['date'] = ef['date'].astype('datetime64[ns]')\n",
    "\n",
    "ax2.bar(ef.date, ef.Maharashtra,color = '#007acc',alpha=0.5)\n",
    "ax2.xaxis.set_major_locator(mdates.WeekdayLocator())\n",
    "ax2.xaxis.set_major_formatter(mdates.DateFormatter('%b %d'))\n",
    "ax2.set_xticks(ax2.get_xticks()[::3])\n",
    "maxyval = ef.Maharashtra.max()\n",
    "ax2.set_ylim([0,maxyval])\n",
    "ax2.text(0.05, 0.9,'Maharashtra', transform = ax2.transAxes, fontsize=20);\n",
    "ax2.spines['right'].set_visible(False)\n",
    "ax2.spines['top'].set_visible(False)\n",
    "\n",
    "\n",
    "ax3 = fig.add_subplot(gs[1,1])\n",
    "ef = df.loc['Tamil Nadu'].rename_axis('date').reset_index()\n",
    "ef['date'] = ef['date'].astype('datetime64[ns]')\n",
    "ax3.bar(ef.date, ef['Tamil Nadu'],color = '#007acc',alpha=0.5,)\n",
    "ax3.xaxis.set_major_locator(mdates.WeekdayLocator())\n",
    "ax3.xaxis.set_major_formatter(mdates.DateFormatter('%b %d'))\n",
    "ax3.set_xticks(ax3.get_xticks()[::3])\n",
    "ax3.text(0.05, 0.9,'Tamil Nadu', transform = ax3.transAxes, fontsize=20);\n",
    "ax3.spines['right'].set_visible(False)\n",
    "ax3.spines['top'].set_visible(False)\n",
    "\n",
    "ax5 = fig.add_subplot(gs[1,3])\n",
    "ef = df.loc['Telangana'].rename_axis('date').reset_index()\n",
    "ef['date'] = ef['date'].astype('datetime64[ns]')\n",
    "ax5.bar(ef.date, ef['Telangana'],color = '#007acc',alpha=0.5,)\n",
    "ax5.xaxis.set_major_locator(mdates.WeekdayLocator())\n",
    "ax5.xaxis.set_major_formatter(mdates.DateFormatter('%b %d'))\n",
    "ax5.set_xticks(ax5.get_xticks()[::3])\n",
    "ax5.text(0.05, 0.9,'Telangana', transform = ax5.transAxes, fontsize=20);\n",
    "ax5.spines['right'].set_visible(False)\n",
    "ax5.spines['top'].set_visible(False)\n",
    "\n",
    "ax6 = fig.add_subplot(gs[1,4])\n",
    "ef = df.loc['Andhra Pradesh'].rename_axis('date').reset_index()\n",
    "ef['date'] = ef['date'].astype('datetime64[ns]')\n",
    "ax6.bar(ef.date, ef['Andhra Pradesh'],color = '#007acc',alpha=0.5,)\n",
    "ax6.xaxis.set_major_locator(mdates.WeekdayLocator())\n",
    "ax6.xaxis.set_major_formatter(mdates.DateFormatter('%b %d'))\n",
    "ax6.set_xticks(ax6.get_xticks()[::3])\n",
    "ax6.text(0.05, 1,'Andhra Pradesh', transform = ax6.transAxes, fontsize=20);\n",
    "ax6.spines['right'].set_visible(False)\n",
    "ax6.spines['top'].set_visible(False)\n",
    "\n",
    "ax4 = fig.add_subplot(gs[1,2])\n",
    "ef = df.loc['Delhi'].rename_axis('date').reset_index()\n",
    "ef['date'] = ef['date'].astype('datetime64[ns]')\n",
    "ax4.bar(ef.date, ef.Delhi,color = '#007acc',alpha=0.5)\n",
    "ax4.set_xticks([])\n",
    "ax4.xaxis.set_major_locator(mdates.WeekdayLocator())\n",
    "ax4.xaxis.set_major_formatter(mdates.DateFormatter('%b %d'))\n",
    "ax4.set_xticks(ax4.get_xticks()[::3])\n",
    "ax4.spines['right'].set_visible(False)\n",
    "ax4.spines['top'].set_visible(False)\n",
    "\n",
    "ax4.text(0.05, 1,'Delhi', transform = ax4.transAxes, fontsize=20)\n",
    "\n",
    "for i in range(n):\n",
    "    \n",
    "    ax.append(fig.add_subplot(gs[i+2,:]))\n",
    "    ef = df.iloc[i+3].rename_axis('date').reset_index()\n",
    "    ef['date'] = ef['date'].astype('datetime64[ns]')\n",
    "    ax[i].bar(ef.date,ef.iloc[:,-1],color = '#007acc',alpha=0.3)\n",
    "    ax[i].plot(ef.date,ef.iloc[:,-1],marker='o',color='#007acc')\n",
    "    ax[i].text(0.02,0.5,f'{ef.columns.values[-1]}',transform = ax[i].transAxes, fontsize = 20);\n",
    "    ax[i].xaxis.set_major_locator(mdates.WeekdayLocator())\n",
    "    ax[i].xaxis.set_major_formatter(mdates.DateFormatter('%b %d'))\n",
    "    ax[i].set_ylim([0,7000])\n",
    "    ax[i].spines['right'].set_visible(False)\n",
    "    ax[i].spines['top'].set_visible(False)\n",
    "plt.tight_layout()\n"
   ]
  },
  {
   "cell_type": "code",
   "execution_count": 20,
   "metadata": {
    "execution": {
     "iopub.execute_input": "2020-08-18T13:51:43.608915Z",
     "iopub.status.busy": "2020-08-18T13:51:43.608265Z",
     "iopub.status.idle": "2020-08-18T13:51:43.611821Z",
     "shell.execute_reply": "2020-08-18T13:51:43.612231Z"
    },
    "papermill": {
     "duration": 0.036031,
     "end_time": "2020-08-18T13:51:43.612362",
     "exception": false,
     "start_time": "2020-08-18T13:51:43.576331",
     "status": "completed"
    },
    "tags": []
   },
   "outputs": [
    {
     "name": "stdout",
     "output_type": "stream",
     "text": [
      "                                   states   Cases  Deaths  PCases  PDeaths  Cases (+)  Deaths (+)  Fatality Rate\n",
      "                              Maharashtra  604358   20265  604358    20265          0           0           3.35\n",
      "                               Tamil Nadu  349654    6007  343945     5886       5709         121           1.72\n",
      "                           Andhra Pradesh  306261    2820  296609     2732       9652          88           0.92\n",
      "                                Karnataka  233283    4071  233283     4071          0           0           1.75\n",
      "                            Uttar Pradesh  162434    2585  158216     2515       4218          70           1.59\n",
      "                                    Delhi  153367    4214  153367     4214          0           0           2.75\n",
      "                              West Bengal  119578    2473  119578     2473          0           0           2.07\n",
      "                                    Bihar  109875     558  106618      542       3257          16           0.51\n",
      "                                Telangana   93937     711   92255      703       1682           8           0.76\n",
      "                                  Gujarat   79816    2800   79816     2800          0           0           3.51\n",
      "                                    Assam   79668     197   79668      197          0           0           0.25\n",
      "                                   Odisha   64533     415   62294      406       2239           9           0.64\n",
      "                                Rajasthan   63324     897   62630      887        694          10           1.42\n",
      "                                  Haryana   48040     550   48040      550          0           0           1.14\n",
      "                                   Kerala   47898     176   46140      170       1758           6           0.37\n",
      "                           Madhya Pradesh   46385    1128   46385     1128          0           0           2.43\n",
      "                                   Punjab   32695     862   32695      862          0           0           2.64\n",
      "                        Jammu and Kashmir   29326     561   28892      548        434          13           1.91\n",
      "                                Jharkhand   24067     256   24067      255          0           1           1.06\n",
      "                             Chhattisgarh   16025     150   16025      150          0           0           0.94\n",
      "                              Uttarakhand   12493     158   12493      158          0           0           1.26\n",
      "                                      Goa   11994     111   11994      111          0           0           0.93\n",
      "                               Puducherry    8396     123    8029      114        367           9           1.46\n",
      "                                  Tripura    7424      62    7219       59        205           3           0.84\n",
      "                                  Manipur    4765      18    4687       17         78           1           0.38\n",
      "                         Himachal Pradesh    4230      18    4174       18         56           0           0.43\n",
      "                                 Nagaland    3520       7    3455        7         65           0           0.20\n",
      "                        Arunachal Pradesh    2741       5    2741        5          0           0           0.18\n",
      "              Andaman and Nicobar Islands    2445      29    2445       29          0           0           1.19\n",
      "                               Chandigarh    2305      30    2216       30         89           0           1.30\n",
      "                                   Ladakh    1966      14    1966       14          0           0           0.71\n",
      " Dadra and Nagar Haveli and Daman and Diu    1959       2    1908        2         51           0           0.10\n",
      "                                Meghalaya    1454       6    1418        6         36           0           0.41\n",
      "                                   Sikkim    1187       1    1187        1          0           0           0.08\n",
      "                                  Mizoram     815       0     789        0         26           0           0.00\n",
      "                              Lakshadweep       0       0       0        0          0           0            NaN\n"
     ]
    }
   ],
   "source": [
    "#hide_input\n",
    "print(df_table.to_string(index=False))"
   ]
  },
  {
   "cell_type": "code",
   "execution_count": null,
   "metadata": {
    "papermill": {
     "duration": 0.021724,
     "end_time": "2020-08-18T13:51:43.655602",
     "exception": false,
     "start_time": "2020-08-18T13:51:43.633878",
     "status": "completed"
    },
    "tags": []
   },
   "outputs": [],
   "source": []
  },
  {
   "cell_type": "code",
   "execution_count": null,
   "metadata": {
    "papermill": {
     "duration": 0.021756,
     "end_time": "2020-08-18T13:51:43.699585",
     "exception": false,
     "start_time": "2020-08-18T13:51:43.677829",
     "status": "completed"
    },
    "tags": []
   },
   "outputs": [],
   "source": []
  }
 ],
 "metadata": {
  "kernelspec": {
   "display_name": "Python 3",
   "language": "python",
   "name": "python3"
  },
  "language_info": {
   "codemirror_mode": {
    "name": "ipython",
    "version": 3
   },
   "file_extension": ".py",
   "mimetype": "text/x-python",
   "name": "python",
   "nbconvert_exporter": "python",
   "pygments_lexer": "ipython3",
   "version": "3.6.11"
  },
  "papermill": {
   "duration": 7.855185,
   "end_time": "2020-08-18T13:51:44.129377",
   "environment_variables": {},
   "exception": null,
   "input_path": "latest.ipynb",
   "output_path": "latest.ipynb",
   "parameters": {},
   "start_time": "2020-08-18T13:51:36.274192",
   "version": "2.1.2"
  }
 },
 "nbformat": 4,
 "nbformat_minor": 4
}