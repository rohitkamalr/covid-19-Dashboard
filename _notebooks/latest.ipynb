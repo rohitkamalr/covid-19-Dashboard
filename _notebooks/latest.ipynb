{
 "cells": [
  {
   "cell_type": "markdown",
   "id": "colored-stack",
   "metadata": {
    "papermill": {
     "duration": 0.022118,
     "end_time": "2021-02-07T09:24:35.623899",
     "exception": false,
     "start_time": "2021-02-07T09:24:35.601781",
     "status": "completed"
    },
    "tags": []
   },
   "source": [
    "# Latest COVID-19 India Matplotlib Overview"
   ]
  },
  {
   "cell_type": "code",
   "execution_count": 1,
   "id": "light-proportion",
   "metadata": {
    "execution": {
     "iopub.execute_input": "2021-02-07T09:24:35.672328Z",
     "iopub.status.busy": "2021-02-07T09:24:35.668594Z",
     "iopub.status.idle": "2021-02-07T09:24:36.186067Z",
     "shell.execute_reply": "2021-02-07T09:24:36.185446Z"
    },
    "papermill": {
     "duration": 0.54617,
     "end_time": "2021-02-07T09:24:36.186238",
     "exception": false,
     "start_time": "2021-02-07T09:24:35.640068",
     "status": "completed"
    },
    "tags": []
   },
   "outputs": [],
   "source": [
    "#hide\n",
    "import pandas as pd\n",
    "import numpy as np\n",
    "import requests\n",
    "import json\n",
    "import matplotlib.pyplot as plt\n",
    "import matplotlib.dates as mdates\n",
    "import matplotlib as mpl\n",
    "from IPython.core.display import display,HTML\n",
    "%matplotlib inline\n",
    "from datetime import date"
   ]
  },
  {
   "cell_type": "code",
   "execution_count": 2,
   "id": "greenhouse-shooting",
   "metadata": {
    "execution": {
     "iopub.execute_input": "2021-02-07T09:24:36.230244Z",
     "iopub.status.busy": "2021-02-07T09:24:36.229674Z",
     "iopub.status.idle": "2021-02-07T09:24:36.417825Z",
     "shell.execute_reply": "2021-02-07T09:24:36.416916Z"
    },
    "papermill": {
     "duration": 0.213239,
     "end_time": "2021-02-07T09:24:36.418036",
     "exception": false,
     "start_time": "2021-02-07T09:24:36.204797",
     "status": "completed"
    },
    "tags": []
   },
   "outputs": [],
   "source": [
    "#hide\n",
    "df  = pd.read_csv('https://api.covid19india.org/csv/latest/states.csv')\n",
    "df = df[['Date','State','Confirmed','Deceased']]\n",
    "df = df.rename(columns={'Confirmed':'Cases', \"Deceased\":'Deaths'})\n",
    "df_cases = df[[\"Date\",'State','Cases']]\n",
    "df_deaths = df[['Date','State','Deaths']]\n",
    "df_cases1 = df_cases.groupby('Date')\n",
    "df_deaths1= df_deaths.groupby('Date')"
   ]
  },
  {
   "cell_type": "code",
   "execution_count": 3,
   "id": "hybrid-cathedral",
   "metadata": {
    "execution": {
     "iopub.execute_input": "2021-02-07T09:24:36.455101Z",
     "iopub.status.busy": "2021-02-07T09:24:36.454524Z",
     "iopub.status.idle": "2021-02-07T09:24:36.471181Z",
     "shell.execute_reply": "2021-02-07T09:24:36.470654Z"
    },
    "papermill": {
     "duration": 0.035372,
     "end_time": "2021-02-07T09:24:36.471314",
     "exception": false,
     "start_time": "2021-02-07T09:24:36.435942",
     "status": "completed"
    },
    "tags": []
   },
   "outputs": [],
   "source": [
    "#hide\n",
    "df_snap = pd.read_csv('data/SnapshotCases-28-July.csv')\n",
    "arr_states = df_snap['states'].unique()\n",
    "arr_dates = df['Date'].unique()\n",
    "df_snap = df_snap.set_index('states')"
   ]
  },
  {
   "cell_type": "code",
   "execution_count": 4,
   "id": "interior-belfast",
   "metadata": {
    "execution": {
     "iopub.execute_input": "2021-02-07T09:24:36.515049Z",
     "iopub.status.busy": "2021-02-07T09:24:36.513561Z",
     "iopub.status.idle": "2021-02-07T09:24:36.517344Z",
     "shell.execute_reply": "2021-02-07T09:24:36.516987Z"
    },
    "papermill": {
     "duration": 0.028768,
     "end_time": "2021-02-07T09:24:36.517450",
     "exception": false,
     "start_time": "2021-02-07T09:24:36.488682",
     "status": "completed"
    },
    "tags": []
   },
   "outputs": [
    {
     "data": {
      "text/plain": [
       "array(['Andaman and Nicobar Islands', 'Andhra Pradesh',\n",
       "       'Arunachal Pradesh', 'Assam', 'Bihar', 'Chandigarh',\n",
       "       'Dadra and Nagar Haveli and Daman and Diu', 'Delhi', 'Goa',\n",
       "       'Gujarat', 'Haryana', 'Himachal Pradesh', 'Jammu and Kashmir',\n",
       "       'Jharkhand', 'Karnataka', 'Kerala', 'Lakshadweep',\n",
       "       'Madhya Pradesh', 'Maharashtra', 'Manipur', 'Meghalaya', 'Mizoram',\n",
       "       'Nagaland', 'Odisha', 'Puducherry', 'Punjab', 'Rajasthan',\n",
       "       'Sikkim', 'Tamil Nadu', 'Telangana', 'Tripura', 'Uttar Pradesh',\n",
       "       'West Bengal', 'Chhattisgarh', 'Ladakh', 'Uttarakhand'],\n",
       "      dtype=object)"
      ]
     },
     "execution_count": 4,
     "metadata": {},
     "output_type": "execute_result"
    }
   ],
   "source": [
    "#hide\n",
    "arr_states[-9] = 'Puducherry'\n",
    "arr_states[-10] = 'Odisha'\n",
    "arr_states[6] = 'Dadra and Nagar Haveli and Daman and Diu'\n",
    "arr_states = np.append(arr_states,np.array(['Chhattisgarh','Ladakh','Uttarakhand']))\n",
    "arr_states"
   ]
  },
  {
   "cell_type": "code",
   "execution_count": 5,
   "id": "behind-manner",
   "metadata": {
    "execution": {
     "iopub.execute_input": "2021-02-07T09:24:36.555298Z",
     "iopub.status.busy": "2021-02-07T09:24:36.554873Z",
     "iopub.status.idle": "2021-02-07T09:24:36.565661Z",
     "shell.execute_reply": "2021-02-07T09:24:36.565005Z"
    },
    "papermill": {
     "duration": 0.033658,
     "end_time": "2021-02-07T09:24:36.565783",
     "exception": false,
     "start_time": "2021-02-07T09:24:36.532125",
     "status": "completed"
    },
    "tags": []
   },
   "outputs": [],
   "source": [
    "#hide\n",
    "dates = []\n",
    "for i in arr_dates:\n",
    "    if i>='2020-07-01':\n",
    "        dates.append(i)\n",
    "dict = {'states':dates}\n",
    "for i in arr_states:\n",
    "    dict[i] = [0]*len(dates)\n",
    "dft_cases = pd.DataFrame(dict)\n",
    "dft_deaths = pd.DataFrame(dict)\n"
   ]
  },
  {
   "cell_type": "code",
   "execution_count": 6,
   "id": "simplified-peter",
   "metadata": {
    "execution": {
     "iopub.execute_input": "2021-02-07T09:24:36.602880Z",
     "iopub.status.busy": "2021-02-07T09:24:36.602331Z",
     "iopub.status.idle": "2021-02-07T09:24:39.350161Z",
     "shell.execute_reply": "2021-02-07T09:24:39.349276Z"
    },
    "papermill": {
     "duration": 2.770274,
     "end_time": "2021-02-07T09:24:39.350368",
     "exception": false,
     "start_time": "2021-02-07T09:24:36.580094",
     "status": "completed"
    },
    "tags": []
   },
   "outputs": [],
   "source": [
    "#hide\n",
    "for i in range(len(dates)):\n",
    "    df1_deaths = df_deaths1.get_group(dates[i])\n",
    "    for j in range(len(df1_deaths.index)):\n",
    "        if df1_deaths.iloc[j,1] in arr_states:\n",
    "            dft_deaths.loc[i,df1_deaths.iloc[j,1]] = df1_deaths.iloc[j,2]\n",
    "dft_deaths = dft_deaths.set_index('states')"
   ]
  },
  {
   "cell_type": "code",
   "execution_count": 7,
   "id": "geological-welding",
   "metadata": {
    "execution": {
     "iopub.execute_input": "2021-02-07T09:24:39.387428Z",
     "iopub.status.busy": "2021-02-07T09:24:39.386844Z",
     "iopub.status.idle": "2021-02-07T09:24:42.098761Z",
     "shell.execute_reply": "2021-02-07T09:24:42.097812Z"
    },
    "papermill": {
     "duration": 2.734602,
     "end_time": "2021-02-07T09:24:42.098894",
     "exception": false,
     "start_time": "2021-02-07T09:24:39.364292",
     "status": "completed"
    },
    "tags": []
   },
   "outputs": [],
   "source": [
    "#hide\n",
    "for i in range(len(dates)):\n",
    "    df1_cases = df_cases1.get_group(dates[i])\n",
    "    for j in range(len(df1_cases.index)):\n",
    "        if df1_cases.iloc[j,1] in arr_states:\n",
    "            dft_cases.loc[i,df1_cases.iloc[j,1]] = df1_cases.iloc[j,2]\n",
    "dft_cases = dft_cases.set_index('states')"
   ]
  },
  {
   "cell_type": "code",
   "execution_count": 8,
   "id": "binary-ratio",
   "metadata": {
    "execution": {
     "iopub.execute_input": "2021-02-07T09:24:42.130659Z",
     "iopub.status.busy": "2021-02-07T09:24:42.130141Z",
     "iopub.status.idle": "2021-02-07T09:24:42.132468Z",
     "shell.execute_reply": "2021-02-07T09:24:42.132834Z"
    },
    "papermill": {
     "duration": 0.020555,
     "end_time": "2021-02-07T09:24:42.132953",
     "exception": false,
     "start_time": "2021-02-07T09:24:42.112398",
     "status": "completed"
    },
    "tags": []
   },
   "outputs": [],
   "source": [
    "#hide\n",
    "dft_cases = dft_cases.T\n",
    "dft_deaths = dft_deaths.T\n",
    "dt_today = dates[-1]\n",
    "dt_yday = dates[-2]"
   ]
  },
  {
   "cell_type": "code",
   "execution_count": 9,
   "id": "boolean-calculator",
   "metadata": {
    "execution": {
     "iopub.execute_input": "2021-02-07T09:24:42.168512Z",
     "iopub.status.busy": "2021-02-07T09:24:42.166781Z",
     "iopub.status.idle": "2021-02-07T09:24:42.172129Z",
     "shell.execute_reply": "2021-02-07T09:24:42.172464Z"
    },
    "papermill": {
     "duration": 0.024798,
     "end_time": "2021-02-07T09:24:42.172568",
     "exception": false,
     "start_time": "2021-02-07T09:24:42.147770",
     "status": "completed"
    },
    "tags": []
   },
   "outputs": [],
   "source": [
    "#hide\n",
    "dft_cases = dft_cases.reset_index()\n",
    "dft_deaths = dft_deaths.reset_index()\n",
    "dft_cases = dft_cases.rename(columns = {'index':'state'})\n",
    "dft_deaths = dft_deaths.rename(columns = {'index':'state'})"
   ]
  },
  {
   "cell_type": "code",
   "execution_count": 10,
   "id": "invisible-johnston",
   "metadata": {
    "execution": {
     "iopub.execute_input": "2021-02-07T09:24:42.211209Z",
     "iopub.status.busy": "2021-02-07T09:24:42.210792Z",
     "iopub.status.idle": "2021-02-07T09:24:42.213022Z",
     "shell.execute_reply": "2021-02-07T09:24:42.212688Z"
    },
    "papermill": {
     "duration": 0.025591,
     "end_time": "2021-02-07T09:24:42.213111",
     "exception": false,
     "start_time": "2021-02-07T09:24:42.187520",
     "status": "completed"
    },
    "tags": []
   },
   "outputs": [],
   "source": [
    "#hide\n",
    "dfc_cases = dft_cases.groupby('state')[dt_today].sum()\n",
    "dfc_deaths = dft_deaths.groupby('state')[dt_today].sum()\n",
    "dfp_cases = dft_cases.groupby('state')[dt_yday].sum()\n",
    "dfp_deaths = dft_deaths.groupby('state')[dt_yday].sum()"
   ]
  },
  {
   "cell_type": "code",
   "execution_count": 11,
   "id": "measured-great",
   "metadata": {
    "execution": {
     "iopub.execute_input": "2021-02-07T09:24:42.255037Z",
     "iopub.status.busy": "2021-02-07T09:24:42.254435Z",
     "iopub.status.idle": "2021-02-07T09:24:42.260197Z",
     "shell.execute_reply": "2021-02-07T09:24:42.260610Z"
    },
    "papermill": {
     "duration": 0.034566,
     "end_time": "2021-02-07T09:24:42.260738",
     "exception": false,
     "start_time": "2021-02-07T09:24:42.226172",
     "status": "completed"
    },
    "tags": []
   },
   "outputs": [
    {
     "data": {
      "text/html": [
       "<div>\n",
       "<style scoped>\n",
       "    .dataframe tbody tr th:only-of-type {\n",
       "        vertical-align: middle;\n",
       "    }\n",
       "\n",
       "    .dataframe tbody tr th {\n",
       "        vertical-align: top;\n",
       "    }\n",
       "\n",
       "    .dataframe thead th {\n",
       "        text-align: right;\n",
       "    }\n",
       "</style>\n",
       "<table border=\"1\" class=\"dataframe\">\n",
       "  <thead>\n",
       "    <tr style=\"text-align: right;\">\n",
       "      <th></th>\n",
       "      <th>states</th>\n",
       "      <th>Cases</th>\n",
       "      <th>Deaths</th>\n",
       "      <th>PCases</th>\n",
       "      <th>PDeaths</th>\n",
       "    </tr>\n",
       "  </thead>\n",
       "  <tbody>\n",
       "    <tr>\n",
       "      <th>0</th>\n",
       "      <td>Maharashtra</td>\n",
       "      <td>2041398</td>\n",
       "      <td>51280</td>\n",
       "      <td>2041398</td>\n",
       "      <td>51280</td>\n",
       "    </tr>\n",
       "    <tr>\n",
       "      <th>1</th>\n",
       "      <td>Kerala</td>\n",
       "      <td>962364</td>\n",
       "      <td>3849</td>\n",
       "      <td>962364</td>\n",
       "      <td>3849</td>\n",
       "    </tr>\n",
       "    <tr>\n",
       "      <th>2</th>\n",
       "      <td>Karnataka</td>\n",
       "      <td>942031</td>\n",
       "      <td>12233</td>\n",
       "      <td>942031</td>\n",
       "      <td>12233</td>\n",
       "    </tr>\n",
       "    <tr>\n",
       "      <th>3</th>\n",
       "      <td>Andhra Pradesh</td>\n",
       "      <td>888350</td>\n",
       "      <td>7159</td>\n",
       "      <td>888350</td>\n",
       "      <td>7159</td>\n",
       "    </tr>\n",
       "    <tr>\n",
       "      <th>4</th>\n",
       "      <td>Tamil Nadu</td>\n",
       "      <td>841326</td>\n",
       "      <td>12382</td>\n",
       "      <td>841326</td>\n",
       "      <td>12382</td>\n",
       "    </tr>\n",
       "  </tbody>\n",
       "</table>\n",
       "</div>"
      ],
      "text/plain": [
       "           states    Cases  Deaths   PCases  PDeaths\n",
       "0     Maharashtra  2041398   51280  2041398    51280\n",
       "1          Kerala   962364    3849   962364     3849\n",
       "2       Karnataka   942031   12233   942031    12233\n",
       "3  Andhra Pradesh   888350    7159   888350     7159\n",
       "4      Tamil Nadu   841326   12382   841326    12382"
      ]
     },
     "execution_count": 11,
     "metadata": {},
     "output_type": "execute_result"
    }
   ],
   "source": [
    "#hide\n",
    "df_table = pd.DataFrame({'states': dfc_cases.index, 'Cases': dfc_cases.values, 'Deaths': dfc_deaths.values, 'PCases': dfp_cases.values, 'PDeaths': dfp_deaths.values}).set_index('states')\n",
    "df_table = df_table.sort_values(by = ['Cases','Deaths'], ascending = [False, False])\n",
    "df_table = df_table.reset_index()\n",
    "df_table.head()"
   ]
  },
  {
   "cell_type": "code",
   "execution_count": 12,
   "id": "found-montreal",
   "metadata": {
    "execution": {
     "iopub.execute_input": "2021-02-07T09:24:42.297727Z",
     "iopub.status.busy": "2021-02-07T09:24:42.297314Z",
     "iopub.status.idle": "2021-02-07T09:24:42.306123Z",
     "shell.execute_reply": "2021-02-07T09:24:42.306476Z"
    },
    "papermill": {
     "duration": 0.030226,
     "end_time": "2021-02-07T09:24:42.306622",
     "exception": false,
     "start_time": "2021-02-07T09:24:42.276396",
     "status": "completed"
    },
    "tags": []
   },
   "outputs": [],
   "source": [
    "#hide\n",
    "for c in 'Cases, Deaths'.split(', '):\n",
    "    df_table[f'{c} (+)'] = (df_table[c] - df_table[f'P{c}']).clip(0)\n",
    "df_table['Fatality Rate'] = (100* df_table['Deaths']/ df_table['Cases']).round(2)"
   ]
  },
  {
   "cell_type": "code",
   "execution_count": 13,
   "id": "minus-savage",
   "metadata": {
    "execution": {
     "iopub.execute_input": "2021-02-07T09:24:42.352969Z",
     "iopub.status.busy": "2021-02-07T09:24:42.352411Z",
     "iopub.status.idle": "2021-02-07T09:24:42.354552Z",
     "shell.execute_reply": "2021-02-07T09:24:42.354988Z"
    },
    "papermill": {
     "duration": 0.032223,
     "end_time": "2021-02-07T09:24:42.355112",
     "exception": false,
     "start_time": "2021-02-07T09:24:42.322889",
     "status": "completed"
    },
    "tags": []
   },
   "outputs": [
    {
     "data": {
      "text/html": [
       "<div>\n",
       "<style scoped>\n",
       "    .dataframe tbody tr th:only-of-type {\n",
       "        vertical-align: middle;\n",
       "    }\n",
       "\n",
       "    .dataframe tbody tr th {\n",
       "        vertical-align: top;\n",
       "    }\n",
       "\n",
       "    .dataframe thead th {\n",
       "        text-align: right;\n",
       "    }\n",
       "</style>\n",
       "<table border=\"1\" class=\"dataframe\">\n",
       "  <thead>\n",
       "    <tr style=\"text-align: right;\">\n",
       "      <th></th>\n",
       "      <th>states</th>\n",
       "      <th>Cases</th>\n",
       "      <th>Deaths</th>\n",
       "      <th>PCases</th>\n",
       "      <th>PDeaths</th>\n",
       "      <th>Cases (+)</th>\n",
       "      <th>Deaths (+)</th>\n",
       "      <th>Fatality Rate</th>\n",
       "    </tr>\n",
       "  </thead>\n",
       "  <tbody>\n",
       "    <tr>\n",
       "      <th>0</th>\n",
       "      <td>Maharashtra</td>\n",
       "      <td>2041398</td>\n",
       "      <td>51280</td>\n",
       "      <td>2041398</td>\n",
       "      <td>51280</td>\n",
       "      <td>0</td>\n",
       "      <td>0</td>\n",
       "      <td>2.51</td>\n",
       "    </tr>\n",
       "    <tr>\n",
       "      <th>1</th>\n",
       "      <td>Kerala</td>\n",
       "      <td>962364</td>\n",
       "      <td>3849</td>\n",
       "      <td>962364</td>\n",
       "      <td>3849</td>\n",
       "      <td>0</td>\n",
       "      <td>0</td>\n",
       "      <td>0.40</td>\n",
       "    </tr>\n",
       "    <tr>\n",
       "      <th>2</th>\n",
       "      <td>Karnataka</td>\n",
       "      <td>942031</td>\n",
       "      <td>12233</td>\n",
       "      <td>942031</td>\n",
       "      <td>12233</td>\n",
       "      <td>0</td>\n",
       "      <td>0</td>\n",
       "      <td>1.30</td>\n",
       "    </tr>\n",
       "    <tr>\n",
       "      <th>3</th>\n",
       "      <td>Andhra Pradesh</td>\n",
       "      <td>888350</td>\n",
       "      <td>7159</td>\n",
       "      <td>888350</td>\n",
       "      <td>7159</td>\n",
       "      <td>0</td>\n",
       "      <td>0</td>\n",
       "      <td>0.81</td>\n",
       "    </tr>\n",
       "    <tr>\n",
       "      <th>4</th>\n",
       "      <td>Tamil Nadu</td>\n",
       "      <td>841326</td>\n",
       "      <td>12382</td>\n",
       "      <td>841326</td>\n",
       "      <td>12382</td>\n",
       "      <td>0</td>\n",
       "      <td>0</td>\n",
       "      <td>1.47</td>\n",
       "    </tr>\n",
       "  </tbody>\n",
       "</table>\n",
       "</div>"
      ],
      "text/plain": [
       "           states    Cases  Deaths   PCases  PDeaths  Cases (+)  Deaths (+)  \\\n",
       "0     Maharashtra  2041398   51280  2041398    51280          0           0   \n",
       "1          Kerala   962364    3849   962364     3849          0           0   \n",
       "2       Karnataka   942031   12233   942031    12233          0           0   \n",
       "3  Andhra Pradesh   888350    7159   888350     7159          0           0   \n",
       "4      Tamil Nadu   841326   12382   841326    12382          0           0   \n",
       "\n",
       "   Fatality Rate  \n",
       "0           2.51  \n",
       "1           0.40  \n",
       "2           1.30  \n",
       "3           0.81  \n",
       "4           1.47  "
      ]
     },
     "execution_count": 13,
     "metadata": {},
     "output_type": "execute_result"
    }
   ],
   "source": [
    "#hide\n",
    "df_table.head()"
   ]
  },
  {
   "cell_type": "code",
   "execution_count": 14,
   "id": "false-peter",
   "metadata": {
    "execution": {
     "iopub.execute_input": "2021-02-07T09:24:42.394906Z",
     "iopub.status.busy": "2021-02-07T09:24:42.394296Z",
     "iopub.status.idle": "2021-02-07T09:24:42.408443Z",
     "shell.execute_reply": "2021-02-07T09:24:42.408924Z"
    },
    "papermill": {
     "duration": 0.03697,
     "end_time": "2021-02-07T09:24:42.409080",
     "exception": false,
     "start_time": "2021-02-07T09:24:42.372110",
     "status": "completed"
    },
    "tags": []
   },
   "outputs": [
    {
     "data": {
      "text/plain": [
       "{'updated': '2021-02-07',\n",
       " 'since': '2021-02-06',\n",
       " 'Cases': 10827314,\n",
       " 'PCases': 10827314,\n",
       " 'Deaths': 155032,\n",
       " 'PDeaths': 155032,\n",
       " 'Cases (+)': 0,\n",
       " 'Deaths (+)': 0}"
      ]
     },
     "execution_count": 14,
     "metadata": {},
     "output_type": "execute_result"
    }
   ],
   "source": [
    "#hide\n",
    "summary = {'updated':dates[-1], 'since':dates[-2]}\n",
    "list_names = ['Cases', 'PCases', 'Deaths', 'PDeaths', 'Cases (+)', 'Deaths (+)']\n",
    "for name in list_names:\n",
    "    summary[name] = df_table.sum()[name]\n",
    "summary"
   ]
  },
  {
   "cell_type": "code",
   "execution_count": 15,
   "id": "packed-viewer",
   "metadata": {
    "execution": {
     "iopub.execute_input": "2021-02-07T09:24:42.447644Z",
     "iopub.status.busy": "2021-02-07T09:24:42.446545Z",
     "iopub.status.idle": "2021-02-07T09:24:42.448582Z",
     "shell.execute_reply": "2021-02-07T09:24:42.449256Z"
    },
    "papermill": {
     "duration": 0.024119,
     "end_time": "2021-02-07T09:24:42.449455",
     "exception": false,
     "start_time": "2021-02-07T09:24:42.425336",
     "status": "completed"
    },
    "tags": []
   },
   "outputs": [],
   "source": [
    "#hide\n",
    "overview = '''\n",
    "<!-- #######  HTML!! #########-->\n",
    "<h1 style=\"color: #5e9ca0; text-align: center;\">India</h1>\n",
    "<p style=\"text-align: center;\">Last update: <strong>{update}</strong></p>\n",
    "<p style=\"text-align: center;\">Confirmed cases:</p>\n",
    "<p style=\"text-align: center;font-size:24px;\">{cases} (<span style=\"color: #ff0000;\">+{new}</span>)</p>\n",
    "<p style=\"text-align: center;\">Confirmed deaths:</p>\n",
    "<p style=\"text-align: center;font-size:24px;\">{deaths} (<span style=\"color: #ff0000;\">+{dnew}</span>)</p>\n",
    "'''"
   ]
  },
  {
   "cell_type": "code",
   "execution_count": 16,
   "id": "phantom-lover",
   "metadata": {
    "execution": {
     "iopub.execute_input": "2021-02-07T09:24:42.491091Z",
     "iopub.status.busy": "2021-02-07T09:24:42.490500Z",
     "iopub.status.idle": "2021-02-07T09:24:42.494095Z",
     "shell.execute_reply": "2021-02-07T09:24:42.494461Z"
    },
    "papermill": {
     "duration": 0.028781,
     "end_time": "2021-02-07T09:24:42.494580",
     "exception": false,
     "start_time": "2021-02-07T09:24:42.465799",
     "status": "completed"
    },
    "tags": []
   },
   "outputs": [
    {
     "data": {
      "text/html": [
       "\n",
       "<!-- #######  HTML!! #########-->\n",
       "<h1 style=\"color: #5e9ca0; text-align: center;\">India</h1>\n",
       "<p style=\"text-align: center;\">Last update: <strong>2021-02-07</strong></p>\n",
       "<p style=\"text-align: center;\">Confirmed cases:</p>\n",
       "<p style=\"text-align: center;font-size:24px;\">10827314 (<span style=\"color: #ff0000;\">+0</span>)</p>\n",
       "<p style=\"text-align: center;\">Confirmed deaths:</p>\n",
       "<p style=\"text-align: center;font-size:24px;\">155032 (<span style=\"color: #ff0000;\">+0</span>)</p>\n"
      ],
      "text/plain": [
       "<IPython.core.display.HTML object>"
      ]
     },
     "metadata": {},
     "output_type": "display_data"
    }
   ],
   "source": [
    "#hide_input\n",
    "update = summary['updated']\n",
    "cases = summary['Cases']\n",
    "new = summary['Cases (+)']\n",
    "deaths = summary['Deaths']\n",
    "dnew = summary['Deaths (+)']\n",
    "\n",
    "html = HTML(overview.format(update=update, cases=cases,new=new,deaths=deaths,dnew=dnew))\n",
    "\n",
    "display(html)"
   ]
  },
  {
   "cell_type": "code",
   "execution_count": 17,
   "id": "sealed-reset",
   "metadata": {
    "execution": {
     "iopub.execute_input": "2021-02-07T09:24:42.538882Z",
     "iopub.status.busy": "2021-02-07T09:24:42.538277Z",
     "iopub.status.idle": "2021-02-07T09:24:42.546322Z",
     "shell.execute_reply": "2021-02-07T09:24:42.545858Z"
    },
    "papermill": {
     "duration": 0.034544,
     "end_time": "2021-02-07T09:24:42.546431",
     "exception": false,
     "start_time": "2021-02-07T09:24:42.511887",
     "status": "completed"
    },
    "tags": []
   },
   "outputs": [],
   "source": [
    "#hide\n",
    "dt_cols = list(dft_cases.columns[1:])\n",
    "dft_ct_new_cases = dft_cases.groupby('state')[dt_cols].sum().diff(axis=1).fillna(0).astype(int)\n",
    "dft_ct_new_cases.sort_values(by = dates[-1], ascending = False,inplace = True)"
   ]
  },
  {
   "cell_type": "code",
   "execution_count": 18,
   "id": "designed-constant",
   "metadata": {
    "execution": {
     "iopub.execute_input": "2021-02-07T09:24:42.595301Z",
     "iopub.status.busy": "2021-02-07T09:24:42.586417Z",
     "iopub.status.idle": "2021-02-07T09:24:42.598522Z",
     "shell.execute_reply": "2021-02-07T09:24:42.598097Z"
    },
    "papermill": {
     "duration": 0.035302,
     "end_time": "2021-02-07T09:24:42.598626",
     "exception": false,
     "start_time": "2021-02-07T09:24:42.563324",
     "status": "completed"
    },
    "tags": []
   },
   "outputs": [
    {
     "data": {
      "text/html": [
       "<div>\n",
       "<style scoped>\n",
       "    .dataframe tbody tr th:only-of-type {\n",
       "        vertical-align: middle;\n",
       "    }\n",
       "\n",
       "    .dataframe tbody tr th {\n",
       "        vertical-align: top;\n",
       "    }\n",
       "\n",
       "    .dataframe thead th {\n",
       "        text-align: right;\n",
       "    }\n",
       "</style>\n",
       "<table border=\"1\" class=\"dataframe\">\n",
       "  <thead>\n",
       "    <tr style=\"text-align: right;\">\n",
       "      <th>states</th>\n",
       "      <th>2020-07-01</th>\n",
       "      <th>2020-07-02</th>\n",
       "      <th>2020-07-03</th>\n",
       "      <th>2020-07-04</th>\n",
       "      <th>2020-07-05</th>\n",
       "      <th>2020-07-06</th>\n",
       "      <th>2020-07-07</th>\n",
       "      <th>2020-07-08</th>\n",
       "      <th>2020-07-09</th>\n",
       "      <th>2020-07-10</th>\n",
       "      <th>...</th>\n",
       "      <th>2021-01-29</th>\n",
       "      <th>2021-01-30</th>\n",
       "      <th>2021-01-31</th>\n",
       "      <th>2021-02-01</th>\n",
       "      <th>2021-02-02</th>\n",
       "      <th>2021-02-03</th>\n",
       "      <th>2021-02-04</th>\n",
       "      <th>2021-02-05</th>\n",
       "      <th>2021-02-06</th>\n",
       "      <th>2021-02-07</th>\n",
       "    </tr>\n",
       "    <tr>\n",
       "      <th>state</th>\n",
       "      <th></th>\n",
       "      <th></th>\n",
       "      <th></th>\n",
       "      <th></th>\n",
       "      <th></th>\n",
       "      <th></th>\n",
       "      <th></th>\n",
       "      <th></th>\n",
       "      <th></th>\n",
       "      <th></th>\n",
       "      <th></th>\n",
       "      <th></th>\n",
       "      <th></th>\n",
       "      <th></th>\n",
       "      <th></th>\n",
       "      <th></th>\n",
       "      <th></th>\n",
       "      <th></th>\n",
       "      <th></th>\n",
       "      <th></th>\n",
       "      <th></th>\n",
       "    </tr>\n",
       "  </thead>\n",
       "  <tbody>\n",
       "    <tr>\n",
       "      <th>Andaman and Nicobar Islands</th>\n",
       "      <td>0</td>\n",
       "      <td>9</td>\n",
       "      <td>7</td>\n",
       "      <td>3</td>\n",
       "      <td>6</td>\n",
       "      <td>16</td>\n",
       "      <td>6</td>\n",
       "      <td>2</td>\n",
       "      <td>7</td>\n",
       "      <td>0</td>\n",
       "      <td>...</td>\n",
       "      <td>0</td>\n",
       "      <td>0</td>\n",
       "      <td>0</td>\n",
       "      <td>0</td>\n",
       "      <td>0</td>\n",
       "      <td>0</td>\n",
       "      <td>0</td>\n",
       "      <td>3</td>\n",
       "      <td>3</td>\n",
       "      <td>0</td>\n",
       "    </tr>\n",
       "    <tr>\n",
       "      <th>Andhra Pradesh</th>\n",
       "      <td>0</td>\n",
       "      <td>845</td>\n",
       "      <td>837</td>\n",
       "      <td>765</td>\n",
       "      <td>998</td>\n",
       "      <td>1322</td>\n",
       "      <td>1178</td>\n",
       "      <td>1062</td>\n",
       "      <td>1555</td>\n",
       "      <td>1608</td>\n",
       "      <td>...</td>\n",
       "      <td>125</td>\n",
       "      <td>129</td>\n",
       "      <td>116</td>\n",
       "      <td>64</td>\n",
       "      <td>104</td>\n",
       "      <td>95</td>\n",
       "      <td>79</td>\n",
       "      <td>97</td>\n",
       "      <td>75</td>\n",
       "      <td>0</td>\n",
       "    </tr>\n",
       "    <tr>\n",
       "      <th>Maharashtra</th>\n",
       "      <td>0</td>\n",
       "      <td>6328</td>\n",
       "      <td>6364</td>\n",
       "      <td>7074</td>\n",
       "      <td>6555</td>\n",
       "      <td>5368</td>\n",
       "      <td>5134</td>\n",
       "      <td>6603</td>\n",
       "      <td>6875</td>\n",
       "      <td>7862</td>\n",
       "      <td>...</td>\n",
       "      <td>2771</td>\n",
       "      <td>2630</td>\n",
       "      <td>2585</td>\n",
       "      <td>1948</td>\n",
       "      <td>1927</td>\n",
       "      <td>2992</td>\n",
       "      <td>2736</td>\n",
       "      <td>2628</td>\n",
       "      <td>2768</td>\n",
       "      <td>0</td>\n",
       "    </tr>\n",
       "    <tr>\n",
       "      <th>Manipur</th>\n",
       "      <td>0</td>\n",
       "      <td>19</td>\n",
       "      <td>37</td>\n",
       "      <td>9</td>\n",
       "      <td>41</td>\n",
       "      <td>24</td>\n",
       "      <td>40</td>\n",
       "      <td>5</td>\n",
       "      <td>15</td>\n",
       "      <td>132</td>\n",
       "      <td>...</td>\n",
       "      <td>15</td>\n",
       "      <td>15</td>\n",
       "      <td>16</td>\n",
       "      <td>4</td>\n",
       "      <td>5</td>\n",
       "      <td>9</td>\n",
       "      <td>13</td>\n",
       "      <td>9</td>\n",
       "      <td>7</td>\n",
       "      <td>0</td>\n",
       "    </tr>\n",
       "    <tr>\n",
       "      <th>Meghalaya</th>\n",
       "      <td>0</td>\n",
       "      <td>3</td>\n",
       "      <td>4</td>\n",
       "      <td>8</td>\n",
       "      <td>2</td>\n",
       "      <td>16</td>\n",
       "      <td>6</td>\n",
       "      <td>6</td>\n",
       "      <td>13</td>\n",
       "      <td>73</td>\n",
       "      <td>...</td>\n",
       "      <td>4</td>\n",
       "      <td>8</td>\n",
       "      <td>3</td>\n",
       "      <td>0</td>\n",
       "      <td>4</td>\n",
       "      <td>6</td>\n",
       "      <td>20</td>\n",
       "      <td>27</td>\n",
       "      <td>24</td>\n",
       "      <td>0</td>\n",
       "    </tr>\n",
       "  </tbody>\n",
       "</table>\n",
       "<p>5 rows × 222 columns</p>\n",
       "</div>"
      ],
      "text/plain": [
       "states                       2020-07-01  2020-07-02  2020-07-03  2020-07-04  \\\n",
       "state                                                                         \n",
       "Andaman and Nicobar Islands           0           9           7           3   \n",
       "Andhra Pradesh                        0         845         837         765   \n",
       "Maharashtra                           0        6328        6364        7074   \n",
       "Manipur                               0          19          37           9   \n",
       "Meghalaya                             0           3           4           8   \n",
       "\n",
       "states                       2020-07-05  2020-07-06  2020-07-07  2020-07-08  \\\n",
       "state                                                                         \n",
       "Andaman and Nicobar Islands           6          16           6           2   \n",
       "Andhra Pradesh                      998        1322        1178        1062   \n",
       "Maharashtra                        6555        5368        5134        6603   \n",
       "Manipur                              41          24          40           5   \n",
       "Meghalaya                             2          16           6           6   \n",
       "\n",
       "states                       2020-07-09  2020-07-10  ...  2021-01-29  \\\n",
       "state                                                ...               \n",
       "Andaman and Nicobar Islands           7           0  ...           0   \n",
       "Andhra Pradesh                     1555        1608  ...         125   \n",
       "Maharashtra                        6875        7862  ...        2771   \n",
       "Manipur                              15         132  ...          15   \n",
       "Meghalaya                            13          73  ...           4   \n",
       "\n",
       "states                       2021-01-30  2021-01-31  2021-02-01  2021-02-02  \\\n",
       "state                                                                         \n",
       "Andaman and Nicobar Islands           0           0           0           0   \n",
       "Andhra Pradesh                      129         116          64         104   \n",
       "Maharashtra                        2630        2585        1948        1927   \n",
       "Manipur                              15          16           4           5   \n",
       "Meghalaya                             8           3           0           4   \n",
       "\n",
       "states                       2021-02-03  2021-02-04  2021-02-05  2021-02-06  \\\n",
       "state                                                                         \n",
       "Andaman and Nicobar Islands           0           0           3           3   \n",
       "Andhra Pradesh                       95          79          97          75   \n",
       "Maharashtra                        2992        2736        2628        2768   \n",
       "Manipur                               9          13           9           7   \n",
       "Meghalaya                             6          20          27          24   \n",
       "\n",
       "states                       2021-02-07  \n",
       "state                                    \n",
       "Andaman and Nicobar Islands           0  \n",
       "Andhra Pradesh                        0  \n",
       "Maharashtra                           0  \n",
       "Manipur                               0  \n",
       "Meghalaya                             0  \n",
       "\n",
       "[5 rows x 222 columns]"
      ]
     },
     "execution_count": 18,
     "metadata": {},
     "output_type": "execute_result"
    }
   ],
   "source": [
    "#hide\n",
    "dft_ct_new_cases.head()"
   ]
  },
  {
   "cell_type": "code",
   "execution_count": 19,
   "id": "responsible-nightlife",
   "metadata": {
    "execution": {
     "iopub.execute_input": "2021-02-07T09:24:42.660055Z",
     "iopub.status.busy": "2021-02-07T09:24:42.644455Z",
     "iopub.status.idle": "2021-02-07T09:24:48.922319Z",
     "shell.execute_reply": "2021-02-07T09:24:48.922769Z"
    },
    "papermill": {
     "duration": 6.306465,
     "end_time": "2021-02-07T09:24:48.922926",
     "exception": false,
     "start_time": "2021-02-07T09:24:42.616461",
     "status": "completed"
    },
    "tags": []
   },
   "outputs": [
    {
     "data": {
      "image/png": "[encoded data removed]",
      "text/plain": [
       "<Figure size 1296x2016 with 11 Axes>"
      ]
     },
     "metadata": {
      "needs_background": "light"
     },
     "output_type": "display_data"
    }
   ],
   "source": [
    "#hide_input\n",
    "df = dft_ct_new_cases.copy()\n",
    "df.loc['Total'] = df.sum()\n",
    "n = 5\n",
    "ax = []\n",
    "fig = plt.figure(figsize = (18,28))\n",
    "gs = fig.add_gridspec(n+2, 5)\n",
    "# gs = fig.add_gridspec(2, 3)\n",
    "ax1 = fig.add_subplot(gs[0, :])\n",
    "ef = df.loc['Total'].rename_axis('date').reset_index()\n",
    "ef['date'] = ef['date'].astype('datetime64[ns]')\n",
    "ax1.bar(ef.date,ef.Total,alpha=0.3,color='#007acc')\n",
    "ax1.plot(ef.date,ef.Total , marker=\"o\", color='#007acc')\n",
    "ax1.xaxis.set_major_locator(mdates.WeekdayLocator())\n",
    "ax1.xaxis.set_major_formatter(mdates.DateFormatter('%b %d'))\n",
    "ax1.text(0.02, 0.5,'India daily case count', transform = ax1.transAxes, fontsize=25);\n",
    "ax1.spines['right'].set_visible(False)\n",
    "ax1.spines['top'].set_visible(False)\n",
    "\n",
    "ax2 = fig.add_subplot(gs[1,0])\n",
    "ef = df.loc['Maharashtra'].rename_axis('date').reset_index()\n",
    "ef['date'] = ef['date'].astype('datetime64[ns]')\n",
    "\n",
    "ax2.bar(ef.date, ef.Maharashtra,color = '#007acc',alpha=0.5)\n",
    "ax2.xaxis.set_major_locator(mdates.WeekdayLocator())\n",
    "ax2.xaxis.set_major_formatter(mdates.DateFormatter('%b %d'))\n",
    "ax2.set_xticks(ax2.get_xticks()[::3])\n",
    "maxyval = ef.Maharashtra.max()\n",
    "ax2.set_ylim([0,maxyval])\n",
    "ax2.text(0.05, 0.9,'Maharashtra', transform = ax2.transAxes, fontsize=20);\n",
    "ax2.spines['right'].set_visible(False)\n",
    "ax2.spines['top'].set_visible(False)\n",
    "\n",
    "\n",
    "ax3 = fig.add_subplot(gs[1,1])\n",
    "ef = df.loc['Tamil Nadu'].rename_axis('date').reset_index()\n",
    "ef['date'] = ef['date'].astype('datetime64[ns]')\n",
    "ax3.bar(ef.date, ef['Tamil Nadu'],color = '#007acc',alpha=0.5,)\n",
    "ax3.xaxis.set_major_locator(mdates.WeekdayLocator())\n",
    "ax3.xaxis.set_major_formatter(mdates.DateFormatter('%b %d'))\n",
    "ax3.set_xticks(ax3.get_xticks()[::3])\n",
    "ax3.text(0.05, 0.9,'Tamil Nadu', transform = ax3.transAxes, fontsize=20);\n",
    "ax3.spines['right'].set_visible(False)\n",
    "ax3.spines['top'].set_visible(False)\n",
    "\n",
    "ax5 = fig.add_subplot(gs[1,3])\n",
    "ef = df.loc['Telangana'].rename_axis('date').reset_index()\n",
    "ef['date'] = ef['date'].astype('datetime64[ns]')\n",
    "ax5.bar(ef.date, ef['Telangana'],color = '#007acc',alpha=0.5,)\n",
    "ax5.xaxis.set_major_locator(mdates.WeekdayLocator())\n",
    "ax5.xaxis.set_major_formatter(mdates.DateFormatter('%b %d'))\n",
    "ax5.set_xticks(ax5.get_xticks()[::3])\n",
    "ax5.text(0.05, 0.9,'Telangana', transform = ax5.transAxes, fontsize=20);\n",
    "ax5.spines['right'].set_visible(False)\n",
    "ax5.spines['top'].set_visible(False)\n",
    "\n",
    "ax6 = fig.add_subplot(gs[1,4])\n",
    "ef = df.loc['Andhra Pradesh'].rename_axis('date').reset_index()\n",
    "ef['date'] = ef['date'].astype('datetime64[ns]')\n",
    "ax6.bar(ef.date, ef['Andhra Pradesh'],color = '#007acc',alpha=0.5,)\n",
    "ax6.xaxis.set_major_locator(mdates.WeekdayLocator())\n",
    "ax6.xaxis.set_major_formatter(mdates.DateFormatter('%b %d'))\n",
    "ax6.set_xticks(ax6.get_xticks()[::3])\n",
    "ax6.text(0.05, 1,'Andhra Pradesh', transform = ax6.transAxes, fontsize=20);\n",
    "ax6.spines['right'].set_visible(False)\n",
    "ax6.spines['top'].set_visible(False)\n",
    "\n",
    "ax4 = fig.add_subplot(gs[1,2])\n",
    "ef = df.loc['Delhi'].rename_axis('date').reset_index()\n",
    "ef['date'] = ef['date'].astype('datetime64[ns]')\n",
    "ax4.bar(ef.date, ef.Delhi,color = '#007acc',alpha=0.5)\n",
    "ax4.set_xticks([])\n",
    "ax4.xaxis.set_major_locator(mdates.WeekdayLocator())\n",
    "ax4.xaxis.set_major_formatter(mdates.DateFormatter('%b %d'))\n",
    "ax4.set_xticks(ax4.get_xticks()[::3])\n",
    "ax4.spines['right'].set_visible(False)\n",
    "ax4.spines['top'].set_visible(False)\n",
    "\n",
    "ax4.text(0.05, 1,'Delhi', transform = ax4.transAxes, fontsize=20)\n",
    "\n",
    "for i in range(n):\n",
    "    \n",
    "    ax.append(fig.add_subplot(gs[i+2,:]))\n",
    "    ef = df.iloc[i+3].rename_axis('date').reset_index()\n",
    "    ef['date'] = ef['date'].astype('datetime64[ns]')\n",
    "    ax[i].bar(ef.date,ef.iloc[:,-1],color = '#007acc',alpha=0.3)\n",
    "    ax[i].plot(ef.date,ef.iloc[:,-1],marker='o',color='#007acc')\n",
    "    ax[i].text(0.02,0.5,f'{ef.columns.values[-1]}',transform = ax[i].transAxes, fontsize = 20);\n",
    "    ax[i].xaxis.set_major_locator(mdates.WeekdayLocator())\n",
    "    ax[i].xaxis.set_major_formatter(mdates.DateFormatter('%b %d'))\n",
    "    ax[i].set_ylim([0,7000])\n",
    "    ax[i].spines['right'].set_visible(False)\n",
    "    ax[i].spines['top'].set_visible(False)\n",
    "plt.tight_layout()\n"
   ]
  },
  {
   "cell_type": "code",
   "execution_count": 20,
   "id": "dress-forge",
   "metadata": {
    "execution": {
     "iopub.execute_input": "2021-02-07T09:24:49.374825Z",
     "iopub.status.busy": "2021-02-07T09:24:49.374252Z",
     "iopub.status.idle": "2021-02-07T09:24:49.381157Z",
     "shell.execute_reply": "2021-02-07T09:24:49.380737Z"
    },
    "papermill": {
     "duration": 0.438614,
     "end_time": "2021-02-07T09:24:49.381282",
     "exception": false,
     "start_time": "2021-02-07T09:24:48.942668",
     "status": "completed"
    },
    "tags": []
   },
   "outputs": [
    {
     "name": "stdout",
     "output_type": "stream",
     "text": [
      "                                   states    Cases  Deaths   PCases  PDeaths  Cases (+)  Deaths (+)  Fatality Rate\n",
      "                              Maharashtra  2041398   51280  2041398    51280          0           0           2.51\n",
      "                                   Kerala   962364    3849   962364     3849          0           0           0.40\n",
      "                                Karnataka   942031   12233   942031    12233          0           0           1.30\n",
      "                           Andhra Pradesh   888350    7159   888350     7159          0           0           0.81\n",
      "                               Tamil Nadu   841326   12382   841326    12382          0           0           1.47\n",
      "                                    Delhi   635916   10877   635916    10877          0           0           1.71\n",
      "                            Uttar Pradesh   601272    8686   601272     8686          0           0           1.44\n",
      "                              West Bengal   571178   10202   571178    10202          0           0           1.79\n",
      "                                   Odisha   335548    1962   335548     1962          0           0           0.58\n",
      "                                Rajasthan   318118    2772   318118     2772          0           0           0.87\n",
      "                             Chhattisgarh   307339    3735   307339     3735          0           0           1.22\n",
      "                                Telangana   295431    1608   295431     1608          0           0           0.54\n",
      "                                  Haryana   268364    3027   268364     3027          0           0           1.13\n",
      "                                  Gujarat   263200    4394   263200     4394          0           0           1.67\n",
      "                                    Bihar   261246    1515   261246     1515          0           0           0.58\n",
      "                           Madhya Pradesh   256214    3820   256214     3820          0           0           1.49\n",
      "                                    Assam   217202    1084   217202     1084          0           0           0.50\n",
      "                                   Punjab   174439    5640   174439     5640          0           0           3.23\n",
      "                        Jammu and Kashmir   124850    1944   124850     1944          0           0           1.56\n",
      "                                Jharkhand   118979    1077   118979     1077          0           0           0.91\n",
      "                              Uttarakhand    96478    1664    96478     1664          0           0           1.72\n",
      "                         Himachal Pradesh    57851     971    57851      971          0           0           1.68\n",
      "                                      Goa    53838     770    53838      770          0           0           1.43\n",
      "                               Puducherry    39270     654    39270      654          0           0           1.67\n",
      "                                  Tripura    33349     388    33349      388          0           0           1.16\n",
      "                                  Manipur    29117     372    29117      372          0           0           1.28\n",
      "                               Chandigarh    21060     338    21060      338          0           0           1.60\n",
      "                        Arunachal Pradesh    16830      56    16830       56          0           0           0.33\n",
      "                                Meghalaya    13845     147    13845      147          0           0           1.06\n",
      "                                 Nagaland    12148      88    12148       88          0           0           0.72\n",
      "                                   Ladakh     9743     130     9743      130          0           0           1.33\n",
      "                                   Sikkim     6108     135     6108      135          0           0           2.21\n",
      "              Andaman and Nicobar Islands     5000      62     5000       62          0           0           1.24\n",
      "                                  Mizoram     4381       9     4381        9          0           0           0.21\n",
      " Dadra and Nagar Haveli and Daman and Diu     3380       2     3380        2          0           0           0.06\n",
      "                              Lakshadweep      151       0      151        0          0           0           0.00\n"
     ]
    }
   ],
   "source": [
    "#hide_input\n",
    "print(df_table.to_string(index=False))"
   ]
  },
  {
   "cell_type": "code",
   "execution_count": null,
   "id": "quantitative-legend",
   "metadata": {
    "papermill": {
     "duration": 0.02728,
     "end_time": "2021-02-07T09:24:49.427996",
     "exception": false,
     "start_time": "2021-02-07T09:24:49.400716",
     "status": "completed"
    },
    "tags": []
   },
   "outputs": [],
   "source": []
  },
  {
   "cell_type": "code",
   "execution_count": null,
   "id": "distant-acoustic",
   "metadata": {
    "papermill": {
     "duration": 0.019028,
     "end_time": "2021-02-07T09:24:49.465435",
     "exception": false,
     "start_time": "2021-02-07T09:24:49.446407",
     "status": "completed"
    },
    "tags": []
   },
   "outputs": [],
   "source": []
  }
 ],
 "metadata": {
  "kernelspec": {
   "display_name": "Python 3",
   "language": "python",
   "name": "python3"
  },
  "language_info": {
   "codemirror_mode": {
    "name": "ipython",
    "version": 3
   },
   "file_extension": ".py",
   "mimetype": "text/x-python",
   "name": "python",
   "nbconvert_exporter": "python",
   "pygments_lexer": "ipython3",
   "version": "3.6.12"
  },
  "papermill": {
   "duration": 16.289673,
   "end_time": "2021-02-07T09:24:50.842058",
   "environment_variables": {},
   "exception": null,
   "input_path": "latest.ipynb",
   "output_path": "latest.ipynb",
   "parameters": {},
   "start_time": "2021-02-07T09:24:34.552385",
   "version": "2.1.2"
  }
 },
 "nbformat": 4,
 "nbformat_minor": 5
}