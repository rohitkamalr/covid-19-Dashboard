{
 "cells": [
  {
   "cell_type": "markdown",
   "id": "colored-stack",
   "metadata": {
    "papermill": {
     "duration": 0.025507,
     "end_time": "2021-05-03T13:45:30.719737",
     "exception": false,
     "start_time": "2021-05-03T13:45:30.694230",
     "status": "completed"
    },
    "tags": []
   },
   "source": [
    "# Latest COVID-19 India Matplotlib Overview"
   ]
  },
  {
   "cell_type": "code",
   "execution_count": 1,
   "id": "light-proportion",
   "metadata": {
    "execution": {
     "iopub.execute_input": "2021-05-03T13:45:30.768983Z",
     "iopub.status.busy": "2021-05-03T13:45:30.768320Z",
     "iopub.status.idle": "2021-05-03T13:45:31.422104Z",
     "shell.execute_reply": "2021-05-03T13:45:31.421165Z"
    },
    "papermill": {
     "duration": 0.684391,
     "end_time": "2021-05-03T13:45:31.422278",
     "exception": false,
     "start_time": "2021-05-03T13:45:30.737887",
     "status": "completed"
    },
    "tags": []
   },
   "outputs": [],
   "source": [
    "#hide\n",
    "import pandas as pd\n",
    "import numpy as np\n",
    "import requests\n",
    "import json\n",
    "import matplotlib.pyplot as plt\n",
    "import matplotlib.dates as mdates\n",
    "import matplotlib as mpl\n",
    "from IPython.core.display import display,HTML\n",
    "%matplotlib inline\n",
    "from datetime import date"
   ]
  },
  {
   "cell_type": "code",
   "execution_count": 2,
   "id": "greenhouse-shooting",
   "metadata": {
    "execution": {
     "iopub.execute_input": "2021-05-03T13:45:31.467177Z",
     "iopub.status.busy": "2021-05-03T13:45:31.466541Z",
     "iopub.status.idle": "2021-05-03T13:45:31.657601Z",
     "shell.execute_reply": "2021-05-03T13:45:31.657054Z"
    },
    "papermill": {
     "duration": 0.218651,
     "end_time": "2021-05-03T13:45:31.657733",
     "exception": false,
     "start_time": "2021-05-03T13:45:31.439082",
     "status": "completed"
    },
    "tags": []
   },
   "outputs": [],
   "source": [
    "#hide\n",
    "df  = pd.read_csv('https://api.covid19india.org/csv/latest/states.csv')\n",
    "df = df[['Date','State','Confirmed','Deceased']]\n",
    "df = df.rename(columns={'Confirmed':'Cases', \"Deceased\":'Deaths'})\n",
    "df_cases = df[[\"Date\",'State','Cases']]\n",
    "df_deaths = df[['Date','State','Deaths']]\n",
    "df_cases1 = df_cases.groupby('Date')\n",
    "df_deaths1= df_deaths.groupby('Date')"
   ]
  },
  {
   "cell_type": "code",
   "execution_count": 3,
   "id": "hybrid-cathedral",
   "metadata": {
    "execution": {
     "iopub.execute_input": "2021-05-03T13:45:31.700198Z",
     "iopub.status.busy": "2021-05-03T13:45:31.699331Z",
     "iopub.status.idle": "2021-05-03T13:45:31.721376Z",
     "shell.execute_reply": "2021-05-03T13:45:31.720857Z"
    },
    "papermill": {
     "duration": 0.04454,
     "end_time": "2021-05-03T13:45:31.721496",
     "exception": false,
     "start_time": "2021-05-03T13:45:31.676956",
     "status": "completed"
    },
    "tags": []
   },
   "outputs": [],
   "source": [
    "#hide\n",
    "df_snap = pd.read_csv('data/SnapshotCases-28-July.csv')\n",
    "arr_states = df_snap['states'].unique()\n",
    "arr_dates = df['Date'].unique()\n",
    "df_snap = df_snap.set_index('states')"
   ]
  },
  {
   "cell_type": "code",
   "execution_count": 4,
   "id": "interior-belfast",
   "metadata": {
    "execution": {
     "iopub.execute_input": "2021-05-03T13:45:31.769640Z",
     "iopub.status.busy": "2021-05-03T13:45:31.768902Z",
     "iopub.status.idle": "2021-05-03T13:45:31.772213Z",
     "shell.execute_reply": "2021-05-03T13:45:31.771613Z"
    },
    "papermill": {
     "duration": 0.031682,
     "end_time": "2021-05-03T13:45:31.772338",
     "exception": false,
     "start_time": "2021-05-03T13:45:31.740656",
     "status": "completed"
    },
    "tags": []
   },
   "outputs": [
    {
     "data": {
      "text/plain": [
       "array(['Andaman and Nicobar Islands', 'Andhra Pradesh',\n",
       "       'Arunachal Pradesh', 'Assam', 'Bihar', 'Chandigarh',\n",
       "       'Dadra and Nagar Haveli and Daman and Diu', 'Delhi', 'Goa',\n",
       "       'Gujarat', 'Haryana', 'Himachal Pradesh', 'Jammu and Kashmir',\n",
       "       'Jharkhand', 'Karnataka', 'Kerala', 'Lakshadweep',\n",
       "       'Madhya Pradesh', 'Maharashtra', 'Manipur', 'Meghalaya', 'Mizoram',\n",
       "       'Nagaland', 'Odisha', 'Puducherry', 'Punjab', 'Rajasthan',\n",
       "       'Sikkim', 'Tamil Nadu', 'Telangana', 'Tripura', 'Uttar Pradesh',\n",
       "       'West Bengal', 'Chhattisgarh', 'Ladakh', 'Uttarakhand'],\n",
       "      dtype=object)"
      ]
     },
     "execution_count": 4,
     "metadata": {},
     "output_type": "execute_result"
    }
   ],
   "source": [
    "#hide\n",
    "arr_states[-9] = 'Puducherry'\n",
    "arr_states[-10] = 'Odisha'\n",
    "arr_states[6] = 'Dadra and Nagar Haveli and Daman and Diu'\n",
    "arr_states = np.append(arr_states,np.array(['Chhattisgarh','Ladakh','Uttarakhand']))\n",
    "arr_states"
   ]
  },
  {
   "cell_type": "code",
   "execution_count": 5,
   "id": "behind-manner",
   "metadata": {
    "execution": {
     "iopub.execute_input": "2021-05-03T13:45:31.822869Z",
     "iopub.status.busy": "2021-05-03T13:45:31.822292Z",
     "iopub.status.idle": "2021-05-03T13:45:31.835409Z",
     "shell.execute_reply": "2021-05-03T13:45:31.834821Z"
    },
    "papermill": {
     "duration": 0.04484,
     "end_time": "2021-05-03T13:45:31.835536",
     "exception": false,
     "start_time": "2021-05-03T13:45:31.790696",
     "status": "completed"
    },
    "tags": []
   },
   "outputs": [],
   "source": [
    "#hide\n",
    "dates = []\n",
    "for i in arr_dates:\n",
    "    if i>='2020-07-01':\n",
    "        dates.append(i)\n",
    "dict = {'states':dates}\n",
    "for i in arr_states:\n",
    "    dict[i] = [0]*len(dates)\n",
    "dft_cases = pd.DataFrame(dict)\n",
    "dft_deaths = pd.DataFrame(dict)\n"
   ]
  },
  {
   "cell_type": "code",
   "execution_count": 6,
   "id": "simplified-peter",
   "metadata": {
    "execution": {
     "iopub.execute_input": "2021-05-03T13:45:31.880946Z",
     "iopub.status.busy": "2021-05-03T13:45:31.880242Z",
     "iopub.status.idle": "2021-05-03T13:45:37.328753Z",
     "shell.execute_reply": "2021-05-03T13:45:37.327863Z"
    },
    "papermill": {
     "duration": 5.475689,
     "end_time": "2021-05-03T13:45:37.328894",
     "exception": false,
     "start_time": "2021-05-03T13:45:31.853205",
     "status": "completed"
    },
    "tags": []
   },
   "outputs": [],
   "source": [
    "#hide\n",
    "for i in range(len(dates)):\n",
    "    df1_deaths = df_deaths1.get_group(dates[i])\n",
    "    for j in range(len(df1_deaths.index)):\n",
    "        if df1_deaths.iloc[j,1] in arr_states:\n",
    "            dft_deaths.loc[i,df1_deaths.iloc[j,1]] = df1_deaths.iloc[j,2]\n",
    "dft_deaths = dft_deaths.set_index('states')"
   ]
  },
  {
   "cell_type": "code",
   "execution_count": 7,
   "id": "geological-welding",
   "metadata": {
    "execution": {
     "iopub.execute_input": "2021-05-03T13:45:37.368600Z",
     "iopub.status.busy": "2021-05-03T13:45:37.368046Z",
     "iopub.status.idle": "2021-05-03T13:45:42.780972Z",
     "shell.execute_reply": "2021-05-03T13:45:42.780315Z"
    },
    "papermill": {
     "duration": 5.435881,
     "end_time": "2021-05-03T13:45:42.781121",
     "exception": false,
     "start_time": "2021-05-03T13:45:37.345240",
     "status": "completed"
    },
    "tags": []
   },
   "outputs": [],
   "source": [
    "#hide\n",
    "for i in range(len(dates)):\n",
    "    df1_cases = df_cases1.get_group(dates[i])\n",
    "    for j in range(len(df1_cases.index)):\n",
    "        if df1_cases.iloc[j,1] in arr_states:\n",
    "            dft_cases.loc[i,df1_cases.iloc[j,1]] = df1_cases.iloc[j,2]\n",
    "dft_cases = dft_cases.set_index('states')"
   ]
  },
  {
   "cell_type": "code",
   "execution_count": 8,
   "id": "binary-ratio",
   "metadata": {
    "execution": {
     "iopub.execute_input": "2021-05-03T13:45:42.887859Z",
     "iopub.status.busy": "2021-05-03T13:45:42.886977Z",
     "iopub.status.idle": "2021-05-03T13:45:42.892817Z",
     "shell.execute_reply": "2021-05-03T13:45:42.891829Z"
    },
    "papermill": {
     "duration": 0.091156,
     "end_time": "2021-05-03T13:45:42.893078",
     "exception": false,
     "start_time": "2021-05-03T13:45:42.801922",
     "status": "completed"
    },
    "tags": []
   },
   "outputs": [],
   "source": [
    "#hide\n",
    "dft_cases = dft_cases.T\n",
    "dft_deaths = dft_deaths.T\n",
    "dt_today = dates[-1]\n",
    "dt_yday = dates[-2]"
   ]
  },
  {
   "cell_type": "code",
   "execution_count": 9,
   "id": "boolean-calculator",
   "metadata": {
    "execution": {
     "iopub.execute_input": "2021-05-03T13:45:42.966351Z",
     "iopub.status.busy": "2021-05-03T13:45:42.965753Z",
     "iopub.status.idle": "2021-05-03T13:45:42.971943Z",
     "shell.execute_reply": "2021-05-03T13:45:42.971373Z"
    },
    "papermill": {
     "duration": 0.029965,
     "end_time": "2021-05-03T13:45:42.972049",
     "exception": false,
     "start_time": "2021-05-03T13:45:42.942084",
     "status": "completed"
    },
    "tags": []
   },
   "outputs": [],
   "source": [
    "#hide\n",
    "dft_cases = dft_cases.reset_index()\n",
    "dft_deaths = dft_deaths.reset_index()\n",
    "dft_cases = dft_cases.rename(columns = {'index':'state'})\n",
    "dft_deaths = dft_deaths.rename(columns = {'index':'state'})"
   ]
  },
  {
   "cell_type": "code",
   "execution_count": 10,
   "id": "invisible-johnston",
   "metadata": {
    "execution": {
     "iopub.execute_input": "2021-05-03T13:45:43.108290Z",
     "iopub.status.busy": "2021-05-03T13:45:43.107343Z",
     "iopub.status.idle": "2021-05-03T13:45:43.123577Z",
     "shell.execute_reply": "2021-05-03T13:45:43.122973Z"
    },
    "papermill": {
     "duration": 0.042442,
     "end_time": "2021-05-03T13:45:43.123712",
     "exception": false,
     "start_time": "2021-05-03T13:45:43.081270",
     "status": "completed"
    },
    "tags": []
   },
   "outputs": [],
   "source": [
    "#hide\n",
    "dfc_cases = dft_cases.groupby('state')[dt_today].sum()\n",
    "dfc_deaths = dft_deaths.groupby('state')[dt_today].sum()\n",
    "dfp_cases = dft_cases.groupby('state')[dt_yday].sum()\n",
    "dfp_deaths = dft_deaths.groupby('state')[dt_yday].sum()"
   ]
  },
  {
   "cell_type": "code",
   "execution_count": 11,
   "id": "measured-great",
   "metadata": {
    "execution": {
     "iopub.execute_input": "2021-05-03T13:45:43.169257Z",
     "iopub.status.busy": "2021-05-03T13:45:43.168515Z",
     "iopub.status.idle": "2021-05-03T13:45:43.180621Z",
     "shell.execute_reply": "2021-05-03T13:45:43.181040Z"
    },
    "papermill": {
     "duration": 0.03864,
     "end_time": "2021-05-03T13:45:43.181156",
     "exception": false,
     "start_time": "2021-05-03T13:45:43.142516",
     "status": "completed"
    },
    "tags": []
   },
   "outputs": [
    {
     "data": {
      "text/html": [
       "<div>\n",
       "<style scoped>\n",
       "    .dataframe tbody tr th:only-of-type {\n",
       "        vertical-align: middle;\n",
       "    }\n",
       "\n",
       "    .dataframe tbody tr th {\n",
       "        vertical-align: top;\n",
       "    }\n",
       "\n",
       "    .dataframe thead th {\n",
       "        text-align: right;\n",
       "    }\n",
       "</style>\n",
       "<table border=\"1\" class=\"dataframe\">\n",
       "  <thead>\n",
       "    <tr style=\"text-align: right;\">\n",
       "      <th></th>\n",
       "      <th>states</th>\n",
       "      <th>Cases</th>\n",
       "      <th>Deaths</th>\n",
       "      <th>PCases</th>\n",
       "      <th>PDeaths</th>\n",
       "    </tr>\n",
       "  </thead>\n",
       "  <tbody>\n",
       "    <tr>\n",
       "      <th>0</th>\n",
       "      <td>Maharashtra</td>\n",
       "      <td>4722401</td>\n",
       "      <td>70284</td>\n",
       "      <td>4722401</td>\n",
       "      <td>70284</td>\n",
       "    </tr>\n",
       "    <tr>\n",
       "      <th>1</th>\n",
       "      <td>Kerala</td>\n",
       "      <td>1638779</td>\n",
       "      <td>5406</td>\n",
       "      <td>1638779</td>\n",
       "      <td>5406</td>\n",
       "    </tr>\n",
       "    <tr>\n",
       "      <th>2</th>\n",
       "      <td>Karnataka</td>\n",
       "      <td>1601865</td>\n",
       "      <td>16011</td>\n",
       "      <td>1601865</td>\n",
       "      <td>16011</td>\n",
       "    </tr>\n",
       "    <tr>\n",
       "      <th>3</th>\n",
       "      <td>Uttar Pradesh</td>\n",
       "      <td>1342413</td>\n",
       "      <td>13447</td>\n",
       "      <td>1313361</td>\n",
       "      <td>13162</td>\n",
       "    </tr>\n",
       "    <tr>\n",
       "      <th>4</th>\n",
       "      <td>Tamil Nadu</td>\n",
       "      <td>1207112</td>\n",
       "      <td>14346</td>\n",
       "      <td>1207112</td>\n",
       "      <td>14346</td>\n",
       "    </tr>\n",
       "  </tbody>\n",
       "</table>\n",
       "</div>"
      ],
      "text/plain": [
       "          states    Cases  Deaths   PCases  PDeaths\n",
       "0    Maharashtra  4722401   70284  4722401    70284\n",
       "1         Kerala  1638779    5406  1638779     5406\n",
       "2      Karnataka  1601865   16011  1601865    16011\n",
       "3  Uttar Pradesh  1342413   13447  1313361    13162\n",
       "4     Tamil Nadu  1207112   14346  1207112    14346"
      ]
     },
     "execution_count": 11,
     "metadata": {},
     "output_type": "execute_result"
    }
   ],
   "source": [
    "#hide\n",
    "df_table = pd.DataFrame({'states': dfc_cases.index, 'Cases': dfc_cases.values, 'Deaths': dfc_deaths.values, 'PCases': dfp_cases.values, 'PDeaths': dfp_deaths.values}).set_index('states')\n",
    "df_table = df_table.sort_values(by = ['Cases','Deaths'], ascending = [False, False])\n",
    "df_table = df_table.reset_index()\n",
    "df_table.head()"
   ]
  },
  {
   "cell_type": "code",
   "execution_count": 12,
   "id": "found-montreal",
   "metadata": {
    "execution": {
     "iopub.execute_input": "2021-05-03T13:45:43.219614Z",
     "iopub.status.busy": "2021-05-03T13:45:43.216950Z",
     "iopub.status.idle": "2021-05-03T13:45:43.227316Z",
     "shell.execute_reply": "2021-05-03T13:45:43.227820Z"
    },
    "papermill": {
     "duration": 0.030862,
     "end_time": "2021-05-03T13:45:43.227935",
     "exception": false,
     "start_time": "2021-05-03T13:45:43.197073",
     "status": "completed"
    },
    "tags": []
   },
   "outputs": [],
   "source": [
    "#hide\n",
    "for c in 'Cases, Deaths'.split(', '):\n",
    "    df_table[f'{c} (+)'] = (df_table[c] - df_table[f'P{c}']).clip(0)\n",
    "df_table['Fatality Rate'] = (100* df_table['Deaths']/ df_table['Cases']).round(2)"
   ]
  },
  {
   "cell_type": "code",
   "execution_count": 13,
   "id": "minus-savage",
   "metadata": {
    "execution": {
     "iopub.execute_input": "2021-05-03T13:45:43.276356Z",
     "iopub.status.busy": "2021-05-03T13:45:43.275754Z",
     "iopub.status.idle": "2021-05-03T13:45:43.278857Z",
     "shell.execute_reply": "2021-05-03T13:45:43.278376Z"
    },
    "papermill": {
     "duration": 0.033557,
     "end_time": "2021-05-03T13:45:43.278984",
     "exception": false,
     "start_time": "2021-05-03T13:45:43.245427",
     "status": "completed"
    },
    "tags": []
   },
   "outputs": [
    {
     "data": {
      "text/html": [
       "<div>\n",
       "<style scoped>\n",
       "    .dataframe tbody tr th:only-of-type {\n",
       "        vertical-align: middle;\n",
       "    }\n",
       "\n",
       "    .dataframe tbody tr th {\n",
       "        vertical-align: top;\n",
       "    }\n",
       "\n",
       "    .dataframe thead th {\n",
       "        text-align: right;\n",
       "    }\n",
       "</style>\n",
       "<table border=\"1\" class=\"dataframe\">\n",
       "  <thead>\n",
       "    <tr style=\"text-align: right;\">\n",
       "      <th></th>\n",
       "      <th>states</th>\n",
       "      <th>Cases</th>\n",
       "      <th>Deaths</th>\n",
       "      <th>PCases</th>\n",
       "      <th>PDeaths</th>\n",
       "      <th>Cases (+)</th>\n",
       "      <th>Deaths (+)</th>\n",
       "      <th>Fatality Rate</th>\n",
       "    </tr>\n",
       "  </thead>\n",
       "  <tbody>\n",
       "    <tr>\n",
       "      <th>0</th>\n",
       "      <td>Maharashtra</td>\n",
       "      <td>4722401</td>\n",
       "      <td>70284</td>\n",
       "      <td>4722401</td>\n",
       "      <td>70284</td>\n",
       "      <td>0</td>\n",
       "      <td>0</td>\n",
       "      <td>1.49</td>\n",
       "    </tr>\n",
       "    <tr>\n",
       "      <th>1</th>\n",
       "      <td>Kerala</td>\n",
       "      <td>1638779</td>\n",
       "      <td>5406</td>\n",
       "      <td>1638779</td>\n",
       "      <td>5406</td>\n",
       "      <td>0</td>\n",
       "      <td>0</td>\n",
       "      <td>0.33</td>\n",
       "    </tr>\n",
       "    <tr>\n",
       "      <th>2</th>\n",
       "      <td>Karnataka</td>\n",
       "      <td>1601865</td>\n",
       "      <td>16011</td>\n",
       "      <td>1601865</td>\n",
       "      <td>16011</td>\n",
       "      <td>0</td>\n",
       "      <td>0</td>\n",
       "      <td>1.00</td>\n",
       "    </tr>\n",
       "    <tr>\n",
       "      <th>3</th>\n",
       "      <td>Uttar Pradesh</td>\n",
       "      <td>1342413</td>\n",
       "      <td>13447</td>\n",
       "      <td>1313361</td>\n",
       "      <td>13162</td>\n",
       "      <td>29052</td>\n",
       "      <td>285</td>\n",
       "      <td>1.00</td>\n",
       "    </tr>\n",
       "    <tr>\n",
       "      <th>4</th>\n",
       "      <td>Tamil Nadu</td>\n",
       "      <td>1207112</td>\n",
       "      <td>14346</td>\n",
       "      <td>1207112</td>\n",
       "      <td>14346</td>\n",
       "      <td>0</td>\n",
       "      <td>0</td>\n",
       "      <td>1.19</td>\n",
       "    </tr>\n",
       "  </tbody>\n",
       "</table>\n",
       "</div>"
      ],
      "text/plain": [
       "          states    Cases  Deaths   PCases  PDeaths  Cases (+)  Deaths (+)  \\\n",
       "0    Maharashtra  4722401   70284  4722401    70284          0           0   \n",
       "1         Kerala  1638779    5406  1638779     5406          0           0   \n",
       "2      Karnataka  1601865   16011  1601865    16011          0           0   \n",
       "3  Uttar Pradesh  1342413   13447  1313361    13162      29052         285   \n",
       "4     Tamil Nadu  1207112   14346  1207112    14346          0           0   \n",
       "\n",
       "   Fatality Rate  \n",
       "0           1.49  \n",
       "1           0.33  \n",
       "2           1.00  \n",
       "3           1.00  \n",
       "4           1.19  "
      ]
     },
     "execution_count": 13,
     "metadata": {},
     "output_type": "execute_result"
    }
   ],
   "source": [
    "#hide\n",
    "df_table.head()"
   ]
  },
  {
   "cell_type": "code",
   "execution_count": 14,
   "id": "false-peter",
   "metadata": {
    "execution": {
     "iopub.execute_input": "2021-05-03T13:45:43.324035Z",
     "iopub.status.busy": "2021-05-03T13:45:43.323393Z",
     "iopub.status.idle": "2021-05-03T13:45:43.341731Z",
     "shell.execute_reply": "2021-05-03T13:45:43.341127Z"
    },
    "papermill": {
     "duration": 0.044094,
     "end_time": "2021-05-03T13:45:43.341877",
     "exception": false,
     "start_time": "2021-05-03T13:45:43.297783",
     "status": "completed"
    },
    "tags": []
   },
   "outputs": [
    {
     "data": {
      "text/plain": [
       "{'updated': '2021-05-03',\n",
       " 'since': '2021-05-02',\n",
       " 'Cases': 19964804,\n",
       " 'PCases': 19919863,\n",
       " 'Deaths': 219309,\n",
       " 'PDeaths': 218947,\n",
       " 'Cases (+)': 44941,\n",
       " 'Deaths (+)': 362}"
      ]
     },
     "execution_count": 14,
     "metadata": {},
     "output_type": "execute_result"
    }
   ],
   "source": [
    "#hide\n",
    "summary = {'updated':dates[-1], 'since':dates[-2]}\n",
    "list_names = ['Cases', 'PCases', 'Deaths', 'PDeaths', 'Cases (+)', 'Deaths (+)']\n",
    "for name in list_names:\n",
    "    summary[name] = df_table.sum()[name]\n",
    "summary"
   ]
  },
  {
   "cell_type": "code",
   "execution_count": 15,
   "id": "packed-viewer",
   "metadata": {
    "execution": {
     "iopub.execute_input": "2021-05-03T13:45:43.384511Z",
     "iopub.status.busy": "2021-05-03T13:45:43.383913Z",
     "iopub.status.idle": "2021-05-03T13:45:43.386514Z",
     "shell.execute_reply": "2021-05-03T13:45:43.386011Z"
    },
    "papermill": {
     "duration": 0.02528,
     "end_time": "2021-05-03T13:45:43.386639",
     "exception": false,
     "start_time": "2021-05-03T13:45:43.361359",
     "status": "completed"
    },
    "tags": []
   },
   "outputs": [],
   "source": [
    "#hide\n",
    "overview = '''\n",
    "<!-- #######  HTML!! #########-->\n",
    "<h1 style=\"color: #5e9ca0; text-align: center;\">India</h1>\n",
    "<p style=\"text-align: center;\">Last update: <strong>{update}</strong></p>\n",
    "<p style=\"text-align: center;\">Confirmed cases:</p>\n",
    "<p style=\"text-align: center;font-size:24px;\">{cases} (<span style=\"color: #ff0000;\">+{new}</span>)</p>\n",
    "<p style=\"text-align: center;\">Confirmed deaths:</p>\n",
    "<p style=\"text-align: center;font-size:24px;\">{deaths} (<span style=\"color: #ff0000;\">+{dnew}</span>)</p>\n",
    "'''"
   ]
  },
  {
   "cell_type": "code",
   "execution_count": 16,
   "id": "phantom-lover",
   "metadata": {
    "execution": {
     "iopub.execute_input": "2021-05-03T13:45:43.436325Z",
     "iopub.status.busy": "2021-05-03T13:45:43.435637Z",
     "iopub.status.idle": "2021-05-03T13:45:43.439825Z",
     "shell.execute_reply": "2021-05-03T13:45:43.439121Z"
    },
    "papermill": {
     "duration": 0.031809,
     "end_time": "2021-05-03T13:45:43.439985",
     "exception": false,
     "start_time": "2021-05-03T13:45:43.408176",
     "status": "completed"
    },
    "tags": []
   },
   "outputs": [
    {
     "data": {
      "text/html": [
       "\n",
       "<!-- #######  HTML!! #########-->\n",
       "<h1 style=\"color: #5e9ca0; text-align: center;\">India</h1>\n",
       "<p style=\"text-align: center;\">Last update: <strong>2021-05-03</strong></p>\n",
       "<p style=\"text-align: center;\">Confirmed cases:</p>\n",
       "<p style=\"text-align: center;font-size:24px;\">19964804 (<span style=\"color: #ff0000;\">+44941</span>)</p>\n",
       "<p style=\"text-align: center;\">Confirmed deaths:</p>\n",
       "<p style=\"text-align: center;font-size:24px;\">219309 (<span style=\"color: #ff0000;\">+362</span>)</p>\n"
      ],
      "text/plain": [
       "<IPython.core.display.HTML object>"
      ]
     },
     "metadata": {},
     "output_type": "display_data"
    }
   ],
   "source": [
    "#hide_input\n",
    "update = summary['updated']\n",
    "cases = summary['Cases']\n",
    "new = summary['Cases (+)']\n",
    "deaths = summary['Deaths']\n",
    "dnew = summary['Deaths (+)']\n",
    "\n",
    "html = HTML(overview.format(update=update, cases=cases,new=new,deaths=deaths,dnew=dnew))\n",
    "\n",
    "display(html)"
   ]
  },
  {
   "cell_type": "code",
   "execution_count": 17,
   "id": "sealed-reset",
   "metadata": {
    "execution": {
     "iopub.execute_input": "2021-05-03T13:45:43.491280Z",
     "iopub.status.busy": "2021-05-03T13:45:43.490418Z",
     "iopub.status.idle": "2021-05-03T13:45:43.496821Z",
     "shell.execute_reply": "2021-05-03T13:45:43.496183Z"
    },
    "papermill": {
     "duration": 0.034678,
     "end_time": "2021-05-03T13:45:43.496931",
     "exception": false,
     "start_time": "2021-05-03T13:45:43.462253",
     "status": "completed"
    },
    "tags": []
   },
   "outputs": [],
   "source": [
    "#hide\n",
    "dt_cols = list(dft_cases.columns[1:])\n",
    "dft_ct_new_cases = dft_cases.groupby('state')[dt_cols].sum().diff(axis=1).fillna(0).astype(int)\n",
    "dft_ct_new_cases.sort_values(by = dates[-1], ascending = False,inplace = True)"
   ]
  },
  {
   "cell_type": "code",
   "execution_count": 18,
   "id": "designed-constant",
   "metadata": {
    "execution": {
     "iopub.execute_input": "2021-05-03T13:45:43.555113Z",
     "iopub.status.busy": "2021-05-03T13:45:43.554518Z",
     "iopub.status.idle": "2021-05-03T13:45:43.557188Z",
     "shell.execute_reply": "2021-05-03T13:45:43.557624Z"
    },
    "papermill": {
     "duration": 0.041431,
     "end_time": "2021-05-03T13:45:43.557750",
     "exception": false,
     "start_time": "2021-05-03T13:45:43.516319",
     "status": "completed"
    },
    "tags": []
   },
   "outputs": [
    {
     "data": {
      "text/html": [
       "<div>\n",
       "<style scoped>\n",
       "    .dataframe tbody tr th:only-of-type {\n",
       "        vertical-align: middle;\n",
       "    }\n",
       "\n",
       "    .dataframe tbody tr th {\n",
       "        vertical-align: top;\n",
       "    }\n",
       "\n",
       "    .dataframe thead th {\n",
       "        text-align: right;\n",
       "    }\n",
       "</style>\n",
       "<table border=\"1\" class=\"dataframe\">\n",
       "  <thead>\n",
       "    <tr style=\"text-align: right;\">\n",
       "      <th>states</th>\n",
       "      <th>2020-07-01</th>\n",
       "      <th>2020-07-02</th>\n",
       "      <th>2020-07-03</th>\n",
       "      <th>2020-07-04</th>\n",
       "      <th>2020-07-05</th>\n",
       "      <th>2020-07-06</th>\n",
       "      <th>2020-07-07</th>\n",
       "      <th>2020-07-08</th>\n",
       "      <th>2020-07-09</th>\n",
       "      <th>2020-07-10</th>\n",
       "      <th>...</th>\n",
       "      <th>2021-04-24</th>\n",
       "      <th>2021-04-25</th>\n",
       "      <th>2021-04-26</th>\n",
       "      <th>2021-04-27</th>\n",
       "      <th>2021-04-28</th>\n",
       "      <th>2021-04-29</th>\n",
       "      <th>2021-04-30</th>\n",
       "      <th>2021-05-01</th>\n",
       "      <th>2021-05-02</th>\n",
       "      <th>2021-05-03</th>\n",
       "    </tr>\n",
       "    <tr>\n",
       "      <th>state</th>\n",
       "      <th></th>\n",
       "      <th></th>\n",
       "      <th></th>\n",
       "      <th></th>\n",
       "      <th></th>\n",
       "      <th></th>\n",
       "      <th></th>\n",
       "      <th></th>\n",
       "      <th></th>\n",
       "      <th></th>\n",
       "      <th></th>\n",
       "      <th></th>\n",
       "      <th></th>\n",
       "      <th></th>\n",
       "      <th></th>\n",
       "      <th></th>\n",
       "      <th></th>\n",
       "      <th></th>\n",
       "      <th></th>\n",
       "      <th></th>\n",
       "      <th></th>\n",
       "    </tr>\n",
       "  </thead>\n",
       "  <tbody>\n",
       "    <tr>\n",
       "      <th>Uttar Pradesh</th>\n",
       "      <td>0</td>\n",
       "      <td>769</td>\n",
       "      <td>972</td>\n",
       "      <td>757</td>\n",
       "      <td>1153</td>\n",
       "      <td>929</td>\n",
       "      <td>1332</td>\n",
       "      <td>1188</td>\n",
       "      <td>1206</td>\n",
       "      <td>1338</td>\n",
       "      <td>...</td>\n",
       "      <td>37944</td>\n",
       "      <td>35311</td>\n",
       "      <td>33551</td>\n",
       "      <td>32921</td>\n",
       "      <td>29751</td>\n",
       "      <td>35104</td>\n",
       "      <td>34372</td>\n",
       "      <td>30180</td>\n",
       "      <td>30857</td>\n",
       "      <td>29052</td>\n",
       "    </tr>\n",
       "    <tr>\n",
       "      <th>Odisha</th>\n",
       "      <td>0</td>\n",
       "      <td>229</td>\n",
       "      <td>561</td>\n",
       "      <td>495</td>\n",
       "      <td>469</td>\n",
       "      <td>456</td>\n",
       "      <td>571</td>\n",
       "      <td>527</td>\n",
       "      <td>577</td>\n",
       "      <td>755</td>\n",
       "      <td>...</td>\n",
       "      <td>6647</td>\n",
       "      <td>6116</td>\n",
       "      <td>6599</td>\n",
       "      <td>6073</td>\n",
       "      <td>8386</td>\n",
       "      <td>6998</td>\n",
       "      <td>8681</td>\n",
       "      <td>10413</td>\n",
       "      <td>8015</td>\n",
       "      <td>8914</td>\n",
       "    </tr>\n",
       "    <tr>\n",
       "      <th>Telangana</th>\n",
       "      <td>0</td>\n",
       "      <td>1213</td>\n",
       "      <td>1892</td>\n",
       "      <td>1850</td>\n",
       "      <td>1590</td>\n",
       "      <td>1831</td>\n",
       "      <td>1879</td>\n",
       "      <td>1924</td>\n",
       "      <td>1410</td>\n",
       "      <td>1278</td>\n",
       "      <td>...</td>\n",
       "      <td>7432</td>\n",
       "      <td>8126</td>\n",
       "      <td>6551</td>\n",
       "      <td>10122</td>\n",
       "      <td>8061</td>\n",
       "      <td>7994</td>\n",
       "      <td>7646</td>\n",
       "      <td>7754</td>\n",
       "      <td>7430</td>\n",
       "      <td>5695</td>\n",
       "    </tr>\n",
       "    <tr>\n",
       "      <th>Puducherry</th>\n",
       "      <td>0</td>\n",
       "      <td>63</td>\n",
       "      <td>22</td>\n",
       "      <td>80</td>\n",
       "      <td>42</td>\n",
       "      <td>65</td>\n",
       "      <td>30</td>\n",
       "      <td>110</td>\n",
       "      <td>49</td>\n",
       "      <td>72</td>\n",
       "      <td>...</td>\n",
       "      <td>899</td>\n",
       "      <td>1008</td>\n",
       "      <td>747</td>\n",
       "      <td>1021</td>\n",
       "      <td>1258</td>\n",
       "      <td>1122</td>\n",
       "      <td>1195</td>\n",
       "      <td>1379</td>\n",
       "      <td>1360</td>\n",
       "      <td>799</td>\n",
       "    </tr>\n",
       "    <tr>\n",
       "      <th>Meghalaya</th>\n",
       "      <td>0</td>\n",
       "      <td>3</td>\n",
       "      <td>4</td>\n",
       "      <td>8</td>\n",
       "      <td>2</td>\n",
       "      <td>16</td>\n",
       "      <td>6</td>\n",
       "      <td>6</td>\n",
       "      <td>13</td>\n",
       "      <td>73</td>\n",
       "      <td>...</td>\n",
       "      <td>155</td>\n",
       "      <td>208</td>\n",
       "      <td>130</td>\n",
       "      <td>147</td>\n",
       "      <td>159</td>\n",
       "      <td>187</td>\n",
       "      <td>229</td>\n",
       "      <td>262</td>\n",
       "      <td>321</td>\n",
       "      <td>246</td>\n",
       "    </tr>\n",
       "  </tbody>\n",
       "</table>\n",
       "<p>5 rows × 307 columns</p>\n",
       "</div>"
      ],
      "text/plain": [
       "states         2020-07-01  2020-07-02  2020-07-03  2020-07-04  2020-07-05  \\\n",
       "state                                                                       \n",
       "Uttar Pradesh           0         769         972         757        1153   \n",
       "Odisha                  0         229         561         495         469   \n",
       "Telangana               0        1213        1892        1850        1590   \n",
       "Puducherry              0          63          22          80          42   \n",
       "Meghalaya               0           3           4           8           2   \n",
       "\n",
       "states         2020-07-06  2020-07-07  2020-07-08  2020-07-09  2020-07-10  \\\n",
       "state                                                                       \n",
       "Uttar Pradesh         929        1332        1188        1206        1338   \n",
       "Odisha                456         571         527         577         755   \n",
       "Telangana            1831        1879        1924        1410        1278   \n",
       "Puducherry             65          30         110          49          72   \n",
       "Meghalaya              16           6           6          13          73   \n",
       "\n",
       "states         ...  2021-04-24  2021-04-25  2021-04-26  2021-04-27  \\\n",
       "state          ...                                                   \n",
       "Uttar Pradesh  ...       37944       35311       33551       32921   \n",
       "Odisha         ...        6647        6116        6599        6073   \n",
       "Telangana      ...        7432        8126        6551       10122   \n",
       "Puducherry     ...         899        1008         747        1021   \n",
       "Meghalaya      ...         155         208         130         147   \n",
       "\n",
       "states         2021-04-28  2021-04-29  2021-04-30  2021-05-01  2021-05-02  \\\n",
       "state                                                                       \n",
       "Uttar Pradesh       29751       35104       34372       30180       30857   \n",
       "Odisha               8386        6998        8681       10413        8015   \n",
       "Telangana            8061        7994        7646        7754        7430   \n",
       "Puducherry           1258        1122        1195        1379        1360   \n",
       "Meghalaya             159         187         229         262         321   \n",
       "\n",
       "states         2021-05-03  \n",
       "state                      \n",
       "Uttar Pradesh       29052  \n",
       "Odisha               8914  \n",
       "Telangana            5695  \n",
       "Puducherry            799  \n",
       "Meghalaya             246  \n",
       "\n",
       "[5 rows x 307 columns]"
      ]
     },
     "execution_count": 18,
     "metadata": {},
     "output_type": "execute_result"
    }
   ],
   "source": [
    "#hide\n",
    "dft_ct_new_cases.head()"
   ]
  },
  {
   "cell_type": "code",
   "execution_count": 19,
   "id": "responsible-nightlife",
   "metadata": {
    "execution": {
     "iopub.execute_input": "2021-05-03T13:45:43.605249Z",
     "iopub.status.busy": "2021-05-03T13:45:43.604236Z",
     "iopub.status.idle": "2021-05-03T13:45:58.342334Z",
     "shell.execute_reply": "2021-05-03T13:45:58.342791Z"
    },
    "papermill": {
     "duration": 14.764498,
     "end_time": "2021-05-03T13:45:58.342933",
     "exception": false,
     "start_time": "2021-05-03T13:45:43.578435",
     "status": "completed"
    },
    "tags": []
   },
   "outputs": [
    {
     "data": {
      "image/png": "[encoded data removed]",
      "text/plain": [
       "<Figure size 1296x2016 with 11 Axes>"
      ]
     },
     "metadata": {
      "needs_background": "light"
     },
     "output_type": "display_data"
    }
   ],
   "source": [
    "#hide_input\n",
    "df = dft_ct_new_cases.copy()\n",
    "df.loc['Total'] = df.sum()\n",
    "n = 5\n",
    "ax = []\n",
    "fig = plt.figure(figsize = (18,28))\n",
    "gs = fig.add_gridspec(n+2, 5)\n",
    "# gs = fig.add_gridspec(2, 3)\n",
    "ax1 = fig.add_subplot(gs[0, :])\n",
    "ef = df.loc['Total'].rename_axis('date').reset_index()\n",
    "ef['date'] = ef['date'].astype('datetime64[ns]')\n",
    "ax1.bar(ef.date,ef.Total,alpha=0.3,color='#007acc')\n",
    "ax1.plot(ef.date,ef.Total , marker=\"o\", color='#007acc')\n",
    "ax1.xaxis.set_major_locator(mdates.WeekdayLocator())\n",
    "ax1.xaxis.set_major_formatter(mdates.DateFormatter('%b %d'))\n",
    "ax1.text(0.02, 0.5,'India daily case count', transform = ax1.transAxes, fontsize=25);\n",
    "ax1.spines['right'].set_visible(False)\n",
    "ax1.spines['top'].set_visible(False)\n",
    "\n",
    "ax2 = fig.add_subplot(gs[1,0])\n",
    "ef = df.loc['Maharashtra'].rename_axis('date').reset_index()\n",
    "ef['date'] = ef['date'].astype('datetime64[ns]')\n",
    "\n",
    "ax2.bar(ef.date, ef.Maharashtra,color = '#007acc',alpha=0.5)\n",
    "ax2.xaxis.set_major_locator(mdates.WeekdayLocator())\n",
    "ax2.xaxis.set_major_formatter(mdates.DateFormatter('%b %d'))\n",
    "ax2.set_xticks(ax2.get_xticks()[::3])\n",
    "maxyval = ef.Maharashtra.max()\n",
    "ax2.set_ylim([0,maxyval])\n",
    "ax2.text(0.05, 0.9,'Maharashtra', transform = ax2.transAxes, fontsize=20);\n",
    "ax2.spines['right'].set_visible(False)\n",
    "ax2.spines['top'].set_visible(False)\n",
    "\n",
    "\n",
    "ax3 = fig.add_subplot(gs[1,1])\n",
    "ef = df.loc['Tamil Nadu'].rename_axis('date').reset_index()\n",
    "ef['date'] = ef['date'].astype('datetime64[ns]')\n",
    "ax3.bar(ef.date, ef['Tamil Nadu'],color = '#007acc',alpha=0.5,)\n",
    "ax3.xaxis.set_major_locator(mdates.WeekdayLocator())\n",
    "ax3.xaxis.set_major_formatter(mdates.DateFormatter('%b %d'))\n",
    "ax3.set_xticks(ax3.get_xticks()[::3])\n",
    "ax3.text(0.05, 0.9,'Tamil Nadu', transform = ax3.transAxes, fontsize=20);\n",
    "ax3.spines['right'].set_visible(False)\n",
    "ax3.spines['top'].set_visible(False)\n",
    "\n",
    "ax5 = fig.add_subplot(gs[1,3])\n",
    "ef = df.loc['Telangana'].rename_axis('date').reset_index()\n",
    "ef['date'] = ef['date'].astype('datetime64[ns]')\n",
    "ax5.bar(ef.date, ef['Telangana'],color = '#007acc',alpha=0.5,)\n",
    "ax5.xaxis.set_major_locator(mdates.WeekdayLocator())\n",
    "ax5.xaxis.set_major_formatter(mdates.DateFormatter('%b %d'))\n",
    "ax5.set_xticks(ax5.get_xticks()[::3])\n",
    "ax5.text(0.05, 0.9,'Telangana', transform = ax5.transAxes, fontsize=20);\n",
    "ax5.spines['right'].set_visible(False)\n",
    "ax5.spines['top'].set_visible(False)\n",
    "\n",
    "ax6 = fig.add_subplot(gs[1,4])\n",
    "ef = df.loc['Andhra Pradesh'].rename_axis('date').reset_index()\n",
    "ef['date'] = ef['date'].astype('datetime64[ns]')\n",
    "ax6.bar(ef.date, ef['Andhra Pradesh'],color = '#007acc',alpha=0.5,)\n",
    "ax6.xaxis.set_major_locator(mdates.WeekdayLocator())\n",
    "ax6.xaxis.set_major_formatter(mdates.DateFormatter('%b %d'))\n",
    "ax6.set_xticks(ax6.get_xticks()[::3])\n",
    "ax6.text(0.05, 1,'Andhra Pradesh', transform = ax6.transAxes, fontsize=20);\n",
    "ax6.spines['right'].set_visible(False)\n",
    "ax6.spines['top'].set_visible(False)\n",
    "\n",
    "ax4 = fig.add_subplot(gs[1,2])\n",
    "ef = df.loc['Delhi'].rename_axis('date').reset_index()\n",
    "ef['date'] = ef['date'].astype('datetime64[ns]')\n",
    "ax4.bar(ef.date, ef.Delhi,color = '#007acc',alpha=0.5)\n",
    "ax4.set_xticks([])\n",
    "ax4.xaxis.set_major_locator(mdates.WeekdayLocator())\n",
    "ax4.xaxis.set_major_formatter(mdates.DateFormatter('%b %d'))\n",
    "ax4.set_xticks(ax4.get_xticks()[::3])\n",
    "ax4.spines['right'].set_visible(False)\n",
    "ax4.spines['top'].set_visible(False)\n",
    "\n",
    "ax4.text(0.05, 1,'Delhi', transform = ax4.transAxes, fontsize=20)\n",
    "\n",
    "for i in range(n):\n",
    "    \n",
    "    ax.append(fig.add_subplot(gs[i+2,:]))\n",
    "    ef = df.iloc[i+3].rename_axis('date').reset_index()\n",
    "    ef['date'] = ef['date'].astype('datetime64[ns]')\n",
    "    ax[i].bar(ef.date,ef.iloc[:,-1],color = '#007acc',alpha=0.3)\n",
    "    ax[i].plot(ef.date,ef.iloc[:,-1],marker='o',color='#007acc')\n",
    "    ax[i].text(0.02,0.5,f'{ef.columns.values[-1]}',transform = ax[i].transAxes, fontsize = 20);\n",
    "    ax[i].xaxis.set_major_locator(mdates.WeekdayLocator())\n",
    "    ax[i].xaxis.set_major_formatter(mdates.DateFormatter('%b %d'))\n",
    "    ax[i].set_ylim([0,7000])\n",
    "    ax[i].spines['right'].set_visible(False)\n",
    "    ax[i].spines['top'].set_visible(False)\n",
    "plt.tight_layout()\n"
   ]
  },
  {
   "cell_type": "code",
   "execution_count": 20,
   "id": "dress-forge",
   "metadata": {
    "execution": {
     "iopub.execute_input": "2021-05-03T13:45:58.400602Z",
     "iopub.status.busy": "2021-05-03T13:45:58.399962Z",
     "iopub.status.idle": "2021-05-03T13:45:58.403369Z",
     "shell.execute_reply": "2021-05-03T13:45:58.402845Z"
    },
    "papermill": {
     "duration": 0.037851,
     "end_time": "2021-05-03T13:45:58.403501",
     "exception": false,
     "start_time": "2021-05-03T13:45:58.365650",
     "status": "completed"
    },
    "tags": []
   },
   "outputs": [
    {
     "name": "stdout",
     "output_type": "stream",
     "text": [
      "                                   states    Cases  Deaths   PCases  PDeaths  Cases (+)  Deaths (+)  Fatality Rate\n",
      "                              Maharashtra  4722401   70284  4722401    70284          0           0           1.49\n",
      "                                   Kerala  1638779    5406  1638779     5406          0           0           0.33\n",
      "                                Karnataka  1601865   16011  1601865    16011          0           0           1.00\n",
      "                            Uttar Pradesh  1342413   13447  1313361    13162      29052         285           1.00\n",
      "                               Tamil Nadu  1207112   14346  1207112    14346          0           0           1.19\n",
      "                                    Delhi  1194946   16966  1194946    16966          0           0           1.42\n",
      "                           Andhra Pradesh  1145022    8136  1145022     8136          0           0           0.71\n",
      "                              West Bengal   863393   11539   863393    11539          0           0           1.34\n",
      "                             Chhattisgarh   756427    9009   756427     9009          0           0           1.19\n",
      "                                Rajasthan   633951    4558   633951     4558          0           0           0.72\n",
      "                                  Gujarat   594602    7508   594602     7508          0           0           1.26\n",
      "                           Madhya Pradesh   588368    5812   588368     5812          0           0           0.99\n",
      "                                  Haryana   514888    4486   514888     4486          0           0           0.87\n",
      "                                    Bihar   497640    2739   497640     2739          0           0           0.55\n",
      "                                   Odisha   471536    2126   462622     2121       8914           5           0.45\n",
      "                                Telangana   456485    2417   450790     2368       5695          49           0.53\n",
      "                                   Punjab   385270    9317   385270     9317          0           0           2.42\n",
      "                                    Assam   258961    1360   258961     1360          0           0           0.53\n",
      "                                Jharkhand   244472    2944   244472     2944          0           0           1.20\n",
      "                              Uttarakhand   191620    2802   191620     2802          0           0           1.46\n",
      "                        Jammu and Kashmir   183486    2370   183486     2370          0           0           1.29\n",
      "                         Himachal Pradesh   104491    1556   104491     1556          0           0           1.49\n",
      "                                      Goa    95385    1274    95385     1274          0           0           1.34\n",
      "                               Puducherry    62160     848    61361      833        799          15           1.36\n",
      "                               Chandigarh    44306     496    44306      496          0           0           1.12\n",
      "                                  Tripura    35720     396    35586      395        134           1           1.11\n",
      "                                  Manipur    32161     415    32161      415          0           0           1.29\n",
      "                        Arunachal Pradesh    18739      59    18739       59          0           0           0.31\n",
      "                                Meghalaya    17675     185    17429      179        246           6           1.05\n",
      "                                 Nagaland    14350     109    14350      109          0           0           0.76\n",
      "                                   Ladakh    14226     145    14226      145          0           0           1.02\n",
      "                                   Sikkim     8468     150     8441      149         27           1           1.77\n",
      " Dadra and Nagar Haveli and Daman and Diu     8034       4     8034        4          0           0           0.05\n",
      "                                  Mizoram     6358      16     6284       16         74           0           0.25\n",
      "              Andaman and Nicobar Islands     6084      69     6084       69          0           0           1.13\n",
      "                              Lakshadweep     3010       4     3010        4          0           0           0.13\n"
     ]
    }
   ],
   "source": [
    "#hide_input\n",
    "print(df_table.to_string(index=False))"
   ]
  },
  {
   "cell_type": "code",
   "execution_count": null,
   "id": "quantitative-legend",
   "metadata": {
    "papermill": {
     "duration": 0.026344,
     "end_time": "2021-05-03T13:45:58.454666",
     "exception": false,
     "start_time": "2021-05-03T13:45:58.428322",
     "status": "completed"
    },
    "tags": []
   },
   "outputs": [],
   "source": []
  },
  {
   "cell_type": "code",
   "execution_count": null,
   "id": "distant-acoustic",
   "metadata": {
    "papermill": {
     "duration": 0.024325,
     "end_time": "2021-05-03T13:45:58.506777",
     "exception": false,
     "start_time": "2021-05-03T13:45:58.482452",
     "status": "completed"
    },
    "tags": []
   },
   "outputs": [],
   "source": []
  }
 ],
 "metadata": {
  "kernelspec": {
   "display_name": "Python 3",
   "language": "python",
   "name": "python3"
  },
  "language_info": {
   "codemirror_mode": {
    "name": "ipython",
    "version": 3
   },
   "file_extension": ".py",
   "mimetype": "text/x-python",
   "name": "python",
   "nbconvert_exporter": "python",
   "pygments_lexer": "ipython3",
   "version": "3.6.13"
  },
  "papermill": {
   "duration": 30.322907,
   "end_time": "2021-05-03T13:45:59.889590",
   "environment_variables": {},
   "exception": null,
   "input_path": "latest.ipynb",
   "output_path": "latest.ipynb",
   "parameters": {},
   "start_time": "2021-05-03T13:45:29.566683",
   "version": "2.1.2"
  }
 },
 "nbformat": 4,
 "nbformat_minor": 5
}