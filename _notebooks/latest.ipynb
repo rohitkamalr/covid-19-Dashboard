{
 "cells": [
  {
   "cell_type": "markdown",
   "metadata": {
    "papermill": {
     "duration": 0.019592,
     "end_time": "2020-09-11T11:51:52.120056",
     "exception": false,
     "start_time": "2020-09-11T11:51:52.100464",
     "status": "completed"
    },
    "tags": []
   },
   "source": [
    "# Latest COVID-19 India Matplotlib Overview"
   ]
  },
  {
   "cell_type": "code",
   "execution_count": 1,
   "metadata": {
    "execution": {
     "iopub.execute_input": "2020-09-11T11:51:52.159276Z",
     "iopub.status.busy": "2020-09-11T11:51:52.158140Z",
     "iopub.status.idle": "2020-09-11T11:51:52.771047Z",
     "shell.execute_reply": "2020-09-11T11:51:52.770313Z"
    },
    "papermill": {
     "duration": 0.634469,
     "end_time": "2020-09-11T11:51:52.771249",
     "exception": false,
     "start_time": "2020-09-11T11:51:52.136780",
     "status": "completed"
    },
    "tags": []
   },
   "outputs": [],
   "source": [
    "#hide\n",
    "import pandas as pd\n",
    "import numpy as np\n",
    "import requests\n",
    "import json\n",
    "import matplotlib.pyplot as plt\n",
    "import matplotlib.dates as mdates\n",
    "import matplotlib as mpl\n",
    "from IPython.core.display import display,HTML\n",
    "%matplotlib inline\n",
    "from datetime import date"
   ]
  },
  {
   "cell_type": "code",
   "execution_count": 2,
   "metadata": {
    "execution": {
     "iopub.execute_input": "2020-09-11T11:51:52.813184Z",
     "iopub.status.busy": "2020-09-11T11:51:52.812541Z",
     "iopub.status.idle": "2020-09-11T11:51:53.037088Z",
     "shell.execute_reply": "2020-09-11T11:51:53.036458Z"
    },
    "papermill": {
     "duration": 0.24895,
     "end_time": "2020-09-11T11:51:53.037225",
     "exception": false,
     "start_time": "2020-09-11T11:51:52.788275",
     "status": "completed"
    },
    "tags": []
   },
   "outputs": [],
   "source": [
    "#hide\n",
    "df  = pd.read_csv('https://api.covid19india.org/csv/latest/states.csv')\n",
    "df = df[['Date','State','Confirmed','Deceased']]\n",
    "df = df.rename(columns={'Confirmed':'Cases', \"Deceased\":'Deaths'})\n",
    "df_cases = df[[\"Date\",'State','Cases']]\n",
    "df_deaths = df[['Date','State','Deaths']]\n",
    "df_cases1 = df_cases.groupby('Date')\n",
    "df_deaths1= df_deaths.groupby('Date')"
   ]
  },
  {
   "cell_type": "code",
   "execution_count": 3,
   "metadata": {
    "execution": {
     "iopub.execute_input": "2020-09-11T11:51:53.080974Z",
     "iopub.status.busy": "2020-09-11T11:51:53.080208Z",
     "iopub.status.idle": "2020-09-11T11:51:53.100027Z",
     "shell.execute_reply": "2020-09-11T11:51:53.100951Z"
    },
    "papermill": {
     "duration": 0.046959,
     "end_time": "2020-09-11T11:51:53.101138",
     "exception": false,
     "start_time": "2020-09-11T11:51:53.054179",
     "status": "completed"
    },
    "tags": []
   },
   "outputs": [],
   "source": [
    "#hide\n",
    "df_snap = pd.read_csv('data/SnapshotCases-28-July.csv')\n",
    "arr_states = df_snap['states'].unique()\n",
    "arr_dates = df['Date'].unique()\n",
    "df_snap = df_snap.set_index('states')"
   ]
  },
  {
   "cell_type": "code",
   "execution_count": 4,
   "metadata": {
    "execution": {
     "iopub.execute_input": "2020-09-11T11:51:53.140462Z",
     "iopub.status.busy": "2020-09-11T11:51:53.139857Z",
     "iopub.status.idle": "2020-09-11T11:51:53.143602Z",
     "shell.execute_reply": "2020-09-11T11:51:53.142782Z"
    },
    "papermill": {
     "duration": 0.026779,
     "end_time": "2020-09-11T11:51:53.143750",
     "exception": false,
     "start_time": "2020-09-11T11:51:53.116971",
     "status": "completed"
    },
    "tags": []
   },
   "outputs": [
    {
     "data": {
      "text/plain": [
       "array(['Andaman and Nicobar Islands', 'Andhra Pradesh',\n",
       "       'Arunachal Pradesh', 'Assam', 'Bihar', 'Chandigarh',\n",
       "       'Dadra and Nagar Haveli and Daman and Diu', 'Delhi', 'Goa',\n",
       "       'Gujarat', 'Haryana', 'Himachal Pradesh', 'Jammu and Kashmir',\n",
       "       'Jharkhand', 'Karnataka', 'Kerala', 'Lakshadweep',\n",
       "       'Madhya Pradesh', 'Maharashtra', 'Manipur', 'Meghalaya', 'Mizoram',\n",
       "       'Nagaland', 'Odisha', 'Puducherry', 'Punjab', 'Rajasthan',\n",
       "       'Sikkim', 'Tamil Nadu', 'Telangana', 'Tripura', 'Uttar Pradesh',\n",
       "       'West Bengal', 'Chhattisgarh', 'Ladakh', 'Uttarakhand'],\n",
       "      dtype=object)"
      ]
     },
     "execution_count": 4,
     "metadata": {},
     "output_type": "execute_result"
    }
   ],
   "source": [
    "#hide\n",
    "arr_states[-9] = 'Puducherry'\n",
    "arr_states[-10] = 'Odisha'\n",
    "arr_states[6] = 'Dadra and Nagar Haveli and Daman and Diu'\n",
    "arr_states = np.append(arr_states,np.array(['Chhattisgarh','Ladakh','Uttarakhand']))\n",
    "arr_states"
   ]
  },
  {
   "cell_type": "code",
   "execution_count": 5,
   "metadata": {
    "execution": {
     "iopub.execute_input": "2020-09-11T11:51:53.191049Z",
     "iopub.status.busy": "2020-09-11T11:51:53.184511Z",
     "iopub.status.idle": "2020-09-11T11:51:53.194156Z",
     "shell.execute_reply": "2020-09-11T11:51:53.193679Z"
    },
    "papermill": {
     "duration": 0.033956,
     "end_time": "2020-09-11T11:51:53.194268",
     "exception": false,
     "start_time": "2020-09-11T11:51:53.160312",
     "status": "completed"
    },
    "tags": []
   },
   "outputs": [],
   "source": [
    "#hide\n",
    "dates = []\n",
    "for i in arr_dates:\n",
    "    if i>='2020-07-01':\n",
    "        dates.append(i)\n",
    "dict = {'states':dates}\n",
    "for i in arr_states:\n",
    "    dict[i] = [0]*len(dates)\n",
    "dft_cases = pd.DataFrame(dict)\n",
    "dft_deaths = pd.DataFrame(dict)\n"
   ]
  },
  {
   "cell_type": "code",
   "execution_count": 6,
   "metadata": {
    "execution": {
     "iopub.execute_input": "2020-09-11T11:51:53.231761Z",
     "iopub.status.busy": "2020-09-11T11:51:53.231084Z",
     "iopub.status.idle": "2020-09-11T11:51:54.524577Z",
     "shell.execute_reply": "2020-09-11T11:51:54.523999Z"
    },
    "papermill": {
     "duration": 1.315049,
     "end_time": "2020-09-11T11:51:54.524718",
     "exception": false,
     "start_time": "2020-09-11T11:51:53.209669",
     "status": "completed"
    },
    "tags": []
   },
   "outputs": [],
   "source": [
    "#hide\n",
    "for i in range(len(dates)):\n",
    "    df1_deaths = df_deaths1.get_group(dates[i])\n",
    "    for j in range(len(df1_deaths.index)):\n",
    "        if df1_deaths.iloc[j,1] in arr_states:\n",
    "            dft_deaths.loc[i,df1_deaths.iloc[j,1]] = df1_deaths.iloc[j,2]\n",
    "dft_deaths = dft_deaths.set_index('states')"
   ]
  },
  {
   "cell_type": "code",
   "execution_count": 7,
   "metadata": {
    "execution": {
     "iopub.execute_input": "2020-09-11T11:51:55.012498Z",
     "iopub.status.busy": "2020-09-11T11:51:55.011748Z",
     "iopub.status.idle": "2020-09-11T11:51:56.309149Z",
     "shell.execute_reply": "2020-09-11T11:51:56.308549Z"
    },
    "papermill": {
     "duration": 1.766896,
     "end_time": "2020-09-11T11:51:56.309325",
     "exception": false,
     "start_time": "2020-09-11T11:51:54.542429",
     "status": "completed"
    },
    "tags": []
   },
   "outputs": [],
   "source": [
    "#hide\n",
    "for i in range(len(dates)):\n",
    "    df1_cases = df_cases1.get_group(dates[i])\n",
    "    for j in range(len(df1_cases.index)):\n",
    "        if df1_cases.iloc[j,1] in arr_states:\n",
    "            dft_cases.loc[i,df1_cases.iloc[j,1]] = df1_cases.iloc[j,2]\n",
    "dft_cases = dft_cases.set_index('states')"
   ]
  },
  {
   "cell_type": "code",
   "execution_count": 8,
   "metadata": {
    "execution": {
     "iopub.execute_input": "2020-09-11T11:51:56.349641Z",
     "iopub.status.busy": "2020-09-11T11:51:56.348116Z",
     "iopub.status.idle": "2020-09-11T11:51:56.350295Z",
     "shell.execute_reply": "2020-09-11T11:51:56.350809Z"
    },
    "papermill": {
     "duration": 0.025298,
     "end_time": "2020-09-11T11:51:56.350943",
     "exception": false,
     "start_time": "2020-09-11T11:51:56.325645",
     "status": "completed"
    },
    "tags": []
   },
   "outputs": [],
   "source": [
    "#hide\n",
    "dft_cases = dft_cases.T\n",
    "dft_deaths = dft_deaths.T\n",
    "dt_today = dates[-1]\n",
    "dt_yday = dates[-2]"
   ]
  },
  {
   "cell_type": "code",
   "execution_count": 9,
   "metadata": {
    "execution": {
     "iopub.execute_input": "2020-09-11T11:51:56.388025Z",
     "iopub.status.busy": "2020-09-11T11:51:56.387379Z",
     "iopub.status.idle": "2020-09-11T11:51:56.392522Z",
     "shell.execute_reply": "2020-09-11T11:51:56.392046Z"
    },
    "papermill": {
     "duration": 0.025944,
     "end_time": "2020-09-11T11:51:56.392635",
     "exception": false,
     "start_time": "2020-09-11T11:51:56.366691",
     "status": "completed"
    },
    "tags": []
   },
   "outputs": [],
   "source": [
    "#hide\n",
    "dft_cases = dft_cases.reset_index()\n",
    "dft_deaths = dft_deaths.reset_index()\n",
    "dft_cases = dft_cases.rename(columns = {'index':'state'})\n",
    "dft_deaths = dft_deaths.rename(columns = {'index':'state'})"
   ]
  },
  {
   "cell_type": "code",
   "execution_count": 10,
   "metadata": {
    "execution": {
     "iopub.execute_input": "2020-09-11T11:51:56.436978Z",
     "iopub.status.busy": "2020-09-11T11:51:56.436320Z",
     "iopub.status.idle": "2020-09-11T11:51:56.438688Z",
     "shell.execute_reply": "2020-09-11T11:51:56.439284Z"
    },
    "papermill": {
     "duration": 0.031117,
     "end_time": "2020-09-11T11:51:56.439418",
     "exception": false,
     "start_time": "2020-09-11T11:51:56.408301",
     "status": "completed"
    },
    "tags": []
   },
   "outputs": [],
   "source": [
    "#hide\n",
    "dfc_cases = dft_cases.groupby('state')[dt_today].sum()\n",
    "dfc_deaths = dft_deaths.groupby('state')[dt_today].sum()\n",
    "dfp_cases = dft_cases.groupby('state')[dt_yday].sum()\n",
    "dfp_deaths = dft_deaths.groupby('state')[dt_yday].sum()"
   ]
  },
  {
   "cell_type": "code",
   "execution_count": 11,
   "metadata": {
    "execution": {
     "iopub.execute_input": "2020-09-11T11:51:56.483068Z",
     "iopub.status.busy": "2020-09-11T11:51:56.482444Z",
     "iopub.status.idle": "2020-09-11T11:51:56.497085Z",
     "shell.execute_reply": "2020-09-11T11:51:56.496617Z"
    },
    "papermill": {
     "duration": 0.041049,
     "end_time": "2020-09-11T11:51:56.497230",
     "exception": false,
     "start_time": "2020-09-11T11:51:56.456181",
     "status": "completed"
    },
    "tags": []
   },
   "outputs": [
    {
     "data": {
      "text/html": [
       "<div>\n",
       "<style scoped>\n",
       "    .dataframe tbody tr th:only-of-type {\n",
       "        vertical-align: middle;\n",
       "    }\n",
       "\n",
       "    .dataframe tbody tr th {\n",
       "        vertical-align: top;\n",
       "    }\n",
       "\n",
       "    .dataframe thead th {\n",
       "        text-align: right;\n",
       "    }\n",
       "</style>\n",
       "<table border=\"1\" class=\"dataframe\">\n",
       "  <thead>\n",
       "    <tr style=\"text-align: right;\">\n",
       "      <th></th>\n",
       "      <th>states</th>\n",
       "      <th>Cases</th>\n",
       "      <th>Deaths</th>\n",
       "      <th>PCases</th>\n",
       "      <th>PDeaths</th>\n",
       "    </tr>\n",
       "  </thead>\n",
       "  <tbody>\n",
       "    <tr>\n",
       "      <th>0</th>\n",
       "      <td>Maharashtra</td>\n",
       "      <td>990795</td>\n",
       "      <td>28282</td>\n",
       "      <td>990795</td>\n",
       "      <td>28282</td>\n",
       "    </tr>\n",
       "    <tr>\n",
       "      <th>1</th>\n",
       "      <td>Andhra Pradesh</td>\n",
       "      <td>537687</td>\n",
       "      <td>4702</td>\n",
       "      <td>537687</td>\n",
       "      <td>4702</td>\n",
       "    </tr>\n",
       "    <tr>\n",
       "      <th>2</th>\n",
       "      <td>Tamil Nadu</td>\n",
       "      <td>486052</td>\n",
       "      <td>8157</td>\n",
       "      <td>486052</td>\n",
       "      <td>8157</td>\n",
       "    </tr>\n",
       "    <tr>\n",
       "      <th>3</th>\n",
       "      <td>Karnataka</td>\n",
       "      <td>430947</td>\n",
       "      <td>6937</td>\n",
       "      <td>430947</td>\n",
       "      <td>6937</td>\n",
       "    </tr>\n",
       "    <tr>\n",
       "      <th>4</th>\n",
       "      <td>Uttar Pradesh</td>\n",
       "      <td>292029</td>\n",
       "      <td>4206</td>\n",
       "      <td>292029</td>\n",
       "      <td>4206</td>\n",
       "    </tr>\n",
       "  </tbody>\n",
       "</table>\n",
       "</div>"
      ],
      "text/plain": [
       "           states   Cases  Deaths  PCases  PDeaths\n",
       "0     Maharashtra  990795   28282  990795    28282\n",
       "1  Andhra Pradesh  537687    4702  537687     4702\n",
       "2      Tamil Nadu  486052    8157  486052     8157\n",
       "3       Karnataka  430947    6937  430947     6937\n",
       "4   Uttar Pradesh  292029    4206  292029     4206"
      ]
     },
     "execution_count": 11,
     "metadata": {},
     "output_type": "execute_result"
    }
   ],
   "source": [
    "#hide\n",
    "df_table = pd.DataFrame({'states': dfc_cases.index, 'Cases': dfc_cases.values, 'Deaths': dfc_deaths.values, 'PCases': dfp_cases.values, 'PDeaths': dfp_deaths.values}).set_index('states')\n",
    "df_table = df_table.sort_values(by = ['Cases','Deaths'], ascending = [False, False])\n",
    "df_table = df_table.reset_index()\n",
    "df_table.head()"
   ]
  },
  {
   "cell_type": "code",
   "execution_count": 12,
   "metadata": {
    "execution": {
     "iopub.execute_input": "2020-09-11T11:51:56.535571Z",
     "iopub.status.busy": "2020-09-11T11:51:56.534962Z",
     "iopub.status.idle": "2020-09-11T11:51:56.543275Z",
     "shell.execute_reply": "2020-09-11T11:51:56.543728Z"
    },
    "papermill": {
     "duration": 0.030377,
     "end_time": "2020-09-11T11:51:56.543898",
     "exception": false,
     "start_time": "2020-09-11T11:51:56.513521",
     "status": "completed"
    },
    "tags": []
   },
   "outputs": [],
   "source": [
    "#hide\n",
    "for c in 'Cases, Deaths'.split(', '):\n",
    "    df_table[f'{c} (+)'] = (df_table[c] - df_table[f'P{c}']).clip(0)\n",
    "df_table['Fatality Rate'] = (100* df_table['Deaths']/ df_table['Cases']).round(2)"
   ]
  },
  {
   "cell_type": "code",
   "execution_count": 13,
   "metadata": {
    "execution": {
     "iopub.execute_input": "2020-09-11T11:51:56.588853Z",
     "iopub.status.busy": "2020-09-11T11:51:56.588198Z",
     "iopub.status.idle": "2020-09-11T11:51:56.590874Z",
     "shell.execute_reply": "2020-09-11T11:51:56.591459Z"
    },
    "papermill": {
     "duration": 0.031003,
     "end_time": "2020-09-11T11:51:56.591613",
     "exception": false,
     "start_time": "2020-09-11T11:51:56.560610",
     "status": "completed"
    },
    "tags": []
   },
   "outputs": [
    {
     "data": {
      "text/html": [
       "<div>\n",
       "<style scoped>\n",
       "    .dataframe tbody tr th:only-of-type {\n",
       "        vertical-align: middle;\n",
       "    }\n",
       "\n",
       "    .dataframe tbody tr th {\n",
       "        vertical-align: top;\n",
       "    }\n",
       "\n",
       "    .dataframe thead th {\n",
       "        text-align: right;\n",
       "    }\n",
       "</style>\n",
       "<table border=\"1\" class=\"dataframe\">\n",
       "  <thead>\n",
       "    <tr style=\"text-align: right;\">\n",
       "      <th></th>\n",
       "      <th>states</th>\n",
       "      <th>Cases</th>\n",
       "      <th>Deaths</th>\n",
       "      <th>PCases</th>\n",
       "      <th>PDeaths</th>\n",
       "      <th>Cases (+)</th>\n",
       "      <th>Deaths (+)</th>\n",
       "      <th>Fatality Rate</th>\n",
       "    </tr>\n",
       "  </thead>\n",
       "  <tbody>\n",
       "    <tr>\n",
       "      <th>0</th>\n",
       "      <td>Maharashtra</td>\n",
       "      <td>990795</td>\n",
       "      <td>28282</td>\n",
       "      <td>990795</td>\n",
       "      <td>28282</td>\n",
       "      <td>0</td>\n",
       "      <td>0</td>\n",
       "      <td>2.85</td>\n",
       "    </tr>\n",
       "    <tr>\n",
       "      <th>1</th>\n",
       "      <td>Andhra Pradesh</td>\n",
       "      <td>537687</td>\n",
       "      <td>4702</td>\n",
       "      <td>537687</td>\n",
       "      <td>4702</td>\n",
       "      <td>0</td>\n",
       "      <td>0</td>\n",
       "      <td>0.87</td>\n",
       "    </tr>\n",
       "    <tr>\n",
       "      <th>2</th>\n",
       "      <td>Tamil Nadu</td>\n",
       "      <td>486052</td>\n",
       "      <td>8157</td>\n",
       "      <td>486052</td>\n",
       "      <td>8157</td>\n",
       "      <td>0</td>\n",
       "      <td>0</td>\n",
       "      <td>1.68</td>\n",
       "    </tr>\n",
       "    <tr>\n",
       "      <th>3</th>\n",
       "      <td>Karnataka</td>\n",
       "      <td>430947</td>\n",
       "      <td>6937</td>\n",
       "      <td>430947</td>\n",
       "      <td>6937</td>\n",
       "      <td>0</td>\n",
       "      <td>0</td>\n",
       "      <td>1.61</td>\n",
       "    </tr>\n",
       "    <tr>\n",
       "      <th>4</th>\n",
       "      <td>Uttar Pradesh</td>\n",
       "      <td>292029</td>\n",
       "      <td>4206</td>\n",
       "      <td>292029</td>\n",
       "      <td>4206</td>\n",
       "      <td>0</td>\n",
       "      <td>0</td>\n",
       "      <td>1.44</td>\n",
       "    </tr>\n",
       "  </tbody>\n",
       "</table>\n",
       "</div>"
      ],
      "text/plain": [
       "           states   Cases  Deaths  PCases  PDeaths  Cases (+)  Deaths (+)  \\\n",
       "0     Maharashtra  990795   28282  990795    28282          0           0   \n",
       "1  Andhra Pradesh  537687    4702  537687     4702          0           0   \n",
       "2      Tamil Nadu  486052    8157  486052     8157          0           0   \n",
       "3       Karnataka  430947    6937  430947     6937          0           0   \n",
       "4   Uttar Pradesh  292029    4206  292029     4206          0           0   \n",
       "\n",
       "   Fatality Rate  \n",
       "0           2.85  \n",
       "1           0.87  \n",
       "2           1.68  \n",
       "3           1.61  \n",
       "4           1.44  "
      ]
     },
     "execution_count": 13,
     "metadata": {},
     "output_type": "execute_result"
    }
   ],
   "source": [
    "#hide\n",
    "df_table.head()"
   ]
  },
  {
   "cell_type": "code",
   "execution_count": 14,
   "metadata": {
    "execution": {
     "iopub.execute_input": "2020-09-11T11:51:56.632544Z",
     "iopub.status.busy": "2020-09-11T11:51:56.631910Z",
     "iopub.status.idle": "2020-09-11T11:51:56.651077Z",
     "shell.execute_reply": "2020-09-11T11:51:56.651598Z"
    },
    "papermill": {
     "duration": 0.042818,
     "end_time": "2020-09-11T11:51:56.651822",
     "exception": false,
     "start_time": "2020-09-11T11:51:56.609004",
     "status": "completed"
    },
    "tags": []
   },
   "outputs": [
    {
     "data": {
      "text/plain": [
       "{'updated': '2020-09-11',\n",
       " 'since': '2020-09-10',\n",
       " 'Cases': 4568770,\n",
       " 'PCases': 4559725,\n",
       " 'Deaths': 76348,\n",
       " 'PDeaths': 76304,\n",
       " 'Cases (+)': 9045,\n",
       " 'Deaths (+)': 44}"
      ]
     },
     "execution_count": 14,
     "metadata": {},
     "output_type": "execute_result"
    }
   ],
   "source": [
    "#hide\n",
    "summary = {'updated':dates[-1], 'since':dates[-2]}\n",
    "list_names = ['Cases', 'PCases', 'Deaths', 'PDeaths', 'Cases (+)', 'Deaths (+)']\n",
    "for name in list_names:\n",
    "    summary[name] = df_table.sum()[name]\n",
    "summary"
   ]
  },
  {
   "cell_type": "code",
   "execution_count": 15,
   "metadata": {
    "execution": {
     "iopub.execute_input": "2020-09-11T11:51:56.694285Z",
     "iopub.status.busy": "2020-09-11T11:51:56.693531Z",
     "iopub.status.idle": "2020-09-11T11:51:56.695771Z",
     "shell.execute_reply": "2020-09-11T11:51:56.696284Z"
    },
    "papermill": {
     "duration": 0.027213,
     "end_time": "2020-09-11T11:51:56.696428",
     "exception": false,
     "start_time": "2020-09-11T11:51:56.669215",
     "status": "completed"
    },
    "tags": []
   },
   "outputs": [],
   "source": [
    "#hide\n",
    "overview = '''\n",
    "<!-- #######  HTML!! #########-->\n",
    "<h1 style=\"color: #5e9ca0; text-align: center;\">India</h1>\n",
    "<p style=\"text-align: center;\">Last update: <strong>{update}</strong></p>\n",
    "<p style=\"text-align: center;\">Confirmed cases:</p>\n",
    "<p style=\"text-align: center;font-size:24px;\">{cases} (<span style=\"color: #ff0000;\">+{new}</span>)</p>\n",
    "<p style=\"text-align: center;\">Confirmed deaths:</p>\n",
    "<p style=\"text-align: center;font-size:24px;\">{deaths} (<span style=\"color: #ff0000;\">+{dnew}</span>)</p>\n",
    "'''"
   ]
  },
  {
   "cell_type": "code",
   "execution_count": 16,
   "metadata": {
    "execution": {
     "iopub.execute_input": "2020-09-11T11:51:56.738029Z",
     "iopub.status.busy": "2020-09-11T11:51:56.737412Z",
     "iopub.status.idle": "2020-09-11T11:51:56.740206Z",
     "shell.execute_reply": "2020-09-11T11:51:56.740694Z"
    },
    "papermill": {
     "duration": 0.026881,
     "end_time": "2020-09-11T11:51:56.740830",
     "exception": false,
     "start_time": "2020-09-11T11:51:56.713949",
     "status": "completed"
    },
    "tags": []
   },
   "outputs": [
    {
     "data": {
      "text/html": [
       "\n",
       "<!-- #######  HTML!! #########-->\n",
       "<h1 style=\"color: #5e9ca0; text-align: center;\">India</h1>\n",
       "<p style=\"text-align: center;\">Last update: <strong>2020-09-11</strong></p>\n",
       "<p style=\"text-align: center;\">Confirmed cases:</p>\n",
       "<p style=\"text-align: center;font-size:24px;\">4568770 (<span style=\"color: #ff0000;\">+9045</span>)</p>\n",
       "<p style=\"text-align: center;\">Confirmed deaths:</p>\n",
       "<p style=\"text-align: center;font-size:24px;\">76348 (<span style=\"color: #ff0000;\">+44</span>)</p>\n"
      ],
      "text/plain": [
       "<IPython.core.display.HTML object>"
      ]
     },
     "metadata": {},
     "output_type": "display_data"
    }
   ],
   "source": [
    "#hide_input\n",
    "update = summary['updated']\n",
    "cases = summary['Cases']\n",
    "new = summary['Cases (+)']\n",
    "deaths = summary['Deaths']\n",
    "dnew = summary['Deaths (+)']\n",
    "\n",
    "html = HTML(overview.format(update=update, cases=cases,new=new,deaths=deaths,dnew=dnew))\n",
    "\n",
    "display(html)"
   ]
  },
  {
   "cell_type": "code",
   "execution_count": 17,
   "metadata": {
    "execution": {
     "iopub.execute_input": "2020-09-11T11:51:56.782660Z",
     "iopub.status.busy": "2020-09-11T11:51:56.782047Z",
     "iopub.status.idle": "2020-09-11T11:51:56.787474Z",
     "shell.execute_reply": "2020-09-11T11:51:56.787998Z"
    },
    "papermill": {
     "duration": 0.030338,
     "end_time": "2020-09-11T11:51:56.788130",
     "exception": false,
     "start_time": "2020-09-11T11:51:56.757792",
     "status": "completed"
    },
    "tags": []
   },
   "outputs": [],
   "source": [
    "#hide\n",
    "dt_cols = list(dft_cases.columns[1:])\n",
    "dft_ct_new_cases = dft_cases.groupby('state')[dt_cols].sum().diff(axis=1).fillna(0).astype(int)\n",
    "dft_ct_new_cases.sort_values(by = dates[-1], ascending = False,inplace = True)"
   ]
  },
  {
   "cell_type": "code",
   "execution_count": 18,
   "metadata": {
    "execution": {
     "iopub.execute_input": "2020-09-11T11:51:56.841531Z",
     "iopub.status.busy": "2020-09-11T11:51:56.840851Z",
     "iopub.status.idle": "2020-09-11T11:51:56.843337Z",
     "shell.execute_reply": "2020-09-11T11:51:56.843814Z"
    },
    "papermill": {
     "duration": 0.038645,
     "end_time": "2020-09-11T11:51:56.843965",
     "exception": false,
     "start_time": "2020-09-11T11:51:56.805320",
     "status": "completed"
    },
    "tags": []
   },
   "outputs": [
    {
     "data": {
      "text/html": [
       "<div>\n",
       "<style scoped>\n",
       "    .dataframe tbody tr th:only-of-type {\n",
       "        vertical-align: middle;\n",
       "    }\n",
       "\n",
       "    .dataframe tbody tr th {\n",
       "        vertical-align: top;\n",
       "    }\n",
       "\n",
       "    .dataframe thead th {\n",
       "        text-align: right;\n",
       "    }\n",
       "</style>\n",
       "<table border=\"1\" class=\"dataframe\">\n",
       "  <thead>\n",
       "    <tr style=\"text-align: right;\">\n",
       "      <th>states</th>\n",
       "      <th>2020-07-01</th>\n",
       "      <th>2020-07-02</th>\n",
       "      <th>2020-07-03</th>\n",
       "      <th>2020-07-04</th>\n",
       "      <th>2020-07-05</th>\n",
       "      <th>2020-07-06</th>\n",
       "      <th>2020-07-07</th>\n",
       "      <th>2020-07-08</th>\n",
       "      <th>2020-07-09</th>\n",
       "      <th>2020-07-10</th>\n",
       "      <th>...</th>\n",
       "      <th>2020-09-02</th>\n",
       "      <th>2020-09-03</th>\n",
       "      <th>2020-09-04</th>\n",
       "      <th>2020-09-05</th>\n",
       "      <th>2020-09-06</th>\n",
       "      <th>2020-09-07</th>\n",
       "      <th>2020-09-08</th>\n",
       "      <th>2020-09-09</th>\n",
       "      <th>2020-09-10</th>\n",
       "      <th>2020-09-11</th>\n",
       "    </tr>\n",
       "    <tr>\n",
       "      <th>state</th>\n",
       "      <th></th>\n",
       "      <th></th>\n",
       "      <th></th>\n",
       "      <th></th>\n",
       "      <th></th>\n",
       "      <th></th>\n",
       "      <th></th>\n",
       "      <th></th>\n",
       "      <th></th>\n",
       "      <th></th>\n",
       "      <th></th>\n",
       "      <th></th>\n",
       "      <th></th>\n",
       "      <th></th>\n",
       "      <th></th>\n",
       "      <th></th>\n",
       "      <th></th>\n",
       "      <th></th>\n",
       "      <th></th>\n",
       "      <th></th>\n",
       "      <th></th>\n",
       "    </tr>\n",
       "  </thead>\n",
       "  <tbody>\n",
       "    <tr>\n",
       "      <th>Odisha</th>\n",
       "      <td>0</td>\n",
       "      <td>229</td>\n",
       "      <td>561</td>\n",
       "      <td>495</td>\n",
       "      <td>469</td>\n",
       "      <td>456</td>\n",
       "      <td>571</td>\n",
       "      <td>527</td>\n",
       "      <td>577</td>\n",
       "      <td>755</td>\n",
       "      <td>...</td>\n",
       "      <td>3219</td>\n",
       "      <td>3631</td>\n",
       "      <td>3267</td>\n",
       "      <td>3543</td>\n",
       "      <td>3810</td>\n",
       "      <td>3861</td>\n",
       "      <td>3490</td>\n",
       "      <td>3748</td>\n",
       "      <td>3991</td>\n",
       "      <td>3996</td>\n",
       "    </tr>\n",
       "    <tr>\n",
       "      <th>Telangana</th>\n",
       "      <td>0</td>\n",
       "      <td>1213</td>\n",
       "      <td>1892</td>\n",
       "      <td>1850</td>\n",
       "      <td>1590</td>\n",
       "      <td>1831</td>\n",
       "      <td>1879</td>\n",
       "      <td>1924</td>\n",
       "      <td>1410</td>\n",
       "      <td>1278</td>\n",
       "      <td>...</td>\n",
       "      <td>2892</td>\n",
       "      <td>2817</td>\n",
       "      <td>2478</td>\n",
       "      <td>2511</td>\n",
       "      <td>2574</td>\n",
       "      <td>1802</td>\n",
       "      <td>2392</td>\n",
       "      <td>2479</td>\n",
       "      <td>2534</td>\n",
       "      <td>2426</td>\n",
       "    </tr>\n",
       "    <tr>\n",
       "      <th>Bihar</th>\n",
       "      <td>0</td>\n",
       "      <td>478</td>\n",
       "      <td>426</td>\n",
       "      <td>349</td>\n",
       "      <td>403</td>\n",
       "      <td>280</td>\n",
       "      <td>385</td>\n",
       "      <td>749</td>\n",
       "      <td>704</td>\n",
       "      <td>352</td>\n",
       "      <td>...</td>\n",
       "      <td>1969</td>\n",
       "      <td>1922</td>\n",
       "      <td>1978</td>\n",
       "      <td>1727</td>\n",
       "      <td>1797</td>\n",
       "      <td>1369</td>\n",
       "      <td>1667</td>\n",
       "      <td>1498</td>\n",
       "      <td>1543</td>\n",
       "      <td>1710</td>\n",
       "    </tr>\n",
       "    <tr>\n",
       "      <th>Tripura</th>\n",
       "      <td>0</td>\n",
       "      <td>39</td>\n",
       "      <td>93</td>\n",
       "      <td>25</td>\n",
       "      <td>23</td>\n",
       "      <td>111</td>\n",
       "      <td>24</td>\n",
       "      <td>57</td>\n",
       "      <td>16</td>\n",
       "      <td>142</td>\n",
       "      <td>...</td>\n",
       "      <td>566</td>\n",
       "      <td>590</td>\n",
       "      <td>524</td>\n",
       "      <td>691</td>\n",
       "      <td>603</td>\n",
       "      <td>399</td>\n",
       "      <td>628</td>\n",
       "      <td>582</td>\n",
       "      <td>535</td>\n",
       "      <td>559</td>\n",
       "    </tr>\n",
       "    <tr>\n",
       "      <th>Nagaland</th>\n",
       "      <td>0</td>\n",
       "      <td>34</td>\n",
       "      <td>4</td>\n",
       "      <td>24</td>\n",
       "      <td>27</td>\n",
       "      <td>35</td>\n",
       "      <td>19</td>\n",
       "      <td>13</td>\n",
       "      <td>16</td>\n",
       "      <td>59</td>\n",
       "      <td>...</td>\n",
       "      <td>14</td>\n",
       "      <td>49</td>\n",
       "      <td>41</td>\n",
       "      <td>21</td>\n",
       "      <td>50</td>\n",
       "      <td>42</td>\n",
       "      <td>25</td>\n",
       "      <td>130</td>\n",
       "      <td>261</td>\n",
       "      <td>310</td>\n",
       "    </tr>\n",
       "  </tbody>\n",
       "</table>\n",
       "<p>5 rows × 73 columns</p>\n",
       "</div>"
      ],
      "text/plain": [
       "states     2020-07-01  2020-07-02  2020-07-03  2020-07-04  2020-07-05  \\\n",
       "state                                                                   \n",
       "Odisha              0         229         561         495         469   \n",
       "Telangana           0        1213        1892        1850        1590   \n",
       "Bihar               0         478         426         349         403   \n",
       "Tripura             0          39          93          25          23   \n",
       "Nagaland            0          34           4          24          27   \n",
       "\n",
       "states     2020-07-06  2020-07-07  2020-07-08  2020-07-09  2020-07-10  ...  \\\n",
       "state                                                                  ...   \n",
       "Odisha            456         571         527         577         755  ...   \n",
       "Telangana        1831        1879        1924        1410        1278  ...   \n",
       "Bihar             280         385         749         704         352  ...   \n",
       "Tripura           111          24          57          16         142  ...   \n",
       "Nagaland           35          19          13          16          59  ...   \n",
       "\n",
       "states     2020-09-02  2020-09-03  2020-09-04  2020-09-05  2020-09-06  \\\n",
       "state                                                                   \n",
       "Odisha           3219        3631        3267        3543        3810   \n",
       "Telangana        2892        2817        2478        2511        2574   \n",
       "Bihar            1969        1922        1978        1727        1797   \n",
       "Tripura           566         590         524         691         603   \n",
       "Nagaland           14          49          41          21          50   \n",
       "\n",
       "states     2020-09-07  2020-09-08  2020-09-09  2020-09-10  2020-09-11  \n",
       "state                                                                  \n",
       "Odisha           3861        3490        3748        3991        3996  \n",
       "Telangana        1802        2392        2479        2534        2426  \n",
       "Bihar            1369        1667        1498        1543        1710  \n",
       "Tripura           399         628         582         535         559  \n",
       "Nagaland           42          25         130         261         310  \n",
       "\n",
       "[5 rows x 73 columns]"
      ]
     },
     "execution_count": 18,
     "metadata": {},
     "output_type": "execute_result"
    }
   ],
   "source": [
    "#hide\n",
    "dft_ct_new_cases.head()"
   ]
  },
  {
   "cell_type": "code",
   "execution_count": 19,
   "metadata": {
    "execution": {
     "iopub.execute_input": "2020-09-11T11:51:56.884544Z",
     "iopub.status.busy": "2020-09-11T11:51:56.883921Z",
     "iopub.status.idle": "2020-09-11T11:52:00.859798Z",
     "shell.execute_reply": "2020-09-11T11:52:00.860288Z"
    },
    "papermill": {
     "duration": 3.997017,
     "end_time": "2020-09-11T11:52:00.860461",
     "exception": false,
     "start_time": "2020-09-11T11:51:56.863444",
     "status": "completed"
    },
    "tags": []
   },
   "outputs": [
    {
     "data": {
      "image/png": "[encoded data removed]",
      "text/plain": [
       "<Figure size 1296x2016 with 11 Axes>"
      ]
     },
     "metadata": {
      "needs_background": "light"
     },
     "output_type": "display_data"
    }
   ],
   "source": [
    "#hide_input\n",
    "df = dft_ct_new_cases.copy()\n",
    "df.loc['Total'] = df.sum()\n",
    "n = 5\n",
    "ax = []\n",
    "fig = plt.figure(figsize = (18,28))\n",
    "gs = fig.add_gridspec(n+2, 5)\n",
    "# gs = fig.add_gridspec(2, 3)\n",
    "ax1 = fig.add_subplot(gs[0, :])\n",
    "ef = df.loc['Total'].rename_axis('date').reset_index()\n",
    "ef['date'] = ef['date'].astype('datetime64[ns]')\n",
    "ax1.bar(ef.date,ef.Total,alpha=0.3,color='#007acc')\n",
    "ax1.plot(ef.date,ef.Total , marker=\"o\", color='#007acc')\n",
    "ax1.xaxis.set_major_locator(mdates.WeekdayLocator())\n",
    "ax1.xaxis.set_major_formatter(mdates.DateFormatter('%b %d'))\n",
    "ax1.text(0.02, 0.5,'India daily case count', transform = ax1.transAxes, fontsize=25);\n",
    "ax1.spines['right'].set_visible(False)\n",
    "ax1.spines['top'].set_visible(False)\n",
    "\n",
    "ax2 = fig.add_subplot(gs[1,0])\n",
    "ef = df.loc['Maharashtra'].rename_axis('date').reset_index()\n",
    "ef['date'] = ef['date'].astype('datetime64[ns]')\n",
    "\n",
    "ax2.bar(ef.date, ef.Maharashtra,color = '#007acc',alpha=0.5)\n",
    "ax2.xaxis.set_major_locator(mdates.WeekdayLocator())\n",
    "ax2.xaxis.set_major_formatter(mdates.DateFormatter('%b %d'))\n",
    "ax2.set_xticks(ax2.get_xticks()[::3])\n",
    "maxyval = ef.Maharashtra.max()\n",
    "ax2.set_ylim([0,maxyval])\n",
    "ax2.text(0.05, 0.9,'Maharashtra', transform = ax2.transAxes, fontsize=20);\n",
    "ax2.spines['right'].set_visible(False)\n",
    "ax2.spines['top'].set_visible(False)\n",
    "\n",
    "\n",
    "ax3 = fig.add_subplot(gs[1,1])\n",
    "ef = df.loc['Tamil Nadu'].rename_axis('date').reset_index()\n",
    "ef['date'] = ef['date'].astype('datetime64[ns]')\n",
    "ax3.bar(ef.date, ef['Tamil Nadu'],color = '#007acc',alpha=0.5,)\n",
    "ax3.xaxis.set_major_locator(mdates.WeekdayLocator())\n",
    "ax3.xaxis.set_major_formatter(mdates.DateFormatter('%b %d'))\n",
    "ax3.set_xticks(ax3.get_xticks()[::3])\n",
    "ax3.text(0.05, 0.9,'Tamil Nadu', transform = ax3.transAxes, fontsize=20);\n",
    "ax3.spines['right'].set_visible(False)\n",
    "ax3.spines['top'].set_visible(False)\n",
    "\n",
    "ax5 = fig.add_subplot(gs[1,3])\n",
    "ef = df.loc['Telangana'].rename_axis('date').reset_index()\n",
    "ef['date'] = ef['date'].astype('datetime64[ns]')\n",
    "ax5.bar(ef.date, ef['Telangana'],color = '#007acc',alpha=0.5,)\n",
    "ax5.xaxis.set_major_locator(mdates.WeekdayLocator())\n",
    "ax5.xaxis.set_major_formatter(mdates.DateFormatter('%b %d'))\n",
    "ax5.set_xticks(ax5.get_xticks()[::3])\n",
    "ax5.text(0.05, 0.9,'Telangana', transform = ax5.transAxes, fontsize=20);\n",
    "ax5.spines['right'].set_visible(False)\n",
    "ax5.spines['top'].set_visible(False)\n",
    "\n",
    "ax6 = fig.add_subplot(gs[1,4])\n",
    "ef = df.loc['Andhra Pradesh'].rename_axis('date').reset_index()\n",
    "ef['date'] = ef['date'].astype('datetime64[ns]')\n",
    "ax6.bar(ef.date, ef['Andhra Pradesh'],color = '#007acc',alpha=0.5,)\n",
    "ax6.xaxis.set_major_locator(mdates.WeekdayLocator())\n",
    "ax6.xaxis.set_major_formatter(mdates.DateFormatter('%b %d'))\n",
    "ax6.set_xticks(ax6.get_xticks()[::3])\n",
    "ax6.text(0.05, 1,'Andhra Pradesh', transform = ax6.transAxes, fontsize=20);\n",
    "ax6.spines['right'].set_visible(False)\n",
    "ax6.spines['top'].set_visible(False)\n",
    "\n",
    "ax4 = fig.add_subplot(gs[1,2])\n",
    "ef = df.loc['Delhi'].rename_axis('date').reset_index()\n",
    "ef['date'] = ef['date'].astype('datetime64[ns]')\n",
    "ax4.bar(ef.date, ef.Delhi,color = '#007acc',alpha=0.5)\n",
    "ax4.set_xticks([])\n",
    "ax4.xaxis.set_major_locator(mdates.WeekdayLocator())\n",
    "ax4.xaxis.set_major_formatter(mdates.DateFormatter('%b %d'))\n",
    "ax4.set_xticks(ax4.get_xticks()[::3])\n",
    "ax4.spines['right'].set_visible(False)\n",
    "ax4.spines['top'].set_visible(False)\n",
    "\n",
    "ax4.text(0.05, 1,'Delhi', transform = ax4.transAxes, fontsize=20)\n",
    "\n",
    "for i in range(n):\n",
    "    \n",
    "    ax.append(fig.add_subplot(gs[i+2,:]))\n",
    "    ef = df.iloc[i+3].rename_axis('date').reset_index()\n",
    "    ef['date'] = ef['date'].astype('datetime64[ns]')\n",
    "    ax[i].bar(ef.date,ef.iloc[:,-1],color = '#007acc',alpha=0.3)\n",
    "    ax[i].plot(ef.date,ef.iloc[:,-1],marker='o',color='#007acc')\n",
    "    ax[i].text(0.02,0.5,f'{ef.columns.values[-1]}',transform = ax[i].transAxes, fontsize = 20);\n",
    "    ax[i].xaxis.set_major_locator(mdates.WeekdayLocator())\n",
    "    ax[i].xaxis.set_major_formatter(mdates.DateFormatter('%b %d'))\n",
    "    ax[i].set_ylim([0,7000])\n",
    "    ax[i].spines['right'].set_visible(False)\n",
    "    ax[i].spines['top'].set_visible(False)\n",
    "plt.tight_layout()\n"
   ]
  },
  {
   "cell_type": "code",
   "execution_count": 20,
   "metadata": {
    "execution": {
     "iopub.execute_input": "2020-09-11T11:52:01.061249Z",
     "iopub.status.busy": "2020-09-11T11:52:01.060424Z",
     "iopub.status.idle": "2020-09-11T11:52:01.066370Z",
     "shell.execute_reply": "2020-09-11T11:52:01.065845Z"
    },
    "papermill": {
     "duration": 0.182602,
     "end_time": "2020-09-11T11:52:01.066570",
     "exception": false,
     "start_time": "2020-09-11T11:52:00.883968",
     "status": "completed"
    },
    "tags": []
   },
   "outputs": [
    {
     "name": "stdout",
     "output_type": "stream",
     "text": [
      "                                   states   Cases  Deaths  PCases  PDeaths  Cases (+)  Deaths (+)  Fatality Rate\n",
      "                              Maharashtra  990795   28282  990795    28282          0           0           2.85\n",
      "                           Andhra Pradesh  537687    4702  537687     4702          0           0           0.87\n",
      "                               Tamil Nadu  486052    8157  486052     8157          0           0           1.68\n",
      "                                Karnataka  430947    6937  430947     6937          0           0           1.61\n",
      "                            Uttar Pradesh  292029    4206  292029     4206          0           0           1.44\n",
      "                                    Delhi  205482    4666  205482     4666          0           0           2.27\n",
      "                              West Bengal  193175    3771  193175     3771          0           0           1.95\n",
      "                                    Bihar  155445     797  153735      785       1710          12           0.51\n",
      "                                Telangana  152602     940  150176      927       2426          13           0.62\n",
      "                                   Odisha  143117     658  139121      644       3996          14           0.46\n",
      "                                    Assam  135805     414  135805      414          0           0           0.30\n",
      "                                  Gujarat  109627    3165  109627     3165          0           0           2.89\n",
      "                                   Kerala   99267     397   99267      397          0           0           0.40\n",
      "                                Rajasthan   97376    1192   97376     1192          0           0           1.22\n",
      "                                  Haryana   85944     907   85944      907          0           0           1.06\n",
      "                           Madhya Pradesh   81379    1661   81379     1661          0           0           2.04\n",
      "                                   Punjab   72143    2149   72143     2149          0           0           2.98\n",
      "                                Jharkhand   58079     517   58079      517          0           0           0.89\n",
      "                             Chhattisgarh   55680     493   55680      493          0           0           0.89\n",
      "                        Jammu and Kashmir   49134     845   49134      845          0           0           1.72\n",
      "                              Uttarakhand   28226     377   28226      377          0           0           1.34\n",
      "                                      Goa   22890     268   22890      268          0           0           1.17\n",
      "                               Puducherry   18536     353   18536      353          0           0           1.90\n",
      "                                  Tripura   17830     172   17271      167        559           5           0.96\n",
      "                         Himachal Pradesh    8466      65    8466       65          0           0           0.77\n",
      "                                  Manipur    7470      44    7470       44          0           0           0.59\n",
      "                               Chandigarh    6987      80    6987       80          0           0           1.14\n",
      "                        Arunachal Pradesh    5672       9    5672        9          0           0           0.16\n",
      "                                 Nagaland    4946       8    4636        8        310           0           0.16\n",
      "              Andaman and Nicobar Islands    3465      51    3465       51          0           0           1.47\n",
      "                                Meghalaya    3296      20    3296       20          0           0           0.61\n",
      "                                   Ladakh    3177      36    3177       36          0           0           1.13\n",
      " Dadra and Nagar Haveli and Daman and Diu    2682       2    2658        2         24           0           0.07\n",
      "                                   Sikkim    2009       7    2009        7          0           0           0.35\n",
      "                                  Mizoram    1353       0    1333        0         20           0           0.00\n",
      "                              Lakshadweep       0       0       0        0          0           0            NaN\n"
     ]
    }
   ],
   "source": [
    "#hide_input\n",
    "print(df_table.to_string(index=False))"
   ]
  },
  {
   "cell_type": "code",
   "execution_count": null,
   "metadata": {
    "papermill": {
     "duration": 0.023154,
     "end_time": "2020-09-11T11:52:01.113411",
     "exception": false,
     "start_time": "2020-09-11T11:52:01.090257",
     "status": "completed"
    },
    "tags": []
   },
   "outputs": [],
   "source": []
  },
  {
   "cell_type": "code",
   "execution_count": null,
   "metadata": {
    "papermill": {
     "duration": 0.021849,
     "end_time": "2020-09-11T11:52:01.156919",
     "exception": false,
     "start_time": "2020-09-11T11:52:01.135070",
     "status": "completed"
    },
    "tags": []
   },
   "outputs": [],
   "source": []
  }
 ],
 "metadata": {
  "kernelspec": {
   "display_name": "Python 3",
   "language": "python",
   "name": "python3"
  },
  "language_info": {
   "codemirror_mode": {
    "name": "ipython",
    "version": 3
   },
   "file_extension": ".py",
   "mimetype": "text/x-python",
   "name": "python",
   "nbconvert_exporter": "python",
   "pygments_lexer": "ipython3",
   "version": "3.6.12"
  },
  "papermill": {
   "duration": 10.569539,
   "end_time": "2020-09-11T11:52:01.588149",
   "environment_variables": {},
   "exception": null,
   "input_path": "latest.ipynb",
   "output_path": "latest.ipynb",
   "parameters": {},
   "start_time": "2020-09-11T11:51:51.018610",
   "version": "2.1.2"
  }
 },
 "nbformat": 4,
 "nbformat_minor": 4
}