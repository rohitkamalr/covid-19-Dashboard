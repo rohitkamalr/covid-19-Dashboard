{
 "cells": [
  {
   "cell_type": "markdown",
   "metadata": {
    "papermill": {
     "duration": 0.018334,
     "end_time": "2020-08-15T14:18:53.290695",
     "exception": false,
     "start_time": "2020-08-15T14:18:53.272361",
     "status": "completed"
    },
    "tags": []
   },
   "source": [
    "# Latest COVID-19 India Matplotlib Overview"
   ]
  },
  {
   "cell_type": "code",
   "execution_count": 1,
   "metadata": {
    "execution": {
     "iopub.execute_input": "2020-08-15T14:18:53.326297Z",
     "iopub.status.busy": "2020-08-15T14:18:53.325740Z",
     "iopub.status.idle": "2020-08-15T14:18:53.867346Z",
     "shell.execute_reply": "2020-08-15T14:18:53.866175Z"
    },
    "papermill": {
     "duration": 0.562406,
     "end_time": "2020-08-15T14:18:53.867511",
     "exception": false,
     "start_time": "2020-08-15T14:18:53.305105",
     "status": "completed"
    },
    "tags": []
   },
   "outputs": [],
   "source": [
    "#hide\n",
    "import pandas as pd\n",
    "import numpy as np\n",
    "import requests\n",
    "import json\n",
    "import matplotlib.pyplot as plt\n",
    "import matplotlib.dates as mdates\n",
    "import matplotlib as mpl\n",
    "from IPython.core.display import display,HTML\n",
    "%matplotlib inline\n",
    "from datetime import date"
   ]
  },
  {
   "cell_type": "code",
   "execution_count": 2,
   "metadata": {
    "execution": {
     "iopub.execute_input": "2020-08-15T14:18:53.905963Z",
     "iopub.status.busy": "2020-08-15T14:18:53.904620Z",
     "iopub.status.idle": "2020-08-15T14:18:54.135223Z",
     "shell.execute_reply": "2020-08-15T14:18:54.135713Z"
    },
    "papermill": {
     "duration": 0.253301,
     "end_time": "2020-08-15T14:18:54.135877",
     "exception": false,
     "start_time": "2020-08-15T14:18:53.882576",
     "status": "completed"
    },
    "tags": []
   },
   "outputs": [],
   "source": [
    "#hide\n",
    "df  = pd.read_csv('https://api.covid19india.org/csv/latest/states.csv')\n",
    "df = df[['Date','State','Confirmed','Deceased']]\n",
    "df = df.rename(columns={'Confirmed':'Cases', \"Deceased\":'Deaths'})\n",
    "df_cases = df[[\"Date\",'State','Cases']]\n",
    "df_deaths = df[['Date','State','Deaths']]\n",
    "df_cases1 = df_cases.groupby('Date')\n",
    "df_deaths1= df_deaths.groupby('Date')"
   ]
  },
  {
   "cell_type": "code",
   "execution_count": 3,
   "metadata": {
    "execution": {
     "iopub.execute_input": "2020-08-15T14:18:54.169417Z",
     "iopub.status.busy": "2020-08-15T14:18:54.168860Z",
     "iopub.status.idle": "2020-08-15T14:18:54.185716Z",
     "shell.execute_reply": "2020-08-15T14:18:54.186173Z"
    },
    "papermill": {
     "duration": 0.036231,
     "end_time": "2020-08-15T14:18:54.186315",
     "exception": false,
     "start_time": "2020-08-15T14:18:54.150084",
     "status": "completed"
    },
    "tags": []
   },
   "outputs": [],
   "source": [
    "#hide\n",
    "df_snap = pd.read_csv('data/SnapshotCases-28-July.csv')\n",
    "arr_states = df_snap['states'].unique()\n",
    "arr_dates = df['Date'].unique()\n",
    "df_snap = df_snap.set_index('states')"
   ]
  },
  {
   "cell_type": "code",
   "execution_count": 4,
   "metadata": {
    "execution": {
     "iopub.execute_input": "2020-08-15T14:18:54.222915Z",
     "iopub.status.busy": "2020-08-15T14:18:54.222380Z",
     "iopub.status.idle": "2020-08-15T14:18:54.224830Z",
     "shell.execute_reply": "2020-08-15T14:18:54.225259Z"
    },
    "papermill": {
     "duration": 0.024765,
     "end_time": "2020-08-15T14:18:54.225385",
     "exception": false,
     "start_time": "2020-08-15T14:18:54.200620",
     "status": "completed"
    },
    "tags": []
   },
   "outputs": [
    {
     "data": {
      "text/plain": [
       "array(['Andaman and Nicobar Islands', 'Andhra Pradesh',\n",
       "       'Arunachal Pradesh', 'Assam', 'Bihar', 'Chandigarh',\n",
       "       'Dadra and Nagar Haveli and Daman and Diu', 'Delhi', 'Goa',\n",
       "       'Gujarat', 'Haryana', 'Himachal Pradesh', 'Jammu and Kashmir',\n",
       "       'Jharkhand', 'Karnataka', 'Kerala', 'Lakshadweep',\n",
       "       'Madhya Pradesh', 'Maharashtra', 'Manipur', 'Meghalaya', 'Mizoram',\n",
       "       'Nagaland', 'Odisha', 'Puducherry', 'Punjab', 'Rajasthan',\n",
       "       'Sikkim', 'Tamil Nadu', 'Telangana', 'Tripura', 'Uttar Pradesh',\n",
       "       'West Bengal', 'Chhattisgarh', 'Ladakh', 'Uttarakhand'],\n",
       "      dtype=object)"
      ]
     },
     "execution_count": 4,
     "metadata": {},
     "output_type": "execute_result"
    }
   ],
   "source": [
    "#hide\n",
    "arr_states[-9] = 'Puducherry'\n",
    "arr_states[-10] = 'Odisha'\n",
    "arr_states[6] = 'Dadra and Nagar Haveli and Daman and Diu'\n",
    "arr_states = np.append(arr_states,np.array(['Chhattisgarh','Ladakh','Uttarakhand']))\n",
    "arr_states"
   ]
  },
  {
   "cell_type": "code",
   "execution_count": 5,
   "metadata": {
    "execution": {
     "iopub.execute_input": "2020-08-15T14:18:54.261956Z",
     "iopub.status.busy": "2020-08-15T14:18:54.261484Z",
     "iopub.status.idle": "2020-08-15T14:18:54.266949Z",
     "shell.execute_reply": "2020-08-15T14:18:54.267455Z"
    },
    "papermill": {
     "duration": 0.028516,
     "end_time": "2020-08-15T14:18:54.267580",
     "exception": false,
     "start_time": "2020-08-15T14:18:54.239064",
     "status": "completed"
    },
    "tags": []
   },
   "outputs": [],
   "source": [
    "#hide\n",
    "dates = []\n",
    "for i in arr_dates:\n",
    "    if i>='2020-07-01':\n",
    "        dates.append(i)\n",
    "dict = {'states':dates}\n",
    "for i in arr_states:\n",
    "    dict[i] = [0]*len(dates)\n",
    "dft_cases = pd.DataFrame(dict)\n",
    "dft_deaths = pd.DataFrame(dict)\n"
   ]
  },
  {
   "cell_type": "code",
   "execution_count": 6,
   "metadata": {
    "execution": {
     "iopub.execute_input": "2020-08-15T14:18:54.299046Z",
     "iopub.status.busy": "2020-08-15T14:18:54.298471Z",
     "iopub.status.idle": "2020-08-15T14:18:54.857972Z",
     "shell.execute_reply": "2020-08-15T14:18:54.857371Z"
    },
    "papermill": {
     "duration": 0.576576,
     "end_time": "2020-08-15T14:18:54.858097",
     "exception": false,
     "start_time": "2020-08-15T14:18:54.281521",
     "status": "completed"
    },
    "tags": []
   },
   "outputs": [],
   "source": [
    "#hide\n",
    "for i in range(len(dates)):\n",
    "    df1_deaths = df_deaths1.get_group(dates[i])\n",
    "    for j in range(len(df1_deaths.index)):\n",
    "        if df1_deaths.iloc[j,1] in arr_states:\n",
    "            dft_deaths.loc[i,df1_deaths.iloc[j,1]] = df1_deaths.iloc[j,2]\n",
    "dft_deaths = dft_deaths.set_index('states')"
   ]
  },
  {
   "cell_type": "code",
   "execution_count": 7,
   "metadata": {
    "execution": {
     "iopub.execute_input": "2020-08-15T14:18:54.894285Z",
     "iopub.status.busy": "2020-08-15T14:18:54.893783Z",
     "iopub.status.idle": "2020-08-15T14:18:55.465644Z",
     "shell.execute_reply": "2020-08-15T14:18:55.465019Z"
    },
    "papermill": {
     "duration": 0.592645,
     "end_time": "2020-08-15T14:18:55.465799",
     "exception": false,
     "start_time": "2020-08-15T14:18:54.873154",
     "status": "completed"
    },
    "tags": []
   },
   "outputs": [],
   "source": [
    "#hide\n",
    "for i in range(len(dates)):\n",
    "    df1_cases = df_cases1.get_group(dates[i])\n",
    "    for j in range(len(df1_cases.index)):\n",
    "        if df1_cases.iloc[j,1] in arr_states:\n",
    "            dft_cases.loc[i,df1_cases.iloc[j,1]] = df1_cases.iloc[j,2]\n",
    "dft_cases = dft_cases.set_index('states')"
   ]
  },
  {
   "cell_type": "code",
   "execution_count": 8,
   "metadata": {
    "execution": {
     "iopub.execute_input": "2020-08-15T14:18:55.503807Z",
     "iopub.status.busy": "2020-08-15T14:18:55.503063Z",
     "iopub.status.idle": "2020-08-15T14:18:55.504556Z",
     "shell.execute_reply": "2020-08-15T14:18:55.505214Z"
    },
    "papermill": {
     "duration": 0.022616,
     "end_time": "2020-08-15T14:18:55.505372",
     "exception": false,
     "start_time": "2020-08-15T14:18:55.482756",
     "status": "completed"
    },
    "tags": []
   },
   "outputs": [],
   "source": [
    "#hide\n",
    "dft_cases = dft_cases.T\n",
    "dft_deaths = dft_deaths.T\n",
    "dt_today = dates[-1]\n",
    "dt_yday = dates[-2]"
   ]
  },
  {
   "cell_type": "code",
   "execution_count": 9,
   "metadata": {
    "execution": {
     "iopub.execute_input": "2020-08-15T14:18:55.542331Z",
     "iopub.status.busy": "2020-08-15T14:18:55.541857Z",
     "iopub.status.idle": "2020-08-15T14:18:55.544298Z",
     "shell.execute_reply": "2020-08-15T14:18:55.543835Z"
    },
    "papermill": {
     "duration": 0.023302,
     "end_time": "2020-08-15T14:18:55.544408",
     "exception": false,
     "start_time": "2020-08-15T14:18:55.521106",
     "status": "completed"
    },
    "tags": []
   },
   "outputs": [],
   "source": [
    "#hide\n",
    "dft_cases = dft_cases.reset_index()\n",
    "dft_deaths = dft_deaths.reset_index()\n",
    "dft_cases = dft_cases.rename(columns = {'index':'state'})\n",
    "dft_deaths = dft_deaths.rename(columns = {'index':'state'})"
   ]
  },
  {
   "cell_type": "code",
   "execution_count": 10,
   "metadata": {
    "execution": {
     "iopub.execute_input": "2020-08-15T14:18:55.584022Z",
     "iopub.status.busy": "2020-08-15T14:18:55.583524Z",
     "iopub.status.idle": "2020-08-15T14:18:55.585754Z",
     "shell.execute_reply": "2020-08-15T14:18:55.585199Z"
    },
    "papermill": {
     "duration": 0.028282,
     "end_time": "2020-08-15T14:18:55.585880",
     "exception": false,
     "start_time": "2020-08-15T14:18:55.557598",
     "status": "completed"
    },
    "tags": []
   },
   "outputs": [],
   "source": [
    "#hide\n",
    "dfc_cases = dft_cases.groupby('state')[dt_today].sum()\n",
    "dfc_deaths = dft_deaths.groupby('state')[dt_today].sum()\n",
    "dfp_cases = dft_cases.groupby('state')[dt_yday].sum()\n",
    "dfp_deaths = dft_deaths.groupby('state')[dt_yday].sum()"
   ]
  },
  {
   "cell_type": "code",
   "execution_count": 11,
   "metadata": {
    "execution": {
     "iopub.execute_input": "2020-08-15T14:18:55.630423Z",
     "iopub.status.busy": "2020-08-15T14:18:55.627204Z",
     "iopub.status.idle": "2020-08-15T14:18:55.632808Z",
     "shell.execute_reply": "2020-08-15T14:18:55.633352Z"
    },
    "papermill": {
     "duration": 0.032966,
     "end_time": "2020-08-15T14:18:55.633485",
     "exception": false,
     "start_time": "2020-08-15T14:18:55.600519",
     "status": "completed"
    },
    "tags": []
   },
   "outputs": [
    {
     "data": {
      "text/html": [
       "<div>\n",
       "<style scoped>\n",
       "    .dataframe tbody tr th:only-of-type {\n",
       "        vertical-align: middle;\n",
       "    }\n",
       "\n",
       "    .dataframe tbody tr th {\n",
       "        vertical-align: top;\n",
       "    }\n",
       "\n",
       "    .dataframe thead th {\n",
       "        text-align: right;\n",
       "    }\n",
       "</style>\n",
       "<table border=\"1\" class=\"dataframe\">\n",
       "  <thead>\n",
       "    <tr style=\"text-align: right;\">\n",
       "      <th></th>\n",
       "      <th>states</th>\n",
       "      <th>Cases</th>\n",
       "      <th>Deaths</th>\n",
       "      <th>PCases</th>\n",
       "      <th>PDeaths</th>\n",
       "    </tr>\n",
       "  </thead>\n",
       "  <tbody>\n",
       "    <tr>\n",
       "      <th>0</th>\n",
       "      <td>Maharashtra</td>\n",
       "      <td>572734</td>\n",
       "      <td>19427</td>\n",
       "      <td>572734</td>\n",
       "      <td>19427</td>\n",
       "    </tr>\n",
       "    <tr>\n",
       "      <th>1</th>\n",
       "      <td>Tamil Nadu</td>\n",
       "      <td>332105</td>\n",
       "      <td>5641</td>\n",
       "      <td>326245</td>\n",
       "      <td>5514</td>\n",
       "    </tr>\n",
       "    <tr>\n",
       "      <th>2</th>\n",
       "      <td>Andhra Pradesh</td>\n",
       "      <td>281817</td>\n",
       "      <td>2562</td>\n",
       "      <td>273085</td>\n",
       "      <td>2475</td>\n",
       "    </tr>\n",
       "    <tr>\n",
       "      <th>3</th>\n",
       "      <td>Karnataka</td>\n",
       "      <td>211108</td>\n",
       "      <td>3718</td>\n",
       "      <td>211108</td>\n",
       "      <td>3718</td>\n",
       "    </tr>\n",
       "    <tr>\n",
       "      <th>4</th>\n",
       "      <td>Delhi</td>\n",
       "      <td>151928</td>\n",
       "      <td>4188</td>\n",
       "      <td>150652</td>\n",
       "      <td>4178</td>\n",
       "    </tr>\n",
       "  </tbody>\n",
       "</table>\n",
       "</div>"
      ],
      "text/plain": [
       "           states   Cases  Deaths  PCases  PDeaths\n",
       "0     Maharashtra  572734   19427  572734    19427\n",
       "1      Tamil Nadu  332105    5641  326245     5514\n",
       "2  Andhra Pradesh  281817    2562  273085     2475\n",
       "3       Karnataka  211108    3718  211108     3718\n",
       "4           Delhi  151928    4188  150652     4178"
      ]
     },
     "execution_count": 11,
     "metadata": {},
     "output_type": "execute_result"
    }
   ],
   "source": [
    "#hide\n",
    "df_table = pd.DataFrame({'states': dfc_cases.index, 'Cases': dfc_cases.values, 'Deaths': dfc_deaths.values, 'PCases': dfp_cases.values, 'PDeaths': dfp_deaths.values}).set_index('states')\n",
    "df_table = df_table.sort_values(by = ['Cases','Deaths'], ascending = [False, False])\n",
    "df_table = df_table.reset_index()\n",
    "df_table.head()"
   ]
  },
  {
   "cell_type": "code",
   "execution_count": 12,
   "metadata": {
    "execution": {
     "iopub.execute_input": "2020-08-15T14:18:55.665736Z",
     "iopub.status.busy": "2020-08-15T14:18:55.665167Z",
     "iopub.status.idle": "2020-08-15T14:18:55.674440Z",
     "shell.execute_reply": "2020-08-15T14:18:55.674005Z"
    },
    "papermill": {
     "duration": 0.027137,
     "end_time": "2020-08-15T14:18:55.674554",
     "exception": false,
     "start_time": "2020-08-15T14:18:55.647417",
     "status": "completed"
    },
    "tags": []
   },
   "outputs": [],
   "source": [
    "#hide\n",
    "for c in 'Cases, Deaths'.split(', '):\n",
    "    df_table[f'{c} (+)'] = (df_table[c] - df_table[f'P{c}']).clip(0)\n",
    "df_table['Fatality Rate'] = (100* df_table['Deaths']/ df_table['Cases']).round(2)"
   ]
  },
  {
   "cell_type": "code",
   "execution_count": 13,
   "metadata": {
    "execution": {
     "iopub.execute_input": "2020-08-15T14:18:55.707962Z",
     "iopub.status.busy": "2020-08-15T14:18:55.707170Z",
     "iopub.status.idle": "2020-08-15T14:18:55.717390Z",
     "shell.execute_reply": "2020-08-15T14:18:55.716962Z"
    },
    "papermill": {
     "duration": 0.028573,
     "end_time": "2020-08-15T14:18:55.717500",
     "exception": false,
     "start_time": "2020-08-15T14:18:55.688927",
     "status": "completed"
    },
    "tags": []
   },
   "outputs": [
    {
     "data": {
      "text/html": [
       "<div>\n",
       "<style scoped>\n",
       "    .dataframe tbody tr th:only-of-type {\n",
       "        vertical-align: middle;\n",
       "    }\n",
       "\n",
       "    .dataframe tbody tr th {\n",
       "        vertical-align: top;\n",
       "    }\n",
       "\n",
       "    .dataframe thead th {\n",
       "        text-align: right;\n",
       "    }\n",
       "</style>\n",
       "<table border=\"1\" class=\"dataframe\">\n",
       "  <thead>\n",
       "    <tr style=\"text-align: right;\">\n",
       "      <th></th>\n",
       "      <th>states</th>\n",
       "      <th>Cases</th>\n",
       "      <th>Deaths</th>\n",
       "      <th>PCases</th>\n",
       "      <th>PDeaths</th>\n",
       "      <th>Cases (+)</th>\n",
       "      <th>Deaths (+)</th>\n",
       "      <th>Fatality Rate</th>\n",
       "    </tr>\n",
       "  </thead>\n",
       "  <tbody>\n",
       "    <tr>\n",
       "      <th>0</th>\n",
       "      <td>Maharashtra</td>\n",
       "      <td>572734</td>\n",
       "      <td>19427</td>\n",
       "      <td>572734</td>\n",
       "      <td>19427</td>\n",
       "      <td>0</td>\n",
       "      <td>0</td>\n",
       "      <td>3.39</td>\n",
       "    </tr>\n",
       "    <tr>\n",
       "      <th>1</th>\n",
       "      <td>Tamil Nadu</td>\n",
       "      <td>332105</td>\n",
       "      <td>5641</td>\n",
       "      <td>326245</td>\n",
       "      <td>5514</td>\n",
       "      <td>5860</td>\n",
       "      <td>127</td>\n",
       "      <td>1.70</td>\n",
       "    </tr>\n",
       "    <tr>\n",
       "      <th>2</th>\n",
       "      <td>Andhra Pradesh</td>\n",
       "      <td>281817</td>\n",
       "      <td>2562</td>\n",
       "      <td>273085</td>\n",
       "      <td>2475</td>\n",
       "      <td>8732</td>\n",
       "      <td>87</td>\n",
       "      <td>0.91</td>\n",
       "    </tr>\n",
       "    <tr>\n",
       "      <th>3</th>\n",
       "      <td>Karnataka</td>\n",
       "      <td>211108</td>\n",
       "      <td>3718</td>\n",
       "      <td>211108</td>\n",
       "      <td>3718</td>\n",
       "      <td>0</td>\n",
       "      <td>0</td>\n",
       "      <td>1.76</td>\n",
       "    </tr>\n",
       "    <tr>\n",
       "      <th>4</th>\n",
       "      <td>Delhi</td>\n",
       "      <td>151928</td>\n",
       "      <td>4188</td>\n",
       "      <td>150652</td>\n",
       "      <td>4178</td>\n",
       "      <td>1276</td>\n",
       "      <td>10</td>\n",
       "      <td>2.76</td>\n",
       "    </tr>\n",
       "  </tbody>\n",
       "</table>\n",
       "</div>"
      ],
      "text/plain": [
       "           states   Cases  Deaths  PCases  PDeaths  Cases (+)  Deaths (+)  \\\n",
       "0     Maharashtra  572734   19427  572734    19427          0           0   \n",
       "1      Tamil Nadu  332105    5641  326245     5514       5860         127   \n",
       "2  Andhra Pradesh  281817    2562  273085     2475       8732          87   \n",
       "3       Karnataka  211108    3718  211108     3718          0           0   \n",
       "4           Delhi  151928    4188  150652     4178       1276          10   \n",
       "\n",
       "   Fatality Rate  \n",
       "0           3.39  \n",
       "1           1.70  \n",
       "2           0.91  \n",
       "3           1.76  \n",
       "4           2.76  "
      ]
     },
     "execution_count": 13,
     "metadata": {},
     "output_type": "execute_result"
    }
   ],
   "source": [
    "#hide\n",
    "df_table.head()"
   ]
  },
  {
   "cell_type": "code",
   "execution_count": 14,
   "metadata": {
    "execution": {
     "iopub.execute_input": "2020-08-15T14:18:55.751966Z",
     "iopub.status.busy": "2020-08-15T14:18:55.751352Z",
     "iopub.status.idle": "2020-08-15T14:18:55.766840Z",
     "shell.execute_reply": "2020-08-15T14:18:55.766344Z"
    },
    "papermill": {
     "duration": 0.034767,
     "end_time": "2020-08-15T14:18:55.766955",
     "exception": false,
     "start_time": "2020-08-15T14:18:55.732188",
     "status": "completed"
    },
    "tags": []
   },
   "outputs": [
    {
     "data": {
      "text/plain": [
       "{'updated': '2020-08-15',\n",
       " 'since': '2020-08-14',\n",
       " 'Cases': 2557342,\n",
       " 'PCases': 2525222,\n",
       " 'Deaths': 49481,\n",
       " 'PDeaths': 49133,\n",
       " 'Cases (+)': 32120,\n",
       " 'Deaths (+)': 348}"
      ]
     },
     "execution_count": 14,
     "metadata": {},
     "output_type": "execute_result"
    }
   ],
   "source": [
    "#hide\n",
    "summary = {'updated':dates[-1], 'since':dates[-2]}\n",
    "list_names = ['Cases', 'PCases', 'Deaths', 'PDeaths', 'Cases (+)', 'Deaths (+)']\n",
    "for name in list_names:\n",
    "    summary[name] = df_table.sum()[name]\n",
    "summary"
   ]
  },
  {
   "cell_type": "code",
   "execution_count": 15,
   "metadata": {
    "execution": {
     "iopub.execute_input": "2020-08-15T14:18:55.801682Z",
     "iopub.status.busy": "2020-08-15T14:18:55.801036Z",
     "iopub.status.idle": "2020-08-15T14:18:55.802201Z",
     "shell.execute_reply": "2020-08-15T14:18:55.803882Z"
    },
    "papermill": {
     "duration": 0.022753,
     "end_time": "2020-08-15T14:18:55.804052",
     "exception": false,
     "start_time": "2020-08-15T14:18:55.781299",
     "status": "completed"
    },
    "tags": []
   },
   "outputs": [],
   "source": [
    "#hide\n",
    "overview = '''\n",
    "<!-- #######  HTML!! #########-->\n",
    "<h1 style=\"color: #5e9ca0; text-align: center;\">India</h1>\n",
    "<p style=\"text-align: center;\">Last update: <strong>{update}</strong></p>\n",
    "<p style=\"text-align: center;\">Confirmed cases:</p>\n",
    "<p style=\"text-align: center;font-size:24px;\">{cases} (<span style=\"color: #ff0000;\">+{new}</span>)</p>\n",
    "<p style=\"text-align: center;\">Confirmed deaths:</p>\n",
    "<p style=\"text-align: center;font-size:24px;\">{deaths} (<span style=\"color: #ff0000;\">+{dnew}</span>)</p>\n",
    "'''"
   ]
  },
  {
   "cell_type": "code",
   "execution_count": 16,
   "metadata": {
    "execution": {
     "iopub.execute_input": "2020-08-15T14:18:55.842287Z",
     "iopub.status.busy": "2020-08-15T14:18:55.841752Z",
     "iopub.status.idle": "2020-08-15T14:18:55.844565Z",
     "shell.execute_reply": "2020-08-15T14:18:55.844106Z"
    },
    "papermill": {
     "duration": 0.024159,
     "end_time": "2020-08-15T14:18:55.844693",
     "exception": false,
     "start_time": "2020-08-15T14:18:55.820534",
     "status": "completed"
    },
    "tags": []
   },
   "outputs": [
    {
     "data": {
      "text/html": [
       "\n",
       "<!-- #######  HTML!! #########-->\n",
       "<h1 style=\"color: #5e9ca0; text-align: center;\">India</h1>\n",
       "<p style=\"text-align: center;\">Last update: <strong>2020-08-15</strong></p>\n",
       "<p style=\"text-align: center;\">Confirmed cases:</p>\n",
       "<p style=\"text-align: center;font-size:24px;\">2557342 (<span style=\"color: #ff0000;\">+32120</span>)</p>\n",
       "<p style=\"text-align: center;\">Confirmed deaths:</p>\n",
       "<p style=\"text-align: center;font-size:24px;\">49481 (<span style=\"color: #ff0000;\">+348</span>)</p>\n"
      ],
      "text/plain": [
       "<IPython.core.display.HTML object>"
      ]
     },
     "metadata": {},
     "output_type": "display_data"
    }
   ],
   "source": [
    "#hide_input\n",
    "update = summary['updated']\n",
    "cases = summary['Cases']\n",
    "new = summary['Cases (+)']\n",
    "deaths = summary['Deaths']\n",
    "dnew = summary['Deaths (+)']\n",
    "\n",
    "html = HTML(overview.format(update=update, cases=cases,new=new,deaths=deaths,dnew=dnew))\n",
    "\n",
    "display(html)"
   ]
  },
  {
   "cell_type": "code",
   "execution_count": 17,
   "metadata": {
    "execution": {
     "iopub.execute_input": "2020-08-15T14:18:55.882554Z",
     "iopub.status.busy": "2020-08-15T14:18:55.880248Z",
     "iopub.status.idle": "2020-08-15T14:18:55.886787Z",
     "shell.execute_reply": "2020-08-15T14:18:55.885837Z"
    },
    "papermill": {
     "duration": 0.02755,
     "end_time": "2020-08-15T14:18:55.886895",
     "exception": false,
     "start_time": "2020-08-15T14:18:55.859345",
     "status": "completed"
    },
    "tags": []
   },
   "outputs": [],
   "source": [
    "#hide\n",
    "dt_cols = list(dft_cases.columns[1:])\n",
    "dft_ct_new_cases = dft_cases.groupby('state')[dt_cols].sum().diff(axis=1).fillna(0).astype(int)\n",
    "dft_ct_new_cases.sort_values(by = dates[-1], ascending = False,inplace = True)"
   ]
  },
  {
   "cell_type": "code",
   "execution_count": 18,
   "metadata": {
    "execution": {
     "iopub.execute_input": "2020-08-15T14:18:55.932594Z",
     "iopub.status.busy": "2020-08-15T14:18:55.923210Z",
     "iopub.status.idle": "2020-08-15T14:18:55.935977Z",
     "shell.execute_reply": "2020-08-15T14:18:55.935493Z"
    },
    "papermill": {
     "duration": 0.03396,
     "end_time": "2020-08-15T14:18:55.936097",
     "exception": false,
     "start_time": "2020-08-15T14:18:55.902137",
     "status": "completed"
    },
    "tags": []
   },
   "outputs": [
    {
     "data": {
      "text/html": [
       "<div>\n",
       "<style scoped>\n",
       "    .dataframe tbody tr th:only-of-type {\n",
       "        vertical-align: middle;\n",
       "    }\n",
       "\n",
       "    .dataframe tbody tr th {\n",
       "        vertical-align: top;\n",
       "    }\n",
       "\n",
       "    .dataframe thead th {\n",
       "        text-align: right;\n",
       "    }\n",
       "</style>\n",
       "<table border=\"1\" class=\"dataframe\">\n",
       "  <thead>\n",
       "    <tr style=\"text-align: right;\">\n",
       "      <th>states</th>\n",
       "      <th>2020-07-01</th>\n",
       "      <th>2020-07-02</th>\n",
       "      <th>2020-07-03</th>\n",
       "      <th>2020-07-04</th>\n",
       "      <th>2020-07-05</th>\n",
       "      <th>2020-07-06</th>\n",
       "      <th>2020-07-07</th>\n",
       "      <th>2020-07-08</th>\n",
       "      <th>2020-07-09</th>\n",
       "      <th>2020-07-10</th>\n",
       "      <th>...</th>\n",
       "      <th>2020-08-06</th>\n",
       "      <th>2020-08-07</th>\n",
       "      <th>2020-08-08</th>\n",
       "      <th>2020-08-09</th>\n",
       "      <th>2020-08-10</th>\n",
       "      <th>2020-08-11</th>\n",
       "      <th>2020-08-12</th>\n",
       "      <th>2020-08-13</th>\n",
       "      <th>2020-08-14</th>\n",
       "      <th>2020-08-15</th>\n",
       "    </tr>\n",
       "    <tr>\n",
       "      <th>state</th>\n",
       "      <th></th>\n",
       "      <th></th>\n",
       "      <th></th>\n",
       "      <th></th>\n",
       "      <th></th>\n",
       "      <th></th>\n",
       "      <th></th>\n",
       "      <th></th>\n",
       "      <th></th>\n",
       "      <th></th>\n",
       "      <th></th>\n",
       "      <th></th>\n",
       "      <th></th>\n",
       "      <th></th>\n",
       "      <th></th>\n",
       "      <th></th>\n",
       "      <th></th>\n",
       "      <th></th>\n",
       "      <th></th>\n",
       "      <th></th>\n",
       "      <th></th>\n",
       "    </tr>\n",
       "  </thead>\n",
       "  <tbody>\n",
       "    <tr>\n",
       "      <th>Andhra Pradesh</th>\n",
       "      <td>0</td>\n",
       "      <td>845</td>\n",
       "      <td>837</td>\n",
       "      <td>765</td>\n",
       "      <td>998</td>\n",
       "      <td>1322</td>\n",
       "      <td>1178</td>\n",
       "      <td>1062</td>\n",
       "      <td>1555</td>\n",
       "      <td>1608</td>\n",
       "      <td>...</td>\n",
       "      <td>10328</td>\n",
       "      <td>10171</td>\n",
       "      <td>10080</td>\n",
       "      <td>10820</td>\n",
       "      <td>7665</td>\n",
       "      <td>9024</td>\n",
       "      <td>9597</td>\n",
       "      <td>9996</td>\n",
       "      <td>8943</td>\n",
       "      <td>8732</td>\n",
       "    </tr>\n",
       "    <tr>\n",
       "      <th>Tamil Nadu</th>\n",
       "      <td>0</td>\n",
       "      <td>4343</td>\n",
       "      <td>4329</td>\n",
       "      <td>4280</td>\n",
       "      <td>4150</td>\n",
       "      <td>3827</td>\n",
       "      <td>3616</td>\n",
       "      <td>3756</td>\n",
       "      <td>4231</td>\n",
       "      <td>3680</td>\n",
       "      <td>...</td>\n",
       "      <td>5684</td>\n",
       "      <td>5880</td>\n",
       "      <td>5883</td>\n",
       "      <td>5994</td>\n",
       "      <td>5914</td>\n",
       "      <td>5834</td>\n",
       "      <td>5871</td>\n",
       "      <td>5835</td>\n",
       "      <td>5890</td>\n",
       "      <td>5860</td>\n",
       "    </tr>\n",
       "    <tr>\n",
       "      <th>Uttar Pradesh</th>\n",
       "      <td>0</td>\n",
       "      <td>769</td>\n",
       "      <td>972</td>\n",
       "      <td>757</td>\n",
       "      <td>1153</td>\n",
       "      <td>929</td>\n",
       "      <td>1332</td>\n",
       "      <td>1188</td>\n",
       "      <td>1206</td>\n",
       "      <td>1338</td>\n",
       "      <td>...</td>\n",
       "      <td>4586</td>\n",
       "      <td>4404</td>\n",
       "      <td>4660</td>\n",
       "      <td>4571</td>\n",
       "      <td>4113</td>\n",
       "      <td>5041</td>\n",
       "      <td>4475</td>\n",
       "      <td>4537</td>\n",
       "      <td>4512</td>\n",
       "      <td>4774</td>\n",
       "    </tr>\n",
       "    <tr>\n",
       "      <th>Bihar</th>\n",
       "      <td>0</td>\n",
       "      <td>478</td>\n",
       "      <td>426</td>\n",
       "      <td>349</td>\n",
       "      <td>403</td>\n",
       "      <td>280</td>\n",
       "      <td>385</td>\n",
       "      <td>749</td>\n",
       "      <td>704</td>\n",
       "      <td>352</td>\n",
       "      <td>...</td>\n",
       "      <td>3416</td>\n",
       "      <td>3646</td>\n",
       "      <td>3992</td>\n",
       "      <td>3934</td>\n",
       "      <td>3021</td>\n",
       "      <td>4071</td>\n",
       "      <td>3741</td>\n",
       "      <td>3906</td>\n",
       "      <td>3911</td>\n",
       "      <td>3536</td>\n",
       "    </tr>\n",
       "    <tr>\n",
       "      <th>Odisha</th>\n",
       "      <td>0</td>\n",
       "      <td>229</td>\n",
       "      <td>561</td>\n",
       "      <td>495</td>\n",
       "      <td>469</td>\n",
       "      <td>456</td>\n",
       "      <td>571</td>\n",
       "      <td>527</td>\n",
       "      <td>577</td>\n",
       "      <td>755</td>\n",
       "      <td>...</td>\n",
       "      <td>1699</td>\n",
       "      <td>1833</td>\n",
       "      <td>1643</td>\n",
       "      <td>1734</td>\n",
       "      <td>1528</td>\n",
       "      <td>1341</td>\n",
       "      <td>1876</td>\n",
       "      <td>1981</td>\n",
       "      <td>1977</td>\n",
       "      <td>2496</td>\n",
       "    </tr>\n",
       "  </tbody>\n",
       "</table>\n",
       "<p>5 rows × 46 columns</p>\n",
       "</div>"
      ],
      "text/plain": [
       "states          2020-07-01  2020-07-02  2020-07-03  2020-07-04  2020-07-05  \\\n",
       "state                                                                        \n",
       "Andhra Pradesh           0         845         837         765         998   \n",
       "Tamil Nadu               0        4343        4329        4280        4150   \n",
       "Uttar Pradesh            0         769         972         757        1153   \n",
       "Bihar                    0         478         426         349         403   \n",
       "Odisha                   0         229         561         495         469   \n",
       "\n",
       "states          2020-07-06  2020-07-07  2020-07-08  2020-07-09  2020-07-10  \\\n",
       "state                                                                        \n",
       "Andhra Pradesh        1322        1178        1062        1555        1608   \n",
       "Tamil Nadu            3827        3616        3756        4231        3680   \n",
       "Uttar Pradesh          929        1332        1188        1206        1338   \n",
       "Bihar                  280         385         749         704         352   \n",
       "Odisha                 456         571         527         577         755   \n",
       "\n",
       "states          ...  2020-08-06  2020-08-07  2020-08-08  2020-08-09  \\\n",
       "state           ...                                                   \n",
       "Andhra Pradesh  ...       10328       10171       10080       10820   \n",
       "Tamil Nadu      ...        5684        5880        5883        5994   \n",
       "Uttar Pradesh   ...        4586        4404        4660        4571   \n",
       "Bihar           ...        3416        3646        3992        3934   \n",
       "Odisha          ...        1699        1833        1643        1734   \n",
       "\n",
       "states          2020-08-10  2020-08-11  2020-08-12  2020-08-13  2020-08-14  \\\n",
       "state                                                                        \n",
       "Andhra Pradesh        7665        9024        9597        9996        8943   \n",
       "Tamil Nadu            5914        5834        5871        5835        5890   \n",
       "Uttar Pradesh         4113        5041        4475        4537        4512   \n",
       "Bihar                 3021        4071        3741        3906        3911   \n",
       "Odisha                1528        1341        1876        1981        1977   \n",
       "\n",
       "states          2020-08-15  \n",
       "state                       \n",
       "Andhra Pradesh        8732  \n",
       "Tamil Nadu            5860  \n",
       "Uttar Pradesh         4774  \n",
       "Bihar                 3536  \n",
       "Odisha                2496  \n",
       "\n",
       "[5 rows x 46 columns]"
      ]
     },
     "execution_count": 18,
     "metadata": {},
     "output_type": "execute_result"
    }
   ],
   "source": [
    "#hide\n",
    "dft_ct_new_cases.head()"
   ]
  },
  {
   "cell_type": "code",
   "execution_count": 19,
   "metadata": {
    "execution": {
     "iopub.execute_input": "2020-08-15T14:18:56.016891Z",
     "iopub.status.busy": "2020-08-15T14:18:55.993896Z",
     "iopub.status.idle": "2020-08-15T14:18:58.109992Z",
     "shell.execute_reply": "2020-08-15T14:18:58.110361Z"
    },
    "papermill": {
     "duration": 2.157694,
     "end_time": "2020-08-15T14:18:58.110494",
     "exception": false,
     "start_time": "2020-08-15T14:18:55.952800",
     "status": "completed"
    },
    "tags": []
   },
   "outputs": [
    {
     "data": {
      "image/png": "[encoded data removed]",
      "text/plain": [
       "<Figure size 1296x2016 with 11 Axes>"
      ]
     },
     "metadata": {
      "needs_background": "light"
     },
     "output_type": "display_data"
    }
   ],
   "source": [
    "#hide_input\n",
    "df = dft_ct_new_cases.copy()\n",
    "df.loc['Total'] = df.sum()\n",
    "n = 5\n",
    "ax = []\n",
    "fig = plt.figure(figsize = (18,28))\n",
    "gs = fig.add_gridspec(n+2, 5)\n",
    "# gs = fig.add_gridspec(2, 3)\n",
    "ax1 = fig.add_subplot(gs[0, :])\n",
    "ef = df.loc['Total'].rename_axis('date').reset_index()\n",
    "ef['date'] = ef['date'].astype('datetime64[ns]')\n",
    "ax1.bar(ef.date,ef.Total,alpha=0.3,color='#007acc')\n",
    "ax1.plot(ef.date,ef.Total , marker=\"o\", color='#007acc')\n",
    "ax1.xaxis.set_major_locator(mdates.WeekdayLocator())\n",
    "ax1.xaxis.set_major_formatter(mdates.DateFormatter('%b %d'))\n",
    "ax1.text(0.02, 0.5,'India daily case count', transform = ax1.transAxes, fontsize=25);\n",
    "ax1.spines['right'].set_visible(False)\n",
    "ax1.spines['top'].set_visible(False)\n",
    "\n",
    "ax2 = fig.add_subplot(gs[1,0])\n",
    "ef = df.loc['Maharashtra'].rename_axis('date').reset_index()\n",
    "ef['date'] = ef['date'].astype('datetime64[ns]')\n",
    "\n",
    "ax2.bar(ef.date, ef.Maharashtra,color = '#007acc',alpha=0.5)\n",
    "ax2.xaxis.set_major_locator(mdates.WeekdayLocator())\n",
    "ax2.xaxis.set_major_formatter(mdates.DateFormatter('%b %d'))\n",
    "ax2.set_xticks(ax2.get_xticks()[::3])\n",
    "maxyval = ef.Maharashtra.max()\n",
    "ax2.set_ylim([0,maxyval])\n",
    "ax2.text(0.05, 0.9,'Maharashtra', transform = ax2.transAxes, fontsize=20);\n",
    "ax2.spines['right'].set_visible(False)\n",
    "ax2.spines['top'].set_visible(False)\n",
    "\n",
    "\n",
    "ax3 = fig.add_subplot(gs[1,1])\n",
    "ef = df.loc['Tamil Nadu'].rename_axis('date').reset_index()\n",
    "ef['date'] = ef['date'].astype('datetime64[ns]')\n",
    "ax3.bar(ef.date, ef['Tamil Nadu'],color = '#007acc',alpha=0.5,)\n",
    "ax3.xaxis.set_major_locator(mdates.WeekdayLocator())\n",
    "ax3.xaxis.set_major_formatter(mdates.DateFormatter('%b %d'))\n",
    "ax3.set_xticks(ax3.get_xticks()[::3])\n",
    "ax3.text(0.05, 0.9,'Tamil Nadu', transform = ax3.transAxes, fontsize=20);\n",
    "ax3.spines['right'].set_visible(False)\n",
    "ax3.spines['top'].set_visible(False)\n",
    "\n",
    "ax5 = fig.add_subplot(gs[1,3])\n",
    "ef = df.loc['Telangana'].rename_axis('date').reset_index()\n",
    "ef['date'] = ef['date'].astype('datetime64[ns]')\n",
    "ax5.bar(ef.date, ef['Telangana'],color = '#007acc',alpha=0.5,)\n",
    "ax5.xaxis.set_major_locator(mdates.WeekdayLocator())\n",
    "ax5.xaxis.set_major_formatter(mdates.DateFormatter('%b %d'))\n",
    "ax5.set_xticks(ax5.get_xticks()[::3])\n",
    "ax5.text(0.05, 0.9,'Telangana', transform = ax5.transAxes, fontsize=20);\n",
    "ax5.spines['right'].set_visible(False)\n",
    "ax5.spines['top'].set_visible(False)\n",
    "\n",
    "ax6 = fig.add_subplot(gs[1,4])\n",
    "ef = df.loc['Andhra Pradesh'].rename_axis('date').reset_index()\n",
    "ef['date'] = ef['date'].astype('datetime64[ns]')\n",
    "ax6.bar(ef.date, ef['Andhra Pradesh'],color = '#007acc',alpha=0.5,)\n",
    "ax6.xaxis.set_major_locator(mdates.WeekdayLocator())\n",
    "ax6.xaxis.set_major_formatter(mdates.DateFormatter('%b %d'))\n",
    "ax6.set_xticks(ax6.get_xticks()[::3])\n",
    "ax6.text(0.05, 1,'Andhra Pradesh', transform = ax6.transAxes, fontsize=20);\n",
    "ax6.spines['right'].set_visible(False)\n",
    "ax6.spines['top'].set_visible(False)\n",
    "\n",
    "ax4 = fig.add_subplot(gs[1,2])\n",
    "ef = df.loc['Delhi'].rename_axis('date').reset_index()\n",
    "ef['date'] = ef['date'].astype('datetime64[ns]')\n",
    "ax4.bar(ef.date, ef.Delhi,color = '#007acc',alpha=0.5)\n",
    "ax4.set_xticks([])\n",
    "ax4.xaxis.set_major_locator(mdates.WeekdayLocator())\n",
    "ax4.xaxis.set_major_formatter(mdates.DateFormatter('%b %d'))\n",
    "ax4.set_xticks(ax4.get_xticks()[::3])\n",
    "ax4.spines['right'].set_visible(False)\n",
    "ax4.spines['top'].set_visible(False)\n",
    "\n",
    "ax4.text(0.05, 1,'Delhi', transform = ax4.transAxes, fontsize=20)\n",
    "\n",
    "for i in range(n):\n",
    "    \n",
    "    ax.append(fig.add_subplot(gs[i+2,:]))\n",
    "    ef = df.iloc[i+3].rename_axis('date').reset_index()\n",
    "    ef['date'] = ef['date'].astype('datetime64[ns]')\n",
    "    ax[i].bar(ef.date,ef.iloc[:,-1],color = '#007acc',alpha=0.3)\n",
    "    ax[i].plot(ef.date,ef.iloc[:,-1],marker='o',color='#007acc')\n",
    "    ax[i].text(0.02,0.5,f'{ef.columns.values[-1]}',transform = ax[i].transAxes, fontsize = 20);\n",
    "    ax[i].xaxis.set_major_locator(mdates.WeekdayLocator())\n",
    "    ax[i].xaxis.set_major_formatter(mdates.DateFormatter('%b %d'))\n",
    "    ax[i].set_ylim([0,7000])\n",
    "    ax[i].spines['right'].set_visible(False)\n",
    "    ax[i].spines['top'].set_visible(False)\n",
    "plt.tight_layout()\n"
   ]
  },
  {
   "cell_type": "code",
   "execution_count": 20,
   "metadata": {
    "execution": {
     "iopub.execute_input": "2020-08-15T14:18:58.823067Z",
     "iopub.status.busy": "2020-08-15T14:18:58.822532Z",
     "iopub.status.idle": "2020-08-15T14:18:58.825397Z",
     "shell.execute_reply": "2020-08-15T14:18:58.824838Z"
    },
    "papermill": {
     "duration": 0.691574,
     "end_time": "2020-08-15T14:18:58.825527",
     "exception": false,
     "start_time": "2020-08-15T14:18:58.133953",
     "status": "completed"
    },
    "tags": []
   },
   "outputs": [
    {
     "name": "stdout",
     "output_type": "stream",
     "text": [
      "                                   states   Cases  Deaths  PCases  PDeaths  Cases (+)  Deaths (+)  Fatality Rate\n",
      "                              Maharashtra  572734   19427  572734    19427          0           0           3.39\n",
      "                               Tamil Nadu  332105    5641  326245     5514       5860         127           1.70\n",
      "                           Andhra Pradesh  281817    2562  273085     2475       8732          87           0.91\n",
      "                                Karnataka  211108    3718  211108     3718          0           0           1.76\n",
      "                                    Delhi  151928    4188  150652     4178       1276          10           2.76\n",
      "                            Uttar Pradesh  150061    2393  145287     2335       4774          58           1.59\n",
      "                              West Bengal  110358    2319  110358     2319          0           0           2.10\n",
      "                                    Bihar  101906     515   98370      500       3536          15           0.51\n",
      "                                Telangana   90259     684   88396      674       1863          10           0.76\n",
      "                                  Gujarat   76569    2746   76569     2746          0           0           3.59\n",
      "                                    Assam   74502     175   74502      175          0           0           0.23\n",
      "                                Rajasthan   59378     859   58692      846        686          13           1.45\n",
      "                                   Odisha   57126     386   54630      377       2496           9           0.68\n",
      "                                  Haryana   45614     518   45614      518          0           0           1.14\n",
      "                           Madhya Pradesh   43414    1081   43414     1081          0           0           2.49\n",
      "                                   Kerala   42885     147   41277      140       1608           7           0.34\n",
      "                                   Punjab   29013     731   29013      731          0           0           2.52\n",
      "                        Jammu and Kashmir   28021     527   27489      520        532           7           1.88\n",
      "                                Jharkhand   22192     225   22125      224         67           1           1.01\n",
      "                             Chhattisgarh   14559     130   14559      130          0           0           0.89\n",
      "                              Uttarakhand   11615     147   11615      147          0           0           1.27\n",
      "                                      Goa   10970      93   10970       93          0           0           0.85\n",
      "                               Puducherry    7354     106    6995      106        359           0           1.44\n",
      "                                  Tripura    6949      50    6782       46        167           4           0.72\n",
      "                                  Manipur    4198      13    4198       13          0           0           0.31\n",
      "                         Himachal Pradesh    3883      18    3874       18          9           0           0.46\n",
      "                                 Nagaland    3340       7    3322        7         18           0           0.21\n",
      "                        Arunachal Pradesh    2607       5    2607        5          0           0           0.19\n",
      "              Andaman and Nicobar Islands    2186      24    2186       24          0           0           1.10\n",
      "                               Chandigarh    2009      28    1928       28         81           0           1.39\n",
      "                                   Ladakh    1879       9    1879        9          0           0           0.48\n",
      " Dadra and Nagar Haveli and Daman and Diu    1782       2    1782        2          0           0           0.11\n",
      "                                Meghalaya    1228       6    1228        6          0           0           0.49\n",
      "                                   Sikkim    1080       1    1080        1          0           0           0.09\n",
      "                                  Mizoram     713       0     657        0         56           0           0.00\n",
      "                              Lakshadweep       0       0       0        0          0           0            NaN\n"
     ]
    }
   ],
   "source": [
    "#hide_input\n",
    "print(df_table.to_string(index=False))"
   ]
  },
  {
   "cell_type": "code",
   "execution_count": null,
   "metadata": {
    "papermill": {
     "duration": 0.02144,
     "end_time": "2020-08-15T14:18:59.530288",
     "exception": false,
     "start_time": "2020-08-15T14:18:59.508848",
     "status": "completed"
    },
    "tags": []
   },
   "outputs": [],
   "source": []
  },
  {
   "cell_type": "code",
   "execution_count": null,
   "metadata": {
    "papermill": {
     "duration": 0.021374,
     "end_time": "2020-08-15T14:18:59.572499",
     "exception": false,
     "start_time": "2020-08-15T14:18:59.551125",
     "status": "completed"
    },
    "tags": []
   },
   "outputs": [],
   "source": []
  }
 ],
 "metadata": {
  "kernelspec": {
   "display_name": "Python 3",
   "language": "python",
   "name": "python3"
  },
  "language_info": {
   "codemirror_mode": {
    "name": "ipython",
    "version": 3
   },
   "file_extension": ".py",
   "mimetype": "text/x-python",
   "name": "python",
   "nbconvert_exporter": "python",
   "pygments_lexer": "ipython3",
   "version": "3.6.11"
  },
  "papermill": {
   "duration": 7.782642,
   "end_time": "2020-08-15T14:19:00.000201",
   "environment_variables": {},
   "exception": null,
   "input_path": "latest.ipynb",
   "output_path": "latest.ipynb",
   "parameters": {},
   "start_time": "2020-08-15T14:18:52.217559",
   "version": "2.1.2"
  }
 },
 "nbformat": 4,
 "nbformat_minor": 4
}