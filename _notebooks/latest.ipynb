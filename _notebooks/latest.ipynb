{
 "cells": [
  {
   "cell_type": "markdown",
   "metadata": {
    "papermill": {
     "duration": 0.021363,
     "end_time": "2020-11-16T06:21:34.470714",
     "exception": false,
     "start_time": "2020-11-16T06:21:34.449351",
     "status": "completed"
    },
    "tags": []
   },
   "source": [
    "# Latest COVID-19 India Matplotlib Overview"
   ]
  },
  {
   "cell_type": "code",
   "execution_count": 1,
   "metadata": {
    "execution": {
     "iopub.execute_input": "2020-11-16T06:21:34.510780Z",
     "iopub.status.busy": "2020-11-16T06:21:34.510138Z",
     "iopub.status.idle": "2020-11-16T06:21:35.108172Z",
     "shell.execute_reply": "2020-11-16T06:21:35.109193Z"
    },
    "papermill": {
     "duration": 0.622794,
     "end_time": "2020-11-16T06:21:35.109505",
     "exception": false,
     "start_time": "2020-11-16T06:21:34.486711",
     "status": "completed"
    },
    "tags": []
   },
   "outputs": [],
   "source": [
    "#hide\n",
    "import pandas as pd\n",
    "import numpy as np\n",
    "import requests\n",
    "import json\n",
    "import matplotlib.pyplot as plt\n",
    "import matplotlib.dates as mdates\n",
    "import matplotlib as mpl\n",
    "from IPython.core.display import display,HTML\n",
    "%matplotlib inline\n",
    "from datetime import date"
   ]
  },
  {
   "cell_type": "code",
   "execution_count": 2,
   "metadata": {
    "execution": {
     "iopub.execute_input": "2020-11-16T06:21:35.154224Z",
     "iopub.status.busy": "2020-11-16T06:21:35.153596Z",
     "iopub.status.idle": "2020-11-16T06:21:35.317948Z",
     "shell.execute_reply": "2020-11-16T06:21:35.317427Z"
    },
    "papermill": {
     "duration": 0.190848,
     "end_time": "2020-11-16T06:21:35.318089",
     "exception": false,
     "start_time": "2020-11-16T06:21:35.127241",
     "status": "completed"
    },
    "tags": []
   },
   "outputs": [],
   "source": [
    "#hide\n",
    "df  = pd.read_csv('https://api.covid19india.org/csv/latest/states.csv')\n",
    "df = df[['Date','State','Confirmed','Deceased']]\n",
    "df = df.rename(columns={'Confirmed':'Cases', \"Deceased\":'Deaths'})\n",
    "df_cases = df[[\"Date\",'State','Cases']]\n",
    "df_deaths = df[['Date','State','Deaths']]\n",
    "df_cases1 = df_cases.groupby('Date')\n",
    "df_deaths1= df_deaths.groupby('Date')"
   ]
  },
  {
   "cell_type": "code",
   "execution_count": 3,
   "metadata": {
    "execution": {
     "iopub.execute_input": "2020-11-16T06:21:35.358925Z",
     "iopub.status.busy": "2020-11-16T06:21:35.358300Z",
     "iopub.status.idle": "2020-11-16T06:21:35.376367Z",
     "shell.execute_reply": "2020-11-16T06:21:35.375857Z"
    },
    "papermill": {
     "duration": 0.041361,
     "end_time": "2020-11-16T06:21:35.376507",
     "exception": false,
     "start_time": "2020-11-16T06:21:35.335146",
     "status": "completed"
    },
    "tags": []
   },
   "outputs": [],
   "source": [
    "#hide\n",
    "df_snap = pd.read_csv('data/SnapshotCases-28-July.csv')\n",
    "arr_states = df_snap['states'].unique()\n",
    "arr_dates = df['Date'].unique()\n",
    "df_snap = df_snap.set_index('states')"
   ]
  },
  {
   "cell_type": "code",
   "execution_count": 4,
   "metadata": {
    "execution": {
     "iopub.execute_input": "2020-11-16T06:21:35.417899Z",
     "iopub.status.busy": "2020-11-16T06:21:35.417190Z",
     "iopub.status.idle": "2020-11-16T06:21:35.421400Z",
     "shell.execute_reply": "2020-11-16T06:21:35.420776Z"
    },
    "papermill": {
     "duration": 0.028201,
     "end_time": "2020-11-16T06:21:35.421532",
     "exception": false,
     "start_time": "2020-11-16T06:21:35.393331",
     "status": "completed"
    },
    "tags": []
   },
   "outputs": [
    {
     "data": {
      "text/plain": [
       "array(['Andaman and Nicobar Islands', 'Andhra Pradesh',\n",
       "       'Arunachal Pradesh', 'Assam', 'Bihar', 'Chandigarh',\n",
       "       'Dadra and Nagar Haveli and Daman and Diu', 'Delhi', 'Goa',\n",
       "       'Gujarat', 'Haryana', 'Himachal Pradesh', 'Jammu and Kashmir',\n",
       "       'Jharkhand', 'Karnataka', 'Kerala', 'Lakshadweep',\n",
       "       'Madhya Pradesh', 'Maharashtra', 'Manipur', 'Meghalaya', 'Mizoram',\n",
       "       'Nagaland', 'Odisha', 'Puducherry', 'Punjab', 'Rajasthan',\n",
       "       'Sikkim', 'Tamil Nadu', 'Telangana', 'Tripura', 'Uttar Pradesh',\n",
       "       'West Bengal', 'Chhattisgarh', 'Ladakh', 'Uttarakhand'],\n",
       "      dtype=object)"
      ]
     },
     "execution_count": 4,
     "metadata": {},
     "output_type": "execute_result"
    }
   ],
   "source": [
    "#hide\n",
    "arr_states[-9] = 'Puducherry'\n",
    "arr_states[-10] = 'Odisha'\n",
    "arr_states[6] = 'Dadra and Nagar Haveli and Daman and Diu'\n",
    "arr_states = np.append(arr_states,np.array(['Chhattisgarh','Ladakh','Uttarakhand']))\n",
    "arr_states"
   ]
  },
  {
   "cell_type": "code",
   "execution_count": 5,
   "metadata": {
    "execution": {
     "iopub.execute_input": "2020-11-16T06:21:35.473782Z",
     "iopub.status.busy": "2020-11-16T06:21:35.473121Z",
     "iopub.status.idle": "2020-11-16T06:21:35.481142Z",
     "shell.execute_reply": "2020-11-16T06:21:35.480633Z"
    },
    "papermill": {
     "duration": 0.04313,
     "end_time": "2020-11-16T06:21:35.481272",
     "exception": false,
     "start_time": "2020-11-16T06:21:35.438142",
     "status": "completed"
    },
    "tags": []
   },
   "outputs": [],
   "source": [
    "#hide\n",
    "dates = []\n",
    "for i in arr_dates:\n",
    "    if i>='2020-07-01':\n",
    "        dates.append(i)\n",
    "dict = {'states':dates}\n",
    "for i in arr_states:\n",
    "    dict[i] = [0]*len(dates)\n",
    "dft_cases = pd.DataFrame(dict)\n",
    "dft_deaths = pd.DataFrame(dict)\n"
   ]
  },
  {
   "cell_type": "code",
   "execution_count": 6,
   "metadata": {
    "execution": {
     "iopub.execute_input": "2020-11-16T06:21:35.524067Z",
     "iopub.status.busy": "2020-11-16T06:21:35.523463Z",
     "iopub.status.idle": "2020-11-16T06:21:37.483289Z",
     "shell.execute_reply": "2020-11-16T06:21:37.482390Z"
    },
    "papermill": {
     "duration": 1.985328,
     "end_time": "2020-11-16T06:21:37.483509",
     "exception": false,
     "start_time": "2020-11-16T06:21:35.498181",
     "status": "completed"
    },
    "tags": []
   },
   "outputs": [],
   "source": [
    "#hide\n",
    "for i in range(len(dates)):\n",
    "    df1_deaths = df_deaths1.get_group(dates[i])\n",
    "    for j in range(len(df1_deaths.index)):\n",
    "        if df1_deaths.iloc[j,1] in arr_states:\n",
    "            dft_deaths.loc[i,df1_deaths.iloc[j,1]] = df1_deaths.iloc[j,2]\n",
    "dft_deaths = dft_deaths.set_index('states')"
   ]
  },
  {
   "cell_type": "code",
   "execution_count": 7,
   "metadata": {
    "execution": {
     "iopub.execute_input": "2020-11-16T06:21:37.525838Z",
     "iopub.status.busy": "2020-11-16T06:21:37.525237Z",
     "iopub.status.idle": "2020-11-16T06:21:39.635531Z",
     "shell.execute_reply": "2020-11-16T06:21:39.634748Z"
    },
    "papermill": {
     "duration": 2.134327,
     "end_time": "2020-11-16T06:21:39.635736",
     "exception": false,
     "start_time": "2020-11-16T06:21:37.501409",
     "status": "completed"
    },
    "tags": []
   },
   "outputs": [],
   "source": [
    "#hide\n",
    "for i in range(len(dates)):\n",
    "    df1_cases = df_cases1.get_group(dates[i])\n",
    "    for j in range(len(df1_cases.index)):\n",
    "        if df1_cases.iloc[j,1] in arr_states:\n",
    "            dft_cases.loc[i,df1_cases.iloc[j,1]] = df1_cases.iloc[j,2]\n",
    "dft_cases = dft_cases.set_index('states')"
   ]
  },
  {
   "cell_type": "code",
   "execution_count": 8,
   "metadata": {
    "execution": {
     "iopub.execute_input": "2020-11-16T06:21:39.675686Z",
     "iopub.status.busy": "2020-11-16T06:21:39.675064Z",
     "iopub.status.idle": "2020-11-16T06:21:39.679150Z",
     "shell.execute_reply": "2020-11-16T06:21:39.679597Z"
    },
    "papermill": {
     "duration": 0.025754,
     "end_time": "2020-11-16T06:21:39.679752",
     "exception": false,
     "start_time": "2020-11-16T06:21:39.653998",
     "status": "completed"
    },
    "tags": []
   },
   "outputs": [],
   "source": [
    "#hide\n",
    "dft_cases = dft_cases.T\n",
    "dft_deaths = dft_deaths.T\n",
    "dt_today = dates[-1]\n",
    "dt_yday = dates[-2]"
   ]
  },
  {
   "cell_type": "code",
   "execution_count": 9,
   "metadata": {
    "execution": {
     "iopub.execute_input": "2020-11-16T06:21:39.721705Z",
     "iopub.status.busy": "2020-11-16T06:21:39.720674Z",
     "iopub.status.idle": "2020-11-16T06:21:39.725508Z",
     "shell.execute_reply": "2020-11-16T06:21:39.725032Z"
    },
    "papermill": {
     "duration": 0.028882,
     "end_time": "2020-11-16T06:21:39.725641",
     "exception": false,
     "start_time": "2020-11-16T06:21:39.696759",
     "status": "completed"
    },
    "tags": []
   },
   "outputs": [],
   "source": [
    "#hide\n",
    "dft_cases = dft_cases.reset_index()\n",
    "dft_deaths = dft_deaths.reset_index()\n",
    "dft_cases = dft_cases.rename(columns = {'index':'state'})\n",
    "dft_deaths = dft_deaths.rename(columns = {'index':'state'})"
   ]
  },
  {
   "cell_type": "code",
   "execution_count": 10,
   "metadata": {
    "execution": {
     "iopub.execute_input": "2020-11-16T06:21:39.768796Z",
     "iopub.status.busy": "2020-11-16T06:21:39.768180Z",
     "iopub.status.idle": "2020-11-16T06:21:39.770436Z",
     "shell.execute_reply": "2020-11-16T06:21:39.769842Z"
    },
    "papermill": {
     "duration": 0.02956,
     "end_time": "2020-11-16T06:21:39.770571",
     "exception": false,
     "start_time": "2020-11-16T06:21:39.741011",
     "status": "completed"
    },
    "tags": []
   },
   "outputs": [],
   "source": [
    "#hide\n",
    "dfc_cases = dft_cases.groupby('state')[dt_today].sum()\n",
    "dfc_deaths = dft_deaths.groupby('state')[dt_today].sum()\n",
    "dfp_cases = dft_cases.groupby('state')[dt_yday].sum()\n",
    "dfp_deaths = dft_deaths.groupby('state')[dt_yday].sum()"
   ]
  },
  {
   "cell_type": "code",
   "execution_count": 11,
   "metadata": {
    "execution": {
     "iopub.execute_input": "2020-11-16T06:21:39.823176Z",
     "iopub.status.busy": "2020-11-16T06:21:39.822560Z",
     "iopub.status.idle": "2020-11-16T06:21:39.829350Z",
     "shell.execute_reply": "2020-11-16T06:21:39.828848Z"
    },
    "papermill": {
     "duration": 0.039644,
     "end_time": "2020-11-16T06:21:39.829479",
     "exception": false,
     "start_time": "2020-11-16T06:21:39.789835",
     "status": "completed"
    },
    "tags": []
   },
   "outputs": [
    {
     "data": {
      "text/html": [
       "<div>\n",
       "<style scoped>\n",
       "    .dataframe tbody tr th:only-of-type {\n",
       "        vertical-align: middle;\n",
       "    }\n",
       "\n",
       "    .dataframe tbody tr th {\n",
       "        vertical-align: top;\n",
       "    }\n",
       "\n",
       "    .dataframe thead th {\n",
       "        text-align: right;\n",
       "    }\n",
       "</style>\n",
       "<table border=\"1\" class=\"dataframe\">\n",
       "  <thead>\n",
       "    <tr style=\"text-align: right;\">\n",
       "      <th></th>\n",
       "      <th>states</th>\n",
       "      <th>Cases</th>\n",
       "      <th>Deaths</th>\n",
       "      <th>PCases</th>\n",
       "      <th>PDeaths</th>\n",
       "    </tr>\n",
       "  </thead>\n",
       "  <tbody>\n",
       "    <tr>\n",
       "      <th>0</th>\n",
       "      <td>Maharashtra</td>\n",
       "      <td>1747242</td>\n",
       "      <td>45974</td>\n",
       "      <td>1747242</td>\n",
       "      <td>45974</td>\n",
       "    </tr>\n",
       "    <tr>\n",
       "      <th>1</th>\n",
       "      <td>Karnataka</td>\n",
       "      <td>861647</td>\n",
       "      <td>11529</td>\n",
       "      <td>861647</td>\n",
       "      <td>11529</td>\n",
       "    </tr>\n",
       "    <tr>\n",
       "      <th>2</th>\n",
       "      <td>Andhra Pradesh</td>\n",
       "      <td>854011</td>\n",
       "      <td>6868</td>\n",
       "      <td>854011</td>\n",
       "      <td>6868</td>\n",
       "    </tr>\n",
       "    <tr>\n",
       "      <th>3</th>\n",
       "      <td>Tamil Nadu</td>\n",
       "      <td>758191</td>\n",
       "      <td>11478</td>\n",
       "      <td>758191</td>\n",
       "      <td>11478</td>\n",
       "    </tr>\n",
       "    <tr>\n",
       "      <th>4</th>\n",
       "      <td>Kerala</td>\n",
       "      <td>524999</td>\n",
       "      <td>1869</td>\n",
       "      <td>524999</td>\n",
       "      <td>1869</td>\n",
       "    </tr>\n",
       "  </tbody>\n",
       "</table>\n",
       "</div>"
      ],
      "text/plain": [
       "           states    Cases  Deaths   PCases  PDeaths\n",
       "0     Maharashtra  1747242   45974  1747242    45974\n",
       "1       Karnataka   861647   11529   861647    11529\n",
       "2  Andhra Pradesh   854011    6868   854011     6868\n",
       "3      Tamil Nadu   758191   11478   758191    11478\n",
       "4          Kerala   524999    1869   524999     1869"
      ]
     },
     "execution_count": 11,
     "metadata": {},
     "output_type": "execute_result"
    }
   ],
   "source": [
    "#hide\n",
    "df_table = pd.DataFrame({'states': dfc_cases.index, 'Cases': dfc_cases.values, 'Deaths': dfc_deaths.values, 'PCases': dfp_cases.values, 'PDeaths': dfp_deaths.values}).set_index('states')\n",
    "df_table = df_table.sort_values(by = ['Cases','Deaths'], ascending = [False, False])\n",
    "df_table = df_table.reset_index()\n",
    "df_table.head()"
   ]
  },
  {
   "cell_type": "code",
   "execution_count": 12,
   "metadata": {
    "execution": {
     "iopub.execute_input": "2020-11-16T06:21:39.875952Z",
     "iopub.status.busy": "2020-11-16T06:21:39.875353Z",
     "iopub.status.idle": "2020-11-16T06:21:39.878122Z",
     "shell.execute_reply": "2020-11-16T06:21:39.877617Z"
    },
    "papermill": {
     "duration": 0.032289,
     "end_time": "2020-11-16T06:21:39.878250",
     "exception": false,
     "start_time": "2020-11-16T06:21:39.845961",
     "status": "completed"
    },
    "tags": []
   },
   "outputs": [],
   "source": [
    "#hide\n",
    "for c in 'Cases, Deaths'.split(', '):\n",
    "    df_table[f'{c} (+)'] = (df_table[c] - df_table[f'P{c}']).clip(0)\n",
    "df_table['Fatality Rate'] = (100* df_table['Deaths']/ df_table['Cases']).round(2)"
   ]
  },
  {
   "cell_type": "code",
   "execution_count": 13,
   "metadata": {
    "execution": {
     "iopub.execute_input": "2020-11-16T06:21:39.924669Z",
     "iopub.status.busy": "2020-11-16T06:21:39.924060Z",
     "iopub.status.idle": "2020-11-16T06:21:39.928499Z",
     "shell.execute_reply": "2020-11-16T06:21:39.928020Z"
    },
    "papermill": {
     "duration": 0.033422,
     "end_time": "2020-11-16T06:21:39.928633",
     "exception": false,
     "start_time": "2020-11-16T06:21:39.895211",
     "status": "completed"
    },
    "tags": []
   },
   "outputs": [
    {
     "data": {
      "text/html": [
       "<div>\n",
       "<style scoped>\n",
       "    .dataframe tbody tr th:only-of-type {\n",
       "        vertical-align: middle;\n",
       "    }\n",
       "\n",
       "    .dataframe tbody tr th {\n",
       "        vertical-align: top;\n",
       "    }\n",
       "\n",
       "    .dataframe thead th {\n",
       "        text-align: right;\n",
       "    }\n",
       "</style>\n",
       "<table border=\"1\" class=\"dataframe\">\n",
       "  <thead>\n",
       "    <tr style=\"text-align: right;\">\n",
       "      <th></th>\n",
       "      <th>states</th>\n",
       "      <th>Cases</th>\n",
       "      <th>Deaths</th>\n",
       "      <th>PCases</th>\n",
       "      <th>PDeaths</th>\n",
       "      <th>Cases (+)</th>\n",
       "      <th>Deaths (+)</th>\n",
       "      <th>Fatality Rate</th>\n",
       "    </tr>\n",
       "  </thead>\n",
       "  <tbody>\n",
       "    <tr>\n",
       "      <th>0</th>\n",
       "      <td>Maharashtra</td>\n",
       "      <td>1747242</td>\n",
       "      <td>45974</td>\n",
       "      <td>1747242</td>\n",
       "      <td>45974</td>\n",
       "      <td>0</td>\n",
       "      <td>0</td>\n",
       "      <td>2.63</td>\n",
       "    </tr>\n",
       "    <tr>\n",
       "      <th>1</th>\n",
       "      <td>Karnataka</td>\n",
       "      <td>861647</td>\n",
       "      <td>11529</td>\n",
       "      <td>861647</td>\n",
       "      <td>11529</td>\n",
       "      <td>0</td>\n",
       "      <td>0</td>\n",
       "      <td>1.34</td>\n",
       "    </tr>\n",
       "    <tr>\n",
       "      <th>2</th>\n",
       "      <td>Andhra Pradesh</td>\n",
       "      <td>854011</td>\n",
       "      <td>6868</td>\n",
       "      <td>854011</td>\n",
       "      <td>6868</td>\n",
       "      <td>0</td>\n",
       "      <td>0</td>\n",
       "      <td>0.80</td>\n",
       "    </tr>\n",
       "    <tr>\n",
       "      <th>3</th>\n",
       "      <td>Tamil Nadu</td>\n",
       "      <td>758191</td>\n",
       "      <td>11478</td>\n",
       "      <td>758191</td>\n",
       "      <td>11478</td>\n",
       "      <td>0</td>\n",
       "      <td>0</td>\n",
       "      <td>1.51</td>\n",
       "    </tr>\n",
       "    <tr>\n",
       "      <th>4</th>\n",
       "      <td>Kerala</td>\n",
       "      <td>524999</td>\n",
       "      <td>1869</td>\n",
       "      <td>524999</td>\n",
       "      <td>1869</td>\n",
       "      <td>0</td>\n",
       "      <td>0</td>\n",
       "      <td>0.36</td>\n",
       "    </tr>\n",
       "  </tbody>\n",
       "</table>\n",
       "</div>"
      ],
      "text/plain": [
       "           states    Cases  Deaths   PCases  PDeaths  Cases (+)  Deaths (+)  \\\n",
       "0     Maharashtra  1747242   45974  1747242    45974          0           0   \n",
       "1       Karnataka   861647   11529   861647    11529          0           0   \n",
       "2  Andhra Pradesh   854011    6868   854011     6868          0           0   \n",
       "3      Tamil Nadu   758191   11478   758191    11478          0           0   \n",
       "4          Kerala   524999    1869   524999     1869          0           0   \n",
       "\n",
       "   Fatality Rate  \n",
       "0           2.63  \n",
       "1           1.34  \n",
       "2           0.80  \n",
       "3           1.51  \n",
       "4           0.36  "
      ]
     },
     "execution_count": 13,
     "metadata": {},
     "output_type": "execute_result"
    }
   ],
   "source": [
    "#hide\n",
    "df_table.head()"
   ]
  },
  {
   "cell_type": "code",
   "execution_count": 14,
   "metadata": {
    "execution": {
     "iopub.execute_input": "2020-11-16T06:21:39.969111Z",
     "iopub.status.busy": "2020-11-16T06:21:39.968513Z",
     "iopub.status.idle": "2020-11-16T06:21:39.985155Z",
     "shell.execute_reply": "2020-11-16T06:21:39.984664Z"
    },
    "papermill": {
     "duration": 0.040441,
     "end_time": "2020-11-16T06:21:39.985297",
     "exception": false,
     "start_time": "2020-11-16T06:21:39.944856",
     "status": "completed"
    },
    "tags": []
   },
   "outputs": [
    {
     "data": {
      "text/plain": [
       "{'updated': '2020-11-16',\n",
       " 'since': '2020-11-15',\n",
       " 'Cases': 8846119,\n",
       " 'PCases': 8845617,\n",
       " 'Deaths': 130112,\n",
       " 'PDeaths': 130109,\n",
       " 'Cases (+)': 502,\n",
       " 'Deaths (+)': 3}"
      ]
     },
     "execution_count": 14,
     "metadata": {},
     "output_type": "execute_result"
    }
   ],
   "source": [
    "#hide\n",
    "summary = {'updated':dates[-1], 'since':dates[-2]}\n",
    "list_names = ['Cases', 'PCases', 'Deaths', 'PDeaths', 'Cases (+)', 'Deaths (+)']\n",
    "for name in list_names:\n",
    "    summary[name] = df_table.sum()[name]\n",
    "summary"
   ]
  },
  {
   "cell_type": "code",
   "execution_count": 15,
   "metadata": {
    "execution": {
     "iopub.execute_input": "2020-11-16T06:21:40.023760Z",
     "iopub.status.busy": "2020-11-16T06:21:40.023133Z",
     "iopub.status.idle": "2020-11-16T06:21:40.024662Z",
     "shell.execute_reply": "2020-11-16T06:21:40.025134Z"
    },
    "papermill": {
     "duration": 0.023272,
     "end_time": "2020-11-16T06:21:40.025282",
     "exception": false,
     "start_time": "2020-11-16T06:21:40.002010",
     "status": "completed"
    },
    "tags": []
   },
   "outputs": [],
   "source": [
    "#hide\n",
    "overview = '''\n",
    "<!-- #######  HTML!! #########-->\n",
    "<h1 style=\"color: #5e9ca0; text-align: center;\">India</h1>\n",
    "<p style=\"text-align: center;\">Last update: <strong>{update}</strong></p>\n",
    "<p style=\"text-align: center;\">Confirmed cases:</p>\n",
    "<p style=\"text-align: center;font-size:24px;\">{cases} (<span style=\"color: #ff0000;\">+{new}</span>)</p>\n",
    "<p style=\"text-align: center;\">Confirmed deaths:</p>\n",
    "<p style=\"text-align: center;font-size:24px;\">{deaths} (<span style=\"color: #ff0000;\">+{dnew}</span>)</p>\n",
    "'''"
   ]
  },
  {
   "cell_type": "code",
   "execution_count": 16,
   "metadata": {
    "execution": {
     "iopub.execute_input": "2020-11-16T06:21:40.072078Z",
     "iopub.status.busy": "2020-11-16T06:21:40.071353Z",
     "iopub.status.idle": "2020-11-16T06:21:40.075128Z",
     "shell.execute_reply": "2020-11-16T06:21:40.074241Z"
    },
    "papermill": {
     "duration": 0.031341,
     "end_time": "2020-11-16T06:21:40.075312",
     "exception": false,
     "start_time": "2020-11-16T06:21:40.043971",
     "status": "completed"
    },
    "tags": []
   },
   "outputs": [
    {
     "data": {
      "text/html": [
       "\n",
       "<!-- #######  HTML!! #########-->\n",
       "<h1 style=\"color: #5e9ca0; text-align: center;\">India</h1>\n",
       "<p style=\"text-align: center;\">Last update: <strong>2020-11-16</strong></p>\n",
       "<p style=\"text-align: center;\">Confirmed cases:</p>\n",
       "<p style=\"text-align: center;font-size:24px;\">8846119 (<span style=\"color: #ff0000;\">+502</span>)</p>\n",
       "<p style=\"text-align: center;\">Confirmed deaths:</p>\n",
       "<p style=\"text-align: center;font-size:24px;\">130112 (<span style=\"color: #ff0000;\">+3</span>)</p>\n"
      ],
      "text/plain": [
       "<IPython.core.display.HTML object>"
      ]
     },
     "metadata": {},
     "output_type": "display_data"
    }
   ],
   "source": [
    "#hide_input\n",
    "update = summary['updated']\n",
    "cases = summary['Cases']\n",
    "new = summary['Cases (+)']\n",
    "deaths = summary['Deaths']\n",
    "dnew = summary['Deaths (+)']\n",
    "\n",
    "html = HTML(overview.format(update=update, cases=cases,new=new,deaths=deaths,dnew=dnew))\n",
    "\n",
    "display(html)"
   ]
  },
  {
   "cell_type": "code",
   "execution_count": 17,
   "metadata": {
    "execution": {
     "iopub.execute_input": "2020-11-16T06:21:40.122493Z",
     "iopub.status.busy": "2020-11-16T06:21:40.121070Z",
     "iopub.status.idle": "2020-11-16T06:21:40.128778Z",
     "shell.execute_reply": "2020-11-16T06:21:40.129230Z"
    },
    "papermill": {
     "duration": 0.034931,
     "end_time": "2020-11-16T06:21:40.129386",
     "exception": false,
     "start_time": "2020-11-16T06:21:40.094455",
     "status": "completed"
    },
    "tags": []
   },
   "outputs": [],
   "source": [
    "#hide\n",
    "dt_cols = list(dft_cases.columns[1:])\n",
    "dft_ct_new_cases = dft_cases.groupby('state')[dt_cols].sum().diff(axis=1).fillna(0).astype(int)\n",
    "dft_ct_new_cases.sort_values(by = dates[-1], ascending = False,inplace = True)"
   ]
  },
  {
   "cell_type": "code",
   "execution_count": 18,
   "metadata": {
    "execution": {
     "iopub.execute_input": "2020-11-16T06:21:40.185151Z",
     "iopub.status.busy": "2020-11-16T06:21:40.180319Z",
     "iopub.status.idle": "2020-11-16T06:21:40.188006Z",
     "shell.execute_reply": "2020-11-16T06:21:40.188489Z"
    },
    "papermill": {
     "duration": 0.040561,
     "end_time": "2020-11-16T06:21:40.188643",
     "exception": false,
     "start_time": "2020-11-16T06:21:40.148082",
     "status": "completed"
    },
    "tags": []
   },
   "outputs": [
    {
     "data": {
      "text/html": [
       "<div>\n",
       "<style scoped>\n",
       "    .dataframe tbody tr th:only-of-type {\n",
       "        vertical-align: middle;\n",
       "    }\n",
       "\n",
       "    .dataframe tbody tr th {\n",
       "        vertical-align: top;\n",
       "    }\n",
       "\n",
       "    .dataframe thead th {\n",
       "        text-align: right;\n",
       "    }\n",
       "</style>\n",
       "<table border=\"1\" class=\"dataframe\">\n",
       "  <thead>\n",
       "    <tr style=\"text-align: right;\">\n",
       "      <th>states</th>\n",
       "      <th>2020-07-01</th>\n",
       "      <th>2020-07-02</th>\n",
       "      <th>2020-07-03</th>\n",
       "      <th>2020-07-04</th>\n",
       "      <th>2020-07-05</th>\n",
       "      <th>2020-07-06</th>\n",
       "      <th>2020-07-07</th>\n",
       "      <th>2020-07-08</th>\n",
       "      <th>2020-07-09</th>\n",
       "      <th>2020-07-10</th>\n",
       "      <th>...</th>\n",
       "      <th>2020-11-07</th>\n",
       "      <th>2020-11-08</th>\n",
       "      <th>2020-11-09</th>\n",
       "      <th>2020-11-10</th>\n",
       "      <th>2020-11-11</th>\n",
       "      <th>2020-11-12</th>\n",
       "      <th>2020-11-13</th>\n",
       "      <th>2020-11-14</th>\n",
       "      <th>2020-11-15</th>\n",
       "      <th>2020-11-16</th>\n",
       "    </tr>\n",
       "    <tr>\n",
       "      <th>state</th>\n",
       "      <th></th>\n",
       "      <th></th>\n",
       "      <th></th>\n",
       "      <th></th>\n",
       "      <th></th>\n",
       "      <th></th>\n",
       "      <th></th>\n",
       "      <th></th>\n",
       "      <th></th>\n",
       "      <th></th>\n",
       "      <th></th>\n",
       "      <th></th>\n",
       "      <th></th>\n",
       "      <th></th>\n",
       "      <th></th>\n",
       "      <th></th>\n",
       "      <th></th>\n",
       "      <th></th>\n",
       "      <th></th>\n",
       "      <th></th>\n",
       "      <th></th>\n",
       "    </tr>\n",
       "  </thead>\n",
       "  <tbody>\n",
       "    <tr>\n",
       "      <th>Telangana</th>\n",
       "      <td>0</td>\n",
       "      <td>1213</td>\n",
       "      <td>1892</td>\n",
       "      <td>1850</td>\n",
       "      <td>1590</td>\n",
       "      <td>1831</td>\n",
       "      <td>1879</td>\n",
       "      <td>1924</td>\n",
       "      <td>1410</td>\n",
       "      <td>1278</td>\n",
       "      <td>...</td>\n",
       "      <td>1607</td>\n",
       "      <td>1440</td>\n",
       "      <td>857</td>\n",
       "      <td>1267</td>\n",
       "      <td>1196</td>\n",
       "      <td>1015</td>\n",
       "      <td>997</td>\n",
       "      <td>1050</td>\n",
       "      <td>661</td>\n",
       "      <td>502</td>\n",
       "    </tr>\n",
       "    <tr>\n",
       "      <th>Andaman and Nicobar Islands</th>\n",
       "      <td>0</td>\n",
       "      <td>9</td>\n",
       "      <td>7</td>\n",
       "      <td>3</td>\n",
       "      <td>6</td>\n",
       "      <td>16</td>\n",
       "      <td>6</td>\n",
       "      <td>2</td>\n",
       "      <td>7</td>\n",
       "      <td>0</td>\n",
       "      <td>...</td>\n",
       "      <td>21</td>\n",
       "      <td>9</td>\n",
       "      <td>13</td>\n",
       "      <td>14</td>\n",
       "      <td>17</td>\n",
       "      <td>13</td>\n",
       "      <td>11</td>\n",
       "      <td>9</td>\n",
       "      <td>9</td>\n",
       "      <td>0</td>\n",
       "    </tr>\n",
       "    <tr>\n",
       "      <th>Puducherry</th>\n",
       "      <td>0</td>\n",
       "      <td>63</td>\n",
       "      <td>22</td>\n",
       "      <td>80</td>\n",
       "      <td>42</td>\n",
       "      <td>65</td>\n",
       "      <td>30</td>\n",
       "      <td>110</td>\n",
       "      <td>49</td>\n",
       "      <td>72</td>\n",
       "      <td>...</td>\n",
       "      <td>69</td>\n",
       "      <td>94</td>\n",
       "      <td>62</td>\n",
       "      <td>100</td>\n",
       "      <td>114</td>\n",
       "      <td>65</td>\n",
       "      <td>73</td>\n",
       "      <td>47</td>\n",
       "      <td>25</td>\n",
       "      <td>0</td>\n",
       "    </tr>\n",
       "    <tr>\n",
       "      <th>Maharashtra</th>\n",
       "      <td>0</td>\n",
       "      <td>6328</td>\n",
       "      <td>6364</td>\n",
       "      <td>7074</td>\n",
       "      <td>6555</td>\n",
       "      <td>5368</td>\n",
       "      <td>5134</td>\n",
       "      <td>6603</td>\n",
       "      <td>6875</td>\n",
       "      <td>7862</td>\n",
       "      <td>...</td>\n",
       "      <td>3959</td>\n",
       "      <td>5585</td>\n",
       "      <td>3277</td>\n",
       "      <td>3791</td>\n",
       "      <td>4907</td>\n",
       "      <td>4496</td>\n",
       "      <td>4132</td>\n",
       "      <td>4237</td>\n",
       "      <td>2544</td>\n",
       "      <td>0</td>\n",
       "    </tr>\n",
       "    <tr>\n",
       "      <th>Manipur</th>\n",
       "      <td>0</td>\n",
       "      <td>19</td>\n",
       "      <td>37</td>\n",
       "      <td>9</td>\n",
       "      <td>41</td>\n",
       "      <td>24</td>\n",
       "      <td>40</td>\n",
       "      <td>5</td>\n",
       "      <td>15</td>\n",
       "      <td>132</td>\n",
       "      <td>...</td>\n",
       "      <td>240</td>\n",
       "      <td>245</td>\n",
       "      <td>182</td>\n",
       "      <td>219</td>\n",
       "      <td>180</td>\n",
       "      <td>254</td>\n",
       "      <td>214</td>\n",
       "      <td>211</td>\n",
       "      <td>235</td>\n",
       "      <td>0</td>\n",
       "    </tr>\n",
       "  </tbody>\n",
       "</table>\n",
       "<p>5 rows × 139 columns</p>\n",
       "</div>"
      ],
      "text/plain": [
       "states                       2020-07-01  2020-07-02  2020-07-03  2020-07-04  \\\n",
       "state                                                                         \n",
       "Telangana                             0        1213        1892        1850   \n",
       "Andaman and Nicobar Islands           0           9           7           3   \n",
       "Puducherry                            0          63          22          80   \n",
       "Maharashtra                           0        6328        6364        7074   \n",
       "Manipur                               0          19          37           9   \n",
       "\n",
       "states                       2020-07-05  2020-07-06  2020-07-07  2020-07-08  \\\n",
       "state                                                                         \n",
       "Telangana                          1590        1831        1879        1924   \n",
       "Andaman and Nicobar Islands           6          16           6           2   \n",
       "Puducherry                           42          65          30         110   \n",
       "Maharashtra                        6555        5368        5134        6603   \n",
       "Manipur                              41          24          40           5   \n",
       "\n",
       "states                       2020-07-09  2020-07-10  ...  2020-11-07  \\\n",
       "state                                                ...               \n",
       "Telangana                          1410        1278  ...        1607   \n",
       "Andaman and Nicobar Islands           7           0  ...          21   \n",
       "Puducherry                           49          72  ...          69   \n",
       "Maharashtra                        6875        7862  ...        3959   \n",
       "Manipur                              15         132  ...         240   \n",
       "\n",
       "states                       2020-11-08  2020-11-09  2020-11-10  2020-11-11  \\\n",
       "state                                                                         \n",
       "Telangana                          1440         857        1267        1196   \n",
       "Andaman and Nicobar Islands           9          13          14          17   \n",
       "Puducherry                           94          62         100         114   \n",
       "Maharashtra                        5585        3277        3791        4907   \n",
       "Manipur                             245         182         219         180   \n",
       "\n",
       "states                       2020-11-12  2020-11-13  2020-11-14  2020-11-15  \\\n",
       "state                                                                         \n",
       "Telangana                          1015         997        1050         661   \n",
       "Andaman and Nicobar Islands          13          11           9           9   \n",
       "Puducherry                           65          73          47          25   \n",
       "Maharashtra                        4496        4132        4237        2544   \n",
       "Manipur                             254         214         211         235   \n",
       "\n",
       "states                       2020-11-16  \n",
       "state                                    \n",
       "Telangana                           502  \n",
       "Andaman and Nicobar Islands           0  \n",
       "Puducherry                            0  \n",
       "Maharashtra                           0  \n",
       "Manipur                               0  \n",
       "\n",
       "[5 rows x 139 columns]"
      ]
     },
     "execution_count": 18,
     "metadata": {},
     "output_type": "execute_result"
    }
   ],
   "source": [
    "#hide\n",
    "dft_ct_new_cases.head()"
   ]
  },
  {
   "cell_type": "code",
   "execution_count": 19,
   "metadata": {
    "execution": {
     "iopub.execute_input": "2020-11-16T06:21:40.251198Z",
     "iopub.status.busy": "2020-11-16T06:21:40.240865Z",
     "iopub.status.idle": "2020-11-16T06:21:45.349038Z",
     "shell.execute_reply": "2020-11-16T06:21:45.349528Z"
    },
    "papermill": {
     "duration": 5.141154,
     "end_time": "2020-11-16T06:21:45.349685",
     "exception": false,
     "start_time": "2020-11-16T06:21:40.208531",
     "status": "completed"
    },
    "tags": []
   },
   "outputs": [
    {
     "data": {
      "image/png": "[encoded data removed]",
      "text/plain": [
       "<Figure size 1296x2016 with 11 Axes>"
      ]
     },
     "metadata": {
      "needs_background": "light"
     },
     "output_type": "display_data"
    }
   ],
   "source": [
    "#hide_input\n",
    "df = dft_ct_new_cases.copy()\n",
    "df.loc['Total'] = df.sum()\n",
    "n = 5\n",
    "ax = []\n",
    "fig = plt.figure(figsize = (18,28))\n",
    "gs = fig.add_gridspec(n+2, 5)\n",
    "# gs = fig.add_gridspec(2, 3)\n",
    "ax1 = fig.add_subplot(gs[0, :])\n",
    "ef = df.loc['Total'].rename_axis('date').reset_index()\n",
    "ef['date'] = ef['date'].astype('datetime64[ns]')\n",
    "ax1.bar(ef.date,ef.Total,alpha=0.3,color='#007acc')\n",
    "ax1.plot(ef.date,ef.Total , marker=\"o\", color='#007acc')\n",
    "ax1.xaxis.set_major_locator(mdates.WeekdayLocator())\n",
    "ax1.xaxis.set_major_formatter(mdates.DateFormatter('%b %d'))\n",
    "ax1.text(0.02, 0.5,'India daily case count', transform = ax1.transAxes, fontsize=25);\n",
    "ax1.spines['right'].set_visible(False)\n",
    "ax1.spines['top'].set_visible(False)\n",
    "\n",
    "ax2 = fig.add_subplot(gs[1,0])\n",
    "ef = df.loc['Maharashtra'].rename_axis('date').reset_index()\n",
    "ef['date'] = ef['date'].astype('datetime64[ns]')\n",
    "\n",
    "ax2.bar(ef.date, ef.Maharashtra,color = '#007acc',alpha=0.5)\n",
    "ax2.xaxis.set_major_locator(mdates.WeekdayLocator())\n",
    "ax2.xaxis.set_major_formatter(mdates.DateFormatter('%b %d'))\n",
    "ax2.set_xticks(ax2.get_xticks()[::3])\n",
    "maxyval = ef.Maharashtra.max()\n",
    "ax2.set_ylim([0,maxyval])\n",
    "ax2.text(0.05, 0.9,'Maharashtra', transform = ax2.transAxes, fontsize=20);\n",
    "ax2.spines['right'].set_visible(False)\n",
    "ax2.spines['top'].set_visible(False)\n",
    "\n",
    "\n",
    "ax3 = fig.add_subplot(gs[1,1])\n",
    "ef = df.loc['Tamil Nadu'].rename_axis('date').reset_index()\n",
    "ef['date'] = ef['date'].astype('datetime64[ns]')\n",
    "ax3.bar(ef.date, ef['Tamil Nadu'],color = '#007acc',alpha=0.5,)\n",
    "ax3.xaxis.set_major_locator(mdates.WeekdayLocator())\n",
    "ax3.xaxis.set_major_formatter(mdates.DateFormatter('%b %d'))\n",
    "ax3.set_xticks(ax3.get_xticks()[::3])\n",
    "ax3.text(0.05, 0.9,'Tamil Nadu', transform = ax3.transAxes, fontsize=20);\n",
    "ax3.spines['right'].set_visible(False)\n",
    "ax3.spines['top'].set_visible(False)\n",
    "\n",
    "ax5 = fig.add_subplot(gs[1,3])\n",
    "ef = df.loc['Telangana'].rename_axis('date').reset_index()\n",
    "ef['date'] = ef['date'].astype('datetime64[ns]')\n",
    "ax5.bar(ef.date, ef['Telangana'],color = '#007acc',alpha=0.5,)\n",
    "ax5.xaxis.set_major_locator(mdates.WeekdayLocator())\n",
    "ax5.xaxis.set_major_formatter(mdates.DateFormatter('%b %d'))\n",
    "ax5.set_xticks(ax5.get_xticks()[::3])\n",
    "ax5.text(0.05, 0.9,'Telangana', transform = ax5.transAxes, fontsize=20);\n",
    "ax5.spines['right'].set_visible(False)\n",
    "ax5.spines['top'].set_visible(False)\n",
    "\n",
    "ax6 = fig.add_subplot(gs[1,4])\n",
    "ef = df.loc['Andhra Pradesh'].rename_axis('date').reset_index()\n",
    "ef['date'] = ef['date'].astype('datetime64[ns]')\n",
    "ax6.bar(ef.date, ef['Andhra Pradesh'],color = '#007acc',alpha=0.5,)\n",
    "ax6.xaxis.set_major_locator(mdates.WeekdayLocator())\n",
    "ax6.xaxis.set_major_formatter(mdates.DateFormatter('%b %d'))\n",
    "ax6.set_xticks(ax6.get_xticks()[::3])\n",
    "ax6.text(0.05, 1,'Andhra Pradesh', transform = ax6.transAxes, fontsize=20);\n",
    "ax6.spines['right'].set_visible(False)\n",
    "ax6.spines['top'].set_visible(False)\n",
    "\n",
    "ax4 = fig.add_subplot(gs[1,2])\n",
    "ef = df.loc['Delhi'].rename_axis('date').reset_index()\n",
    "ef['date'] = ef['date'].astype('datetime64[ns]')\n",
    "ax4.bar(ef.date, ef.Delhi,color = '#007acc',alpha=0.5)\n",
    "ax4.set_xticks([])\n",
    "ax4.xaxis.set_major_locator(mdates.WeekdayLocator())\n",
    "ax4.xaxis.set_major_formatter(mdates.DateFormatter('%b %d'))\n",
    "ax4.set_xticks(ax4.get_xticks()[::3])\n",
    "ax4.spines['right'].set_visible(False)\n",
    "ax4.spines['top'].set_visible(False)\n",
    "\n",
    "ax4.text(0.05, 1,'Delhi', transform = ax4.transAxes, fontsize=20)\n",
    "\n",
    "for i in range(n):\n",
    "    \n",
    "    ax.append(fig.add_subplot(gs[i+2,:]))\n",
    "    ef = df.iloc[i+3].rename_axis('date').reset_index()\n",
    "    ef['date'] = ef['date'].astype('datetime64[ns]')\n",
    "    ax[i].bar(ef.date,ef.iloc[:,-1],color = '#007acc',alpha=0.3)\n",
    "    ax[i].plot(ef.date,ef.iloc[:,-1],marker='o',color='#007acc')\n",
    "    ax[i].text(0.02,0.5,f'{ef.columns.values[-1]}',transform = ax[i].transAxes, fontsize = 20);\n",
    "    ax[i].xaxis.set_major_locator(mdates.WeekdayLocator())\n",
    "    ax[i].xaxis.set_major_formatter(mdates.DateFormatter('%b %d'))\n",
    "    ax[i].set_ylim([0,7000])\n",
    "    ax[i].spines['right'].set_visible(False)\n",
    "    ax[i].spines['top'].set_visible(False)\n",
    "plt.tight_layout()\n"
   ]
  },
  {
   "cell_type": "code",
   "execution_count": 20,
   "metadata": {
    "execution": {
     "iopub.execute_input": "2020-11-16T06:21:45.406463Z",
     "iopub.status.busy": "2020-11-16T06:21:45.405761Z",
     "iopub.status.idle": "2020-11-16T06:21:45.408749Z",
     "shell.execute_reply": "2020-11-16T06:21:45.409232Z"
    },
    "papermill": {
     "duration": 0.036687,
     "end_time": "2020-11-16T06:21:45.409387",
     "exception": false,
     "start_time": "2020-11-16T06:21:45.372700",
     "status": "completed"
    },
    "tags": []
   },
   "outputs": [
    {
     "name": "stdout",
     "output_type": "stream",
     "text": [
      "                                   states    Cases  Deaths   PCases  PDeaths  Cases (+)  Deaths (+)  Fatality Rate\n",
      "                              Maharashtra  1747242   45974  1747242    45974          0           0           2.63\n",
      "                                Karnataka   861647   11529   861647    11529          0           0           1.34\n",
      "                           Andhra Pradesh   854011    6868   854011     6868          0           0           0.80\n",
      "                               Tamil Nadu   758191   11478   758191    11478          0           0           1.51\n",
      "                                   Kerala   524999    1869   524999     1869          0           0           0.36\n",
      "                            Uttar Pradesh   511304    7372   511304     7372          0           0           1.44\n",
      "                                    Delhi   485405    7614   485405     7614          0           0           1.57\n",
      "                              West Bengal   431551    7661   431551     7661          0           0           1.78\n",
      "                                   Odisha   308659    1580   308659     1580          0           0           0.51\n",
      "                                Telangana   257876    1407   257374     1404        502           3           0.55\n",
      "                                    Bihar   226916    1184   226916     1184          0           0           0.52\n",
      "                                Rajasthan   225817    2066   225817     2066          0           0           0.91\n",
      "                             Chhattisgarh   210534    2578   210534     2578          0           0           1.22\n",
      "                                    Assam   210268     964   210268      964          0           0           0.46\n",
      "                                  Haryana   199874    2019   199874     2019          0           0           1.01\n",
      "                                  Gujarat   188310    3803   188310     3803          0           0           2.02\n",
      "                           Madhya Pradesh   183927    3090   183927     3090          0           0           1.68\n",
      "                                   Punjab   141658    4458   141658     4458          0           0           3.15\n",
      "                                Jharkhand   106064     924   106064      924          0           0           0.87\n",
      "                        Jammu and Kashmir   102619    1589   102619     1589          0           0           1.55\n",
      "                              Uttarakhand    68215    1107    68215     1107          0           0           1.62\n",
      "                                      Goa    45903     662    45903      662          0           0           1.44\n",
      "                               Puducherry    36324     608    36324      608          0           0           1.67\n",
      "                                  Tripura    31942     359    31942      359          0           0           1.12\n",
      "                         Himachal Pradesh    29713     435    29713      435          0           0           1.46\n",
      "                                  Manipur    21871     221    21871      221          0           0           1.01\n",
      "                        Arunachal Pradesh    15812      48    15812       48          0           0           0.30\n",
      "                               Chandigarh    15804     248    15804      248          0           0           1.57\n",
      "                                Meghalaya    10668     100    10668      100          0           0           0.94\n",
      "                                 Nagaland     9885      52     9885       52          0           0           0.53\n",
      "                                   Ladakh     7396      89     7396       89          0           0           1.20\n",
      "              Andaman and Nicobar Islands     4536      61     4536       61          0           0           1.34\n",
      "                                   Sikkim     4499      89     4499       89          0           0           1.98\n",
      "                                  Mizoram     3393       4     3393        4          0           0           0.12\n",
      " Dadra and Nagar Haveli and Daman and Diu     3286       2     3286        2          0           0           0.06\n",
      "                              Lakshadweep        0       0        0        0          0           0            NaN\n"
     ]
    }
   ],
   "source": [
    "#hide_input\n",
    "print(df_table.to_string(index=False))"
   ]
  },
  {
   "cell_type": "code",
   "execution_count": null,
   "metadata": {
    "papermill": {
     "duration": 0.02298,
     "end_time": "2020-11-16T06:21:45.455432",
     "exception": false,
     "start_time": "2020-11-16T06:21:45.432452",
     "status": "completed"
    },
    "tags": []
   },
   "outputs": [],
   "source": []
  },
  {
   "cell_type": "code",
   "execution_count": null,
   "metadata": {
    "papermill": {
     "duration": 0.023113,
     "end_time": "2020-11-16T06:21:45.501816",
     "exception": false,
     "start_time": "2020-11-16T06:21:45.478703",
     "status": "completed"
    },
    "tags": []
   },
   "outputs": [],
   "source": []
  }
 ],
 "metadata": {
  "kernelspec": {
   "display_name": "Python 3",
   "language": "python",
   "name": "python3"
  },
  "language_info": {
   "codemirror_mode": {
    "name": "ipython",
    "version": 3
   },
   "file_extension": ".py",
   "mimetype": "text/x-python",
   "name": "python",
   "nbconvert_exporter": "python",
   "pygments_lexer": "ipython3",
   "version": "3.6.12"
  },
  "papermill": {
   "duration": 12.675117,
   "end_time": "2020-11-16T06:21:46.034092",
   "environment_variables": {},
   "exception": null,
   "input_path": "latest.ipynb",
   "output_path": "latest.ipynb",
   "parameters": {},
   "start_time": "2020-11-16T06:21:33.358975",
   "version": "2.1.2"
  }
 },
 "nbformat": 4,
 "nbformat_minor": 4
}