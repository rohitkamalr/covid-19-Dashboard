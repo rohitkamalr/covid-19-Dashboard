{
 "cells": [
  {
   "cell_type": "markdown",
   "metadata": {
    "papermill": {
     "duration": 0.020007,
     "end_time": "2020-11-04T11:26:55.462796",
     "exception": false,
     "start_time": "2020-11-04T11:26:55.442789",
     "status": "completed"
    },
    "tags": []
   },
   "source": [
    "# Latest COVID-19 India Matplotlib Overview"
   ]
  },
  {
   "cell_type": "code",
   "execution_count": 1,
   "metadata": {
    "execution": {
     "iopub.execute_input": "2020-11-04T11:26:55.498952Z",
     "iopub.status.busy": "2020-11-04T11:26:55.498074Z",
     "iopub.status.idle": "2020-11-04T11:26:56.056766Z",
     "shell.execute_reply": "2020-11-04T11:26:56.058053Z"
    },
    "papermill": {
     "duration": 0.580617,
     "end_time": "2020-11-04T11:26:56.058314",
     "exception": false,
     "start_time": "2020-11-04T11:26:55.477697",
     "status": "completed"
    },
    "tags": []
   },
   "outputs": [],
   "source": [
    "#hide\n",
    "import pandas as pd\n",
    "import numpy as np\n",
    "import requests\n",
    "import json\n",
    "import matplotlib.pyplot as plt\n",
    "import matplotlib.dates as mdates\n",
    "import matplotlib as mpl\n",
    "from IPython.core.display import display,HTML\n",
    "%matplotlib inline\n",
    "from datetime import date"
   ]
  },
  {
   "cell_type": "code",
   "execution_count": 2,
   "metadata": {
    "execution": {
     "iopub.execute_input": "2020-11-04T11:26:56.094053Z",
     "iopub.status.busy": "2020-11-04T11:26:56.093318Z",
     "iopub.status.idle": "2020-11-04T11:26:56.408770Z",
     "shell.execute_reply": "2020-11-04T11:26:56.409226Z"
    },
    "papermill": {
     "duration": 0.335805,
     "end_time": "2020-11-04T11:26:56.409375",
     "exception": false,
     "start_time": "2020-11-04T11:26:56.073570",
     "status": "completed"
    },
    "tags": []
   },
   "outputs": [],
   "source": [
    "#hide\n",
    "df  = pd.read_csv('https://api.covid19india.org/csv/latest/states.csv')\n",
    "df = df[['Date','State','Confirmed','Deceased']]\n",
    "df = df.rename(columns={'Confirmed':'Cases', \"Deceased\":'Deaths'})\n",
    "df_cases = df[[\"Date\",'State','Cases']]\n",
    "df_deaths = df[['Date','State','Deaths']]\n",
    "df_cases1 = df_cases.groupby('Date')\n",
    "df_deaths1= df_deaths.groupby('Date')"
   ]
  },
  {
   "cell_type": "code",
   "execution_count": 3,
   "metadata": {
    "execution": {
     "iopub.execute_input": "2020-11-04T11:26:56.443944Z",
     "iopub.status.busy": "2020-11-04T11:26:56.443093Z",
     "iopub.status.idle": "2020-11-04T11:26:56.461283Z",
     "shell.execute_reply": "2020-11-04T11:26:56.460729Z"
    },
    "papermill": {
     "duration": 0.037585,
     "end_time": "2020-11-04T11:26:56.461438",
     "exception": false,
     "start_time": "2020-11-04T11:26:56.423853",
     "status": "completed"
    },
    "tags": []
   },
   "outputs": [],
   "source": [
    "#hide\n",
    "df_snap = pd.read_csv('data/SnapshotCases-28-July.csv')\n",
    "arr_states = df_snap['states'].unique()\n",
    "arr_dates = df['Date'].unique()\n",
    "df_snap = df_snap.set_index('states')"
   ]
  },
  {
   "cell_type": "code",
   "execution_count": 4,
   "metadata": {
    "execution": {
     "iopub.execute_input": "2020-11-04T11:26:56.499559Z",
     "iopub.status.busy": "2020-11-04T11:26:56.498961Z",
     "iopub.status.idle": "2020-11-04T11:26:56.502458Z",
     "shell.execute_reply": "2020-11-04T11:26:56.501941Z"
    },
    "papermill": {
     "duration": 0.025672,
     "end_time": "2020-11-04T11:26:56.502572",
     "exception": false,
     "start_time": "2020-11-04T11:26:56.476900",
     "status": "completed"
    },
    "tags": []
   },
   "outputs": [
    {
     "data": {
      "text/plain": [
       "array(['Andaman and Nicobar Islands', 'Andhra Pradesh',\n",
       "       'Arunachal Pradesh', 'Assam', 'Bihar', 'Chandigarh',\n",
       "       'Dadra and Nagar Haveli and Daman and Diu', 'Delhi', 'Goa',\n",
       "       'Gujarat', 'Haryana', 'Himachal Pradesh', 'Jammu and Kashmir',\n",
       "       'Jharkhand', 'Karnataka', 'Kerala', 'Lakshadweep',\n",
       "       'Madhya Pradesh', 'Maharashtra', 'Manipur', 'Meghalaya', 'Mizoram',\n",
       "       'Nagaland', 'Odisha', 'Puducherry', 'Punjab', 'Rajasthan',\n",
       "       'Sikkim', 'Tamil Nadu', 'Telangana', 'Tripura', 'Uttar Pradesh',\n",
       "       'West Bengal', 'Chhattisgarh', 'Ladakh', 'Uttarakhand'],\n",
       "      dtype=object)"
      ]
     },
     "execution_count": 4,
     "metadata": {},
     "output_type": "execute_result"
    }
   ],
   "source": [
    "#hide\n",
    "arr_states[-9] = 'Puducherry'\n",
    "arr_states[-10] = 'Odisha'\n",
    "arr_states[6] = 'Dadra and Nagar Haveli and Daman and Diu'\n",
    "arr_states = np.append(arr_states,np.array(['Chhattisgarh','Ladakh','Uttarakhand']))\n",
    "arr_states"
   ]
  },
  {
   "cell_type": "code",
   "execution_count": 5,
   "metadata": {
    "execution": {
     "iopub.execute_input": "2020-11-04T11:26:56.547084Z",
     "iopub.status.busy": "2020-11-04T11:26:56.546477Z",
     "iopub.status.idle": "2020-11-04T11:26:56.555623Z",
     "shell.execute_reply": "2020-11-04T11:26:56.555079Z"
    },
    "papermill": {
     "duration": 0.03758,
     "end_time": "2020-11-04T11:26:56.555749",
     "exception": false,
     "start_time": "2020-11-04T11:26:56.518169",
     "status": "completed"
    },
    "tags": []
   },
   "outputs": [],
   "source": [
    "#hide\n",
    "dates = []\n",
    "for i in arr_dates:\n",
    "    if i>='2020-07-01':\n",
    "        dates.append(i)\n",
    "dict = {'states':dates}\n",
    "for i in arr_states:\n",
    "    dict[i] = [0]*len(dates)\n",
    "dft_cases = pd.DataFrame(dict)\n",
    "dft_deaths = pd.DataFrame(dict)\n"
   ]
  },
  {
   "cell_type": "code",
   "execution_count": 6,
   "metadata": {
    "execution": {
     "iopub.execute_input": "2020-11-04T11:26:56.595710Z",
     "iopub.status.busy": "2020-11-04T11:26:56.595000Z",
     "iopub.status.idle": "2020-11-04T11:26:58.834561Z",
     "shell.execute_reply": "2020-11-04T11:26:58.834057Z"
    },
    "papermill": {
     "duration": 2.261158,
     "end_time": "2020-11-04T11:26:58.834709",
     "exception": false,
     "start_time": "2020-11-04T11:26:56.573551",
     "status": "completed"
    },
    "tags": []
   },
   "outputs": [],
   "source": [
    "#hide\n",
    "for i in range(len(dates)):\n",
    "    df1_deaths = df_deaths1.get_group(dates[i])\n",
    "    for j in range(len(df1_deaths.index)):\n",
    "        if df1_deaths.iloc[j,1] in arr_states:\n",
    "            dft_deaths.loc[i,df1_deaths.iloc[j,1]] = df1_deaths.iloc[j,2]\n",
    "dft_deaths = dft_deaths.set_index('states')"
   ]
  },
  {
   "cell_type": "code",
   "execution_count": 7,
   "metadata": {
    "execution": {
     "iopub.execute_input": "2020-11-04T11:26:58.870521Z",
     "iopub.status.busy": "2020-11-04T11:26:58.869968Z",
     "iopub.status.idle": "2020-11-04T11:27:01.079502Z",
     "shell.execute_reply": "2020-11-04T11:27:01.079962Z"
    },
    "papermill": {
     "duration": 2.230393,
     "end_time": "2020-11-04T11:27:01.080109",
     "exception": false,
     "start_time": "2020-11-04T11:26:58.849716",
     "status": "completed"
    },
    "tags": []
   },
   "outputs": [],
   "source": [
    "#hide\n",
    "for i in range(len(dates)):\n",
    "    df1_cases = df_cases1.get_group(dates[i])\n",
    "    for j in range(len(df1_cases.index)):\n",
    "        if df1_cases.iloc[j,1] in arr_states:\n",
    "            dft_cases.loc[i,df1_cases.iloc[j,1]] = df1_cases.iloc[j,2]\n",
    "dft_cases = dft_cases.set_index('states')"
   ]
  },
  {
   "cell_type": "code",
   "execution_count": 8,
   "metadata": {
    "execution": {
     "iopub.execute_input": "2020-11-04T11:27:01.120481Z",
     "iopub.status.busy": "2020-11-04T11:27:01.119893Z",
     "iopub.status.idle": "2020-11-04T11:27:01.122243Z",
     "shell.execute_reply": "2020-11-04T11:27:01.121686Z"
    },
    "papermill": {
     "duration": 0.026614,
     "end_time": "2020-11-04T11:27:01.122473",
     "exception": false,
     "start_time": "2020-11-04T11:27:01.095859",
     "status": "completed"
    },
    "tags": []
   },
   "outputs": [],
   "source": [
    "#hide\n",
    "dft_cases = dft_cases.T\n",
    "dft_deaths = dft_deaths.T\n",
    "dt_today = dates[-1]\n",
    "dt_yday = dates[-2]"
   ]
  },
  {
   "cell_type": "code",
   "execution_count": 9,
   "metadata": {
    "execution": {
     "iopub.execute_input": "2020-11-04T11:27:01.162173Z",
     "iopub.status.busy": "2020-11-04T11:27:01.161616Z",
     "iopub.status.idle": "2020-11-04T11:27:01.164135Z",
     "shell.execute_reply": "2020-11-04T11:27:01.163729Z"
    },
    "papermill": {
     "duration": 0.024509,
     "end_time": "2020-11-04T11:27:01.164236",
     "exception": false,
     "start_time": "2020-11-04T11:27:01.139727",
     "status": "completed"
    },
    "tags": []
   },
   "outputs": [],
   "source": [
    "#hide\n",
    "dft_cases = dft_cases.reset_index()\n",
    "dft_deaths = dft_deaths.reset_index()\n",
    "dft_cases = dft_cases.rename(columns = {'index':'state'})\n",
    "dft_deaths = dft_deaths.rename(columns = {'index':'state'})"
   ]
  },
  {
   "cell_type": "code",
   "execution_count": 10,
   "metadata": {
    "execution": {
     "iopub.execute_input": "2020-11-04T11:27:01.203913Z",
     "iopub.status.busy": "2020-11-04T11:27:01.203304Z",
     "iopub.status.idle": "2020-11-04T11:27:01.205487Z",
     "shell.execute_reply": "2020-11-04T11:27:01.204948Z"
    },
    "papermill": {
     "duration": 0.02806,
     "end_time": "2020-11-04T11:27:01.205587",
     "exception": false,
     "start_time": "2020-11-04T11:27:01.177527",
     "status": "completed"
    },
    "tags": []
   },
   "outputs": [],
   "source": [
    "#hide\n",
    "dfc_cases = dft_cases.groupby('state')[dt_today].sum()\n",
    "dfc_deaths = dft_deaths.groupby('state')[dt_today].sum()\n",
    "dfp_cases = dft_cases.groupby('state')[dt_yday].sum()\n",
    "dfp_deaths = dft_deaths.groupby('state')[dt_yday].sum()"
   ]
  },
  {
   "cell_type": "code",
   "execution_count": 11,
   "metadata": {
    "execution": {
     "iopub.execute_input": "2020-11-04T11:27:01.241938Z",
     "iopub.status.busy": "2020-11-04T11:27:01.241412Z",
     "iopub.status.idle": "2020-11-04T11:27:01.254150Z",
     "shell.execute_reply": "2020-11-04T11:27:01.253651Z"
    },
    "papermill": {
     "duration": 0.033594,
     "end_time": "2020-11-04T11:27:01.254262",
     "exception": false,
     "start_time": "2020-11-04T11:27:01.220668",
     "status": "completed"
    },
    "tags": []
   },
   "outputs": [
    {
     "data": {
      "text/html": [
       "<div>\n",
       "<style scoped>\n",
       "    .dataframe tbody tr th:only-of-type {\n",
       "        vertical-align: middle;\n",
       "    }\n",
       "\n",
       "    .dataframe tbody tr th {\n",
       "        vertical-align: top;\n",
       "    }\n",
       "\n",
       "    .dataframe thead th {\n",
       "        text-align: right;\n",
       "    }\n",
       "</style>\n",
       "<table border=\"1\" class=\"dataframe\">\n",
       "  <thead>\n",
       "    <tr style=\"text-align: right;\">\n",
       "      <th></th>\n",
       "      <th>states</th>\n",
       "      <th>Cases</th>\n",
       "      <th>Deaths</th>\n",
       "      <th>PCases</th>\n",
       "      <th>PDeaths</th>\n",
       "    </tr>\n",
       "  </thead>\n",
       "  <tbody>\n",
       "    <tr>\n",
       "      <th>0</th>\n",
       "      <td>Maharashtra</td>\n",
       "      <td>1692693</td>\n",
       "      <td>44248</td>\n",
       "      <td>1692693</td>\n",
       "      <td>44248</td>\n",
       "    </tr>\n",
       "    <tr>\n",
       "      <th>1</th>\n",
       "      <td>Karnataka</td>\n",
       "      <td>832396</td>\n",
       "      <td>11247</td>\n",
       "      <td>832396</td>\n",
       "      <td>11247</td>\n",
       "    </tr>\n",
       "    <tr>\n",
       "      <th>2</th>\n",
       "      <td>Andhra Pradesh</td>\n",
       "      <td>830731</td>\n",
       "      <td>6734</td>\n",
       "      <td>830731</td>\n",
       "      <td>6734</td>\n",
       "    </tr>\n",
       "    <tr>\n",
       "      <th>3</th>\n",
       "      <td>Tamil Nadu</td>\n",
       "      <td>731942</td>\n",
       "      <td>11214</td>\n",
       "      <td>731942</td>\n",
       "      <td>11214</td>\n",
       "    </tr>\n",
       "    <tr>\n",
       "      <th>4</th>\n",
       "      <td>Uttar Pradesh</td>\n",
       "      <td>487335</td>\n",
       "      <td>7089</td>\n",
       "      <td>487335</td>\n",
       "      <td>7089</td>\n",
       "    </tr>\n",
       "  </tbody>\n",
       "</table>\n",
       "</div>"
      ],
      "text/plain": [
       "           states    Cases  Deaths   PCases  PDeaths\n",
       "0     Maharashtra  1692693   44248  1692693    44248\n",
       "1       Karnataka   832396   11247   832396    11247\n",
       "2  Andhra Pradesh   830731    6734   830731     6734\n",
       "3      Tamil Nadu   731942   11214   731942    11214\n",
       "4   Uttar Pradesh   487335    7089   487335     7089"
      ]
     },
     "execution_count": 11,
     "metadata": {},
     "output_type": "execute_result"
    }
   ],
   "source": [
    "#hide\n",
    "df_table = pd.DataFrame({'states': dfc_cases.index, 'Cases': dfc_cases.values, 'Deaths': dfc_deaths.values, 'PCases': dfp_cases.values, 'PDeaths': dfp_deaths.values}).set_index('states')\n",
    "df_table = df_table.sort_values(by = ['Cases','Deaths'], ascending = [False, False])\n",
    "df_table = df_table.reset_index()\n",
    "df_table.head()"
   ]
  },
  {
   "cell_type": "code",
   "execution_count": 12,
   "metadata": {
    "execution": {
     "iopub.execute_input": "2020-11-04T11:27:01.286888Z",
     "iopub.status.busy": "2020-11-04T11:27:01.286337Z",
     "iopub.status.idle": "2020-11-04T11:27:01.294697Z",
     "shell.execute_reply": "2020-11-04T11:27:01.294187Z"
    },
    "papermill": {
     "duration": 0.026583,
     "end_time": "2020-11-04T11:27:01.294812",
     "exception": false,
     "start_time": "2020-11-04T11:27:01.268229",
     "status": "completed"
    },
    "tags": []
   },
   "outputs": [],
   "source": [
    "#hide\n",
    "for c in 'Cases, Deaths'.split(', '):\n",
    "    df_table[f'{c} (+)'] = (df_table[c] - df_table[f'P{c}']).clip(0)\n",
    "df_table['Fatality Rate'] = (100* df_table['Deaths']/ df_table['Cases']).round(2)"
   ]
  },
  {
   "cell_type": "code",
   "execution_count": 13,
   "metadata": {
    "execution": {
     "iopub.execute_input": "2020-11-04T11:27:01.334005Z",
     "iopub.status.busy": "2020-11-04T11:27:01.333379Z",
     "iopub.status.idle": "2020-11-04T11:27:01.335675Z",
     "shell.execute_reply": "2020-11-04T11:27:01.336219Z"
    },
    "papermill": {
     "duration": 0.026768,
     "end_time": "2020-11-04T11:27:01.336345",
     "exception": false,
     "start_time": "2020-11-04T11:27:01.309577",
     "status": "completed"
    },
    "tags": []
   },
   "outputs": [
    {
     "data": {
      "text/html": [
       "<div>\n",
       "<style scoped>\n",
       "    .dataframe tbody tr th:only-of-type {\n",
       "        vertical-align: middle;\n",
       "    }\n",
       "\n",
       "    .dataframe tbody tr th {\n",
       "        vertical-align: top;\n",
       "    }\n",
       "\n",
       "    .dataframe thead th {\n",
       "        text-align: right;\n",
       "    }\n",
       "</style>\n",
       "<table border=\"1\" class=\"dataframe\">\n",
       "  <thead>\n",
       "    <tr style=\"text-align: right;\">\n",
       "      <th></th>\n",
       "      <th>states</th>\n",
       "      <th>Cases</th>\n",
       "      <th>Deaths</th>\n",
       "      <th>PCases</th>\n",
       "      <th>PDeaths</th>\n",
       "      <th>Cases (+)</th>\n",
       "      <th>Deaths (+)</th>\n",
       "      <th>Fatality Rate</th>\n",
       "    </tr>\n",
       "  </thead>\n",
       "  <tbody>\n",
       "    <tr>\n",
       "      <th>0</th>\n",
       "      <td>Maharashtra</td>\n",
       "      <td>1692693</td>\n",
       "      <td>44248</td>\n",
       "      <td>1692693</td>\n",
       "      <td>44248</td>\n",
       "      <td>0</td>\n",
       "      <td>0</td>\n",
       "      <td>2.61</td>\n",
       "    </tr>\n",
       "    <tr>\n",
       "      <th>1</th>\n",
       "      <td>Karnataka</td>\n",
       "      <td>832396</td>\n",
       "      <td>11247</td>\n",
       "      <td>832396</td>\n",
       "      <td>11247</td>\n",
       "      <td>0</td>\n",
       "      <td>0</td>\n",
       "      <td>1.35</td>\n",
       "    </tr>\n",
       "    <tr>\n",
       "      <th>2</th>\n",
       "      <td>Andhra Pradesh</td>\n",
       "      <td>830731</td>\n",
       "      <td>6734</td>\n",
       "      <td>830731</td>\n",
       "      <td>6734</td>\n",
       "      <td>0</td>\n",
       "      <td>0</td>\n",
       "      <td>0.81</td>\n",
       "    </tr>\n",
       "    <tr>\n",
       "      <th>3</th>\n",
       "      <td>Tamil Nadu</td>\n",
       "      <td>731942</td>\n",
       "      <td>11214</td>\n",
       "      <td>731942</td>\n",
       "      <td>11214</td>\n",
       "      <td>0</td>\n",
       "      <td>0</td>\n",
       "      <td>1.53</td>\n",
       "    </tr>\n",
       "    <tr>\n",
       "      <th>4</th>\n",
       "      <td>Uttar Pradesh</td>\n",
       "      <td>487335</td>\n",
       "      <td>7089</td>\n",
       "      <td>487335</td>\n",
       "      <td>7089</td>\n",
       "      <td>0</td>\n",
       "      <td>0</td>\n",
       "      <td>1.45</td>\n",
       "    </tr>\n",
       "  </tbody>\n",
       "</table>\n",
       "</div>"
      ],
      "text/plain": [
       "           states    Cases  Deaths   PCases  PDeaths  Cases (+)  Deaths (+)  \\\n",
       "0     Maharashtra  1692693   44248  1692693    44248          0           0   \n",
       "1       Karnataka   832396   11247   832396    11247          0           0   \n",
       "2  Andhra Pradesh   830731    6734   830731     6734          0           0   \n",
       "3      Tamil Nadu   731942   11214   731942    11214          0           0   \n",
       "4   Uttar Pradesh   487335    7089   487335     7089          0           0   \n",
       "\n",
       "   Fatality Rate  \n",
       "0           2.61  \n",
       "1           1.35  \n",
       "2           0.81  \n",
       "3           1.53  \n",
       "4           1.45  "
      ]
     },
     "execution_count": 13,
     "metadata": {},
     "output_type": "execute_result"
    }
   ],
   "source": [
    "#hide\n",
    "df_table.head()"
   ]
  },
  {
   "cell_type": "code",
   "execution_count": 14,
   "metadata": {
    "execution": {
     "iopub.execute_input": "2020-11-04T11:27:01.381371Z",
     "iopub.status.busy": "2020-11-04T11:27:01.380491Z",
     "iopub.status.idle": "2020-11-04T11:27:01.386908Z",
     "shell.execute_reply": "2020-11-04T11:27:01.386421Z"
    },
    "papermill": {
     "duration": 0.034802,
     "end_time": "2020-11-04T11:27:01.387038",
     "exception": false,
     "start_time": "2020-11-04T11:27:01.352236",
     "status": "completed"
    },
    "tags": []
   },
   "outputs": [
    {
     "data": {
      "text/plain": [
       "{'updated': '2020-11-04',\n",
       " 'since': '2020-11-03',\n",
       " 'Cases': 8314421,\n",
       " 'PCases': 8312947,\n",
       " 'Deaths': 123662,\n",
       " 'PDeaths': 123650,\n",
       " 'Cases (+)': 1474,\n",
       " 'Deaths (+)': 12}"
      ]
     },
     "execution_count": 14,
     "metadata": {},
     "output_type": "execute_result"
    }
   ],
   "source": [
    "#hide\n",
    "summary = {'updated':dates[-1], 'since':dates[-2]}\n",
    "list_names = ['Cases', 'PCases', 'Deaths', 'PDeaths', 'Cases (+)', 'Deaths (+)']\n",
    "for name in list_names:\n",
    "    summary[name] = df_table.sum()[name]\n",
    "summary"
   ]
  },
  {
   "cell_type": "code",
   "execution_count": 15,
   "metadata": {
    "execution": {
     "iopub.execute_input": "2020-11-04T11:27:01.422772Z",
     "iopub.status.busy": "2020-11-04T11:27:01.422140Z",
     "iopub.status.idle": "2020-11-04T11:27:01.424375Z",
     "shell.execute_reply": "2020-11-04T11:27:01.423898Z"
    },
    "papermill": {
     "duration": 0.02205,
     "end_time": "2020-11-04T11:27:01.424521",
     "exception": false,
     "start_time": "2020-11-04T11:27:01.402471",
     "status": "completed"
    },
    "tags": []
   },
   "outputs": [],
   "source": [
    "#hide\n",
    "overview = '''\n",
    "<!-- #######  HTML!! #########-->\n",
    "<h1 style=\"color: #5e9ca0; text-align: center;\">India</h1>\n",
    "<p style=\"text-align: center;\">Last update: <strong>{update}</strong></p>\n",
    "<p style=\"text-align: center;\">Confirmed cases:</p>\n",
    "<p style=\"text-align: center;font-size:24px;\">{cases} (<span style=\"color: #ff0000;\">+{new}</span>)</p>\n",
    "<p style=\"text-align: center;\">Confirmed deaths:</p>\n",
    "<p style=\"text-align: center;font-size:24px;\">{deaths} (<span style=\"color: #ff0000;\">+{dnew}</span>)</p>\n",
    "'''"
   ]
  },
  {
   "cell_type": "code",
   "execution_count": 16,
   "metadata": {
    "execution": {
     "iopub.execute_input": "2020-11-04T11:27:01.460687Z",
     "iopub.status.busy": "2020-11-04T11:27:01.460140Z",
     "iopub.status.idle": "2020-11-04T11:27:01.463726Z",
     "shell.execute_reply": "2020-11-04T11:27:01.463193Z"
    },
    "papermill": {
     "duration": 0.024421,
     "end_time": "2020-11-04T11:27:01.463829",
     "exception": false,
     "start_time": "2020-11-04T11:27:01.439408",
     "status": "completed"
    },
    "tags": []
   },
   "outputs": [
    {
     "data": {
      "text/html": [
       "\n",
       "<!-- #######  HTML!! #########-->\n",
       "<h1 style=\"color: #5e9ca0; text-align: center;\">India</h1>\n",
       "<p style=\"text-align: center;\">Last update: <strong>2020-11-04</strong></p>\n",
       "<p style=\"text-align: center;\">Confirmed cases:</p>\n",
       "<p style=\"text-align: center;font-size:24px;\">8314421 (<span style=\"color: #ff0000;\">+1474</span>)</p>\n",
       "<p style=\"text-align: center;\">Confirmed deaths:</p>\n",
       "<p style=\"text-align: center;font-size:24px;\">123662 (<span style=\"color: #ff0000;\">+12</span>)</p>\n"
      ],
      "text/plain": [
       "<IPython.core.display.HTML object>"
      ]
     },
     "metadata": {},
     "output_type": "display_data"
    }
   ],
   "source": [
    "#hide_input\n",
    "update = summary['updated']\n",
    "cases = summary['Cases']\n",
    "new = summary['Cases (+)']\n",
    "deaths = summary['Deaths']\n",
    "dnew = summary['Deaths (+)']\n",
    "\n",
    "html = HTML(overview.format(update=update, cases=cases,new=new,deaths=deaths,dnew=dnew))\n",
    "\n",
    "display(html)"
   ]
  },
  {
   "cell_type": "code",
   "execution_count": 17,
   "metadata": {
    "execution": {
     "iopub.execute_input": "2020-11-04T11:27:01.503856Z",
     "iopub.status.busy": "2020-11-04T11:27:01.503315Z",
     "iopub.status.idle": "2020-11-04T11:27:01.508791Z",
     "shell.execute_reply": "2020-11-04T11:27:01.508184Z"
    },
    "papermill": {
     "duration": 0.028793,
     "end_time": "2020-11-04T11:27:01.508971",
     "exception": false,
     "start_time": "2020-11-04T11:27:01.480178",
     "status": "completed"
    },
    "tags": []
   },
   "outputs": [],
   "source": [
    "#hide\n",
    "dt_cols = list(dft_cases.columns[1:])\n",
    "dft_ct_new_cases = dft_cases.groupby('state')[dt_cols].sum().diff(axis=1).fillna(0).astype(int)\n",
    "dft_ct_new_cases.sort_values(by = dates[-1], ascending = False,inplace = True)"
   ]
  },
  {
   "cell_type": "code",
   "execution_count": 18,
   "metadata": {
    "execution": {
     "iopub.execute_input": "2020-11-04T11:27:01.560240Z",
     "iopub.status.busy": "2020-11-04T11:27:01.559706Z",
     "iopub.status.idle": "2020-11-04T11:27:01.562472Z",
     "shell.execute_reply": "2020-11-04T11:27:01.563067Z"
    },
    "papermill": {
     "duration": 0.035977,
     "end_time": "2020-11-04T11:27:01.563208",
     "exception": false,
     "start_time": "2020-11-04T11:27:01.527231",
     "status": "completed"
    },
    "tags": []
   },
   "outputs": [
    {
     "data": {
      "text/html": [
       "<div>\n",
       "<style scoped>\n",
       "    .dataframe tbody tr th:only-of-type {\n",
       "        vertical-align: middle;\n",
       "    }\n",
       "\n",
       "    .dataframe tbody tr th {\n",
       "        vertical-align: top;\n",
       "    }\n",
       "\n",
       "    .dataframe thead th {\n",
       "        text-align: right;\n",
       "    }\n",
       "</style>\n",
       "<table border=\"1\" class=\"dataframe\">\n",
       "  <thead>\n",
       "    <tr style=\"text-align: right;\">\n",
       "      <th>states</th>\n",
       "      <th>2020-07-01</th>\n",
       "      <th>2020-07-02</th>\n",
       "      <th>2020-07-03</th>\n",
       "      <th>2020-07-04</th>\n",
       "      <th>2020-07-05</th>\n",
       "      <th>2020-07-06</th>\n",
       "      <th>2020-07-07</th>\n",
       "      <th>2020-07-08</th>\n",
       "      <th>2020-07-09</th>\n",
       "      <th>2020-07-10</th>\n",
       "      <th>...</th>\n",
       "      <th>2020-10-26</th>\n",
       "      <th>2020-10-27</th>\n",
       "      <th>2020-10-28</th>\n",
       "      <th>2020-10-29</th>\n",
       "      <th>2020-10-30</th>\n",
       "      <th>2020-10-31</th>\n",
       "      <th>2020-11-01</th>\n",
       "      <th>2020-11-02</th>\n",
       "      <th>2020-11-03</th>\n",
       "      <th>2020-11-04</th>\n",
       "    </tr>\n",
       "    <tr>\n",
       "      <th>state</th>\n",
       "      <th></th>\n",
       "      <th></th>\n",
       "      <th></th>\n",
       "      <th></th>\n",
       "      <th></th>\n",
       "      <th></th>\n",
       "      <th></th>\n",
       "      <th></th>\n",
       "      <th></th>\n",
       "      <th></th>\n",
       "      <th></th>\n",
       "      <th></th>\n",
       "      <th></th>\n",
       "      <th></th>\n",
       "      <th></th>\n",
       "      <th></th>\n",
       "      <th></th>\n",
       "      <th></th>\n",
       "      <th></th>\n",
       "      <th></th>\n",
       "      <th></th>\n",
       "    </tr>\n",
       "  </thead>\n",
       "  <tbody>\n",
       "    <tr>\n",
       "      <th>Odisha</th>\n",
       "      <td>0</td>\n",
       "      <td>229</td>\n",
       "      <td>561</td>\n",
       "      <td>495</td>\n",
       "      <td>469</td>\n",
       "      <td>456</td>\n",
       "      <td>571</td>\n",
       "      <td>527</td>\n",
       "      <td>577</td>\n",
       "      <td>755</td>\n",
       "      <td>...</td>\n",
       "      <td>1480</td>\n",
       "      <td>1247</td>\n",
       "      <td>1540</td>\n",
       "      <td>1617</td>\n",
       "      <td>1547</td>\n",
       "      <td>1470</td>\n",
       "      <td>1709</td>\n",
       "      <td>1389</td>\n",
       "      <td>1201</td>\n",
       "      <td>1474</td>\n",
       "    </tr>\n",
       "    <tr>\n",
       "      <th>Andaman and Nicobar Islands</th>\n",
       "      <td>0</td>\n",
       "      <td>9</td>\n",
       "      <td>7</td>\n",
       "      <td>3</td>\n",
       "      <td>6</td>\n",
       "      <td>16</td>\n",
       "      <td>6</td>\n",
       "      <td>2</td>\n",
       "      <td>7</td>\n",
       "      <td>0</td>\n",
       "      <td>...</td>\n",
       "      <td>8</td>\n",
       "      <td>21</td>\n",
       "      <td>15</td>\n",
       "      <td>16</td>\n",
       "      <td>12</td>\n",
       "      <td>15</td>\n",
       "      <td>8</td>\n",
       "      <td>12</td>\n",
       "      <td>20</td>\n",
       "      <td>0</td>\n",
       "    </tr>\n",
       "    <tr>\n",
       "      <th>Andhra Pradesh</th>\n",
       "      <td>0</td>\n",
       "      <td>845</td>\n",
       "      <td>837</td>\n",
       "      <td>765</td>\n",
       "      <td>998</td>\n",
       "      <td>1322</td>\n",
       "      <td>1178</td>\n",
       "      <td>1062</td>\n",
       "      <td>1555</td>\n",
       "      <td>1608</td>\n",
       "      <td>...</td>\n",
       "      <td>1901</td>\n",
       "      <td>2901</td>\n",
       "      <td>2949</td>\n",
       "      <td>2905</td>\n",
       "      <td>2886</td>\n",
       "      <td>2783</td>\n",
       "      <td>2618</td>\n",
       "      <td>1916</td>\n",
       "      <td>2849</td>\n",
       "      <td>0</td>\n",
       "    </tr>\n",
       "    <tr>\n",
       "      <th>Maharashtra</th>\n",
       "      <td>0</td>\n",
       "      <td>6328</td>\n",
       "      <td>6364</td>\n",
       "      <td>7074</td>\n",
       "      <td>6555</td>\n",
       "      <td>5368</td>\n",
       "      <td>5134</td>\n",
       "      <td>6603</td>\n",
       "      <td>6875</td>\n",
       "      <td>7862</td>\n",
       "      <td>...</td>\n",
       "      <td>3645</td>\n",
       "      <td>5363</td>\n",
       "      <td>6738</td>\n",
       "      <td>5902</td>\n",
       "      <td>6190</td>\n",
       "      <td>5548</td>\n",
       "      <td>5369</td>\n",
       "      <td>4009</td>\n",
       "      <td>4909</td>\n",
       "      <td>0</td>\n",
       "    </tr>\n",
       "    <tr>\n",
       "      <th>Manipur</th>\n",
       "      <td>0</td>\n",
       "      <td>19</td>\n",
       "      <td>37</td>\n",
       "      <td>9</td>\n",
       "      <td>41</td>\n",
       "      <td>24</td>\n",
       "      <td>40</td>\n",
       "      <td>5</td>\n",
       "      <td>15</td>\n",
       "      <td>132</td>\n",
       "      <td>...</td>\n",
       "      <td>264</td>\n",
       "      <td>180</td>\n",
       "      <td>205</td>\n",
       "      <td>242</td>\n",
       "      <td>221</td>\n",
       "      <td>230</td>\n",
       "      <td>248</td>\n",
       "      <td>341</td>\n",
       "      <td>150</td>\n",
       "      <td>0</td>\n",
       "    </tr>\n",
       "  </tbody>\n",
       "</table>\n",
       "<p>5 rows × 127 columns</p>\n",
       "</div>"
      ],
      "text/plain": [
       "states                       2020-07-01  2020-07-02  2020-07-03  2020-07-04  \\\n",
       "state                                                                         \n",
       "Odisha                                0         229         561         495   \n",
       "Andaman and Nicobar Islands           0           9           7           3   \n",
       "Andhra Pradesh                        0         845         837         765   \n",
       "Maharashtra                           0        6328        6364        7074   \n",
       "Manipur                               0          19          37           9   \n",
       "\n",
       "states                       2020-07-05  2020-07-06  2020-07-07  2020-07-08  \\\n",
       "state                                                                         \n",
       "Odisha                              469         456         571         527   \n",
       "Andaman and Nicobar Islands           6          16           6           2   \n",
       "Andhra Pradesh                      998        1322        1178        1062   \n",
       "Maharashtra                        6555        5368        5134        6603   \n",
       "Manipur                              41          24          40           5   \n",
       "\n",
       "states                       2020-07-09  2020-07-10  ...  2020-10-26  \\\n",
       "state                                                ...               \n",
       "Odisha                              577         755  ...        1480   \n",
       "Andaman and Nicobar Islands           7           0  ...           8   \n",
       "Andhra Pradesh                     1555        1608  ...        1901   \n",
       "Maharashtra                        6875        7862  ...        3645   \n",
       "Manipur                              15         132  ...         264   \n",
       "\n",
       "states                       2020-10-27  2020-10-28  2020-10-29  2020-10-30  \\\n",
       "state                                                                         \n",
       "Odisha                             1247        1540        1617        1547   \n",
       "Andaman and Nicobar Islands          21          15          16          12   \n",
       "Andhra Pradesh                     2901        2949        2905        2886   \n",
       "Maharashtra                        5363        6738        5902        6190   \n",
       "Manipur                             180         205         242         221   \n",
       "\n",
       "states                       2020-10-31  2020-11-01  2020-11-02  2020-11-03  \\\n",
       "state                                                                         \n",
       "Odisha                             1470        1709        1389        1201   \n",
       "Andaman and Nicobar Islands          15           8          12          20   \n",
       "Andhra Pradesh                     2783        2618        1916        2849   \n",
       "Maharashtra                        5548        5369        4009        4909   \n",
       "Manipur                             230         248         341         150   \n",
       "\n",
       "states                       2020-11-04  \n",
       "state                                    \n",
       "Odisha                             1474  \n",
       "Andaman and Nicobar Islands           0  \n",
       "Andhra Pradesh                        0  \n",
       "Maharashtra                           0  \n",
       "Manipur                               0  \n",
       "\n",
       "[5 rows x 127 columns]"
      ]
     },
     "execution_count": 18,
     "metadata": {},
     "output_type": "execute_result"
    }
   ],
   "source": [
    "#hide\n",
    "dft_ct_new_cases.head()"
   ]
  },
  {
   "cell_type": "code",
   "execution_count": 19,
   "metadata": {
    "execution": {
     "iopub.execute_input": "2020-11-04T11:27:01.597933Z",
     "iopub.status.busy": "2020-11-04T11:27:01.597361Z",
     "iopub.status.idle": "2020-11-04T11:27:07.320392Z",
     "shell.execute_reply": "2020-11-04T11:27:07.320848Z"
    },
    "papermill": {
     "duration": 5.741742,
     "end_time": "2020-11-04T11:27:07.321000",
     "exception": false,
     "start_time": "2020-11-04T11:27:01.579258",
     "status": "completed"
    },
    "tags": []
   },
   "outputs": [
    {
     "data": {
      "image/png": "[encoded data removed]",
      "text/plain": [
       "<Figure size 1296x2016 with 11 Axes>"
      ]
     },
     "metadata": {
      "needs_background": "light"
     },
     "output_type": "display_data"
    }
   ],
   "source": [
    "#hide_input\n",
    "df = dft_ct_new_cases.copy()\n",
    "df.loc['Total'] = df.sum()\n",
    "n = 5\n",
    "ax = []\n",
    "fig = plt.figure(figsize = (18,28))\n",
    "gs = fig.add_gridspec(n+2, 5)\n",
    "# gs = fig.add_gridspec(2, 3)\n",
    "ax1 = fig.add_subplot(gs[0, :])\n",
    "ef = df.loc['Total'].rename_axis('date').reset_index()\n",
    "ef['date'] = ef['date'].astype('datetime64[ns]')\n",
    "ax1.bar(ef.date,ef.Total,alpha=0.3,color='#007acc')\n",
    "ax1.plot(ef.date,ef.Total , marker=\"o\", color='#007acc')\n",
    "ax1.xaxis.set_major_locator(mdates.WeekdayLocator())\n",
    "ax1.xaxis.set_major_formatter(mdates.DateFormatter('%b %d'))\n",
    "ax1.text(0.02, 0.5,'India daily case count', transform = ax1.transAxes, fontsize=25);\n",
    "ax1.spines['right'].set_visible(False)\n",
    "ax1.spines['top'].set_visible(False)\n",
    "\n",
    "ax2 = fig.add_subplot(gs[1,0])\n",
    "ef = df.loc['Maharashtra'].rename_axis('date').reset_index()\n",
    "ef['date'] = ef['date'].astype('datetime64[ns]')\n",
    "\n",
    "ax2.bar(ef.date, ef.Maharashtra,color = '#007acc',alpha=0.5)\n",
    "ax2.xaxis.set_major_locator(mdates.WeekdayLocator())\n",
    "ax2.xaxis.set_major_formatter(mdates.DateFormatter('%b %d'))\n",
    "ax2.set_xticks(ax2.get_xticks()[::3])\n",
    "maxyval = ef.Maharashtra.max()\n",
    "ax2.set_ylim([0,maxyval])\n",
    "ax2.text(0.05, 0.9,'Maharashtra', transform = ax2.transAxes, fontsize=20);\n",
    "ax2.spines['right'].set_visible(False)\n",
    "ax2.spines['top'].set_visible(False)\n",
    "\n",
    "\n",
    "ax3 = fig.add_subplot(gs[1,1])\n",
    "ef = df.loc['Tamil Nadu'].rename_axis('date').reset_index()\n",
    "ef['date'] = ef['date'].astype('datetime64[ns]')\n",
    "ax3.bar(ef.date, ef['Tamil Nadu'],color = '#007acc',alpha=0.5,)\n",
    "ax3.xaxis.set_major_locator(mdates.WeekdayLocator())\n",
    "ax3.xaxis.set_major_formatter(mdates.DateFormatter('%b %d'))\n",
    "ax3.set_xticks(ax3.get_xticks()[::3])\n",
    "ax3.text(0.05, 0.9,'Tamil Nadu', transform = ax3.transAxes, fontsize=20);\n",
    "ax3.spines['right'].set_visible(False)\n",
    "ax3.spines['top'].set_visible(False)\n",
    "\n",
    "ax5 = fig.add_subplot(gs[1,3])\n",
    "ef = df.loc['Telangana'].rename_axis('date').reset_index()\n",
    "ef['date'] = ef['date'].astype('datetime64[ns]')\n",
    "ax5.bar(ef.date, ef['Telangana'],color = '#007acc',alpha=0.5,)\n",
    "ax5.xaxis.set_major_locator(mdates.WeekdayLocator())\n",
    "ax5.xaxis.set_major_formatter(mdates.DateFormatter('%b %d'))\n",
    "ax5.set_xticks(ax5.get_xticks()[::3])\n",
    "ax5.text(0.05, 0.9,'Telangana', transform = ax5.transAxes, fontsize=20);\n",
    "ax5.spines['right'].set_visible(False)\n",
    "ax5.spines['top'].set_visible(False)\n",
    "\n",
    "ax6 = fig.add_subplot(gs[1,4])\n",
    "ef = df.loc['Andhra Pradesh'].rename_axis('date').reset_index()\n",
    "ef['date'] = ef['date'].astype('datetime64[ns]')\n",
    "ax6.bar(ef.date, ef['Andhra Pradesh'],color = '#007acc',alpha=0.5,)\n",
    "ax6.xaxis.set_major_locator(mdates.WeekdayLocator())\n",
    "ax6.xaxis.set_major_formatter(mdates.DateFormatter('%b %d'))\n",
    "ax6.set_xticks(ax6.get_xticks()[::3])\n",
    "ax6.text(0.05, 1,'Andhra Pradesh', transform = ax6.transAxes, fontsize=20);\n",
    "ax6.spines['right'].set_visible(False)\n",
    "ax6.spines['top'].set_visible(False)\n",
    "\n",
    "ax4 = fig.add_subplot(gs[1,2])\n",
    "ef = df.loc['Delhi'].rename_axis('date').reset_index()\n",
    "ef['date'] = ef['date'].astype('datetime64[ns]')\n",
    "ax4.bar(ef.date, ef.Delhi,color = '#007acc',alpha=0.5)\n",
    "ax4.set_xticks([])\n",
    "ax4.xaxis.set_major_locator(mdates.WeekdayLocator())\n",
    "ax4.xaxis.set_major_formatter(mdates.DateFormatter('%b %d'))\n",
    "ax4.set_xticks(ax4.get_xticks()[::3])\n",
    "ax4.spines['right'].set_visible(False)\n",
    "ax4.spines['top'].set_visible(False)\n",
    "\n",
    "ax4.text(0.05, 1,'Delhi', transform = ax4.transAxes, fontsize=20)\n",
    "\n",
    "for i in range(n):\n",
    "    \n",
    "    ax.append(fig.add_subplot(gs[i+2,:]))\n",
    "    ef = df.iloc[i+3].rename_axis('date').reset_index()\n",
    "    ef['date'] = ef['date'].astype('datetime64[ns]')\n",
    "    ax[i].bar(ef.date,ef.iloc[:,-1],color = '#007acc',alpha=0.3)\n",
    "    ax[i].plot(ef.date,ef.iloc[:,-1],marker='o',color='#007acc')\n",
    "    ax[i].text(0.02,0.5,f'{ef.columns.values[-1]}',transform = ax[i].transAxes, fontsize = 20);\n",
    "    ax[i].xaxis.set_major_locator(mdates.WeekdayLocator())\n",
    "    ax[i].xaxis.set_major_formatter(mdates.DateFormatter('%b %d'))\n",
    "    ax[i].set_ylim([0,7000])\n",
    "    ax[i].spines['right'].set_visible(False)\n",
    "    ax[i].spines['top'].set_visible(False)\n",
    "plt.tight_layout()\n"
   ]
  },
  {
   "cell_type": "code",
   "execution_count": 20,
   "metadata": {
    "execution": {
     "iopub.execute_input": "2020-11-04T11:27:07.370946Z",
     "iopub.status.busy": "2020-11-04T11:27:07.370359Z",
     "iopub.status.idle": "2020-11-04T11:27:07.374242Z",
     "shell.execute_reply": "2020-11-04T11:27:07.374672Z"
    },
    "papermill": {
     "duration": 0.03338,
     "end_time": "2020-11-04T11:27:07.374795",
     "exception": false,
     "start_time": "2020-11-04T11:27:07.341415",
     "status": "completed"
    },
    "tags": []
   },
   "outputs": [
    {
     "name": "stdout",
     "output_type": "stream",
     "text": [
      "                                   states    Cases  Deaths   PCases  PDeaths  Cases (+)  Deaths (+)  Fatality Rate\n",
      "                              Maharashtra  1692693   44248  1692693    44248          0           0           2.61\n",
      "                                Karnataka   832396   11247   832396    11247          0           0           1.35\n",
      "                           Andhra Pradesh   830731    6734   830731     6734          0           0           0.81\n",
      "                               Tamil Nadu   731942   11214   731942    11214          0           0           1.53\n",
      "                            Uttar Pradesh   487335    7089   487335     7089          0           0           1.45\n",
      "                                   Kerala   451131    1560   451131     1560          0           0           0.35\n",
      "                                    Delhi   403096    6652   403096     6652          0           0           1.65\n",
      "                              West Bengal   385589    7013   385589     7013          0           0           1.82\n",
      "                                   Odisha   295889    1417   294415     1405       1474          12           0.48\n",
      "                                Telangana   242506    1351   242506     1351          0           0           0.56\n",
      "                                    Bihar   218964    1108   218964     1108          0           0           0.51\n",
      "                                    Assam   207361     934   207361      934          0           0           0.45\n",
      "                                Rajasthan   202220    1936   202220     1936          0           0           0.96\n",
      "                             Chhattisgarh   192237    2266   192237     2266          0           0           1.18\n",
      "                                  Gujarat   175633    3734   175633     3734          0           0           2.13\n",
      "                           Madhya Pradesh   173384    2974   173384     2974          0           0           1.72\n",
      "                                  Haryana   172130    1817   172130     1817          0           0           1.06\n",
      "                                   Punjab   134786    4245   134786     4245          0           0           3.15\n",
      "                                Jharkhand   102887     891   102887      891          0           0           0.87\n",
      "                        Jammu and Kashmir    96188    1502    96188     1502          0           0           1.56\n",
      "                              Uttarakhand    63197    1033    63197     1033          0           0           1.63\n",
      "                                      Goa    44189     618    44189      618          0           0           1.40\n",
      "                               Puducherry    35325     596    35325      596          0           0           1.69\n",
      "                                  Tripura    30986     347    30986      347          0           0           1.12\n",
      "                         Himachal Pradesh    22932     338    22932      338          0           0           1.47\n",
      "                                  Manipur    19241     184    19241      184          0           0           0.96\n",
      "                        Arunachal Pradesh    15083      42    15083       42          0           0           0.28\n",
      "                               Chandigarh    14614     228    14614      228          0           0           1.56\n",
      "                                Meghalaya     9741      90     9741       90          0           0           0.92\n",
      "                                 Nagaland     9151      42     9151       42          0           0           0.46\n",
      "                                   Ladakh     6441      76     6441       76          0           0           1.18\n",
      "              Andaman and Nicobar Islands     4372      60     4372       60          0           0           1.37\n",
      "                                   Sikkim     4004      73     4004       73          0           0           1.82\n",
      " Dadra and Nagar Haveli and Daman and Diu     3255       2     3255        2          0           0           0.06\n",
      "                                  Mizoram     2792       1     2792        1          0           0           0.04\n",
      "                              Lakshadweep        0       0        0        0          0           0            NaN\n"
     ]
    }
   ],
   "source": [
    "#hide_input\n",
    "print(df_table.to_string(index=False))"
   ]
  },
  {
   "cell_type": "code",
   "execution_count": null,
   "metadata": {
    "papermill": {
     "duration": 0.019375,
     "end_time": "2020-11-04T11:27:07.413530",
     "exception": false,
     "start_time": "2020-11-04T11:27:07.394155",
     "status": "completed"
    },
    "tags": []
   },
   "outputs": [],
   "source": []
  },
  {
   "cell_type": "code",
   "execution_count": null,
   "metadata": {
    "papermill": {
     "duration": 0.020102,
     "end_time": "2020-11-04T11:27:07.454937",
     "exception": false,
     "start_time": "2020-11-04T11:27:07.434835",
     "status": "completed"
    },
    "tags": []
   },
   "outputs": [],
   "source": []
  }
 ],
 "metadata": {
  "kernelspec": {
   "display_name": "Python 3",
   "language": "python",
   "name": "python3"
  },
  "language_info": {
   "codemirror_mode": {
    "name": "ipython",
    "version": 3
   },
   "file_extension": ".py",
   "mimetype": "text/x-python",
   "name": "python",
   "nbconvert_exporter": "python",
   "pygments_lexer": "ipython3",
   "version": "3.6.12"
  },
  "papermill": {
   "duration": 14.320994,
   "end_time": "2020-11-04T11:27:08.690766",
   "environment_variables": {},
   "exception": null,
   "input_path": "latest.ipynb",
   "output_path": "latest.ipynb",
   "parameters": {},
   "start_time": "2020-11-04T11:26:54.369772",
   "version": "2.1.2"
  }
 },
 "nbformat": 4,
 "nbformat_minor": 4
}