{
 "cells": [
  {
   "cell_type": "markdown",
   "id": "colored-stack",
   "metadata": {
    "papermill": {
     "duration": 0.021116,
     "end_time": "2021-01-23T12:04:25.277598",
     "exception": false,
     "start_time": "2021-01-23T12:04:25.256482",
     "status": "completed"
    },
    "tags": []
   },
   "source": [
    "# Latest COVID-19 India Matplotlib Overview"
   ]
  },
  {
   "cell_type": "code",
   "execution_count": 1,
   "id": "light-proportion",
   "metadata": {
    "execution": {
     "iopub.execute_input": "2021-01-23T12:04:25.323855Z",
     "iopub.status.busy": "2021-01-23T12:04:25.323251Z",
     "iopub.status.idle": "2021-01-23T12:04:25.915375Z",
     "shell.execute_reply": "2021-01-23T12:04:25.914841Z"
    },
    "papermill": {
     "duration": 0.620738,
     "end_time": "2021-01-23T12:04:25.915526",
     "exception": false,
     "start_time": "2021-01-23T12:04:25.294788",
     "status": "completed"
    },
    "tags": []
   },
   "outputs": [],
   "source": [
    "#hide\n",
    "import pandas as pd\n",
    "import numpy as np\n",
    "import requests\n",
    "import json\n",
    "import matplotlib.pyplot as plt\n",
    "import matplotlib.dates as mdates\n",
    "import matplotlib as mpl\n",
    "from IPython.core.display import display,HTML\n",
    "%matplotlib inline\n",
    "from datetime import date"
   ]
  },
  {
   "cell_type": "code",
   "execution_count": 2,
   "id": "greenhouse-shooting",
   "metadata": {
    "execution": {
     "iopub.execute_input": "2021-01-23T12:04:25.959047Z",
     "iopub.status.busy": "2021-01-23T12:04:25.958446Z",
     "iopub.status.idle": "2021-01-23T12:04:26.153466Z",
     "shell.execute_reply": "2021-01-23T12:04:26.152521Z"
    },
    "papermill": {
     "duration": 0.221073,
     "end_time": "2021-01-23T12:04:26.153680",
     "exception": false,
     "start_time": "2021-01-23T12:04:25.932607",
     "status": "completed"
    },
    "tags": []
   },
   "outputs": [],
   "source": [
    "#hide\n",
    "df  = pd.read_csv('https://api.covid19india.org/csv/latest/states.csv')\n",
    "df = df[['Date','State','Confirmed','Deceased']]\n",
    "df = df.rename(columns={'Confirmed':'Cases', \"Deceased\":'Deaths'})\n",
    "df_cases = df[[\"Date\",'State','Cases']]\n",
    "df_deaths = df[['Date','State','Deaths']]\n",
    "df_cases1 = df_cases.groupby('Date')\n",
    "df_deaths1= df_deaths.groupby('Date')"
   ]
  },
  {
   "cell_type": "code",
   "execution_count": 3,
   "id": "hybrid-cathedral",
   "metadata": {
    "execution": {
     "iopub.execute_input": "2021-01-23T12:04:26.196586Z",
     "iopub.status.busy": "2021-01-23T12:04:26.195977Z",
     "iopub.status.idle": "2021-01-23T12:04:26.214611Z",
     "shell.execute_reply": "2021-01-23T12:04:26.215122Z"
    },
    "papermill": {
     "duration": 0.042628,
     "end_time": "2021-01-23T12:04:26.215291",
     "exception": false,
     "start_time": "2021-01-23T12:04:26.172663",
     "status": "completed"
    },
    "tags": []
   },
   "outputs": [],
   "source": [
    "#hide\n",
    "df_snap = pd.read_csv('data/SnapshotCases-28-July.csv')\n",
    "arr_states = df_snap['states'].unique()\n",
    "arr_dates = df['Date'].unique()\n",
    "df_snap = df_snap.set_index('states')"
   ]
  },
  {
   "cell_type": "code",
   "execution_count": 4,
   "id": "interior-belfast",
   "metadata": {
    "execution": {
     "iopub.execute_input": "2021-01-23T12:04:26.258928Z",
     "iopub.status.busy": "2021-01-23T12:04:26.256742Z",
     "iopub.status.idle": "2021-01-23T12:04:26.260905Z",
     "shell.execute_reply": "2021-01-23T12:04:26.261369Z"
    },
    "papermill": {
     "duration": 0.029229,
     "end_time": "2021-01-23T12:04:26.261508",
     "exception": false,
     "start_time": "2021-01-23T12:04:26.232279",
     "status": "completed"
    },
    "tags": []
   },
   "outputs": [
    {
     "data": {
      "text/plain": [
       "array(['Andaman and Nicobar Islands', 'Andhra Pradesh',\n",
       "       'Arunachal Pradesh', 'Assam', 'Bihar', 'Chandigarh',\n",
       "       'Dadra and Nagar Haveli and Daman and Diu', 'Delhi', 'Goa',\n",
       "       'Gujarat', 'Haryana', 'Himachal Pradesh', 'Jammu and Kashmir',\n",
       "       'Jharkhand', 'Karnataka', 'Kerala', 'Lakshadweep',\n",
       "       'Madhya Pradesh', 'Maharashtra', 'Manipur', 'Meghalaya', 'Mizoram',\n",
       "       'Nagaland', 'Odisha', 'Puducherry', 'Punjab', 'Rajasthan',\n",
       "       'Sikkim', 'Tamil Nadu', 'Telangana', 'Tripura', 'Uttar Pradesh',\n",
       "       'West Bengal', 'Chhattisgarh', 'Ladakh', 'Uttarakhand'],\n",
       "      dtype=object)"
      ]
     },
     "execution_count": 4,
     "metadata": {},
     "output_type": "execute_result"
    }
   ],
   "source": [
    "#hide\n",
    "arr_states[-9] = 'Puducherry'\n",
    "arr_states[-10] = 'Odisha'\n",
    "arr_states[6] = 'Dadra and Nagar Haveli and Daman and Diu'\n",
    "arr_states = np.append(arr_states,np.array(['Chhattisgarh','Ladakh','Uttarakhand']))\n",
    "arr_states"
   ]
  },
  {
   "cell_type": "code",
   "execution_count": 5,
   "id": "behind-manner",
   "metadata": {
    "execution": {
     "iopub.execute_input": "2021-01-23T12:04:26.308080Z",
     "iopub.status.busy": "2021-01-23T12:04:26.307494Z",
     "iopub.status.idle": "2021-01-23T12:04:26.316095Z",
     "shell.execute_reply": "2021-01-23T12:04:26.315600Z"
    },
    "papermill": {
     "duration": 0.037619,
     "end_time": "2021-01-23T12:04:26.316214",
     "exception": false,
     "start_time": "2021-01-23T12:04:26.278595",
     "status": "completed"
    },
    "tags": []
   },
   "outputs": [],
   "source": [
    "#hide\n",
    "dates = []\n",
    "for i in arr_dates:\n",
    "    if i>='2020-07-01':\n",
    "        dates.append(i)\n",
    "dict = {'states':dates}\n",
    "for i in arr_states:\n",
    "    dict[i] = [0]*len(dates)\n",
    "dft_cases = pd.DataFrame(dict)\n",
    "dft_deaths = pd.DataFrame(dict)\n"
   ]
  },
  {
   "cell_type": "code",
   "execution_count": 6,
   "id": "simplified-peter",
   "metadata": {
    "execution": {
     "iopub.execute_input": "2021-01-23T12:04:26.358029Z",
     "iopub.status.busy": "2021-01-23T12:04:26.357423Z",
     "iopub.status.idle": "2021-01-23T12:04:29.221956Z",
     "shell.execute_reply": "2021-01-23T12:04:29.220903Z"
    },
    "papermill": {
     "duration": 2.888891,
     "end_time": "2021-01-23T12:04:29.222102",
     "exception": false,
     "start_time": "2021-01-23T12:04:26.333211",
     "status": "completed"
    },
    "tags": []
   },
   "outputs": [],
   "source": [
    "#hide\n",
    "for i in range(len(dates)):\n",
    "    df1_deaths = df_deaths1.get_group(dates[i])\n",
    "    for j in range(len(df1_deaths.index)):\n",
    "        if df1_deaths.iloc[j,1] in arr_states:\n",
    "            dft_deaths.loc[i,df1_deaths.iloc[j,1]] = df1_deaths.iloc[j,2]\n",
    "dft_deaths = dft_deaths.set_index('states')"
   ]
  },
  {
   "cell_type": "code",
   "execution_count": 7,
   "id": "geological-welding",
   "metadata": {
    "execution": {
     "iopub.execute_input": "2021-01-23T12:04:29.263212Z",
     "iopub.status.busy": "2021-01-23T12:04:29.262476Z",
     "iopub.status.idle": "2021-01-23T12:04:32.107026Z",
     "shell.execute_reply": "2021-01-23T12:04:32.106052Z"
    },
    "papermill": {
     "duration": 2.867769,
     "end_time": "2021-01-23T12:04:32.107176",
     "exception": false,
     "start_time": "2021-01-23T12:04:29.239407",
     "status": "completed"
    },
    "tags": []
   },
   "outputs": [],
   "source": [
    "#hide\n",
    "for i in range(len(dates)):\n",
    "    df1_cases = df_cases1.get_group(dates[i])\n",
    "    for j in range(len(df1_cases.index)):\n",
    "        if df1_cases.iloc[j,1] in arr_states:\n",
    "            dft_cases.loc[i,df1_cases.iloc[j,1]] = df1_cases.iloc[j,2]\n",
    "dft_cases = dft_cases.set_index('states')"
   ]
  },
  {
   "cell_type": "code",
   "execution_count": 8,
   "id": "binary-ratio",
   "metadata": {
    "execution": {
     "iopub.execute_input": "2021-01-23T12:04:32.146997Z",
     "iopub.status.busy": "2021-01-23T12:04:32.146401Z",
     "iopub.status.idle": "2021-01-23T12:04:32.148804Z",
     "shell.execute_reply": "2021-01-23T12:04:32.148180Z"
    },
    "papermill": {
     "duration": 0.024471,
     "end_time": "2021-01-23T12:04:32.148931",
     "exception": false,
     "start_time": "2021-01-23T12:04:32.124460",
     "status": "completed"
    },
    "tags": []
   },
   "outputs": [],
   "source": [
    "#hide\n",
    "dft_cases = dft_cases.T\n",
    "dft_deaths = dft_deaths.T\n",
    "dt_today = dates[-1]\n",
    "dt_yday = dates[-2]"
   ]
  },
  {
   "cell_type": "code",
   "execution_count": 9,
   "id": "boolean-calculator",
   "metadata": {
    "execution": {
     "iopub.execute_input": "2021-01-23T12:04:32.190074Z",
     "iopub.status.busy": "2021-01-23T12:04:32.189494Z",
     "iopub.status.idle": "2021-01-23T12:04:32.193777Z",
     "shell.execute_reply": "2021-01-23T12:04:32.194279Z"
    },
    "papermill": {
     "duration": 0.028207,
     "end_time": "2021-01-23T12:04:32.194418",
     "exception": false,
     "start_time": "2021-01-23T12:04:32.166211",
     "status": "completed"
    },
    "tags": []
   },
   "outputs": [],
   "source": [
    "#hide\n",
    "dft_cases = dft_cases.reset_index()\n",
    "dft_deaths = dft_deaths.reset_index()\n",
    "dft_cases = dft_cases.rename(columns = {'index':'state'})\n",
    "dft_deaths = dft_deaths.rename(columns = {'index':'state'})"
   ]
  },
  {
   "cell_type": "code",
   "execution_count": 10,
   "id": "invisible-johnston",
   "metadata": {
    "execution": {
     "iopub.execute_input": "2021-01-23T12:04:32.241646Z",
     "iopub.status.busy": "2021-01-23T12:04:32.241063Z",
     "iopub.status.idle": "2021-01-23T12:04:32.243387Z",
     "shell.execute_reply": "2021-01-23T12:04:32.242925Z"
    },
    "papermill": {
     "duration": 0.032226,
     "end_time": "2021-01-23T12:04:32.243506",
     "exception": false,
     "start_time": "2021-01-23T12:04:32.211280",
     "status": "completed"
    },
    "tags": []
   },
   "outputs": [],
   "source": [
    "#hide\n",
    "dfc_cases = dft_cases.groupby('state')[dt_today].sum()\n",
    "dfc_deaths = dft_deaths.groupby('state')[dt_today].sum()\n",
    "dfp_cases = dft_cases.groupby('state')[dt_yday].sum()\n",
    "dfp_deaths = dft_deaths.groupby('state')[dt_yday].sum()"
   ]
  },
  {
   "cell_type": "code",
   "execution_count": 11,
   "id": "measured-great",
   "metadata": {
    "execution": {
     "iopub.execute_input": "2021-01-23T12:04:32.294816Z",
     "iopub.status.busy": "2021-01-23T12:04:32.294239Z",
     "iopub.status.idle": "2021-01-23T12:04:32.300785Z",
     "shell.execute_reply": "2021-01-23T12:04:32.300289Z"
    },
    "papermill": {
     "duration": 0.040265,
     "end_time": "2021-01-23T12:04:32.300903",
     "exception": false,
     "start_time": "2021-01-23T12:04:32.260638",
     "status": "completed"
    },
    "tags": []
   },
   "outputs": [
    {
     "data": {
      "text/html": [
       "<div>\n",
       "<style scoped>\n",
       "    .dataframe tbody tr th:only-of-type {\n",
       "        vertical-align: middle;\n",
       "    }\n",
       "\n",
       "    .dataframe tbody tr th {\n",
       "        vertical-align: top;\n",
       "    }\n",
       "\n",
       "    .dataframe thead th {\n",
       "        text-align: right;\n",
       "    }\n",
       "</style>\n",
       "<table border=\"1\" class=\"dataframe\">\n",
       "  <thead>\n",
       "    <tr style=\"text-align: right;\">\n",
       "      <th></th>\n",
       "      <th>states</th>\n",
       "      <th>Cases</th>\n",
       "      <th>Deaths</th>\n",
       "      <th>PCases</th>\n",
       "      <th>PDeaths</th>\n",
       "    </tr>\n",
       "  </thead>\n",
       "  <tbody>\n",
       "    <tr>\n",
       "      <th>0</th>\n",
       "      <td>Maharashtra</td>\n",
       "      <td>2003657</td>\n",
       "      <td>50684</td>\n",
       "      <td>2003657</td>\n",
       "      <td>50684</td>\n",
       "    </tr>\n",
       "    <tr>\n",
       "      <th>1</th>\n",
       "      <td>Karnataka</td>\n",
       "      <td>934576</td>\n",
       "      <td>12190</td>\n",
       "      <td>934576</td>\n",
       "      <td>12190</td>\n",
       "    </tr>\n",
       "    <tr>\n",
       "      <th>2</th>\n",
       "      <td>Andhra Pradesh</td>\n",
       "      <td>886694</td>\n",
       "      <td>7146</td>\n",
       "      <td>886694</td>\n",
       "      <td>7146</td>\n",
       "    </tr>\n",
       "    <tr>\n",
       "      <th>3</th>\n",
       "      <td>Kerala</td>\n",
       "      <td>877283</td>\n",
       "      <td>3565</td>\n",
       "      <td>877283</td>\n",
       "      <td>3565</td>\n",
       "    </tr>\n",
       "    <tr>\n",
       "      <th>4</th>\n",
       "      <td>Tamil Nadu</td>\n",
       "      <td>833585</td>\n",
       "      <td>12307</td>\n",
       "      <td>833585</td>\n",
       "      <td>12307</td>\n",
       "    </tr>\n",
       "  </tbody>\n",
       "</table>\n",
       "</div>"
      ],
      "text/plain": [
       "           states    Cases  Deaths   PCases  PDeaths\n",
       "0     Maharashtra  2003657   50684  2003657    50684\n",
       "1       Karnataka   934576   12190   934576    12190\n",
       "2  Andhra Pradesh   886694    7146   886694     7146\n",
       "3          Kerala   877283    3565   877283     3565\n",
       "4      Tamil Nadu   833585   12307   833585    12307"
      ]
     },
     "execution_count": 11,
     "metadata": {},
     "output_type": "execute_result"
    }
   ],
   "source": [
    "#hide\n",
    "df_table = pd.DataFrame({'states': dfc_cases.index, 'Cases': dfc_cases.values, 'Deaths': dfc_deaths.values, 'PCases': dfp_cases.values, 'PDeaths': dfp_deaths.values}).set_index('states')\n",
    "df_table = df_table.sort_values(by = ['Cases','Deaths'], ascending = [False, False])\n",
    "df_table = df_table.reset_index()\n",
    "df_table.head()"
   ]
  },
  {
   "cell_type": "code",
   "execution_count": 12,
   "id": "found-montreal",
   "metadata": {
    "execution": {
     "iopub.execute_input": "2021-01-23T12:04:32.342646Z",
     "iopub.status.busy": "2021-01-23T12:04:32.342076Z",
     "iopub.status.idle": "2021-01-23T12:04:32.352675Z",
     "shell.execute_reply": "2021-01-23T12:04:32.352146Z"
    },
    "papermill": {
     "duration": 0.0345,
     "end_time": "2021-01-23T12:04:32.352795",
     "exception": false,
     "start_time": "2021-01-23T12:04:32.318295",
     "status": "completed"
    },
    "tags": []
   },
   "outputs": [],
   "source": [
    "#hide\n",
    "for c in 'Cases, Deaths'.split(', '):\n",
    "    df_table[f'{c} (+)'] = (df_table[c] - df_table[f'P{c}']).clip(0)\n",
    "df_table['Fatality Rate'] = (100* df_table['Deaths']/ df_table['Cases']).round(2)"
   ]
  },
  {
   "cell_type": "code",
   "execution_count": 13,
   "id": "minus-savage",
   "metadata": {
    "execution": {
     "iopub.execute_input": "2021-01-23T12:04:32.400944Z",
     "iopub.status.busy": "2021-01-23T12:04:32.400357Z",
     "iopub.status.idle": "2021-01-23T12:04:32.403613Z",
     "shell.execute_reply": "2021-01-23T12:04:32.403125Z"
    },
    "papermill": {
     "duration": 0.033402,
     "end_time": "2021-01-23T12:04:32.403733",
     "exception": false,
     "start_time": "2021-01-23T12:04:32.370331",
     "status": "completed"
    },
    "tags": []
   },
   "outputs": [
    {
     "data": {
      "text/html": [
       "<div>\n",
       "<style scoped>\n",
       "    .dataframe tbody tr th:only-of-type {\n",
       "        vertical-align: middle;\n",
       "    }\n",
       "\n",
       "    .dataframe tbody tr th {\n",
       "        vertical-align: top;\n",
       "    }\n",
       "\n",
       "    .dataframe thead th {\n",
       "        text-align: right;\n",
       "    }\n",
       "</style>\n",
       "<table border=\"1\" class=\"dataframe\">\n",
       "  <thead>\n",
       "    <tr style=\"text-align: right;\">\n",
       "      <th></th>\n",
       "      <th>states</th>\n",
       "      <th>Cases</th>\n",
       "      <th>Deaths</th>\n",
       "      <th>PCases</th>\n",
       "      <th>PDeaths</th>\n",
       "      <th>Cases (+)</th>\n",
       "      <th>Deaths (+)</th>\n",
       "      <th>Fatality Rate</th>\n",
       "    </tr>\n",
       "  </thead>\n",
       "  <tbody>\n",
       "    <tr>\n",
       "      <th>0</th>\n",
       "      <td>Maharashtra</td>\n",
       "      <td>2003657</td>\n",
       "      <td>50684</td>\n",
       "      <td>2003657</td>\n",
       "      <td>50684</td>\n",
       "      <td>0</td>\n",
       "      <td>0</td>\n",
       "      <td>2.53</td>\n",
       "    </tr>\n",
       "    <tr>\n",
       "      <th>1</th>\n",
       "      <td>Karnataka</td>\n",
       "      <td>934576</td>\n",
       "      <td>12190</td>\n",
       "      <td>934576</td>\n",
       "      <td>12190</td>\n",
       "      <td>0</td>\n",
       "      <td>0</td>\n",
       "      <td>1.30</td>\n",
       "    </tr>\n",
       "    <tr>\n",
       "      <th>2</th>\n",
       "      <td>Andhra Pradesh</td>\n",
       "      <td>886694</td>\n",
       "      <td>7146</td>\n",
       "      <td>886694</td>\n",
       "      <td>7146</td>\n",
       "      <td>0</td>\n",
       "      <td>0</td>\n",
       "      <td>0.81</td>\n",
       "    </tr>\n",
       "    <tr>\n",
       "      <th>3</th>\n",
       "      <td>Kerala</td>\n",
       "      <td>877283</td>\n",
       "      <td>3565</td>\n",
       "      <td>877283</td>\n",
       "      <td>3565</td>\n",
       "      <td>0</td>\n",
       "      <td>0</td>\n",
       "      <td>0.41</td>\n",
       "    </tr>\n",
       "    <tr>\n",
       "      <th>4</th>\n",
       "      <td>Tamil Nadu</td>\n",
       "      <td>833585</td>\n",
       "      <td>12307</td>\n",
       "      <td>833585</td>\n",
       "      <td>12307</td>\n",
       "      <td>0</td>\n",
       "      <td>0</td>\n",
       "      <td>1.48</td>\n",
       "    </tr>\n",
       "  </tbody>\n",
       "</table>\n",
       "</div>"
      ],
      "text/plain": [
       "           states    Cases  Deaths   PCases  PDeaths  Cases (+)  Deaths (+)  \\\n",
       "0     Maharashtra  2003657   50684  2003657    50684          0           0   \n",
       "1       Karnataka   934576   12190   934576    12190          0           0   \n",
       "2  Andhra Pradesh   886694    7146   886694     7146          0           0   \n",
       "3          Kerala   877283    3565   877283     3565          0           0   \n",
       "4      Tamil Nadu   833585   12307   833585    12307          0           0   \n",
       "\n",
       "   Fatality Rate  \n",
       "0           2.53  \n",
       "1           1.30  \n",
       "2           0.81  \n",
       "3           0.41  \n",
       "4           1.48  "
      ]
     },
     "execution_count": 13,
     "metadata": {},
     "output_type": "execute_result"
    }
   ],
   "source": [
    "#hide\n",
    "df_table.head()"
   ]
  },
  {
   "cell_type": "code",
   "execution_count": 14,
   "id": "false-peter",
   "metadata": {
    "execution": {
     "iopub.execute_input": "2021-01-23T12:04:32.446800Z",
     "iopub.status.busy": "2021-01-23T12:04:32.446225Z",
     "iopub.status.idle": "2021-01-23T12:04:32.462811Z",
     "shell.execute_reply": "2021-01-23T12:04:32.463333Z"
    },
    "papermill": {
     "duration": 0.041835,
     "end_time": "2021-01-23T12:04:32.463493",
     "exception": false,
     "start_time": "2021-01-23T12:04:32.421658",
     "status": "completed"
    },
    "tags": []
   },
   "outputs": [
    {
     "data": {
      "text/plain": [
       "{'updated': '2021-01-23',\n",
       " 'since': '2021-01-22',\n",
       " 'Cases': 10640546,\n",
       " 'PCases': 10640546,\n",
       " 'Deaths': 153221,\n",
       " 'PDeaths': 153221,\n",
       " 'Cases (+)': 0,\n",
       " 'Deaths (+)': 0}"
      ]
     },
     "execution_count": 14,
     "metadata": {},
     "output_type": "execute_result"
    }
   ],
   "source": [
    "#hide\n",
    "summary = {'updated':dates[-1], 'since':dates[-2]}\n",
    "list_names = ['Cases', 'PCases', 'Deaths', 'PDeaths', 'Cases (+)', 'Deaths (+)']\n",
    "for name in list_names:\n",
    "    summary[name] = df_table.sum()[name]\n",
    "summary"
   ]
  },
  {
   "cell_type": "code",
   "execution_count": 15,
   "id": "packed-viewer",
   "metadata": {
    "execution": {
     "iopub.execute_input": "2021-01-23T12:04:32.506283Z",
     "iopub.status.busy": "2021-01-23T12:04:32.505708Z",
     "iopub.status.idle": "2021-01-23T12:04:32.508445Z",
     "shell.execute_reply": "2021-01-23T12:04:32.509001Z"
    },
    "papermill": {
     "duration": 0.026678,
     "end_time": "2021-01-23T12:04:32.509133",
     "exception": false,
     "start_time": "2021-01-23T12:04:32.482455",
     "status": "completed"
    },
    "tags": []
   },
   "outputs": [],
   "source": [
    "#hide\n",
    "overview = '''\n",
    "<!-- #######  HTML!! #########-->\n",
    "<h1 style=\"color: #5e9ca0; text-align: center;\">India</h1>\n",
    "<p style=\"text-align: center;\">Last update: <strong>{update}</strong></p>\n",
    "<p style=\"text-align: center;\">Confirmed cases:</p>\n",
    "<p style=\"text-align: center;font-size:24px;\">{cases} (<span style=\"color: #ff0000;\">+{new}</span>)</p>\n",
    "<p style=\"text-align: center;\">Confirmed deaths:</p>\n",
    "<p style=\"text-align: center;font-size:24px;\">{deaths} (<span style=\"color: #ff0000;\">+{dnew}</span>)</p>\n",
    "'''"
   ]
  },
  {
   "cell_type": "code",
   "execution_count": 16,
   "id": "phantom-lover",
   "metadata": {
    "execution": {
     "iopub.execute_input": "2021-01-23T12:04:32.552069Z",
     "iopub.status.busy": "2021-01-23T12:04:32.551495Z",
     "iopub.status.idle": "2021-01-23T12:04:32.554447Z",
     "shell.execute_reply": "2021-01-23T12:04:32.553884Z"
    },
    "papermill": {
     "duration": 0.027436,
     "end_time": "2021-01-23T12:04:32.554563",
     "exception": false,
     "start_time": "2021-01-23T12:04:32.527127",
     "status": "completed"
    },
    "tags": []
   },
   "outputs": [
    {
     "data": {
      "text/html": [
       "\n",
       "<!-- #######  HTML!! #########-->\n",
       "<h1 style=\"color: #5e9ca0; text-align: center;\">India</h1>\n",
       "<p style=\"text-align: center;\">Last update: <strong>2021-01-23</strong></p>\n",
       "<p style=\"text-align: center;\">Confirmed cases:</p>\n",
       "<p style=\"text-align: center;font-size:24px;\">10640546 (<span style=\"color: #ff0000;\">+0</span>)</p>\n",
       "<p style=\"text-align: center;\">Confirmed deaths:</p>\n",
       "<p style=\"text-align: center;font-size:24px;\">153221 (<span style=\"color: #ff0000;\">+0</span>)</p>\n"
      ],
      "text/plain": [
       "<IPython.core.display.HTML object>"
      ]
     },
     "metadata": {},
     "output_type": "display_data"
    }
   ],
   "source": [
    "#hide_input\n",
    "update = summary['updated']\n",
    "cases = summary['Cases']\n",
    "new = summary['Cases (+)']\n",
    "deaths = summary['Deaths']\n",
    "dnew = summary['Deaths (+)']\n",
    "\n",
    "html = HTML(overview.format(update=update, cases=cases,new=new,deaths=deaths,dnew=dnew))\n",
    "\n",
    "display(html)"
   ]
  },
  {
   "cell_type": "code",
   "execution_count": 17,
   "id": "sealed-reset",
   "metadata": {
    "execution": {
     "iopub.execute_input": "2021-01-23T12:04:32.600358Z",
     "iopub.status.busy": "2021-01-23T12:04:32.599759Z",
     "iopub.status.idle": "2021-01-23T12:04:32.606467Z",
     "shell.execute_reply": "2021-01-23T12:04:32.605993Z"
    },
    "papermill": {
     "duration": 0.033364,
     "end_time": "2021-01-23T12:04:32.606587",
     "exception": false,
     "start_time": "2021-01-23T12:04:32.573223",
     "status": "completed"
    },
    "tags": []
   },
   "outputs": [],
   "source": [
    "#hide\n",
    "dt_cols = list(dft_cases.columns[1:])\n",
    "dft_ct_new_cases = dft_cases.groupby('state')[dt_cols].sum().diff(axis=1).fillna(0).astype(int)\n",
    "dft_ct_new_cases.sort_values(by = dates[-1], ascending = False,inplace = True)"
   ]
  },
  {
   "cell_type": "code",
   "execution_count": 18,
   "id": "designed-constant",
   "metadata": {
    "execution": {
     "iopub.execute_input": "2021-01-23T12:04:32.662722Z",
     "iopub.status.busy": "2021-01-23T12:04:32.662127Z",
     "iopub.status.idle": "2021-01-23T12:04:32.664730Z",
     "shell.execute_reply": "2021-01-23T12:04:32.665208Z"
    },
    "papermill": {
     "duration": 0.04016,
     "end_time": "2021-01-23T12:04:32.665347",
     "exception": false,
     "start_time": "2021-01-23T12:04:32.625187",
     "status": "completed"
    },
    "tags": []
   },
   "outputs": [
    {
     "data": {
      "text/html": [
       "<div>\n",
       "<style scoped>\n",
       "    .dataframe tbody tr th:only-of-type {\n",
       "        vertical-align: middle;\n",
       "    }\n",
       "\n",
       "    .dataframe tbody tr th {\n",
       "        vertical-align: top;\n",
       "    }\n",
       "\n",
       "    .dataframe thead th {\n",
       "        text-align: right;\n",
       "    }\n",
       "</style>\n",
       "<table border=\"1\" class=\"dataframe\">\n",
       "  <thead>\n",
       "    <tr style=\"text-align: right;\">\n",
       "      <th>states</th>\n",
       "      <th>2020-07-01</th>\n",
       "      <th>2020-07-02</th>\n",
       "      <th>2020-07-03</th>\n",
       "      <th>2020-07-04</th>\n",
       "      <th>2020-07-05</th>\n",
       "      <th>2020-07-06</th>\n",
       "      <th>2020-07-07</th>\n",
       "      <th>2020-07-08</th>\n",
       "      <th>2020-07-09</th>\n",
       "      <th>2020-07-10</th>\n",
       "      <th>...</th>\n",
       "      <th>2021-01-14</th>\n",
       "      <th>2021-01-15</th>\n",
       "      <th>2021-01-16</th>\n",
       "      <th>2021-01-17</th>\n",
       "      <th>2021-01-18</th>\n",
       "      <th>2021-01-19</th>\n",
       "      <th>2021-01-20</th>\n",
       "      <th>2021-01-21</th>\n",
       "      <th>2021-01-22</th>\n",
       "      <th>2021-01-23</th>\n",
       "    </tr>\n",
       "    <tr>\n",
       "      <th>state</th>\n",
       "      <th></th>\n",
       "      <th></th>\n",
       "      <th></th>\n",
       "      <th></th>\n",
       "      <th></th>\n",
       "      <th></th>\n",
       "      <th></th>\n",
       "      <th></th>\n",
       "      <th></th>\n",
       "      <th></th>\n",
       "      <th></th>\n",
       "      <th></th>\n",
       "      <th></th>\n",
       "      <th></th>\n",
       "      <th></th>\n",
       "      <th></th>\n",
       "      <th></th>\n",
       "      <th></th>\n",
       "      <th></th>\n",
       "      <th></th>\n",
       "      <th></th>\n",
       "    </tr>\n",
       "  </thead>\n",
       "  <tbody>\n",
       "    <tr>\n",
       "      <th>Andaman and Nicobar Islands</th>\n",
       "      <td>0</td>\n",
       "      <td>9</td>\n",
       "      <td>7</td>\n",
       "      <td>3</td>\n",
       "      <td>6</td>\n",
       "      <td>16</td>\n",
       "      <td>6</td>\n",
       "      <td>2</td>\n",
       "      <td>7</td>\n",
       "      <td>0</td>\n",
       "      <td>...</td>\n",
       "      <td>7</td>\n",
       "      <td>3</td>\n",
       "      <td>3</td>\n",
       "      <td>1</td>\n",
       "      <td>5</td>\n",
       "      <td>1</td>\n",
       "      <td>2</td>\n",
       "      <td>0</td>\n",
       "      <td>1</td>\n",
       "      <td>0</td>\n",
       "    </tr>\n",
       "    <tr>\n",
       "      <th>Andhra Pradesh</th>\n",
       "      <td>0</td>\n",
       "      <td>845</td>\n",
       "      <td>837</td>\n",
       "      <td>765</td>\n",
       "      <td>998</td>\n",
       "      <td>1322</td>\n",
       "      <td>1178</td>\n",
       "      <td>1062</td>\n",
       "      <td>1555</td>\n",
       "      <td>1608</td>\n",
       "      <td>...</td>\n",
       "      <td>179</td>\n",
       "      <td>94</td>\n",
       "      <td>114</td>\n",
       "      <td>161</td>\n",
       "      <td>81</td>\n",
       "      <td>179</td>\n",
       "      <td>173</td>\n",
       "      <td>139</td>\n",
       "      <td>137</td>\n",
       "      <td>0</td>\n",
       "    </tr>\n",
       "    <tr>\n",
       "      <th>Maharashtra</th>\n",
       "      <td>0</td>\n",
       "      <td>6328</td>\n",
       "      <td>6364</td>\n",
       "      <td>7074</td>\n",
       "      <td>6555</td>\n",
       "      <td>5368</td>\n",
       "      <td>5134</td>\n",
       "      <td>6603</td>\n",
       "      <td>6875</td>\n",
       "      <td>7862</td>\n",
       "      <td>...</td>\n",
       "      <td>3579</td>\n",
       "      <td>3145</td>\n",
       "      <td>2910</td>\n",
       "      <td>3081</td>\n",
       "      <td>1924</td>\n",
       "      <td>2294</td>\n",
       "      <td>3015</td>\n",
       "      <td>2886</td>\n",
       "      <td>2779</td>\n",
       "      <td>0</td>\n",
       "    </tr>\n",
       "    <tr>\n",
       "      <th>Manipur</th>\n",
       "      <td>0</td>\n",
       "      <td>19</td>\n",
       "      <td>37</td>\n",
       "      <td>9</td>\n",
       "      <td>41</td>\n",
       "      <td>24</td>\n",
       "      <td>40</td>\n",
       "      <td>5</td>\n",
       "      <td>15</td>\n",
       "      <td>132</td>\n",
       "      <td>...</td>\n",
       "      <td>18</td>\n",
       "      <td>24</td>\n",
       "      <td>24</td>\n",
       "      <td>21</td>\n",
       "      <td>11</td>\n",
       "      <td>33</td>\n",
       "      <td>19</td>\n",
       "      <td>19</td>\n",
       "      <td>15</td>\n",
       "      <td>0</td>\n",
       "    </tr>\n",
       "    <tr>\n",
       "      <th>Meghalaya</th>\n",
       "      <td>0</td>\n",
       "      <td>3</td>\n",
       "      <td>4</td>\n",
       "      <td>8</td>\n",
       "      <td>2</td>\n",
       "      <td>16</td>\n",
       "      <td>6</td>\n",
       "      <td>6</td>\n",
       "      <td>13</td>\n",
       "      <td>73</td>\n",
       "      <td>...</td>\n",
       "      <td>18</td>\n",
       "      <td>4</td>\n",
       "      <td>2</td>\n",
       "      <td>12</td>\n",
       "      <td>2</td>\n",
       "      <td>3</td>\n",
       "      <td>7</td>\n",
       "      <td>4</td>\n",
       "      <td>2</td>\n",
       "      <td>0</td>\n",
       "    </tr>\n",
       "  </tbody>\n",
       "</table>\n",
       "<p>5 rows × 207 columns</p>\n",
       "</div>"
      ],
      "text/plain": [
       "states                       2020-07-01  2020-07-02  2020-07-03  2020-07-04  \\\n",
       "state                                                                         \n",
       "Andaman and Nicobar Islands           0           9           7           3   \n",
       "Andhra Pradesh                        0         845         837         765   \n",
       "Maharashtra                           0        6328        6364        7074   \n",
       "Manipur                               0          19          37           9   \n",
       "Meghalaya                             0           3           4           8   \n",
       "\n",
       "states                       2020-07-05  2020-07-06  2020-07-07  2020-07-08  \\\n",
       "state                                                                         \n",
       "Andaman and Nicobar Islands           6          16           6           2   \n",
       "Andhra Pradesh                      998        1322        1178        1062   \n",
       "Maharashtra                        6555        5368        5134        6603   \n",
       "Manipur                              41          24          40           5   \n",
       "Meghalaya                             2          16           6           6   \n",
       "\n",
       "states                       2020-07-09  2020-07-10  ...  2021-01-14  \\\n",
       "state                                                ...               \n",
       "Andaman and Nicobar Islands           7           0  ...           7   \n",
       "Andhra Pradesh                     1555        1608  ...         179   \n",
       "Maharashtra                        6875        7862  ...        3579   \n",
       "Manipur                              15         132  ...          18   \n",
       "Meghalaya                            13          73  ...          18   \n",
       "\n",
       "states                       2021-01-15  2021-01-16  2021-01-17  2021-01-18  \\\n",
       "state                                                                         \n",
       "Andaman and Nicobar Islands           3           3           1           5   \n",
       "Andhra Pradesh                       94         114         161          81   \n",
       "Maharashtra                        3145        2910        3081        1924   \n",
       "Manipur                              24          24          21          11   \n",
       "Meghalaya                             4           2          12           2   \n",
       "\n",
       "states                       2021-01-19  2021-01-20  2021-01-21  2021-01-22  \\\n",
       "state                                                                         \n",
       "Andaman and Nicobar Islands           1           2           0           1   \n",
       "Andhra Pradesh                      179         173         139         137   \n",
       "Maharashtra                        2294        3015        2886        2779   \n",
       "Manipur                              33          19          19          15   \n",
       "Meghalaya                             3           7           4           2   \n",
       "\n",
       "states                       2021-01-23  \n",
       "state                                    \n",
       "Andaman and Nicobar Islands           0  \n",
       "Andhra Pradesh                        0  \n",
       "Maharashtra                           0  \n",
       "Manipur                               0  \n",
       "Meghalaya                             0  \n",
       "\n",
       "[5 rows x 207 columns]"
      ]
     },
     "execution_count": 18,
     "metadata": {},
     "output_type": "execute_result"
    }
   ],
   "source": [
    "#hide\n",
    "dft_ct_new_cases.head()"
   ]
  },
  {
   "cell_type": "code",
   "execution_count": 19,
   "id": "responsible-nightlife",
   "metadata": {
    "execution": {
     "iopub.execute_input": "2021-01-23T12:04:32.707093Z",
     "iopub.status.busy": "2021-01-23T12:04:32.706477Z",
     "iopub.status.idle": "2021-01-23T12:04:39.662221Z",
     "shell.execute_reply": "2021-01-23T12:04:39.661740Z"
    },
    "papermill": {
     "duration": 6.977849,
     "end_time": "2021-01-23T12:04:39.662356",
     "exception": false,
     "start_time": "2021-01-23T12:04:32.684507",
     "status": "completed"
    },
    "tags": []
   },
   "outputs": [
    {
     "data": {
      "image/png": "[encoded data removed]",
      "text/plain": [
       "<Figure size 1296x2016 with 11 Axes>"
      ]
     },
     "metadata": {
      "needs_background": "light"
     },
     "output_type": "display_data"
    }
   ],
   "source": [
    "#hide_input\n",
    "df = dft_ct_new_cases.copy()\n",
    "df.loc['Total'] = df.sum()\n",
    "n = 5\n",
    "ax = []\n",
    "fig = plt.figure(figsize = (18,28))\n",
    "gs = fig.add_gridspec(n+2, 5)\n",
    "# gs = fig.add_gridspec(2, 3)\n",
    "ax1 = fig.add_subplot(gs[0, :])\n",
    "ef = df.loc['Total'].rename_axis('date').reset_index()\n",
    "ef['date'] = ef['date'].astype('datetime64[ns]')\n",
    "ax1.bar(ef.date,ef.Total,alpha=0.3,color='#007acc')\n",
    "ax1.plot(ef.date,ef.Total , marker=\"o\", color='#007acc')\n",
    "ax1.xaxis.set_major_locator(mdates.WeekdayLocator())\n",
    "ax1.xaxis.set_major_formatter(mdates.DateFormatter('%b %d'))\n",
    "ax1.text(0.02, 0.5,'India daily case count', transform = ax1.transAxes, fontsize=25);\n",
    "ax1.spines['right'].set_visible(False)\n",
    "ax1.spines['top'].set_visible(False)\n",
    "\n",
    "ax2 = fig.add_subplot(gs[1,0])\n",
    "ef = df.loc['Maharashtra'].rename_axis('date').reset_index()\n",
    "ef['date'] = ef['date'].astype('datetime64[ns]')\n",
    "\n",
    "ax2.bar(ef.date, ef.Maharashtra,color = '#007acc',alpha=0.5)\n",
    "ax2.xaxis.set_major_locator(mdates.WeekdayLocator())\n",
    "ax2.xaxis.set_major_formatter(mdates.DateFormatter('%b %d'))\n",
    "ax2.set_xticks(ax2.get_xticks()[::3])\n",
    "maxyval = ef.Maharashtra.max()\n",
    "ax2.set_ylim([0,maxyval])\n",
    "ax2.text(0.05, 0.9,'Maharashtra', transform = ax2.transAxes, fontsize=20);\n",
    "ax2.spines['right'].set_visible(False)\n",
    "ax2.spines['top'].set_visible(False)\n",
    "\n",
    "\n",
    "ax3 = fig.add_subplot(gs[1,1])\n",
    "ef = df.loc['Tamil Nadu'].rename_axis('date').reset_index()\n",
    "ef['date'] = ef['date'].astype('datetime64[ns]')\n",
    "ax3.bar(ef.date, ef['Tamil Nadu'],color = '#007acc',alpha=0.5,)\n",
    "ax3.xaxis.set_major_locator(mdates.WeekdayLocator())\n",
    "ax3.xaxis.set_major_formatter(mdates.DateFormatter('%b %d'))\n",
    "ax3.set_xticks(ax3.get_xticks()[::3])\n",
    "ax3.text(0.05, 0.9,'Tamil Nadu', transform = ax3.transAxes, fontsize=20);\n",
    "ax3.spines['right'].set_visible(False)\n",
    "ax3.spines['top'].set_visible(False)\n",
    "\n",
    "ax5 = fig.add_subplot(gs[1,3])\n",
    "ef = df.loc['Telangana'].rename_axis('date').reset_index()\n",
    "ef['date'] = ef['date'].astype('datetime64[ns]')\n",
    "ax5.bar(ef.date, ef['Telangana'],color = '#007acc',alpha=0.5,)\n",
    "ax5.xaxis.set_major_locator(mdates.WeekdayLocator())\n",
    "ax5.xaxis.set_major_formatter(mdates.DateFormatter('%b %d'))\n",
    "ax5.set_xticks(ax5.get_xticks()[::3])\n",
    "ax5.text(0.05, 0.9,'Telangana', transform = ax5.transAxes, fontsize=20);\n",
    "ax5.spines['right'].set_visible(False)\n",
    "ax5.spines['top'].set_visible(False)\n",
    "\n",
    "ax6 = fig.add_subplot(gs[1,4])\n",
    "ef = df.loc['Andhra Pradesh'].rename_axis('date').reset_index()\n",
    "ef['date'] = ef['date'].astype('datetime64[ns]')\n",
    "ax6.bar(ef.date, ef['Andhra Pradesh'],color = '#007acc',alpha=0.5,)\n",
    "ax6.xaxis.set_major_locator(mdates.WeekdayLocator())\n",
    "ax6.xaxis.set_major_formatter(mdates.DateFormatter('%b %d'))\n",
    "ax6.set_xticks(ax6.get_xticks()[::3])\n",
    "ax6.text(0.05, 1,'Andhra Pradesh', transform = ax6.transAxes, fontsize=20);\n",
    "ax6.spines['right'].set_visible(False)\n",
    "ax6.spines['top'].set_visible(False)\n",
    "\n",
    "ax4 = fig.add_subplot(gs[1,2])\n",
    "ef = df.loc['Delhi'].rename_axis('date').reset_index()\n",
    "ef['date'] = ef['date'].astype('datetime64[ns]')\n",
    "ax4.bar(ef.date, ef.Delhi,color = '#007acc',alpha=0.5)\n",
    "ax4.set_xticks([])\n",
    "ax4.xaxis.set_major_locator(mdates.WeekdayLocator())\n",
    "ax4.xaxis.set_major_formatter(mdates.DateFormatter('%b %d'))\n",
    "ax4.set_xticks(ax4.get_xticks()[::3])\n",
    "ax4.spines['right'].set_visible(False)\n",
    "ax4.spines['top'].set_visible(False)\n",
    "\n",
    "ax4.text(0.05, 1,'Delhi', transform = ax4.transAxes, fontsize=20)\n",
    "\n",
    "for i in range(n):\n",
    "    \n",
    "    ax.append(fig.add_subplot(gs[i+2,:]))\n",
    "    ef = df.iloc[i+3].rename_axis('date').reset_index()\n",
    "    ef['date'] = ef['date'].astype('datetime64[ns]')\n",
    "    ax[i].bar(ef.date,ef.iloc[:,-1],color = '#007acc',alpha=0.3)\n",
    "    ax[i].plot(ef.date,ef.iloc[:,-1],marker='o',color='#007acc')\n",
    "    ax[i].text(0.02,0.5,f'{ef.columns.values[-1]}',transform = ax[i].transAxes, fontsize = 20);\n",
    "    ax[i].xaxis.set_major_locator(mdates.WeekdayLocator())\n",
    "    ax[i].xaxis.set_major_formatter(mdates.DateFormatter('%b %d'))\n",
    "    ax[i].set_ylim([0,7000])\n",
    "    ax[i].spines['right'].set_visible(False)\n",
    "    ax[i].spines['top'].set_visible(False)\n",
    "plt.tight_layout()\n"
   ]
  },
  {
   "cell_type": "code",
   "execution_count": 20,
   "id": "dress-forge",
   "metadata": {
    "execution": {
     "iopub.execute_input": "2021-01-23T12:04:39.771453Z",
     "iopub.status.busy": "2021-01-23T12:04:39.768972Z",
     "iopub.status.idle": "2021-01-23T12:04:39.774096Z",
     "shell.execute_reply": "2021-01-23T12:04:39.773602Z"
    },
    "papermill": {
     "duration": 0.061022,
     "end_time": "2021-01-23T12:04:39.774221",
     "exception": false,
     "start_time": "2021-01-23T12:04:39.713199",
     "status": "completed"
    },
    "tags": []
   },
   "outputs": [
    {
     "name": "stdout",
     "output_type": "stream",
     "text": [
      "                                   states    Cases  Deaths   PCases  PDeaths  Cases (+)  Deaths (+)  Fatality Rate\n",
      "                              Maharashtra  2003657   50684  2003657    50684          0           0           2.53\n",
      "                                Karnataka   934576   12190   934576    12190          0           0           1.30\n",
      "                           Andhra Pradesh   886694    7146   886694     7146          0           0           0.81\n",
      "                                   Kerala   877283    3565   877283     3565          0           0           0.41\n",
      "                               Tamil Nadu   833585   12307   833585    12307          0           0           1.48\n",
      "                                    Delhi   633542   10789   633542    10789          0           0           1.70\n",
      "                            Uttar Pradesh   598126    8605   598126     8605          0           0           1.44\n",
      "                              West Bengal   567304   10097   567304    10097          0           0           1.78\n",
      "                                   Odisha   334020    1956   334020     1956          0           0           0.59\n",
      "                                Rajasthan   316282    2756   316282     2756          0           0           0.87\n",
      "                             Chhattisgarh   295949    3601   295949     3601          0           0           1.22\n",
      "                                Telangana   292835    1586   292835     1586          0           0           0.54\n",
      "                                  Haryana   266939    3005   266939     3005          0           0           1.13\n",
      "                                    Bihar   259617    1472   259617     1472          0           0           0.57\n",
      "                                  Gujarat   258264    4374   258264     4374          0           0           1.69\n",
      "                           Madhya Pradesh   253114    3780   253114     3780          0           0           1.49\n",
      "                                    Assam   216957    1077   216957     1077          0           0           0.50\n",
      "                                   Punjab   171522    5543   171522     5543          0           0           3.23\n",
      "                        Jammu and Kashmir   123852    1928   123852     1928          0           0           1.56\n",
      "                                Jharkhand   118154    1060   118154     1060          0           0           0.90\n",
      "                              Uttarakhand    95464    1629    95464     1629          0           0           1.71\n",
      "                         Himachal Pradesh    57162     958    57162      958          0           0           1.68\n",
      "                                      Goa    52782     758    52782      758          0           0           1.44\n",
      "                               Puducherry    38794     643    38794      643          0           0           1.66\n",
      "                                  Tripura    33339     388    33339      388          0           0           1.16\n",
      "                                  Manipur    28953     369    28953      369          0           0           1.27\n",
      "                               Chandigarh    20664     332    20664      332          0           0           1.61\n",
      "                        Arunachal Pradesh    16817      56    16817       56          0           0           0.33\n",
      "                                Meghalaya    13723     146    13723      146          0           0           1.06\n",
      "                                 Nagaland    12072      88    12072       88          0           0           0.73\n",
      "                                   Ladakh     9673     129     9673      129          0           0           1.33\n",
      "                                   Sikkim     6063     131     6063      131          0           0           2.16\n",
      "              Andaman and Nicobar Islands     4992      62     4992       62          0           0           1.24\n",
      "                                  Mizoram     4349       9     4349        9          0           0           0.21\n",
      " Dadra and Nagar Haveli and Daman and Diu     3377       2     3377        2          0           0           0.06\n",
      "                              Lakshadweep       50       0       50        0          0           0           0.00\n"
     ]
    }
   ],
   "source": [
    "#hide_input\n",
    "print(df_table.to_string(index=False))"
   ]
  },
  {
   "cell_type": "code",
   "execution_count": null,
   "id": "quantitative-legend",
   "metadata": {
    "papermill": {
     "duration": 0.048398,
     "end_time": "2021-01-23T12:04:39.855044",
     "exception": false,
     "start_time": "2021-01-23T12:04:39.806646",
     "status": "completed"
    },
    "tags": []
   },
   "outputs": [],
   "source": []
  },
  {
   "cell_type": "code",
   "execution_count": null,
   "id": "distant-acoustic",
   "metadata": {
    "papermill": {
     "duration": 0.045382,
     "end_time": "2021-01-23T12:04:39.963833",
     "exception": false,
     "start_time": "2021-01-23T12:04:39.918451",
     "status": "completed"
    },
    "tags": []
   },
   "outputs": [],
   "source": []
  }
 ],
 "metadata": {
  "kernelspec": {
   "display_name": "Python 3",
   "language": "python",
   "name": "python3"
  },
  "language_info": {
   "codemirror_mode": {
    "name": "ipython",
    "version": 3
   },
   "file_extension": ".py",
   "mimetype": "text/x-python",
   "name": "python",
   "nbconvert_exporter": "python",
   "pygments_lexer": "ipython3",
   "version": "3.6.12"
  },
  "papermill": {
   "duration": 16.331707,
   "end_time": "2021-01-23T12:04:40.498733",
   "environment_variables": {},
   "exception": null,
   "input_path": "latest.ipynb",
   "output_path": "latest.ipynb",
   "parameters": {},
   "start_time": "2021-01-23T12:04:24.167026",
   "version": "2.1.2"
  }
 },
 "nbformat": 4,
 "nbformat_minor": 5
}