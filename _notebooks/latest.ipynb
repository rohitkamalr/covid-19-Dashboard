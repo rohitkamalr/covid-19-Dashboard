{
 "cells": [
  {
   "cell_type": "markdown",
   "metadata": {
    "papermill": {
     "duration": 0.020863,
     "end_time": "2020-11-11T12:22:26.944408",
     "exception": false,
     "start_time": "2020-11-11T12:22:26.923545",
     "status": "completed"
    },
    "tags": []
   },
   "source": [
    "# Latest COVID-19 India Matplotlib Overview"
   ]
  },
  {
   "cell_type": "code",
   "execution_count": 1,
   "metadata": {
    "execution": {
     "iopub.execute_input": "2020-11-11T12:22:26.978695Z",
     "iopub.status.busy": "2020-11-11T12:22:26.978128Z",
     "iopub.status.idle": "2020-11-11T12:22:27.500527Z",
     "shell.execute_reply": "2020-11-11T12:22:27.500917Z"
    },
    "papermill": {
     "duration": 0.543081,
     "end_time": "2020-11-11T12:22:27.501069",
     "exception": false,
     "start_time": "2020-11-11T12:22:26.957988",
     "status": "completed"
    },
    "tags": []
   },
   "outputs": [
    {
     "name": "stderr",
     "output_type": "stream",
     "text": [
      "/opt/hostedtoolcache/Python/3.6.12/x64/lib/python3.6/site-packages/requests/__init__.py:91: RequestsDependencyWarning: urllib3 (1.26.0) or chardet (3.0.4) doesn't match a supported version!\n",
      "  RequestsDependencyWarning)\n"
     ]
    }
   ],
   "source": [
    "#hide\n",
    "import pandas as pd\n",
    "import numpy as np\n",
    "import requests\n",
    "import json\n",
    "import matplotlib.pyplot as plt\n",
    "import matplotlib.dates as mdates\n",
    "import matplotlib as mpl\n",
    "from IPython.core.display import display,HTML\n",
    "%matplotlib inline\n",
    "from datetime import date"
   ]
  },
  {
   "cell_type": "code",
   "execution_count": 2,
   "metadata": {
    "execution": {
     "iopub.execute_input": "2020-11-11T12:22:27.534239Z",
     "iopub.status.busy": "2020-11-11T12:22:27.533676Z",
     "iopub.status.idle": "2020-11-11T12:22:27.649073Z",
     "shell.execute_reply": "2020-11-11T12:22:27.648094Z"
    },
    "papermill": {
     "duration": 0.135335,
     "end_time": "2020-11-11T12:22:27.649292",
     "exception": false,
     "start_time": "2020-11-11T12:22:27.513957",
     "status": "completed"
    },
    "tags": []
   },
   "outputs": [],
   "source": [
    "#hide\n",
    "df  = pd.read_csv('https://api.covid19india.org/csv/latest/states.csv')\n",
    "df = df[['Date','State','Confirmed','Deceased']]\n",
    "df = df.rename(columns={'Confirmed':'Cases', \"Deceased\":'Deaths'})\n",
    "df_cases = df[[\"Date\",'State','Cases']]\n",
    "df_deaths = df[['Date','State','Deaths']]\n",
    "df_cases1 = df_cases.groupby('Date')\n",
    "df_deaths1= df_deaths.groupby('Date')"
   ]
  },
  {
   "cell_type": "code",
   "execution_count": 3,
   "metadata": {
    "execution": {
     "iopub.execute_input": "2020-11-11T12:22:27.698806Z",
     "iopub.status.busy": "2020-11-11T12:22:27.689831Z",
     "iopub.status.idle": "2020-11-11T12:22:27.704273Z",
     "shell.execute_reply": "2020-11-11T12:22:27.703808Z"
    },
    "papermill": {
     "duration": 0.038068,
     "end_time": "2020-11-11T12:22:27.704394",
     "exception": false,
     "start_time": "2020-11-11T12:22:27.666326",
     "status": "completed"
    },
    "tags": []
   },
   "outputs": [],
   "source": [
    "#hide\n",
    "df_snap = pd.read_csv('data/SnapshotCases-28-July.csv')\n",
    "arr_states = df_snap['states'].unique()\n",
    "arr_dates = df['Date'].unique()\n",
    "df_snap = df_snap.set_index('states')"
   ]
  },
  {
   "cell_type": "code",
   "execution_count": 4,
   "metadata": {
    "execution": {
     "iopub.execute_input": "2020-11-11T12:22:27.737069Z",
     "iopub.status.busy": "2020-11-11T12:22:27.736587Z",
     "iopub.status.idle": "2020-11-11T12:22:27.739340Z",
     "shell.execute_reply": "2020-11-11T12:22:27.738849Z"
    },
    "papermill": {
     "duration": 0.021435,
     "end_time": "2020-11-11T12:22:27.739458",
     "exception": false,
     "start_time": "2020-11-11T12:22:27.718023",
     "status": "completed"
    },
    "tags": []
   },
   "outputs": [
    {
     "data": {
      "text/plain": [
       "array(['Andaman and Nicobar Islands', 'Andhra Pradesh',\n",
       "       'Arunachal Pradesh', 'Assam', 'Bihar', 'Chandigarh',\n",
       "       'Dadra and Nagar Haveli and Daman and Diu', 'Delhi', 'Goa',\n",
       "       'Gujarat', 'Haryana', 'Himachal Pradesh', 'Jammu and Kashmir',\n",
       "       'Jharkhand', 'Karnataka', 'Kerala', 'Lakshadweep',\n",
       "       'Madhya Pradesh', 'Maharashtra', 'Manipur', 'Meghalaya', 'Mizoram',\n",
       "       'Nagaland', 'Odisha', 'Puducherry', 'Punjab', 'Rajasthan',\n",
       "       'Sikkim', 'Tamil Nadu', 'Telangana', 'Tripura', 'Uttar Pradesh',\n",
       "       'West Bengal', 'Chhattisgarh', 'Ladakh', 'Uttarakhand'],\n",
       "      dtype=object)"
      ]
     },
     "execution_count": 4,
     "metadata": {},
     "output_type": "execute_result"
    }
   ],
   "source": [
    "#hide\n",
    "arr_states[-9] = 'Puducherry'\n",
    "arr_states[-10] = 'Odisha'\n",
    "arr_states[6] = 'Dadra and Nagar Haveli and Daman and Diu'\n",
    "arr_states = np.append(arr_states,np.array(['Chhattisgarh','Ladakh','Uttarakhand']))\n",
    "arr_states"
   ]
  },
  {
   "cell_type": "code",
   "execution_count": 5,
   "metadata": {
    "execution": {
     "iopub.execute_input": "2020-11-11T12:22:27.779023Z",
     "iopub.status.busy": "2020-11-11T12:22:27.778467Z",
     "iopub.status.idle": "2020-11-11T12:22:27.785415Z",
     "shell.execute_reply": "2020-11-11T12:22:27.784918Z"
    },
    "papermill": {
     "duration": 0.032757,
     "end_time": "2020-11-11T12:22:27.785533",
     "exception": false,
     "start_time": "2020-11-11T12:22:27.752776",
     "status": "completed"
    },
    "tags": []
   },
   "outputs": [],
   "source": [
    "#hide\n",
    "dates = []\n",
    "for i in arr_dates:\n",
    "    if i>='2020-07-01':\n",
    "        dates.append(i)\n",
    "dict = {'states':dates}\n",
    "for i in arr_states:\n",
    "    dict[i] = [0]*len(dates)\n",
    "dft_cases = pd.DataFrame(dict)\n",
    "dft_deaths = pd.DataFrame(dict)\n"
   ]
  },
  {
   "cell_type": "code",
   "execution_count": 6,
   "metadata": {
    "execution": {
     "iopub.execute_input": "2020-11-11T12:22:27.817623Z",
     "iopub.status.busy": "2020-11-11T12:22:27.817038Z",
     "iopub.status.idle": "2020-11-11T12:22:29.532327Z",
     "shell.execute_reply": "2020-11-11T12:22:29.531281Z"
    },
    "papermill": {
     "duration": 1.733079,
     "end_time": "2020-11-11T12:22:29.532567",
     "exception": false,
     "start_time": "2020-11-11T12:22:27.799488",
     "status": "completed"
    },
    "tags": []
   },
   "outputs": [],
   "source": [
    "#hide\n",
    "for i in range(len(dates)):\n",
    "    df1_deaths = df_deaths1.get_group(dates[i])\n",
    "    for j in range(len(df1_deaths.index)):\n",
    "        if df1_deaths.iloc[j,1] in arr_states:\n",
    "            dft_deaths.loc[i,df1_deaths.iloc[j,1]] = df1_deaths.iloc[j,2]\n",
    "dft_deaths = dft_deaths.set_index('states')"
   ]
  },
  {
   "cell_type": "code",
   "execution_count": 7,
   "metadata": {
    "execution": {
     "iopub.execute_input": "2020-11-11T12:22:29.571242Z",
     "iopub.status.busy": "2020-11-11T12:22:29.570663Z",
     "iopub.status.idle": "2020-11-11T12:22:31.241900Z",
     "shell.execute_reply": "2020-11-11T12:22:31.242374Z"
    },
    "papermill": {
     "duration": 1.692965,
     "end_time": "2020-11-11T12:22:31.242538",
     "exception": false,
     "start_time": "2020-11-11T12:22:29.549573",
     "status": "completed"
    },
    "tags": []
   },
   "outputs": [],
   "source": [
    "#hide\n",
    "for i in range(len(dates)):\n",
    "    df1_cases = df_cases1.get_group(dates[i])\n",
    "    for j in range(len(df1_cases.index)):\n",
    "        if df1_cases.iloc[j,1] in arr_states:\n",
    "            dft_cases.loc[i,df1_cases.iloc[j,1]] = df1_cases.iloc[j,2]\n",
    "dft_cases = dft_cases.set_index('states')"
   ]
  },
  {
   "cell_type": "code",
   "execution_count": 8,
   "metadata": {
    "execution": {
     "iopub.execute_input": "2020-11-11T12:22:32.190000Z",
     "iopub.status.busy": "2020-11-11T12:22:32.188519Z",
     "iopub.status.idle": "2020-11-11T12:22:32.190624Z",
     "shell.execute_reply": "2020-11-11T12:22:32.191007Z"
    },
    "papermill": {
     "duration": 0.713728,
     "end_time": "2020-11-11T12:22:32.191130",
     "exception": false,
     "start_time": "2020-11-11T12:22:31.477402",
     "status": "completed"
    },
    "tags": []
   },
   "outputs": [],
   "source": [
    "#hide\n",
    "dft_cases = dft_cases.T\n",
    "dft_deaths = dft_deaths.T\n",
    "dt_today = dates[-1]\n",
    "dt_yday = dates[-2]"
   ]
  },
  {
   "cell_type": "code",
   "execution_count": 9,
   "metadata": {
    "execution": {
     "iopub.execute_input": "2020-11-11T12:22:32.250069Z",
     "iopub.status.busy": "2020-11-11T12:22:32.247220Z",
     "iopub.status.idle": "2020-11-11T12:22:32.254177Z",
     "shell.execute_reply": "2020-11-11T12:22:32.253195Z"
    },
    "papermill": {
     "duration": 0.030318,
     "end_time": "2020-11-11T12:22:32.254306",
     "exception": false,
     "start_time": "2020-11-11T12:22:32.223988",
     "status": "completed"
    },
    "tags": []
   },
   "outputs": [],
   "source": [
    "#hide\n",
    "dft_cases = dft_cases.reset_index()\n",
    "dft_deaths = dft_deaths.reset_index()\n",
    "dft_cases = dft_cases.rename(columns = {'index':'state'})\n",
    "dft_deaths = dft_deaths.rename(columns = {'index':'state'})"
   ]
  },
  {
   "cell_type": "code",
   "execution_count": 10,
   "metadata": {
    "execution": {
     "iopub.execute_input": "2020-11-11T12:22:32.348827Z",
     "iopub.status.busy": "2020-11-11T12:22:32.348205Z",
     "iopub.status.idle": "2020-11-11T12:22:32.350212Z",
     "shell.execute_reply": "2020-11-11T12:22:32.349807Z"
    },
    "papermill": {
     "duration": 0.078679,
     "end_time": "2020-11-11T12:22:32.350319",
     "exception": false,
     "start_time": "2020-11-11T12:22:32.271640",
     "status": "completed"
    },
    "tags": []
   },
   "outputs": [],
   "source": [
    "#hide\n",
    "dfc_cases = dft_cases.groupby('state')[dt_today].sum()\n",
    "dfc_deaths = dft_deaths.groupby('state')[dt_today].sum()\n",
    "dfp_cases = dft_cases.groupby('state')[dt_yday].sum()\n",
    "dfp_deaths = dft_deaths.groupby('state')[dt_yday].sum()"
   ]
  },
  {
   "cell_type": "code",
   "execution_count": 11,
   "metadata": {
    "execution": {
     "iopub.execute_input": "2020-11-11T12:22:32.435767Z",
     "iopub.status.busy": "2020-11-11T12:22:32.435213Z",
     "iopub.status.idle": "2020-11-11T12:22:32.449809Z",
     "shell.execute_reply": "2020-11-11T12:22:32.449309Z"
    },
    "papermill": {
     "duration": 0.069814,
     "end_time": "2020-11-11T12:22:32.449937",
     "exception": false,
     "start_time": "2020-11-11T12:22:32.380123",
     "status": "completed"
    },
    "tags": []
   },
   "outputs": [
    {
     "data": {
      "text/html": [
       "<div>\n",
       "<style scoped>\n",
       "    .dataframe tbody tr th:only-of-type {\n",
       "        vertical-align: middle;\n",
       "    }\n",
       "\n",
       "    .dataframe tbody tr th {\n",
       "        vertical-align: top;\n",
       "    }\n",
       "\n",
       "    .dataframe thead th {\n",
       "        text-align: right;\n",
       "    }\n",
       "</style>\n",
       "<table border=\"1\" class=\"dataframe\">\n",
       "  <thead>\n",
       "    <tr style=\"text-align: right;\">\n",
       "      <th></th>\n",
       "      <th>states</th>\n",
       "      <th>Cases</th>\n",
       "      <th>Deaths</th>\n",
       "      <th>PCases</th>\n",
       "      <th>PDeaths</th>\n",
       "    </tr>\n",
       "  </thead>\n",
       "  <tbody>\n",
       "    <tr>\n",
       "      <th>0</th>\n",
       "      <td>Maharashtra</td>\n",
       "      <td>1726926</td>\n",
       "      <td>45435</td>\n",
       "      <td>1726926</td>\n",
       "      <td>45435</td>\n",
       "    </tr>\n",
       "    <tr>\n",
       "      <th>1</th>\n",
       "      <td>Karnataka</td>\n",
       "      <td>851212</td>\n",
       "      <td>11430</td>\n",
       "      <td>851212</td>\n",
       "      <td>11430</td>\n",
       "    </tr>\n",
       "    <tr>\n",
       "      <th>2</th>\n",
       "      <td>Andhra Pradesh</td>\n",
       "      <td>846245</td>\n",
       "      <td>6814</td>\n",
       "      <td>846245</td>\n",
       "      <td>6814</td>\n",
       "    </tr>\n",
       "    <tr>\n",
       "      <th>3</th>\n",
       "      <td>Tamil Nadu</td>\n",
       "      <td>748225</td>\n",
       "      <td>11387</td>\n",
       "      <td>748225</td>\n",
       "      <td>11387</td>\n",
       "    </tr>\n",
       "    <tr>\n",
       "      <th>4</th>\n",
       "      <td>Uttar Pradesh</td>\n",
       "      <td>501311</td>\n",
       "      <td>7261</td>\n",
       "      <td>501311</td>\n",
       "      <td>7261</td>\n",
       "    </tr>\n",
       "  </tbody>\n",
       "</table>\n",
       "</div>"
      ],
      "text/plain": [
       "           states    Cases  Deaths   PCases  PDeaths\n",
       "0     Maharashtra  1726926   45435  1726926    45435\n",
       "1       Karnataka   851212   11430   851212    11430\n",
       "2  Andhra Pradesh   846245    6814   846245     6814\n",
       "3      Tamil Nadu   748225   11387   748225    11387\n",
       "4   Uttar Pradesh   501311    7261   501311     7261"
      ]
     },
     "execution_count": 11,
     "metadata": {},
     "output_type": "execute_result"
    }
   ],
   "source": [
    "#hide\n",
    "df_table = pd.DataFrame({'states': dfc_cases.index, 'Cases': dfc_cases.values, 'Deaths': dfc_deaths.values, 'PCases': dfp_cases.values, 'PDeaths': dfp_deaths.values}).set_index('states')\n",
    "df_table = df_table.sort_values(by = ['Cases','Deaths'], ascending = [False, False])\n",
    "df_table = df_table.reset_index()\n",
    "df_table.head()"
   ]
  },
  {
   "cell_type": "code",
   "execution_count": 12,
   "metadata": {
    "execution": {
     "iopub.execute_input": "2020-11-11T12:22:32.546432Z",
     "iopub.status.busy": "2020-11-11T12:22:32.545864Z",
     "iopub.status.idle": "2020-11-11T12:22:32.555879Z",
     "shell.execute_reply": "2020-11-11T12:22:32.556352Z"
    },
    "papermill": {
     "duration": 0.082042,
     "end_time": "2020-11-11T12:22:32.556495",
     "exception": false,
     "start_time": "2020-11-11T12:22:32.474453",
     "status": "completed"
    },
    "tags": []
   },
   "outputs": [],
   "source": [
    "#hide\n",
    "for c in 'Cases, Deaths'.split(', '):\n",
    "    df_table[f'{c} (+)'] = (df_table[c] - df_table[f'P{c}']).clip(0)\n",
    "df_table['Fatality Rate'] = (100* df_table['Deaths']/ df_table['Cases']).round(2)"
   ]
  },
  {
   "cell_type": "code",
   "execution_count": 13,
   "metadata": {
    "execution": {
     "iopub.execute_input": "2020-11-11T12:22:32.674891Z",
     "iopub.status.busy": "2020-11-11T12:22:32.674293Z",
     "iopub.status.idle": "2020-11-11T12:22:32.676926Z",
     "shell.execute_reply": "2020-11-11T12:22:32.677365Z"
    },
    "papermill": {
     "duration": 0.044723,
     "end_time": "2020-11-11T12:22:32.677517",
     "exception": false,
     "start_time": "2020-11-11T12:22:32.632794",
     "status": "completed"
    },
    "tags": []
   },
   "outputs": [
    {
     "data": {
      "text/html": [
       "<div>\n",
       "<style scoped>\n",
       "    .dataframe tbody tr th:only-of-type {\n",
       "        vertical-align: middle;\n",
       "    }\n",
       "\n",
       "    .dataframe tbody tr th {\n",
       "        vertical-align: top;\n",
       "    }\n",
       "\n",
       "    .dataframe thead th {\n",
       "        text-align: right;\n",
       "    }\n",
       "</style>\n",
       "<table border=\"1\" class=\"dataframe\">\n",
       "  <thead>\n",
       "    <tr style=\"text-align: right;\">\n",
       "      <th></th>\n",
       "      <th>states</th>\n",
       "      <th>Cases</th>\n",
       "      <th>Deaths</th>\n",
       "      <th>PCases</th>\n",
       "      <th>PDeaths</th>\n",
       "      <th>Cases (+)</th>\n",
       "      <th>Deaths (+)</th>\n",
       "      <th>Fatality Rate</th>\n",
       "    </tr>\n",
       "  </thead>\n",
       "  <tbody>\n",
       "    <tr>\n",
       "      <th>0</th>\n",
       "      <td>Maharashtra</td>\n",
       "      <td>1726926</td>\n",
       "      <td>45435</td>\n",
       "      <td>1726926</td>\n",
       "      <td>45435</td>\n",
       "      <td>0</td>\n",
       "      <td>0</td>\n",
       "      <td>2.63</td>\n",
       "    </tr>\n",
       "    <tr>\n",
       "      <th>1</th>\n",
       "      <td>Karnataka</td>\n",
       "      <td>851212</td>\n",
       "      <td>11430</td>\n",
       "      <td>851212</td>\n",
       "      <td>11430</td>\n",
       "      <td>0</td>\n",
       "      <td>0</td>\n",
       "      <td>1.34</td>\n",
       "    </tr>\n",
       "    <tr>\n",
       "      <th>2</th>\n",
       "      <td>Andhra Pradesh</td>\n",
       "      <td>846245</td>\n",
       "      <td>6814</td>\n",
       "      <td>846245</td>\n",
       "      <td>6814</td>\n",
       "      <td>0</td>\n",
       "      <td>0</td>\n",
       "      <td>0.81</td>\n",
       "    </tr>\n",
       "    <tr>\n",
       "      <th>3</th>\n",
       "      <td>Tamil Nadu</td>\n",
       "      <td>748225</td>\n",
       "      <td>11387</td>\n",
       "      <td>748225</td>\n",
       "      <td>11387</td>\n",
       "      <td>0</td>\n",
       "      <td>0</td>\n",
       "      <td>1.52</td>\n",
       "    </tr>\n",
       "    <tr>\n",
       "      <th>4</th>\n",
       "      <td>Uttar Pradesh</td>\n",
       "      <td>501311</td>\n",
       "      <td>7261</td>\n",
       "      <td>501311</td>\n",
       "      <td>7261</td>\n",
       "      <td>0</td>\n",
       "      <td>0</td>\n",
       "      <td>1.45</td>\n",
       "    </tr>\n",
       "  </tbody>\n",
       "</table>\n",
       "</div>"
      ],
      "text/plain": [
       "           states    Cases  Deaths   PCases  PDeaths  Cases (+)  Deaths (+)  \\\n",
       "0     Maharashtra  1726926   45435  1726926    45435          0           0   \n",
       "1       Karnataka   851212   11430   851212    11430          0           0   \n",
       "2  Andhra Pradesh   846245    6814   846245     6814          0           0   \n",
       "3      Tamil Nadu   748225   11387   748225    11387          0           0   \n",
       "4   Uttar Pradesh   501311    7261   501311     7261          0           0   \n",
       "\n",
       "   Fatality Rate  \n",
       "0           2.63  \n",
       "1           1.34  \n",
       "2           0.81  \n",
       "3           1.52  \n",
       "4           1.45  "
      ]
     },
     "execution_count": 13,
     "metadata": {},
     "output_type": "execute_result"
    }
   ],
   "source": [
    "#hide\n",
    "df_table.head()"
   ]
  },
  {
   "cell_type": "code",
   "execution_count": 14,
   "metadata": {
    "execution": {
     "iopub.execute_input": "2020-11-11T12:22:32.994026Z",
     "iopub.status.busy": "2020-11-11T12:22:32.981594Z",
     "iopub.status.idle": "2020-11-11T12:22:32.998651Z",
     "shell.execute_reply": "2020-11-11T12:22:32.998195Z"
    },
    "papermill": {
     "duration": 0.1182,
     "end_time": "2020-11-11T12:22:32.998767",
     "exception": false,
     "start_time": "2020-11-11T12:22:32.880567",
     "status": "completed"
    },
    "tags": []
   },
   "outputs": [
    {
     "data": {
      "text/plain": [
       "{'updated': '2020-11-11',\n",
       " 'since': '2020-11-10',\n",
       " 'Cases': 8636974,\n",
       " 'PCases': 8635754,\n",
       " 'Deaths': 127630,\n",
       " 'PDeaths': 127615,\n",
       " 'Cases (+)': 1220,\n",
       " 'Deaths (+)': 15}"
      ]
     },
     "execution_count": 14,
     "metadata": {},
     "output_type": "execute_result"
    }
   ],
   "source": [
    "#hide\n",
    "summary = {'updated':dates[-1], 'since':dates[-2]}\n",
    "list_names = ['Cases', 'PCases', 'Deaths', 'PDeaths', 'Cases (+)', 'Deaths (+)']\n",
    "for name in list_names:\n",
    "    summary[name] = df_table.sum()[name]\n",
    "summary"
   ]
  },
  {
   "cell_type": "code",
   "execution_count": 15,
   "metadata": {
    "execution": {
     "iopub.execute_input": "2020-11-11T12:22:33.033441Z",
     "iopub.status.busy": "2020-11-11T12:22:33.032851Z",
     "iopub.status.idle": "2020-11-11T12:22:33.035050Z",
     "shell.execute_reply": "2020-11-11T12:22:33.034614Z"
    },
    "papermill": {
     "duration": 0.020631,
     "end_time": "2020-11-11T12:22:33.035167",
     "exception": false,
     "start_time": "2020-11-11T12:22:33.014536",
     "status": "completed"
    },
    "tags": []
   },
   "outputs": [],
   "source": [
    "#hide\n",
    "overview = '''\n",
    "<!-- #######  HTML!! #########-->\n",
    "<h1 style=\"color: #5e9ca0; text-align: center;\">India</h1>\n",
    "<p style=\"text-align: center;\">Last update: <strong>{update}</strong></p>\n",
    "<p style=\"text-align: center;\">Confirmed cases:</p>\n",
    "<p style=\"text-align: center;font-size:24px;\">{cases} (<span style=\"color: #ff0000;\">+{new}</span>)</p>\n",
    "<p style=\"text-align: center;\">Confirmed deaths:</p>\n",
    "<p style=\"text-align: center;font-size:24px;\">{deaths} (<span style=\"color: #ff0000;\">+{dnew}</span>)</p>\n",
    "'''"
   ]
  },
  {
   "cell_type": "code",
   "execution_count": 16,
   "metadata": {
    "execution": {
     "iopub.execute_input": "2020-11-11T12:22:33.073675Z",
     "iopub.status.busy": "2020-11-11T12:22:33.073073Z",
     "iopub.status.idle": "2020-11-11T12:22:33.076535Z",
     "shell.execute_reply": "2020-11-11T12:22:33.075906Z"
    },
    "papermill": {
     "duration": 0.02568,
     "end_time": "2020-11-11T12:22:33.076666",
     "exception": false,
     "start_time": "2020-11-11T12:22:33.050986",
     "status": "completed"
    },
    "tags": []
   },
   "outputs": [
    {
     "data": {
      "text/html": [
       "\n",
       "<!-- #######  HTML!! #########-->\n",
       "<h1 style=\"color: #5e9ca0; text-align: center;\">India</h1>\n",
       "<p style=\"text-align: center;\">Last update: <strong>2020-11-11</strong></p>\n",
       "<p style=\"text-align: center;\">Confirmed cases:</p>\n",
       "<p style=\"text-align: center;font-size:24px;\">8636974 (<span style=\"color: #ff0000;\">+1220</span>)</p>\n",
       "<p style=\"text-align: center;\">Confirmed deaths:</p>\n",
       "<p style=\"text-align: center;font-size:24px;\">127630 (<span style=\"color: #ff0000;\">+15</span>)</p>\n"
      ],
      "text/plain": [
       "<IPython.core.display.HTML object>"
      ]
     },
     "metadata": {},
     "output_type": "display_data"
    }
   ],
   "source": [
    "#hide_input\n",
    "update = summary['updated']\n",
    "cases = summary['Cases']\n",
    "new = summary['Cases (+)']\n",
    "deaths = summary['Deaths']\n",
    "dnew = summary['Deaths (+)']\n",
    "\n",
    "html = HTML(overview.format(update=update, cases=cases,new=new,deaths=deaths,dnew=dnew))\n",
    "\n",
    "display(html)"
   ]
  },
  {
   "cell_type": "code",
   "execution_count": 17,
   "metadata": {
    "execution": {
     "iopub.execute_input": "2020-11-11T12:22:33.120655Z",
     "iopub.status.busy": "2020-11-11T12:22:33.119565Z",
     "iopub.status.idle": "2020-11-11T12:22:33.124422Z",
     "shell.execute_reply": "2020-11-11T12:22:33.123960Z"
    },
    "papermill": {
     "duration": 0.029934,
     "end_time": "2020-11-11T12:22:33.124545",
     "exception": false,
     "start_time": "2020-11-11T12:22:33.094611",
     "status": "completed"
    },
    "tags": []
   },
   "outputs": [],
   "source": [
    "#hide\n",
    "dt_cols = list(dft_cases.columns[1:])\n",
    "dft_ct_new_cases = dft_cases.groupby('state')[dt_cols].sum().diff(axis=1).fillna(0).astype(int)\n",
    "dft_ct_new_cases.sort_values(by = dates[-1], ascending = False,inplace = True)"
   ]
  },
  {
   "cell_type": "code",
   "execution_count": 18,
   "metadata": {
    "execution": {
     "iopub.execute_input": "2020-11-11T12:22:33.165298Z",
     "iopub.status.busy": "2020-11-11T12:22:33.164666Z",
     "iopub.status.idle": "2020-11-11T12:22:33.177824Z",
     "shell.execute_reply": "2020-11-11T12:22:33.177320Z"
    },
    "papermill": {
     "duration": 0.036634,
     "end_time": "2020-11-11T12:22:33.177949",
     "exception": false,
     "start_time": "2020-11-11T12:22:33.141315",
     "status": "completed"
    },
    "tags": []
   },
   "outputs": [
    {
     "data": {
      "text/html": [
       "<div>\n",
       "<style scoped>\n",
       "    .dataframe tbody tr th:only-of-type {\n",
       "        vertical-align: middle;\n",
       "    }\n",
       "\n",
       "    .dataframe tbody tr th {\n",
       "        vertical-align: top;\n",
       "    }\n",
       "\n",
       "    .dataframe thead th {\n",
       "        text-align: right;\n",
       "    }\n",
       "</style>\n",
       "<table border=\"1\" class=\"dataframe\">\n",
       "  <thead>\n",
       "    <tr style=\"text-align: right;\">\n",
       "      <th>states</th>\n",
       "      <th>2020-07-01</th>\n",
       "      <th>2020-07-02</th>\n",
       "      <th>2020-07-03</th>\n",
       "      <th>2020-07-04</th>\n",
       "      <th>2020-07-05</th>\n",
       "      <th>2020-07-06</th>\n",
       "      <th>2020-07-07</th>\n",
       "      <th>2020-07-08</th>\n",
       "      <th>2020-07-09</th>\n",
       "      <th>2020-07-10</th>\n",
       "      <th>...</th>\n",
       "      <th>2020-11-02</th>\n",
       "      <th>2020-11-03</th>\n",
       "      <th>2020-11-04</th>\n",
       "      <th>2020-11-05</th>\n",
       "      <th>2020-11-06</th>\n",
       "      <th>2020-11-07</th>\n",
       "      <th>2020-11-08</th>\n",
       "      <th>2020-11-09</th>\n",
       "      <th>2020-11-10</th>\n",
       "      <th>2020-11-11</th>\n",
       "    </tr>\n",
       "    <tr>\n",
       "      <th>state</th>\n",
       "      <th></th>\n",
       "      <th></th>\n",
       "      <th></th>\n",
       "      <th></th>\n",
       "      <th></th>\n",
       "      <th></th>\n",
       "      <th></th>\n",
       "      <th></th>\n",
       "      <th></th>\n",
       "      <th></th>\n",
       "      <th></th>\n",
       "      <th></th>\n",
       "      <th></th>\n",
       "      <th></th>\n",
       "      <th></th>\n",
       "      <th></th>\n",
       "      <th></th>\n",
       "      <th></th>\n",
       "      <th></th>\n",
       "      <th></th>\n",
       "      <th></th>\n",
       "    </tr>\n",
       "  </thead>\n",
       "  <tbody>\n",
       "    <tr>\n",
       "      <th>Odisha</th>\n",
       "      <td>0</td>\n",
       "      <td>229</td>\n",
       "      <td>561</td>\n",
       "      <td>495</td>\n",
       "      <td>469</td>\n",
       "      <td>456</td>\n",
       "      <td>571</td>\n",
       "      <td>527</td>\n",
       "      <td>577</td>\n",
       "      <td>755</td>\n",
       "      <td>...</td>\n",
       "      <td>1389</td>\n",
       "      <td>1201</td>\n",
       "      <td>1474</td>\n",
       "      <td>1385</td>\n",
       "      <td>1494</td>\n",
       "      <td>1372</td>\n",
       "      <td>1434</td>\n",
       "      <td>1219</td>\n",
       "      <td>987</td>\n",
       "      <td>1220</td>\n",
       "    </tr>\n",
       "    <tr>\n",
       "      <th>Andaman and Nicobar Islands</th>\n",
       "      <td>0</td>\n",
       "      <td>9</td>\n",
       "      <td>7</td>\n",
       "      <td>3</td>\n",
       "      <td>6</td>\n",
       "      <td>16</td>\n",
       "      <td>6</td>\n",
       "      <td>2</td>\n",
       "      <td>7</td>\n",
       "      <td>0</td>\n",
       "      <td>...</td>\n",
       "      <td>12</td>\n",
       "      <td>20</td>\n",
       "      <td>17</td>\n",
       "      <td>14</td>\n",
       "      <td>17</td>\n",
       "      <td>21</td>\n",
       "      <td>9</td>\n",
       "      <td>13</td>\n",
       "      <td>14</td>\n",
       "      <td>0</td>\n",
       "    </tr>\n",
       "    <tr>\n",
       "      <th>Andhra Pradesh</th>\n",
       "      <td>0</td>\n",
       "      <td>845</td>\n",
       "      <td>837</td>\n",
       "      <td>765</td>\n",
       "      <td>998</td>\n",
       "      <td>1322</td>\n",
       "      <td>1178</td>\n",
       "      <td>1062</td>\n",
       "      <td>1555</td>\n",
       "      <td>1608</td>\n",
       "      <td>...</td>\n",
       "      <td>1916</td>\n",
       "      <td>2849</td>\n",
       "      <td>2477</td>\n",
       "      <td>2745</td>\n",
       "      <td>2410</td>\n",
       "      <td>2367</td>\n",
       "      <td>2237</td>\n",
       "      <td>1392</td>\n",
       "      <td>1886</td>\n",
       "      <td>0</td>\n",
       "    </tr>\n",
       "    <tr>\n",
       "      <th>Maharashtra</th>\n",
       "      <td>0</td>\n",
       "      <td>6328</td>\n",
       "      <td>6364</td>\n",
       "      <td>7074</td>\n",
       "      <td>6555</td>\n",
       "      <td>5368</td>\n",
       "      <td>5134</td>\n",
       "      <td>6603</td>\n",
       "      <td>6875</td>\n",
       "      <td>7862</td>\n",
       "      <td>...</td>\n",
       "      <td>4009</td>\n",
       "      <td>4909</td>\n",
       "      <td>5505</td>\n",
       "      <td>5246</td>\n",
       "      <td>6870</td>\n",
       "      <td>3959</td>\n",
       "      <td>5585</td>\n",
       "      <td>3277</td>\n",
       "      <td>3791</td>\n",
       "      <td>0</td>\n",
       "    </tr>\n",
       "    <tr>\n",
       "      <th>Manipur</th>\n",
       "      <td>0</td>\n",
       "      <td>19</td>\n",
       "      <td>37</td>\n",
       "      <td>9</td>\n",
       "      <td>41</td>\n",
       "      <td>24</td>\n",
       "      <td>40</td>\n",
       "      <td>5</td>\n",
       "      <td>15</td>\n",
       "      <td>132</td>\n",
       "      <td>...</td>\n",
       "      <td>341</td>\n",
       "      <td>150</td>\n",
       "      <td>262</td>\n",
       "      <td>222</td>\n",
       "      <td>166</td>\n",
       "      <td>240</td>\n",
       "      <td>245</td>\n",
       "      <td>182</td>\n",
       "      <td>219</td>\n",
       "      <td>0</td>\n",
       "    </tr>\n",
       "  </tbody>\n",
       "</table>\n",
       "<p>5 rows × 134 columns</p>\n",
       "</div>"
      ],
      "text/plain": [
       "states                       2020-07-01  2020-07-02  2020-07-03  2020-07-04  \\\n",
       "state                                                                         \n",
       "Odisha                                0         229         561         495   \n",
       "Andaman and Nicobar Islands           0           9           7           3   \n",
       "Andhra Pradesh                        0         845         837         765   \n",
       "Maharashtra                           0        6328        6364        7074   \n",
       "Manipur                               0          19          37           9   \n",
       "\n",
       "states                       2020-07-05  2020-07-06  2020-07-07  2020-07-08  \\\n",
       "state                                                                         \n",
       "Odisha                              469         456         571         527   \n",
       "Andaman and Nicobar Islands           6          16           6           2   \n",
       "Andhra Pradesh                      998        1322        1178        1062   \n",
       "Maharashtra                        6555        5368        5134        6603   \n",
       "Manipur                              41          24          40           5   \n",
       "\n",
       "states                       2020-07-09  2020-07-10  ...  2020-11-02  \\\n",
       "state                                                ...               \n",
       "Odisha                              577         755  ...        1389   \n",
       "Andaman and Nicobar Islands           7           0  ...          12   \n",
       "Andhra Pradesh                     1555        1608  ...        1916   \n",
       "Maharashtra                        6875        7862  ...        4009   \n",
       "Manipur                              15         132  ...         341   \n",
       "\n",
       "states                       2020-11-03  2020-11-04  2020-11-05  2020-11-06  \\\n",
       "state                                                                         \n",
       "Odisha                             1201        1474        1385        1494   \n",
       "Andaman and Nicobar Islands          20          17          14          17   \n",
       "Andhra Pradesh                     2849        2477        2745        2410   \n",
       "Maharashtra                        4909        5505        5246        6870   \n",
       "Manipur                             150         262         222         166   \n",
       "\n",
       "states                       2020-11-07  2020-11-08  2020-11-09  2020-11-10  \\\n",
       "state                                                                         \n",
       "Odisha                             1372        1434        1219         987   \n",
       "Andaman and Nicobar Islands          21           9          13          14   \n",
       "Andhra Pradesh                     2367        2237        1392        1886   \n",
       "Maharashtra                        3959        5585        3277        3791   \n",
       "Manipur                             240         245         182         219   \n",
       "\n",
       "states                       2020-11-11  \n",
       "state                                    \n",
       "Odisha                             1220  \n",
       "Andaman and Nicobar Islands           0  \n",
       "Andhra Pradesh                        0  \n",
       "Maharashtra                           0  \n",
       "Manipur                               0  \n",
       "\n",
       "[5 rows x 134 columns]"
      ]
     },
     "execution_count": 18,
     "metadata": {},
     "output_type": "execute_result"
    }
   ],
   "source": [
    "#hide\n",
    "dft_ct_new_cases.head()"
   ]
  },
  {
   "cell_type": "code",
   "execution_count": 19,
   "metadata": {
    "execution": {
     "iopub.execute_input": "2020-11-11T12:22:33.237713Z",
     "iopub.status.busy": "2020-11-11T12:22:33.221153Z",
     "iopub.status.idle": "2020-11-11T12:22:37.727379Z",
     "shell.execute_reply": "2020-11-11T12:22:37.727846Z"
    },
    "papermill": {
     "duration": 4.532875,
     "end_time": "2020-11-11T12:22:37.728000",
     "exception": false,
     "start_time": "2020-11-11T12:22:33.195125",
     "status": "completed"
    },
    "tags": []
   },
   "outputs": [
    {
     "data": {
      "image/png": "[encoded data removed]",
      "text/plain": [
       "<Figure size 1296x2016 with 11 Axes>"
      ]
     },
     "metadata": {
      "needs_background": "light"
     },
     "output_type": "display_data"
    }
   ],
   "source": [
    "#hide_input\n",
    "df = dft_ct_new_cases.copy()\n",
    "df.loc['Total'] = df.sum()\n",
    "n = 5\n",
    "ax = []\n",
    "fig = plt.figure(figsize = (18,28))\n",
    "gs = fig.add_gridspec(n+2, 5)\n",
    "# gs = fig.add_gridspec(2, 3)\n",
    "ax1 = fig.add_subplot(gs[0, :])\n",
    "ef = df.loc['Total'].rename_axis('date').reset_index()\n",
    "ef['date'] = ef['date'].astype('datetime64[ns]')\n",
    "ax1.bar(ef.date,ef.Total,alpha=0.3,color='#007acc')\n",
    "ax1.plot(ef.date,ef.Total , marker=\"o\", color='#007acc')\n",
    "ax1.xaxis.set_major_locator(mdates.WeekdayLocator())\n",
    "ax1.xaxis.set_major_formatter(mdates.DateFormatter('%b %d'))\n",
    "ax1.text(0.02, 0.5,'India daily case count', transform = ax1.transAxes, fontsize=25);\n",
    "ax1.spines['right'].set_visible(False)\n",
    "ax1.spines['top'].set_visible(False)\n",
    "\n",
    "ax2 = fig.add_subplot(gs[1,0])\n",
    "ef = df.loc['Maharashtra'].rename_axis('date').reset_index()\n",
    "ef['date'] = ef['date'].astype('datetime64[ns]')\n",
    "\n",
    "ax2.bar(ef.date, ef.Maharashtra,color = '#007acc',alpha=0.5)\n",
    "ax2.xaxis.set_major_locator(mdates.WeekdayLocator())\n",
    "ax2.xaxis.set_major_formatter(mdates.DateFormatter('%b %d'))\n",
    "ax2.set_xticks(ax2.get_xticks()[::3])\n",
    "maxyval = ef.Maharashtra.max()\n",
    "ax2.set_ylim([0,maxyval])\n",
    "ax2.text(0.05, 0.9,'Maharashtra', transform = ax2.transAxes, fontsize=20);\n",
    "ax2.spines['right'].set_visible(False)\n",
    "ax2.spines['top'].set_visible(False)\n",
    "\n",
    "\n",
    "ax3 = fig.add_subplot(gs[1,1])\n",
    "ef = df.loc['Tamil Nadu'].rename_axis('date').reset_index()\n",
    "ef['date'] = ef['date'].astype('datetime64[ns]')\n",
    "ax3.bar(ef.date, ef['Tamil Nadu'],color = '#007acc',alpha=0.5,)\n",
    "ax3.xaxis.set_major_locator(mdates.WeekdayLocator())\n",
    "ax3.xaxis.set_major_formatter(mdates.DateFormatter('%b %d'))\n",
    "ax3.set_xticks(ax3.get_xticks()[::3])\n",
    "ax3.text(0.05, 0.9,'Tamil Nadu', transform = ax3.transAxes, fontsize=20);\n",
    "ax3.spines['right'].set_visible(False)\n",
    "ax3.spines['top'].set_visible(False)\n",
    "\n",
    "ax5 = fig.add_subplot(gs[1,3])\n",
    "ef = df.loc['Telangana'].rename_axis('date').reset_index()\n",
    "ef['date'] = ef['date'].astype('datetime64[ns]')\n",
    "ax5.bar(ef.date, ef['Telangana'],color = '#007acc',alpha=0.5,)\n",
    "ax5.xaxis.set_major_locator(mdates.WeekdayLocator())\n",
    "ax5.xaxis.set_major_formatter(mdates.DateFormatter('%b %d'))\n",
    "ax5.set_xticks(ax5.get_xticks()[::3])\n",
    "ax5.text(0.05, 0.9,'Telangana', transform = ax5.transAxes, fontsize=20);\n",
    "ax5.spines['right'].set_visible(False)\n",
    "ax5.spines['top'].set_visible(False)\n",
    "\n",
    "ax6 = fig.add_subplot(gs[1,4])\n",
    "ef = df.loc['Andhra Pradesh'].rename_axis('date').reset_index()\n",
    "ef['date'] = ef['date'].astype('datetime64[ns]')\n",
    "ax6.bar(ef.date, ef['Andhra Pradesh'],color = '#007acc',alpha=0.5,)\n",
    "ax6.xaxis.set_major_locator(mdates.WeekdayLocator())\n",
    "ax6.xaxis.set_major_formatter(mdates.DateFormatter('%b %d'))\n",
    "ax6.set_xticks(ax6.get_xticks()[::3])\n",
    "ax6.text(0.05, 1,'Andhra Pradesh', transform = ax6.transAxes, fontsize=20);\n",
    "ax6.spines['right'].set_visible(False)\n",
    "ax6.spines['top'].set_visible(False)\n",
    "\n",
    "ax4 = fig.add_subplot(gs[1,2])\n",
    "ef = df.loc['Delhi'].rename_axis('date').reset_index()\n",
    "ef['date'] = ef['date'].astype('datetime64[ns]')\n",
    "ax4.bar(ef.date, ef.Delhi,color = '#007acc',alpha=0.5)\n",
    "ax4.set_xticks([])\n",
    "ax4.xaxis.set_major_locator(mdates.WeekdayLocator())\n",
    "ax4.xaxis.set_major_formatter(mdates.DateFormatter('%b %d'))\n",
    "ax4.set_xticks(ax4.get_xticks()[::3])\n",
    "ax4.spines['right'].set_visible(False)\n",
    "ax4.spines['top'].set_visible(False)\n",
    "\n",
    "ax4.text(0.05, 1,'Delhi', transform = ax4.transAxes, fontsize=20)\n",
    "\n",
    "for i in range(n):\n",
    "    \n",
    "    ax.append(fig.add_subplot(gs[i+2,:]))\n",
    "    ef = df.iloc[i+3].rename_axis('date').reset_index()\n",
    "    ef['date'] = ef['date'].astype('datetime64[ns]')\n",
    "    ax[i].bar(ef.date,ef.iloc[:,-1],color = '#007acc',alpha=0.3)\n",
    "    ax[i].plot(ef.date,ef.iloc[:,-1],marker='o',color='#007acc')\n",
    "    ax[i].text(0.02,0.5,f'{ef.columns.values[-1]}',transform = ax[i].transAxes, fontsize = 20);\n",
    "    ax[i].xaxis.set_major_locator(mdates.WeekdayLocator())\n",
    "    ax[i].xaxis.set_major_formatter(mdates.DateFormatter('%b %d'))\n",
    "    ax[i].set_ylim([0,7000])\n",
    "    ax[i].spines['right'].set_visible(False)\n",
    "    ax[i].spines['top'].set_visible(False)\n",
    "plt.tight_layout()\n"
   ]
  },
  {
   "cell_type": "code",
   "execution_count": 20,
   "metadata": {
    "execution": {
     "iopub.execute_input": "2020-11-11T12:22:37.781090Z",
     "iopub.status.busy": "2020-11-11T12:22:37.780356Z",
     "iopub.status.idle": "2020-11-11T12:22:37.782750Z",
     "shell.execute_reply": "2020-11-11T12:22:37.783246Z"
    },
    "papermill": {
     "duration": 0.034972,
     "end_time": "2020-11-11T12:22:37.783399",
     "exception": false,
     "start_time": "2020-11-11T12:22:37.748427",
     "status": "completed"
    },
    "tags": []
   },
   "outputs": [
    {
     "name": "stdout",
     "output_type": "stream",
     "text": [
      "                                   states    Cases  Deaths   PCases  PDeaths  Cases (+)  Deaths (+)  Fatality Rate\n",
      "                              Maharashtra  1726926   45435  1726926    45435          0           0           2.63\n",
      "                                Karnataka   851212   11430   851212    11430          0           0           1.34\n",
      "                           Andhra Pradesh   846245    6814   846245     6814          0           0           0.81\n",
      "                               Tamil Nadu   748225   11387   748225    11387          0           0           1.52\n",
      "                            Uttar Pradesh   501311    7261   501311     7261          0           0           1.45\n",
      "                                   Kerala   495713    1743   495713     1743          0           0           0.35\n",
      "                                    Delhi   451382    7143   451382     7143          0           0           1.58\n",
      "                              West Bengal   413112    7403   413112     7403          0           0           1.79\n",
      "                                   Odisha   305000    1522   303780     1507       1220          15           0.50\n",
      "                                Telangana   252455    1385   252455     1385          0           0           0.55\n",
      "                                    Bihar   224275    1156   224275     1156          0           0           0.52\n",
      "                                Rajasthan   215071    2008   215071     2008          0           0           0.93\n",
      "                                    Assam   209388     953   209388      953          0           0           0.46\n",
      "                             Chhattisgarh   204202    2482   204202     2482          0           0           1.22\n",
      "                                  Haryana   187777    1935   187777     1935          0           0           1.03\n",
      "                                  Gujarat   182719    3773   182719     3773          0           0           2.06\n",
      "                           Madhya Pradesh   179068    3042   179068     3042          0           0           1.70\n",
      "                                   Punjab   138485    4358   138485     4358          0           0           3.15\n",
      "                                Jharkhand   104940     910   104940      910          0           0           0.87\n",
      "                        Jammu and Kashmir    99844    1549    99844     1549          0           0           1.55\n",
      "                              Uttarakhand    66005    1080    66005     1080          0           0           1.64\n",
      "                                      Goa    45389     651    45389      651          0           0           1.43\n",
      "                               Puducherry    36000     604    36000      604          0           0           1.68\n",
      "                                  Tripura    31619     356    31619      356          0           0           1.13\n",
      "                         Himachal Pradesh    26808     390    26808      390          0           0           1.45\n",
      "                                  Manipur    20777     200    20777      200          0           0           0.96\n",
      "                        Arunachal Pradesh    15581      46    15581       46          0           0           0.30\n",
      "                               Chandigarh    15339     241    15339      241          0           0           1.57\n",
      "                                Meghalaya    10296      94    10296       94          0           0           0.91\n",
      "                                 Nagaland     9536      50     9536       50          0           0           0.52\n",
      "                                   Ladakh     7063      85     7063       85          0           0           1.20\n",
      "              Andaman and Nicobar Islands     4477      60     4477       60          0           0           1.34\n",
      "                                   Sikkim     4308      80     4308       80          0           0           1.86\n",
      " Dadra and Nagar Haveli and Daman and Diu     3270       2     3270        2          0           0           0.06\n",
      "                                  Mizoram     3156       2     3156        2          0           0           0.06\n",
      "                              Lakshadweep        0       0        0        0          0           0            NaN\n"
     ]
    }
   ],
   "source": [
    "#hide_input\n",
    "print(df_table.to_string(index=False))"
   ]
  },
  {
   "cell_type": "code",
   "execution_count": null,
   "metadata": {
    "papermill": {
     "duration": 0.023949,
     "end_time": "2020-11-11T12:22:37.829979",
     "exception": false,
     "start_time": "2020-11-11T12:22:37.806030",
     "status": "completed"
    },
    "tags": []
   },
   "outputs": [],
   "source": []
  },
  {
   "cell_type": "code",
   "execution_count": null,
   "metadata": {
    "papermill": {
     "duration": 0.020715,
     "end_time": "2020-11-11T12:22:37.871535",
     "exception": false,
     "start_time": "2020-11-11T12:22:37.850820",
     "status": "completed"
    },
    "tags": []
   },
   "outputs": [],
   "source": []
  }
 ],
 "metadata": {
  "kernelspec": {
   "display_name": "Python 3",
   "language": "python",
   "name": "python3"
  },
  "language_info": {
   "codemirror_mode": {
    "name": "ipython",
    "version": 3
   },
   "file_extension": ".py",
   "mimetype": "text/x-python",
   "name": "python",
   "nbconvert_exporter": "python",
   "pygments_lexer": "ipython3",
   "version": "3.6.12"
  },
  "papermill": {
   "duration": 13.311674,
   "end_time": "2020-11-11T12:22:39.167038",
   "environment_variables": {},
   "exception": null,
   "input_path": "latest.ipynb",
   "output_path": "latest.ipynb",
   "parameters": {},
   "start_time": "2020-11-11T12:22:25.855364",
   "version": "2.1.2"
  }
 },
 "nbformat": 4,
 "nbformat_minor": 4
}