{
 "cells": [
  {
   "cell_type": "markdown",
   "metadata": {
    "papermill": {
     "duration": 0.019993,
     "end_time": "2020-11-26T13:37:57.591953",
     "exception": false,
     "start_time": "2020-11-26T13:37:57.571960",
     "status": "completed"
    },
    "tags": []
   },
   "source": [
    "# Latest COVID-19 India Matplotlib Overview"
   ]
  },
  {
   "cell_type": "code",
   "execution_count": 1,
   "metadata": {
    "execution": {
     "iopub.execute_input": "2020-11-26T13:37:57.622074Z",
     "iopub.status.busy": "2020-11-26T13:37:57.621048Z",
     "iopub.status.idle": "2020-11-26T13:37:58.068363Z",
     "shell.execute_reply": "2020-11-26T13:37:58.067914Z"
    },
    "papermill": {
     "duration": 0.464402,
     "end_time": "2020-11-26T13:37:58.068495",
     "exception": false,
     "start_time": "2020-11-26T13:37:57.604093",
     "status": "completed"
    },
    "tags": []
   },
   "outputs": [],
   "source": [
    "#hide\n",
    "import pandas as pd\n",
    "import numpy as np\n",
    "import requests\n",
    "import json\n",
    "import matplotlib.pyplot as plt\n",
    "import matplotlib.dates as mdates\n",
    "import matplotlib as mpl\n",
    "from IPython.core.display import display,HTML\n",
    "%matplotlib inline\n",
    "from datetime import date"
   ]
  },
  {
   "cell_type": "code",
   "execution_count": 2,
   "metadata": {
    "execution": {
     "iopub.execute_input": "2020-11-26T13:37:58.098821Z",
     "iopub.status.busy": "2020-11-26T13:37:58.098057Z",
     "iopub.status.idle": "2020-11-26T13:37:58.219086Z",
     "shell.execute_reply": "2020-11-26T13:37:58.218153Z"
    },
    "papermill": {
     "duration": 0.138953,
     "end_time": "2020-11-26T13:37:58.219310",
     "exception": false,
     "start_time": "2020-11-26T13:37:58.080357",
     "status": "completed"
    },
    "tags": []
   },
   "outputs": [],
   "source": [
    "#hide\n",
    "df  = pd.read_csv('https://api.covid19india.org/csv/latest/states.csv')\n",
    "df = df[['Date','State','Confirmed','Deceased']]\n",
    "df = df.rename(columns={'Confirmed':'Cases', \"Deceased\":'Deaths'})\n",
    "df_cases = df[[\"Date\",'State','Cases']]\n",
    "df_deaths = df[['Date','State','Deaths']]\n",
    "df_cases1 = df_cases.groupby('Date')\n",
    "df_deaths1= df_deaths.groupby('Date')"
   ]
  },
  {
   "cell_type": "code",
   "execution_count": 3,
   "metadata": {
    "execution": {
     "iopub.execute_input": "2020-11-26T13:37:58.247525Z",
     "iopub.status.busy": "2020-11-26T13:37:58.247075Z",
     "iopub.status.idle": "2020-11-26T13:37:58.262275Z",
     "shell.execute_reply": "2020-11-26T13:37:58.261555Z"
    },
    "papermill": {
     "duration": 0.031533,
     "end_time": "2020-11-26T13:37:58.262454",
     "exception": false,
     "start_time": "2020-11-26T13:37:58.230921",
     "status": "completed"
    },
    "tags": []
   },
   "outputs": [],
   "source": [
    "#hide\n",
    "df_snap = pd.read_csv('data/SnapshotCases-28-July.csv')\n",
    "arr_states = df_snap['states'].unique()\n",
    "arr_dates = df['Date'].unique()\n",
    "df_snap = df_snap.set_index('states')"
   ]
  },
  {
   "cell_type": "code",
   "execution_count": 4,
   "metadata": {
    "execution": {
     "iopub.execute_input": "2020-11-26T13:37:58.293755Z",
     "iopub.status.busy": "2020-11-26T13:37:58.293228Z",
     "iopub.status.idle": "2020-11-26T13:37:58.296349Z",
     "shell.execute_reply": "2020-11-26T13:37:58.296864Z"
    },
    "papermill": {
     "duration": 0.019515,
     "end_time": "2020-11-26T13:37:58.296981",
     "exception": false,
     "start_time": "2020-11-26T13:37:58.277466",
     "status": "completed"
    },
    "tags": []
   },
   "outputs": [
    {
     "data": {
      "text/plain": [
       "array(['Andaman and Nicobar Islands', 'Andhra Pradesh',\n",
       "       'Arunachal Pradesh', 'Assam', 'Bihar', 'Chandigarh',\n",
       "       'Dadra and Nagar Haveli and Daman and Diu', 'Delhi', 'Goa',\n",
       "       'Gujarat', 'Haryana', 'Himachal Pradesh', 'Jammu and Kashmir',\n",
       "       'Jharkhand', 'Karnataka', 'Kerala', 'Lakshadweep',\n",
       "       'Madhya Pradesh', 'Maharashtra', 'Manipur', 'Meghalaya', 'Mizoram',\n",
       "       'Nagaland', 'Odisha', 'Puducherry', 'Punjab', 'Rajasthan',\n",
       "       'Sikkim', 'Tamil Nadu', 'Telangana', 'Tripura', 'Uttar Pradesh',\n",
       "       'West Bengal', 'Chhattisgarh', 'Ladakh', 'Uttarakhand'],\n",
       "      dtype=object)"
      ]
     },
     "execution_count": 4,
     "metadata": {},
     "output_type": "execute_result"
    }
   ],
   "source": [
    "#hide\n",
    "arr_states[-9] = 'Puducherry'\n",
    "arr_states[-10] = 'Odisha'\n",
    "arr_states[6] = 'Dadra and Nagar Haveli and Daman and Diu'\n",
    "arr_states = np.append(arr_states,np.array(['Chhattisgarh','Ladakh','Uttarakhand']))\n",
    "arr_states"
   ]
  },
  {
   "cell_type": "code",
   "execution_count": 5,
   "metadata": {
    "execution": {
     "iopub.execute_input": "2020-11-26T13:37:58.331154Z",
     "iopub.status.busy": "2020-11-26T13:37:58.330247Z",
     "iopub.status.idle": "2020-11-26T13:37:58.333166Z",
     "shell.execute_reply": "2020-11-26T13:37:58.332736Z"
    },
    "papermill": {
     "duration": 0.025105,
     "end_time": "2020-11-26T13:37:58.333272",
     "exception": false,
     "start_time": "2020-11-26T13:37:58.308167",
     "status": "completed"
    },
    "tags": []
   },
   "outputs": [],
   "source": [
    "#hide\n",
    "dates = []\n",
    "for i in arr_dates:\n",
    "    if i>='2020-07-01':\n",
    "        dates.append(i)\n",
    "dict = {'states':dates}\n",
    "for i in arr_states:\n",
    "    dict[i] = [0]*len(dates)\n",
    "dft_cases = pd.DataFrame(dict)\n",
    "dft_deaths = pd.DataFrame(dict)\n"
   ]
  },
  {
   "cell_type": "code",
   "execution_count": 6,
   "metadata": {
    "execution": {
     "iopub.execute_input": "2020-11-26T13:37:58.360560Z",
     "iopub.status.busy": "2020-11-26T13:37:58.358035Z",
     "iopub.status.idle": "2020-11-26T13:38:00.125650Z",
     "shell.execute_reply": "2020-11-26T13:38:00.124857Z"
    },
    "papermill": {
     "duration": 1.780943,
     "end_time": "2020-11-26T13:38:00.125779",
     "exception": false,
     "start_time": "2020-11-26T13:37:58.344836",
     "status": "completed"
    },
    "tags": []
   },
   "outputs": [],
   "source": [
    "#hide\n",
    "for i in range(len(dates)):\n",
    "    df1_deaths = df_deaths1.get_group(dates[i])\n",
    "    for j in range(len(df1_deaths.index)):\n",
    "        if df1_deaths.iloc[j,1] in arr_states:\n",
    "            dft_deaths.loc[i,df1_deaths.iloc[j,1]] = df1_deaths.iloc[j,2]\n",
    "dft_deaths = dft_deaths.set_index('states')"
   ]
  },
  {
   "cell_type": "code",
   "execution_count": 7,
   "metadata": {
    "execution": {
     "iopub.execute_input": "2020-11-26T13:38:00.155365Z",
     "iopub.status.busy": "2020-11-26T13:38:00.154676Z",
     "iopub.status.idle": "2020-11-26T13:38:01.712950Z",
     "shell.execute_reply": "2020-11-26T13:38:01.712036Z"
    },
    "papermill": {
     "duration": 1.575465,
     "end_time": "2020-11-26T13:38:01.713071",
     "exception": false,
     "start_time": "2020-11-26T13:38:00.137606",
     "status": "completed"
    },
    "tags": []
   },
   "outputs": [],
   "source": [
    "#hide\n",
    "for i in range(len(dates)):\n",
    "    df1_cases = df_cases1.get_group(dates[i])\n",
    "    for j in range(len(df1_cases.index)):\n",
    "        if df1_cases.iloc[j,1] in arr_states:\n",
    "            dft_cases.loc[i,df1_cases.iloc[j,1]] = df1_cases.iloc[j,2]\n",
    "dft_cases = dft_cases.set_index('states')"
   ]
  },
  {
   "cell_type": "code",
   "execution_count": 8,
   "metadata": {
    "execution": {
     "iopub.execute_input": "2020-11-26T13:38:01.741361Z",
     "iopub.status.busy": "2020-11-26T13:38:01.740172Z",
     "iopub.status.idle": "2020-11-26T13:38:01.742009Z",
     "shell.execute_reply": "2020-11-26T13:38:01.742474Z"
    },
    "papermill": {
     "duration": 0.018489,
     "end_time": "2020-11-26T13:38:01.742596",
     "exception": false,
     "start_time": "2020-11-26T13:38:01.724107",
     "status": "completed"
    },
    "tags": []
   },
   "outputs": [],
   "source": [
    "#hide\n",
    "dft_cases = dft_cases.T\n",
    "dft_deaths = dft_deaths.T\n",
    "dt_today = dates[-1]\n",
    "dt_yday = dates[-2]"
   ]
  },
  {
   "cell_type": "code",
   "execution_count": 9,
   "metadata": {
    "execution": {
     "iopub.execute_input": "2020-11-26T13:38:01.772085Z",
     "iopub.status.busy": "2020-11-26T13:38:01.771015Z",
     "iopub.status.idle": "2020-11-26T13:38:01.775134Z",
     "shell.execute_reply": "2020-11-26T13:38:01.774779Z"
    },
    "papermill": {
     "duration": 0.020116,
     "end_time": "2020-11-26T13:38:01.775215",
     "exception": false,
     "start_time": "2020-11-26T13:38:01.755099",
     "status": "completed"
    },
    "tags": []
   },
   "outputs": [],
   "source": [
    "#hide\n",
    "dft_cases = dft_cases.reset_index()\n",
    "dft_deaths = dft_deaths.reset_index()\n",
    "dft_cases = dft_cases.rename(columns = {'index':'state'})\n",
    "dft_deaths = dft_deaths.rename(columns = {'index':'state'})"
   ]
  },
  {
   "cell_type": "code",
   "execution_count": 10,
   "metadata": {
    "execution": {
     "iopub.execute_input": "2020-11-26T13:38:01.808156Z",
     "iopub.status.busy": "2020-11-26T13:38:01.807575Z",
     "iopub.status.idle": "2020-11-26T13:38:01.811041Z",
     "shell.execute_reply": "2020-11-26T13:38:01.810612Z"
    },
    "papermill": {
     "duration": 0.025441,
     "end_time": "2020-11-26T13:38:01.811134",
     "exception": false,
     "start_time": "2020-11-26T13:38:01.785693",
     "status": "completed"
    },
    "tags": []
   },
   "outputs": [],
   "source": [
    "#hide\n",
    "dfc_cases = dft_cases.groupby('state')[dt_today].sum()\n",
    "dfc_deaths = dft_deaths.groupby('state')[dt_today].sum()\n",
    "dfp_cases = dft_cases.groupby('state')[dt_yday].sum()\n",
    "dfp_deaths = dft_deaths.groupby('state')[dt_yday].sum()"
   ]
  },
  {
   "cell_type": "code",
   "execution_count": 11,
   "metadata": {
    "execution": {
     "iopub.execute_input": "2020-11-26T13:38:01.844422Z",
     "iopub.status.busy": "2020-11-26T13:38:01.843213Z",
     "iopub.status.idle": "2020-11-26T13:38:01.849226Z",
     "shell.execute_reply": "2020-11-26T13:38:01.849608Z"
    },
    "papermill": {
     "duration": 0.027465,
     "end_time": "2020-11-26T13:38:01.849698",
     "exception": false,
     "start_time": "2020-11-26T13:38:01.822233",
     "status": "completed"
    },
    "tags": []
   },
   "outputs": [
    {
     "data": {
      "text/html": [
       "<div>\n",
       "<style scoped>\n",
       "    .dataframe tbody tr th:only-of-type {\n",
       "        vertical-align: middle;\n",
       "    }\n",
       "\n",
       "    .dataframe tbody tr th {\n",
       "        vertical-align: top;\n",
       "    }\n",
       "\n",
       "    .dataframe thead th {\n",
       "        text-align: right;\n",
       "    }\n",
       "</style>\n",
       "<table border=\"1\" class=\"dataframe\">\n",
       "  <thead>\n",
       "    <tr style=\"text-align: right;\">\n",
       "      <th></th>\n",
       "      <th>states</th>\n",
       "      <th>Cases</th>\n",
       "      <th>Deaths</th>\n",
       "      <th>PCases</th>\n",
       "      <th>PDeaths</th>\n",
       "    </tr>\n",
       "  </thead>\n",
       "  <tbody>\n",
       "    <tr>\n",
       "      <th>0</th>\n",
       "      <td>Maharashtra</td>\n",
       "      <td>1795959</td>\n",
       "      <td>46748</td>\n",
       "      <td>1795959</td>\n",
       "      <td>46748</td>\n",
       "    </tr>\n",
       "    <tr>\n",
       "      <th>1</th>\n",
       "      <td>Karnataka</td>\n",
       "      <td>878055</td>\n",
       "      <td>11714</td>\n",
       "      <td>878055</td>\n",
       "      <td>11714</td>\n",
       "    </tr>\n",
       "    <tr>\n",
       "      <th>2</th>\n",
       "      <td>Andhra Pradesh</td>\n",
       "      <td>865705</td>\n",
       "      <td>6970</td>\n",
       "      <td>864674</td>\n",
       "      <td>6962</td>\n",
       "    </tr>\n",
       "    <tr>\n",
       "      <th>3</th>\n",
       "      <td>Tamil Nadu</td>\n",
       "      <td>774710</td>\n",
       "      <td>11655</td>\n",
       "      <td>774710</td>\n",
       "      <td>11655</td>\n",
       "    </tr>\n",
       "    <tr>\n",
       "      <th>4</th>\n",
       "      <td>Kerala</td>\n",
       "      <td>578364</td>\n",
       "      <td>2122</td>\n",
       "      <td>578364</td>\n",
       "      <td>2122</td>\n",
       "    </tr>\n",
       "  </tbody>\n",
       "</table>\n",
       "</div>"
      ],
      "text/plain": [
       "           states    Cases  Deaths   PCases  PDeaths\n",
       "0     Maharashtra  1795959   46748  1795959    46748\n",
       "1       Karnataka   878055   11714   878055    11714\n",
       "2  Andhra Pradesh   865705    6970   864674     6962\n",
       "3      Tamil Nadu   774710   11655   774710    11655\n",
       "4          Kerala   578364    2122   578364     2122"
      ]
     },
     "execution_count": 11,
     "metadata": {},
     "output_type": "execute_result"
    }
   ],
   "source": [
    "#hide\n",
    "df_table = pd.DataFrame({'states': dfc_cases.index, 'Cases': dfc_cases.values, 'Deaths': dfc_deaths.values, 'PCases': dfp_cases.values, 'PDeaths': dfp_deaths.values}).set_index('states')\n",
    "df_table = df_table.sort_values(by = ['Cases','Deaths'], ascending = [False, False])\n",
    "df_table = df_table.reset_index()\n",
    "df_table.head()"
   ]
  },
  {
   "cell_type": "code",
   "execution_count": 12,
   "metadata": {
    "execution": {
     "iopub.execute_input": "2020-11-26T13:38:01.876367Z",
     "iopub.status.busy": "2020-11-26T13:38:01.875960Z",
     "iopub.status.idle": "2020-11-26T13:38:01.883560Z",
     "shell.execute_reply": "2020-11-26T13:38:01.883149Z"
    },
    "papermill": {
     "duration": 0.02256,
     "end_time": "2020-11-26T13:38:01.883642",
     "exception": false,
     "start_time": "2020-11-26T13:38:01.861082",
     "status": "completed"
    },
    "tags": []
   },
   "outputs": [],
   "source": [
    "#hide\n",
    "for c in 'Cases, Deaths'.split(', '):\n",
    "    df_table[f'{c} (+)'] = (df_table[c] - df_table[f'P{c}']).clip(0)\n",
    "df_table['Fatality Rate'] = (100* df_table['Deaths']/ df_table['Cases']).round(2)"
   ]
  },
  {
   "cell_type": "code",
   "execution_count": 13,
   "metadata": {
    "execution": {
     "iopub.execute_input": "2020-11-26T13:38:01.909399Z",
     "iopub.status.busy": "2020-11-26T13:38:01.908995Z",
     "iopub.status.idle": "2020-11-26T13:38:01.916770Z",
     "shell.execute_reply": "2020-11-26T13:38:01.917086Z"
    },
    "papermill": {
     "duration": 0.022644,
     "end_time": "2020-11-26T13:38:01.917182",
     "exception": false,
     "start_time": "2020-11-26T13:38:01.894538",
     "status": "completed"
    },
    "tags": []
   },
   "outputs": [
    {
     "data": {
      "text/html": [
       "<div>\n",
       "<style scoped>\n",
       "    .dataframe tbody tr th:only-of-type {\n",
       "        vertical-align: middle;\n",
       "    }\n",
       "\n",
       "    .dataframe tbody tr th {\n",
       "        vertical-align: top;\n",
       "    }\n",
       "\n",
       "    .dataframe thead th {\n",
       "        text-align: right;\n",
       "    }\n",
       "</style>\n",
       "<table border=\"1\" class=\"dataframe\">\n",
       "  <thead>\n",
       "    <tr style=\"text-align: right;\">\n",
       "      <th></th>\n",
       "      <th>states</th>\n",
       "      <th>Cases</th>\n",
       "      <th>Deaths</th>\n",
       "      <th>PCases</th>\n",
       "      <th>PDeaths</th>\n",
       "      <th>Cases (+)</th>\n",
       "      <th>Deaths (+)</th>\n",
       "      <th>Fatality Rate</th>\n",
       "    </tr>\n",
       "  </thead>\n",
       "  <tbody>\n",
       "    <tr>\n",
       "      <th>0</th>\n",
       "      <td>Maharashtra</td>\n",
       "      <td>1795959</td>\n",
       "      <td>46748</td>\n",
       "      <td>1795959</td>\n",
       "      <td>46748</td>\n",
       "      <td>0</td>\n",
       "      <td>0</td>\n",
       "      <td>2.60</td>\n",
       "    </tr>\n",
       "    <tr>\n",
       "      <th>1</th>\n",
       "      <td>Karnataka</td>\n",
       "      <td>878055</td>\n",
       "      <td>11714</td>\n",
       "      <td>878055</td>\n",
       "      <td>11714</td>\n",
       "      <td>0</td>\n",
       "      <td>0</td>\n",
       "      <td>1.33</td>\n",
       "    </tr>\n",
       "    <tr>\n",
       "      <th>2</th>\n",
       "      <td>Andhra Pradesh</td>\n",
       "      <td>865705</td>\n",
       "      <td>6970</td>\n",
       "      <td>864674</td>\n",
       "      <td>6962</td>\n",
       "      <td>1031</td>\n",
       "      <td>8</td>\n",
       "      <td>0.81</td>\n",
       "    </tr>\n",
       "    <tr>\n",
       "      <th>3</th>\n",
       "      <td>Tamil Nadu</td>\n",
       "      <td>774710</td>\n",
       "      <td>11655</td>\n",
       "      <td>774710</td>\n",
       "      <td>11655</td>\n",
       "      <td>0</td>\n",
       "      <td>0</td>\n",
       "      <td>1.50</td>\n",
       "    </tr>\n",
       "    <tr>\n",
       "      <th>4</th>\n",
       "      <td>Kerala</td>\n",
       "      <td>578364</td>\n",
       "      <td>2122</td>\n",
       "      <td>578364</td>\n",
       "      <td>2122</td>\n",
       "      <td>0</td>\n",
       "      <td>0</td>\n",
       "      <td>0.37</td>\n",
       "    </tr>\n",
       "  </tbody>\n",
       "</table>\n",
       "</div>"
      ],
      "text/plain": [
       "           states    Cases  Deaths   PCases  PDeaths  Cases (+)  Deaths (+)  \\\n",
       "0     Maharashtra  1795959   46748  1795959    46748          0           0   \n",
       "1       Karnataka   878055   11714   878055    11714          0           0   \n",
       "2  Andhra Pradesh   865705    6970   864674     6962       1031           8   \n",
       "3      Tamil Nadu   774710   11655   774710    11655          0           0   \n",
       "4          Kerala   578364    2122   578364     2122          0           0   \n",
       "\n",
       "   Fatality Rate  \n",
       "0           2.60  \n",
       "1           1.33  \n",
       "2           0.81  \n",
       "3           1.50  \n",
       "4           0.37  "
      ]
     },
     "execution_count": 13,
     "metadata": {},
     "output_type": "execute_result"
    }
   ],
   "source": [
    "#hide\n",
    "df_table.head()"
   ]
  },
  {
   "cell_type": "code",
   "execution_count": 14,
   "metadata": {
    "execution": {
     "iopub.execute_input": "2020-11-26T13:38:02.456558Z",
     "iopub.status.busy": "2020-11-26T13:38:02.456040Z",
     "iopub.status.idle": "2020-11-26T13:38:02.470710Z",
     "shell.execute_reply": "2020-11-26T13:38:02.471027Z"
    },
    "papermill": {
     "duration": 0.515659,
     "end_time": "2020-11-26T13:38:02.471145",
     "exception": false,
     "start_time": "2020-11-26T13:38:01.955486",
     "status": "completed"
    },
    "tags": []
   },
   "outputs": [
    {
     "data": {
      "text/plain": [
       "{'updated': '2020-11-26',\n",
       " 'since': '2020-11-25',\n",
       " 'Cases': 9269861,\n",
       " 'PCases': 9266697,\n",
       " 'Deaths': 135296,\n",
       " 'PDeaths': 135261,\n",
       " 'Cases (+)': 3164,\n",
       " 'Deaths (+)': 35}"
      ]
     },
     "execution_count": 14,
     "metadata": {},
     "output_type": "execute_result"
    }
   ],
   "source": [
    "#hide\n",
    "summary = {'updated':dates[-1], 'since':dates[-2]}\n",
    "list_names = ['Cases', 'PCases', 'Deaths', 'PDeaths', 'Cases (+)', 'Deaths (+)']\n",
    "for name in list_names:\n",
    "    summary[name] = df_table.sum()[name]\n",
    "summary"
   ]
  },
  {
   "cell_type": "code",
   "execution_count": 15,
   "metadata": {
    "execution": {
     "iopub.execute_input": "2020-11-26T13:38:03.912322Z",
     "iopub.status.busy": "2020-11-26T13:38:03.911738Z",
     "iopub.status.idle": "2020-11-26T13:38:03.912893Z",
     "shell.execute_reply": "2020-11-26T13:38:03.913377Z"
    },
    "papermill": {
     "duration": 0.757526,
     "end_time": "2020-11-26T13:38:03.913534",
     "exception": false,
     "start_time": "2020-11-26T13:38:03.156008",
     "status": "completed"
    },
    "tags": []
   },
   "outputs": [],
   "source": [
    "#hide\n",
    "overview = '''\n",
    "<!-- #######  HTML!! #########-->\n",
    "<h1 style=\"color: #5e9ca0; text-align: center;\">India</h1>\n",
    "<p style=\"text-align: center;\">Last update: <strong>{update}</strong></p>\n",
    "<p style=\"text-align: center;\">Confirmed cases:</p>\n",
    "<p style=\"text-align: center;font-size:24px;\">{cases} (<span style=\"color: #ff0000;\">+{new}</span>)</p>\n",
    "<p style=\"text-align: center;\">Confirmed deaths:</p>\n",
    "<p style=\"text-align: center;font-size:24px;\">{deaths} (<span style=\"color: #ff0000;\">+{dnew}</span>)</p>\n",
    "'''"
   ]
  },
  {
   "cell_type": "code",
   "execution_count": 16,
   "metadata": {
    "execution": {
     "iopub.execute_input": "2020-11-26T13:38:03.942345Z",
     "iopub.status.busy": "2020-11-26T13:38:03.941913Z",
     "iopub.status.idle": "2020-11-26T13:38:03.944786Z",
     "shell.execute_reply": "2020-11-26T13:38:03.944320Z"
    },
    "papermill": {
     "duration": 0.019427,
     "end_time": "2020-11-26T13:38:03.944909",
     "exception": false,
     "start_time": "2020-11-26T13:38:03.925482",
     "status": "completed"
    },
    "tags": []
   },
   "outputs": [
    {
     "data": {
      "text/html": [
       "\n",
       "<!-- #######  HTML!! #########-->\n",
       "<h1 style=\"color: #5e9ca0; text-align: center;\">India</h1>\n",
       "<p style=\"text-align: center;\">Last update: <strong>2020-11-26</strong></p>\n",
       "<p style=\"text-align: center;\">Confirmed cases:</p>\n",
       "<p style=\"text-align: center;font-size:24px;\">9269861 (<span style=\"color: #ff0000;\">+3164</span>)</p>\n",
       "<p style=\"text-align: center;\">Confirmed deaths:</p>\n",
       "<p style=\"text-align: center;font-size:24px;\">135296 (<span style=\"color: #ff0000;\">+35</span>)</p>\n"
      ],
      "text/plain": [
       "<IPython.core.display.HTML object>"
      ]
     },
     "metadata": {},
     "output_type": "display_data"
    }
   ],
   "source": [
    "#hide_input\n",
    "update = summary['updated']\n",
    "cases = summary['Cases']\n",
    "new = summary['Cases (+)']\n",
    "deaths = summary['Deaths']\n",
    "dnew = summary['Deaths (+)']\n",
    "\n",
    "html = HTML(overview.format(update=update, cases=cases,new=new,deaths=deaths,dnew=dnew))\n",
    "\n",
    "display(html)"
   ]
  },
  {
   "cell_type": "code",
   "execution_count": 17,
   "metadata": {
    "execution": {
     "iopub.execute_input": "2020-11-26T13:38:03.976266Z",
     "iopub.status.busy": "2020-11-26T13:38:03.975664Z",
     "iopub.status.idle": "2020-11-26T13:38:03.981596Z",
     "shell.execute_reply": "2020-11-26T13:38:03.981190Z"
    },
    "papermill": {
     "duration": 0.024467,
     "end_time": "2020-11-26T13:38:03.981677",
     "exception": false,
     "start_time": "2020-11-26T13:38:03.957210",
     "status": "completed"
    },
    "tags": []
   },
   "outputs": [],
   "source": [
    "#hide\n",
    "dt_cols = list(dft_cases.columns[1:])\n",
    "dft_ct_new_cases = dft_cases.groupby('state')[dt_cols].sum().diff(axis=1).fillna(0).astype(int)\n",
    "dft_ct_new_cases.sort_values(by = dates[-1], ascending = False,inplace = True)"
   ]
  },
  {
   "cell_type": "code",
   "execution_count": 18,
   "metadata": {
    "execution": {
     "iopub.execute_input": "2020-11-26T13:38:04.022549Z",
     "iopub.status.busy": "2020-11-26T13:38:04.022139Z",
     "iopub.status.idle": "2020-11-26T13:38:04.024728Z",
     "shell.execute_reply": "2020-11-26T13:38:04.025080Z"
    },
    "papermill": {
     "duration": 0.030762,
     "end_time": "2020-11-26T13:38:04.025171",
     "exception": false,
     "start_time": "2020-11-26T13:38:03.994409",
     "status": "completed"
    },
    "tags": []
   },
   "outputs": [
    {
     "data": {
      "text/html": [
       "<div>\n",
       "<style scoped>\n",
       "    .dataframe tbody tr th:only-of-type {\n",
       "        vertical-align: middle;\n",
       "    }\n",
       "\n",
       "    .dataframe tbody tr th {\n",
       "        vertical-align: top;\n",
       "    }\n",
       "\n",
       "    .dataframe thead th {\n",
       "        text-align: right;\n",
       "    }\n",
       "</style>\n",
       "<table border=\"1\" class=\"dataframe\">\n",
       "  <thead>\n",
       "    <tr style=\"text-align: right;\">\n",
       "      <th>states</th>\n",
       "      <th>2020-07-01</th>\n",
       "      <th>2020-07-02</th>\n",
       "      <th>2020-07-03</th>\n",
       "      <th>2020-07-04</th>\n",
       "      <th>2020-07-05</th>\n",
       "      <th>2020-07-06</th>\n",
       "      <th>2020-07-07</th>\n",
       "      <th>2020-07-08</th>\n",
       "      <th>2020-07-09</th>\n",
       "      <th>2020-07-10</th>\n",
       "      <th>...</th>\n",
       "      <th>2020-11-17</th>\n",
       "      <th>2020-11-18</th>\n",
       "      <th>2020-11-19</th>\n",
       "      <th>2020-11-20</th>\n",
       "      <th>2020-11-21</th>\n",
       "      <th>2020-11-22</th>\n",
       "      <th>2020-11-23</th>\n",
       "      <th>2020-11-24</th>\n",
       "      <th>2020-11-25</th>\n",
       "      <th>2020-11-26</th>\n",
       "    </tr>\n",
       "    <tr>\n",
       "      <th>state</th>\n",
       "      <th></th>\n",
       "      <th></th>\n",
       "      <th></th>\n",
       "      <th></th>\n",
       "      <th></th>\n",
       "      <th></th>\n",
       "      <th></th>\n",
       "      <th></th>\n",
       "      <th></th>\n",
       "      <th></th>\n",
       "      <th></th>\n",
       "      <th></th>\n",
       "      <th></th>\n",
       "      <th></th>\n",
       "      <th></th>\n",
       "      <th></th>\n",
       "      <th></th>\n",
       "      <th></th>\n",
       "      <th></th>\n",
       "      <th></th>\n",
       "      <th></th>\n",
       "    </tr>\n",
       "  </thead>\n",
       "  <tbody>\n",
       "    <tr>\n",
       "      <th>Andhra Pradesh</th>\n",
       "      <td>0</td>\n",
       "      <td>845</td>\n",
       "      <td>837</td>\n",
       "      <td>765</td>\n",
       "      <td>998</td>\n",
       "      <td>1322</td>\n",
       "      <td>1178</td>\n",
       "      <td>1062</td>\n",
       "      <td>1555</td>\n",
       "      <td>1608</td>\n",
       "      <td>...</td>\n",
       "      <td>1395</td>\n",
       "      <td>1236</td>\n",
       "      <td>1316</td>\n",
       "      <td>1221</td>\n",
       "      <td>1160</td>\n",
       "      <td>1121</td>\n",
       "      <td>545</td>\n",
       "      <td>1085</td>\n",
       "      <td>831</td>\n",
       "      <td>1031</td>\n",
       "    </tr>\n",
       "    <tr>\n",
       "      <th>Telangana</th>\n",
       "      <td>0</td>\n",
       "      <td>1213</td>\n",
       "      <td>1892</td>\n",
       "      <td>1850</td>\n",
       "      <td>1590</td>\n",
       "      <td>1831</td>\n",
       "      <td>1879</td>\n",
       "      <td>1924</td>\n",
       "      <td>1410</td>\n",
       "      <td>1278</td>\n",
       "      <td>...</td>\n",
       "      <td>952</td>\n",
       "      <td>948</td>\n",
       "      <td>1058</td>\n",
       "      <td>894</td>\n",
       "      <td>925</td>\n",
       "      <td>873</td>\n",
       "      <td>602</td>\n",
       "      <td>921</td>\n",
       "      <td>993</td>\n",
       "      <td>862</td>\n",
       "    </tr>\n",
       "    <tr>\n",
       "      <th>Odisha</th>\n",
       "      <td>0</td>\n",
       "      <td>229</td>\n",
       "      <td>561</td>\n",
       "      <td>495</td>\n",
       "      <td>469</td>\n",
       "      <td>456</td>\n",
       "      <td>571</td>\n",
       "      <td>527</td>\n",
       "      <td>577</td>\n",
       "      <td>755</td>\n",
       "      <td>...</td>\n",
       "      <td>644</td>\n",
       "      <td>868</td>\n",
       "      <td>868</td>\n",
       "      <td>757</td>\n",
       "      <td>778</td>\n",
       "      <td>638</td>\n",
       "      <td>668</td>\n",
       "      <td>642</td>\n",
       "      <td>730</td>\n",
       "      <td>644</td>\n",
       "    </tr>\n",
       "    <tr>\n",
       "      <th>Jammu and Kashmir</th>\n",
       "      <td>0</td>\n",
       "      <td>154</td>\n",
       "      <td>170</td>\n",
       "      <td>227</td>\n",
       "      <td>183</td>\n",
       "      <td>246</td>\n",
       "      <td>256</td>\n",
       "      <td>330</td>\n",
       "      <td>240</td>\n",
       "      <td>387</td>\n",
       "      <td>...</td>\n",
       "      <td>572</td>\n",
       "      <td>574</td>\n",
       "      <td>560</td>\n",
       "      <td>661</td>\n",
       "      <td>608</td>\n",
       "      <td>564</td>\n",
       "      <td>351</td>\n",
       "      <td>431</td>\n",
       "      <td>489</td>\n",
       "      <td>487</td>\n",
       "    </tr>\n",
       "    <tr>\n",
       "      <th>Nagaland</th>\n",
       "      <td>0</td>\n",
       "      <td>34</td>\n",
       "      <td>4</td>\n",
       "      <td>24</td>\n",
       "      <td>27</td>\n",
       "      <td>35</td>\n",
       "      <td>19</td>\n",
       "      <td>13</td>\n",
       "      <td>16</td>\n",
       "      <td>59</td>\n",
       "      <td>...</td>\n",
       "      <td>163</td>\n",
       "      <td>178</td>\n",
       "      <td>94</td>\n",
       "      <td>148</td>\n",
       "      <td>66</td>\n",
       "      <td>103</td>\n",
       "      <td>75</td>\n",
       "      <td>79</td>\n",
       "      <td>60</td>\n",
       "      <td>69</td>\n",
       "    </tr>\n",
       "  </tbody>\n",
       "</table>\n",
       "<p>5 rows × 149 columns</p>\n",
       "</div>"
      ],
      "text/plain": [
       "states             2020-07-01  2020-07-02  2020-07-03  2020-07-04  2020-07-05  \\\n",
       "state                                                                           \n",
       "Andhra Pradesh              0         845         837         765         998   \n",
       "Telangana                   0        1213        1892        1850        1590   \n",
       "Odisha                      0         229         561         495         469   \n",
       "Jammu and Kashmir           0         154         170         227         183   \n",
       "Nagaland                    0          34           4          24          27   \n",
       "\n",
       "states             2020-07-06  2020-07-07  2020-07-08  2020-07-09  2020-07-10  \\\n",
       "state                                                                           \n",
       "Andhra Pradesh           1322        1178        1062        1555        1608   \n",
       "Telangana                1831        1879        1924        1410        1278   \n",
       "Odisha                    456         571         527         577         755   \n",
       "Jammu and Kashmir         246         256         330         240         387   \n",
       "Nagaland                   35          19          13          16          59   \n",
       "\n",
       "states             ...  2020-11-17  2020-11-18  2020-11-19  2020-11-20  \\\n",
       "state              ...                                                   \n",
       "Andhra Pradesh     ...        1395        1236        1316        1221   \n",
       "Telangana          ...         952         948        1058         894   \n",
       "Odisha             ...         644         868         868         757   \n",
       "Jammu and Kashmir  ...         572         574         560         661   \n",
       "Nagaland           ...         163         178          94         148   \n",
       "\n",
       "states             2020-11-21  2020-11-22  2020-11-23  2020-11-24  2020-11-25  \\\n",
       "state                                                                           \n",
       "Andhra Pradesh           1160        1121         545        1085         831   \n",
       "Telangana                 925         873         602         921         993   \n",
       "Odisha                    778         638         668         642         730   \n",
       "Jammu and Kashmir         608         564         351         431         489   \n",
       "Nagaland                   66         103          75          79          60   \n",
       "\n",
       "states             2020-11-26  \n",
       "state                          \n",
       "Andhra Pradesh           1031  \n",
       "Telangana                 862  \n",
       "Odisha                    644  \n",
       "Jammu and Kashmir         487  \n",
       "Nagaland                   69  \n",
       "\n",
       "[5 rows x 149 columns]"
      ]
     },
     "execution_count": 18,
     "metadata": {},
     "output_type": "execute_result"
    }
   ],
   "source": [
    "#hide\n",
    "dft_ct_new_cases.head()"
   ]
  },
  {
   "cell_type": "code",
   "execution_count": 19,
   "metadata": {
    "execution": {
     "iopub.execute_input": "2020-11-26T13:38:04.074261Z",
     "iopub.status.busy": "2020-11-26T13:38:04.063923Z",
     "iopub.status.idle": "2020-11-26T13:38:08.125020Z",
     "shell.execute_reply": "2020-11-26T13:38:08.125503Z"
    },
    "papermill": {
     "duration": 4.087187,
     "end_time": "2020-11-26T13:38:08.125657",
     "exception": false,
     "start_time": "2020-11-26T13:38:04.038470",
     "status": "completed"
    },
    "tags": []
   },
   "outputs": [
    {
     "data": {
      "image/png": "[encoded data removed]",
      "text/plain": [
       "<Figure size 1296x2016 with 11 Axes>"
      ]
     },
     "metadata": {
      "needs_background": "light"
     },
     "output_type": "display_data"
    }
   ],
   "source": [
    "#hide_input\n",
    "df = dft_ct_new_cases.copy()\n",
    "df.loc['Total'] = df.sum()\n",
    "n = 5\n",
    "ax = []\n",
    "fig = plt.figure(figsize = (18,28))\n",
    "gs = fig.add_gridspec(n+2, 5)\n",
    "# gs = fig.add_gridspec(2, 3)\n",
    "ax1 = fig.add_subplot(gs[0, :])\n",
    "ef = df.loc['Total'].rename_axis('date').reset_index()\n",
    "ef['date'] = ef['date'].astype('datetime64[ns]')\n",
    "ax1.bar(ef.date,ef.Total,alpha=0.3,color='#007acc')\n",
    "ax1.plot(ef.date,ef.Total , marker=\"o\", color='#007acc')\n",
    "ax1.xaxis.set_major_locator(mdates.WeekdayLocator())\n",
    "ax1.xaxis.set_major_formatter(mdates.DateFormatter('%b %d'))\n",
    "ax1.text(0.02, 0.5,'India daily case count', transform = ax1.transAxes, fontsize=25);\n",
    "ax1.spines['right'].set_visible(False)\n",
    "ax1.spines['top'].set_visible(False)\n",
    "\n",
    "ax2 = fig.add_subplot(gs[1,0])\n",
    "ef = df.loc['Maharashtra'].rename_axis('date').reset_index()\n",
    "ef['date'] = ef['date'].astype('datetime64[ns]')\n",
    "\n",
    "ax2.bar(ef.date, ef.Maharashtra,color = '#007acc',alpha=0.5)\n",
    "ax2.xaxis.set_major_locator(mdates.WeekdayLocator())\n",
    "ax2.xaxis.set_major_formatter(mdates.DateFormatter('%b %d'))\n",
    "ax2.set_xticks(ax2.get_xticks()[::3])\n",
    "maxyval = ef.Maharashtra.max()\n",
    "ax2.set_ylim([0,maxyval])\n",
    "ax2.text(0.05, 0.9,'Maharashtra', transform = ax2.transAxes, fontsize=20);\n",
    "ax2.spines['right'].set_visible(False)\n",
    "ax2.spines['top'].set_visible(False)\n",
    "\n",
    "\n",
    "ax3 = fig.add_subplot(gs[1,1])\n",
    "ef = df.loc['Tamil Nadu'].rename_axis('date').reset_index()\n",
    "ef['date'] = ef['date'].astype('datetime64[ns]')\n",
    "ax3.bar(ef.date, ef['Tamil Nadu'],color = '#007acc',alpha=0.5,)\n",
    "ax3.xaxis.set_major_locator(mdates.WeekdayLocator())\n",
    "ax3.xaxis.set_major_formatter(mdates.DateFormatter('%b %d'))\n",
    "ax3.set_xticks(ax3.get_xticks()[::3])\n",
    "ax3.text(0.05, 0.9,'Tamil Nadu', transform = ax3.transAxes, fontsize=20);\n",
    "ax3.spines['right'].set_visible(False)\n",
    "ax3.spines['top'].set_visible(False)\n",
    "\n",
    "ax5 = fig.add_subplot(gs[1,3])\n",
    "ef = df.loc['Telangana'].rename_axis('date').reset_index()\n",
    "ef['date'] = ef['date'].astype('datetime64[ns]')\n",
    "ax5.bar(ef.date, ef['Telangana'],color = '#007acc',alpha=0.5,)\n",
    "ax5.xaxis.set_major_locator(mdates.WeekdayLocator())\n",
    "ax5.xaxis.set_major_formatter(mdates.DateFormatter('%b %d'))\n",
    "ax5.set_xticks(ax5.get_xticks()[::3])\n",
    "ax5.text(0.05, 0.9,'Telangana', transform = ax5.transAxes, fontsize=20);\n",
    "ax5.spines['right'].set_visible(False)\n",
    "ax5.spines['top'].set_visible(False)\n",
    "\n",
    "ax6 = fig.add_subplot(gs[1,4])\n",
    "ef = df.loc['Andhra Pradesh'].rename_axis('date').reset_index()\n",
    "ef['date'] = ef['date'].astype('datetime64[ns]')\n",
    "ax6.bar(ef.date, ef['Andhra Pradesh'],color = '#007acc',alpha=0.5,)\n",
    "ax6.xaxis.set_major_locator(mdates.WeekdayLocator())\n",
    "ax6.xaxis.set_major_formatter(mdates.DateFormatter('%b %d'))\n",
    "ax6.set_xticks(ax6.get_xticks()[::3])\n",
    "ax6.text(0.05, 1,'Andhra Pradesh', transform = ax6.transAxes, fontsize=20);\n",
    "ax6.spines['right'].set_visible(False)\n",
    "ax6.spines['top'].set_visible(False)\n",
    "\n",
    "ax4 = fig.add_subplot(gs[1,2])\n",
    "ef = df.loc['Delhi'].rename_axis('date').reset_index()\n",
    "ef['date'] = ef['date'].astype('datetime64[ns]')\n",
    "ax4.bar(ef.date, ef.Delhi,color = '#007acc',alpha=0.5)\n",
    "ax4.set_xticks([])\n",
    "ax4.xaxis.set_major_locator(mdates.WeekdayLocator())\n",
    "ax4.xaxis.set_major_formatter(mdates.DateFormatter('%b %d'))\n",
    "ax4.set_xticks(ax4.get_xticks()[::3])\n",
    "ax4.spines['right'].set_visible(False)\n",
    "ax4.spines['top'].set_visible(False)\n",
    "\n",
    "ax4.text(0.05, 1,'Delhi', transform = ax4.transAxes, fontsize=20)\n",
    "\n",
    "for i in range(n):\n",
    "    \n",
    "    ax.append(fig.add_subplot(gs[i+2,:]))\n",
    "    ef = df.iloc[i+3].rename_axis('date').reset_index()\n",
    "    ef['date'] = ef['date'].astype('datetime64[ns]')\n",
    "    ax[i].bar(ef.date,ef.iloc[:,-1],color = '#007acc',alpha=0.3)\n",
    "    ax[i].plot(ef.date,ef.iloc[:,-1],marker='o',color='#007acc')\n",
    "    ax[i].text(0.02,0.5,f'{ef.columns.values[-1]}',transform = ax[i].transAxes, fontsize = 20);\n",
    "    ax[i].xaxis.set_major_locator(mdates.WeekdayLocator())\n",
    "    ax[i].xaxis.set_major_formatter(mdates.DateFormatter('%b %d'))\n",
    "    ax[i].set_ylim([0,7000])\n",
    "    ax[i].spines['right'].set_visible(False)\n",
    "    ax[i].spines['top'].set_visible(False)\n",
    "plt.tight_layout()\n"
   ]
  },
  {
   "cell_type": "code",
   "execution_count": 20,
   "metadata": {
    "execution": {
     "iopub.execute_input": "2020-11-26T13:38:08.170728Z",
     "iopub.status.busy": "2020-11-26T13:38:08.170218Z",
     "iopub.status.idle": "2020-11-26T13:38:08.173909Z",
     "shell.execute_reply": "2020-11-26T13:38:08.173525Z"
    },
    "papermill": {
     "duration": 0.031121,
     "end_time": "2020-11-26T13:38:08.174012",
     "exception": false,
     "start_time": "2020-11-26T13:38:08.142891",
     "status": "completed"
    },
    "tags": []
   },
   "outputs": [
    {
     "name": "stdout",
     "output_type": "stream",
     "text": [
      "                                   states    Cases  Deaths   PCases  PDeaths  Cases (+)  Deaths (+)  Fatality Rate\n",
      "                              Maharashtra  1795959   46748  1795959    46748          0           0           2.60\n",
      "                                Karnataka   878055   11714   878055    11714          0           0           1.33\n",
      "                           Andhra Pradesh   865705    6970   864674     6962       1031           8           0.81\n",
      "                               Tamil Nadu   774710   11655   774710    11655          0           0           1.50\n",
      "                                   Kerala   578364    2122   578364     2122          0           0           0.37\n",
      "                                    Delhi   545787    8720   545787     8720          0           0           1.60\n",
      "                            Uttar Pradesh   533355    7644   533355     7644          0           0           1.43\n",
      "                              West Bengal   466991    8172   466991     8172          0           0           1.75\n",
      "                                   Odisha   316645    1757   316001     1740        644          17           0.55\n",
      "                                Telangana   266904    1444   266042     1441        862           3           0.54\n",
      "                                Rajasthan   253767    2218   253767     2218          0           0           0.87\n",
      "                                    Bihar   232460    1237   232460     1237          0           0           0.53\n",
      "                             Chhattisgarh   229203    2783   229203     2783          0           0           1.21\n",
      "                                  Haryana   224489    2291   224489     2291          0           0           1.02\n",
      "                                    Assam   212021     978   212021      978          0           0           0.46\n",
      "                                  Gujarat   201949    3906   201949     3906          0           0           1.93\n",
      "                           Madhya Pradesh   198284    3197   198284     3197          0           0           1.61\n",
      "                                   Punjab   148435    4684   148435     4684          0           0           3.16\n",
      "                        Jammu and Kashmir   108306    1668   107819     1663        487           5           1.54\n",
      "                                Jharkhand   108158     958   108158      958          0           0           0.89\n",
      "                              Uttarakhand    72642    1185    72642     1185          0           0           1.63\n",
      "                                      Goa    47193     683    47193      683          0           0           1.45\n",
      "                               Puducherry    36820     609    36820      609          0           0           1.65\n",
      "                         Himachal Pradesh    36566     575    36566      575          0           0           1.57\n",
      "                                  Tripura    32575     367    32525      367         50           0           1.13\n",
      "                                  Manipur    24133     245    24133      245          0           0           1.02\n",
      "                               Chandigarh    16935     266    16935      266          0           0           1.57\n",
      "                        Arunachal Pradesh    16174      49    16174       49          0           0           0.30\n",
      "                                Meghalaya    11513     110    11513      110          0           0           0.96\n",
      "                                 Nagaland    11060      63    10991       61         69           2           0.57\n",
      "                                   Ladakh     8119     108     8119      108          0           0           1.33\n",
      "                                   Sikkim     4819     102     4819      102          0           0           2.12\n",
      "              Andaman and Nicobar Islands     4677      61     4677       61          0           0           1.30\n",
      "                                  Mizoram     3765       5     3745        5         20           0           0.13\n",
      " Dadra and Nagar Haveli and Daman and Diu     3323       2     3322        2          1           0           0.06\n",
      "                              Lakshadweep        0       0        0        0          0           0            NaN\n"
     ]
    }
   ],
   "source": [
    "#hide_input\n",
    "print(df_table.to_string(index=False))"
   ]
  },
  {
   "cell_type": "code",
   "execution_count": null,
   "metadata": {
    "papermill": {
     "duration": 0.017926,
     "end_time": "2020-11-26T13:38:08.210006",
     "exception": false,
     "start_time": "2020-11-26T13:38:08.192080",
     "status": "completed"
    },
    "tags": []
   },
   "outputs": [],
   "source": []
  },
  {
   "cell_type": "code",
   "execution_count": null,
   "metadata": {
    "papermill": {
     "duration": 0.016981,
     "end_time": "2020-11-26T13:38:08.245064",
     "exception": false,
     "start_time": "2020-11-26T13:38:08.228083",
     "status": "completed"
    },
    "tags": []
   },
   "outputs": [],
   "source": []
  }
 ],
 "metadata": {
  "kernelspec": {
   "display_name": "Python 3",
   "language": "python",
   "name": "python3"
  },
  "language_info": {
   "codemirror_mode": {
    "name": "ipython",
    "version": 3
   },
   "file_extension": ".py",
   "mimetype": "text/x-python",
   "name": "python",
   "nbconvert_exporter": "python",
   "pygments_lexer": "ipython3",
   "version": "3.6.12"
  },
  "papermill": {
   "duration": 11.960113,
   "end_time": "2020-11-26T13:38:08.668460",
   "environment_variables": {},
   "exception": null,
   "input_path": "latest.ipynb",
   "output_path": "latest.ipynb",
   "parameters": {},
   "start_time": "2020-11-26T13:37:56.708347",
   "version": "2.1.2"
  }
 },
 "nbformat": 4,
 "nbformat_minor": 4
}