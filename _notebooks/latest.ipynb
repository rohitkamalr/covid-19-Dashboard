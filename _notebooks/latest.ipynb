{
 "cells": [
  {
   "cell_type": "markdown",
   "id": "colored-stack",
   "metadata": {
    "papermill": {
     "duration": 0.020823,
     "end_time": "2021-05-11T13:44:04.405639",
     "exception": false,
     "start_time": "2021-05-11T13:44:04.384816",
     "status": "completed"
    },
    "tags": []
   },
   "source": [
    "# Latest COVID-19 India Matplotlib Overview"
   ]
  },
  {
   "cell_type": "code",
   "execution_count": 1,
   "id": "light-proportion",
   "metadata": {
    "execution": {
     "iopub.execute_input": "2021-05-11T13:44:04.447954Z",
     "iopub.status.busy": "2021-05-11T13:44:04.447411Z",
     "iopub.status.idle": "2021-05-11T13:44:04.983458Z",
     "shell.execute_reply": "2021-05-11T13:44:04.982896Z"
    },
    "papermill": {
     "duration": 0.562124,
     "end_time": "2021-05-11T13:44:04.983605",
     "exception": false,
     "start_time": "2021-05-11T13:44:04.421481",
     "status": "completed"
    },
    "tags": []
   },
   "outputs": [],
   "source": [
    "#hide\n",
    "import pandas as pd\n",
    "import numpy as np\n",
    "import requests\n",
    "import json\n",
    "import matplotlib.pyplot as plt\n",
    "import matplotlib.dates as mdates\n",
    "import matplotlib as mpl\n",
    "from IPython.core.display import display,HTML\n",
    "%matplotlib inline\n",
    "from datetime import date"
   ]
  },
  {
   "cell_type": "code",
   "execution_count": 2,
   "id": "greenhouse-shooting",
   "metadata": {
    "execution": {
     "iopub.execute_input": "2021-05-11T13:44:05.022535Z",
     "iopub.status.busy": "2021-05-11T13:44:05.021973Z",
     "iopub.status.idle": "2021-05-11T13:44:05.209620Z",
     "shell.execute_reply": "2021-05-11T13:44:05.209115Z"
    },
    "papermill": {
     "duration": 0.210047,
     "end_time": "2021-05-11T13:44:05.209737",
     "exception": false,
     "start_time": "2021-05-11T13:44:04.999690",
     "status": "completed"
    },
    "tags": []
   },
   "outputs": [],
   "source": [
    "#hide\n",
    "df  = pd.read_csv('https://api.covid19india.org/csv/latest/states.csv')\n",
    "df = df[['Date','State','Confirmed','Deceased']]\n",
    "df = df.rename(columns={'Confirmed':'Cases', \"Deceased\":'Deaths'})\n",
    "df_cases = df[[\"Date\",'State','Cases']]\n",
    "df_deaths = df[['Date','State','Deaths']]\n",
    "df_cases1 = df_cases.groupby('Date')\n",
    "df_deaths1= df_deaths.groupby('Date')"
   ]
  },
  {
   "cell_type": "code",
   "execution_count": 3,
   "id": "hybrid-cathedral",
   "metadata": {
    "execution": {
     "iopub.execute_input": "2021-05-11T13:44:05.245565Z",
     "iopub.status.busy": "2021-05-11T13:44:05.245062Z",
     "iopub.status.idle": "2021-05-11T13:44:05.262134Z",
     "shell.execute_reply": "2021-05-11T13:44:05.261645Z"
    },
    "papermill": {
     "duration": 0.036981,
     "end_time": "2021-05-11T13:44:05.262245",
     "exception": false,
     "start_time": "2021-05-11T13:44:05.225264",
     "status": "completed"
    },
    "tags": []
   },
   "outputs": [],
   "source": [
    "#hide\n",
    "df_snap = pd.read_csv('data/SnapshotCases-28-July.csv')\n",
    "arr_states = df_snap['states'].unique()\n",
    "arr_dates = df['Date'].unique()\n",
    "df_snap = df_snap.set_index('states')"
   ]
  },
  {
   "cell_type": "code",
   "execution_count": 4,
   "id": "interior-belfast",
   "metadata": {
    "execution": {
     "iopub.execute_input": "2021-05-11T13:44:05.301013Z",
     "iopub.status.busy": "2021-05-11T13:44:05.300386Z",
     "iopub.status.idle": "2021-05-11T13:44:05.302522Z",
     "shell.execute_reply": "2021-05-11T13:44:05.303091Z"
    },
    "papermill": {
     "duration": 0.025711,
     "end_time": "2021-05-11T13:44:05.303234",
     "exception": false,
     "start_time": "2021-05-11T13:44:05.277523",
     "status": "completed"
    },
    "tags": []
   },
   "outputs": [
    {
     "data": {
      "text/plain": [
       "array(['Andaman and Nicobar Islands', 'Andhra Pradesh',\n",
       "       'Arunachal Pradesh', 'Assam', 'Bihar', 'Chandigarh',\n",
       "       'Dadra and Nagar Haveli and Daman and Diu', 'Delhi', 'Goa',\n",
       "       'Gujarat', 'Haryana', 'Himachal Pradesh', 'Jammu and Kashmir',\n",
       "       'Jharkhand', 'Karnataka', 'Kerala', 'Lakshadweep',\n",
       "       'Madhya Pradesh', 'Maharashtra', 'Manipur', 'Meghalaya', 'Mizoram',\n",
       "       'Nagaland', 'Odisha', 'Puducherry', 'Punjab', 'Rajasthan',\n",
       "       'Sikkim', 'Tamil Nadu', 'Telangana', 'Tripura', 'Uttar Pradesh',\n",
       "       'West Bengal', 'Chhattisgarh', 'Ladakh', 'Uttarakhand'],\n",
       "      dtype=object)"
      ]
     },
     "execution_count": 4,
     "metadata": {},
     "output_type": "execute_result"
    }
   ],
   "source": [
    "#hide\n",
    "arr_states[-9] = 'Puducherry'\n",
    "arr_states[-10] = 'Odisha'\n",
    "arr_states[6] = 'Dadra and Nagar Haveli and Daman and Diu'\n",
    "arr_states = np.append(arr_states,np.array(['Chhattisgarh','Ladakh','Uttarakhand']))\n",
    "arr_states"
   ]
  },
  {
   "cell_type": "code",
   "execution_count": 5,
   "id": "behind-manner",
   "metadata": {
    "execution": {
     "iopub.execute_input": "2021-05-11T13:44:05.346295Z",
     "iopub.status.busy": "2021-05-11T13:44:05.345769Z",
     "iopub.status.idle": "2021-05-11T13:44:05.354183Z",
     "shell.execute_reply": "2021-05-11T13:44:05.354617Z"
    },
    "papermill": {
     "duration": 0.036034,
     "end_time": "2021-05-11T13:44:05.354746",
     "exception": false,
     "start_time": "2021-05-11T13:44:05.318712",
     "status": "completed"
    },
    "tags": []
   },
   "outputs": [],
   "source": [
    "#hide\n",
    "dates = []\n",
    "for i in arr_dates:\n",
    "    if i>='2020-07-01':\n",
    "        dates.append(i)\n",
    "dict = {'states':dates}\n",
    "for i in arr_states:\n",
    "    dict[i] = [0]*len(dates)\n",
    "dft_cases = pd.DataFrame(dict)\n",
    "dft_deaths = pd.DataFrame(dict)\n"
   ]
  },
  {
   "cell_type": "code",
   "execution_count": 6,
   "id": "simplified-peter",
   "metadata": {
    "execution": {
     "iopub.execute_input": "2021-05-11T13:44:05.392840Z",
     "iopub.status.busy": "2021-05-11T13:44:05.392310Z",
     "iopub.status.idle": "2021-05-11T13:44:09.422965Z",
     "shell.execute_reply": "2021-05-11T13:44:09.422492Z"
    },
    "papermill": {
     "duration": 4.05252,
     "end_time": "2021-05-11T13:44:09.423086",
     "exception": false,
     "start_time": "2021-05-11T13:44:05.370566",
     "status": "completed"
    },
    "tags": []
   },
   "outputs": [],
   "source": [
    "#hide\n",
    "for i in range(len(dates)):\n",
    "    df1_deaths = df_deaths1.get_group(dates[i])\n",
    "    for j in range(len(df1_deaths.index)):\n",
    "        if df1_deaths.iloc[j,1] in arr_states:\n",
    "            dft_deaths.loc[i,df1_deaths.iloc[j,1]] = df1_deaths.iloc[j,2]\n",
    "dft_deaths = dft_deaths.set_index('states')"
   ]
  },
  {
   "cell_type": "code",
   "execution_count": 7,
   "id": "geological-welding",
   "metadata": {
    "execution": {
     "iopub.execute_input": "2021-05-11T13:44:09.460925Z",
     "iopub.status.busy": "2021-05-11T13:44:09.460393Z",
     "iopub.status.idle": "2021-05-11T13:44:13.482752Z",
     "shell.execute_reply": "2021-05-11T13:44:13.481882Z"
    },
    "papermill": {
     "duration": 4.044132,
     "end_time": "2021-05-11T13:44:13.482915",
     "exception": false,
     "start_time": "2021-05-11T13:44:09.438783",
     "status": "completed"
    },
    "tags": []
   },
   "outputs": [],
   "source": [
    "#hide\n",
    "for i in range(len(dates)):\n",
    "    df1_cases = df_cases1.get_group(dates[i])\n",
    "    for j in range(len(df1_cases.index)):\n",
    "        if df1_cases.iloc[j,1] in arr_states:\n",
    "            dft_cases.loc[i,df1_cases.iloc[j,1]] = df1_cases.iloc[j,2]\n",
    "dft_cases = dft_cases.set_index('states')"
   ]
  },
  {
   "cell_type": "code",
   "execution_count": 8,
   "id": "binary-ratio",
   "metadata": {
    "execution": {
     "iopub.execute_input": "2021-05-11T13:44:13.520709Z",
     "iopub.status.busy": "2021-05-11T13:44:13.519412Z",
     "iopub.status.idle": "2021-05-11T13:44:13.521340Z",
     "shell.execute_reply": "2021-05-11T13:44:13.521787Z"
    },
    "papermill": {
     "duration": 0.023298,
     "end_time": "2021-05-11T13:44:13.521927",
     "exception": false,
     "start_time": "2021-05-11T13:44:13.498629",
     "status": "completed"
    },
    "tags": []
   },
   "outputs": [],
   "source": [
    "#hide\n",
    "dft_cases = dft_cases.T\n",
    "dft_deaths = dft_deaths.T\n",
    "dt_today = dates[-1]\n",
    "dt_yday = dates[-2]"
   ]
  },
  {
   "cell_type": "code",
   "execution_count": 9,
   "id": "boolean-calculator",
   "metadata": {
    "execution": {
     "iopub.execute_input": "2021-05-11T13:44:13.559080Z",
     "iopub.status.busy": "2021-05-11T13:44:13.558550Z",
     "iopub.status.idle": "2021-05-11T13:44:13.563325Z",
     "shell.execute_reply": "2021-05-11T13:44:13.562912Z"
    },
    "papermill": {
     "duration": 0.025436,
     "end_time": "2021-05-11T13:44:13.563439",
     "exception": false,
     "start_time": "2021-05-11T13:44:13.538003",
     "status": "completed"
    },
    "tags": []
   },
   "outputs": [],
   "source": [
    "#hide\n",
    "dft_cases = dft_cases.reset_index()\n",
    "dft_deaths = dft_deaths.reset_index()\n",
    "dft_cases = dft_cases.rename(columns = {'index':'state'})\n",
    "dft_deaths = dft_deaths.rename(columns = {'index':'state'})"
   ]
  },
  {
   "cell_type": "code",
   "execution_count": 10,
   "id": "invisible-johnston",
   "metadata": {
    "execution": {
     "iopub.execute_input": "2021-05-11T13:44:13.606074Z",
     "iopub.status.busy": "2021-05-11T13:44:13.605454Z",
     "iopub.status.idle": "2021-05-11T13:44:13.606893Z",
     "shell.execute_reply": "2021-05-11T13:44:13.607281Z"
    },
    "papermill": {
     "duration": 0.028465,
     "end_time": "2021-05-11T13:44:13.607420",
     "exception": false,
     "start_time": "2021-05-11T13:44:13.578955",
     "status": "completed"
    },
    "tags": []
   },
   "outputs": [],
   "source": [
    "#hide\n",
    "dfc_cases = dft_cases.groupby('state')[dt_today].sum()\n",
    "dfc_deaths = dft_deaths.groupby('state')[dt_today].sum()\n",
    "dfp_cases = dft_cases.groupby('state')[dt_yday].sum()\n",
    "dfp_deaths = dft_deaths.groupby('state')[dt_yday].sum()"
   ]
  },
  {
   "cell_type": "code",
   "execution_count": 11,
   "id": "measured-great",
   "metadata": {
    "execution": {
     "iopub.execute_input": "2021-05-11T13:44:13.646276Z",
     "iopub.status.busy": "2021-05-11T13:44:13.645745Z",
     "iopub.status.idle": "2021-05-11T13:44:13.659123Z",
     "shell.execute_reply": "2021-05-11T13:44:13.659552Z"
    },
    "papermill": {
     "duration": 0.036446,
     "end_time": "2021-05-11T13:44:13.659678",
     "exception": false,
     "start_time": "2021-05-11T13:44:13.623232",
     "status": "completed"
    },
    "tags": []
   },
   "outputs": [
    {
     "data": {
      "text/html": [
       "<div>\n",
       "<style scoped>\n",
       "    .dataframe tbody tr th:only-of-type {\n",
       "        vertical-align: middle;\n",
       "    }\n",
       "\n",
       "    .dataframe tbody tr th {\n",
       "        vertical-align: top;\n",
       "    }\n",
       "\n",
       "    .dataframe thead th {\n",
       "        text-align: right;\n",
       "    }\n",
       "</style>\n",
       "<table border=\"1\" class=\"dataframe\">\n",
       "  <thead>\n",
       "    <tr style=\"text-align: right;\">\n",
       "      <th></th>\n",
       "      <th>states</th>\n",
       "      <th>Cases</th>\n",
       "      <th>Deaths</th>\n",
       "      <th>PCases</th>\n",
       "      <th>PDeaths</th>\n",
       "    </tr>\n",
       "  </thead>\n",
       "  <tbody>\n",
       "    <tr>\n",
       "      <th>0</th>\n",
       "      <td>Maharashtra</td>\n",
       "      <td>5138973</td>\n",
       "      <td>76398</td>\n",
       "      <td>5138973</td>\n",
       "      <td>76398</td>\n",
       "    </tr>\n",
       "    <tr>\n",
       "      <th>1</th>\n",
       "      <td>Karnataka</td>\n",
       "      <td>1973683</td>\n",
       "      <td>19372</td>\n",
       "      <td>1973683</td>\n",
       "      <td>19372</td>\n",
       "    </tr>\n",
       "    <tr>\n",
       "      <th>2</th>\n",
       "      <td>Kerala</td>\n",
       "      <td>1930116</td>\n",
       "      <td>5880</td>\n",
       "      <td>1930116</td>\n",
       "      <td>5880</td>\n",
       "    </tr>\n",
       "    <tr>\n",
       "      <th>3</th>\n",
       "      <td>Uttar Pradesh</td>\n",
       "      <td>1545068</td>\n",
       "      <td>16040</td>\n",
       "      <td>1524767</td>\n",
       "      <td>15742</td>\n",
       "    </tr>\n",
       "    <tr>\n",
       "      <th>4</th>\n",
       "      <td>Tamil Nadu</td>\n",
       "      <td>1409237</td>\n",
       "      <td>15880</td>\n",
       "      <td>1409237</td>\n",
       "      <td>15880</td>\n",
       "    </tr>\n",
       "  </tbody>\n",
       "</table>\n",
       "</div>"
      ],
      "text/plain": [
       "          states    Cases  Deaths   PCases  PDeaths\n",
       "0    Maharashtra  5138973   76398  5138973    76398\n",
       "1      Karnataka  1973683   19372  1973683    19372\n",
       "2         Kerala  1930116    5880  1930116     5880\n",
       "3  Uttar Pradesh  1545068   16040  1524767    15742\n",
       "4     Tamil Nadu  1409237   15880  1409237    15880"
      ]
     },
     "execution_count": 11,
     "metadata": {},
     "output_type": "execute_result"
    }
   ],
   "source": [
    "#hide\n",
    "df_table = pd.DataFrame({'states': dfc_cases.index, 'Cases': dfc_cases.values, 'Deaths': dfc_deaths.values, 'PCases': dfp_cases.values, 'PDeaths': dfp_deaths.values}).set_index('states')\n",
    "df_table = df_table.sort_values(by = ['Cases','Deaths'], ascending = [False, False])\n",
    "df_table = df_table.reset_index()\n",
    "df_table.head()"
   ]
  },
  {
   "cell_type": "code",
   "execution_count": 12,
   "id": "found-montreal",
   "metadata": {
    "execution": {
     "iopub.execute_input": "2021-05-11T13:44:13.697657Z",
     "iopub.status.busy": "2021-05-11T13:44:13.697155Z",
     "iopub.status.idle": "2021-05-11T13:44:13.705355Z",
     "shell.execute_reply": "2021-05-11T13:44:13.704938Z"
    },
    "papermill": {
     "duration": 0.029612,
     "end_time": "2021-05-11T13:44:13.705469",
     "exception": false,
     "start_time": "2021-05-11T13:44:13.675857",
     "status": "completed"
    },
    "tags": []
   },
   "outputs": [],
   "source": [
    "#hide\n",
    "for c in 'Cases, Deaths'.split(', '):\n",
    "    df_table[f'{c} (+)'] = (df_table[c] - df_table[f'P{c}']).clip(0)\n",
    "df_table['Fatality Rate'] = (100* df_table['Deaths']/ df_table['Cases']).round(2)"
   ]
  },
  {
   "cell_type": "code",
   "execution_count": 13,
   "id": "minus-savage",
   "metadata": {
    "execution": {
     "iopub.execute_input": "2021-05-11T13:44:13.749112Z",
     "iopub.status.busy": "2021-05-11T13:44:13.748548Z",
     "iopub.status.idle": "2021-05-11T13:44:13.750740Z",
     "shell.execute_reply": "2021-05-11T13:44:13.751165Z"
    },
    "papermill": {
     "duration": 0.029534,
     "end_time": "2021-05-11T13:44:13.751296",
     "exception": false,
     "start_time": "2021-05-11T13:44:13.721762",
     "status": "completed"
    },
    "tags": []
   },
   "outputs": [
    {
     "data": {
      "text/html": [
       "<div>\n",
       "<style scoped>\n",
       "    .dataframe tbody tr th:only-of-type {\n",
       "        vertical-align: middle;\n",
       "    }\n",
       "\n",
       "    .dataframe tbody tr th {\n",
       "        vertical-align: top;\n",
       "    }\n",
       "\n",
       "    .dataframe thead th {\n",
       "        text-align: right;\n",
       "    }\n",
       "</style>\n",
       "<table border=\"1\" class=\"dataframe\">\n",
       "  <thead>\n",
       "    <tr style=\"text-align: right;\">\n",
       "      <th></th>\n",
       "      <th>states</th>\n",
       "      <th>Cases</th>\n",
       "      <th>Deaths</th>\n",
       "      <th>PCases</th>\n",
       "      <th>PDeaths</th>\n",
       "      <th>Cases (+)</th>\n",
       "      <th>Deaths (+)</th>\n",
       "      <th>Fatality Rate</th>\n",
       "    </tr>\n",
       "  </thead>\n",
       "  <tbody>\n",
       "    <tr>\n",
       "      <th>0</th>\n",
       "      <td>Maharashtra</td>\n",
       "      <td>5138973</td>\n",
       "      <td>76398</td>\n",
       "      <td>5138973</td>\n",
       "      <td>76398</td>\n",
       "      <td>0</td>\n",
       "      <td>0</td>\n",
       "      <td>1.49</td>\n",
       "    </tr>\n",
       "    <tr>\n",
       "      <th>1</th>\n",
       "      <td>Karnataka</td>\n",
       "      <td>1973683</td>\n",
       "      <td>19372</td>\n",
       "      <td>1973683</td>\n",
       "      <td>19372</td>\n",
       "      <td>0</td>\n",
       "      <td>0</td>\n",
       "      <td>0.98</td>\n",
       "    </tr>\n",
       "    <tr>\n",
       "      <th>2</th>\n",
       "      <td>Kerala</td>\n",
       "      <td>1930116</td>\n",
       "      <td>5880</td>\n",
       "      <td>1930116</td>\n",
       "      <td>5880</td>\n",
       "      <td>0</td>\n",
       "      <td>0</td>\n",
       "      <td>0.30</td>\n",
       "    </tr>\n",
       "    <tr>\n",
       "      <th>3</th>\n",
       "      <td>Uttar Pradesh</td>\n",
       "      <td>1545068</td>\n",
       "      <td>16040</td>\n",
       "      <td>1524767</td>\n",
       "      <td>15742</td>\n",
       "      <td>20301</td>\n",
       "      <td>298</td>\n",
       "      <td>1.04</td>\n",
       "    </tr>\n",
       "    <tr>\n",
       "      <th>4</th>\n",
       "      <td>Tamil Nadu</td>\n",
       "      <td>1409237</td>\n",
       "      <td>15880</td>\n",
       "      <td>1409237</td>\n",
       "      <td>15880</td>\n",
       "      <td>0</td>\n",
       "      <td>0</td>\n",
       "      <td>1.13</td>\n",
       "    </tr>\n",
       "  </tbody>\n",
       "</table>\n",
       "</div>"
      ],
      "text/plain": [
       "          states    Cases  Deaths   PCases  PDeaths  Cases (+)  Deaths (+)  \\\n",
       "0    Maharashtra  5138973   76398  5138973    76398          0           0   \n",
       "1      Karnataka  1973683   19372  1973683    19372          0           0   \n",
       "2         Kerala  1930116    5880  1930116     5880          0           0   \n",
       "3  Uttar Pradesh  1545068   16040  1524767    15742      20301         298   \n",
       "4     Tamil Nadu  1409237   15880  1409237    15880          0           0   \n",
       "\n",
       "   Fatality Rate  \n",
       "0           1.49  \n",
       "1           0.98  \n",
       "2           0.30  \n",
       "3           1.04  \n",
       "4           1.13  "
      ]
     },
     "execution_count": 13,
     "metadata": {},
     "output_type": "execute_result"
    }
   ],
   "source": [
    "#hide\n",
    "df_table.head()"
   ]
  },
  {
   "cell_type": "code",
   "execution_count": 14,
   "id": "false-peter",
   "metadata": {
    "execution": {
     "iopub.execute_input": "2021-05-11T13:44:13.789656Z",
     "iopub.status.busy": "2021-05-11T13:44:13.789152Z",
     "iopub.status.idle": "2021-05-11T13:44:13.804305Z",
     "shell.execute_reply": "2021-05-11T13:44:13.803893Z"
    },
    "papermill": {
     "duration": 0.036578,
     "end_time": "2021-05-11T13:44:13.804422",
     "exception": false,
     "start_time": "2021-05-11T13:44:13.767844",
     "status": "completed"
    },
    "tags": []
   },
   "outputs": [
    {
     "data": {
      "text/plain": [
       "{'updated': '2021-05-11',\n",
       " 'since': '2021-05-10',\n",
       " 'Cases': 23037993,\n",
       " 'PCases': 22992039,\n",
       " 'Deaths': 250740,\n",
       " 'PDeaths': 250027,\n",
       " 'Cases (+)': 45954,\n",
       " 'Deaths (+)': 713}"
      ]
     },
     "execution_count": 14,
     "metadata": {},
     "output_type": "execute_result"
    }
   ],
   "source": [
    "#hide\n",
    "summary = {'updated':dates[-1], 'since':dates[-2]}\n",
    "list_names = ['Cases', 'PCases', 'Deaths', 'PDeaths', 'Cases (+)', 'Deaths (+)']\n",
    "for name in list_names:\n",
    "    summary[name] = df_table.sum()[name]\n",
    "summary"
   ]
  },
  {
   "cell_type": "code",
   "execution_count": 15,
   "id": "packed-viewer",
   "metadata": {
    "execution": {
     "iopub.execute_input": "2021-05-11T13:44:13.842732Z",
     "iopub.status.busy": "2021-05-11T13:44:13.842180Z",
     "iopub.status.idle": "2021-05-11T13:44:13.844320Z",
     "shell.execute_reply": "2021-05-11T13:44:13.843905Z"
    },
    "papermill": {
     "duration": 0.023166,
     "end_time": "2021-05-11T13:44:13.844434",
     "exception": false,
     "start_time": "2021-05-11T13:44:13.821268",
     "status": "completed"
    },
    "tags": []
   },
   "outputs": [],
   "source": [
    "#hide\n",
    "overview = '''\n",
    "<!-- #######  HTML!! #########-->\n",
    "<h1 style=\"color: #5e9ca0; text-align: center;\">India</h1>\n",
    "<p style=\"text-align: center;\">Last update: <strong>{update}</strong></p>\n",
    "<p style=\"text-align: center;\">Confirmed cases:</p>\n",
    "<p style=\"text-align: center;font-size:24px;\">{cases} (<span style=\"color: #ff0000;\">+{new}</span>)</p>\n",
    "<p style=\"text-align: center;\">Confirmed deaths:</p>\n",
    "<p style=\"text-align: center;font-size:24px;\">{deaths} (<span style=\"color: #ff0000;\">+{dnew}</span>)</p>\n",
    "'''"
   ]
  },
  {
   "cell_type": "code",
   "execution_count": 16,
   "id": "phantom-lover",
   "metadata": {
    "execution": {
     "iopub.execute_input": "2021-05-11T13:44:13.883893Z",
     "iopub.status.busy": "2021-05-11T13:44:13.883374Z",
     "iopub.status.idle": "2021-05-11T13:44:13.886042Z",
     "shell.execute_reply": "2021-05-11T13:44:13.886423Z"
    },
    "papermill": {
     "duration": 0.025239,
     "end_time": "2021-05-11T13:44:13.886557",
     "exception": false,
     "start_time": "2021-05-11T13:44:13.861318",
     "status": "completed"
    },
    "tags": []
   },
   "outputs": [
    {
     "data": {
      "text/html": [
       "\n",
       "<!-- #######  HTML!! #########-->\n",
       "<h1 style=\"color: #5e9ca0; text-align: center;\">India</h1>\n",
       "<p style=\"text-align: center;\">Last update: <strong>2021-05-11</strong></p>\n",
       "<p style=\"text-align: center;\">Confirmed cases:</p>\n",
       "<p style=\"text-align: center;font-size:24px;\">23037993 (<span style=\"color: #ff0000;\">+45954</span>)</p>\n",
       "<p style=\"text-align: center;\">Confirmed deaths:</p>\n",
       "<p style=\"text-align: center;font-size:24px;\">250740 (<span style=\"color: #ff0000;\">+713</span>)</p>\n"
      ],
      "text/plain": [
       "<IPython.core.display.HTML object>"
      ]
     },
     "metadata": {},
     "output_type": "display_data"
    }
   ],
   "source": [
    "#hide_input\n",
    "update = summary['updated']\n",
    "cases = summary['Cases']\n",
    "new = summary['Cases (+)']\n",
    "deaths = summary['Deaths']\n",
    "dnew = summary['Deaths (+)']\n",
    "\n",
    "html = HTML(overview.format(update=update, cases=cases,new=new,deaths=deaths,dnew=dnew))\n",
    "\n",
    "display(html)"
   ]
  },
  {
   "cell_type": "code",
   "execution_count": 17,
   "id": "sealed-reset",
   "metadata": {
    "execution": {
     "iopub.execute_input": "2021-05-11T13:44:13.927397Z",
     "iopub.status.busy": "2021-05-11T13:44:13.926861Z",
     "iopub.status.idle": "2021-05-11T13:44:13.933864Z",
     "shell.execute_reply": "2021-05-11T13:44:13.934281Z"
    },
    "papermill": {
     "duration": 0.030512,
     "end_time": "2021-05-11T13:44:13.934416",
     "exception": false,
     "start_time": "2021-05-11T13:44:13.903904",
     "status": "completed"
    },
    "tags": []
   },
   "outputs": [],
   "source": [
    "#hide\n",
    "dt_cols = list(dft_cases.columns[1:])\n",
    "dft_ct_new_cases = dft_cases.groupby('state')[dt_cols].sum().diff(axis=1).fillna(0).astype(int)\n",
    "dft_ct_new_cases.sort_values(by = dates[-1], ascending = False,inplace = True)"
   ]
  },
  {
   "cell_type": "code",
   "execution_count": 18,
   "id": "designed-constant",
   "metadata": {
    "execution": {
     "iopub.execute_input": "2021-05-11T13:44:13.985465Z",
     "iopub.status.busy": "2021-05-11T13:44:13.984932Z",
     "iopub.status.idle": "2021-05-11T13:44:13.987259Z",
     "shell.execute_reply": "2021-05-11T13:44:13.987676Z"
    },
    "papermill": {
     "duration": 0.036103,
     "end_time": "2021-05-11T13:44:13.987805",
     "exception": false,
     "start_time": "2021-05-11T13:44:13.951702",
     "status": "completed"
    },
    "tags": []
   },
   "outputs": [
    {
     "data": {
      "text/html": [
       "<div>\n",
       "<style scoped>\n",
       "    .dataframe tbody tr th:only-of-type {\n",
       "        vertical-align: middle;\n",
       "    }\n",
       "\n",
       "    .dataframe tbody tr th {\n",
       "        vertical-align: top;\n",
       "    }\n",
       "\n",
       "    .dataframe thead th {\n",
       "        text-align: right;\n",
       "    }\n",
       "</style>\n",
       "<table border=\"1\" class=\"dataframe\">\n",
       "  <thead>\n",
       "    <tr style=\"text-align: right;\">\n",
       "      <th>states</th>\n",
       "      <th>2020-07-01</th>\n",
       "      <th>2020-07-02</th>\n",
       "      <th>2020-07-03</th>\n",
       "      <th>2020-07-04</th>\n",
       "      <th>2020-07-05</th>\n",
       "      <th>2020-07-06</th>\n",
       "      <th>2020-07-07</th>\n",
       "      <th>2020-07-08</th>\n",
       "      <th>2020-07-09</th>\n",
       "      <th>2020-07-10</th>\n",
       "      <th>...</th>\n",
       "      <th>2021-05-02</th>\n",
       "      <th>2021-05-03</th>\n",
       "      <th>2021-05-04</th>\n",
       "      <th>2021-05-05</th>\n",
       "      <th>2021-05-06</th>\n",
       "      <th>2021-05-07</th>\n",
       "      <th>2021-05-08</th>\n",
       "      <th>2021-05-09</th>\n",
       "      <th>2021-05-10</th>\n",
       "      <th>2021-05-11</th>\n",
       "    </tr>\n",
       "    <tr>\n",
       "      <th>state</th>\n",
       "      <th></th>\n",
       "      <th></th>\n",
       "      <th></th>\n",
       "      <th></th>\n",
       "      <th></th>\n",
       "      <th></th>\n",
       "      <th></th>\n",
       "      <th></th>\n",
       "      <th></th>\n",
       "      <th></th>\n",
       "      <th></th>\n",
       "      <th></th>\n",
       "      <th></th>\n",
       "      <th></th>\n",
       "      <th></th>\n",
       "      <th></th>\n",
       "      <th></th>\n",
       "      <th></th>\n",
       "      <th></th>\n",
       "      <th></th>\n",
       "      <th></th>\n",
       "    </tr>\n",
       "  </thead>\n",
       "  <tbody>\n",
       "    <tr>\n",
       "      <th>Uttar Pradesh</th>\n",
       "      <td>0</td>\n",
       "      <td>769</td>\n",
       "      <td>972</td>\n",
       "      <td>757</td>\n",
       "      <td>1153</td>\n",
       "      <td>929</td>\n",
       "      <td>1332</td>\n",
       "      <td>1188</td>\n",
       "      <td>1206</td>\n",
       "      <td>1338</td>\n",
       "      <td>...</td>\n",
       "      <td>30857</td>\n",
       "      <td>29052</td>\n",
       "      <td>25770</td>\n",
       "      <td>31111</td>\n",
       "      <td>26622</td>\n",
       "      <td>27763</td>\n",
       "      <td>26636</td>\n",
       "      <td>23175</td>\n",
       "      <td>21277</td>\n",
       "      <td>20301</td>\n",
       "    </tr>\n",
       "    <tr>\n",
       "      <th>Delhi</th>\n",
       "      <td>0</td>\n",
       "      <td>2373</td>\n",
       "      <td>2520</td>\n",
       "      <td>2505</td>\n",
       "      <td>2244</td>\n",
       "      <td>1379</td>\n",
       "      <td>2008</td>\n",
       "      <td>2033</td>\n",
       "      <td>2187</td>\n",
       "      <td>2089</td>\n",
       "      <td>...</td>\n",
       "      <td>20394</td>\n",
       "      <td>18043</td>\n",
       "      <td>19953</td>\n",
       "      <td>20960</td>\n",
       "      <td>19133</td>\n",
       "      <td>19832</td>\n",
       "      <td>17364</td>\n",
       "      <td>13336</td>\n",
       "      <td>12651</td>\n",
       "      <td>12481</td>\n",
       "    </tr>\n",
       "    <tr>\n",
       "      <th>Odisha</th>\n",
       "      <td>0</td>\n",
       "      <td>229</td>\n",
       "      <td>561</td>\n",
       "      <td>495</td>\n",
       "      <td>469</td>\n",
       "      <td>456</td>\n",
       "      <td>571</td>\n",
       "      <td>527</td>\n",
       "      <td>577</td>\n",
       "      <td>755</td>\n",
       "      <td>...</td>\n",
       "      <td>8015</td>\n",
       "      <td>8914</td>\n",
       "      <td>8216</td>\n",
       "      <td>9889</td>\n",
       "      <td>10521</td>\n",
       "      <td>12238</td>\n",
       "      <td>11807</td>\n",
       "      <td>10635</td>\n",
       "      <td>10031</td>\n",
       "      <td>9793</td>\n",
       "    </tr>\n",
       "    <tr>\n",
       "      <th>Puducherry</th>\n",
       "      <td>0</td>\n",
       "      <td>63</td>\n",
       "      <td>22</td>\n",
       "      <td>80</td>\n",
       "      <td>42</td>\n",
       "      <td>65</td>\n",
       "      <td>30</td>\n",
       "      <td>110</td>\n",
       "      <td>49</td>\n",
       "      <td>72</td>\n",
       "      <td>...</td>\n",
       "      <td>1360</td>\n",
       "      <td>799</td>\n",
       "      <td>1138</td>\n",
       "      <td>1819</td>\n",
       "      <td>1510</td>\n",
       "      <td>1746</td>\n",
       "      <td>1703</td>\n",
       "      <td>1633</td>\n",
       "      <td>1266</td>\n",
       "      <td>2049</td>\n",
       "    </tr>\n",
       "    <tr>\n",
       "      <th>Tripura</th>\n",
       "      <td>0</td>\n",
       "      <td>39</td>\n",
       "      <td>93</td>\n",
       "      <td>25</td>\n",
       "      <td>23</td>\n",
       "      <td>111</td>\n",
       "      <td>24</td>\n",
       "      <td>57</td>\n",
       "      <td>16</td>\n",
       "      <td>142</td>\n",
       "      <td>...</td>\n",
       "      <td>247</td>\n",
       "      <td>134</td>\n",
       "      <td>271</td>\n",
       "      <td>240</td>\n",
       "      <td>300</td>\n",
       "      <td>315</td>\n",
       "      <td>359</td>\n",
       "      <td>351</td>\n",
       "      <td>133</td>\n",
       "      <td>466</td>\n",
       "    </tr>\n",
       "  </tbody>\n",
       "</table>\n",
       "<p>5 rows × 315 columns</p>\n",
       "</div>"
      ],
      "text/plain": [
       "states         2020-07-01  2020-07-02  2020-07-03  2020-07-04  2020-07-05  \\\n",
       "state                                                                       \n",
       "Uttar Pradesh           0         769         972         757        1153   \n",
       "Delhi                   0        2373        2520        2505        2244   \n",
       "Odisha                  0         229         561         495         469   \n",
       "Puducherry              0          63          22          80          42   \n",
       "Tripura                 0          39          93          25          23   \n",
       "\n",
       "states         2020-07-06  2020-07-07  2020-07-08  2020-07-09  2020-07-10  \\\n",
       "state                                                                       \n",
       "Uttar Pradesh         929        1332        1188        1206        1338   \n",
       "Delhi                1379        2008        2033        2187        2089   \n",
       "Odisha                456         571         527         577         755   \n",
       "Puducherry             65          30         110          49          72   \n",
       "Tripura               111          24          57          16         142   \n",
       "\n",
       "states         ...  2021-05-02  2021-05-03  2021-05-04  2021-05-05  \\\n",
       "state          ...                                                   \n",
       "Uttar Pradesh  ...       30857       29052       25770       31111   \n",
       "Delhi          ...       20394       18043       19953       20960   \n",
       "Odisha         ...        8015        8914        8216        9889   \n",
       "Puducherry     ...        1360         799        1138        1819   \n",
       "Tripura        ...         247         134         271         240   \n",
       "\n",
       "states         2021-05-06  2021-05-07  2021-05-08  2021-05-09  2021-05-10  \\\n",
       "state                                                                       \n",
       "Uttar Pradesh       26622       27763       26636       23175       21277   \n",
       "Delhi               19133       19832       17364       13336       12651   \n",
       "Odisha              10521       12238       11807       10635       10031   \n",
       "Puducherry           1510        1746        1703        1633        1266   \n",
       "Tripura               300         315         359         351         133   \n",
       "\n",
       "states         2021-05-11  \n",
       "state                      \n",
       "Uttar Pradesh       20301  \n",
       "Delhi               12481  \n",
       "Odisha               9793  \n",
       "Puducherry           2049  \n",
       "Tripura               466  \n",
       "\n",
       "[5 rows x 315 columns]"
      ]
     },
     "execution_count": 18,
     "metadata": {},
     "output_type": "execute_result"
    }
   ],
   "source": [
    "#hide\n",
    "dft_ct_new_cases.head()"
   ]
  },
  {
   "cell_type": "code",
   "execution_count": 19,
   "id": "responsible-nightlife",
   "metadata": {
    "execution": {
     "iopub.execute_input": "2021-05-11T13:44:14.042378Z",
     "iopub.status.busy": "2021-05-11T13:44:14.036831Z",
     "iopub.status.idle": "2021-05-11T13:44:24.398078Z",
     "shell.execute_reply": "2021-05-11T13:44:24.398494Z"
    },
    "papermill": {
     "duration": 10.392691,
     "end_time": "2021-05-11T13:44:24.398620",
     "exception": false,
     "start_time": "2021-05-11T13:44:14.005929",
     "status": "completed"
    },
    "tags": []
   },
   "outputs": [
    {
     "data": {
      "image/png": "[encoded data removed]",
      "text/plain": [
       "<Figure size 1296x2016 with 11 Axes>"
      ]
     },
     "metadata": {
      "needs_background": "light"
     },
     "output_type": "display_data"
    }
   ],
   "source": [
    "#hide_input\n",
    "df = dft_ct_new_cases.copy()\n",
    "df.loc['Total'] = df.sum()\n",
    "n = 5\n",
    "ax = []\n",
    "fig = plt.figure(figsize = (18,28))\n",
    "gs = fig.add_gridspec(n+2, 5)\n",
    "# gs = fig.add_gridspec(2, 3)\n",
    "ax1 = fig.add_subplot(gs[0, :])\n",
    "ef = df.loc['Total'].rename_axis('date').reset_index()\n",
    "ef['date'] = ef['date'].astype('datetime64[ns]')\n",
    "ax1.bar(ef.date,ef.Total,alpha=0.3,color='#007acc')\n",
    "ax1.plot(ef.date,ef.Total , marker=\"o\", color='#007acc')\n",
    "ax1.xaxis.set_major_locator(mdates.WeekdayLocator())\n",
    "ax1.xaxis.set_major_formatter(mdates.DateFormatter('%b %d'))\n",
    "ax1.text(0.02, 0.5,'India daily case count', transform = ax1.transAxes, fontsize=25);\n",
    "ax1.spines['right'].set_visible(False)\n",
    "ax1.spines['top'].set_visible(False)\n",
    "\n",
    "ax2 = fig.add_subplot(gs[1,0])\n",
    "ef = df.loc['Maharashtra'].rename_axis('date').reset_index()\n",
    "ef['date'] = ef['date'].astype('datetime64[ns]')\n",
    "\n",
    "ax2.bar(ef.date, ef.Maharashtra,color = '#007acc',alpha=0.5)\n",
    "ax2.xaxis.set_major_locator(mdates.WeekdayLocator())\n",
    "ax2.xaxis.set_major_formatter(mdates.DateFormatter('%b %d'))\n",
    "ax2.set_xticks(ax2.get_xticks()[::3])\n",
    "maxyval = ef.Maharashtra.max()\n",
    "ax2.set_ylim([0,maxyval])\n",
    "ax2.text(0.05, 0.9,'Maharashtra', transform = ax2.transAxes, fontsize=20);\n",
    "ax2.spines['right'].set_visible(False)\n",
    "ax2.spines['top'].set_visible(False)\n",
    "\n",
    "\n",
    "ax3 = fig.add_subplot(gs[1,1])\n",
    "ef = df.loc['Tamil Nadu'].rename_axis('date').reset_index()\n",
    "ef['date'] = ef['date'].astype('datetime64[ns]')\n",
    "ax3.bar(ef.date, ef['Tamil Nadu'],color = '#007acc',alpha=0.5,)\n",
    "ax3.xaxis.set_major_locator(mdates.WeekdayLocator())\n",
    "ax3.xaxis.set_major_formatter(mdates.DateFormatter('%b %d'))\n",
    "ax3.set_xticks(ax3.get_xticks()[::3])\n",
    "ax3.text(0.05, 0.9,'Tamil Nadu', transform = ax3.transAxes, fontsize=20);\n",
    "ax3.spines['right'].set_visible(False)\n",
    "ax3.spines['top'].set_visible(False)\n",
    "\n",
    "ax5 = fig.add_subplot(gs[1,3])\n",
    "ef = df.loc['Telangana'].rename_axis('date').reset_index()\n",
    "ef['date'] = ef['date'].astype('datetime64[ns]')\n",
    "ax5.bar(ef.date, ef['Telangana'],color = '#007acc',alpha=0.5,)\n",
    "ax5.xaxis.set_major_locator(mdates.WeekdayLocator())\n",
    "ax5.xaxis.set_major_formatter(mdates.DateFormatter('%b %d'))\n",
    "ax5.set_xticks(ax5.get_xticks()[::3])\n",
    "ax5.text(0.05, 0.9,'Telangana', transform = ax5.transAxes, fontsize=20);\n",
    "ax5.spines['right'].set_visible(False)\n",
    "ax5.spines['top'].set_visible(False)\n",
    "\n",
    "ax6 = fig.add_subplot(gs[1,4])\n",
    "ef = df.loc['Andhra Pradesh'].rename_axis('date').reset_index()\n",
    "ef['date'] = ef['date'].astype('datetime64[ns]')\n",
    "ax6.bar(ef.date, ef['Andhra Pradesh'],color = '#007acc',alpha=0.5,)\n",
    "ax6.xaxis.set_major_locator(mdates.WeekdayLocator())\n",
    "ax6.xaxis.set_major_formatter(mdates.DateFormatter('%b %d'))\n",
    "ax6.set_xticks(ax6.get_xticks()[::3])\n",
    "ax6.text(0.05, 1,'Andhra Pradesh', transform = ax6.transAxes, fontsize=20);\n",
    "ax6.spines['right'].set_visible(False)\n",
    "ax6.spines['top'].set_visible(False)\n",
    "\n",
    "ax4 = fig.add_subplot(gs[1,2])\n",
    "ef = df.loc['Delhi'].rename_axis('date').reset_index()\n",
    "ef['date'] = ef['date'].astype('datetime64[ns]')\n",
    "ax4.bar(ef.date, ef.Delhi,color = '#007acc',alpha=0.5)\n",
    "ax4.set_xticks([])\n",
    "ax4.xaxis.set_major_locator(mdates.WeekdayLocator())\n",
    "ax4.xaxis.set_major_formatter(mdates.DateFormatter('%b %d'))\n",
    "ax4.set_xticks(ax4.get_xticks()[::3])\n",
    "ax4.spines['right'].set_visible(False)\n",
    "ax4.spines['top'].set_visible(False)\n",
    "\n",
    "ax4.text(0.05, 1,'Delhi', transform = ax4.transAxes, fontsize=20)\n",
    "\n",
    "for i in range(n):\n",
    "    \n",
    "    ax.append(fig.add_subplot(gs[i+2,:]))\n",
    "    ef = df.iloc[i+3].rename_axis('date').reset_index()\n",
    "    ef['date'] = ef['date'].astype('datetime64[ns]')\n",
    "    ax[i].bar(ef.date,ef.iloc[:,-1],color = '#007acc',alpha=0.3)\n",
    "    ax[i].plot(ef.date,ef.iloc[:,-1],marker='o',color='#007acc')\n",
    "    ax[i].text(0.02,0.5,f'{ef.columns.values[-1]}',transform = ax[i].transAxes, fontsize = 20);\n",
    "    ax[i].xaxis.set_major_locator(mdates.WeekdayLocator())\n",
    "    ax[i].xaxis.set_major_formatter(mdates.DateFormatter('%b %d'))\n",
    "    ax[i].set_ylim([0,7000])\n",
    "    ax[i].spines['right'].set_visible(False)\n",
    "    ax[i].spines['top'].set_visible(False)\n",
    "plt.tight_layout()\n"
   ]
  },
  {
   "cell_type": "code",
   "execution_count": 20,
   "id": "dress-forge",
   "metadata": {
    "execution": {
     "iopub.execute_input": "2021-05-11T13:44:24.452607Z",
     "iopub.status.busy": "2021-05-11T13:44:24.452037Z",
     "iopub.status.idle": "2021-05-11T13:44:24.454219Z",
     "shell.execute_reply": "2021-05-11T13:44:24.454622Z"
    },
    "papermill": {
     "duration": 0.033571,
     "end_time": "2021-05-11T13:44:24.454749",
     "exception": false,
     "start_time": "2021-05-11T13:44:24.421178",
     "status": "completed"
    },
    "tags": []
   },
   "outputs": [
    {
     "name": "stdout",
     "output_type": "stream",
     "text": [
      "                                   states    Cases  Deaths   PCases  PDeaths  Cases (+)  Deaths (+)  Fatality Rate\n",
      "                              Maharashtra  5138973   76398  5138973    76398          0           0           1.49\n",
      "                                Karnataka  1973683   19372  1973683    19372          0           0           0.98\n",
      "                                   Kerala  1930116    5880  1930116     5880          0           0           0.30\n",
      "                            Uttar Pradesh  1545068   16040  1524767    15742      20301         298           1.04\n",
      "                               Tamil Nadu  1409237   15880  1409237    15880          0           0           1.13\n",
      "                                    Delhi  1348699   20010  1336218    19663      12481         347           1.48\n",
      "                           Andhra Pradesh  1302589    8791  1302589     8791          0           0           0.67\n",
      "                              West Bengal  1012604   12461  1012604    12461          0           0           1.23\n",
      "                             Chhattisgarh   863343   10742   863343    10742          0           0           1.24\n",
      "                                Rajasthan   773194    5825   773194     5825          0           0           0.75\n",
      "                                  Gujarat   692604    8511   692604     8511          0           0           1.23\n",
      "                           Madhya Pradesh   681478    6501   681478     6501          0           0           0.95\n",
      "                                  Haryana   628615    5766   628615     5766          0           0           0.92\n",
      "                                    Bihar   601650    3357   601650     3357          0           0           0.56\n",
      "                                   Odisha   554666    2268   544873     2250       9793          18           0.41\n",
      "                                Telangana   502187    2771   502187     2771          0           0           0.55\n",
      "                                   Punjab   450674   10704   450674    10704          0           0           2.38\n",
      "                                    Assam   298171    1753   298171     1753          0           0           0.59\n",
      "                                Jharkhand   292530    3982   292530     3982          0           0           1.36\n",
      "                              Uttarakhand   249814    3896   249814     3896          0           0           1.56\n",
      "                        Jammu and Kashmir   220546    2782   220546     2782          0           0           1.26\n",
      "                         Himachal Pradesh   135782    1925   135782     1925          0           0           1.42\n",
      "                                      Goa   121650    1729   121650     1729          0           0           1.42\n",
      "                               Puducherry    75024    1018    72975      988       2049          30           1.36\n",
      "                               Chandigarh    51070     575    51070      575          0           0           1.13\n",
      "                                  Tripura    38155     410    37689      407        466           3           1.07\n",
      "                                  Manipur    35778     489    35778      489          0           0           1.37\n",
      "                                Meghalaya    20579     242    20129      233        450           9           1.18\n",
      "                        Arunachal Pradesh    20372      64    20372       64          0           0           0.31\n",
      "                                 Nagaland    16283     150    16283      150          0           0           0.92\n",
      "                                   Ladakh    15429     157    15429      157          0           0           1.02\n",
      "                                   Sikkim    10165     177     9924      169        241           8           1.74\n",
      " Dadra and Nagar Haveli and Daman and Diu     9089       4     9089        4          0           0           0.04\n",
      "                                  Mizoram     7796      22     7623       22        173           0           0.28\n",
      "              Andaman and Nicobar Islands     6398      78     6398       78          0           0           1.22\n",
      "                              Lakshadweep     3982      10     3982       10          0           0           0.25\n"
     ]
    }
   ],
   "source": [
    "#hide_input\n",
    "print(df_table.to_string(index=False))"
   ]
  },
  {
   "cell_type": "code",
   "execution_count": null,
   "id": "quantitative-legend",
   "metadata": {
    "papermill": {
     "duration": 0.022739,
     "end_time": "2021-05-11T13:44:24.500330",
     "exception": false,
     "start_time": "2021-05-11T13:44:24.477591",
     "status": "completed"
    },
    "tags": []
   },
   "outputs": [],
   "source": []
  },
  {
   "cell_type": "code",
   "execution_count": null,
   "id": "distant-acoustic",
   "metadata": {
    "papermill": {
     "duration": 0.022695,
     "end_time": "2021-05-11T13:44:24.545778",
     "exception": false,
     "start_time": "2021-05-11T13:44:24.523083",
     "status": "completed"
    },
    "tags": []
   },
   "outputs": [],
   "source": []
  }
 ],
 "metadata": {
  "kernelspec": {
   "display_name": "Python 3",
   "language": "python",
   "name": "python3"
  },
  "language_info": {
   "codemirror_mode": {
    "name": "ipython",
    "version": 3
   },
   "file_extension": ".py",
   "mimetype": "text/x-python",
   "name": "python",
   "nbconvert_exporter": "python",
   "pygments_lexer": "ipython3",
   "version": "3.6.13"
  },
  "papermill": {
   "duration": 21.936796,
   "end_time": "2021-05-11T13:44:25.277295",
   "environment_variables": {},
   "exception": null,
   "input_path": "latest.ipynb",
   "output_path": "latest.ipynb",
   "parameters": {},
   "start_time": "2021-05-11T13:44:03.340499",
   "version": "2.1.2"
  }
 },
 "nbformat": 4,
 "nbformat_minor": 5
}