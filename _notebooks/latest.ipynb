{
 "cells": [
  {
   "cell_type": "markdown",
   "metadata": {
    "papermill": {
     "duration": 0.020141,
     "end_time": "2020-09-25T11:38:29.043750",
     "exception": false,
     "start_time": "2020-09-25T11:38:29.023609",
     "status": "completed"
    },
    "tags": []
   },
   "source": [
    "# Latest COVID-19 India Matplotlib Overview"
   ]
  },
  {
   "cell_type": "code",
   "execution_count": 1,
   "metadata": {
    "execution": {
     "iopub.execute_input": "2020-09-25T11:38:29.100792Z",
     "iopub.status.busy": "2020-09-25T11:38:29.100132Z",
     "iopub.status.idle": "2020-09-25T11:38:29.723122Z",
     "shell.execute_reply": "2020-09-25T11:38:29.722538Z"
    },
    "papermill": {
     "duration": 0.656914,
     "end_time": "2020-09-25T11:38:29.723329",
     "exception": false,
     "start_time": "2020-09-25T11:38:29.066415",
     "status": "completed"
    },
    "tags": []
   },
   "outputs": [],
   "source": [
    "#hide\n",
    "import pandas as pd\n",
    "import numpy as np\n",
    "import requests\n",
    "import json\n",
    "import matplotlib.pyplot as plt\n",
    "import matplotlib.dates as mdates\n",
    "import matplotlib as mpl\n",
    "from IPython.core.display import display,HTML\n",
    "%matplotlib inline\n",
    "from datetime import date"
   ]
  },
  {
   "cell_type": "code",
   "execution_count": 2,
   "metadata": {
    "execution": {
     "iopub.execute_input": "2020-09-25T11:38:29.767671Z",
     "iopub.status.busy": "2020-09-25T11:38:29.766984Z",
     "iopub.status.idle": "2020-09-25T11:38:29.879390Z",
     "shell.execute_reply": "2020-09-25T11:38:29.878758Z"
    },
    "papermill": {
     "duration": 0.139496,
     "end_time": "2020-09-25T11:38:29.879632",
     "exception": false,
     "start_time": "2020-09-25T11:38:29.740136",
     "status": "completed"
    },
    "tags": []
   },
   "outputs": [],
   "source": [
    "#hide\n",
    "df  = pd.read_csv('https://api.covid19india.org/csv/latest/states.csv')\n",
    "df = df[['Date','State','Confirmed','Deceased']]\n",
    "df = df.rename(columns={'Confirmed':'Cases', \"Deceased\":'Deaths'})\n",
    "df_cases = df[[\"Date\",'State','Cases']]\n",
    "df_deaths = df[['Date','State','Deaths']]\n",
    "df_cases1 = df_cases.groupby('Date')\n",
    "df_deaths1= df_deaths.groupby('Date')"
   ]
  },
  {
   "cell_type": "code",
   "execution_count": 3,
   "metadata": {
    "execution": {
     "iopub.execute_input": "2020-09-25T11:38:29.919283Z",
     "iopub.status.busy": "2020-09-25T11:38:29.918594Z",
     "iopub.status.idle": "2020-09-25T11:38:29.937387Z",
     "shell.execute_reply": "2020-09-25T11:38:29.937955Z"
    },
    "papermill": {
     "duration": 0.041584,
     "end_time": "2020-09-25T11:38:29.938135",
     "exception": false,
     "start_time": "2020-09-25T11:38:29.896551",
     "status": "completed"
    },
    "tags": []
   },
   "outputs": [],
   "source": [
    "#hide\n",
    "df_snap = pd.read_csv('data/SnapshotCases-28-July.csv')\n",
    "arr_states = df_snap['states'].unique()\n",
    "arr_dates = df['Date'].unique()\n",
    "df_snap = df_snap.set_index('states')"
   ]
  },
  {
   "cell_type": "code",
   "execution_count": 4,
   "metadata": {
    "execution": {
     "iopub.execute_input": "2020-09-25T11:38:29.981081Z",
     "iopub.status.busy": "2020-09-25T11:38:29.980403Z",
     "iopub.status.idle": "2020-09-25T11:38:29.982997Z",
     "shell.execute_reply": "2020-09-25T11:38:29.983620Z"
    },
    "papermill": {
     "duration": 0.027833,
     "end_time": "2020-09-25T11:38:29.983789",
     "exception": false,
     "start_time": "2020-09-25T11:38:29.955956",
     "status": "completed"
    },
    "tags": []
   },
   "outputs": [
    {
     "data": {
      "text/plain": [
       "array(['Andaman and Nicobar Islands', 'Andhra Pradesh',\n",
       "       'Arunachal Pradesh', 'Assam', 'Bihar', 'Chandigarh',\n",
       "       'Dadra and Nagar Haveli and Daman and Diu', 'Delhi', 'Goa',\n",
       "       'Gujarat', 'Haryana', 'Himachal Pradesh', 'Jammu and Kashmir',\n",
       "       'Jharkhand', 'Karnataka', 'Kerala', 'Lakshadweep',\n",
       "       'Madhya Pradesh', 'Maharashtra', 'Manipur', 'Meghalaya', 'Mizoram',\n",
       "       'Nagaland', 'Odisha', 'Puducherry', 'Punjab', 'Rajasthan',\n",
       "       'Sikkim', 'Tamil Nadu', 'Telangana', 'Tripura', 'Uttar Pradesh',\n",
       "       'West Bengal', 'Chhattisgarh', 'Ladakh', 'Uttarakhand'],\n",
       "      dtype=object)"
      ]
     },
     "execution_count": 4,
     "metadata": {},
     "output_type": "execute_result"
    }
   ],
   "source": [
    "#hide\n",
    "arr_states[-9] = 'Puducherry'\n",
    "arr_states[-10] = 'Odisha'\n",
    "arr_states[6] = 'Dadra and Nagar Haveli and Daman and Diu'\n",
    "arr_states = np.append(arr_states,np.array(['Chhattisgarh','Ladakh','Uttarakhand']))\n",
    "arr_states"
   ]
  },
  {
   "cell_type": "code",
   "execution_count": 5,
   "metadata": {
    "execution": {
     "iopub.execute_input": "2020-09-25T11:38:30.028729Z",
     "iopub.status.busy": "2020-09-25T11:38:30.028060Z",
     "iopub.status.idle": "2020-09-25T11:38:30.036536Z",
     "shell.execute_reply": "2020-09-25T11:38:30.037089Z"
    },
    "papermill": {
     "duration": 0.036253,
     "end_time": "2020-09-25T11:38:30.037265",
     "exception": false,
     "start_time": "2020-09-25T11:38:30.001012",
     "status": "completed"
    },
    "tags": []
   },
   "outputs": [],
   "source": [
    "#hide\n",
    "dates = []\n",
    "for i in arr_dates:\n",
    "    if i>='2020-07-01':\n",
    "        dates.append(i)\n",
    "dict = {'states':dates}\n",
    "for i in arr_states:\n",
    "    dict[i] = [0]*len(dates)\n",
    "dft_cases = pd.DataFrame(dict)\n",
    "dft_deaths = pd.DataFrame(dict)\n"
   ]
  },
  {
   "cell_type": "code",
   "execution_count": 6,
   "metadata": {
    "execution": {
     "iopub.execute_input": "2020-09-25T11:38:30.078406Z",
     "iopub.status.busy": "2020-09-25T11:38:30.077710Z",
     "iopub.status.idle": "2020-09-25T11:38:31.609833Z",
     "shell.execute_reply": "2020-09-25T11:38:31.608989Z"
    },
    "papermill": {
     "duration": 1.55492,
     "end_time": "2020-09-25T11:38:31.609972",
     "exception": false,
     "start_time": "2020-09-25T11:38:30.055052",
     "status": "completed"
    },
    "tags": []
   },
   "outputs": [],
   "source": [
    "#hide\n",
    "for i in range(len(dates)):\n",
    "    df1_deaths = df_deaths1.get_group(dates[i])\n",
    "    for j in range(len(df1_deaths.index)):\n",
    "        if df1_deaths.iloc[j,1] in arr_states:\n",
    "            dft_deaths.loc[i,df1_deaths.iloc[j,1]] = df1_deaths.iloc[j,2]\n",
    "dft_deaths = dft_deaths.set_index('states')"
   ]
  },
  {
   "cell_type": "code",
   "execution_count": 7,
   "metadata": {
    "execution": {
     "iopub.execute_input": "2020-09-25T11:38:31.648517Z",
     "iopub.status.busy": "2020-09-25T11:38:31.647868Z",
     "iopub.status.idle": "2020-09-25T11:38:33.192857Z",
     "shell.execute_reply": "2020-09-25T11:38:33.192307Z"
    },
    "papermill": {
     "duration": 1.566616,
     "end_time": "2020-09-25T11:38:33.192996",
     "exception": false,
     "start_time": "2020-09-25T11:38:31.626380",
     "status": "completed"
    },
    "tags": []
   },
   "outputs": [],
   "source": [
    "#hide\n",
    "for i in range(len(dates)):\n",
    "    df1_cases = df_cases1.get_group(dates[i])\n",
    "    for j in range(len(df1_cases.index)):\n",
    "        if df1_cases.iloc[j,1] in arr_states:\n",
    "            dft_cases.loc[i,df1_cases.iloc[j,1]] = df1_cases.iloc[j,2]\n",
    "dft_cases = dft_cases.set_index('states')"
   ]
  },
  {
   "cell_type": "code",
   "execution_count": 8,
   "metadata": {
    "execution": {
     "iopub.execute_input": "2020-09-25T11:38:33.230681Z",
     "iopub.status.busy": "2020-09-25T11:38:33.230011Z",
     "iopub.status.idle": "2020-09-25T11:38:33.232710Z",
     "shell.execute_reply": "2020-09-25T11:38:33.233230Z"
    },
    "papermill": {
     "duration": 0.024169,
     "end_time": "2020-09-25T11:38:33.233382",
     "exception": false,
     "start_time": "2020-09-25T11:38:33.209213",
     "status": "completed"
    },
    "tags": []
   },
   "outputs": [],
   "source": [
    "#hide\n",
    "dft_cases = dft_cases.T\n",
    "dft_deaths = dft_deaths.T\n",
    "dt_today = dates[-1]\n",
    "dt_yday = dates[-2]"
   ]
  },
  {
   "cell_type": "code",
   "execution_count": 9,
   "metadata": {
    "execution": {
     "iopub.execute_input": "2020-09-25T11:38:33.273746Z",
     "iopub.status.busy": "2020-09-25T11:38:33.272436Z",
     "iopub.status.idle": "2020-09-25T11:38:33.274469Z",
     "shell.execute_reply": "2020-09-25T11:38:33.274947Z"
    },
    "papermill": {
     "duration": 0.026237,
     "end_time": "2020-09-25T11:38:33.275089",
     "exception": false,
     "start_time": "2020-09-25T11:38:33.248852",
     "status": "completed"
    },
    "tags": []
   },
   "outputs": [],
   "source": [
    "#hide\n",
    "dft_cases = dft_cases.reset_index()\n",
    "dft_deaths = dft_deaths.reset_index()\n",
    "dft_cases = dft_cases.rename(columns = {'index':'state'})\n",
    "dft_deaths = dft_deaths.rename(columns = {'index':'state'})"
   ]
  },
  {
   "cell_type": "code",
   "execution_count": 10,
   "metadata": {
    "execution": {
     "iopub.execute_input": "2020-09-25T11:38:33.319763Z",
     "iopub.status.busy": "2020-09-25T11:38:33.318297Z",
     "iopub.status.idle": "2020-09-25T11:38:33.320497Z",
     "shell.execute_reply": "2020-09-25T11:38:33.321056Z"
    },
    "papermill": {
     "duration": 0.03074,
     "end_time": "2020-09-25T11:38:33.321202",
     "exception": false,
     "start_time": "2020-09-25T11:38:33.290462",
     "status": "completed"
    },
    "tags": []
   },
   "outputs": [],
   "source": [
    "#hide\n",
    "dfc_cases = dft_cases.groupby('state')[dt_today].sum()\n",
    "dfc_deaths = dft_deaths.groupby('state')[dt_today].sum()\n",
    "dfp_cases = dft_cases.groupby('state')[dt_yday].sum()\n",
    "dfp_deaths = dft_deaths.groupby('state')[dt_yday].sum()"
   ]
  },
  {
   "cell_type": "code",
   "execution_count": 11,
   "metadata": {
    "execution": {
     "iopub.execute_input": "2020-09-25T11:38:33.372248Z",
     "iopub.status.busy": "2020-09-25T11:38:33.371618Z",
     "iopub.status.idle": "2020-09-25T11:38:33.377675Z",
     "shell.execute_reply": "2020-09-25T11:38:33.378208Z"
    },
    "papermill": {
     "duration": 0.038029,
     "end_time": "2020-09-25T11:38:33.378356",
     "exception": false,
     "start_time": "2020-09-25T11:38:33.340327",
     "status": "completed"
    },
    "tags": []
   },
   "outputs": [
    {
     "data": {
      "text/html": [
       "<div>\n",
       "<style scoped>\n",
       "    .dataframe tbody tr th:only-of-type {\n",
       "        vertical-align: middle;\n",
       "    }\n",
       "\n",
       "    .dataframe tbody tr th {\n",
       "        vertical-align: top;\n",
       "    }\n",
       "\n",
       "    .dataframe thead th {\n",
       "        text-align: right;\n",
       "    }\n",
       "</style>\n",
       "<table border=\"1\" class=\"dataframe\">\n",
       "  <thead>\n",
       "    <tr style=\"text-align: right;\">\n",
       "      <th></th>\n",
       "      <th>states</th>\n",
       "      <th>Cases</th>\n",
       "      <th>Deaths</th>\n",
       "      <th>PCases</th>\n",
       "      <th>PDeaths</th>\n",
       "    </tr>\n",
       "  </thead>\n",
       "  <tbody>\n",
       "    <tr>\n",
       "      <th>0</th>\n",
       "      <td>Maharashtra</td>\n",
       "      <td>1282963</td>\n",
       "      <td>34345</td>\n",
       "      <td>1282963</td>\n",
       "      <td>34345</td>\n",
       "    </tr>\n",
       "    <tr>\n",
       "      <th>1</th>\n",
       "      <td>Andhra Pradesh</td>\n",
       "      <td>654385</td>\n",
       "      <td>5558</td>\n",
       "      <td>654385</td>\n",
       "      <td>5558</td>\n",
       "    </tr>\n",
       "    <tr>\n",
       "      <th>2</th>\n",
       "      <td>Tamil Nadu</td>\n",
       "      <td>563691</td>\n",
       "      <td>9076</td>\n",
       "      <td>563691</td>\n",
       "      <td>9076</td>\n",
       "    </tr>\n",
       "    <tr>\n",
       "      <th>3</th>\n",
       "      <td>Karnataka</td>\n",
       "      <td>548557</td>\n",
       "      <td>8331</td>\n",
       "      <td>548557</td>\n",
       "      <td>8331</td>\n",
       "    </tr>\n",
       "    <tr>\n",
       "      <th>4</th>\n",
       "      <td>Uttar Pradesh</td>\n",
       "      <td>374277</td>\n",
       "      <td>5366</td>\n",
       "      <td>374277</td>\n",
       "      <td>5366</td>\n",
       "    </tr>\n",
       "  </tbody>\n",
       "</table>\n",
       "</div>"
      ],
      "text/plain": [
       "           states    Cases  Deaths   PCases  PDeaths\n",
       "0     Maharashtra  1282963   34345  1282963    34345\n",
       "1  Andhra Pradesh   654385    5558   654385     5558\n",
       "2      Tamil Nadu   563691    9076   563691     9076\n",
       "3       Karnataka   548557    8331   548557     8331\n",
       "4   Uttar Pradesh   374277    5366   374277     5366"
      ]
     },
     "execution_count": 11,
     "metadata": {},
     "output_type": "execute_result"
    }
   ],
   "source": [
    "#hide\n",
    "df_table = pd.DataFrame({'states': dfc_cases.index, 'Cases': dfc_cases.values, 'Deaths': dfc_deaths.values, 'PCases': dfp_cases.values, 'PDeaths': dfp_deaths.values}).set_index('states')\n",
    "df_table = df_table.sort_values(by = ['Cases','Deaths'], ascending = [False, False])\n",
    "df_table = df_table.reset_index()\n",
    "df_table.head()"
   ]
  },
  {
   "cell_type": "code",
   "execution_count": 12,
   "metadata": {
    "execution": {
     "iopub.execute_input": "2020-09-25T11:38:33.420345Z",
     "iopub.status.busy": "2020-09-25T11:38:33.419673Z",
     "iopub.status.idle": "2020-09-25T11:38:33.429304Z",
     "shell.execute_reply": "2020-09-25T11:38:33.429844Z"
    },
    "papermill": {
     "duration": 0.035081,
     "end_time": "2020-09-25T11:38:33.430013",
     "exception": false,
     "start_time": "2020-09-25T11:38:33.394932",
     "status": "completed"
    },
    "tags": []
   },
   "outputs": [],
   "source": [
    "#hide\n",
    "for c in 'Cases, Deaths'.split(', '):\n",
    "    df_table[f'{c} (+)'] = (df_table[c] - df_table[f'P{c}']).clip(0)\n",
    "df_table['Fatality Rate'] = (100* df_table['Deaths']/ df_table['Cases']).round(2)"
   ]
  },
  {
   "cell_type": "code",
   "execution_count": 13,
   "metadata": {
    "execution": {
     "iopub.execute_input": "2020-09-25T11:38:33.477155Z",
     "iopub.status.busy": "2020-09-25T11:38:33.476439Z",
     "iopub.status.idle": "2020-09-25T11:38:33.479290Z",
     "shell.execute_reply": "2020-09-25T11:38:33.479907Z"
    },
    "papermill": {
     "duration": 0.033317,
     "end_time": "2020-09-25T11:38:33.480079",
     "exception": false,
     "start_time": "2020-09-25T11:38:33.446762",
     "status": "completed"
    },
    "tags": []
   },
   "outputs": [
    {
     "data": {
      "text/html": [
       "<div>\n",
       "<style scoped>\n",
       "    .dataframe tbody tr th:only-of-type {\n",
       "        vertical-align: middle;\n",
       "    }\n",
       "\n",
       "    .dataframe tbody tr th {\n",
       "        vertical-align: top;\n",
       "    }\n",
       "\n",
       "    .dataframe thead th {\n",
       "        text-align: right;\n",
       "    }\n",
       "</style>\n",
       "<table border=\"1\" class=\"dataframe\">\n",
       "  <thead>\n",
       "    <tr style=\"text-align: right;\">\n",
       "      <th></th>\n",
       "      <th>states</th>\n",
       "      <th>Cases</th>\n",
       "      <th>Deaths</th>\n",
       "      <th>PCases</th>\n",
       "      <th>PDeaths</th>\n",
       "      <th>Cases (+)</th>\n",
       "      <th>Deaths (+)</th>\n",
       "      <th>Fatality Rate</th>\n",
       "    </tr>\n",
       "  </thead>\n",
       "  <tbody>\n",
       "    <tr>\n",
       "      <th>0</th>\n",
       "      <td>Maharashtra</td>\n",
       "      <td>1282963</td>\n",
       "      <td>34345</td>\n",
       "      <td>1282963</td>\n",
       "      <td>34345</td>\n",
       "      <td>0</td>\n",
       "      <td>0</td>\n",
       "      <td>2.68</td>\n",
       "    </tr>\n",
       "    <tr>\n",
       "      <th>1</th>\n",
       "      <td>Andhra Pradesh</td>\n",
       "      <td>654385</td>\n",
       "      <td>5558</td>\n",
       "      <td>654385</td>\n",
       "      <td>5558</td>\n",
       "      <td>0</td>\n",
       "      <td>0</td>\n",
       "      <td>0.85</td>\n",
       "    </tr>\n",
       "    <tr>\n",
       "      <th>2</th>\n",
       "      <td>Tamil Nadu</td>\n",
       "      <td>563691</td>\n",
       "      <td>9076</td>\n",
       "      <td>563691</td>\n",
       "      <td>9076</td>\n",
       "      <td>0</td>\n",
       "      <td>0</td>\n",
       "      <td>1.61</td>\n",
       "    </tr>\n",
       "    <tr>\n",
       "      <th>3</th>\n",
       "      <td>Karnataka</td>\n",
       "      <td>548557</td>\n",
       "      <td>8331</td>\n",
       "      <td>548557</td>\n",
       "      <td>8331</td>\n",
       "      <td>0</td>\n",
       "      <td>0</td>\n",
       "      <td>1.52</td>\n",
       "    </tr>\n",
       "    <tr>\n",
       "      <th>4</th>\n",
       "      <td>Uttar Pradesh</td>\n",
       "      <td>374277</td>\n",
       "      <td>5366</td>\n",
       "      <td>374277</td>\n",
       "      <td>5366</td>\n",
       "      <td>0</td>\n",
       "      <td>0</td>\n",
       "      <td>1.43</td>\n",
       "    </tr>\n",
       "  </tbody>\n",
       "</table>\n",
       "</div>"
      ],
      "text/plain": [
       "           states    Cases  Deaths   PCases  PDeaths  Cases (+)  Deaths (+)  \\\n",
       "0     Maharashtra  1282963   34345  1282963    34345          0           0   \n",
       "1  Andhra Pradesh   654385    5558   654385     5558          0           0   \n",
       "2      Tamil Nadu   563691    9076   563691     9076          0           0   \n",
       "3       Karnataka   548557    8331   548557     8331          0           0   \n",
       "4   Uttar Pradesh   374277    5366   374277     5366          0           0   \n",
       "\n",
       "   Fatality Rate  \n",
       "0           2.68  \n",
       "1           0.85  \n",
       "2           1.61  \n",
       "3           1.52  \n",
       "4           1.43  "
      ]
     },
     "execution_count": 13,
     "metadata": {},
     "output_type": "execute_result"
    }
   ],
   "source": [
    "#hide\n",
    "df_table.head()"
   ]
  },
  {
   "cell_type": "code",
   "execution_count": 14,
   "metadata": {
    "execution": {
     "iopub.execute_input": "2020-09-25T11:38:33.520628Z",
     "iopub.status.busy": "2020-09-25T11:38:33.519705Z",
     "iopub.status.idle": "2020-09-25T11:38:33.537112Z",
     "shell.execute_reply": "2020-09-25T11:38:33.536514Z"
    },
    "papermill": {
     "duration": 0.039699,
     "end_time": "2020-09-25T11:38:33.537273",
     "exception": false,
     "start_time": "2020-09-25T11:38:33.497574",
     "status": "completed"
    },
    "tags": []
   },
   "outputs": [
    {
     "data": {
      "text/plain": [
       "{'updated': '2020-09-25',\n",
       " 'since': '2020-09-24',\n",
       " 'Cases': 5823066,\n",
       " 'PCases': 5816103,\n",
       " 'Deaths': 92347,\n",
       " 'PDeaths': 92317,\n",
       " 'Cases (+)': 6963,\n",
       " 'Deaths (+)': 30}"
      ]
     },
     "execution_count": 14,
     "metadata": {},
     "output_type": "execute_result"
    }
   ],
   "source": [
    "#hide\n",
    "summary = {'updated':dates[-1], 'since':dates[-2]}\n",
    "list_names = ['Cases', 'PCases', 'Deaths', 'PDeaths', 'Cases (+)', 'Deaths (+)']\n",
    "for name in list_names:\n",
    "    summary[name] = df_table.sum()[name]\n",
    "summary"
   ]
  },
  {
   "cell_type": "code",
   "execution_count": 15,
   "metadata": {
    "execution": {
     "iopub.execute_input": "2020-09-25T11:38:33.577470Z",
     "iopub.status.busy": "2020-09-25T11:38:33.576882Z",
     "iopub.status.idle": "2020-09-25T11:38:33.579191Z",
     "shell.execute_reply": "2020-09-25T11:38:33.578593Z"
    },
    "papermill": {
     "duration": 0.024464,
     "end_time": "2020-09-25T11:38:33.579322",
     "exception": false,
     "start_time": "2020-09-25T11:38:33.554858",
     "status": "completed"
    },
    "tags": []
   },
   "outputs": [],
   "source": [
    "#hide\n",
    "overview = '''\n",
    "<!-- #######  HTML!! #########-->\n",
    "<h1 style=\"color: #5e9ca0; text-align: center;\">India</h1>\n",
    "<p style=\"text-align: center;\">Last update: <strong>{update}</strong></p>\n",
    "<p style=\"text-align: center;\">Confirmed cases:</p>\n",
    "<p style=\"text-align: center;font-size:24px;\">{cases} (<span style=\"color: #ff0000;\">+{new}</span>)</p>\n",
    "<p style=\"text-align: center;\">Confirmed deaths:</p>\n",
    "<p style=\"text-align: center;font-size:24px;\">{deaths} (<span style=\"color: #ff0000;\">+{dnew}</span>)</p>\n",
    "'''"
   ]
  },
  {
   "cell_type": "code",
   "execution_count": 16,
   "metadata": {
    "execution": {
     "iopub.execute_input": "2020-09-25T11:38:33.618778Z",
     "iopub.status.busy": "2020-09-25T11:38:33.618133Z",
     "iopub.status.idle": "2020-09-25T11:38:33.621582Z",
     "shell.execute_reply": "2020-09-25T11:38:33.621023Z"
    },
    "papermill": {
     "duration": 0.025694,
     "end_time": "2020-09-25T11:38:33.621747",
     "exception": false,
     "start_time": "2020-09-25T11:38:33.596053",
     "status": "completed"
    },
    "tags": []
   },
   "outputs": [
    {
     "data": {
      "text/html": [
       "\n",
       "<!-- #######  HTML!! #########-->\n",
       "<h1 style=\"color: #5e9ca0; text-align: center;\">India</h1>\n",
       "<p style=\"text-align: center;\">Last update: <strong>2020-09-25</strong></p>\n",
       "<p style=\"text-align: center;\">Confirmed cases:</p>\n",
       "<p style=\"text-align: center;font-size:24px;\">5823066 (<span style=\"color: #ff0000;\">+6963</span>)</p>\n",
       "<p style=\"text-align: center;\">Confirmed deaths:</p>\n",
       "<p style=\"text-align: center;font-size:24px;\">92347 (<span style=\"color: #ff0000;\">+30</span>)</p>\n"
      ],
      "text/plain": [
       "<IPython.core.display.HTML object>"
      ]
     },
     "metadata": {},
     "output_type": "display_data"
    }
   ],
   "source": [
    "#hide_input\n",
    "update = summary['updated']\n",
    "cases = summary['Cases']\n",
    "new = summary['Cases (+)']\n",
    "deaths = summary['Deaths']\n",
    "dnew = summary['Deaths (+)']\n",
    "\n",
    "html = HTML(overview.format(update=update, cases=cases,new=new,deaths=deaths,dnew=dnew))\n",
    "\n",
    "display(html)"
   ]
  },
  {
   "cell_type": "code",
   "execution_count": 17,
   "metadata": {
    "execution": {
     "iopub.execute_input": "2020-09-25T11:38:33.664811Z",
     "iopub.status.busy": "2020-09-25T11:38:33.664167Z",
     "iopub.status.idle": "2020-09-25T11:38:33.669143Z",
     "shell.execute_reply": "2020-09-25T11:38:33.669615Z"
    },
    "papermill": {
     "duration": 0.030002,
     "end_time": "2020-09-25T11:38:33.669763",
     "exception": false,
     "start_time": "2020-09-25T11:38:33.639761",
     "status": "completed"
    },
    "tags": []
   },
   "outputs": [],
   "source": [
    "#hide\n",
    "dt_cols = list(dft_cases.columns[1:])\n",
    "dft_ct_new_cases = dft_cases.groupby('state')[dt_cols].sum().diff(axis=1).fillna(0).astype(int)\n",
    "dft_ct_new_cases.sort_values(by = dates[-1], ascending = False,inplace = True)"
   ]
  },
  {
   "cell_type": "code",
   "execution_count": 18,
   "metadata": {
    "execution": {
     "iopub.execute_input": "2020-09-25T11:38:33.725888Z",
     "iopub.status.busy": "2020-09-25T11:38:33.725240Z",
     "iopub.status.idle": "2020-09-25T11:38:33.728075Z",
     "shell.execute_reply": "2020-09-25T11:38:33.728570Z"
    },
    "papermill": {
     "duration": 0.041729,
     "end_time": "2020-09-25T11:38:33.728721",
     "exception": false,
     "start_time": "2020-09-25T11:38:33.686992",
     "status": "completed"
    },
    "tags": []
   },
   "outputs": [
    {
     "data": {
      "text/html": [
       "<div>\n",
       "<style scoped>\n",
       "    .dataframe tbody tr th:only-of-type {\n",
       "        vertical-align: middle;\n",
       "    }\n",
       "\n",
       "    .dataframe tbody tr th {\n",
       "        vertical-align: top;\n",
       "    }\n",
       "\n",
       "    .dataframe thead th {\n",
       "        text-align: right;\n",
       "    }\n",
       "</style>\n",
       "<table border=\"1\" class=\"dataframe\">\n",
       "  <thead>\n",
       "    <tr style=\"text-align: right;\">\n",
       "      <th>states</th>\n",
       "      <th>2020-07-01</th>\n",
       "      <th>2020-07-02</th>\n",
       "      <th>2020-07-03</th>\n",
       "      <th>2020-07-04</th>\n",
       "      <th>2020-07-05</th>\n",
       "      <th>2020-07-06</th>\n",
       "      <th>2020-07-07</th>\n",
       "      <th>2020-07-08</th>\n",
       "      <th>2020-07-09</th>\n",
       "      <th>2020-07-10</th>\n",
       "      <th>...</th>\n",
       "      <th>2020-09-16</th>\n",
       "      <th>2020-09-17</th>\n",
       "      <th>2020-09-18</th>\n",
       "      <th>2020-09-19</th>\n",
       "      <th>2020-09-20</th>\n",
       "      <th>2020-09-21</th>\n",
       "      <th>2020-09-22</th>\n",
       "      <th>2020-09-23</th>\n",
       "      <th>2020-09-24</th>\n",
       "      <th>2020-09-25</th>\n",
       "    </tr>\n",
       "    <tr>\n",
       "      <th>state</th>\n",
       "      <th></th>\n",
       "      <th></th>\n",
       "      <th></th>\n",
       "      <th></th>\n",
       "      <th></th>\n",
       "      <th></th>\n",
       "      <th></th>\n",
       "      <th></th>\n",
       "      <th></th>\n",
       "      <th></th>\n",
       "      <th></th>\n",
       "      <th></th>\n",
       "      <th></th>\n",
       "      <th></th>\n",
       "      <th></th>\n",
       "      <th></th>\n",
       "      <th></th>\n",
       "      <th></th>\n",
       "      <th></th>\n",
       "      <th></th>\n",
       "      <th></th>\n",
       "    </tr>\n",
       "  </thead>\n",
       "  <tbody>\n",
       "    <tr>\n",
       "      <th>Odisha</th>\n",
       "      <td>0</td>\n",
       "      <td>229</td>\n",
       "      <td>561</td>\n",
       "      <td>495</td>\n",
       "      <td>469</td>\n",
       "      <td>456</td>\n",
       "      <td>571</td>\n",
       "      <td>527</td>\n",
       "      <td>577</td>\n",
       "      <td>755</td>\n",
       "      <td>...</td>\n",
       "      <td>4270</td>\n",
       "      <td>4241</td>\n",
       "      <td>4180</td>\n",
       "      <td>4209</td>\n",
       "      <td>4330</td>\n",
       "      <td>4242</td>\n",
       "      <td>4189</td>\n",
       "      <td>4237</td>\n",
       "      <td>4340</td>\n",
       "      <td>4208</td>\n",
       "    </tr>\n",
       "    <tr>\n",
       "      <th>Telangana</th>\n",
       "      <td>0</td>\n",
       "      <td>1213</td>\n",
       "      <td>1892</td>\n",
       "      <td>1850</td>\n",
       "      <td>1590</td>\n",
       "      <td>1831</td>\n",
       "      <td>1879</td>\n",
       "      <td>1924</td>\n",
       "      <td>1410</td>\n",
       "      <td>1278</td>\n",
       "      <td>...</td>\n",
       "      <td>2273</td>\n",
       "      <td>2159</td>\n",
       "      <td>2043</td>\n",
       "      <td>2123</td>\n",
       "      <td>2137</td>\n",
       "      <td>1302</td>\n",
       "      <td>2166</td>\n",
       "      <td>2296</td>\n",
       "      <td>2176</td>\n",
       "      <td>2381</td>\n",
       "    </tr>\n",
       "    <tr>\n",
       "      <th>Tripura</th>\n",
       "      <td>0</td>\n",
       "      <td>39</td>\n",
       "      <td>93</td>\n",
       "      <td>25</td>\n",
       "      <td>23</td>\n",
       "      <td>111</td>\n",
       "      <td>24</td>\n",
       "      <td>57</td>\n",
       "      <td>16</td>\n",
       "      <td>142</td>\n",
       "      <td>...</td>\n",
       "      <td>454</td>\n",
       "      <td>527</td>\n",
       "      <td>273</td>\n",
       "      <td>535</td>\n",
       "      <td>525</td>\n",
       "      <td>243</td>\n",
       "      <td>559</td>\n",
       "      <td>504</td>\n",
       "      <td>451</td>\n",
       "      <td>341</td>\n",
       "    </tr>\n",
       "    <tr>\n",
       "      <th>Mizoram</th>\n",
       "      <td>0</td>\n",
       "      <td>2</td>\n",
       "      <td>0</td>\n",
       "      <td>2</td>\n",
       "      <td>22</td>\n",
       "      <td>11</td>\n",
       "      <td>1</td>\n",
       "      <td>5</td>\n",
       "      <td>0</td>\n",
       "      <td>23</td>\n",
       "      <td>...</td>\n",
       "      <td>12</td>\n",
       "      <td>26</td>\n",
       "      <td>28</td>\n",
       "      <td>14</td>\n",
       "      <td>30</td>\n",
       "      <td>7</td>\n",
       "      <td>106</td>\n",
       "      <td>22</td>\n",
       "      <td>46</td>\n",
       "      <td>27</td>\n",
       "    </tr>\n",
       "    <tr>\n",
       "      <th>Dadra and Nagar Haveli and Daman and Diu</th>\n",
       "      <td>0</td>\n",
       "      <td>25</td>\n",
       "      <td>50</td>\n",
       "      <td>37</td>\n",
       "      <td>32</td>\n",
       "      <td>27</td>\n",
       "      <td>27</td>\n",
       "      <td>15</td>\n",
       "      <td>14</td>\n",
       "      <td>14</td>\n",
       "      <td>...</td>\n",
       "      <td>27</td>\n",
       "      <td>21</td>\n",
       "      <td>28</td>\n",
       "      <td>28</td>\n",
       "      <td>37</td>\n",
       "      <td>9</td>\n",
       "      <td>10</td>\n",
       "      <td>18</td>\n",
       "      <td>13</td>\n",
       "      <td>6</td>\n",
       "    </tr>\n",
       "  </tbody>\n",
       "</table>\n",
       "<p>5 rows × 87 columns</p>\n",
       "</div>"
      ],
      "text/plain": [
       "states                                    2020-07-01  2020-07-02  2020-07-03  \\\n",
       "state                                                                          \n",
       "Odisha                                             0         229         561   \n",
       "Telangana                                          0        1213        1892   \n",
       "Tripura                                            0          39          93   \n",
       "Mizoram                                            0           2           0   \n",
       "Dadra and Nagar Haveli and Daman and Diu           0          25          50   \n",
       "\n",
       "states                                    2020-07-04  2020-07-05  2020-07-06  \\\n",
       "state                                                                          \n",
       "Odisha                                           495         469         456   \n",
       "Telangana                                       1850        1590        1831   \n",
       "Tripura                                           25          23         111   \n",
       "Mizoram                                            2          22          11   \n",
       "Dadra and Nagar Haveli and Daman and Diu          37          32          27   \n",
       "\n",
       "states                                    2020-07-07  2020-07-08  2020-07-09  \\\n",
       "state                                                                          \n",
       "Odisha                                           571         527         577   \n",
       "Telangana                                       1879        1924        1410   \n",
       "Tripura                                           24          57          16   \n",
       "Mizoram                                            1           5           0   \n",
       "Dadra and Nagar Haveli and Daman and Diu          27          15          14   \n",
       "\n",
       "states                                    2020-07-10  ...  2020-09-16  \\\n",
       "state                                                 ...               \n",
       "Odisha                                           755  ...        4270   \n",
       "Telangana                                       1278  ...        2273   \n",
       "Tripura                                          142  ...         454   \n",
       "Mizoram                                           23  ...          12   \n",
       "Dadra and Nagar Haveli and Daman and Diu          14  ...          27   \n",
       "\n",
       "states                                    2020-09-17  2020-09-18  2020-09-19  \\\n",
       "state                                                                          \n",
       "Odisha                                          4241        4180        4209   \n",
       "Telangana                                       2159        2043        2123   \n",
       "Tripura                                          527         273         535   \n",
       "Mizoram                                           26          28          14   \n",
       "Dadra and Nagar Haveli and Daman and Diu          21          28          28   \n",
       "\n",
       "states                                    2020-09-20  2020-09-21  2020-09-22  \\\n",
       "state                                                                          \n",
       "Odisha                                          4330        4242        4189   \n",
       "Telangana                                       2137        1302        2166   \n",
       "Tripura                                          525         243         559   \n",
       "Mizoram                                           30           7         106   \n",
       "Dadra and Nagar Haveli and Daman and Diu          37           9          10   \n",
       "\n",
       "states                                    2020-09-23  2020-09-24  2020-09-25  \n",
       "state                                                                         \n",
       "Odisha                                          4237        4340        4208  \n",
       "Telangana                                       2296        2176        2381  \n",
       "Tripura                                          504         451         341  \n",
       "Mizoram                                           22          46          27  \n",
       "Dadra and Nagar Haveli and Daman and Diu          18          13           6  \n",
       "\n",
       "[5 rows x 87 columns]"
      ]
     },
     "execution_count": 18,
     "metadata": {},
     "output_type": "execute_result"
    }
   ],
   "source": [
    "#hide\n",
    "dft_ct_new_cases.head()"
   ]
  },
  {
   "cell_type": "code",
   "execution_count": 19,
   "metadata": {
    "execution": {
     "iopub.execute_input": "2020-09-25T11:38:33.768305Z",
     "iopub.status.busy": "2020-09-25T11:38:33.767612Z",
     "iopub.status.idle": "2020-09-25T11:38:37.909709Z",
     "shell.execute_reply": "2020-09-25T11:38:37.909126Z"
    },
    "papermill": {
     "duration": 4.162574,
     "end_time": "2020-09-25T11:38:37.909879",
     "exception": false,
     "start_time": "2020-09-25T11:38:33.747305",
     "status": "completed"
    },
    "tags": []
   },
   "outputs": [
    {
     "data": {
      "image/png": "[encoded data removed]",
      "text/plain": [
       "<Figure size 1296x2016 with 11 Axes>"
      ]
     },
     "metadata": {
      "needs_background": "light"
     },
     "output_type": "display_data"
    }
   ],
   "source": [
    "#hide_input\n",
    "df = dft_ct_new_cases.copy()\n",
    "df.loc['Total'] = df.sum()\n",
    "n = 5\n",
    "ax = []\n",
    "fig = plt.figure(figsize = (18,28))\n",
    "gs = fig.add_gridspec(n+2, 5)\n",
    "# gs = fig.add_gridspec(2, 3)\n",
    "ax1 = fig.add_subplot(gs[0, :])\n",
    "ef = df.loc['Total'].rename_axis('date').reset_index()\n",
    "ef['date'] = ef['date'].astype('datetime64[ns]')\n",
    "ax1.bar(ef.date,ef.Total,alpha=0.3,color='#007acc')\n",
    "ax1.plot(ef.date,ef.Total , marker=\"o\", color='#007acc')\n",
    "ax1.xaxis.set_major_locator(mdates.WeekdayLocator())\n",
    "ax1.xaxis.set_major_formatter(mdates.DateFormatter('%b %d'))\n",
    "ax1.text(0.02, 0.5,'India daily case count', transform = ax1.transAxes, fontsize=25);\n",
    "ax1.spines['right'].set_visible(False)\n",
    "ax1.spines['top'].set_visible(False)\n",
    "\n",
    "ax2 = fig.add_subplot(gs[1,0])\n",
    "ef = df.loc['Maharashtra'].rename_axis('date').reset_index()\n",
    "ef['date'] = ef['date'].astype('datetime64[ns]')\n",
    "\n",
    "ax2.bar(ef.date, ef.Maharashtra,color = '#007acc',alpha=0.5)\n",
    "ax2.xaxis.set_major_locator(mdates.WeekdayLocator())\n",
    "ax2.xaxis.set_major_formatter(mdates.DateFormatter('%b %d'))\n",
    "ax2.set_xticks(ax2.get_xticks()[::3])\n",
    "maxyval = ef.Maharashtra.max()\n",
    "ax2.set_ylim([0,maxyval])\n",
    "ax2.text(0.05, 0.9,'Maharashtra', transform = ax2.transAxes, fontsize=20);\n",
    "ax2.spines['right'].set_visible(False)\n",
    "ax2.spines['top'].set_visible(False)\n",
    "\n",
    "\n",
    "ax3 = fig.add_subplot(gs[1,1])\n",
    "ef = df.loc['Tamil Nadu'].rename_axis('date').reset_index()\n",
    "ef['date'] = ef['date'].astype('datetime64[ns]')\n",
    "ax3.bar(ef.date, ef['Tamil Nadu'],color = '#007acc',alpha=0.5,)\n",
    "ax3.xaxis.set_major_locator(mdates.WeekdayLocator())\n",
    "ax3.xaxis.set_major_formatter(mdates.DateFormatter('%b %d'))\n",
    "ax3.set_xticks(ax3.get_xticks()[::3])\n",
    "ax3.text(0.05, 0.9,'Tamil Nadu', transform = ax3.transAxes, fontsize=20);\n",
    "ax3.spines['right'].set_visible(False)\n",
    "ax3.spines['top'].set_visible(False)\n",
    "\n",
    "ax5 = fig.add_subplot(gs[1,3])\n",
    "ef = df.loc['Telangana'].rename_axis('date').reset_index()\n",
    "ef['date'] = ef['date'].astype('datetime64[ns]')\n",
    "ax5.bar(ef.date, ef['Telangana'],color = '#007acc',alpha=0.5,)\n",
    "ax5.xaxis.set_major_locator(mdates.WeekdayLocator())\n",
    "ax5.xaxis.set_major_formatter(mdates.DateFormatter('%b %d'))\n",
    "ax5.set_xticks(ax5.get_xticks()[::3])\n",
    "ax5.text(0.05, 0.9,'Telangana', transform = ax5.transAxes, fontsize=20);\n",
    "ax5.spines['right'].set_visible(False)\n",
    "ax5.spines['top'].set_visible(False)\n",
    "\n",
    "ax6 = fig.add_subplot(gs[1,4])\n",
    "ef = df.loc['Andhra Pradesh'].rename_axis('date').reset_index()\n",
    "ef['date'] = ef['date'].astype('datetime64[ns]')\n",
    "ax6.bar(ef.date, ef['Andhra Pradesh'],color = '#007acc',alpha=0.5,)\n",
    "ax6.xaxis.set_major_locator(mdates.WeekdayLocator())\n",
    "ax6.xaxis.set_major_formatter(mdates.DateFormatter('%b %d'))\n",
    "ax6.set_xticks(ax6.get_xticks()[::3])\n",
    "ax6.text(0.05, 1,'Andhra Pradesh', transform = ax6.transAxes, fontsize=20);\n",
    "ax6.spines['right'].set_visible(False)\n",
    "ax6.spines['top'].set_visible(False)\n",
    "\n",
    "ax4 = fig.add_subplot(gs[1,2])\n",
    "ef = df.loc['Delhi'].rename_axis('date').reset_index()\n",
    "ef['date'] = ef['date'].astype('datetime64[ns]')\n",
    "ax4.bar(ef.date, ef.Delhi,color = '#007acc',alpha=0.5)\n",
    "ax4.set_xticks([])\n",
    "ax4.xaxis.set_major_locator(mdates.WeekdayLocator())\n",
    "ax4.xaxis.set_major_formatter(mdates.DateFormatter('%b %d'))\n",
    "ax4.set_xticks(ax4.get_xticks()[::3])\n",
    "ax4.spines['right'].set_visible(False)\n",
    "ax4.spines['top'].set_visible(False)\n",
    "\n",
    "ax4.text(0.05, 1,'Delhi', transform = ax4.transAxes, fontsize=20)\n",
    "\n",
    "for i in range(n):\n",
    "    \n",
    "    ax.append(fig.add_subplot(gs[i+2,:]))\n",
    "    ef = df.iloc[i+3].rename_axis('date').reset_index()\n",
    "    ef['date'] = ef['date'].astype('datetime64[ns]')\n",
    "    ax[i].bar(ef.date,ef.iloc[:,-1],color = '#007acc',alpha=0.3)\n",
    "    ax[i].plot(ef.date,ef.iloc[:,-1],marker='o',color='#007acc')\n",
    "    ax[i].text(0.02,0.5,f'{ef.columns.values[-1]}',transform = ax[i].transAxes, fontsize = 20);\n",
    "    ax[i].xaxis.set_major_locator(mdates.WeekdayLocator())\n",
    "    ax[i].xaxis.set_major_formatter(mdates.DateFormatter('%b %d'))\n",
    "    ax[i].set_ylim([0,7000])\n",
    "    ax[i].spines['right'].set_visible(False)\n",
    "    ax[i].spines['top'].set_visible(False)\n",
    "plt.tight_layout()\n"
   ]
  },
  {
   "cell_type": "code",
   "execution_count": 20,
   "metadata": {
    "execution": {
     "iopub.execute_input": "2020-09-25T11:38:37.988210Z",
     "iopub.status.busy": "2020-09-25T11:38:37.987524Z",
     "iopub.status.idle": "2020-09-25T11:38:37.990024Z",
     "shell.execute_reply": "2020-09-25T11:38:37.990560Z"
    },
    "papermill": {
     "duration": 0.052335,
     "end_time": "2020-09-25T11:38:37.990729",
     "exception": false,
     "start_time": "2020-09-25T11:38:37.938394",
     "status": "completed"
    },
    "tags": []
   },
   "outputs": [
    {
     "name": "stdout",
     "output_type": "stream",
     "text": [
      "                                   states    Cases  Deaths   PCases  PDeaths  Cases (+)  Deaths (+)  Fatality Rate\n",
      "                              Maharashtra  1282963   34345  1282963    34345          0           0           2.68\n",
      "                           Andhra Pradesh   654385    5558   654385     5558          0           0           0.85\n",
      "                               Tamil Nadu   563691    9076   563691     9076          0           0           1.61\n",
      "                                Karnataka   548557    8331   548557     8331          0           0           1.52\n",
      "                            Uttar Pradesh   374277    5366   374277     5366          0           0           1.43\n",
      "                                    Delhi   260623    5123   260623     5123          0           0           1.97\n",
      "                              West Bengal   237869    4606   237869     4606          0           0           1.94\n",
      "                                   Odisha   201096     820   196888      805       4208          15           0.41\n",
      "                                Telangana   181627    1080   179246     1070       2381          10           0.59\n",
      "                                    Bihar   174266     878   174266      878          0           0           0.50\n",
      "                                    Assam   165582     608   165582      608          0           0           0.37\n",
      "                                   Kerala   154458     614   154458      614          0           0           0.40\n",
      "                                  Gujarat   128949    3382   128949     3382          0           0           2.62\n",
      "                                Rajasthan   122720    1397   122720     1397          0           0           1.14\n",
      "                                  Haryana   118554    1255   118554     1255          0           0           1.06\n",
      "                           Madhya Pradesh   115361    2122   115361     2122          0           0           1.84\n",
      "                                   Punjab   105220    3066   105220     3066          0           0           2.91\n",
      "                             Chhattisgarh    95623     752    95623      752          0           0           0.79\n",
      "                                Jharkhand    76438     652    76438      652          0           0           0.85\n",
      "                        Jammu and Kashmir    68614    1084    68614     1084          0           0           1.58\n",
      "                              Uttarakhand    44404     542    44404      542          0           0           1.22\n",
      "                                      Goa    30552     383    30552      383          0           0           1.25\n",
      "                               Puducherry    24895     487    24895      487          0           0           1.96\n",
      "                                  Tripura    24127     262    23786      257        341           5           1.09\n",
      "                         Himachal Pradesh    13386     145    13386      145          0           0           1.08\n",
      "                               Chandigarh    10968     144    10968      144          0           0           1.31\n",
      "                                  Manipur     9537      62     9537       62          0           0           0.65\n",
      "                        Arunachal Pradesh     8416      14     8416       14          0           0           0.17\n",
      "                                 Nagaland     5730      11     5730       11          0           0           0.19\n",
      "                                Meghalaya     5083      43     5083       43          0           0           0.85\n",
      "                                   Ladakh     3969      54     3969       54          0           0           1.36\n",
      "              Andaman and Nicobar Islands     3744      52     3744       52          0           0           1.39\n",
      " Dadra and Nagar Haveli and Daman and Diu     2984       2     2978        2          6           0           0.07\n",
      "                                   Sikkim     2612      31     2612       31          0           0           1.19\n",
      "                                  Mizoram     1786       0     1759        0         27           0           0.00\n",
      "                              Lakshadweep        0       0        0        0          0           0            NaN\n"
     ]
    }
   ],
   "source": [
    "#hide_input\n",
    "print(df_table.to_string(index=False))"
   ]
  },
  {
   "cell_type": "code",
   "execution_count": null,
   "metadata": {
    "papermill": {
     "duration": 0.047169,
     "end_time": "2020-09-25T11:38:38.067744",
     "exception": false,
     "start_time": "2020-09-25T11:38:38.020575",
     "status": "completed"
    },
    "tags": []
   },
   "outputs": [],
   "source": []
  },
  {
   "cell_type": "code",
   "execution_count": null,
   "metadata": {
    "papermill": {
     "duration": 0.037292,
     "end_time": "2020-09-25T11:38:38.135854",
     "exception": false,
     "start_time": "2020-09-25T11:38:38.098562",
     "status": "completed"
    },
    "tags": []
   },
   "outputs": [],
   "source": []
  }
 ],
 "metadata": {
  "kernelspec": {
   "display_name": "Python 3",
   "language": "python",
   "name": "python3"
  },
  "language_info": {
   "codemirror_mode": {
    "name": "ipython",
    "version": 3
   },
   "file_extension": ".py",
   "mimetype": "text/x-python",
   "name": "python",
   "nbconvert_exporter": "python",
   "pygments_lexer": "ipython3",
   "version": "3.6.12"
  },
  "papermill": {
   "duration": 10.657437,
   "end_time": "2020-09-25T11:38:38.584848",
   "environment_variables": {},
   "exception": null,
   "input_path": "latest.ipynb",
   "output_path": "latest.ipynb",
   "parameters": {},
   "start_time": "2020-09-25T11:38:27.927411",
   "version": "2.1.2"
  }
 },
 "nbformat": 4,
 "nbformat_minor": 4
}