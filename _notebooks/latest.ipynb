{
 "cells": [
  {
   "cell_type": "markdown",
   "metadata": {
    "papermill": {
     "duration": 0.018623,
     "end_time": "2020-10-10T13:39:21.831631",
     "exception": false,
     "start_time": "2020-10-10T13:39:21.813008",
     "status": "completed"
    },
    "tags": []
   },
   "source": [
    "# Latest COVID-19 India Matplotlib Overview"
   ]
  },
  {
   "cell_type": "code",
   "execution_count": 1,
   "metadata": {
    "execution": {
     "iopub.execute_input": "2020-10-10T13:39:21.868154Z",
     "iopub.status.busy": "2020-10-10T13:39:21.867453Z",
     "iopub.status.idle": "2020-10-10T13:39:22.428672Z",
     "shell.execute_reply": "2020-10-10T13:39:22.429091Z"
    },
    "papermill": {
     "duration": 0.582043,
     "end_time": "2020-10-10T13:39:22.429258",
     "exception": false,
     "start_time": "2020-10-10T13:39:21.847215",
     "status": "completed"
    },
    "tags": []
   },
   "outputs": [],
   "source": [
    "#hide\n",
    "import pandas as pd\n",
    "import numpy as np\n",
    "import requests\n",
    "import json\n",
    "import matplotlib.pyplot as plt\n",
    "import matplotlib.dates as mdates\n",
    "import matplotlib as mpl\n",
    "from IPython.core.display import display,HTML\n",
    "%matplotlib inline\n",
    "from datetime import date"
   ]
  },
  {
   "cell_type": "code",
   "execution_count": 2,
   "metadata": {
    "execution": {
     "iopub.execute_input": "2020-10-10T13:39:22.464947Z",
     "iopub.status.busy": "2020-10-10T13:39:22.463990Z",
     "iopub.status.idle": "2020-10-10T13:39:22.819270Z",
     "shell.execute_reply": "2020-10-10T13:39:22.818775Z"
    },
    "papermill": {
     "duration": 0.374981,
     "end_time": "2020-10-10T13:39:22.819395",
     "exception": false,
     "start_time": "2020-10-10T13:39:22.444414",
     "status": "completed"
    },
    "tags": []
   },
   "outputs": [],
   "source": [
    "#hide\n",
    "df  = pd.read_csv('https://api.covid19india.org/csv/latest/states.csv')\n",
    "df = df[['Date','State','Confirmed','Deceased']]\n",
    "df = df.rename(columns={'Confirmed':'Cases', \"Deceased\":'Deaths'})\n",
    "df_cases = df[[\"Date\",'State','Cases']]\n",
    "df_deaths = df[['Date','State','Deaths']]\n",
    "df_cases1 = df_cases.groupby('Date')\n",
    "df_deaths1= df_deaths.groupby('Date')"
   ]
  },
  {
   "cell_type": "code",
   "execution_count": 3,
   "metadata": {
    "execution": {
     "iopub.execute_input": "2020-10-10T13:39:22.855119Z",
     "iopub.status.busy": "2020-10-10T13:39:22.854368Z",
     "iopub.status.idle": "2020-10-10T13:39:22.871009Z",
     "shell.execute_reply": "2020-10-10T13:39:22.871562Z"
    },
    "papermill": {
     "duration": 0.037325,
     "end_time": "2020-10-10T13:39:22.871712",
     "exception": false,
     "start_time": "2020-10-10T13:39:22.834387",
     "status": "completed"
    },
    "tags": []
   },
   "outputs": [],
   "source": [
    "#hide\n",
    "df_snap = pd.read_csv('data/SnapshotCases-28-July.csv')\n",
    "arr_states = df_snap['states'].unique()\n",
    "arr_dates = df['Date'].unique()\n",
    "df_snap = df_snap.set_index('states')"
   ]
  },
  {
   "cell_type": "code",
   "execution_count": 4,
   "metadata": {
    "execution": {
     "iopub.execute_input": "2020-10-10T13:39:22.907746Z",
     "iopub.status.busy": "2020-10-10T13:39:22.907185Z",
     "iopub.status.idle": "2020-10-10T13:39:22.909661Z",
     "shell.execute_reply": "2020-10-10T13:39:22.910308Z"
    },
    "papermill": {
     "duration": 0.023872,
     "end_time": "2020-10-10T13:39:22.910457",
     "exception": false,
     "start_time": "2020-10-10T13:39:22.886585",
     "status": "completed"
    },
    "tags": []
   },
   "outputs": [
    {
     "data": {
      "text/plain": [
       "array(['Andaman and Nicobar Islands', 'Andhra Pradesh',\n",
       "       'Arunachal Pradesh', 'Assam', 'Bihar', 'Chandigarh',\n",
       "       'Dadra and Nagar Haveli and Daman and Diu', 'Delhi', 'Goa',\n",
       "       'Gujarat', 'Haryana', 'Himachal Pradesh', 'Jammu and Kashmir',\n",
       "       'Jharkhand', 'Karnataka', 'Kerala', 'Lakshadweep',\n",
       "       'Madhya Pradesh', 'Maharashtra', 'Manipur', 'Meghalaya', 'Mizoram',\n",
       "       'Nagaland', 'Odisha', 'Puducherry', 'Punjab', 'Rajasthan',\n",
       "       'Sikkim', 'Tamil Nadu', 'Telangana', 'Tripura', 'Uttar Pradesh',\n",
       "       'West Bengal', 'Chhattisgarh', 'Ladakh', 'Uttarakhand'],\n",
       "      dtype=object)"
      ]
     },
     "execution_count": 4,
     "metadata": {},
     "output_type": "execute_result"
    }
   ],
   "source": [
    "#hide\n",
    "arr_states[-9] = 'Puducherry'\n",
    "arr_states[-10] = 'Odisha'\n",
    "arr_states[6] = 'Dadra and Nagar Haveli and Daman and Diu'\n",
    "arr_states = np.append(arr_states,np.array(['Chhattisgarh','Ladakh','Uttarakhand']))\n",
    "arr_states"
   ]
  },
  {
   "cell_type": "code",
   "execution_count": 5,
   "metadata": {
    "execution": {
     "iopub.execute_input": "2020-10-10T13:39:22.951360Z",
     "iopub.status.busy": "2020-10-10T13:39:22.950756Z",
     "iopub.status.idle": "2020-10-10T13:39:22.958019Z",
     "shell.execute_reply": "2020-10-10T13:39:22.957469Z"
    },
    "papermill": {
     "duration": 0.033083,
     "end_time": "2020-10-10T13:39:22.958167",
     "exception": false,
     "start_time": "2020-10-10T13:39:22.925084",
     "status": "completed"
    },
    "tags": []
   },
   "outputs": [],
   "source": [
    "#hide\n",
    "dates = []\n",
    "for i in arr_dates:\n",
    "    if i>='2020-07-01':\n",
    "        dates.append(i)\n",
    "dict = {'states':dates}\n",
    "for i in arr_states:\n",
    "    dict[i] = [0]*len(dates)\n",
    "dft_cases = pd.DataFrame(dict)\n",
    "dft_deaths = pd.DataFrame(dict)\n"
   ]
  },
  {
   "cell_type": "code",
   "execution_count": 6,
   "metadata": {
    "execution": {
     "iopub.execute_input": "2020-10-10T13:39:22.993993Z",
     "iopub.status.busy": "2020-10-10T13:39:22.993245Z",
     "iopub.status.idle": "2020-10-10T13:39:24.629802Z",
     "shell.execute_reply": "2020-10-10T13:39:24.628791Z"
    },
    "papermill": {
     "duration": 1.65653,
     "end_time": "2020-10-10T13:39:24.629999",
     "exception": false,
     "start_time": "2020-10-10T13:39:22.973469",
     "status": "completed"
    },
    "tags": []
   },
   "outputs": [],
   "source": [
    "#hide\n",
    "for i in range(len(dates)):\n",
    "    df1_deaths = df_deaths1.get_group(dates[i])\n",
    "    for j in range(len(df1_deaths.index)):\n",
    "        if df1_deaths.iloc[j,1] in arr_states:\n",
    "            dft_deaths.loc[i,df1_deaths.iloc[j,1]] = df1_deaths.iloc[j,2]\n",
    "dft_deaths = dft_deaths.set_index('states')"
   ]
  },
  {
   "cell_type": "code",
   "execution_count": 7,
   "metadata": {
    "execution": {
     "iopub.execute_input": "2020-10-10T13:39:24.667887Z",
     "iopub.status.busy": "2020-10-10T13:39:24.667147Z",
     "iopub.status.idle": "2020-10-10T13:39:26.281163Z",
     "shell.execute_reply": "2020-10-10T13:39:26.281668Z"
    },
    "papermill": {
     "duration": 1.635944,
     "end_time": "2020-10-10T13:39:26.281837",
     "exception": false,
     "start_time": "2020-10-10T13:39:24.645893",
     "status": "completed"
    },
    "tags": []
   },
   "outputs": [],
   "source": [
    "#hide\n",
    "for i in range(len(dates)):\n",
    "    df1_cases = df_cases1.get_group(dates[i])\n",
    "    for j in range(len(df1_cases.index)):\n",
    "        if df1_cases.iloc[j,1] in arr_states:\n",
    "            dft_cases.loc[i,df1_cases.iloc[j,1]] = df1_cases.iloc[j,2]\n",
    "dft_cases = dft_cases.set_index('states')"
   ]
  },
  {
   "cell_type": "code",
   "execution_count": 8,
   "metadata": {
    "execution": {
     "iopub.execute_input": "2020-10-10T13:39:26.326168Z",
     "iopub.status.busy": "2020-10-10T13:39:26.325596Z",
     "iopub.status.idle": "2020-10-10T13:39:26.329250Z",
     "shell.execute_reply": "2020-10-10T13:39:26.329688Z"
    },
    "papermill": {
     "duration": 0.03028,
     "end_time": "2020-10-10T13:39:26.329897",
     "exception": false,
     "start_time": "2020-10-10T13:39:26.299617",
     "status": "completed"
    },
    "tags": []
   },
   "outputs": [],
   "source": [
    "#hide\n",
    "dft_cases = dft_cases.T\n",
    "dft_deaths = dft_deaths.T\n",
    "dt_today = dates[-1]\n",
    "dt_yday = dates[-2]"
   ]
  },
  {
   "cell_type": "code",
   "execution_count": 9,
   "metadata": {
    "execution": {
     "iopub.execute_input": "2020-10-10T13:39:26.582960Z",
     "iopub.status.busy": "2020-10-10T13:39:26.582342Z",
     "iopub.status.idle": "2020-10-10T13:39:26.583574Z",
     "shell.execute_reply": "2020-10-10T13:39:26.584240Z"
    },
    "papermill": {
     "duration": 0.027335,
     "end_time": "2020-10-10T13:39:26.584447",
     "exception": false,
     "start_time": "2020-10-10T13:39:26.557112",
     "status": "completed"
    },
    "tags": []
   },
   "outputs": [],
   "source": [
    "#hide\n",
    "dft_cases = dft_cases.reset_index()\n",
    "dft_deaths = dft_deaths.reset_index()\n",
    "dft_cases = dft_cases.rename(columns = {'index':'state'})\n",
    "dft_deaths = dft_deaths.rename(columns = {'index':'state'})"
   ]
  },
  {
   "cell_type": "code",
   "execution_count": 10,
   "metadata": {
    "execution": {
     "iopub.execute_input": "2020-10-10T13:39:26.627497Z",
     "iopub.status.busy": "2020-10-10T13:39:26.626907Z",
     "iopub.status.idle": "2020-10-10T13:39:26.629398Z",
     "shell.execute_reply": "2020-10-10T13:39:26.628947Z"
    },
    "papermill": {
     "duration": 0.030115,
     "end_time": "2020-10-10T13:39:26.629503",
     "exception": false,
     "start_time": "2020-10-10T13:39:26.599388",
     "status": "completed"
    },
    "tags": []
   },
   "outputs": [],
   "source": [
    "#hide\n",
    "dfc_cases = dft_cases.groupby('state')[dt_today].sum()\n",
    "dfc_deaths = dft_deaths.groupby('state')[dt_today].sum()\n",
    "dfp_cases = dft_cases.groupby('state')[dt_yday].sum()\n",
    "dfp_deaths = dft_deaths.groupby('state')[dt_yday].sum()"
   ]
  },
  {
   "cell_type": "code",
   "execution_count": 11,
   "metadata": {
    "execution": {
     "iopub.execute_input": "2020-10-10T13:39:26.673303Z",
     "iopub.status.busy": "2020-10-10T13:39:26.672732Z",
     "iopub.status.idle": "2020-10-10T13:39:26.678610Z",
     "shell.execute_reply": "2020-10-10T13:39:26.679146Z"
    },
    "papermill": {
     "duration": 0.034426,
     "end_time": "2020-10-10T13:39:26.679278",
     "exception": false,
     "start_time": "2020-10-10T13:39:26.644852",
     "status": "completed"
    },
    "tags": []
   },
   "outputs": [
    {
     "data": {
      "text/html": [
       "<div>\n",
       "<style scoped>\n",
       "    .dataframe tbody tr th:only-of-type {\n",
       "        vertical-align: middle;\n",
       "    }\n",
       "\n",
       "    .dataframe tbody tr th {\n",
       "        vertical-align: top;\n",
       "    }\n",
       "\n",
       "    .dataframe thead th {\n",
       "        text-align: right;\n",
       "    }\n",
       "</style>\n",
       "<table border=\"1\" class=\"dataframe\">\n",
       "  <thead>\n",
       "    <tr style=\"text-align: right;\">\n",
       "      <th></th>\n",
       "      <th>states</th>\n",
       "      <th>Cases</th>\n",
       "      <th>Deaths</th>\n",
       "      <th>PCases</th>\n",
       "      <th>PDeaths</th>\n",
       "    </tr>\n",
       "  </thead>\n",
       "  <tbody>\n",
       "    <tr>\n",
       "      <th>0</th>\n",
       "      <td>Maharashtra</td>\n",
       "      <td>1506018</td>\n",
       "      <td>39732</td>\n",
       "      <td>1506018</td>\n",
       "      <td>39732</td>\n",
       "    </tr>\n",
       "    <tr>\n",
       "      <th>1</th>\n",
       "      <td>Andhra Pradesh</td>\n",
       "      <td>744864</td>\n",
       "      <td>6159</td>\n",
       "      <td>744864</td>\n",
       "      <td>6159</td>\n",
       "    </tr>\n",
       "    <tr>\n",
       "      <th>2</th>\n",
       "      <td>Karnataka</td>\n",
       "      <td>690269</td>\n",
       "      <td>9789</td>\n",
       "      <td>690269</td>\n",
       "      <td>9789</td>\n",
       "    </tr>\n",
       "    <tr>\n",
       "      <th>3</th>\n",
       "      <td>Tamil Nadu</td>\n",
       "      <td>646128</td>\n",
       "      <td>10120</td>\n",
       "      <td>646128</td>\n",
       "      <td>10120</td>\n",
       "    </tr>\n",
       "    <tr>\n",
       "      <th>4</th>\n",
       "      <td>Uttar Pradesh</td>\n",
       "      <td>430666</td>\n",
       "      <td>6293</td>\n",
       "      <td>430666</td>\n",
       "      <td>6293</td>\n",
       "    </tr>\n",
       "  </tbody>\n",
       "</table>\n",
       "</div>"
      ],
      "text/plain": [
       "           states    Cases  Deaths   PCases  PDeaths\n",
       "0     Maharashtra  1506018   39732  1506018    39732\n",
       "1  Andhra Pradesh   744864    6159   744864     6159\n",
       "2       Karnataka   690269    9789   690269     9789\n",
       "3      Tamil Nadu   646128   10120   646128    10120\n",
       "4   Uttar Pradesh   430666    6293   430666     6293"
      ]
     },
     "execution_count": 11,
     "metadata": {},
     "output_type": "execute_result"
    }
   ],
   "source": [
    "#hide\n",
    "df_table = pd.DataFrame({'states': dfc_cases.index, 'Cases': dfc_cases.values, 'Deaths': dfc_deaths.values, 'PCases': dfp_cases.values, 'PDeaths': dfp_deaths.values}).set_index('states')\n",
    "df_table = df_table.sort_values(by = ['Cases','Deaths'], ascending = [False, False])\n",
    "df_table = df_table.reset_index()\n",
    "df_table.head()"
   ]
  },
  {
   "cell_type": "code",
   "execution_count": 12,
   "metadata": {
    "execution": {
     "iopub.execute_input": "2020-10-10T13:39:26.715896Z",
     "iopub.status.busy": "2020-10-10T13:39:26.715252Z",
     "iopub.status.idle": "2020-10-10T13:39:26.723646Z",
     "shell.execute_reply": "2020-10-10T13:39:26.723184Z"
    },
    "papermill": {
     "duration": 0.028469,
     "end_time": "2020-10-10T13:39:26.723756",
     "exception": false,
     "start_time": "2020-10-10T13:39:26.695287",
     "status": "completed"
    },
    "tags": []
   },
   "outputs": [],
   "source": [
    "#hide\n",
    "for c in 'Cases, Deaths'.split(', '):\n",
    "    df_table[f'{c} (+)'] = (df_table[c] - df_table[f'P{c}']).clip(0)\n",
    "df_table['Fatality Rate'] = (100* df_table['Deaths']/ df_table['Cases']).round(2)"
   ]
  },
  {
   "cell_type": "code",
   "execution_count": 13,
   "metadata": {
    "execution": {
     "iopub.execute_input": "2020-10-10T13:39:26.761626Z",
     "iopub.status.busy": "2020-10-10T13:39:26.760781Z",
     "iopub.status.idle": "2020-10-10T13:39:26.767788Z",
     "shell.execute_reply": "2020-10-10T13:39:26.768228Z"
    },
    "papermill": {
     "duration": 0.029034,
     "end_time": "2020-10-10T13:39:26.768343",
     "exception": false,
     "start_time": "2020-10-10T13:39:26.739309",
     "status": "completed"
    },
    "tags": []
   },
   "outputs": [
    {
     "data": {
      "text/html": [
       "<div>\n",
       "<style scoped>\n",
       "    .dataframe tbody tr th:only-of-type {\n",
       "        vertical-align: middle;\n",
       "    }\n",
       "\n",
       "    .dataframe tbody tr th {\n",
       "        vertical-align: top;\n",
       "    }\n",
       "\n",
       "    .dataframe thead th {\n",
       "        text-align: right;\n",
       "    }\n",
       "</style>\n",
       "<table border=\"1\" class=\"dataframe\">\n",
       "  <thead>\n",
       "    <tr style=\"text-align: right;\">\n",
       "      <th></th>\n",
       "      <th>states</th>\n",
       "      <th>Cases</th>\n",
       "      <th>Deaths</th>\n",
       "      <th>PCases</th>\n",
       "      <th>PDeaths</th>\n",
       "      <th>Cases (+)</th>\n",
       "      <th>Deaths (+)</th>\n",
       "      <th>Fatality Rate</th>\n",
       "    </tr>\n",
       "  </thead>\n",
       "  <tbody>\n",
       "    <tr>\n",
       "      <th>0</th>\n",
       "      <td>Maharashtra</td>\n",
       "      <td>1506018</td>\n",
       "      <td>39732</td>\n",
       "      <td>1506018</td>\n",
       "      <td>39732</td>\n",
       "      <td>0</td>\n",
       "      <td>0</td>\n",
       "      <td>2.64</td>\n",
       "    </tr>\n",
       "    <tr>\n",
       "      <th>1</th>\n",
       "      <td>Andhra Pradesh</td>\n",
       "      <td>744864</td>\n",
       "      <td>6159</td>\n",
       "      <td>744864</td>\n",
       "      <td>6159</td>\n",
       "      <td>0</td>\n",
       "      <td>0</td>\n",
       "      <td>0.83</td>\n",
       "    </tr>\n",
       "    <tr>\n",
       "      <th>2</th>\n",
       "      <td>Karnataka</td>\n",
       "      <td>690269</td>\n",
       "      <td>9789</td>\n",
       "      <td>690269</td>\n",
       "      <td>9789</td>\n",
       "      <td>0</td>\n",
       "      <td>0</td>\n",
       "      <td>1.42</td>\n",
       "    </tr>\n",
       "    <tr>\n",
       "      <th>3</th>\n",
       "      <td>Tamil Nadu</td>\n",
       "      <td>646128</td>\n",
       "      <td>10120</td>\n",
       "      <td>646128</td>\n",
       "      <td>10120</td>\n",
       "      <td>0</td>\n",
       "      <td>0</td>\n",
       "      <td>1.57</td>\n",
       "    </tr>\n",
       "    <tr>\n",
       "      <th>4</th>\n",
       "      <td>Uttar Pradesh</td>\n",
       "      <td>430666</td>\n",
       "      <td>6293</td>\n",
       "      <td>430666</td>\n",
       "      <td>6293</td>\n",
       "      <td>0</td>\n",
       "      <td>0</td>\n",
       "      <td>1.46</td>\n",
       "    </tr>\n",
       "  </tbody>\n",
       "</table>\n",
       "</div>"
      ],
      "text/plain": [
       "           states    Cases  Deaths   PCases  PDeaths  Cases (+)  Deaths (+)  \\\n",
       "0     Maharashtra  1506018   39732  1506018    39732          0           0   \n",
       "1  Andhra Pradesh   744864    6159   744864     6159          0           0   \n",
       "2       Karnataka   690269    9789   690269     9789          0           0   \n",
       "3      Tamil Nadu   646128   10120   646128    10120          0           0   \n",
       "4   Uttar Pradesh   430666    6293   430666     6293          0           0   \n",
       "\n",
       "   Fatality Rate  \n",
       "0           2.64  \n",
       "1           0.83  \n",
       "2           1.42  \n",
       "3           1.57  \n",
       "4           1.46  "
      ]
     },
     "execution_count": 13,
     "metadata": {},
     "output_type": "execute_result"
    }
   ],
   "source": [
    "#hide\n",
    "df_table.head()"
   ]
  },
  {
   "cell_type": "code",
   "execution_count": 14,
   "metadata": {
    "execution": {
     "iopub.execute_input": "2020-10-10T13:39:26.803234Z",
     "iopub.status.busy": "2020-10-10T13:39:26.802400Z",
     "iopub.status.idle": "2020-10-10T13:39:26.819681Z",
     "shell.execute_reply": "2020-10-10T13:39:26.819219Z"
    },
    "papermill": {
     "duration": 0.036566,
     "end_time": "2020-10-10T13:39:26.819788",
     "exception": false,
     "start_time": "2020-10-10T13:39:26.783222",
     "status": "completed"
    },
    "tags": []
   },
   "outputs": [
    {
     "data": {
      "text/plain": [
       "{'updated': '2020-10-10',\n",
       " 'since': '2020-10-09',\n",
       " 'Cases': 6980220,\n",
       " 'PCases': 6977093,\n",
       " 'Deaths': 107471,\n",
       " 'PDeaths': 107450,\n",
       " 'Cases (+)': 3127,\n",
       " 'Deaths (+)': 21}"
      ]
     },
     "execution_count": 14,
     "metadata": {},
     "output_type": "execute_result"
    }
   ],
   "source": [
    "#hide\n",
    "summary = {'updated':dates[-1], 'since':dates[-2]}\n",
    "list_names = ['Cases', 'PCases', 'Deaths', 'PDeaths', 'Cases (+)', 'Deaths (+)']\n",
    "for name in list_names:\n",
    "    summary[name] = df_table.sum()[name]\n",
    "summary"
   ]
  },
  {
   "cell_type": "code",
   "execution_count": 15,
   "metadata": {
    "execution": {
     "iopub.execute_input": "2020-10-10T13:39:26.854874Z",
     "iopub.status.busy": "2020-10-10T13:39:26.854249Z",
     "iopub.status.idle": "2020-10-10T13:39:26.856892Z",
     "shell.execute_reply": "2020-10-10T13:39:26.856392Z"
    },
    "papermill": {
     "duration": 0.021996,
     "end_time": "2020-10-10T13:39:26.857000",
     "exception": false,
     "start_time": "2020-10-10T13:39:26.835004",
     "status": "completed"
    },
    "tags": []
   },
   "outputs": [],
   "source": [
    "#hide\n",
    "overview = '''\n",
    "<!-- #######  HTML!! #########-->\n",
    "<h1 style=\"color: #5e9ca0; text-align: center;\">India</h1>\n",
    "<p style=\"text-align: center;\">Last update: <strong>{update}</strong></p>\n",
    "<p style=\"text-align: center;\">Confirmed cases:</p>\n",
    "<p style=\"text-align: center;font-size:24px;\">{cases} (<span style=\"color: #ff0000;\">+{new}</span>)</p>\n",
    "<p style=\"text-align: center;\">Confirmed deaths:</p>\n",
    "<p style=\"text-align: center;font-size:24px;\">{deaths} (<span style=\"color: #ff0000;\">+{dnew}</span>)</p>\n",
    "'''"
   ]
  },
  {
   "cell_type": "code",
   "execution_count": 16,
   "metadata": {
    "execution": {
     "iopub.execute_input": "2020-10-10T13:39:26.892822Z",
     "iopub.status.busy": "2020-10-10T13:39:26.892280Z",
     "iopub.status.idle": "2020-10-10T13:39:26.895605Z",
     "shell.execute_reply": "2020-10-10T13:39:26.895151Z"
    },
    "papermill": {
     "duration": 0.023764,
     "end_time": "2020-10-10T13:39:26.895711",
     "exception": false,
     "start_time": "2020-10-10T13:39:26.871947",
     "status": "completed"
    },
    "tags": []
   },
   "outputs": [
    {
     "data": {
      "text/html": [
       "\n",
       "<!-- #######  HTML!! #########-->\n",
       "<h1 style=\"color: #5e9ca0; text-align: center;\">India</h1>\n",
       "<p style=\"text-align: center;\">Last update: <strong>2020-10-10</strong></p>\n",
       "<p style=\"text-align: center;\">Confirmed cases:</p>\n",
       "<p style=\"text-align: center;font-size:24px;\">6980220 (<span style=\"color: #ff0000;\">+3127</span>)</p>\n",
       "<p style=\"text-align: center;\">Confirmed deaths:</p>\n",
       "<p style=\"text-align: center;font-size:24px;\">107471 (<span style=\"color: #ff0000;\">+21</span>)</p>\n"
      ],
      "text/plain": [
       "<IPython.core.display.HTML object>"
      ]
     },
     "metadata": {},
     "output_type": "display_data"
    }
   ],
   "source": [
    "#hide_input\n",
    "update = summary['updated']\n",
    "cases = summary['Cases']\n",
    "new = summary['Cases (+)']\n",
    "deaths = summary['Deaths']\n",
    "dnew = summary['Deaths (+)']\n",
    "\n",
    "html = HTML(overview.format(update=update, cases=cases,new=new,deaths=deaths,dnew=dnew))\n",
    "\n",
    "display(html)"
   ]
  },
  {
   "cell_type": "code",
   "execution_count": 17,
   "metadata": {
    "execution": {
     "iopub.execute_input": "2020-10-10T13:39:26.936472Z",
     "iopub.status.busy": "2020-10-10T13:39:26.935887Z",
     "iopub.status.idle": "2020-10-10T13:39:26.941419Z",
     "shell.execute_reply": "2020-10-10T13:39:26.940916Z"
    },
    "papermill": {
     "duration": 0.029143,
     "end_time": "2020-10-10T13:39:26.941524",
     "exception": false,
     "start_time": "2020-10-10T13:39:26.912381",
     "status": "completed"
    },
    "tags": []
   },
   "outputs": [],
   "source": [
    "#hide\n",
    "dt_cols = list(dft_cases.columns[1:])\n",
    "dft_ct_new_cases = dft_cases.groupby('state')[dt_cols].sum().diff(axis=1).fillna(0).astype(int)\n",
    "dft_ct_new_cases.sort_values(by = dates[-1], ascending = False,inplace = True)"
   ]
  },
  {
   "cell_type": "code",
   "execution_count": 18,
   "metadata": {
    "execution": {
     "iopub.execute_input": "2020-10-10T13:39:26.998609Z",
     "iopub.status.busy": "2020-10-10T13:39:26.997853Z",
     "iopub.status.idle": "2020-10-10T13:39:27.000363Z",
     "shell.execute_reply": "2020-10-10T13:39:27.000924Z"
    },
    "papermill": {
     "duration": 0.043326,
     "end_time": "2020-10-10T13:39:27.001075",
     "exception": false,
     "start_time": "2020-10-10T13:39:26.957749",
     "status": "completed"
    },
    "tags": []
   },
   "outputs": [
    {
     "data": {
      "text/html": [
       "<div>\n",
       "<style scoped>\n",
       "    .dataframe tbody tr th:only-of-type {\n",
       "        vertical-align: middle;\n",
       "    }\n",
       "\n",
       "    .dataframe tbody tr th {\n",
       "        vertical-align: top;\n",
       "    }\n",
       "\n",
       "    .dataframe thead th {\n",
       "        text-align: right;\n",
       "    }\n",
       "</style>\n",
       "<table border=\"1\" class=\"dataframe\">\n",
       "  <thead>\n",
       "    <tr style=\"text-align: right;\">\n",
       "      <th>states</th>\n",
       "      <th>2020-07-01</th>\n",
       "      <th>2020-07-02</th>\n",
       "      <th>2020-07-03</th>\n",
       "      <th>2020-07-04</th>\n",
       "      <th>2020-07-05</th>\n",
       "      <th>2020-07-06</th>\n",
       "      <th>2020-07-07</th>\n",
       "      <th>2020-07-08</th>\n",
       "      <th>2020-07-09</th>\n",
       "      <th>2020-07-10</th>\n",
       "      <th>...</th>\n",
       "      <th>2020-10-01</th>\n",
       "      <th>2020-10-02</th>\n",
       "      <th>2020-10-03</th>\n",
       "      <th>2020-10-04</th>\n",
       "      <th>2020-10-05</th>\n",
       "      <th>2020-10-06</th>\n",
       "      <th>2020-10-07</th>\n",
       "      <th>2020-10-08</th>\n",
       "      <th>2020-10-09</th>\n",
       "      <th>2020-10-10</th>\n",
       "    </tr>\n",
       "    <tr>\n",
       "      <th>state</th>\n",
       "      <th></th>\n",
       "      <th></th>\n",
       "      <th></th>\n",
       "      <th></th>\n",
       "      <th></th>\n",
       "      <th></th>\n",
       "      <th></th>\n",
       "      <th></th>\n",
       "      <th></th>\n",
       "      <th></th>\n",
       "      <th></th>\n",
       "      <th></th>\n",
       "      <th></th>\n",
       "      <th></th>\n",
       "      <th></th>\n",
       "      <th></th>\n",
       "      <th></th>\n",
       "      <th></th>\n",
       "      <th></th>\n",
       "      <th></th>\n",
       "      <th></th>\n",
       "    </tr>\n",
       "  </thead>\n",
       "  <tbody>\n",
       "    <tr>\n",
       "      <th>Telangana</th>\n",
       "      <td>0</td>\n",
       "      <td>1213</td>\n",
       "      <td>1892</td>\n",
       "      <td>1850</td>\n",
       "      <td>1590</td>\n",
       "      <td>1831</td>\n",
       "      <td>1879</td>\n",
       "      <td>1924</td>\n",
       "      <td>1410</td>\n",
       "      <td>1278</td>\n",
       "      <td>...</td>\n",
       "      <td>2214</td>\n",
       "      <td>2009</td>\n",
       "      <td>1718</td>\n",
       "      <td>1949</td>\n",
       "      <td>1335</td>\n",
       "      <td>1983</td>\n",
       "      <td>2154</td>\n",
       "      <td>1896</td>\n",
       "      <td>1891</td>\n",
       "      <td>1811</td>\n",
       "    </tr>\n",
       "    <tr>\n",
       "      <th>Bihar</th>\n",
       "      <td>0</td>\n",
       "      <td>478</td>\n",
       "      <td>426</td>\n",
       "      <td>349</td>\n",
       "      <td>403</td>\n",
       "      <td>280</td>\n",
       "      <td>385</td>\n",
       "      <td>749</td>\n",
       "      <td>704</td>\n",
       "      <td>352</td>\n",
       "      <td>...</td>\n",
       "      <td>1370</td>\n",
       "      <td>1431</td>\n",
       "      <td>983</td>\n",
       "      <td>1261</td>\n",
       "      <td>907</td>\n",
       "      <td>1265</td>\n",
       "      <td>1304</td>\n",
       "      <td>1244</td>\n",
       "      <td>1155</td>\n",
       "      <td>1140</td>\n",
       "    </tr>\n",
       "    <tr>\n",
       "      <th>Tripura</th>\n",
       "      <td>0</td>\n",
       "      <td>39</td>\n",
       "      <td>93</td>\n",
       "      <td>25</td>\n",
       "      <td>23</td>\n",
       "      <td>111</td>\n",
       "      <td>24</td>\n",
       "      <td>57</td>\n",
       "      <td>16</td>\n",
       "      <td>142</td>\n",
       "      <td>...</td>\n",
       "      <td>332</td>\n",
       "      <td>296</td>\n",
       "      <td>190</td>\n",
       "      <td>322</td>\n",
       "      <td>159</td>\n",
       "      <td>275</td>\n",
       "      <td>237</td>\n",
       "      <td>214</td>\n",
       "      <td>223</td>\n",
       "      <td>171</td>\n",
       "    </tr>\n",
       "    <tr>\n",
       "      <th>Mizoram</th>\n",
       "      <td>0</td>\n",
       "      <td>2</td>\n",
       "      <td>0</td>\n",
       "      <td>2</td>\n",
       "      <td>22</td>\n",
       "      <td>11</td>\n",
       "      <td>1</td>\n",
       "      <td>5</td>\n",
       "      <td>0</td>\n",
       "      <td>23</td>\n",
       "      <td>...</td>\n",
       "      <td>32</td>\n",
       "      <td>31</td>\n",
       "      <td>54</td>\n",
       "      <td>17</td>\n",
       "      <td>0</td>\n",
       "      <td>8</td>\n",
       "      <td>20</td>\n",
       "      <td>2</td>\n",
       "      <td>7</td>\n",
       "      <td>5</td>\n",
       "    </tr>\n",
       "    <tr>\n",
       "      <th>Andaman and Nicobar Islands</th>\n",
       "      <td>0</td>\n",
       "      <td>9</td>\n",
       "      <td>7</td>\n",
       "      <td>3</td>\n",
       "      <td>6</td>\n",
       "      <td>16</td>\n",
       "      <td>6</td>\n",
       "      <td>2</td>\n",
       "      <td>7</td>\n",
       "      <td>0</td>\n",
       "      <td>...</td>\n",
       "      <td>13</td>\n",
       "      <td>10</td>\n",
       "      <td>10</td>\n",
       "      <td>16</td>\n",
       "      <td>15</td>\n",
       "      <td>13</td>\n",
       "      <td>23</td>\n",
       "      <td>17</td>\n",
       "      <td>24</td>\n",
       "      <td>0</td>\n",
       "    </tr>\n",
       "  </tbody>\n",
       "</table>\n",
       "<p>5 rows × 102 columns</p>\n",
       "</div>"
      ],
      "text/plain": [
       "states                       2020-07-01  2020-07-02  2020-07-03  2020-07-04  \\\n",
       "state                                                                         \n",
       "Telangana                             0        1213        1892        1850   \n",
       "Bihar                                 0         478         426         349   \n",
       "Tripura                               0          39          93          25   \n",
       "Mizoram                               0           2           0           2   \n",
       "Andaman and Nicobar Islands           0           9           7           3   \n",
       "\n",
       "states                       2020-07-05  2020-07-06  2020-07-07  2020-07-08  \\\n",
       "state                                                                         \n",
       "Telangana                          1590        1831        1879        1924   \n",
       "Bihar                               403         280         385         749   \n",
       "Tripura                              23         111          24          57   \n",
       "Mizoram                              22          11           1           5   \n",
       "Andaman and Nicobar Islands           6          16           6           2   \n",
       "\n",
       "states                       2020-07-09  2020-07-10  ...  2020-10-01  \\\n",
       "state                                                ...               \n",
       "Telangana                          1410        1278  ...        2214   \n",
       "Bihar                               704         352  ...        1370   \n",
       "Tripura                              16         142  ...         332   \n",
       "Mizoram                               0          23  ...          32   \n",
       "Andaman and Nicobar Islands           7           0  ...          13   \n",
       "\n",
       "states                       2020-10-02  2020-10-03  2020-10-04  2020-10-05  \\\n",
       "state                                                                         \n",
       "Telangana                          2009        1718        1949        1335   \n",
       "Bihar                              1431         983        1261         907   \n",
       "Tripura                             296         190         322         159   \n",
       "Mizoram                              31          54          17           0   \n",
       "Andaman and Nicobar Islands          10          10          16          15   \n",
       "\n",
       "states                       2020-10-06  2020-10-07  2020-10-08  2020-10-09  \\\n",
       "state                                                                         \n",
       "Telangana                          1983        2154        1896        1891   \n",
       "Bihar                              1265        1304        1244        1155   \n",
       "Tripura                             275         237         214         223   \n",
       "Mizoram                               8          20           2           7   \n",
       "Andaman and Nicobar Islands          13          23          17          24   \n",
       "\n",
       "states                       2020-10-10  \n",
       "state                                    \n",
       "Telangana                          1811  \n",
       "Bihar                              1140  \n",
       "Tripura                             171  \n",
       "Mizoram                               5  \n",
       "Andaman and Nicobar Islands           0  \n",
       "\n",
       "[5 rows x 102 columns]"
      ]
     },
     "execution_count": 18,
     "metadata": {},
     "output_type": "execute_result"
    }
   ],
   "source": [
    "#hide\n",
    "dft_ct_new_cases.head()"
   ]
  },
  {
   "cell_type": "code",
   "execution_count": 19,
   "metadata": {
    "execution": {
     "iopub.execute_input": "2020-10-10T13:39:27.054350Z",
     "iopub.status.busy": "2020-10-10T13:39:27.048921Z",
     "iopub.status.idle": "2020-10-10T13:39:31.713985Z",
     "shell.execute_reply": "2020-10-10T13:39:31.714457Z"
    },
    "papermill": {
     "duration": 4.695829,
     "end_time": "2020-10-10T13:39:31.714651",
     "exception": false,
     "start_time": "2020-10-10T13:39:27.018822",
     "status": "completed"
    },
    "tags": []
   },
   "outputs": [
    {
     "data": {
      "image/png": "[encoded data removed]",
      "text/plain": [
       "<Figure size 1296x2016 with 11 Axes>"
      ]
     },
     "metadata": {
      "needs_background": "light"
     },
     "output_type": "display_data"
    }
   ],
   "source": [
    "#hide_input\n",
    "df = dft_ct_new_cases.copy()\n",
    "df.loc['Total'] = df.sum()\n",
    "n = 5\n",
    "ax = []\n",
    "fig = plt.figure(figsize = (18,28))\n",
    "gs = fig.add_gridspec(n+2, 5)\n",
    "# gs = fig.add_gridspec(2, 3)\n",
    "ax1 = fig.add_subplot(gs[0, :])\n",
    "ef = df.loc['Total'].rename_axis('date').reset_index()\n",
    "ef['date'] = ef['date'].astype('datetime64[ns]')\n",
    "ax1.bar(ef.date,ef.Total,alpha=0.3,color='#007acc')\n",
    "ax1.plot(ef.date,ef.Total , marker=\"o\", color='#007acc')\n",
    "ax1.xaxis.set_major_locator(mdates.WeekdayLocator())\n",
    "ax1.xaxis.set_major_formatter(mdates.DateFormatter('%b %d'))\n",
    "ax1.text(0.02, 0.5,'India daily case count', transform = ax1.transAxes, fontsize=25);\n",
    "ax1.spines['right'].set_visible(False)\n",
    "ax1.spines['top'].set_visible(False)\n",
    "\n",
    "ax2 = fig.add_subplot(gs[1,0])\n",
    "ef = df.loc['Maharashtra'].rename_axis('date').reset_index()\n",
    "ef['date'] = ef['date'].astype('datetime64[ns]')\n",
    "\n",
    "ax2.bar(ef.date, ef.Maharashtra,color = '#007acc',alpha=0.5)\n",
    "ax2.xaxis.set_major_locator(mdates.WeekdayLocator())\n",
    "ax2.xaxis.set_major_formatter(mdates.DateFormatter('%b %d'))\n",
    "ax2.set_xticks(ax2.get_xticks()[::3])\n",
    "maxyval = ef.Maharashtra.max()\n",
    "ax2.set_ylim([0,maxyval])\n",
    "ax2.text(0.05, 0.9,'Maharashtra', transform = ax2.transAxes, fontsize=20);\n",
    "ax2.spines['right'].set_visible(False)\n",
    "ax2.spines['top'].set_visible(False)\n",
    "\n",
    "\n",
    "ax3 = fig.add_subplot(gs[1,1])\n",
    "ef = df.loc['Tamil Nadu'].rename_axis('date').reset_index()\n",
    "ef['date'] = ef['date'].astype('datetime64[ns]')\n",
    "ax3.bar(ef.date, ef['Tamil Nadu'],color = '#007acc',alpha=0.5,)\n",
    "ax3.xaxis.set_major_locator(mdates.WeekdayLocator())\n",
    "ax3.xaxis.set_major_formatter(mdates.DateFormatter('%b %d'))\n",
    "ax3.set_xticks(ax3.get_xticks()[::3])\n",
    "ax3.text(0.05, 0.9,'Tamil Nadu', transform = ax3.transAxes, fontsize=20);\n",
    "ax3.spines['right'].set_visible(False)\n",
    "ax3.spines['top'].set_visible(False)\n",
    "\n",
    "ax5 = fig.add_subplot(gs[1,3])\n",
    "ef = df.loc['Telangana'].rename_axis('date').reset_index()\n",
    "ef['date'] = ef['date'].astype('datetime64[ns]')\n",
    "ax5.bar(ef.date, ef['Telangana'],color = '#007acc',alpha=0.5,)\n",
    "ax5.xaxis.set_major_locator(mdates.WeekdayLocator())\n",
    "ax5.xaxis.set_major_formatter(mdates.DateFormatter('%b %d'))\n",
    "ax5.set_xticks(ax5.get_xticks()[::3])\n",
    "ax5.text(0.05, 0.9,'Telangana', transform = ax5.transAxes, fontsize=20);\n",
    "ax5.spines['right'].set_visible(False)\n",
    "ax5.spines['top'].set_visible(False)\n",
    "\n",
    "ax6 = fig.add_subplot(gs[1,4])\n",
    "ef = df.loc['Andhra Pradesh'].rename_axis('date').reset_index()\n",
    "ef['date'] = ef['date'].astype('datetime64[ns]')\n",
    "ax6.bar(ef.date, ef['Andhra Pradesh'],color = '#007acc',alpha=0.5,)\n",
    "ax6.xaxis.set_major_locator(mdates.WeekdayLocator())\n",
    "ax6.xaxis.set_major_formatter(mdates.DateFormatter('%b %d'))\n",
    "ax6.set_xticks(ax6.get_xticks()[::3])\n",
    "ax6.text(0.05, 1,'Andhra Pradesh', transform = ax6.transAxes, fontsize=20);\n",
    "ax6.spines['right'].set_visible(False)\n",
    "ax6.spines['top'].set_visible(False)\n",
    "\n",
    "ax4 = fig.add_subplot(gs[1,2])\n",
    "ef = df.loc['Delhi'].rename_axis('date').reset_index()\n",
    "ef['date'] = ef['date'].astype('datetime64[ns]')\n",
    "ax4.bar(ef.date, ef.Delhi,color = '#007acc',alpha=0.5)\n",
    "ax4.set_xticks([])\n",
    "ax4.xaxis.set_major_locator(mdates.WeekdayLocator())\n",
    "ax4.xaxis.set_major_formatter(mdates.DateFormatter('%b %d'))\n",
    "ax4.set_xticks(ax4.get_xticks()[::3])\n",
    "ax4.spines['right'].set_visible(False)\n",
    "ax4.spines['top'].set_visible(False)\n",
    "\n",
    "ax4.text(0.05, 1,'Delhi', transform = ax4.transAxes, fontsize=20)\n",
    "\n",
    "for i in range(n):\n",
    "    \n",
    "    ax.append(fig.add_subplot(gs[i+2,:]))\n",
    "    ef = df.iloc[i+3].rename_axis('date').reset_index()\n",
    "    ef['date'] = ef['date'].astype('datetime64[ns]')\n",
    "    ax[i].bar(ef.date,ef.iloc[:,-1],color = '#007acc',alpha=0.3)\n",
    "    ax[i].plot(ef.date,ef.iloc[:,-1],marker='o',color='#007acc')\n",
    "    ax[i].text(0.02,0.5,f'{ef.columns.values[-1]}',transform = ax[i].transAxes, fontsize = 20);\n",
    "    ax[i].xaxis.set_major_locator(mdates.WeekdayLocator())\n",
    "    ax[i].xaxis.set_major_formatter(mdates.DateFormatter('%b %d'))\n",
    "    ax[i].set_ylim([0,7000])\n",
    "    ax[i].spines['right'].set_visible(False)\n",
    "    ax[i].spines['top'].set_visible(False)\n",
    "plt.tight_layout()\n"
   ]
  },
  {
   "cell_type": "code",
   "execution_count": 20,
   "metadata": {
    "execution": {
     "iopub.execute_input": "2020-10-10T13:39:32.113223Z",
     "iopub.status.busy": "2020-10-10T13:39:32.112610Z",
     "iopub.status.idle": "2020-10-10T13:39:32.114976Z",
     "shell.execute_reply": "2020-10-10T13:39:32.115711Z"
    },
    "papermill": {
     "duration": 0.356536,
     "end_time": "2020-10-10T13:39:32.115853",
     "exception": false,
     "start_time": "2020-10-10T13:39:31.759317",
     "status": "completed"
    },
    "tags": []
   },
   "outputs": [
    {
     "name": "stdout",
     "output_type": "stream",
     "text": [
      "                                   states    Cases  Deaths   PCases  PDeaths  Cases (+)  Deaths (+)  Fatality Rate\n",
      "                              Maharashtra  1506018   39732  1506018    39732          0           0           2.64\n",
      "                           Andhra Pradesh   744864    6159   744864     6159          0           0           0.83\n",
      "                                Karnataka   690269    9789   690269     9789          0           0           1.42\n",
      "                               Tamil Nadu   646128   10120   646128    10120          0           0           1.57\n",
      "                            Uttar Pradesh   430666    6293   430666     6293          0           0           1.46\n",
      "                                    Delhi   303693    5692   303693     5692          0           0           1.87\n",
      "                              West Bengal   287603    5501   287603     5501          0           0           1.91\n",
      "                                   Kerala   268101     956   268101      956          0           0           0.36\n",
      "                                   Odisha   246839    1044   246839     1044          0           0           0.42\n",
      "                                Telangana   210346    1217   208535     1208       1811           9           0.58\n",
      "                                    Bihar   194966     944   193826      934       1140          10           0.48\n",
      "                                    Assam   192416     802   192416      802          0           0           0.42\n",
      "                                Rajasthan   154785    1621   154785     1621          0           0           1.05\n",
      "                                  Gujarat   149193    3550   149193     3550          0           0           2.38\n",
      "                           Madhya Pradesh   143629    2574   143629     2574          0           0           1.79\n",
      "                                  Haryana   139932    1562   139932     1562          0           0           1.12\n",
      "                             Chhattisgarh   137570    1196   137570     1196          0           0           0.87\n",
      "                                   Punjab   122459    3773   122459     3773          0           0           3.08\n",
      "                                Jharkhand    91254     781    91254      781          0           0           0.86\n",
      "                        Jammu and Kashmir    82429    1306    82429     1306          0           0           1.58\n",
      "                              Uttarakhand    54063     716    54063      716          0           0           1.32\n",
      "                                      Goa    37591     491    37591      491          0           0           1.31\n",
      "                               Puducherry    30904     558    30904      558          0           0           1.81\n",
      "                                  Tripura    28150     310    27979      308        171           2           1.10\n",
      "                         Himachal Pradesh    16977     240    16977      240          0           0           1.41\n",
      "                               Chandigarh    12985     188    12985      188          0           0           1.45\n",
      "                                  Manipur    12810      86    12810       86          0           0           0.67\n",
      "                        Arunachal Pradesh    11760      23    11760       23          0           0           0.20\n",
      "                                Meghalaya     7388      61     7388       61          0           0           0.83\n",
      "                                 Nagaland     6888      12     6888       12          0           0           0.17\n",
      "                                   Ladakh     4987      63     4987       63          0           0           1.26\n",
      "              Andaman and Nicobar Islands     3976      55     3976       55          0           0           1.38\n",
      "                                   Sikkim     3279      54     3279       54          0           0           1.65\n",
      " Dadra and Nagar Haveli and Daman and Diu     3140       2     3140        2          0           0           0.06\n",
      "                                  Mizoram     2162       0     2157        0          5           0           0.00\n",
      "                              Lakshadweep        0       0        0        0          0           0            NaN\n"
     ]
    }
   ],
   "source": [
    "#hide_input\n",
    "print(df_table.to_string(index=False))"
   ]
  },
  {
   "cell_type": "code",
   "execution_count": null,
   "metadata": {
    "papermill": {
     "duration": 0.295481,
     "end_time": "2020-10-10T13:39:32.553881",
     "exception": false,
     "start_time": "2020-10-10T13:39:32.258400",
     "status": "completed"
    },
    "tags": []
   },
   "outputs": [],
   "source": []
  },
  {
   "cell_type": "code",
   "execution_count": null,
   "metadata": {
    "papermill": {
     "duration": 0.021356,
     "end_time": "2020-10-10T13:39:32.596467",
     "exception": false,
     "start_time": "2020-10-10T13:39:32.575111",
     "status": "completed"
    },
    "tags": []
   },
   "outputs": [],
   "source": []
  }
 ],
 "metadata": {
  "kernelspec": {
   "display_name": "Python 3",
   "language": "python",
   "name": "python3"
  },
  "language_info": {
   "codemirror_mode": {
    "name": "ipython",
    "version": 3
   },
   "file_extension": ".py",
   "mimetype": "text/x-python",
   "name": "python",
   "nbconvert_exporter": "python",
   "pygments_lexer": "ipython3",
   "version": "3.6.12"
  },
  "papermill": {
   "duration": 12.278457,
   "end_time": "2020-10-10T13:39:33.025568",
   "environment_variables": {},
   "exception": null,
   "input_path": "latest.ipynb",
   "output_path": "latest.ipynb",
   "parameters": {},
   "start_time": "2020-10-10T13:39:20.747111",
   "version": "2.1.2"
  }
 },
 "nbformat": 4,
 "nbformat_minor": 4
}