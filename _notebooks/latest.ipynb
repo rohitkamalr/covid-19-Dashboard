{
 "cells": [
  {
   "cell_type": "markdown",
   "metadata": {
    "papermill": {
     "duration": 0.019603,
     "end_time": "2020-11-19T11:52:10.135045",
     "exception": false,
     "start_time": "2020-11-19T11:52:10.115442",
     "status": "completed"
    },
    "tags": []
   },
   "source": [
    "# Latest COVID-19 India Matplotlib Overview"
   ]
  },
  {
   "cell_type": "code",
   "execution_count": 1,
   "metadata": {
    "execution": {
     "iopub.execute_input": "2020-11-19T11:52:10.604540Z",
     "iopub.status.busy": "2020-11-19T11:52:10.603901Z",
     "iopub.status.idle": "2020-11-19T11:52:11.202315Z",
     "shell.execute_reply": "2020-11-19T11:52:11.201693Z"
    },
    "papermill": {
     "duration": 0.650429,
     "end_time": "2020-11-19T11:52:11.202503",
     "exception": false,
     "start_time": "2020-11-19T11:52:10.552074",
     "status": "completed"
    },
    "tags": []
   },
   "outputs": [],
   "source": [
    "#hide\n",
    "import pandas as pd\n",
    "import numpy as np\n",
    "import requests\n",
    "import json\n",
    "import matplotlib.pyplot as plt\n",
    "import matplotlib.dates as mdates\n",
    "import matplotlib as mpl\n",
    "from IPython.core.display import display,HTML\n",
    "%matplotlib inline\n",
    "from datetime import date"
   ]
  },
  {
   "cell_type": "code",
   "execution_count": 2,
   "metadata": {
    "execution": {
     "iopub.execute_input": "2020-11-19T11:52:11.241799Z",
     "iopub.status.busy": "2020-11-19T11:52:11.241142Z",
     "iopub.status.idle": "2020-11-19T11:52:11.326516Z",
     "shell.execute_reply": "2020-11-19T11:52:11.325640Z"
    },
    "papermill": {
     "duration": 0.10822,
     "end_time": "2020-11-19T11:52:11.326711",
     "exception": false,
     "start_time": "2020-11-19T11:52:11.218491",
     "status": "completed"
    },
    "tags": []
   },
   "outputs": [],
   "source": [
    "#hide\n",
    "df  = pd.read_csv('https://api.covid19india.org/csv/latest/states.csv')\n",
    "df = df[['Date','State','Confirmed','Deceased']]\n",
    "df = df.rename(columns={'Confirmed':'Cases', \"Deceased\":'Deaths'})\n",
    "df_cases = df[[\"Date\",'State','Cases']]\n",
    "df_deaths = df[['Date','State','Deaths']]\n",
    "df_cases1 = df_cases.groupby('Date')\n",
    "df_deaths1= df_deaths.groupby('Date')"
   ]
  },
  {
   "cell_type": "code",
   "execution_count": 3,
   "metadata": {
    "execution": {
     "iopub.execute_input": "2020-11-19T11:52:11.366364Z",
     "iopub.status.busy": "2020-11-19T11:52:11.365761Z",
     "iopub.status.idle": "2020-11-19T11:52:11.385069Z",
     "shell.execute_reply": "2020-11-19T11:52:11.385700Z"
    },
    "papermill": {
     "duration": 0.043344,
     "end_time": "2020-11-19T11:52:11.385875",
     "exception": false,
     "start_time": "2020-11-19T11:52:11.342531",
     "status": "completed"
    },
    "tags": []
   },
   "outputs": [],
   "source": [
    "#hide\n",
    "df_snap = pd.read_csv('data/SnapshotCases-28-July.csv')\n",
    "arr_states = df_snap['states'].unique()\n",
    "arr_dates = df['Date'].unique()\n",
    "df_snap = df_snap.set_index('states')"
   ]
  },
  {
   "cell_type": "code",
   "execution_count": 4,
   "metadata": {
    "execution": {
     "iopub.execute_input": "2020-11-19T11:52:11.426127Z",
     "iopub.status.busy": "2020-11-19T11:52:11.425555Z",
     "iopub.status.idle": "2020-11-19T11:52:11.428915Z",
     "shell.execute_reply": "2020-11-19T11:52:11.428425Z"
    },
    "papermill": {
     "duration": 0.026944,
     "end_time": "2020-11-19T11:52:11.429053",
     "exception": false,
     "start_time": "2020-11-19T11:52:11.402109",
     "status": "completed"
    },
    "tags": []
   },
   "outputs": [
    {
     "data": {
      "text/plain": [
       "array(['Andaman and Nicobar Islands', 'Andhra Pradesh',\n",
       "       'Arunachal Pradesh', 'Assam', 'Bihar', 'Chandigarh',\n",
       "       'Dadra and Nagar Haveli and Daman and Diu', 'Delhi', 'Goa',\n",
       "       'Gujarat', 'Haryana', 'Himachal Pradesh', 'Jammu and Kashmir',\n",
       "       'Jharkhand', 'Karnataka', 'Kerala', 'Lakshadweep',\n",
       "       'Madhya Pradesh', 'Maharashtra', 'Manipur', 'Meghalaya', 'Mizoram',\n",
       "       'Nagaland', 'Odisha', 'Puducherry', 'Punjab', 'Rajasthan',\n",
       "       'Sikkim', 'Tamil Nadu', 'Telangana', 'Tripura', 'Uttar Pradesh',\n",
       "       'West Bengal', 'Chhattisgarh', 'Ladakh', 'Uttarakhand'],\n",
       "      dtype=object)"
      ]
     },
     "execution_count": 4,
     "metadata": {},
     "output_type": "execute_result"
    }
   ],
   "source": [
    "#hide\n",
    "arr_states[-9] = 'Puducherry'\n",
    "arr_states[-10] = 'Odisha'\n",
    "arr_states[6] = 'Dadra and Nagar Haveli and Daman and Diu'\n",
    "arr_states = np.append(arr_states,np.array(['Chhattisgarh','Ladakh','Uttarakhand']))\n",
    "arr_states"
   ]
  },
  {
   "cell_type": "code",
   "execution_count": 5,
   "metadata": {
    "execution": {
     "iopub.execute_input": "2020-11-19T11:52:11.473190Z",
     "iopub.status.busy": "2020-11-19T11:52:11.472326Z",
     "iopub.status.idle": "2020-11-19T11:52:11.480315Z",
     "shell.execute_reply": "2020-11-19T11:52:11.479800Z"
    },
    "papermill": {
     "duration": 0.035453,
     "end_time": "2020-11-19T11:52:11.480426",
     "exception": false,
     "start_time": "2020-11-19T11:52:11.444973",
     "status": "completed"
    },
    "tags": []
   },
   "outputs": [],
   "source": [
    "#hide\n",
    "dates = []\n",
    "for i in arr_dates:\n",
    "    if i>='2020-07-01':\n",
    "        dates.append(i)\n",
    "dict = {'states':dates}\n",
    "for i in arr_states:\n",
    "    dict[i] = [0]*len(dates)\n",
    "dft_cases = pd.DataFrame(dict)\n",
    "dft_deaths = pd.DataFrame(dict)\n"
   ]
  },
  {
   "cell_type": "code",
   "execution_count": 6,
   "metadata": {
    "execution": {
     "iopub.execute_input": "2020-11-19T11:52:11.518205Z",
     "iopub.status.busy": "2020-11-19T11:52:11.517592Z",
     "iopub.status.idle": "2020-11-19T11:52:14.041604Z",
     "shell.execute_reply": "2020-11-19T11:52:14.041046Z"
    },
    "papermill": {
     "duration": 2.544055,
     "end_time": "2020-11-19T11:52:14.041751",
     "exception": false,
     "start_time": "2020-11-19T11:52:11.497696",
     "status": "completed"
    },
    "tags": []
   },
   "outputs": [],
   "source": [
    "#hide\n",
    "for i in range(len(dates)):\n",
    "    df1_deaths = df_deaths1.get_group(dates[i])\n",
    "    for j in range(len(df1_deaths.index)):\n",
    "        if df1_deaths.iloc[j,1] in arr_states:\n",
    "            dft_deaths.loc[i,df1_deaths.iloc[j,1]] = df1_deaths.iloc[j,2]\n",
    "dft_deaths = dft_deaths.set_index('states')"
   ]
  },
  {
   "cell_type": "code",
   "execution_count": 7,
   "metadata": {
    "execution": {
     "iopub.execute_input": "2020-11-19T11:52:14.081532Z",
     "iopub.status.busy": "2020-11-19T11:52:14.080705Z",
     "iopub.status.idle": "2020-11-19T11:52:16.641228Z",
     "shell.execute_reply": "2020-11-19T11:52:16.641778Z"
    },
    "papermill": {
     "duration": 2.583821,
     "end_time": "2020-11-19T11:52:16.641942",
     "exception": false,
     "start_time": "2020-11-19T11:52:14.058121",
     "status": "completed"
    },
    "tags": []
   },
   "outputs": [],
   "source": [
    "#hide\n",
    "for i in range(len(dates)):\n",
    "    df1_cases = df_cases1.get_group(dates[i])\n",
    "    for j in range(len(df1_cases.index)):\n",
    "        if df1_cases.iloc[j,1] in arr_states:\n",
    "            dft_cases.loc[i,df1_cases.iloc[j,1]] = df1_cases.iloc[j,2]\n",
    "dft_cases = dft_cases.set_index('states')"
   ]
  },
  {
   "cell_type": "code",
   "execution_count": 8,
   "metadata": {
    "execution": {
     "iopub.execute_input": "2020-11-19T11:52:16.682298Z",
     "iopub.status.busy": "2020-11-19T11:52:16.681595Z",
     "iopub.status.idle": "2020-11-19T11:52:16.684258Z",
     "shell.execute_reply": "2020-11-19T11:52:16.683776Z"
    },
    "papermill": {
     "duration": 0.024513,
     "end_time": "2020-11-19T11:52:16.684382",
     "exception": false,
     "start_time": "2020-11-19T11:52:16.659869",
     "status": "completed"
    },
    "tags": []
   },
   "outputs": [],
   "source": [
    "#hide\n",
    "dft_cases = dft_cases.T\n",
    "dft_deaths = dft_deaths.T\n",
    "dt_today = dates[-1]\n",
    "dt_yday = dates[-2]"
   ]
  },
  {
   "cell_type": "code",
   "execution_count": 9,
   "metadata": {
    "execution": {
     "iopub.execute_input": "2020-11-19T11:52:16.722287Z",
     "iopub.status.busy": "2020-11-19T11:52:16.721403Z",
     "iopub.status.idle": "2020-11-19T11:52:16.727309Z",
     "shell.execute_reply": "2020-11-19T11:52:16.727932Z"
    },
    "papermill": {
     "duration": 0.026909,
     "end_time": "2020-11-19T11:52:16.728060",
     "exception": false,
     "start_time": "2020-11-19T11:52:16.701151",
     "status": "completed"
    },
    "tags": []
   },
   "outputs": [],
   "source": [
    "#hide\n",
    "dft_cases = dft_cases.reset_index()\n",
    "dft_deaths = dft_deaths.reset_index()\n",
    "dft_cases = dft_cases.rename(columns = {'index':'state'})\n",
    "dft_deaths = dft_deaths.rename(columns = {'index':'state'})"
   ]
  },
  {
   "cell_type": "code",
   "execution_count": 10,
   "metadata": {
    "execution": {
     "iopub.execute_input": "2020-11-19T11:52:16.773834Z",
     "iopub.status.busy": "2020-11-19T11:52:16.773042Z",
     "iopub.status.idle": "2020-11-19T11:52:16.775872Z",
     "shell.execute_reply": "2020-11-19T11:52:16.776393Z"
    },
    "papermill": {
     "duration": 0.0325,
     "end_time": "2020-11-19T11:52:16.776524",
     "exception": false,
     "start_time": "2020-11-19T11:52:16.744024",
     "status": "completed"
    },
    "tags": []
   },
   "outputs": [],
   "source": [
    "#hide\n",
    "dfc_cases = dft_cases.groupby('state')[dt_today].sum()\n",
    "dfc_deaths = dft_deaths.groupby('state')[dt_today].sum()\n",
    "dfp_cases = dft_cases.groupby('state')[dt_yday].sum()\n",
    "dfp_deaths = dft_deaths.groupby('state')[dt_yday].sum()"
   ]
  },
  {
   "cell_type": "code",
   "execution_count": 11,
   "metadata": {
    "execution": {
     "iopub.execute_input": "2020-11-19T11:52:16.815041Z",
     "iopub.status.busy": "2020-11-19T11:52:16.814457Z",
     "iopub.status.idle": "2020-11-19T11:52:16.829123Z",
     "shell.execute_reply": "2020-11-19T11:52:16.828501Z"
    },
    "papermill": {
     "duration": 0.036466,
     "end_time": "2020-11-19T11:52:16.829244",
     "exception": false,
     "start_time": "2020-11-19T11:52:16.792778",
     "status": "completed"
    },
    "tags": []
   },
   "outputs": [
    {
     "data": {
      "text/html": [
       "<div>\n",
       "<style scoped>\n",
       "    .dataframe tbody tr th:only-of-type {\n",
       "        vertical-align: middle;\n",
       "    }\n",
       "\n",
       "    .dataframe tbody tr th {\n",
       "        vertical-align: top;\n",
       "    }\n",
       "\n",
       "    .dataframe thead th {\n",
       "        text-align: right;\n",
       "    }\n",
       "</style>\n",
       "<table border=\"1\" class=\"dataframe\">\n",
       "  <thead>\n",
       "    <tr style=\"text-align: right;\">\n",
       "      <th></th>\n",
       "      <th>states</th>\n",
       "      <th>Cases</th>\n",
       "      <th>Deaths</th>\n",
       "      <th>PCases</th>\n",
       "      <th>PDeaths</th>\n",
       "    </tr>\n",
       "  </thead>\n",
       "  <tbody>\n",
       "    <tr>\n",
       "      <th>0</th>\n",
       "      <td>Maharashtra</td>\n",
       "      <td>1757520</td>\n",
       "      <td>46202</td>\n",
       "      <td>1757520</td>\n",
       "      <td>46202</td>\n",
       "    </tr>\n",
       "    <tr>\n",
       "      <th>1</th>\n",
       "      <td>Karnataka</td>\n",
       "      <td>865931</td>\n",
       "      <td>11578</td>\n",
       "      <td>865931</td>\n",
       "      <td>11578</td>\n",
       "    </tr>\n",
       "    <tr>\n",
       "      <th>2</th>\n",
       "      <td>Andhra Pradesh</td>\n",
       "      <td>857395</td>\n",
       "      <td>6899</td>\n",
       "      <td>857395</td>\n",
       "      <td>6899</td>\n",
       "    </tr>\n",
       "    <tr>\n",
       "      <th>3</th>\n",
       "      <td>Tamil Nadu</td>\n",
       "      <td>763282</td>\n",
       "      <td>11531</td>\n",
       "      <td>763282</td>\n",
       "      <td>11531</td>\n",
       "    </tr>\n",
       "    <tr>\n",
       "      <th>4</th>\n",
       "      <td>Kerala</td>\n",
       "      <td>539920</td>\n",
       "      <td>1943</td>\n",
       "      <td>539920</td>\n",
       "      <td>1943</td>\n",
       "    </tr>\n",
       "  </tbody>\n",
       "</table>\n",
       "</div>"
      ],
      "text/plain": [
       "           states    Cases  Deaths   PCases  PDeaths\n",
       "0     Maharashtra  1757520   46202  1757520    46202\n",
       "1       Karnataka   865931   11578   865931    11578\n",
       "2  Andhra Pradesh   857395    6899   857395     6899\n",
       "3      Tamil Nadu   763282   11531   763282    11531\n",
       "4          Kerala   539920    1943   539920     1943"
      ]
     },
     "execution_count": 11,
     "metadata": {},
     "output_type": "execute_result"
    }
   ],
   "source": [
    "#hide\n",
    "df_table = pd.DataFrame({'states': dfc_cases.index, 'Cases': dfc_cases.values, 'Deaths': dfc_deaths.values, 'PCases': dfp_cases.values, 'PDeaths': dfp_deaths.values}).set_index('states')\n",
    "df_table = df_table.sort_values(by = ['Cases','Deaths'], ascending = [False, False])\n",
    "df_table = df_table.reset_index()\n",
    "df_table.head()"
   ]
  },
  {
   "cell_type": "code",
   "execution_count": 12,
   "metadata": {
    "execution": {
     "iopub.execute_input": "2020-11-19T11:52:16.865151Z",
     "iopub.status.busy": "2020-11-19T11:52:16.864535Z",
     "iopub.status.idle": "2020-11-19T11:52:16.873232Z",
     "shell.execute_reply": "2020-11-19T11:52:16.873793Z"
    },
    "papermill": {
     "duration": 0.029675,
     "end_time": "2020-11-19T11:52:16.873931",
     "exception": false,
     "start_time": "2020-11-19T11:52:16.844256",
     "status": "completed"
    },
    "tags": []
   },
   "outputs": [],
   "source": [
    "#hide\n",
    "for c in 'Cases, Deaths'.split(', '):\n",
    "    df_table[f'{c} (+)'] = (df_table[c] - df_table[f'P{c}']).clip(0)\n",
    "df_table['Fatality Rate'] = (100* df_table['Deaths']/ df_table['Cases']).round(2)"
   ]
  },
  {
   "cell_type": "code",
   "execution_count": 13,
   "metadata": {
    "execution": {
     "iopub.execute_input": "2020-11-19T11:52:16.916907Z",
     "iopub.status.busy": "2020-11-19T11:52:16.916135Z",
     "iopub.status.idle": "2020-11-19T11:52:16.920117Z",
     "shell.execute_reply": "2020-11-19T11:52:16.919635Z"
    },
    "papermill": {
     "duration": 0.030209,
     "end_time": "2020-11-19T11:52:16.920241",
     "exception": false,
     "start_time": "2020-11-19T11:52:16.890032",
     "status": "completed"
    },
    "tags": []
   },
   "outputs": [
    {
     "data": {
      "text/html": [
       "<div>\n",
       "<style scoped>\n",
       "    .dataframe tbody tr th:only-of-type {\n",
       "        vertical-align: middle;\n",
       "    }\n",
       "\n",
       "    .dataframe tbody tr th {\n",
       "        vertical-align: top;\n",
       "    }\n",
       "\n",
       "    .dataframe thead th {\n",
       "        text-align: right;\n",
       "    }\n",
       "</style>\n",
       "<table border=\"1\" class=\"dataframe\">\n",
       "  <thead>\n",
       "    <tr style=\"text-align: right;\">\n",
       "      <th></th>\n",
       "      <th>states</th>\n",
       "      <th>Cases</th>\n",
       "      <th>Deaths</th>\n",
       "      <th>PCases</th>\n",
       "      <th>PDeaths</th>\n",
       "      <th>Cases (+)</th>\n",
       "      <th>Deaths (+)</th>\n",
       "      <th>Fatality Rate</th>\n",
       "    </tr>\n",
       "  </thead>\n",
       "  <tbody>\n",
       "    <tr>\n",
       "      <th>0</th>\n",
       "      <td>Maharashtra</td>\n",
       "      <td>1757520</td>\n",
       "      <td>46202</td>\n",
       "      <td>1757520</td>\n",
       "      <td>46202</td>\n",
       "      <td>0</td>\n",
       "      <td>0</td>\n",
       "      <td>2.63</td>\n",
       "    </tr>\n",
       "    <tr>\n",
       "      <th>1</th>\n",
       "      <td>Karnataka</td>\n",
       "      <td>865931</td>\n",
       "      <td>11578</td>\n",
       "      <td>865931</td>\n",
       "      <td>11578</td>\n",
       "      <td>0</td>\n",
       "      <td>0</td>\n",
       "      <td>1.34</td>\n",
       "    </tr>\n",
       "    <tr>\n",
       "      <th>2</th>\n",
       "      <td>Andhra Pradesh</td>\n",
       "      <td>857395</td>\n",
       "      <td>6899</td>\n",
       "      <td>857395</td>\n",
       "      <td>6899</td>\n",
       "      <td>0</td>\n",
       "      <td>0</td>\n",
       "      <td>0.80</td>\n",
       "    </tr>\n",
       "    <tr>\n",
       "      <th>3</th>\n",
       "      <td>Tamil Nadu</td>\n",
       "      <td>763282</td>\n",
       "      <td>11531</td>\n",
       "      <td>763282</td>\n",
       "      <td>11531</td>\n",
       "      <td>0</td>\n",
       "      <td>0</td>\n",
       "      <td>1.51</td>\n",
       "    </tr>\n",
       "    <tr>\n",
       "      <th>4</th>\n",
       "      <td>Kerala</td>\n",
       "      <td>539920</td>\n",
       "      <td>1943</td>\n",
       "      <td>539920</td>\n",
       "      <td>1943</td>\n",
       "      <td>0</td>\n",
       "      <td>0</td>\n",
       "      <td>0.36</td>\n",
       "    </tr>\n",
       "  </tbody>\n",
       "</table>\n",
       "</div>"
      ],
      "text/plain": [
       "           states    Cases  Deaths   PCases  PDeaths  Cases (+)  Deaths (+)  \\\n",
       "0     Maharashtra  1757520   46202  1757520    46202          0           0   \n",
       "1       Karnataka   865931   11578   865931    11578          0           0   \n",
       "2  Andhra Pradesh   857395    6899   857395     6899          0           0   \n",
       "3      Tamil Nadu   763282   11531   763282    11531          0           0   \n",
       "4          Kerala   539920    1943   539920     1943          0           0   \n",
       "\n",
       "   Fatality Rate  \n",
       "0           2.63  \n",
       "1           1.34  \n",
       "2           0.80  \n",
       "3           1.51  \n",
       "4           0.36  "
      ]
     },
     "execution_count": 13,
     "metadata": {},
     "output_type": "execute_result"
    }
   ],
   "source": [
    "#hide\n",
    "df_table.head()"
   ]
  },
  {
   "cell_type": "code",
   "execution_count": 14,
   "metadata": {
    "execution": {
     "iopub.execute_input": "2020-11-19T11:52:16.961389Z",
     "iopub.status.busy": "2020-11-19T11:52:16.960828Z",
     "iopub.status.idle": "2020-11-19T11:52:16.982480Z",
     "shell.execute_reply": "2020-11-19T11:52:16.982981Z"
    },
    "papermill": {
     "duration": 0.04499,
     "end_time": "2020-11-19T11:52:16.983109",
     "exception": false,
     "start_time": "2020-11-19T11:52:16.938119",
     "status": "completed"
    },
    "tags": []
   },
   "outputs": [
    {
     "data": {
      "text/plain": [
       "{'updated': '2020-11-19',\n",
       " 'since': '2020-11-18',\n",
       " 'Cases': 8960205,\n",
       " 'PCases': 8958140,\n",
       " 'Deaths': 131639,\n",
       " 'PDeaths': 131618,\n",
       " 'Cases (+)': 2065,\n",
       " 'Deaths (+)': 21}"
      ]
     },
     "execution_count": 14,
     "metadata": {},
     "output_type": "execute_result"
    }
   ],
   "source": [
    "#hide\n",
    "summary = {'updated':dates[-1], 'since':dates[-2]}\n",
    "list_names = ['Cases', 'PCases', 'Deaths', 'PDeaths', 'Cases (+)', 'Deaths (+)']\n",
    "for name in list_names:\n",
    "    summary[name] = df_table.sum()[name]\n",
    "summary"
   ]
  },
  {
   "cell_type": "code",
   "execution_count": 15,
   "metadata": {
    "execution": {
     "iopub.execute_input": "2020-11-19T11:52:17.021349Z",
     "iopub.status.busy": "2020-11-19T11:52:17.020729Z",
     "iopub.status.idle": "2020-11-19T11:52:17.023123Z",
     "shell.execute_reply": "2020-11-19T11:52:17.023702Z"
    },
    "papermill": {
     "duration": 0.024029,
     "end_time": "2020-11-19T11:52:17.023825",
     "exception": false,
     "start_time": "2020-11-19T11:52:16.999796",
     "status": "completed"
    },
    "tags": []
   },
   "outputs": [],
   "source": [
    "#hide\n",
    "overview = '''\n",
    "<!-- #######  HTML!! #########-->\n",
    "<h1 style=\"color: #5e9ca0; text-align: center;\">India</h1>\n",
    "<p style=\"text-align: center;\">Last update: <strong>{update}</strong></p>\n",
    "<p style=\"text-align: center;\">Confirmed cases:</p>\n",
    "<p style=\"text-align: center;font-size:24px;\">{cases} (<span style=\"color: #ff0000;\">+{new}</span>)</p>\n",
    "<p style=\"text-align: center;\">Confirmed deaths:</p>\n",
    "<p style=\"text-align: center;font-size:24px;\">{deaths} (<span style=\"color: #ff0000;\">+{dnew}</span>)</p>\n",
    "'''"
   ]
  },
  {
   "cell_type": "code",
   "execution_count": 16,
   "metadata": {
    "execution": {
     "iopub.execute_input": "2020-11-19T11:52:17.064646Z",
     "iopub.status.busy": "2020-11-19T11:52:17.064065Z",
     "iopub.status.idle": "2020-11-19T11:52:17.068029Z",
     "shell.execute_reply": "2020-11-19T11:52:17.067510Z"
    },
    "papermill": {
     "duration": 0.026787,
     "end_time": "2020-11-19T11:52:17.068155",
     "exception": false,
     "start_time": "2020-11-19T11:52:17.041368",
     "status": "completed"
    },
    "tags": []
   },
   "outputs": [
    {
     "data": {
      "text/html": [
       "\n",
       "<!-- #######  HTML!! #########-->\n",
       "<h1 style=\"color: #5e9ca0; text-align: center;\">India</h1>\n",
       "<p style=\"text-align: center;\">Last update: <strong>2020-11-19</strong></p>\n",
       "<p style=\"text-align: center;\">Confirmed cases:</p>\n",
       "<p style=\"text-align: center;font-size:24px;\">8960205 (<span style=\"color: #ff0000;\">+2065</span>)</p>\n",
       "<p style=\"text-align: center;\">Confirmed deaths:</p>\n",
       "<p style=\"text-align: center;font-size:24px;\">131639 (<span style=\"color: #ff0000;\">+21</span>)</p>\n"
      ],
      "text/plain": [
       "<IPython.core.display.HTML object>"
      ]
     },
     "metadata": {},
     "output_type": "display_data"
    }
   ],
   "source": [
    "#hide_input\n",
    "update = summary['updated']\n",
    "cases = summary['Cases']\n",
    "new = summary['Cases (+)']\n",
    "deaths = summary['Deaths']\n",
    "dnew = summary['Deaths (+)']\n",
    "\n",
    "html = HTML(overview.format(update=update, cases=cases,new=new,deaths=deaths,dnew=dnew))\n",
    "\n",
    "display(html)"
   ]
  },
  {
   "cell_type": "code",
   "execution_count": 17,
   "metadata": {
    "execution": {
     "iopub.execute_input": "2020-11-19T11:52:17.111352Z",
     "iopub.status.busy": "2020-11-19T11:52:17.110753Z",
     "iopub.status.idle": "2020-11-19T11:52:17.116391Z",
     "shell.execute_reply": "2020-11-19T11:52:17.116944Z"
    },
    "papermill": {
     "duration": 0.030569,
     "end_time": "2020-11-19T11:52:17.117083",
     "exception": false,
     "start_time": "2020-11-19T11:52:17.086514",
     "status": "completed"
    },
    "tags": []
   },
   "outputs": [],
   "source": [
    "#hide\n",
    "dt_cols = list(dft_cases.columns[1:])\n",
    "dft_ct_new_cases = dft_cases.groupby('state')[dt_cols].sum().diff(axis=1).fillna(0).astype(int)\n",
    "dft_ct_new_cases.sort_values(by = dates[-1], ascending = False,inplace = True)"
   ]
  },
  {
   "cell_type": "code",
   "execution_count": 18,
   "metadata": {
    "execution": {
     "iopub.execute_input": "2020-11-19T11:52:17.170307Z",
     "iopub.status.busy": "2020-11-19T11:52:17.169623Z",
     "iopub.status.idle": "2020-11-19T11:52:17.173373Z",
     "shell.execute_reply": "2020-11-19T11:52:17.172869Z"
    },
    "papermill": {
     "duration": 0.039807,
     "end_time": "2020-11-19T11:52:17.173519",
     "exception": false,
     "start_time": "2020-11-19T11:52:17.133712",
     "status": "completed"
    },
    "tags": []
   },
   "outputs": [
    {
     "data": {
      "text/html": [
       "<div>\n",
       "<style scoped>\n",
       "    .dataframe tbody tr th:only-of-type {\n",
       "        vertical-align: middle;\n",
       "    }\n",
       "\n",
       "    .dataframe tbody tr th {\n",
       "        vertical-align: top;\n",
       "    }\n",
       "\n",
       "    .dataframe thead th {\n",
       "        text-align: right;\n",
       "    }\n",
       "</style>\n",
       "<table border=\"1\" class=\"dataframe\">\n",
       "  <thead>\n",
       "    <tr style=\"text-align: right;\">\n",
       "      <th>states</th>\n",
       "      <th>2020-07-01</th>\n",
       "      <th>2020-07-02</th>\n",
       "      <th>2020-07-03</th>\n",
       "      <th>2020-07-04</th>\n",
       "      <th>2020-07-05</th>\n",
       "      <th>2020-07-06</th>\n",
       "      <th>2020-07-07</th>\n",
       "      <th>2020-07-08</th>\n",
       "      <th>2020-07-09</th>\n",
       "      <th>2020-07-10</th>\n",
       "      <th>...</th>\n",
       "      <th>2020-11-10</th>\n",
       "      <th>2020-11-11</th>\n",
       "      <th>2020-11-12</th>\n",
       "      <th>2020-11-13</th>\n",
       "      <th>2020-11-14</th>\n",
       "      <th>2020-11-15</th>\n",
       "      <th>2020-11-16</th>\n",
       "      <th>2020-11-17</th>\n",
       "      <th>2020-11-18</th>\n",
       "      <th>2020-11-19</th>\n",
       "    </tr>\n",
       "    <tr>\n",
       "      <th>state</th>\n",
       "      <th></th>\n",
       "      <th></th>\n",
       "      <th></th>\n",
       "      <th></th>\n",
       "      <th></th>\n",
       "      <th></th>\n",
       "      <th></th>\n",
       "      <th></th>\n",
       "      <th></th>\n",
       "      <th></th>\n",
       "      <th></th>\n",
       "      <th></th>\n",
       "      <th></th>\n",
       "      <th></th>\n",
       "      <th></th>\n",
       "      <th></th>\n",
       "      <th></th>\n",
       "      <th></th>\n",
       "      <th></th>\n",
       "      <th></th>\n",
       "      <th></th>\n",
       "    </tr>\n",
       "  </thead>\n",
       "  <tbody>\n",
       "    <tr>\n",
       "      <th>Telangana</th>\n",
       "      <td>0</td>\n",
       "      <td>1213</td>\n",
       "      <td>1892</td>\n",
       "      <td>1850</td>\n",
       "      <td>1590</td>\n",
       "      <td>1831</td>\n",
       "      <td>1879</td>\n",
       "      <td>1924</td>\n",
       "      <td>1410</td>\n",
       "      <td>1278</td>\n",
       "      <td>...</td>\n",
       "      <td>1267</td>\n",
       "      <td>1196</td>\n",
       "      <td>1015</td>\n",
       "      <td>997</td>\n",
       "      <td>1050</td>\n",
       "      <td>661</td>\n",
       "      <td>502</td>\n",
       "      <td>952</td>\n",
       "      <td>948</td>\n",
       "      <td>1058</td>\n",
       "    </tr>\n",
       "    <tr>\n",
       "      <th>Odisha</th>\n",
       "      <td>0</td>\n",
       "      <td>229</td>\n",
       "      <td>561</td>\n",
       "      <td>495</td>\n",
       "      <td>469</td>\n",
       "      <td>456</td>\n",
       "      <td>571</td>\n",
       "      <td>527</td>\n",
       "      <td>577</td>\n",
       "      <td>755</td>\n",
       "      <td>...</td>\n",
       "      <td>987</td>\n",
       "      <td>1220</td>\n",
       "      <td>986</td>\n",
       "      <td>1018</td>\n",
       "      <td>902</td>\n",
       "      <td>753</td>\n",
       "      <td>749</td>\n",
       "      <td>644</td>\n",
       "      <td>868</td>\n",
       "      <td>868</td>\n",
       "    </tr>\n",
       "    <tr>\n",
       "      <th>Tripura</th>\n",
       "      <td>0</td>\n",
       "      <td>39</td>\n",
       "      <td>93</td>\n",
       "      <td>25</td>\n",
       "      <td>23</td>\n",
       "      <td>111</td>\n",
       "      <td>24</td>\n",
       "      <td>57</td>\n",
       "      <td>16</td>\n",
       "      <td>142</td>\n",
       "      <td>...</td>\n",
       "      <td>79</td>\n",
       "      <td>84</td>\n",
       "      <td>59</td>\n",
       "      <td>76</td>\n",
       "      <td>78</td>\n",
       "      <td>26</td>\n",
       "      <td>17</td>\n",
       "      <td>77</td>\n",
       "      <td>73</td>\n",
       "      <td>105</td>\n",
       "    </tr>\n",
       "    <tr>\n",
       "      <th>Mizoram</th>\n",
       "      <td>0</td>\n",
       "      <td>2</td>\n",
       "      <td>0</td>\n",
       "      <td>2</td>\n",
       "      <td>22</td>\n",
       "      <td>11</td>\n",
       "      <td>1</td>\n",
       "      <td>5</td>\n",
       "      <td>0</td>\n",
       "      <td>23</td>\n",
       "      <td>...</td>\n",
       "      <td>60</td>\n",
       "      <td>61</td>\n",
       "      <td>25</td>\n",
       "      <td>67</td>\n",
       "      <td>59</td>\n",
       "      <td>25</td>\n",
       "      <td>3</td>\n",
       "      <td>48</td>\n",
       "      <td>37</td>\n",
       "      <td>32</td>\n",
       "    </tr>\n",
       "    <tr>\n",
       "      <th>Dadra and Nagar Haveli and Daman and Diu</th>\n",
       "      <td>0</td>\n",
       "      <td>25</td>\n",
       "      <td>50</td>\n",
       "      <td>37</td>\n",
       "      <td>32</td>\n",
       "      <td>27</td>\n",
       "      <td>27</td>\n",
       "      <td>15</td>\n",
       "      <td>14</td>\n",
       "      <td>14</td>\n",
       "      <td>...</td>\n",
       "      <td>1</td>\n",
       "      <td>0</td>\n",
       "      <td>3</td>\n",
       "      <td>3</td>\n",
       "      <td>4</td>\n",
       "      <td>6</td>\n",
       "      <td>3</td>\n",
       "      <td>3</td>\n",
       "      <td>8</td>\n",
       "      <td>2</td>\n",
       "    </tr>\n",
       "  </tbody>\n",
       "</table>\n",
       "<p>5 rows × 142 columns</p>\n",
       "</div>"
      ],
      "text/plain": [
       "states                                    2020-07-01  2020-07-02  2020-07-03  \\\n",
       "state                                                                          \n",
       "Telangana                                          0        1213        1892   \n",
       "Odisha                                             0         229         561   \n",
       "Tripura                                            0          39          93   \n",
       "Mizoram                                            0           2           0   \n",
       "Dadra and Nagar Haveli and Daman and Diu           0          25          50   \n",
       "\n",
       "states                                    2020-07-04  2020-07-05  2020-07-06  \\\n",
       "state                                                                          \n",
       "Telangana                                       1850        1590        1831   \n",
       "Odisha                                           495         469         456   \n",
       "Tripura                                           25          23         111   \n",
       "Mizoram                                            2          22          11   \n",
       "Dadra and Nagar Haveli and Daman and Diu          37          32          27   \n",
       "\n",
       "states                                    2020-07-07  2020-07-08  2020-07-09  \\\n",
       "state                                                                          \n",
       "Telangana                                       1879        1924        1410   \n",
       "Odisha                                           571         527         577   \n",
       "Tripura                                           24          57          16   \n",
       "Mizoram                                            1           5           0   \n",
       "Dadra and Nagar Haveli and Daman and Diu          27          15          14   \n",
       "\n",
       "states                                    2020-07-10  ...  2020-11-10  \\\n",
       "state                                                 ...               \n",
       "Telangana                                       1278  ...        1267   \n",
       "Odisha                                           755  ...         987   \n",
       "Tripura                                          142  ...          79   \n",
       "Mizoram                                           23  ...          60   \n",
       "Dadra and Nagar Haveli and Daman and Diu          14  ...           1   \n",
       "\n",
       "states                                    2020-11-11  2020-11-12  2020-11-13  \\\n",
       "state                                                                          \n",
       "Telangana                                       1196        1015         997   \n",
       "Odisha                                          1220         986        1018   \n",
       "Tripura                                           84          59          76   \n",
       "Mizoram                                           61          25          67   \n",
       "Dadra and Nagar Haveli and Daman and Diu           0           3           3   \n",
       "\n",
       "states                                    2020-11-14  2020-11-15  2020-11-16  \\\n",
       "state                                                                          \n",
       "Telangana                                       1050         661         502   \n",
       "Odisha                                           902         753         749   \n",
       "Tripura                                           78          26          17   \n",
       "Mizoram                                           59          25           3   \n",
       "Dadra and Nagar Haveli and Daman and Diu           4           6           3   \n",
       "\n",
       "states                                    2020-11-17  2020-11-18  2020-11-19  \n",
       "state                                                                         \n",
       "Telangana                                        952         948        1058  \n",
       "Odisha                                           644         868         868  \n",
       "Tripura                                           77          73         105  \n",
       "Mizoram                                           48          37          32  \n",
       "Dadra and Nagar Haveli and Daman and Diu           3           8           2  \n",
       "\n",
       "[5 rows x 142 columns]"
      ]
     },
     "execution_count": 18,
     "metadata": {},
     "output_type": "execute_result"
    }
   ],
   "source": [
    "#hide\n",
    "dft_ct_new_cases.head()"
   ]
  },
  {
   "cell_type": "code",
   "execution_count": 19,
   "metadata": {
    "execution": {
     "iopub.execute_input": "2020-11-19T11:52:17.251229Z",
     "iopub.status.busy": "2020-11-19T11:52:17.228516Z",
     "iopub.status.idle": "2020-11-19T11:52:23.905201Z",
     "shell.execute_reply": "2020-11-19T11:52:23.905821Z"
    },
    "papermill": {
     "duration": 6.712651,
     "end_time": "2020-11-19T11:52:23.906054",
     "exception": false,
     "start_time": "2020-11-19T11:52:17.193403",
     "status": "completed"
    },
    "tags": []
   },
   "outputs": [
    {
     "data": {
      "image/png": "[encoded data removed]",
      "text/plain": [
       "<Figure size 1296x2016 with 11 Axes>"
      ]
     },
     "metadata": {
      "needs_background": "light"
     },
     "output_type": "display_data"
    }
   ],
   "source": [
    "#hide_input\n",
    "df = dft_ct_new_cases.copy()\n",
    "df.loc['Total'] = df.sum()\n",
    "n = 5\n",
    "ax = []\n",
    "fig = plt.figure(figsize = (18,28))\n",
    "gs = fig.add_gridspec(n+2, 5)\n",
    "# gs = fig.add_gridspec(2, 3)\n",
    "ax1 = fig.add_subplot(gs[0, :])\n",
    "ef = df.loc['Total'].rename_axis('date').reset_index()\n",
    "ef['date'] = ef['date'].astype('datetime64[ns]')\n",
    "ax1.bar(ef.date,ef.Total,alpha=0.3,color='#007acc')\n",
    "ax1.plot(ef.date,ef.Total , marker=\"o\", color='#007acc')\n",
    "ax1.xaxis.set_major_locator(mdates.WeekdayLocator())\n",
    "ax1.xaxis.set_major_formatter(mdates.DateFormatter('%b %d'))\n",
    "ax1.text(0.02, 0.5,'India daily case count', transform = ax1.transAxes, fontsize=25);\n",
    "ax1.spines['right'].set_visible(False)\n",
    "ax1.spines['top'].set_visible(False)\n",
    "\n",
    "ax2 = fig.add_subplot(gs[1,0])\n",
    "ef = df.loc['Maharashtra'].rename_axis('date').reset_index()\n",
    "ef['date'] = ef['date'].astype('datetime64[ns]')\n",
    "\n",
    "ax2.bar(ef.date, ef.Maharashtra,color = '#007acc',alpha=0.5)\n",
    "ax2.xaxis.set_major_locator(mdates.WeekdayLocator())\n",
    "ax2.xaxis.set_major_formatter(mdates.DateFormatter('%b %d'))\n",
    "ax2.set_xticks(ax2.get_xticks()[::3])\n",
    "maxyval = ef.Maharashtra.max()\n",
    "ax2.set_ylim([0,maxyval])\n",
    "ax2.text(0.05, 0.9,'Maharashtra', transform = ax2.transAxes, fontsize=20);\n",
    "ax2.spines['right'].set_visible(False)\n",
    "ax2.spines['top'].set_visible(False)\n",
    "\n",
    "\n",
    "ax3 = fig.add_subplot(gs[1,1])\n",
    "ef = df.loc['Tamil Nadu'].rename_axis('date').reset_index()\n",
    "ef['date'] = ef['date'].astype('datetime64[ns]')\n",
    "ax3.bar(ef.date, ef['Tamil Nadu'],color = '#007acc',alpha=0.5,)\n",
    "ax3.xaxis.set_major_locator(mdates.WeekdayLocator())\n",
    "ax3.xaxis.set_major_formatter(mdates.DateFormatter('%b %d'))\n",
    "ax3.set_xticks(ax3.get_xticks()[::3])\n",
    "ax3.text(0.05, 0.9,'Tamil Nadu', transform = ax3.transAxes, fontsize=20);\n",
    "ax3.spines['right'].set_visible(False)\n",
    "ax3.spines['top'].set_visible(False)\n",
    "\n",
    "ax5 = fig.add_subplot(gs[1,3])\n",
    "ef = df.loc['Telangana'].rename_axis('date').reset_index()\n",
    "ef['date'] = ef['date'].astype('datetime64[ns]')\n",
    "ax5.bar(ef.date, ef['Telangana'],color = '#007acc',alpha=0.5,)\n",
    "ax5.xaxis.set_major_locator(mdates.WeekdayLocator())\n",
    "ax5.xaxis.set_major_formatter(mdates.DateFormatter('%b %d'))\n",
    "ax5.set_xticks(ax5.get_xticks()[::3])\n",
    "ax5.text(0.05, 0.9,'Telangana', transform = ax5.transAxes, fontsize=20);\n",
    "ax5.spines['right'].set_visible(False)\n",
    "ax5.spines['top'].set_visible(False)\n",
    "\n",
    "ax6 = fig.add_subplot(gs[1,4])\n",
    "ef = df.loc['Andhra Pradesh'].rename_axis('date').reset_index()\n",
    "ef['date'] = ef['date'].astype('datetime64[ns]')\n",
    "ax6.bar(ef.date, ef['Andhra Pradesh'],color = '#007acc',alpha=0.5,)\n",
    "ax6.xaxis.set_major_locator(mdates.WeekdayLocator())\n",
    "ax6.xaxis.set_major_formatter(mdates.DateFormatter('%b %d'))\n",
    "ax6.set_xticks(ax6.get_xticks()[::3])\n",
    "ax6.text(0.05, 1,'Andhra Pradesh', transform = ax6.transAxes, fontsize=20);\n",
    "ax6.spines['right'].set_visible(False)\n",
    "ax6.spines['top'].set_visible(False)\n",
    "\n",
    "ax4 = fig.add_subplot(gs[1,2])\n",
    "ef = df.loc['Delhi'].rename_axis('date').reset_index()\n",
    "ef['date'] = ef['date'].astype('datetime64[ns]')\n",
    "ax4.bar(ef.date, ef.Delhi,color = '#007acc',alpha=0.5)\n",
    "ax4.set_xticks([])\n",
    "ax4.xaxis.set_major_locator(mdates.WeekdayLocator())\n",
    "ax4.xaxis.set_major_formatter(mdates.DateFormatter('%b %d'))\n",
    "ax4.set_xticks(ax4.get_xticks()[::3])\n",
    "ax4.spines['right'].set_visible(False)\n",
    "ax4.spines['top'].set_visible(False)\n",
    "\n",
    "ax4.text(0.05, 1,'Delhi', transform = ax4.transAxes, fontsize=20)\n",
    "\n",
    "for i in range(n):\n",
    "    \n",
    "    ax.append(fig.add_subplot(gs[i+2,:]))\n",
    "    ef = df.iloc[i+3].rename_axis('date').reset_index()\n",
    "    ef['date'] = ef['date'].astype('datetime64[ns]')\n",
    "    ax[i].bar(ef.date,ef.iloc[:,-1],color = '#007acc',alpha=0.3)\n",
    "    ax[i].plot(ef.date,ef.iloc[:,-1],marker='o',color='#007acc')\n",
    "    ax[i].text(0.02,0.5,f'{ef.columns.values[-1]}',transform = ax[i].transAxes, fontsize = 20);\n",
    "    ax[i].xaxis.set_major_locator(mdates.WeekdayLocator())\n",
    "    ax[i].xaxis.set_major_formatter(mdates.DateFormatter('%b %d'))\n",
    "    ax[i].set_ylim([0,7000])\n",
    "    ax[i].spines['right'].set_visible(False)\n",
    "    ax[i].spines['top'].set_visible(False)\n",
    "plt.tight_layout()\n"
   ]
  },
  {
   "cell_type": "code",
   "execution_count": 20,
   "metadata": {
    "execution": {
     "iopub.execute_input": "2020-11-19T11:52:23.966552Z",
     "iopub.status.busy": "2020-11-19T11:52:23.965916Z",
     "iopub.status.idle": "2020-11-19T11:52:23.970027Z",
     "shell.execute_reply": "2020-11-19T11:52:23.970527Z"
    },
    "papermill": {
     "duration": 0.038236,
     "end_time": "2020-11-19T11:52:23.970676",
     "exception": false,
     "start_time": "2020-11-19T11:52:23.932440",
     "status": "completed"
    },
    "tags": []
   },
   "outputs": [
    {
     "name": "stdout",
     "output_type": "stream",
     "text": [
      "                                   states    Cases  Deaths   PCases  PDeaths  Cases (+)  Deaths (+)  Fatality Rate\n",
      "                              Maharashtra  1757520   46202  1757520    46202          0           0           2.63\n",
      "                                Karnataka   865931   11578   865931    11578          0           0           1.34\n",
      "                           Andhra Pradesh   857395    6899   857395     6899          0           0           0.80\n",
      "                               Tamil Nadu   763282   11531   763282    11531          0           0           1.51\n",
      "                                   Kerala   539920    1943   539920     1943          0           0           0.36\n",
      "                            Uttar Pradesh   516616    7441   516616     7441          0           0           1.44\n",
      "                                    Delhi   503084    7943   503084     7943          0           0           1.58\n",
      "                              West Bengal   441885    7820   441885     7820          0           0           1.77\n",
      "                                   Odisha   311788    1645   310920     1628        868          17           0.53\n",
      "                                Telangana   260834    1419   259776     1415       1058           4           0.54\n",
      "                                Rajasthan   232358    2101   232358     2101          0           0           0.90\n",
      "                                    Bihar   228680    1201   228680     1201          0           0           0.53\n",
      "                             Chhattisgarh   215413    2646   215413     2646          0           0           1.23\n",
      "                                    Assam   210865     970   210865      970          0           0           0.46\n",
      "                                  Haryana   207039    2093   207039     2093          0           0           1.01\n",
      "                                  Gujarat   191642    3823   191642     3823          0           0           1.99\n",
      "                           Madhya Pradesh   186655    3115   186655     3115          0           0           1.67\n",
      "                                   Punjab   143395    4541   143395     4541          0           0           3.17\n",
      "                                Jharkhand   106742     934   106742      934          0           0           0.88\n",
      "                        Jammu and Kashmir   104155    1613   104155     1613          0           0           1.55\n",
      "                              Uttarakhand    69307    1128    69307     1128          0           0           1.63\n",
      "                                      Goa    46344     670    46344      670          0           0           1.45\n",
      "                               Puducherry    36465     608    36465      608          0           0           1.67\n",
      "                                  Tripura    32214     361    32109      361        105           0           1.12\n",
      "                         Himachal Pradesh    31401     468    31401      468          0           0           1.49\n",
      "                                  Manipur    22318     231    22318      231          0           0           1.04\n",
      "                               Chandigarh    16167     253    16167      253          0           0           1.56\n",
      "                        Arunachal Pradesh    15945      48    15945       48          0           0           0.30\n",
      "                                Meghalaya    10870     103    10870      103          0           0           0.95\n",
      "                                 Nagaland    10366      54    10366       54          0           0           0.52\n",
      "                                   Ladakh     7623      94     7623       94          0           0           1.23\n",
      "              Andaman and Nicobar Islands     4593      61     4593       61          0           0           1.33\n",
      "                                   Sikkim     4578      95     4578       95          0           0           2.08\n",
      "                                  Mizoram     3513       5     3481        5         32           0           0.14\n",
      " Dadra and Nagar Haveli and Daman and Diu     3302       2     3300        2          2           0           0.06\n",
      "                              Lakshadweep        0       0        0        0          0           0            NaN\n"
     ]
    }
   ],
   "source": [
    "#hide_input\n",
    "print(df_table.to_string(index=False))"
   ]
  },
  {
   "cell_type": "code",
   "execution_count": null,
   "metadata": {
    "papermill": {
     "duration": 0.024215,
     "end_time": "2020-11-19T11:52:24.017246",
     "exception": false,
     "start_time": "2020-11-19T11:52:23.993031",
     "status": "completed"
    },
    "tags": []
   },
   "outputs": [],
   "source": []
  },
  {
   "cell_type": "code",
   "execution_count": null,
   "metadata": {
    "papermill": {
     "duration": 0.022596,
     "end_time": "2020-11-19T11:52:24.063007",
     "exception": false,
     "start_time": "2020-11-19T11:52:24.040411",
     "status": "completed"
    },
    "tags": []
   },
   "outputs": [],
   "source": []
  }
 ],
 "metadata": {
  "kernelspec": {
   "display_name": "Python 3",
   "language": "python",
   "name": "python3"
  },
  "language_info": {
   "codemirror_mode": {
    "name": "ipython",
    "version": 3
   },
   "file_extension": ".py",
   "mimetype": "text/x-python",
   "name": "python",
   "nbconvert_exporter": "python",
   "pygments_lexer": "ipython3",
   "version": "3.6.12"
  },
  "papermill": {
   "duration": 16.596849,
   "end_time": "2020-11-19T11:52:25.283939",
   "environment_variables": {},
   "exception": null,
   "input_path": "latest.ipynb",
   "output_path": "latest.ipynb",
   "parameters": {},
   "start_time": "2020-11-19T11:52:08.687090",
   "version": "2.1.2"
  }
 },
 "nbformat": 4,
 "nbformat_minor": 4
}