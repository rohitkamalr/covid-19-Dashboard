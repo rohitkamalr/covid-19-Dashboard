{
 "cells": [
  {
   "cell_type": "markdown",
   "id": "colored-stack",
   "metadata": {
    "papermill": {
     "duration": 0.023575,
     "end_time": "2021-03-12T13:37:14.809031",
     "exception": false,
     "start_time": "2021-03-12T13:37:14.785456",
     "status": "completed"
    },
    "tags": []
   },
   "source": [
    "# Latest COVID-19 India Matplotlib Overview"
   ]
  },
  {
   "cell_type": "code",
   "execution_count": 1,
   "id": "light-proportion",
   "metadata": {
    "execution": {
     "iopub.execute_input": "2021-03-12T13:37:14.859595Z",
     "iopub.status.busy": "2021-03-12T13:37:14.858961Z",
     "iopub.status.idle": "2021-03-12T13:37:15.501571Z",
     "shell.execute_reply": "2021-03-12T13:37:15.500909Z"
    },
    "papermill": {
     "duration": 0.673175,
     "end_time": "2021-03-12T13:37:15.501724",
     "exception": false,
     "start_time": "2021-03-12T13:37:14.828549",
     "status": "completed"
    },
    "tags": []
   },
   "outputs": [],
   "source": [
    "#hide\n",
    "import pandas as pd\n",
    "import numpy as np\n",
    "import requests\n",
    "import json\n",
    "import matplotlib.pyplot as plt\n",
    "import matplotlib.dates as mdates\n",
    "import matplotlib as mpl\n",
    "from IPython.core.display import display,HTML\n",
    "%matplotlib inline\n",
    "from datetime import date"
   ]
  },
  {
   "cell_type": "code",
   "execution_count": 2,
   "id": "greenhouse-shooting",
   "metadata": {
    "execution": {
     "iopub.execute_input": "2021-03-12T13:37:15.547578Z",
     "iopub.status.busy": "2021-03-12T13:37:15.546959Z",
     "iopub.status.idle": "2021-03-12T13:37:15.990424Z",
     "shell.execute_reply": "2021-03-12T13:37:15.990955Z"
    },
    "papermill": {
     "duration": 0.470168,
     "end_time": "2021-03-12T13:37:15.991150",
     "exception": false,
     "start_time": "2021-03-12T13:37:15.520982",
     "status": "completed"
    },
    "tags": []
   },
   "outputs": [],
   "source": [
    "#hide\n",
    "df  = pd.read_csv('https://api.covid19india.org/csv/latest/states.csv')\n",
    "df = df[['Date','State','Confirmed','Deceased']]\n",
    "df = df.rename(columns={'Confirmed':'Cases', \"Deceased\":'Deaths'})\n",
    "df_cases = df[[\"Date\",'State','Cases']]\n",
    "df_deaths = df[['Date','State','Deaths']]\n",
    "df_cases1 = df_cases.groupby('Date')\n",
    "df_deaths1= df_deaths.groupby('Date')"
   ]
  },
  {
   "cell_type": "code",
   "execution_count": 3,
   "id": "hybrid-cathedral",
   "metadata": {
    "execution": {
     "iopub.execute_input": "2021-03-12T13:37:16.036320Z",
     "iopub.status.busy": "2021-03-12T13:37:16.035611Z",
     "iopub.status.idle": "2021-03-12T13:37:16.057533Z",
     "shell.execute_reply": "2021-03-12T13:37:16.057004Z"
    },
    "papermill": {
     "duration": 0.046957,
     "end_time": "2021-03-12T13:37:16.057669",
     "exception": false,
     "start_time": "2021-03-12T13:37:16.010712",
     "status": "completed"
    },
    "tags": []
   },
   "outputs": [],
   "source": [
    "#hide\n",
    "df_snap = pd.read_csv('data/SnapshotCases-28-July.csv')\n",
    "arr_states = df_snap['states'].unique()\n",
    "arr_dates = df['Date'].unique()\n",
    "df_snap = df_snap.set_index('states')"
   ]
  },
  {
   "cell_type": "code",
   "execution_count": 4,
   "id": "interior-belfast",
   "metadata": {
    "execution": {
     "iopub.execute_input": "2021-03-12T13:37:16.106239Z",
     "iopub.status.busy": "2021-03-12T13:37:16.105532Z",
     "iopub.status.idle": "2021-03-12T13:37:16.109171Z",
     "shell.execute_reply": "2021-03-12T13:37:16.108494Z"
    },
    "papermill": {
     "duration": 0.032123,
     "end_time": "2021-03-12T13:37:16.109304",
     "exception": false,
     "start_time": "2021-03-12T13:37:16.077181",
     "status": "completed"
    },
    "tags": []
   },
   "outputs": [
    {
     "data": {
      "text/plain": [
       "array(['Andaman and Nicobar Islands', 'Andhra Pradesh',\n",
       "       'Arunachal Pradesh', 'Assam', 'Bihar', 'Chandigarh',\n",
       "       'Dadra and Nagar Haveli and Daman and Diu', 'Delhi', 'Goa',\n",
       "       'Gujarat', 'Haryana', 'Himachal Pradesh', 'Jammu and Kashmir',\n",
       "       'Jharkhand', 'Karnataka', 'Kerala', 'Lakshadweep',\n",
       "       'Madhya Pradesh', 'Maharashtra', 'Manipur', 'Meghalaya', 'Mizoram',\n",
       "       'Nagaland', 'Odisha', 'Puducherry', 'Punjab', 'Rajasthan',\n",
       "       'Sikkim', 'Tamil Nadu', 'Telangana', 'Tripura', 'Uttar Pradesh',\n",
       "       'West Bengal', 'Chhattisgarh', 'Ladakh', 'Uttarakhand'],\n",
       "      dtype=object)"
      ]
     },
     "execution_count": 4,
     "metadata": {},
     "output_type": "execute_result"
    }
   ],
   "source": [
    "#hide\n",
    "arr_states[-9] = 'Puducherry'\n",
    "arr_states[-10] = 'Odisha'\n",
    "arr_states[6] = 'Dadra and Nagar Haveli and Daman and Diu'\n",
    "arr_states = np.append(arr_states,np.array(['Chhattisgarh','Ladakh','Uttarakhand']))\n",
    "arr_states"
   ]
  },
  {
   "cell_type": "code",
   "execution_count": 5,
   "id": "behind-manner",
   "metadata": {
    "execution": {
     "iopub.execute_input": "2021-03-12T13:37:16.171262Z",
     "iopub.status.busy": "2021-03-12T13:37:16.170111Z",
     "iopub.status.idle": "2021-03-12T13:37:16.180642Z",
     "shell.execute_reply": "2021-03-12T13:37:16.180027Z"
    },
    "papermill": {
     "duration": 0.051738,
     "end_time": "2021-03-12T13:37:16.180811",
     "exception": false,
     "start_time": "2021-03-12T13:37:16.129073",
     "status": "completed"
    },
    "tags": []
   },
   "outputs": [],
   "source": [
    "#hide\n",
    "dates = []\n",
    "for i in arr_dates:\n",
    "    if i>='2020-07-01':\n",
    "        dates.append(i)\n",
    "dict = {'states':dates}\n",
    "for i in arr_states:\n",
    "    dict[i] = [0]*len(dates)\n",
    "dft_cases = pd.DataFrame(dict)\n",
    "dft_deaths = pd.DataFrame(dict)\n"
   ]
  },
  {
   "cell_type": "code",
   "execution_count": 6,
   "id": "simplified-peter",
   "metadata": {
    "execution": {
     "iopub.execute_input": "2021-03-12T13:37:16.229227Z",
     "iopub.status.busy": "2021-03-12T13:37:16.228542Z",
     "iopub.status.idle": "2021-03-12T13:37:21.069256Z",
     "shell.execute_reply": "2021-03-12T13:37:21.069869Z"
    },
    "papermill": {
     "duration": 4.86789,
     "end_time": "2021-03-12T13:37:21.070038",
     "exception": false,
     "start_time": "2021-03-12T13:37:16.202148",
     "status": "completed"
    },
    "tags": []
   },
   "outputs": [],
   "source": [
    "#hide\n",
    "for i in range(len(dates)):\n",
    "    df1_deaths = df_deaths1.get_group(dates[i])\n",
    "    for j in range(len(df1_deaths.index)):\n",
    "        if df1_deaths.iloc[j,1] in arr_states:\n",
    "            dft_deaths.loc[i,df1_deaths.iloc[j,1]] = df1_deaths.iloc[j,2]\n",
    "dft_deaths = dft_deaths.set_index('states')"
   ]
  },
  {
   "cell_type": "code",
   "execution_count": 7,
   "id": "geological-welding",
   "metadata": {
    "execution": {
     "iopub.execute_input": "2021-03-12T13:37:21.124374Z",
     "iopub.status.busy": "2021-03-12T13:37:21.123687Z",
     "iopub.status.idle": "2021-03-12T13:37:25.909710Z",
     "shell.execute_reply": "2021-03-12T13:37:25.910578Z"
    },
    "papermill": {
     "duration": 4.814806,
     "end_time": "2021-03-12T13:37:25.910740",
     "exception": false,
     "start_time": "2021-03-12T13:37:21.095934",
     "status": "completed"
    },
    "tags": []
   },
   "outputs": [],
   "source": [
    "#hide\n",
    "for i in range(len(dates)):\n",
    "    df1_cases = df_cases1.get_group(dates[i])\n",
    "    for j in range(len(df1_cases.index)):\n",
    "        if df1_cases.iloc[j,1] in arr_states:\n",
    "            dft_cases.loc[i,df1_cases.iloc[j,1]] = df1_cases.iloc[j,2]\n",
    "dft_cases = dft_cases.set_index('states')"
   ]
  },
  {
   "cell_type": "code",
   "execution_count": 8,
   "id": "binary-ratio",
   "metadata": {
    "execution": {
     "iopub.execute_input": "2021-03-12T13:37:25.958299Z",
     "iopub.status.busy": "2021-03-12T13:37:25.957679Z",
     "iopub.status.idle": "2021-03-12T13:37:25.959959Z",
     "shell.execute_reply": "2021-03-12T13:37:25.960438Z"
    },
    "papermill": {
     "duration": 0.028828,
     "end_time": "2021-03-12T13:37:25.960573",
     "exception": false,
     "start_time": "2021-03-12T13:37:25.931745",
     "status": "completed"
    },
    "tags": []
   },
   "outputs": [],
   "source": [
    "#hide\n",
    "dft_cases = dft_cases.T\n",
    "dft_deaths = dft_deaths.T\n",
    "dt_today = dates[-1]\n",
    "dt_yday = dates[-2]"
   ]
  },
  {
   "cell_type": "code",
   "execution_count": 9,
   "id": "boolean-calculator",
   "metadata": {
    "execution": {
     "iopub.execute_input": "2021-03-12T13:37:26.002892Z",
     "iopub.status.busy": "2021-03-12T13:37:26.002230Z",
     "iopub.status.idle": "2021-03-12T13:37:26.009579Z",
     "shell.execute_reply": "2021-03-12T13:37:26.009009Z"
    },
    "papermill": {
     "duration": 0.029849,
     "end_time": "2021-03-12T13:37:26.009704",
     "exception": false,
     "start_time": "2021-03-12T13:37:25.979855",
     "status": "completed"
    },
    "tags": []
   },
   "outputs": [],
   "source": [
    "#hide\n",
    "dft_cases = dft_cases.reset_index()\n",
    "dft_deaths = dft_deaths.reset_index()\n",
    "dft_cases = dft_cases.rename(columns = {'index':'state'})\n",
    "dft_deaths = dft_deaths.rename(columns = {'index':'state'})"
   ]
  },
  {
   "cell_type": "code",
   "execution_count": 10,
   "id": "invisible-johnston",
   "metadata": {
    "execution": {
     "iopub.execute_input": "2021-03-12T13:37:26.061019Z",
     "iopub.status.busy": "2021-03-12T13:37:26.060345Z",
     "iopub.status.idle": "2021-03-12T13:37:26.064543Z",
     "shell.execute_reply": "2021-03-12T13:37:26.063887Z"
    },
    "papermill": {
     "duration": 0.036158,
     "end_time": "2021-03-12T13:37:26.064671",
     "exception": false,
     "start_time": "2021-03-12T13:37:26.028513",
     "status": "completed"
    },
    "tags": []
   },
   "outputs": [],
   "source": [
    "#hide\n",
    "dfc_cases = dft_cases.groupby('state')[dt_today].sum()\n",
    "dfc_deaths = dft_deaths.groupby('state')[dt_today].sum()\n",
    "dfp_cases = dft_cases.groupby('state')[dt_yday].sum()\n",
    "dfp_deaths = dft_deaths.groupby('state')[dt_yday].sum()"
   ]
  },
  {
   "cell_type": "code",
   "execution_count": 11,
   "id": "measured-great",
   "metadata": {
    "execution": {
     "iopub.execute_input": "2021-03-12T13:37:26.113572Z",
     "iopub.status.busy": "2021-03-12T13:37:26.112924Z",
     "iopub.status.idle": "2021-03-12T13:37:26.126988Z",
     "shell.execute_reply": "2021-03-12T13:37:26.127530Z"
    },
    "papermill": {
     "duration": 0.042402,
     "end_time": "2021-03-12T13:37:26.127672",
     "exception": false,
     "start_time": "2021-03-12T13:37:26.085270",
     "status": "completed"
    },
    "tags": []
   },
   "outputs": [
    {
     "data": {
      "text/html": [
       "<div>\n",
       "<style scoped>\n",
       "    .dataframe tbody tr th:only-of-type {\n",
       "        vertical-align: middle;\n",
       "    }\n",
       "\n",
       "    .dataframe tbody tr th {\n",
       "        vertical-align: top;\n",
       "    }\n",
       "\n",
       "    .dataframe thead th {\n",
       "        text-align: right;\n",
       "    }\n",
       "</style>\n",
       "<table border=\"1\" class=\"dataframe\">\n",
       "  <thead>\n",
       "    <tr style=\"text-align: right;\">\n",
       "      <th></th>\n",
       "      <th>states</th>\n",
       "      <th>Cases</th>\n",
       "      <th>Deaths</th>\n",
       "      <th>PCases</th>\n",
       "      <th>PDeaths</th>\n",
       "    </tr>\n",
       "  </thead>\n",
       "  <tbody>\n",
       "    <tr>\n",
       "      <th>0</th>\n",
       "      <td>Maharashtra</td>\n",
       "      <td>2266374</td>\n",
       "      <td>52667</td>\n",
       "      <td>2266374</td>\n",
       "      <td>52667</td>\n",
       "    </tr>\n",
       "    <tr>\n",
       "      <th>1</th>\n",
       "      <td>Kerala</td>\n",
       "      <td>1087444</td>\n",
       "      <td>4370</td>\n",
       "      <td>1085664</td>\n",
       "      <td>4356</td>\n",
       "    </tr>\n",
       "    <tr>\n",
       "      <th>2</th>\n",
       "      <td>Karnataka</td>\n",
       "      <td>957584</td>\n",
       "      <td>12381</td>\n",
       "      <td>957584</td>\n",
       "      <td>12381</td>\n",
       "    </tr>\n",
       "    <tr>\n",
       "      <th>3</th>\n",
       "      <td>Andhra Pradesh</td>\n",
       "      <td>891178</td>\n",
       "      <td>7179</td>\n",
       "      <td>891178</td>\n",
       "      <td>7179</td>\n",
       "    </tr>\n",
       "    <tr>\n",
       "      <th>4</th>\n",
       "      <td>Tamil Nadu</td>\n",
       "      <td>857602</td>\n",
       "      <td>12535</td>\n",
       "      <td>857602</td>\n",
       "      <td>12535</td>\n",
       "    </tr>\n",
       "  </tbody>\n",
       "</table>\n",
       "</div>"
      ],
      "text/plain": [
       "           states    Cases  Deaths   PCases  PDeaths\n",
       "0     Maharashtra  2266374   52667  2266374    52667\n",
       "1          Kerala  1087444    4370  1085664     4356\n",
       "2       Karnataka   957584   12381   957584    12381\n",
       "3  Andhra Pradesh   891178    7179   891178     7179\n",
       "4      Tamil Nadu   857602   12535   857602    12535"
      ]
     },
     "execution_count": 11,
     "metadata": {},
     "output_type": "execute_result"
    }
   ],
   "source": [
    "#hide\n",
    "df_table = pd.DataFrame({'states': dfc_cases.index, 'Cases': dfc_cases.values, 'Deaths': dfc_deaths.values, 'PCases': dfp_cases.values, 'PDeaths': dfp_deaths.values}).set_index('states')\n",
    "df_table = df_table.sort_values(by = ['Cases','Deaths'], ascending = [False, False])\n",
    "df_table = df_table.reset_index()\n",
    "df_table.head()"
   ]
  },
  {
   "cell_type": "code",
   "execution_count": 12,
   "id": "found-montreal",
   "metadata": {
    "execution": {
     "iopub.execute_input": "2021-03-12T13:37:26.173996Z",
     "iopub.status.busy": "2021-03-12T13:37:26.173339Z",
     "iopub.status.idle": "2021-03-12T13:37:26.183540Z",
     "shell.execute_reply": "2021-03-12T13:37:26.182998Z"
    },
    "papermill": {
     "duration": 0.035872,
     "end_time": "2021-03-12T13:37:26.183663",
     "exception": false,
     "start_time": "2021-03-12T13:37:26.147791",
     "status": "completed"
    },
    "tags": []
   },
   "outputs": [],
   "source": [
    "#hide\n",
    "for c in 'Cases, Deaths'.split(', '):\n",
    "    df_table[f'{c} (+)'] = (df_table[c] - df_table[f'P{c}']).clip(0)\n",
    "df_table['Fatality Rate'] = (100* df_table['Deaths']/ df_table['Cases']).round(2)"
   ]
  },
  {
   "cell_type": "code",
   "execution_count": 13,
   "id": "minus-savage",
   "metadata": {
    "execution": {
     "iopub.execute_input": "2021-03-12T13:37:26.239426Z",
     "iopub.status.busy": "2021-03-12T13:37:26.238833Z",
     "iopub.status.idle": "2021-03-12T13:37:26.241662Z",
     "shell.execute_reply": "2021-03-12T13:37:26.242237Z"
    },
    "papermill": {
     "duration": 0.040031,
     "end_time": "2021-03-12T13:37:26.242373",
     "exception": false,
     "start_time": "2021-03-12T13:37:26.202342",
     "status": "completed"
    },
    "tags": []
   },
   "outputs": [
    {
     "data": {
      "text/html": [
       "<div>\n",
       "<style scoped>\n",
       "    .dataframe tbody tr th:only-of-type {\n",
       "        vertical-align: middle;\n",
       "    }\n",
       "\n",
       "    .dataframe tbody tr th {\n",
       "        vertical-align: top;\n",
       "    }\n",
       "\n",
       "    .dataframe thead th {\n",
       "        text-align: right;\n",
       "    }\n",
       "</style>\n",
       "<table border=\"1\" class=\"dataframe\">\n",
       "  <thead>\n",
       "    <tr style=\"text-align: right;\">\n",
       "      <th></th>\n",
       "      <th>states</th>\n",
       "      <th>Cases</th>\n",
       "      <th>Deaths</th>\n",
       "      <th>PCases</th>\n",
       "      <th>PDeaths</th>\n",
       "      <th>Cases (+)</th>\n",
       "      <th>Deaths (+)</th>\n",
       "      <th>Fatality Rate</th>\n",
       "    </tr>\n",
       "  </thead>\n",
       "  <tbody>\n",
       "    <tr>\n",
       "      <th>0</th>\n",
       "      <td>Maharashtra</td>\n",
       "      <td>2266374</td>\n",
       "      <td>52667</td>\n",
       "      <td>2266374</td>\n",
       "      <td>52667</td>\n",
       "      <td>0</td>\n",
       "      <td>0</td>\n",
       "      <td>2.32</td>\n",
       "    </tr>\n",
       "    <tr>\n",
       "      <th>1</th>\n",
       "      <td>Kerala</td>\n",
       "      <td>1087444</td>\n",
       "      <td>4370</td>\n",
       "      <td>1085664</td>\n",
       "      <td>4356</td>\n",
       "      <td>1780</td>\n",
       "      <td>14</td>\n",
       "      <td>0.40</td>\n",
       "    </tr>\n",
       "    <tr>\n",
       "      <th>2</th>\n",
       "      <td>Karnataka</td>\n",
       "      <td>957584</td>\n",
       "      <td>12381</td>\n",
       "      <td>957584</td>\n",
       "      <td>12381</td>\n",
       "      <td>0</td>\n",
       "      <td>0</td>\n",
       "      <td>1.29</td>\n",
       "    </tr>\n",
       "    <tr>\n",
       "      <th>3</th>\n",
       "      <td>Andhra Pradesh</td>\n",
       "      <td>891178</td>\n",
       "      <td>7179</td>\n",
       "      <td>891178</td>\n",
       "      <td>7179</td>\n",
       "      <td>0</td>\n",
       "      <td>0</td>\n",
       "      <td>0.81</td>\n",
       "    </tr>\n",
       "    <tr>\n",
       "      <th>4</th>\n",
       "      <td>Tamil Nadu</td>\n",
       "      <td>857602</td>\n",
       "      <td>12535</td>\n",
       "      <td>857602</td>\n",
       "      <td>12535</td>\n",
       "      <td>0</td>\n",
       "      <td>0</td>\n",
       "      <td>1.46</td>\n",
       "    </tr>\n",
       "  </tbody>\n",
       "</table>\n",
       "</div>"
      ],
      "text/plain": [
       "           states    Cases  Deaths   PCases  PDeaths  Cases (+)  Deaths (+)  \\\n",
       "0     Maharashtra  2266374   52667  2266374    52667          0           0   \n",
       "1          Kerala  1087444    4370  1085664     4356       1780          14   \n",
       "2       Karnataka   957584   12381   957584    12381          0           0   \n",
       "3  Andhra Pradesh   891178    7179   891178     7179          0           0   \n",
       "4      Tamil Nadu   857602   12535   857602    12535          0           0   \n",
       "\n",
       "   Fatality Rate  \n",
       "0           2.32  \n",
       "1           0.40  \n",
       "2           1.29  \n",
       "3           0.81  \n",
       "4           1.46  "
      ]
     },
     "execution_count": 13,
     "metadata": {},
     "output_type": "execute_result"
    }
   ],
   "source": [
    "#hide\n",
    "df_table.head()"
   ]
  },
  {
   "cell_type": "code",
   "execution_count": 14,
   "id": "false-peter",
   "metadata": {
    "execution": {
     "iopub.execute_input": "2021-03-12T13:37:26.307314Z",
     "iopub.status.busy": "2021-03-12T13:37:26.306079Z",
     "iopub.status.idle": "2021-03-12T13:37:26.308978Z",
     "shell.execute_reply": "2021-03-12T13:37:26.309639Z"
    },
    "papermill": {
     "duration": 0.04705,
     "end_time": "2021-03-12T13:37:26.309821",
     "exception": false,
     "start_time": "2021-03-12T13:37:26.262771",
     "status": "completed"
    },
    "tags": []
   },
   "outputs": [
    {
     "data": {
      "text/plain": [
       "{'updated': '2021-03-12',\n",
       " 'since': '2021-03-11',\n",
       " 'Cases': 11310426,\n",
       " 'PCases': 11308646,\n",
       " 'Deaths': 158357,\n",
       " 'PDeaths': 158343,\n",
       " 'Cases (+)': 1780,\n",
       " 'Deaths (+)': 14}"
      ]
     },
     "execution_count": 14,
     "metadata": {},
     "output_type": "execute_result"
    }
   ],
   "source": [
    "#hide\n",
    "summary = {'updated':dates[-1], 'since':dates[-2]}\n",
    "list_names = ['Cases', 'PCases', 'Deaths', 'PDeaths', 'Cases (+)', 'Deaths (+)']\n",
    "for name in list_names:\n",
    "    summary[name] = df_table.sum()[name]\n",
    "summary"
   ]
  },
  {
   "cell_type": "code",
   "execution_count": 15,
   "id": "packed-viewer",
   "metadata": {
    "execution": {
     "iopub.execute_input": "2021-03-12T13:37:26.356130Z",
     "iopub.status.busy": "2021-03-12T13:37:26.355504Z",
     "iopub.status.idle": "2021-03-12T13:37:26.357794Z",
     "shell.execute_reply": "2021-03-12T13:37:26.358328Z"
    },
    "papermill": {
     "duration": 0.027514,
     "end_time": "2021-03-12T13:37:26.358463",
     "exception": false,
     "start_time": "2021-03-12T13:37:26.330949",
     "status": "completed"
    },
    "tags": []
   },
   "outputs": [],
   "source": [
    "#hide\n",
    "overview = '''\n",
    "<!-- #######  HTML!! #########-->\n",
    "<h1 style=\"color: #5e9ca0; text-align: center;\">India</h1>\n",
    "<p style=\"text-align: center;\">Last update: <strong>{update}</strong></p>\n",
    "<p style=\"text-align: center;\">Confirmed cases:</p>\n",
    "<p style=\"text-align: center;font-size:24px;\">{cases} (<span style=\"color: #ff0000;\">+{new}</span>)</p>\n",
    "<p style=\"text-align: center;\">Confirmed deaths:</p>\n",
    "<p style=\"text-align: center;font-size:24px;\">{deaths} (<span style=\"color: #ff0000;\">+{dnew}</span>)</p>\n",
    "'''"
   ]
  },
  {
   "cell_type": "code",
   "execution_count": 16,
   "id": "phantom-lover",
   "metadata": {
    "execution": {
     "iopub.execute_input": "2021-03-12T13:37:26.405283Z",
     "iopub.status.busy": "2021-03-12T13:37:26.404604Z",
     "iopub.status.idle": "2021-03-12T13:37:26.407767Z",
     "shell.execute_reply": "2021-03-12T13:37:26.408288Z"
    },
    "papermill": {
     "duration": 0.029476,
     "end_time": "2021-03-12T13:37:26.408423",
     "exception": false,
     "start_time": "2021-03-12T13:37:26.378947",
     "status": "completed"
    },
    "tags": []
   },
   "outputs": [
    {
     "data": {
      "text/html": [
       "\n",
       "<!-- #######  HTML!! #########-->\n",
       "<h1 style=\"color: #5e9ca0; text-align: center;\">India</h1>\n",
       "<p style=\"text-align: center;\">Last update: <strong>2021-03-12</strong></p>\n",
       "<p style=\"text-align: center;\">Confirmed cases:</p>\n",
       "<p style=\"text-align: center;font-size:24px;\">11310426 (<span style=\"color: #ff0000;\">+1780</span>)</p>\n",
       "<p style=\"text-align: center;\">Confirmed deaths:</p>\n",
       "<p style=\"text-align: center;font-size:24px;\">158357 (<span style=\"color: #ff0000;\">+14</span>)</p>\n"
      ],
      "text/plain": [
       "<IPython.core.display.HTML object>"
      ]
     },
     "metadata": {},
     "output_type": "display_data"
    }
   ],
   "source": [
    "#hide_input\n",
    "update = summary['updated']\n",
    "cases = summary['Cases']\n",
    "new = summary['Cases (+)']\n",
    "deaths = summary['Deaths']\n",
    "dnew = summary['Deaths (+)']\n",
    "\n",
    "html = HTML(overview.format(update=update, cases=cases,new=new,deaths=deaths,dnew=dnew))\n",
    "\n",
    "display(html)"
   ]
  },
  {
   "cell_type": "code",
   "execution_count": 17,
   "id": "sealed-reset",
   "metadata": {
    "execution": {
     "iopub.execute_input": "2021-03-12T13:37:26.457321Z",
     "iopub.status.busy": "2021-03-12T13:37:26.456640Z",
     "iopub.status.idle": "2021-03-12T13:37:26.465328Z",
     "shell.execute_reply": "2021-03-12T13:37:26.464796Z"
    },
    "papermill": {
     "duration": 0.036446,
     "end_time": "2021-03-12T13:37:26.465449",
     "exception": false,
     "start_time": "2021-03-12T13:37:26.429003",
     "status": "completed"
    },
    "tags": []
   },
   "outputs": [],
   "source": [
    "#hide\n",
    "dt_cols = list(dft_cases.columns[1:])\n",
    "dft_ct_new_cases = dft_cases.groupby('state')[dt_cols].sum().diff(axis=1).fillna(0).astype(int)\n",
    "dft_ct_new_cases.sort_values(by = dates[-1], ascending = False,inplace = True)"
   ]
  },
  {
   "cell_type": "code",
   "execution_count": 18,
   "id": "designed-constant",
   "metadata": {
    "execution": {
     "iopub.execute_input": "2021-03-12T13:37:26.519099Z",
     "iopub.status.busy": "2021-03-12T13:37:26.518399Z",
     "iopub.status.idle": "2021-03-12T13:37:26.530987Z",
     "shell.execute_reply": "2021-03-12T13:37:26.530434Z"
    },
    "papermill": {
     "duration": 0.044215,
     "end_time": "2021-03-12T13:37:26.531112",
     "exception": false,
     "start_time": "2021-03-12T13:37:26.486897",
     "status": "completed"
    },
    "tags": []
   },
   "outputs": [
    {
     "data": {
      "text/html": [
       "<div>\n",
       "<style scoped>\n",
       "    .dataframe tbody tr th:only-of-type {\n",
       "        vertical-align: middle;\n",
       "    }\n",
       "\n",
       "    .dataframe tbody tr th {\n",
       "        vertical-align: top;\n",
       "    }\n",
       "\n",
       "    .dataframe thead th {\n",
       "        text-align: right;\n",
       "    }\n",
       "</style>\n",
       "<table border=\"1\" class=\"dataframe\">\n",
       "  <thead>\n",
       "    <tr style=\"text-align: right;\">\n",
       "      <th>states</th>\n",
       "      <th>2020-07-01</th>\n",
       "      <th>2020-07-02</th>\n",
       "      <th>2020-07-03</th>\n",
       "      <th>2020-07-04</th>\n",
       "      <th>2020-07-05</th>\n",
       "      <th>2020-07-06</th>\n",
       "      <th>2020-07-07</th>\n",
       "      <th>2020-07-08</th>\n",
       "      <th>2020-07-09</th>\n",
       "      <th>2020-07-10</th>\n",
       "      <th>...</th>\n",
       "      <th>2021-03-03</th>\n",
       "      <th>2021-03-04</th>\n",
       "      <th>2021-03-05</th>\n",
       "      <th>2021-03-06</th>\n",
       "      <th>2021-03-07</th>\n",
       "      <th>2021-03-08</th>\n",
       "      <th>2021-03-09</th>\n",
       "      <th>2021-03-10</th>\n",
       "      <th>2021-03-11</th>\n",
       "      <th>2021-03-12</th>\n",
       "    </tr>\n",
       "    <tr>\n",
       "      <th>state</th>\n",
       "      <th></th>\n",
       "      <th></th>\n",
       "      <th></th>\n",
       "      <th></th>\n",
       "      <th></th>\n",
       "      <th></th>\n",
       "      <th></th>\n",
       "      <th></th>\n",
       "      <th></th>\n",
       "      <th></th>\n",
       "      <th></th>\n",
       "      <th></th>\n",
       "      <th></th>\n",
       "      <th></th>\n",
       "      <th></th>\n",
       "      <th></th>\n",
       "      <th></th>\n",
       "      <th></th>\n",
       "      <th></th>\n",
       "      <th></th>\n",
       "      <th></th>\n",
       "    </tr>\n",
       "  </thead>\n",
       "  <tbody>\n",
       "    <tr>\n",
       "      <th>Kerala</th>\n",
       "      <td>0</td>\n",
       "      <td>160</td>\n",
       "      <td>211</td>\n",
       "      <td>240</td>\n",
       "      <td>225</td>\n",
       "      <td>193</td>\n",
       "      <td>272</td>\n",
       "      <td>301</td>\n",
       "      <td>339</td>\n",
       "      <td>416</td>\n",
       "      <td>...</td>\n",
       "      <td>2765</td>\n",
       "      <td>2616</td>\n",
       "      <td>2776</td>\n",
       "      <td>2791</td>\n",
       "      <td>2100</td>\n",
       "      <td>1412</td>\n",
       "      <td>2316</td>\n",
       "      <td>2475</td>\n",
       "      <td>2133</td>\n",
       "      <td>1780</td>\n",
       "    </tr>\n",
       "    <tr>\n",
       "      <th>Andaman and Nicobar Islands</th>\n",
       "      <td>0</td>\n",
       "      <td>9</td>\n",
       "      <td>7</td>\n",
       "      <td>3</td>\n",
       "      <td>6</td>\n",
       "      <td>16</td>\n",
       "      <td>6</td>\n",
       "      <td>2</td>\n",
       "      <td>7</td>\n",
       "      <td>0</td>\n",
       "      <td>...</td>\n",
       "      <td>2</td>\n",
       "      <td>2</td>\n",
       "      <td>0</td>\n",
       "      <td>0</td>\n",
       "      <td>0</td>\n",
       "      <td>2</td>\n",
       "      <td>2</td>\n",
       "      <td>0</td>\n",
       "      <td>0</td>\n",
       "      <td>0</td>\n",
       "    </tr>\n",
       "    <tr>\n",
       "      <th>Madhya Pradesh</th>\n",
       "      <td>0</td>\n",
       "      <td>245</td>\n",
       "      <td>191</td>\n",
       "      <td>307</td>\n",
       "      <td>326</td>\n",
       "      <td>354</td>\n",
       "      <td>343</td>\n",
       "      <td>409</td>\n",
       "      <td>305</td>\n",
       "      <td>316</td>\n",
       "      <td>...</td>\n",
       "      <td>417</td>\n",
       "      <td>440</td>\n",
       "      <td>457</td>\n",
       "      <td>467</td>\n",
       "      <td>429</td>\n",
       "      <td>427</td>\n",
       "      <td>457</td>\n",
       "      <td>516</td>\n",
       "      <td>530</td>\n",
       "      <td>0</td>\n",
       "    </tr>\n",
       "    <tr>\n",
       "      <th>Manipur</th>\n",
       "      <td>0</td>\n",
       "      <td>19</td>\n",
       "      <td>37</td>\n",
       "      <td>9</td>\n",
       "      <td>41</td>\n",
       "      <td>24</td>\n",
       "      <td>40</td>\n",
       "      <td>5</td>\n",
       "      <td>15</td>\n",
       "      <td>132</td>\n",
       "      <td>...</td>\n",
       "      <td>1</td>\n",
       "      <td>0</td>\n",
       "      <td>3</td>\n",
       "      <td>2</td>\n",
       "      <td>3</td>\n",
       "      <td>5</td>\n",
       "      <td>2</td>\n",
       "      <td>7</td>\n",
       "      <td>4</td>\n",
       "      <td>0</td>\n",
       "    </tr>\n",
       "    <tr>\n",
       "      <th>Meghalaya</th>\n",
       "      <td>0</td>\n",
       "      <td>3</td>\n",
       "      <td>4</td>\n",
       "      <td>8</td>\n",
       "      <td>2</td>\n",
       "      <td>16</td>\n",
       "      <td>6</td>\n",
       "      <td>6</td>\n",
       "      <td>13</td>\n",
       "      <td>73</td>\n",
       "      <td>...</td>\n",
       "      <td>0</td>\n",
       "      <td>0</td>\n",
       "      <td>2</td>\n",
       "      <td>0</td>\n",
       "      <td>4</td>\n",
       "      <td>1</td>\n",
       "      <td>4</td>\n",
       "      <td>6</td>\n",
       "      <td>2</td>\n",
       "      <td>0</td>\n",
       "    </tr>\n",
       "  </tbody>\n",
       "</table>\n",
       "<p>5 rows × 255 columns</p>\n",
       "</div>"
      ],
      "text/plain": [
       "states                       2020-07-01  2020-07-02  2020-07-03  2020-07-04  \\\n",
       "state                                                                         \n",
       "Kerala                                0         160         211         240   \n",
       "Andaman and Nicobar Islands           0           9           7           3   \n",
       "Madhya Pradesh                        0         245         191         307   \n",
       "Manipur                               0          19          37           9   \n",
       "Meghalaya                             0           3           4           8   \n",
       "\n",
       "states                       2020-07-05  2020-07-06  2020-07-07  2020-07-08  \\\n",
       "state                                                                         \n",
       "Kerala                              225         193         272         301   \n",
       "Andaman and Nicobar Islands           6          16           6           2   \n",
       "Madhya Pradesh                      326         354         343         409   \n",
       "Manipur                              41          24          40           5   \n",
       "Meghalaya                             2          16           6           6   \n",
       "\n",
       "states                       2020-07-09  2020-07-10  ...  2021-03-03  \\\n",
       "state                                                ...               \n",
       "Kerala                              339         416  ...        2765   \n",
       "Andaman and Nicobar Islands           7           0  ...           2   \n",
       "Madhya Pradesh                      305         316  ...         417   \n",
       "Manipur                              15         132  ...           1   \n",
       "Meghalaya                            13          73  ...           0   \n",
       "\n",
       "states                       2021-03-04  2021-03-05  2021-03-06  2021-03-07  \\\n",
       "state                                                                         \n",
       "Kerala                             2616        2776        2791        2100   \n",
       "Andaman and Nicobar Islands           2           0           0           0   \n",
       "Madhya Pradesh                      440         457         467         429   \n",
       "Manipur                               0           3           2           3   \n",
       "Meghalaya                             0           2           0           4   \n",
       "\n",
       "states                       2021-03-08  2021-03-09  2021-03-10  2021-03-11  \\\n",
       "state                                                                         \n",
       "Kerala                             1412        2316        2475        2133   \n",
       "Andaman and Nicobar Islands           2           2           0           0   \n",
       "Madhya Pradesh                      427         457         516         530   \n",
       "Manipur                               5           2           7           4   \n",
       "Meghalaya                             1           4           6           2   \n",
       "\n",
       "states                       2021-03-12  \n",
       "state                                    \n",
       "Kerala                             1780  \n",
       "Andaman and Nicobar Islands           0  \n",
       "Madhya Pradesh                        0  \n",
       "Manipur                               0  \n",
       "Meghalaya                             0  \n",
       "\n",
       "[5 rows x 255 columns]"
      ]
     },
     "execution_count": 18,
     "metadata": {},
     "output_type": "execute_result"
    }
   ],
   "source": [
    "#hide\n",
    "dft_ct_new_cases.head()"
   ]
  },
  {
   "cell_type": "code",
   "execution_count": 19,
   "id": "responsible-nightlife",
   "metadata": {
    "execution": {
     "iopub.execute_input": "2021-03-12T13:37:26.581195Z",
     "iopub.status.busy": "2021-03-12T13:37:26.575814Z",
     "iopub.status.idle": "2021-03-12T13:37:38.321173Z",
     "shell.execute_reply": "2021-03-12T13:37:38.321672Z"
    },
    "papermill": {
     "duration": 11.77,
     "end_time": "2021-03-12T13:37:38.321822",
     "exception": false,
     "start_time": "2021-03-12T13:37:26.551822",
     "status": "completed"
    },
    "tags": []
   },
   "outputs": [
    {
     "data": {
      "image/png": "[encoded data removed]",
      "text/plain": [
       "<Figure size 1296x2016 with 11 Axes>"
      ]
     },
     "metadata": {
      "needs_background": "light"
     },
     "output_type": "display_data"
    }
   ],
   "source": [
    "#hide_input\n",
    "df = dft_ct_new_cases.copy()\n",
    "df.loc['Total'] = df.sum()\n",
    "n = 5\n",
    "ax = []\n",
    "fig = plt.figure(figsize = (18,28))\n",
    "gs = fig.add_gridspec(n+2, 5)\n",
    "# gs = fig.add_gridspec(2, 3)\n",
    "ax1 = fig.add_subplot(gs[0, :])\n",
    "ef = df.loc['Total'].rename_axis('date').reset_index()\n",
    "ef['date'] = ef['date'].astype('datetime64[ns]')\n",
    "ax1.bar(ef.date,ef.Total,alpha=0.3,color='#007acc')\n",
    "ax1.plot(ef.date,ef.Total , marker=\"o\", color='#007acc')\n",
    "ax1.xaxis.set_major_locator(mdates.WeekdayLocator())\n",
    "ax1.xaxis.set_major_formatter(mdates.DateFormatter('%b %d'))\n",
    "ax1.text(0.02, 0.5,'India daily case count', transform = ax1.transAxes, fontsize=25);\n",
    "ax1.spines['right'].set_visible(False)\n",
    "ax1.spines['top'].set_visible(False)\n",
    "\n",
    "ax2 = fig.add_subplot(gs[1,0])\n",
    "ef = df.loc['Maharashtra'].rename_axis('date').reset_index()\n",
    "ef['date'] = ef['date'].astype('datetime64[ns]')\n",
    "\n",
    "ax2.bar(ef.date, ef.Maharashtra,color = '#007acc',alpha=0.5)\n",
    "ax2.xaxis.set_major_locator(mdates.WeekdayLocator())\n",
    "ax2.xaxis.set_major_formatter(mdates.DateFormatter('%b %d'))\n",
    "ax2.set_xticks(ax2.get_xticks()[::3])\n",
    "maxyval = ef.Maharashtra.max()\n",
    "ax2.set_ylim([0,maxyval])\n",
    "ax2.text(0.05, 0.9,'Maharashtra', transform = ax2.transAxes, fontsize=20);\n",
    "ax2.spines['right'].set_visible(False)\n",
    "ax2.spines['top'].set_visible(False)\n",
    "\n",
    "\n",
    "ax3 = fig.add_subplot(gs[1,1])\n",
    "ef = df.loc['Tamil Nadu'].rename_axis('date').reset_index()\n",
    "ef['date'] = ef['date'].astype('datetime64[ns]')\n",
    "ax3.bar(ef.date, ef['Tamil Nadu'],color = '#007acc',alpha=0.5,)\n",
    "ax3.xaxis.set_major_locator(mdates.WeekdayLocator())\n",
    "ax3.xaxis.set_major_formatter(mdates.DateFormatter('%b %d'))\n",
    "ax3.set_xticks(ax3.get_xticks()[::3])\n",
    "ax3.text(0.05, 0.9,'Tamil Nadu', transform = ax3.transAxes, fontsize=20);\n",
    "ax3.spines['right'].set_visible(False)\n",
    "ax3.spines['top'].set_visible(False)\n",
    "\n",
    "ax5 = fig.add_subplot(gs[1,3])\n",
    "ef = df.loc['Telangana'].rename_axis('date').reset_index()\n",
    "ef['date'] = ef['date'].astype('datetime64[ns]')\n",
    "ax5.bar(ef.date, ef['Telangana'],color = '#007acc',alpha=0.5,)\n",
    "ax5.xaxis.set_major_locator(mdates.WeekdayLocator())\n",
    "ax5.xaxis.set_major_formatter(mdates.DateFormatter('%b %d'))\n",
    "ax5.set_xticks(ax5.get_xticks()[::3])\n",
    "ax5.text(0.05, 0.9,'Telangana', transform = ax5.transAxes, fontsize=20);\n",
    "ax5.spines['right'].set_visible(False)\n",
    "ax5.spines['top'].set_visible(False)\n",
    "\n",
    "ax6 = fig.add_subplot(gs[1,4])\n",
    "ef = df.loc['Andhra Pradesh'].rename_axis('date').reset_index()\n",
    "ef['date'] = ef['date'].astype('datetime64[ns]')\n",
    "ax6.bar(ef.date, ef['Andhra Pradesh'],color = '#007acc',alpha=0.5,)\n",
    "ax6.xaxis.set_major_locator(mdates.WeekdayLocator())\n",
    "ax6.xaxis.set_major_formatter(mdates.DateFormatter('%b %d'))\n",
    "ax6.set_xticks(ax6.get_xticks()[::3])\n",
    "ax6.text(0.05, 1,'Andhra Pradesh', transform = ax6.transAxes, fontsize=20);\n",
    "ax6.spines['right'].set_visible(False)\n",
    "ax6.spines['top'].set_visible(False)\n",
    "\n",
    "ax4 = fig.add_subplot(gs[1,2])\n",
    "ef = df.loc['Delhi'].rename_axis('date').reset_index()\n",
    "ef['date'] = ef['date'].astype('datetime64[ns]')\n",
    "ax4.bar(ef.date, ef.Delhi,color = '#007acc',alpha=0.5)\n",
    "ax4.set_xticks([])\n",
    "ax4.xaxis.set_major_locator(mdates.WeekdayLocator())\n",
    "ax4.xaxis.set_major_formatter(mdates.DateFormatter('%b %d'))\n",
    "ax4.set_xticks(ax4.get_xticks()[::3])\n",
    "ax4.spines['right'].set_visible(False)\n",
    "ax4.spines['top'].set_visible(False)\n",
    "\n",
    "ax4.text(0.05, 1,'Delhi', transform = ax4.transAxes, fontsize=20)\n",
    "\n",
    "for i in range(n):\n",
    "    \n",
    "    ax.append(fig.add_subplot(gs[i+2,:]))\n",
    "    ef = df.iloc[i+3].rename_axis('date').reset_index()\n",
    "    ef['date'] = ef['date'].astype('datetime64[ns]')\n",
    "    ax[i].bar(ef.date,ef.iloc[:,-1],color = '#007acc',alpha=0.3)\n",
    "    ax[i].plot(ef.date,ef.iloc[:,-1],marker='o',color='#007acc')\n",
    "    ax[i].text(0.02,0.5,f'{ef.columns.values[-1]}',transform = ax[i].transAxes, fontsize = 20);\n",
    "    ax[i].xaxis.set_major_locator(mdates.WeekdayLocator())\n",
    "    ax[i].xaxis.set_major_formatter(mdates.DateFormatter('%b %d'))\n",
    "    ax[i].set_ylim([0,7000])\n",
    "    ax[i].spines['right'].set_visible(False)\n",
    "    ax[i].spines['top'].set_visible(False)\n",
    "plt.tight_layout()\n"
   ]
  },
  {
   "cell_type": "code",
   "execution_count": 20,
   "id": "dress-forge",
   "metadata": {
    "execution": {
     "iopub.execute_input": "2021-03-12T13:37:38.381068Z",
     "iopub.status.busy": "2021-03-12T13:37:38.380354Z",
     "iopub.status.idle": "2021-03-12T13:37:38.383023Z",
     "shell.execute_reply": "2021-03-12T13:37:38.383542Z"
    },
    "papermill": {
     "duration": 0.036969,
     "end_time": "2021-03-12T13:37:38.383676",
     "exception": false,
     "start_time": "2021-03-12T13:37:38.346707",
     "status": "completed"
    },
    "tags": []
   },
   "outputs": [
    {
     "name": "stdout",
     "output_type": "stream",
     "text": [
      "                                   states    Cases  Deaths   PCases  PDeaths  Cases (+)  Deaths (+)  Fatality Rate\n",
      "                              Maharashtra  2266374   52667  2266374    52667          0           0           2.32\n",
      "                                   Kerala  1087444    4370  1085664     4356       1780          14           0.40\n",
      "                                Karnataka   957584   12381   957584    12381          0           0           1.29\n",
      "                           Andhra Pradesh   891178    7179   891178     7179          0           0           0.81\n",
      "                               Tamil Nadu   857602   12535   857602    12535          0           0           1.46\n",
      "                                    Delhi   642439   10934   642439    10934          0           0           1.70\n",
      "                            Uttar Pradesh   604791    8741   604791     8741          0           0           1.45\n",
      "                              West Bengal   577511   10286   577511    10286          0           0           1.78\n",
      "                                   Odisha   337992    1970   337992     1970          0           0           0.58\n",
      "                                Rajasthan   322281    2789   322281     2789          0           0           0.87\n",
      "                             Chhattisgarh   315864    3875   315864     3875          0           0           1.23\n",
      "                                Telangana   300536    1649   300536     1649          0           0           0.55\n",
      "                                  Gujarat   275907    4418   275907     4418          0           0           1.60\n",
      "                                  Haryana   273888    3065   273888     3065          0           0           1.12\n",
      "                           Madhya Pradesh   266573    3881   266573     3881          0           0           1.46\n",
      "                                    Bihar   262909    1548   262909     1548          0           0           0.59\n",
      "                                    Assam   217745    1097   217745     1097          0           0           0.50\n",
      "                                   Punjab   193345    5996   193345     5996          0           0           3.10\n",
      "                        Jammu and Kashmir   127363    1969   127363     1969          0           0           1.55\n",
      "                                Jharkhand   120467    1093   120467     1093          0           0           0.91\n",
      "                              Uttarakhand    97634    1698    97634     1698          0           0           1.74\n",
      "                         Himachal Pradesh    59439     990    59439      990          0           0           1.67\n",
      "                                      Goa    55676     803    55676      803          0           0           1.44\n",
      "                               Puducherry    39954     670    39954      670          0           0           1.68\n",
      "                                  Tripura    33422     388    33422      388          0           0           1.16\n",
      "                                  Manipur    29309     373    29309      373          0           0           1.27\n",
      "                               Chandigarh    22697     357    22697      357          0           0           1.57\n",
      "                        Arunachal Pradesh    16840      56    16840       56          0           0           0.33\n",
      "                                Meghalaya    13985     148    13985      148          0           0           1.06\n",
      "                                 Nagaland    12217      91    12217       91          0           0           0.74\n",
      "                                   Ladakh     9840     130     9840      130          0           0           1.32\n",
      "                                   Sikkim     6179     135     6179      135          0           0           2.18\n",
      "              Andaman and Nicobar Islands     5028      62     5028       62          0           0           1.23\n",
      "                                  Mizoram     4434      10     4434       10          0           0           0.23\n",
      " Dadra and Nagar Haveli and Daman and Diu     3409       2     3409        2          0           0           0.06\n",
      "                              Lakshadweep      570       1      570        1          0           0           0.18\n"
     ]
    }
   ],
   "source": [
    "#hide_input\n",
    "print(df_table.to_string(index=False))"
   ]
  },
  {
   "cell_type": "code",
   "execution_count": null,
   "id": "quantitative-legend",
   "metadata": {
    "papermill": {
     "duration": 0.024486,
     "end_time": "2021-03-12T13:37:38.433784",
     "exception": false,
     "start_time": "2021-03-12T13:37:38.409298",
     "status": "completed"
    },
    "tags": []
   },
   "outputs": [],
   "source": []
  },
  {
   "cell_type": "code",
   "execution_count": null,
   "id": "distant-acoustic",
   "metadata": {
    "papermill": {
     "duration": 0.023823,
     "end_time": "2021-03-12T13:37:38.482646",
     "exception": false,
     "start_time": "2021-03-12T13:37:38.458823",
     "status": "completed"
    },
    "tags": []
   },
   "outputs": [],
   "source": []
  }
 ],
 "metadata": {
  "kernelspec": {
   "display_name": "Python 3",
   "language": "python",
   "name": "python3"
  },
  "language_info": {
   "codemirror_mode": {
    "name": "ipython",
    "version": 3
   },
   "file_extension": ".py",
   "mimetype": "text/x-python",
   "name": "python",
   "nbconvert_exporter": "python",
   "pygments_lexer": "ipython3",
   "version": "3.6.13"
  },
  "papermill": {
   "duration": 26.372417,
   "end_time": "2021-03-12T13:37:39.836080",
   "environment_variables": {},
   "exception": null,
   "input_path": "latest.ipynb",
   "output_path": "latest.ipynb",
   "parameters": {},
   "start_time": "2021-03-12T13:37:13.463663",
   "version": "2.1.2"
  }
 },
 "nbformat": 4,
 "nbformat_minor": 5
}