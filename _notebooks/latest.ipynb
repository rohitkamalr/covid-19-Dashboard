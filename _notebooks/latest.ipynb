{
 "cells": [
  {
   "cell_type": "markdown",
   "metadata": {
    "papermill": {
     "duration": 0.020818,
     "end_time": "2020-11-08T12:51:58.893046",
     "exception": false,
     "start_time": "2020-11-08T12:51:58.872228",
     "status": "completed"
    },
    "tags": []
   },
   "source": [
    "# Latest COVID-19 India Matplotlib Overview"
   ]
  },
  {
   "cell_type": "code",
   "execution_count": 1,
   "metadata": {
    "execution": {
     "iopub.execute_input": "2020-11-08T12:51:58.930681Z",
     "iopub.status.busy": "2020-11-08T12:51:58.930074Z",
     "iopub.status.idle": "2020-11-08T12:51:59.547827Z",
     "shell.execute_reply": "2020-11-08T12:51:59.547296Z"
    },
    "papermill": {
     "duration": 0.639145,
     "end_time": "2020-11-08T12:51:59.547982",
     "exception": false,
     "start_time": "2020-11-08T12:51:58.908837",
     "status": "completed"
    },
    "tags": []
   },
   "outputs": [],
   "source": [
    "#hide\n",
    "import pandas as pd\n",
    "import numpy as np\n",
    "import requests\n",
    "import json\n",
    "import matplotlib.pyplot as plt\n",
    "import matplotlib.dates as mdates\n",
    "import matplotlib as mpl\n",
    "from IPython.core.display import display,HTML\n",
    "%matplotlib inline\n",
    "from datetime import date"
   ]
  },
  {
   "cell_type": "code",
   "execution_count": 2,
   "metadata": {
    "execution": {
     "iopub.execute_input": "2020-11-08T12:51:59.589026Z",
     "iopub.status.busy": "2020-11-08T12:51:59.588376Z",
     "iopub.status.idle": "2020-11-08T12:51:59.811266Z",
     "shell.execute_reply": "2020-11-08T12:51:59.810711Z"
    },
    "papermill": {
     "duration": 0.248259,
     "end_time": "2020-11-08T12:51:59.811403",
     "exception": false,
     "start_time": "2020-11-08T12:51:59.563144",
     "status": "completed"
    },
    "tags": []
   },
   "outputs": [],
   "source": [
    "#hide\n",
    "df  = pd.read_csv('https://api.covid19india.org/csv/latest/states.csv')\n",
    "df = df[['Date','State','Confirmed','Deceased']]\n",
    "df = df.rename(columns={'Confirmed':'Cases', \"Deceased\":'Deaths'})\n",
    "df_cases = df[[\"Date\",'State','Cases']]\n",
    "df_deaths = df[['Date','State','Deaths']]\n",
    "df_cases1 = df_cases.groupby('Date')\n",
    "df_deaths1= df_deaths.groupby('Date')"
   ]
  },
  {
   "cell_type": "code",
   "execution_count": 3,
   "metadata": {
    "execution": {
     "iopub.execute_input": "2020-11-08T12:51:59.847795Z",
     "iopub.status.busy": "2020-11-08T12:51:59.847214Z",
     "iopub.status.idle": "2020-11-08T12:51:59.865409Z",
     "shell.execute_reply": "2020-11-08T12:51:59.865932Z"
    },
    "papermill": {
     "duration": 0.039471,
     "end_time": "2020-11-08T12:51:59.866104",
     "exception": false,
     "start_time": "2020-11-08T12:51:59.826633",
     "status": "completed"
    },
    "tags": []
   },
   "outputs": [],
   "source": [
    "#hide\n",
    "df_snap = pd.read_csv('data/SnapshotCases-28-July.csv')\n",
    "arr_states = df_snap['states'].unique()\n",
    "arr_dates = df['Date'].unique()\n",
    "df_snap = df_snap.set_index('states')"
   ]
  },
  {
   "cell_type": "code",
   "execution_count": 4,
   "metadata": {
    "execution": {
     "iopub.execute_input": "2020-11-08T12:51:59.904492Z",
     "iopub.status.busy": "2020-11-08T12:51:59.903878Z",
     "iopub.status.idle": "2020-11-08T12:51:59.908182Z",
     "shell.execute_reply": "2020-11-08T12:51:59.907691Z"
    },
    "papermill": {
     "duration": 0.026782,
     "end_time": "2020-11-08T12:51:59.908327",
     "exception": false,
     "start_time": "2020-11-08T12:51:59.881545",
     "status": "completed"
    },
    "tags": []
   },
   "outputs": [
    {
     "data": {
      "text/plain": [
       "array(['Andaman and Nicobar Islands', 'Andhra Pradesh',\n",
       "       'Arunachal Pradesh', 'Assam', 'Bihar', 'Chandigarh',\n",
       "       'Dadra and Nagar Haveli and Daman and Diu', 'Delhi', 'Goa',\n",
       "       'Gujarat', 'Haryana', 'Himachal Pradesh', 'Jammu and Kashmir',\n",
       "       'Jharkhand', 'Karnataka', 'Kerala', 'Lakshadweep',\n",
       "       'Madhya Pradesh', 'Maharashtra', 'Manipur', 'Meghalaya', 'Mizoram',\n",
       "       'Nagaland', 'Odisha', 'Puducherry', 'Punjab', 'Rajasthan',\n",
       "       'Sikkim', 'Tamil Nadu', 'Telangana', 'Tripura', 'Uttar Pradesh',\n",
       "       'West Bengal', 'Chhattisgarh', 'Ladakh', 'Uttarakhand'],\n",
       "      dtype=object)"
      ]
     },
     "execution_count": 4,
     "metadata": {},
     "output_type": "execute_result"
    }
   ],
   "source": [
    "#hide\n",
    "arr_states[-9] = 'Puducherry'\n",
    "arr_states[-10] = 'Odisha'\n",
    "arr_states[6] = 'Dadra and Nagar Haveli and Daman and Diu'\n",
    "arr_states = np.append(arr_states,np.array(['Chhattisgarh','Ladakh','Uttarakhand']))\n",
    "arr_states"
   ]
  },
  {
   "cell_type": "code",
   "execution_count": 5,
   "metadata": {
    "execution": {
     "iopub.execute_input": "2020-11-08T12:51:59.956587Z",
     "iopub.status.busy": "2020-11-08T12:51:59.955947Z",
     "iopub.status.idle": "2020-11-08T12:51:59.959052Z",
     "shell.execute_reply": "2020-11-08T12:51:59.958558Z"
    },
    "papermill": {
     "duration": 0.035459,
     "end_time": "2020-11-08T12:51:59.959180",
     "exception": false,
     "start_time": "2020-11-08T12:51:59.923721",
     "status": "completed"
    },
    "tags": []
   },
   "outputs": [],
   "source": [
    "#hide\n",
    "dates = []\n",
    "for i in arr_dates:\n",
    "    if i>='2020-07-01':\n",
    "        dates.append(i)\n",
    "dict = {'states':dates}\n",
    "for i in arr_states:\n",
    "    dict[i] = [0]*len(dates)\n",
    "dft_cases = pd.DataFrame(dict)\n",
    "dft_deaths = pd.DataFrame(dict)\n"
   ]
  },
  {
   "cell_type": "code",
   "execution_count": 6,
   "metadata": {
    "execution": {
     "iopub.execute_input": "2020-11-08T12:51:59.997719Z",
     "iopub.status.busy": "2020-11-08T12:51:59.997127Z",
     "iopub.status.idle": "2020-11-08T12:52:01.826948Z",
     "shell.execute_reply": "2020-11-08T12:52:01.826419Z"
    },
    "papermill": {
     "duration": 1.85214,
     "end_time": "2020-11-08T12:52:01.827092",
     "exception": false,
     "start_time": "2020-11-08T12:51:59.974952",
     "status": "completed"
    },
    "tags": []
   },
   "outputs": [],
   "source": [
    "#hide\n",
    "for i in range(len(dates)):\n",
    "    df1_deaths = df_deaths1.get_group(dates[i])\n",
    "    for j in range(len(df1_deaths.index)):\n",
    "        if df1_deaths.iloc[j,1] in arr_states:\n",
    "            dft_deaths.loc[i,df1_deaths.iloc[j,1]] = df1_deaths.iloc[j,2]\n",
    "dft_deaths = dft_deaths.set_index('states')"
   ]
  },
  {
   "cell_type": "code",
   "execution_count": 7,
   "metadata": {
    "execution": {
     "iopub.execute_input": "2020-11-08T12:52:01.870283Z",
     "iopub.status.busy": "2020-11-08T12:52:01.869685Z",
     "iopub.status.idle": "2020-11-08T12:52:03.695966Z",
     "shell.execute_reply": "2020-11-08T12:52:03.695001Z"
    },
    "papermill": {
     "duration": 1.852395,
     "end_time": "2020-11-08T12:52:03.696113",
     "exception": false,
     "start_time": "2020-11-08T12:52:01.843718",
     "status": "completed"
    },
    "tags": []
   },
   "outputs": [],
   "source": [
    "#hide\n",
    "for i in range(len(dates)):\n",
    "    df1_cases = df_cases1.get_group(dates[i])\n",
    "    for j in range(len(df1_cases.index)):\n",
    "        if df1_cases.iloc[j,1] in arr_states:\n",
    "            dft_cases.loc[i,df1_cases.iloc[j,1]] = df1_cases.iloc[j,2]\n",
    "dft_cases = dft_cases.set_index('states')"
   ]
  },
  {
   "cell_type": "code",
   "execution_count": 8,
   "metadata": {
    "execution": {
     "iopub.execute_input": "2020-11-08T12:52:03.820949Z",
     "iopub.status.busy": "2020-11-08T12:52:03.819919Z",
     "iopub.status.idle": "2020-11-08T12:52:03.823455Z",
     "shell.execute_reply": "2020-11-08T12:52:03.823900Z"
    },
    "papermill": {
     "duration": 0.054182,
     "end_time": "2020-11-08T12:52:03.824058",
     "exception": false,
     "start_time": "2020-11-08T12:52:03.769876",
     "status": "completed"
    },
    "tags": []
   },
   "outputs": [],
   "source": [
    "#hide\n",
    "dft_cases = dft_cases.T\n",
    "dft_deaths = dft_deaths.T\n",
    "dt_today = dates[-1]\n",
    "dt_yday = dates[-2]"
   ]
  },
  {
   "cell_type": "code",
   "execution_count": 9,
   "metadata": {
    "execution": {
     "iopub.execute_input": "2020-11-08T12:52:03.884918Z",
     "iopub.status.busy": "2020-11-08T12:52:03.882823Z",
     "iopub.status.idle": "2020-11-08T12:52:03.887358Z",
     "shell.execute_reply": "2020-11-08T12:52:03.886857Z"
    },
    "papermill": {
     "duration": 0.026638,
     "end_time": "2020-11-08T12:52:03.887488",
     "exception": false,
     "start_time": "2020-11-08T12:52:03.860850",
     "status": "completed"
    },
    "tags": []
   },
   "outputs": [],
   "source": [
    "#hide\n",
    "dft_cases = dft_cases.reset_index()\n",
    "dft_deaths = dft_deaths.reset_index()\n",
    "dft_cases = dft_cases.rename(columns = {'index':'state'})\n",
    "dft_deaths = dft_deaths.rename(columns = {'index':'state'})"
   ]
  },
  {
   "cell_type": "code",
   "execution_count": 10,
   "metadata": {
    "execution": {
     "iopub.execute_input": "2020-11-08T12:52:03.926823Z",
     "iopub.status.busy": "2020-11-08T12:52:03.926240Z",
     "iopub.status.idle": "2020-11-08T12:52:03.934651Z",
     "shell.execute_reply": "2020-11-08T12:52:03.934140Z"
    },
    "papermill": {
     "duration": 0.031599,
     "end_time": "2020-11-08T12:52:03.934783",
     "exception": false,
     "start_time": "2020-11-08T12:52:03.903184",
     "status": "completed"
    },
    "tags": []
   },
   "outputs": [],
   "source": [
    "#hide\n",
    "dfc_cases = dft_cases.groupby('state')[dt_today].sum()\n",
    "dfc_deaths = dft_deaths.groupby('state')[dt_today].sum()\n",
    "dfp_cases = dft_cases.groupby('state')[dt_yday].sum()\n",
    "dfp_deaths = dft_deaths.groupby('state')[dt_yday].sum()"
   ]
  },
  {
   "cell_type": "code",
   "execution_count": 11,
   "metadata": {
    "execution": {
     "iopub.execute_input": "2020-11-08T12:52:03.974278Z",
     "iopub.status.busy": "2020-11-08T12:52:03.973674Z",
     "iopub.status.idle": "2020-11-08T12:52:03.987121Z",
     "shell.execute_reply": "2020-11-08T12:52:03.986626Z"
    },
    "papermill": {
     "duration": 0.036818,
     "end_time": "2020-11-08T12:52:03.987252",
     "exception": false,
     "start_time": "2020-11-08T12:52:03.950434",
     "status": "completed"
    },
    "tags": []
   },
   "outputs": [
    {
     "data": {
      "text/html": [
       "<div>\n",
       "<style scoped>\n",
       "    .dataframe tbody tr th:only-of-type {\n",
       "        vertical-align: middle;\n",
       "    }\n",
       "\n",
       "    .dataframe tbody tr th {\n",
       "        vertical-align: top;\n",
       "    }\n",
       "\n",
       "    .dataframe thead th {\n",
       "        text-align: right;\n",
       "    }\n",
       "</style>\n",
       "<table border=\"1\" class=\"dataframe\">\n",
       "  <thead>\n",
       "    <tr style=\"text-align: right;\">\n",
       "      <th></th>\n",
       "      <th>states</th>\n",
       "      <th>Cases</th>\n",
       "      <th>Deaths</th>\n",
       "      <th>PCases</th>\n",
       "      <th>PDeaths</th>\n",
       "    </tr>\n",
       "  </thead>\n",
       "  <tbody>\n",
       "    <tr>\n",
       "      <th>0</th>\n",
       "      <td>Maharashtra</td>\n",
       "      <td>1714273</td>\n",
       "      <td>45115</td>\n",
       "      <td>1714273</td>\n",
       "      <td>45115</td>\n",
       "    </tr>\n",
       "    <tr>\n",
       "      <th>1</th>\n",
       "      <td>Karnataka</td>\n",
       "      <td>844147</td>\n",
       "      <td>11369</td>\n",
       "      <td>844147</td>\n",
       "      <td>11369</td>\n",
       "    </tr>\n",
       "    <tr>\n",
       "      <th>2</th>\n",
       "      <td>Andhra Pradesh</td>\n",
       "      <td>840730</td>\n",
       "      <td>6779</td>\n",
       "      <td>840730</td>\n",
       "      <td>6779</td>\n",
       "    </tr>\n",
       "    <tr>\n",
       "      <th>3</th>\n",
       "      <td>Tamil Nadu</td>\n",
       "      <td>741488</td>\n",
       "      <td>11324</td>\n",
       "      <td>741488</td>\n",
       "      <td>11324</td>\n",
       "    </tr>\n",
       "    <tr>\n",
       "      <th>4</th>\n",
       "      <td>Uttar Pradesh</td>\n",
       "      <td>495421</td>\n",
       "      <td>7180</td>\n",
       "      <td>495421</td>\n",
       "      <td>7180</td>\n",
       "    </tr>\n",
       "  </tbody>\n",
       "</table>\n",
       "</div>"
      ],
      "text/plain": [
       "           states    Cases  Deaths   PCases  PDeaths\n",
       "0     Maharashtra  1714273   45115  1714273    45115\n",
       "1       Karnataka   844147   11369   844147    11369\n",
       "2  Andhra Pradesh   840730    6779   840730     6779\n",
       "3      Tamil Nadu   741488   11324   741488    11324\n",
       "4   Uttar Pradesh   495421    7180   495421     7180"
      ]
     },
     "execution_count": 11,
     "metadata": {},
     "output_type": "execute_result"
    }
   ],
   "source": [
    "#hide\n",
    "df_table = pd.DataFrame({'states': dfc_cases.index, 'Cases': dfc_cases.values, 'Deaths': dfc_deaths.values, 'PCases': dfp_cases.values, 'PDeaths': dfp_deaths.values}).set_index('states')\n",
    "df_table = df_table.sort_values(by = ['Cases','Deaths'], ascending = [False, False])\n",
    "df_table = df_table.reset_index()\n",
    "df_table.head()"
   ]
  },
  {
   "cell_type": "code",
   "execution_count": 12,
   "metadata": {
    "execution": {
     "iopub.execute_input": "2020-11-08T12:52:04.025063Z",
     "iopub.status.busy": "2020-11-08T12:52:04.024465Z",
     "iopub.status.idle": "2020-11-08T12:52:04.033997Z",
     "shell.execute_reply": "2020-11-08T12:52:04.034508Z"
    },
    "papermill": {
     "duration": 0.03112,
     "end_time": "2020-11-08T12:52:04.034663",
     "exception": false,
     "start_time": "2020-11-08T12:52:04.003543",
     "status": "completed"
    },
    "tags": []
   },
   "outputs": [],
   "source": [
    "#hide\n",
    "for c in 'Cases, Deaths'.split(', '):\n",
    "    df_table[f'{c} (+)'] = (df_table[c] - df_table[f'P{c}']).clip(0)\n",
    "df_table['Fatality Rate'] = (100* df_table['Deaths']/ df_table['Cases']).round(2)"
   ]
  },
  {
   "cell_type": "code",
   "execution_count": 13,
   "metadata": {
    "execution": {
     "iopub.execute_input": "2020-11-08T12:52:04.079378Z",
     "iopub.status.busy": "2020-11-08T12:52:04.078728Z",
     "iopub.status.idle": "2020-11-08T12:52:04.081528Z",
     "shell.execute_reply": "2020-11-08T12:52:04.081998Z"
    },
    "papermill": {
     "duration": 0.030902,
     "end_time": "2020-11-08T12:52:04.082149",
     "exception": false,
     "start_time": "2020-11-08T12:52:04.051247",
     "status": "completed"
    },
    "tags": []
   },
   "outputs": [
    {
     "data": {
      "text/html": [
       "<div>\n",
       "<style scoped>\n",
       "    .dataframe tbody tr th:only-of-type {\n",
       "        vertical-align: middle;\n",
       "    }\n",
       "\n",
       "    .dataframe tbody tr th {\n",
       "        vertical-align: top;\n",
       "    }\n",
       "\n",
       "    .dataframe thead th {\n",
       "        text-align: right;\n",
       "    }\n",
       "</style>\n",
       "<table border=\"1\" class=\"dataframe\">\n",
       "  <thead>\n",
       "    <tr style=\"text-align: right;\">\n",
       "      <th></th>\n",
       "      <th>states</th>\n",
       "      <th>Cases</th>\n",
       "      <th>Deaths</th>\n",
       "      <th>PCases</th>\n",
       "      <th>PDeaths</th>\n",
       "      <th>Cases (+)</th>\n",
       "      <th>Deaths (+)</th>\n",
       "      <th>Fatality Rate</th>\n",
       "    </tr>\n",
       "  </thead>\n",
       "  <tbody>\n",
       "    <tr>\n",
       "      <th>0</th>\n",
       "      <td>Maharashtra</td>\n",
       "      <td>1714273</td>\n",
       "      <td>45115</td>\n",
       "      <td>1714273</td>\n",
       "      <td>45115</td>\n",
       "      <td>0</td>\n",
       "      <td>0</td>\n",
       "      <td>2.63</td>\n",
       "    </tr>\n",
       "    <tr>\n",
       "      <th>1</th>\n",
       "      <td>Karnataka</td>\n",
       "      <td>844147</td>\n",
       "      <td>11369</td>\n",
       "      <td>844147</td>\n",
       "      <td>11369</td>\n",
       "      <td>0</td>\n",
       "      <td>0</td>\n",
       "      <td>1.35</td>\n",
       "    </tr>\n",
       "    <tr>\n",
       "      <th>2</th>\n",
       "      <td>Andhra Pradesh</td>\n",
       "      <td>840730</td>\n",
       "      <td>6779</td>\n",
       "      <td>840730</td>\n",
       "      <td>6779</td>\n",
       "      <td>0</td>\n",
       "      <td>0</td>\n",
       "      <td>0.81</td>\n",
       "    </tr>\n",
       "    <tr>\n",
       "      <th>3</th>\n",
       "      <td>Tamil Nadu</td>\n",
       "      <td>741488</td>\n",
       "      <td>11324</td>\n",
       "      <td>741488</td>\n",
       "      <td>11324</td>\n",
       "      <td>0</td>\n",
       "      <td>0</td>\n",
       "      <td>1.53</td>\n",
       "    </tr>\n",
       "    <tr>\n",
       "      <th>4</th>\n",
       "      <td>Uttar Pradesh</td>\n",
       "      <td>495421</td>\n",
       "      <td>7180</td>\n",
       "      <td>495421</td>\n",
       "      <td>7180</td>\n",
       "      <td>0</td>\n",
       "      <td>0</td>\n",
       "      <td>1.45</td>\n",
       "    </tr>\n",
       "  </tbody>\n",
       "</table>\n",
       "</div>"
      ],
      "text/plain": [
       "           states    Cases  Deaths   PCases  PDeaths  Cases (+)  Deaths (+)  \\\n",
       "0     Maharashtra  1714273   45115  1714273    45115          0           0   \n",
       "1       Karnataka   844147   11369   844147    11369          0           0   \n",
       "2  Andhra Pradesh   840730    6779   840730     6779          0           0   \n",
       "3      Tamil Nadu   741488   11324   741488    11324          0           0   \n",
       "4   Uttar Pradesh   495421    7180   495421     7180          0           0   \n",
       "\n",
       "   Fatality Rate  \n",
       "0           2.63  \n",
       "1           1.35  \n",
       "2           0.81  \n",
       "3           1.53  \n",
       "4           1.45  "
      ]
     },
     "execution_count": 13,
     "metadata": {},
     "output_type": "execute_result"
    }
   ],
   "source": [
    "#hide\n",
    "df_table.head()"
   ]
  },
  {
   "cell_type": "code",
   "execution_count": 14,
   "metadata": {
    "execution": {
     "iopub.execute_input": "2020-11-08T12:52:04.122543Z",
     "iopub.status.busy": "2020-11-08T12:52:04.121948Z",
     "iopub.status.idle": "2020-11-08T12:52:04.138258Z",
     "shell.execute_reply": "2020-11-08T12:52:04.137776Z"
    },
    "papermill": {
     "duration": 0.039955,
     "end_time": "2020-11-08T12:52:04.138394",
     "exception": false,
     "start_time": "2020-11-08T12:52:04.098439",
     "status": "completed"
    },
    "tags": []
   },
   "outputs": [
    {
     "data": {
      "text/plain": [
       "{'updated': '2020-11-08',\n",
       " 'since': '2020-11-07',\n",
       " 'Cases': 8510219,\n",
       " 'PCases': 8507204,\n",
       " 'Deaths': 126184,\n",
       " 'PDeaths': 126163,\n",
       " 'Cases (+)': 3015,\n",
       " 'Deaths (+)': 21}"
      ]
     },
     "execution_count": 14,
     "metadata": {},
     "output_type": "execute_result"
    }
   ],
   "source": [
    "#hide\n",
    "summary = {'updated':dates[-1], 'since':dates[-2]}\n",
    "list_names = ['Cases', 'PCases', 'Deaths', 'PDeaths', 'Cases (+)', 'Deaths (+)']\n",
    "for name in list_names:\n",
    "    summary[name] = df_table.sum()[name]\n",
    "summary"
   ]
  },
  {
   "cell_type": "code",
   "execution_count": 15,
   "metadata": {
    "execution": {
     "iopub.execute_input": "2020-11-08T12:52:04.179027Z",
     "iopub.status.busy": "2020-11-08T12:52:04.178196Z",
     "iopub.status.idle": "2020-11-08T12:52:04.179875Z",
     "shell.execute_reply": "2020-11-08T12:52:04.180537Z"
    },
    "papermill": {
     "duration": 0.025049,
     "end_time": "2020-11-08T12:52:04.180731",
     "exception": false,
     "start_time": "2020-11-08T12:52:04.155682",
     "status": "completed"
    },
    "tags": []
   },
   "outputs": [],
   "source": [
    "#hide\n",
    "overview = '''\n",
    "<!-- #######  HTML!! #########-->\n",
    "<h1 style=\"color: #5e9ca0; text-align: center;\">India</h1>\n",
    "<p style=\"text-align: center;\">Last update: <strong>{update}</strong></p>\n",
    "<p style=\"text-align: center;\">Confirmed cases:</p>\n",
    "<p style=\"text-align: center;font-size:24px;\">{cases} (<span style=\"color: #ff0000;\">+{new}</span>)</p>\n",
    "<p style=\"text-align: center;\">Confirmed deaths:</p>\n",
    "<p style=\"text-align: center;font-size:24px;\">{deaths} (<span style=\"color: #ff0000;\">+{dnew}</span>)</p>\n",
    "'''"
   ]
  },
  {
   "cell_type": "code",
   "execution_count": 16,
   "metadata": {
    "execution": {
     "iopub.execute_input": "2020-11-08T12:52:04.223334Z",
     "iopub.status.busy": "2020-11-08T12:52:04.222711Z",
     "iopub.status.idle": "2020-11-08T12:52:04.225925Z",
     "shell.execute_reply": "2020-11-08T12:52:04.225425Z"
    },
    "papermill": {
     "duration": 0.028622,
     "end_time": "2020-11-08T12:52:04.226057",
     "exception": false,
     "start_time": "2020-11-08T12:52:04.197435",
     "status": "completed"
    },
    "tags": []
   },
   "outputs": [
    {
     "data": {
      "text/html": [
       "\n",
       "<!-- #######  HTML!! #########-->\n",
       "<h1 style=\"color: #5e9ca0; text-align: center;\">India</h1>\n",
       "<p style=\"text-align: center;\">Last update: <strong>2020-11-08</strong></p>\n",
       "<p style=\"text-align: center;\">Confirmed cases:</p>\n",
       "<p style=\"text-align: center;font-size:24px;\">8510219 (<span style=\"color: #ff0000;\">+3015</span>)</p>\n",
       "<p style=\"text-align: center;\">Confirmed deaths:</p>\n",
       "<p style=\"text-align: center;font-size:24px;\">126184 (<span style=\"color: #ff0000;\">+21</span>)</p>\n"
      ],
      "text/plain": [
       "<IPython.core.display.HTML object>"
      ]
     },
     "metadata": {},
     "output_type": "display_data"
    }
   ],
   "source": [
    "#hide_input\n",
    "update = summary['updated']\n",
    "cases = summary['Cases']\n",
    "new = summary['Cases (+)']\n",
    "deaths = summary['Deaths']\n",
    "dnew = summary['Deaths (+)']\n",
    "\n",
    "html = HTML(overview.format(update=update, cases=cases,new=new,deaths=deaths,dnew=dnew))\n",
    "\n",
    "display(html)"
   ]
  },
  {
   "cell_type": "code",
   "execution_count": 17,
   "metadata": {
    "execution": {
     "iopub.execute_input": "2020-11-08T12:52:04.269247Z",
     "iopub.status.busy": "2020-11-08T12:52:04.268657Z",
     "iopub.status.idle": "2020-11-08T12:52:04.273948Z",
     "shell.execute_reply": "2020-11-08T12:52:04.273476Z"
    },
    "papermill": {
     "duration": 0.030919,
     "end_time": "2020-11-08T12:52:04.274083",
     "exception": false,
     "start_time": "2020-11-08T12:52:04.243164",
     "status": "completed"
    },
    "tags": []
   },
   "outputs": [],
   "source": [
    "#hide\n",
    "dt_cols = list(dft_cases.columns[1:])\n",
    "dft_ct_new_cases = dft_cases.groupby('state')[dt_cols].sum().diff(axis=1).fillna(0).astype(int)\n",
    "dft_ct_new_cases.sort_values(by = dates[-1], ascending = False,inplace = True)"
   ]
  },
  {
   "cell_type": "code",
   "execution_count": 18,
   "metadata": {
    "execution": {
     "iopub.execute_input": "2020-11-08T12:52:04.327186Z",
     "iopub.status.busy": "2020-11-08T12:52:04.326588Z",
     "iopub.status.idle": "2020-11-08T12:52:04.329293Z",
     "shell.execute_reply": "2020-11-08T12:52:04.329760Z"
    },
    "papermill": {
     "duration": 0.038616,
     "end_time": "2020-11-08T12:52:04.329908",
     "exception": false,
     "start_time": "2020-11-08T12:52:04.291292",
     "status": "completed"
    },
    "tags": []
   },
   "outputs": [
    {
     "data": {
      "text/html": [
       "<div>\n",
       "<style scoped>\n",
       "    .dataframe tbody tr th:only-of-type {\n",
       "        vertical-align: middle;\n",
       "    }\n",
       "\n",
       "    .dataframe tbody tr th {\n",
       "        vertical-align: top;\n",
       "    }\n",
       "\n",
       "    .dataframe thead th {\n",
       "        text-align: right;\n",
       "    }\n",
       "</style>\n",
       "<table border=\"1\" class=\"dataframe\">\n",
       "  <thead>\n",
       "    <tr style=\"text-align: right;\">\n",
       "      <th>states</th>\n",
       "      <th>2020-07-01</th>\n",
       "      <th>2020-07-02</th>\n",
       "      <th>2020-07-03</th>\n",
       "      <th>2020-07-04</th>\n",
       "      <th>2020-07-05</th>\n",
       "      <th>2020-07-06</th>\n",
       "      <th>2020-07-07</th>\n",
       "      <th>2020-07-08</th>\n",
       "      <th>2020-07-09</th>\n",
       "      <th>2020-07-10</th>\n",
       "      <th>...</th>\n",
       "      <th>2020-10-30</th>\n",
       "      <th>2020-10-31</th>\n",
       "      <th>2020-11-01</th>\n",
       "      <th>2020-11-02</th>\n",
       "      <th>2020-11-03</th>\n",
       "      <th>2020-11-04</th>\n",
       "      <th>2020-11-05</th>\n",
       "      <th>2020-11-06</th>\n",
       "      <th>2020-11-07</th>\n",
       "      <th>2020-11-08</th>\n",
       "    </tr>\n",
       "    <tr>\n",
       "      <th>state</th>\n",
       "      <th></th>\n",
       "      <th></th>\n",
       "      <th></th>\n",
       "      <th></th>\n",
       "      <th></th>\n",
       "      <th></th>\n",
       "      <th></th>\n",
       "      <th></th>\n",
       "      <th></th>\n",
       "      <th></th>\n",
       "      <th></th>\n",
       "      <th></th>\n",
       "      <th></th>\n",
       "      <th></th>\n",
       "      <th></th>\n",
       "      <th></th>\n",
       "      <th></th>\n",
       "      <th></th>\n",
       "      <th></th>\n",
       "      <th></th>\n",
       "      <th></th>\n",
       "    </tr>\n",
       "  </thead>\n",
       "  <tbody>\n",
       "    <tr>\n",
       "      <th>Telangana</th>\n",
       "      <td>0</td>\n",
       "      <td>1213</td>\n",
       "      <td>1892</td>\n",
       "      <td>1850</td>\n",
       "      <td>1590</td>\n",
       "      <td>1831</td>\n",
       "      <td>1879</td>\n",
       "      <td>1924</td>\n",
       "      <td>1410</td>\n",
       "      <td>1278</td>\n",
       "      <td>...</td>\n",
       "      <td>1531</td>\n",
       "      <td>1445</td>\n",
       "      <td>1416</td>\n",
       "      <td>922</td>\n",
       "      <td>1536</td>\n",
       "      <td>1637</td>\n",
       "      <td>1539</td>\n",
       "      <td>1602</td>\n",
       "      <td>1607</td>\n",
       "      <td>1440</td>\n",
       "    </tr>\n",
       "    <tr>\n",
       "      <th>Odisha</th>\n",
       "      <td>0</td>\n",
       "      <td>229</td>\n",
       "      <td>561</td>\n",
       "      <td>495</td>\n",
       "      <td>469</td>\n",
       "      <td>456</td>\n",
       "      <td>571</td>\n",
       "      <td>527</td>\n",
       "      <td>577</td>\n",
       "      <td>755</td>\n",
       "      <td>...</td>\n",
       "      <td>1547</td>\n",
       "      <td>1470</td>\n",
       "      <td>1709</td>\n",
       "      <td>1389</td>\n",
       "      <td>1201</td>\n",
       "      <td>1474</td>\n",
       "      <td>1385</td>\n",
       "      <td>1494</td>\n",
       "      <td>1372</td>\n",
       "      <td>1434</td>\n",
       "    </tr>\n",
       "    <tr>\n",
       "      <th>Tripura</th>\n",
       "      <td>0</td>\n",
       "      <td>39</td>\n",
       "      <td>93</td>\n",
       "      <td>25</td>\n",
       "      <td>23</td>\n",
       "      <td>111</td>\n",
       "      <td>24</td>\n",
       "      <td>57</td>\n",
       "      <td>16</td>\n",
       "      <td>142</td>\n",
       "      <td>...</td>\n",
       "      <td>97</td>\n",
       "      <td>54</td>\n",
       "      <td>77</td>\n",
       "      <td>58</td>\n",
       "      <td>137</td>\n",
       "      <td>116</td>\n",
       "      <td>132</td>\n",
       "      <td>110</td>\n",
       "      <td>87</td>\n",
       "      <td>83</td>\n",
       "    </tr>\n",
       "    <tr>\n",
       "      <th>Mizoram</th>\n",
       "      <td>0</td>\n",
       "      <td>2</td>\n",
       "      <td>0</td>\n",
       "      <td>2</td>\n",
       "      <td>22</td>\n",
       "      <td>11</td>\n",
       "      <td>1</td>\n",
       "      <td>5</td>\n",
       "      <td>0</td>\n",
       "      <td>23</td>\n",
       "      <td>...</td>\n",
       "      <td>38</td>\n",
       "      <td>28</td>\n",
       "      <td>34</td>\n",
       "      <td>1</td>\n",
       "      <td>35</td>\n",
       "      <td>101</td>\n",
       "      <td>65</td>\n",
       "      <td>32</td>\n",
       "      <td>42</td>\n",
       "      <td>58</td>\n",
       "    </tr>\n",
       "    <tr>\n",
       "      <th>Andaman and Nicobar Islands</th>\n",
       "      <td>0</td>\n",
       "      <td>9</td>\n",
       "      <td>7</td>\n",
       "      <td>3</td>\n",
       "      <td>6</td>\n",
       "      <td>16</td>\n",
       "      <td>6</td>\n",
       "      <td>2</td>\n",
       "      <td>7</td>\n",
       "      <td>0</td>\n",
       "      <td>...</td>\n",
       "      <td>12</td>\n",
       "      <td>15</td>\n",
       "      <td>8</td>\n",
       "      <td>12</td>\n",
       "      <td>20</td>\n",
       "      <td>17</td>\n",
       "      <td>14</td>\n",
       "      <td>17</td>\n",
       "      <td>21</td>\n",
       "      <td>0</td>\n",
       "    </tr>\n",
       "  </tbody>\n",
       "</table>\n",
       "<p>5 rows × 131 columns</p>\n",
       "</div>"
      ],
      "text/plain": [
       "states                       2020-07-01  2020-07-02  2020-07-03  2020-07-04  \\\n",
       "state                                                                         \n",
       "Telangana                             0        1213        1892        1850   \n",
       "Odisha                                0         229         561         495   \n",
       "Tripura                               0          39          93          25   \n",
       "Mizoram                               0           2           0           2   \n",
       "Andaman and Nicobar Islands           0           9           7           3   \n",
       "\n",
       "states                       2020-07-05  2020-07-06  2020-07-07  2020-07-08  \\\n",
       "state                                                                         \n",
       "Telangana                          1590        1831        1879        1924   \n",
       "Odisha                              469         456         571         527   \n",
       "Tripura                              23         111          24          57   \n",
       "Mizoram                              22          11           1           5   \n",
       "Andaman and Nicobar Islands           6          16           6           2   \n",
       "\n",
       "states                       2020-07-09  2020-07-10  ...  2020-10-30  \\\n",
       "state                                                ...               \n",
       "Telangana                          1410        1278  ...        1531   \n",
       "Odisha                              577         755  ...        1547   \n",
       "Tripura                              16         142  ...          97   \n",
       "Mizoram                               0          23  ...          38   \n",
       "Andaman and Nicobar Islands           7           0  ...          12   \n",
       "\n",
       "states                       2020-10-31  2020-11-01  2020-11-02  2020-11-03  \\\n",
       "state                                                                         \n",
       "Telangana                          1445        1416         922        1536   \n",
       "Odisha                             1470        1709        1389        1201   \n",
       "Tripura                              54          77          58         137   \n",
       "Mizoram                              28          34           1          35   \n",
       "Andaman and Nicobar Islands          15           8          12          20   \n",
       "\n",
       "states                       2020-11-04  2020-11-05  2020-11-06  2020-11-07  \\\n",
       "state                                                                         \n",
       "Telangana                          1637        1539        1602        1607   \n",
       "Odisha                             1474        1385        1494        1372   \n",
       "Tripura                             116         132         110          87   \n",
       "Mizoram                             101          65          32          42   \n",
       "Andaman and Nicobar Islands          17          14          17          21   \n",
       "\n",
       "states                       2020-11-08  \n",
       "state                                    \n",
       "Telangana                          1440  \n",
       "Odisha                             1434  \n",
       "Tripura                              83  \n",
       "Mizoram                              58  \n",
       "Andaman and Nicobar Islands           0  \n",
       "\n",
       "[5 rows x 131 columns]"
      ]
     },
     "execution_count": 18,
     "metadata": {},
     "output_type": "execute_result"
    }
   ],
   "source": [
    "#hide\n",
    "dft_ct_new_cases.head()"
   ]
  },
  {
   "cell_type": "code",
   "execution_count": 19,
   "metadata": {
    "execution": {
     "iopub.execute_input": "2020-11-08T12:52:04.415547Z",
     "iopub.status.busy": "2020-11-08T12:52:04.414862Z",
     "iopub.status.idle": "2020-11-08T12:52:09.281304Z",
     "shell.execute_reply": "2020-11-08T12:52:09.281789Z"
    },
    "papermill": {
     "duration": 4.934158,
     "end_time": "2020-11-08T12:52:09.281949",
     "exception": false,
     "start_time": "2020-11-08T12:52:04.347791",
     "status": "completed"
    },
    "tags": []
   },
   "outputs": [
    {
     "data": {
      "image/png": "[encoded data removed]",
      "text/plain": [
       "<Figure size 1296x2016 with 11 Axes>"
      ]
     },
     "metadata": {
      "needs_background": "light"
     },
     "output_type": "display_data"
    }
   ],
   "source": [
    "#hide_input\n",
    "df = dft_ct_new_cases.copy()\n",
    "df.loc['Total'] = df.sum()\n",
    "n = 5\n",
    "ax = []\n",
    "fig = plt.figure(figsize = (18,28))\n",
    "gs = fig.add_gridspec(n+2, 5)\n",
    "# gs = fig.add_gridspec(2, 3)\n",
    "ax1 = fig.add_subplot(gs[0, :])\n",
    "ef = df.loc['Total'].rename_axis('date').reset_index()\n",
    "ef['date'] = ef['date'].astype('datetime64[ns]')\n",
    "ax1.bar(ef.date,ef.Total,alpha=0.3,color='#007acc')\n",
    "ax1.plot(ef.date,ef.Total , marker=\"o\", color='#007acc')\n",
    "ax1.xaxis.set_major_locator(mdates.WeekdayLocator())\n",
    "ax1.xaxis.set_major_formatter(mdates.DateFormatter('%b %d'))\n",
    "ax1.text(0.02, 0.5,'India daily case count', transform = ax1.transAxes, fontsize=25);\n",
    "ax1.spines['right'].set_visible(False)\n",
    "ax1.spines['top'].set_visible(False)\n",
    "\n",
    "ax2 = fig.add_subplot(gs[1,0])\n",
    "ef = df.loc['Maharashtra'].rename_axis('date').reset_index()\n",
    "ef['date'] = ef['date'].astype('datetime64[ns]')\n",
    "\n",
    "ax2.bar(ef.date, ef.Maharashtra,color = '#007acc',alpha=0.5)\n",
    "ax2.xaxis.set_major_locator(mdates.WeekdayLocator())\n",
    "ax2.xaxis.set_major_formatter(mdates.DateFormatter('%b %d'))\n",
    "ax2.set_xticks(ax2.get_xticks()[::3])\n",
    "maxyval = ef.Maharashtra.max()\n",
    "ax2.set_ylim([0,maxyval])\n",
    "ax2.text(0.05, 0.9,'Maharashtra', transform = ax2.transAxes, fontsize=20);\n",
    "ax2.spines['right'].set_visible(False)\n",
    "ax2.spines['top'].set_visible(False)\n",
    "\n",
    "\n",
    "ax3 = fig.add_subplot(gs[1,1])\n",
    "ef = df.loc['Tamil Nadu'].rename_axis('date').reset_index()\n",
    "ef['date'] = ef['date'].astype('datetime64[ns]')\n",
    "ax3.bar(ef.date, ef['Tamil Nadu'],color = '#007acc',alpha=0.5,)\n",
    "ax3.xaxis.set_major_locator(mdates.WeekdayLocator())\n",
    "ax3.xaxis.set_major_formatter(mdates.DateFormatter('%b %d'))\n",
    "ax3.set_xticks(ax3.get_xticks()[::3])\n",
    "ax3.text(0.05, 0.9,'Tamil Nadu', transform = ax3.transAxes, fontsize=20);\n",
    "ax3.spines['right'].set_visible(False)\n",
    "ax3.spines['top'].set_visible(False)\n",
    "\n",
    "ax5 = fig.add_subplot(gs[1,3])\n",
    "ef = df.loc['Telangana'].rename_axis('date').reset_index()\n",
    "ef['date'] = ef['date'].astype('datetime64[ns]')\n",
    "ax5.bar(ef.date, ef['Telangana'],color = '#007acc',alpha=0.5,)\n",
    "ax5.xaxis.set_major_locator(mdates.WeekdayLocator())\n",
    "ax5.xaxis.set_major_formatter(mdates.DateFormatter('%b %d'))\n",
    "ax5.set_xticks(ax5.get_xticks()[::3])\n",
    "ax5.text(0.05, 0.9,'Telangana', transform = ax5.transAxes, fontsize=20);\n",
    "ax5.spines['right'].set_visible(False)\n",
    "ax5.spines['top'].set_visible(False)\n",
    "\n",
    "ax6 = fig.add_subplot(gs[1,4])\n",
    "ef = df.loc['Andhra Pradesh'].rename_axis('date').reset_index()\n",
    "ef['date'] = ef['date'].astype('datetime64[ns]')\n",
    "ax6.bar(ef.date, ef['Andhra Pradesh'],color = '#007acc',alpha=0.5,)\n",
    "ax6.xaxis.set_major_locator(mdates.WeekdayLocator())\n",
    "ax6.xaxis.set_major_formatter(mdates.DateFormatter('%b %d'))\n",
    "ax6.set_xticks(ax6.get_xticks()[::3])\n",
    "ax6.text(0.05, 1,'Andhra Pradesh', transform = ax6.transAxes, fontsize=20);\n",
    "ax6.spines['right'].set_visible(False)\n",
    "ax6.spines['top'].set_visible(False)\n",
    "\n",
    "ax4 = fig.add_subplot(gs[1,2])\n",
    "ef = df.loc['Delhi'].rename_axis('date').reset_index()\n",
    "ef['date'] = ef['date'].astype('datetime64[ns]')\n",
    "ax4.bar(ef.date, ef.Delhi,color = '#007acc',alpha=0.5)\n",
    "ax4.set_xticks([])\n",
    "ax4.xaxis.set_major_locator(mdates.WeekdayLocator())\n",
    "ax4.xaxis.set_major_formatter(mdates.DateFormatter('%b %d'))\n",
    "ax4.set_xticks(ax4.get_xticks()[::3])\n",
    "ax4.spines['right'].set_visible(False)\n",
    "ax4.spines['top'].set_visible(False)\n",
    "\n",
    "ax4.text(0.05, 1,'Delhi', transform = ax4.transAxes, fontsize=20)\n",
    "\n",
    "for i in range(n):\n",
    "    \n",
    "    ax.append(fig.add_subplot(gs[i+2,:]))\n",
    "    ef = df.iloc[i+3].rename_axis('date').reset_index()\n",
    "    ef['date'] = ef['date'].astype('datetime64[ns]')\n",
    "    ax[i].bar(ef.date,ef.iloc[:,-1],color = '#007acc',alpha=0.3)\n",
    "    ax[i].plot(ef.date,ef.iloc[:,-1],marker='o',color='#007acc')\n",
    "    ax[i].text(0.02,0.5,f'{ef.columns.values[-1]}',transform = ax[i].transAxes, fontsize = 20);\n",
    "    ax[i].xaxis.set_major_locator(mdates.WeekdayLocator())\n",
    "    ax[i].xaxis.set_major_formatter(mdates.DateFormatter('%b %d'))\n",
    "    ax[i].set_ylim([0,7000])\n",
    "    ax[i].spines['right'].set_visible(False)\n",
    "    ax[i].spines['top'].set_visible(False)\n",
    "plt.tight_layout()\n"
   ]
  },
  {
   "cell_type": "code",
   "execution_count": 20,
   "metadata": {
    "execution": {
     "iopub.execute_input": "2020-11-08T12:52:09.396968Z",
     "iopub.status.busy": "2020-11-08T12:52:09.396340Z",
     "iopub.status.idle": "2020-11-08T12:52:09.398519Z",
     "shell.execute_reply": "2020-11-08T12:52:09.399009Z"
    },
    "papermill": {
     "duration": 0.038114,
     "end_time": "2020-11-08T12:52:09.399158",
     "exception": false,
     "start_time": "2020-11-08T12:52:09.361044",
     "status": "completed"
    },
    "tags": []
   },
   "outputs": [
    {
     "name": "stdout",
     "output_type": "stream",
     "text": [
      "                                   states    Cases  Deaths   PCases  PDeaths  Cases (+)  Deaths (+)  Fatality Rate\n",
      "                              Maharashtra  1714273   45115  1714273    45115          0           0           2.63\n",
      "                                Karnataka   844147   11369   844147    11369          0           0           1.35\n",
      "                           Andhra Pradesh   840730    6779   840730     6779          0           0           0.81\n",
      "                               Tamil Nadu   741488   11324   741488    11324          0           0           1.53\n",
      "                            Uttar Pradesh   495421    7180   495421     7180          0           0           1.45\n",
      "                                   Kerala   480670    1669   480670     1669          0           0           0.35\n",
      "                                    Delhi   430784    6912   430784     6912          0           0           1.60\n",
      "                              West Bengal   401394    7235   401394     7235          0           0           1.80\n",
      "                                   Odisha   301574    1478   300140     1463       1434          15           0.49\n",
      "                                Telangana   250331    1377   248891     1372       1440           5           0.55\n",
      "                                    Bihar   221811    1136   221811     1136          0           0           0.51\n",
      "                                Rajasthan   209438    1979   209438     1979          0           0           0.94\n",
      "                                    Assam   208637     940   208637      940          0           0           0.45\n",
      "                             Chhattisgarh   199562    2434   199562     2434          0           0           1.22\n",
      "                                  Haryana   180424    1897   180424     1897          0           0           1.05\n",
      "                                  Gujarat   179679    3756   179679     3756          0           0           2.09\n",
      "                           Madhya Pradesh   176468    3017   176468     3017          0           0           1.71\n",
      "                                   Punjab   136958    4310   136958     4310          0           0           3.15\n",
      "                                Jharkhand   104239     897   104239      897          0           0           0.86\n",
      "                        Jammu and Kashmir    98337    1528    98337     1528          0           0           1.55\n",
      "                              Uttarakhand    65036    1063    65036     1063          0           0           1.63\n",
      "                                      Goa    44916     641    44916      641          0           0           1.43\n",
      "                               Puducherry    35744     600    35744      600          0           0           1.68\n",
      "                                  Tripura    31514     354    31431      353         83           1           1.12\n",
      "                         Himachal Pradesh    24812     365    24812      365          0           0           1.47\n",
      "                                  Manipur    20131     194    20131      194          0           0           0.96\n",
      "                        Arunachal Pradesh    15389      45    15389       45          0           0           0.29\n",
      "                               Chandigarh    15025     232    15025      232          0           0           1.54\n",
      "                                Meghalaya    10047      93    10047       93          0           0           0.93\n",
      "                                 Nagaland     9455      45     9455       45          0           0           0.48\n",
      "                                   Ladakh     6790      80     6790       80          0           0           1.18\n",
      "              Andaman and Nicobar Islands     4441      60     4441       60          0           0           1.35\n",
      "                                   Sikkim     4195      76     4195       76          0           0           1.81\n",
      " Dadra and Nagar Haveli and Daman and Diu     3269       2     3269        2          0           0           0.06\n",
      "                                  Mizoram     3090       2     3032        2         58           0           0.06\n",
      "                              Lakshadweep        0       0        0        0          0           0            NaN\n"
     ]
    }
   ],
   "source": [
    "#hide_input\n",
    "print(df_table.to_string(index=False))"
   ]
  },
  {
   "cell_type": "code",
   "execution_count": null,
   "metadata": {
    "papermill": {
     "duration": 0.023045,
     "end_time": "2020-11-08T12:52:09.446260",
     "exception": false,
     "start_time": "2020-11-08T12:52:09.423215",
     "status": "completed"
    },
    "tags": []
   },
   "outputs": [],
   "source": []
  },
  {
   "cell_type": "code",
   "execution_count": null,
   "metadata": {
    "papermill": {
     "duration": 0.02334,
     "end_time": "2020-11-08T12:52:09.493605",
     "exception": false,
     "start_time": "2020-11-08T12:52:09.470265",
     "status": "completed"
    },
    "tags": []
   },
   "outputs": [],
   "source": []
  }
 ],
 "metadata": {
  "kernelspec": {
   "display_name": "Python 3",
   "language": "python",
   "name": "python3"
  },
  "language_info": {
   "codemirror_mode": {
    "name": "ipython",
    "version": 3
   },
   "file_extension": ".py",
   "mimetype": "text/x-python",
   "name": "python",
   "nbconvert_exporter": "python",
   "pygments_lexer": "ipython3",
   "version": "3.6.12"
  },
  "papermill": {
   "duration": 12.240625,
   "end_time": "2020-11-08T12:52:10.026874",
   "environment_variables": {},
   "exception": null,
   "input_path": "latest.ipynb",
   "output_path": "latest.ipynb",
   "parameters": {},
   "start_time": "2020-11-08T12:51:57.786249",
   "version": "2.1.2"
  }
 },
 "nbformat": 4,
 "nbformat_minor": 4
}