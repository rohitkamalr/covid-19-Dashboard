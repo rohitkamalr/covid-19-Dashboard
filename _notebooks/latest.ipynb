{
 "cells": [
  {
   "cell_type": "markdown",
   "metadata": {
    "papermill": {
     "duration": 0.021958,
     "end_time": "2020-08-28T05:51:44.892055",
     "exception": false,
     "start_time": "2020-08-28T05:51:44.870097",
     "status": "completed"
    },
    "tags": []
   },
   "source": [
    "# Latest COVID-19 India Matplotlib Overview"
   ]
  },
  {
   "cell_type": "code",
   "execution_count": 1,
   "metadata": {
    "execution": {
     "iopub.execute_input": "2020-08-28T05:51:44.938406Z",
     "iopub.status.busy": "2020-08-28T05:51:44.937702Z",
     "iopub.status.idle": "2020-08-28T05:51:45.544629Z",
     "shell.execute_reply": "2020-08-28T05:51:45.543989Z"
    },
    "papermill": {
     "duration": 0.632523,
     "end_time": "2020-08-28T05:51:45.544817",
     "exception": false,
     "start_time": "2020-08-28T05:51:44.912294",
     "status": "completed"
    },
    "tags": []
   },
   "outputs": [],
   "source": [
    "#hide\n",
    "import pandas as pd\n",
    "import numpy as np\n",
    "import requests\n",
    "import json\n",
    "import matplotlib.pyplot as plt\n",
    "import matplotlib.dates as mdates\n",
    "import matplotlib as mpl\n",
    "from IPython.core.display import display,HTML\n",
    "%matplotlib inline\n",
    "from datetime import date"
   ]
  },
  {
   "cell_type": "code",
   "execution_count": 2,
   "metadata": {
    "execution": {
     "iopub.execute_input": "2020-08-28T05:51:45.588747Z",
     "iopub.status.busy": "2020-08-28T05:51:45.588087Z",
     "iopub.status.idle": "2020-08-28T05:51:45.799900Z",
     "shell.execute_reply": "2020-08-28T05:51:45.798287Z"
    },
    "papermill": {
     "duration": 0.236861,
     "end_time": "2020-08-28T05:51:45.800054",
     "exception": false,
     "start_time": "2020-08-28T05:51:45.563193",
     "status": "completed"
    },
    "tags": []
   },
   "outputs": [],
   "source": [
    "#hide\n",
    "df  = pd.read_csv('https://api.covid19india.org/csv/latest/states.csv')\n",
    "df = df[['Date','State','Confirmed','Deceased']]\n",
    "df = df.rename(columns={'Confirmed':'Cases', \"Deceased\":'Deaths'})\n",
    "df_cases = df[[\"Date\",'State','Cases']]\n",
    "df_deaths = df[['Date','State','Deaths']]\n",
    "df_cases1 = df_cases.groupby('Date')\n",
    "df_deaths1= df_deaths.groupby('Date')"
   ]
  },
  {
   "cell_type": "code",
   "execution_count": 3,
   "metadata": {
    "execution": {
     "iopub.execute_input": "2020-08-28T05:51:45.838566Z",
     "iopub.status.busy": "2020-08-28T05:51:45.837912Z",
     "iopub.status.idle": "2020-08-28T05:51:45.859145Z",
     "shell.execute_reply": "2020-08-28T05:51:45.858586Z"
    },
    "papermill": {
     "duration": 0.042275,
     "end_time": "2020-08-28T05:51:45.859278",
     "exception": false,
     "start_time": "2020-08-28T05:51:45.817003",
     "status": "completed"
    },
    "tags": []
   },
   "outputs": [],
   "source": [
    "#hide\n",
    "df_snap = pd.read_csv('data/SnapshotCases-28-July.csv')\n",
    "arr_states = df_snap['states'].unique()\n",
    "arr_dates = df['Date'].unique()\n",
    "df_snap = df_snap.set_index('states')"
   ]
  },
  {
   "cell_type": "code",
   "execution_count": 4,
   "metadata": {
    "execution": {
     "iopub.execute_input": "2020-08-28T05:51:45.900642Z",
     "iopub.status.busy": "2020-08-28T05:51:45.899917Z",
     "iopub.status.idle": "2020-08-28T05:51:45.903491Z",
     "shell.execute_reply": "2020-08-28T05:51:45.902915Z"
    },
    "papermill": {
     "duration": 0.028211,
     "end_time": "2020-08-28T05:51:45.903638",
     "exception": false,
     "start_time": "2020-08-28T05:51:45.875427",
     "status": "completed"
    },
    "tags": []
   },
   "outputs": [
    {
     "data": {
      "text/plain": [
       "array(['Andaman and Nicobar Islands', 'Andhra Pradesh',\n",
       "       'Arunachal Pradesh', 'Assam', 'Bihar', 'Chandigarh',\n",
       "       'Dadra and Nagar Haveli and Daman and Diu', 'Delhi', 'Goa',\n",
       "       'Gujarat', 'Haryana', 'Himachal Pradesh', 'Jammu and Kashmir',\n",
       "       'Jharkhand', 'Karnataka', 'Kerala', 'Lakshadweep',\n",
       "       'Madhya Pradesh', 'Maharashtra', 'Manipur', 'Meghalaya', 'Mizoram',\n",
       "       'Nagaland', 'Odisha', 'Puducherry', 'Punjab', 'Rajasthan',\n",
       "       'Sikkim', 'Tamil Nadu', 'Telangana', 'Tripura', 'Uttar Pradesh',\n",
       "       'West Bengal', 'Chhattisgarh', 'Ladakh', 'Uttarakhand'],\n",
       "      dtype=object)"
      ]
     },
     "execution_count": 4,
     "metadata": {},
     "output_type": "execute_result"
    }
   ],
   "source": [
    "#hide\n",
    "arr_states[-9] = 'Puducherry'\n",
    "arr_states[-10] = 'Odisha'\n",
    "arr_states[6] = 'Dadra and Nagar Haveli and Daman and Diu'\n",
    "arr_states = np.append(arr_states,np.array(['Chhattisgarh','Ladakh','Uttarakhand']))\n",
    "arr_states"
   ]
  },
  {
   "cell_type": "code",
   "execution_count": 5,
   "metadata": {
    "execution": {
     "iopub.execute_input": "2020-08-28T05:51:45.951755Z",
     "iopub.status.busy": "2020-08-28T05:51:45.951050Z",
     "iopub.status.idle": "2020-08-28T05:51:45.959494Z",
     "shell.execute_reply": "2020-08-28T05:51:45.960114Z"
    },
    "papermill": {
     "duration": 0.036025,
     "end_time": "2020-08-28T05:51:45.960269",
     "exception": false,
     "start_time": "2020-08-28T05:51:45.924244",
     "status": "completed"
    },
    "tags": []
   },
   "outputs": [],
   "source": [
    "#hide\n",
    "dates = []\n",
    "for i in arr_dates:\n",
    "    if i>='2020-07-01':\n",
    "        dates.append(i)\n",
    "dict = {'states':dates}\n",
    "for i in arr_states:\n",
    "    dict[i] = [0]*len(dates)\n",
    "dft_cases = pd.DataFrame(dict)\n",
    "dft_deaths = pd.DataFrame(dict)\n"
   ]
  },
  {
   "cell_type": "code",
   "execution_count": 6,
   "metadata": {
    "execution": {
     "iopub.execute_input": "2020-08-28T05:51:45.999972Z",
     "iopub.status.busy": "2020-08-28T05:51:45.999329Z",
     "iopub.status.idle": "2020-08-28T05:51:47.098917Z",
     "shell.execute_reply": "2020-08-28T05:51:47.097237Z"
    },
    "papermill": {
     "duration": 1.121351,
     "end_time": "2020-08-28T05:51:47.099091",
     "exception": false,
     "start_time": "2020-08-28T05:51:45.977740",
     "status": "completed"
    },
    "tags": []
   },
   "outputs": [],
   "source": [
    "#hide\n",
    "for i in range(len(dates)):\n",
    "    df1_deaths = df_deaths1.get_group(dates[i])\n",
    "    for j in range(len(df1_deaths.index)):\n",
    "        if df1_deaths.iloc[j,1] in arr_states:\n",
    "            dft_deaths.loc[i,df1_deaths.iloc[j,1]] = df1_deaths.iloc[j,2]\n",
    "dft_deaths = dft_deaths.set_index('states')"
   ]
  },
  {
   "cell_type": "code",
   "execution_count": 7,
   "metadata": {
    "execution": {
     "iopub.execute_input": "2020-08-28T05:51:47.141615Z",
     "iopub.status.busy": "2020-08-28T05:51:47.140799Z",
     "iopub.status.idle": "2020-08-28T05:51:48.221351Z",
     "shell.execute_reply": "2020-08-28T05:51:48.220721Z"
    },
    "papermill": {
     "duration": 1.103213,
     "end_time": "2020-08-28T05:51:48.221521",
     "exception": false,
     "start_time": "2020-08-28T05:51:47.118308",
     "status": "completed"
    },
    "tags": []
   },
   "outputs": [],
   "source": [
    "#hide\n",
    "for i in range(len(dates)):\n",
    "    df1_cases = df_cases1.get_group(dates[i])\n",
    "    for j in range(len(df1_cases.index)):\n",
    "        if df1_cases.iloc[j,1] in arr_states:\n",
    "            dft_cases.loc[i,df1_cases.iloc[j,1]] = df1_cases.iloc[j,2]\n",
    "dft_cases = dft_cases.set_index('states')"
   ]
  },
  {
   "cell_type": "code",
   "execution_count": 8,
   "metadata": {
    "execution": {
     "iopub.execute_input": "2020-08-28T05:51:48.265758Z",
     "iopub.status.busy": "2020-08-28T05:51:48.265104Z",
     "iopub.status.idle": "2020-08-28T05:51:48.268840Z",
     "shell.execute_reply": "2020-08-28T05:51:48.269405Z"
    },
    "papermill": {
     "duration": 0.029028,
     "end_time": "2020-08-28T05:51:48.269569",
     "exception": false,
     "start_time": "2020-08-28T05:51:48.240541",
     "status": "completed"
    },
    "tags": []
   },
   "outputs": [],
   "source": [
    "#hide\n",
    "dft_cases = dft_cases.T\n",
    "dft_deaths = dft_deaths.T\n",
    "dt_today = dates[-1]\n",
    "dt_yday = dates[-2]"
   ]
  },
  {
   "cell_type": "code",
   "execution_count": 9,
   "metadata": {
    "execution": {
     "iopub.execute_input": "2020-08-28T05:51:48.310260Z",
     "iopub.status.busy": "2020-08-28T05:51:48.309017Z",
     "iopub.status.idle": "2020-08-28T05:51:48.314408Z",
     "shell.execute_reply": "2020-08-28T05:51:48.314945Z"
    },
    "papermill": {
     "duration": 0.028704,
     "end_time": "2020-08-28T05:51:48.315088",
     "exception": false,
     "start_time": "2020-08-28T05:51:48.286384",
     "status": "completed"
    },
    "tags": []
   },
   "outputs": [],
   "source": [
    "#hide\n",
    "dft_cases = dft_cases.reset_index()\n",
    "dft_deaths = dft_deaths.reset_index()\n",
    "dft_cases = dft_cases.rename(columns = {'index':'state'})\n",
    "dft_deaths = dft_deaths.rename(columns = {'index':'state'})"
   ]
  },
  {
   "cell_type": "code",
   "execution_count": 10,
   "metadata": {
    "execution": {
     "iopub.execute_input": "2020-08-28T05:51:48.362082Z",
     "iopub.status.busy": "2020-08-28T05:51:48.360573Z",
     "iopub.status.idle": "2020-08-28T05:51:48.362792Z",
     "shell.execute_reply": "2020-08-28T05:51:48.363320Z"
    },
    "papermill": {
     "duration": 0.032049,
     "end_time": "2020-08-28T05:51:48.363464",
     "exception": false,
     "start_time": "2020-08-28T05:51:48.331415",
     "status": "completed"
    },
    "tags": []
   },
   "outputs": [],
   "source": [
    "#hide\n",
    "dfc_cases = dft_cases.groupby('state')[dt_today].sum()\n",
    "dfc_deaths = dft_deaths.groupby('state')[dt_today].sum()\n",
    "dfp_cases = dft_cases.groupby('state')[dt_yday].sum()\n",
    "dfp_deaths = dft_deaths.groupby('state')[dt_yday].sum()"
   ]
  },
  {
   "cell_type": "code",
   "execution_count": 11,
   "metadata": {
    "execution": {
     "iopub.execute_input": "2020-08-28T05:51:48.412763Z",
     "iopub.status.busy": "2020-08-28T05:51:48.412115Z",
     "iopub.status.idle": "2020-08-28T05:51:48.419863Z",
     "shell.execute_reply": "2020-08-28T05:51:48.419316Z"
    },
    "papermill": {
     "duration": 0.040191,
     "end_time": "2020-08-28T05:51:48.419992",
     "exception": false,
     "start_time": "2020-08-28T05:51:48.379801",
     "status": "completed"
    },
    "tags": []
   },
   "outputs": [
    {
     "data": {
      "text/html": [
       "<div>\n",
       "<style scoped>\n",
       "    .dataframe tbody tr th:only-of-type {\n",
       "        vertical-align: middle;\n",
       "    }\n",
       "\n",
       "    .dataframe tbody tr th {\n",
       "        vertical-align: top;\n",
       "    }\n",
       "\n",
       "    .dataframe thead th {\n",
       "        text-align: right;\n",
       "    }\n",
       "</style>\n",
       "<table border=\"1\" class=\"dataframe\">\n",
       "  <thead>\n",
       "    <tr style=\"text-align: right;\">\n",
       "      <th></th>\n",
       "      <th>states</th>\n",
       "      <th>Cases</th>\n",
       "      <th>Deaths</th>\n",
       "      <th>PCases</th>\n",
       "      <th>PDeaths</th>\n",
       "    </tr>\n",
       "  </thead>\n",
       "  <tbody>\n",
       "    <tr>\n",
       "      <th>0</th>\n",
       "      <td>Maharashtra</td>\n",
       "      <td>733568</td>\n",
       "      <td>23444</td>\n",
       "      <td>733568</td>\n",
       "      <td>23444</td>\n",
       "    </tr>\n",
       "    <tr>\n",
       "      <th>1</th>\n",
       "      <td>Tamil Nadu</td>\n",
       "      <td>403242</td>\n",
       "      <td>6948</td>\n",
       "      <td>403242</td>\n",
       "      <td>6948</td>\n",
       "    </tr>\n",
       "    <tr>\n",
       "      <th>2</th>\n",
       "      <td>Andhra Pradesh</td>\n",
       "      <td>393090</td>\n",
       "      <td>3633</td>\n",
       "      <td>393090</td>\n",
       "      <td>3633</td>\n",
       "    </tr>\n",
       "    <tr>\n",
       "      <th>3</th>\n",
       "      <td>Karnataka</td>\n",
       "      <td>309792</td>\n",
       "      <td>5232</td>\n",
       "      <td>309792</td>\n",
       "      <td>5232</td>\n",
       "    </tr>\n",
       "    <tr>\n",
       "      <th>4</th>\n",
       "      <td>Uttar Pradesh</td>\n",
       "      <td>208419</td>\n",
       "      <td>3217</td>\n",
       "      <td>208419</td>\n",
       "      <td>3217</td>\n",
       "    </tr>\n",
       "  </tbody>\n",
       "</table>\n",
       "</div>"
      ],
      "text/plain": [
       "           states   Cases  Deaths  PCases  PDeaths\n",
       "0     Maharashtra  733568   23444  733568    23444\n",
       "1      Tamil Nadu  403242    6948  403242     6948\n",
       "2  Andhra Pradesh  393090    3633  393090     3633\n",
       "3       Karnataka  309792    5232  309792     5232\n",
       "4   Uttar Pradesh  208419    3217  208419     3217"
      ]
     },
     "execution_count": 11,
     "metadata": {},
     "output_type": "execute_result"
    }
   ],
   "source": [
    "#hide\n",
    "df_table = pd.DataFrame({'states': dfc_cases.index, 'Cases': dfc_cases.values, 'Deaths': dfc_deaths.values, 'PCases': dfp_cases.values, 'PDeaths': dfp_deaths.values}).set_index('states')\n",
    "df_table = df_table.sort_values(by = ['Cases','Deaths'], ascending = [False, False])\n",
    "df_table = df_table.reset_index()\n",
    "df_table.head()"
   ]
  },
  {
   "cell_type": "code",
   "execution_count": 12,
   "metadata": {
    "execution": {
     "iopub.execute_input": "2020-08-28T05:51:48.460845Z",
     "iopub.status.busy": "2020-08-28T05:51:48.460196Z",
     "iopub.status.idle": "2020-08-28T05:51:48.469238Z",
     "shell.execute_reply": "2020-08-28T05:51:48.469802Z"
    },
    "papermill": {
     "duration": 0.032697,
     "end_time": "2020-08-28T05:51:48.469970",
     "exception": false,
     "start_time": "2020-08-28T05:51:48.437273",
     "status": "completed"
    },
    "tags": []
   },
   "outputs": [],
   "source": [
    "#hide\n",
    "for c in 'Cases, Deaths'.split(', '):\n",
    "    df_table[f'{c} (+)'] = (df_table[c] - df_table[f'P{c}']).clip(0)\n",
    "df_table['Fatality Rate'] = (100* df_table['Deaths']/ df_table['Cases']).round(2)"
   ]
  },
  {
   "cell_type": "code",
   "execution_count": 13,
   "metadata": {
    "execution": {
     "iopub.execute_input": "2020-08-28T05:51:48.516948Z",
     "iopub.status.busy": "2020-08-28T05:51:48.516218Z",
     "iopub.status.idle": "2020-08-28T05:51:48.519230Z",
     "shell.execute_reply": "2020-08-28T05:51:48.519864Z"
    },
    "papermill": {
     "duration": 0.033183,
     "end_time": "2020-08-28T05:51:48.520037",
     "exception": false,
     "start_time": "2020-08-28T05:51:48.486854",
     "status": "completed"
    },
    "tags": []
   },
   "outputs": [
    {
     "data": {
      "text/html": [
       "<div>\n",
       "<style scoped>\n",
       "    .dataframe tbody tr th:only-of-type {\n",
       "        vertical-align: middle;\n",
       "    }\n",
       "\n",
       "    .dataframe tbody tr th {\n",
       "        vertical-align: top;\n",
       "    }\n",
       "\n",
       "    .dataframe thead th {\n",
       "        text-align: right;\n",
       "    }\n",
       "</style>\n",
       "<table border=\"1\" class=\"dataframe\">\n",
       "  <thead>\n",
       "    <tr style=\"text-align: right;\">\n",
       "      <th></th>\n",
       "      <th>states</th>\n",
       "      <th>Cases</th>\n",
       "      <th>Deaths</th>\n",
       "      <th>PCases</th>\n",
       "      <th>PDeaths</th>\n",
       "      <th>Cases (+)</th>\n",
       "      <th>Deaths (+)</th>\n",
       "      <th>Fatality Rate</th>\n",
       "    </tr>\n",
       "  </thead>\n",
       "  <tbody>\n",
       "    <tr>\n",
       "      <th>0</th>\n",
       "      <td>Maharashtra</td>\n",
       "      <td>733568</td>\n",
       "      <td>23444</td>\n",
       "      <td>733568</td>\n",
       "      <td>23444</td>\n",
       "      <td>0</td>\n",
       "      <td>0</td>\n",
       "      <td>3.20</td>\n",
       "    </tr>\n",
       "    <tr>\n",
       "      <th>1</th>\n",
       "      <td>Tamil Nadu</td>\n",
       "      <td>403242</td>\n",
       "      <td>6948</td>\n",
       "      <td>403242</td>\n",
       "      <td>6948</td>\n",
       "      <td>0</td>\n",
       "      <td>0</td>\n",
       "      <td>1.72</td>\n",
       "    </tr>\n",
       "    <tr>\n",
       "      <th>2</th>\n",
       "      <td>Andhra Pradesh</td>\n",
       "      <td>393090</td>\n",
       "      <td>3633</td>\n",
       "      <td>393090</td>\n",
       "      <td>3633</td>\n",
       "      <td>0</td>\n",
       "      <td>0</td>\n",
       "      <td>0.92</td>\n",
       "    </tr>\n",
       "    <tr>\n",
       "      <th>3</th>\n",
       "      <td>Karnataka</td>\n",
       "      <td>309792</td>\n",
       "      <td>5232</td>\n",
       "      <td>309792</td>\n",
       "      <td>5232</td>\n",
       "      <td>0</td>\n",
       "      <td>0</td>\n",
       "      <td>1.69</td>\n",
       "    </tr>\n",
       "    <tr>\n",
       "      <th>4</th>\n",
       "      <td>Uttar Pradesh</td>\n",
       "      <td>208419</td>\n",
       "      <td>3217</td>\n",
       "      <td>208419</td>\n",
       "      <td>3217</td>\n",
       "      <td>0</td>\n",
       "      <td>0</td>\n",
       "      <td>1.54</td>\n",
       "    </tr>\n",
       "  </tbody>\n",
       "</table>\n",
       "</div>"
      ],
      "text/plain": [
       "           states   Cases  Deaths  PCases  PDeaths  Cases (+)  Deaths (+)  \\\n",
       "0     Maharashtra  733568   23444  733568    23444          0           0   \n",
       "1      Tamil Nadu  403242    6948  403242     6948          0           0   \n",
       "2  Andhra Pradesh  393090    3633  393090     3633          0           0   \n",
       "3       Karnataka  309792    5232  309792     5232          0           0   \n",
       "4   Uttar Pradesh  208419    3217  208419     3217          0           0   \n",
       "\n",
       "   Fatality Rate  \n",
       "0           3.20  \n",
       "1           1.72  \n",
       "2           0.92  \n",
       "3           1.69  \n",
       "4           1.54  "
      ]
     },
     "execution_count": 13,
     "metadata": {},
     "output_type": "execute_result"
    }
   ],
   "source": [
    "#hide\n",
    "df_table.head()"
   ]
  },
  {
   "cell_type": "code",
   "execution_count": 14,
   "metadata": {
    "execution": {
     "iopub.execute_input": "2020-08-28T05:51:48.565973Z",
     "iopub.status.busy": "2020-08-28T05:51:48.565221Z",
     "iopub.status.idle": "2020-08-28T05:51:48.583514Z",
     "shell.execute_reply": "2020-08-28T05:51:48.582898Z"
    },
    "papermill": {
     "duration": 0.044223,
     "end_time": "2020-08-28T05:51:48.583659",
     "exception": false,
     "start_time": "2020-08-28T05:51:48.539436",
     "status": "completed"
    },
    "tags": []
   },
   "outputs": [
    {
     "data": {
      "text/plain": [
       "{'updated': '2020-08-28',\n",
       " 'since': '2020-08-27',\n",
       " 'Cases': 3392294,\n",
       " 'PCases': 3384575,\n",
       " 'Deaths': 61716,\n",
       " 'PDeaths': 61694,\n",
       " 'Cases (+)': 7719,\n",
       " 'Deaths (+)': 22}"
      ]
     },
     "execution_count": 14,
     "metadata": {},
     "output_type": "execute_result"
    }
   ],
   "source": [
    "#hide\n",
    "summary = {'updated':dates[-1], 'since':dates[-2]}\n",
    "list_names = ['Cases', 'PCases', 'Deaths', 'PDeaths', 'Cases (+)', 'Deaths (+)']\n",
    "for name in list_names:\n",
    "    summary[name] = df_table.sum()[name]\n",
    "summary"
   ]
  },
  {
   "cell_type": "code",
   "execution_count": 15,
   "metadata": {
    "execution": {
     "iopub.execute_input": "2020-08-28T05:51:48.635686Z",
     "iopub.status.busy": "2020-08-28T05:51:48.634936Z",
     "iopub.status.idle": "2020-08-28T05:51:48.638863Z",
     "shell.execute_reply": "2020-08-28T05:51:48.639463Z"
    },
    "papermill": {
     "duration": 0.03469,
     "end_time": "2020-08-28T05:51:48.639651",
     "exception": false,
     "start_time": "2020-08-28T05:51:48.604961",
     "status": "completed"
    },
    "tags": []
   },
   "outputs": [],
   "source": [
    "#hide\n",
    "overview = '''\n",
    "<!-- #######  HTML!! #########-->\n",
    "<h1 style=\"color: #5e9ca0; text-align: center;\">India</h1>\n",
    "<p style=\"text-align: center;\">Last update: <strong>{update}</strong></p>\n",
    "<p style=\"text-align: center;\">Confirmed cases:</p>\n",
    "<p style=\"text-align: center;font-size:24px;\">{cases} (<span style=\"color: #ff0000;\">+{new}</span>)</p>\n",
    "<p style=\"text-align: center;\">Confirmed deaths:</p>\n",
    "<p style=\"text-align: center;font-size:24px;\">{deaths} (<span style=\"color: #ff0000;\">+{dnew}</span>)</p>\n",
    "'''"
   ]
  },
  {
   "cell_type": "code",
   "execution_count": 16,
   "metadata": {
    "execution": {
     "iopub.execute_input": "2020-08-28T05:51:49.074024Z",
     "iopub.status.busy": "2020-08-28T05:51:49.073331Z",
     "iopub.status.idle": "2020-08-28T05:51:49.077234Z",
     "shell.execute_reply": "2020-08-28T05:51:49.076678Z"
    },
    "papermill": {
     "duration": 0.415018,
     "end_time": "2020-08-28T05:51:49.077374",
     "exception": false,
     "start_time": "2020-08-28T05:51:48.662356",
     "status": "completed"
    },
    "tags": []
   },
   "outputs": [
    {
     "data": {
      "text/html": [
       "\n",
       "<!-- #######  HTML!! #########-->\n",
       "<h1 style=\"color: #5e9ca0; text-align: center;\">India</h1>\n",
       "<p style=\"text-align: center;\">Last update: <strong>2020-08-28</strong></p>\n",
       "<p style=\"text-align: center;\">Confirmed cases:</p>\n",
       "<p style=\"text-align: center;font-size:24px;\">3392294 (<span style=\"color: #ff0000;\">+7719</span>)</p>\n",
       "<p style=\"text-align: center;\">Confirmed deaths:</p>\n",
       "<p style=\"text-align: center;font-size:24px;\">61716 (<span style=\"color: #ff0000;\">+22</span>)</p>\n"
      ],
      "text/plain": [
       "<IPython.core.display.HTML object>"
      ]
     },
     "metadata": {},
     "output_type": "display_data"
    }
   ],
   "source": [
    "#hide_input\n",
    "update = summary['updated']\n",
    "cases = summary['Cases']\n",
    "new = summary['Cases (+)']\n",
    "deaths = summary['Deaths']\n",
    "dnew = summary['Deaths (+)']\n",
    "\n",
    "html = HTML(overview.format(update=update, cases=cases,new=new,deaths=deaths,dnew=dnew))\n",
    "\n",
    "display(html)"
   ]
  },
  {
   "cell_type": "code",
   "execution_count": 17,
   "metadata": {
    "execution": {
     "iopub.execute_input": "2020-08-28T05:51:49.578862Z",
     "iopub.status.busy": "2020-08-28T05:51:49.578165Z",
     "iopub.status.idle": "2020-08-28T05:51:49.584182Z",
     "shell.execute_reply": "2020-08-28T05:51:49.584742Z"
    },
    "papermill": {
     "duration": 0.326969,
     "end_time": "2020-08-28T05:51:49.584907",
     "exception": false,
     "start_time": "2020-08-28T05:51:49.257938",
     "status": "completed"
    },
    "tags": []
   },
   "outputs": [],
   "source": [
    "#hide\n",
    "dt_cols = list(dft_cases.columns[1:])\n",
    "dft_ct_new_cases = dft_cases.groupby('state')[dt_cols].sum().diff(axis=1).fillna(0).astype(int)\n",
    "dft_ct_new_cases.sort_values(by = dates[-1], ascending = False,inplace = True)"
   ]
  },
  {
   "cell_type": "code",
   "execution_count": 18,
   "metadata": {
    "execution": {
     "iopub.execute_input": "2020-08-28T05:51:49.861755Z",
     "iopub.status.busy": "2020-08-28T05:51:49.860784Z",
     "iopub.status.idle": "2020-08-28T05:51:49.864095Z",
     "shell.execute_reply": "2020-08-28T05:51:49.864634Z"
    },
    "papermill": {
     "duration": 0.046598,
     "end_time": "2020-08-28T05:51:49.864789",
     "exception": false,
     "start_time": "2020-08-28T05:51:49.818191",
     "status": "completed"
    },
    "tags": []
   },
   "outputs": [
    {
     "data": {
      "text/html": [
       "<div>\n",
       "<style scoped>\n",
       "    .dataframe tbody tr th:only-of-type {\n",
       "        vertical-align: middle;\n",
       "    }\n",
       "\n",
       "    .dataframe tbody tr th {\n",
       "        vertical-align: top;\n",
       "    }\n",
       "\n",
       "    .dataframe thead th {\n",
       "        text-align: right;\n",
       "    }\n",
       "</style>\n",
       "<table border=\"1\" class=\"dataframe\">\n",
       "  <thead>\n",
       "    <tr style=\"text-align: right;\">\n",
       "      <th>states</th>\n",
       "      <th>2020-07-01</th>\n",
       "      <th>2020-07-02</th>\n",
       "      <th>2020-07-03</th>\n",
       "      <th>2020-07-04</th>\n",
       "      <th>2020-07-05</th>\n",
       "      <th>2020-07-06</th>\n",
       "      <th>2020-07-07</th>\n",
       "      <th>2020-07-08</th>\n",
       "      <th>2020-07-09</th>\n",
       "      <th>2020-07-10</th>\n",
       "      <th>...</th>\n",
       "      <th>2020-08-19</th>\n",
       "      <th>2020-08-20</th>\n",
       "      <th>2020-08-21</th>\n",
       "      <th>2020-08-22</th>\n",
       "      <th>2020-08-23</th>\n",
       "      <th>2020-08-24</th>\n",
       "      <th>2020-08-25</th>\n",
       "      <th>2020-08-26</th>\n",
       "      <th>2020-08-27</th>\n",
       "      <th>2020-08-28</th>\n",
       "    </tr>\n",
       "    <tr>\n",
       "      <th>state</th>\n",
       "      <th></th>\n",
       "      <th></th>\n",
       "      <th></th>\n",
       "      <th></th>\n",
       "      <th></th>\n",
       "      <th></th>\n",
       "      <th></th>\n",
       "      <th></th>\n",
       "      <th></th>\n",
       "      <th></th>\n",
       "      <th></th>\n",
       "      <th></th>\n",
       "      <th></th>\n",
       "      <th></th>\n",
       "      <th></th>\n",
       "      <th></th>\n",
       "      <th></th>\n",
       "      <th></th>\n",
       "      <th></th>\n",
       "      <th></th>\n",
       "      <th></th>\n",
       "    </tr>\n",
       "  </thead>\n",
       "  <tbody>\n",
       "    <tr>\n",
       "      <th>Odisha</th>\n",
       "      <td>0</td>\n",
       "      <td>229</td>\n",
       "      <td>561</td>\n",
       "      <td>495</td>\n",
       "      <td>469</td>\n",
       "      <td>456</td>\n",
       "      <td>571</td>\n",
       "      <td>527</td>\n",
       "      <td>577</td>\n",
       "      <td>755</td>\n",
       "      <td>...</td>\n",
       "      <td>2589</td>\n",
       "      <td>2898</td>\n",
       "      <td>2698</td>\n",
       "      <td>2819</td>\n",
       "      <td>2993</td>\n",
       "      <td>2949</td>\n",
       "      <td>2752</td>\n",
       "      <td>3371</td>\n",
       "      <td>3384</td>\n",
       "      <td>3682</td>\n",
       "    </tr>\n",
       "    <tr>\n",
       "      <th>Telangana</th>\n",
       "      <td>0</td>\n",
       "      <td>1213</td>\n",
       "      <td>1892</td>\n",
       "      <td>1850</td>\n",
       "      <td>1590</td>\n",
       "      <td>1831</td>\n",
       "      <td>1879</td>\n",
       "      <td>1924</td>\n",
       "      <td>1410</td>\n",
       "      <td>1278</td>\n",
       "      <td>...</td>\n",
       "      <td>1763</td>\n",
       "      <td>1724</td>\n",
       "      <td>1967</td>\n",
       "      <td>2474</td>\n",
       "      <td>2384</td>\n",
       "      <td>1842</td>\n",
       "      <td>2579</td>\n",
       "      <td>3018</td>\n",
       "      <td>2795</td>\n",
       "      <td>2942</td>\n",
       "    </tr>\n",
       "    <tr>\n",
       "      <th>Rajasthan</th>\n",
       "      <td>0</td>\n",
       "      <td>350</td>\n",
       "      <td>390</td>\n",
       "      <td>480</td>\n",
       "      <td>632</td>\n",
       "      <td>524</td>\n",
       "      <td>716</td>\n",
       "      <td>659</td>\n",
       "      <td>500</td>\n",
       "      <td>611</td>\n",
       "      <td>...</td>\n",
       "      <td>1312</td>\n",
       "      <td>1330</td>\n",
       "      <td>1335</td>\n",
       "      <td>1310</td>\n",
       "      <td>1345</td>\n",
       "      <td>1346</td>\n",
       "      <td>1370</td>\n",
       "      <td>1345</td>\n",
       "      <td>1345</td>\n",
       "      <td>557</td>\n",
       "    </tr>\n",
       "    <tr>\n",
       "      <th>Tripura</th>\n",
       "      <td>0</td>\n",
       "      <td>39</td>\n",
       "      <td>93</td>\n",
       "      <td>25</td>\n",
       "      <td>23</td>\n",
       "      <td>111</td>\n",
       "      <td>24</td>\n",
       "      <td>57</td>\n",
       "      <td>16</td>\n",
       "      <td>142</td>\n",
       "      <td>...</td>\n",
       "      <td>236</td>\n",
       "      <td>190</td>\n",
       "      <td>256</td>\n",
       "      <td>280</td>\n",
       "      <td>331</td>\n",
       "      <td>200</td>\n",
       "      <td>293</td>\n",
       "      <td>329</td>\n",
       "      <td>385</td>\n",
       "      <td>509</td>\n",
       "    </tr>\n",
       "    <tr>\n",
       "      <th>Mizoram</th>\n",
       "      <td>0</td>\n",
       "      <td>2</td>\n",
       "      <td>0</td>\n",
       "      <td>2</td>\n",
       "      <td>22</td>\n",
       "      <td>11</td>\n",
       "      <td>1</td>\n",
       "      <td>5</td>\n",
       "      <td>0</td>\n",
       "      <td>23</td>\n",
       "      <td>...</td>\n",
       "      <td>45</td>\n",
       "      <td>14</td>\n",
       "      <td>21</td>\n",
       "      <td>8</td>\n",
       "      <td>15</td>\n",
       "      <td>0</td>\n",
       "      <td>35</td>\n",
       "      <td>14</td>\n",
       "      <td>7</td>\n",
       "      <td>29</td>\n",
       "    </tr>\n",
       "  </tbody>\n",
       "</table>\n",
       "<p>5 rows × 59 columns</p>\n",
       "</div>"
      ],
      "text/plain": [
       "states     2020-07-01  2020-07-02  2020-07-03  2020-07-04  2020-07-05  \\\n",
       "state                                                                   \n",
       "Odisha              0         229         561         495         469   \n",
       "Telangana           0        1213        1892        1850        1590   \n",
       "Rajasthan           0         350         390         480         632   \n",
       "Tripura             0          39          93          25          23   \n",
       "Mizoram             0           2           0           2          22   \n",
       "\n",
       "states     2020-07-06  2020-07-07  2020-07-08  2020-07-09  2020-07-10  ...  \\\n",
       "state                                                                  ...   \n",
       "Odisha            456         571         527         577         755  ...   \n",
       "Telangana        1831        1879        1924        1410        1278  ...   \n",
       "Rajasthan         524         716         659         500         611  ...   \n",
       "Tripura           111          24          57          16         142  ...   \n",
       "Mizoram            11           1           5           0          23  ...   \n",
       "\n",
       "states     2020-08-19  2020-08-20  2020-08-21  2020-08-22  2020-08-23  \\\n",
       "state                                                                   \n",
       "Odisha           2589        2898        2698        2819        2993   \n",
       "Telangana        1763        1724        1967        2474        2384   \n",
       "Rajasthan        1312        1330        1335        1310        1345   \n",
       "Tripura           236         190         256         280         331   \n",
       "Mizoram            45          14          21           8          15   \n",
       "\n",
       "states     2020-08-24  2020-08-25  2020-08-26  2020-08-27  2020-08-28  \n",
       "state                                                                  \n",
       "Odisha           2949        2752        3371        3384        3682  \n",
       "Telangana        1842        2579        3018        2795        2942  \n",
       "Rajasthan        1346        1370        1345        1345         557  \n",
       "Tripura           200         293         329         385         509  \n",
       "Mizoram             0          35          14           7          29  \n",
       "\n",
       "[5 rows x 59 columns]"
      ]
     },
     "execution_count": 18,
     "metadata": {},
     "output_type": "execute_result"
    }
   ],
   "source": [
    "#hide\n",
    "dft_ct_new_cases.head()"
   ]
  },
  {
   "cell_type": "code",
   "execution_count": 19,
   "metadata": {
    "execution": {
     "iopub.execute_input": "2020-08-28T05:51:49.932376Z",
     "iopub.status.busy": "2020-08-28T05:51:49.910013Z",
     "iopub.status.idle": "2020-08-28T05:51:53.486002Z",
     "shell.execute_reply": "2020-08-28T05:51:53.486639Z"
    },
    "papermill": {
     "duration": 3.603139,
     "end_time": "2020-08-28T05:51:53.486881",
     "exception": false,
     "start_time": "2020-08-28T05:51:49.883742",
     "status": "completed"
    },
    "tags": []
   },
   "outputs": [
    {
     "data": {
      "image/png": "[encoded data removed]",
      "text/plain": [
       "<Figure size 1296x2016 with 11 Axes>"
      ]
     },
     "metadata": {
      "needs_background": "light"
     },
     "output_type": "display_data"
    }
   ],
   "source": [
    "#hide_input\n",
    "df = dft_ct_new_cases.copy()\n",
    "df.loc['Total'] = df.sum()\n",
    "n = 5\n",
    "ax = []\n",
    "fig = plt.figure(figsize = (18,28))\n",
    "gs = fig.add_gridspec(n+2, 5)\n",
    "# gs = fig.add_gridspec(2, 3)\n",
    "ax1 = fig.add_subplot(gs[0, :])\n",
    "ef = df.loc['Total'].rename_axis('date').reset_index()\n",
    "ef['date'] = ef['date'].astype('datetime64[ns]')\n",
    "ax1.bar(ef.date,ef.Total,alpha=0.3,color='#007acc')\n",
    "ax1.plot(ef.date,ef.Total , marker=\"o\", color='#007acc')\n",
    "ax1.xaxis.set_major_locator(mdates.WeekdayLocator())\n",
    "ax1.xaxis.set_major_formatter(mdates.DateFormatter('%b %d'))\n",
    "ax1.text(0.02, 0.5,'India daily case count', transform = ax1.transAxes, fontsize=25);\n",
    "ax1.spines['right'].set_visible(False)\n",
    "ax1.spines['top'].set_visible(False)\n",
    "\n",
    "ax2 = fig.add_subplot(gs[1,0])\n",
    "ef = df.loc['Maharashtra'].rename_axis('date').reset_index()\n",
    "ef['date'] = ef['date'].astype('datetime64[ns]')\n",
    "\n",
    "ax2.bar(ef.date, ef.Maharashtra,color = '#007acc',alpha=0.5)\n",
    "ax2.xaxis.set_major_locator(mdates.WeekdayLocator())\n",
    "ax2.xaxis.set_major_formatter(mdates.DateFormatter('%b %d'))\n",
    "ax2.set_xticks(ax2.get_xticks()[::3])\n",
    "maxyval = ef.Maharashtra.max()\n",
    "ax2.set_ylim([0,maxyval])\n",
    "ax2.text(0.05, 0.9,'Maharashtra', transform = ax2.transAxes, fontsize=20);\n",
    "ax2.spines['right'].set_visible(False)\n",
    "ax2.spines['top'].set_visible(False)\n",
    "\n",
    "\n",
    "ax3 = fig.add_subplot(gs[1,1])\n",
    "ef = df.loc['Tamil Nadu'].rename_axis('date').reset_index()\n",
    "ef['date'] = ef['date'].astype('datetime64[ns]')\n",
    "ax3.bar(ef.date, ef['Tamil Nadu'],color = '#007acc',alpha=0.5,)\n",
    "ax3.xaxis.set_major_locator(mdates.WeekdayLocator())\n",
    "ax3.xaxis.set_major_formatter(mdates.DateFormatter('%b %d'))\n",
    "ax3.set_xticks(ax3.get_xticks()[::3])\n",
    "ax3.text(0.05, 0.9,'Tamil Nadu', transform = ax3.transAxes, fontsize=20);\n",
    "ax3.spines['right'].set_visible(False)\n",
    "ax3.spines['top'].set_visible(False)\n",
    "\n",
    "ax5 = fig.add_subplot(gs[1,3])\n",
    "ef = df.loc['Telangana'].rename_axis('date').reset_index()\n",
    "ef['date'] = ef['date'].astype('datetime64[ns]')\n",
    "ax5.bar(ef.date, ef['Telangana'],color = '#007acc',alpha=0.5,)\n",
    "ax5.xaxis.set_major_locator(mdates.WeekdayLocator())\n",
    "ax5.xaxis.set_major_formatter(mdates.DateFormatter('%b %d'))\n",
    "ax5.set_xticks(ax5.get_xticks()[::3])\n",
    "ax5.text(0.05, 0.9,'Telangana', transform = ax5.transAxes, fontsize=20);\n",
    "ax5.spines['right'].set_visible(False)\n",
    "ax5.spines['top'].set_visible(False)\n",
    "\n",
    "ax6 = fig.add_subplot(gs[1,4])\n",
    "ef = df.loc['Andhra Pradesh'].rename_axis('date').reset_index()\n",
    "ef['date'] = ef['date'].astype('datetime64[ns]')\n",
    "ax6.bar(ef.date, ef['Andhra Pradesh'],color = '#007acc',alpha=0.5,)\n",
    "ax6.xaxis.set_major_locator(mdates.WeekdayLocator())\n",
    "ax6.xaxis.set_major_formatter(mdates.DateFormatter('%b %d'))\n",
    "ax6.set_xticks(ax6.get_xticks()[::3])\n",
    "ax6.text(0.05, 1,'Andhra Pradesh', transform = ax6.transAxes, fontsize=20);\n",
    "ax6.spines['right'].set_visible(False)\n",
    "ax6.spines['top'].set_visible(False)\n",
    "\n",
    "ax4 = fig.add_subplot(gs[1,2])\n",
    "ef = df.loc['Delhi'].rename_axis('date').reset_index()\n",
    "ef['date'] = ef['date'].astype('datetime64[ns]')\n",
    "ax4.bar(ef.date, ef.Delhi,color = '#007acc',alpha=0.5)\n",
    "ax4.set_xticks([])\n",
    "ax4.xaxis.set_major_locator(mdates.WeekdayLocator())\n",
    "ax4.xaxis.set_major_formatter(mdates.DateFormatter('%b %d'))\n",
    "ax4.set_xticks(ax4.get_xticks()[::3])\n",
    "ax4.spines['right'].set_visible(False)\n",
    "ax4.spines['top'].set_visible(False)\n",
    "\n",
    "ax4.text(0.05, 1,'Delhi', transform = ax4.transAxes, fontsize=20)\n",
    "\n",
    "for i in range(n):\n",
    "    \n",
    "    ax.append(fig.add_subplot(gs[i+2,:]))\n",
    "    ef = df.iloc[i+3].rename_axis('date').reset_index()\n",
    "    ef['date'] = ef['date'].astype('datetime64[ns]')\n",
    "    ax[i].bar(ef.date,ef.iloc[:,-1],color = '#007acc',alpha=0.3)\n",
    "    ax[i].plot(ef.date,ef.iloc[:,-1],marker='o',color='#007acc')\n",
    "    ax[i].text(0.02,0.5,f'{ef.columns.values[-1]}',transform = ax[i].transAxes, fontsize = 20);\n",
    "    ax[i].xaxis.set_major_locator(mdates.WeekdayLocator())\n",
    "    ax[i].xaxis.set_major_formatter(mdates.DateFormatter('%b %d'))\n",
    "    ax[i].set_ylim([0,7000])\n",
    "    ax[i].spines['right'].set_visible(False)\n",
    "    ax[i].spines['top'].set_visible(False)\n",
    "plt.tight_layout()\n"
   ]
  },
  {
   "cell_type": "code",
   "execution_count": 20,
   "metadata": {
    "execution": {
     "iopub.execute_input": "2020-08-28T05:51:53.548080Z",
     "iopub.status.busy": "2020-08-28T05:51:53.547420Z",
     "iopub.status.idle": "2020-08-28T05:51:53.552928Z",
     "shell.execute_reply": "2020-08-28T05:51:53.553437Z"
    },
    "papermill": {
     "duration": 0.040445,
     "end_time": "2020-08-28T05:51:53.554355",
     "exception": false,
     "start_time": "2020-08-28T05:51:53.513910",
     "status": "completed"
    },
    "tags": []
   },
   "outputs": [
    {
     "name": "stdout",
     "output_type": "stream",
     "text": [
      "                                   states   Cases  Deaths  PCases  PDeaths  Cases (+)  Deaths (+)  Fatality Rate\n",
      "                              Maharashtra  733568   23444  733568    23444          0           0           3.20\n",
      "                               Tamil Nadu  403242    6948  403242     6948          0           0           1.72\n",
      "                           Andhra Pradesh  393090    3633  393090     3633          0           0           0.92\n",
      "                                Karnataka  309792    5232  309792     5232          0           0           1.69\n",
      "                            Uttar Pradesh  208419    3217  208419     3217          0           0           1.54\n",
      "                                    Delhi  167604    4369  167604     4369          0           0           2.61\n",
      "                              West Bengal  150772    3017  150772     3017          0           0           2.00\n",
      "                                    Bihar  128850     662  128850      662          0           0           0.51\n",
      "                                Telangana  117425     799  114483      788       2942          11           0.68\n",
      "                                    Assam   98808     278   98808      278          0           0           0.28\n",
      "                                   Odisha   94668     501   90986      501       3682           0           0.53\n",
      "                                  Gujarat   91329    2962   91329     2962          0           0           3.24\n",
      "                                Rajasthan   76572    1012   76015     1005        557           7           1.32\n",
      "                                   Kerala   66761     268   66761      268          0           0           0.40\n",
      "                                  Haryana   59298     646   59298      646          0           0           1.09\n",
      "                           Madhya Pradesh   58181    1306   58181     1306          0           0           2.24\n",
      "                                   Punjab   47836    1256   47836     1256          0           0           2.63\n",
      "                        Jammu and Kashmir   35135     671   35135      671          0           0           1.91\n",
      "                                Jharkhand   34676     377   34676      377          0           0           1.09\n",
      "                             Chhattisgarh   25988     245   25988      245          0           0           0.94\n",
      "                              Uttarakhand   17277     228   17277      228          0           0           1.32\n",
      "                                      Goa   15483     171   15483      171          0           0           1.10\n",
      "                               Puducherry   12434     190   12434      190          0           0           1.53\n",
      "                                  Tripura   10433      89    9924       85        509           4           0.85\n",
      "                                  Manipur    5725      25    5725       25          0           0           0.44\n",
      "                         Himachal Pradesh    5501      32    5501       32          0           0           0.58\n",
      "                                 Nagaland    3784       8    3784        8          0           0           0.21\n",
      "                        Arunachal Pradesh    3633       5    3633        5          0           0           0.14\n",
      "                               Chandigarh    3564      43    3564       43          0           0           1.21\n",
      "              Andaman and Nicobar Islands    3018      42    3018       42          0           0           1.39\n",
      "                                   Ladakh    2492      27    2492       27          0           0           1.08\n",
      " Dadra and Nagar Haveli and Daman and Diu    2262       2    2262        2          0           0           0.09\n",
      "                                Meghalaya    2129       8    2129        8          0           0           0.38\n",
      "                                   Sikkim    1542       3    1542        3          0           0           0.19\n",
      "                                  Mizoram    1003       0     974        0         29           0           0.00\n",
      "                              Lakshadweep       0       0       0        0          0           0            NaN\n"
     ]
    }
   ],
   "source": [
    "#hide_input\n",
    "print(df_table.to_string(index=False))"
   ]
  },
  {
   "cell_type": "code",
   "execution_count": null,
   "metadata": {
    "papermill": {
     "duration": 0.023475,
     "end_time": "2020-08-28T05:51:53.600526",
     "exception": false,
     "start_time": "2020-08-28T05:51:53.577051",
     "status": "completed"
    },
    "tags": []
   },
   "outputs": [],
   "source": []
  },
  {
   "cell_type": "code",
   "execution_count": null,
   "metadata": {
    "papermill": {
     "duration": 0.022844,
     "end_time": "2020-08-28T05:51:53.647083",
     "exception": false,
     "start_time": "2020-08-28T05:51:53.624239",
     "status": "completed"
    },
    "tags": []
   },
   "outputs": [],
   "source": []
  }
 ],
 "metadata": {
  "kernelspec": {
   "display_name": "Python 3",
   "language": "python",
   "name": "python3"
  },
  "language_info": {
   "codemirror_mode": {
    "name": "ipython",
    "version": 3
   },
   "file_extension": ".py",
   "mimetype": "text/x-python",
   "name": "python",
   "nbconvert_exporter": "python",
   "pygments_lexer": "ipython3",
   "version": "3.6.11"
  },
  "papermill": {
   "duration": 10.342189,
   "end_time": "2020-08-28T05:51:54.079410",
   "environment_variables": {},
   "exception": null,
   "input_path": "latest.ipynb",
   "output_path": "latest.ipynb",
   "parameters": {},
   "start_time": "2020-08-28T05:51:43.737221",
   "version": "2.1.2"
  }
 },
 "nbformat": 4,
 "nbformat_minor": 4
}