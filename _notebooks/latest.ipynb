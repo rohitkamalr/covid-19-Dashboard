{
 "cells": [
  {
   "cell_type": "markdown",
   "metadata": {
    "papermill": {
     "duration": 0.021672,
     "end_time": "2021-01-15T14:21:44.552502",
     "exception": false,
     "start_time": "2021-01-15T14:21:44.530830",
     "status": "completed"
    },
    "tags": []
   },
   "source": [
    "# Latest COVID-19 India Matplotlib Overview"
   ]
  },
  {
   "cell_type": "code",
   "execution_count": 1,
   "metadata": {
    "execution": {
     "iopub.execute_input": "2021-01-15T14:21:44.598609Z",
     "iopub.status.busy": "2021-01-15T14:21:44.597924Z",
     "iopub.status.idle": "2021-01-15T14:21:45.254600Z",
     "shell.execute_reply": "2021-01-15T14:21:45.253252Z"
    },
    "papermill": {
     "duration": 0.68524,
     "end_time": "2021-01-15T14:21:45.254791",
     "exception": false,
     "start_time": "2021-01-15T14:21:44.569551",
     "status": "completed"
    },
    "tags": []
   },
   "outputs": [],
   "source": [
    "#hide\n",
    "import pandas as pd\n",
    "import numpy as np\n",
    "import requests\n",
    "import json\n",
    "import matplotlib.pyplot as plt\n",
    "import matplotlib.dates as mdates\n",
    "import matplotlib as mpl\n",
    "from IPython.core.display import display,HTML\n",
    "%matplotlib inline\n",
    "from datetime import date"
   ]
  },
  {
   "cell_type": "code",
   "execution_count": 2,
   "metadata": {
    "execution": {
     "iopub.execute_input": "2021-01-15T14:21:45.292964Z",
     "iopub.status.busy": "2021-01-15T14:21:45.292218Z",
     "iopub.status.idle": "2021-01-15T14:21:46.593536Z",
     "shell.execute_reply": "2021-01-15T14:21:46.592713Z"
    },
    "papermill": {
     "duration": 1.32328,
     "end_time": "2021-01-15T14:21:46.593726",
     "exception": false,
     "start_time": "2021-01-15T14:21:45.270446",
     "status": "completed"
    },
    "tags": []
   },
   "outputs": [],
   "source": [
    "#hide\n",
    "df  = pd.read_csv('https://api.covid19india.org/csv/latest/states.csv')\n",
    "df = df[['Date','State','Confirmed','Deceased']]\n",
    "df = df.rename(columns={'Confirmed':'Cases', \"Deceased\":'Deaths'})\n",
    "df_cases = df[[\"Date\",'State','Cases']]\n",
    "df_deaths = df[['Date','State','Deaths']]\n",
    "df_cases1 = df_cases.groupby('Date')\n",
    "df_deaths1= df_deaths.groupby('Date')"
   ]
  },
  {
   "cell_type": "code",
   "execution_count": 3,
   "metadata": {
    "execution": {
     "iopub.execute_input": "2021-01-15T14:21:46.639323Z",
     "iopub.status.busy": "2021-01-15T14:21:46.638733Z",
     "iopub.status.idle": "2021-01-15T14:21:46.658414Z",
     "shell.execute_reply": "2021-01-15T14:21:46.657908Z"
    },
    "papermill": {
     "duration": 0.046647,
     "end_time": "2021-01-15T14:21:46.658730",
     "exception": false,
     "start_time": "2021-01-15T14:21:46.612083",
     "status": "completed"
    },
    "tags": []
   },
   "outputs": [],
   "source": [
    "#hide\n",
    "df_snap = pd.read_csv('data/SnapshotCases-28-July.csv')\n",
    "arr_states = df_snap['states'].unique()\n",
    "arr_dates = df['Date'].unique()\n",
    "df_snap = df_snap.set_index('states')"
   ]
  },
  {
   "cell_type": "code",
   "execution_count": 4,
   "metadata": {
    "execution": {
     "iopub.execute_input": "2021-01-15T14:21:46.696793Z",
     "iopub.status.busy": "2021-01-15T14:21:46.696203Z",
     "iopub.status.idle": "2021-01-15T14:21:46.701076Z",
     "shell.execute_reply": "2021-01-15T14:21:46.701576Z"
    },
    "papermill": {
     "duration": 0.027791,
     "end_time": "2021-01-15T14:21:46.701720",
     "exception": false,
     "start_time": "2021-01-15T14:21:46.673929",
     "status": "completed"
    },
    "tags": []
   },
   "outputs": [
    {
     "data": {
      "text/plain": [
       "array(['Andaman and Nicobar Islands', 'Andhra Pradesh',\n",
       "       'Arunachal Pradesh', 'Assam', 'Bihar', 'Chandigarh',\n",
       "       'Dadra and Nagar Haveli and Daman and Diu', 'Delhi', 'Goa',\n",
       "       'Gujarat', 'Haryana', 'Himachal Pradesh', 'Jammu and Kashmir',\n",
       "       'Jharkhand', 'Karnataka', 'Kerala', 'Lakshadweep',\n",
       "       'Madhya Pradesh', 'Maharashtra', 'Manipur', 'Meghalaya', 'Mizoram',\n",
       "       'Nagaland', 'Odisha', 'Puducherry', 'Punjab', 'Rajasthan',\n",
       "       'Sikkim', 'Tamil Nadu', 'Telangana', 'Tripura', 'Uttar Pradesh',\n",
       "       'West Bengal', 'Chhattisgarh', 'Ladakh', 'Uttarakhand'],\n",
       "      dtype=object)"
      ]
     },
     "execution_count": 4,
     "metadata": {},
     "output_type": "execute_result"
    }
   ],
   "source": [
    "#hide\n",
    "arr_states[-9] = 'Puducherry'\n",
    "arr_states[-10] = 'Odisha'\n",
    "arr_states[6] = 'Dadra and Nagar Haveli and Daman and Diu'\n",
    "arr_states = np.append(arr_states,np.array(['Chhattisgarh','Ladakh','Uttarakhand']))\n",
    "arr_states"
   ]
  },
  {
   "cell_type": "code",
   "execution_count": 5,
   "metadata": {
    "execution": {
     "iopub.execute_input": "2021-01-15T14:21:46.745004Z",
     "iopub.status.busy": "2021-01-15T14:21:46.744413Z",
     "iopub.status.idle": "2021-01-15T14:21:46.753009Z",
     "shell.execute_reply": "2021-01-15T14:21:46.752516Z"
    },
    "papermill": {
     "duration": 0.035823,
     "end_time": "2021-01-15T14:21:46.753134",
     "exception": false,
     "start_time": "2021-01-15T14:21:46.717311",
     "status": "completed"
    },
    "tags": []
   },
   "outputs": [],
   "source": [
    "#hide\n",
    "dates = []\n",
    "for i in arr_dates:\n",
    "    if i>='2020-07-01':\n",
    "        dates.append(i)\n",
    "dict = {'states':dates}\n",
    "for i in arr_states:\n",
    "    dict[i] = [0]*len(dates)\n",
    "dft_cases = pd.DataFrame(dict)\n",
    "dft_deaths = pd.DataFrame(dict)\n"
   ]
  },
  {
   "cell_type": "code",
   "execution_count": 6,
   "metadata": {
    "execution": {
     "iopub.execute_input": "2021-01-15T14:21:46.793165Z",
     "iopub.status.busy": "2021-01-15T14:21:46.792552Z",
     "iopub.status.idle": "2021-01-15T14:21:49.812031Z",
     "shell.execute_reply": "2021-01-15T14:21:49.811154Z"
    },
    "papermill": {
     "duration": 3.043398,
     "end_time": "2021-01-15T14:21:49.812256",
     "exception": false,
     "start_time": "2021-01-15T14:21:46.768858",
     "status": "completed"
    },
    "tags": []
   },
   "outputs": [],
   "source": [
    "#hide\n",
    "for i in range(len(dates)):\n",
    "    df1_deaths = df_deaths1.get_group(dates[i])\n",
    "    for j in range(len(df1_deaths.index)):\n",
    "        if df1_deaths.iloc[j,1] in arr_states:\n",
    "            dft_deaths.loc[i,df1_deaths.iloc[j,1]] = df1_deaths.iloc[j,2]\n",
    "dft_deaths = dft_deaths.set_index('states')"
   ]
  },
  {
   "cell_type": "code",
   "execution_count": 7,
   "metadata": {
    "execution": {
     "iopub.execute_input": "2021-01-15T14:21:49.855900Z",
     "iopub.status.busy": "2021-01-15T14:21:49.855306Z",
     "iopub.status.idle": "2021-01-15T14:21:52.793105Z",
     "shell.execute_reply": "2021-01-15T14:21:52.792017Z"
    },
    "papermill": {
     "duration": 2.963273,
     "end_time": "2021-01-15T14:21:52.793266",
     "exception": false,
     "start_time": "2021-01-15T14:21:49.829993",
     "status": "completed"
    },
    "tags": []
   },
   "outputs": [],
   "source": [
    "#hide\n",
    "for i in range(len(dates)):\n",
    "    df1_cases = df_cases1.get_group(dates[i])\n",
    "    for j in range(len(df1_cases.index)):\n",
    "        if df1_cases.iloc[j,1] in arr_states:\n",
    "            dft_cases.loc[i,df1_cases.iloc[j,1]] = df1_cases.iloc[j,2]\n",
    "dft_cases = dft_cases.set_index('states')"
   ]
  },
  {
   "cell_type": "code",
   "execution_count": 8,
   "metadata": {
    "execution": {
     "iopub.execute_input": "2021-01-15T14:21:52.831098Z",
     "iopub.status.busy": "2021-01-15T14:21:52.830476Z",
     "iopub.status.idle": "2021-01-15T14:21:52.832016Z",
     "shell.execute_reply": "2021-01-15T14:21:52.832489Z"
    },
    "papermill": {
     "duration": 0.023346,
     "end_time": "2021-01-15T14:21:52.832645",
     "exception": false,
     "start_time": "2021-01-15T14:21:52.809299",
     "status": "completed"
    },
    "tags": []
   },
   "outputs": [],
   "source": [
    "#hide\n",
    "dft_cases = dft_cases.T\n",
    "dft_deaths = dft_deaths.T\n",
    "dt_today = dates[-1]\n",
    "dt_yday = dates[-2]"
   ]
  },
  {
   "cell_type": "code",
   "execution_count": 9,
   "metadata": {
    "execution": {
     "iopub.execute_input": "2021-01-15T14:21:52.875392Z",
     "iopub.status.busy": "2021-01-15T14:21:52.871960Z",
     "iopub.status.idle": "2021-01-15T14:21:52.878386Z",
     "shell.execute_reply": "2021-01-15T14:21:52.877855Z"
    },
    "papermill": {
     "duration": 0.029343,
     "end_time": "2021-01-15T14:21:52.878524",
     "exception": false,
     "start_time": "2021-01-15T14:21:52.849181",
     "status": "completed"
    },
    "tags": []
   },
   "outputs": [],
   "source": [
    "#hide\n",
    "dft_cases = dft_cases.reset_index()\n",
    "dft_deaths = dft_deaths.reset_index()\n",
    "dft_cases = dft_cases.rename(columns = {'index':'state'})\n",
    "dft_deaths = dft_deaths.rename(columns = {'index':'state'})"
   ]
  },
  {
   "cell_type": "code",
   "execution_count": 10,
   "metadata": {
    "execution": {
     "iopub.execute_input": "2021-01-15T14:21:52.925111Z",
     "iopub.status.busy": "2021-01-15T14:21:52.924469Z",
     "iopub.status.idle": "2021-01-15T14:21:52.926914Z",
     "shell.execute_reply": "2021-01-15T14:21:52.926317Z"
    },
    "papermill": {
     "duration": 0.032246,
     "end_time": "2021-01-15T14:21:52.927050",
     "exception": false,
     "start_time": "2021-01-15T14:21:52.894804",
     "status": "completed"
    },
    "tags": []
   },
   "outputs": [],
   "source": [
    "#hide\n",
    "dfc_cases = dft_cases.groupby('state')[dt_today].sum()\n",
    "dfc_deaths = dft_deaths.groupby('state')[dt_today].sum()\n",
    "dfp_cases = dft_cases.groupby('state')[dt_yday].sum()\n",
    "dfp_deaths = dft_deaths.groupby('state')[dt_yday].sum()"
   ]
  },
  {
   "cell_type": "code",
   "execution_count": 11,
   "metadata": {
    "execution": {
     "iopub.execute_input": "2021-01-15T14:21:52.968973Z",
     "iopub.status.busy": "2021-01-15T14:21:52.968347Z",
     "iopub.status.idle": "2021-01-15T14:21:52.981589Z",
     "shell.execute_reply": "2021-01-15T14:21:52.981052Z"
    },
    "papermill": {
     "duration": 0.038643,
     "end_time": "2021-01-15T14:21:52.981725",
     "exception": false,
     "start_time": "2021-01-15T14:21:52.943082",
     "status": "completed"
    },
    "tags": []
   },
   "outputs": [
    {
     "data": {
      "text/html": [
       "<div>\n",
       "<style scoped>\n",
       "    .dataframe tbody tr th:only-of-type {\n",
       "        vertical-align: middle;\n",
       "    }\n",
       "\n",
       "    .dataframe tbody tr th {\n",
       "        vertical-align: top;\n",
       "    }\n",
       "\n",
       "    .dataframe thead th {\n",
       "        text-align: right;\n",
       "    }\n",
       "</style>\n",
       "<table border=\"1\" class=\"dataframe\">\n",
       "  <thead>\n",
       "    <tr style=\"text-align: right;\">\n",
       "      <th></th>\n",
       "      <th>states</th>\n",
       "      <th>Cases</th>\n",
       "      <th>Deaths</th>\n",
       "      <th>PCases</th>\n",
       "      <th>PDeaths</th>\n",
       "    </tr>\n",
       "  </thead>\n",
       "  <tbody>\n",
       "    <tr>\n",
       "      <th>0</th>\n",
       "      <td>Maharashtra</td>\n",
       "      <td>1981623</td>\n",
       "      <td>50291</td>\n",
       "      <td>1981623</td>\n",
       "      <td>50291</td>\n",
       "    </tr>\n",
       "    <tr>\n",
       "      <th>1</th>\n",
       "      <td>Karnataka</td>\n",
       "      <td>929960</td>\n",
       "      <td>12155</td>\n",
       "      <td>929960</td>\n",
       "      <td>12155</td>\n",
       "    </tr>\n",
       "    <tr>\n",
       "      <th>2</th>\n",
       "      <td>Andhra Pradesh</td>\n",
       "      <td>885616</td>\n",
       "      <td>7138</td>\n",
       "      <td>885616</td>\n",
       "      <td>7138</td>\n",
       "    </tr>\n",
       "    <tr>\n",
       "      <th>3</th>\n",
       "      <td>Kerala</td>\n",
       "      <td>836884</td>\n",
       "      <td>3416</td>\n",
       "      <td>831260</td>\n",
       "      <td>3393</td>\n",
       "    </tr>\n",
       "    <tr>\n",
       "      <th>4</th>\n",
       "      <td>Tamil Nadu</td>\n",
       "      <td>828952</td>\n",
       "      <td>12246</td>\n",
       "      <td>828952</td>\n",
       "      <td>12246</td>\n",
       "    </tr>\n",
       "  </tbody>\n",
       "</table>\n",
       "</div>"
      ],
      "text/plain": [
       "           states    Cases  Deaths   PCases  PDeaths\n",
       "0     Maharashtra  1981623   50291  1981623    50291\n",
       "1       Karnataka   929960   12155   929960    12155\n",
       "2  Andhra Pradesh   885616    7138   885616     7138\n",
       "3          Kerala   836884    3416   831260     3393\n",
       "4      Tamil Nadu   828952   12246   828952    12246"
      ]
     },
     "execution_count": 11,
     "metadata": {},
     "output_type": "execute_result"
    }
   ],
   "source": [
    "#hide\n",
    "df_table = pd.DataFrame({'states': dfc_cases.index, 'Cases': dfc_cases.values, 'Deaths': dfc_deaths.values, 'PCases': dfp_cases.values, 'PDeaths': dfp_deaths.values}).set_index('states')\n",
    "df_table = df_table.sort_values(by = ['Cases','Deaths'], ascending = [False, False])\n",
    "df_table = df_table.reset_index()\n",
    "df_table.head()"
   ]
  },
  {
   "cell_type": "code",
   "execution_count": 12,
   "metadata": {
    "execution": {
     "iopub.execute_input": "2021-01-15T14:21:53.021720Z",
     "iopub.status.busy": "2021-01-15T14:21:53.020989Z",
     "iopub.status.idle": "2021-01-15T14:21:53.029436Z",
     "shell.execute_reply": "2021-01-15T14:21:53.028836Z"
    },
    "papermill": {
     "duration": 0.031709,
     "end_time": "2021-01-15T14:21:53.029567",
     "exception": false,
     "start_time": "2021-01-15T14:21:52.997858",
     "status": "completed"
    },
    "tags": []
   },
   "outputs": [],
   "source": [
    "#hide\n",
    "for c in 'Cases, Deaths'.split(', '):\n",
    "    df_table[f'{c} (+)'] = (df_table[c] - df_table[f'P{c}']).clip(0)\n",
    "df_table['Fatality Rate'] = (100* df_table['Deaths']/ df_table['Cases']).round(2)"
   ]
  },
  {
   "cell_type": "code",
   "execution_count": 13,
   "metadata": {
    "execution": {
     "iopub.execute_input": "2021-01-15T14:21:53.076734Z",
     "iopub.status.busy": "2021-01-15T14:21:53.076085Z",
     "iopub.status.idle": "2021-01-15T14:21:53.078427Z",
     "shell.execute_reply": "2021-01-15T14:21:53.078999Z"
    },
    "papermill": {
     "duration": 0.033593,
     "end_time": "2021-01-15T14:21:53.079169",
     "exception": false,
     "start_time": "2021-01-15T14:21:53.045576",
     "status": "completed"
    },
    "tags": []
   },
   "outputs": [
    {
     "data": {
      "text/html": [
       "<div>\n",
       "<style scoped>\n",
       "    .dataframe tbody tr th:only-of-type {\n",
       "        vertical-align: middle;\n",
       "    }\n",
       "\n",
       "    .dataframe tbody tr th {\n",
       "        vertical-align: top;\n",
       "    }\n",
       "\n",
       "    .dataframe thead th {\n",
       "        text-align: right;\n",
       "    }\n",
       "</style>\n",
       "<table border=\"1\" class=\"dataframe\">\n",
       "  <thead>\n",
       "    <tr style=\"text-align: right;\">\n",
       "      <th></th>\n",
       "      <th>states</th>\n",
       "      <th>Cases</th>\n",
       "      <th>Deaths</th>\n",
       "      <th>PCases</th>\n",
       "      <th>PDeaths</th>\n",
       "      <th>Cases (+)</th>\n",
       "      <th>Deaths (+)</th>\n",
       "      <th>Fatality Rate</th>\n",
       "    </tr>\n",
       "  </thead>\n",
       "  <tbody>\n",
       "    <tr>\n",
       "      <th>0</th>\n",
       "      <td>Maharashtra</td>\n",
       "      <td>1981623</td>\n",
       "      <td>50291</td>\n",
       "      <td>1981623</td>\n",
       "      <td>50291</td>\n",
       "      <td>0</td>\n",
       "      <td>0</td>\n",
       "      <td>2.54</td>\n",
       "    </tr>\n",
       "    <tr>\n",
       "      <th>1</th>\n",
       "      <td>Karnataka</td>\n",
       "      <td>929960</td>\n",
       "      <td>12155</td>\n",
       "      <td>929960</td>\n",
       "      <td>12155</td>\n",
       "      <td>0</td>\n",
       "      <td>0</td>\n",
       "      <td>1.31</td>\n",
       "    </tr>\n",
       "    <tr>\n",
       "      <th>2</th>\n",
       "      <td>Andhra Pradesh</td>\n",
       "      <td>885616</td>\n",
       "      <td>7138</td>\n",
       "      <td>885616</td>\n",
       "      <td>7138</td>\n",
       "      <td>0</td>\n",
       "      <td>0</td>\n",
       "      <td>0.81</td>\n",
       "    </tr>\n",
       "    <tr>\n",
       "      <th>3</th>\n",
       "      <td>Kerala</td>\n",
       "      <td>836884</td>\n",
       "      <td>3416</td>\n",
       "      <td>831260</td>\n",
       "      <td>3393</td>\n",
       "      <td>5624</td>\n",
       "      <td>23</td>\n",
       "      <td>0.41</td>\n",
       "    </tr>\n",
       "    <tr>\n",
       "      <th>4</th>\n",
       "      <td>Tamil Nadu</td>\n",
       "      <td>828952</td>\n",
       "      <td>12246</td>\n",
       "      <td>828952</td>\n",
       "      <td>12246</td>\n",
       "      <td>0</td>\n",
       "      <td>0</td>\n",
       "      <td>1.48</td>\n",
       "    </tr>\n",
       "  </tbody>\n",
       "</table>\n",
       "</div>"
      ],
      "text/plain": [
       "           states    Cases  Deaths   PCases  PDeaths  Cases (+)  Deaths (+)  \\\n",
       "0     Maharashtra  1981623   50291  1981623    50291          0           0   \n",
       "1       Karnataka   929960   12155   929960    12155          0           0   \n",
       "2  Andhra Pradesh   885616    7138   885616     7138          0           0   \n",
       "3          Kerala   836884    3416   831260     3393       5624          23   \n",
       "4      Tamil Nadu   828952   12246   828952    12246          0           0   \n",
       "\n",
       "   Fatality Rate  \n",
       "0           2.54  \n",
       "1           1.31  \n",
       "2           0.81  \n",
       "3           0.41  \n",
       "4           1.48  "
      ]
     },
     "execution_count": 13,
     "metadata": {},
     "output_type": "execute_result"
    }
   ],
   "source": [
    "#hide\n",
    "df_table.head()"
   ]
  },
  {
   "cell_type": "code",
   "execution_count": 14,
   "metadata": {
    "execution": {
     "iopub.execute_input": "2021-01-15T14:21:53.121695Z",
     "iopub.status.busy": "2021-01-15T14:21:53.121044Z",
     "iopub.status.idle": "2021-01-15T14:21:53.142688Z",
     "shell.execute_reply": "2021-01-15T14:21:53.142142Z"
    },
    "papermill": {
     "duration": 0.04713,
     "end_time": "2021-01-15T14:21:53.142830",
     "exception": false,
     "start_time": "2021-01-15T14:21:53.095700",
     "status": "completed"
    },
    "tags": []
   },
   "outputs": [
    {
     "data": {
      "text/plain": [
       "{'updated': '2021-01-15',\n",
       " 'since': '2021-01-14',\n",
       " 'Cases': 10534548,\n",
       " 'PCases': 10528508,\n",
       " 'Deaths': 151981,\n",
       " 'PDeaths': 151954,\n",
       " 'Cases (+)': 6040,\n",
       " 'Deaths (+)': 27}"
      ]
     },
     "execution_count": 14,
     "metadata": {},
     "output_type": "execute_result"
    }
   ],
   "source": [
    "#hide\n",
    "summary = {'updated':dates[-1], 'since':dates[-2]}\n",
    "list_names = ['Cases', 'PCases', 'Deaths', 'PDeaths', 'Cases (+)', 'Deaths (+)']\n",
    "for name in list_names:\n",
    "    summary[name] = df_table.sum()[name]\n",
    "summary"
   ]
  },
  {
   "cell_type": "code",
   "execution_count": 15,
   "metadata": {
    "execution": {
     "iopub.execute_input": "2021-01-15T14:21:53.192366Z",
     "iopub.status.busy": "2021-01-15T14:21:53.191638Z",
     "iopub.status.idle": "2021-01-15T14:21:53.194300Z",
     "shell.execute_reply": "2021-01-15T14:21:53.193779Z"
    },
    "papermill": {
     "duration": 0.024227,
     "end_time": "2021-01-15T14:21:53.194435",
     "exception": false,
     "start_time": "2021-01-15T14:21:53.170208",
     "status": "completed"
    },
    "tags": []
   },
   "outputs": [],
   "source": [
    "#hide\n",
    "overview = '''\n",
    "<!-- #######  HTML!! #########-->\n",
    "<h1 style=\"color: #5e9ca0; text-align: center;\">India</h1>\n",
    "<p style=\"text-align: center;\">Last update: <strong>{update}</strong></p>\n",
    "<p style=\"text-align: center;\">Confirmed cases:</p>\n",
    "<p style=\"text-align: center;font-size:24px;\">{cases} (<span style=\"color: #ff0000;\">+{new}</span>)</p>\n",
    "<p style=\"text-align: center;\">Confirmed deaths:</p>\n",
    "<p style=\"text-align: center;font-size:24px;\">{deaths} (<span style=\"color: #ff0000;\">+{dnew}</span>)</p>\n",
    "'''"
   ]
  },
  {
   "cell_type": "code",
   "execution_count": 16,
   "metadata": {
    "execution": {
     "iopub.execute_input": "2021-01-15T14:21:53.235418Z",
     "iopub.status.busy": "2021-01-15T14:21:53.234813Z",
     "iopub.status.idle": "2021-01-15T14:21:53.238308Z",
     "shell.execute_reply": "2021-01-15T14:21:53.237791Z"
    },
    "papermill": {
     "duration": 0.026679,
     "end_time": "2021-01-15T14:21:53.238445",
     "exception": false,
     "start_time": "2021-01-15T14:21:53.211766",
     "status": "completed"
    },
    "tags": []
   },
   "outputs": [
    {
     "data": {
      "text/html": [
       "\n",
       "<!-- #######  HTML!! #########-->\n",
       "<h1 style=\"color: #5e9ca0; text-align: center;\">India</h1>\n",
       "<p style=\"text-align: center;\">Last update: <strong>2021-01-15</strong></p>\n",
       "<p style=\"text-align: center;\">Confirmed cases:</p>\n",
       "<p style=\"text-align: center;font-size:24px;\">10534548 (<span style=\"color: #ff0000;\">+6040</span>)</p>\n",
       "<p style=\"text-align: center;\">Confirmed deaths:</p>\n",
       "<p style=\"text-align: center;font-size:24px;\">151981 (<span style=\"color: #ff0000;\">+27</span>)</p>\n"
      ],
      "text/plain": [
       "<IPython.core.display.HTML object>"
      ]
     },
     "metadata": {},
     "output_type": "display_data"
    }
   ],
   "source": [
    "#hide_input\n",
    "update = summary['updated']\n",
    "cases = summary['Cases']\n",
    "new = summary['Cases (+)']\n",
    "deaths = summary['Deaths']\n",
    "dnew = summary['Deaths (+)']\n",
    "\n",
    "html = HTML(overview.format(update=update, cases=cases,new=new,deaths=deaths,dnew=dnew))\n",
    "\n",
    "display(html)"
   ]
  },
  {
   "cell_type": "code",
   "execution_count": 17,
   "metadata": {
    "execution": {
     "iopub.execute_input": "2021-01-15T14:21:53.281659Z",
     "iopub.status.busy": "2021-01-15T14:21:53.281017Z",
     "iopub.status.idle": "2021-01-15T14:21:53.288369Z",
     "shell.execute_reply": "2021-01-15T14:21:53.288863Z"
    },
    "papermill": {
     "duration": 0.032914,
     "end_time": "2021-01-15T14:21:53.289024",
     "exception": false,
     "start_time": "2021-01-15T14:21:53.256110",
     "status": "completed"
    },
    "tags": []
   },
   "outputs": [],
   "source": [
    "#hide\n",
    "dt_cols = list(dft_cases.columns[1:])\n",
    "dft_ct_new_cases = dft_cases.groupby('state')[dt_cols].sum().diff(axis=1).fillna(0).astype(int)\n",
    "dft_ct_new_cases.sort_values(by = dates[-1], ascending = False,inplace = True)"
   ]
  },
  {
   "cell_type": "code",
   "execution_count": 18,
   "metadata": {
    "execution": {
     "iopub.execute_input": "2021-01-15T14:21:53.334639Z",
     "iopub.status.busy": "2021-01-15T14:21:53.334042Z",
     "iopub.status.idle": "2021-01-15T14:21:53.348852Z",
     "shell.execute_reply": "2021-01-15T14:21:53.348146Z"
    },
    "papermill": {
     "duration": 0.042255,
     "end_time": "2021-01-15T14:21:53.349003",
     "exception": false,
     "start_time": "2021-01-15T14:21:53.306748",
     "status": "completed"
    },
    "tags": []
   },
   "outputs": [
    {
     "data": {
      "text/html": [
       "<div>\n",
       "<style scoped>\n",
       "    .dataframe tbody tr th:only-of-type {\n",
       "        vertical-align: middle;\n",
       "    }\n",
       "\n",
       "    .dataframe tbody tr th {\n",
       "        vertical-align: top;\n",
       "    }\n",
       "\n",
       "    .dataframe thead th {\n",
       "        text-align: right;\n",
       "    }\n",
       "</style>\n",
       "<table border=\"1\" class=\"dataframe\">\n",
       "  <thead>\n",
       "    <tr style=\"text-align: right;\">\n",
       "      <th>states</th>\n",
       "      <th>2020-07-01</th>\n",
       "      <th>2020-07-02</th>\n",
       "      <th>2020-07-03</th>\n",
       "      <th>2020-07-04</th>\n",
       "      <th>2020-07-05</th>\n",
       "      <th>2020-07-06</th>\n",
       "      <th>2020-07-07</th>\n",
       "      <th>2020-07-08</th>\n",
       "      <th>2020-07-09</th>\n",
       "      <th>2020-07-10</th>\n",
       "      <th>...</th>\n",
       "      <th>2021-01-06</th>\n",
       "      <th>2021-01-07</th>\n",
       "      <th>2021-01-08</th>\n",
       "      <th>2021-01-09</th>\n",
       "      <th>2021-01-10</th>\n",
       "      <th>2021-01-11</th>\n",
       "      <th>2021-01-12</th>\n",
       "      <th>2021-01-13</th>\n",
       "      <th>2021-01-14</th>\n",
       "      <th>2021-01-15</th>\n",
       "    </tr>\n",
       "    <tr>\n",
       "      <th>state</th>\n",
       "      <th></th>\n",
       "      <th></th>\n",
       "      <th></th>\n",
       "      <th></th>\n",
       "      <th></th>\n",
       "      <th></th>\n",
       "      <th></th>\n",
       "      <th></th>\n",
       "      <th></th>\n",
       "      <th></th>\n",
       "      <th></th>\n",
       "      <th></th>\n",
       "      <th></th>\n",
       "      <th></th>\n",
       "      <th></th>\n",
       "      <th></th>\n",
       "      <th></th>\n",
       "      <th></th>\n",
       "      <th></th>\n",
       "      <th></th>\n",
       "      <th></th>\n",
       "    </tr>\n",
       "  </thead>\n",
       "  <tbody>\n",
       "    <tr>\n",
       "      <th>Kerala</th>\n",
       "      <td>0</td>\n",
       "      <td>160</td>\n",
       "      <td>211</td>\n",
       "      <td>240</td>\n",
       "      <td>225</td>\n",
       "      <td>193</td>\n",
       "      <td>272</td>\n",
       "      <td>301</td>\n",
       "      <td>339</td>\n",
       "      <td>416</td>\n",
       "      <td>...</td>\n",
       "      <td>6394</td>\n",
       "      <td>5051</td>\n",
       "      <td>5142</td>\n",
       "      <td>5528</td>\n",
       "      <td>4545</td>\n",
       "      <td>3110</td>\n",
       "      <td>5507</td>\n",
       "      <td>6004</td>\n",
       "      <td>5490</td>\n",
       "      <td>5624</td>\n",
       "    </tr>\n",
       "    <tr>\n",
       "      <th>Telangana</th>\n",
       "      <td>0</td>\n",
       "      <td>1213</td>\n",
       "      <td>1892</td>\n",
       "      <td>1850</td>\n",
       "      <td>1590</td>\n",
       "      <td>1831</td>\n",
       "      <td>1879</td>\n",
       "      <td>1924</td>\n",
       "      <td>1410</td>\n",
       "      <td>1278</td>\n",
       "      <td>...</td>\n",
       "      <td>417</td>\n",
       "      <td>379</td>\n",
       "      <td>346</td>\n",
       "      <td>298</td>\n",
       "      <td>351</td>\n",
       "      <td>224</td>\n",
       "      <td>301</td>\n",
       "      <td>331</td>\n",
       "      <td>276</td>\n",
       "      <td>202</td>\n",
       "    </tr>\n",
       "    <tr>\n",
       "      <th>Odisha</th>\n",
       "      <td>0</td>\n",
       "      <td>229</td>\n",
       "      <td>561</td>\n",
       "      <td>495</td>\n",
       "      <td>469</td>\n",
       "      <td>456</td>\n",
       "      <td>571</td>\n",
       "      <td>527</td>\n",
       "      <td>577</td>\n",
       "      <td>755</td>\n",
       "      <td>...</td>\n",
       "      <td>231</td>\n",
       "      <td>230</td>\n",
       "      <td>245</td>\n",
       "      <td>206</td>\n",
       "      <td>260</td>\n",
       "      <td>244</td>\n",
       "      <td>225</td>\n",
       "      <td>210</td>\n",
       "      <td>222</td>\n",
       "      <td>186</td>\n",
       "    </tr>\n",
       "    <tr>\n",
       "      <th>Puducherry</th>\n",
       "      <td>0</td>\n",
       "      <td>63</td>\n",
       "      <td>22</td>\n",
       "      <td>80</td>\n",
       "      <td>42</td>\n",
       "      <td>65</td>\n",
       "      <td>30</td>\n",
       "      <td>110</td>\n",
       "      <td>49</td>\n",
       "      <td>72</td>\n",
       "      <td>...</td>\n",
       "      <td>34</td>\n",
       "      <td>35</td>\n",
       "      <td>20</td>\n",
       "      <td>36</td>\n",
       "      <td>30</td>\n",
       "      <td>22</td>\n",
       "      <td>18</td>\n",
       "      <td>29</td>\n",
       "      <td>43</td>\n",
       "      <td>28</td>\n",
       "    </tr>\n",
       "    <tr>\n",
       "      <th>Andaman and Nicobar Islands</th>\n",
       "      <td>0</td>\n",
       "      <td>9</td>\n",
       "      <td>7</td>\n",
       "      <td>3</td>\n",
       "      <td>6</td>\n",
       "      <td>16</td>\n",
       "      <td>6</td>\n",
       "      <td>2</td>\n",
       "      <td>7</td>\n",
       "      <td>0</td>\n",
       "      <td>...</td>\n",
       "      <td>0</td>\n",
       "      <td>9</td>\n",
       "      <td>1</td>\n",
       "      <td>0</td>\n",
       "      <td>1</td>\n",
       "      <td>3</td>\n",
       "      <td>3</td>\n",
       "      <td>3</td>\n",
       "      <td>7</td>\n",
       "      <td>0</td>\n",
       "    </tr>\n",
       "  </tbody>\n",
       "</table>\n",
       "<p>5 rows × 199 columns</p>\n",
       "</div>"
      ],
      "text/plain": [
       "states                       2020-07-01  2020-07-02  2020-07-03  2020-07-04  \\\n",
       "state                                                                         \n",
       "Kerala                                0         160         211         240   \n",
       "Telangana                             0        1213        1892        1850   \n",
       "Odisha                                0         229         561         495   \n",
       "Puducherry                            0          63          22          80   \n",
       "Andaman and Nicobar Islands           0           9           7           3   \n",
       "\n",
       "states                       2020-07-05  2020-07-06  2020-07-07  2020-07-08  \\\n",
       "state                                                                         \n",
       "Kerala                              225         193         272         301   \n",
       "Telangana                          1590        1831        1879        1924   \n",
       "Odisha                              469         456         571         527   \n",
       "Puducherry                           42          65          30         110   \n",
       "Andaman and Nicobar Islands           6          16           6           2   \n",
       "\n",
       "states                       2020-07-09  2020-07-10  ...  2021-01-06  \\\n",
       "state                                                ...               \n",
       "Kerala                              339         416  ...        6394   \n",
       "Telangana                          1410        1278  ...         417   \n",
       "Odisha                              577         755  ...         231   \n",
       "Puducherry                           49          72  ...          34   \n",
       "Andaman and Nicobar Islands           7           0  ...           0   \n",
       "\n",
       "states                       2021-01-07  2021-01-08  2021-01-09  2021-01-10  \\\n",
       "state                                                                         \n",
       "Kerala                             5051        5142        5528        4545   \n",
       "Telangana                           379         346         298         351   \n",
       "Odisha                              230         245         206         260   \n",
       "Puducherry                           35          20          36          30   \n",
       "Andaman and Nicobar Islands           9           1           0           1   \n",
       "\n",
       "states                       2021-01-11  2021-01-12  2021-01-13  2021-01-14  \\\n",
       "state                                                                         \n",
       "Kerala                             3110        5507        6004        5490   \n",
       "Telangana                           224         301         331         276   \n",
       "Odisha                              244         225         210         222   \n",
       "Puducherry                           22          18          29          43   \n",
       "Andaman and Nicobar Islands           3           3           3           7   \n",
       "\n",
       "states                       2021-01-15  \n",
       "state                                    \n",
       "Kerala                             5624  \n",
       "Telangana                           202  \n",
       "Odisha                              186  \n",
       "Puducherry                           28  \n",
       "Andaman and Nicobar Islands           0  \n",
       "\n",
       "[5 rows x 199 columns]"
      ]
     },
     "execution_count": 18,
     "metadata": {},
     "output_type": "execute_result"
    }
   ],
   "source": [
    "#hide\n",
    "dft_ct_new_cases.head()"
   ]
  },
  {
   "cell_type": "code",
   "execution_count": 19,
   "metadata": {
    "execution": {
     "iopub.execute_input": "2021-01-15T14:21:53.394930Z",
     "iopub.status.busy": "2021-01-15T14:21:53.394299Z",
     "iopub.status.idle": "2021-01-15T14:22:00.666950Z",
     "shell.execute_reply": "2021-01-15T14:22:00.667466Z"
    },
    "papermill": {
     "duration": 7.297656,
     "end_time": "2021-01-15T14:22:00.667629",
     "exception": false,
     "start_time": "2021-01-15T14:21:53.369973",
     "status": "completed"
    },
    "tags": []
   },
   "outputs": [
    {
     "data": {
      "image/png": "[encoded data removed]",
      "text/plain": [
       "<Figure size 1296x2016 with 11 Axes>"
      ]
     },
     "metadata": {
      "needs_background": "light"
     },
     "output_type": "display_data"
    }
   ],
   "source": [
    "#hide_input\n",
    "df = dft_ct_new_cases.copy()\n",
    "df.loc['Total'] = df.sum()\n",
    "n = 5\n",
    "ax = []\n",
    "fig = plt.figure(figsize = (18,28))\n",
    "gs = fig.add_gridspec(n+2, 5)\n",
    "# gs = fig.add_gridspec(2, 3)\n",
    "ax1 = fig.add_subplot(gs[0, :])\n",
    "ef = df.loc['Total'].rename_axis('date').reset_index()\n",
    "ef['date'] = ef['date'].astype('datetime64[ns]')\n",
    "ax1.bar(ef.date,ef.Total,alpha=0.3,color='#007acc')\n",
    "ax1.plot(ef.date,ef.Total , marker=\"o\", color='#007acc')\n",
    "ax1.xaxis.set_major_locator(mdates.WeekdayLocator())\n",
    "ax1.xaxis.set_major_formatter(mdates.DateFormatter('%b %d'))\n",
    "ax1.text(0.02, 0.5,'India daily case count', transform = ax1.transAxes, fontsize=25);\n",
    "ax1.spines['right'].set_visible(False)\n",
    "ax1.spines['top'].set_visible(False)\n",
    "\n",
    "ax2 = fig.add_subplot(gs[1,0])\n",
    "ef = df.loc['Maharashtra'].rename_axis('date').reset_index()\n",
    "ef['date'] = ef['date'].astype('datetime64[ns]')\n",
    "\n",
    "ax2.bar(ef.date, ef.Maharashtra,color = '#007acc',alpha=0.5)\n",
    "ax2.xaxis.set_major_locator(mdates.WeekdayLocator())\n",
    "ax2.xaxis.set_major_formatter(mdates.DateFormatter('%b %d'))\n",
    "ax2.set_xticks(ax2.get_xticks()[::3])\n",
    "maxyval = ef.Maharashtra.max()\n",
    "ax2.set_ylim([0,maxyval])\n",
    "ax2.text(0.05, 0.9,'Maharashtra', transform = ax2.transAxes, fontsize=20);\n",
    "ax2.spines['right'].set_visible(False)\n",
    "ax2.spines['top'].set_visible(False)\n",
    "\n",
    "\n",
    "ax3 = fig.add_subplot(gs[1,1])\n",
    "ef = df.loc['Tamil Nadu'].rename_axis('date').reset_index()\n",
    "ef['date'] = ef['date'].astype('datetime64[ns]')\n",
    "ax3.bar(ef.date, ef['Tamil Nadu'],color = '#007acc',alpha=0.5,)\n",
    "ax3.xaxis.set_major_locator(mdates.WeekdayLocator())\n",
    "ax3.xaxis.set_major_formatter(mdates.DateFormatter('%b %d'))\n",
    "ax3.set_xticks(ax3.get_xticks()[::3])\n",
    "ax3.text(0.05, 0.9,'Tamil Nadu', transform = ax3.transAxes, fontsize=20);\n",
    "ax3.spines['right'].set_visible(False)\n",
    "ax3.spines['top'].set_visible(False)\n",
    "\n",
    "ax5 = fig.add_subplot(gs[1,3])\n",
    "ef = df.loc['Telangana'].rename_axis('date').reset_index()\n",
    "ef['date'] = ef['date'].astype('datetime64[ns]')\n",
    "ax5.bar(ef.date, ef['Telangana'],color = '#007acc',alpha=0.5,)\n",
    "ax5.xaxis.set_major_locator(mdates.WeekdayLocator())\n",
    "ax5.xaxis.set_major_formatter(mdates.DateFormatter('%b %d'))\n",
    "ax5.set_xticks(ax5.get_xticks()[::3])\n",
    "ax5.text(0.05, 0.9,'Telangana', transform = ax5.transAxes, fontsize=20);\n",
    "ax5.spines['right'].set_visible(False)\n",
    "ax5.spines['top'].set_visible(False)\n",
    "\n",
    "ax6 = fig.add_subplot(gs[1,4])\n",
    "ef = df.loc['Andhra Pradesh'].rename_axis('date').reset_index()\n",
    "ef['date'] = ef['date'].astype('datetime64[ns]')\n",
    "ax6.bar(ef.date, ef['Andhra Pradesh'],color = '#007acc',alpha=0.5,)\n",
    "ax6.xaxis.set_major_locator(mdates.WeekdayLocator())\n",
    "ax6.xaxis.set_major_formatter(mdates.DateFormatter('%b %d'))\n",
    "ax6.set_xticks(ax6.get_xticks()[::3])\n",
    "ax6.text(0.05, 1,'Andhra Pradesh', transform = ax6.transAxes, fontsize=20);\n",
    "ax6.spines['right'].set_visible(False)\n",
    "ax6.spines['top'].set_visible(False)\n",
    "\n",
    "ax4 = fig.add_subplot(gs[1,2])\n",
    "ef = df.loc['Delhi'].rename_axis('date').reset_index()\n",
    "ef['date'] = ef['date'].astype('datetime64[ns]')\n",
    "ax4.bar(ef.date, ef.Delhi,color = '#007acc',alpha=0.5)\n",
    "ax4.set_xticks([])\n",
    "ax4.xaxis.set_major_locator(mdates.WeekdayLocator())\n",
    "ax4.xaxis.set_major_formatter(mdates.DateFormatter('%b %d'))\n",
    "ax4.set_xticks(ax4.get_xticks()[::3])\n",
    "ax4.spines['right'].set_visible(False)\n",
    "ax4.spines['top'].set_visible(False)\n",
    "\n",
    "ax4.text(0.05, 1,'Delhi', transform = ax4.transAxes, fontsize=20)\n",
    "\n",
    "for i in range(n):\n",
    "    \n",
    "    ax.append(fig.add_subplot(gs[i+2,:]))\n",
    "    ef = df.iloc[i+3].rename_axis('date').reset_index()\n",
    "    ef['date'] = ef['date'].astype('datetime64[ns]')\n",
    "    ax[i].bar(ef.date,ef.iloc[:,-1],color = '#007acc',alpha=0.3)\n",
    "    ax[i].plot(ef.date,ef.iloc[:,-1],marker='o',color='#007acc')\n",
    "    ax[i].text(0.02,0.5,f'{ef.columns.values[-1]}',transform = ax[i].transAxes, fontsize = 20);\n",
    "    ax[i].xaxis.set_major_locator(mdates.WeekdayLocator())\n",
    "    ax[i].xaxis.set_major_formatter(mdates.DateFormatter('%b %d'))\n",
    "    ax[i].set_ylim([0,7000])\n",
    "    ax[i].spines['right'].set_visible(False)\n",
    "    ax[i].spines['top'].set_visible(False)\n",
    "plt.tight_layout()\n"
   ]
  },
  {
   "cell_type": "code",
   "execution_count": 20,
   "metadata": {
    "execution": {
     "iopub.execute_input": "2021-01-15T14:22:00.724912Z",
     "iopub.status.busy": "2021-01-15T14:22:00.724159Z",
     "iopub.status.idle": "2021-01-15T14:22:00.726555Z",
     "shell.execute_reply": "2021-01-15T14:22:00.727050Z"
    },
    "papermill": {
     "duration": 0.036159,
     "end_time": "2021-01-15T14:22:00.727197",
     "exception": false,
     "start_time": "2021-01-15T14:22:00.691038",
     "status": "completed"
    },
    "tags": []
   },
   "outputs": [
    {
     "name": "stdout",
     "output_type": "stream",
     "text": [
      "                                   states    Cases  Deaths   PCases  PDeaths  Cases (+)  Deaths (+)  Fatality Rate\n",
      "                              Maharashtra  1981623   50291  1981623    50291          0           0           2.54\n",
      "                                Karnataka   929960   12155   929960    12155          0           0           1.31\n",
      "                           Andhra Pradesh   885616    7138   885616     7138          0           0           0.81\n",
      "                                   Kerala   836884    3416   831260     3393       5624          23           0.41\n",
      "                               Tamil Nadu   828952   12246   828952    12246          0           0           1.48\n",
      "                                    Delhi   631589   10722   631589    10722          0           0           1.70\n",
      "                            Uttar Pradesh   595142    8543   595142     8543          0           0           1.44\n",
      "                              West Bengal   563475   10010   563475    10010          0           0           1.78\n",
      "                                   Odisha   332949    1951   332763     1949        186           2           0.59\n",
      "                                Rajasthan   314372    2744   314372     2744          0           0           0.87\n",
      "                             Chhattisgarh   292091    3537   292091     3537          0           0           1.21\n",
      "                                Telangana   291118    1574   290916     1572        202           2           0.54\n",
      "                                  Haryana   265803    2972   265803     2972          0           0           1.12\n",
      "                                    Bihar   257943    1447   257943     1447          0           0           0.56\n",
      "                                  Gujarat   254314    4357   254314     4357          0           0           1.71\n",
      "                           Madhya Pradesh   250429    3740   250429     3740          0           0           1.49\n",
      "                                    Assam   216762    1065   216762     1065          0           0           0.49\n",
      "                                   Punjab   169950    5473   169950     5473          0           0           3.22\n",
      "                        Jammu and Kashmir   122964    1915   122964     1915          0           0           1.56\n",
      "                                Jharkhand   117384    1048   117384     1048          0           0           0.89\n",
      "                              Uttarakhand    94324    1596    94324     1596          0           0           1.69\n",
      "                         Himachal Pradesh    56751     951    56751      951          0           0           1.68\n",
      "                                      Goa    52182     752    52182      752          0           0           1.44\n",
      "                               Puducherry    38595     640    38567      640         28           0           1.66\n",
      "                                  Tripura    33317     386    33317      386          0           0           1.16\n",
      "                                  Manipur    28787     365    28787      365          0           0           1.27\n",
      "                               Chandigarh    20438     330    20438      330          0           0           1.61\n",
      "                        Arunachal Pradesh    16798      56    16798       56          0           0           0.33\n",
      "                                Meghalaya    13687     144    13687      144          0           0           1.05\n",
      "                                 Nagaland    12035      86    12035       86          0           0           0.71\n",
      "                                   Ladakh     9646     128     9646      128          0           0           1.33\n",
      "                                   Sikkim     6011     130     6011      130          0           0           2.16\n",
      "              Andaman and Nicobar Islands     4976      62     4976       62          0           0           1.25\n",
      "                                  Mizoram     4310       9     4310        9          0           0           0.21\n",
      " Dadra and Nagar Haveli and Daman and Diu     3371       2     3371        2          0           0           0.06\n",
      "                              Lakshadweep        0       0        0        0          0           0            NaN\n"
     ]
    }
   ],
   "source": [
    "#hide_input\n",
    "print(df_table.to_string(index=False))"
   ]
  },
  {
   "cell_type": "code",
   "execution_count": null,
   "metadata": {
    "papermill": {
     "duration": 0.024649,
     "end_time": "2021-01-15T14:22:00.775108",
     "exception": false,
     "start_time": "2021-01-15T14:22:00.750459",
     "status": "completed"
    },
    "tags": []
   },
   "outputs": [],
   "source": []
  },
  {
   "cell_type": "code",
   "execution_count": null,
   "metadata": {
    "papermill": {
     "duration": 0.023857,
     "end_time": "2021-01-15T14:22:00.822716",
     "exception": false,
     "start_time": "2021-01-15T14:22:00.798859",
     "status": "completed"
    },
    "tags": []
   },
   "outputs": [],
   "source": []
  }
 ],
 "metadata": {
  "kernelspec": {
   "display_name": "Python 3",
   "language": "python",
   "name": "python3"
  },
  "language_info": {
   "codemirror_mode": {
    "name": "ipython",
    "version": 3
   },
   "file_extension": ".py",
   "mimetype": "text/x-python",
   "name": "python",
   "nbconvert_exporter": "python",
   "pygments_lexer": "ipython3",
   "version": "3.6.12"
  },
  "papermill": {
   "duration": 18.170467,
   "end_time": "2021-01-15T14:22:01.556537",
   "environment_variables": {},
   "exception": null,
   "input_path": "latest.ipynb",
   "output_path": "latest.ipynb",
   "parameters": {},
   "start_time": "2021-01-15T14:21:43.386070",
   "version": "2.1.2"
  }
 },
 "nbformat": 4,
 "nbformat_minor": 4
}