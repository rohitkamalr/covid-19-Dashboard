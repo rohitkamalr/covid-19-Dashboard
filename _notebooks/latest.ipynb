{
 "cells": [
  {
   "cell_type": "markdown",
   "metadata": {
    "papermill": {
     "duration": 0.021,
     "end_time": "2020-08-10T12:51:48.718772",
     "exception": false,
     "start_time": "2020-08-10T12:51:48.697772",
     "status": "completed"
    },
    "tags": []
   },
   "source": [
    "# Latest COVID-19 India Matplotlib Overview"
   ]
  },
  {
   "cell_type": "code",
   "execution_count": 1,
   "metadata": {
    "execution": {
     "iopub.execute_input": "2020-08-10T12:51:48.756891Z",
     "iopub.status.busy": "2020-08-10T12:51:48.756236Z",
     "iopub.status.idle": "2020-08-10T12:51:49.355441Z",
     "shell.execute_reply": "2020-08-10T12:51:49.355935Z"
    },
    "papermill": {
     "duration": 0.621356,
     "end_time": "2020-08-10T12:51:49.356122",
     "exception": false,
     "start_time": "2020-08-10T12:51:48.734766",
     "status": "completed"
    },
    "tags": []
   },
   "outputs": [],
   "source": [
    "#hide\n",
    "import pandas as pd\n",
    "import numpy as np\n",
    "import requests\n",
    "import json\n",
    "import matplotlib.pyplot as plt\n",
    "import matplotlib.dates as mdates\n",
    "import matplotlib as mpl\n",
    "from IPython.core.display import display,HTML\n",
    "%matplotlib inline\n",
    "from datetime import date"
   ]
  },
  {
   "cell_type": "code",
   "execution_count": 2,
   "metadata": {
    "execution": {
     "iopub.execute_input": "2020-08-10T12:51:49.396715Z",
     "iopub.status.busy": "2020-08-10T12:51:49.395966Z",
     "iopub.status.idle": "2020-08-10T12:51:49.542299Z",
     "shell.execute_reply": "2020-08-10T12:51:49.541676Z"
    },
    "papermill": {
     "duration": 0.168619,
     "end_time": "2020-08-10T12:51:49.542446",
     "exception": false,
     "start_time": "2020-08-10T12:51:49.373827",
     "status": "completed"
    },
    "tags": []
   },
   "outputs": [],
   "source": [
    "#hide\n",
    "df  = pd.read_csv('https://api.covid19india.org/csv/latest/states.csv')\n",
    "df = df[['Date','State','Confirmed','Deceased']]\n",
    "df = df.rename(columns={'Confirmed':'Cases', \"Deceased\":'Deaths'})\n",
    "df_cases = df[[\"Date\",'State','Cases']]\n",
    "df_deaths = df[['Date','State','Deaths']]\n",
    "df_cases1 = df_cases.groupby('Date')\n",
    "df_deaths1= df_deaths.groupby('Date')"
   ]
  },
  {
   "cell_type": "code",
   "execution_count": 3,
   "metadata": {
    "execution": {
     "iopub.execute_input": "2020-08-10T12:51:49.580817Z",
     "iopub.status.busy": "2020-08-10T12:51:49.580193Z",
     "iopub.status.idle": "2020-08-10T12:51:49.597722Z",
     "shell.execute_reply": "2020-08-10T12:51:49.597246Z"
    },
    "papermill": {
     "duration": 0.038805,
     "end_time": "2020-08-10T12:51:49.597857",
     "exception": false,
     "start_time": "2020-08-10T12:51:49.559052",
     "status": "completed"
    },
    "tags": []
   },
   "outputs": [],
   "source": [
    "#hide\n",
    "df_snap = pd.read_csv('data/SnapshotCases-28-July.csv')\n",
    "arr_states = df_snap['states'].unique()\n",
    "arr_dates = df['Date'].unique()\n",
    "df_snap = df_snap.set_index('states')"
   ]
  },
  {
   "cell_type": "code",
   "execution_count": 4,
   "metadata": {
    "execution": {
     "iopub.execute_input": "2020-08-10T12:51:49.635294Z",
     "iopub.status.busy": "2020-08-10T12:51:49.634699Z",
     "iopub.status.idle": "2020-08-10T12:51:49.638282Z",
     "shell.execute_reply": "2020-08-10T12:51:49.637246Z"
    },
    "papermill": {
     "duration": 0.025229,
     "end_time": "2020-08-10T12:51:49.638424",
     "exception": false,
     "start_time": "2020-08-10T12:51:49.613195",
     "status": "completed"
    },
    "tags": []
   },
   "outputs": [
    {
     "data": {
      "text/plain": [
       "array(['Andaman and Nicobar Islands', 'Andhra Pradesh',\n",
       "       'Arunachal Pradesh', 'Assam', 'Bihar', 'Chandigarh',\n",
       "       'Dadra and Nagar Haveli and Daman and Diu', 'Delhi', 'Goa',\n",
       "       'Gujarat', 'Haryana', 'Himachal Pradesh', 'Jammu and Kashmir',\n",
       "       'Jharkhand', 'Karnataka', 'Kerala', 'Lakshadweep',\n",
       "       'Madhya Pradesh', 'Maharashtra', 'Manipur', 'Meghalaya', 'Mizoram',\n",
       "       'Nagaland', 'Odisha', 'Puducherry', 'Punjab', 'Rajasthan',\n",
       "       'Sikkim', 'Tamil Nadu', 'Telangana', 'Tripura', 'Uttar Pradesh',\n",
       "       'West Bengal', 'Chhattisgarh', 'Ladakh', 'Uttarakhand'],\n",
       "      dtype=object)"
      ]
     },
     "execution_count": 4,
     "metadata": {},
     "output_type": "execute_result"
    }
   ],
   "source": [
    "#hide\n",
    "arr_states[-9] = 'Puducherry'\n",
    "arr_states[-10] = 'Odisha'\n",
    "arr_states[6] = 'Dadra and Nagar Haveli and Daman and Diu'\n",
    "arr_states = np.append(arr_states,np.array(['Chhattisgarh','Ladakh','Uttarakhand']))\n",
    "arr_states"
   ]
  },
  {
   "cell_type": "code",
   "execution_count": 5,
   "metadata": {
    "execution": {
     "iopub.execute_input": "2020-08-10T12:51:49.684112Z",
     "iopub.status.busy": "2020-08-10T12:51:49.683521Z",
     "iopub.status.idle": "2020-08-10T12:51:49.686049Z",
     "shell.execute_reply": "2020-08-10T12:51:49.686549Z"
    },
    "papermill": {
     "duration": 0.03257,
     "end_time": "2020-08-10T12:51:49.686685",
     "exception": false,
     "start_time": "2020-08-10T12:51:49.654115",
     "status": "completed"
    },
    "tags": []
   },
   "outputs": [],
   "source": [
    "#hide\n",
    "dates = []\n",
    "for i in arr_dates:\n",
    "    if i>='2020-07-01':\n",
    "        dates.append(i)\n",
    "dict = {'states':dates}\n",
    "for i in arr_states:\n",
    "    dict[i] = [0]*len(dates)\n",
    "dft_cases = pd.DataFrame(dict)\n",
    "dft_deaths = pd.DataFrame(dict)\n"
   ]
  },
  {
   "cell_type": "code",
   "execution_count": 6,
   "metadata": {
    "execution": {
     "iopub.execute_input": "2020-08-10T12:51:49.724834Z",
     "iopub.status.busy": "2020-08-10T12:51:49.724216Z",
     "iopub.status.idle": "2020-08-10T12:51:50.309674Z",
     "shell.execute_reply": "2020-08-10T12:51:50.310234Z"
    },
    "papermill": {
     "duration": 0.607765,
     "end_time": "2020-08-10T12:51:50.310426",
     "exception": false,
     "start_time": "2020-08-10T12:51:49.702661",
     "status": "completed"
    },
    "tags": []
   },
   "outputs": [],
   "source": [
    "#hide\n",
    "for i in range(len(dates)):\n",
    "    df1_deaths = df_deaths1.get_group(dates[i])\n",
    "    for j in range(len(df1_deaths.index)):\n",
    "        if df1_deaths.iloc[j,1] in arr_states:\n",
    "            dft_deaths.loc[i,df1_deaths.iloc[j,1]] = df1_deaths.iloc[j,2]\n",
    "dft_deaths = dft_deaths.set_index('states')"
   ]
  },
  {
   "cell_type": "code",
   "execution_count": 7,
   "metadata": {
    "execution": {
     "iopub.execute_input": "2020-08-10T12:51:50.437220Z",
     "iopub.status.busy": "2020-08-10T12:51:50.349664Z",
     "iopub.status.idle": "2020-08-10T12:51:50.949184Z",
     "shell.execute_reply": "2020-08-10T12:51:50.948195Z"
    },
    "papermill": {
     "duration": 0.622485,
     "end_time": "2020-08-10T12:51:50.949340",
     "exception": false,
     "start_time": "2020-08-10T12:51:50.326855",
     "status": "completed"
    },
    "tags": []
   },
   "outputs": [],
   "source": [
    "#hide\n",
    "for i in range(len(dates)):\n",
    "    df1_cases = df_cases1.get_group(dates[i])\n",
    "    for j in range(len(df1_cases.index)):\n",
    "        if df1_cases.iloc[j,1] in arr_states:\n",
    "            dft_cases.loc[i,df1_cases.iloc[j,1]] = df1_cases.iloc[j,2]\n",
    "dft_cases = dft_cases.set_index('states')"
   ]
  },
  {
   "cell_type": "code",
   "execution_count": 8,
   "metadata": {
    "execution": {
     "iopub.execute_input": "2020-08-10T12:51:50.986284Z",
     "iopub.status.busy": "2020-08-10T12:51:50.985664Z",
     "iopub.status.idle": "2020-08-10T12:51:50.988240Z",
     "shell.execute_reply": "2020-08-10T12:51:50.987684Z"
    },
    "papermill": {
     "duration": 0.023212,
     "end_time": "2020-08-10T12:51:50.988365",
     "exception": false,
     "start_time": "2020-08-10T12:51:50.965153",
     "status": "completed"
    },
    "tags": []
   },
   "outputs": [],
   "source": [
    "#hide\n",
    "dft_cases = dft_cases.T\n",
    "dft_deaths = dft_deaths.T\n",
    "dt_today = dates[-1]\n",
    "dt_yday = dates[-2]"
   ]
  },
  {
   "cell_type": "code",
   "execution_count": 9,
   "metadata": {
    "execution": {
     "iopub.execute_input": "2020-08-10T12:51:51.027704Z",
     "iopub.status.busy": "2020-08-10T12:51:51.027118Z",
     "iopub.status.idle": "2020-08-10T12:51:51.030441Z",
     "shell.execute_reply": "2020-08-10T12:51:51.030881Z"
    },
    "papermill": {
     "duration": 0.027075,
     "end_time": "2020-08-10T12:51:51.031029",
     "exception": false,
     "start_time": "2020-08-10T12:51:51.003954",
     "status": "completed"
    },
    "tags": []
   },
   "outputs": [],
   "source": [
    "#hide\n",
    "dft_cases = dft_cases.reset_index()\n",
    "dft_deaths = dft_deaths.reset_index()\n",
    "dft_cases = dft_cases.rename(columns = {'index':'state'})\n",
    "dft_deaths = dft_deaths.rename(columns = {'index':'state'})"
   ]
  },
  {
   "cell_type": "code",
   "execution_count": 10,
   "metadata": {
    "execution": {
     "iopub.execute_input": "2020-08-10T12:51:51.072440Z",
     "iopub.status.busy": "2020-08-10T12:51:51.071082Z",
     "iopub.status.idle": "2020-08-10T12:51:51.076167Z",
     "shell.execute_reply": "2020-08-10T12:51:51.076612Z"
    },
    "papermill": {
     "duration": 0.030323,
     "end_time": "2020-08-10T12:51:51.076775",
     "exception": false,
     "start_time": "2020-08-10T12:51:51.046452",
     "status": "completed"
    },
    "tags": []
   },
   "outputs": [],
   "source": [
    "#hide\n",
    "dfc_cases = dft_cases.groupby('state')[dt_today].sum()\n",
    "dfc_deaths = dft_deaths.groupby('state')[dt_today].sum()\n",
    "dfp_cases = dft_cases.groupby('state')[dt_yday].sum()\n",
    "dfp_deaths = dft_deaths.groupby('state')[dt_yday].sum()"
   ]
  },
  {
   "cell_type": "code",
   "execution_count": 11,
   "metadata": {
    "execution": {
     "iopub.execute_input": "2020-08-10T12:51:51.122520Z",
     "iopub.status.busy": "2020-08-10T12:51:51.115957Z",
     "iopub.status.idle": "2020-08-10T12:51:51.130160Z",
     "shell.execute_reply": "2020-08-10T12:51:51.129692Z"
    },
    "papermill": {
     "duration": 0.038082,
     "end_time": "2020-08-10T12:51:51.130292",
     "exception": false,
     "start_time": "2020-08-10T12:51:51.092210",
     "status": "completed"
    },
    "tags": []
   },
   "outputs": [
    {
     "data": {
      "text/html": [
       "<div>\n",
       "<style scoped>\n",
       "    .dataframe tbody tr th:only-of-type {\n",
       "        vertical-align: middle;\n",
       "    }\n",
       "\n",
       "    .dataframe tbody tr th {\n",
       "        vertical-align: top;\n",
       "    }\n",
       "\n",
       "    .dataframe thead th {\n",
       "        text-align: right;\n",
       "    }\n",
       "</style>\n",
       "<table border=\"1\" class=\"dataframe\">\n",
       "  <thead>\n",
       "    <tr style=\"text-align: right;\">\n",
       "      <th></th>\n",
       "      <th>states</th>\n",
       "      <th>Cases</th>\n",
       "      <th>Deaths</th>\n",
       "      <th>PCases</th>\n",
       "      <th>PDeaths</th>\n",
       "    </tr>\n",
       "  </thead>\n",
       "  <tbody>\n",
       "    <tr>\n",
       "      <th>0</th>\n",
       "      <td>Maharashtra</td>\n",
       "      <td>515332</td>\n",
       "      <td>17757</td>\n",
       "      <td>515332</td>\n",
       "      <td>17757</td>\n",
       "    </tr>\n",
       "    <tr>\n",
       "      <th>1</th>\n",
       "      <td>Tamil Nadu</td>\n",
       "      <td>296901</td>\n",
       "      <td>4927</td>\n",
       "      <td>296901</td>\n",
       "      <td>4927</td>\n",
       "    </tr>\n",
       "    <tr>\n",
       "      <th>2</th>\n",
       "      <td>Andhra Pradesh</td>\n",
       "      <td>227860</td>\n",
       "      <td>2036</td>\n",
       "      <td>227860</td>\n",
       "      <td>2036</td>\n",
       "    </tr>\n",
       "    <tr>\n",
       "      <th>3</th>\n",
       "      <td>Karnataka</td>\n",
       "      <td>178087</td>\n",
       "      <td>3198</td>\n",
       "      <td>178087</td>\n",
       "      <td>3198</td>\n",
       "    </tr>\n",
       "    <tr>\n",
       "      <th>4</th>\n",
       "      <td>Delhi</td>\n",
       "      <td>146134</td>\n",
       "      <td>4131</td>\n",
       "      <td>145427</td>\n",
       "      <td>4111</td>\n",
       "    </tr>\n",
       "  </tbody>\n",
       "</table>\n",
       "</div>"
      ],
      "text/plain": [
       "           states   Cases  Deaths  PCases  PDeaths\n",
       "0     Maharashtra  515332   17757  515332    17757\n",
       "1      Tamil Nadu  296901    4927  296901     4927\n",
       "2  Andhra Pradesh  227860    2036  227860     2036\n",
       "3       Karnataka  178087    3198  178087     3198\n",
       "4           Delhi  146134    4131  145427     4111"
      ]
     },
     "execution_count": 11,
     "metadata": {},
     "output_type": "execute_result"
    }
   ],
   "source": [
    "#hide\n",
    "df_table = pd.DataFrame({'states': dfc_cases.index, 'Cases': dfc_cases.values, 'Deaths': dfc_deaths.values, 'PCases': dfp_cases.values, 'PDeaths': dfp_deaths.values}).set_index('states')\n",
    "df_table = df_table.sort_values(by = ['Cases','Deaths'], ascending = [False, False])\n",
    "df_table = df_table.reset_index()\n",
    "df_table.head()"
   ]
  },
  {
   "cell_type": "code",
   "execution_count": 12,
   "metadata": {
    "execution": {
     "iopub.execute_input": "2020-08-10T12:51:51.178107Z",
     "iopub.status.busy": "2020-08-10T12:51:51.177481Z",
     "iopub.status.idle": "2020-08-10T12:51:51.188498Z",
     "shell.execute_reply": "2020-08-10T12:51:51.187984Z"
    },
    "papermill": {
     "duration": 0.038697,
     "end_time": "2020-08-10T12:51:51.188635",
     "exception": false,
     "start_time": "2020-08-10T12:51:51.149938",
     "status": "completed"
    },
    "tags": []
   },
   "outputs": [],
   "source": [
    "#hide\n",
    "for c in 'Cases, Deaths'.split(', '):\n",
    "    df_table[f'{c} (+)'] = (df_table[c] - df_table[f'P{c}']).clip(0)\n",
    "df_table['Fatality Rate'] = (100* df_table['Deaths']/ df_table['Cases']).round(2)"
   ]
  },
  {
   "cell_type": "code",
   "execution_count": 13,
   "metadata": {
    "execution": {
     "iopub.execute_input": "2020-08-10T12:51:51.239729Z",
     "iopub.status.busy": "2020-08-10T12:51:51.239084Z",
     "iopub.status.idle": "2020-08-10T12:51:51.242042Z",
     "shell.execute_reply": "2020-08-10T12:51:51.242519Z"
    },
    "papermill": {
     "duration": 0.034991,
     "end_time": "2020-08-10T12:51:51.242674",
     "exception": false,
     "start_time": "2020-08-10T12:51:51.207683",
     "status": "completed"
    },
    "tags": []
   },
   "outputs": [
    {
     "data": {
      "text/html": [
       "<div>\n",
       "<style scoped>\n",
       "    .dataframe tbody tr th:only-of-type {\n",
       "        vertical-align: middle;\n",
       "    }\n",
       "\n",
       "    .dataframe tbody tr th {\n",
       "        vertical-align: top;\n",
       "    }\n",
       "\n",
       "    .dataframe thead th {\n",
       "        text-align: right;\n",
       "    }\n",
       "</style>\n",
       "<table border=\"1\" class=\"dataframe\">\n",
       "  <thead>\n",
       "    <tr style=\"text-align: right;\">\n",
       "      <th></th>\n",
       "      <th>states</th>\n",
       "      <th>Cases</th>\n",
       "      <th>Deaths</th>\n",
       "      <th>PCases</th>\n",
       "      <th>PDeaths</th>\n",
       "      <th>Cases (+)</th>\n",
       "      <th>Deaths (+)</th>\n",
       "      <th>Fatality Rate</th>\n",
       "    </tr>\n",
       "  </thead>\n",
       "  <tbody>\n",
       "    <tr>\n",
       "      <th>0</th>\n",
       "      <td>Maharashtra</td>\n",
       "      <td>515332</td>\n",
       "      <td>17757</td>\n",
       "      <td>515332</td>\n",
       "      <td>17757</td>\n",
       "      <td>0</td>\n",
       "      <td>0</td>\n",
       "      <td>3.45</td>\n",
       "    </tr>\n",
       "    <tr>\n",
       "      <th>1</th>\n",
       "      <td>Tamil Nadu</td>\n",
       "      <td>296901</td>\n",
       "      <td>4927</td>\n",
       "      <td>296901</td>\n",
       "      <td>4927</td>\n",
       "      <td>0</td>\n",
       "      <td>0</td>\n",
       "      <td>1.66</td>\n",
       "    </tr>\n",
       "    <tr>\n",
       "      <th>2</th>\n",
       "      <td>Andhra Pradesh</td>\n",
       "      <td>227860</td>\n",
       "      <td>2036</td>\n",
       "      <td>227860</td>\n",
       "      <td>2036</td>\n",
       "      <td>0</td>\n",
       "      <td>0</td>\n",
       "      <td>0.89</td>\n",
       "    </tr>\n",
       "    <tr>\n",
       "      <th>3</th>\n",
       "      <td>Karnataka</td>\n",
       "      <td>178087</td>\n",
       "      <td>3198</td>\n",
       "      <td>178087</td>\n",
       "      <td>3198</td>\n",
       "      <td>0</td>\n",
       "      <td>0</td>\n",
       "      <td>1.80</td>\n",
       "    </tr>\n",
       "    <tr>\n",
       "      <th>4</th>\n",
       "      <td>Delhi</td>\n",
       "      <td>146134</td>\n",
       "      <td>4131</td>\n",
       "      <td>145427</td>\n",
       "      <td>4111</td>\n",
       "      <td>707</td>\n",
       "      <td>20</td>\n",
       "      <td>2.83</td>\n",
       "    </tr>\n",
       "  </tbody>\n",
       "</table>\n",
       "</div>"
      ],
      "text/plain": [
       "           states   Cases  Deaths  PCases  PDeaths  Cases (+)  Deaths (+)  \\\n",
       "0     Maharashtra  515332   17757  515332    17757          0           0   \n",
       "1      Tamil Nadu  296901    4927  296901     4927          0           0   \n",
       "2  Andhra Pradesh  227860    2036  227860     2036          0           0   \n",
       "3       Karnataka  178087    3198  178087     3198          0           0   \n",
       "4           Delhi  146134    4131  145427     4111        707          20   \n",
       "\n",
       "   Fatality Rate  \n",
       "0           3.45  \n",
       "1           1.66  \n",
       "2           0.89  \n",
       "3           1.80  \n",
       "4           2.83  "
      ]
     },
     "execution_count": 13,
     "metadata": {},
     "output_type": "execute_result"
    }
   ],
   "source": [
    "#hide\n",
    "df_table.head()"
   ]
  },
  {
   "cell_type": "code",
   "execution_count": 14,
   "metadata": {
    "execution": {
     "iopub.execute_input": "2020-08-10T12:51:51.286998Z",
     "iopub.status.busy": "2020-08-10T12:51:51.286371Z",
     "iopub.status.idle": "2020-08-10T12:51:51.304829Z",
     "shell.execute_reply": "2020-08-10T12:51:51.304324Z"
    },
    "papermill": {
     "duration": 0.043848,
     "end_time": "2020-08-10T12:51:51.304999",
     "exception": false,
     "start_time": "2020-08-10T12:51:51.261151",
     "status": "completed"
    },
    "tags": []
   },
   "outputs": [
    {
     "data": {
      "text/plain": [
       "{'updated': '2020-08-10',\n",
       " 'since': '2020-08-09',\n",
       " 'Cases': 2222738,\n",
       " 'PCases': 2214137,\n",
       " 'Deaths': 44570,\n",
       " 'PDeaths': 44466,\n",
       " 'Cases (+)': 8601,\n",
       " 'Deaths (+)': 104}"
      ]
     },
     "execution_count": 14,
     "metadata": {},
     "output_type": "execute_result"
    }
   ],
   "source": [
    "#hide\n",
    "summary = {'updated':dates[-1], 'since':dates[-2]}\n",
    "list_names = ['Cases', 'PCases', 'Deaths', 'PDeaths', 'Cases (+)', 'Deaths (+)']\n",
    "for name in list_names:\n",
    "    summary[name] = df_table.sum()[name]\n",
    "summary"
   ]
  },
  {
   "cell_type": "code",
   "execution_count": 15,
   "metadata": {
    "execution": {
     "iopub.execute_input": "2020-08-10T12:51:51.348918Z",
     "iopub.status.busy": "2020-08-10T12:51:51.348289Z",
     "iopub.status.idle": "2020-08-10T12:51:51.350505Z",
     "shell.execute_reply": "2020-08-10T12:51:51.350009Z"
    },
    "papermill": {
     "duration": 0.026046,
     "end_time": "2020-08-10T12:51:51.350631",
     "exception": false,
     "start_time": "2020-08-10T12:51:51.324585",
     "status": "completed"
    },
    "tags": []
   },
   "outputs": [],
   "source": [
    "#hide\n",
    "overview = '''\n",
    "<!-- #######  HTML!! #########-->\n",
    "<h1 style=\"color: #5e9ca0; text-align: center;\">India</h1>\n",
    "<p style=\"text-align: center;\">Last update: <strong>{update}</strong></p>\n",
    "<p style=\"text-align: center;\">Confirmed cases:</p>\n",
    "<p style=\"text-align: center;font-size:24px;\">{cases} (<span style=\"color: #ff0000;\">+{new}</span>)</p>\n",
    "<p style=\"text-align: center;\">Confirmed deaths:</p>\n",
    "<p style=\"text-align: center;font-size:24px;\">{deaths} (<span style=\"color: #ff0000;\">+{dnew}</span>)</p>\n",
    "'''"
   ]
  },
  {
   "cell_type": "code",
   "execution_count": 16,
   "metadata": {
    "execution": {
     "iopub.execute_input": "2020-08-10T12:51:51.392229Z",
     "iopub.status.busy": "2020-08-10T12:51:51.391603Z",
     "iopub.status.idle": "2020-08-10T12:51:51.394298Z",
     "shell.execute_reply": "2020-08-10T12:51:51.394803Z"
    },
    "papermill": {
     "duration": 0.026697,
     "end_time": "2020-08-10T12:51:51.394954",
     "exception": false,
     "start_time": "2020-08-10T12:51:51.368257",
     "status": "completed"
    },
    "tags": []
   },
   "outputs": [
    {
     "data": {
      "text/html": [
       "\n",
       "<!-- #######  HTML!! #########-->\n",
       "<h1 style=\"color: #5e9ca0; text-align: center;\">India</h1>\n",
       "<p style=\"text-align: center;\">Last update: <strong>2020-08-10</strong></p>\n",
       "<p style=\"text-align: center;\">Confirmed cases:</p>\n",
       "<p style=\"text-align: center;font-size:24px;\">2222738 (<span style=\"color: #ff0000;\">+8601</span>)</p>\n",
       "<p style=\"text-align: center;\">Confirmed deaths:</p>\n",
       "<p style=\"text-align: center;font-size:24px;\">44570 (<span style=\"color: #ff0000;\">+104</span>)</p>\n"
      ],
      "text/plain": [
       "<IPython.core.display.HTML object>"
      ]
     },
     "metadata": {},
     "output_type": "display_data"
    }
   ],
   "source": [
    "#hide_input\n",
    "update = summary['updated']\n",
    "cases = summary['Cases']\n",
    "new = summary['Cases (+)']\n",
    "deaths = summary['Deaths']\n",
    "dnew = summary['Deaths (+)']\n",
    "\n",
    "html = HTML(overview.format(update=update, cases=cases,new=new,deaths=deaths,dnew=dnew))\n",
    "\n",
    "display(html)"
   ]
  },
  {
   "cell_type": "code",
   "execution_count": 17,
   "metadata": {
    "execution": {
     "iopub.execute_input": "2020-08-10T12:51:51.442264Z",
     "iopub.status.busy": "2020-08-10T12:51:51.439538Z",
     "iopub.status.idle": "2020-08-10T12:51:51.445050Z",
     "shell.execute_reply": "2020-08-10T12:51:51.445505Z"
    },
    "papermill": {
     "duration": 0.033373,
     "end_time": "2020-08-10T12:51:51.445679",
     "exception": false,
     "start_time": "2020-08-10T12:51:51.412306",
     "status": "completed"
    },
    "tags": []
   },
   "outputs": [],
   "source": [
    "#hide\n",
    "dt_cols = list(dft_cases.columns[1:])\n",
    "dft_ct_new_cases = dft_cases.groupby('state')[dt_cols].sum().diff(axis=1).fillna(0).astype(int)\n",
    "dft_ct_new_cases.sort_values(by = dates[-1], ascending = False,inplace = True)"
   ]
  },
  {
   "cell_type": "code",
   "execution_count": 18,
   "metadata": {
    "execution": {
     "iopub.execute_input": "2020-08-10T12:51:51.501282Z",
     "iopub.status.busy": "2020-08-10T12:51:51.494746Z",
     "iopub.status.idle": "2020-08-10T12:51:51.503580Z",
     "shell.execute_reply": "2020-08-10T12:51:51.504143Z"
    },
    "papermill": {
     "duration": 0.040006,
     "end_time": "2020-08-10T12:51:51.504305",
     "exception": false,
     "start_time": "2020-08-10T12:51:51.464299",
     "status": "completed"
    },
    "tags": []
   },
   "outputs": [
    {
     "data": {
      "text/html": [
       "<div>\n",
       "<style scoped>\n",
       "    .dataframe tbody tr th:only-of-type {\n",
       "        vertical-align: middle;\n",
       "    }\n",
       "\n",
       "    .dataframe tbody tr th {\n",
       "        vertical-align: top;\n",
       "    }\n",
       "\n",
       "    .dataframe thead th {\n",
       "        text-align: right;\n",
       "    }\n",
       "</style>\n",
       "<table border=\"1\" class=\"dataframe\">\n",
       "  <thead>\n",
       "    <tr style=\"text-align: right;\">\n",
       "      <th>states</th>\n",
       "      <th>2020-07-01</th>\n",
       "      <th>2020-07-02</th>\n",
       "      <th>2020-07-03</th>\n",
       "      <th>2020-07-04</th>\n",
       "      <th>2020-07-05</th>\n",
       "      <th>2020-07-06</th>\n",
       "      <th>2020-07-07</th>\n",
       "      <th>2020-07-08</th>\n",
       "      <th>2020-07-09</th>\n",
       "      <th>2020-07-10</th>\n",
       "      <th>...</th>\n",
       "      <th>2020-08-01</th>\n",
       "      <th>2020-08-02</th>\n",
       "      <th>2020-08-03</th>\n",
       "      <th>2020-08-04</th>\n",
       "      <th>2020-08-05</th>\n",
       "      <th>2020-08-06</th>\n",
       "      <th>2020-08-07</th>\n",
       "      <th>2020-08-08</th>\n",
       "      <th>2020-08-09</th>\n",
       "      <th>2020-08-10</th>\n",
       "    </tr>\n",
       "    <tr>\n",
       "      <th>state</th>\n",
       "      <th></th>\n",
       "      <th></th>\n",
       "      <th></th>\n",
       "      <th></th>\n",
       "      <th></th>\n",
       "      <th></th>\n",
       "      <th></th>\n",
       "      <th></th>\n",
       "      <th></th>\n",
       "      <th></th>\n",
       "      <th></th>\n",
       "      <th></th>\n",
       "      <th></th>\n",
       "      <th></th>\n",
       "      <th></th>\n",
       "      <th></th>\n",
       "      <th></th>\n",
       "      <th></th>\n",
       "      <th></th>\n",
       "      <th></th>\n",
       "      <th></th>\n",
       "    </tr>\n",
       "  </thead>\n",
       "  <tbody>\n",
       "    <tr>\n",
       "      <th>Uttar Pradesh</th>\n",
       "      <td>0</td>\n",
       "      <td>769</td>\n",
       "      <td>972</td>\n",
       "      <td>757</td>\n",
       "      <td>1153</td>\n",
       "      <td>929</td>\n",
       "      <td>1332</td>\n",
       "      <td>1188</td>\n",
       "      <td>1206</td>\n",
       "      <td>1338</td>\n",
       "      <td>...</td>\n",
       "      <td>3587</td>\n",
       "      <td>3873</td>\n",
       "      <td>4441</td>\n",
       "      <td>2948</td>\n",
       "      <td>4078</td>\n",
       "      <td>4586</td>\n",
       "      <td>4404</td>\n",
       "      <td>4660</td>\n",
       "      <td>4571</td>\n",
       "      <td>4113</td>\n",
       "    </tr>\n",
       "    <tr>\n",
       "      <th>Odisha</th>\n",
       "      <td>0</td>\n",
       "      <td>229</td>\n",
       "      <td>561</td>\n",
       "      <td>495</td>\n",
       "      <td>469</td>\n",
       "      <td>456</td>\n",
       "      <td>571</td>\n",
       "      <td>527</td>\n",
       "      <td>577</td>\n",
       "      <td>755</td>\n",
       "      <td>...</td>\n",
       "      <td>1602</td>\n",
       "      <td>1434</td>\n",
       "      <td>1384</td>\n",
       "      <td>1384</td>\n",
       "      <td>1337</td>\n",
       "      <td>1699</td>\n",
       "      <td>1833</td>\n",
       "      <td>1643</td>\n",
       "      <td>1734</td>\n",
       "      <td>1528</td>\n",
       "    </tr>\n",
       "    <tr>\n",
       "      <th>Telangana</th>\n",
       "      <td>0</td>\n",
       "      <td>1213</td>\n",
       "      <td>1892</td>\n",
       "      <td>1850</td>\n",
       "      <td>1590</td>\n",
       "      <td>1831</td>\n",
       "      <td>1879</td>\n",
       "      <td>1924</td>\n",
       "      <td>1410</td>\n",
       "      <td>1278</td>\n",
       "      <td>...</td>\n",
       "      <td>2083</td>\n",
       "      <td>1891</td>\n",
       "      <td>983</td>\n",
       "      <td>1286</td>\n",
       "      <td>2012</td>\n",
       "      <td>2092</td>\n",
       "      <td>2207</td>\n",
       "      <td>2256</td>\n",
       "      <td>1982</td>\n",
       "      <td>1256</td>\n",
       "    </tr>\n",
       "    <tr>\n",
       "      <th>Delhi</th>\n",
       "      <td>0</td>\n",
       "      <td>2373</td>\n",
       "      <td>2520</td>\n",
       "      <td>2505</td>\n",
       "      <td>2244</td>\n",
       "      <td>1379</td>\n",
       "      <td>2008</td>\n",
       "      <td>2033</td>\n",
       "      <td>2187</td>\n",
       "      <td>2089</td>\n",
       "      <td>...</td>\n",
       "      <td>1118</td>\n",
       "      <td>961</td>\n",
       "      <td>805</td>\n",
       "      <td>674</td>\n",
       "      <td>1076</td>\n",
       "      <td>1299</td>\n",
       "      <td>1192</td>\n",
       "      <td>1404</td>\n",
       "      <td>1300</td>\n",
       "      <td>707</td>\n",
       "    </tr>\n",
       "    <tr>\n",
       "      <th>Rajasthan</th>\n",
       "      <td>0</td>\n",
       "      <td>350</td>\n",
       "      <td>390</td>\n",
       "      <td>480</td>\n",
       "      <td>632</td>\n",
       "      <td>524</td>\n",
       "      <td>716</td>\n",
       "      <td>659</td>\n",
       "      <td>500</td>\n",
       "      <td>611</td>\n",
       "      <td>...</td>\n",
       "      <td>1160</td>\n",
       "      <td>1167</td>\n",
       "      <td>1145</td>\n",
       "      <td>1124</td>\n",
       "      <td>1166</td>\n",
       "      <td>1151</td>\n",
       "      <td>1161</td>\n",
       "      <td>1171</td>\n",
       "      <td>1169</td>\n",
       "      <td>598</td>\n",
       "    </tr>\n",
       "  </tbody>\n",
       "</table>\n",
       "<p>5 rows × 41 columns</p>\n",
       "</div>"
      ],
      "text/plain": [
       "states         2020-07-01  2020-07-02  2020-07-03  2020-07-04  2020-07-05  \\\n",
       "state                                                                       \n",
       "Uttar Pradesh           0         769         972         757        1153   \n",
       "Odisha                  0         229         561         495         469   \n",
       "Telangana               0        1213        1892        1850        1590   \n",
       "Delhi                   0        2373        2520        2505        2244   \n",
       "Rajasthan               0         350         390         480         632   \n",
       "\n",
       "states         2020-07-06  2020-07-07  2020-07-08  2020-07-09  2020-07-10  \\\n",
       "state                                                                       \n",
       "Uttar Pradesh         929        1332        1188        1206        1338   \n",
       "Odisha                456         571         527         577         755   \n",
       "Telangana            1831        1879        1924        1410        1278   \n",
       "Delhi                1379        2008        2033        2187        2089   \n",
       "Rajasthan             524         716         659         500         611   \n",
       "\n",
       "states         ...  2020-08-01  2020-08-02  2020-08-03  2020-08-04  \\\n",
       "state          ...                                                   \n",
       "Uttar Pradesh  ...        3587        3873        4441        2948   \n",
       "Odisha         ...        1602        1434        1384        1384   \n",
       "Telangana      ...        2083        1891         983        1286   \n",
       "Delhi          ...        1118         961         805         674   \n",
       "Rajasthan      ...        1160        1167        1145        1124   \n",
       "\n",
       "states         2020-08-05  2020-08-06  2020-08-07  2020-08-08  2020-08-09  \\\n",
       "state                                                                       \n",
       "Uttar Pradesh        4078        4586        4404        4660        4571   \n",
       "Odisha               1337        1699        1833        1643        1734   \n",
       "Telangana            2012        2092        2207        2256        1982   \n",
       "Delhi                1076        1299        1192        1404        1300   \n",
       "Rajasthan            1166        1151        1161        1171        1169   \n",
       "\n",
       "states         2020-08-10  \n",
       "state                      \n",
       "Uttar Pradesh        4113  \n",
       "Odisha               1528  \n",
       "Telangana            1256  \n",
       "Delhi                 707  \n",
       "Rajasthan             598  \n",
       "\n",
       "[5 rows x 41 columns]"
      ]
     },
     "execution_count": 18,
     "metadata": {},
     "output_type": "execute_result"
    }
   ],
   "source": [
    "#hide\n",
    "dft_ct_new_cases.head()"
   ]
  },
  {
   "cell_type": "code",
   "execution_count": 19,
   "metadata": {
    "execution": {
     "iopub.execute_input": "2020-08-10T12:51:51.548928Z",
     "iopub.status.busy": "2020-08-10T12:51:51.543485Z",
     "iopub.status.idle": "2020-08-10T12:51:54.604135Z",
     "shell.execute_reply": "2020-08-10T12:51:54.604614Z"
    },
    "papermill": {
     "duration": 3.082403,
     "end_time": "2020-08-10T12:51:54.604788",
     "exception": false,
     "start_time": "2020-08-10T12:51:51.522385",
     "status": "completed"
    },
    "tags": []
   },
   "outputs": [
    {
     "data": {
      "image/png": "[encoded data removed]",
      "text/plain": [
       "<Figure size 1296x2016 with 11 Axes>"
      ]
     },
     "metadata": {
      "needs_background": "light"
     },
     "output_type": "display_data"
    }
   ],
   "source": [
    "#hide_input\n",
    "df = dft_ct_new_cases.copy()\n",
    "df.loc['Total'] = df.sum()\n",
    "n = 5\n",
    "ax = []\n",
    "fig = plt.figure(figsize = (18,28))\n",
    "gs = fig.add_gridspec(n+2, 5)\n",
    "# gs = fig.add_gridspec(2, 3)\n",
    "ax1 = fig.add_subplot(gs[0, :])\n",
    "ef = df.loc['Total'].rename_axis('date').reset_index()\n",
    "ef['date'] = ef['date'].astype('datetime64[ns]')\n",
    "ax1.bar(ef.date,ef.Total,alpha=0.3,color='#007acc')\n",
    "ax1.plot(ef.date,ef.Total , marker=\"o\", color='#007acc')\n",
    "ax1.xaxis.set_major_locator(mdates.WeekdayLocator())\n",
    "ax1.xaxis.set_major_formatter(mdates.DateFormatter('%b %d'))\n",
    "ax1.text(0.02, 0.5,'India daily case count', transform = ax1.transAxes, fontsize=25);\n",
    "ax1.spines['right'].set_visible(False)\n",
    "ax1.spines['top'].set_visible(False)\n",
    "\n",
    "ax2 = fig.add_subplot(gs[1,0])\n",
    "ef = df.loc['Maharashtra'].rename_axis('date').reset_index()\n",
    "ef['date'] = ef['date'].astype('datetime64[ns]')\n",
    "\n",
    "ax2.bar(ef.date, ef.Maharashtra,color = '#007acc',alpha=0.5)\n",
    "ax2.xaxis.set_major_locator(mdates.WeekdayLocator())\n",
    "ax2.xaxis.set_major_formatter(mdates.DateFormatter('%b %d'))\n",
    "ax2.set_xticks(ax2.get_xticks()[::3])\n",
    "maxyval = ef.Maharashtra.max()\n",
    "ax2.set_ylim([0,maxyval])\n",
    "ax2.text(0.05, 0.9,'Maharashtra', transform = ax2.transAxes, fontsize=20);\n",
    "ax2.spines['right'].set_visible(False)\n",
    "ax2.spines['top'].set_visible(False)\n",
    "\n",
    "\n",
    "ax3 = fig.add_subplot(gs[1,1])\n",
    "ef = df.loc['Tamil Nadu'].rename_axis('date').reset_index()\n",
    "ef['date'] = ef['date'].astype('datetime64[ns]')\n",
    "ax3.bar(ef.date, ef['Tamil Nadu'],color = '#007acc',alpha=0.5,)\n",
    "ax3.xaxis.set_major_locator(mdates.WeekdayLocator())\n",
    "ax3.xaxis.set_major_formatter(mdates.DateFormatter('%b %d'))\n",
    "ax3.set_xticks(ax3.get_xticks()[::3])\n",
    "ax3.text(0.05, 0.9,'Tamil Nadu', transform = ax3.transAxes, fontsize=20);\n",
    "ax3.spines['right'].set_visible(False)\n",
    "ax3.spines['top'].set_visible(False)\n",
    "\n",
    "ax5 = fig.add_subplot(gs[1,3])\n",
    "ef = df.loc['Telangana'].rename_axis('date').reset_index()\n",
    "ef['date'] = ef['date'].astype('datetime64[ns]')\n",
    "ax5.bar(ef.date, ef['Telangana'],color = '#007acc',alpha=0.5,)\n",
    "ax5.xaxis.set_major_locator(mdates.WeekdayLocator())\n",
    "ax5.xaxis.set_major_formatter(mdates.DateFormatter('%b %d'))\n",
    "ax5.set_xticks(ax5.get_xticks()[::3])\n",
    "ax5.text(0.05, 0.9,'Telangana', transform = ax5.transAxes, fontsize=20);\n",
    "ax5.spines['right'].set_visible(False)\n",
    "ax5.spines['top'].set_visible(False)\n",
    "\n",
    "ax6 = fig.add_subplot(gs[1,4])\n",
    "ef = df.loc['Andhra Pradesh'].rename_axis('date').reset_index()\n",
    "ef['date'] = ef['date'].astype('datetime64[ns]')\n",
    "ax6.bar(ef.date, ef['Andhra Pradesh'],color = '#007acc',alpha=0.5,)\n",
    "ax6.xaxis.set_major_locator(mdates.WeekdayLocator())\n",
    "ax6.xaxis.set_major_formatter(mdates.DateFormatter('%b %d'))\n",
    "ax6.set_xticks(ax6.get_xticks()[::3])\n",
    "ax6.text(0.05, 1,'Andhra Pradesh', transform = ax6.transAxes, fontsize=20);\n",
    "ax6.spines['right'].set_visible(False)\n",
    "ax6.spines['top'].set_visible(False)\n",
    "\n",
    "ax4 = fig.add_subplot(gs[1,2])\n",
    "ef = df.loc['Delhi'].rename_axis('date').reset_index()\n",
    "ef['date'] = ef['date'].astype('datetime64[ns]')\n",
    "ax4.bar(ef.date, ef.Delhi,color = '#007acc',alpha=0.5)\n",
    "ax4.set_xticks([])\n",
    "ax4.xaxis.set_major_locator(mdates.WeekdayLocator())\n",
    "ax4.xaxis.set_major_formatter(mdates.DateFormatter('%b %d'))\n",
    "ax4.set_xticks(ax4.get_xticks()[::3])\n",
    "ax4.spines['right'].set_visible(False)\n",
    "ax4.spines['top'].set_visible(False)\n",
    "\n",
    "ax4.text(0.05, 1,'Delhi', transform = ax4.transAxes, fontsize=20)\n",
    "\n",
    "for i in range(n):\n",
    "    \n",
    "    ax.append(fig.add_subplot(gs[i+2,:]))\n",
    "    ef = df.iloc[i+3].rename_axis('date').reset_index()\n",
    "    ef['date'] = ef['date'].astype('datetime64[ns]')\n",
    "    ax[i].bar(ef.date,ef.iloc[:,-1],color = '#007acc',alpha=0.3)\n",
    "    ax[i].plot(ef.date,ef.iloc[:,-1],marker='o',color='#007acc')\n",
    "    ax[i].text(0.02,0.5,f'{ef.columns.values[-1]}',transform = ax[i].transAxes, fontsize = 20);\n",
    "    ax[i].xaxis.set_major_locator(mdates.WeekdayLocator())\n",
    "    ax[i].xaxis.set_major_formatter(mdates.DateFormatter('%b %d'))\n",
    "    ax[i].set_ylim([0,7000])\n",
    "    ax[i].spines['right'].set_visible(False)\n",
    "    ax[i].spines['top'].set_visible(False)\n",
    "plt.tight_layout()\n"
   ]
  },
  {
   "cell_type": "code",
   "execution_count": 20,
   "metadata": {
    "execution": {
     "iopub.execute_input": "2020-08-10T12:51:54.658446Z",
     "iopub.status.busy": "2020-08-10T12:51:54.657826Z",
     "iopub.status.idle": "2020-08-10T12:51:54.660046Z",
     "shell.execute_reply": "2020-08-10T12:51:54.660517Z"
    },
    "papermill": {
     "duration": 0.0336,
     "end_time": "2020-08-10T12:51:54.660666",
     "exception": false,
     "start_time": "2020-08-10T12:51:54.627066",
     "status": "completed"
    },
    "tags": []
   },
   "outputs": [
    {
     "name": "stdout",
     "output_type": "stream",
     "text": [
      "                                   states   Cases  Deaths  PCases  PDeaths  Cases (+)  Deaths (+)  Fatality Rate\n",
      "                              Maharashtra  515332   17757  515332    17757          0           0           3.45\n",
      "                               Tamil Nadu  296901    4927  296901     4927          0           0           1.66\n",
      "                           Andhra Pradesh  227860    2036  227860     2036          0           0           0.89\n",
      "                                Karnataka  178087    3198  178087     3198          0           0           1.80\n",
      "                                    Delhi  146134    4131  145427     4111        707          20           2.83\n",
      "                            Uttar Pradesh  126722    2120  122609     2069       4113          51           1.67\n",
      "                              West Bengal   95554    2059   95554     2059          0           0           2.15\n",
      "                                Telangana   80751     637   79495      627       1256          10           0.79\n",
      "                                    Bihar   79720     429   79720      429          0           0           0.54\n",
      "                                  Gujarat   71064    2652   71064     2652          0           0           3.73\n",
      "                                    Assam   58838     145   58838      145          0           0           0.25\n",
      "                                Rajasthan   53095     795   52497      789        598           6           1.50\n",
      "                                   Odisha   47455     337   45927      321       1528          16           0.71\n",
      "                                  Haryana   41635     483   41635      483          0           0           1.16\n",
      "                           Madhya Pradesh   39025     996   39025      996          0           0           2.55\n",
      "                                   Kerala   34331     109   34331      109          0           0           0.32\n",
      "                        Jammu and Kashmir   24897     472   24897      472          0           0           1.90\n",
      "                                   Punjab   23903     586   23903      586          0           0           2.45\n",
      "                                Jharkhand   18156     177   18156      177          0           0           0.97\n",
      "                             Chhattisgarh   12148      96   12148       96          0           0           0.79\n",
      "                              Uttarakhand    9632     125    9632      125          0           0           1.30\n",
      "                                      Goa    8712      75    8712       75          0           0           0.86\n",
      "                                  Tripura    6223      42    6161       41         62           1           0.67\n",
      "                               Puducherry    5382      87    5382       87          0           0           1.62\n",
      "                                  Manipur    3753      11    3753       11          0           0           0.29\n",
      "                         Himachal Pradesh    3375      14    3371       14          4           0           0.41\n",
      "                                 Nagaland    3011       8    2781        8        230           0           0.27\n",
      "                        Arunachal Pradesh    2155       3    2155        3          0           0           0.14\n",
      "                                   Ladakh    1688       9    1688        9          0           0           0.53\n",
      " Dadra and Nagar Haveli and Daman and Diu    1594       2    1555        2         39           0           0.13\n",
      "                               Chandigarh    1515      25    1515       25          0           0           1.65\n",
      "              Andaman and Nicobar Islands    1490      20    1490       20          0           0           1.34\n",
      "                                Meghalaya    1114       6    1062        6         52           0           0.54\n",
      "                                   Sikkim     866       1     866        1          0           0           0.12\n",
      "                                  Mizoram     620       0     608        0         12           0           0.00\n",
      "                              Lakshadweep       0       0       0        0          0           0            NaN\n"
     ]
    }
   ],
   "source": [
    "#hide_input\n",
    "print(df_table.to_string(index=False))"
   ]
  },
  {
   "cell_type": "code",
   "execution_count": null,
   "metadata": {
    "papermill": {
     "duration": 0.022526,
     "end_time": "2020-08-10T12:51:54.705764",
     "exception": false,
     "start_time": "2020-08-10T12:51:54.683238",
     "status": "completed"
    },
    "tags": []
   },
   "outputs": [],
   "source": []
  },
  {
   "cell_type": "code",
   "execution_count": null,
   "metadata": {
    "papermill": {
     "duration": 0.022316,
     "end_time": "2020-08-10T12:51:54.750853",
     "exception": false,
     "start_time": "2020-08-10T12:51:54.728537",
     "status": "completed"
    },
    "tags": []
   },
   "outputs": [],
   "source": []
  }
 ],
 "metadata": {
  "kernelspec": {
   "display_name": "Python 3",
   "language": "python",
   "name": "python3"
  },
  "language_info": {
   "codemirror_mode": {
    "name": "ipython",
    "version": 3
   },
   "file_extension": ".py",
   "mimetype": "text/x-python",
   "name": "python",
   "nbconvert_exporter": "python",
   "pygments_lexer": "ipython3",
   "version": "3.6.11"
  },
  "papermill": {
   "duration": 7.554946,
   "end_time": "2020-08-10T12:51:55.181268",
   "environment_variables": {},
   "exception": null,
   "input_path": "latest.ipynb",
   "output_path": "latest.ipynb",
   "parameters": {},
   "start_time": "2020-08-10T12:51:47.626322",
   "version": "2.1.2"
  }
 },
 "nbformat": 4,
 "nbformat_minor": 4
}