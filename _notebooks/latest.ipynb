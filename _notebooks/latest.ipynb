{
 "cells": [
  {
   "cell_type": "markdown",
   "metadata": {
    "papermill": {
     "duration": 0.021476,
     "end_time": "2020-09-01T12:26:20.557051",
     "exception": false,
     "start_time": "2020-09-01T12:26:20.535575",
     "status": "completed"
    },
    "tags": []
   },
   "source": [
    "# Latest COVID-19 India Matplotlib Overview"
   ]
  },
  {
   "cell_type": "code",
   "execution_count": 1,
   "metadata": {
    "execution": {
     "iopub.execute_input": "2020-09-01T12:26:20.597789Z",
     "iopub.status.busy": "2020-09-01T12:26:20.596972Z",
     "iopub.status.idle": "2020-09-01T12:26:21.215473Z",
     "shell.execute_reply": "2020-09-01T12:26:21.215987Z"
    },
    "papermill": {
     "duration": 0.642695,
     "end_time": "2020-09-01T12:26:21.216178",
     "exception": false,
     "start_time": "2020-09-01T12:26:20.573483",
     "status": "completed"
    },
    "tags": []
   },
   "outputs": [],
   "source": [
    "#hide\n",
    "import pandas as pd\n",
    "import numpy as np\n",
    "import requests\n",
    "import json\n",
    "import matplotlib.pyplot as plt\n",
    "import matplotlib.dates as mdates\n",
    "import matplotlib as mpl\n",
    "from IPython.core.display import display,HTML\n",
    "%matplotlib inline\n",
    "from datetime import date"
   ]
  },
  {
   "cell_type": "code",
   "execution_count": 2,
   "metadata": {
    "execution": {
     "iopub.execute_input": "2020-09-01T12:26:21.265431Z",
     "iopub.status.busy": "2020-09-01T12:26:21.264787Z",
     "iopub.status.idle": "2020-09-01T12:26:21.682141Z",
     "shell.execute_reply": "2020-09-01T12:26:21.681539Z"
    },
    "papermill": {
     "duration": 0.448126,
     "end_time": "2020-09-01T12:26:21.682290",
     "exception": false,
     "start_time": "2020-09-01T12:26:21.234164",
     "status": "completed"
    },
    "tags": []
   },
   "outputs": [],
   "source": [
    "#hide\n",
    "df  = pd.read_csv('https://api.covid19india.org/csv/latest/states.csv')\n",
    "df = df[['Date','State','Confirmed','Deceased']]\n",
    "df = df.rename(columns={'Confirmed':'Cases', \"Deceased\":'Deaths'})\n",
    "df_cases = df[[\"Date\",'State','Cases']]\n",
    "df_deaths = df[['Date','State','Deaths']]\n",
    "df_cases1 = df_cases.groupby('Date')\n",
    "df_deaths1= df_deaths.groupby('Date')"
   ]
  },
  {
   "cell_type": "code",
   "execution_count": 3,
   "metadata": {
    "execution": {
     "iopub.execute_input": "2020-09-01T12:26:21.719602Z",
     "iopub.status.busy": "2020-09-01T12:26:21.718989Z",
     "iopub.status.idle": "2020-09-01T12:26:21.736691Z",
     "shell.execute_reply": "2020-09-01T12:26:21.736177Z"
    },
    "papermill": {
     "duration": 0.038489,
     "end_time": "2020-09-01T12:26:21.736822",
     "exception": false,
     "start_time": "2020-09-01T12:26:21.698333",
     "status": "completed"
    },
    "tags": []
   },
   "outputs": [],
   "source": [
    "#hide\n",
    "df_snap = pd.read_csv('data/SnapshotCases-28-July.csv')\n",
    "arr_states = df_snap['states'].unique()\n",
    "arr_dates = df['Date'].unique()\n",
    "df_snap = df_snap.set_index('states')"
   ]
  },
  {
   "cell_type": "code",
   "execution_count": 4,
   "metadata": {
    "execution": {
     "iopub.execute_input": "2020-09-01T12:26:21.778455Z",
     "iopub.status.busy": "2020-09-01T12:26:21.777807Z",
     "iopub.status.idle": "2020-09-01T12:26:21.782804Z",
     "shell.execute_reply": "2020-09-01T12:26:21.781771Z"
    },
    "papermill": {
     "duration": 0.030595,
     "end_time": "2020-09-01T12:26:21.783001",
     "exception": false,
     "start_time": "2020-09-01T12:26:21.752406",
     "status": "completed"
    },
    "tags": []
   },
   "outputs": [
    {
     "data": {
      "text/plain": [
       "array(['Andaman and Nicobar Islands', 'Andhra Pradesh',\n",
       "       'Arunachal Pradesh', 'Assam', 'Bihar', 'Chandigarh',\n",
       "       'Dadra and Nagar Haveli and Daman and Diu', 'Delhi', 'Goa',\n",
       "       'Gujarat', 'Haryana', 'Himachal Pradesh', 'Jammu and Kashmir',\n",
       "       'Jharkhand', 'Karnataka', 'Kerala', 'Lakshadweep',\n",
       "       'Madhya Pradesh', 'Maharashtra', 'Manipur', 'Meghalaya', 'Mizoram',\n",
       "       'Nagaland', 'Odisha', 'Puducherry', 'Punjab', 'Rajasthan',\n",
       "       'Sikkim', 'Tamil Nadu', 'Telangana', 'Tripura', 'Uttar Pradesh',\n",
       "       'West Bengal', 'Chhattisgarh', 'Ladakh', 'Uttarakhand'],\n",
       "      dtype=object)"
      ]
     },
     "execution_count": 4,
     "metadata": {},
     "output_type": "execute_result"
    }
   ],
   "source": [
    "#hide\n",
    "arr_states[-9] = 'Puducherry'\n",
    "arr_states[-10] = 'Odisha'\n",
    "arr_states[6] = 'Dadra and Nagar Haveli and Daman and Diu'\n",
    "arr_states = np.append(arr_states,np.array(['Chhattisgarh','Ladakh','Uttarakhand']))\n",
    "arr_states"
   ]
  },
  {
   "cell_type": "code",
   "execution_count": 5,
   "metadata": {
    "execution": {
     "iopub.execute_input": "2020-09-01T12:26:21.825665Z",
     "iopub.status.busy": "2020-09-01T12:26:21.824921Z",
     "iopub.status.idle": "2020-09-01T12:26:21.833007Z",
     "shell.execute_reply": "2020-09-01T12:26:21.833560Z"
    },
    "papermill": {
     "duration": 0.032196,
     "end_time": "2020-09-01T12:26:21.833691",
     "exception": false,
     "start_time": "2020-09-01T12:26:21.801495",
     "status": "completed"
    },
    "tags": []
   },
   "outputs": [],
   "source": [
    "#hide\n",
    "dates = []\n",
    "for i in arr_dates:\n",
    "    if i>='2020-07-01':\n",
    "        dates.append(i)\n",
    "dict = {'states':dates}\n",
    "for i in arr_states:\n",
    "    dict[i] = [0]*len(dates)\n",
    "dft_cases = pd.DataFrame(dict)\n",
    "dft_deaths = pd.DataFrame(dict)\n"
   ]
  },
  {
   "cell_type": "code",
   "execution_count": 6,
   "metadata": {
    "execution": {
     "iopub.execute_input": "2020-09-01T12:26:21.872819Z",
     "iopub.status.busy": "2020-09-01T12:26:21.872226Z",
     "iopub.status.idle": "2020-09-01T12:26:22.774581Z",
     "shell.execute_reply": "2020-09-01T12:26:22.774030Z"
    },
    "papermill": {
     "duration": 0.924939,
     "end_time": "2020-09-01T12:26:22.774730",
     "exception": false,
     "start_time": "2020-09-01T12:26:21.849791",
     "status": "completed"
    },
    "tags": []
   },
   "outputs": [],
   "source": [
    "#hide\n",
    "for i in range(len(dates)):\n",
    "    df1_deaths = df_deaths1.get_group(dates[i])\n",
    "    for j in range(len(df1_deaths.index)):\n",
    "        if df1_deaths.iloc[j,1] in arr_states:\n",
    "            dft_deaths.loc[i,df1_deaths.iloc[j,1]] = df1_deaths.iloc[j,2]\n",
    "dft_deaths = dft_deaths.set_index('states')"
   ]
  },
  {
   "cell_type": "code",
   "execution_count": 7,
   "metadata": {
    "execution": {
     "iopub.execute_input": "2020-09-01T12:26:22.816361Z",
     "iopub.status.busy": "2020-09-01T12:26:22.815751Z",
     "iopub.status.idle": "2020-09-01T12:26:23.781616Z",
     "shell.execute_reply": "2020-09-01T12:26:23.780965Z"
    },
    "papermill": {
     "duration": 0.989821,
     "end_time": "2020-09-01T12:26:23.781786",
     "exception": false,
     "start_time": "2020-09-01T12:26:22.791965",
     "status": "completed"
    },
    "tags": []
   },
   "outputs": [],
   "source": [
    "#hide\n",
    "for i in range(len(dates)):\n",
    "    df1_cases = df_cases1.get_group(dates[i])\n",
    "    for j in range(len(df1_cases.index)):\n",
    "        if df1_cases.iloc[j,1] in arr_states:\n",
    "            dft_cases.loc[i,df1_cases.iloc[j,1]] = df1_cases.iloc[j,2]\n",
    "dft_cases = dft_cases.set_index('states')"
   ]
  },
  {
   "cell_type": "code",
   "execution_count": 8,
   "metadata": {
    "execution": {
     "iopub.execute_input": "2020-09-01T12:26:23.822833Z",
     "iopub.status.busy": "2020-09-01T12:26:23.821557Z",
     "iopub.status.idle": "2020-09-01T12:26:23.823497Z",
     "shell.execute_reply": "2020-09-01T12:26:23.823972Z"
    },
    "papermill": {
     "duration": 0.024822,
     "end_time": "2020-09-01T12:26:23.824105",
     "exception": false,
     "start_time": "2020-09-01T12:26:23.799283",
     "status": "completed"
    },
    "tags": []
   },
   "outputs": [],
   "source": [
    "#hide\n",
    "dft_cases = dft_cases.T\n",
    "dft_deaths = dft_deaths.T\n",
    "dt_today = dates[-1]\n",
    "dt_yday = dates[-2]"
   ]
  },
  {
   "cell_type": "code",
   "execution_count": 9,
   "metadata": {
    "execution": {
     "iopub.execute_input": "2020-09-01T12:26:23.867969Z",
     "iopub.status.busy": "2020-09-01T12:26:23.867374Z",
     "iopub.status.idle": "2020-09-01T12:26:23.871411Z",
     "shell.execute_reply": "2020-09-01T12:26:23.870900Z"
    },
    "papermill": {
     "duration": 0.031659,
     "end_time": "2020-09-01T12:26:23.871528",
     "exception": false,
     "start_time": "2020-09-01T12:26:23.839869",
     "status": "completed"
    },
    "tags": []
   },
   "outputs": [],
   "source": [
    "#hide\n",
    "dft_cases = dft_cases.reset_index()\n",
    "dft_deaths = dft_deaths.reset_index()\n",
    "dft_cases = dft_cases.rename(columns = {'index':'state'})\n",
    "dft_deaths = dft_deaths.rename(columns = {'index':'state'})"
   ]
  },
  {
   "cell_type": "code",
   "execution_count": 10,
   "metadata": {
    "execution": {
     "iopub.execute_input": "2020-09-01T12:26:23.916952Z",
     "iopub.status.busy": "2020-09-01T12:26:23.916342Z",
     "iopub.status.idle": "2020-09-01T12:26:23.919729Z",
     "shell.execute_reply": "2020-09-01T12:26:23.920188Z"
    },
    "papermill": {
     "duration": 0.031905,
     "end_time": "2020-09-01T12:26:23.920327",
     "exception": false,
     "start_time": "2020-09-01T12:26:23.888422",
     "status": "completed"
    },
    "tags": []
   },
   "outputs": [],
   "source": [
    "#hide\n",
    "dfc_cases = dft_cases.groupby('state')[dt_today].sum()\n",
    "dfc_deaths = dft_deaths.groupby('state')[dt_today].sum()\n",
    "dfp_cases = dft_cases.groupby('state')[dt_yday].sum()\n",
    "dfp_deaths = dft_deaths.groupby('state')[dt_yday].sum()"
   ]
  },
  {
   "cell_type": "code",
   "execution_count": 11,
   "metadata": {
    "execution": {
     "iopub.execute_input": "2020-09-01T12:26:23.967900Z",
     "iopub.status.busy": "2020-09-01T12:26:23.960727Z",
     "iopub.status.idle": "2020-09-01T12:26:23.974079Z",
     "shell.execute_reply": "2020-09-01T12:26:23.974602Z"
    },
    "papermill": {
     "duration": 0.038518,
     "end_time": "2020-09-01T12:26:23.974737",
     "exception": false,
     "start_time": "2020-09-01T12:26:23.936219",
     "status": "completed"
    },
    "tags": []
   },
   "outputs": [
    {
     "data": {
      "text/html": [
       "<div>\n",
       "<style scoped>\n",
       "    .dataframe tbody tr th:only-of-type {\n",
       "        vertical-align: middle;\n",
       "    }\n",
       "\n",
       "    .dataframe tbody tr th {\n",
       "        vertical-align: top;\n",
       "    }\n",
       "\n",
       "    .dataframe thead th {\n",
       "        text-align: right;\n",
       "    }\n",
       "</style>\n",
       "<table border=\"1\" class=\"dataframe\">\n",
       "  <thead>\n",
       "    <tr style=\"text-align: right;\">\n",
       "      <th></th>\n",
       "      <th>states</th>\n",
       "      <th>Cases</th>\n",
       "      <th>Deaths</th>\n",
       "      <th>PCases</th>\n",
       "      <th>PDeaths</th>\n",
       "    </tr>\n",
       "  </thead>\n",
       "  <tbody>\n",
       "    <tr>\n",
       "      <th>0</th>\n",
       "      <td>Maharashtra</td>\n",
       "      <td>792541</td>\n",
       "      <td>24583</td>\n",
       "      <td>792541</td>\n",
       "      <td>24583</td>\n",
       "    </tr>\n",
       "    <tr>\n",
       "      <th>1</th>\n",
       "      <td>Andhra Pradesh</td>\n",
       "      <td>434771</td>\n",
       "      <td>3969</td>\n",
       "      <td>434771</td>\n",
       "      <td>3969</td>\n",
       "    </tr>\n",
       "    <tr>\n",
       "      <th>2</th>\n",
       "      <td>Tamil Nadu</td>\n",
       "      <td>428041</td>\n",
       "      <td>7322</td>\n",
       "      <td>428041</td>\n",
       "      <td>7322</td>\n",
       "    </tr>\n",
       "    <tr>\n",
       "      <th>3</th>\n",
       "      <td>Karnataka</td>\n",
       "      <td>342423</td>\n",
       "      <td>5702</td>\n",
       "      <td>342423</td>\n",
       "      <td>5702</td>\n",
       "    </tr>\n",
       "    <tr>\n",
       "      <th>4</th>\n",
       "      <td>Uttar Pradesh</td>\n",
       "      <td>235757</td>\n",
       "      <td>3542</td>\n",
       "      <td>230414</td>\n",
       "      <td>3486</td>\n",
       "    </tr>\n",
       "  </tbody>\n",
       "</table>\n",
       "</div>"
      ],
      "text/plain": [
       "           states   Cases  Deaths  PCases  PDeaths\n",
       "0     Maharashtra  792541   24583  792541    24583\n",
       "1  Andhra Pradesh  434771    3969  434771     3969\n",
       "2      Tamil Nadu  428041    7322  428041     7322\n",
       "3       Karnataka  342423    5702  342423     5702\n",
       "4   Uttar Pradesh  235757    3542  230414     3486"
      ]
     },
     "execution_count": 11,
     "metadata": {},
     "output_type": "execute_result"
    }
   ],
   "source": [
    "#hide\n",
    "df_table = pd.DataFrame({'states': dfc_cases.index, 'Cases': dfc_cases.values, 'Deaths': dfc_deaths.values, 'PCases': dfp_cases.values, 'PDeaths': dfp_deaths.values}).set_index('states')\n",
    "df_table = df_table.sort_values(by = ['Cases','Deaths'], ascending = [False, False])\n",
    "df_table = df_table.reset_index()\n",
    "df_table.head()"
   ]
  },
  {
   "cell_type": "code",
   "execution_count": 12,
   "metadata": {
    "execution": {
     "iopub.execute_input": "2020-09-01T12:26:24.014488Z",
     "iopub.status.busy": "2020-09-01T12:26:24.013875Z",
     "iopub.status.idle": "2020-09-01T12:26:24.022259Z",
     "shell.execute_reply": "2020-09-01T12:26:24.021729Z"
    },
    "papermill": {
     "duration": 0.03136,
     "end_time": "2020-09-01T12:26:24.022388",
     "exception": false,
     "start_time": "2020-09-01T12:26:23.991028",
     "status": "completed"
    },
    "tags": []
   },
   "outputs": [],
   "source": [
    "#hide\n",
    "for c in 'Cases, Deaths'.split(', '):\n",
    "    df_table[f'{c} (+)'] = (df_table[c] - df_table[f'P{c}']).clip(0)\n",
    "df_table['Fatality Rate'] = (100* df_table['Deaths']/ df_table['Cases']).round(2)"
   ]
  },
  {
   "cell_type": "code",
   "execution_count": 13,
   "metadata": {
    "execution": {
     "iopub.execute_input": "2020-09-01T12:26:24.068250Z",
     "iopub.status.busy": "2020-09-01T12:26:24.067600Z",
     "iopub.status.idle": "2020-09-01T12:26:24.069964Z",
     "shell.execute_reply": "2020-09-01T12:26:24.070542Z"
    },
    "papermill": {
     "duration": 0.03161,
     "end_time": "2020-09-01T12:26:24.070682",
     "exception": false,
     "start_time": "2020-09-01T12:26:24.039072",
     "status": "completed"
    },
    "tags": []
   },
   "outputs": [
    {
     "data": {
      "text/html": [
       "<div>\n",
       "<style scoped>\n",
       "    .dataframe tbody tr th:only-of-type {\n",
       "        vertical-align: middle;\n",
       "    }\n",
       "\n",
       "    .dataframe tbody tr th {\n",
       "        vertical-align: top;\n",
       "    }\n",
       "\n",
       "    .dataframe thead th {\n",
       "        text-align: right;\n",
       "    }\n",
       "</style>\n",
       "<table border=\"1\" class=\"dataframe\">\n",
       "  <thead>\n",
       "    <tr style=\"text-align: right;\">\n",
       "      <th></th>\n",
       "      <th>states</th>\n",
       "      <th>Cases</th>\n",
       "      <th>Deaths</th>\n",
       "      <th>PCases</th>\n",
       "      <th>PDeaths</th>\n",
       "      <th>Cases (+)</th>\n",
       "      <th>Deaths (+)</th>\n",
       "      <th>Fatality Rate</th>\n",
       "    </tr>\n",
       "  </thead>\n",
       "  <tbody>\n",
       "    <tr>\n",
       "      <th>0</th>\n",
       "      <td>Maharashtra</td>\n",
       "      <td>792541</td>\n",
       "      <td>24583</td>\n",
       "      <td>792541</td>\n",
       "      <td>24583</td>\n",
       "      <td>0</td>\n",
       "      <td>0</td>\n",
       "      <td>3.10</td>\n",
       "    </tr>\n",
       "    <tr>\n",
       "      <th>1</th>\n",
       "      <td>Andhra Pradesh</td>\n",
       "      <td>434771</td>\n",
       "      <td>3969</td>\n",
       "      <td>434771</td>\n",
       "      <td>3969</td>\n",
       "      <td>0</td>\n",
       "      <td>0</td>\n",
       "      <td>0.91</td>\n",
       "    </tr>\n",
       "    <tr>\n",
       "      <th>2</th>\n",
       "      <td>Tamil Nadu</td>\n",
       "      <td>428041</td>\n",
       "      <td>7322</td>\n",
       "      <td>428041</td>\n",
       "      <td>7322</td>\n",
       "      <td>0</td>\n",
       "      <td>0</td>\n",
       "      <td>1.71</td>\n",
       "    </tr>\n",
       "    <tr>\n",
       "      <th>3</th>\n",
       "      <td>Karnataka</td>\n",
       "      <td>342423</td>\n",
       "      <td>5702</td>\n",
       "      <td>342423</td>\n",
       "      <td>5702</td>\n",
       "      <td>0</td>\n",
       "      <td>0</td>\n",
       "      <td>1.67</td>\n",
       "    </tr>\n",
       "    <tr>\n",
       "      <th>4</th>\n",
       "      <td>Uttar Pradesh</td>\n",
       "      <td>235757</td>\n",
       "      <td>3542</td>\n",
       "      <td>230414</td>\n",
       "      <td>3486</td>\n",
       "      <td>5343</td>\n",
       "      <td>56</td>\n",
       "      <td>1.50</td>\n",
       "    </tr>\n",
       "  </tbody>\n",
       "</table>\n",
       "</div>"
      ],
      "text/plain": [
       "           states   Cases  Deaths  PCases  PDeaths  Cases (+)  Deaths (+)  \\\n",
       "0     Maharashtra  792541   24583  792541    24583          0           0   \n",
       "1  Andhra Pradesh  434771    3969  434771     3969          0           0   \n",
       "2      Tamil Nadu  428041    7322  428041     7322          0           0   \n",
       "3       Karnataka  342423    5702  342423     5702          0           0   \n",
       "4   Uttar Pradesh  235757    3542  230414     3486       5343          56   \n",
       "\n",
       "   Fatality Rate  \n",
       "0           3.10  \n",
       "1           0.91  \n",
       "2           1.71  \n",
       "3           1.67  \n",
       "4           1.50  "
      ]
     },
     "execution_count": 13,
     "metadata": {},
     "output_type": "execute_result"
    }
   ],
   "source": [
    "#hide\n",
    "df_table.head()"
   ]
  },
  {
   "cell_type": "code",
   "execution_count": 14,
   "metadata": {
    "execution": {
     "iopub.execute_input": "2020-09-01T12:26:24.113200Z",
     "iopub.status.busy": "2020-09-01T12:26:24.112599Z",
     "iopub.status.idle": "2020-09-01T12:26:24.131940Z",
     "shell.execute_reply": "2020-09-01T12:26:24.132484Z"
    },
    "papermill": {
     "duration": 0.045305,
     "end_time": "2020-09-01T12:26:24.132625",
     "exception": false,
     "start_time": "2020-09-01T12:26:24.087320",
     "status": "completed"
    },
    "tags": []
   },
   "outputs": [
    {
     "data": {
      "text/plain": [
       "{'updated': '2020-09-01',\n",
       " 'since': '2020-08-31',\n",
       " 'Cases': 3700274,\n",
       " 'PCases': 3687939,\n",
       " 'Deaths': 65525,\n",
       " 'PDeaths': 65433,\n",
       " 'Cases (+)': 12335,\n",
       " 'Deaths (+)': 92}"
      ]
     },
     "execution_count": 14,
     "metadata": {},
     "output_type": "execute_result"
    }
   ],
   "source": [
    "#hide\n",
    "summary = {'updated':dates[-1], 'since':dates[-2]}\n",
    "list_names = ['Cases', 'PCases', 'Deaths', 'PDeaths', 'Cases (+)', 'Deaths (+)']\n",
    "for name in list_names:\n",
    "    summary[name] = df_table.sum()[name]\n",
    "summary"
   ]
  },
  {
   "cell_type": "code",
   "execution_count": 15,
   "metadata": {
    "execution": {
     "iopub.execute_input": "2020-09-01T12:26:24.172038Z",
     "iopub.status.busy": "2020-09-01T12:26:24.171430Z",
     "iopub.status.idle": "2020-09-01T12:26:24.174288Z",
     "shell.execute_reply": "2020-09-01T12:26:24.173753Z"
    },
    "papermill": {
     "duration": 0.024337,
     "end_time": "2020-09-01T12:26:24.174410",
     "exception": false,
     "start_time": "2020-09-01T12:26:24.150073",
     "status": "completed"
    },
    "tags": []
   },
   "outputs": [],
   "source": [
    "#hide\n",
    "overview = '''\n",
    "<!-- #######  HTML!! #########-->\n",
    "<h1 style=\"color: #5e9ca0; text-align: center;\">India</h1>\n",
    "<p style=\"text-align: center;\">Last update: <strong>{update}</strong></p>\n",
    "<p style=\"text-align: center;\">Confirmed cases:</p>\n",
    "<p style=\"text-align: center;font-size:24px;\">{cases} (<span style=\"color: #ff0000;\">+{new}</span>)</p>\n",
    "<p style=\"text-align: center;\">Confirmed deaths:</p>\n",
    "<p style=\"text-align: center;font-size:24px;\">{deaths} (<span style=\"color: #ff0000;\">+{dnew}</span>)</p>\n",
    "'''"
   ]
  },
  {
   "cell_type": "code",
   "execution_count": 16,
   "metadata": {
    "execution": {
     "iopub.execute_input": "2020-09-01T12:26:24.214303Z",
     "iopub.status.busy": "2020-09-01T12:26:24.213677Z",
     "iopub.status.idle": "2020-09-01T12:26:24.216350Z",
     "shell.execute_reply": "2020-09-01T12:26:24.216839Z"
    },
    "papermill": {
     "duration": 0.025674,
     "end_time": "2020-09-01T12:26:24.217019",
     "exception": false,
     "start_time": "2020-09-01T12:26:24.191345",
     "status": "completed"
    },
    "tags": []
   },
   "outputs": [
    {
     "data": {
      "text/html": [
       "\n",
       "<!-- #######  HTML!! #########-->\n",
       "<h1 style=\"color: #5e9ca0; text-align: center;\">India</h1>\n",
       "<p style=\"text-align: center;\">Last update: <strong>2020-09-01</strong></p>\n",
       "<p style=\"text-align: center;\">Confirmed cases:</p>\n",
       "<p style=\"text-align: center;font-size:24px;\">3700274 (<span style=\"color: #ff0000;\">+12335</span>)</p>\n",
       "<p style=\"text-align: center;\">Confirmed deaths:</p>\n",
       "<p style=\"text-align: center;font-size:24px;\">65525 (<span style=\"color: #ff0000;\">+92</span>)</p>\n"
      ],
      "text/plain": [
       "<IPython.core.display.HTML object>"
      ]
     },
     "metadata": {},
     "output_type": "display_data"
    }
   ],
   "source": [
    "#hide_input\n",
    "update = summary['updated']\n",
    "cases = summary['Cases']\n",
    "new = summary['Cases (+)']\n",
    "deaths = summary['Deaths']\n",
    "dnew = summary['Deaths (+)']\n",
    "\n",
    "html = HTML(overview.format(update=update, cases=cases,new=new,deaths=deaths,dnew=dnew))\n",
    "\n",
    "display(html)"
   ]
  },
  {
   "cell_type": "code",
   "execution_count": 17,
   "metadata": {
    "execution": {
     "iopub.execute_input": "2020-09-01T12:26:24.261036Z",
     "iopub.status.busy": "2020-09-01T12:26:24.260440Z",
     "iopub.status.idle": "2020-09-01T12:26:24.265609Z",
     "shell.execute_reply": "2020-09-01T12:26:24.266090Z"
    },
    "papermill": {
     "duration": 0.031433,
     "end_time": "2020-09-01T12:26:24.266226",
     "exception": false,
     "start_time": "2020-09-01T12:26:24.234793",
     "status": "completed"
    },
    "tags": []
   },
   "outputs": [],
   "source": [
    "#hide\n",
    "dt_cols = list(dft_cases.columns[1:])\n",
    "dft_ct_new_cases = dft_cases.groupby('state')[dt_cols].sum().diff(axis=1).fillna(0).astype(int)\n",
    "dft_ct_new_cases.sort_values(by = dates[-1], ascending = False,inplace = True)"
   ]
  },
  {
   "cell_type": "code",
   "execution_count": 18,
   "metadata": {
    "execution": {
     "iopub.execute_input": "2020-09-01T12:26:24.319195Z",
     "iopub.status.busy": "2020-09-01T12:26:24.318587Z",
     "iopub.status.idle": "2020-09-01T12:26:24.328912Z",
     "shell.execute_reply": "2020-09-01T12:26:24.329427Z"
    },
    "papermill": {
     "duration": 0.045645,
     "end_time": "2020-09-01T12:26:24.329566",
     "exception": false,
     "start_time": "2020-09-01T12:26:24.283921",
     "status": "completed"
    },
    "tags": []
   },
   "outputs": [
    {
     "data": {
      "text/html": [
       "<div>\n",
       "<style scoped>\n",
       "    .dataframe tbody tr th:only-of-type {\n",
       "        vertical-align: middle;\n",
       "    }\n",
       "\n",
       "    .dataframe tbody tr th {\n",
       "        vertical-align: top;\n",
       "    }\n",
       "\n",
       "    .dataframe thead th {\n",
       "        text-align: right;\n",
       "    }\n",
       "</style>\n",
       "<table border=\"1\" class=\"dataframe\">\n",
       "  <thead>\n",
       "    <tr style=\"text-align: right;\">\n",
       "      <th>states</th>\n",
       "      <th>2020-07-01</th>\n",
       "      <th>2020-07-02</th>\n",
       "      <th>2020-07-03</th>\n",
       "      <th>2020-07-04</th>\n",
       "      <th>2020-07-05</th>\n",
       "      <th>2020-07-06</th>\n",
       "      <th>2020-07-07</th>\n",
       "      <th>2020-07-08</th>\n",
       "      <th>2020-07-09</th>\n",
       "      <th>2020-07-10</th>\n",
       "      <th>...</th>\n",
       "      <th>2020-08-23</th>\n",
       "      <th>2020-08-24</th>\n",
       "      <th>2020-08-25</th>\n",
       "      <th>2020-08-26</th>\n",
       "      <th>2020-08-27</th>\n",
       "      <th>2020-08-28</th>\n",
       "      <th>2020-08-29</th>\n",
       "      <th>2020-08-30</th>\n",
       "      <th>2020-08-31</th>\n",
       "      <th>2020-09-01</th>\n",
       "    </tr>\n",
       "    <tr>\n",
       "      <th>state</th>\n",
       "      <th></th>\n",
       "      <th></th>\n",
       "      <th></th>\n",
       "      <th></th>\n",
       "      <th></th>\n",
       "      <th></th>\n",
       "      <th></th>\n",
       "      <th></th>\n",
       "      <th></th>\n",
       "      <th></th>\n",
       "      <th></th>\n",
       "      <th></th>\n",
       "      <th></th>\n",
       "      <th></th>\n",
       "      <th></th>\n",
       "      <th></th>\n",
       "      <th></th>\n",
       "      <th></th>\n",
       "      <th></th>\n",
       "      <th></th>\n",
       "      <th></th>\n",
       "    </tr>\n",
       "  </thead>\n",
       "  <tbody>\n",
       "    <tr>\n",
       "      <th>Uttar Pradesh</th>\n",
       "      <td>0</td>\n",
       "      <td>769</td>\n",
       "      <td>972</td>\n",
       "      <td>757</td>\n",
       "      <td>1153</td>\n",
       "      <td>929</td>\n",
       "      <td>1332</td>\n",
       "      <td>1188</td>\n",
       "      <td>1206</td>\n",
       "      <td>1338</td>\n",
       "      <td>...</td>\n",
       "      <td>5325</td>\n",
       "      <td>4601</td>\n",
       "      <td>5006</td>\n",
       "      <td>5640</td>\n",
       "      <td>5391</td>\n",
       "      <td>5405</td>\n",
       "      <td>5633</td>\n",
       "      <td>6175</td>\n",
       "      <td>4782</td>\n",
       "      <td>5343</td>\n",
       "    </tr>\n",
       "    <tr>\n",
       "      <th>Odisha</th>\n",
       "      <td>0</td>\n",
       "      <td>229</td>\n",
       "      <td>561</td>\n",
       "      <td>495</td>\n",
       "      <td>469</td>\n",
       "      <td>456</td>\n",
       "      <td>571</td>\n",
       "      <td>527</td>\n",
       "      <td>577</td>\n",
       "      <td>755</td>\n",
       "      <td>...</td>\n",
       "      <td>2993</td>\n",
       "      <td>2949</td>\n",
       "      <td>2752</td>\n",
       "      <td>3371</td>\n",
       "      <td>3384</td>\n",
       "      <td>3682</td>\n",
       "      <td>3252</td>\n",
       "      <td>3014</td>\n",
       "      <td>2602</td>\n",
       "      <td>3025</td>\n",
       "    </tr>\n",
       "    <tr>\n",
       "      <th>Telangana</th>\n",
       "      <td>0</td>\n",
       "      <td>1213</td>\n",
       "      <td>1892</td>\n",
       "      <td>1850</td>\n",
       "      <td>1590</td>\n",
       "      <td>1831</td>\n",
       "      <td>1879</td>\n",
       "      <td>1924</td>\n",
       "      <td>1410</td>\n",
       "      <td>1278</td>\n",
       "      <td>...</td>\n",
       "      <td>2384</td>\n",
       "      <td>1842</td>\n",
       "      <td>2579</td>\n",
       "      <td>3018</td>\n",
       "      <td>2795</td>\n",
       "      <td>2932</td>\n",
       "      <td>2751</td>\n",
       "      <td>2924</td>\n",
       "      <td>1873</td>\n",
       "      <td>2734</td>\n",
       "    </tr>\n",
       "    <tr>\n",
       "      <th>Rajasthan</th>\n",
       "      <td>0</td>\n",
       "      <td>350</td>\n",
       "      <td>390</td>\n",
       "      <td>480</td>\n",
       "      <td>632</td>\n",
       "      <td>524</td>\n",
       "      <td>716</td>\n",
       "      <td>659</td>\n",
       "      <td>500</td>\n",
       "      <td>611</td>\n",
       "      <td>...</td>\n",
       "      <td>1345</td>\n",
       "      <td>1346</td>\n",
       "      <td>1370</td>\n",
       "      <td>1345</td>\n",
       "      <td>1345</td>\n",
       "      <td>1355</td>\n",
       "      <td>1407</td>\n",
       "      <td>1450</td>\n",
       "      <td>1466</td>\n",
       "      <td>670</td>\n",
       "    </tr>\n",
       "    <tr>\n",
       "      <th>Tripura</th>\n",
       "      <td>0</td>\n",
       "      <td>39</td>\n",
       "      <td>93</td>\n",
       "      <td>25</td>\n",
       "      <td>23</td>\n",
       "      <td>111</td>\n",
       "      <td>24</td>\n",
       "      <td>57</td>\n",
       "      <td>16</td>\n",
       "      <td>142</td>\n",
       "      <td>...</td>\n",
       "      <td>331</td>\n",
       "      <td>200</td>\n",
       "      <td>293</td>\n",
       "      <td>329</td>\n",
       "      <td>385</td>\n",
       "      <td>509</td>\n",
       "      <td>443</td>\n",
       "      <td>447</td>\n",
       "      <td>321</td>\n",
       "      <td>509</td>\n",
       "    </tr>\n",
       "  </tbody>\n",
       "</table>\n",
       "<p>5 rows × 63 columns</p>\n",
       "</div>"
      ],
      "text/plain": [
       "states         2020-07-01  2020-07-02  2020-07-03  2020-07-04  2020-07-05  \\\n",
       "state                                                                       \n",
       "Uttar Pradesh           0         769         972         757        1153   \n",
       "Odisha                  0         229         561         495         469   \n",
       "Telangana               0        1213        1892        1850        1590   \n",
       "Rajasthan               0         350         390         480         632   \n",
       "Tripura                 0          39          93          25          23   \n",
       "\n",
       "states         2020-07-06  2020-07-07  2020-07-08  2020-07-09  2020-07-10  \\\n",
       "state                                                                       \n",
       "Uttar Pradesh         929        1332        1188        1206        1338   \n",
       "Odisha                456         571         527         577         755   \n",
       "Telangana            1831        1879        1924        1410        1278   \n",
       "Rajasthan             524         716         659         500         611   \n",
       "Tripura               111          24          57          16         142   \n",
       "\n",
       "states         ...  2020-08-23  2020-08-24  2020-08-25  2020-08-26  \\\n",
       "state          ...                                                   \n",
       "Uttar Pradesh  ...        5325        4601        5006        5640   \n",
       "Odisha         ...        2993        2949        2752        3371   \n",
       "Telangana      ...        2384        1842        2579        3018   \n",
       "Rajasthan      ...        1345        1346        1370        1345   \n",
       "Tripura        ...         331         200         293         329   \n",
       "\n",
       "states         2020-08-27  2020-08-28  2020-08-29  2020-08-30  2020-08-31  \\\n",
       "state                                                                       \n",
       "Uttar Pradesh        5391        5405        5633        6175        4782   \n",
       "Odisha               3384        3682        3252        3014        2602   \n",
       "Telangana            2795        2932        2751        2924        1873   \n",
       "Rajasthan            1345        1355        1407        1450        1466   \n",
       "Tripura               385         509         443         447         321   \n",
       "\n",
       "states         2020-09-01  \n",
       "state                      \n",
       "Uttar Pradesh        5343  \n",
       "Odisha               3025  \n",
       "Telangana            2734  \n",
       "Rajasthan             670  \n",
       "Tripura               509  \n",
       "\n",
       "[5 rows x 63 columns]"
      ]
     },
     "execution_count": 18,
     "metadata": {},
     "output_type": "execute_result"
    }
   ],
   "source": [
    "#hide\n",
    "dft_ct_new_cases.head()"
   ]
  },
  {
   "cell_type": "code",
   "execution_count": 19,
   "metadata": {
    "execution": {
     "iopub.execute_input": "2020-09-01T12:26:24.433400Z",
     "iopub.status.busy": "2020-09-01T12:26:24.387134Z",
     "iopub.status.idle": "2020-09-01T12:26:27.463582Z",
     "shell.execute_reply": "2020-09-01T12:26:27.463044Z"
    },
    "papermill": {
     "duration": 3.115679,
     "end_time": "2020-09-01T12:26:27.463719",
     "exception": false,
     "start_time": "2020-09-01T12:26:24.348040",
     "status": "completed"
    },
    "tags": []
   },
   "outputs": [
    {
     "data": {
      "image/png": "[encoded data removed]",
      "text/plain": [
       "<Figure size 1296x2016 with 11 Axes>"
      ]
     },
     "metadata": {
      "needs_background": "light"
     },
     "output_type": "display_data"
    }
   ],
   "source": [
    "#hide_input\n",
    "df = dft_ct_new_cases.copy()\n",
    "df.loc['Total'] = df.sum()\n",
    "n = 5\n",
    "ax = []\n",
    "fig = plt.figure(figsize = (18,28))\n",
    "gs = fig.add_gridspec(n+2, 5)\n",
    "# gs = fig.add_gridspec(2, 3)\n",
    "ax1 = fig.add_subplot(gs[0, :])\n",
    "ef = df.loc['Total'].rename_axis('date').reset_index()\n",
    "ef['date'] = ef['date'].astype('datetime64[ns]')\n",
    "ax1.bar(ef.date,ef.Total,alpha=0.3,color='#007acc')\n",
    "ax1.plot(ef.date,ef.Total , marker=\"o\", color='#007acc')\n",
    "ax1.xaxis.set_major_locator(mdates.WeekdayLocator())\n",
    "ax1.xaxis.set_major_formatter(mdates.DateFormatter('%b %d'))\n",
    "ax1.text(0.02, 0.5,'India daily case count', transform = ax1.transAxes, fontsize=25);\n",
    "ax1.spines['right'].set_visible(False)\n",
    "ax1.spines['top'].set_visible(False)\n",
    "\n",
    "ax2 = fig.add_subplot(gs[1,0])\n",
    "ef = df.loc['Maharashtra'].rename_axis('date').reset_index()\n",
    "ef['date'] = ef['date'].astype('datetime64[ns]')\n",
    "\n",
    "ax2.bar(ef.date, ef.Maharashtra,color = '#007acc',alpha=0.5)\n",
    "ax2.xaxis.set_major_locator(mdates.WeekdayLocator())\n",
    "ax2.xaxis.set_major_formatter(mdates.DateFormatter('%b %d'))\n",
    "ax2.set_xticks(ax2.get_xticks()[::3])\n",
    "maxyval = ef.Maharashtra.max()\n",
    "ax2.set_ylim([0,maxyval])\n",
    "ax2.text(0.05, 0.9,'Maharashtra', transform = ax2.transAxes, fontsize=20);\n",
    "ax2.spines['right'].set_visible(False)\n",
    "ax2.spines['top'].set_visible(False)\n",
    "\n",
    "\n",
    "ax3 = fig.add_subplot(gs[1,1])\n",
    "ef = df.loc['Tamil Nadu'].rename_axis('date').reset_index()\n",
    "ef['date'] = ef['date'].astype('datetime64[ns]')\n",
    "ax3.bar(ef.date, ef['Tamil Nadu'],color = '#007acc',alpha=0.5,)\n",
    "ax3.xaxis.set_major_locator(mdates.WeekdayLocator())\n",
    "ax3.xaxis.set_major_formatter(mdates.DateFormatter('%b %d'))\n",
    "ax3.set_xticks(ax3.get_xticks()[::3])\n",
    "ax3.text(0.05, 0.9,'Tamil Nadu', transform = ax3.transAxes, fontsize=20);\n",
    "ax3.spines['right'].set_visible(False)\n",
    "ax3.spines['top'].set_visible(False)\n",
    "\n",
    "ax5 = fig.add_subplot(gs[1,3])\n",
    "ef = df.loc['Telangana'].rename_axis('date').reset_index()\n",
    "ef['date'] = ef['date'].astype('datetime64[ns]')\n",
    "ax5.bar(ef.date, ef['Telangana'],color = '#007acc',alpha=0.5,)\n",
    "ax5.xaxis.set_major_locator(mdates.WeekdayLocator())\n",
    "ax5.xaxis.set_major_formatter(mdates.DateFormatter('%b %d'))\n",
    "ax5.set_xticks(ax5.get_xticks()[::3])\n",
    "ax5.text(0.05, 0.9,'Telangana', transform = ax5.transAxes, fontsize=20);\n",
    "ax5.spines['right'].set_visible(False)\n",
    "ax5.spines['top'].set_visible(False)\n",
    "\n",
    "ax6 = fig.add_subplot(gs[1,4])\n",
    "ef = df.loc['Andhra Pradesh'].rename_axis('date').reset_index()\n",
    "ef['date'] = ef['date'].astype('datetime64[ns]')\n",
    "ax6.bar(ef.date, ef['Andhra Pradesh'],color = '#007acc',alpha=0.5,)\n",
    "ax6.xaxis.set_major_locator(mdates.WeekdayLocator())\n",
    "ax6.xaxis.set_major_formatter(mdates.DateFormatter('%b %d'))\n",
    "ax6.set_xticks(ax6.get_xticks()[::3])\n",
    "ax6.text(0.05, 1,'Andhra Pradesh', transform = ax6.transAxes, fontsize=20);\n",
    "ax6.spines['right'].set_visible(False)\n",
    "ax6.spines['top'].set_visible(False)\n",
    "\n",
    "ax4 = fig.add_subplot(gs[1,2])\n",
    "ef = df.loc['Delhi'].rename_axis('date').reset_index()\n",
    "ef['date'] = ef['date'].astype('datetime64[ns]')\n",
    "ax4.bar(ef.date, ef.Delhi,color = '#007acc',alpha=0.5)\n",
    "ax4.set_xticks([])\n",
    "ax4.xaxis.set_major_locator(mdates.WeekdayLocator())\n",
    "ax4.xaxis.set_major_formatter(mdates.DateFormatter('%b %d'))\n",
    "ax4.set_xticks(ax4.get_xticks()[::3])\n",
    "ax4.spines['right'].set_visible(False)\n",
    "ax4.spines['top'].set_visible(False)\n",
    "\n",
    "ax4.text(0.05, 1,'Delhi', transform = ax4.transAxes, fontsize=20)\n",
    "\n",
    "for i in range(n):\n",
    "    \n",
    "    ax.append(fig.add_subplot(gs[i+2,:]))\n",
    "    ef = df.iloc[i+3].rename_axis('date').reset_index()\n",
    "    ef['date'] = ef['date'].astype('datetime64[ns]')\n",
    "    ax[i].bar(ef.date,ef.iloc[:,-1],color = '#007acc',alpha=0.3)\n",
    "    ax[i].plot(ef.date,ef.iloc[:,-1],marker='o',color='#007acc')\n",
    "    ax[i].text(0.02,0.5,f'{ef.columns.values[-1]}',transform = ax[i].transAxes, fontsize = 20);\n",
    "    ax[i].xaxis.set_major_locator(mdates.WeekdayLocator())\n",
    "    ax[i].xaxis.set_major_formatter(mdates.DateFormatter('%b %d'))\n",
    "    ax[i].set_ylim([0,7000])\n",
    "    ax[i].spines['right'].set_visible(False)\n",
    "    ax[i].spines['top'].set_visible(False)\n",
    "plt.tight_layout()\n"
   ]
  },
  {
   "cell_type": "code",
   "execution_count": 20,
   "metadata": {
    "execution": {
     "iopub.execute_input": "2020-09-01T12:26:27.522101Z",
     "iopub.status.busy": "2020-09-01T12:26:27.521450Z",
     "iopub.status.idle": "2020-09-01T12:26:27.523781Z",
     "shell.execute_reply": "2020-09-01T12:26:27.524348Z"
    },
    "papermill": {
     "duration": 0.034925,
     "end_time": "2020-09-01T12:26:27.524501",
     "exception": false,
     "start_time": "2020-09-01T12:26:27.489576",
     "status": "completed"
    },
    "tags": []
   },
   "outputs": [
    {
     "name": "stdout",
     "output_type": "stream",
     "text": [
      "                                   states   Cases  Deaths  PCases  PDeaths  Cases (+)  Deaths (+)  Fatality Rate\n",
      "                              Maharashtra  792541   24583  792541    24583          0           0           3.10\n",
      "                           Andhra Pradesh  434771    3969  434771     3969          0           0           0.91\n",
      "                               Tamil Nadu  428041    7322  428041     7322          0           0           1.71\n",
      "                                Karnataka  342423    5702  342423     5702          0           0           1.67\n",
      "                            Uttar Pradesh  235757    3542  230414     3486       5343          56           1.50\n",
      "                                    Delhi  174748    4444  174748     4444          0           0           2.54\n",
      "                              West Bengal  162778    3228  162778     3228          0           0           1.98\n",
      "                                    Bihar  136337     694  136337      694          0           0           0.51\n",
      "                                Telangana  127697     836  124963      827       2734           9           0.65\n",
      "                                    Assam  109041     306  109041      306          0           0           0.28\n",
      "                                   Odisha  106561     556  103536      545       3025          11           0.52\n",
      "                                  Gujarat   96435    3020   96435     3020          0           0           3.13\n",
      "                                Rajasthan   82363    1062   81693     1056        670           6           1.29\n",
      "                                   Kerala   75385     295   75385      295          0           0           0.39\n",
      "                                  Haryana   64732     689   64732      689          0           0           1.06\n",
      "                           Madhya Pradesh   63965    1394   63965     1394          0           0           2.18\n",
      "                                   Punjab   53992    1453   53992     1453          0           0           2.69\n",
      "                                Jharkhand   41656     417   41656      417          0           0           1.00\n",
      "                        Jammu and Kashmir   37698     703   37698      703          0           0           1.86\n",
      "                             Chhattisgarh   31503     277   31503      277          0           0           0.88\n",
      "                              Uttarakhand   19827     269   19827      269          0           0           1.36\n",
      "                                      Goa   17418     192   17418      192          0           0           1.10\n",
      "                               Puducherry   14411     228   14411      228          0           0           1.58\n",
      "                                  Tripura   12153     113   11644      103        509          10           0.93\n",
      "                                  Manipur    6252      28    6252       28          0           0           0.45\n",
      "                         Himachal Pradesh    6116      37    6116       37          0           0           0.60\n",
      "                               Chandigarh    4346      56    4346       56          0           0           1.29\n",
      "                        Arunachal Pradesh    4112       7    4112        7          0           0           0.17\n",
      "                                 Nagaland    4003       8    3950        8         53           0           0.20\n",
      "              Andaman and Nicobar Islands    3132      46    3132       46          0           0           1.47\n",
      "                                   Ladakh    2681      34    2681       34          0           0           1.27\n",
      "                                Meghalaya    2368      10    2368       10          0           0           0.42\n",
      " Dadra and Nagar Haveli and Daman and Diu    2367       2    2367        2          0           0           0.08\n",
      "                                   Sikkim    1652       3    1652        3          0           0           0.18\n",
      "                                  Mizoram    1012       0    1011        0          1           0           0.00\n",
      "                              Lakshadweep       0       0       0        0          0           0            NaN\n"
     ]
    }
   ],
   "source": [
    "#hide_input\n",
    "print(df_table.to_string(index=False))"
   ]
  },
  {
   "cell_type": "code",
   "execution_count": null,
   "metadata": {
    "papermill": {
     "duration": 0.024114,
     "end_time": "2020-09-01T12:26:27.571919",
     "exception": false,
     "start_time": "2020-09-01T12:26:27.547805",
     "status": "completed"
    },
    "tags": []
   },
   "outputs": [],
   "source": []
  },
  {
   "cell_type": "code",
   "execution_count": null,
   "metadata": {
    "papermill": {
     "duration": 0.023954,
     "end_time": "2020-09-01T12:26:27.624314",
     "exception": false,
     "start_time": "2020-09-01T12:26:27.600360",
     "status": "completed"
    },
    "tags": []
   },
   "outputs": [],
   "source": []
  }
 ],
 "metadata": {
  "kernelspec": {
   "display_name": "Python 3",
   "language": "python",
   "name": "python3"
  },
  "language_info": {
   "codemirror_mode": {
    "name": "ipython",
    "version": 3
   },
   "file_extension": ".py",
   "mimetype": "text/x-python",
   "name": "python",
   "nbconvert_exporter": "python",
   "pygments_lexer": "ipython3",
   "version": "3.6.12"
  },
  "papermill": {
   "duration": 8.616237,
   "end_time": "2020-09-01T12:26:28.062855",
   "environment_variables": {},
   "exception": null,
   "input_path": "latest.ipynb",
   "output_path": "latest.ipynb",
   "parameters": {},
   "start_time": "2020-09-01T12:26:19.446618",
   "version": "2.1.2"
  }
 },
 "nbformat": 4,
 "nbformat_minor": 4
}