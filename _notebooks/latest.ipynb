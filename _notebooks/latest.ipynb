{
 "cells": [
  {
   "cell_type": "markdown",
   "metadata": {
    "papermill": {
     "duration": 0.020115,
     "end_time": "2020-10-16T09:26:19.155164",
     "exception": false,
     "start_time": "2020-10-16T09:26:19.135049",
     "status": "completed"
    },
    "tags": []
   },
   "source": [
    "# Latest COVID-19 India Matplotlib Overview"
   ]
  },
  {
   "cell_type": "code",
   "execution_count": 1,
   "metadata": {
    "execution": {
     "iopub.execute_input": "2020-10-16T09:26:19.193353Z",
     "iopub.status.busy": "2020-10-16T09:26:19.192637Z",
     "iopub.status.idle": "2020-10-16T09:26:19.783466Z",
     "shell.execute_reply": "2020-10-16T09:26:19.782904Z"
    },
    "papermill": {
     "duration": 0.611976,
     "end_time": "2020-10-16T09:26:19.783677",
     "exception": false,
     "start_time": "2020-10-16T09:26:19.171701",
     "status": "completed"
    },
    "tags": []
   },
   "outputs": [],
   "source": [
    "#hide\n",
    "import pandas as pd\n",
    "import numpy as np\n",
    "import requests\n",
    "import json\n",
    "import matplotlib.pyplot as plt\n",
    "import matplotlib.dates as mdates\n",
    "import matplotlib as mpl\n",
    "from IPython.core.display import display,HTML\n",
    "%matplotlib inline\n",
    "from datetime import date"
   ]
  },
  {
   "cell_type": "code",
   "execution_count": 2,
   "metadata": {
    "execution": {
     "iopub.execute_input": "2020-10-16T09:26:19.822328Z",
     "iopub.status.busy": "2020-10-16T09:26:19.821271Z",
     "iopub.status.idle": "2020-10-16T09:26:19.940899Z",
     "shell.execute_reply": "2020-10-16T09:26:19.940394Z"
    },
    "papermill": {
     "duration": 0.141875,
     "end_time": "2020-10-16T09:26:19.941035",
     "exception": false,
     "start_time": "2020-10-16T09:26:19.799160",
     "status": "completed"
    },
    "tags": []
   },
   "outputs": [],
   "source": [
    "#hide\n",
    "df  = pd.read_csv('https://api.covid19india.org/csv/latest/states.csv')\n",
    "df = df[['Date','State','Confirmed','Deceased']]\n",
    "df = df.rename(columns={'Confirmed':'Cases', \"Deceased\":'Deaths'})\n",
    "df_cases = df[[\"Date\",'State','Cases']]\n",
    "df_deaths = df[['Date','State','Deaths']]\n",
    "df_cases1 = df_cases.groupby('Date')\n",
    "df_deaths1= df_deaths.groupby('Date')"
   ]
  },
  {
   "cell_type": "code",
   "execution_count": 3,
   "metadata": {
    "execution": {
     "iopub.execute_input": "2020-10-16T09:26:19.977435Z",
     "iopub.status.busy": "2020-10-16T09:26:19.976518Z",
     "iopub.status.idle": "2020-10-16T09:26:19.994642Z",
     "shell.execute_reply": "2020-10-16T09:26:19.994072Z"
    },
    "papermill": {
     "duration": 0.037916,
     "end_time": "2020-10-16T09:26:19.994808",
     "exception": false,
     "start_time": "2020-10-16T09:26:19.956892",
     "status": "completed"
    },
    "tags": []
   },
   "outputs": [],
   "source": [
    "#hide\n",
    "df_snap = pd.read_csv('data/SnapshotCases-28-July.csv')\n",
    "arr_states = df_snap['states'].unique()\n",
    "arr_dates = df['Date'].unique()\n",
    "df_snap = df_snap.set_index('states')"
   ]
  },
  {
   "cell_type": "code",
   "execution_count": 4,
   "metadata": {
    "execution": {
     "iopub.execute_input": "2020-10-16T09:26:20.035804Z",
     "iopub.status.busy": "2020-10-16T09:26:20.035196Z",
     "iopub.status.idle": "2020-10-16T09:26:20.039201Z",
     "shell.execute_reply": "2020-10-16T09:26:20.038271Z"
    },
    "papermill": {
     "duration": 0.027891,
     "end_time": "2020-10-16T09:26:20.039351",
     "exception": false,
     "start_time": "2020-10-16T09:26:20.011460",
     "status": "completed"
    },
    "tags": []
   },
   "outputs": [
    {
     "data": {
      "text/plain": [
       "array(['Andaman and Nicobar Islands', 'Andhra Pradesh',\n",
       "       'Arunachal Pradesh', 'Assam', 'Bihar', 'Chandigarh',\n",
       "       'Dadra and Nagar Haveli and Daman and Diu', 'Delhi', 'Goa',\n",
       "       'Gujarat', 'Haryana', 'Himachal Pradesh', 'Jammu and Kashmir',\n",
       "       'Jharkhand', 'Karnataka', 'Kerala', 'Lakshadweep',\n",
       "       'Madhya Pradesh', 'Maharashtra', 'Manipur', 'Meghalaya', 'Mizoram',\n",
       "       'Nagaland', 'Odisha', 'Puducherry', 'Punjab', 'Rajasthan',\n",
       "       'Sikkim', 'Tamil Nadu', 'Telangana', 'Tripura', 'Uttar Pradesh',\n",
       "       'West Bengal', 'Chhattisgarh', 'Ladakh', 'Uttarakhand'],\n",
       "      dtype=object)"
      ]
     },
     "execution_count": 4,
     "metadata": {},
     "output_type": "execute_result"
    }
   ],
   "source": [
    "#hide\n",
    "arr_states[-9] = 'Puducherry'\n",
    "arr_states[-10] = 'Odisha'\n",
    "arr_states[6] = 'Dadra and Nagar Haveli and Daman and Diu'\n",
    "arr_states = np.append(arr_states,np.array(['Chhattisgarh','Ladakh','Uttarakhand']))\n",
    "arr_states"
   ]
  },
  {
   "cell_type": "code",
   "execution_count": 5,
   "metadata": {
    "execution": {
     "iopub.execute_input": "2020-10-16T09:26:20.083297Z",
     "iopub.status.busy": "2020-10-16T09:26:20.082717Z",
     "iopub.status.idle": "2020-10-16T09:26:20.090516Z",
     "shell.execute_reply": "2020-10-16T09:26:20.091174Z"
    },
    "papermill": {
     "duration": 0.034393,
     "end_time": "2020-10-16T09:26:20.091297",
     "exception": false,
     "start_time": "2020-10-16T09:26:20.056904",
     "status": "completed"
    },
    "tags": []
   },
   "outputs": [],
   "source": [
    "#hide\n",
    "dates = []\n",
    "for i in arr_dates:\n",
    "    if i>='2020-07-01':\n",
    "        dates.append(i)\n",
    "dict = {'states':dates}\n",
    "for i in arr_states:\n",
    "    dict[i] = [0]*len(dates)\n",
    "dft_cases = pd.DataFrame(dict)\n",
    "dft_deaths = pd.DataFrame(dict)\n"
   ]
  },
  {
   "cell_type": "code",
   "execution_count": 6,
   "metadata": {
    "execution": {
     "iopub.execute_input": "2020-10-16T09:26:20.131413Z",
     "iopub.status.busy": "2020-10-16T09:26:20.130795Z",
     "iopub.status.idle": "2020-10-16T09:26:21.952588Z",
     "shell.execute_reply": "2020-10-16T09:26:21.952100Z"
    },
    "papermill": {
     "duration": 1.845697,
     "end_time": "2020-10-16T09:26:21.952728",
     "exception": false,
     "start_time": "2020-10-16T09:26:20.107031",
     "status": "completed"
    },
    "tags": []
   },
   "outputs": [],
   "source": [
    "#hide\n",
    "for i in range(len(dates)):\n",
    "    df1_deaths = df_deaths1.get_group(dates[i])\n",
    "    for j in range(len(df1_deaths.index)):\n",
    "        if df1_deaths.iloc[j,1] in arr_states:\n",
    "            dft_deaths.loc[i,df1_deaths.iloc[j,1]] = df1_deaths.iloc[j,2]\n",
    "dft_deaths = dft_deaths.set_index('states')"
   ]
  },
  {
   "cell_type": "code",
   "execution_count": 7,
   "metadata": {
    "execution": {
     "iopub.execute_input": "2020-10-16T09:26:21.989661Z",
     "iopub.status.busy": "2020-10-16T09:26:21.988981Z",
     "iopub.status.idle": "2020-10-16T09:26:23.877892Z",
     "shell.execute_reply": "2020-10-16T09:26:23.877142Z"
    },
    "papermill": {
     "duration": 1.908925,
     "end_time": "2020-10-16T09:26:23.878055",
     "exception": false,
     "start_time": "2020-10-16T09:26:21.969130",
     "status": "completed"
    },
    "tags": []
   },
   "outputs": [],
   "source": [
    "#hide\n",
    "for i in range(len(dates)):\n",
    "    df1_cases = df_cases1.get_group(dates[i])\n",
    "    for j in range(len(df1_cases.index)):\n",
    "        if df1_cases.iloc[j,1] in arr_states:\n",
    "            dft_cases.loc[i,df1_cases.iloc[j,1]] = df1_cases.iloc[j,2]\n",
    "dft_cases = dft_cases.set_index('states')"
   ]
  },
  {
   "cell_type": "code",
   "execution_count": 8,
   "metadata": {
    "execution": {
     "iopub.execute_input": "2020-10-16T09:26:23.916915Z",
     "iopub.status.busy": "2020-10-16T09:26:23.916265Z",
     "iopub.status.idle": "2020-10-16T09:26:23.918781Z",
     "shell.execute_reply": "2020-10-16T09:26:23.918201Z"
    },
    "papermill": {
     "duration": 0.024835,
     "end_time": "2020-10-16T09:26:23.918915",
     "exception": false,
     "start_time": "2020-10-16T09:26:23.894080",
     "status": "completed"
    },
    "tags": []
   },
   "outputs": [],
   "source": [
    "#hide\n",
    "dft_cases = dft_cases.T\n",
    "dft_deaths = dft_deaths.T\n",
    "dt_today = dates[-1]\n",
    "dt_yday = dates[-2]"
   ]
  },
  {
   "cell_type": "code",
   "execution_count": 9,
   "metadata": {
    "execution": {
     "iopub.execute_input": "2020-10-16T09:26:23.953928Z",
     "iopub.status.busy": "2020-10-16T09:26:23.953270Z",
     "iopub.status.idle": "2020-10-16T09:26:23.958384Z",
     "shell.execute_reply": "2020-10-16T09:26:23.957918Z"
    },
    "papermill": {
     "duration": 0.024247,
     "end_time": "2020-10-16T09:26:23.958527",
     "exception": false,
     "start_time": "2020-10-16T09:26:23.934280",
     "status": "completed"
    },
    "tags": []
   },
   "outputs": [],
   "source": [
    "#hide\n",
    "dft_cases = dft_cases.reset_index()\n",
    "dft_deaths = dft_deaths.reset_index()\n",
    "dft_cases = dft_cases.rename(columns = {'index':'state'})\n",
    "dft_deaths = dft_deaths.rename(columns = {'index':'state'})"
   ]
  },
  {
   "cell_type": "code",
   "execution_count": 10,
   "metadata": {
    "execution": {
     "iopub.execute_input": "2020-10-16T09:26:24.146809Z",
     "iopub.status.busy": "2020-10-16T09:26:24.145853Z",
     "iopub.status.idle": "2020-10-16T09:26:24.150240Z",
     "shell.execute_reply": "2020-10-16T09:26:24.150644Z"
    },
    "papermill": {
     "duration": 0.172355,
     "end_time": "2020-10-16T09:26:24.150819",
     "exception": false,
     "start_time": "2020-10-16T09:26:23.978464",
     "status": "completed"
    },
    "tags": []
   },
   "outputs": [],
   "source": [
    "#hide\n",
    "dfc_cases = dft_cases.groupby('state')[dt_today].sum()\n",
    "dfc_deaths = dft_deaths.groupby('state')[dt_today].sum()\n",
    "dfp_cases = dft_cases.groupby('state')[dt_yday].sum()\n",
    "dfp_deaths = dft_deaths.groupby('state')[dt_yday].sum()"
   ]
  },
  {
   "cell_type": "code",
   "execution_count": 11,
   "metadata": {
    "execution": {
     "iopub.execute_input": "2020-10-16T09:26:24.258163Z",
     "iopub.status.busy": "2020-10-16T09:26:24.257291Z",
     "iopub.status.idle": "2020-10-16T09:26:24.264400Z",
     "shell.execute_reply": "2020-10-16T09:26:24.264855Z"
    },
    "papermill": {
     "duration": 0.03703,
     "end_time": "2020-10-16T09:26:24.264976",
     "exception": false,
     "start_time": "2020-10-16T09:26:24.227946",
     "status": "completed"
    },
    "tags": []
   },
   "outputs": [
    {
     "data": {
      "text/html": [
       "<div>\n",
       "<style scoped>\n",
       "    .dataframe tbody tr th:only-of-type {\n",
       "        vertical-align: middle;\n",
       "    }\n",
       "\n",
       "    .dataframe tbody tr th {\n",
       "        vertical-align: top;\n",
       "    }\n",
       "\n",
       "    .dataframe thead th {\n",
       "        text-align: right;\n",
       "    }\n",
       "</style>\n",
       "<table border=\"1\" class=\"dataframe\">\n",
       "  <thead>\n",
       "    <tr style=\"text-align: right;\">\n",
       "      <th></th>\n",
       "      <th>states</th>\n",
       "      <th>Cases</th>\n",
       "      <th>Deaths</th>\n",
       "      <th>PCases</th>\n",
       "      <th>PDeaths</th>\n",
       "    </tr>\n",
       "  </thead>\n",
       "  <tbody>\n",
       "    <tr>\n",
       "      <th>0</th>\n",
       "      <td>Maharashtra</td>\n",
       "      <td>1564615</td>\n",
       "      <td>41196</td>\n",
       "      <td>1564615</td>\n",
       "      <td>41196</td>\n",
       "    </tr>\n",
       "    <tr>\n",
       "      <th>1</th>\n",
       "      <td>Andhra Pradesh</td>\n",
       "      <td>771503</td>\n",
       "      <td>6357</td>\n",
       "      <td>771503</td>\n",
       "      <td>6357</td>\n",
       "    </tr>\n",
       "    <tr>\n",
       "      <th>2</th>\n",
       "      <td>Karnataka</td>\n",
       "      <td>743848</td>\n",
       "      <td>10283</td>\n",
       "      <td>743848</td>\n",
       "      <td>10283</td>\n",
       "    </tr>\n",
       "    <tr>\n",
       "      <th>3</th>\n",
       "      <td>Tamil Nadu</td>\n",
       "      <td>674802</td>\n",
       "      <td>10472</td>\n",
       "      <td>674802</td>\n",
       "      <td>10472</td>\n",
       "    </tr>\n",
       "    <tr>\n",
       "      <th>4</th>\n",
       "      <td>Uttar Pradesh</td>\n",
       "      <td>447383</td>\n",
       "      <td>6543</td>\n",
       "      <td>447383</td>\n",
       "      <td>6543</td>\n",
       "    </tr>\n",
       "  </tbody>\n",
       "</table>\n",
       "</div>"
      ],
      "text/plain": [
       "           states    Cases  Deaths   PCases  PDeaths\n",
       "0     Maharashtra  1564615   41196  1564615    41196\n",
       "1  Andhra Pradesh   771503    6357   771503     6357\n",
       "2       Karnataka   743848   10283   743848    10283\n",
       "3      Tamil Nadu   674802   10472   674802    10472\n",
       "4   Uttar Pradesh   447383    6543   447383     6543"
      ]
     },
     "execution_count": 11,
     "metadata": {},
     "output_type": "execute_result"
    }
   ],
   "source": [
    "#hide\n",
    "df_table = pd.DataFrame({'states': dfc_cases.index, 'Cases': dfc_cases.values, 'Deaths': dfc_deaths.values, 'PCases': dfp_cases.values, 'PDeaths': dfp_deaths.values}).set_index('states')\n",
    "df_table = df_table.sort_values(by = ['Cases','Deaths'], ascending = [False, False])\n",
    "df_table = df_table.reset_index()\n",
    "df_table.head()"
   ]
  },
  {
   "cell_type": "code",
   "execution_count": 12,
   "metadata": {
    "execution": {
     "iopub.execute_input": "2020-10-16T09:26:24.299775Z",
     "iopub.status.busy": "2020-10-16T09:26:24.299162Z",
     "iopub.status.idle": "2020-10-16T09:26:24.308168Z",
     "shell.execute_reply": "2020-10-16T09:26:24.308841Z"
    },
    "papermill": {
     "duration": 0.029173,
     "end_time": "2020-10-16T09:26:24.308976",
     "exception": false,
     "start_time": "2020-10-16T09:26:24.279803",
     "status": "completed"
    },
    "tags": []
   },
   "outputs": [],
   "source": [
    "#hide\n",
    "for c in 'Cases, Deaths'.split(', '):\n",
    "    df_table[f'{c} (+)'] = (df_table[c] - df_table[f'P{c}']).clip(0)\n",
    "df_table['Fatality Rate'] = (100* df_table['Deaths']/ df_table['Cases']).round(2)"
   ]
  },
  {
   "cell_type": "code",
   "execution_count": 13,
   "metadata": {
    "execution": {
     "iopub.execute_input": "2020-10-16T09:26:24.352995Z",
     "iopub.status.busy": "2020-10-16T09:26:24.352343Z",
     "iopub.status.idle": "2020-10-16T09:26:24.355595Z",
     "shell.execute_reply": "2020-10-16T09:26:24.355132Z"
    },
    "papermill": {
     "duration": 0.030542,
     "end_time": "2020-10-16T09:26:24.355702",
     "exception": false,
     "start_time": "2020-10-16T09:26:24.325160",
     "status": "completed"
    },
    "tags": []
   },
   "outputs": [
    {
     "data": {
      "text/html": [
       "<div>\n",
       "<style scoped>\n",
       "    .dataframe tbody tr th:only-of-type {\n",
       "        vertical-align: middle;\n",
       "    }\n",
       "\n",
       "    .dataframe tbody tr th {\n",
       "        vertical-align: top;\n",
       "    }\n",
       "\n",
       "    .dataframe thead th {\n",
       "        text-align: right;\n",
       "    }\n",
       "</style>\n",
       "<table border=\"1\" class=\"dataframe\">\n",
       "  <thead>\n",
       "    <tr style=\"text-align: right;\">\n",
       "      <th></th>\n",
       "      <th>states</th>\n",
       "      <th>Cases</th>\n",
       "      <th>Deaths</th>\n",
       "      <th>PCases</th>\n",
       "      <th>PDeaths</th>\n",
       "      <th>Cases (+)</th>\n",
       "      <th>Deaths (+)</th>\n",
       "      <th>Fatality Rate</th>\n",
       "    </tr>\n",
       "  </thead>\n",
       "  <tbody>\n",
       "    <tr>\n",
       "      <th>0</th>\n",
       "      <td>Maharashtra</td>\n",
       "      <td>1564615</td>\n",
       "      <td>41196</td>\n",
       "      <td>1564615</td>\n",
       "      <td>41196</td>\n",
       "      <td>0</td>\n",
       "      <td>0</td>\n",
       "      <td>2.63</td>\n",
       "    </tr>\n",
       "    <tr>\n",
       "      <th>1</th>\n",
       "      <td>Andhra Pradesh</td>\n",
       "      <td>771503</td>\n",
       "      <td>6357</td>\n",
       "      <td>771503</td>\n",
       "      <td>6357</td>\n",
       "      <td>0</td>\n",
       "      <td>0</td>\n",
       "      <td>0.82</td>\n",
       "    </tr>\n",
       "    <tr>\n",
       "      <th>2</th>\n",
       "      <td>Karnataka</td>\n",
       "      <td>743848</td>\n",
       "      <td>10283</td>\n",
       "      <td>743848</td>\n",
       "      <td>10283</td>\n",
       "      <td>0</td>\n",
       "      <td>0</td>\n",
       "      <td>1.38</td>\n",
       "    </tr>\n",
       "    <tr>\n",
       "      <th>3</th>\n",
       "      <td>Tamil Nadu</td>\n",
       "      <td>674802</td>\n",
       "      <td>10472</td>\n",
       "      <td>674802</td>\n",
       "      <td>10472</td>\n",
       "      <td>0</td>\n",
       "      <td>0</td>\n",
       "      <td>1.55</td>\n",
       "    </tr>\n",
       "    <tr>\n",
       "      <th>4</th>\n",
       "      <td>Uttar Pradesh</td>\n",
       "      <td>447383</td>\n",
       "      <td>6543</td>\n",
       "      <td>447383</td>\n",
       "      <td>6543</td>\n",
       "      <td>0</td>\n",
       "      <td>0</td>\n",
       "      <td>1.46</td>\n",
       "    </tr>\n",
       "  </tbody>\n",
       "</table>\n",
       "</div>"
      ],
      "text/plain": [
       "           states    Cases  Deaths   PCases  PDeaths  Cases (+)  Deaths (+)  \\\n",
       "0     Maharashtra  1564615   41196  1564615    41196          0           0   \n",
       "1  Andhra Pradesh   771503    6357   771503     6357          0           0   \n",
       "2       Karnataka   743848   10283   743848    10283          0           0   \n",
       "3      Tamil Nadu   674802   10472   674802    10472          0           0   \n",
       "4   Uttar Pradesh   447383    6543   447383     6543          0           0   \n",
       "\n",
       "   Fatality Rate  \n",
       "0           2.63  \n",
       "1           0.82  \n",
       "2           1.38  \n",
       "3           1.55  \n",
       "4           1.46  "
      ]
     },
     "execution_count": 13,
     "metadata": {},
     "output_type": "execute_result"
    }
   ],
   "source": [
    "#hide\n",
    "df_table.head()"
   ]
  },
  {
   "cell_type": "code",
   "execution_count": 14,
   "metadata": {
    "execution": {
     "iopub.execute_input": "2020-10-16T09:26:24.392237Z",
     "iopub.status.busy": "2020-10-16T09:26:24.391687Z",
     "iopub.status.idle": "2020-10-16T09:26:24.411662Z",
     "shell.execute_reply": "2020-10-16T09:26:24.411213Z"
    },
    "papermill": {
     "duration": 0.038789,
     "end_time": "2020-10-16T09:26:24.411763",
     "exception": false,
     "start_time": "2020-10-16T09:26:24.372974",
     "status": "completed"
    },
    "tags": []
   },
   "outputs": [
    {
     "data": {
      "text/plain": [
       "{'updated': '2020-10-16',\n",
       " 'since': '2020-10-15',\n",
       " 'Cases': 7372394,\n",
       " 'PCases': 7368531,\n",
       " 'Deaths': 112214,\n",
       " 'PDeaths': 112193,\n",
       " 'Cases (+)': 3863,\n",
       " 'Deaths (+)': 21}"
      ]
     },
     "execution_count": 14,
     "metadata": {},
     "output_type": "execute_result"
    }
   ],
   "source": [
    "#hide\n",
    "summary = {'updated':dates[-1], 'since':dates[-2]}\n",
    "list_names = ['Cases', 'PCases', 'Deaths', 'PDeaths', 'Cases (+)', 'Deaths (+)']\n",
    "for name in list_names:\n",
    "    summary[name] = df_table.sum()[name]\n",
    "summary"
   ]
  },
  {
   "cell_type": "code",
   "execution_count": 15,
   "metadata": {
    "execution": {
     "iopub.execute_input": "2020-10-16T09:26:24.448908Z",
     "iopub.status.busy": "2020-10-16T09:26:24.448397Z",
     "iopub.status.idle": "2020-10-16T09:26:24.450674Z",
     "shell.execute_reply": "2020-10-16T09:26:24.451115Z"
    },
    "papermill": {
     "duration": 0.022728,
     "end_time": "2020-10-16T09:26:24.451227",
     "exception": false,
     "start_time": "2020-10-16T09:26:24.428499",
     "status": "completed"
    },
    "tags": []
   },
   "outputs": [],
   "source": [
    "#hide\n",
    "overview = '''\n",
    "<!-- #######  HTML!! #########-->\n",
    "<h1 style=\"color: #5e9ca0; text-align: center;\">India</h1>\n",
    "<p style=\"text-align: center;\">Last update: <strong>{update}</strong></p>\n",
    "<p style=\"text-align: center;\">Confirmed cases:</p>\n",
    "<p style=\"text-align: center;font-size:24px;\">{cases} (<span style=\"color: #ff0000;\">+{new}</span>)</p>\n",
    "<p style=\"text-align: center;\">Confirmed deaths:</p>\n",
    "<p style=\"text-align: center;font-size:24px;\">{deaths} (<span style=\"color: #ff0000;\">+{dnew}</span>)</p>\n",
    "'''"
   ]
  },
  {
   "cell_type": "code",
   "execution_count": 16,
   "metadata": {
    "execution": {
     "iopub.execute_input": "2020-10-16T09:26:24.488254Z",
     "iopub.status.busy": "2020-10-16T09:26:24.487684Z",
     "iopub.status.idle": "2020-10-16T09:26:24.491892Z",
     "shell.execute_reply": "2020-10-16T09:26:24.491216Z"
    },
    "papermill": {
     "duration": 0.02499,
     "end_time": "2020-10-16T09:26:24.492034",
     "exception": false,
     "start_time": "2020-10-16T09:26:24.467044",
     "status": "completed"
    },
    "tags": []
   },
   "outputs": [
    {
     "data": {
      "text/html": [
       "\n",
       "<!-- #######  HTML!! #########-->\n",
       "<h1 style=\"color: #5e9ca0; text-align: center;\">India</h1>\n",
       "<p style=\"text-align: center;\">Last update: <strong>2020-10-16</strong></p>\n",
       "<p style=\"text-align: center;\">Confirmed cases:</p>\n",
       "<p style=\"text-align: center;font-size:24px;\">7372394 (<span style=\"color: #ff0000;\">+3863</span>)</p>\n",
       "<p style=\"text-align: center;\">Confirmed deaths:</p>\n",
       "<p style=\"text-align: center;font-size:24px;\">112214 (<span style=\"color: #ff0000;\">+21</span>)</p>\n"
      ],
      "text/plain": [
       "<IPython.core.display.HTML object>"
      ]
     },
     "metadata": {},
     "output_type": "display_data"
    }
   ],
   "source": [
    "#hide_input\n",
    "update = summary['updated']\n",
    "cases = summary['Cases']\n",
    "new = summary['Cases (+)']\n",
    "deaths = summary['Deaths']\n",
    "dnew = summary['Deaths (+)']\n",
    "\n",
    "html = HTML(overview.format(update=update, cases=cases,new=new,deaths=deaths,dnew=dnew))\n",
    "\n",
    "display(html)"
   ]
  },
  {
   "cell_type": "code",
   "execution_count": 17,
   "metadata": {
    "execution": {
     "iopub.execute_input": "2020-10-16T09:26:24.535373Z",
     "iopub.status.busy": "2020-10-16T09:26:24.534713Z",
     "iopub.status.idle": "2020-10-16T09:26:24.543509Z",
     "shell.execute_reply": "2020-10-16T09:26:24.540772Z"
    },
    "papermill": {
     "duration": 0.032515,
     "end_time": "2020-10-16T09:26:24.543735",
     "exception": false,
     "start_time": "2020-10-16T09:26:24.511220",
     "status": "completed"
    },
    "tags": []
   },
   "outputs": [],
   "source": [
    "#hide\n",
    "dt_cols = list(dft_cases.columns[1:])\n",
    "dft_ct_new_cases = dft_cases.groupby('state')[dt_cols].sum().diff(axis=1).fillna(0).astype(int)\n",
    "dft_ct_new_cases.sort_values(by = dates[-1], ascending = False,inplace = True)"
   ]
  },
  {
   "cell_type": "code",
   "execution_count": 18,
   "metadata": {
    "execution": {
     "iopub.execute_input": "2020-10-16T09:26:24.597061Z",
     "iopub.status.busy": "2020-10-16T09:26:24.596349Z",
     "iopub.status.idle": "2020-10-16T09:26:24.599905Z",
     "shell.execute_reply": "2020-10-16T09:26:24.599360Z"
    },
    "papermill": {
     "duration": 0.03807,
     "end_time": "2020-10-16T09:26:24.600036",
     "exception": false,
     "start_time": "2020-10-16T09:26:24.561966",
     "status": "completed"
    },
    "tags": []
   },
   "outputs": [
    {
     "data": {
      "text/html": [
       "<div>\n",
       "<style scoped>\n",
       "    .dataframe tbody tr th:only-of-type {\n",
       "        vertical-align: middle;\n",
       "    }\n",
       "\n",
       "    .dataframe tbody tr th {\n",
       "        vertical-align: top;\n",
       "    }\n",
       "\n",
       "    .dataframe thead th {\n",
       "        text-align: right;\n",
       "    }\n",
       "</style>\n",
       "<table border=\"1\" class=\"dataframe\">\n",
       "  <thead>\n",
       "    <tr style=\"text-align: right;\">\n",
       "      <th>states</th>\n",
       "      <th>2020-07-01</th>\n",
       "      <th>2020-07-02</th>\n",
       "      <th>2020-07-03</th>\n",
       "      <th>2020-07-04</th>\n",
       "      <th>2020-07-05</th>\n",
       "      <th>2020-07-06</th>\n",
       "      <th>2020-07-07</th>\n",
       "      <th>2020-07-08</th>\n",
       "      <th>2020-07-09</th>\n",
       "      <th>2020-07-10</th>\n",
       "      <th>...</th>\n",
       "      <th>2020-10-07</th>\n",
       "      <th>2020-10-08</th>\n",
       "      <th>2020-10-09</th>\n",
       "      <th>2020-10-10</th>\n",
       "      <th>2020-10-11</th>\n",
       "      <th>2020-10-12</th>\n",
       "      <th>2020-10-13</th>\n",
       "      <th>2020-10-14</th>\n",
       "      <th>2020-10-15</th>\n",
       "      <th>2020-10-16</th>\n",
       "    </tr>\n",
       "    <tr>\n",
       "      <th>state</th>\n",
       "      <th></th>\n",
       "      <th></th>\n",
       "      <th></th>\n",
       "      <th></th>\n",
       "      <th></th>\n",
       "      <th></th>\n",
       "      <th></th>\n",
       "      <th></th>\n",
       "      <th></th>\n",
       "      <th></th>\n",
       "      <th></th>\n",
       "      <th></th>\n",
       "      <th></th>\n",
       "      <th></th>\n",
       "      <th></th>\n",
       "      <th></th>\n",
       "      <th></th>\n",
       "      <th></th>\n",
       "      <th></th>\n",
       "      <th></th>\n",
       "      <th></th>\n",
       "    </tr>\n",
       "  </thead>\n",
       "  <tbody>\n",
       "    <tr>\n",
       "      <th>Odisha</th>\n",
       "      <td>0</td>\n",
       "      <td>229</td>\n",
       "      <td>561</td>\n",
       "      <td>495</td>\n",
       "      <td>469</td>\n",
       "      <td>456</td>\n",
       "      <td>571</td>\n",
       "      <td>527</td>\n",
       "      <td>577</td>\n",
       "      <td>755</td>\n",
       "      <td>...</td>\n",
       "      <td>2995</td>\n",
       "      <td>3144</td>\n",
       "      <td>2697</td>\n",
       "      <td>2854</td>\n",
       "      <td>2546</td>\n",
       "      <td>2423</td>\n",
       "      <td>2275</td>\n",
       "      <td>2604</td>\n",
       "      <td>2470</td>\n",
       "      <td>2138</td>\n",
       "    </tr>\n",
       "    <tr>\n",
       "      <th>Telangana</th>\n",
       "      <td>0</td>\n",
       "      <td>1213</td>\n",
       "      <td>1892</td>\n",
       "      <td>1850</td>\n",
       "      <td>1590</td>\n",
       "      <td>1831</td>\n",
       "      <td>1879</td>\n",
       "      <td>1924</td>\n",
       "      <td>1410</td>\n",
       "      <td>1278</td>\n",
       "      <td>...</td>\n",
       "      <td>2154</td>\n",
       "      <td>1896</td>\n",
       "      <td>1891</td>\n",
       "      <td>1811</td>\n",
       "      <td>1717</td>\n",
       "      <td>1021</td>\n",
       "      <td>1708</td>\n",
       "      <td>1446</td>\n",
       "      <td>1432</td>\n",
       "      <td>1554</td>\n",
       "    </tr>\n",
       "    <tr>\n",
       "      <th>Tripura</th>\n",
       "      <td>0</td>\n",
       "      <td>39</td>\n",
       "      <td>93</td>\n",
       "      <td>25</td>\n",
       "      <td>23</td>\n",
       "      <td>111</td>\n",
       "      <td>24</td>\n",
       "      <td>57</td>\n",
       "      <td>16</td>\n",
       "      <td>142</td>\n",
       "      <td>...</td>\n",
       "      <td>237</td>\n",
       "      <td>214</td>\n",
       "      <td>223</td>\n",
       "      <td>171</td>\n",
       "      <td>199</td>\n",
       "      <td>109</td>\n",
       "      <td>217</td>\n",
       "      <td>181</td>\n",
       "      <td>172</td>\n",
       "      <td>162</td>\n",
       "    </tr>\n",
       "    <tr>\n",
       "      <th>Mizoram</th>\n",
       "      <td>0</td>\n",
       "      <td>2</td>\n",
       "      <td>0</td>\n",
       "      <td>2</td>\n",
       "      <td>22</td>\n",
       "      <td>11</td>\n",
       "      <td>1</td>\n",
       "      <td>5</td>\n",
       "      <td>0</td>\n",
       "      <td>23</td>\n",
       "      <td>...</td>\n",
       "      <td>20</td>\n",
       "      <td>2</td>\n",
       "      <td>7</td>\n",
       "      <td>5</td>\n",
       "      <td>13</td>\n",
       "      <td>9</td>\n",
       "      <td>18</td>\n",
       "      <td>10</td>\n",
       "      <td>8</td>\n",
       "      <td>9</td>\n",
       "    </tr>\n",
       "    <tr>\n",
       "      <th>Andaman and Nicobar Islands</th>\n",
       "      <td>0</td>\n",
       "      <td>9</td>\n",
       "      <td>7</td>\n",
       "      <td>3</td>\n",
       "      <td>6</td>\n",
       "      <td>16</td>\n",
       "      <td>6</td>\n",
       "      <td>2</td>\n",
       "      <td>7</td>\n",
       "      <td>0</td>\n",
       "      <td>...</td>\n",
       "      <td>23</td>\n",
       "      <td>17</td>\n",
       "      <td>24</td>\n",
       "      <td>16</td>\n",
       "      <td>13</td>\n",
       "      <td>18</td>\n",
       "      <td>13</td>\n",
       "      <td>10</td>\n",
       "      <td>16</td>\n",
       "      <td>0</td>\n",
       "    </tr>\n",
       "  </tbody>\n",
       "</table>\n",
       "<p>5 rows × 108 columns</p>\n",
       "</div>"
      ],
      "text/plain": [
       "states                       2020-07-01  2020-07-02  2020-07-03  2020-07-04  \\\n",
       "state                                                                         \n",
       "Odisha                                0         229         561         495   \n",
       "Telangana                             0        1213        1892        1850   \n",
       "Tripura                               0          39          93          25   \n",
       "Mizoram                               0           2           0           2   \n",
       "Andaman and Nicobar Islands           0           9           7           3   \n",
       "\n",
       "states                       2020-07-05  2020-07-06  2020-07-07  2020-07-08  \\\n",
       "state                                                                         \n",
       "Odisha                              469         456         571         527   \n",
       "Telangana                          1590        1831        1879        1924   \n",
       "Tripura                              23         111          24          57   \n",
       "Mizoram                              22          11           1           5   \n",
       "Andaman and Nicobar Islands           6          16           6           2   \n",
       "\n",
       "states                       2020-07-09  2020-07-10  ...  2020-10-07  \\\n",
       "state                                                ...               \n",
       "Odisha                              577         755  ...        2995   \n",
       "Telangana                          1410        1278  ...        2154   \n",
       "Tripura                              16         142  ...         237   \n",
       "Mizoram                               0          23  ...          20   \n",
       "Andaman and Nicobar Islands           7           0  ...          23   \n",
       "\n",
       "states                       2020-10-08  2020-10-09  2020-10-10  2020-10-11  \\\n",
       "state                                                                         \n",
       "Odisha                             3144        2697        2854        2546   \n",
       "Telangana                          1896        1891        1811        1717   \n",
       "Tripura                             214         223         171         199   \n",
       "Mizoram                               2           7           5          13   \n",
       "Andaman and Nicobar Islands          17          24          16          13   \n",
       "\n",
       "states                       2020-10-12  2020-10-13  2020-10-14  2020-10-15  \\\n",
       "state                                                                         \n",
       "Odisha                             2423        2275        2604        2470   \n",
       "Telangana                          1021        1708        1446        1432   \n",
       "Tripura                             109         217         181         172   \n",
       "Mizoram                               9          18          10           8   \n",
       "Andaman and Nicobar Islands          18          13          10          16   \n",
       "\n",
       "states                       2020-10-16  \n",
       "state                                    \n",
       "Odisha                             2138  \n",
       "Telangana                          1554  \n",
       "Tripura                             162  \n",
       "Mizoram                               9  \n",
       "Andaman and Nicobar Islands           0  \n",
       "\n",
       "[5 rows x 108 columns]"
      ]
     },
     "execution_count": 18,
     "metadata": {},
     "output_type": "execute_result"
    }
   ],
   "source": [
    "#hide\n",
    "dft_ct_new_cases.head()"
   ]
  },
  {
   "cell_type": "code",
   "execution_count": 19,
   "metadata": {
    "execution": {
     "iopub.execute_input": "2020-10-16T09:26:24.641789Z",
     "iopub.status.busy": "2020-10-16T09:26:24.640976Z",
     "iopub.status.idle": "2020-10-16T09:26:29.767453Z",
     "shell.execute_reply": "2020-10-16T09:26:29.767898Z"
    },
    "papermill": {
     "duration": 5.14819,
     "end_time": "2020-10-16T09:26:29.768043",
     "exception": false,
     "start_time": "2020-10-16T09:26:24.619853",
     "status": "completed"
    },
    "tags": []
   },
   "outputs": [
    {
     "data": {
      "image/png": "[encoded data removed]",
      "text/plain": [
       "<Figure size 1296x2016 with 11 Axes>"
      ]
     },
     "metadata": {
      "needs_background": "light"
     },
     "output_type": "display_data"
    }
   ],
   "source": [
    "#hide_input\n",
    "df = dft_ct_new_cases.copy()\n",
    "df.loc['Total'] = df.sum()\n",
    "n = 5\n",
    "ax = []\n",
    "fig = plt.figure(figsize = (18,28))\n",
    "gs = fig.add_gridspec(n+2, 5)\n",
    "# gs = fig.add_gridspec(2, 3)\n",
    "ax1 = fig.add_subplot(gs[0, :])\n",
    "ef = df.loc['Total'].rename_axis('date').reset_index()\n",
    "ef['date'] = ef['date'].astype('datetime64[ns]')\n",
    "ax1.bar(ef.date,ef.Total,alpha=0.3,color='#007acc')\n",
    "ax1.plot(ef.date,ef.Total , marker=\"o\", color='#007acc')\n",
    "ax1.xaxis.set_major_locator(mdates.WeekdayLocator())\n",
    "ax1.xaxis.set_major_formatter(mdates.DateFormatter('%b %d'))\n",
    "ax1.text(0.02, 0.5,'India daily case count', transform = ax1.transAxes, fontsize=25);\n",
    "ax1.spines['right'].set_visible(False)\n",
    "ax1.spines['top'].set_visible(False)\n",
    "\n",
    "ax2 = fig.add_subplot(gs[1,0])\n",
    "ef = df.loc['Maharashtra'].rename_axis('date').reset_index()\n",
    "ef['date'] = ef['date'].astype('datetime64[ns]')\n",
    "\n",
    "ax2.bar(ef.date, ef.Maharashtra,color = '#007acc',alpha=0.5)\n",
    "ax2.xaxis.set_major_locator(mdates.WeekdayLocator())\n",
    "ax2.xaxis.set_major_formatter(mdates.DateFormatter('%b %d'))\n",
    "ax2.set_xticks(ax2.get_xticks()[::3])\n",
    "maxyval = ef.Maharashtra.max()\n",
    "ax2.set_ylim([0,maxyval])\n",
    "ax2.text(0.05, 0.9,'Maharashtra', transform = ax2.transAxes, fontsize=20);\n",
    "ax2.spines['right'].set_visible(False)\n",
    "ax2.spines['top'].set_visible(False)\n",
    "\n",
    "\n",
    "ax3 = fig.add_subplot(gs[1,1])\n",
    "ef = df.loc['Tamil Nadu'].rename_axis('date').reset_index()\n",
    "ef['date'] = ef['date'].astype('datetime64[ns]')\n",
    "ax3.bar(ef.date, ef['Tamil Nadu'],color = '#007acc',alpha=0.5,)\n",
    "ax3.xaxis.set_major_locator(mdates.WeekdayLocator())\n",
    "ax3.xaxis.set_major_formatter(mdates.DateFormatter('%b %d'))\n",
    "ax3.set_xticks(ax3.get_xticks()[::3])\n",
    "ax3.text(0.05, 0.9,'Tamil Nadu', transform = ax3.transAxes, fontsize=20);\n",
    "ax3.spines['right'].set_visible(False)\n",
    "ax3.spines['top'].set_visible(False)\n",
    "\n",
    "ax5 = fig.add_subplot(gs[1,3])\n",
    "ef = df.loc['Telangana'].rename_axis('date').reset_index()\n",
    "ef['date'] = ef['date'].astype('datetime64[ns]')\n",
    "ax5.bar(ef.date, ef['Telangana'],color = '#007acc',alpha=0.5,)\n",
    "ax5.xaxis.set_major_locator(mdates.WeekdayLocator())\n",
    "ax5.xaxis.set_major_formatter(mdates.DateFormatter('%b %d'))\n",
    "ax5.set_xticks(ax5.get_xticks()[::3])\n",
    "ax5.text(0.05, 0.9,'Telangana', transform = ax5.transAxes, fontsize=20);\n",
    "ax5.spines['right'].set_visible(False)\n",
    "ax5.spines['top'].set_visible(False)\n",
    "\n",
    "ax6 = fig.add_subplot(gs[1,4])\n",
    "ef = df.loc['Andhra Pradesh'].rename_axis('date').reset_index()\n",
    "ef['date'] = ef['date'].astype('datetime64[ns]')\n",
    "ax6.bar(ef.date, ef['Andhra Pradesh'],color = '#007acc',alpha=0.5,)\n",
    "ax6.xaxis.set_major_locator(mdates.WeekdayLocator())\n",
    "ax6.xaxis.set_major_formatter(mdates.DateFormatter('%b %d'))\n",
    "ax6.set_xticks(ax6.get_xticks()[::3])\n",
    "ax6.text(0.05, 1,'Andhra Pradesh', transform = ax6.transAxes, fontsize=20);\n",
    "ax6.spines['right'].set_visible(False)\n",
    "ax6.spines['top'].set_visible(False)\n",
    "\n",
    "ax4 = fig.add_subplot(gs[1,2])\n",
    "ef = df.loc['Delhi'].rename_axis('date').reset_index()\n",
    "ef['date'] = ef['date'].astype('datetime64[ns]')\n",
    "ax4.bar(ef.date, ef.Delhi,color = '#007acc',alpha=0.5)\n",
    "ax4.set_xticks([])\n",
    "ax4.xaxis.set_major_locator(mdates.WeekdayLocator())\n",
    "ax4.xaxis.set_major_formatter(mdates.DateFormatter('%b %d'))\n",
    "ax4.set_xticks(ax4.get_xticks()[::3])\n",
    "ax4.spines['right'].set_visible(False)\n",
    "ax4.spines['top'].set_visible(False)\n",
    "\n",
    "ax4.text(0.05, 1,'Delhi', transform = ax4.transAxes, fontsize=20)\n",
    "\n",
    "for i in range(n):\n",
    "    \n",
    "    ax.append(fig.add_subplot(gs[i+2,:]))\n",
    "    ef = df.iloc[i+3].rename_axis('date').reset_index()\n",
    "    ef['date'] = ef['date'].astype('datetime64[ns]')\n",
    "    ax[i].bar(ef.date,ef.iloc[:,-1],color = '#007acc',alpha=0.3)\n",
    "    ax[i].plot(ef.date,ef.iloc[:,-1],marker='o',color='#007acc')\n",
    "    ax[i].text(0.02,0.5,f'{ef.columns.values[-1]}',transform = ax[i].transAxes, fontsize = 20);\n",
    "    ax[i].xaxis.set_major_locator(mdates.WeekdayLocator())\n",
    "    ax[i].xaxis.set_major_formatter(mdates.DateFormatter('%b %d'))\n",
    "    ax[i].set_ylim([0,7000])\n",
    "    ax[i].spines['right'].set_visible(False)\n",
    "    ax[i].spines['top'].set_visible(False)\n",
    "plt.tight_layout()\n"
   ]
  },
  {
   "cell_type": "code",
   "execution_count": 20,
   "metadata": {
    "execution": {
     "iopub.execute_input": "2020-10-16T09:26:29.824458Z",
     "iopub.status.busy": "2020-10-16T09:26:29.823680Z",
     "iopub.status.idle": "2020-10-16T09:26:29.826411Z",
     "shell.execute_reply": "2020-10-16T09:26:29.826943Z"
    },
    "papermill": {
     "duration": 0.037683,
     "end_time": "2020-10-16T09:26:29.827079",
     "exception": false,
     "start_time": "2020-10-16T09:26:29.789396",
     "status": "completed"
    },
    "tags": []
   },
   "outputs": [
    {
     "name": "stdout",
     "output_type": "stream",
     "text": [
      "                                   states    Cases  Deaths   PCases  PDeaths  Cases (+)  Deaths (+)  Fatality Rate\n",
      "                              Maharashtra  1564615   41196  1564615    41196          0           0           2.63\n",
      "                           Andhra Pradesh   771503    6357   771503     6357          0           0           0.82\n",
      "                                Karnataka   743848   10283   743848    10283          0           0           1.38\n",
      "                               Tamil Nadu   674802   10472   674802    10472          0           0           1.55\n",
      "                            Uttar Pradesh   447383    6543   447383     6543          0           0           1.46\n",
      "                                    Delhi   321031    5924   321031     5924          0           0           1.85\n",
      "                                   Kerala   317930    1090   317930     1090          0           0           0.34\n",
      "                              West Bengal   309417    5870   309417     5870          0           0           1.90\n",
      "                                   Odisha   264149    1152   262011     1142       2138          10           0.44\n",
      "                                Telangana   219224    1256   217670     1249       1554           7           0.57\n",
      "                                    Bihar   200825     972   200825      972          0           0           0.48\n",
      "                                    Assam   198982     843   198982      843          0           0           0.42\n",
      "                                Rajasthan   167279    1708   167279     1708          0           0           1.02\n",
      "                           Madhya Pradesh   156584    2710   156584     2710          0           0           1.73\n",
      "                                  Gujarat   156283    3609   156283     3609          0           0           2.31\n",
      "                             Chhattisgarh   153515    1385   153515     1385          0           0           0.90\n",
      "                                  Haryana   146706    1623   146706     1623          0           0           1.11\n",
      "                                   Punjab   126230    3954   126230     3954          0           0           3.13\n",
      "                                Jharkhand    94952     819    94952      819          0           0           0.86\n",
      "                        Jammu and Kashmir    86057    1358    86057     1358          0           0           1.58\n",
      "                              Uttarakhand    56493     814    56493      814          0           0           1.44\n",
      "                                      Goa    39770     525    39770      525          0           0           1.32\n",
      "                               Puducherry    32486     570    32486      570          0           0           1.75\n",
      "                                  Tripura    29190     320    29028      316        162           4           1.10\n",
      "                         Himachal Pradesh    18303     255    18303      255          0           0           1.39\n",
      "                                  Manipur    14378     104    14378      104          0           0           0.72\n",
      "                               Chandigarh    13477     201    13477      201          0           0           1.49\n",
      "                        Arunachal Pradesh    12971      30    12971       30          0           0           0.23\n",
      "                                Meghalaya     8164      73     8164       73          0           0           0.89\n",
      "                                 Nagaland     7492      17     7492       17          0           0           0.23\n",
      "                                   Ladakh     5393      65     5393       65          0           0           1.21\n",
      "              Andaman and Nicobar Islands     4062      55     4062       55          0           0           1.35\n",
      "                                   Sikkim     3500      59     3500       59          0           0           1.69\n",
      " Dadra and Nagar Haveli and Daman and Diu     3171       2     3171        2          0           0           0.06\n",
      "                                  Mizoram     2229       0     2220        0          9           0           0.00\n",
      "                              Lakshadweep        0       0        0        0          0           0            NaN\n"
     ]
    }
   ],
   "source": [
    "#hide_input\n",
    "print(df_table.to_string(index=False))"
   ]
  },
  {
   "cell_type": "code",
   "execution_count": null,
   "metadata": {
    "papermill": {
     "duration": 0.022518,
     "end_time": "2020-10-16T09:26:29.870713",
     "exception": false,
     "start_time": "2020-10-16T09:26:29.848195",
     "status": "completed"
    },
    "tags": []
   },
   "outputs": [],
   "source": []
  },
  {
   "cell_type": "code",
   "execution_count": null,
   "metadata": {
    "papermill": {
     "duration": 0.025292,
     "end_time": "2020-10-16T09:26:29.917018",
     "exception": false,
     "start_time": "2020-10-16T09:26:29.891726",
     "status": "completed"
    },
    "tags": []
   },
   "outputs": [],
   "source": []
  }
 ],
 "metadata": {
  "kernelspec": {
   "display_name": "Python 3",
   "language": "python",
   "name": "python3"
  },
  "language_info": {
   "codemirror_mode": {
    "name": "ipython",
    "version": 3
   },
   "file_extension": ".py",
   "mimetype": "text/x-python",
   "name": "python",
   "nbconvert_exporter": "python",
   "pygments_lexer": "ipython3",
   "version": "3.6.12"
  },
  "papermill": {
   "duration": 12.296033,
   "end_time": "2020-10-16T09:26:30.344756",
   "environment_variables": {},
   "exception": null,
   "input_path": "latest.ipynb",
   "output_path": "latest.ipynb",
   "parameters": {},
   "start_time": "2020-10-16T09:26:18.048723",
   "version": "2.1.2"
  }
 },
 "nbformat": 4,
 "nbformat_minor": 4
}