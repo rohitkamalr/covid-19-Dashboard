{
 "cells": [
  {
   "cell_type": "markdown",
   "metadata": {
    "papermill": {
     "duration": 0.031784,
     "end_time": "2020-09-14T04:24:57.509498",
     "exception": false,
     "start_time": "2020-09-14T04:24:57.477714",
     "status": "completed"
    },
    "tags": []
   },
   "source": [
    "# Latest COVID-19 India Matplotlib Overview"
   ]
  },
  {
   "cell_type": "code",
   "execution_count": 1,
   "metadata": {
    "execution": {
     "iopub.execute_input": "2020-09-14T04:24:57.567205Z",
     "iopub.status.busy": "2020-09-14T04:24:57.566506Z",
     "iopub.status.idle": "2020-09-14T04:24:58.223020Z",
     "shell.execute_reply": "2020-09-14T04:24:58.222397Z"
    },
    "papermill": {
     "duration": 0.683713,
     "end_time": "2020-09-14T04:24:58.223211",
     "exception": false,
     "start_time": "2020-09-14T04:24:57.539498",
     "status": "completed"
    },
    "tags": []
   },
   "outputs": [],
   "source": [
    "#hide\n",
    "import pandas as pd\n",
    "import numpy as np\n",
    "import requests\n",
    "import json\n",
    "import matplotlib.pyplot as plt\n",
    "import matplotlib.dates as mdates\n",
    "import matplotlib as mpl\n",
    "from IPython.core.display import display,HTML\n",
    "%matplotlib inline\n",
    "from datetime import date"
   ]
  },
  {
   "cell_type": "code",
   "execution_count": 2,
   "metadata": {
    "execution": {
     "iopub.execute_input": "2020-09-14T04:24:58.265943Z",
     "iopub.status.busy": "2020-09-14T04:24:58.265266Z",
     "iopub.status.idle": "2020-09-14T04:24:58.554009Z",
     "shell.execute_reply": "2020-09-14T04:24:58.554634Z"
    },
    "papermill": {
     "duration": 0.314087,
     "end_time": "2020-09-14T04:24:58.554856",
     "exception": false,
     "start_time": "2020-09-14T04:24:58.240769",
     "status": "completed"
    },
    "tags": []
   },
   "outputs": [],
   "source": [
    "#hide\n",
    "df  = pd.read_csv('https://api.covid19india.org/csv/latest/states.csv')\n",
    "df = df[['Date','State','Confirmed','Deceased']]\n",
    "df = df.rename(columns={'Confirmed':'Cases', \"Deceased\":'Deaths'})\n",
    "df_cases = df[[\"Date\",'State','Cases']]\n",
    "df_deaths = df[['Date','State','Deaths']]\n",
    "df_cases1 = df_cases.groupby('Date')\n",
    "df_deaths1= df_deaths.groupby('Date')"
   ]
  },
  {
   "cell_type": "code",
   "execution_count": 3,
   "metadata": {
    "execution": {
     "iopub.execute_input": "2020-09-14T04:24:58.594866Z",
     "iopub.status.busy": "2020-09-14T04:24:58.594237Z",
     "iopub.status.idle": "2020-09-14T04:24:58.614600Z",
     "shell.execute_reply": "2020-09-14T04:24:58.615140Z"
    },
    "papermill": {
     "duration": 0.042677,
     "end_time": "2020-09-14T04:24:58.615285",
     "exception": false,
     "start_time": "2020-09-14T04:24:58.572608",
     "status": "completed"
    },
    "tags": []
   },
   "outputs": [],
   "source": [
    "#hide\n",
    "df_snap = pd.read_csv('data/SnapshotCases-28-July.csv')\n",
    "arr_states = df_snap['states'].unique()\n",
    "arr_dates = df['Date'].unique()\n",
    "df_snap = df_snap.set_index('states')"
   ]
  },
  {
   "cell_type": "code",
   "execution_count": 4,
   "metadata": {
    "execution": {
     "iopub.execute_input": "2020-09-14T04:24:58.654409Z",
     "iopub.status.busy": "2020-09-14T04:24:58.653711Z",
     "iopub.status.idle": "2020-09-14T04:24:58.658669Z",
     "shell.execute_reply": "2020-09-14T04:24:58.658179Z"
    },
    "papermill": {
     "duration": 0.026935,
     "end_time": "2020-09-14T04:24:58.658794",
     "exception": false,
     "start_time": "2020-09-14T04:24:58.631859",
     "status": "completed"
    },
    "tags": []
   },
   "outputs": [
    {
     "data": {
      "text/plain": [
       "array(['Andaman and Nicobar Islands', 'Andhra Pradesh',\n",
       "       'Arunachal Pradesh', 'Assam', 'Bihar', 'Chandigarh',\n",
       "       'Dadra and Nagar Haveli and Daman and Diu', 'Delhi', 'Goa',\n",
       "       'Gujarat', 'Haryana', 'Himachal Pradesh', 'Jammu and Kashmir',\n",
       "       'Jharkhand', 'Karnataka', 'Kerala', 'Lakshadweep',\n",
       "       'Madhya Pradesh', 'Maharashtra', 'Manipur', 'Meghalaya', 'Mizoram',\n",
       "       'Nagaland', 'Odisha', 'Puducherry', 'Punjab', 'Rajasthan',\n",
       "       'Sikkim', 'Tamil Nadu', 'Telangana', 'Tripura', 'Uttar Pradesh',\n",
       "       'West Bengal', 'Chhattisgarh', 'Ladakh', 'Uttarakhand'],\n",
       "      dtype=object)"
      ]
     },
     "execution_count": 4,
     "metadata": {},
     "output_type": "execute_result"
    }
   ],
   "source": [
    "#hide\n",
    "arr_states[-9] = 'Puducherry'\n",
    "arr_states[-10] = 'Odisha'\n",
    "arr_states[6] = 'Dadra and Nagar Haveli and Daman and Diu'\n",
    "arr_states = np.append(arr_states,np.array(['Chhattisgarh','Ladakh','Uttarakhand']))\n",
    "arr_states"
   ]
  },
  {
   "cell_type": "code",
   "execution_count": 5,
   "metadata": {
    "execution": {
     "iopub.execute_input": "2020-09-14T04:24:58.708729Z",
     "iopub.status.busy": "2020-09-14T04:24:58.708108Z",
     "iopub.status.idle": "2020-09-14T04:24:58.716464Z",
     "shell.execute_reply": "2020-09-14T04:24:58.717191Z"
    },
    "papermill": {
     "duration": 0.038852,
     "end_time": "2020-09-14T04:24:58.717345",
     "exception": false,
     "start_time": "2020-09-14T04:24:58.678493",
     "status": "completed"
    },
    "tags": []
   },
   "outputs": [],
   "source": [
    "#hide\n",
    "dates = []\n",
    "for i in arr_dates:\n",
    "    if i>='2020-07-01':\n",
    "        dates.append(i)\n",
    "dict = {'states':dates}\n",
    "for i in arr_states:\n",
    "    dict[i] = [0]*len(dates)\n",
    "dft_cases = pd.DataFrame(dict)\n",
    "dft_deaths = pd.DataFrame(dict)\n"
   ]
  },
  {
   "cell_type": "code",
   "execution_count": 6,
   "metadata": {
    "execution": {
     "iopub.execute_input": "2020-09-14T04:24:58.756550Z",
     "iopub.status.busy": "2020-09-14T04:24:58.755855Z",
     "iopub.status.idle": "2020-09-14T04:25:00.141437Z",
     "shell.execute_reply": "2020-09-14T04:25:00.140850Z"
    },
    "papermill": {
     "duration": 1.407629,
     "end_time": "2020-09-14T04:25:00.141578",
     "exception": false,
     "start_time": "2020-09-14T04:24:58.733949",
     "status": "completed"
    },
    "tags": []
   },
   "outputs": [],
   "source": [
    "#hide\n",
    "for i in range(len(dates)):\n",
    "    df1_deaths = df_deaths1.get_group(dates[i])\n",
    "    for j in range(len(df1_deaths.index)):\n",
    "        if df1_deaths.iloc[j,1] in arr_states:\n",
    "            dft_deaths.loc[i,df1_deaths.iloc[j,1]] = df1_deaths.iloc[j,2]\n",
    "dft_deaths = dft_deaths.set_index('states')"
   ]
  },
  {
   "cell_type": "code",
   "execution_count": 7,
   "metadata": {
    "execution": {
     "iopub.execute_input": "2020-09-14T04:25:00.181046Z",
     "iopub.status.busy": "2020-09-14T04:25:00.180299Z",
     "iopub.status.idle": "2020-09-14T04:25:01.601038Z",
     "shell.execute_reply": "2020-09-14T04:25:01.601515Z"
    },
    "papermill": {
     "duration": 1.443,
     "end_time": "2020-09-14T04:25:01.601728",
     "exception": false,
     "start_time": "2020-09-14T04:25:00.158728",
     "status": "completed"
    },
    "tags": []
   },
   "outputs": [],
   "source": [
    "#hide\n",
    "for i in range(len(dates)):\n",
    "    df1_cases = df_cases1.get_group(dates[i])\n",
    "    for j in range(len(df1_cases.index)):\n",
    "        if df1_cases.iloc[j,1] in arr_states:\n",
    "            dft_cases.loc[i,df1_cases.iloc[j,1]] = df1_cases.iloc[j,2]\n",
    "dft_cases = dft_cases.set_index('states')"
   ]
  },
  {
   "cell_type": "code",
   "execution_count": 8,
   "metadata": {
    "execution": {
     "iopub.execute_input": "2020-09-14T04:25:01.645179Z",
     "iopub.status.busy": "2020-09-14T04:25:01.644541Z",
     "iopub.status.idle": "2020-09-14T04:25:01.648986Z",
     "shell.execute_reply": "2020-09-14T04:25:01.648313Z"
    },
    "papermill": {
     "duration": 0.028892,
     "end_time": "2020-09-14T04:25:01.649366",
     "exception": false,
     "start_time": "2020-09-14T04:25:01.620474",
     "status": "completed"
    },
    "tags": []
   },
   "outputs": [],
   "source": [
    "#hide\n",
    "dft_cases = dft_cases.T\n",
    "dft_deaths = dft_deaths.T\n",
    "dt_today = dates[-1]\n",
    "dt_yday = dates[-2]"
   ]
  },
  {
   "cell_type": "code",
   "execution_count": 9,
   "metadata": {
    "execution": {
     "iopub.execute_input": "2020-09-14T04:25:01.691329Z",
     "iopub.status.busy": "2020-09-14T04:25:01.690410Z",
     "iopub.status.idle": "2020-09-14T04:25:01.695977Z",
     "shell.execute_reply": "2020-09-14T04:25:01.695477Z"
    },
    "papermill": {
     "duration": 0.027787,
     "end_time": "2020-09-14T04:25:01.696126",
     "exception": false,
     "start_time": "2020-09-14T04:25:01.668339",
     "status": "completed"
    },
    "tags": []
   },
   "outputs": [],
   "source": [
    "#hide\n",
    "dft_cases = dft_cases.reset_index()\n",
    "dft_deaths = dft_deaths.reset_index()\n",
    "dft_cases = dft_cases.rename(columns = {'index':'state'})\n",
    "dft_deaths = dft_deaths.rename(columns = {'index':'state'})"
   ]
  },
  {
   "cell_type": "code",
   "execution_count": 10,
   "metadata": {
    "execution": {
     "iopub.execute_input": "2020-09-14T04:25:01.746655Z",
     "iopub.status.busy": "2020-09-14T04:25:01.745942Z",
     "iopub.status.idle": "2020-09-14T04:25:01.750261Z",
     "shell.execute_reply": "2020-09-14T04:25:01.749608Z"
    },
    "papermill": {
     "duration": 0.034736,
     "end_time": "2020-09-14T04:25:01.750396",
     "exception": false,
     "start_time": "2020-09-14T04:25:01.715660",
     "status": "completed"
    },
    "tags": []
   },
   "outputs": [],
   "source": [
    "#hide\n",
    "dfc_cases = dft_cases.groupby('state')[dt_today].sum()\n",
    "dfc_deaths = dft_deaths.groupby('state')[dt_today].sum()\n",
    "dfp_cases = dft_cases.groupby('state')[dt_yday].sum()\n",
    "dfp_deaths = dft_deaths.groupby('state')[dt_yday].sum()"
   ]
  },
  {
   "cell_type": "code",
   "execution_count": 11,
   "metadata": {
    "execution": {
     "iopub.execute_input": "2020-09-14T04:25:01.798946Z",
     "iopub.status.busy": "2020-09-14T04:25:01.798236Z",
     "iopub.status.idle": "2020-09-14T04:25:01.805091Z",
     "shell.execute_reply": "2020-09-14T04:25:01.805676Z"
    },
    "papermill": {
     "duration": 0.038511,
     "end_time": "2020-09-14T04:25:01.805841",
     "exception": false,
     "start_time": "2020-09-14T04:25:01.767330",
     "status": "completed"
    },
    "tags": []
   },
   "outputs": [
    {
     "data": {
      "text/html": [
       "<div>\n",
       "<style scoped>\n",
       "    .dataframe tbody tr th:only-of-type {\n",
       "        vertical-align: middle;\n",
       "    }\n",
       "\n",
       "    .dataframe tbody tr th {\n",
       "        vertical-align: top;\n",
       "    }\n",
       "\n",
       "    .dataframe thead th {\n",
       "        text-align: right;\n",
       "    }\n",
       "</style>\n",
       "<table border=\"1\" class=\"dataframe\">\n",
       "  <thead>\n",
       "    <tr style=\"text-align: right;\">\n",
       "      <th></th>\n",
       "      <th>states</th>\n",
       "      <th>Cases</th>\n",
       "      <th>Deaths</th>\n",
       "      <th>PCases</th>\n",
       "      <th>PDeaths</th>\n",
       "    </tr>\n",
       "  </thead>\n",
       "  <tbody>\n",
       "    <tr>\n",
       "      <th>0</th>\n",
       "      <td>Maharashtra</td>\n",
       "      <td>1060308</td>\n",
       "      <td>29531</td>\n",
       "      <td>1060308</td>\n",
       "      <td>29531</td>\n",
       "    </tr>\n",
       "    <tr>\n",
       "      <th>1</th>\n",
       "      <td>Andhra Pradesh</td>\n",
       "      <td>567123</td>\n",
       "      <td>4912</td>\n",
       "      <td>567123</td>\n",
       "      <td>4912</td>\n",
       "    </tr>\n",
       "    <tr>\n",
       "      <th>2</th>\n",
       "      <td>Tamil Nadu</td>\n",
       "      <td>502759</td>\n",
       "      <td>8381</td>\n",
       "      <td>502759</td>\n",
       "      <td>8381</td>\n",
       "    </tr>\n",
       "    <tr>\n",
       "      <th>3</th>\n",
       "      <td>Karnataka</td>\n",
       "      <td>459445</td>\n",
       "      <td>7265</td>\n",
       "      <td>459445</td>\n",
       "      <td>7265</td>\n",
       "    </tr>\n",
       "    <tr>\n",
       "      <th>4</th>\n",
       "      <td>Uttar Pradesh</td>\n",
       "      <td>312036</td>\n",
       "      <td>4429</td>\n",
       "      <td>312036</td>\n",
       "      <td>4429</td>\n",
       "    </tr>\n",
       "  </tbody>\n",
       "</table>\n",
       "</div>"
      ],
      "text/plain": [
       "           states    Cases  Deaths   PCases  PDeaths\n",
       "0     Maharashtra  1060308   29531  1060308    29531\n",
       "1  Andhra Pradesh   567123    4912   567123     4912\n",
       "2      Tamil Nadu   502759    8381   502759     8381\n",
       "3       Karnataka   459445    7265   459445     7265\n",
       "4   Uttar Pradesh   312036    4429   312036     4429"
      ]
     },
     "execution_count": 11,
     "metadata": {},
     "output_type": "execute_result"
    }
   ],
   "source": [
    "#hide\n",
    "df_table = pd.DataFrame({'states': dfc_cases.index, 'Cases': dfc_cases.values, 'Deaths': dfc_deaths.values, 'PCases': dfp_cases.values, 'PDeaths': dfp_deaths.values}).set_index('states')\n",
    "df_table = df_table.sort_values(by = ['Cases','Deaths'], ascending = [False, False])\n",
    "df_table = df_table.reset_index()\n",
    "df_table.head()"
   ]
  },
  {
   "cell_type": "code",
   "execution_count": 12,
   "metadata": {
    "execution": {
     "iopub.execute_input": "2020-09-14T04:25:01.844695Z",
     "iopub.status.busy": "2020-09-14T04:25:01.843961Z",
     "iopub.status.idle": "2020-09-14T04:25:01.853540Z",
     "shell.execute_reply": "2020-09-14T04:25:01.854106Z"
    },
    "papermill": {
     "duration": 0.032115,
     "end_time": "2020-09-14T04:25:01.854240",
     "exception": false,
     "start_time": "2020-09-14T04:25:01.822125",
     "status": "completed"
    },
    "tags": []
   },
   "outputs": [],
   "source": [
    "#hide\n",
    "for c in 'Cases, Deaths'.split(', '):\n",
    "    df_table[f'{c} (+)'] = (df_table[c] - df_table[f'P{c}']).clip(0)\n",
    "df_table['Fatality Rate'] = (100* df_table['Deaths']/ df_table['Cases']).round(2)"
   ]
  },
  {
   "cell_type": "code",
   "execution_count": 13,
   "metadata": {
    "execution": {
     "iopub.execute_input": "2020-09-14T04:25:01.901380Z",
     "iopub.status.busy": "2020-09-14T04:25:01.900748Z",
     "iopub.status.idle": "2020-09-14T04:25:01.904537Z",
     "shell.execute_reply": "2020-09-14T04:25:01.903906Z"
    },
    "papermill": {
     "duration": 0.03331,
     "end_time": "2020-09-14T04:25:01.904695",
     "exception": false,
     "start_time": "2020-09-14T04:25:01.871385",
     "status": "completed"
    },
    "tags": []
   },
   "outputs": [
    {
     "data": {
      "text/html": [
       "<div>\n",
       "<style scoped>\n",
       "    .dataframe tbody tr th:only-of-type {\n",
       "        vertical-align: middle;\n",
       "    }\n",
       "\n",
       "    .dataframe tbody tr th {\n",
       "        vertical-align: top;\n",
       "    }\n",
       "\n",
       "    .dataframe thead th {\n",
       "        text-align: right;\n",
       "    }\n",
       "</style>\n",
       "<table border=\"1\" class=\"dataframe\">\n",
       "  <thead>\n",
       "    <tr style=\"text-align: right;\">\n",
       "      <th></th>\n",
       "      <th>states</th>\n",
       "      <th>Cases</th>\n",
       "      <th>Deaths</th>\n",
       "      <th>PCases</th>\n",
       "      <th>PDeaths</th>\n",
       "      <th>Cases (+)</th>\n",
       "      <th>Deaths (+)</th>\n",
       "      <th>Fatality Rate</th>\n",
       "    </tr>\n",
       "  </thead>\n",
       "  <tbody>\n",
       "    <tr>\n",
       "      <th>0</th>\n",
       "      <td>Maharashtra</td>\n",
       "      <td>1060308</td>\n",
       "      <td>29531</td>\n",
       "      <td>1060308</td>\n",
       "      <td>29531</td>\n",
       "      <td>0</td>\n",
       "      <td>0</td>\n",
       "      <td>2.79</td>\n",
       "    </tr>\n",
       "    <tr>\n",
       "      <th>1</th>\n",
       "      <td>Andhra Pradesh</td>\n",
       "      <td>567123</td>\n",
       "      <td>4912</td>\n",
       "      <td>567123</td>\n",
       "      <td>4912</td>\n",
       "      <td>0</td>\n",
       "      <td>0</td>\n",
       "      <td>0.87</td>\n",
       "    </tr>\n",
       "    <tr>\n",
       "      <th>2</th>\n",
       "      <td>Tamil Nadu</td>\n",
       "      <td>502759</td>\n",
       "      <td>8381</td>\n",
       "      <td>502759</td>\n",
       "      <td>8381</td>\n",
       "      <td>0</td>\n",
       "      <td>0</td>\n",
       "      <td>1.67</td>\n",
       "    </tr>\n",
       "    <tr>\n",
       "      <th>3</th>\n",
       "      <td>Karnataka</td>\n",
       "      <td>459445</td>\n",
       "      <td>7265</td>\n",
       "      <td>459445</td>\n",
       "      <td>7265</td>\n",
       "      <td>0</td>\n",
       "      <td>0</td>\n",
       "      <td>1.58</td>\n",
       "    </tr>\n",
       "    <tr>\n",
       "      <th>4</th>\n",
       "      <td>Uttar Pradesh</td>\n",
       "      <td>312036</td>\n",
       "      <td>4429</td>\n",
       "      <td>312036</td>\n",
       "      <td>4429</td>\n",
       "      <td>0</td>\n",
       "      <td>0</td>\n",
       "      <td>1.42</td>\n",
       "    </tr>\n",
       "  </tbody>\n",
       "</table>\n",
       "</div>"
      ],
      "text/plain": [
       "           states    Cases  Deaths   PCases  PDeaths  Cases (+)  Deaths (+)  \\\n",
       "0     Maharashtra  1060308   29531  1060308    29531          0           0   \n",
       "1  Andhra Pradesh   567123    4912   567123     4912          0           0   \n",
       "2      Tamil Nadu   502759    8381   502759     8381          0           0   \n",
       "3       Karnataka   459445    7265   459445     7265          0           0   \n",
       "4   Uttar Pradesh   312036    4429   312036     4429          0           0   \n",
       "\n",
       "   Fatality Rate  \n",
       "0           2.79  \n",
       "1           0.87  \n",
       "2           1.67  \n",
       "3           1.58  \n",
       "4           1.42  "
      ]
     },
     "execution_count": 13,
     "metadata": {},
     "output_type": "execute_result"
    }
   ],
   "source": [
    "#hide\n",
    "df_table.head()"
   ]
  },
  {
   "cell_type": "code",
   "execution_count": 14,
   "metadata": {
    "execution": {
     "iopub.execute_input": "2020-09-14T04:25:01.953046Z",
     "iopub.status.busy": "2020-09-14T04:25:01.952427Z",
     "iopub.status.idle": "2020-09-14T04:25:01.977872Z",
     "shell.execute_reply": "2020-09-14T04:25:01.978685Z"
    },
    "papermill": {
     "duration": 0.05374,
     "end_time": "2020-09-14T04:25:01.978836",
     "exception": false,
     "start_time": "2020-09-14T04:25:01.925096",
     "status": "completed"
    },
    "tags": []
   },
   "outputs": [
    {
     "data": {
      "text/plain": [
       "{'updated': '2020-09-14',\n",
       " 'since': '2020-09-13',\n",
       " 'Cases': 4845272,\n",
       " 'PCases': 4845003,\n",
       " 'Deaths': 79760,\n",
       " 'PDeaths': 79754,\n",
       " 'Cases (+)': 269,\n",
       " 'Deaths (+)': 6}"
      ]
     },
     "execution_count": 14,
     "metadata": {},
     "output_type": "execute_result"
    }
   ],
   "source": [
    "#hide\n",
    "summary = {'updated':dates[-1], 'since':dates[-2]}\n",
    "list_names = ['Cases', 'PCases', 'Deaths', 'PDeaths', 'Cases (+)', 'Deaths (+)']\n",
    "for name in list_names:\n",
    "    summary[name] = df_table.sum()[name]\n",
    "summary"
   ]
  },
  {
   "cell_type": "code",
   "execution_count": 15,
   "metadata": {
    "execution": {
     "iopub.execute_input": "2020-09-14T04:25:02.019990Z",
     "iopub.status.busy": "2020-09-14T04:25:02.019365Z",
     "iopub.status.idle": "2020-09-14T04:25:02.022138Z",
     "shell.execute_reply": "2020-09-14T04:25:02.021642Z"
    },
    "papermill": {
     "duration": 0.024888,
     "end_time": "2020-09-14T04:25:02.022258",
     "exception": false,
     "start_time": "2020-09-14T04:25:01.997370",
     "status": "completed"
    },
    "tags": []
   },
   "outputs": [],
   "source": [
    "#hide\n",
    "overview = '''\n",
    "<!-- #######  HTML!! #########-->\n",
    "<h1 style=\"color: #5e9ca0; text-align: center;\">India</h1>\n",
    "<p style=\"text-align: center;\">Last update: <strong>{update}</strong></p>\n",
    "<p style=\"text-align: center;\">Confirmed cases:</p>\n",
    "<p style=\"text-align: center;font-size:24px;\">{cases} (<span style=\"color: #ff0000;\">+{new}</span>)</p>\n",
    "<p style=\"text-align: center;\">Confirmed deaths:</p>\n",
    "<p style=\"text-align: center;font-size:24px;\">{deaths} (<span style=\"color: #ff0000;\">+{dnew}</span>)</p>\n",
    "'''"
   ]
  },
  {
   "cell_type": "code",
   "execution_count": 16,
   "metadata": {
    "execution": {
     "iopub.execute_input": "2020-09-14T04:25:02.064873Z",
     "iopub.status.busy": "2020-09-14T04:25:02.064252Z",
     "iopub.status.idle": "2020-09-14T04:25:02.067842Z",
     "shell.execute_reply": "2020-09-14T04:25:02.067230Z"
    },
    "papermill": {
     "duration": 0.026991,
     "end_time": "2020-09-14T04:25:02.068035",
     "exception": false,
     "start_time": "2020-09-14T04:25:02.041044",
     "status": "completed"
    },
    "tags": []
   },
   "outputs": [
    {
     "data": {
      "text/html": [
       "\n",
       "<!-- #######  HTML!! #########-->\n",
       "<h1 style=\"color: #5e9ca0; text-align: center;\">India</h1>\n",
       "<p style=\"text-align: center;\">Last update: <strong>2020-09-14</strong></p>\n",
       "<p style=\"text-align: center;\">Confirmed cases:</p>\n",
       "<p style=\"text-align: center;font-size:24px;\">4845272 (<span style=\"color: #ff0000;\">+269</span>)</p>\n",
       "<p style=\"text-align: center;\">Confirmed deaths:</p>\n",
       "<p style=\"text-align: center;font-size:24px;\">79760 (<span style=\"color: #ff0000;\">+6</span>)</p>\n"
      ],
      "text/plain": [
       "<IPython.core.display.HTML object>"
      ]
     },
     "metadata": {},
     "output_type": "display_data"
    }
   ],
   "source": [
    "#hide_input\n",
    "update = summary['updated']\n",
    "cases = summary['Cases']\n",
    "new = summary['Cases (+)']\n",
    "deaths = summary['Deaths']\n",
    "dnew = summary['Deaths (+)']\n",
    "\n",
    "html = HTML(overview.format(update=update, cases=cases,new=new,deaths=deaths,dnew=dnew))\n",
    "\n",
    "display(html)"
   ]
  },
  {
   "cell_type": "code",
   "execution_count": 17,
   "metadata": {
    "execution": {
     "iopub.execute_input": "2020-09-14T04:25:02.116588Z",
     "iopub.status.busy": "2020-09-14T04:25:02.115971Z",
     "iopub.status.idle": "2020-09-14T04:25:02.122068Z",
     "shell.execute_reply": "2020-09-14T04:25:02.121468Z"
    },
    "papermill": {
     "duration": 0.033526,
     "end_time": "2020-09-14T04:25:02.122275",
     "exception": false,
     "start_time": "2020-09-14T04:25:02.088749",
     "status": "completed"
    },
    "tags": []
   },
   "outputs": [],
   "source": [
    "#hide\n",
    "dt_cols = list(dft_cases.columns[1:])\n",
    "dft_ct_new_cases = dft_cases.groupby('state')[dt_cols].sum().diff(axis=1).fillna(0).astype(int)\n",
    "dft_ct_new_cases.sort_values(by = dates[-1], ascending = False,inplace = True)"
   ]
  },
  {
   "cell_type": "code",
   "execution_count": 18,
   "metadata": {
    "execution": {
     "iopub.execute_input": "2020-09-14T04:25:02.179412Z",
     "iopub.status.busy": "2020-09-14T04:25:02.166616Z",
     "iopub.status.idle": "2020-09-14T04:25:02.183459Z",
     "shell.execute_reply": "2020-09-14T04:25:02.182784Z"
    },
    "papermill": {
     "duration": 0.04158,
     "end_time": "2020-09-14T04:25:02.183591",
     "exception": false,
     "start_time": "2020-09-14T04:25:02.142011",
     "status": "completed"
    },
    "tags": []
   },
   "outputs": [
    {
     "data": {
      "text/html": [
       "<div>\n",
       "<style scoped>\n",
       "    .dataframe tbody tr th:only-of-type {\n",
       "        vertical-align: middle;\n",
       "    }\n",
       "\n",
       "    .dataframe tbody tr th {\n",
       "        vertical-align: top;\n",
       "    }\n",
       "\n",
       "    .dataframe thead th {\n",
       "        text-align: right;\n",
       "    }\n",
       "</style>\n",
       "<table border=\"1\" class=\"dataframe\">\n",
       "  <thead>\n",
       "    <tr style=\"text-align: right;\">\n",
       "      <th>states</th>\n",
       "      <th>2020-07-01</th>\n",
       "      <th>2020-07-02</th>\n",
       "      <th>2020-07-03</th>\n",
       "      <th>2020-07-04</th>\n",
       "      <th>2020-07-05</th>\n",
       "      <th>2020-07-06</th>\n",
       "      <th>2020-07-07</th>\n",
       "      <th>2020-07-08</th>\n",
       "      <th>2020-07-09</th>\n",
       "      <th>2020-07-10</th>\n",
       "      <th>...</th>\n",
       "      <th>2020-09-05</th>\n",
       "      <th>2020-09-06</th>\n",
       "      <th>2020-09-07</th>\n",
       "      <th>2020-09-08</th>\n",
       "      <th>2020-09-09</th>\n",
       "      <th>2020-09-10</th>\n",
       "      <th>2020-09-11</th>\n",
       "      <th>2020-09-12</th>\n",
       "      <th>2020-09-13</th>\n",
       "      <th>2020-09-14</th>\n",
       "    </tr>\n",
       "    <tr>\n",
       "      <th>state</th>\n",
       "      <th></th>\n",
       "      <th></th>\n",
       "      <th></th>\n",
       "      <th></th>\n",
       "      <th></th>\n",
       "      <th></th>\n",
       "      <th></th>\n",
       "      <th></th>\n",
       "      <th></th>\n",
       "      <th></th>\n",
       "      <th></th>\n",
       "      <th></th>\n",
       "      <th></th>\n",
       "      <th></th>\n",
       "      <th></th>\n",
       "      <th></th>\n",
       "      <th></th>\n",
       "      <th></th>\n",
       "      <th></th>\n",
       "      <th></th>\n",
       "      <th></th>\n",
       "    </tr>\n",
       "  </thead>\n",
       "  <tbody>\n",
       "    <tr>\n",
       "      <th>Tripura</th>\n",
       "      <td>0</td>\n",
       "      <td>39</td>\n",
       "      <td>93</td>\n",
       "      <td>25</td>\n",
       "      <td>23</td>\n",
       "      <td>111</td>\n",
       "      <td>24</td>\n",
       "      <td>57</td>\n",
       "      <td>16</td>\n",
       "      <td>142</td>\n",
       "      <td>...</td>\n",
       "      <td>691</td>\n",
       "      <td>603</td>\n",
       "      <td>399</td>\n",
       "      <td>628</td>\n",
       "      <td>582</td>\n",
       "      <td>535</td>\n",
       "      <td>559</td>\n",
       "      <td>470</td>\n",
       "      <td>629</td>\n",
       "      <td>255</td>\n",
       "    </tr>\n",
       "    <tr>\n",
       "      <th>Mizoram</th>\n",
       "      <td>0</td>\n",
       "      <td>2</td>\n",
       "      <td>0</td>\n",
       "      <td>2</td>\n",
       "      <td>22</td>\n",
       "      <td>11</td>\n",
       "      <td>1</td>\n",
       "      <td>5</td>\n",
       "      <td>0</td>\n",
       "      <td>23</td>\n",
       "      <td>...</td>\n",
       "      <td>16</td>\n",
       "      <td>31</td>\n",
       "      <td>21</td>\n",
       "      <td>9</td>\n",
       "      <td>69</td>\n",
       "      <td>141</td>\n",
       "      <td>20</td>\n",
       "      <td>26</td>\n",
       "      <td>35</td>\n",
       "      <td>14</td>\n",
       "    </tr>\n",
       "    <tr>\n",
       "      <th>Andaman and Nicobar Islands</th>\n",
       "      <td>0</td>\n",
       "      <td>9</td>\n",
       "      <td>7</td>\n",
       "      <td>3</td>\n",
       "      <td>6</td>\n",
       "      <td>16</td>\n",
       "      <td>6</td>\n",
       "      <td>2</td>\n",
       "      <td>7</td>\n",
       "      <td>0</td>\n",
       "      <td>...</td>\n",
       "      <td>35</td>\n",
       "      <td>40</td>\n",
       "      <td>27</td>\n",
       "      <td>33</td>\n",
       "      <td>34</td>\n",
       "      <td>39</td>\n",
       "      <td>29</td>\n",
       "      <td>27</td>\n",
       "      <td>25</td>\n",
       "      <td>0</td>\n",
       "    </tr>\n",
       "    <tr>\n",
       "      <th>Puducherry</th>\n",
       "      <td>0</td>\n",
       "      <td>63</td>\n",
       "      <td>22</td>\n",
       "      <td>80</td>\n",
       "      <td>42</td>\n",
       "      <td>65</td>\n",
       "      <td>30</td>\n",
       "      <td>110</td>\n",
       "      <td>49</td>\n",
       "      <td>72</td>\n",
       "      <td>...</td>\n",
       "      <td>394</td>\n",
       "      <td>466</td>\n",
       "      <td>284</td>\n",
       "      <td>433</td>\n",
       "      <td>335</td>\n",
       "      <td>452</td>\n",
       "      <td>490</td>\n",
       "      <td>419</td>\n",
       "      <td>388</td>\n",
       "      <td>0</td>\n",
       "    </tr>\n",
       "    <tr>\n",
       "      <th>Maharashtra</th>\n",
       "      <td>0</td>\n",
       "      <td>6328</td>\n",
       "      <td>6364</td>\n",
       "      <td>7074</td>\n",
       "      <td>6555</td>\n",
       "      <td>5368</td>\n",
       "      <td>5134</td>\n",
       "      <td>6603</td>\n",
       "      <td>6875</td>\n",
       "      <td>7862</td>\n",
       "      <td>...</td>\n",
       "      <td>20800</td>\n",
       "      <td>23350</td>\n",
       "      <td>16429</td>\n",
       "      <td>20131</td>\n",
       "      <td>23577</td>\n",
       "      <td>23446</td>\n",
       "      <td>24886</td>\n",
       "      <td>22084</td>\n",
       "      <td>22543</td>\n",
       "      <td>0</td>\n",
       "    </tr>\n",
       "  </tbody>\n",
       "</table>\n",
       "<p>5 rows × 76 columns</p>\n",
       "</div>"
      ],
      "text/plain": [
       "states                       2020-07-01  2020-07-02  2020-07-03  2020-07-04  \\\n",
       "state                                                                         \n",
       "Tripura                               0          39          93          25   \n",
       "Mizoram                               0           2           0           2   \n",
       "Andaman and Nicobar Islands           0           9           7           3   \n",
       "Puducherry                            0          63          22          80   \n",
       "Maharashtra                           0        6328        6364        7074   \n",
       "\n",
       "states                       2020-07-05  2020-07-06  2020-07-07  2020-07-08  \\\n",
       "state                                                                         \n",
       "Tripura                              23         111          24          57   \n",
       "Mizoram                              22          11           1           5   \n",
       "Andaman and Nicobar Islands           6          16           6           2   \n",
       "Puducherry                           42          65          30         110   \n",
       "Maharashtra                        6555        5368        5134        6603   \n",
       "\n",
       "states                       2020-07-09  2020-07-10  ...  2020-09-05  \\\n",
       "state                                                ...               \n",
       "Tripura                              16         142  ...         691   \n",
       "Mizoram                               0          23  ...          16   \n",
       "Andaman and Nicobar Islands           7           0  ...          35   \n",
       "Puducherry                           49          72  ...         394   \n",
       "Maharashtra                        6875        7862  ...       20800   \n",
       "\n",
       "states                       2020-09-06  2020-09-07  2020-09-08  2020-09-09  \\\n",
       "state                                                                         \n",
       "Tripura                             603         399         628         582   \n",
       "Mizoram                              31          21           9          69   \n",
       "Andaman and Nicobar Islands          40          27          33          34   \n",
       "Puducherry                          466         284         433         335   \n",
       "Maharashtra                       23350       16429       20131       23577   \n",
       "\n",
       "states                       2020-09-10  2020-09-11  2020-09-12  2020-09-13  \\\n",
       "state                                                                         \n",
       "Tripura                             535         559         470         629   \n",
       "Mizoram                             141          20          26          35   \n",
       "Andaman and Nicobar Islands          39          29          27          25   \n",
       "Puducherry                          452         490         419         388   \n",
       "Maharashtra                       23446       24886       22084       22543   \n",
       "\n",
       "states                       2020-09-14  \n",
       "state                                    \n",
       "Tripura                             255  \n",
       "Mizoram                              14  \n",
       "Andaman and Nicobar Islands           0  \n",
       "Puducherry                            0  \n",
       "Maharashtra                           0  \n",
       "\n",
       "[5 rows x 76 columns]"
      ]
     },
     "execution_count": 18,
     "metadata": {},
     "output_type": "execute_result"
    }
   ],
   "source": [
    "#hide\n",
    "dft_ct_new_cases.head()"
   ]
  },
  {
   "cell_type": "code",
   "execution_count": 19,
   "metadata": {
    "execution": {
     "iopub.execute_input": "2020-09-14T04:25:02.249346Z",
     "iopub.status.busy": "2020-09-14T04:25:02.238969Z",
     "iopub.status.idle": "2020-09-14T04:25:06.488376Z",
     "shell.execute_reply": "2020-09-14T04:25:06.488995Z"
    },
    "papermill": {
     "duration": 4.285092,
     "end_time": "2020-09-14T04:25:06.489153",
     "exception": false,
     "start_time": "2020-09-14T04:25:02.204061",
     "status": "completed"
    },
    "tags": []
   },
   "outputs": [
    {
     "data": {
      "image/png": "[encoded data removed]",
      "text/plain": [
       "<Figure size 1296x2016 with 11 Axes>"
      ]
     },
     "metadata": {
      "needs_background": "light"
     },
     "output_type": "display_data"
    }
   ],
   "source": [
    "#hide_input\n",
    "df = dft_ct_new_cases.copy()\n",
    "df.loc['Total'] = df.sum()\n",
    "n = 5\n",
    "ax = []\n",
    "fig = plt.figure(figsize = (18,28))\n",
    "gs = fig.add_gridspec(n+2, 5)\n",
    "# gs = fig.add_gridspec(2, 3)\n",
    "ax1 = fig.add_subplot(gs[0, :])\n",
    "ef = df.loc['Total'].rename_axis('date').reset_index()\n",
    "ef['date'] = ef['date'].astype('datetime64[ns]')\n",
    "ax1.bar(ef.date,ef.Total,alpha=0.3,color='#007acc')\n",
    "ax1.plot(ef.date,ef.Total , marker=\"o\", color='#007acc')\n",
    "ax1.xaxis.set_major_locator(mdates.WeekdayLocator())\n",
    "ax1.xaxis.set_major_formatter(mdates.DateFormatter('%b %d'))\n",
    "ax1.text(0.02, 0.5,'India daily case count', transform = ax1.transAxes, fontsize=25);\n",
    "ax1.spines['right'].set_visible(False)\n",
    "ax1.spines['top'].set_visible(False)\n",
    "\n",
    "ax2 = fig.add_subplot(gs[1,0])\n",
    "ef = df.loc['Maharashtra'].rename_axis('date').reset_index()\n",
    "ef['date'] = ef['date'].astype('datetime64[ns]')\n",
    "\n",
    "ax2.bar(ef.date, ef.Maharashtra,color = '#007acc',alpha=0.5)\n",
    "ax2.xaxis.set_major_locator(mdates.WeekdayLocator())\n",
    "ax2.xaxis.set_major_formatter(mdates.DateFormatter('%b %d'))\n",
    "ax2.set_xticks(ax2.get_xticks()[::3])\n",
    "maxyval = ef.Maharashtra.max()\n",
    "ax2.set_ylim([0,maxyval])\n",
    "ax2.text(0.05, 0.9,'Maharashtra', transform = ax2.transAxes, fontsize=20);\n",
    "ax2.spines['right'].set_visible(False)\n",
    "ax2.spines['top'].set_visible(False)\n",
    "\n",
    "\n",
    "ax3 = fig.add_subplot(gs[1,1])\n",
    "ef = df.loc['Tamil Nadu'].rename_axis('date').reset_index()\n",
    "ef['date'] = ef['date'].astype('datetime64[ns]')\n",
    "ax3.bar(ef.date, ef['Tamil Nadu'],color = '#007acc',alpha=0.5,)\n",
    "ax3.xaxis.set_major_locator(mdates.WeekdayLocator())\n",
    "ax3.xaxis.set_major_formatter(mdates.DateFormatter('%b %d'))\n",
    "ax3.set_xticks(ax3.get_xticks()[::3])\n",
    "ax3.text(0.05, 0.9,'Tamil Nadu', transform = ax3.transAxes, fontsize=20);\n",
    "ax3.spines['right'].set_visible(False)\n",
    "ax3.spines['top'].set_visible(False)\n",
    "\n",
    "ax5 = fig.add_subplot(gs[1,3])\n",
    "ef = df.loc['Telangana'].rename_axis('date').reset_index()\n",
    "ef['date'] = ef['date'].astype('datetime64[ns]')\n",
    "ax5.bar(ef.date, ef['Telangana'],color = '#007acc',alpha=0.5,)\n",
    "ax5.xaxis.set_major_locator(mdates.WeekdayLocator())\n",
    "ax5.xaxis.set_major_formatter(mdates.DateFormatter('%b %d'))\n",
    "ax5.set_xticks(ax5.get_xticks()[::3])\n",
    "ax5.text(0.05, 0.9,'Telangana', transform = ax5.transAxes, fontsize=20);\n",
    "ax5.spines['right'].set_visible(False)\n",
    "ax5.spines['top'].set_visible(False)\n",
    "\n",
    "ax6 = fig.add_subplot(gs[1,4])\n",
    "ef = df.loc['Andhra Pradesh'].rename_axis('date').reset_index()\n",
    "ef['date'] = ef['date'].astype('datetime64[ns]')\n",
    "ax6.bar(ef.date, ef['Andhra Pradesh'],color = '#007acc',alpha=0.5,)\n",
    "ax6.xaxis.set_major_locator(mdates.WeekdayLocator())\n",
    "ax6.xaxis.set_major_formatter(mdates.DateFormatter('%b %d'))\n",
    "ax6.set_xticks(ax6.get_xticks()[::3])\n",
    "ax6.text(0.05, 1,'Andhra Pradesh', transform = ax6.transAxes, fontsize=20);\n",
    "ax6.spines['right'].set_visible(False)\n",
    "ax6.spines['top'].set_visible(False)\n",
    "\n",
    "ax4 = fig.add_subplot(gs[1,2])\n",
    "ef = df.loc['Delhi'].rename_axis('date').reset_index()\n",
    "ef['date'] = ef['date'].astype('datetime64[ns]')\n",
    "ax4.bar(ef.date, ef.Delhi,color = '#007acc',alpha=0.5)\n",
    "ax4.set_xticks([])\n",
    "ax4.xaxis.set_major_locator(mdates.WeekdayLocator())\n",
    "ax4.xaxis.set_major_formatter(mdates.DateFormatter('%b %d'))\n",
    "ax4.set_xticks(ax4.get_xticks()[::3])\n",
    "ax4.spines['right'].set_visible(False)\n",
    "ax4.spines['top'].set_visible(False)\n",
    "\n",
    "ax4.text(0.05, 1,'Delhi', transform = ax4.transAxes, fontsize=20)\n",
    "\n",
    "for i in range(n):\n",
    "    \n",
    "    ax.append(fig.add_subplot(gs[i+2,:]))\n",
    "    ef = df.iloc[i+3].rename_axis('date').reset_index()\n",
    "    ef['date'] = ef['date'].astype('datetime64[ns]')\n",
    "    ax[i].bar(ef.date,ef.iloc[:,-1],color = '#007acc',alpha=0.3)\n",
    "    ax[i].plot(ef.date,ef.iloc[:,-1],marker='o',color='#007acc')\n",
    "    ax[i].text(0.02,0.5,f'{ef.columns.values[-1]}',transform = ax[i].transAxes, fontsize = 20);\n",
    "    ax[i].xaxis.set_major_locator(mdates.WeekdayLocator())\n",
    "    ax[i].xaxis.set_major_formatter(mdates.DateFormatter('%b %d'))\n",
    "    ax[i].set_ylim([0,7000])\n",
    "    ax[i].spines['right'].set_visible(False)\n",
    "    ax[i].spines['top'].set_visible(False)\n",
    "plt.tight_layout()\n"
   ]
  },
  {
   "cell_type": "code",
   "execution_count": 20,
   "metadata": {
    "execution": {
     "iopub.execute_input": "2020-09-14T04:25:06.544279Z",
     "iopub.status.busy": "2020-09-14T04:25:06.543521Z",
     "iopub.status.idle": "2020-09-14T04:25:06.545930Z",
     "shell.execute_reply": "2020-09-14T04:25:06.546464Z"
    },
    "papermill": {
     "duration": 0.034929,
     "end_time": "2020-09-14T04:25:06.546631",
     "exception": false,
     "start_time": "2020-09-14T04:25:06.511702",
     "status": "completed"
    },
    "tags": []
   },
   "outputs": [
    {
     "name": "stdout",
     "output_type": "stream",
     "text": [
      "                                   states    Cases  Deaths   PCases  PDeaths  Cases (+)  Deaths (+)  Fatality Rate\n",
      "                              Maharashtra  1060308   29531  1060308    29531          0           0           2.79\n",
      "                           Andhra Pradesh   567123    4912   567123     4912          0           0           0.87\n",
      "                               Tamil Nadu   502759    8381   502759     8381          0           0           1.67\n",
      "                                Karnataka   459445    7265   459445     7265          0           0           1.58\n",
      "                            Uttar Pradesh   312036    4429   312036     4429          0           0           1.42\n",
      "                                    Delhi   218304    4744   218304     4744          0           0           2.17\n",
      "                              West Bengal   202708    3945   202708     3945          0           0           1.95\n",
      "                                    Bihar   158389     822   158389      822          0           0           0.52\n",
      "                                Telangana   157096     961   157096      961          0           0           0.61\n",
      "                                   Odisha   150807     679   150807      679          0           0           0.45\n",
      "                                    Assam   141763     469   141763      469          0           0           0.33\n",
      "                                  Gujarat   113662    3211   113662     3211          0           0           2.83\n",
      "                                   Kerala   108279     440   108279      440          0           0           0.41\n",
      "                                Rajasthan   102408    1236   102408     1236          0           0           1.21\n",
      "                                  Haryana    93641     975    93641      975          0           0           1.04\n",
      "                           Madhya Pradesh    88247    1762    88247     1762          0           0           2.00\n",
      "                                   Punjab    79679    2356    79679     2356          0           0           2.96\n",
      "                             Chhattisgarh    63991     555    63991      555          0           0           0.87\n",
      "                                Jharkhand    61474     555    61474      555          0           0           0.90\n",
      "                        Jammu and Kashmir    54096     878    54096      878          0           0           1.62\n",
      "                              Uttarakhand    31973     414    31973      414          0           0           1.29\n",
      "                                      Goa    24592     290    24592      290          0           0           1.18\n",
      "                               Puducherry    19833     385    19833      385          0           0           1.94\n",
      "                                  Tripura    19184     200    18929      194        255           6           1.04\n",
      "                         Himachal Pradesh     9555      76     9555       76          0           0           0.80\n",
      "                               Chandigarh     7991      90     7991       90          0           0           1.13\n",
      "                                  Manipur     7875      46     7875       46          0           0           0.58\n",
      "                        Arunachal Pradesh     6121      10     6121       10          0           0           0.16\n",
      "                                 Nagaland     5083       8     5083        8          0           0           0.16\n",
      "                                Meghalaya     3724      26     3724       26          0           0           0.70\n",
      "              Andaman and Nicobar Islands     3546      51     3546       51          0           0           1.44\n",
      "                                   Ladakh     3345      40     3345       40          0           0           1.20\n",
      " Dadra and Nagar Haveli and Daman and Diu     2721       2     2721        2          0           0           0.07\n",
      "                                   Sikkim     2086      16     2086       16          0           0           0.77\n",
      "                                  Mizoram     1428       0     1414        0         14           0           0.00\n",
      "                              Lakshadweep        0       0        0        0          0           0            NaN\n"
     ]
    }
   ],
   "source": [
    "#hide_input\n",
    "print(df_table.to_string(index=False))"
   ]
  },
  {
   "cell_type": "code",
   "execution_count": null,
   "metadata": {
    "papermill": {
     "duration": 0.025283,
     "end_time": "2020-09-14T04:25:06.594611",
     "exception": false,
     "start_time": "2020-09-14T04:25:06.569328",
     "status": "completed"
    },
    "tags": []
   },
   "outputs": [],
   "source": []
  },
  {
   "cell_type": "code",
   "execution_count": null,
   "metadata": {
    "papermill": {
     "duration": 0.02342,
     "end_time": "2020-09-14T04:25:06.640868",
     "exception": false,
     "start_time": "2020-09-14T04:25:06.617448",
     "status": "completed"
    },
    "tags": []
   },
   "outputs": [],
   "source": []
  }
 ],
 "metadata": {
  "kernelspec": {
   "display_name": "Python 3",
   "language": "python",
   "name": "python3"
  },
  "language_info": {
   "codemirror_mode": {
    "name": "ipython",
    "version": 3
   },
   "file_extension": ".py",
   "mimetype": "text/x-python",
   "name": "python",
   "nbconvert_exporter": "python",
   "pygments_lexer": "ipython3",
   "version": "3.6.12"
  },
  "papermill": {
   "duration": 10.744864,
   "end_time": "2020-09-14T04:25:07.072606",
   "environment_variables": {},
   "exception": null,
   "input_path": "latest.ipynb",
   "output_path": "latest.ipynb",
   "parameters": {},
   "start_time": "2020-09-14T04:24:56.327742",
   "version": "2.1.2"
  }
 },
 "nbformat": 4,
 "nbformat_minor": 4
}