{
 "cells": [
  {
   "cell_type": "markdown",
   "metadata": {
    "papermill": {
     "duration": 0.02028,
     "end_time": "2020-09-27T12:28:13.106134",
     "exception": false,
     "start_time": "2020-09-27T12:28:13.085854",
     "status": "completed"
    },
    "tags": []
   },
   "source": [
    "# Latest COVID-19 India Matplotlib Overview"
   ]
  },
  {
   "cell_type": "code",
   "execution_count": 1,
   "metadata": {
    "execution": {
     "iopub.execute_input": "2020-09-27T12:28:13.142099Z",
     "iopub.status.busy": "2020-09-27T12:28:13.141585Z",
     "iopub.status.idle": "2020-09-27T12:28:13.676129Z",
     "shell.execute_reply": "2020-09-27T12:28:13.675042Z"
    },
    "papermill": {
     "duration": 0.554841,
     "end_time": "2020-09-27T12:28:13.676272",
     "exception": false,
     "start_time": "2020-09-27T12:28:13.121431",
     "status": "completed"
    },
    "tags": []
   },
   "outputs": [],
   "source": [
    "#hide\n",
    "import pandas as pd\n",
    "import numpy as np\n",
    "import requests\n",
    "import json\n",
    "import matplotlib.pyplot as plt\n",
    "import matplotlib.dates as mdates\n",
    "import matplotlib as mpl\n",
    "from IPython.core.display import display,HTML\n",
    "%matplotlib inline\n",
    "from datetime import date"
   ]
  },
  {
   "cell_type": "code",
   "execution_count": 2,
   "metadata": {
    "execution": {
     "iopub.execute_input": "2020-09-27T12:28:13.709215Z",
     "iopub.status.busy": "2020-09-27T12:28:13.708083Z",
     "iopub.status.idle": "2020-09-27T12:28:13.920959Z",
     "shell.execute_reply": "2020-09-27T12:28:13.920094Z"
    },
    "papermill": {
     "duration": 0.232273,
     "end_time": "2020-09-27T12:28:13.921182",
     "exception": false,
     "start_time": "2020-09-27T12:28:13.688909",
     "status": "completed"
    },
    "tags": []
   },
   "outputs": [],
   "source": [
    "#hide\n",
    "df  = pd.read_csv('https://api.covid19india.org/csv/latest/states.csv')\n",
    "df = df[['Date','State','Confirmed','Deceased']]\n",
    "df = df.rename(columns={'Confirmed':'Cases', \"Deceased\":'Deaths'})\n",
    "df_cases = df[[\"Date\",'State','Cases']]\n",
    "df_deaths = df[['Date','State','Deaths']]\n",
    "df_cases1 = df_cases.groupby('Date')\n",
    "df_deaths1= df_deaths.groupby('Date')"
   ]
  },
  {
   "cell_type": "code",
   "execution_count": 3,
   "metadata": {
    "execution": {
     "iopub.execute_input": "2020-09-27T12:28:13.956605Z",
     "iopub.status.busy": "2020-09-27T12:28:13.956026Z",
     "iopub.status.idle": "2020-09-27T12:28:13.971449Z",
     "shell.execute_reply": "2020-09-27T12:28:13.971866Z"
    },
    "papermill": {
     "duration": 0.035225,
     "end_time": "2020-09-27T12:28:13.972001",
     "exception": false,
     "start_time": "2020-09-27T12:28:13.936776",
     "status": "completed"
    },
    "tags": []
   },
   "outputs": [],
   "source": [
    "#hide\n",
    "df_snap = pd.read_csv('data/SnapshotCases-28-July.csv')\n",
    "arr_states = df_snap['states'].unique()\n",
    "arr_dates = df['Date'].unique()\n",
    "df_snap = df_snap.set_index('states')"
   ]
  },
  {
   "cell_type": "code",
   "execution_count": 4,
   "metadata": {
    "execution": {
     "iopub.execute_input": "2020-09-27T12:28:14.001791Z",
     "iopub.status.busy": "2020-09-27T12:28:14.001236Z",
     "iopub.status.idle": "2020-09-27T12:28:14.009645Z",
     "shell.execute_reply": "2020-09-27T12:28:14.009190Z"
    },
    "papermill": {
     "duration": 0.025031,
     "end_time": "2020-09-27T12:28:14.009755",
     "exception": false,
     "start_time": "2020-09-27T12:28:13.984724",
     "status": "completed"
    },
    "tags": []
   },
   "outputs": [
    {
     "data": {
      "text/plain": [
       "array(['Andaman and Nicobar Islands', 'Andhra Pradesh',\n",
       "       'Arunachal Pradesh', 'Assam', 'Bihar', 'Chandigarh',\n",
       "       'Dadra and Nagar Haveli and Daman and Diu', 'Delhi', 'Goa',\n",
       "       'Gujarat', 'Haryana', 'Himachal Pradesh', 'Jammu and Kashmir',\n",
       "       'Jharkhand', 'Karnataka', 'Kerala', 'Lakshadweep',\n",
       "       'Madhya Pradesh', 'Maharashtra', 'Manipur', 'Meghalaya', 'Mizoram',\n",
       "       'Nagaland', 'Odisha', 'Puducherry', 'Punjab', 'Rajasthan',\n",
       "       'Sikkim', 'Tamil Nadu', 'Telangana', 'Tripura', 'Uttar Pradesh',\n",
       "       'West Bengal', 'Chhattisgarh', 'Ladakh', 'Uttarakhand'],\n",
       "      dtype=object)"
      ]
     },
     "execution_count": 4,
     "metadata": {},
     "output_type": "execute_result"
    }
   ],
   "source": [
    "#hide\n",
    "arr_states[-9] = 'Puducherry'\n",
    "arr_states[-10] = 'Odisha'\n",
    "arr_states[6] = 'Dadra and Nagar Haveli and Daman and Diu'\n",
    "arr_states = np.append(arr_states,np.array(['Chhattisgarh','Ladakh','Uttarakhand']))\n",
    "arr_states"
   ]
  },
  {
   "cell_type": "code",
   "execution_count": 5,
   "metadata": {
    "execution": {
     "iopub.execute_input": "2020-09-27T12:28:14.046432Z",
     "iopub.status.busy": "2020-09-27T12:28:14.045875Z",
     "iopub.status.idle": "2020-09-27T12:28:14.052646Z",
     "shell.execute_reply": "2020-09-27T12:28:14.052184Z"
    },
    "papermill": {
     "duration": 0.029146,
     "end_time": "2020-09-27T12:28:14.052772",
     "exception": false,
     "start_time": "2020-09-27T12:28:14.023626",
     "status": "completed"
    },
    "tags": []
   },
   "outputs": [],
   "source": [
    "#hide\n",
    "dates = []\n",
    "for i in arr_dates:\n",
    "    if i>='2020-07-01':\n",
    "        dates.append(i)\n",
    "dict = {'states':dates}\n",
    "for i in arr_states:\n",
    "    dict[i] = [0]*len(dates)\n",
    "dft_cases = pd.DataFrame(dict)\n",
    "dft_deaths = pd.DataFrame(dict)\n"
   ]
  },
  {
   "cell_type": "code",
   "execution_count": 6,
   "metadata": {
    "execution": {
     "iopub.execute_input": "2020-09-27T12:28:14.087812Z",
     "iopub.status.busy": "2020-09-27T12:28:14.087211Z",
     "iopub.status.idle": "2020-09-27T12:28:15.169786Z",
     "shell.execute_reply": "2020-09-27T12:28:15.168889Z"
    },
    "papermill": {
     "duration": 1.102411,
     "end_time": "2020-09-27T12:28:15.170002",
     "exception": false,
     "start_time": "2020-09-27T12:28:14.067591",
     "status": "completed"
    },
    "tags": []
   },
   "outputs": [],
   "source": [
    "#hide\n",
    "for i in range(len(dates)):\n",
    "    df1_deaths = df_deaths1.get_group(dates[i])\n",
    "    for j in range(len(df1_deaths.index)):\n",
    "        if df1_deaths.iloc[j,1] in arr_states:\n",
    "            dft_deaths.loc[i,df1_deaths.iloc[j,1]] = df1_deaths.iloc[j,2]\n",
    "dft_deaths = dft_deaths.set_index('states')"
   ]
  },
  {
   "cell_type": "code",
   "execution_count": 7,
   "metadata": {
    "execution": {
     "iopub.execute_input": "2020-09-27T12:28:15.204995Z",
     "iopub.status.busy": "2020-09-27T12:28:15.204270Z",
     "iopub.status.idle": "2020-09-27T12:28:16.274063Z",
     "shell.execute_reply": "2020-09-27T12:28:16.273484Z"
    },
    "papermill": {
     "duration": 1.08981,
     "end_time": "2020-09-27T12:28:16.274208",
     "exception": false,
     "start_time": "2020-09-27T12:28:15.184398",
     "status": "completed"
    },
    "tags": []
   },
   "outputs": [],
   "source": [
    "#hide\n",
    "for i in range(len(dates)):\n",
    "    df1_cases = df_cases1.get_group(dates[i])\n",
    "    for j in range(len(df1_cases.index)):\n",
    "        if df1_cases.iloc[j,1] in arr_states:\n",
    "            dft_cases.loc[i,df1_cases.iloc[j,1]] = df1_cases.iloc[j,2]\n",
    "dft_cases = dft_cases.set_index('states')"
   ]
  },
  {
   "cell_type": "code",
   "execution_count": 8,
   "metadata": {
    "execution": {
     "iopub.execute_input": "2020-09-27T12:28:16.313412Z",
     "iopub.status.busy": "2020-09-27T12:28:16.312408Z",
     "iopub.status.idle": "2020-09-27T12:28:16.317332Z",
     "shell.execute_reply": "2020-09-27T12:28:16.316074Z"
    },
    "papermill": {
     "duration": 0.026319,
     "end_time": "2020-09-27T12:28:16.317470",
     "exception": false,
     "start_time": "2020-09-27T12:28:16.291151",
     "status": "completed"
    },
    "tags": []
   },
   "outputs": [],
   "source": [
    "#hide\n",
    "dft_cases = dft_cases.T\n",
    "dft_deaths = dft_deaths.T\n",
    "dt_today = dates[-1]\n",
    "dt_yday = dates[-2]"
   ]
  },
  {
   "cell_type": "code",
   "execution_count": 9,
   "metadata": {
    "execution": {
     "iopub.execute_input": "2020-09-27T12:28:16.358462Z",
     "iopub.status.busy": "2020-09-27T12:28:16.357866Z",
     "iopub.status.idle": "2020-09-27T12:28:16.362786Z",
     "shell.execute_reply": "2020-09-27T12:28:16.361968Z"
    },
    "papermill": {
     "duration": 0.028662,
     "end_time": "2020-09-27T12:28:16.362998",
     "exception": false,
     "start_time": "2020-09-27T12:28:16.334336",
     "status": "completed"
    },
    "tags": []
   },
   "outputs": [],
   "source": [
    "#hide\n",
    "dft_cases = dft_cases.reset_index()\n",
    "dft_deaths = dft_deaths.reset_index()\n",
    "dft_cases = dft_cases.rename(columns = {'index':'state'})\n",
    "dft_deaths = dft_deaths.rename(columns = {'index':'state'})"
   ]
  },
  {
   "cell_type": "code",
   "execution_count": 10,
   "metadata": {
    "execution": {
     "iopub.execute_input": "2020-09-27T12:28:16.404924Z",
     "iopub.status.busy": "2020-09-27T12:28:16.404339Z",
     "iopub.status.idle": "2020-09-27T12:28:16.406764Z",
     "shell.execute_reply": "2020-09-27T12:28:16.406271Z"
    },
    "papermill": {
     "duration": 0.027674,
     "end_time": "2020-09-27T12:28:16.406884",
     "exception": false,
     "start_time": "2020-09-27T12:28:16.379210",
     "status": "completed"
    },
    "tags": []
   },
   "outputs": [],
   "source": [
    "#hide\n",
    "dfc_cases = dft_cases.groupby('state')[dt_today].sum()\n",
    "dfc_deaths = dft_deaths.groupby('state')[dt_today].sum()\n",
    "dfp_cases = dft_cases.groupby('state')[dt_yday].sum()\n",
    "dfp_deaths = dft_deaths.groupby('state')[dt_yday].sum()"
   ]
  },
  {
   "cell_type": "code",
   "execution_count": 11,
   "metadata": {
    "execution": {
     "iopub.execute_input": "2020-09-27T12:28:16.451075Z",
     "iopub.status.busy": "2020-09-27T12:28:16.450497Z",
     "iopub.status.idle": "2020-09-27T12:28:16.456932Z",
     "shell.execute_reply": "2020-09-27T12:28:16.457400Z"
    },
    "papermill": {
     "duration": 0.035471,
     "end_time": "2020-09-27T12:28:16.457543",
     "exception": false,
     "start_time": "2020-09-27T12:28:16.422072",
     "status": "completed"
    },
    "tags": []
   },
   "outputs": [
    {
     "data": {
      "text/html": [
       "<div>\n",
       "<style scoped>\n",
       "    .dataframe tbody tr th:only-of-type {\n",
       "        vertical-align: middle;\n",
       "    }\n",
       "\n",
       "    .dataframe tbody tr th {\n",
       "        vertical-align: top;\n",
       "    }\n",
       "\n",
       "    .dataframe thead th {\n",
       "        text-align: right;\n",
       "    }\n",
       "</style>\n",
       "<table border=\"1\" class=\"dataframe\">\n",
       "  <thead>\n",
       "    <tr style=\"text-align: right;\">\n",
       "      <th></th>\n",
       "      <th>states</th>\n",
       "      <th>Cases</th>\n",
       "      <th>Deaths</th>\n",
       "      <th>PCases</th>\n",
       "      <th>PDeaths</th>\n",
       "    </tr>\n",
       "  </thead>\n",
       "  <tbody>\n",
       "    <tr>\n",
       "      <th>0</th>\n",
       "      <td>Maharashtra</td>\n",
       "      <td>1321176</td>\n",
       "      <td>35191</td>\n",
       "      <td>1321176</td>\n",
       "      <td>35191</td>\n",
       "    </tr>\n",
       "    <tr>\n",
       "      <th>1</th>\n",
       "      <td>Andhra Pradesh</td>\n",
       "      <td>668751</td>\n",
       "      <td>5663</td>\n",
       "      <td>668751</td>\n",
       "      <td>5663</td>\n",
       "    </tr>\n",
       "    <tr>\n",
       "      <th>2</th>\n",
       "      <td>Tamil Nadu</td>\n",
       "      <td>575017</td>\n",
       "      <td>9233</td>\n",
       "      <td>575017</td>\n",
       "      <td>9233</td>\n",
       "    </tr>\n",
       "    <tr>\n",
       "      <th>3</th>\n",
       "      <td>Karnataka</td>\n",
       "      <td>566023</td>\n",
       "      <td>8503</td>\n",
       "      <td>566023</td>\n",
       "      <td>8503</td>\n",
       "    </tr>\n",
       "    <tr>\n",
       "      <th>4</th>\n",
       "      <td>Uttar Pradesh</td>\n",
       "      <td>382835</td>\n",
       "      <td>5517</td>\n",
       "      <td>382835</td>\n",
       "      <td>5517</td>\n",
       "    </tr>\n",
       "  </tbody>\n",
       "</table>\n",
       "</div>"
      ],
      "text/plain": [
       "           states    Cases  Deaths   PCases  PDeaths\n",
       "0     Maharashtra  1321176   35191  1321176    35191\n",
       "1  Andhra Pradesh   668751    5663   668751     5663\n",
       "2      Tamil Nadu   575017    9233   575017     9233\n",
       "3       Karnataka   566023    8503   566023     8503\n",
       "4   Uttar Pradesh   382835    5517   382835     5517"
      ]
     },
     "execution_count": 11,
     "metadata": {},
     "output_type": "execute_result"
    }
   ],
   "source": [
    "#hide\n",
    "df_table = pd.DataFrame({'states': dfc_cases.index, 'Cases': dfc_cases.values, 'Deaths': dfc_deaths.values, 'PCases': dfp_cases.values, 'PDeaths': dfp_deaths.values}).set_index('states')\n",
    "df_table = df_table.sort_values(by = ['Cases','Deaths'], ascending = [False, False])\n",
    "df_table = df_table.reset_index()\n",
    "df_table.head()"
   ]
  },
  {
   "cell_type": "code",
   "execution_count": 12,
   "metadata": {
    "execution": {
     "iopub.execute_input": "2020-09-27T12:28:16.492927Z",
     "iopub.status.busy": "2020-09-27T12:28:16.492354Z",
     "iopub.status.idle": "2020-09-27T12:28:16.501310Z",
     "shell.execute_reply": "2020-09-27T12:28:16.500860Z"
    },
    "papermill": {
     "duration": 0.029098,
     "end_time": "2020-09-27T12:28:16.501425",
     "exception": false,
     "start_time": "2020-09-27T12:28:16.472327",
     "status": "completed"
    },
    "tags": []
   },
   "outputs": [],
   "source": [
    "#hide\n",
    "for c in 'Cases, Deaths'.split(', '):\n",
    "    df_table[f'{c} (+)'] = (df_table[c] - df_table[f'P{c}']).clip(0)\n",
    "df_table['Fatality Rate'] = (100* df_table['Deaths']/ df_table['Cases']).round(2)"
   ]
  },
  {
   "cell_type": "code",
   "execution_count": 13,
   "metadata": {
    "execution": {
     "iopub.execute_input": "2020-09-27T12:28:16.542210Z",
     "iopub.status.busy": "2020-09-27T12:28:16.541638Z",
     "iopub.status.idle": "2020-09-27T12:28:16.544386Z",
     "shell.execute_reply": "2020-09-27T12:28:16.544744Z"
    },
    "papermill": {
     "duration": 0.028484,
     "end_time": "2020-09-27T12:28:16.544860",
     "exception": false,
     "start_time": "2020-09-27T12:28:16.516376",
     "status": "completed"
    },
    "tags": []
   },
   "outputs": [
    {
     "data": {
      "text/html": [
       "<div>\n",
       "<style scoped>\n",
       "    .dataframe tbody tr th:only-of-type {\n",
       "        vertical-align: middle;\n",
       "    }\n",
       "\n",
       "    .dataframe tbody tr th {\n",
       "        vertical-align: top;\n",
       "    }\n",
       "\n",
       "    .dataframe thead th {\n",
       "        text-align: right;\n",
       "    }\n",
       "</style>\n",
       "<table border=\"1\" class=\"dataframe\">\n",
       "  <thead>\n",
       "    <tr style=\"text-align: right;\">\n",
       "      <th></th>\n",
       "      <th>states</th>\n",
       "      <th>Cases</th>\n",
       "      <th>Deaths</th>\n",
       "      <th>PCases</th>\n",
       "      <th>PDeaths</th>\n",
       "      <th>Cases (+)</th>\n",
       "      <th>Deaths (+)</th>\n",
       "      <th>Fatality Rate</th>\n",
       "    </tr>\n",
       "  </thead>\n",
       "  <tbody>\n",
       "    <tr>\n",
       "      <th>0</th>\n",
       "      <td>Maharashtra</td>\n",
       "      <td>1321176</td>\n",
       "      <td>35191</td>\n",
       "      <td>1321176</td>\n",
       "      <td>35191</td>\n",
       "      <td>0</td>\n",
       "      <td>0</td>\n",
       "      <td>2.66</td>\n",
       "    </tr>\n",
       "    <tr>\n",
       "      <th>1</th>\n",
       "      <td>Andhra Pradesh</td>\n",
       "      <td>668751</td>\n",
       "      <td>5663</td>\n",
       "      <td>668751</td>\n",
       "      <td>5663</td>\n",
       "      <td>0</td>\n",
       "      <td>0</td>\n",
       "      <td>0.85</td>\n",
       "    </tr>\n",
       "    <tr>\n",
       "      <th>2</th>\n",
       "      <td>Tamil Nadu</td>\n",
       "      <td>575017</td>\n",
       "      <td>9233</td>\n",
       "      <td>575017</td>\n",
       "      <td>9233</td>\n",
       "      <td>0</td>\n",
       "      <td>0</td>\n",
       "      <td>1.61</td>\n",
       "    </tr>\n",
       "    <tr>\n",
       "      <th>3</th>\n",
       "      <td>Karnataka</td>\n",
       "      <td>566023</td>\n",
       "      <td>8503</td>\n",
       "      <td>566023</td>\n",
       "      <td>8503</td>\n",
       "      <td>0</td>\n",
       "      <td>0</td>\n",
       "      <td>1.50</td>\n",
       "    </tr>\n",
       "    <tr>\n",
       "      <th>4</th>\n",
       "      <td>Uttar Pradesh</td>\n",
       "      <td>382835</td>\n",
       "      <td>5517</td>\n",
       "      <td>382835</td>\n",
       "      <td>5517</td>\n",
       "      <td>0</td>\n",
       "      <td>0</td>\n",
       "      <td>1.44</td>\n",
       "    </tr>\n",
       "  </tbody>\n",
       "</table>\n",
       "</div>"
      ],
      "text/plain": [
       "           states    Cases  Deaths   PCases  PDeaths  Cases (+)  Deaths (+)  \\\n",
       "0     Maharashtra  1321176   35191  1321176    35191          0           0   \n",
       "1  Andhra Pradesh   668751    5663   668751     5663          0           0   \n",
       "2      Tamil Nadu   575017    9233   575017     9233          0           0   \n",
       "3       Karnataka   566023    8503   566023     8503          0           0   \n",
       "4   Uttar Pradesh   382835    5517   382835     5517          0           0   \n",
       "\n",
       "   Fatality Rate  \n",
       "0           2.66  \n",
       "1           0.85  \n",
       "2           1.61  \n",
       "3           1.50  \n",
       "4           1.44  "
      ]
     },
     "execution_count": 13,
     "metadata": {},
     "output_type": "execute_result"
    }
   ],
   "source": [
    "#hide\n",
    "df_table.head()"
   ]
  },
  {
   "cell_type": "code",
   "execution_count": 14,
   "metadata": {
    "execution": {
     "iopub.execute_input": "2020-09-27T12:28:16.582054Z",
     "iopub.status.busy": "2020-09-27T12:28:16.581575Z",
     "iopub.status.idle": "2020-09-27T12:28:16.597021Z",
     "shell.execute_reply": "2020-09-27T12:28:16.597438Z"
    },
    "papermill": {
     "duration": 0.037198,
     "end_time": "2020-09-27T12:28:16.597571",
     "exception": false,
     "start_time": "2020-09-27T12:28:16.560373",
     "status": "completed"
    },
    "tags": []
   },
   "outputs": [
    {
     "data": {
      "text/plain": [
       "{'updated': '2020-09-27',\n",
       " 'since': '2020-09-26',\n",
       " 'Cases': 5996823,\n",
       " 'PCases': 5990581,\n",
       " 'Deaths': 94559,\n",
       " 'PDeaths': 94534,\n",
       " 'Cases (+)': 6242,\n",
       " 'Deaths (+)': 25}"
      ]
     },
     "execution_count": 14,
     "metadata": {},
     "output_type": "execute_result"
    }
   ],
   "source": [
    "#hide\n",
    "summary = {'updated':dates[-1], 'since':dates[-2]}\n",
    "list_names = ['Cases', 'PCases', 'Deaths', 'PDeaths', 'Cases (+)', 'Deaths (+)']\n",
    "for name in list_names:\n",
    "    summary[name] = df_table.sum()[name]\n",
    "summary"
   ]
  },
  {
   "cell_type": "code",
   "execution_count": 15,
   "metadata": {
    "execution": {
     "iopub.execute_input": "2020-09-27T12:28:16.633931Z",
     "iopub.status.busy": "2020-09-27T12:28:16.632916Z",
     "iopub.status.idle": "2020-09-27T12:28:16.634992Z",
     "shell.execute_reply": "2020-09-27T12:28:16.635824Z"
    },
    "papermill": {
     "duration": 0.024007,
     "end_time": "2020-09-27T12:28:16.636048",
     "exception": false,
     "start_time": "2020-09-27T12:28:16.612041",
     "status": "completed"
    },
    "tags": []
   },
   "outputs": [],
   "source": [
    "#hide\n",
    "overview = '''\n",
    "<!-- #######  HTML!! #########-->\n",
    "<h1 style=\"color: #5e9ca0; text-align: center;\">India</h1>\n",
    "<p style=\"text-align: center;\">Last update: <strong>{update}</strong></p>\n",
    "<p style=\"text-align: center;\">Confirmed cases:</p>\n",
    "<p style=\"text-align: center;font-size:24px;\">{cases} (<span style=\"color: #ff0000;\">+{new}</span>)</p>\n",
    "<p style=\"text-align: center;\">Confirmed deaths:</p>\n",
    "<p style=\"text-align: center;font-size:24px;\">{deaths} (<span style=\"color: #ff0000;\">+{dnew}</span>)</p>\n",
    "'''"
   ]
  },
  {
   "cell_type": "code",
   "execution_count": 16,
   "metadata": {
    "execution": {
     "iopub.execute_input": "2020-09-27T12:28:16.676838Z",
     "iopub.status.busy": "2020-09-27T12:28:16.676363Z",
     "iopub.status.idle": "2020-09-27T12:28:16.680773Z",
     "shell.execute_reply": "2020-09-27T12:28:16.680371Z"
    },
    "papermill": {
     "duration": 0.027513,
     "end_time": "2020-09-27T12:28:16.680873",
     "exception": false,
     "start_time": "2020-09-27T12:28:16.653360",
     "status": "completed"
    },
    "tags": []
   },
   "outputs": [
    {
     "data": {
      "text/html": [
       "\n",
       "<!-- #######  HTML!! #########-->\n",
       "<h1 style=\"color: #5e9ca0; text-align: center;\">India</h1>\n",
       "<p style=\"text-align: center;\">Last update: <strong>2020-09-27</strong></p>\n",
       "<p style=\"text-align: center;\">Confirmed cases:</p>\n",
       "<p style=\"text-align: center;font-size:24px;\">5996823 (<span style=\"color: #ff0000;\">+6242</span>)</p>\n",
       "<p style=\"text-align: center;\">Confirmed deaths:</p>\n",
       "<p style=\"text-align: center;font-size:24px;\">94559 (<span style=\"color: #ff0000;\">+25</span>)</p>\n"
      ],
      "text/plain": [
       "<IPython.core.display.HTML object>"
      ]
     },
     "metadata": {},
     "output_type": "display_data"
    }
   ],
   "source": [
    "#hide_input\n",
    "update = summary['updated']\n",
    "cases = summary['Cases']\n",
    "new = summary['Cases (+)']\n",
    "deaths = summary['Deaths']\n",
    "dnew = summary['Deaths (+)']\n",
    "\n",
    "html = HTML(overview.format(update=update, cases=cases,new=new,deaths=deaths,dnew=dnew))\n",
    "\n",
    "display(html)"
   ]
  },
  {
   "cell_type": "code",
   "execution_count": 17,
   "metadata": {
    "execution": {
     "iopub.execute_input": "2020-09-27T12:28:16.720767Z",
     "iopub.status.busy": "2020-09-27T12:28:16.720259Z",
     "iopub.status.idle": "2020-09-27T12:28:16.725199Z",
     "shell.execute_reply": "2020-09-27T12:28:16.724702Z"
    },
    "papermill": {
     "duration": 0.028868,
     "end_time": "2020-09-27T12:28:16.725317",
     "exception": false,
     "start_time": "2020-09-27T12:28:16.696449",
     "status": "completed"
    },
    "tags": []
   },
   "outputs": [],
   "source": [
    "#hide\n",
    "dt_cols = list(dft_cases.columns[1:])\n",
    "dft_ct_new_cases = dft_cases.groupby('state')[dt_cols].sum().diff(axis=1).fillna(0).astype(int)\n",
    "dft_ct_new_cases.sort_values(by = dates[-1], ascending = False,inplace = True)"
   ]
  },
  {
   "cell_type": "code",
   "execution_count": 18,
   "metadata": {
    "execution": {
     "iopub.execute_input": "2020-09-27T12:28:16.775288Z",
     "iopub.status.busy": "2020-09-27T12:28:16.774761Z",
     "iopub.status.idle": "2020-09-27T12:28:16.777796Z",
     "shell.execute_reply": "2020-09-27T12:28:16.777329Z"
    },
    "papermill": {
     "duration": 0.036001,
     "end_time": "2020-09-27T12:28:16.777908",
     "exception": false,
     "start_time": "2020-09-27T12:28:16.741907",
     "status": "completed"
    },
    "tags": []
   },
   "outputs": [
    {
     "data": {
      "text/html": [
       "<div>\n",
       "<style scoped>\n",
       "    .dataframe tbody tr th:only-of-type {\n",
       "        vertical-align: middle;\n",
       "    }\n",
       "\n",
       "    .dataframe tbody tr th {\n",
       "        vertical-align: top;\n",
       "    }\n",
       "\n",
       "    .dataframe thead th {\n",
       "        text-align: right;\n",
       "    }\n",
       "</style>\n",
       "<table border=\"1\" class=\"dataframe\">\n",
       "  <thead>\n",
       "    <tr style=\"text-align: right;\">\n",
       "      <th>states</th>\n",
       "      <th>2020-07-01</th>\n",
       "      <th>2020-07-02</th>\n",
       "      <th>2020-07-03</th>\n",
       "      <th>2020-07-04</th>\n",
       "      <th>2020-07-05</th>\n",
       "      <th>2020-07-06</th>\n",
       "      <th>2020-07-07</th>\n",
       "      <th>2020-07-08</th>\n",
       "      <th>2020-07-09</th>\n",
       "      <th>2020-07-10</th>\n",
       "      <th>...</th>\n",
       "      <th>2020-09-18</th>\n",
       "      <th>2020-09-19</th>\n",
       "      <th>2020-09-20</th>\n",
       "      <th>2020-09-21</th>\n",
       "      <th>2020-09-22</th>\n",
       "      <th>2020-09-23</th>\n",
       "      <th>2020-09-24</th>\n",
       "      <th>2020-09-25</th>\n",
       "      <th>2020-09-26</th>\n",
       "      <th>2020-09-27</th>\n",
       "    </tr>\n",
       "    <tr>\n",
       "      <th>state</th>\n",
       "      <th></th>\n",
       "      <th></th>\n",
       "      <th></th>\n",
       "      <th></th>\n",
       "      <th></th>\n",
       "      <th></th>\n",
       "      <th></th>\n",
       "      <th></th>\n",
       "      <th></th>\n",
       "      <th></th>\n",
       "      <th></th>\n",
       "      <th></th>\n",
       "      <th></th>\n",
       "      <th></th>\n",
       "      <th></th>\n",
       "      <th></th>\n",
       "      <th></th>\n",
       "      <th></th>\n",
       "      <th></th>\n",
       "      <th></th>\n",
       "      <th></th>\n",
       "    </tr>\n",
       "  </thead>\n",
       "  <tbody>\n",
       "    <tr>\n",
       "      <th>Odisha</th>\n",
       "      <td>0</td>\n",
       "      <td>229</td>\n",
       "      <td>561</td>\n",
       "      <td>495</td>\n",
       "      <td>469</td>\n",
       "      <td>456</td>\n",
       "      <td>571</td>\n",
       "      <td>527</td>\n",
       "      <td>577</td>\n",
       "      <td>755</td>\n",
       "      <td>...</td>\n",
       "      <td>4180</td>\n",
       "      <td>4209</td>\n",
       "      <td>4330</td>\n",
       "      <td>4242</td>\n",
       "      <td>4189</td>\n",
       "      <td>4237</td>\n",
       "      <td>4340</td>\n",
       "      <td>4208</td>\n",
       "      <td>4356</td>\n",
       "      <td>3922</td>\n",
       "    </tr>\n",
       "    <tr>\n",
       "      <th>Telangana</th>\n",
       "      <td>0</td>\n",
       "      <td>1213</td>\n",
       "      <td>1892</td>\n",
       "      <td>1850</td>\n",
       "      <td>1590</td>\n",
       "      <td>1831</td>\n",
       "      <td>1879</td>\n",
       "      <td>1924</td>\n",
       "      <td>1410</td>\n",
       "      <td>1278</td>\n",
       "      <td>...</td>\n",
       "      <td>2043</td>\n",
       "      <td>2123</td>\n",
       "      <td>2137</td>\n",
       "      <td>1302</td>\n",
       "      <td>2166</td>\n",
       "      <td>2296</td>\n",
       "      <td>2176</td>\n",
       "      <td>2381</td>\n",
       "      <td>2239</td>\n",
       "      <td>1967</td>\n",
       "    </tr>\n",
       "    <tr>\n",
       "      <th>Tripura</th>\n",
       "      <td>0</td>\n",
       "      <td>39</td>\n",
       "      <td>93</td>\n",
       "      <td>25</td>\n",
       "      <td>23</td>\n",
       "      <td>111</td>\n",
       "      <td>24</td>\n",
       "      <td>57</td>\n",
       "      <td>16</td>\n",
       "      <td>142</td>\n",
       "      <td>...</td>\n",
       "      <td>273</td>\n",
       "      <td>535</td>\n",
       "      <td>525</td>\n",
       "      <td>243</td>\n",
       "      <td>559</td>\n",
       "      <td>504</td>\n",
       "      <td>451</td>\n",
       "      <td>341</td>\n",
       "      <td>278</td>\n",
       "      <td>320</td>\n",
       "    </tr>\n",
       "    <tr>\n",
       "      <th>Mizoram</th>\n",
       "      <td>0</td>\n",
       "      <td>2</td>\n",
       "      <td>0</td>\n",
       "      <td>2</td>\n",
       "      <td>22</td>\n",
       "      <td>11</td>\n",
       "      <td>1</td>\n",
       "      <td>5</td>\n",
       "      <td>0</td>\n",
       "      <td>23</td>\n",
       "      <td>...</td>\n",
       "      <td>28</td>\n",
       "      <td>14</td>\n",
       "      <td>30</td>\n",
       "      <td>7</td>\n",
       "      <td>106</td>\n",
       "      <td>22</td>\n",
       "      <td>46</td>\n",
       "      <td>27</td>\n",
       "      <td>49</td>\n",
       "      <td>30</td>\n",
       "    </tr>\n",
       "    <tr>\n",
       "      <th>Dadra and Nagar Haveli and Daman and Diu</th>\n",
       "      <td>0</td>\n",
       "      <td>25</td>\n",
       "      <td>50</td>\n",
       "      <td>37</td>\n",
       "      <td>32</td>\n",
       "      <td>27</td>\n",
       "      <td>27</td>\n",
       "      <td>15</td>\n",
       "      <td>14</td>\n",
       "      <td>14</td>\n",
       "      <td>...</td>\n",
       "      <td>28</td>\n",
       "      <td>28</td>\n",
       "      <td>37</td>\n",
       "      <td>9</td>\n",
       "      <td>11</td>\n",
       "      <td>18</td>\n",
       "      <td>15</td>\n",
       "      <td>12</td>\n",
       "      <td>7</td>\n",
       "      <td>3</td>\n",
       "    </tr>\n",
       "  </tbody>\n",
       "</table>\n",
       "<p>5 rows × 89 columns</p>\n",
       "</div>"
      ],
      "text/plain": [
       "states                                    2020-07-01  2020-07-02  2020-07-03  \\\n",
       "state                                                                          \n",
       "Odisha                                             0         229         561   \n",
       "Telangana                                          0        1213        1892   \n",
       "Tripura                                            0          39          93   \n",
       "Mizoram                                            0           2           0   \n",
       "Dadra and Nagar Haveli and Daman and Diu           0          25          50   \n",
       "\n",
       "states                                    2020-07-04  2020-07-05  2020-07-06  \\\n",
       "state                                                                          \n",
       "Odisha                                           495         469         456   \n",
       "Telangana                                       1850        1590        1831   \n",
       "Tripura                                           25          23         111   \n",
       "Mizoram                                            2          22          11   \n",
       "Dadra and Nagar Haveli and Daman and Diu          37          32          27   \n",
       "\n",
       "states                                    2020-07-07  2020-07-08  2020-07-09  \\\n",
       "state                                                                          \n",
       "Odisha                                           571         527         577   \n",
       "Telangana                                       1879        1924        1410   \n",
       "Tripura                                           24          57          16   \n",
       "Mizoram                                            1           5           0   \n",
       "Dadra and Nagar Haveli and Daman and Diu          27          15          14   \n",
       "\n",
       "states                                    2020-07-10  ...  2020-09-18  \\\n",
       "state                                                 ...               \n",
       "Odisha                                           755  ...        4180   \n",
       "Telangana                                       1278  ...        2043   \n",
       "Tripura                                          142  ...         273   \n",
       "Mizoram                                           23  ...          28   \n",
       "Dadra and Nagar Haveli and Daman and Diu          14  ...          28   \n",
       "\n",
       "states                                    2020-09-19  2020-09-20  2020-09-21  \\\n",
       "state                                                                          \n",
       "Odisha                                          4209        4330        4242   \n",
       "Telangana                                       2123        2137        1302   \n",
       "Tripura                                          535         525         243   \n",
       "Mizoram                                           14          30           7   \n",
       "Dadra and Nagar Haveli and Daman and Diu          28          37           9   \n",
       "\n",
       "states                                    2020-09-22  2020-09-23  2020-09-24  \\\n",
       "state                                                                          \n",
       "Odisha                                          4189        4237        4340   \n",
       "Telangana                                       2166        2296        2176   \n",
       "Tripura                                          559         504         451   \n",
       "Mizoram                                          106          22          46   \n",
       "Dadra and Nagar Haveli and Daman and Diu          11          18          15   \n",
       "\n",
       "states                                    2020-09-25  2020-09-26  2020-09-27  \n",
       "state                                                                         \n",
       "Odisha                                          4208        4356        3922  \n",
       "Telangana                                       2381        2239        1967  \n",
       "Tripura                                          341         278         320  \n",
       "Mizoram                                           27          49          30  \n",
       "Dadra and Nagar Haveli and Daman and Diu          12           7           3  \n",
       "\n",
       "[5 rows x 89 columns]"
      ]
     },
     "execution_count": 18,
     "metadata": {},
     "output_type": "execute_result"
    }
   ],
   "source": [
    "#hide\n",
    "dft_ct_new_cases.head()"
   ]
  },
  {
   "cell_type": "code",
   "execution_count": 19,
   "metadata": {
    "execution": {
     "iopub.execute_input": "2020-09-27T12:28:16.814787Z",
     "iopub.status.busy": "2020-09-27T12:28:16.814168Z",
     "iopub.status.idle": "2020-09-27T12:28:20.076778Z",
     "shell.execute_reply": "2020-09-27T12:28:20.076326Z"
    },
    "papermill": {
     "duration": 3.282597,
     "end_time": "2020-09-27T12:28:20.076906",
     "exception": false,
     "start_time": "2020-09-27T12:28:16.794309",
     "status": "completed"
    },
    "tags": []
   },
   "outputs": [
    {
     "data": {
      "image/png": "[encoded data removed]",
      "text/plain": [
       "<Figure size 1296x2016 with 11 Axes>"
      ]
     },
     "metadata": {
      "needs_background": "light"
     },
     "output_type": "display_data"
    }
   ],
   "source": [
    "#hide_input\n",
    "df = dft_ct_new_cases.copy()\n",
    "df.loc['Total'] = df.sum()\n",
    "n = 5\n",
    "ax = []\n",
    "fig = plt.figure(figsize = (18,28))\n",
    "gs = fig.add_gridspec(n+2, 5)\n",
    "# gs = fig.add_gridspec(2, 3)\n",
    "ax1 = fig.add_subplot(gs[0, :])\n",
    "ef = df.loc['Total'].rename_axis('date').reset_index()\n",
    "ef['date'] = ef['date'].astype('datetime64[ns]')\n",
    "ax1.bar(ef.date,ef.Total,alpha=0.3,color='#007acc')\n",
    "ax1.plot(ef.date,ef.Total , marker=\"o\", color='#007acc')\n",
    "ax1.xaxis.set_major_locator(mdates.WeekdayLocator())\n",
    "ax1.xaxis.set_major_formatter(mdates.DateFormatter('%b %d'))\n",
    "ax1.text(0.02, 0.5,'India daily case count', transform = ax1.transAxes, fontsize=25);\n",
    "ax1.spines['right'].set_visible(False)\n",
    "ax1.spines['top'].set_visible(False)\n",
    "\n",
    "ax2 = fig.add_subplot(gs[1,0])\n",
    "ef = df.loc['Maharashtra'].rename_axis('date').reset_index()\n",
    "ef['date'] = ef['date'].astype('datetime64[ns]')\n",
    "\n",
    "ax2.bar(ef.date, ef.Maharashtra,color = '#007acc',alpha=0.5)\n",
    "ax2.xaxis.set_major_locator(mdates.WeekdayLocator())\n",
    "ax2.xaxis.set_major_formatter(mdates.DateFormatter('%b %d'))\n",
    "ax2.set_xticks(ax2.get_xticks()[::3])\n",
    "maxyval = ef.Maharashtra.max()\n",
    "ax2.set_ylim([0,maxyval])\n",
    "ax2.text(0.05, 0.9,'Maharashtra', transform = ax2.transAxes, fontsize=20);\n",
    "ax2.spines['right'].set_visible(False)\n",
    "ax2.spines['top'].set_visible(False)\n",
    "\n",
    "\n",
    "ax3 = fig.add_subplot(gs[1,1])\n",
    "ef = df.loc['Tamil Nadu'].rename_axis('date').reset_index()\n",
    "ef['date'] = ef['date'].astype('datetime64[ns]')\n",
    "ax3.bar(ef.date, ef['Tamil Nadu'],color = '#007acc',alpha=0.5,)\n",
    "ax3.xaxis.set_major_locator(mdates.WeekdayLocator())\n",
    "ax3.xaxis.set_major_formatter(mdates.DateFormatter('%b %d'))\n",
    "ax3.set_xticks(ax3.get_xticks()[::3])\n",
    "ax3.text(0.05, 0.9,'Tamil Nadu', transform = ax3.transAxes, fontsize=20);\n",
    "ax3.spines['right'].set_visible(False)\n",
    "ax3.spines['top'].set_visible(False)\n",
    "\n",
    "ax5 = fig.add_subplot(gs[1,3])\n",
    "ef = df.loc['Telangana'].rename_axis('date').reset_index()\n",
    "ef['date'] = ef['date'].astype('datetime64[ns]')\n",
    "ax5.bar(ef.date, ef['Telangana'],color = '#007acc',alpha=0.5,)\n",
    "ax5.xaxis.set_major_locator(mdates.WeekdayLocator())\n",
    "ax5.xaxis.set_major_formatter(mdates.DateFormatter('%b %d'))\n",
    "ax5.set_xticks(ax5.get_xticks()[::3])\n",
    "ax5.text(0.05, 0.9,'Telangana', transform = ax5.transAxes, fontsize=20);\n",
    "ax5.spines['right'].set_visible(False)\n",
    "ax5.spines['top'].set_visible(False)\n",
    "\n",
    "ax6 = fig.add_subplot(gs[1,4])\n",
    "ef = df.loc['Andhra Pradesh'].rename_axis('date').reset_index()\n",
    "ef['date'] = ef['date'].astype('datetime64[ns]')\n",
    "ax6.bar(ef.date, ef['Andhra Pradesh'],color = '#007acc',alpha=0.5,)\n",
    "ax6.xaxis.set_major_locator(mdates.WeekdayLocator())\n",
    "ax6.xaxis.set_major_formatter(mdates.DateFormatter('%b %d'))\n",
    "ax6.set_xticks(ax6.get_xticks()[::3])\n",
    "ax6.text(0.05, 1,'Andhra Pradesh', transform = ax6.transAxes, fontsize=20);\n",
    "ax6.spines['right'].set_visible(False)\n",
    "ax6.spines['top'].set_visible(False)\n",
    "\n",
    "ax4 = fig.add_subplot(gs[1,2])\n",
    "ef = df.loc['Delhi'].rename_axis('date').reset_index()\n",
    "ef['date'] = ef['date'].astype('datetime64[ns]')\n",
    "ax4.bar(ef.date, ef.Delhi,color = '#007acc',alpha=0.5)\n",
    "ax4.set_xticks([])\n",
    "ax4.xaxis.set_major_locator(mdates.WeekdayLocator())\n",
    "ax4.xaxis.set_major_formatter(mdates.DateFormatter('%b %d'))\n",
    "ax4.set_xticks(ax4.get_xticks()[::3])\n",
    "ax4.spines['right'].set_visible(False)\n",
    "ax4.spines['top'].set_visible(False)\n",
    "\n",
    "ax4.text(0.05, 1,'Delhi', transform = ax4.transAxes, fontsize=20)\n",
    "\n",
    "for i in range(n):\n",
    "    \n",
    "    ax.append(fig.add_subplot(gs[i+2,:]))\n",
    "    ef = df.iloc[i+3].rename_axis('date').reset_index()\n",
    "    ef['date'] = ef['date'].astype('datetime64[ns]')\n",
    "    ax[i].bar(ef.date,ef.iloc[:,-1],color = '#007acc',alpha=0.3)\n",
    "    ax[i].plot(ef.date,ef.iloc[:,-1],marker='o',color='#007acc')\n",
    "    ax[i].text(0.02,0.5,f'{ef.columns.values[-1]}',transform = ax[i].transAxes, fontsize = 20);\n",
    "    ax[i].xaxis.set_major_locator(mdates.WeekdayLocator())\n",
    "    ax[i].xaxis.set_major_formatter(mdates.DateFormatter('%b %d'))\n",
    "    ax[i].set_ylim([0,7000])\n",
    "    ax[i].spines['right'].set_visible(False)\n",
    "    ax[i].spines['top'].set_visible(False)\n",
    "plt.tight_layout()\n"
   ]
  },
  {
   "cell_type": "code",
   "execution_count": 20,
   "metadata": {
    "execution": {
     "iopub.execute_input": "2020-09-27T12:28:20.128329Z",
     "iopub.status.busy": "2020-09-27T12:28:20.127727Z",
     "iopub.status.idle": "2020-09-27T12:28:20.129950Z",
     "shell.execute_reply": "2020-09-27T12:28:20.130496Z"
    },
    "papermill": {
     "duration": 0.032218,
     "end_time": "2020-09-27T12:28:20.130641",
     "exception": false,
     "start_time": "2020-09-27T12:28:20.098423",
     "status": "completed"
    },
    "tags": []
   },
   "outputs": [
    {
     "name": "stdout",
     "output_type": "stream",
     "text": [
      "                                   states    Cases  Deaths   PCases  PDeaths  Cases (+)  Deaths (+)  Fatality Rate\n",
      "                              Maharashtra  1321176   35191  1321176    35191          0           0           2.66\n",
      "                           Andhra Pradesh   668751    5663   668751     5663          0           0           0.85\n",
      "                               Tamil Nadu   575017    9233   575017     9233          0           0           1.61\n",
      "                                Karnataka   566023    8503   566023     8503          0           0           1.50\n",
      "                            Uttar Pradesh   382835    5517   382835     5517          0           0           1.44\n",
      "                                    Delhi   267822    5193   267822     5193          0           0           1.94\n",
      "                              West Bengal   244240    4721   244240     4721          0           0           1.93\n",
      "                                   Odisha   209374     850   205452      836       3922          14           0.41\n",
      "                                Telangana   185833    1100   183866     1091       1967           9           0.59\n",
      "                                    Bihar   177355     886   177355      886          0           0           0.50\n",
      "                                    Assam   169110     638   169110      638          0           0           0.38\n",
      "                                   Kerala   167940     657   167940      657          0           0           0.39\n",
      "                                  Gujarat   131808    3407   131808     3407          0           0           2.58\n",
      "                                Rajasthan   126775    1426   126775     1426          0           0           1.12\n",
      "                                  Haryana   122267    1291   122267     1291          0           0           1.06\n",
      "                           Madhya Pradesh   119899    2181   119899     2181          0           0           1.82\n",
      "                                   Punjab   108684    3188   108684     3188          0           0           2.93\n",
      "                             Chhattisgarh   102461     817   102461      817          0           0           0.80\n",
      "                                Jharkhand    78935     670    78935      670          0           0           0.85\n",
      "                        Jammu and Kashmir    71049    1125    71049     1125          0           0           1.58\n",
      "                              Uttarakhand    46281     566    46281      566          0           0           1.22\n",
      "                                      Goa    31574     391    31574      391          0           0           1.24\n",
      "                               Puducherry    26032     500    26032      500          0           0           1.92\n",
      "                                  Tripura    24725     267    24405      265        320           2           1.08\n",
      "                         Himachal Pradesh    13996     159    13996      159          0           0           1.14\n",
      "                               Chandigarh    11380     145    11380      145          0           0           1.27\n",
      "                                  Manipur    10051      64    10051       64          0           0           0.64\n",
      "                        Arunachal Pradesh     8869      14     8869       14          0           0           0.16\n",
      "                                 Nagaland     5862      11     5862       11          0           0           0.19\n",
      "                                Meghalaya     5212      43     5212       43          0           0           0.83\n",
      "                                   Ladakh     4093      57     4093       57          0           0           1.39\n",
      "              Andaman and Nicobar Islands     3774      52     3774       52          0           0           1.38\n",
      " Dadra and Nagar Haveli and Daman and Diu     3003       2     3000        2          3           0           0.07\n",
      "                                   Sikkim     2752      31     2752       31          0           0           1.13\n",
      "                                  Mizoram     1865       0     1835        0         30           0           0.00\n",
      "                              Lakshadweep        0       0        0        0          0           0            NaN\n"
     ]
    }
   ],
   "source": [
    "#hide_input\n",
    "print(df_table.to_string(index=False))"
   ]
  },
  {
   "cell_type": "code",
   "execution_count": null,
   "metadata": {
    "papermill": {
     "duration": 0.021586,
     "end_time": "2020-09-27T12:28:20.175283",
     "exception": false,
     "start_time": "2020-09-27T12:28:20.153697",
     "status": "completed"
    },
    "tags": []
   },
   "outputs": [],
   "source": []
  },
  {
   "cell_type": "code",
   "execution_count": null,
   "metadata": {
    "papermill": {
     "duration": 0.0209,
     "end_time": "2020-09-27T12:28:20.217738",
     "exception": false,
     "start_time": "2020-09-27T12:28:20.196838",
     "status": "completed"
    },
    "tags": []
   },
   "outputs": [],
   "source": []
  }
 ],
 "metadata": {
  "kernelspec": {
   "display_name": "Python 3",
   "language": "python",
   "name": "python3"
  },
  "language_info": {
   "codemirror_mode": {
    "name": "ipython",
    "version": 3
   },
   "file_extension": ".py",
   "mimetype": "text/x-python",
   "name": "python",
   "nbconvert_exporter": "python",
   "pygments_lexer": "ipython3",
   "version": "3.6.12"
  },
  "papermill": {
   "duration": 8.615896,
   "end_time": "2020-09-27T12:28:20.646934",
   "environment_variables": {},
   "exception": null,
   "input_path": "latest.ipynb",
   "output_path": "latest.ipynb",
   "parameters": {},
   "start_time": "2020-09-27T12:28:12.031038",
   "version": "2.1.2"
  }
 },
 "nbformat": 4,
 "nbformat_minor": 4
}