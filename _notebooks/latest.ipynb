{
 "cells": [
  {
   "cell_type": "markdown",
   "id": "colored-stack",
   "metadata": {
    "papermill": {
     "duration": 0.022172,
     "end_time": "2021-03-07T10:28:14.997903",
     "exception": false,
     "start_time": "2021-03-07T10:28:14.975731",
     "status": "completed"
    },
    "tags": []
   },
   "source": [
    "# Latest COVID-19 India Matplotlib Overview"
   ]
  },
  {
   "cell_type": "code",
   "execution_count": 1,
   "id": "light-proportion",
   "metadata": {
    "execution": {
     "iopub.execute_input": "2021-03-07T10:28:15.048206Z",
     "iopub.status.busy": "2021-03-07T10:28:15.047546Z",
     "iopub.status.idle": "2021-03-07T10:28:15.678546Z",
     "shell.execute_reply": "2021-03-07T10:28:15.677964Z"
    },
    "papermill": {
     "duration": 0.661627,
     "end_time": "2021-03-07T10:28:15.678708",
     "exception": false,
     "start_time": "2021-03-07T10:28:15.017081",
     "status": "completed"
    },
    "tags": []
   },
   "outputs": [],
   "source": [
    "#hide\n",
    "import pandas as pd\n",
    "import numpy as np\n",
    "import requests\n",
    "import json\n",
    "import matplotlib.pyplot as plt\n",
    "import matplotlib.dates as mdates\n",
    "import matplotlib as mpl\n",
    "from IPython.core.display import display,HTML\n",
    "%matplotlib inline\n",
    "from datetime import date"
   ]
  },
  {
   "cell_type": "code",
   "execution_count": 2,
   "id": "greenhouse-shooting",
   "metadata": {
    "execution": {
     "iopub.execute_input": "2021-03-07T10:28:15.723960Z",
     "iopub.status.busy": "2021-03-07T10:28:15.723186Z",
     "iopub.status.idle": "2021-03-07T10:28:15.920558Z",
     "shell.execute_reply": "2021-03-07T10:28:15.921084Z"
    },
    "papermill": {
     "duration": 0.223468,
     "end_time": "2021-03-07T10:28:15.921257",
     "exception": false,
     "start_time": "2021-03-07T10:28:15.697789",
     "status": "completed"
    },
    "tags": []
   },
   "outputs": [],
   "source": [
    "#hide\n",
    "df  = pd.read_csv('https://api.covid19india.org/csv/latest/states.csv')\n",
    "df = df[['Date','State','Confirmed','Deceased']]\n",
    "df = df.rename(columns={'Confirmed':'Cases', \"Deceased\":'Deaths'})\n",
    "df_cases = df[[\"Date\",'State','Cases']]\n",
    "df_deaths = df[['Date','State','Deaths']]\n",
    "df_cases1 = df_cases.groupby('Date')\n",
    "df_deaths1= df_deaths.groupby('Date')"
   ]
  },
  {
   "cell_type": "code",
   "execution_count": 3,
   "id": "hybrid-cathedral",
   "metadata": {
    "execution": {
     "iopub.execute_input": "2021-03-07T10:28:15.965851Z",
     "iopub.status.busy": "2021-03-07T10:28:15.965192Z",
     "iopub.status.idle": "2021-03-07T10:28:15.984237Z",
     "shell.execute_reply": "2021-03-07T10:28:15.983684Z"
    },
    "papermill": {
     "duration": 0.043132,
     "end_time": "2021-03-07T10:28:15.984385",
     "exception": false,
     "start_time": "2021-03-07T10:28:15.941253",
     "status": "completed"
    },
    "tags": []
   },
   "outputs": [],
   "source": [
    "#hide\n",
    "df_snap = pd.read_csv('data/SnapshotCases-28-July.csv')\n",
    "arr_states = df_snap['states'].unique()\n",
    "arr_dates = df['Date'].unique()\n",
    "df_snap = df_snap.set_index('states')"
   ]
  },
  {
   "cell_type": "code",
   "execution_count": 4,
   "id": "interior-belfast",
   "metadata": {
    "execution": {
     "iopub.execute_input": "2021-03-07T10:28:16.030330Z",
     "iopub.status.busy": "2021-03-07T10:28:16.029672Z",
     "iopub.status.idle": "2021-03-07T10:28:16.033065Z",
     "shell.execute_reply": "2021-03-07T10:28:16.032510Z"
    },
    "papermill": {
     "duration": 0.028778,
     "end_time": "2021-03-07T10:28:16.033198",
     "exception": false,
     "start_time": "2021-03-07T10:28:16.004420",
     "status": "completed"
    },
    "tags": []
   },
   "outputs": [
    {
     "data": {
      "text/plain": [
       "array(['Andaman and Nicobar Islands', 'Andhra Pradesh',\n",
       "       'Arunachal Pradesh', 'Assam', 'Bihar', 'Chandigarh',\n",
       "       'Dadra and Nagar Haveli and Daman and Diu', 'Delhi', 'Goa',\n",
       "       'Gujarat', 'Haryana', 'Himachal Pradesh', 'Jammu and Kashmir',\n",
       "       'Jharkhand', 'Karnataka', 'Kerala', 'Lakshadweep',\n",
       "       'Madhya Pradesh', 'Maharashtra', 'Manipur', 'Meghalaya', 'Mizoram',\n",
       "       'Nagaland', 'Odisha', 'Puducherry', 'Punjab', 'Rajasthan',\n",
       "       'Sikkim', 'Tamil Nadu', 'Telangana', 'Tripura', 'Uttar Pradesh',\n",
       "       'West Bengal', 'Chhattisgarh', 'Ladakh', 'Uttarakhand'],\n",
       "      dtype=object)"
      ]
     },
     "execution_count": 4,
     "metadata": {},
     "output_type": "execute_result"
    }
   ],
   "source": [
    "#hide\n",
    "arr_states[-9] = 'Puducherry'\n",
    "arr_states[-10] = 'Odisha'\n",
    "arr_states[6] = 'Dadra and Nagar Haveli and Daman and Diu'\n",
    "arr_states = np.append(arr_states,np.array(['Chhattisgarh','Ladakh','Uttarakhand']))\n",
    "arr_states"
   ]
  },
  {
   "cell_type": "code",
   "execution_count": 5,
   "id": "behind-manner",
   "metadata": {
    "execution": {
     "iopub.execute_input": "2021-03-07T10:28:16.085012Z",
     "iopub.status.busy": "2021-03-07T10:28:16.084345Z",
     "iopub.status.idle": "2021-03-07T10:28:16.093368Z",
     "shell.execute_reply": "2021-03-07T10:28:16.093995Z"
    },
    "papermill": {
     "duration": 0.041908,
     "end_time": "2021-03-07T10:28:16.094159",
     "exception": false,
     "start_time": "2021-03-07T10:28:16.052251",
     "status": "completed"
    },
    "tags": []
   },
   "outputs": [],
   "source": [
    "#hide\n",
    "dates = []\n",
    "for i in arr_dates:\n",
    "    if i>='2020-07-01':\n",
    "        dates.append(i)\n",
    "dict = {'states':dates}\n",
    "for i in arr_states:\n",
    "    dict[i] = [0]*len(dates)\n",
    "dft_cases = pd.DataFrame(dict)\n",
    "dft_deaths = pd.DataFrame(dict)\n"
   ]
  },
  {
   "cell_type": "code",
   "execution_count": 6,
   "id": "simplified-peter",
   "metadata": {
    "execution": {
     "iopub.execute_input": "2021-03-07T10:28:16.145021Z",
     "iopub.status.busy": "2021-03-07T10:28:16.144365Z",
     "iopub.status.idle": "2021-03-07T10:28:20.596900Z",
     "shell.execute_reply": "2021-03-07T10:28:20.596339Z"
    },
    "papermill": {
     "duration": 4.476931,
     "end_time": "2021-03-07T10:28:20.597046",
     "exception": false,
     "start_time": "2021-03-07T10:28:16.120115",
     "status": "completed"
    },
    "tags": []
   },
   "outputs": [],
   "source": [
    "#hide\n",
    "for i in range(len(dates)):\n",
    "    df1_deaths = df_deaths1.get_group(dates[i])\n",
    "    for j in range(len(df1_deaths.index)):\n",
    "        if df1_deaths.iloc[j,1] in arr_states:\n",
    "            dft_deaths.loc[i,df1_deaths.iloc[j,1]] = df1_deaths.iloc[j,2]\n",
    "dft_deaths = dft_deaths.set_index('states')"
   ]
  },
  {
   "cell_type": "code",
   "execution_count": 7,
   "id": "geological-welding",
   "metadata": {
    "execution": {
     "iopub.execute_input": "2021-03-07T10:28:20.642713Z",
     "iopub.status.busy": "2021-03-07T10:28:20.642048Z",
     "iopub.status.idle": "2021-03-07T10:28:25.143031Z",
     "shell.execute_reply": "2021-03-07T10:28:25.142474Z"
    },
    "papermill": {
     "duration": 4.526902,
     "end_time": "2021-03-07T10:28:25.143202",
     "exception": false,
     "start_time": "2021-03-07T10:28:20.616300",
     "status": "completed"
    },
    "tags": []
   },
   "outputs": [],
   "source": [
    "#hide\n",
    "for i in range(len(dates)):\n",
    "    df1_cases = df_cases1.get_group(dates[i])\n",
    "    for j in range(len(df1_cases.index)):\n",
    "        if df1_cases.iloc[j,1] in arr_states:\n",
    "            dft_cases.loc[i,df1_cases.iloc[j,1]] = df1_cases.iloc[j,2]\n",
    "dft_cases = dft_cases.set_index('states')"
   ]
  },
  {
   "cell_type": "code",
   "execution_count": 8,
   "id": "binary-ratio",
   "metadata": {
    "execution": {
     "iopub.execute_input": "2021-03-07T10:28:25.188237Z",
     "iopub.status.busy": "2021-03-07T10:28:25.187600Z",
     "iopub.status.idle": "2021-03-07T10:28:25.189392Z",
     "shell.execute_reply": "2021-03-07T10:28:25.190383Z"
    },
    "papermill": {
     "duration": 0.028155,
     "end_time": "2021-03-07T10:28:25.190559",
     "exception": false,
     "start_time": "2021-03-07T10:28:25.162404",
     "status": "completed"
    },
    "tags": []
   },
   "outputs": [],
   "source": [
    "#hide\n",
    "dft_cases = dft_cases.T\n",
    "dft_deaths = dft_deaths.T\n",
    "dt_today = dates[-1]\n",
    "dt_yday = dates[-2]"
   ]
  },
  {
   "cell_type": "code",
   "execution_count": 9,
   "id": "boolean-calculator",
   "metadata": {
    "execution": {
     "iopub.execute_input": "2021-03-07T10:28:25.238060Z",
     "iopub.status.busy": "2021-03-07T10:28:25.237430Z",
     "iopub.status.idle": "2021-03-07T10:28:25.241553Z",
     "shell.execute_reply": "2021-03-07T10:28:25.241033Z"
    },
    "papermill": {
     "duration": 0.029914,
     "end_time": "2021-03-07T10:28:25.241679",
     "exception": false,
     "start_time": "2021-03-07T10:28:25.211765",
     "status": "completed"
    },
    "tags": []
   },
   "outputs": [],
   "source": [
    "#hide\n",
    "dft_cases = dft_cases.reset_index()\n",
    "dft_deaths = dft_deaths.reset_index()\n",
    "dft_cases = dft_cases.rename(columns = {'index':'state'})\n",
    "dft_deaths = dft_deaths.rename(columns = {'index':'state'})"
   ]
  },
  {
   "cell_type": "code",
   "execution_count": 10,
   "id": "invisible-johnston",
   "metadata": {
    "execution": {
     "iopub.execute_input": "2021-03-07T10:28:25.290067Z",
     "iopub.status.busy": "2021-03-07T10:28:25.289429Z",
     "iopub.status.idle": "2021-03-07T10:28:25.291850Z",
     "shell.execute_reply": "2021-03-07T10:28:25.291227Z"
    },
    "papermill": {
     "duration": 0.032049,
     "end_time": "2021-03-07T10:28:25.291983",
     "exception": false,
     "start_time": "2021-03-07T10:28:25.259934",
     "status": "completed"
    },
    "tags": []
   },
   "outputs": [],
   "source": [
    "#hide\n",
    "dfc_cases = dft_cases.groupby('state')[dt_today].sum()\n",
    "dfc_deaths = dft_deaths.groupby('state')[dt_today].sum()\n",
    "dfp_cases = dft_cases.groupby('state')[dt_yday].sum()\n",
    "dfp_deaths = dft_deaths.groupby('state')[dt_yday].sum()"
   ]
  },
  {
   "cell_type": "code",
   "execution_count": 11,
   "id": "measured-great",
   "metadata": {
    "execution": {
     "iopub.execute_input": "2021-03-07T10:28:25.344734Z",
     "iopub.status.busy": "2021-03-07T10:28:25.344084Z",
     "iopub.status.idle": "2021-03-07T10:28:25.351246Z",
     "shell.execute_reply": "2021-03-07T10:28:25.350653Z"
    },
    "papermill": {
     "duration": 0.040459,
     "end_time": "2021-03-07T10:28:25.351388",
     "exception": false,
     "start_time": "2021-03-07T10:28:25.310929",
     "status": "completed"
    },
    "tags": []
   },
   "outputs": [
    {
     "data": {
      "text/html": [
       "<div>\n",
       "<style scoped>\n",
       "    .dataframe tbody tr th:only-of-type {\n",
       "        vertical-align: middle;\n",
       "    }\n",
       "\n",
       "    .dataframe tbody tr th {\n",
       "        vertical-align: top;\n",
       "    }\n",
       "\n",
       "    .dataframe thead th {\n",
       "        text-align: right;\n",
       "    }\n",
       "</style>\n",
       "<table border=\"1\" class=\"dataframe\">\n",
       "  <thead>\n",
       "    <tr style=\"text-align: right;\">\n",
       "      <th></th>\n",
       "      <th>states</th>\n",
       "      <th>Cases</th>\n",
       "      <th>Deaths</th>\n",
       "      <th>PCases</th>\n",
       "      <th>PDeaths</th>\n",
       "    </tr>\n",
       "  </thead>\n",
       "  <tbody>\n",
       "    <tr>\n",
       "      <th>0</th>\n",
       "      <td>Maharashtra</td>\n",
       "      <td>2208586</td>\n",
       "      <td>52440</td>\n",
       "      <td>2208586</td>\n",
       "      <td>52440</td>\n",
       "    </tr>\n",
       "    <tr>\n",
       "      <th>1</th>\n",
       "      <td>Kerala</td>\n",
       "      <td>1075228</td>\n",
       "      <td>4288</td>\n",
       "      <td>1075228</td>\n",
       "      <td>4288</td>\n",
       "    </tr>\n",
       "    <tr>\n",
       "      <th>2</th>\n",
       "      <td>Karnataka</td>\n",
       "      <td>954393</td>\n",
       "      <td>12359</td>\n",
       "      <td>954393</td>\n",
       "      <td>12359</td>\n",
       "    </tr>\n",
       "    <tr>\n",
       "      <th>3</th>\n",
       "      <td>Andhra Pradesh</td>\n",
       "      <td>890556</td>\n",
       "      <td>7173</td>\n",
       "      <td>890556</td>\n",
       "      <td>7173</td>\n",
       "    </tr>\n",
       "    <tr>\n",
       "      <th>4</th>\n",
       "      <td>Tamil Nadu</td>\n",
       "      <td>854554</td>\n",
       "      <td>12517</td>\n",
       "      <td>854554</td>\n",
       "      <td>12517</td>\n",
       "    </tr>\n",
       "  </tbody>\n",
       "</table>\n",
       "</div>"
      ],
      "text/plain": [
       "           states    Cases  Deaths   PCases  PDeaths\n",
       "0     Maharashtra  2208586   52440  2208586    52440\n",
       "1          Kerala  1075228    4288  1075228     4288\n",
       "2       Karnataka   954393   12359   954393    12359\n",
       "3  Andhra Pradesh   890556    7173   890556     7173\n",
       "4      Tamil Nadu   854554   12517   854554    12517"
      ]
     },
     "execution_count": 11,
     "metadata": {},
     "output_type": "execute_result"
    }
   ],
   "source": [
    "#hide\n",
    "df_table = pd.DataFrame({'states': dfc_cases.index, 'Cases': dfc_cases.values, 'Deaths': dfc_deaths.values, 'PCases': dfp_cases.values, 'PDeaths': dfp_deaths.values}).set_index('states')\n",
    "df_table = df_table.sort_values(by = ['Cases','Deaths'], ascending = [False, False])\n",
    "df_table = df_table.reset_index()\n",
    "df_table.head()"
   ]
  },
  {
   "cell_type": "code",
   "execution_count": 12,
   "id": "found-montreal",
   "metadata": {
    "execution": {
     "iopub.execute_input": "2021-03-07T10:28:25.394809Z",
     "iopub.status.busy": "2021-03-07T10:28:25.394183Z",
     "iopub.status.idle": "2021-03-07T10:28:25.403788Z",
     "shell.execute_reply": "2021-03-07T10:28:25.403206Z"
    },
    "papermill": {
     "duration": 0.033861,
     "end_time": "2021-03-07T10:28:25.403923",
     "exception": false,
     "start_time": "2021-03-07T10:28:25.370062",
     "status": "completed"
    },
    "tags": []
   },
   "outputs": [],
   "source": [
    "#hide\n",
    "for c in 'Cases, Deaths'.split(', '):\n",
    "    df_table[f'{c} (+)'] = (df_table[c] - df_table[f'P{c}']).clip(0)\n",
    "df_table['Fatality Rate'] = (100* df_table['Deaths']/ df_table['Cases']).round(2)"
   ]
  },
  {
   "cell_type": "code",
   "execution_count": 13,
   "id": "minus-savage",
   "metadata": {
    "execution": {
     "iopub.execute_input": "2021-03-07T10:28:25.455307Z",
     "iopub.status.busy": "2021-03-07T10:28:25.454591Z",
     "iopub.status.idle": "2021-03-07T10:28:25.459357Z",
     "shell.execute_reply": "2021-03-07T10:28:25.458761Z"
    },
    "papermill": {
     "duration": 0.035562,
     "end_time": "2021-03-07T10:28:25.459491",
     "exception": false,
     "start_time": "2021-03-07T10:28:25.423929",
     "status": "completed"
    },
    "tags": []
   },
   "outputs": [
    {
     "data": {
      "text/html": [
       "<div>\n",
       "<style scoped>\n",
       "    .dataframe tbody tr th:only-of-type {\n",
       "        vertical-align: middle;\n",
       "    }\n",
       "\n",
       "    .dataframe tbody tr th {\n",
       "        vertical-align: top;\n",
       "    }\n",
       "\n",
       "    .dataframe thead th {\n",
       "        text-align: right;\n",
       "    }\n",
       "</style>\n",
       "<table border=\"1\" class=\"dataframe\">\n",
       "  <thead>\n",
       "    <tr style=\"text-align: right;\">\n",
       "      <th></th>\n",
       "      <th>states</th>\n",
       "      <th>Cases</th>\n",
       "      <th>Deaths</th>\n",
       "      <th>PCases</th>\n",
       "      <th>PDeaths</th>\n",
       "      <th>Cases (+)</th>\n",
       "      <th>Deaths (+)</th>\n",
       "      <th>Fatality Rate</th>\n",
       "    </tr>\n",
       "  </thead>\n",
       "  <tbody>\n",
       "    <tr>\n",
       "      <th>0</th>\n",
       "      <td>Maharashtra</td>\n",
       "      <td>2208586</td>\n",
       "      <td>52440</td>\n",
       "      <td>2208586</td>\n",
       "      <td>52440</td>\n",
       "      <td>0</td>\n",
       "      <td>0</td>\n",
       "      <td>2.37</td>\n",
       "    </tr>\n",
       "    <tr>\n",
       "      <th>1</th>\n",
       "      <td>Kerala</td>\n",
       "      <td>1075228</td>\n",
       "      <td>4288</td>\n",
       "      <td>1075228</td>\n",
       "      <td>4288</td>\n",
       "      <td>0</td>\n",
       "      <td>0</td>\n",
       "      <td>0.40</td>\n",
       "    </tr>\n",
       "    <tr>\n",
       "      <th>2</th>\n",
       "      <td>Karnataka</td>\n",
       "      <td>954393</td>\n",
       "      <td>12359</td>\n",
       "      <td>954393</td>\n",
       "      <td>12359</td>\n",
       "      <td>0</td>\n",
       "      <td>0</td>\n",
       "      <td>1.29</td>\n",
       "    </tr>\n",
       "    <tr>\n",
       "      <th>3</th>\n",
       "      <td>Andhra Pradesh</td>\n",
       "      <td>890556</td>\n",
       "      <td>7173</td>\n",
       "      <td>890556</td>\n",
       "      <td>7173</td>\n",
       "      <td>0</td>\n",
       "      <td>0</td>\n",
       "      <td>0.81</td>\n",
       "    </tr>\n",
       "    <tr>\n",
       "      <th>4</th>\n",
       "      <td>Tamil Nadu</td>\n",
       "      <td>854554</td>\n",
       "      <td>12517</td>\n",
       "      <td>854554</td>\n",
       "      <td>12517</td>\n",
       "      <td>0</td>\n",
       "      <td>0</td>\n",
       "      <td>1.46</td>\n",
       "    </tr>\n",
       "  </tbody>\n",
       "</table>\n",
       "</div>"
      ],
      "text/plain": [
       "           states    Cases  Deaths   PCases  PDeaths  Cases (+)  Deaths (+)  \\\n",
       "0     Maharashtra  2208586   52440  2208586    52440          0           0   \n",
       "1          Kerala  1075228    4288  1075228     4288          0           0   \n",
       "2       Karnataka   954393   12359   954393    12359          0           0   \n",
       "3  Andhra Pradesh   890556    7173   890556     7173          0           0   \n",
       "4      Tamil Nadu   854554   12517   854554    12517          0           0   \n",
       "\n",
       "   Fatality Rate  \n",
       "0           2.37  \n",
       "1           0.40  \n",
       "2           1.29  \n",
       "3           0.81  \n",
       "4           1.46  "
      ]
     },
     "execution_count": 13,
     "metadata": {},
     "output_type": "execute_result"
    }
   ],
   "source": [
    "#hide\n",
    "df_table.head()"
   ]
  },
  {
   "cell_type": "code",
   "execution_count": 14,
   "id": "false-peter",
   "metadata": {
    "execution": {
     "iopub.execute_input": "2021-03-07T10:28:25.519860Z",
     "iopub.status.busy": "2021-03-07T10:28:25.519174Z",
     "iopub.status.idle": "2021-03-07T10:28:25.523010Z",
     "shell.execute_reply": "2021-03-07T10:28:25.522448Z"
    },
    "papermill": {
     "duration": 0.044039,
     "end_time": "2021-03-07T10:28:25.523179",
     "exception": false,
     "start_time": "2021-03-07T10:28:25.479140",
     "status": "completed"
    },
    "tags": []
   },
   "outputs": [
    {
     "data": {
      "text/plain": [
       "{'updated': '2021-03-07',\n",
       " 'since': '2021-03-06',\n",
       " 'Cases': 11211134,\n",
       " 'PCases': 11210620,\n",
       " 'Deaths': 157796,\n",
       " 'PDeaths': 157793,\n",
       " 'Cases (+)': 514,\n",
       " 'Deaths (+)': 3}"
      ]
     },
     "execution_count": 14,
     "metadata": {},
     "output_type": "execute_result"
    }
   ],
   "source": [
    "#hide\n",
    "summary = {'updated':dates[-1], 'since':dates[-2]}\n",
    "list_names = ['Cases', 'PCases', 'Deaths', 'PDeaths', 'Cases (+)', 'Deaths (+)']\n",
    "for name in list_names:\n",
    "    summary[name] = df_table.sum()[name]\n",
    "summary"
   ]
  },
  {
   "cell_type": "code",
   "execution_count": 15,
   "id": "packed-viewer",
   "metadata": {
    "execution": {
     "iopub.execute_input": "2021-03-07T10:28:25.571161Z",
     "iopub.status.busy": "2021-03-07T10:28:25.570483Z",
     "iopub.status.idle": "2021-03-07T10:28:25.572838Z",
     "shell.execute_reply": "2021-03-07T10:28:25.572322Z"
    },
    "papermill": {
     "duration": 0.027525,
     "end_time": "2021-03-07T10:28:25.572963",
     "exception": false,
     "start_time": "2021-03-07T10:28:25.545438",
     "status": "completed"
    },
    "tags": []
   },
   "outputs": [],
   "source": [
    "#hide\n",
    "overview = '''\n",
    "<!-- #######  HTML!! #########-->\n",
    "<h1 style=\"color: #5e9ca0; text-align: center;\">India</h1>\n",
    "<p style=\"text-align: center;\">Last update: <strong>{update}</strong></p>\n",
    "<p style=\"text-align: center;\">Confirmed cases:</p>\n",
    "<p style=\"text-align: center;font-size:24px;\">{cases} (<span style=\"color: #ff0000;\">+{new}</span>)</p>\n",
    "<p style=\"text-align: center;\">Confirmed deaths:</p>\n",
    "<p style=\"text-align: center;font-size:24px;\">{deaths} (<span style=\"color: #ff0000;\">+{dnew}</span>)</p>\n",
    "'''"
   ]
  },
  {
   "cell_type": "code",
   "execution_count": 16,
   "id": "phantom-lover",
   "metadata": {
    "execution": {
     "iopub.execute_input": "2021-03-07T10:28:25.619533Z",
     "iopub.status.busy": "2021-03-07T10:28:25.618849Z",
     "iopub.status.idle": "2021-03-07T10:28:25.621738Z",
     "shell.execute_reply": "2021-03-07T10:28:25.622323Z"
    },
    "papermill": {
     "duration": 0.029737,
     "end_time": "2021-03-07T10:28:25.622471",
     "exception": false,
     "start_time": "2021-03-07T10:28:25.592734",
     "status": "completed"
    },
    "tags": []
   },
   "outputs": [
    {
     "data": {
      "text/html": [
       "\n",
       "<!-- #######  HTML!! #########-->\n",
       "<h1 style=\"color: #5e9ca0; text-align: center;\">India</h1>\n",
       "<p style=\"text-align: center;\">Last update: <strong>2021-03-07</strong></p>\n",
       "<p style=\"text-align: center;\">Confirmed cases:</p>\n",
       "<p style=\"text-align: center;font-size:24px;\">11211134 (<span style=\"color: #ff0000;\">+514</span>)</p>\n",
       "<p style=\"text-align: center;\">Confirmed deaths:</p>\n",
       "<p style=\"text-align: center;font-size:24px;\">157796 (<span style=\"color: #ff0000;\">+3</span>)</p>\n"
      ],
      "text/plain": [
       "<IPython.core.display.HTML object>"
      ]
     },
     "metadata": {},
     "output_type": "display_data"
    }
   ],
   "source": [
    "#hide_input\n",
    "update = summary['updated']\n",
    "cases = summary['Cases']\n",
    "new = summary['Cases (+)']\n",
    "deaths = summary['Deaths']\n",
    "dnew = summary['Deaths (+)']\n",
    "\n",
    "html = HTML(overview.format(update=update, cases=cases,new=new,deaths=deaths,dnew=dnew))\n",
    "\n",
    "display(html)"
   ]
  },
  {
   "cell_type": "code",
   "execution_count": 17,
   "id": "sealed-reset",
   "metadata": {
    "execution": {
     "iopub.execute_input": "2021-03-07T10:28:25.670298Z",
     "iopub.status.busy": "2021-03-07T10:28:25.669647Z",
     "iopub.status.idle": "2021-03-07T10:28:25.678013Z",
     "shell.execute_reply": "2021-03-07T10:28:25.677434Z"
    },
    "papermill": {
     "duration": 0.036696,
     "end_time": "2021-03-07T10:28:25.679650",
     "exception": false,
     "start_time": "2021-03-07T10:28:25.642954",
     "status": "completed"
    },
    "tags": []
   },
   "outputs": [],
   "source": [
    "#hide\n",
    "dt_cols = list(dft_cases.columns[1:])\n",
    "dft_ct_new_cases = dft_cases.groupby('state')[dt_cols].sum().diff(axis=1).fillna(0).astype(int)\n",
    "dft_ct_new_cases.sort_values(by = dates[-1], ascending = False,inplace = True)"
   ]
  },
  {
   "cell_type": "code",
   "execution_count": 18,
   "id": "designed-constant",
   "metadata": {
    "execution": {
     "iopub.execute_input": "2021-03-07T10:28:25.741373Z",
     "iopub.status.busy": "2021-03-07T10:28:25.740676Z",
     "iopub.status.idle": "2021-03-07T10:28:25.743217Z",
     "shell.execute_reply": "2021-03-07T10:28:25.743717Z"
    },
    "papermill": {
     "duration": 0.042595,
     "end_time": "2021-03-07T10:28:25.743871",
     "exception": false,
     "start_time": "2021-03-07T10:28:25.701276",
     "status": "completed"
    },
    "tags": []
   },
   "outputs": [
    {
     "data": {
      "text/html": [
       "<div>\n",
       "<style scoped>\n",
       "    .dataframe tbody tr th:only-of-type {\n",
       "        vertical-align: middle;\n",
       "    }\n",
       "\n",
       "    .dataframe tbody tr th {\n",
       "        vertical-align: top;\n",
       "    }\n",
       "\n",
       "    .dataframe thead th {\n",
       "        text-align: right;\n",
       "    }\n",
       "</style>\n",
       "<table border=\"1\" class=\"dataframe\">\n",
       "  <thead>\n",
       "    <tr style=\"text-align: right;\">\n",
       "      <th>states</th>\n",
       "      <th>2020-07-01</th>\n",
       "      <th>2020-07-02</th>\n",
       "      <th>2020-07-03</th>\n",
       "      <th>2020-07-04</th>\n",
       "      <th>2020-07-05</th>\n",
       "      <th>2020-07-06</th>\n",
       "      <th>2020-07-07</th>\n",
       "      <th>2020-07-08</th>\n",
       "      <th>2020-07-09</th>\n",
       "      <th>2020-07-10</th>\n",
       "      <th>...</th>\n",
       "      <th>2021-02-26</th>\n",
       "      <th>2021-02-27</th>\n",
       "      <th>2021-02-28</th>\n",
       "      <th>2021-03-01</th>\n",
       "      <th>2021-03-02</th>\n",
       "      <th>2021-03-03</th>\n",
       "      <th>2021-03-04</th>\n",
       "      <th>2021-03-05</th>\n",
       "      <th>2021-03-06</th>\n",
       "      <th>2021-03-07</th>\n",
       "    </tr>\n",
       "    <tr>\n",
       "      <th>state</th>\n",
       "      <th></th>\n",
       "      <th></th>\n",
       "      <th></th>\n",
       "      <th></th>\n",
       "      <th></th>\n",
       "      <th></th>\n",
       "      <th></th>\n",
       "      <th></th>\n",
       "      <th></th>\n",
       "      <th></th>\n",
       "      <th></th>\n",
       "      <th></th>\n",
       "      <th></th>\n",
       "      <th></th>\n",
       "      <th></th>\n",
       "      <th></th>\n",
       "      <th></th>\n",
       "      <th></th>\n",
       "      <th></th>\n",
       "      <th></th>\n",
       "      <th></th>\n",
       "    </tr>\n",
       "  </thead>\n",
       "  <tbody>\n",
       "    <tr>\n",
       "      <th>Delhi</th>\n",
       "      <td>0</td>\n",
       "      <td>2373</td>\n",
       "      <td>2520</td>\n",
       "      <td>2505</td>\n",
       "      <td>2244</td>\n",
       "      <td>1379</td>\n",
       "      <td>2008</td>\n",
       "      <td>2033</td>\n",
       "      <td>2187</td>\n",
       "      <td>2089</td>\n",
       "      <td>...</td>\n",
       "      <td>256</td>\n",
       "      <td>243</td>\n",
       "      <td>197</td>\n",
       "      <td>175</td>\n",
       "      <td>217</td>\n",
       "      <td>240</td>\n",
       "      <td>261</td>\n",
       "      <td>312</td>\n",
       "      <td>321</td>\n",
       "      <td>286</td>\n",
       "    </tr>\n",
       "    <tr>\n",
       "      <th>Telangana</th>\n",
       "      <td>0</td>\n",
       "      <td>1213</td>\n",
       "      <td>1892</td>\n",
       "      <td>1850</td>\n",
       "      <td>1590</td>\n",
       "      <td>1831</td>\n",
       "      <td>1879</td>\n",
       "      <td>1924</td>\n",
       "      <td>1410</td>\n",
       "      <td>1278</td>\n",
       "      <td>...</td>\n",
       "      <td>189</td>\n",
       "      <td>178</td>\n",
       "      <td>176</td>\n",
       "      <td>116</td>\n",
       "      <td>163</td>\n",
       "      <td>168</td>\n",
       "      <td>152</td>\n",
       "      <td>166</td>\n",
       "      <td>170</td>\n",
       "      <td>158</td>\n",
       "    </tr>\n",
       "    <tr>\n",
       "      <th>Odisha</th>\n",
       "      <td>0</td>\n",
       "      <td>229</td>\n",
       "      <td>561</td>\n",
       "      <td>495</td>\n",
       "      <td>469</td>\n",
       "      <td>456</td>\n",
       "      <td>571</td>\n",
       "      <td>527</td>\n",
       "      <td>577</td>\n",
       "      <td>755</td>\n",
       "      <td>...</td>\n",
       "      <td>94</td>\n",
       "      <td>86</td>\n",
       "      <td>87</td>\n",
       "      <td>86</td>\n",
       "      <td>74</td>\n",
       "      <td>97</td>\n",
       "      <td>81</td>\n",
       "      <td>91</td>\n",
       "      <td>54</td>\n",
       "      <td>70</td>\n",
       "    </tr>\n",
       "    <tr>\n",
       "      <th>Andaman and Nicobar Islands</th>\n",
       "      <td>0</td>\n",
       "      <td>9</td>\n",
       "      <td>7</td>\n",
       "      <td>3</td>\n",
       "      <td>6</td>\n",
       "      <td>16</td>\n",
       "      <td>6</td>\n",
       "      <td>2</td>\n",
       "      <td>7</td>\n",
       "      <td>0</td>\n",
       "      <td>...</td>\n",
       "      <td>1</td>\n",
       "      <td>1</td>\n",
       "      <td>2</td>\n",
       "      <td>0</td>\n",
       "      <td>0</td>\n",
       "      <td>2</td>\n",
       "      <td>2</td>\n",
       "      <td>0</td>\n",
       "      <td>0</td>\n",
       "      <td>0</td>\n",
       "    </tr>\n",
       "    <tr>\n",
       "      <th>Punjab</th>\n",
       "      <td>0</td>\n",
       "      <td>116</td>\n",
       "      <td>153</td>\n",
       "      <td>172</td>\n",
       "      <td>174</td>\n",
       "      <td>208</td>\n",
       "      <td>258</td>\n",
       "      <td>158</td>\n",
       "      <td>233</td>\n",
       "      <td>217</td>\n",
       "      <td>...</td>\n",
       "      <td>622</td>\n",
       "      <td>593</td>\n",
       "      <td>579</td>\n",
       "      <td>633</td>\n",
       "      <td>729</td>\n",
       "      <td>772</td>\n",
       "      <td>1071</td>\n",
       "      <td>808</td>\n",
       "      <td>1159</td>\n",
       "      <td>0</td>\n",
       "    </tr>\n",
       "  </tbody>\n",
       "</table>\n",
       "<p>5 rows × 250 columns</p>\n",
       "</div>"
      ],
      "text/plain": [
       "states                       2020-07-01  2020-07-02  2020-07-03  2020-07-04  \\\n",
       "state                                                                         \n",
       "Delhi                                 0        2373        2520        2505   \n",
       "Telangana                             0        1213        1892        1850   \n",
       "Odisha                                0         229         561         495   \n",
       "Andaman and Nicobar Islands           0           9           7           3   \n",
       "Punjab                                0         116         153         172   \n",
       "\n",
       "states                       2020-07-05  2020-07-06  2020-07-07  2020-07-08  \\\n",
       "state                                                                         \n",
       "Delhi                              2244        1379        2008        2033   \n",
       "Telangana                          1590        1831        1879        1924   \n",
       "Odisha                              469         456         571         527   \n",
       "Andaman and Nicobar Islands           6          16           6           2   \n",
       "Punjab                              174         208         258         158   \n",
       "\n",
       "states                       2020-07-09  2020-07-10  ...  2021-02-26  \\\n",
       "state                                                ...               \n",
       "Delhi                              2187        2089  ...         256   \n",
       "Telangana                          1410        1278  ...         189   \n",
       "Odisha                              577         755  ...          94   \n",
       "Andaman and Nicobar Islands           7           0  ...           1   \n",
       "Punjab                              233         217  ...         622   \n",
       "\n",
       "states                       2021-02-27  2021-02-28  2021-03-01  2021-03-02  \\\n",
       "state                                                                         \n",
       "Delhi                               243         197         175         217   \n",
       "Telangana                           178         176         116         163   \n",
       "Odisha                               86          87          86          74   \n",
       "Andaman and Nicobar Islands           1           2           0           0   \n",
       "Punjab                              593         579         633         729   \n",
       "\n",
       "states                       2021-03-03  2021-03-04  2021-03-05  2021-03-06  \\\n",
       "state                                                                         \n",
       "Delhi                               240         261         312         321   \n",
       "Telangana                           168         152         166         170   \n",
       "Odisha                               97          81          91          54   \n",
       "Andaman and Nicobar Islands           2           2           0           0   \n",
       "Punjab                              772        1071         808        1159   \n",
       "\n",
       "states                       2021-03-07  \n",
       "state                                    \n",
       "Delhi                               286  \n",
       "Telangana                           158  \n",
       "Odisha                               70  \n",
       "Andaman and Nicobar Islands           0  \n",
       "Punjab                                0  \n",
       "\n",
       "[5 rows x 250 columns]"
      ]
     },
     "execution_count": 18,
     "metadata": {},
     "output_type": "execute_result"
    }
   ],
   "source": [
    "#hide\n",
    "dft_ct_new_cases.head()"
   ]
  },
  {
   "cell_type": "code",
   "execution_count": 19,
   "id": "responsible-nightlife",
   "metadata": {
    "execution": {
     "iopub.execute_input": "2021-03-07T10:28:25.814999Z",
     "iopub.status.busy": "2021-03-07T10:28:25.803793Z",
     "iopub.status.idle": "2021-03-07T10:28:35.873655Z",
     "shell.execute_reply": "2021-03-07T10:28:35.874193Z"
    },
    "papermill": {
     "duration": 10.110022,
     "end_time": "2021-03-07T10:28:35.874355",
     "exception": false,
     "start_time": "2021-03-07T10:28:25.764333",
     "status": "completed"
    },
    "tags": []
   },
   "outputs": [
    {
     "data": {
      "image/png": "[encoded data removed]",
      "text/plain": [
       "<Figure size 1296x2016 with 11 Axes>"
      ]
     },
     "metadata": {
      "needs_background": "light"
     },
     "output_type": "display_data"
    }
   ],
   "source": [
    "#hide_input\n",
    "df = dft_ct_new_cases.copy()\n",
    "df.loc['Total'] = df.sum()\n",
    "n = 5\n",
    "ax = []\n",
    "fig = plt.figure(figsize = (18,28))\n",
    "gs = fig.add_gridspec(n+2, 5)\n",
    "# gs = fig.add_gridspec(2, 3)\n",
    "ax1 = fig.add_subplot(gs[0, :])\n",
    "ef = df.loc['Total'].rename_axis('date').reset_index()\n",
    "ef['date'] = ef['date'].astype('datetime64[ns]')\n",
    "ax1.bar(ef.date,ef.Total,alpha=0.3,color='#007acc')\n",
    "ax1.plot(ef.date,ef.Total , marker=\"o\", color='#007acc')\n",
    "ax1.xaxis.set_major_locator(mdates.WeekdayLocator())\n",
    "ax1.xaxis.set_major_formatter(mdates.DateFormatter('%b %d'))\n",
    "ax1.text(0.02, 0.5,'India daily case count', transform = ax1.transAxes, fontsize=25);\n",
    "ax1.spines['right'].set_visible(False)\n",
    "ax1.spines['top'].set_visible(False)\n",
    "\n",
    "ax2 = fig.add_subplot(gs[1,0])\n",
    "ef = df.loc['Maharashtra'].rename_axis('date').reset_index()\n",
    "ef['date'] = ef['date'].astype('datetime64[ns]')\n",
    "\n",
    "ax2.bar(ef.date, ef.Maharashtra,color = '#007acc',alpha=0.5)\n",
    "ax2.xaxis.set_major_locator(mdates.WeekdayLocator())\n",
    "ax2.xaxis.set_major_formatter(mdates.DateFormatter('%b %d'))\n",
    "ax2.set_xticks(ax2.get_xticks()[::3])\n",
    "maxyval = ef.Maharashtra.max()\n",
    "ax2.set_ylim([0,maxyval])\n",
    "ax2.text(0.05, 0.9,'Maharashtra', transform = ax2.transAxes, fontsize=20);\n",
    "ax2.spines['right'].set_visible(False)\n",
    "ax2.spines['top'].set_visible(False)\n",
    "\n",
    "\n",
    "ax3 = fig.add_subplot(gs[1,1])\n",
    "ef = df.loc['Tamil Nadu'].rename_axis('date').reset_index()\n",
    "ef['date'] = ef['date'].astype('datetime64[ns]')\n",
    "ax3.bar(ef.date, ef['Tamil Nadu'],color = '#007acc',alpha=0.5,)\n",
    "ax3.xaxis.set_major_locator(mdates.WeekdayLocator())\n",
    "ax3.xaxis.set_major_formatter(mdates.DateFormatter('%b %d'))\n",
    "ax3.set_xticks(ax3.get_xticks()[::3])\n",
    "ax3.text(0.05, 0.9,'Tamil Nadu', transform = ax3.transAxes, fontsize=20);\n",
    "ax3.spines['right'].set_visible(False)\n",
    "ax3.spines['top'].set_visible(False)\n",
    "\n",
    "ax5 = fig.add_subplot(gs[1,3])\n",
    "ef = df.loc['Telangana'].rename_axis('date').reset_index()\n",
    "ef['date'] = ef['date'].astype('datetime64[ns]')\n",
    "ax5.bar(ef.date, ef['Telangana'],color = '#007acc',alpha=0.5,)\n",
    "ax5.xaxis.set_major_locator(mdates.WeekdayLocator())\n",
    "ax5.xaxis.set_major_formatter(mdates.DateFormatter('%b %d'))\n",
    "ax5.set_xticks(ax5.get_xticks()[::3])\n",
    "ax5.text(0.05, 0.9,'Telangana', transform = ax5.transAxes, fontsize=20);\n",
    "ax5.spines['right'].set_visible(False)\n",
    "ax5.spines['top'].set_visible(False)\n",
    "\n",
    "ax6 = fig.add_subplot(gs[1,4])\n",
    "ef = df.loc['Andhra Pradesh'].rename_axis('date').reset_index()\n",
    "ef['date'] = ef['date'].astype('datetime64[ns]')\n",
    "ax6.bar(ef.date, ef['Andhra Pradesh'],color = '#007acc',alpha=0.5,)\n",
    "ax6.xaxis.set_major_locator(mdates.WeekdayLocator())\n",
    "ax6.xaxis.set_major_formatter(mdates.DateFormatter('%b %d'))\n",
    "ax6.set_xticks(ax6.get_xticks()[::3])\n",
    "ax6.text(0.05, 1,'Andhra Pradesh', transform = ax6.transAxes, fontsize=20);\n",
    "ax6.spines['right'].set_visible(False)\n",
    "ax6.spines['top'].set_visible(False)\n",
    "\n",
    "ax4 = fig.add_subplot(gs[1,2])\n",
    "ef = df.loc['Delhi'].rename_axis('date').reset_index()\n",
    "ef['date'] = ef['date'].astype('datetime64[ns]')\n",
    "ax4.bar(ef.date, ef.Delhi,color = '#007acc',alpha=0.5)\n",
    "ax4.set_xticks([])\n",
    "ax4.xaxis.set_major_locator(mdates.WeekdayLocator())\n",
    "ax4.xaxis.set_major_formatter(mdates.DateFormatter('%b %d'))\n",
    "ax4.set_xticks(ax4.get_xticks()[::3])\n",
    "ax4.spines['right'].set_visible(False)\n",
    "ax4.spines['top'].set_visible(False)\n",
    "\n",
    "ax4.text(0.05, 1,'Delhi', transform = ax4.transAxes, fontsize=20)\n",
    "\n",
    "for i in range(n):\n",
    "    \n",
    "    ax.append(fig.add_subplot(gs[i+2,:]))\n",
    "    ef = df.iloc[i+3].rename_axis('date').reset_index()\n",
    "    ef['date'] = ef['date'].astype('datetime64[ns]')\n",
    "    ax[i].bar(ef.date,ef.iloc[:,-1],color = '#007acc',alpha=0.3)\n",
    "    ax[i].plot(ef.date,ef.iloc[:,-1],marker='o',color='#007acc')\n",
    "    ax[i].text(0.02,0.5,f'{ef.columns.values[-1]}',transform = ax[i].transAxes, fontsize = 20);\n",
    "    ax[i].xaxis.set_major_locator(mdates.WeekdayLocator())\n",
    "    ax[i].xaxis.set_major_formatter(mdates.DateFormatter('%b %d'))\n",
    "    ax[i].set_ylim([0,7000])\n",
    "    ax[i].spines['right'].set_visible(False)\n",
    "    ax[i].spines['top'].set_visible(False)\n",
    "plt.tight_layout()\n"
   ]
  },
  {
   "cell_type": "code",
   "execution_count": 20,
   "id": "dress-forge",
   "metadata": {
    "execution": {
     "iopub.execute_input": "2021-03-07T10:28:35.936935Z",
     "iopub.status.busy": "2021-03-07T10:28:35.936252Z",
     "iopub.status.idle": "2021-03-07T10:28:35.938755Z",
     "shell.execute_reply": "2021-03-07T10:28:35.939359Z"
    },
    "papermill": {
     "duration": 0.038864,
     "end_time": "2021-03-07T10:28:35.939522",
     "exception": false,
     "start_time": "2021-03-07T10:28:35.900658",
     "status": "completed"
    },
    "tags": []
   },
   "outputs": [
    {
     "name": "stdout",
     "output_type": "stream",
     "text": [
      "                                   states    Cases  Deaths   PCases  PDeaths  Cases (+)  Deaths (+)  Fatality Rate\n",
      "                              Maharashtra  2208586   52440  2208586    52440          0           0           2.37\n",
      "                                   Kerala  1075228    4288  1075228     4288          0           0           0.40\n",
      "                                Karnataka   954393   12359   954393    12359          0           0           1.29\n",
      "                           Andhra Pradesh   890556    7173   890556     7173          0           0           0.81\n",
      "                               Tamil Nadu   854554   12517   854554    12517          0           0           1.46\n",
      "                                    Delhi   641101   10921   640815    10919        286           2           1.70\n",
      "                            Uttar Pradesh   604164    8729   604164     8729          0           0           1.44\n",
      "                              West Bengal   576435   10277   576435    10277          0           0           1.78\n",
      "                                   Odisha   337744    1970   337674     1970         70           0           0.58\n",
      "                                Rajasthan   321356    2789   321356     2789          0           0           0.87\n",
      "                             Chhattisgarh   314098    3855   314098     3855          0           0           1.23\n",
      "                                Telangana   299900    1641   299742     1640        158           1           0.55\n",
      "                                  Gujarat   272811    4414   272811     4414          0           0           1.62\n",
      "                                  Haryana   272215    3056   272215     3056          0           0           1.12\n",
      "                           Madhya Pradesh   264214    3868   264214     3868          0           0           1.46\n",
      "                                    Bihar   262728    1545   262728     1545          0           0           0.59\n",
      "                                    Assam   217649    1094   217649     1094          0           0           0.50\n",
      "                                   Punjab   187348    5910   187348     5910          0           0           3.15\n",
      "                        Jammu and Kashmir   126932    1961   126932     1961          0           0           1.54\n",
      "                                Jharkhand   120217    1091   120217     1091          0           0           0.91\n",
      "                              Uttarakhand    97363    1694    97363     1694          0           0           1.74\n",
      "                         Himachal Pradesh    59059     984    59059      984          0           0           1.67\n",
      "                                      Goa    55361     799    55361      799          0           0           1.44\n",
      "                               Puducherry    39843     670    39843      670          0           0           1.68\n",
      "                                  Tripura    33421     388    33421      388          0           0           1.16\n",
      "                                  Manipur    29287     373    29287      373          0           0           1.27\n",
      "                               Chandigarh    22238     355    22238      355          0           0           1.60\n",
      "                        Arunachal Pradesh    16839      56    16839       56          0           0           0.33\n",
      "                                Meghalaya    13968     148    13968      148          0           0           1.06\n",
      "                                 Nagaland    12211      91    12211       91          0           0           0.75\n",
      "                                   Ladakh     9830     130     9830      130          0           0           1.32\n",
      "                                   Sikkim     6167     135     6167      135          0           0           2.19\n",
      "              Andaman and Nicobar Islands     5024      62     5024       62          0           0           1.23\n",
      "                                  Mizoram     4428      10     4428       10          0           0           0.23\n",
      " Dadra and Nagar Haveli and Daman and Diu     3392       2     3392        2          0           0           0.06\n",
      "                              Lakshadweep      474       1      474        1          0           0           0.21\n"
     ]
    }
   ],
   "source": [
    "#hide_input\n",
    "print(df_table.to_string(index=False))"
   ]
  },
  {
   "cell_type": "code",
   "execution_count": null,
   "id": "quantitative-legend",
   "metadata": {
    "papermill": {
     "duration": 0.02632,
     "end_time": "2021-03-07T10:28:35.992579",
     "exception": false,
     "start_time": "2021-03-07T10:28:35.966259",
     "status": "completed"
    },
    "tags": []
   },
   "outputs": [],
   "source": []
  },
  {
   "cell_type": "code",
   "execution_count": null,
   "id": "distant-acoustic",
   "metadata": {
    "papermill": {
     "duration": 0.026382,
     "end_time": "2021-03-07T10:28:36.044743",
     "exception": false,
     "start_time": "2021-03-07T10:28:36.018361",
     "status": "completed"
    },
    "tags": []
   },
   "outputs": [],
   "source": []
  }
 ],
 "metadata": {
  "kernelspec": {
   "display_name": "Python 3",
   "language": "python",
   "name": "python3"
  },
  "language_info": {
   "codemirror_mode": {
    "name": "ipython",
    "version": 3
   },
   "file_extension": ".py",
   "mimetype": "text/x-python",
   "name": "python",
   "nbconvert_exporter": "python",
   "pygments_lexer": "ipython3",
   "version": "3.6.13"
  },
  "papermill": {
   "duration": 22.910048,
   "end_time": "2021-03-07T10:28:36.781705",
   "environment_variables": {},
   "exception": null,
   "input_path": "latest.ipynb",
   "output_path": "latest.ipynb",
   "parameters": {},
   "start_time": "2021-03-07T10:28:13.871657",
   "version": "2.1.2"
  }
 },
 "nbformat": 4,
 "nbformat_minor": 5
}