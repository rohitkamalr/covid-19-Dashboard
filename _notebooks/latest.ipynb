{
 "cells": [
  {
   "cell_type": "markdown",
   "metadata": {
    "papermill": {
     "duration": 0.021352,
     "end_time": "2020-11-18T14:22:50.942593",
     "exception": false,
     "start_time": "2020-11-18T14:22:50.921241",
     "status": "completed"
    },
    "tags": []
   },
   "source": [
    "# Latest COVID-19 India Matplotlib Overview"
   ]
  },
  {
   "cell_type": "code",
   "execution_count": 1,
   "metadata": {
    "execution": {
     "iopub.execute_input": "2020-11-18T14:22:50.984117Z",
     "iopub.status.busy": "2020-11-18T14:22:50.983493Z",
     "iopub.status.idle": "2020-11-18T14:22:51.628909Z",
     "shell.execute_reply": "2020-11-18T14:22:51.628209Z"
    },
    "papermill": {
     "duration": 0.668701,
     "end_time": "2020-11-18T14:22:51.629086",
     "exception": false,
     "start_time": "2020-11-18T14:22:50.960385",
     "status": "completed"
    },
    "tags": []
   },
   "outputs": [],
   "source": [
    "#hide\n",
    "import pandas as pd\n",
    "import numpy as np\n",
    "import requests\n",
    "import json\n",
    "import matplotlib.pyplot as plt\n",
    "import matplotlib.dates as mdates\n",
    "import matplotlib as mpl\n",
    "from IPython.core.display import display,HTML\n",
    "%matplotlib inline\n",
    "from datetime import date"
   ]
  },
  {
   "cell_type": "code",
   "execution_count": 2,
   "metadata": {
    "execution": {
     "iopub.execute_input": "2020-11-18T14:22:51.671406Z",
     "iopub.status.busy": "2020-11-18T14:22:51.670789Z",
     "iopub.status.idle": "2020-11-18T14:22:52.062140Z",
     "shell.execute_reply": "2020-11-18T14:22:52.061563Z"
    },
    "papermill": {
     "duration": 0.415804,
     "end_time": "2020-11-18T14:22:52.062381",
     "exception": false,
     "start_time": "2020-11-18T14:22:51.646577",
     "status": "completed"
    },
    "tags": []
   },
   "outputs": [],
   "source": [
    "#hide\n",
    "df  = pd.read_csv('https://api.covid19india.org/csv/latest/states.csv')\n",
    "df = df[['Date','State','Confirmed','Deceased']]\n",
    "df = df.rename(columns={'Confirmed':'Cases', \"Deceased\":'Deaths'})\n",
    "df_cases = df[[\"Date\",'State','Cases']]\n",
    "df_deaths = df[['Date','State','Deaths']]\n",
    "df_cases1 = df_cases.groupby('Date')\n",
    "df_deaths1= df_deaths.groupby('Date')"
   ]
  },
  {
   "cell_type": "code",
   "execution_count": 3,
   "metadata": {
    "execution": {
     "iopub.execute_input": "2020-11-18T14:22:52.102626Z",
     "iopub.status.busy": "2020-11-18T14:22:52.101678Z",
     "iopub.status.idle": "2020-11-18T14:22:52.121142Z",
     "shell.execute_reply": "2020-11-18T14:22:52.120576Z"
    },
    "papermill": {
     "duration": 0.041213,
     "end_time": "2020-11-18T14:22:52.121279",
     "exception": false,
     "start_time": "2020-11-18T14:22:52.080066",
     "status": "completed"
    },
    "tags": []
   },
   "outputs": [],
   "source": [
    "#hide\n",
    "df_snap = pd.read_csv('data/SnapshotCases-28-July.csv')\n",
    "arr_states = df_snap['states'].unique()\n",
    "arr_dates = df['Date'].unique()\n",
    "df_snap = df_snap.set_index('states')"
   ]
  },
  {
   "cell_type": "code",
   "execution_count": 4,
   "metadata": {
    "execution": {
     "iopub.execute_input": "2020-11-18T14:22:52.165551Z",
     "iopub.status.busy": "2020-11-18T14:22:52.164725Z",
     "iopub.status.idle": "2020-11-18T14:22:52.167211Z",
     "shell.execute_reply": "2020-11-18T14:22:52.167796Z"
    },
    "papermill": {
     "duration": 0.029563,
     "end_time": "2020-11-18T14:22:52.167942",
     "exception": false,
     "start_time": "2020-11-18T14:22:52.138379",
     "status": "completed"
    },
    "tags": []
   },
   "outputs": [
    {
     "data": {
      "text/plain": [
       "array(['Andaman and Nicobar Islands', 'Andhra Pradesh',\n",
       "       'Arunachal Pradesh', 'Assam', 'Bihar', 'Chandigarh',\n",
       "       'Dadra and Nagar Haveli and Daman and Diu', 'Delhi', 'Goa',\n",
       "       'Gujarat', 'Haryana', 'Himachal Pradesh', 'Jammu and Kashmir',\n",
       "       'Jharkhand', 'Karnataka', 'Kerala', 'Lakshadweep',\n",
       "       'Madhya Pradesh', 'Maharashtra', 'Manipur', 'Meghalaya', 'Mizoram',\n",
       "       'Nagaland', 'Odisha', 'Puducherry', 'Punjab', 'Rajasthan',\n",
       "       'Sikkim', 'Tamil Nadu', 'Telangana', 'Tripura', 'Uttar Pradesh',\n",
       "       'West Bengal', 'Chhattisgarh', 'Ladakh', 'Uttarakhand'],\n",
       "      dtype=object)"
      ]
     },
     "execution_count": 4,
     "metadata": {},
     "output_type": "execute_result"
    }
   ],
   "source": [
    "#hide\n",
    "arr_states[-9] = 'Puducherry'\n",
    "arr_states[-10] = 'Odisha'\n",
    "arr_states[6] = 'Dadra and Nagar Haveli and Daman and Diu'\n",
    "arr_states = np.append(arr_states,np.array(['Chhattisgarh','Ladakh','Uttarakhand']))\n",
    "arr_states"
   ]
  },
  {
   "cell_type": "code",
   "execution_count": 5,
   "metadata": {
    "execution": {
     "iopub.execute_input": "2020-11-18T14:22:52.219642Z",
     "iopub.status.busy": "2020-11-18T14:22:52.218797Z",
     "iopub.status.idle": "2020-11-18T14:22:52.228129Z",
     "shell.execute_reply": "2020-11-18T14:22:52.227405Z"
    },
    "papermill": {
     "duration": 0.040713,
     "end_time": "2020-11-18T14:22:52.228261",
     "exception": false,
     "start_time": "2020-11-18T14:22:52.187548",
     "status": "completed"
    },
    "tags": []
   },
   "outputs": [],
   "source": [
    "#hide\n",
    "dates = []\n",
    "for i in arr_dates:\n",
    "    if i>='2020-07-01':\n",
    "        dates.append(i)\n",
    "dict = {'states':dates}\n",
    "for i in arr_states:\n",
    "    dict[i] = [0]*len(dates)\n",
    "dft_cases = pd.DataFrame(dict)\n",
    "dft_deaths = pd.DataFrame(dict)\n"
   ]
  },
  {
   "cell_type": "code",
   "execution_count": 6,
   "metadata": {
    "execution": {
     "iopub.execute_input": "2020-11-18T14:22:52.274450Z",
     "iopub.status.busy": "2020-11-18T14:22:52.273726Z",
     "iopub.status.idle": "2020-11-18T14:22:54.887683Z",
     "shell.execute_reply": "2020-11-18T14:22:54.887114Z"
    },
    "papermill": {
     "duration": 2.641604,
     "end_time": "2020-11-18T14:22:54.887837",
     "exception": false,
     "start_time": "2020-11-18T14:22:52.246233",
     "status": "completed"
    },
    "tags": []
   },
   "outputs": [],
   "source": [
    "#hide\n",
    "for i in range(len(dates)):\n",
    "    df1_deaths = df_deaths1.get_group(dates[i])\n",
    "    for j in range(len(df1_deaths.index)):\n",
    "        if df1_deaths.iloc[j,1] in arr_states:\n",
    "            dft_deaths.loc[i,df1_deaths.iloc[j,1]] = df1_deaths.iloc[j,2]\n",
    "dft_deaths = dft_deaths.set_index('states')"
   ]
  },
  {
   "cell_type": "code",
   "execution_count": 7,
   "metadata": {
    "execution": {
     "iopub.execute_input": "2020-11-18T14:22:54.930287Z",
     "iopub.status.busy": "2020-11-18T14:22:54.929635Z",
     "iopub.status.idle": "2020-11-18T14:22:57.532631Z",
     "shell.execute_reply": "2020-11-18T14:22:57.532019Z"
    },
    "papermill": {
     "duration": 2.626514,
     "end_time": "2020-11-18T14:22:57.532783",
     "exception": false,
     "start_time": "2020-11-18T14:22:54.906269",
     "status": "completed"
    },
    "tags": []
   },
   "outputs": [],
   "source": [
    "#hide\n",
    "for i in range(len(dates)):\n",
    "    df1_cases = df_cases1.get_group(dates[i])\n",
    "    for j in range(len(df1_cases.index)):\n",
    "        if df1_cases.iloc[j,1] in arr_states:\n",
    "            dft_cases.loc[i,df1_cases.iloc[j,1]] = df1_cases.iloc[j,2]\n",
    "dft_cases = dft_cases.set_index('states')"
   ]
  },
  {
   "cell_type": "code",
   "execution_count": 8,
   "metadata": {
    "execution": {
     "iopub.execute_input": "2020-11-18T14:22:57.572771Z",
     "iopub.status.busy": "2020-11-18T14:22:57.572092Z",
     "iopub.status.idle": "2020-11-18T14:22:57.574615Z",
     "shell.execute_reply": "2020-11-18T14:22:57.573985Z"
    },
    "papermill": {
     "duration": 0.024869,
     "end_time": "2020-11-18T14:22:57.574741",
     "exception": false,
     "start_time": "2020-11-18T14:22:57.549872",
     "status": "completed"
    },
    "tags": []
   },
   "outputs": [],
   "source": [
    "#hide\n",
    "dft_cases = dft_cases.T\n",
    "dft_deaths = dft_deaths.T\n",
    "dt_today = dates[-1]\n",
    "dt_yday = dates[-2]"
   ]
  },
  {
   "cell_type": "code",
   "execution_count": 9,
   "metadata": {
    "execution": {
     "iopub.execute_input": "2020-11-18T14:22:57.613920Z",
     "iopub.status.busy": "2020-11-18T14:22:57.613039Z",
     "iopub.status.idle": "2020-11-18T14:22:57.619300Z",
     "shell.execute_reply": "2020-11-18T14:22:57.618565Z"
    },
    "papermill": {
     "duration": 0.027275,
     "end_time": "2020-11-18T14:22:57.619436",
     "exception": false,
     "start_time": "2020-11-18T14:22:57.592161",
     "status": "completed"
    },
    "tags": []
   },
   "outputs": [],
   "source": [
    "#hide\n",
    "dft_cases = dft_cases.reset_index()\n",
    "dft_deaths = dft_deaths.reset_index()\n",
    "dft_cases = dft_cases.rename(columns = {'index':'state'})\n",
    "dft_deaths = dft_deaths.rename(columns = {'index':'state'})"
   ]
  },
  {
   "cell_type": "code",
   "execution_count": 10,
   "metadata": {
    "execution": {
     "iopub.execute_input": "2020-11-18T14:22:57.670076Z",
     "iopub.status.busy": "2020-11-18T14:22:57.669469Z",
     "iopub.status.idle": "2020-11-18T14:22:57.671991Z",
     "shell.execute_reply": "2020-11-18T14:22:57.672757Z"
    },
    "papermill": {
     "duration": 0.036339,
     "end_time": "2020-11-18T14:22:57.672908",
     "exception": false,
     "start_time": "2020-11-18T14:22:57.636569",
     "status": "completed"
    },
    "tags": []
   },
   "outputs": [],
   "source": [
    "#hide\n",
    "dfc_cases = dft_cases.groupby('state')[dt_today].sum()\n",
    "dfc_deaths = dft_deaths.groupby('state')[dt_today].sum()\n",
    "dfp_cases = dft_cases.groupby('state')[dt_yday].sum()\n",
    "dfp_deaths = dft_deaths.groupby('state')[dt_yday].sum()"
   ]
  },
  {
   "cell_type": "code",
   "execution_count": 11,
   "metadata": {
    "execution": {
     "iopub.execute_input": "2020-11-18T14:22:57.716970Z",
     "iopub.status.busy": "2020-11-18T14:22:57.716291Z",
     "iopub.status.idle": "2020-11-18T14:22:57.731066Z",
     "shell.execute_reply": "2020-11-18T14:22:57.730457Z"
    },
    "papermill": {
     "duration": 0.039899,
     "end_time": "2020-11-18T14:22:57.731199",
     "exception": false,
     "start_time": "2020-11-18T14:22:57.691300",
     "status": "completed"
    },
    "tags": []
   },
   "outputs": [
    {
     "data": {
      "text/html": [
       "<div>\n",
       "<style scoped>\n",
       "    .dataframe tbody tr th:only-of-type {\n",
       "        vertical-align: middle;\n",
       "    }\n",
       "\n",
       "    .dataframe tbody tr th {\n",
       "        vertical-align: top;\n",
       "    }\n",
       "\n",
       "    .dataframe thead th {\n",
       "        text-align: right;\n",
       "    }\n",
       "</style>\n",
       "<table border=\"1\" class=\"dataframe\">\n",
       "  <thead>\n",
       "    <tr style=\"text-align: right;\">\n",
       "      <th></th>\n",
       "      <th>states</th>\n",
       "      <th>Cases</th>\n",
       "      <th>Deaths</th>\n",
       "      <th>PCases</th>\n",
       "      <th>PDeaths</th>\n",
       "    </tr>\n",
       "  </thead>\n",
       "  <tbody>\n",
       "    <tr>\n",
       "      <th>0</th>\n",
       "      <td>Maharashtra</td>\n",
       "      <td>1752509</td>\n",
       "      <td>46102</td>\n",
       "      <td>1752509</td>\n",
       "      <td>46102</td>\n",
       "    </tr>\n",
       "    <tr>\n",
       "      <th>1</th>\n",
       "      <td>Karnataka</td>\n",
       "      <td>864140</td>\n",
       "      <td>11557</td>\n",
       "      <td>864140</td>\n",
       "      <td>11557</td>\n",
       "    </tr>\n",
       "    <tr>\n",
       "      <th>2</th>\n",
       "      <td>Andhra Pradesh</td>\n",
       "      <td>856159</td>\n",
       "      <td>6890</td>\n",
       "      <td>856159</td>\n",
       "      <td>6890</td>\n",
       "    </tr>\n",
       "    <tr>\n",
       "      <th>3</th>\n",
       "      <td>Tamil Nadu</td>\n",
       "      <td>761568</td>\n",
       "      <td>11513</td>\n",
       "      <td>761568</td>\n",
       "      <td>11513</td>\n",
       "    </tr>\n",
       "    <tr>\n",
       "      <th>4</th>\n",
       "      <td>Kerala</td>\n",
       "      <td>539920</td>\n",
       "      <td>1943</td>\n",
       "      <td>533501</td>\n",
       "      <td>1915</td>\n",
       "    </tr>\n",
       "  </tbody>\n",
       "</table>\n",
       "</div>"
      ],
      "text/plain": [
       "           states    Cases  Deaths   PCases  PDeaths\n",
       "0     Maharashtra  1752509   46102  1752509    46102\n",
       "1       Karnataka   864140   11557   864140    11557\n",
       "2  Andhra Pradesh   856159    6890   856159     6890\n",
       "3      Tamil Nadu   761568   11513   761568    11513\n",
       "4          Kerala   539920    1943   533501     1915"
      ]
     },
     "execution_count": 11,
     "metadata": {},
     "output_type": "execute_result"
    }
   ],
   "source": [
    "#hide\n",
    "df_table = pd.DataFrame({'states': dfc_cases.index, 'Cases': dfc_cases.values, 'Deaths': dfc_deaths.values, 'PCases': dfp_cases.values, 'PDeaths': dfp_deaths.values}).set_index('states')\n",
    "df_table = df_table.sort_values(by = ['Cases','Deaths'], ascending = [False, False])\n",
    "df_table = df_table.reset_index()\n",
    "df_table.head()"
   ]
  },
  {
   "cell_type": "code",
   "execution_count": 12,
   "metadata": {
    "execution": {
     "iopub.execute_input": "2020-11-18T14:22:57.773771Z",
     "iopub.status.busy": "2020-11-18T14:22:57.772988Z",
     "iopub.status.idle": "2020-11-18T14:22:57.783258Z",
     "shell.execute_reply": "2020-11-18T14:22:57.782705Z"
    },
    "papermill": {
     "duration": 0.033491,
     "end_time": "2020-11-18T14:22:57.783385",
     "exception": false,
     "start_time": "2020-11-18T14:22:57.749894",
     "status": "completed"
    },
    "tags": []
   },
   "outputs": [],
   "source": [
    "#hide\n",
    "for c in 'Cases, Deaths'.split(', '):\n",
    "    df_table[f'{c} (+)'] = (df_table[c] - df_table[f'P{c}']).clip(0)\n",
    "df_table['Fatality Rate'] = (100* df_table['Deaths']/ df_table['Cases']).round(2)"
   ]
  },
  {
   "cell_type": "code",
   "execution_count": 13,
   "metadata": {
    "execution": {
     "iopub.execute_input": "2020-11-18T14:22:57.827686Z",
     "iopub.status.busy": "2020-11-18T14:22:57.826816Z",
     "iopub.status.idle": "2020-11-18T14:22:57.834453Z",
     "shell.execute_reply": "2020-11-18T14:22:57.835217Z"
    },
    "papermill": {
     "duration": 0.032758,
     "end_time": "2020-11-18T14:22:57.835351",
     "exception": false,
     "start_time": "2020-11-18T14:22:57.802593",
     "status": "completed"
    },
    "tags": []
   },
   "outputs": [
    {
     "data": {
      "text/html": [
       "<div>\n",
       "<style scoped>\n",
       "    .dataframe tbody tr th:only-of-type {\n",
       "        vertical-align: middle;\n",
       "    }\n",
       "\n",
       "    .dataframe tbody tr th {\n",
       "        vertical-align: top;\n",
       "    }\n",
       "\n",
       "    .dataframe thead th {\n",
       "        text-align: right;\n",
       "    }\n",
       "</style>\n",
       "<table border=\"1\" class=\"dataframe\">\n",
       "  <thead>\n",
       "    <tr style=\"text-align: right;\">\n",
       "      <th></th>\n",
       "      <th>states</th>\n",
       "      <th>Cases</th>\n",
       "      <th>Deaths</th>\n",
       "      <th>PCases</th>\n",
       "      <th>PDeaths</th>\n",
       "      <th>Cases (+)</th>\n",
       "      <th>Deaths (+)</th>\n",
       "      <th>Fatality Rate</th>\n",
       "    </tr>\n",
       "  </thead>\n",
       "  <tbody>\n",
       "    <tr>\n",
       "      <th>0</th>\n",
       "      <td>Maharashtra</td>\n",
       "      <td>1752509</td>\n",
       "      <td>46102</td>\n",
       "      <td>1752509</td>\n",
       "      <td>46102</td>\n",
       "      <td>0</td>\n",
       "      <td>0</td>\n",
       "      <td>2.63</td>\n",
       "    </tr>\n",
       "    <tr>\n",
       "      <th>1</th>\n",
       "      <td>Karnataka</td>\n",
       "      <td>864140</td>\n",
       "      <td>11557</td>\n",
       "      <td>864140</td>\n",
       "      <td>11557</td>\n",
       "      <td>0</td>\n",
       "      <td>0</td>\n",
       "      <td>1.34</td>\n",
       "    </tr>\n",
       "    <tr>\n",
       "      <th>2</th>\n",
       "      <td>Andhra Pradesh</td>\n",
       "      <td>856159</td>\n",
       "      <td>6890</td>\n",
       "      <td>856159</td>\n",
       "      <td>6890</td>\n",
       "      <td>0</td>\n",
       "      <td>0</td>\n",
       "      <td>0.80</td>\n",
       "    </tr>\n",
       "    <tr>\n",
       "      <th>3</th>\n",
       "      <td>Tamil Nadu</td>\n",
       "      <td>761568</td>\n",
       "      <td>11513</td>\n",
       "      <td>761568</td>\n",
       "      <td>11513</td>\n",
       "      <td>0</td>\n",
       "      <td>0</td>\n",
       "      <td>1.51</td>\n",
       "    </tr>\n",
       "    <tr>\n",
       "      <th>4</th>\n",
       "      <td>Kerala</td>\n",
       "      <td>539920</td>\n",
       "      <td>1943</td>\n",
       "      <td>533501</td>\n",
       "      <td>1915</td>\n",
       "      <td>6419</td>\n",
       "      <td>28</td>\n",
       "      <td>0.36</td>\n",
       "    </tr>\n",
       "  </tbody>\n",
       "</table>\n",
       "</div>"
      ],
      "text/plain": [
       "           states    Cases  Deaths   PCases  PDeaths  Cases (+)  Deaths (+)  \\\n",
       "0     Maharashtra  1752509   46102  1752509    46102          0           0   \n",
       "1       Karnataka   864140   11557   864140    11557          0           0   \n",
       "2  Andhra Pradesh   856159    6890   856159     6890          0           0   \n",
       "3      Tamil Nadu   761568   11513   761568    11513          0           0   \n",
       "4          Kerala   539920    1943   533501     1915       6419          28   \n",
       "\n",
       "   Fatality Rate  \n",
       "0           2.63  \n",
       "1           1.34  \n",
       "2           0.80  \n",
       "3           1.51  \n",
       "4           0.36  "
      ]
     },
     "execution_count": 13,
     "metadata": {},
     "output_type": "execute_result"
    }
   ],
   "source": [
    "#hide\n",
    "df_table.head()"
   ]
  },
  {
   "cell_type": "code",
   "execution_count": 14,
   "metadata": {
    "execution": {
     "iopub.execute_input": "2020-11-18T14:22:57.874967Z",
     "iopub.status.busy": "2020-11-18T14:22:57.873994Z",
     "iopub.status.idle": "2020-11-18T14:22:57.895907Z",
     "shell.execute_reply": "2020-11-18T14:22:57.896466Z"
    },
    "papermill": {
     "duration": 0.043877,
     "end_time": "2020-11-18T14:22:57.896602",
     "exception": false,
     "start_time": "2020-11-18T14:22:57.852725",
     "status": "completed"
    },
    "tags": []
   },
   "outputs": [
    {
     "data": {
      "text/plain": [
       "{'updated': '2020-11-18',\n",
       " 'since': '2020-11-17',\n",
       " 'Cases': 8920171,\n",
       " 'PCases': 8912774,\n",
       " 'Deaths': 131075,\n",
       " 'PDeaths': 131032,\n",
       " 'Cases (+)': 7397,\n",
       " 'Deaths (+)': 43}"
      ]
     },
     "execution_count": 14,
     "metadata": {},
     "output_type": "execute_result"
    }
   ],
   "source": [
    "#hide\n",
    "summary = {'updated':dates[-1], 'since':dates[-2]}\n",
    "list_names = ['Cases', 'PCases', 'Deaths', 'PDeaths', 'Cases (+)', 'Deaths (+)']\n",
    "for name in list_names:\n",
    "    summary[name] = df_table.sum()[name]\n",
    "summary"
   ]
  },
  {
   "cell_type": "code",
   "execution_count": 15,
   "metadata": {
    "execution": {
     "iopub.execute_input": "2020-11-18T14:22:57.938659Z",
     "iopub.status.busy": "2020-11-18T14:22:57.937895Z",
     "iopub.status.idle": "2020-11-18T14:22:57.940626Z",
     "shell.execute_reply": "2020-11-18T14:22:57.940082Z"
    },
    "papermill": {
     "duration": 0.025506,
     "end_time": "2020-11-18T14:22:57.940756",
     "exception": false,
     "start_time": "2020-11-18T14:22:57.915250",
     "status": "completed"
    },
    "tags": []
   },
   "outputs": [],
   "source": [
    "#hide\n",
    "overview = '''\n",
    "<!-- #######  HTML!! #########-->\n",
    "<h1 style=\"color: #5e9ca0; text-align: center;\">India</h1>\n",
    "<p style=\"text-align: center;\">Last update: <strong>{update}</strong></p>\n",
    "<p style=\"text-align: center;\">Confirmed cases:</p>\n",
    "<p style=\"text-align: center;font-size:24px;\">{cases} (<span style=\"color: #ff0000;\">+{new}</span>)</p>\n",
    "<p style=\"text-align: center;\">Confirmed deaths:</p>\n",
    "<p style=\"text-align: center;font-size:24px;\">{deaths} (<span style=\"color: #ff0000;\">+{dnew}</span>)</p>\n",
    "'''"
   ]
  },
  {
   "cell_type": "code",
   "execution_count": 16,
   "metadata": {
    "execution": {
     "iopub.execute_input": "2020-11-18T14:22:57.983664Z",
     "iopub.status.busy": "2020-11-18T14:22:57.982905Z",
     "iopub.status.idle": "2020-11-18T14:22:57.987199Z",
     "shell.execute_reply": "2020-11-18T14:22:57.987771Z"
    },
    "papermill": {
     "duration": 0.028257,
     "end_time": "2020-11-18T14:22:57.987904",
     "exception": false,
     "start_time": "2020-11-18T14:22:57.959647",
     "status": "completed"
    },
    "tags": []
   },
   "outputs": [
    {
     "data": {
      "text/html": [
       "\n",
       "<!-- #######  HTML!! #########-->\n",
       "<h1 style=\"color: #5e9ca0; text-align: center;\">India</h1>\n",
       "<p style=\"text-align: center;\">Last update: <strong>2020-11-18</strong></p>\n",
       "<p style=\"text-align: center;\">Confirmed cases:</p>\n",
       "<p style=\"text-align: center;font-size:24px;\">8920171 (<span style=\"color: #ff0000;\">+7397</span>)</p>\n",
       "<p style=\"text-align: center;\">Confirmed deaths:</p>\n",
       "<p style=\"text-align: center;font-size:24px;\">131075 (<span style=\"color: #ff0000;\">+43</span>)</p>\n"
      ],
      "text/plain": [
       "<IPython.core.display.HTML object>"
      ]
     },
     "metadata": {},
     "output_type": "display_data"
    }
   ],
   "source": [
    "#hide_input\n",
    "update = summary['updated']\n",
    "cases = summary['Cases']\n",
    "new = summary['Cases (+)']\n",
    "deaths = summary['Deaths']\n",
    "dnew = summary['Deaths (+)']\n",
    "\n",
    "html = HTML(overview.format(update=update, cases=cases,new=new,deaths=deaths,dnew=dnew))\n",
    "\n",
    "display(html)"
   ]
  },
  {
   "cell_type": "code",
   "execution_count": 17,
   "metadata": {
    "execution": {
     "iopub.execute_input": "2020-11-18T14:22:58.034183Z",
     "iopub.status.busy": "2020-11-18T14:22:58.033518Z",
     "iopub.status.idle": "2020-11-18T14:22:58.038837Z",
     "shell.execute_reply": "2020-11-18T14:22:58.039364Z"
    },
    "papermill": {
     "duration": 0.033014,
     "end_time": "2020-11-18T14:22:58.039500",
     "exception": false,
     "start_time": "2020-11-18T14:22:58.006486",
     "status": "completed"
    },
    "tags": []
   },
   "outputs": [],
   "source": [
    "#hide\n",
    "dt_cols = list(dft_cases.columns[1:])\n",
    "dft_ct_new_cases = dft_cases.groupby('state')[dt_cols].sum().diff(axis=1).fillna(0).astype(int)\n",
    "dft_ct_new_cases.sort_values(by = dates[-1], ascending = False,inplace = True)"
   ]
  },
  {
   "cell_type": "code",
   "execution_count": 18,
   "metadata": {
    "execution": {
     "iopub.execute_input": "2020-11-18T14:22:58.095277Z",
     "iopub.status.busy": "2020-11-18T14:22:58.094627Z",
     "iopub.status.idle": "2020-11-18T14:22:58.097540Z",
     "shell.execute_reply": "2020-11-18T14:22:58.098152Z"
    },
    "papermill": {
     "duration": 0.039977,
     "end_time": "2020-11-18T14:22:58.098284",
     "exception": false,
     "start_time": "2020-11-18T14:22:58.058307",
     "status": "completed"
    },
    "tags": []
   },
   "outputs": [
    {
     "data": {
      "text/html": [
       "<div>\n",
       "<style scoped>\n",
       "    .dataframe tbody tr th:only-of-type {\n",
       "        vertical-align: middle;\n",
       "    }\n",
       "\n",
       "    .dataframe tbody tr th {\n",
       "        vertical-align: top;\n",
       "    }\n",
       "\n",
       "    .dataframe thead th {\n",
       "        text-align: right;\n",
       "    }\n",
       "</style>\n",
       "<table border=\"1\" class=\"dataframe\">\n",
       "  <thead>\n",
       "    <tr style=\"text-align: right;\">\n",
       "      <th>states</th>\n",
       "      <th>2020-07-01</th>\n",
       "      <th>2020-07-02</th>\n",
       "      <th>2020-07-03</th>\n",
       "      <th>2020-07-04</th>\n",
       "      <th>2020-07-05</th>\n",
       "      <th>2020-07-06</th>\n",
       "      <th>2020-07-07</th>\n",
       "      <th>2020-07-08</th>\n",
       "      <th>2020-07-09</th>\n",
       "      <th>2020-07-10</th>\n",
       "      <th>...</th>\n",
       "      <th>2020-11-09</th>\n",
       "      <th>2020-11-10</th>\n",
       "      <th>2020-11-11</th>\n",
       "      <th>2020-11-12</th>\n",
       "      <th>2020-11-13</th>\n",
       "      <th>2020-11-14</th>\n",
       "      <th>2020-11-15</th>\n",
       "      <th>2020-11-16</th>\n",
       "      <th>2020-11-17</th>\n",
       "      <th>2020-11-18</th>\n",
       "    </tr>\n",
       "    <tr>\n",
       "      <th>state</th>\n",
       "      <th></th>\n",
       "      <th></th>\n",
       "      <th></th>\n",
       "      <th></th>\n",
       "      <th></th>\n",
       "      <th></th>\n",
       "      <th></th>\n",
       "      <th></th>\n",
       "      <th></th>\n",
       "      <th></th>\n",
       "      <th></th>\n",
       "      <th></th>\n",
       "      <th></th>\n",
       "      <th></th>\n",
       "      <th></th>\n",
       "      <th></th>\n",
       "      <th></th>\n",
       "      <th></th>\n",
       "      <th></th>\n",
       "      <th></th>\n",
       "      <th></th>\n",
       "    </tr>\n",
       "  </thead>\n",
       "  <tbody>\n",
       "    <tr>\n",
       "      <th>Kerala</th>\n",
       "      <td>0</td>\n",
       "      <td>160</td>\n",
       "      <td>211</td>\n",
       "      <td>240</td>\n",
       "      <td>225</td>\n",
       "      <td>193</td>\n",
       "      <td>272</td>\n",
       "      <td>301</td>\n",
       "      <td>339</td>\n",
       "      <td>416</td>\n",
       "      <td>...</td>\n",
       "      <td>3593</td>\n",
       "      <td>6010</td>\n",
       "      <td>7007</td>\n",
       "      <td>5537</td>\n",
       "      <td>5804</td>\n",
       "      <td>6357</td>\n",
       "      <td>4581</td>\n",
       "      <td>2710</td>\n",
       "      <td>5792</td>\n",
       "      <td>6419</td>\n",
       "    </tr>\n",
       "    <tr>\n",
       "      <th>Odisha</th>\n",
       "      <td>0</td>\n",
       "      <td>229</td>\n",
       "      <td>561</td>\n",
       "      <td>495</td>\n",
       "      <td>469</td>\n",
       "      <td>456</td>\n",
       "      <td>571</td>\n",
       "      <td>527</td>\n",
       "      <td>577</td>\n",
       "      <td>755</td>\n",
       "      <td>...</td>\n",
       "      <td>1219</td>\n",
       "      <td>987</td>\n",
       "      <td>1220</td>\n",
       "      <td>986</td>\n",
       "      <td>1018</td>\n",
       "      <td>902</td>\n",
       "      <td>753</td>\n",
       "      <td>749</td>\n",
       "      <td>644</td>\n",
       "      <td>868</td>\n",
       "    </tr>\n",
       "    <tr>\n",
       "      <th>Tripura</th>\n",
       "      <td>0</td>\n",
       "      <td>39</td>\n",
       "      <td>93</td>\n",
       "      <td>25</td>\n",
       "      <td>23</td>\n",
       "      <td>111</td>\n",
       "      <td>24</td>\n",
       "      <td>57</td>\n",
       "      <td>16</td>\n",
       "      <td>142</td>\n",
       "      <td>...</td>\n",
       "      <td>26</td>\n",
       "      <td>79</td>\n",
       "      <td>84</td>\n",
       "      <td>59</td>\n",
       "      <td>76</td>\n",
       "      <td>78</td>\n",
       "      <td>26</td>\n",
       "      <td>17</td>\n",
       "      <td>77</td>\n",
       "      <td>73</td>\n",
       "    </tr>\n",
       "    <tr>\n",
       "      <th>Mizoram</th>\n",
       "      <td>0</td>\n",
       "      <td>2</td>\n",
       "      <td>0</td>\n",
       "      <td>2</td>\n",
       "      <td>22</td>\n",
       "      <td>11</td>\n",
       "      <td>1</td>\n",
       "      <td>5</td>\n",
       "      <td>0</td>\n",
       "      <td>23</td>\n",
       "      <td>...</td>\n",
       "      <td>6</td>\n",
       "      <td>60</td>\n",
       "      <td>61</td>\n",
       "      <td>25</td>\n",
       "      <td>67</td>\n",
       "      <td>59</td>\n",
       "      <td>25</td>\n",
       "      <td>3</td>\n",
       "      <td>48</td>\n",
       "      <td>37</td>\n",
       "    </tr>\n",
       "    <tr>\n",
       "      <th>Andaman and Nicobar Islands</th>\n",
       "      <td>0</td>\n",
       "      <td>9</td>\n",
       "      <td>7</td>\n",
       "      <td>3</td>\n",
       "      <td>6</td>\n",
       "      <td>16</td>\n",
       "      <td>6</td>\n",
       "      <td>2</td>\n",
       "      <td>7</td>\n",
       "      <td>0</td>\n",
       "      <td>...</td>\n",
       "      <td>13</td>\n",
       "      <td>14</td>\n",
       "      <td>17</td>\n",
       "      <td>13</td>\n",
       "      <td>11</td>\n",
       "      <td>9</td>\n",
       "      <td>9</td>\n",
       "      <td>21</td>\n",
       "      <td>17</td>\n",
       "      <td>0</td>\n",
       "    </tr>\n",
       "  </tbody>\n",
       "</table>\n",
       "<p>5 rows × 141 columns</p>\n",
       "</div>"
      ],
      "text/plain": [
       "states                       2020-07-01  2020-07-02  2020-07-03  2020-07-04  \\\n",
       "state                                                                         \n",
       "Kerala                                0         160         211         240   \n",
       "Odisha                                0         229         561         495   \n",
       "Tripura                               0          39          93          25   \n",
       "Mizoram                               0           2           0           2   \n",
       "Andaman and Nicobar Islands           0           9           7           3   \n",
       "\n",
       "states                       2020-07-05  2020-07-06  2020-07-07  2020-07-08  \\\n",
       "state                                                                         \n",
       "Kerala                              225         193         272         301   \n",
       "Odisha                              469         456         571         527   \n",
       "Tripura                              23         111          24          57   \n",
       "Mizoram                              22          11           1           5   \n",
       "Andaman and Nicobar Islands           6          16           6           2   \n",
       "\n",
       "states                       2020-07-09  2020-07-10  ...  2020-11-09  \\\n",
       "state                                                ...               \n",
       "Kerala                              339         416  ...        3593   \n",
       "Odisha                              577         755  ...        1219   \n",
       "Tripura                              16         142  ...          26   \n",
       "Mizoram                               0          23  ...           6   \n",
       "Andaman and Nicobar Islands           7           0  ...          13   \n",
       "\n",
       "states                       2020-11-10  2020-11-11  2020-11-12  2020-11-13  \\\n",
       "state                                                                         \n",
       "Kerala                             6010        7007        5537        5804   \n",
       "Odisha                              987        1220         986        1018   \n",
       "Tripura                              79          84          59          76   \n",
       "Mizoram                              60          61          25          67   \n",
       "Andaman and Nicobar Islands          14          17          13          11   \n",
       "\n",
       "states                       2020-11-14  2020-11-15  2020-11-16  2020-11-17  \\\n",
       "state                                                                         \n",
       "Kerala                             6357        4581        2710        5792   \n",
       "Odisha                              902         753         749         644   \n",
       "Tripura                              78          26          17          77   \n",
       "Mizoram                              59          25           3          48   \n",
       "Andaman and Nicobar Islands           9           9          21          17   \n",
       "\n",
       "states                       2020-11-18  \n",
       "state                                    \n",
       "Kerala                             6419  \n",
       "Odisha                              868  \n",
       "Tripura                              73  \n",
       "Mizoram                              37  \n",
       "Andaman and Nicobar Islands           0  \n",
       "\n",
       "[5 rows x 141 columns]"
      ]
     },
     "execution_count": 18,
     "metadata": {},
     "output_type": "execute_result"
    }
   ],
   "source": [
    "#hide\n",
    "dft_ct_new_cases.head()"
   ]
  },
  {
   "cell_type": "code",
   "execution_count": 19,
   "metadata": {
    "execution": {
     "iopub.execute_input": "2020-11-18T14:22:58.150978Z",
     "iopub.status.busy": "2020-11-18T14:22:58.145827Z",
     "iopub.status.idle": "2020-11-18T14:23:04.774441Z",
     "shell.execute_reply": "2020-11-18T14:23:04.775015Z"
    },
    "papermill": {
     "duration": 6.657372,
     "end_time": "2020-11-18T14:23:04.775175",
     "exception": false,
     "start_time": "2020-11-18T14:22:58.117803",
     "status": "completed"
    },
    "tags": []
   },
   "outputs": [
    {
     "data": {
      "image/png": "[encoded data removed]",
      "text/plain": [
       "<Figure size 1296x2016 with 11 Axes>"
      ]
     },
     "metadata": {
      "needs_background": "light"
     },
     "output_type": "display_data"
    }
   ],
   "source": [
    "#hide_input\n",
    "df = dft_ct_new_cases.copy()\n",
    "df.loc['Total'] = df.sum()\n",
    "n = 5\n",
    "ax = []\n",
    "fig = plt.figure(figsize = (18,28))\n",
    "gs = fig.add_gridspec(n+2, 5)\n",
    "# gs = fig.add_gridspec(2, 3)\n",
    "ax1 = fig.add_subplot(gs[0, :])\n",
    "ef = df.loc['Total'].rename_axis('date').reset_index()\n",
    "ef['date'] = ef['date'].astype('datetime64[ns]')\n",
    "ax1.bar(ef.date,ef.Total,alpha=0.3,color='#007acc')\n",
    "ax1.plot(ef.date,ef.Total , marker=\"o\", color='#007acc')\n",
    "ax1.xaxis.set_major_locator(mdates.WeekdayLocator())\n",
    "ax1.xaxis.set_major_formatter(mdates.DateFormatter('%b %d'))\n",
    "ax1.text(0.02, 0.5,'India daily case count', transform = ax1.transAxes, fontsize=25);\n",
    "ax1.spines['right'].set_visible(False)\n",
    "ax1.spines['top'].set_visible(False)\n",
    "\n",
    "ax2 = fig.add_subplot(gs[1,0])\n",
    "ef = df.loc['Maharashtra'].rename_axis('date').reset_index()\n",
    "ef['date'] = ef['date'].astype('datetime64[ns]')\n",
    "\n",
    "ax2.bar(ef.date, ef.Maharashtra,color = '#007acc',alpha=0.5)\n",
    "ax2.xaxis.set_major_locator(mdates.WeekdayLocator())\n",
    "ax2.xaxis.set_major_formatter(mdates.DateFormatter('%b %d'))\n",
    "ax2.set_xticks(ax2.get_xticks()[::3])\n",
    "maxyval = ef.Maharashtra.max()\n",
    "ax2.set_ylim([0,maxyval])\n",
    "ax2.text(0.05, 0.9,'Maharashtra', transform = ax2.transAxes, fontsize=20);\n",
    "ax2.spines['right'].set_visible(False)\n",
    "ax2.spines['top'].set_visible(False)\n",
    "\n",
    "\n",
    "ax3 = fig.add_subplot(gs[1,1])\n",
    "ef = df.loc['Tamil Nadu'].rename_axis('date').reset_index()\n",
    "ef['date'] = ef['date'].astype('datetime64[ns]')\n",
    "ax3.bar(ef.date, ef['Tamil Nadu'],color = '#007acc',alpha=0.5,)\n",
    "ax3.xaxis.set_major_locator(mdates.WeekdayLocator())\n",
    "ax3.xaxis.set_major_formatter(mdates.DateFormatter('%b %d'))\n",
    "ax3.set_xticks(ax3.get_xticks()[::3])\n",
    "ax3.text(0.05, 0.9,'Tamil Nadu', transform = ax3.transAxes, fontsize=20);\n",
    "ax3.spines['right'].set_visible(False)\n",
    "ax3.spines['top'].set_visible(False)\n",
    "\n",
    "ax5 = fig.add_subplot(gs[1,3])\n",
    "ef = df.loc['Telangana'].rename_axis('date').reset_index()\n",
    "ef['date'] = ef['date'].astype('datetime64[ns]')\n",
    "ax5.bar(ef.date, ef['Telangana'],color = '#007acc',alpha=0.5,)\n",
    "ax5.xaxis.set_major_locator(mdates.WeekdayLocator())\n",
    "ax5.xaxis.set_major_formatter(mdates.DateFormatter('%b %d'))\n",
    "ax5.set_xticks(ax5.get_xticks()[::3])\n",
    "ax5.text(0.05, 0.9,'Telangana', transform = ax5.transAxes, fontsize=20);\n",
    "ax5.spines['right'].set_visible(False)\n",
    "ax5.spines['top'].set_visible(False)\n",
    "\n",
    "ax6 = fig.add_subplot(gs[1,4])\n",
    "ef = df.loc['Andhra Pradesh'].rename_axis('date').reset_index()\n",
    "ef['date'] = ef['date'].astype('datetime64[ns]')\n",
    "ax6.bar(ef.date, ef['Andhra Pradesh'],color = '#007acc',alpha=0.5,)\n",
    "ax6.xaxis.set_major_locator(mdates.WeekdayLocator())\n",
    "ax6.xaxis.set_major_formatter(mdates.DateFormatter('%b %d'))\n",
    "ax6.set_xticks(ax6.get_xticks()[::3])\n",
    "ax6.text(0.05, 1,'Andhra Pradesh', transform = ax6.transAxes, fontsize=20);\n",
    "ax6.spines['right'].set_visible(False)\n",
    "ax6.spines['top'].set_visible(False)\n",
    "\n",
    "ax4 = fig.add_subplot(gs[1,2])\n",
    "ef = df.loc['Delhi'].rename_axis('date').reset_index()\n",
    "ef['date'] = ef['date'].astype('datetime64[ns]')\n",
    "ax4.bar(ef.date, ef.Delhi,color = '#007acc',alpha=0.5)\n",
    "ax4.set_xticks([])\n",
    "ax4.xaxis.set_major_locator(mdates.WeekdayLocator())\n",
    "ax4.xaxis.set_major_formatter(mdates.DateFormatter('%b %d'))\n",
    "ax4.set_xticks(ax4.get_xticks()[::3])\n",
    "ax4.spines['right'].set_visible(False)\n",
    "ax4.spines['top'].set_visible(False)\n",
    "\n",
    "ax4.text(0.05, 1,'Delhi', transform = ax4.transAxes, fontsize=20)\n",
    "\n",
    "for i in range(n):\n",
    "    \n",
    "    ax.append(fig.add_subplot(gs[i+2,:]))\n",
    "    ef = df.iloc[i+3].rename_axis('date').reset_index()\n",
    "    ef['date'] = ef['date'].astype('datetime64[ns]')\n",
    "    ax[i].bar(ef.date,ef.iloc[:,-1],color = '#007acc',alpha=0.3)\n",
    "    ax[i].plot(ef.date,ef.iloc[:,-1],marker='o',color='#007acc')\n",
    "    ax[i].text(0.02,0.5,f'{ef.columns.values[-1]}',transform = ax[i].transAxes, fontsize = 20);\n",
    "    ax[i].xaxis.set_major_locator(mdates.WeekdayLocator())\n",
    "    ax[i].xaxis.set_major_formatter(mdates.DateFormatter('%b %d'))\n",
    "    ax[i].set_ylim([0,7000])\n",
    "    ax[i].spines['right'].set_visible(False)\n",
    "    ax[i].spines['top'].set_visible(False)\n",
    "plt.tight_layout()\n"
   ]
  },
  {
   "cell_type": "code",
   "execution_count": 20,
   "metadata": {
    "execution": {
     "iopub.execute_input": "2020-11-18T14:23:04.833988Z",
     "iopub.status.busy": "2020-11-18T14:23:04.833244Z",
     "iopub.status.idle": "2020-11-18T14:23:04.835722Z",
     "shell.execute_reply": "2020-11-18T14:23:04.836237Z"
    },
    "papermill": {
     "duration": 0.036075,
     "end_time": "2020-11-18T14:23:04.836386",
     "exception": false,
     "start_time": "2020-11-18T14:23:04.800311",
     "status": "completed"
    },
    "tags": []
   },
   "outputs": [
    {
     "name": "stdout",
     "output_type": "stream",
     "text": [
      "                                   states    Cases  Deaths   PCases  PDeaths  Cases (+)  Deaths (+)  Fatality Rate\n",
      "                              Maharashtra  1752509   46102  1752509    46102          0           0           2.63\n",
      "                                Karnataka   864140   11557   864140    11557          0           0           1.34\n",
      "                           Andhra Pradesh   856159    6890   856159     6890          0           0           0.80\n",
      "                               Tamil Nadu   761568   11513   761568    11513          0           0           1.51\n",
      "                                   Kerala   539920    1943   533501     1915       6419          28           0.36\n",
      "                            Uttar Pradesh   514270    7412   514270     7412          0           0           1.44\n",
      "                                    Delhi   495598    7812   495598     7812          0           0           1.58\n",
      "                              West Bengal   438217    7766   438217     7766          0           0           1.77\n",
      "                                   Odisha   310920    1628   310052     1613        868          15           0.52\n",
      "                                Telangana   258828    1410   258828     1410          0           0           0.54\n",
      "                                Rajasthan   230180    2089   230180     2089          0           0           0.91\n",
      "                                    Bihar   227946    1194   227946     1194          0           0           0.52\n",
      "                             Chhattisgarh   213365    2623   213365     2623          0           0           1.23\n",
      "                                    Assam   210696     967   210696      967          0           0           0.46\n",
      "                                  Haryana   204477    2063   204477     2063          0           0           1.01\n",
      "                                  Gujarat   190361    3815   190361     3815          0           0           2.00\n",
      "                           Madhya Pradesh   185446    3102   185446     3102          0           0           1.67\n",
      "                                   Punjab   142597    4510   142597     4510          0           0           3.16\n",
      "                                Jharkhand   106491     931   106491      931          0           0           0.87\n",
      "                        Jammu and Kashmir   103581    1604   103581     1604          0           0           1.55\n",
      "                              Uttarakhand    68887    1119    68887     1119          0           0           1.62\n",
      "                                      Goa    46182     667    46182      667          0           0           1.44\n",
      "                               Puducherry    36409     608    36409      608          0           0           1.67\n",
      "                                  Tripura    32109     361    32036      361         73           0           1.12\n",
      "                         Himachal Pradesh    30740     455    30740      455          0           0           1.48\n",
      "                                  Manipur    22208     225    22208      225          0           0           1.01\n",
      "                               Chandigarh    16022     252    16022      252          0           0           1.57\n",
      "                        Arunachal Pradesh    15904      48    15904       48          0           0           0.30\n",
      "                                Meghalaya    10794     102    10794      102          0           0           0.94\n",
      "                                 Nagaland    10188      53    10188       53          0           0           0.52\n",
      "                                   Ladakh     7563      94     7563       94          0           0           1.24\n",
      "              Andaman and Nicobar Islands     4574      61     4574       61          0           0           1.33\n",
      "                                   Sikkim     4549      92     4549       92          0           0           2.02\n",
      "                                  Mizoram     3481       5     3444        5         37           0           0.14\n",
      " Dadra and Nagar Haveli and Daman and Diu     3292       2     3292        2          0           0           0.06\n",
      "                              Lakshadweep        0       0        0        0          0           0            NaN\n"
     ]
    }
   ],
   "source": [
    "#hide_input\n",
    "print(df_table.to_string(index=False))"
   ]
  },
  {
   "cell_type": "code",
   "execution_count": null,
   "metadata": {
    "papermill": {
     "duration": 0.02448,
     "end_time": "2020-11-18T14:23:04.884175",
     "exception": false,
     "start_time": "2020-11-18T14:23:04.859695",
     "status": "completed"
    },
    "tags": []
   },
   "outputs": [],
   "source": []
  },
  {
   "cell_type": "code",
   "execution_count": null,
   "metadata": {
    "papermill": {
     "duration": 0.023797,
     "end_time": "2020-11-18T14:23:04.939325",
     "exception": false,
     "start_time": "2020-11-18T14:23:04.915528",
     "status": "completed"
    },
    "tags": []
   },
   "outputs": [],
   "source": []
  }
 ],
 "metadata": {
  "kernelspec": {
   "display_name": "Python 3",
   "language": "python",
   "name": "python3"
  },
  "language_info": {
   "codemirror_mode": {
    "name": "ipython",
    "version": 3
   },
   "file_extension": ".py",
   "mimetype": "text/x-python",
   "name": "python",
   "nbconvert_exporter": "python",
   "pygments_lexer": "ipython3",
   "version": "3.6.12"
  },
  "papermill": {
   "duration": 15.598379,
   "end_time": "2020-11-18T14:23:05.372207",
   "environment_variables": {},
   "exception": null,
   "input_path": "latest.ipynb",
   "output_path": "latest.ipynb",
   "parameters": {},
   "start_time": "2020-11-18T14:22:49.773828",
   "version": "2.1.2"
  }
 },
 "nbformat": 4,
 "nbformat_minor": 4
}