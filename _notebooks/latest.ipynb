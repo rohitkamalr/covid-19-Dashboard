{
 "cells": [
  {
   "cell_type": "markdown",
   "metadata": {
    "papermill": {
     "duration": 0.026431,
     "end_time": "2020-09-12T04:23:21.926092",
     "exception": false,
     "start_time": "2020-09-12T04:23:21.899661",
     "status": "completed"
    },
    "tags": []
   },
   "source": [
    "# Latest COVID-19 India Matplotlib Overview"
   ]
  },
  {
   "cell_type": "code",
   "execution_count": 1,
   "metadata": {
    "execution": {
     "iopub.execute_input": "2020-09-12T04:23:21.965501Z",
     "iopub.status.busy": "2020-09-12T04:23:21.963899Z",
     "iopub.status.idle": "2020-09-12T04:23:22.606975Z",
     "shell.execute_reply": "2020-09-12T04:23:22.606057Z"
    },
    "papermill": {
     "duration": 0.665127,
     "end_time": "2020-09-12T04:23:22.607230",
     "exception": false,
     "start_time": "2020-09-12T04:23:21.942103",
     "status": "completed"
    },
    "tags": []
   },
   "outputs": [],
   "source": [
    "#hide\n",
    "import pandas as pd\n",
    "import numpy as np\n",
    "import requests\n",
    "import json\n",
    "import matplotlib.pyplot as plt\n",
    "import matplotlib.dates as mdates\n",
    "import matplotlib as mpl\n",
    "from IPython.core.display import display,HTML\n",
    "%matplotlib inline\n",
    "from datetime import date"
   ]
  },
  {
   "cell_type": "code",
   "execution_count": 2,
   "metadata": {
    "execution": {
     "iopub.execute_input": "2020-09-12T04:23:22.651346Z",
     "iopub.status.busy": "2020-09-12T04:23:22.649788Z",
     "iopub.status.idle": "2020-09-12T04:23:22.962785Z",
     "shell.execute_reply": "2020-09-12T04:23:22.962067Z"
    },
    "papermill": {
     "duration": 0.340047,
     "end_time": "2020-09-12T04:23:22.962935",
     "exception": false,
     "start_time": "2020-09-12T04:23:22.622888",
     "status": "completed"
    },
    "tags": []
   },
   "outputs": [],
   "source": [
    "#hide\n",
    "df  = pd.read_csv('https://api.covid19india.org/csv/latest/states.csv')\n",
    "df = df[['Date','State','Confirmed','Deceased']]\n",
    "df = df.rename(columns={'Confirmed':'Cases', \"Deceased\":'Deaths'})\n",
    "df_cases = df[[\"Date\",'State','Cases']]\n",
    "df_deaths = df[['Date','State','Deaths']]\n",
    "df_cases1 = df_cases.groupby('Date')\n",
    "df_deaths1= df_deaths.groupby('Date')"
   ]
  },
  {
   "cell_type": "code",
   "execution_count": 3,
   "metadata": {
    "execution": {
     "iopub.execute_input": "2020-09-12T04:23:23.003664Z",
     "iopub.status.busy": "2020-09-12T04:23:23.003043Z",
     "iopub.status.idle": "2020-09-12T04:23:23.022588Z",
     "shell.execute_reply": "2020-09-12T04:23:23.022059Z"
    },
    "papermill": {
     "duration": 0.043826,
     "end_time": "2020-09-12T04:23:23.022733",
     "exception": false,
     "start_time": "2020-09-12T04:23:22.978907",
     "status": "completed"
    },
    "tags": []
   },
   "outputs": [],
   "source": [
    "#hide\n",
    "df_snap = pd.read_csv('data/SnapshotCases-28-July.csv')\n",
    "arr_states = df_snap['states'].unique()\n",
    "arr_dates = df['Date'].unique()\n",
    "df_snap = df_snap.set_index('states')"
   ]
  },
  {
   "cell_type": "code",
   "execution_count": 4,
   "metadata": {
    "execution": {
     "iopub.execute_input": "2020-09-12T04:23:23.066828Z",
     "iopub.status.busy": "2020-09-12T04:23:23.066186Z",
     "iopub.status.idle": "2020-09-12T04:23:23.068973Z",
     "shell.execute_reply": "2020-09-12T04:23:23.069551Z"
    },
    "papermill": {
     "duration": 0.031259,
     "end_time": "2020-09-12T04:23:23.069711",
     "exception": false,
     "start_time": "2020-09-12T04:23:23.038452",
     "status": "completed"
    },
    "tags": []
   },
   "outputs": [
    {
     "data": {
      "text/plain": [
       "array(['Andaman and Nicobar Islands', 'Andhra Pradesh',\n",
       "       'Arunachal Pradesh', 'Assam', 'Bihar', 'Chandigarh',\n",
       "       'Dadra and Nagar Haveli and Daman and Diu', 'Delhi', 'Goa',\n",
       "       'Gujarat', 'Haryana', 'Himachal Pradesh', 'Jammu and Kashmir',\n",
       "       'Jharkhand', 'Karnataka', 'Kerala', 'Lakshadweep',\n",
       "       'Madhya Pradesh', 'Maharashtra', 'Manipur', 'Meghalaya', 'Mizoram',\n",
       "       'Nagaland', 'Odisha', 'Puducherry', 'Punjab', 'Rajasthan',\n",
       "       'Sikkim', 'Tamil Nadu', 'Telangana', 'Tripura', 'Uttar Pradesh',\n",
       "       'West Bengal', 'Chhattisgarh', 'Ladakh', 'Uttarakhand'],\n",
       "      dtype=object)"
      ]
     },
     "execution_count": 4,
     "metadata": {},
     "output_type": "execute_result"
    }
   ],
   "source": [
    "#hide\n",
    "arr_states[-9] = 'Puducherry'\n",
    "arr_states[-10] = 'Odisha'\n",
    "arr_states[6] = 'Dadra and Nagar Haveli and Daman and Diu'\n",
    "arr_states = np.append(arr_states,np.array(['Chhattisgarh','Ladakh','Uttarakhand']))\n",
    "arr_states"
   ]
  },
  {
   "cell_type": "code",
   "execution_count": 5,
   "metadata": {
    "execution": {
     "iopub.execute_input": "2020-09-12T04:23:23.113071Z",
     "iopub.status.busy": "2020-09-12T04:23:23.112448Z",
     "iopub.status.idle": "2020-09-12T04:23:23.120474Z",
     "shell.execute_reply": "2020-09-12T04:23:23.119944Z"
    },
    "papermill": {
     "duration": 0.034621,
     "end_time": "2020-09-12T04:23:23.120618",
     "exception": false,
     "start_time": "2020-09-12T04:23:23.085997",
     "status": "completed"
    },
    "tags": []
   },
   "outputs": [],
   "source": [
    "#hide\n",
    "dates = []\n",
    "for i in arr_dates:\n",
    "    if i>='2020-07-01':\n",
    "        dates.append(i)\n",
    "dict = {'states':dates}\n",
    "for i in arr_states:\n",
    "    dict[i] = [0]*len(dates)\n",
    "dft_cases = pd.DataFrame(dict)\n",
    "dft_deaths = pd.DataFrame(dict)\n"
   ]
  },
  {
   "cell_type": "code",
   "execution_count": 6,
   "metadata": {
    "execution": {
     "iopub.execute_input": "2020-09-12T04:23:23.162104Z",
     "iopub.status.busy": "2020-09-12T04:23:23.161431Z",
     "iopub.status.idle": "2020-09-12T04:23:24.185399Z",
     "shell.execute_reply": "2020-09-12T04:23:24.185964Z"
    },
    "papermill": {
     "duration": 1.049822,
     "end_time": "2020-09-12T04:23:24.186157",
     "exception": false,
     "start_time": "2020-09-12T04:23:23.136335",
     "status": "completed"
    },
    "tags": []
   },
   "outputs": [],
   "source": [
    "#hide\n",
    "for i in range(len(dates)):\n",
    "    df1_deaths = df_deaths1.get_group(dates[i])\n",
    "    for j in range(len(df1_deaths.index)):\n",
    "        if df1_deaths.iloc[j,1] in arr_states:\n",
    "            dft_deaths.loc[i,df1_deaths.iloc[j,1]] = df1_deaths.iloc[j,2]\n",
    "dft_deaths = dft_deaths.set_index('states')"
   ]
  },
  {
   "cell_type": "code",
   "execution_count": 7,
   "metadata": {
    "execution": {
     "iopub.execute_input": "2020-09-12T04:23:24.225077Z",
     "iopub.status.busy": "2020-09-12T04:23:24.224442Z",
     "iopub.status.idle": "2020-09-12T04:23:25.252734Z",
     "shell.execute_reply": "2020-09-12T04:23:25.251795Z"
    },
    "papermill": {
     "duration": 1.050995,
     "end_time": "2020-09-12T04:23:25.252942",
     "exception": false,
     "start_time": "2020-09-12T04:23:24.201947",
     "status": "completed"
    },
    "tags": []
   },
   "outputs": [],
   "source": [
    "#hide\n",
    "for i in range(len(dates)):\n",
    "    df1_cases = df_cases1.get_group(dates[i])\n",
    "    for j in range(len(df1_cases.index)):\n",
    "        if df1_cases.iloc[j,1] in arr_states:\n",
    "            dft_cases.loc[i,df1_cases.iloc[j,1]] = df1_cases.iloc[j,2]\n",
    "dft_cases = dft_cases.set_index('states')"
   ]
  },
  {
   "cell_type": "code",
   "execution_count": 8,
   "metadata": {
    "execution": {
     "iopub.execute_input": "2020-09-12T04:23:25.293774Z",
     "iopub.status.busy": "2020-09-12T04:23:25.292690Z",
     "iopub.status.idle": "2020-09-12T04:23:25.295294Z",
     "shell.execute_reply": "2020-09-12T04:23:25.294812Z"
    },
    "papermill": {
     "duration": 0.026621,
     "end_time": "2020-09-12T04:23:25.295432",
     "exception": false,
     "start_time": "2020-09-12T04:23:25.268811",
     "status": "completed"
    },
    "tags": []
   },
   "outputs": [],
   "source": [
    "#hide\n",
    "dft_cases = dft_cases.T\n",
    "dft_deaths = dft_deaths.T\n",
    "dt_today = dates[-1]\n",
    "dt_yday = dates[-2]"
   ]
  },
  {
   "cell_type": "code",
   "execution_count": 9,
   "metadata": {
    "execution": {
     "iopub.execute_input": "2020-09-12T04:23:25.338893Z",
     "iopub.status.busy": "2020-09-12T04:23:25.338158Z",
     "iopub.status.idle": "2020-09-12T04:23:25.342578Z",
     "shell.execute_reply": "2020-09-12T04:23:25.342049Z"
    },
    "papermill": {
     "duration": 0.03115,
     "end_time": "2020-09-12T04:23:25.342793",
     "exception": false,
     "start_time": "2020-09-12T04:23:25.311643",
     "status": "completed"
    },
    "tags": []
   },
   "outputs": [],
   "source": [
    "#hide\n",
    "dft_cases = dft_cases.reset_index()\n",
    "dft_deaths = dft_deaths.reset_index()\n",
    "dft_cases = dft_cases.rename(columns = {'index':'state'})\n",
    "dft_deaths = dft_deaths.rename(columns = {'index':'state'})"
   ]
  },
  {
   "cell_type": "code",
   "execution_count": 10,
   "metadata": {
    "execution": {
     "iopub.execute_input": "2020-09-12T04:23:25.388320Z",
     "iopub.status.busy": "2020-09-12T04:23:25.387640Z",
     "iopub.status.idle": "2020-09-12T04:23:25.390788Z",
     "shell.execute_reply": "2020-09-12T04:23:25.391244Z"
    },
    "papermill": {
     "duration": 0.032057,
     "end_time": "2020-09-12T04:23:25.391412",
     "exception": false,
     "start_time": "2020-09-12T04:23:25.359355",
     "status": "completed"
    },
    "tags": []
   },
   "outputs": [],
   "source": [
    "#hide\n",
    "dfc_cases = dft_cases.groupby('state')[dt_today].sum()\n",
    "dfc_deaths = dft_deaths.groupby('state')[dt_today].sum()\n",
    "dfp_cases = dft_cases.groupby('state')[dt_yday].sum()\n",
    "dfp_deaths = dft_deaths.groupby('state')[dt_yday].sum()"
   ]
  },
  {
   "cell_type": "code",
   "execution_count": 11,
   "metadata": {
    "execution": {
     "iopub.execute_input": "2020-09-12T04:23:25.440227Z",
     "iopub.status.busy": "2020-09-12T04:23:25.439453Z",
     "iopub.status.idle": "2020-09-12T04:23:25.445923Z",
     "shell.execute_reply": "2020-09-12T04:23:25.446494Z"
    },
    "papermill": {
     "duration": 0.038975,
     "end_time": "2020-09-12T04:23:25.446662",
     "exception": false,
     "start_time": "2020-09-12T04:23:25.407687",
     "status": "completed"
    },
    "tags": []
   },
   "outputs": [
    {
     "data": {
      "text/html": [
       "<div>\n",
       "<style scoped>\n",
       "    .dataframe tbody tr th:only-of-type {\n",
       "        vertical-align: middle;\n",
       "    }\n",
       "\n",
       "    .dataframe tbody tr th {\n",
       "        vertical-align: top;\n",
       "    }\n",
       "\n",
       "    .dataframe thead th {\n",
       "        text-align: right;\n",
       "    }\n",
       "</style>\n",
       "<table border=\"1\" class=\"dataframe\">\n",
       "  <thead>\n",
       "    <tr style=\"text-align: right;\">\n",
       "      <th></th>\n",
       "      <th>states</th>\n",
       "      <th>Cases</th>\n",
       "      <th>Deaths</th>\n",
       "      <th>PCases</th>\n",
       "      <th>PDeaths</th>\n",
       "    </tr>\n",
       "  </thead>\n",
       "  <tbody>\n",
       "    <tr>\n",
       "      <th>0</th>\n",
       "      <td>Maharashtra</td>\n",
       "      <td>1015681</td>\n",
       "      <td>28724</td>\n",
       "      <td>1015681</td>\n",
       "      <td>28724</td>\n",
       "    </tr>\n",
       "    <tr>\n",
       "      <th>1</th>\n",
       "      <td>Andhra Pradesh</td>\n",
       "      <td>547686</td>\n",
       "      <td>4779</td>\n",
       "      <td>547686</td>\n",
       "      <td>4779</td>\n",
       "    </tr>\n",
       "    <tr>\n",
       "      <th>2</th>\n",
       "      <td>Tamil Nadu</td>\n",
       "      <td>491571</td>\n",
       "      <td>8234</td>\n",
       "      <td>491571</td>\n",
       "      <td>8234</td>\n",
       "    </tr>\n",
       "    <tr>\n",
       "      <th>3</th>\n",
       "      <td>Karnataka</td>\n",
       "      <td>440411</td>\n",
       "      <td>7067</td>\n",
       "      <td>440411</td>\n",
       "      <td>7067</td>\n",
       "    </tr>\n",
       "    <tr>\n",
       "      <th>4</th>\n",
       "      <td>Uttar Pradesh</td>\n",
       "      <td>299045</td>\n",
       "      <td>4282</td>\n",
       "      <td>299045</td>\n",
       "      <td>4282</td>\n",
       "    </tr>\n",
       "  </tbody>\n",
       "</table>\n",
       "</div>"
      ],
      "text/plain": [
       "           states    Cases  Deaths   PCases  PDeaths\n",
       "0     Maharashtra  1015681   28724  1015681    28724\n",
       "1  Andhra Pradesh   547686    4779   547686     4779\n",
       "2      Tamil Nadu   491571    8234   491571     8234\n",
       "3       Karnataka   440411    7067   440411     7067\n",
       "4   Uttar Pradesh   299045    4282   299045     4282"
      ]
     },
     "execution_count": 11,
     "metadata": {},
     "output_type": "execute_result"
    }
   ],
   "source": [
    "#hide\n",
    "df_table = pd.DataFrame({'states': dfc_cases.index, 'Cases': dfc_cases.values, 'Deaths': dfc_deaths.values, 'PCases': dfp_cases.values, 'PDeaths': dfp_deaths.values}).set_index('states')\n",
    "df_table = df_table.sort_values(by = ['Cases','Deaths'], ascending = [False, False])\n",
    "df_table = df_table.reset_index()\n",
    "df_table.head()"
   ]
  },
  {
   "cell_type": "code",
   "execution_count": 12,
   "metadata": {
    "execution": {
     "iopub.execute_input": "2020-09-12T04:23:25.494929Z",
     "iopub.status.busy": "2020-09-12T04:23:25.488193Z",
     "iopub.status.idle": "2020-09-12T04:23:25.497238Z",
     "shell.execute_reply": "2020-09-12T04:23:25.496741Z"
    },
    "papermill": {
     "duration": 0.033396,
     "end_time": "2020-09-12T04:23:25.497377",
     "exception": false,
     "start_time": "2020-09-12T04:23:25.463981",
     "status": "completed"
    },
    "tags": []
   },
   "outputs": [],
   "source": [
    "#hide\n",
    "for c in 'Cases, Deaths'.split(', '):\n",
    "    df_table[f'{c} (+)'] = (df_table[c] - df_table[f'P{c}']).clip(0)\n",
    "df_table['Fatality Rate'] = (100* df_table['Deaths']/ df_table['Cases']).round(2)"
   ]
  },
  {
   "cell_type": "code",
   "execution_count": 13,
   "metadata": {
    "execution": {
     "iopub.execute_input": "2020-09-12T04:23:25.541781Z",
     "iopub.status.busy": "2020-09-12T04:23:25.540912Z",
     "iopub.status.idle": "2020-09-12T04:23:25.552637Z",
     "shell.execute_reply": "2020-09-12T04:23:25.553243Z"
    },
    "papermill": {
     "duration": 0.038942,
     "end_time": "2020-09-12T04:23:25.553417",
     "exception": false,
     "start_time": "2020-09-12T04:23:25.514475",
     "status": "completed"
    },
    "tags": []
   },
   "outputs": [
    {
     "data": {
      "text/html": [
       "<div>\n",
       "<style scoped>\n",
       "    .dataframe tbody tr th:only-of-type {\n",
       "        vertical-align: middle;\n",
       "    }\n",
       "\n",
       "    .dataframe tbody tr th {\n",
       "        vertical-align: top;\n",
       "    }\n",
       "\n",
       "    .dataframe thead th {\n",
       "        text-align: right;\n",
       "    }\n",
       "</style>\n",
       "<table border=\"1\" class=\"dataframe\">\n",
       "  <thead>\n",
       "    <tr style=\"text-align: right;\">\n",
       "      <th></th>\n",
       "      <th>states</th>\n",
       "      <th>Cases</th>\n",
       "      <th>Deaths</th>\n",
       "      <th>PCases</th>\n",
       "      <th>PDeaths</th>\n",
       "      <th>Cases (+)</th>\n",
       "      <th>Deaths (+)</th>\n",
       "      <th>Fatality Rate</th>\n",
       "    </tr>\n",
       "  </thead>\n",
       "  <tbody>\n",
       "    <tr>\n",
       "      <th>0</th>\n",
       "      <td>Maharashtra</td>\n",
       "      <td>1015681</td>\n",
       "      <td>28724</td>\n",
       "      <td>1015681</td>\n",
       "      <td>28724</td>\n",
       "      <td>0</td>\n",
       "      <td>0</td>\n",
       "      <td>2.83</td>\n",
       "    </tr>\n",
       "    <tr>\n",
       "      <th>1</th>\n",
       "      <td>Andhra Pradesh</td>\n",
       "      <td>547686</td>\n",
       "      <td>4779</td>\n",
       "      <td>547686</td>\n",
       "      <td>4779</td>\n",
       "      <td>0</td>\n",
       "      <td>0</td>\n",
       "      <td>0.87</td>\n",
       "    </tr>\n",
       "    <tr>\n",
       "      <th>2</th>\n",
       "      <td>Tamil Nadu</td>\n",
       "      <td>491571</td>\n",
       "      <td>8234</td>\n",
       "      <td>491571</td>\n",
       "      <td>8234</td>\n",
       "      <td>0</td>\n",
       "      <td>0</td>\n",
       "      <td>1.68</td>\n",
       "    </tr>\n",
       "    <tr>\n",
       "      <th>3</th>\n",
       "      <td>Karnataka</td>\n",
       "      <td>440411</td>\n",
       "      <td>7067</td>\n",
       "      <td>440411</td>\n",
       "      <td>7067</td>\n",
       "      <td>0</td>\n",
       "      <td>0</td>\n",
       "      <td>1.60</td>\n",
       "    </tr>\n",
       "    <tr>\n",
       "      <th>4</th>\n",
       "      <td>Uttar Pradesh</td>\n",
       "      <td>299045</td>\n",
       "      <td>4282</td>\n",
       "      <td>299045</td>\n",
       "      <td>4282</td>\n",
       "      <td>0</td>\n",
       "      <td>0</td>\n",
       "      <td>1.43</td>\n",
       "    </tr>\n",
       "  </tbody>\n",
       "</table>\n",
       "</div>"
      ],
      "text/plain": [
       "           states    Cases  Deaths   PCases  PDeaths  Cases (+)  Deaths (+)  \\\n",
       "0     Maharashtra  1015681   28724  1015681    28724          0           0   \n",
       "1  Andhra Pradesh   547686    4779   547686     4779          0           0   \n",
       "2      Tamil Nadu   491571    8234   491571     8234          0           0   \n",
       "3       Karnataka   440411    7067   440411     7067          0           0   \n",
       "4   Uttar Pradesh   299045    4282   299045     4282          0           0   \n",
       "\n",
       "   Fatality Rate  \n",
       "0           2.83  \n",
       "1           0.87  \n",
       "2           1.68  \n",
       "3           1.60  \n",
       "4           1.43  "
      ]
     },
     "execution_count": 13,
     "metadata": {},
     "output_type": "execute_result"
    }
   ],
   "source": [
    "#hide\n",
    "df_table.head()"
   ]
  },
  {
   "cell_type": "code",
   "execution_count": 14,
   "metadata": {
    "execution": {
     "iopub.execute_input": "2020-09-12T04:23:25.890192Z",
     "iopub.status.busy": "2020-09-12T04:23:25.889519Z",
     "iopub.status.idle": "2020-09-12T04:23:25.895512Z",
     "shell.execute_reply": "2020-09-12T04:23:25.896039Z"
    },
    "papermill": {
     "duration": 0.1866,
     "end_time": "2020-09-12T04:23:25.896216",
     "exception": false,
     "start_time": "2020-09-12T04:23:25.709616",
     "status": "completed"
    },
    "tags": []
   },
   "outputs": [
    {
     "data": {
      "text/plain": [
       "{'updated': '2020-09-12',\n",
       " 'since': '2020-09-11',\n",
       " 'Cases': 4659663,\n",
       " 'PCases': 4657379,\n",
       " 'Deaths': 77516,\n",
       " 'PDeaths': 77506,\n",
       " 'Cases (+)': 2284,\n",
       " 'Deaths (+)': 10}"
      ]
     },
     "execution_count": 14,
     "metadata": {},
     "output_type": "execute_result"
    }
   ],
   "source": [
    "#hide\n",
    "summary = {'updated':dates[-1], 'since':dates[-2]}\n",
    "list_names = ['Cases', 'PCases', 'Deaths', 'PDeaths', 'Cases (+)', 'Deaths (+)']\n",
    "for name in list_names:\n",
    "    summary[name] = df_table.sum()[name]\n",
    "summary"
   ]
  },
  {
   "cell_type": "code",
   "execution_count": 15,
   "metadata": {
    "execution": {
     "iopub.execute_input": "2020-09-12T04:23:25.936343Z",
     "iopub.status.busy": "2020-09-12T04:23:25.935675Z",
     "iopub.status.idle": "2020-09-12T04:23:25.938005Z",
     "shell.execute_reply": "2020-09-12T04:23:25.937499Z"
    },
    "papermill": {
     "duration": 0.023835,
     "end_time": "2020-09-12T04:23:25.938142",
     "exception": false,
     "start_time": "2020-09-12T04:23:25.914307",
     "status": "completed"
    },
    "tags": []
   },
   "outputs": [],
   "source": [
    "#hide\n",
    "overview = '''\n",
    "<!-- #######  HTML!! #########-->\n",
    "<h1 style=\"color: #5e9ca0; text-align: center;\">India</h1>\n",
    "<p style=\"text-align: center;\">Last update: <strong>{update}</strong></p>\n",
    "<p style=\"text-align: center;\">Confirmed cases:</p>\n",
    "<p style=\"text-align: center;font-size:24px;\">{cases} (<span style=\"color: #ff0000;\">+{new}</span>)</p>\n",
    "<p style=\"text-align: center;\">Confirmed deaths:</p>\n",
    "<p style=\"text-align: center;font-size:24px;\">{deaths} (<span style=\"color: #ff0000;\">+{dnew}</span>)</p>\n",
    "'''"
   ]
  },
  {
   "cell_type": "code",
   "execution_count": 16,
   "metadata": {
    "execution": {
     "iopub.execute_input": "2020-09-12T04:23:25.978544Z",
     "iopub.status.busy": "2020-09-12T04:23:25.977909Z",
     "iopub.status.idle": "2020-09-12T04:23:25.981587Z",
     "shell.execute_reply": "2020-09-12T04:23:25.981098Z"
    },
    "papermill": {
     "duration": 0.026755,
     "end_time": "2020-09-12T04:23:25.981725",
     "exception": false,
     "start_time": "2020-09-12T04:23:25.954970",
     "status": "completed"
    },
    "tags": []
   },
   "outputs": [
    {
     "data": {
      "text/html": [
       "\n",
       "<!-- #######  HTML!! #########-->\n",
       "<h1 style=\"color: #5e9ca0; text-align: center;\">India</h1>\n",
       "<p style=\"text-align: center;\">Last update: <strong>2020-09-12</strong></p>\n",
       "<p style=\"text-align: center;\">Confirmed cases:</p>\n",
       "<p style=\"text-align: center;font-size:24px;\">4659663 (<span style=\"color: #ff0000;\">+2284</span>)</p>\n",
       "<p style=\"text-align: center;\">Confirmed deaths:</p>\n",
       "<p style=\"text-align: center;font-size:24px;\">77516 (<span style=\"color: #ff0000;\">+10</span>)</p>\n"
      ],
      "text/plain": [
       "<IPython.core.display.HTML object>"
      ]
     },
     "metadata": {},
     "output_type": "display_data"
    }
   ],
   "source": [
    "#hide_input\n",
    "update = summary['updated']\n",
    "cases = summary['Cases']\n",
    "new = summary['Cases (+)']\n",
    "deaths = summary['Deaths']\n",
    "dnew = summary['Deaths (+)']\n",
    "\n",
    "html = HTML(overview.format(update=update, cases=cases,new=new,deaths=deaths,dnew=dnew))\n",
    "\n",
    "display(html)"
   ]
  },
  {
   "cell_type": "code",
   "execution_count": 17,
   "metadata": {
    "execution": {
     "iopub.execute_input": "2020-09-12T04:23:26.024812Z",
     "iopub.status.busy": "2020-09-12T04:23:26.024182Z",
     "iopub.status.idle": "2020-09-12T04:23:26.030543Z",
     "shell.execute_reply": "2020-09-12T04:23:26.031125Z"
    },
    "papermill": {
     "duration": 0.032203,
     "end_time": "2020-09-12T04:23:26.031287",
     "exception": false,
     "start_time": "2020-09-12T04:23:25.999084",
     "status": "completed"
    },
    "tags": []
   },
   "outputs": [],
   "source": [
    "#hide\n",
    "dt_cols = list(dft_cases.columns[1:])\n",
    "dft_ct_new_cases = dft_cases.groupby('state')[dt_cols].sum().diff(axis=1).fillna(0).astype(int)\n",
    "dft_ct_new_cases.sort_values(by = dates[-1], ascending = False,inplace = True)"
   ]
  },
  {
   "cell_type": "code",
   "execution_count": 18,
   "metadata": {
    "execution": {
     "iopub.execute_input": "2020-09-12T04:23:26.087764Z",
     "iopub.status.busy": "2020-09-12T04:23:26.087111Z",
     "iopub.status.idle": "2020-09-12T04:23:26.089542Z",
     "shell.execute_reply": "2020-09-12T04:23:26.090116Z"
    },
    "papermill": {
     "duration": 0.041547,
     "end_time": "2020-09-12T04:23:26.090281",
     "exception": false,
     "start_time": "2020-09-12T04:23:26.048734",
     "status": "completed"
    },
    "tags": []
   },
   "outputs": [
    {
     "data": {
      "text/html": [
       "<div>\n",
       "<style scoped>\n",
       "    .dataframe tbody tr th:only-of-type {\n",
       "        vertical-align: middle;\n",
       "    }\n",
       "\n",
       "    .dataframe tbody tr th {\n",
       "        vertical-align: top;\n",
       "    }\n",
       "\n",
       "    .dataframe thead th {\n",
       "        text-align: right;\n",
       "    }\n",
       "</style>\n",
       "<table border=\"1\" class=\"dataframe\">\n",
       "  <thead>\n",
       "    <tr style=\"text-align: right;\">\n",
       "      <th>states</th>\n",
       "      <th>2020-07-01</th>\n",
       "      <th>2020-07-02</th>\n",
       "      <th>2020-07-03</th>\n",
       "      <th>2020-07-04</th>\n",
       "      <th>2020-07-05</th>\n",
       "      <th>2020-07-06</th>\n",
       "      <th>2020-07-07</th>\n",
       "      <th>2020-07-08</th>\n",
       "      <th>2020-07-09</th>\n",
       "      <th>2020-07-10</th>\n",
       "      <th>...</th>\n",
       "      <th>2020-09-03</th>\n",
       "      <th>2020-09-04</th>\n",
       "      <th>2020-09-05</th>\n",
       "      <th>2020-09-06</th>\n",
       "      <th>2020-09-07</th>\n",
       "      <th>2020-09-08</th>\n",
       "      <th>2020-09-09</th>\n",
       "      <th>2020-09-10</th>\n",
       "      <th>2020-09-11</th>\n",
       "      <th>2020-09-12</th>\n",
       "    </tr>\n",
       "    <tr>\n",
       "      <th>state</th>\n",
       "      <th></th>\n",
       "      <th></th>\n",
       "      <th></th>\n",
       "      <th></th>\n",
       "      <th></th>\n",
       "      <th></th>\n",
       "      <th></th>\n",
       "      <th></th>\n",
       "      <th></th>\n",
       "      <th></th>\n",
       "      <th></th>\n",
       "      <th></th>\n",
       "      <th></th>\n",
       "      <th></th>\n",
       "      <th></th>\n",
       "      <th></th>\n",
       "      <th></th>\n",
       "      <th></th>\n",
       "      <th></th>\n",
       "      <th></th>\n",
       "      <th></th>\n",
       "    </tr>\n",
       "  </thead>\n",
       "  <tbody>\n",
       "    <tr>\n",
       "      <th>Telangana</th>\n",
       "      <td>0</td>\n",
       "      <td>1213</td>\n",
       "      <td>1892</td>\n",
       "      <td>1850</td>\n",
       "      <td>1590</td>\n",
       "      <td>1831</td>\n",
       "      <td>1879</td>\n",
       "      <td>1924</td>\n",
       "      <td>1410</td>\n",
       "      <td>1278</td>\n",
       "      <td>...</td>\n",
       "      <td>2817</td>\n",
       "      <td>2478</td>\n",
       "      <td>2511</td>\n",
       "      <td>2574</td>\n",
       "      <td>1802</td>\n",
       "      <td>2392</td>\n",
       "      <td>2479</td>\n",
       "      <td>2534</td>\n",
       "      <td>2426</td>\n",
       "      <td>2258</td>\n",
       "    </tr>\n",
       "    <tr>\n",
       "      <th>Mizoram</th>\n",
       "      <td>0</td>\n",
       "      <td>2</td>\n",
       "      <td>0</td>\n",
       "      <td>2</td>\n",
       "      <td>22</td>\n",
       "      <td>11</td>\n",
       "      <td>1</td>\n",
       "      <td>5</td>\n",
       "      <td>0</td>\n",
       "      <td>23</td>\n",
       "      <td>...</td>\n",
       "      <td>20</td>\n",
       "      <td>6</td>\n",
       "      <td>16</td>\n",
       "      <td>31</td>\n",
       "      <td>21</td>\n",
       "      <td>9</td>\n",
       "      <td>69</td>\n",
       "      <td>141</td>\n",
       "      <td>20</td>\n",
       "      <td>26</td>\n",
       "    </tr>\n",
       "    <tr>\n",
       "      <th>Andaman and Nicobar Islands</th>\n",
       "      <td>0</td>\n",
       "      <td>9</td>\n",
       "      <td>7</td>\n",
       "      <td>3</td>\n",
       "      <td>6</td>\n",
       "      <td>16</td>\n",
       "      <td>6</td>\n",
       "      <td>2</td>\n",
       "      <td>7</td>\n",
       "      <td>0</td>\n",
       "      <td>...</td>\n",
       "      <td>37</td>\n",
       "      <td>34</td>\n",
       "      <td>35</td>\n",
       "      <td>40</td>\n",
       "      <td>27</td>\n",
       "      <td>33</td>\n",
       "      <td>34</td>\n",
       "      <td>39</td>\n",
       "      <td>29</td>\n",
       "      <td>0</td>\n",
       "    </tr>\n",
       "    <tr>\n",
       "      <th>Puducherry</th>\n",
       "      <td>0</td>\n",
       "      <td>63</td>\n",
       "      <td>22</td>\n",
       "      <td>80</td>\n",
       "      <td>42</td>\n",
       "      <td>65</td>\n",
       "      <td>30</td>\n",
       "      <td>110</td>\n",
       "      <td>49</td>\n",
       "      <td>72</td>\n",
       "      <td>...</td>\n",
       "      <td>424</td>\n",
       "      <td>591</td>\n",
       "      <td>394</td>\n",
       "      <td>466</td>\n",
       "      <td>284</td>\n",
       "      <td>433</td>\n",
       "      <td>335</td>\n",
       "      <td>452</td>\n",
       "      <td>490</td>\n",
       "      <td>0</td>\n",
       "    </tr>\n",
       "    <tr>\n",
       "      <th>Maharashtra</th>\n",
       "      <td>0</td>\n",
       "      <td>6328</td>\n",
       "      <td>6364</td>\n",
       "      <td>7074</td>\n",
       "      <td>6555</td>\n",
       "      <td>5368</td>\n",
       "      <td>5134</td>\n",
       "      <td>6603</td>\n",
       "      <td>6875</td>\n",
       "      <td>7862</td>\n",
       "      <td>...</td>\n",
       "      <td>18105</td>\n",
       "      <td>19218</td>\n",
       "      <td>20800</td>\n",
       "      <td>23350</td>\n",
       "      <td>16429</td>\n",
       "      <td>20131</td>\n",
       "      <td>23577</td>\n",
       "      <td>23446</td>\n",
       "      <td>24886</td>\n",
       "      <td>0</td>\n",
       "    </tr>\n",
       "  </tbody>\n",
       "</table>\n",
       "<p>5 rows × 74 columns</p>\n",
       "</div>"
      ],
      "text/plain": [
       "states                       2020-07-01  2020-07-02  2020-07-03  2020-07-04  \\\n",
       "state                                                                         \n",
       "Telangana                             0        1213        1892        1850   \n",
       "Mizoram                               0           2           0           2   \n",
       "Andaman and Nicobar Islands           0           9           7           3   \n",
       "Puducherry                            0          63          22          80   \n",
       "Maharashtra                           0        6328        6364        7074   \n",
       "\n",
       "states                       2020-07-05  2020-07-06  2020-07-07  2020-07-08  \\\n",
       "state                                                                         \n",
       "Telangana                          1590        1831        1879        1924   \n",
       "Mizoram                              22          11           1           5   \n",
       "Andaman and Nicobar Islands           6          16           6           2   \n",
       "Puducherry                           42          65          30         110   \n",
       "Maharashtra                        6555        5368        5134        6603   \n",
       "\n",
       "states                       2020-07-09  2020-07-10  ...  2020-09-03  \\\n",
       "state                                                ...               \n",
       "Telangana                          1410        1278  ...        2817   \n",
       "Mizoram                               0          23  ...          20   \n",
       "Andaman and Nicobar Islands           7           0  ...          37   \n",
       "Puducherry                           49          72  ...         424   \n",
       "Maharashtra                        6875        7862  ...       18105   \n",
       "\n",
       "states                       2020-09-04  2020-09-05  2020-09-06  2020-09-07  \\\n",
       "state                                                                         \n",
       "Telangana                          2478        2511        2574        1802   \n",
       "Mizoram                               6          16          31          21   \n",
       "Andaman and Nicobar Islands          34          35          40          27   \n",
       "Puducherry                          591         394         466         284   \n",
       "Maharashtra                       19218       20800       23350       16429   \n",
       "\n",
       "states                       2020-09-08  2020-09-09  2020-09-10  2020-09-11  \\\n",
       "state                                                                         \n",
       "Telangana                          2392        2479        2534        2426   \n",
       "Mizoram                               9          69         141          20   \n",
       "Andaman and Nicobar Islands          33          34          39          29   \n",
       "Puducherry                          433         335         452         490   \n",
       "Maharashtra                       20131       23577       23446       24886   \n",
       "\n",
       "states                       2020-09-12  \n",
       "state                                    \n",
       "Telangana                          2258  \n",
       "Mizoram                              26  \n",
       "Andaman and Nicobar Islands           0  \n",
       "Puducherry                            0  \n",
       "Maharashtra                           0  \n",
       "\n",
       "[5 rows x 74 columns]"
      ]
     },
     "execution_count": 18,
     "metadata": {},
     "output_type": "execute_result"
    }
   ],
   "source": [
    "#hide\n",
    "dft_ct_new_cases.head()"
   ]
  },
  {
   "cell_type": "code",
   "execution_count": 19,
   "metadata": {
    "execution": {
     "iopub.execute_input": "2020-09-12T04:23:26.141535Z",
     "iopub.status.busy": "2020-09-12T04:23:26.130216Z",
     "iopub.status.idle": "2020-09-12T04:23:29.469528Z",
     "shell.execute_reply": "2020-09-12T04:23:29.470029Z"
    },
    "papermill": {
     "duration": 3.361909,
     "end_time": "2020-09-12T04:23:29.470191",
     "exception": false,
     "start_time": "2020-09-12T04:23:26.108282",
     "status": "completed"
    },
    "tags": []
   },
   "outputs": [
    {
     "data": {
      "image/png": "[encoded data removed]",
      "text/plain": [
       "<Figure size 1296x2016 with 11 Axes>"
      ]
     },
     "metadata": {
      "needs_background": "light"
     },
     "output_type": "display_data"
    }
   ],
   "source": [
    "#hide_input\n",
    "df = dft_ct_new_cases.copy()\n",
    "df.loc['Total'] = df.sum()\n",
    "n = 5\n",
    "ax = []\n",
    "fig = plt.figure(figsize = (18,28))\n",
    "gs = fig.add_gridspec(n+2, 5)\n",
    "# gs = fig.add_gridspec(2, 3)\n",
    "ax1 = fig.add_subplot(gs[0, :])\n",
    "ef = df.loc['Total'].rename_axis('date').reset_index()\n",
    "ef['date'] = ef['date'].astype('datetime64[ns]')\n",
    "ax1.bar(ef.date,ef.Total,alpha=0.3,color='#007acc')\n",
    "ax1.plot(ef.date,ef.Total , marker=\"o\", color='#007acc')\n",
    "ax1.xaxis.set_major_locator(mdates.WeekdayLocator())\n",
    "ax1.xaxis.set_major_formatter(mdates.DateFormatter('%b %d'))\n",
    "ax1.text(0.02, 0.5,'India daily case count', transform = ax1.transAxes, fontsize=25);\n",
    "ax1.spines['right'].set_visible(False)\n",
    "ax1.spines['top'].set_visible(False)\n",
    "\n",
    "ax2 = fig.add_subplot(gs[1,0])\n",
    "ef = df.loc['Maharashtra'].rename_axis('date').reset_index()\n",
    "ef['date'] = ef['date'].astype('datetime64[ns]')\n",
    "\n",
    "ax2.bar(ef.date, ef.Maharashtra,color = '#007acc',alpha=0.5)\n",
    "ax2.xaxis.set_major_locator(mdates.WeekdayLocator())\n",
    "ax2.xaxis.set_major_formatter(mdates.DateFormatter('%b %d'))\n",
    "ax2.set_xticks(ax2.get_xticks()[::3])\n",
    "maxyval = ef.Maharashtra.max()\n",
    "ax2.set_ylim([0,maxyval])\n",
    "ax2.text(0.05, 0.9,'Maharashtra', transform = ax2.transAxes, fontsize=20);\n",
    "ax2.spines['right'].set_visible(False)\n",
    "ax2.spines['top'].set_visible(False)\n",
    "\n",
    "\n",
    "ax3 = fig.add_subplot(gs[1,1])\n",
    "ef = df.loc['Tamil Nadu'].rename_axis('date').reset_index()\n",
    "ef['date'] = ef['date'].astype('datetime64[ns]')\n",
    "ax3.bar(ef.date, ef['Tamil Nadu'],color = '#007acc',alpha=0.5,)\n",
    "ax3.xaxis.set_major_locator(mdates.WeekdayLocator())\n",
    "ax3.xaxis.set_major_formatter(mdates.DateFormatter('%b %d'))\n",
    "ax3.set_xticks(ax3.get_xticks()[::3])\n",
    "ax3.text(0.05, 0.9,'Tamil Nadu', transform = ax3.transAxes, fontsize=20);\n",
    "ax3.spines['right'].set_visible(False)\n",
    "ax3.spines['top'].set_visible(False)\n",
    "\n",
    "ax5 = fig.add_subplot(gs[1,3])\n",
    "ef = df.loc['Telangana'].rename_axis('date').reset_index()\n",
    "ef['date'] = ef['date'].astype('datetime64[ns]')\n",
    "ax5.bar(ef.date, ef['Telangana'],color = '#007acc',alpha=0.5,)\n",
    "ax5.xaxis.set_major_locator(mdates.WeekdayLocator())\n",
    "ax5.xaxis.set_major_formatter(mdates.DateFormatter('%b %d'))\n",
    "ax5.set_xticks(ax5.get_xticks()[::3])\n",
    "ax5.text(0.05, 0.9,'Telangana', transform = ax5.transAxes, fontsize=20);\n",
    "ax5.spines['right'].set_visible(False)\n",
    "ax5.spines['top'].set_visible(False)\n",
    "\n",
    "ax6 = fig.add_subplot(gs[1,4])\n",
    "ef = df.loc['Andhra Pradesh'].rename_axis('date').reset_index()\n",
    "ef['date'] = ef['date'].astype('datetime64[ns]')\n",
    "ax6.bar(ef.date, ef['Andhra Pradesh'],color = '#007acc',alpha=0.5,)\n",
    "ax6.xaxis.set_major_locator(mdates.WeekdayLocator())\n",
    "ax6.xaxis.set_major_formatter(mdates.DateFormatter('%b %d'))\n",
    "ax6.set_xticks(ax6.get_xticks()[::3])\n",
    "ax6.text(0.05, 1,'Andhra Pradesh', transform = ax6.transAxes, fontsize=20);\n",
    "ax6.spines['right'].set_visible(False)\n",
    "ax6.spines['top'].set_visible(False)\n",
    "\n",
    "ax4 = fig.add_subplot(gs[1,2])\n",
    "ef = df.loc['Delhi'].rename_axis('date').reset_index()\n",
    "ef['date'] = ef['date'].astype('datetime64[ns]')\n",
    "ax4.bar(ef.date, ef.Delhi,color = '#007acc',alpha=0.5)\n",
    "ax4.set_xticks([])\n",
    "ax4.xaxis.set_major_locator(mdates.WeekdayLocator())\n",
    "ax4.xaxis.set_major_formatter(mdates.DateFormatter('%b %d'))\n",
    "ax4.set_xticks(ax4.get_xticks()[::3])\n",
    "ax4.spines['right'].set_visible(False)\n",
    "ax4.spines['top'].set_visible(False)\n",
    "\n",
    "ax4.text(0.05, 1,'Delhi', transform = ax4.transAxes, fontsize=20)\n",
    "\n",
    "for i in range(n):\n",
    "    \n",
    "    ax.append(fig.add_subplot(gs[i+2,:]))\n",
    "    ef = df.iloc[i+3].rename_axis('date').reset_index()\n",
    "    ef['date'] = ef['date'].astype('datetime64[ns]')\n",
    "    ax[i].bar(ef.date,ef.iloc[:,-1],color = '#007acc',alpha=0.3)\n",
    "    ax[i].plot(ef.date,ef.iloc[:,-1],marker='o',color='#007acc')\n",
    "    ax[i].text(0.02,0.5,f'{ef.columns.values[-1]}',transform = ax[i].transAxes, fontsize = 20);\n",
    "    ax[i].xaxis.set_major_locator(mdates.WeekdayLocator())\n",
    "    ax[i].xaxis.set_major_formatter(mdates.DateFormatter('%b %d'))\n",
    "    ax[i].set_ylim([0,7000])\n",
    "    ax[i].spines['right'].set_visible(False)\n",
    "    ax[i].spines['top'].set_visible(False)\n",
    "plt.tight_layout()\n"
   ]
  },
  {
   "cell_type": "code",
   "execution_count": 20,
   "metadata": {
    "execution": {
     "iopub.execute_input": "2020-09-12T04:23:29.528119Z",
     "iopub.status.busy": "2020-09-12T04:23:29.527249Z",
     "iopub.status.idle": "2020-09-12T04:23:29.532342Z",
     "shell.execute_reply": "2020-09-12T04:23:29.532804Z"
    },
    "papermill": {
     "duration": 0.038291,
     "end_time": "2020-09-12T04:23:29.532969",
     "exception": false,
     "start_time": "2020-09-12T04:23:29.494678",
     "status": "completed"
    },
    "tags": []
   },
   "outputs": [
    {
     "name": "stdout",
     "output_type": "stream",
     "text": [
      "                                   states    Cases  Deaths   PCases  PDeaths  Cases (+)  Deaths (+)  Fatality Rate\n",
      "                              Maharashtra  1015681   28724  1015681    28724          0           0           2.83\n",
      "                           Andhra Pradesh   547686    4779   547686     4779          0           0           0.87\n",
      "                               Tamil Nadu   491571    8234   491571     8234          0           0           1.68\n",
      "                                Karnataka   440411    7067   440411     7067          0           0           1.60\n",
      "                            Uttar Pradesh   299045    4282   299045     4282          0           0           1.43\n",
      "                                    Delhi   209748    4687   209748     4687          0           0           2.23\n",
      "                              West Bengal   196332    3828   196332     3828          0           0           1.95\n",
      "                                    Bihar   155445     797   155445      797          0           0           0.51\n",
      "                                Telangana   154860     950   152602      940       2258          10           0.61\n",
      "                                   Odisha   143117     658   143117      658          0           0           0.46\n",
      "                                    Assam   138339     430   138339      430          0           0           0.31\n",
      "                                  Gujarat   110971    3181   110971     3181          0           0           2.87\n",
      "                                   Kerala   102255     411   102255      411          0           0           0.40\n",
      "                                Rajasthan    99036    1207    99036     1207          0           0           1.22\n",
      "                                  Haryana    88332     932    88332      932          0           0           1.06\n",
      "                           Madhya Pradesh    83619    1691    83619     1691          0           0           2.02\n",
      "                                   Punjab    74616    2212    74616     2212          0           0           2.96\n",
      "                                Jharkhand    59040     532    59040      532          0           0           0.90\n",
      "                             Chhattisgarh    58643     518    58643      518          0           0           0.88\n",
      "                        Jammu and Kashmir    50712     854    50712      854          0           0           1.68\n",
      "                              Uttarakhand    29221     388    29221      388          0           0           1.33\n",
      "                                      Goa    23445     276    23445      276          0           0           1.18\n",
      "                               Puducherry    19026     365    19026      365          0           0           1.92\n",
      "                                  Tripura    17830     172    17830      172          0           0           0.96\n",
      "                         Himachal Pradesh     8784      70     8784       70          0           0           0.80\n",
      "                                  Manipur     7579      44     7579       44          0           0           0.58\n",
      "                               Chandigarh     7292      83     7292       83          0           0           1.14\n",
      "                        Arunachal Pradesh     5825      10     5825       10          0           0           0.17\n",
      "                                 Nagaland     4946       8     4946        8          0           0           0.16\n",
      "              Andaman and Nicobar Islands     3494      51     3494       51          0           0           1.46\n",
      "                                Meghalaya     3447      24     3447       24          0           0           0.70\n",
      "                                   Ladakh     3228      38     3228       38          0           0           1.18\n",
      " Dadra and Nagar Haveli and Daman and Diu     2682       2     2682        2          0           0           0.07\n",
      "                                   Sikkim     2026      11     2026       11          0           0           0.54\n",
      "                                  Mizoram     1379       0     1353        0         26           0           0.00\n",
      "                              Lakshadweep        0       0        0        0          0           0            NaN\n"
     ]
    }
   ],
   "source": [
    "#hide_input\n",
    "print(df_table.to_string(index=False))"
   ]
  },
  {
   "cell_type": "code",
   "execution_count": null,
   "metadata": {
    "papermill": {
     "duration": 0.035568,
     "end_time": "2020-09-12T04:23:29.592951",
     "exception": false,
     "start_time": "2020-09-12T04:23:29.557383",
     "status": "completed"
    },
    "tags": []
   },
   "outputs": [],
   "source": []
  },
  {
   "cell_type": "code",
   "execution_count": null,
   "metadata": {
    "papermill": {
     "duration": 0.025335,
     "end_time": "2020-09-12T04:23:29.648591",
     "exception": false,
     "start_time": "2020-09-12T04:23:29.623256",
     "status": "completed"
    },
    "tags": []
   },
   "outputs": [],
   "source": []
  }
 ],
 "metadata": {
  "kernelspec": {
   "display_name": "Python 3",
   "language": "python",
   "name": "python3"
  },
  "language_info": {
   "codemirror_mode": {
    "name": "ipython",
    "version": 3
   },
   "file_extension": ".py",
   "mimetype": "text/x-python",
   "name": "python",
   "nbconvert_exporter": "python",
   "pygments_lexer": "ipython3",
   "version": "3.6.12"
  },
  "papermill": {
   "duration": 10.356873,
   "end_time": "2020-09-12T04:23:31.156179",
   "environment_variables": {},
   "exception": null,
   "input_path": "latest.ipynb",
   "output_path": "latest.ipynb",
   "parameters": {},
   "start_time": "2020-09-12T04:23:20.799306",
   "version": "2.1.2"
  }
 },
 "nbformat": 4,
 "nbformat_minor": 4
}