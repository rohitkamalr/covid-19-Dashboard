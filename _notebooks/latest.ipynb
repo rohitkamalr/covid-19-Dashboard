{
 "cells": [
  {
   "cell_type": "markdown",
   "metadata": {
    "papermill": {
     "duration": 0.016119,
     "end_time": "2020-12-08T13:52:03.579239",
     "exception": false,
     "start_time": "2020-12-08T13:52:03.563120",
     "status": "completed"
    },
    "tags": []
   },
   "source": [
    "# Latest COVID-19 India Matplotlib Overview"
   ]
  },
  {
   "cell_type": "code",
   "execution_count": 1,
   "metadata": {
    "execution": {
     "iopub.execute_input": "2020-12-08T13:52:03.610314Z",
     "iopub.status.busy": "2020-12-08T13:52:03.609814Z",
     "iopub.status.idle": "2020-12-08T13:52:04.064617Z",
     "shell.execute_reply": "2020-12-08T13:52:04.064081Z"
    },
    "papermill": {
     "duration": 0.473103,
     "end_time": "2020-12-08T13:52:04.064776",
     "exception": false,
     "start_time": "2020-12-08T13:52:03.591673",
     "status": "completed"
    },
    "tags": []
   },
   "outputs": [],
   "source": [
    "#hide\n",
    "import pandas as pd\n",
    "import numpy as np\n",
    "import requests\n",
    "import json\n",
    "import matplotlib.pyplot as plt\n",
    "import matplotlib.dates as mdates\n",
    "import matplotlib as mpl\n",
    "from IPython.core.display import display,HTML\n",
    "%matplotlib inline\n",
    "from datetime import date"
   ]
  },
  {
   "cell_type": "code",
   "execution_count": 2,
   "metadata": {
    "execution": {
     "iopub.execute_input": "2020-12-08T13:52:04.095538Z",
     "iopub.status.busy": "2020-12-08T13:52:04.095077Z",
     "iopub.status.idle": "2020-12-08T13:52:04.281277Z",
     "shell.execute_reply": "2020-12-08T13:52:04.280829Z"
    },
    "papermill": {
     "duration": 0.204075,
     "end_time": "2020-12-08T13:52:04.281396",
     "exception": false,
     "start_time": "2020-12-08T13:52:04.077321",
     "status": "completed"
    },
    "tags": []
   },
   "outputs": [],
   "source": [
    "#hide\n",
    "df  = pd.read_csv('https://api.covid19india.org/csv/latest/states.csv')\n",
    "df = df[['Date','State','Confirmed','Deceased']]\n",
    "df = df.rename(columns={'Confirmed':'Cases', \"Deceased\":'Deaths'})\n",
    "df_cases = df[[\"Date\",'State','Cases']]\n",
    "df_deaths = df[['Date','State','Deaths']]\n",
    "df_cases1 = df_cases.groupby('Date')\n",
    "df_deaths1= df_deaths.groupby('Date')"
   ]
  },
  {
   "cell_type": "code",
   "execution_count": 3,
   "metadata": {
    "execution": {
     "iopub.execute_input": "2020-12-08T13:52:04.310316Z",
     "iopub.status.busy": "2020-12-08T13:52:04.309817Z",
     "iopub.status.idle": "2020-12-08T13:52:04.324558Z",
     "shell.execute_reply": "2020-12-08T13:52:04.324175Z"
    },
    "papermill": {
     "duration": 0.031267,
     "end_time": "2020-12-08T13:52:04.324673",
     "exception": false,
     "start_time": "2020-12-08T13:52:04.293406",
     "status": "completed"
    },
    "tags": []
   },
   "outputs": [],
   "source": [
    "#hide\n",
    "df_snap = pd.read_csv('data/SnapshotCases-28-July.csv')\n",
    "arr_states = df_snap['states'].unique()\n",
    "arr_dates = df['Date'].unique()\n",
    "df_snap = df_snap.set_index('states')"
   ]
  },
  {
   "cell_type": "code",
   "execution_count": 4,
   "metadata": {
    "execution": {
     "iopub.execute_input": "2020-12-08T13:52:04.354991Z",
     "iopub.status.busy": "2020-12-08T13:52:04.354511Z",
     "iopub.status.idle": "2020-12-08T13:52:04.356656Z",
     "shell.execute_reply": "2020-12-08T13:52:04.357012Z"
    },
    "papermill": {
     "duration": 0.020616,
     "end_time": "2020-12-08T13:52:04.357133",
     "exception": false,
     "start_time": "2020-12-08T13:52:04.336517",
     "status": "completed"
    },
    "tags": []
   },
   "outputs": [
    {
     "data": {
      "text/plain": [
       "array(['Andaman and Nicobar Islands', 'Andhra Pradesh',\n",
       "       'Arunachal Pradesh', 'Assam', 'Bihar', 'Chandigarh',\n",
       "       'Dadra and Nagar Haveli and Daman and Diu', 'Delhi', 'Goa',\n",
       "       'Gujarat', 'Haryana', 'Himachal Pradesh', 'Jammu and Kashmir',\n",
       "       'Jharkhand', 'Karnataka', 'Kerala', 'Lakshadweep',\n",
       "       'Madhya Pradesh', 'Maharashtra', 'Manipur', 'Meghalaya', 'Mizoram',\n",
       "       'Nagaland', 'Odisha', 'Puducherry', 'Punjab', 'Rajasthan',\n",
       "       'Sikkim', 'Tamil Nadu', 'Telangana', 'Tripura', 'Uttar Pradesh',\n",
       "       'West Bengal', 'Chhattisgarh', 'Ladakh', 'Uttarakhand'],\n",
       "      dtype=object)"
      ]
     },
     "execution_count": 4,
     "metadata": {},
     "output_type": "execute_result"
    }
   ],
   "source": [
    "#hide\n",
    "arr_states[-9] = 'Puducherry'\n",
    "arr_states[-10] = 'Odisha'\n",
    "arr_states[6] = 'Dadra and Nagar Haveli and Daman and Diu'\n",
    "arr_states = np.append(arr_states,np.array(['Chhattisgarh','Ladakh','Uttarakhand']))\n",
    "arr_states"
   ]
  },
  {
   "cell_type": "code",
   "execution_count": 5,
   "metadata": {
    "execution": {
     "iopub.execute_input": "2020-12-08T13:52:04.389798Z",
     "iopub.status.busy": "2020-12-08T13:52:04.389327Z",
     "iopub.status.idle": "2020-12-08T13:52:04.395299Z",
     "shell.execute_reply": "2020-12-08T13:52:04.395687Z"
    },
    "papermill": {
     "duration": 0.026696,
     "end_time": "2020-12-08T13:52:04.395814",
     "exception": false,
     "start_time": "2020-12-08T13:52:04.369118",
     "status": "completed"
    },
    "tags": []
   },
   "outputs": [],
   "source": [
    "#hide\n",
    "dates = []\n",
    "for i in arr_dates:\n",
    "    if i>='2020-07-01':\n",
    "        dates.append(i)\n",
    "dict = {'states':dates}\n",
    "for i in arr_states:\n",
    "    dict[i] = [0]*len(dates)\n",
    "dft_cases = pd.DataFrame(dict)\n",
    "dft_deaths = pd.DataFrame(dict)\n"
   ]
  },
  {
   "cell_type": "code",
   "execution_count": 6,
   "metadata": {
    "execution": {
     "iopub.execute_input": "2020-12-08T13:52:04.425700Z",
     "iopub.status.busy": "2020-12-08T13:52:04.424839Z",
     "iopub.status.idle": "2020-12-08T13:52:06.139015Z",
     "shell.execute_reply": "2020-12-08T13:52:06.138496Z"
    },
    "papermill": {
     "duration": 1.731161,
     "end_time": "2020-12-08T13:52:06.139159",
     "exception": false,
     "start_time": "2020-12-08T13:52:04.407998",
     "status": "completed"
    },
    "tags": []
   },
   "outputs": [],
   "source": [
    "#hide\n",
    "for i in range(len(dates)):\n",
    "    df1_deaths = df_deaths1.get_group(dates[i])\n",
    "    for j in range(len(df1_deaths.index)):\n",
    "        if df1_deaths.iloc[j,1] in arr_states:\n",
    "            dft_deaths.loc[i,df1_deaths.iloc[j,1]] = df1_deaths.iloc[j,2]\n",
    "dft_deaths = dft_deaths.set_index('states')"
   ]
  },
  {
   "cell_type": "code",
   "execution_count": 7,
   "metadata": {
    "execution": {
     "iopub.execute_input": "2020-12-08T13:52:06.170612Z",
     "iopub.status.busy": "2020-12-08T13:52:06.170155Z",
     "iopub.status.idle": "2020-12-08T13:52:07.890247Z",
     "shell.execute_reply": "2020-12-08T13:52:07.891006Z"
    },
    "papermill": {
     "duration": 1.738877,
     "end_time": "2020-12-08T13:52:07.891170",
     "exception": false,
     "start_time": "2020-12-08T13:52:06.152293",
     "status": "completed"
    },
    "tags": []
   },
   "outputs": [],
   "source": [
    "#hide\n",
    "for i in range(len(dates)):\n",
    "    df1_cases = df_cases1.get_group(dates[i])\n",
    "    for j in range(len(df1_cases.index)):\n",
    "        if df1_cases.iloc[j,1] in arr_states:\n",
    "            dft_cases.loc[i,df1_cases.iloc[j,1]] = df1_cases.iloc[j,2]\n",
    "dft_cases = dft_cases.set_index('states')"
   ]
  },
  {
   "cell_type": "code",
   "execution_count": 8,
   "metadata": {
    "execution": {
     "iopub.execute_input": "2020-12-08T13:52:07.922402Z",
     "iopub.status.busy": "2020-12-08T13:52:07.921806Z",
     "iopub.status.idle": "2020-12-08T13:52:07.924009Z",
     "shell.execute_reply": "2020-12-08T13:52:07.923497Z"
    },
    "papermill": {
     "duration": 0.019122,
     "end_time": "2020-12-08T13:52:07.924134",
     "exception": false,
     "start_time": "2020-12-08T13:52:07.905012",
     "status": "completed"
    },
    "tags": []
   },
   "outputs": [],
   "source": [
    "#hide\n",
    "dft_cases = dft_cases.T\n",
    "dft_deaths = dft_deaths.T\n",
    "dt_today = dates[-1]\n",
    "dt_yday = dates[-2]"
   ]
  },
  {
   "cell_type": "code",
   "execution_count": 9,
   "metadata": {
    "execution": {
     "iopub.execute_input": "2020-12-08T13:52:07.953612Z",
     "iopub.status.busy": "2020-12-08T13:52:07.953115Z",
     "iopub.status.idle": "2020-12-08T13:52:07.957762Z",
     "shell.execute_reply": "2020-12-08T13:52:07.958136Z"
    },
    "papermill": {
     "duration": 0.021301,
     "end_time": "2020-12-08T13:52:07.958251",
     "exception": false,
     "start_time": "2020-12-08T13:52:07.936950",
     "status": "completed"
    },
    "tags": []
   },
   "outputs": [],
   "source": [
    "#hide\n",
    "dft_cases = dft_cases.reset_index()\n",
    "dft_deaths = dft_deaths.reset_index()\n",
    "dft_cases = dft_cases.rename(columns = {'index':'state'})\n",
    "dft_deaths = dft_deaths.rename(columns = {'index':'state'})"
   ]
  },
  {
   "cell_type": "code",
   "execution_count": 10,
   "metadata": {
    "execution": {
     "iopub.execute_input": "2020-12-08T13:52:07.992795Z",
     "iopub.status.busy": "2020-12-08T13:52:07.992331Z",
     "iopub.status.idle": "2020-12-08T13:52:07.993885Z",
     "shell.execute_reply": "2020-12-08T13:52:07.994265Z"
    },
    "papermill": {
     "duration": 0.024219,
     "end_time": "2020-12-08T13:52:07.994385",
     "exception": false,
     "start_time": "2020-12-08T13:52:07.970166",
     "status": "completed"
    },
    "tags": []
   },
   "outputs": [],
   "source": [
    "#hide\n",
    "dfc_cases = dft_cases.groupby('state')[dt_today].sum()\n",
    "dfc_deaths = dft_deaths.groupby('state')[dt_today].sum()\n",
    "dfp_cases = dft_cases.groupby('state')[dt_yday].sum()\n",
    "dfp_deaths = dft_deaths.groupby('state')[dt_yday].sum()"
   ]
  },
  {
   "cell_type": "code",
   "execution_count": 11,
   "metadata": {
    "execution": {
     "iopub.execute_input": "2020-12-08T13:52:08.030497Z",
     "iopub.status.busy": "2020-12-08T13:52:08.030012Z",
     "iopub.status.idle": "2020-12-08T13:52:08.035369Z",
     "shell.execute_reply": "2020-12-08T13:52:08.035719Z"
    },
    "papermill": {
     "duration": 0.029313,
     "end_time": "2020-12-08T13:52:08.035842",
     "exception": false,
     "start_time": "2020-12-08T13:52:08.006529",
     "status": "completed"
    },
    "tags": []
   },
   "outputs": [
    {
     "data": {
      "text/html": [
       "<div>\n",
       "<style scoped>\n",
       "    .dataframe tbody tr th:only-of-type {\n",
       "        vertical-align: middle;\n",
       "    }\n",
       "\n",
       "    .dataframe tbody tr th {\n",
       "        vertical-align: top;\n",
       "    }\n",
       "\n",
       "    .dataframe thead th {\n",
       "        text-align: right;\n",
       "    }\n",
       "</style>\n",
       "<table border=\"1\" class=\"dataframe\">\n",
       "  <thead>\n",
       "    <tr style=\"text-align: right;\">\n",
       "      <th></th>\n",
       "      <th>states</th>\n",
       "      <th>Cases</th>\n",
       "      <th>Deaths</th>\n",
       "      <th>PCases</th>\n",
       "      <th>PDeaths</th>\n",
       "    </tr>\n",
       "  </thead>\n",
       "  <tbody>\n",
       "    <tr>\n",
       "      <th>0</th>\n",
       "      <td>Maharashtra</td>\n",
       "      <td>1855341</td>\n",
       "      <td>47774</td>\n",
       "      <td>1855341</td>\n",
       "      <td>47774</td>\n",
       "    </tr>\n",
       "    <tr>\n",
       "      <th>1</th>\n",
       "      <td>Karnataka</td>\n",
       "      <td>894004</td>\n",
       "      <td>11867</td>\n",
       "      <td>894004</td>\n",
       "      <td>11867</td>\n",
       "    </tr>\n",
       "    <tr>\n",
       "      <th>2</th>\n",
       "      <td>Andhra Pradesh</td>\n",
       "      <td>872288</td>\n",
       "      <td>7038</td>\n",
       "      <td>872288</td>\n",
       "      <td>7038</td>\n",
       "    </tr>\n",
       "    <tr>\n",
       "      <th>3</th>\n",
       "      <td>Tamil Nadu</td>\n",
       "      <td>791552</td>\n",
       "      <td>11809</td>\n",
       "      <td>791552</td>\n",
       "      <td>11809</td>\n",
       "    </tr>\n",
       "    <tr>\n",
       "      <th>4</th>\n",
       "      <td>Kerala</td>\n",
       "      <td>644697</td>\n",
       "      <td>2473</td>\n",
       "      <td>639665</td>\n",
       "      <td>2442</td>\n",
       "    </tr>\n",
       "  </tbody>\n",
       "</table>\n",
       "</div>"
      ],
      "text/plain": [
       "           states    Cases  Deaths   PCases  PDeaths\n",
       "0     Maharashtra  1855341   47774  1855341    47774\n",
       "1       Karnataka   894004   11867   894004    11867\n",
       "2  Andhra Pradesh   872288    7038   872288     7038\n",
       "3      Tamil Nadu   791552   11809   791552    11809\n",
       "4          Kerala   644697    2473   639665     2442"
      ]
     },
     "execution_count": 11,
     "metadata": {},
     "output_type": "execute_result"
    }
   ],
   "source": [
    "#hide\n",
    "df_table = pd.DataFrame({'states': dfc_cases.index, 'Cases': dfc_cases.values, 'Deaths': dfc_deaths.values, 'PCases': dfp_cases.values, 'PDeaths': dfp_deaths.values}).set_index('states')\n",
    "df_table = df_table.sort_values(by = ['Cases','Deaths'], ascending = [False, False])\n",
    "df_table = df_table.reset_index()\n",
    "df_table.head()"
   ]
  },
  {
   "cell_type": "code",
   "execution_count": 12,
   "metadata": {
    "execution": {
     "iopub.execute_input": "2020-12-08T13:52:08.064719Z",
     "iopub.status.busy": "2020-12-08T13:52:08.064222Z",
     "iopub.status.idle": "2020-12-08T13:52:08.071383Z",
     "shell.execute_reply": "2020-12-08T13:52:08.071009Z"
    },
    "papermill": {
     "duration": 0.023414,
     "end_time": "2020-12-08T13:52:08.071488",
     "exception": false,
     "start_time": "2020-12-08T13:52:08.048074",
     "status": "completed"
    },
    "tags": []
   },
   "outputs": [],
   "source": [
    "#hide\n",
    "for c in 'Cases, Deaths'.split(', '):\n",
    "    df_table[f'{c} (+)'] = (df_table[c] - df_table[f'P{c}']).clip(0)\n",
    "df_table['Fatality Rate'] = (100* df_table['Deaths']/ df_table['Cases']).round(2)"
   ]
  },
  {
   "cell_type": "code",
   "execution_count": 13,
   "metadata": {
    "execution": {
     "iopub.execute_input": "2020-12-08T13:52:08.103916Z",
     "iopub.status.busy": "2020-12-08T13:52:08.103453Z",
     "iopub.status.idle": "2020-12-08T13:52:08.106235Z",
     "shell.execute_reply": "2020-12-08T13:52:08.105843Z"
    },
    "papermill": {
     "duration": 0.022634,
     "end_time": "2020-12-08T13:52:08.106335",
     "exception": false,
     "start_time": "2020-12-08T13:52:08.083701",
     "status": "completed"
    },
    "tags": []
   },
   "outputs": [
    {
     "data": {
      "text/html": [
       "<div>\n",
       "<style scoped>\n",
       "    .dataframe tbody tr th:only-of-type {\n",
       "        vertical-align: middle;\n",
       "    }\n",
       "\n",
       "    .dataframe tbody tr th {\n",
       "        vertical-align: top;\n",
       "    }\n",
       "\n",
       "    .dataframe thead th {\n",
       "        text-align: right;\n",
       "    }\n",
       "</style>\n",
       "<table border=\"1\" class=\"dataframe\">\n",
       "  <thead>\n",
       "    <tr style=\"text-align: right;\">\n",
       "      <th></th>\n",
       "      <th>states</th>\n",
       "      <th>Cases</th>\n",
       "      <th>Deaths</th>\n",
       "      <th>PCases</th>\n",
       "      <th>PDeaths</th>\n",
       "      <th>Cases (+)</th>\n",
       "      <th>Deaths (+)</th>\n",
       "      <th>Fatality Rate</th>\n",
       "    </tr>\n",
       "  </thead>\n",
       "  <tbody>\n",
       "    <tr>\n",
       "      <th>0</th>\n",
       "      <td>Maharashtra</td>\n",
       "      <td>1855341</td>\n",
       "      <td>47774</td>\n",
       "      <td>1855341</td>\n",
       "      <td>47774</td>\n",
       "      <td>0</td>\n",
       "      <td>0</td>\n",
       "      <td>2.57</td>\n",
       "    </tr>\n",
       "    <tr>\n",
       "      <th>1</th>\n",
       "      <td>Karnataka</td>\n",
       "      <td>894004</td>\n",
       "      <td>11867</td>\n",
       "      <td>894004</td>\n",
       "      <td>11867</td>\n",
       "      <td>0</td>\n",
       "      <td>0</td>\n",
       "      <td>1.33</td>\n",
       "    </tr>\n",
       "    <tr>\n",
       "      <th>2</th>\n",
       "      <td>Andhra Pradesh</td>\n",
       "      <td>872288</td>\n",
       "      <td>7038</td>\n",
       "      <td>872288</td>\n",
       "      <td>7038</td>\n",
       "      <td>0</td>\n",
       "      <td>0</td>\n",
       "      <td>0.81</td>\n",
       "    </tr>\n",
       "    <tr>\n",
       "      <th>3</th>\n",
       "      <td>Tamil Nadu</td>\n",
       "      <td>791552</td>\n",
       "      <td>11809</td>\n",
       "      <td>791552</td>\n",
       "      <td>11809</td>\n",
       "      <td>0</td>\n",
       "      <td>0</td>\n",
       "      <td>1.49</td>\n",
       "    </tr>\n",
       "    <tr>\n",
       "      <th>4</th>\n",
       "      <td>Kerala</td>\n",
       "      <td>644697</td>\n",
       "      <td>2473</td>\n",
       "      <td>639665</td>\n",
       "      <td>2442</td>\n",
       "      <td>5032</td>\n",
       "      <td>31</td>\n",
       "      <td>0.38</td>\n",
       "    </tr>\n",
       "  </tbody>\n",
       "</table>\n",
       "</div>"
      ],
      "text/plain": [
       "           states    Cases  Deaths   PCases  PDeaths  Cases (+)  Deaths (+)  \\\n",
       "0     Maharashtra  1855341   47774  1855341    47774          0           0   \n",
       "1       Karnataka   894004   11867   894004    11867          0           0   \n",
       "2  Andhra Pradesh   872288    7038   872288     7038          0           0   \n",
       "3      Tamil Nadu   791552   11809   791552    11809          0           0   \n",
       "4          Kerala   644697    2473   639665     2442       5032          31   \n",
       "\n",
       "   Fatality Rate  \n",
       "0           2.57  \n",
       "1           1.33  \n",
       "2           0.81  \n",
       "3           1.49  \n",
       "4           0.38  "
      ]
     },
     "execution_count": 13,
     "metadata": {},
     "output_type": "execute_result"
    }
   ],
   "source": [
    "#hide\n",
    "df_table.head()"
   ]
  },
  {
   "cell_type": "code",
   "execution_count": 14,
   "metadata": {
    "execution": {
     "iopub.execute_input": "2020-12-08T13:52:08.136748Z",
     "iopub.status.busy": "2020-12-08T13:52:08.136309Z",
     "iopub.status.idle": "2020-12-08T13:52:08.149617Z",
     "shell.execute_reply": "2020-12-08T13:52:08.149941Z"
    },
    "papermill": {
     "duration": 0.03104,
     "end_time": "2020-12-08T13:52:08.150076",
     "exception": false,
     "start_time": "2020-12-08T13:52:08.119036",
     "status": "completed"
    },
    "tags": []
   },
   "outputs": [
    {
     "data": {
      "text/plain": [
       "{'updated': '2020-12-08',\n",
       " 'since': '2020-12-07',\n",
       " 'Cases': 9710037,\n",
       " 'PCases': 9703914,\n",
       " 'Deaths': 141036,\n",
       " 'PDeaths': 140996,\n",
       " 'Cases (+)': 6123,\n",
       " 'Deaths (+)': 40}"
      ]
     },
     "execution_count": 14,
     "metadata": {},
     "output_type": "execute_result"
    }
   ],
   "source": [
    "#hide\n",
    "summary = {'updated':dates[-1], 'since':dates[-2]}\n",
    "list_names = ['Cases', 'PCases', 'Deaths', 'PDeaths', 'Cases (+)', 'Deaths (+)']\n",
    "for name in list_names:\n",
    "    summary[name] = df_table.sum()[name]\n",
    "summary"
   ]
  },
  {
   "cell_type": "code",
   "execution_count": 15,
   "metadata": {
    "execution": {
     "iopub.execute_input": "2020-12-08T13:52:08.179877Z",
     "iopub.status.busy": "2020-12-08T13:52:08.179407Z",
     "iopub.status.idle": "2020-12-08T13:52:08.180979Z",
     "shell.execute_reply": "2020-12-08T13:52:08.181313Z"
    },
    "papermill": {
     "duration": 0.018529,
     "end_time": "2020-12-08T13:52:08.181433",
     "exception": false,
     "start_time": "2020-12-08T13:52:08.162904",
     "status": "completed"
    },
    "tags": []
   },
   "outputs": [],
   "source": [
    "#hide\n",
    "overview = '''\n",
    "<!-- #######  HTML!! #########-->\n",
    "<h1 style=\"color: #5e9ca0; text-align: center;\">India</h1>\n",
    "<p style=\"text-align: center;\">Last update: <strong>{update}</strong></p>\n",
    "<p style=\"text-align: center;\">Confirmed cases:</p>\n",
    "<p style=\"text-align: center;font-size:24px;\">{cases} (<span style=\"color: #ff0000;\">+{new}</span>)</p>\n",
    "<p style=\"text-align: center;\">Confirmed deaths:</p>\n",
    "<p style=\"text-align: center;font-size:24px;\">{deaths} (<span style=\"color: #ff0000;\">+{dnew}</span>)</p>\n",
    "'''"
   ]
  },
  {
   "cell_type": "code",
   "execution_count": 16,
   "metadata": {
    "execution": {
     "iopub.execute_input": "2020-12-08T13:52:08.211973Z",
     "iopub.status.busy": "2020-12-08T13:52:08.211523Z",
     "iopub.status.idle": "2020-12-08T13:52:08.214310Z",
     "shell.execute_reply": "2020-12-08T13:52:08.214692Z"
    },
    "papermill": {
     "duration": 0.020655,
     "end_time": "2020-12-08T13:52:08.214805",
     "exception": false,
     "start_time": "2020-12-08T13:52:08.194150",
     "status": "completed"
    },
    "tags": []
   },
   "outputs": [
    {
     "data": {
      "text/html": [
       "\n",
       "<!-- #######  HTML!! #########-->\n",
       "<h1 style=\"color: #5e9ca0; text-align: center;\">India</h1>\n",
       "<p style=\"text-align: center;\">Last update: <strong>2020-12-08</strong></p>\n",
       "<p style=\"text-align: center;\">Confirmed cases:</p>\n",
       "<p style=\"text-align: center;font-size:24px;\">9710037 (<span style=\"color: #ff0000;\">+6123</span>)</p>\n",
       "<p style=\"text-align: center;\">Confirmed deaths:</p>\n",
       "<p style=\"text-align: center;font-size:24px;\">141036 (<span style=\"color: #ff0000;\">+40</span>)</p>\n"
      ],
      "text/plain": [
       "<IPython.core.display.HTML object>"
      ]
     },
     "metadata": {},
     "output_type": "display_data"
    }
   ],
   "source": [
    "#hide_input\n",
    "update = summary['updated']\n",
    "cases = summary['Cases']\n",
    "new = summary['Cases (+)']\n",
    "deaths = summary['Deaths']\n",
    "dnew = summary['Deaths (+)']\n",
    "\n",
    "html = HTML(overview.format(update=update, cases=cases,new=new,deaths=deaths,dnew=dnew))\n",
    "\n",
    "display(html)"
   ]
  },
  {
   "cell_type": "code",
   "execution_count": 17,
   "metadata": {
    "execution": {
     "iopub.execute_input": "2020-12-08T13:52:08.247418Z",
     "iopub.status.busy": "2020-12-08T13:52:08.246898Z",
     "iopub.status.idle": "2020-12-08T13:52:08.252055Z",
     "shell.execute_reply": "2020-12-08T13:52:08.251685Z"
    },
    "papermill": {
     "duration": 0.024161,
     "end_time": "2020-12-08T13:52:08.252161",
     "exception": false,
     "start_time": "2020-12-08T13:52:08.228000",
     "status": "completed"
    },
    "tags": []
   },
   "outputs": [],
   "source": [
    "#hide\n",
    "dt_cols = list(dft_cases.columns[1:])\n",
    "dft_ct_new_cases = dft_cases.groupby('state')[dt_cols].sum().diff(axis=1).fillna(0).astype(int)\n",
    "dft_ct_new_cases.sort_values(by = dates[-1], ascending = False,inplace = True)"
   ]
  },
  {
   "cell_type": "code",
   "execution_count": 18,
   "metadata": {
    "execution": {
     "iopub.execute_input": "2020-12-08T13:52:08.292421Z",
     "iopub.status.busy": "2020-12-08T13:52:08.286249Z",
     "iopub.status.idle": "2020-12-08T13:52:08.295447Z",
     "shell.execute_reply": "2020-12-08T13:52:08.295804Z"
    },
    "papermill": {
     "duration": 0.030467,
     "end_time": "2020-12-08T13:52:08.295921",
     "exception": false,
     "start_time": "2020-12-08T13:52:08.265454",
     "status": "completed"
    },
    "tags": []
   },
   "outputs": [
    {
     "data": {
      "text/html": [
       "<div>\n",
       "<style scoped>\n",
       "    .dataframe tbody tr th:only-of-type {\n",
       "        vertical-align: middle;\n",
       "    }\n",
       "\n",
       "    .dataframe tbody tr th {\n",
       "        vertical-align: top;\n",
       "    }\n",
       "\n",
       "    .dataframe thead th {\n",
       "        text-align: right;\n",
       "    }\n",
       "</style>\n",
       "<table border=\"1\" class=\"dataframe\">\n",
       "  <thead>\n",
       "    <tr style=\"text-align: right;\">\n",
       "      <th>states</th>\n",
       "      <th>2020-07-01</th>\n",
       "      <th>2020-07-02</th>\n",
       "      <th>2020-07-03</th>\n",
       "      <th>2020-07-04</th>\n",
       "      <th>2020-07-05</th>\n",
       "      <th>2020-07-06</th>\n",
       "      <th>2020-07-07</th>\n",
       "      <th>2020-07-08</th>\n",
       "      <th>2020-07-09</th>\n",
       "      <th>2020-07-10</th>\n",
       "      <th>...</th>\n",
       "      <th>2020-11-29</th>\n",
       "      <th>2020-11-30</th>\n",
       "      <th>2020-12-01</th>\n",
       "      <th>2020-12-02</th>\n",
       "      <th>2020-12-03</th>\n",
       "      <th>2020-12-04</th>\n",
       "      <th>2020-12-05</th>\n",
       "      <th>2020-12-06</th>\n",
       "      <th>2020-12-07</th>\n",
       "      <th>2020-12-08</th>\n",
       "    </tr>\n",
       "    <tr>\n",
       "      <th>state</th>\n",
       "      <th></th>\n",
       "      <th></th>\n",
       "      <th></th>\n",
       "      <th></th>\n",
       "      <th></th>\n",
       "      <th></th>\n",
       "      <th></th>\n",
       "      <th></th>\n",
       "      <th></th>\n",
       "      <th></th>\n",
       "      <th></th>\n",
       "      <th></th>\n",
       "      <th></th>\n",
       "      <th></th>\n",
       "      <th></th>\n",
       "      <th></th>\n",
       "      <th></th>\n",
       "      <th></th>\n",
       "      <th></th>\n",
       "      <th></th>\n",
       "      <th></th>\n",
       "    </tr>\n",
       "  </thead>\n",
       "  <tbody>\n",
       "    <tr>\n",
       "      <th>Kerala</th>\n",
       "      <td>0</td>\n",
       "      <td>160</td>\n",
       "      <td>211</td>\n",
       "      <td>240</td>\n",
       "      <td>225</td>\n",
       "      <td>193</td>\n",
       "      <td>272</td>\n",
       "      <td>301</td>\n",
       "      <td>339</td>\n",
       "      <td>416</td>\n",
       "      <td>...</td>\n",
       "      <td>5643</td>\n",
       "      <td>3382</td>\n",
       "      <td>5375</td>\n",
       "      <td>6316</td>\n",
       "      <td>5376</td>\n",
       "      <td>5718</td>\n",
       "      <td>5848</td>\n",
       "      <td>4777</td>\n",
       "      <td>3272</td>\n",
       "      <td>5032</td>\n",
       "    </tr>\n",
       "    <tr>\n",
       "      <th>Telangana</th>\n",
       "      <td>0</td>\n",
       "      <td>1213</td>\n",
       "      <td>1892</td>\n",
       "      <td>1850</td>\n",
       "      <td>1590</td>\n",
       "      <td>1831</td>\n",
       "      <td>1879</td>\n",
       "      <td>1924</td>\n",
       "      <td>1410</td>\n",
       "      <td>1278</td>\n",
       "      <td>...</td>\n",
       "      <td>805</td>\n",
       "      <td>593</td>\n",
       "      <td>502</td>\n",
       "      <td>565</td>\n",
       "      <td>609</td>\n",
       "      <td>631</td>\n",
       "      <td>596</td>\n",
       "      <td>622</td>\n",
       "      <td>517</td>\n",
       "      <td>682</td>\n",
       "    </tr>\n",
       "    <tr>\n",
       "      <th>Odisha</th>\n",
       "      <td>0</td>\n",
       "      <td>229</td>\n",
       "      <td>561</td>\n",
       "      <td>495</td>\n",
       "      <td>469</td>\n",
       "      <td>456</td>\n",
       "      <td>571</td>\n",
       "      <td>527</td>\n",
       "      <td>577</td>\n",
       "      <td>755</td>\n",
       "      <td>...</td>\n",
       "      <td>518</td>\n",
       "      <td>418</td>\n",
       "      <td>378</td>\n",
       "      <td>480</td>\n",
       "      <td>434</td>\n",
       "      <td>377</td>\n",
       "      <td>409</td>\n",
       "      <td>393</td>\n",
       "      <td>368</td>\n",
       "      <td>349</td>\n",
       "    </tr>\n",
       "    <tr>\n",
       "      <th>Mizoram</th>\n",
       "      <td>0</td>\n",
       "      <td>2</td>\n",
       "      <td>0</td>\n",
       "      <td>2</td>\n",
       "      <td>22</td>\n",
       "      <td>11</td>\n",
       "      <td>1</td>\n",
       "      <td>5</td>\n",
       "      <td>0</td>\n",
       "      <td>23</td>\n",
       "      <td>...</td>\n",
       "      <td>17</td>\n",
       "      <td>2</td>\n",
       "      <td>22</td>\n",
       "      <td>22</td>\n",
       "      <td>12</td>\n",
       "      <td>7</td>\n",
       "      <td>25</td>\n",
       "      <td>21</td>\n",
       "      <td>2</td>\n",
       "      <td>32</td>\n",
       "    </tr>\n",
       "    <tr>\n",
       "      <th>Tripura</th>\n",
       "      <td>0</td>\n",
       "      <td>39</td>\n",
       "      <td>93</td>\n",
       "      <td>25</td>\n",
       "      <td>23</td>\n",
       "      <td>111</td>\n",
       "      <td>24</td>\n",
       "      <td>57</td>\n",
       "      <td>16</td>\n",
       "      <td>142</td>\n",
       "      <td>...</td>\n",
       "      <td>0</td>\n",
       "      <td>54</td>\n",
       "      <td>31</td>\n",
       "      <td>38</td>\n",
       "      <td>39</td>\n",
       "      <td>33</td>\n",
       "      <td>24</td>\n",
       "      <td>31</td>\n",
       "      <td>6</td>\n",
       "      <td>28</td>\n",
       "    </tr>\n",
       "  </tbody>\n",
       "</table>\n",
       "<p>5 rows × 161 columns</p>\n",
       "</div>"
      ],
      "text/plain": [
       "states     2020-07-01  2020-07-02  2020-07-03  2020-07-04  2020-07-05  \\\n",
       "state                                                                   \n",
       "Kerala              0         160         211         240         225   \n",
       "Telangana           0        1213        1892        1850        1590   \n",
       "Odisha              0         229         561         495         469   \n",
       "Mizoram             0           2           0           2          22   \n",
       "Tripura             0          39          93          25          23   \n",
       "\n",
       "states     2020-07-06  2020-07-07  2020-07-08  2020-07-09  2020-07-10  ...  \\\n",
       "state                                                                  ...   \n",
       "Kerala            193         272         301         339         416  ...   \n",
       "Telangana        1831        1879        1924        1410        1278  ...   \n",
       "Odisha            456         571         527         577         755  ...   \n",
       "Mizoram            11           1           5           0          23  ...   \n",
       "Tripura           111          24          57          16         142  ...   \n",
       "\n",
       "states     2020-11-29  2020-11-30  2020-12-01  2020-12-02  2020-12-03  \\\n",
       "state                                                                   \n",
       "Kerala           5643        3382        5375        6316        5376   \n",
       "Telangana         805         593         502         565         609   \n",
       "Odisha            518         418         378         480         434   \n",
       "Mizoram            17           2          22          22          12   \n",
       "Tripura             0          54          31          38          39   \n",
       "\n",
       "states     2020-12-04  2020-12-05  2020-12-06  2020-12-07  2020-12-08  \n",
       "state                                                                  \n",
       "Kerala           5718        5848        4777        3272        5032  \n",
       "Telangana         631         596         622         517         682  \n",
       "Odisha            377         409         393         368         349  \n",
       "Mizoram             7          25          21           2          32  \n",
       "Tripura            33          24          31           6          28  \n",
       "\n",
       "[5 rows x 161 columns]"
      ]
     },
     "execution_count": 18,
     "metadata": {},
     "output_type": "execute_result"
    }
   ],
   "source": [
    "#hide\n",
    "dft_ct_new_cases.head()"
   ]
  },
  {
   "cell_type": "code",
   "execution_count": 19,
   "metadata": {
    "execution": {
     "iopub.execute_input": "2020-12-08T13:52:08.347495Z",
     "iopub.status.busy": "2020-12-08T13:52:08.335714Z",
     "iopub.status.idle": "2020-12-08T13:52:12.980180Z",
     "shell.execute_reply": "2020-12-08T13:52:12.980542Z"
    },
    "papermill": {
     "duration": 4.670818,
     "end_time": "2020-12-08T13:52:12.980676",
     "exception": false,
     "start_time": "2020-12-08T13:52:08.309858",
     "status": "completed"
    },
    "tags": []
   },
   "outputs": [
    {
     "data": {
      "image/png": "[encoded data removed]",
      "text/plain": [
       "<Figure size 1296x2016 with 11 Axes>"
      ]
     },
     "metadata": {
      "needs_background": "light"
     },
     "output_type": "display_data"
    }
   ],
   "source": [
    "#hide_input\n",
    "df = dft_ct_new_cases.copy()\n",
    "df.loc['Total'] = df.sum()\n",
    "n = 5\n",
    "ax = []\n",
    "fig = plt.figure(figsize = (18,28))\n",
    "gs = fig.add_gridspec(n+2, 5)\n",
    "# gs = fig.add_gridspec(2, 3)\n",
    "ax1 = fig.add_subplot(gs[0, :])\n",
    "ef = df.loc['Total'].rename_axis('date').reset_index()\n",
    "ef['date'] = ef['date'].astype('datetime64[ns]')\n",
    "ax1.bar(ef.date,ef.Total,alpha=0.3,color='#007acc')\n",
    "ax1.plot(ef.date,ef.Total , marker=\"o\", color='#007acc')\n",
    "ax1.xaxis.set_major_locator(mdates.WeekdayLocator())\n",
    "ax1.xaxis.set_major_formatter(mdates.DateFormatter('%b %d'))\n",
    "ax1.text(0.02, 0.5,'India daily case count', transform = ax1.transAxes, fontsize=25);\n",
    "ax1.spines['right'].set_visible(False)\n",
    "ax1.spines['top'].set_visible(False)\n",
    "\n",
    "ax2 = fig.add_subplot(gs[1,0])\n",
    "ef = df.loc['Maharashtra'].rename_axis('date').reset_index()\n",
    "ef['date'] = ef['date'].astype('datetime64[ns]')\n",
    "\n",
    "ax2.bar(ef.date, ef.Maharashtra,color = '#007acc',alpha=0.5)\n",
    "ax2.xaxis.set_major_locator(mdates.WeekdayLocator())\n",
    "ax2.xaxis.set_major_formatter(mdates.DateFormatter('%b %d'))\n",
    "ax2.set_xticks(ax2.get_xticks()[::3])\n",
    "maxyval = ef.Maharashtra.max()\n",
    "ax2.set_ylim([0,maxyval])\n",
    "ax2.text(0.05, 0.9,'Maharashtra', transform = ax2.transAxes, fontsize=20);\n",
    "ax2.spines['right'].set_visible(False)\n",
    "ax2.spines['top'].set_visible(False)\n",
    "\n",
    "\n",
    "ax3 = fig.add_subplot(gs[1,1])\n",
    "ef = df.loc['Tamil Nadu'].rename_axis('date').reset_index()\n",
    "ef['date'] = ef['date'].astype('datetime64[ns]')\n",
    "ax3.bar(ef.date, ef['Tamil Nadu'],color = '#007acc',alpha=0.5,)\n",
    "ax3.xaxis.set_major_locator(mdates.WeekdayLocator())\n",
    "ax3.xaxis.set_major_formatter(mdates.DateFormatter('%b %d'))\n",
    "ax3.set_xticks(ax3.get_xticks()[::3])\n",
    "ax3.text(0.05, 0.9,'Tamil Nadu', transform = ax3.transAxes, fontsize=20);\n",
    "ax3.spines['right'].set_visible(False)\n",
    "ax3.spines['top'].set_visible(False)\n",
    "\n",
    "ax5 = fig.add_subplot(gs[1,3])\n",
    "ef = df.loc['Telangana'].rename_axis('date').reset_index()\n",
    "ef['date'] = ef['date'].astype('datetime64[ns]')\n",
    "ax5.bar(ef.date, ef['Telangana'],color = '#007acc',alpha=0.5,)\n",
    "ax5.xaxis.set_major_locator(mdates.WeekdayLocator())\n",
    "ax5.xaxis.set_major_formatter(mdates.DateFormatter('%b %d'))\n",
    "ax5.set_xticks(ax5.get_xticks()[::3])\n",
    "ax5.text(0.05, 0.9,'Telangana', transform = ax5.transAxes, fontsize=20);\n",
    "ax5.spines['right'].set_visible(False)\n",
    "ax5.spines['top'].set_visible(False)\n",
    "\n",
    "ax6 = fig.add_subplot(gs[1,4])\n",
    "ef = df.loc['Andhra Pradesh'].rename_axis('date').reset_index()\n",
    "ef['date'] = ef['date'].astype('datetime64[ns]')\n",
    "ax6.bar(ef.date, ef['Andhra Pradesh'],color = '#007acc',alpha=0.5,)\n",
    "ax6.xaxis.set_major_locator(mdates.WeekdayLocator())\n",
    "ax6.xaxis.set_major_formatter(mdates.DateFormatter('%b %d'))\n",
    "ax6.set_xticks(ax6.get_xticks()[::3])\n",
    "ax6.text(0.05, 1,'Andhra Pradesh', transform = ax6.transAxes, fontsize=20);\n",
    "ax6.spines['right'].set_visible(False)\n",
    "ax6.spines['top'].set_visible(False)\n",
    "\n",
    "ax4 = fig.add_subplot(gs[1,2])\n",
    "ef = df.loc['Delhi'].rename_axis('date').reset_index()\n",
    "ef['date'] = ef['date'].astype('datetime64[ns]')\n",
    "ax4.bar(ef.date, ef.Delhi,color = '#007acc',alpha=0.5)\n",
    "ax4.set_xticks([])\n",
    "ax4.xaxis.set_major_locator(mdates.WeekdayLocator())\n",
    "ax4.xaxis.set_major_formatter(mdates.DateFormatter('%b %d'))\n",
    "ax4.set_xticks(ax4.get_xticks()[::3])\n",
    "ax4.spines['right'].set_visible(False)\n",
    "ax4.spines['top'].set_visible(False)\n",
    "\n",
    "ax4.text(0.05, 1,'Delhi', transform = ax4.transAxes, fontsize=20)\n",
    "\n",
    "for i in range(n):\n",
    "    \n",
    "    ax.append(fig.add_subplot(gs[i+2,:]))\n",
    "    ef = df.iloc[i+3].rename_axis('date').reset_index()\n",
    "    ef['date'] = ef['date'].astype('datetime64[ns]')\n",
    "    ax[i].bar(ef.date,ef.iloc[:,-1],color = '#007acc',alpha=0.3)\n",
    "    ax[i].plot(ef.date,ef.iloc[:,-1],marker='o',color='#007acc')\n",
    "    ax[i].text(0.02,0.5,f'{ef.columns.values[-1]}',transform = ax[i].transAxes, fontsize = 20);\n",
    "    ax[i].xaxis.set_major_locator(mdates.WeekdayLocator())\n",
    "    ax[i].xaxis.set_major_formatter(mdates.DateFormatter('%b %d'))\n",
    "    ax[i].set_ylim([0,7000])\n",
    "    ax[i].spines['right'].set_visible(False)\n",
    "    ax[i].spines['top'].set_visible(False)\n",
    "plt.tight_layout()\n"
   ]
  },
  {
   "cell_type": "code",
   "execution_count": 20,
   "metadata": {
    "execution": {
     "iopub.execute_input": "2020-12-08T13:52:13.025049Z",
     "iopub.status.busy": "2020-12-08T13:52:13.024558Z",
     "iopub.status.idle": "2020-12-08T13:52:13.026339Z",
     "shell.execute_reply": "2020-12-08T13:52:13.026723Z"
    },
    "papermill": {
     "duration": 0.027762,
     "end_time": "2020-12-08T13:52:13.026850",
     "exception": false,
     "start_time": "2020-12-08T13:52:12.999088",
     "status": "completed"
    },
    "tags": []
   },
   "outputs": [
    {
     "name": "stdout",
     "output_type": "stream",
     "text": [
      "                                   states    Cases  Deaths   PCases  PDeaths  Cases (+)  Deaths (+)  Fatality Rate\n",
      "                              Maharashtra  1855341   47774  1855341    47774          0           0           2.57\n",
      "                                Karnataka   894004   11867   894004    11867          0           0           1.33\n",
      "                           Andhra Pradesh   872288    7038   872288     7038          0           0           0.81\n",
      "                               Tamil Nadu   791552   11809   791552    11809          0           0           1.49\n",
      "                                   Kerala   644697    2473   639665     2442       5032          31           0.38\n",
      "                                    Delhi   593924    9706   593924     9706          0           0           1.63\n",
      "                            Uttar Pradesh   556397    7944   556397     7944          0           0           1.43\n",
      "                              West Bengal   505054    8771   505054     8771          0           0           1.74\n",
      "                                   Odisha   321913    1837   321564     1831        349           6           0.57\n",
      "                                Rajasthan   282512    2448   282512     2448          0           0           0.87\n",
      "                                Telangana   274540    1477   273858     1474        682           3           0.54\n",
      "                             Chhattisgarh   248232    3010   248232     3010          0           0           1.21\n",
      "                                  Haryana   245288    2611   245288     2611          0           0           1.06\n",
      "                                    Bihar   239565    1297   239565     1297          0           0           0.54\n",
      "                                  Gujarat   220168    4095   220168     4095          0           0           1.86\n",
      "                           Madhya Pradesh   215957    3347   215957     3347          0           0           1.55\n",
      "                                    Assam   213925     995   213925      995          0           0           0.47\n",
      "                                   Punjab   156839    4934   156839     4934          0           0           3.15\n",
      "                        Jammu and Kashmir   113568    1755   113568     1755          0           0           1.55\n",
      "                                Jharkhand   110457     988   110457      988          0           0           0.89\n",
      "                              Uttarakhand    78509    1295    78509     1295          0           0           1.65\n",
      "                                      Goa    48776     701    48776      701          0           0           1.44\n",
      "                         Himachal Pradesh    45697     729    45697      729          0           0           1.60\n",
      "                               Puducherry    37270     615    37270      615          0           0           1.65\n",
      "                                  Tripura    32922     370    32894      370         28           0           1.12\n",
      "                                  Manipur    26225     309    26225      309          0           0           1.18\n",
      "                               Chandigarh    18113     293    18113      293          0           0           1.62\n",
      "                        Arunachal Pradesh    16395      55    16395       55          0           0           0.34\n",
      "                                Meghalaya    12314     120    12314      120          0           0           0.97\n",
      "                                 Nagaland    11418      66    11418       66          0           0           0.58\n",
      "                                   Ladakh     8896     121     8896      121          0           0           1.36\n",
      "                                   Sikkim     5200     117     5200      117          0           0           2.25\n",
      "              Andaman and Nicobar Islands     4773      61     4773       61          0           0           1.28\n",
      "                                  Mizoram     3968       6     3936        6         32           0           0.15\n",
      " Dadra and Nagar Haveli and Daman and Diu     3340       2     3340        2          0           0           0.06\n",
      "                              Lakshadweep        0       0        0        0          0           0            NaN\n"
     ]
    }
   ],
   "source": [
    "#hide_input\n",
    "print(df_table.to_string(index=False))"
   ]
  },
  {
   "cell_type": "code",
   "execution_count": null,
   "metadata": {
    "papermill": {
     "duration": 0.017814,
     "end_time": "2020-12-08T13:52:13.062410",
     "exception": false,
     "start_time": "2020-12-08T13:52:13.044596",
     "status": "completed"
    },
    "tags": []
   },
   "outputs": [],
   "source": []
  },
  {
   "cell_type": "code",
   "execution_count": null,
   "metadata": {
    "papermill": {
     "duration": 0.017551,
     "end_time": "2020-12-08T13:52:13.097660",
     "exception": false,
     "start_time": "2020-12-08T13:52:13.080109",
     "status": "completed"
    },
    "tags": []
   },
   "outputs": [],
   "source": []
  }
 ],
 "metadata": {
  "kernelspec": {
   "display_name": "Python 3",
   "language": "python",
   "name": "python3"
  },
  "language_info": {
   "codemirror_mode": {
    "name": "ipython",
    "version": 3
   },
   "file_extension": ".py",
   "mimetype": "text/x-python",
   "name": "python",
   "nbconvert_exporter": "python",
   "pygments_lexer": "ipython3",
   "version": "3.6.12"
  },
  "papermill": {
   "duration": 10.919144,
   "end_time": "2020-12-08T13:52:13.622841",
   "environment_variables": {},
   "exception": null,
   "input_path": "latest.ipynb",
   "output_path": "latest.ipynb",
   "parameters": {},
   "start_time": "2020-12-08T13:52:02.703697",
   "version": "2.1.2"
  }
 },
 "nbformat": 4,
 "nbformat_minor": 4
}