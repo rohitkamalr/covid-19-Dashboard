{
 "cells": [
  {
   "cell_type": "markdown",
   "metadata": {
    "papermill": {
     "duration": 0.01916,
     "end_time": "2021-01-19T12:08:36.157612",
     "exception": false,
     "start_time": "2021-01-19T12:08:36.138452",
     "status": "completed"
    },
    "tags": []
   },
   "source": [
    "# Latest COVID-19 India Matplotlib Overview"
   ]
  },
  {
   "cell_type": "code",
   "execution_count": 1,
   "metadata": {
    "execution": {
     "iopub.execute_input": "2021-01-19T12:08:36.204951Z",
     "iopub.status.busy": "2021-01-19T12:08:36.204347Z",
     "iopub.status.idle": "2021-01-19T12:08:36.766108Z",
     "shell.execute_reply": "2021-01-19T12:08:36.764662Z"
    },
    "papermill": {
     "duration": 0.593075,
     "end_time": "2021-01-19T12:08:36.766401",
     "exception": false,
     "start_time": "2021-01-19T12:08:36.173326",
     "status": "completed"
    },
    "tags": []
   },
   "outputs": [],
   "source": [
    "#hide\n",
    "import pandas as pd\n",
    "import numpy as np\n",
    "import requests\n",
    "import json\n",
    "import matplotlib.pyplot as plt\n",
    "import matplotlib.dates as mdates\n",
    "import matplotlib as mpl\n",
    "from IPython.core.display import display,HTML\n",
    "%matplotlib inline\n",
    "from datetime import date"
   ]
  },
  {
   "cell_type": "code",
   "execution_count": 2,
   "metadata": {
    "execution": {
     "iopub.execute_input": "2021-01-19T12:08:36.808622Z",
     "iopub.status.busy": "2021-01-19T12:08:36.808016Z",
     "iopub.status.idle": "2021-01-19T12:08:37.155179Z",
     "shell.execute_reply": "2021-01-19T12:08:37.155702Z"
    },
    "papermill": {
     "duration": 0.37341,
     "end_time": "2021-01-19T12:08:37.155874",
     "exception": false,
     "start_time": "2021-01-19T12:08:36.782464",
     "status": "completed"
    },
    "tags": []
   },
   "outputs": [],
   "source": [
    "#hide\n",
    "df  = pd.read_csv('https://api.covid19india.org/csv/latest/states.csv')\n",
    "df = df[['Date','State','Confirmed','Deceased']]\n",
    "df = df.rename(columns={'Confirmed':'Cases', \"Deceased\":'Deaths'})\n",
    "df_cases = df[[\"Date\",'State','Cases']]\n",
    "df_deaths = df[['Date','State','Deaths']]\n",
    "df_cases1 = df_cases.groupby('Date')\n",
    "df_deaths1= df_deaths.groupby('Date')"
   ]
  },
  {
   "cell_type": "code",
   "execution_count": 3,
   "metadata": {
    "execution": {
     "iopub.execute_input": "2021-01-19T12:08:37.191662Z",
     "iopub.status.busy": "2021-01-19T12:08:37.190966Z",
     "iopub.status.idle": "2021-01-19T12:08:37.207961Z",
     "shell.execute_reply": "2021-01-19T12:08:37.208362Z"
    },
    "papermill": {
     "duration": 0.037581,
     "end_time": "2021-01-19T12:08:37.208505",
     "exception": false,
     "start_time": "2021-01-19T12:08:37.170924",
     "status": "completed"
    },
    "tags": []
   },
   "outputs": [],
   "source": [
    "#hide\n",
    "df_snap = pd.read_csv('data/SnapshotCases-28-July.csv')\n",
    "arr_states = df_snap['states'].unique()\n",
    "arr_dates = df['Date'].unique()\n",
    "df_snap = df_snap.set_index('states')"
   ]
  },
  {
   "cell_type": "code",
   "execution_count": 4,
   "metadata": {
    "execution": {
     "iopub.execute_input": "2021-01-19T12:08:37.243287Z",
     "iopub.status.busy": "2021-01-19T12:08:37.242707Z",
     "iopub.status.idle": "2021-01-19T12:08:37.246517Z",
     "shell.execute_reply": "2021-01-19T12:08:37.246980Z"
    },
    "papermill": {
     "duration": 0.025136,
     "end_time": "2021-01-19T12:08:37.247109",
     "exception": false,
     "start_time": "2021-01-19T12:08:37.221973",
     "status": "completed"
    },
    "tags": []
   },
   "outputs": [
    {
     "data": {
      "text/plain": [
       "array(['Andaman and Nicobar Islands', 'Andhra Pradesh',\n",
       "       'Arunachal Pradesh', 'Assam', 'Bihar', 'Chandigarh',\n",
       "       'Dadra and Nagar Haveli and Daman and Diu', 'Delhi', 'Goa',\n",
       "       'Gujarat', 'Haryana', 'Himachal Pradesh', 'Jammu and Kashmir',\n",
       "       'Jharkhand', 'Karnataka', 'Kerala', 'Lakshadweep',\n",
       "       'Madhya Pradesh', 'Maharashtra', 'Manipur', 'Meghalaya', 'Mizoram',\n",
       "       'Nagaland', 'Odisha', 'Puducherry', 'Punjab', 'Rajasthan',\n",
       "       'Sikkim', 'Tamil Nadu', 'Telangana', 'Tripura', 'Uttar Pradesh',\n",
       "       'West Bengal', 'Chhattisgarh', 'Ladakh', 'Uttarakhand'],\n",
       "      dtype=object)"
      ]
     },
     "execution_count": 4,
     "metadata": {},
     "output_type": "execute_result"
    }
   ],
   "source": [
    "#hide\n",
    "arr_states[-9] = 'Puducherry'\n",
    "arr_states[-10] = 'Odisha'\n",
    "arr_states[6] = 'Dadra and Nagar Haveli and Daman and Diu'\n",
    "arr_states = np.append(arr_states,np.array(['Chhattisgarh','Ladakh','Uttarakhand']))\n",
    "arr_states"
   ]
  },
  {
   "cell_type": "code",
   "execution_count": 5,
   "metadata": {
    "execution": {
     "iopub.execute_input": "2021-01-19T12:08:37.294460Z",
     "iopub.status.busy": "2021-01-19T12:08:37.287593Z",
     "iopub.status.idle": "2021-01-19T12:08:37.298281Z",
     "shell.execute_reply": "2021-01-19T12:08:37.297783Z"
    },
    "papermill": {
     "duration": 0.035963,
     "end_time": "2021-01-19T12:08:37.298401",
     "exception": false,
     "start_time": "2021-01-19T12:08:37.262438",
     "status": "completed"
    },
    "tags": []
   },
   "outputs": [],
   "source": [
    "#hide\n",
    "dates = []\n",
    "for i in arr_dates:\n",
    "    if i>='2020-07-01':\n",
    "        dates.append(i)\n",
    "dict = {'states':dates}\n",
    "for i in arr_states:\n",
    "    dict[i] = [0]*len(dates)\n",
    "dft_cases = pd.DataFrame(dict)\n",
    "dft_deaths = pd.DataFrame(dict)\n"
   ]
  },
  {
   "cell_type": "code",
   "execution_count": 6,
   "metadata": {
    "execution": {
     "iopub.execute_input": "2021-01-19T12:08:37.333251Z",
     "iopub.status.busy": "2021-01-19T12:08:37.332708Z",
     "iopub.status.idle": "2021-01-19T12:08:39.887133Z",
     "shell.execute_reply": "2021-01-19T12:08:39.887701Z"
    },
    "papermill": {
     "duration": 2.574592,
     "end_time": "2021-01-19T12:08:39.887872",
     "exception": false,
     "start_time": "2021-01-19T12:08:37.313280",
     "status": "completed"
    },
    "tags": []
   },
   "outputs": [],
   "source": [
    "#hide\n",
    "for i in range(len(dates)):\n",
    "    df1_deaths = df_deaths1.get_group(dates[i])\n",
    "    for j in range(len(df1_deaths.index)):\n",
    "        if df1_deaths.iloc[j,1] in arr_states:\n",
    "            dft_deaths.loc[i,df1_deaths.iloc[j,1]] = df1_deaths.iloc[j,2]\n",
    "dft_deaths = dft_deaths.set_index('states')"
   ]
  },
  {
   "cell_type": "code",
   "execution_count": 7,
   "metadata": {
    "execution": {
     "iopub.execute_input": "2021-01-19T12:08:39.934672Z",
     "iopub.status.busy": "2021-01-19T12:08:39.934061Z",
     "iopub.status.idle": "2021-01-19T12:08:42.767729Z",
     "shell.execute_reply": "2021-01-19T12:08:42.766810Z"
    },
    "papermill": {
     "duration": 2.861032,
     "end_time": "2021-01-19T12:08:42.767957",
     "exception": false,
     "start_time": "2021-01-19T12:08:39.906925",
     "status": "completed"
    },
    "tags": []
   },
   "outputs": [],
   "source": [
    "#hide\n",
    "for i in range(len(dates)):\n",
    "    df1_cases = df_cases1.get_group(dates[i])\n",
    "    for j in range(len(df1_cases.index)):\n",
    "        if df1_cases.iloc[j,1] in arr_states:\n",
    "            dft_cases.loc[i,df1_cases.iloc[j,1]] = df1_cases.iloc[j,2]\n",
    "dft_cases = dft_cases.set_index('states')"
   ]
  },
  {
   "cell_type": "code",
   "execution_count": 8,
   "metadata": {
    "execution": {
     "iopub.execute_input": "2021-01-19T12:08:42.807362Z",
     "iopub.status.busy": "2021-01-19T12:08:42.806735Z",
     "iopub.status.idle": "2021-01-19T12:08:42.810227Z",
     "shell.execute_reply": "2021-01-19T12:08:42.809754Z"
    },
    "papermill": {
     "duration": 0.024472,
     "end_time": "2021-01-19T12:08:42.810355",
     "exception": false,
     "start_time": "2021-01-19T12:08:42.785883",
     "status": "completed"
    },
    "tags": []
   },
   "outputs": [],
   "source": [
    "#hide\n",
    "dft_cases = dft_cases.T\n",
    "dft_deaths = dft_deaths.T\n",
    "dt_today = dates[-1]\n",
    "dt_yday = dates[-2]"
   ]
  },
  {
   "cell_type": "code",
   "execution_count": 9,
   "metadata": {
    "execution": {
     "iopub.execute_input": "2021-01-19T12:08:42.848174Z",
     "iopub.status.busy": "2021-01-19T12:08:42.847371Z",
     "iopub.status.idle": "2021-01-19T12:08:42.852135Z",
     "shell.execute_reply": "2021-01-19T12:08:42.851664Z"
    },
    "papermill": {
     "duration": 0.026525,
     "end_time": "2021-01-19T12:08:42.852262",
     "exception": false,
     "start_time": "2021-01-19T12:08:42.825737",
     "status": "completed"
    },
    "tags": []
   },
   "outputs": [],
   "source": [
    "#hide\n",
    "dft_cases = dft_cases.reset_index()\n",
    "dft_deaths = dft_deaths.reset_index()\n",
    "dft_cases = dft_cases.rename(columns = {'index':'state'})\n",
    "dft_deaths = dft_deaths.rename(columns = {'index':'state'})"
   ]
  },
  {
   "cell_type": "code",
   "execution_count": 10,
   "metadata": {
    "execution": {
     "iopub.execute_input": "2021-01-19T12:08:42.894382Z",
     "iopub.status.busy": "2021-01-19T12:08:42.893782Z",
     "iopub.status.idle": "2021-01-19T12:08:42.897173Z",
     "shell.execute_reply": "2021-01-19T12:08:42.897621Z"
    },
    "papermill": {
     "duration": 0.030141,
     "end_time": "2021-01-19T12:08:42.897766",
     "exception": false,
     "start_time": "2021-01-19T12:08:42.867625",
     "status": "completed"
    },
    "tags": []
   },
   "outputs": [],
   "source": [
    "#hide\n",
    "dfc_cases = dft_cases.groupby('state')[dt_today].sum()\n",
    "dfc_deaths = dft_deaths.groupby('state')[dt_today].sum()\n",
    "dfp_cases = dft_cases.groupby('state')[dt_yday].sum()\n",
    "dfp_deaths = dft_deaths.groupby('state')[dt_yday].sum()"
   ]
  },
  {
   "cell_type": "code",
   "execution_count": 11,
   "metadata": {
    "execution": {
     "iopub.execute_input": "2021-01-19T12:08:42.945047Z",
     "iopub.status.busy": "2021-01-19T12:08:42.941623Z",
     "iopub.status.idle": "2021-01-19T12:08:42.947958Z",
     "shell.execute_reply": "2021-01-19T12:08:42.947488Z"
    },
    "papermill": {
     "duration": 0.034893,
     "end_time": "2021-01-19T12:08:42.948078",
     "exception": false,
     "start_time": "2021-01-19T12:08:42.913185",
     "status": "completed"
    },
    "tags": []
   },
   "outputs": [
    {
     "data": {
      "text/html": [
       "<div>\n",
       "<style scoped>\n",
       "    .dataframe tbody tr th:only-of-type {\n",
       "        vertical-align: middle;\n",
       "    }\n",
       "\n",
       "    .dataframe tbody tr th {\n",
       "        vertical-align: top;\n",
       "    }\n",
       "\n",
       "    .dataframe thead th {\n",
       "        text-align: right;\n",
       "    }\n",
       "</style>\n",
       "<table border=\"1\" class=\"dataframe\">\n",
       "  <thead>\n",
       "    <tr style=\"text-align: right;\">\n",
       "      <th></th>\n",
       "      <th>states</th>\n",
       "      <th>Cases</th>\n",
       "      <th>Deaths</th>\n",
       "      <th>PCases</th>\n",
       "      <th>PDeaths</th>\n",
       "    </tr>\n",
       "  </thead>\n",
       "  <tbody>\n",
       "    <tr>\n",
       "      <th>0</th>\n",
       "      <td>Maharashtra</td>\n",
       "      <td>1992683</td>\n",
       "      <td>50473</td>\n",
       "      <td>1992683</td>\n",
       "      <td>50473</td>\n",
       "    </tr>\n",
       "    <tr>\n",
       "      <th>1</th>\n",
       "      <td>Karnataka</td>\n",
       "      <td>932432</td>\n",
       "      <td>12175</td>\n",
       "      <td>932432</td>\n",
       "      <td>12175</td>\n",
       "    </tr>\n",
       "    <tr>\n",
       "      <th>2</th>\n",
       "      <td>Andhra Pradesh</td>\n",
       "      <td>886066</td>\n",
       "      <td>7141</td>\n",
       "      <td>886066</td>\n",
       "      <td>7141</td>\n",
       "    </tr>\n",
       "    <tr>\n",
       "      <th>3</th>\n",
       "      <td>Kerala</td>\n",
       "      <td>851195</td>\n",
       "      <td>3481</td>\n",
       "      <td>851195</td>\n",
       "      <td>3481</td>\n",
       "    </tr>\n",
       "    <tr>\n",
       "      <th>4</th>\n",
       "      <td>Tamil Nadu</td>\n",
       "      <td>831323</td>\n",
       "      <td>12272</td>\n",
       "      <td>831323</td>\n",
       "      <td>12272</td>\n",
       "    </tr>\n",
       "  </tbody>\n",
       "</table>\n",
       "</div>"
      ],
      "text/plain": [
       "           states    Cases  Deaths   PCases  PDeaths\n",
       "0     Maharashtra  1992683   50473  1992683    50473\n",
       "1       Karnataka   932432   12175   932432    12175\n",
       "2  Andhra Pradesh   886066    7141   886066     7141\n",
       "3          Kerala   851195    3481   851195     3481\n",
       "4      Tamil Nadu   831323   12272   831323    12272"
      ]
     },
     "execution_count": 11,
     "metadata": {},
     "output_type": "execute_result"
    }
   ],
   "source": [
    "#hide\n",
    "df_table = pd.DataFrame({'states': dfc_cases.index, 'Cases': dfc_cases.values, 'Deaths': dfc_deaths.values, 'PCases': dfp_cases.values, 'PDeaths': dfp_deaths.values}).set_index('states')\n",
    "df_table = df_table.sort_values(by = ['Cases','Deaths'], ascending = [False, False])\n",
    "df_table = df_table.reset_index()\n",
    "df_table.head()"
   ]
  },
  {
   "cell_type": "code",
   "execution_count": 12,
   "metadata": {
    "execution": {
     "iopub.execute_input": "2021-01-19T12:08:42.985570Z",
     "iopub.status.busy": "2021-01-19T12:08:42.985031Z",
     "iopub.status.idle": "2021-01-19T12:08:42.993946Z",
     "shell.execute_reply": "2021-01-19T12:08:42.994459Z"
    },
    "papermill": {
     "duration": 0.031705,
     "end_time": "2021-01-19T12:08:42.994605",
     "exception": false,
     "start_time": "2021-01-19T12:08:42.962900",
     "status": "completed"
    },
    "tags": []
   },
   "outputs": [],
   "source": [
    "#hide\n",
    "for c in 'Cases, Deaths'.split(', '):\n",
    "    df_table[f'{c} (+)'] = (df_table[c] - df_table[f'P{c}']).clip(0)\n",
    "df_table['Fatality Rate'] = (100* df_table['Deaths']/ df_table['Cases']).round(2)"
   ]
  },
  {
   "cell_type": "code",
   "execution_count": 13,
   "metadata": {
    "execution": {
     "iopub.execute_input": "2021-01-19T12:08:43.040177Z",
     "iopub.status.busy": "2021-01-19T12:08:43.039577Z",
     "iopub.status.idle": "2021-01-19T12:08:43.042039Z",
     "shell.execute_reply": "2021-01-19T12:08:43.042512Z"
    },
    "papermill": {
     "duration": 0.032775,
     "end_time": "2021-01-19T12:08:43.042655",
     "exception": false,
     "start_time": "2021-01-19T12:08:43.009880",
     "status": "completed"
    },
    "tags": []
   },
   "outputs": [
    {
     "data": {
      "text/html": [
       "<div>\n",
       "<style scoped>\n",
       "    .dataframe tbody tr th:only-of-type {\n",
       "        vertical-align: middle;\n",
       "    }\n",
       "\n",
       "    .dataframe tbody tr th {\n",
       "        vertical-align: top;\n",
       "    }\n",
       "\n",
       "    .dataframe thead th {\n",
       "        text-align: right;\n",
       "    }\n",
       "</style>\n",
       "<table border=\"1\" class=\"dataframe\">\n",
       "  <thead>\n",
       "    <tr style=\"text-align: right;\">\n",
       "      <th></th>\n",
       "      <th>states</th>\n",
       "      <th>Cases</th>\n",
       "      <th>Deaths</th>\n",
       "      <th>PCases</th>\n",
       "      <th>PDeaths</th>\n",
       "      <th>Cases (+)</th>\n",
       "      <th>Deaths (+)</th>\n",
       "      <th>Fatality Rate</th>\n",
       "    </tr>\n",
       "  </thead>\n",
       "  <tbody>\n",
       "    <tr>\n",
       "      <th>0</th>\n",
       "      <td>Maharashtra</td>\n",
       "      <td>1992683</td>\n",
       "      <td>50473</td>\n",
       "      <td>1992683</td>\n",
       "      <td>50473</td>\n",
       "      <td>0</td>\n",
       "      <td>0</td>\n",
       "      <td>2.53</td>\n",
       "    </tr>\n",
       "    <tr>\n",
       "      <th>1</th>\n",
       "      <td>Karnataka</td>\n",
       "      <td>932432</td>\n",
       "      <td>12175</td>\n",
       "      <td>932432</td>\n",
       "      <td>12175</td>\n",
       "      <td>0</td>\n",
       "      <td>0</td>\n",
       "      <td>1.31</td>\n",
       "    </tr>\n",
       "    <tr>\n",
       "      <th>2</th>\n",
       "      <td>Andhra Pradesh</td>\n",
       "      <td>886066</td>\n",
       "      <td>7141</td>\n",
       "      <td>886066</td>\n",
       "      <td>7141</td>\n",
       "      <td>0</td>\n",
       "      <td>0</td>\n",
       "      <td>0.81</td>\n",
       "    </tr>\n",
       "    <tr>\n",
       "      <th>3</th>\n",
       "      <td>Kerala</td>\n",
       "      <td>851195</td>\n",
       "      <td>3481</td>\n",
       "      <td>851195</td>\n",
       "      <td>3481</td>\n",
       "      <td>0</td>\n",
       "      <td>0</td>\n",
       "      <td>0.41</td>\n",
       "    </tr>\n",
       "    <tr>\n",
       "      <th>4</th>\n",
       "      <td>Tamil Nadu</td>\n",
       "      <td>831323</td>\n",
       "      <td>12272</td>\n",
       "      <td>831323</td>\n",
       "      <td>12272</td>\n",
       "      <td>0</td>\n",
       "      <td>0</td>\n",
       "      <td>1.48</td>\n",
       "    </tr>\n",
       "  </tbody>\n",
       "</table>\n",
       "</div>"
      ],
      "text/plain": [
       "           states    Cases  Deaths   PCases  PDeaths  Cases (+)  Deaths (+)  \\\n",
       "0     Maharashtra  1992683   50473  1992683    50473          0           0   \n",
       "1       Karnataka   932432   12175   932432    12175          0           0   \n",
       "2  Andhra Pradesh   886066    7141   886066     7141          0           0   \n",
       "3          Kerala   851195    3481   851195     3481          0           0   \n",
       "4      Tamil Nadu   831323   12272   831323    12272          0           0   \n",
       "\n",
       "   Fatality Rate  \n",
       "0           2.53  \n",
       "1           1.31  \n",
       "2           0.81  \n",
       "3           0.41  \n",
       "4           1.48  "
      ]
     },
     "execution_count": 13,
     "metadata": {},
     "output_type": "execute_result"
    }
   ],
   "source": [
    "#hide\n",
    "df_table.head()"
   ]
  },
  {
   "cell_type": "code",
   "execution_count": 14,
   "metadata": {
    "execution": {
     "iopub.execute_input": "2021-01-19T12:08:43.081637Z",
     "iopub.status.busy": "2021-01-19T12:08:43.081057Z",
     "iopub.status.idle": "2021-01-19T12:08:43.097260Z",
     "shell.execute_reply": "2021-01-19T12:08:43.097758Z"
    },
    "papermill": {
     "duration": 0.038928,
     "end_time": "2021-01-19T12:08:43.097908",
     "exception": false,
     "start_time": "2021-01-19T12:08:43.058980",
     "status": "completed"
    },
    "tags": []
   },
   "outputs": [
    {
     "data": {
      "text/plain": [
       "{'updated': '2021-01-19',\n",
       " 'since': '2021-01-18',\n",
       " 'Cases': 10582662,\n",
       " 'PCases': 10582662,\n",
       " 'Deaths': 152593,\n",
       " 'PDeaths': 152593,\n",
       " 'Cases (+)': 0,\n",
       " 'Deaths (+)': 0}"
      ]
     },
     "execution_count": 14,
     "metadata": {},
     "output_type": "execute_result"
    }
   ],
   "source": [
    "#hide\n",
    "summary = {'updated':dates[-1], 'since':dates[-2]}\n",
    "list_names = ['Cases', 'PCases', 'Deaths', 'PDeaths', 'Cases (+)', 'Deaths (+)']\n",
    "for name in list_names:\n",
    "    summary[name] = df_table.sum()[name]\n",
    "summary"
   ]
  },
  {
   "cell_type": "code",
   "execution_count": 15,
   "metadata": {
    "execution": {
     "iopub.execute_input": "2021-01-19T12:08:43.134988Z",
     "iopub.status.busy": "2021-01-19T12:08:43.134395Z",
     "iopub.status.idle": "2021-01-19T12:08:43.137322Z",
     "shell.execute_reply": "2021-01-19T12:08:43.136827Z"
    },
    "papermill": {
     "duration": 0.023371,
     "end_time": "2021-01-19T12:08:43.137448",
     "exception": false,
     "start_time": "2021-01-19T12:08:43.114077",
     "status": "completed"
    },
    "tags": []
   },
   "outputs": [],
   "source": [
    "#hide\n",
    "overview = '''\n",
    "<!-- #######  HTML!! #########-->\n",
    "<h1 style=\"color: #5e9ca0; text-align: center;\">India</h1>\n",
    "<p style=\"text-align: center;\">Last update: <strong>{update}</strong></p>\n",
    "<p style=\"text-align: center;\">Confirmed cases:</p>\n",
    "<p style=\"text-align: center;font-size:24px;\">{cases} (<span style=\"color: #ff0000;\">+{new}</span>)</p>\n",
    "<p style=\"text-align: center;\">Confirmed deaths:</p>\n",
    "<p style=\"text-align: center;font-size:24px;\">{deaths} (<span style=\"color: #ff0000;\">+{dnew}</span>)</p>\n",
    "'''"
   ]
  },
  {
   "cell_type": "code",
   "execution_count": 16,
   "metadata": {
    "execution": {
     "iopub.execute_input": "2021-01-19T12:08:43.178691Z",
     "iopub.status.busy": "2021-01-19T12:08:43.178107Z",
     "iopub.status.idle": "2021-01-19T12:08:43.181368Z",
     "shell.execute_reply": "2021-01-19T12:08:43.180932Z"
    },
    "papermill": {
     "duration": 0.027912,
     "end_time": "2021-01-19T12:08:43.181488",
     "exception": false,
     "start_time": "2021-01-19T12:08:43.153576",
     "status": "completed"
    },
    "tags": []
   },
   "outputs": [
    {
     "data": {
      "text/html": [
       "\n",
       "<!-- #######  HTML!! #########-->\n",
       "<h1 style=\"color: #5e9ca0; text-align: center;\">India</h1>\n",
       "<p style=\"text-align: center;\">Last update: <strong>2021-01-19</strong></p>\n",
       "<p style=\"text-align: center;\">Confirmed cases:</p>\n",
       "<p style=\"text-align: center;font-size:24px;\">10582662 (<span style=\"color: #ff0000;\">+0</span>)</p>\n",
       "<p style=\"text-align: center;\">Confirmed deaths:</p>\n",
       "<p style=\"text-align: center;font-size:24px;\">152593 (<span style=\"color: #ff0000;\">+0</span>)</p>\n"
      ],
      "text/plain": [
       "<IPython.core.display.HTML object>"
      ]
     },
     "metadata": {},
     "output_type": "display_data"
    }
   ],
   "source": [
    "#hide_input\n",
    "update = summary['updated']\n",
    "cases = summary['Cases']\n",
    "new = summary['Cases (+)']\n",
    "deaths = summary['Deaths']\n",
    "dnew = summary['Deaths (+)']\n",
    "\n",
    "html = HTML(overview.format(update=update, cases=cases,new=new,deaths=deaths,dnew=dnew))\n",
    "\n",
    "display(html)"
   ]
  },
  {
   "cell_type": "code",
   "execution_count": 17,
   "metadata": {
    "execution": {
     "iopub.execute_input": "2021-01-19T12:08:43.222572Z",
     "iopub.status.busy": "2021-01-19T12:08:43.221996Z",
     "iopub.status.idle": "2021-01-19T12:08:43.228781Z",
     "shell.execute_reply": "2021-01-19T12:08:43.229230Z"
    },
    "papermill": {
     "duration": 0.030572,
     "end_time": "2021-01-19T12:08:43.229382",
     "exception": false,
     "start_time": "2021-01-19T12:08:43.198810",
     "status": "completed"
    },
    "tags": []
   },
   "outputs": [],
   "source": [
    "#hide\n",
    "dt_cols = list(dft_cases.columns[1:])\n",
    "dft_ct_new_cases = dft_cases.groupby('state')[dt_cols].sum().diff(axis=1).fillna(0).astype(int)\n",
    "dft_ct_new_cases.sort_values(by = dates[-1], ascending = False,inplace = True)"
   ]
  },
  {
   "cell_type": "code",
   "execution_count": 18,
   "metadata": {
    "execution": {
     "iopub.execute_input": "2021-01-19T12:08:43.283100Z",
     "iopub.status.busy": "2021-01-19T12:08:43.282492Z",
     "iopub.status.idle": "2021-01-19T12:08:43.284892Z",
     "shell.execute_reply": "2021-01-19T12:08:43.285447Z"
    },
    "papermill": {
     "duration": 0.039061,
     "end_time": "2021-01-19T12:08:43.285595",
     "exception": false,
     "start_time": "2021-01-19T12:08:43.246534",
     "status": "completed"
    },
    "tags": []
   },
   "outputs": [
    {
     "data": {
      "text/html": [
       "<div>\n",
       "<style scoped>\n",
       "    .dataframe tbody tr th:only-of-type {\n",
       "        vertical-align: middle;\n",
       "    }\n",
       "\n",
       "    .dataframe tbody tr th {\n",
       "        vertical-align: top;\n",
       "    }\n",
       "\n",
       "    .dataframe thead th {\n",
       "        text-align: right;\n",
       "    }\n",
       "</style>\n",
       "<table border=\"1\" class=\"dataframe\">\n",
       "  <thead>\n",
       "    <tr style=\"text-align: right;\">\n",
       "      <th>states</th>\n",
       "      <th>2020-07-01</th>\n",
       "      <th>2020-07-02</th>\n",
       "      <th>2020-07-03</th>\n",
       "      <th>2020-07-04</th>\n",
       "      <th>2020-07-05</th>\n",
       "      <th>2020-07-06</th>\n",
       "      <th>2020-07-07</th>\n",
       "      <th>2020-07-08</th>\n",
       "      <th>2020-07-09</th>\n",
       "      <th>2020-07-10</th>\n",
       "      <th>...</th>\n",
       "      <th>2021-01-10</th>\n",
       "      <th>2021-01-11</th>\n",
       "      <th>2021-01-12</th>\n",
       "      <th>2021-01-13</th>\n",
       "      <th>2021-01-14</th>\n",
       "      <th>2021-01-15</th>\n",
       "      <th>2021-01-16</th>\n",
       "      <th>2021-01-17</th>\n",
       "      <th>2021-01-18</th>\n",
       "      <th>2021-01-19</th>\n",
       "    </tr>\n",
       "    <tr>\n",
       "      <th>state</th>\n",
       "      <th></th>\n",
       "      <th></th>\n",
       "      <th></th>\n",
       "      <th></th>\n",
       "      <th></th>\n",
       "      <th></th>\n",
       "      <th></th>\n",
       "      <th></th>\n",
       "      <th></th>\n",
       "      <th></th>\n",
       "      <th></th>\n",
       "      <th></th>\n",
       "      <th></th>\n",
       "      <th></th>\n",
       "      <th></th>\n",
       "      <th></th>\n",
       "      <th></th>\n",
       "      <th></th>\n",
       "      <th></th>\n",
       "      <th></th>\n",
       "      <th></th>\n",
       "    </tr>\n",
       "  </thead>\n",
       "  <tbody>\n",
       "    <tr>\n",
       "      <th>Andaman and Nicobar Islands</th>\n",
       "      <td>0</td>\n",
       "      <td>9</td>\n",
       "      <td>7</td>\n",
       "      <td>3</td>\n",
       "      <td>6</td>\n",
       "      <td>16</td>\n",
       "      <td>6</td>\n",
       "      <td>2</td>\n",
       "      <td>7</td>\n",
       "      <td>0</td>\n",
       "      <td>...</td>\n",
       "      <td>1</td>\n",
       "      <td>3</td>\n",
       "      <td>3</td>\n",
       "      <td>3</td>\n",
       "      <td>7</td>\n",
       "      <td>3</td>\n",
       "      <td>3</td>\n",
       "      <td>1</td>\n",
       "      <td>5</td>\n",
       "      <td>0</td>\n",
       "    </tr>\n",
       "    <tr>\n",
       "      <th>Andhra Pradesh</th>\n",
       "      <td>0</td>\n",
       "      <td>845</td>\n",
       "      <td>837</td>\n",
       "      <td>765</td>\n",
       "      <td>998</td>\n",
       "      <td>1322</td>\n",
       "      <td>1178</td>\n",
       "      <td>1062</td>\n",
       "      <td>1555</td>\n",
       "      <td>1608</td>\n",
       "      <td>...</td>\n",
       "      <td>227</td>\n",
       "      <td>121</td>\n",
       "      <td>197</td>\n",
       "      <td>203</td>\n",
       "      <td>179</td>\n",
       "      <td>94</td>\n",
       "      <td>114</td>\n",
       "      <td>161</td>\n",
       "      <td>81</td>\n",
       "      <td>0</td>\n",
       "    </tr>\n",
       "    <tr>\n",
       "      <th>Maharashtra</th>\n",
       "      <td>0</td>\n",
       "      <td>6328</td>\n",
       "      <td>6364</td>\n",
       "      <td>7074</td>\n",
       "      <td>6555</td>\n",
       "      <td>5368</td>\n",
       "      <td>5134</td>\n",
       "      <td>6603</td>\n",
       "      <td>6875</td>\n",
       "      <td>7862</td>\n",
       "      <td>...</td>\n",
       "      <td>3558</td>\n",
       "      <td>2438</td>\n",
       "      <td>2936</td>\n",
       "      <td>3556</td>\n",
       "      <td>3579</td>\n",
       "      <td>3145</td>\n",
       "      <td>2910</td>\n",
       "      <td>3081</td>\n",
       "      <td>1924</td>\n",
       "      <td>0</td>\n",
       "    </tr>\n",
       "    <tr>\n",
       "      <th>Manipur</th>\n",
       "      <td>0</td>\n",
       "      <td>19</td>\n",
       "      <td>37</td>\n",
       "      <td>9</td>\n",
       "      <td>41</td>\n",
       "      <td>24</td>\n",
       "      <td>40</td>\n",
       "      <td>5</td>\n",
       "      <td>15</td>\n",
       "      <td>132</td>\n",
       "      <td>...</td>\n",
       "      <td>14</td>\n",
       "      <td>33</td>\n",
       "      <td>32</td>\n",
       "      <td>44</td>\n",
       "      <td>18</td>\n",
       "      <td>24</td>\n",
       "      <td>24</td>\n",
       "      <td>21</td>\n",
       "      <td>11</td>\n",
       "      <td>0</td>\n",
       "    </tr>\n",
       "    <tr>\n",
       "      <th>Meghalaya</th>\n",
       "      <td>0</td>\n",
       "      <td>3</td>\n",
       "      <td>4</td>\n",
       "      <td>8</td>\n",
       "      <td>2</td>\n",
       "      <td>16</td>\n",
       "      <td>6</td>\n",
       "      <td>6</td>\n",
       "      <td>13</td>\n",
       "      <td>73</td>\n",
       "      <td>...</td>\n",
       "      <td>19</td>\n",
       "      <td>20</td>\n",
       "      <td>20</td>\n",
       "      <td>18</td>\n",
       "      <td>18</td>\n",
       "      <td>4</td>\n",
       "      <td>2</td>\n",
       "      <td>12</td>\n",
       "      <td>2</td>\n",
       "      <td>0</td>\n",
       "    </tr>\n",
       "  </tbody>\n",
       "</table>\n",
       "<p>5 rows × 203 columns</p>\n",
       "</div>"
      ],
      "text/plain": [
       "states                       2020-07-01  2020-07-02  2020-07-03  2020-07-04  \\\n",
       "state                                                                         \n",
       "Andaman and Nicobar Islands           0           9           7           3   \n",
       "Andhra Pradesh                        0         845         837         765   \n",
       "Maharashtra                           0        6328        6364        7074   \n",
       "Manipur                               0          19          37           9   \n",
       "Meghalaya                             0           3           4           8   \n",
       "\n",
       "states                       2020-07-05  2020-07-06  2020-07-07  2020-07-08  \\\n",
       "state                                                                         \n",
       "Andaman and Nicobar Islands           6          16           6           2   \n",
       "Andhra Pradesh                      998        1322        1178        1062   \n",
       "Maharashtra                        6555        5368        5134        6603   \n",
       "Manipur                              41          24          40           5   \n",
       "Meghalaya                             2          16           6           6   \n",
       "\n",
       "states                       2020-07-09  2020-07-10  ...  2021-01-10  \\\n",
       "state                                                ...               \n",
       "Andaman and Nicobar Islands           7           0  ...           1   \n",
       "Andhra Pradesh                     1555        1608  ...         227   \n",
       "Maharashtra                        6875        7862  ...        3558   \n",
       "Manipur                              15         132  ...          14   \n",
       "Meghalaya                            13          73  ...          19   \n",
       "\n",
       "states                       2021-01-11  2021-01-12  2021-01-13  2021-01-14  \\\n",
       "state                                                                         \n",
       "Andaman and Nicobar Islands           3           3           3           7   \n",
       "Andhra Pradesh                      121         197         203         179   \n",
       "Maharashtra                        2438        2936        3556        3579   \n",
       "Manipur                              33          32          44          18   \n",
       "Meghalaya                            20          20          18          18   \n",
       "\n",
       "states                       2021-01-15  2021-01-16  2021-01-17  2021-01-18  \\\n",
       "state                                                                         \n",
       "Andaman and Nicobar Islands           3           3           1           5   \n",
       "Andhra Pradesh                       94         114         161          81   \n",
       "Maharashtra                        3145        2910        3081        1924   \n",
       "Manipur                              24          24          21          11   \n",
       "Meghalaya                             4           2          12           2   \n",
       "\n",
       "states                       2021-01-19  \n",
       "state                                    \n",
       "Andaman and Nicobar Islands           0  \n",
       "Andhra Pradesh                        0  \n",
       "Maharashtra                           0  \n",
       "Manipur                               0  \n",
       "Meghalaya                             0  \n",
       "\n",
       "[5 rows x 203 columns]"
      ]
     },
     "execution_count": 18,
     "metadata": {},
     "output_type": "execute_result"
    }
   ],
   "source": [
    "#hide\n",
    "dft_ct_new_cases.head()"
   ]
  },
  {
   "cell_type": "code",
   "execution_count": 19,
   "metadata": {
    "execution": {
     "iopub.execute_input": "2021-01-19T12:08:43.324316Z",
     "iopub.status.busy": "2021-01-19T12:08:43.323734Z",
     "iopub.status.idle": "2021-01-19T12:08:49.875495Z",
     "shell.execute_reply": "2021-01-19T12:08:49.874975Z"
    },
    "papermill": {
     "duration": 6.57216,
     "end_time": "2021-01-19T12:08:49.875637",
     "exception": false,
     "start_time": "2021-01-19T12:08:43.303477",
     "status": "completed"
    },
    "tags": []
   },
   "outputs": [
    {
     "data": {
      "image/png": "[encoded data removed]",
      "text/plain": [
       "<Figure size 1296x2016 with 11 Axes>"
      ]
     },
     "metadata": {
      "needs_background": "light"
     },
     "output_type": "display_data"
    }
   ],
   "source": [
    "#hide_input\n",
    "df = dft_ct_new_cases.copy()\n",
    "df.loc['Total'] = df.sum()\n",
    "n = 5\n",
    "ax = []\n",
    "fig = plt.figure(figsize = (18,28))\n",
    "gs = fig.add_gridspec(n+2, 5)\n",
    "# gs = fig.add_gridspec(2, 3)\n",
    "ax1 = fig.add_subplot(gs[0, :])\n",
    "ef = df.loc['Total'].rename_axis('date').reset_index()\n",
    "ef['date'] = ef['date'].astype('datetime64[ns]')\n",
    "ax1.bar(ef.date,ef.Total,alpha=0.3,color='#007acc')\n",
    "ax1.plot(ef.date,ef.Total , marker=\"o\", color='#007acc')\n",
    "ax1.xaxis.set_major_locator(mdates.WeekdayLocator())\n",
    "ax1.xaxis.set_major_formatter(mdates.DateFormatter('%b %d'))\n",
    "ax1.text(0.02, 0.5,'India daily case count', transform = ax1.transAxes, fontsize=25);\n",
    "ax1.spines['right'].set_visible(False)\n",
    "ax1.spines['top'].set_visible(False)\n",
    "\n",
    "ax2 = fig.add_subplot(gs[1,0])\n",
    "ef = df.loc['Maharashtra'].rename_axis('date').reset_index()\n",
    "ef['date'] = ef['date'].astype('datetime64[ns]')\n",
    "\n",
    "ax2.bar(ef.date, ef.Maharashtra,color = '#007acc',alpha=0.5)\n",
    "ax2.xaxis.set_major_locator(mdates.WeekdayLocator())\n",
    "ax2.xaxis.set_major_formatter(mdates.DateFormatter('%b %d'))\n",
    "ax2.set_xticks(ax2.get_xticks()[::3])\n",
    "maxyval = ef.Maharashtra.max()\n",
    "ax2.set_ylim([0,maxyval])\n",
    "ax2.text(0.05, 0.9,'Maharashtra', transform = ax2.transAxes, fontsize=20);\n",
    "ax2.spines['right'].set_visible(False)\n",
    "ax2.spines['top'].set_visible(False)\n",
    "\n",
    "\n",
    "ax3 = fig.add_subplot(gs[1,1])\n",
    "ef = df.loc['Tamil Nadu'].rename_axis('date').reset_index()\n",
    "ef['date'] = ef['date'].astype('datetime64[ns]')\n",
    "ax3.bar(ef.date, ef['Tamil Nadu'],color = '#007acc',alpha=0.5,)\n",
    "ax3.xaxis.set_major_locator(mdates.WeekdayLocator())\n",
    "ax3.xaxis.set_major_formatter(mdates.DateFormatter('%b %d'))\n",
    "ax3.set_xticks(ax3.get_xticks()[::3])\n",
    "ax3.text(0.05, 0.9,'Tamil Nadu', transform = ax3.transAxes, fontsize=20);\n",
    "ax3.spines['right'].set_visible(False)\n",
    "ax3.spines['top'].set_visible(False)\n",
    "\n",
    "ax5 = fig.add_subplot(gs[1,3])\n",
    "ef = df.loc['Telangana'].rename_axis('date').reset_index()\n",
    "ef['date'] = ef['date'].astype('datetime64[ns]')\n",
    "ax5.bar(ef.date, ef['Telangana'],color = '#007acc',alpha=0.5,)\n",
    "ax5.xaxis.set_major_locator(mdates.WeekdayLocator())\n",
    "ax5.xaxis.set_major_formatter(mdates.DateFormatter('%b %d'))\n",
    "ax5.set_xticks(ax5.get_xticks()[::3])\n",
    "ax5.text(0.05, 0.9,'Telangana', transform = ax5.transAxes, fontsize=20);\n",
    "ax5.spines['right'].set_visible(False)\n",
    "ax5.spines['top'].set_visible(False)\n",
    "\n",
    "ax6 = fig.add_subplot(gs[1,4])\n",
    "ef = df.loc['Andhra Pradesh'].rename_axis('date').reset_index()\n",
    "ef['date'] = ef['date'].astype('datetime64[ns]')\n",
    "ax6.bar(ef.date, ef['Andhra Pradesh'],color = '#007acc',alpha=0.5,)\n",
    "ax6.xaxis.set_major_locator(mdates.WeekdayLocator())\n",
    "ax6.xaxis.set_major_formatter(mdates.DateFormatter('%b %d'))\n",
    "ax6.set_xticks(ax6.get_xticks()[::3])\n",
    "ax6.text(0.05, 1,'Andhra Pradesh', transform = ax6.transAxes, fontsize=20);\n",
    "ax6.spines['right'].set_visible(False)\n",
    "ax6.spines['top'].set_visible(False)\n",
    "\n",
    "ax4 = fig.add_subplot(gs[1,2])\n",
    "ef = df.loc['Delhi'].rename_axis('date').reset_index()\n",
    "ef['date'] = ef['date'].astype('datetime64[ns]')\n",
    "ax4.bar(ef.date, ef.Delhi,color = '#007acc',alpha=0.5)\n",
    "ax4.set_xticks([])\n",
    "ax4.xaxis.set_major_locator(mdates.WeekdayLocator())\n",
    "ax4.xaxis.set_major_formatter(mdates.DateFormatter('%b %d'))\n",
    "ax4.set_xticks(ax4.get_xticks()[::3])\n",
    "ax4.spines['right'].set_visible(False)\n",
    "ax4.spines['top'].set_visible(False)\n",
    "\n",
    "ax4.text(0.05, 1,'Delhi', transform = ax4.transAxes, fontsize=20)\n",
    "\n",
    "for i in range(n):\n",
    "    \n",
    "    ax.append(fig.add_subplot(gs[i+2,:]))\n",
    "    ef = df.iloc[i+3].rename_axis('date').reset_index()\n",
    "    ef['date'] = ef['date'].astype('datetime64[ns]')\n",
    "    ax[i].bar(ef.date,ef.iloc[:,-1],color = '#007acc',alpha=0.3)\n",
    "    ax[i].plot(ef.date,ef.iloc[:,-1],marker='o',color='#007acc')\n",
    "    ax[i].text(0.02,0.5,f'{ef.columns.values[-1]}',transform = ax[i].transAxes, fontsize = 20);\n",
    "    ax[i].xaxis.set_major_locator(mdates.WeekdayLocator())\n",
    "    ax[i].xaxis.set_major_formatter(mdates.DateFormatter('%b %d'))\n",
    "    ax[i].set_ylim([0,7000])\n",
    "    ax[i].spines['right'].set_visible(False)\n",
    "    ax[i].spines['top'].set_visible(False)\n",
    "plt.tight_layout()\n"
   ]
  },
  {
   "cell_type": "code",
   "execution_count": 20,
   "metadata": {
    "execution": {
     "iopub.execute_input": "2021-01-19T12:08:50.230254Z",
     "iopub.status.busy": "2021-01-19T12:08:50.229581Z",
     "iopub.status.idle": "2021-01-19T12:08:50.234125Z",
     "shell.execute_reply": "2021-01-19T12:08:50.233648Z"
    },
    "papermill": {
     "duration": 0.318463,
     "end_time": "2021-01-19T12:08:50.234260",
     "exception": false,
     "start_time": "2021-01-19T12:08:49.915797",
     "status": "completed"
    },
    "tags": []
   },
   "outputs": [
    {
     "name": "stdout",
     "output_type": "stream",
     "text": [
      "                                   states    Cases  Deaths   PCases  PDeaths  Cases (+)  Deaths (+)  Fatality Rate\n",
      "                              Maharashtra  1992683   50473  1992683    50473          0           0           2.53\n",
      "                                Karnataka   932432   12175   932432    12175          0           0           1.31\n",
      "                           Andhra Pradesh   886066    7141   886066     7141          0           0           0.81\n",
      "                                   Kerala   851195    3481   851195     3481          0           0           0.41\n",
      "                               Tamil Nadu   831323   12272   831323    12272          0           0           1.48\n",
      "                                    Delhi   632590   10754   632590    10754          0           0           1.70\n",
      "                            Uttar Pradesh   596904    8580   596904     8580          0           0           1.44\n",
      "                              West Bengal   565661   10063   565661    10063          0           0           1.78\n",
      "                                   Odisha   333444    1954   333444     1954          0           0           0.59\n",
      "                                Rajasthan   315394    2750   315394     2750          0           0           0.87\n",
      "                             Chhattisgarh   293972    3565   293972     3565          0           0           1.21\n",
      "                                Telangana   291872    1579   291872     1579          0           0           0.54\n",
      "                                  Haryana   266428    2989   266428     2989          0           0           1.12\n",
      "                                    Bihar   258883    1460   258883     1460          0           0           0.56\n",
      "                                  Gujarat   256367    4367   256367     4367          0           0           1.70\n",
      "                           Madhya Pradesh   251882    3756   251882     3756          0           0           1.49\n",
      "                                    Assam   216864    1075   216864     1075          0           0           0.50\n",
      "                                   Punjab   170729    5509   170729     5509          0           0           3.23\n",
      "                        Jammu and Kashmir   123425    1922   123425     1922          0           0           1.56\n",
      "                                Jharkhand   117786    1054   117786     1054          0           0           0.89\n",
      "                              Uttarakhand    94923    1617    94923     1617          0           0           1.70\n",
      "                         Himachal Pradesh    56978     955    56978      955          0           0           1.68\n",
      "                                      Goa    52458     756    52458      756          0           0           1.44\n",
      "                               Puducherry    38669     643    38669      643          0           0           1.66\n",
      "                                  Tripura    33329     388    33329      388          0           0           1.16\n",
      "                                  Manipur    28867     366    28867      366          0           0           1.27\n",
      "                               Chandigarh    20564     330    20564      330          0           0           1.60\n",
      "                        Arunachal Pradesh    16812      56    16812       56          0           0           0.33\n",
      "                                Meghalaya    13707     144    13707      144          0           0           1.05\n",
      "                                 Nagaland    12061      88    12061       88          0           0           0.73\n",
      "                                   Ladakh     9657     128     9657      128          0           0           1.33\n",
      "                                   Sikkim     6038     130     6038      130          0           0           2.15\n",
      "              Andaman and Nicobar Islands     4988      62     4988       62          0           0           1.24\n",
      "                                  Mizoram     4323       9     4323        9          0           0           0.21\n",
      " Dadra and Nagar Haveli and Daman and Diu     3374       2     3374        2          0           0           0.06\n",
      "                              Lakshadweep       14       0       14        0          0           0           0.00\n"
     ]
    }
   ],
   "source": [
    "#hide_input\n",
    "print(df_table.to_string(index=False))"
   ]
  },
  {
   "cell_type": "code",
   "execution_count": null,
   "metadata": {
    "papermill": {
     "duration": 0.596279,
     "end_time": "2021-01-19T12:08:50.964834",
     "exception": false,
     "start_time": "2021-01-19T12:08:50.368555",
     "status": "completed"
    },
    "tags": []
   },
   "outputs": [],
   "source": []
  },
  {
   "cell_type": "code",
   "execution_count": null,
   "metadata": {
    "papermill": {
     "duration": 0.027027,
     "end_time": "2021-01-19T12:08:51.145492",
     "exception": false,
     "start_time": "2021-01-19T12:08:51.118465",
     "status": "completed"
    },
    "tags": []
   },
   "outputs": [],
   "source": []
  }
 ],
 "metadata": {
  "kernelspec": {
   "display_name": "Python 3",
   "language": "python",
   "name": "python3"
  },
  "language_info": {
   "codemirror_mode": {
    "name": "ipython",
    "version": 3
   },
   "file_extension": ".py",
   "mimetype": "text/x-python",
   "name": "python",
   "nbconvert_exporter": "python",
   "pygments_lexer": "ipython3",
   "version": "3.6.12"
  },
  "papermill": {
   "duration": 16.702489,
   "end_time": "2021-01-19T12:08:51.779197",
   "environment_variables": {},
   "exception": null,
   "input_path": "latest.ipynb",
   "output_path": "latest.ipynb",
   "parameters": {},
   "start_time": "2021-01-19T12:08:35.076708",
   "version": "2.1.2"
  }
 },
 "nbformat": 4,
 "nbformat_minor": 4
}