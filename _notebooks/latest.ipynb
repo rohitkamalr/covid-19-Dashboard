{
 "cells": [
  {
   "cell_type": "markdown",
   "metadata": {
    "papermill": {
     "duration": 0.020879,
     "end_time": "2020-09-22T13:40:58.315936",
     "exception": false,
     "start_time": "2020-09-22T13:40:58.295057",
     "status": "completed"
    },
    "tags": []
   },
   "source": [
    "# Latest COVID-19 India Matplotlib Overview"
   ]
  },
  {
   "cell_type": "code",
   "execution_count": 1,
   "metadata": {
    "execution": {
     "iopub.execute_input": "2020-09-22T13:40:58.357525Z",
     "iopub.status.busy": "2020-09-22T13:40:58.356806Z",
     "iopub.status.idle": "2020-09-22T13:40:59.030377Z",
     "shell.execute_reply": "2020-09-22T13:40:59.030942Z"
    },
    "papermill": {
     "duration": 0.697342,
     "end_time": "2020-09-22T13:40:59.031144",
     "exception": false,
     "start_time": "2020-09-22T13:40:58.333802",
     "status": "completed"
    },
    "tags": []
   },
   "outputs": [],
   "source": [
    "#hide\n",
    "import pandas as pd\n",
    "import numpy as np\n",
    "import requests\n",
    "import json\n",
    "import matplotlib.pyplot as plt\n",
    "import matplotlib.dates as mdates\n",
    "import matplotlib as mpl\n",
    "from IPython.core.display import display,HTML\n",
    "%matplotlib inline\n",
    "from datetime import date"
   ]
  },
  {
   "cell_type": "code",
   "execution_count": 2,
   "metadata": {
    "execution": {
     "iopub.execute_input": "2020-09-22T13:40:59.076317Z",
     "iopub.status.busy": "2020-09-22T13:40:59.075263Z",
     "iopub.status.idle": "2020-09-22T13:40:59.607178Z",
     "shell.execute_reply": "2020-09-22T13:40:59.606596Z"
    },
    "papermill": {
     "duration": 0.558094,
     "end_time": "2020-09-22T13:40:59.607364",
     "exception": false,
     "start_time": "2020-09-22T13:40:59.049270",
     "status": "completed"
    },
    "tags": []
   },
   "outputs": [],
   "source": [
    "#hide\n",
    "df  = pd.read_csv('https://api.covid19india.org/csv/latest/states.csv')\n",
    "df = df[['Date','State','Confirmed','Deceased']]\n",
    "df = df.rename(columns={'Confirmed':'Cases', \"Deceased\":'Deaths'})\n",
    "df_cases = df[[\"Date\",'State','Cases']]\n",
    "df_deaths = df[['Date','State','Deaths']]\n",
    "df_cases1 = df_cases.groupby('Date')\n",
    "df_deaths1= df_deaths.groupby('Date')"
   ]
  },
  {
   "cell_type": "code",
   "execution_count": 3,
   "metadata": {
    "execution": {
     "iopub.execute_input": "2020-09-22T13:40:59.650667Z",
     "iopub.status.busy": "2020-09-22T13:40:59.649959Z",
     "iopub.status.idle": "2020-09-22T13:40:59.672150Z",
     "shell.execute_reply": "2020-09-22T13:40:59.671453Z"
    },
    "papermill": {
     "duration": 0.047455,
     "end_time": "2020-09-22T13:40:59.672317",
     "exception": false,
     "start_time": "2020-09-22T13:40:59.624862",
     "status": "completed"
    },
    "tags": []
   },
   "outputs": [],
   "source": [
    "#hide\n",
    "df_snap = pd.read_csv('data/SnapshotCases-28-July.csv')\n",
    "arr_states = df_snap['states'].unique()\n",
    "arr_dates = df['Date'].unique()\n",
    "df_snap = df_snap.set_index('states')"
   ]
  },
  {
   "cell_type": "code",
   "execution_count": 4,
   "metadata": {
    "execution": {
     "iopub.execute_input": "2020-09-22T13:40:59.716630Z",
     "iopub.status.busy": "2020-09-22T13:40:59.715717Z",
     "iopub.status.idle": "2020-09-22T13:40:59.718948Z",
     "shell.execute_reply": "2020-09-22T13:40:59.719511Z"
    },
    "papermill": {
     "duration": 0.03017,
     "end_time": "2020-09-22T13:40:59.719679",
     "exception": false,
     "start_time": "2020-09-22T13:40:59.689509",
     "status": "completed"
    },
    "tags": []
   },
   "outputs": [
    {
     "data": {
      "text/plain": [
       "array(['Andaman and Nicobar Islands', 'Andhra Pradesh',\n",
       "       'Arunachal Pradesh', 'Assam', 'Bihar', 'Chandigarh',\n",
       "       'Dadra and Nagar Haveli and Daman and Diu', 'Delhi', 'Goa',\n",
       "       'Gujarat', 'Haryana', 'Himachal Pradesh', 'Jammu and Kashmir',\n",
       "       'Jharkhand', 'Karnataka', 'Kerala', 'Lakshadweep',\n",
       "       'Madhya Pradesh', 'Maharashtra', 'Manipur', 'Meghalaya', 'Mizoram',\n",
       "       'Nagaland', 'Odisha', 'Puducherry', 'Punjab', 'Rajasthan',\n",
       "       'Sikkim', 'Tamil Nadu', 'Telangana', 'Tripura', 'Uttar Pradesh',\n",
       "       'West Bengal', 'Chhattisgarh', 'Ladakh', 'Uttarakhand'],\n",
       "      dtype=object)"
      ]
     },
     "execution_count": 4,
     "metadata": {},
     "output_type": "execute_result"
    }
   ],
   "source": [
    "#hide\n",
    "arr_states[-9] = 'Puducherry'\n",
    "arr_states[-10] = 'Odisha'\n",
    "arr_states[6] = 'Dadra and Nagar Haveli and Daman and Diu'\n",
    "arr_states = np.append(arr_states,np.array(['Chhattisgarh','Ladakh','Uttarakhand']))\n",
    "arr_states"
   ]
  },
  {
   "cell_type": "code",
   "execution_count": 5,
   "metadata": {
    "execution": {
     "iopub.execute_input": "2020-09-22T13:40:59.764902Z",
     "iopub.status.busy": "2020-09-22T13:40:59.762492Z",
     "iopub.status.idle": "2020-09-22T13:40:59.772593Z",
     "shell.execute_reply": "2020-09-22T13:40:59.773269Z"
    },
    "papermill": {
     "duration": 0.036548,
     "end_time": "2020-09-22T13:40:59.773458",
     "exception": false,
     "start_time": "2020-09-22T13:40:59.736910",
     "status": "completed"
    },
    "tags": []
   },
   "outputs": [],
   "source": [
    "#hide\n",
    "dates = []\n",
    "for i in arr_dates:\n",
    "    if i>='2020-07-01':\n",
    "        dates.append(i)\n",
    "dict = {'states':dates}\n",
    "for i in arr_states:\n",
    "    dict[i] = [0]*len(dates)\n",
    "dft_cases = pd.DataFrame(dict)\n",
    "dft_deaths = pd.DataFrame(dict)\n"
   ]
  },
  {
   "cell_type": "code",
   "execution_count": 6,
   "metadata": {
    "execution": {
     "iopub.execute_input": "2020-09-22T13:40:59.816449Z",
     "iopub.status.busy": "2020-09-22T13:40:59.815459Z",
     "iopub.status.idle": "2020-09-22T13:41:01.357157Z",
     "shell.execute_reply": "2020-09-22T13:41:01.356549Z"
    },
    "papermill": {
     "duration": 1.566128,
     "end_time": "2020-09-22T13:41:01.357313",
     "exception": false,
     "start_time": "2020-09-22T13:40:59.791185",
     "status": "completed"
    },
    "tags": []
   },
   "outputs": [],
   "source": [
    "#hide\n",
    "for i in range(len(dates)):\n",
    "    df1_deaths = df_deaths1.get_group(dates[i])\n",
    "    for j in range(len(df1_deaths.index)):\n",
    "        if df1_deaths.iloc[j,1] in arr_states:\n",
    "            dft_deaths.loc[i,df1_deaths.iloc[j,1]] = df1_deaths.iloc[j,2]\n",
    "dft_deaths = dft_deaths.set_index('states')"
   ]
  },
  {
   "cell_type": "code",
   "execution_count": 7,
   "metadata": {
    "execution": {
     "iopub.execute_input": "2020-09-22T13:41:01.399340Z",
     "iopub.status.busy": "2020-09-22T13:41:01.398657Z",
     "iopub.status.idle": "2020-09-22T13:41:02.904568Z",
     "shell.execute_reply": "2020-09-22T13:41:02.904031Z"
    },
    "papermill": {
     "duration": 1.530022,
     "end_time": "2020-09-22T13:41:02.904714",
     "exception": false,
     "start_time": "2020-09-22T13:41:01.374692",
     "status": "completed"
    },
    "tags": []
   },
   "outputs": [],
   "source": [
    "#hide\n",
    "for i in range(len(dates)):\n",
    "    df1_cases = df_cases1.get_group(dates[i])\n",
    "    for j in range(len(df1_cases.index)):\n",
    "        if df1_cases.iloc[j,1] in arr_states:\n",
    "            dft_cases.loc[i,df1_cases.iloc[j,1]] = df1_cases.iloc[j,2]\n",
    "dft_cases = dft_cases.set_index('states')"
   ]
  },
  {
   "cell_type": "code",
   "execution_count": 8,
   "metadata": {
    "execution": {
     "iopub.execute_input": "2020-09-22T13:41:02.944735Z",
     "iopub.status.busy": "2020-09-22T13:41:02.944049Z",
     "iopub.status.idle": "2020-09-22T13:41:02.946047Z",
     "shell.execute_reply": "2020-09-22T13:41:02.946569Z"
    },
    "papermill": {
     "duration": 0.025437,
     "end_time": "2020-09-22T13:41:02.946745",
     "exception": false,
     "start_time": "2020-09-22T13:41:02.921308",
     "status": "completed"
    },
    "tags": []
   },
   "outputs": [],
   "source": [
    "#hide\n",
    "dft_cases = dft_cases.T\n",
    "dft_deaths = dft_deaths.T\n",
    "dt_today = dates[-1]\n",
    "dt_yday = dates[-2]"
   ]
  },
  {
   "cell_type": "code",
   "execution_count": 9,
   "metadata": {
    "execution": {
     "iopub.execute_input": "2020-09-22T13:41:02.988401Z",
     "iopub.status.busy": "2020-09-22T13:41:02.987725Z",
     "iopub.status.idle": "2020-09-22T13:41:02.992554Z",
     "shell.execute_reply": "2020-09-22T13:41:02.993307Z"
    },
    "papermill": {
     "duration": 0.029428,
     "end_time": "2020-09-22T13:41:02.993475",
     "exception": false,
     "start_time": "2020-09-22T13:41:02.964047",
     "status": "completed"
    },
    "tags": []
   },
   "outputs": [],
   "source": [
    "#hide\n",
    "dft_cases = dft_cases.reset_index()\n",
    "dft_deaths = dft_deaths.reset_index()\n",
    "dft_cases = dft_cases.rename(columns = {'index':'state'})\n",
    "dft_deaths = dft_deaths.rename(columns = {'index':'state'})"
   ]
  },
  {
   "cell_type": "code",
   "execution_count": 10,
   "metadata": {
    "execution": {
     "iopub.execute_input": "2020-09-22T13:41:03.042288Z",
     "iopub.status.busy": "2020-09-22T13:41:03.041591Z",
     "iopub.status.idle": "2020-09-22T13:41:03.043968Z",
     "shell.execute_reply": "2020-09-22T13:41:03.043301Z"
    },
    "papermill": {
     "duration": 0.032476,
     "end_time": "2020-09-22T13:41:03.044120",
     "exception": false,
     "start_time": "2020-09-22T13:41:03.011644",
     "status": "completed"
    },
    "tags": []
   },
   "outputs": [],
   "source": [
    "#hide\n",
    "dfc_cases = dft_cases.groupby('state')[dt_today].sum()\n",
    "dfc_deaths = dft_deaths.groupby('state')[dt_today].sum()\n",
    "dfp_cases = dft_cases.groupby('state')[dt_yday].sum()\n",
    "dfp_deaths = dft_deaths.groupby('state')[dt_yday].sum()"
   ]
  },
  {
   "cell_type": "code",
   "execution_count": 11,
   "metadata": {
    "execution": {
     "iopub.execute_input": "2020-09-22T13:41:03.093598Z",
     "iopub.status.busy": "2020-09-22T13:41:03.087471Z",
     "iopub.status.idle": "2020-09-22T13:41:03.110503Z",
     "shell.execute_reply": "2020-09-22T13:41:03.109813Z"
    },
    "papermill": {
     "duration": 0.048833,
     "end_time": "2020-09-22T13:41:03.110657",
     "exception": false,
     "start_time": "2020-09-22T13:41:03.061824",
     "status": "completed"
    },
    "tags": []
   },
   "outputs": [
    {
     "data": {
      "text/html": [
       "<div>\n",
       "<style scoped>\n",
       "    .dataframe tbody tr th:only-of-type {\n",
       "        vertical-align: middle;\n",
       "    }\n",
       "\n",
       "    .dataframe tbody tr th {\n",
       "        vertical-align: top;\n",
       "    }\n",
       "\n",
       "    .dataframe thead th {\n",
       "        text-align: right;\n",
       "    }\n",
       "</style>\n",
       "<table border=\"1\" class=\"dataframe\">\n",
       "  <thead>\n",
       "    <tr style=\"text-align: right;\">\n",
       "      <th></th>\n",
       "      <th>states</th>\n",
       "      <th>Cases</th>\n",
       "      <th>Deaths</th>\n",
       "      <th>PCases</th>\n",
       "      <th>PDeaths</th>\n",
       "    </tr>\n",
       "  </thead>\n",
       "  <tbody>\n",
       "    <tr>\n",
       "      <th>0</th>\n",
       "      <td>Maharashtra</td>\n",
       "      <td>1224380</td>\n",
       "      <td>33015</td>\n",
       "      <td>1224380</td>\n",
       "      <td>33015</td>\n",
       "    </tr>\n",
       "    <tr>\n",
       "      <th>1</th>\n",
       "      <td>Andhra Pradesh</td>\n",
       "      <td>631749</td>\n",
       "      <td>5410</td>\n",
       "      <td>631749</td>\n",
       "      <td>5410</td>\n",
       "    </tr>\n",
       "    <tr>\n",
       "      <th>2</th>\n",
       "      <td>Tamil Nadu</td>\n",
       "      <td>552674</td>\n",
       "      <td>8947</td>\n",
       "      <td>547337</td>\n",
       "      <td>8871</td>\n",
       "    </tr>\n",
       "    <tr>\n",
       "      <th>3</th>\n",
       "      <td>Karnataka</td>\n",
       "      <td>526876</td>\n",
       "      <td>8145</td>\n",
       "      <td>526876</td>\n",
       "      <td>8145</td>\n",
       "    </tr>\n",
       "    <tr>\n",
       "      <th>4</th>\n",
       "      <td>Uttar Pradesh</td>\n",
       "      <td>358893</td>\n",
       "      <td>5135</td>\n",
       "      <td>358893</td>\n",
       "      <td>5135</td>\n",
       "    </tr>\n",
       "  </tbody>\n",
       "</table>\n",
       "</div>"
      ],
      "text/plain": [
       "           states    Cases  Deaths   PCases  PDeaths\n",
       "0     Maharashtra  1224380   33015  1224380    33015\n",
       "1  Andhra Pradesh   631749    5410   631749     5410\n",
       "2      Tamil Nadu   552674    8947   547337     8871\n",
       "3       Karnataka   526876    8145   526876     8145\n",
       "4   Uttar Pradesh   358893    5135   358893     5135"
      ]
     },
     "execution_count": 11,
     "metadata": {},
     "output_type": "execute_result"
    }
   ],
   "source": [
    "#hide\n",
    "df_table = pd.DataFrame({'states': dfc_cases.index, 'Cases': dfc_cases.values, 'Deaths': dfc_deaths.values, 'PCases': dfp_cases.values, 'PDeaths': dfp_deaths.values}).set_index('states')\n",
    "df_table = df_table.sort_values(by = ['Cases','Deaths'], ascending = [False, False])\n",
    "df_table = df_table.reset_index()\n",
    "df_table.head()"
   ]
  },
  {
   "cell_type": "code",
   "execution_count": 12,
   "metadata": {
    "execution": {
     "iopub.execute_input": "2020-09-22T13:41:03.153776Z",
     "iopub.status.busy": "2020-09-22T13:41:03.153062Z",
     "iopub.status.idle": "2020-09-22T13:41:03.163875Z",
     "shell.execute_reply": "2020-09-22T13:41:03.163274Z"
    },
    "papermill": {
     "duration": 0.034952,
     "end_time": "2020-09-22T13:41:03.164028",
     "exception": false,
     "start_time": "2020-09-22T13:41:03.129076",
     "status": "completed"
    },
    "tags": []
   },
   "outputs": [],
   "source": [
    "#hide\n",
    "for c in 'Cases, Deaths'.split(', '):\n",
    "    df_table[f'{c} (+)'] = (df_table[c] - df_table[f'P{c}']).clip(0)\n",
    "df_table['Fatality Rate'] = (100* df_table['Deaths']/ df_table['Cases']).round(2)"
   ]
  },
  {
   "cell_type": "code",
   "execution_count": 13,
   "metadata": {
    "execution": {
     "iopub.execute_input": "2020-09-22T13:41:03.209210Z",
     "iopub.status.busy": "2020-09-22T13:41:03.208584Z",
     "iopub.status.idle": "2020-09-22T13:41:03.215748Z",
     "shell.execute_reply": "2020-09-22T13:41:03.216320Z"
    },
    "papermill": {
     "duration": 0.034248,
     "end_time": "2020-09-22T13:41:03.216521",
     "exception": false,
     "start_time": "2020-09-22T13:41:03.182273",
     "status": "completed"
    },
    "tags": []
   },
   "outputs": [
    {
     "data": {
      "text/html": [
       "<div>\n",
       "<style scoped>\n",
       "    .dataframe tbody tr th:only-of-type {\n",
       "        vertical-align: middle;\n",
       "    }\n",
       "\n",
       "    .dataframe tbody tr th {\n",
       "        vertical-align: top;\n",
       "    }\n",
       "\n",
       "    .dataframe thead th {\n",
       "        text-align: right;\n",
       "    }\n",
       "</style>\n",
       "<table border=\"1\" class=\"dataframe\">\n",
       "  <thead>\n",
       "    <tr style=\"text-align: right;\">\n",
       "      <th></th>\n",
       "      <th>states</th>\n",
       "      <th>Cases</th>\n",
       "      <th>Deaths</th>\n",
       "      <th>PCases</th>\n",
       "      <th>PDeaths</th>\n",
       "      <th>Cases (+)</th>\n",
       "      <th>Deaths (+)</th>\n",
       "      <th>Fatality Rate</th>\n",
       "    </tr>\n",
       "  </thead>\n",
       "  <tbody>\n",
       "    <tr>\n",
       "      <th>0</th>\n",
       "      <td>Maharashtra</td>\n",
       "      <td>1224380</td>\n",
       "      <td>33015</td>\n",
       "      <td>1224380</td>\n",
       "      <td>33015</td>\n",
       "      <td>0</td>\n",
       "      <td>0</td>\n",
       "      <td>2.70</td>\n",
       "    </tr>\n",
       "    <tr>\n",
       "      <th>1</th>\n",
       "      <td>Andhra Pradesh</td>\n",
       "      <td>631749</td>\n",
       "      <td>5410</td>\n",
       "      <td>631749</td>\n",
       "      <td>5410</td>\n",
       "      <td>0</td>\n",
       "      <td>0</td>\n",
       "      <td>0.86</td>\n",
       "    </tr>\n",
       "    <tr>\n",
       "      <th>2</th>\n",
       "      <td>Tamil Nadu</td>\n",
       "      <td>552674</td>\n",
       "      <td>8947</td>\n",
       "      <td>547337</td>\n",
       "      <td>8871</td>\n",
       "      <td>5337</td>\n",
       "      <td>76</td>\n",
       "      <td>1.62</td>\n",
       "    </tr>\n",
       "    <tr>\n",
       "      <th>3</th>\n",
       "      <td>Karnataka</td>\n",
       "      <td>526876</td>\n",
       "      <td>8145</td>\n",
       "      <td>526876</td>\n",
       "      <td>8145</td>\n",
       "      <td>0</td>\n",
       "      <td>0</td>\n",
       "      <td>1.55</td>\n",
       "    </tr>\n",
       "    <tr>\n",
       "      <th>4</th>\n",
       "      <td>Uttar Pradesh</td>\n",
       "      <td>358893</td>\n",
       "      <td>5135</td>\n",
       "      <td>358893</td>\n",
       "      <td>5135</td>\n",
       "      <td>0</td>\n",
       "      <td>0</td>\n",
       "      <td>1.43</td>\n",
       "    </tr>\n",
       "  </tbody>\n",
       "</table>\n",
       "</div>"
      ],
      "text/plain": [
       "           states    Cases  Deaths   PCases  PDeaths  Cases (+)  Deaths (+)  \\\n",
       "0     Maharashtra  1224380   33015  1224380    33015          0           0   \n",
       "1  Andhra Pradesh   631749    5410   631749     5410          0           0   \n",
       "2      Tamil Nadu   552674    8947   547337     8871       5337          76   \n",
       "3       Karnataka   526876    8145   526876     8145          0           0   \n",
       "4   Uttar Pradesh   358893    5135   358893     5135          0           0   \n",
       "\n",
       "   Fatality Rate  \n",
       "0           2.70  \n",
       "1           0.86  \n",
       "2           1.62  \n",
       "3           1.55  \n",
       "4           1.43  "
      ]
     },
     "execution_count": 13,
     "metadata": {},
     "output_type": "execute_result"
    }
   ],
   "source": [
    "#hide\n",
    "df_table.head()"
   ]
  },
  {
   "cell_type": "code",
   "execution_count": 14,
   "metadata": {
    "execution": {
     "iopub.execute_input": "2020-09-22T13:41:03.262528Z",
     "iopub.status.busy": "2020-09-22T13:41:03.261859Z",
     "iopub.status.idle": "2020-09-22T13:41:03.279910Z",
     "shell.execute_reply": "2020-09-22T13:41:03.280421Z"
    },
    "papermill": {
     "duration": 0.045481,
     "end_time": "2020-09-22T13:41:03.280595",
     "exception": false,
     "start_time": "2020-09-22T13:41:03.235114",
     "status": "completed"
    },
    "tags": []
   },
   "outputs": [
    {
     "data": {
      "text/plain": [
       "{'updated': '2020-09-22',\n",
       " 'since': '2020-09-21',\n",
       " 'Cases': 5574096,\n",
       " 'PCases': 5560120,\n",
       " 'Deaths': 89068,\n",
       " 'PDeaths': 88965,\n",
       " 'Cases (+)': 13976,\n",
       " 'Deaths (+)': 103}"
      ]
     },
     "execution_count": 14,
     "metadata": {},
     "output_type": "execute_result"
    }
   ],
   "source": [
    "#hide\n",
    "summary = {'updated':dates[-1], 'since':dates[-2]}\n",
    "list_names = ['Cases', 'PCases', 'Deaths', 'PDeaths', 'Cases (+)', 'Deaths (+)']\n",
    "for name in list_names:\n",
    "    summary[name] = df_table.sum()[name]\n",
    "summary"
   ]
  },
  {
   "cell_type": "code",
   "execution_count": 15,
   "metadata": {
    "execution": {
     "iopub.execute_input": "2020-09-22T13:41:03.322654Z",
     "iopub.status.busy": "2020-09-22T13:41:03.321970Z",
     "iopub.status.idle": "2020-09-22T13:41:03.324581Z",
     "shell.execute_reply": "2020-09-22T13:41:03.325116Z"
    },
    "papermill": {
     "duration": 0.026151,
     "end_time": "2020-09-22T13:41:03.325279",
     "exception": false,
     "start_time": "2020-09-22T13:41:03.299128",
     "status": "completed"
    },
    "tags": []
   },
   "outputs": [],
   "source": [
    "#hide\n",
    "overview = '''\n",
    "<!-- #######  HTML!! #########-->\n",
    "<h1 style=\"color: #5e9ca0; text-align: center;\">India</h1>\n",
    "<p style=\"text-align: center;\">Last update: <strong>{update}</strong></p>\n",
    "<p style=\"text-align: center;\">Confirmed cases:</p>\n",
    "<p style=\"text-align: center;font-size:24px;\">{cases} (<span style=\"color: #ff0000;\">+{new}</span>)</p>\n",
    "<p style=\"text-align: center;\">Confirmed deaths:</p>\n",
    "<p style=\"text-align: center;font-size:24px;\">{deaths} (<span style=\"color: #ff0000;\">+{dnew}</span>)</p>\n",
    "'''"
   ]
  },
  {
   "cell_type": "code",
   "execution_count": 16,
   "metadata": {
    "execution": {
     "iopub.execute_input": "2020-09-22T13:41:03.369107Z",
     "iopub.status.busy": "2020-09-22T13:41:03.368419Z",
     "iopub.status.idle": "2020-09-22T13:41:03.372207Z",
     "shell.execute_reply": "2020-09-22T13:41:03.371645Z"
    },
    "papermill": {
     "duration": 0.02826,
     "end_time": "2020-09-22T13:41:03.372348",
     "exception": false,
     "start_time": "2020-09-22T13:41:03.344088",
     "status": "completed"
    },
    "tags": []
   },
   "outputs": [
    {
     "data": {
      "text/html": [
       "\n",
       "<!-- #######  HTML!! #########-->\n",
       "<h1 style=\"color: #5e9ca0; text-align: center;\">India</h1>\n",
       "<p style=\"text-align: center;\">Last update: <strong>2020-09-22</strong></p>\n",
       "<p style=\"text-align: center;\">Confirmed cases:</p>\n",
       "<p style=\"text-align: center;font-size:24px;\">5574096 (<span style=\"color: #ff0000;\">+13976</span>)</p>\n",
       "<p style=\"text-align: center;\">Confirmed deaths:</p>\n",
       "<p style=\"text-align: center;font-size:24px;\">89068 (<span style=\"color: #ff0000;\">+103</span>)</p>\n"
      ],
      "text/plain": [
       "<IPython.core.display.HTML object>"
      ]
     },
     "metadata": {},
     "output_type": "display_data"
    }
   ],
   "source": [
    "#hide_input\n",
    "update = summary['updated']\n",
    "cases = summary['Cases']\n",
    "new = summary['Cases (+)']\n",
    "deaths = summary['Deaths']\n",
    "dnew = summary['Deaths (+)']\n",
    "\n",
    "html = HTML(overview.format(update=update, cases=cases,new=new,deaths=deaths,dnew=dnew))\n",
    "\n",
    "display(html)"
   ]
  },
  {
   "cell_type": "code",
   "execution_count": 17,
   "metadata": {
    "execution": {
     "iopub.execute_input": "2020-09-22T13:41:03.418888Z",
     "iopub.status.busy": "2020-09-22T13:41:03.418218Z",
     "iopub.status.idle": "2020-09-22T13:41:03.424804Z",
     "shell.execute_reply": "2020-09-22T13:41:03.424055Z"
    },
    "papermill": {
     "duration": 0.033426,
     "end_time": "2020-09-22T13:41:03.424957",
     "exception": false,
     "start_time": "2020-09-22T13:41:03.391531",
     "status": "completed"
    },
    "tags": []
   },
   "outputs": [],
   "source": [
    "#hide\n",
    "dt_cols = list(dft_cases.columns[1:])\n",
    "dft_ct_new_cases = dft_cases.groupby('state')[dt_cols].sum().diff(axis=1).fillna(0).astype(int)\n",
    "dft_ct_new_cases.sort_values(by = dates[-1], ascending = False,inplace = True)"
   ]
  },
  {
   "cell_type": "code",
   "execution_count": 18,
   "metadata": {
    "execution": {
     "iopub.execute_input": "2020-09-22T13:41:03.485417Z",
     "iopub.status.busy": "2020-09-22T13:41:03.484681Z",
     "iopub.status.idle": "2020-09-22T13:41:03.487454Z",
     "shell.execute_reply": "2020-09-22T13:41:03.488083Z"
    },
    "papermill": {
     "duration": 0.04379,
     "end_time": "2020-09-22T13:41:03.488284",
     "exception": false,
     "start_time": "2020-09-22T13:41:03.444494",
     "status": "completed"
    },
    "tags": []
   },
   "outputs": [
    {
     "data": {
      "text/html": [
       "<div>\n",
       "<style scoped>\n",
       "    .dataframe tbody tr th:only-of-type {\n",
       "        vertical-align: middle;\n",
       "    }\n",
       "\n",
       "    .dataframe tbody tr th {\n",
       "        vertical-align: top;\n",
       "    }\n",
       "\n",
       "    .dataframe thead th {\n",
       "        text-align: right;\n",
       "    }\n",
       "</style>\n",
       "<table border=\"1\" class=\"dataframe\">\n",
       "  <thead>\n",
       "    <tr style=\"text-align: right;\">\n",
       "      <th>states</th>\n",
       "      <th>2020-07-01</th>\n",
       "      <th>2020-07-02</th>\n",
       "      <th>2020-07-03</th>\n",
       "      <th>2020-07-04</th>\n",
       "      <th>2020-07-05</th>\n",
       "      <th>2020-07-06</th>\n",
       "      <th>2020-07-07</th>\n",
       "      <th>2020-07-08</th>\n",
       "      <th>2020-07-09</th>\n",
       "      <th>2020-07-10</th>\n",
       "      <th>...</th>\n",
       "      <th>2020-09-13</th>\n",
       "      <th>2020-09-14</th>\n",
       "      <th>2020-09-15</th>\n",
       "      <th>2020-09-16</th>\n",
       "      <th>2020-09-17</th>\n",
       "      <th>2020-09-18</th>\n",
       "      <th>2020-09-19</th>\n",
       "      <th>2020-09-20</th>\n",
       "      <th>2020-09-21</th>\n",
       "      <th>2020-09-22</th>\n",
       "    </tr>\n",
       "    <tr>\n",
       "      <th>state</th>\n",
       "      <th></th>\n",
       "      <th></th>\n",
       "      <th></th>\n",
       "      <th></th>\n",
       "      <th></th>\n",
       "      <th></th>\n",
       "      <th></th>\n",
       "      <th></th>\n",
       "      <th></th>\n",
       "      <th></th>\n",
       "      <th></th>\n",
       "      <th></th>\n",
       "      <th></th>\n",
       "      <th></th>\n",
       "      <th></th>\n",
       "      <th></th>\n",
       "      <th></th>\n",
       "      <th></th>\n",
       "      <th></th>\n",
       "      <th></th>\n",
       "      <th></th>\n",
       "    </tr>\n",
       "  </thead>\n",
       "  <tbody>\n",
       "    <tr>\n",
       "      <th>Tamil Nadu</th>\n",
       "      <td>0</td>\n",
       "      <td>4343</td>\n",
       "      <td>4329</td>\n",
       "      <td>4280</td>\n",
       "      <td>4150</td>\n",
       "      <td>3827</td>\n",
       "      <td>3616</td>\n",
       "      <td>3756</td>\n",
       "      <td>4231</td>\n",
       "      <td>3680</td>\n",
       "      <td>...</td>\n",
       "      <td>5693</td>\n",
       "      <td>5752</td>\n",
       "      <td>5697</td>\n",
       "      <td>5652</td>\n",
       "      <td>5560</td>\n",
       "      <td>5488</td>\n",
       "      <td>5569</td>\n",
       "      <td>5516</td>\n",
       "      <td>5344</td>\n",
       "      <td>5337</td>\n",
       "    </tr>\n",
       "    <tr>\n",
       "      <th>Odisha</th>\n",
       "      <td>0</td>\n",
       "      <td>229</td>\n",
       "      <td>561</td>\n",
       "      <td>495</td>\n",
       "      <td>469</td>\n",
       "      <td>456</td>\n",
       "      <td>571</td>\n",
       "      <td>527</td>\n",
       "      <td>577</td>\n",
       "      <td>755</td>\n",
       "      <td>...</td>\n",
       "      <td>3913</td>\n",
       "      <td>4198</td>\n",
       "      <td>3645</td>\n",
       "      <td>4270</td>\n",
       "      <td>4241</td>\n",
       "      <td>4180</td>\n",
       "      <td>4209</td>\n",
       "      <td>4330</td>\n",
       "      <td>4242</td>\n",
       "      <td>4189</td>\n",
       "    </tr>\n",
       "    <tr>\n",
       "      <th>Telangana</th>\n",
       "      <td>0</td>\n",
       "      <td>1213</td>\n",
       "      <td>1892</td>\n",
       "      <td>1850</td>\n",
       "      <td>1590</td>\n",
       "      <td>1831</td>\n",
       "      <td>1879</td>\n",
       "      <td>1924</td>\n",
       "      <td>1410</td>\n",
       "      <td>1278</td>\n",
       "      <td>...</td>\n",
       "      <td>2216</td>\n",
       "      <td>1417</td>\n",
       "      <td>2058</td>\n",
       "      <td>2273</td>\n",
       "      <td>2159</td>\n",
       "      <td>2043</td>\n",
       "      <td>2123</td>\n",
       "      <td>2137</td>\n",
       "      <td>1302</td>\n",
       "      <td>2166</td>\n",
       "    </tr>\n",
       "    <tr>\n",
       "      <th>Bihar</th>\n",
       "      <td>0</td>\n",
       "      <td>478</td>\n",
       "      <td>426</td>\n",
       "      <td>349</td>\n",
       "      <td>403</td>\n",
       "      <td>280</td>\n",
       "      <td>385</td>\n",
       "      <td>749</td>\n",
       "      <td>704</td>\n",
       "      <td>352</td>\n",
       "      <td>...</td>\n",
       "      <td>1523</td>\n",
       "      <td>1137</td>\n",
       "      <td>1575</td>\n",
       "      <td>1531</td>\n",
       "      <td>1592</td>\n",
       "      <td>1147</td>\n",
       "      <td>1616</td>\n",
       "      <td>1555</td>\n",
       "      <td>1314</td>\n",
       "      <td>1609</td>\n",
       "    </tr>\n",
       "    <tr>\n",
       "      <th>Tripura</th>\n",
       "      <td>0</td>\n",
       "      <td>39</td>\n",
       "      <td>93</td>\n",
       "      <td>25</td>\n",
       "      <td>23</td>\n",
       "      <td>111</td>\n",
       "      <td>24</td>\n",
       "      <td>57</td>\n",
       "      <td>16</td>\n",
       "      <td>142</td>\n",
       "      <td>...</td>\n",
       "      <td>629</td>\n",
       "      <td>255</td>\n",
       "      <td>531</td>\n",
       "      <td>454</td>\n",
       "      <td>527</td>\n",
       "      <td>273</td>\n",
       "      <td>535</td>\n",
       "      <td>525</td>\n",
       "      <td>243</td>\n",
       "      <td>559</td>\n",
       "    </tr>\n",
       "  </tbody>\n",
       "</table>\n",
       "<p>5 rows × 84 columns</p>\n",
       "</div>"
      ],
      "text/plain": [
       "states      2020-07-01  2020-07-02  2020-07-03  2020-07-04  2020-07-05  \\\n",
       "state                                                                    \n",
       "Tamil Nadu           0        4343        4329        4280        4150   \n",
       "Odisha               0         229         561         495         469   \n",
       "Telangana            0        1213        1892        1850        1590   \n",
       "Bihar                0         478         426         349         403   \n",
       "Tripura              0          39          93          25          23   \n",
       "\n",
       "states      2020-07-06  2020-07-07  2020-07-08  2020-07-09  2020-07-10  ...  \\\n",
       "state                                                                   ...   \n",
       "Tamil Nadu        3827        3616        3756        4231        3680  ...   \n",
       "Odisha             456         571         527         577         755  ...   \n",
       "Telangana         1831        1879        1924        1410        1278  ...   \n",
       "Bihar              280         385         749         704         352  ...   \n",
       "Tripura            111          24          57          16         142  ...   \n",
       "\n",
       "states      2020-09-13  2020-09-14  2020-09-15  2020-09-16  2020-09-17  \\\n",
       "state                                                                    \n",
       "Tamil Nadu        5693        5752        5697        5652        5560   \n",
       "Odisha            3913        4198        3645        4270        4241   \n",
       "Telangana         2216        1417        2058        2273        2159   \n",
       "Bihar             1523        1137        1575        1531        1592   \n",
       "Tripura            629         255         531         454         527   \n",
       "\n",
       "states      2020-09-18  2020-09-19  2020-09-20  2020-09-21  2020-09-22  \n",
       "state                                                                   \n",
       "Tamil Nadu        5488        5569        5516        5344        5337  \n",
       "Odisha            4180        4209        4330        4242        4189  \n",
       "Telangana         2043        2123        2137        1302        2166  \n",
       "Bihar             1147        1616        1555        1314        1609  \n",
       "Tripura            273         535         525         243         559  \n",
       "\n",
       "[5 rows x 84 columns]"
      ]
     },
     "execution_count": 18,
     "metadata": {},
     "output_type": "execute_result"
    }
   ],
   "source": [
    "#hide\n",
    "dft_ct_new_cases.head()"
   ]
  },
  {
   "cell_type": "code",
   "execution_count": 19,
   "metadata": {
    "execution": {
     "iopub.execute_input": "2020-09-22T13:41:03.533263Z",
     "iopub.status.busy": "2020-09-22T13:41:03.532504Z",
     "iopub.status.idle": "2020-09-22T13:41:08.138046Z",
     "shell.execute_reply": "2020-09-22T13:41:08.138604Z"
    },
    "papermill": {
     "duration": 4.629738,
     "end_time": "2020-09-22T13:41:08.138787",
     "exception": false,
     "start_time": "2020-09-22T13:41:03.509049",
     "status": "completed"
    },
    "tags": []
   },
   "outputs": [
    {
     "data": {
      "image/png": "[encoded data removed]",
      "text/plain": [
       "<Figure size 1296x2016 with 11 Axes>"
      ]
     },
     "metadata": {
      "needs_background": "light"
     },
     "output_type": "display_data"
    }
   ],
   "source": [
    "#hide_input\n",
    "df = dft_ct_new_cases.copy()\n",
    "df.loc['Total'] = df.sum()\n",
    "n = 5\n",
    "ax = []\n",
    "fig = plt.figure(figsize = (18,28))\n",
    "gs = fig.add_gridspec(n+2, 5)\n",
    "# gs = fig.add_gridspec(2, 3)\n",
    "ax1 = fig.add_subplot(gs[0, :])\n",
    "ef = df.loc['Total'].rename_axis('date').reset_index()\n",
    "ef['date'] = ef['date'].astype('datetime64[ns]')\n",
    "ax1.bar(ef.date,ef.Total,alpha=0.3,color='#007acc')\n",
    "ax1.plot(ef.date,ef.Total , marker=\"o\", color='#007acc')\n",
    "ax1.xaxis.set_major_locator(mdates.WeekdayLocator())\n",
    "ax1.xaxis.set_major_formatter(mdates.DateFormatter('%b %d'))\n",
    "ax1.text(0.02, 0.5,'India daily case count', transform = ax1.transAxes, fontsize=25);\n",
    "ax1.spines['right'].set_visible(False)\n",
    "ax1.spines['top'].set_visible(False)\n",
    "\n",
    "ax2 = fig.add_subplot(gs[1,0])\n",
    "ef = df.loc['Maharashtra'].rename_axis('date').reset_index()\n",
    "ef['date'] = ef['date'].astype('datetime64[ns]')\n",
    "\n",
    "ax2.bar(ef.date, ef.Maharashtra,color = '#007acc',alpha=0.5)\n",
    "ax2.xaxis.set_major_locator(mdates.WeekdayLocator())\n",
    "ax2.xaxis.set_major_formatter(mdates.DateFormatter('%b %d'))\n",
    "ax2.set_xticks(ax2.get_xticks()[::3])\n",
    "maxyval = ef.Maharashtra.max()\n",
    "ax2.set_ylim([0,maxyval])\n",
    "ax2.text(0.05, 0.9,'Maharashtra', transform = ax2.transAxes, fontsize=20);\n",
    "ax2.spines['right'].set_visible(False)\n",
    "ax2.spines['top'].set_visible(False)\n",
    "\n",
    "\n",
    "ax3 = fig.add_subplot(gs[1,1])\n",
    "ef = df.loc['Tamil Nadu'].rename_axis('date').reset_index()\n",
    "ef['date'] = ef['date'].astype('datetime64[ns]')\n",
    "ax3.bar(ef.date, ef['Tamil Nadu'],color = '#007acc',alpha=0.5,)\n",
    "ax3.xaxis.set_major_locator(mdates.WeekdayLocator())\n",
    "ax3.xaxis.set_major_formatter(mdates.DateFormatter('%b %d'))\n",
    "ax3.set_xticks(ax3.get_xticks()[::3])\n",
    "ax3.text(0.05, 0.9,'Tamil Nadu', transform = ax3.transAxes, fontsize=20);\n",
    "ax3.spines['right'].set_visible(False)\n",
    "ax3.spines['top'].set_visible(False)\n",
    "\n",
    "ax5 = fig.add_subplot(gs[1,3])\n",
    "ef = df.loc['Telangana'].rename_axis('date').reset_index()\n",
    "ef['date'] = ef['date'].astype('datetime64[ns]')\n",
    "ax5.bar(ef.date, ef['Telangana'],color = '#007acc',alpha=0.5,)\n",
    "ax5.xaxis.set_major_locator(mdates.WeekdayLocator())\n",
    "ax5.xaxis.set_major_formatter(mdates.DateFormatter('%b %d'))\n",
    "ax5.set_xticks(ax5.get_xticks()[::3])\n",
    "ax5.text(0.05, 0.9,'Telangana', transform = ax5.transAxes, fontsize=20);\n",
    "ax5.spines['right'].set_visible(False)\n",
    "ax5.spines['top'].set_visible(False)\n",
    "\n",
    "ax6 = fig.add_subplot(gs[1,4])\n",
    "ef = df.loc['Andhra Pradesh'].rename_axis('date').reset_index()\n",
    "ef['date'] = ef['date'].astype('datetime64[ns]')\n",
    "ax6.bar(ef.date, ef['Andhra Pradesh'],color = '#007acc',alpha=0.5,)\n",
    "ax6.xaxis.set_major_locator(mdates.WeekdayLocator())\n",
    "ax6.xaxis.set_major_formatter(mdates.DateFormatter('%b %d'))\n",
    "ax6.set_xticks(ax6.get_xticks()[::3])\n",
    "ax6.text(0.05, 1,'Andhra Pradesh', transform = ax6.transAxes, fontsize=20);\n",
    "ax6.spines['right'].set_visible(False)\n",
    "ax6.spines['top'].set_visible(False)\n",
    "\n",
    "ax4 = fig.add_subplot(gs[1,2])\n",
    "ef = df.loc['Delhi'].rename_axis('date').reset_index()\n",
    "ef['date'] = ef['date'].astype('datetime64[ns]')\n",
    "ax4.bar(ef.date, ef.Delhi,color = '#007acc',alpha=0.5)\n",
    "ax4.set_xticks([])\n",
    "ax4.xaxis.set_major_locator(mdates.WeekdayLocator())\n",
    "ax4.xaxis.set_major_formatter(mdates.DateFormatter('%b %d'))\n",
    "ax4.set_xticks(ax4.get_xticks()[::3])\n",
    "ax4.spines['right'].set_visible(False)\n",
    "ax4.spines['top'].set_visible(False)\n",
    "\n",
    "ax4.text(0.05, 1,'Delhi', transform = ax4.transAxes, fontsize=20)\n",
    "\n",
    "for i in range(n):\n",
    "    \n",
    "    ax.append(fig.add_subplot(gs[i+2,:]))\n",
    "    ef = df.iloc[i+3].rename_axis('date').reset_index()\n",
    "    ef['date'] = ef['date'].astype('datetime64[ns]')\n",
    "    ax[i].bar(ef.date,ef.iloc[:,-1],color = '#007acc',alpha=0.3)\n",
    "    ax[i].plot(ef.date,ef.iloc[:,-1],marker='o',color='#007acc')\n",
    "    ax[i].text(0.02,0.5,f'{ef.columns.values[-1]}',transform = ax[i].transAxes, fontsize = 20);\n",
    "    ax[i].xaxis.set_major_locator(mdates.WeekdayLocator())\n",
    "    ax[i].xaxis.set_major_formatter(mdates.DateFormatter('%b %d'))\n",
    "    ax[i].set_ylim([0,7000])\n",
    "    ax[i].spines['right'].set_visible(False)\n",
    "    ax[i].spines['top'].set_visible(False)\n",
    "plt.tight_layout()\n"
   ]
  },
  {
   "cell_type": "code",
   "execution_count": 20,
   "metadata": {
    "execution": {
     "iopub.execute_input": "2020-09-22T13:41:08.197729Z",
     "iopub.status.busy": "2020-09-22T13:41:08.197015Z",
     "iopub.status.idle": "2020-09-22T13:41:08.202603Z",
     "shell.execute_reply": "2020-09-22T13:41:08.202046Z"
    },
    "papermill": {
     "duration": 0.039714,
     "end_time": "2020-09-22T13:41:08.202759",
     "exception": false,
     "start_time": "2020-09-22T13:41:08.163045",
     "status": "completed"
    },
    "tags": []
   },
   "outputs": [
    {
     "name": "stdout",
     "output_type": "stream",
     "text": [
      "                                   states    Cases  Deaths   PCases  PDeaths  Cases (+)  Deaths (+)  Fatality Rate\n",
      "                              Maharashtra  1224380   33015  1224380    33015          0           0           2.70\n",
      "                           Andhra Pradesh   631749    5410   631749     5410          0           0           0.86\n",
      "                               Tamil Nadu   552674    8947   547337     8871       5337          76           1.62\n",
      "                                Karnataka   526876    8145   526876     8145          0           0           1.55\n",
      "                            Uttar Pradesh   358893    5135   358893     5135          0           0           1.43\n",
      "                                    Delhi   249259    5014   249259     5014          0           0           2.01\n",
      "                              West Bengal   228302    4421   228302     4421          0           0           1.94\n",
      "                                   Odisha   188311     774   184122      763       4189          11           0.41\n",
      "                                Telangana   174774    1052   172608     1042       2166          10           0.60\n",
      "                                    Bihar   171465     873   169856      870       1609           3           0.51\n",
      "                                    Assam   159320     578   159320      578          0           0           0.36\n",
      "                                   Kerala   138633     554   138633      554          0           0           0.40\n",
      "                                  Gujarat   124767    3337   124767     3337          0           0           2.67\n",
      "                                Rajasthan   116881    1352   116881     1352          0           0           1.16\n",
      "                                  Haryana   113075    1177   113075     1177          0           0           1.04\n",
      "                           Madhya Pradesh   108167    2007   108167     2007          0           0           1.86\n",
      "                                   Punjab    99930    2860    99930     2860          0           0           2.86\n",
      "                             Chhattisgarh    88181     690    88181      690          0           0           0.78\n",
      "                                Jharkhand    72673     626    72673      626          0           0           0.86\n",
      "                        Jammu and Kashmir    65026    1024    65026     1024          0           0           1.57\n",
      "                              Uttarakhand    41777     501    41777      501          0           0           1.20\n",
      "                                      Goa    28753     360    28753      360          0           0           1.25\n",
      "                               Puducherry    23191     467    23191      467          0           0           2.01\n",
      "                                  Tripura    22831     248    22272      245        559           3           1.09\n",
      "                         Himachal Pradesh    12438     125    12438      125          0           0           1.00\n",
      "                               Chandigarh    10298     123    10298      123          0           0           1.19\n",
      "                                  Manipur     9010      59     9010       59          0           0           0.65\n",
      "                        Arunachal Pradesh     7595      13     7595       13          0           0           0.17\n",
      "                                 Nagaland     5544      10     5544       10          0           0           0.18\n",
      "                                Meghalaya     4733      38     4733       38          0           0           0.80\n",
      "                                   Ladakh     3832      50     3832       50          0           0           1.30\n",
      "              Andaman and Nicobar Islands     3673      52     3673       52          0           0           1.42\n",
      " Dadra and Nagar Haveli and Daman and Diu     2947       2     2937        2         10           0           0.07\n",
      "                                   Sikkim     2447      29     2447       29          0           0           1.19\n",
      "                                  Mizoram     1691       0     1585        0        106           0           0.00\n",
      "                              Lakshadweep        0       0        0        0          0           0            NaN\n"
     ]
    }
   ],
   "source": [
    "#hide_input\n",
    "print(df_table.to_string(index=False))"
   ]
  },
  {
   "cell_type": "code",
   "execution_count": null,
   "metadata": {
    "papermill": {
     "duration": 0.024207,
     "end_time": "2020-09-22T13:41:08.251169",
     "exception": false,
     "start_time": "2020-09-22T13:41:08.226962",
     "status": "completed"
    },
    "tags": []
   },
   "outputs": [],
   "source": []
  },
  {
   "cell_type": "code",
   "execution_count": null,
   "metadata": {
    "papermill": {
     "duration": 0.025216,
     "end_time": "2020-09-22T13:41:08.300782",
     "exception": false,
     "start_time": "2020-09-22T13:41:08.275566",
     "status": "completed"
    },
    "tags": []
   },
   "outputs": [],
   "source": []
  }
 ],
 "metadata": {
  "kernelspec": {
   "display_name": "Python 3",
   "language": "python",
   "name": "python3"
  },
  "language_info": {
   "codemirror_mode": {
    "name": "ipython",
    "version": 3
   },
   "file_extension": ".py",
   "mimetype": "text/x-python",
   "name": "python",
   "nbconvert_exporter": "python",
   "pygments_lexer": "ipython3",
   "version": "3.6.12"
  },
  "papermill": {
   "duration": 11.601893,
   "end_time": "2020-09-22T13:41:08.734166",
   "environment_variables": {},
   "exception": null,
   "input_path": "latest.ipynb",
   "output_path": "latest.ipynb",
   "parameters": {},
   "start_time": "2020-09-22T13:40:57.132273",
   "version": "2.1.2"
  }
 },
 "nbformat": 4,
 "nbformat_minor": 4
}