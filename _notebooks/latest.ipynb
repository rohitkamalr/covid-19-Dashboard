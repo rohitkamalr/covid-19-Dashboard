{
 "cells": [
  {
   "cell_type": "markdown",
   "metadata": {
    "papermill": {
     "duration": 0.015998,
     "end_time": "2020-11-03T08:37:48.547105",
     "exception": false,
     "start_time": "2020-11-03T08:37:48.531107",
     "status": "completed"
    },
    "tags": []
   },
   "source": [
    "# Latest COVID-19 India Matplotlib Overview"
   ]
  },
  {
   "cell_type": "code",
   "execution_count": 1,
   "metadata": {
    "execution": {
     "iopub.execute_input": "2020-11-03T08:37:48.579415Z",
     "iopub.status.busy": "2020-11-03T08:37:48.578887Z",
     "iopub.status.idle": "2020-11-03T08:37:49.088102Z",
     "shell.execute_reply": "2020-11-03T08:37:49.088527Z"
    },
    "papermill": {
     "duration": 0.527667,
     "end_time": "2020-11-03T08:37:49.088694",
     "exception": false,
     "start_time": "2020-11-03T08:37:48.561027",
     "status": "completed"
    },
    "tags": []
   },
   "outputs": [],
   "source": [
    "#hide\n",
    "import pandas as pd\n",
    "import numpy as np\n",
    "import requests\n",
    "import json\n",
    "import matplotlib.pyplot as plt\n",
    "import matplotlib.dates as mdates\n",
    "import matplotlib as mpl\n",
    "from IPython.core.display import display,HTML\n",
    "%matplotlib inline\n",
    "from datetime import date"
   ]
  },
  {
   "cell_type": "code",
   "execution_count": 2,
   "metadata": {
    "execution": {
     "iopub.execute_input": "2020-11-03T08:37:49.122178Z",
     "iopub.status.busy": "2020-11-03T08:37:49.121369Z",
     "iopub.status.idle": "2020-11-03T08:37:49.506542Z",
     "shell.execute_reply": "2020-11-03T08:37:49.506974Z"
    },
    "papermill": {
     "duration": 0.404591,
     "end_time": "2020-11-03T08:37:49.507123",
     "exception": false,
     "start_time": "2020-11-03T08:37:49.102532",
     "status": "completed"
    },
    "tags": []
   },
   "outputs": [],
   "source": [
    "#hide\n",
    "df  = pd.read_csv('https://api.covid19india.org/csv/latest/states.csv')\n",
    "df = df[['Date','State','Confirmed','Deceased']]\n",
    "df = df.rename(columns={'Confirmed':'Cases', \"Deceased\":'Deaths'})\n",
    "df_cases = df[[\"Date\",'State','Cases']]\n",
    "df_deaths = df[['Date','State','Deaths']]\n",
    "df_cases1 = df_cases.groupby('Date')\n",
    "df_deaths1= df_deaths.groupby('Date')"
   ]
  },
  {
   "cell_type": "code",
   "execution_count": 3,
   "metadata": {
    "execution": {
     "iopub.execute_input": "2020-11-03T08:37:49.538036Z",
     "iopub.status.busy": "2020-11-03T08:37:49.537486Z",
     "iopub.status.idle": "2020-11-03T08:37:49.552866Z",
     "shell.execute_reply": "2020-11-03T08:37:49.552274Z"
    },
    "papermill": {
     "duration": 0.032546,
     "end_time": "2020-11-03T08:37:49.552986",
     "exception": false,
     "start_time": "2020-11-03T08:37:49.520440",
     "status": "completed"
    },
    "tags": []
   },
   "outputs": [],
   "source": [
    "#hide\n",
    "df_snap = pd.read_csv('data/SnapshotCases-28-July.csv')\n",
    "arr_states = df_snap['states'].unique()\n",
    "arr_dates = df['Date'].unique()\n",
    "df_snap = df_snap.set_index('states')"
   ]
  },
  {
   "cell_type": "code",
   "execution_count": 4,
   "metadata": {
    "execution": {
     "iopub.execute_input": "2020-11-03T08:37:49.585499Z",
     "iopub.status.busy": "2020-11-03T08:37:49.584926Z",
     "iopub.status.idle": "2020-11-03T08:37:49.588031Z",
     "shell.execute_reply": "2020-11-03T08:37:49.587607Z"
    },
    "papermill": {
     "duration": 0.021855,
     "end_time": "2020-11-03T08:37:49.588146",
     "exception": false,
     "start_time": "2020-11-03T08:37:49.566291",
     "status": "completed"
    },
    "tags": []
   },
   "outputs": [
    {
     "data": {
      "text/plain": [
       "array(['Andaman and Nicobar Islands', 'Andhra Pradesh',\n",
       "       'Arunachal Pradesh', 'Assam', 'Bihar', 'Chandigarh',\n",
       "       'Dadra and Nagar Haveli and Daman and Diu', 'Delhi', 'Goa',\n",
       "       'Gujarat', 'Haryana', 'Himachal Pradesh', 'Jammu and Kashmir',\n",
       "       'Jharkhand', 'Karnataka', 'Kerala', 'Lakshadweep',\n",
       "       'Madhya Pradesh', 'Maharashtra', 'Manipur', 'Meghalaya', 'Mizoram',\n",
       "       'Nagaland', 'Odisha', 'Puducherry', 'Punjab', 'Rajasthan',\n",
       "       'Sikkim', 'Tamil Nadu', 'Telangana', 'Tripura', 'Uttar Pradesh',\n",
       "       'West Bengal', 'Chhattisgarh', 'Ladakh', 'Uttarakhand'],\n",
       "      dtype=object)"
      ]
     },
     "execution_count": 4,
     "metadata": {},
     "output_type": "execute_result"
    }
   ],
   "source": [
    "#hide\n",
    "arr_states[-9] = 'Puducherry'\n",
    "arr_states[-10] = 'Odisha'\n",
    "arr_states[6] = 'Dadra and Nagar Haveli and Daman and Diu'\n",
    "arr_states = np.append(arr_states,np.array(['Chhattisgarh','Ladakh','Uttarakhand']))\n",
    "arr_states"
   ]
  },
  {
   "cell_type": "code",
   "execution_count": 5,
   "metadata": {
    "execution": {
     "iopub.execute_input": "2020-11-03T08:37:49.623364Z",
     "iopub.status.busy": "2020-11-03T08:37:49.622699Z",
     "iopub.status.idle": "2020-11-03T08:37:49.631192Z",
     "shell.execute_reply": "2020-11-03T08:37:49.630623Z"
    },
    "papermill": {
     "duration": 0.029201,
     "end_time": "2020-11-03T08:37:49.631298",
     "exception": false,
     "start_time": "2020-11-03T08:37:49.602097",
     "status": "completed"
    },
    "tags": []
   },
   "outputs": [],
   "source": [
    "#hide\n",
    "dates = []\n",
    "for i in arr_dates:\n",
    "    if i>='2020-07-01':\n",
    "        dates.append(i)\n",
    "dict = {'states':dates}\n",
    "for i in arr_states:\n",
    "    dict[i] = [0]*len(dates)\n",
    "dft_cases = pd.DataFrame(dict)\n",
    "dft_deaths = pd.DataFrame(dict)\n"
   ]
  },
  {
   "cell_type": "code",
   "execution_count": 6,
   "metadata": {
    "execution": {
     "iopub.execute_input": "2020-11-03T08:37:49.663270Z",
     "iopub.status.busy": "2020-11-03T08:37:49.662744Z",
     "iopub.status.idle": "2020-11-03T08:37:51.602468Z",
     "shell.execute_reply": "2020-11-03T08:37:51.601728Z"
    },
    "papermill": {
     "duration": 1.957858,
     "end_time": "2020-11-03T08:37:51.602599",
     "exception": false,
     "start_time": "2020-11-03T08:37:49.644741",
     "status": "completed"
    },
    "tags": []
   },
   "outputs": [],
   "source": [
    "#hide\n",
    "for i in range(len(dates)):\n",
    "    df1_deaths = df_deaths1.get_group(dates[i])\n",
    "    for j in range(len(df1_deaths.index)):\n",
    "        if df1_deaths.iloc[j,1] in arr_states:\n",
    "            dft_deaths.loc[i,df1_deaths.iloc[j,1]] = df1_deaths.iloc[j,2]\n",
    "dft_deaths = dft_deaths.set_index('states')"
   ]
  },
  {
   "cell_type": "code",
   "execution_count": 7,
   "metadata": {
    "execution": {
     "iopub.execute_input": "2020-11-03T08:37:51.638779Z",
     "iopub.status.busy": "2020-11-03T08:37:51.638073Z",
     "iopub.status.idle": "2020-11-03T08:37:53.585464Z",
     "shell.execute_reply": "2020-11-03T08:37:53.584990Z"
    },
    "papermill": {
     "duration": 1.968146,
     "end_time": "2020-11-03T08:37:53.585593",
     "exception": false,
     "start_time": "2020-11-03T08:37:51.617447",
     "status": "completed"
    },
    "tags": []
   },
   "outputs": [],
   "source": [
    "#hide\n",
    "for i in range(len(dates)):\n",
    "    df1_cases = df_cases1.get_group(dates[i])\n",
    "    for j in range(len(df1_cases.index)):\n",
    "        if df1_cases.iloc[j,1] in arr_states:\n",
    "            dft_cases.loc[i,df1_cases.iloc[j,1]] = df1_cases.iloc[j,2]\n",
    "dft_cases = dft_cases.set_index('states')"
   ]
  },
  {
   "cell_type": "code",
   "execution_count": 8,
   "metadata": {
    "execution": {
     "iopub.execute_input": "2020-11-03T08:37:53.620461Z",
     "iopub.status.busy": "2020-11-03T08:37:53.619845Z",
     "iopub.status.idle": "2020-11-03T08:37:53.623894Z",
     "shell.execute_reply": "2020-11-03T08:37:53.623397Z"
    },
    "papermill": {
     "duration": 0.024436,
     "end_time": "2020-11-03T08:37:53.624000",
     "exception": false,
     "start_time": "2020-11-03T08:37:53.599564",
     "status": "completed"
    },
    "tags": []
   },
   "outputs": [],
   "source": [
    "#hide\n",
    "dft_cases = dft_cases.T\n",
    "dft_deaths = dft_deaths.T\n",
    "dt_today = dates[-1]\n",
    "dt_yday = dates[-2]"
   ]
  },
  {
   "cell_type": "code",
   "execution_count": 9,
   "metadata": {
    "execution": {
     "iopub.execute_input": "2020-11-03T08:37:53.657861Z",
     "iopub.status.busy": "2020-11-03T08:37:53.657289Z",
     "iopub.status.idle": "2020-11-03T08:37:53.659513Z",
     "shell.execute_reply": "2020-11-03T08:37:53.659095Z"
    },
    "papermill": {
     "duration": 0.022436,
     "end_time": "2020-11-03T08:37:53.659622",
     "exception": false,
     "start_time": "2020-11-03T08:37:53.637186",
     "status": "completed"
    },
    "tags": []
   },
   "outputs": [],
   "source": [
    "#hide\n",
    "dft_cases = dft_cases.reset_index()\n",
    "dft_deaths = dft_deaths.reset_index()\n",
    "dft_cases = dft_cases.rename(columns = {'index':'state'})\n",
    "dft_deaths = dft_deaths.rename(columns = {'index':'state'})"
   ]
  },
  {
   "cell_type": "code",
   "execution_count": 10,
   "metadata": {
    "execution": {
     "iopub.execute_input": "2020-11-03T08:37:53.698308Z",
     "iopub.status.busy": "2020-11-03T08:37:53.697753Z",
     "iopub.status.idle": "2020-11-03T08:37:53.700388Z",
     "shell.execute_reply": "2020-11-03T08:37:53.699889Z"
    },
    "papermill": {
     "duration": 0.026585,
     "end_time": "2020-11-03T08:37:53.700490",
     "exception": false,
     "start_time": "2020-11-03T08:37:53.673905",
     "status": "completed"
    },
    "tags": []
   },
   "outputs": [],
   "source": [
    "#hide\n",
    "dfc_cases = dft_cases.groupby('state')[dt_today].sum()\n",
    "dfc_deaths = dft_deaths.groupby('state')[dt_today].sum()\n",
    "dfp_cases = dft_cases.groupby('state')[dt_yday].sum()\n",
    "dfp_deaths = dft_deaths.groupby('state')[dt_yday].sum()"
   ]
  },
  {
   "cell_type": "code",
   "execution_count": 11,
   "metadata": {
    "execution": {
     "iopub.execute_input": "2020-11-03T08:37:53.734546Z",
     "iopub.status.busy": "2020-11-03T08:37:53.734041Z",
     "iopub.status.idle": "2020-11-03T08:37:53.745923Z",
     "shell.execute_reply": "2020-11-03T08:37:53.745214Z"
    },
    "papermill": {
     "duration": 0.032027,
     "end_time": "2020-11-03T08:37:53.746025",
     "exception": false,
     "start_time": "2020-11-03T08:37:53.713998",
     "status": "completed"
    },
    "tags": []
   },
   "outputs": [
    {
     "data": {
      "text/html": [
       "<div>\n",
       "<style scoped>\n",
       "    .dataframe tbody tr th:only-of-type {\n",
       "        vertical-align: middle;\n",
       "    }\n",
       "\n",
       "    .dataframe tbody tr th {\n",
       "        vertical-align: top;\n",
       "    }\n",
       "\n",
       "    .dataframe thead th {\n",
       "        text-align: right;\n",
       "    }\n",
       "</style>\n",
       "<table border=\"1\" class=\"dataframe\">\n",
       "  <thead>\n",
       "    <tr style=\"text-align: right;\">\n",
       "      <th></th>\n",
       "      <th>states</th>\n",
       "      <th>Cases</th>\n",
       "      <th>Deaths</th>\n",
       "      <th>PCases</th>\n",
       "      <th>PDeaths</th>\n",
       "    </tr>\n",
       "  </thead>\n",
       "  <tbody>\n",
       "    <tr>\n",
       "      <th>0</th>\n",
       "      <td>Maharashtra</td>\n",
       "      <td>1687784</td>\n",
       "      <td>44128</td>\n",
       "      <td>1687784</td>\n",
       "      <td>44128</td>\n",
       "    </tr>\n",
       "    <tr>\n",
       "      <th>1</th>\n",
       "      <td>Karnataka</td>\n",
       "      <td>829640</td>\n",
       "      <td>11221</td>\n",
       "      <td>829640</td>\n",
       "      <td>11221</td>\n",
       "    </tr>\n",
       "    <tr>\n",
       "      <th>2</th>\n",
       "      <td>Andhra Pradesh</td>\n",
       "      <td>827882</td>\n",
       "      <td>6719</td>\n",
       "      <td>827882</td>\n",
       "      <td>6719</td>\n",
       "    </tr>\n",
       "    <tr>\n",
       "      <th>3</th>\n",
       "      <td>Tamil Nadu</td>\n",
       "      <td>729507</td>\n",
       "      <td>11183</td>\n",
       "      <td>729507</td>\n",
       "      <td>11183</td>\n",
       "    </tr>\n",
       "    <tr>\n",
       "      <th>4</th>\n",
       "      <td>Uttar Pradesh</td>\n",
       "      <td>485609</td>\n",
       "      <td>7076</td>\n",
       "      <td>485609</td>\n",
       "      <td>7076</td>\n",
       "    </tr>\n",
       "  </tbody>\n",
       "</table>\n",
       "</div>"
      ],
      "text/plain": [
       "           states    Cases  Deaths   PCases  PDeaths\n",
       "0     Maharashtra  1687784   44128  1687784    44128\n",
       "1       Karnataka   829640   11221   829640    11221\n",
       "2  Andhra Pradesh   827882    6719   827882     6719\n",
       "3      Tamil Nadu   729507   11183   729507    11183\n",
       "4   Uttar Pradesh   485609    7076   485609     7076"
      ]
     },
     "execution_count": 11,
     "metadata": {},
     "output_type": "execute_result"
    }
   ],
   "source": [
    "#hide\n",
    "df_table = pd.DataFrame({'states': dfc_cases.index, 'Cases': dfc_cases.values, 'Deaths': dfc_deaths.values, 'PCases': dfp_cases.values, 'PDeaths': dfp_deaths.values}).set_index('states')\n",
    "df_table = df_table.sort_values(by = ['Cases','Deaths'], ascending = [False, False])\n",
    "df_table = df_table.reset_index()\n",
    "df_table.head()"
   ]
  },
  {
   "cell_type": "code",
   "execution_count": 12,
   "metadata": {
    "execution": {
     "iopub.execute_input": "2020-11-03T08:37:53.779516Z",
     "iopub.status.busy": "2020-11-03T08:37:53.778886Z",
     "iopub.status.idle": "2020-11-03T08:37:53.786733Z",
     "shell.execute_reply": "2020-11-03T08:37:53.786225Z"
    },
    "papermill": {
     "duration": 0.026788,
     "end_time": "2020-11-03T08:37:53.786840",
     "exception": false,
     "start_time": "2020-11-03T08:37:53.760052",
     "status": "completed"
    },
    "tags": []
   },
   "outputs": [],
   "source": [
    "#hide\n",
    "for c in 'Cases, Deaths'.split(', '):\n",
    "    df_table[f'{c} (+)'] = (df_table[c] - df_table[f'P{c}']).clip(0)\n",
    "df_table['Fatality Rate'] = (100* df_table['Deaths']/ df_table['Cases']).round(2)"
   ]
  },
  {
   "cell_type": "code",
   "execution_count": 13,
   "metadata": {
    "execution": {
     "iopub.execute_input": "2020-11-03T08:37:53.827234Z",
     "iopub.status.busy": "2020-11-03T08:37:53.826630Z",
     "iopub.status.idle": "2020-11-03T08:37:53.829812Z",
     "shell.execute_reply": "2020-11-03T08:37:53.829350Z"
    },
    "papermill": {
     "duration": 0.028473,
     "end_time": "2020-11-03T08:37:53.829915",
     "exception": false,
     "start_time": "2020-11-03T08:37:53.801442",
     "status": "completed"
    },
    "tags": []
   },
   "outputs": [
    {
     "data": {
      "text/html": [
       "<div>\n",
       "<style scoped>\n",
       "    .dataframe tbody tr th:only-of-type {\n",
       "        vertical-align: middle;\n",
       "    }\n",
       "\n",
       "    .dataframe tbody tr th {\n",
       "        vertical-align: top;\n",
       "    }\n",
       "\n",
       "    .dataframe thead th {\n",
       "        text-align: right;\n",
       "    }\n",
       "</style>\n",
       "<table border=\"1\" class=\"dataframe\">\n",
       "  <thead>\n",
       "    <tr style=\"text-align: right;\">\n",
       "      <th></th>\n",
       "      <th>states</th>\n",
       "      <th>Cases</th>\n",
       "      <th>Deaths</th>\n",
       "      <th>PCases</th>\n",
       "      <th>PDeaths</th>\n",
       "      <th>Cases (+)</th>\n",
       "      <th>Deaths (+)</th>\n",
       "      <th>Fatality Rate</th>\n",
       "    </tr>\n",
       "  </thead>\n",
       "  <tbody>\n",
       "    <tr>\n",
       "      <th>0</th>\n",
       "      <td>Maharashtra</td>\n",
       "      <td>1687784</td>\n",
       "      <td>44128</td>\n",
       "      <td>1687784</td>\n",
       "      <td>44128</td>\n",
       "      <td>0</td>\n",
       "      <td>0</td>\n",
       "      <td>2.61</td>\n",
       "    </tr>\n",
       "    <tr>\n",
       "      <th>1</th>\n",
       "      <td>Karnataka</td>\n",
       "      <td>829640</td>\n",
       "      <td>11221</td>\n",
       "      <td>829640</td>\n",
       "      <td>11221</td>\n",
       "      <td>0</td>\n",
       "      <td>0</td>\n",
       "      <td>1.35</td>\n",
       "    </tr>\n",
       "    <tr>\n",
       "      <th>2</th>\n",
       "      <td>Andhra Pradesh</td>\n",
       "      <td>827882</td>\n",
       "      <td>6719</td>\n",
       "      <td>827882</td>\n",
       "      <td>6719</td>\n",
       "      <td>0</td>\n",
       "      <td>0</td>\n",
       "      <td>0.81</td>\n",
       "    </tr>\n",
       "    <tr>\n",
       "      <th>3</th>\n",
       "      <td>Tamil Nadu</td>\n",
       "      <td>729507</td>\n",
       "      <td>11183</td>\n",
       "      <td>729507</td>\n",
       "      <td>11183</td>\n",
       "      <td>0</td>\n",
       "      <td>0</td>\n",
       "      <td>1.53</td>\n",
       "    </tr>\n",
       "    <tr>\n",
       "      <th>4</th>\n",
       "      <td>Uttar Pradesh</td>\n",
       "      <td>485609</td>\n",
       "      <td>7076</td>\n",
       "      <td>485609</td>\n",
       "      <td>7076</td>\n",
       "      <td>0</td>\n",
       "      <td>0</td>\n",
       "      <td>1.46</td>\n",
       "    </tr>\n",
       "  </tbody>\n",
       "</table>\n",
       "</div>"
      ],
      "text/plain": [
       "           states    Cases  Deaths   PCases  PDeaths  Cases (+)  Deaths (+)  \\\n",
       "0     Maharashtra  1687784   44128  1687784    44128          0           0   \n",
       "1       Karnataka   829640   11221   829640    11221          0           0   \n",
       "2  Andhra Pradesh   827882    6719   827882     6719          0           0   \n",
       "3      Tamil Nadu   729507   11183   729507    11183          0           0   \n",
       "4   Uttar Pradesh   485609    7076   485609     7076          0           0   \n",
       "\n",
       "   Fatality Rate  \n",
       "0           2.61  \n",
       "1           1.35  \n",
       "2           0.81  \n",
       "3           1.53  \n",
       "4           1.46  "
      ]
     },
     "execution_count": 13,
     "metadata": {},
     "output_type": "execute_result"
    }
   ],
   "source": [
    "#hide\n",
    "df_table.head()"
   ]
  },
  {
   "cell_type": "code",
   "execution_count": 14,
   "metadata": {
    "execution": {
     "iopub.execute_input": "2020-11-03T08:37:53.863240Z",
     "iopub.status.busy": "2020-11-03T08:37:53.862646Z",
     "iopub.status.idle": "2020-11-03T08:37:53.878296Z",
     "shell.execute_reply": "2020-11-03T08:37:53.878690Z"
    },
    "papermill": {
     "duration": 0.034609,
     "end_time": "2020-11-03T08:37:53.878804",
     "exception": false,
     "start_time": "2020-11-03T08:37:53.844195",
     "status": "completed"
    },
    "tags": []
   },
   "outputs": [
    {
     "data": {
      "text/plain": [
       "{'updated': '2020-11-03',\n",
       " 'since': '2020-11-02',\n",
       " 'Cases': 8268115,\n",
       " 'PCases': 8266914,\n",
       " 'Deaths': 123151,\n",
       " 'PDeaths': 123139,\n",
       " 'Cases (+)': 1201,\n",
       " 'Deaths (+)': 12}"
      ]
     },
     "execution_count": 14,
     "metadata": {},
     "output_type": "execute_result"
    }
   ],
   "source": [
    "#hide\n",
    "summary = {'updated':dates[-1], 'since':dates[-2]}\n",
    "list_names = ['Cases', 'PCases', 'Deaths', 'PDeaths', 'Cases (+)', 'Deaths (+)']\n",
    "for name in list_names:\n",
    "    summary[name] = df_table.sum()[name]\n",
    "summary"
   ]
  },
  {
   "cell_type": "code",
   "execution_count": 15,
   "metadata": {
    "execution": {
     "iopub.execute_input": "2020-11-03T08:37:53.911296Z",
     "iopub.status.busy": "2020-11-03T08:37:53.910742Z",
     "iopub.status.idle": "2020-11-03T08:37:53.913252Z",
     "shell.execute_reply": "2020-11-03T08:37:53.912736Z"
    },
    "papermill": {
     "duration": 0.020098,
     "end_time": "2020-11-03T08:37:53.913360",
     "exception": false,
     "start_time": "2020-11-03T08:37:53.893262",
     "status": "completed"
    },
    "tags": []
   },
   "outputs": [],
   "source": [
    "#hide\n",
    "overview = '''\n",
    "<!-- #######  HTML!! #########-->\n",
    "<h1 style=\"color: #5e9ca0; text-align: center;\">India</h1>\n",
    "<p style=\"text-align: center;\">Last update: <strong>{update}</strong></p>\n",
    "<p style=\"text-align: center;\">Confirmed cases:</p>\n",
    "<p style=\"text-align: center;font-size:24px;\">{cases} (<span style=\"color: #ff0000;\">+{new}</span>)</p>\n",
    "<p style=\"text-align: center;\">Confirmed deaths:</p>\n",
    "<p style=\"text-align: center;font-size:24px;\">{deaths} (<span style=\"color: #ff0000;\">+{dnew}</span>)</p>\n",
    "'''"
   ]
  },
  {
   "cell_type": "code",
   "execution_count": 16,
   "metadata": {
    "execution": {
     "iopub.execute_input": "2020-11-03T08:37:53.951897Z",
     "iopub.status.busy": "2020-11-03T08:37:53.951324Z",
     "iopub.status.idle": "2020-11-03T08:37:53.954095Z",
     "shell.execute_reply": "2020-11-03T08:37:53.954558Z"
    },
    "papermill": {
     "duration": 0.026629,
     "end_time": "2020-11-03T08:37:53.954679",
     "exception": false,
     "start_time": "2020-11-03T08:37:53.928050",
     "status": "completed"
    },
    "tags": []
   },
   "outputs": [
    {
     "data": {
      "text/html": [
       "\n",
       "<!-- #######  HTML!! #########-->\n",
       "<h1 style=\"color: #5e9ca0; text-align: center;\">India</h1>\n",
       "<p style=\"text-align: center;\">Last update: <strong>2020-11-03</strong></p>\n",
       "<p style=\"text-align: center;\">Confirmed cases:</p>\n",
       "<p style=\"text-align: center;font-size:24px;\">8268115 (<span style=\"color: #ff0000;\">+1201</span>)</p>\n",
       "<p style=\"text-align: center;\">Confirmed deaths:</p>\n",
       "<p style=\"text-align: center;font-size:24px;\">123151 (<span style=\"color: #ff0000;\">+12</span>)</p>\n"
      ],
      "text/plain": [
       "<IPython.core.display.HTML object>"
      ]
     },
     "metadata": {},
     "output_type": "display_data"
    }
   ],
   "source": [
    "#hide_input\n",
    "update = summary['updated']\n",
    "cases = summary['Cases']\n",
    "new = summary['Cases (+)']\n",
    "deaths = summary['Deaths']\n",
    "dnew = summary['Deaths (+)']\n",
    "\n",
    "html = HTML(overview.format(update=update, cases=cases,new=new,deaths=deaths,dnew=dnew))\n",
    "\n",
    "display(html)"
   ]
  },
  {
   "cell_type": "code",
   "execution_count": 17,
   "metadata": {
    "execution": {
     "iopub.execute_input": "2020-11-03T08:37:53.994529Z",
     "iopub.status.busy": "2020-11-03T08:37:53.993978Z",
     "iopub.status.idle": "2020-11-03T08:37:53.999488Z",
     "shell.execute_reply": "2020-11-03T08:37:53.999046Z"
    },
    "papermill": {
     "duration": 0.028342,
     "end_time": "2020-11-03T08:37:53.999591",
     "exception": false,
     "start_time": "2020-11-03T08:37:53.971249",
     "status": "completed"
    },
    "tags": []
   },
   "outputs": [],
   "source": [
    "#hide\n",
    "dt_cols = list(dft_cases.columns[1:])\n",
    "dft_ct_new_cases = dft_cases.groupby('state')[dt_cols].sum().diff(axis=1).fillna(0).astype(int)\n",
    "dft_ct_new_cases.sort_values(by = dates[-1], ascending = False,inplace = True)"
   ]
  },
  {
   "cell_type": "code",
   "execution_count": 18,
   "metadata": {
    "execution": {
     "iopub.execute_input": "2020-11-03T08:37:54.043915Z",
     "iopub.status.busy": "2020-11-03T08:37:54.043405Z",
     "iopub.status.idle": "2020-11-03T08:37:54.045949Z",
     "shell.execute_reply": "2020-11-03T08:37:54.046389Z"
    },
    "papermill": {
     "duration": 0.032251,
     "end_time": "2020-11-03T08:37:54.046503",
     "exception": false,
     "start_time": "2020-11-03T08:37:54.014252",
     "status": "completed"
    },
    "tags": []
   },
   "outputs": [
    {
     "data": {
      "text/html": [
       "<div>\n",
       "<style scoped>\n",
       "    .dataframe tbody tr th:only-of-type {\n",
       "        vertical-align: middle;\n",
       "    }\n",
       "\n",
       "    .dataframe tbody tr th {\n",
       "        vertical-align: top;\n",
       "    }\n",
       "\n",
       "    .dataframe thead th {\n",
       "        text-align: right;\n",
       "    }\n",
       "</style>\n",
       "<table border=\"1\" class=\"dataframe\">\n",
       "  <thead>\n",
       "    <tr style=\"text-align: right;\">\n",
       "      <th>states</th>\n",
       "      <th>2020-07-01</th>\n",
       "      <th>2020-07-02</th>\n",
       "      <th>2020-07-03</th>\n",
       "      <th>2020-07-04</th>\n",
       "      <th>2020-07-05</th>\n",
       "      <th>2020-07-06</th>\n",
       "      <th>2020-07-07</th>\n",
       "      <th>2020-07-08</th>\n",
       "      <th>2020-07-09</th>\n",
       "      <th>2020-07-10</th>\n",
       "      <th>...</th>\n",
       "      <th>2020-10-25</th>\n",
       "      <th>2020-10-26</th>\n",
       "      <th>2020-10-27</th>\n",
       "      <th>2020-10-28</th>\n",
       "      <th>2020-10-29</th>\n",
       "      <th>2020-10-30</th>\n",
       "      <th>2020-10-31</th>\n",
       "      <th>2020-11-01</th>\n",
       "      <th>2020-11-02</th>\n",
       "      <th>2020-11-03</th>\n",
       "    </tr>\n",
       "    <tr>\n",
       "      <th>state</th>\n",
       "      <th></th>\n",
       "      <th></th>\n",
       "      <th></th>\n",
       "      <th></th>\n",
       "      <th></th>\n",
       "      <th></th>\n",
       "      <th></th>\n",
       "      <th></th>\n",
       "      <th></th>\n",
       "      <th></th>\n",
       "      <th></th>\n",
       "      <th></th>\n",
       "      <th></th>\n",
       "      <th></th>\n",
       "      <th></th>\n",
       "      <th></th>\n",
       "      <th></th>\n",
       "      <th></th>\n",
       "      <th></th>\n",
       "      <th></th>\n",
       "      <th></th>\n",
       "    </tr>\n",
       "  </thead>\n",
       "  <tbody>\n",
       "    <tr>\n",
       "      <th>Odisha</th>\n",
       "      <td>0</td>\n",
       "      <td>229</td>\n",
       "      <td>561</td>\n",
       "      <td>495</td>\n",
       "      <td>469</td>\n",
       "      <td>456</td>\n",
       "      <td>571</td>\n",
       "      <td>527</td>\n",
       "      <td>577</td>\n",
       "      <td>755</td>\n",
       "      <td>...</td>\n",
       "      <td>1633</td>\n",
       "      <td>1480</td>\n",
       "      <td>1247</td>\n",
       "      <td>1540</td>\n",
       "      <td>1617</td>\n",
       "      <td>1547</td>\n",
       "      <td>1470</td>\n",
       "      <td>1709</td>\n",
       "      <td>1389</td>\n",
       "      <td>1201</td>\n",
       "    </tr>\n",
       "    <tr>\n",
       "      <th>Andaman and Nicobar Islands</th>\n",
       "      <td>0</td>\n",
       "      <td>9</td>\n",
       "      <td>7</td>\n",
       "      <td>3</td>\n",
       "      <td>6</td>\n",
       "      <td>16</td>\n",
       "      <td>6</td>\n",
       "      <td>2</td>\n",
       "      <td>7</td>\n",
       "      <td>0</td>\n",
       "      <td>...</td>\n",
       "      <td>20</td>\n",
       "      <td>8</td>\n",
       "      <td>21</td>\n",
       "      <td>15</td>\n",
       "      <td>16</td>\n",
       "      <td>12</td>\n",
       "      <td>15</td>\n",
       "      <td>8</td>\n",
       "      <td>12</td>\n",
       "      <td>0</td>\n",
       "    </tr>\n",
       "    <tr>\n",
       "      <th>Andhra Pradesh</th>\n",
       "      <td>0</td>\n",
       "      <td>845</td>\n",
       "      <td>837</td>\n",
       "      <td>765</td>\n",
       "      <td>998</td>\n",
       "      <td>1322</td>\n",
       "      <td>1178</td>\n",
       "      <td>1062</td>\n",
       "      <td>1555</td>\n",
       "      <td>1608</td>\n",
       "      <td>...</td>\n",
       "      <td>2997</td>\n",
       "      <td>1901</td>\n",
       "      <td>2901</td>\n",
       "      <td>2949</td>\n",
       "      <td>2905</td>\n",
       "      <td>2886</td>\n",
       "      <td>2783</td>\n",
       "      <td>2618</td>\n",
       "      <td>1916</td>\n",
       "      <td>0</td>\n",
       "    </tr>\n",
       "    <tr>\n",
       "      <th>Maharashtra</th>\n",
       "      <td>0</td>\n",
       "      <td>6328</td>\n",
       "      <td>6364</td>\n",
       "      <td>7074</td>\n",
       "      <td>6555</td>\n",
       "      <td>5368</td>\n",
       "      <td>5134</td>\n",
       "      <td>6603</td>\n",
       "      <td>6875</td>\n",
       "      <td>7862</td>\n",
       "      <td>...</td>\n",
       "      <td>6059</td>\n",
       "      <td>3645</td>\n",
       "      <td>5363</td>\n",
       "      <td>6738</td>\n",
       "      <td>5902</td>\n",
       "      <td>6190</td>\n",
       "      <td>5548</td>\n",
       "      <td>5369</td>\n",
       "      <td>4009</td>\n",
       "      <td>0</td>\n",
       "    </tr>\n",
       "    <tr>\n",
       "      <th>Manipur</th>\n",
       "      <td>0</td>\n",
       "      <td>19</td>\n",
       "      <td>37</td>\n",
       "      <td>9</td>\n",
       "      <td>41</td>\n",
       "      <td>24</td>\n",
       "      <td>40</td>\n",
       "      <td>5</td>\n",
       "      <td>15</td>\n",
       "      <td>132</td>\n",
       "      <td>...</td>\n",
       "      <td>138</td>\n",
       "      <td>264</td>\n",
       "      <td>180</td>\n",
       "      <td>205</td>\n",
       "      <td>242</td>\n",
       "      <td>221</td>\n",
       "      <td>230</td>\n",
       "      <td>248</td>\n",
       "      <td>341</td>\n",
       "      <td>0</td>\n",
       "    </tr>\n",
       "  </tbody>\n",
       "</table>\n",
       "<p>5 rows × 126 columns</p>\n",
       "</div>"
      ],
      "text/plain": [
       "states                       2020-07-01  2020-07-02  2020-07-03  2020-07-04  \\\n",
       "state                                                                         \n",
       "Odisha                                0         229         561         495   \n",
       "Andaman and Nicobar Islands           0           9           7           3   \n",
       "Andhra Pradesh                        0         845         837         765   \n",
       "Maharashtra                           0        6328        6364        7074   \n",
       "Manipur                               0          19          37           9   \n",
       "\n",
       "states                       2020-07-05  2020-07-06  2020-07-07  2020-07-08  \\\n",
       "state                                                                         \n",
       "Odisha                              469         456         571         527   \n",
       "Andaman and Nicobar Islands           6          16           6           2   \n",
       "Andhra Pradesh                      998        1322        1178        1062   \n",
       "Maharashtra                        6555        5368        5134        6603   \n",
       "Manipur                              41          24          40           5   \n",
       "\n",
       "states                       2020-07-09  2020-07-10  ...  2020-10-25  \\\n",
       "state                                                ...               \n",
       "Odisha                              577         755  ...        1633   \n",
       "Andaman and Nicobar Islands           7           0  ...          20   \n",
       "Andhra Pradesh                     1555        1608  ...        2997   \n",
       "Maharashtra                        6875        7862  ...        6059   \n",
       "Manipur                              15         132  ...         138   \n",
       "\n",
       "states                       2020-10-26  2020-10-27  2020-10-28  2020-10-29  \\\n",
       "state                                                                         \n",
       "Odisha                             1480        1247        1540        1617   \n",
       "Andaman and Nicobar Islands           8          21          15          16   \n",
       "Andhra Pradesh                     1901        2901        2949        2905   \n",
       "Maharashtra                        3645        5363        6738        5902   \n",
       "Manipur                             264         180         205         242   \n",
       "\n",
       "states                       2020-10-30  2020-10-31  2020-11-01  2020-11-02  \\\n",
       "state                                                                         \n",
       "Odisha                             1547        1470        1709        1389   \n",
       "Andaman and Nicobar Islands          12          15           8          12   \n",
       "Andhra Pradesh                     2886        2783        2618        1916   \n",
       "Maharashtra                        6190        5548        5369        4009   \n",
       "Manipur                             221         230         248         341   \n",
       "\n",
       "states                       2020-11-03  \n",
       "state                                    \n",
       "Odisha                             1201  \n",
       "Andaman and Nicobar Islands           0  \n",
       "Andhra Pradesh                        0  \n",
       "Maharashtra                           0  \n",
       "Manipur                               0  \n",
       "\n",
       "[5 rows x 126 columns]"
      ]
     },
     "execution_count": 18,
     "metadata": {},
     "output_type": "execute_result"
    }
   ],
   "source": [
    "#hide\n",
    "dft_ct_new_cases.head()"
   ]
  },
  {
   "cell_type": "code",
   "execution_count": 19,
   "metadata": {
    "execution": {
     "iopub.execute_input": "2020-11-03T08:37:54.095453Z",
     "iopub.status.busy": "2020-11-03T08:37:54.084909Z",
     "iopub.status.idle": "2020-11-03T08:37:59.318530Z",
     "shell.execute_reply": "2020-11-03T08:37:59.317976Z"
    },
    "papermill": {
     "duration": 5.256346,
     "end_time": "2020-11-03T08:37:59.318674",
     "exception": false,
     "start_time": "2020-11-03T08:37:54.062328",
     "status": "completed"
    },
    "tags": []
   },
   "outputs": [
    {
     "data": {
      "image/png": "[encoded data removed]",
      "text/plain": [
       "<Figure size 1296x2016 with 11 Axes>"
      ]
     },
     "metadata": {
      "needs_background": "light"
     },
     "output_type": "display_data"
    }
   ],
   "source": [
    "#hide_input\n",
    "df = dft_ct_new_cases.copy()\n",
    "df.loc['Total'] = df.sum()\n",
    "n = 5\n",
    "ax = []\n",
    "fig = plt.figure(figsize = (18,28))\n",
    "gs = fig.add_gridspec(n+2, 5)\n",
    "# gs = fig.add_gridspec(2, 3)\n",
    "ax1 = fig.add_subplot(gs[0, :])\n",
    "ef = df.loc['Total'].rename_axis('date').reset_index()\n",
    "ef['date'] = ef['date'].astype('datetime64[ns]')\n",
    "ax1.bar(ef.date,ef.Total,alpha=0.3,color='#007acc')\n",
    "ax1.plot(ef.date,ef.Total , marker=\"o\", color='#007acc')\n",
    "ax1.xaxis.set_major_locator(mdates.WeekdayLocator())\n",
    "ax1.xaxis.set_major_formatter(mdates.DateFormatter('%b %d'))\n",
    "ax1.text(0.02, 0.5,'India daily case count', transform = ax1.transAxes, fontsize=25);\n",
    "ax1.spines['right'].set_visible(False)\n",
    "ax1.spines['top'].set_visible(False)\n",
    "\n",
    "ax2 = fig.add_subplot(gs[1,0])\n",
    "ef = df.loc['Maharashtra'].rename_axis('date').reset_index()\n",
    "ef['date'] = ef['date'].astype('datetime64[ns]')\n",
    "\n",
    "ax2.bar(ef.date, ef.Maharashtra,color = '#007acc',alpha=0.5)\n",
    "ax2.xaxis.set_major_locator(mdates.WeekdayLocator())\n",
    "ax2.xaxis.set_major_formatter(mdates.DateFormatter('%b %d'))\n",
    "ax2.set_xticks(ax2.get_xticks()[::3])\n",
    "maxyval = ef.Maharashtra.max()\n",
    "ax2.set_ylim([0,maxyval])\n",
    "ax2.text(0.05, 0.9,'Maharashtra', transform = ax2.transAxes, fontsize=20);\n",
    "ax2.spines['right'].set_visible(False)\n",
    "ax2.spines['top'].set_visible(False)\n",
    "\n",
    "\n",
    "ax3 = fig.add_subplot(gs[1,1])\n",
    "ef = df.loc['Tamil Nadu'].rename_axis('date').reset_index()\n",
    "ef['date'] = ef['date'].astype('datetime64[ns]')\n",
    "ax3.bar(ef.date, ef['Tamil Nadu'],color = '#007acc',alpha=0.5,)\n",
    "ax3.xaxis.set_major_locator(mdates.WeekdayLocator())\n",
    "ax3.xaxis.set_major_formatter(mdates.DateFormatter('%b %d'))\n",
    "ax3.set_xticks(ax3.get_xticks()[::3])\n",
    "ax3.text(0.05, 0.9,'Tamil Nadu', transform = ax3.transAxes, fontsize=20);\n",
    "ax3.spines['right'].set_visible(False)\n",
    "ax3.spines['top'].set_visible(False)\n",
    "\n",
    "ax5 = fig.add_subplot(gs[1,3])\n",
    "ef = df.loc['Telangana'].rename_axis('date').reset_index()\n",
    "ef['date'] = ef['date'].astype('datetime64[ns]')\n",
    "ax5.bar(ef.date, ef['Telangana'],color = '#007acc',alpha=0.5,)\n",
    "ax5.xaxis.set_major_locator(mdates.WeekdayLocator())\n",
    "ax5.xaxis.set_major_formatter(mdates.DateFormatter('%b %d'))\n",
    "ax5.set_xticks(ax5.get_xticks()[::3])\n",
    "ax5.text(0.05, 0.9,'Telangana', transform = ax5.transAxes, fontsize=20);\n",
    "ax5.spines['right'].set_visible(False)\n",
    "ax5.spines['top'].set_visible(False)\n",
    "\n",
    "ax6 = fig.add_subplot(gs[1,4])\n",
    "ef = df.loc['Andhra Pradesh'].rename_axis('date').reset_index()\n",
    "ef['date'] = ef['date'].astype('datetime64[ns]')\n",
    "ax6.bar(ef.date, ef['Andhra Pradesh'],color = '#007acc',alpha=0.5,)\n",
    "ax6.xaxis.set_major_locator(mdates.WeekdayLocator())\n",
    "ax6.xaxis.set_major_formatter(mdates.DateFormatter('%b %d'))\n",
    "ax6.set_xticks(ax6.get_xticks()[::3])\n",
    "ax6.text(0.05, 1,'Andhra Pradesh', transform = ax6.transAxes, fontsize=20);\n",
    "ax6.spines['right'].set_visible(False)\n",
    "ax6.spines['top'].set_visible(False)\n",
    "\n",
    "ax4 = fig.add_subplot(gs[1,2])\n",
    "ef = df.loc['Delhi'].rename_axis('date').reset_index()\n",
    "ef['date'] = ef['date'].astype('datetime64[ns]')\n",
    "ax4.bar(ef.date, ef.Delhi,color = '#007acc',alpha=0.5)\n",
    "ax4.set_xticks([])\n",
    "ax4.xaxis.set_major_locator(mdates.WeekdayLocator())\n",
    "ax4.xaxis.set_major_formatter(mdates.DateFormatter('%b %d'))\n",
    "ax4.set_xticks(ax4.get_xticks()[::3])\n",
    "ax4.spines['right'].set_visible(False)\n",
    "ax4.spines['top'].set_visible(False)\n",
    "\n",
    "ax4.text(0.05, 1,'Delhi', transform = ax4.transAxes, fontsize=20)\n",
    "\n",
    "for i in range(n):\n",
    "    \n",
    "    ax.append(fig.add_subplot(gs[i+2,:]))\n",
    "    ef = df.iloc[i+3].rename_axis('date').reset_index()\n",
    "    ef['date'] = ef['date'].astype('datetime64[ns]')\n",
    "    ax[i].bar(ef.date,ef.iloc[:,-1],color = '#007acc',alpha=0.3)\n",
    "    ax[i].plot(ef.date,ef.iloc[:,-1],marker='o',color='#007acc')\n",
    "    ax[i].text(0.02,0.5,f'{ef.columns.values[-1]}',transform = ax[i].transAxes, fontsize = 20);\n",
    "    ax[i].xaxis.set_major_locator(mdates.WeekdayLocator())\n",
    "    ax[i].xaxis.set_major_formatter(mdates.DateFormatter('%b %d'))\n",
    "    ax[i].set_ylim([0,7000])\n",
    "    ax[i].spines['right'].set_visible(False)\n",
    "    ax[i].spines['top'].set_visible(False)\n",
    "plt.tight_layout()\n"
   ]
  },
  {
   "cell_type": "code",
   "execution_count": 20,
   "metadata": {
    "execution": {
     "iopub.execute_input": "2020-11-03T08:37:59.365592Z",
     "iopub.status.busy": "2020-11-03T08:37:59.364363Z",
     "iopub.status.idle": "2020-11-03T08:37:59.367358Z",
     "shell.execute_reply": "2020-11-03T08:37:59.366916Z"
    },
    "papermill": {
     "duration": 0.029503,
     "end_time": "2020-11-03T08:37:59.367461",
     "exception": false,
     "start_time": "2020-11-03T08:37:59.337958",
     "status": "completed"
    },
    "tags": []
   },
   "outputs": [
    {
     "name": "stdout",
     "output_type": "stream",
     "text": [
      "                                   states    Cases  Deaths   PCases  PDeaths  Cases (+)  Deaths (+)  Fatality Rate\n",
      "                              Maharashtra  1687784   44128  1687784    44128          0           0           2.61\n",
      "                                Karnataka   829640   11221   829640    11221          0           0           1.35\n",
      "                           Andhra Pradesh   827882    6719   827882     6719          0           0           0.81\n",
      "                               Tamil Nadu   729507   11183   729507    11183          0           0           1.53\n",
      "                            Uttar Pradesh   485609    7076   485609     7076          0           0           1.46\n",
      "                                   Kerala   444269    1534   444269     1534          0           0           0.35\n",
      "                                    Delhi   396371    6604   396371     6604          0           0           1.67\n",
      "                              West Bengal   381608    6957   381608     6957          0           0           1.82\n",
      "                                   Odisha   294415    1405   293214     1393       1201          12           0.48\n",
      "                                Telangana   240970    1348   240970     1348          0           0           0.56\n",
      "                                    Bihar   218118    1101   218118     1101          0           0           0.50\n",
      "                                    Assam   206982     932   206982      932          0           0           0.45\n",
      "                                Rajasthan   200495    1926   200495     1926          0           0           0.96\n",
      "                             Chhattisgarh   190513    2208   190513     2208          0           0           1.16\n",
      "                                  Gujarat   174679    3728   174679     3728          0           0           2.13\n",
      "                           Madhya Pradesh   172717    2965   172717     2965          0           0           1.72\n",
      "                                  Haryana   170446    1810   170446     1810          0           0           1.06\n",
      "                                   Punjab   134371    4227   134371     4227          0           0           3.15\n",
      "                                Jharkhand   102490     886   102490      886          0           0           0.86\n",
      "                        Jammu and Kashmir    95710    1490    95710     1490          0           0           1.56\n",
      "                              Uttarakhand    62881    1029    62881     1029          0           0           1.64\n",
      "                                      Goa    43954     616    43954      616          0           0           1.40\n",
      "                               Puducherry    35178     595    35178      595          0           0           1.69\n",
      "                                  Tripura    30849     345    30849      345          0           0           1.12\n",
      "                         Himachal Pradesh    22598     330    22598      330          0           0           1.46\n",
      "                                  Manipur    19091     180    19091      180          0           0           0.94\n",
      "                        Arunachal Pradesh    14998      38    14998       38          0           0           0.25\n",
      "                               Chandigarh    14528     227    14528      227          0           0           1.56\n",
      "                                Meghalaya     9678      90     9678       90          0           0           0.93\n",
      "                                 Nagaland     9096      42     9096       42          0           0           0.46\n",
      "                                   Ladakh     6357      75     6357       75          0           0           1.18\n",
      "              Andaman and Nicobar Islands     4352      60     4352       60          0           0           1.38\n",
      "                                   Sikkim     3967      73     3967       73          0           0           1.84\n",
      " Dadra and Nagar Haveli and Daman and Diu     3255       2     3255        2          0           0           0.06\n",
      "                                  Mizoram     2757       1     2757        1          0           0           0.04\n",
      "                              Lakshadweep        0       0        0        0          0           0            NaN\n"
     ]
    }
   ],
   "source": [
    "#hide_input\n",
    "print(df_table.to_string(index=False))"
   ]
  },
  {
   "cell_type": "code",
   "execution_count": null,
   "metadata": {
    "papermill": {
     "duration": 0.018539,
     "end_time": "2020-11-03T08:37:59.404084",
     "exception": false,
     "start_time": "2020-11-03T08:37:59.385545",
     "status": "completed"
    },
    "tags": []
   },
   "outputs": [],
   "source": []
  },
  {
   "cell_type": "code",
   "execution_count": null,
   "metadata": {
    "papermill": {
     "duration": 0.019754,
     "end_time": "2020-11-03T08:37:59.443005",
     "exception": false,
     "start_time": "2020-11-03T08:37:59.423251",
     "status": "completed"
    },
    "tags": []
   },
   "outputs": [],
   "source": []
  }
 ],
 "metadata": {
  "kernelspec": {
   "display_name": "Python 3",
   "language": "python",
   "name": "python3"
  },
  "language_info": {
   "codemirror_mode": {
    "name": "ipython",
    "version": 3
   },
   "file_extension": ".py",
   "mimetype": "text/x-python",
   "name": "python",
   "nbconvert_exporter": "python",
   "pygments_lexer": "ipython3",
   "version": "3.6.12"
  },
  "papermill": {
   "duration": 13.277182,
   "end_time": "2020-11-03T08:38:00.777343",
   "environment_variables": {},
   "exception": null,
   "input_path": "latest.ipynb",
   "output_path": "latest.ipynb",
   "parameters": {},
   "start_time": "2020-11-03T08:37:47.500161",
   "version": "2.1.2"
  }
 },
 "nbformat": 4,
 "nbformat_minor": 4
}