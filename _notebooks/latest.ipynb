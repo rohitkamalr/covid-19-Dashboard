{
 "cells": [
  {
   "cell_type": "markdown",
   "metadata": {
    "papermill": {
     "duration": 0.021999,
     "end_time": "2020-09-29T12:52:33.430054",
     "exception": false,
     "start_time": "2020-09-29T12:52:33.408055",
     "status": "completed"
    },
    "tags": []
   },
   "source": [
    "# Latest COVID-19 India Matplotlib Overview"
   ]
  },
  {
   "cell_type": "code",
   "execution_count": 1,
   "metadata": {
    "execution": {
     "iopub.execute_input": "2020-09-29T12:52:33.474515Z",
     "iopub.status.busy": "2020-09-29T12:52:33.473776Z",
     "iopub.status.idle": "2020-09-29T12:52:34.133701Z",
     "shell.execute_reply": "2020-09-29T12:52:34.134291Z"
    },
    "papermill": {
     "duration": 0.685469,
     "end_time": "2020-09-29T12:52:34.135043",
     "exception": false,
     "start_time": "2020-09-29T12:52:33.449574",
     "status": "completed"
    },
    "tags": []
   },
   "outputs": [],
   "source": [
    "#hide\n",
    "import pandas as pd\n",
    "import numpy as np\n",
    "import requests\n",
    "import json\n",
    "import matplotlib.pyplot as plt\n",
    "import matplotlib.dates as mdates\n",
    "import matplotlib as mpl\n",
    "from IPython.core.display import display,HTML\n",
    "%matplotlib inline\n",
    "from datetime import date"
   ]
  },
  {
   "cell_type": "code",
   "execution_count": 2,
   "metadata": {
    "execution": {
     "iopub.execute_input": "2020-09-29T12:52:34.177883Z",
     "iopub.status.busy": "2020-09-29T12:52:34.176944Z",
     "iopub.status.idle": "2020-09-29T12:52:34.476371Z",
     "shell.execute_reply": "2020-09-29T12:52:34.475688Z"
    },
    "papermill": {
     "duration": 0.324035,
     "end_time": "2020-09-29T12:52:34.476535",
     "exception": false,
     "start_time": "2020-09-29T12:52:34.152500",
     "status": "completed"
    },
    "tags": []
   },
   "outputs": [],
   "source": [
    "#hide\n",
    "df  = pd.read_csv('https://api.covid19india.org/csv/latest/states.csv')\n",
    "df = df[['Date','State','Confirmed','Deceased']]\n",
    "df = df.rename(columns={'Confirmed':'Cases', \"Deceased\":'Deaths'})\n",
    "df_cases = df[[\"Date\",'State','Cases']]\n",
    "df_deaths = df[['Date','State','Deaths']]\n",
    "df_cases1 = df_cases.groupby('Date')\n",
    "df_deaths1= df_deaths.groupby('Date')"
   ]
  },
  {
   "cell_type": "code",
   "execution_count": 3,
   "metadata": {
    "execution": {
     "iopub.execute_input": "2020-09-29T12:52:34.519174Z",
     "iopub.status.busy": "2020-09-29T12:52:34.518462Z",
     "iopub.status.idle": "2020-09-29T12:52:34.537835Z",
     "shell.execute_reply": "2020-09-29T12:52:34.537221Z"
    },
    "papermill": {
     "duration": 0.041465,
     "end_time": "2020-09-29T12:52:34.538084",
     "exception": false,
     "start_time": "2020-09-29T12:52:34.496619",
     "status": "completed"
    },
    "tags": []
   },
   "outputs": [],
   "source": [
    "#hide\n",
    "df_snap = pd.read_csv('data/SnapshotCases-28-July.csv')\n",
    "arr_states = df_snap['states'].unique()\n",
    "arr_dates = df['Date'].unique()\n",
    "df_snap = df_snap.set_index('states')"
   ]
  },
  {
   "cell_type": "code",
   "execution_count": 4,
   "metadata": {
    "execution": {
     "iopub.execute_input": "2020-09-29T12:52:34.581511Z",
     "iopub.status.busy": "2020-09-29T12:52:34.580865Z",
     "iopub.status.idle": "2020-09-29T12:52:34.584226Z",
     "shell.execute_reply": "2020-09-29T12:52:34.583680Z"
    },
    "papermill": {
     "duration": 0.026086,
     "end_time": "2020-09-29T12:52:34.584371",
     "exception": false,
     "start_time": "2020-09-29T12:52:34.558285",
     "status": "completed"
    },
    "tags": []
   },
   "outputs": [
    {
     "data": {
      "text/plain": [
       "array(['Andaman and Nicobar Islands', 'Andhra Pradesh',\n",
       "       'Arunachal Pradesh', 'Assam', 'Bihar', 'Chandigarh',\n",
       "       'Dadra and Nagar Haveli and Daman and Diu', 'Delhi', 'Goa',\n",
       "       'Gujarat', 'Haryana', 'Himachal Pradesh', 'Jammu and Kashmir',\n",
       "       'Jharkhand', 'Karnataka', 'Kerala', 'Lakshadweep',\n",
       "       'Madhya Pradesh', 'Maharashtra', 'Manipur', 'Meghalaya', 'Mizoram',\n",
       "       'Nagaland', 'Odisha', 'Puducherry', 'Punjab', 'Rajasthan',\n",
       "       'Sikkim', 'Tamil Nadu', 'Telangana', 'Tripura', 'Uttar Pradesh',\n",
       "       'West Bengal', 'Chhattisgarh', 'Ladakh', 'Uttarakhand'],\n",
       "      dtype=object)"
      ]
     },
     "execution_count": 4,
     "metadata": {},
     "output_type": "execute_result"
    }
   ],
   "source": [
    "#hide\n",
    "arr_states[-9] = 'Puducherry'\n",
    "arr_states[-10] = 'Odisha'\n",
    "arr_states[6] = 'Dadra and Nagar Haveli and Daman and Diu'\n",
    "arr_states = np.append(arr_states,np.array(['Chhattisgarh','Ladakh','Uttarakhand']))\n",
    "arr_states"
   ]
  },
  {
   "cell_type": "code",
   "execution_count": 5,
   "metadata": {
    "execution": {
     "iopub.execute_input": "2020-09-29T12:52:34.627655Z",
     "iopub.status.busy": "2020-09-29T12:52:34.627019Z",
     "iopub.status.idle": "2020-09-29T12:52:34.635594Z",
     "shell.execute_reply": "2020-09-29T12:52:34.636196Z"
    },
    "papermill": {
     "duration": 0.034613,
     "end_time": "2020-09-29T12:52:34.636334",
     "exception": false,
     "start_time": "2020-09-29T12:52:34.601721",
     "status": "completed"
    },
    "tags": []
   },
   "outputs": [],
   "source": [
    "#hide\n",
    "dates = []\n",
    "for i in arr_dates:\n",
    "    if i>='2020-07-01':\n",
    "        dates.append(i)\n",
    "dict = {'states':dates}\n",
    "for i in arr_states:\n",
    "    dict[i] = [0]*len(dates)\n",
    "dft_cases = pd.DataFrame(dict)\n",
    "dft_deaths = pd.DataFrame(dict)\n"
   ]
  },
  {
   "cell_type": "code",
   "execution_count": 6,
   "metadata": {
    "execution": {
     "iopub.execute_input": "2020-09-29T12:52:34.674535Z",
     "iopub.status.busy": "2020-09-29T12:52:34.673883Z",
     "iopub.status.idle": "2020-09-29T12:52:36.346604Z",
     "shell.execute_reply": "2020-09-29T12:52:36.345985Z"
    },
    "papermill": {
     "duration": 1.694122,
     "end_time": "2020-09-29T12:52:36.346768",
     "exception": false,
     "start_time": "2020-09-29T12:52:34.652646",
     "status": "completed"
    },
    "tags": []
   },
   "outputs": [],
   "source": [
    "#hide\n",
    "for i in range(len(dates)):\n",
    "    df1_deaths = df_deaths1.get_group(dates[i])\n",
    "    for j in range(len(df1_deaths.index)):\n",
    "        if df1_deaths.iloc[j,1] in arr_states:\n",
    "            dft_deaths.loc[i,df1_deaths.iloc[j,1]] = df1_deaths.iloc[j,2]\n",
    "dft_deaths = dft_deaths.set_index('states')"
   ]
  },
  {
   "cell_type": "code",
   "execution_count": 7,
   "metadata": {
    "execution": {
     "iopub.execute_input": "2020-09-29T12:52:36.391160Z",
     "iopub.status.busy": "2020-09-29T12:52:36.390457Z",
     "iopub.status.idle": "2020-09-29T12:52:38.014409Z",
     "shell.execute_reply": "2020-09-29T12:52:38.013630Z"
    },
    "papermill": {
     "duration": 1.64917,
     "end_time": "2020-09-29T12:52:38.014575",
     "exception": false,
     "start_time": "2020-09-29T12:52:36.365405",
     "status": "completed"
    },
    "tags": []
   },
   "outputs": [],
   "source": [
    "#hide\n",
    "for i in range(len(dates)):\n",
    "    df1_cases = df_cases1.get_group(dates[i])\n",
    "    for j in range(len(df1_cases.index)):\n",
    "        if df1_cases.iloc[j,1] in arr_states:\n",
    "            dft_cases.loc[i,df1_cases.iloc[j,1]] = df1_cases.iloc[j,2]\n",
    "dft_cases = dft_cases.set_index('states')"
   ]
  },
  {
   "cell_type": "code",
   "execution_count": 8,
   "metadata": {
    "execution": {
     "iopub.execute_input": "2020-09-29T12:52:38.060202Z",
     "iopub.status.busy": "2020-09-29T12:52:38.059563Z",
     "iopub.status.idle": "2020-09-29T12:52:38.062217Z",
     "shell.execute_reply": "2020-09-29T12:52:38.061672Z"
    },
    "papermill": {
     "duration": 0.029019,
     "end_time": "2020-09-29T12:52:38.062346",
     "exception": false,
     "start_time": "2020-09-29T12:52:38.033327",
     "status": "completed"
    },
    "tags": []
   },
   "outputs": [],
   "source": [
    "#hide\n",
    "dft_cases = dft_cases.T\n",
    "dft_deaths = dft_deaths.T\n",
    "dt_today = dates[-1]\n",
    "dt_yday = dates[-2]"
   ]
  },
  {
   "cell_type": "code",
   "execution_count": 9,
   "metadata": {
    "execution": {
     "iopub.execute_input": "2020-09-29T12:52:38.100707Z",
     "iopub.status.busy": "2020-09-29T12:52:38.100046Z",
     "iopub.status.idle": "2020-09-29T12:52:38.105536Z",
     "shell.execute_reply": "2020-09-29T12:52:38.106057Z"
    },
    "papermill": {
     "duration": 0.027708,
     "end_time": "2020-09-29T12:52:38.106193",
     "exception": false,
     "start_time": "2020-09-29T12:52:38.078485",
     "status": "completed"
    },
    "tags": []
   },
   "outputs": [],
   "source": [
    "#hide\n",
    "dft_cases = dft_cases.reset_index()\n",
    "dft_deaths = dft_deaths.reset_index()\n",
    "dft_cases = dft_cases.rename(columns = {'index':'state'})\n",
    "dft_deaths = dft_deaths.rename(columns = {'index':'state'})"
   ]
  },
  {
   "cell_type": "code",
   "execution_count": 10,
   "metadata": {
    "execution": {
     "iopub.execute_input": "2020-09-29T12:52:38.152279Z",
     "iopub.status.busy": "2020-09-29T12:52:38.151572Z",
     "iopub.status.idle": "2020-09-29T12:52:38.154151Z",
     "shell.execute_reply": "2020-09-29T12:52:38.153473Z"
    },
    "papermill": {
     "duration": 0.03202,
     "end_time": "2020-09-29T12:52:38.154291",
     "exception": false,
     "start_time": "2020-09-29T12:52:38.122271",
     "status": "completed"
    },
    "tags": []
   },
   "outputs": [],
   "source": [
    "#hide\n",
    "dfc_cases = dft_cases.groupby('state')[dt_today].sum()\n",
    "dfc_deaths = dft_deaths.groupby('state')[dt_today].sum()\n",
    "dfp_cases = dft_cases.groupby('state')[dt_yday].sum()\n",
    "dfp_deaths = dft_deaths.groupby('state')[dt_yday].sum()"
   ]
  },
  {
   "cell_type": "code",
   "execution_count": 11,
   "metadata": {
    "execution": {
     "iopub.execute_input": "2020-09-29T12:52:38.197109Z",
     "iopub.status.busy": "2020-09-29T12:52:38.196312Z",
     "iopub.status.idle": "2020-09-29T12:52:38.211745Z",
     "shell.execute_reply": "2020-09-29T12:52:38.211148Z"
    },
    "papermill": {
     "duration": 0.039055,
     "end_time": "2020-09-29T12:52:38.211880",
     "exception": false,
     "start_time": "2020-09-29T12:52:38.172825",
     "status": "completed"
    },
    "tags": []
   },
   "outputs": [
    {
     "data": {
      "text/html": [
       "<div>\n",
       "<style scoped>\n",
       "    .dataframe tbody tr th:only-of-type {\n",
       "        vertical-align: middle;\n",
       "    }\n",
       "\n",
       "    .dataframe tbody tr th {\n",
       "        vertical-align: top;\n",
       "    }\n",
       "\n",
       "    .dataframe thead th {\n",
       "        text-align: right;\n",
       "    }\n",
       "</style>\n",
       "<table border=\"1\" class=\"dataframe\">\n",
       "  <thead>\n",
       "    <tr style=\"text-align: right;\">\n",
       "      <th></th>\n",
       "      <th>states</th>\n",
       "      <th>Cases</th>\n",
       "      <th>Deaths</th>\n",
       "      <th>PCases</th>\n",
       "      <th>PDeaths</th>\n",
       "    </tr>\n",
       "  </thead>\n",
       "  <tbody>\n",
       "    <tr>\n",
       "      <th>0</th>\n",
       "      <td>Maharashtra</td>\n",
       "      <td>1351153</td>\n",
       "      <td>35751</td>\n",
       "      <td>1351153</td>\n",
       "      <td>35751</td>\n",
       "    </tr>\n",
       "    <tr>\n",
       "      <th>1</th>\n",
       "      <td>Andhra Pradesh</td>\n",
       "      <td>681161</td>\n",
       "      <td>5745</td>\n",
       "      <td>681161</td>\n",
       "      <td>5745</td>\n",
       "    </tr>\n",
       "    <tr>\n",
       "      <th>2</th>\n",
       "      <td>Karnataka</td>\n",
       "      <td>582458</td>\n",
       "      <td>8641</td>\n",
       "      <td>582458</td>\n",
       "      <td>8641</td>\n",
       "    </tr>\n",
       "    <tr>\n",
       "      <th>3</th>\n",
       "      <td>Tamil Nadu</td>\n",
       "      <td>581943</td>\n",
       "      <td>9453</td>\n",
       "      <td>586397</td>\n",
       "      <td>9383</td>\n",
       "    </tr>\n",
       "    <tr>\n",
       "      <th>4</th>\n",
       "      <td>Uttar Pradesh</td>\n",
       "      <td>390875</td>\n",
       "      <td>5652</td>\n",
       "      <td>390875</td>\n",
       "      <td>5652</td>\n",
       "    </tr>\n",
       "  </tbody>\n",
       "</table>\n",
       "</div>"
      ],
      "text/plain": [
       "           states    Cases  Deaths   PCases  PDeaths\n",
       "0     Maharashtra  1351153   35751  1351153    35751\n",
       "1  Andhra Pradesh   681161    5745   681161     5745\n",
       "2       Karnataka   582458    8641   582458     8641\n",
       "3      Tamil Nadu   581943    9453   586397     9383\n",
       "4   Uttar Pradesh   390875    5652   390875     5652"
      ]
     },
     "execution_count": 11,
     "metadata": {},
     "output_type": "execute_result"
    }
   ],
   "source": [
    "#hide\n",
    "df_table = pd.DataFrame({'states': dfc_cases.index, 'Cases': dfc_cases.values, 'Deaths': dfc_deaths.values, 'PCases': dfp_cases.values, 'PDeaths': dfp_deaths.values}).set_index('states')\n",
    "df_table = df_table.sort_values(by = ['Cases','Deaths'], ascending = [False, False])\n",
    "df_table = df_table.reset_index()\n",
    "df_table.head()"
   ]
  },
  {
   "cell_type": "code",
   "execution_count": 12,
   "metadata": {
    "execution": {
     "iopub.execute_input": "2020-09-29T12:52:38.260706Z",
     "iopub.status.busy": "2020-09-29T12:52:38.259964Z",
     "iopub.status.idle": "2020-09-29T12:52:38.269836Z",
     "shell.execute_reply": "2020-09-29T12:52:38.269231Z"
    },
    "papermill": {
     "duration": 0.03586,
     "end_time": "2020-09-29T12:52:38.269978",
     "exception": false,
     "start_time": "2020-09-29T12:52:38.234118",
     "status": "completed"
    },
    "tags": []
   },
   "outputs": [],
   "source": [
    "#hide\n",
    "for c in 'Cases, Deaths'.split(', '):\n",
    "    df_table[f'{c} (+)'] = (df_table[c] - df_table[f'P{c}']).clip(0)\n",
    "df_table['Fatality Rate'] = (100* df_table['Deaths']/ df_table['Cases']).round(2)"
   ]
  },
  {
   "cell_type": "code",
   "execution_count": 13,
   "metadata": {
    "execution": {
     "iopub.execute_input": "2020-09-29T12:52:38.320152Z",
     "iopub.status.busy": "2020-09-29T12:52:38.319453Z",
     "iopub.status.idle": "2020-09-29T12:52:38.323978Z",
     "shell.execute_reply": "2020-09-29T12:52:38.323184Z"
    },
    "papermill": {
     "duration": 0.035362,
     "end_time": "2020-09-29T12:52:38.324118",
     "exception": false,
     "start_time": "2020-09-29T12:52:38.288756",
     "status": "completed"
    },
    "tags": []
   },
   "outputs": [
    {
     "data": {
      "text/html": [
       "<div>\n",
       "<style scoped>\n",
       "    .dataframe tbody tr th:only-of-type {\n",
       "        vertical-align: middle;\n",
       "    }\n",
       "\n",
       "    .dataframe tbody tr th {\n",
       "        vertical-align: top;\n",
       "    }\n",
       "\n",
       "    .dataframe thead th {\n",
       "        text-align: right;\n",
       "    }\n",
       "</style>\n",
       "<table border=\"1\" class=\"dataframe\">\n",
       "  <thead>\n",
       "    <tr style=\"text-align: right;\">\n",
       "      <th></th>\n",
       "      <th>states</th>\n",
       "      <th>Cases</th>\n",
       "      <th>Deaths</th>\n",
       "      <th>PCases</th>\n",
       "      <th>PDeaths</th>\n",
       "      <th>Cases (+)</th>\n",
       "      <th>Deaths (+)</th>\n",
       "      <th>Fatality Rate</th>\n",
       "    </tr>\n",
       "  </thead>\n",
       "  <tbody>\n",
       "    <tr>\n",
       "      <th>0</th>\n",
       "      <td>Maharashtra</td>\n",
       "      <td>1351153</td>\n",
       "      <td>35751</td>\n",
       "      <td>1351153</td>\n",
       "      <td>35751</td>\n",
       "      <td>0</td>\n",
       "      <td>0</td>\n",
       "      <td>2.65</td>\n",
       "    </tr>\n",
       "    <tr>\n",
       "      <th>1</th>\n",
       "      <td>Andhra Pradesh</td>\n",
       "      <td>681161</td>\n",
       "      <td>5745</td>\n",
       "      <td>681161</td>\n",
       "      <td>5745</td>\n",
       "      <td>0</td>\n",
       "      <td>0</td>\n",
       "      <td>0.84</td>\n",
       "    </tr>\n",
       "    <tr>\n",
       "      <th>2</th>\n",
       "      <td>Karnataka</td>\n",
       "      <td>582458</td>\n",
       "      <td>8641</td>\n",
       "      <td>582458</td>\n",
       "      <td>8641</td>\n",
       "      <td>0</td>\n",
       "      <td>0</td>\n",
       "      <td>1.48</td>\n",
       "    </tr>\n",
       "    <tr>\n",
       "      <th>3</th>\n",
       "      <td>Tamil Nadu</td>\n",
       "      <td>581943</td>\n",
       "      <td>9453</td>\n",
       "      <td>586397</td>\n",
       "      <td>9383</td>\n",
       "      <td>0</td>\n",
       "      <td>70</td>\n",
       "      <td>1.62</td>\n",
       "    </tr>\n",
       "    <tr>\n",
       "      <th>4</th>\n",
       "      <td>Uttar Pradesh</td>\n",
       "      <td>390875</td>\n",
       "      <td>5652</td>\n",
       "      <td>390875</td>\n",
       "      <td>5652</td>\n",
       "      <td>0</td>\n",
       "      <td>0</td>\n",
       "      <td>1.45</td>\n",
       "    </tr>\n",
       "  </tbody>\n",
       "</table>\n",
       "</div>"
      ],
      "text/plain": [
       "           states    Cases  Deaths   PCases  PDeaths  Cases (+)  Deaths (+)  \\\n",
       "0     Maharashtra  1351153   35751  1351153    35751          0           0   \n",
       "1  Andhra Pradesh   681161    5745   681161     5745          0           0   \n",
       "2       Karnataka   582458    8641   582458     8641          0           0   \n",
       "3      Tamil Nadu   581943    9453   586397     9383          0          70   \n",
       "4   Uttar Pradesh   390875    5652   390875     5652          0           0   \n",
       "\n",
       "   Fatality Rate  \n",
       "0           2.65  \n",
       "1           0.84  \n",
       "2           1.48  \n",
       "3           1.62  \n",
       "4           1.45  "
      ]
     },
     "execution_count": 13,
     "metadata": {},
     "output_type": "execute_result"
    }
   ],
   "source": [
    "#hide\n",
    "df_table.head()"
   ]
  },
  {
   "cell_type": "code",
   "execution_count": 14,
   "metadata": {
    "execution": {
     "iopub.execute_input": "2020-09-29T12:52:38.369460Z",
     "iopub.status.busy": "2020-09-29T12:52:38.368625Z",
     "iopub.status.idle": "2020-09-29T12:52:38.388783Z",
     "shell.execute_reply": "2020-09-29T12:52:38.388149Z"
    },
    "papermill": {
     "duration": 0.044779,
     "end_time": "2020-09-29T12:52:38.388927",
     "exception": false,
     "start_time": "2020-09-29T12:52:38.344148",
     "status": "completed"
    },
    "tags": []
   },
   "outputs": [
    {
     "data": {
      "text/plain": [
       "{'updated': '2020-09-29',\n",
       " 'since': '2020-09-28',\n",
       " 'Cases': 6146722,\n",
       " 'PCases': 6143019,\n",
       " 'Deaths': 96468,\n",
       " 'PDeaths': 96351,\n",
       " 'Cases (+)': 8157,\n",
       " 'Deaths (+)': 117}"
      ]
     },
     "execution_count": 14,
     "metadata": {},
     "output_type": "execute_result"
    }
   ],
   "source": [
    "#hide\n",
    "summary = {'updated':dates[-1], 'since':dates[-2]}\n",
    "list_names = ['Cases', 'PCases', 'Deaths', 'PDeaths', 'Cases (+)', 'Deaths (+)']\n",
    "for name in list_names:\n",
    "    summary[name] = df_table.sum()[name]\n",
    "summary"
   ]
  },
  {
   "cell_type": "code",
   "execution_count": 15,
   "metadata": {
    "execution": {
     "iopub.execute_input": "2020-09-29T12:52:38.428709Z",
     "iopub.status.busy": "2020-09-29T12:52:38.428045Z",
     "iopub.status.idle": "2020-09-29T12:52:38.431051Z",
     "shell.execute_reply": "2020-09-29T12:52:38.430512Z"
    },
    "papermill": {
     "duration": 0.024231,
     "end_time": "2020-09-29T12:52:38.431173",
     "exception": false,
     "start_time": "2020-09-29T12:52:38.406942",
     "status": "completed"
    },
    "tags": []
   },
   "outputs": [],
   "source": [
    "#hide\n",
    "overview = '''\n",
    "<!-- #######  HTML!! #########-->\n",
    "<h1 style=\"color: #5e9ca0; text-align: center;\">India</h1>\n",
    "<p style=\"text-align: center;\">Last update: <strong>{update}</strong></p>\n",
    "<p style=\"text-align: center;\">Confirmed cases:</p>\n",
    "<p style=\"text-align: center;font-size:24px;\">{cases} (<span style=\"color: #ff0000;\">+{new}</span>)</p>\n",
    "<p style=\"text-align: center;\">Confirmed deaths:</p>\n",
    "<p style=\"text-align: center;font-size:24px;\">{deaths} (<span style=\"color: #ff0000;\">+{dnew}</span>)</p>\n",
    "'''"
   ]
  },
  {
   "cell_type": "code",
   "execution_count": 16,
   "metadata": {
    "execution": {
     "iopub.execute_input": "2020-09-29T12:52:38.471863Z",
     "iopub.status.busy": "2020-09-29T12:52:38.471222Z",
     "iopub.status.idle": "2020-09-29T12:52:38.475427Z",
     "shell.execute_reply": "2020-09-29T12:52:38.476475Z"
    },
    "papermill": {
     "duration": 0.026984,
     "end_time": "2020-09-29T12:52:38.476614",
     "exception": false,
     "start_time": "2020-09-29T12:52:38.449630",
     "status": "completed"
    },
    "tags": []
   },
   "outputs": [
    {
     "data": {
      "text/html": [
       "\n",
       "<!-- #######  HTML!! #########-->\n",
       "<h1 style=\"color: #5e9ca0; text-align: center;\">India</h1>\n",
       "<p style=\"text-align: center;\">Last update: <strong>2020-09-29</strong></p>\n",
       "<p style=\"text-align: center;\">Confirmed cases:</p>\n",
       "<p style=\"text-align: center;font-size:24px;\">6146722 (<span style=\"color: #ff0000;\">+8157</span>)</p>\n",
       "<p style=\"text-align: center;\">Confirmed deaths:</p>\n",
       "<p style=\"text-align: center;font-size:24px;\">96468 (<span style=\"color: #ff0000;\">+117</span>)</p>\n"
      ],
      "text/plain": [
       "<IPython.core.display.HTML object>"
      ]
     },
     "metadata": {},
     "output_type": "display_data"
    }
   ],
   "source": [
    "#hide_input\n",
    "update = summary['updated']\n",
    "cases = summary['Cases']\n",
    "new = summary['Cases (+)']\n",
    "deaths = summary['Deaths']\n",
    "dnew = summary['Deaths (+)']\n",
    "\n",
    "html = HTML(overview.format(update=update, cases=cases,new=new,deaths=deaths,dnew=dnew))\n",
    "\n",
    "display(html)"
   ]
  },
  {
   "cell_type": "code",
   "execution_count": 17,
   "metadata": {
    "execution": {
     "iopub.execute_input": "2020-09-29T12:52:38.520368Z",
     "iopub.status.busy": "2020-09-29T12:52:38.519713Z",
     "iopub.status.idle": "2020-09-29T12:52:38.525953Z",
     "shell.execute_reply": "2020-09-29T12:52:38.525404Z"
    },
    "papermill": {
     "duration": 0.030943,
     "end_time": "2020-09-29T12:52:38.526076",
     "exception": false,
     "start_time": "2020-09-29T12:52:38.495133",
     "status": "completed"
    },
    "tags": []
   },
   "outputs": [],
   "source": [
    "#hide\n",
    "dt_cols = list(dft_cases.columns[1:])\n",
    "dft_ct_new_cases = dft_cases.groupby('state')[dt_cols].sum().diff(axis=1).fillna(0).astype(int)\n",
    "dft_ct_new_cases.sort_values(by = dates[-1], ascending = False,inplace = True)"
   ]
  },
  {
   "cell_type": "code",
   "execution_count": 18,
   "metadata": {
    "execution": {
     "iopub.execute_input": "2020-09-29T12:52:38.583288Z",
     "iopub.status.busy": "2020-09-29T12:52:38.582571Z",
     "iopub.status.idle": "2020-09-29T12:52:38.585431Z",
     "shell.execute_reply": "2020-09-29T12:52:38.586034Z"
    },
    "papermill": {
     "duration": 0.041266,
     "end_time": "2020-09-29T12:52:38.586191",
     "exception": false,
     "start_time": "2020-09-29T12:52:38.544925",
     "status": "completed"
    },
    "tags": []
   },
   "outputs": [
    {
     "data": {
      "text/html": [
       "<div>\n",
       "<style scoped>\n",
       "    .dataframe tbody tr th:only-of-type {\n",
       "        vertical-align: middle;\n",
       "    }\n",
       "\n",
       "    .dataframe tbody tr th {\n",
       "        vertical-align: top;\n",
       "    }\n",
       "\n",
       "    .dataframe thead th {\n",
       "        text-align: right;\n",
       "    }\n",
       "</style>\n",
       "<table border=\"1\" class=\"dataframe\">\n",
       "  <thead>\n",
       "    <tr style=\"text-align: right;\">\n",
       "      <th>states</th>\n",
       "      <th>2020-07-01</th>\n",
       "      <th>2020-07-02</th>\n",
       "      <th>2020-07-03</th>\n",
       "      <th>2020-07-04</th>\n",
       "      <th>2020-07-05</th>\n",
       "      <th>2020-07-06</th>\n",
       "      <th>2020-07-07</th>\n",
       "      <th>2020-07-08</th>\n",
       "      <th>2020-07-09</th>\n",
       "      <th>2020-07-10</th>\n",
       "      <th>...</th>\n",
       "      <th>2020-09-20</th>\n",
       "      <th>2020-09-21</th>\n",
       "      <th>2020-09-22</th>\n",
       "      <th>2020-09-23</th>\n",
       "      <th>2020-09-24</th>\n",
       "      <th>2020-09-25</th>\n",
       "      <th>2020-09-26</th>\n",
       "      <th>2020-09-27</th>\n",
       "      <th>2020-09-28</th>\n",
       "      <th>2020-09-29</th>\n",
       "    </tr>\n",
       "    <tr>\n",
       "      <th>state</th>\n",
       "      <th></th>\n",
       "      <th></th>\n",
       "      <th></th>\n",
       "      <th></th>\n",
       "      <th></th>\n",
       "      <th></th>\n",
       "      <th></th>\n",
       "      <th></th>\n",
       "      <th></th>\n",
       "      <th></th>\n",
       "      <th></th>\n",
       "      <th></th>\n",
       "      <th></th>\n",
       "      <th></th>\n",
       "      <th></th>\n",
       "      <th></th>\n",
       "      <th></th>\n",
       "      <th></th>\n",
       "      <th></th>\n",
       "      <th></th>\n",
       "      <th></th>\n",
       "    </tr>\n",
       "  </thead>\n",
       "  <tbody>\n",
       "    <tr>\n",
       "      <th>Odisha</th>\n",
       "      <td>0</td>\n",
       "      <td>229</td>\n",
       "      <td>561</td>\n",
       "      <td>495</td>\n",
       "      <td>469</td>\n",
       "      <td>456</td>\n",
       "      <td>571</td>\n",
       "      <td>527</td>\n",
       "      <td>577</td>\n",
       "      <td>755</td>\n",
       "      <td>...</td>\n",
       "      <td>4330</td>\n",
       "      <td>4242</td>\n",
       "      <td>4189</td>\n",
       "      <td>4237</td>\n",
       "      <td>4340</td>\n",
       "      <td>4208</td>\n",
       "      <td>4356</td>\n",
       "      <td>3922</td>\n",
       "      <td>3235</td>\n",
       "      <td>3067</td>\n",
       "    </tr>\n",
       "    <tr>\n",
       "      <th>Telangana</th>\n",
       "      <td>0</td>\n",
       "      <td>1213</td>\n",
       "      <td>1892</td>\n",
       "      <td>1850</td>\n",
       "      <td>1590</td>\n",
       "      <td>1831</td>\n",
       "      <td>1879</td>\n",
       "      <td>1924</td>\n",
       "      <td>1410</td>\n",
       "      <td>1278</td>\n",
       "      <td>...</td>\n",
       "      <td>2137</td>\n",
       "      <td>1302</td>\n",
       "      <td>2166</td>\n",
       "      <td>2296</td>\n",
       "      <td>2176</td>\n",
       "      <td>2381</td>\n",
       "      <td>2239</td>\n",
       "      <td>1967</td>\n",
       "      <td>1378</td>\n",
       "      <td>2072</td>\n",
       "    </tr>\n",
       "    <tr>\n",
       "      <th>Bihar</th>\n",
       "      <td>0</td>\n",
       "      <td>478</td>\n",
       "      <td>426</td>\n",
       "      <td>349</td>\n",
       "      <td>403</td>\n",
       "      <td>280</td>\n",
       "      <td>385</td>\n",
       "      <td>749</td>\n",
       "      <td>704</td>\n",
       "      <td>352</td>\n",
       "      <td>...</td>\n",
       "      <td>1555</td>\n",
       "      <td>1314</td>\n",
       "      <td>1609</td>\n",
       "      <td>1598</td>\n",
       "      <td>1203</td>\n",
       "      <td>1632</td>\n",
       "      <td>1457</td>\n",
       "      <td>1527</td>\n",
       "      <td>1150</td>\n",
       "      <td>1439</td>\n",
       "    </tr>\n",
       "    <tr>\n",
       "      <th>Jammu and Kashmir</th>\n",
       "      <td>0</td>\n",
       "      <td>154</td>\n",
       "      <td>170</td>\n",
       "      <td>227</td>\n",
       "      <td>183</td>\n",
       "      <td>246</td>\n",
       "      <td>256</td>\n",
       "      <td>330</td>\n",
       "      <td>240</td>\n",
       "      <td>387</td>\n",
       "      <td>...</td>\n",
       "      <td>1457</td>\n",
       "      <td>1036</td>\n",
       "      <td>1235</td>\n",
       "      <td>1249</td>\n",
       "      <td>1104</td>\n",
       "      <td>1218</td>\n",
       "      <td>1217</td>\n",
       "      <td>1141</td>\n",
       "      <td>824</td>\n",
       "      <td>1081</td>\n",
       "    </tr>\n",
       "    <tr>\n",
       "      <th>Tripura</th>\n",
       "      <td>0</td>\n",
       "      <td>39</td>\n",
       "      <td>93</td>\n",
       "      <td>25</td>\n",
       "      <td>23</td>\n",
       "      <td>111</td>\n",
       "      <td>24</td>\n",
       "      <td>57</td>\n",
       "      <td>16</td>\n",
       "      <td>142</td>\n",
       "      <td>...</td>\n",
       "      <td>525</td>\n",
       "      <td>243</td>\n",
       "      <td>559</td>\n",
       "      <td>504</td>\n",
       "      <td>451</td>\n",
       "      <td>341</td>\n",
       "      <td>278</td>\n",
       "      <td>320</td>\n",
       "      <td>193</td>\n",
       "      <td>432</td>\n",
       "    </tr>\n",
       "  </tbody>\n",
       "</table>\n",
       "<p>5 rows × 91 columns</p>\n",
       "</div>"
      ],
      "text/plain": [
       "states             2020-07-01  2020-07-02  2020-07-03  2020-07-04  2020-07-05  \\\n",
       "state                                                                           \n",
       "Odisha                      0         229         561         495         469   \n",
       "Telangana                   0        1213        1892        1850        1590   \n",
       "Bihar                       0         478         426         349         403   \n",
       "Jammu and Kashmir           0         154         170         227         183   \n",
       "Tripura                     0          39          93          25          23   \n",
       "\n",
       "states             2020-07-06  2020-07-07  2020-07-08  2020-07-09  2020-07-10  \\\n",
       "state                                                                           \n",
       "Odisha                    456         571         527         577         755   \n",
       "Telangana                1831        1879        1924        1410        1278   \n",
       "Bihar                     280         385         749         704         352   \n",
       "Jammu and Kashmir         246         256         330         240         387   \n",
       "Tripura                   111          24          57          16         142   \n",
       "\n",
       "states             ...  2020-09-20  2020-09-21  2020-09-22  2020-09-23  \\\n",
       "state              ...                                                   \n",
       "Odisha             ...        4330        4242        4189        4237   \n",
       "Telangana          ...        2137        1302        2166        2296   \n",
       "Bihar              ...        1555        1314        1609        1598   \n",
       "Jammu and Kashmir  ...        1457        1036        1235        1249   \n",
       "Tripura            ...         525         243         559         504   \n",
       "\n",
       "states             2020-09-24  2020-09-25  2020-09-26  2020-09-27  2020-09-28  \\\n",
       "state                                                                           \n",
       "Odisha                   4340        4208        4356        3922        3235   \n",
       "Telangana                2176        2381        2239        1967        1378   \n",
       "Bihar                    1203        1632        1457        1527        1150   \n",
       "Jammu and Kashmir        1104        1218        1217        1141         824   \n",
       "Tripura                   451         341         278         320         193   \n",
       "\n",
       "states             2020-09-29  \n",
       "state                          \n",
       "Odisha                   3067  \n",
       "Telangana                2072  \n",
       "Bihar                    1439  \n",
       "Jammu and Kashmir        1081  \n",
       "Tripura                   432  \n",
       "\n",
       "[5 rows x 91 columns]"
      ]
     },
     "execution_count": 18,
     "metadata": {},
     "output_type": "execute_result"
    }
   ],
   "source": [
    "#hide\n",
    "dft_ct_new_cases.head()"
   ]
  },
  {
   "cell_type": "code",
   "execution_count": 19,
   "metadata": {
    "execution": {
     "iopub.execute_input": "2020-09-29T12:52:38.647223Z",
     "iopub.status.busy": "2020-09-29T12:52:38.637179Z",
     "iopub.status.idle": "2020-09-29T12:52:43.124182Z",
     "shell.execute_reply": "2020-09-29T12:52:43.124740Z"
    },
    "papermill": {
     "duration": 4.518923,
     "end_time": "2020-09-29T12:52:43.124906",
     "exception": false,
     "start_time": "2020-09-29T12:52:38.605983",
     "status": "completed"
    },
    "tags": []
   },
   "outputs": [
    {
     "data": {
      "image/png": "[encoded data removed]",
      "text/plain": [
       "<Figure size 1296x2016 with 11 Axes>"
      ]
     },
     "metadata": {
      "needs_background": "light"
     },
     "output_type": "display_data"
    }
   ],
   "source": [
    "#hide_input\n",
    "df = dft_ct_new_cases.copy()\n",
    "df.loc['Total'] = df.sum()\n",
    "n = 5\n",
    "ax = []\n",
    "fig = plt.figure(figsize = (18,28))\n",
    "gs = fig.add_gridspec(n+2, 5)\n",
    "# gs = fig.add_gridspec(2, 3)\n",
    "ax1 = fig.add_subplot(gs[0, :])\n",
    "ef = df.loc['Total'].rename_axis('date').reset_index()\n",
    "ef['date'] = ef['date'].astype('datetime64[ns]')\n",
    "ax1.bar(ef.date,ef.Total,alpha=0.3,color='#007acc')\n",
    "ax1.plot(ef.date,ef.Total , marker=\"o\", color='#007acc')\n",
    "ax1.xaxis.set_major_locator(mdates.WeekdayLocator())\n",
    "ax1.xaxis.set_major_formatter(mdates.DateFormatter('%b %d'))\n",
    "ax1.text(0.02, 0.5,'India daily case count', transform = ax1.transAxes, fontsize=25);\n",
    "ax1.spines['right'].set_visible(False)\n",
    "ax1.spines['top'].set_visible(False)\n",
    "\n",
    "ax2 = fig.add_subplot(gs[1,0])\n",
    "ef = df.loc['Maharashtra'].rename_axis('date').reset_index()\n",
    "ef['date'] = ef['date'].astype('datetime64[ns]')\n",
    "\n",
    "ax2.bar(ef.date, ef.Maharashtra,color = '#007acc',alpha=0.5)\n",
    "ax2.xaxis.set_major_locator(mdates.WeekdayLocator())\n",
    "ax2.xaxis.set_major_formatter(mdates.DateFormatter('%b %d'))\n",
    "ax2.set_xticks(ax2.get_xticks()[::3])\n",
    "maxyval = ef.Maharashtra.max()\n",
    "ax2.set_ylim([0,maxyval])\n",
    "ax2.text(0.05, 0.9,'Maharashtra', transform = ax2.transAxes, fontsize=20);\n",
    "ax2.spines['right'].set_visible(False)\n",
    "ax2.spines['top'].set_visible(False)\n",
    "\n",
    "\n",
    "ax3 = fig.add_subplot(gs[1,1])\n",
    "ef = df.loc['Tamil Nadu'].rename_axis('date').reset_index()\n",
    "ef['date'] = ef['date'].astype('datetime64[ns]')\n",
    "ax3.bar(ef.date, ef['Tamil Nadu'],color = '#007acc',alpha=0.5,)\n",
    "ax3.xaxis.set_major_locator(mdates.WeekdayLocator())\n",
    "ax3.xaxis.set_major_formatter(mdates.DateFormatter('%b %d'))\n",
    "ax3.set_xticks(ax3.get_xticks()[::3])\n",
    "ax3.text(0.05, 0.9,'Tamil Nadu', transform = ax3.transAxes, fontsize=20);\n",
    "ax3.spines['right'].set_visible(False)\n",
    "ax3.spines['top'].set_visible(False)\n",
    "\n",
    "ax5 = fig.add_subplot(gs[1,3])\n",
    "ef = df.loc['Telangana'].rename_axis('date').reset_index()\n",
    "ef['date'] = ef['date'].astype('datetime64[ns]')\n",
    "ax5.bar(ef.date, ef['Telangana'],color = '#007acc',alpha=0.5,)\n",
    "ax5.xaxis.set_major_locator(mdates.WeekdayLocator())\n",
    "ax5.xaxis.set_major_formatter(mdates.DateFormatter('%b %d'))\n",
    "ax5.set_xticks(ax5.get_xticks()[::3])\n",
    "ax5.text(0.05, 0.9,'Telangana', transform = ax5.transAxes, fontsize=20);\n",
    "ax5.spines['right'].set_visible(False)\n",
    "ax5.spines['top'].set_visible(False)\n",
    "\n",
    "ax6 = fig.add_subplot(gs[1,4])\n",
    "ef = df.loc['Andhra Pradesh'].rename_axis('date').reset_index()\n",
    "ef['date'] = ef['date'].astype('datetime64[ns]')\n",
    "ax6.bar(ef.date, ef['Andhra Pradesh'],color = '#007acc',alpha=0.5,)\n",
    "ax6.xaxis.set_major_locator(mdates.WeekdayLocator())\n",
    "ax6.xaxis.set_major_formatter(mdates.DateFormatter('%b %d'))\n",
    "ax6.set_xticks(ax6.get_xticks()[::3])\n",
    "ax6.text(0.05, 1,'Andhra Pradesh', transform = ax6.transAxes, fontsize=20);\n",
    "ax6.spines['right'].set_visible(False)\n",
    "ax6.spines['top'].set_visible(False)\n",
    "\n",
    "ax4 = fig.add_subplot(gs[1,2])\n",
    "ef = df.loc['Delhi'].rename_axis('date').reset_index()\n",
    "ef['date'] = ef['date'].astype('datetime64[ns]')\n",
    "ax4.bar(ef.date, ef.Delhi,color = '#007acc',alpha=0.5)\n",
    "ax4.set_xticks([])\n",
    "ax4.xaxis.set_major_locator(mdates.WeekdayLocator())\n",
    "ax4.xaxis.set_major_formatter(mdates.DateFormatter('%b %d'))\n",
    "ax4.set_xticks(ax4.get_xticks()[::3])\n",
    "ax4.spines['right'].set_visible(False)\n",
    "ax4.spines['top'].set_visible(False)\n",
    "\n",
    "ax4.text(0.05, 1,'Delhi', transform = ax4.transAxes, fontsize=20)\n",
    "\n",
    "for i in range(n):\n",
    "    \n",
    "    ax.append(fig.add_subplot(gs[i+2,:]))\n",
    "    ef = df.iloc[i+3].rename_axis('date').reset_index()\n",
    "    ef['date'] = ef['date'].astype('datetime64[ns]')\n",
    "    ax[i].bar(ef.date,ef.iloc[:,-1],color = '#007acc',alpha=0.3)\n",
    "    ax[i].plot(ef.date,ef.iloc[:,-1],marker='o',color='#007acc')\n",
    "    ax[i].text(0.02,0.5,f'{ef.columns.values[-1]}',transform = ax[i].transAxes, fontsize = 20);\n",
    "    ax[i].xaxis.set_major_locator(mdates.WeekdayLocator())\n",
    "    ax[i].xaxis.set_major_formatter(mdates.DateFormatter('%b %d'))\n",
    "    ax[i].set_ylim([0,7000])\n",
    "    ax[i].spines['right'].set_visible(False)\n",
    "    ax[i].spines['top'].set_visible(False)\n",
    "plt.tight_layout()\n"
   ]
  },
  {
   "cell_type": "code",
   "execution_count": 20,
   "metadata": {
    "execution": {
     "iopub.execute_input": "2020-09-29T12:52:43.180470Z",
     "iopub.status.busy": "2020-09-29T12:52:43.179723Z",
     "iopub.status.idle": "2020-09-29T12:52:43.193381Z",
     "shell.execute_reply": "2020-09-29T12:52:43.194125Z"
    },
    "papermill": {
     "duration": 0.045737,
     "end_time": "2020-09-29T12:52:43.194305",
     "exception": false,
     "start_time": "2020-09-29T12:52:43.148568",
     "status": "completed"
    },
    "tags": []
   },
   "outputs": [
    {
     "name": "stdout",
     "output_type": "stream",
     "text": [
      "                                   states    Cases  Deaths   PCases  PDeaths  Cases (+)  Deaths (+)  Fatality Rate\n",
      "                              Maharashtra  1351153   35751  1351153    35751          0           0           2.65\n",
      "                           Andhra Pradesh   681161    5745   681161     5745          0           0           0.84\n",
      "                                Karnataka   582458    8641   582458     8641          0           0           1.48\n",
      "                               Tamil Nadu   581943    9453   586397     9383          0          70           1.62\n",
      "                            Uttar Pradesh   390875    5652   390875     5652          0           0           1.45\n",
      "                                    Delhi   273098    5272   273098     5272          0           0           1.93\n",
      "                              West Bengal   250580    4837   250580     4837          0           0           1.93\n",
      "                                   Odisha   215676     881   212609      866       3067          15           0.41\n",
      "                                Telangana   189283    1116   187211     1107       2072           9           0.59\n",
      "                                    Bihar   181471     894   180032      892       1439           2           0.49\n",
      "                                   Kerala   179923     698   179923      698          0           0           0.39\n",
      "                                    Assam   173629     667   173629      667          0           0           0.38\n",
      "                                  Gujarat   134623    3431   134623     3431          0           0           2.55\n",
      "                                Rajasthan   130971    1456   130971     1456          0           0           1.11\n",
      "                                  Haryana   125412    1331   125412     1331          0           0           1.06\n",
      "                           Madhya Pradesh   124166    2242   124166     2242          0           0           1.81\n",
      "                                   Punjab   111375    3284   111375     3284          0           0           2.95\n",
      "                             Chhattisgarh   108458     877   108458      877          0           0           0.81\n",
      "                                Jharkhand    81417     688    81417      688          0           0           0.85\n",
      "                        Jammu and Kashmir    74095    1164    73014     1146       1081          18           1.57\n",
      "                              Uttarakhand    47502     580    47502      580          0           0           1.22\n",
      "                                      Goa    32396     407    32396      407          0           0           1.26\n",
      "                               Puducherry    26685     515    26685      515          0           0           1.93\n",
      "                                  Tripura    25350     273    24918      270        432           3           1.08\n",
      "                         Himachal Pradesh    14457     175    14457      175          0           0           1.21\n",
      "                               Chandigarh    11678     153    11678      153          0           0           1.31\n",
      "                                  Manipur    10477      64    10477       64          0           0           0.61\n",
      "                        Arunachal Pradesh     9332      15     9332       15          0           0           0.16\n",
      "                                 Nagaland     5957      12     5957       12          0           0           0.20\n",
      "                                Meghalaya     5362      46     5362       46          0           0           0.86\n",
      "                                   Ladakh     4152      58     4152       58          0           0           1.40\n",
      "              Andaman and Nicobar Islands     3803      53     3803       53          0           0           1.39\n",
      " Dadra and Nagar Haveli and Daman and Diu     3031       2     3015        2         16           0           0.07\n",
      "                                   Sikkim     2815      35     2815       35          0           0           1.24\n",
      "                                  Mizoram     1958       0     1908        0         50           0           0.00\n",
      "                              Lakshadweep        0       0        0        0          0           0            NaN\n"
     ]
    }
   ],
   "source": [
    "#hide_input\n",
    "print(df_table.to_string(index=False))"
   ]
  },
  {
   "cell_type": "code",
   "execution_count": null,
   "metadata": {
    "papermill": {
     "duration": 0.025394,
     "end_time": "2020-09-29T12:52:43.245486",
     "exception": false,
     "start_time": "2020-09-29T12:52:43.220092",
     "status": "completed"
    },
    "tags": []
   },
   "outputs": [],
   "source": []
  },
  {
   "cell_type": "code",
   "execution_count": null,
   "metadata": {
    "papermill": {
     "duration": 0.02209,
     "end_time": "2020-09-29T12:52:43.290121",
     "exception": false,
     "start_time": "2020-09-29T12:52:43.268031",
     "status": "completed"
    },
    "tags": []
   },
   "outputs": [],
   "source": []
  }
 ],
 "metadata": {
  "kernelspec": {
   "display_name": "Python 3",
   "language": "python",
   "name": "python3"
  },
  "language_info": {
   "codemirror_mode": {
    "name": "ipython",
    "version": 3
   },
   "file_extension": ".py",
   "mimetype": "text/x-python",
   "name": "python",
   "nbconvert_exporter": "python",
   "pygments_lexer": "ipython3",
   "version": "3.6.12"
  },
  "papermill": {
   "duration": 12.368256,
   "end_time": "2020-09-29T12:52:44.608913",
   "environment_variables": {},
   "exception": null,
   "input_path": "latest.ipynb",
   "output_path": "latest.ipynb",
   "parameters": {},
   "start_time": "2020-09-29T12:52:32.240657",
   "version": "2.1.2"
  }
 },
 "nbformat": 4,
 "nbformat_minor": 4
}