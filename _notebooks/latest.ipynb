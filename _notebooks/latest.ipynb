{
 "cells": [
  {
   "cell_type": "markdown",
   "id": "colored-stack",
   "metadata": {
    "papermill": {
     "duration": 0.019747,
     "end_time": "2021-02-03T14:50:35.833298",
     "exception": false,
     "start_time": "2021-02-03T14:50:35.813551",
     "status": "completed"
    },
    "tags": []
   },
   "source": [
    "# Latest COVID-19 India Matplotlib Overview"
   ]
  },
  {
   "cell_type": "code",
   "execution_count": 1,
   "id": "light-proportion",
   "metadata": {
    "execution": {
     "iopub.execute_input": "2021-02-03T14:50:35.876993Z",
     "iopub.status.busy": "2021-02-03T14:50:35.876395Z",
     "iopub.status.idle": "2021-02-03T14:50:36.412471Z",
     "shell.execute_reply": "2021-02-03T14:50:36.411930Z"
    },
    "papermill": {
     "duration": 0.562855,
     "end_time": "2021-02-03T14:50:36.412635",
     "exception": false,
     "start_time": "2021-02-03T14:50:35.849780",
     "status": "completed"
    },
    "tags": []
   },
   "outputs": [],
   "source": [
    "#hide\n",
    "import pandas as pd\n",
    "import numpy as np\n",
    "import requests\n",
    "import json\n",
    "import matplotlib.pyplot as plt\n",
    "import matplotlib.dates as mdates\n",
    "import matplotlib as mpl\n",
    "from IPython.core.display import display,HTML\n",
    "%matplotlib inline\n",
    "from datetime import date"
   ]
  },
  {
   "cell_type": "code",
   "execution_count": 2,
   "id": "greenhouse-shooting",
   "metadata": {
    "execution": {
     "iopub.execute_input": "2021-02-03T14:50:36.454308Z",
     "iopub.status.busy": "2021-02-03T14:50:36.453725Z",
     "iopub.status.idle": "2021-02-03T14:50:36.862526Z",
     "shell.execute_reply": "2021-02-03T14:50:36.863033Z"
    },
    "papermill": {
     "duration": 0.431396,
     "end_time": "2021-02-03T14:50:36.863200",
     "exception": false,
     "start_time": "2021-02-03T14:50:36.431804",
     "status": "completed"
    },
    "tags": []
   },
   "outputs": [],
   "source": [
    "#hide\n",
    "df  = pd.read_csv('https://api.covid19india.org/csv/latest/states.csv')\n",
    "df = df[['Date','State','Confirmed','Deceased']]\n",
    "df = df.rename(columns={'Confirmed':'Cases', \"Deceased\":'Deaths'})\n",
    "df_cases = df[[\"Date\",'State','Cases']]\n",
    "df_deaths = df[['Date','State','Deaths']]\n",
    "df_cases1 = df_cases.groupby('Date')\n",
    "df_deaths1= df_deaths.groupby('Date')"
   ]
  },
  {
   "cell_type": "code",
   "execution_count": 3,
   "id": "hybrid-cathedral",
   "metadata": {
    "execution": {
     "iopub.execute_input": "2021-02-03T14:50:36.900753Z",
     "iopub.status.busy": "2021-02-03T14:50:36.900168Z",
     "iopub.status.idle": "2021-02-03T14:50:36.918154Z",
     "shell.execute_reply": "2021-02-03T14:50:36.918610Z"
    },
    "papermill": {
     "duration": 0.038765,
     "end_time": "2021-02-03T14:50:36.918740",
     "exception": false,
     "start_time": "2021-02-03T14:50:36.879975",
     "status": "completed"
    },
    "tags": []
   },
   "outputs": [],
   "source": [
    "#hide\n",
    "df_snap = pd.read_csv('data/SnapshotCases-28-July.csv')\n",
    "arr_states = df_snap['states'].unique()\n",
    "arr_dates = df['Date'].unique()\n",
    "df_snap = df_snap.set_index('states')"
   ]
  },
  {
   "cell_type": "code",
   "execution_count": 4,
   "id": "interior-belfast",
   "metadata": {
    "execution": {
     "iopub.execute_input": "2021-02-03T14:50:36.957302Z",
     "iopub.status.busy": "2021-02-03T14:50:36.956616Z",
     "iopub.status.idle": "2021-02-03T14:50:36.959273Z",
     "shell.execute_reply": "2021-02-03T14:50:36.959779Z"
    },
    "papermill": {
     "duration": 0.025157,
     "end_time": "2021-02-03T14:50:36.959906",
     "exception": false,
     "start_time": "2021-02-03T14:50:36.934749",
     "status": "completed"
    },
    "tags": []
   },
   "outputs": [
    {
     "data": {
      "text/plain": [
       "array(['Andaman and Nicobar Islands', 'Andhra Pradesh',\n",
       "       'Arunachal Pradesh', 'Assam', 'Bihar', 'Chandigarh',\n",
       "       'Dadra and Nagar Haveli and Daman and Diu', 'Delhi', 'Goa',\n",
       "       'Gujarat', 'Haryana', 'Himachal Pradesh', 'Jammu and Kashmir',\n",
       "       'Jharkhand', 'Karnataka', 'Kerala', 'Lakshadweep',\n",
       "       'Madhya Pradesh', 'Maharashtra', 'Manipur', 'Meghalaya', 'Mizoram',\n",
       "       'Nagaland', 'Odisha', 'Puducherry', 'Punjab', 'Rajasthan',\n",
       "       'Sikkim', 'Tamil Nadu', 'Telangana', 'Tripura', 'Uttar Pradesh',\n",
       "       'West Bengal', 'Chhattisgarh', 'Ladakh', 'Uttarakhand'],\n",
       "      dtype=object)"
      ]
     },
     "execution_count": 4,
     "metadata": {},
     "output_type": "execute_result"
    }
   ],
   "source": [
    "#hide\n",
    "arr_states[-9] = 'Puducherry'\n",
    "arr_states[-10] = 'Odisha'\n",
    "arr_states[6] = 'Dadra and Nagar Haveli and Daman and Diu'\n",
    "arr_states = np.append(arr_states,np.array(['Chhattisgarh','Ladakh','Uttarakhand']))\n",
    "arr_states"
   ]
  },
  {
   "cell_type": "code",
   "execution_count": 5,
   "id": "behind-manner",
   "metadata": {
    "execution": {
     "iopub.execute_input": "2021-02-03T14:50:37.000303Z",
     "iopub.status.busy": "2021-02-03T14:50:36.999715Z",
     "iopub.status.idle": "2021-02-03T14:50:37.011569Z",
     "shell.execute_reply": "2021-02-03T14:50:37.012076Z"
    },
    "papermill": {
     "duration": 0.035518,
     "end_time": "2021-02-03T14:50:37.012204",
     "exception": false,
     "start_time": "2021-02-03T14:50:36.976686",
     "status": "completed"
    },
    "tags": []
   },
   "outputs": [],
   "source": [
    "#hide\n",
    "dates = []\n",
    "for i in arr_dates:\n",
    "    if i>='2020-07-01':\n",
    "        dates.append(i)\n",
    "dict = {'states':dates}\n",
    "for i in arr_states:\n",
    "    dict[i] = [0]*len(dates)\n",
    "dft_cases = pd.DataFrame(dict)\n",
    "dft_deaths = pd.DataFrame(dict)\n"
   ]
  },
  {
   "cell_type": "code",
   "execution_count": 6,
   "id": "simplified-peter",
   "metadata": {
    "execution": {
     "iopub.execute_input": "2021-02-03T14:50:37.053327Z",
     "iopub.status.busy": "2021-02-03T14:50:37.052650Z",
     "iopub.status.idle": "2021-02-03T14:50:40.654443Z",
     "shell.execute_reply": "2021-02-03T14:50:40.654909Z"
    },
    "papermill": {
     "duration": 3.625586,
     "end_time": "2021-02-03T14:50:40.655078",
     "exception": false,
     "start_time": "2021-02-03T14:50:37.029492",
     "status": "completed"
    },
    "tags": []
   },
   "outputs": [],
   "source": [
    "#hide\n",
    "for i in range(len(dates)):\n",
    "    df1_deaths = df_deaths1.get_group(dates[i])\n",
    "    for j in range(len(df1_deaths.index)):\n",
    "        if df1_deaths.iloc[j,1] in arr_states:\n",
    "            dft_deaths.loc[i,df1_deaths.iloc[j,1]] = df1_deaths.iloc[j,2]\n",
    "dft_deaths = dft_deaths.set_index('states')"
   ]
  },
  {
   "cell_type": "code",
   "execution_count": 7,
   "id": "geological-welding",
   "metadata": {
    "execution": {
     "iopub.execute_input": "2021-02-03T14:50:40.693731Z",
     "iopub.status.busy": "2021-02-03T14:50:40.693153Z",
     "iopub.status.idle": "2021-02-03T14:50:44.287668Z",
     "shell.execute_reply": "2021-02-03T14:50:44.287156Z"
    },
    "papermill": {
     "duration": 3.615374,
     "end_time": "2021-02-03T14:50:44.287838",
     "exception": false,
     "start_time": "2021-02-03T14:50:40.672464",
     "status": "completed"
    },
    "tags": []
   },
   "outputs": [],
   "source": [
    "#hide\n",
    "for i in range(len(dates)):\n",
    "    df1_cases = df_cases1.get_group(dates[i])\n",
    "    for j in range(len(df1_cases.index)):\n",
    "        if df1_cases.iloc[j,1] in arr_states:\n",
    "            dft_cases.loc[i,df1_cases.iloc[j,1]] = df1_cases.iloc[j,2]\n",
    "dft_cases = dft_cases.set_index('states')"
   ]
  },
  {
   "cell_type": "code",
   "execution_count": 8,
   "id": "binary-ratio",
   "metadata": {
    "execution": {
     "iopub.execute_input": "2021-02-03T14:50:44.326785Z",
     "iopub.status.busy": "2021-02-03T14:50:44.326204Z",
     "iopub.status.idle": "2021-02-03T14:50:44.329953Z",
     "shell.execute_reply": "2021-02-03T14:50:44.329467Z"
    },
    "papermill": {
     "duration": 0.024109,
     "end_time": "2021-02-03T14:50:44.330064",
     "exception": false,
     "start_time": "2021-02-03T14:50:44.305955",
     "status": "completed"
    },
    "tags": []
   },
   "outputs": [],
   "source": [
    "#hide\n",
    "dft_cases = dft_cases.T\n",
    "dft_deaths = dft_deaths.T\n",
    "dt_today = dates[-1]\n",
    "dt_yday = dates[-2]"
   ]
  },
  {
   "cell_type": "code",
   "execution_count": 9,
   "id": "boolean-calculator",
   "metadata": {
    "execution": {
     "iopub.execute_input": "2021-02-03T14:50:44.370820Z",
     "iopub.status.busy": "2021-02-03T14:50:44.368982Z",
     "iopub.status.idle": "2021-02-03T14:50:44.375112Z",
     "shell.execute_reply": "2021-02-03T14:50:44.374628Z"
    },
    "papermill": {
     "duration": 0.027124,
     "end_time": "2021-02-03T14:50:44.375228",
     "exception": false,
     "start_time": "2021-02-03T14:50:44.348104",
     "status": "completed"
    },
    "tags": []
   },
   "outputs": [],
   "source": [
    "#hide\n",
    "dft_cases = dft_cases.reset_index()\n",
    "dft_deaths = dft_deaths.reset_index()\n",
    "dft_cases = dft_cases.rename(columns = {'index':'state'})\n",
    "dft_deaths = dft_deaths.rename(columns = {'index':'state'})"
   ]
  },
  {
   "cell_type": "code",
   "execution_count": 10,
   "id": "invisible-johnston",
   "metadata": {
    "execution": {
     "iopub.execute_input": "2021-02-03T14:50:44.419939Z",
     "iopub.status.busy": "2021-02-03T14:50:44.419327Z",
     "iopub.status.idle": "2021-02-03T14:50:44.422778Z",
     "shell.execute_reply": "2021-02-03T14:50:44.422202Z"
    },
    "papermill": {
     "duration": 0.030994,
     "end_time": "2021-02-03T14:50:44.422895",
     "exception": false,
     "start_time": "2021-02-03T14:50:44.391901",
     "status": "completed"
    },
    "tags": []
   },
   "outputs": [],
   "source": [
    "#hide\n",
    "dfc_cases = dft_cases.groupby('state')[dt_today].sum()\n",
    "dfc_deaths = dft_deaths.groupby('state')[dt_today].sum()\n",
    "dfp_cases = dft_cases.groupby('state')[dt_yday].sum()\n",
    "dfp_deaths = dft_deaths.groupby('state')[dt_yday].sum()"
   ]
  },
  {
   "cell_type": "code",
   "execution_count": 11,
   "id": "measured-great",
   "metadata": {
    "execution": {
     "iopub.execute_input": "2021-02-03T14:50:44.470970Z",
     "iopub.status.busy": "2021-02-03T14:50:44.470379Z",
     "iopub.status.idle": "2021-02-03T14:50:44.476374Z",
     "shell.execute_reply": "2021-02-03T14:50:44.476851Z"
    },
    "papermill": {
     "duration": 0.037169,
     "end_time": "2021-02-03T14:50:44.476980",
     "exception": false,
     "start_time": "2021-02-03T14:50:44.439811",
     "status": "completed"
    },
    "tags": []
   },
   "outputs": [
    {
     "data": {
      "text/html": [
       "<div>\n",
       "<style scoped>\n",
       "    .dataframe tbody tr th:only-of-type {\n",
       "        vertical-align: middle;\n",
       "    }\n",
       "\n",
       "    .dataframe tbody tr th {\n",
       "        vertical-align: top;\n",
       "    }\n",
       "\n",
       "    .dataframe thead th {\n",
       "        text-align: right;\n",
       "    }\n",
       "</style>\n",
       "<table border=\"1\" class=\"dataframe\">\n",
       "  <thead>\n",
       "    <tr style=\"text-align: right;\">\n",
       "      <th></th>\n",
       "      <th>states</th>\n",
       "      <th>Cases</th>\n",
       "      <th>Deaths</th>\n",
       "      <th>PCases</th>\n",
       "      <th>PDeaths</th>\n",
       "    </tr>\n",
       "  </thead>\n",
       "  <tbody>\n",
       "    <tr>\n",
       "      <th>0</th>\n",
       "      <td>Maharashtra</td>\n",
       "      <td>2030274</td>\n",
       "      <td>51139</td>\n",
       "      <td>2030274</td>\n",
       "      <td>51139</td>\n",
       "    </tr>\n",
       "    <tr>\n",
       "      <th>1</th>\n",
       "      <td>Kerala</td>\n",
       "      <td>944710</td>\n",
       "      <td>3797</td>\n",
       "      <td>938354</td>\n",
       "      <td>3777</td>\n",
       "    </tr>\n",
       "    <tr>\n",
       "      <th>2</th>\n",
       "      <td>Karnataka</td>\n",
       "      <td>940170</td>\n",
       "      <td>12223</td>\n",
       "      <td>940170</td>\n",
       "      <td>12223</td>\n",
       "    </tr>\n",
       "    <tr>\n",
       "      <th>3</th>\n",
       "      <td>Andhra Pradesh</td>\n",
       "      <td>888004</td>\n",
       "      <td>7156</td>\n",
       "      <td>888004</td>\n",
       "      <td>7156</td>\n",
       "    </tr>\n",
       "    <tr>\n",
       "      <th>4</th>\n",
       "      <td>Tamil Nadu</td>\n",
       "      <td>839352</td>\n",
       "      <td>12367</td>\n",
       "      <td>839352</td>\n",
       "      <td>12367</td>\n",
       "    </tr>\n",
       "  </tbody>\n",
       "</table>\n",
       "</div>"
      ],
      "text/plain": [
       "           states    Cases  Deaths   PCases  PDeaths\n",
       "0     Maharashtra  2030274   51139  2030274    51139\n",
       "1          Kerala   944710    3797   938354     3777\n",
       "2       Karnataka   940170   12223   940170    12223\n",
       "3  Andhra Pradesh   888004    7156   888004     7156\n",
       "4      Tamil Nadu   839352   12367   839352    12367"
      ]
     },
     "execution_count": 11,
     "metadata": {},
     "output_type": "execute_result"
    }
   ],
   "source": [
    "#hide\n",
    "df_table = pd.DataFrame({'states': dfc_cases.index, 'Cases': dfc_cases.values, 'Deaths': dfc_deaths.values, 'PCases': dfp_cases.values, 'PDeaths': dfp_deaths.values}).set_index('states')\n",
    "df_table = df_table.sort_values(by = ['Cases','Deaths'], ascending = [False, False])\n",
    "df_table = df_table.reset_index()\n",
    "df_table.head()"
   ]
  },
  {
   "cell_type": "code",
   "execution_count": 12,
   "id": "found-montreal",
   "metadata": {
    "execution": {
     "iopub.execute_input": "2021-02-03T14:50:44.515462Z",
     "iopub.status.busy": "2021-02-03T14:50:44.514893Z",
     "iopub.status.idle": "2021-02-03T14:50:44.523243Z",
     "shell.execute_reply": "2021-02-03T14:50:44.523728Z"
    },
    "papermill": {
     "duration": 0.030413,
     "end_time": "2021-02-03T14:50:44.523855",
     "exception": false,
     "start_time": "2021-02-03T14:50:44.493442",
     "status": "completed"
    },
    "tags": []
   },
   "outputs": [],
   "source": [
    "#hide\n",
    "for c in 'Cases, Deaths'.split(', '):\n",
    "    df_table[f'{c} (+)'] = (df_table[c] - df_table[f'P{c}']).clip(0)\n",
    "df_table['Fatality Rate'] = (100* df_table['Deaths']/ df_table['Cases']).round(2)"
   ]
  },
  {
   "cell_type": "code",
   "execution_count": 13,
   "id": "minus-savage",
   "metadata": {
    "execution": {
     "iopub.execute_input": "2021-02-03T14:50:44.567493Z",
     "iopub.status.busy": "2021-02-03T14:50:44.566916Z",
     "iopub.status.idle": "2021-02-03T14:50:44.570907Z",
     "shell.execute_reply": "2021-02-03T14:50:44.571422Z"
    },
    "papermill": {
     "duration": 0.031233,
     "end_time": "2021-02-03T14:50:44.571551",
     "exception": false,
     "start_time": "2021-02-03T14:50:44.540318",
     "status": "completed"
    },
    "tags": []
   },
   "outputs": [
    {
     "data": {
      "text/html": [
       "<div>\n",
       "<style scoped>\n",
       "    .dataframe tbody tr th:only-of-type {\n",
       "        vertical-align: middle;\n",
       "    }\n",
       "\n",
       "    .dataframe tbody tr th {\n",
       "        vertical-align: top;\n",
       "    }\n",
       "\n",
       "    .dataframe thead th {\n",
       "        text-align: right;\n",
       "    }\n",
       "</style>\n",
       "<table border=\"1\" class=\"dataframe\">\n",
       "  <thead>\n",
       "    <tr style=\"text-align: right;\">\n",
       "      <th></th>\n",
       "      <th>states</th>\n",
       "      <th>Cases</th>\n",
       "      <th>Deaths</th>\n",
       "      <th>PCases</th>\n",
       "      <th>PDeaths</th>\n",
       "      <th>Cases (+)</th>\n",
       "      <th>Deaths (+)</th>\n",
       "      <th>Fatality Rate</th>\n",
       "    </tr>\n",
       "  </thead>\n",
       "  <tbody>\n",
       "    <tr>\n",
       "      <th>0</th>\n",
       "      <td>Maharashtra</td>\n",
       "      <td>2030274</td>\n",
       "      <td>51139</td>\n",
       "      <td>2030274</td>\n",
       "      <td>51139</td>\n",
       "      <td>0</td>\n",
       "      <td>0</td>\n",
       "      <td>2.52</td>\n",
       "    </tr>\n",
       "    <tr>\n",
       "      <th>1</th>\n",
       "      <td>Kerala</td>\n",
       "      <td>944710</td>\n",
       "      <td>3797</td>\n",
       "      <td>938354</td>\n",
       "      <td>3777</td>\n",
       "      <td>6356</td>\n",
       "      <td>20</td>\n",
       "      <td>0.40</td>\n",
       "    </tr>\n",
       "    <tr>\n",
       "      <th>2</th>\n",
       "      <td>Karnataka</td>\n",
       "      <td>940170</td>\n",
       "      <td>12223</td>\n",
       "      <td>940170</td>\n",
       "      <td>12223</td>\n",
       "      <td>0</td>\n",
       "      <td>0</td>\n",
       "      <td>1.30</td>\n",
       "    </tr>\n",
       "    <tr>\n",
       "      <th>3</th>\n",
       "      <td>Andhra Pradesh</td>\n",
       "      <td>888004</td>\n",
       "      <td>7156</td>\n",
       "      <td>888004</td>\n",
       "      <td>7156</td>\n",
       "      <td>0</td>\n",
       "      <td>0</td>\n",
       "      <td>0.81</td>\n",
       "    </tr>\n",
       "    <tr>\n",
       "      <th>4</th>\n",
       "      <td>Tamil Nadu</td>\n",
       "      <td>839352</td>\n",
       "      <td>12367</td>\n",
       "      <td>839352</td>\n",
       "      <td>12367</td>\n",
       "      <td>0</td>\n",
       "      <td>0</td>\n",
       "      <td>1.47</td>\n",
       "    </tr>\n",
       "  </tbody>\n",
       "</table>\n",
       "</div>"
      ],
      "text/plain": [
       "           states    Cases  Deaths   PCases  PDeaths  Cases (+)  Deaths (+)  \\\n",
       "0     Maharashtra  2030274   51139  2030274    51139          0           0   \n",
       "1          Kerala   944710    3797   938354     3777       6356          20   \n",
       "2       Karnataka   940170   12223   940170    12223          0           0   \n",
       "3  Andhra Pradesh   888004    7156   888004     7156          0           0   \n",
       "4      Tamil Nadu   839352   12367   839352    12367          0           0   \n",
       "\n",
       "   Fatality Rate  \n",
       "0           2.52  \n",
       "1           0.40  \n",
       "2           1.30  \n",
       "3           0.81  \n",
       "4           1.47  "
      ]
     },
     "execution_count": 13,
     "metadata": {},
     "output_type": "execute_result"
    }
   ],
   "source": [
    "#hide\n",
    "df_table.head()"
   ]
  },
  {
   "cell_type": "code",
   "execution_count": 14,
   "id": "false-peter",
   "metadata": {
    "execution": {
     "iopub.execute_input": "2021-02-03T14:50:44.610228Z",
     "iopub.status.busy": "2021-02-03T14:50:44.609662Z",
     "iopub.status.idle": "2021-02-03T14:50:44.625611Z",
     "shell.execute_reply": "2021-02-03T14:50:44.625106Z"
    },
    "papermill": {
     "duration": 0.036879,
     "end_time": "2021-02-03T14:50:44.625730",
     "exception": false,
     "start_time": "2021-02-03T14:50:44.588851",
     "status": "completed"
    },
    "tags": []
   },
   "outputs": [
    {
     "data": {
      "text/plain": [
       "{'updated': '2021-02-03',\n",
       " 'since': '2021-02-02',\n",
       " 'Cases': 10784563,\n",
       " 'PCases': 10778207,\n",
       " 'Deaths': 154655,\n",
       " 'PDeaths': 154635,\n",
       " 'Cases (+)': 6356,\n",
       " 'Deaths (+)': 20}"
      ]
     },
     "execution_count": 14,
     "metadata": {},
     "output_type": "execute_result"
    }
   ],
   "source": [
    "#hide\n",
    "summary = {'updated':dates[-1], 'since':dates[-2]}\n",
    "list_names = ['Cases', 'PCases', 'Deaths', 'PDeaths', 'Cases (+)', 'Deaths (+)']\n",
    "for name in list_names:\n",
    "    summary[name] = df_table.sum()[name]\n",
    "summary"
   ]
  },
  {
   "cell_type": "code",
   "execution_count": 15,
   "id": "packed-viewer",
   "metadata": {
    "execution": {
     "iopub.execute_input": "2021-02-03T14:50:44.663670Z",
     "iopub.status.busy": "2021-02-03T14:50:44.663101Z",
     "iopub.status.idle": "2021-02-03T14:50:44.665730Z",
     "shell.execute_reply": "2021-02-03T14:50:44.666271Z"
    },
    "papermill": {
     "duration": 0.023608,
     "end_time": "2021-02-03T14:50:44.666394",
     "exception": false,
     "start_time": "2021-02-03T14:50:44.642786",
     "status": "completed"
    },
    "tags": []
   },
   "outputs": [],
   "source": [
    "#hide\n",
    "overview = '''\n",
    "<!-- #######  HTML!! #########-->\n",
    "<h1 style=\"color: #5e9ca0; text-align: center;\">India</h1>\n",
    "<p style=\"text-align: center;\">Last update: <strong>{update}</strong></p>\n",
    "<p style=\"text-align: center;\">Confirmed cases:</p>\n",
    "<p style=\"text-align: center;font-size:24px;\">{cases} (<span style=\"color: #ff0000;\">+{new}</span>)</p>\n",
    "<p style=\"text-align: center;\">Confirmed deaths:</p>\n",
    "<p style=\"text-align: center;font-size:24px;\">{deaths} (<span style=\"color: #ff0000;\">+{dnew}</span>)</p>\n",
    "'''"
   ]
  },
  {
   "cell_type": "code",
   "execution_count": 16,
   "id": "phantom-lover",
   "metadata": {
    "execution": {
     "iopub.execute_input": "2021-02-03T14:50:44.707619Z",
     "iopub.status.busy": "2021-02-03T14:50:44.707056Z",
     "iopub.status.idle": "2021-02-03T14:50:44.710326Z",
     "shell.execute_reply": "2021-02-03T14:50:44.709844Z"
    },
    "papermill": {
     "duration": 0.024981,
     "end_time": "2021-02-03T14:50:44.710437",
     "exception": false,
     "start_time": "2021-02-03T14:50:44.685456",
     "status": "completed"
    },
    "tags": []
   },
   "outputs": [
    {
     "data": {
      "text/html": [
       "\n",
       "<!-- #######  HTML!! #########-->\n",
       "<h1 style=\"color: #5e9ca0; text-align: center;\">India</h1>\n",
       "<p style=\"text-align: center;\">Last update: <strong>2021-02-03</strong></p>\n",
       "<p style=\"text-align: center;\">Confirmed cases:</p>\n",
       "<p style=\"text-align: center;font-size:24px;\">10784563 (<span style=\"color: #ff0000;\">+6356</span>)</p>\n",
       "<p style=\"text-align: center;\">Confirmed deaths:</p>\n",
       "<p style=\"text-align: center;font-size:24px;\">154655 (<span style=\"color: #ff0000;\">+20</span>)</p>\n"
      ],
      "text/plain": [
       "<IPython.core.display.HTML object>"
      ]
     },
     "metadata": {},
     "output_type": "display_data"
    }
   ],
   "source": [
    "#hide_input\n",
    "update = summary['updated']\n",
    "cases = summary['Cases']\n",
    "new = summary['Cases (+)']\n",
    "deaths = summary['Deaths']\n",
    "dnew = summary['Deaths (+)']\n",
    "\n",
    "html = HTML(overview.format(update=update, cases=cases,new=new,deaths=deaths,dnew=dnew))\n",
    "\n",
    "display(html)"
   ]
  },
  {
   "cell_type": "code",
   "execution_count": 17,
   "id": "sealed-reset",
   "metadata": {
    "execution": {
     "iopub.execute_input": "2021-02-03T14:50:44.752421Z",
     "iopub.status.busy": "2021-02-03T14:50:44.751823Z",
     "iopub.status.idle": "2021-02-03T14:50:44.758895Z",
     "shell.execute_reply": "2021-02-03T14:50:44.759591Z"
    },
    "papermill": {
     "duration": 0.031013,
     "end_time": "2021-02-03T14:50:44.759738",
     "exception": false,
     "start_time": "2021-02-03T14:50:44.728725",
     "status": "completed"
    },
    "tags": []
   },
   "outputs": [],
   "source": [
    "#hide\n",
    "dt_cols = list(dft_cases.columns[1:])\n",
    "dft_ct_new_cases = dft_cases.groupby('state')[dt_cols].sum().diff(axis=1).fillna(0).astype(int)\n",
    "dft_ct_new_cases.sort_values(by = dates[-1], ascending = False,inplace = True)"
   ]
  },
  {
   "cell_type": "code",
   "execution_count": 18,
   "id": "designed-constant",
   "metadata": {
    "execution": {
     "iopub.execute_input": "2021-02-03T14:50:44.814920Z",
     "iopub.status.busy": "2021-02-03T14:50:44.814289Z",
     "iopub.status.idle": "2021-02-03T14:50:44.816791Z",
     "shell.execute_reply": "2021-02-03T14:50:44.817299Z"
    },
    "papermill": {
     "duration": 0.039352,
     "end_time": "2021-02-03T14:50:44.817441",
     "exception": false,
     "start_time": "2021-02-03T14:50:44.778089",
     "status": "completed"
    },
    "tags": []
   },
   "outputs": [
    {
     "data": {
      "text/html": [
       "<div>\n",
       "<style scoped>\n",
       "    .dataframe tbody tr th:only-of-type {\n",
       "        vertical-align: middle;\n",
       "    }\n",
       "\n",
       "    .dataframe tbody tr th {\n",
       "        vertical-align: top;\n",
       "    }\n",
       "\n",
       "    .dataframe thead th {\n",
       "        text-align: right;\n",
       "    }\n",
       "</style>\n",
       "<table border=\"1\" class=\"dataframe\">\n",
       "  <thead>\n",
       "    <tr style=\"text-align: right;\">\n",
       "      <th>states</th>\n",
       "      <th>2020-07-01</th>\n",
       "      <th>2020-07-02</th>\n",
       "      <th>2020-07-03</th>\n",
       "      <th>2020-07-04</th>\n",
       "      <th>2020-07-05</th>\n",
       "      <th>2020-07-06</th>\n",
       "      <th>2020-07-07</th>\n",
       "      <th>2020-07-08</th>\n",
       "      <th>2020-07-09</th>\n",
       "      <th>2020-07-10</th>\n",
       "      <th>...</th>\n",
       "      <th>2021-01-25</th>\n",
       "      <th>2021-01-26</th>\n",
       "      <th>2021-01-27</th>\n",
       "      <th>2021-01-28</th>\n",
       "      <th>2021-01-29</th>\n",
       "      <th>2021-01-30</th>\n",
       "      <th>2021-01-31</th>\n",
       "      <th>2021-02-01</th>\n",
       "      <th>2021-02-02</th>\n",
       "      <th>2021-02-03</th>\n",
       "    </tr>\n",
       "    <tr>\n",
       "      <th>state</th>\n",
       "      <th></th>\n",
       "      <th></th>\n",
       "      <th></th>\n",
       "      <th></th>\n",
       "      <th></th>\n",
       "      <th></th>\n",
       "      <th></th>\n",
       "      <th></th>\n",
       "      <th></th>\n",
       "      <th></th>\n",
       "      <th></th>\n",
       "      <th></th>\n",
       "      <th></th>\n",
       "      <th></th>\n",
       "      <th></th>\n",
       "      <th></th>\n",
       "      <th></th>\n",
       "      <th></th>\n",
       "      <th></th>\n",
       "      <th></th>\n",
       "      <th></th>\n",
       "    </tr>\n",
       "  </thead>\n",
       "  <tbody>\n",
       "    <tr>\n",
       "      <th>Kerala</th>\n",
       "      <td>0</td>\n",
       "      <td>160</td>\n",
       "      <td>211</td>\n",
       "      <td>240</td>\n",
       "      <td>225</td>\n",
       "      <td>193</td>\n",
       "      <td>272</td>\n",
       "      <td>301</td>\n",
       "      <td>339</td>\n",
       "      <td>416</td>\n",
       "      <td>...</td>\n",
       "      <td>3361</td>\n",
       "      <td>6293</td>\n",
       "      <td>5659</td>\n",
       "      <td>5771</td>\n",
       "      <td>6268</td>\n",
       "      <td>6282</td>\n",
       "      <td>5266</td>\n",
       "      <td>3459</td>\n",
       "      <td>5716</td>\n",
       "      <td>6356</td>\n",
       "    </tr>\n",
       "    <tr>\n",
       "      <th>Andaman and Nicobar Islands</th>\n",
       "      <td>0</td>\n",
       "      <td>9</td>\n",
       "      <td>7</td>\n",
       "      <td>3</td>\n",
       "      <td>6</td>\n",
       "      <td>16</td>\n",
       "      <td>6</td>\n",
       "      <td>2</td>\n",
       "      <td>7</td>\n",
       "      <td>0</td>\n",
       "      <td>...</td>\n",
       "      <td>1</td>\n",
       "      <td>0</td>\n",
       "      <td>0</td>\n",
       "      <td>0</td>\n",
       "      <td>0</td>\n",
       "      <td>0</td>\n",
       "      <td>0</td>\n",
       "      <td>0</td>\n",
       "      <td>0</td>\n",
       "      <td>0</td>\n",
       "    </tr>\n",
       "    <tr>\n",
       "      <th>Madhya Pradesh</th>\n",
       "      <td>0</td>\n",
       "      <td>245</td>\n",
       "      <td>191</td>\n",
       "      <td>307</td>\n",
       "      <td>326</td>\n",
       "      <td>354</td>\n",
       "      <td>343</td>\n",
       "      <td>409</td>\n",
       "      <td>305</td>\n",
       "      <td>316</td>\n",
       "      <td>...</td>\n",
       "      <td>200</td>\n",
       "      <td>228</td>\n",
       "      <td>185</td>\n",
       "      <td>226</td>\n",
       "      <td>171</td>\n",
       "      <td>219</td>\n",
       "      <td>226</td>\n",
       "      <td>151</td>\n",
       "      <td>168</td>\n",
       "      <td>0</td>\n",
       "    </tr>\n",
       "    <tr>\n",
       "      <th>Manipur</th>\n",
       "      <td>0</td>\n",
       "      <td>19</td>\n",
       "      <td>37</td>\n",
       "      <td>9</td>\n",
       "      <td>41</td>\n",
       "      <td>24</td>\n",
       "      <td>40</td>\n",
       "      <td>5</td>\n",
       "      <td>15</td>\n",
       "      <td>132</td>\n",
       "      <td>...</td>\n",
       "      <td>11</td>\n",
       "      <td>6</td>\n",
       "      <td>4</td>\n",
       "      <td>15</td>\n",
       "      <td>15</td>\n",
       "      <td>15</td>\n",
       "      <td>16</td>\n",
       "      <td>4</td>\n",
       "      <td>5</td>\n",
       "      <td>0</td>\n",
       "    </tr>\n",
       "    <tr>\n",
       "      <th>Meghalaya</th>\n",
       "      <td>0</td>\n",
       "      <td>3</td>\n",
       "      <td>4</td>\n",
       "      <td>8</td>\n",
       "      <td>2</td>\n",
       "      <td>16</td>\n",
       "      <td>6</td>\n",
       "      <td>6</td>\n",
       "      <td>13</td>\n",
       "      <td>73</td>\n",
       "      <td>...</td>\n",
       "      <td>2</td>\n",
       "      <td>6</td>\n",
       "      <td>1</td>\n",
       "      <td>8</td>\n",
       "      <td>4</td>\n",
       "      <td>8</td>\n",
       "      <td>3</td>\n",
       "      <td>0</td>\n",
       "      <td>4</td>\n",
       "      <td>0</td>\n",
       "    </tr>\n",
       "  </tbody>\n",
       "</table>\n",
       "<p>5 rows × 218 columns</p>\n",
       "</div>"
      ],
      "text/plain": [
       "states                       2020-07-01  2020-07-02  2020-07-03  2020-07-04  \\\n",
       "state                                                                         \n",
       "Kerala                                0         160         211         240   \n",
       "Andaman and Nicobar Islands           0           9           7           3   \n",
       "Madhya Pradesh                        0         245         191         307   \n",
       "Manipur                               0          19          37           9   \n",
       "Meghalaya                             0           3           4           8   \n",
       "\n",
       "states                       2020-07-05  2020-07-06  2020-07-07  2020-07-08  \\\n",
       "state                                                                         \n",
       "Kerala                              225         193         272         301   \n",
       "Andaman and Nicobar Islands           6          16           6           2   \n",
       "Madhya Pradesh                      326         354         343         409   \n",
       "Manipur                              41          24          40           5   \n",
       "Meghalaya                             2          16           6           6   \n",
       "\n",
       "states                       2020-07-09  2020-07-10  ...  2021-01-25  \\\n",
       "state                                                ...               \n",
       "Kerala                              339         416  ...        3361   \n",
       "Andaman and Nicobar Islands           7           0  ...           1   \n",
       "Madhya Pradesh                      305         316  ...         200   \n",
       "Manipur                              15         132  ...          11   \n",
       "Meghalaya                            13          73  ...           2   \n",
       "\n",
       "states                       2021-01-26  2021-01-27  2021-01-28  2021-01-29  \\\n",
       "state                                                                         \n",
       "Kerala                             6293        5659        5771        6268   \n",
       "Andaman and Nicobar Islands           0           0           0           0   \n",
       "Madhya Pradesh                      228         185         226         171   \n",
       "Manipur                               6           4          15          15   \n",
       "Meghalaya                             6           1           8           4   \n",
       "\n",
       "states                       2021-01-30  2021-01-31  2021-02-01  2021-02-02  \\\n",
       "state                                                                         \n",
       "Kerala                             6282        5266        3459        5716   \n",
       "Andaman and Nicobar Islands           0           0           0           0   \n",
       "Madhya Pradesh                      219         226         151         168   \n",
       "Manipur                              15          16           4           5   \n",
       "Meghalaya                             8           3           0           4   \n",
       "\n",
       "states                       2021-02-03  \n",
       "state                                    \n",
       "Kerala                             6356  \n",
       "Andaman and Nicobar Islands           0  \n",
       "Madhya Pradesh                        0  \n",
       "Manipur                               0  \n",
       "Meghalaya                             0  \n",
       "\n",
       "[5 rows x 218 columns]"
      ]
     },
     "execution_count": 18,
     "metadata": {},
     "output_type": "execute_result"
    }
   ],
   "source": [
    "#hide\n",
    "dft_ct_new_cases.head()"
   ]
  },
  {
   "cell_type": "code",
   "execution_count": 19,
   "id": "responsible-nightlife",
   "metadata": {
    "execution": {
     "iopub.execute_input": "2021-02-03T14:50:44.883147Z",
     "iopub.status.busy": "2021-02-03T14:50:44.867651Z",
     "iopub.status.idle": "2021-02-03T14:50:53.017664Z",
     "shell.execute_reply": "2021-02-03T14:50:53.018142Z"
    },
    "papermill": {
     "duration": 8.181327,
     "end_time": "2021-02-03T14:50:53.018301",
     "exception": false,
     "start_time": "2021-02-03T14:50:44.836974",
     "status": "completed"
    },
    "tags": []
   },
   "outputs": [
    {
     "data": {
      "image/png": "[encoded data removed]",
      "text/plain": [
       "<Figure size 1296x2016 with 11 Axes>"
      ]
     },
     "metadata": {
      "needs_background": "light"
     },
     "output_type": "display_data"
    }
   ],
   "source": [
    "#hide_input\n",
    "df = dft_ct_new_cases.copy()\n",
    "df.loc['Total'] = df.sum()\n",
    "n = 5\n",
    "ax = []\n",
    "fig = plt.figure(figsize = (18,28))\n",
    "gs = fig.add_gridspec(n+2, 5)\n",
    "# gs = fig.add_gridspec(2, 3)\n",
    "ax1 = fig.add_subplot(gs[0, :])\n",
    "ef = df.loc['Total'].rename_axis('date').reset_index()\n",
    "ef['date'] = ef['date'].astype('datetime64[ns]')\n",
    "ax1.bar(ef.date,ef.Total,alpha=0.3,color='#007acc')\n",
    "ax1.plot(ef.date,ef.Total , marker=\"o\", color='#007acc')\n",
    "ax1.xaxis.set_major_locator(mdates.WeekdayLocator())\n",
    "ax1.xaxis.set_major_formatter(mdates.DateFormatter('%b %d'))\n",
    "ax1.text(0.02, 0.5,'India daily case count', transform = ax1.transAxes, fontsize=25);\n",
    "ax1.spines['right'].set_visible(False)\n",
    "ax1.spines['top'].set_visible(False)\n",
    "\n",
    "ax2 = fig.add_subplot(gs[1,0])\n",
    "ef = df.loc['Maharashtra'].rename_axis('date').reset_index()\n",
    "ef['date'] = ef['date'].astype('datetime64[ns]')\n",
    "\n",
    "ax2.bar(ef.date, ef.Maharashtra,color = '#007acc',alpha=0.5)\n",
    "ax2.xaxis.set_major_locator(mdates.WeekdayLocator())\n",
    "ax2.xaxis.set_major_formatter(mdates.DateFormatter('%b %d'))\n",
    "ax2.set_xticks(ax2.get_xticks()[::3])\n",
    "maxyval = ef.Maharashtra.max()\n",
    "ax2.set_ylim([0,maxyval])\n",
    "ax2.text(0.05, 0.9,'Maharashtra', transform = ax2.transAxes, fontsize=20);\n",
    "ax2.spines['right'].set_visible(False)\n",
    "ax2.spines['top'].set_visible(False)\n",
    "\n",
    "\n",
    "ax3 = fig.add_subplot(gs[1,1])\n",
    "ef = df.loc['Tamil Nadu'].rename_axis('date').reset_index()\n",
    "ef['date'] = ef['date'].astype('datetime64[ns]')\n",
    "ax3.bar(ef.date, ef['Tamil Nadu'],color = '#007acc',alpha=0.5,)\n",
    "ax3.xaxis.set_major_locator(mdates.WeekdayLocator())\n",
    "ax3.xaxis.set_major_formatter(mdates.DateFormatter('%b %d'))\n",
    "ax3.set_xticks(ax3.get_xticks()[::3])\n",
    "ax3.text(0.05, 0.9,'Tamil Nadu', transform = ax3.transAxes, fontsize=20);\n",
    "ax3.spines['right'].set_visible(False)\n",
    "ax3.spines['top'].set_visible(False)\n",
    "\n",
    "ax5 = fig.add_subplot(gs[1,3])\n",
    "ef = df.loc['Telangana'].rename_axis('date').reset_index()\n",
    "ef['date'] = ef['date'].astype('datetime64[ns]')\n",
    "ax5.bar(ef.date, ef['Telangana'],color = '#007acc',alpha=0.5,)\n",
    "ax5.xaxis.set_major_locator(mdates.WeekdayLocator())\n",
    "ax5.xaxis.set_major_formatter(mdates.DateFormatter('%b %d'))\n",
    "ax5.set_xticks(ax5.get_xticks()[::3])\n",
    "ax5.text(0.05, 0.9,'Telangana', transform = ax5.transAxes, fontsize=20);\n",
    "ax5.spines['right'].set_visible(False)\n",
    "ax5.spines['top'].set_visible(False)\n",
    "\n",
    "ax6 = fig.add_subplot(gs[1,4])\n",
    "ef = df.loc['Andhra Pradesh'].rename_axis('date').reset_index()\n",
    "ef['date'] = ef['date'].astype('datetime64[ns]')\n",
    "ax6.bar(ef.date, ef['Andhra Pradesh'],color = '#007acc',alpha=0.5,)\n",
    "ax6.xaxis.set_major_locator(mdates.WeekdayLocator())\n",
    "ax6.xaxis.set_major_formatter(mdates.DateFormatter('%b %d'))\n",
    "ax6.set_xticks(ax6.get_xticks()[::3])\n",
    "ax6.text(0.05, 1,'Andhra Pradesh', transform = ax6.transAxes, fontsize=20);\n",
    "ax6.spines['right'].set_visible(False)\n",
    "ax6.spines['top'].set_visible(False)\n",
    "\n",
    "ax4 = fig.add_subplot(gs[1,2])\n",
    "ef = df.loc['Delhi'].rename_axis('date').reset_index()\n",
    "ef['date'] = ef['date'].astype('datetime64[ns]')\n",
    "ax4.bar(ef.date, ef.Delhi,color = '#007acc',alpha=0.5)\n",
    "ax4.set_xticks([])\n",
    "ax4.xaxis.set_major_locator(mdates.WeekdayLocator())\n",
    "ax4.xaxis.set_major_formatter(mdates.DateFormatter('%b %d'))\n",
    "ax4.set_xticks(ax4.get_xticks()[::3])\n",
    "ax4.spines['right'].set_visible(False)\n",
    "ax4.spines['top'].set_visible(False)\n",
    "\n",
    "ax4.text(0.05, 1,'Delhi', transform = ax4.transAxes, fontsize=20)\n",
    "\n",
    "for i in range(n):\n",
    "    \n",
    "    ax.append(fig.add_subplot(gs[i+2,:]))\n",
    "    ef = df.iloc[i+3].rename_axis('date').reset_index()\n",
    "    ef['date'] = ef['date'].astype('datetime64[ns]')\n",
    "    ax[i].bar(ef.date,ef.iloc[:,-1],color = '#007acc',alpha=0.3)\n",
    "    ax[i].plot(ef.date,ef.iloc[:,-1],marker='o',color='#007acc')\n",
    "    ax[i].text(0.02,0.5,f'{ef.columns.values[-1]}',transform = ax[i].transAxes, fontsize = 20);\n",
    "    ax[i].xaxis.set_major_locator(mdates.WeekdayLocator())\n",
    "    ax[i].xaxis.set_major_formatter(mdates.DateFormatter('%b %d'))\n",
    "    ax[i].set_ylim([0,7000])\n",
    "    ax[i].spines['right'].set_visible(False)\n",
    "    ax[i].spines['top'].set_visible(False)\n",
    "plt.tight_layout()\n"
   ]
  },
  {
   "cell_type": "code",
   "execution_count": 20,
   "id": "dress-forge",
   "metadata": {
    "execution": {
     "iopub.execute_input": "2021-02-03T14:50:53.073481Z",
     "iopub.status.busy": "2021-02-03T14:50:53.072883Z",
     "iopub.status.idle": "2021-02-03T14:50:53.077146Z",
     "shell.execute_reply": "2021-02-03T14:50:53.077617Z"
    },
    "papermill": {
     "duration": 0.035656,
     "end_time": "2021-02-03T14:50:53.077744",
     "exception": false,
     "start_time": "2021-02-03T14:50:53.042088",
     "status": "completed"
    },
    "tags": []
   },
   "outputs": [
    {
     "name": "stdout",
     "output_type": "stream",
     "text": [
      "                                   states    Cases  Deaths   PCases  PDeaths  Cases (+)  Deaths (+)  Fatality Rate\n",
      "                              Maharashtra  2030274   51139  2030274    51139          0           0           2.52\n",
      "                                   Kerala   944710    3797   938354     3777       6356          20           0.40\n",
      "                                Karnataka   940170   12223   940170    12223          0           0           1.30\n",
      "                           Andhra Pradesh   888004    7156   888004     7156          0           0           0.81\n",
      "                               Tamil Nadu   839352   12367   839352    12367          0           0           1.47\n",
      "                                    Delhi   635331   10858   635331    10858          0           0           1.71\n",
      "                            Uttar Pradesh   600642    8668   600642     8668          0           0           1.44\n",
      "                              West Bengal   570380   10188   570380    10188          0           0           1.79\n",
      "                                   Odisha   335211    1959   335211     1959          0           0           0.58\n",
      "                                Rajasthan   317674    2768   317674     2768          0           0           0.87\n",
      "                             Chhattisgarh   306019    3711   306019     3711          0           0           1.21\n",
      "                                Telangana   294739    1602   294739     1602          0           0           0.54\n",
      "                                  Haryana   268067    3023   268067     3023          0           0           1.13\n",
      "                                  Gujarat   262123    4389   262123     4389          0           0           1.67\n",
      "                                    Bihar   260912    1507   260912     1507          0           0           0.58\n",
      "                           Madhya Pradesh   255431    3815   255431     3815          0           0           1.49\n",
      "                                    Assam   217161    1083   217161     1083          0           0           0.50\n",
      "                                   Punjab   173674    5628   173674     5628          0           0           3.24\n",
      "                        Jammu and Kashmir   124594    1938   124594     1938          0           0           1.56\n",
      "                                Jharkhand   118793    1075   118793     1075          0           0           0.90\n",
      "                              Uttarakhand    96227    1651    96227     1651          0           0           1.72\n",
      "                         Himachal Pradesh    57587     968    57587      968          0           0           1.68\n",
      "                                      Goa    53575     768    53575      768          0           0           1.43\n",
      "                               Puducherry    39123     651    39123      651          0           0           1.66\n",
      "                                  Tripura    33348     388    33348      388          0           0           1.16\n",
      "                                  Manipur    29077     371    29077      371          0           0           1.28\n",
      "                               Chandigarh    20979     335    20979      335          0           0           1.60\n",
      "                        Arunachal Pradesh    16829      56    16829       56          0           0           0.33\n",
      "                                Meghalaya    13768     147    13768      147          0           0           1.07\n",
      "                                 Nagaland    12101      88    12101       88          0           0           0.73\n",
      "                                   Ladakh     9726     130     9726      130          0           0           1.34\n",
      "                                   Sikkim     6096     135     6096      135          0           0           2.21\n",
      "              Andaman and Nicobar Islands     4994      62     4994       62          0           0           1.24\n",
      "                                  Mizoram     4373       9     4373        9          0           0           0.21\n",
      " Dadra and Nagar Haveli and Daman and Diu     3380       2     3380        2          0           0           0.06\n",
      "                              Lakshadweep      119       0      119        0          0           0           0.00\n"
     ]
    }
   ],
   "source": [
    "#hide_input\n",
    "print(df_table.to_string(index=False))"
   ]
  },
  {
   "cell_type": "code",
   "execution_count": null,
   "id": "quantitative-legend",
   "metadata": {
    "papermill": {
     "duration": 0.022539,
     "end_time": "2021-02-03T14:50:53.121549",
     "exception": false,
     "start_time": "2021-02-03T14:50:53.099010",
     "status": "completed"
    },
    "tags": []
   },
   "outputs": [],
   "source": []
  },
  {
   "cell_type": "code",
   "execution_count": null,
   "id": "distant-acoustic",
   "metadata": {
    "papermill": {
     "duration": 0.022046,
     "end_time": "2021-02-03T14:50:53.165882",
     "exception": false,
     "start_time": "2021-02-03T14:50:53.143836",
     "status": "completed"
    },
    "tags": []
   },
   "outputs": [],
   "source": []
  }
 ],
 "metadata": {
  "kernelspec": {
   "display_name": "Python 3",
   "language": "python",
   "name": "python3"
  },
  "language_info": {
   "codemirror_mode": {
    "name": "ipython",
    "version": 3
   },
   "file_extension": ".py",
   "mimetype": "text/x-python",
   "name": "python",
   "nbconvert_exporter": "python",
   "pygments_lexer": "ipython3",
   "version": "3.6.12"
  },
  "papermill": {
   "duration": 18.946006,
   "end_time": "2021-02-03T14:50:53.695101",
   "environment_variables": {},
   "exception": null,
   "input_path": "latest.ipynb",
   "output_path": "latest.ipynb",
   "parameters": {},
   "start_time": "2021-02-03T14:50:34.749095",
   "version": "2.1.2"
  }
 },
 "nbformat": 4,
 "nbformat_minor": 5
}