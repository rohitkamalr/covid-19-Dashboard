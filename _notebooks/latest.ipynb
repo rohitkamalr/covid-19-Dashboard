{
 "cells": [
  {
   "cell_type": "markdown",
   "metadata": {
    "papermill": {
     "duration": 0.019288,
     "end_time": "2020-09-23T03:52:09.144275",
     "exception": false,
     "start_time": "2020-09-23T03:52:09.124987",
     "status": "completed"
    },
    "tags": []
   },
   "source": [
    "# Latest COVID-19 India Matplotlib Overview"
   ]
  },
  {
   "cell_type": "code",
   "execution_count": 1,
   "metadata": {
    "execution": {
     "iopub.execute_input": "2020-09-23T03:52:09.183179Z",
     "iopub.status.busy": "2020-09-23T03:52:09.182507Z",
     "iopub.status.idle": "2020-09-23T03:52:09.737897Z",
     "shell.execute_reply": "2020-09-23T03:52:09.738438Z"
    },
    "papermill": {
     "duration": 0.577902,
     "end_time": "2020-09-23T03:52:09.738626",
     "exception": false,
     "start_time": "2020-09-23T03:52:09.160724",
     "status": "completed"
    },
    "tags": []
   },
   "outputs": [],
   "source": [
    "#hide\n",
    "import pandas as pd\n",
    "import numpy as np\n",
    "import requests\n",
    "import json\n",
    "import matplotlib.pyplot as plt\n",
    "import matplotlib.dates as mdates\n",
    "import matplotlib as mpl\n",
    "from IPython.core.display import display,HTML\n",
    "%matplotlib inline\n",
    "from datetime import date"
   ]
  },
  {
   "cell_type": "code",
   "execution_count": 2,
   "metadata": {
    "execution": {
     "iopub.execute_input": "2020-09-23T03:52:09.775397Z",
     "iopub.status.busy": "2020-09-23T03:52:09.774803Z",
     "iopub.status.idle": "2020-09-23T03:52:10.044518Z",
     "shell.execute_reply": "2020-09-23T03:52:10.045053Z"
    },
    "papermill": {
     "duration": 0.291296,
     "end_time": "2020-09-23T03:52:10.045230",
     "exception": false,
     "start_time": "2020-09-23T03:52:09.753934",
     "status": "completed"
    },
    "tags": []
   },
   "outputs": [],
   "source": [
    "#hide\n",
    "df  = pd.read_csv('https://api.covid19india.org/csv/latest/states.csv')\n",
    "df = df[['Date','State','Confirmed','Deceased']]\n",
    "df = df.rename(columns={'Confirmed':'Cases', \"Deceased\":'Deaths'})\n",
    "df_cases = df[[\"Date\",'State','Cases']]\n",
    "df_deaths = df[['Date','State','Deaths']]\n",
    "df_cases1 = df_cases.groupby('Date')\n",
    "df_deaths1= df_deaths.groupby('Date')"
   ]
  },
  {
   "cell_type": "code",
   "execution_count": 3,
   "metadata": {
    "execution": {
     "iopub.execute_input": "2020-09-23T03:52:10.084320Z",
     "iopub.status.busy": "2020-09-23T03:52:10.083661Z",
     "iopub.status.idle": "2020-09-23T03:52:10.102430Z",
     "shell.execute_reply": "2020-09-23T03:52:10.101887Z"
    },
    "papermill": {
     "duration": 0.041284,
     "end_time": "2020-09-23T03:52:10.102569",
     "exception": false,
     "start_time": "2020-09-23T03:52:10.061285",
     "status": "completed"
    },
    "tags": []
   },
   "outputs": [],
   "source": [
    "#hide\n",
    "df_snap = pd.read_csv('data/SnapshotCases-28-July.csv')\n",
    "arr_states = df_snap['states'].unique()\n",
    "arr_dates = df['Date'].unique()\n",
    "df_snap = df_snap.set_index('states')"
   ]
  },
  {
   "cell_type": "code",
   "execution_count": 4,
   "metadata": {
    "execution": {
     "iopub.execute_input": "2020-09-23T03:52:10.141136Z",
     "iopub.status.busy": "2020-09-23T03:52:10.140447Z",
     "iopub.status.idle": "2020-09-23T03:52:10.143998Z",
     "shell.execute_reply": "2020-09-23T03:52:10.143417Z"
    },
    "papermill": {
     "duration": 0.025664,
     "end_time": "2020-09-23T03:52:10.144134",
     "exception": false,
     "start_time": "2020-09-23T03:52:10.118470",
     "status": "completed"
    },
    "tags": []
   },
   "outputs": [
    {
     "data": {
      "text/plain": [
       "array(['Andaman and Nicobar Islands', 'Andhra Pradesh',\n",
       "       'Arunachal Pradesh', 'Assam', 'Bihar', 'Chandigarh',\n",
       "       'Dadra and Nagar Haveli and Daman and Diu', 'Delhi', 'Goa',\n",
       "       'Gujarat', 'Haryana', 'Himachal Pradesh', 'Jammu and Kashmir',\n",
       "       'Jharkhand', 'Karnataka', 'Kerala', 'Lakshadweep',\n",
       "       'Madhya Pradesh', 'Maharashtra', 'Manipur', 'Meghalaya', 'Mizoram',\n",
       "       'Nagaland', 'Odisha', 'Puducherry', 'Punjab', 'Rajasthan',\n",
       "       'Sikkim', 'Tamil Nadu', 'Telangana', 'Tripura', 'Uttar Pradesh',\n",
       "       'West Bengal', 'Chhattisgarh', 'Ladakh', 'Uttarakhand'],\n",
       "      dtype=object)"
      ]
     },
     "execution_count": 4,
     "metadata": {},
     "output_type": "execute_result"
    }
   ],
   "source": [
    "#hide\n",
    "arr_states[-9] = 'Puducherry'\n",
    "arr_states[-10] = 'Odisha'\n",
    "arr_states[6] = 'Dadra and Nagar Haveli and Daman and Diu'\n",
    "arr_states = np.append(arr_states,np.array(['Chhattisgarh','Ladakh','Uttarakhand']))\n",
    "arr_states"
   ]
  },
  {
   "cell_type": "code",
   "execution_count": 5,
   "metadata": {
    "execution": {
     "iopub.execute_input": "2020-09-23T03:52:10.185664Z",
     "iopub.status.busy": "2020-09-23T03:52:10.185008Z",
     "iopub.status.idle": "2020-09-23T03:52:10.193058Z",
     "shell.execute_reply": "2020-09-23T03:52:10.192453Z"
    },
    "papermill": {
     "duration": 0.032972,
     "end_time": "2020-09-23T03:52:10.193199",
     "exception": false,
     "start_time": "2020-09-23T03:52:10.160227",
     "status": "completed"
    },
    "tags": []
   },
   "outputs": [],
   "source": [
    "#hide\n",
    "dates = []\n",
    "for i in arr_dates:\n",
    "    if i>='2020-07-01':\n",
    "        dates.append(i)\n",
    "dict = {'states':dates}\n",
    "for i in arr_states:\n",
    "    dict[i] = [0]*len(dates)\n",
    "dft_cases = pd.DataFrame(dict)\n",
    "dft_deaths = pd.DataFrame(dict)\n"
   ]
  },
  {
   "cell_type": "code",
   "execution_count": 6,
   "metadata": {
    "execution": {
     "iopub.execute_input": "2020-09-23T03:52:10.230742Z",
     "iopub.status.busy": "2020-09-23T03:52:10.230083Z",
     "iopub.status.idle": "2020-09-23T03:52:11.620526Z",
     "shell.execute_reply": "2020-09-23T03:52:11.619992Z"
    },
    "papermill": {
     "duration": 1.41161,
     "end_time": "2020-09-23T03:52:11.620689",
     "exception": false,
     "start_time": "2020-09-23T03:52:10.209079",
     "status": "completed"
    },
    "tags": []
   },
   "outputs": [],
   "source": [
    "#hide\n",
    "for i in range(len(dates)):\n",
    "    df1_deaths = df_deaths1.get_group(dates[i])\n",
    "    for j in range(len(df1_deaths.index)):\n",
    "        if df1_deaths.iloc[j,1] in arr_states:\n",
    "            dft_deaths.loc[i,df1_deaths.iloc[j,1]] = df1_deaths.iloc[j,2]\n",
    "dft_deaths = dft_deaths.set_index('states')"
   ]
  },
  {
   "cell_type": "code",
   "execution_count": 7,
   "metadata": {
    "execution": {
     "iopub.execute_input": "2020-09-23T03:52:11.658938Z",
     "iopub.status.busy": "2020-09-23T03:52:11.658327Z",
     "iopub.status.idle": "2020-09-23T03:52:13.029768Z",
     "shell.execute_reply": "2020-09-23T03:52:13.030234Z"
    },
    "papermill": {
     "duration": 1.393998,
     "end_time": "2020-09-23T03:52:13.030397",
     "exception": false,
     "start_time": "2020-09-23T03:52:11.636399",
     "status": "completed"
    },
    "tags": []
   },
   "outputs": [],
   "source": [
    "#hide\n",
    "for i in range(len(dates)):\n",
    "    df1_cases = df_cases1.get_group(dates[i])\n",
    "    for j in range(len(df1_cases.index)):\n",
    "        if df1_cases.iloc[j,1] in arr_states:\n",
    "            dft_cases.loc[i,df1_cases.iloc[j,1]] = df1_cases.iloc[j,2]\n",
    "dft_cases = dft_cases.set_index('states')"
   ]
  },
  {
   "cell_type": "code",
   "execution_count": 8,
   "metadata": {
    "execution": {
     "iopub.execute_input": "2020-09-23T03:52:13.065797Z",
     "iopub.status.busy": "2020-09-23T03:52:13.065222Z",
     "iopub.status.idle": "2020-09-23T03:52:13.068799Z",
     "shell.execute_reply": "2020-09-23T03:52:13.069279Z"
    },
    "papermill": {
     "duration": 0.023817,
     "end_time": "2020-09-23T03:52:13.069419",
     "exception": false,
     "start_time": "2020-09-23T03:52:13.045602",
     "status": "completed"
    },
    "tags": []
   },
   "outputs": [],
   "source": [
    "#hide\n",
    "dft_cases = dft_cases.T\n",
    "dft_deaths = dft_deaths.T\n",
    "dt_today = dates[-1]\n",
    "dt_yday = dates[-2]"
   ]
  },
  {
   "cell_type": "code",
   "execution_count": 9,
   "metadata": {
    "execution": {
     "iopub.execute_input": "2020-09-23T03:52:13.107720Z",
     "iopub.status.busy": "2020-09-23T03:52:13.107107Z",
     "iopub.status.idle": "2020-09-23T03:52:13.112719Z",
     "shell.execute_reply": "2020-09-23T03:52:13.112069Z"
    },
    "papermill": {
     "duration": 0.02783,
     "end_time": "2020-09-23T03:52:13.112840",
     "exception": false,
     "start_time": "2020-09-23T03:52:13.085010",
     "status": "completed"
    },
    "tags": []
   },
   "outputs": [],
   "source": [
    "#hide\n",
    "dft_cases = dft_cases.reset_index()\n",
    "dft_deaths = dft_deaths.reset_index()\n",
    "dft_cases = dft_cases.rename(columns = {'index':'state'})\n",
    "dft_deaths = dft_deaths.rename(columns = {'index':'state'})"
   ]
  },
  {
   "cell_type": "code",
   "execution_count": 10,
   "metadata": {
    "execution": {
     "iopub.execute_input": "2020-09-23T03:52:13.153365Z",
     "iopub.status.busy": "2020-09-23T03:52:13.152785Z",
     "iopub.status.idle": "2020-09-23T03:52:13.155348Z",
     "shell.execute_reply": "2020-09-23T03:52:13.154860Z"
    },
    "papermill": {
     "duration": 0.027337,
     "end_time": "2020-09-23T03:52:13.155463",
     "exception": false,
     "start_time": "2020-09-23T03:52:13.128126",
     "status": "completed"
    },
    "tags": []
   },
   "outputs": [],
   "source": [
    "#hide\n",
    "dfc_cases = dft_cases.groupby('state')[dt_today].sum()\n",
    "dfc_deaths = dft_deaths.groupby('state')[dt_today].sum()\n",
    "dfp_cases = dft_cases.groupby('state')[dt_yday].sum()\n",
    "dfp_deaths = dft_deaths.groupby('state')[dt_yday].sum()"
   ]
  },
  {
   "cell_type": "code",
   "execution_count": 11,
   "metadata": {
    "execution": {
     "iopub.execute_input": "2020-09-23T03:52:13.191190Z",
     "iopub.status.busy": "2020-09-23T03:52:13.190617Z",
     "iopub.status.idle": "2020-09-23T03:52:13.205336Z",
     "shell.execute_reply": "2020-09-23T03:52:13.204844Z"
    },
    "papermill": {
     "duration": 0.035247,
     "end_time": "2020-09-23T03:52:13.205449",
     "exception": false,
     "start_time": "2020-09-23T03:52:13.170202",
     "status": "completed"
    },
    "tags": []
   },
   "outputs": [
    {
     "data": {
      "text/html": [
       "<div>\n",
       "<style scoped>\n",
       "    .dataframe tbody tr th:only-of-type {\n",
       "        vertical-align: middle;\n",
       "    }\n",
       "\n",
       "    .dataframe tbody tr th {\n",
       "        vertical-align: top;\n",
       "    }\n",
       "\n",
       "    .dataframe thead th {\n",
       "        text-align: right;\n",
       "    }\n",
       "</style>\n",
       "<table border=\"1\" class=\"dataframe\">\n",
       "  <thead>\n",
       "    <tr style=\"text-align: right;\">\n",
       "      <th></th>\n",
       "      <th>states</th>\n",
       "      <th>Cases</th>\n",
       "      <th>Deaths</th>\n",
       "      <th>PCases</th>\n",
       "      <th>PDeaths</th>\n",
       "    </tr>\n",
       "  </thead>\n",
       "  <tbody>\n",
       "    <tr>\n",
       "      <th>0</th>\n",
       "      <td>Maharashtra</td>\n",
       "      <td>20228</td>\n",
       "      <td>779</td>\n",
       "      <td>20228</td>\n",
       "      <td>779</td>\n",
       "    </tr>\n",
       "    <tr>\n",
       "      <th>1</th>\n",
       "      <td>Gujarat</td>\n",
       "      <td>7797</td>\n",
       "      <td>472</td>\n",
       "      <td>7797</td>\n",
       "      <td>472</td>\n",
       "    </tr>\n",
       "    <tr>\n",
       "      <th>2</th>\n",
       "      <td>Delhi</td>\n",
       "      <td>6542</td>\n",
       "      <td>68</td>\n",
       "      <td>6542</td>\n",
       "      <td>68</td>\n",
       "    </tr>\n",
       "    <tr>\n",
       "      <th>3</th>\n",
       "      <td>Tamil Nadu</td>\n",
       "      <td>6535</td>\n",
       "      <td>44</td>\n",
       "      <td>6535</td>\n",
       "      <td>44</td>\n",
       "    </tr>\n",
       "    <tr>\n",
       "      <th>4</th>\n",
       "      <td>Rajasthan</td>\n",
       "      <td>3708</td>\n",
       "      <td>106</td>\n",
       "      <td>3708</td>\n",
       "      <td>106</td>\n",
       "    </tr>\n",
       "  </tbody>\n",
       "</table>\n",
       "</div>"
      ],
      "text/plain": [
       "        states  Cases  Deaths  PCases  PDeaths\n",
       "0  Maharashtra  20228     779   20228      779\n",
       "1      Gujarat   7797     472    7797      472\n",
       "2        Delhi   6542      68    6542       68\n",
       "3   Tamil Nadu   6535      44    6535       44\n",
       "4    Rajasthan   3708     106    3708      106"
      ]
     },
     "execution_count": 11,
     "metadata": {},
     "output_type": "execute_result"
    }
   ],
   "source": [
    "#hide\n",
    "df_table = pd.DataFrame({'states': dfc_cases.index, 'Cases': dfc_cases.values, 'Deaths': dfc_deaths.values, 'PCases': dfp_cases.values, 'PDeaths': dfp_deaths.values}).set_index('states')\n",
    "df_table = df_table.sort_values(by = ['Cases','Deaths'], ascending = [False, False])\n",
    "df_table = df_table.reset_index()\n",
    "df_table.head()"
   ]
  },
  {
   "cell_type": "code",
   "execution_count": 12,
   "metadata": {
    "execution": {
     "iopub.execute_input": "2020-09-23T03:52:13.241724Z",
     "iopub.status.busy": "2020-09-23T03:52:13.241079Z",
     "iopub.status.idle": "2020-09-23T03:52:13.249324Z",
     "shell.execute_reply": "2020-09-23T03:52:13.249972Z"
    },
    "papermill": {
     "duration": 0.029729,
     "end_time": "2020-09-23T03:52:13.250121",
     "exception": false,
     "start_time": "2020-09-23T03:52:13.220392",
     "status": "completed"
    },
    "tags": []
   },
   "outputs": [],
   "source": [
    "#hide\n",
    "for c in 'Cases, Deaths'.split(', '):\n",
    "    df_table[f'{c} (+)'] = (df_table[c] - df_table[f'P{c}']).clip(0)\n",
    "df_table['Fatality Rate'] = (100* df_table['Deaths']/ df_table['Cases']).round(2)"
   ]
  },
  {
   "cell_type": "code",
   "execution_count": 13,
   "metadata": {
    "execution": {
     "iopub.execute_input": "2020-09-23T03:52:13.291363Z",
     "iopub.status.busy": "2020-09-23T03:52:13.290780Z",
     "iopub.status.idle": "2020-09-23T03:52:13.293936Z",
     "shell.execute_reply": "2020-09-23T03:52:13.293371Z"
    },
    "papermill": {
     "duration": 0.028443,
     "end_time": "2020-09-23T03:52:13.294052",
     "exception": false,
     "start_time": "2020-09-23T03:52:13.265609",
     "status": "completed"
    },
    "tags": []
   },
   "outputs": [
    {
     "data": {
      "text/html": [
       "<div>\n",
       "<style scoped>\n",
       "    .dataframe tbody tr th:only-of-type {\n",
       "        vertical-align: middle;\n",
       "    }\n",
       "\n",
       "    .dataframe tbody tr th {\n",
       "        vertical-align: top;\n",
       "    }\n",
       "\n",
       "    .dataframe thead th {\n",
       "        text-align: right;\n",
       "    }\n",
       "</style>\n",
       "<table border=\"1\" class=\"dataframe\">\n",
       "  <thead>\n",
       "    <tr style=\"text-align: right;\">\n",
       "      <th></th>\n",
       "      <th>states</th>\n",
       "      <th>Cases</th>\n",
       "      <th>Deaths</th>\n",
       "      <th>PCases</th>\n",
       "      <th>PDeaths</th>\n",
       "      <th>Cases (+)</th>\n",
       "      <th>Deaths (+)</th>\n",
       "      <th>Fatality Rate</th>\n",
       "    </tr>\n",
       "  </thead>\n",
       "  <tbody>\n",
       "    <tr>\n",
       "      <th>0</th>\n",
       "      <td>Maharashtra</td>\n",
       "      <td>20228</td>\n",
       "      <td>779</td>\n",
       "      <td>20228</td>\n",
       "      <td>779</td>\n",
       "      <td>0</td>\n",
       "      <td>0</td>\n",
       "      <td>3.85</td>\n",
       "    </tr>\n",
       "    <tr>\n",
       "      <th>1</th>\n",
       "      <td>Gujarat</td>\n",
       "      <td>7797</td>\n",
       "      <td>472</td>\n",
       "      <td>7797</td>\n",
       "      <td>472</td>\n",
       "      <td>0</td>\n",
       "      <td>0</td>\n",
       "      <td>6.05</td>\n",
       "    </tr>\n",
       "    <tr>\n",
       "      <th>2</th>\n",
       "      <td>Delhi</td>\n",
       "      <td>6542</td>\n",
       "      <td>68</td>\n",
       "      <td>6542</td>\n",
       "      <td>68</td>\n",
       "      <td>0</td>\n",
       "      <td>0</td>\n",
       "      <td>1.04</td>\n",
       "    </tr>\n",
       "    <tr>\n",
       "      <th>3</th>\n",
       "      <td>Tamil Nadu</td>\n",
       "      <td>6535</td>\n",
       "      <td>44</td>\n",
       "      <td>6535</td>\n",
       "      <td>44</td>\n",
       "      <td>0</td>\n",
       "      <td>0</td>\n",
       "      <td>0.67</td>\n",
       "    </tr>\n",
       "    <tr>\n",
       "      <th>4</th>\n",
       "      <td>Rajasthan</td>\n",
       "      <td>3708</td>\n",
       "      <td>106</td>\n",
       "      <td>3708</td>\n",
       "      <td>106</td>\n",
       "      <td>0</td>\n",
       "      <td>0</td>\n",
       "      <td>2.86</td>\n",
       "    </tr>\n",
       "  </tbody>\n",
       "</table>\n",
       "</div>"
      ],
      "text/plain": [
       "        states  Cases  Deaths  PCases  PDeaths  Cases (+)  Deaths (+)  \\\n",
       "0  Maharashtra  20228     779   20228      779          0           0   \n",
       "1      Gujarat   7797     472    7797      472          0           0   \n",
       "2        Delhi   6542      68    6542       68          0           0   \n",
       "3   Tamil Nadu   6535      44    6535       44          0           0   \n",
       "4    Rajasthan   3708     106    3708      106          0           0   \n",
       "\n",
       "   Fatality Rate  \n",
       "0           3.85  \n",
       "1           6.05  \n",
       "2           1.04  \n",
       "3           0.67  \n",
       "4           2.86  "
      ]
     },
     "execution_count": 13,
     "metadata": {},
     "output_type": "execute_result"
    }
   ],
   "source": [
    "#hide\n",
    "df_table.head()"
   ]
  },
  {
   "cell_type": "code",
   "execution_count": 14,
   "metadata": {
    "execution": {
     "iopub.execute_input": "2020-09-23T03:52:13.330484Z",
     "iopub.status.busy": "2020-09-23T03:52:13.329906Z",
     "iopub.status.idle": "2020-09-23T03:52:13.345842Z",
     "shell.execute_reply": "2020-09-23T03:52:13.345346Z"
    },
    "papermill": {
     "duration": 0.036161,
     "end_time": "2020-09-23T03:52:13.345972",
     "exception": false,
     "start_time": "2020-09-23T03:52:13.309811",
     "status": "completed"
    },
    "tags": []
   },
   "outputs": [
    {
     "data": {
      "text/plain": [
       "{'updated': '2020-09-22',\n",
       " 'since': '2020-09-21',\n",
       " 'Cases': 62865,\n",
       " 'PCases': 62865,\n",
       " 'Deaths': 2102,\n",
       " 'PDeaths': 2102,\n",
       " 'Cases (+)': 0,\n",
       " 'Deaths (+)': 0}"
      ]
     },
     "execution_count": 14,
     "metadata": {},
     "output_type": "execute_result"
    }
   ],
   "source": [
    "#hide\n",
    "summary = {'updated':dates[-1], 'since':dates[-2]}\n",
    "list_names = ['Cases', 'PCases', 'Deaths', 'PDeaths', 'Cases (+)', 'Deaths (+)']\n",
    "for name in list_names:\n",
    "    summary[name] = df_table.sum()[name]\n",
    "summary"
   ]
  },
  {
   "cell_type": "code",
   "execution_count": 15,
   "metadata": {
    "execution": {
     "iopub.execute_input": "2020-09-23T03:52:13.383818Z",
     "iopub.status.busy": "2020-09-23T03:52:13.383229Z",
     "iopub.status.idle": "2020-09-23T03:52:13.385136Z",
     "shell.execute_reply": "2020-09-23T03:52:13.385586Z"
    },
    "papermill": {
     "duration": 0.022804,
     "end_time": "2020-09-23T03:52:13.385725",
     "exception": false,
     "start_time": "2020-09-23T03:52:13.362921",
     "status": "completed"
    },
    "tags": []
   },
   "outputs": [],
   "source": [
    "#hide\n",
    "overview = '''\n",
    "<!-- #######  HTML!! #########-->\n",
    "<h1 style=\"color: #5e9ca0; text-align: center;\">India</h1>\n",
    "<p style=\"text-align: center;\">Last update: <strong>{update}</strong></p>\n",
    "<p style=\"text-align: center;\">Confirmed cases:</p>\n",
    "<p style=\"text-align: center;font-size:24px;\">{cases} (<span style=\"color: #ff0000;\">+{new}</span>)</p>\n",
    "<p style=\"text-align: center;\">Confirmed deaths:</p>\n",
    "<p style=\"text-align: center;font-size:24px;\">{deaths} (<span style=\"color: #ff0000;\">+{dnew}</span>)</p>\n",
    "'''"
   ]
  },
  {
   "cell_type": "code",
   "execution_count": 16,
   "metadata": {
    "execution": {
     "iopub.execute_input": "2020-09-23T03:52:13.423625Z",
     "iopub.status.busy": "2020-09-23T03:52:13.422974Z",
     "iopub.status.idle": "2020-09-23T03:52:13.426196Z",
     "shell.execute_reply": "2020-09-23T03:52:13.425702Z"
    },
    "papermill": {
     "duration": 0.024896,
     "end_time": "2020-09-23T03:52:13.426309",
     "exception": false,
     "start_time": "2020-09-23T03:52:13.401413",
     "status": "completed"
    },
    "tags": []
   },
   "outputs": [
    {
     "data": {
      "text/html": [
       "\n",
       "<!-- #######  HTML!! #########-->\n",
       "<h1 style=\"color: #5e9ca0; text-align: center;\">India</h1>\n",
       "<p style=\"text-align: center;\">Last update: <strong>2020-09-22</strong></p>\n",
       "<p style=\"text-align: center;\">Confirmed cases:</p>\n",
       "<p style=\"text-align: center;font-size:24px;\">62865 (<span style=\"color: #ff0000;\">+0</span>)</p>\n",
       "<p style=\"text-align: center;\">Confirmed deaths:</p>\n",
       "<p style=\"text-align: center;font-size:24px;\">2102 (<span style=\"color: #ff0000;\">+0</span>)</p>\n"
      ],
      "text/plain": [
       "<IPython.core.display.HTML object>"
      ]
     },
     "metadata": {},
     "output_type": "display_data"
    }
   ],
   "source": [
    "#hide_input\n",
    "update = summary['updated']\n",
    "cases = summary['Cases']\n",
    "new = summary['Cases (+)']\n",
    "deaths = summary['Deaths']\n",
    "dnew = summary['Deaths (+)']\n",
    "\n",
    "html = HTML(overview.format(update=update, cases=cases,new=new,deaths=deaths,dnew=dnew))\n",
    "\n",
    "display(html)"
   ]
  },
  {
   "cell_type": "code",
   "execution_count": 17,
   "metadata": {
    "execution": {
     "iopub.execute_input": "2020-09-23T03:52:13.467828Z",
     "iopub.status.busy": "2020-09-23T03:52:13.467177Z",
     "iopub.status.idle": "2020-09-23T03:52:13.472678Z",
     "shell.execute_reply": "2020-09-23T03:52:13.472157Z"
    },
    "papermill": {
     "duration": 0.030073,
     "end_time": "2020-09-23T03:52:13.472819",
     "exception": false,
     "start_time": "2020-09-23T03:52:13.442746",
     "status": "completed"
    },
    "tags": []
   },
   "outputs": [],
   "source": [
    "#hide\n",
    "dt_cols = list(dft_cases.columns[1:])\n",
    "dft_ct_new_cases = dft_cases.groupby('state')[dt_cols].sum().diff(axis=1).fillna(0).astype(int)\n",
    "dft_ct_new_cases.sort_values(by = dates[-1], ascending = False,inplace = True)"
   ]
  },
  {
   "cell_type": "code",
   "execution_count": 18,
   "metadata": {
    "execution": {
     "iopub.execute_input": "2020-09-23T03:52:13.530148Z",
     "iopub.status.busy": "2020-09-23T03:52:13.529476Z",
     "iopub.status.idle": "2020-09-23T03:52:13.532227Z",
     "shell.execute_reply": "2020-09-23T03:52:13.532791Z"
    },
    "papermill": {
     "duration": 0.041914,
     "end_time": "2020-09-23T03:52:13.532957",
     "exception": false,
     "start_time": "2020-09-23T03:52:13.491043",
     "status": "completed"
    },
    "tags": []
   },
   "outputs": [
    {
     "data": {
      "text/html": [
       "<div>\n",
       "<style scoped>\n",
       "    .dataframe tbody tr th:only-of-type {\n",
       "        vertical-align: middle;\n",
       "    }\n",
       "\n",
       "    .dataframe tbody tr th {\n",
       "        vertical-align: top;\n",
       "    }\n",
       "\n",
       "    .dataframe thead th {\n",
       "        text-align: right;\n",
       "    }\n",
       "</style>\n",
       "<table border=\"1\" class=\"dataframe\">\n",
       "  <thead>\n",
       "    <tr style=\"text-align: right;\">\n",
       "      <th>states</th>\n",
       "      <th>2020-07-01</th>\n",
       "      <th>2020-07-02</th>\n",
       "      <th>2020-07-03</th>\n",
       "      <th>2020-07-04</th>\n",
       "      <th>2020-07-05</th>\n",
       "      <th>2020-07-06</th>\n",
       "      <th>2020-07-07</th>\n",
       "      <th>2020-07-08</th>\n",
       "      <th>2020-07-09</th>\n",
       "      <th>2020-07-10</th>\n",
       "      <th>...</th>\n",
       "      <th>2020-09-13</th>\n",
       "      <th>2020-09-14</th>\n",
       "      <th>2020-09-15</th>\n",
       "      <th>2020-09-16</th>\n",
       "      <th>2020-09-17</th>\n",
       "      <th>2020-09-18</th>\n",
       "      <th>2020-09-19</th>\n",
       "      <th>2020-09-20</th>\n",
       "      <th>2020-09-21</th>\n",
       "      <th>2020-09-22</th>\n",
       "    </tr>\n",
       "    <tr>\n",
       "      <th>state</th>\n",
       "      <th></th>\n",
       "      <th></th>\n",
       "      <th></th>\n",
       "      <th></th>\n",
       "      <th></th>\n",
       "      <th></th>\n",
       "      <th></th>\n",
       "      <th></th>\n",
       "      <th></th>\n",
       "      <th></th>\n",
       "      <th></th>\n",
       "      <th></th>\n",
       "      <th></th>\n",
       "      <th></th>\n",
       "      <th></th>\n",
       "      <th></th>\n",
       "      <th></th>\n",
       "      <th></th>\n",
       "      <th></th>\n",
       "      <th></th>\n",
       "      <th></th>\n",
       "    </tr>\n",
       "  </thead>\n",
       "  <tbody>\n",
       "    <tr>\n",
       "      <th>Andaman and Nicobar Islands</th>\n",
       "      <td>0</td>\n",
       "      <td>0</td>\n",
       "      <td>0</td>\n",
       "      <td>0</td>\n",
       "      <td>0</td>\n",
       "      <td>0</td>\n",
       "      <td>0</td>\n",
       "      <td>0</td>\n",
       "      <td>0</td>\n",
       "      <td>0</td>\n",
       "      <td>...</td>\n",
       "      <td>0</td>\n",
       "      <td>0</td>\n",
       "      <td>0</td>\n",
       "      <td>0</td>\n",
       "      <td>0</td>\n",
       "      <td>0</td>\n",
       "      <td>0</td>\n",
       "      <td>0</td>\n",
       "      <td>0</td>\n",
       "      <td>0</td>\n",
       "    </tr>\n",
       "    <tr>\n",
       "      <th>Andhra Pradesh</th>\n",
       "      <td>0</td>\n",
       "      <td>0</td>\n",
       "      <td>0</td>\n",
       "      <td>0</td>\n",
       "      <td>0</td>\n",
       "      <td>0</td>\n",
       "      <td>0</td>\n",
       "      <td>0</td>\n",
       "      <td>0</td>\n",
       "      <td>0</td>\n",
       "      <td>...</td>\n",
       "      <td>0</td>\n",
       "      <td>0</td>\n",
       "      <td>0</td>\n",
       "      <td>0</td>\n",
       "      <td>0</td>\n",
       "      <td>0</td>\n",
       "      <td>0</td>\n",
       "      <td>0</td>\n",
       "      <td>0</td>\n",
       "      <td>0</td>\n",
       "    </tr>\n",
       "    <tr>\n",
       "      <th>Maharashtra</th>\n",
       "      <td>0</td>\n",
       "      <td>0</td>\n",
       "      <td>0</td>\n",
       "      <td>0</td>\n",
       "      <td>0</td>\n",
       "      <td>0</td>\n",
       "      <td>0</td>\n",
       "      <td>0</td>\n",
       "      <td>0</td>\n",
       "      <td>0</td>\n",
       "      <td>...</td>\n",
       "      <td>0</td>\n",
       "      <td>0</td>\n",
       "      <td>0</td>\n",
       "      <td>0</td>\n",
       "      <td>0</td>\n",
       "      <td>0</td>\n",
       "      <td>0</td>\n",
       "      <td>0</td>\n",
       "      <td>0</td>\n",
       "      <td>0</td>\n",
       "    </tr>\n",
       "    <tr>\n",
       "      <th>Manipur</th>\n",
       "      <td>0</td>\n",
       "      <td>0</td>\n",
       "      <td>0</td>\n",
       "      <td>0</td>\n",
       "      <td>0</td>\n",
       "      <td>0</td>\n",
       "      <td>0</td>\n",
       "      <td>0</td>\n",
       "      <td>0</td>\n",
       "      <td>0</td>\n",
       "      <td>...</td>\n",
       "      <td>0</td>\n",
       "      <td>0</td>\n",
       "      <td>0</td>\n",
       "      <td>0</td>\n",
       "      <td>0</td>\n",
       "      <td>0</td>\n",
       "      <td>0</td>\n",
       "      <td>0</td>\n",
       "      <td>0</td>\n",
       "      <td>0</td>\n",
       "    </tr>\n",
       "    <tr>\n",
       "      <th>Meghalaya</th>\n",
       "      <td>0</td>\n",
       "      <td>0</td>\n",
       "      <td>0</td>\n",
       "      <td>0</td>\n",
       "      <td>0</td>\n",
       "      <td>0</td>\n",
       "      <td>0</td>\n",
       "      <td>0</td>\n",
       "      <td>0</td>\n",
       "      <td>0</td>\n",
       "      <td>...</td>\n",
       "      <td>0</td>\n",
       "      <td>0</td>\n",
       "      <td>0</td>\n",
       "      <td>0</td>\n",
       "      <td>0</td>\n",
       "      <td>0</td>\n",
       "      <td>0</td>\n",
       "      <td>0</td>\n",
       "      <td>0</td>\n",
       "      <td>0</td>\n",
       "    </tr>\n",
       "  </tbody>\n",
       "</table>\n",
       "<p>5 rows × 84 columns</p>\n",
       "</div>"
      ],
      "text/plain": [
       "states                       2020-07-01  2020-07-02  2020-07-03  2020-07-04  \\\n",
       "state                                                                         \n",
       "Andaman and Nicobar Islands           0           0           0           0   \n",
       "Andhra Pradesh                        0           0           0           0   \n",
       "Maharashtra                           0           0           0           0   \n",
       "Manipur                               0           0           0           0   \n",
       "Meghalaya                             0           0           0           0   \n",
       "\n",
       "states                       2020-07-05  2020-07-06  2020-07-07  2020-07-08  \\\n",
       "state                                                                         \n",
       "Andaman and Nicobar Islands           0           0           0           0   \n",
       "Andhra Pradesh                        0           0           0           0   \n",
       "Maharashtra                           0           0           0           0   \n",
       "Manipur                               0           0           0           0   \n",
       "Meghalaya                             0           0           0           0   \n",
       "\n",
       "states                       2020-07-09  2020-07-10  ...  2020-09-13  \\\n",
       "state                                                ...               \n",
       "Andaman and Nicobar Islands           0           0  ...           0   \n",
       "Andhra Pradesh                        0           0  ...           0   \n",
       "Maharashtra                           0           0  ...           0   \n",
       "Manipur                               0           0  ...           0   \n",
       "Meghalaya                             0           0  ...           0   \n",
       "\n",
       "states                       2020-09-14  2020-09-15  2020-09-16  2020-09-17  \\\n",
       "state                                                                         \n",
       "Andaman and Nicobar Islands           0           0           0           0   \n",
       "Andhra Pradesh                        0           0           0           0   \n",
       "Maharashtra                           0           0           0           0   \n",
       "Manipur                               0           0           0           0   \n",
       "Meghalaya                             0           0           0           0   \n",
       "\n",
       "states                       2020-09-18  2020-09-19  2020-09-20  2020-09-21  \\\n",
       "state                                                                         \n",
       "Andaman and Nicobar Islands           0           0           0           0   \n",
       "Andhra Pradesh                        0           0           0           0   \n",
       "Maharashtra                           0           0           0           0   \n",
       "Manipur                               0           0           0           0   \n",
       "Meghalaya                             0           0           0           0   \n",
       "\n",
       "states                       2020-09-22  \n",
       "state                                    \n",
       "Andaman and Nicobar Islands           0  \n",
       "Andhra Pradesh                        0  \n",
       "Maharashtra                           0  \n",
       "Manipur                               0  \n",
       "Meghalaya                             0  \n",
       "\n",
       "[5 rows x 84 columns]"
      ]
     },
     "execution_count": 18,
     "metadata": {},
     "output_type": "execute_result"
    }
   ],
   "source": [
    "#hide\n",
    "dft_ct_new_cases.head()"
   ]
  },
  {
   "cell_type": "code",
   "execution_count": 19,
   "metadata": {
    "execution": {
     "iopub.execute_input": "2020-09-23T03:52:13.595660Z",
     "iopub.status.busy": "2020-09-23T03:52:13.585309Z",
     "iopub.status.idle": "2020-09-23T03:52:17.303623Z",
     "shell.execute_reply": "2020-09-23T03:52:17.304157Z"
    },
    "papermill": {
     "duration": 3.751895,
     "end_time": "2020-09-23T03:52:17.304329",
     "exception": false,
     "start_time": "2020-09-23T03:52:13.552434",
     "status": "completed"
    },
    "tags": []
   },
   "outputs": [
    {
     "name": "stderr",
     "output_type": "stream",
     "text": [
      "/opt/hostedtoolcache/Python/3.6.12/x64/lib/python3.6/site-packages/ipykernel_launcher.py:29: UserWarning: Attempting to set identical bottom == top == 0 results in singular transformations; automatically expanding.\n"
     ]
    },
    {
     "data": {
      "image/png": "[encoded data removed]",
      "text/plain": [
       "<Figure size 1296x2016 with 11 Axes>"
      ]
     },
     "metadata": {
      "needs_background": "light"
     },
     "output_type": "display_data"
    }
   ],
   "source": [
    "#hide_input\n",
    "df = dft_ct_new_cases.copy()\n",
    "df.loc['Total'] = df.sum()\n",
    "n = 5\n",
    "ax = []\n",
    "fig = plt.figure(figsize = (18,28))\n",
    "gs = fig.add_gridspec(n+2, 5)\n",
    "# gs = fig.add_gridspec(2, 3)\n",
    "ax1 = fig.add_subplot(gs[0, :])\n",
    "ef = df.loc['Total'].rename_axis('date').reset_index()\n",
    "ef['date'] = ef['date'].astype('datetime64[ns]')\n",
    "ax1.bar(ef.date,ef.Total,alpha=0.3,color='#007acc')\n",
    "ax1.plot(ef.date,ef.Total , marker=\"o\", color='#007acc')\n",
    "ax1.xaxis.set_major_locator(mdates.WeekdayLocator())\n",
    "ax1.xaxis.set_major_formatter(mdates.DateFormatter('%b %d'))\n",
    "ax1.text(0.02, 0.5,'India daily case count', transform = ax1.transAxes, fontsize=25);\n",
    "ax1.spines['right'].set_visible(False)\n",
    "ax1.spines['top'].set_visible(False)\n",
    "\n",
    "ax2 = fig.add_subplot(gs[1,0])\n",
    "ef = df.loc['Maharashtra'].rename_axis('date').reset_index()\n",
    "ef['date'] = ef['date'].astype('datetime64[ns]')\n",
    "\n",
    "ax2.bar(ef.date, ef.Maharashtra,color = '#007acc',alpha=0.5)\n",
    "ax2.xaxis.set_major_locator(mdates.WeekdayLocator())\n",
    "ax2.xaxis.set_major_formatter(mdates.DateFormatter('%b %d'))\n",
    "ax2.set_xticks(ax2.get_xticks()[::3])\n",
    "maxyval = ef.Maharashtra.max()\n",
    "ax2.set_ylim([0,maxyval])\n",
    "ax2.text(0.05, 0.9,'Maharashtra', transform = ax2.transAxes, fontsize=20);\n",
    "ax2.spines['right'].set_visible(False)\n",
    "ax2.spines['top'].set_visible(False)\n",
    "\n",
    "\n",
    "ax3 = fig.add_subplot(gs[1,1])\n",
    "ef = df.loc['Tamil Nadu'].rename_axis('date').reset_index()\n",
    "ef['date'] = ef['date'].astype('datetime64[ns]')\n",
    "ax3.bar(ef.date, ef['Tamil Nadu'],color = '#007acc',alpha=0.5,)\n",
    "ax3.xaxis.set_major_locator(mdates.WeekdayLocator())\n",
    "ax3.xaxis.set_major_formatter(mdates.DateFormatter('%b %d'))\n",
    "ax3.set_xticks(ax3.get_xticks()[::3])\n",
    "ax3.text(0.05, 0.9,'Tamil Nadu', transform = ax3.transAxes, fontsize=20);\n",
    "ax3.spines['right'].set_visible(False)\n",
    "ax3.spines['top'].set_visible(False)\n",
    "\n",
    "ax5 = fig.add_subplot(gs[1,3])\n",
    "ef = df.loc['Telangana'].rename_axis('date').reset_index()\n",
    "ef['date'] = ef['date'].astype('datetime64[ns]')\n",
    "ax5.bar(ef.date, ef['Telangana'],color = '#007acc',alpha=0.5,)\n",
    "ax5.xaxis.set_major_locator(mdates.WeekdayLocator())\n",
    "ax5.xaxis.set_major_formatter(mdates.DateFormatter('%b %d'))\n",
    "ax5.set_xticks(ax5.get_xticks()[::3])\n",
    "ax5.text(0.05, 0.9,'Telangana', transform = ax5.transAxes, fontsize=20);\n",
    "ax5.spines['right'].set_visible(False)\n",
    "ax5.spines['top'].set_visible(False)\n",
    "\n",
    "ax6 = fig.add_subplot(gs[1,4])\n",
    "ef = df.loc['Andhra Pradesh'].rename_axis('date').reset_index()\n",
    "ef['date'] = ef['date'].astype('datetime64[ns]')\n",
    "ax6.bar(ef.date, ef['Andhra Pradesh'],color = '#007acc',alpha=0.5,)\n",
    "ax6.xaxis.set_major_locator(mdates.WeekdayLocator())\n",
    "ax6.xaxis.set_major_formatter(mdates.DateFormatter('%b %d'))\n",
    "ax6.set_xticks(ax6.get_xticks()[::3])\n",
    "ax6.text(0.05, 1,'Andhra Pradesh', transform = ax6.transAxes, fontsize=20);\n",
    "ax6.spines['right'].set_visible(False)\n",
    "ax6.spines['top'].set_visible(False)\n",
    "\n",
    "ax4 = fig.add_subplot(gs[1,2])\n",
    "ef = df.loc['Delhi'].rename_axis('date').reset_index()\n",
    "ef['date'] = ef['date'].astype('datetime64[ns]')\n",
    "ax4.bar(ef.date, ef.Delhi,color = '#007acc',alpha=0.5)\n",
    "ax4.set_xticks([])\n",
    "ax4.xaxis.set_major_locator(mdates.WeekdayLocator())\n",
    "ax4.xaxis.set_major_formatter(mdates.DateFormatter('%b %d'))\n",
    "ax4.set_xticks(ax4.get_xticks()[::3])\n",
    "ax4.spines['right'].set_visible(False)\n",
    "ax4.spines['top'].set_visible(False)\n",
    "\n",
    "ax4.text(0.05, 1,'Delhi', transform = ax4.transAxes, fontsize=20)\n",
    "\n",
    "for i in range(n):\n",
    "    \n",
    "    ax.append(fig.add_subplot(gs[i+2,:]))\n",
    "    ef = df.iloc[i+3].rename_axis('date').reset_index()\n",
    "    ef['date'] = ef['date'].astype('datetime64[ns]')\n",
    "    ax[i].bar(ef.date,ef.iloc[:,-1],color = '#007acc',alpha=0.3)\n",
    "    ax[i].plot(ef.date,ef.iloc[:,-1],marker='o',color='#007acc')\n",
    "    ax[i].text(0.02,0.5,f'{ef.columns.values[-1]}',transform = ax[i].transAxes, fontsize = 20);\n",
    "    ax[i].xaxis.set_major_locator(mdates.WeekdayLocator())\n",
    "    ax[i].xaxis.set_major_formatter(mdates.DateFormatter('%b %d'))\n",
    "    ax[i].set_ylim([0,7000])\n",
    "    ax[i].spines['right'].set_visible(False)\n",
    "    ax[i].spines['top'].set_visible(False)\n",
    "plt.tight_layout()\n"
   ]
  },
  {
   "cell_type": "code",
   "execution_count": 20,
   "metadata": {
    "execution": {
     "iopub.execute_input": "2020-09-23T03:52:17.354541Z",
     "iopub.status.busy": "2020-09-23T03:52:17.353943Z",
     "iopub.status.idle": "2020-09-23T03:52:17.358583Z",
     "shell.execute_reply": "2020-09-23T03:52:17.358089Z"
    },
    "papermill": {
     "duration": 0.034012,
     "end_time": "2020-09-23T03:52:17.358780",
     "exception": false,
     "start_time": "2020-09-23T03:52:17.324768",
     "status": "completed"
    },
    "tags": []
   },
   "outputs": [
    {
     "name": "stdout",
     "output_type": "stream",
     "text": [
      "                                   states  Cases  Deaths  PCases  PDeaths  Cases (+)  Deaths (+)  Fatality Rate\n",
      "                              Maharashtra  20228     779   20228      779          0           0           3.85\n",
      "                                  Gujarat   7797     472    7797      472          0           0           6.05\n",
      "                                    Delhi   6542      68    6542       68          0           0           1.04\n",
      "                               Tamil Nadu   6535      44    6535       44          0           0           0.67\n",
      "                                Rajasthan   3708     106    3708      106          0           0           2.86\n",
      "                           Madhya Pradesh   3457     211    3457      211          0           0           6.10\n",
      "                            Uttar Pradesh   3373      74    3373       74          0           0           2.19\n",
      "                           Andhra Pradesh   1930      44    1930       44          0           0           2.28\n",
      "                              West Bengal   1786     171    1786      171          0           0           9.57\n",
      "                                   Punjab   1762      31    1762       31          0           0           1.76\n",
      "                                Telangana   1163      30    1163       30          0           0           2.58\n",
      "                        Jammu and Kashmir    836       9     836        9          0           0           1.08\n",
      "                                Karnataka    794      30     794       30          0           0           3.78\n",
      "                                  Haryana    675       9     675        9          0           0           1.33\n",
      "                                    Bihar    611       5     611        5          0           0           0.82\n",
      "                                   Kerala    506       4     506        4          0           0           0.79\n",
      "                                   Odisha    352       3     352        3          0           0           0.85\n",
      "                               Chandigarh    169       2     169        2          0           0           1.18\n",
      "                                Jharkhand    156       3     156        3          0           0           1.92\n",
      "                                  Tripura    135       0     135        0          0           0           0.00\n",
      "                              Uttarakhand     67       1      67        1          0           0           1.49\n",
      "                                    Assam     62       2      62        2          0           0           3.23\n",
      "                             Chhattisgarh     59       0      59        0          0           0           0.00\n",
      "                         Himachal Pradesh     52       3      52        3          0           0           5.77\n",
      "                                   Ladakh     42       0      42        0          0           0           0.00\n",
      "              Andaman and Nicobar Islands     33       0      33        0          0           0           0.00\n",
      "                                Meghalaya     13       1      13        1          0           0           7.69\n",
      "                               Puducherry     10       0      10        0          0           0           0.00\n",
      "                                      Goa      7       0       7        0          0           0           0.00\n",
      "                                  Manipur      2       0       2        0          0           0           0.00\n",
      "                        Arunachal Pradesh      1       0       1        0          0           0           0.00\n",
      " Dadra and Nagar Haveli and Daman and Diu      1       0       1        0          0           0           0.00\n",
      "                                  Mizoram      1       0       1        0          0           0           0.00\n",
      "                              Lakshadweep      0       0       0        0          0           0            NaN\n",
      "                                 Nagaland      0       0       0        0          0           0            NaN\n",
      "                                   Sikkim      0       0       0        0          0           0            NaN\n"
     ]
    }
   ],
   "source": [
    "#hide_input\n",
    "print(df_table.to_string(index=False))"
   ]
  },
  {
   "cell_type": "code",
   "execution_count": null,
   "metadata": {
    "papermill": {
     "duration": 0.020915,
     "end_time": "2020-09-23T03:52:17.400780",
     "exception": false,
     "start_time": "2020-09-23T03:52:17.379865",
     "status": "completed"
    },
    "tags": []
   },
   "outputs": [],
   "source": []
  },
  {
   "cell_type": "code",
   "execution_count": null,
   "metadata": {
    "papermill": {
     "duration": 0.020511,
     "end_time": "2020-09-23T03:52:17.442124",
     "exception": false,
     "start_time": "2020-09-23T03:52:17.421613",
     "status": "completed"
    },
    "tags": []
   },
   "outputs": [],
   "source": []
  }
 ],
 "metadata": {
  "kernelspec": {
   "display_name": "Python 3",
   "language": "python",
   "name": "python3"
  },
  "language_info": {
   "codemirror_mode": {
    "name": "ipython",
    "version": 3
   },
   "file_extension": ".py",
   "mimetype": "text/x-python",
   "name": "python",
   "nbconvert_exporter": "python",
   "pygments_lexer": "ipython3",
   "version": "3.6.12"
  },
  "papermill": {
   "duration": 9.800546,
   "end_time": "2020-09-23T03:52:17.872891",
   "environment_variables": {},
   "exception": null,
   "input_path": "latest.ipynb",
   "output_path": "latest.ipynb",
   "parameters": {},
   "start_time": "2020-09-23T03:52:08.072345",
   "version": "2.1.2"
  }
 },
 "nbformat": 4,
 "nbformat_minor": 4
}