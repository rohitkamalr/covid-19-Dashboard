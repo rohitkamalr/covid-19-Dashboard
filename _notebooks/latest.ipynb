{
 "cells": [
  {
   "cell_type": "markdown",
   "metadata": {
    "papermill": {
     "duration": 0.021728,
     "end_time": "2020-09-01T09:52:31.779917",
     "exception": false,
     "start_time": "2020-09-01T09:52:31.758189",
     "status": "completed"
    },
    "tags": []
   },
   "source": [
    "# Latest COVID-19 India Matplotlib Overview"
   ]
  },
  {
   "cell_type": "code",
   "execution_count": 1,
   "metadata": {
    "execution": {
     "iopub.execute_input": "2020-09-01T09:52:31.821926Z",
     "iopub.status.busy": "2020-09-01T09:52:31.821135Z",
     "iopub.status.idle": "2020-09-01T09:52:32.480403Z",
     "shell.execute_reply": "2020-09-01T09:52:32.479503Z"
    },
    "papermill": {
     "duration": 0.682728,
     "end_time": "2020-09-01T09:52:32.480586",
     "exception": false,
     "start_time": "2020-09-01T09:52:31.797858",
     "status": "completed"
    },
    "tags": []
   },
   "outputs": [],
   "source": [
    "#hide\n",
    "import pandas as pd\n",
    "import numpy as np\n",
    "import requests\n",
    "import json\n",
    "import matplotlib.pyplot as plt\n",
    "import matplotlib.dates as mdates\n",
    "import matplotlib as mpl\n",
    "from IPython.core.display import display,HTML\n",
    "%matplotlib inline\n",
    "from datetime import date"
   ]
  },
  {
   "cell_type": "code",
   "execution_count": 2,
   "metadata": {
    "execution": {
     "iopub.execute_input": "2020-09-01T09:52:32.570140Z",
     "iopub.status.busy": "2020-09-01T09:52:32.568991Z",
     "iopub.status.idle": "2020-09-01T09:52:32.709384Z",
     "shell.execute_reply": "2020-09-01T09:52:32.708802Z"
    },
    "papermill": {
     "duration": 0.195685,
     "end_time": "2020-09-01T09:52:32.709536",
     "exception": false,
     "start_time": "2020-09-01T09:52:32.513851",
     "status": "completed"
    },
    "tags": []
   },
   "outputs": [],
   "source": [
    "#hide\n",
    "df  = pd.read_csv('https://api.covid19india.org/csv/latest/states.csv')\n",
    "df = df[['Date','State','Confirmed','Deceased']]\n",
    "df = df.rename(columns={'Confirmed':'Cases', \"Deceased\":'Deaths'})\n",
    "df_cases = df[[\"Date\",'State','Cases']]\n",
    "df_deaths = df[['Date','State','Deaths']]\n",
    "df_cases1 = df_cases.groupby('Date')\n",
    "df_deaths1= df_deaths.groupby('Date')"
   ]
  },
  {
   "cell_type": "code",
   "execution_count": 3,
   "metadata": {
    "execution": {
     "iopub.execute_input": "2020-09-01T09:52:32.865445Z",
     "iopub.status.busy": "2020-09-01T09:52:32.864817Z",
     "iopub.status.idle": "2020-09-01T09:52:32.884614Z",
     "shell.execute_reply": "2020-09-01T09:52:32.884048Z"
    },
    "papermill": {
     "duration": 0.154559,
     "end_time": "2020-09-01T09:52:32.884760",
     "exception": false,
     "start_time": "2020-09-01T09:52:32.730201",
     "status": "completed"
    },
    "tags": []
   },
   "outputs": [],
   "source": [
    "#hide\n",
    "df_snap = pd.read_csv('data/SnapshotCases-28-July.csv')\n",
    "arr_states = df_snap['states'].unique()\n",
    "arr_dates = df['Date'].unique()\n",
    "df_snap = df_snap.set_index('states')"
   ]
  },
  {
   "cell_type": "code",
   "execution_count": 4,
   "metadata": {
    "execution": {
     "iopub.execute_input": "2020-09-01T09:52:32.928777Z",
     "iopub.status.busy": "2020-09-01T09:52:32.928019Z",
     "iopub.status.idle": "2020-09-01T09:52:32.931174Z",
     "shell.execute_reply": "2020-09-01T09:52:32.931689Z"
    },
    "papermill": {
     "duration": 0.02834,
     "end_time": "2020-09-01T09:52:32.931837",
     "exception": false,
     "start_time": "2020-09-01T09:52:32.903497",
     "status": "completed"
    },
    "tags": []
   },
   "outputs": [
    {
     "data": {
      "text/plain": [
       "array(['Andaman and Nicobar Islands', 'Andhra Pradesh',\n",
       "       'Arunachal Pradesh', 'Assam', 'Bihar', 'Chandigarh',\n",
       "       'Dadra and Nagar Haveli and Daman and Diu', 'Delhi', 'Goa',\n",
       "       'Gujarat', 'Haryana', 'Himachal Pradesh', 'Jammu and Kashmir',\n",
       "       'Jharkhand', 'Karnataka', 'Kerala', 'Lakshadweep',\n",
       "       'Madhya Pradesh', 'Maharashtra', 'Manipur', 'Meghalaya', 'Mizoram',\n",
       "       'Nagaland', 'Odisha', 'Puducherry', 'Punjab', 'Rajasthan',\n",
       "       'Sikkim', 'Tamil Nadu', 'Telangana', 'Tripura', 'Uttar Pradesh',\n",
       "       'West Bengal', 'Chhattisgarh', 'Ladakh', 'Uttarakhand'],\n",
       "      dtype=object)"
      ]
     },
     "execution_count": 4,
     "metadata": {},
     "output_type": "execute_result"
    }
   ],
   "source": [
    "#hide\n",
    "arr_states[-9] = 'Puducherry'\n",
    "arr_states[-10] = 'Odisha'\n",
    "arr_states[6] = 'Dadra and Nagar Haveli and Daman and Diu'\n",
    "arr_states = np.append(arr_states,np.array(['Chhattisgarh','Ladakh','Uttarakhand']))\n",
    "arr_states"
   ]
  },
  {
   "cell_type": "code",
   "execution_count": 5,
   "metadata": {
    "execution": {
     "iopub.execute_input": "2020-09-01T09:52:32.976664Z",
     "iopub.status.busy": "2020-09-01T09:52:32.974290Z",
     "iopub.status.idle": "2020-09-01T09:52:32.984722Z",
     "shell.execute_reply": "2020-09-01T09:52:32.984180Z"
    },
    "papermill": {
     "duration": 0.035959,
     "end_time": "2020-09-01T09:52:32.984904",
     "exception": false,
     "start_time": "2020-09-01T09:52:32.948945",
     "status": "completed"
    },
    "tags": []
   },
   "outputs": [],
   "source": [
    "#hide\n",
    "dates = []\n",
    "for i in arr_dates:\n",
    "    if i>='2020-07-01':\n",
    "        dates.append(i)\n",
    "dict = {'states':dates}\n",
    "for i in arr_states:\n",
    "    dict[i] = [0]*len(dates)\n",
    "dft_cases = pd.DataFrame(dict)\n",
    "dft_deaths = pd.DataFrame(dict)\n"
   ]
  },
  {
   "cell_type": "code",
   "execution_count": 6,
   "metadata": {
    "execution": {
     "iopub.execute_input": "2020-09-01T09:52:33.024988Z",
     "iopub.status.busy": "2020-09-01T09:52:33.024345Z",
     "iopub.status.idle": "2020-09-01T09:52:34.164187Z",
     "shell.execute_reply": "2020-09-01T09:52:34.164767Z"
    },
    "papermill": {
     "duration": 1.163278,
     "end_time": "2020-09-01T09:52:34.165004",
     "exception": false,
     "start_time": "2020-09-01T09:52:33.001726",
     "status": "completed"
    },
    "tags": []
   },
   "outputs": [],
   "source": [
    "#hide\n",
    "for i in range(len(dates)):\n",
    "    df1_deaths = df_deaths1.get_group(dates[i])\n",
    "    for j in range(len(df1_deaths.index)):\n",
    "        if df1_deaths.iloc[j,1] in arr_states:\n",
    "            dft_deaths.loc[i,df1_deaths.iloc[j,1]] = df1_deaths.iloc[j,2]\n",
    "dft_deaths = dft_deaths.set_index('states')"
   ]
  },
  {
   "cell_type": "code",
   "execution_count": 7,
   "metadata": {
    "execution": {
     "iopub.execute_input": "2020-09-01T09:52:34.208738Z",
     "iopub.status.busy": "2020-09-01T09:52:34.208050Z",
     "iopub.status.idle": "2020-09-01T09:52:35.349993Z",
     "shell.execute_reply": "2020-09-01T09:52:35.349357Z"
    },
    "papermill": {
     "duration": 1.16692,
     "end_time": "2020-09-01T09:52:35.350149",
     "exception": false,
     "start_time": "2020-09-01T09:52:34.183229",
     "status": "completed"
    },
    "tags": []
   },
   "outputs": [],
   "source": [
    "#hide\n",
    "for i in range(len(dates)):\n",
    "    df1_cases = df_cases1.get_group(dates[i])\n",
    "    for j in range(len(df1_cases.index)):\n",
    "        if df1_cases.iloc[j,1] in arr_states:\n",
    "            dft_cases.loc[i,df1_cases.iloc[j,1]] = df1_cases.iloc[j,2]\n",
    "dft_cases = dft_cases.set_index('states')"
   ]
  },
  {
   "cell_type": "code",
   "execution_count": 8,
   "metadata": {
    "execution": {
     "iopub.execute_input": "2020-09-01T09:52:35.393409Z",
     "iopub.status.busy": "2020-09-01T09:52:35.392617Z",
     "iopub.status.idle": "2020-09-01T09:52:35.394537Z",
     "shell.execute_reply": "2020-09-01T09:52:35.395171Z"
    },
    "papermill": {
     "duration": 0.026136,
     "end_time": "2020-09-01T09:52:35.395334",
     "exception": false,
     "start_time": "2020-09-01T09:52:35.369198",
     "status": "completed"
    },
    "tags": []
   },
   "outputs": [],
   "source": [
    "#hide\n",
    "dft_cases = dft_cases.T\n",
    "dft_deaths = dft_deaths.T\n",
    "dt_today = dates[-1]\n",
    "dt_yday = dates[-2]"
   ]
  },
  {
   "cell_type": "code",
   "execution_count": 9,
   "metadata": {
    "execution": {
     "iopub.execute_input": "2020-09-01T09:52:35.446652Z",
     "iopub.status.busy": "2020-09-01T09:52:35.445924Z",
     "iopub.status.idle": "2020-09-01T09:52:35.447941Z",
     "shell.execute_reply": "2020-09-01T09:52:35.448654Z"
    },
    "papermill": {
     "duration": 0.031971,
     "end_time": "2020-09-01T09:52:35.448815",
     "exception": false,
     "start_time": "2020-09-01T09:52:35.416844",
     "status": "completed"
    },
    "tags": []
   },
   "outputs": [],
   "source": [
    "#hide\n",
    "dft_cases = dft_cases.reset_index()\n",
    "dft_deaths = dft_deaths.reset_index()\n",
    "dft_cases = dft_cases.rename(columns = {'index':'state'})\n",
    "dft_deaths = dft_deaths.rename(columns = {'index':'state'})"
   ]
  },
  {
   "cell_type": "code",
   "execution_count": 10,
   "metadata": {
    "execution": {
     "iopub.execute_input": "2020-09-01T09:52:35.498888Z",
     "iopub.status.busy": "2020-09-01T09:52:35.498149Z",
     "iopub.status.idle": "2020-09-01T09:52:35.500895Z",
     "shell.execute_reply": "2020-09-01T09:52:35.501504Z"
    },
    "papermill": {
     "duration": 0.034904,
     "end_time": "2020-09-01T09:52:35.501705",
     "exception": false,
     "start_time": "2020-09-01T09:52:35.466801",
     "status": "completed"
    },
    "tags": []
   },
   "outputs": [],
   "source": [
    "#hide\n",
    "dfc_cases = dft_cases.groupby('state')[dt_today].sum()\n",
    "dfc_deaths = dft_deaths.groupby('state')[dt_today].sum()\n",
    "dfp_cases = dft_cases.groupby('state')[dt_yday].sum()\n",
    "dfp_deaths = dft_deaths.groupby('state')[dt_yday].sum()"
   ]
  },
  {
   "cell_type": "code",
   "execution_count": 11,
   "metadata": {
    "execution": {
     "iopub.execute_input": "2020-09-01T09:52:35.555153Z",
     "iopub.status.busy": "2020-09-01T09:52:35.554413Z",
     "iopub.status.idle": "2020-09-01T09:52:35.561948Z",
     "shell.execute_reply": "2020-09-01T09:52:35.562513Z"
    },
    "papermill": {
     "duration": 0.04276,
     "end_time": "2020-09-01T09:52:35.562687",
     "exception": false,
     "start_time": "2020-09-01T09:52:35.519927",
     "status": "completed"
    },
    "tags": []
   },
   "outputs": [
    {
     "data": {
      "text/html": [
       "<div>\n",
       "<style scoped>\n",
       "    .dataframe tbody tr th:only-of-type {\n",
       "        vertical-align: middle;\n",
       "    }\n",
       "\n",
       "    .dataframe tbody tr th {\n",
       "        vertical-align: top;\n",
       "    }\n",
       "\n",
       "    .dataframe thead th {\n",
       "        text-align: right;\n",
       "    }\n",
       "</style>\n",
       "<table border=\"1\" class=\"dataframe\">\n",
       "  <thead>\n",
       "    <tr style=\"text-align: right;\">\n",
       "      <th></th>\n",
       "      <th>states</th>\n",
       "      <th>Cases</th>\n",
       "      <th>Deaths</th>\n",
       "      <th>PCases</th>\n",
       "      <th>PDeaths</th>\n",
       "    </tr>\n",
       "  </thead>\n",
       "  <tbody>\n",
       "    <tr>\n",
       "      <th>0</th>\n",
       "      <td>Maharashtra</td>\n",
       "      <td>792541</td>\n",
       "      <td>24583</td>\n",
       "      <td>792541</td>\n",
       "      <td>24583</td>\n",
       "    </tr>\n",
       "    <tr>\n",
       "      <th>1</th>\n",
       "      <td>Andhra Pradesh</td>\n",
       "      <td>434771</td>\n",
       "      <td>3969</td>\n",
       "      <td>434771</td>\n",
       "      <td>3969</td>\n",
       "    </tr>\n",
       "    <tr>\n",
       "      <th>2</th>\n",
       "      <td>Tamil Nadu</td>\n",
       "      <td>428041</td>\n",
       "      <td>7322</td>\n",
       "      <td>428041</td>\n",
       "      <td>7322</td>\n",
       "    </tr>\n",
       "    <tr>\n",
       "      <th>3</th>\n",
       "      <td>Karnataka</td>\n",
       "      <td>342423</td>\n",
       "      <td>5702</td>\n",
       "      <td>342423</td>\n",
       "      <td>5702</td>\n",
       "    </tr>\n",
       "    <tr>\n",
       "      <th>4</th>\n",
       "      <td>Uttar Pradesh</td>\n",
       "      <td>230414</td>\n",
       "      <td>3486</td>\n",
       "      <td>230414</td>\n",
       "      <td>3486</td>\n",
       "    </tr>\n",
       "  </tbody>\n",
       "</table>\n",
       "</div>"
      ],
      "text/plain": [
       "           states   Cases  Deaths  PCases  PDeaths\n",
       "0     Maharashtra  792541   24583  792541    24583\n",
       "1  Andhra Pradesh  434771    3969  434771     3969\n",
       "2      Tamil Nadu  428041    7322  428041     7322\n",
       "3       Karnataka  342423    5702  342423     5702\n",
       "4   Uttar Pradesh  230414    3486  230414     3486"
      ]
     },
     "execution_count": 11,
     "metadata": {},
     "output_type": "execute_result"
    }
   ],
   "source": [
    "#hide\n",
    "df_table = pd.DataFrame({'states': dfc_cases.index, 'Cases': dfc_cases.values, 'Deaths': dfc_deaths.values, 'PCases': dfp_cases.values, 'PDeaths': dfp_deaths.values}).set_index('states')\n",
    "df_table = df_table.sort_values(by = ['Cases','Deaths'], ascending = [False, False])\n",
    "df_table = df_table.reset_index()\n",
    "df_table.head()"
   ]
  },
  {
   "cell_type": "code",
   "execution_count": 12,
   "metadata": {
    "execution": {
     "iopub.execute_input": "2020-09-01T09:52:35.612850Z",
     "iopub.status.busy": "2020-09-01T09:52:35.612185Z",
     "iopub.status.idle": "2020-09-01T09:52:35.614939Z",
     "shell.execute_reply": "2020-09-01T09:52:35.615604Z"
    },
    "papermill": {
     "duration": 0.03475,
     "end_time": "2020-09-01T09:52:35.615768",
     "exception": false,
     "start_time": "2020-09-01T09:52:35.581018",
     "status": "completed"
    },
    "tags": []
   },
   "outputs": [],
   "source": [
    "#hide\n",
    "for c in 'Cases, Deaths'.split(', '):\n",
    "    df_table[f'{c} (+)'] = (df_table[c] - df_table[f'P{c}']).clip(0)\n",
    "df_table['Fatality Rate'] = (100* df_table['Deaths']/ df_table['Cases']).round(2)"
   ]
  },
  {
   "cell_type": "code",
   "execution_count": 13,
   "metadata": {
    "execution": {
     "iopub.execute_input": "2020-09-01T09:52:35.666827Z",
     "iopub.status.busy": "2020-09-01T09:52:35.666129Z",
     "iopub.status.idle": "2020-09-01T09:52:35.669553Z",
     "shell.execute_reply": "2020-09-01T09:52:35.670249Z"
    },
    "papermill": {
     "duration": 0.034697,
     "end_time": "2020-09-01T09:52:35.670435",
     "exception": false,
     "start_time": "2020-09-01T09:52:35.635738",
     "status": "completed"
    },
    "tags": []
   },
   "outputs": [
    {
     "data": {
      "text/html": [
       "<div>\n",
       "<style scoped>\n",
       "    .dataframe tbody tr th:only-of-type {\n",
       "        vertical-align: middle;\n",
       "    }\n",
       "\n",
       "    .dataframe tbody tr th {\n",
       "        vertical-align: top;\n",
       "    }\n",
       "\n",
       "    .dataframe thead th {\n",
       "        text-align: right;\n",
       "    }\n",
       "</style>\n",
       "<table border=\"1\" class=\"dataframe\">\n",
       "  <thead>\n",
       "    <tr style=\"text-align: right;\">\n",
       "      <th></th>\n",
       "      <th>states</th>\n",
       "      <th>Cases</th>\n",
       "      <th>Deaths</th>\n",
       "      <th>PCases</th>\n",
       "      <th>PDeaths</th>\n",
       "      <th>Cases (+)</th>\n",
       "      <th>Deaths (+)</th>\n",
       "      <th>Fatality Rate</th>\n",
       "    </tr>\n",
       "  </thead>\n",
       "  <tbody>\n",
       "    <tr>\n",
       "      <th>0</th>\n",
       "      <td>Maharashtra</td>\n",
       "      <td>792541</td>\n",
       "      <td>24583</td>\n",
       "      <td>792541</td>\n",
       "      <td>24583</td>\n",
       "      <td>0</td>\n",
       "      <td>0</td>\n",
       "      <td>3.10</td>\n",
       "    </tr>\n",
       "    <tr>\n",
       "      <th>1</th>\n",
       "      <td>Andhra Pradesh</td>\n",
       "      <td>434771</td>\n",
       "      <td>3969</td>\n",
       "      <td>434771</td>\n",
       "      <td>3969</td>\n",
       "      <td>0</td>\n",
       "      <td>0</td>\n",
       "      <td>0.91</td>\n",
       "    </tr>\n",
       "    <tr>\n",
       "      <th>2</th>\n",
       "      <td>Tamil Nadu</td>\n",
       "      <td>428041</td>\n",
       "      <td>7322</td>\n",
       "      <td>428041</td>\n",
       "      <td>7322</td>\n",
       "      <td>0</td>\n",
       "      <td>0</td>\n",
       "      <td>1.71</td>\n",
       "    </tr>\n",
       "    <tr>\n",
       "      <th>3</th>\n",
       "      <td>Karnataka</td>\n",
       "      <td>342423</td>\n",
       "      <td>5702</td>\n",
       "      <td>342423</td>\n",
       "      <td>5702</td>\n",
       "      <td>0</td>\n",
       "      <td>0</td>\n",
       "      <td>1.67</td>\n",
       "    </tr>\n",
       "    <tr>\n",
       "      <th>4</th>\n",
       "      <td>Uttar Pradesh</td>\n",
       "      <td>230414</td>\n",
       "      <td>3486</td>\n",
       "      <td>230414</td>\n",
       "      <td>3486</td>\n",
       "      <td>0</td>\n",
       "      <td>0</td>\n",
       "      <td>1.51</td>\n",
       "    </tr>\n",
       "  </tbody>\n",
       "</table>\n",
       "</div>"
      ],
      "text/plain": [
       "           states   Cases  Deaths  PCases  PDeaths  Cases (+)  Deaths (+)  \\\n",
       "0     Maharashtra  792541   24583  792541    24583          0           0   \n",
       "1  Andhra Pradesh  434771    3969  434771     3969          0           0   \n",
       "2      Tamil Nadu  428041    7322  428041     7322          0           0   \n",
       "3       Karnataka  342423    5702  342423     5702          0           0   \n",
       "4   Uttar Pradesh  230414    3486  230414     3486          0           0   \n",
       "\n",
       "   Fatality Rate  \n",
       "0           3.10  \n",
       "1           0.91  \n",
       "2           1.71  \n",
       "3           1.67  \n",
       "4           1.51  "
      ]
     },
     "execution_count": 13,
     "metadata": {},
     "output_type": "execute_result"
    }
   ],
   "source": [
    "#hide\n",
    "df_table.head()"
   ]
  },
  {
   "cell_type": "code",
   "execution_count": 14,
   "metadata": {
    "execution": {
     "iopub.execute_input": "2020-09-01T09:52:35.713381Z",
     "iopub.status.busy": "2020-09-01T09:52:35.712721Z",
     "iopub.status.idle": "2020-09-01T09:52:35.732555Z",
     "shell.execute_reply": "2020-09-01T09:52:35.733191Z"
    },
    "papermill": {
     "duration": 0.044319,
     "end_time": "2020-09-01T09:52:35.733365",
     "exception": false,
     "start_time": "2020-09-01T09:52:35.689046",
     "status": "completed"
    },
    "tags": []
   },
   "outputs": [
    {
     "data": {
      "text/plain": [
       "{'updated': '2020-09-01',\n",
       " 'since': '2020-08-31',\n",
       " 'Cases': 3694878,\n",
       " 'PCases': 3687939,\n",
       " 'Deaths': 65469,\n",
       " 'PDeaths': 65433,\n",
       " 'Cases (+)': 6939,\n",
       " 'Deaths (+)': 36}"
      ]
     },
     "execution_count": 14,
     "metadata": {},
     "output_type": "execute_result"
    }
   ],
   "source": [
    "#hide\n",
    "summary = {'updated':dates[-1], 'since':dates[-2]}\n",
    "list_names = ['Cases', 'PCases', 'Deaths', 'PDeaths', 'Cases (+)', 'Deaths (+)']\n",
    "for name in list_names:\n",
    "    summary[name] = df_table.sum()[name]\n",
    "summary"
   ]
  },
  {
   "cell_type": "code",
   "execution_count": 15,
   "metadata": {
    "execution": {
     "iopub.execute_input": "2020-09-01T09:52:35.776118Z",
     "iopub.status.busy": "2020-09-01T09:52:35.775398Z",
     "iopub.status.idle": "2020-09-01T09:52:35.778243Z",
     "shell.execute_reply": "2020-09-01T09:52:35.777560Z"
    },
    "papermill": {
     "duration": 0.025983,
     "end_time": "2020-09-01T09:52:35.778380",
     "exception": false,
     "start_time": "2020-09-01T09:52:35.752397",
     "status": "completed"
    },
    "tags": []
   },
   "outputs": [],
   "source": [
    "#hide\n",
    "overview = '''\n",
    "<!-- #######  HTML!! #########-->\n",
    "<h1 style=\"color: #5e9ca0; text-align: center;\">India</h1>\n",
    "<p style=\"text-align: center;\">Last update: <strong>{update}</strong></p>\n",
    "<p style=\"text-align: center;\">Confirmed cases:</p>\n",
    "<p style=\"text-align: center;font-size:24px;\">{cases} (<span style=\"color: #ff0000;\">+{new}</span>)</p>\n",
    "<p style=\"text-align: center;\">Confirmed deaths:</p>\n",
    "<p style=\"text-align: center;font-size:24px;\">{deaths} (<span style=\"color: #ff0000;\">+{dnew}</span>)</p>\n",
    "'''"
   ]
  },
  {
   "cell_type": "code",
   "execution_count": 16,
   "metadata": {
    "execution": {
     "iopub.execute_input": "2020-09-01T09:52:35.822902Z",
     "iopub.status.busy": "2020-09-01T09:52:35.822235Z",
     "iopub.status.idle": "2020-09-01T09:52:35.826347Z",
     "shell.execute_reply": "2020-09-01T09:52:35.825703Z"
    },
    "papermill": {
     "duration": 0.029266,
     "end_time": "2020-09-01T09:52:35.826500",
     "exception": false,
     "start_time": "2020-09-01T09:52:35.797234",
     "status": "completed"
    },
    "tags": []
   },
   "outputs": [
    {
     "data": {
      "text/html": [
       "\n",
       "<!-- #######  HTML!! #########-->\n",
       "<h1 style=\"color: #5e9ca0; text-align: center;\">India</h1>\n",
       "<p style=\"text-align: center;\">Last update: <strong>2020-09-01</strong></p>\n",
       "<p style=\"text-align: center;\">Confirmed cases:</p>\n",
       "<p style=\"text-align: center;font-size:24px;\">3694878 (<span style=\"color: #ff0000;\">+6939</span>)</p>\n",
       "<p style=\"text-align: center;\">Confirmed deaths:</p>\n",
       "<p style=\"text-align: center;font-size:24px;\">65469 (<span style=\"color: #ff0000;\">+36</span>)</p>\n"
      ],
      "text/plain": [
       "<IPython.core.display.HTML object>"
      ]
     },
     "metadata": {},
     "output_type": "display_data"
    }
   ],
   "source": [
    "#hide_input\n",
    "update = summary['updated']\n",
    "cases = summary['Cases']\n",
    "new = summary['Cases (+)']\n",
    "deaths = summary['Deaths']\n",
    "dnew = summary['Deaths (+)']\n",
    "\n",
    "html = HTML(overview.format(update=update, cases=cases,new=new,deaths=deaths,dnew=dnew))\n",
    "\n",
    "display(html)"
   ]
  },
  {
   "cell_type": "code",
   "execution_count": 17,
   "metadata": {
    "execution": {
     "iopub.execute_input": "2020-09-01T09:52:35.871996Z",
     "iopub.status.busy": "2020-09-01T09:52:35.871326Z",
     "iopub.status.idle": "2020-09-01T09:52:35.880176Z",
     "shell.execute_reply": "2020-09-01T09:52:35.879501Z"
    },
    "papermill": {
     "duration": 0.034617,
     "end_time": "2020-09-01T09:52:35.880403",
     "exception": false,
     "start_time": "2020-09-01T09:52:35.845786",
     "status": "completed"
    },
    "tags": []
   },
   "outputs": [],
   "source": [
    "#hide\n",
    "dt_cols = list(dft_cases.columns[1:])\n",
    "dft_ct_new_cases = dft_cases.groupby('state')[dt_cols].sum().diff(axis=1).fillna(0).astype(int)\n",
    "dft_ct_new_cases.sort_values(by = dates[-1], ascending = False,inplace = True)"
   ]
  },
  {
   "cell_type": "code",
   "execution_count": 18,
   "metadata": {
    "execution": {
     "iopub.execute_input": "2020-09-01T09:52:35.939912Z",
     "iopub.status.busy": "2020-09-01T09:52:35.939110Z",
     "iopub.status.idle": "2020-09-01T09:52:35.943043Z",
     "shell.execute_reply": "2020-09-01T09:52:35.942452Z"
    },
    "papermill": {
     "duration": 0.042687,
     "end_time": "2020-09-01T09:52:35.943189",
     "exception": false,
     "start_time": "2020-09-01T09:52:35.900502",
     "status": "completed"
    },
    "tags": []
   },
   "outputs": [
    {
     "data": {
      "text/html": [
       "<div>\n",
       "<style scoped>\n",
       "    .dataframe tbody tr th:only-of-type {\n",
       "        vertical-align: middle;\n",
       "    }\n",
       "\n",
       "    .dataframe tbody tr th {\n",
       "        vertical-align: top;\n",
       "    }\n",
       "\n",
       "    .dataframe thead th {\n",
       "        text-align: right;\n",
       "    }\n",
       "</style>\n",
       "<table border=\"1\" class=\"dataframe\">\n",
       "  <thead>\n",
       "    <tr style=\"text-align: right;\">\n",
       "      <th>states</th>\n",
       "      <th>2020-07-01</th>\n",
       "      <th>2020-07-02</th>\n",
       "      <th>2020-07-03</th>\n",
       "      <th>2020-07-04</th>\n",
       "      <th>2020-07-05</th>\n",
       "      <th>2020-07-06</th>\n",
       "      <th>2020-07-07</th>\n",
       "      <th>2020-07-08</th>\n",
       "      <th>2020-07-09</th>\n",
       "      <th>2020-07-10</th>\n",
       "      <th>...</th>\n",
       "      <th>2020-08-23</th>\n",
       "      <th>2020-08-24</th>\n",
       "      <th>2020-08-25</th>\n",
       "      <th>2020-08-26</th>\n",
       "      <th>2020-08-27</th>\n",
       "      <th>2020-08-28</th>\n",
       "      <th>2020-08-29</th>\n",
       "      <th>2020-08-30</th>\n",
       "      <th>2020-08-31</th>\n",
       "      <th>2020-09-01</th>\n",
       "    </tr>\n",
       "    <tr>\n",
       "      <th>state</th>\n",
       "      <th></th>\n",
       "      <th></th>\n",
       "      <th></th>\n",
       "      <th></th>\n",
       "      <th></th>\n",
       "      <th></th>\n",
       "      <th></th>\n",
       "      <th></th>\n",
       "      <th></th>\n",
       "      <th></th>\n",
       "      <th></th>\n",
       "      <th></th>\n",
       "      <th></th>\n",
       "      <th></th>\n",
       "      <th></th>\n",
       "      <th></th>\n",
       "      <th></th>\n",
       "      <th></th>\n",
       "      <th></th>\n",
       "      <th></th>\n",
       "      <th></th>\n",
       "    </tr>\n",
       "  </thead>\n",
       "  <tbody>\n",
       "    <tr>\n",
       "      <th>Odisha</th>\n",
       "      <td>0</td>\n",
       "      <td>229</td>\n",
       "      <td>561</td>\n",
       "      <td>495</td>\n",
       "      <td>469</td>\n",
       "      <td>456</td>\n",
       "      <td>571</td>\n",
       "      <td>527</td>\n",
       "      <td>577</td>\n",
       "      <td>755</td>\n",
       "      <td>...</td>\n",
       "      <td>2993</td>\n",
       "      <td>2949</td>\n",
       "      <td>2752</td>\n",
       "      <td>3371</td>\n",
       "      <td>3384</td>\n",
       "      <td>3682</td>\n",
       "      <td>3252</td>\n",
       "      <td>3014</td>\n",
       "      <td>2602</td>\n",
       "      <td>3025</td>\n",
       "    </tr>\n",
       "    <tr>\n",
       "      <th>Telangana</th>\n",
       "      <td>0</td>\n",
       "      <td>1213</td>\n",
       "      <td>1892</td>\n",
       "      <td>1850</td>\n",
       "      <td>1590</td>\n",
       "      <td>1831</td>\n",
       "      <td>1879</td>\n",
       "      <td>1924</td>\n",
       "      <td>1410</td>\n",
       "      <td>1278</td>\n",
       "      <td>...</td>\n",
       "      <td>2384</td>\n",
       "      <td>1842</td>\n",
       "      <td>2579</td>\n",
       "      <td>3018</td>\n",
       "      <td>2795</td>\n",
       "      <td>2932</td>\n",
       "      <td>2751</td>\n",
       "      <td>2924</td>\n",
       "      <td>1873</td>\n",
       "      <td>2734</td>\n",
       "    </tr>\n",
       "    <tr>\n",
       "      <th>Rajasthan</th>\n",
       "      <td>0</td>\n",
       "      <td>350</td>\n",
       "      <td>390</td>\n",
       "      <td>480</td>\n",
       "      <td>632</td>\n",
       "      <td>524</td>\n",
       "      <td>716</td>\n",
       "      <td>659</td>\n",
       "      <td>500</td>\n",
       "      <td>611</td>\n",
       "      <td>...</td>\n",
       "      <td>1345</td>\n",
       "      <td>1346</td>\n",
       "      <td>1370</td>\n",
       "      <td>1345</td>\n",
       "      <td>1345</td>\n",
       "      <td>1355</td>\n",
       "      <td>1407</td>\n",
       "      <td>1450</td>\n",
       "      <td>1466</td>\n",
       "      <td>670</td>\n",
       "    </tr>\n",
       "    <tr>\n",
       "      <th>Tripura</th>\n",
       "      <td>0</td>\n",
       "      <td>39</td>\n",
       "      <td>93</td>\n",
       "      <td>25</td>\n",
       "      <td>23</td>\n",
       "      <td>111</td>\n",
       "      <td>24</td>\n",
       "      <td>57</td>\n",
       "      <td>16</td>\n",
       "      <td>142</td>\n",
       "      <td>...</td>\n",
       "      <td>331</td>\n",
       "      <td>200</td>\n",
       "      <td>293</td>\n",
       "      <td>329</td>\n",
       "      <td>385</td>\n",
       "      <td>509</td>\n",
       "      <td>443</td>\n",
       "      <td>447</td>\n",
       "      <td>321</td>\n",
       "      <td>509</td>\n",
       "    </tr>\n",
       "    <tr>\n",
       "      <th>Mizoram</th>\n",
       "      <td>0</td>\n",
       "      <td>2</td>\n",
       "      <td>0</td>\n",
       "      <td>2</td>\n",
       "      <td>22</td>\n",
       "      <td>11</td>\n",
       "      <td>1</td>\n",
       "      <td>5</td>\n",
       "      <td>0</td>\n",
       "      <td>23</td>\n",
       "      <td>...</td>\n",
       "      <td>15</td>\n",
       "      <td>0</td>\n",
       "      <td>35</td>\n",
       "      <td>14</td>\n",
       "      <td>7</td>\n",
       "      <td>29</td>\n",
       "      <td>0</td>\n",
       "      <td>5</td>\n",
       "      <td>3</td>\n",
       "      <td>1</td>\n",
       "    </tr>\n",
       "  </tbody>\n",
       "</table>\n",
       "<p>5 rows × 63 columns</p>\n",
       "</div>"
      ],
      "text/plain": [
       "states     2020-07-01  2020-07-02  2020-07-03  2020-07-04  2020-07-05  \\\n",
       "state                                                                   \n",
       "Odisha              0         229         561         495         469   \n",
       "Telangana           0        1213        1892        1850        1590   \n",
       "Rajasthan           0         350         390         480         632   \n",
       "Tripura             0          39          93          25          23   \n",
       "Mizoram             0           2           0           2          22   \n",
       "\n",
       "states     2020-07-06  2020-07-07  2020-07-08  2020-07-09  2020-07-10  ...  \\\n",
       "state                                                                  ...   \n",
       "Odisha            456         571         527         577         755  ...   \n",
       "Telangana        1831        1879        1924        1410        1278  ...   \n",
       "Rajasthan         524         716         659         500         611  ...   \n",
       "Tripura           111          24          57          16         142  ...   \n",
       "Mizoram            11           1           5           0          23  ...   \n",
       "\n",
       "states     2020-08-23  2020-08-24  2020-08-25  2020-08-26  2020-08-27  \\\n",
       "state                                                                   \n",
       "Odisha           2993        2949        2752        3371        3384   \n",
       "Telangana        2384        1842        2579        3018        2795   \n",
       "Rajasthan        1345        1346        1370        1345        1345   \n",
       "Tripura           331         200         293         329         385   \n",
       "Mizoram            15           0          35          14           7   \n",
       "\n",
       "states     2020-08-28  2020-08-29  2020-08-30  2020-08-31  2020-09-01  \n",
       "state                                                                  \n",
       "Odisha           3682        3252        3014        2602        3025  \n",
       "Telangana        2932        2751        2924        1873        2734  \n",
       "Rajasthan        1355        1407        1450        1466         670  \n",
       "Tripura           509         443         447         321         509  \n",
       "Mizoram            29           0           5           3           1  \n",
       "\n",
       "[5 rows x 63 columns]"
      ]
     },
     "execution_count": 18,
     "metadata": {},
     "output_type": "execute_result"
    }
   ],
   "source": [
    "#hide\n",
    "dft_ct_new_cases.head()"
   ]
  },
  {
   "cell_type": "code",
   "execution_count": 19,
   "metadata": {
    "execution": {
     "iopub.execute_input": "2020-09-01T09:52:36.008576Z",
     "iopub.status.busy": "2020-09-01T09:52:36.003458Z",
     "iopub.status.idle": "2020-09-01T09:52:39.793659Z",
     "shell.execute_reply": "2020-09-01T09:52:39.794302Z"
    },
    "papermill": {
     "duration": 3.831671,
     "end_time": "2020-09-01T09:52:39.794616",
     "exception": false,
     "start_time": "2020-09-01T09:52:35.962945",
     "status": "completed"
    },
    "tags": []
   },
   "outputs": [
    {
     "data": {
      "image/png": "[encoded data removed]",
      "text/plain": [
       "<Figure size 1296x2016 with 11 Axes>"
      ]
     },
     "metadata": {
      "needs_background": "light"
     },
     "output_type": "display_data"
    }
   ],
   "source": [
    "#hide_input\n",
    "df = dft_ct_new_cases.copy()\n",
    "df.loc['Total'] = df.sum()\n",
    "n = 5\n",
    "ax = []\n",
    "fig = plt.figure(figsize = (18,28))\n",
    "gs = fig.add_gridspec(n+2, 5)\n",
    "# gs = fig.add_gridspec(2, 3)\n",
    "ax1 = fig.add_subplot(gs[0, :])\n",
    "ef = df.loc['Total'].rename_axis('date').reset_index()\n",
    "ef['date'] = ef['date'].astype('datetime64[ns]')\n",
    "ax1.bar(ef.date,ef.Total,alpha=0.3,color='#007acc')\n",
    "ax1.plot(ef.date,ef.Total , marker=\"o\", color='#007acc')\n",
    "ax1.xaxis.set_major_locator(mdates.WeekdayLocator())\n",
    "ax1.xaxis.set_major_formatter(mdates.DateFormatter('%b %d'))\n",
    "ax1.text(0.02, 0.5,'India daily case count', transform = ax1.transAxes, fontsize=25);\n",
    "ax1.spines['right'].set_visible(False)\n",
    "ax1.spines['top'].set_visible(False)\n",
    "\n",
    "ax2 = fig.add_subplot(gs[1,0])\n",
    "ef = df.loc['Maharashtra'].rename_axis('date').reset_index()\n",
    "ef['date'] = ef['date'].astype('datetime64[ns]')\n",
    "\n",
    "ax2.bar(ef.date, ef.Maharashtra,color = '#007acc',alpha=0.5)\n",
    "ax2.xaxis.set_major_locator(mdates.WeekdayLocator())\n",
    "ax2.xaxis.set_major_formatter(mdates.DateFormatter('%b %d'))\n",
    "ax2.set_xticks(ax2.get_xticks()[::3])\n",
    "maxyval = ef.Maharashtra.max()\n",
    "ax2.set_ylim([0,maxyval])\n",
    "ax2.text(0.05, 0.9,'Maharashtra', transform = ax2.transAxes, fontsize=20);\n",
    "ax2.spines['right'].set_visible(False)\n",
    "ax2.spines['top'].set_visible(False)\n",
    "\n",
    "\n",
    "ax3 = fig.add_subplot(gs[1,1])\n",
    "ef = df.loc['Tamil Nadu'].rename_axis('date').reset_index()\n",
    "ef['date'] = ef['date'].astype('datetime64[ns]')\n",
    "ax3.bar(ef.date, ef['Tamil Nadu'],color = '#007acc',alpha=0.5,)\n",
    "ax3.xaxis.set_major_locator(mdates.WeekdayLocator())\n",
    "ax3.xaxis.set_major_formatter(mdates.DateFormatter('%b %d'))\n",
    "ax3.set_xticks(ax3.get_xticks()[::3])\n",
    "ax3.text(0.05, 0.9,'Tamil Nadu', transform = ax3.transAxes, fontsize=20);\n",
    "ax3.spines['right'].set_visible(False)\n",
    "ax3.spines['top'].set_visible(False)\n",
    "\n",
    "ax5 = fig.add_subplot(gs[1,3])\n",
    "ef = df.loc['Telangana'].rename_axis('date').reset_index()\n",
    "ef['date'] = ef['date'].astype('datetime64[ns]')\n",
    "ax5.bar(ef.date, ef['Telangana'],color = '#007acc',alpha=0.5,)\n",
    "ax5.xaxis.set_major_locator(mdates.WeekdayLocator())\n",
    "ax5.xaxis.set_major_formatter(mdates.DateFormatter('%b %d'))\n",
    "ax5.set_xticks(ax5.get_xticks()[::3])\n",
    "ax5.text(0.05, 0.9,'Telangana', transform = ax5.transAxes, fontsize=20);\n",
    "ax5.spines['right'].set_visible(False)\n",
    "ax5.spines['top'].set_visible(False)\n",
    "\n",
    "ax6 = fig.add_subplot(gs[1,4])\n",
    "ef = df.loc['Andhra Pradesh'].rename_axis('date').reset_index()\n",
    "ef['date'] = ef['date'].astype('datetime64[ns]')\n",
    "ax6.bar(ef.date, ef['Andhra Pradesh'],color = '#007acc',alpha=0.5,)\n",
    "ax6.xaxis.set_major_locator(mdates.WeekdayLocator())\n",
    "ax6.xaxis.set_major_formatter(mdates.DateFormatter('%b %d'))\n",
    "ax6.set_xticks(ax6.get_xticks()[::3])\n",
    "ax6.text(0.05, 1,'Andhra Pradesh', transform = ax6.transAxes, fontsize=20);\n",
    "ax6.spines['right'].set_visible(False)\n",
    "ax6.spines['top'].set_visible(False)\n",
    "\n",
    "ax4 = fig.add_subplot(gs[1,2])\n",
    "ef = df.loc['Delhi'].rename_axis('date').reset_index()\n",
    "ef['date'] = ef['date'].astype('datetime64[ns]')\n",
    "ax4.bar(ef.date, ef.Delhi,color = '#007acc',alpha=0.5)\n",
    "ax4.set_xticks([])\n",
    "ax4.xaxis.set_major_locator(mdates.WeekdayLocator())\n",
    "ax4.xaxis.set_major_formatter(mdates.DateFormatter('%b %d'))\n",
    "ax4.set_xticks(ax4.get_xticks()[::3])\n",
    "ax4.spines['right'].set_visible(False)\n",
    "ax4.spines['top'].set_visible(False)\n",
    "\n",
    "ax4.text(0.05, 1,'Delhi', transform = ax4.transAxes, fontsize=20)\n",
    "\n",
    "for i in range(n):\n",
    "    \n",
    "    ax.append(fig.add_subplot(gs[i+2,:]))\n",
    "    ef = df.iloc[i+3].rename_axis('date').reset_index()\n",
    "    ef['date'] = ef['date'].astype('datetime64[ns]')\n",
    "    ax[i].bar(ef.date,ef.iloc[:,-1],color = '#007acc',alpha=0.3)\n",
    "    ax[i].plot(ef.date,ef.iloc[:,-1],marker='o',color='#007acc')\n",
    "    ax[i].text(0.02,0.5,f'{ef.columns.values[-1]}',transform = ax[i].transAxes, fontsize = 20);\n",
    "    ax[i].xaxis.set_major_locator(mdates.WeekdayLocator())\n",
    "    ax[i].xaxis.set_major_formatter(mdates.DateFormatter('%b %d'))\n",
    "    ax[i].set_ylim([0,7000])\n",
    "    ax[i].spines['right'].set_visible(False)\n",
    "    ax[i].spines['top'].set_visible(False)\n",
    "plt.tight_layout()\n"
   ]
  },
  {
   "cell_type": "code",
   "execution_count": 20,
   "metadata": {
    "execution": {
     "iopub.execute_input": "2020-09-01T09:52:39.851673Z",
     "iopub.status.busy": "2020-09-01T09:52:39.850945Z",
     "iopub.status.idle": "2020-09-01T09:52:39.853463Z",
     "shell.execute_reply": "2020-09-01T09:52:39.854121Z"
    },
    "papermill": {
     "duration": 0.035493,
     "end_time": "2020-09-01T09:52:39.854310",
     "exception": false,
     "start_time": "2020-09-01T09:52:39.818817",
     "status": "completed"
    },
    "tags": []
   },
   "outputs": [
    {
     "name": "stdout",
     "output_type": "stream",
     "text": [
      "                                   states   Cases  Deaths  PCases  PDeaths  Cases (+)  Deaths (+)  Fatality Rate\n",
      "                              Maharashtra  792541   24583  792541    24583          0           0           3.10\n",
      "                           Andhra Pradesh  434771    3969  434771     3969          0           0           0.91\n",
      "                               Tamil Nadu  428041    7322  428041     7322          0           0           1.71\n",
      "                                Karnataka  342423    5702  342423     5702          0           0           1.67\n",
      "                            Uttar Pradesh  230414    3486  230414     3486          0           0           1.51\n",
      "                                    Delhi  174748    4444  174748     4444          0           0           2.54\n",
      "                              West Bengal  162778    3228  162778     3228          0           0           1.98\n",
      "                                    Bihar  136337     694  136337      694          0           0           0.51\n",
      "                                Telangana  127697     836  124963      827       2734           9           0.65\n",
      "                                    Assam  109041     306  109041      306          0           0           0.28\n",
      "                                   Odisha  106561     556  103536      545       3025          11           0.52\n",
      "                                  Gujarat   96435    3020   96435     3020          0           0           3.13\n",
      "                                Rajasthan   82363    1062   81693     1056        670           6           1.29\n",
      "                                   Kerala   75385     295   75385      295          0           0           0.39\n",
      "                                  Haryana   64732     689   64732      689          0           0           1.06\n",
      "                           Madhya Pradesh   63965    1394   63965     1394          0           0           2.18\n",
      "                                   Punjab   53992    1453   53992     1453          0           0           2.69\n",
      "                                Jharkhand   41656     417   41656      417          0           0           1.00\n",
      "                        Jammu and Kashmir   37698     703   37698      703          0           0           1.86\n",
      "                             Chhattisgarh   31503     277   31503      277          0           0           0.88\n",
      "                              Uttarakhand   19827     269   19827      269          0           0           1.36\n",
      "                                      Goa   17418     192   17418      192          0           0           1.10\n",
      "                               Puducherry   14411     228   14411      228          0           0           1.58\n",
      "                                  Tripura   12153     113   11644      103        509          10           0.93\n",
      "                                  Manipur    6252      28    6252       28          0           0           0.45\n",
      "                         Himachal Pradesh    6116      37    6116       37          0           0           0.60\n",
      "                               Chandigarh    4346      56    4346       56          0           0           1.29\n",
      "                        Arunachal Pradesh    4112       7    4112        7          0           0           0.17\n",
      "                                 Nagaland    3950       8    3950        8          0           0           0.20\n",
      "              Andaman and Nicobar Islands    3132      46    3132       46          0           0           1.47\n",
      "                                   Ladakh    2681      34    2681       34          0           0           1.27\n",
      "                                Meghalaya    2368      10    2368       10          0           0           0.42\n",
      " Dadra and Nagar Haveli and Daman and Diu    2367       2    2367        2          0           0           0.08\n",
      "                                   Sikkim    1652       3    1652        3          0           0           0.18\n",
      "                                  Mizoram    1012       0    1011        0          1           0           0.00\n",
      "                              Lakshadweep       0       0       0        0          0           0            NaN\n"
     ]
    }
   ],
   "source": [
    "#hide_input\n",
    "print(df_table.to_string(index=False))"
   ]
  },
  {
   "cell_type": "code",
   "execution_count": null,
   "metadata": {
    "papermill": {
     "duration": 0.024316,
     "end_time": "2020-09-01T09:52:39.903284",
     "exception": false,
     "start_time": "2020-09-01T09:52:39.878968",
     "status": "completed"
    },
    "tags": []
   },
   "outputs": [],
   "source": []
  },
  {
   "cell_type": "code",
   "execution_count": null,
   "metadata": {
    "papermill": {
     "duration": 0.024366,
     "end_time": "2020-09-01T09:52:39.951444",
     "exception": false,
     "start_time": "2020-09-01T09:52:39.927078",
     "status": "completed"
    },
    "tags": []
   },
   "outputs": [],
   "source": []
  }
 ],
 "metadata": {
  "kernelspec": {
   "display_name": "Python 3",
   "language": "python",
   "name": "python3"
  },
  "language_info": {
   "codemirror_mode": {
    "name": "ipython",
    "version": 3
   },
   "file_extension": ".py",
   "mimetype": "text/x-python",
   "name": "python",
   "nbconvert_exporter": "python",
   "pygments_lexer": "ipython3",
   "version": "3.6.12"
  },
  "papermill": {
   "duration": 9.756743,
   "end_time": "2020-09-01T09:52:40.385131",
   "environment_variables": {},
   "exception": null,
   "input_path": "latest.ipynb",
   "output_path": "latest.ipynb",
   "parameters": {},
   "start_time": "2020-09-01T09:52:30.628388",
   "version": "2.1.2"
  }
 },
 "nbformat": 4,
 "nbformat_minor": 4
}