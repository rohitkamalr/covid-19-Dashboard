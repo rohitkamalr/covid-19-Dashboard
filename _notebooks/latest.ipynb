{
 "cells": [
  {
   "cell_type": "markdown",
   "metadata": {
    "papermill": {
     "duration": 0.018778,
     "end_time": "2020-08-26T05:38:17.580240",
     "exception": false,
     "start_time": "2020-08-26T05:38:17.561462",
     "status": "completed"
    },
    "tags": []
   },
   "source": [
    "# Latest COVID-19 India Matplotlib Overview"
   ]
  },
  {
   "cell_type": "code",
   "execution_count": 1,
   "metadata": {
    "execution": {
     "iopub.execute_input": "2020-08-26T05:38:17.618802Z",
     "iopub.status.busy": "2020-08-26T05:38:17.618170Z",
     "iopub.status.idle": "2020-08-26T05:38:18.214248Z",
     "shell.execute_reply": "2020-08-26T05:38:18.213770Z"
    },
    "papermill": {
     "duration": 0.617687,
     "end_time": "2020-08-26T05:38:18.214388",
     "exception": false,
     "start_time": "2020-08-26T05:38:17.596701",
     "status": "completed"
    },
    "tags": []
   },
   "outputs": [],
   "source": [
    "#hide\n",
    "import pandas as pd\n",
    "import numpy as np\n",
    "import requests\n",
    "import json\n",
    "import matplotlib.pyplot as plt\n",
    "import matplotlib.dates as mdates\n",
    "import matplotlib as mpl\n",
    "from IPython.core.display import display,HTML\n",
    "%matplotlib inline\n",
    "from datetime import date"
   ]
  },
  {
   "cell_type": "code",
   "execution_count": 2,
   "metadata": {
    "execution": {
     "iopub.execute_input": "2020-08-26T05:38:18.254139Z",
     "iopub.status.busy": "2020-08-26T05:38:18.253476Z",
     "iopub.status.idle": "2020-08-26T05:38:18.384434Z",
     "shell.execute_reply": "2020-08-26T05:38:18.383460Z"
    },
    "papermill": {
     "duration": 0.153963,
     "end_time": "2020-08-26T05:38:18.384595",
     "exception": false,
     "start_time": "2020-08-26T05:38:18.230632",
     "status": "completed"
    },
    "tags": []
   },
   "outputs": [],
   "source": [
    "#hide\n",
    "df  = pd.read_csv('https://api.covid19india.org/csv/latest/states.csv')\n",
    "df = df[['Date','State','Confirmed','Deceased']]\n",
    "df = df.rename(columns={'Confirmed':'Cases', \"Deceased\":'Deaths'})\n",
    "df_cases = df[[\"Date\",'State','Cases']]\n",
    "df_deaths = df[['Date','State','Deaths']]\n",
    "df_cases1 = df_cases.groupby('Date')\n",
    "df_deaths1= df_deaths.groupby('Date')"
   ]
  },
  {
   "cell_type": "code",
   "execution_count": 3,
   "metadata": {
    "execution": {
     "iopub.execute_input": "2020-08-26T05:38:18.421480Z",
     "iopub.status.busy": "2020-08-26T05:38:18.420735Z",
     "iopub.status.idle": "2020-08-26T05:38:18.438638Z",
     "shell.execute_reply": "2020-08-26T05:38:18.439121Z"
    },
    "papermill": {
     "duration": 0.038769,
     "end_time": "2020-08-26T05:38:18.439266",
     "exception": false,
     "start_time": "2020-08-26T05:38:18.400497",
     "status": "completed"
    },
    "tags": []
   },
   "outputs": [],
   "source": [
    "#hide\n",
    "df_snap = pd.read_csv('data/SnapshotCases-28-July.csv')\n",
    "arr_states = df_snap['states'].unique()\n",
    "arr_dates = df['Date'].unique()\n",
    "df_snap = df_snap.set_index('states')"
   ]
  },
  {
   "cell_type": "code",
   "execution_count": 4,
   "metadata": {
    "execution": {
     "iopub.execute_input": "2020-08-26T05:38:18.477682Z",
     "iopub.status.busy": "2020-08-26T05:38:18.477059Z",
     "iopub.status.idle": "2020-08-26T05:38:18.480801Z",
     "shell.execute_reply": "2020-08-26T05:38:18.480300Z"
    },
    "papermill": {
     "duration": 0.025634,
     "end_time": "2020-08-26T05:38:18.480910",
     "exception": false,
     "start_time": "2020-08-26T05:38:18.455276",
     "status": "completed"
    },
    "tags": []
   },
   "outputs": [
    {
     "data": {
      "text/plain": [
       "array(['Andaman and Nicobar Islands', 'Andhra Pradesh',\n",
       "       'Arunachal Pradesh', 'Assam', 'Bihar', 'Chandigarh',\n",
       "       'Dadra and Nagar Haveli and Daman and Diu', 'Delhi', 'Goa',\n",
       "       'Gujarat', 'Haryana', 'Himachal Pradesh', 'Jammu and Kashmir',\n",
       "       'Jharkhand', 'Karnataka', 'Kerala', 'Lakshadweep',\n",
       "       'Madhya Pradesh', 'Maharashtra', 'Manipur', 'Meghalaya', 'Mizoram',\n",
       "       'Nagaland', 'Odisha', 'Puducherry', 'Punjab', 'Rajasthan',\n",
       "       'Sikkim', 'Tamil Nadu', 'Telangana', 'Tripura', 'Uttar Pradesh',\n",
       "       'West Bengal', 'Chhattisgarh', 'Ladakh', 'Uttarakhand'],\n",
       "      dtype=object)"
      ]
     },
     "execution_count": 4,
     "metadata": {},
     "output_type": "execute_result"
    }
   ],
   "source": [
    "#hide\n",
    "arr_states[-9] = 'Puducherry'\n",
    "arr_states[-10] = 'Odisha'\n",
    "arr_states[6] = 'Dadra and Nagar Haveli and Daman and Diu'\n",
    "arr_states = np.append(arr_states,np.array(['Chhattisgarh','Ladakh','Uttarakhand']))\n",
    "arr_states"
   ]
  },
  {
   "cell_type": "code",
   "execution_count": 5,
   "metadata": {
    "execution": {
     "iopub.execute_input": "2020-08-26T05:38:18.522937Z",
     "iopub.status.busy": "2020-08-26T05:38:18.521967Z",
     "iopub.status.idle": "2020-08-26T05:38:18.531385Z",
     "shell.execute_reply": "2020-08-26T05:38:18.530742Z"
    },
    "papermill": {
     "duration": 0.033985,
     "end_time": "2020-08-26T05:38:18.531509",
     "exception": false,
     "start_time": "2020-08-26T05:38:18.497524",
     "status": "completed"
    },
    "tags": []
   },
   "outputs": [],
   "source": [
    "#hide\n",
    "dates = []\n",
    "for i in arr_dates:\n",
    "    if i>='2020-07-01':\n",
    "        dates.append(i)\n",
    "dict = {'states':dates}\n",
    "for i in arr_states:\n",
    "    dict[i] = [0]*len(dates)\n",
    "dft_cases = pd.DataFrame(dict)\n",
    "dft_deaths = pd.DataFrame(dict)\n"
   ]
  },
  {
   "cell_type": "code",
   "execution_count": 6,
   "metadata": {
    "execution": {
     "iopub.execute_input": "2020-08-26T05:38:18.574462Z",
     "iopub.status.busy": "2020-08-26T05:38:18.573595Z",
     "iopub.status.idle": "2020-08-26T05:38:19.552828Z",
     "shell.execute_reply": "2020-08-26T05:38:19.552297Z"
    },
    "papermill": {
     "duration": 1.000915,
     "end_time": "2020-08-26T05:38:19.552969",
     "exception": false,
     "start_time": "2020-08-26T05:38:18.552054",
     "status": "completed"
    },
    "tags": []
   },
   "outputs": [],
   "source": [
    "#hide\n",
    "for i in range(len(dates)):\n",
    "    df1_deaths = df_deaths1.get_group(dates[i])\n",
    "    for j in range(len(df1_deaths.index)):\n",
    "        if df1_deaths.iloc[j,1] in arr_states:\n",
    "            dft_deaths.loc[i,df1_deaths.iloc[j,1]] = df1_deaths.iloc[j,2]\n",
    "dft_deaths = dft_deaths.set_index('states')"
   ]
  },
  {
   "cell_type": "code",
   "execution_count": 7,
   "metadata": {
    "execution": {
     "iopub.execute_input": "2020-08-26T05:38:19.594291Z",
     "iopub.status.busy": "2020-08-26T05:38:19.593716Z",
     "iopub.status.idle": "2020-08-26T05:38:20.554602Z",
     "shell.execute_reply": "2020-08-26T05:38:20.555108Z"
    },
    "papermill": {
     "duration": 0.982996,
     "end_time": "2020-08-26T05:38:20.555279",
     "exception": false,
     "start_time": "2020-08-26T05:38:19.572283",
     "status": "completed"
    },
    "tags": []
   },
   "outputs": [],
   "source": [
    "#hide\n",
    "for i in range(len(dates)):\n",
    "    df1_cases = df_cases1.get_group(dates[i])\n",
    "    for j in range(len(df1_cases.index)):\n",
    "        if df1_cases.iloc[j,1] in arr_states:\n",
    "            dft_cases.loc[i,df1_cases.iloc[j,1]] = df1_cases.iloc[j,2]\n",
    "dft_cases = dft_cases.set_index('states')"
   ]
  },
  {
   "cell_type": "code",
   "execution_count": 8,
   "metadata": {
    "execution": {
     "iopub.execute_input": "2020-08-26T05:38:20.593258Z",
     "iopub.status.busy": "2020-08-26T05:38:20.592372Z",
     "iopub.status.idle": "2020-08-26T05:38:20.597413Z",
     "shell.execute_reply": "2020-08-26T05:38:20.597996Z"
    },
    "papermill": {
     "duration": 0.026587,
     "end_time": "2020-08-26T05:38:20.598109",
     "exception": false,
     "start_time": "2020-08-26T05:38:20.571522",
     "status": "completed"
    },
    "tags": []
   },
   "outputs": [],
   "source": [
    "#hide\n",
    "dft_cases = dft_cases.T\n",
    "dft_deaths = dft_deaths.T\n",
    "dt_today = dates[-1]\n",
    "dt_yday = dates[-2]"
   ]
  },
  {
   "cell_type": "code",
   "execution_count": 9,
   "metadata": {
    "execution": {
     "iopub.execute_input": "2020-08-26T05:38:20.636323Z",
     "iopub.status.busy": "2020-08-26T05:38:20.635734Z",
     "iopub.status.idle": "2020-08-26T05:38:20.639582Z",
     "shell.execute_reply": "2020-08-26T05:38:20.638931Z"
    },
    "papermill": {
     "duration": 0.026207,
     "end_time": "2020-08-26T05:38:20.639752",
     "exception": false,
     "start_time": "2020-08-26T05:38:20.613545",
     "status": "completed"
    },
    "tags": []
   },
   "outputs": [],
   "source": [
    "#hide\n",
    "dft_cases = dft_cases.reset_index()\n",
    "dft_deaths = dft_deaths.reset_index()\n",
    "dft_cases = dft_cases.rename(columns = {'index':'state'})\n",
    "dft_deaths = dft_deaths.rename(columns = {'index':'state'})"
   ]
  },
  {
   "cell_type": "code",
   "execution_count": 10,
   "metadata": {
    "execution": {
     "iopub.execute_input": "2020-08-26T05:38:20.684708Z",
     "iopub.status.busy": "2020-08-26T05:38:20.684078Z",
     "iopub.status.idle": "2020-08-26T05:38:20.688746Z",
     "shell.execute_reply": "2020-08-26T05:38:20.688237Z"
    },
    "papermill": {
     "duration": 0.032891,
     "end_time": "2020-08-26T05:38:20.688848",
     "exception": false,
     "start_time": "2020-08-26T05:38:20.655957",
     "status": "completed"
    },
    "tags": []
   },
   "outputs": [],
   "source": [
    "#hide\n",
    "dfc_cases = dft_cases.groupby('state')[dt_today].sum()\n",
    "dfc_deaths = dft_deaths.groupby('state')[dt_today].sum()\n",
    "dfp_cases = dft_cases.groupby('state')[dt_yday].sum()\n",
    "dfp_deaths = dft_deaths.groupby('state')[dt_yday].sum()"
   ]
  },
  {
   "cell_type": "code",
   "execution_count": 11,
   "metadata": {
    "execution": {
     "iopub.execute_input": "2020-08-26T05:38:20.739669Z",
     "iopub.status.busy": "2020-08-26T05:38:20.731767Z",
     "iopub.status.idle": "2020-08-26T05:38:20.746400Z",
     "shell.execute_reply": "2020-08-26T05:38:20.745926Z"
    },
    "papermill": {
     "duration": 0.040221,
     "end_time": "2020-08-26T05:38:20.746515",
     "exception": false,
     "start_time": "2020-08-26T05:38:20.706294",
     "status": "completed"
    },
    "tags": []
   },
   "outputs": [
    {
     "data": {
      "text/html": [
       "<div>\n",
       "<style scoped>\n",
       "    .dataframe tbody tr th:only-of-type {\n",
       "        vertical-align: middle;\n",
       "    }\n",
       "\n",
       "    .dataframe tbody tr th {\n",
       "        vertical-align: top;\n",
       "    }\n",
       "\n",
       "    .dataframe thead th {\n",
       "        text-align: right;\n",
       "    }\n",
       "</style>\n",
       "<table border=\"1\" class=\"dataframe\">\n",
       "  <thead>\n",
       "    <tr style=\"text-align: right;\">\n",
       "      <th></th>\n",
       "      <th>states</th>\n",
       "      <th>Cases</th>\n",
       "      <th>Deaths</th>\n",
       "      <th>PCases</th>\n",
       "      <th>PDeaths</th>\n",
       "    </tr>\n",
       "  </thead>\n",
       "  <tbody>\n",
       "    <tr>\n",
       "      <th>0</th>\n",
       "      <td>Maharashtra</td>\n",
       "      <td>703823</td>\n",
       "      <td>22794</td>\n",
       "      <td>703823</td>\n",
       "      <td>22794</td>\n",
       "    </tr>\n",
       "    <tr>\n",
       "      <th>1</th>\n",
       "      <td>Tamil Nadu</td>\n",
       "      <td>391303</td>\n",
       "      <td>6721</td>\n",
       "      <td>391303</td>\n",
       "      <td>6721</td>\n",
       "    </tr>\n",
       "    <tr>\n",
       "      <th>2</th>\n",
       "      <td>Andhra Pradesh</td>\n",
       "      <td>371639</td>\n",
       "      <td>3460</td>\n",
       "      <td>371639</td>\n",
       "      <td>3460</td>\n",
       "    </tr>\n",
       "    <tr>\n",
       "      <th>3</th>\n",
       "      <td>Karnataka</td>\n",
       "      <td>291826</td>\n",
       "      <td>4958</td>\n",
       "      <td>291826</td>\n",
       "      <td>4958</td>\n",
       "    </tr>\n",
       "    <tr>\n",
       "      <th>4</th>\n",
       "      <td>Uttar Pradesh</td>\n",
       "      <td>197388</td>\n",
       "      <td>3059</td>\n",
       "      <td>197388</td>\n",
       "      <td>3059</td>\n",
       "    </tr>\n",
       "  </tbody>\n",
       "</table>\n",
       "</div>"
      ],
      "text/plain": [
       "           states   Cases  Deaths  PCases  PDeaths\n",
       "0     Maharashtra  703823   22794  703823    22794\n",
       "1      Tamil Nadu  391303    6721  391303     6721\n",
       "2  Andhra Pradesh  371639    3460  371639     3460\n",
       "3       Karnataka  291826    4958  291826     4958\n",
       "4   Uttar Pradesh  197388    3059  197388     3059"
      ]
     },
     "execution_count": 11,
     "metadata": {},
     "output_type": "execute_result"
    }
   ],
   "source": [
    "#hide\n",
    "df_table = pd.DataFrame({'states': dfc_cases.index, 'Cases': dfc_cases.values, 'Deaths': dfc_deaths.values, 'PCases': dfp_cases.values, 'PDeaths': dfp_deaths.values}).set_index('states')\n",
    "df_table = df_table.sort_values(by = ['Cases','Deaths'], ascending = [False, False])\n",
    "df_table = df_table.reset_index()\n",
    "df_table.head()"
   ]
  },
  {
   "cell_type": "code",
   "execution_count": 12,
   "metadata": {
    "execution": {
     "iopub.execute_input": "2020-08-26T05:38:20.789089Z",
     "iopub.status.busy": "2020-08-26T05:38:20.788058Z",
     "iopub.status.idle": "2020-08-26T05:38:20.796969Z",
     "shell.execute_reply": "2020-08-26T05:38:20.797464Z"
    },
    "papermill": {
     "duration": 0.034735,
     "end_time": "2020-08-26T05:38:20.797591",
     "exception": false,
     "start_time": "2020-08-26T05:38:20.762856",
     "status": "completed"
    },
    "tags": []
   },
   "outputs": [],
   "source": [
    "#hide\n",
    "for c in 'Cases, Deaths'.split(', '):\n",
    "    df_table[f'{c} (+)'] = (df_table[c] - df_table[f'P{c}']).clip(0)\n",
    "df_table['Fatality Rate'] = (100* df_table['Deaths']/ df_table['Cases']).round(2)"
   ]
  },
  {
   "cell_type": "code",
   "execution_count": 13,
   "metadata": {
    "execution": {
     "iopub.execute_input": "2020-08-26T05:38:21.088173Z",
     "iopub.status.busy": "2020-08-26T05:38:21.087508Z",
     "iopub.status.idle": "2020-08-26T05:38:21.096116Z",
     "shell.execute_reply": "2020-08-26T05:38:21.096593Z"
    },
    "papermill": {
     "duration": 0.201483,
     "end_time": "2020-08-26T05:38:21.096729",
     "exception": false,
     "start_time": "2020-08-26T05:38:20.895246",
     "status": "completed"
    },
    "tags": []
   },
   "outputs": [
    {
     "data": {
      "text/html": [
       "<div>\n",
       "<style scoped>\n",
       "    .dataframe tbody tr th:only-of-type {\n",
       "        vertical-align: middle;\n",
       "    }\n",
       "\n",
       "    .dataframe tbody tr th {\n",
       "        vertical-align: top;\n",
       "    }\n",
       "\n",
       "    .dataframe thead th {\n",
       "        text-align: right;\n",
       "    }\n",
       "</style>\n",
       "<table border=\"1\" class=\"dataframe\">\n",
       "  <thead>\n",
       "    <tr style=\"text-align: right;\">\n",
       "      <th></th>\n",
       "      <th>states</th>\n",
       "      <th>Cases</th>\n",
       "      <th>Deaths</th>\n",
       "      <th>PCases</th>\n",
       "      <th>PDeaths</th>\n",
       "      <th>Cases (+)</th>\n",
       "      <th>Deaths (+)</th>\n",
       "      <th>Fatality Rate</th>\n",
       "    </tr>\n",
       "  </thead>\n",
       "  <tbody>\n",
       "    <tr>\n",
       "      <th>0</th>\n",
       "      <td>Maharashtra</td>\n",
       "      <td>703823</td>\n",
       "      <td>22794</td>\n",
       "      <td>703823</td>\n",
       "      <td>22794</td>\n",
       "      <td>0</td>\n",
       "      <td>0</td>\n",
       "      <td>3.24</td>\n",
       "    </tr>\n",
       "    <tr>\n",
       "      <th>1</th>\n",
       "      <td>Tamil Nadu</td>\n",
       "      <td>391303</td>\n",
       "      <td>6721</td>\n",
       "      <td>391303</td>\n",
       "      <td>6721</td>\n",
       "      <td>0</td>\n",
       "      <td>0</td>\n",
       "      <td>1.72</td>\n",
       "    </tr>\n",
       "    <tr>\n",
       "      <th>2</th>\n",
       "      <td>Andhra Pradesh</td>\n",
       "      <td>371639</td>\n",
       "      <td>3460</td>\n",
       "      <td>371639</td>\n",
       "      <td>3460</td>\n",
       "      <td>0</td>\n",
       "      <td>0</td>\n",
       "      <td>0.93</td>\n",
       "    </tr>\n",
       "    <tr>\n",
       "      <th>3</th>\n",
       "      <td>Karnataka</td>\n",
       "      <td>291826</td>\n",
       "      <td>4958</td>\n",
       "      <td>291826</td>\n",
       "      <td>4958</td>\n",
       "      <td>0</td>\n",
       "      <td>0</td>\n",
       "      <td>1.70</td>\n",
       "    </tr>\n",
       "    <tr>\n",
       "      <th>4</th>\n",
       "      <td>Uttar Pradesh</td>\n",
       "      <td>197388</td>\n",
       "      <td>3059</td>\n",
       "      <td>197388</td>\n",
       "      <td>3059</td>\n",
       "      <td>0</td>\n",
       "      <td>0</td>\n",
       "      <td>1.55</td>\n",
       "    </tr>\n",
       "  </tbody>\n",
       "</table>\n",
       "</div>"
      ],
      "text/plain": [
       "           states   Cases  Deaths  PCases  PDeaths  Cases (+)  Deaths (+)  \\\n",
       "0     Maharashtra  703823   22794  703823    22794          0           0   \n",
       "1      Tamil Nadu  391303    6721  391303     6721          0           0   \n",
       "2  Andhra Pradesh  371639    3460  371639     3460          0           0   \n",
       "3       Karnataka  291826    4958  291826     4958          0           0   \n",
       "4   Uttar Pradesh  197388    3059  197388     3059          0           0   \n",
       "\n",
       "   Fatality Rate  \n",
       "0           3.24  \n",
       "1           1.72  \n",
       "2           0.93  \n",
       "3           1.70  \n",
       "4           1.55  "
      ]
     },
     "execution_count": 13,
     "metadata": {},
     "output_type": "execute_result"
    }
   ],
   "source": [
    "#hide\n",
    "df_table.head()"
   ]
  },
  {
   "cell_type": "code",
   "execution_count": 14,
   "metadata": {
    "execution": {
     "iopub.execute_input": "2020-08-26T05:38:21.240810Z",
     "iopub.status.busy": "2020-08-26T05:38:21.240202Z",
     "iopub.status.idle": "2020-08-26T05:38:21.257811Z",
     "shell.execute_reply": "2020-08-26T05:38:21.258276Z"
    },
    "papermill": {
     "duration": 0.144609,
     "end_time": "2020-08-26T05:38:21.258416",
     "exception": false,
     "start_time": "2020-08-26T05:38:21.113807",
     "status": "completed"
    },
    "tags": []
   },
   "outputs": [
    {
     "data": {
      "text/plain": [
       "{'updated': '2020-08-26',\n",
       " 'since': '2020-08-25',\n",
       " 'Cases': 3235725,\n",
       " 'PCases': 3231754,\n",
       " 'Deaths': 59632,\n",
       " 'PDeaths': 59612,\n",
       " 'Cases (+)': 3971,\n",
       " 'Deaths (+)': 20}"
      ]
     },
     "execution_count": 14,
     "metadata": {},
     "output_type": "execute_result"
    }
   ],
   "source": [
    "#hide\n",
    "summary = {'updated':dates[-1], 'since':dates[-2]}\n",
    "list_names = ['Cases', 'PCases', 'Deaths', 'PDeaths', 'Cases (+)', 'Deaths (+)']\n",
    "for name in list_names:\n",
    "    summary[name] = df_table.sum()[name]\n",
    "summary"
   ]
  },
  {
   "cell_type": "code",
   "execution_count": 15,
   "metadata": {
    "execution": {
     "iopub.execute_input": "2020-08-26T05:38:21.297012Z",
     "iopub.status.busy": "2020-08-26T05:38:21.296374Z",
     "iopub.status.idle": "2020-08-26T05:38:21.298305Z",
     "shell.execute_reply": "2020-08-26T05:38:21.298764Z"
    },
    "papermill": {
     "duration": 0.023926,
     "end_time": "2020-08-26T05:38:21.298886",
     "exception": false,
     "start_time": "2020-08-26T05:38:21.274960",
     "status": "completed"
    },
    "tags": []
   },
   "outputs": [],
   "source": [
    "#hide\n",
    "overview = '''\n",
    "<!-- #######  HTML!! #########-->\n",
    "<h1 style=\"color: #5e9ca0; text-align: center;\">India</h1>\n",
    "<p style=\"text-align: center;\">Last update: <strong>{update}</strong></p>\n",
    "<p style=\"text-align: center;\">Confirmed cases:</p>\n",
    "<p style=\"text-align: center;font-size:24px;\">{cases} (<span style=\"color: #ff0000;\">+{new}</span>)</p>\n",
    "<p style=\"text-align: center;\">Confirmed deaths:</p>\n",
    "<p style=\"text-align: center;font-size:24px;\">{deaths} (<span style=\"color: #ff0000;\">+{dnew}</span>)</p>\n",
    "'''"
   ]
  },
  {
   "cell_type": "code",
   "execution_count": 16,
   "metadata": {
    "execution": {
     "iopub.execute_input": "2020-08-26T05:38:21.338276Z",
     "iopub.status.busy": "2020-08-26T05:38:21.337678Z",
     "iopub.status.idle": "2020-08-26T05:38:21.341014Z",
     "shell.execute_reply": "2020-08-26T05:38:21.340432Z"
    },
    "papermill": {
     "duration": 0.025491,
     "end_time": "2020-08-26T05:38:21.341186",
     "exception": false,
     "start_time": "2020-08-26T05:38:21.315695",
     "status": "completed"
    },
    "tags": []
   },
   "outputs": [
    {
     "data": {
      "text/html": [
       "\n",
       "<!-- #######  HTML!! #########-->\n",
       "<h1 style=\"color: #5e9ca0; text-align: center;\">India</h1>\n",
       "<p style=\"text-align: center;\">Last update: <strong>2020-08-26</strong></p>\n",
       "<p style=\"text-align: center;\">Confirmed cases:</p>\n",
       "<p style=\"text-align: center;font-size:24px;\">3235725 (<span style=\"color: #ff0000;\">+3971</span>)</p>\n",
       "<p style=\"text-align: center;\">Confirmed deaths:</p>\n",
       "<p style=\"text-align: center;font-size:24px;\">59632 (<span style=\"color: #ff0000;\">+20</span>)</p>\n"
      ],
      "text/plain": [
       "<IPython.core.display.HTML object>"
      ]
     },
     "metadata": {},
     "output_type": "display_data"
    }
   ],
   "source": [
    "#hide_input\n",
    "update = summary['updated']\n",
    "cases = summary['Cases']\n",
    "new = summary['Cases (+)']\n",
    "deaths = summary['Deaths']\n",
    "dnew = summary['Deaths (+)']\n",
    "\n",
    "html = HTML(overview.format(update=update, cases=cases,new=new,deaths=deaths,dnew=dnew))\n",
    "\n",
    "display(html)"
   ]
  },
  {
   "cell_type": "code",
   "execution_count": 17,
   "metadata": {
    "execution": {
     "iopub.execute_input": "2020-08-26T05:38:21.383296Z",
     "iopub.status.busy": "2020-08-26T05:38:21.382702Z",
     "iopub.status.idle": "2020-08-26T05:38:21.388194Z",
     "shell.execute_reply": "2020-08-26T05:38:21.388709Z"
    },
    "papermill": {
     "duration": 0.03096,
     "end_time": "2020-08-26T05:38:21.388829",
     "exception": false,
     "start_time": "2020-08-26T05:38:21.357869",
     "status": "completed"
    },
    "tags": []
   },
   "outputs": [],
   "source": [
    "#hide\n",
    "dt_cols = list(dft_cases.columns[1:])\n",
    "dft_ct_new_cases = dft_cases.groupby('state')[dt_cols].sum().diff(axis=1).fillna(0).astype(int)\n",
    "dft_ct_new_cases.sort_values(by = dates[-1], ascending = False,inplace = True)"
   ]
  },
  {
   "cell_type": "code",
   "execution_count": 18,
   "metadata": {
    "execution": {
     "iopub.execute_input": "2020-08-26T05:38:21.441597Z",
     "iopub.status.busy": "2020-08-26T05:38:21.440789Z",
     "iopub.status.idle": "2020-08-26T05:38:21.443817Z",
     "shell.execute_reply": "2020-08-26T05:38:21.444335Z"
    },
    "papermill": {
     "duration": 0.038253,
     "end_time": "2020-08-26T05:38:21.444482",
     "exception": false,
     "start_time": "2020-08-26T05:38:21.406229",
     "status": "completed"
    },
    "tags": []
   },
   "outputs": [
    {
     "data": {
      "text/html": [
       "<div>\n",
       "<style scoped>\n",
       "    .dataframe tbody tr th:only-of-type {\n",
       "        vertical-align: middle;\n",
       "    }\n",
       "\n",
       "    .dataframe tbody tr th {\n",
       "        vertical-align: top;\n",
       "    }\n",
       "\n",
       "    .dataframe thead th {\n",
       "        text-align: right;\n",
       "    }\n",
       "</style>\n",
       "<table border=\"1\" class=\"dataframe\">\n",
       "  <thead>\n",
       "    <tr style=\"text-align: right;\">\n",
       "      <th>states</th>\n",
       "      <th>2020-07-01</th>\n",
       "      <th>2020-07-02</th>\n",
       "      <th>2020-07-03</th>\n",
       "      <th>2020-07-04</th>\n",
       "      <th>2020-07-05</th>\n",
       "      <th>2020-07-06</th>\n",
       "      <th>2020-07-07</th>\n",
       "      <th>2020-07-08</th>\n",
       "      <th>2020-07-09</th>\n",
       "      <th>2020-07-10</th>\n",
       "      <th>...</th>\n",
       "      <th>2020-08-17</th>\n",
       "      <th>2020-08-18</th>\n",
       "      <th>2020-08-19</th>\n",
       "      <th>2020-08-20</th>\n",
       "      <th>2020-08-21</th>\n",
       "      <th>2020-08-22</th>\n",
       "      <th>2020-08-23</th>\n",
       "      <th>2020-08-24</th>\n",
       "      <th>2020-08-25</th>\n",
       "      <th>2020-08-26</th>\n",
       "    </tr>\n",
       "    <tr>\n",
       "      <th>state</th>\n",
       "      <th></th>\n",
       "      <th></th>\n",
       "      <th></th>\n",
       "      <th></th>\n",
       "      <th></th>\n",
       "      <th></th>\n",
       "      <th></th>\n",
       "      <th></th>\n",
       "      <th></th>\n",
       "      <th></th>\n",
       "      <th></th>\n",
       "      <th></th>\n",
       "      <th></th>\n",
       "      <th></th>\n",
       "      <th></th>\n",
       "      <th></th>\n",
       "      <th></th>\n",
       "      <th></th>\n",
       "      <th></th>\n",
       "      <th></th>\n",
       "      <th></th>\n",
       "    </tr>\n",
       "  </thead>\n",
       "  <tbody>\n",
       "    <tr>\n",
       "      <th>Telangana</th>\n",
       "      <td>0</td>\n",
       "      <td>1213</td>\n",
       "      <td>1892</td>\n",
       "      <td>1850</td>\n",
       "      <td>1590</td>\n",
       "      <td>1831</td>\n",
       "      <td>1879</td>\n",
       "      <td>1924</td>\n",
       "      <td>1410</td>\n",
       "      <td>1278</td>\n",
       "      <td>...</td>\n",
       "      <td>894</td>\n",
       "      <td>1682</td>\n",
       "      <td>1763</td>\n",
       "      <td>1724</td>\n",
       "      <td>1967</td>\n",
       "      <td>2474</td>\n",
       "      <td>2384</td>\n",
       "      <td>1842</td>\n",
       "      <td>2579</td>\n",
       "      <td>3018</td>\n",
       "    </tr>\n",
       "    <tr>\n",
       "      <th>Rajasthan</th>\n",
       "      <td>0</td>\n",
       "      <td>350</td>\n",
       "      <td>390</td>\n",
       "      <td>480</td>\n",
       "      <td>632</td>\n",
       "      <td>524</td>\n",
       "      <td>716</td>\n",
       "      <td>659</td>\n",
       "      <td>500</td>\n",
       "      <td>611</td>\n",
       "      <td>...</td>\n",
       "      <td>1334</td>\n",
       "      <td>1347</td>\n",
       "      <td>1312</td>\n",
       "      <td>1330</td>\n",
       "      <td>1335</td>\n",
       "      <td>1310</td>\n",
       "      <td>1345</td>\n",
       "      <td>1346</td>\n",
       "      <td>1370</td>\n",
       "      <td>610</td>\n",
       "    </tr>\n",
       "    <tr>\n",
       "      <th>Tripura</th>\n",
       "      <td>0</td>\n",
       "      <td>39</td>\n",
       "      <td>93</td>\n",
       "      <td>25</td>\n",
       "      <td>23</td>\n",
       "      <td>111</td>\n",
       "      <td>24</td>\n",
       "      <td>57</td>\n",
       "      <td>16</td>\n",
       "      <td>142</td>\n",
       "      <td>...</td>\n",
       "      <td>143</td>\n",
       "      <td>205</td>\n",
       "      <td>236</td>\n",
       "      <td>190</td>\n",
       "      <td>256</td>\n",
       "      <td>280</td>\n",
       "      <td>331</td>\n",
       "      <td>200</td>\n",
       "      <td>293</td>\n",
       "      <td>329</td>\n",
       "    </tr>\n",
       "    <tr>\n",
       "      <th>Mizoram</th>\n",
       "      <td>0</td>\n",
       "      <td>2</td>\n",
       "      <td>0</td>\n",
       "      <td>2</td>\n",
       "      <td>22</td>\n",
       "      <td>11</td>\n",
       "      <td>1</td>\n",
       "      <td>5</td>\n",
       "      <td>0</td>\n",
       "      <td>23</td>\n",
       "      <td>...</td>\n",
       "      <td>12</td>\n",
       "      <td>26</td>\n",
       "      <td>45</td>\n",
       "      <td>14</td>\n",
       "      <td>21</td>\n",
       "      <td>8</td>\n",
       "      <td>15</td>\n",
       "      <td>0</td>\n",
       "      <td>35</td>\n",
       "      <td>14</td>\n",
       "    </tr>\n",
       "    <tr>\n",
       "      <th>Andaman and Nicobar Islands</th>\n",
       "      <td>0</td>\n",
       "      <td>9</td>\n",
       "      <td>7</td>\n",
       "      <td>3</td>\n",
       "      <td>6</td>\n",
       "      <td>16</td>\n",
       "      <td>6</td>\n",
       "      <td>2</td>\n",
       "      <td>7</td>\n",
       "      <td>0</td>\n",
       "      <td>...</td>\n",
       "      <td>46</td>\n",
       "      <td>84</td>\n",
       "      <td>75</td>\n",
       "      <td>76</td>\n",
       "      <td>67</td>\n",
       "      <td>61</td>\n",
       "      <td>52</td>\n",
       "      <td>44</td>\n",
       "      <td>41</td>\n",
       "      <td>0</td>\n",
       "    </tr>\n",
       "  </tbody>\n",
       "</table>\n",
       "<p>5 rows × 57 columns</p>\n",
       "</div>"
      ],
      "text/plain": [
       "states                       2020-07-01  2020-07-02  2020-07-03  2020-07-04  \\\n",
       "state                                                                         \n",
       "Telangana                             0        1213        1892        1850   \n",
       "Rajasthan                             0         350         390         480   \n",
       "Tripura                               0          39          93          25   \n",
       "Mizoram                               0           2           0           2   \n",
       "Andaman and Nicobar Islands           0           9           7           3   \n",
       "\n",
       "states                       2020-07-05  2020-07-06  2020-07-07  2020-07-08  \\\n",
       "state                                                                         \n",
       "Telangana                          1590        1831        1879        1924   \n",
       "Rajasthan                           632         524         716         659   \n",
       "Tripura                              23         111          24          57   \n",
       "Mizoram                              22          11           1           5   \n",
       "Andaman and Nicobar Islands           6          16           6           2   \n",
       "\n",
       "states                       2020-07-09  2020-07-10  ...  2020-08-17  \\\n",
       "state                                                ...               \n",
       "Telangana                          1410        1278  ...         894   \n",
       "Rajasthan                           500         611  ...        1334   \n",
       "Tripura                              16         142  ...         143   \n",
       "Mizoram                               0          23  ...          12   \n",
       "Andaman and Nicobar Islands           7           0  ...          46   \n",
       "\n",
       "states                       2020-08-18  2020-08-19  2020-08-20  2020-08-21  \\\n",
       "state                                                                         \n",
       "Telangana                          1682        1763        1724        1967   \n",
       "Rajasthan                          1347        1312        1330        1335   \n",
       "Tripura                             205         236         190         256   \n",
       "Mizoram                              26          45          14          21   \n",
       "Andaman and Nicobar Islands          84          75          76          67   \n",
       "\n",
       "states                       2020-08-22  2020-08-23  2020-08-24  2020-08-25  \\\n",
       "state                                                                         \n",
       "Telangana                          2474        2384        1842        2579   \n",
       "Rajasthan                          1310        1345        1346        1370   \n",
       "Tripura                             280         331         200         293   \n",
       "Mizoram                               8          15           0          35   \n",
       "Andaman and Nicobar Islands          61          52          44          41   \n",
       "\n",
       "states                       2020-08-26  \n",
       "state                                    \n",
       "Telangana                          3018  \n",
       "Rajasthan                           610  \n",
       "Tripura                             329  \n",
       "Mizoram                              14  \n",
       "Andaman and Nicobar Islands           0  \n",
       "\n",
       "[5 rows x 57 columns]"
      ]
     },
     "execution_count": 18,
     "metadata": {},
     "output_type": "execute_result"
    }
   ],
   "source": [
    "#hide\n",
    "dft_ct_new_cases.head()"
   ]
  },
  {
   "cell_type": "code",
   "execution_count": 19,
   "metadata": {
    "execution": {
     "iopub.execute_input": "2020-08-26T05:38:21.499264Z",
     "iopub.status.busy": "2020-08-26T05:38:21.493876Z",
     "iopub.status.idle": "2020-08-26T05:38:24.881652Z",
     "shell.execute_reply": "2020-08-26T05:38:24.882148Z"
    },
    "papermill": {
     "duration": 3.419487,
     "end_time": "2020-08-26T05:38:24.882309",
     "exception": false,
     "start_time": "2020-08-26T05:38:21.462822",
     "status": "completed"
    },
    "tags": []
   },
   "outputs": [
    {
     "data": {
      "image/png": "[encoded data removed]",
      "text/plain": [
       "<Figure size 1296x2016 with 11 Axes>"
      ]
     },
     "metadata": {
      "needs_background": "light"
     },
     "output_type": "display_data"
    }
   ],
   "source": [
    "#hide_input\n",
    "df = dft_ct_new_cases.copy()\n",
    "df.loc['Total'] = df.sum()\n",
    "n = 5\n",
    "ax = []\n",
    "fig = plt.figure(figsize = (18,28))\n",
    "gs = fig.add_gridspec(n+2, 5)\n",
    "# gs = fig.add_gridspec(2, 3)\n",
    "ax1 = fig.add_subplot(gs[0, :])\n",
    "ef = df.loc['Total'].rename_axis('date').reset_index()\n",
    "ef['date'] = ef['date'].astype('datetime64[ns]')\n",
    "ax1.bar(ef.date,ef.Total,alpha=0.3,color='#007acc')\n",
    "ax1.plot(ef.date,ef.Total , marker=\"o\", color='#007acc')\n",
    "ax1.xaxis.set_major_locator(mdates.WeekdayLocator())\n",
    "ax1.xaxis.set_major_formatter(mdates.DateFormatter('%b %d'))\n",
    "ax1.text(0.02, 0.5,'India daily case count', transform = ax1.transAxes, fontsize=25);\n",
    "ax1.spines['right'].set_visible(False)\n",
    "ax1.spines['top'].set_visible(False)\n",
    "\n",
    "ax2 = fig.add_subplot(gs[1,0])\n",
    "ef = df.loc['Maharashtra'].rename_axis('date').reset_index()\n",
    "ef['date'] = ef['date'].astype('datetime64[ns]')\n",
    "\n",
    "ax2.bar(ef.date, ef.Maharashtra,color = '#007acc',alpha=0.5)\n",
    "ax2.xaxis.set_major_locator(mdates.WeekdayLocator())\n",
    "ax2.xaxis.set_major_formatter(mdates.DateFormatter('%b %d'))\n",
    "ax2.set_xticks(ax2.get_xticks()[::3])\n",
    "maxyval = ef.Maharashtra.max()\n",
    "ax2.set_ylim([0,maxyval])\n",
    "ax2.text(0.05, 0.9,'Maharashtra', transform = ax2.transAxes, fontsize=20);\n",
    "ax2.spines['right'].set_visible(False)\n",
    "ax2.spines['top'].set_visible(False)\n",
    "\n",
    "\n",
    "ax3 = fig.add_subplot(gs[1,1])\n",
    "ef = df.loc['Tamil Nadu'].rename_axis('date').reset_index()\n",
    "ef['date'] = ef['date'].astype('datetime64[ns]')\n",
    "ax3.bar(ef.date, ef['Tamil Nadu'],color = '#007acc',alpha=0.5,)\n",
    "ax3.xaxis.set_major_locator(mdates.WeekdayLocator())\n",
    "ax3.xaxis.set_major_formatter(mdates.DateFormatter('%b %d'))\n",
    "ax3.set_xticks(ax3.get_xticks()[::3])\n",
    "ax3.text(0.05, 0.9,'Tamil Nadu', transform = ax3.transAxes, fontsize=20);\n",
    "ax3.spines['right'].set_visible(False)\n",
    "ax3.spines['top'].set_visible(False)\n",
    "\n",
    "ax5 = fig.add_subplot(gs[1,3])\n",
    "ef = df.loc['Telangana'].rename_axis('date').reset_index()\n",
    "ef['date'] = ef['date'].astype('datetime64[ns]')\n",
    "ax5.bar(ef.date, ef['Telangana'],color = '#007acc',alpha=0.5,)\n",
    "ax5.xaxis.set_major_locator(mdates.WeekdayLocator())\n",
    "ax5.xaxis.set_major_formatter(mdates.DateFormatter('%b %d'))\n",
    "ax5.set_xticks(ax5.get_xticks()[::3])\n",
    "ax5.text(0.05, 0.9,'Telangana', transform = ax5.transAxes, fontsize=20);\n",
    "ax5.spines['right'].set_visible(False)\n",
    "ax5.spines['top'].set_visible(False)\n",
    "\n",
    "ax6 = fig.add_subplot(gs[1,4])\n",
    "ef = df.loc['Andhra Pradesh'].rename_axis('date').reset_index()\n",
    "ef['date'] = ef['date'].astype('datetime64[ns]')\n",
    "ax6.bar(ef.date, ef['Andhra Pradesh'],color = '#007acc',alpha=0.5,)\n",
    "ax6.xaxis.set_major_locator(mdates.WeekdayLocator())\n",
    "ax6.xaxis.set_major_formatter(mdates.DateFormatter('%b %d'))\n",
    "ax6.set_xticks(ax6.get_xticks()[::3])\n",
    "ax6.text(0.05, 1,'Andhra Pradesh', transform = ax6.transAxes, fontsize=20);\n",
    "ax6.spines['right'].set_visible(False)\n",
    "ax6.spines['top'].set_visible(False)\n",
    "\n",
    "ax4 = fig.add_subplot(gs[1,2])\n",
    "ef = df.loc['Delhi'].rename_axis('date').reset_index()\n",
    "ef['date'] = ef['date'].astype('datetime64[ns]')\n",
    "ax4.bar(ef.date, ef.Delhi,color = '#007acc',alpha=0.5)\n",
    "ax4.set_xticks([])\n",
    "ax4.xaxis.set_major_locator(mdates.WeekdayLocator())\n",
    "ax4.xaxis.set_major_formatter(mdates.DateFormatter('%b %d'))\n",
    "ax4.set_xticks(ax4.get_xticks()[::3])\n",
    "ax4.spines['right'].set_visible(False)\n",
    "ax4.spines['top'].set_visible(False)\n",
    "\n",
    "ax4.text(0.05, 1,'Delhi', transform = ax4.transAxes, fontsize=20)\n",
    "\n",
    "for i in range(n):\n",
    "    \n",
    "    ax.append(fig.add_subplot(gs[i+2,:]))\n",
    "    ef = df.iloc[i+3].rename_axis('date').reset_index()\n",
    "    ef['date'] = ef['date'].astype('datetime64[ns]')\n",
    "    ax[i].bar(ef.date,ef.iloc[:,-1],color = '#007acc',alpha=0.3)\n",
    "    ax[i].plot(ef.date,ef.iloc[:,-1],marker='o',color='#007acc')\n",
    "    ax[i].text(0.02,0.5,f'{ef.columns.values[-1]}',transform = ax[i].transAxes, fontsize = 20);\n",
    "    ax[i].xaxis.set_major_locator(mdates.WeekdayLocator())\n",
    "    ax[i].xaxis.set_major_formatter(mdates.DateFormatter('%b %d'))\n",
    "    ax[i].set_ylim([0,7000])\n",
    "    ax[i].spines['right'].set_visible(False)\n",
    "    ax[i].spines['top'].set_visible(False)\n",
    "plt.tight_layout()\n"
   ]
  },
  {
   "cell_type": "code",
   "execution_count": 20,
   "metadata": {
    "execution": {
     "iopub.execute_input": "2020-08-26T05:38:24.939521Z",
     "iopub.status.busy": "2020-08-26T05:38:24.938535Z",
     "iopub.status.idle": "2020-08-26T05:38:24.941660Z",
     "shell.execute_reply": "2020-08-26T05:38:24.942171Z"
    },
    "papermill": {
     "duration": 0.037634,
     "end_time": "2020-08-26T05:38:24.942320",
     "exception": false,
     "start_time": "2020-08-26T05:38:24.904686",
     "status": "completed"
    },
    "tags": []
   },
   "outputs": [
    {
     "name": "stdout",
     "output_type": "stream",
     "text": [
      "                                   states   Cases  Deaths  PCases  PDeaths  Cases (+)  Deaths (+)  Fatality Rate\n",
      "                              Maharashtra  703823   22794  703823    22794          0           0           3.24\n",
      "                               Tamil Nadu  391303    6721  391303     6721          0           0           1.72\n",
      "                           Andhra Pradesh  371639    3460  371639     3460          0           0           0.93\n",
      "                                Karnataka  291826    4958  291826     4958          0           0           1.70\n",
      "                            Uttar Pradesh  197388    3059  197388     3059          0           0           1.55\n",
      "                                    Delhi  164071    4330  164071     4330          0           0           2.64\n",
      "                              West Bengal  144801    2909  144801     2909          0           0           2.01\n",
      "                                    Bihar  124827     644  124827      644          0           0           0.52\n",
      "                                Telangana  111688     780  108670      770       3018          10           0.70\n",
      "                                    Assam   94593     260   94593      260          0           0           0.27\n",
      "                                  Gujarat   88942    2928   88942     2928          0           0           3.29\n",
      "                                   Odisha   84231     481   84231      481          0           0           0.57\n",
      "                                Rajasthan   73935     986   73325      980        610           6           1.33\n",
      "                                   Kerala   61879     245   61879      245          0           0           0.40\n",
      "                                  Haryana   56608     623   56608      623          0           0           1.10\n",
      "                           Madhya Pradesh   55800    1265   55800     1265          0           0           2.27\n",
      "                                   Punjab   44577    1178   44577     1178          0           0           2.64\n",
      "                        Jammu and Kashmir   33776     638   33776      638          0           0           1.89\n",
      "                                Jharkhand   32174     347   32174      347          0           0           1.08\n",
      "                             Chhattisgarh   23341     221   23341      221          0           0           0.95\n",
      "                              Uttarakhand   16014     213   16014      213          0           0           1.33\n",
      "                                      Goa   14530     157   14530      157          0           0           1.08\n",
      "                               Puducherry   11426     172   11426      172          0           0           1.51\n",
      "                                  Tripura    9539      83    9210       79        329           4           0.87\n",
      "                                  Manipur    5444      24    5444       24          0           0           0.44\n",
      "                         Himachal Pradesh    5154      29    5154       29          0           0           0.56\n",
      "                                 Nagaland    3752       8    3752        8          0           0           0.21\n",
      "                        Arunachal Pradesh    3412       5    3412        5          0           0           0.15\n",
      "                               Chandigarh    3209      40    3209       40          0           0           1.25\n",
      "              Andaman and Nicobar Islands    2945      37    2945       37          0           0           1.26\n",
      "                                   Ladakh    2420      24    2420       24          0           0           0.99\n",
      " Dadra and Nagar Haveli and Daman and Diu    2198       2    2198        2          0           0           0.09\n",
      "                                Meghalaya    2018       8    2018        8          0           0           0.40\n",
      "                                   Sikkim    1475       3    1475        3          0           0           0.20\n",
      "                                  Mizoram     967       0     953        0         14           0           0.00\n",
      "                              Lakshadweep       0       0       0        0          0           0            NaN\n"
     ]
    }
   ],
   "source": [
    "#hide_input\n",
    "print(df_table.to_string(index=False))"
   ]
  },
  {
   "cell_type": "code",
   "execution_count": null,
   "metadata": {
    "papermill": {
     "duration": 0.027482,
     "end_time": "2020-08-26T05:38:24.993345",
     "exception": false,
     "start_time": "2020-08-26T05:38:24.965863",
     "status": "completed"
    },
    "tags": []
   },
   "outputs": [],
   "source": []
  },
  {
   "cell_type": "code",
   "execution_count": null,
   "metadata": {
    "papermill": {
     "duration": 0.025501,
     "end_time": "2020-08-26T05:38:25.045858",
     "exception": false,
     "start_time": "2020-08-26T05:38:25.020357",
     "status": "completed"
    },
    "tags": []
   },
   "outputs": [],
   "source": []
  }
 ],
 "metadata": {
  "kernelspec": {
   "display_name": "Python 3",
   "language": "python",
   "name": "python3"
  },
  "language_info": {
   "codemirror_mode": {
    "name": "ipython",
    "version": 3
   },
   "file_extension": ".py",
   "mimetype": "text/x-python",
   "name": "python",
   "nbconvert_exporter": "python",
   "pygments_lexer": "ipython3",
   "version": "3.6.11"
  },
  "papermill": {
   "duration": 8.899615,
   "end_time": "2020-08-26T05:38:25.384692",
   "environment_variables": {},
   "exception": null,
   "input_path": "latest.ipynb",
   "output_path": "latest.ipynb",
   "parameters": {},
   "start_time": "2020-08-26T05:38:16.485077",
   "version": "2.1.2"
  }
 },
 "nbformat": 4,
 "nbformat_minor": 4
}