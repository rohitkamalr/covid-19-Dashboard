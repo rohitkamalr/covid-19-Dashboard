{
 "cells": [
  {
   "cell_type": "markdown",
   "metadata": {
    "papermill": {
     "duration": 0.01906,
     "end_time": "2020-12-31T13:43:42.920314",
     "exception": false,
     "start_time": "2020-12-31T13:43:42.901254",
     "status": "completed"
    },
    "tags": []
   },
   "source": [
    "# Latest COVID-19 India Matplotlib Overview"
   ]
  },
  {
   "cell_type": "code",
   "execution_count": 1,
   "metadata": {
    "execution": {
     "iopub.execute_input": "2020-12-31T13:43:42.960156Z",
     "iopub.status.busy": "2020-12-31T13:43:42.959545Z",
     "iopub.status.idle": "2020-12-31T13:43:43.529915Z",
     "shell.execute_reply": "2020-12-31T13:43:43.528995Z"
    },
    "papermill": {
     "duration": 0.595398,
     "end_time": "2020-12-31T13:43:43.530170",
     "exception": false,
     "start_time": "2020-12-31T13:43:42.934772",
     "status": "completed"
    },
    "tags": []
   },
   "outputs": [],
   "source": [
    "#hide\n",
    "import pandas as pd\n",
    "import numpy as np\n",
    "import requests\n",
    "import json\n",
    "import matplotlib.pyplot as plt\n",
    "import matplotlib.dates as mdates\n",
    "import matplotlib as mpl\n",
    "from IPython.core.display import display,HTML\n",
    "%matplotlib inline\n",
    "from datetime import date"
   ]
  },
  {
   "cell_type": "code",
   "execution_count": 2,
   "metadata": {
    "execution": {
     "iopub.execute_input": "2020-12-31T13:43:43.572608Z",
     "iopub.status.busy": "2020-12-31T13:43:43.572018Z",
     "iopub.status.idle": "2020-12-31T13:43:43.891229Z",
     "shell.execute_reply": "2020-12-31T13:43:43.890444Z"
    },
    "papermill": {
     "duration": 0.345538,
     "end_time": "2020-12-31T13:43:43.891431",
     "exception": false,
     "start_time": "2020-12-31T13:43:43.545893",
     "status": "completed"
    },
    "tags": []
   },
   "outputs": [],
   "source": [
    "#hide\n",
    "df  = pd.read_csv('https://api.covid19india.org/csv/latest/states.csv')\n",
    "df = df[['Date','State','Confirmed','Deceased']]\n",
    "df = df.rename(columns={'Confirmed':'Cases', \"Deceased\":'Deaths'})\n",
    "df_cases = df[[\"Date\",'State','Cases']]\n",
    "df_deaths = df[['Date','State','Deaths']]\n",
    "df_cases1 = df_cases.groupby('Date')\n",
    "df_deaths1= df_deaths.groupby('Date')"
   ]
  },
  {
   "cell_type": "code",
   "execution_count": 3,
   "metadata": {
    "execution": {
     "iopub.execute_input": "2020-12-31T13:43:43.929491Z",
     "iopub.status.busy": "2020-12-31T13:43:43.928885Z",
     "iopub.status.idle": "2020-12-31T13:43:43.950705Z",
     "shell.execute_reply": "2020-12-31T13:43:43.950028Z"
    },
    "papermill": {
     "duration": 0.042183,
     "end_time": "2020-12-31T13:43:43.950883",
     "exception": false,
     "start_time": "2020-12-31T13:43:43.908700",
     "status": "completed"
    },
    "tags": []
   },
   "outputs": [],
   "source": [
    "#hide\n",
    "df_snap = pd.read_csv('data/SnapshotCases-28-July.csv')\n",
    "arr_states = df_snap['states'].unique()\n",
    "arr_dates = df['Date'].unique()\n",
    "df_snap = df_snap.set_index('states')"
   ]
  },
  {
   "cell_type": "code",
   "execution_count": 4,
   "metadata": {
    "execution": {
     "iopub.execute_input": "2020-12-31T13:43:43.996277Z",
     "iopub.status.busy": "2020-12-31T13:43:43.995672Z",
     "iopub.status.idle": "2020-12-31T13:43:44.001950Z",
     "shell.execute_reply": "2020-12-31T13:43:44.002410Z"
    },
    "papermill": {
     "duration": 0.0295,
     "end_time": "2020-12-31T13:43:44.002570",
     "exception": false,
     "start_time": "2020-12-31T13:43:43.973070",
     "status": "completed"
    },
    "tags": []
   },
   "outputs": [
    {
     "data": {
      "text/plain": [
       "array(['Andaman and Nicobar Islands', 'Andhra Pradesh',\n",
       "       'Arunachal Pradesh', 'Assam', 'Bihar', 'Chandigarh',\n",
       "       'Dadra and Nagar Haveli and Daman and Diu', 'Delhi', 'Goa',\n",
       "       'Gujarat', 'Haryana', 'Himachal Pradesh', 'Jammu and Kashmir',\n",
       "       'Jharkhand', 'Karnataka', 'Kerala', 'Lakshadweep',\n",
       "       'Madhya Pradesh', 'Maharashtra', 'Manipur', 'Meghalaya', 'Mizoram',\n",
       "       'Nagaland', 'Odisha', 'Puducherry', 'Punjab', 'Rajasthan',\n",
       "       'Sikkim', 'Tamil Nadu', 'Telangana', 'Tripura', 'Uttar Pradesh',\n",
       "       'West Bengal', 'Chhattisgarh', 'Ladakh', 'Uttarakhand'],\n",
       "      dtype=object)"
      ]
     },
     "execution_count": 4,
     "metadata": {},
     "output_type": "execute_result"
    }
   ],
   "source": [
    "#hide\n",
    "arr_states[-9] = 'Puducherry'\n",
    "arr_states[-10] = 'Odisha'\n",
    "arr_states[6] = 'Dadra and Nagar Haveli and Daman and Diu'\n",
    "arr_states = np.append(arr_states,np.array(['Chhattisgarh','Ladakh','Uttarakhand']))\n",
    "arr_states"
   ]
  },
  {
   "cell_type": "code",
   "execution_count": 5,
   "metadata": {
    "execution": {
     "iopub.execute_input": "2020-12-31T13:43:44.047588Z",
     "iopub.status.busy": "2020-12-31T13:43:44.042507Z",
     "iopub.status.idle": "2020-12-31T13:43:44.050249Z",
     "shell.execute_reply": "2020-12-31T13:43:44.049733Z"
    },
    "papermill": {
     "duration": 0.032821,
     "end_time": "2020-12-31T13:43:44.050364",
     "exception": false,
     "start_time": "2020-12-31T13:43:44.017543",
     "status": "completed"
    },
    "tags": []
   },
   "outputs": [],
   "source": [
    "#hide\n",
    "dates = []\n",
    "for i in arr_dates:\n",
    "    if i>='2020-07-01':\n",
    "        dates.append(i)\n",
    "dict = {'states':dates}\n",
    "for i in arr_states:\n",
    "    dict[i] = [0]*len(dates)\n",
    "dft_cases = pd.DataFrame(dict)\n",
    "dft_deaths = pd.DataFrame(dict)\n"
   ]
  },
  {
   "cell_type": "code",
   "execution_count": 6,
   "metadata": {
    "execution": {
     "iopub.execute_input": "2020-12-31T13:43:44.088235Z",
     "iopub.status.busy": "2020-12-31T13:43:44.087686Z",
     "iopub.status.idle": "2020-12-31T13:43:46.567480Z",
     "shell.execute_reply": "2020-12-31T13:43:46.566574Z"
    },
    "papermill": {
     "duration": 2.502477,
     "end_time": "2020-12-31T13:43:46.567708",
     "exception": false,
     "start_time": "2020-12-31T13:43:44.065231",
     "status": "completed"
    },
    "tags": []
   },
   "outputs": [],
   "source": [
    "#hide\n",
    "for i in range(len(dates)):\n",
    "    df1_deaths = df_deaths1.get_group(dates[i])\n",
    "    for j in range(len(df1_deaths.index)):\n",
    "        if df1_deaths.iloc[j,1] in arr_states:\n",
    "            dft_deaths.loc[i,df1_deaths.iloc[j,1]] = df1_deaths.iloc[j,2]\n",
    "dft_deaths = dft_deaths.set_index('states')"
   ]
  },
  {
   "cell_type": "code",
   "execution_count": 7,
   "metadata": {
    "execution": {
     "iopub.execute_input": "2020-12-31T13:43:46.609347Z",
     "iopub.status.busy": "2020-12-31T13:43:46.608800Z",
     "iopub.status.idle": "2020-12-31T13:43:49.101260Z",
     "shell.execute_reply": "2020-12-31T13:43:49.102074Z"
    },
    "papermill": {
     "duration": 2.517003,
     "end_time": "2020-12-31T13:43:49.102330",
     "exception": false,
     "start_time": "2020-12-31T13:43:46.585327",
     "status": "completed"
    },
    "tags": []
   },
   "outputs": [],
   "source": [
    "#hide\n",
    "for i in range(len(dates)):\n",
    "    df1_cases = df_cases1.get_group(dates[i])\n",
    "    for j in range(len(df1_cases.index)):\n",
    "        if df1_cases.iloc[j,1] in arr_states:\n",
    "            dft_cases.loc[i,df1_cases.iloc[j,1]] = df1_cases.iloc[j,2]\n",
    "dft_cases = dft_cases.set_index('states')"
   ]
  },
  {
   "cell_type": "code",
   "execution_count": 8,
   "metadata": {
    "execution": {
     "iopub.execute_input": "2020-12-31T13:43:49.145476Z",
     "iopub.status.busy": "2020-12-31T13:43:49.141035Z",
     "iopub.status.idle": "2020-12-31T13:43:49.146406Z",
     "shell.execute_reply": "2020-12-31T13:43:49.147041Z"
    },
    "papermill": {
     "duration": 0.028338,
     "end_time": "2020-12-31T13:43:49.147215",
     "exception": false,
     "start_time": "2020-12-31T13:43:49.118877",
     "status": "completed"
    },
    "tags": []
   },
   "outputs": [],
   "source": [
    "#hide\n",
    "dft_cases = dft_cases.T\n",
    "dft_deaths = dft_deaths.T\n",
    "dt_today = dates[-1]\n",
    "dt_yday = dates[-2]"
   ]
  },
  {
   "cell_type": "code",
   "execution_count": 9,
   "metadata": {
    "execution": {
     "iopub.execute_input": "2020-12-31T13:43:49.185423Z",
     "iopub.status.busy": "2020-12-31T13:43:49.184872Z",
     "iopub.status.idle": "2020-12-31T13:43:49.188793Z",
     "shell.execute_reply": "2020-12-31T13:43:49.188256Z"
    },
    "papermill": {
     "duration": 0.026212,
     "end_time": "2020-12-31T13:43:49.188920",
     "exception": false,
     "start_time": "2020-12-31T13:43:49.162708",
     "status": "completed"
    },
    "tags": []
   },
   "outputs": [],
   "source": [
    "#hide\n",
    "dft_cases = dft_cases.reset_index()\n",
    "dft_deaths = dft_deaths.reset_index()\n",
    "dft_cases = dft_cases.rename(columns = {'index':'state'})\n",
    "dft_deaths = dft_deaths.rename(columns = {'index':'state'})"
   ]
  },
  {
   "cell_type": "code",
   "execution_count": 10,
   "metadata": {
    "execution": {
     "iopub.execute_input": "2020-12-31T13:43:49.231509Z",
     "iopub.status.busy": "2020-12-31T13:43:49.230891Z",
     "iopub.status.idle": "2020-12-31T13:43:49.232653Z",
     "shell.execute_reply": "2020-12-31T13:43:49.233121Z"
    },
    "papermill": {
     "duration": 0.029454,
     "end_time": "2020-12-31T13:43:49.233253",
     "exception": false,
     "start_time": "2020-12-31T13:43:49.203799",
     "status": "completed"
    },
    "tags": []
   },
   "outputs": [],
   "source": [
    "#hide\n",
    "dfc_cases = dft_cases.groupby('state')[dt_today].sum()\n",
    "dfc_deaths = dft_deaths.groupby('state')[dt_today].sum()\n",
    "dfp_cases = dft_cases.groupby('state')[dt_yday].sum()\n",
    "dfp_deaths = dft_deaths.groupby('state')[dt_yday].sum()"
   ]
  },
  {
   "cell_type": "code",
   "execution_count": 11,
   "metadata": {
    "execution": {
     "iopub.execute_input": "2020-12-31T13:43:49.282320Z",
     "iopub.status.busy": "2020-12-31T13:43:49.281664Z",
     "iopub.status.idle": "2020-12-31T13:43:49.288914Z",
     "shell.execute_reply": "2020-12-31T13:43:49.288454Z"
    },
    "papermill": {
     "duration": 0.040928,
     "end_time": "2020-12-31T13:43:49.289033",
     "exception": false,
     "start_time": "2020-12-31T13:43:49.248105",
     "status": "completed"
    },
    "tags": []
   },
   "outputs": [
    {
     "data": {
      "text/html": [
       "<div>\n",
       "<style scoped>\n",
       "    .dataframe tbody tr th:only-of-type {\n",
       "        vertical-align: middle;\n",
       "    }\n",
       "\n",
       "    .dataframe tbody tr th {\n",
       "        vertical-align: top;\n",
       "    }\n",
       "\n",
       "    .dataframe thead th {\n",
       "        text-align: right;\n",
       "    }\n",
       "</style>\n",
       "<table border=\"1\" class=\"dataframe\">\n",
       "  <thead>\n",
       "    <tr style=\"text-align: right;\">\n",
       "      <th></th>\n",
       "      <th>states</th>\n",
       "      <th>Cases</th>\n",
       "      <th>Deaths</th>\n",
       "      <th>PCases</th>\n",
       "      <th>PDeaths</th>\n",
       "    </tr>\n",
       "  </thead>\n",
       "  <tbody>\n",
       "    <tr>\n",
       "      <th>0</th>\n",
       "      <td>Maharashtra</td>\n",
       "      <td>1928603</td>\n",
       "      <td>49463</td>\n",
       "      <td>1928603</td>\n",
       "      <td>49463</td>\n",
       "    </tr>\n",
       "    <tr>\n",
       "      <th>1</th>\n",
       "      <td>Karnataka</td>\n",
       "      <td>918544</td>\n",
       "      <td>12081</td>\n",
       "      <td>918544</td>\n",
       "      <td>12081</td>\n",
       "    </tr>\n",
       "    <tr>\n",
       "      <th>2</th>\n",
       "      <td>Andhra Pradesh</td>\n",
       "      <td>881948</td>\n",
       "      <td>7104</td>\n",
       "      <td>881948</td>\n",
       "      <td>7104</td>\n",
       "    </tr>\n",
       "    <tr>\n",
       "      <th>3</th>\n",
       "      <td>Tamil Nadu</td>\n",
       "      <td>817077</td>\n",
       "      <td>12109</td>\n",
       "      <td>817077</td>\n",
       "      <td>12109</td>\n",
       "    </tr>\n",
       "    <tr>\n",
       "      <th>4</th>\n",
       "      <td>Kerala</td>\n",
       "      <td>755719</td>\n",
       "      <td>3043</td>\n",
       "      <td>755719</td>\n",
       "      <td>3043</td>\n",
       "    </tr>\n",
       "  </tbody>\n",
       "</table>\n",
       "</div>"
      ],
      "text/plain": [
       "           states    Cases  Deaths   PCases  PDeaths\n",
       "0     Maharashtra  1928603   49463  1928603    49463\n",
       "1       Karnataka   918544   12081   918544    12081\n",
       "2  Andhra Pradesh   881948    7104   881948     7104\n",
       "3      Tamil Nadu   817077   12109   817077    12109\n",
       "4          Kerala   755719    3043   755719     3043"
      ]
     },
     "execution_count": 11,
     "metadata": {},
     "output_type": "execute_result"
    }
   ],
   "source": [
    "#hide\n",
    "df_table = pd.DataFrame({'states': dfc_cases.index, 'Cases': dfc_cases.values, 'Deaths': dfc_deaths.values, 'PCases': dfp_cases.values, 'PDeaths': dfp_deaths.values}).set_index('states')\n",
    "df_table = df_table.sort_values(by = ['Cases','Deaths'], ascending = [False, False])\n",
    "df_table = df_table.reset_index()\n",
    "df_table.head()"
   ]
  },
  {
   "cell_type": "code",
   "execution_count": 12,
   "metadata": {
    "execution": {
     "iopub.execute_input": "2020-12-31T13:43:49.328175Z",
     "iopub.status.busy": "2020-12-31T13:43:49.327546Z",
     "iopub.status.idle": "2020-12-31T13:43:49.336399Z",
     "shell.execute_reply": "2020-12-31T13:43:49.337158Z"
    },
    "papermill": {
     "duration": 0.032277,
     "end_time": "2020-12-31T13:43:49.337311",
     "exception": false,
     "start_time": "2020-12-31T13:43:49.305034",
     "status": "completed"
    },
    "tags": []
   },
   "outputs": [],
   "source": [
    "#hide\n",
    "for c in 'Cases, Deaths'.split(', '):\n",
    "    df_table[f'{c} (+)'] = (df_table[c] - df_table[f'P{c}']).clip(0)\n",
    "df_table['Fatality Rate'] = (100* df_table['Deaths']/ df_table['Cases']).round(2)"
   ]
  },
  {
   "cell_type": "code",
   "execution_count": 13,
   "metadata": {
    "execution": {
     "iopub.execute_input": "2020-12-31T13:43:49.380423Z",
     "iopub.status.busy": "2020-12-31T13:43:49.379835Z",
     "iopub.status.idle": "2020-12-31T13:43:49.382889Z",
     "shell.execute_reply": "2020-12-31T13:43:49.382403Z"
    },
    "papermill": {
     "duration": 0.029586,
     "end_time": "2020-12-31T13:43:49.383008",
     "exception": false,
     "start_time": "2020-12-31T13:43:49.353422",
     "status": "completed"
    },
    "tags": []
   },
   "outputs": [
    {
     "data": {
      "text/html": [
       "<div>\n",
       "<style scoped>\n",
       "    .dataframe tbody tr th:only-of-type {\n",
       "        vertical-align: middle;\n",
       "    }\n",
       "\n",
       "    .dataframe tbody tr th {\n",
       "        vertical-align: top;\n",
       "    }\n",
       "\n",
       "    .dataframe thead th {\n",
       "        text-align: right;\n",
       "    }\n",
       "</style>\n",
       "<table border=\"1\" class=\"dataframe\">\n",
       "  <thead>\n",
       "    <tr style=\"text-align: right;\">\n",
       "      <th></th>\n",
       "      <th>states</th>\n",
       "      <th>Cases</th>\n",
       "      <th>Deaths</th>\n",
       "      <th>PCases</th>\n",
       "      <th>PDeaths</th>\n",
       "      <th>Cases (+)</th>\n",
       "      <th>Deaths (+)</th>\n",
       "      <th>Fatality Rate</th>\n",
       "    </tr>\n",
       "  </thead>\n",
       "  <tbody>\n",
       "    <tr>\n",
       "      <th>0</th>\n",
       "      <td>Maharashtra</td>\n",
       "      <td>1928603</td>\n",
       "      <td>49463</td>\n",
       "      <td>1928603</td>\n",
       "      <td>49463</td>\n",
       "      <td>0</td>\n",
       "      <td>0</td>\n",
       "      <td>2.56</td>\n",
       "    </tr>\n",
       "    <tr>\n",
       "      <th>1</th>\n",
       "      <td>Karnataka</td>\n",
       "      <td>918544</td>\n",
       "      <td>12081</td>\n",
       "      <td>918544</td>\n",
       "      <td>12081</td>\n",
       "      <td>0</td>\n",
       "      <td>0</td>\n",
       "      <td>1.32</td>\n",
       "    </tr>\n",
       "    <tr>\n",
       "      <th>2</th>\n",
       "      <td>Andhra Pradesh</td>\n",
       "      <td>881948</td>\n",
       "      <td>7104</td>\n",
       "      <td>881948</td>\n",
       "      <td>7104</td>\n",
       "      <td>0</td>\n",
       "      <td>0</td>\n",
       "      <td>0.81</td>\n",
       "    </tr>\n",
       "    <tr>\n",
       "      <th>3</th>\n",
       "      <td>Tamil Nadu</td>\n",
       "      <td>817077</td>\n",
       "      <td>12109</td>\n",
       "      <td>817077</td>\n",
       "      <td>12109</td>\n",
       "      <td>0</td>\n",
       "      <td>0</td>\n",
       "      <td>1.48</td>\n",
       "    </tr>\n",
       "    <tr>\n",
       "      <th>4</th>\n",
       "      <td>Kerala</td>\n",
       "      <td>755719</td>\n",
       "      <td>3043</td>\n",
       "      <td>755719</td>\n",
       "      <td>3043</td>\n",
       "      <td>0</td>\n",
       "      <td>0</td>\n",
       "      <td>0.40</td>\n",
       "    </tr>\n",
       "  </tbody>\n",
       "</table>\n",
       "</div>"
      ],
      "text/plain": [
       "           states    Cases  Deaths   PCases  PDeaths  Cases (+)  Deaths (+)  \\\n",
       "0     Maharashtra  1928603   49463  1928603    49463          0           0   \n",
       "1       Karnataka   918544   12081   918544    12081          0           0   \n",
       "2  Andhra Pradesh   881948    7104   881948     7104          0           0   \n",
       "3      Tamil Nadu   817077   12109   817077    12109          0           0   \n",
       "4          Kerala   755719    3043   755719     3043          0           0   \n",
       "\n",
       "   Fatality Rate  \n",
       "0           2.56  \n",
       "1           1.32  \n",
       "2           0.81  \n",
       "3           1.48  \n",
       "4           0.40  "
      ]
     },
     "execution_count": 13,
     "metadata": {},
     "output_type": "execute_result"
    }
   ],
   "source": [
    "#hide\n",
    "df_table.head()"
   ]
  },
  {
   "cell_type": "code",
   "execution_count": 14,
   "metadata": {
    "execution": {
     "iopub.execute_input": "2020-12-31T13:43:49.420439Z",
     "iopub.status.busy": "2020-12-31T13:43:49.419866Z",
     "iopub.status.idle": "2020-12-31T13:43:49.434873Z",
     "shell.execute_reply": "2020-12-31T13:43:49.434416Z"
    },
    "papermill": {
     "duration": 0.036026,
     "end_time": "2020-12-31T13:43:49.434986",
     "exception": false,
     "start_time": "2020-12-31T13:43:49.398960",
     "status": "completed"
    },
    "tags": []
   },
   "outputs": [
    {
     "data": {
      "text/plain": [
       "{'updated': '2020-12-31',\n",
       " 'since': '2020-12-30',\n",
       " 'Cases': 10268020,\n",
       " 'PCases': 10267283,\n",
       " 'Deaths': 148779,\n",
       " 'PDeaths': 148774,\n",
       " 'Cases (+)': 737,\n",
       " 'Deaths (+)': 5}"
      ]
     },
     "execution_count": 14,
     "metadata": {},
     "output_type": "execute_result"
    }
   ],
   "source": [
    "#hide\n",
    "summary = {'updated':dates[-1], 'since':dates[-2]}\n",
    "list_names = ['Cases', 'PCases', 'Deaths', 'PDeaths', 'Cases (+)', 'Deaths (+)']\n",
    "for name in list_names:\n",
    "    summary[name] = df_table.sum()[name]\n",
    "summary"
   ]
  },
  {
   "cell_type": "code",
   "execution_count": 15,
   "metadata": {
    "execution": {
     "iopub.execute_input": "2020-12-31T13:43:49.469099Z",
     "iopub.status.busy": "2020-12-31T13:43:49.468621Z",
     "iopub.status.idle": "2020-12-31T13:43:49.471398Z",
     "shell.execute_reply": "2020-12-31T13:43:49.471906Z"
    },
    "papermill": {
     "duration": 0.022855,
     "end_time": "2020-12-31T13:43:49.472039",
     "exception": false,
     "start_time": "2020-12-31T13:43:49.449184",
     "status": "completed"
    },
    "tags": []
   },
   "outputs": [],
   "source": [
    "#hide\n",
    "overview = '''\n",
    "<!-- #######  HTML!! #########-->\n",
    "<h1 style=\"color: #5e9ca0; text-align: center;\">India</h1>\n",
    "<p style=\"text-align: center;\">Last update: <strong>{update}</strong></p>\n",
    "<p style=\"text-align: center;\">Confirmed cases:</p>\n",
    "<p style=\"text-align: center;font-size:24px;\">{cases} (<span style=\"color: #ff0000;\">+{new}</span>)</p>\n",
    "<p style=\"text-align: center;\">Confirmed deaths:</p>\n",
    "<p style=\"text-align: center;font-size:24px;\">{deaths} (<span style=\"color: #ff0000;\">+{dnew}</span>)</p>\n",
    "'''"
   ]
  },
  {
   "cell_type": "code",
   "execution_count": 16,
   "metadata": {
    "execution": {
     "iopub.execute_input": "2020-12-31T13:43:49.510410Z",
     "iopub.status.busy": "2020-12-31T13:43:49.509873Z",
     "iopub.status.idle": "2020-12-31T13:43:49.513253Z",
     "shell.execute_reply": "2020-12-31T13:43:49.512770Z"
    },
    "papermill": {
     "duration": 0.025097,
     "end_time": "2020-12-31T13:43:49.513369",
     "exception": false,
     "start_time": "2020-12-31T13:43:49.488272",
     "status": "completed"
    },
    "tags": []
   },
   "outputs": [
    {
     "data": {
      "text/html": [
       "\n",
       "<!-- #######  HTML!! #########-->\n",
       "<h1 style=\"color: #5e9ca0; text-align: center;\">India</h1>\n",
       "<p style=\"text-align: center;\">Last update: <strong>2020-12-31</strong></p>\n",
       "<p style=\"text-align: center;\">Confirmed cases:</p>\n",
       "<p style=\"text-align: center;font-size:24px;\">10268020 (<span style=\"color: #ff0000;\">+737</span>)</p>\n",
       "<p style=\"text-align: center;\">Confirmed deaths:</p>\n",
       "<p style=\"text-align: center;font-size:24px;\">148779 (<span style=\"color: #ff0000;\">+5</span>)</p>\n"
      ],
      "text/plain": [
       "<IPython.core.display.HTML object>"
      ]
     },
     "metadata": {},
     "output_type": "display_data"
    }
   ],
   "source": [
    "#hide_input\n",
    "update = summary['updated']\n",
    "cases = summary['Cases']\n",
    "new = summary['Cases (+)']\n",
    "deaths = summary['Deaths']\n",
    "dnew = summary['Deaths (+)']\n",
    "\n",
    "html = HTML(overview.format(update=update, cases=cases,new=new,deaths=deaths,dnew=dnew))\n",
    "\n",
    "display(html)"
   ]
  },
  {
   "cell_type": "code",
   "execution_count": 17,
   "metadata": {
    "execution": {
     "iopub.execute_input": "2020-12-31T13:43:49.552248Z",
     "iopub.status.busy": "2020-12-31T13:43:49.551668Z",
     "iopub.status.idle": "2020-12-31T13:43:49.559451Z",
     "shell.execute_reply": "2020-12-31T13:43:49.558907Z"
    },
    "papermill": {
     "duration": 0.029364,
     "end_time": "2020-12-31T13:43:49.559564",
     "exception": false,
     "start_time": "2020-12-31T13:43:49.530200",
     "status": "completed"
    },
    "tags": []
   },
   "outputs": [],
   "source": [
    "#hide\n",
    "dt_cols = list(dft_cases.columns[1:])\n",
    "dft_ct_new_cases = dft_cases.groupby('state')[dt_cols].sum().diff(axis=1).fillna(0).astype(int)\n",
    "dft_ct_new_cases.sort_values(by = dates[-1], ascending = False,inplace = True)"
   ]
  },
  {
   "cell_type": "code",
   "execution_count": 18,
   "metadata": {
    "execution": {
     "iopub.execute_input": "2020-12-31T13:43:49.613571Z",
     "iopub.status.busy": "2020-12-31T13:43:49.612999Z",
     "iopub.status.idle": "2020-12-31T13:43:49.616023Z",
     "shell.execute_reply": "2020-12-31T13:43:49.615564Z"
    },
    "papermill": {
     "duration": 0.041027,
     "end_time": "2020-12-31T13:43:49.616132",
     "exception": false,
     "start_time": "2020-12-31T13:43:49.575105",
     "status": "completed"
    },
    "tags": []
   },
   "outputs": [
    {
     "data": {
      "text/html": [
       "<div>\n",
       "<style scoped>\n",
       "    .dataframe tbody tr th:only-of-type {\n",
       "        vertical-align: middle;\n",
       "    }\n",
       "\n",
       "    .dataframe tbody tr th {\n",
       "        vertical-align: top;\n",
       "    }\n",
       "\n",
       "    .dataframe thead th {\n",
       "        text-align: right;\n",
       "    }\n",
       "</style>\n",
       "<table border=\"1\" class=\"dataframe\">\n",
       "  <thead>\n",
       "    <tr style=\"text-align: right;\">\n",
       "      <th>states</th>\n",
       "      <th>2020-07-01</th>\n",
       "      <th>2020-07-02</th>\n",
       "      <th>2020-07-03</th>\n",
       "      <th>2020-07-04</th>\n",
       "      <th>2020-07-05</th>\n",
       "      <th>2020-07-06</th>\n",
       "      <th>2020-07-07</th>\n",
       "      <th>2020-07-08</th>\n",
       "      <th>2020-07-09</th>\n",
       "      <th>2020-07-10</th>\n",
       "      <th>...</th>\n",
       "      <th>2020-12-22</th>\n",
       "      <th>2020-12-23</th>\n",
       "      <th>2020-12-24</th>\n",
       "      <th>2020-12-25</th>\n",
       "      <th>2020-12-26</th>\n",
       "      <th>2020-12-27</th>\n",
       "      <th>2020-12-28</th>\n",
       "      <th>2020-12-29</th>\n",
       "      <th>2020-12-30</th>\n",
       "      <th>2020-12-31</th>\n",
       "    </tr>\n",
       "    <tr>\n",
       "      <th>state</th>\n",
       "      <th></th>\n",
       "      <th></th>\n",
       "      <th></th>\n",
       "      <th></th>\n",
       "      <th></th>\n",
       "      <th></th>\n",
       "      <th></th>\n",
       "      <th></th>\n",
       "      <th></th>\n",
       "      <th></th>\n",
       "      <th></th>\n",
       "      <th></th>\n",
       "      <th></th>\n",
       "      <th></th>\n",
       "      <th></th>\n",
       "      <th></th>\n",
       "      <th></th>\n",
       "      <th></th>\n",
       "      <th></th>\n",
       "      <th></th>\n",
       "      <th></th>\n",
       "    </tr>\n",
       "  </thead>\n",
       "  <tbody>\n",
       "    <tr>\n",
       "      <th>Telangana</th>\n",
       "      <td>0</td>\n",
       "      <td>1213</td>\n",
       "      <td>1892</td>\n",
       "      <td>1850</td>\n",
       "      <td>1590</td>\n",
       "      <td>1831</td>\n",
       "      <td>1879</td>\n",
       "      <td>1924</td>\n",
       "      <td>1410</td>\n",
       "      <td>1278</td>\n",
       "      <td>...</td>\n",
       "      <td>617</td>\n",
       "      <td>635</td>\n",
       "      <td>574</td>\n",
       "      <td>518</td>\n",
       "      <td>317</td>\n",
       "      <td>472</td>\n",
       "      <td>205</td>\n",
       "      <td>397</td>\n",
       "      <td>474</td>\n",
       "      <td>415</td>\n",
       "    </tr>\n",
       "    <tr>\n",
       "      <th>Odisha</th>\n",
       "      <td>0</td>\n",
       "      <td>229</td>\n",
       "      <td>561</td>\n",
       "      <td>495</td>\n",
       "      <td>469</td>\n",
       "      <td>456</td>\n",
       "      <td>571</td>\n",
       "      <td>527</td>\n",
       "      <td>577</td>\n",
       "      <td>755</td>\n",
       "      <td>...</td>\n",
       "      <td>319</td>\n",
       "      <td>364</td>\n",
       "      <td>263</td>\n",
       "      <td>325</td>\n",
       "      <td>334</td>\n",
       "      <td>303</td>\n",
       "      <td>234</td>\n",
       "      <td>263</td>\n",
       "      <td>305</td>\n",
       "      <td>315</td>\n",
       "    </tr>\n",
       "    <tr>\n",
       "      <th>Tripura</th>\n",
       "      <td>0</td>\n",
       "      <td>39</td>\n",
       "      <td>93</td>\n",
       "      <td>25</td>\n",
       "      <td>23</td>\n",
       "      <td>111</td>\n",
       "      <td>24</td>\n",
       "      <td>57</td>\n",
       "      <td>16</td>\n",
       "      <td>142</td>\n",
       "      <td>...</td>\n",
       "      <td>13</td>\n",
       "      <td>15</td>\n",
       "      <td>13</td>\n",
       "      <td>9</td>\n",
       "      <td>1</td>\n",
       "      <td>11</td>\n",
       "      <td>7</td>\n",
       "      <td>2</td>\n",
       "      <td>12</td>\n",
       "      <td>6</td>\n",
       "    </tr>\n",
       "    <tr>\n",
       "      <th>Dadra and Nagar Haveli and Daman and Diu</th>\n",
       "      <td>0</td>\n",
       "      <td>25</td>\n",
       "      <td>50</td>\n",
       "      <td>37</td>\n",
       "      <td>32</td>\n",
       "      <td>27</td>\n",
       "      <td>27</td>\n",
       "      <td>15</td>\n",
       "      <td>14</td>\n",
       "      <td>14</td>\n",
       "      <td>...</td>\n",
       "      <td>1</td>\n",
       "      <td>0</td>\n",
       "      <td>2</td>\n",
       "      <td>2</td>\n",
       "      <td>1</td>\n",
       "      <td>1</td>\n",
       "      <td>1</td>\n",
       "      <td>0</td>\n",
       "      <td>0</td>\n",
       "      <td>1</td>\n",
       "    </tr>\n",
       "    <tr>\n",
       "      <th>Andaman and Nicobar Islands</th>\n",
       "      <td>0</td>\n",
       "      <td>9</td>\n",
       "      <td>7</td>\n",
       "      <td>3</td>\n",
       "      <td>6</td>\n",
       "      <td>16</td>\n",
       "      <td>6</td>\n",
       "      <td>2</td>\n",
       "      <td>7</td>\n",
       "      <td>0</td>\n",
       "      <td>...</td>\n",
       "      <td>5</td>\n",
       "      <td>3</td>\n",
       "      <td>5</td>\n",
       "      <td>11</td>\n",
       "      <td>0</td>\n",
       "      <td>12</td>\n",
       "      <td>5</td>\n",
       "      <td>7</td>\n",
       "      <td>5</td>\n",
       "      <td>0</td>\n",
       "    </tr>\n",
       "  </tbody>\n",
       "</table>\n",
       "<p>5 rows × 184 columns</p>\n",
       "</div>"
      ],
      "text/plain": [
       "states                                    2020-07-01  2020-07-02  2020-07-03  \\\n",
       "state                                                                          \n",
       "Telangana                                          0        1213        1892   \n",
       "Odisha                                             0         229         561   \n",
       "Tripura                                            0          39          93   \n",
       "Dadra and Nagar Haveli and Daman and Diu           0          25          50   \n",
       "Andaman and Nicobar Islands                        0           9           7   \n",
       "\n",
       "states                                    2020-07-04  2020-07-05  2020-07-06  \\\n",
       "state                                                                          \n",
       "Telangana                                       1850        1590        1831   \n",
       "Odisha                                           495         469         456   \n",
       "Tripura                                           25          23         111   \n",
       "Dadra and Nagar Haveli and Daman and Diu          37          32          27   \n",
       "Andaman and Nicobar Islands                        3           6          16   \n",
       "\n",
       "states                                    2020-07-07  2020-07-08  2020-07-09  \\\n",
       "state                                                                          \n",
       "Telangana                                       1879        1924        1410   \n",
       "Odisha                                           571         527         577   \n",
       "Tripura                                           24          57          16   \n",
       "Dadra and Nagar Haveli and Daman and Diu          27          15          14   \n",
       "Andaman and Nicobar Islands                        6           2           7   \n",
       "\n",
       "states                                    2020-07-10  ...  2020-12-22  \\\n",
       "state                                                 ...               \n",
       "Telangana                                       1278  ...         617   \n",
       "Odisha                                           755  ...         319   \n",
       "Tripura                                          142  ...          13   \n",
       "Dadra and Nagar Haveli and Daman and Diu          14  ...           1   \n",
       "Andaman and Nicobar Islands                        0  ...           5   \n",
       "\n",
       "states                                    2020-12-23  2020-12-24  2020-12-25  \\\n",
       "state                                                                          \n",
       "Telangana                                        635         574         518   \n",
       "Odisha                                           364         263         325   \n",
       "Tripura                                           15          13           9   \n",
       "Dadra and Nagar Haveli and Daman and Diu           0           2           2   \n",
       "Andaman and Nicobar Islands                        3           5          11   \n",
       "\n",
       "states                                    2020-12-26  2020-12-27  2020-12-28  \\\n",
       "state                                                                          \n",
       "Telangana                                        317         472         205   \n",
       "Odisha                                           334         303         234   \n",
       "Tripura                                            1          11           7   \n",
       "Dadra and Nagar Haveli and Daman and Diu           1           1           1   \n",
       "Andaman and Nicobar Islands                        0          12           5   \n",
       "\n",
       "states                                    2020-12-29  2020-12-30  2020-12-31  \n",
       "state                                                                         \n",
       "Telangana                                        397         474         415  \n",
       "Odisha                                           263         305         315  \n",
       "Tripura                                            2          12           6  \n",
       "Dadra and Nagar Haveli and Daman and Diu           0           0           1  \n",
       "Andaman and Nicobar Islands                        7           5           0  \n",
       "\n",
       "[5 rows x 184 columns]"
      ]
     },
     "execution_count": 18,
     "metadata": {},
     "output_type": "execute_result"
    }
   ],
   "source": [
    "#hide\n",
    "dft_ct_new_cases.head()"
   ]
  },
  {
   "cell_type": "code",
   "execution_count": 19,
   "metadata": {
    "execution": {
     "iopub.execute_input": "2020-12-31T13:43:49.692383Z",
     "iopub.status.busy": "2020-12-31T13:43:49.691260Z",
     "iopub.status.idle": "2020-12-31T13:43:55.808606Z",
     "shell.execute_reply": "2020-12-31T13:43:55.804244Z"
    },
    "papermill": {
     "duration": 6.17598,
     "end_time": "2020-12-31T13:43:55.808742",
     "exception": false,
     "start_time": "2020-12-31T13:43:49.632762",
     "status": "completed"
    },
    "tags": []
   },
   "outputs": [
    {
     "data": {
      "image/png": "[encoded data removed]",
      "text/plain": [
       "<Figure size 1296x2016 with 11 Axes>"
      ]
     },
     "metadata": {
      "needs_background": "light"
     },
     "output_type": "display_data"
    }
   ],
   "source": [
    "#hide_input\n",
    "df = dft_ct_new_cases.copy()\n",
    "df.loc['Total'] = df.sum()\n",
    "n = 5\n",
    "ax = []\n",
    "fig = plt.figure(figsize = (18,28))\n",
    "gs = fig.add_gridspec(n+2, 5)\n",
    "# gs = fig.add_gridspec(2, 3)\n",
    "ax1 = fig.add_subplot(gs[0, :])\n",
    "ef = df.loc['Total'].rename_axis('date').reset_index()\n",
    "ef['date'] = ef['date'].astype('datetime64[ns]')\n",
    "ax1.bar(ef.date,ef.Total,alpha=0.3,color='#007acc')\n",
    "ax1.plot(ef.date,ef.Total , marker=\"o\", color='#007acc')\n",
    "ax1.xaxis.set_major_locator(mdates.WeekdayLocator())\n",
    "ax1.xaxis.set_major_formatter(mdates.DateFormatter('%b %d'))\n",
    "ax1.text(0.02, 0.5,'India daily case count', transform = ax1.transAxes, fontsize=25);\n",
    "ax1.spines['right'].set_visible(False)\n",
    "ax1.spines['top'].set_visible(False)\n",
    "\n",
    "ax2 = fig.add_subplot(gs[1,0])\n",
    "ef = df.loc['Maharashtra'].rename_axis('date').reset_index()\n",
    "ef['date'] = ef['date'].astype('datetime64[ns]')\n",
    "\n",
    "ax2.bar(ef.date, ef.Maharashtra,color = '#007acc',alpha=0.5)\n",
    "ax2.xaxis.set_major_locator(mdates.WeekdayLocator())\n",
    "ax2.xaxis.set_major_formatter(mdates.DateFormatter('%b %d'))\n",
    "ax2.set_xticks(ax2.get_xticks()[::3])\n",
    "maxyval = ef.Maharashtra.max()\n",
    "ax2.set_ylim([0,maxyval])\n",
    "ax2.text(0.05, 0.9,'Maharashtra', transform = ax2.transAxes, fontsize=20);\n",
    "ax2.spines['right'].set_visible(False)\n",
    "ax2.spines['top'].set_visible(False)\n",
    "\n",
    "\n",
    "ax3 = fig.add_subplot(gs[1,1])\n",
    "ef = df.loc['Tamil Nadu'].rename_axis('date').reset_index()\n",
    "ef['date'] = ef['date'].astype('datetime64[ns]')\n",
    "ax3.bar(ef.date, ef['Tamil Nadu'],color = '#007acc',alpha=0.5,)\n",
    "ax3.xaxis.set_major_locator(mdates.WeekdayLocator())\n",
    "ax3.xaxis.set_major_formatter(mdates.DateFormatter('%b %d'))\n",
    "ax3.set_xticks(ax3.get_xticks()[::3])\n",
    "ax3.text(0.05, 0.9,'Tamil Nadu', transform = ax3.transAxes, fontsize=20);\n",
    "ax3.spines['right'].set_visible(False)\n",
    "ax3.spines['top'].set_visible(False)\n",
    "\n",
    "ax5 = fig.add_subplot(gs[1,3])\n",
    "ef = df.loc['Telangana'].rename_axis('date').reset_index()\n",
    "ef['date'] = ef['date'].astype('datetime64[ns]')\n",
    "ax5.bar(ef.date, ef['Telangana'],color = '#007acc',alpha=0.5,)\n",
    "ax5.xaxis.set_major_locator(mdates.WeekdayLocator())\n",
    "ax5.xaxis.set_major_formatter(mdates.DateFormatter('%b %d'))\n",
    "ax5.set_xticks(ax5.get_xticks()[::3])\n",
    "ax5.text(0.05, 0.9,'Telangana', transform = ax5.transAxes, fontsize=20);\n",
    "ax5.spines['right'].set_visible(False)\n",
    "ax5.spines['top'].set_visible(False)\n",
    "\n",
    "ax6 = fig.add_subplot(gs[1,4])\n",
    "ef = df.loc['Andhra Pradesh'].rename_axis('date').reset_index()\n",
    "ef['date'] = ef['date'].astype('datetime64[ns]')\n",
    "ax6.bar(ef.date, ef['Andhra Pradesh'],color = '#007acc',alpha=0.5,)\n",
    "ax6.xaxis.set_major_locator(mdates.WeekdayLocator())\n",
    "ax6.xaxis.set_major_formatter(mdates.DateFormatter('%b %d'))\n",
    "ax6.set_xticks(ax6.get_xticks()[::3])\n",
    "ax6.text(0.05, 1,'Andhra Pradesh', transform = ax6.transAxes, fontsize=20);\n",
    "ax6.spines['right'].set_visible(False)\n",
    "ax6.spines['top'].set_visible(False)\n",
    "\n",
    "ax4 = fig.add_subplot(gs[1,2])\n",
    "ef = df.loc['Delhi'].rename_axis('date').reset_index()\n",
    "ef['date'] = ef['date'].astype('datetime64[ns]')\n",
    "ax4.bar(ef.date, ef.Delhi,color = '#007acc',alpha=0.5)\n",
    "ax4.set_xticks([])\n",
    "ax4.xaxis.set_major_locator(mdates.WeekdayLocator())\n",
    "ax4.xaxis.set_major_formatter(mdates.DateFormatter('%b %d'))\n",
    "ax4.set_xticks(ax4.get_xticks()[::3])\n",
    "ax4.spines['right'].set_visible(False)\n",
    "ax4.spines['top'].set_visible(False)\n",
    "\n",
    "ax4.text(0.05, 1,'Delhi', transform = ax4.transAxes, fontsize=20)\n",
    "\n",
    "for i in range(n):\n",
    "    \n",
    "    ax.append(fig.add_subplot(gs[i+2,:]))\n",
    "    ef = df.iloc[i+3].rename_axis('date').reset_index()\n",
    "    ef['date'] = ef['date'].astype('datetime64[ns]')\n",
    "    ax[i].bar(ef.date,ef.iloc[:,-1],color = '#007acc',alpha=0.3)\n",
    "    ax[i].plot(ef.date,ef.iloc[:,-1],marker='o',color='#007acc')\n",
    "    ax[i].text(0.02,0.5,f'{ef.columns.values[-1]}',transform = ax[i].transAxes, fontsize = 20);\n",
    "    ax[i].xaxis.set_major_locator(mdates.WeekdayLocator())\n",
    "    ax[i].xaxis.set_major_formatter(mdates.DateFormatter('%b %d'))\n",
    "    ax[i].set_ylim([0,7000])\n",
    "    ax[i].spines['right'].set_visible(False)\n",
    "    ax[i].spines['top'].set_visible(False)\n",
    "plt.tight_layout()\n"
   ]
  },
  {
   "cell_type": "code",
   "execution_count": 20,
   "metadata": {
    "execution": {
     "iopub.execute_input": "2020-12-31T13:43:56.107018Z",
     "iopub.status.busy": "2020-12-31T13:43:56.106397Z",
     "iopub.status.idle": "2020-12-31T13:43:56.108631Z",
     "shell.execute_reply": "2020-12-31T13:43:56.109156Z"
    },
    "papermill": {
     "duration": 0.278602,
     "end_time": "2020-12-31T13:43:56.109290",
     "exception": false,
     "start_time": "2020-12-31T13:43:55.830688",
     "status": "completed"
    },
    "tags": []
   },
   "outputs": [
    {
     "name": "stdout",
     "output_type": "stream",
     "text": [
      "                                   states    Cases  Deaths   PCases  PDeaths  Cases (+)  Deaths (+)  Fatality Rate\n",
      "                              Maharashtra  1928603   49463  1928603    49463          0           0           2.56\n",
      "                                Karnataka   918544   12081   918544    12081          0           0           1.32\n",
      "                           Andhra Pradesh   881948    7104   881948     7104          0           0           0.81\n",
      "                               Tamil Nadu   817077   12109   817077    12109          0           0           1.48\n",
      "                                   Kerala   755719    3043   755719     3043          0           0           0.40\n",
      "                                    Delhi   624795   10523   624795    10523          0           0           1.68\n",
      "                            Uttar Pradesh   584966    8352   584966     8352          0           0           1.43\n",
      "                              West Bengal   550893    9683   550893     9683          0           0           1.76\n",
      "                                   Odisha   329621    1926   329306     1924        315           2           0.58\n",
      "                                Rajasthan   307554    2689   307554     2689          0           0           0.87\n",
      "                                Telangana   286354    1541   285939     1538        415           3           0.54\n",
      "                             Chhattisgarh   278540    3350   278540     3350          0           0           1.20\n",
      "                                  Haryana   262054    2899   262054     2899          0           0           1.11\n",
      "                                    Bihar   252400    1393   252400     1393          0           0           0.55\n",
      "                                  Gujarat   244258    4302   244258     4302          0           0           1.76\n",
      "                           Madhya Pradesh   240946    3595   240946     3595          0           0           1.49\n",
      "                                    Assam   216139    1043   216139     1043          0           0           0.48\n",
      "                                   Punjab   166239    5331   166239     5331          0           0           3.21\n",
      "                        Jammu and Kashmir   120744    1880   120744     1880          0           0           1.56\n",
      "                                Jharkhand   114873    1027   114873     1027          0           0           0.89\n",
      "                              Uttarakhand    90616    1504    90616     1504          0           0           1.66\n",
      "                         Himachal Pradesh    55114     919    55114      919          0           0           1.67\n",
      "                                      Goa    50981     737    50981      737          0           0           1.45\n",
      "                               Puducherry    38096     633    38096      633          0           0           1.66\n",
      "                                  Tripura    33261     382    33255      382          6           0           1.15\n",
      "                                  Manipur    28137     354    28137      354          0           0           1.26\n",
      "                               Chandigarh    19682     316    19682      316          0           0           1.61\n",
      "                        Arunachal Pradesh    16711      56    16711       56          0           0           0.34\n",
      "                                Meghalaya    13408     139    13408      139          0           0           1.04\n",
      "                                 Nagaland    11921      79    11921       79          0           0           0.66\n",
      "                                   Ladakh     9447     127     9447      127          0           0           1.34\n",
      "                                   Sikkim     5877     127     5877      127          0           0           2.16\n",
      "              Andaman and Nicobar Islands     4941      62     4941       62          0           0           1.25\n",
      "                                  Mizoram     4199       8     4199        8          0           0           0.19\n",
      " Dadra and Nagar Haveli and Daman and Diu     3362       2     3361        2          1           0           0.06\n",
      "                              Lakshadweep        0       0        0        0          0           0            NaN\n"
     ]
    }
   ],
   "source": [
    "#hide_input\n",
    "print(df_table.to_string(index=False))"
   ]
  },
  {
   "cell_type": "code",
   "execution_count": null,
   "metadata": {
    "papermill": {
     "duration": 0.021973,
     "end_time": "2020-12-31T13:43:56.153429",
     "exception": false,
     "start_time": "2020-12-31T13:43:56.131456",
     "status": "completed"
    },
    "tags": []
   },
   "outputs": [],
   "source": []
  },
  {
   "cell_type": "code",
   "execution_count": null,
   "metadata": {
    "papermill": {
     "duration": 0.021485,
     "end_time": "2020-12-31T13:43:56.195552",
     "exception": false,
     "start_time": "2020-12-31T13:43:56.174067",
     "status": "completed"
    },
    "tags": []
   },
   "outputs": [],
   "source": []
  }
 ],
 "metadata": {
  "kernelspec": {
   "display_name": "Python 3",
   "language": "python",
   "name": "python3"
  },
  "language_info": {
   "codemirror_mode": {
    "name": "ipython",
    "version": 3
   },
   "file_extension": ".py",
   "mimetype": "text/x-python",
   "name": "python",
   "nbconvert_exporter": "python",
   "pygments_lexer": "ipython3",
   "version": "3.6.12"
  },
  "papermill": {
   "duration": 14.890957,
   "end_time": "2020-12-31T13:43:56.727573",
   "environment_variables": {},
   "exception": null,
   "input_path": "latest.ipynb",
   "output_path": "latest.ipynb",
   "parameters": {},
   "start_time": "2020-12-31T13:43:41.836616",
   "version": "2.1.2"
  }
 },
 "nbformat": 4,
 "nbformat_minor": 4
}