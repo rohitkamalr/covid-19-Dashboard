{
 "cells": [
  {
   "cell_type": "markdown",
   "metadata": {
    "papermill": {
     "duration": 0.022421,
     "end_time": "2020-09-05T10:57:58.952080",
     "exception": false,
     "start_time": "2020-09-05T10:57:58.929659",
     "status": "completed"
    },
    "tags": []
   },
   "source": [
    "# Latest COVID-19 India Matplotlib Overview"
   ]
  },
  {
   "cell_type": "code",
   "execution_count": 1,
   "metadata": {
    "execution": {
     "iopub.execute_input": "2020-09-05T10:57:58.998904Z",
     "iopub.status.busy": "2020-09-05T10:57:58.998255Z",
     "iopub.status.idle": "2020-09-05T10:57:59.670445Z",
     "shell.execute_reply": "2020-09-05T10:57:59.669327Z"
    },
    "papermill": {
     "duration": 0.698652,
     "end_time": "2020-09-05T10:57:59.670665",
     "exception": false,
     "start_time": "2020-09-05T10:57:58.972013",
     "status": "completed"
    },
    "tags": []
   },
   "outputs": [],
   "source": [
    "#hide\n",
    "import pandas as pd\n",
    "import numpy as np\n",
    "import requests\n",
    "import json\n",
    "import matplotlib.pyplot as plt\n",
    "import matplotlib.dates as mdates\n",
    "import matplotlib as mpl\n",
    "from IPython.core.display import display,HTML\n",
    "%matplotlib inline\n",
    "from datetime import date"
   ]
  },
  {
   "cell_type": "code",
   "execution_count": 2,
   "metadata": {
    "execution": {
     "iopub.execute_input": "2020-09-05T10:57:59.711329Z",
     "iopub.status.busy": "2020-09-05T10:57:59.710576Z",
     "iopub.status.idle": "2020-09-05T10:58:00.205649Z",
     "shell.execute_reply": "2020-09-05T10:58:00.205090Z"
    },
    "papermill": {
     "duration": 0.518195,
     "end_time": "2020-09-05T10:58:00.205790",
     "exception": false,
     "start_time": "2020-09-05T10:57:59.687595",
     "status": "completed"
    },
    "tags": []
   },
   "outputs": [],
   "source": [
    "#hide\n",
    "df  = pd.read_csv('https://api.covid19india.org/csv/latest/states.csv')\n",
    "df = df[['Date','State','Confirmed','Deceased']]\n",
    "df = df.rename(columns={'Confirmed':'Cases', \"Deceased\":'Deaths'})\n",
    "df_cases = df[[\"Date\",'State','Cases']]\n",
    "df_deaths = df[['Date','State','Deaths']]\n",
    "df_cases1 = df_cases.groupby('Date')\n",
    "df_deaths1= df_deaths.groupby('Date')"
   ]
  },
  {
   "cell_type": "code",
   "execution_count": 3,
   "metadata": {
    "execution": {
     "iopub.execute_input": "2020-09-05T10:58:00.246503Z",
     "iopub.status.busy": "2020-09-05T10:58:00.245858Z",
     "iopub.status.idle": "2020-09-05T10:58:00.265021Z",
     "shell.execute_reply": "2020-09-05T10:58:00.264312Z"
    },
    "papermill": {
     "duration": 0.043211,
     "end_time": "2020-09-05T10:58:00.265182",
     "exception": false,
     "start_time": "2020-09-05T10:58:00.221971",
     "status": "completed"
    },
    "tags": []
   },
   "outputs": [],
   "source": [
    "#hide\n",
    "df_snap = pd.read_csv('data/SnapshotCases-28-July.csv')\n",
    "arr_states = df_snap['states'].unique()\n",
    "arr_dates = df['Date'].unique()\n",
    "df_snap = df_snap.set_index('states')"
   ]
  },
  {
   "cell_type": "code",
   "execution_count": 4,
   "metadata": {
    "execution": {
     "iopub.execute_input": "2020-09-05T10:58:00.311695Z",
     "iopub.status.busy": "2020-09-05T10:58:00.311046Z",
     "iopub.status.idle": "2020-09-05T10:58:00.314408Z",
     "shell.execute_reply": "2020-09-05T10:58:00.313900Z"
    },
    "papermill": {
     "duration": 0.032063,
     "end_time": "2020-09-05T10:58:00.314542",
     "exception": false,
     "start_time": "2020-09-05T10:58:00.282479",
     "status": "completed"
    },
    "tags": []
   },
   "outputs": [
    {
     "data": {
      "text/plain": [
       "array(['Andaman and Nicobar Islands', 'Andhra Pradesh',\n",
       "       'Arunachal Pradesh', 'Assam', 'Bihar', 'Chandigarh',\n",
       "       'Dadra and Nagar Haveli and Daman and Diu', 'Delhi', 'Goa',\n",
       "       'Gujarat', 'Haryana', 'Himachal Pradesh', 'Jammu and Kashmir',\n",
       "       'Jharkhand', 'Karnataka', 'Kerala', 'Lakshadweep',\n",
       "       'Madhya Pradesh', 'Maharashtra', 'Manipur', 'Meghalaya', 'Mizoram',\n",
       "       'Nagaland', 'Odisha', 'Puducherry', 'Punjab', 'Rajasthan',\n",
       "       'Sikkim', 'Tamil Nadu', 'Telangana', 'Tripura', 'Uttar Pradesh',\n",
       "       'West Bengal', 'Chhattisgarh', 'Ladakh', 'Uttarakhand'],\n",
       "      dtype=object)"
      ]
     },
     "execution_count": 4,
     "metadata": {},
     "output_type": "execute_result"
    }
   ],
   "source": [
    "#hide\n",
    "arr_states[-9] = 'Puducherry'\n",
    "arr_states[-10] = 'Odisha'\n",
    "arr_states[6] = 'Dadra and Nagar Haveli and Daman and Diu'\n",
    "arr_states = np.append(arr_states,np.array(['Chhattisgarh','Ladakh','Uttarakhand']))\n",
    "arr_states"
   ]
  },
  {
   "cell_type": "code",
   "execution_count": 5,
   "metadata": {
    "execution": {
     "iopub.execute_input": "2020-09-05T10:58:00.358085Z",
     "iopub.status.busy": "2020-09-05T10:58:00.357384Z",
     "iopub.status.idle": "2020-09-05T10:58:00.364497Z",
     "shell.execute_reply": "2020-09-05T10:58:00.365149Z"
    },
    "papermill": {
     "duration": 0.034778,
     "end_time": "2020-09-05T10:58:00.365316",
     "exception": false,
     "start_time": "2020-09-05T10:58:00.330538",
     "status": "completed"
    },
    "tags": []
   },
   "outputs": [],
   "source": [
    "#hide\n",
    "dates = []\n",
    "for i in arr_dates:\n",
    "    if i>='2020-07-01':\n",
    "        dates.append(i)\n",
    "dict = {'states':dates}\n",
    "for i in arr_states:\n",
    "    dict[i] = [0]*len(dates)\n",
    "dft_cases = pd.DataFrame(dict)\n",
    "dft_deaths = pd.DataFrame(dict)\n"
   ]
  },
  {
   "cell_type": "code",
   "execution_count": 6,
   "metadata": {
    "execution": {
     "iopub.execute_input": "2020-09-05T10:58:00.407819Z",
     "iopub.status.busy": "2020-09-05T10:58:00.407173Z",
     "iopub.status.idle": "2020-09-05T10:58:01.391343Z",
     "shell.execute_reply": "2020-09-05T10:58:01.391870Z"
    },
    "papermill": {
     "duration": 1.011128,
     "end_time": "2020-09-05T10:58:01.392050",
     "exception": false,
     "start_time": "2020-09-05T10:58:00.380922",
     "status": "completed"
    },
    "tags": []
   },
   "outputs": [],
   "source": [
    "#hide\n",
    "for i in range(len(dates)):\n",
    "    df1_deaths = df_deaths1.get_group(dates[i])\n",
    "    for j in range(len(df1_deaths.index)):\n",
    "        if df1_deaths.iloc[j,1] in arr_states:\n",
    "            dft_deaths.loc[i,df1_deaths.iloc[j,1]] = df1_deaths.iloc[j,2]\n",
    "dft_deaths = dft_deaths.set_index('states')"
   ]
  },
  {
   "cell_type": "code",
   "execution_count": 7,
   "metadata": {
    "execution": {
     "iopub.execute_input": "2020-09-05T10:58:01.733067Z",
     "iopub.status.busy": "2020-09-05T10:58:01.431774Z",
     "iopub.status.idle": "2020-09-05T10:58:02.459461Z",
     "shell.execute_reply": "2020-09-05T10:58:02.458577Z"
    },
    "papermill": {
     "duration": 1.051326,
     "end_time": "2020-09-05T10:58:02.459611",
     "exception": false,
     "start_time": "2020-09-05T10:58:01.408285",
     "status": "completed"
    },
    "tags": []
   },
   "outputs": [],
   "source": [
    "#hide\n",
    "for i in range(len(dates)):\n",
    "    df1_cases = df_cases1.get_group(dates[i])\n",
    "    for j in range(len(df1_cases.index)):\n",
    "        if df1_cases.iloc[j,1] in arr_states:\n",
    "            dft_cases.loc[i,df1_cases.iloc[j,1]] = df1_cases.iloc[j,2]\n",
    "dft_cases = dft_cases.set_index('states')"
   ]
  },
  {
   "cell_type": "code",
   "execution_count": 8,
   "metadata": {
    "execution": {
     "iopub.execute_input": "2020-09-05T10:58:02.498848Z",
     "iopub.status.busy": "2020-09-05T10:58:02.497490Z",
     "iopub.status.idle": "2020-09-05T10:58:02.499538Z",
     "shell.execute_reply": "2020-09-05T10:58:02.500052Z"
    },
    "papermill": {
     "duration": 0.024604,
     "end_time": "2020-09-05T10:58:02.500212",
     "exception": false,
     "start_time": "2020-09-05T10:58:02.475608",
     "status": "completed"
    },
    "tags": []
   },
   "outputs": [],
   "source": [
    "#hide\n",
    "dft_cases = dft_cases.T\n",
    "dft_deaths = dft_deaths.T\n",
    "dt_today = dates[-1]\n",
    "dt_yday = dates[-2]"
   ]
  },
  {
   "cell_type": "code",
   "execution_count": 9,
   "metadata": {
    "execution": {
     "iopub.execute_input": "2020-09-05T10:58:02.540427Z",
     "iopub.status.busy": "2020-09-05T10:58:02.539790Z",
     "iopub.status.idle": "2020-09-05T10:58:02.542940Z",
     "shell.execute_reply": "2020-09-05T10:58:02.542455Z"
    },
    "papermill": {
     "duration": 0.027356,
     "end_time": "2020-09-05T10:58:02.543075",
     "exception": false,
     "start_time": "2020-09-05T10:58:02.515719",
     "status": "completed"
    },
    "tags": []
   },
   "outputs": [],
   "source": [
    "#hide\n",
    "dft_cases = dft_cases.reset_index()\n",
    "dft_deaths = dft_deaths.reset_index()\n",
    "dft_cases = dft_cases.rename(columns = {'index':'state'})\n",
    "dft_deaths = dft_deaths.rename(columns = {'index':'state'})"
   ]
  },
  {
   "cell_type": "code",
   "execution_count": 10,
   "metadata": {
    "execution": {
     "iopub.execute_input": "2020-09-05T10:58:02.587560Z",
     "iopub.status.busy": "2020-09-05T10:58:02.586918Z",
     "iopub.status.idle": "2020-09-05T10:58:02.591789Z",
     "shell.execute_reply": "2020-09-05T10:58:02.591257Z"
    },
    "papermill": {
     "duration": 0.032541,
     "end_time": "2020-09-05T10:58:02.591937",
     "exception": false,
     "start_time": "2020-09-05T10:58:02.559396",
     "status": "completed"
    },
    "tags": []
   },
   "outputs": [],
   "source": [
    "#hide\n",
    "dfc_cases = dft_cases.groupby('state')[dt_today].sum()\n",
    "dfc_deaths = dft_deaths.groupby('state')[dt_today].sum()\n",
    "dfp_cases = dft_cases.groupby('state')[dt_yday].sum()\n",
    "dfp_deaths = dft_deaths.groupby('state')[dt_yday].sum()"
   ]
  },
  {
   "cell_type": "code",
   "execution_count": 11,
   "metadata": {
    "execution": {
     "iopub.execute_input": "2020-09-05T10:58:02.641379Z",
     "iopub.status.busy": "2020-09-05T10:58:02.637785Z",
     "iopub.status.idle": "2020-09-05T10:58:02.644752Z",
     "shell.execute_reply": "2020-09-05T10:58:02.644186Z"
    },
    "papermill": {
     "duration": 0.037357,
     "end_time": "2020-09-05T10:58:02.644900",
     "exception": false,
     "start_time": "2020-09-05T10:58:02.607543",
     "status": "completed"
    },
    "tags": []
   },
   "outputs": [
    {
     "data": {
      "text/html": [
       "<div>\n",
       "<style scoped>\n",
       "    .dataframe tbody tr th:only-of-type {\n",
       "        vertical-align: middle;\n",
       "    }\n",
       "\n",
       "    .dataframe tbody tr th {\n",
       "        vertical-align: top;\n",
       "    }\n",
       "\n",
       "    .dataframe thead th {\n",
       "        text-align: right;\n",
       "    }\n",
       "</style>\n",
       "<table border=\"1\" class=\"dataframe\">\n",
       "  <thead>\n",
       "    <tr style=\"text-align: right;\">\n",
       "      <th></th>\n",
       "      <th>states</th>\n",
       "      <th>Cases</th>\n",
       "      <th>Deaths</th>\n",
       "      <th>PCases</th>\n",
       "      <th>PDeaths</th>\n",
       "    </tr>\n",
       "  </thead>\n",
       "  <tbody>\n",
       "    <tr>\n",
       "      <th>0</th>\n",
       "      <td>Maharashtra</td>\n",
       "      <td>863062</td>\n",
       "      <td>25964</td>\n",
       "      <td>863062</td>\n",
       "      <td>25964</td>\n",
       "    </tr>\n",
       "    <tr>\n",
       "      <th>1</th>\n",
       "      <td>Andhra Pradesh</td>\n",
       "      <td>476506</td>\n",
       "      <td>4276</td>\n",
       "      <td>476506</td>\n",
       "      <td>4276</td>\n",
       "    </tr>\n",
       "    <tr>\n",
       "      <th>2</th>\n",
       "      <td>Tamil Nadu</td>\n",
       "      <td>451827</td>\n",
       "      <td>7687</td>\n",
       "      <td>451827</td>\n",
       "      <td>7687</td>\n",
       "    </tr>\n",
       "    <tr>\n",
       "      <th>3</th>\n",
       "      <td>Karnataka</td>\n",
       "      <td>379486</td>\n",
       "      <td>6170</td>\n",
       "      <td>379486</td>\n",
       "      <td>6170</td>\n",
       "    </tr>\n",
       "    <tr>\n",
       "      <th>4</th>\n",
       "      <td>Uttar Pradesh</td>\n",
       "      <td>259765</td>\n",
       "      <td>3843</td>\n",
       "      <td>253175</td>\n",
       "      <td>3762</td>\n",
       "    </tr>\n",
       "  </tbody>\n",
       "</table>\n",
       "</div>"
      ],
      "text/plain": [
       "           states   Cases  Deaths  PCases  PDeaths\n",
       "0     Maharashtra  863062   25964  863062    25964\n",
       "1  Andhra Pradesh  476506    4276  476506     4276\n",
       "2      Tamil Nadu  451827    7687  451827     7687\n",
       "3       Karnataka  379486    6170  379486     6170\n",
       "4   Uttar Pradesh  259765    3843  253175     3762"
      ]
     },
     "execution_count": 11,
     "metadata": {},
     "output_type": "execute_result"
    }
   ],
   "source": [
    "#hide\n",
    "df_table = pd.DataFrame({'states': dfc_cases.index, 'Cases': dfc_cases.values, 'Deaths': dfc_deaths.values, 'PCases': dfp_cases.values, 'PDeaths': dfp_deaths.values}).set_index('states')\n",
    "df_table = df_table.sort_values(by = ['Cases','Deaths'], ascending = [False, False])\n",
    "df_table = df_table.reset_index()\n",
    "df_table.head()"
   ]
  },
  {
   "cell_type": "code",
   "execution_count": 12,
   "metadata": {
    "execution": {
     "iopub.execute_input": "2020-09-05T10:58:02.684956Z",
     "iopub.status.busy": "2020-09-05T10:58:02.684347Z",
     "iopub.status.idle": "2020-09-05T10:58:02.694234Z",
     "shell.execute_reply": "2020-09-05T10:58:02.693737Z"
    },
    "papermill": {
     "duration": 0.032027,
     "end_time": "2020-09-05T10:58:02.694380",
     "exception": false,
     "start_time": "2020-09-05T10:58:02.662353",
     "status": "completed"
    },
    "tags": []
   },
   "outputs": [],
   "source": [
    "#hide\n",
    "for c in 'Cases, Deaths'.split(', '):\n",
    "    df_table[f'{c} (+)'] = (df_table[c] - df_table[f'P{c}']).clip(0)\n",
    "df_table['Fatality Rate'] = (100* df_table['Deaths']/ df_table['Cases']).round(2)"
   ]
  },
  {
   "cell_type": "code",
   "execution_count": 13,
   "metadata": {
    "execution": {
     "iopub.execute_input": "2020-09-05T10:58:02.736159Z",
     "iopub.status.busy": "2020-09-05T10:58:02.735502Z",
     "iopub.status.idle": "2020-09-05T10:58:02.746165Z",
     "shell.execute_reply": "2020-09-05T10:58:02.745554Z"
    },
    "papermill": {
     "duration": 0.035118,
     "end_time": "2020-09-05T10:58:02.746304",
     "exception": false,
     "start_time": "2020-09-05T10:58:02.711186",
     "status": "completed"
    },
    "tags": []
   },
   "outputs": [
    {
     "data": {
      "text/html": [
       "<div>\n",
       "<style scoped>\n",
       "    .dataframe tbody tr th:only-of-type {\n",
       "        vertical-align: middle;\n",
       "    }\n",
       "\n",
       "    .dataframe tbody tr th {\n",
       "        vertical-align: top;\n",
       "    }\n",
       "\n",
       "    .dataframe thead th {\n",
       "        text-align: right;\n",
       "    }\n",
       "</style>\n",
       "<table border=\"1\" class=\"dataframe\">\n",
       "  <thead>\n",
       "    <tr style=\"text-align: right;\">\n",
       "      <th></th>\n",
       "      <th>states</th>\n",
       "      <th>Cases</th>\n",
       "      <th>Deaths</th>\n",
       "      <th>PCases</th>\n",
       "      <th>PDeaths</th>\n",
       "      <th>Cases (+)</th>\n",
       "      <th>Deaths (+)</th>\n",
       "      <th>Fatality Rate</th>\n",
       "    </tr>\n",
       "  </thead>\n",
       "  <tbody>\n",
       "    <tr>\n",
       "      <th>0</th>\n",
       "      <td>Maharashtra</td>\n",
       "      <td>863062</td>\n",
       "      <td>25964</td>\n",
       "      <td>863062</td>\n",
       "      <td>25964</td>\n",
       "      <td>0</td>\n",
       "      <td>0</td>\n",
       "      <td>3.01</td>\n",
       "    </tr>\n",
       "    <tr>\n",
       "      <th>1</th>\n",
       "      <td>Andhra Pradesh</td>\n",
       "      <td>476506</td>\n",
       "      <td>4276</td>\n",
       "      <td>476506</td>\n",
       "      <td>4276</td>\n",
       "      <td>0</td>\n",
       "      <td>0</td>\n",
       "      <td>0.90</td>\n",
       "    </tr>\n",
       "    <tr>\n",
       "      <th>2</th>\n",
       "      <td>Tamil Nadu</td>\n",
       "      <td>451827</td>\n",
       "      <td>7687</td>\n",
       "      <td>451827</td>\n",
       "      <td>7687</td>\n",
       "      <td>0</td>\n",
       "      <td>0</td>\n",
       "      <td>1.70</td>\n",
       "    </tr>\n",
       "    <tr>\n",
       "      <th>3</th>\n",
       "      <td>Karnataka</td>\n",
       "      <td>379486</td>\n",
       "      <td>6170</td>\n",
       "      <td>379486</td>\n",
       "      <td>6170</td>\n",
       "      <td>0</td>\n",
       "      <td>0</td>\n",
       "      <td>1.63</td>\n",
       "    </tr>\n",
       "    <tr>\n",
       "      <th>4</th>\n",
       "      <td>Uttar Pradesh</td>\n",
       "      <td>259765</td>\n",
       "      <td>3843</td>\n",
       "      <td>253175</td>\n",
       "      <td>3762</td>\n",
       "      <td>6590</td>\n",
       "      <td>81</td>\n",
       "      <td>1.48</td>\n",
       "    </tr>\n",
       "  </tbody>\n",
       "</table>\n",
       "</div>"
      ],
      "text/plain": [
       "           states   Cases  Deaths  PCases  PDeaths  Cases (+)  Deaths (+)  \\\n",
       "0     Maharashtra  863062   25964  863062    25964          0           0   \n",
       "1  Andhra Pradesh  476506    4276  476506     4276          0           0   \n",
       "2      Tamil Nadu  451827    7687  451827     7687          0           0   \n",
       "3       Karnataka  379486    6170  379486     6170          0           0   \n",
       "4   Uttar Pradesh  259765    3843  253175     3762       6590          81   \n",
       "\n",
       "   Fatality Rate  \n",
       "0           3.01  \n",
       "1           0.90  \n",
       "2           1.70  \n",
       "3           1.63  \n",
       "4           1.48  "
      ]
     },
     "execution_count": 13,
     "metadata": {},
     "output_type": "execute_result"
    }
   ],
   "source": [
    "#hide\n",
    "df_table.head()"
   ]
  },
  {
   "cell_type": "code",
   "execution_count": 14,
   "metadata": {
    "execution": {
     "iopub.execute_input": "2020-09-05T10:58:02.786995Z",
     "iopub.status.busy": "2020-09-05T10:58:02.786382Z",
     "iopub.status.idle": "2020-09-05T10:58:02.803701Z",
     "shell.execute_reply": "2020-09-05T10:58:02.804200Z"
    },
    "papermill": {
     "duration": 0.040518,
     "end_time": "2020-09-05T10:58:02.804359",
     "exception": false,
     "start_time": "2020-09-05T10:58:02.763841",
     "status": "completed"
    },
    "tags": []
   },
   "outputs": [
    {
     "data": {
      "text/plain": [
       "{'updated': '2020-09-05',\n",
       " 'since': '2020-09-04',\n",
       " 'Cases': 4034339,\n",
       " 'PCases': 4020239,\n",
       " 'Deaths': 69749,\n",
       " 'PDeaths': 69635,\n",
       " 'Cases (+)': 14100,\n",
       " 'Deaths (+)': 114}"
      ]
     },
     "execution_count": 14,
     "metadata": {},
     "output_type": "execute_result"
    }
   ],
   "source": [
    "#hide\n",
    "summary = {'updated':dates[-1], 'since':dates[-2]}\n",
    "list_names = ['Cases', 'PCases', 'Deaths', 'PDeaths', 'Cases (+)', 'Deaths (+)']\n",
    "for name in list_names:\n",
    "    summary[name] = df_table.sum()[name]\n",
    "summary"
   ]
  },
  {
   "cell_type": "code",
   "execution_count": 15,
   "metadata": {
    "execution": {
     "iopub.execute_input": "2020-09-05T10:58:02.848762Z",
     "iopub.status.busy": "2020-09-05T10:58:02.845586Z",
     "iopub.status.idle": "2020-09-05T10:58:02.849582Z",
     "shell.execute_reply": "2020-09-05T10:58:02.850093Z"
    },
    "papermill": {
     "duration": 0.028686,
     "end_time": "2020-09-05T10:58:02.850252",
     "exception": false,
     "start_time": "2020-09-05T10:58:02.821566",
     "status": "completed"
    },
    "tags": []
   },
   "outputs": [],
   "source": [
    "#hide\n",
    "overview = '''\n",
    "<!-- #######  HTML!! #########-->\n",
    "<h1 style=\"color: #5e9ca0; text-align: center;\">India</h1>\n",
    "<p style=\"text-align: center;\">Last update: <strong>{update}</strong></p>\n",
    "<p style=\"text-align: center;\">Confirmed cases:</p>\n",
    "<p style=\"text-align: center;font-size:24px;\">{cases} (<span style=\"color: #ff0000;\">+{new}</span>)</p>\n",
    "<p style=\"text-align: center;\">Confirmed deaths:</p>\n",
    "<p style=\"text-align: center;font-size:24px;\">{deaths} (<span style=\"color: #ff0000;\">+{dnew}</span>)</p>\n",
    "'''"
   ]
  },
  {
   "cell_type": "code",
   "execution_count": 16,
   "metadata": {
    "execution": {
     "iopub.execute_input": "2020-09-05T10:58:03.114890Z",
     "iopub.status.busy": "2020-09-05T10:58:03.112010Z",
     "iopub.status.idle": "2020-09-05T10:58:03.118905Z",
     "shell.execute_reply": "2020-09-05T10:58:03.118285Z"
    },
    "papermill": {
     "duration": 0.250957,
     "end_time": "2020-09-05T10:58:03.119088",
     "exception": false,
     "start_time": "2020-09-05T10:58:02.868131",
     "status": "completed"
    },
    "tags": []
   },
   "outputs": [
    {
     "data": {
      "text/html": [
       "\n",
       "<!-- #######  HTML!! #########-->\n",
       "<h1 style=\"color: #5e9ca0; text-align: center;\">India</h1>\n",
       "<p style=\"text-align: center;\">Last update: <strong>2020-09-05</strong></p>\n",
       "<p style=\"text-align: center;\">Confirmed cases:</p>\n",
       "<p style=\"text-align: center;font-size:24px;\">4034339 (<span style=\"color: #ff0000;\">+14100</span>)</p>\n",
       "<p style=\"text-align: center;\">Confirmed deaths:</p>\n",
       "<p style=\"text-align: center;font-size:24px;\">69749 (<span style=\"color: #ff0000;\">+114</span>)</p>\n"
      ],
      "text/plain": [
       "<IPython.core.display.HTML object>"
      ]
     },
     "metadata": {},
     "output_type": "display_data"
    }
   ],
   "source": [
    "#hide_input\n",
    "update = summary['updated']\n",
    "cases = summary['Cases']\n",
    "new = summary['Cases (+)']\n",
    "deaths = summary['Deaths']\n",
    "dnew = summary['Deaths (+)']\n",
    "\n",
    "html = HTML(overview.format(update=update, cases=cases,new=new,deaths=deaths,dnew=dnew))\n",
    "\n",
    "display(html)"
   ]
  },
  {
   "cell_type": "code",
   "execution_count": 17,
   "metadata": {
    "execution": {
     "iopub.execute_input": "2020-09-05T10:58:03.208124Z",
     "iopub.status.busy": "2020-09-05T10:58:03.207450Z",
     "iopub.status.idle": "2020-09-05T10:58:03.214446Z",
     "shell.execute_reply": "2020-09-05T10:58:03.213893Z"
    },
    "papermill": {
     "duration": 0.063586,
     "end_time": "2020-09-05T10:58:03.214592",
     "exception": false,
     "start_time": "2020-09-05T10:58:03.151006",
     "status": "completed"
    },
    "tags": []
   },
   "outputs": [],
   "source": [
    "#hide\n",
    "dt_cols = list(dft_cases.columns[1:])\n",
    "dft_ct_new_cases = dft_cases.groupby('state')[dt_cols].sum().diff(axis=1).fillna(0).astype(int)\n",
    "dft_ct_new_cases.sort_values(by = dates[-1], ascending = False,inplace = True)"
   ]
  },
  {
   "cell_type": "code",
   "execution_count": 18,
   "metadata": {
    "execution": {
     "iopub.execute_input": "2020-09-05T10:58:03.317195Z",
     "iopub.status.busy": "2020-09-05T10:58:03.316567Z",
     "iopub.status.idle": "2020-09-05T10:58:03.329420Z",
     "shell.execute_reply": "2020-09-05T10:58:03.328503Z"
    },
    "papermill": {
     "duration": 0.069201,
     "end_time": "2020-09-05T10:58:03.329603",
     "exception": false,
     "start_time": "2020-09-05T10:58:03.260402",
     "status": "completed"
    },
    "tags": []
   },
   "outputs": [
    {
     "data": {
      "text/html": [
       "<div>\n",
       "<style scoped>\n",
       "    .dataframe tbody tr th:only-of-type {\n",
       "        vertical-align: middle;\n",
       "    }\n",
       "\n",
       "    .dataframe tbody tr th {\n",
       "        vertical-align: top;\n",
       "    }\n",
       "\n",
       "    .dataframe thead th {\n",
       "        text-align: right;\n",
       "    }\n",
       "</style>\n",
       "<table border=\"1\" class=\"dataframe\">\n",
       "  <thead>\n",
       "    <tr style=\"text-align: right;\">\n",
       "      <th>states</th>\n",
       "      <th>2020-07-01</th>\n",
       "      <th>2020-07-02</th>\n",
       "      <th>2020-07-03</th>\n",
       "      <th>2020-07-04</th>\n",
       "      <th>2020-07-05</th>\n",
       "      <th>2020-07-06</th>\n",
       "      <th>2020-07-07</th>\n",
       "      <th>2020-07-08</th>\n",
       "      <th>2020-07-09</th>\n",
       "      <th>2020-07-10</th>\n",
       "      <th>...</th>\n",
       "      <th>2020-08-27</th>\n",
       "      <th>2020-08-28</th>\n",
       "      <th>2020-08-29</th>\n",
       "      <th>2020-08-30</th>\n",
       "      <th>2020-08-31</th>\n",
       "      <th>2020-09-01</th>\n",
       "      <th>2020-09-02</th>\n",
       "      <th>2020-09-03</th>\n",
       "      <th>2020-09-04</th>\n",
       "      <th>2020-09-05</th>\n",
       "    </tr>\n",
       "    <tr>\n",
       "      <th>state</th>\n",
       "      <th></th>\n",
       "      <th></th>\n",
       "      <th></th>\n",
       "      <th></th>\n",
       "      <th></th>\n",
       "      <th></th>\n",
       "      <th></th>\n",
       "      <th></th>\n",
       "      <th></th>\n",
       "      <th></th>\n",
       "      <th></th>\n",
       "      <th></th>\n",
       "      <th></th>\n",
       "      <th></th>\n",
       "      <th></th>\n",
       "      <th></th>\n",
       "      <th></th>\n",
       "      <th></th>\n",
       "      <th></th>\n",
       "      <th></th>\n",
       "      <th></th>\n",
       "    </tr>\n",
       "  </thead>\n",
       "  <tbody>\n",
       "    <tr>\n",
       "      <th>Uttar Pradesh</th>\n",
       "      <td>0</td>\n",
       "      <td>769</td>\n",
       "      <td>972</td>\n",
       "      <td>757</td>\n",
       "      <td>1153</td>\n",
       "      <td>929</td>\n",
       "      <td>1332</td>\n",
       "      <td>1188</td>\n",
       "      <td>1206</td>\n",
       "      <td>1338</td>\n",
       "      <td>...</td>\n",
       "      <td>5391</td>\n",
       "      <td>5405</td>\n",
       "      <td>5633</td>\n",
       "      <td>6175</td>\n",
       "      <td>4782</td>\n",
       "      <td>5343</td>\n",
       "      <td>5682</td>\n",
       "      <td>5662</td>\n",
       "      <td>6074</td>\n",
       "      <td>6590</td>\n",
       "    </tr>\n",
       "    <tr>\n",
       "      <th>Odisha</th>\n",
       "      <td>0</td>\n",
       "      <td>229</td>\n",
       "      <td>561</td>\n",
       "      <td>495</td>\n",
       "      <td>469</td>\n",
       "      <td>456</td>\n",
       "      <td>571</td>\n",
       "      <td>527</td>\n",
       "      <td>577</td>\n",
       "      <td>755</td>\n",
       "      <td>...</td>\n",
       "      <td>3384</td>\n",
       "      <td>3682</td>\n",
       "      <td>3252</td>\n",
       "      <td>3014</td>\n",
       "      <td>2602</td>\n",
       "      <td>3025</td>\n",
       "      <td>3219</td>\n",
       "      <td>3631</td>\n",
       "      <td>3267</td>\n",
       "      <td>3543</td>\n",
       "    </tr>\n",
       "    <tr>\n",
       "      <th>Telangana</th>\n",
       "      <td>0</td>\n",
       "      <td>1213</td>\n",
       "      <td>1892</td>\n",
       "      <td>1850</td>\n",
       "      <td>1590</td>\n",
       "      <td>1831</td>\n",
       "      <td>1879</td>\n",
       "      <td>1924</td>\n",
       "      <td>1410</td>\n",
       "      <td>1278</td>\n",
       "      <td>...</td>\n",
       "      <td>2795</td>\n",
       "      <td>2932</td>\n",
       "      <td>2751</td>\n",
       "      <td>2924</td>\n",
       "      <td>1873</td>\n",
       "      <td>2734</td>\n",
       "      <td>2892</td>\n",
       "      <td>2817</td>\n",
       "      <td>2478</td>\n",
       "      <td>2511</td>\n",
       "    </tr>\n",
       "    <tr>\n",
       "      <th>Rajasthan</th>\n",
       "      <td>0</td>\n",
       "      <td>350</td>\n",
       "      <td>390</td>\n",
       "      <td>480</td>\n",
       "      <td>632</td>\n",
       "      <td>524</td>\n",
       "      <td>716</td>\n",
       "      <td>659</td>\n",
       "      <td>500</td>\n",
       "      <td>611</td>\n",
       "      <td>...</td>\n",
       "      <td>1345</td>\n",
       "      <td>1355</td>\n",
       "      <td>1407</td>\n",
       "      <td>1450</td>\n",
       "      <td>1466</td>\n",
       "      <td>1470</td>\n",
       "      <td>1511</td>\n",
       "      <td>1553</td>\n",
       "      <td>1570</td>\n",
       "      <td>718</td>\n",
       "    </tr>\n",
       "    <tr>\n",
       "      <th>Tripura</th>\n",
       "      <td>0</td>\n",
       "      <td>39</td>\n",
       "      <td>93</td>\n",
       "      <td>25</td>\n",
       "      <td>23</td>\n",
       "      <td>111</td>\n",
       "      <td>24</td>\n",
       "      <td>57</td>\n",
       "      <td>16</td>\n",
       "      <td>142</td>\n",
       "      <td>...</td>\n",
       "      <td>385</td>\n",
       "      <td>509</td>\n",
       "      <td>443</td>\n",
       "      <td>447</td>\n",
       "      <td>321</td>\n",
       "      <td>509</td>\n",
       "      <td>566</td>\n",
       "      <td>590</td>\n",
       "      <td>524</td>\n",
       "      <td>691</td>\n",
       "    </tr>\n",
       "  </tbody>\n",
       "</table>\n",
       "<p>5 rows × 67 columns</p>\n",
       "</div>"
      ],
      "text/plain": [
       "states         2020-07-01  2020-07-02  2020-07-03  2020-07-04  2020-07-05  \\\n",
       "state                                                                       \n",
       "Uttar Pradesh           0         769         972         757        1153   \n",
       "Odisha                  0         229         561         495         469   \n",
       "Telangana               0        1213        1892        1850        1590   \n",
       "Rajasthan               0         350         390         480         632   \n",
       "Tripura                 0          39          93          25          23   \n",
       "\n",
       "states         2020-07-06  2020-07-07  2020-07-08  2020-07-09  2020-07-10  \\\n",
       "state                                                                       \n",
       "Uttar Pradesh         929        1332        1188        1206        1338   \n",
       "Odisha                456         571         527         577         755   \n",
       "Telangana            1831        1879        1924        1410        1278   \n",
       "Rajasthan             524         716         659         500         611   \n",
       "Tripura               111          24          57          16         142   \n",
       "\n",
       "states         ...  2020-08-27  2020-08-28  2020-08-29  2020-08-30  \\\n",
       "state          ...                                                   \n",
       "Uttar Pradesh  ...        5391        5405        5633        6175   \n",
       "Odisha         ...        3384        3682        3252        3014   \n",
       "Telangana      ...        2795        2932        2751        2924   \n",
       "Rajasthan      ...        1345        1355        1407        1450   \n",
       "Tripura        ...         385         509         443         447   \n",
       "\n",
       "states         2020-08-31  2020-09-01  2020-09-02  2020-09-03  2020-09-04  \\\n",
       "state                                                                       \n",
       "Uttar Pradesh        4782        5343        5682        5662        6074   \n",
       "Odisha               2602        3025        3219        3631        3267   \n",
       "Telangana            1873        2734        2892        2817        2478   \n",
       "Rajasthan            1466        1470        1511        1553        1570   \n",
       "Tripura               321         509         566         590         524   \n",
       "\n",
       "states         2020-09-05  \n",
       "state                      \n",
       "Uttar Pradesh        6590  \n",
       "Odisha               3543  \n",
       "Telangana            2511  \n",
       "Rajasthan             718  \n",
       "Tripura               691  \n",
       "\n",
       "[5 rows x 67 columns]"
      ]
     },
     "execution_count": 18,
     "metadata": {},
     "output_type": "execute_result"
    }
   ],
   "source": [
    "#hide\n",
    "dft_ct_new_cases.head()"
   ]
  },
  {
   "cell_type": "code",
   "execution_count": 19,
   "metadata": {
    "execution": {
     "iopub.execute_input": "2020-09-05T10:58:03.523615Z",
     "iopub.status.busy": "2020-09-05T10:58:03.522790Z",
     "iopub.status.idle": "2020-09-05T10:58:06.882153Z",
     "shell.execute_reply": "2020-09-05T10:58:06.882644Z"
    },
    "papermill": {
     "duration": 3.481003,
     "end_time": "2020-09-05T10:58:06.882809",
     "exception": false,
     "start_time": "2020-09-05T10:58:03.401806",
     "status": "completed"
    },
    "tags": []
   },
   "outputs": [
    {
     "data": {
      "image/png": "[encoded data removed]",
      "text/plain": [
       "<Figure size 1296x2016 with 11 Axes>"
      ]
     },
     "metadata": {
      "needs_background": "light"
     },
     "output_type": "display_data"
    }
   ],
   "source": [
    "#hide_input\n",
    "df = dft_ct_new_cases.copy()\n",
    "df.loc['Total'] = df.sum()\n",
    "n = 5\n",
    "ax = []\n",
    "fig = plt.figure(figsize = (18,28))\n",
    "gs = fig.add_gridspec(n+2, 5)\n",
    "# gs = fig.add_gridspec(2, 3)\n",
    "ax1 = fig.add_subplot(gs[0, :])\n",
    "ef = df.loc['Total'].rename_axis('date').reset_index()\n",
    "ef['date'] = ef['date'].astype('datetime64[ns]')\n",
    "ax1.bar(ef.date,ef.Total,alpha=0.3,color='#007acc')\n",
    "ax1.plot(ef.date,ef.Total , marker=\"o\", color='#007acc')\n",
    "ax1.xaxis.set_major_locator(mdates.WeekdayLocator())\n",
    "ax1.xaxis.set_major_formatter(mdates.DateFormatter('%b %d'))\n",
    "ax1.text(0.02, 0.5,'India daily case count', transform = ax1.transAxes, fontsize=25);\n",
    "ax1.spines['right'].set_visible(False)\n",
    "ax1.spines['top'].set_visible(False)\n",
    "\n",
    "ax2 = fig.add_subplot(gs[1,0])\n",
    "ef = df.loc['Maharashtra'].rename_axis('date').reset_index()\n",
    "ef['date'] = ef['date'].astype('datetime64[ns]')\n",
    "\n",
    "ax2.bar(ef.date, ef.Maharashtra,color = '#007acc',alpha=0.5)\n",
    "ax2.xaxis.set_major_locator(mdates.WeekdayLocator())\n",
    "ax2.xaxis.set_major_formatter(mdates.DateFormatter('%b %d'))\n",
    "ax2.set_xticks(ax2.get_xticks()[::3])\n",
    "maxyval = ef.Maharashtra.max()\n",
    "ax2.set_ylim([0,maxyval])\n",
    "ax2.text(0.05, 0.9,'Maharashtra', transform = ax2.transAxes, fontsize=20);\n",
    "ax2.spines['right'].set_visible(False)\n",
    "ax2.spines['top'].set_visible(False)\n",
    "\n",
    "\n",
    "ax3 = fig.add_subplot(gs[1,1])\n",
    "ef = df.loc['Tamil Nadu'].rename_axis('date').reset_index()\n",
    "ef['date'] = ef['date'].astype('datetime64[ns]')\n",
    "ax3.bar(ef.date, ef['Tamil Nadu'],color = '#007acc',alpha=0.5,)\n",
    "ax3.xaxis.set_major_locator(mdates.WeekdayLocator())\n",
    "ax3.xaxis.set_major_formatter(mdates.DateFormatter('%b %d'))\n",
    "ax3.set_xticks(ax3.get_xticks()[::3])\n",
    "ax3.text(0.05, 0.9,'Tamil Nadu', transform = ax3.transAxes, fontsize=20);\n",
    "ax3.spines['right'].set_visible(False)\n",
    "ax3.spines['top'].set_visible(False)\n",
    "\n",
    "ax5 = fig.add_subplot(gs[1,3])\n",
    "ef = df.loc['Telangana'].rename_axis('date').reset_index()\n",
    "ef['date'] = ef['date'].astype('datetime64[ns]')\n",
    "ax5.bar(ef.date, ef['Telangana'],color = '#007acc',alpha=0.5,)\n",
    "ax5.xaxis.set_major_locator(mdates.WeekdayLocator())\n",
    "ax5.xaxis.set_major_formatter(mdates.DateFormatter('%b %d'))\n",
    "ax5.set_xticks(ax5.get_xticks()[::3])\n",
    "ax5.text(0.05, 0.9,'Telangana', transform = ax5.transAxes, fontsize=20);\n",
    "ax5.spines['right'].set_visible(False)\n",
    "ax5.spines['top'].set_visible(False)\n",
    "\n",
    "ax6 = fig.add_subplot(gs[1,4])\n",
    "ef = df.loc['Andhra Pradesh'].rename_axis('date').reset_index()\n",
    "ef['date'] = ef['date'].astype('datetime64[ns]')\n",
    "ax6.bar(ef.date, ef['Andhra Pradesh'],color = '#007acc',alpha=0.5,)\n",
    "ax6.xaxis.set_major_locator(mdates.WeekdayLocator())\n",
    "ax6.xaxis.set_major_formatter(mdates.DateFormatter('%b %d'))\n",
    "ax6.set_xticks(ax6.get_xticks()[::3])\n",
    "ax6.text(0.05, 1,'Andhra Pradesh', transform = ax6.transAxes, fontsize=20);\n",
    "ax6.spines['right'].set_visible(False)\n",
    "ax6.spines['top'].set_visible(False)\n",
    "\n",
    "ax4 = fig.add_subplot(gs[1,2])\n",
    "ef = df.loc['Delhi'].rename_axis('date').reset_index()\n",
    "ef['date'] = ef['date'].astype('datetime64[ns]')\n",
    "ax4.bar(ef.date, ef.Delhi,color = '#007acc',alpha=0.5)\n",
    "ax4.set_xticks([])\n",
    "ax4.xaxis.set_major_locator(mdates.WeekdayLocator())\n",
    "ax4.xaxis.set_major_formatter(mdates.DateFormatter('%b %d'))\n",
    "ax4.set_xticks(ax4.get_xticks()[::3])\n",
    "ax4.spines['right'].set_visible(False)\n",
    "ax4.spines['top'].set_visible(False)\n",
    "\n",
    "ax4.text(0.05, 1,'Delhi', transform = ax4.transAxes, fontsize=20)\n",
    "\n",
    "for i in range(n):\n",
    "    \n",
    "    ax.append(fig.add_subplot(gs[i+2,:]))\n",
    "    ef = df.iloc[i+3].rename_axis('date').reset_index()\n",
    "    ef['date'] = ef['date'].astype('datetime64[ns]')\n",
    "    ax[i].bar(ef.date,ef.iloc[:,-1],color = '#007acc',alpha=0.3)\n",
    "    ax[i].plot(ef.date,ef.iloc[:,-1],marker='o',color='#007acc')\n",
    "    ax[i].text(0.02,0.5,f'{ef.columns.values[-1]}',transform = ax[i].transAxes, fontsize = 20);\n",
    "    ax[i].xaxis.set_major_locator(mdates.WeekdayLocator())\n",
    "    ax[i].xaxis.set_major_formatter(mdates.DateFormatter('%b %d'))\n",
    "    ax[i].set_ylim([0,7000])\n",
    "    ax[i].spines['right'].set_visible(False)\n",
    "    ax[i].spines['top'].set_visible(False)\n",
    "plt.tight_layout()\n"
   ]
  },
  {
   "cell_type": "code",
   "execution_count": 20,
   "metadata": {
    "execution": {
     "iopub.execute_input": "2020-09-05T10:58:06.943217Z",
     "iopub.status.busy": "2020-09-05T10:58:06.942475Z",
     "iopub.status.idle": "2020-09-05T10:58:06.944818Z",
     "shell.execute_reply": "2020-09-05T10:58:06.945348Z"
    },
    "papermill": {
     "duration": 0.038027,
     "end_time": "2020-09-05T10:58:06.945501",
     "exception": false,
     "start_time": "2020-09-05T10:58:06.907474",
     "status": "completed"
    },
    "tags": []
   },
   "outputs": [
    {
     "name": "stdout",
     "output_type": "stream",
     "text": [
      "                                   states   Cases  Deaths  PCases  PDeaths  Cases (+)  Deaths (+)  Fatality Rate\n",
      "                              Maharashtra  863062   25964  863062    25964          0           0           3.01\n",
      "                           Andhra Pradesh  476506    4276  476506     4276          0           0           0.90\n",
      "                               Tamil Nadu  451827    7687  451827     7687          0           0           1.70\n",
      "                                Karnataka  379486    6170  379486     6170          0           0           1.63\n",
      "                            Uttar Pradesh  259765    3843  253175     3762       6590          81           1.48\n",
      "                                    Delhi  185220    4513  185220     4513          0           0           2.44\n",
      "                              West Bengal  174659    3452  174659     3452          0           0           1.98\n",
      "                                    Bihar  144134     741  144134      741          0           0           0.51\n",
      "                                Telangana  138395     877  135884      866       2511          11           0.63\n",
      "                                    Assam  121225     345  121225      345          0           0           0.28\n",
      "                                   Odisha  120221     591  116678      584       3543           7           0.49\n",
      "                                  Gujarat  101695    3076  101695     3076          0           0           3.02\n",
      "                                Rajasthan   88515    1116   87797     1108        718           8           1.26\n",
      "                                   Kerala   82105     327   82105      327          0           0           0.40\n",
      "                                  Haryana   71983     759   71983      759          0           0           1.05\n",
      "                           Madhya Pradesh   70244    1513   70244     1513          0           0           2.15\n",
      "                                   Punjab   60013    1739   60013     1739          0           0           2.90\n",
      "                                Jharkhand   48039     447   48039      447          0           0           0.93\n",
      "                        Jammu and Kashmir   40990     755   40990      755          0           0           1.84\n",
      "                             Chhattisgarh   40634     337   40634      337          0           0           0.83\n",
      "                              Uttarakhand   23011     312   23011      312          0           0           1.36\n",
      "                                      Goa   19863     220   19863      220          0           0           1.11\n",
      "                               Puducherry   16172     280   16172      280          0           0           1.73\n",
      "                                  Tripura   14524     136   13833      129        691           7           0.94\n",
      "                         Himachal Pradesh    6830      49    6830       49          0           0           0.72\n",
      "                                  Manipur    6699      35    6699       35          0           0           0.52\n",
      "                               Chandigarh    5268      68    5268       68          0           0           1.29\n",
      "                        Arunachal Pradesh    4775       8    4775        8          0           0           0.17\n",
      "                                 Nagaland    4128       8    4107        8         21           0           0.19\n",
      "              Andaman and Nicobar Islands    3257      49    3257       49          0           0           1.50\n",
      "                                   Ladakh    2935      35    2935       35          0           0           1.19\n",
      "                                Meghalaya    2734      14    2734       14          0           0           0.51\n",
      " Dadra and Nagar Haveli and Daman and Diu    2520       2    2510        2         10           0           0.08\n",
      "                                   Sikkim    1843       5    1843        5          0           0           0.27\n",
      "                                  Mizoram    1062       0    1046        0         16           0           0.00\n",
      "                              Lakshadweep       0       0       0        0          0           0            NaN\n"
     ]
    }
   ],
   "source": [
    "#hide_input\n",
    "print(df_table.to_string(index=False))"
   ]
  },
  {
   "cell_type": "code",
   "execution_count": null,
   "metadata": {
    "papermill": {
     "duration": 0.023064,
     "end_time": "2020-09-05T10:58:06.991987",
     "exception": false,
     "start_time": "2020-09-05T10:58:06.968923",
     "status": "completed"
    },
    "tags": []
   },
   "outputs": [],
   "source": []
  },
  {
   "cell_type": "code",
   "execution_count": null,
   "metadata": {
    "papermill": {
     "duration": 0.023114,
     "end_time": "2020-09-05T10:58:07.037955",
     "exception": false,
     "start_time": "2020-09-05T10:58:07.014841",
     "status": "completed"
    },
    "tags": []
   },
   "outputs": [],
   "source": []
  }
 ],
 "metadata": {
  "kernelspec": {
   "display_name": "Python 3",
   "language": "python",
   "name": "python3"
  },
  "language_info": {
   "codemirror_mode": {
    "name": "ipython",
    "version": 3
   },
   "file_extension": ".py",
   "mimetype": "text/x-python",
   "name": "python",
   "nbconvert_exporter": "python",
   "pygments_lexer": "ipython3",
   "version": "3.6.12"
  },
  "papermill": {
   "duration": 9.736639,
   "end_time": "2020-09-05T10:58:07.569775",
   "environment_variables": {},
   "exception": null,
   "input_path": "latest.ipynb",
   "output_path": "latest.ipynb",
   "parameters": {},
   "start_time": "2020-09-05T10:57:57.833136",
   "version": "2.1.2"
  }
 },
 "nbformat": 4,
 "nbformat_minor": 4
}