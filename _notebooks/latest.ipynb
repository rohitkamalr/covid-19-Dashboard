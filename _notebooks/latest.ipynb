{
 "cells": [
  {
   "cell_type": "markdown",
   "metadata": {
    "papermill": {
     "duration": 0.022033,
     "end_time": "2020-09-29T11:38:40.340807",
     "exception": false,
     "start_time": "2020-09-29T11:38:40.318774",
     "status": "completed"
    },
    "tags": []
   },
   "source": [
    "# Latest COVID-19 India Matplotlib Overview"
   ]
  },
  {
   "cell_type": "code",
   "execution_count": 1,
   "metadata": {
    "execution": {
     "iopub.execute_input": "2020-09-29T11:38:40.385428Z",
     "iopub.status.busy": "2020-09-29T11:38:40.384568Z",
     "iopub.status.idle": "2020-09-29T11:38:41.050134Z",
     "shell.execute_reply": "2020-09-29T11:38:41.050670Z"
    },
    "papermill": {
     "duration": 0.691893,
     "end_time": "2020-09-29T11:38:41.050876",
     "exception": false,
     "start_time": "2020-09-29T11:38:40.358983",
     "status": "completed"
    },
    "tags": []
   },
   "outputs": [],
   "source": [
    "#hide\n",
    "import pandas as pd\n",
    "import numpy as np\n",
    "import requests\n",
    "import json\n",
    "import matplotlib.pyplot as plt\n",
    "import matplotlib.dates as mdates\n",
    "import matplotlib as mpl\n",
    "from IPython.core.display import display,HTML\n",
    "%matplotlib inline\n",
    "from datetime import date"
   ]
  },
  {
   "cell_type": "code",
   "execution_count": 2,
   "metadata": {
    "execution": {
     "iopub.execute_input": "2020-09-29T11:38:41.095734Z",
     "iopub.status.busy": "2020-09-29T11:38:41.095011Z",
     "iopub.status.idle": "2020-09-29T11:38:41.354773Z",
     "shell.execute_reply": "2020-09-29T11:38:41.354108Z"
    },
    "papermill": {
     "duration": 0.285532,
     "end_time": "2020-09-29T11:38:41.354927",
     "exception": false,
     "start_time": "2020-09-29T11:38:41.069395",
     "status": "completed"
    },
    "tags": []
   },
   "outputs": [],
   "source": [
    "#hide\n",
    "df  = pd.read_csv('https://api.covid19india.org/csv/latest/states.csv')\n",
    "df = df[['Date','State','Confirmed','Deceased']]\n",
    "df = df.rename(columns={'Confirmed':'Cases', \"Deceased\":'Deaths'})\n",
    "df_cases = df[[\"Date\",'State','Cases']]\n",
    "df_deaths = df[['Date','State','Deaths']]\n",
    "df_cases1 = df_cases.groupby('Date')\n",
    "df_deaths1= df_deaths.groupby('Date')"
   ]
  },
  {
   "cell_type": "code",
   "execution_count": 3,
   "metadata": {
    "execution": {
     "iopub.execute_input": "2020-09-29T11:38:41.396799Z",
     "iopub.status.busy": "2020-09-29T11:38:41.396109Z",
     "iopub.status.idle": "2020-09-29T11:38:41.416810Z",
     "shell.execute_reply": "2020-09-29T11:38:41.414431Z"
    },
    "papermill": {
     "duration": 0.043743,
     "end_time": "2020-09-29T11:38:41.416992",
     "exception": false,
     "start_time": "2020-09-29T11:38:41.373249",
     "status": "completed"
    },
    "tags": []
   },
   "outputs": [],
   "source": [
    "#hide\n",
    "df_snap = pd.read_csv('data/SnapshotCases-28-July.csv')\n",
    "arr_states = df_snap['states'].unique()\n",
    "arr_dates = df['Date'].unique()\n",
    "df_snap = df_snap.set_index('states')"
   ]
  },
  {
   "cell_type": "code",
   "execution_count": 4,
   "metadata": {
    "execution": {
     "iopub.execute_input": "2020-09-29T11:38:41.459750Z",
     "iopub.status.busy": "2020-09-29T11:38:41.459079Z",
     "iopub.status.idle": "2020-09-29T11:38:41.462485Z",
     "shell.execute_reply": "2020-09-29T11:38:41.461930Z"
    },
    "papermill": {
     "duration": 0.028975,
     "end_time": "2020-09-29T11:38:41.462631",
     "exception": false,
     "start_time": "2020-09-29T11:38:41.433656",
     "status": "completed"
    },
    "tags": []
   },
   "outputs": [
    {
     "data": {
      "text/plain": [
       "array(['Andaman and Nicobar Islands', 'Andhra Pradesh',\n",
       "       'Arunachal Pradesh', 'Assam', 'Bihar', 'Chandigarh',\n",
       "       'Dadra and Nagar Haveli and Daman and Diu', 'Delhi', 'Goa',\n",
       "       'Gujarat', 'Haryana', 'Himachal Pradesh', 'Jammu and Kashmir',\n",
       "       'Jharkhand', 'Karnataka', 'Kerala', 'Lakshadweep',\n",
       "       'Madhya Pradesh', 'Maharashtra', 'Manipur', 'Meghalaya', 'Mizoram',\n",
       "       'Nagaland', 'Odisha', 'Puducherry', 'Punjab', 'Rajasthan',\n",
       "       'Sikkim', 'Tamil Nadu', 'Telangana', 'Tripura', 'Uttar Pradesh',\n",
       "       'West Bengal', 'Chhattisgarh', 'Ladakh', 'Uttarakhand'],\n",
       "      dtype=object)"
      ]
     },
     "execution_count": 4,
     "metadata": {},
     "output_type": "execute_result"
    }
   ],
   "source": [
    "#hide\n",
    "arr_states[-9] = 'Puducherry'\n",
    "arr_states[-10] = 'Odisha'\n",
    "arr_states[6] = 'Dadra and Nagar Haveli and Daman and Diu'\n",
    "arr_states = np.append(arr_states,np.array(['Chhattisgarh','Ladakh','Uttarakhand']))\n",
    "arr_states"
   ]
  },
  {
   "cell_type": "code",
   "execution_count": 5,
   "metadata": {
    "execution": {
     "iopub.execute_input": "2020-09-29T11:38:41.500730Z",
     "iopub.status.busy": "2020-09-29T11:38:41.500079Z",
     "iopub.status.idle": "2020-09-29T11:38:41.516376Z",
     "shell.execute_reply": "2020-09-29T11:38:41.515780Z"
    },
    "papermill": {
     "duration": 0.035716,
     "end_time": "2020-09-29T11:38:41.516528",
     "exception": false,
     "start_time": "2020-09-29T11:38:41.480812",
     "status": "completed"
    },
    "tags": []
   },
   "outputs": [],
   "source": [
    "#hide\n",
    "dates = []\n",
    "for i in arr_dates:\n",
    "    if i>='2020-07-01':\n",
    "        dates.append(i)\n",
    "dict = {'states':dates}\n",
    "for i in arr_states:\n",
    "    dict[i] = [0]*len(dates)\n",
    "dft_cases = pd.DataFrame(dict)\n",
    "dft_deaths = pd.DataFrame(dict)\n"
   ]
  },
  {
   "cell_type": "code",
   "execution_count": 6,
   "metadata": {
    "execution": {
     "iopub.execute_input": "2020-09-29T11:38:41.560162Z",
     "iopub.status.busy": "2020-09-29T11:38:41.559494Z",
     "iopub.status.idle": "2020-09-29T11:38:43.256441Z",
     "shell.execute_reply": "2020-09-29T11:38:43.257004Z"
    },
    "papermill": {
     "duration": 1.720547,
     "end_time": "2020-09-29T11:38:43.257190",
     "exception": false,
     "start_time": "2020-09-29T11:38:41.536643",
     "status": "completed"
    },
    "tags": []
   },
   "outputs": [],
   "source": [
    "#hide\n",
    "for i in range(len(dates)):\n",
    "    df1_deaths = df_deaths1.get_group(dates[i])\n",
    "    for j in range(len(df1_deaths.index)):\n",
    "        if df1_deaths.iloc[j,1] in arr_states:\n",
    "            dft_deaths.loc[i,df1_deaths.iloc[j,1]] = df1_deaths.iloc[j,2]\n",
    "dft_deaths = dft_deaths.set_index('states')"
   ]
  },
  {
   "cell_type": "code",
   "execution_count": 7,
   "metadata": {
    "execution": {
     "iopub.execute_input": "2020-09-29T11:38:43.299086Z",
     "iopub.status.busy": "2020-09-29T11:38:43.298431Z",
     "iopub.status.idle": "2020-09-29T11:38:44.955758Z",
     "shell.execute_reply": "2020-09-29T11:38:44.955181Z"
    },
    "papermill": {
     "duration": 1.681666,
     "end_time": "2020-09-29T11:38:44.955919",
     "exception": false,
     "start_time": "2020-09-29T11:38:43.274253",
     "status": "completed"
    },
    "tags": []
   },
   "outputs": [],
   "source": [
    "#hide\n",
    "for i in range(len(dates)):\n",
    "    df1_cases = df_cases1.get_group(dates[i])\n",
    "    for j in range(len(df1_cases.index)):\n",
    "        if df1_cases.iloc[j,1] in arr_states:\n",
    "            dft_cases.loc[i,df1_cases.iloc[j,1]] = df1_cases.iloc[j,2]\n",
    "dft_cases = dft_cases.set_index('states')"
   ]
  },
  {
   "cell_type": "code",
   "execution_count": 8,
   "metadata": {
    "execution": {
     "iopub.execute_input": "2020-09-29T11:38:44.996418Z",
     "iopub.status.busy": "2020-09-29T11:38:44.995770Z",
     "iopub.status.idle": "2020-09-29T11:38:44.997830Z",
     "shell.execute_reply": "2020-09-29T11:38:44.998462Z"
    },
    "papermill": {
     "duration": 0.025869,
     "end_time": "2020-09-29T11:38:44.998636",
     "exception": false,
     "start_time": "2020-09-29T11:38:44.972767",
     "status": "completed"
    },
    "tags": []
   },
   "outputs": [],
   "source": [
    "#hide\n",
    "dft_cases = dft_cases.T\n",
    "dft_deaths = dft_deaths.T\n",
    "dt_today = dates[-1]\n",
    "dt_yday = dates[-2]"
   ]
  },
  {
   "cell_type": "code",
   "execution_count": 9,
   "metadata": {
    "execution": {
     "iopub.execute_input": "2020-09-29T11:38:45.039382Z",
     "iopub.status.busy": "2020-09-29T11:38:45.038729Z",
     "iopub.status.idle": "2020-09-29T11:38:45.043146Z",
     "shell.execute_reply": "2020-09-29T11:38:45.043769Z"
    },
    "papermill": {
     "duration": 0.028047,
     "end_time": "2020-09-29T11:38:45.043935",
     "exception": false,
     "start_time": "2020-09-29T11:38:45.015888",
     "status": "completed"
    },
    "tags": []
   },
   "outputs": [],
   "source": [
    "#hide\n",
    "dft_cases = dft_cases.reset_index()\n",
    "dft_deaths = dft_deaths.reset_index()\n",
    "dft_cases = dft_cases.rename(columns = {'index':'state'})\n",
    "dft_deaths = dft_deaths.rename(columns = {'index':'state'})"
   ]
  },
  {
   "cell_type": "code",
   "execution_count": 10,
   "metadata": {
    "execution": {
     "iopub.execute_input": "2020-09-29T11:38:45.097692Z",
     "iopub.status.busy": "2020-09-29T11:38:45.096692Z",
     "iopub.status.idle": "2020-09-29T11:38:45.098372Z",
     "shell.execute_reply": "2020-09-29T11:38:45.099001Z"
    },
    "papermill": {
     "duration": 0.036857,
     "end_time": "2020-09-29T11:38:45.099170",
     "exception": false,
     "start_time": "2020-09-29T11:38:45.062313",
     "status": "completed"
    },
    "tags": []
   },
   "outputs": [],
   "source": [
    "#hide\n",
    "dfc_cases = dft_cases.groupby('state')[dt_today].sum()\n",
    "dfc_deaths = dft_deaths.groupby('state')[dt_today].sum()\n",
    "dfp_cases = dft_cases.groupby('state')[dt_yday].sum()\n",
    "dfp_deaths = dft_deaths.groupby('state')[dt_yday].sum()"
   ]
  },
  {
   "cell_type": "code",
   "execution_count": 11,
   "metadata": {
    "execution": {
     "iopub.execute_input": "2020-09-29T11:38:45.151985Z",
     "iopub.status.busy": "2020-09-29T11:38:45.151296Z",
     "iopub.status.idle": "2020-09-29T11:38:45.158005Z",
     "shell.execute_reply": "2020-09-29T11:38:45.158544Z"
    },
    "papermill": {
     "duration": 0.042625,
     "end_time": "2020-09-29T11:38:45.158714",
     "exception": false,
     "start_time": "2020-09-29T11:38:45.116089",
     "status": "completed"
    },
    "tags": []
   },
   "outputs": [
    {
     "data": {
      "text/html": [
       "<div>\n",
       "<style scoped>\n",
       "    .dataframe tbody tr th:only-of-type {\n",
       "        vertical-align: middle;\n",
       "    }\n",
       "\n",
       "    .dataframe tbody tr th {\n",
       "        vertical-align: top;\n",
       "    }\n",
       "\n",
       "    .dataframe thead th {\n",
       "        text-align: right;\n",
       "    }\n",
       "</style>\n",
       "<table border=\"1\" class=\"dataframe\">\n",
       "  <thead>\n",
       "    <tr style=\"text-align: right;\">\n",
       "      <th></th>\n",
       "      <th>states</th>\n",
       "      <th>Cases</th>\n",
       "      <th>Deaths</th>\n",
       "      <th>PCases</th>\n",
       "      <th>PDeaths</th>\n",
       "    </tr>\n",
       "  </thead>\n",
       "  <tbody>\n",
       "    <tr>\n",
       "      <th>0</th>\n",
       "      <td>Maharashtra</td>\n",
       "      <td>1351153</td>\n",
       "      <td>35751</td>\n",
       "      <td>1351153</td>\n",
       "      <td>35751</td>\n",
       "    </tr>\n",
       "    <tr>\n",
       "      <th>1</th>\n",
       "      <td>Andhra Pradesh</td>\n",
       "      <td>681161</td>\n",
       "      <td>5745</td>\n",
       "      <td>681161</td>\n",
       "      <td>5745</td>\n",
       "    </tr>\n",
       "    <tr>\n",
       "      <th>2</th>\n",
       "      <td>Tamil Nadu</td>\n",
       "      <td>586397</td>\n",
       "      <td>9383</td>\n",
       "      <td>586397</td>\n",
       "      <td>9383</td>\n",
       "    </tr>\n",
       "    <tr>\n",
       "      <th>3</th>\n",
       "      <td>Karnataka</td>\n",
       "      <td>582458</td>\n",
       "      <td>8641</td>\n",
       "      <td>582458</td>\n",
       "      <td>8641</td>\n",
       "    </tr>\n",
       "    <tr>\n",
       "      <th>4</th>\n",
       "      <td>Uttar Pradesh</td>\n",
       "      <td>390875</td>\n",
       "      <td>5652</td>\n",
       "      <td>390875</td>\n",
       "      <td>5652</td>\n",
       "    </tr>\n",
       "  </tbody>\n",
       "</table>\n",
       "</div>"
      ],
      "text/plain": [
       "           states    Cases  Deaths   PCases  PDeaths\n",
       "0     Maharashtra  1351153   35751  1351153    35751\n",
       "1  Andhra Pradesh   681161    5745   681161     5745\n",
       "2      Tamil Nadu   586397    9383   586397     9383\n",
       "3       Karnataka   582458    8641   582458     8641\n",
       "4   Uttar Pradesh   390875    5652   390875     5652"
      ]
     },
     "execution_count": 11,
     "metadata": {},
     "output_type": "execute_result"
    }
   ],
   "source": [
    "#hide\n",
    "df_table = pd.DataFrame({'states': dfc_cases.index, 'Cases': dfc_cases.values, 'Deaths': dfc_deaths.values, 'PCases': dfp_cases.values, 'PDeaths': dfp_deaths.values}).set_index('states')\n",
    "df_table = df_table.sort_values(by = ['Cases','Deaths'], ascending = [False, False])\n",
    "df_table = df_table.reset_index()\n",
    "df_table.head()"
   ]
  },
  {
   "cell_type": "code",
   "execution_count": 12,
   "metadata": {
    "execution": {
     "iopub.execute_input": "2020-09-29T11:38:45.201203Z",
     "iopub.status.busy": "2020-09-29T11:38:45.200512Z",
     "iopub.status.idle": "2020-09-29T11:38:45.211274Z",
     "shell.execute_reply": "2020-09-29T11:38:45.210714Z"
    },
    "papermill": {
     "duration": 0.034455,
     "end_time": "2020-09-29T11:38:45.211431",
     "exception": false,
     "start_time": "2020-09-29T11:38:45.176976",
     "status": "completed"
    },
    "tags": []
   },
   "outputs": [],
   "source": [
    "#hide\n",
    "for c in 'Cases, Deaths'.split(', '):\n",
    "    df_table[f'{c} (+)'] = (df_table[c] - df_table[f'P{c}']).clip(0)\n",
    "df_table['Fatality Rate'] = (100* df_table['Deaths']/ df_table['Cases']).round(2)"
   ]
  },
  {
   "cell_type": "code",
   "execution_count": 13,
   "metadata": {
    "execution": {
     "iopub.execute_input": "2020-09-29T11:38:45.266484Z",
     "iopub.status.busy": "2020-09-29T11:38:45.265679Z",
     "iopub.status.idle": "2020-09-29T11:38:45.268973Z",
     "shell.execute_reply": "2020-09-29T11:38:45.269551Z"
    },
    "papermill": {
     "duration": 0.039858,
     "end_time": "2020-09-29T11:38:45.269724",
     "exception": false,
     "start_time": "2020-09-29T11:38:45.229866",
     "status": "completed"
    },
    "tags": []
   },
   "outputs": [
    {
     "data": {
      "text/html": [
       "<div>\n",
       "<style scoped>\n",
       "    .dataframe tbody tr th:only-of-type {\n",
       "        vertical-align: middle;\n",
       "    }\n",
       "\n",
       "    .dataframe tbody tr th {\n",
       "        vertical-align: top;\n",
       "    }\n",
       "\n",
       "    .dataframe thead th {\n",
       "        text-align: right;\n",
       "    }\n",
       "</style>\n",
       "<table border=\"1\" class=\"dataframe\">\n",
       "  <thead>\n",
       "    <tr style=\"text-align: right;\">\n",
       "      <th></th>\n",
       "      <th>states</th>\n",
       "      <th>Cases</th>\n",
       "      <th>Deaths</th>\n",
       "      <th>PCases</th>\n",
       "      <th>PDeaths</th>\n",
       "      <th>Cases (+)</th>\n",
       "      <th>Deaths (+)</th>\n",
       "      <th>Fatality Rate</th>\n",
       "    </tr>\n",
       "  </thead>\n",
       "  <tbody>\n",
       "    <tr>\n",
       "      <th>0</th>\n",
       "      <td>Maharashtra</td>\n",
       "      <td>1351153</td>\n",
       "      <td>35751</td>\n",
       "      <td>1351153</td>\n",
       "      <td>35751</td>\n",
       "      <td>0</td>\n",
       "      <td>0</td>\n",
       "      <td>2.65</td>\n",
       "    </tr>\n",
       "    <tr>\n",
       "      <th>1</th>\n",
       "      <td>Andhra Pradesh</td>\n",
       "      <td>681161</td>\n",
       "      <td>5745</td>\n",
       "      <td>681161</td>\n",
       "      <td>5745</td>\n",
       "      <td>0</td>\n",
       "      <td>0</td>\n",
       "      <td>0.84</td>\n",
       "    </tr>\n",
       "    <tr>\n",
       "      <th>2</th>\n",
       "      <td>Tamil Nadu</td>\n",
       "      <td>586397</td>\n",
       "      <td>9383</td>\n",
       "      <td>586397</td>\n",
       "      <td>9383</td>\n",
       "      <td>0</td>\n",
       "      <td>0</td>\n",
       "      <td>1.60</td>\n",
       "    </tr>\n",
       "    <tr>\n",
       "      <th>3</th>\n",
       "      <td>Karnataka</td>\n",
       "      <td>582458</td>\n",
       "      <td>8641</td>\n",
       "      <td>582458</td>\n",
       "      <td>8641</td>\n",
       "      <td>0</td>\n",
       "      <td>0</td>\n",
       "      <td>1.48</td>\n",
       "    </tr>\n",
       "    <tr>\n",
       "      <th>4</th>\n",
       "      <td>Uttar Pradesh</td>\n",
       "      <td>390875</td>\n",
       "      <td>5652</td>\n",
       "      <td>390875</td>\n",
       "      <td>5652</td>\n",
       "      <td>0</td>\n",
       "      <td>0</td>\n",
       "      <td>1.45</td>\n",
       "    </tr>\n",
       "  </tbody>\n",
       "</table>\n",
       "</div>"
      ],
      "text/plain": [
       "           states    Cases  Deaths   PCases  PDeaths  Cases (+)  Deaths (+)  \\\n",
       "0     Maharashtra  1351153   35751  1351153    35751          0           0   \n",
       "1  Andhra Pradesh   681161    5745   681161     5745          0           0   \n",
       "2      Tamil Nadu   586397    9383   586397     9383          0           0   \n",
       "3       Karnataka   582458    8641   582458     8641          0           0   \n",
       "4   Uttar Pradesh   390875    5652   390875     5652          0           0   \n",
       "\n",
       "   Fatality Rate  \n",
       "0           2.65  \n",
       "1           0.84  \n",
       "2           1.60  \n",
       "3           1.48  \n",
       "4           1.45  "
      ]
     },
     "execution_count": 13,
     "metadata": {},
     "output_type": "execute_result"
    }
   ],
   "source": [
    "#hide\n",
    "df_table.head()"
   ]
  },
  {
   "cell_type": "code",
   "execution_count": 14,
   "metadata": {
    "execution": {
     "iopub.execute_input": "2020-09-29T11:38:45.329066Z",
     "iopub.status.busy": "2020-09-29T11:38:45.328344Z",
     "iopub.status.idle": "2020-09-29T11:38:45.347490Z",
     "shell.execute_reply": "2020-09-29T11:38:45.346461Z"
    },
    "papermill": {
     "duration": 0.055459,
     "end_time": "2020-09-29T11:38:45.348114",
     "exception": false,
     "start_time": "2020-09-29T11:38:45.292655",
     "status": "completed"
    },
    "tags": []
   },
   "outputs": [
    {
     "data": {
      "text/plain": [
       "{'updated': '2020-09-29',\n",
       " 'since': '2020-09-28',\n",
       " 'Cases': 6148640,\n",
       " 'PCases': 6143019,\n",
       " 'Deaths': 96378,\n",
       " 'PDeaths': 96351,\n",
       " 'Cases (+)': 5621,\n",
       " 'Deaths (+)': 27}"
      ]
     },
     "execution_count": 14,
     "metadata": {},
     "output_type": "execute_result"
    }
   ],
   "source": [
    "#hide\n",
    "summary = {'updated':dates[-1], 'since':dates[-2]}\n",
    "list_names = ['Cases', 'PCases', 'Deaths', 'PDeaths', 'Cases (+)', 'Deaths (+)']\n",
    "for name in list_names:\n",
    "    summary[name] = df_table.sum()[name]\n",
    "summary"
   ]
  },
  {
   "cell_type": "code",
   "execution_count": 15,
   "metadata": {
    "execution": {
     "iopub.execute_input": "2020-09-29T11:38:45.392344Z",
     "iopub.status.busy": "2020-09-29T11:38:45.391614Z",
     "iopub.status.idle": "2020-09-29T11:38:45.394709Z",
     "shell.execute_reply": "2020-09-29T11:38:45.394125Z"
    },
    "papermill": {
     "duration": 0.027643,
     "end_time": "2020-09-29T11:38:45.394867",
     "exception": false,
     "start_time": "2020-09-29T11:38:45.367224",
     "status": "completed"
    },
    "tags": []
   },
   "outputs": [],
   "source": [
    "#hide\n",
    "overview = '''\n",
    "<!-- #######  HTML!! #########-->\n",
    "<h1 style=\"color: #5e9ca0; text-align: center;\">India</h1>\n",
    "<p style=\"text-align: center;\">Last update: <strong>{update}</strong></p>\n",
    "<p style=\"text-align: center;\">Confirmed cases:</p>\n",
    "<p style=\"text-align: center;font-size:24px;\">{cases} (<span style=\"color: #ff0000;\">+{new}</span>)</p>\n",
    "<p style=\"text-align: center;\">Confirmed deaths:</p>\n",
    "<p style=\"text-align: center;font-size:24px;\">{deaths} (<span style=\"color: #ff0000;\">+{dnew}</span>)</p>\n",
    "'''"
   ]
  },
  {
   "cell_type": "code",
   "execution_count": 16,
   "metadata": {
    "execution": {
     "iopub.execute_input": "2020-09-29T11:38:45.439482Z",
     "iopub.status.busy": "2020-09-29T11:38:45.438760Z",
     "iopub.status.idle": "2020-09-29T11:38:45.442590Z",
     "shell.execute_reply": "2020-09-29T11:38:45.441953Z"
    },
    "papermill": {
     "duration": 0.029851,
     "end_time": "2020-09-29T11:38:45.442737",
     "exception": false,
     "start_time": "2020-09-29T11:38:45.412886",
     "status": "completed"
    },
    "tags": []
   },
   "outputs": [
    {
     "data": {
      "text/html": [
       "\n",
       "<!-- #######  HTML!! #########-->\n",
       "<h1 style=\"color: #5e9ca0; text-align: center;\">India</h1>\n",
       "<p style=\"text-align: center;\">Last update: <strong>2020-09-29</strong></p>\n",
       "<p style=\"text-align: center;\">Confirmed cases:</p>\n",
       "<p style=\"text-align: center;font-size:24px;\">6148640 (<span style=\"color: #ff0000;\">+5621</span>)</p>\n",
       "<p style=\"text-align: center;\">Confirmed deaths:</p>\n",
       "<p style=\"text-align: center;font-size:24px;\">96378 (<span style=\"color: #ff0000;\">+27</span>)</p>\n"
      ],
      "text/plain": [
       "<IPython.core.display.HTML object>"
      ]
     },
     "metadata": {},
     "output_type": "display_data"
    }
   ],
   "source": [
    "#hide_input\n",
    "update = summary['updated']\n",
    "cases = summary['Cases']\n",
    "new = summary['Cases (+)']\n",
    "deaths = summary['Deaths']\n",
    "dnew = summary['Deaths (+)']\n",
    "\n",
    "html = HTML(overview.format(update=update, cases=cases,new=new,deaths=deaths,dnew=dnew))\n",
    "\n",
    "display(html)"
   ]
  },
  {
   "cell_type": "code",
   "execution_count": 17,
   "metadata": {
    "execution": {
     "iopub.execute_input": "2020-09-29T11:38:45.490485Z",
     "iopub.status.busy": "2020-09-29T11:38:45.489794Z",
     "iopub.status.idle": "2020-09-29T11:38:45.496273Z",
     "shell.execute_reply": "2020-09-29T11:38:45.495682Z"
    },
    "papermill": {
     "duration": 0.033909,
     "end_time": "2020-09-29T11:38:45.496426",
     "exception": false,
     "start_time": "2020-09-29T11:38:45.462517",
     "status": "completed"
    },
    "tags": []
   },
   "outputs": [],
   "source": [
    "#hide\n",
    "dt_cols = list(dft_cases.columns[1:])\n",
    "dft_ct_new_cases = dft_cases.groupby('state')[dt_cols].sum().diff(axis=1).fillna(0).astype(int)\n",
    "dft_ct_new_cases.sort_values(by = dates[-1], ascending = False,inplace = True)"
   ]
  },
  {
   "cell_type": "code",
   "execution_count": 18,
   "metadata": {
    "execution": {
     "iopub.execute_input": "2020-09-29T11:38:45.555001Z",
     "iopub.status.busy": "2020-09-29T11:38:45.554312Z",
     "iopub.status.idle": "2020-09-29T11:38:45.557995Z",
     "shell.execute_reply": "2020-09-29T11:38:45.557431Z"
    },
    "papermill": {
     "duration": 0.042668,
     "end_time": "2020-09-29T11:38:45.558143",
     "exception": false,
     "start_time": "2020-09-29T11:38:45.515475",
     "status": "completed"
    },
    "tags": []
   },
   "outputs": [
    {
     "data": {
      "text/html": [
       "<div>\n",
       "<style scoped>\n",
       "    .dataframe tbody tr th:only-of-type {\n",
       "        vertical-align: middle;\n",
       "    }\n",
       "\n",
       "    .dataframe tbody tr th {\n",
       "        vertical-align: top;\n",
       "    }\n",
       "\n",
       "    .dataframe thead th {\n",
       "        text-align: right;\n",
       "    }\n",
       "</style>\n",
       "<table border=\"1\" class=\"dataframe\">\n",
       "  <thead>\n",
       "    <tr style=\"text-align: right;\">\n",
       "      <th>states</th>\n",
       "      <th>2020-07-01</th>\n",
       "      <th>2020-07-02</th>\n",
       "      <th>2020-07-03</th>\n",
       "      <th>2020-07-04</th>\n",
       "      <th>2020-07-05</th>\n",
       "      <th>2020-07-06</th>\n",
       "      <th>2020-07-07</th>\n",
       "      <th>2020-07-08</th>\n",
       "      <th>2020-07-09</th>\n",
       "      <th>2020-07-10</th>\n",
       "      <th>...</th>\n",
       "      <th>2020-09-20</th>\n",
       "      <th>2020-09-21</th>\n",
       "      <th>2020-09-22</th>\n",
       "      <th>2020-09-23</th>\n",
       "      <th>2020-09-24</th>\n",
       "      <th>2020-09-25</th>\n",
       "      <th>2020-09-26</th>\n",
       "      <th>2020-09-27</th>\n",
       "      <th>2020-09-28</th>\n",
       "      <th>2020-09-29</th>\n",
       "    </tr>\n",
       "    <tr>\n",
       "      <th>state</th>\n",
       "      <th></th>\n",
       "      <th></th>\n",
       "      <th></th>\n",
       "      <th></th>\n",
       "      <th></th>\n",
       "      <th></th>\n",
       "      <th></th>\n",
       "      <th></th>\n",
       "      <th></th>\n",
       "      <th></th>\n",
       "      <th></th>\n",
       "      <th></th>\n",
       "      <th></th>\n",
       "      <th></th>\n",
       "      <th></th>\n",
       "      <th></th>\n",
       "      <th></th>\n",
       "      <th></th>\n",
       "      <th></th>\n",
       "      <th></th>\n",
       "      <th></th>\n",
       "    </tr>\n",
       "  </thead>\n",
       "  <tbody>\n",
       "    <tr>\n",
       "      <th>Odisha</th>\n",
       "      <td>0</td>\n",
       "      <td>229</td>\n",
       "      <td>561</td>\n",
       "      <td>495</td>\n",
       "      <td>469</td>\n",
       "      <td>456</td>\n",
       "      <td>571</td>\n",
       "      <td>527</td>\n",
       "      <td>577</td>\n",
       "      <td>755</td>\n",
       "      <td>...</td>\n",
       "      <td>4330</td>\n",
       "      <td>4242</td>\n",
       "      <td>4189</td>\n",
       "      <td>4237</td>\n",
       "      <td>4340</td>\n",
       "      <td>4208</td>\n",
       "      <td>4356</td>\n",
       "      <td>3922</td>\n",
       "      <td>3235</td>\n",
       "      <td>3067</td>\n",
       "    </tr>\n",
       "    <tr>\n",
       "      <th>Telangana</th>\n",
       "      <td>0</td>\n",
       "      <td>1213</td>\n",
       "      <td>1892</td>\n",
       "      <td>1850</td>\n",
       "      <td>1590</td>\n",
       "      <td>1831</td>\n",
       "      <td>1879</td>\n",
       "      <td>1924</td>\n",
       "      <td>1410</td>\n",
       "      <td>1278</td>\n",
       "      <td>...</td>\n",
       "      <td>2137</td>\n",
       "      <td>1302</td>\n",
       "      <td>2166</td>\n",
       "      <td>2296</td>\n",
       "      <td>2176</td>\n",
       "      <td>2381</td>\n",
       "      <td>2239</td>\n",
       "      <td>1967</td>\n",
       "      <td>1378</td>\n",
       "      <td>2072</td>\n",
       "    </tr>\n",
       "    <tr>\n",
       "      <th>Tripura</th>\n",
       "      <td>0</td>\n",
       "      <td>39</td>\n",
       "      <td>93</td>\n",
       "      <td>25</td>\n",
       "      <td>23</td>\n",
       "      <td>111</td>\n",
       "      <td>24</td>\n",
       "      <td>57</td>\n",
       "      <td>16</td>\n",
       "      <td>142</td>\n",
       "      <td>...</td>\n",
       "      <td>525</td>\n",
       "      <td>243</td>\n",
       "      <td>559</td>\n",
       "      <td>504</td>\n",
       "      <td>451</td>\n",
       "      <td>341</td>\n",
       "      <td>278</td>\n",
       "      <td>320</td>\n",
       "      <td>193</td>\n",
       "      <td>432</td>\n",
       "    </tr>\n",
       "    <tr>\n",
       "      <th>Mizoram</th>\n",
       "      <td>0</td>\n",
       "      <td>2</td>\n",
       "      <td>0</td>\n",
       "      <td>2</td>\n",
       "      <td>22</td>\n",
       "      <td>11</td>\n",
       "      <td>1</td>\n",
       "      <td>5</td>\n",
       "      <td>0</td>\n",
       "      <td>23</td>\n",
       "      <td>...</td>\n",
       "      <td>30</td>\n",
       "      <td>7</td>\n",
       "      <td>106</td>\n",
       "      <td>22</td>\n",
       "      <td>46</td>\n",
       "      <td>27</td>\n",
       "      <td>49</td>\n",
       "      <td>30</td>\n",
       "      <td>43</td>\n",
       "      <td>50</td>\n",
       "    </tr>\n",
       "    <tr>\n",
       "      <th>Andaman and Nicobar Islands</th>\n",
       "      <td>0</td>\n",
       "      <td>9</td>\n",
       "      <td>7</td>\n",
       "      <td>3</td>\n",
       "      <td>6</td>\n",
       "      <td>16</td>\n",
       "      <td>6</td>\n",
       "      <td>2</td>\n",
       "      <td>7</td>\n",
       "      <td>0</td>\n",
       "      <td>...</td>\n",
       "      <td>7</td>\n",
       "      <td>22</td>\n",
       "      <td>18</td>\n",
       "      <td>21</td>\n",
       "      <td>32</td>\n",
       "      <td>15</td>\n",
       "      <td>15</td>\n",
       "      <td>20</td>\n",
       "      <td>9</td>\n",
       "      <td>0</td>\n",
       "    </tr>\n",
       "  </tbody>\n",
       "</table>\n",
       "<p>5 rows × 91 columns</p>\n",
       "</div>"
      ],
      "text/plain": [
       "states                       2020-07-01  2020-07-02  2020-07-03  2020-07-04  \\\n",
       "state                                                                         \n",
       "Odisha                                0         229         561         495   \n",
       "Telangana                             0        1213        1892        1850   \n",
       "Tripura                               0          39          93          25   \n",
       "Mizoram                               0           2           0           2   \n",
       "Andaman and Nicobar Islands           0           9           7           3   \n",
       "\n",
       "states                       2020-07-05  2020-07-06  2020-07-07  2020-07-08  \\\n",
       "state                                                                         \n",
       "Odisha                              469         456         571         527   \n",
       "Telangana                          1590        1831        1879        1924   \n",
       "Tripura                              23         111          24          57   \n",
       "Mizoram                              22          11           1           5   \n",
       "Andaman and Nicobar Islands           6          16           6           2   \n",
       "\n",
       "states                       2020-07-09  2020-07-10  ...  2020-09-20  \\\n",
       "state                                                ...               \n",
       "Odisha                              577         755  ...        4330   \n",
       "Telangana                          1410        1278  ...        2137   \n",
       "Tripura                              16         142  ...         525   \n",
       "Mizoram                               0          23  ...          30   \n",
       "Andaman and Nicobar Islands           7           0  ...           7   \n",
       "\n",
       "states                       2020-09-21  2020-09-22  2020-09-23  2020-09-24  \\\n",
       "state                                                                         \n",
       "Odisha                             4242        4189        4237        4340   \n",
       "Telangana                          1302        2166        2296        2176   \n",
       "Tripura                             243         559         504         451   \n",
       "Mizoram                               7         106          22          46   \n",
       "Andaman and Nicobar Islands          22          18          21          32   \n",
       "\n",
       "states                       2020-09-25  2020-09-26  2020-09-27  2020-09-28  \\\n",
       "state                                                                         \n",
       "Odisha                             4208        4356        3922        3235   \n",
       "Telangana                          2381        2239        1967        1378   \n",
       "Tripura                             341         278         320         193   \n",
       "Mizoram                              27          49          30          43   \n",
       "Andaman and Nicobar Islands          15          15          20           9   \n",
       "\n",
       "states                       2020-09-29  \n",
       "state                                    \n",
       "Odisha                             3067  \n",
       "Telangana                          2072  \n",
       "Tripura                             432  \n",
       "Mizoram                              50  \n",
       "Andaman and Nicobar Islands           0  \n",
       "\n",
       "[5 rows x 91 columns]"
      ]
     },
     "execution_count": 18,
     "metadata": {},
     "output_type": "execute_result"
    }
   ],
   "source": [
    "#hide\n",
    "dft_ct_new_cases.head()"
   ]
  },
  {
   "cell_type": "code",
   "execution_count": 19,
   "metadata": {
    "execution": {
     "iopub.execute_input": "2020-09-29T11:38:45.632593Z",
     "iopub.status.busy": "2020-09-29T11:38:45.616457Z",
     "iopub.status.idle": "2020-09-29T11:38:50.095852Z",
     "shell.execute_reply": "2020-09-29T11:38:50.096389Z"
    },
    "papermill": {
     "duration": 4.51881,
     "end_time": "2020-09-29T11:38:50.096560",
     "exception": false,
     "start_time": "2020-09-29T11:38:45.577750",
     "status": "completed"
    },
    "tags": []
   },
   "outputs": [
    {
     "data": {
      "image/png": "[encoded data removed]",
      "text/plain": [
       "<Figure size 1296x2016 with 11 Axes>"
      ]
     },
     "metadata": {
      "needs_background": "light"
     },
     "output_type": "display_data"
    }
   ],
   "source": [
    "#hide_input\n",
    "df = dft_ct_new_cases.copy()\n",
    "df.loc['Total'] = df.sum()\n",
    "n = 5\n",
    "ax = []\n",
    "fig = plt.figure(figsize = (18,28))\n",
    "gs = fig.add_gridspec(n+2, 5)\n",
    "# gs = fig.add_gridspec(2, 3)\n",
    "ax1 = fig.add_subplot(gs[0, :])\n",
    "ef = df.loc['Total'].rename_axis('date').reset_index()\n",
    "ef['date'] = ef['date'].astype('datetime64[ns]')\n",
    "ax1.bar(ef.date,ef.Total,alpha=0.3,color='#007acc')\n",
    "ax1.plot(ef.date,ef.Total , marker=\"o\", color='#007acc')\n",
    "ax1.xaxis.set_major_locator(mdates.WeekdayLocator())\n",
    "ax1.xaxis.set_major_formatter(mdates.DateFormatter('%b %d'))\n",
    "ax1.text(0.02, 0.5,'India daily case count', transform = ax1.transAxes, fontsize=25);\n",
    "ax1.spines['right'].set_visible(False)\n",
    "ax1.spines['top'].set_visible(False)\n",
    "\n",
    "ax2 = fig.add_subplot(gs[1,0])\n",
    "ef = df.loc['Maharashtra'].rename_axis('date').reset_index()\n",
    "ef['date'] = ef['date'].astype('datetime64[ns]')\n",
    "\n",
    "ax2.bar(ef.date, ef.Maharashtra,color = '#007acc',alpha=0.5)\n",
    "ax2.xaxis.set_major_locator(mdates.WeekdayLocator())\n",
    "ax2.xaxis.set_major_formatter(mdates.DateFormatter('%b %d'))\n",
    "ax2.set_xticks(ax2.get_xticks()[::3])\n",
    "maxyval = ef.Maharashtra.max()\n",
    "ax2.set_ylim([0,maxyval])\n",
    "ax2.text(0.05, 0.9,'Maharashtra', transform = ax2.transAxes, fontsize=20);\n",
    "ax2.spines['right'].set_visible(False)\n",
    "ax2.spines['top'].set_visible(False)\n",
    "\n",
    "\n",
    "ax3 = fig.add_subplot(gs[1,1])\n",
    "ef = df.loc['Tamil Nadu'].rename_axis('date').reset_index()\n",
    "ef['date'] = ef['date'].astype('datetime64[ns]')\n",
    "ax3.bar(ef.date, ef['Tamil Nadu'],color = '#007acc',alpha=0.5,)\n",
    "ax3.xaxis.set_major_locator(mdates.WeekdayLocator())\n",
    "ax3.xaxis.set_major_formatter(mdates.DateFormatter('%b %d'))\n",
    "ax3.set_xticks(ax3.get_xticks()[::3])\n",
    "ax3.text(0.05, 0.9,'Tamil Nadu', transform = ax3.transAxes, fontsize=20);\n",
    "ax3.spines['right'].set_visible(False)\n",
    "ax3.spines['top'].set_visible(False)\n",
    "\n",
    "ax5 = fig.add_subplot(gs[1,3])\n",
    "ef = df.loc['Telangana'].rename_axis('date').reset_index()\n",
    "ef['date'] = ef['date'].astype('datetime64[ns]')\n",
    "ax5.bar(ef.date, ef['Telangana'],color = '#007acc',alpha=0.5,)\n",
    "ax5.xaxis.set_major_locator(mdates.WeekdayLocator())\n",
    "ax5.xaxis.set_major_formatter(mdates.DateFormatter('%b %d'))\n",
    "ax5.set_xticks(ax5.get_xticks()[::3])\n",
    "ax5.text(0.05, 0.9,'Telangana', transform = ax5.transAxes, fontsize=20);\n",
    "ax5.spines['right'].set_visible(False)\n",
    "ax5.spines['top'].set_visible(False)\n",
    "\n",
    "ax6 = fig.add_subplot(gs[1,4])\n",
    "ef = df.loc['Andhra Pradesh'].rename_axis('date').reset_index()\n",
    "ef['date'] = ef['date'].astype('datetime64[ns]')\n",
    "ax6.bar(ef.date, ef['Andhra Pradesh'],color = '#007acc',alpha=0.5,)\n",
    "ax6.xaxis.set_major_locator(mdates.WeekdayLocator())\n",
    "ax6.xaxis.set_major_formatter(mdates.DateFormatter('%b %d'))\n",
    "ax6.set_xticks(ax6.get_xticks()[::3])\n",
    "ax6.text(0.05, 1,'Andhra Pradesh', transform = ax6.transAxes, fontsize=20);\n",
    "ax6.spines['right'].set_visible(False)\n",
    "ax6.spines['top'].set_visible(False)\n",
    "\n",
    "ax4 = fig.add_subplot(gs[1,2])\n",
    "ef = df.loc['Delhi'].rename_axis('date').reset_index()\n",
    "ef['date'] = ef['date'].astype('datetime64[ns]')\n",
    "ax4.bar(ef.date, ef.Delhi,color = '#007acc',alpha=0.5)\n",
    "ax4.set_xticks([])\n",
    "ax4.xaxis.set_major_locator(mdates.WeekdayLocator())\n",
    "ax4.xaxis.set_major_formatter(mdates.DateFormatter('%b %d'))\n",
    "ax4.set_xticks(ax4.get_xticks()[::3])\n",
    "ax4.spines['right'].set_visible(False)\n",
    "ax4.spines['top'].set_visible(False)\n",
    "\n",
    "ax4.text(0.05, 1,'Delhi', transform = ax4.transAxes, fontsize=20)\n",
    "\n",
    "for i in range(n):\n",
    "    \n",
    "    ax.append(fig.add_subplot(gs[i+2,:]))\n",
    "    ef = df.iloc[i+3].rename_axis('date').reset_index()\n",
    "    ef['date'] = ef['date'].astype('datetime64[ns]')\n",
    "    ax[i].bar(ef.date,ef.iloc[:,-1],color = '#007acc',alpha=0.3)\n",
    "    ax[i].plot(ef.date,ef.iloc[:,-1],marker='o',color='#007acc')\n",
    "    ax[i].text(0.02,0.5,f'{ef.columns.values[-1]}',transform = ax[i].transAxes, fontsize = 20);\n",
    "    ax[i].xaxis.set_major_locator(mdates.WeekdayLocator())\n",
    "    ax[i].xaxis.set_major_formatter(mdates.DateFormatter('%b %d'))\n",
    "    ax[i].set_ylim([0,7000])\n",
    "    ax[i].spines['right'].set_visible(False)\n",
    "    ax[i].spines['top'].set_visible(False)\n",
    "plt.tight_layout()\n"
   ]
  },
  {
   "cell_type": "code",
   "execution_count": 20,
   "metadata": {
    "execution": {
     "iopub.execute_input": "2020-09-29T11:38:50.153096Z",
     "iopub.status.busy": "2020-09-29T11:38:50.152374Z",
     "iopub.status.idle": "2020-09-29T11:38:50.154782Z",
     "shell.execute_reply": "2020-09-29T11:38:50.155343Z"
    },
    "papermill": {
     "duration": 0.035721,
     "end_time": "2020-09-29T11:38:50.155515",
     "exception": false,
     "start_time": "2020-09-29T11:38:50.119794",
     "status": "completed"
    },
    "tags": []
   },
   "outputs": [
    {
     "name": "stdout",
     "output_type": "stream",
     "text": [
      "                                   states    Cases  Deaths   PCases  PDeaths  Cases (+)  Deaths (+)  Fatality Rate\n",
      "                              Maharashtra  1351153   35751  1351153    35751          0           0           2.65\n",
      "                           Andhra Pradesh   681161    5745   681161     5745          0           0           0.84\n",
      "                               Tamil Nadu   586397    9383   586397     9383          0           0           1.60\n",
      "                                Karnataka   582458    8641   582458     8641          0           0           1.48\n",
      "                            Uttar Pradesh   390875    5652   390875     5652          0           0           1.45\n",
      "                                    Delhi   273098    5272   273098     5272          0           0           1.93\n",
      "                              West Bengal   250580    4837   250580     4837          0           0           1.93\n",
      "                                   Odisha   215676     881   212609      866       3067          15           0.41\n",
      "                                Telangana   189283    1116   187211     1107       2072           9           0.59\n",
      "                                    Bihar   180032     892   180032      892          0           0           0.50\n",
      "                                   Kerala   179923     698   179923      698          0           0           0.39\n",
      "                                    Assam   173629     667   173629      667          0           0           0.38\n",
      "                                  Gujarat   134623    3431   134623     3431          0           0           2.55\n",
      "                                Rajasthan   130971    1456   130971     1456          0           0           1.11\n",
      "                                  Haryana   125412    1331   125412     1331          0           0           1.06\n",
      "                           Madhya Pradesh   124166    2242   124166     2242          0           0           1.81\n",
      "                                   Punjab   111375    3284   111375     3284          0           0           2.95\n",
      "                             Chhattisgarh   108458     877   108458      877          0           0           0.81\n",
      "                                Jharkhand    81417     688    81417      688          0           0           0.85\n",
      "                        Jammu and Kashmir    73014    1146    73014     1146          0           0           1.57\n",
      "                              Uttarakhand    47502     580    47502      580          0           0           1.22\n",
      "                                      Goa    32396     407    32396      407          0           0           1.26\n",
      "                               Puducherry    26685     515    26685      515          0           0           1.93\n",
      "                                  Tripura    25350     273    24918      270        432           3           1.08\n",
      "                         Himachal Pradesh    14457     175    14457      175          0           0           1.21\n",
      "                               Chandigarh    11678     153    11678      153          0           0           1.31\n",
      "                                  Manipur    10477      64    10477       64          0           0           0.61\n",
      "                        Arunachal Pradesh     9332      15     9332       15          0           0           0.16\n",
      "                                 Nagaland     5957      12     5957       12          0           0           0.20\n",
      "                                Meghalaya     5362      46     5362       46          0           0           0.86\n",
      "                                   Ladakh     4152      58     4152       58          0           0           1.40\n",
      "              Andaman and Nicobar Islands     3803      53     3803       53          0           0           1.39\n",
      " Dadra and Nagar Haveli and Daman and Diu     3015       2     3015        2          0           0           0.07\n",
      "                                   Sikkim     2815      35     2815       35          0           0           1.24\n",
      "                                  Mizoram     1958       0     1908        0         50           0           0.00\n",
      "                              Lakshadweep        0       0        0        0          0           0            NaN\n"
     ]
    }
   ],
   "source": [
    "#hide_input\n",
    "print(df_table.to_string(index=False))"
   ]
  },
  {
   "cell_type": "code",
   "execution_count": null,
   "metadata": {
    "papermill": {
     "duration": 0.024909,
     "end_time": "2020-09-29T11:38:50.204666",
     "exception": false,
     "start_time": "2020-09-29T11:38:50.179757",
     "status": "completed"
    },
    "tags": []
   },
   "outputs": [],
   "source": []
  },
  {
   "cell_type": "code",
   "execution_count": null,
   "metadata": {
    "papermill": {
     "duration": 0.025037,
     "end_time": "2020-09-29T11:38:50.254188",
     "exception": false,
     "start_time": "2020-09-29T11:38:50.229151",
     "status": "completed"
    },
    "tags": []
   },
   "outputs": [],
   "source": []
  }
 ],
 "metadata": {
  "kernelspec": {
   "display_name": "Python 3",
   "language": "python",
   "name": "python3"
  },
  "language_info": {
   "codemirror_mode": {
    "name": "ipython",
    "version": 3
   },
   "file_extension": ".py",
   "mimetype": "text/x-python",
   "name": "python",
   "nbconvert_exporter": "python",
   "pygments_lexer": "ipython3",
   "version": "3.6.12"
  },
  "papermill": {
   "duration": 12.375637,
   "end_time": "2020-09-29T11:38:51.518057",
   "environment_variables": {},
   "exception": null,
   "input_path": "latest.ipynb",
   "output_path": "latest.ipynb",
   "parameters": {},
   "start_time": "2020-09-29T11:38:39.142420",
   "version": "2.1.2"
  }
 },
 "nbformat": 4,
 "nbformat_minor": 4
}