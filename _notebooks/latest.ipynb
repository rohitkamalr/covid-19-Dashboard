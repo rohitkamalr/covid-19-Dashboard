{
 "cells": [
  {
   "cell_type": "markdown",
   "metadata": {
    "papermill": {
     "duration": 0.09882,
     "end_time": "2020-08-16T13:51:48.078172",
     "exception": false,
     "start_time": "2020-08-16T13:51:47.979352",
     "status": "completed"
    },
    "tags": []
   },
   "source": [
    "# Latest COVID-19 India Matplotlib Overview"
   ]
  },
  {
   "cell_type": "code",
   "execution_count": 1,
   "metadata": {
    "execution": {
     "iopub.execute_input": "2020-08-16T13:51:48.259214Z",
     "iopub.status.busy": "2020-08-16T13:51:48.258524Z",
     "iopub.status.idle": "2020-08-16T13:51:48.866217Z",
     "shell.execute_reply": "2020-08-16T13:51:48.866744Z"
    },
    "papermill": {
     "duration": 0.632265,
     "end_time": "2020-08-16T13:51:48.866933",
     "exception": false,
     "start_time": "2020-08-16T13:51:48.234668",
     "status": "completed"
    },
    "tags": []
   },
   "outputs": [],
   "source": [
    "#hide\n",
    "import pandas as pd\n",
    "import numpy as np\n",
    "import requests\n",
    "import json\n",
    "import matplotlib.pyplot as plt\n",
    "import matplotlib.dates as mdates\n",
    "import matplotlib as mpl\n",
    "from IPython.core.display import display,HTML\n",
    "%matplotlib inline\n",
    "from datetime import date"
   ]
  },
  {
   "cell_type": "code",
   "execution_count": 2,
   "metadata": {
    "execution": {
     "iopub.execute_input": "2020-08-16T13:51:48.908454Z",
     "iopub.status.busy": "2020-08-16T13:51:48.907555Z",
     "iopub.status.idle": "2020-08-16T13:51:49.044742Z",
     "shell.execute_reply": "2020-08-16T13:51:49.044132Z"
    },
    "papermill": {
     "duration": 0.160904,
     "end_time": "2020-08-16T13:51:49.044909",
     "exception": false,
     "start_time": "2020-08-16T13:51:48.884005",
     "status": "completed"
    },
    "tags": []
   },
   "outputs": [],
   "source": [
    "#hide\n",
    "df  = pd.read_csv('https://api.covid19india.org/csv/latest/states.csv')\n",
    "df = df[['Date','State','Confirmed','Deceased']]\n",
    "df = df.rename(columns={'Confirmed':'Cases', \"Deceased\":'Deaths'})\n",
    "df_cases = df[[\"Date\",'State','Cases']]\n",
    "df_deaths = df[['Date','State','Deaths']]\n",
    "df_cases1 = df_cases.groupby('Date')\n",
    "df_deaths1= df_deaths.groupby('Date')"
   ]
  },
  {
   "cell_type": "code",
   "execution_count": 3,
   "metadata": {
    "execution": {
     "iopub.execute_input": "2020-08-16T13:51:49.084175Z",
     "iopub.status.busy": "2020-08-16T13:51:49.083538Z",
     "iopub.status.idle": "2020-08-16T13:51:49.102184Z",
     "shell.execute_reply": "2020-08-16T13:51:49.101607Z"
    },
    "papermill": {
     "duration": 0.039998,
     "end_time": "2020-08-16T13:51:49.102306",
     "exception": false,
     "start_time": "2020-08-16T13:51:49.062308",
     "status": "completed"
    },
    "tags": []
   },
   "outputs": [],
   "source": [
    "#hide\n",
    "df_snap = pd.read_csv('data/SnapshotCases-28-July.csv')\n",
    "arr_states = df_snap['states'].unique()\n",
    "arr_dates = df['Date'].unique()\n",
    "df_snap = df_snap.set_index('states')"
   ]
  },
  {
   "cell_type": "code",
   "execution_count": 4,
   "metadata": {
    "execution": {
     "iopub.execute_input": "2020-08-16T13:51:49.141912Z",
     "iopub.status.busy": "2020-08-16T13:51:49.141298Z",
     "iopub.status.idle": "2020-08-16T13:51:49.143903Z",
     "shell.execute_reply": "2020-08-16T13:51:49.144519Z"
    },
    "papermill": {
     "duration": 0.026232,
     "end_time": "2020-08-16T13:51:49.144700",
     "exception": false,
     "start_time": "2020-08-16T13:51:49.118468",
     "status": "completed"
    },
    "tags": []
   },
   "outputs": [
    {
     "data": {
      "text/plain": [
       "array(['Andaman and Nicobar Islands', 'Andhra Pradesh',\n",
       "       'Arunachal Pradesh', 'Assam', 'Bihar', 'Chandigarh',\n",
       "       'Dadra and Nagar Haveli and Daman and Diu', 'Delhi', 'Goa',\n",
       "       'Gujarat', 'Haryana', 'Himachal Pradesh', 'Jammu and Kashmir',\n",
       "       'Jharkhand', 'Karnataka', 'Kerala', 'Lakshadweep',\n",
       "       'Madhya Pradesh', 'Maharashtra', 'Manipur', 'Meghalaya', 'Mizoram',\n",
       "       'Nagaland', 'Odisha', 'Puducherry', 'Punjab', 'Rajasthan',\n",
       "       'Sikkim', 'Tamil Nadu', 'Telangana', 'Tripura', 'Uttar Pradesh',\n",
       "       'West Bengal', 'Chhattisgarh', 'Ladakh', 'Uttarakhand'],\n",
       "      dtype=object)"
      ]
     },
     "execution_count": 4,
     "metadata": {},
     "output_type": "execute_result"
    }
   ],
   "source": [
    "#hide\n",
    "arr_states[-9] = 'Puducherry'\n",
    "arr_states[-10] = 'Odisha'\n",
    "arr_states[6] = 'Dadra and Nagar Haveli and Daman and Diu'\n",
    "arr_states = np.append(arr_states,np.array(['Chhattisgarh','Ladakh','Uttarakhand']))\n",
    "arr_states"
   ]
  },
  {
   "cell_type": "code",
   "execution_count": 5,
   "metadata": {
    "execution": {
     "iopub.execute_input": "2020-08-16T13:51:49.187089Z",
     "iopub.status.busy": "2020-08-16T13:51:49.186322Z",
     "iopub.status.idle": "2020-08-16T13:51:49.194584Z",
     "shell.execute_reply": "2020-08-16T13:51:49.195117Z"
    },
    "papermill": {
     "duration": 0.032459,
     "end_time": "2020-08-16T13:51:49.195241",
     "exception": false,
     "start_time": "2020-08-16T13:51:49.162782",
     "status": "completed"
    },
    "tags": []
   },
   "outputs": [],
   "source": [
    "#hide\n",
    "dates = []\n",
    "for i in arr_dates:\n",
    "    if i>='2020-07-01':\n",
    "        dates.append(i)\n",
    "dict = {'states':dates}\n",
    "for i in arr_states:\n",
    "    dict[i] = [0]*len(dates)\n",
    "dft_cases = pd.DataFrame(dict)\n",
    "dft_deaths = pd.DataFrame(dict)\n"
   ]
  },
  {
   "cell_type": "code",
   "execution_count": 6,
   "metadata": {
    "execution": {
     "iopub.execute_input": "2020-08-16T13:51:49.232810Z",
     "iopub.status.busy": "2020-08-16T13:51:49.232058Z",
     "iopub.status.idle": "2020-08-16T13:51:50.066046Z",
     "shell.execute_reply": "2020-08-16T13:51:50.065457Z"
    },
    "papermill": {
     "duration": 0.855499,
     "end_time": "2020-08-16T13:51:50.066193",
     "exception": false,
     "start_time": "2020-08-16T13:51:49.210694",
     "status": "completed"
    },
    "tags": []
   },
   "outputs": [],
   "source": [
    "#hide\n",
    "for i in range(len(dates)):\n",
    "    df1_deaths = df_deaths1.get_group(dates[i])\n",
    "    for j in range(len(df1_deaths.index)):\n",
    "        if df1_deaths.iloc[j,1] in arr_states:\n",
    "            dft_deaths.loc[i,df1_deaths.iloc[j,1]] = df1_deaths.iloc[j,2]\n",
    "dft_deaths = dft_deaths.set_index('states')"
   ]
  },
  {
   "cell_type": "code",
   "execution_count": 7,
   "metadata": {
    "execution": {
     "iopub.execute_input": "2020-08-16T13:51:50.107163Z",
     "iopub.status.busy": "2020-08-16T13:51:50.106525Z",
     "iopub.status.idle": "2020-08-16T13:51:50.945923Z",
     "shell.execute_reply": "2020-08-16T13:51:50.946549Z"
    },
    "papermill": {
     "duration": 0.863091,
     "end_time": "2020-08-16T13:51:50.946744",
     "exception": false,
     "start_time": "2020-08-16T13:51:50.083653",
     "status": "completed"
    },
    "tags": []
   },
   "outputs": [],
   "source": [
    "#hide\n",
    "for i in range(len(dates)):\n",
    "    df1_cases = df_cases1.get_group(dates[i])\n",
    "    for j in range(len(df1_cases.index)):\n",
    "        if df1_cases.iloc[j,1] in arr_states:\n",
    "            dft_cases.loc[i,df1_cases.iloc[j,1]] = df1_cases.iloc[j,2]\n",
    "dft_cases = dft_cases.set_index('states')"
   ]
  },
  {
   "cell_type": "code",
   "execution_count": 8,
   "metadata": {
    "execution": {
     "iopub.execute_input": "2020-08-16T13:51:50.987556Z",
     "iopub.status.busy": "2020-08-16T13:51:50.986937Z",
     "iopub.status.idle": "2020-08-16T13:51:50.989263Z",
     "shell.execute_reply": "2020-08-16T13:51:50.988764Z"
    },
    "papermill": {
     "duration": 0.025398,
     "end_time": "2020-08-16T13:51:50.989383",
     "exception": false,
     "start_time": "2020-08-16T13:51:50.963985",
     "status": "completed"
    },
    "tags": []
   },
   "outputs": [],
   "source": [
    "#hide\n",
    "dft_cases = dft_cases.T\n",
    "dft_deaths = dft_deaths.T\n",
    "dt_today = dates[-1]\n",
    "dt_yday = dates[-2]"
   ]
  },
  {
   "cell_type": "code",
   "execution_count": 9,
   "metadata": {
    "execution": {
     "iopub.execute_input": "2020-08-16T13:51:51.029608Z",
     "iopub.status.busy": "2020-08-16T13:51:51.029003Z",
     "iopub.status.idle": "2020-08-16T13:51:51.036193Z",
     "shell.execute_reply": "2020-08-16T13:51:51.035653Z"
    },
    "papermill": {
     "duration": 0.029611,
     "end_time": "2020-08-16T13:51:51.036312",
     "exception": false,
     "start_time": "2020-08-16T13:51:51.006701",
     "status": "completed"
    },
    "tags": []
   },
   "outputs": [],
   "source": [
    "#hide\n",
    "dft_cases = dft_cases.reset_index()\n",
    "dft_deaths = dft_deaths.reset_index()\n",
    "dft_cases = dft_cases.rename(columns = {'index':'state'})\n",
    "dft_deaths = dft_deaths.rename(columns = {'index':'state'})"
   ]
  },
  {
   "cell_type": "code",
   "execution_count": 10,
   "metadata": {
    "execution": {
     "iopub.execute_input": "2020-08-16T13:51:51.082534Z",
     "iopub.status.busy": "2020-08-16T13:51:51.081899Z",
     "iopub.status.idle": "2020-08-16T13:51:51.086596Z",
     "shell.execute_reply": "2020-08-16T13:51:51.086084Z"
    },
    "papermill": {
     "duration": 0.033691,
     "end_time": "2020-08-16T13:51:51.086730",
     "exception": false,
     "start_time": "2020-08-16T13:51:51.053039",
     "status": "completed"
    },
    "tags": []
   },
   "outputs": [],
   "source": [
    "#hide\n",
    "dfc_cases = dft_cases.groupby('state')[dt_today].sum()\n",
    "dfc_deaths = dft_deaths.groupby('state')[dt_today].sum()\n",
    "dfp_cases = dft_cases.groupby('state')[dt_yday].sum()\n",
    "dfp_deaths = dft_deaths.groupby('state')[dt_yday].sum()"
   ]
  },
  {
   "cell_type": "code",
   "execution_count": 11,
   "metadata": {
    "execution": {
     "iopub.execute_input": "2020-08-16T13:51:51.130328Z",
     "iopub.status.busy": "2020-08-16T13:51:51.129642Z",
     "iopub.status.idle": "2020-08-16T13:51:51.150757Z",
     "shell.execute_reply": "2020-08-16T13:51:51.150259Z"
    },
    "papermill": {
     "duration": 0.047457,
     "end_time": "2020-08-16T13:51:51.150884",
     "exception": false,
     "start_time": "2020-08-16T13:51:51.103427",
     "status": "completed"
    },
    "tags": []
   },
   "outputs": [
    {
     "data": {
      "text/html": [
       "<div>\n",
       "<style scoped>\n",
       "    .dataframe tbody tr th:only-of-type {\n",
       "        vertical-align: middle;\n",
       "    }\n",
       "\n",
       "    .dataframe tbody tr th {\n",
       "        vertical-align: top;\n",
       "    }\n",
       "\n",
       "    .dataframe thead th {\n",
       "        text-align: right;\n",
       "    }\n",
       "</style>\n",
       "<table border=\"1\" class=\"dataframe\">\n",
       "  <thead>\n",
       "    <tr style=\"text-align: right;\">\n",
       "      <th></th>\n",
       "      <th>states</th>\n",
       "      <th>Cases</th>\n",
       "      <th>Deaths</th>\n",
       "      <th>PCases</th>\n",
       "      <th>PDeaths</th>\n",
       "    </tr>\n",
       "  </thead>\n",
       "  <tbody>\n",
       "    <tr>\n",
       "      <th>0</th>\n",
       "      <td>Maharashtra</td>\n",
       "      <td>584754</td>\n",
       "      <td>19749</td>\n",
       "      <td>584754</td>\n",
       "      <td>19749</td>\n",
       "    </tr>\n",
       "    <tr>\n",
       "      <th>1</th>\n",
       "      <td>Tamil Nadu</td>\n",
       "      <td>338055</td>\n",
       "      <td>5766</td>\n",
       "      <td>332105</td>\n",
       "      <td>5641</td>\n",
       "    </tr>\n",
       "    <tr>\n",
       "      <th>2</th>\n",
       "      <td>Andhra Pradesh</td>\n",
       "      <td>289829</td>\n",
       "      <td>2650</td>\n",
       "      <td>281817</td>\n",
       "      <td>2562</td>\n",
       "    </tr>\n",
       "    <tr>\n",
       "      <th>3</th>\n",
       "      <td>Karnataka</td>\n",
       "      <td>219926</td>\n",
       "      <td>3832</td>\n",
       "      <td>219926</td>\n",
       "      <td>3832</td>\n",
       "    </tr>\n",
       "    <tr>\n",
       "      <th>4</th>\n",
       "      <td>Uttar Pradesh</td>\n",
       "      <td>154418</td>\n",
       "      <td>2449</td>\n",
       "      <td>150061</td>\n",
       "      <td>2393</td>\n",
       "    </tr>\n",
       "  </tbody>\n",
       "</table>\n",
       "</div>"
      ],
      "text/plain": [
       "           states   Cases  Deaths  PCases  PDeaths\n",
       "0     Maharashtra  584754   19749  584754    19749\n",
       "1      Tamil Nadu  338055    5766  332105     5641\n",
       "2  Andhra Pradesh  289829    2650  281817     2562\n",
       "3       Karnataka  219926    3832  219926     3832\n",
       "4   Uttar Pradesh  154418    2449  150061     2393"
      ]
     },
     "execution_count": 11,
     "metadata": {},
     "output_type": "execute_result"
    }
   ],
   "source": [
    "#hide\n",
    "df_table = pd.DataFrame({'states': dfc_cases.index, 'Cases': dfc_cases.values, 'Deaths': dfc_deaths.values, 'PCases': dfp_cases.values, 'PDeaths': dfp_deaths.values}).set_index('states')\n",
    "df_table = df_table.sort_values(by = ['Cases','Deaths'], ascending = [False, False])\n",
    "df_table = df_table.reset_index()\n",
    "df_table.head()"
   ]
  },
  {
   "cell_type": "code",
   "execution_count": 12,
   "metadata": {
    "execution": {
     "iopub.execute_input": "2020-08-16T13:51:51.191673Z",
     "iopub.status.busy": "2020-08-16T13:51:51.191002Z",
     "iopub.status.idle": "2020-08-16T13:51:51.200928Z",
     "shell.execute_reply": "2020-08-16T13:51:51.201495Z"
    },
    "papermill": {
     "duration": 0.033329,
     "end_time": "2020-08-16T13:51:51.201639",
     "exception": false,
     "start_time": "2020-08-16T13:51:51.168310",
     "status": "completed"
    },
    "tags": []
   },
   "outputs": [],
   "source": [
    "#hide\n",
    "for c in 'Cases, Deaths'.split(', '):\n",
    "    df_table[f'{c} (+)'] = (df_table[c] - df_table[f'P{c}']).clip(0)\n",
    "df_table['Fatality Rate'] = (100* df_table['Deaths']/ df_table['Cases']).round(2)"
   ]
  },
  {
   "cell_type": "code",
   "execution_count": 13,
   "metadata": {
    "execution": {
     "iopub.execute_input": "2020-08-16T13:51:51.250227Z",
     "iopub.status.busy": "2020-08-16T13:51:51.249590Z",
     "iopub.status.idle": "2020-08-16T13:51:51.252963Z",
     "shell.execute_reply": "2020-08-16T13:51:51.252412Z"
    },
    "papermill": {
     "duration": 0.032598,
     "end_time": "2020-08-16T13:51:51.253083",
     "exception": false,
     "start_time": "2020-08-16T13:51:51.220485",
     "status": "completed"
    },
    "tags": []
   },
   "outputs": [
    {
     "data": {
      "text/html": [
       "<div>\n",
       "<style scoped>\n",
       "    .dataframe tbody tr th:only-of-type {\n",
       "        vertical-align: middle;\n",
       "    }\n",
       "\n",
       "    .dataframe tbody tr th {\n",
       "        vertical-align: top;\n",
       "    }\n",
       "\n",
       "    .dataframe thead th {\n",
       "        text-align: right;\n",
       "    }\n",
       "</style>\n",
       "<table border=\"1\" class=\"dataframe\">\n",
       "  <thead>\n",
       "    <tr style=\"text-align: right;\">\n",
       "      <th></th>\n",
       "      <th>states</th>\n",
       "      <th>Cases</th>\n",
       "      <th>Deaths</th>\n",
       "      <th>PCases</th>\n",
       "      <th>PDeaths</th>\n",
       "      <th>Cases (+)</th>\n",
       "      <th>Deaths (+)</th>\n",
       "      <th>Fatality Rate</th>\n",
       "    </tr>\n",
       "  </thead>\n",
       "  <tbody>\n",
       "    <tr>\n",
       "      <th>0</th>\n",
       "      <td>Maharashtra</td>\n",
       "      <td>584754</td>\n",
       "      <td>19749</td>\n",
       "      <td>584754</td>\n",
       "      <td>19749</td>\n",
       "      <td>0</td>\n",
       "      <td>0</td>\n",
       "      <td>3.38</td>\n",
       "    </tr>\n",
       "    <tr>\n",
       "      <th>1</th>\n",
       "      <td>Tamil Nadu</td>\n",
       "      <td>338055</td>\n",
       "      <td>5766</td>\n",
       "      <td>332105</td>\n",
       "      <td>5641</td>\n",
       "      <td>5950</td>\n",
       "      <td>125</td>\n",
       "      <td>1.71</td>\n",
       "    </tr>\n",
       "    <tr>\n",
       "      <th>2</th>\n",
       "      <td>Andhra Pradesh</td>\n",
       "      <td>289829</td>\n",
       "      <td>2650</td>\n",
       "      <td>281817</td>\n",
       "      <td>2562</td>\n",
       "      <td>8012</td>\n",
       "      <td>88</td>\n",
       "      <td>0.91</td>\n",
       "    </tr>\n",
       "    <tr>\n",
       "      <th>3</th>\n",
       "      <td>Karnataka</td>\n",
       "      <td>219926</td>\n",
       "      <td>3832</td>\n",
       "      <td>219926</td>\n",
       "      <td>3832</td>\n",
       "      <td>0</td>\n",
       "      <td>0</td>\n",
       "      <td>1.74</td>\n",
       "    </tr>\n",
       "    <tr>\n",
       "      <th>4</th>\n",
       "      <td>Uttar Pradesh</td>\n",
       "      <td>154418</td>\n",
       "      <td>2449</td>\n",
       "      <td>150061</td>\n",
       "      <td>2393</td>\n",
       "      <td>4357</td>\n",
       "      <td>56</td>\n",
       "      <td>1.59</td>\n",
       "    </tr>\n",
       "  </tbody>\n",
       "</table>\n",
       "</div>"
      ],
      "text/plain": [
       "           states   Cases  Deaths  PCases  PDeaths  Cases (+)  Deaths (+)  \\\n",
       "0     Maharashtra  584754   19749  584754    19749          0           0   \n",
       "1      Tamil Nadu  338055    5766  332105     5641       5950         125   \n",
       "2  Andhra Pradesh  289829    2650  281817     2562       8012          88   \n",
       "3       Karnataka  219926    3832  219926     3832          0           0   \n",
       "4   Uttar Pradesh  154418    2449  150061     2393       4357          56   \n",
       "\n",
       "   Fatality Rate  \n",
       "0           3.38  \n",
       "1           1.71  \n",
       "2           0.91  \n",
       "3           1.74  \n",
       "4           1.59  "
      ]
     },
     "execution_count": 13,
     "metadata": {},
     "output_type": "execute_result"
    }
   ],
   "source": [
    "#hide\n",
    "df_table.head()"
   ]
  },
  {
   "cell_type": "code",
   "execution_count": 14,
   "metadata": {
    "execution": {
     "iopub.execute_input": "2020-08-16T13:51:51.295728Z",
     "iopub.status.busy": "2020-08-16T13:51:51.295119Z",
     "iopub.status.idle": "2020-08-16T13:51:51.314753Z",
     "shell.execute_reply": "2020-08-16T13:51:51.315271Z"
    },
    "papermill": {
     "duration": 0.044796,
     "end_time": "2020-08-16T13:51:51.315412",
     "exception": false,
     "start_time": "2020-08-16T13:51:51.270616",
     "status": "completed"
    },
    "tags": []
   },
   "outputs": [
    {
     "data": {
      "text/plain": [
       "{'updated': '2020-08-16',\n",
       " 'since': '2020-08-15',\n",
       " 'Cases': 2618877,\n",
       " 'PCases': 2589208,\n",
       " 'Deaths': 50464,\n",
       " 'PDeaths': 50085,\n",
       " 'Cases (+)': 29669,\n",
       " 'Deaths (+)': 379}"
      ]
     },
     "execution_count": 14,
     "metadata": {},
     "output_type": "execute_result"
    }
   ],
   "source": [
    "#hide\n",
    "summary = {'updated':dates[-1], 'since':dates[-2]}\n",
    "list_names = ['Cases', 'PCases', 'Deaths', 'PDeaths', 'Cases (+)', 'Deaths (+)']\n",
    "for name in list_names:\n",
    "    summary[name] = df_table.sum()[name]\n",
    "summary"
   ]
  },
  {
   "cell_type": "code",
   "execution_count": 15,
   "metadata": {
    "execution": {
     "iopub.execute_input": "2020-08-16T13:51:51.360911Z",
     "iopub.status.busy": "2020-08-16T13:51:51.360013Z",
     "iopub.status.idle": "2020-08-16T13:51:51.363438Z",
     "shell.execute_reply": "2020-08-16T13:51:51.362768Z"
    },
    "papermill": {
     "duration": 0.028607,
     "end_time": "2020-08-16T13:51:51.363613",
     "exception": false,
     "start_time": "2020-08-16T13:51:51.335006",
     "status": "completed"
    },
    "tags": []
   },
   "outputs": [],
   "source": [
    "#hide\n",
    "overview = '''\n",
    "<!-- #######  HTML!! #########-->\n",
    "<h1 style=\"color: #5e9ca0; text-align: center;\">India</h1>\n",
    "<p style=\"text-align: center;\">Last update: <strong>{update}</strong></p>\n",
    "<p style=\"text-align: center;\">Confirmed cases:</p>\n",
    "<p style=\"text-align: center;font-size:24px;\">{cases} (<span style=\"color: #ff0000;\">+{new}</span>)</p>\n",
    "<p style=\"text-align: center;\">Confirmed deaths:</p>\n",
    "<p style=\"text-align: center;font-size:24px;\">{deaths} (<span style=\"color: #ff0000;\">+{dnew}</span>)</p>\n",
    "'''"
   ]
  },
  {
   "cell_type": "code",
   "execution_count": 16,
   "metadata": {
    "execution": {
     "iopub.execute_input": "2020-08-16T13:51:51.408853Z",
     "iopub.status.busy": "2020-08-16T13:51:51.407940Z",
     "iopub.status.idle": "2020-08-16T13:51:51.412498Z",
     "shell.execute_reply": "2020-08-16T13:51:51.411683Z"
    },
    "papermill": {
     "duration": 0.029544,
     "end_time": "2020-08-16T13:51:51.412635",
     "exception": false,
     "start_time": "2020-08-16T13:51:51.383091",
     "status": "completed"
    },
    "tags": []
   },
   "outputs": [
    {
     "data": {
      "text/html": [
       "\n",
       "<!-- #######  HTML!! #########-->\n",
       "<h1 style=\"color: #5e9ca0; text-align: center;\">India</h1>\n",
       "<p style=\"text-align: center;\">Last update: <strong>2020-08-16</strong></p>\n",
       "<p style=\"text-align: center;\">Confirmed cases:</p>\n",
       "<p style=\"text-align: center;font-size:24px;\">2618877 (<span style=\"color: #ff0000;\">+29669</span>)</p>\n",
       "<p style=\"text-align: center;\">Confirmed deaths:</p>\n",
       "<p style=\"text-align: center;font-size:24px;\">50464 (<span style=\"color: #ff0000;\">+379</span>)</p>\n"
      ],
      "text/plain": [
       "<IPython.core.display.HTML object>"
      ]
     },
     "metadata": {},
     "output_type": "display_data"
    }
   ],
   "source": [
    "#hide_input\n",
    "update = summary['updated']\n",
    "cases = summary['Cases']\n",
    "new = summary['Cases (+)']\n",
    "deaths = summary['Deaths']\n",
    "dnew = summary['Deaths (+)']\n",
    "\n",
    "html = HTML(overview.format(update=update, cases=cases,new=new,deaths=deaths,dnew=dnew))\n",
    "\n",
    "display(html)"
   ]
  },
  {
   "cell_type": "code",
   "execution_count": 17,
   "metadata": {
    "execution": {
     "iopub.execute_input": "2020-08-16T13:51:51.459931Z",
     "iopub.status.busy": "2020-08-16T13:51:51.459178Z",
     "iopub.status.idle": "2020-08-16T13:51:51.465502Z",
     "shell.execute_reply": "2020-08-16T13:51:51.464882Z"
    },
    "papermill": {
     "duration": 0.032858,
     "end_time": "2020-08-16T13:51:51.465618",
     "exception": false,
     "start_time": "2020-08-16T13:51:51.432760",
     "status": "completed"
    },
    "tags": []
   },
   "outputs": [],
   "source": [
    "#hide\n",
    "dt_cols = list(dft_cases.columns[1:])\n",
    "dft_ct_new_cases = dft_cases.groupby('state')[dt_cols].sum().diff(axis=1).fillna(0).astype(int)\n",
    "dft_ct_new_cases.sort_values(by = dates[-1], ascending = False,inplace = True)"
   ]
  },
  {
   "cell_type": "code",
   "execution_count": 18,
   "metadata": {
    "execution": {
     "iopub.execute_input": "2020-08-16T13:51:51.509779Z",
     "iopub.status.busy": "2020-08-16T13:51:51.509110Z",
     "iopub.status.idle": "2020-08-16T13:51:51.525753Z",
     "shell.execute_reply": "2020-08-16T13:51:51.525089Z"
    },
    "papermill": {
     "duration": 0.041017,
     "end_time": "2020-08-16T13:51:51.525882",
     "exception": false,
     "start_time": "2020-08-16T13:51:51.484865",
     "status": "completed"
    },
    "tags": []
   },
   "outputs": [
    {
     "data": {
      "text/html": [
       "<div>\n",
       "<style scoped>\n",
       "    .dataframe tbody tr th:only-of-type {\n",
       "        vertical-align: middle;\n",
       "    }\n",
       "\n",
       "    .dataframe tbody tr th {\n",
       "        vertical-align: top;\n",
       "    }\n",
       "\n",
       "    .dataframe thead th {\n",
       "        text-align: right;\n",
       "    }\n",
       "</style>\n",
       "<table border=\"1\" class=\"dataframe\">\n",
       "  <thead>\n",
       "    <tr style=\"text-align: right;\">\n",
       "      <th>states</th>\n",
       "      <th>2020-07-01</th>\n",
       "      <th>2020-07-02</th>\n",
       "      <th>2020-07-03</th>\n",
       "      <th>2020-07-04</th>\n",
       "      <th>2020-07-05</th>\n",
       "      <th>2020-07-06</th>\n",
       "      <th>2020-07-07</th>\n",
       "      <th>2020-07-08</th>\n",
       "      <th>2020-07-09</th>\n",
       "      <th>2020-07-10</th>\n",
       "      <th>...</th>\n",
       "      <th>2020-08-07</th>\n",
       "      <th>2020-08-08</th>\n",
       "      <th>2020-08-09</th>\n",
       "      <th>2020-08-10</th>\n",
       "      <th>2020-08-11</th>\n",
       "      <th>2020-08-12</th>\n",
       "      <th>2020-08-13</th>\n",
       "      <th>2020-08-14</th>\n",
       "      <th>2020-08-15</th>\n",
       "      <th>2020-08-16</th>\n",
       "    </tr>\n",
       "    <tr>\n",
       "      <th>state</th>\n",
       "      <th></th>\n",
       "      <th></th>\n",
       "      <th></th>\n",
       "      <th></th>\n",
       "      <th></th>\n",
       "      <th></th>\n",
       "      <th></th>\n",
       "      <th></th>\n",
       "      <th></th>\n",
       "      <th></th>\n",
       "      <th></th>\n",
       "      <th></th>\n",
       "      <th></th>\n",
       "      <th></th>\n",
       "      <th></th>\n",
       "      <th></th>\n",
       "      <th></th>\n",
       "      <th></th>\n",
       "      <th></th>\n",
       "      <th></th>\n",
       "      <th></th>\n",
       "    </tr>\n",
       "  </thead>\n",
       "  <tbody>\n",
       "    <tr>\n",
       "      <th>Andhra Pradesh</th>\n",
       "      <td>0</td>\n",
       "      <td>845</td>\n",
       "      <td>837</td>\n",
       "      <td>765</td>\n",
       "      <td>998</td>\n",
       "      <td>1322</td>\n",
       "      <td>1178</td>\n",
       "      <td>1062</td>\n",
       "      <td>1555</td>\n",
       "      <td>1608</td>\n",
       "      <td>...</td>\n",
       "      <td>10171</td>\n",
       "      <td>10080</td>\n",
       "      <td>10820</td>\n",
       "      <td>7665</td>\n",
       "      <td>9024</td>\n",
       "      <td>9597</td>\n",
       "      <td>9996</td>\n",
       "      <td>8943</td>\n",
       "      <td>8732</td>\n",
       "      <td>8012</td>\n",
       "    </tr>\n",
       "    <tr>\n",
       "      <th>Tamil Nadu</th>\n",
       "      <td>0</td>\n",
       "      <td>4343</td>\n",
       "      <td>4329</td>\n",
       "      <td>4280</td>\n",
       "      <td>4150</td>\n",
       "      <td>3827</td>\n",
       "      <td>3616</td>\n",
       "      <td>3756</td>\n",
       "      <td>4231</td>\n",
       "      <td>3680</td>\n",
       "      <td>...</td>\n",
       "      <td>5880</td>\n",
       "      <td>5883</td>\n",
       "      <td>5994</td>\n",
       "      <td>5914</td>\n",
       "      <td>5834</td>\n",
       "      <td>5871</td>\n",
       "      <td>5835</td>\n",
       "      <td>5890</td>\n",
       "      <td>5860</td>\n",
       "      <td>5950</td>\n",
       "    </tr>\n",
       "    <tr>\n",
       "      <th>Uttar Pradesh</th>\n",
       "      <td>0</td>\n",
       "      <td>769</td>\n",
       "      <td>972</td>\n",
       "      <td>757</td>\n",
       "      <td>1153</td>\n",
       "      <td>929</td>\n",
       "      <td>1332</td>\n",
       "      <td>1188</td>\n",
       "      <td>1206</td>\n",
       "      <td>1338</td>\n",
       "      <td>...</td>\n",
       "      <td>4404</td>\n",
       "      <td>4660</td>\n",
       "      <td>4571</td>\n",
       "      <td>4113</td>\n",
       "      <td>5041</td>\n",
       "      <td>4475</td>\n",
       "      <td>4537</td>\n",
       "      <td>4512</td>\n",
       "      <td>4774</td>\n",
       "      <td>4357</td>\n",
       "    </tr>\n",
       "    <tr>\n",
       "      <th>Odisha</th>\n",
       "      <td>0</td>\n",
       "      <td>229</td>\n",
       "      <td>561</td>\n",
       "      <td>495</td>\n",
       "      <td>469</td>\n",
       "      <td>456</td>\n",
       "      <td>571</td>\n",
       "      <td>527</td>\n",
       "      <td>577</td>\n",
       "      <td>755</td>\n",
       "      <td>...</td>\n",
       "      <td>1833</td>\n",
       "      <td>1643</td>\n",
       "      <td>1734</td>\n",
       "      <td>1528</td>\n",
       "      <td>1341</td>\n",
       "      <td>1876</td>\n",
       "      <td>1981</td>\n",
       "      <td>1977</td>\n",
       "      <td>2496</td>\n",
       "      <td>2924</td>\n",
       "    </tr>\n",
       "    <tr>\n",
       "      <th>Bihar</th>\n",
       "      <td>0</td>\n",
       "      <td>478</td>\n",
       "      <td>426</td>\n",
       "      <td>349</td>\n",
       "      <td>403</td>\n",
       "      <td>280</td>\n",
       "      <td>385</td>\n",
       "      <td>749</td>\n",
       "      <td>704</td>\n",
       "      <td>352</td>\n",
       "      <td>...</td>\n",
       "      <td>3646</td>\n",
       "      <td>3992</td>\n",
       "      <td>3934</td>\n",
       "      <td>3021</td>\n",
       "      <td>4071</td>\n",
       "      <td>3741</td>\n",
       "      <td>3906</td>\n",
       "      <td>3911</td>\n",
       "      <td>3536</td>\n",
       "      <td>2187</td>\n",
       "    </tr>\n",
       "  </tbody>\n",
       "</table>\n",
       "<p>5 rows × 47 columns</p>\n",
       "</div>"
      ],
      "text/plain": [
       "states          2020-07-01  2020-07-02  2020-07-03  2020-07-04  2020-07-05  \\\n",
       "state                                                                        \n",
       "Andhra Pradesh           0         845         837         765         998   \n",
       "Tamil Nadu               0        4343        4329        4280        4150   \n",
       "Uttar Pradesh            0         769         972         757        1153   \n",
       "Odisha                   0         229         561         495         469   \n",
       "Bihar                    0         478         426         349         403   \n",
       "\n",
       "states          2020-07-06  2020-07-07  2020-07-08  2020-07-09  2020-07-10  \\\n",
       "state                                                                        \n",
       "Andhra Pradesh        1322        1178        1062        1555        1608   \n",
       "Tamil Nadu            3827        3616        3756        4231        3680   \n",
       "Uttar Pradesh          929        1332        1188        1206        1338   \n",
       "Odisha                 456         571         527         577         755   \n",
       "Bihar                  280         385         749         704         352   \n",
       "\n",
       "states          ...  2020-08-07  2020-08-08  2020-08-09  2020-08-10  \\\n",
       "state           ...                                                   \n",
       "Andhra Pradesh  ...       10171       10080       10820        7665   \n",
       "Tamil Nadu      ...        5880        5883        5994        5914   \n",
       "Uttar Pradesh   ...        4404        4660        4571        4113   \n",
       "Odisha          ...        1833        1643        1734        1528   \n",
       "Bihar           ...        3646        3992        3934        3021   \n",
       "\n",
       "states          2020-08-11  2020-08-12  2020-08-13  2020-08-14  2020-08-15  \\\n",
       "state                                                                        \n",
       "Andhra Pradesh        9024        9597        9996        8943        8732   \n",
       "Tamil Nadu            5834        5871        5835        5890        5860   \n",
       "Uttar Pradesh         5041        4475        4537        4512        4774   \n",
       "Odisha                1341        1876        1981        1977        2496   \n",
       "Bihar                 4071        3741        3906        3911        3536   \n",
       "\n",
       "states          2020-08-16  \n",
       "state                       \n",
       "Andhra Pradesh        8012  \n",
       "Tamil Nadu            5950  \n",
       "Uttar Pradesh         4357  \n",
       "Odisha                2924  \n",
       "Bihar                 2187  \n",
       "\n",
       "[5 rows x 47 columns]"
      ]
     },
     "execution_count": 18,
     "metadata": {},
     "output_type": "execute_result"
    }
   ],
   "source": [
    "#hide\n",
    "dft_ct_new_cases.head()"
   ]
  },
  {
   "cell_type": "code",
   "execution_count": 19,
   "metadata": {
    "execution": {
     "iopub.execute_input": "2020-08-16T13:51:51.585224Z",
     "iopub.status.busy": "2020-08-16T13:51:51.579777Z",
     "iopub.status.idle": "2020-08-16T13:51:54.769848Z",
     "shell.execute_reply": "2020-08-16T13:51:54.770356Z"
    },
    "papermill": {
     "duration": 3.223911,
     "end_time": "2020-08-16T13:51:54.770516",
     "exception": false,
     "start_time": "2020-08-16T13:51:51.546605",
     "status": "completed"
    },
    "tags": []
   },
   "outputs": [
    {
     "data": {
      "image/png": "[encoded data removed]",
      "text/plain": [
       "<Figure size 1296x2016 with 11 Axes>"
      ]
     },
     "metadata": {
      "needs_background": "light"
     },
     "output_type": "display_data"
    }
   ],
   "source": [
    "#hide_input\n",
    "df = dft_ct_new_cases.copy()\n",
    "df.loc['Total'] = df.sum()\n",
    "n = 5\n",
    "ax = []\n",
    "fig = plt.figure(figsize = (18,28))\n",
    "gs = fig.add_gridspec(n+2, 5)\n",
    "# gs = fig.add_gridspec(2, 3)\n",
    "ax1 = fig.add_subplot(gs[0, :])\n",
    "ef = df.loc['Total'].rename_axis('date').reset_index()\n",
    "ef['date'] = ef['date'].astype('datetime64[ns]')\n",
    "ax1.bar(ef.date,ef.Total,alpha=0.3,color='#007acc')\n",
    "ax1.plot(ef.date,ef.Total , marker=\"o\", color='#007acc')\n",
    "ax1.xaxis.set_major_locator(mdates.WeekdayLocator())\n",
    "ax1.xaxis.set_major_formatter(mdates.DateFormatter('%b %d'))\n",
    "ax1.text(0.02, 0.5,'India daily case count', transform = ax1.transAxes, fontsize=25);\n",
    "ax1.spines['right'].set_visible(False)\n",
    "ax1.spines['top'].set_visible(False)\n",
    "\n",
    "ax2 = fig.add_subplot(gs[1,0])\n",
    "ef = df.loc['Maharashtra'].rename_axis('date').reset_index()\n",
    "ef['date'] = ef['date'].astype('datetime64[ns]')\n",
    "\n",
    "ax2.bar(ef.date, ef.Maharashtra,color = '#007acc',alpha=0.5)\n",
    "ax2.xaxis.set_major_locator(mdates.WeekdayLocator())\n",
    "ax2.xaxis.set_major_formatter(mdates.DateFormatter('%b %d'))\n",
    "ax2.set_xticks(ax2.get_xticks()[::3])\n",
    "maxyval = ef.Maharashtra.max()\n",
    "ax2.set_ylim([0,maxyval])\n",
    "ax2.text(0.05, 0.9,'Maharashtra', transform = ax2.transAxes, fontsize=20);\n",
    "ax2.spines['right'].set_visible(False)\n",
    "ax2.spines['top'].set_visible(False)\n",
    "\n",
    "\n",
    "ax3 = fig.add_subplot(gs[1,1])\n",
    "ef = df.loc['Tamil Nadu'].rename_axis('date').reset_index()\n",
    "ef['date'] = ef['date'].astype('datetime64[ns]')\n",
    "ax3.bar(ef.date, ef['Tamil Nadu'],color = '#007acc',alpha=0.5,)\n",
    "ax3.xaxis.set_major_locator(mdates.WeekdayLocator())\n",
    "ax3.xaxis.set_major_formatter(mdates.DateFormatter('%b %d'))\n",
    "ax3.set_xticks(ax3.get_xticks()[::3])\n",
    "ax3.text(0.05, 0.9,'Tamil Nadu', transform = ax3.transAxes, fontsize=20);\n",
    "ax3.spines['right'].set_visible(False)\n",
    "ax3.spines['top'].set_visible(False)\n",
    "\n",
    "ax5 = fig.add_subplot(gs[1,3])\n",
    "ef = df.loc['Telangana'].rename_axis('date').reset_index()\n",
    "ef['date'] = ef['date'].astype('datetime64[ns]')\n",
    "ax5.bar(ef.date, ef['Telangana'],color = '#007acc',alpha=0.5,)\n",
    "ax5.xaxis.set_major_locator(mdates.WeekdayLocator())\n",
    "ax5.xaxis.set_major_formatter(mdates.DateFormatter('%b %d'))\n",
    "ax5.set_xticks(ax5.get_xticks()[::3])\n",
    "ax5.text(0.05, 0.9,'Telangana', transform = ax5.transAxes, fontsize=20);\n",
    "ax5.spines['right'].set_visible(False)\n",
    "ax5.spines['top'].set_visible(False)\n",
    "\n",
    "ax6 = fig.add_subplot(gs[1,4])\n",
    "ef = df.loc['Andhra Pradesh'].rename_axis('date').reset_index()\n",
    "ef['date'] = ef['date'].astype('datetime64[ns]')\n",
    "ax6.bar(ef.date, ef['Andhra Pradesh'],color = '#007acc',alpha=0.5,)\n",
    "ax6.xaxis.set_major_locator(mdates.WeekdayLocator())\n",
    "ax6.xaxis.set_major_formatter(mdates.DateFormatter('%b %d'))\n",
    "ax6.set_xticks(ax6.get_xticks()[::3])\n",
    "ax6.text(0.05, 1,'Andhra Pradesh', transform = ax6.transAxes, fontsize=20);\n",
    "ax6.spines['right'].set_visible(False)\n",
    "ax6.spines['top'].set_visible(False)\n",
    "\n",
    "ax4 = fig.add_subplot(gs[1,2])\n",
    "ef = df.loc['Delhi'].rename_axis('date').reset_index()\n",
    "ef['date'] = ef['date'].astype('datetime64[ns]')\n",
    "ax4.bar(ef.date, ef.Delhi,color = '#007acc',alpha=0.5)\n",
    "ax4.set_xticks([])\n",
    "ax4.xaxis.set_major_locator(mdates.WeekdayLocator())\n",
    "ax4.xaxis.set_major_formatter(mdates.DateFormatter('%b %d'))\n",
    "ax4.set_xticks(ax4.get_xticks()[::3])\n",
    "ax4.spines['right'].set_visible(False)\n",
    "ax4.spines['top'].set_visible(False)\n",
    "\n",
    "ax4.text(0.05, 1,'Delhi', transform = ax4.transAxes, fontsize=20)\n",
    "\n",
    "for i in range(n):\n",
    "    \n",
    "    ax.append(fig.add_subplot(gs[i+2,:]))\n",
    "    ef = df.iloc[i+3].rename_axis('date').reset_index()\n",
    "    ef['date'] = ef['date'].astype('datetime64[ns]')\n",
    "    ax[i].bar(ef.date,ef.iloc[:,-1],color = '#007acc',alpha=0.3)\n",
    "    ax[i].plot(ef.date,ef.iloc[:,-1],marker='o',color='#007acc')\n",
    "    ax[i].text(0.02,0.5,f'{ef.columns.values[-1]}',transform = ax[i].transAxes, fontsize = 20);\n",
    "    ax[i].xaxis.set_major_locator(mdates.WeekdayLocator())\n",
    "    ax[i].xaxis.set_major_formatter(mdates.DateFormatter('%b %d'))\n",
    "    ax[i].set_ylim([0,7000])\n",
    "    ax[i].spines['right'].set_visible(False)\n",
    "    ax[i].spines['top'].set_visible(False)\n",
    "plt.tight_layout()\n"
   ]
  },
  {
   "cell_type": "code",
   "execution_count": 20,
   "metadata": {
    "execution": {
     "iopub.execute_input": "2020-08-16T13:51:54.826216Z",
     "iopub.status.busy": "2020-08-16T13:51:54.825367Z",
     "iopub.status.idle": "2020-08-16T13:51:54.829788Z",
     "shell.execute_reply": "2020-08-16T13:51:54.830939Z"
    },
    "papermill": {
     "duration": 0.036991,
     "end_time": "2020-08-16T13:51:54.831094",
     "exception": false,
     "start_time": "2020-08-16T13:51:54.794103",
     "status": "completed"
    },
    "tags": []
   },
   "outputs": [
    {
     "name": "stdout",
     "output_type": "stream",
     "text": [
      "                                   states   Cases  Deaths  PCases  PDeaths  Cases (+)  Deaths (+)  Fatality Rate\n",
      "                              Maharashtra  584754   19749  584754    19749          0           0           3.38\n",
      "                               Tamil Nadu  338055    5766  332105     5641       5950         125           1.71\n",
      "                           Andhra Pradesh  289829    2650  281817     2562       8012          88           0.91\n",
      "                                Karnataka  219926    3832  219926     3832          0           0           1.74\n",
      "                            Uttar Pradesh  154418    2449  150061     2393       4357          56           1.59\n",
      "                                    Delhi  152580    4196  151928     4188        652           8           2.75\n",
      "                              West Bengal  113432    2377  113432     2377          0           0           2.10\n",
      "                                    Bihar  104093     537  101906      515       2187          22           0.52\n",
      "                                Telangana   91361     693   90259      684       1102           9           0.76\n",
      "                                  Gujarat   77663    2765   77663     2765          0           0           3.56\n",
      "                                    Assam   75559     182   75559      182          0           0           0.24\n",
      "                                Rajasthan   60666     875   59979      862        687          13           1.44\n",
      "                                   Odisha   60050     396   57126      386       2924          10           0.66\n",
      "                                  Haryana   47153     538   46410      528        743          10           1.14\n",
      "                           Madhya Pradesh   44433    1094   44433     1094          0           0           2.46\n",
      "                                   Kerala   44415     157   42885      147       1530          10           0.35\n",
      "                                   Punjab   30041     771   30041      771          0           0           2.57\n",
      "                        Jammu and Kashmir   28470     542   28021      527        449          15           1.90\n",
      "                                Jharkhand   22672     229   22672      229          0           0           1.01\n",
      "                             Chhattisgarh   15045     134   15045      134          0           0           0.89\n",
      "                              Uttarakhand   11940     151   11940      151          0           0           1.26\n",
      "                                      Goa   11339      98   11339       98          0           0           0.86\n",
      "                               Puducherry    7732     110    7354      106        378           4           1.42\n",
      "                                  Tripura    7076      55    6949       50        127           5           0.78\n",
      "                                  Manipur    4569      16    4390       13        179           3           0.35\n",
      "                         Himachal Pradesh    4057      18    3993       18         64           0           0.44\n",
      "                                 Nagaland    3394       7    3340        7         54           0           0.21\n",
      "                        Arunachal Pradesh    2658       5    2658        5          0           0           0.19\n",
      "              Andaman and Nicobar Islands    2306      24    2306       24          0           0           1.04\n",
      "                               Chandigarh    2102      29    2009       28         93           1           1.38\n",
      "                                   Ladakh    1909      10    1909       10          0           0           0.52\n",
      " Dadra and Nagar Haveli and Daman and Diu    1881       2    1846        2         35           0           0.11\n",
      "                                Meghalaya    1374       6    1292        6         82           0           0.44\n",
      "                                   Sikkim    1148       1    1148        1          0           0           0.09\n",
      "                                  Mizoram     777       0     713        0         64           0           0.00\n",
      "                              Lakshadweep       0       0       0        0          0           0            NaN\n"
     ]
    }
   ],
   "source": [
    "#hide_input\n",
    "print(df_table.to_string(index=False))"
   ]
  },
  {
   "cell_type": "code",
   "execution_count": null,
   "metadata": {
    "papermill": {
     "duration": 0.024734,
     "end_time": "2020-08-16T13:51:54.879713",
     "exception": false,
     "start_time": "2020-08-16T13:51:54.854979",
     "status": "completed"
    },
    "tags": []
   },
   "outputs": [],
   "source": []
  },
  {
   "cell_type": "code",
   "execution_count": null,
   "metadata": {
    "papermill": {
     "duration": 0.024365,
     "end_time": "2020-08-16T13:51:54.929433",
     "exception": false,
     "start_time": "2020-08-16T13:51:54.905068",
     "status": "completed"
    },
    "tags": []
   },
   "outputs": [],
   "source": []
  }
 ],
 "metadata": {
  "kernelspec": {
   "display_name": "Python 3",
   "language": "python",
   "name": "python3"
  },
  "language_info": {
   "codemirror_mode": {
    "name": "ipython",
    "version": 3
   },
   "file_extension": ".py",
   "mimetype": "text/x-python",
   "name": "python",
   "nbconvert_exporter": "python",
   "pygments_lexer": "ipython3",
   "version": "3.6.11"
  },
  "papermill": {
   "duration": 9.865644,
   "end_time": "2020-08-16T13:51:56.171420",
   "environment_variables": {},
   "exception": null,
   "input_path": "latest.ipynb",
   "output_path": "latest.ipynb",
   "parameters": {},
   "start_time": "2020-08-16T13:51:46.305776",
   "version": "2.1.2"
  }
 },
 "nbformat": 4,
 "nbformat_minor": 4
}