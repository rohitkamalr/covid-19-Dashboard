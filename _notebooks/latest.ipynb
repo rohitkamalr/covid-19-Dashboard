{
 "cells": [
  {
   "cell_type": "markdown",
   "id": "colored-stack",
   "metadata": {
    "papermill": {
     "duration": 0.024126,
     "end_time": "2021-04-30T13:42:49.659422",
     "exception": false,
     "start_time": "2021-04-30T13:42:49.635296",
     "status": "completed"
    },
    "tags": []
   },
   "source": [
    "# Latest COVID-19 India Matplotlib Overview"
   ]
  },
  {
   "cell_type": "code",
   "execution_count": 1,
   "id": "light-proportion",
   "metadata": {
    "execution": {
     "iopub.execute_input": "2021-04-30T13:42:49.710475Z",
     "iopub.status.busy": "2021-04-30T13:42:49.709823Z",
     "iopub.status.idle": "2021-04-30T13:42:50.311931Z",
     "shell.execute_reply": "2021-04-30T13:42:50.311051Z"
    },
    "papermill": {
     "duration": 0.635014,
     "end_time": "2021-04-30T13:42:50.312168",
     "exception": false,
     "start_time": "2021-04-30T13:42:49.677154",
     "status": "completed"
    },
    "tags": []
   },
   "outputs": [],
   "source": [
    "#hide\n",
    "import pandas as pd\n",
    "import numpy as np\n",
    "import requests\n",
    "import json\n",
    "import matplotlib.pyplot as plt\n",
    "import matplotlib.dates as mdates\n",
    "import matplotlib as mpl\n",
    "from IPython.core.display import display,HTML\n",
    "%matplotlib inline\n",
    "from datetime import date"
   ]
  },
  {
   "cell_type": "code",
   "execution_count": 2,
   "id": "greenhouse-shooting",
   "metadata": {
    "execution": {
     "iopub.execute_input": "2021-04-30T13:42:50.358465Z",
     "iopub.status.busy": "2021-04-30T13:42:50.357533Z",
     "iopub.status.idle": "2021-04-30T13:42:50.634261Z",
     "shell.execute_reply": "2021-04-30T13:42:50.633357Z"
    },
    "papermill": {
     "duration": 0.304602,
     "end_time": "2021-04-30T13:42:50.634483",
     "exception": false,
     "start_time": "2021-04-30T13:42:50.329881",
     "status": "completed"
    },
    "tags": []
   },
   "outputs": [],
   "source": [
    "#hide\n",
    "df  = pd.read_csv('https://api.covid19india.org/csv/latest/states.csv')\n",
    "df = df[['Date','State','Confirmed','Deceased']]\n",
    "df = df.rename(columns={'Confirmed':'Cases', \"Deceased\":'Deaths'})\n",
    "df_cases = df[[\"Date\",'State','Cases']]\n",
    "df_deaths = df[['Date','State','Deaths']]\n",
    "df_cases1 = df_cases.groupby('Date')\n",
    "df_deaths1= df_deaths.groupby('Date')"
   ]
  },
  {
   "cell_type": "code",
   "execution_count": 3,
   "id": "hybrid-cathedral",
   "metadata": {
    "execution": {
     "iopub.execute_input": "2021-04-30T13:42:50.676529Z",
     "iopub.status.busy": "2021-04-30T13:42:50.675941Z",
     "iopub.status.idle": "2021-04-30T13:42:50.694424Z",
     "shell.execute_reply": "2021-04-30T13:42:50.694890Z"
    },
    "papermill": {
     "duration": 0.042379,
     "end_time": "2021-04-30T13:42:50.695046",
     "exception": false,
     "start_time": "2021-04-30T13:42:50.652667",
     "status": "completed"
    },
    "tags": []
   },
   "outputs": [],
   "source": [
    "#hide\n",
    "df_snap = pd.read_csv('data/SnapshotCases-28-July.csv')\n",
    "arr_states = df_snap['states'].unique()\n",
    "arr_dates = df['Date'].unique()\n",
    "df_snap = df_snap.set_index('states')"
   ]
  },
  {
   "cell_type": "code",
   "execution_count": 4,
   "id": "interior-belfast",
   "metadata": {
    "execution": {
     "iopub.execute_input": "2021-04-30T13:42:50.740345Z",
     "iopub.status.busy": "2021-04-30T13:42:50.739739Z",
     "iopub.status.idle": "2021-04-30T13:42:50.742875Z",
     "shell.execute_reply": "2021-04-30T13:42:50.742373Z"
    },
    "papermill": {
     "duration": 0.030939,
     "end_time": "2021-04-30T13:42:50.742997",
     "exception": false,
     "start_time": "2021-04-30T13:42:50.712058",
     "status": "completed"
    },
    "tags": []
   },
   "outputs": [
    {
     "data": {
      "text/plain": [
       "array(['Andaman and Nicobar Islands', 'Andhra Pradesh',\n",
       "       'Arunachal Pradesh', 'Assam', 'Bihar', 'Chandigarh',\n",
       "       'Dadra and Nagar Haveli and Daman and Diu', 'Delhi', 'Goa',\n",
       "       'Gujarat', 'Haryana', 'Himachal Pradesh', 'Jammu and Kashmir',\n",
       "       'Jharkhand', 'Karnataka', 'Kerala', 'Lakshadweep',\n",
       "       'Madhya Pradesh', 'Maharashtra', 'Manipur', 'Meghalaya', 'Mizoram',\n",
       "       'Nagaland', 'Odisha', 'Puducherry', 'Punjab', 'Rajasthan',\n",
       "       'Sikkim', 'Tamil Nadu', 'Telangana', 'Tripura', 'Uttar Pradesh',\n",
       "       'West Bengal', 'Chhattisgarh', 'Ladakh', 'Uttarakhand'],\n",
       "      dtype=object)"
      ]
     },
     "execution_count": 4,
     "metadata": {},
     "output_type": "execute_result"
    }
   ],
   "source": [
    "#hide\n",
    "arr_states[-9] = 'Puducherry'\n",
    "arr_states[-10] = 'Odisha'\n",
    "arr_states[6] = 'Dadra and Nagar Haveli and Daman and Diu'\n",
    "arr_states = np.append(arr_states,np.array(['Chhattisgarh','Ladakh','Uttarakhand']))\n",
    "arr_states"
   ]
  },
  {
   "cell_type": "code",
   "execution_count": 5,
   "id": "behind-manner",
   "metadata": {
    "execution": {
     "iopub.execute_input": "2021-04-30T13:42:50.785900Z",
     "iopub.status.busy": "2021-04-30T13:42:50.785310Z",
     "iopub.status.idle": "2021-04-30T13:42:50.801442Z",
     "shell.execute_reply": "2021-04-30T13:42:50.800954Z"
    },
    "papermill": {
     "duration": 0.041098,
     "end_time": "2021-04-30T13:42:50.801573",
     "exception": false,
     "start_time": "2021-04-30T13:42:50.760475",
     "status": "completed"
    },
    "tags": []
   },
   "outputs": [],
   "source": [
    "#hide\n",
    "dates = []\n",
    "for i in arr_dates:\n",
    "    if i>='2020-07-01':\n",
    "        dates.append(i)\n",
    "dict = {'states':dates}\n",
    "for i in arr_states:\n",
    "    dict[i] = [0]*len(dates)\n",
    "dft_cases = pd.DataFrame(dict)\n",
    "dft_deaths = pd.DataFrame(dict)\n"
   ]
  },
  {
   "cell_type": "code",
   "execution_count": 6,
   "id": "simplified-peter",
   "metadata": {
    "execution": {
     "iopub.execute_input": "2021-04-30T13:42:50.842632Z",
     "iopub.status.busy": "2021-04-30T13:42:50.841993Z",
     "iopub.status.idle": "2021-04-30T13:42:55.288801Z",
     "shell.execute_reply": "2021-04-30T13:42:55.287936Z"
    },
    "papermill": {
     "duration": 4.470109,
     "end_time": "2021-04-30T13:42:55.289019",
     "exception": false,
     "start_time": "2021-04-30T13:42:50.818910",
     "status": "completed"
    },
    "tags": []
   },
   "outputs": [],
   "source": [
    "#hide\n",
    "for i in range(len(dates)):\n",
    "    df1_deaths = df_deaths1.get_group(dates[i])\n",
    "    for j in range(len(df1_deaths.index)):\n",
    "        if df1_deaths.iloc[j,1] in arr_states:\n",
    "            dft_deaths.loc[i,df1_deaths.iloc[j,1]] = df1_deaths.iloc[j,2]\n",
    "dft_deaths = dft_deaths.set_index('states')"
   ]
  },
  {
   "cell_type": "code",
   "execution_count": 7,
   "id": "geological-welding",
   "metadata": {
    "execution": {
     "iopub.execute_input": "2021-04-30T13:42:55.334376Z",
     "iopub.status.busy": "2021-04-30T13:42:55.333751Z",
     "iopub.status.idle": "2021-04-30T13:42:59.689302Z",
     "shell.execute_reply": "2021-04-30T13:42:59.688449Z"
    },
    "papermill": {
     "duration": 4.380193,
     "end_time": "2021-04-30T13:42:59.689519",
     "exception": false,
     "start_time": "2021-04-30T13:42:55.309326",
     "status": "completed"
    },
    "tags": []
   },
   "outputs": [],
   "source": [
    "#hide\n",
    "for i in range(len(dates)):\n",
    "    df1_cases = df_cases1.get_group(dates[i])\n",
    "    for j in range(len(df1_cases.index)):\n",
    "        if df1_cases.iloc[j,1] in arr_states:\n",
    "            dft_cases.loc[i,df1_cases.iloc[j,1]] = df1_cases.iloc[j,2]\n",
    "dft_cases = dft_cases.set_index('states')"
   ]
  },
  {
   "cell_type": "code",
   "execution_count": 8,
   "id": "binary-ratio",
   "metadata": {
    "execution": {
     "iopub.execute_input": "2021-04-30T13:42:59.735185Z",
     "iopub.status.busy": "2021-04-30T13:42:59.734605Z",
     "iopub.status.idle": "2021-04-30T13:42:59.737172Z",
     "shell.execute_reply": "2021-04-30T13:42:59.736711Z"
    },
    "papermill": {
     "duration": 0.027551,
     "end_time": "2021-04-30T13:42:59.737295",
     "exception": false,
     "start_time": "2021-04-30T13:42:59.709744",
     "status": "completed"
    },
    "tags": []
   },
   "outputs": [],
   "source": [
    "#hide\n",
    "dft_cases = dft_cases.T\n",
    "dft_deaths = dft_deaths.T\n",
    "dt_today = dates[-1]\n",
    "dt_yday = dates[-2]"
   ]
  },
  {
   "cell_type": "code",
   "execution_count": 9,
   "id": "boolean-calculator",
   "metadata": {
    "execution": {
     "iopub.execute_input": "2021-04-30T13:42:59.779086Z",
     "iopub.status.busy": "2021-04-30T13:42:59.778500Z",
     "iopub.status.idle": "2021-04-30T13:42:59.783148Z",
     "shell.execute_reply": "2021-04-30T13:42:59.783615Z"
    },
    "papermill": {
     "duration": 0.029242,
     "end_time": "2021-04-30T13:42:59.783757",
     "exception": false,
     "start_time": "2021-04-30T13:42:59.754515",
     "status": "completed"
    },
    "tags": []
   },
   "outputs": [],
   "source": [
    "#hide\n",
    "dft_cases = dft_cases.reset_index()\n",
    "dft_deaths = dft_deaths.reset_index()\n",
    "dft_cases = dft_cases.rename(columns = {'index':'state'})\n",
    "dft_deaths = dft_deaths.rename(columns = {'index':'state'})"
   ]
  },
  {
   "cell_type": "code",
   "execution_count": 10,
   "id": "invisible-johnston",
   "metadata": {
    "execution": {
     "iopub.execute_input": "2021-04-30T13:42:59.832509Z",
     "iopub.status.busy": "2021-04-30T13:42:59.831910Z",
     "iopub.status.idle": "2021-04-30T13:42:59.834229Z",
     "shell.execute_reply": "2021-04-30T13:42:59.833640Z"
    },
    "papermill": {
     "duration": 0.033287,
     "end_time": "2021-04-30T13:42:59.834354",
     "exception": false,
     "start_time": "2021-04-30T13:42:59.801067",
     "status": "completed"
    },
    "tags": []
   },
   "outputs": [],
   "source": [
    "#hide\n",
    "dfc_cases = dft_cases.groupby('state')[dt_today].sum()\n",
    "dfc_deaths = dft_deaths.groupby('state')[dt_today].sum()\n",
    "dfp_cases = dft_cases.groupby('state')[dt_yday].sum()\n",
    "dfp_deaths = dft_deaths.groupby('state')[dt_yday].sum()"
   ]
  },
  {
   "cell_type": "code",
   "execution_count": 11,
   "id": "measured-great",
   "metadata": {
    "execution": {
     "iopub.execute_input": "2021-04-30T13:42:59.876874Z",
     "iopub.status.busy": "2021-04-30T13:42:59.876294Z",
     "iopub.status.idle": "2021-04-30T13:42:59.892919Z",
     "shell.execute_reply": "2021-04-30T13:42:59.893392Z"
    },
    "papermill": {
     "duration": 0.041686,
     "end_time": "2021-04-30T13:42:59.893540",
     "exception": false,
     "start_time": "2021-04-30T13:42:59.851854",
     "status": "completed"
    },
    "tags": []
   },
   "outputs": [
    {
     "data": {
      "text/html": [
       "<div>\n",
       "<style scoped>\n",
       "    .dataframe tbody tr th:only-of-type {\n",
       "        vertical-align: middle;\n",
       "    }\n",
       "\n",
       "    .dataframe tbody tr th {\n",
       "        vertical-align: top;\n",
       "    }\n",
       "\n",
       "    .dataframe thead th {\n",
       "        text-align: right;\n",
       "    }\n",
       "</style>\n",
       "<table border=\"1\" class=\"dataframe\">\n",
       "  <thead>\n",
       "    <tr style=\"text-align: right;\">\n",
       "      <th></th>\n",
       "      <th>states</th>\n",
       "      <th>Cases</th>\n",
       "      <th>Deaths</th>\n",
       "      <th>PCases</th>\n",
       "      <th>PDeaths</th>\n",
       "    </tr>\n",
       "  </thead>\n",
       "  <tbody>\n",
       "    <tr>\n",
       "      <th>0</th>\n",
       "      <td>Maharashtra</td>\n",
       "      <td>4539553</td>\n",
       "      <td>67985</td>\n",
       "      <td>4539553</td>\n",
       "      <td>67985</td>\n",
       "    </tr>\n",
       "    <tr>\n",
       "      <th>1</th>\n",
       "      <td>Kerala</td>\n",
       "      <td>1571184</td>\n",
       "      <td>5309</td>\n",
       "      <td>1533985</td>\n",
       "      <td>5260</td>\n",
       "    </tr>\n",
       "    <tr>\n",
       "      <th>2</th>\n",
       "      <td>Karnataka</td>\n",
       "      <td>1474846</td>\n",
       "      <td>15306</td>\n",
       "      <td>1474846</td>\n",
       "      <td>15306</td>\n",
       "    </tr>\n",
       "    <tr>\n",
       "      <th>3</th>\n",
       "      <td>Uttar Pradesh</td>\n",
       "      <td>1217952</td>\n",
       "      <td>12238</td>\n",
       "      <td>1217952</td>\n",
       "      <td>12238</td>\n",
       "    </tr>\n",
       "    <tr>\n",
       "      <th>4</th>\n",
       "      <td>Tamil Nadu</td>\n",
       "      <td>1148064</td>\n",
       "      <td>13933</td>\n",
       "      <td>1148064</td>\n",
       "      <td>13933</td>\n",
       "    </tr>\n",
       "  </tbody>\n",
       "</table>\n",
       "</div>"
      ],
      "text/plain": [
       "          states    Cases  Deaths   PCases  PDeaths\n",
       "0    Maharashtra  4539553   67985  4539553    67985\n",
       "1         Kerala  1571184    5309  1533985     5260\n",
       "2      Karnataka  1474846   15306  1474846    15306\n",
       "3  Uttar Pradesh  1217952   12238  1217952    12238\n",
       "4     Tamil Nadu  1148064   13933  1148064    13933"
      ]
     },
     "execution_count": 11,
     "metadata": {},
     "output_type": "execute_result"
    }
   ],
   "source": [
    "#hide\n",
    "df_table = pd.DataFrame({'states': dfc_cases.index, 'Cases': dfc_cases.values, 'Deaths': dfc_deaths.values, 'PCases': dfp_cases.values, 'PDeaths': dfp_deaths.values}).set_index('states')\n",
    "df_table = df_table.sort_values(by = ['Cases','Deaths'], ascending = [False, False])\n",
    "df_table = df_table.reset_index()\n",
    "df_table.head()"
   ]
  },
  {
   "cell_type": "code",
   "execution_count": 12,
   "id": "found-montreal",
   "metadata": {
    "execution": {
     "iopub.execute_input": "2021-04-30T13:42:59.937048Z",
     "iopub.status.busy": "2021-04-30T13:42:59.936473Z",
     "iopub.status.idle": "2021-04-30T13:42:59.945832Z",
     "shell.execute_reply": "2021-04-30T13:42:59.946337Z"
    },
    "papermill": {
     "duration": 0.035114,
     "end_time": "2021-04-30T13:42:59.946486",
     "exception": false,
     "start_time": "2021-04-30T13:42:59.911372",
     "status": "completed"
    },
    "tags": []
   },
   "outputs": [],
   "source": [
    "#hide\n",
    "for c in 'Cases, Deaths'.split(', '):\n",
    "    df_table[f'{c} (+)'] = (df_table[c] - df_table[f'P{c}']).clip(0)\n",
    "df_table['Fatality Rate'] = (100* df_table['Deaths']/ df_table['Cases']).round(2)"
   ]
  },
  {
   "cell_type": "code",
   "execution_count": 13,
   "id": "minus-savage",
   "metadata": {
    "execution": {
     "iopub.execute_input": "2021-04-30T13:42:59.994879Z",
     "iopub.status.busy": "2021-04-30T13:42:59.994281Z",
     "iopub.status.idle": "2021-04-30T13:42:59.996640Z",
     "shell.execute_reply": "2021-04-30T13:42:59.997172Z"
    },
    "papermill": {
     "duration": 0.032885,
     "end_time": "2021-04-30T13:42:59.997312",
     "exception": false,
     "start_time": "2021-04-30T13:42:59.964427",
     "status": "completed"
    },
    "tags": []
   },
   "outputs": [
    {
     "data": {
      "text/html": [
       "<div>\n",
       "<style scoped>\n",
       "    .dataframe tbody tr th:only-of-type {\n",
       "        vertical-align: middle;\n",
       "    }\n",
       "\n",
       "    .dataframe tbody tr th {\n",
       "        vertical-align: top;\n",
       "    }\n",
       "\n",
       "    .dataframe thead th {\n",
       "        text-align: right;\n",
       "    }\n",
       "</style>\n",
       "<table border=\"1\" class=\"dataframe\">\n",
       "  <thead>\n",
       "    <tr style=\"text-align: right;\">\n",
       "      <th></th>\n",
       "      <th>states</th>\n",
       "      <th>Cases</th>\n",
       "      <th>Deaths</th>\n",
       "      <th>PCases</th>\n",
       "      <th>PDeaths</th>\n",
       "      <th>Cases (+)</th>\n",
       "      <th>Deaths (+)</th>\n",
       "      <th>Fatality Rate</th>\n",
       "    </tr>\n",
       "  </thead>\n",
       "  <tbody>\n",
       "    <tr>\n",
       "      <th>0</th>\n",
       "      <td>Maharashtra</td>\n",
       "      <td>4539553</td>\n",
       "      <td>67985</td>\n",
       "      <td>4539553</td>\n",
       "      <td>67985</td>\n",
       "      <td>0</td>\n",
       "      <td>0</td>\n",
       "      <td>1.50</td>\n",
       "    </tr>\n",
       "    <tr>\n",
       "      <th>1</th>\n",
       "      <td>Kerala</td>\n",
       "      <td>1571184</td>\n",
       "      <td>5309</td>\n",
       "      <td>1533985</td>\n",
       "      <td>5260</td>\n",
       "      <td>37199</td>\n",
       "      <td>49</td>\n",
       "      <td>0.34</td>\n",
       "    </tr>\n",
       "    <tr>\n",
       "      <th>2</th>\n",
       "      <td>Karnataka</td>\n",
       "      <td>1474846</td>\n",
       "      <td>15306</td>\n",
       "      <td>1474846</td>\n",
       "      <td>15306</td>\n",
       "      <td>0</td>\n",
       "      <td>0</td>\n",
       "      <td>1.04</td>\n",
       "    </tr>\n",
       "    <tr>\n",
       "      <th>3</th>\n",
       "      <td>Uttar Pradesh</td>\n",
       "      <td>1217952</td>\n",
       "      <td>12238</td>\n",
       "      <td>1217952</td>\n",
       "      <td>12238</td>\n",
       "      <td>0</td>\n",
       "      <td>0</td>\n",
       "      <td>1.00</td>\n",
       "    </tr>\n",
       "    <tr>\n",
       "      <th>4</th>\n",
       "      <td>Tamil Nadu</td>\n",
       "      <td>1148064</td>\n",
       "      <td>13933</td>\n",
       "      <td>1148064</td>\n",
       "      <td>13933</td>\n",
       "      <td>0</td>\n",
       "      <td>0</td>\n",
       "      <td>1.21</td>\n",
       "    </tr>\n",
       "  </tbody>\n",
       "</table>\n",
       "</div>"
      ],
      "text/plain": [
       "          states    Cases  Deaths   PCases  PDeaths  Cases (+)  Deaths (+)  \\\n",
       "0    Maharashtra  4539553   67985  4539553    67985          0           0   \n",
       "1         Kerala  1571184    5309  1533985     5260      37199          49   \n",
       "2      Karnataka  1474846   15306  1474846    15306          0           0   \n",
       "3  Uttar Pradesh  1217952   12238  1217952    12238          0           0   \n",
       "4     Tamil Nadu  1148064   13933  1148064    13933          0           0   \n",
       "\n",
       "   Fatality Rate  \n",
       "0           1.50  \n",
       "1           0.34  \n",
       "2           1.04  \n",
       "3           1.00  \n",
       "4           1.21  "
      ]
     },
     "execution_count": 13,
     "metadata": {},
     "output_type": "execute_result"
    }
   ],
   "source": [
    "#hide\n",
    "df_table.head()"
   ]
  },
  {
   "cell_type": "code",
   "execution_count": 14,
   "id": "false-peter",
   "metadata": {
    "execution": {
     "iopub.execute_input": "2021-04-30T13:43:00.041825Z",
     "iopub.status.busy": "2021-04-30T13:43:00.041244Z",
     "iopub.status.idle": "2021-04-30T13:43:00.058897Z",
     "shell.execute_reply": "2021-04-30T13:43:00.059340Z"
    },
    "papermill": {
     "duration": 0.043941,
     "end_time": "2021-04-30T13:43:00.059493",
     "exception": false,
     "start_time": "2021-04-30T13:43:00.015552",
     "status": "completed"
    },
    "tags": []
   },
   "outputs": [
    {
     "data": {
      "text/plain": [
       "{'updated': '2021-04-30',\n",
       " 'since': '2021-04-29',\n",
       " 'Cases': 18808972,\n",
       " 'PCases': 18755165,\n",
       " 'Deaths': 208431,\n",
       " 'PDeaths': 208314,\n",
       " 'Cases (+)': 53807,\n",
       " 'Deaths (+)': 117}"
      ]
     },
     "execution_count": 14,
     "metadata": {},
     "output_type": "execute_result"
    }
   ],
   "source": [
    "#hide\n",
    "summary = {'updated':dates[-1], 'since':dates[-2]}\n",
    "list_names = ['Cases', 'PCases', 'Deaths', 'PDeaths', 'Cases (+)', 'Deaths (+)']\n",
    "for name in list_names:\n",
    "    summary[name] = df_table.sum()[name]\n",
    "summary"
   ]
  },
  {
   "cell_type": "code",
   "execution_count": 15,
   "id": "packed-viewer",
   "metadata": {
    "execution": {
     "iopub.execute_input": "2021-04-30T13:43:00.102914Z",
     "iopub.status.busy": "2021-04-30T13:43:00.102317Z",
     "iopub.status.idle": "2021-04-30T13:43:00.104456Z",
     "shell.execute_reply": "2021-04-30T13:43:00.104898Z"
    },
    "papermill": {
     "duration": 0.026658,
     "end_time": "2021-04-30T13:43:00.105043",
     "exception": false,
     "start_time": "2021-04-30T13:43:00.078385",
     "status": "completed"
    },
    "tags": []
   },
   "outputs": [],
   "source": [
    "#hide\n",
    "overview = '''\n",
    "<!-- #######  HTML!! #########-->\n",
    "<h1 style=\"color: #5e9ca0; text-align: center;\">India</h1>\n",
    "<p style=\"text-align: center;\">Last update: <strong>{update}</strong></p>\n",
    "<p style=\"text-align: center;\">Confirmed cases:</p>\n",
    "<p style=\"text-align: center;font-size:24px;\">{cases} (<span style=\"color: #ff0000;\">+{new}</span>)</p>\n",
    "<p style=\"text-align: center;\">Confirmed deaths:</p>\n",
    "<p style=\"text-align: center;font-size:24px;\">{deaths} (<span style=\"color: #ff0000;\">+{dnew}</span>)</p>\n",
    "'''"
   ]
  },
  {
   "cell_type": "code",
   "execution_count": 16,
   "id": "phantom-lover",
   "metadata": {
    "execution": {
     "iopub.execute_input": "2021-04-30T13:43:00.151713Z",
     "iopub.status.busy": "2021-04-30T13:43:00.150758Z",
     "iopub.status.idle": "2021-04-30T13:43:00.153415Z",
     "shell.execute_reply": "2021-04-30T13:43:00.153994Z"
    },
    "papermill": {
     "duration": 0.030533,
     "end_time": "2021-04-30T13:43:00.154164",
     "exception": false,
     "start_time": "2021-04-30T13:43:00.123631",
     "status": "completed"
    },
    "tags": []
   },
   "outputs": [
    {
     "data": {
      "text/html": [
       "\n",
       "<!-- #######  HTML!! #########-->\n",
       "<h1 style=\"color: #5e9ca0; text-align: center;\">India</h1>\n",
       "<p style=\"text-align: center;\">Last update: <strong>2021-04-30</strong></p>\n",
       "<p style=\"text-align: center;\">Confirmed cases:</p>\n",
       "<p style=\"text-align: center;font-size:24px;\">18808972 (<span style=\"color: #ff0000;\">+53807</span>)</p>\n",
       "<p style=\"text-align: center;\">Confirmed deaths:</p>\n",
       "<p style=\"text-align: center;font-size:24px;\">208431 (<span style=\"color: #ff0000;\">+117</span>)</p>\n"
      ],
      "text/plain": [
       "<IPython.core.display.HTML object>"
      ]
     },
     "metadata": {},
     "output_type": "display_data"
    }
   ],
   "source": [
    "#hide_input\n",
    "update = summary['updated']\n",
    "cases = summary['Cases']\n",
    "new = summary['Cases (+)']\n",
    "deaths = summary['Deaths']\n",
    "dnew = summary['Deaths (+)']\n",
    "\n",
    "html = HTML(overview.format(update=update, cases=cases,new=new,deaths=deaths,dnew=dnew))\n",
    "\n",
    "display(html)"
   ]
  },
  {
   "cell_type": "code",
   "execution_count": 17,
   "id": "sealed-reset",
   "metadata": {
    "execution": {
     "iopub.execute_input": "2021-04-30T13:43:00.207584Z",
     "iopub.status.busy": "2021-04-30T13:43:00.206958Z",
     "iopub.status.idle": "2021-04-30T13:43:00.210305Z",
     "shell.execute_reply": "2021-04-30T13:43:00.210757Z"
    },
    "papermill": {
     "duration": 0.03608,
     "end_time": "2021-04-30T13:43:00.210914",
     "exception": false,
     "start_time": "2021-04-30T13:43:00.174834",
     "status": "completed"
    },
    "tags": []
   },
   "outputs": [],
   "source": [
    "#hide\n",
    "dt_cols = list(dft_cases.columns[1:])\n",
    "dft_ct_new_cases = dft_cases.groupby('state')[dt_cols].sum().diff(axis=1).fillna(0).astype(int)\n",
    "dft_ct_new_cases.sort_values(by = dates[-1], ascending = False,inplace = True)"
   ]
  },
  {
   "cell_type": "code",
   "execution_count": 18,
   "id": "designed-constant",
   "metadata": {
    "execution": {
     "iopub.execute_input": "2021-04-30T13:43:00.268537Z",
     "iopub.status.busy": "2021-04-30T13:43:00.267923Z",
     "iopub.status.idle": "2021-04-30T13:43:00.271245Z",
     "shell.execute_reply": "2021-04-30T13:43:00.270744Z"
    },
    "papermill": {
     "duration": 0.04109,
     "end_time": "2021-04-30T13:43:00.271370",
     "exception": false,
     "start_time": "2021-04-30T13:43:00.230280",
     "status": "completed"
    },
    "tags": []
   },
   "outputs": [
    {
     "data": {
      "text/html": [
       "<div>\n",
       "<style scoped>\n",
       "    .dataframe tbody tr th:only-of-type {\n",
       "        vertical-align: middle;\n",
       "    }\n",
       "\n",
       "    .dataframe tbody tr th {\n",
       "        vertical-align: top;\n",
       "    }\n",
       "\n",
       "    .dataframe thead th {\n",
       "        text-align: right;\n",
       "    }\n",
       "</style>\n",
       "<table border=\"1\" class=\"dataframe\">\n",
       "  <thead>\n",
       "    <tr style=\"text-align: right;\">\n",
       "      <th>states</th>\n",
       "      <th>2020-07-01</th>\n",
       "      <th>2020-07-02</th>\n",
       "      <th>2020-07-03</th>\n",
       "      <th>2020-07-04</th>\n",
       "      <th>2020-07-05</th>\n",
       "      <th>2020-07-06</th>\n",
       "      <th>2020-07-07</th>\n",
       "      <th>2020-07-08</th>\n",
       "      <th>2020-07-09</th>\n",
       "      <th>2020-07-10</th>\n",
       "      <th>...</th>\n",
       "      <th>2021-04-21</th>\n",
       "      <th>2021-04-22</th>\n",
       "      <th>2021-04-23</th>\n",
       "      <th>2021-04-24</th>\n",
       "      <th>2021-04-25</th>\n",
       "      <th>2021-04-26</th>\n",
       "      <th>2021-04-27</th>\n",
       "      <th>2021-04-28</th>\n",
       "      <th>2021-04-29</th>\n",
       "      <th>2021-04-30</th>\n",
       "    </tr>\n",
       "    <tr>\n",
       "      <th>state</th>\n",
       "      <th></th>\n",
       "      <th></th>\n",
       "      <th></th>\n",
       "      <th></th>\n",
       "      <th></th>\n",
       "      <th></th>\n",
       "      <th></th>\n",
       "      <th></th>\n",
       "      <th></th>\n",
       "      <th></th>\n",
       "      <th></th>\n",
       "      <th></th>\n",
       "      <th></th>\n",
       "      <th></th>\n",
       "      <th></th>\n",
       "      <th></th>\n",
       "      <th></th>\n",
       "      <th></th>\n",
       "      <th></th>\n",
       "      <th></th>\n",
       "      <th></th>\n",
       "    </tr>\n",
       "  </thead>\n",
       "  <tbody>\n",
       "    <tr>\n",
       "      <th>Kerala</th>\n",
       "      <td>0</td>\n",
       "      <td>160</td>\n",
       "      <td>211</td>\n",
       "      <td>240</td>\n",
       "      <td>225</td>\n",
       "      <td>193</td>\n",
       "      <td>272</td>\n",
       "      <td>301</td>\n",
       "      <td>339</td>\n",
       "      <td>416</td>\n",
       "      <td>...</td>\n",
       "      <td>22414</td>\n",
       "      <td>26995</td>\n",
       "      <td>28447</td>\n",
       "      <td>26685</td>\n",
       "      <td>28469</td>\n",
       "      <td>21890</td>\n",
       "      <td>32819</td>\n",
       "      <td>35013</td>\n",
       "      <td>38607</td>\n",
       "      <td>37199</td>\n",
       "    </tr>\n",
       "    <tr>\n",
       "      <th>Odisha</th>\n",
       "      <td>0</td>\n",
       "      <td>229</td>\n",
       "      <td>561</td>\n",
       "      <td>495</td>\n",
       "      <td>469</td>\n",
       "      <td>456</td>\n",
       "      <td>571</td>\n",
       "      <td>527</td>\n",
       "      <td>577</td>\n",
       "      <td>755</td>\n",
       "      <td>...</td>\n",
       "      <td>4851</td>\n",
       "      <td>6164</td>\n",
       "      <td>6215</td>\n",
       "      <td>6647</td>\n",
       "      <td>6116</td>\n",
       "      <td>6599</td>\n",
       "      <td>6073</td>\n",
       "      <td>8386</td>\n",
       "      <td>6998</td>\n",
       "      <td>8681</td>\n",
       "    </tr>\n",
       "    <tr>\n",
       "      <th>Telangana</th>\n",
       "      <td>0</td>\n",
       "      <td>1213</td>\n",
       "      <td>1892</td>\n",
       "      <td>1850</td>\n",
       "      <td>1590</td>\n",
       "      <td>1831</td>\n",
       "      <td>1879</td>\n",
       "      <td>1924</td>\n",
       "      <td>1410</td>\n",
       "      <td>1278</td>\n",
       "      <td>...</td>\n",
       "      <td>6542</td>\n",
       "      <td>5567</td>\n",
       "      <td>6206</td>\n",
       "      <td>7432</td>\n",
       "      <td>8126</td>\n",
       "      <td>6551</td>\n",
       "      <td>10122</td>\n",
       "      <td>8061</td>\n",
       "      <td>7994</td>\n",
       "      <td>7646</td>\n",
       "    </tr>\n",
       "    <tr>\n",
       "      <th>Tripura</th>\n",
       "      <td>0</td>\n",
       "      <td>39</td>\n",
       "      <td>93</td>\n",
       "      <td>25</td>\n",
       "      <td>23</td>\n",
       "      <td>111</td>\n",
       "      <td>24</td>\n",
       "      <td>57</td>\n",
       "      <td>16</td>\n",
       "      <td>142</td>\n",
       "      <td>...</td>\n",
       "      <td>0</td>\n",
       "      <td>168</td>\n",
       "      <td>40</td>\n",
       "      <td>127</td>\n",
       "      <td>100</td>\n",
       "      <td>98</td>\n",
       "      <td>111</td>\n",
       "      <td>124</td>\n",
       "      <td>166</td>\n",
       "      <td>141</td>\n",
       "    </tr>\n",
       "    <tr>\n",
       "      <th>Mizoram</th>\n",
       "      <td>0</td>\n",
       "      <td>2</td>\n",
       "      <td>0</td>\n",
       "      <td>2</td>\n",
       "      <td>22</td>\n",
       "      <td>11</td>\n",
       "      <td>1</td>\n",
       "      <td>5</td>\n",
       "      <td>0</td>\n",
       "      <td>23</td>\n",
       "      <td>...</td>\n",
       "      <td>90</td>\n",
       "      <td>73</td>\n",
       "      <td>62</td>\n",
       "      <td>63</td>\n",
       "      <td>105</td>\n",
       "      <td>22</td>\n",
       "      <td>103</td>\n",
       "      <td>228</td>\n",
       "      <td>138</td>\n",
       "      <td>140</td>\n",
       "    </tr>\n",
       "  </tbody>\n",
       "</table>\n",
       "<p>5 rows × 304 columns</p>\n",
       "</div>"
      ],
      "text/plain": [
       "states     2020-07-01  2020-07-02  2020-07-03  2020-07-04  2020-07-05  \\\n",
       "state                                                                   \n",
       "Kerala              0         160         211         240         225   \n",
       "Odisha              0         229         561         495         469   \n",
       "Telangana           0        1213        1892        1850        1590   \n",
       "Tripura             0          39          93          25          23   \n",
       "Mizoram             0           2           0           2          22   \n",
       "\n",
       "states     2020-07-06  2020-07-07  2020-07-08  2020-07-09  2020-07-10  ...  \\\n",
       "state                                                                  ...   \n",
       "Kerala            193         272         301         339         416  ...   \n",
       "Odisha            456         571         527         577         755  ...   \n",
       "Telangana        1831        1879        1924        1410        1278  ...   \n",
       "Tripura           111          24          57          16         142  ...   \n",
       "Mizoram            11           1           5           0          23  ...   \n",
       "\n",
       "states     2021-04-21  2021-04-22  2021-04-23  2021-04-24  2021-04-25  \\\n",
       "state                                                                   \n",
       "Kerala          22414       26995       28447       26685       28469   \n",
       "Odisha           4851        6164        6215        6647        6116   \n",
       "Telangana        6542        5567        6206        7432        8126   \n",
       "Tripura             0         168          40         127         100   \n",
       "Mizoram            90          73          62          63         105   \n",
       "\n",
       "states     2021-04-26  2021-04-27  2021-04-28  2021-04-29  2021-04-30  \n",
       "state                                                                  \n",
       "Kerala          21890       32819       35013       38607       37199  \n",
       "Odisha           6599        6073        8386        6998        8681  \n",
       "Telangana        6551       10122        8061        7994        7646  \n",
       "Tripura            98         111         124         166         141  \n",
       "Mizoram            22         103         228         138         140  \n",
       "\n",
       "[5 rows x 304 columns]"
      ]
     },
     "execution_count": 18,
     "metadata": {},
     "output_type": "execute_result"
    }
   ],
   "source": [
    "#hide\n",
    "dft_ct_new_cases.head()"
   ]
  },
  {
   "cell_type": "code",
   "execution_count": 19,
   "id": "responsible-nightlife",
   "metadata": {
    "execution": {
     "iopub.execute_input": "2021-04-30T13:43:00.315206Z",
     "iopub.status.busy": "2021-04-30T13:43:00.314588Z",
     "iopub.status.idle": "2021-04-30T13:43:11.664062Z",
     "shell.execute_reply": "2021-04-30T13:43:11.664550Z"
    },
    "papermill": {
     "duration": 11.373429,
     "end_time": "2021-04-30T13:43:11.664706",
     "exception": false,
     "start_time": "2021-04-30T13:43:00.291277",
     "status": "completed"
    },
    "tags": []
   },
   "outputs": [
    {
     "data": {
      "image/png": "[encoded data removed]",
      "text/plain": [
       "<Figure size 1296x2016 with 11 Axes>"
      ]
     },
     "metadata": {
      "needs_background": "light"
     },
     "output_type": "display_data"
    }
   ],
   "source": [
    "#hide_input\n",
    "df = dft_ct_new_cases.copy()\n",
    "df.loc['Total'] = df.sum()\n",
    "n = 5\n",
    "ax = []\n",
    "fig = plt.figure(figsize = (18,28))\n",
    "gs = fig.add_gridspec(n+2, 5)\n",
    "# gs = fig.add_gridspec(2, 3)\n",
    "ax1 = fig.add_subplot(gs[0, :])\n",
    "ef = df.loc['Total'].rename_axis('date').reset_index()\n",
    "ef['date'] = ef['date'].astype('datetime64[ns]')\n",
    "ax1.bar(ef.date,ef.Total,alpha=0.3,color='#007acc')\n",
    "ax1.plot(ef.date,ef.Total , marker=\"o\", color='#007acc')\n",
    "ax1.xaxis.set_major_locator(mdates.WeekdayLocator())\n",
    "ax1.xaxis.set_major_formatter(mdates.DateFormatter('%b %d'))\n",
    "ax1.text(0.02, 0.5,'India daily case count', transform = ax1.transAxes, fontsize=25);\n",
    "ax1.spines['right'].set_visible(False)\n",
    "ax1.spines['top'].set_visible(False)\n",
    "\n",
    "ax2 = fig.add_subplot(gs[1,0])\n",
    "ef = df.loc['Maharashtra'].rename_axis('date').reset_index()\n",
    "ef['date'] = ef['date'].astype('datetime64[ns]')\n",
    "\n",
    "ax2.bar(ef.date, ef.Maharashtra,color = '#007acc',alpha=0.5)\n",
    "ax2.xaxis.set_major_locator(mdates.WeekdayLocator())\n",
    "ax2.xaxis.set_major_formatter(mdates.DateFormatter('%b %d'))\n",
    "ax2.set_xticks(ax2.get_xticks()[::3])\n",
    "maxyval = ef.Maharashtra.max()\n",
    "ax2.set_ylim([0,maxyval])\n",
    "ax2.text(0.05, 0.9,'Maharashtra', transform = ax2.transAxes, fontsize=20);\n",
    "ax2.spines['right'].set_visible(False)\n",
    "ax2.spines['top'].set_visible(False)\n",
    "\n",
    "\n",
    "ax3 = fig.add_subplot(gs[1,1])\n",
    "ef = df.loc['Tamil Nadu'].rename_axis('date').reset_index()\n",
    "ef['date'] = ef['date'].astype('datetime64[ns]')\n",
    "ax3.bar(ef.date, ef['Tamil Nadu'],color = '#007acc',alpha=0.5,)\n",
    "ax3.xaxis.set_major_locator(mdates.WeekdayLocator())\n",
    "ax3.xaxis.set_major_formatter(mdates.DateFormatter('%b %d'))\n",
    "ax3.set_xticks(ax3.get_xticks()[::3])\n",
    "ax3.text(0.05, 0.9,'Tamil Nadu', transform = ax3.transAxes, fontsize=20);\n",
    "ax3.spines['right'].set_visible(False)\n",
    "ax3.spines['top'].set_visible(False)\n",
    "\n",
    "ax5 = fig.add_subplot(gs[1,3])\n",
    "ef = df.loc['Telangana'].rename_axis('date').reset_index()\n",
    "ef['date'] = ef['date'].astype('datetime64[ns]')\n",
    "ax5.bar(ef.date, ef['Telangana'],color = '#007acc',alpha=0.5,)\n",
    "ax5.xaxis.set_major_locator(mdates.WeekdayLocator())\n",
    "ax5.xaxis.set_major_formatter(mdates.DateFormatter('%b %d'))\n",
    "ax5.set_xticks(ax5.get_xticks()[::3])\n",
    "ax5.text(0.05, 0.9,'Telangana', transform = ax5.transAxes, fontsize=20);\n",
    "ax5.spines['right'].set_visible(False)\n",
    "ax5.spines['top'].set_visible(False)\n",
    "\n",
    "ax6 = fig.add_subplot(gs[1,4])\n",
    "ef = df.loc['Andhra Pradesh'].rename_axis('date').reset_index()\n",
    "ef['date'] = ef['date'].astype('datetime64[ns]')\n",
    "ax6.bar(ef.date, ef['Andhra Pradesh'],color = '#007acc',alpha=0.5,)\n",
    "ax6.xaxis.set_major_locator(mdates.WeekdayLocator())\n",
    "ax6.xaxis.set_major_formatter(mdates.DateFormatter('%b %d'))\n",
    "ax6.set_xticks(ax6.get_xticks()[::3])\n",
    "ax6.text(0.05, 1,'Andhra Pradesh', transform = ax6.transAxes, fontsize=20);\n",
    "ax6.spines['right'].set_visible(False)\n",
    "ax6.spines['top'].set_visible(False)\n",
    "\n",
    "ax4 = fig.add_subplot(gs[1,2])\n",
    "ef = df.loc['Delhi'].rename_axis('date').reset_index()\n",
    "ef['date'] = ef['date'].astype('datetime64[ns]')\n",
    "ax4.bar(ef.date, ef.Delhi,color = '#007acc',alpha=0.5)\n",
    "ax4.set_xticks([])\n",
    "ax4.xaxis.set_major_locator(mdates.WeekdayLocator())\n",
    "ax4.xaxis.set_major_formatter(mdates.DateFormatter('%b %d'))\n",
    "ax4.set_xticks(ax4.get_xticks()[::3])\n",
    "ax4.spines['right'].set_visible(False)\n",
    "ax4.spines['top'].set_visible(False)\n",
    "\n",
    "ax4.text(0.05, 1,'Delhi', transform = ax4.transAxes, fontsize=20)\n",
    "\n",
    "for i in range(n):\n",
    "    \n",
    "    ax.append(fig.add_subplot(gs[i+2,:]))\n",
    "    ef = df.iloc[i+3].rename_axis('date').reset_index()\n",
    "    ef['date'] = ef['date'].astype('datetime64[ns]')\n",
    "    ax[i].bar(ef.date,ef.iloc[:,-1],color = '#007acc',alpha=0.3)\n",
    "    ax[i].plot(ef.date,ef.iloc[:,-1],marker='o',color='#007acc')\n",
    "    ax[i].text(0.02,0.5,f'{ef.columns.values[-1]}',transform = ax[i].transAxes, fontsize = 20);\n",
    "    ax[i].xaxis.set_major_locator(mdates.WeekdayLocator())\n",
    "    ax[i].xaxis.set_major_formatter(mdates.DateFormatter('%b %d'))\n",
    "    ax[i].set_ylim([0,7000])\n",
    "    ax[i].spines['right'].set_visible(False)\n",
    "    ax[i].spines['top'].set_visible(False)\n",
    "plt.tight_layout()\n"
   ]
  },
  {
   "cell_type": "code",
   "execution_count": 20,
   "id": "dress-forge",
   "metadata": {
    "execution": {
     "iopub.execute_input": "2021-04-30T13:43:11.728074Z",
     "iopub.status.busy": "2021-04-30T13:43:11.726839Z",
     "iopub.status.idle": "2021-04-30T13:43:11.730186Z",
     "shell.execute_reply": "2021-04-30T13:43:11.729691Z"
    },
    "papermill": {
     "duration": 0.039803,
     "end_time": "2021-04-30T13:43:11.730316",
     "exception": false,
     "start_time": "2021-04-30T13:43:11.690513",
     "status": "completed"
    },
    "tags": []
   },
   "outputs": [
    {
     "name": "stdout",
     "output_type": "stream",
     "text": [
      "                                   states    Cases  Deaths   PCases  PDeaths  Cases (+)  Deaths (+)  Fatality Rate\n",
      "                              Maharashtra  4539553   67985  4539553    67985          0           0           1.50\n",
      "                                   Kerala  1571184    5309  1533985     5260      37199          49           0.34\n",
      "                                Karnataka  1474846   15306  1474846    15306          0           0           1.04\n",
      "                            Uttar Pradesh  1217952   12238  1217952    12238          0           0           1.00\n",
      "                               Tamil Nadu  1148064   13933  1148064    13933          0           0           1.21\n",
      "                                    Delhi  1122286   15772  1122286    15772          0           0           1.41\n",
      "                           Andhra Pradesh  1084336    7928  1084336     7928          0           0           0.73\n",
      "                              West Bengal   810955   11248   810955    11248          0           0           1.39\n",
      "                             Chhattisgarh   713706    8312   713706     8312          0           0           1.16\n",
      "                                Rajasthan   580846    4084   580846     4084          0           0           0.70\n",
      "                                  Gujarat   553172    7010   553172     7010          0           0           1.27\n",
      "                           Madhya Pradesh   550927    5519   550927     5519          0           0           1.00\n",
      "                                  Haryana   474145    4118   474145     4118          0           0           0.87\n",
      "                                    Bihar   454464    2480   454464     2480          0           0           0.55\n",
      "                                   Odisha   444194    2096   435513     2082       8681          14           0.47\n",
      "                                Telangana   435606    2261   427960     2208       7646          53           0.52\n",
      "                                   Punjab   364910    8909   364910     8909          0           0           2.44\n",
      "                                    Assam   249926    1281   249926     1281          0           0           0.51\n",
      "                                Jharkhand   227450    2540   227450     2540          0           0           1.12\n",
      "                              Uttarakhand   174867    2502   174867     2502          0           0           1.43\n",
      "                        Jammu and Kashmir   172551    2253   172551     2253          0           0           1.31\n",
      "                         Himachal Pradesh    96929    1447    96929     1447          0           0           1.49\n",
      "                                      Goa    88028    1146    88028     1146          0           0           1.30\n",
      "                               Puducherry    57427     793    57427      793          0           0           1.38\n",
      "                               Chandigarh    41923     465    41923      465          0           0           1.11\n",
      "                                  Tripura    35166     393    35025      393        141           0           1.12\n",
      "                                  Manipur    31315     400    31315      400          0           0           1.28\n",
      "                        Arunachal Pradesh    18257      59    18257       59          0           0           0.32\n",
      "                                Meghalaya    16617     169    16617      169          0           0           1.02\n",
      "                                   Ladakh    13866     140    13866      140          0           0           1.01\n",
      "                                 Nagaland    13750     100    13750      100          0           0           0.73\n",
      "                                   Sikkim     7747     146     7747      146          0           0           1.88\n",
      " Dadra and Nagar Haveli and Daman and Diu     7451       4     7451        4          0           0           0.05\n",
      "                                  Mizoram     6019      14     5879       13        140           1           0.23\n",
      "              Andaman and Nicobar Islands     5875      67     5875       67          0           0           1.14\n",
      "                              Lakshadweep     2662       4     2662        4          0           0           0.15\n"
     ]
    }
   ],
   "source": [
    "#hide_input\n",
    "print(df_table.to_string(index=False))"
   ]
  },
  {
   "cell_type": "code",
   "execution_count": null,
   "id": "quantitative-legend",
   "metadata": {
    "papermill": {
     "duration": 0.025604,
     "end_time": "2021-04-30T13:43:11.781654",
     "exception": false,
     "start_time": "2021-04-30T13:43:11.756050",
     "status": "completed"
    },
    "tags": []
   },
   "outputs": [],
   "source": []
  },
  {
   "cell_type": "code",
   "execution_count": null,
   "id": "distant-acoustic",
   "metadata": {
    "papermill": {
     "duration": 0.025681,
     "end_time": "2021-04-30T13:43:11.833165",
     "exception": false,
     "start_time": "2021-04-30T13:43:11.807484",
     "status": "completed"
    },
    "tags": []
   },
   "outputs": [],
   "source": []
  }
 ],
 "metadata": {
  "kernelspec": {
   "display_name": "Python 3",
   "language": "python",
   "name": "python3"
  },
  "language_info": {
   "codemirror_mode": {
    "name": "ipython",
    "version": 3
   },
   "file_extension": ".py",
   "mimetype": "text/x-python",
   "name": "python",
   "nbconvert_exporter": "python",
   "pygments_lexer": "ipython3",
   "version": "3.6.13"
  },
  "papermill": {
   "duration": 24.012897,
   "end_time": "2021-04-30T13:43:12.568675",
   "environment_variables": {},
   "exception": null,
   "input_path": "latest.ipynb",
   "output_path": "latest.ipynb",
   "parameters": {},
   "start_time": "2021-04-30T13:42:48.555778",
   "version": "2.1.2"
  }
 },
 "nbformat": 4,
 "nbformat_minor": 5
}