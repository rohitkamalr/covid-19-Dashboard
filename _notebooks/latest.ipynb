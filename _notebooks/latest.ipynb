{
 "cells": [
  {
   "cell_type": "markdown",
   "id": "colored-stack",
   "metadata": {
    "papermill": {
     "duration": 0.025018,
     "end_time": "2021-04-14T13:08:39.546138",
     "exception": false,
     "start_time": "2021-04-14T13:08:39.521120",
     "status": "completed"
    },
    "tags": []
   },
   "source": [
    "# Latest COVID-19 India Matplotlib Overview"
   ]
  },
  {
   "cell_type": "code",
   "execution_count": 1,
   "id": "light-proportion",
   "metadata": {
    "execution": {
     "iopub.execute_input": "2021-04-14T13:08:39.597676Z",
     "iopub.status.busy": "2021-04-14T13:08:39.597046Z",
     "iopub.status.idle": "2021-04-14T13:08:40.205713Z",
     "shell.execute_reply": "2021-04-14T13:08:40.204789Z"
    },
    "papermill": {
     "duration": 0.641262,
     "end_time": "2021-04-14T13:08:40.205953",
     "exception": false,
     "start_time": "2021-04-14T13:08:39.564691",
     "status": "completed"
    },
    "tags": []
   },
   "outputs": [],
   "source": [
    "#hide\n",
    "import pandas as pd\n",
    "import numpy as np\n",
    "import requests\n",
    "import json\n",
    "import matplotlib.pyplot as plt\n",
    "import matplotlib.dates as mdates\n",
    "import matplotlib as mpl\n",
    "from IPython.core.display import display,HTML\n",
    "%matplotlib inline\n",
    "from datetime import date"
   ]
  },
  {
   "cell_type": "code",
   "execution_count": 2,
   "id": "greenhouse-shooting",
   "metadata": {
    "execution": {
     "iopub.execute_input": "2021-04-14T13:08:40.252371Z",
     "iopub.status.busy": "2021-04-14T13:08:40.251760Z",
     "iopub.status.idle": "2021-04-14T13:08:40.542638Z",
     "shell.execute_reply": "2021-04-14T13:08:40.541709Z"
    },
    "papermill": {
     "duration": 0.317529,
     "end_time": "2021-04-14T13:08:40.542842",
     "exception": false,
     "start_time": "2021-04-14T13:08:40.225313",
     "status": "completed"
    },
    "tags": []
   },
   "outputs": [],
   "source": [
    "#hide\n",
    "df  = pd.read_csv('https://api.covid19india.org/csv/latest/states.csv')\n",
    "df = df[['Date','State','Confirmed','Deceased']]\n",
    "df = df.rename(columns={'Confirmed':'Cases', \"Deceased\":'Deaths'})\n",
    "df_cases = df[[\"Date\",'State','Cases']]\n",
    "df_deaths = df[['Date','State','Deaths']]\n",
    "df_cases1 = df_cases.groupby('Date')\n",
    "df_deaths1= df_deaths.groupby('Date')"
   ]
  },
  {
   "cell_type": "code",
   "execution_count": 3,
   "id": "hybrid-cathedral",
   "metadata": {
    "execution": {
     "iopub.execute_input": "2021-04-14T13:08:40.586084Z",
     "iopub.status.busy": "2021-04-14T13:08:40.585455Z",
     "iopub.status.idle": "2021-04-14T13:08:40.603801Z",
     "shell.execute_reply": "2021-04-14T13:08:40.603304Z"
    },
    "papermill": {
     "duration": 0.042762,
     "end_time": "2021-04-14T13:08:40.603930",
     "exception": false,
     "start_time": "2021-04-14T13:08:40.561168",
     "status": "completed"
    },
    "tags": []
   },
   "outputs": [],
   "source": [
    "#hide\n",
    "df_snap = pd.read_csv('data/SnapshotCases-28-July.csv')\n",
    "arr_states = df_snap['states'].unique()\n",
    "arr_dates = df['Date'].unique()\n",
    "df_snap = df_snap.set_index('states')"
   ]
  },
  {
   "cell_type": "code",
   "execution_count": 4,
   "id": "interior-belfast",
   "metadata": {
    "execution": {
     "iopub.execute_input": "2021-04-14T13:08:40.649488Z",
     "iopub.status.busy": "2021-04-14T13:08:40.648885Z",
     "iopub.status.idle": "2021-04-14T13:08:40.651986Z",
     "shell.execute_reply": "2021-04-14T13:08:40.651487Z"
    },
    "papermill": {
     "duration": 0.030476,
     "end_time": "2021-04-14T13:08:40.652106",
     "exception": false,
     "start_time": "2021-04-14T13:08:40.621630",
     "status": "completed"
    },
    "tags": []
   },
   "outputs": [
    {
     "data": {
      "text/plain": [
       "array(['Andaman and Nicobar Islands', 'Andhra Pradesh',\n",
       "       'Arunachal Pradesh', 'Assam', 'Bihar', 'Chandigarh',\n",
       "       'Dadra and Nagar Haveli and Daman and Diu', 'Delhi', 'Goa',\n",
       "       'Gujarat', 'Haryana', 'Himachal Pradesh', 'Jammu and Kashmir',\n",
       "       'Jharkhand', 'Karnataka', 'Kerala', 'Lakshadweep',\n",
       "       'Madhya Pradesh', 'Maharashtra', 'Manipur', 'Meghalaya', 'Mizoram',\n",
       "       'Nagaland', 'Odisha', 'Puducherry', 'Punjab', 'Rajasthan',\n",
       "       'Sikkim', 'Tamil Nadu', 'Telangana', 'Tripura', 'Uttar Pradesh',\n",
       "       'West Bengal', 'Chhattisgarh', 'Ladakh', 'Uttarakhand'],\n",
       "      dtype=object)"
      ]
     },
     "execution_count": 4,
     "metadata": {},
     "output_type": "execute_result"
    }
   ],
   "source": [
    "#hide\n",
    "arr_states[-9] = 'Puducherry'\n",
    "arr_states[-10] = 'Odisha'\n",
    "arr_states[6] = 'Dadra and Nagar Haveli and Daman and Diu'\n",
    "arr_states = np.append(arr_states,np.array(['Chhattisgarh','Ladakh','Uttarakhand']))\n",
    "arr_states"
   ]
  },
  {
   "cell_type": "code",
   "execution_count": 5,
   "id": "behind-manner",
   "metadata": {
    "execution": {
     "iopub.execute_input": "2021-04-14T13:08:40.696835Z",
     "iopub.status.busy": "2021-04-14T13:08:40.696236Z",
     "iopub.status.idle": "2021-04-14T13:08:40.712322Z",
     "shell.execute_reply": "2021-04-14T13:08:40.711815Z"
    },
    "papermill": {
     "duration": 0.042197,
     "end_time": "2021-04-14T13:08:40.712438",
     "exception": false,
     "start_time": "2021-04-14T13:08:40.670241",
     "status": "completed"
    },
    "tags": []
   },
   "outputs": [],
   "source": [
    "#hide\n",
    "dates = []\n",
    "for i in arr_dates:\n",
    "    if i>='2020-07-01':\n",
    "        dates.append(i)\n",
    "dict = {'states':dates}\n",
    "for i in arr_states:\n",
    "    dict[i] = [0]*len(dates)\n",
    "dft_cases = pd.DataFrame(dict)\n",
    "dft_deaths = pd.DataFrame(dict)\n"
   ]
  },
  {
   "cell_type": "code",
   "execution_count": 6,
   "id": "simplified-peter",
   "metadata": {
    "execution": {
     "iopub.execute_input": "2021-04-14T13:08:40.756996Z",
     "iopub.status.busy": "2021-04-14T13:08:40.756406Z",
     "iopub.status.idle": "2021-04-14T13:08:45.056246Z",
     "shell.execute_reply": "2021-04-14T13:08:45.055265Z"
    },
    "papermill": {
     "duration": 4.326034,
     "end_time": "2021-04-14T13:08:45.056392",
     "exception": false,
     "start_time": "2021-04-14T13:08:40.730358",
     "status": "completed"
    },
    "tags": []
   },
   "outputs": [],
   "source": [
    "#hide\n",
    "for i in range(len(dates)):\n",
    "    df1_deaths = df_deaths1.get_group(dates[i])\n",
    "    for j in range(len(df1_deaths.index)):\n",
    "        if df1_deaths.iloc[j,1] in arr_states:\n",
    "            dft_deaths.loc[i,df1_deaths.iloc[j,1]] = df1_deaths.iloc[j,2]\n",
    "dft_deaths = dft_deaths.set_index('states')"
   ]
  },
  {
   "cell_type": "code",
   "execution_count": 7,
   "id": "geological-welding",
   "metadata": {
    "execution": {
     "iopub.execute_input": "2021-04-14T13:08:45.102092Z",
     "iopub.status.busy": "2021-04-14T13:08:45.101428Z",
     "iopub.status.idle": "2021-04-14T13:08:49.253322Z",
     "shell.execute_reply": "2021-04-14T13:08:49.252469Z"
    },
    "papermill": {
     "duration": 4.178838,
     "end_time": "2021-04-14T13:08:49.253593",
     "exception": false,
     "start_time": "2021-04-14T13:08:45.074755",
     "status": "completed"
    },
    "tags": []
   },
   "outputs": [],
   "source": [
    "#hide\n",
    "for i in range(len(dates)):\n",
    "    df1_cases = df_cases1.get_group(dates[i])\n",
    "    for j in range(len(df1_cases.index)):\n",
    "        if df1_cases.iloc[j,1] in arr_states:\n",
    "            dft_cases.loc[i,df1_cases.iloc[j,1]] = df1_cases.iloc[j,2]\n",
    "dft_cases = dft_cases.set_index('states')"
   ]
  },
  {
   "cell_type": "code",
   "execution_count": 8,
   "id": "binary-ratio",
   "metadata": {
    "execution": {
     "iopub.execute_input": "2021-04-14T13:08:49.300705Z",
     "iopub.status.busy": "2021-04-14T13:08:49.300094Z",
     "iopub.status.idle": "2021-04-14T13:08:49.301356Z",
     "shell.execute_reply": "2021-04-14T13:08:49.301936Z"
    },
    "papermill": {
     "duration": 0.027834,
     "end_time": "2021-04-14T13:08:49.302080",
     "exception": false,
     "start_time": "2021-04-14T13:08:49.274246",
     "status": "completed"
    },
    "tags": []
   },
   "outputs": [],
   "source": [
    "#hide\n",
    "dft_cases = dft_cases.T\n",
    "dft_deaths = dft_deaths.T\n",
    "dt_today = dates[-1]\n",
    "dt_yday = dates[-2]"
   ]
  },
  {
   "cell_type": "code",
   "execution_count": 9,
   "id": "boolean-calculator",
   "metadata": {
    "execution": {
     "iopub.execute_input": "2021-04-14T13:08:49.345429Z",
     "iopub.status.busy": "2021-04-14T13:08:49.344837Z",
     "iopub.status.idle": "2021-04-14T13:08:49.348299Z",
     "shell.execute_reply": "2021-04-14T13:08:49.347830Z"
    },
    "papermill": {
     "duration": 0.028421,
     "end_time": "2021-04-14T13:08:49.348417",
     "exception": false,
     "start_time": "2021-04-14T13:08:49.319996",
     "status": "completed"
    },
    "tags": []
   },
   "outputs": [],
   "source": [
    "#hide\n",
    "dft_cases = dft_cases.reset_index()\n",
    "dft_deaths = dft_deaths.reset_index()\n",
    "dft_cases = dft_cases.rename(columns = {'index':'state'})\n",
    "dft_deaths = dft_deaths.rename(columns = {'index':'state'})"
   ]
  },
  {
   "cell_type": "code",
   "execution_count": 10,
   "id": "invisible-johnston",
   "metadata": {
    "execution": {
     "iopub.execute_input": "2021-04-14T13:08:49.396947Z",
     "iopub.status.busy": "2021-04-14T13:08:49.396365Z",
     "iopub.status.idle": "2021-04-14T13:08:49.399758Z",
     "shell.execute_reply": "2021-04-14T13:08:49.399259Z"
    },
    "papermill": {
     "duration": 0.033497,
     "end_time": "2021-04-14T13:08:49.399872",
     "exception": false,
     "start_time": "2021-04-14T13:08:49.366375",
     "status": "completed"
    },
    "tags": []
   },
   "outputs": [],
   "source": [
    "#hide\n",
    "dfc_cases = dft_cases.groupby('state')[dt_today].sum()\n",
    "dfc_deaths = dft_deaths.groupby('state')[dt_today].sum()\n",
    "dfp_cases = dft_cases.groupby('state')[dt_yday].sum()\n",
    "dfp_deaths = dft_deaths.groupby('state')[dt_yday].sum()"
   ]
  },
  {
   "cell_type": "code",
   "execution_count": 11,
   "id": "measured-great",
   "metadata": {
    "execution": {
     "iopub.execute_input": "2021-04-14T13:08:49.445108Z",
     "iopub.status.busy": "2021-04-14T13:08:49.444525Z",
     "iopub.status.idle": "2021-04-14T13:08:49.457819Z",
     "shell.execute_reply": "2021-04-14T13:08:49.457299Z"
    },
    "papermill": {
     "duration": 0.039691,
     "end_time": "2021-04-14T13:08:49.457934",
     "exception": false,
     "start_time": "2021-04-14T13:08:49.418243",
     "status": "completed"
    },
    "tags": []
   },
   "outputs": [
    {
     "data": {
      "text/html": [
       "<div>\n",
       "<style scoped>\n",
       "    .dataframe tbody tr th:only-of-type {\n",
       "        vertical-align: middle;\n",
       "    }\n",
       "\n",
       "    .dataframe tbody tr th {\n",
       "        vertical-align: top;\n",
       "    }\n",
       "\n",
       "    .dataframe thead th {\n",
       "        text-align: right;\n",
       "    }\n",
       "</style>\n",
       "<table border=\"1\" class=\"dataframe\">\n",
       "  <thead>\n",
       "    <tr style=\"text-align: right;\">\n",
       "      <th></th>\n",
       "      <th>states</th>\n",
       "      <th>Cases</th>\n",
       "      <th>Deaths</th>\n",
       "      <th>PCases</th>\n",
       "      <th>PDeaths</th>\n",
       "    </tr>\n",
       "  </thead>\n",
       "  <tbody>\n",
       "    <tr>\n",
       "      <th>0</th>\n",
       "      <td>Maharashtra</td>\n",
       "      <td>3519208</td>\n",
       "      <td>58526</td>\n",
       "      <td>3519208</td>\n",
       "      <td>58526</td>\n",
       "    </tr>\n",
       "    <tr>\n",
       "      <th>1</th>\n",
       "      <td>Kerala</td>\n",
       "      <td>1180398</td>\n",
       "      <td>4815</td>\n",
       "      <td>1180398</td>\n",
       "      <td>4815</td>\n",
       "    </tr>\n",
       "    <tr>\n",
       "      <th>2</th>\n",
       "      <td>Karnataka</td>\n",
       "      <td>1083647</td>\n",
       "      <td>13008</td>\n",
       "      <td>1083647</td>\n",
       "      <td>13008</td>\n",
       "    </tr>\n",
       "    <tr>\n",
       "      <th>3</th>\n",
       "      <td>Tamil Nadu</td>\n",
       "      <td>947129</td>\n",
       "      <td>12945</td>\n",
       "      <td>947129</td>\n",
       "      <td>12945</td>\n",
       "    </tr>\n",
       "    <tr>\n",
       "      <th>4</th>\n",
       "      <td>Andhra Pradesh</td>\n",
       "      <td>937049</td>\n",
       "      <td>7339</td>\n",
       "      <td>932892</td>\n",
       "      <td>7321</td>\n",
       "    </tr>\n",
       "  </tbody>\n",
       "</table>\n",
       "</div>"
      ],
      "text/plain": [
       "           states    Cases  Deaths   PCases  PDeaths\n",
       "0     Maharashtra  3519208   58526  3519208    58526\n",
       "1          Kerala  1180398    4815  1180398     4815\n",
       "2       Karnataka  1083647   13008  1083647    13008\n",
       "3      Tamil Nadu   947129   12945   947129    12945\n",
       "4  Andhra Pradesh   937049    7339   932892     7321"
      ]
     },
     "execution_count": 11,
     "metadata": {},
     "output_type": "execute_result"
    }
   ],
   "source": [
    "#hide\n",
    "df_table = pd.DataFrame({'states': dfc_cases.index, 'Cases': dfc_cases.values, 'Deaths': dfc_deaths.values, 'PCases': dfp_cases.values, 'PDeaths': dfp_deaths.values}).set_index('states')\n",
    "df_table = df_table.sort_values(by = ['Cases','Deaths'], ascending = [False, False])\n",
    "df_table = df_table.reset_index()\n",
    "df_table.head()"
   ]
  },
  {
   "cell_type": "code",
   "execution_count": 12,
   "id": "found-montreal",
   "metadata": {
    "execution": {
     "iopub.execute_input": "2021-04-14T13:08:49.501501Z",
     "iopub.status.busy": "2021-04-14T13:08:49.500917Z",
     "iopub.status.idle": "2021-04-14T13:08:49.510949Z",
     "shell.execute_reply": "2021-04-14T13:08:49.510477Z"
    },
    "papermill": {
     "duration": 0.034778,
     "end_time": "2021-04-14T13:08:49.511065",
     "exception": false,
     "start_time": "2021-04-14T13:08:49.476287",
     "status": "completed"
    },
    "tags": []
   },
   "outputs": [],
   "source": [
    "#hide\n",
    "for c in 'Cases, Deaths'.split(', '):\n",
    "    df_table[f'{c} (+)'] = (df_table[c] - df_table[f'P{c}']).clip(0)\n",
    "df_table['Fatality Rate'] = (100* df_table['Deaths']/ df_table['Cases']).round(2)"
   ]
  },
  {
   "cell_type": "code",
   "execution_count": 13,
   "id": "minus-savage",
   "metadata": {
    "execution": {
     "iopub.execute_input": "2021-04-14T13:08:49.553085Z",
     "iopub.status.busy": "2021-04-14T13:08:49.552500Z",
     "iopub.status.idle": "2021-04-14T13:08:49.561658Z",
     "shell.execute_reply": "2021-04-14T13:08:49.562117Z"
    },
    "papermill": {
     "duration": 0.032263,
     "end_time": "2021-04-14T13:08:49.562249",
     "exception": false,
     "start_time": "2021-04-14T13:08:49.529986",
     "status": "completed"
    },
    "tags": []
   },
   "outputs": [
    {
     "data": {
      "text/html": [
       "<div>\n",
       "<style scoped>\n",
       "    .dataframe tbody tr th:only-of-type {\n",
       "        vertical-align: middle;\n",
       "    }\n",
       "\n",
       "    .dataframe tbody tr th {\n",
       "        vertical-align: top;\n",
       "    }\n",
       "\n",
       "    .dataframe thead th {\n",
       "        text-align: right;\n",
       "    }\n",
       "</style>\n",
       "<table border=\"1\" class=\"dataframe\">\n",
       "  <thead>\n",
       "    <tr style=\"text-align: right;\">\n",
       "      <th></th>\n",
       "      <th>states</th>\n",
       "      <th>Cases</th>\n",
       "      <th>Deaths</th>\n",
       "      <th>PCases</th>\n",
       "      <th>PDeaths</th>\n",
       "      <th>Cases (+)</th>\n",
       "      <th>Deaths (+)</th>\n",
       "      <th>Fatality Rate</th>\n",
       "    </tr>\n",
       "  </thead>\n",
       "  <tbody>\n",
       "    <tr>\n",
       "      <th>0</th>\n",
       "      <td>Maharashtra</td>\n",
       "      <td>3519208</td>\n",
       "      <td>58526</td>\n",
       "      <td>3519208</td>\n",
       "      <td>58526</td>\n",
       "      <td>0</td>\n",
       "      <td>0</td>\n",
       "      <td>1.66</td>\n",
       "    </tr>\n",
       "    <tr>\n",
       "      <th>1</th>\n",
       "      <td>Kerala</td>\n",
       "      <td>1180398</td>\n",
       "      <td>4815</td>\n",
       "      <td>1180398</td>\n",
       "      <td>4815</td>\n",
       "      <td>0</td>\n",
       "      <td>0</td>\n",
       "      <td>0.41</td>\n",
       "    </tr>\n",
       "    <tr>\n",
       "      <th>2</th>\n",
       "      <td>Karnataka</td>\n",
       "      <td>1083647</td>\n",
       "      <td>13008</td>\n",
       "      <td>1083647</td>\n",
       "      <td>13008</td>\n",
       "      <td>0</td>\n",
       "      <td>0</td>\n",
       "      <td>1.20</td>\n",
       "    </tr>\n",
       "    <tr>\n",
       "      <th>3</th>\n",
       "      <td>Tamil Nadu</td>\n",
       "      <td>947129</td>\n",
       "      <td>12945</td>\n",
       "      <td>947129</td>\n",
       "      <td>12945</td>\n",
       "      <td>0</td>\n",
       "      <td>0</td>\n",
       "      <td>1.37</td>\n",
       "    </tr>\n",
       "    <tr>\n",
       "      <th>4</th>\n",
       "      <td>Andhra Pradesh</td>\n",
       "      <td>937049</td>\n",
       "      <td>7339</td>\n",
       "      <td>932892</td>\n",
       "      <td>7321</td>\n",
       "      <td>4157</td>\n",
       "      <td>18</td>\n",
       "      <td>0.78</td>\n",
       "    </tr>\n",
       "  </tbody>\n",
       "</table>\n",
       "</div>"
      ],
      "text/plain": [
       "           states    Cases  Deaths   PCases  PDeaths  Cases (+)  Deaths (+)  \\\n",
       "0     Maharashtra  3519208   58526  3519208    58526          0           0   \n",
       "1          Kerala  1180398    4815  1180398     4815          0           0   \n",
       "2       Karnataka  1083647   13008  1083647    13008          0           0   \n",
       "3      Tamil Nadu   947129   12945   947129    12945          0           0   \n",
       "4  Andhra Pradesh   937049    7339   932892     7321       4157          18   \n",
       "\n",
       "   Fatality Rate  \n",
       "0           1.66  \n",
       "1           0.41  \n",
       "2           1.20  \n",
       "3           1.37  \n",
       "4           0.78  "
      ]
     },
     "execution_count": 13,
     "metadata": {},
     "output_type": "execute_result"
    }
   ],
   "source": [
    "#hide\n",
    "df_table.head()"
   ]
  },
  {
   "cell_type": "code",
   "execution_count": 14,
   "id": "false-peter",
   "metadata": {
    "execution": {
     "iopub.execute_input": "2021-04-14T13:08:49.606821Z",
     "iopub.status.busy": "2021-04-14T13:08:49.606228Z",
     "iopub.status.idle": "2021-04-14T13:08:49.622627Z",
     "shell.execute_reply": "2021-04-14T13:08:49.622129Z"
    },
    "papermill": {
     "duration": 0.041627,
     "end_time": "2021-04-14T13:08:49.622740",
     "exception": false,
     "start_time": "2021-04-14T13:08:49.581113",
     "status": "completed"
    },
    "tags": []
   },
   "outputs": [
    {
     "data": {
      "text/plain": [
       "{'updated': '2021-04-14',\n",
       " 'since': '2021-04-13',\n",
       " 'Cases': 13880748,\n",
       " 'PCases': 13871511,\n",
       " 'Deaths': 172146,\n",
       " 'PDeaths': 172115,\n",
       " 'Cases (+)': 9237,\n",
       " 'Deaths (+)': 31}"
      ]
     },
     "execution_count": 14,
     "metadata": {},
     "output_type": "execute_result"
    }
   ],
   "source": [
    "#hide\n",
    "summary = {'updated':dates[-1], 'since':dates[-2]}\n",
    "list_names = ['Cases', 'PCases', 'Deaths', 'PDeaths', 'Cases (+)', 'Deaths (+)']\n",
    "for name in list_names:\n",
    "    summary[name] = df_table.sum()[name]\n",
    "summary"
   ]
  },
  {
   "cell_type": "code",
   "execution_count": 15,
   "id": "packed-viewer",
   "metadata": {
    "execution": {
     "iopub.execute_input": "2021-04-14T13:08:49.667145Z",
     "iopub.status.busy": "2021-04-14T13:08:49.666547Z",
     "iopub.status.idle": "2021-04-14T13:08:49.668820Z",
     "shell.execute_reply": "2021-04-14T13:08:49.668325Z"
    },
    "papermill": {
     "duration": 0.026691,
     "end_time": "2021-04-14T13:08:49.668931",
     "exception": false,
     "start_time": "2021-04-14T13:08:49.642240",
     "status": "completed"
    },
    "tags": []
   },
   "outputs": [],
   "source": [
    "#hide\n",
    "overview = '''\n",
    "<!-- #######  HTML!! #########-->\n",
    "<h1 style=\"color: #5e9ca0; text-align: center;\">India</h1>\n",
    "<p style=\"text-align: center;\">Last update: <strong>{update}</strong></p>\n",
    "<p style=\"text-align: center;\">Confirmed cases:</p>\n",
    "<p style=\"text-align: center;font-size:24px;\">{cases} (<span style=\"color: #ff0000;\">+{new}</span>)</p>\n",
    "<p style=\"text-align: center;\">Confirmed deaths:</p>\n",
    "<p style=\"text-align: center;font-size:24px;\">{deaths} (<span style=\"color: #ff0000;\">+{dnew}</span>)</p>\n",
    "'''"
   ]
  },
  {
   "cell_type": "code",
   "execution_count": 16,
   "id": "phantom-lover",
   "metadata": {
    "execution": {
     "iopub.execute_input": "2021-04-14T13:08:49.715775Z",
     "iopub.status.busy": "2021-04-14T13:08:49.715191Z",
     "iopub.status.idle": "2021-04-14T13:08:49.718706Z",
     "shell.execute_reply": "2021-04-14T13:08:49.718235Z"
    },
    "papermill": {
     "duration": 0.030548,
     "end_time": "2021-04-14T13:08:49.718821",
     "exception": false,
     "start_time": "2021-04-14T13:08:49.688273",
     "status": "completed"
    },
    "tags": []
   },
   "outputs": [
    {
     "data": {
      "text/html": [
       "\n",
       "<!-- #######  HTML!! #########-->\n",
       "<h1 style=\"color: #5e9ca0; text-align: center;\">India</h1>\n",
       "<p style=\"text-align: center;\">Last update: <strong>2021-04-14</strong></p>\n",
       "<p style=\"text-align: center;\">Confirmed cases:</p>\n",
       "<p style=\"text-align: center;font-size:24px;\">13880748 (<span style=\"color: #ff0000;\">+9237</span>)</p>\n",
       "<p style=\"text-align: center;\">Confirmed deaths:</p>\n",
       "<p style=\"text-align: center;font-size:24px;\">172146 (<span style=\"color: #ff0000;\">+31</span>)</p>\n"
      ],
      "text/plain": [
       "<IPython.core.display.HTML object>"
      ]
     },
     "metadata": {},
     "output_type": "display_data"
    }
   ],
   "source": [
    "#hide_input\n",
    "update = summary['updated']\n",
    "cases = summary['Cases']\n",
    "new = summary['Cases (+)']\n",
    "deaths = summary['Deaths']\n",
    "dnew = summary['Deaths (+)']\n",
    "\n",
    "html = HTML(overview.format(update=update, cases=cases,new=new,deaths=deaths,dnew=dnew))\n",
    "\n",
    "display(html)"
   ]
  },
  {
   "cell_type": "code",
   "execution_count": 17,
   "id": "sealed-reset",
   "metadata": {
    "execution": {
     "iopub.execute_input": "2021-04-14T13:08:49.766963Z",
     "iopub.status.busy": "2021-04-14T13:08:49.766381Z",
     "iopub.status.idle": "2021-04-14T13:08:49.774101Z",
     "shell.execute_reply": "2021-04-14T13:08:49.773598Z"
    },
    "papermill": {
     "duration": 0.03556,
     "end_time": "2021-04-14T13:08:49.774213",
     "exception": false,
     "start_time": "2021-04-14T13:08:49.738653",
     "status": "completed"
    },
    "tags": []
   },
   "outputs": [],
   "source": [
    "#hide\n",
    "dt_cols = list(dft_cases.columns[1:])\n",
    "dft_ct_new_cases = dft_cases.groupby('state')[dt_cols].sum().diff(axis=1).fillna(0).astype(int)\n",
    "dft_ct_new_cases.sort_values(by = dates[-1], ascending = False,inplace = True)"
   ]
  },
  {
   "cell_type": "code",
   "execution_count": 18,
   "id": "designed-constant",
   "metadata": {
    "execution": {
     "iopub.execute_input": "2021-04-14T13:08:49.832566Z",
     "iopub.status.busy": "2021-04-14T13:08:49.831981Z",
     "iopub.status.idle": "2021-04-14T13:08:49.835153Z",
     "shell.execute_reply": "2021-04-14T13:08:49.834655Z"
    },
    "papermill": {
     "duration": 0.041018,
     "end_time": "2021-04-14T13:08:49.835266",
     "exception": false,
     "start_time": "2021-04-14T13:08:49.794248",
     "status": "completed"
    },
    "tags": []
   },
   "outputs": [
    {
     "data": {
      "text/html": [
       "<div>\n",
       "<style scoped>\n",
       "    .dataframe tbody tr th:only-of-type {\n",
       "        vertical-align: middle;\n",
       "    }\n",
       "\n",
       "    .dataframe tbody tr th {\n",
       "        vertical-align: top;\n",
       "    }\n",
       "\n",
       "    .dataframe thead th {\n",
       "        text-align: right;\n",
       "    }\n",
       "</style>\n",
       "<table border=\"1\" class=\"dataframe\">\n",
       "  <thead>\n",
       "    <tr style=\"text-align: right;\">\n",
       "      <th>states</th>\n",
       "      <th>2020-07-01</th>\n",
       "      <th>2020-07-02</th>\n",
       "      <th>2020-07-03</th>\n",
       "      <th>2020-07-04</th>\n",
       "      <th>2020-07-05</th>\n",
       "      <th>2020-07-06</th>\n",
       "      <th>2020-07-07</th>\n",
       "      <th>2020-07-08</th>\n",
       "      <th>2020-07-09</th>\n",
       "      <th>2020-07-10</th>\n",
       "      <th>...</th>\n",
       "      <th>2021-04-05</th>\n",
       "      <th>2021-04-06</th>\n",
       "      <th>2021-04-07</th>\n",
       "      <th>2021-04-08</th>\n",
       "      <th>2021-04-09</th>\n",
       "      <th>2021-04-10</th>\n",
       "      <th>2021-04-11</th>\n",
       "      <th>2021-04-12</th>\n",
       "      <th>2021-04-13</th>\n",
       "      <th>2021-04-14</th>\n",
       "    </tr>\n",
       "    <tr>\n",
       "      <th>state</th>\n",
       "      <th></th>\n",
       "      <th></th>\n",
       "      <th></th>\n",
       "      <th></th>\n",
       "      <th></th>\n",
       "      <th></th>\n",
       "      <th></th>\n",
       "      <th></th>\n",
       "      <th></th>\n",
       "      <th></th>\n",
       "      <th></th>\n",
       "      <th></th>\n",
       "      <th></th>\n",
       "      <th></th>\n",
       "      <th></th>\n",
       "      <th></th>\n",
       "      <th></th>\n",
       "      <th></th>\n",
       "      <th></th>\n",
       "      <th></th>\n",
       "      <th></th>\n",
       "    </tr>\n",
       "  </thead>\n",
       "  <tbody>\n",
       "    <tr>\n",
       "      <th>Andhra Pradesh</th>\n",
       "      <td>0</td>\n",
       "      <td>845</td>\n",
       "      <td>837</td>\n",
       "      <td>765</td>\n",
       "      <td>998</td>\n",
       "      <td>1322</td>\n",
       "      <td>1178</td>\n",
       "      <td>1062</td>\n",
       "      <td>1555</td>\n",
       "      <td>1608</td>\n",
       "      <td>...</td>\n",
       "      <td>1326</td>\n",
       "      <td>1941</td>\n",
       "      <td>2331</td>\n",
       "      <td>2558</td>\n",
       "      <td>2765</td>\n",
       "      <td>3309</td>\n",
       "      <td>3495</td>\n",
       "      <td>3263</td>\n",
       "      <td>4228</td>\n",
       "      <td>4157</td>\n",
       "    </tr>\n",
       "    <tr>\n",
       "      <th>Odisha</th>\n",
       "      <td>0</td>\n",
       "      <td>229</td>\n",
       "      <td>561</td>\n",
       "      <td>495</td>\n",
       "      <td>469</td>\n",
       "      <td>456</td>\n",
       "      <td>571</td>\n",
       "      <td>527</td>\n",
       "      <td>577</td>\n",
       "      <td>755</td>\n",
       "      <td>...</td>\n",
       "      <td>573</td>\n",
       "      <td>588</td>\n",
       "      <td>791</td>\n",
       "      <td>879</td>\n",
       "      <td>1282</td>\n",
       "      <td>1374</td>\n",
       "      <td>1379</td>\n",
       "      <td>1741</td>\n",
       "      <td>1784</td>\n",
       "      <td>2267</td>\n",
       "    </tr>\n",
       "    <tr>\n",
       "      <th>Telangana</th>\n",
       "      <td>0</td>\n",
       "      <td>1213</td>\n",
       "      <td>1892</td>\n",
       "      <td>1850</td>\n",
       "      <td>1590</td>\n",
       "      <td>1831</td>\n",
       "      <td>1879</td>\n",
       "      <td>1924</td>\n",
       "      <td>1410</td>\n",
       "      <td>1278</td>\n",
       "      <td>...</td>\n",
       "      <td>1097</td>\n",
       "      <td>1498</td>\n",
       "      <td>1914</td>\n",
       "      <td>2055</td>\n",
       "      <td>2478</td>\n",
       "      <td>2909</td>\n",
       "      <td>3187</td>\n",
       "      <td>2251</td>\n",
       "      <td>3052</td>\n",
       "      <td>2157</td>\n",
       "    </tr>\n",
       "    <tr>\n",
       "      <th>Puducherry</th>\n",
       "      <td>0</td>\n",
       "      <td>63</td>\n",
       "      <td>22</td>\n",
       "      <td>80</td>\n",
       "      <td>42</td>\n",
       "      <td>65</td>\n",
       "      <td>30</td>\n",
       "      <td>110</td>\n",
       "      <td>49</td>\n",
       "      <td>72</td>\n",
       "      <td>...</td>\n",
       "      <td>180</td>\n",
       "      <td>237</td>\n",
       "      <td>173</td>\n",
       "      <td>293</td>\n",
       "      <td>223</td>\n",
       "      <td>272</td>\n",
       "      <td>306</td>\n",
       "      <td>512</td>\n",
       "      <td>418</td>\n",
       "      <td>476</td>\n",
       "    </tr>\n",
       "    <tr>\n",
       "      <th>Meghalaya</th>\n",
       "      <td>0</td>\n",
       "      <td>3</td>\n",
       "      <td>4</td>\n",
       "      <td>8</td>\n",
       "      <td>2</td>\n",
       "      <td>16</td>\n",
       "      <td>6</td>\n",
       "      <td>6</td>\n",
       "      <td>13</td>\n",
       "      <td>73</td>\n",
       "      <td>...</td>\n",
       "      <td>4</td>\n",
       "      <td>9</td>\n",
       "      <td>5</td>\n",
       "      <td>25</td>\n",
       "      <td>42</td>\n",
       "      <td>39</td>\n",
       "      <td>28</td>\n",
       "      <td>26</td>\n",
       "      <td>87</td>\n",
       "      <td>98</td>\n",
       "    </tr>\n",
       "  </tbody>\n",
       "</table>\n",
       "<p>5 rows × 288 columns</p>\n",
       "</div>"
      ],
      "text/plain": [
       "states          2020-07-01  2020-07-02  2020-07-03  2020-07-04  2020-07-05  \\\n",
       "state                                                                        \n",
       "Andhra Pradesh           0         845         837         765         998   \n",
       "Odisha                   0         229         561         495         469   \n",
       "Telangana                0        1213        1892        1850        1590   \n",
       "Puducherry               0          63          22          80          42   \n",
       "Meghalaya                0           3           4           8           2   \n",
       "\n",
       "states          2020-07-06  2020-07-07  2020-07-08  2020-07-09  2020-07-10  \\\n",
       "state                                                                        \n",
       "Andhra Pradesh        1322        1178        1062        1555        1608   \n",
       "Odisha                 456         571         527         577         755   \n",
       "Telangana             1831        1879        1924        1410        1278   \n",
       "Puducherry              65          30         110          49          72   \n",
       "Meghalaya               16           6           6          13          73   \n",
       "\n",
       "states          ...  2021-04-05  2021-04-06  2021-04-07  2021-04-08  \\\n",
       "state           ...                                                   \n",
       "Andhra Pradesh  ...        1326        1941        2331        2558   \n",
       "Odisha          ...         573         588         791         879   \n",
       "Telangana       ...        1097        1498        1914        2055   \n",
       "Puducherry      ...         180         237         173         293   \n",
       "Meghalaya       ...           4           9           5          25   \n",
       "\n",
       "states          2021-04-09  2021-04-10  2021-04-11  2021-04-12  2021-04-13  \\\n",
       "state                                                                        \n",
       "Andhra Pradesh        2765        3309        3495        3263        4228   \n",
       "Odisha                1282        1374        1379        1741        1784   \n",
       "Telangana             2478        2909        3187        2251        3052   \n",
       "Puducherry             223         272         306         512         418   \n",
       "Meghalaya               42          39          28          26          87   \n",
       "\n",
       "states          2021-04-14  \n",
       "state                       \n",
       "Andhra Pradesh        4157  \n",
       "Odisha                2267  \n",
       "Telangana             2157  \n",
       "Puducherry             476  \n",
       "Meghalaya               98  \n",
       "\n",
       "[5 rows x 288 columns]"
      ]
     },
     "execution_count": 18,
     "metadata": {},
     "output_type": "execute_result"
    }
   ],
   "source": [
    "#hide\n",
    "dft_ct_new_cases.head()"
   ]
  },
  {
   "cell_type": "code",
   "execution_count": 19,
   "id": "responsible-nightlife",
   "metadata": {
    "execution": {
     "iopub.execute_input": "2021-04-14T13:08:49.896049Z",
     "iopub.status.busy": "2021-04-14T13:08:49.885401Z",
     "iopub.status.idle": "2021-04-14T13:09:00.707209Z",
     "shell.execute_reply": "2021-04-14T13:09:00.707694Z"
    },
    "papermill": {
     "duration": 10.850718,
     "end_time": "2021-04-14T13:09:00.707847",
     "exception": false,
     "start_time": "2021-04-14T13:08:49.857129",
     "status": "completed"
    },
    "tags": []
   },
   "outputs": [
    {
     "data": {
      "image/png": "[encoded data removed]",
      "text/plain": [
       "<Figure size 1296x2016 with 11 Axes>"
      ]
     },
     "metadata": {
      "needs_background": "light"
     },
     "output_type": "display_data"
    }
   ],
   "source": [
    "#hide_input\n",
    "df = dft_ct_new_cases.copy()\n",
    "df.loc['Total'] = df.sum()\n",
    "n = 5\n",
    "ax = []\n",
    "fig = plt.figure(figsize = (18,28))\n",
    "gs = fig.add_gridspec(n+2, 5)\n",
    "# gs = fig.add_gridspec(2, 3)\n",
    "ax1 = fig.add_subplot(gs[0, :])\n",
    "ef = df.loc['Total'].rename_axis('date').reset_index()\n",
    "ef['date'] = ef['date'].astype('datetime64[ns]')\n",
    "ax1.bar(ef.date,ef.Total,alpha=0.3,color='#007acc')\n",
    "ax1.plot(ef.date,ef.Total , marker=\"o\", color='#007acc')\n",
    "ax1.xaxis.set_major_locator(mdates.WeekdayLocator())\n",
    "ax1.xaxis.set_major_formatter(mdates.DateFormatter('%b %d'))\n",
    "ax1.text(0.02, 0.5,'India daily case count', transform = ax1.transAxes, fontsize=25);\n",
    "ax1.spines['right'].set_visible(False)\n",
    "ax1.spines['top'].set_visible(False)\n",
    "\n",
    "ax2 = fig.add_subplot(gs[1,0])\n",
    "ef = df.loc['Maharashtra'].rename_axis('date').reset_index()\n",
    "ef['date'] = ef['date'].astype('datetime64[ns]')\n",
    "\n",
    "ax2.bar(ef.date, ef.Maharashtra,color = '#007acc',alpha=0.5)\n",
    "ax2.xaxis.set_major_locator(mdates.WeekdayLocator())\n",
    "ax2.xaxis.set_major_formatter(mdates.DateFormatter('%b %d'))\n",
    "ax2.set_xticks(ax2.get_xticks()[::3])\n",
    "maxyval = ef.Maharashtra.max()\n",
    "ax2.set_ylim([0,maxyval])\n",
    "ax2.text(0.05, 0.9,'Maharashtra', transform = ax2.transAxes, fontsize=20);\n",
    "ax2.spines['right'].set_visible(False)\n",
    "ax2.spines['top'].set_visible(False)\n",
    "\n",
    "\n",
    "ax3 = fig.add_subplot(gs[1,1])\n",
    "ef = df.loc['Tamil Nadu'].rename_axis('date').reset_index()\n",
    "ef['date'] = ef['date'].astype('datetime64[ns]')\n",
    "ax3.bar(ef.date, ef['Tamil Nadu'],color = '#007acc',alpha=0.5,)\n",
    "ax3.xaxis.set_major_locator(mdates.WeekdayLocator())\n",
    "ax3.xaxis.set_major_formatter(mdates.DateFormatter('%b %d'))\n",
    "ax3.set_xticks(ax3.get_xticks()[::3])\n",
    "ax3.text(0.05, 0.9,'Tamil Nadu', transform = ax3.transAxes, fontsize=20);\n",
    "ax3.spines['right'].set_visible(False)\n",
    "ax3.spines['top'].set_visible(False)\n",
    "\n",
    "ax5 = fig.add_subplot(gs[1,3])\n",
    "ef = df.loc['Telangana'].rename_axis('date').reset_index()\n",
    "ef['date'] = ef['date'].astype('datetime64[ns]')\n",
    "ax5.bar(ef.date, ef['Telangana'],color = '#007acc',alpha=0.5,)\n",
    "ax5.xaxis.set_major_locator(mdates.WeekdayLocator())\n",
    "ax5.xaxis.set_major_formatter(mdates.DateFormatter('%b %d'))\n",
    "ax5.set_xticks(ax5.get_xticks()[::3])\n",
    "ax5.text(0.05, 0.9,'Telangana', transform = ax5.transAxes, fontsize=20);\n",
    "ax5.spines['right'].set_visible(False)\n",
    "ax5.spines['top'].set_visible(False)\n",
    "\n",
    "ax6 = fig.add_subplot(gs[1,4])\n",
    "ef = df.loc['Andhra Pradesh'].rename_axis('date').reset_index()\n",
    "ef['date'] = ef['date'].astype('datetime64[ns]')\n",
    "ax6.bar(ef.date, ef['Andhra Pradesh'],color = '#007acc',alpha=0.5,)\n",
    "ax6.xaxis.set_major_locator(mdates.WeekdayLocator())\n",
    "ax6.xaxis.set_major_formatter(mdates.DateFormatter('%b %d'))\n",
    "ax6.set_xticks(ax6.get_xticks()[::3])\n",
    "ax6.text(0.05, 1,'Andhra Pradesh', transform = ax6.transAxes, fontsize=20);\n",
    "ax6.spines['right'].set_visible(False)\n",
    "ax6.spines['top'].set_visible(False)\n",
    "\n",
    "ax4 = fig.add_subplot(gs[1,2])\n",
    "ef = df.loc['Delhi'].rename_axis('date').reset_index()\n",
    "ef['date'] = ef['date'].astype('datetime64[ns]')\n",
    "ax4.bar(ef.date, ef.Delhi,color = '#007acc',alpha=0.5)\n",
    "ax4.set_xticks([])\n",
    "ax4.xaxis.set_major_locator(mdates.WeekdayLocator())\n",
    "ax4.xaxis.set_major_formatter(mdates.DateFormatter('%b %d'))\n",
    "ax4.set_xticks(ax4.get_xticks()[::3])\n",
    "ax4.spines['right'].set_visible(False)\n",
    "ax4.spines['top'].set_visible(False)\n",
    "\n",
    "ax4.text(0.05, 1,'Delhi', transform = ax4.transAxes, fontsize=20)\n",
    "\n",
    "for i in range(n):\n",
    "    \n",
    "    ax.append(fig.add_subplot(gs[i+2,:]))\n",
    "    ef = df.iloc[i+3].rename_axis('date').reset_index()\n",
    "    ef['date'] = ef['date'].astype('datetime64[ns]')\n",
    "    ax[i].bar(ef.date,ef.iloc[:,-1],color = '#007acc',alpha=0.3)\n",
    "    ax[i].plot(ef.date,ef.iloc[:,-1],marker='o',color='#007acc')\n",
    "    ax[i].text(0.02,0.5,f'{ef.columns.values[-1]}',transform = ax[i].transAxes, fontsize = 20);\n",
    "    ax[i].xaxis.set_major_locator(mdates.WeekdayLocator())\n",
    "    ax[i].xaxis.set_major_formatter(mdates.DateFormatter('%b %d'))\n",
    "    ax[i].set_ylim([0,7000])\n",
    "    ax[i].spines['right'].set_visible(False)\n",
    "    ax[i].spines['top'].set_visible(False)\n",
    "plt.tight_layout()\n"
   ]
  },
  {
   "cell_type": "code",
   "execution_count": 20,
   "id": "dress-forge",
   "metadata": {
    "execution": {
     "iopub.execute_input": "2021-04-14T13:09:00.773759Z",
     "iopub.status.busy": "2021-04-14T13:09:00.773066Z",
     "iopub.status.idle": "2021-04-14T13:09:00.775424Z",
     "shell.execute_reply": "2021-04-14T13:09:00.775927Z"
    },
    "papermill": {
     "duration": 0.041673,
     "end_time": "2021-04-14T13:09:00.776075",
     "exception": false,
     "start_time": "2021-04-14T13:09:00.734402",
     "status": "completed"
    },
    "tags": []
   },
   "outputs": [
    {
     "name": "stdout",
     "output_type": "stream",
     "text": [
      "                                   states    Cases  Deaths   PCases  PDeaths  Cases (+)  Deaths (+)  Fatality Rate\n",
      "                              Maharashtra  3519208   58526  3519208    58526          0           0           1.66\n",
      "                                   Kerala  1180398    4815  1180398     4815          0           0           0.41\n",
      "                                Karnataka  1083647   13008  1083647    13008          0           0           1.20\n",
      "                               Tamil Nadu   947129   12945   947129    12945          0           0           1.37\n",
      "                           Andhra Pradesh   937049    7339   932892     7321       4157          18           0.78\n",
      "                                    Delhi   750156   11436   750156    11436          0           0           1.52\n",
      "                            Uttar Pradesh   723582    9309   723582     9309          0           0           1.29\n",
      "                              West Bengal   624224   10434   624224    10434          0           0           1.67\n",
      "                             Chhattisgarh   471994    5187   471994     5187          0           0           1.10\n",
      "                                Rajasthan   375092    2979   375092     2979          0           0           0.79\n",
      "                                  Gujarat   360206    4922   360206     4922          0           0           1.37\n",
      "                                   Odisha   355353    1986   353086     1983       2267           3           0.56\n",
      "                           Madhya Pradesh   353632    4261   353632     4261          0           0           1.20\n",
      "                                Telangana   334738    1780   332581     1772       2157           8           0.53\n",
      "                                  Haryana   324544    3298   324544     3298          0           0           1.02\n",
      "                                    Bihar   290385    1630   290385     1630          0           0           0.56\n",
      "                                   Punjab   279203    7609   279203     7609          0           0           2.73\n",
      "                                    Assam   221483    1119   221483     1119          0           0           0.51\n",
      "                                Jharkhand   144594    1261   144594     1261          0           0           0.87\n",
      "                        Jammu and Kashmir   140650    2037   140650     2037          0           0           1.45\n",
      "                              Uttarakhand   112071    1780   112071     1780          0           0           1.59\n",
      "                         Himachal Pradesh    71394    1122    71394     1122          0           0           1.57\n",
      "                                      Goa    63342     853    63342      853          0           0           1.35\n",
      "                               Puducherry    45449     698    44973      696        476           2           1.54\n",
      "                                  Tripura    33841     391    33802      391         39           0           1.16\n",
      "                               Chandigarh    31564     401    31564      401          0           0           1.27\n",
      "                                  Manipur    29537     376    29537      376          0           0           1.27\n",
      "                        Arunachal Pradesh    16902      56    16902       56          0           0           0.33\n",
      "                                Meghalaya    14485     151    14387      151         98           0           1.04\n",
      "                                 Nagaland    12440      93    12427       93         13           0           0.75\n",
      "                                   Ladakh    11070     131    11070      131          0           0           1.18\n",
      "                                   Sikkim     6435     136     6435      136          0           0           2.11\n",
      "              Andaman and Nicobar Islands     5209      62     5209       62          0           0           1.19\n",
      "                                  Mizoram     4685      12     4655       12         30           0           0.26\n",
      " Dadra and Nagar Haveli and Daman and Diu     4223       2     4223        2          0           0           0.05\n",
      "                              Lakshadweep      834       1      834        1          0           0           0.12\n"
     ]
    }
   ],
   "source": [
    "#hide_input\n",
    "print(df_table.to_string(index=False))"
   ]
  },
  {
   "cell_type": "code",
   "execution_count": null,
   "id": "quantitative-legend",
   "metadata": {
    "papermill": {
     "duration": 0.026487,
     "end_time": "2021-04-14T13:09:00.829152",
     "exception": false,
     "start_time": "2021-04-14T13:09:00.802665",
     "status": "completed"
    },
    "tags": []
   },
   "outputs": [],
   "source": []
  },
  {
   "cell_type": "code",
   "execution_count": null,
   "id": "distant-acoustic",
   "metadata": {
    "papermill": {
     "duration": 0.026506,
     "end_time": "2021-04-14T13:09:00.882386",
     "exception": false,
     "start_time": "2021-04-14T13:09:00.855880",
     "status": "completed"
    },
    "tags": []
   },
   "outputs": [],
   "source": []
  }
 ],
 "metadata": {
  "kernelspec": {
   "display_name": "Python 3",
   "language": "python",
   "name": "python3"
  },
  "language_info": {
   "codemirror_mode": {
    "name": "ipython",
    "version": 3
   },
   "file_extension": ".py",
   "mimetype": "text/x-python",
   "name": "python",
   "nbconvert_exporter": "python",
   "pygments_lexer": "ipython3",
   "version": "3.6.13"
  },
  "papermill": {
   "duration": 23.181652,
   "end_time": "2021-04-14T13:09:01.618625",
   "environment_variables": {},
   "exception": null,
   "input_path": "latest.ipynb",
   "output_path": "latest.ipynb",
   "parameters": {},
   "start_time": "2021-04-14T13:08:38.436973",
   "version": "2.1.2"
  }
 },
 "nbformat": 4,
 "nbformat_minor": 5
}