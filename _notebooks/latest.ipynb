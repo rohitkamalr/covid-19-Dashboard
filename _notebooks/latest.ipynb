{
 "cells": [
  {
   "cell_type": "markdown",
   "metadata": {
    "papermill": {
     "duration": 0.022463,
     "end_time": "2020-10-27T13:42:46.855167",
     "exception": false,
     "start_time": "2020-10-27T13:42:46.832704",
     "status": "completed"
    },
    "tags": []
   },
   "source": [
    "# Latest COVID-19 India Matplotlib Overview"
   ]
  },
  {
   "cell_type": "code",
   "execution_count": 1,
   "metadata": {
    "execution": {
     "iopub.execute_input": "2020-10-27T13:42:47.680881Z",
     "iopub.status.busy": "2020-10-27T13:42:47.680281Z",
     "iopub.status.idle": "2020-10-27T13:42:48.270073Z",
     "shell.execute_reply": "2020-10-27T13:42:48.269536Z"
    },
    "papermill": {
     "duration": 0.617554,
     "end_time": "2020-10-27T13:42:48.270228",
     "exception": false,
     "start_time": "2020-10-27T13:42:47.652674",
     "status": "completed"
    },
    "tags": []
   },
   "outputs": [],
   "source": [
    "#hide\n",
    "import pandas as pd\n",
    "import numpy as np\n",
    "import requests\n",
    "import json\n",
    "import matplotlib.pyplot as plt\n",
    "import matplotlib.dates as mdates\n",
    "import matplotlib as mpl\n",
    "from IPython.core.display import display,HTML\n",
    "%matplotlib inline\n",
    "from datetime import date"
   ]
  },
  {
   "cell_type": "code",
   "execution_count": 2,
   "metadata": {
    "execution": {
     "iopub.execute_input": "2020-10-27T13:42:48.323219Z",
     "iopub.status.busy": "2020-10-27T13:42:48.322588Z",
     "iopub.status.idle": "2020-10-27T13:42:48.454358Z",
     "shell.execute_reply": "2020-10-27T13:42:48.453726Z"
    },
    "papermill": {
     "duration": 0.16648,
     "end_time": "2020-10-27T13:42:48.454509",
     "exception": false,
     "start_time": "2020-10-27T13:42:48.288029",
     "status": "completed"
    },
    "tags": []
   },
   "outputs": [],
   "source": [
    "#hide\n",
    "df  = pd.read_csv('https://api.covid19india.org/csv/latest/states.csv')\n",
    "df = df[['Date','State','Confirmed','Deceased']]\n",
    "df = df.rename(columns={'Confirmed':'Cases', \"Deceased\":'Deaths'})\n",
    "df_cases = df[[\"Date\",'State','Cases']]\n",
    "df_deaths = df[['Date','State','Deaths']]\n",
    "df_cases1 = df_cases.groupby('Date')\n",
    "df_deaths1= df_deaths.groupby('Date')"
   ]
  },
  {
   "cell_type": "code",
   "execution_count": 3,
   "metadata": {
    "execution": {
     "iopub.execute_input": "2020-10-27T13:42:48.491106Z",
     "iopub.status.busy": "2020-10-27T13:42:48.490520Z",
     "iopub.status.idle": "2020-10-27T13:42:48.508845Z",
     "shell.execute_reply": "2020-10-27T13:42:48.508372Z"
    },
    "papermill": {
     "duration": 0.037788,
     "end_time": "2020-10-27T13:42:48.508971",
     "exception": false,
     "start_time": "2020-10-27T13:42:48.471183",
     "status": "completed"
    },
    "tags": []
   },
   "outputs": [],
   "source": [
    "#hide\n",
    "df_snap = pd.read_csv('data/SnapshotCases-28-July.csv')\n",
    "arr_states = df_snap['states'].unique()\n",
    "arr_dates = df['Date'].unique()\n",
    "df_snap = df_snap.set_index('states')"
   ]
  },
  {
   "cell_type": "code",
   "execution_count": 4,
   "metadata": {
    "execution": {
     "iopub.execute_input": "2020-10-27T13:42:48.545902Z",
     "iopub.status.busy": "2020-10-27T13:42:48.545311Z",
     "iopub.status.idle": "2020-10-27T13:42:48.549904Z",
     "shell.execute_reply": "2020-10-27T13:42:48.549431Z"
    },
    "papermill": {
     "duration": 0.02614,
     "end_time": "2020-10-27T13:42:48.550032",
     "exception": false,
     "start_time": "2020-10-27T13:42:48.523892",
     "status": "completed"
    },
    "tags": []
   },
   "outputs": [
    {
     "data": {
      "text/plain": [
       "array(['Andaman and Nicobar Islands', 'Andhra Pradesh',\n",
       "       'Arunachal Pradesh', 'Assam', 'Bihar', 'Chandigarh',\n",
       "       'Dadra and Nagar Haveli and Daman and Diu', 'Delhi', 'Goa',\n",
       "       'Gujarat', 'Haryana', 'Himachal Pradesh', 'Jammu and Kashmir',\n",
       "       'Jharkhand', 'Karnataka', 'Kerala', 'Lakshadweep',\n",
       "       'Madhya Pradesh', 'Maharashtra', 'Manipur', 'Meghalaya', 'Mizoram',\n",
       "       'Nagaland', 'Odisha', 'Puducherry', 'Punjab', 'Rajasthan',\n",
       "       'Sikkim', 'Tamil Nadu', 'Telangana', 'Tripura', 'Uttar Pradesh',\n",
       "       'West Bengal', 'Chhattisgarh', 'Ladakh', 'Uttarakhand'],\n",
       "      dtype=object)"
      ]
     },
     "execution_count": 4,
     "metadata": {},
     "output_type": "execute_result"
    }
   ],
   "source": [
    "#hide\n",
    "arr_states[-9] = 'Puducherry'\n",
    "arr_states[-10] = 'Odisha'\n",
    "arr_states[6] = 'Dadra and Nagar Haveli and Daman and Diu'\n",
    "arr_states = np.append(arr_states,np.array(['Chhattisgarh','Ladakh','Uttarakhand']))\n",
    "arr_states"
   ]
  },
  {
   "cell_type": "code",
   "execution_count": 5,
   "metadata": {
    "execution": {
     "iopub.execute_input": "2020-10-27T13:42:48.592843Z",
     "iopub.status.busy": "2020-10-27T13:42:48.592237Z",
     "iopub.status.idle": "2020-10-27T13:42:48.600081Z",
     "shell.execute_reply": "2020-10-27T13:42:48.599547Z"
    },
    "papermill": {
     "duration": 0.034428,
     "end_time": "2020-10-27T13:42:48.600208",
     "exception": false,
     "start_time": "2020-10-27T13:42:48.565780",
     "status": "completed"
    },
    "tags": []
   },
   "outputs": [],
   "source": [
    "#hide\n",
    "dates = []\n",
    "for i in arr_dates:\n",
    "    if i>='2020-07-01':\n",
    "        dates.append(i)\n",
    "dict = {'states':dates}\n",
    "for i in arr_states:\n",
    "    dict[i] = [0]*len(dates)\n",
    "dft_cases = pd.DataFrame(dict)\n",
    "dft_deaths = pd.DataFrame(dict)\n"
   ]
  },
  {
   "cell_type": "code",
   "execution_count": 6,
   "metadata": {
    "execution": {
     "iopub.execute_input": "2020-10-27T13:42:48.636859Z",
     "iopub.status.busy": "2020-10-27T13:42:48.636268Z",
     "iopub.status.idle": "2020-10-27T13:42:50.282549Z",
     "shell.execute_reply": "2020-10-27T13:42:50.281764Z"
    },
    "papermill": {
     "duration": 1.667127,
     "end_time": "2020-10-27T13:42:50.282763",
     "exception": false,
     "start_time": "2020-10-27T13:42:48.615636",
     "status": "completed"
    },
    "tags": []
   },
   "outputs": [],
   "source": [
    "#hide\n",
    "for i in range(len(dates)):\n",
    "    df1_deaths = df_deaths1.get_group(dates[i])\n",
    "    for j in range(len(df1_deaths.index)):\n",
    "        if df1_deaths.iloc[j,1] in arr_states:\n",
    "            dft_deaths.loc[i,df1_deaths.iloc[j,1]] = df1_deaths.iloc[j,2]\n",
    "dft_deaths = dft_deaths.set_index('states')"
   ]
  },
  {
   "cell_type": "code",
   "execution_count": 7,
   "metadata": {
    "execution": {
     "iopub.execute_input": "2020-10-27T13:42:50.334697Z",
     "iopub.status.busy": "2020-10-27T13:42:50.334093Z",
     "iopub.status.idle": "2020-10-27T13:42:52.041016Z",
     "shell.execute_reply": "2020-10-27T13:42:52.040500Z"
    },
    "papermill": {
     "duration": 1.736591,
     "end_time": "2020-10-27T13:42:52.041152",
     "exception": false,
     "start_time": "2020-10-27T13:42:50.304561",
     "status": "completed"
    },
    "tags": []
   },
   "outputs": [],
   "source": [
    "#hide\n",
    "for i in range(len(dates)):\n",
    "    df1_cases = df_cases1.get_group(dates[i])\n",
    "    for j in range(len(df1_cases.index)):\n",
    "        if df1_cases.iloc[j,1] in arr_states:\n",
    "            dft_cases.loc[i,df1_cases.iloc[j,1]] = df1_cases.iloc[j,2]\n",
    "dft_cases = dft_cases.set_index('states')"
   ]
  },
  {
   "cell_type": "code",
   "execution_count": 8,
   "metadata": {
    "execution": {
     "iopub.execute_input": "2020-10-27T13:42:52.566507Z",
     "iopub.status.busy": "2020-10-27T13:42:52.565281Z",
     "iopub.status.idle": "2020-10-27T13:42:52.571260Z",
     "shell.execute_reply": "2020-10-27T13:42:52.572082Z"
    },
    "papermill": {
     "duration": 0.352856,
     "end_time": "2020-10-27T13:42:52.572244",
     "exception": false,
     "start_time": "2020-10-27T13:42:52.219388",
     "status": "completed"
    },
    "tags": []
   },
   "outputs": [],
   "source": [
    "#hide\n",
    "dft_cases = dft_cases.T\n",
    "dft_deaths = dft_deaths.T\n",
    "dt_today = dates[-1]\n",
    "dt_yday = dates[-2]"
   ]
  },
  {
   "cell_type": "code",
   "execution_count": 9,
   "metadata": {
    "execution": {
     "iopub.execute_input": "2020-10-27T13:42:52.946921Z",
     "iopub.status.busy": "2020-10-27T13:42:52.946333Z",
     "iopub.status.idle": "2020-10-27T13:42:52.948907Z",
     "shell.execute_reply": "2020-10-27T13:42:52.948407Z"
    },
    "papermill": {
     "duration": 0.028155,
     "end_time": "2020-10-27T13:42:52.949031",
     "exception": false,
     "start_time": "2020-10-27T13:42:52.920876",
     "status": "completed"
    },
    "tags": []
   },
   "outputs": [],
   "source": [
    "#hide\n",
    "dft_cases = dft_cases.reset_index()\n",
    "dft_deaths = dft_deaths.reset_index()\n",
    "dft_cases = dft_cases.rename(columns = {'index':'state'})\n",
    "dft_deaths = dft_deaths.rename(columns = {'index':'state'})"
   ]
  },
  {
   "cell_type": "code",
   "execution_count": 10,
   "metadata": {
    "execution": {
     "iopub.execute_input": "2020-10-27T13:42:52.990766Z",
     "iopub.status.busy": "2020-10-27T13:42:52.990180Z",
     "iopub.status.idle": "2020-10-27T13:42:52.992768Z",
     "shell.execute_reply": "2020-10-27T13:42:52.992261Z"
    },
    "papermill": {
     "duration": 0.028576,
     "end_time": "2020-10-27T13:42:52.992894",
     "exception": false,
     "start_time": "2020-10-27T13:42:52.964318",
     "status": "completed"
    },
    "tags": []
   },
   "outputs": [],
   "source": [
    "#hide\n",
    "dfc_cases = dft_cases.groupby('state')[dt_today].sum()\n",
    "dfc_deaths = dft_deaths.groupby('state')[dt_today].sum()\n",
    "dfp_cases = dft_cases.groupby('state')[dt_yday].sum()\n",
    "dfp_deaths = dft_deaths.groupby('state')[dt_yday].sum()"
   ]
  },
  {
   "cell_type": "code",
   "execution_count": 11,
   "metadata": {
    "execution": {
     "iopub.execute_input": "2020-10-27T13:42:53.041350Z",
     "iopub.status.busy": "2020-10-27T13:42:53.037224Z",
     "iopub.status.idle": "2020-10-27T13:42:53.044712Z",
     "shell.execute_reply": "2020-10-27T13:42:53.045183Z"
    },
    "papermill": {
     "duration": 0.037061,
     "end_time": "2020-10-27T13:42:53.045325",
     "exception": false,
     "start_time": "2020-10-27T13:42:53.008264",
     "status": "completed"
    },
    "tags": []
   },
   "outputs": [
    {
     "data": {
      "text/html": [
       "<div>\n",
       "<style scoped>\n",
       "    .dataframe tbody tr th:only-of-type {\n",
       "        vertical-align: middle;\n",
       "    }\n",
       "\n",
       "    .dataframe tbody tr th {\n",
       "        vertical-align: top;\n",
       "    }\n",
       "\n",
       "    .dataframe thead th {\n",
       "        text-align: right;\n",
       "    }\n",
       "</style>\n",
       "<table border=\"1\" class=\"dataframe\">\n",
       "  <thead>\n",
       "    <tr style=\"text-align: right;\">\n",
       "      <th></th>\n",
       "      <th>states</th>\n",
       "      <th>Cases</th>\n",
       "      <th>Deaths</th>\n",
       "      <th>PCases</th>\n",
       "      <th>PDeaths</th>\n",
       "    </tr>\n",
       "  </thead>\n",
       "  <tbody>\n",
       "    <tr>\n",
       "      <th>0</th>\n",
       "      <td>Maharashtra</td>\n",
       "      <td>1648665</td>\n",
       "      <td>43348</td>\n",
       "      <td>1648665</td>\n",
       "      <td>43348</td>\n",
       "    </tr>\n",
       "    <tr>\n",
       "      <th>1</th>\n",
       "      <td>Andhra Pradesh</td>\n",
       "      <td>808924</td>\n",
       "      <td>6606</td>\n",
       "      <td>808924</td>\n",
       "      <td>6606</td>\n",
       "    </tr>\n",
       "    <tr>\n",
       "      <th>2</th>\n",
       "      <td>Karnataka</td>\n",
       "      <td>805947</td>\n",
       "      <td>10947</td>\n",
       "      <td>805947</td>\n",
       "      <td>10947</td>\n",
       "    </tr>\n",
       "    <tr>\n",
       "      <th>3</th>\n",
       "      <td>Tamil Nadu</td>\n",
       "      <td>711713</td>\n",
       "      <td>10956</td>\n",
       "      <td>711713</td>\n",
       "      <td>10956</td>\n",
       "    </tr>\n",
       "    <tr>\n",
       "      <th>4</th>\n",
       "      <td>Uttar Pradesh</td>\n",
       "      <td>472068</td>\n",
       "      <td>6902</td>\n",
       "      <td>472068</td>\n",
       "      <td>6902</td>\n",
       "    </tr>\n",
       "  </tbody>\n",
       "</table>\n",
       "</div>"
      ],
      "text/plain": [
       "           states    Cases  Deaths   PCases  PDeaths\n",
       "0     Maharashtra  1648665   43348  1648665    43348\n",
       "1  Andhra Pradesh   808924    6606   808924     6606\n",
       "2       Karnataka   805947   10947   805947    10947\n",
       "3      Tamil Nadu   711713   10956   711713    10956\n",
       "4   Uttar Pradesh   472068    6902   472068     6902"
      ]
     },
     "execution_count": 11,
     "metadata": {},
     "output_type": "execute_result"
    }
   ],
   "source": [
    "#hide\n",
    "df_table = pd.DataFrame({'states': dfc_cases.index, 'Cases': dfc_cases.values, 'Deaths': dfc_deaths.values, 'PCases': dfp_cases.values, 'PDeaths': dfp_deaths.values}).set_index('states')\n",
    "df_table = df_table.sort_values(by = ['Cases','Deaths'], ascending = [False, False])\n",
    "df_table = df_table.reset_index()\n",
    "df_table.head()"
   ]
  },
  {
   "cell_type": "code",
   "execution_count": 12,
   "metadata": {
    "execution": {
     "iopub.execute_input": "2020-10-27T13:42:53.082418Z",
     "iopub.status.busy": "2020-10-27T13:42:53.081843Z",
     "iopub.status.idle": "2020-10-27T13:42:53.090684Z",
     "shell.execute_reply": "2020-10-27T13:42:53.090188Z"
    },
    "papermill": {
     "duration": 0.029586,
     "end_time": "2020-10-27T13:42:53.090803",
     "exception": false,
     "start_time": "2020-10-27T13:42:53.061217",
     "status": "completed"
    },
    "tags": []
   },
   "outputs": [],
   "source": [
    "#hide\n",
    "for c in 'Cases, Deaths'.split(', '):\n",
    "    df_table[f'{c} (+)'] = (df_table[c] - df_table[f'P{c}']).clip(0)\n",
    "df_table['Fatality Rate'] = (100* df_table['Deaths']/ df_table['Cases']).round(2)"
   ]
  },
  {
   "cell_type": "code",
   "execution_count": 13,
   "metadata": {
    "execution": {
     "iopub.execute_input": "2020-10-27T13:42:53.132320Z",
     "iopub.status.busy": "2020-10-27T13:42:53.131722Z",
     "iopub.status.idle": "2020-10-27T13:42:53.134937Z",
     "shell.execute_reply": "2020-10-27T13:42:53.135488Z"
    },
    "papermill": {
     "duration": 0.029221,
     "end_time": "2020-10-27T13:42:53.135624",
     "exception": false,
     "start_time": "2020-10-27T13:42:53.106403",
     "status": "completed"
    },
    "tags": []
   },
   "outputs": [
    {
     "data": {
      "text/html": [
       "<div>\n",
       "<style scoped>\n",
       "    .dataframe tbody tr th:only-of-type {\n",
       "        vertical-align: middle;\n",
       "    }\n",
       "\n",
       "    .dataframe tbody tr th {\n",
       "        vertical-align: top;\n",
       "    }\n",
       "\n",
       "    .dataframe thead th {\n",
       "        text-align: right;\n",
       "    }\n",
       "</style>\n",
       "<table border=\"1\" class=\"dataframe\">\n",
       "  <thead>\n",
       "    <tr style=\"text-align: right;\">\n",
       "      <th></th>\n",
       "      <th>states</th>\n",
       "      <th>Cases</th>\n",
       "      <th>Deaths</th>\n",
       "      <th>PCases</th>\n",
       "      <th>PDeaths</th>\n",
       "      <th>Cases (+)</th>\n",
       "      <th>Deaths (+)</th>\n",
       "      <th>Fatality Rate</th>\n",
       "    </tr>\n",
       "  </thead>\n",
       "  <tbody>\n",
       "    <tr>\n",
       "      <th>0</th>\n",
       "      <td>Maharashtra</td>\n",
       "      <td>1648665</td>\n",
       "      <td>43348</td>\n",
       "      <td>1648665</td>\n",
       "      <td>43348</td>\n",
       "      <td>0</td>\n",
       "      <td>0</td>\n",
       "      <td>2.63</td>\n",
       "    </tr>\n",
       "    <tr>\n",
       "      <th>1</th>\n",
       "      <td>Andhra Pradesh</td>\n",
       "      <td>808924</td>\n",
       "      <td>6606</td>\n",
       "      <td>808924</td>\n",
       "      <td>6606</td>\n",
       "      <td>0</td>\n",
       "      <td>0</td>\n",
       "      <td>0.82</td>\n",
       "    </tr>\n",
       "    <tr>\n",
       "      <th>2</th>\n",
       "      <td>Karnataka</td>\n",
       "      <td>805947</td>\n",
       "      <td>10947</td>\n",
       "      <td>805947</td>\n",
       "      <td>10947</td>\n",
       "      <td>0</td>\n",
       "      <td>0</td>\n",
       "      <td>1.36</td>\n",
       "    </tr>\n",
       "    <tr>\n",
       "      <th>3</th>\n",
       "      <td>Tamil Nadu</td>\n",
       "      <td>711713</td>\n",
       "      <td>10956</td>\n",
       "      <td>711713</td>\n",
       "      <td>10956</td>\n",
       "      <td>0</td>\n",
       "      <td>0</td>\n",
       "      <td>1.54</td>\n",
       "    </tr>\n",
       "    <tr>\n",
       "      <th>4</th>\n",
       "      <td>Uttar Pradesh</td>\n",
       "      <td>472068</td>\n",
       "      <td>6902</td>\n",
       "      <td>472068</td>\n",
       "      <td>6902</td>\n",
       "      <td>0</td>\n",
       "      <td>0</td>\n",
       "      <td>1.46</td>\n",
       "    </tr>\n",
       "  </tbody>\n",
       "</table>\n",
       "</div>"
      ],
      "text/plain": [
       "           states    Cases  Deaths   PCases  PDeaths  Cases (+)  Deaths (+)  \\\n",
       "0     Maharashtra  1648665   43348  1648665    43348          0           0   \n",
       "1  Andhra Pradesh   808924    6606   808924     6606          0           0   \n",
       "2       Karnataka   805947   10947   805947    10947          0           0   \n",
       "3      Tamil Nadu   711713   10956   711713    10956          0           0   \n",
       "4   Uttar Pradesh   472068    6902   472068     6902          0           0   \n",
       "\n",
       "   Fatality Rate  \n",
       "0           2.63  \n",
       "1           0.82  \n",
       "2           1.36  \n",
       "3           1.54  \n",
       "4           1.46  "
      ]
     },
     "execution_count": 13,
     "metadata": {},
     "output_type": "execute_result"
    }
   ],
   "source": [
    "#hide\n",
    "df_table.head()"
   ]
  },
  {
   "cell_type": "code",
   "execution_count": 14,
   "metadata": {
    "execution": {
     "iopub.execute_input": "2020-10-27T13:42:53.186672Z",
     "iopub.status.busy": "2020-10-27T13:42:53.186049Z",
     "iopub.status.idle": "2020-10-27T13:42:53.189992Z",
     "shell.execute_reply": "2020-10-27T13:42:53.190460Z"
    },
    "papermill": {
     "duration": 0.039007,
     "end_time": "2020-10-27T13:42:53.190594",
     "exception": false,
     "start_time": "2020-10-27T13:42:53.151587",
     "status": "completed"
    },
    "tags": []
   },
   "outputs": [
    {
     "data": {
      "text/plain": [
       "{'updated': '2020-10-27',\n",
       " 'since': '2020-10-26',\n",
       " 'Cases': 7949018,\n",
       " 'PCases': 7945975,\n",
       " 'Deaths': 119565,\n",
       " 'PDeaths': 119538,\n",
       " 'Cases (+)': 3043,\n",
       " 'Deaths (+)': 27}"
      ]
     },
     "execution_count": 14,
     "metadata": {},
     "output_type": "execute_result"
    }
   ],
   "source": [
    "#hide\n",
    "summary = {'updated':dates[-1], 'since':dates[-2]}\n",
    "list_names = ['Cases', 'PCases', 'Deaths', 'PDeaths', 'Cases (+)', 'Deaths (+)']\n",
    "for name in list_names:\n",
    "    summary[name] = df_table.sum()[name]\n",
    "summary"
   ]
  },
  {
   "cell_type": "code",
   "execution_count": 15,
   "metadata": {
    "execution": {
     "iopub.execute_input": "2020-10-27T13:42:53.229890Z",
     "iopub.status.busy": "2020-10-27T13:42:53.228882Z",
     "iopub.status.idle": "2020-10-27T13:42:53.230608Z",
     "shell.execute_reply": "2020-10-27T13:42:53.231060Z"
    },
    "papermill": {
     "duration": 0.024082,
     "end_time": "2020-10-27T13:42:53.231185",
     "exception": false,
     "start_time": "2020-10-27T13:42:53.207103",
     "status": "completed"
    },
    "tags": []
   },
   "outputs": [],
   "source": [
    "#hide\n",
    "overview = '''\n",
    "<!-- #######  HTML!! #########-->\n",
    "<h1 style=\"color: #5e9ca0; text-align: center;\">India</h1>\n",
    "<p style=\"text-align: center;\">Last update: <strong>{update}</strong></p>\n",
    "<p style=\"text-align: center;\">Confirmed cases:</p>\n",
    "<p style=\"text-align: center;font-size:24px;\">{cases} (<span style=\"color: #ff0000;\">+{new}</span>)</p>\n",
    "<p style=\"text-align: center;\">Confirmed deaths:</p>\n",
    "<p style=\"text-align: center;font-size:24px;\">{deaths} (<span style=\"color: #ff0000;\">+{dnew}</span>)</p>\n",
    "'''"
   ]
  },
  {
   "cell_type": "code",
   "execution_count": 16,
   "metadata": {
    "execution": {
     "iopub.execute_input": "2020-10-27T13:42:53.271217Z",
     "iopub.status.busy": "2020-10-27T13:42:53.270653Z",
     "iopub.status.idle": "2020-10-27T13:42:53.274069Z",
     "shell.execute_reply": "2020-10-27T13:42:53.273583Z"
    },
    "papermill": {
     "duration": 0.026809,
     "end_time": "2020-10-27T13:42:53.274179",
     "exception": false,
     "start_time": "2020-10-27T13:42:53.247370",
     "status": "completed"
    },
    "tags": []
   },
   "outputs": [
    {
     "data": {
      "text/html": [
       "\n",
       "<!-- #######  HTML!! #########-->\n",
       "<h1 style=\"color: #5e9ca0; text-align: center;\">India</h1>\n",
       "<p style=\"text-align: center;\">Last update: <strong>2020-10-27</strong></p>\n",
       "<p style=\"text-align: center;\">Confirmed cases:</p>\n",
       "<p style=\"text-align: center;font-size:24px;\">7949018 (<span style=\"color: #ff0000;\">+3043</span>)</p>\n",
       "<p style=\"text-align: center;\">Confirmed deaths:</p>\n",
       "<p style=\"text-align: center;font-size:24px;\">119565 (<span style=\"color: #ff0000;\">+27</span>)</p>\n"
      ],
      "text/plain": [
       "<IPython.core.display.HTML object>"
      ]
     },
     "metadata": {},
     "output_type": "display_data"
    }
   ],
   "source": [
    "#hide_input\n",
    "update = summary['updated']\n",
    "cases = summary['Cases']\n",
    "new = summary['Cases (+)']\n",
    "deaths = summary['Deaths']\n",
    "dnew = summary['Deaths (+)']\n",
    "\n",
    "html = HTML(overview.format(update=update, cases=cases,new=new,deaths=deaths,dnew=dnew))\n",
    "\n",
    "display(html)"
   ]
  },
  {
   "cell_type": "code",
   "execution_count": 17,
   "metadata": {
    "execution": {
     "iopub.execute_input": "2020-10-27T13:42:53.315297Z",
     "iopub.status.busy": "2020-10-27T13:42:53.314726Z",
     "iopub.status.idle": "2020-10-27T13:42:53.319328Z",
     "shell.execute_reply": "2020-10-27T13:42:53.319782Z"
    },
    "papermill": {
     "duration": 0.029149,
     "end_time": "2020-10-27T13:42:53.319917",
     "exception": false,
     "start_time": "2020-10-27T13:42:53.290768",
     "status": "completed"
    },
    "tags": []
   },
   "outputs": [],
   "source": [
    "#hide\n",
    "dt_cols = list(dft_cases.columns[1:])\n",
    "dft_ct_new_cases = dft_cases.groupby('state')[dt_cols].sum().diff(axis=1).fillna(0).astype(int)\n",
    "dft_ct_new_cases.sort_values(by = dates[-1], ascending = False,inplace = True)"
   ]
  },
  {
   "cell_type": "code",
   "execution_count": 18,
   "metadata": {
    "execution": {
     "iopub.execute_input": "2020-10-27T13:42:53.364676Z",
     "iopub.status.busy": "2020-10-27T13:42:53.364102Z",
     "iopub.status.idle": "2020-10-27T13:42:53.374368Z",
     "shell.execute_reply": "2020-10-27T13:42:53.373877Z"
    },
    "papermill": {
     "duration": 0.03776,
     "end_time": "2020-10-27T13:42:53.374479",
     "exception": false,
     "start_time": "2020-10-27T13:42:53.336719",
     "status": "completed"
    },
    "tags": []
   },
   "outputs": [
    {
     "data": {
      "text/html": [
       "<div>\n",
       "<style scoped>\n",
       "    .dataframe tbody tr th:only-of-type {\n",
       "        vertical-align: middle;\n",
       "    }\n",
       "\n",
       "    .dataframe tbody tr th {\n",
       "        vertical-align: top;\n",
       "    }\n",
       "\n",
       "    .dataframe thead th {\n",
       "        text-align: right;\n",
       "    }\n",
       "</style>\n",
       "<table border=\"1\" class=\"dataframe\">\n",
       "  <thead>\n",
       "    <tr style=\"text-align: right;\">\n",
       "      <th>states</th>\n",
       "      <th>2020-07-01</th>\n",
       "      <th>2020-07-02</th>\n",
       "      <th>2020-07-03</th>\n",
       "      <th>2020-07-04</th>\n",
       "      <th>2020-07-05</th>\n",
       "      <th>2020-07-06</th>\n",
       "      <th>2020-07-07</th>\n",
       "      <th>2020-07-08</th>\n",
       "      <th>2020-07-09</th>\n",
       "      <th>2020-07-10</th>\n",
       "      <th>...</th>\n",
       "      <th>2020-10-18</th>\n",
       "      <th>2020-10-19</th>\n",
       "      <th>2020-10-20</th>\n",
       "      <th>2020-10-21</th>\n",
       "      <th>2020-10-22</th>\n",
       "      <th>2020-10-23</th>\n",
       "      <th>2020-10-24</th>\n",
       "      <th>2020-10-25</th>\n",
       "      <th>2020-10-26</th>\n",
       "      <th>2020-10-27</th>\n",
       "    </tr>\n",
       "    <tr>\n",
       "      <th>state</th>\n",
       "      <th></th>\n",
       "      <th></th>\n",
       "      <th></th>\n",
       "      <th></th>\n",
       "      <th></th>\n",
       "      <th></th>\n",
       "      <th></th>\n",
       "      <th></th>\n",
       "      <th></th>\n",
       "      <th></th>\n",
       "      <th></th>\n",
       "      <th></th>\n",
       "      <th></th>\n",
       "      <th></th>\n",
       "      <th></th>\n",
       "      <th></th>\n",
       "      <th></th>\n",
       "      <th></th>\n",
       "      <th></th>\n",
       "      <th></th>\n",
       "      <th></th>\n",
       "    </tr>\n",
       "  </thead>\n",
       "  <tbody>\n",
       "    <tr>\n",
       "      <th>Rajasthan</th>\n",
       "      <td>0</td>\n",
       "      <td>350</td>\n",
       "      <td>390</td>\n",
       "      <td>480</td>\n",
       "      <td>632</td>\n",
       "      <td>524</td>\n",
       "      <td>716</td>\n",
       "      <td>659</td>\n",
       "      <td>500</td>\n",
       "      <td>611</td>\n",
       "      <td>...</td>\n",
       "      <td>1985</td>\n",
       "      <td>1960</td>\n",
       "      <td>1897</td>\n",
       "      <td>1810</td>\n",
       "      <td>1822</td>\n",
       "      <td>1815</td>\n",
       "      <td>1852</td>\n",
       "      <td>1821</td>\n",
       "      <td>1805</td>\n",
       "      <td>1796</td>\n",
       "    </tr>\n",
       "    <tr>\n",
       "      <th>Odisha</th>\n",
       "      <td>0</td>\n",
       "      <td>229</td>\n",
       "      <td>561</td>\n",
       "      <td>495</td>\n",
       "      <td>469</td>\n",
       "      <td>456</td>\n",
       "      <td>571</td>\n",
       "      <td>527</td>\n",
       "      <td>577</td>\n",
       "      <td>755</td>\n",
       "      <td>...</td>\n",
       "      <td>2019</td>\n",
       "      <td>1982</td>\n",
       "      <td>1904</td>\n",
       "      <td>1931</td>\n",
       "      <td>1913</td>\n",
       "      <td>1793</td>\n",
       "      <td>1695</td>\n",
       "      <td>1633</td>\n",
       "      <td>1480</td>\n",
       "      <td>1247</td>\n",
       "    </tr>\n",
       "    <tr>\n",
       "      <th>Andaman and Nicobar Islands</th>\n",
       "      <td>0</td>\n",
       "      <td>9</td>\n",
       "      <td>7</td>\n",
       "      <td>3</td>\n",
       "      <td>6</td>\n",
       "      <td>16</td>\n",
       "      <td>6</td>\n",
       "      <td>2</td>\n",
       "      <td>7</td>\n",
       "      <td>0</td>\n",
       "      <td>...</td>\n",
       "      <td>25</td>\n",
       "      <td>18</td>\n",
       "      <td>15</td>\n",
       "      <td>27</td>\n",
       "      <td>16</td>\n",
       "      <td>23</td>\n",
       "      <td>18</td>\n",
       "      <td>20</td>\n",
       "      <td>8</td>\n",
       "      <td>0</td>\n",
       "    </tr>\n",
       "    <tr>\n",
       "      <th>Puducherry</th>\n",
       "      <td>0</td>\n",
       "      <td>63</td>\n",
       "      <td>22</td>\n",
       "      <td>80</td>\n",
       "      <td>42</td>\n",
       "      <td>65</td>\n",
       "      <td>30</td>\n",
       "      <td>110</td>\n",
       "      <td>49</td>\n",
       "      <td>72</td>\n",
       "      <td>...</td>\n",
       "      <td>163</td>\n",
       "      <td>106</td>\n",
       "      <td>205</td>\n",
       "      <td>170</td>\n",
       "      <td>210</td>\n",
       "      <td>154</td>\n",
       "      <td>126</td>\n",
       "      <td>81</td>\n",
       "      <td>143</td>\n",
       "      <td>0</td>\n",
       "    </tr>\n",
       "    <tr>\n",
       "      <th>Maharashtra</th>\n",
       "      <td>0</td>\n",
       "      <td>6328</td>\n",
       "      <td>6364</td>\n",
       "      <td>7074</td>\n",
       "      <td>6555</td>\n",
       "      <td>5368</td>\n",
       "      <td>5134</td>\n",
       "      <td>6603</td>\n",
       "      <td>6875</td>\n",
       "      <td>7862</td>\n",
       "      <td>...</td>\n",
       "      <td>9060</td>\n",
       "      <td>5984</td>\n",
       "      <td>8151</td>\n",
       "      <td>8142</td>\n",
       "      <td>7539</td>\n",
       "      <td>7347</td>\n",
       "      <td>6417</td>\n",
       "      <td>6059</td>\n",
       "      <td>3645</td>\n",
       "      <td>0</td>\n",
       "    </tr>\n",
       "  </tbody>\n",
       "</table>\n",
       "<p>5 rows × 119 columns</p>\n",
       "</div>"
      ],
      "text/plain": [
       "states                       2020-07-01  2020-07-02  2020-07-03  2020-07-04  \\\n",
       "state                                                                         \n",
       "Rajasthan                             0         350         390         480   \n",
       "Odisha                                0         229         561         495   \n",
       "Andaman and Nicobar Islands           0           9           7           3   \n",
       "Puducherry                            0          63          22          80   \n",
       "Maharashtra                           0        6328        6364        7074   \n",
       "\n",
       "states                       2020-07-05  2020-07-06  2020-07-07  2020-07-08  \\\n",
       "state                                                                         \n",
       "Rajasthan                           632         524         716         659   \n",
       "Odisha                              469         456         571         527   \n",
       "Andaman and Nicobar Islands           6          16           6           2   \n",
       "Puducherry                           42          65          30         110   \n",
       "Maharashtra                        6555        5368        5134        6603   \n",
       "\n",
       "states                       2020-07-09  2020-07-10  ...  2020-10-18  \\\n",
       "state                                                ...               \n",
       "Rajasthan                           500         611  ...        1985   \n",
       "Odisha                              577         755  ...        2019   \n",
       "Andaman and Nicobar Islands           7           0  ...          25   \n",
       "Puducherry                           49          72  ...         163   \n",
       "Maharashtra                        6875        7862  ...        9060   \n",
       "\n",
       "states                       2020-10-19  2020-10-20  2020-10-21  2020-10-22  \\\n",
       "state                                                                         \n",
       "Rajasthan                          1960        1897        1810        1822   \n",
       "Odisha                             1982        1904        1931        1913   \n",
       "Andaman and Nicobar Islands          18          15          27          16   \n",
       "Puducherry                          106         205         170         210   \n",
       "Maharashtra                        5984        8151        8142        7539   \n",
       "\n",
       "states                       2020-10-23  2020-10-24  2020-10-25  2020-10-26  \\\n",
       "state                                                                         \n",
       "Rajasthan                          1815        1852        1821        1805   \n",
       "Odisha                             1793        1695        1633        1480   \n",
       "Andaman and Nicobar Islands          23          18          20           8   \n",
       "Puducherry                          154         126          81         143   \n",
       "Maharashtra                        7347        6417        6059        3645   \n",
       "\n",
       "states                       2020-10-27  \n",
       "state                                    \n",
       "Rajasthan                          1796  \n",
       "Odisha                             1247  \n",
       "Andaman and Nicobar Islands           0  \n",
       "Puducherry                            0  \n",
       "Maharashtra                           0  \n",
       "\n",
       "[5 rows x 119 columns]"
      ]
     },
     "execution_count": 18,
     "metadata": {},
     "output_type": "execute_result"
    }
   ],
   "source": [
    "#hide\n",
    "dft_ct_new_cases.head()"
   ]
  },
  {
   "cell_type": "code",
   "execution_count": 19,
   "metadata": {
    "execution": {
     "iopub.execute_input": "2020-10-27T13:42:53.432682Z",
     "iopub.status.busy": "2020-10-27T13:42:53.416873Z",
     "iopub.status.idle": "2020-10-27T13:42:57.728940Z",
     "shell.execute_reply": "2020-10-27T13:42:57.729777Z"
    },
    "papermill": {
     "duration": 4.338033,
     "end_time": "2020-10-27T13:42:57.729989",
     "exception": false,
     "start_time": "2020-10-27T13:42:53.391956",
     "status": "completed"
    },
    "tags": []
   },
   "outputs": [
    {
     "data": {
      "image/png": "[encoded data removed]",
      "text/plain": [
       "<Figure size 1296x2016 with 11 Axes>"
      ]
     },
     "metadata": {
      "needs_background": "light"
     },
     "output_type": "display_data"
    }
   ],
   "source": [
    "#hide_input\n",
    "df = dft_ct_new_cases.copy()\n",
    "df.loc['Total'] = df.sum()\n",
    "n = 5\n",
    "ax = []\n",
    "fig = plt.figure(figsize = (18,28))\n",
    "gs = fig.add_gridspec(n+2, 5)\n",
    "# gs = fig.add_gridspec(2, 3)\n",
    "ax1 = fig.add_subplot(gs[0, :])\n",
    "ef = df.loc['Total'].rename_axis('date').reset_index()\n",
    "ef['date'] = ef['date'].astype('datetime64[ns]')\n",
    "ax1.bar(ef.date,ef.Total,alpha=0.3,color='#007acc')\n",
    "ax1.plot(ef.date,ef.Total , marker=\"o\", color='#007acc')\n",
    "ax1.xaxis.set_major_locator(mdates.WeekdayLocator())\n",
    "ax1.xaxis.set_major_formatter(mdates.DateFormatter('%b %d'))\n",
    "ax1.text(0.02, 0.5,'India daily case count', transform = ax1.transAxes, fontsize=25);\n",
    "ax1.spines['right'].set_visible(False)\n",
    "ax1.spines['top'].set_visible(False)\n",
    "\n",
    "ax2 = fig.add_subplot(gs[1,0])\n",
    "ef = df.loc['Maharashtra'].rename_axis('date').reset_index()\n",
    "ef['date'] = ef['date'].astype('datetime64[ns]')\n",
    "\n",
    "ax2.bar(ef.date, ef.Maharashtra,color = '#007acc',alpha=0.5)\n",
    "ax2.xaxis.set_major_locator(mdates.WeekdayLocator())\n",
    "ax2.xaxis.set_major_formatter(mdates.DateFormatter('%b %d'))\n",
    "ax2.set_xticks(ax2.get_xticks()[::3])\n",
    "maxyval = ef.Maharashtra.max()\n",
    "ax2.set_ylim([0,maxyval])\n",
    "ax2.text(0.05, 0.9,'Maharashtra', transform = ax2.transAxes, fontsize=20);\n",
    "ax2.spines['right'].set_visible(False)\n",
    "ax2.spines['top'].set_visible(False)\n",
    "\n",
    "\n",
    "ax3 = fig.add_subplot(gs[1,1])\n",
    "ef = df.loc['Tamil Nadu'].rename_axis('date').reset_index()\n",
    "ef['date'] = ef['date'].astype('datetime64[ns]')\n",
    "ax3.bar(ef.date, ef['Tamil Nadu'],color = '#007acc',alpha=0.5,)\n",
    "ax3.xaxis.set_major_locator(mdates.WeekdayLocator())\n",
    "ax3.xaxis.set_major_formatter(mdates.DateFormatter('%b %d'))\n",
    "ax3.set_xticks(ax3.get_xticks()[::3])\n",
    "ax3.text(0.05, 0.9,'Tamil Nadu', transform = ax3.transAxes, fontsize=20);\n",
    "ax3.spines['right'].set_visible(False)\n",
    "ax3.spines['top'].set_visible(False)\n",
    "\n",
    "ax5 = fig.add_subplot(gs[1,3])\n",
    "ef = df.loc['Telangana'].rename_axis('date').reset_index()\n",
    "ef['date'] = ef['date'].astype('datetime64[ns]')\n",
    "ax5.bar(ef.date, ef['Telangana'],color = '#007acc',alpha=0.5,)\n",
    "ax5.xaxis.set_major_locator(mdates.WeekdayLocator())\n",
    "ax5.xaxis.set_major_formatter(mdates.DateFormatter('%b %d'))\n",
    "ax5.set_xticks(ax5.get_xticks()[::3])\n",
    "ax5.text(0.05, 0.9,'Telangana', transform = ax5.transAxes, fontsize=20);\n",
    "ax5.spines['right'].set_visible(False)\n",
    "ax5.spines['top'].set_visible(False)\n",
    "\n",
    "ax6 = fig.add_subplot(gs[1,4])\n",
    "ef = df.loc['Andhra Pradesh'].rename_axis('date').reset_index()\n",
    "ef['date'] = ef['date'].astype('datetime64[ns]')\n",
    "ax6.bar(ef.date, ef['Andhra Pradesh'],color = '#007acc',alpha=0.5,)\n",
    "ax6.xaxis.set_major_locator(mdates.WeekdayLocator())\n",
    "ax6.xaxis.set_major_formatter(mdates.DateFormatter('%b %d'))\n",
    "ax6.set_xticks(ax6.get_xticks()[::3])\n",
    "ax6.text(0.05, 1,'Andhra Pradesh', transform = ax6.transAxes, fontsize=20);\n",
    "ax6.spines['right'].set_visible(False)\n",
    "ax6.spines['top'].set_visible(False)\n",
    "\n",
    "ax4 = fig.add_subplot(gs[1,2])\n",
    "ef = df.loc['Delhi'].rename_axis('date').reset_index()\n",
    "ef['date'] = ef['date'].astype('datetime64[ns]')\n",
    "ax4.bar(ef.date, ef.Delhi,color = '#007acc',alpha=0.5)\n",
    "ax4.set_xticks([])\n",
    "ax4.xaxis.set_major_locator(mdates.WeekdayLocator())\n",
    "ax4.xaxis.set_major_formatter(mdates.DateFormatter('%b %d'))\n",
    "ax4.set_xticks(ax4.get_xticks()[::3])\n",
    "ax4.spines['right'].set_visible(False)\n",
    "ax4.spines['top'].set_visible(False)\n",
    "\n",
    "ax4.text(0.05, 1,'Delhi', transform = ax4.transAxes, fontsize=20)\n",
    "\n",
    "for i in range(n):\n",
    "    \n",
    "    ax.append(fig.add_subplot(gs[i+2,:]))\n",
    "    ef = df.iloc[i+3].rename_axis('date').reset_index()\n",
    "    ef['date'] = ef['date'].astype('datetime64[ns]')\n",
    "    ax[i].bar(ef.date,ef.iloc[:,-1],color = '#007acc',alpha=0.3)\n",
    "    ax[i].plot(ef.date,ef.iloc[:,-1],marker='o',color='#007acc')\n",
    "    ax[i].text(0.02,0.5,f'{ef.columns.values[-1]}',transform = ax[i].transAxes, fontsize = 20);\n",
    "    ax[i].xaxis.set_major_locator(mdates.WeekdayLocator())\n",
    "    ax[i].xaxis.set_major_formatter(mdates.DateFormatter('%b %d'))\n",
    "    ax[i].set_ylim([0,7000])\n",
    "    ax[i].spines['right'].set_visible(False)\n",
    "    ax[i].spines['top'].set_visible(False)\n",
    "plt.tight_layout()\n"
   ]
  },
  {
   "cell_type": "code",
   "execution_count": 20,
   "metadata": {
    "execution": {
     "iopub.execute_input": "2020-10-27T13:42:57.839809Z",
     "iopub.status.busy": "2020-10-27T13:42:57.839166Z",
     "iopub.status.idle": "2020-10-27T13:42:57.841263Z",
     "shell.execute_reply": "2020-10-27T13:42:57.841814Z"
    },
    "papermill": {
     "duration": 0.080463,
     "end_time": "2020-10-27T13:42:57.841957",
     "exception": false,
     "start_time": "2020-10-27T13:42:57.761494",
     "status": "completed"
    },
    "tags": []
   },
   "outputs": [
    {
     "name": "stdout",
     "output_type": "stream",
     "text": [
      "                                   states    Cases  Deaths   PCases  PDeaths  Cases (+)  Deaths (+)  Fatality Rate\n",
      "                              Maharashtra  1648665   43348  1648665    43348          0           0           2.63\n",
      "                           Andhra Pradesh   808924    6606   808924     6606          0           0           0.82\n",
      "                                Karnataka   805947   10947   805947    10947          0           0           1.36\n",
      "                               Tamil Nadu   711713   10956   711713    10956          0           0           1.54\n",
      "                            Uttar Pradesh   472068    6902   472068     6902          0           0           1.46\n",
      "                                   Kerala   397218    1353   397218     1353          0           0           0.34\n",
      "                                    Delhi   359488    6312   359488     6312          0           0           1.76\n",
      "                              West Bengal   353822    6546   353822     6546          0           0           1.85\n",
      "                                   Odisha   283942    1325   282695     1312       1247          13           0.47\n",
      "                                Telangana   231834    1311   231834     1311          0           0           0.57\n",
      "                                    Bihar   212705    1058   212705     1058          0           0           0.50\n",
      "                                    Assam   204386     908   204386      908          0           0           0.44\n",
      "                                Rajasthan   189844    1867   188048     1853       1796          14           0.98\n",
      "                             Chhattisgarh   177608    1861   177608     1861          0           0           1.05\n",
      "                                  Gujarat   168081    3693   168081     3693          0           0           2.20\n",
      "                           Madhya Pradesh   167969    2890   167969     2890          0           0           1.72\n",
      "                                  Haryana   159457    1737   159457     1737          0           0           1.09\n",
      "                                   Punjab   131391    4125   131391     4125          0           0           3.14\n",
      "                                Jharkhand    99906     872    99906      872          0           0           0.87\n",
      "                        Jammu and Kashmir    92225    1444    92225     1444          0           0           1.57\n",
      "                              Uttarakhand    60744    1001    60744     1001          0           0           1.65\n",
      "                                      Goa    42532     582    42532      582          0           0           1.37\n",
      "                               Puducherry    34336     588    34336      588          0           0           1.71\n",
      "                                  Tripura    30254     340    30254      340          0           0           1.12\n",
      "                         Himachal Pradesh    20586     288    20586      288          0           0           1.40\n",
      "                                  Manipur    17424     144    17424      144          0           0           0.83\n",
      "                        Arunachal Pradesh    14391      35    14391       35          0           0           0.24\n",
      "                               Chandigarh    14085     222    14085      222          0           0           1.58\n",
      "                                Meghalaya     9020      81     9020       81          0           0           0.90\n",
      "                                 Nagaland     8663      27     8663       27          0           0           0.31\n",
      "                                   Ladakh     5978      71     5978       71          0           0           1.19\n",
      "              Andaman and Nicobar Islands     4253      58     4253       58          0           0           1.36\n",
      "                                   Sikkim     3840      65     3840       65          0           0           1.69\n",
      " Dadra and Nagar Haveli and Daman and Diu     3226       2     3226        2          0           0           0.06\n",
      "                                  Mizoram     2493       0     2493        0          0           0           0.00\n",
      "                              Lakshadweep        0       0        0        0          0           0            NaN\n"
     ]
    }
   ],
   "source": [
    "#hide_input\n",
    "print(df_table.to_string(index=False))"
   ]
  },
  {
   "cell_type": "code",
   "execution_count": null,
   "metadata": {
    "papermill": {
     "duration": 0.454611,
     "end_time": "2020-10-27T13:42:58.515314",
     "exception": false,
     "start_time": "2020-10-27T13:42:58.060703",
     "status": "completed"
    },
    "tags": []
   },
   "outputs": [],
   "source": []
  },
  {
   "cell_type": "code",
   "execution_count": null,
   "metadata": {
    "papermill": {
     "duration": 0.030336,
     "end_time": "2020-10-27T13:42:58.578839",
     "exception": false,
     "start_time": "2020-10-27T13:42:58.548503",
     "status": "completed"
    },
    "tags": []
   },
   "outputs": [],
   "source": []
  }
 ],
 "metadata": {
  "kernelspec": {
   "display_name": "Python 3",
   "language": "python",
   "name": "python3"
  },
  "language_info": {
   "codemirror_mode": {
    "name": "ipython",
    "version": 3
   },
   "file_extension": ".py",
   "mimetype": "text/x-python",
   "name": "python",
   "nbconvert_exporter": "python",
   "pygments_lexer": "ipython3",
   "version": "3.6.12"
  },
  "papermill": {
   "duration": 13.316337,
   "end_time": "2020-10-27T13:42:59.012030",
   "environment_variables": {},
   "exception": null,
   "input_path": "latest.ipynb",
   "output_path": "latest.ipynb",
   "parameters": {},
   "start_time": "2020-10-27T13:42:45.695693",
   "version": "2.1.2"
  }
 },
 "nbformat": 4,
 "nbformat_minor": 4
}