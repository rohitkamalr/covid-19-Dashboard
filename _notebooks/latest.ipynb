{
 "cells": [
  {
   "cell_type": "markdown",
   "metadata": {
    "papermill": {
     "duration": 0.020012,
     "end_time": "2020-10-19T06:53:10.676819",
     "exception": false,
     "start_time": "2020-10-19T06:53:10.656807",
     "status": "completed"
    },
    "tags": []
   },
   "source": [
    "# Latest COVID-19 India Matplotlib Overview"
   ]
  },
  {
   "cell_type": "code",
   "execution_count": 1,
   "metadata": {
    "execution": {
     "iopub.execute_input": "2020-10-19T06:53:10.713380Z",
     "iopub.status.busy": "2020-10-19T06:53:10.712823Z",
     "iopub.status.idle": "2020-10-19T06:53:11.287238Z",
     "shell.execute_reply": "2020-10-19T06:53:11.286650Z"
    },
    "papermill": {
     "duration": 0.595272,
     "end_time": "2020-10-19T06:53:11.287397",
     "exception": false,
     "start_time": "2020-10-19T06:53:10.692125",
     "status": "completed"
    },
    "tags": []
   },
   "outputs": [],
   "source": [
    "#hide\n",
    "import pandas as pd\n",
    "import numpy as np\n",
    "import requests\n",
    "import json\n",
    "import matplotlib.pyplot as plt\n",
    "import matplotlib.dates as mdates\n",
    "import matplotlib as mpl\n",
    "from IPython.core.display import display,HTML\n",
    "%matplotlib inline\n",
    "from datetime import date"
   ]
  },
  {
   "cell_type": "code",
   "execution_count": 2,
   "metadata": {
    "execution": {
     "iopub.execute_input": "2020-10-19T06:53:11.329738Z",
     "iopub.status.busy": "2020-10-19T06:53:11.329132Z",
     "iopub.status.idle": "2020-10-19T06:53:11.915680Z",
     "shell.execute_reply": "2020-10-19T06:53:11.914555Z"
    },
    "papermill": {
     "duration": 0.610929,
     "end_time": "2020-10-19T06:53:11.915828",
     "exception": false,
     "start_time": "2020-10-19T06:53:11.304899",
     "status": "completed"
    },
    "tags": []
   },
   "outputs": [],
   "source": [
    "#hide\n",
    "df  = pd.read_csv('https://api.covid19india.org/csv/latest/states.csv')\n",
    "df = df[['Date','State','Confirmed','Deceased']]\n",
    "df = df.rename(columns={'Confirmed':'Cases', \"Deceased\":'Deaths'})\n",
    "df_cases = df[[\"Date\",'State','Cases']]\n",
    "df_deaths = df[['Date','State','Deaths']]\n",
    "df_cases1 = df_cases.groupby('Date')\n",
    "df_deaths1= df_deaths.groupby('Date')"
   ]
  },
  {
   "cell_type": "code",
   "execution_count": 3,
   "metadata": {
    "execution": {
     "iopub.execute_input": "2020-10-19T06:53:11.949521Z",
     "iopub.status.busy": "2020-10-19T06:53:11.948975Z",
     "iopub.status.idle": "2020-10-19T06:53:11.964582Z",
     "shell.execute_reply": "2020-10-19T06:53:11.964122Z"
    },
    "papermill": {
     "duration": 0.033807,
     "end_time": "2020-10-19T06:53:11.964699",
     "exception": false,
     "start_time": "2020-10-19T06:53:11.930892",
     "status": "completed"
    },
    "tags": []
   },
   "outputs": [],
   "source": [
    "#hide\n",
    "df_snap = pd.read_csv('data/SnapshotCases-28-July.csv')\n",
    "arr_states = df_snap['states'].unique()\n",
    "arr_dates = df['Date'].unique()\n",
    "df_snap = df_snap.set_index('states')"
   ]
  },
  {
   "cell_type": "code",
   "execution_count": 4,
   "metadata": {
    "execution": {
     "iopub.execute_input": "2020-10-19T06:53:12.007079Z",
     "iopub.status.busy": "2020-10-19T06:53:12.006516Z",
     "iopub.status.idle": "2020-10-19T06:53:12.009923Z",
     "shell.execute_reply": "2020-10-19T06:53:12.009470Z"
    },
    "papermill": {
     "duration": 0.0266,
     "end_time": "2020-10-19T06:53:12.010037",
     "exception": false,
     "start_time": "2020-10-19T06:53:11.983437",
     "status": "completed"
    },
    "tags": []
   },
   "outputs": [
    {
     "data": {
      "text/plain": [
       "array(['Andaman and Nicobar Islands', 'Andhra Pradesh',\n",
       "       'Arunachal Pradesh', 'Assam', 'Bihar', 'Chandigarh',\n",
       "       'Dadra and Nagar Haveli and Daman and Diu', 'Delhi', 'Goa',\n",
       "       'Gujarat', 'Haryana', 'Himachal Pradesh', 'Jammu and Kashmir',\n",
       "       'Jharkhand', 'Karnataka', 'Kerala', 'Lakshadweep',\n",
       "       'Madhya Pradesh', 'Maharashtra', 'Manipur', 'Meghalaya', 'Mizoram',\n",
       "       'Nagaland', 'Odisha', 'Puducherry', 'Punjab', 'Rajasthan',\n",
       "       'Sikkim', 'Tamil Nadu', 'Telangana', 'Tripura', 'Uttar Pradesh',\n",
       "       'West Bengal', 'Chhattisgarh', 'Ladakh', 'Uttarakhand'],\n",
       "      dtype=object)"
      ]
     },
     "execution_count": 4,
     "metadata": {},
     "output_type": "execute_result"
    }
   ],
   "source": [
    "#hide\n",
    "arr_states[-9] = 'Puducherry'\n",
    "arr_states[-10] = 'Odisha'\n",
    "arr_states[6] = 'Dadra and Nagar Haveli and Daman and Diu'\n",
    "arr_states = np.append(arr_states,np.array(['Chhattisgarh','Ladakh','Uttarakhand']))\n",
    "arr_states"
   ]
  },
  {
   "cell_type": "code",
   "execution_count": 5,
   "metadata": {
    "execution": {
     "iopub.execute_input": "2020-10-19T06:53:12.047595Z",
     "iopub.status.busy": "2020-10-19T06:53:12.045024Z",
     "iopub.status.idle": "2020-10-19T06:53:12.054685Z",
     "shell.execute_reply": "2020-10-19T06:53:12.054296Z"
    },
    "papermill": {
     "duration": 0.030701,
     "end_time": "2020-10-19T06:53:12.054814",
     "exception": false,
     "start_time": "2020-10-19T06:53:12.024113",
     "status": "completed"
    },
    "tags": []
   },
   "outputs": [],
   "source": [
    "#hide\n",
    "dates = []\n",
    "for i in arr_dates:\n",
    "    if i>='2020-07-01':\n",
    "        dates.append(i)\n",
    "dict = {'states':dates}\n",
    "for i in arr_states:\n",
    "    dict[i] = [0]*len(dates)\n",
    "dft_cases = pd.DataFrame(dict)\n",
    "dft_deaths = pd.DataFrame(dict)\n"
   ]
  },
  {
   "cell_type": "code",
   "execution_count": 6,
   "metadata": {
    "execution": {
     "iopub.execute_input": "2020-10-19T06:53:12.089188Z",
     "iopub.status.busy": "2020-10-19T06:53:12.088606Z",
     "iopub.status.idle": "2020-10-19T06:53:13.473303Z",
     "shell.execute_reply": "2020-10-19T06:53:13.472195Z"
    },
    "papermill": {
     "duration": 1.404371,
     "end_time": "2020-10-19T06:53:13.473466",
     "exception": false,
     "start_time": "2020-10-19T06:53:12.069095",
     "status": "completed"
    },
    "tags": []
   },
   "outputs": [],
   "source": [
    "#hide\n",
    "for i in range(len(dates)):\n",
    "    df1_deaths = df_deaths1.get_group(dates[i])\n",
    "    for j in range(len(df1_deaths.index)):\n",
    "        if df1_deaths.iloc[j,1] in arr_states:\n",
    "            dft_deaths.loc[i,df1_deaths.iloc[j,1]] = df1_deaths.iloc[j,2]\n",
    "dft_deaths = dft_deaths.set_index('states')"
   ]
  },
  {
   "cell_type": "code",
   "execution_count": 7,
   "metadata": {
    "execution": {
     "iopub.execute_input": "2020-10-19T06:53:13.508806Z",
     "iopub.status.busy": "2020-10-19T06:53:13.508223Z",
     "iopub.status.idle": "2020-10-19T06:53:14.922159Z",
     "shell.execute_reply": "2020-10-19T06:53:14.921488Z"
    },
    "papermill": {
     "duration": 1.433695,
     "end_time": "2020-10-19T06:53:14.922345",
     "exception": false,
     "start_time": "2020-10-19T06:53:13.488650",
     "status": "completed"
    },
    "tags": []
   },
   "outputs": [],
   "source": [
    "#hide\n",
    "for i in range(len(dates)):\n",
    "    df1_cases = df_cases1.get_group(dates[i])\n",
    "    for j in range(len(df1_cases.index)):\n",
    "        if df1_cases.iloc[j,1] in arr_states:\n",
    "            dft_cases.loc[i,df1_cases.iloc[j,1]] = df1_cases.iloc[j,2]\n",
    "dft_cases = dft_cases.set_index('states')"
   ]
  },
  {
   "cell_type": "code",
   "execution_count": 8,
   "metadata": {
    "execution": {
     "iopub.execute_input": "2020-10-19T06:53:14.961338Z",
     "iopub.status.busy": "2020-10-19T06:53:14.960319Z",
     "iopub.status.idle": "2020-10-19T06:53:14.962395Z",
     "shell.execute_reply": "2020-10-19T06:53:14.963243Z"
    },
    "papermill": {
     "duration": 0.025328,
     "end_time": "2020-10-19T06:53:14.963374",
     "exception": false,
     "start_time": "2020-10-19T06:53:14.938046",
     "status": "completed"
    },
    "tags": []
   },
   "outputs": [],
   "source": [
    "#hide\n",
    "dft_cases = dft_cases.T\n",
    "dft_deaths = dft_deaths.T\n",
    "dt_today = dates[-1]\n",
    "dt_yday = dates[-2]"
   ]
  },
  {
   "cell_type": "code",
   "execution_count": 9,
   "metadata": {
    "execution": {
     "iopub.execute_input": "2020-10-19T06:53:14.996866Z",
     "iopub.status.busy": "2020-10-19T06:53:14.996202Z",
     "iopub.status.idle": "2020-10-19T06:53:15.000970Z",
     "shell.execute_reply": "2020-10-19T06:53:15.001375Z"
    },
    "papermill": {
     "duration": 0.023693,
     "end_time": "2020-10-19T06:53:15.001505",
     "exception": false,
     "start_time": "2020-10-19T06:53:14.977812",
     "status": "completed"
    },
    "tags": []
   },
   "outputs": [],
   "source": [
    "#hide\n",
    "dft_cases = dft_cases.reset_index()\n",
    "dft_deaths = dft_deaths.reset_index()\n",
    "dft_cases = dft_cases.rename(columns = {'index':'state'})\n",
    "dft_deaths = dft_deaths.rename(columns = {'index':'state'})"
   ]
  },
  {
   "cell_type": "code",
   "execution_count": 10,
   "metadata": {
    "execution": {
     "iopub.execute_input": "2020-10-19T06:53:15.039488Z",
     "iopub.status.busy": "2020-10-19T06:53:15.038902Z",
     "iopub.status.idle": "2020-10-19T06:53:15.040848Z",
     "shell.execute_reply": "2020-10-19T06:53:15.041225Z"
    },
    "papermill": {
     "duration": 0.025848,
     "end_time": "2020-10-19T06:53:15.041335",
     "exception": false,
     "start_time": "2020-10-19T06:53:15.015487",
     "status": "completed"
    },
    "tags": []
   },
   "outputs": [],
   "source": [
    "#hide\n",
    "dfc_cases = dft_cases.groupby('state')[dt_today].sum()\n",
    "dfc_deaths = dft_deaths.groupby('state')[dt_today].sum()\n",
    "dfp_cases = dft_cases.groupby('state')[dt_yday].sum()\n",
    "dfp_deaths = dft_deaths.groupby('state')[dt_yday].sum()"
   ]
  },
  {
   "cell_type": "code",
   "execution_count": 11,
   "metadata": {
    "execution": {
     "iopub.execute_input": "2020-10-19T06:53:15.081914Z",
     "iopub.status.busy": "2020-10-19T06:53:15.081350Z",
     "iopub.status.idle": "2020-10-19T06:53:15.087147Z",
     "shell.execute_reply": "2020-10-19T06:53:15.087579Z"
    },
    "papermill": {
     "duration": 0.034301,
     "end_time": "2020-10-19T06:53:15.087710",
     "exception": false,
     "start_time": "2020-10-19T06:53:15.053409",
     "status": "completed"
    },
    "tags": []
   },
   "outputs": [
    {
     "data": {
      "text/html": [
       "<div>\n",
       "<style scoped>\n",
       "    .dataframe tbody tr th:only-of-type {\n",
       "        vertical-align: middle;\n",
       "    }\n",
       "\n",
       "    .dataframe tbody tr th {\n",
       "        vertical-align: top;\n",
       "    }\n",
       "\n",
       "    .dataframe thead th {\n",
       "        text-align: right;\n",
       "    }\n",
       "</style>\n",
       "<table border=\"1\" class=\"dataframe\">\n",
       "  <thead>\n",
       "    <tr style=\"text-align: right;\">\n",
       "      <th></th>\n",
       "      <th>states</th>\n",
       "      <th>Cases</th>\n",
       "      <th>Deaths</th>\n",
       "      <th>PCases</th>\n",
       "      <th>PDeaths</th>\n",
       "    </tr>\n",
       "  </thead>\n",
       "  <tbody>\n",
       "    <tr>\n",
       "      <th>0</th>\n",
       "      <td>Maharashtra</td>\n",
       "      <td>1595381</td>\n",
       "      <td>42115</td>\n",
       "      <td>1595381</td>\n",
       "      <td>42115</td>\n",
       "    </tr>\n",
       "    <tr>\n",
       "      <th>1</th>\n",
       "      <td>Andhra Pradesh</td>\n",
       "      <td>783132</td>\n",
       "      <td>6429</td>\n",
       "      <td>783132</td>\n",
       "      <td>6429</td>\n",
       "    </tr>\n",
       "    <tr>\n",
       "      <th>2</th>\n",
       "      <td>Karnataka</td>\n",
       "      <td>765586</td>\n",
       "      <td>10478</td>\n",
       "      <td>765586</td>\n",
       "      <td>10478</td>\n",
       "    </tr>\n",
       "    <tr>\n",
       "      <th>3</th>\n",
       "      <td>Tamil Nadu</td>\n",
       "      <td>687400</td>\n",
       "      <td>10642</td>\n",
       "      <td>687400</td>\n",
       "      <td>10642</td>\n",
       "    </tr>\n",
       "    <tr>\n",
       "      <th>4</th>\n",
       "      <td>Uttar Pradesh</td>\n",
       "      <td>455146</td>\n",
       "      <td>6658</td>\n",
       "      <td>455146</td>\n",
       "      <td>6658</td>\n",
       "    </tr>\n",
       "  </tbody>\n",
       "</table>\n",
       "</div>"
      ],
      "text/plain": [
       "           states    Cases  Deaths   PCases  PDeaths\n",
       "0     Maharashtra  1595381   42115  1595381    42115\n",
       "1  Andhra Pradesh   783132    6429   783132     6429\n",
       "2       Karnataka   765586   10478   765586    10478\n",
       "3      Tamil Nadu   687400   10642   687400    10642\n",
       "4   Uttar Pradesh   455146    6658   455146     6658"
      ]
     },
     "execution_count": 11,
     "metadata": {},
     "output_type": "execute_result"
    }
   ],
   "source": [
    "#hide\n",
    "df_table = pd.DataFrame({'states': dfc_cases.index, 'Cases': dfc_cases.values, 'Deaths': dfc_deaths.values, 'PCases': dfp_cases.values, 'PDeaths': dfp_deaths.values}).set_index('states')\n",
    "df_table = df_table.sort_values(by = ['Cases','Deaths'], ascending = [False, False])\n",
    "df_table = df_table.reset_index()\n",
    "df_table.head()"
   ]
  },
  {
   "cell_type": "code",
   "execution_count": 12,
   "metadata": {
    "execution": {
     "iopub.execute_input": "2020-10-19T06:53:15.121569Z",
     "iopub.status.busy": "2020-10-19T06:53:15.121041Z",
     "iopub.status.idle": "2020-10-19T06:53:15.130775Z",
     "shell.execute_reply": "2020-10-19T06:53:15.130322Z"
    },
    "papermill": {
     "duration": 0.030214,
     "end_time": "2020-10-19T06:53:15.130891",
     "exception": false,
     "start_time": "2020-10-19T06:53:15.100677",
     "status": "completed"
    },
    "tags": []
   },
   "outputs": [],
   "source": [
    "#hide\n",
    "for c in 'Cases, Deaths'.split(', '):\n",
    "    df_table[f'{c} (+)'] = (df_table[c] - df_table[f'P{c}']).clip(0)\n",
    "df_table['Fatality Rate'] = (100* df_table['Deaths']/ df_table['Cases']).round(2)"
   ]
  },
  {
   "cell_type": "code",
   "execution_count": 13,
   "metadata": {
    "execution": {
     "iopub.execute_input": "2020-10-19T06:53:15.173983Z",
     "iopub.status.busy": "2020-10-19T06:53:15.173448Z",
     "iopub.status.idle": "2020-10-19T06:53:15.176343Z",
     "shell.execute_reply": "2020-10-19T06:53:15.175885Z"
    },
    "papermill": {
     "duration": 0.031311,
     "end_time": "2020-10-19T06:53:15.176454",
     "exception": false,
     "start_time": "2020-10-19T06:53:15.145143",
     "status": "completed"
    },
    "tags": []
   },
   "outputs": [
    {
     "data": {
      "text/html": [
       "<div>\n",
       "<style scoped>\n",
       "    .dataframe tbody tr th:only-of-type {\n",
       "        vertical-align: middle;\n",
       "    }\n",
       "\n",
       "    .dataframe tbody tr th {\n",
       "        vertical-align: top;\n",
       "    }\n",
       "\n",
       "    .dataframe thead th {\n",
       "        text-align: right;\n",
       "    }\n",
       "</style>\n",
       "<table border=\"1\" class=\"dataframe\">\n",
       "  <thead>\n",
       "    <tr style=\"text-align: right;\">\n",
       "      <th></th>\n",
       "      <th>states</th>\n",
       "      <th>Cases</th>\n",
       "      <th>Deaths</th>\n",
       "      <th>PCases</th>\n",
       "      <th>PDeaths</th>\n",
       "      <th>Cases (+)</th>\n",
       "      <th>Deaths (+)</th>\n",
       "      <th>Fatality Rate</th>\n",
       "    </tr>\n",
       "  </thead>\n",
       "  <tbody>\n",
       "    <tr>\n",
       "      <th>0</th>\n",
       "      <td>Maharashtra</td>\n",
       "      <td>1595381</td>\n",
       "      <td>42115</td>\n",
       "      <td>1595381</td>\n",
       "      <td>42115</td>\n",
       "      <td>0</td>\n",
       "      <td>0</td>\n",
       "      <td>2.64</td>\n",
       "    </tr>\n",
       "    <tr>\n",
       "      <th>1</th>\n",
       "      <td>Andhra Pradesh</td>\n",
       "      <td>783132</td>\n",
       "      <td>6429</td>\n",
       "      <td>783132</td>\n",
       "      <td>6429</td>\n",
       "      <td>0</td>\n",
       "      <td>0</td>\n",
       "      <td>0.82</td>\n",
       "    </tr>\n",
       "    <tr>\n",
       "      <th>2</th>\n",
       "      <td>Karnataka</td>\n",
       "      <td>765586</td>\n",
       "      <td>10478</td>\n",
       "      <td>765586</td>\n",
       "      <td>10478</td>\n",
       "      <td>0</td>\n",
       "      <td>0</td>\n",
       "      <td>1.37</td>\n",
       "    </tr>\n",
       "    <tr>\n",
       "      <th>3</th>\n",
       "      <td>Tamil Nadu</td>\n",
       "      <td>687400</td>\n",
       "      <td>10642</td>\n",
       "      <td>687400</td>\n",
       "      <td>10642</td>\n",
       "      <td>0</td>\n",
       "      <td>0</td>\n",
       "      <td>1.55</td>\n",
       "    </tr>\n",
       "    <tr>\n",
       "      <th>4</th>\n",
       "      <td>Uttar Pradesh</td>\n",
       "      <td>455146</td>\n",
       "      <td>6658</td>\n",
       "      <td>455146</td>\n",
       "      <td>6658</td>\n",
       "      <td>0</td>\n",
       "      <td>0</td>\n",
       "      <td>1.46</td>\n",
       "    </tr>\n",
       "  </tbody>\n",
       "</table>\n",
       "</div>"
      ],
      "text/plain": [
       "           states    Cases  Deaths   PCases  PDeaths  Cases (+)  Deaths (+)  \\\n",
       "0     Maharashtra  1595381   42115  1595381    42115          0           0   \n",
       "1  Andhra Pradesh   783132    6429   783132     6429          0           0   \n",
       "2       Karnataka   765586   10478   765586    10478          0           0   \n",
       "3      Tamil Nadu   687400   10642   687400    10642          0           0   \n",
       "4   Uttar Pradesh   455146    6658   455146     6658          0           0   \n",
       "\n",
       "   Fatality Rate  \n",
       "0           2.64  \n",
       "1           0.82  \n",
       "2           1.37  \n",
       "3           1.55  \n",
       "4           1.46  "
      ]
     },
     "execution_count": 13,
     "metadata": {},
     "output_type": "execute_result"
    }
   ],
   "source": [
    "#hide\n",
    "df_table.head()"
   ]
  },
  {
   "cell_type": "code",
   "execution_count": 14,
   "metadata": {
    "execution": {
     "iopub.execute_input": "2020-10-19T06:53:15.209854Z",
     "iopub.status.busy": "2020-10-19T06:53:15.209323Z",
     "iopub.status.idle": "2020-10-19T06:53:15.229995Z",
     "shell.execute_reply": "2020-10-19T06:53:15.229537Z"
    },
    "papermill": {
     "duration": 0.038878,
     "end_time": "2020-10-19T06:53:15.230107",
     "exception": false,
     "start_time": "2020-10-19T06:53:15.191229",
     "status": "completed"
    },
    "tags": []
   },
   "outputs": [
    {
     "data": {
      "text/plain": [
       "{'updated': '2020-10-19',\n",
       " 'since': '2020-10-18',\n",
       " 'Cases': 7550280,\n",
       " 'PCases': 7549247,\n",
       " 'Deaths': 114653,\n",
       " 'PDeaths': 114647,\n",
       " 'Cases (+)': 1033,\n",
       " 'Deaths (+)': 6}"
      ]
     },
     "execution_count": 14,
     "metadata": {},
     "output_type": "execute_result"
    }
   ],
   "source": [
    "#hide\n",
    "summary = {'updated':dates[-1], 'since':dates[-2]}\n",
    "list_names = ['Cases', 'PCases', 'Deaths', 'PDeaths', 'Cases (+)', 'Deaths (+)']\n",
    "for name in list_names:\n",
    "    summary[name] = df_table.sum()[name]\n",
    "summary"
   ]
  },
  {
   "cell_type": "code",
   "execution_count": 15,
   "metadata": {
    "execution": {
     "iopub.execute_input": "2020-10-19T06:53:15.262129Z",
     "iopub.status.busy": "2020-10-19T06:53:15.261653Z",
     "iopub.status.idle": "2020-10-19T06:53:15.264377Z",
     "shell.execute_reply": "2020-10-19T06:53:15.264892Z"
    },
    "papermill": {
     "duration": 0.020536,
     "end_time": "2020-10-19T06:53:15.265018",
     "exception": false,
     "start_time": "2020-10-19T06:53:15.244482",
     "status": "completed"
    },
    "tags": []
   },
   "outputs": [],
   "source": [
    "#hide\n",
    "overview = '''\n",
    "<!-- #######  HTML!! #########-->\n",
    "<h1 style=\"color: #5e9ca0; text-align: center;\">India</h1>\n",
    "<p style=\"text-align: center;\">Last update: <strong>{update}</strong></p>\n",
    "<p style=\"text-align: center;\">Confirmed cases:</p>\n",
    "<p style=\"text-align: center;font-size:24px;\">{cases} (<span style=\"color: #ff0000;\">+{new}</span>)</p>\n",
    "<p style=\"text-align: center;\">Confirmed deaths:</p>\n",
    "<p style=\"text-align: center;font-size:24px;\">{deaths} (<span style=\"color: #ff0000;\">+{dnew}</span>)</p>\n",
    "'''"
   ]
  },
  {
   "cell_type": "code",
   "execution_count": 16,
   "metadata": {
    "execution": {
     "iopub.execute_input": "2020-10-19T06:53:15.300344Z",
     "iopub.status.busy": "2020-10-19T06:53:15.299846Z",
     "iopub.status.idle": "2020-10-19T06:53:15.302612Z",
     "shell.execute_reply": "2020-10-19T06:53:15.302215Z"
    },
    "papermill": {
     "duration": 0.022353,
     "end_time": "2020-10-19T06:53:15.302728",
     "exception": false,
     "start_time": "2020-10-19T06:53:15.280375",
     "status": "completed"
    },
    "tags": []
   },
   "outputs": [
    {
     "data": {
      "text/html": [
       "\n",
       "<!-- #######  HTML!! #########-->\n",
       "<h1 style=\"color: #5e9ca0; text-align: center;\">India</h1>\n",
       "<p style=\"text-align: center;\">Last update: <strong>2020-10-19</strong></p>\n",
       "<p style=\"text-align: center;\">Confirmed cases:</p>\n",
       "<p style=\"text-align: center;font-size:24px;\">7550280 (<span style=\"color: #ff0000;\">+1033</span>)</p>\n",
       "<p style=\"text-align: center;\">Confirmed deaths:</p>\n",
       "<p style=\"text-align: center;font-size:24px;\">114653 (<span style=\"color: #ff0000;\">+6</span>)</p>\n"
      ],
      "text/plain": [
       "<IPython.core.display.HTML object>"
      ]
     },
     "metadata": {},
     "output_type": "display_data"
    }
   ],
   "source": [
    "#hide_input\n",
    "update = summary['updated']\n",
    "cases = summary['Cases']\n",
    "new = summary['Cases (+)']\n",
    "deaths = summary['Deaths']\n",
    "dnew = summary['Deaths (+)']\n",
    "\n",
    "html = HTML(overview.format(update=update, cases=cases,new=new,deaths=deaths,dnew=dnew))\n",
    "\n",
    "display(html)"
   ]
  },
  {
   "cell_type": "code",
   "execution_count": 17,
   "metadata": {
    "execution": {
     "iopub.execute_input": "2020-10-19T06:53:15.346536Z",
     "iopub.status.busy": "2020-10-19T06:53:15.345988Z",
     "iopub.status.idle": "2020-10-19T06:53:15.356628Z",
     "shell.execute_reply": "2020-10-19T06:53:15.355766Z"
    },
    "papermill": {
     "duration": 0.032825,
     "end_time": "2020-10-19T06:53:15.356832",
     "exception": false,
     "start_time": "2020-10-19T06:53:15.324007",
     "status": "completed"
    },
    "tags": []
   },
   "outputs": [],
   "source": [
    "#hide\n",
    "dt_cols = list(dft_cases.columns[1:])\n",
    "dft_ct_new_cases = dft_cases.groupby('state')[dt_cols].sum().diff(axis=1).fillna(0).astype(int)\n",
    "dft_ct_new_cases.sort_values(by = dates[-1], ascending = False,inplace = True)"
   ]
  },
  {
   "cell_type": "code",
   "execution_count": 18,
   "metadata": {
    "execution": {
     "iopub.execute_input": "2020-10-19T06:53:15.408860Z",
     "iopub.status.busy": "2020-10-19T06:53:15.408277Z",
     "iopub.status.idle": "2020-10-19T06:53:15.410757Z",
     "shell.execute_reply": "2020-10-19T06:53:15.411199Z"
    },
    "papermill": {
     "duration": 0.037364,
     "end_time": "2020-10-19T06:53:15.411326",
     "exception": false,
     "start_time": "2020-10-19T06:53:15.373962",
     "status": "completed"
    },
    "tags": []
   },
   "outputs": [
    {
     "data": {
      "text/html": [
       "<div>\n",
       "<style scoped>\n",
       "    .dataframe tbody tr th:only-of-type {\n",
       "        vertical-align: middle;\n",
       "    }\n",
       "\n",
       "    .dataframe tbody tr th {\n",
       "        vertical-align: top;\n",
       "    }\n",
       "\n",
       "    .dataframe thead th {\n",
       "        text-align: right;\n",
       "    }\n",
       "</style>\n",
       "<table border=\"1\" class=\"dataframe\">\n",
       "  <thead>\n",
       "    <tr style=\"text-align: right;\">\n",
       "      <th>states</th>\n",
       "      <th>2020-07-01</th>\n",
       "      <th>2020-07-02</th>\n",
       "      <th>2020-07-03</th>\n",
       "      <th>2020-07-04</th>\n",
       "      <th>2020-07-05</th>\n",
       "      <th>2020-07-06</th>\n",
       "      <th>2020-07-07</th>\n",
       "      <th>2020-07-08</th>\n",
       "      <th>2020-07-09</th>\n",
       "      <th>2020-07-10</th>\n",
       "      <th>...</th>\n",
       "      <th>2020-10-10</th>\n",
       "      <th>2020-10-11</th>\n",
       "      <th>2020-10-12</th>\n",
       "      <th>2020-10-13</th>\n",
       "      <th>2020-10-14</th>\n",
       "      <th>2020-10-15</th>\n",
       "      <th>2020-10-16</th>\n",
       "      <th>2020-10-17</th>\n",
       "      <th>2020-10-18</th>\n",
       "      <th>2020-10-19</th>\n",
       "    </tr>\n",
       "    <tr>\n",
       "      <th>state</th>\n",
       "      <th></th>\n",
       "      <th></th>\n",
       "      <th></th>\n",
       "      <th></th>\n",
       "      <th></th>\n",
       "      <th></th>\n",
       "      <th></th>\n",
       "      <th></th>\n",
       "      <th></th>\n",
       "      <th></th>\n",
       "      <th></th>\n",
       "      <th></th>\n",
       "      <th></th>\n",
       "      <th></th>\n",
       "      <th></th>\n",
       "      <th></th>\n",
       "      <th></th>\n",
       "      <th></th>\n",
       "      <th></th>\n",
       "      <th></th>\n",
       "      <th></th>\n",
       "    </tr>\n",
       "  </thead>\n",
       "  <tbody>\n",
       "    <tr>\n",
       "      <th>Telangana</th>\n",
       "      <td>0</td>\n",
       "      <td>1213</td>\n",
       "      <td>1892</td>\n",
       "      <td>1850</td>\n",
       "      <td>1590</td>\n",
       "      <td>1831</td>\n",
       "      <td>1879</td>\n",
       "      <td>1924</td>\n",
       "      <td>1410</td>\n",
       "      <td>1278</td>\n",
       "      <td>...</td>\n",
       "      <td>1811</td>\n",
       "      <td>1717</td>\n",
       "      <td>1021</td>\n",
       "      <td>1708</td>\n",
       "      <td>1446</td>\n",
       "      <td>1432</td>\n",
       "      <td>1554</td>\n",
       "      <td>1451</td>\n",
       "      <td>1436</td>\n",
       "      <td>948</td>\n",
       "    </tr>\n",
       "    <tr>\n",
       "      <th>Tripura</th>\n",
       "      <td>0</td>\n",
       "      <td>39</td>\n",
       "      <td>93</td>\n",
       "      <td>25</td>\n",
       "      <td>23</td>\n",
       "      <td>111</td>\n",
       "      <td>24</td>\n",
       "      <td>57</td>\n",
       "      <td>16</td>\n",
       "      <td>142</td>\n",
       "      <td>...</td>\n",
       "      <td>171</td>\n",
       "      <td>199</td>\n",
       "      <td>109</td>\n",
       "      <td>217</td>\n",
       "      <td>181</td>\n",
       "      <td>172</td>\n",
       "      <td>162</td>\n",
       "      <td>134</td>\n",
       "      <td>141</td>\n",
       "      <td>85</td>\n",
       "    </tr>\n",
       "    <tr>\n",
       "      <th>Andaman and Nicobar Islands</th>\n",
       "      <td>0</td>\n",
       "      <td>9</td>\n",
       "      <td>7</td>\n",
       "      <td>3</td>\n",
       "      <td>6</td>\n",
       "      <td>16</td>\n",
       "      <td>6</td>\n",
       "      <td>2</td>\n",
       "      <td>7</td>\n",
       "      <td>0</td>\n",
       "      <td>...</td>\n",
       "      <td>16</td>\n",
       "      <td>13</td>\n",
       "      <td>18</td>\n",
       "      <td>13</td>\n",
       "      <td>10</td>\n",
       "      <td>16</td>\n",
       "      <td>10</td>\n",
       "      <td>11</td>\n",
       "      <td>25</td>\n",
       "      <td>0</td>\n",
       "    </tr>\n",
       "    <tr>\n",
       "      <th>Puducherry</th>\n",
       "      <td>0</td>\n",
       "      <td>63</td>\n",
       "      <td>22</td>\n",
       "      <td>80</td>\n",
       "      <td>42</td>\n",
       "      <td>65</td>\n",
       "      <td>30</td>\n",
       "      <td>110</td>\n",
       "      <td>49</td>\n",
       "      <td>72</td>\n",
       "      <td>...</td>\n",
       "      <td>337</td>\n",
       "      <td>308</td>\n",
       "      <td>188</td>\n",
       "      <td>267</td>\n",
       "      <td>241</td>\n",
       "      <td>241</td>\n",
       "      <td>280</td>\n",
       "      <td>212</td>\n",
       "      <td>163</td>\n",
       "      <td>0</td>\n",
       "    </tr>\n",
       "    <tr>\n",
       "      <th>Maharashtra</th>\n",
       "      <td>0</td>\n",
       "      <td>6328</td>\n",
       "      <td>6364</td>\n",
       "      <td>7074</td>\n",
       "      <td>6555</td>\n",
       "      <td>5368</td>\n",
       "      <td>5134</td>\n",
       "      <td>6603</td>\n",
       "      <td>6875</td>\n",
       "      <td>7862</td>\n",
       "      <td>...</td>\n",
       "      <td>11416</td>\n",
       "      <td>10792</td>\n",
       "      <td>7089</td>\n",
       "      <td>8522</td>\n",
       "      <td>10552</td>\n",
       "      <td>10226</td>\n",
       "      <td>11447</td>\n",
       "      <td>10259</td>\n",
       "      <td>9060</td>\n",
       "      <td>0</td>\n",
       "    </tr>\n",
       "  </tbody>\n",
       "</table>\n",
       "<p>5 rows × 111 columns</p>\n",
       "</div>"
      ],
      "text/plain": [
       "states                       2020-07-01  2020-07-02  2020-07-03  2020-07-04  \\\n",
       "state                                                                         \n",
       "Telangana                             0        1213        1892        1850   \n",
       "Tripura                               0          39          93          25   \n",
       "Andaman and Nicobar Islands           0           9           7           3   \n",
       "Puducherry                            0          63          22          80   \n",
       "Maharashtra                           0        6328        6364        7074   \n",
       "\n",
       "states                       2020-07-05  2020-07-06  2020-07-07  2020-07-08  \\\n",
       "state                                                                         \n",
       "Telangana                          1590        1831        1879        1924   \n",
       "Tripura                              23         111          24          57   \n",
       "Andaman and Nicobar Islands           6          16           6           2   \n",
       "Puducherry                           42          65          30         110   \n",
       "Maharashtra                        6555        5368        5134        6603   \n",
       "\n",
       "states                       2020-07-09  2020-07-10  ...  2020-10-10  \\\n",
       "state                                                ...               \n",
       "Telangana                          1410        1278  ...        1811   \n",
       "Tripura                              16         142  ...         171   \n",
       "Andaman and Nicobar Islands           7           0  ...          16   \n",
       "Puducherry                           49          72  ...         337   \n",
       "Maharashtra                        6875        7862  ...       11416   \n",
       "\n",
       "states                       2020-10-11  2020-10-12  2020-10-13  2020-10-14  \\\n",
       "state                                                                         \n",
       "Telangana                          1717        1021        1708        1446   \n",
       "Tripura                             199         109         217         181   \n",
       "Andaman and Nicobar Islands          13          18          13          10   \n",
       "Puducherry                          308         188         267         241   \n",
       "Maharashtra                       10792        7089        8522       10552   \n",
       "\n",
       "states                       2020-10-15  2020-10-16  2020-10-17  2020-10-18  \\\n",
       "state                                                                         \n",
       "Telangana                          1432        1554        1451        1436   \n",
       "Tripura                             172         162         134         141   \n",
       "Andaman and Nicobar Islands          16          10          11          25   \n",
       "Puducherry                          241         280         212         163   \n",
       "Maharashtra                       10226       11447       10259        9060   \n",
       "\n",
       "states                       2020-10-19  \n",
       "state                                    \n",
       "Telangana                           948  \n",
       "Tripura                              85  \n",
       "Andaman and Nicobar Islands           0  \n",
       "Puducherry                            0  \n",
       "Maharashtra                           0  \n",
       "\n",
       "[5 rows x 111 columns]"
      ]
     },
     "execution_count": 18,
     "metadata": {},
     "output_type": "execute_result"
    }
   ],
   "source": [
    "#hide\n",
    "dft_ct_new_cases.head()"
   ]
  },
  {
   "cell_type": "code",
   "execution_count": 19,
   "metadata": {
    "execution": {
     "iopub.execute_input": "2020-10-19T06:53:15.447729Z",
     "iopub.status.busy": "2020-10-19T06:53:15.447106Z",
     "iopub.status.idle": "2020-10-19T06:53:19.452894Z",
     "shell.execute_reply": "2020-10-19T06:53:19.452416Z"
    },
    "papermill": {
     "duration": 4.025443,
     "end_time": "2020-10-19T06:53:19.453029",
     "exception": false,
     "start_time": "2020-10-19T06:53:15.427586",
     "status": "completed"
    },
    "tags": []
   },
   "outputs": [
    {
     "data": {
      "image/png": "[encoded data removed]",
      "text/plain": [
       "<Figure size 1296x2016 with 11 Axes>"
      ]
     },
     "metadata": {
      "needs_background": "light"
     },
     "output_type": "display_data"
    }
   ],
   "source": [
    "#hide_input\n",
    "df = dft_ct_new_cases.copy()\n",
    "df.loc['Total'] = df.sum()\n",
    "n = 5\n",
    "ax = []\n",
    "fig = plt.figure(figsize = (18,28))\n",
    "gs = fig.add_gridspec(n+2, 5)\n",
    "# gs = fig.add_gridspec(2, 3)\n",
    "ax1 = fig.add_subplot(gs[0, :])\n",
    "ef = df.loc['Total'].rename_axis('date').reset_index()\n",
    "ef['date'] = ef['date'].astype('datetime64[ns]')\n",
    "ax1.bar(ef.date,ef.Total,alpha=0.3,color='#007acc')\n",
    "ax1.plot(ef.date,ef.Total , marker=\"o\", color='#007acc')\n",
    "ax1.xaxis.set_major_locator(mdates.WeekdayLocator())\n",
    "ax1.xaxis.set_major_formatter(mdates.DateFormatter('%b %d'))\n",
    "ax1.text(0.02, 0.5,'India daily case count', transform = ax1.transAxes, fontsize=25);\n",
    "ax1.spines['right'].set_visible(False)\n",
    "ax1.spines['top'].set_visible(False)\n",
    "\n",
    "ax2 = fig.add_subplot(gs[1,0])\n",
    "ef = df.loc['Maharashtra'].rename_axis('date').reset_index()\n",
    "ef['date'] = ef['date'].astype('datetime64[ns]')\n",
    "\n",
    "ax2.bar(ef.date, ef.Maharashtra,color = '#007acc',alpha=0.5)\n",
    "ax2.xaxis.set_major_locator(mdates.WeekdayLocator())\n",
    "ax2.xaxis.set_major_formatter(mdates.DateFormatter('%b %d'))\n",
    "ax2.set_xticks(ax2.get_xticks()[::3])\n",
    "maxyval = ef.Maharashtra.max()\n",
    "ax2.set_ylim([0,maxyval])\n",
    "ax2.text(0.05, 0.9,'Maharashtra', transform = ax2.transAxes, fontsize=20);\n",
    "ax2.spines['right'].set_visible(False)\n",
    "ax2.spines['top'].set_visible(False)\n",
    "\n",
    "\n",
    "ax3 = fig.add_subplot(gs[1,1])\n",
    "ef = df.loc['Tamil Nadu'].rename_axis('date').reset_index()\n",
    "ef['date'] = ef['date'].astype('datetime64[ns]')\n",
    "ax3.bar(ef.date, ef['Tamil Nadu'],color = '#007acc',alpha=0.5,)\n",
    "ax3.xaxis.set_major_locator(mdates.WeekdayLocator())\n",
    "ax3.xaxis.set_major_formatter(mdates.DateFormatter('%b %d'))\n",
    "ax3.set_xticks(ax3.get_xticks()[::3])\n",
    "ax3.text(0.05, 0.9,'Tamil Nadu', transform = ax3.transAxes, fontsize=20);\n",
    "ax3.spines['right'].set_visible(False)\n",
    "ax3.spines['top'].set_visible(False)\n",
    "\n",
    "ax5 = fig.add_subplot(gs[1,3])\n",
    "ef = df.loc['Telangana'].rename_axis('date').reset_index()\n",
    "ef['date'] = ef['date'].astype('datetime64[ns]')\n",
    "ax5.bar(ef.date, ef['Telangana'],color = '#007acc',alpha=0.5,)\n",
    "ax5.xaxis.set_major_locator(mdates.WeekdayLocator())\n",
    "ax5.xaxis.set_major_formatter(mdates.DateFormatter('%b %d'))\n",
    "ax5.set_xticks(ax5.get_xticks()[::3])\n",
    "ax5.text(0.05, 0.9,'Telangana', transform = ax5.transAxes, fontsize=20);\n",
    "ax5.spines['right'].set_visible(False)\n",
    "ax5.spines['top'].set_visible(False)\n",
    "\n",
    "ax6 = fig.add_subplot(gs[1,4])\n",
    "ef = df.loc['Andhra Pradesh'].rename_axis('date').reset_index()\n",
    "ef['date'] = ef['date'].astype('datetime64[ns]')\n",
    "ax6.bar(ef.date, ef['Andhra Pradesh'],color = '#007acc',alpha=0.5,)\n",
    "ax6.xaxis.set_major_locator(mdates.WeekdayLocator())\n",
    "ax6.xaxis.set_major_formatter(mdates.DateFormatter('%b %d'))\n",
    "ax6.set_xticks(ax6.get_xticks()[::3])\n",
    "ax6.text(0.05, 1,'Andhra Pradesh', transform = ax6.transAxes, fontsize=20);\n",
    "ax6.spines['right'].set_visible(False)\n",
    "ax6.spines['top'].set_visible(False)\n",
    "\n",
    "ax4 = fig.add_subplot(gs[1,2])\n",
    "ef = df.loc['Delhi'].rename_axis('date').reset_index()\n",
    "ef['date'] = ef['date'].astype('datetime64[ns]')\n",
    "ax4.bar(ef.date, ef.Delhi,color = '#007acc',alpha=0.5)\n",
    "ax4.set_xticks([])\n",
    "ax4.xaxis.set_major_locator(mdates.WeekdayLocator())\n",
    "ax4.xaxis.set_major_formatter(mdates.DateFormatter('%b %d'))\n",
    "ax4.set_xticks(ax4.get_xticks()[::3])\n",
    "ax4.spines['right'].set_visible(False)\n",
    "ax4.spines['top'].set_visible(False)\n",
    "\n",
    "ax4.text(0.05, 1,'Delhi', transform = ax4.transAxes, fontsize=20)\n",
    "\n",
    "for i in range(n):\n",
    "    \n",
    "    ax.append(fig.add_subplot(gs[i+2,:]))\n",
    "    ef = df.iloc[i+3].rename_axis('date').reset_index()\n",
    "    ef['date'] = ef['date'].astype('datetime64[ns]')\n",
    "    ax[i].bar(ef.date,ef.iloc[:,-1],color = '#007acc',alpha=0.3)\n",
    "    ax[i].plot(ef.date,ef.iloc[:,-1],marker='o',color='#007acc')\n",
    "    ax[i].text(0.02,0.5,f'{ef.columns.values[-1]}',transform = ax[i].transAxes, fontsize = 20);\n",
    "    ax[i].xaxis.set_major_locator(mdates.WeekdayLocator())\n",
    "    ax[i].xaxis.set_major_formatter(mdates.DateFormatter('%b %d'))\n",
    "    ax[i].set_ylim([0,7000])\n",
    "    ax[i].spines['right'].set_visible(False)\n",
    "    ax[i].spines['top'].set_visible(False)\n",
    "plt.tight_layout()\n"
   ]
  },
  {
   "cell_type": "code",
   "execution_count": 20,
   "metadata": {
    "execution": {
     "iopub.execute_input": "2020-10-19T06:53:19.507706Z",
     "iopub.status.busy": "2020-10-19T06:53:19.507064Z",
     "iopub.status.idle": "2020-10-19T06:53:19.509553Z",
     "shell.execute_reply": "2020-10-19T06:53:19.510018Z"
    },
    "papermill": {
     "duration": 0.034135,
     "end_time": "2020-10-19T06:53:19.510165",
     "exception": false,
     "start_time": "2020-10-19T06:53:19.476030",
     "status": "completed"
    },
    "tags": []
   },
   "outputs": [
    {
     "name": "stdout",
     "output_type": "stream",
     "text": [
      "                                   states    Cases  Deaths   PCases  PDeaths  Cases (+)  Deaths (+)  Fatality Rate\n",
      "                              Maharashtra  1595381   42115  1595381    42115          0           0           2.64\n",
      "                           Andhra Pradesh   783132    6429   783132     6429          0           0           0.82\n",
      "                                Karnataka   765586   10478   765586    10478          0           0           1.37\n",
      "                               Tamil Nadu   687400   10642   687400    10642          0           0           1.55\n",
      "                            Uttar Pradesh   455146    6658   455146     6658          0           0           1.46\n",
      "                                   Kerala   341860    1162   341860     1162          0           0           0.34\n",
      "                                    Delhi   331017    6009   331017     6009          0           0           1.82\n",
      "                              West Bengal   321036    6056   321036     6056          0           0           1.89\n",
      "                                   Odisha   268364    1188   268364     1188          0           0           0.44\n",
      "                                Telangana   223059    1275   222111     1271        948           4           0.57\n",
      "                                    Bihar   204212     996   204212      996          0           0           0.49\n",
      "                                    Assam   200709     868   200709      868          0           0           0.43\n",
      "                                Rajasthan   173266    1748   173266     1748          0           0           1.01\n",
      "                             Chhattisgarh   160396    1478   160396     1478          0           0           0.92\n",
      "                           Madhya Pradesh   160188    2773   160188     2773          0           0           1.73\n",
      "                                  Gujarat   159726    3638   159726     3638          0           0           2.28\n",
      "                                  Haryana   150033    1640   150033     1640          0           0           1.09\n",
      "                                   Punjab   127630    4012   127630     4012          0           0           3.14\n",
      "                                Jharkhand    96352     839    96352      839          0           0           0.87\n",
      "                        Jammu and Kashmir    87942    1379    87942     1379          0           0           1.57\n",
      "                              Uttarakhand    58024     927    58024      927          0           0           1.60\n",
      "                                      Goa    40587     544    40587      544          0           0           1.34\n",
      "                               Puducherry    33141     574    33141      574          0           0           1.73\n",
      "                                  Tripura    29550     328    29465      326         85           2           1.11\n",
      "                         Himachal Pradesh    18967     263    18967      263          0           0           1.39\n",
      "                                  Manipur    15463     116    15463      116          0           0           0.75\n",
      "                               Chandigarh    13646     208    13646      208          0           0           1.52\n",
      "                        Arunachal Pradesh    13406      30    13406       30          0           0           0.22\n",
      "                                Meghalaya     8508      75     8508       75          0           0           0.88\n",
      "                                 Nagaland     7816      21     7816       21          0           0           0.27\n",
      "                                   Ladakh     5598      66     5598       66          0           0           1.18\n",
      "              Andaman and Nicobar Islands     4108      56     4108       56          0           0           1.36\n",
      "                                   Sikkim     3597      60     3597       60          0           0           1.67\n",
      " Dadra and Nagar Haveli and Daman and Diu     3181       2     3181        2          0           0           0.06\n",
      "                                  Mizoram     2253       0     2253        0          0           0           0.00\n",
      "                              Lakshadweep        0       0        0        0          0           0            NaN\n"
     ]
    }
   ],
   "source": [
    "#hide_input\n",
    "print(df_table.to_string(index=False))"
   ]
  },
  {
   "cell_type": "code",
   "execution_count": null,
   "metadata": {
    "papermill": {
     "duration": 0.023083,
     "end_time": "2020-10-19T06:53:19.560849",
     "exception": false,
     "start_time": "2020-10-19T06:53:19.537766",
     "status": "completed"
    },
    "tags": []
   },
   "outputs": [],
   "source": []
  },
  {
   "cell_type": "code",
   "execution_count": null,
   "metadata": {
    "papermill": {
     "duration": 0.023628,
     "end_time": "2020-10-19T06:53:19.608717",
     "exception": false,
     "start_time": "2020-10-19T06:53:19.585089",
     "status": "completed"
    },
    "tags": []
   },
   "outputs": [],
   "source": []
  }
 ],
 "metadata": {
  "kernelspec": {
   "display_name": "Python 3",
   "language": "python",
   "name": "python3"
  },
  "language_info": {
   "codemirror_mode": {
    "name": "ipython",
    "version": 3
   },
   "file_extension": ".py",
   "mimetype": "text/x-python",
   "name": "python",
   "nbconvert_exporter": "python",
   "pygments_lexer": "ipython3",
   "version": "3.6.12"
  },
  "papermill": {
   "duration": 11.30625,
   "end_time": "2020-10-19T06:53:20.900728",
   "environment_variables": {},
   "exception": null,
   "input_path": "latest.ipynb",
   "output_path": "latest.ipynb",
   "parameters": {},
   "start_time": "2020-10-19T06:53:09.594478",
   "version": "2.1.2"
  }
 },
 "nbformat": 4,
 "nbformat_minor": 4
}