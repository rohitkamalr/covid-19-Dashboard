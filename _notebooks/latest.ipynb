{
 "cells": [
  {
   "cell_type": "markdown",
   "metadata": {
    "papermill": {
     "duration": 0.025263,
     "end_time": "2020-08-25T13:19:38.033241",
     "exception": false,
     "start_time": "2020-08-25T13:19:38.007978",
     "status": "completed"
    },
    "tags": []
   },
   "source": [
    "# Latest COVID-19 India Matplotlib Overview"
   ]
  },
  {
   "cell_type": "code",
   "execution_count": 1,
   "metadata": {
    "execution": {
     "iopub.execute_input": "2020-08-25T13:19:38.374374Z",
     "iopub.status.busy": "2020-08-25T13:19:38.373774Z",
     "iopub.status.idle": "2020-08-25T13:19:38.962553Z",
     "shell.execute_reply": "2020-08-25T13:19:38.961700Z"
    },
    "papermill": {
     "duration": 0.693763,
     "end_time": "2020-08-25T13:19:38.962709",
     "exception": false,
     "start_time": "2020-08-25T13:19:38.268946",
     "status": "completed"
    },
    "tags": []
   },
   "outputs": [],
   "source": [
    "#hide\n",
    "import pandas as pd\n",
    "import numpy as np\n",
    "import requests\n",
    "import json\n",
    "import matplotlib.pyplot as plt\n",
    "import matplotlib.dates as mdates\n",
    "import matplotlib as mpl\n",
    "from IPython.core.display import display,HTML\n",
    "%matplotlib inline\n",
    "from datetime import date"
   ]
  },
  {
   "cell_type": "code",
   "execution_count": 2,
   "metadata": {
    "execution": {
     "iopub.execute_input": "2020-08-25T13:19:39.280850Z",
     "iopub.status.busy": "2020-08-25T13:19:39.280189Z",
     "iopub.status.idle": "2020-08-25T13:19:39.399156Z",
     "shell.execute_reply": "2020-08-25T13:19:39.398582Z"
    },
    "papermill": {
     "duration": 0.421782,
     "end_time": "2020-08-25T13:19:39.399345",
     "exception": false,
     "start_time": "2020-08-25T13:19:38.977563",
     "status": "completed"
    },
    "tags": []
   },
   "outputs": [],
   "source": [
    "#hide\n",
    "df  = pd.read_csv('https://api.covid19india.org/csv/latest/states.csv')\n",
    "df = df[['Date','State','Confirmed','Deceased']]\n",
    "df = df.rename(columns={'Confirmed':'Cases', \"Deceased\":'Deaths'})\n",
    "df_cases = df[[\"Date\",'State','Cases']]\n",
    "df_deaths = df[['Date','State','Deaths']]\n",
    "df_cases1 = df_cases.groupby('Date')\n",
    "df_deaths1= df_deaths.groupby('Date')"
   ]
  },
  {
   "cell_type": "code",
   "execution_count": 3,
   "metadata": {
    "execution": {
     "iopub.execute_input": "2020-08-25T13:19:39.634736Z",
     "iopub.status.busy": "2020-08-25T13:19:39.634154Z",
     "iopub.status.idle": "2020-08-25T13:19:39.650983Z",
     "shell.execute_reply": "2020-08-25T13:19:39.650504Z"
    },
    "papermill": {
     "duration": 0.037347,
     "end_time": "2020-08-25T13:19:39.651116",
     "exception": false,
     "start_time": "2020-08-25T13:19:39.613769",
     "status": "completed"
    },
    "tags": []
   },
   "outputs": [],
   "source": [
    "#hide\n",
    "df_snap = pd.read_csv('data/SnapshotCases-28-July.csv')\n",
    "arr_states = df_snap['states'].unique()\n",
    "arr_dates = df['Date'].unique()\n",
    "df_snap = df_snap.set_index('states')"
   ]
  },
  {
   "cell_type": "code",
   "execution_count": 4,
   "metadata": {
    "execution": {
     "iopub.execute_input": "2020-08-25T13:19:39.690444Z",
     "iopub.status.busy": "2020-08-25T13:19:39.689820Z",
     "iopub.status.idle": "2020-08-25T13:19:39.692904Z",
     "shell.execute_reply": "2020-08-25T13:19:39.692302Z"
    },
    "papermill": {
     "duration": 0.027557,
     "end_time": "2020-08-25T13:19:39.693037",
     "exception": false,
     "start_time": "2020-08-25T13:19:39.665480",
     "status": "completed"
    },
    "tags": []
   },
   "outputs": [
    {
     "data": {
      "text/plain": [
       "array(['Andaman and Nicobar Islands', 'Andhra Pradesh',\n",
       "       'Arunachal Pradesh', 'Assam', 'Bihar', 'Chandigarh',\n",
       "       'Dadra and Nagar Haveli and Daman and Diu', 'Delhi', 'Goa',\n",
       "       'Gujarat', 'Haryana', 'Himachal Pradesh', 'Jammu and Kashmir',\n",
       "       'Jharkhand', 'Karnataka', 'Kerala', 'Lakshadweep',\n",
       "       'Madhya Pradesh', 'Maharashtra', 'Manipur', 'Meghalaya', 'Mizoram',\n",
       "       'Nagaland', 'Odisha', 'Puducherry', 'Punjab', 'Rajasthan',\n",
       "       'Sikkim', 'Tamil Nadu', 'Telangana', 'Tripura', 'Uttar Pradesh',\n",
       "       'West Bengal', 'Chhattisgarh', 'Ladakh', 'Uttarakhand'],\n",
       "      dtype=object)"
      ]
     },
     "execution_count": 4,
     "metadata": {},
     "output_type": "execute_result"
    }
   ],
   "source": [
    "#hide\n",
    "arr_states[-9] = 'Puducherry'\n",
    "arr_states[-10] = 'Odisha'\n",
    "arr_states[6] = 'Dadra and Nagar Haveli and Daman and Diu'\n",
    "arr_states = np.append(arr_states,np.array(['Chhattisgarh','Ladakh','Uttarakhand']))\n",
    "arr_states"
   ]
  },
  {
   "cell_type": "code",
   "execution_count": 5,
   "metadata": {
    "execution": {
     "iopub.execute_input": "2020-08-25T13:19:39.736433Z",
     "iopub.status.busy": "2020-08-25T13:19:39.735811Z",
     "iopub.status.idle": "2020-08-25T13:19:39.742120Z",
     "shell.execute_reply": "2020-08-25T13:19:39.742682Z"
    },
    "papermill": {
     "duration": 0.032362,
     "end_time": "2020-08-25T13:19:39.742830",
     "exception": false,
     "start_time": "2020-08-25T13:19:39.710468",
     "status": "completed"
    },
    "tags": []
   },
   "outputs": [],
   "source": [
    "#hide\n",
    "dates = []\n",
    "for i in arr_dates:\n",
    "    if i>='2020-07-01':\n",
    "        dates.append(i)\n",
    "dict = {'states':dates}\n",
    "for i in arr_states:\n",
    "    dict[i] = [0]*len(dates)\n",
    "dft_cases = pd.DataFrame(dict)\n",
    "dft_deaths = pd.DataFrame(dict)\n"
   ]
  },
  {
   "cell_type": "code",
   "execution_count": 6,
   "metadata": {
    "execution": {
     "iopub.execute_input": "2020-08-25T13:19:39.780022Z",
     "iopub.status.busy": "2020-08-25T13:19:39.779353Z",
     "iopub.status.idle": "2020-08-25T13:19:40.691458Z",
     "shell.execute_reply": "2020-08-25T13:19:40.690869Z"
    },
    "papermill": {
     "duration": 0.933168,
     "end_time": "2020-08-25T13:19:40.691609",
     "exception": false,
     "start_time": "2020-08-25T13:19:39.758441",
     "status": "completed"
    },
    "tags": []
   },
   "outputs": [],
   "source": [
    "#hide\n",
    "for i in range(len(dates)):\n",
    "    df1_deaths = df_deaths1.get_group(dates[i])\n",
    "    for j in range(len(df1_deaths.index)):\n",
    "        if df1_deaths.iloc[j,1] in arr_states:\n",
    "            dft_deaths.loc[i,df1_deaths.iloc[j,1]] = df1_deaths.iloc[j,2]\n",
    "dft_deaths = dft_deaths.set_index('states')"
   ]
  },
  {
   "cell_type": "code",
   "execution_count": 7,
   "metadata": {
    "execution": {
     "iopub.execute_input": "2020-08-25T13:19:40.731675Z",
     "iopub.status.busy": "2020-08-25T13:19:40.730763Z",
     "iopub.status.idle": "2020-08-25T13:19:41.662445Z",
     "shell.execute_reply": "2020-08-25T13:19:41.661932Z"
    },
    "papermill": {
     "duration": 0.954632,
     "end_time": "2020-08-25T13:19:41.662586",
     "exception": false,
     "start_time": "2020-08-25T13:19:40.707954",
     "status": "completed"
    },
    "tags": []
   },
   "outputs": [],
   "source": [
    "#hide\n",
    "for i in range(len(dates)):\n",
    "    df1_cases = df_cases1.get_group(dates[i])\n",
    "    for j in range(len(df1_cases.index)):\n",
    "        if df1_cases.iloc[j,1] in arr_states:\n",
    "            dft_cases.loc[i,df1_cases.iloc[j,1]] = df1_cases.iloc[j,2]\n",
    "dft_cases = dft_cases.set_index('states')"
   ]
  },
  {
   "cell_type": "code",
   "execution_count": 8,
   "metadata": {
    "execution": {
     "iopub.execute_input": "2020-08-25T13:19:41.701481Z",
     "iopub.status.busy": "2020-08-25T13:19:41.699615Z",
     "iopub.status.idle": "2020-08-25T13:19:41.702208Z",
     "shell.execute_reply": "2020-08-25T13:19:41.702694Z"
    },
    "papermill": {
     "duration": 0.024943,
     "end_time": "2020-08-25T13:19:41.702851",
     "exception": false,
     "start_time": "2020-08-25T13:19:41.677908",
     "status": "completed"
    },
    "tags": []
   },
   "outputs": [],
   "source": [
    "#hide\n",
    "dft_cases = dft_cases.T\n",
    "dft_deaths = dft_deaths.T\n",
    "dt_today = dates[-1]\n",
    "dt_yday = dates[-2]"
   ]
  },
  {
   "cell_type": "code",
   "execution_count": 9,
   "metadata": {
    "execution": {
     "iopub.execute_input": "2020-08-25T13:19:41.743148Z",
     "iopub.status.busy": "2020-08-25T13:19:41.742538Z",
     "iopub.status.idle": "2020-08-25T13:19:41.744407Z",
     "shell.execute_reply": "2020-08-25T13:19:41.744864Z"
    },
    "papermill": {
     "duration": 0.025966,
     "end_time": "2020-08-25T13:19:41.745011",
     "exception": false,
     "start_time": "2020-08-25T13:19:41.719045",
     "status": "completed"
    },
    "tags": []
   },
   "outputs": [],
   "source": [
    "#hide\n",
    "dft_cases = dft_cases.reset_index()\n",
    "dft_deaths = dft_deaths.reset_index()\n",
    "dft_cases = dft_cases.rename(columns = {'index':'state'})\n",
    "dft_deaths = dft_deaths.rename(columns = {'index':'state'})"
   ]
  },
  {
   "cell_type": "code",
   "execution_count": 10,
   "metadata": {
    "execution": {
     "iopub.execute_input": "2020-08-25T13:19:41.781286Z",
     "iopub.status.busy": "2020-08-25T13:19:41.780693Z",
     "iopub.status.idle": "2020-08-25T13:19:41.788442Z",
     "shell.execute_reply": "2020-08-25T13:19:41.788949Z"
    },
    "papermill": {
     "duration": 0.028973,
     "end_time": "2020-08-25T13:19:41.789095",
     "exception": false,
     "start_time": "2020-08-25T13:19:41.760122",
     "status": "completed"
    },
    "tags": []
   },
   "outputs": [],
   "source": [
    "#hide\n",
    "dfc_cases = dft_cases.groupby('state')[dt_today].sum()\n",
    "dfc_deaths = dft_deaths.groupby('state')[dt_today].sum()\n",
    "dfp_cases = dft_cases.groupby('state')[dt_yday].sum()\n",
    "dfp_deaths = dft_deaths.groupby('state')[dt_yday].sum()"
   ]
  },
  {
   "cell_type": "code",
   "execution_count": 11,
   "metadata": {
    "execution": {
     "iopub.execute_input": "2020-08-25T13:19:41.826419Z",
     "iopub.status.busy": "2020-08-25T13:19:41.825806Z",
     "iopub.status.idle": "2020-08-25T13:19:41.839035Z",
     "shell.execute_reply": "2020-08-25T13:19:41.838569Z"
    },
    "papermill": {
     "duration": 0.035074,
     "end_time": "2020-08-25T13:19:41.839162",
     "exception": false,
     "start_time": "2020-08-25T13:19:41.804088",
     "status": "completed"
    },
    "tags": []
   },
   "outputs": [
    {
     "data": {
      "text/html": [
       "<div>\n",
       "<style scoped>\n",
       "    .dataframe tbody tr th:only-of-type {\n",
       "        vertical-align: middle;\n",
       "    }\n",
       "\n",
       "    .dataframe tbody tr th {\n",
       "        vertical-align: top;\n",
       "    }\n",
       "\n",
       "    .dataframe thead th {\n",
       "        text-align: right;\n",
       "    }\n",
       "</style>\n",
       "<table border=\"1\" class=\"dataframe\">\n",
       "  <thead>\n",
       "    <tr style=\"text-align: right;\">\n",
       "      <th></th>\n",
       "      <th>states</th>\n",
       "      <th>Cases</th>\n",
       "      <th>Deaths</th>\n",
       "      <th>PCases</th>\n",
       "      <th>PDeaths</th>\n",
       "    </tr>\n",
       "  </thead>\n",
       "  <tbody>\n",
       "    <tr>\n",
       "      <th>0</th>\n",
       "      <td>Maharashtra</td>\n",
       "      <td>693398</td>\n",
       "      <td>22465</td>\n",
       "      <td>693398</td>\n",
       "      <td>22465</td>\n",
       "    </tr>\n",
       "    <tr>\n",
       "      <th>1</th>\n",
       "      <td>Tamil Nadu</td>\n",
       "      <td>385352</td>\n",
       "      <td>6614</td>\n",
       "      <td>385352</td>\n",
       "      <td>6614</td>\n",
       "    </tr>\n",
       "    <tr>\n",
       "      <th>2</th>\n",
       "      <td>Andhra Pradesh</td>\n",
       "      <td>361712</td>\n",
       "      <td>3368</td>\n",
       "      <td>361712</td>\n",
       "      <td>3368</td>\n",
       "    </tr>\n",
       "    <tr>\n",
       "      <th>3</th>\n",
       "      <td>Karnataka</td>\n",
       "      <td>283665</td>\n",
       "      <td>4810</td>\n",
       "      <td>283665</td>\n",
       "      <td>4810</td>\n",
       "    </tr>\n",
       "    <tr>\n",
       "      <th>4</th>\n",
       "      <td>Uttar Pradesh</td>\n",
       "      <td>192382</td>\n",
       "      <td>2987</td>\n",
       "      <td>192382</td>\n",
       "      <td>2987</td>\n",
       "    </tr>\n",
       "  </tbody>\n",
       "</table>\n",
       "</div>"
      ],
      "text/plain": [
       "           states   Cases  Deaths  PCases  PDeaths\n",
       "0     Maharashtra  693398   22465  693398    22465\n",
       "1      Tamil Nadu  385352    6614  385352     6614\n",
       "2  Andhra Pradesh  361712    3368  361712     3368\n",
       "3       Karnataka  283665    4810  283665     4810\n",
       "4   Uttar Pradesh  192382    2987  192382     2987"
      ]
     },
     "execution_count": 11,
     "metadata": {},
     "output_type": "execute_result"
    }
   ],
   "source": [
    "#hide\n",
    "df_table = pd.DataFrame({'states': dfc_cases.index, 'Cases': dfc_cases.values, 'Deaths': dfc_deaths.values, 'PCases': dfp_cases.values, 'PDeaths': dfp_deaths.values}).set_index('states')\n",
    "df_table = df_table.sort_values(by = ['Cases','Deaths'], ascending = [False, False])\n",
    "df_table = df_table.reset_index()\n",
    "df_table.head()"
   ]
  },
  {
   "cell_type": "code",
   "execution_count": 12,
   "metadata": {
    "execution": {
     "iopub.execute_input": "2020-08-25T13:19:41.875527Z",
     "iopub.status.busy": "2020-08-25T13:19:41.874908Z",
     "iopub.status.idle": "2020-08-25T13:19:41.883634Z",
     "shell.execute_reply": "2020-08-25T13:19:41.883097Z"
    },
    "papermill": {
     "duration": 0.029153,
     "end_time": "2020-08-25T13:19:41.883764",
     "exception": false,
     "start_time": "2020-08-25T13:19:41.854611",
     "status": "completed"
    },
    "tags": []
   },
   "outputs": [],
   "source": [
    "#hide\n",
    "for c in 'Cases, Deaths'.split(', '):\n",
    "    df_table[f'{c} (+)'] = (df_table[c] - df_table[f'P{c}']).clip(0)\n",
    "df_table['Fatality Rate'] = (100* df_table['Deaths']/ df_table['Cases']).round(2)"
   ]
  },
  {
   "cell_type": "code",
   "execution_count": 13,
   "metadata": {
    "execution": {
     "iopub.execute_input": "2020-08-25T13:19:41.925027Z",
     "iopub.status.busy": "2020-08-25T13:19:41.924418Z",
     "iopub.status.idle": "2020-08-25T13:19:41.926777Z",
     "shell.execute_reply": "2020-08-25T13:19:41.927358Z"
    },
    "papermill": {
     "duration": 0.028862,
     "end_time": "2020-08-25T13:19:41.927506",
     "exception": false,
     "start_time": "2020-08-25T13:19:41.898644",
     "status": "completed"
    },
    "tags": []
   },
   "outputs": [
    {
     "data": {
      "text/html": [
       "<div>\n",
       "<style scoped>\n",
       "    .dataframe tbody tr th:only-of-type {\n",
       "        vertical-align: middle;\n",
       "    }\n",
       "\n",
       "    .dataframe tbody tr th {\n",
       "        vertical-align: top;\n",
       "    }\n",
       "\n",
       "    .dataframe thead th {\n",
       "        text-align: right;\n",
       "    }\n",
       "</style>\n",
       "<table border=\"1\" class=\"dataframe\">\n",
       "  <thead>\n",
       "    <tr style=\"text-align: right;\">\n",
       "      <th></th>\n",
       "      <th>states</th>\n",
       "      <th>Cases</th>\n",
       "      <th>Deaths</th>\n",
       "      <th>PCases</th>\n",
       "      <th>PDeaths</th>\n",
       "      <th>Cases (+)</th>\n",
       "      <th>Deaths (+)</th>\n",
       "      <th>Fatality Rate</th>\n",
       "    </tr>\n",
       "  </thead>\n",
       "  <tbody>\n",
       "    <tr>\n",
       "      <th>0</th>\n",
       "      <td>Maharashtra</td>\n",
       "      <td>693398</td>\n",
       "      <td>22465</td>\n",
       "      <td>693398</td>\n",
       "      <td>22465</td>\n",
       "      <td>0</td>\n",
       "      <td>0</td>\n",
       "      <td>3.24</td>\n",
       "    </tr>\n",
       "    <tr>\n",
       "      <th>1</th>\n",
       "      <td>Tamil Nadu</td>\n",
       "      <td>385352</td>\n",
       "      <td>6614</td>\n",
       "      <td>385352</td>\n",
       "      <td>6614</td>\n",
       "      <td>0</td>\n",
       "      <td>0</td>\n",
       "      <td>1.72</td>\n",
       "    </tr>\n",
       "    <tr>\n",
       "      <th>2</th>\n",
       "      <td>Andhra Pradesh</td>\n",
       "      <td>361712</td>\n",
       "      <td>3368</td>\n",
       "      <td>361712</td>\n",
       "      <td>3368</td>\n",
       "      <td>0</td>\n",
       "      <td>0</td>\n",
       "      <td>0.93</td>\n",
       "    </tr>\n",
       "    <tr>\n",
       "      <th>3</th>\n",
       "      <td>Karnataka</td>\n",
       "      <td>283665</td>\n",
       "      <td>4810</td>\n",
       "      <td>283665</td>\n",
       "      <td>4810</td>\n",
       "      <td>0</td>\n",
       "      <td>0</td>\n",
       "      <td>1.70</td>\n",
       "    </tr>\n",
       "    <tr>\n",
       "      <th>4</th>\n",
       "      <td>Uttar Pradesh</td>\n",
       "      <td>192382</td>\n",
       "      <td>2987</td>\n",
       "      <td>192382</td>\n",
       "      <td>2987</td>\n",
       "      <td>0</td>\n",
       "      <td>0</td>\n",
       "      <td>1.55</td>\n",
       "    </tr>\n",
       "  </tbody>\n",
       "</table>\n",
       "</div>"
      ],
      "text/plain": [
       "           states   Cases  Deaths  PCases  PDeaths  Cases (+)  Deaths (+)  \\\n",
       "0     Maharashtra  693398   22465  693398    22465          0           0   \n",
       "1      Tamil Nadu  385352    6614  385352     6614          0           0   \n",
       "2  Andhra Pradesh  361712    3368  361712     3368          0           0   \n",
       "3       Karnataka  283665    4810  283665     4810          0           0   \n",
       "4   Uttar Pradesh  192382    2987  192382     2987          0           0   \n",
       "\n",
       "   Fatality Rate  \n",
       "0           3.24  \n",
       "1           1.72  \n",
       "2           0.93  \n",
       "3           1.70  \n",
       "4           1.55  "
      ]
     },
     "execution_count": 13,
     "metadata": {},
     "output_type": "execute_result"
    }
   ],
   "source": [
    "#hide\n",
    "df_table.head()"
   ]
  },
  {
   "cell_type": "code",
   "execution_count": 14,
   "metadata": {
    "execution": {
     "iopub.execute_input": "2020-08-25T13:19:41.969050Z",
     "iopub.status.busy": "2020-08-25T13:19:41.968424Z",
     "iopub.status.idle": "2020-08-25T13:19:41.984685Z",
     "shell.execute_reply": "2020-08-25T13:19:41.985165Z"
    },
    "papermill": {
     "duration": 0.038975,
     "end_time": "2020-08-25T13:19:41.985322",
     "exception": false,
     "start_time": "2020-08-25T13:19:41.946347",
     "status": "completed"
    },
    "tags": []
   },
   "outputs": [
    {
     "data": {
      "text/plain": [
       "{'updated': '2020-08-25',\n",
       " 'since': '2020-08-24',\n",
       " 'Cases': 3172077,\n",
       " 'PCases': 3164881,\n",
       " 'Deaths': 58592,\n",
       " 'PDeaths': 58546,\n",
       " 'Cases (+)': 7196,\n",
       " 'Deaths (+)': 46}"
      ]
     },
     "execution_count": 14,
     "metadata": {},
     "output_type": "execute_result"
    }
   ],
   "source": [
    "#hide\n",
    "summary = {'updated':dates[-1], 'since':dates[-2]}\n",
    "list_names = ['Cases', 'PCases', 'Deaths', 'PDeaths', 'Cases (+)', 'Deaths (+)']\n",
    "for name in list_names:\n",
    "    summary[name] = df_table.sum()[name]\n",
    "summary"
   ]
  },
  {
   "cell_type": "code",
   "execution_count": 15,
   "metadata": {
    "execution": {
     "iopub.execute_input": "2020-08-25T13:19:42.024714Z",
     "iopub.status.busy": "2020-08-25T13:19:42.023974Z",
     "iopub.status.idle": "2020-08-25T13:19:42.026745Z",
     "shell.execute_reply": "2020-08-25T13:19:42.026129Z"
    },
    "papermill": {
     "duration": 0.024912,
     "end_time": "2020-08-25T13:19:42.026892",
     "exception": false,
     "start_time": "2020-08-25T13:19:42.001980",
     "status": "completed"
    },
    "tags": []
   },
   "outputs": [],
   "source": [
    "#hide\n",
    "overview = '''\n",
    "<!-- #######  HTML!! #########-->\n",
    "<h1 style=\"color: #5e9ca0; text-align: center;\">India</h1>\n",
    "<p style=\"text-align: center;\">Last update: <strong>{update}</strong></p>\n",
    "<p style=\"text-align: center;\">Confirmed cases:</p>\n",
    "<p style=\"text-align: center;font-size:24px;\">{cases} (<span style=\"color: #ff0000;\">+{new}</span>)</p>\n",
    "<p style=\"text-align: center;\">Confirmed deaths:</p>\n",
    "<p style=\"text-align: center;font-size:24px;\">{deaths} (<span style=\"color: #ff0000;\">+{dnew}</span>)</p>\n",
    "'''"
   ]
  },
  {
   "cell_type": "code",
   "execution_count": 16,
   "metadata": {
    "execution": {
     "iopub.execute_input": "2020-08-25T13:19:42.068611Z",
     "iopub.status.busy": "2020-08-25T13:19:42.067999Z",
     "iopub.status.idle": "2020-08-25T13:19:42.071149Z",
     "shell.execute_reply": "2020-08-25T13:19:42.070514Z"
    },
    "papermill": {
     "duration": 0.027085,
     "end_time": "2020-08-25T13:19:42.071314",
     "exception": false,
     "start_time": "2020-08-25T13:19:42.044229",
     "status": "completed"
    },
    "tags": []
   },
   "outputs": [
    {
     "data": {
      "text/html": [
       "\n",
       "<!-- #######  HTML!! #########-->\n",
       "<h1 style=\"color: #5e9ca0; text-align: center;\">India</h1>\n",
       "<p style=\"text-align: center;\">Last update: <strong>2020-08-25</strong></p>\n",
       "<p style=\"text-align: center;\">Confirmed cases:</p>\n",
       "<p style=\"text-align: center;font-size:24px;\">3172077 (<span style=\"color: #ff0000;\">+7196</span>)</p>\n",
       "<p style=\"text-align: center;\">Confirmed deaths:</p>\n",
       "<p style=\"text-align: center;font-size:24px;\">58592 (<span style=\"color: #ff0000;\">+46</span>)</p>\n"
      ],
      "text/plain": [
       "<IPython.core.display.HTML object>"
      ]
     },
     "metadata": {},
     "output_type": "display_data"
    }
   ],
   "source": [
    "#hide_input\n",
    "update = summary['updated']\n",
    "cases = summary['Cases']\n",
    "new = summary['Cases (+)']\n",
    "deaths = summary['Deaths']\n",
    "dnew = summary['Deaths (+)']\n",
    "\n",
    "html = HTML(overview.format(update=update, cases=cases,new=new,deaths=deaths,dnew=dnew))\n",
    "\n",
    "display(html)"
   ]
  },
  {
   "cell_type": "code",
   "execution_count": 17,
   "metadata": {
    "execution": {
     "iopub.execute_input": "2020-08-25T13:19:42.113456Z",
     "iopub.status.busy": "2020-08-25T13:19:42.112843Z",
     "iopub.status.idle": "2020-08-25T13:19:42.118128Z",
     "shell.execute_reply": "2020-08-25T13:19:42.117570Z"
    },
    "papermill": {
     "duration": 0.030078,
     "end_time": "2020-08-25T13:19:42.118298",
     "exception": false,
     "start_time": "2020-08-25T13:19:42.088220",
     "status": "completed"
    },
    "tags": []
   },
   "outputs": [],
   "source": [
    "#hide\n",
    "dt_cols = list(dft_cases.columns[1:])\n",
    "dft_ct_new_cases = dft_cases.groupby('state')[dt_cols].sum().diff(axis=1).fillna(0).astype(int)\n",
    "dft_ct_new_cases.sort_values(by = dates[-1], ascending = False,inplace = True)"
   ]
  },
  {
   "cell_type": "code",
   "execution_count": 18,
   "metadata": {
    "execution": {
     "iopub.execute_input": "2020-08-25T13:19:42.169808Z",
     "iopub.status.busy": "2020-08-25T13:19:42.169102Z",
     "iopub.status.idle": "2020-08-25T13:19:42.172015Z",
     "shell.execute_reply": "2020-08-25T13:19:42.172532Z"
    },
    "papermill": {
     "duration": 0.037339,
     "end_time": "2020-08-25T13:19:42.172686",
     "exception": false,
     "start_time": "2020-08-25T13:19:42.135347",
     "status": "completed"
    },
    "tags": []
   },
   "outputs": [
    {
     "data": {
      "text/html": [
       "<div>\n",
       "<style scoped>\n",
       "    .dataframe tbody tr th:only-of-type {\n",
       "        vertical-align: middle;\n",
       "    }\n",
       "\n",
       "    .dataframe tbody tr th {\n",
       "        vertical-align: top;\n",
       "    }\n",
       "\n",
       "    .dataframe thead th {\n",
       "        text-align: right;\n",
       "    }\n",
       "</style>\n",
       "<table border=\"1\" class=\"dataframe\">\n",
       "  <thead>\n",
       "    <tr style=\"text-align: right;\">\n",
       "      <th>states</th>\n",
       "      <th>2020-07-01</th>\n",
       "      <th>2020-07-02</th>\n",
       "      <th>2020-07-03</th>\n",
       "      <th>2020-07-04</th>\n",
       "      <th>2020-07-05</th>\n",
       "      <th>2020-07-06</th>\n",
       "      <th>2020-07-07</th>\n",
       "      <th>2020-07-08</th>\n",
       "      <th>2020-07-09</th>\n",
       "      <th>2020-07-10</th>\n",
       "      <th>...</th>\n",
       "      <th>2020-08-16</th>\n",
       "      <th>2020-08-17</th>\n",
       "      <th>2020-08-18</th>\n",
       "      <th>2020-08-19</th>\n",
       "      <th>2020-08-20</th>\n",
       "      <th>2020-08-21</th>\n",
       "      <th>2020-08-22</th>\n",
       "      <th>2020-08-23</th>\n",
       "      <th>2020-08-24</th>\n",
       "      <th>2020-08-25</th>\n",
       "    </tr>\n",
       "    <tr>\n",
       "      <th>state</th>\n",
       "      <th></th>\n",
       "      <th></th>\n",
       "      <th></th>\n",
       "      <th></th>\n",
       "      <th></th>\n",
       "      <th></th>\n",
       "      <th></th>\n",
       "      <th></th>\n",
       "      <th></th>\n",
       "      <th></th>\n",
       "      <th></th>\n",
       "      <th></th>\n",
       "      <th></th>\n",
       "      <th></th>\n",
       "      <th></th>\n",
       "      <th></th>\n",
       "      <th></th>\n",
       "      <th></th>\n",
       "      <th></th>\n",
       "      <th></th>\n",
       "      <th></th>\n",
       "    </tr>\n",
       "  </thead>\n",
       "  <tbody>\n",
       "    <tr>\n",
       "      <th>Odisha</th>\n",
       "      <td>0</td>\n",
       "      <td>229</td>\n",
       "      <td>561</td>\n",
       "      <td>495</td>\n",
       "      <td>469</td>\n",
       "      <td>456</td>\n",
       "      <td>571</td>\n",
       "      <td>527</td>\n",
       "      <td>577</td>\n",
       "      <td>755</td>\n",
       "      <td>...</td>\n",
       "      <td>2924</td>\n",
       "      <td>2244</td>\n",
       "      <td>2239</td>\n",
       "      <td>2589</td>\n",
       "      <td>2898</td>\n",
       "      <td>2698</td>\n",
       "      <td>2819</td>\n",
       "      <td>2993</td>\n",
       "      <td>2949</td>\n",
       "      <td>2752</td>\n",
       "    </tr>\n",
       "    <tr>\n",
       "      <th>Telangana</th>\n",
       "      <td>0</td>\n",
       "      <td>1213</td>\n",
       "      <td>1892</td>\n",
       "      <td>1850</td>\n",
       "      <td>1590</td>\n",
       "      <td>1831</td>\n",
       "      <td>1879</td>\n",
       "      <td>1924</td>\n",
       "      <td>1410</td>\n",
       "      <td>1278</td>\n",
       "      <td>...</td>\n",
       "      <td>1102</td>\n",
       "      <td>894</td>\n",
       "      <td>1682</td>\n",
       "      <td>1763</td>\n",
       "      <td>1724</td>\n",
       "      <td>1967</td>\n",
       "      <td>2474</td>\n",
       "      <td>2384</td>\n",
       "      <td>1842</td>\n",
       "      <td>2579</td>\n",
       "    </tr>\n",
       "    <tr>\n",
       "      <th>Jammu and Kashmir</th>\n",
       "      <td>0</td>\n",
       "      <td>154</td>\n",
       "      <td>170</td>\n",
       "      <td>227</td>\n",
       "      <td>183</td>\n",
       "      <td>246</td>\n",
       "      <td>256</td>\n",
       "      <td>330</td>\n",
       "      <td>240</td>\n",
       "      <td>387</td>\n",
       "      <td>...</td>\n",
       "      <td>449</td>\n",
       "      <td>422</td>\n",
       "      <td>434</td>\n",
       "      <td>708</td>\n",
       "      <td>683</td>\n",
       "      <td>654</td>\n",
       "      <td>610</td>\n",
       "      <td>666</td>\n",
       "      <td>428</td>\n",
       "      <td>701</td>\n",
       "    </tr>\n",
       "    <tr>\n",
       "      <th>Rajasthan</th>\n",
       "      <td>0</td>\n",
       "      <td>350</td>\n",
       "      <td>390</td>\n",
       "      <td>480</td>\n",
       "      <td>632</td>\n",
       "      <td>524</td>\n",
       "      <td>716</td>\n",
       "      <td>659</td>\n",
       "      <td>500</td>\n",
       "      <td>611</td>\n",
       "      <td>...</td>\n",
       "      <td>1317</td>\n",
       "      <td>1334</td>\n",
       "      <td>1347</td>\n",
       "      <td>1312</td>\n",
       "      <td>1330</td>\n",
       "      <td>1335</td>\n",
       "      <td>1310</td>\n",
       "      <td>1345</td>\n",
       "      <td>1346</td>\n",
       "      <td>695</td>\n",
       "    </tr>\n",
       "    <tr>\n",
       "      <th>Tripura</th>\n",
       "      <td>0</td>\n",
       "      <td>39</td>\n",
       "      <td>93</td>\n",
       "      <td>25</td>\n",
       "      <td>23</td>\n",
       "      <td>111</td>\n",
       "      <td>24</td>\n",
       "      <td>57</td>\n",
       "      <td>16</td>\n",
       "      <td>142</td>\n",
       "      <td>...</td>\n",
       "      <td>127</td>\n",
       "      <td>143</td>\n",
       "      <td>205</td>\n",
       "      <td>236</td>\n",
       "      <td>190</td>\n",
       "      <td>256</td>\n",
       "      <td>280</td>\n",
       "      <td>331</td>\n",
       "      <td>200</td>\n",
       "      <td>293</td>\n",
       "    </tr>\n",
       "  </tbody>\n",
       "</table>\n",
       "<p>5 rows × 56 columns</p>\n",
       "</div>"
      ],
      "text/plain": [
       "states             2020-07-01  2020-07-02  2020-07-03  2020-07-04  2020-07-05  \\\n",
       "state                                                                           \n",
       "Odisha                      0         229         561         495         469   \n",
       "Telangana                   0        1213        1892        1850        1590   \n",
       "Jammu and Kashmir           0         154         170         227         183   \n",
       "Rajasthan                   0         350         390         480         632   \n",
       "Tripura                     0          39          93          25          23   \n",
       "\n",
       "states             2020-07-06  2020-07-07  2020-07-08  2020-07-09  2020-07-10  \\\n",
       "state                                                                           \n",
       "Odisha                    456         571         527         577         755   \n",
       "Telangana                1831        1879        1924        1410        1278   \n",
       "Jammu and Kashmir         246         256         330         240         387   \n",
       "Rajasthan                 524         716         659         500         611   \n",
       "Tripura                   111          24          57          16         142   \n",
       "\n",
       "states             ...  2020-08-16  2020-08-17  2020-08-18  2020-08-19  \\\n",
       "state              ...                                                   \n",
       "Odisha             ...        2924        2244        2239        2589   \n",
       "Telangana          ...        1102         894        1682        1763   \n",
       "Jammu and Kashmir  ...         449         422         434         708   \n",
       "Rajasthan          ...        1317        1334        1347        1312   \n",
       "Tripura            ...         127         143         205         236   \n",
       "\n",
       "states             2020-08-20  2020-08-21  2020-08-22  2020-08-23  2020-08-24  \\\n",
       "state                                                                           \n",
       "Odisha                   2898        2698        2819        2993        2949   \n",
       "Telangana                1724        1967        2474        2384        1842   \n",
       "Jammu and Kashmir         683         654         610         666         428   \n",
       "Rajasthan                1330        1335        1310        1345        1346   \n",
       "Tripura                   190         256         280         331         200   \n",
       "\n",
       "states             2020-08-25  \n",
       "state                          \n",
       "Odisha                   2752  \n",
       "Telangana                2579  \n",
       "Jammu and Kashmir         701  \n",
       "Rajasthan                 695  \n",
       "Tripura                   293  \n",
       "\n",
       "[5 rows x 56 columns]"
      ]
     },
     "execution_count": 18,
     "metadata": {},
     "output_type": "execute_result"
    }
   ],
   "source": [
    "#hide\n",
    "dft_ct_new_cases.head()"
   ]
  },
  {
   "cell_type": "code",
   "execution_count": 19,
   "metadata": {
    "execution": {
     "iopub.execute_input": "2020-08-25T13:19:42.237840Z",
     "iopub.status.busy": "2020-08-25T13:19:42.223576Z",
     "iopub.status.idle": "2020-08-25T13:19:45.535703Z",
     "shell.execute_reply": "2020-08-25T13:19:45.536288Z"
    },
    "papermill": {
     "duration": 3.345844,
     "end_time": "2020-08-25T13:19:45.536452",
     "exception": false,
     "start_time": "2020-08-25T13:19:42.190608",
     "status": "completed"
    },
    "tags": []
   },
   "outputs": [
    {
     "data": {
      "image/png": "[encoded data removed]",
      "text/plain": [
       "<Figure size 1296x2016 with 11 Axes>"
      ]
     },
     "metadata": {
      "needs_background": "light"
     },
     "output_type": "display_data"
    }
   ],
   "source": [
    "#hide_input\n",
    "df = dft_ct_new_cases.copy()\n",
    "df.loc['Total'] = df.sum()\n",
    "n = 5\n",
    "ax = []\n",
    "fig = plt.figure(figsize = (18,28))\n",
    "gs = fig.add_gridspec(n+2, 5)\n",
    "# gs = fig.add_gridspec(2, 3)\n",
    "ax1 = fig.add_subplot(gs[0, :])\n",
    "ef = df.loc['Total'].rename_axis('date').reset_index()\n",
    "ef['date'] = ef['date'].astype('datetime64[ns]')\n",
    "ax1.bar(ef.date,ef.Total,alpha=0.3,color='#007acc')\n",
    "ax1.plot(ef.date,ef.Total , marker=\"o\", color='#007acc')\n",
    "ax1.xaxis.set_major_locator(mdates.WeekdayLocator())\n",
    "ax1.xaxis.set_major_formatter(mdates.DateFormatter('%b %d'))\n",
    "ax1.text(0.02, 0.5,'India daily case count', transform = ax1.transAxes, fontsize=25);\n",
    "ax1.spines['right'].set_visible(False)\n",
    "ax1.spines['top'].set_visible(False)\n",
    "\n",
    "ax2 = fig.add_subplot(gs[1,0])\n",
    "ef = df.loc['Maharashtra'].rename_axis('date').reset_index()\n",
    "ef['date'] = ef['date'].astype('datetime64[ns]')\n",
    "\n",
    "ax2.bar(ef.date, ef.Maharashtra,color = '#007acc',alpha=0.5)\n",
    "ax2.xaxis.set_major_locator(mdates.WeekdayLocator())\n",
    "ax2.xaxis.set_major_formatter(mdates.DateFormatter('%b %d'))\n",
    "ax2.set_xticks(ax2.get_xticks()[::3])\n",
    "maxyval = ef.Maharashtra.max()\n",
    "ax2.set_ylim([0,maxyval])\n",
    "ax2.text(0.05, 0.9,'Maharashtra', transform = ax2.transAxes, fontsize=20);\n",
    "ax2.spines['right'].set_visible(False)\n",
    "ax2.spines['top'].set_visible(False)\n",
    "\n",
    "\n",
    "ax3 = fig.add_subplot(gs[1,1])\n",
    "ef = df.loc['Tamil Nadu'].rename_axis('date').reset_index()\n",
    "ef['date'] = ef['date'].astype('datetime64[ns]')\n",
    "ax3.bar(ef.date, ef['Tamil Nadu'],color = '#007acc',alpha=0.5,)\n",
    "ax3.xaxis.set_major_locator(mdates.WeekdayLocator())\n",
    "ax3.xaxis.set_major_formatter(mdates.DateFormatter('%b %d'))\n",
    "ax3.set_xticks(ax3.get_xticks()[::3])\n",
    "ax3.text(0.05, 0.9,'Tamil Nadu', transform = ax3.transAxes, fontsize=20);\n",
    "ax3.spines['right'].set_visible(False)\n",
    "ax3.spines['top'].set_visible(False)\n",
    "\n",
    "ax5 = fig.add_subplot(gs[1,3])\n",
    "ef = df.loc['Telangana'].rename_axis('date').reset_index()\n",
    "ef['date'] = ef['date'].astype('datetime64[ns]')\n",
    "ax5.bar(ef.date, ef['Telangana'],color = '#007acc',alpha=0.5,)\n",
    "ax5.xaxis.set_major_locator(mdates.WeekdayLocator())\n",
    "ax5.xaxis.set_major_formatter(mdates.DateFormatter('%b %d'))\n",
    "ax5.set_xticks(ax5.get_xticks()[::3])\n",
    "ax5.text(0.05, 0.9,'Telangana', transform = ax5.transAxes, fontsize=20);\n",
    "ax5.spines['right'].set_visible(False)\n",
    "ax5.spines['top'].set_visible(False)\n",
    "\n",
    "ax6 = fig.add_subplot(gs[1,4])\n",
    "ef = df.loc['Andhra Pradesh'].rename_axis('date').reset_index()\n",
    "ef['date'] = ef['date'].astype('datetime64[ns]')\n",
    "ax6.bar(ef.date, ef['Andhra Pradesh'],color = '#007acc',alpha=0.5,)\n",
    "ax6.xaxis.set_major_locator(mdates.WeekdayLocator())\n",
    "ax6.xaxis.set_major_formatter(mdates.DateFormatter('%b %d'))\n",
    "ax6.set_xticks(ax6.get_xticks()[::3])\n",
    "ax6.text(0.05, 1,'Andhra Pradesh', transform = ax6.transAxes, fontsize=20);\n",
    "ax6.spines['right'].set_visible(False)\n",
    "ax6.spines['top'].set_visible(False)\n",
    "\n",
    "ax4 = fig.add_subplot(gs[1,2])\n",
    "ef = df.loc['Delhi'].rename_axis('date').reset_index()\n",
    "ef['date'] = ef['date'].astype('datetime64[ns]')\n",
    "ax4.bar(ef.date, ef.Delhi,color = '#007acc',alpha=0.5)\n",
    "ax4.set_xticks([])\n",
    "ax4.xaxis.set_major_locator(mdates.WeekdayLocator())\n",
    "ax4.xaxis.set_major_formatter(mdates.DateFormatter('%b %d'))\n",
    "ax4.set_xticks(ax4.get_xticks()[::3])\n",
    "ax4.spines['right'].set_visible(False)\n",
    "ax4.spines['top'].set_visible(False)\n",
    "\n",
    "ax4.text(0.05, 1,'Delhi', transform = ax4.transAxes, fontsize=20)\n",
    "\n",
    "for i in range(n):\n",
    "    \n",
    "    ax.append(fig.add_subplot(gs[i+2,:]))\n",
    "    ef = df.iloc[i+3].rename_axis('date').reset_index()\n",
    "    ef['date'] = ef['date'].astype('datetime64[ns]')\n",
    "    ax[i].bar(ef.date,ef.iloc[:,-1],color = '#007acc',alpha=0.3)\n",
    "    ax[i].plot(ef.date,ef.iloc[:,-1],marker='o',color='#007acc')\n",
    "    ax[i].text(0.02,0.5,f'{ef.columns.values[-1]}',transform = ax[i].transAxes, fontsize = 20);\n",
    "    ax[i].xaxis.set_major_locator(mdates.WeekdayLocator())\n",
    "    ax[i].xaxis.set_major_formatter(mdates.DateFormatter('%b %d'))\n",
    "    ax[i].set_ylim([0,7000])\n",
    "    ax[i].spines['right'].set_visible(False)\n",
    "    ax[i].spines['top'].set_visible(False)\n",
    "plt.tight_layout()\n"
   ]
  },
  {
   "cell_type": "code",
   "execution_count": 20,
   "metadata": {
    "execution": {
     "iopub.execute_input": "2020-08-25T13:19:45.968291Z",
     "iopub.status.busy": "2020-08-25T13:19:45.966734Z",
     "iopub.status.idle": "2020-08-25T13:19:45.972419Z",
     "shell.execute_reply": "2020-08-25T13:19:45.972909Z"
    },
    "papermill": {
     "duration": 0.406732,
     "end_time": "2020-08-25T13:19:45.973076",
     "exception": false,
     "start_time": "2020-08-25T13:19:45.566344",
     "status": "completed"
    },
    "tags": []
   },
   "outputs": [
    {
     "name": "stdout",
     "output_type": "stream",
     "text": [
      "                                   states   Cases  Deaths  PCases  PDeaths  Cases (+)  Deaths (+)  Fatality Rate\n",
      "                              Maharashtra  693398   22465  693398    22465          0           0           3.24\n",
      "                               Tamil Nadu  385352    6614  385352     6614          0           0           1.72\n",
      "                           Andhra Pradesh  361712    3368  361712     3368          0           0           0.93\n",
      "                                Karnataka  283665    4810  283665     4810          0           0           1.70\n",
      "                            Uttar Pradesh  192382    2987  192382     2987          0           0           1.55\n",
      "                                    Delhi  162527    4313  162527     4313          0           0           2.65\n",
      "                              West Bengal  141837    2851  141837     2851          0           0           2.01\n",
      "                                    Bihar  123383     627  123383      627          0           0           0.51\n",
      "                                Telangana  108670     770  106091      761       2579           9           0.71\n",
      "                                    Assam   92620     252   92620      252          0           0           0.27\n",
      "                                  Gujarat   87846    2908   87846     2908          0           0           3.31\n",
      "                                   Odisha   84231     481   81479      472       2752           9           0.57\n",
      "                                Rajasthan   72650     973   71955      967        695           6           1.34\n",
      "                                   Kerala   59504     235   59504      235          0           0           0.39\n",
      "                                  Haryana   55460     613   55460      613          0           0           1.11\n",
      "                           Madhya Pradesh   54421    1246   54421     1246          0           0           2.29\n",
      "                                   Punjab   43284    1129   43284     1129          0           0           2.61\n",
      "                        Jammu and Kashmir   33776     638   33075      624        701          14           1.89\n",
      "                                Jharkhand   31118     335   31118      335          0           0           1.08\n",
      "                             Chhattisgarh   22054     206   22054      206          0           0           0.93\n",
      "                              Uttarakhand   15529     207   15529      207          0           0           1.33\n",
      "                                      Goa   14138     148   14138      148          0           0           1.05\n",
      "                               Puducherry   10859     164   10859      164          0           0           1.51\n",
      "                                  Tripura    9210      79    8917       73        293           6           0.86\n",
      "                                  Manipur    5444      24    5362       22         82           2           0.44\n",
      "                         Himachal Pradesh    5101      28    5101       28          0           0           0.55\n",
      "                                 Nagaland    3752       8    3714        8         38           0           0.21\n",
      "                        Arunachal Pradesh    3312       5    3312        5          0           0           0.15\n",
      "                               Chandigarh    3035      37    3035       37          0           0           1.22\n",
      "              Andaman and Nicobar Islands    2904      35    2904       35          0           0           1.21\n",
      "                                   Ladakh    2330      23    2330       23          0           0           0.99\n",
      " Dadra and Nagar Haveli and Daman and Diu    2198       2    2177        2         21           0           0.09\n",
      "                                Meghalaya    1976       8    1976        8          0           0           0.40\n",
      "                                   Sikkim    1446       3    1446        3          0           0           0.21\n",
      "                                  Mizoram     953       0     918        0         35           0           0.00\n",
      "                              Lakshadweep       0       0       0        0          0           0            NaN\n"
     ]
    }
   ],
   "source": [
    "#hide_input\n",
    "print(df_table.to_string(index=False))"
   ]
  },
  {
   "cell_type": "code",
   "execution_count": null,
   "metadata": {
    "papermill": {
     "duration": 0.024298,
     "end_time": "2020-08-25T13:19:46.132937",
     "exception": false,
     "start_time": "2020-08-25T13:19:46.108639",
     "status": "completed"
    },
    "tags": []
   },
   "outputs": [],
   "source": []
  },
  {
   "cell_type": "code",
   "execution_count": null,
   "metadata": {
    "papermill": {
     "duration": 0.02252,
     "end_time": "2020-08-25T13:19:46.178335",
     "exception": false,
     "start_time": "2020-08-25T13:19:46.155815",
     "status": "completed"
    },
    "tags": []
   },
   "outputs": [],
   "source": []
  }
 ],
 "metadata": {
  "kernelspec": {
   "display_name": "Python 3",
   "language": "python",
   "name": "python3"
  },
  "language_info": {
   "codemirror_mode": {
    "name": "ipython",
    "version": 3
   },
   "file_extension": ".py",
   "mimetype": "text/x-python",
   "name": "python",
   "nbconvert_exporter": "python",
   "pygments_lexer": "ipython3",
   "version": "3.6.11"
  },
  "papermill": {
   "duration": 9.6824,
   "end_time": "2020-08-25T13:19:46.609254",
   "environment_variables": {},
   "exception": null,
   "input_path": "latest.ipynb",
   "output_path": "latest.ipynb",
   "parameters": {},
   "start_time": "2020-08-25T13:19:36.926854",
   "version": "2.1.2"
  }
 },
 "nbformat": 4,
 "nbformat_minor": 4
}