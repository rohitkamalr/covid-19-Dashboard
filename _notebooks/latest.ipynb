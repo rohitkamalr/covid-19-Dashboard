{
 "cells": [
  {
   "cell_type": "markdown",
   "id": "colored-stack",
   "metadata": {
    "papermill": {
     "duration": 0.019589,
     "end_time": "2021-01-25T14:21:39.502158",
     "exception": false,
     "start_time": "2021-01-25T14:21:39.482569",
     "status": "completed"
    },
    "tags": []
   },
   "source": [
    "# Latest COVID-19 India Matplotlib Overview"
   ]
  },
  {
   "cell_type": "code",
   "execution_count": 1,
   "id": "light-proportion",
   "metadata": {
    "execution": {
     "iopub.execute_input": "2021-01-25T14:21:39.547867Z",
     "iopub.status.busy": "2021-01-25T14:21:39.547277Z",
     "iopub.status.idle": "2021-01-25T14:21:40.135971Z",
     "shell.execute_reply": "2021-01-25T14:21:40.135398Z"
    },
    "papermill": {
     "duration": 0.616655,
     "end_time": "2021-01-25T14:21:40.136168",
     "exception": false,
     "start_time": "2021-01-25T14:21:39.519513",
     "status": "completed"
    },
    "tags": []
   },
   "outputs": [],
   "source": [
    "#hide\n",
    "import pandas as pd\n",
    "import numpy as np\n",
    "import requests\n",
    "import json\n",
    "import matplotlib.pyplot as plt\n",
    "import matplotlib.dates as mdates\n",
    "import matplotlib as mpl\n",
    "from IPython.core.display import display,HTML\n",
    "%matplotlib inline\n",
    "from datetime import date"
   ]
  },
  {
   "cell_type": "code",
   "execution_count": 2,
   "id": "greenhouse-shooting",
   "metadata": {
    "execution": {
     "iopub.execute_input": "2021-01-25T14:21:40.180544Z",
     "iopub.status.busy": "2021-01-25T14:21:40.179756Z",
     "iopub.status.idle": "2021-01-25T14:21:40.480695Z",
     "shell.execute_reply": "2021-01-25T14:21:40.480109Z"
    },
    "papermill": {
     "duration": 0.326937,
     "end_time": "2021-01-25T14:21:40.480852",
     "exception": false,
     "start_time": "2021-01-25T14:21:40.153915",
     "status": "completed"
    },
    "tags": []
   },
   "outputs": [],
   "source": [
    "#hide\n",
    "df  = pd.read_csv('https://api.covid19india.org/csv/latest/states.csv')\n",
    "df = df[['Date','State','Confirmed','Deceased']]\n",
    "df = df.rename(columns={'Confirmed':'Cases', \"Deceased\":'Deaths'})\n",
    "df_cases = df[[\"Date\",'State','Cases']]\n",
    "df_deaths = df[['Date','State','Deaths']]\n",
    "df_cases1 = df_cases.groupby('Date')\n",
    "df_deaths1= df_deaths.groupby('Date')"
   ]
  },
  {
   "cell_type": "code",
   "execution_count": 3,
   "id": "hybrid-cathedral",
   "metadata": {
    "execution": {
     "iopub.execute_input": "2021-01-25T14:21:40.522678Z",
     "iopub.status.busy": "2021-01-25T14:21:40.522088Z",
     "iopub.status.idle": "2021-01-25T14:21:40.539826Z",
     "shell.execute_reply": "2021-01-25T14:21:40.540297Z"
    },
    "papermill": {
     "duration": 0.040878,
     "end_time": "2021-01-25T14:21:40.540434",
     "exception": false,
     "start_time": "2021-01-25T14:21:40.499556",
     "status": "completed"
    },
    "tags": []
   },
   "outputs": [],
   "source": [
    "#hide\n",
    "df_snap = pd.read_csv('data/SnapshotCases-28-July.csv')\n",
    "arr_states = df_snap['states'].unique()\n",
    "arr_dates = df['Date'].unique()\n",
    "df_snap = df_snap.set_index('states')"
   ]
  },
  {
   "cell_type": "code",
   "execution_count": 4,
   "id": "interior-belfast",
   "metadata": {
    "execution": {
     "iopub.execute_input": "2021-01-25T14:21:40.580145Z",
     "iopub.status.busy": "2021-01-25T14:21:40.579552Z",
     "iopub.status.idle": "2021-01-25T14:21:40.584268Z",
     "shell.execute_reply": "2021-01-25T14:21:40.583722Z"
    },
    "papermill": {
     "duration": 0.028425,
     "end_time": "2021-01-25T14:21:40.584427",
     "exception": false,
     "start_time": "2021-01-25T14:21:40.556002",
     "status": "completed"
    },
    "tags": []
   },
   "outputs": [
    {
     "data": {
      "text/plain": [
       "array(['Andaman and Nicobar Islands', 'Andhra Pradesh',\n",
       "       'Arunachal Pradesh', 'Assam', 'Bihar', 'Chandigarh',\n",
       "       'Dadra and Nagar Haveli and Daman and Diu', 'Delhi', 'Goa',\n",
       "       'Gujarat', 'Haryana', 'Himachal Pradesh', 'Jammu and Kashmir',\n",
       "       'Jharkhand', 'Karnataka', 'Kerala', 'Lakshadweep',\n",
       "       'Madhya Pradesh', 'Maharashtra', 'Manipur', 'Meghalaya', 'Mizoram',\n",
       "       'Nagaland', 'Odisha', 'Puducherry', 'Punjab', 'Rajasthan',\n",
       "       'Sikkim', 'Tamil Nadu', 'Telangana', 'Tripura', 'Uttar Pradesh',\n",
       "       'West Bengal', 'Chhattisgarh', 'Ladakh', 'Uttarakhand'],\n",
       "      dtype=object)"
      ]
     },
     "execution_count": 4,
     "metadata": {},
     "output_type": "execute_result"
    }
   ],
   "source": [
    "#hide\n",
    "arr_states[-9] = 'Puducherry'\n",
    "arr_states[-10] = 'Odisha'\n",
    "arr_states[6] = 'Dadra and Nagar Haveli and Daman and Diu'\n",
    "arr_states = np.append(arr_states,np.array(['Chhattisgarh','Ladakh','Uttarakhand']))\n",
    "arr_states"
   ]
  },
  {
   "cell_type": "code",
   "execution_count": 5,
   "id": "behind-manner",
   "metadata": {
    "execution": {
     "iopub.execute_input": "2021-01-25T14:21:40.634187Z",
     "iopub.status.busy": "2021-01-25T14:21:40.633572Z",
     "iopub.status.idle": "2021-01-25T14:21:40.641924Z",
     "shell.execute_reply": "2021-01-25T14:21:40.642441Z"
    },
    "papermill": {
     "duration": 0.037454,
     "end_time": "2021-01-25T14:21:40.642566",
     "exception": false,
     "start_time": "2021-01-25T14:21:40.605112",
     "status": "completed"
    },
    "tags": []
   },
   "outputs": [],
   "source": [
    "#hide\n",
    "dates = []\n",
    "for i in arr_dates:\n",
    "    if i>='2020-07-01':\n",
    "        dates.append(i)\n",
    "dict = {'states':dates}\n",
    "for i in arr_states:\n",
    "    dict[i] = [0]*len(dates)\n",
    "dft_cases = pd.DataFrame(dict)\n",
    "dft_deaths = pd.DataFrame(dict)\n"
   ]
  },
  {
   "cell_type": "code",
   "execution_count": 6,
   "id": "simplified-peter",
   "metadata": {
    "execution": {
     "iopub.execute_input": "2021-01-25T14:21:40.686050Z",
     "iopub.status.busy": "2021-01-25T14:21:40.685343Z",
     "iopub.status.idle": "2021-01-25T14:21:44.232815Z",
     "shell.execute_reply": "2021-01-25T14:21:44.233254Z"
    },
    "papermill": {
     "duration": 3.573834,
     "end_time": "2021-01-25T14:21:44.233412",
     "exception": false,
     "start_time": "2021-01-25T14:21:40.659578",
     "status": "completed"
    },
    "tags": []
   },
   "outputs": [],
   "source": [
    "#hide\n",
    "for i in range(len(dates)):\n",
    "    df1_deaths = df_deaths1.get_group(dates[i])\n",
    "    for j in range(len(df1_deaths.index)):\n",
    "        if df1_deaths.iloc[j,1] in arr_states:\n",
    "            dft_deaths.loc[i,df1_deaths.iloc[j,1]] = df1_deaths.iloc[j,2]\n",
    "dft_deaths = dft_deaths.set_index('states')"
   ]
  },
  {
   "cell_type": "code",
   "execution_count": 7,
   "id": "geological-welding",
   "metadata": {
    "execution": {
     "iopub.execute_input": "2021-01-25T14:21:44.272063Z",
     "iopub.status.busy": "2021-01-25T14:21:44.271521Z",
     "iopub.status.idle": "2021-01-25T14:21:47.678470Z",
     "shell.execute_reply": "2021-01-25T14:21:47.676835Z"
    },
    "papermill": {
     "duration": 3.428409,
     "end_time": "2021-01-25T14:21:47.678690",
     "exception": false,
     "start_time": "2021-01-25T14:21:44.250281",
     "status": "completed"
    },
    "tags": []
   },
   "outputs": [],
   "source": [
    "#hide\n",
    "for i in range(len(dates)):\n",
    "    df1_cases = df_cases1.get_group(dates[i])\n",
    "    for j in range(len(df1_cases.index)):\n",
    "        if df1_cases.iloc[j,1] in arr_states:\n",
    "            dft_cases.loc[i,df1_cases.iloc[j,1]] = df1_cases.iloc[j,2]\n",
    "dft_cases = dft_cases.set_index('states')"
   ]
  },
  {
   "cell_type": "code",
   "execution_count": 8,
   "id": "binary-ratio",
   "metadata": {
    "execution": {
     "iopub.execute_input": "2021-01-25T14:21:47.715851Z",
     "iopub.status.busy": "2021-01-25T14:21:47.714660Z",
     "iopub.status.idle": "2021-01-25T14:21:47.716549Z",
     "shell.execute_reply": "2021-01-25T14:21:47.717078Z"
    },
    "papermill": {
     "duration": 0.02196,
     "end_time": "2021-01-25T14:21:47.717197",
     "exception": false,
     "start_time": "2021-01-25T14:21:47.695237",
     "status": "completed"
    },
    "tags": []
   },
   "outputs": [],
   "source": [
    "#hide\n",
    "dft_cases = dft_cases.T\n",
    "dft_deaths = dft_deaths.T\n",
    "dt_today = dates[-1]\n",
    "dt_yday = dates[-2]"
   ]
  },
  {
   "cell_type": "code",
   "execution_count": 9,
   "id": "boolean-calculator",
   "metadata": {
    "execution": {
     "iopub.execute_input": "2021-01-25T14:21:47.751898Z",
     "iopub.status.busy": "2021-01-25T14:21:47.751371Z",
     "iopub.status.idle": "2021-01-25T14:21:47.755849Z",
     "shell.execute_reply": "2021-01-25T14:21:47.755413Z"
    },
    "papermill": {
     "duration": 0.023902,
     "end_time": "2021-01-25T14:21:47.755951",
     "exception": false,
     "start_time": "2021-01-25T14:21:47.732049",
     "status": "completed"
    },
    "tags": []
   },
   "outputs": [],
   "source": [
    "#hide\n",
    "dft_cases = dft_cases.reset_index()\n",
    "dft_deaths = dft_deaths.reset_index()\n",
    "dft_cases = dft_cases.rename(columns = {'index':'state'})\n",
    "dft_deaths = dft_deaths.rename(columns = {'index':'state'})"
   ]
  },
  {
   "cell_type": "code",
   "execution_count": 10,
   "id": "invisible-johnston",
   "metadata": {
    "execution": {
     "iopub.execute_input": "2021-01-25T14:21:47.790050Z",
     "iopub.status.busy": "2021-01-25T14:21:47.789482Z",
     "iopub.status.idle": "2021-01-25T14:21:47.798359Z",
     "shell.execute_reply": "2021-01-25T14:21:47.798833Z"
    },
    "papermill": {
     "duration": 0.028172,
     "end_time": "2021-01-25T14:21:47.798969",
     "exception": false,
     "start_time": "2021-01-25T14:21:47.770797",
     "status": "completed"
    },
    "tags": []
   },
   "outputs": [],
   "source": [
    "#hide\n",
    "dfc_cases = dft_cases.groupby('state')[dt_today].sum()\n",
    "dfc_deaths = dft_deaths.groupby('state')[dt_today].sum()\n",
    "dfp_cases = dft_cases.groupby('state')[dt_yday].sum()\n",
    "dfp_deaths = dft_deaths.groupby('state')[dt_yday].sum()"
   ]
  },
  {
   "cell_type": "code",
   "execution_count": 11,
   "id": "measured-great",
   "metadata": {
    "execution": {
     "iopub.execute_input": "2021-01-25T14:21:47.844333Z",
     "iopub.status.busy": "2021-01-25T14:21:47.843824Z",
     "iopub.status.idle": "2021-01-25T14:21:47.849977Z",
     "shell.execute_reply": "2021-01-25T14:21:47.850475Z"
    },
    "papermill": {
     "duration": 0.03542,
     "end_time": "2021-01-25T14:21:47.850591",
     "exception": false,
     "start_time": "2021-01-25T14:21:47.815171",
     "status": "completed"
    },
    "tags": []
   },
   "outputs": [
    {
     "data": {
      "text/html": [
       "<div>\n",
       "<style scoped>\n",
       "    .dataframe tbody tr th:only-of-type {\n",
       "        vertical-align: middle;\n",
       "    }\n",
       "\n",
       "    .dataframe tbody tr th {\n",
       "        vertical-align: top;\n",
       "    }\n",
       "\n",
       "    .dataframe thead th {\n",
       "        text-align: right;\n",
       "    }\n",
       "</style>\n",
       "<table border=\"1\" class=\"dataframe\">\n",
       "  <thead>\n",
       "    <tr style=\"text-align: right;\">\n",
       "      <th></th>\n",
       "      <th>states</th>\n",
       "      <th>Cases</th>\n",
       "      <th>Deaths</th>\n",
       "      <th>PCases</th>\n",
       "      <th>PDeaths</th>\n",
       "    </tr>\n",
       "  </thead>\n",
       "  <tbody>\n",
       "    <tr>\n",
       "      <th>0</th>\n",
       "      <td>Maharashtra</td>\n",
       "      <td>2009106</td>\n",
       "      <td>50785</td>\n",
       "      <td>2009106</td>\n",
       "      <td>50785</td>\n",
       "    </tr>\n",
       "    <tr>\n",
       "      <th>1</th>\n",
       "      <td>Karnataka</td>\n",
       "      <td>936051</td>\n",
       "      <td>12197</td>\n",
       "      <td>936051</td>\n",
       "      <td>12197</td>\n",
       "    </tr>\n",
       "    <tr>\n",
       "      <th>2</th>\n",
       "      <td>Kerala</td>\n",
       "      <td>893640</td>\n",
       "      <td>3625</td>\n",
       "      <td>890279</td>\n",
       "      <td>3608</td>\n",
       "    </tr>\n",
       "    <tr>\n",
       "      <th>3</th>\n",
       "      <td>Andhra Pradesh</td>\n",
       "      <td>887010</td>\n",
       "      <td>7147</td>\n",
       "      <td>887010</td>\n",
       "      <td>7147</td>\n",
       "    </tr>\n",
       "    <tr>\n",
       "      <th>4</th>\n",
       "      <td>Tamil Nadu</td>\n",
       "      <td>834740</td>\n",
       "      <td>12316</td>\n",
       "      <td>834740</td>\n",
       "      <td>12316</td>\n",
       "    </tr>\n",
       "  </tbody>\n",
       "</table>\n",
       "</div>"
      ],
      "text/plain": [
       "           states    Cases  Deaths   PCases  PDeaths\n",
       "0     Maharashtra  2009106   50785  2009106    50785\n",
       "1       Karnataka   936051   12197   936051    12197\n",
       "2          Kerala   893640    3625   890279     3608\n",
       "3  Andhra Pradesh   887010    7147   887010     7147\n",
       "4      Tamil Nadu   834740   12316   834740    12316"
      ]
     },
     "execution_count": 11,
     "metadata": {},
     "output_type": "execute_result"
    }
   ],
   "source": [
    "#hide\n",
    "df_table = pd.DataFrame({'states': dfc_cases.index, 'Cases': dfc_cases.values, 'Deaths': dfc_deaths.values, 'PCases': dfp_cases.values, 'PDeaths': dfp_deaths.values}).set_index('states')\n",
    "df_table = df_table.sort_values(by = ['Cases','Deaths'], ascending = [False, False])\n",
    "df_table = df_table.reset_index()\n",
    "df_table.head()"
   ]
  },
  {
   "cell_type": "code",
   "execution_count": 12,
   "id": "found-montreal",
   "metadata": {
    "execution": {
     "iopub.execute_input": "2021-01-25T14:21:47.886508Z",
     "iopub.status.busy": "2021-01-25T14:21:47.885894Z",
     "iopub.status.idle": "2021-01-25T14:21:47.893957Z",
     "shell.execute_reply": "2021-01-25T14:21:47.893325Z"
    },
    "papermill": {
     "duration": 0.027794,
     "end_time": "2021-01-25T14:21:47.894070",
     "exception": false,
     "start_time": "2021-01-25T14:21:47.866276",
     "status": "completed"
    },
    "tags": []
   },
   "outputs": [],
   "source": [
    "#hide\n",
    "for c in 'Cases, Deaths'.split(', '):\n",
    "    df_table[f'{c} (+)'] = (df_table[c] - df_table[f'P{c}']).clip(0)\n",
    "df_table['Fatality Rate'] = (100* df_table['Deaths']/ df_table['Cases']).round(2)"
   ]
  },
  {
   "cell_type": "code",
   "execution_count": 13,
   "id": "minus-savage",
   "metadata": {
    "execution": {
     "iopub.execute_input": "2021-01-25T14:21:47.940127Z",
     "iopub.status.busy": "2021-01-25T14:21:47.939619Z",
     "iopub.status.idle": "2021-01-25T14:21:47.942518Z",
     "shell.execute_reply": "2021-01-25T14:21:47.942081Z"
    },
    "papermill": {
     "duration": 0.030839,
     "end_time": "2021-01-25T14:21:47.942620",
     "exception": false,
     "start_time": "2021-01-25T14:21:47.911781",
     "status": "completed"
    },
    "tags": []
   },
   "outputs": [
    {
     "data": {
      "text/html": [
       "<div>\n",
       "<style scoped>\n",
       "    .dataframe tbody tr th:only-of-type {\n",
       "        vertical-align: middle;\n",
       "    }\n",
       "\n",
       "    .dataframe tbody tr th {\n",
       "        vertical-align: top;\n",
       "    }\n",
       "\n",
       "    .dataframe thead th {\n",
       "        text-align: right;\n",
       "    }\n",
       "</style>\n",
       "<table border=\"1\" class=\"dataframe\">\n",
       "  <thead>\n",
       "    <tr style=\"text-align: right;\">\n",
       "      <th></th>\n",
       "      <th>states</th>\n",
       "      <th>Cases</th>\n",
       "      <th>Deaths</th>\n",
       "      <th>PCases</th>\n",
       "      <th>PDeaths</th>\n",
       "      <th>Cases (+)</th>\n",
       "      <th>Deaths (+)</th>\n",
       "      <th>Fatality Rate</th>\n",
       "    </tr>\n",
       "  </thead>\n",
       "  <tbody>\n",
       "    <tr>\n",
       "      <th>0</th>\n",
       "      <td>Maharashtra</td>\n",
       "      <td>2009106</td>\n",
       "      <td>50785</td>\n",
       "      <td>2009106</td>\n",
       "      <td>50785</td>\n",
       "      <td>0</td>\n",
       "      <td>0</td>\n",
       "      <td>2.53</td>\n",
       "    </tr>\n",
       "    <tr>\n",
       "      <th>1</th>\n",
       "      <td>Karnataka</td>\n",
       "      <td>936051</td>\n",
       "      <td>12197</td>\n",
       "      <td>936051</td>\n",
       "      <td>12197</td>\n",
       "      <td>0</td>\n",
       "      <td>0</td>\n",
       "      <td>1.30</td>\n",
       "    </tr>\n",
       "    <tr>\n",
       "      <th>2</th>\n",
       "      <td>Kerala</td>\n",
       "      <td>893640</td>\n",
       "      <td>3625</td>\n",
       "      <td>890279</td>\n",
       "      <td>3608</td>\n",
       "      <td>3361</td>\n",
       "      <td>17</td>\n",
       "      <td>0.41</td>\n",
       "    </tr>\n",
       "    <tr>\n",
       "      <th>3</th>\n",
       "      <td>Andhra Pradesh</td>\n",
       "      <td>887010</td>\n",
       "      <td>7147</td>\n",
       "      <td>887010</td>\n",
       "      <td>7147</td>\n",
       "      <td>0</td>\n",
       "      <td>0</td>\n",
       "      <td>0.81</td>\n",
       "    </tr>\n",
       "    <tr>\n",
       "      <th>4</th>\n",
       "      <td>Tamil Nadu</td>\n",
       "      <td>834740</td>\n",
       "      <td>12316</td>\n",
       "      <td>834740</td>\n",
       "      <td>12316</td>\n",
       "      <td>0</td>\n",
       "      <td>0</td>\n",
       "      <td>1.48</td>\n",
       "    </tr>\n",
       "  </tbody>\n",
       "</table>\n",
       "</div>"
      ],
      "text/plain": [
       "           states    Cases  Deaths   PCases  PDeaths  Cases (+)  Deaths (+)  \\\n",
       "0     Maharashtra  2009106   50785  2009106    50785          0           0   \n",
       "1       Karnataka   936051   12197   936051    12197          0           0   \n",
       "2          Kerala   893640    3625   890279     3608       3361          17   \n",
       "3  Andhra Pradesh   887010    7147   887010     7147          0           0   \n",
       "4      Tamil Nadu   834740   12316   834740    12316          0           0   \n",
       "\n",
       "   Fatality Rate  \n",
       "0           2.53  \n",
       "1           1.30  \n",
       "2           0.41  \n",
       "3           0.81  \n",
       "4           1.48  "
      ]
     },
     "execution_count": 13,
     "metadata": {},
     "output_type": "execute_result"
    }
   ],
   "source": [
    "#hide\n",
    "df_table.head()"
   ]
  },
  {
   "cell_type": "code",
   "execution_count": 14,
   "id": "false-peter",
   "metadata": {
    "execution": {
     "iopub.execute_input": "2021-01-25T14:21:47.980775Z",
     "iopub.status.busy": "2021-01-25T14:21:47.980238Z",
     "iopub.status.idle": "2021-01-25T14:21:47.995907Z",
     "shell.execute_reply": "2021-01-25T14:21:47.996351Z"
    },
    "papermill": {
     "duration": 0.03686,
     "end_time": "2021-01-25T14:21:47.996467",
     "exception": false,
     "start_time": "2021-01-25T14:21:47.959607",
     "status": "completed"
    },
    "tags": []
   },
   "outputs": [
    {
     "data": {
      "text/plain": [
       "{'updated': '2021-01-25',\n",
       " 'since': '2021-01-24',\n",
       " 'Cases': 10672035,\n",
       " 'PCases': 10668674,\n",
       " 'Deaths': 153525,\n",
       " 'PDeaths': 153508,\n",
       " 'Cases (+)': 3361,\n",
       " 'Deaths (+)': 17}"
      ]
     },
     "execution_count": 14,
     "metadata": {},
     "output_type": "execute_result"
    }
   ],
   "source": [
    "#hide\n",
    "summary = {'updated':dates[-1], 'since':dates[-2]}\n",
    "list_names = ['Cases', 'PCases', 'Deaths', 'PDeaths', 'Cases (+)', 'Deaths (+)']\n",
    "for name in list_names:\n",
    "    summary[name] = df_table.sum()[name]\n",
    "summary"
   ]
  },
  {
   "cell_type": "code",
   "execution_count": 15,
   "id": "packed-viewer",
   "metadata": {
    "execution": {
     "iopub.execute_input": "2021-01-25T14:21:48.032749Z",
     "iopub.status.busy": "2021-01-25T14:21:48.031915Z",
     "iopub.status.idle": "2021-01-25T14:21:48.034395Z",
     "shell.execute_reply": "2021-01-25T14:21:48.033933Z"
    },
    "papermill": {
     "duration": 0.022134,
     "end_time": "2021-01-25T14:21:48.034498",
     "exception": false,
     "start_time": "2021-01-25T14:21:48.012364",
     "status": "completed"
    },
    "tags": []
   },
   "outputs": [],
   "source": [
    "#hide\n",
    "overview = '''\n",
    "<!-- #######  HTML!! #########-->\n",
    "<h1 style=\"color: #5e9ca0; text-align: center;\">India</h1>\n",
    "<p style=\"text-align: center;\">Last update: <strong>{update}</strong></p>\n",
    "<p style=\"text-align: center;\">Confirmed cases:</p>\n",
    "<p style=\"text-align: center;font-size:24px;\">{cases} (<span style=\"color: #ff0000;\">+{new}</span>)</p>\n",
    "<p style=\"text-align: center;\">Confirmed deaths:</p>\n",
    "<p style=\"text-align: center;font-size:24px;\">{deaths} (<span style=\"color: #ff0000;\">+{dnew}</span>)</p>\n",
    "'''"
   ]
  },
  {
   "cell_type": "code",
   "execution_count": 16,
   "id": "phantom-lover",
   "metadata": {
    "execution": {
     "iopub.execute_input": "2021-01-25T14:21:48.069939Z",
     "iopub.status.busy": "2021-01-25T14:21:48.069433Z",
     "iopub.status.idle": "2021-01-25T14:21:48.072380Z",
     "shell.execute_reply": "2021-01-25T14:21:48.072963Z"
    },
    "papermill": {
     "duration": 0.023322,
     "end_time": "2021-01-25T14:21:48.073107",
     "exception": false,
     "start_time": "2021-01-25T14:21:48.049785",
     "status": "completed"
    },
    "tags": []
   },
   "outputs": [
    {
     "data": {
      "text/html": [
       "\n",
       "<!-- #######  HTML!! #########-->\n",
       "<h1 style=\"color: #5e9ca0; text-align: center;\">India</h1>\n",
       "<p style=\"text-align: center;\">Last update: <strong>2021-01-25</strong></p>\n",
       "<p style=\"text-align: center;\">Confirmed cases:</p>\n",
       "<p style=\"text-align: center;font-size:24px;\">10672035 (<span style=\"color: #ff0000;\">+3361</span>)</p>\n",
       "<p style=\"text-align: center;\">Confirmed deaths:</p>\n",
       "<p style=\"text-align: center;font-size:24px;\">153525 (<span style=\"color: #ff0000;\">+17</span>)</p>\n"
      ],
      "text/plain": [
       "<IPython.core.display.HTML object>"
      ]
     },
     "metadata": {},
     "output_type": "display_data"
    }
   ],
   "source": [
    "#hide_input\n",
    "update = summary['updated']\n",
    "cases = summary['Cases']\n",
    "new = summary['Cases (+)']\n",
    "deaths = summary['Deaths']\n",
    "dnew = summary['Deaths (+)']\n",
    "\n",
    "html = HTML(overview.format(update=update, cases=cases,new=new,deaths=deaths,dnew=dnew))\n",
    "\n",
    "display(html)"
   ]
  },
  {
   "cell_type": "code",
   "execution_count": 17,
   "id": "sealed-reset",
   "metadata": {
    "execution": {
     "iopub.execute_input": "2021-01-25T14:21:48.112473Z",
     "iopub.status.busy": "2021-01-25T14:21:48.111933Z",
     "iopub.status.idle": "2021-01-25T14:21:48.119870Z",
     "shell.execute_reply": "2021-01-25T14:21:48.119354Z"
    },
    "papermill": {
     "duration": 0.029687,
     "end_time": "2021-01-25T14:21:48.119977",
     "exception": false,
     "start_time": "2021-01-25T14:21:48.090290",
     "status": "completed"
    },
    "tags": []
   },
   "outputs": [],
   "source": [
    "#hide\n",
    "dt_cols = list(dft_cases.columns[1:])\n",
    "dft_ct_new_cases = dft_cases.groupby('state')[dt_cols].sum().diff(axis=1).fillna(0).astype(int)\n",
    "dft_ct_new_cases.sort_values(by = dates[-1], ascending = False,inplace = True)"
   ]
  },
  {
   "cell_type": "code",
   "execution_count": 18,
   "id": "designed-constant",
   "metadata": {
    "execution": {
     "iopub.execute_input": "2021-01-25T14:21:48.169363Z",
     "iopub.status.busy": "2021-01-25T14:21:48.168786Z",
     "iopub.status.idle": "2021-01-25T14:21:48.171359Z",
     "shell.execute_reply": "2021-01-25T14:21:48.171817Z"
    },
    "papermill": {
     "duration": 0.0354,
     "end_time": "2021-01-25T14:21:48.171945",
     "exception": false,
     "start_time": "2021-01-25T14:21:48.136545",
     "status": "completed"
    },
    "tags": []
   },
   "outputs": [
    {
     "data": {
      "text/html": [
       "<div>\n",
       "<style scoped>\n",
       "    .dataframe tbody tr th:only-of-type {\n",
       "        vertical-align: middle;\n",
       "    }\n",
       "\n",
       "    .dataframe tbody tr th {\n",
       "        vertical-align: top;\n",
       "    }\n",
       "\n",
       "    .dataframe thead th {\n",
       "        text-align: right;\n",
       "    }\n",
       "</style>\n",
       "<table border=\"1\" class=\"dataframe\">\n",
       "  <thead>\n",
       "    <tr style=\"text-align: right;\">\n",
       "      <th>states</th>\n",
       "      <th>2020-07-01</th>\n",
       "      <th>2020-07-02</th>\n",
       "      <th>2020-07-03</th>\n",
       "      <th>2020-07-04</th>\n",
       "      <th>2020-07-05</th>\n",
       "      <th>2020-07-06</th>\n",
       "      <th>2020-07-07</th>\n",
       "      <th>2020-07-08</th>\n",
       "      <th>2020-07-09</th>\n",
       "      <th>2020-07-10</th>\n",
       "      <th>...</th>\n",
       "      <th>2021-01-16</th>\n",
       "      <th>2021-01-17</th>\n",
       "      <th>2021-01-18</th>\n",
       "      <th>2021-01-19</th>\n",
       "      <th>2021-01-20</th>\n",
       "      <th>2021-01-21</th>\n",
       "      <th>2021-01-22</th>\n",
       "      <th>2021-01-23</th>\n",
       "      <th>2021-01-24</th>\n",
       "      <th>2021-01-25</th>\n",
       "    </tr>\n",
       "    <tr>\n",
       "      <th>state</th>\n",
       "      <th></th>\n",
       "      <th></th>\n",
       "      <th></th>\n",
       "      <th></th>\n",
       "      <th></th>\n",
       "      <th></th>\n",
       "      <th></th>\n",
       "      <th></th>\n",
       "      <th></th>\n",
       "      <th></th>\n",
       "      <th></th>\n",
       "      <th></th>\n",
       "      <th></th>\n",
       "      <th></th>\n",
       "      <th></th>\n",
       "      <th></th>\n",
       "      <th></th>\n",
       "      <th></th>\n",
       "      <th></th>\n",
       "      <th></th>\n",
       "      <th></th>\n",
       "    </tr>\n",
       "  </thead>\n",
       "  <tbody>\n",
       "    <tr>\n",
       "      <th>Kerala</th>\n",
       "      <td>0</td>\n",
       "      <td>160</td>\n",
       "      <td>211</td>\n",
       "      <td>240</td>\n",
       "      <td>225</td>\n",
       "      <td>193</td>\n",
       "      <td>272</td>\n",
       "      <td>301</td>\n",
       "      <td>339</td>\n",
       "      <td>416</td>\n",
       "      <td>...</td>\n",
       "      <td>5960</td>\n",
       "      <td>5005</td>\n",
       "      <td>3346</td>\n",
       "      <td>6186</td>\n",
       "      <td>6815</td>\n",
       "      <td>6334</td>\n",
       "      <td>6753</td>\n",
       "      <td>6960</td>\n",
       "      <td>6036</td>\n",
       "      <td>3361</td>\n",
       "    </tr>\n",
       "    <tr>\n",
       "      <th>Andaman and Nicobar Islands</th>\n",
       "      <td>0</td>\n",
       "      <td>9</td>\n",
       "      <td>7</td>\n",
       "      <td>3</td>\n",
       "      <td>6</td>\n",
       "      <td>16</td>\n",
       "      <td>6</td>\n",
       "      <td>2</td>\n",
       "      <td>7</td>\n",
       "      <td>0</td>\n",
       "      <td>...</td>\n",
       "      <td>3</td>\n",
       "      <td>1</td>\n",
       "      <td>5</td>\n",
       "      <td>1</td>\n",
       "      <td>2</td>\n",
       "      <td>0</td>\n",
       "      <td>1</td>\n",
       "      <td>1</td>\n",
       "      <td>0</td>\n",
       "      <td>0</td>\n",
       "    </tr>\n",
       "    <tr>\n",
       "      <th>Madhya Pradesh</th>\n",
       "      <td>0</td>\n",
       "      <td>245</td>\n",
       "      <td>191</td>\n",
       "      <td>307</td>\n",
       "      <td>326</td>\n",
       "      <td>354</td>\n",
       "      <td>343</td>\n",
       "      <td>409</td>\n",
       "      <td>305</td>\n",
       "      <td>316</td>\n",
       "      <td>...</td>\n",
       "      <td>365</td>\n",
       "      <td>355</td>\n",
       "      <td>304</td>\n",
       "      <td>304</td>\n",
       "      <td>280</td>\n",
       "      <td>301</td>\n",
       "      <td>347</td>\n",
       "      <td>291</td>\n",
       "      <td>252</td>\n",
       "      <td>0</td>\n",
       "    </tr>\n",
       "    <tr>\n",
       "      <th>Manipur</th>\n",
       "      <td>0</td>\n",
       "      <td>19</td>\n",
       "      <td>37</td>\n",
       "      <td>9</td>\n",
       "      <td>41</td>\n",
       "      <td>24</td>\n",
       "      <td>40</td>\n",
       "      <td>5</td>\n",
       "      <td>15</td>\n",
       "      <td>132</td>\n",
       "      <td>...</td>\n",
       "      <td>24</td>\n",
       "      <td>21</td>\n",
       "      <td>11</td>\n",
       "      <td>33</td>\n",
       "      <td>19</td>\n",
       "      <td>19</td>\n",
       "      <td>15</td>\n",
       "      <td>17</td>\n",
       "      <td>16</td>\n",
       "      <td>0</td>\n",
       "    </tr>\n",
       "    <tr>\n",
       "      <th>Meghalaya</th>\n",
       "      <td>0</td>\n",
       "      <td>3</td>\n",
       "      <td>4</td>\n",
       "      <td>8</td>\n",
       "      <td>2</td>\n",
       "      <td>16</td>\n",
       "      <td>6</td>\n",
       "      <td>6</td>\n",
       "      <td>13</td>\n",
       "      <td>73</td>\n",
       "      <td>...</td>\n",
       "      <td>2</td>\n",
       "      <td>12</td>\n",
       "      <td>2</td>\n",
       "      <td>3</td>\n",
       "      <td>7</td>\n",
       "      <td>4</td>\n",
       "      <td>2</td>\n",
       "      <td>4</td>\n",
       "      <td>5</td>\n",
       "      <td>0</td>\n",
       "    </tr>\n",
       "  </tbody>\n",
       "</table>\n",
       "<p>5 rows × 209 columns</p>\n",
       "</div>"
      ],
      "text/plain": [
       "states                       2020-07-01  2020-07-02  2020-07-03  2020-07-04  \\\n",
       "state                                                                         \n",
       "Kerala                                0         160         211         240   \n",
       "Andaman and Nicobar Islands           0           9           7           3   \n",
       "Madhya Pradesh                        0         245         191         307   \n",
       "Manipur                               0          19          37           9   \n",
       "Meghalaya                             0           3           4           8   \n",
       "\n",
       "states                       2020-07-05  2020-07-06  2020-07-07  2020-07-08  \\\n",
       "state                                                                         \n",
       "Kerala                              225         193         272         301   \n",
       "Andaman and Nicobar Islands           6          16           6           2   \n",
       "Madhya Pradesh                      326         354         343         409   \n",
       "Manipur                              41          24          40           5   \n",
       "Meghalaya                             2          16           6           6   \n",
       "\n",
       "states                       2020-07-09  2020-07-10  ...  2021-01-16  \\\n",
       "state                                                ...               \n",
       "Kerala                              339         416  ...        5960   \n",
       "Andaman and Nicobar Islands           7           0  ...           3   \n",
       "Madhya Pradesh                      305         316  ...         365   \n",
       "Manipur                              15         132  ...          24   \n",
       "Meghalaya                            13          73  ...           2   \n",
       "\n",
       "states                       2021-01-17  2021-01-18  2021-01-19  2021-01-20  \\\n",
       "state                                                                         \n",
       "Kerala                             5005        3346        6186        6815   \n",
       "Andaman and Nicobar Islands           1           5           1           2   \n",
       "Madhya Pradesh                      355         304         304         280   \n",
       "Manipur                              21          11          33          19   \n",
       "Meghalaya                            12           2           3           7   \n",
       "\n",
       "states                       2021-01-21  2021-01-22  2021-01-23  2021-01-24  \\\n",
       "state                                                                         \n",
       "Kerala                             6334        6753        6960        6036   \n",
       "Andaman and Nicobar Islands           0           1           1           0   \n",
       "Madhya Pradesh                      301         347         291         252   \n",
       "Manipur                              19          15          17          16   \n",
       "Meghalaya                             4           2           4           5   \n",
       "\n",
       "states                       2021-01-25  \n",
       "state                                    \n",
       "Kerala                             3361  \n",
       "Andaman and Nicobar Islands           0  \n",
       "Madhya Pradesh                        0  \n",
       "Manipur                               0  \n",
       "Meghalaya                             0  \n",
       "\n",
       "[5 rows x 209 columns]"
      ]
     },
     "execution_count": 18,
     "metadata": {},
     "output_type": "execute_result"
    }
   ],
   "source": [
    "#hide\n",
    "dft_ct_new_cases.head()"
   ]
  },
  {
   "cell_type": "code",
   "execution_count": 19,
   "id": "responsible-nightlife",
   "metadata": {
    "execution": {
     "iopub.execute_input": "2021-01-25T14:21:48.210300Z",
     "iopub.status.busy": "2021-01-25T14:21:48.209739Z",
     "iopub.status.idle": "2021-01-25T14:21:56.875612Z",
     "shell.execute_reply": "2021-01-25T14:21:56.876041Z"
    },
    "papermill": {
     "duration": 8.685937,
     "end_time": "2021-01-25T14:21:56.876190",
     "exception": false,
     "start_time": "2021-01-25T14:21:48.190253",
     "status": "completed"
    },
    "tags": []
   },
   "outputs": [
    {
     "data": {
      "image/png": "[encoded data removed]",
      "text/plain": [
       "<Figure size 1296x2016 with 11 Axes>"
      ]
     },
     "metadata": {
      "needs_background": "light"
     },
     "output_type": "display_data"
    }
   ],
   "source": [
    "#hide_input\n",
    "df = dft_ct_new_cases.copy()\n",
    "df.loc['Total'] = df.sum()\n",
    "n = 5\n",
    "ax = []\n",
    "fig = plt.figure(figsize = (18,28))\n",
    "gs = fig.add_gridspec(n+2, 5)\n",
    "# gs = fig.add_gridspec(2, 3)\n",
    "ax1 = fig.add_subplot(gs[0, :])\n",
    "ef = df.loc['Total'].rename_axis('date').reset_index()\n",
    "ef['date'] = ef['date'].astype('datetime64[ns]')\n",
    "ax1.bar(ef.date,ef.Total,alpha=0.3,color='#007acc')\n",
    "ax1.plot(ef.date,ef.Total , marker=\"o\", color='#007acc')\n",
    "ax1.xaxis.set_major_locator(mdates.WeekdayLocator())\n",
    "ax1.xaxis.set_major_formatter(mdates.DateFormatter('%b %d'))\n",
    "ax1.text(0.02, 0.5,'India daily case count', transform = ax1.transAxes, fontsize=25);\n",
    "ax1.spines['right'].set_visible(False)\n",
    "ax1.spines['top'].set_visible(False)\n",
    "\n",
    "ax2 = fig.add_subplot(gs[1,0])\n",
    "ef = df.loc['Maharashtra'].rename_axis('date').reset_index()\n",
    "ef['date'] = ef['date'].astype('datetime64[ns]')\n",
    "\n",
    "ax2.bar(ef.date, ef.Maharashtra,color = '#007acc',alpha=0.5)\n",
    "ax2.xaxis.set_major_locator(mdates.WeekdayLocator())\n",
    "ax2.xaxis.set_major_formatter(mdates.DateFormatter('%b %d'))\n",
    "ax2.set_xticks(ax2.get_xticks()[::3])\n",
    "maxyval = ef.Maharashtra.max()\n",
    "ax2.set_ylim([0,maxyval])\n",
    "ax2.text(0.05, 0.9,'Maharashtra', transform = ax2.transAxes, fontsize=20);\n",
    "ax2.spines['right'].set_visible(False)\n",
    "ax2.spines['top'].set_visible(False)\n",
    "\n",
    "\n",
    "ax3 = fig.add_subplot(gs[1,1])\n",
    "ef = df.loc['Tamil Nadu'].rename_axis('date').reset_index()\n",
    "ef['date'] = ef['date'].astype('datetime64[ns]')\n",
    "ax3.bar(ef.date, ef['Tamil Nadu'],color = '#007acc',alpha=0.5,)\n",
    "ax3.xaxis.set_major_locator(mdates.WeekdayLocator())\n",
    "ax3.xaxis.set_major_formatter(mdates.DateFormatter('%b %d'))\n",
    "ax3.set_xticks(ax3.get_xticks()[::3])\n",
    "ax3.text(0.05, 0.9,'Tamil Nadu', transform = ax3.transAxes, fontsize=20);\n",
    "ax3.spines['right'].set_visible(False)\n",
    "ax3.spines['top'].set_visible(False)\n",
    "\n",
    "ax5 = fig.add_subplot(gs[1,3])\n",
    "ef = df.loc['Telangana'].rename_axis('date').reset_index()\n",
    "ef['date'] = ef['date'].astype('datetime64[ns]')\n",
    "ax5.bar(ef.date, ef['Telangana'],color = '#007acc',alpha=0.5,)\n",
    "ax5.xaxis.set_major_locator(mdates.WeekdayLocator())\n",
    "ax5.xaxis.set_major_formatter(mdates.DateFormatter('%b %d'))\n",
    "ax5.set_xticks(ax5.get_xticks()[::3])\n",
    "ax5.text(0.05, 0.9,'Telangana', transform = ax5.transAxes, fontsize=20);\n",
    "ax5.spines['right'].set_visible(False)\n",
    "ax5.spines['top'].set_visible(False)\n",
    "\n",
    "ax6 = fig.add_subplot(gs[1,4])\n",
    "ef = df.loc['Andhra Pradesh'].rename_axis('date').reset_index()\n",
    "ef['date'] = ef['date'].astype('datetime64[ns]')\n",
    "ax6.bar(ef.date, ef['Andhra Pradesh'],color = '#007acc',alpha=0.5,)\n",
    "ax6.xaxis.set_major_locator(mdates.WeekdayLocator())\n",
    "ax6.xaxis.set_major_formatter(mdates.DateFormatter('%b %d'))\n",
    "ax6.set_xticks(ax6.get_xticks()[::3])\n",
    "ax6.text(0.05, 1,'Andhra Pradesh', transform = ax6.transAxes, fontsize=20);\n",
    "ax6.spines['right'].set_visible(False)\n",
    "ax6.spines['top'].set_visible(False)\n",
    "\n",
    "ax4 = fig.add_subplot(gs[1,2])\n",
    "ef = df.loc['Delhi'].rename_axis('date').reset_index()\n",
    "ef['date'] = ef['date'].astype('datetime64[ns]')\n",
    "ax4.bar(ef.date, ef.Delhi,color = '#007acc',alpha=0.5)\n",
    "ax4.set_xticks([])\n",
    "ax4.xaxis.set_major_locator(mdates.WeekdayLocator())\n",
    "ax4.xaxis.set_major_formatter(mdates.DateFormatter('%b %d'))\n",
    "ax4.set_xticks(ax4.get_xticks()[::3])\n",
    "ax4.spines['right'].set_visible(False)\n",
    "ax4.spines['top'].set_visible(False)\n",
    "\n",
    "ax4.text(0.05, 1,'Delhi', transform = ax4.transAxes, fontsize=20)\n",
    "\n",
    "for i in range(n):\n",
    "    \n",
    "    ax.append(fig.add_subplot(gs[i+2,:]))\n",
    "    ef = df.iloc[i+3].rename_axis('date').reset_index()\n",
    "    ef['date'] = ef['date'].astype('datetime64[ns]')\n",
    "    ax[i].bar(ef.date,ef.iloc[:,-1],color = '#007acc',alpha=0.3)\n",
    "    ax[i].plot(ef.date,ef.iloc[:,-1],marker='o',color='#007acc')\n",
    "    ax[i].text(0.02,0.5,f'{ef.columns.values[-1]}',transform = ax[i].transAxes, fontsize = 20);\n",
    "    ax[i].xaxis.set_major_locator(mdates.WeekdayLocator())\n",
    "    ax[i].xaxis.set_major_formatter(mdates.DateFormatter('%b %d'))\n",
    "    ax[i].set_ylim([0,7000])\n",
    "    ax[i].spines['right'].set_visible(False)\n",
    "    ax[i].spines['top'].set_visible(False)\n",
    "plt.tight_layout()\n"
   ]
  },
  {
   "cell_type": "code",
   "execution_count": 20,
   "id": "dress-forge",
   "metadata": {
    "execution": {
     "iopub.execute_input": "2021-01-25T14:21:57.035302Z",
     "iopub.status.busy": "2021-01-25T14:21:57.034633Z",
     "iopub.status.idle": "2021-01-25T14:21:57.037144Z",
     "shell.execute_reply": "2021-01-25T14:21:57.037567Z"
    },
    "papermill": {
     "duration": 0.072493,
     "end_time": "2021-01-25T14:21:57.037687",
     "exception": false,
     "start_time": "2021-01-25T14:21:56.965194",
     "status": "completed"
    },
    "tags": []
   },
   "outputs": [
    {
     "name": "stdout",
     "output_type": "stream",
     "text": [
      "                                   states    Cases  Deaths   PCases  PDeaths  Cases (+)  Deaths (+)  Fatality Rate\n",
      "                              Maharashtra  2009106   50785  2009106    50785          0           0           2.53\n",
      "                                Karnataka   936051   12197   936051    12197          0           0           1.30\n",
      "                                   Kerala   893640    3625   890279     3608       3361          17           0.41\n",
      "                           Andhra Pradesh   887010    7147   887010     7147          0           0           0.81\n",
      "                               Tamil Nadu   834740   12316   834740    12316          0           0           1.48\n",
      "                                    Delhi   633924   10808   633924    10808          0           0           1.70\n",
      "                            Uttar Pradesh   598713    8617   598713     8617          0           0           1.44\n",
      "                              West Bengal   568103   10115   568103    10115          0           0           1.78\n",
      "                                   Odisha   334300    1958   334300     1958          0           0           0.59\n",
      "                                Rajasthan   316652    2758   316652     2758          0           0           0.87\n",
      "                             Chhattisgarh   296624    3617   296624     3617          0           0           1.22\n",
      "                                Telangana   293253    1589   293253     1589          0           0           0.54\n",
      "                                  Haryana   267203    3010   267203     3010          0           0           1.13\n",
      "                                    Bihar   259897    1479   259897     1479          0           0           0.57\n",
      "                                  Gujarat   259097    4376   259097     4376          0           0           1.69\n",
      "                           Madhya Pradesh   253657    3789   253657     3789          0           0           1.49\n",
      "                                    Assam   216992    1078   216992     1078          0           0           0.50\n",
      "                                   Punjab   171930    5555   171930     5555          0           0           3.23\n",
      "                        Jammu and Kashmir   124019    1929   124019     1929          0           0           1.56\n",
      "                                Jharkhand   118286    1063   118286     1063          0           0           0.90\n",
      "                              Uttarakhand    95640    1631    95640     1631          0           0           1.71\n",
      "                         Himachal Pradesh    57210     961    57210      961          0           0           1.68\n",
      "                                      Goa    52920     761    52920      761          0           0           1.44\n",
      "                               Puducherry    38860     645    38860      645          0           0           1.66\n",
      "                                  Tripura    33341     388    33341      388          0           0           1.16\n",
      "                                  Manipur    28986     369    28986      369          0           0           1.27\n",
      "                               Chandigarh    20718     334    20718      334          0           0           1.61\n",
      "                        Arunachal Pradesh    16819      56    16819       56          0           0           0.33\n",
      "                                Meghalaya    13732     146    13732      146          0           0           1.06\n",
      "                                 Nagaland    12076      88    12076       88          0           0           0.73\n",
      "                                   Ladakh     9687     129     9687      129          0           0           1.33\n",
      "                                   Sikkim     6071     133     6071      133          0           0           2.19\n",
      "              Andaman and Nicobar Islands     4993      62     4993       62          0           0           1.24\n",
      "                                  Mizoram     4351       9     4351        9          0           0           0.21\n",
      " Dadra and Nagar Haveli and Daman and Diu     3377       2     3377        2          0           0           0.06\n",
      "                              Lakshadweep       57       0       57        0          0           0           0.00\n"
     ]
    }
   ],
   "source": [
    "#hide_input\n",
    "print(df_table.to_string(index=False))"
   ]
  },
  {
   "cell_type": "code",
   "execution_count": null,
   "id": "quantitative-legend",
   "metadata": {
    "papermill": {
     "duration": 0.02848,
     "end_time": "2021-01-25T14:21:57.087292",
     "exception": false,
     "start_time": "2021-01-25T14:21:57.058812",
     "status": "completed"
    },
    "tags": []
   },
   "outputs": [],
   "source": []
  },
  {
   "cell_type": "code",
   "execution_count": null,
   "id": "distant-acoustic",
   "metadata": {
    "papermill": {
     "duration": 0.019663,
     "end_time": "2021-01-25T14:21:57.131693",
     "exception": false,
     "start_time": "2021-01-25T14:21:57.112030",
     "status": "completed"
    },
    "tags": []
   },
   "outputs": [],
   "source": []
  }
 ],
 "metadata": {
  "kernelspec": {
   "display_name": "Python 3",
   "language": "python",
   "name": "python3"
  },
  "language_info": {
   "codemirror_mode": {
    "name": "ipython",
    "version": 3
   },
   "file_extension": ".py",
   "mimetype": "text/x-python",
   "name": "python",
   "nbconvert_exporter": "python",
   "pygments_lexer": "ipython3",
   "version": "3.6.12"
  },
  "papermill": {
   "duration": 20.336892,
   "end_time": "2021-01-25T14:21:58.524690",
   "environment_variables": {},
   "exception": null,
   "input_path": "latest.ipynb",
   "output_path": "latest.ipynb",
   "parameters": {},
   "start_time": "2021-01-25T14:21:38.187798",
   "version": "2.1.2"
  }
 },
 "nbformat": 4,
 "nbformat_minor": 5
}