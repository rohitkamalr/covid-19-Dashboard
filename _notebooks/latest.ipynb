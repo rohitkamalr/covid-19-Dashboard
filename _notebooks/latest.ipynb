{
 "cells": [
  {
   "cell_type": "markdown",
   "metadata": {
    "papermill": {
     "duration": 0.019271,
     "end_time": "2020-09-19T07:37:47.808476",
     "exception": false,
     "start_time": "2020-09-19T07:37:47.789205",
     "status": "completed"
    },
    "tags": []
   },
   "source": [
    "# Latest COVID-19 India Matplotlib Overview"
   ]
  },
  {
   "cell_type": "code",
   "execution_count": 1,
   "metadata": {
    "execution": {
     "iopub.execute_input": "2020-09-19T07:37:47.848349Z",
     "iopub.status.busy": "2020-09-19T07:37:47.847699Z",
     "iopub.status.idle": "2020-09-19T07:37:48.447463Z",
     "shell.execute_reply": "2020-09-19T07:37:48.446878Z"
    },
    "papermill": {
     "duration": 0.622202,
     "end_time": "2020-09-19T07:37:48.447628",
     "exception": false,
     "start_time": "2020-09-19T07:37:47.825426",
     "status": "completed"
    },
    "tags": []
   },
   "outputs": [],
   "source": [
    "#hide\n",
    "import pandas as pd\n",
    "import numpy as np\n",
    "import requests\n",
    "import json\n",
    "import matplotlib.pyplot as plt\n",
    "import matplotlib.dates as mdates\n",
    "import matplotlib as mpl\n",
    "from IPython.core.display import display,HTML\n",
    "%matplotlib inline\n",
    "from datetime import date"
   ]
  },
  {
   "cell_type": "code",
   "execution_count": 2,
   "metadata": {
    "execution": {
     "iopub.execute_input": "2020-09-19T07:37:48.493476Z",
     "iopub.status.busy": "2020-09-19T07:37:48.492830Z",
     "iopub.status.idle": "2020-09-19T07:37:48.679213Z",
     "shell.execute_reply": "2020-09-19T07:37:48.678657Z"
    },
    "papermill": {
     "duration": 0.214262,
     "end_time": "2020-09-19T07:37:48.679368",
     "exception": false,
     "start_time": "2020-09-19T07:37:48.465106",
     "status": "completed"
    },
    "tags": []
   },
   "outputs": [],
   "source": [
    "#hide\n",
    "df  = pd.read_csv('https://api.covid19india.org/csv/latest/states.csv')\n",
    "df = df[['Date','State','Confirmed','Deceased']]\n",
    "df = df.rename(columns={'Confirmed':'Cases', \"Deceased\":'Deaths'})\n",
    "df_cases = df[[\"Date\",'State','Cases']]\n",
    "df_deaths = df[['Date','State','Deaths']]\n",
    "df_cases1 = df_cases.groupby('Date')\n",
    "df_deaths1= df_deaths.groupby('Date')"
   ]
  },
  {
   "cell_type": "code",
   "execution_count": 3,
   "metadata": {
    "execution": {
     "iopub.execute_input": "2020-09-19T07:37:48.717480Z",
     "iopub.status.busy": "2020-09-19T07:37:48.716837Z",
     "iopub.status.idle": "2020-09-19T07:37:48.735608Z",
     "shell.execute_reply": "2020-09-19T07:37:48.735058Z"
    },
    "papermill": {
     "duration": 0.039631,
     "end_time": "2020-09-19T07:37:48.735737",
     "exception": false,
     "start_time": "2020-09-19T07:37:48.696106",
     "status": "completed"
    },
    "tags": []
   },
   "outputs": [],
   "source": [
    "#hide\n",
    "df_snap = pd.read_csv('data/SnapshotCases-28-July.csv')\n",
    "arr_states = df_snap['states'].unique()\n",
    "arr_dates = df['Date'].unique()\n",
    "df_snap = df_snap.set_index('states')"
   ]
  },
  {
   "cell_type": "code",
   "execution_count": 4,
   "metadata": {
    "execution": {
     "iopub.execute_input": "2020-09-19T07:37:48.774914Z",
     "iopub.status.busy": "2020-09-19T07:37:48.774231Z",
     "iopub.status.idle": "2020-09-19T07:37:48.777921Z",
     "shell.execute_reply": "2020-09-19T07:37:48.777347Z"
    },
    "papermill": {
     "duration": 0.026462,
     "end_time": "2020-09-19T07:37:48.778055",
     "exception": false,
     "start_time": "2020-09-19T07:37:48.751593",
     "status": "completed"
    },
    "tags": []
   },
   "outputs": [
    {
     "data": {
      "text/plain": [
       "array(['Andaman and Nicobar Islands', 'Andhra Pradesh',\n",
       "       'Arunachal Pradesh', 'Assam', 'Bihar', 'Chandigarh',\n",
       "       'Dadra and Nagar Haveli and Daman and Diu', 'Delhi', 'Goa',\n",
       "       'Gujarat', 'Haryana', 'Himachal Pradesh', 'Jammu and Kashmir',\n",
       "       'Jharkhand', 'Karnataka', 'Kerala', 'Lakshadweep',\n",
       "       'Madhya Pradesh', 'Maharashtra', 'Manipur', 'Meghalaya', 'Mizoram',\n",
       "       'Nagaland', 'Odisha', 'Puducherry', 'Punjab', 'Rajasthan',\n",
       "       'Sikkim', 'Tamil Nadu', 'Telangana', 'Tripura', 'Uttar Pradesh',\n",
       "       'West Bengal', 'Chhattisgarh', 'Ladakh', 'Uttarakhand'],\n",
       "      dtype=object)"
      ]
     },
     "execution_count": 4,
     "metadata": {},
     "output_type": "execute_result"
    }
   ],
   "source": [
    "#hide\n",
    "arr_states[-9] = 'Puducherry'\n",
    "arr_states[-10] = 'Odisha'\n",
    "arr_states[6] = 'Dadra and Nagar Haveli and Daman and Diu'\n",
    "arr_states = np.append(arr_states,np.array(['Chhattisgarh','Ladakh','Uttarakhand']))\n",
    "arr_states"
   ]
  },
  {
   "cell_type": "code",
   "execution_count": 5,
   "metadata": {
    "execution": {
     "iopub.execute_input": "2020-09-19T07:37:48.820597Z",
     "iopub.status.busy": "2020-09-19T07:37:48.818282Z",
     "iopub.status.idle": "2020-09-19T07:37:48.828619Z",
     "shell.execute_reply": "2020-09-19T07:37:48.828021Z"
    },
    "papermill": {
     "duration": 0.034217,
     "end_time": "2020-09-19T07:37:48.828748",
     "exception": false,
     "start_time": "2020-09-19T07:37:48.794531",
     "status": "completed"
    },
    "tags": []
   },
   "outputs": [],
   "source": [
    "#hide\n",
    "dates = []\n",
    "for i in arr_dates:\n",
    "    if i>='2020-07-01':\n",
    "        dates.append(i)\n",
    "dict = {'states':dates}\n",
    "for i in arr_states:\n",
    "    dict[i] = [0]*len(dates)\n",
    "dft_cases = pd.DataFrame(dict)\n",
    "dft_deaths = pd.DataFrame(dict)\n"
   ]
  },
  {
   "cell_type": "code",
   "execution_count": 6,
   "metadata": {
    "execution": {
     "iopub.execute_input": "2020-09-19T07:37:48.866785Z",
     "iopub.status.busy": "2020-09-19T07:37:48.866128Z",
     "iopub.status.idle": "2020-09-19T07:37:50.298429Z",
     "shell.execute_reply": "2020-09-19T07:37:50.297866Z"
    },
    "papermill": {
     "duration": 1.45344,
     "end_time": "2020-09-19T07:37:50.298581",
     "exception": false,
     "start_time": "2020-09-19T07:37:48.845141",
     "status": "completed"
    },
    "tags": []
   },
   "outputs": [],
   "source": [
    "#hide\n",
    "for i in range(len(dates)):\n",
    "    df1_deaths = df_deaths1.get_group(dates[i])\n",
    "    for j in range(len(df1_deaths.index)):\n",
    "        if df1_deaths.iloc[j,1] in arr_states:\n",
    "            dft_deaths.loc[i,df1_deaths.iloc[j,1]] = df1_deaths.iloc[j,2]\n",
    "dft_deaths = dft_deaths.set_index('states')"
   ]
  },
  {
   "cell_type": "code",
   "execution_count": 7,
   "metadata": {
    "execution": {
     "iopub.execute_input": "2020-09-19T07:37:50.337567Z",
     "iopub.status.busy": "2020-09-19T07:37:50.336922Z",
     "iopub.status.idle": "2020-09-19T07:37:51.758316Z",
     "shell.execute_reply": "2020-09-19T07:37:51.757743Z"
    },
    "papermill": {
     "duration": 1.443232,
     "end_time": "2020-09-19T07:37:51.758469",
     "exception": false,
     "start_time": "2020-09-19T07:37:50.315237",
     "status": "completed"
    },
    "tags": []
   },
   "outputs": [],
   "source": [
    "#hide\n",
    "for i in range(len(dates)):\n",
    "    df1_cases = df_cases1.get_group(dates[i])\n",
    "    for j in range(len(df1_cases.index)):\n",
    "        if df1_cases.iloc[j,1] in arr_states:\n",
    "            dft_cases.loc[i,df1_cases.iloc[j,1]] = df1_cases.iloc[j,2]\n",
    "dft_cases = dft_cases.set_index('states')"
   ]
  },
  {
   "cell_type": "code",
   "execution_count": 8,
   "metadata": {
    "execution": {
     "iopub.execute_input": "2020-09-19T07:37:51.797013Z",
     "iopub.status.busy": "2020-09-19T07:37:51.796328Z",
     "iopub.status.idle": "2020-09-19T07:37:51.799899Z",
     "shell.execute_reply": "2020-09-19T07:37:51.799260Z"
    },
    "papermill": {
     "duration": 0.024657,
     "end_time": "2020-09-19T07:37:51.800029",
     "exception": false,
     "start_time": "2020-09-19T07:37:51.775372",
     "status": "completed"
    },
    "tags": []
   },
   "outputs": [],
   "source": [
    "#hide\n",
    "dft_cases = dft_cases.T\n",
    "dft_deaths = dft_deaths.T\n",
    "dt_today = dates[-1]\n",
    "dt_yday = dates[-2]"
   ]
  },
  {
   "cell_type": "code",
   "execution_count": 9,
   "metadata": {
    "execution": {
     "iopub.execute_input": "2020-09-19T07:37:51.836802Z",
     "iopub.status.busy": "2020-09-19T07:37:51.836064Z",
     "iopub.status.idle": "2020-09-19T07:37:51.841335Z",
     "shell.execute_reply": "2020-09-19T07:37:51.841866Z"
    },
    "papermill": {
     "duration": 0.025799,
     "end_time": "2020-09-19T07:37:51.842008",
     "exception": false,
     "start_time": "2020-09-19T07:37:51.816209",
     "status": "completed"
    },
    "tags": []
   },
   "outputs": [],
   "source": [
    "#hide\n",
    "dft_cases = dft_cases.reset_index()\n",
    "dft_deaths = dft_deaths.reset_index()\n",
    "dft_cases = dft_cases.rename(columns = {'index':'state'})\n",
    "dft_deaths = dft_deaths.rename(columns = {'index':'state'})"
   ]
  },
  {
   "cell_type": "code",
   "execution_count": 10,
   "metadata": {
    "execution": {
     "iopub.execute_input": "2020-09-19T07:37:51.885481Z",
     "iopub.status.busy": "2020-09-19T07:37:51.884832Z",
     "iopub.status.idle": "2020-09-19T07:37:51.887185Z",
     "shell.execute_reply": "2020-09-19T07:37:51.886631Z"
    },
    "papermill": {
     "duration": 0.028882,
     "end_time": "2020-09-19T07:37:51.887311",
     "exception": false,
     "start_time": "2020-09-19T07:37:51.858429",
     "status": "completed"
    },
    "tags": []
   },
   "outputs": [],
   "source": [
    "#hide\n",
    "dfc_cases = dft_cases.groupby('state')[dt_today].sum()\n",
    "dfc_deaths = dft_deaths.groupby('state')[dt_today].sum()\n",
    "dfp_cases = dft_cases.groupby('state')[dt_yday].sum()\n",
    "dfp_deaths = dft_deaths.groupby('state')[dt_yday].sum()"
   ]
  },
  {
   "cell_type": "code",
   "execution_count": 11,
   "metadata": {
    "execution": {
     "iopub.execute_input": "2020-09-19T07:37:51.926395Z",
     "iopub.status.busy": "2020-09-19T07:37:51.925748Z",
     "iopub.status.idle": "2020-09-19T07:37:51.939621Z",
     "shell.execute_reply": "2020-09-19T07:37:51.939068Z"
    },
    "papermill": {
     "duration": 0.036252,
     "end_time": "2020-09-19T07:37:51.939749",
     "exception": false,
     "start_time": "2020-09-19T07:37:51.903497",
     "status": "completed"
    },
    "tags": []
   },
   "outputs": [
    {
     "data": {
      "text/html": [
       "<div>\n",
       "<style scoped>\n",
       "    .dataframe tbody tr th:only-of-type {\n",
       "        vertical-align: middle;\n",
       "    }\n",
       "\n",
       "    .dataframe tbody tr th {\n",
       "        vertical-align: top;\n",
       "    }\n",
       "\n",
       "    .dataframe thead th {\n",
       "        text-align: right;\n",
       "    }\n",
       "</style>\n",
       "<table border=\"1\" class=\"dataframe\">\n",
       "  <thead>\n",
       "    <tr style=\"text-align: right;\">\n",
       "      <th></th>\n",
       "      <th>states</th>\n",
       "      <th>Cases</th>\n",
       "      <th>Deaths</th>\n",
       "      <th>PCases</th>\n",
       "      <th>PDeaths</th>\n",
       "    </tr>\n",
       "  </thead>\n",
       "  <tbody>\n",
       "    <tr>\n",
       "      <th>0</th>\n",
       "      <td>Maharashtra</td>\n",
       "      <td>1167496</td>\n",
       "      <td>31791</td>\n",
       "      <td>1167496</td>\n",
       "      <td>31791</td>\n",
       "    </tr>\n",
       "    <tr>\n",
       "      <th>1</th>\n",
       "      <td>Andhra Pradesh</td>\n",
       "      <td>609558</td>\n",
       "      <td>5244</td>\n",
       "      <td>609558</td>\n",
       "      <td>5244</td>\n",
       "    </tr>\n",
       "    <tr>\n",
       "      <th>2</th>\n",
       "      <td>Tamil Nadu</td>\n",
       "      <td>530908</td>\n",
       "      <td>8685</td>\n",
       "      <td>530908</td>\n",
       "      <td>8685</td>\n",
       "    </tr>\n",
       "    <tr>\n",
       "      <th>3</th>\n",
       "      <td>Karnataka</td>\n",
       "      <td>502982</td>\n",
       "      <td>7808</td>\n",
       "      <td>502982</td>\n",
       "      <td>7808</td>\n",
       "    </tr>\n",
       "    <tr>\n",
       "      <th>4</th>\n",
       "      <td>Uttar Pradesh</td>\n",
       "      <td>342788</td>\n",
       "      <td>4869</td>\n",
       "      <td>342788</td>\n",
       "      <td>4869</td>\n",
       "    </tr>\n",
       "  </tbody>\n",
       "</table>\n",
       "</div>"
      ],
      "text/plain": [
       "           states    Cases  Deaths   PCases  PDeaths\n",
       "0     Maharashtra  1167496   31791  1167496    31791\n",
       "1  Andhra Pradesh   609558    5244   609558     5244\n",
       "2      Tamil Nadu   530908    8685   530908     8685\n",
       "3       Karnataka   502982    7808   502982     7808\n",
       "4   Uttar Pradesh   342788    4869   342788     4869"
      ]
     },
     "execution_count": 11,
     "metadata": {},
     "output_type": "execute_result"
    }
   ],
   "source": [
    "#hide\n",
    "df_table = pd.DataFrame({'states': dfc_cases.index, 'Cases': dfc_cases.values, 'Deaths': dfc_deaths.values, 'PCases': dfp_cases.values, 'PDeaths': dfp_deaths.values}).set_index('states')\n",
    "df_table = df_table.sort_values(by = ['Cases','Deaths'], ascending = [False, False])\n",
    "df_table = df_table.reset_index()\n",
    "df_table.head()"
   ]
  },
  {
   "cell_type": "code",
   "execution_count": 12,
   "metadata": {
    "execution": {
     "iopub.execute_input": "2020-09-19T07:37:51.979338Z",
     "iopub.status.busy": "2020-09-19T07:37:51.978694Z",
     "iopub.status.idle": "2020-09-19T07:37:51.986574Z",
     "shell.execute_reply": "2020-09-19T07:37:51.987180Z"
    },
    "papermill": {
     "duration": 0.029499,
     "end_time": "2020-09-19T07:37:51.987322",
     "exception": false,
     "start_time": "2020-09-19T07:37:51.957823",
     "status": "completed"
    },
    "tags": []
   },
   "outputs": [],
   "source": [
    "#hide\n",
    "for c in 'Cases, Deaths'.split(', '):\n",
    "    df_table[f'{c} (+)'] = (df_table[c] - df_table[f'P{c}']).clip(0)\n",
    "df_table['Fatality Rate'] = (100* df_table['Deaths']/ df_table['Cases']).round(2)"
   ]
  },
  {
   "cell_type": "code",
   "execution_count": 13,
   "metadata": {
    "execution": {
     "iopub.execute_input": "2020-09-19T07:37:52.034193Z",
     "iopub.status.busy": "2020-09-19T07:37:52.033546Z",
     "iopub.status.idle": "2020-09-19T07:37:52.036808Z",
     "shell.execute_reply": "2020-09-19T07:37:52.036225Z"
    },
    "papermill": {
     "duration": 0.032791,
     "end_time": "2020-09-19T07:37:52.036938",
     "exception": false,
     "start_time": "2020-09-19T07:37:52.004147",
     "status": "completed"
    },
    "tags": []
   },
   "outputs": [
    {
     "data": {
      "text/html": [
       "<div>\n",
       "<style scoped>\n",
       "    .dataframe tbody tr th:only-of-type {\n",
       "        vertical-align: middle;\n",
       "    }\n",
       "\n",
       "    .dataframe tbody tr th {\n",
       "        vertical-align: top;\n",
       "    }\n",
       "\n",
       "    .dataframe thead th {\n",
       "        text-align: right;\n",
       "    }\n",
       "</style>\n",
       "<table border=\"1\" class=\"dataframe\">\n",
       "  <thead>\n",
       "    <tr style=\"text-align: right;\">\n",
       "      <th></th>\n",
       "      <th>states</th>\n",
       "      <th>Cases</th>\n",
       "      <th>Deaths</th>\n",
       "      <th>PCases</th>\n",
       "      <th>PDeaths</th>\n",
       "      <th>Cases (+)</th>\n",
       "      <th>Deaths (+)</th>\n",
       "      <th>Fatality Rate</th>\n",
       "    </tr>\n",
       "  </thead>\n",
       "  <tbody>\n",
       "    <tr>\n",
       "      <th>0</th>\n",
       "      <td>Maharashtra</td>\n",
       "      <td>1167496</td>\n",
       "      <td>31791</td>\n",
       "      <td>1167496</td>\n",
       "      <td>31791</td>\n",
       "      <td>0</td>\n",
       "      <td>0</td>\n",
       "      <td>2.72</td>\n",
       "    </tr>\n",
       "    <tr>\n",
       "      <th>1</th>\n",
       "      <td>Andhra Pradesh</td>\n",
       "      <td>609558</td>\n",
       "      <td>5244</td>\n",
       "      <td>609558</td>\n",
       "      <td>5244</td>\n",
       "      <td>0</td>\n",
       "      <td>0</td>\n",
       "      <td>0.86</td>\n",
       "    </tr>\n",
       "    <tr>\n",
       "      <th>2</th>\n",
       "      <td>Tamil Nadu</td>\n",
       "      <td>530908</td>\n",
       "      <td>8685</td>\n",
       "      <td>530908</td>\n",
       "      <td>8685</td>\n",
       "      <td>0</td>\n",
       "      <td>0</td>\n",
       "      <td>1.64</td>\n",
       "    </tr>\n",
       "    <tr>\n",
       "      <th>3</th>\n",
       "      <td>Karnataka</td>\n",
       "      <td>502982</td>\n",
       "      <td>7808</td>\n",
       "      <td>502982</td>\n",
       "      <td>7808</td>\n",
       "      <td>0</td>\n",
       "      <td>0</td>\n",
       "      <td>1.55</td>\n",
       "    </tr>\n",
       "    <tr>\n",
       "      <th>4</th>\n",
       "      <td>Uttar Pradesh</td>\n",
       "      <td>342788</td>\n",
       "      <td>4869</td>\n",
       "      <td>342788</td>\n",
       "      <td>4869</td>\n",
       "      <td>0</td>\n",
       "      <td>0</td>\n",
       "      <td>1.42</td>\n",
       "    </tr>\n",
       "  </tbody>\n",
       "</table>\n",
       "</div>"
      ],
      "text/plain": [
       "           states    Cases  Deaths   PCases  PDeaths  Cases (+)  Deaths (+)  \\\n",
       "0     Maharashtra  1167496   31791  1167496    31791          0           0   \n",
       "1  Andhra Pradesh   609558    5244   609558     5244          0           0   \n",
       "2      Tamil Nadu   530908    8685   530908     8685          0           0   \n",
       "3       Karnataka   502982    7808   502982     7808          0           0   \n",
       "4   Uttar Pradesh   342788    4869   342788     4869          0           0   \n",
       "\n",
       "   Fatality Rate  \n",
       "0           2.72  \n",
       "1           0.86  \n",
       "2           1.64  \n",
       "3           1.55  \n",
       "4           1.42  "
      ]
     },
     "execution_count": 13,
     "metadata": {},
     "output_type": "execute_result"
    }
   ],
   "source": [
    "#hide\n",
    "df_table.head()"
   ]
  },
  {
   "cell_type": "code",
   "execution_count": 14,
   "metadata": {
    "execution": {
     "iopub.execute_input": "2020-09-19T07:37:52.080060Z",
     "iopub.status.busy": "2020-09-19T07:37:52.079412Z",
     "iopub.status.idle": "2020-09-19T07:37:52.096150Z",
     "shell.execute_reply": "2020-09-19T07:37:52.096809Z"
    },
    "papermill": {
     "duration": 0.041318,
     "end_time": "2020-09-19T07:37:52.096955",
     "exception": false,
     "start_time": "2020-09-19T07:37:52.055637",
     "status": "completed"
    },
    "tags": []
   },
   "outputs": [
    {
     "data": {
      "text/plain": [
       "{'updated': '2020-09-19',\n",
       " 'since': '2020-09-18',\n",
       " 'Cases': 5312537,\n",
       " 'PCases': 5305656,\n",
       " 'Deaths': 85650,\n",
       " 'PDeaths': 85625,\n",
       " 'Cases (+)': 6881,\n",
       " 'Deaths (+)': 25}"
      ]
     },
     "execution_count": 14,
     "metadata": {},
     "output_type": "execute_result"
    }
   ],
   "source": [
    "#hide\n",
    "summary = {'updated':dates[-1], 'since':dates[-2]}\n",
    "list_names = ['Cases', 'PCases', 'Deaths', 'PDeaths', 'Cases (+)', 'Deaths (+)']\n",
    "for name in list_names:\n",
    "    summary[name] = df_table.sum()[name]\n",
    "summary"
   ]
  },
  {
   "cell_type": "code",
   "execution_count": 15,
   "metadata": {
    "execution": {
     "iopub.execute_input": "2020-09-19T07:37:52.135829Z",
     "iopub.status.busy": "2020-09-19T07:37:52.135168Z",
     "iopub.status.idle": "2020-09-19T07:37:52.137767Z",
     "shell.execute_reply": "2020-09-19T07:37:52.137243Z"
    },
    "papermill": {
     "duration": 0.023469,
     "end_time": "2020-09-19T07:37:52.137897",
     "exception": false,
     "start_time": "2020-09-19T07:37:52.114428",
     "status": "completed"
    },
    "tags": []
   },
   "outputs": [],
   "source": [
    "#hide\n",
    "overview = '''\n",
    "<!-- #######  HTML!! #########-->\n",
    "<h1 style=\"color: #5e9ca0; text-align: center;\">India</h1>\n",
    "<p style=\"text-align: center;\">Last update: <strong>{update}</strong></p>\n",
    "<p style=\"text-align: center;\">Confirmed cases:</p>\n",
    "<p style=\"text-align: center;font-size:24px;\">{cases} (<span style=\"color: #ff0000;\">+{new}</span>)</p>\n",
    "<p style=\"text-align: center;\">Confirmed deaths:</p>\n",
    "<p style=\"text-align: center;font-size:24px;\">{deaths} (<span style=\"color: #ff0000;\">+{dnew}</span>)</p>\n",
    "'''"
   ]
  },
  {
   "cell_type": "code",
   "execution_count": 16,
   "metadata": {
    "execution": {
     "iopub.execute_input": "2020-09-19T07:37:52.177954Z",
     "iopub.status.busy": "2020-09-19T07:37:52.177308Z",
     "iopub.status.idle": "2020-09-19T07:37:52.180780Z",
     "shell.execute_reply": "2020-09-19T07:37:52.181352Z"
    },
    "papermill": {
     "duration": 0.026306,
     "end_time": "2020-09-19T07:37:52.181504",
     "exception": false,
     "start_time": "2020-09-19T07:37:52.155198",
     "status": "completed"
    },
    "tags": []
   },
   "outputs": [
    {
     "data": {
      "text/html": [
       "\n",
       "<!-- #######  HTML!! #########-->\n",
       "<h1 style=\"color: #5e9ca0; text-align: center;\">India</h1>\n",
       "<p style=\"text-align: center;\">Last update: <strong>2020-09-19</strong></p>\n",
       "<p style=\"text-align: center;\">Confirmed cases:</p>\n",
       "<p style=\"text-align: center;font-size:24px;\">5312537 (<span style=\"color: #ff0000;\">+6881</span>)</p>\n",
       "<p style=\"text-align: center;\">Confirmed deaths:</p>\n",
       "<p style=\"text-align: center;font-size:24px;\">85650 (<span style=\"color: #ff0000;\">+25</span>)</p>\n"
      ],
      "text/plain": [
       "<IPython.core.display.HTML object>"
      ]
     },
     "metadata": {},
     "output_type": "display_data"
    }
   ],
   "source": [
    "#hide_input\n",
    "update = summary['updated']\n",
    "cases = summary['Cases']\n",
    "new = summary['Cases (+)']\n",
    "deaths = summary['Deaths']\n",
    "dnew = summary['Deaths (+)']\n",
    "\n",
    "html = HTML(overview.format(update=update, cases=cases,new=new,deaths=deaths,dnew=dnew))\n",
    "\n",
    "display(html)"
   ]
  },
  {
   "cell_type": "code",
   "execution_count": 17,
   "metadata": {
    "execution": {
     "iopub.execute_input": "2020-09-19T07:37:52.226352Z",
     "iopub.status.busy": "2020-09-19T07:37:52.225703Z",
     "iopub.status.idle": "2020-09-19T07:37:52.230595Z",
     "shell.execute_reply": "2020-09-19T07:37:52.231217Z"
    },
    "papermill": {
     "duration": 0.031506,
     "end_time": "2020-09-19T07:37:52.231370",
     "exception": false,
     "start_time": "2020-09-19T07:37:52.199864",
     "status": "completed"
    },
    "tags": []
   },
   "outputs": [],
   "source": [
    "#hide\n",
    "dt_cols = list(dft_cases.columns[1:])\n",
    "dft_ct_new_cases = dft_cases.groupby('state')[dt_cols].sum().diff(axis=1).fillna(0).astype(int)\n",
    "dft_ct_new_cases.sort_values(by = dates[-1], ascending = False,inplace = True)"
   ]
  },
  {
   "cell_type": "code",
   "execution_count": 18,
   "metadata": {
    "execution": {
     "iopub.execute_input": "2020-09-19T07:37:52.286151Z",
     "iopub.status.busy": "2020-09-19T07:37:52.285493Z",
     "iopub.status.idle": "2020-09-19T07:37:52.288367Z",
     "shell.execute_reply": "2020-09-19T07:37:52.288925Z"
    },
    "papermill": {
     "duration": 0.039298,
     "end_time": "2020-09-19T07:37:52.289162",
     "exception": false,
     "start_time": "2020-09-19T07:37:52.249864",
     "status": "completed"
    },
    "tags": []
   },
   "outputs": [
    {
     "data": {
      "text/html": [
       "<div>\n",
       "<style scoped>\n",
       "    .dataframe tbody tr th:only-of-type {\n",
       "        vertical-align: middle;\n",
       "    }\n",
       "\n",
       "    .dataframe tbody tr th {\n",
       "        vertical-align: top;\n",
       "    }\n",
       "\n",
       "    .dataframe thead th {\n",
       "        text-align: right;\n",
       "    }\n",
       "</style>\n",
       "<table border=\"1\" class=\"dataframe\">\n",
       "  <thead>\n",
       "    <tr style=\"text-align: right;\">\n",
       "      <th>states</th>\n",
       "      <th>2020-07-01</th>\n",
       "      <th>2020-07-02</th>\n",
       "      <th>2020-07-03</th>\n",
       "      <th>2020-07-04</th>\n",
       "      <th>2020-07-05</th>\n",
       "      <th>2020-07-06</th>\n",
       "      <th>2020-07-07</th>\n",
       "      <th>2020-07-08</th>\n",
       "      <th>2020-07-09</th>\n",
       "      <th>2020-07-10</th>\n",
       "      <th>...</th>\n",
       "      <th>2020-09-10</th>\n",
       "      <th>2020-09-11</th>\n",
       "      <th>2020-09-12</th>\n",
       "      <th>2020-09-13</th>\n",
       "      <th>2020-09-14</th>\n",
       "      <th>2020-09-15</th>\n",
       "      <th>2020-09-16</th>\n",
       "      <th>2020-09-17</th>\n",
       "      <th>2020-09-18</th>\n",
       "      <th>2020-09-19</th>\n",
       "    </tr>\n",
       "    <tr>\n",
       "      <th>state</th>\n",
       "      <th></th>\n",
       "      <th></th>\n",
       "      <th></th>\n",
       "      <th></th>\n",
       "      <th></th>\n",
       "      <th></th>\n",
       "      <th></th>\n",
       "      <th></th>\n",
       "      <th></th>\n",
       "      <th></th>\n",
       "      <th></th>\n",
       "      <th></th>\n",
       "      <th></th>\n",
       "      <th></th>\n",
       "      <th></th>\n",
       "      <th></th>\n",
       "      <th></th>\n",
       "      <th></th>\n",
       "      <th></th>\n",
       "      <th></th>\n",
       "      <th></th>\n",
       "    </tr>\n",
       "  </thead>\n",
       "  <tbody>\n",
       "    <tr>\n",
       "      <th>Odisha</th>\n",
       "      <td>0</td>\n",
       "      <td>229</td>\n",
       "      <td>561</td>\n",
       "      <td>495</td>\n",
       "      <td>469</td>\n",
       "      <td>456</td>\n",
       "      <td>571</td>\n",
       "      <td>527</td>\n",
       "      <td>577</td>\n",
       "      <td>755</td>\n",
       "      <td>...</td>\n",
       "      <td>3991</td>\n",
       "      <td>3996</td>\n",
       "      <td>3777</td>\n",
       "      <td>3913</td>\n",
       "      <td>4198</td>\n",
       "      <td>3645</td>\n",
       "      <td>4270</td>\n",
       "      <td>4241</td>\n",
       "      <td>4180</td>\n",
       "      <td>4209</td>\n",
       "    </tr>\n",
       "    <tr>\n",
       "      <th>Telangana</th>\n",
       "      <td>0</td>\n",
       "      <td>1213</td>\n",
       "      <td>1892</td>\n",
       "      <td>1850</td>\n",
       "      <td>1590</td>\n",
       "      <td>1831</td>\n",
       "      <td>1879</td>\n",
       "      <td>1924</td>\n",
       "      <td>1410</td>\n",
       "      <td>1278</td>\n",
       "      <td>...</td>\n",
       "      <td>2534</td>\n",
       "      <td>2426</td>\n",
       "      <td>2278</td>\n",
       "      <td>2216</td>\n",
       "      <td>1417</td>\n",
       "      <td>2058</td>\n",
       "      <td>2273</td>\n",
       "      <td>2159</td>\n",
       "      <td>2043</td>\n",
       "      <td>2123</td>\n",
       "    </tr>\n",
       "    <tr>\n",
       "      <th>Tripura</th>\n",
       "      <td>0</td>\n",
       "      <td>39</td>\n",
       "      <td>93</td>\n",
       "      <td>25</td>\n",
       "      <td>23</td>\n",
       "      <td>111</td>\n",
       "      <td>24</td>\n",
       "      <td>57</td>\n",
       "      <td>16</td>\n",
       "      <td>142</td>\n",
       "      <td>...</td>\n",
       "      <td>535</td>\n",
       "      <td>559</td>\n",
       "      <td>470</td>\n",
       "      <td>629</td>\n",
       "      <td>255</td>\n",
       "      <td>531</td>\n",
       "      <td>454</td>\n",
       "      <td>527</td>\n",
       "      <td>273</td>\n",
       "      <td>535</td>\n",
       "    </tr>\n",
       "    <tr>\n",
       "      <th>Mizoram</th>\n",
       "      <td>0</td>\n",
       "      <td>2</td>\n",
       "      <td>0</td>\n",
       "      <td>2</td>\n",
       "      <td>22</td>\n",
       "      <td>11</td>\n",
       "      <td>1</td>\n",
       "      <td>5</td>\n",
       "      <td>0</td>\n",
       "      <td>23</td>\n",
       "      <td>...</td>\n",
       "      <td>141</td>\n",
       "      <td>20</td>\n",
       "      <td>26</td>\n",
       "      <td>35</td>\n",
       "      <td>14</td>\n",
       "      <td>40</td>\n",
       "      <td>12</td>\n",
       "      <td>26</td>\n",
       "      <td>28</td>\n",
       "      <td>14</td>\n",
       "    </tr>\n",
       "    <tr>\n",
       "      <th>Andaman and Nicobar Islands</th>\n",
       "      <td>0</td>\n",
       "      <td>9</td>\n",
       "      <td>7</td>\n",
       "      <td>3</td>\n",
       "      <td>6</td>\n",
       "      <td>16</td>\n",
       "      <td>6</td>\n",
       "      <td>2</td>\n",
       "      <td>7</td>\n",
       "      <td>0</td>\n",
       "      <td>...</td>\n",
       "      <td>39</td>\n",
       "      <td>29</td>\n",
       "      <td>27</td>\n",
       "      <td>25</td>\n",
       "      <td>11</td>\n",
       "      <td>17</td>\n",
       "      <td>19</td>\n",
       "      <td>11</td>\n",
       "      <td>27</td>\n",
       "      <td>0</td>\n",
       "    </tr>\n",
       "  </tbody>\n",
       "</table>\n",
       "<p>5 rows × 81 columns</p>\n",
       "</div>"
      ],
      "text/plain": [
       "states                       2020-07-01  2020-07-02  2020-07-03  2020-07-04  \\\n",
       "state                                                                         \n",
       "Odisha                                0         229         561         495   \n",
       "Telangana                             0        1213        1892        1850   \n",
       "Tripura                               0          39          93          25   \n",
       "Mizoram                               0           2           0           2   \n",
       "Andaman and Nicobar Islands           0           9           7           3   \n",
       "\n",
       "states                       2020-07-05  2020-07-06  2020-07-07  2020-07-08  \\\n",
       "state                                                                         \n",
       "Odisha                              469         456         571         527   \n",
       "Telangana                          1590        1831        1879        1924   \n",
       "Tripura                              23         111          24          57   \n",
       "Mizoram                              22          11           1           5   \n",
       "Andaman and Nicobar Islands           6          16           6           2   \n",
       "\n",
       "states                       2020-07-09  2020-07-10  ...  2020-09-10  \\\n",
       "state                                                ...               \n",
       "Odisha                              577         755  ...        3991   \n",
       "Telangana                          1410        1278  ...        2534   \n",
       "Tripura                              16         142  ...         535   \n",
       "Mizoram                               0          23  ...         141   \n",
       "Andaman and Nicobar Islands           7           0  ...          39   \n",
       "\n",
       "states                       2020-09-11  2020-09-12  2020-09-13  2020-09-14  \\\n",
       "state                                                                         \n",
       "Odisha                             3996        3777        3913        4198   \n",
       "Telangana                          2426        2278        2216        1417   \n",
       "Tripura                             559         470         629         255   \n",
       "Mizoram                              20          26          35          14   \n",
       "Andaman and Nicobar Islands          29          27          25          11   \n",
       "\n",
       "states                       2020-09-15  2020-09-16  2020-09-17  2020-09-18  \\\n",
       "state                                                                         \n",
       "Odisha                             3645        4270        4241        4180   \n",
       "Telangana                          2058        2273        2159        2043   \n",
       "Tripura                             531         454         527         273   \n",
       "Mizoram                              40          12          26          28   \n",
       "Andaman and Nicobar Islands          17          19          11          27   \n",
       "\n",
       "states                       2020-09-19  \n",
       "state                                    \n",
       "Odisha                             4209  \n",
       "Telangana                          2123  \n",
       "Tripura                             535  \n",
       "Mizoram                              14  \n",
       "Andaman and Nicobar Islands           0  \n",
       "\n",
       "[5 rows x 81 columns]"
      ]
     },
     "execution_count": 18,
     "metadata": {},
     "output_type": "execute_result"
    }
   ],
   "source": [
    "#hide\n",
    "dft_ct_new_cases.head()"
   ]
  },
  {
   "cell_type": "code",
   "execution_count": 19,
   "metadata": {
    "execution": {
     "iopub.execute_input": "2020-09-19T07:37:52.349597Z",
     "iopub.status.busy": "2020-09-19T07:37:52.334010Z",
     "iopub.status.idle": "2020-09-19T07:37:56.214534Z",
     "shell.execute_reply": "2020-09-19T07:37:56.215050Z"
    },
    "papermill": {
     "duration": 3.907128,
     "end_time": "2020-09-19T07:37:56.215222",
     "exception": false,
     "start_time": "2020-09-19T07:37:52.308094",
     "status": "completed"
    },
    "tags": []
   },
   "outputs": [
    {
     "data": {
      "image/png": "[encoded data removed]",
      "text/plain": [
       "<Figure size 1296x2016 with 11 Axes>"
      ]
     },
     "metadata": {
      "needs_background": "light"
     },
     "output_type": "display_data"
    }
   ],
   "source": [
    "#hide_input\n",
    "df = dft_ct_new_cases.copy()\n",
    "df.loc['Total'] = df.sum()\n",
    "n = 5\n",
    "ax = []\n",
    "fig = plt.figure(figsize = (18,28))\n",
    "gs = fig.add_gridspec(n+2, 5)\n",
    "# gs = fig.add_gridspec(2, 3)\n",
    "ax1 = fig.add_subplot(gs[0, :])\n",
    "ef = df.loc['Total'].rename_axis('date').reset_index()\n",
    "ef['date'] = ef['date'].astype('datetime64[ns]')\n",
    "ax1.bar(ef.date,ef.Total,alpha=0.3,color='#007acc')\n",
    "ax1.plot(ef.date,ef.Total , marker=\"o\", color='#007acc')\n",
    "ax1.xaxis.set_major_locator(mdates.WeekdayLocator())\n",
    "ax1.xaxis.set_major_formatter(mdates.DateFormatter('%b %d'))\n",
    "ax1.text(0.02, 0.5,'India daily case count', transform = ax1.transAxes, fontsize=25);\n",
    "ax1.spines['right'].set_visible(False)\n",
    "ax1.spines['top'].set_visible(False)\n",
    "\n",
    "ax2 = fig.add_subplot(gs[1,0])\n",
    "ef = df.loc['Maharashtra'].rename_axis('date').reset_index()\n",
    "ef['date'] = ef['date'].astype('datetime64[ns]')\n",
    "\n",
    "ax2.bar(ef.date, ef.Maharashtra,color = '#007acc',alpha=0.5)\n",
    "ax2.xaxis.set_major_locator(mdates.WeekdayLocator())\n",
    "ax2.xaxis.set_major_formatter(mdates.DateFormatter('%b %d'))\n",
    "ax2.set_xticks(ax2.get_xticks()[::3])\n",
    "maxyval = ef.Maharashtra.max()\n",
    "ax2.set_ylim([0,maxyval])\n",
    "ax2.text(0.05, 0.9,'Maharashtra', transform = ax2.transAxes, fontsize=20);\n",
    "ax2.spines['right'].set_visible(False)\n",
    "ax2.spines['top'].set_visible(False)\n",
    "\n",
    "\n",
    "ax3 = fig.add_subplot(gs[1,1])\n",
    "ef = df.loc['Tamil Nadu'].rename_axis('date').reset_index()\n",
    "ef['date'] = ef['date'].astype('datetime64[ns]')\n",
    "ax3.bar(ef.date, ef['Tamil Nadu'],color = '#007acc',alpha=0.5,)\n",
    "ax3.xaxis.set_major_locator(mdates.WeekdayLocator())\n",
    "ax3.xaxis.set_major_formatter(mdates.DateFormatter('%b %d'))\n",
    "ax3.set_xticks(ax3.get_xticks()[::3])\n",
    "ax3.text(0.05, 0.9,'Tamil Nadu', transform = ax3.transAxes, fontsize=20);\n",
    "ax3.spines['right'].set_visible(False)\n",
    "ax3.spines['top'].set_visible(False)\n",
    "\n",
    "ax5 = fig.add_subplot(gs[1,3])\n",
    "ef = df.loc['Telangana'].rename_axis('date').reset_index()\n",
    "ef['date'] = ef['date'].astype('datetime64[ns]')\n",
    "ax5.bar(ef.date, ef['Telangana'],color = '#007acc',alpha=0.5,)\n",
    "ax5.xaxis.set_major_locator(mdates.WeekdayLocator())\n",
    "ax5.xaxis.set_major_formatter(mdates.DateFormatter('%b %d'))\n",
    "ax5.set_xticks(ax5.get_xticks()[::3])\n",
    "ax5.text(0.05, 0.9,'Telangana', transform = ax5.transAxes, fontsize=20);\n",
    "ax5.spines['right'].set_visible(False)\n",
    "ax5.spines['top'].set_visible(False)\n",
    "\n",
    "ax6 = fig.add_subplot(gs[1,4])\n",
    "ef = df.loc['Andhra Pradesh'].rename_axis('date').reset_index()\n",
    "ef['date'] = ef['date'].astype('datetime64[ns]')\n",
    "ax6.bar(ef.date, ef['Andhra Pradesh'],color = '#007acc',alpha=0.5,)\n",
    "ax6.xaxis.set_major_locator(mdates.WeekdayLocator())\n",
    "ax6.xaxis.set_major_formatter(mdates.DateFormatter('%b %d'))\n",
    "ax6.set_xticks(ax6.get_xticks()[::3])\n",
    "ax6.text(0.05, 1,'Andhra Pradesh', transform = ax6.transAxes, fontsize=20);\n",
    "ax6.spines['right'].set_visible(False)\n",
    "ax6.spines['top'].set_visible(False)\n",
    "\n",
    "ax4 = fig.add_subplot(gs[1,2])\n",
    "ef = df.loc['Delhi'].rename_axis('date').reset_index()\n",
    "ef['date'] = ef['date'].astype('datetime64[ns]')\n",
    "ax4.bar(ef.date, ef.Delhi,color = '#007acc',alpha=0.5)\n",
    "ax4.set_xticks([])\n",
    "ax4.xaxis.set_major_locator(mdates.WeekdayLocator())\n",
    "ax4.xaxis.set_major_formatter(mdates.DateFormatter('%b %d'))\n",
    "ax4.set_xticks(ax4.get_xticks()[::3])\n",
    "ax4.spines['right'].set_visible(False)\n",
    "ax4.spines['top'].set_visible(False)\n",
    "\n",
    "ax4.text(0.05, 1,'Delhi', transform = ax4.transAxes, fontsize=20)\n",
    "\n",
    "for i in range(n):\n",
    "    \n",
    "    ax.append(fig.add_subplot(gs[i+2,:]))\n",
    "    ef = df.iloc[i+3].rename_axis('date').reset_index()\n",
    "    ef['date'] = ef['date'].astype('datetime64[ns]')\n",
    "    ax[i].bar(ef.date,ef.iloc[:,-1],color = '#007acc',alpha=0.3)\n",
    "    ax[i].plot(ef.date,ef.iloc[:,-1],marker='o',color='#007acc')\n",
    "    ax[i].text(0.02,0.5,f'{ef.columns.values[-1]}',transform = ax[i].transAxes, fontsize = 20);\n",
    "    ax[i].xaxis.set_major_locator(mdates.WeekdayLocator())\n",
    "    ax[i].xaxis.set_major_formatter(mdates.DateFormatter('%b %d'))\n",
    "    ax[i].set_ylim([0,7000])\n",
    "    ax[i].spines['right'].set_visible(False)\n",
    "    ax[i].spines['top'].set_visible(False)\n",
    "plt.tight_layout()\n"
   ]
  },
  {
   "cell_type": "code",
   "execution_count": 20,
   "metadata": {
    "execution": {
     "iopub.execute_input": "2020-09-19T07:37:56.269005Z",
     "iopub.status.busy": "2020-09-19T07:37:56.268323Z",
     "iopub.status.idle": "2020-09-19T07:37:56.272870Z",
     "shell.execute_reply": "2020-09-19T07:37:56.273373Z"
    },
    "papermill": {
     "duration": 0.035952,
     "end_time": "2020-09-19T07:37:56.273528",
     "exception": false,
     "start_time": "2020-09-19T07:37:56.237576",
     "status": "completed"
    },
    "tags": []
   },
   "outputs": [
    {
     "name": "stdout",
     "output_type": "stream",
     "text": [
      "                                   states    Cases  Deaths   PCases  PDeaths  Cases (+)  Deaths (+)  Fatality Rate\n",
      "                              Maharashtra  1167496   31791  1167496    31791          0           0           2.72\n",
      "                           Andhra Pradesh   609558    5244   609558     5244          0           0           0.86\n",
      "                               Tamil Nadu   530908    8685   530908     8685          0           0           1.64\n",
      "                                Karnataka   502982    7808   502982     7808          0           0           1.55\n",
      "                            Uttar Pradesh   342788    4869   342788     4869          0           0           1.42\n",
      "                                    Delhi   238828    4907   238828     4907          0           0           2.05\n",
      "                              West Bengal   218772    4242   218772     4242          0           0           1.94\n",
      "                                   Odisha   175550     744   171341      735       4209           9           0.42\n",
      "                                Telangana   169169    1025   167046     1016       2123           9           0.61\n",
      "                                    Bihar   165371     859   165371      859          0           0           0.52\n",
      "                                    Assam   152858     540   152858      540          0           0           0.35\n",
      "                                   Kerala   126383     502   126383      502          0           0           0.40\n",
      "                                  Gujarat   120498    3287   120498     3287          0           0           2.73\n",
      "                                Rajasthan   111290    1308   111290     1308          0           0           1.18\n",
      "                                  Haryana   106261    1092   106261     1092          0           0           1.03\n",
      "                           Madhya Pradesh   100458    1901   100458     1901          0           0           1.89\n",
      "                                   Punjab    92806    2706    92806     2706          0           0           2.92\n",
      "                             Chhattisgarh    81617     645    81617      645          0           0           0.79\n",
      "                                Jharkhand    68578     602    68578      602          0           0           0.88\n",
      "                        Jammu and Kashmir    61041     966    61041      966          0           0           1.58\n",
      "                              Uttarakhand    38007     464    38007      464          0           0           1.22\n",
      "                                      Goa    27379     335    27379      335          0           0           1.22\n",
      "                               Puducherry    21913     437    21913      437          0           0           1.99\n",
      "                                  Tripura    21504     235    20969      228        535           7           1.09\n",
      "                         Himachal Pradesh    11622     109    11622      109          0           0           0.94\n",
      "                               Chandigarh     9516     110     9516      110          0           0           1.16\n",
      "                                  Manipur     8607      52     8607       52          0           0           0.60\n",
      "                        Arunachal Pradesh     7005      13     7005       13          0           0           0.19\n",
      "                                 Nagaland     5357      10     5357       10          0           0           0.19\n",
      "                                Meghalaya     4447      34     4447       34          0           0           0.76\n",
      "                                   Ladakh     3635      48     3635       48          0           0           1.32\n",
      "              Andaman and Nicobar Islands     3631      52     3631       52          0           0           1.43\n",
      " Dadra and Nagar Haveli and Daman and Diu     2851       2     2851        2          0           0           0.07\n",
      "                                   Sikkim     2303      26     2303       26          0           0           1.13\n",
      "                                  Mizoram     1548       0     1534        0         14           0           0.00\n",
      "                              Lakshadweep        0       0        0        0          0           0            NaN\n"
     ]
    }
   ],
   "source": [
    "#hide_input\n",
    "print(df_table.to_string(index=False))"
   ]
  },
  {
   "cell_type": "code",
   "execution_count": null,
   "metadata": {
    "papermill": {
     "duration": 0.02315,
     "end_time": "2020-09-19T07:37:56.318882",
     "exception": false,
     "start_time": "2020-09-19T07:37:56.295732",
     "status": "completed"
    },
    "tags": []
   },
   "outputs": [],
   "source": []
  },
  {
   "cell_type": "code",
   "execution_count": null,
   "metadata": {
    "papermill": {
     "duration": 0.022624,
     "end_time": "2020-09-19T07:37:56.365757",
     "exception": false,
     "start_time": "2020-09-19T07:37:56.343133",
     "status": "completed"
    },
    "tags": []
   },
   "outputs": [],
   "source": []
  }
 ],
 "metadata": {
  "kernelspec": {
   "display_name": "Python 3",
   "language": "python",
   "name": "python3"
  },
  "language_info": {
   "codemirror_mode": {
    "name": "ipython",
    "version": 3
   },
   "file_extension": ".py",
   "mimetype": "text/x-python",
   "name": "python",
   "nbconvert_exporter": "python",
   "pygments_lexer": "ipython3",
   "version": "3.6.12"
  },
  "papermill": {
   "duration": 10.079362,
   "end_time": "2020-09-19T07:37:56.795079",
   "environment_variables": {},
   "exception": null,
   "input_path": "latest.ipynb",
   "output_path": "latest.ipynb",
   "parameters": {},
   "start_time": "2020-09-19T07:37:46.715717",
   "version": "2.1.2"
  }
 },
 "nbformat": 4,
 "nbformat_minor": 4
}