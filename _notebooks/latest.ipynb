{
 "cells": [
  {
   "cell_type": "markdown",
   "id": "colored-stack",
   "metadata": {
    "papermill": {
     "duration": 0.024024,
     "end_time": "2021-03-07T13:34:16.350671",
     "exception": false,
     "start_time": "2021-03-07T13:34:16.326647",
     "status": "completed"
    },
    "tags": []
   },
   "source": [
    "# Latest COVID-19 India Matplotlib Overview"
   ]
  },
  {
   "cell_type": "code",
   "execution_count": 1,
   "id": "light-proportion",
   "metadata": {
    "execution": {
     "iopub.execute_input": "2021-03-07T13:34:16.405736Z",
     "iopub.status.busy": "2021-03-07T13:34:16.405017Z",
     "iopub.status.idle": "2021-03-07T13:34:17.102226Z",
     "shell.execute_reply": "2021-03-07T13:34:17.101566Z"
    },
    "papermill": {
     "duration": 0.730961,
     "end_time": "2021-03-07T13:34:17.102451",
     "exception": false,
     "start_time": "2021-03-07T13:34:16.371490",
     "status": "completed"
    },
    "tags": []
   },
   "outputs": [],
   "source": [
    "#hide\n",
    "import pandas as pd\n",
    "import numpy as np\n",
    "import requests\n",
    "import json\n",
    "import matplotlib.pyplot as plt\n",
    "import matplotlib.dates as mdates\n",
    "import matplotlib as mpl\n",
    "from IPython.core.display import display,HTML\n",
    "%matplotlib inline\n",
    "from datetime import date"
   ]
  },
  {
   "cell_type": "code",
   "execution_count": 2,
   "id": "greenhouse-shooting",
   "metadata": {
    "execution": {
     "iopub.execute_input": "2021-03-07T13:34:17.152893Z",
     "iopub.status.busy": "2021-03-07T13:34:17.152195Z",
     "iopub.status.idle": "2021-03-07T13:34:17.379521Z",
     "shell.execute_reply": "2021-03-07T13:34:17.380048Z"
    },
    "papermill": {
     "duration": 0.255447,
     "end_time": "2021-03-07T13:34:17.380233",
     "exception": false,
     "start_time": "2021-03-07T13:34:17.124786",
     "status": "completed"
    },
    "tags": []
   },
   "outputs": [],
   "source": [
    "#hide\n",
    "df  = pd.read_csv('https://api.covid19india.org/csv/latest/states.csv')\n",
    "df = df[['Date','State','Confirmed','Deceased']]\n",
    "df = df.rename(columns={'Confirmed':'Cases', \"Deceased\":'Deaths'})\n",
    "df_cases = df[[\"Date\",'State','Cases']]\n",
    "df_deaths = df[['Date','State','Deaths']]\n",
    "df_cases1 = df_cases.groupby('Date')\n",
    "df_deaths1= df_deaths.groupby('Date')"
   ]
  },
  {
   "cell_type": "code",
   "execution_count": 3,
   "id": "hybrid-cathedral",
   "metadata": {
    "execution": {
     "iopub.execute_input": "2021-03-07T13:34:17.426947Z",
     "iopub.status.busy": "2021-03-07T13:34:17.426253Z",
     "iopub.status.idle": "2021-03-07T13:34:17.448574Z",
     "shell.execute_reply": "2021-03-07T13:34:17.447943Z"
    },
    "papermill": {
     "duration": 0.047523,
     "end_time": "2021-03-07T13:34:17.448727",
     "exception": false,
     "start_time": "2021-03-07T13:34:17.401204",
     "status": "completed"
    },
    "tags": []
   },
   "outputs": [],
   "source": [
    "#hide\n",
    "df_snap = pd.read_csv('data/SnapshotCases-28-July.csv')\n",
    "arr_states = df_snap['states'].unique()\n",
    "arr_dates = df['Date'].unique()\n",
    "df_snap = df_snap.set_index('states')"
   ]
  },
  {
   "cell_type": "code",
   "execution_count": 4,
   "id": "interior-belfast",
   "metadata": {
    "execution": {
     "iopub.execute_input": "2021-03-07T13:34:17.504217Z",
     "iopub.status.busy": "2021-03-07T13:34:17.502995Z",
     "iopub.status.idle": "2021-03-07T13:34:17.507960Z",
     "shell.execute_reply": "2021-03-07T13:34:17.509005Z"
    },
    "papermill": {
     "duration": 0.034052,
     "end_time": "2021-03-07T13:34:17.509326",
     "exception": false,
     "start_time": "2021-03-07T13:34:17.475274",
     "status": "completed"
    },
    "tags": []
   },
   "outputs": [
    {
     "data": {
      "text/plain": [
       "array(['Andaman and Nicobar Islands', 'Andhra Pradesh',\n",
       "       'Arunachal Pradesh', 'Assam', 'Bihar', 'Chandigarh',\n",
       "       'Dadra and Nagar Haveli and Daman and Diu', 'Delhi', 'Goa',\n",
       "       'Gujarat', 'Haryana', 'Himachal Pradesh', 'Jammu and Kashmir',\n",
       "       'Jharkhand', 'Karnataka', 'Kerala', 'Lakshadweep',\n",
       "       'Madhya Pradesh', 'Maharashtra', 'Manipur', 'Meghalaya', 'Mizoram',\n",
       "       'Nagaland', 'Odisha', 'Puducherry', 'Punjab', 'Rajasthan',\n",
       "       'Sikkim', 'Tamil Nadu', 'Telangana', 'Tripura', 'Uttar Pradesh',\n",
       "       'West Bengal', 'Chhattisgarh', 'Ladakh', 'Uttarakhand'],\n",
       "      dtype=object)"
      ]
     },
     "execution_count": 4,
     "metadata": {},
     "output_type": "execute_result"
    }
   ],
   "source": [
    "#hide\n",
    "arr_states[-9] = 'Puducherry'\n",
    "arr_states[-10] = 'Odisha'\n",
    "arr_states[6] = 'Dadra and Nagar Haveli and Daman and Diu'\n",
    "arr_states = np.append(arr_states,np.array(['Chhattisgarh','Ladakh','Uttarakhand']))\n",
    "arr_states"
   ]
  },
  {
   "cell_type": "code",
   "execution_count": 5,
   "id": "behind-manner",
   "metadata": {
    "execution": {
     "iopub.execute_input": "2021-03-07T13:34:17.570097Z",
     "iopub.status.busy": "2021-03-07T13:34:17.568593Z",
     "iopub.status.idle": "2021-03-07T13:34:17.584094Z",
     "shell.execute_reply": "2021-03-07T13:34:17.583508Z"
    },
    "papermill": {
     "duration": 0.044891,
     "end_time": "2021-03-07T13:34:17.584249",
     "exception": false,
     "start_time": "2021-03-07T13:34:17.539358",
     "status": "completed"
    },
    "tags": []
   },
   "outputs": [],
   "source": [
    "#hide\n",
    "dates = []\n",
    "for i in arr_dates:\n",
    "    if i>='2020-07-01':\n",
    "        dates.append(i)\n",
    "dict = {'states':dates}\n",
    "for i in arr_states:\n",
    "    dict[i] = [0]*len(dates)\n",
    "dft_cases = pd.DataFrame(dict)\n",
    "dft_deaths = pd.DataFrame(dict)\n"
   ]
  },
  {
   "cell_type": "code",
   "execution_count": 6,
   "id": "simplified-peter",
   "metadata": {
    "execution": {
     "iopub.execute_input": "2021-03-07T13:34:17.633704Z",
     "iopub.status.busy": "2021-03-07T13:34:17.632960Z",
     "iopub.status.idle": "2021-03-07T13:34:22.414002Z",
     "shell.execute_reply": "2021-03-07T13:34:22.413421Z"
    },
    "papermill": {
     "duration": 4.809015,
     "end_time": "2021-03-07T13:34:22.414150",
     "exception": false,
     "start_time": "2021-03-07T13:34:17.605135",
     "status": "completed"
    },
    "tags": []
   },
   "outputs": [],
   "source": [
    "#hide\n",
    "for i in range(len(dates)):\n",
    "    df1_deaths = df_deaths1.get_group(dates[i])\n",
    "    for j in range(len(df1_deaths.index)):\n",
    "        if df1_deaths.iloc[j,1] in arr_states:\n",
    "            dft_deaths.loc[i,df1_deaths.iloc[j,1]] = df1_deaths.iloc[j,2]\n",
    "dft_deaths = dft_deaths.set_index('states')"
   ]
  },
  {
   "cell_type": "code",
   "execution_count": 7,
   "id": "geological-welding",
   "metadata": {
    "execution": {
     "iopub.execute_input": "2021-03-07T13:34:22.465182Z",
     "iopub.status.busy": "2021-03-07T13:34:22.464462Z",
     "iopub.status.idle": "2021-03-07T13:34:27.218095Z",
     "shell.execute_reply": "2021-03-07T13:34:27.217510Z"
    },
    "papermill": {
     "duration": 4.783677,
     "end_time": "2021-03-07T13:34:27.218250",
     "exception": false,
     "start_time": "2021-03-07T13:34:22.434573",
     "status": "completed"
    },
    "tags": []
   },
   "outputs": [],
   "source": [
    "#hide\n",
    "for i in range(len(dates)):\n",
    "    df1_cases = df_cases1.get_group(dates[i])\n",
    "    for j in range(len(df1_cases.index)):\n",
    "        if df1_cases.iloc[j,1] in arr_states:\n",
    "            dft_cases.loc[i,df1_cases.iloc[j,1]] = df1_cases.iloc[j,2]\n",
    "dft_cases = dft_cases.set_index('states')"
   ]
  },
  {
   "cell_type": "code",
   "execution_count": 8,
   "id": "binary-ratio",
   "metadata": {
    "execution": {
     "iopub.execute_input": "2021-03-07T13:34:27.268375Z",
     "iopub.status.busy": "2021-03-07T13:34:27.267686Z",
     "iopub.status.idle": "2021-03-07T13:34:27.270366Z",
     "shell.execute_reply": "2021-03-07T13:34:27.269788Z"
    },
    "papermill": {
     "duration": 0.031683,
     "end_time": "2021-03-07T13:34:27.270522",
     "exception": false,
     "start_time": "2021-03-07T13:34:27.238839",
     "status": "completed"
    },
    "tags": []
   },
   "outputs": [],
   "source": [
    "#hide\n",
    "dft_cases = dft_cases.T\n",
    "dft_deaths = dft_deaths.T\n",
    "dt_today = dates[-1]\n",
    "dt_yday = dates[-2]"
   ]
  },
  {
   "cell_type": "code",
   "execution_count": 9,
   "id": "boolean-calculator",
   "metadata": {
    "execution": {
     "iopub.execute_input": "2021-03-07T13:34:27.318846Z",
     "iopub.status.busy": "2021-03-07T13:34:27.318095Z",
     "iopub.status.idle": "2021-03-07T13:34:27.322603Z",
     "shell.execute_reply": "2021-03-07T13:34:27.323216Z"
    },
    "papermill": {
     "duration": 0.032446,
     "end_time": "2021-03-07T13:34:27.323374",
     "exception": false,
     "start_time": "2021-03-07T13:34:27.290928",
     "status": "completed"
    },
    "tags": []
   },
   "outputs": [],
   "source": [
    "#hide\n",
    "dft_cases = dft_cases.reset_index()\n",
    "dft_deaths = dft_deaths.reset_index()\n",
    "dft_cases = dft_cases.rename(columns = {'index':'state'})\n",
    "dft_deaths = dft_deaths.rename(columns = {'index':'state'})"
   ]
  },
  {
   "cell_type": "code",
   "execution_count": 10,
   "id": "invisible-johnston",
   "metadata": {
    "execution": {
     "iopub.execute_input": "2021-03-07T13:34:27.378679Z",
     "iopub.status.busy": "2021-03-07T13:34:27.377938Z",
     "iopub.status.idle": "2021-03-07T13:34:27.380498Z",
     "shell.execute_reply": "2021-03-07T13:34:27.379760Z"
    },
    "papermill": {
     "duration": 0.036756,
     "end_time": "2021-03-07T13:34:27.380652",
     "exception": false,
     "start_time": "2021-03-07T13:34:27.343896",
     "status": "completed"
    },
    "tags": []
   },
   "outputs": [],
   "source": [
    "#hide\n",
    "dfc_cases = dft_cases.groupby('state')[dt_today].sum()\n",
    "dfc_deaths = dft_deaths.groupby('state')[dt_today].sum()\n",
    "dfp_cases = dft_cases.groupby('state')[dt_yday].sum()\n",
    "dfp_deaths = dft_deaths.groupby('state')[dt_yday].sum()"
   ]
  },
  {
   "cell_type": "code",
   "execution_count": 11,
   "id": "measured-great",
   "metadata": {
    "execution": {
     "iopub.execute_input": "2021-03-07T13:34:27.432430Z",
     "iopub.status.busy": "2021-03-07T13:34:27.431658Z",
     "iopub.status.idle": "2021-03-07T13:34:27.447003Z",
     "shell.execute_reply": "2021-03-07T13:34:27.446349Z"
    },
    "papermill": {
     "duration": 0.044977,
     "end_time": "2021-03-07T13:34:27.447146",
     "exception": false,
     "start_time": "2021-03-07T13:34:27.402169",
     "status": "completed"
    },
    "tags": []
   },
   "outputs": [
    {
     "data": {
      "text/html": [
       "<div>\n",
       "<style scoped>\n",
       "    .dataframe tbody tr th:only-of-type {\n",
       "        vertical-align: middle;\n",
       "    }\n",
       "\n",
       "    .dataframe tbody tr th {\n",
       "        vertical-align: top;\n",
       "    }\n",
       "\n",
       "    .dataframe thead th {\n",
       "        text-align: right;\n",
       "    }\n",
       "</style>\n",
       "<table border=\"1\" class=\"dataframe\">\n",
       "  <thead>\n",
       "    <tr style=\"text-align: right;\">\n",
       "      <th></th>\n",
       "      <th>states</th>\n",
       "      <th>Cases</th>\n",
       "      <th>Deaths</th>\n",
       "      <th>PCases</th>\n",
       "      <th>PDeaths</th>\n",
       "    </tr>\n",
       "  </thead>\n",
       "  <tbody>\n",
       "    <tr>\n",
       "      <th>0</th>\n",
       "      <td>Maharashtra</td>\n",
       "      <td>2208586</td>\n",
       "      <td>52440</td>\n",
       "      <td>2208586</td>\n",
       "      <td>52440</td>\n",
       "    </tr>\n",
       "    <tr>\n",
       "      <th>1</th>\n",
       "      <td>Kerala</td>\n",
       "      <td>1075228</td>\n",
       "      <td>4288</td>\n",
       "      <td>1075228</td>\n",
       "      <td>4288</td>\n",
       "    </tr>\n",
       "    <tr>\n",
       "      <th>2</th>\n",
       "      <td>Karnataka</td>\n",
       "      <td>954393</td>\n",
       "      <td>12359</td>\n",
       "      <td>954393</td>\n",
       "      <td>12359</td>\n",
       "    </tr>\n",
       "    <tr>\n",
       "      <th>3</th>\n",
       "      <td>Andhra Pradesh</td>\n",
       "      <td>890556</td>\n",
       "      <td>7173</td>\n",
       "      <td>890556</td>\n",
       "      <td>7173</td>\n",
       "    </tr>\n",
       "    <tr>\n",
       "      <th>4</th>\n",
       "      <td>Tamil Nadu</td>\n",
       "      <td>854554</td>\n",
       "      <td>12517</td>\n",
       "      <td>854554</td>\n",
       "      <td>12517</td>\n",
       "    </tr>\n",
       "  </tbody>\n",
       "</table>\n",
       "</div>"
      ],
      "text/plain": [
       "           states    Cases  Deaths   PCases  PDeaths\n",
       "0     Maharashtra  2208586   52440  2208586    52440\n",
       "1          Kerala  1075228    4288  1075228     4288\n",
       "2       Karnataka   954393   12359   954393    12359\n",
       "3  Andhra Pradesh   890556    7173   890556     7173\n",
       "4      Tamil Nadu   854554   12517   854554    12517"
      ]
     },
     "execution_count": 11,
     "metadata": {},
     "output_type": "execute_result"
    }
   ],
   "source": [
    "#hide\n",
    "df_table = pd.DataFrame({'states': dfc_cases.index, 'Cases': dfc_cases.values, 'Deaths': dfc_deaths.values, 'PCases': dfp_cases.values, 'PDeaths': dfp_deaths.values}).set_index('states')\n",
    "df_table = df_table.sort_values(by = ['Cases','Deaths'], ascending = [False, False])\n",
    "df_table = df_table.reset_index()\n",
    "df_table.head()"
   ]
  },
  {
   "cell_type": "code",
   "execution_count": 12,
   "id": "found-montreal",
   "metadata": {
    "execution": {
     "iopub.execute_input": "2021-03-07T13:34:27.494794Z",
     "iopub.status.busy": "2021-03-07T13:34:27.494138Z",
     "iopub.status.idle": "2021-03-07T13:34:27.503693Z",
     "shell.execute_reply": "2021-03-07T13:34:27.504338Z"
    },
    "papermill": {
     "duration": 0.036228,
     "end_time": "2021-03-07T13:34:27.504497",
     "exception": false,
     "start_time": "2021-03-07T13:34:27.468269",
     "status": "completed"
    },
    "tags": []
   },
   "outputs": [],
   "source": [
    "#hide\n",
    "for c in 'Cases, Deaths'.split(', '):\n",
    "    df_table[f'{c} (+)'] = (df_table[c] - df_table[f'P{c}']).clip(0)\n",
    "df_table['Fatality Rate'] = (100* df_table['Deaths']/ df_table['Cases']).round(2)"
   ]
  },
  {
   "cell_type": "code",
   "execution_count": 13,
   "id": "minus-savage",
   "metadata": {
    "execution": {
     "iopub.execute_input": "2021-03-07T13:34:27.561347Z",
     "iopub.status.busy": "2021-03-07T13:34:27.560628Z",
     "iopub.status.idle": "2021-03-07T13:34:27.563422Z",
     "shell.execute_reply": "2021-03-07T13:34:27.564115Z"
    },
    "papermill": {
     "duration": 0.039226,
     "end_time": "2021-03-07T13:34:27.564278",
     "exception": false,
     "start_time": "2021-03-07T13:34:27.525052",
     "status": "completed"
    },
    "tags": []
   },
   "outputs": [
    {
     "data": {
      "text/html": [
       "<div>\n",
       "<style scoped>\n",
       "    .dataframe tbody tr th:only-of-type {\n",
       "        vertical-align: middle;\n",
       "    }\n",
       "\n",
       "    .dataframe tbody tr th {\n",
       "        vertical-align: top;\n",
       "    }\n",
       "\n",
       "    .dataframe thead th {\n",
       "        text-align: right;\n",
       "    }\n",
       "</style>\n",
       "<table border=\"1\" class=\"dataframe\">\n",
       "  <thead>\n",
       "    <tr style=\"text-align: right;\">\n",
       "      <th></th>\n",
       "      <th>states</th>\n",
       "      <th>Cases</th>\n",
       "      <th>Deaths</th>\n",
       "      <th>PCases</th>\n",
       "      <th>PDeaths</th>\n",
       "      <th>Cases (+)</th>\n",
       "      <th>Deaths (+)</th>\n",
       "      <th>Fatality Rate</th>\n",
       "    </tr>\n",
       "  </thead>\n",
       "  <tbody>\n",
       "    <tr>\n",
       "      <th>0</th>\n",
       "      <td>Maharashtra</td>\n",
       "      <td>2208586</td>\n",
       "      <td>52440</td>\n",
       "      <td>2208586</td>\n",
       "      <td>52440</td>\n",
       "      <td>0</td>\n",
       "      <td>0</td>\n",
       "      <td>2.37</td>\n",
       "    </tr>\n",
       "    <tr>\n",
       "      <th>1</th>\n",
       "      <td>Kerala</td>\n",
       "      <td>1075228</td>\n",
       "      <td>4288</td>\n",
       "      <td>1075228</td>\n",
       "      <td>4288</td>\n",
       "      <td>0</td>\n",
       "      <td>0</td>\n",
       "      <td>0.40</td>\n",
       "    </tr>\n",
       "    <tr>\n",
       "      <th>2</th>\n",
       "      <td>Karnataka</td>\n",
       "      <td>954393</td>\n",
       "      <td>12359</td>\n",
       "      <td>954393</td>\n",
       "      <td>12359</td>\n",
       "      <td>0</td>\n",
       "      <td>0</td>\n",
       "      <td>1.29</td>\n",
       "    </tr>\n",
       "    <tr>\n",
       "      <th>3</th>\n",
       "      <td>Andhra Pradesh</td>\n",
       "      <td>890556</td>\n",
       "      <td>7173</td>\n",
       "      <td>890556</td>\n",
       "      <td>7173</td>\n",
       "      <td>0</td>\n",
       "      <td>0</td>\n",
       "      <td>0.81</td>\n",
       "    </tr>\n",
       "    <tr>\n",
       "      <th>4</th>\n",
       "      <td>Tamil Nadu</td>\n",
       "      <td>854554</td>\n",
       "      <td>12517</td>\n",
       "      <td>854554</td>\n",
       "      <td>12517</td>\n",
       "      <td>0</td>\n",
       "      <td>0</td>\n",
       "      <td>1.46</td>\n",
       "    </tr>\n",
       "  </tbody>\n",
       "</table>\n",
       "</div>"
      ],
      "text/plain": [
       "           states    Cases  Deaths   PCases  PDeaths  Cases (+)  Deaths (+)  \\\n",
       "0     Maharashtra  2208586   52440  2208586    52440          0           0   \n",
       "1          Kerala  1075228    4288  1075228     4288          0           0   \n",
       "2       Karnataka   954393   12359   954393    12359          0           0   \n",
       "3  Andhra Pradesh   890556    7173   890556     7173          0           0   \n",
       "4      Tamil Nadu   854554   12517   854554    12517          0           0   \n",
       "\n",
       "   Fatality Rate  \n",
       "0           2.37  \n",
       "1           0.40  \n",
       "2           1.29  \n",
       "3           0.81  \n",
       "4           1.46  "
      ]
     },
     "execution_count": 13,
     "metadata": {},
     "output_type": "execute_result"
    }
   ],
   "source": [
    "#hide\n",
    "df_table.head()"
   ]
  },
  {
   "cell_type": "code",
   "execution_count": 14,
   "id": "false-peter",
   "metadata": {
    "execution": {
     "iopub.execute_input": "2021-03-07T13:34:27.624296Z",
     "iopub.status.busy": "2021-03-07T13:34:27.623607Z",
     "iopub.status.idle": "2021-03-07T13:34:27.642818Z",
     "shell.execute_reply": "2021-03-07T13:34:27.642263Z"
    },
    "papermill": {
     "duration": 0.057021,
     "end_time": "2021-03-07T13:34:27.642975",
     "exception": false,
     "start_time": "2021-03-07T13:34:27.585954",
     "status": "completed"
    },
    "tags": []
   },
   "outputs": [
    {
     "data": {
      "text/plain": [
       "{'updated': '2021-03-07',\n",
       " 'since': '2021-03-06',\n",
       " 'Cases': 11211144,\n",
       " 'PCases': 11210620,\n",
       " 'Deaths': 157796,\n",
       " 'PDeaths': 157793,\n",
       " 'Cases (+)': 524,\n",
       " 'Deaths (+)': 3}"
      ]
     },
     "execution_count": 14,
     "metadata": {},
     "output_type": "execute_result"
    }
   ],
   "source": [
    "#hide\n",
    "summary = {'updated':dates[-1], 'since':dates[-2]}\n",
    "list_names = ['Cases', 'PCases', 'Deaths', 'PDeaths', 'Cases (+)', 'Deaths (+)']\n",
    "for name in list_names:\n",
    "    summary[name] = df_table.sum()[name]\n",
    "summary"
   ]
  },
  {
   "cell_type": "code",
   "execution_count": 15,
   "id": "packed-viewer",
   "metadata": {
    "execution": {
     "iopub.execute_input": "2021-03-07T13:34:27.715910Z",
     "iopub.status.busy": "2021-03-07T13:34:27.714488Z",
     "iopub.status.idle": "2021-03-07T13:34:27.720972Z",
     "shell.execute_reply": "2021-03-07T13:34:27.720392Z"
    },
    "papermill": {
     "duration": 0.05509,
     "end_time": "2021-03-07T13:34:27.721111",
     "exception": false,
     "start_time": "2021-03-07T13:34:27.666021",
     "status": "completed"
    },
    "tags": []
   },
   "outputs": [],
   "source": [
    "#hide\n",
    "overview = '''\n",
    "<!-- #######  HTML!! #########-->\n",
    "<h1 style=\"color: #5e9ca0; text-align: center;\">India</h1>\n",
    "<p style=\"text-align: center;\">Last update: <strong>{update}</strong></p>\n",
    "<p style=\"text-align: center;\">Confirmed cases:</p>\n",
    "<p style=\"text-align: center;font-size:24px;\">{cases} (<span style=\"color: #ff0000;\">+{new}</span>)</p>\n",
    "<p style=\"text-align: center;\">Confirmed deaths:</p>\n",
    "<p style=\"text-align: center;font-size:24px;\">{deaths} (<span style=\"color: #ff0000;\">+{dnew}</span>)</p>\n",
    "'''"
   ]
  },
  {
   "cell_type": "code",
   "execution_count": 16,
   "id": "phantom-lover",
   "metadata": {
    "execution": {
     "iopub.execute_input": "2021-03-07T13:34:27.771599Z",
     "iopub.status.busy": "2021-03-07T13:34:27.770839Z",
     "iopub.status.idle": "2021-03-07T13:34:27.774615Z",
     "shell.execute_reply": "2021-03-07T13:34:27.774012Z"
    },
    "papermill": {
     "duration": 0.031259,
     "end_time": "2021-03-07T13:34:27.774759",
     "exception": false,
     "start_time": "2021-03-07T13:34:27.743500",
     "status": "completed"
    },
    "tags": []
   },
   "outputs": [
    {
     "data": {
      "text/html": [
       "\n",
       "<!-- #######  HTML!! #########-->\n",
       "<h1 style=\"color: #5e9ca0; text-align: center;\">India</h1>\n",
       "<p style=\"text-align: center;\">Last update: <strong>2021-03-07</strong></p>\n",
       "<p style=\"text-align: center;\">Confirmed cases:</p>\n",
       "<p style=\"text-align: center;font-size:24px;\">11211144 (<span style=\"color: #ff0000;\">+524</span>)</p>\n",
       "<p style=\"text-align: center;\">Confirmed deaths:</p>\n",
       "<p style=\"text-align: center;font-size:24px;\">157796 (<span style=\"color: #ff0000;\">+3</span>)</p>\n"
      ],
      "text/plain": [
       "<IPython.core.display.HTML object>"
      ]
     },
     "metadata": {},
     "output_type": "display_data"
    }
   ],
   "source": [
    "#hide_input\n",
    "update = summary['updated']\n",
    "cases = summary['Cases']\n",
    "new = summary['Cases (+)']\n",
    "deaths = summary['Deaths']\n",
    "dnew = summary['Deaths (+)']\n",
    "\n",
    "html = HTML(overview.format(update=update, cases=cases,new=new,deaths=deaths,dnew=dnew))\n",
    "\n",
    "display(html)"
   ]
  },
  {
   "cell_type": "code",
   "execution_count": 17,
   "id": "sealed-reset",
   "metadata": {
    "execution": {
     "iopub.execute_input": "2021-03-07T13:34:27.827160Z",
     "iopub.status.busy": "2021-03-07T13:34:27.826368Z",
     "iopub.status.idle": "2021-03-07T13:34:27.837812Z",
     "shell.execute_reply": "2021-03-07T13:34:27.837223Z"
    },
    "papermill": {
     "duration": 0.040936,
     "end_time": "2021-03-07T13:34:27.837956",
     "exception": false,
     "start_time": "2021-03-07T13:34:27.797020",
     "status": "completed"
    },
    "tags": []
   },
   "outputs": [],
   "source": [
    "#hide\n",
    "dt_cols = list(dft_cases.columns[1:])\n",
    "dft_ct_new_cases = dft_cases.groupby('state')[dt_cols].sum().diff(axis=1).fillna(0).astype(int)\n",
    "dft_ct_new_cases.sort_values(by = dates[-1], ascending = False,inplace = True)"
   ]
  },
  {
   "cell_type": "code",
   "execution_count": 18,
   "id": "designed-constant",
   "metadata": {
    "execution": {
     "iopub.execute_input": "2021-03-07T13:34:27.905406Z",
     "iopub.status.busy": "2021-03-07T13:34:27.904669Z",
     "iopub.status.idle": "2021-03-07T13:34:27.907458Z",
     "shell.execute_reply": "2021-03-07T13:34:27.908112Z"
    },
    "papermill": {
     "duration": 0.047242,
     "end_time": "2021-03-07T13:34:27.908282",
     "exception": false,
     "start_time": "2021-03-07T13:34:27.861040",
     "status": "completed"
    },
    "tags": []
   },
   "outputs": [
    {
     "data": {
      "text/html": [
       "<div>\n",
       "<style scoped>\n",
       "    .dataframe tbody tr th:only-of-type {\n",
       "        vertical-align: middle;\n",
       "    }\n",
       "\n",
       "    .dataframe tbody tr th {\n",
       "        vertical-align: top;\n",
       "    }\n",
       "\n",
       "    .dataframe thead th {\n",
       "        text-align: right;\n",
       "    }\n",
       "</style>\n",
       "<table border=\"1\" class=\"dataframe\">\n",
       "  <thead>\n",
       "    <tr style=\"text-align: right;\">\n",
       "      <th>states</th>\n",
       "      <th>2020-07-01</th>\n",
       "      <th>2020-07-02</th>\n",
       "      <th>2020-07-03</th>\n",
       "      <th>2020-07-04</th>\n",
       "      <th>2020-07-05</th>\n",
       "      <th>2020-07-06</th>\n",
       "      <th>2020-07-07</th>\n",
       "      <th>2020-07-08</th>\n",
       "      <th>2020-07-09</th>\n",
       "      <th>2020-07-10</th>\n",
       "      <th>...</th>\n",
       "      <th>2021-02-26</th>\n",
       "      <th>2021-02-27</th>\n",
       "      <th>2021-02-28</th>\n",
       "      <th>2021-03-01</th>\n",
       "      <th>2021-03-02</th>\n",
       "      <th>2021-03-03</th>\n",
       "      <th>2021-03-04</th>\n",
       "      <th>2021-03-05</th>\n",
       "      <th>2021-03-06</th>\n",
       "      <th>2021-03-07</th>\n",
       "    </tr>\n",
       "    <tr>\n",
       "      <th>state</th>\n",
       "      <th></th>\n",
       "      <th></th>\n",
       "      <th></th>\n",
       "      <th></th>\n",
       "      <th></th>\n",
       "      <th></th>\n",
       "      <th></th>\n",
       "      <th></th>\n",
       "      <th></th>\n",
       "      <th></th>\n",
       "      <th></th>\n",
       "      <th></th>\n",
       "      <th></th>\n",
       "      <th></th>\n",
       "      <th></th>\n",
       "      <th></th>\n",
       "      <th></th>\n",
       "      <th></th>\n",
       "      <th></th>\n",
       "      <th></th>\n",
       "      <th></th>\n",
       "    </tr>\n",
       "  </thead>\n",
       "  <tbody>\n",
       "    <tr>\n",
       "      <th>Delhi</th>\n",
       "      <td>0</td>\n",
       "      <td>2373</td>\n",
       "      <td>2520</td>\n",
       "      <td>2505</td>\n",
       "      <td>2244</td>\n",
       "      <td>1379</td>\n",
       "      <td>2008</td>\n",
       "      <td>2033</td>\n",
       "      <td>2187</td>\n",
       "      <td>2089</td>\n",
       "      <td>...</td>\n",
       "      <td>256</td>\n",
       "      <td>243</td>\n",
       "      <td>197</td>\n",
       "      <td>175</td>\n",
       "      <td>217</td>\n",
       "      <td>240</td>\n",
       "      <td>261</td>\n",
       "      <td>312</td>\n",
       "      <td>321</td>\n",
       "      <td>286</td>\n",
       "    </tr>\n",
       "    <tr>\n",
       "      <th>Telangana</th>\n",
       "      <td>0</td>\n",
       "      <td>1213</td>\n",
       "      <td>1892</td>\n",
       "      <td>1850</td>\n",
       "      <td>1590</td>\n",
       "      <td>1831</td>\n",
       "      <td>1879</td>\n",
       "      <td>1924</td>\n",
       "      <td>1410</td>\n",
       "      <td>1278</td>\n",
       "      <td>...</td>\n",
       "      <td>189</td>\n",
       "      <td>178</td>\n",
       "      <td>176</td>\n",
       "      <td>116</td>\n",
       "      <td>163</td>\n",
       "      <td>168</td>\n",
       "      <td>152</td>\n",
       "      <td>166</td>\n",
       "      <td>170</td>\n",
       "      <td>158</td>\n",
       "    </tr>\n",
       "    <tr>\n",
       "      <th>Odisha</th>\n",
       "      <td>0</td>\n",
       "      <td>229</td>\n",
       "      <td>561</td>\n",
       "      <td>495</td>\n",
       "      <td>469</td>\n",
       "      <td>456</td>\n",
       "      <td>571</td>\n",
       "      <td>527</td>\n",
       "      <td>577</td>\n",
       "      <td>755</td>\n",
       "      <td>...</td>\n",
       "      <td>94</td>\n",
       "      <td>86</td>\n",
       "      <td>87</td>\n",
       "      <td>86</td>\n",
       "      <td>74</td>\n",
       "      <td>97</td>\n",
       "      <td>81</td>\n",
       "      <td>91</td>\n",
       "      <td>54</td>\n",
       "      <td>70</td>\n",
       "    </tr>\n",
       "    <tr>\n",
       "      <th>Nagaland</th>\n",
       "      <td>0</td>\n",
       "      <td>34</td>\n",
       "      <td>4</td>\n",
       "      <td>24</td>\n",
       "      <td>27</td>\n",
       "      <td>35</td>\n",
       "      <td>19</td>\n",
       "      <td>13</td>\n",
       "      <td>16</td>\n",
       "      <td>59</td>\n",
       "      <td>...</td>\n",
       "      <td>0</td>\n",
       "      <td>1</td>\n",
       "      <td>1</td>\n",
       "      <td>0</td>\n",
       "      <td>0</td>\n",
       "      <td>5</td>\n",
       "      <td>5</td>\n",
       "      <td>0</td>\n",
       "      <td>1</td>\n",
       "      <td>6</td>\n",
       "    </tr>\n",
       "    <tr>\n",
       "      <th>Meghalaya</th>\n",
       "      <td>0</td>\n",
       "      <td>3</td>\n",
       "      <td>4</td>\n",
       "      <td>8</td>\n",
       "      <td>2</td>\n",
       "      <td>16</td>\n",
       "      <td>6</td>\n",
       "      <td>6</td>\n",
       "      <td>13</td>\n",
       "      <td>73</td>\n",
       "      <td>...</td>\n",
       "      <td>0</td>\n",
       "      <td>0</td>\n",
       "      <td>1</td>\n",
       "      <td>1</td>\n",
       "      <td>3</td>\n",
       "      <td>0</td>\n",
       "      <td>0</td>\n",
       "      <td>2</td>\n",
       "      <td>0</td>\n",
       "      <td>4</td>\n",
       "    </tr>\n",
       "  </tbody>\n",
       "</table>\n",
       "<p>5 rows × 250 columns</p>\n",
       "</div>"
      ],
      "text/plain": [
       "states     2020-07-01  2020-07-02  2020-07-03  2020-07-04  2020-07-05  \\\n",
       "state                                                                   \n",
       "Delhi               0        2373        2520        2505        2244   \n",
       "Telangana           0        1213        1892        1850        1590   \n",
       "Odisha              0         229         561         495         469   \n",
       "Nagaland            0          34           4          24          27   \n",
       "Meghalaya           0           3           4           8           2   \n",
       "\n",
       "states     2020-07-06  2020-07-07  2020-07-08  2020-07-09  2020-07-10  ...  \\\n",
       "state                                                                  ...   \n",
       "Delhi            1379        2008        2033        2187        2089  ...   \n",
       "Telangana        1831        1879        1924        1410        1278  ...   \n",
       "Odisha            456         571         527         577         755  ...   \n",
       "Nagaland           35          19          13          16          59  ...   \n",
       "Meghalaya          16           6           6          13          73  ...   \n",
       "\n",
       "states     2021-02-26  2021-02-27  2021-02-28  2021-03-01  2021-03-02  \\\n",
       "state                                                                   \n",
       "Delhi             256         243         197         175         217   \n",
       "Telangana         189         178         176         116         163   \n",
       "Odisha             94          86          87          86          74   \n",
       "Nagaland            0           1           1           0           0   \n",
       "Meghalaya           0           0           1           1           3   \n",
       "\n",
       "states     2021-03-03  2021-03-04  2021-03-05  2021-03-06  2021-03-07  \n",
       "state                                                                  \n",
       "Delhi             240         261         312         321         286  \n",
       "Telangana         168         152         166         170         158  \n",
       "Odisha             97          81          91          54          70  \n",
       "Nagaland            5           5           0           1           6  \n",
       "Meghalaya           0           0           2           0           4  \n",
       "\n",
       "[5 rows x 250 columns]"
      ]
     },
     "execution_count": 18,
     "metadata": {},
     "output_type": "execute_result"
    }
   ],
   "source": [
    "#hide\n",
    "dft_ct_new_cases.head()"
   ]
  },
  {
   "cell_type": "code",
   "execution_count": 19,
   "id": "responsible-nightlife",
   "metadata": {
    "execution": {
     "iopub.execute_input": "2021-03-07T13:34:27.984674Z",
     "iopub.status.busy": "2021-03-07T13:34:27.968969Z",
     "iopub.status.idle": "2021-03-07T13:34:39.015658Z",
     "shell.execute_reply": "2021-03-07T13:34:39.016236Z"
    },
    "papermill": {
     "duration": 11.083764,
     "end_time": "2021-03-07T13:34:39.016403",
     "exception": false,
     "start_time": "2021-03-07T13:34:27.932639",
     "status": "completed"
    },
    "tags": []
   },
   "outputs": [
    {
     "data": {
      "image/png": "[encoded data removed]",
      "text/plain": [
       "<Figure size 1296x2016 with 11 Axes>"
      ]
     },
     "metadata": {
      "needs_background": "light"
     },
     "output_type": "display_data"
    }
   ],
   "source": [
    "#hide_input\n",
    "df = dft_ct_new_cases.copy()\n",
    "df.loc['Total'] = df.sum()\n",
    "n = 5\n",
    "ax = []\n",
    "fig = plt.figure(figsize = (18,28))\n",
    "gs = fig.add_gridspec(n+2, 5)\n",
    "# gs = fig.add_gridspec(2, 3)\n",
    "ax1 = fig.add_subplot(gs[0, :])\n",
    "ef = df.loc['Total'].rename_axis('date').reset_index()\n",
    "ef['date'] = ef['date'].astype('datetime64[ns]')\n",
    "ax1.bar(ef.date,ef.Total,alpha=0.3,color='#007acc')\n",
    "ax1.plot(ef.date,ef.Total , marker=\"o\", color='#007acc')\n",
    "ax1.xaxis.set_major_locator(mdates.WeekdayLocator())\n",
    "ax1.xaxis.set_major_formatter(mdates.DateFormatter('%b %d'))\n",
    "ax1.text(0.02, 0.5,'India daily case count', transform = ax1.transAxes, fontsize=25);\n",
    "ax1.spines['right'].set_visible(False)\n",
    "ax1.spines['top'].set_visible(False)\n",
    "\n",
    "ax2 = fig.add_subplot(gs[1,0])\n",
    "ef = df.loc['Maharashtra'].rename_axis('date').reset_index()\n",
    "ef['date'] = ef['date'].astype('datetime64[ns]')\n",
    "\n",
    "ax2.bar(ef.date, ef.Maharashtra,color = '#007acc',alpha=0.5)\n",
    "ax2.xaxis.set_major_locator(mdates.WeekdayLocator())\n",
    "ax2.xaxis.set_major_formatter(mdates.DateFormatter('%b %d'))\n",
    "ax2.set_xticks(ax2.get_xticks()[::3])\n",
    "maxyval = ef.Maharashtra.max()\n",
    "ax2.set_ylim([0,maxyval])\n",
    "ax2.text(0.05, 0.9,'Maharashtra', transform = ax2.transAxes, fontsize=20);\n",
    "ax2.spines['right'].set_visible(False)\n",
    "ax2.spines['top'].set_visible(False)\n",
    "\n",
    "\n",
    "ax3 = fig.add_subplot(gs[1,1])\n",
    "ef = df.loc['Tamil Nadu'].rename_axis('date').reset_index()\n",
    "ef['date'] = ef['date'].astype('datetime64[ns]')\n",
    "ax3.bar(ef.date, ef['Tamil Nadu'],color = '#007acc',alpha=0.5,)\n",
    "ax3.xaxis.set_major_locator(mdates.WeekdayLocator())\n",
    "ax3.xaxis.set_major_formatter(mdates.DateFormatter('%b %d'))\n",
    "ax3.set_xticks(ax3.get_xticks()[::3])\n",
    "ax3.text(0.05, 0.9,'Tamil Nadu', transform = ax3.transAxes, fontsize=20);\n",
    "ax3.spines['right'].set_visible(False)\n",
    "ax3.spines['top'].set_visible(False)\n",
    "\n",
    "ax5 = fig.add_subplot(gs[1,3])\n",
    "ef = df.loc['Telangana'].rename_axis('date').reset_index()\n",
    "ef['date'] = ef['date'].astype('datetime64[ns]')\n",
    "ax5.bar(ef.date, ef['Telangana'],color = '#007acc',alpha=0.5,)\n",
    "ax5.xaxis.set_major_locator(mdates.WeekdayLocator())\n",
    "ax5.xaxis.set_major_formatter(mdates.DateFormatter('%b %d'))\n",
    "ax5.set_xticks(ax5.get_xticks()[::3])\n",
    "ax5.text(0.05, 0.9,'Telangana', transform = ax5.transAxes, fontsize=20);\n",
    "ax5.spines['right'].set_visible(False)\n",
    "ax5.spines['top'].set_visible(False)\n",
    "\n",
    "ax6 = fig.add_subplot(gs[1,4])\n",
    "ef = df.loc['Andhra Pradesh'].rename_axis('date').reset_index()\n",
    "ef['date'] = ef['date'].astype('datetime64[ns]')\n",
    "ax6.bar(ef.date, ef['Andhra Pradesh'],color = '#007acc',alpha=0.5,)\n",
    "ax6.xaxis.set_major_locator(mdates.WeekdayLocator())\n",
    "ax6.xaxis.set_major_formatter(mdates.DateFormatter('%b %d'))\n",
    "ax6.set_xticks(ax6.get_xticks()[::3])\n",
    "ax6.text(0.05, 1,'Andhra Pradesh', transform = ax6.transAxes, fontsize=20);\n",
    "ax6.spines['right'].set_visible(False)\n",
    "ax6.spines['top'].set_visible(False)\n",
    "\n",
    "ax4 = fig.add_subplot(gs[1,2])\n",
    "ef = df.loc['Delhi'].rename_axis('date').reset_index()\n",
    "ef['date'] = ef['date'].astype('datetime64[ns]')\n",
    "ax4.bar(ef.date, ef.Delhi,color = '#007acc',alpha=0.5)\n",
    "ax4.set_xticks([])\n",
    "ax4.xaxis.set_major_locator(mdates.WeekdayLocator())\n",
    "ax4.xaxis.set_major_formatter(mdates.DateFormatter('%b %d'))\n",
    "ax4.set_xticks(ax4.get_xticks()[::3])\n",
    "ax4.spines['right'].set_visible(False)\n",
    "ax4.spines['top'].set_visible(False)\n",
    "\n",
    "ax4.text(0.05, 1,'Delhi', transform = ax4.transAxes, fontsize=20)\n",
    "\n",
    "for i in range(n):\n",
    "    \n",
    "    ax.append(fig.add_subplot(gs[i+2,:]))\n",
    "    ef = df.iloc[i+3].rename_axis('date').reset_index()\n",
    "    ef['date'] = ef['date'].astype('datetime64[ns]')\n",
    "    ax[i].bar(ef.date,ef.iloc[:,-1],color = '#007acc',alpha=0.3)\n",
    "    ax[i].plot(ef.date,ef.iloc[:,-1],marker='o',color='#007acc')\n",
    "    ax[i].text(0.02,0.5,f'{ef.columns.values[-1]}',transform = ax[i].transAxes, fontsize = 20);\n",
    "    ax[i].xaxis.set_major_locator(mdates.WeekdayLocator())\n",
    "    ax[i].xaxis.set_major_formatter(mdates.DateFormatter('%b %d'))\n",
    "    ax[i].set_ylim([0,7000])\n",
    "    ax[i].spines['right'].set_visible(False)\n",
    "    ax[i].spines['top'].set_visible(False)\n",
    "plt.tight_layout()\n"
   ]
  },
  {
   "cell_type": "code",
   "execution_count": 20,
   "id": "dress-forge",
   "metadata": {
    "execution": {
     "iopub.execute_input": "2021-03-07T13:34:39.084427Z",
     "iopub.status.busy": "2021-03-07T13:34:39.083744Z",
     "iopub.status.idle": "2021-03-07T13:34:39.086275Z",
     "shell.execute_reply": "2021-03-07T13:34:39.086846Z"
    },
    "papermill": {
     "duration": 0.043703,
     "end_time": "2021-03-07T13:34:39.087004",
     "exception": false,
     "start_time": "2021-03-07T13:34:39.043301",
     "status": "completed"
    },
    "tags": []
   },
   "outputs": [
    {
     "name": "stdout",
     "output_type": "stream",
     "text": [
      "                                   states    Cases  Deaths   PCases  PDeaths  Cases (+)  Deaths (+)  Fatality Rate\n",
      "                              Maharashtra  2208586   52440  2208586    52440          0           0           2.37\n",
      "                                   Kerala  1075228    4288  1075228     4288          0           0           0.40\n",
      "                                Karnataka   954393   12359   954393    12359          0           0           1.29\n",
      "                           Andhra Pradesh   890556    7173   890556     7173          0           0           0.81\n",
      "                               Tamil Nadu   854554   12517   854554    12517          0           0           1.46\n",
      "                                    Delhi   641101   10921   640815    10919        286           2           1.70\n",
      "                            Uttar Pradesh   604164    8729   604164     8729          0           0           1.44\n",
      "                              West Bengal   576435   10277   576435    10277          0           0           1.78\n",
      "                                   Odisha   337744    1970   337674     1970         70           0           0.58\n",
      "                                Rajasthan   321356    2789   321356     2789          0           0           0.87\n",
      "                             Chhattisgarh   314098    3855   314098     3855          0           0           1.23\n",
      "                                Telangana   299900    1641   299742     1640        158           1           0.55\n",
      "                                  Gujarat   272811    4414   272811     4414          0           0           1.62\n",
      "                                  Haryana   272215    3056   272215     3056          0           0           1.12\n",
      "                           Madhya Pradesh   264214    3868   264214     3868          0           0           1.46\n",
      "                                    Bihar   262728    1545   262728     1545          0           0           0.59\n",
      "                                    Assam   217649    1094   217649     1094          0           0           0.50\n",
      "                                   Punjab   187348    5910   187348     5910          0           0           3.15\n",
      "                        Jammu and Kashmir   126932    1961   126932     1961          0           0           1.54\n",
      "                                Jharkhand   120217    1091   120217     1091          0           0           0.91\n",
      "                              Uttarakhand    97363    1694    97363     1694          0           0           1.74\n",
      "                         Himachal Pradesh    59059     984    59059      984          0           0           1.67\n",
      "                                      Goa    55361     799    55361      799          0           0           1.44\n",
      "                               Puducherry    39843     670    39843      670          0           0           1.68\n",
      "                                  Tripura    33421     388    33421      388          0           0           1.16\n",
      "                                  Manipur    29287     373    29287      373          0           0           1.27\n",
      "                               Chandigarh    22238     355    22238      355          0           0           1.60\n",
      "                        Arunachal Pradesh    16839      56    16839       56          0           0           0.33\n",
      "                                Meghalaya    13972     148    13968      148          4           0           1.06\n",
      "                                 Nagaland    12217      91    12211       91          6           0           0.74\n",
      "                                   Ladakh     9830     130     9830      130          0           0           1.32\n",
      "                                   Sikkim     6167     135     6167      135          0           0           2.19\n",
      "              Andaman and Nicobar Islands     5024      62     5024       62          0           0           1.23\n",
      "                                  Mizoram     4428      10     4428       10          0           0           0.23\n",
      " Dadra and Nagar Haveli and Daman and Diu     3392       2     3392        2          0           0           0.06\n",
      "                              Lakshadweep      474       1      474        1          0           0           0.21\n"
     ]
    }
   ],
   "source": [
    "#hide_input\n",
    "print(df_table.to_string(index=False))"
   ]
  },
  {
   "cell_type": "code",
   "execution_count": null,
   "id": "quantitative-legend",
   "metadata": {
    "papermill": {
     "duration": 0.027067,
     "end_time": "2021-03-07T13:34:39.140635",
     "exception": false,
     "start_time": "2021-03-07T13:34:39.113568",
     "status": "completed"
    },
    "tags": []
   },
   "outputs": [],
   "source": []
  },
  {
   "cell_type": "code",
   "execution_count": null,
   "id": "distant-acoustic",
   "metadata": {
    "papermill": {
     "duration": 0.027257,
     "end_time": "2021-03-07T13:34:39.194939",
     "exception": false,
     "start_time": "2021-03-07T13:34:39.167682",
     "status": "completed"
    },
    "tags": []
   },
   "outputs": [],
   "source": []
  }
 ],
 "metadata": {
  "kernelspec": {
   "display_name": "Python 3",
   "language": "python",
   "name": "python3"
  },
  "language_info": {
   "codemirror_mode": {
    "name": "ipython",
    "version": 3
   },
   "file_extension": ".py",
   "mimetype": "text/x-python",
   "name": "python",
   "nbconvert_exporter": "python",
   "pygments_lexer": "ipython3",
   "version": "3.6.13"
  },
  "papermill": {
   "duration": 25.402592,
   "end_time": "2021-03-07T13:34:40.552065",
   "environment_variables": {},
   "exception": null,
   "input_path": "latest.ipynb",
   "output_path": "latest.ipynb",
   "parameters": {},
   "start_time": "2021-03-07T13:34:15.149473",
   "version": "2.1.2"
  }
 },
 "nbformat": 4,
 "nbformat_minor": 5
}