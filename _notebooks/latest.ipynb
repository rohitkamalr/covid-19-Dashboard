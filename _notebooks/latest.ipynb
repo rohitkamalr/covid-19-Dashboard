{
 "cells": [
  {
   "cell_type": "markdown",
   "metadata": {
    "papermill": {
     "duration": 0.019421,
     "end_time": "2020-08-23T05:52:13.474552",
     "exception": false,
     "start_time": "2020-08-23T05:52:13.455131",
     "status": "completed"
    },
    "tags": []
   },
   "source": [
    "# Latest COVID-19 India Matplotlib Overview"
   ]
  },
  {
   "cell_type": "code",
   "execution_count": 1,
   "metadata": {
    "execution": {
     "iopub.execute_input": "2020-08-23T05:52:13.512443Z",
     "iopub.status.busy": "2020-08-23T05:52:13.511485Z",
     "iopub.status.idle": "2020-08-23T05:52:14.076722Z",
     "shell.execute_reply": "2020-08-23T05:52:14.075498Z"
    },
    "papermill": {
     "duration": 0.586993,
     "end_time": "2020-08-23T05:52:14.076932",
     "exception": false,
     "start_time": "2020-08-23T05:52:13.489939",
     "status": "completed"
    },
    "tags": []
   },
   "outputs": [],
   "source": [
    "#hide\n",
    "import pandas as pd\n",
    "import numpy as np\n",
    "import requests\n",
    "import json\n",
    "import matplotlib.pyplot as plt\n",
    "import matplotlib.dates as mdates\n",
    "import matplotlib as mpl\n",
    "from IPython.core.display import display,HTML\n",
    "%matplotlib inline\n",
    "from datetime import date"
   ]
  },
  {
   "cell_type": "code",
   "execution_count": 2,
   "metadata": {
    "execution": {
     "iopub.execute_input": "2020-08-23T05:52:14.113041Z",
     "iopub.status.busy": "2020-08-23T05:52:14.112483Z",
     "iopub.status.idle": "2020-08-23T05:52:14.540679Z",
     "shell.execute_reply": "2020-08-23T05:52:14.540028Z"
    },
    "papermill": {
     "duration": 0.448593,
     "end_time": "2020-08-23T05:52:14.540838",
     "exception": false,
     "start_time": "2020-08-23T05:52:14.092245",
     "status": "completed"
    },
    "tags": []
   },
   "outputs": [],
   "source": [
    "#hide\n",
    "df  = pd.read_csv('https://api.covid19india.org/csv/latest/states.csv')\n",
    "df = df[['Date','State','Confirmed','Deceased']]\n",
    "df = df.rename(columns={'Confirmed':'Cases', \"Deceased\":'Deaths'})\n",
    "df_cases = df[[\"Date\",'State','Cases']]\n",
    "df_deaths = df[['Date','State','Deaths']]\n",
    "df_cases1 = df_cases.groupby('Date')\n",
    "df_deaths1= df_deaths.groupby('Date')"
   ]
  },
  {
   "cell_type": "code",
   "execution_count": 3,
   "metadata": {
    "execution": {
     "iopub.execute_input": "2020-08-23T05:52:14.577412Z",
     "iopub.status.busy": "2020-08-23T05:52:14.576824Z",
     "iopub.status.idle": "2020-08-23T05:52:14.594612Z",
     "shell.execute_reply": "2020-08-23T05:52:14.594106Z"
    },
    "papermill": {
     "duration": 0.038144,
     "end_time": "2020-08-23T05:52:14.594741",
     "exception": false,
     "start_time": "2020-08-23T05:52:14.556597",
     "status": "completed"
    },
    "tags": []
   },
   "outputs": [],
   "source": [
    "#hide\n",
    "df_snap = pd.read_csv('data/SnapshotCases-28-July.csv')\n",
    "arr_states = df_snap['states'].unique()\n",
    "arr_dates = df['Date'].unique()\n",
    "df_snap = df_snap.set_index('states')"
   ]
  },
  {
   "cell_type": "code",
   "execution_count": 4,
   "metadata": {
    "execution": {
     "iopub.execute_input": "2020-08-23T05:52:14.630277Z",
     "iopub.status.busy": "2020-08-23T05:52:14.629722Z",
     "iopub.status.idle": "2020-08-23T05:52:14.632557Z",
     "shell.execute_reply": "2020-08-23T05:52:14.632115Z"
    },
    "papermill": {
     "duration": 0.023094,
     "end_time": "2020-08-23T05:52:14.632678",
     "exception": false,
     "start_time": "2020-08-23T05:52:14.609584",
     "status": "completed"
    },
    "tags": []
   },
   "outputs": [
    {
     "data": {
      "text/plain": [
       "array(['Andaman and Nicobar Islands', 'Andhra Pradesh',\n",
       "       'Arunachal Pradesh', 'Assam', 'Bihar', 'Chandigarh',\n",
       "       'Dadra and Nagar Haveli and Daman and Diu', 'Delhi', 'Goa',\n",
       "       'Gujarat', 'Haryana', 'Himachal Pradesh', 'Jammu and Kashmir',\n",
       "       'Jharkhand', 'Karnataka', 'Kerala', 'Lakshadweep',\n",
       "       'Madhya Pradesh', 'Maharashtra', 'Manipur', 'Meghalaya', 'Mizoram',\n",
       "       'Nagaland', 'Odisha', 'Puducherry', 'Punjab', 'Rajasthan',\n",
       "       'Sikkim', 'Tamil Nadu', 'Telangana', 'Tripura', 'Uttar Pradesh',\n",
       "       'West Bengal', 'Chhattisgarh', 'Ladakh', 'Uttarakhand'],\n",
       "      dtype=object)"
      ]
     },
     "execution_count": 4,
     "metadata": {},
     "output_type": "execute_result"
    }
   ],
   "source": [
    "#hide\n",
    "arr_states[-9] = 'Puducherry'\n",
    "arr_states[-10] = 'Odisha'\n",
    "arr_states[6] = 'Dadra and Nagar Haveli and Daman and Diu'\n",
    "arr_states = np.append(arr_states,np.array(['Chhattisgarh','Ladakh','Uttarakhand']))\n",
    "arr_states"
   ]
  },
  {
   "cell_type": "code",
   "execution_count": 5,
   "metadata": {
    "execution": {
     "iopub.execute_input": "2020-08-23T05:52:14.675139Z",
     "iopub.status.busy": "2020-08-23T05:52:14.674588Z",
     "iopub.status.idle": "2020-08-23T05:52:14.677339Z",
     "shell.execute_reply": "2020-08-23T05:52:14.676803Z"
    },
    "papermill": {
     "duration": 0.030089,
     "end_time": "2020-08-23T05:52:14.677455",
     "exception": false,
     "start_time": "2020-08-23T05:52:14.647366",
     "status": "completed"
    },
    "tags": []
   },
   "outputs": [],
   "source": [
    "#hide\n",
    "dates = []\n",
    "for i in arr_dates:\n",
    "    if i>='2020-07-01':\n",
    "        dates.append(i)\n",
    "dict = {'states':dates}\n",
    "for i in arr_states:\n",
    "    dict[i] = [0]*len(dates)\n",
    "dft_cases = pd.DataFrame(dict)\n",
    "dft_deaths = pd.DataFrame(dict)\n"
   ]
  },
  {
   "cell_type": "code",
   "execution_count": 6,
   "metadata": {
    "execution": {
     "iopub.execute_input": "2020-08-23T05:52:14.708965Z",
     "iopub.status.busy": "2020-08-23T05:52:14.708423Z",
     "iopub.status.idle": "2020-08-23T05:52:15.429935Z",
     "shell.execute_reply": "2020-08-23T05:52:15.430569Z"
    },
    "papermill": {
     "duration": 0.739024,
     "end_time": "2020-08-23T05:52:15.430756",
     "exception": false,
     "start_time": "2020-08-23T05:52:14.691732",
     "status": "completed"
    },
    "tags": []
   },
   "outputs": [],
   "source": [
    "#hide\n",
    "for i in range(len(dates)):\n",
    "    df1_deaths = df_deaths1.get_group(dates[i])\n",
    "    for j in range(len(df1_deaths.index)):\n",
    "        if df1_deaths.iloc[j,1] in arr_states:\n",
    "            dft_deaths.loc[i,df1_deaths.iloc[j,1]] = df1_deaths.iloc[j,2]\n",
    "dft_deaths = dft_deaths.set_index('states')"
   ]
  },
  {
   "cell_type": "code",
   "execution_count": 7,
   "metadata": {
    "execution": {
     "iopub.execute_input": "2020-08-23T05:52:15.468835Z",
     "iopub.status.busy": "2020-08-23T05:52:15.468231Z",
     "iopub.status.idle": "2020-08-23T05:52:16.178129Z",
     "shell.execute_reply": "2020-08-23T05:52:16.177607Z"
    },
    "papermill": {
     "duration": 0.731994,
     "end_time": "2020-08-23T05:52:16.178269",
     "exception": false,
     "start_time": "2020-08-23T05:52:15.446275",
     "status": "completed"
    },
    "tags": []
   },
   "outputs": [],
   "source": [
    "#hide\n",
    "for i in range(len(dates)):\n",
    "    df1_cases = df_cases1.get_group(dates[i])\n",
    "    for j in range(len(df1_cases.index)):\n",
    "        if df1_cases.iloc[j,1] in arr_states:\n",
    "            dft_cases.loc[i,df1_cases.iloc[j,1]] = df1_cases.iloc[j,2]\n",
    "dft_cases = dft_cases.set_index('states')"
   ]
  },
  {
   "cell_type": "code",
   "execution_count": 8,
   "metadata": {
    "execution": {
     "iopub.execute_input": "2020-08-23T05:52:16.223323Z",
     "iopub.status.busy": "2020-08-23T05:52:16.222454Z",
     "iopub.status.idle": "2020-08-23T05:52:16.227720Z",
     "shell.execute_reply": "2020-08-23T05:52:16.228321Z"
    },
    "papermill": {
     "duration": 0.030955,
     "end_time": "2020-08-23T05:52:16.228471",
     "exception": false,
     "start_time": "2020-08-23T05:52:16.197516",
     "status": "completed"
    },
    "tags": []
   },
   "outputs": [],
   "source": [
    "#hide\n",
    "dft_cases = dft_cases.T\n",
    "dft_deaths = dft_deaths.T\n",
    "dt_today = dates[-1]\n",
    "dt_yday = dates[-2]"
   ]
  },
  {
   "cell_type": "code",
   "execution_count": 9,
   "metadata": {
    "execution": {
     "iopub.execute_input": "2020-08-23T05:52:16.269285Z",
     "iopub.status.busy": "2020-08-23T05:52:16.268668Z",
     "iopub.status.idle": "2020-08-23T05:52:16.270451Z",
     "shell.execute_reply": "2020-08-23T05:52:16.270896Z"
    },
    "papermill": {
     "duration": 0.026731,
     "end_time": "2020-08-23T05:52:16.271049",
     "exception": false,
     "start_time": "2020-08-23T05:52:16.244318",
     "status": "completed"
    },
    "tags": []
   },
   "outputs": [],
   "source": [
    "#hide\n",
    "dft_cases = dft_cases.reset_index()\n",
    "dft_deaths = dft_deaths.reset_index()\n",
    "dft_cases = dft_cases.rename(columns = {'index':'state'})\n",
    "dft_deaths = dft_deaths.rename(columns = {'index':'state'})"
   ]
  },
  {
   "cell_type": "code",
   "execution_count": 10,
   "metadata": {
    "execution": {
     "iopub.execute_input": "2020-08-23T05:52:16.309763Z",
     "iopub.status.busy": "2020-08-23T05:52:16.309072Z",
     "iopub.status.idle": "2020-08-23T05:52:16.314850Z",
     "shell.execute_reply": "2020-08-23T05:52:16.315353Z"
    },
    "papermill": {
     "duration": 0.029033,
     "end_time": "2020-08-23T05:52:16.315503",
     "exception": false,
     "start_time": "2020-08-23T05:52:16.286470",
     "status": "completed"
    },
    "tags": []
   },
   "outputs": [],
   "source": [
    "#hide\n",
    "dfc_cases = dft_cases.groupby('state')[dt_today].sum()\n",
    "dfc_deaths = dft_deaths.groupby('state')[dt_today].sum()\n",
    "dfp_cases = dft_cases.groupby('state')[dt_yday].sum()\n",
    "dfp_deaths = dft_deaths.groupby('state')[dt_yday].sum()"
   ]
  },
  {
   "cell_type": "code",
   "execution_count": 11,
   "metadata": {
    "execution": {
     "iopub.execute_input": "2020-08-23T05:52:16.361728Z",
     "iopub.status.busy": "2020-08-23T05:52:16.361122Z",
     "iopub.status.idle": "2020-08-23T05:52:16.367447Z",
     "shell.execute_reply": "2020-08-23T05:52:16.366943Z"
    },
    "papermill": {
     "duration": 0.036617,
     "end_time": "2020-08-23T05:52:16.367580",
     "exception": false,
     "start_time": "2020-08-23T05:52:16.330963",
     "status": "completed"
    },
    "tags": []
   },
   "outputs": [
    {
     "data": {
      "text/html": [
       "<div>\n",
       "<style scoped>\n",
       "    .dataframe tbody tr th:only-of-type {\n",
       "        vertical-align: middle;\n",
       "    }\n",
       "\n",
       "    .dataframe tbody tr th {\n",
       "        vertical-align: top;\n",
       "    }\n",
       "\n",
       "    .dataframe thead th {\n",
       "        text-align: right;\n",
       "    }\n",
       "</style>\n",
       "<table border=\"1\" class=\"dataframe\">\n",
       "  <thead>\n",
       "    <tr style=\"text-align: right;\">\n",
       "      <th></th>\n",
       "      <th>states</th>\n",
       "      <th>Cases</th>\n",
       "      <th>Deaths</th>\n",
       "      <th>PCases</th>\n",
       "      <th>PDeaths</th>\n",
       "    </tr>\n",
       "  </thead>\n",
       "  <tbody>\n",
       "    <tr>\n",
       "      <th>0</th>\n",
       "      <td>Maharashtra</td>\n",
       "      <td>671942</td>\n",
       "      <td>21995</td>\n",
       "      <td>671942</td>\n",
       "      <td>21995</td>\n",
       "    </tr>\n",
       "    <tr>\n",
       "      <th>1</th>\n",
       "      <td>Tamil Nadu</td>\n",
       "      <td>373410</td>\n",
       "      <td>6420</td>\n",
       "      <td>373410</td>\n",
       "      <td>6420</td>\n",
       "    </tr>\n",
       "    <tr>\n",
       "      <th>2</th>\n",
       "      <td>Andhra Pradesh</td>\n",
       "      <td>345216</td>\n",
       "      <td>3189</td>\n",
       "      <td>345216</td>\n",
       "      <td>3189</td>\n",
       "    </tr>\n",
       "    <tr>\n",
       "      <th>3</th>\n",
       "      <td>Karnataka</td>\n",
       "      <td>271876</td>\n",
       "      <td>4615</td>\n",
       "      <td>271876</td>\n",
       "      <td>4615</td>\n",
       "    </tr>\n",
       "    <tr>\n",
       "      <th>4</th>\n",
       "      <td>Uttar Pradesh</td>\n",
       "      <td>182456</td>\n",
       "      <td>2867</td>\n",
       "      <td>182456</td>\n",
       "      <td>2867</td>\n",
       "    </tr>\n",
       "  </tbody>\n",
       "</table>\n",
       "</div>"
      ],
      "text/plain": [
       "           states   Cases  Deaths  PCases  PDeaths\n",
       "0     Maharashtra  671942   21995  671942    21995\n",
       "1      Tamil Nadu  373410    6420  373410     6420\n",
       "2  Andhra Pradesh  345216    3189  345216     3189\n",
       "3       Karnataka  271876    4615  271876     4615\n",
       "4   Uttar Pradesh  182456    2867  182456     2867"
      ]
     },
     "execution_count": 11,
     "metadata": {},
     "output_type": "execute_result"
    }
   ],
   "source": [
    "#hide\n",
    "df_table = pd.DataFrame({'states': dfc_cases.index, 'Cases': dfc_cases.values, 'Deaths': dfc_deaths.values, 'PCases': dfp_cases.values, 'PDeaths': dfp_deaths.values}).set_index('states')\n",
    "df_table = df_table.sort_values(by = ['Cases','Deaths'], ascending = [False, False])\n",
    "df_table = df_table.reset_index()\n",
    "df_table.head()"
   ]
  },
  {
   "cell_type": "code",
   "execution_count": 12,
   "metadata": {
    "execution": {
     "iopub.execute_input": "2020-08-23T05:52:16.405077Z",
     "iopub.status.busy": "2020-08-23T05:52:16.404479Z",
     "iopub.status.idle": "2020-08-23T05:52:16.413247Z",
     "shell.execute_reply": "2020-08-23T05:52:16.412764Z"
    },
    "papermill": {
     "duration": 0.029699,
     "end_time": "2020-08-23T05:52:16.413385",
     "exception": false,
     "start_time": "2020-08-23T05:52:16.383686",
     "status": "completed"
    },
    "tags": []
   },
   "outputs": [],
   "source": [
    "#hide\n",
    "for c in 'Cases, Deaths'.split(', '):\n",
    "    df_table[f'{c} (+)'] = (df_table[c] - df_table[f'P{c}']).clip(0)\n",
    "df_table['Fatality Rate'] = (100* df_table['Deaths']/ df_table['Cases']).round(2)"
   ]
  },
  {
   "cell_type": "code",
   "execution_count": 13,
   "metadata": {
    "execution": {
     "iopub.execute_input": "2020-08-23T05:52:16.456765Z",
     "iopub.status.busy": "2020-08-23T05:52:16.452602Z",
     "iopub.status.idle": "2020-08-23T05:52:16.459574Z",
     "shell.execute_reply": "2020-08-23T05:52:16.459070Z"
    },
    "papermill": {
     "duration": 0.030654,
     "end_time": "2020-08-23T05:52:16.459727",
     "exception": false,
     "start_time": "2020-08-23T05:52:16.429073",
     "status": "completed"
    },
    "tags": []
   },
   "outputs": [
    {
     "data": {
      "text/html": [
       "<div>\n",
       "<style scoped>\n",
       "    .dataframe tbody tr th:only-of-type {\n",
       "        vertical-align: middle;\n",
       "    }\n",
       "\n",
       "    .dataframe tbody tr th {\n",
       "        vertical-align: top;\n",
       "    }\n",
       "\n",
       "    .dataframe thead th {\n",
       "        text-align: right;\n",
       "    }\n",
       "</style>\n",
       "<table border=\"1\" class=\"dataframe\">\n",
       "  <thead>\n",
       "    <tr style=\"text-align: right;\">\n",
       "      <th></th>\n",
       "      <th>states</th>\n",
       "      <th>Cases</th>\n",
       "      <th>Deaths</th>\n",
       "      <th>PCases</th>\n",
       "      <th>PDeaths</th>\n",
       "      <th>Cases (+)</th>\n",
       "      <th>Deaths (+)</th>\n",
       "      <th>Fatality Rate</th>\n",
       "    </tr>\n",
       "  </thead>\n",
       "  <tbody>\n",
       "    <tr>\n",
       "      <th>0</th>\n",
       "      <td>Maharashtra</td>\n",
       "      <td>671942</td>\n",
       "      <td>21995</td>\n",
       "      <td>671942</td>\n",
       "      <td>21995</td>\n",
       "      <td>0</td>\n",
       "      <td>0</td>\n",
       "      <td>3.27</td>\n",
       "    </tr>\n",
       "    <tr>\n",
       "      <th>1</th>\n",
       "      <td>Tamil Nadu</td>\n",
       "      <td>373410</td>\n",
       "      <td>6420</td>\n",
       "      <td>373410</td>\n",
       "      <td>6420</td>\n",
       "      <td>0</td>\n",
       "      <td>0</td>\n",
       "      <td>1.72</td>\n",
       "    </tr>\n",
       "    <tr>\n",
       "      <th>2</th>\n",
       "      <td>Andhra Pradesh</td>\n",
       "      <td>345216</td>\n",
       "      <td>3189</td>\n",
       "      <td>345216</td>\n",
       "      <td>3189</td>\n",
       "      <td>0</td>\n",
       "      <td>0</td>\n",
       "      <td>0.92</td>\n",
       "    </tr>\n",
       "    <tr>\n",
       "      <th>3</th>\n",
       "      <td>Karnataka</td>\n",
       "      <td>271876</td>\n",
       "      <td>4615</td>\n",
       "      <td>271876</td>\n",
       "      <td>4615</td>\n",
       "      <td>0</td>\n",
       "      <td>0</td>\n",
       "      <td>1.70</td>\n",
       "    </tr>\n",
       "    <tr>\n",
       "      <th>4</th>\n",
       "      <td>Uttar Pradesh</td>\n",
       "      <td>182456</td>\n",
       "      <td>2867</td>\n",
       "      <td>182456</td>\n",
       "      <td>2867</td>\n",
       "      <td>0</td>\n",
       "      <td>0</td>\n",
       "      <td>1.57</td>\n",
       "    </tr>\n",
       "  </tbody>\n",
       "</table>\n",
       "</div>"
      ],
      "text/plain": [
       "           states   Cases  Deaths  PCases  PDeaths  Cases (+)  Deaths (+)  \\\n",
       "0     Maharashtra  671942   21995  671942    21995          0           0   \n",
       "1      Tamil Nadu  373410    6420  373410     6420          0           0   \n",
       "2  Andhra Pradesh  345216    3189  345216     3189          0           0   \n",
       "3       Karnataka  271876    4615  271876     4615          0           0   \n",
       "4   Uttar Pradesh  182456    2867  182456     2867          0           0   \n",
       "\n",
       "   Fatality Rate  \n",
       "0           3.27  \n",
       "1           1.72  \n",
       "2           0.92  \n",
       "3           1.70  \n",
       "4           1.57  "
      ]
     },
     "execution_count": 13,
     "metadata": {},
     "output_type": "execute_result"
    }
   ],
   "source": [
    "#hide\n",
    "df_table.head()"
   ]
  },
  {
   "cell_type": "code",
   "execution_count": 14,
   "metadata": {
    "execution": {
     "iopub.execute_input": "2020-08-23T05:52:16.498799Z",
     "iopub.status.busy": "2020-08-23T05:52:16.498207Z",
     "iopub.status.idle": "2020-08-23T05:52:16.514153Z",
     "shell.execute_reply": "2020-08-23T05:52:16.514716Z"
    },
    "papermill": {
     "duration": 0.038871,
     "end_time": "2020-08-23T05:52:16.514892",
     "exception": false,
     "start_time": "2020-08-23T05:52:16.476021",
     "status": "completed"
    },
    "tags": []
   },
   "outputs": [
    {
     "data": {
      "text/plain": [
       "{'updated': '2020-08-23',\n",
       " 'since': '2020-08-22',\n",
       " 'Cases': 3046862,\n",
       " 'PCases': 3043436,\n",
       " 'Deaths': 56865,\n",
       " 'PDeaths': 56846,\n",
       " 'Cases (+)': 3426,\n",
       " 'Deaths (+)': 19}"
      ]
     },
     "execution_count": 14,
     "metadata": {},
     "output_type": "execute_result"
    }
   ],
   "source": [
    "#hide\n",
    "summary = {'updated':dates[-1], 'since':dates[-2]}\n",
    "list_names = ['Cases', 'PCases', 'Deaths', 'PDeaths', 'Cases (+)', 'Deaths (+)']\n",
    "for name in list_names:\n",
    "    summary[name] = df_table.sum()[name]\n",
    "summary"
   ]
  },
  {
   "cell_type": "code",
   "execution_count": 15,
   "metadata": {
    "execution": {
     "iopub.execute_input": "2020-08-23T05:52:16.554357Z",
     "iopub.status.busy": "2020-08-23T05:52:16.553759Z",
     "iopub.status.idle": "2020-08-23T05:52:16.555973Z",
     "shell.execute_reply": "2020-08-23T05:52:16.556390Z"
    },
    "papermill": {
     "duration": 0.024284,
     "end_time": "2020-08-23T05:52:16.556532",
     "exception": false,
     "start_time": "2020-08-23T05:52:16.532248",
     "status": "completed"
    },
    "tags": []
   },
   "outputs": [],
   "source": [
    "#hide\n",
    "overview = '''\n",
    "<!-- #######  HTML!! #########-->\n",
    "<h1 style=\"color: #5e9ca0; text-align: center;\">India</h1>\n",
    "<p style=\"text-align: center;\">Last update: <strong>{update}</strong></p>\n",
    "<p style=\"text-align: center;\">Confirmed cases:</p>\n",
    "<p style=\"text-align: center;font-size:24px;\">{cases} (<span style=\"color: #ff0000;\">+{new}</span>)</p>\n",
    "<p style=\"text-align: center;\">Confirmed deaths:</p>\n",
    "<p style=\"text-align: center;font-size:24px;\">{deaths} (<span style=\"color: #ff0000;\">+{dnew}</span>)</p>\n",
    "'''"
   ]
  },
  {
   "cell_type": "code",
   "execution_count": 16,
   "metadata": {
    "execution": {
     "iopub.execute_input": "2020-08-23T05:52:16.596496Z",
     "iopub.status.busy": "2020-08-23T05:52:16.595893Z",
     "iopub.status.idle": "2020-08-23T05:52:16.598502Z",
     "shell.execute_reply": "2020-08-23T05:52:16.598996Z"
    },
    "papermill": {
     "duration": 0.024987,
     "end_time": "2020-08-23T05:52:16.599148",
     "exception": false,
     "start_time": "2020-08-23T05:52:16.574161",
     "status": "completed"
    },
    "tags": []
   },
   "outputs": [
    {
     "data": {
      "text/html": [
       "\n",
       "<!-- #######  HTML!! #########-->\n",
       "<h1 style=\"color: #5e9ca0; text-align: center;\">India</h1>\n",
       "<p style=\"text-align: center;\">Last update: <strong>2020-08-23</strong></p>\n",
       "<p style=\"text-align: center;\">Confirmed cases:</p>\n",
       "<p style=\"text-align: center;font-size:24px;\">3046862 (<span style=\"color: #ff0000;\">+3426</span>)</p>\n",
       "<p style=\"text-align: center;\">Confirmed deaths:</p>\n",
       "<p style=\"text-align: center;font-size:24px;\">56865 (<span style=\"color: #ff0000;\">+19</span>)</p>\n"
      ],
      "text/plain": [
       "<IPython.core.display.HTML object>"
      ]
     },
     "metadata": {},
     "output_type": "display_data"
    }
   ],
   "source": [
    "#hide_input\n",
    "update = summary['updated']\n",
    "cases = summary['Cases']\n",
    "new = summary['Cases (+)']\n",
    "deaths = summary['Deaths']\n",
    "dnew = summary['Deaths (+)']\n",
    "\n",
    "html = HTML(overview.format(update=update, cases=cases,new=new,deaths=deaths,dnew=dnew))\n",
    "\n",
    "display(html)"
   ]
  },
  {
   "cell_type": "code",
   "execution_count": 17,
   "metadata": {
    "execution": {
     "iopub.execute_input": "2020-08-23T05:52:16.642790Z",
     "iopub.status.busy": "2020-08-23T05:52:16.642195Z",
     "iopub.status.idle": "2020-08-23T05:52:16.646848Z",
     "shell.execute_reply": "2020-08-23T05:52:16.647359Z"
    },
    "papermill": {
     "duration": 0.030666,
     "end_time": "2020-08-23T05:52:16.647508",
     "exception": false,
     "start_time": "2020-08-23T05:52:16.616842",
     "status": "completed"
    },
    "tags": []
   },
   "outputs": [],
   "source": [
    "#hide\n",
    "dt_cols = list(dft_cases.columns[1:])\n",
    "dft_ct_new_cases = dft_cases.groupby('state')[dt_cols].sum().diff(axis=1).fillna(0).astype(int)\n",
    "dft_ct_new_cases.sort_values(by = dates[-1], ascending = False,inplace = True)"
   ]
  },
  {
   "cell_type": "code",
   "execution_count": 18,
   "metadata": {
    "execution": {
     "iopub.execute_input": "2020-08-23T05:52:16.695514Z",
     "iopub.status.busy": "2020-08-23T05:52:16.694925Z",
     "iopub.status.idle": "2020-08-23T05:52:16.705656Z",
     "shell.execute_reply": "2020-08-23T05:52:16.706223Z"
    },
    "papermill": {
     "duration": 0.039151,
     "end_time": "2020-08-23T05:52:16.706394",
     "exception": false,
     "start_time": "2020-08-23T05:52:16.667243",
     "status": "completed"
    },
    "tags": []
   },
   "outputs": [
    {
     "data": {
      "text/html": [
       "<div>\n",
       "<style scoped>\n",
       "    .dataframe tbody tr th:only-of-type {\n",
       "        vertical-align: middle;\n",
       "    }\n",
       "\n",
       "    .dataframe tbody tr th {\n",
       "        vertical-align: top;\n",
       "    }\n",
       "\n",
       "    .dataframe thead th {\n",
       "        text-align: right;\n",
       "    }\n",
       "</style>\n",
       "<table border=\"1\" class=\"dataframe\">\n",
       "  <thead>\n",
       "    <tr style=\"text-align: right;\">\n",
       "      <th>states</th>\n",
       "      <th>2020-07-01</th>\n",
       "      <th>2020-07-02</th>\n",
       "      <th>2020-07-03</th>\n",
       "      <th>2020-07-04</th>\n",
       "      <th>2020-07-05</th>\n",
       "      <th>2020-07-06</th>\n",
       "      <th>2020-07-07</th>\n",
       "      <th>2020-07-08</th>\n",
       "      <th>2020-07-09</th>\n",
       "      <th>2020-07-10</th>\n",
       "      <th>...</th>\n",
       "      <th>2020-08-14</th>\n",
       "      <th>2020-08-15</th>\n",
       "      <th>2020-08-16</th>\n",
       "      <th>2020-08-17</th>\n",
       "      <th>2020-08-18</th>\n",
       "      <th>2020-08-19</th>\n",
       "      <th>2020-08-20</th>\n",
       "      <th>2020-08-21</th>\n",
       "      <th>2020-08-22</th>\n",
       "      <th>2020-08-23</th>\n",
       "    </tr>\n",
       "    <tr>\n",
       "      <th>state</th>\n",
       "      <th></th>\n",
       "      <th></th>\n",
       "      <th></th>\n",
       "      <th></th>\n",
       "      <th></th>\n",
       "      <th></th>\n",
       "      <th></th>\n",
       "      <th></th>\n",
       "      <th></th>\n",
       "      <th></th>\n",
       "      <th></th>\n",
       "      <th></th>\n",
       "      <th></th>\n",
       "      <th></th>\n",
       "      <th></th>\n",
       "      <th></th>\n",
       "      <th></th>\n",
       "      <th></th>\n",
       "      <th></th>\n",
       "      <th></th>\n",
       "      <th></th>\n",
       "    </tr>\n",
       "  </thead>\n",
       "  <tbody>\n",
       "    <tr>\n",
       "      <th>Telangana</th>\n",
       "      <td>0</td>\n",
       "      <td>1213</td>\n",
       "      <td>1892</td>\n",
       "      <td>1850</td>\n",
       "      <td>1590</td>\n",
       "      <td>1831</td>\n",
       "      <td>1879</td>\n",
       "      <td>1924</td>\n",
       "      <td>1410</td>\n",
       "      <td>1278</td>\n",
       "      <td>...</td>\n",
       "      <td>1921</td>\n",
       "      <td>1863</td>\n",
       "      <td>1102</td>\n",
       "      <td>894</td>\n",
       "      <td>1682</td>\n",
       "      <td>1763</td>\n",
       "      <td>1724</td>\n",
       "      <td>1967</td>\n",
       "      <td>2474</td>\n",
       "      <td>2384</td>\n",
       "    </tr>\n",
       "    <tr>\n",
       "      <th>Rajasthan</th>\n",
       "      <td>0</td>\n",
       "      <td>350</td>\n",
       "      <td>390</td>\n",
       "      <td>480</td>\n",
       "      <td>632</td>\n",
       "      <td>524</td>\n",
       "      <td>716</td>\n",
       "      <td>659</td>\n",
       "      <td>500</td>\n",
       "      <td>611</td>\n",
       "      <td>...</td>\n",
       "      <td>1278</td>\n",
       "      <td>1287</td>\n",
       "      <td>1317</td>\n",
       "      <td>1334</td>\n",
       "      <td>1347</td>\n",
       "      <td>1312</td>\n",
       "      <td>1330</td>\n",
       "      <td>1335</td>\n",
       "      <td>1310</td>\n",
       "      <td>697</td>\n",
       "    </tr>\n",
       "    <tr>\n",
       "      <th>Tripura</th>\n",
       "      <td>0</td>\n",
       "      <td>39</td>\n",
       "      <td>93</td>\n",
       "      <td>25</td>\n",
       "      <td>23</td>\n",
       "      <td>111</td>\n",
       "      <td>24</td>\n",
       "      <td>57</td>\n",
       "      <td>16</td>\n",
       "      <td>142</td>\n",
       "      <td>...</td>\n",
       "      <td>164</td>\n",
       "      <td>167</td>\n",
       "      <td>127</td>\n",
       "      <td>143</td>\n",
       "      <td>205</td>\n",
       "      <td>236</td>\n",
       "      <td>190</td>\n",
       "      <td>256</td>\n",
       "      <td>280</td>\n",
       "      <td>331</td>\n",
       "    </tr>\n",
       "    <tr>\n",
       "      <th>Mizoram</th>\n",
       "      <td>0</td>\n",
       "      <td>2</td>\n",
       "      <td>0</td>\n",
       "      <td>2</td>\n",
       "      <td>22</td>\n",
       "      <td>11</td>\n",
       "      <td>1</td>\n",
       "      <td>5</td>\n",
       "      <td>0</td>\n",
       "      <td>23</td>\n",
       "      <td>...</td>\n",
       "      <td>8</td>\n",
       "      <td>56</td>\n",
       "      <td>64</td>\n",
       "      <td>12</td>\n",
       "      <td>26</td>\n",
       "      <td>45</td>\n",
       "      <td>14</td>\n",
       "      <td>21</td>\n",
       "      <td>8</td>\n",
       "      <td>14</td>\n",
       "    </tr>\n",
       "    <tr>\n",
       "      <th>Andaman and Nicobar Islands</th>\n",
       "      <td>0</td>\n",
       "      <td>9</td>\n",
       "      <td>7</td>\n",
       "      <td>3</td>\n",
       "      <td>6</td>\n",
       "      <td>16</td>\n",
       "      <td>6</td>\n",
       "      <td>2</td>\n",
       "      <td>7</td>\n",
       "      <td>0</td>\n",
       "      <td>...</td>\n",
       "      <td>149</td>\n",
       "      <td>120</td>\n",
       "      <td>93</td>\n",
       "      <td>46</td>\n",
       "      <td>84</td>\n",
       "      <td>75</td>\n",
       "      <td>76</td>\n",
       "      <td>67</td>\n",
       "      <td>61</td>\n",
       "      <td>0</td>\n",
       "    </tr>\n",
       "  </tbody>\n",
       "</table>\n",
       "<p>5 rows × 54 columns</p>\n",
       "</div>"
      ],
      "text/plain": [
       "states                       2020-07-01  2020-07-02  2020-07-03  2020-07-04  \\\n",
       "state                                                                         \n",
       "Telangana                             0        1213        1892        1850   \n",
       "Rajasthan                             0         350         390         480   \n",
       "Tripura                               0          39          93          25   \n",
       "Mizoram                               0           2           0           2   \n",
       "Andaman and Nicobar Islands           0           9           7           3   \n",
       "\n",
       "states                       2020-07-05  2020-07-06  2020-07-07  2020-07-08  \\\n",
       "state                                                                         \n",
       "Telangana                          1590        1831        1879        1924   \n",
       "Rajasthan                           632         524         716         659   \n",
       "Tripura                              23         111          24          57   \n",
       "Mizoram                              22          11           1           5   \n",
       "Andaman and Nicobar Islands           6          16           6           2   \n",
       "\n",
       "states                       2020-07-09  2020-07-10  ...  2020-08-14  \\\n",
       "state                                                ...               \n",
       "Telangana                          1410        1278  ...        1921   \n",
       "Rajasthan                           500         611  ...        1278   \n",
       "Tripura                              16         142  ...         164   \n",
       "Mizoram                               0          23  ...           8   \n",
       "Andaman and Nicobar Islands           7           0  ...         149   \n",
       "\n",
       "states                       2020-08-15  2020-08-16  2020-08-17  2020-08-18  \\\n",
       "state                                                                         \n",
       "Telangana                          1863        1102         894        1682   \n",
       "Rajasthan                          1287        1317        1334        1347   \n",
       "Tripura                             167         127         143         205   \n",
       "Mizoram                              56          64          12          26   \n",
       "Andaman and Nicobar Islands         120          93          46          84   \n",
       "\n",
       "states                       2020-08-19  2020-08-20  2020-08-21  2020-08-22  \\\n",
       "state                                                                         \n",
       "Telangana                          1763        1724        1967        2474   \n",
       "Rajasthan                          1312        1330        1335        1310   \n",
       "Tripura                             236         190         256         280   \n",
       "Mizoram                              45          14          21           8   \n",
       "Andaman and Nicobar Islands          75          76          67          61   \n",
       "\n",
       "states                       2020-08-23  \n",
       "state                                    \n",
       "Telangana                          2384  \n",
       "Rajasthan                           697  \n",
       "Tripura                             331  \n",
       "Mizoram                              14  \n",
       "Andaman and Nicobar Islands           0  \n",
       "\n",
       "[5 rows x 54 columns]"
      ]
     },
     "execution_count": 18,
     "metadata": {},
     "output_type": "execute_result"
    }
   ],
   "source": [
    "#hide\n",
    "dft_ct_new_cases.head()"
   ]
  },
  {
   "cell_type": "code",
   "execution_count": 19,
   "metadata": {
    "execution": {
     "iopub.execute_input": "2020-08-23T05:52:16.767739Z",
     "iopub.status.busy": "2020-08-23T05:52:16.757354Z",
     "iopub.status.idle": "2020-08-23T05:52:19.462437Z",
     "shell.execute_reply": "2020-08-23T05:52:19.461937Z"
    },
    "papermill": {
     "duration": 2.736961,
     "end_time": "2020-08-23T05:52:19.462578",
     "exception": false,
     "start_time": "2020-08-23T05:52:16.725617",
     "status": "completed"
    },
    "tags": []
   },
   "outputs": [
    {
     "data": {
      "image/png": "[encoded data removed]",
      "text/plain": [
       "<Figure size 1296x2016 with 11 Axes>"
      ]
     },
     "metadata": {
      "needs_background": "light"
     },
     "output_type": "display_data"
    }
   ],
   "source": [
    "#hide_input\n",
    "df = dft_ct_new_cases.copy()\n",
    "df.loc['Total'] = df.sum()\n",
    "n = 5\n",
    "ax = []\n",
    "fig = plt.figure(figsize = (18,28))\n",
    "gs = fig.add_gridspec(n+2, 5)\n",
    "# gs = fig.add_gridspec(2, 3)\n",
    "ax1 = fig.add_subplot(gs[0, :])\n",
    "ef = df.loc['Total'].rename_axis('date').reset_index()\n",
    "ef['date'] = ef['date'].astype('datetime64[ns]')\n",
    "ax1.bar(ef.date,ef.Total,alpha=0.3,color='#007acc')\n",
    "ax1.plot(ef.date,ef.Total , marker=\"o\", color='#007acc')\n",
    "ax1.xaxis.set_major_locator(mdates.WeekdayLocator())\n",
    "ax1.xaxis.set_major_formatter(mdates.DateFormatter('%b %d'))\n",
    "ax1.text(0.02, 0.5,'India daily case count', transform = ax1.transAxes, fontsize=25);\n",
    "ax1.spines['right'].set_visible(False)\n",
    "ax1.spines['top'].set_visible(False)\n",
    "\n",
    "ax2 = fig.add_subplot(gs[1,0])\n",
    "ef = df.loc['Maharashtra'].rename_axis('date').reset_index()\n",
    "ef['date'] = ef['date'].astype('datetime64[ns]')\n",
    "\n",
    "ax2.bar(ef.date, ef.Maharashtra,color = '#007acc',alpha=0.5)\n",
    "ax2.xaxis.set_major_locator(mdates.WeekdayLocator())\n",
    "ax2.xaxis.set_major_formatter(mdates.DateFormatter('%b %d'))\n",
    "ax2.set_xticks(ax2.get_xticks()[::3])\n",
    "maxyval = ef.Maharashtra.max()\n",
    "ax2.set_ylim([0,maxyval])\n",
    "ax2.text(0.05, 0.9,'Maharashtra', transform = ax2.transAxes, fontsize=20);\n",
    "ax2.spines['right'].set_visible(False)\n",
    "ax2.spines['top'].set_visible(False)\n",
    "\n",
    "\n",
    "ax3 = fig.add_subplot(gs[1,1])\n",
    "ef = df.loc['Tamil Nadu'].rename_axis('date').reset_index()\n",
    "ef['date'] = ef['date'].astype('datetime64[ns]')\n",
    "ax3.bar(ef.date, ef['Tamil Nadu'],color = '#007acc',alpha=0.5,)\n",
    "ax3.xaxis.set_major_locator(mdates.WeekdayLocator())\n",
    "ax3.xaxis.set_major_formatter(mdates.DateFormatter('%b %d'))\n",
    "ax3.set_xticks(ax3.get_xticks()[::3])\n",
    "ax3.text(0.05, 0.9,'Tamil Nadu', transform = ax3.transAxes, fontsize=20);\n",
    "ax3.spines['right'].set_visible(False)\n",
    "ax3.spines['top'].set_visible(False)\n",
    "\n",
    "ax5 = fig.add_subplot(gs[1,3])\n",
    "ef = df.loc['Telangana'].rename_axis('date').reset_index()\n",
    "ef['date'] = ef['date'].astype('datetime64[ns]')\n",
    "ax5.bar(ef.date, ef['Telangana'],color = '#007acc',alpha=0.5,)\n",
    "ax5.xaxis.set_major_locator(mdates.WeekdayLocator())\n",
    "ax5.xaxis.set_major_formatter(mdates.DateFormatter('%b %d'))\n",
    "ax5.set_xticks(ax5.get_xticks()[::3])\n",
    "ax5.text(0.05, 0.9,'Telangana', transform = ax5.transAxes, fontsize=20);\n",
    "ax5.spines['right'].set_visible(False)\n",
    "ax5.spines['top'].set_visible(False)\n",
    "\n",
    "ax6 = fig.add_subplot(gs[1,4])\n",
    "ef = df.loc['Andhra Pradesh'].rename_axis('date').reset_index()\n",
    "ef['date'] = ef['date'].astype('datetime64[ns]')\n",
    "ax6.bar(ef.date, ef['Andhra Pradesh'],color = '#007acc',alpha=0.5,)\n",
    "ax6.xaxis.set_major_locator(mdates.WeekdayLocator())\n",
    "ax6.xaxis.set_major_formatter(mdates.DateFormatter('%b %d'))\n",
    "ax6.set_xticks(ax6.get_xticks()[::3])\n",
    "ax6.text(0.05, 1,'Andhra Pradesh', transform = ax6.transAxes, fontsize=20);\n",
    "ax6.spines['right'].set_visible(False)\n",
    "ax6.spines['top'].set_visible(False)\n",
    "\n",
    "ax4 = fig.add_subplot(gs[1,2])\n",
    "ef = df.loc['Delhi'].rename_axis('date').reset_index()\n",
    "ef['date'] = ef['date'].astype('datetime64[ns]')\n",
    "ax4.bar(ef.date, ef.Delhi,color = '#007acc',alpha=0.5)\n",
    "ax4.set_xticks([])\n",
    "ax4.xaxis.set_major_locator(mdates.WeekdayLocator())\n",
    "ax4.xaxis.set_major_formatter(mdates.DateFormatter('%b %d'))\n",
    "ax4.set_xticks(ax4.get_xticks()[::3])\n",
    "ax4.spines['right'].set_visible(False)\n",
    "ax4.spines['top'].set_visible(False)\n",
    "\n",
    "ax4.text(0.05, 1,'Delhi', transform = ax4.transAxes, fontsize=20)\n",
    "\n",
    "for i in range(n):\n",
    "    \n",
    "    ax.append(fig.add_subplot(gs[i+2,:]))\n",
    "    ef = df.iloc[i+3].rename_axis('date').reset_index()\n",
    "    ef['date'] = ef['date'].astype('datetime64[ns]')\n",
    "    ax[i].bar(ef.date,ef.iloc[:,-1],color = '#007acc',alpha=0.3)\n",
    "    ax[i].plot(ef.date,ef.iloc[:,-1],marker='o',color='#007acc')\n",
    "    ax[i].text(0.02,0.5,f'{ef.columns.values[-1]}',transform = ax[i].transAxes, fontsize = 20);\n",
    "    ax[i].xaxis.set_major_locator(mdates.WeekdayLocator())\n",
    "    ax[i].xaxis.set_major_formatter(mdates.DateFormatter('%b %d'))\n",
    "    ax[i].set_ylim([0,7000])\n",
    "    ax[i].spines['right'].set_visible(False)\n",
    "    ax[i].spines['top'].set_visible(False)\n",
    "plt.tight_layout()\n"
   ]
  },
  {
   "cell_type": "code",
   "execution_count": 20,
   "metadata": {
    "execution": {
     "iopub.execute_input": "2020-08-23T05:52:19.514259Z",
     "iopub.status.busy": "2020-08-23T05:52:19.513658Z",
     "iopub.status.idle": "2020-08-23T05:52:19.516167Z",
     "shell.execute_reply": "2020-08-23T05:52:19.516611Z"
    },
    "papermill": {
     "duration": 0.032849,
     "end_time": "2020-08-23T05:52:19.516747",
     "exception": false,
     "start_time": "2020-08-23T05:52:19.483898",
     "status": "completed"
    },
    "tags": []
   },
   "outputs": [
    {
     "name": "stdout",
     "output_type": "stream",
     "text": [
      "                                   states   Cases  Deaths  PCases  PDeaths  Cases (+)  Deaths (+)  Fatality Rate\n",
      "                              Maharashtra  671942   21995  671942    21995          0           0           3.27\n",
      "                               Tamil Nadu  373410    6420  373410     6420          0           0           1.72\n",
      "                           Andhra Pradesh  345216    3189  345216     3189          0           0           0.92\n",
      "                                Karnataka  271876    4615  271876     4615          0           0           1.70\n",
      "                            Uttar Pradesh  182456    2867  182456     2867          0           0           1.57\n",
      "                                    Delhi  160016    4284  160016     4284          0           0           2.68\n",
      "                              West Bengal  135596    2737  135596     2737          0           0           2.02\n",
      "                                    Bihar  119909     601  119909      601          0           0           0.50\n",
      "                                Telangana  104249     755  101865      744       2384          11           0.72\n",
      "                                    Assam   89469     234   89469      234          0           0           0.26\n",
      "                                  Gujarat   85678    2881   85678     2881          0           0           3.36\n",
      "                                   Odisha   75537     452   75537      452          0           0           0.60\n",
      "                                Rajasthan   69961     950   69264      944        697           6           1.36\n",
      "                                   Kerala   56354     219   56354      219          0           0           0.39\n",
      "                                  Haryana   53290     597   53290      597          0           0           1.12\n",
      "                           Madhya Pradesh   51866    1206   51866     1206          0           0           2.33\n",
      "                                   Punjab   40643    1036   40643     1036          0           0           2.55\n",
      "                        Jammu and Kashmir   31981     608   31981      608          0           0           1.90\n",
      "                                Jharkhand   29103     310   29103      310          0           0           1.07\n",
      "                             Chhattisgarh   20214     190   20214      190          0           0           0.94\n",
      "                              Uttarakhand   14566     195   14566      195          0           0           1.34\n",
      "                                      Goa   13790     140   13790      140          0           0           1.02\n",
      "                               Puducherry   10112     151   10112      151          0           0           1.49\n",
      "                                  Tripura    8717      72    8386       70        331           2           0.83\n",
      "                                  Manipur    5132      22    5132       22          0           0           0.43\n",
      "                         Himachal Pradesh    4895      28    4895       28          0           0           0.57\n",
      "                                 Nagaland    3635       8    3635        8          0           0           0.22\n",
      "                        Arunachal Pradesh    3223       5    3223        5          0           0           0.16\n",
      "              Andaman and Nicobar Islands    2808      32    2808       32          0           0           1.14\n",
      "                               Chandigarh    2776      33    2776       33          0           0           1.19\n",
      "                                   Ladakh    2210      21    2210       21          0           0           0.95\n",
      " Dadra and Nagar Haveli and Daman and Diu    2123       2    2123        2          0           0           0.09\n",
      "                                Meghalaya    1811       7    1811        7          0           0           0.39\n",
      "                                   Sikkim    1381       3    1381        3          0           0           0.22\n",
      "                                  Mizoram     917       0     903        0         14           0           0.00\n",
      "                              Lakshadweep       0       0       0        0          0           0            NaN\n"
     ]
    }
   ],
   "source": [
    "#hide_input\n",
    "print(df_table.to_string(index=False))"
   ]
  },
  {
   "cell_type": "code",
   "execution_count": null,
   "metadata": {
    "papermill": {
     "duration": 0.023768,
     "end_time": "2020-08-23T05:52:19.562087",
     "exception": false,
     "start_time": "2020-08-23T05:52:19.538319",
     "status": "completed"
    },
    "tags": []
   },
   "outputs": [],
   "source": []
  },
  {
   "cell_type": "code",
   "execution_count": null,
   "metadata": {
    "papermill": {
     "duration": 0.022153,
     "end_time": "2020-08-23T05:52:19.605646",
     "exception": false,
     "start_time": "2020-08-23T05:52:19.583493",
     "status": "completed"
    },
    "tags": []
   },
   "outputs": [],
   "source": []
  }
 ],
 "metadata": {
  "kernelspec": {
   "display_name": "Python 3",
   "language": "python",
   "name": "python3"
  },
  "language_info": {
   "codemirror_mode": {
    "name": "ipython",
    "version": 3
   },
   "file_extension": ".py",
   "mimetype": "text/x-python",
   "name": "python",
   "nbconvert_exporter": "python",
   "pygments_lexer": "ipython3",
   "version": "3.6.11"
  },
  "papermill": {
   "duration": 7.656297,
   "end_time": "2020-08-23T05:52:20.035676",
   "environment_variables": {},
   "exception": null,
   "input_path": "latest.ipynb",
   "output_path": "latest.ipynb",
   "parameters": {},
   "start_time": "2020-08-23T05:52:12.379379",
   "version": "2.1.2"
  }
 },
 "nbformat": 4,
 "nbformat_minor": 4
}