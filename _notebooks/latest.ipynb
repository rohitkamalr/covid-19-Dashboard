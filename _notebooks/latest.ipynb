{
 "cells": [
  {
   "cell_type": "markdown",
   "metadata": {
    "papermill": {
     "duration": 0.019556,
     "end_time": "2020-11-15T11:17:29.391722",
     "exception": false,
     "start_time": "2020-11-15T11:17:29.372166",
     "status": "completed"
    },
    "tags": []
   },
   "source": [
    "# Latest COVID-19 India Matplotlib Overview"
   ]
  },
  {
   "cell_type": "code",
   "execution_count": 1,
   "metadata": {
    "execution": {
     "iopub.execute_input": "2020-11-15T11:17:29.430563Z",
     "iopub.status.busy": "2020-11-15T11:17:29.429936Z",
     "iopub.status.idle": "2020-11-15T11:17:30.008215Z",
     "shell.execute_reply": "2020-11-15T11:17:30.007669Z"
    },
    "papermill": {
     "duration": 0.600953,
     "end_time": "2020-11-15T11:17:30.008375",
     "exception": false,
     "start_time": "2020-11-15T11:17:29.407422",
     "status": "completed"
    },
    "tags": []
   },
   "outputs": [],
   "source": [
    "#hide\n",
    "import pandas as pd\n",
    "import numpy as np\n",
    "import requests\n",
    "import json\n",
    "import matplotlib.pyplot as plt\n",
    "import matplotlib.dates as mdates\n",
    "import matplotlib as mpl\n",
    "from IPython.core.display import display,HTML\n",
    "%matplotlib inline\n",
    "from datetime import date"
   ]
  },
  {
   "cell_type": "code",
   "execution_count": 2,
   "metadata": {
    "execution": {
     "iopub.execute_input": "2020-11-15T11:17:30.048860Z",
     "iopub.status.busy": "2020-11-15T11:17:30.048206Z",
     "iopub.status.idle": "2020-11-15T11:17:30.140120Z",
     "shell.execute_reply": "2020-11-15T11:17:30.140621Z"
    },
    "papermill": {
     "duration": 0.116273,
     "end_time": "2020-11-15T11:17:30.140810",
     "exception": false,
     "start_time": "2020-11-15T11:17:30.024537",
     "status": "completed"
    },
    "tags": []
   },
   "outputs": [],
   "source": [
    "#hide\n",
    "df  = pd.read_csv('https://api.covid19india.org/csv/latest/states.csv')\n",
    "df = df[['Date','State','Confirmed','Deceased']]\n",
    "df = df.rename(columns={'Confirmed':'Cases', \"Deceased\":'Deaths'})\n",
    "df_cases = df[[\"Date\",'State','Cases']]\n",
    "df_deaths = df[['Date','State','Deaths']]\n",
    "df_cases1 = df_cases.groupby('Date')\n",
    "df_deaths1= df_deaths.groupby('Date')"
   ]
  },
  {
   "cell_type": "code",
   "execution_count": 3,
   "metadata": {
    "execution": {
     "iopub.execute_input": "2020-11-15T11:17:30.182418Z",
     "iopub.status.busy": "2020-11-15T11:17:30.181782Z",
     "iopub.status.idle": "2020-11-15T11:17:30.199122Z",
     "shell.execute_reply": "2020-11-15T11:17:30.198563Z"
    },
    "papermill": {
     "duration": 0.03946,
     "end_time": "2020-11-15T11:17:30.199264",
     "exception": false,
     "start_time": "2020-11-15T11:17:30.159804",
     "status": "completed"
    },
    "tags": []
   },
   "outputs": [],
   "source": [
    "#hide\n",
    "df_snap = pd.read_csv('data/SnapshotCases-28-July.csv')\n",
    "arr_states = df_snap['states'].unique()\n",
    "arr_dates = df['Date'].unique()\n",
    "df_snap = df_snap.set_index('states')"
   ]
  },
  {
   "cell_type": "code",
   "execution_count": 4,
   "metadata": {
    "execution": {
     "iopub.execute_input": "2020-11-15T11:17:30.240043Z",
     "iopub.status.busy": "2020-11-15T11:17:30.239314Z",
     "iopub.status.idle": "2020-11-15T11:17:30.243097Z",
     "shell.execute_reply": "2020-11-15T11:17:30.242618Z"
    },
    "papermill": {
     "duration": 0.027729,
     "end_time": "2020-11-15T11:17:30.243229",
     "exception": false,
     "start_time": "2020-11-15T11:17:30.215500",
     "status": "completed"
    },
    "tags": []
   },
   "outputs": [
    {
     "data": {
      "text/plain": [
       "array(['Andaman and Nicobar Islands', 'Andhra Pradesh',\n",
       "       'Arunachal Pradesh', 'Assam', 'Bihar', 'Chandigarh',\n",
       "       'Dadra and Nagar Haveli and Daman and Diu', 'Delhi', 'Goa',\n",
       "       'Gujarat', 'Haryana', 'Himachal Pradesh', 'Jammu and Kashmir',\n",
       "       'Jharkhand', 'Karnataka', 'Kerala', 'Lakshadweep',\n",
       "       'Madhya Pradesh', 'Maharashtra', 'Manipur', 'Meghalaya', 'Mizoram',\n",
       "       'Nagaland', 'Odisha', 'Puducherry', 'Punjab', 'Rajasthan',\n",
       "       'Sikkim', 'Tamil Nadu', 'Telangana', 'Tripura', 'Uttar Pradesh',\n",
       "       'West Bengal', 'Chhattisgarh', 'Ladakh', 'Uttarakhand'],\n",
       "      dtype=object)"
      ]
     },
     "execution_count": 4,
     "metadata": {},
     "output_type": "execute_result"
    }
   ],
   "source": [
    "#hide\n",
    "arr_states[-9] = 'Puducherry'\n",
    "arr_states[-10] = 'Odisha'\n",
    "arr_states[6] = 'Dadra and Nagar Haveli and Daman and Diu'\n",
    "arr_states = np.append(arr_states,np.array(['Chhattisgarh','Ladakh','Uttarakhand']))\n",
    "arr_states"
   ]
  },
  {
   "cell_type": "code",
   "execution_count": 5,
   "metadata": {
    "execution": {
     "iopub.execute_input": "2020-11-15T11:17:30.288812Z",
     "iopub.status.busy": "2020-11-15T11:17:30.288158Z",
     "iopub.status.idle": "2020-11-15T11:17:30.302036Z",
     "shell.execute_reply": "2020-11-15T11:17:30.295638Z"
    },
    "papermill": {
     "duration": 0.042849,
     "end_time": "2020-11-15T11:17:30.302191",
     "exception": false,
     "start_time": "2020-11-15T11:17:30.259342",
     "status": "completed"
    },
    "tags": []
   },
   "outputs": [],
   "source": [
    "#hide\n",
    "dates = []\n",
    "for i in arr_dates:\n",
    "    if i>='2020-07-01':\n",
    "        dates.append(i)\n",
    "dict = {'states':dates}\n",
    "for i in arr_states:\n",
    "    dict[i] = [0]*len(dates)\n",
    "dft_cases = pd.DataFrame(dict)\n",
    "dft_deaths = pd.DataFrame(dict)\n"
   ]
  },
  {
   "cell_type": "code",
   "execution_count": 6,
   "metadata": {
    "execution": {
     "iopub.execute_input": "2020-11-15T11:17:30.343148Z",
     "iopub.status.busy": "2020-11-15T11:17:30.342530Z",
     "iopub.status.idle": "2020-11-15T11:17:32.253108Z",
     "shell.execute_reply": "2020-11-15T11:17:32.252228Z"
    },
    "papermill": {
     "duration": 1.934812,
     "end_time": "2020-11-15T11:17:32.253331",
     "exception": false,
     "start_time": "2020-11-15T11:17:30.318519",
     "status": "completed"
    },
    "tags": []
   },
   "outputs": [],
   "source": [
    "#hide\n",
    "for i in range(len(dates)):\n",
    "    df1_deaths = df_deaths1.get_group(dates[i])\n",
    "    for j in range(len(df1_deaths.index)):\n",
    "        if df1_deaths.iloc[j,1] in arr_states:\n",
    "            dft_deaths.loc[i,df1_deaths.iloc[j,1]] = df1_deaths.iloc[j,2]\n",
    "dft_deaths = dft_deaths.set_index('states')"
   ]
  },
  {
   "cell_type": "code",
   "execution_count": 7,
   "metadata": {
    "execution": {
     "iopub.execute_input": "2020-11-15T11:17:32.295003Z",
     "iopub.status.busy": "2020-11-15T11:17:32.293953Z",
     "iopub.status.idle": "2020-11-15T11:17:34.166401Z",
     "shell.execute_reply": "2020-11-15T11:17:34.165869Z"
    },
    "papermill": {
     "duration": 1.895724,
     "end_time": "2020-11-15T11:17:34.166547",
     "exception": false,
     "start_time": "2020-11-15T11:17:32.270823",
     "status": "completed"
    },
    "tags": []
   },
   "outputs": [],
   "source": [
    "#hide\n",
    "for i in range(len(dates)):\n",
    "    df1_cases = df_cases1.get_group(dates[i])\n",
    "    for j in range(len(df1_cases.index)):\n",
    "        if df1_cases.iloc[j,1] in arr_states:\n",
    "            dft_cases.loc[i,df1_cases.iloc[j,1]] = df1_cases.iloc[j,2]\n",
    "dft_cases = dft_cases.set_index('states')"
   ]
  },
  {
   "cell_type": "code",
   "execution_count": 8,
   "metadata": {
    "execution": {
     "iopub.execute_input": "2020-11-15T11:17:34.295460Z",
     "iopub.status.busy": "2020-11-15T11:17:34.294852Z",
     "iopub.status.idle": "2020-11-15T11:17:34.297739Z",
     "shell.execute_reply": "2020-11-15T11:17:34.297258Z"
    },
    "papermill": {
     "duration": 0.11517,
     "end_time": "2020-11-15T11:17:34.297871",
     "exception": false,
     "start_time": "2020-11-15T11:17:34.182701",
     "status": "completed"
    },
    "tags": []
   },
   "outputs": [],
   "source": [
    "#hide\n",
    "dft_cases = dft_cases.T\n",
    "dft_deaths = dft_deaths.T\n",
    "dt_today = dates[-1]\n",
    "dt_yday = dates[-2]"
   ]
  },
  {
   "cell_type": "code",
   "execution_count": 9,
   "metadata": {
    "execution": {
     "iopub.execute_input": "2020-11-15T11:17:34.357256Z",
     "iopub.status.busy": "2020-11-15T11:17:34.356629Z",
     "iopub.status.idle": "2020-11-15T11:17:34.361422Z",
     "shell.execute_reply": "2020-11-15T11:17:34.361967Z"
    },
    "papermill": {
     "duration": 0.026632,
     "end_time": "2020-11-15T11:17:34.362115",
     "exception": false,
     "start_time": "2020-11-15T11:17:34.335483",
     "status": "completed"
    },
    "tags": []
   },
   "outputs": [],
   "source": [
    "#hide\n",
    "dft_cases = dft_cases.reset_index()\n",
    "dft_deaths = dft_deaths.reset_index()\n",
    "dft_cases = dft_cases.rename(columns = {'index':'state'})\n",
    "dft_deaths = dft_deaths.rename(columns = {'index':'state'})"
   ]
  },
  {
   "cell_type": "code",
   "execution_count": 10,
   "metadata": {
    "execution": {
     "iopub.execute_input": "2020-11-15T11:17:34.403809Z",
     "iopub.status.busy": "2020-11-15T11:17:34.403223Z",
     "iopub.status.idle": "2020-11-15T11:17:34.405749Z",
     "shell.execute_reply": "2020-11-15T11:17:34.405286Z"
    },
    "papermill": {
     "duration": 0.028709,
     "end_time": "2020-11-15T11:17:34.405864",
     "exception": false,
     "start_time": "2020-11-15T11:17:34.377155",
     "status": "completed"
    },
    "tags": []
   },
   "outputs": [],
   "source": [
    "#hide\n",
    "dfc_cases = dft_cases.groupby('state')[dt_today].sum()\n",
    "dfc_deaths = dft_deaths.groupby('state')[dt_today].sum()\n",
    "dfp_cases = dft_cases.groupby('state')[dt_yday].sum()\n",
    "dfp_deaths = dft_deaths.groupby('state')[dt_yday].sum()"
   ]
  },
  {
   "cell_type": "code",
   "execution_count": 11,
   "metadata": {
    "execution": {
     "iopub.execute_input": "2020-11-15T11:17:34.442938Z",
     "iopub.status.busy": "2020-11-15T11:17:34.442351Z",
     "iopub.status.idle": "2020-11-15T11:17:34.454976Z",
     "shell.execute_reply": "2020-11-15T11:17:34.454503Z"
    },
    "papermill": {
     "duration": 0.034808,
     "end_time": "2020-11-15T11:17:34.455104",
     "exception": false,
     "start_time": "2020-11-15T11:17:34.420296",
     "status": "completed"
    },
    "tags": []
   },
   "outputs": [
    {
     "data": {
      "text/html": [
       "<div>\n",
       "<style scoped>\n",
       "    .dataframe tbody tr th:only-of-type {\n",
       "        vertical-align: middle;\n",
       "    }\n",
       "\n",
       "    .dataframe tbody tr th {\n",
       "        vertical-align: top;\n",
       "    }\n",
       "\n",
       "    .dataframe thead th {\n",
       "        text-align: right;\n",
       "    }\n",
       "</style>\n",
       "<table border=\"1\" class=\"dataframe\">\n",
       "  <thead>\n",
       "    <tr style=\"text-align: right;\">\n",
       "      <th></th>\n",
       "      <th>states</th>\n",
       "      <th>Cases</th>\n",
       "      <th>Deaths</th>\n",
       "      <th>PCases</th>\n",
       "      <th>PDeaths</th>\n",
       "    </tr>\n",
       "  </thead>\n",
       "  <tbody>\n",
       "    <tr>\n",
       "      <th>0</th>\n",
       "      <td>Maharashtra</td>\n",
       "      <td>1744698</td>\n",
       "      <td>45914</td>\n",
       "      <td>1744698</td>\n",
       "      <td>45914</td>\n",
       "    </tr>\n",
       "    <tr>\n",
       "      <th>1</th>\n",
       "      <td>Karnataka</td>\n",
       "      <td>860082</td>\n",
       "      <td>11508</td>\n",
       "      <td>860082</td>\n",
       "      <td>11508</td>\n",
       "    </tr>\n",
       "    <tr>\n",
       "      <th>2</th>\n",
       "      <td>Andhra Pradesh</td>\n",
       "      <td>852955</td>\n",
       "      <td>6854</td>\n",
       "      <td>852955</td>\n",
       "      <td>6854</td>\n",
       "    </tr>\n",
       "    <tr>\n",
       "      <th>3</th>\n",
       "      <td>Tamil Nadu</td>\n",
       "      <td>756372</td>\n",
       "      <td>11466</td>\n",
       "      <td>756372</td>\n",
       "      <td>11466</td>\n",
       "    </tr>\n",
       "    <tr>\n",
       "      <th>4</th>\n",
       "      <td>Kerala</td>\n",
       "      <td>520418</td>\n",
       "      <td>1848</td>\n",
       "      <td>520418</td>\n",
       "      <td>1848</td>\n",
       "    </tr>\n",
       "  </tbody>\n",
       "</table>\n",
       "</div>"
      ],
      "text/plain": [
       "           states    Cases  Deaths   PCases  PDeaths\n",
       "0     Maharashtra  1744698   45914  1744698    45914\n",
       "1       Karnataka   860082   11508   860082    11508\n",
       "2  Andhra Pradesh   852955    6854   852955     6854\n",
       "3      Tamil Nadu   756372   11466   756372    11466\n",
       "4          Kerala   520418    1848   520418     1848"
      ]
     },
     "execution_count": 11,
     "metadata": {},
     "output_type": "execute_result"
    }
   ],
   "source": [
    "#hide\n",
    "df_table = pd.DataFrame({'states': dfc_cases.index, 'Cases': dfc_cases.values, 'Deaths': dfc_deaths.values, 'PCases': dfp_cases.values, 'PDeaths': dfp_deaths.values}).set_index('states')\n",
    "df_table = df_table.sort_values(by = ['Cases','Deaths'], ascending = [False, False])\n",
    "df_table = df_table.reset_index()\n",
    "df_table.head()"
   ]
  },
  {
   "cell_type": "code",
   "execution_count": 12,
   "metadata": {
    "execution": {
     "iopub.execute_input": "2020-11-15T11:17:34.490700Z",
     "iopub.status.busy": "2020-11-15T11:17:34.490119Z",
     "iopub.status.idle": "2020-11-15T11:17:34.498825Z",
     "shell.execute_reply": "2020-11-15T11:17:34.498326Z"
    },
    "papermill": {
     "duration": 0.028481,
     "end_time": "2020-11-15T11:17:34.498946",
     "exception": false,
     "start_time": "2020-11-15T11:17:34.470465",
     "status": "completed"
    },
    "tags": []
   },
   "outputs": [],
   "source": [
    "#hide\n",
    "for c in 'Cases, Deaths'.split(', '):\n",
    "    df_table[f'{c} (+)'] = (df_table[c] - df_table[f'P{c}']).clip(0)\n",
    "df_table['Fatality Rate'] = (100* df_table['Deaths']/ df_table['Cases']).round(2)"
   ]
  },
  {
   "cell_type": "code",
   "execution_count": 13,
   "metadata": {
    "execution": {
     "iopub.execute_input": "2020-11-15T11:17:34.542753Z",
     "iopub.status.busy": "2020-11-15T11:17:34.542148Z",
     "iopub.status.idle": "2020-11-15T11:17:34.546383Z",
     "shell.execute_reply": "2020-11-15T11:17:34.546850Z"
    },
    "papermill": {
     "duration": 0.033207,
     "end_time": "2020-11-15T11:17:34.546997",
     "exception": false,
     "start_time": "2020-11-15T11:17:34.513790",
     "status": "completed"
    },
    "tags": []
   },
   "outputs": [
    {
     "data": {
      "text/html": [
       "<div>\n",
       "<style scoped>\n",
       "    .dataframe tbody tr th:only-of-type {\n",
       "        vertical-align: middle;\n",
       "    }\n",
       "\n",
       "    .dataframe tbody tr th {\n",
       "        vertical-align: top;\n",
       "    }\n",
       "\n",
       "    .dataframe thead th {\n",
       "        text-align: right;\n",
       "    }\n",
       "</style>\n",
       "<table border=\"1\" class=\"dataframe\">\n",
       "  <thead>\n",
       "    <tr style=\"text-align: right;\">\n",
       "      <th></th>\n",
       "      <th>states</th>\n",
       "      <th>Cases</th>\n",
       "      <th>Deaths</th>\n",
       "      <th>PCases</th>\n",
       "      <th>PDeaths</th>\n",
       "      <th>Cases (+)</th>\n",
       "      <th>Deaths (+)</th>\n",
       "      <th>Fatality Rate</th>\n",
       "    </tr>\n",
       "  </thead>\n",
       "  <tbody>\n",
       "    <tr>\n",
       "      <th>0</th>\n",
       "      <td>Maharashtra</td>\n",
       "      <td>1744698</td>\n",
       "      <td>45914</td>\n",
       "      <td>1744698</td>\n",
       "      <td>45914</td>\n",
       "      <td>0</td>\n",
       "      <td>0</td>\n",
       "      <td>2.63</td>\n",
       "    </tr>\n",
       "    <tr>\n",
       "      <th>1</th>\n",
       "      <td>Karnataka</td>\n",
       "      <td>860082</td>\n",
       "      <td>11508</td>\n",
       "      <td>860082</td>\n",
       "      <td>11508</td>\n",
       "      <td>0</td>\n",
       "      <td>0</td>\n",
       "      <td>1.34</td>\n",
       "    </tr>\n",
       "    <tr>\n",
       "      <th>2</th>\n",
       "      <td>Andhra Pradesh</td>\n",
       "      <td>852955</td>\n",
       "      <td>6854</td>\n",
       "      <td>852955</td>\n",
       "      <td>6854</td>\n",
       "      <td>0</td>\n",
       "      <td>0</td>\n",
       "      <td>0.80</td>\n",
       "    </tr>\n",
       "    <tr>\n",
       "      <th>3</th>\n",
       "      <td>Tamil Nadu</td>\n",
       "      <td>756372</td>\n",
       "      <td>11466</td>\n",
       "      <td>756372</td>\n",
       "      <td>11466</td>\n",
       "      <td>0</td>\n",
       "      <td>0</td>\n",
       "      <td>1.52</td>\n",
       "    </tr>\n",
       "    <tr>\n",
       "      <th>4</th>\n",
       "      <td>Kerala</td>\n",
       "      <td>520418</td>\n",
       "      <td>1848</td>\n",
       "      <td>520418</td>\n",
       "      <td>1848</td>\n",
       "      <td>0</td>\n",
       "      <td>0</td>\n",
       "      <td>0.36</td>\n",
       "    </tr>\n",
       "  </tbody>\n",
       "</table>\n",
       "</div>"
      ],
      "text/plain": [
       "           states    Cases  Deaths   PCases  PDeaths  Cases (+)  Deaths (+)  \\\n",
       "0     Maharashtra  1744698   45914  1744698    45914          0           0   \n",
       "1       Karnataka   860082   11508   860082    11508          0           0   \n",
       "2  Andhra Pradesh   852955    6854   852955     6854          0           0   \n",
       "3      Tamil Nadu   756372   11466   756372    11466          0           0   \n",
       "4          Kerala   520418    1848   520418     1848          0           0   \n",
       "\n",
       "   Fatality Rate  \n",
       "0           2.63  \n",
       "1           1.34  \n",
       "2           0.80  \n",
       "3           1.52  \n",
       "4           0.36  "
      ]
     },
     "execution_count": 13,
     "metadata": {},
     "output_type": "execute_result"
    }
   ],
   "source": [
    "#hide\n",
    "df_table.head()"
   ]
  },
  {
   "cell_type": "code",
   "execution_count": 14,
   "metadata": {
    "execution": {
     "iopub.execute_input": "2020-11-15T11:17:34.585038Z",
     "iopub.status.busy": "2020-11-15T11:17:34.584321Z",
     "iopub.status.idle": "2020-11-15T11:17:34.605841Z",
     "shell.execute_reply": "2020-11-15T11:17:34.605296Z"
    },
    "papermill": {
     "duration": 0.041669,
     "end_time": "2020-11-15T11:17:34.606048",
     "exception": false,
     "start_time": "2020-11-15T11:17:34.564379",
     "status": "completed"
    },
    "tags": []
   },
   "outputs": [
    {
     "data": {
      "text/plain": [
       "{'updated': '2020-11-15',\n",
       " 'since': '2020-11-14',\n",
       " 'Cases': 8819636,\n",
       " 'PCases': 8814936,\n",
       " 'Deaths': 129791,\n",
       " 'PDeaths': 129675,\n",
       " 'Cases (+)': 4700,\n",
       " 'Deaths (+)': 116}"
      ]
     },
     "execution_count": 14,
     "metadata": {},
     "output_type": "execute_result"
    }
   ],
   "source": [
    "#hide\n",
    "summary = {'updated':dates[-1], 'since':dates[-2]}\n",
    "list_names = ['Cases', 'PCases', 'Deaths', 'PDeaths', 'Cases (+)', 'Deaths (+)']\n",
    "for name in list_names:\n",
    "    summary[name] = df_table.sum()[name]\n",
    "summary"
   ]
  },
  {
   "cell_type": "code",
   "execution_count": 15,
   "metadata": {
    "execution": {
     "iopub.execute_input": "2020-11-15T11:17:34.646457Z",
     "iopub.status.busy": "2020-11-15T11:17:34.645633Z",
     "iopub.status.idle": "2020-11-15T11:17:34.647296Z",
     "shell.execute_reply": "2020-11-15T11:17:34.647968Z"
    },
    "papermill": {
     "duration": 0.024914,
     "end_time": "2020-11-15T11:17:34.648154",
     "exception": false,
     "start_time": "2020-11-15T11:17:34.623240",
     "status": "completed"
    },
    "tags": []
   },
   "outputs": [],
   "source": [
    "#hide\n",
    "overview = '''\n",
    "<!-- #######  HTML!! #########-->\n",
    "<h1 style=\"color: #5e9ca0; text-align: center;\">India</h1>\n",
    "<p style=\"text-align: center;\">Last update: <strong>{update}</strong></p>\n",
    "<p style=\"text-align: center;\">Confirmed cases:</p>\n",
    "<p style=\"text-align: center;font-size:24px;\">{cases} (<span style=\"color: #ff0000;\">+{new}</span>)</p>\n",
    "<p style=\"text-align: center;\">Confirmed deaths:</p>\n",
    "<p style=\"text-align: center;font-size:24px;\">{deaths} (<span style=\"color: #ff0000;\">+{dnew}</span>)</p>\n",
    "'''"
   ]
  },
  {
   "cell_type": "code",
   "execution_count": 16,
   "metadata": {
    "execution": {
     "iopub.execute_input": "2020-11-15T11:17:34.691237Z",
     "iopub.status.busy": "2020-11-15T11:17:34.690640Z",
     "iopub.status.idle": "2020-11-15T11:17:34.692632Z",
     "shell.execute_reply": "2020-11-15T11:17:34.693236Z"
    },
    "papermill": {
     "duration": 0.029285,
     "end_time": "2020-11-15T11:17:34.694267",
     "exception": false,
     "start_time": "2020-11-15T11:17:34.664982",
     "status": "completed"
    },
    "tags": []
   },
   "outputs": [
    {
     "data": {
      "text/html": [
       "\n",
       "<!-- #######  HTML!! #########-->\n",
       "<h1 style=\"color: #5e9ca0; text-align: center;\">India</h1>\n",
       "<p style=\"text-align: center;\">Last update: <strong>2020-11-15</strong></p>\n",
       "<p style=\"text-align: center;\">Confirmed cases:</p>\n",
       "<p style=\"text-align: center;font-size:24px;\">8819636 (<span style=\"color: #ff0000;\">+4700</span>)</p>\n",
       "<p style=\"text-align: center;\">Confirmed deaths:</p>\n",
       "<p style=\"text-align: center;font-size:24px;\">129791 (<span style=\"color: #ff0000;\">+116</span>)</p>\n"
      ],
      "text/plain": [
       "<IPython.core.display.HTML object>"
      ]
     },
     "metadata": {},
     "output_type": "display_data"
    }
   ],
   "source": [
    "#hide_input\n",
    "update = summary['updated']\n",
    "cases = summary['Cases']\n",
    "new = summary['Cases (+)']\n",
    "deaths = summary['Deaths']\n",
    "dnew = summary['Deaths (+)']\n",
    "\n",
    "html = HTML(overview.format(update=update, cases=cases,new=new,deaths=deaths,dnew=dnew))\n",
    "\n",
    "display(html)"
   ]
  },
  {
   "cell_type": "code",
   "execution_count": 17,
   "metadata": {
    "execution": {
     "iopub.execute_input": "2020-11-15T11:17:34.743803Z",
     "iopub.status.busy": "2020-11-15T11:17:34.743203Z",
     "iopub.status.idle": "2020-11-15T11:17:34.748727Z",
     "shell.execute_reply": "2020-11-15T11:17:34.748212Z"
    },
    "papermill": {
     "duration": 0.034587,
     "end_time": "2020-11-15T11:17:34.748878",
     "exception": false,
     "start_time": "2020-11-15T11:17:34.714291",
     "status": "completed"
    },
    "tags": []
   },
   "outputs": [],
   "source": [
    "#hide\n",
    "dt_cols = list(dft_cases.columns[1:])\n",
    "dft_ct_new_cases = dft_cases.groupby('state')[dt_cols].sum().diff(axis=1).fillna(0).astype(int)\n",
    "dft_ct_new_cases.sort_values(by = dates[-1], ascending = False,inplace = True)"
   ]
  },
  {
   "cell_type": "code",
   "execution_count": 18,
   "metadata": {
    "execution": {
     "iopub.execute_input": "2020-11-15T11:17:34.815674Z",
     "iopub.status.busy": "2020-11-15T11:17:34.815047Z",
     "iopub.status.idle": "2020-11-15T11:17:34.817416Z",
     "shell.execute_reply": "2020-11-15T11:17:34.817977Z"
    },
    "papermill": {
     "duration": 0.044177,
     "end_time": "2020-11-15T11:17:34.818131",
     "exception": false,
     "start_time": "2020-11-15T11:17:34.773954",
     "status": "completed"
    },
    "tags": []
   },
   "outputs": [
    {
     "data": {
      "text/html": [
       "<div>\n",
       "<style scoped>\n",
       "    .dataframe tbody tr th:only-of-type {\n",
       "        vertical-align: middle;\n",
       "    }\n",
       "\n",
       "    .dataframe tbody tr th {\n",
       "        vertical-align: top;\n",
       "    }\n",
       "\n",
       "    .dataframe thead th {\n",
       "        text-align: right;\n",
       "    }\n",
       "</style>\n",
       "<table border=\"1\" class=\"dataframe\">\n",
       "  <thead>\n",
       "    <tr style=\"text-align: right;\">\n",
       "      <th>states</th>\n",
       "      <th>2020-07-01</th>\n",
       "      <th>2020-07-02</th>\n",
       "      <th>2020-07-03</th>\n",
       "      <th>2020-07-04</th>\n",
       "      <th>2020-07-05</th>\n",
       "      <th>2020-07-06</th>\n",
       "      <th>2020-07-07</th>\n",
       "      <th>2020-07-08</th>\n",
       "      <th>2020-07-09</th>\n",
       "      <th>2020-07-10</th>\n",
       "      <th>...</th>\n",
       "      <th>2020-11-06</th>\n",
       "      <th>2020-11-07</th>\n",
       "      <th>2020-11-08</th>\n",
       "      <th>2020-11-09</th>\n",
       "      <th>2020-11-10</th>\n",
       "      <th>2020-11-11</th>\n",
       "      <th>2020-11-12</th>\n",
       "      <th>2020-11-13</th>\n",
       "      <th>2020-11-14</th>\n",
       "      <th>2020-11-15</th>\n",
       "    </tr>\n",
       "    <tr>\n",
       "      <th>state</th>\n",
       "      <th></th>\n",
       "      <th></th>\n",
       "      <th></th>\n",
       "      <th></th>\n",
       "      <th></th>\n",
       "      <th></th>\n",
       "      <th></th>\n",
       "      <th></th>\n",
       "      <th></th>\n",
       "      <th></th>\n",
       "      <th></th>\n",
       "      <th></th>\n",
       "      <th></th>\n",
       "      <th></th>\n",
       "      <th></th>\n",
       "      <th></th>\n",
       "      <th></th>\n",
       "      <th></th>\n",
       "      <th></th>\n",
       "      <th></th>\n",
       "      <th></th>\n",
       "    </tr>\n",
       "  </thead>\n",
       "  <tbody>\n",
       "    <tr>\n",
       "      <th>Delhi</th>\n",
       "      <td>0</td>\n",
       "      <td>2373</td>\n",
       "      <td>2520</td>\n",
       "      <td>2505</td>\n",
       "      <td>2244</td>\n",
       "      <td>1379</td>\n",
       "      <td>2008</td>\n",
       "      <td>2033</td>\n",
       "      <td>2187</td>\n",
       "      <td>2089</td>\n",
       "      <td>...</td>\n",
       "      <td>7178</td>\n",
       "      <td>6953</td>\n",
       "      <td>7745</td>\n",
       "      <td>5023</td>\n",
       "      <td>7830</td>\n",
       "      <td>8593</td>\n",
       "      <td>7053</td>\n",
       "      <td>7802</td>\n",
       "      <td>7340</td>\n",
       "      <td>3235</td>\n",
       "    </tr>\n",
       "    <tr>\n",
       "      <th>Odisha</th>\n",
       "      <td>0</td>\n",
       "      <td>229</td>\n",
       "      <td>561</td>\n",
       "      <td>495</td>\n",
       "      <td>469</td>\n",
       "      <td>456</td>\n",
       "      <td>571</td>\n",
       "      <td>527</td>\n",
       "      <td>577</td>\n",
       "      <td>755</td>\n",
       "      <td>...</td>\n",
       "      <td>1494</td>\n",
       "      <td>1372</td>\n",
       "      <td>1434</td>\n",
       "      <td>1219</td>\n",
       "      <td>987</td>\n",
       "      <td>1220</td>\n",
       "      <td>986</td>\n",
       "      <td>1018</td>\n",
       "      <td>902</td>\n",
       "      <td>753</td>\n",
       "    </tr>\n",
       "    <tr>\n",
       "      <th>Telangana</th>\n",
       "      <td>0</td>\n",
       "      <td>1213</td>\n",
       "      <td>1892</td>\n",
       "      <td>1850</td>\n",
       "      <td>1590</td>\n",
       "      <td>1831</td>\n",
       "      <td>1879</td>\n",
       "      <td>1924</td>\n",
       "      <td>1410</td>\n",
       "      <td>1278</td>\n",
       "      <td>...</td>\n",
       "      <td>1602</td>\n",
       "      <td>1607</td>\n",
       "      <td>1440</td>\n",
       "      <td>857</td>\n",
       "      <td>1267</td>\n",
       "      <td>1196</td>\n",
       "      <td>1015</td>\n",
       "      <td>997</td>\n",
       "      <td>1050</td>\n",
       "      <td>661</td>\n",
       "    </tr>\n",
       "    <tr>\n",
       "      <th>Tripura</th>\n",
       "      <td>0</td>\n",
       "      <td>39</td>\n",
       "      <td>93</td>\n",
       "      <td>25</td>\n",
       "      <td>23</td>\n",
       "      <td>111</td>\n",
       "      <td>24</td>\n",
       "      <td>57</td>\n",
       "      <td>16</td>\n",
       "      <td>142</td>\n",
       "      <td>...</td>\n",
       "      <td>110</td>\n",
       "      <td>87</td>\n",
       "      <td>83</td>\n",
       "      <td>26</td>\n",
       "      <td>79</td>\n",
       "      <td>84</td>\n",
       "      <td>59</td>\n",
       "      <td>76</td>\n",
       "      <td>78</td>\n",
       "      <td>26</td>\n",
       "    </tr>\n",
       "    <tr>\n",
       "      <th>Mizoram</th>\n",
       "      <td>0</td>\n",
       "      <td>2</td>\n",
       "      <td>0</td>\n",
       "      <td>2</td>\n",
       "      <td>22</td>\n",
       "      <td>11</td>\n",
       "      <td>1</td>\n",
       "      <td>5</td>\n",
       "      <td>0</td>\n",
       "      <td>23</td>\n",
       "      <td>...</td>\n",
       "      <td>32</td>\n",
       "      <td>42</td>\n",
       "      <td>58</td>\n",
       "      <td>6</td>\n",
       "      <td>60</td>\n",
       "      <td>61</td>\n",
       "      <td>25</td>\n",
       "      <td>67</td>\n",
       "      <td>59</td>\n",
       "      <td>25</td>\n",
       "    </tr>\n",
       "  </tbody>\n",
       "</table>\n",
       "<p>5 rows × 138 columns</p>\n",
       "</div>"
      ],
      "text/plain": [
       "states     2020-07-01  2020-07-02  2020-07-03  2020-07-04  2020-07-05  \\\n",
       "state                                                                   \n",
       "Delhi               0        2373        2520        2505        2244   \n",
       "Odisha              0         229         561         495         469   \n",
       "Telangana           0        1213        1892        1850        1590   \n",
       "Tripura             0          39          93          25          23   \n",
       "Mizoram             0           2           0           2          22   \n",
       "\n",
       "states     2020-07-06  2020-07-07  2020-07-08  2020-07-09  2020-07-10  ...  \\\n",
       "state                                                                  ...   \n",
       "Delhi            1379        2008        2033        2187        2089  ...   \n",
       "Odisha            456         571         527         577         755  ...   \n",
       "Telangana        1831        1879        1924        1410        1278  ...   \n",
       "Tripura           111          24          57          16         142  ...   \n",
       "Mizoram            11           1           5           0          23  ...   \n",
       "\n",
       "states     2020-11-06  2020-11-07  2020-11-08  2020-11-09  2020-11-10  \\\n",
       "state                                                                   \n",
       "Delhi            7178        6953        7745        5023        7830   \n",
       "Odisha           1494        1372        1434        1219         987   \n",
       "Telangana        1602        1607        1440         857        1267   \n",
       "Tripura           110          87          83          26          79   \n",
       "Mizoram            32          42          58           6          60   \n",
       "\n",
       "states     2020-11-11  2020-11-12  2020-11-13  2020-11-14  2020-11-15  \n",
       "state                                                                  \n",
       "Delhi            8593        7053        7802        7340        3235  \n",
       "Odisha           1220         986        1018         902         753  \n",
       "Telangana        1196        1015         997        1050         661  \n",
       "Tripura            84          59          76          78          26  \n",
       "Mizoram            61          25          67          59          25  \n",
       "\n",
       "[5 rows x 138 columns]"
      ]
     },
     "execution_count": 18,
     "metadata": {},
     "output_type": "execute_result"
    }
   ],
   "source": [
    "#hide\n",
    "dft_ct_new_cases.head()"
   ]
  },
  {
   "cell_type": "code",
   "execution_count": 19,
   "metadata": {
    "execution": {
     "iopub.execute_input": "2020-11-15T11:17:34.858361Z",
     "iopub.status.busy": "2020-11-15T11:17:34.857680Z",
     "iopub.status.idle": "2020-11-15T11:17:39.798516Z",
     "shell.execute_reply": "2020-11-15T11:17:39.798999Z"
    },
    "papermill": {
     "duration": 4.963035,
     "end_time": "2020-11-15T11:17:39.799156",
     "exception": false,
     "start_time": "2020-11-15T11:17:34.836121",
     "status": "completed"
    },
    "tags": []
   },
   "outputs": [
    {
     "data": {
      "image/png": "[encoded data removed]",
      "text/plain": [
       "<Figure size 1296x2016 with 11 Axes>"
      ]
     },
     "metadata": {
      "needs_background": "light"
     },
     "output_type": "display_data"
    }
   ],
   "source": [
    "#hide_input\n",
    "df = dft_ct_new_cases.copy()\n",
    "df.loc['Total'] = df.sum()\n",
    "n = 5\n",
    "ax = []\n",
    "fig = plt.figure(figsize = (18,28))\n",
    "gs = fig.add_gridspec(n+2, 5)\n",
    "# gs = fig.add_gridspec(2, 3)\n",
    "ax1 = fig.add_subplot(gs[0, :])\n",
    "ef = df.loc['Total'].rename_axis('date').reset_index()\n",
    "ef['date'] = ef['date'].astype('datetime64[ns]')\n",
    "ax1.bar(ef.date,ef.Total,alpha=0.3,color='#007acc')\n",
    "ax1.plot(ef.date,ef.Total , marker=\"o\", color='#007acc')\n",
    "ax1.xaxis.set_major_locator(mdates.WeekdayLocator())\n",
    "ax1.xaxis.set_major_formatter(mdates.DateFormatter('%b %d'))\n",
    "ax1.text(0.02, 0.5,'India daily case count', transform = ax1.transAxes, fontsize=25);\n",
    "ax1.spines['right'].set_visible(False)\n",
    "ax1.spines['top'].set_visible(False)\n",
    "\n",
    "ax2 = fig.add_subplot(gs[1,0])\n",
    "ef = df.loc['Maharashtra'].rename_axis('date').reset_index()\n",
    "ef['date'] = ef['date'].astype('datetime64[ns]')\n",
    "\n",
    "ax2.bar(ef.date, ef.Maharashtra,color = '#007acc',alpha=0.5)\n",
    "ax2.xaxis.set_major_locator(mdates.WeekdayLocator())\n",
    "ax2.xaxis.set_major_formatter(mdates.DateFormatter('%b %d'))\n",
    "ax2.set_xticks(ax2.get_xticks()[::3])\n",
    "maxyval = ef.Maharashtra.max()\n",
    "ax2.set_ylim([0,maxyval])\n",
    "ax2.text(0.05, 0.9,'Maharashtra', transform = ax2.transAxes, fontsize=20);\n",
    "ax2.spines['right'].set_visible(False)\n",
    "ax2.spines['top'].set_visible(False)\n",
    "\n",
    "\n",
    "ax3 = fig.add_subplot(gs[1,1])\n",
    "ef = df.loc['Tamil Nadu'].rename_axis('date').reset_index()\n",
    "ef['date'] = ef['date'].astype('datetime64[ns]')\n",
    "ax3.bar(ef.date, ef['Tamil Nadu'],color = '#007acc',alpha=0.5,)\n",
    "ax3.xaxis.set_major_locator(mdates.WeekdayLocator())\n",
    "ax3.xaxis.set_major_formatter(mdates.DateFormatter('%b %d'))\n",
    "ax3.set_xticks(ax3.get_xticks()[::3])\n",
    "ax3.text(0.05, 0.9,'Tamil Nadu', transform = ax3.transAxes, fontsize=20);\n",
    "ax3.spines['right'].set_visible(False)\n",
    "ax3.spines['top'].set_visible(False)\n",
    "\n",
    "ax5 = fig.add_subplot(gs[1,3])\n",
    "ef = df.loc['Telangana'].rename_axis('date').reset_index()\n",
    "ef['date'] = ef['date'].astype('datetime64[ns]')\n",
    "ax5.bar(ef.date, ef['Telangana'],color = '#007acc',alpha=0.5,)\n",
    "ax5.xaxis.set_major_locator(mdates.WeekdayLocator())\n",
    "ax5.xaxis.set_major_formatter(mdates.DateFormatter('%b %d'))\n",
    "ax5.set_xticks(ax5.get_xticks()[::3])\n",
    "ax5.text(0.05, 0.9,'Telangana', transform = ax5.transAxes, fontsize=20);\n",
    "ax5.spines['right'].set_visible(False)\n",
    "ax5.spines['top'].set_visible(False)\n",
    "\n",
    "ax6 = fig.add_subplot(gs[1,4])\n",
    "ef = df.loc['Andhra Pradesh'].rename_axis('date').reset_index()\n",
    "ef['date'] = ef['date'].astype('datetime64[ns]')\n",
    "ax6.bar(ef.date, ef['Andhra Pradesh'],color = '#007acc',alpha=0.5,)\n",
    "ax6.xaxis.set_major_locator(mdates.WeekdayLocator())\n",
    "ax6.xaxis.set_major_formatter(mdates.DateFormatter('%b %d'))\n",
    "ax6.set_xticks(ax6.get_xticks()[::3])\n",
    "ax6.text(0.05, 1,'Andhra Pradesh', transform = ax6.transAxes, fontsize=20);\n",
    "ax6.spines['right'].set_visible(False)\n",
    "ax6.spines['top'].set_visible(False)\n",
    "\n",
    "ax4 = fig.add_subplot(gs[1,2])\n",
    "ef = df.loc['Delhi'].rename_axis('date').reset_index()\n",
    "ef['date'] = ef['date'].astype('datetime64[ns]')\n",
    "ax4.bar(ef.date, ef.Delhi,color = '#007acc',alpha=0.5)\n",
    "ax4.set_xticks([])\n",
    "ax4.xaxis.set_major_locator(mdates.WeekdayLocator())\n",
    "ax4.xaxis.set_major_formatter(mdates.DateFormatter('%b %d'))\n",
    "ax4.set_xticks(ax4.get_xticks()[::3])\n",
    "ax4.spines['right'].set_visible(False)\n",
    "ax4.spines['top'].set_visible(False)\n",
    "\n",
    "ax4.text(0.05, 1,'Delhi', transform = ax4.transAxes, fontsize=20)\n",
    "\n",
    "for i in range(n):\n",
    "    \n",
    "    ax.append(fig.add_subplot(gs[i+2,:]))\n",
    "    ef = df.iloc[i+3].rename_axis('date').reset_index()\n",
    "    ef['date'] = ef['date'].astype('datetime64[ns]')\n",
    "    ax[i].bar(ef.date,ef.iloc[:,-1],color = '#007acc',alpha=0.3)\n",
    "    ax[i].plot(ef.date,ef.iloc[:,-1],marker='o',color='#007acc')\n",
    "    ax[i].text(0.02,0.5,f'{ef.columns.values[-1]}',transform = ax[i].transAxes, fontsize = 20);\n",
    "    ax[i].xaxis.set_major_locator(mdates.WeekdayLocator())\n",
    "    ax[i].xaxis.set_major_formatter(mdates.DateFormatter('%b %d'))\n",
    "    ax[i].set_ylim([0,7000])\n",
    "    ax[i].spines['right'].set_visible(False)\n",
    "    ax[i].spines['top'].set_visible(False)\n",
    "plt.tight_layout()\n"
   ]
  },
  {
   "cell_type": "code",
   "execution_count": 20,
   "metadata": {
    "execution": {
     "iopub.execute_input": "2020-11-15T11:17:39.894735Z",
     "iopub.status.busy": "2020-11-15T11:17:39.894104Z",
     "iopub.status.idle": "2020-11-15T11:17:39.896674Z",
     "shell.execute_reply": "2020-11-15T11:17:39.897404Z"
    },
    "papermill": {
     "duration": 0.075097,
     "end_time": "2020-11-15T11:17:39.897555",
     "exception": false,
     "start_time": "2020-11-15T11:17:39.822458",
     "status": "completed"
    },
    "tags": []
   },
   "outputs": [
    {
     "name": "stdout",
     "output_type": "stream",
     "text": [
      "                                   states    Cases  Deaths   PCases  PDeaths  Cases (+)  Deaths (+)  Fatality Rate\n",
      "                              Maharashtra  1744698   45914  1744698    45914          0           0           2.63\n",
      "                                Karnataka   860082   11508   860082    11508          0           0           1.34\n",
      "                           Andhra Pradesh   852955    6854   852955     6854          0           0           0.80\n",
      "                               Tamil Nadu   756372   11466   756372    11466          0           0           1.52\n",
      "                                   Kerala   520418    1848   520418     1848          0           0           0.36\n",
      "                            Uttar Pradesh   509903    7354   509903     7354          0           0           1.44\n",
      "                                    Delhi   485405    7614   482170     7519       3235          95           1.57\n",
      "                              West Bengal   428498    7610   428498     7610          0           0           1.78\n",
      "                                   Odisha   308659    1580   307906     1563        753          17           0.51\n",
      "                                Telangana   257374    1404   256713     1401        661           3           0.55\n",
      "                                    Bihar   226669    1179   226669     1179          0           0           0.52\n",
      "                                Rajasthan   223633    2056   223633     2056          0           0           0.92\n",
      "                                    Assam   210175     962   210175      962          0           0           0.46\n",
      "                             Chhattisgarh   210004    2562   210004     2562          0           0           1.22\n",
      "                                  Haryana   197917    2011   197917     2011          0           0           1.02\n",
      "                                  Gujarat   187240    3797   187240     3797          0           0           2.03\n",
      "                           Madhya Pradesh   183057    3083   183057     3083          0           0           1.68\n",
      "                                   Punjab   140605    4428   140605     4428          0           0           3.15\n",
      "                                Jharkhand   105935     922   105935      922          0           0           0.87\n",
      "                        Jammu and Kashmir   102159    1580   102159     1580          0           0           1.55\n",
      "                              Uttarakhand    68002    1102    68002     1102          0           0           1.62\n",
      "                                      Goa    45845     659    45845      659          0           0           1.44\n",
      "                               Puducherry    36299     608    36299      608          0           0           1.67\n",
      "                                  Tripura    31942     359    31916      359         26           0           1.12\n",
      "                         Himachal Pradesh    29330     424    29330      424          0           0           1.45\n",
      "                                  Manipur    21636     218    21636      218          0           0           1.01\n",
      "                        Arunachal Pradesh    15792      48    15792       48          0           0           0.30\n",
      "                               Chandigarh    15636     246    15636      246          0           0           1.57\n",
      "                                Meghalaya    10633     100    10633      100          0           0           0.94\n",
      "                                 Nagaland     9750      52     9750       52          0           0           0.53\n",
      "                                   Ladakh     7356      89     7356       89          0           0           1.21\n",
      "              Andaman and Nicobar Islands     4527      61     4527       61          0           0           1.35\n",
      "                                   Sikkim     4457      87     4457       87          0           0           1.95\n",
      "                                  Mizoram     3393       4     3368        3         25           1           0.12\n",
      " Dadra and Nagar Haveli and Daman and Diu     3280       2     3280        2          0           0           0.06\n",
      "                              Lakshadweep        0       0        0        0          0           0            NaN\n"
     ]
    }
   ],
   "source": [
    "#hide_input\n",
    "print(df_table.to_string(index=False))"
   ]
  },
  {
   "cell_type": "code",
   "execution_count": null,
   "metadata": {
    "papermill": {
     "duration": 0.087516,
     "end_time": "2020-11-15T11:17:40.086742",
     "exception": false,
     "start_time": "2020-11-15T11:17:39.999226",
     "status": "completed"
    },
    "tags": []
   },
   "outputs": [],
   "source": []
  },
  {
   "cell_type": "code",
   "execution_count": null,
   "metadata": {
    "papermill": {
     "duration": 0.023352,
     "end_time": "2020-11-15T11:17:40.134600",
     "exception": false,
     "start_time": "2020-11-15T11:17:40.111248",
     "status": "completed"
    },
    "tags": []
   },
   "outputs": [],
   "source": []
  }
 ],
 "metadata": {
  "kernelspec": {
   "display_name": "Python 3",
   "language": "python",
   "name": "python3"
  },
  "language_info": {
   "codemirror_mode": {
    "name": "ipython",
    "version": 3
   },
   "file_extension": ".py",
   "mimetype": "text/x-python",
   "name": "python",
   "nbconvert_exporter": "python",
   "pygments_lexer": "ipython3",
   "version": "3.6.12"
  },
  "papermill": {
   "duration": 13.333206,
   "end_time": "2020-11-15T11:17:41.631431",
   "environment_variables": {},
   "exception": null,
   "input_path": "latest.ipynb",
   "output_path": "latest.ipynb",
   "parameters": {},
   "start_time": "2020-11-15T11:17:28.298225",
   "version": "2.1.2"
  }
 },
 "nbformat": 4,
 "nbformat_minor": 4
}