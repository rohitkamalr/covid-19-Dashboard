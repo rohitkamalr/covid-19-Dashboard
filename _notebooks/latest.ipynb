{
 "cells": [
  {
   "cell_type": "markdown",
   "metadata": {
    "papermill": {
     "duration": 0.01975,
     "end_time": "2020-09-30T10:23:08.260716",
     "exception": false,
     "start_time": "2020-09-30T10:23:08.240966",
     "status": "completed"
    },
    "tags": []
   },
   "source": [
    "# Latest COVID-19 India Matplotlib Overview"
   ]
  },
  {
   "cell_type": "code",
   "execution_count": 1,
   "metadata": {
    "execution": {
     "iopub.execute_input": "2020-09-30T10:23:08.301077Z",
     "iopub.status.busy": "2020-09-30T10:23:08.300407Z",
     "iopub.status.idle": "2020-09-30T10:23:08.891882Z",
     "shell.execute_reply": "2020-09-30T10:23:08.892409Z"
    },
    "papermill": {
     "duration": 0.615231,
     "end_time": "2020-09-30T10:23:08.892610",
     "exception": false,
     "start_time": "2020-09-30T10:23:08.277379",
     "status": "completed"
    },
    "tags": []
   },
   "outputs": [],
   "source": [
    "#hide\n",
    "import pandas as pd\n",
    "import numpy as np\n",
    "import requests\n",
    "import json\n",
    "import matplotlib.pyplot as plt\n",
    "import matplotlib.dates as mdates\n",
    "import matplotlib as mpl\n",
    "from IPython.core.display import display,HTML\n",
    "%matplotlib inline\n",
    "from datetime import date"
   ]
  },
  {
   "cell_type": "code",
   "execution_count": 2,
   "metadata": {
    "execution": {
     "iopub.execute_input": "2020-09-30T10:23:08.933837Z",
     "iopub.status.busy": "2020-09-30T10:23:08.933182Z",
     "iopub.status.idle": "2020-09-30T10:23:09.227586Z",
     "shell.execute_reply": "2020-09-30T10:23:09.227019Z"
    },
    "papermill": {
     "duration": 0.316731,
     "end_time": "2020-09-30T10:23:09.227736",
     "exception": false,
     "start_time": "2020-09-30T10:23:08.911005",
     "status": "completed"
    },
    "tags": []
   },
   "outputs": [],
   "source": [
    "#hide\n",
    "df  = pd.read_csv('https://api.covid19india.org/csv/latest/states.csv')\n",
    "df = df[['Date','State','Confirmed','Deceased']]\n",
    "df = df.rename(columns={'Confirmed':'Cases', \"Deceased\":'Deaths'})\n",
    "df_cases = df[[\"Date\",'State','Cases']]\n",
    "df_deaths = df[['Date','State','Deaths']]\n",
    "df_cases1 = df_cases.groupby('Date')\n",
    "df_deaths1= df_deaths.groupby('Date')"
   ]
  },
  {
   "cell_type": "code",
   "execution_count": 3,
   "metadata": {
    "execution": {
     "iopub.execute_input": "2020-09-30T10:23:09.266165Z",
     "iopub.status.busy": "2020-09-30T10:23:09.265518Z",
     "iopub.status.idle": "2020-09-30T10:23:09.283623Z",
     "shell.execute_reply": "2020-09-30T10:23:09.284218Z"
    },
    "papermill": {
     "duration": 0.039895,
     "end_time": "2020-09-30T10:23:09.284382",
     "exception": false,
     "start_time": "2020-09-30T10:23:09.244487",
     "status": "completed"
    },
    "tags": []
   },
   "outputs": [],
   "source": [
    "#hide\n",
    "df_snap = pd.read_csv('data/SnapshotCases-28-July.csv')\n",
    "arr_states = df_snap['states'].unique()\n",
    "arr_dates = df['Date'].unique()\n",
    "df_snap = df_snap.set_index('states')"
   ]
  },
  {
   "cell_type": "code",
   "execution_count": 4,
   "metadata": {
    "execution": {
     "iopub.execute_input": "2020-09-30T10:23:09.332114Z",
     "iopub.status.busy": "2020-09-30T10:23:09.330856Z",
     "iopub.status.idle": "2020-09-30T10:23:09.333773Z",
     "shell.execute_reply": "2020-09-30T10:23:09.334301Z"
    },
    "papermill": {
     "duration": 0.03391,
     "end_time": "2020-09-30T10:23:09.334457",
     "exception": false,
     "start_time": "2020-09-30T10:23:09.300547",
     "status": "completed"
    },
    "tags": []
   },
   "outputs": [
    {
     "data": {
      "text/plain": [
       "array(['Andaman and Nicobar Islands', 'Andhra Pradesh',\n",
       "       'Arunachal Pradesh', 'Assam', 'Bihar', 'Chandigarh',\n",
       "       'Dadra and Nagar Haveli and Daman and Diu', 'Delhi', 'Goa',\n",
       "       'Gujarat', 'Haryana', 'Himachal Pradesh', 'Jammu and Kashmir',\n",
       "       'Jharkhand', 'Karnataka', 'Kerala', 'Lakshadweep',\n",
       "       'Madhya Pradesh', 'Maharashtra', 'Manipur', 'Meghalaya', 'Mizoram',\n",
       "       'Nagaland', 'Odisha', 'Puducherry', 'Punjab', 'Rajasthan',\n",
       "       'Sikkim', 'Tamil Nadu', 'Telangana', 'Tripura', 'Uttar Pradesh',\n",
       "       'West Bengal', 'Chhattisgarh', 'Ladakh', 'Uttarakhand'],\n",
       "      dtype=object)"
      ]
     },
     "execution_count": 4,
     "metadata": {},
     "output_type": "execute_result"
    }
   ],
   "source": [
    "#hide\n",
    "arr_states[-9] = 'Puducherry'\n",
    "arr_states[-10] = 'Odisha'\n",
    "arr_states[6] = 'Dadra and Nagar Haveli and Daman and Diu'\n",
    "arr_states = np.append(arr_states,np.array(['Chhattisgarh','Ladakh','Uttarakhand']))\n",
    "arr_states"
   ]
  },
  {
   "cell_type": "code",
   "execution_count": 5,
   "metadata": {
    "execution": {
     "iopub.execute_input": "2020-09-30T10:23:09.383871Z",
     "iopub.status.busy": "2020-09-30T10:23:09.383200Z",
     "iopub.status.idle": "2020-09-30T10:23:09.385222Z",
     "shell.execute_reply": "2020-09-30T10:23:09.385723Z"
    },
    "papermill": {
     "duration": 0.034793,
     "end_time": "2020-09-30T10:23:09.385885",
     "exception": false,
     "start_time": "2020-09-30T10:23:09.351092",
     "status": "completed"
    },
    "tags": []
   },
   "outputs": [],
   "source": [
    "#hide\n",
    "dates = []\n",
    "for i in arr_dates:\n",
    "    if i>='2020-07-01':\n",
    "        dates.append(i)\n",
    "dict = {'states':dates}\n",
    "for i in arr_states:\n",
    "    dict[i] = [0]*len(dates)\n",
    "dft_cases = pd.DataFrame(dict)\n",
    "dft_deaths = pd.DataFrame(dict)\n"
   ]
  },
  {
   "cell_type": "code",
   "execution_count": 6,
   "metadata": {
    "execution": {
     "iopub.execute_input": "2020-09-30T10:23:09.432063Z",
     "iopub.status.busy": "2020-09-30T10:23:09.431395Z",
     "iopub.status.idle": "2020-09-30T10:23:11.017995Z",
     "shell.execute_reply": "2020-09-30T10:23:11.017105Z"
    },
    "papermill": {
     "duration": 1.611083,
     "end_time": "2020-09-30T10:23:11.018148",
     "exception": false,
     "start_time": "2020-09-30T10:23:09.407065",
     "status": "completed"
    },
    "tags": []
   },
   "outputs": [],
   "source": [
    "#hide\n",
    "for i in range(len(dates)):\n",
    "    df1_deaths = df_deaths1.get_group(dates[i])\n",
    "    for j in range(len(df1_deaths.index)):\n",
    "        if df1_deaths.iloc[j,1] in arr_states:\n",
    "            dft_deaths.loc[i,df1_deaths.iloc[j,1]] = df1_deaths.iloc[j,2]\n",
    "dft_deaths = dft_deaths.set_index('states')"
   ]
  },
  {
   "cell_type": "code",
   "execution_count": 7,
   "metadata": {
    "execution": {
     "iopub.execute_input": "2020-09-30T10:23:11.060559Z",
     "iopub.status.busy": "2020-09-30T10:23:11.059914Z",
     "iopub.status.idle": "2020-09-30T10:23:12.634255Z",
     "shell.execute_reply": "2020-09-30T10:23:12.633240Z"
    },
    "papermill": {
     "duration": 1.596118,
     "end_time": "2020-09-30T10:23:12.634407",
     "exception": false,
     "start_time": "2020-09-30T10:23:11.038289",
     "status": "completed"
    },
    "tags": []
   },
   "outputs": [],
   "source": [
    "#hide\n",
    "for i in range(len(dates)):\n",
    "    df1_cases = df_cases1.get_group(dates[i])\n",
    "    for j in range(len(df1_cases.index)):\n",
    "        if df1_cases.iloc[j,1] in arr_states:\n",
    "            dft_cases.loc[i,df1_cases.iloc[j,1]] = df1_cases.iloc[j,2]\n",
    "dft_cases = dft_cases.set_index('states')"
   ]
  },
  {
   "cell_type": "code",
   "execution_count": 8,
   "metadata": {
    "execution": {
     "iopub.execute_input": "2020-09-30T10:23:12.675129Z",
     "iopub.status.busy": "2020-09-30T10:23:12.674431Z",
     "iopub.status.idle": "2020-09-30T10:23:12.676860Z",
     "shell.execute_reply": "2020-09-30T10:23:12.676222Z"
    },
    "papermill": {
     "duration": 0.024733,
     "end_time": "2020-09-30T10:23:12.676996",
     "exception": false,
     "start_time": "2020-09-30T10:23:12.652263",
     "status": "completed"
    },
    "tags": []
   },
   "outputs": [],
   "source": [
    "#hide\n",
    "dft_cases = dft_cases.T\n",
    "dft_deaths = dft_deaths.T\n",
    "dt_today = dates[-1]\n",
    "dt_yday = dates[-2]"
   ]
  },
  {
   "cell_type": "code",
   "execution_count": 9,
   "metadata": {
    "execution": {
     "iopub.execute_input": "2020-09-30T10:23:12.715962Z",
     "iopub.status.busy": "2020-09-30T10:23:12.715315Z",
     "iopub.status.idle": "2020-09-30T10:23:12.720409Z",
     "shell.execute_reply": "2020-09-30T10:23:12.719859Z"
    },
    "papermill": {
     "duration": 0.027301,
     "end_time": "2020-09-30T10:23:12.720537",
     "exception": false,
     "start_time": "2020-09-30T10:23:12.693236",
     "status": "completed"
    },
    "tags": []
   },
   "outputs": [],
   "source": [
    "#hide\n",
    "dft_cases = dft_cases.reset_index()\n",
    "dft_deaths = dft_deaths.reset_index()\n",
    "dft_cases = dft_cases.rename(columns = {'index':'state'})\n",
    "dft_deaths = dft_deaths.rename(columns = {'index':'state'})"
   ]
  },
  {
   "cell_type": "code",
   "execution_count": 10,
   "metadata": {
    "execution": {
     "iopub.execute_input": "2020-09-30T10:23:12.763709Z",
     "iopub.status.busy": "2020-09-30T10:23:12.763060Z",
     "iopub.status.idle": "2020-09-30T10:23:12.766017Z",
     "shell.execute_reply": "2020-09-30T10:23:12.766637Z"
    },
    "papermill": {
     "duration": 0.030142,
     "end_time": "2020-09-30T10:23:12.766779",
     "exception": false,
     "start_time": "2020-09-30T10:23:12.736637",
     "status": "completed"
    },
    "tags": []
   },
   "outputs": [],
   "source": [
    "#hide\n",
    "dfc_cases = dft_cases.groupby('state')[dt_today].sum()\n",
    "dfc_deaths = dft_deaths.groupby('state')[dt_today].sum()\n",
    "dfp_cases = dft_cases.groupby('state')[dt_yday].sum()\n",
    "dfp_deaths = dft_deaths.groupby('state')[dt_yday].sum()"
   ]
  },
  {
   "cell_type": "code",
   "execution_count": 11,
   "metadata": {
    "execution": {
     "iopub.execute_input": "2020-09-30T10:23:12.804597Z",
     "iopub.status.busy": "2020-09-30T10:23:12.803942Z",
     "iopub.status.idle": "2020-09-30T10:23:12.819107Z",
     "shell.execute_reply": "2020-09-30T10:23:12.818441Z"
    },
    "papermill": {
     "duration": 0.036367,
     "end_time": "2020-09-30T10:23:12.819238",
     "exception": false,
     "start_time": "2020-09-30T10:23:12.782871",
     "status": "completed"
    },
    "tags": []
   },
   "outputs": [
    {
     "data": {
      "text/html": [
       "<div>\n",
       "<style scoped>\n",
       "    .dataframe tbody tr th:only-of-type {\n",
       "        vertical-align: middle;\n",
       "    }\n",
       "\n",
       "    .dataframe tbody tr th {\n",
       "        vertical-align: top;\n",
       "    }\n",
       "\n",
       "    .dataframe thead th {\n",
       "        text-align: right;\n",
       "    }\n",
       "</style>\n",
       "<table border=\"1\" class=\"dataframe\">\n",
       "  <thead>\n",
       "    <tr style=\"text-align: right;\">\n",
       "      <th></th>\n",
       "      <th>states</th>\n",
       "      <th>Cases</th>\n",
       "      <th>Deaths</th>\n",
       "      <th>PCases</th>\n",
       "      <th>PDeaths</th>\n",
       "    </tr>\n",
       "  </thead>\n",
       "  <tbody>\n",
       "    <tr>\n",
       "      <th>0</th>\n",
       "      <td>Maharashtra</td>\n",
       "      <td>1366129</td>\n",
       "      <td>36181</td>\n",
       "      <td>1366129</td>\n",
       "      <td>36181</td>\n",
       "    </tr>\n",
       "    <tr>\n",
       "      <th>1</th>\n",
       "      <td>Andhra Pradesh</td>\n",
       "      <td>687351</td>\n",
       "      <td>5780</td>\n",
       "      <td>687351</td>\n",
       "      <td>5780</td>\n",
       "    </tr>\n",
       "    <tr>\n",
       "      <th>2</th>\n",
       "      <td>Karnataka</td>\n",
       "      <td>592911</td>\n",
       "      <td>8777</td>\n",
       "      <td>592911</td>\n",
       "      <td>8777</td>\n",
       "    </tr>\n",
       "    <tr>\n",
       "      <th>3</th>\n",
       "      <td>Tamil Nadu</td>\n",
       "      <td>591943</td>\n",
       "      <td>9453</td>\n",
       "      <td>591943</td>\n",
       "      <td>9453</td>\n",
       "    </tr>\n",
       "    <tr>\n",
       "      <th>4</th>\n",
       "      <td>Uttar Pradesh</td>\n",
       "      <td>394856</td>\n",
       "      <td>5715</td>\n",
       "      <td>394856</td>\n",
       "      <td>5715</td>\n",
       "    </tr>\n",
       "  </tbody>\n",
       "</table>\n",
       "</div>"
      ],
      "text/plain": [
       "           states    Cases  Deaths   PCases  PDeaths\n",
       "0     Maharashtra  1366129   36181  1366129    36181\n",
       "1  Andhra Pradesh   687351    5780   687351     5780\n",
       "2       Karnataka   592911    8777   592911     8777\n",
       "3      Tamil Nadu   591943    9453   591943     9453\n",
       "4   Uttar Pradesh   394856    5715   394856     5715"
      ]
     },
     "execution_count": 11,
     "metadata": {},
     "output_type": "execute_result"
    }
   ],
   "source": [
    "#hide\n",
    "df_table = pd.DataFrame({'states': dfc_cases.index, 'Cases': dfc_cases.values, 'Deaths': dfc_deaths.values, 'PCases': dfp_cases.values, 'PDeaths': dfp_deaths.values}).set_index('states')\n",
    "df_table = df_table.sort_values(by = ['Cases','Deaths'], ascending = [False, False])\n",
    "df_table = df_table.reset_index()\n",
    "df_table.head()"
   ]
  },
  {
   "cell_type": "code",
   "execution_count": 12,
   "metadata": {
    "execution": {
     "iopub.execute_input": "2020-09-30T10:23:12.856845Z",
     "iopub.status.busy": "2020-09-30T10:23:12.856145Z",
     "iopub.status.idle": "2020-09-30T10:23:12.864478Z",
     "shell.execute_reply": "2020-09-30T10:23:12.865086Z"
    },
    "papermill": {
     "duration": 0.02953,
     "end_time": "2020-09-30T10:23:12.865231",
     "exception": false,
     "start_time": "2020-09-30T10:23:12.835701",
     "status": "completed"
    },
    "tags": []
   },
   "outputs": [],
   "source": [
    "#hide\n",
    "for c in 'Cases, Deaths'.split(', '):\n",
    "    df_table[f'{c} (+)'] = (df_table[c] - df_table[f'P{c}']).clip(0)\n",
    "df_table['Fatality Rate'] = (100* df_table['Deaths']/ df_table['Cases']).round(2)"
   ]
  },
  {
   "cell_type": "code",
   "execution_count": 13,
   "metadata": {
    "execution": {
     "iopub.execute_input": "2020-09-30T10:23:12.908771Z",
     "iopub.status.busy": "2020-09-30T10:23:12.908128Z",
     "iopub.status.idle": "2020-09-30T10:23:12.911288Z",
     "shell.execute_reply": "2020-09-30T10:23:12.911795Z"
    },
    "papermill": {
     "duration": 0.030088,
     "end_time": "2020-09-30T10:23:12.911941",
     "exception": false,
     "start_time": "2020-09-30T10:23:12.881853",
     "status": "completed"
    },
    "tags": []
   },
   "outputs": [
    {
     "data": {
      "text/html": [
       "<div>\n",
       "<style scoped>\n",
       "    .dataframe tbody tr th:only-of-type {\n",
       "        vertical-align: middle;\n",
       "    }\n",
       "\n",
       "    .dataframe tbody tr th {\n",
       "        vertical-align: top;\n",
       "    }\n",
       "\n",
       "    .dataframe thead th {\n",
       "        text-align: right;\n",
       "    }\n",
       "</style>\n",
       "<table border=\"1\" class=\"dataframe\">\n",
       "  <thead>\n",
       "    <tr style=\"text-align: right;\">\n",
       "      <th></th>\n",
       "      <th>states</th>\n",
       "      <th>Cases</th>\n",
       "      <th>Deaths</th>\n",
       "      <th>PCases</th>\n",
       "      <th>PDeaths</th>\n",
       "      <th>Cases (+)</th>\n",
       "      <th>Deaths (+)</th>\n",
       "      <th>Fatality Rate</th>\n",
       "    </tr>\n",
       "  </thead>\n",
       "  <tbody>\n",
       "    <tr>\n",
       "      <th>0</th>\n",
       "      <td>Maharashtra</td>\n",
       "      <td>1366129</td>\n",
       "      <td>36181</td>\n",
       "      <td>1366129</td>\n",
       "      <td>36181</td>\n",
       "      <td>0</td>\n",
       "      <td>0</td>\n",
       "      <td>2.65</td>\n",
       "    </tr>\n",
       "    <tr>\n",
       "      <th>1</th>\n",
       "      <td>Andhra Pradesh</td>\n",
       "      <td>687351</td>\n",
       "      <td>5780</td>\n",
       "      <td>687351</td>\n",
       "      <td>5780</td>\n",
       "      <td>0</td>\n",
       "      <td>0</td>\n",
       "      <td>0.84</td>\n",
       "    </tr>\n",
       "    <tr>\n",
       "      <th>2</th>\n",
       "      <td>Karnataka</td>\n",
       "      <td>592911</td>\n",
       "      <td>8777</td>\n",
       "      <td>592911</td>\n",
       "      <td>8777</td>\n",
       "      <td>0</td>\n",
       "      <td>0</td>\n",
       "      <td>1.48</td>\n",
       "    </tr>\n",
       "    <tr>\n",
       "      <th>3</th>\n",
       "      <td>Tamil Nadu</td>\n",
       "      <td>591943</td>\n",
       "      <td>9453</td>\n",
       "      <td>591943</td>\n",
       "      <td>9453</td>\n",
       "      <td>0</td>\n",
       "      <td>0</td>\n",
       "      <td>1.60</td>\n",
       "    </tr>\n",
       "    <tr>\n",
       "      <th>4</th>\n",
       "      <td>Uttar Pradesh</td>\n",
       "      <td>394856</td>\n",
       "      <td>5715</td>\n",
       "      <td>394856</td>\n",
       "      <td>5715</td>\n",
       "      <td>0</td>\n",
       "      <td>0</td>\n",
       "      <td>1.45</td>\n",
       "    </tr>\n",
       "  </tbody>\n",
       "</table>\n",
       "</div>"
      ],
      "text/plain": [
       "           states    Cases  Deaths   PCases  PDeaths  Cases (+)  Deaths (+)  \\\n",
       "0     Maharashtra  1366129   36181  1366129    36181          0           0   \n",
       "1  Andhra Pradesh   687351    5780   687351     5780          0           0   \n",
       "2       Karnataka   592911    8777   592911     8777          0           0   \n",
       "3      Tamil Nadu   591943    9453   591943     9453          0           0   \n",
       "4   Uttar Pradesh   394856    5715   394856     5715          0           0   \n",
       "\n",
       "   Fatality Rate  \n",
       "0           2.65  \n",
       "1           0.84  \n",
       "2           1.48  \n",
       "3           1.60  \n",
       "4           1.45  "
      ]
     },
     "execution_count": 13,
     "metadata": {},
     "output_type": "execute_result"
    }
   ],
   "source": [
    "#hide\n",
    "df_table.head()"
   ]
  },
  {
   "cell_type": "code",
   "execution_count": 14,
   "metadata": {
    "execution": {
     "iopub.execute_input": "2020-09-30T10:23:12.951816Z",
     "iopub.status.busy": "2020-09-30T10:23:12.951169Z",
     "iopub.status.idle": "2020-09-30T10:23:12.968265Z",
     "shell.execute_reply": "2020-09-30T10:23:12.968826Z"
    },
    "papermill": {
     "duration": 0.039499,
     "end_time": "2020-09-30T10:23:12.968974",
     "exception": false,
     "start_time": "2020-09-30T10:23:12.929475",
     "status": "completed"
    },
    "tags": []
   },
   "outputs": [
    {
     "data": {
      "text/plain": [
       "{'updated': '2020-09-30',\n",
       " 'since': '2020-09-29',\n",
       " 'Cases': 6229474,\n",
       " 'PCases': 6223519,\n",
       " 'Deaths': 97555,\n",
       " 'PDeaths': 97529,\n",
       " 'Cases (+)': 5955,\n",
       " 'Deaths (+)': 26}"
      ]
     },
     "execution_count": 14,
     "metadata": {},
     "output_type": "execute_result"
    }
   ],
   "source": [
    "#hide\n",
    "summary = {'updated':dates[-1], 'since':dates[-2]}\n",
    "list_names = ['Cases', 'PCases', 'Deaths', 'PDeaths', 'Cases (+)', 'Deaths (+)']\n",
    "for name in list_names:\n",
    "    summary[name] = df_table.sum()[name]\n",
    "summary"
   ]
  },
  {
   "cell_type": "code",
   "execution_count": 15,
   "metadata": {
    "execution": {
     "iopub.execute_input": "2020-09-30T10:23:13.008926Z",
     "iopub.status.busy": "2020-09-30T10:23:13.008273Z",
     "iopub.status.idle": "2020-09-30T10:23:13.010833Z",
     "shell.execute_reply": "2020-09-30T10:23:13.010197Z"
    },
    "papermill": {
     "duration": 0.023342,
     "end_time": "2020-09-30T10:23:13.010989",
     "exception": false,
     "start_time": "2020-09-30T10:23:12.987647",
     "status": "completed"
    },
    "tags": []
   },
   "outputs": [],
   "source": [
    "#hide\n",
    "overview = '''\n",
    "<!-- #######  HTML!! #########-->\n",
    "<h1 style=\"color: #5e9ca0; text-align: center;\">India</h1>\n",
    "<p style=\"text-align: center;\">Last update: <strong>{update}</strong></p>\n",
    "<p style=\"text-align: center;\">Confirmed cases:</p>\n",
    "<p style=\"text-align: center;font-size:24px;\">{cases} (<span style=\"color: #ff0000;\">+{new}</span>)</p>\n",
    "<p style=\"text-align: center;\">Confirmed deaths:</p>\n",
    "<p style=\"text-align: center;font-size:24px;\">{deaths} (<span style=\"color: #ff0000;\">+{dnew}</span>)</p>\n",
    "'''"
   ]
  },
  {
   "cell_type": "code",
   "execution_count": 16,
   "metadata": {
    "execution": {
     "iopub.execute_input": "2020-09-30T10:23:13.050891Z",
     "iopub.status.busy": "2020-09-30T10:23:13.050238Z",
     "iopub.status.idle": "2020-09-30T10:23:13.053953Z",
     "shell.execute_reply": "2020-09-30T10:23:13.054576Z"
    },
    "papermill": {
     "duration": 0.026375,
     "end_time": "2020-09-30T10:23:13.054722",
     "exception": false,
     "start_time": "2020-09-30T10:23:13.028347",
     "status": "completed"
    },
    "tags": []
   },
   "outputs": [
    {
     "data": {
      "text/html": [
       "\n",
       "<!-- #######  HTML!! #########-->\n",
       "<h1 style=\"color: #5e9ca0; text-align: center;\">India</h1>\n",
       "<p style=\"text-align: center;\">Last update: <strong>2020-09-30</strong></p>\n",
       "<p style=\"text-align: center;\">Confirmed cases:</p>\n",
       "<p style=\"text-align: center;font-size:24px;\">6229474 (<span style=\"color: #ff0000;\">+5955</span>)</p>\n",
       "<p style=\"text-align: center;\">Confirmed deaths:</p>\n",
       "<p style=\"text-align: center;font-size:24px;\">97555 (<span style=\"color: #ff0000;\">+26</span>)</p>\n"
      ],
      "text/plain": [
       "<IPython.core.display.HTML object>"
      ]
     },
     "metadata": {},
     "output_type": "display_data"
    }
   ],
   "source": [
    "#hide_input\n",
    "update = summary['updated']\n",
    "cases = summary['Cases']\n",
    "new = summary['Cases (+)']\n",
    "deaths = summary['Deaths']\n",
    "dnew = summary['Deaths (+)']\n",
    "\n",
    "html = HTML(overview.format(update=update, cases=cases,new=new,deaths=deaths,dnew=dnew))\n",
    "\n",
    "display(html)"
   ]
  },
  {
   "cell_type": "code",
   "execution_count": 17,
   "metadata": {
    "execution": {
     "iopub.execute_input": "2020-09-30T10:23:13.099556Z",
     "iopub.status.busy": "2020-09-30T10:23:13.098880Z",
     "iopub.status.idle": "2020-09-30T10:23:13.103846Z",
     "shell.execute_reply": "2020-09-30T10:23:13.104463Z"
    },
    "papermill": {
     "duration": 0.030632,
     "end_time": "2020-09-30T10:23:13.104620",
     "exception": false,
     "start_time": "2020-09-30T10:23:13.073988",
     "status": "completed"
    },
    "tags": []
   },
   "outputs": [],
   "source": [
    "#hide\n",
    "dt_cols = list(dft_cases.columns[1:])\n",
    "dft_ct_new_cases = dft_cases.groupby('state')[dt_cols].sum().diff(axis=1).fillna(0).astype(int)\n",
    "dft_ct_new_cases.sort_values(by = dates[-1], ascending = False,inplace = True)"
   ]
  },
  {
   "cell_type": "code",
   "execution_count": 18,
   "metadata": {
    "execution": {
     "iopub.execute_input": "2020-09-30T10:23:13.162182Z",
     "iopub.status.busy": "2020-09-30T10:23:13.161535Z",
     "iopub.status.idle": "2020-09-30T10:23:13.164978Z",
     "shell.execute_reply": "2020-09-30T10:23:13.164430Z"
    },
    "papermill": {
     "duration": 0.040559,
     "end_time": "2020-09-30T10:23:13.165109",
     "exception": false,
     "start_time": "2020-09-30T10:23:13.124550",
     "status": "completed"
    },
    "tags": []
   },
   "outputs": [
    {
     "data": {
      "text/html": [
       "<div>\n",
       "<style scoped>\n",
       "    .dataframe tbody tr th:only-of-type {\n",
       "        vertical-align: middle;\n",
       "    }\n",
       "\n",
       "    .dataframe tbody tr th {\n",
       "        vertical-align: top;\n",
       "    }\n",
       "\n",
       "    .dataframe thead th {\n",
       "        text-align: right;\n",
       "    }\n",
       "</style>\n",
       "<table border=\"1\" class=\"dataframe\">\n",
       "  <thead>\n",
       "    <tr style=\"text-align: right;\">\n",
       "      <th>states</th>\n",
       "      <th>2020-07-01</th>\n",
       "      <th>2020-07-02</th>\n",
       "      <th>2020-07-03</th>\n",
       "      <th>2020-07-04</th>\n",
       "      <th>2020-07-05</th>\n",
       "      <th>2020-07-06</th>\n",
       "      <th>2020-07-07</th>\n",
       "      <th>2020-07-08</th>\n",
       "      <th>2020-07-09</th>\n",
       "      <th>2020-07-10</th>\n",
       "      <th>...</th>\n",
       "      <th>2020-09-21</th>\n",
       "      <th>2020-09-22</th>\n",
       "      <th>2020-09-23</th>\n",
       "      <th>2020-09-24</th>\n",
       "      <th>2020-09-25</th>\n",
       "      <th>2020-09-26</th>\n",
       "      <th>2020-09-27</th>\n",
       "      <th>2020-09-28</th>\n",
       "      <th>2020-09-29</th>\n",
       "      <th>2020-09-30</th>\n",
       "    </tr>\n",
       "    <tr>\n",
       "      <th>state</th>\n",
       "      <th></th>\n",
       "      <th></th>\n",
       "      <th></th>\n",
       "      <th></th>\n",
       "      <th></th>\n",
       "      <th></th>\n",
       "      <th></th>\n",
       "      <th></th>\n",
       "      <th></th>\n",
       "      <th></th>\n",
       "      <th></th>\n",
       "      <th></th>\n",
       "      <th></th>\n",
       "      <th></th>\n",
       "      <th></th>\n",
       "      <th></th>\n",
       "      <th></th>\n",
       "      <th></th>\n",
       "      <th></th>\n",
       "      <th></th>\n",
       "      <th></th>\n",
       "    </tr>\n",
       "  </thead>\n",
       "  <tbody>\n",
       "    <tr>\n",
       "      <th>Odisha</th>\n",
       "      <td>0</td>\n",
       "      <td>229</td>\n",
       "      <td>561</td>\n",
       "      <td>495</td>\n",
       "      <td>469</td>\n",
       "      <td>456</td>\n",
       "      <td>571</td>\n",
       "      <td>527</td>\n",
       "      <td>577</td>\n",
       "      <td>755</td>\n",
       "      <td>...</td>\n",
       "      <td>4242</td>\n",
       "      <td>4189</td>\n",
       "      <td>4237</td>\n",
       "      <td>4340</td>\n",
       "      <td>4208</td>\n",
       "      <td>4356</td>\n",
       "      <td>3922</td>\n",
       "      <td>3235</td>\n",
       "      <td>3067</td>\n",
       "      <td>3443</td>\n",
       "    </tr>\n",
       "    <tr>\n",
       "      <th>Telangana</th>\n",
       "      <td>0</td>\n",
       "      <td>1213</td>\n",
       "      <td>1892</td>\n",
       "      <td>1850</td>\n",
       "      <td>1590</td>\n",
       "      <td>1831</td>\n",
       "      <td>1879</td>\n",
       "      <td>1924</td>\n",
       "      <td>1410</td>\n",
       "      <td>1278</td>\n",
       "      <td>...</td>\n",
       "      <td>1302</td>\n",
       "      <td>2166</td>\n",
       "      <td>2296</td>\n",
       "      <td>2176</td>\n",
       "      <td>2381</td>\n",
       "      <td>2239</td>\n",
       "      <td>1967</td>\n",
       "      <td>1378</td>\n",
       "      <td>2072</td>\n",
       "      <td>2103</td>\n",
       "    </tr>\n",
       "    <tr>\n",
       "      <th>Tripura</th>\n",
       "      <td>0</td>\n",
       "      <td>39</td>\n",
       "      <td>93</td>\n",
       "      <td>25</td>\n",
       "      <td>23</td>\n",
       "      <td>111</td>\n",
       "      <td>24</td>\n",
       "      <td>57</td>\n",
       "      <td>16</td>\n",
       "      <td>142</td>\n",
       "      <td>...</td>\n",
       "      <td>243</td>\n",
       "      <td>559</td>\n",
       "      <td>504</td>\n",
       "      <td>451</td>\n",
       "      <td>341</td>\n",
       "      <td>278</td>\n",
       "      <td>320</td>\n",
       "      <td>193</td>\n",
       "      <td>432</td>\n",
       "      <td>381</td>\n",
       "    </tr>\n",
       "    <tr>\n",
       "      <th>Mizoram</th>\n",
       "      <td>0</td>\n",
       "      <td>2</td>\n",
       "      <td>0</td>\n",
       "      <td>2</td>\n",
       "      <td>22</td>\n",
       "      <td>11</td>\n",
       "      <td>1</td>\n",
       "      <td>5</td>\n",
       "      <td>0</td>\n",
       "      <td>23</td>\n",
       "      <td>...</td>\n",
       "      <td>7</td>\n",
       "      <td>106</td>\n",
       "      <td>22</td>\n",
       "      <td>46</td>\n",
       "      <td>27</td>\n",
       "      <td>49</td>\n",
       "      <td>30</td>\n",
       "      <td>43</td>\n",
       "      <td>50</td>\n",
       "      <td>28</td>\n",
       "    </tr>\n",
       "    <tr>\n",
       "      <th>Andaman and Nicobar Islands</th>\n",
       "      <td>0</td>\n",
       "      <td>9</td>\n",
       "      <td>7</td>\n",
       "      <td>3</td>\n",
       "      <td>6</td>\n",
       "      <td>16</td>\n",
       "      <td>6</td>\n",
       "      <td>2</td>\n",
       "      <td>7</td>\n",
       "      <td>0</td>\n",
       "      <td>...</td>\n",
       "      <td>22</td>\n",
       "      <td>18</td>\n",
       "      <td>21</td>\n",
       "      <td>32</td>\n",
       "      <td>15</td>\n",
       "      <td>15</td>\n",
       "      <td>20</td>\n",
       "      <td>9</td>\n",
       "      <td>18</td>\n",
       "      <td>0</td>\n",
       "    </tr>\n",
       "  </tbody>\n",
       "</table>\n",
       "<p>5 rows × 92 columns</p>\n",
       "</div>"
      ],
      "text/plain": [
       "states                       2020-07-01  2020-07-02  2020-07-03  2020-07-04  \\\n",
       "state                                                                         \n",
       "Odisha                                0         229         561         495   \n",
       "Telangana                             0        1213        1892        1850   \n",
       "Tripura                               0          39          93          25   \n",
       "Mizoram                               0           2           0           2   \n",
       "Andaman and Nicobar Islands           0           9           7           3   \n",
       "\n",
       "states                       2020-07-05  2020-07-06  2020-07-07  2020-07-08  \\\n",
       "state                                                                         \n",
       "Odisha                              469         456         571         527   \n",
       "Telangana                          1590        1831        1879        1924   \n",
       "Tripura                              23         111          24          57   \n",
       "Mizoram                              22          11           1           5   \n",
       "Andaman and Nicobar Islands           6          16           6           2   \n",
       "\n",
       "states                       2020-07-09  2020-07-10  ...  2020-09-21  \\\n",
       "state                                                ...               \n",
       "Odisha                              577         755  ...        4242   \n",
       "Telangana                          1410        1278  ...        1302   \n",
       "Tripura                              16         142  ...         243   \n",
       "Mizoram                               0          23  ...           7   \n",
       "Andaman and Nicobar Islands           7           0  ...          22   \n",
       "\n",
       "states                       2020-09-22  2020-09-23  2020-09-24  2020-09-25  \\\n",
       "state                                                                         \n",
       "Odisha                             4189        4237        4340        4208   \n",
       "Telangana                          2166        2296        2176        2381   \n",
       "Tripura                             559         504         451         341   \n",
       "Mizoram                             106          22          46          27   \n",
       "Andaman and Nicobar Islands          18          21          32          15   \n",
       "\n",
       "states                       2020-09-26  2020-09-27  2020-09-28  2020-09-29  \\\n",
       "state                                                                         \n",
       "Odisha                             4356        3922        3235        3067   \n",
       "Telangana                          2239        1967        1378        2072   \n",
       "Tripura                             278         320         193         432   \n",
       "Mizoram                              49          30          43          50   \n",
       "Andaman and Nicobar Islands          15          20           9          18   \n",
       "\n",
       "states                       2020-09-30  \n",
       "state                                    \n",
       "Odisha                             3443  \n",
       "Telangana                          2103  \n",
       "Tripura                             381  \n",
       "Mizoram                              28  \n",
       "Andaman and Nicobar Islands           0  \n",
       "\n",
       "[5 rows x 92 columns]"
      ]
     },
     "execution_count": 18,
     "metadata": {},
     "output_type": "execute_result"
    }
   ],
   "source": [
    "#hide\n",
    "dft_ct_new_cases.head()"
   ]
  },
  {
   "cell_type": "code",
   "execution_count": 19,
   "metadata": {
    "execution": {
     "iopub.execute_input": "2020-09-30T10:23:13.204718Z",
     "iopub.status.busy": "2020-09-30T10:23:13.204042Z",
     "iopub.status.idle": "2020-09-30T10:23:17.560626Z",
     "shell.execute_reply": "2020-09-30T10:23:17.561163Z"
    },
    "papermill": {
     "duration": 4.377672,
     "end_time": "2020-09-30T10:23:17.561332",
     "exception": false,
     "start_time": "2020-09-30T10:23:13.183660",
     "status": "completed"
    },
    "tags": []
   },
   "outputs": [
    {
     "data": {
      "image/png": "[encoded data removed]",
      "text/plain": [
       "<Figure size 1296x2016 with 11 Axes>"
      ]
     },
     "metadata": {
      "needs_background": "light"
     },
     "output_type": "display_data"
    }
   ],
   "source": [
    "#hide_input\n",
    "df = dft_ct_new_cases.copy()\n",
    "df.loc['Total'] = df.sum()\n",
    "n = 5\n",
    "ax = []\n",
    "fig = plt.figure(figsize = (18,28))\n",
    "gs = fig.add_gridspec(n+2, 5)\n",
    "# gs = fig.add_gridspec(2, 3)\n",
    "ax1 = fig.add_subplot(gs[0, :])\n",
    "ef = df.loc['Total'].rename_axis('date').reset_index()\n",
    "ef['date'] = ef['date'].astype('datetime64[ns]')\n",
    "ax1.bar(ef.date,ef.Total,alpha=0.3,color='#007acc')\n",
    "ax1.plot(ef.date,ef.Total , marker=\"o\", color='#007acc')\n",
    "ax1.xaxis.set_major_locator(mdates.WeekdayLocator())\n",
    "ax1.xaxis.set_major_formatter(mdates.DateFormatter('%b %d'))\n",
    "ax1.text(0.02, 0.5,'India daily case count', transform = ax1.transAxes, fontsize=25);\n",
    "ax1.spines['right'].set_visible(False)\n",
    "ax1.spines['top'].set_visible(False)\n",
    "\n",
    "ax2 = fig.add_subplot(gs[1,0])\n",
    "ef = df.loc['Maharashtra'].rename_axis('date').reset_index()\n",
    "ef['date'] = ef['date'].astype('datetime64[ns]')\n",
    "\n",
    "ax2.bar(ef.date, ef.Maharashtra,color = '#007acc',alpha=0.5)\n",
    "ax2.xaxis.set_major_locator(mdates.WeekdayLocator())\n",
    "ax2.xaxis.set_major_formatter(mdates.DateFormatter('%b %d'))\n",
    "ax2.set_xticks(ax2.get_xticks()[::3])\n",
    "maxyval = ef.Maharashtra.max()\n",
    "ax2.set_ylim([0,maxyval])\n",
    "ax2.text(0.05, 0.9,'Maharashtra', transform = ax2.transAxes, fontsize=20);\n",
    "ax2.spines['right'].set_visible(False)\n",
    "ax2.spines['top'].set_visible(False)\n",
    "\n",
    "\n",
    "ax3 = fig.add_subplot(gs[1,1])\n",
    "ef = df.loc['Tamil Nadu'].rename_axis('date').reset_index()\n",
    "ef['date'] = ef['date'].astype('datetime64[ns]')\n",
    "ax3.bar(ef.date, ef['Tamil Nadu'],color = '#007acc',alpha=0.5,)\n",
    "ax3.xaxis.set_major_locator(mdates.WeekdayLocator())\n",
    "ax3.xaxis.set_major_formatter(mdates.DateFormatter('%b %d'))\n",
    "ax3.set_xticks(ax3.get_xticks()[::3])\n",
    "ax3.text(0.05, 0.9,'Tamil Nadu', transform = ax3.transAxes, fontsize=20);\n",
    "ax3.spines['right'].set_visible(False)\n",
    "ax3.spines['top'].set_visible(False)\n",
    "\n",
    "ax5 = fig.add_subplot(gs[1,3])\n",
    "ef = df.loc['Telangana'].rename_axis('date').reset_index()\n",
    "ef['date'] = ef['date'].astype('datetime64[ns]')\n",
    "ax5.bar(ef.date, ef['Telangana'],color = '#007acc',alpha=0.5,)\n",
    "ax5.xaxis.set_major_locator(mdates.WeekdayLocator())\n",
    "ax5.xaxis.set_major_formatter(mdates.DateFormatter('%b %d'))\n",
    "ax5.set_xticks(ax5.get_xticks()[::3])\n",
    "ax5.text(0.05, 0.9,'Telangana', transform = ax5.transAxes, fontsize=20);\n",
    "ax5.spines['right'].set_visible(False)\n",
    "ax5.spines['top'].set_visible(False)\n",
    "\n",
    "ax6 = fig.add_subplot(gs[1,4])\n",
    "ef = df.loc['Andhra Pradesh'].rename_axis('date').reset_index()\n",
    "ef['date'] = ef['date'].astype('datetime64[ns]')\n",
    "ax6.bar(ef.date, ef['Andhra Pradesh'],color = '#007acc',alpha=0.5,)\n",
    "ax6.xaxis.set_major_locator(mdates.WeekdayLocator())\n",
    "ax6.xaxis.set_major_formatter(mdates.DateFormatter('%b %d'))\n",
    "ax6.set_xticks(ax6.get_xticks()[::3])\n",
    "ax6.text(0.05, 1,'Andhra Pradesh', transform = ax6.transAxes, fontsize=20);\n",
    "ax6.spines['right'].set_visible(False)\n",
    "ax6.spines['top'].set_visible(False)\n",
    "\n",
    "ax4 = fig.add_subplot(gs[1,2])\n",
    "ef = df.loc['Delhi'].rename_axis('date').reset_index()\n",
    "ef['date'] = ef['date'].astype('datetime64[ns]')\n",
    "ax4.bar(ef.date, ef.Delhi,color = '#007acc',alpha=0.5)\n",
    "ax4.set_xticks([])\n",
    "ax4.xaxis.set_major_locator(mdates.WeekdayLocator())\n",
    "ax4.xaxis.set_major_formatter(mdates.DateFormatter('%b %d'))\n",
    "ax4.set_xticks(ax4.get_xticks()[::3])\n",
    "ax4.spines['right'].set_visible(False)\n",
    "ax4.spines['top'].set_visible(False)\n",
    "\n",
    "ax4.text(0.05, 1,'Delhi', transform = ax4.transAxes, fontsize=20)\n",
    "\n",
    "for i in range(n):\n",
    "    \n",
    "    ax.append(fig.add_subplot(gs[i+2,:]))\n",
    "    ef = df.iloc[i+3].rename_axis('date').reset_index()\n",
    "    ef['date'] = ef['date'].astype('datetime64[ns]')\n",
    "    ax[i].bar(ef.date,ef.iloc[:,-1],color = '#007acc',alpha=0.3)\n",
    "    ax[i].plot(ef.date,ef.iloc[:,-1],marker='o',color='#007acc')\n",
    "    ax[i].text(0.02,0.5,f'{ef.columns.values[-1]}',transform = ax[i].transAxes, fontsize = 20);\n",
    "    ax[i].xaxis.set_major_locator(mdates.WeekdayLocator())\n",
    "    ax[i].xaxis.set_major_formatter(mdates.DateFormatter('%b %d'))\n",
    "    ax[i].set_ylim([0,7000])\n",
    "    ax[i].spines['right'].set_visible(False)\n",
    "    ax[i].spines['top'].set_visible(False)\n",
    "plt.tight_layout()\n"
   ]
  },
  {
   "cell_type": "code",
   "execution_count": 20,
   "metadata": {
    "execution": {
     "iopub.execute_input": "2020-09-30T10:23:17.616762Z",
     "iopub.status.busy": "2020-09-30T10:23:17.616096Z",
     "iopub.status.idle": "2020-09-30T10:23:17.618913Z",
     "shell.execute_reply": "2020-09-30T10:23:17.619436Z"
    },
    "papermill": {
     "duration": 0.034649,
     "end_time": "2020-09-30T10:23:17.619603",
     "exception": false,
     "start_time": "2020-09-30T10:23:17.584954",
     "status": "completed"
    },
    "tags": []
   },
   "outputs": [
    {
     "name": "stdout",
     "output_type": "stream",
     "text": [
      "                                   states    Cases  Deaths   PCases  PDeaths  Cases (+)  Deaths (+)  Fatality Rate\n",
      "                              Maharashtra  1366129   36181  1366129    36181          0           0           2.65\n",
      "                           Andhra Pradesh   687351    5780   687351     5780          0           0           0.84\n",
      "                                Karnataka   592911    8777   592911     8777          0           0           1.48\n",
      "                               Tamil Nadu   591943    9453   591943     9453          0           0           1.60\n",
      "                            Uttar Pradesh   394856    5715   394856     5715          0           0           1.45\n",
      "                                    Delhi   276325    5320   276325     5320          0           0           1.93\n",
      "                              West Bengal   253768    4899   253768     4899          0           0           1.93\n",
      "                                   Odisha   219119     895   215676      881       3443          14           0.41\n",
      "                                Telangana   191386    1127   189283     1116       2103          11           0.59\n",
      "                                   Kerala   187277     720   187277      720          0           0           0.38\n",
      "                                    Bihar   181471     894   181471      894          0           0           0.49\n",
      "                                    Assam   177221     680   177221      680          0           0           0.38\n",
      "                                  Gujarat   136004    3442   136004     3442          0           0           2.53\n",
      "                                Rajasthan   133119    1471   133119     1471          0           0           1.11\n",
      "                                  Haryana   126974    1356   126974     1356          0           0           1.07\n",
      "                           Madhya Pradesh   126043    2281   126043     2281          0           0           1.81\n",
      "                                   Punjab   112460    3359   112460     3359          0           0           2.99\n",
      "                             Chhattisgarh   110655     916   110655      916          0           0           0.83\n",
      "                                Jharkhand    82540     700    82540      700          0           0           0.85\n",
      "                        Jammu and Kashmir    74095    1164    74095     1164          0           0           1.57\n",
      "                              Uttarakhand    47995     591    47995      591          0           0           1.23\n",
      "                                      Goa    32777     419    32777      419          0           0           1.28\n",
      "                               Puducherry    27066     517    27066      517          0           0           1.91\n",
      "                                  Tripura    25731     274    25350      273        381           1           1.06\n",
      "                         Himachal Pradesh    14747     178    14747      178          0           0           1.21\n",
      "                               Chandigarh    11816     158    11816      158          0           0           1.34\n",
      "                                  Manipur    10746      65    10746       65          0           0           0.60\n",
      "                        Arunachal Pradesh     9553      16     9553       16          0           0           0.17\n",
      "                                 Nagaland     6040      12     6040       12          0           0           0.20\n",
      "                                Meghalaya     5463      47     5463       47          0           0           0.86\n",
      "                                   Ladakh     4195      58     4195       58          0           0           1.38\n",
      "              Andaman and Nicobar Islands     3821      53     3821       53          0           0           1.39\n",
      " Dadra and Nagar Haveli and Daman and Diu     3035       2     3035        2          0           0           0.07\n",
      "                                   Sikkim     2856      35     2856       35          0           0           1.23\n",
      "                                  Mizoram     1986       0     1958        0         28           0           0.00\n",
      "                              Lakshadweep        0       0        0        0          0           0            NaN\n"
     ]
    }
   ],
   "source": [
    "#hide_input\n",
    "print(df_table.to_string(index=False))"
   ]
  },
  {
   "cell_type": "code",
   "execution_count": null,
   "metadata": {
    "papermill": {
     "duration": 0.022805,
     "end_time": "2020-09-30T10:23:17.665259",
     "exception": false,
     "start_time": "2020-09-30T10:23:17.642454",
     "status": "completed"
    },
    "tags": []
   },
   "outputs": [],
   "source": []
  },
  {
   "cell_type": "code",
   "execution_count": null,
   "metadata": {
    "papermill": {
     "duration": 0.041394,
     "end_time": "2020-09-30T10:23:17.736404",
     "exception": false,
     "start_time": "2020-09-30T10:23:17.695010",
     "status": "completed"
    },
    "tags": []
   },
   "outputs": [],
   "source": []
  }
 ],
 "metadata": {
  "kernelspec": {
   "display_name": "Python 3",
   "language": "python",
   "name": "python3"
  },
  "language_info": {
   "codemirror_mode": {
    "name": "ipython",
    "version": 3
   },
   "file_extension": ".py",
   "mimetype": "text/x-python",
   "name": "python",
   "nbconvert_exporter": "python",
   "pygments_lexer": "ipython3",
   "version": "3.6.12"
  },
  "papermill": {
   "duration": 11.001087,
   "end_time": "2020-09-30T10:23:18.170576",
   "environment_variables": {},
   "exception": null,
   "input_path": "latest.ipynb",
   "output_path": "latest.ipynb",
   "parameters": {},
   "start_time": "2020-09-30T10:23:07.169489",
   "version": "2.1.2"
  }
 },
 "nbformat": 4,
 "nbformat_minor": 4
}