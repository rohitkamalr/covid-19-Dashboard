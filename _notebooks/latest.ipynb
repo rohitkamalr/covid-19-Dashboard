{
 "cells": [
  {
   "cell_type": "markdown",
   "metadata": {
    "papermill": {
     "duration": 0.021675,
     "end_time": "2020-10-23T03:26:25.959922",
     "exception": false,
     "start_time": "2020-10-23T03:26:25.938247",
     "status": "completed"
    },
    "tags": []
   },
   "source": [
    "# Latest COVID-19 India Matplotlib Overview"
   ]
  },
  {
   "cell_type": "code",
   "execution_count": 1,
   "metadata": {
    "execution": {
     "iopub.execute_input": "2020-10-23T03:26:25.997193Z",
     "iopub.status.busy": "2020-10-23T03:26:25.996576Z",
     "iopub.status.idle": "2020-10-23T03:26:26.647443Z",
     "shell.execute_reply": "2020-10-23T03:26:26.646558Z"
    },
    "papermill": {
     "duration": 0.672059,
     "end_time": "2020-10-23T03:26:26.647698",
     "exception": false,
     "start_time": "2020-10-23T03:26:25.975639",
     "status": "completed"
    },
    "tags": []
   },
   "outputs": [],
   "source": [
    "#hide\n",
    "import pandas as pd\n",
    "import numpy as np\n",
    "import requests\n",
    "import json\n",
    "import matplotlib.pyplot as plt\n",
    "import matplotlib.dates as mdates\n",
    "import matplotlib as mpl\n",
    "from IPython.core.display import display,HTML\n",
    "%matplotlib inline\n",
    "from datetime import date"
   ]
  },
  {
   "cell_type": "code",
   "execution_count": 2,
   "metadata": {
    "execution": {
     "iopub.execute_input": "2020-10-23T03:26:26.689869Z",
     "iopub.status.busy": "2020-10-23T03:26:26.689262Z",
     "iopub.status.idle": "2020-10-23T03:26:27.147019Z",
     "shell.execute_reply": "2020-10-23T03:26:27.147490Z"
    },
    "papermill": {
     "duration": 0.483933,
     "end_time": "2020-10-23T03:26:27.147655",
     "exception": false,
     "start_time": "2020-10-23T03:26:26.663722",
     "status": "completed"
    },
    "tags": []
   },
   "outputs": [],
   "source": [
    "#hide\n",
    "df  = pd.read_csv('https://api.covid19india.org/csv/latest/states.csv')\n",
    "df = df[['Date','State','Confirmed','Deceased']]\n",
    "df = df.rename(columns={'Confirmed':'Cases', \"Deceased\":'Deaths'})\n",
    "df_cases = df[[\"Date\",'State','Cases']]\n",
    "df_deaths = df[['Date','State','Deaths']]\n",
    "df_cases1 = df_cases.groupby('Date')\n",
    "df_deaths1= df_deaths.groupby('Date')"
   ]
  },
  {
   "cell_type": "code",
   "execution_count": 3,
   "metadata": {
    "execution": {
     "iopub.execute_input": "2020-10-23T03:26:27.184829Z",
     "iopub.status.busy": "2020-10-23T03:26:27.184207Z",
     "iopub.status.idle": "2020-10-23T03:26:27.203325Z",
     "shell.execute_reply": "2020-10-23T03:26:27.202755Z"
    },
    "papermill": {
     "duration": 0.040536,
     "end_time": "2020-10-23T03:26:27.203466",
     "exception": false,
     "start_time": "2020-10-23T03:26:27.162930",
     "status": "completed"
    },
    "tags": []
   },
   "outputs": [],
   "source": [
    "#hide\n",
    "df_snap = pd.read_csv('data/SnapshotCases-28-July.csv')\n",
    "arr_states = df_snap['states'].unique()\n",
    "arr_dates = df['Date'].unique()\n",
    "df_snap = df_snap.set_index('states')"
   ]
  },
  {
   "cell_type": "code",
   "execution_count": 4,
   "metadata": {
    "execution": {
     "iopub.execute_input": "2020-10-23T03:26:27.240454Z",
     "iopub.status.busy": "2020-10-23T03:26:27.239841Z",
     "iopub.status.idle": "2020-10-23T03:26:27.243710Z",
     "shell.execute_reply": "2020-10-23T03:26:27.244261Z"
    },
    "papermill": {
     "duration": 0.025819,
     "end_time": "2020-10-23T03:26:27.244407",
     "exception": false,
     "start_time": "2020-10-23T03:26:27.218588",
     "status": "completed"
    },
    "tags": []
   },
   "outputs": [
    {
     "data": {
      "text/plain": [
       "array(['Andaman and Nicobar Islands', 'Andhra Pradesh',\n",
       "       'Arunachal Pradesh', 'Assam', 'Bihar', 'Chandigarh',\n",
       "       'Dadra and Nagar Haveli and Daman and Diu', 'Delhi', 'Goa',\n",
       "       'Gujarat', 'Haryana', 'Himachal Pradesh', 'Jammu and Kashmir',\n",
       "       'Jharkhand', 'Karnataka', 'Kerala', 'Lakshadweep',\n",
       "       'Madhya Pradesh', 'Maharashtra', 'Manipur', 'Meghalaya', 'Mizoram',\n",
       "       'Nagaland', 'Odisha', 'Puducherry', 'Punjab', 'Rajasthan',\n",
       "       'Sikkim', 'Tamil Nadu', 'Telangana', 'Tripura', 'Uttar Pradesh',\n",
       "       'West Bengal', 'Chhattisgarh', 'Ladakh', 'Uttarakhand'],\n",
       "      dtype=object)"
      ]
     },
     "execution_count": 4,
     "metadata": {},
     "output_type": "execute_result"
    }
   ],
   "source": [
    "#hide\n",
    "arr_states[-9] = 'Puducherry'\n",
    "arr_states[-10] = 'Odisha'\n",
    "arr_states[6] = 'Dadra and Nagar Haveli and Daman and Diu'\n",
    "arr_states = np.append(arr_states,np.array(['Chhattisgarh','Ladakh','Uttarakhand']))\n",
    "arr_states"
   ]
  },
  {
   "cell_type": "code",
   "execution_count": 5,
   "metadata": {
    "execution": {
     "iopub.execute_input": "2020-10-23T03:26:27.286913Z",
     "iopub.status.busy": "2020-10-23T03:26:27.285968Z",
     "iopub.status.idle": "2020-10-23T03:26:27.293804Z",
     "shell.execute_reply": "2020-10-23T03:26:27.293312Z"
    },
    "papermill": {
     "duration": 0.034344,
     "end_time": "2020-10-23T03:26:27.293937",
     "exception": false,
     "start_time": "2020-10-23T03:26:27.259593",
     "status": "completed"
    },
    "tags": []
   },
   "outputs": [],
   "source": [
    "#hide\n",
    "dates = []\n",
    "for i in arr_dates:\n",
    "    if i>='2020-07-01':\n",
    "        dates.append(i)\n",
    "dict = {'states':dates}\n",
    "for i in arr_states:\n",
    "    dict[i] = [0]*len(dates)\n",
    "dft_cases = pd.DataFrame(dict)\n",
    "dft_deaths = pd.DataFrame(dict)\n"
   ]
  },
  {
   "cell_type": "code",
   "execution_count": 6,
   "metadata": {
    "execution": {
     "iopub.execute_input": "2020-10-23T03:26:27.335168Z",
     "iopub.status.busy": "2020-10-23T03:26:27.334537Z",
     "iopub.status.idle": "2020-10-23T03:26:28.847920Z",
     "shell.execute_reply": "2020-10-23T03:26:28.847223Z"
    },
    "papermill": {
     "duration": 1.538079,
     "end_time": "2020-10-23T03:26:28.848226",
     "exception": false,
     "start_time": "2020-10-23T03:26:27.310147",
     "status": "completed"
    },
    "tags": []
   },
   "outputs": [],
   "source": [
    "#hide\n",
    "for i in range(len(dates)):\n",
    "    df1_deaths = df_deaths1.get_group(dates[i])\n",
    "    for j in range(len(df1_deaths.index)):\n",
    "        if df1_deaths.iloc[j,1] in arr_states:\n",
    "            dft_deaths.loc[i,df1_deaths.iloc[j,1]] = df1_deaths.iloc[j,2]\n",
    "dft_deaths = dft_deaths.set_index('states')"
   ]
  },
  {
   "cell_type": "code",
   "execution_count": 7,
   "metadata": {
    "execution": {
     "iopub.execute_input": "2020-10-23T03:26:28.893777Z",
     "iopub.status.busy": "2020-10-23T03:26:28.893159Z",
     "iopub.status.idle": "2020-10-23T03:26:30.425191Z",
     "shell.execute_reply": "2020-10-23T03:26:30.424065Z"
    },
    "papermill": {
     "duration": 1.556461,
     "end_time": "2020-10-23T03:26:30.425347",
     "exception": false,
     "start_time": "2020-10-23T03:26:28.868886",
     "status": "completed"
    },
    "tags": []
   },
   "outputs": [],
   "source": [
    "#hide\n",
    "for i in range(len(dates)):\n",
    "    df1_cases = df_cases1.get_group(dates[i])\n",
    "    for j in range(len(df1_cases.index)):\n",
    "        if df1_cases.iloc[j,1] in arr_states:\n",
    "            dft_cases.loc[i,df1_cases.iloc[j,1]] = df1_cases.iloc[j,2]\n",
    "dft_cases = dft_cases.set_index('states')"
   ]
  },
  {
   "cell_type": "code",
   "execution_count": 8,
   "metadata": {
    "execution": {
     "iopub.execute_input": "2020-10-23T03:26:30.463511Z",
     "iopub.status.busy": "2020-10-23T03:26:30.462415Z",
     "iopub.status.idle": "2020-10-23T03:26:30.464575Z",
     "shell.execute_reply": "2020-10-23T03:26:30.464083Z"
    },
    "papermill": {
     "duration": 0.023878,
     "end_time": "2020-10-23T03:26:30.464710",
     "exception": false,
     "start_time": "2020-10-23T03:26:30.440832",
     "status": "completed"
    },
    "tags": []
   },
   "outputs": [],
   "source": [
    "#hide\n",
    "dft_cases = dft_cases.T\n",
    "dft_deaths = dft_deaths.T\n",
    "dt_today = dates[-1]\n",
    "dt_yday = dates[-2]"
   ]
  },
  {
   "cell_type": "code",
   "execution_count": 9,
   "metadata": {
    "execution": {
     "iopub.execute_input": "2020-10-23T03:26:30.505387Z",
     "iopub.status.busy": "2020-10-23T03:26:30.504776Z",
     "iopub.status.idle": "2020-10-23T03:26:30.508946Z",
     "shell.execute_reply": "2020-10-23T03:26:30.508452Z"
    },
    "papermill": {
     "duration": 0.028477,
     "end_time": "2020-10-23T03:26:30.509079",
     "exception": false,
     "start_time": "2020-10-23T03:26:30.480602",
     "status": "completed"
    },
    "tags": []
   },
   "outputs": [],
   "source": [
    "#hide\n",
    "dft_cases = dft_cases.reset_index()\n",
    "dft_deaths = dft_deaths.reset_index()\n",
    "dft_cases = dft_cases.rename(columns = {'index':'state'})\n",
    "dft_deaths = dft_deaths.rename(columns = {'index':'state'})"
   ]
  },
  {
   "cell_type": "code",
   "execution_count": 10,
   "metadata": {
    "execution": {
     "iopub.execute_input": "2020-10-23T03:26:30.552469Z",
     "iopub.status.busy": "2020-10-23T03:26:30.551857Z",
     "iopub.status.idle": "2020-10-23T03:26:30.554424Z",
     "shell.execute_reply": "2020-10-23T03:26:30.553945Z"
    },
    "papermill": {
     "duration": 0.029851,
     "end_time": "2020-10-23T03:26:30.554555",
     "exception": false,
     "start_time": "2020-10-23T03:26:30.524704",
     "status": "completed"
    },
    "tags": []
   },
   "outputs": [],
   "source": [
    "#hide\n",
    "dfc_cases = dft_cases.groupby('state')[dt_today].sum()\n",
    "dfc_deaths = dft_deaths.groupby('state')[dt_today].sum()\n",
    "dfp_cases = dft_cases.groupby('state')[dt_yday].sum()\n",
    "dfp_deaths = dft_deaths.groupby('state')[dt_yday].sum()"
   ]
  },
  {
   "cell_type": "code",
   "execution_count": 11,
   "metadata": {
    "execution": {
     "iopub.execute_input": "2020-10-23T03:26:30.601760Z",
     "iopub.status.busy": "2020-10-23T03:26:30.601143Z",
     "iopub.status.idle": "2020-10-23T03:26:30.609806Z",
     "shell.execute_reply": "2020-10-23T03:26:30.610281Z"
    },
    "papermill": {
     "duration": 0.040294,
     "end_time": "2020-10-23T03:26:30.610436",
     "exception": false,
     "start_time": "2020-10-23T03:26:30.570142",
     "status": "completed"
    },
    "tags": []
   },
   "outputs": [
    {
     "data": {
      "text/html": [
       "<div>\n",
       "<style scoped>\n",
       "    .dataframe tbody tr th:only-of-type {\n",
       "        vertical-align: middle;\n",
       "    }\n",
       "\n",
       "    .dataframe tbody tr th {\n",
       "        vertical-align: top;\n",
       "    }\n",
       "\n",
       "    .dataframe thead th {\n",
       "        text-align: right;\n",
       "    }\n",
       "</style>\n",
       "<table border=\"1\" class=\"dataframe\">\n",
       "  <thead>\n",
       "    <tr style=\"text-align: right;\">\n",
       "      <th></th>\n",
       "      <th>states</th>\n",
       "      <th>Cases</th>\n",
       "      <th>Deaths</th>\n",
       "      <th>PCases</th>\n",
       "      <th>PDeaths</th>\n",
       "    </tr>\n",
       "  </thead>\n",
       "  <tbody>\n",
       "    <tr>\n",
       "      <th>0</th>\n",
       "      <td>Maharashtra</td>\n",
       "      <td>1625197</td>\n",
       "      <td>42831</td>\n",
       "      <td>1625197</td>\n",
       "      <td>42831</td>\n",
       "    </tr>\n",
       "    <tr>\n",
       "      <th>1</th>\n",
       "      <td>Andhra Pradesh</td>\n",
       "      <td>796919</td>\n",
       "      <td>6524</td>\n",
       "      <td>796919</td>\n",
       "      <td>6524</td>\n",
       "    </tr>\n",
       "    <tr>\n",
       "      <th>2</th>\n",
       "      <td>Karnataka</td>\n",
       "      <td>788551</td>\n",
       "      <td>10770</td>\n",
       "      <td>788551</td>\n",
       "      <td>10770</td>\n",
       "    </tr>\n",
       "    <tr>\n",
       "      <th>3</th>\n",
       "      <td>Tamil Nadu</td>\n",
       "      <td>700193</td>\n",
       "      <td>10825</td>\n",
       "      <td>700193</td>\n",
       "      <td>10825</td>\n",
       "    </tr>\n",
       "    <tr>\n",
       "      <th>4</th>\n",
       "      <td>Uttar Pradesh</td>\n",
       "      <td>463858</td>\n",
       "      <td>6790</td>\n",
       "      <td>463858</td>\n",
       "      <td>6790</td>\n",
       "    </tr>\n",
       "  </tbody>\n",
       "</table>\n",
       "</div>"
      ],
      "text/plain": [
       "           states    Cases  Deaths   PCases  PDeaths\n",
       "0     Maharashtra  1625197   42831  1625197    42831\n",
       "1  Andhra Pradesh   796919    6524   796919     6524\n",
       "2       Karnataka   788551   10770   788551    10770\n",
       "3      Tamil Nadu   700193   10825   700193    10825\n",
       "4   Uttar Pradesh   463858    6790   463858     6790"
      ]
     },
     "execution_count": 11,
     "metadata": {},
     "output_type": "execute_result"
    }
   ],
   "source": [
    "#hide\n",
    "df_table = pd.DataFrame({'states': dfc_cases.index, 'Cases': dfc_cases.values, 'Deaths': dfc_deaths.values, 'PCases': dfp_cases.values, 'PDeaths': dfp_deaths.values}).set_index('states')\n",
    "df_table = df_table.sort_values(by = ['Cases','Deaths'], ascending = [False, False])\n",
    "df_table = df_table.reset_index()\n",
    "df_table.head()"
   ]
  },
  {
   "cell_type": "code",
   "execution_count": 12,
   "metadata": {
    "execution": {
     "iopub.execute_input": "2020-10-23T03:26:30.654514Z",
     "iopub.status.busy": "2020-10-23T03:26:30.653883Z",
     "iopub.status.idle": "2020-10-23T03:26:30.657912Z",
     "shell.execute_reply": "2020-10-23T03:26:30.657434Z"
    },
    "papermill": {
     "duration": 0.031954,
     "end_time": "2020-10-23T03:26:30.658044",
     "exception": false,
     "start_time": "2020-10-23T03:26:30.626090",
     "status": "completed"
    },
    "tags": []
   },
   "outputs": [],
   "source": [
    "#hide\n",
    "for c in 'Cases, Deaths'.split(', '):\n",
    "    df_table[f'{c} (+)'] = (df_table[c] - df_table[f'P{c}']).clip(0)\n",
    "df_table['Fatality Rate'] = (100* df_table['Deaths']/ df_table['Cases']).round(2)"
   ]
  },
  {
   "cell_type": "code",
   "execution_count": 13,
   "metadata": {
    "execution": {
     "iopub.execute_input": "2020-10-23T03:26:30.698170Z",
     "iopub.status.busy": "2020-10-23T03:26:30.697581Z",
     "iopub.status.idle": "2020-10-23T03:26:30.700651Z",
     "shell.execute_reply": "2020-10-23T03:26:30.699979Z"
    },
    "papermill": {
     "duration": 0.027237,
     "end_time": "2020-10-23T03:26:30.700796",
     "exception": false,
     "start_time": "2020-10-23T03:26:30.673559",
     "status": "completed"
    },
    "tags": []
   },
   "outputs": [
    {
     "data": {
      "text/html": [
       "<div>\n",
       "<style scoped>\n",
       "    .dataframe tbody tr th:only-of-type {\n",
       "        vertical-align: middle;\n",
       "    }\n",
       "\n",
       "    .dataframe tbody tr th {\n",
       "        vertical-align: top;\n",
       "    }\n",
       "\n",
       "    .dataframe thead th {\n",
       "        text-align: right;\n",
       "    }\n",
       "</style>\n",
       "<table border=\"1\" class=\"dataframe\">\n",
       "  <thead>\n",
       "    <tr style=\"text-align: right;\">\n",
       "      <th></th>\n",
       "      <th>states</th>\n",
       "      <th>Cases</th>\n",
       "      <th>Deaths</th>\n",
       "      <th>PCases</th>\n",
       "      <th>PDeaths</th>\n",
       "      <th>Cases (+)</th>\n",
       "      <th>Deaths (+)</th>\n",
       "      <th>Fatality Rate</th>\n",
       "    </tr>\n",
       "  </thead>\n",
       "  <tbody>\n",
       "    <tr>\n",
       "      <th>0</th>\n",
       "      <td>Maharashtra</td>\n",
       "      <td>1625197</td>\n",
       "      <td>42831</td>\n",
       "      <td>1625197</td>\n",
       "      <td>42831</td>\n",
       "      <td>0</td>\n",
       "      <td>0</td>\n",
       "      <td>2.64</td>\n",
       "    </tr>\n",
       "    <tr>\n",
       "      <th>1</th>\n",
       "      <td>Andhra Pradesh</td>\n",
       "      <td>796919</td>\n",
       "      <td>6524</td>\n",
       "      <td>796919</td>\n",
       "      <td>6524</td>\n",
       "      <td>0</td>\n",
       "      <td>0</td>\n",
       "      <td>0.82</td>\n",
       "    </tr>\n",
       "    <tr>\n",
       "      <th>2</th>\n",
       "      <td>Karnataka</td>\n",
       "      <td>788551</td>\n",
       "      <td>10770</td>\n",
       "      <td>788551</td>\n",
       "      <td>10770</td>\n",
       "      <td>0</td>\n",
       "      <td>0</td>\n",
       "      <td>1.37</td>\n",
       "    </tr>\n",
       "    <tr>\n",
       "      <th>3</th>\n",
       "      <td>Tamil Nadu</td>\n",
       "      <td>700193</td>\n",
       "      <td>10825</td>\n",
       "      <td>700193</td>\n",
       "      <td>10825</td>\n",
       "      <td>0</td>\n",
       "      <td>0</td>\n",
       "      <td>1.55</td>\n",
       "    </tr>\n",
       "    <tr>\n",
       "      <th>4</th>\n",
       "      <td>Uttar Pradesh</td>\n",
       "      <td>463858</td>\n",
       "      <td>6790</td>\n",
       "      <td>463858</td>\n",
       "      <td>6790</td>\n",
       "      <td>0</td>\n",
       "      <td>0</td>\n",
       "      <td>1.46</td>\n",
       "    </tr>\n",
       "  </tbody>\n",
       "</table>\n",
       "</div>"
      ],
      "text/plain": [
       "           states    Cases  Deaths   PCases  PDeaths  Cases (+)  Deaths (+)  \\\n",
       "0     Maharashtra  1625197   42831  1625197    42831          0           0   \n",
       "1  Andhra Pradesh   796919    6524   796919     6524          0           0   \n",
       "2       Karnataka   788551   10770   788551    10770          0           0   \n",
       "3      Tamil Nadu   700193   10825   700193    10825          0           0   \n",
       "4   Uttar Pradesh   463858    6790   463858     6790          0           0   \n",
       "\n",
       "   Fatality Rate  \n",
       "0           2.64  \n",
       "1           0.82  \n",
       "2           1.37  \n",
       "3           1.55  \n",
       "4           1.46  "
      ]
     },
     "execution_count": 13,
     "metadata": {},
     "output_type": "execute_result"
    }
   ],
   "source": [
    "#hide\n",
    "df_table.head()"
   ]
  },
  {
   "cell_type": "code",
   "execution_count": 14,
   "metadata": {
    "execution": {
     "iopub.execute_input": "2020-10-23T03:26:30.740401Z",
     "iopub.status.busy": "2020-10-23T03:26:30.739809Z",
     "iopub.status.idle": "2020-10-23T03:26:30.755810Z",
     "shell.execute_reply": "2020-10-23T03:26:30.755302Z"
    },
    "papermill": {
     "duration": 0.038603,
     "end_time": "2020-10-23T03:26:30.755941",
     "exception": false,
     "start_time": "2020-10-23T03:26:30.717338",
     "status": "completed"
    },
    "tags": []
   },
   "outputs": [
    {
     "data": {
      "text/plain": [
       "{'updated': '2020-10-23',\n",
       " 'since': '2020-10-22',\n",
       " 'Cases': 7761061,\n",
       " 'PCases': 7759640,\n",
       " 'Deaths': 117336,\n",
       " 'PDeaths': 117336,\n",
       " 'Cases (+)': 1421,\n",
       " 'Deaths (+)': 0}"
      ]
     },
     "execution_count": 14,
     "metadata": {},
     "output_type": "execute_result"
    }
   ],
   "source": [
    "#hide\n",
    "summary = {'updated':dates[-1], 'since':dates[-2]}\n",
    "list_names = ['Cases', 'PCases', 'Deaths', 'PDeaths', 'Cases (+)', 'Deaths (+)']\n",
    "for name in list_names:\n",
    "    summary[name] = df_table.sum()[name]\n",
    "summary"
   ]
  },
  {
   "cell_type": "code",
   "execution_count": 15,
   "metadata": {
    "execution": {
     "iopub.execute_input": "2020-10-23T03:26:30.794701Z",
     "iopub.status.busy": "2020-10-23T03:26:30.794114Z",
     "iopub.status.idle": "2020-10-23T03:26:30.796509Z",
     "shell.execute_reply": "2020-10-23T03:26:30.797036Z"
    },
    "papermill": {
     "duration": 0.02482,
     "end_time": "2020-10-23T03:26:30.797168",
     "exception": false,
     "start_time": "2020-10-23T03:26:30.772348",
     "status": "completed"
    },
    "tags": []
   },
   "outputs": [],
   "source": [
    "#hide\n",
    "overview = '''\n",
    "<!-- #######  HTML!! #########-->\n",
    "<h1 style=\"color: #5e9ca0; text-align: center;\">India</h1>\n",
    "<p style=\"text-align: center;\">Last update: <strong>{update}</strong></p>\n",
    "<p style=\"text-align: center;\">Confirmed cases:</p>\n",
    "<p style=\"text-align: center;font-size:24px;\">{cases} (<span style=\"color: #ff0000;\">+{new}</span>)</p>\n",
    "<p style=\"text-align: center;\">Confirmed deaths:</p>\n",
    "<p style=\"text-align: center;font-size:24px;\">{deaths} (<span style=\"color: #ff0000;\">+{dnew}</span>)</p>\n",
    "'''"
   ]
  },
  {
   "cell_type": "code",
   "execution_count": 16,
   "metadata": {
    "execution": {
     "iopub.execute_input": "2020-10-23T03:26:30.839015Z",
     "iopub.status.busy": "2020-10-23T03:26:30.838427Z",
     "iopub.status.idle": "2020-10-23T03:26:30.841406Z",
     "shell.execute_reply": "2020-10-23T03:26:30.841853Z"
    },
    "papermill": {
     "duration": 0.028043,
     "end_time": "2020-10-23T03:26:30.842003",
     "exception": false,
     "start_time": "2020-10-23T03:26:30.813960",
     "status": "completed"
    },
    "tags": []
   },
   "outputs": [
    {
     "data": {
      "text/html": [
       "\n",
       "<!-- #######  HTML!! #########-->\n",
       "<h1 style=\"color: #5e9ca0; text-align: center;\">India</h1>\n",
       "<p style=\"text-align: center;\">Last update: <strong>2020-10-23</strong></p>\n",
       "<p style=\"text-align: center;\">Confirmed cases:</p>\n",
       "<p style=\"text-align: center;font-size:24px;\">7761061 (<span style=\"color: #ff0000;\">+1421</span>)</p>\n",
       "<p style=\"text-align: center;\">Confirmed deaths:</p>\n",
       "<p style=\"text-align: center;font-size:24px;\">117336 (<span style=\"color: #ff0000;\">+0</span>)</p>\n"
      ],
      "text/plain": [
       "<IPython.core.display.HTML object>"
      ]
     },
     "metadata": {},
     "output_type": "display_data"
    }
   ],
   "source": [
    "#hide_input\n",
    "update = summary['updated']\n",
    "cases = summary['Cases']\n",
    "new = summary['Cases (+)']\n",
    "deaths = summary['Deaths']\n",
    "dnew = summary['Deaths (+)']\n",
    "\n",
    "html = HTML(overview.format(update=update, cases=cases,new=new,deaths=deaths,dnew=dnew))\n",
    "\n",
    "display(html)"
   ]
  },
  {
   "cell_type": "code",
   "execution_count": 17,
   "metadata": {
    "execution": {
     "iopub.execute_input": "2020-10-23T03:26:30.887551Z",
     "iopub.status.busy": "2020-10-23T03:26:30.886954Z",
     "iopub.status.idle": "2020-10-23T03:26:30.901131Z",
     "shell.execute_reply": "2020-10-23T03:26:30.900632Z"
    },
    "papermill": {
     "duration": 0.041797,
     "end_time": "2020-10-23T03:26:30.901264",
     "exception": false,
     "start_time": "2020-10-23T03:26:30.859467",
     "status": "completed"
    },
    "tags": []
   },
   "outputs": [],
   "source": [
    "#hide\n",
    "dt_cols = list(dft_cases.columns[1:])\n",
    "dft_ct_new_cases = dft_cases.groupby('state')[dt_cols].sum().diff(axis=1).fillna(0).astype(int)\n",
    "dft_ct_new_cases.sort_values(by = dates[-1], ascending = False,inplace = True)"
   ]
  },
  {
   "cell_type": "code",
   "execution_count": 18,
   "metadata": {
    "execution": {
     "iopub.execute_input": "2020-10-23T03:26:30.954253Z",
     "iopub.status.busy": "2020-10-23T03:26:30.953651Z",
     "iopub.status.idle": "2020-10-23T03:26:30.956947Z",
     "shell.execute_reply": "2020-10-23T03:26:30.956424Z"
    },
    "papermill": {
     "duration": 0.037365,
     "end_time": "2020-10-23T03:26:30.957075",
     "exception": false,
     "start_time": "2020-10-23T03:26:30.919710",
     "status": "completed"
    },
    "tags": []
   },
   "outputs": [
    {
     "data": {
      "text/html": [
       "<div>\n",
       "<style scoped>\n",
       "    .dataframe tbody tr th:only-of-type {\n",
       "        vertical-align: middle;\n",
       "    }\n",
       "\n",
       "    .dataframe tbody tr th {\n",
       "        vertical-align: top;\n",
       "    }\n",
       "\n",
       "    .dataframe thead th {\n",
       "        text-align: right;\n",
       "    }\n",
       "</style>\n",
       "<table border=\"1\" class=\"dataframe\">\n",
       "  <thead>\n",
       "    <tr style=\"text-align: right;\">\n",
       "      <th>states</th>\n",
       "      <th>2020-07-01</th>\n",
       "      <th>2020-07-02</th>\n",
       "      <th>2020-07-03</th>\n",
       "      <th>2020-07-04</th>\n",
       "      <th>2020-07-05</th>\n",
       "      <th>2020-07-06</th>\n",
       "      <th>2020-07-07</th>\n",
       "      <th>2020-07-08</th>\n",
       "      <th>2020-07-09</th>\n",
       "      <th>2020-07-10</th>\n",
       "      <th>...</th>\n",
       "      <th>2020-10-14</th>\n",
       "      <th>2020-10-15</th>\n",
       "      <th>2020-10-16</th>\n",
       "      <th>2020-10-17</th>\n",
       "      <th>2020-10-18</th>\n",
       "      <th>2020-10-19</th>\n",
       "      <th>2020-10-20</th>\n",
       "      <th>2020-10-21</th>\n",
       "      <th>2020-10-22</th>\n",
       "      <th>2020-10-23</th>\n",
       "    </tr>\n",
       "    <tr>\n",
       "      <th>state</th>\n",
       "      <th></th>\n",
       "      <th></th>\n",
       "      <th></th>\n",
       "      <th></th>\n",
       "      <th></th>\n",
       "      <th></th>\n",
       "      <th></th>\n",
       "      <th></th>\n",
       "      <th></th>\n",
       "      <th></th>\n",
       "      <th></th>\n",
       "      <th></th>\n",
       "      <th></th>\n",
       "      <th></th>\n",
       "      <th></th>\n",
       "      <th></th>\n",
       "      <th></th>\n",
       "      <th></th>\n",
       "      <th></th>\n",
       "      <th></th>\n",
       "      <th></th>\n",
       "    </tr>\n",
       "  </thead>\n",
       "  <tbody>\n",
       "    <tr>\n",
       "      <th>Telangana</th>\n",
       "      <td>0</td>\n",
       "      <td>1213</td>\n",
       "      <td>1892</td>\n",
       "      <td>1850</td>\n",
       "      <td>1590</td>\n",
       "      <td>1831</td>\n",
       "      <td>1879</td>\n",
       "      <td>1924</td>\n",
       "      <td>1410</td>\n",
       "      <td>1278</td>\n",
       "      <td>...</td>\n",
       "      <td>1446</td>\n",
       "      <td>1432</td>\n",
       "      <td>1554</td>\n",
       "      <td>1451</td>\n",
       "      <td>1436</td>\n",
       "      <td>948</td>\n",
       "      <td>1486</td>\n",
       "      <td>1579</td>\n",
       "      <td>1456</td>\n",
       "      <td>1421</td>\n",
       "    </tr>\n",
       "    <tr>\n",
       "      <th>Andaman and Nicobar Islands</th>\n",
       "      <td>0</td>\n",
       "      <td>9</td>\n",
       "      <td>7</td>\n",
       "      <td>3</td>\n",
       "      <td>6</td>\n",
       "      <td>16</td>\n",
       "      <td>6</td>\n",
       "      <td>2</td>\n",
       "      <td>7</td>\n",
       "      <td>0</td>\n",
       "      <td>...</td>\n",
       "      <td>10</td>\n",
       "      <td>16</td>\n",
       "      <td>10</td>\n",
       "      <td>11</td>\n",
       "      <td>25</td>\n",
       "      <td>18</td>\n",
       "      <td>15</td>\n",
       "      <td>27</td>\n",
       "      <td>16</td>\n",
       "      <td>0</td>\n",
       "    </tr>\n",
       "    <tr>\n",
       "      <th>Puducherry</th>\n",
       "      <td>0</td>\n",
       "      <td>63</td>\n",
       "      <td>22</td>\n",
       "      <td>80</td>\n",
       "      <td>42</td>\n",
       "      <td>65</td>\n",
       "      <td>30</td>\n",
       "      <td>110</td>\n",
       "      <td>49</td>\n",
       "      <td>72</td>\n",
       "      <td>...</td>\n",
       "      <td>241</td>\n",
       "      <td>241</td>\n",
       "      <td>280</td>\n",
       "      <td>212</td>\n",
       "      <td>163</td>\n",
       "      <td>106</td>\n",
       "      <td>205</td>\n",
       "      <td>170</td>\n",
       "      <td>210</td>\n",
       "      <td>0</td>\n",
       "    </tr>\n",
       "    <tr>\n",
       "      <th>Maharashtra</th>\n",
       "      <td>0</td>\n",
       "      <td>6328</td>\n",
       "      <td>6364</td>\n",
       "      <td>7074</td>\n",
       "      <td>6555</td>\n",
       "      <td>5368</td>\n",
       "      <td>5134</td>\n",
       "      <td>6603</td>\n",
       "      <td>6875</td>\n",
       "      <td>7862</td>\n",
       "      <td>...</td>\n",
       "      <td>10552</td>\n",
       "      <td>10226</td>\n",
       "      <td>11447</td>\n",
       "      <td>10259</td>\n",
       "      <td>9060</td>\n",
       "      <td>5984</td>\n",
       "      <td>8151</td>\n",
       "      <td>8142</td>\n",
       "      <td>7539</td>\n",
       "      <td>0</td>\n",
       "    </tr>\n",
       "    <tr>\n",
       "      <th>Manipur</th>\n",
       "      <td>0</td>\n",
       "      <td>19</td>\n",
       "      <td>37</td>\n",
       "      <td>9</td>\n",
       "      <td>41</td>\n",
       "      <td>24</td>\n",
       "      <td>40</td>\n",
       "      <td>5</td>\n",
       "      <td>15</td>\n",
       "      <td>132</td>\n",
       "      <td>...</td>\n",
       "      <td>301</td>\n",
       "      <td>284</td>\n",
       "      <td>337</td>\n",
       "      <td>426</td>\n",
       "      <td>322</td>\n",
       "      <td>315</td>\n",
       "      <td>284</td>\n",
       "      <td>214</td>\n",
       "      <td>345</td>\n",
       "      <td>0</td>\n",
       "    </tr>\n",
       "  </tbody>\n",
       "</table>\n",
       "<p>5 rows × 115 columns</p>\n",
       "</div>"
      ],
      "text/plain": [
       "states                       2020-07-01  2020-07-02  2020-07-03  2020-07-04  \\\n",
       "state                                                                         \n",
       "Telangana                             0        1213        1892        1850   \n",
       "Andaman and Nicobar Islands           0           9           7           3   \n",
       "Puducherry                            0          63          22          80   \n",
       "Maharashtra                           0        6328        6364        7074   \n",
       "Manipur                               0          19          37           9   \n",
       "\n",
       "states                       2020-07-05  2020-07-06  2020-07-07  2020-07-08  \\\n",
       "state                                                                         \n",
       "Telangana                          1590        1831        1879        1924   \n",
       "Andaman and Nicobar Islands           6          16           6           2   \n",
       "Puducherry                           42          65          30         110   \n",
       "Maharashtra                        6555        5368        5134        6603   \n",
       "Manipur                              41          24          40           5   \n",
       "\n",
       "states                       2020-07-09  2020-07-10  ...  2020-10-14  \\\n",
       "state                                                ...               \n",
       "Telangana                          1410        1278  ...        1446   \n",
       "Andaman and Nicobar Islands           7           0  ...          10   \n",
       "Puducherry                           49          72  ...         241   \n",
       "Maharashtra                        6875        7862  ...       10552   \n",
       "Manipur                              15         132  ...         301   \n",
       "\n",
       "states                       2020-10-15  2020-10-16  2020-10-17  2020-10-18  \\\n",
       "state                                                                         \n",
       "Telangana                          1432        1554        1451        1436   \n",
       "Andaman and Nicobar Islands          16          10          11          25   \n",
       "Puducherry                          241         280         212         163   \n",
       "Maharashtra                       10226       11447       10259        9060   \n",
       "Manipur                             284         337         426         322   \n",
       "\n",
       "states                       2020-10-19  2020-10-20  2020-10-21  2020-10-22  \\\n",
       "state                                                                         \n",
       "Telangana                           948        1486        1579        1456   \n",
       "Andaman and Nicobar Islands          18          15          27          16   \n",
       "Puducherry                          106         205         170         210   \n",
       "Maharashtra                        5984        8151        8142        7539   \n",
       "Manipur                             315         284         214         345   \n",
       "\n",
       "states                       2020-10-23  \n",
       "state                                    \n",
       "Telangana                          1421  \n",
       "Andaman and Nicobar Islands           0  \n",
       "Puducherry                            0  \n",
       "Maharashtra                           0  \n",
       "Manipur                               0  \n",
       "\n",
       "[5 rows x 115 columns]"
      ]
     },
     "execution_count": 18,
     "metadata": {},
     "output_type": "execute_result"
    }
   ],
   "source": [
    "#hide\n",
    "dft_ct_new_cases.head()"
   ]
  },
  {
   "cell_type": "code",
   "execution_count": 19,
   "metadata": {
    "execution": {
     "iopub.execute_input": "2020-10-23T03:26:31.039249Z",
     "iopub.status.busy": "2020-10-23T03:26:31.038592Z",
     "iopub.status.idle": "2020-10-23T03:26:35.201400Z",
     "shell.execute_reply": "2020-10-23T03:26:35.201878Z"
    },
    "papermill": {
     "duration": 4.227243,
     "end_time": "2020-10-23T03:26:35.202034",
     "exception": false,
     "start_time": "2020-10-23T03:26:30.974791",
     "status": "completed"
    },
    "tags": []
   },
   "outputs": [
    {
     "data": {
      "image/png": "[encoded data removed]",
      "text/plain": [
       "<Figure size 1296x2016 with 11 Axes>"
      ]
     },
     "metadata": {
      "needs_background": "light"
     },
     "output_type": "display_data"
    }
   ],
   "source": [
    "#hide_input\n",
    "df = dft_ct_new_cases.copy()\n",
    "df.loc['Total'] = df.sum()\n",
    "n = 5\n",
    "ax = []\n",
    "fig = plt.figure(figsize = (18,28))\n",
    "gs = fig.add_gridspec(n+2, 5)\n",
    "# gs = fig.add_gridspec(2, 3)\n",
    "ax1 = fig.add_subplot(gs[0, :])\n",
    "ef = df.loc['Total'].rename_axis('date').reset_index()\n",
    "ef['date'] = ef['date'].astype('datetime64[ns]')\n",
    "ax1.bar(ef.date,ef.Total,alpha=0.3,color='#007acc')\n",
    "ax1.plot(ef.date,ef.Total , marker=\"o\", color='#007acc')\n",
    "ax1.xaxis.set_major_locator(mdates.WeekdayLocator())\n",
    "ax1.xaxis.set_major_formatter(mdates.DateFormatter('%b %d'))\n",
    "ax1.text(0.02, 0.5,'India daily case count', transform = ax1.transAxes, fontsize=25);\n",
    "ax1.spines['right'].set_visible(False)\n",
    "ax1.spines['top'].set_visible(False)\n",
    "\n",
    "ax2 = fig.add_subplot(gs[1,0])\n",
    "ef = df.loc['Maharashtra'].rename_axis('date').reset_index()\n",
    "ef['date'] = ef['date'].astype('datetime64[ns]')\n",
    "\n",
    "ax2.bar(ef.date, ef.Maharashtra,color = '#007acc',alpha=0.5)\n",
    "ax2.xaxis.set_major_locator(mdates.WeekdayLocator())\n",
    "ax2.xaxis.set_major_formatter(mdates.DateFormatter('%b %d'))\n",
    "ax2.set_xticks(ax2.get_xticks()[::3])\n",
    "maxyval = ef.Maharashtra.max()\n",
    "ax2.set_ylim([0,maxyval])\n",
    "ax2.text(0.05, 0.9,'Maharashtra', transform = ax2.transAxes, fontsize=20);\n",
    "ax2.spines['right'].set_visible(False)\n",
    "ax2.spines['top'].set_visible(False)\n",
    "\n",
    "\n",
    "ax3 = fig.add_subplot(gs[1,1])\n",
    "ef = df.loc['Tamil Nadu'].rename_axis('date').reset_index()\n",
    "ef['date'] = ef['date'].astype('datetime64[ns]')\n",
    "ax3.bar(ef.date, ef['Tamil Nadu'],color = '#007acc',alpha=0.5,)\n",
    "ax3.xaxis.set_major_locator(mdates.WeekdayLocator())\n",
    "ax3.xaxis.set_major_formatter(mdates.DateFormatter('%b %d'))\n",
    "ax3.set_xticks(ax3.get_xticks()[::3])\n",
    "ax3.text(0.05, 0.9,'Tamil Nadu', transform = ax3.transAxes, fontsize=20);\n",
    "ax3.spines['right'].set_visible(False)\n",
    "ax3.spines['top'].set_visible(False)\n",
    "\n",
    "ax5 = fig.add_subplot(gs[1,3])\n",
    "ef = df.loc['Telangana'].rename_axis('date').reset_index()\n",
    "ef['date'] = ef['date'].astype('datetime64[ns]')\n",
    "ax5.bar(ef.date, ef['Telangana'],color = '#007acc',alpha=0.5,)\n",
    "ax5.xaxis.set_major_locator(mdates.WeekdayLocator())\n",
    "ax5.xaxis.set_major_formatter(mdates.DateFormatter('%b %d'))\n",
    "ax5.set_xticks(ax5.get_xticks()[::3])\n",
    "ax5.text(0.05, 0.9,'Telangana', transform = ax5.transAxes, fontsize=20);\n",
    "ax5.spines['right'].set_visible(False)\n",
    "ax5.spines['top'].set_visible(False)\n",
    "\n",
    "ax6 = fig.add_subplot(gs[1,4])\n",
    "ef = df.loc['Andhra Pradesh'].rename_axis('date').reset_index()\n",
    "ef['date'] = ef['date'].astype('datetime64[ns]')\n",
    "ax6.bar(ef.date, ef['Andhra Pradesh'],color = '#007acc',alpha=0.5,)\n",
    "ax6.xaxis.set_major_locator(mdates.WeekdayLocator())\n",
    "ax6.xaxis.set_major_formatter(mdates.DateFormatter('%b %d'))\n",
    "ax6.set_xticks(ax6.get_xticks()[::3])\n",
    "ax6.text(0.05, 1,'Andhra Pradesh', transform = ax6.transAxes, fontsize=20);\n",
    "ax6.spines['right'].set_visible(False)\n",
    "ax6.spines['top'].set_visible(False)\n",
    "\n",
    "ax4 = fig.add_subplot(gs[1,2])\n",
    "ef = df.loc['Delhi'].rename_axis('date').reset_index()\n",
    "ef['date'] = ef['date'].astype('datetime64[ns]')\n",
    "ax4.bar(ef.date, ef.Delhi,color = '#007acc',alpha=0.5)\n",
    "ax4.set_xticks([])\n",
    "ax4.xaxis.set_major_locator(mdates.WeekdayLocator())\n",
    "ax4.xaxis.set_major_formatter(mdates.DateFormatter('%b %d'))\n",
    "ax4.set_xticks(ax4.get_xticks()[::3])\n",
    "ax4.spines['right'].set_visible(False)\n",
    "ax4.spines['top'].set_visible(False)\n",
    "\n",
    "ax4.text(0.05, 1,'Delhi', transform = ax4.transAxes, fontsize=20)\n",
    "\n",
    "for i in range(n):\n",
    "    \n",
    "    ax.append(fig.add_subplot(gs[i+2,:]))\n",
    "    ef = df.iloc[i+3].rename_axis('date').reset_index()\n",
    "    ef['date'] = ef['date'].astype('datetime64[ns]')\n",
    "    ax[i].bar(ef.date,ef.iloc[:,-1],color = '#007acc',alpha=0.3)\n",
    "    ax[i].plot(ef.date,ef.iloc[:,-1],marker='o',color='#007acc')\n",
    "    ax[i].text(0.02,0.5,f'{ef.columns.values[-1]}',transform = ax[i].transAxes, fontsize = 20);\n",
    "    ax[i].xaxis.set_major_locator(mdates.WeekdayLocator())\n",
    "    ax[i].xaxis.set_major_formatter(mdates.DateFormatter('%b %d'))\n",
    "    ax[i].set_ylim([0,7000])\n",
    "    ax[i].spines['right'].set_visible(False)\n",
    "    ax[i].spines['top'].set_visible(False)\n",
    "plt.tight_layout()\n"
   ]
  },
  {
   "cell_type": "code",
   "execution_count": 20,
   "metadata": {
    "execution": {
     "iopub.execute_input": "2020-10-23T03:26:35.257888Z",
     "iopub.status.busy": "2020-10-23T03:26:35.257265Z",
     "iopub.status.idle": "2020-10-23T03:26:35.260357Z",
     "shell.execute_reply": "2020-10-23T03:26:35.260864Z"
    },
    "papermill": {
     "duration": 0.035042,
     "end_time": "2020-10-23T03:26:35.261017",
     "exception": false,
     "start_time": "2020-10-23T03:26:35.225975",
     "status": "completed"
    },
    "tags": []
   },
   "outputs": [
    {
     "name": "stdout",
     "output_type": "stream",
     "text": [
      "                                   states    Cases  Deaths   PCases  PDeaths  Cases (+)  Deaths (+)  Fatality Rate\n",
      "                              Maharashtra  1625197   42831  1625197    42831          0           0           2.64\n",
      "                           Andhra Pradesh   796919    6524   796919     6524          0           0           0.82\n",
      "                                Karnataka   788551   10770   788551    10770          0           0           1.37\n",
      "                               Tamil Nadu   700193   10825   700193    10825          0           0           1.55\n",
      "                            Uttar Pradesh   463858    6790   463858     6790          0           0           1.46\n",
      "                                   Kerala   369324    1256   369324     1256          0           0           0.34\n",
      "                                    Delhi   344318    6163   344318     6163          0           0           1.79\n",
      "                              West Bengal   337283    6308   337283     6308          0           0           1.87\n",
      "                                   Odisha   276094    1249   276094     1249          0           0           0.45\n",
      "                                Telangana   229001    1292   227580     1292       1421           0           0.56\n",
      "                                    Bihar   209296    1026   209296     1026          0           0           0.49\n",
      "                                    Assam   203282     896   203282      896          0           0           0.44\n",
      "                                Rajasthan   180755    1800   180755     1800          0           0           1.00\n",
      "                             Chhattisgarh   170130    1680   170130     1680          0           0           0.99\n",
      "                           Madhya Pradesh   164341    2842   164341     2842          0           0           1.73\n",
      "                                  Gujarat   164121    3670   164121     3670          0           0           2.24\n",
      "                                  Haryana   154495    1688   154495     1688          0           0           1.09\n",
      "                                   Punjab   129693    4072   129693     4072          0           0           3.14\n",
      "                                Jharkhand    98610     859    98610      859          0           0           0.87\n",
      "                        Jammu and Kashmir    90166    1412    90166     1412          0           0           1.57\n",
      "                              Uttarakhand    59508     968    59508      968          0           0           1.63\n",
      "                                      Goa    41586     564    41586      564          0           0           1.36\n",
      "                               Puducherry    33832     582    33832      582          0           0           1.72\n",
      "                                  Tripura    29922     331    29922      331          0           0           1.11\n",
      "                         Himachal Pradesh    19844     279    19844      279          0           0           1.41\n",
      "                                  Manipur    16621     127    16621      127          0           0           0.76\n",
      "                        Arunachal Pradesh    14077      32    14077       32          0           0           0.23\n",
      "                               Chandigarh    13848     212    13848      212          0           0           1.53\n",
      "                                Meghalaya     8677      77     8677       77          0           0           0.89\n",
      "                                 Nagaland     8296      21     8296       21          0           0           0.25\n",
      "                                   Ladakh     5812      68     5812       68          0           0           1.17\n",
      "              Andaman and Nicobar Islands     4184      57     4184       57          0           0           1.36\n",
      "                                   Sikkim     3677      63     3677       63          0           0           1.71\n",
      " Dadra and Nagar Haveli and Daman and Diu     3209       2     3209        2          0           0           0.06\n",
      "                                  Mizoram     2341       0     2341        0          0           0           0.00\n",
      "                              Lakshadweep        0       0        0        0          0           0            NaN\n"
     ]
    }
   ],
   "source": [
    "#hide_input\n",
    "print(df_table.to_string(index=False))"
   ]
  },
  {
   "cell_type": "code",
   "execution_count": null,
   "metadata": {
    "papermill": {
     "duration": 0.022825,
     "end_time": "2020-10-23T03:26:35.306851",
     "exception": false,
     "start_time": "2020-10-23T03:26:35.284026",
     "status": "completed"
    },
    "tags": []
   },
   "outputs": [],
   "source": []
  },
  {
   "cell_type": "code",
   "execution_count": null,
   "metadata": {
    "papermill": {
     "duration": 0.023096,
     "end_time": "2020-10-23T03:26:35.353219",
     "exception": false,
     "start_time": "2020-10-23T03:26:35.330123",
     "status": "completed"
    },
    "tags": []
   },
   "outputs": [],
   "source": []
  }
 ],
 "metadata": {
  "kernelspec": {
   "display_name": "Python 3",
   "language": "python",
   "name": "python3"
  },
  "language_info": {
   "codemirror_mode": {
    "name": "ipython",
    "version": 3
   },
   "file_extension": ".py",
   "mimetype": "text/x-python",
   "name": "python",
   "nbconvert_exporter": "python",
   "pygments_lexer": "ipython3",
   "version": "3.6.12"
  },
  "papermill": {
   "duration": 11.018993,
   "end_time": "2020-10-23T03:26:35.887455",
   "environment_variables": {},
   "exception": null,
   "input_path": "latest.ipynb",
   "output_path": "latest.ipynb",
   "parameters": {},
   "start_time": "2020-10-23T03:26:24.868462",
   "version": "2.1.2"
  }
 },
 "nbformat": 4,
 "nbformat_minor": 4
}