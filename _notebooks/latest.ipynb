{
 "cells": [
  {
   "cell_type": "markdown",
   "metadata": {
    "papermill": {
     "duration": 0.021653,
     "end_time": "2020-10-03T13:51:56.656773",
     "exception": false,
     "start_time": "2020-10-03T13:51:56.635120",
     "status": "completed"
    },
    "tags": []
   },
   "source": [
    "# Latest COVID-19 India Matplotlib Overview"
   ]
  },
  {
   "cell_type": "code",
   "execution_count": 1,
   "metadata": {
    "execution": {
     "iopub.execute_input": "2020-10-03T13:51:56.696407Z",
     "iopub.status.busy": "2020-10-03T13:51:56.695787Z",
     "iopub.status.idle": "2020-10-03T13:51:57.273511Z",
     "shell.execute_reply": "2020-10-03T13:51:57.272915Z"
    },
    "papermill": {
     "duration": 0.601195,
     "end_time": "2020-10-03T13:51:57.273681",
     "exception": false,
     "start_time": "2020-10-03T13:51:56.672486",
     "status": "completed"
    },
    "tags": []
   },
   "outputs": [],
   "source": [
    "#hide\n",
    "import pandas as pd\n",
    "import numpy as np\n",
    "import requests\n",
    "import json\n",
    "import matplotlib.pyplot as plt\n",
    "import matplotlib.dates as mdates\n",
    "import matplotlib as mpl\n",
    "from IPython.core.display import display,HTML\n",
    "%matplotlib inline\n",
    "from datetime import date"
   ]
  },
  {
   "cell_type": "code",
   "execution_count": 2,
   "metadata": {
    "execution": {
     "iopub.execute_input": "2020-10-03T13:51:57.314607Z",
     "iopub.status.busy": "2020-10-03T13:51:57.313392Z",
     "iopub.status.idle": "2020-10-03T13:51:57.447883Z",
     "shell.execute_reply": "2020-10-03T13:51:57.446959Z"
    },
    "papermill": {
     "duration": 0.158469,
     "end_time": "2020-10-03T13:51:57.448119",
     "exception": false,
     "start_time": "2020-10-03T13:51:57.289650",
     "status": "completed"
    },
    "tags": []
   },
   "outputs": [],
   "source": [
    "#hide\n",
    "df  = pd.read_csv('https://api.covid19india.org/csv/latest/states.csv')\n",
    "df = df[['Date','State','Confirmed','Deceased']]\n",
    "df = df.rename(columns={'Confirmed':'Cases', \"Deceased\":'Deaths'})\n",
    "df_cases = df[[\"Date\",'State','Cases']]\n",
    "df_deaths = df[['Date','State','Deaths']]\n",
    "df_cases1 = df_cases.groupby('Date')\n",
    "df_deaths1= df_deaths.groupby('Date')"
   ]
  },
  {
   "cell_type": "code",
   "execution_count": 3,
   "metadata": {
    "execution": {
     "iopub.execute_input": "2020-10-03T13:51:57.485880Z",
     "iopub.status.busy": "2020-10-03T13:51:57.485293Z",
     "iopub.status.idle": "2020-10-03T13:51:57.502651Z",
     "shell.execute_reply": "2020-10-03T13:51:57.503108Z"
    },
    "papermill": {
     "duration": 0.037532,
     "end_time": "2020-10-03T13:51:57.503262",
     "exception": false,
     "start_time": "2020-10-03T13:51:57.465730",
     "status": "completed"
    },
    "tags": []
   },
   "outputs": [],
   "source": [
    "#hide\n",
    "df_snap = pd.read_csv('data/SnapshotCases-28-July.csv')\n",
    "arr_states = df_snap['states'].unique()\n",
    "arr_dates = df['Date'].unique()\n",
    "df_snap = df_snap.set_index('states')"
   ]
  },
  {
   "cell_type": "code",
   "execution_count": 4,
   "metadata": {
    "execution": {
     "iopub.execute_input": "2020-10-03T13:51:57.540589Z",
     "iopub.status.busy": "2020-10-03T13:51:57.539838Z",
     "iopub.status.idle": "2020-10-03T13:51:57.542396Z",
     "shell.execute_reply": "2020-10-03T13:51:57.542937Z"
    },
    "papermill": {
     "duration": 0.025239,
     "end_time": "2020-10-03T13:51:57.543090",
     "exception": false,
     "start_time": "2020-10-03T13:51:57.517851",
     "status": "completed"
    },
    "tags": []
   },
   "outputs": [
    {
     "data": {
      "text/plain": [
       "array(['Andaman and Nicobar Islands', 'Andhra Pradesh',\n",
       "       'Arunachal Pradesh', 'Assam', 'Bihar', 'Chandigarh',\n",
       "       'Dadra and Nagar Haveli and Daman and Diu', 'Delhi', 'Goa',\n",
       "       'Gujarat', 'Haryana', 'Himachal Pradesh', 'Jammu and Kashmir',\n",
       "       'Jharkhand', 'Karnataka', 'Kerala', 'Lakshadweep',\n",
       "       'Madhya Pradesh', 'Maharashtra', 'Manipur', 'Meghalaya', 'Mizoram',\n",
       "       'Nagaland', 'Odisha', 'Puducherry', 'Punjab', 'Rajasthan',\n",
       "       'Sikkim', 'Tamil Nadu', 'Telangana', 'Tripura', 'Uttar Pradesh',\n",
       "       'West Bengal', 'Chhattisgarh', 'Ladakh', 'Uttarakhand'],\n",
       "      dtype=object)"
      ]
     },
     "execution_count": 4,
     "metadata": {},
     "output_type": "execute_result"
    }
   ],
   "source": [
    "#hide\n",
    "arr_states[-9] = 'Puducherry'\n",
    "arr_states[-10] = 'Odisha'\n",
    "arr_states[6] = 'Dadra and Nagar Haveli and Daman and Diu'\n",
    "arr_states = np.append(arr_states,np.array(['Chhattisgarh','Ladakh','Uttarakhand']))\n",
    "arr_states"
   ]
  },
  {
   "cell_type": "code",
   "execution_count": 5,
   "metadata": {
    "execution": {
     "iopub.execute_input": "2020-10-03T13:51:57.589554Z",
     "iopub.status.busy": "2020-10-03T13:51:57.588953Z",
     "iopub.status.idle": "2020-10-03T13:51:57.596677Z",
     "shell.execute_reply": "2020-10-03T13:51:57.596168Z"
    },
    "papermill": {
     "duration": 0.036214,
     "end_time": "2020-10-03T13:51:57.596806",
     "exception": false,
     "start_time": "2020-10-03T13:51:57.560592",
     "status": "completed"
    },
    "tags": []
   },
   "outputs": [],
   "source": [
    "#hide\n",
    "dates = []\n",
    "for i in arr_dates:\n",
    "    if i>='2020-07-01':\n",
    "        dates.append(i)\n",
    "dict = {'states':dates}\n",
    "for i in arr_states:\n",
    "    dict[i] = [0]*len(dates)\n",
    "dft_cases = pd.DataFrame(dict)\n",
    "dft_deaths = pd.DataFrame(dict)\n"
   ]
  },
  {
   "cell_type": "code",
   "execution_count": 6,
   "metadata": {
    "execution": {
     "iopub.execute_input": "2020-10-03T13:51:57.636721Z",
     "iopub.status.busy": "2020-10-03T13:51:57.636125Z",
     "iopub.status.idle": "2020-10-03T13:51:58.904871Z",
     "shell.execute_reply": "2020-10-03T13:51:58.904213Z"
    },
    "papermill": {
     "duration": 1.292747,
     "end_time": "2020-10-03T13:51:58.905045",
     "exception": false,
     "start_time": "2020-10-03T13:51:57.612298",
     "status": "completed"
    },
    "tags": []
   },
   "outputs": [],
   "source": [
    "#hide\n",
    "for i in range(len(dates)):\n",
    "    df1_deaths = df_deaths1.get_group(dates[i])\n",
    "    for j in range(len(df1_deaths.index)):\n",
    "        if df1_deaths.iloc[j,1] in arr_states:\n",
    "            dft_deaths.loc[i,df1_deaths.iloc[j,1]] = df1_deaths.iloc[j,2]\n",
    "dft_deaths = dft_deaths.set_index('states')"
   ]
  },
  {
   "cell_type": "code",
   "execution_count": 7,
   "metadata": {
    "execution": {
     "iopub.execute_input": "2020-10-03T13:51:58.945033Z",
     "iopub.status.busy": "2020-10-03T13:51:58.944433Z",
     "iopub.status.idle": "2020-10-03T13:52:00.223118Z",
     "shell.execute_reply": "2020-10-03T13:52:00.222110Z"
    },
    "papermill": {
     "duration": 1.301044,
     "end_time": "2020-10-03T13:52:00.223274",
     "exception": false,
     "start_time": "2020-10-03T13:51:58.922230",
     "status": "completed"
    },
    "tags": []
   },
   "outputs": [],
   "source": [
    "#hide\n",
    "for i in range(len(dates)):\n",
    "    df1_cases = df_cases1.get_group(dates[i])\n",
    "    for j in range(len(df1_cases.index)):\n",
    "        if df1_cases.iloc[j,1] in arr_states:\n",
    "            dft_cases.loc[i,df1_cases.iloc[j,1]] = df1_cases.iloc[j,2]\n",
    "dft_cases = dft_cases.set_index('states')"
   ]
  },
  {
   "cell_type": "code",
   "execution_count": 8,
   "metadata": {
    "execution": {
     "iopub.execute_input": "2020-10-03T13:52:00.433743Z",
     "iopub.status.busy": "2020-10-03T13:52:00.432311Z",
     "iopub.status.idle": "2020-10-03T13:52:00.434399Z",
     "shell.execute_reply": "2020-10-03T13:52:00.434862Z"
    },
    "papermill": {
     "duration": 0.130968,
     "end_time": "2020-10-03T13:52:00.435008",
     "exception": false,
     "start_time": "2020-10-03T13:52:00.304040",
     "status": "completed"
    },
    "tags": []
   },
   "outputs": [],
   "source": [
    "#hide\n",
    "dft_cases = dft_cases.T\n",
    "dft_deaths = dft_deaths.T\n",
    "dt_today = dates[-1]\n",
    "dt_yday = dates[-2]"
   ]
  },
  {
   "cell_type": "code",
   "execution_count": 9,
   "metadata": {
    "execution": {
     "iopub.execute_input": "2020-10-03T13:52:00.470977Z",
     "iopub.status.busy": "2020-10-03T13:52:00.470363Z",
     "iopub.status.idle": "2020-10-03T13:52:00.475122Z",
     "shell.execute_reply": "2020-10-03T13:52:00.474656Z"
    },
    "papermill": {
     "duration": 0.024798,
     "end_time": "2020-10-03T13:52:00.475248",
     "exception": false,
     "start_time": "2020-10-03T13:52:00.450450",
     "status": "completed"
    },
    "tags": []
   },
   "outputs": [],
   "source": [
    "#hide\n",
    "dft_cases = dft_cases.reset_index()\n",
    "dft_deaths = dft_deaths.reset_index()\n",
    "dft_cases = dft_cases.rename(columns = {'index':'state'})\n",
    "dft_deaths = dft_deaths.rename(columns = {'index':'state'})"
   ]
  },
  {
   "cell_type": "code",
   "execution_count": 10,
   "metadata": {
    "execution": {
     "iopub.execute_input": "2020-10-03T13:52:00.516195Z",
     "iopub.status.busy": "2020-10-03T13:52:00.515586Z",
     "iopub.status.idle": "2020-10-03T13:52:00.517895Z",
     "shell.execute_reply": "2020-10-03T13:52:00.518623Z"
    },
    "papermill": {
     "duration": 0.028531,
     "end_time": "2020-10-03T13:52:00.518768",
     "exception": false,
     "start_time": "2020-10-03T13:52:00.490237",
     "status": "completed"
    },
    "tags": []
   },
   "outputs": [],
   "source": [
    "#hide\n",
    "dfc_cases = dft_cases.groupby('state')[dt_today].sum()\n",
    "dfc_deaths = dft_deaths.groupby('state')[dt_today].sum()\n",
    "dfp_cases = dft_cases.groupby('state')[dt_yday].sum()\n",
    "dfp_deaths = dft_deaths.groupby('state')[dt_yday].sum()"
   ]
  },
  {
   "cell_type": "code",
   "execution_count": 11,
   "metadata": {
    "execution": {
     "iopub.execute_input": "2020-10-03T13:52:00.564051Z",
     "iopub.status.busy": "2020-10-03T13:52:00.563416Z",
     "iopub.status.idle": "2020-10-03T13:52:00.569940Z",
     "shell.execute_reply": "2020-10-03T13:52:00.569469Z"
    },
    "papermill": {
     "duration": 0.036202,
     "end_time": "2020-10-03T13:52:00.570071",
     "exception": false,
     "start_time": "2020-10-03T13:52:00.533869",
     "status": "completed"
    },
    "tags": []
   },
   "outputs": [
    {
     "data": {
      "text/html": [
       "<div>\n",
       "<style scoped>\n",
       "    .dataframe tbody tr th:only-of-type {\n",
       "        vertical-align: middle;\n",
       "    }\n",
       "\n",
       "    .dataframe tbody tr th {\n",
       "        vertical-align: top;\n",
       "    }\n",
       "\n",
       "    .dataframe thead th {\n",
       "        text-align: right;\n",
       "    }\n",
       "</style>\n",
       "<table border=\"1\" class=\"dataframe\">\n",
       "  <thead>\n",
       "    <tr style=\"text-align: right;\">\n",
       "      <th></th>\n",
       "      <th>states</th>\n",
       "      <th>Cases</th>\n",
       "      <th>Deaths</th>\n",
       "      <th>PCases</th>\n",
       "      <th>PDeaths</th>\n",
       "    </tr>\n",
       "  </thead>\n",
       "  <tbody>\n",
       "    <tr>\n",
       "      <th>0</th>\n",
       "      <td>Maharashtra</td>\n",
       "      <td>1416513</td>\n",
       "      <td>37480</td>\n",
       "      <td>1416513</td>\n",
       "      <td>37480</td>\n",
       "    </tr>\n",
       "    <tr>\n",
       "      <th>1</th>\n",
       "      <td>Andhra Pradesh</td>\n",
       "      <td>706790</td>\n",
       "      <td>5900</td>\n",
       "      <td>706790</td>\n",
       "      <td>5900</td>\n",
       "    </tr>\n",
       "    <tr>\n",
       "      <th>2</th>\n",
       "      <td>Karnataka</td>\n",
       "      <td>620630</td>\n",
       "      <td>9119</td>\n",
       "      <td>620630</td>\n",
       "      <td>9119</td>\n",
       "    </tr>\n",
       "    <tr>\n",
       "      <th>3</th>\n",
       "      <td>Tamil Nadu</td>\n",
       "      <td>614507</td>\n",
       "      <td>9721</td>\n",
       "      <td>608885</td>\n",
       "      <td>9653</td>\n",
       "    </tr>\n",
       "    <tr>\n",
       "      <th>4</th>\n",
       "      <td>Uttar Pradesh</td>\n",
       "      <td>410626</td>\n",
       "      <td>5977</td>\n",
       "      <td>406995</td>\n",
       "      <td>5917</td>\n",
       "    </tr>\n",
       "  </tbody>\n",
       "</table>\n",
       "</div>"
      ],
      "text/plain": [
       "           states    Cases  Deaths   PCases  PDeaths\n",
       "0     Maharashtra  1416513   37480  1416513    37480\n",
       "1  Andhra Pradesh   706790    5900   706790     5900\n",
       "2       Karnataka   620630    9119   620630     9119\n",
       "3      Tamil Nadu   614507    9721   608885     9653\n",
       "4   Uttar Pradesh   410626    5977   406995     5917"
      ]
     },
     "execution_count": 11,
     "metadata": {},
     "output_type": "execute_result"
    }
   ],
   "source": [
    "#hide\n",
    "df_table = pd.DataFrame({'states': dfc_cases.index, 'Cases': dfc_cases.values, 'Deaths': dfc_deaths.values, 'PCases': dfp_cases.values, 'PDeaths': dfp_deaths.values}).set_index('states')\n",
    "df_table = df_table.sort_values(by = ['Cases','Deaths'], ascending = [False, False])\n",
    "df_table = df_table.reset_index()\n",
    "df_table.head()"
   ]
  },
  {
   "cell_type": "code",
   "execution_count": 12,
   "metadata": {
    "execution": {
     "iopub.execute_input": "2020-10-03T13:52:00.610084Z",
     "iopub.status.busy": "2020-10-03T13:52:00.609489Z",
     "iopub.status.idle": "2020-10-03T13:52:00.618729Z",
     "shell.execute_reply": "2020-10-03T13:52:00.619174Z"
    },
    "papermill": {
     "duration": 0.032389,
     "end_time": "2020-10-03T13:52:00.619322",
     "exception": false,
     "start_time": "2020-10-03T13:52:00.586933",
     "status": "completed"
    },
    "tags": []
   },
   "outputs": [],
   "source": [
    "#hide\n",
    "for c in 'Cases, Deaths'.split(', '):\n",
    "    df_table[f'{c} (+)'] = (df_table[c] - df_table[f'P{c}']).clip(0)\n",
    "df_table['Fatality Rate'] = (100* df_table['Deaths']/ df_table['Cases']).round(2)"
   ]
  },
  {
   "cell_type": "code",
   "execution_count": 13,
   "metadata": {
    "execution": {
     "iopub.execute_input": "2020-10-03T13:52:00.662727Z",
     "iopub.status.busy": "2020-10-03T13:52:00.662125Z",
     "iopub.status.idle": "2020-10-03T13:52:00.665236Z",
     "shell.execute_reply": "2020-10-03T13:52:00.664733Z"
    },
    "papermill": {
     "duration": 0.030337,
     "end_time": "2020-10-03T13:52:00.665361",
     "exception": false,
     "start_time": "2020-10-03T13:52:00.635024",
     "status": "completed"
    },
    "tags": []
   },
   "outputs": [
    {
     "data": {
      "text/html": [
       "<div>\n",
       "<style scoped>\n",
       "    .dataframe tbody tr th:only-of-type {\n",
       "        vertical-align: middle;\n",
       "    }\n",
       "\n",
       "    .dataframe tbody tr th {\n",
       "        vertical-align: top;\n",
       "    }\n",
       "\n",
       "    .dataframe thead th {\n",
       "        text-align: right;\n",
       "    }\n",
       "</style>\n",
       "<table border=\"1\" class=\"dataframe\">\n",
       "  <thead>\n",
       "    <tr style=\"text-align: right;\">\n",
       "      <th></th>\n",
       "      <th>states</th>\n",
       "      <th>Cases</th>\n",
       "      <th>Deaths</th>\n",
       "      <th>PCases</th>\n",
       "      <th>PDeaths</th>\n",
       "      <th>Cases (+)</th>\n",
       "      <th>Deaths (+)</th>\n",
       "      <th>Fatality Rate</th>\n",
       "    </tr>\n",
       "  </thead>\n",
       "  <tbody>\n",
       "    <tr>\n",
       "      <th>0</th>\n",
       "      <td>Maharashtra</td>\n",
       "      <td>1416513</td>\n",
       "      <td>37480</td>\n",
       "      <td>1416513</td>\n",
       "      <td>37480</td>\n",
       "      <td>0</td>\n",
       "      <td>0</td>\n",
       "      <td>2.65</td>\n",
       "    </tr>\n",
       "    <tr>\n",
       "      <th>1</th>\n",
       "      <td>Andhra Pradesh</td>\n",
       "      <td>706790</td>\n",
       "      <td>5900</td>\n",
       "      <td>706790</td>\n",
       "      <td>5900</td>\n",
       "      <td>0</td>\n",
       "      <td>0</td>\n",
       "      <td>0.83</td>\n",
       "    </tr>\n",
       "    <tr>\n",
       "      <th>2</th>\n",
       "      <td>Karnataka</td>\n",
       "      <td>620630</td>\n",
       "      <td>9119</td>\n",
       "      <td>620630</td>\n",
       "      <td>9119</td>\n",
       "      <td>0</td>\n",
       "      <td>0</td>\n",
       "      <td>1.47</td>\n",
       "    </tr>\n",
       "    <tr>\n",
       "      <th>3</th>\n",
       "      <td>Tamil Nadu</td>\n",
       "      <td>614507</td>\n",
       "      <td>9721</td>\n",
       "      <td>608885</td>\n",
       "      <td>9653</td>\n",
       "      <td>5622</td>\n",
       "      <td>68</td>\n",
       "      <td>1.58</td>\n",
       "    </tr>\n",
       "    <tr>\n",
       "      <th>4</th>\n",
       "      <td>Uttar Pradesh</td>\n",
       "      <td>410626</td>\n",
       "      <td>5977</td>\n",
       "      <td>406995</td>\n",
       "      <td>5917</td>\n",
       "      <td>3631</td>\n",
       "      <td>60</td>\n",
       "      <td>1.46</td>\n",
       "    </tr>\n",
       "  </tbody>\n",
       "</table>\n",
       "</div>"
      ],
      "text/plain": [
       "           states    Cases  Deaths   PCases  PDeaths  Cases (+)  Deaths (+)  \\\n",
       "0     Maharashtra  1416513   37480  1416513    37480          0           0   \n",
       "1  Andhra Pradesh   706790    5900   706790     5900          0           0   \n",
       "2       Karnataka   620630    9119   620630     9119          0           0   \n",
       "3      Tamil Nadu   614507    9721   608885     9653       5622          68   \n",
       "4   Uttar Pradesh   410626    5977   406995     5917       3631          60   \n",
       "\n",
       "   Fatality Rate  \n",
       "0           2.65  \n",
       "1           0.83  \n",
       "2           1.47  \n",
       "3           1.58  \n",
       "4           1.46  "
      ]
     },
     "execution_count": 13,
     "metadata": {},
     "output_type": "execute_result"
    }
   ],
   "source": [
    "#hide\n",
    "df_table.head()"
   ]
  },
  {
   "cell_type": "code",
   "execution_count": 14,
   "metadata": {
    "execution": {
     "iopub.execute_input": "2020-10-03T13:52:00.717969Z",
     "iopub.status.busy": "2020-10-03T13:52:00.717352Z",
     "iopub.status.idle": "2020-10-03T13:52:00.720445Z",
     "shell.execute_reply": "2020-10-03T13:52:00.719860Z"
    },
    "papermill": {
     "duration": 0.039202,
     "end_time": "2020-10-03T13:52:00.720576",
     "exception": false,
     "start_time": "2020-10-03T13:52:00.681374",
     "status": "completed"
    },
    "tags": []
   },
   "outputs": [
    {
     "data": {
      "text/plain": [
       "{'updated': '2020-10-03',\n",
       " 'since': '2020-10-02',\n",
       " 'Cases': 6486206,\n",
       " 'PCases': 6471934,\n",
       " 'Deaths': 101031,\n",
       " 'PDeaths': 100875,\n",
       " 'Cases (+)': 14272,\n",
       " 'Deaths (+)': 156}"
      ]
     },
     "execution_count": 14,
     "metadata": {},
     "output_type": "execute_result"
    }
   ],
   "source": [
    "#hide\n",
    "summary = {'updated':dates[-1], 'since':dates[-2]}\n",
    "list_names = ['Cases', 'PCases', 'Deaths', 'PDeaths', 'Cases (+)', 'Deaths (+)']\n",
    "for name in list_names:\n",
    "    summary[name] = df_table.sum()[name]\n",
    "summary"
   ]
  },
  {
   "cell_type": "code",
   "execution_count": 15,
   "metadata": {
    "execution": {
     "iopub.execute_input": "2020-10-03T13:52:00.758426Z",
     "iopub.status.busy": "2020-10-03T13:52:00.757830Z",
     "iopub.status.idle": "2020-10-03T13:52:00.760362Z",
     "shell.execute_reply": "2020-10-03T13:52:00.759864Z"
    },
    "papermill": {
     "duration": 0.023349,
     "end_time": "2020-10-03T13:52:00.760489",
     "exception": false,
     "start_time": "2020-10-03T13:52:00.737140",
     "status": "completed"
    },
    "tags": []
   },
   "outputs": [],
   "source": [
    "#hide\n",
    "overview = '''\n",
    "<!-- #######  HTML!! #########-->\n",
    "<h1 style=\"color: #5e9ca0; text-align: center;\">India</h1>\n",
    "<p style=\"text-align: center;\">Last update: <strong>{update}</strong></p>\n",
    "<p style=\"text-align: center;\">Confirmed cases:</p>\n",
    "<p style=\"text-align: center;font-size:24px;\">{cases} (<span style=\"color: #ff0000;\">+{new}</span>)</p>\n",
    "<p style=\"text-align: center;\">Confirmed deaths:</p>\n",
    "<p style=\"text-align: center;font-size:24px;\">{deaths} (<span style=\"color: #ff0000;\">+{dnew}</span>)</p>\n",
    "'''"
   ]
  },
  {
   "cell_type": "code",
   "execution_count": 16,
   "metadata": {
    "execution": {
     "iopub.execute_input": "2020-10-03T13:52:00.799714Z",
     "iopub.status.busy": "2020-10-03T13:52:00.799098Z",
     "iopub.status.idle": "2020-10-03T13:52:00.802315Z",
     "shell.execute_reply": "2020-10-03T13:52:00.802819Z"
    },
    "papermill": {
     "duration": 0.026147,
     "end_time": "2020-10-03T13:52:00.802959",
     "exception": false,
     "start_time": "2020-10-03T13:52:00.776812",
     "status": "completed"
    },
    "tags": []
   },
   "outputs": [
    {
     "data": {
      "text/html": [
       "\n",
       "<!-- #######  HTML!! #########-->\n",
       "<h1 style=\"color: #5e9ca0; text-align: center;\">India</h1>\n",
       "<p style=\"text-align: center;\">Last update: <strong>2020-10-03</strong></p>\n",
       "<p style=\"text-align: center;\">Confirmed cases:</p>\n",
       "<p style=\"text-align: center;font-size:24px;\">6486206 (<span style=\"color: #ff0000;\">+14272</span>)</p>\n",
       "<p style=\"text-align: center;\">Confirmed deaths:</p>\n",
       "<p style=\"text-align: center;font-size:24px;\">101031 (<span style=\"color: #ff0000;\">+156</span>)</p>\n"
      ],
      "text/plain": [
       "<IPython.core.display.HTML object>"
      ]
     },
     "metadata": {},
     "output_type": "display_data"
    }
   ],
   "source": [
    "#hide_input\n",
    "update = summary['updated']\n",
    "cases = summary['Cases']\n",
    "new = summary['Cases (+)']\n",
    "deaths = summary['Deaths']\n",
    "dnew = summary['Deaths (+)']\n",
    "\n",
    "html = HTML(overview.format(update=update, cases=cases,new=new,deaths=deaths,dnew=dnew))\n",
    "\n",
    "display(html)"
   ]
  },
  {
   "cell_type": "code",
   "execution_count": 17,
   "metadata": {
    "execution": {
     "iopub.execute_input": "2020-10-03T13:52:00.846121Z",
     "iopub.status.busy": "2020-10-03T13:52:00.845540Z",
     "iopub.status.idle": "2020-10-03T13:52:00.851463Z",
     "shell.execute_reply": "2020-10-03T13:52:00.850987Z"
    },
    "papermill": {
     "duration": 0.031971,
     "end_time": "2020-10-03T13:52:00.851614",
     "exception": false,
     "start_time": "2020-10-03T13:52:00.819643",
     "status": "completed"
    },
    "tags": []
   },
   "outputs": [],
   "source": [
    "#hide\n",
    "dt_cols = list(dft_cases.columns[1:])\n",
    "dft_ct_new_cases = dft_cases.groupby('state')[dt_cols].sum().diff(axis=1).fillna(0).astype(int)\n",
    "dft_ct_new_cases.sort_values(by = dates[-1], ascending = False,inplace = True)"
   ]
  },
  {
   "cell_type": "code",
   "execution_count": 18,
   "metadata": {
    "execution": {
     "iopub.execute_input": "2020-10-03T13:52:00.905364Z",
     "iopub.status.busy": "2020-10-03T13:52:00.904774Z",
     "iopub.status.idle": "2020-10-03T13:52:00.908363Z",
     "shell.execute_reply": "2020-10-03T13:52:00.907886Z"
    },
    "papermill": {
     "duration": 0.039996,
     "end_time": "2020-10-03T13:52:00.908491",
     "exception": false,
     "start_time": "2020-10-03T13:52:00.868495",
     "status": "completed"
    },
    "tags": []
   },
   "outputs": [
    {
     "data": {
      "text/html": [
       "<div>\n",
       "<style scoped>\n",
       "    .dataframe tbody tr th:only-of-type {\n",
       "        vertical-align: middle;\n",
       "    }\n",
       "\n",
       "    .dataframe tbody tr th {\n",
       "        vertical-align: top;\n",
       "    }\n",
       "\n",
       "    .dataframe thead th {\n",
       "        text-align: right;\n",
       "    }\n",
       "</style>\n",
       "<table border=\"1\" class=\"dataframe\">\n",
       "  <thead>\n",
       "    <tr style=\"text-align: right;\">\n",
       "      <th>states</th>\n",
       "      <th>2020-07-01</th>\n",
       "      <th>2020-07-02</th>\n",
       "      <th>2020-07-03</th>\n",
       "      <th>2020-07-04</th>\n",
       "      <th>2020-07-05</th>\n",
       "      <th>2020-07-06</th>\n",
       "      <th>2020-07-07</th>\n",
       "      <th>2020-07-08</th>\n",
       "      <th>2020-07-09</th>\n",
       "      <th>2020-07-10</th>\n",
       "      <th>...</th>\n",
       "      <th>2020-09-24</th>\n",
       "      <th>2020-09-25</th>\n",
       "      <th>2020-09-26</th>\n",
       "      <th>2020-09-27</th>\n",
       "      <th>2020-09-28</th>\n",
       "      <th>2020-09-29</th>\n",
       "      <th>2020-09-30</th>\n",
       "      <th>2020-10-01</th>\n",
       "      <th>2020-10-02</th>\n",
       "      <th>2020-10-03</th>\n",
       "    </tr>\n",
       "    <tr>\n",
       "      <th>state</th>\n",
       "      <th></th>\n",
       "      <th></th>\n",
       "      <th></th>\n",
       "      <th></th>\n",
       "      <th></th>\n",
       "      <th></th>\n",
       "      <th></th>\n",
       "      <th></th>\n",
       "      <th></th>\n",
       "      <th></th>\n",
       "      <th></th>\n",
       "      <th></th>\n",
       "      <th></th>\n",
       "      <th></th>\n",
       "      <th></th>\n",
       "      <th></th>\n",
       "      <th></th>\n",
       "      <th></th>\n",
       "      <th></th>\n",
       "      <th></th>\n",
       "      <th></th>\n",
       "    </tr>\n",
       "  </thead>\n",
       "  <tbody>\n",
       "    <tr>\n",
       "      <th>Tamil Nadu</th>\n",
       "      <td>0</td>\n",
       "      <td>4343</td>\n",
       "      <td>4329</td>\n",
       "      <td>4280</td>\n",
       "      <td>4150</td>\n",
       "      <td>3827</td>\n",
       "      <td>3616</td>\n",
       "      <td>3756</td>\n",
       "      <td>4231</td>\n",
       "      <td>3680</td>\n",
       "      <td>...</td>\n",
       "      <td>5692</td>\n",
       "      <td>5679</td>\n",
       "      <td>5647</td>\n",
       "      <td>5791</td>\n",
       "      <td>5589</td>\n",
       "      <td>5546</td>\n",
       "      <td>5659</td>\n",
       "      <td>5688</td>\n",
       "      <td>5595</td>\n",
       "      <td>5622</td>\n",
       "    </tr>\n",
       "    <tr>\n",
       "      <th>Uttar Pradesh</th>\n",
       "      <td>0</td>\n",
       "      <td>769</td>\n",
       "      <td>972</td>\n",
       "      <td>757</td>\n",
       "      <td>1153</td>\n",
       "      <td>929</td>\n",
       "      <td>1332</td>\n",
       "      <td>1188</td>\n",
       "      <td>1206</td>\n",
       "      <td>1338</td>\n",
       "      <td>...</td>\n",
       "      <td>4591</td>\n",
       "      <td>4256</td>\n",
       "      <td>4302</td>\n",
       "      <td>4250</td>\n",
       "      <td>3790</td>\n",
       "      <td>3981</td>\n",
       "      <td>4226</td>\n",
       "      <td>4019</td>\n",
       "      <td>3894</td>\n",
       "      <td>3631</td>\n",
       "    </tr>\n",
       "    <tr>\n",
       "      <th>Odisha</th>\n",
       "      <td>0</td>\n",
       "      <td>229</td>\n",
       "      <td>561</td>\n",
       "      <td>495</td>\n",
       "      <td>469</td>\n",
       "      <td>456</td>\n",
       "      <td>571</td>\n",
       "      <td>527</td>\n",
       "      <td>577</td>\n",
       "      <td>755</td>\n",
       "      <td>...</td>\n",
       "      <td>4340</td>\n",
       "      <td>4208</td>\n",
       "      <td>4356</td>\n",
       "      <td>3922</td>\n",
       "      <td>3235</td>\n",
       "      <td>3067</td>\n",
       "      <td>3443</td>\n",
       "      <td>3615</td>\n",
       "      <td>3600</td>\n",
       "      <td>3053</td>\n",
       "    </tr>\n",
       "    <tr>\n",
       "      <th>Telangana</th>\n",
       "      <td>0</td>\n",
       "      <td>1213</td>\n",
       "      <td>1892</td>\n",
       "      <td>1850</td>\n",
       "      <td>1590</td>\n",
       "      <td>1831</td>\n",
       "      <td>1879</td>\n",
       "      <td>1924</td>\n",
       "      <td>1410</td>\n",
       "      <td>1278</td>\n",
       "      <td>...</td>\n",
       "      <td>2176</td>\n",
       "      <td>2381</td>\n",
       "      <td>2239</td>\n",
       "      <td>1967</td>\n",
       "      <td>1378</td>\n",
       "      <td>2072</td>\n",
       "      <td>2103</td>\n",
       "      <td>2214</td>\n",
       "      <td>2009</td>\n",
       "      <td>1718</td>\n",
       "    </tr>\n",
       "    <tr>\n",
       "      <th>Tripura</th>\n",
       "      <td>0</td>\n",
       "      <td>39</td>\n",
       "      <td>93</td>\n",
       "      <td>25</td>\n",
       "      <td>23</td>\n",
       "      <td>111</td>\n",
       "      <td>24</td>\n",
       "      <td>57</td>\n",
       "      <td>16</td>\n",
       "      <td>142</td>\n",
       "      <td>...</td>\n",
       "      <td>451</td>\n",
       "      <td>341</td>\n",
       "      <td>278</td>\n",
       "      <td>320</td>\n",
       "      <td>193</td>\n",
       "      <td>432</td>\n",
       "      <td>381</td>\n",
       "      <td>332</td>\n",
       "      <td>296</td>\n",
       "      <td>190</td>\n",
       "    </tr>\n",
       "  </tbody>\n",
       "</table>\n",
       "<p>5 rows × 95 columns</p>\n",
       "</div>"
      ],
      "text/plain": [
       "states         2020-07-01  2020-07-02  2020-07-03  2020-07-04  2020-07-05  \\\n",
       "state                                                                       \n",
       "Tamil Nadu              0        4343        4329        4280        4150   \n",
       "Uttar Pradesh           0         769         972         757        1153   \n",
       "Odisha                  0         229         561         495         469   \n",
       "Telangana               0        1213        1892        1850        1590   \n",
       "Tripura                 0          39          93          25          23   \n",
       "\n",
       "states         2020-07-06  2020-07-07  2020-07-08  2020-07-09  2020-07-10  \\\n",
       "state                                                                       \n",
       "Tamil Nadu           3827        3616        3756        4231        3680   \n",
       "Uttar Pradesh         929        1332        1188        1206        1338   \n",
       "Odisha                456         571         527         577         755   \n",
       "Telangana            1831        1879        1924        1410        1278   \n",
       "Tripura               111          24          57          16         142   \n",
       "\n",
       "states         ...  2020-09-24  2020-09-25  2020-09-26  2020-09-27  \\\n",
       "state          ...                                                   \n",
       "Tamil Nadu     ...        5692        5679        5647        5791   \n",
       "Uttar Pradesh  ...        4591        4256        4302        4250   \n",
       "Odisha         ...        4340        4208        4356        3922   \n",
       "Telangana      ...        2176        2381        2239        1967   \n",
       "Tripura        ...         451         341         278         320   \n",
       "\n",
       "states         2020-09-28  2020-09-29  2020-09-30  2020-10-01  2020-10-02  \\\n",
       "state                                                                       \n",
       "Tamil Nadu           5589        5546        5659        5688        5595   \n",
       "Uttar Pradesh        3790        3981        4226        4019        3894   \n",
       "Odisha               3235        3067        3443        3615        3600   \n",
       "Telangana            1378        2072        2103        2214        2009   \n",
       "Tripura               193         432         381         332         296   \n",
       "\n",
       "states         2020-10-03  \n",
       "state                      \n",
       "Tamil Nadu           5622  \n",
       "Uttar Pradesh        3631  \n",
       "Odisha               3053  \n",
       "Telangana            1718  \n",
       "Tripura               190  \n",
       "\n",
       "[5 rows x 95 columns]"
      ]
     },
     "execution_count": 18,
     "metadata": {},
     "output_type": "execute_result"
    }
   ],
   "source": [
    "#hide\n",
    "dft_ct_new_cases.head()"
   ]
  },
  {
   "cell_type": "code",
   "execution_count": 19,
   "metadata": {
    "execution": {
     "iopub.execute_input": "2020-10-03T13:52:00.946860Z",
     "iopub.status.busy": "2020-10-03T13:52:00.946231Z",
     "iopub.status.idle": "2020-10-03T13:52:04.675630Z",
     "shell.execute_reply": "2020-10-03T13:52:04.676129Z"
    },
    "papermill": {
     "duration": 3.750318,
     "end_time": "2020-10-03T13:52:04.676288",
     "exception": false,
     "start_time": "2020-10-03T13:52:00.925970",
     "status": "completed"
    },
    "tags": []
   },
   "outputs": [
    {
     "data": {
      "image/png": "[encoded data removed]",
      "text/plain": [
       "<Figure size 1296x2016 with 11 Axes>"
      ]
     },
     "metadata": {
      "needs_background": "light"
     },
     "output_type": "display_data"
    }
   ],
   "source": [
    "#hide_input\n",
    "df = dft_ct_new_cases.copy()\n",
    "df.loc['Total'] = df.sum()\n",
    "n = 5\n",
    "ax = []\n",
    "fig = plt.figure(figsize = (18,28))\n",
    "gs = fig.add_gridspec(n+2, 5)\n",
    "# gs = fig.add_gridspec(2, 3)\n",
    "ax1 = fig.add_subplot(gs[0, :])\n",
    "ef = df.loc['Total'].rename_axis('date').reset_index()\n",
    "ef['date'] = ef['date'].astype('datetime64[ns]')\n",
    "ax1.bar(ef.date,ef.Total,alpha=0.3,color='#007acc')\n",
    "ax1.plot(ef.date,ef.Total , marker=\"o\", color='#007acc')\n",
    "ax1.xaxis.set_major_locator(mdates.WeekdayLocator())\n",
    "ax1.xaxis.set_major_formatter(mdates.DateFormatter('%b %d'))\n",
    "ax1.text(0.02, 0.5,'India daily case count', transform = ax1.transAxes, fontsize=25);\n",
    "ax1.spines['right'].set_visible(False)\n",
    "ax1.spines['top'].set_visible(False)\n",
    "\n",
    "ax2 = fig.add_subplot(gs[1,0])\n",
    "ef = df.loc['Maharashtra'].rename_axis('date').reset_index()\n",
    "ef['date'] = ef['date'].astype('datetime64[ns]')\n",
    "\n",
    "ax2.bar(ef.date, ef.Maharashtra,color = '#007acc',alpha=0.5)\n",
    "ax2.xaxis.set_major_locator(mdates.WeekdayLocator())\n",
    "ax2.xaxis.set_major_formatter(mdates.DateFormatter('%b %d'))\n",
    "ax2.set_xticks(ax2.get_xticks()[::3])\n",
    "maxyval = ef.Maharashtra.max()\n",
    "ax2.set_ylim([0,maxyval])\n",
    "ax2.text(0.05, 0.9,'Maharashtra', transform = ax2.transAxes, fontsize=20);\n",
    "ax2.spines['right'].set_visible(False)\n",
    "ax2.spines['top'].set_visible(False)\n",
    "\n",
    "\n",
    "ax3 = fig.add_subplot(gs[1,1])\n",
    "ef = df.loc['Tamil Nadu'].rename_axis('date').reset_index()\n",
    "ef['date'] = ef['date'].astype('datetime64[ns]')\n",
    "ax3.bar(ef.date, ef['Tamil Nadu'],color = '#007acc',alpha=0.5,)\n",
    "ax3.xaxis.set_major_locator(mdates.WeekdayLocator())\n",
    "ax3.xaxis.set_major_formatter(mdates.DateFormatter('%b %d'))\n",
    "ax3.set_xticks(ax3.get_xticks()[::3])\n",
    "ax3.text(0.05, 0.9,'Tamil Nadu', transform = ax3.transAxes, fontsize=20);\n",
    "ax3.spines['right'].set_visible(False)\n",
    "ax3.spines['top'].set_visible(False)\n",
    "\n",
    "ax5 = fig.add_subplot(gs[1,3])\n",
    "ef = df.loc['Telangana'].rename_axis('date').reset_index()\n",
    "ef['date'] = ef['date'].astype('datetime64[ns]')\n",
    "ax5.bar(ef.date, ef['Telangana'],color = '#007acc',alpha=0.5,)\n",
    "ax5.xaxis.set_major_locator(mdates.WeekdayLocator())\n",
    "ax5.xaxis.set_major_formatter(mdates.DateFormatter('%b %d'))\n",
    "ax5.set_xticks(ax5.get_xticks()[::3])\n",
    "ax5.text(0.05, 0.9,'Telangana', transform = ax5.transAxes, fontsize=20);\n",
    "ax5.spines['right'].set_visible(False)\n",
    "ax5.spines['top'].set_visible(False)\n",
    "\n",
    "ax6 = fig.add_subplot(gs[1,4])\n",
    "ef = df.loc['Andhra Pradesh'].rename_axis('date').reset_index()\n",
    "ef['date'] = ef['date'].astype('datetime64[ns]')\n",
    "ax6.bar(ef.date, ef['Andhra Pradesh'],color = '#007acc',alpha=0.5,)\n",
    "ax6.xaxis.set_major_locator(mdates.WeekdayLocator())\n",
    "ax6.xaxis.set_major_formatter(mdates.DateFormatter('%b %d'))\n",
    "ax6.set_xticks(ax6.get_xticks()[::3])\n",
    "ax6.text(0.05, 1,'Andhra Pradesh', transform = ax6.transAxes, fontsize=20);\n",
    "ax6.spines['right'].set_visible(False)\n",
    "ax6.spines['top'].set_visible(False)\n",
    "\n",
    "ax4 = fig.add_subplot(gs[1,2])\n",
    "ef = df.loc['Delhi'].rename_axis('date').reset_index()\n",
    "ef['date'] = ef['date'].astype('datetime64[ns]')\n",
    "ax4.bar(ef.date, ef.Delhi,color = '#007acc',alpha=0.5)\n",
    "ax4.set_xticks([])\n",
    "ax4.xaxis.set_major_locator(mdates.WeekdayLocator())\n",
    "ax4.xaxis.set_major_formatter(mdates.DateFormatter('%b %d'))\n",
    "ax4.set_xticks(ax4.get_xticks()[::3])\n",
    "ax4.spines['right'].set_visible(False)\n",
    "ax4.spines['top'].set_visible(False)\n",
    "\n",
    "ax4.text(0.05, 1,'Delhi', transform = ax4.transAxes, fontsize=20)\n",
    "\n",
    "for i in range(n):\n",
    "    \n",
    "    ax.append(fig.add_subplot(gs[i+2,:]))\n",
    "    ef = df.iloc[i+3].rename_axis('date').reset_index()\n",
    "    ef['date'] = ef['date'].astype('datetime64[ns]')\n",
    "    ax[i].bar(ef.date,ef.iloc[:,-1],color = '#007acc',alpha=0.3)\n",
    "    ax[i].plot(ef.date,ef.iloc[:,-1],marker='o',color='#007acc')\n",
    "    ax[i].text(0.02,0.5,f'{ef.columns.values[-1]}',transform = ax[i].transAxes, fontsize = 20);\n",
    "    ax[i].xaxis.set_major_locator(mdates.WeekdayLocator())\n",
    "    ax[i].xaxis.set_major_formatter(mdates.DateFormatter('%b %d'))\n",
    "    ax[i].set_ylim([0,7000])\n",
    "    ax[i].spines['right'].set_visible(False)\n",
    "    ax[i].spines['top'].set_visible(False)\n",
    "plt.tight_layout()\n"
   ]
  },
  {
   "cell_type": "code",
   "execution_count": 20,
   "metadata": {
    "execution": {
     "iopub.execute_input": "2020-10-03T13:52:04.731174Z",
     "iopub.status.busy": "2020-10-03T13:52:04.730505Z",
     "iopub.status.idle": "2020-10-03T13:52:04.734365Z",
     "shell.execute_reply": "2020-10-03T13:52:04.734877Z"
    },
    "papermill": {
     "duration": 0.036059,
     "end_time": "2020-10-03T13:52:04.735038",
     "exception": false,
     "start_time": "2020-10-03T13:52:04.698979",
     "status": "completed"
    },
    "tags": []
   },
   "outputs": [
    {
     "name": "stdout",
     "output_type": "stream",
     "text": [
      "                                   states    Cases  Deaths   PCases  PDeaths  Cases (+)  Deaths (+)  Fatality Rate\n",
      "                              Maharashtra  1416513   37480  1416513    37480          0           0           2.65\n",
      "                           Andhra Pradesh   706790    5900   706790     5900          0           0           0.83\n",
      "                                Karnataka   620630    9119   620630     9119          0           0           1.47\n",
      "                               Tamil Nadu   614507    9721   608885     9653       5622          68           1.58\n",
      "                            Uttar Pradesh   410626    5977   406995     5917       3631          60           1.46\n",
      "                                    Delhi   285672    5438   285672     5438          0           0           1.90\n",
      "                              West Bengal   263634    5070   263634     5070          0           0           1.92\n",
      "                                   Odisha   229387     945   226334      928       3053          17           0.41\n",
      "                                   Kerala   213500     792   213500      792          0           0           0.37\n",
      "                                Telangana   197327    1153   195609     1145       1718           8           0.58\n",
      "                                    Bihar   185707     910   185707      910          0           0           0.49\n",
      "                                    Assam   183812     721   183812      721          0           0           0.39\n",
      "                                  Gujarat   140054    3478   140054     3478          0           0           2.48\n",
      "                                Rajasthan   139696    1516   139696     1516          0           0           1.09\n",
      "                           Madhya Pradesh   132107    2372   132107     2372          0           0           1.80\n",
      "                                  Haryana   131388    1425   131388     1425          0           0           1.08\n",
      "                             Chhattisgarh   118790    1002   118790     1002          0           0           0.84\n",
      "                                   Punjab   116213    3501   116213     3501          0           0           3.01\n",
      "                                Jharkhand    85400     729    85400      729          0           0           0.85\n",
      "                        Jammu and Kashmir    77253    1212    77253     1212          0           0           1.57\n",
      "                              Uttarakhand    49559     636    49559      636          0           0           1.28\n",
      "                                      Goa    34455     442    34455      442          0           0           1.28\n",
      "                               Puducherry    28534     532    28534      532          0           0           1.86\n",
      "                                  Tripura    26549     286    26359      283        190           3           1.08\n",
      "                         Himachal Pradesh    15454     197    15454      197          0           0           1.27\n",
      "                               Chandigarh    12212     169    12212      169          0           0           1.38\n",
      "                                  Manipur    11397      69    11397       69          0           0           0.61\n",
      "                        Arunachal Pradesh    10220      18    10220       18          0           0           0.18\n",
      "                                 Nagaland     6318      12     6318       12          0           0           0.19\n",
      "                                Meghalaya     6033      52     6033       52          0           0           0.86\n",
      "                                   Ladakh     4429      61     4429       61          0           0           1.38\n",
      "              Andaman and Nicobar Islands     3858      53     3858       53          0           0           1.37\n",
      " Dadra and Nagar Haveli and Daman and Diu     3068       2     3064        2          4           0           0.07\n",
      "                                   Sikkim     3011      41     3011       41          0           0           1.36\n",
      "                                  Mizoram     2103       0     2049        0         54           0           0.00\n",
      "                              Lakshadweep        0       0        0        0          0           0            NaN\n"
     ]
    }
   ],
   "source": [
    "#hide_input\n",
    "print(df_table.to_string(index=False))"
   ]
  },
  {
   "cell_type": "code",
   "execution_count": null,
   "metadata": {
    "papermill": {
     "duration": 0.023168,
     "end_time": "2020-10-03T13:52:04.781831",
     "exception": false,
     "start_time": "2020-10-03T13:52:04.758663",
     "status": "completed"
    },
    "tags": []
   },
   "outputs": [],
   "source": []
  },
  {
   "cell_type": "code",
   "execution_count": null,
   "metadata": {
    "papermill": {
     "duration": 0.023464,
     "end_time": "2020-10-03T13:52:04.828735",
     "exception": false,
     "start_time": "2020-10-03T13:52:04.805271",
     "status": "completed"
    },
    "tags": []
   },
   "outputs": [],
   "source": []
  }
 ],
 "metadata": {
  "kernelspec": {
   "display_name": "Python 3",
   "language": "python",
   "name": "python3"
  },
  "language_info": {
   "codemirror_mode": {
    "name": "ipython",
    "version": 3
   },
   "file_extension": ".py",
   "mimetype": "text/x-python",
   "name": "python",
   "nbconvert_exporter": "python",
   "pygments_lexer": "ipython3",
   "version": "3.6.12"
  },
  "papermill": {
   "duration": 9.686382,
   "end_time": "2020-10-03T13:52:05.261202",
   "environment_variables": {},
   "exception": null,
   "input_path": "latest.ipynb",
   "output_path": "latest.ipynb",
   "parameters": {},
   "start_time": "2020-10-03T13:51:55.574820",
   "version": "2.1.2"
  }
 },
 "nbformat": 4,
 "nbformat_minor": 4
}