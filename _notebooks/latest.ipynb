{
 "cells": [
  {
   "cell_type": "markdown",
   "metadata": {
    "papermill": {
     "duration": 0.018433,
     "end_time": "2020-10-30T15:17:21.866290",
     "exception": false,
     "start_time": "2020-10-30T15:17:21.847857",
     "status": "completed"
    },
    "tags": []
   },
   "source": [
    "# Latest COVID-19 India Matplotlib Overview"
   ]
  },
  {
   "cell_type": "code",
   "execution_count": 1,
   "metadata": {
    "execution": {
     "iopub.execute_input": "2020-10-30T15:17:21.907595Z",
     "iopub.status.busy": "2020-10-30T15:17:21.906524Z",
     "iopub.status.idle": "2020-10-30T15:17:22.516158Z",
     "shell.execute_reply": "2020-10-30T15:17:22.515411Z"
    },
    "papermill": {
     "duration": 0.634444,
     "end_time": "2020-10-30T15:17:22.516367",
     "exception": false,
     "start_time": "2020-10-30T15:17:21.881923",
     "status": "completed"
    },
    "tags": []
   },
   "outputs": [],
   "source": [
    "#hide\n",
    "import pandas as pd\n",
    "import numpy as np\n",
    "import requests\n",
    "import json\n",
    "import matplotlib.pyplot as plt\n",
    "import matplotlib.dates as mdates\n",
    "import matplotlib as mpl\n",
    "from IPython.core.display import display,HTML\n",
    "%matplotlib inline\n",
    "from datetime import date"
   ]
  },
  {
   "cell_type": "code",
   "execution_count": 2,
   "metadata": {
    "execution": {
     "iopub.execute_input": "2020-10-30T15:17:22.558102Z",
     "iopub.status.busy": "2020-10-30T15:17:22.557198Z",
     "iopub.status.idle": "2020-10-30T15:17:22.757491Z",
     "shell.execute_reply": "2020-10-30T15:17:22.756941Z"
    },
    "papermill": {
     "duration": 0.223882,
     "end_time": "2020-10-30T15:17:22.757635",
     "exception": false,
     "start_time": "2020-10-30T15:17:22.533753",
     "status": "completed"
    },
    "tags": []
   },
   "outputs": [],
   "source": [
    "#hide\n",
    "df  = pd.read_csv('https://api.covid19india.org/csv/latest/states.csv')\n",
    "df = df[['Date','State','Confirmed','Deceased']]\n",
    "df = df.rename(columns={'Confirmed':'Cases', \"Deceased\":'Deaths'})\n",
    "df_cases = df[[\"Date\",'State','Cases']]\n",
    "df_deaths = df[['Date','State','Deaths']]\n",
    "df_cases1 = df_cases.groupby('Date')\n",
    "df_deaths1= df_deaths.groupby('Date')"
   ]
  },
  {
   "cell_type": "code",
   "execution_count": 3,
   "metadata": {
    "execution": {
     "iopub.execute_input": "2020-10-30T15:17:22.796706Z",
     "iopub.status.busy": "2020-10-30T15:17:22.796094Z",
     "iopub.status.idle": "2020-10-30T15:17:22.813761Z",
     "shell.execute_reply": "2020-10-30T15:17:22.814230Z"
    },
    "papermill": {
     "duration": 0.041639,
     "end_time": "2020-10-30T15:17:22.814403",
     "exception": false,
     "start_time": "2020-10-30T15:17:22.772764",
     "status": "completed"
    },
    "tags": []
   },
   "outputs": [],
   "source": [
    "#hide\n",
    "df_snap = pd.read_csv('data/SnapshotCases-28-July.csv')\n",
    "arr_states = df_snap['states'].unique()\n",
    "arr_dates = df['Date'].unique()\n",
    "df_snap = df_snap.set_index('states')"
   ]
  },
  {
   "cell_type": "code",
   "execution_count": 4,
   "metadata": {
    "execution": {
     "iopub.execute_input": "2020-10-30T15:17:22.851316Z",
     "iopub.status.busy": "2020-10-30T15:17:22.850708Z",
     "iopub.status.idle": "2020-10-30T15:17:22.856073Z",
     "shell.execute_reply": "2020-10-30T15:17:22.855517Z"
    },
    "papermill": {
     "duration": 0.027,
     "end_time": "2020-10-30T15:17:22.856208",
     "exception": false,
     "start_time": "2020-10-30T15:17:22.829208",
     "status": "completed"
    },
    "tags": []
   },
   "outputs": [
    {
     "data": {
      "text/plain": [
       "array(['Andaman and Nicobar Islands', 'Andhra Pradesh',\n",
       "       'Arunachal Pradesh', 'Assam', 'Bihar', 'Chandigarh',\n",
       "       'Dadra and Nagar Haveli and Daman and Diu', 'Delhi', 'Goa',\n",
       "       'Gujarat', 'Haryana', 'Himachal Pradesh', 'Jammu and Kashmir',\n",
       "       'Jharkhand', 'Karnataka', 'Kerala', 'Lakshadweep',\n",
       "       'Madhya Pradesh', 'Maharashtra', 'Manipur', 'Meghalaya', 'Mizoram',\n",
       "       'Nagaland', 'Odisha', 'Puducherry', 'Punjab', 'Rajasthan',\n",
       "       'Sikkim', 'Tamil Nadu', 'Telangana', 'Tripura', 'Uttar Pradesh',\n",
       "       'West Bengal', 'Chhattisgarh', 'Ladakh', 'Uttarakhand'],\n",
       "      dtype=object)"
      ]
     },
     "execution_count": 4,
     "metadata": {},
     "output_type": "execute_result"
    }
   ],
   "source": [
    "#hide\n",
    "arr_states[-9] = 'Puducherry'\n",
    "arr_states[-10] = 'Odisha'\n",
    "arr_states[6] = 'Dadra and Nagar Haveli and Daman and Diu'\n",
    "arr_states = np.append(arr_states,np.array(['Chhattisgarh','Ladakh','Uttarakhand']))\n",
    "arr_states"
   ]
  },
  {
   "cell_type": "code",
   "execution_count": 5,
   "metadata": {
    "execution": {
     "iopub.execute_input": "2020-10-30T15:17:22.897469Z",
     "iopub.status.busy": "2020-10-30T15:17:22.896815Z",
     "iopub.status.idle": "2020-10-30T15:17:22.905089Z",
     "shell.execute_reply": "2020-10-30T15:17:22.904602Z"
    },
    "papermill": {
     "duration": 0.033927,
     "end_time": "2020-10-30T15:17:22.905219",
     "exception": false,
     "start_time": "2020-10-30T15:17:22.871292",
     "status": "completed"
    },
    "tags": []
   },
   "outputs": [],
   "source": [
    "#hide\n",
    "dates = []\n",
    "for i in arr_dates:\n",
    "    if i>='2020-07-01':\n",
    "        dates.append(i)\n",
    "dict = {'states':dates}\n",
    "for i in arr_states:\n",
    "    dict[i] = [0]*len(dates)\n",
    "dft_cases = pd.DataFrame(dict)\n",
    "dft_deaths = pd.DataFrame(dict)\n"
   ]
  },
  {
   "cell_type": "code",
   "execution_count": 6,
   "metadata": {
    "execution": {
     "iopub.execute_input": "2020-10-30T15:17:22.942849Z",
     "iopub.status.busy": "2020-10-30T15:17:22.942285Z",
     "iopub.status.idle": "2020-10-30T15:17:24.645235Z",
     "shell.execute_reply": "2020-10-30T15:17:24.644368Z"
    },
    "papermill": {
     "duration": 1.723749,
     "end_time": "2020-10-30T15:17:24.645371",
     "exception": false,
     "start_time": "2020-10-30T15:17:22.921622",
     "status": "completed"
    },
    "tags": []
   },
   "outputs": [],
   "source": [
    "#hide\n",
    "for i in range(len(dates)):\n",
    "    df1_deaths = df_deaths1.get_group(dates[i])\n",
    "    for j in range(len(df1_deaths.index)):\n",
    "        if df1_deaths.iloc[j,1] in arr_states:\n",
    "            dft_deaths.loc[i,df1_deaths.iloc[j,1]] = df1_deaths.iloc[j,2]\n",
    "dft_deaths = dft_deaths.set_index('states')"
   ]
  },
  {
   "cell_type": "code",
   "execution_count": 7,
   "metadata": {
    "execution": {
     "iopub.execute_input": "2020-10-30T15:17:24.685789Z",
     "iopub.status.busy": "2020-10-30T15:17:24.683826Z",
     "iopub.status.idle": "2020-10-30T15:17:26.316555Z",
     "shell.execute_reply": "2020-10-30T15:17:26.315701Z"
    },
    "papermill": {
     "duration": 1.65556,
     "end_time": "2020-10-30T15:17:26.316685",
     "exception": false,
     "start_time": "2020-10-30T15:17:24.661125",
     "status": "completed"
    },
    "tags": []
   },
   "outputs": [],
   "source": [
    "#hide\n",
    "for i in range(len(dates)):\n",
    "    df1_cases = df_cases1.get_group(dates[i])\n",
    "    for j in range(len(df1_cases.index)):\n",
    "        if df1_cases.iloc[j,1] in arr_states:\n",
    "            dft_cases.loc[i,df1_cases.iloc[j,1]] = df1_cases.iloc[j,2]\n",
    "dft_cases = dft_cases.set_index('states')"
   ]
  },
  {
   "cell_type": "code",
   "execution_count": 8,
   "metadata": {
    "execution": {
     "iopub.execute_input": "2020-10-30T15:17:26.354356Z",
     "iopub.status.busy": "2020-10-30T15:17:26.353219Z",
     "iopub.status.idle": "2020-10-30T15:17:26.356183Z",
     "shell.execute_reply": "2020-10-30T15:17:26.355237Z"
    },
    "papermill": {
     "duration": 0.024425,
     "end_time": "2020-10-30T15:17:26.356390",
     "exception": false,
     "start_time": "2020-10-30T15:17:26.331965",
     "status": "completed"
    },
    "tags": []
   },
   "outputs": [],
   "source": [
    "#hide\n",
    "dft_cases = dft_cases.T\n",
    "dft_deaths = dft_deaths.T\n",
    "dt_today = dates[-1]\n",
    "dt_yday = dates[-2]"
   ]
  },
  {
   "cell_type": "code",
   "execution_count": 9,
   "metadata": {
    "execution": {
     "iopub.execute_input": "2020-10-30T15:17:26.396321Z",
     "iopub.status.busy": "2020-10-30T15:17:26.394934Z",
     "iopub.status.idle": "2020-10-30T15:17:26.399389Z",
     "shell.execute_reply": "2020-10-30T15:17:26.398896Z"
    },
    "papermill": {
     "duration": 0.026321,
     "end_time": "2020-10-30T15:17:26.399513",
     "exception": false,
     "start_time": "2020-10-30T15:17:26.373192",
     "status": "completed"
    },
    "tags": []
   },
   "outputs": [],
   "source": [
    "#hide\n",
    "dft_cases = dft_cases.reset_index()\n",
    "dft_deaths = dft_deaths.reset_index()\n",
    "dft_cases = dft_cases.rename(columns = {'index':'state'})\n",
    "dft_deaths = dft_deaths.rename(columns = {'index':'state'})"
   ]
  },
  {
   "cell_type": "code",
   "execution_count": 10,
   "metadata": {
    "execution": {
     "iopub.execute_input": "2020-10-30T15:17:26.441245Z",
     "iopub.status.busy": "2020-10-30T15:17:26.440624Z",
     "iopub.status.idle": "2020-10-30T15:17:26.444153Z",
     "shell.execute_reply": "2020-10-30T15:17:26.443696Z"
    },
    "papermill": {
     "duration": 0.029613,
     "end_time": "2020-10-30T15:17:26.444271",
     "exception": false,
     "start_time": "2020-10-30T15:17:26.414658",
     "status": "completed"
    },
    "tags": []
   },
   "outputs": [],
   "source": [
    "#hide\n",
    "dfc_cases = dft_cases.groupby('state')[dt_today].sum()\n",
    "dfc_deaths = dft_deaths.groupby('state')[dt_today].sum()\n",
    "dfp_cases = dft_cases.groupby('state')[dt_yday].sum()\n",
    "dfp_deaths = dft_deaths.groupby('state')[dt_yday].sum()"
   ]
  },
  {
   "cell_type": "code",
   "execution_count": 11,
   "metadata": {
    "execution": {
     "iopub.execute_input": "2020-10-30T15:17:26.489352Z",
     "iopub.status.busy": "2020-10-30T15:17:26.483110Z",
     "iopub.status.idle": "2020-10-30T15:17:26.495036Z",
     "shell.execute_reply": "2020-10-30T15:17:26.495575Z"
    },
    "papermill": {
     "duration": 0.036589,
     "end_time": "2020-10-30T15:17:26.495713",
     "exception": false,
     "start_time": "2020-10-30T15:17:26.459124",
     "status": "completed"
    },
    "tags": []
   },
   "outputs": [
    {
     "data": {
      "text/html": [
       "<div>\n",
       "<style scoped>\n",
       "    .dataframe tbody tr th:only-of-type {\n",
       "        vertical-align: middle;\n",
       "    }\n",
       "\n",
       "    .dataframe tbody tr th {\n",
       "        vertical-align: top;\n",
       "    }\n",
       "\n",
       "    .dataframe thead th {\n",
       "        text-align: right;\n",
       "    }\n",
       "</style>\n",
       "<table border=\"1\" class=\"dataframe\">\n",
       "  <thead>\n",
       "    <tr style=\"text-align: right;\">\n",
       "      <th></th>\n",
       "      <th>states</th>\n",
       "      <th>Cases</th>\n",
       "      <th>Deaths</th>\n",
       "      <th>PCases</th>\n",
       "      <th>PDeaths</th>\n",
       "    </tr>\n",
       "  </thead>\n",
       "  <tbody>\n",
       "    <tr>\n",
       "      <th>0</th>\n",
       "      <td>Maharashtra</td>\n",
       "      <td>1666668</td>\n",
       "      <td>43710</td>\n",
       "      <td>1666668</td>\n",
       "      <td>43710</td>\n",
       "    </tr>\n",
       "    <tr>\n",
       "      <th>1</th>\n",
       "      <td>Andhra Pradesh</td>\n",
       "      <td>817679</td>\n",
       "      <td>6659</td>\n",
       "      <td>817679</td>\n",
       "      <td>6659</td>\n",
       "    </tr>\n",
       "    <tr>\n",
       "      <th>2</th>\n",
       "      <td>Karnataka</td>\n",
       "      <td>816809</td>\n",
       "      <td>11091</td>\n",
       "      <td>816809</td>\n",
       "      <td>11091</td>\n",
       "    </tr>\n",
       "    <tr>\n",
       "      <th>3</th>\n",
       "      <td>Tamil Nadu</td>\n",
       "      <td>719403</td>\n",
       "      <td>11053</td>\n",
       "      <td>719403</td>\n",
       "      <td>11053</td>\n",
       "    </tr>\n",
       "    <tr>\n",
       "      <th>4</th>\n",
       "      <td>Uttar Pradesh</td>\n",
       "      <td>477895</td>\n",
       "      <td>6983</td>\n",
       "      <td>477895</td>\n",
       "      <td>6983</td>\n",
       "    </tr>\n",
       "  </tbody>\n",
       "</table>\n",
       "</div>"
      ],
      "text/plain": [
       "           states    Cases  Deaths   PCases  PDeaths\n",
       "0     Maharashtra  1666668   43710  1666668    43710\n",
       "1  Andhra Pradesh   817679    6659   817679     6659\n",
       "2       Karnataka   816809   11091   816809    11091\n",
       "3      Tamil Nadu   719403   11053   719403    11053\n",
       "4   Uttar Pradesh   477895    6983   477895     6983"
      ]
     },
     "execution_count": 11,
     "metadata": {},
     "output_type": "execute_result"
    }
   ],
   "source": [
    "#hide\n",
    "df_table = pd.DataFrame({'states': dfc_cases.index, 'Cases': dfc_cases.values, 'Deaths': dfc_deaths.values, 'PCases': dfp_cases.values, 'PDeaths': dfp_deaths.values}).set_index('states')\n",
    "df_table = df_table.sort_values(by = ['Cases','Deaths'], ascending = [False, False])\n",
    "df_table = df_table.reset_index()\n",
    "df_table.head()"
   ]
  },
  {
   "cell_type": "code",
   "execution_count": 12,
   "metadata": {
    "execution": {
     "iopub.execute_input": "2020-10-30T15:17:26.532256Z",
     "iopub.status.busy": "2020-10-30T15:17:26.531706Z",
     "iopub.status.idle": "2020-10-30T15:17:26.539996Z",
     "shell.execute_reply": "2020-10-30T15:17:26.539552Z"
    },
    "papermill": {
     "duration": 0.028708,
     "end_time": "2020-10-30T15:17:26.540099",
     "exception": false,
     "start_time": "2020-10-30T15:17:26.511391",
     "status": "completed"
    },
    "tags": []
   },
   "outputs": [],
   "source": [
    "#hide\n",
    "for c in 'Cases, Deaths'.split(', '):\n",
    "    df_table[f'{c} (+)'] = (df_table[c] - df_table[f'P{c}']).clip(0)\n",
    "df_table['Fatality Rate'] = (100* df_table['Deaths']/ df_table['Cases']).round(2)"
   ]
  },
  {
   "cell_type": "code",
   "execution_count": 13,
   "metadata": {
    "execution": {
     "iopub.execute_input": "2020-10-30T15:17:26.581499Z",
     "iopub.status.busy": "2020-10-30T15:17:26.580920Z",
     "iopub.status.idle": "2020-10-30T15:17:26.583754Z",
     "shell.execute_reply": "2020-10-30T15:17:26.584257Z"
    },
    "papermill": {
     "duration": 0.028945,
     "end_time": "2020-10-30T15:17:26.584389",
     "exception": false,
     "start_time": "2020-10-30T15:17:26.555444",
     "status": "completed"
    },
    "tags": []
   },
   "outputs": [
    {
     "data": {
      "text/html": [
       "<div>\n",
       "<style scoped>\n",
       "    .dataframe tbody tr th:only-of-type {\n",
       "        vertical-align: middle;\n",
       "    }\n",
       "\n",
       "    .dataframe tbody tr th {\n",
       "        vertical-align: top;\n",
       "    }\n",
       "\n",
       "    .dataframe thead th {\n",
       "        text-align: right;\n",
       "    }\n",
       "</style>\n",
       "<table border=\"1\" class=\"dataframe\">\n",
       "  <thead>\n",
       "    <tr style=\"text-align: right;\">\n",
       "      <th></th>\n",
       "      <th>states</th>\n",
       "      <th>Cases</th>\n",
       "      <th>Deaths</th>\n",
       "      <th>PCases</th>\n",
       "      <th>PDeaths</th>\n",
       "      <th>Cases (+)</th>\n",
       "      <th>Deaths (+)</th>\n",
       "      <th>Fatality Rate</th>\n",
       "    </tr>\n",
       "  </thead>\n",
       "  <tbody>\n",
       "    <tr>\n",
       "      <th>0</th>\n",
       "      <td>Maharashtra</td>\n",
       "      <td>1666668</td>\n",
       "      <td>43710</td>\n",
       "      <td>1666668</td>\n",
       "      <td>43710</td>\n",
       "      <td>0</td>\n",
       "      <td>0</td>\n",
       "      <td>2.62</td>\n",
       "    </tr>\n",
       "    <tr>\n",
       "      <th>1</th>\n",
       "      <td>Andhra Pradesh</td>\n",
       "      <td>817679</td>\n",
       "      <td>6659</td>\n",
       "      <td>817679</td>\n",
       "      <td>6659</td>\n",
       "      <td>0</td>\n",
       "      <td>0</td>\n",
       "      <td>0.81</td>\n",
       "    </tr>\n",
       "    <tr>\n",
       "      <th>2</th>\n",
       "      <td>Karnataka</td>\n",
       "      <td>816809</td>\n",
       "      <td>11091</td>\n",
       "      <td>816809</td>\n",
       "      <td>11091</td>\n",
       "      <td>0</td>\n",
       "      <td>0</td>\n",
       "      <td>1.36</td>\n",
       "    </tr>\n",
       "    <tr>\n",
       "      <th>3</th>\n",
       "      <td>Tamil Nadu</td>\n",
       "      <td>719403</td>\n",
       "      <td>11053</td>\n",
       "      <td>719403</td>\n",
       "      <td>11053</td>\n",
       "      <td>0</td>\n",
       "      <td>0</td>\n",
       "      <td>1.54</td>\n",
       "    </tr>\n",
       "    <tr>\n",
       "      <th>4</th>\n",
       "      <td>Uttar Pradesh</td>\n",
       "      <td>477895</td>\n",
       "      <td>6983</td>\n",
       "      <td>477895</td>\n",
       "      <td>6983</td>\n",
       "      <td>0</td>\n",
       "      <td>0</td>\n",
       "      <td>1.46</td>\n",
       "    </tr>\n",
       "  </tbody>\n",
       "</table>\n",
       "</div>"
      ],
      "text/plain": [
       "           states    Cases  Deaths   PCases  PDeaths  Cases (+)  Deaths (+)  \\\n",
       "0     Maharashtra  1666668   43710  1666668    43710          0           0   \n",
       "1  Andhra Pradesh   817679    6659   817679     6659          0           0   \n",
       "2       Karnataka   816809   11091   816809    11091          0           0   \n",
       "3      Tamil Nadu   719403   11053   719403    11053          0           0   \n",
       "4   Uttar Pradesh   477895    6983   477895     6983          0           0   \n",
       "\n",
       "   Fatality Rate  \n",
       "0           2.62  \n",
       "1           0.81  \n",
       "2           1.36  \n",
       "3           1.54  \n",
       "4           1.46  "
      ]
     },
     "execution_count": 13,
     "metadata": {},
     "output_type": "execute_result"
    }
   ],
   "source": [
    "#hide\n",
    "df_table.head()"
   ]
  },
  {
   "cell_type": "code",
   "execution_count": 14,
   "metadata": {
    "execution": {
     "iopub.execute_input": "2020-10-30T15:17:26.620934Z",
     "iopub.status.busy": "2020-10-30T15:17:26.620399Z",
     "iopub.status.idle": "2020-10-30T15:17:26.636735Z",
     "shell.execute_reply": "2020-10-30T15:17:26.636246Z"
    },
    "papermill": {
     "duration": 0.036969,
     "end_time": "2020-10-30T15:17:26.636857",
     "exception": false,
     "start_time": "2020-10-30T15:17:26.599888",
     "status": "completed"
    },
    "tags": []
   },
   "outputs": [
    {
     "data": {
      "text/plain": [
       "{'updated': '2020-10-30',\n",
       " 'since': '2020-10-29',\n",
       " 'Cases': 8094643,\n",
       " 'PCases': 8088049,\n",
       " 'Deaths': 121212,\n",
       " 'PDeaths': 121131,\n",
       " 'Cases (+)': 6594,\n",
       " 'Deaths (+)': 81}"
      ]
     },
     "execution_count": 14,
     "metadata": {},
     "output_type": "execute_result"
    }
   ],
   "source": [
    "#hide\n",
    "summary = {'updated':dates[-1], 'since':dates[-2]}\n",
    "list_names = ['Cases', 'PCases', 'Deaths', 'PDeaths', 'Cases (+)', 'Deaths (+)']\n",
    "for name in list_names:\n",
    "    summary[name] = df_table.sum()[name]\n",
    "summary"
   ]
  },
  {
   "cell_type": "code",
   "execution_count": 15,
   "metadata": {
    "execution": {
     "iopub.execute_input": "2020-10-30T15:17:26.675659Z",
     "iopub.status.busy": "2020-10-30T15:17:26.675060Z",
     "iopub.status.idle": "2020-10-30T15:17:26.676277Z",
     "shell.execute_reply": "2020-10-30T15:17:26.676731Z"
    },
    "papermill": {
     "duration": 0.023918,
     "end_time": "2020-10-30T15:17:26.676870",
     "exception": false,
     "start_time": "2020-10-30T15:17:26.652952",
     "status": "completed"
    },
    "tags": []
   },
   "outputs": [],
   "source": [
    "#hide\n",
    "overview = '''\n",
    "<!-- #######  HTML!! #########-->\n",
    "<h1 style=\"color: #5e9ca0; text-align: center;\">India</h1>\n",
    "<p style=\"text-align: center;\">Last update: <strong>{update}</strong></p>\n",
    "<p style=\"text-align: center;\">Confirmed cases:</p>\n",
    "<p style=\"text-align: center;font-size:24px;\">{cases} (<span style=\"color: #ff0000;\">+{new}</span>)</p>\n",
    "<p style=\"text-align: center;\">Confirmed deaths:</p>\n",
    "<p style=\"text-align: center;font-size:24px;\">{deaths} (<span style=\"color: #ff0000;\">+{dnew}</span>)</p>\n",
    "'''"
   ]
  },
  {
   "cell_type": "code",
   "execution_count": 16,
   "metadata": {
    "execution": {
     "iopub.execute_input": "2020-10-30T15:17:26.718536Z",
     "iopub.status.busy": "2020-10-30T15:17:26.717938Z",
     "iopub.status.idle": "2020-10-30T15:17:26.720972Z",
     "shell.execute_reply": "2020-10-30T15:17:26.720516Z"
    },
    "papermill": {
     "duration": 0.028065,
     "end_time": "2020-10-30T15:17:26.721112",
     "exception": false,
     "start_time": "2020-10-30T15:17:26.693047",
     "status": "completed"
    },
    "tags": []
   },
   "outputs": [
    {
     "data": {
      "text/html": [
       "\n",
       "<!-- #######  HTML!! #########-->\n",
       "<h1 style=\"color: #5e9ca0; text-align: center;\">India</h1>\n",
       "<p style=\"text-align: center;\">Last update: <strong>2020-10-30</strong></p>\n",
       "<p style=\"text-align: center;\">Confirmed cases:</p>\n",
       "<p style=\"text-align: center;font-size:24px;\">8094643 (<span style=\"color: #ff0000;\">+6594</span>)</p>\n",
       "<p style=\"text-align: center;\">Confirmed deaths:</p>\n",
       "<p style=\"text-align: center;font-size:24px;\">121212 (<span style=\"color: #ff0000;\">+81</span>)</p>\n"
      ],
      "text/plain": [
       "<IPython.core.display.HTML object>"
      ]
     },
     "metadata": {},
     "output_type": "display_data"
    }
   ],
   "source": [
    "#hide_input\n",
    "update = summary['updated']\n",
    "cases = summary['Cases']\n",
    "new = summary['Cases (+)']\n",
    "deaths = summary['Deaths']\n",
    "dnew = summary['Deaths (+)']\n",
    "\n",
    "html = HTML(overview.format(update=update, cases=cases,new=new,deaths=deaths,dnew=dnew))\n",
    "\n",
    "display(html)"
   ]
  },
  {
   "cell_type": "code",
   "execution_count": 17,
   "metadata": {
    "execution": {
     "iopub.execute_input": "2020-10-30T15:17:26.762723Z",
     "iopub.status.busy": "2020-10-30T15:17:26.762117Z",
     "iopub.status.idle": "2020-10-30T15:17:26.767776Z",
     "shell.execute_reply": "2020-10-30T15:17:26.768218Z"
    },
    "papermill": {
     "duration": 0.030747,
     "end_time": "2020-10-30T15:17:26.768365",
     "exception": false,
     "start_time": "2020-10-30T15:17:26.737618",
     "status": "completed"
    },
    "tags": []
   },
   "outputs": [],
   "source": [
    "#hide\n",
    "dt_cols = list(dft_cases.columns[1:])\n",
    "dft_ct_new_cases = dft_cases.groupby('state')[dt_cols].sum().diff(axis=1).fillna(0).astype(int)\n",
    "dft_ct_new_cases.sort_values(by = dates[-1], ascending = False,inplace = True)"
   ]
  },
  {
   "cell_type": "code",
   "execution_count": 18,
   "metadata": {
    "execution": {
     "iopub.execute_input": "2020-10-30T15:17:26.821263Z",
     "iopub.status.busy": "2020-10-30T15:17:26.809869Z",
     "iopub.status.idle": "2020-10-30T15:17:26.824434Z",
     "shell.execute_reply": "2020-10-30T15:17:26.823952Z"
    },
    "papermill": {
     "duration": 0.039858,
     "end_time": "2020-10-30T15:17:26.824557",
     "exception": false,
     "start_time": "2020-10-30T15:17:26.784699",
     "status": "completed"
    },
    "tags": []
   },
   "outputs": [
    {
     "data": {
      "text/html": [
       "<div>\n",
       "<style scoped>\n",
       "    .dataframe tbody tr th:only-of-type {\n",
       "        vertical-align: middle;\n",
       "    }\n",
       "\n",
       "    .dataframe tbody tr th {\n",
       "        vertical-align: top;\n",
       "    }\n",
       "\n",
       "    .dataframe thead th {\n",
       "        text-align: right;\n",
       "    }\n",
       "</style>\n",
       "<table border=\"1\" class=\"dataframe\">\n",
       "  <thead>\n",
       "    <tr style=\"text-align: right;\">\n",
       "      <th>states</th>\n",
       "      <th>2020-07-01</th>\n",
       "      <th>2020-07-02</th>\n",
       "      <th>2020-07-03</th>\n",
       "      <th>2020-07-04</th>\n",
       "      <th>2020-07-05</th>\n",
       "      <th>2020-07-06</th>\n",
       "      <th>2020-07-07</th>\n",
       "      <th>2020-07-08</th>\n",
       "      <th>2020-07-09</th>\n",
       "      <th>2020-07-10</th>\n",
       "      <th>...</th>\n",
       "      <th>2020-10-21</th>\n",
       "      <th>2020-10-22</th>\n",
       "      <th>2020-10-23</th>\n",
       "      <th>2020-10-24</th>\n",
       "      <th>2020-10-25</th>\n",
       "      <th>2020-10-26</th>\n",
       "      <th>2020-10-27</th>\n",
       "      <th>2020-10-28</th>\n",
       "      <th>2020-10-29</th>\n",
       "      <th>2020-10-30</th>\n",
       "    </tr>\n",
       "    <tr>\n",
       "      <th>state</th>\n",
       "      <th></th>\n",
       "      <th></th>\n",
       "      <th></th>\n",
       "      <th></th>\n",
       "      <th></th>\n",
       "      <th></th>\n",
       "      <th></th>\n",
       "      <th></th>\n",
       "      <th></th>\n",
       "      <th></th>\n",
       "      <th></th>\n",
       "      <th></th>\n",
       "      <th></th>\n",
       "      <th></th>\n",
       "      <th></th>\n",
       "      <th></th>\n",
       "      <th></th>\n",
       "      <th></th>\n",
       "      <th></th>\n",
       "      <th></th>\n",
       "      <th></th>\n",
       "    </tr>\n",
       "  </thead>\n",
       "  <tbody>\n",
       "    <tr>\n",
       "      <th>West Bengal</th>\n",
       "      <td>0</td>\n",
       "      <td>649</td>\n",
       "      <td>669</td>\n",
       "      <td>743</td>\n",
       "      <td>895</td>\n",
       "      <td>861</td>\n",
       "      <td>850</td>\n",
       "      <td>986</td>\n",
       "      <td>1088</td>\n",
       "      <td>1198</td>\n",
       "      <td>...</td>\n",
       "      <td>4069</td>\n",
       "      <td>4157</td>\n",
       "      <td>4143</td>\n",
       "      <td>4148</td>\n",
       "      <td>4127</td>\n",
       "      <td>4121</td>\n",
       "      <td>3957</td>\n",
       "      <td>3924</td>\n",
       "      <td>3989</td>\n",
       "      <td>3979</td>\n",
       "    </tr>\n",
       "    <tr>\n",
       "      <th>Odisha</th>\n",
       "      <td>0</td>\n",
       "      <td>229</td>\n",
       "      <td>561</td>\n",
       "      <td>495</td>\n",
       "      <td>469</td>\n",
       "      <td>456</td>\n",
       "      <td>571</td>\n",
       "      <td>527</td>\n",
       "      <td>577</td>\n",
       "      <td>755</td>\n",
       "      <td>...</td>\n",
       "      <td>1931</td>\n",
       "      <td>1913</td>\n",
       "      <td>1793</td>\n",
       "      <td>1695</td>\n",
       "      <td>1633</td>\n",
       "      <td>1480</td>\n",
       "      <td>1247</td>\n",
       "      <td>1540</td>\n",
       "      <td>1617</td>\n",
       "      <td>1547</td>\n",
       "    </tr>\n",
       "    <tr>\n",
       "      <th>Jammu and Kashmir</th>\n",
       "      <td>0</td>\n",
       "      <td>154</td>\n",
       "      <td>170</td>\n",
       "      <td>227</td>\n",
       "      <td>183</td>\n",
       "      <td>246</td>\n",
       "      <td>256</td>\n",
       "      <td>330</td>\n",
       "      <td>240</td>\n",
       "      <td>387</td>\n",
       "      <td>...</td>\n",
       "      <td>624</td>\n",
       "      <td>584</td>\n",
       "      <td>586</td>\n",
       "      <td>577</td>\n",
       "      <td>532</td>\n",
       "      <td>364</td>\n",
       "      <td>452</td>\n",
       "      <td>536</td>\n",
       "      <td>551</td>\n",
       "      <td>566</td>\n",
       "    </tr>\n",
       "    <tr>\n",
       "      <th>Goa</th>\n",
       "      <td>0</td>\n",
       "      <td>95</td>\n",
       "      <td>94</td>\n",
       "      <td>108</td>\n",
       "      <td>77</td>\n",
       "      <td>52</td>\n",
       "      <td>90</td>\n",
       "      <td>136</td>\n",
       "      <td>112</td>\n",
       "      <td>100</td>\n",
       "      <td>...</td>\n",
       "      <td>308</td>\n",
       "      <td>247</td>\n",
       "      <td>227</td>\n",
       "      <td>218</td>\n",
       "      <td>211</td>\n",
       "      <td>290</td>\n",
       "      <td>215</td>\n",
       "      <td>221</td>\n",
       "      <td>233</td>\n",
       "      <td>215</td>\n",
       "    </tr>\n",
       "    <tr>\n",
       "      <th>Puducherry</th>\n",
       "      <td>0</td>\n",
       "      <td>63</td>\n",
       "      <td>22</td>\n",
       "      <td>80</td>\n",
       "      <td>42</td>\n",
       "      <td>65</td>\n",
       "      <td>30</td>\n",
       "      <td>110</td>\n",
       "      <td>49</td>\n",
       "      <td>72</td>\n",
       "      <td>...</td>\n",
       "      <td>170</td>\n",
       "      <td>210</td>\n",
       "      <td>154</td>\n",
       "      <td>126</td>\n",
       "      <td>81</td>\n",
       "      <td>143</td>\n",
       "      <td>146</td>\n",
       "      <td>101</td>\n",
       "      <td>178</td>\n",
       "      <td>147</td>\n",
       "    </tr>\n",
       "  </tbody>\n",
       "</table>\n",
       "<p>5 rows × 122 columns</p>\n",
       "</div>"
      ],
      "text/plain": [
       "states             2020-07-01  2020-07-02  2020-07-03  2020-07-04  2020-07-05  \\\n",
       "state                                                                           \n",
       "West Bengal                 0         649         669         743         895   \n",
       "Odisha                      0         229         561         495         469   \n",
       "Jammu and Kashmir           0         154         170         227         183   \n",
       "Goa                         0          95          94         108          77   \n",
       "Puducherry                  0          63          22          80          42   \n",
       "\n",
       "states             2020-07-06  2020-07-07  2020-07-08  2020-07-09  2020-07-10  \\\n",
       "state                                                                           \n",
       "West Bengal               861         850         986        1088        1198   \n",
       "Odisha                    456         571         527         577         755   \n",
       "Jammu and Kashmir         246         256         330         240         387   \n",
       "Goa                        52          90         136         112         100   \n",
       "Puducherry                 65          30         110          49          72   \n",
       "\n",
       "states             ...  2020-10-21  2020-10-22  2020-10-23  2020-10-24  \\\n",
       "state              ...                                                   \n",
       "West Bengal        ...        4069        4157        4143        4148   \n",
       "Odisha             ...        1931        1913        1793        1695   \n",
       "Jammu and Kashmir  ...         624         584         586         577   \n",
       "Goa                ...         308         247         227         218   \n",
       "Puducherry         ...         170         210         154         126   \n",
       "\n",
       "states             2020-10-25  2020-10-26  2020-10-27  2020-10-28  2020-10-29  \\\n",
       "state                                                                           \n",
       "West Bengal              4127        4121        3957        3924        3989   \n",
       "Odisha                   1633        1480        1247        1540        1617   \n",
       "Jammu and Kashmir         532         364         452         536         551   \n",
       "Goa                       211         290         215         221         233   \n",
       "Puducherry                 81         143         146         101         178   \n",
       "\n",
       "states             2020-10-30  \n",
       "state                          \n",
       "West Bengal              3979  \n",
       "Odisha                   1547  \n",
       "Jammu and Kashmir         566  \n",
       "Goa                       215  \n",
       "Puducherry                147  \n",
       "\n",
       "[5 rows x 122 columns]"
      ]
     },
     "execution_count": 18,
     "metadata": {},
     "output_type": "execute_result"
    }
   ],
   "source": [
    "#hide\n",
    "dft_ct_new_cases.head()"
   ]
  },
  {
   "cell_type": "code",
   "execution_count": 19,
   "metadata": {
    "execution": {
     "iopub.execute_input": "2020-10-30T15:17:26.861601Z",
     "iopub.status.busy": "2020-10-30T15:17:26.860937Z",
     "iopub.status.idle": "2020-10-30T15:17:31.337518Z",
     "shell.execute_reply": "2020-10-30T15:17:31.337992Z"
    },
    "papermill": {
     "duration": 4.497001,
     "end_time": "2020-10-30T15:17:31.338150",
     "exception": false,
     "start_time": "2020-10-30T15:17:26.841149",
     "status": "completed"
    },
    "tags": []
   },
   "outputs": [
    {
     "data": {
      "image/png": "[encoded data removed]",
      "text/plain": [
       "<Figure size 1296x2016 with 11 Axes>"
      ]
     },
     "metadata": {
      "needs_background": "light"
     },
     "output_type": "display_data"
    }
   ],
   "source": [
    "#hide_input\n",
    "df = dft_ct_new_cases.copy()\n",
    "df.loc['Total'] = df.sum()\n",
    "n = 5\n",
    "ax = []\n",
    "fig = plt.figure(figsize = (18,28))\n",
    "gs = fig.add_gridspec(n+2, 5)\n",
    "# gs = fig.add_gridspec(2, 3)\n",
    "ax1 = fig.add_subplot(gs[0, :])\n",
    "ef = df.loc['Total'].rename_axis('date').reset_index()\n",
    "ef['date'] = ef['date'].astype('datetime64[ns]')\n",
    "ax1.bar(ef.date,ef.Total,alpha=0.3,color='#007acc')\n",
    "ax1.plot(ef.date,ef.Total , marker=\"o\", color='#007acc')\n",
    "ax1.xaxis.set_major_locator(mdates.WeekdayLocator())\n",
    "ax1.xaxis.set_major_formatter(mdates.DateFormatter('%b %d'))\n",
    "ax1.text(0.02, 0.5,'India daily case count', transform = ax1.transAxes, fontsize=25);\n",
    "ax1.spines['right'].set_visible(False)\n",
    "ax1.spines['top'].set_visible(False)\n",
    "\n",
    "ax2 = fig.add_subplot(gs[1,0])\n",
    "ef = df.loc['Maharashtra'].rename_axis('date').reset_index()\n",
    "ef['date'] = ef['date'].astype('datetime64[ns]')\n",
    "\n",
    "ax2.bar(ef.date, ef.Maharashtra,color = '#007acc',alpha=0.5)\n",
    "ax2.xaxis.set_major_locator(mdates.WeekdayLocator())\n",
    "ax2.xaxis.set_major_formatter(mdates.DateFormatter('%b %d'))\n",
    "ax2.set_xticks(ax2.get_xticks()[::3])\n",
    "maxyval = ef.Maharashtra.max()\n",
    "ax2.set_ylim([0,maxyval])\n",
    "ax2.text(0.05, 0.9,'Maharashtra', transform = ax2.transAxes, fontsize=20);\n",
    "ax2.spines['right'].set_visible(False)\n",
    "ax2.spines['top'].set_visible(False)\n",
    "\n",
    "\n",
    "ax3 = fig.add_subplot(gs[1,1])\n",
    "ef = df.loc['Tamil Nadu'].rename_axis('date').reset_index()\n",
    "ef['date'] = ef['date'].astype('datetime64[ns]')\n",
    "ax3.bar(ef.date, ef['Tamil Nadu'],color = '#007acc',alpha=0.5,)\n",
    "ax3.xaxis.set_major_locator(mdates.WeekdayLocator())\n",
    "ax3.xaxis.set_major_formatter(mdates.DateFormatter('%b %d'))\n",
    "ax3.set_xticks(ax3.get_xticks()[::3])\n",
    "ax3.text(0.05, 0.9,'Tamil Nadu', transform = ax3.transAxes, fontsize=20);\n",
    "ax3.spines['right'].set_visible(False)\n",
    "ax3.spines['top'].set_visible(False)\n",
    "\n",
    "ax5 = fig.add_subplot(gs[1,3])\n",
    "ef = df.loc['Telangana'].rename_axis('date').reset_index()\n",
    "ef['date'] = ef['date'].astype('datetime64[ns]')\n",
    "ax5.bar(ef.date, ef['Telangana'],color = '#007acc',alpha=0.5,)\n",
    "ax5.xaxis.set_major_locator(mdates.WeekdayLocator())\n",
    "ax5.xaxis.set_major_formatter(mdates.DateFormatter('%b %d'))\n",
    "ax5.set_xticks(ax5.get_xticks()[::3])\n",
    "ax5.text(0.05, 0.9,'Telangana', transform = ax5.transAxes, fontsize=20);\n",
    "ax5.spines['right'].set_visible(False)\n",
    "ax5.spines['top'].set_visible(False)\n",
    "\n",
    "ax6 = fig.add_subplot(gs[1,4])\n",
    "ef = df.loc['Andhra Pradesh'].rename_axis('date').reset_index()\n",
    "ef['date'] = ef['date'].astype('datetime64[ns]')\n",
    "ax6.bar(ef.date, ef['Andhra Pradesh'],color = '#007acc',alpha=0.5,)\n",
    "ax6.xaxis.set_major_locator(mdates.WeekdayLocator())\n",
    "ax6.xaxis.set_major_formatter(mdates.DateFormatter('%b %d'))\n",
    "ax6.set_xticks(ax6.get_xticks()[::3])\n",
    "ax6.text(0.05, 1,'Andhra Pradesh', transform = ax6.transAxes, fontsize=20);\n",
    "ax6.spines['right'].set_visible(False)\n",
    "ax6.spines['top'].set_visible(False)\n",
    "\n",
    "ax4 = fig.add_subplot(gs[1,2])\n",
    "ef = df.loc['Delhi'].rename_axis('date').reset_index()\n",
    "ef['date'] = ef['date'].astype('datetime64[ns]')\n",
    "ax4.bar(ef.date, ef.Delhi,color = '#007acc',alpha=0.5)\n",
    "ax4.set_xticks([])\n",
    "ax4.xaxis.set_major_locator(mdates.WeekdayLocator())\n",
    "ax4.xaxis.set_major_formatter(mdates.DateFormatter('%b %d'))\n",
    "ax4.set_xticks(ax4.get_xticks()[::3])\n",
    "ax4.spines['right'].set_visible(False)\n",
    "ax4.spines['top'].set_visible(False)\n",
    "\n",
    "ax4.text(0.05, 1,'Delhi', transform = ax4.transAxes, fontsize=20)\n",
    "\n",
    "for i in range(n):\n",
    "    \n",
    "    ax.append(fig.add_subplot(gs[i+2,:]))\n",
    "    ef = df.iloc[i+3].rename_axis('date').reset_index()\n",
    "    ef['date'] = ef['date'].astype('datetime64[ns]')\n",
    "    ax[i].bar(ef.date,ef.iloc[:,-1],color = '#007acc',alpha=0.3)\n",
    "    ax[i].plot(ef.date,ef.iloc[:,-1],marker='o',color='#007acc')\n",
    "    ax[i].text(0.02,0.5,f'{ef.columns.values[-1]}',transform = ax[i].transAxes, fontsize = 20);\n",
    "    ax[i].xaxis.set_major_locator(mdates.WeekdayLocator())\n",
    "    ax[i].xaxis.set_major_formatter(mdates.DateFormatter('%b %d'))\n",
    "    ax[i].set_ylim([0,7000])\n",
    "    ax[i].spines['right'].set_visible(False)\n",
    "    ax[i].spines['top'].set_visible(False)\n",
    "plt.tight_layout()\n"
   ]
  },
  {
   "cell_type": "code",
   "execution_count": 20,
   "metadata": {
    "execution": {
     "iopub.execute_input": "2020-10-30T15:17:31.395341Z",
     "iopub.status.busy": "2020-10-30T15:17:31.394594Z",
     "iopub.status.idle": "2020-10-30T15:17:31.399512Z",
     "shell.execute_reply": "2020-10-30T15:17:31.399028Z"
    },
    "papermill": {
     "duration": 0.038124,
     "end_time": "2020-10-30T15:17:31.399647",
     "exception": false,
     "start_time": "2020-10-30T15:17:31.361523",
     "status": "completed"
    },
    "tags": []
   },
   "outputs": [
    {
     "name": "stdout",
     "output_type": "stream",
     "text": [
      "                                   states    Cases  Deaths   PCases  PDeaths  Cases (+)  Deaths (+)  Fatality Rate\n",
      "                              Maharashtra  1666668   43710  1666668    43710          0           0           2.62\n",
      "                           Andhra Pradesh   817679    6659   817679     6659          0           0           0.81\n",
      "                                Karnataka   816809   11091   816809    11091          0           0           1.36\n",
      "                               Tamil Nadu   719403   11053   719403    11053          0           0           1.54\n",
      "                            Uttar Pradesh   477895    6983   477895     6983          0           0           1.46\n",
      "                                   Kerala   418485    1430   418485     1430          0           0           0.34\n",
      "                                    Delhi   375753    6423   375753     6423          0           0           1.71\n",
      "                              West Bengal   369671    6784   365692     6725       3979          59           1.84\n",
      "                                   Odisha   288646    1361   287099     1350       1547          11           0.47\n",
      "                                Telangana   235656    1324   235656     1324          0           0           0.56\n",
      "                                    Bihar   214946    1076   214946     1076          0           0           0.50\n",
      "                                    Assam   205635     923   205635      923          0           0           0.45\n",
      "                                Rajasthan   193419    1888   193419     1888          0           0           0.98\n",
      "                             Chhattisgarh   183588    1989   183588     1989          0           0           1.08\n",
      "                                  Gujarat   171040    3708   171040     3708          0           0           2.17\n",
      "                           Madhya Pradesh   169999    2929   169999     2929          0           0           1.72\n",
      "                                  Haryana   163817    1766   163817     1766          0           0           1.08\n",
      "                                   Punjab   132727    4168   132727     4168          0           0           3.14\n",
      "                                Jharkhand   100964     883   100964      883          0           0           0.87\n",
      "                        Jammu and Kashmir    94330    1471    93764     1466        566           5           1.56\n",
      "                              Uttarakhand    61566    1009    61566     1009          0           0           1.64\n",
      "                                      Goa    43416     602    43201      597        215           5           1.39\n",
      "                               Puducherry    34908     592    34761      592        147           0           1.70\n",
      "                                  Tripura    30660     343    30563      342         97           1           1.12\n",
      "                         Himachal Pradesh    21476     301    21476      301          0           0           1.40\n",
      "                                  Manipur    18051     160    18051      160          0           0           0.89\n",
      "                        Arunachal Pradesh    14668      37    14668       37          0           0           0.25\n",
      "                               Chandigarh    14292     225    14292      225          0           0           1.57\n",
      "                                Meghalaya     9305      87     9305       87          0           0           0.93\n",
      "                                 Nagaland     8894      35     8894       35          0           0           0.39\n",
      "                                   Ladakh     6139      73     6139       73          0           0           1.19\n",
      "              Andaman and Nicobar Islands     4305      59     4305       59          0           0           1.37\n",
      "                                   Sikkim     3893      67     3893       67          0           0           1.72\n",
      " Dadra and Nagar Haveli and Daman and Diu     3246       2     3241        2          5           0           0.06\n",
      "                                  Mizoram     2694       1     2656        1         38           0           0.04\n",
      "                              Lakshadweep        0       0        0        0          0           0            NaN\n"
     ]
    }
   ],
   "source": [
    "#hide_input\n",
    "print(df_table.to_string(index=False))"
   ]
  },
  {
   "cell_type": "code",
   "execution_count": null,
   "metadata": {
    "papermill": {
     "duration": 0.024001,
     "end_time": "2020-10-30T15:17:31.446956",
     "exception": false,
     "start_time": "2020-10-30T15:17:31.422955",
     "status": "completed"
    },
    "tags": []
   },
   "outputs": [],
   "source": []
  },
  {
   "cell_type": "code",
   "execution_count": null,
   "metadata": {
    "papermill": {
     "duration": 0.029722,
     "end_time": "2020-10-30T15:17:31.499618",
     "exception": false,
     "start_time": "2020-10-30T15:17:31.469896",
     "status": "completed"
    },
    "tags": []
   },
   "outputs": [],
   "source": []
  }
 ],
 "metadata": {
  "kernelspec": {
   "display_name": "Python 3",
   "language": "python",
   "name": "python3"
  },
  "language_info": {
   "codemirror_mode": {
    "name": "ipython",
    "version": 3
   },
   "file_extension": ".py",
   "mimetype": "text/x-python",
   "name": "python",
   "nbconvert_exporter": "python",
   "pygments_lexer": "ipython3",
   "version": "3.6.12"
  },
  "papermill": {
   "duration": 11.270417,
   "end_time": "2020-10-30T15:17:32.033815",
   "environment_variables": {},
   "exception": null,
   "input_path": "latest.ipynb",
   "output_path": "latest.ipynb",
   "parameters": {},
   "start_time": "2020-10-30T15:17:20.763398",
   "version": "2.1.2"
  }
 },
 "nbformat": 4,
 "nbformat_minor": 4
}