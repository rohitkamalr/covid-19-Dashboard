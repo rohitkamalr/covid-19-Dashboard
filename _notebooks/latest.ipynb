{
 "cells": [
  {
   "cell_type": "markdown",
   "id": "colored-stack",
   "metadata": {
    "papermill": {
     "duration": 0.023415,
     "end_time": "2021-03-08T12:33:33.615960",
     "exception": false,
     "start_time": "2021-03-08T12:33:33.592545",
     "status": "completed"
    },
    "tags": []
   },
   "source": [
    "# Latest COVID-19 India Matplotlib Overview"
   ]
  },
  {
   "cell_type": "code",
   "execution_count": 1,
   "id": "light-proportion",
   "metadata": {
    "execution": {
     "iopub.execute_input": "2021-03-08T12:33:33.672484Z",
     "iopub.status.busy": "2021-03-08T12:33:33.671825Z",
     "iopub.status.idle": "2021-03-08T12:33:34.315963Z",
     "shell.execute_reply": "2021-03-08T12:33:34.315075Z"
    },
    "papermill": {
     "duration": 0.681823,
     "end_time": "2021-03-08T12:33:34.316205",
     "exception": false,
     "start_time": "2021-03-08T12:33:33.634382",
     "status": "completed"
    },
    "tags": []
   },
   "outputs": [],
   "source": [
    "#hide\n",
    "import pandas as pd\n",
    "import numpy as np\n",
    "import requests\n",
    "import json\n",
    "import matplotlib.pyplot as plt\n",
    "import matplotlib.dates as mdates\n",
    "import matplotlib as mpl\n",
    "from IPython.core.display import display,HTML\n",
    "%matplotlib inline\n",
    "from datetime import date"
   ]
  },
  {
   "cell_type": "code",
   "execution_count": 2,
   "id": "greenhouse-shooting",
   "metadata": {
    "execution": {
     "iopub.execute_input": "2021-03-08T12:33:34.359722Z",
     "iopub.status.busy": "2021-03-08T12:33:34.359092Z",
     "iopub.status.idle": "2021-03-08T12:33:34.605864Z",
     "shell.execute_reply": "2021-03-08T12:33:34.606356Z"
    },
    "papermill": {
     "duration": 0.271768,
     "end_time": "2021-03-08T12:33:34.606505",
     "exception": false,
     "start_time": "2021-03-08T12:33:34.334737",
     "status": "completed"
    },
    "tags": []
   },
   "outputs": [],
   "source": [
    "#hide\n",
    "df  = pd.read_csv('https://api.covid19india.org/csv/latest/states.csv')\n",
    "df = df[['Date','State','Confirmed','Deceased']]\n",
    "df = df.rename(columns={'Confirmed':'Cases', \"Deceased\":'Deaths'})\n",
    "df_cases = df[[\"Date\",'State','Cases']]\n",
    "df_deaths = df[['Date','State','Deaths']]\n",
    "df_cases1 = df_cases.groupby('Date')\n",
    "df_deaths1= df_deaths.groupby('Date')"
   ]
  },
  {
   "cell_type": "code",
   "execution_count": 3,
   "id": "hybrid-cathedral",
   "metadata": {
    "execution": {
     "iopub.execute_input": "2021-03-08T12:33:34.645538Z",
     "iopub.status.busy": "2021-03-08T12:33:34.644944Z",
     "iopub.status.idle": "2021-03-08T12:33:34.662442Z",
     "shell.execute_reply": "2021-03-08T12:33:34.661940Z"
    },
    "papermill": {
     "duration": 0.038969,
     "end_time": "2021-03-08T12:33:34.662573",
     "exception": false,
     "start_time": "2021-03-08T12:33:34.623604",
     "status": "completed"
    },
    "tags": []
   },
   "outputs": [],
   "source": [
    "#hide\n",
    "df_snap = pd.read_csv('data/SnapshotCases-28-July.csv')\n",
    "arr_states = df_snap['states'].unique()\n",
    "arr_dates = df['Date'].unique()\n",
    "df_snap = df_snap.set_index('states')"
   ]
  },
  {
   "cell_type": "code",
   "execution_count": 4,
   "id": "interior-belfast",
   "metadata": {
    "execution": {
     "iopub.execute_input": "2021-03-08T12:33:34.705968Z",
     "iopub.status.busy": "2021-03-08T12:33:34.700033Z",
     "iopub.status.idle": "2021-03-08T12:33:34.709363Z",
     "shell.execute_reply": "2021-03-08T12:33:34.708874Z"
    },
    "papermill": {
     "duration": 0.02985,
     "end_time": "2021-03-08T12:33:34.709494",
     "exception": false,
     "start_time": "2021-03-08T12:33:34.679644",
     "status": "completed"
    },
    "tags": []
   },
   "outputs": [
    {
     "data": {
      "text/plain": [
       "array(['Andaman and Nicobar Islands', 'Andhra Pradesh',\n",
       "       'Arunachal Pradesh', 'Assam', 'Bihar', 'Chandigarh',\n",
       "       'Dadra and Nagar Haveli and Daman and Diu', 'Delhi', 'Goa',\n",
       "       'Gujarat', 'Haryana', 'Himachal Pradesh', 'Jammu and Kashmir',\n",
       "       'Jharkhand', 'Karnataka', 'Kerala', 'Lakshadweep',\n",
       "       'Madhya Pradesh', 'Maharashtra', 'Manipur', 'Meghalaya', 'Mizoram',\n",
       "       'Nagaland', 'Odisha', 'Puducherry', 'Punjab', 'Rajasthan',\n",
       "       'Sikkim', 'Tamil Nadu', 'Telangana', 'Tripura', 'Uttar Pradesh',\n",
       "       'West Bengal', 'Chhattisgarh', 'Ladakh', 'Uttarakhand'],\n",
       "      dtype=object)"
      ]
     },
     "execution_count": 4,
     "metadata": {},
     "output_type": "execute_result"
    }
   ],
   "source": [
    "#hide\n",
    "arr_states[-9] = 'Puducherry'\n",
    "arr_states[-10] = 'Odisha'\n",
    "arr_states[6] = 'Dadra and Nagar Haveli and Daman and Diu'\n",
    "arr_states = np.append(arr_states,np.array(['Chhattisgarh','Ladakh','Uttarakhand']))\n",
    "arr_states"
   ]
  },
  {
   "cell_type": "code",
   "execution_count": 5,
   "id": "behind-manner",
   "metadata": {
    "execution": {
     "iopub.execute_input": "2021-03-08T12:33:34.763696Z",
     "iopub.status.busy": "2021-03-08T12:33:34.756401Z",
     "iopub.status.idle": "2021-03-08T12:33:34.767776Z",
     "shell.execute_reply": "2021-03-08T12:33:34.767223Z"
    },
    "papermill": {
     "duration": 0.040614,
     "end_time": "2021-03-08T12:33:34.767904",
     "exception": false,
     "start_time": "2021-03-08T12:33:34.727290",
     "status": "completed"
    },
    "tags": []
   },
   "outputs": [],
   "source": [
    "#hide\n",
    "dates = []\n",
    "for i in arr_dates:\n",
    "    if i>='2020-07-01':\n",
    "        dates.append(i)\n",
    "dict = {'states':dates}\n",
    "for i in arr_states:\n",
    "    dict[i] = [0]*len(dates)\n",
    "dft_cases = pd.DataFrame(dict)\n",
    "dft_deaths = pd.DataFrame(dict)\n"
   ]
  },
  {
   "cell_type": "code",
   "execution_count": 6,
   "id": "simplified-peter",
   "metadata": {
    "execution": {
     "iopub.execute_input": "2021-03-08T12:33:34.809651Z",
     "iopub.status.busy": "2021-03-08T12:33:34.809046Z",
     "iopub.status.idle": "2021-03-08T12:33:38.263587Z",
     "shell.execute_reply": "2021-03-08T12:33:38.262564Z"
    },
    "papermill": {
     "duration": 3.47816,
     "end_time": "2021-03-08T12:33:38.263723",
     "exception": false,
     "start_time": "2021-03-08T12:33:34.785563",
     "status": "completed"
    },
    "tags": []
   },
   "outputs": [],
   "source": [
    "#hide\n",
    "for i in range(len(dates)):\n",
    "    df1_deaths = df_deaths1.get_group(dates[i])\n",
    "    for j in range(len(df1_deaths.index)):\n",
    "        if df1_deaths.iloc[j,1] in arr_states:\n",
    "            dft_deaths.loc[i,df1_deaths.iloc[j,1]] = df1_deaths.iloc[j,2]\n",
    "dft_deaths = dft_deaths.set_index('states')"
   ]
  },
  {
   "cell_type": "code",
   "execution_count": 7,
   "id": "geological-welding",
   "metadata": {
    "execution": {
     "iopub.execute_input": "2021-03-08T12:33:38.307989Z",
     "iopub.status.busy": "2021-03-08T12:33:38.307244Z",
     "iopub.status.idle": "2021-03-08T12:33:41.764971Z",
     "shell.execute_reply": "2021-03-08T12:33:41.763999Z"
    },
    "papermill": {
     "duration": 3.483915,
     "end_time": "2021-03-08T12:33:41.765115",
     "exception": false,
     "start_time": "2021-03-08T12:33:38.281200",
     "status": "completed"
    },
    "tags": []
   },
   "outputs": [],
   "source": [
    "#hide\n",
    "for i in range(len(dates)):\n",
    "    df1_cases = df_cases1.get_group(dates[i])\n",
    "    for j in range(len(df1_cases.index)):\n",
    "        if df1_cases.iloc[j,1] in arr_states:\n",
    "            dft_cases.loc[i,df1_cases.iloc[j,1]] = df1_cases.iloc[j,2]\n",
    "dft_cases = dft_cases.set_index('states')"
   ]
  },
  {
   "cell_type": "code",
   "execution_count": 8,
   "id": "binary-ratio",
   "metadata": {
    "execution": {
     "iopub.execute_input": "2021-03-08T12:33:41.807416Z",
     "iopub.status.busy": "2021-03-08T12:33:41.806733Z",
     "iopub.status.idle": "2021-03-08T12:33:41.808282Z",
     "shell.execute_reply": "2021-03-08T12:33:41.808841Z"
    },
    "papermill": {
     "duration": 0.026401,
     "end_time": "2021-03-08T12:33:41.808997",
     "exception": false,
     "start_time": "2021-03-08T12:33:41.782596",
     "status": "completed"
    },
    "tags": []
   },
   "outputs": [],
   "source": [
    "#hide\n",
    "dft_cases = dft_cases.T\n",
    "dft_deaths = dft_deaths.T\n",
    "dt_today = dates[-1]\n",
    "dt_yday = dates[-2]"
   ]
  },
  {
   "cell_type": "code",
   "execution_count": 9,
   "id": "boolean-calculator",
   "metadata": {
    "execution": {
     "iopub.execute_input": "2021-03-08T12:33:41.852242Z",
     "iopub.status.busy": "2021-03-08T12:33:41.851650Z",
     "iopub.status.idle": "2021-03-08T12:33:41.857787Z",
     "shell.execute_reply": "2021-03-08T12:33:41.858325Z"
    },
    "papermill": {
     "duration": 0.031315,
     "end_time": "2021-03-08T12:33:41.858468",
     "exception": false,
     "start_time": "2021-03-08T12:33:41.827153",
     "status": "completed"
    },
    "tags": []
   },
   "outputs": [],
   "source": [
    "#hide\n",
    "dft_cases = dft_cases.reset_index()\n",
    "dft_deaths = dft_deaths.reset_index()\n",
    "dft_cases = dft_cases.rename(columns = {'index':'state'})\n",
    "dft_deaths = dft_deaths.rename(columns = {'index':'state'})"
   ]
  },
  {
   "cell_type": "code",
   "execution_count": 10,
   "id": "invisible-johnston",
   "metadata": {
    "execution": {
     "iopub.execute_input": "2021-03-08T12:33:41.908677Z",
     "iopub.status.busy": "2021-03-08T12:33:41.908041Z",
     "iopub.status.idle": "2021-03-08T12:33:41.910464Z",
     "shell.execute_reply": "2021-03-08T12:33:41.909942Z"
    },
    "papermill": {
     "duration": 0.034764,
     "end_time": "2021-03-08T12:33:41.910591",
     "exception": false,
     "start_time": "2021-03-08T12:33:41.875827",
     "status": "completed"
    },
    "tags": []
   },
   "outputs": [],
   "source": [
    "#hide\n",
    "dfc_cases = dft_cases.groupby('state')[dt_today].sum()\n",
    "dfc_deaths = dft_deaths.groupby('state')[dt_today].sum()\n",
    "dfp_cases = dft_cases.groupby('state')[dt_yday].sum()\n",
    "dfp_deaths = dft_deaths.groupby('state')[dt_yday].sum()"
   ]
  },
  {
   "cell_type": "code",
   "execution_count": 11,
   "id": "measured-great",
   "metadata": {
    "execution": {
     "iopub.execute_input": "2021-03-08T12:33:41.964594Z",
     "iopub.status.busy": "2021-03-08T12:33:41.963965Z",
     "iopub.status.idle": "2021-03-08T12:33:41.970951Z",
     "shell.execute_reply": "2021-03-08T12:33:41.970462Z"
    },
    "papermill": {
     "duration": 0.042582,
     "end_time": "2021-03-08T12:33:41.971083",
     "exception": false,
     "start_time": "2021-03-08T12:33:41.928501",
     "status": "completed"
    },
    "tags": []
   },
   "outputs": [
    {
     "data": {
      "text/html": [
       "<div>\n",
       "<style scoped>\n",
       "    .dataframe tbody tr th:only-of-type {\n",
       "        vertical-align: middle;\n",
       "    }\n",
       "\n",
       "    .dataframe tbody tr th {\n",
       "        vertical-align: top;\n",
       "    }\n",
       "\n",
       "    .dataframe thead th {\n",
       "        text-align: right;\n",
       "    }\n",
       "</style>\n",
       "<table border=\"1\" class=\"dataframe\">\n",
       "  <thead>\n",
       "    <tr style=\"text-align: right;\">\n",
       "      <th></th>\n",
       "      <th>states</th>\n",
       "      <th>Cases</th>\n",
       "      <th>Deaths</th>\n",
       "      <th>PCases</th>\n",
       "      <th>PDeaths</th>\n",
       "    </tr>\n",
       "  </thead>\n",
       "  <tbody>\n",
       "    <tr>\n",
       "      <th>0</th>\n",
       "      <td>Maharashtra</td>\n",
       "      <td>2219727</td>\n",
       "      <td>52478</td>\n",
       "      <td>2219727</td>\n",
       "      <td>52478</td>\n",
       "    </tr>\n",
       "    <tr>\n",
       "      <th>1</th>\n",
       "      <td>Kerala</td>\n",
       "      <td>1077328</td>\n",
       "      <td>4301</td>\n",
       "      <td>1077328</td>\n",
       "      <td>4301</td>\n",
       "    </tr>\n",
       "    <tr>\n",
       "      <th>2</th>\n",
       "      <td>Karnataka</td>\n",
       "      <td>955015</td>\n",
       "      <td>12362</td>\n",
       "      <td>955015</td>\n",
       "      <td>12362</td>\n",
       "    </tr>\n",
       "    <tr>\n",
       "      <th>3</th>\n",
       "      <td>Andhra Pradesh</td>\n",
       "      <td>890692</td>\n",
       "      <td>7174</td>\n",
       "      <td>890692</td>\n",
       "      <td>7174</td>\n",
       "    </tr>\n",
       "    <tr>\n",
       "      <th>4</th>\n",
       "      <td>Tamil Nadu</td>\n",
       "      <td>855121</td>\n",
       "      <td>12518</td>\n",
       "      <td>855121</td>\n",
       "      <td>12518</td>\n",
       "    </tr>\n",
       "  </tbody>\n",
       "</table>\n",
       "</div>"
      ],
      "text/plain": [
       "           states    Cases  Deaths   PCases  PDeaths\n",
       "0     Maharashtra  2219727   52478  2219727    52478\n",
       "1          Kerala  1077328    4301  1077328     4301\n",
       "2       Karnataka   955015   12362   955015    12362\n",
       "3  Andhra Pradesh   890692    7174   890692     7174\n",
       "4      Tamil Nadu   855121   12518   855121    12518"
      ]
     },
     "execution_count": 11,
     "metadata": {},
     "output_type": "execute_result"
    }
   ],
   "source": [
    "#hide\n",
    "df_table = pd.DataFrame({'states': dfc_cases.index, 'Cases': dfc_cases.values, 'Deaths': dfc_deaths.values, 'PCases': dfp_cases.values, 'PDeaths': dfp_deaths.values}).set_index('states')\n",
    "df_table = df_table.sort_values(by = ['Cases','Deaths'], ascending = [False, False])\n",
    "df_table = df_table.reset_index()\n",
    "df_table.head()"
   ]
  },
  {
   "cell_type": "code",
   "execution_count": 12,
   "id": "found-montreal",
   "metadata": {
    "execution": {
     "iopub.execute_input": "2021-03-08T12:33:42.012468Z",
     "iopub.status.busy": "2021-03-08T12:33:42.011881Z",
     "iopub.status.idle": "2021-03-08T12:33:42.022668Z",
     "shell.execute_reply": "2021-03-08T12:33:42.023243Z"
    },
    "papermill": {
     "duration": 0.034327,
     "end_time": "2021-03-08T12:33:42.023395",
     "exception": false,
     "start_time": "2021-03-08T12:33:41.989068",
     "status": "completed"
    },
    "tags": []
   },
   "outputs": [],
   "source": [
    "#hide\n",
    "for c in 'Cases, Deaths'.split(', '):\n",
    "    df_table[f'{c} (+)'] = (df_table[c] - df_table[f'P{c}']).clip(0)\n",
    "df_table['Fatality Rate'] = (100* df_table['Deaths']/ df_table['Cases']).round(2)"
   ]
  },
  {
   "cell_type": "code",
   "execution_count": 13,
   "id": "minus-savage",
   "metadata": {
    "execution": {
     "iopub.execute_input": "2021-03-08T12:33:42.070998Z",
     "iopub.status.busy": "2021-03-08T12:33:42.070375Z",
     "iopub.status.idle": "2021-03-08T12:33:42.072683Z",
     "shell.execute_reply": "2021-03-08T12:33:42.073250Z"
    },
    "papermill": {
     "duration": 0.031691,
     "end_time": "2021-03-08T12:33:42.073398",
     "exception": false,
     "start_time": "2021-03-08T12:33:42.041707",
     "status": "completed"
    },
    "tags": []
   },
   "outputs": [
    {
     "data": {
      "text/html": [
       "<div>\n",
       "<style scoped>\n",
       "    .dataframe tbody tr th:only-of-type {\n",
       "        vertical-align: middle;\n",
       "    }\n",
       "\n",
       "    .dataframe tbody tr th {\n",
       "        vertical-align: top;\n",
       "    }\n",
       "\n",
       "    .dataframe thead th {\n",
       "        text-align: right;\n",
       "    }\n",
       "</style>\n",
       "<table border=\"1\" class=\"dataframe\">\n",
       "  <thead>\n",
       "    <tr style=\"text-align: right;\">\n",
       "      <th></th>\n",
       "      <th>states</th>\n",
       "      <th>Cases</th>\n",
       "      <th>Deaths</th>\n",
       "      <th>PCases</th>\n",
       "      <th>PDeaths</th>\n",
       "      <th>Cases (+)</th>\n",
       "      <th>Deaths (+)</th>\n",
       "      <th>Fatality Rate</th>\n",
       "    </tr>\n",
       "  </thead>\n",
       "  <tbody>\n",
       "    <tr>\n",
       "      <th>0</th>\n",
       "      <td>Maharashtra</td>\n",
       "      <td>2219727</td>\n",
       "      <td>52478</td>\n",
       "      <td>2219727</td>\n",
       "      <td>52478</td>\n",
       "      <td>0</td>\n",
       "      <td>0</td>\n",
       "      <td>2.36</td>\n",
       "    </tr>\n",
       "    <tr>\n",
       "      <th>1</th>\n",
       "      <td>Kerala</td>\n",
       "      <td>1077328</td>\n",
       "      <td>4301</td>\n",
       "      <td>1077328</td>\n",
       "      <td>4301</td>\n",
       "      <td>0</td>\n",
       "      <td>0</td>\n",
       "      <td>0.40</td>\n",
       "    </tr>\n",
       "    <tr>\n",
       "      <th>2</th>\n",
       "      <td>Karnataka</td>\n",
       "      <td>955015</td>\n",
       "      <td>12362</td>\n",
       "      <td>955015</td>\n",
       "      <td>12362</td>\n",
       "      <td>0</td>\n",
       "      <td>0</td>\n",
       "      <td>1.29</td>\n",
       "    </tr>\n",
       "    <tr>\n",
       "      <th>3</th>\n",
       "      <td>Andhra Pradesh</td>\n",
       "      <td>890692</td>\n",
       "      <td>7174</td>\n",
       "      <td>890692</td>\n",
       "      <td>7174</td>\n",
       "      <td>0</td>\n",
       "      <td>0</td>\n",
       "      <td>0.81</td>\n",
       "    </tr>\n",
       "    <tr>\n",
       "      <th>4</th>\n",
       "      <td>Tamil Nadu</td>\n",
       "      <td>855121</td>\n",
       "      <td>12518</td>\n",
       "      <td>855121</td>\n",
       "      <td>12518</td>\n",
       "      <td>0</td>\n",
       "      <td>0</td>\n",
       "      <td>1.46</td>\n",
       "    </tr>\n",
       "  </tbody>\n",
       "</table>\n",
       "</div>"
      ],
      "text/plain": [
       "           states    Cases  Deaths   PCases  PDeaths  Cases (+)  Deaths (+)  \\\n",
       "0     Maharashtra  2219727   52478  2219727    52478          0           0   \n",
       "1          Kerala  1077328    4301  1077328     4301          0           0   \n",
       "2       Karnataka   955015   12362   955015    12362          0           0   \n",
       "3  Andhra Pradesh   890692    7174   890692     7174          0           0   \n",
       "4      Tamil Nadu   855121   12518   855121    12518          0           0   \n",
       "\n",
       "   Fatality Rate  \n",
       "0           2.36  \n",
       "1           0.40  \n",
       "2           1.29  \n",
       "3           0.81  \n",
       "4           1.46  "
      ]
     },
     "execution_count": 13,
     "metadata": {},
     "output_type": "execute_result"
    }
   ],
   "source": [
    "#hide\n",
    "df_table.head()"
   ]
  },
  {
   "cell_type": "code",
   "execution_count": 14,
   "id": "false-peter",
   "metadata": {
    "execution": {
     "iopub.execute_input": "2021-03-08T12:33:42.118354Z",
     "iopub.status.busy": "2021-03-08T12:33:42.117716Z",
     "iopub.status.idle": "2021-03-08T12:33:42.134027Z",
     "shell.execute_reply": "2021-03-08T12:33:42.134453Z"
    },
    "papermill": {
     "duration": 0.042791,
     "end_time": "2021-03-08T12:33:42.134604",
     "exception": false,
     "start_time": "2021-03-08T12:33:42.091813",
     "status": "completed"
    },
    "tags": []
   },
   "outputs": [
    {
     "data": {
      "text/plain": [
       "{'updated': '2021-03-08',\n",
       " 'since': '2021-03-07',\n",
       " 'Cases': 11229681,\n",
       " 'PCases': 11229271,\n",
       " 'Deaths': 157894,\n",
       " 'PDeaths': 157890,\n",
       " 'Cases (+)': 410,\n",
       " 'Deaths (+)': 4}"
      ]
     },
     "execution_count": 14,
     "metadata": {},
     "output_type": "execute_result"
    }
   ],
   "source": [
    "#hide\n",
    "summary = {'updated':dates[-1], 'since':dates[-2]}\n",
    "list_names = ['Cases', 'PCases', 'Deaths', 'PDeaths', 'Cases (+)', 'Deaths (+)']\n",
    "for name in list_names:\n",
    "    summary[name] = df_table.sum()[name]\n",
    "summary"
   ]
  },
  {
   "cell_type": "code",
   "execution_count": 15,
   "id": "packed-viewer",
   "metadata": {
    "execution": {
     "iopub.execute_input": "2021-03-08T12:33:42.178430Z",
     "iopub.status.busy": "2021-03-08T12:33:42.177775Z",
     "iopub.status.idle": "2021-03-08T12:33:42.179657Z",
     "shell.execute_reply": "2021-03-08T12:33:42.180126Z"
    },
    "papermill": {
     "duration": 0.026492,
     "end_time": "2021-03-08T12:33:42.180263",
     "exception": false,
     "start_time": "2021-03-08T12:33:42.153771",
     "status": "completed"
    },
    "tags": []
   },
   "outputs": [],
   "source": [
    "#hide\n",
    "overview = '''\n",
    "<!-- #######  HTML!! #########-->\n",
    "<h1 style=\"color: #5e9ca0; text-align: center;\">India</h1>\n",
    "<p style=\"text-align: center;\">Last update: <strong>{update}</strong></p>\n",
    "<p style=\"text-align: center;\">Confirmed cases:</p>\n",
    "<p style=\"text-align: center;font-size:24px;\">{cases} (<span style=\"color: #ff0000;\">+{new}</span>)</p>\n",
    "<p style=\"text-align: center;\">Confirmed deaths:</p>\n",
    "<p style=\"text-align: center;font-size:24px;\">{deaths} (<span style=\"color: #ff0000;\">+{dnew}</span>)</p>\n",
    "'''"
   ]
  },
  {
   "cell_type": "code",
   "execution_count": 16,
   "id": "phantom-lover",
   "metadata": {
    "execution": {
     "iopub.execute_input": "2021-03-08T12:33:42.224465Z",
     "iopub.status.busy": "2021-03-08T12:33:42.223833Z",
     "iopub.status.idle": "2021-03-08T12:33:42.226383Z",
     "shell.execute_reply": "2021-03-08T12:33:42.226895Z"
    },
    "papermill": {
     "duration": 0.027965,
     "end_time": "2021-03-08T12:33:42.227045",
     "exception": false,
     "start_time": "2021-03-08T12:33:42.199080",
     "status": "completed"
    },
    "tags": []
   },
   "outputs": [
    {
     "data": {
      "text/html": [
       "\n",
       "<!-- #######  HTML!! #########-->\n",
       "<h1 style=\"color: #5e9ca0; text-align: center;\">India</h1>\n",
       "<p style=\"text-align: center;\">Last update: <strong>2021-03-08</strong></p>\n",
       "<p style=\"text-align: center;\">Confirmed cases:</p>\n",
       "<p style=\"text-align: center;font-size:24px;\">11229681 (<span style=\"color: #ff0000;\">+410</span>)</p>\n",
       "<p style=\"text-align: center;\">Confirmed deaths:</p>\n",
       "<p style=\"text-align: center;font-size:24px;\">157894 (<span style=\"color: #ff0000;\">+4</span>)</p>\n"
      ],
      "text/plain": [
       "<IPython.core.display.HTML object>"
      ]
     },
     "metadata": {},
     "output_type": "display_data"
    }
   ],
   "source": [
    "#hide_input\n",
    "update = summary['updated']\n",
    "cases = summary['Cases']\n",
    "new = summary['Cases (+)']\n",
    "deaths = summary['Deaths']\n",
    "dnew = summary['Deaths (+)']\n",
    "\n",
    "html = HTML(overview.format(update=update, cases=cases,new=new,deaths=deaths,dnew=dnew))\n",
    "\n",
    "display(html)"
   ]
  },
  {
   "cell_type": "code",
   "execution_count": 17,
   "id": "sealed-reset",
   "metadata": {
    "execution": {
     "iopub.execute_input": "2021-03-08T12:33:42.281435Z",
     "iopub.status.busy": "2021-03-08T12:33:42.280722Z",
     "iopub.status.idle": "2021-03-08T12:33:42.288326Z",
     "shell.execute_reply": "2021-03-08T12:33:42.288824Z"
    },
    "papermill": {
     "duration": 0.039827,
     "end_time": "2021-03-08T12:33:42.288980",
     "exception": false,
     "start_time": "2021-03-08T12:33:42.249153",
     "status": "completed"
    },
    "tags": []
   },
   "outputs": [],
   "source": [
    "#hide\n",
    "dt_cols = list(dft_cases.columns[1:])\n",
    "dft_ct_new_cases = dft_cases.groupby('state')[dt_cols].sum().diff(axis=1).fillna(0).astype(int)\n",
    "dft_ct_new_cases.sort_values(by = dates[-1], ascending = False,inplace = True)"
   ]
  },
  {
   "cell_type": "code",
   "execution_count": 18,
   "id": "designed-constant",
   "metadata": {
    "execution": {
     "iopub.execute_input": "2021-03-08T12:33:42.342184Z",
     "iopub.status.busy": "2021-03-08T12:33:42.341520Z",
     "iopub.status.idle": "2021-03-08T12:33:42.350757Z",
     "shell.execute_reply": "2021-03-08T12:33:42.350238Z"
    },
    "papermill": {
     "duration": 0.041485,
     "end_time": "2021-03-08T12:33:42.350885",
     "exception": false,
     "start_time": "2021-03-08T12:33:42.309400",
     "status": "completed"
    },
    "tags": []
   },
   "outputs": [
    {
     "data": {
      "text/html": [
       "<div>\n",
       "<style scoped>\n",
       "    .dataframe tbody tr th:only-of-type {\n",
       "        vertical-align: middle;\n",
       "    }\n",
       "\n",
       "    .dataframe tbody tr th {\n",
       "        vertical-align: top;\n",
       "    }\n",
       "\n",
       "    .dataframe thead th {\n",
       "        text-align: right;\n",
       "    }\n",
       "</style>\n",
       "<table border=\"1\" class=\"dataframe\">\n",
       "  <thead>\n",
       "    <tr style=\"text-align: right;\">\n",
       "      <th>states</th>\n",
       "      <th>2020-07-01</th>\n",
       "      <th>2020-07-02</th>\n",
       "      <th>2020-07-03</th>\n",
       "      <th>2020-07-04</th>\n",
       "      <th>2020-07-05</th>\n",
       "      <th>2020-07-06</th>\n",
       "      <th>2020-07-07</th>\n",
       "      <th>2020-07-08</th>\n",
       "      <th>2020-07-09</th>\n",
       "      <th>2020-07-10</th>\n",
       "      <th>...</th>\n",
       "      <th>2021-02-27</th>\n",
       "      <th>2021-02-28</th>\n",
       "      <th>2021-03-01</th>\n",
       "      <th>2021-03-02</th>\n",
       "      <th>2021-03-03</th>\n",
       "      <th>2021-03-04</th>\n",
       "      <th>2021-03-05</th>\n",
       "      <th>2021-03-06</th>\n",
       "      <th>2021-03-07</th>\n",
       "      <th>2021-03-08</th>\n",
       "    </tr>\n",
       "    <tr>\n",
       "      <th>state</th>\n",
       "      <th></th>\n",
       "      <th></th>\n",
       "      <th></th>\n",
       "      <th></th>\n",
       "      <th></th>\n",
       "      <th></th>\n",
       "      <th></th>\n",
       "      <th></th>\n",
       "      <th></th>\n",
       "      <th></th>\n",
       "      <th></th>\n",
       "      <th></th>\n",
       "      <th></th>\n",
       "      <th></th>\n",
       "      <th></th>\n",
       "      <th></th>\n",
       "      <th></th>\n",
       "      <th></th>\n",
       "      <th></th>\n",
       "      <th></th>\n",
       "      <th></th>\n",
       "    </tr>\n",
       "  </thead>\n",
       "  <tbody>\n",
       "    <tr>\n",
       "      <th>Delhi</th>\n",
       "      <td>0</td>\n",
       "      <td>2373</td>\n",
       "      <td>2520</td>\n",
       "      <td>2505</td>\n",
       "      <td>2244</td>\n",
       "      <td>1379</td>\n",
       "      <td>2008</td>\n",
       "      <td>2033</td>\n",
       "      <td>2187</td>\n",
       "      <td>2089</td>\n",
       "      <td>...</td>\n",
       "      <td>243</td>\n",
       "      <td>197</td>\n",
       "      <td>175</td>\n",
       "      <td>217</td>\n",
       "      <td>240</td>\n",
       "      <td>261</td>\n",
       "      <td>312</td>\n",
       "      <td>321</td>\n",
       "      <td>286</td>\n",
       "      <td>239</td>\n",
       "    </tr>\n",
       "    <tr>\n",
       "      <th>Telangana</th>\n",
       "      <td>0</td>\n",
       "      <td>1213</td>\n",
       "      <td>1892</td>\n",
       "      <td>1850</td>\n",
       "      <td>1590</td>\n",
       "      <td>1831</td>\n",
       "      <td>1879</td>\n",
       "      <td>1924</td>\n",
       "      <td>1410</td>\n",
       "      <td>1278</td>\n",
       "      <td>...</td>\n",
       "      <td>178</td>\n",
       "      <td>176</td>\n",
       "      <td>116</td>\n",
       "      <td>163</td>\n",
       "      <td>168</td>\n",
       "      <td>152</td>\n",
       "      <td>166</td>\n",
       "      <td>170</td>\n",
       "      <td>158</td>\n",
       "      <td>111</td>\n",
       "    </tr>\n",
       "    <tr>\n",
       "      <th>Odisha</th>\n",
       "      <td>0</td>\n",
       "      <td>229</td>\n",
       "      <td>561</td>\n",
       "      <td>495</td>\n",
       "      <td>469</td>\n",
       "      <td>456</td>\n",
       "      <td>571</td>\n",
       "      <td>527</td>\n",
       "      <td>577</td>\n",
       "      <td>755</td>\n",
       "      <td>...</td>\n",
       "      <td>86</td>\n",
       "      <td>87</td>\n",
       "      <td>86</td>\n",
       "      <td>74</td>\n",
       "      <td>97</td>\n",
       "      <td>81</td>\n",
       "      <td>91</td>\n",
       "      <td>54</td>\n",
       "      <td>70</td>\n",
       "      <td>59</td>\n",
       "    </tr>\n",
       "    <tr>\n",
       "      <th>Meghalaya</th>\n",
       "      <td>0</td>\n",
       "      <td>3</td>\n",
       "      <td>4</td>\n",
       "      <td>8</td>\n",
       "      <td>2</td>\n",
       "      <td>16</td>\n",
       "      <td>6</td>\n",
       "      <td>6</td>\n",
       "      <td>13</td>\n",
       "      <td>73</td>\n",
       "      <td>...</td>\n",
       "      <td>0</td>\n",
       "      <td>1</td>\n",
       "      <td>1</td>\n",
       "      <td>3</td>\n",
       "      <td>0</td>\n",
       "      <td>0</td>\n",
       "      <td>2</td>\n",
       "      <td>0</td>\n",
       "      <td>4</td>\n",
       "      <td>1</td>\n",
       "    </tr>\n",
       "    <tr>\n",
       "      <th>Andaman and Nicobar Islands</th>\n",
       "      <td>0</td>\n",
       "      <td>9</td>\n",
       "      <td>7</td>\n",
       "      <td>3</td>\n",
       "      <td>6</td>\n",
       "      <td>16</td>\n",
       "      <td>6</td>\n",
       "      <td>2</td>\n",
       "      <td>7</td>\n",
       "      <td>0</td>\n",
       "      <td>...</td>\n",
       "      <td>1</td>\n",
       "      <td>2</td>\n",
       "      <td>0</td>\n",
       "      <td>0</td>\n",
       "      <td>2</td>\n",
       "      <td>2</td>\n",
       "      <td>0</td>\n",
       "      <td>0</td>\n",
       "      <td>0</td>\n",
       "      <td>0</td>\n",
       "    </tr>\n",
       "  </tbody>\n",
       "</table>\n",
       "<p>5 rows × 251 columns</p>\n",
       "</div>"
      ],
      "text/plain": [
       "states                       2020-07-01  2020-07-02  2020-07-03  2020-07-04  \\\n",
       "state                                                                         \n",
       "Delhi                                 0        2373        2520        2505   \n",
       "Telangana                             0        1213        1892        1850   \n",
       "Odisha                                0         229         561         495   \n",
       "Meghalaya                             0           3           4           8   \n",
       "Andaman and Nicobar Islands           0           9           7           3   \n",
       "\n",
       "states                       2020-07-05  2020-07-06  2020-07-07  2020-07-08  \\\n",
       "state                                                                         \n",
       "Delhi                              2244        1379        2008        2033   \n",
       "Telangana                          1590        1831        1879        1924   \n",
       "Odisha                              469         456         571         527   \n",
       "Meghalaya                             2          16           6           6   \n",
       "Andaman and Nicobar Islands           6          16           6           2   \n",
       "\n",
       "states                       2020-07-09  2020-07-10  ...  2021-02-27  \\\n",
       "state                                                ...               \n",
       "Delhi                              2187        2089  ...         243   \n",
       "Telangana                          1410        1278  ...         178   \n",
       "Odisha                              577         755  ...          86   \n",
       "Meghalaya                            13          73  ...           0   \n",
       "Andaman and Nicobar Islands           7           0  ...           1   \n",
       "\n",
       "states                       2021-02-28  2021-03-01  2021-03-02  2021-03-03  \\\n",
       "state                                                                         \n",
       "Delhi                               197         175         217         240   \n",
       "Telangana                           176         116         163         168   \n",
       "Odisha                               87          86          74          97   \n",
       "Meghalaya                             1           1           3           0   \n",
       "Andaman and Nicobar Islands           2           0           0           2   \n",
       "\n",
       "states                       2021-03-04  2021-03-05  2021-03-06  2021-03-07  \\\n",
       "state                                                                         \n",
       "Delhi                               261         312         321         286   \n",
       "Telangana                           152         166         170         158   \n",
       "Odisha                               81          91          54          70   \n",
       "Meghalaya                             0           2           0           4   \n",
       "Andaman and Nicobar Islands           2           0           0           0   \n",
       "\n",
       "states                       2021-03-08  \n",
       "state                                    \n",
       "Delhi                               239  \n",
       "Telangana                           111  \n",
       "Odisha                               59  \n",
       "Meghalaya                             1  \n",
       "Andaman and Nicobar Islands           0  \n",
       "\n",
       "[5 rows x 251 columns]"
      ]
     },
     "execution_count": 18,
     "metadata": {},
     "output_type": "execute_result"
    }
   ],
   "source": [
    "#hide\n",
    "dft_ct_new_cases.head()"
   ]
  },
  {
   "cell_type": "code",
   "execution_count": 19,
   "id": "responsible-nightlife",
   "metadata": {
    "execution": {
     "iopub.execute_input": "2021-03-08T12:33:42.426317Z",
     "iopub.status.busy": "2021-03-08T12:33:42.405156Z",
     "iopub.status.idle": "2021-03-08T12:33:50.846716Z",
     "shell.execute_reply": "2021-03-08T12:33:50.847193Z"
    },
    "papermill": {
     "duration": 8.47595,
     "end_time": "2021-03-08T12:33:50.847336",
     "exception": false,
     "start_time": "2021-03-08T12:33:42.371386",
     "status": "completed"
    },
    "tags": []
   },
   "outputs": [
    {
     "data": {
      "image/png": "[encoded data removed]",
      "text/plain": [
       "<Figure size 1296x2016 with 11 Axes>"
      ]
     },
     "metadata": {
      "needs_background": "light"
     },
     "output_type": "display_data"
    }
   ],
   "source": [
    "#hide_input\n",
    "df = dft_ct_new_cases.copy()\n",
    "df.loc['Total'] = df.sum()\n",
    "n = 5\n",
    "ax = []\n",
    "fig = plt.figure(figsize = (18,28))\n",
    "gs = fig.add_gridspec(n+2, 5)\n",
    "# gs = fig.add_gridspec(2, 3)\n",
    "ax1 = fig.add_subplot(gs[0, :])\n",
    "ef = df.loc['Total'].rename_axis('date').reset_index()\n",
    "ef['date'] = ef['date'].astype('datetime64[ns]')\n",
    "ax1.bar(ef.date,ef.Total,alpha=0.3,color='#007acc')\n",
    "ax1.plot(ef.date,ef.Total , marker=\"o\", color='#007acc')\n",
    "ax1.xaxis.set_major_locator(mdates.WeekdayLocator())\n",
    "ax1.xaxis.set_major_formatter(mdates.DateFormatter('%b %d'))\n",
    "ax1.text(0.02, 0.5,'India daily case count', transform = ax1.transAxes, fontsize=25);\n",
    "ax1.spines['right'].set_visible(False)\n",
    "ax1.spines['top'].set_visible(False)\n",
    "\n",
    "ax2 = fig.add_subplot(gs[1,0])\n",
    "ef = df.loc['Maharashtra'].rename_axis('date').reset_index()\n",
    "ef['date'] = ef['date'].astype('datetime64[ns]')\n",
    "\n",
    "ax2.bar(ef.date, ef.Maharashtra,color = '#007acc',alpha=0.5)\n",
    "ax2.xaxis.set_major_locator(mdates.WeekdayLocator())\n",
    "ax2.xaxis.set_major_formatter(mdates.DateFormatter('%b %d'))\n",
    "ax2.set_xticks(ax2.get_xticks()[::3])\n",
    "maxyval = ef.Maharashtra.max()\n",
    "ax2.set_ylim([0,maxyval])\n",
    "ax2.text(0.05, 0.9,'Maharashtra', transform = ax2.transAxes, fontsize=20);\n",
    "ax2.spines['right'].set_visible(False)\n",
    "ax2.spines['top'].set_visible(False)\n",
    "\n",
    "\n",
    "ax3 = fig.add_subplot(gs[1,1])\n",
    "ef = df.loc['Tamil Nadu'].rename_axis('date').reset_index()\n",
    "ef['date'] = ef['date'].astype('datetime64[ns]')\n",
    "ax3.bar(ef.date, ef['Tamil Nadu'],color = '#007acc',alpha=0.5,)\n",
    "ax3.xaxis.set_major_locator(mdates.WeekdayLocator())\n",
    "ax3.xaxis.set_major_formatter(mdates.DateFormatter('%b %d'))\n",
    "ax3.set_xticks(ax3.get_xticks()[::3])\n",
    "ax3.text(0.05, 0.9,'Tamil Nadu', transform = ax3.transAxes, fontsize=20);\n",
    "ax3.spines['right'].set_visible(False)\n",
    "ax3.spines['top'].set_visible(False)\n",
    "\n",
    "ax5 = fig.add_subplot(gs[1,3])\n",
    "ef = df.loc['Telangana'].rename_axis('date').reset_index()\n",
    "ef['date'] = ef['date'].astype('datetime64[ns]')\n",
    "ax5.bar(ef.date, ef['Telangana'],color = '#007acc',alpha=0.5,)\n",
    "ax5.xaxis.set_major_locator(mdates.WeekdayLocator())\n",
    "ax5.xaxis.set_major_formatter(mdates.DateFormatter('%b %d'))\n",
    "ax5.set_xticks(ax5.get_xticks()[::3])\n",
    "ax5.text(0.05, 0.9,'Telangana', transform = ax5.transAxes, fontsize=20);\n",
    "ax5.spines['right'].set_visible(False)\n",
    "ax5.spines['top'].set_visible(False)\n",
    "\n",
    "ax6 = fig.add_subplot(gs[1,4])\n",
    "ef = df.loc['Andhra Pradesh'].rename_axis('date').reset_index()\n",
    "ef['date'] = ef['date'].astype('datetime64[ns]')\n",
    "ax6.bar(ef.date, ef['Andhra Pradesh'],color = '#007acc',alpha=0.5,)\n",
    "ax6.xaxis.set_major_locator(mdates.WeekdayLocator())\n",
    "ax6.xaxis.set_major_formatter(mdates.DateFormatter('%b %d'))\n",
    "ax6.set_xticks(ax6.get_xticks()[::3])\n",
    "ax6.text(0.05, 1,'Andhra Pradesh', transform = ax6.transAxes, fontsize=20);\n",
    "ax6.spines['right'].set_visible(False)\n",
    "ax6.spines['top'].set_visible(False)\n",
    "\n",
    "ax4 = fig.add_subplot(gs[1,2])\n",
    "ef = df.loc['Delhi'].rename_axis('date').reset_index()\n",
    "ef['date'] = ef['date'].astype('datetime64[ns]')\n",
    "ax4.bar(ef.date, ef.Delhi,color = '#007acc',alpha=0.5)\n",
    "ax4.set_xticks([])\n",
    "ax4.xaxis.set_major_locator(mdates.WeekdayLocator())\n",
    "ax4.xaxis.set_major_formatter(mdates.DateFormatter('%b %d'))\n",
    "ax4.set_xticks(ax4.get_xticks()[::3])\n",
    "ax4.spines['right'].set_visible(False)\n",
    "ax4.spines['top'].set_visible(False)\n",
    "\n",
    "ax4.text(0.05, 1,'Delhi', transform = ax4.transAxes, fontsize=20)\n",
    "\n",
    "for i in range(n):\n",
    "    \n",
    "    ax.append(fig.add_subplot(gs[i+2,:]))\n",
    "    ef = df.iloc[i+3].rename_axis('date').reset_index()\n",
    "    ef['date'] = ef['date'].astype('datetime64[ns]')\n",
    "    ax[i].bar(ef.date,ef.iloc[:,-1],color = '#007acc',alpha=0.3)\n",
    "    ax[i].plot(ef.date,ef.iloc[:,-1],marker='o',color='#007acc')\n",
    "    ax[i].text(0.02,0.5,f'{ef.columns.values[-1]}',transform = ax[i].transAxes, fontsize = 20);\n",
    "    ax[i].xaxis.set_major_locator(mdates.WeekdayLocator())\n",
    "    ax[i].xaxis.set_major_formatter(mdates.DateFormatter('%b %d'))\n",
    "    ax[i].set_ylim([0,7000])\n",
    "    ax[i].spines['right'].set_visible(False)\n",
    "    ax[i].spines['top'].set_visible(False)\n",
    "plt.tight_layout()\n"
   ]
  },
  {
   "cell_type": "code",
   "execution_count": 20,
   "id": "dress-forge",
   "metadata": {
    "execution": {
     "iopub.execute_input": "2021-03-08T12:33:50.907579Z",
     "iopub.status.busy": "2021-03-08T12:33:50.906318Z",
     "iopub.status.idle": "2021-03-08T12:33:50.909633Z",
     "shell.execute_reply": "2021-03-08T12:33:50.909144Z"
    },
    "papermill": {
     "duration": 0.038696,
     "end_time": "2021-03-08T12:33:50.909737",
     "exception": false,
     "start_time": "2021-03-08T12:33:50.871041",
     "status": "completed"
    },
    "tags": []
   },
   "outputs": [
    {
     "name": "stdout",
     "output_type": "stream",
     "text": [
      "                                   states    Cases  Deaths   PCases  PDeaths  Cases (+)  Deaths (+)  Fatality Rate\n",
      "                              Maharashtra  2219727   52478  2219727    52478          0           0           2.36\n",
      "                                   Kerala  1077328    4301  1077328     4301          0           0           0.40\n",
      "                                Karnataka   955015   12362   955015    12362          0           0           1.29\n",
      "                           Andhra Pradesh   890692    7174   890692     7174          0           0           0.81\n",
      "                               Tamil Nadu   855121   12518   855121    12518          0           0           1.46\n",
      "                                    Delhi   641340   10924   641101    10921        239           3           1.70\n",
      "                            Uttar Pradesh   604279    8737   604279     8737          0           0           1.45\n",
      "                              West Bengal   576623   10278   576623    10278          0           0           1.78\n",
      "                                   Odisha   337803    1970   337744     1970         59           0           0.58\n",
      "                                Rajasthan   321532    2789   321532     2789          0           0           0.87\n",
      "                             Chhattisgarh   314320    3858   314320     3858          0           0           1.23\n",
      "                                Telangana   300011    1642   299900     1641        111           1           0.55\n",
      "                                  Gujarat   273386    4415   273386     4415          0           0           1.61\n",
      "                                  Haryana   272520    3056   272520     3056          0           0           1.12\n",
      "                           Madhya Pradesh   264643    3871   264643     3871          0           0           1.46\n",
      "                                    Bihar   262758    1546   262758     1546          0           0           0.59\n",
      "                                    Assam   217668    1094   217668     1094          0           0           0.50\n",
      "                                   Punjab   188391    5927   188391     5927          0           0           3.15\n",
      "                        Jammu and Kashmir   127044    1962   127044     1962          0           0           1.54\n",
      "                                Jharkhand   120259    1093   120259     1093          0           0           0.91\n",
      "                              Uttarakhand    97422    1695    97422     1695          0           0           1.74\n",
      "                         Himachal Pradesh    59118     984    59118      984          0           0           1.66\n",
      "                                      Goa    55409     799    55409      799          0           0           1.44\n",
      "                               Puducherry    39868     670    39868      670          0           0           1.68\n",
      "                                  Tripura    33421     388    33421      388          0           0           1.16\n",
      "                                  Manipur    29291     373    29291      373          0           0           1.27\n",
      "                               Chandigarh    22318     355    22318      355          0           0           1.59\n",
      "                        Arunachal Pradesh    16839      56    16839       56          0           0           0.33\n",
      "                                Meghalaya    13973     148    13972      148          1           0           1.06\n",
      "                                 Nagaland    12217      91    12217       91          0           0           0.74\n",
      "                                   Ladakh     9831     130     9831      130          0           0           1.32\n",
      "                                   Sikkim     6174     135     6174      135          0           0           2.19\n",
      "              Andaman and Nicobar Islands     5024      62     5024       62          0           0           1.23\n",
      "                                  Mizoram     4428      10     4428       10          0           0           0.23\n",
      " Dadra and Nagar Haveli and Daman and Diu     3401       2     3401        2          0           0           0.06\n",
      "                              Lakshadweep      487       1      487        1          0           0           0.21\n"
     ]
    }
   ],
   "source": [
    "#hide_input\n",
    "print(df_table.to_string(index=False))"
   ]
  },
  {
   "cell_type": "code",
   "execution_count": null,
   "id": "quantitative-legend",
   "metadata": {
    "papermill": {
     "duration": 0.024596,
     "end_time": "2021-03-08T12:33:50.958678",
     "exception": false,
     "start_time": "2021-03-08T12:33:50.934082",
     "status": "completed"
    },
    "tags": []
   },
   "outputs": [],
   "source": []
  },
  {
   "cell_type": "code",
   "execution_count": null,
   "id": "distant-acoustic",
   "metadata": {
    "papermill": {
     "duration": 0.02469,
     "end_time": "2021-03-08T12:33:51.008104",
     "exception": false,
     "start_time": "2021-03-08T12:33:50.983414",
     "status": "completed"
    },
    "tags": []
   },
   "outputs": [],
   "source": []
  }
 ],
 "metadata": {
  "kernelspec": {
   "display_name": "Python 3",
   "language": "python",
   "name": "python3"
  },
  "language_info": {
   "codemirror_mode": {
    "name": "ipython",
    "version": 3
   },
   "file_extension": ".py",
   "mimetype": "text/x-python",
   "name": "python",
   "nbconvert_exporter": "python",
   "pygments_lexer": "ipython3",
   "version": "3.6.13"
  },
  "papermill": {
   "duration": 19.362123,
   "end_time": "2021-03-08T12:33:51.642428",
   "environment_variables": {},
   "exception": null,
   "input_path": "latest.ipynb",
   "output_path": "latest.ipynb",
   "parameters": {},
   "start_time": "2021-03-08T12:33:32.280305",
   "version": "2.1.2"
  }
 },
 "nbformat": 4,
 "nbformat_minor": 5
}