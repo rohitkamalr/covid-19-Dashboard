{
 "cells": [
  {
   "cell_type": "markdown",
   "metadata": {
    "papermill": {
     "duration": 0.021408,
     "end_time": "2020-10-14T13:24:27.557470",
     "exception": false,
     "start_time": "2020-10-14T13:24:27.536062",
     "status": "completed"
    },
    "tags": []
   },
   "source": [
    "# Latest COVID-19 India Matplotlib Overview"
   ]
  },
  {
   "cell_type": "code",
   "execution_count": 1,
   "metadata": {
    "execution": {
     "iopub.execute_input": "2020-10-14T13:24:27.596468Z",
     "iopub.status.busy": "2020-10-14T13:24:27.595898Z",
     "iopub.status.idle": "2020-10-14T13:24:28.174284Z",
     "shell.execute_reply": "2020-10-14T13:24:28.173713Z"
    },
    "papermill": {
     "duration": 0.602004,
     "end_time": "2020-10-14T13:24:28.174447",
     "exception": false,
     "start_time": "2020-10-14T13:24:27.572443",
     "status": "completed"
    },
    "tags": []
   },
   "outputs": [],
   "source": [
    "#hide\n",
    "import pandas as pd\n",
    "import numpy as np\n",
    "import requests\n",
    "import json\n",
    "import matplotlib.pyplot as plt\n",
    "import matplotlib.dates as mdates\n",
    "import matplotlib as mpl\n",
    "from IPython.core.display import display,HTML\n",
    "%matplotlib inline\n",
    "from datetime import date"
   ]
  },
  {
   "cell_type": "code",
   "execution_count": 2,
   "metadata": {
    "execution": {
     "iopub.execute_input": "2020-10-14T13:24:28.215136Z",
     "iopub.status.busy": "2020-10-14T13:24:28.214538Z",
     "iopub.status.idle": "2020-10-14T13:24:28.331617Z",
     "shell.execute_reply": "2020-10-14T13:24:28.330734Z"
    },
    "papermill": {
     "duration": 0.142483,
     "end_time": "2020-10-14T13:24:28.331847",
     "exception": false,
     "start_time": "2020-10-14T13:24:28.189364",
     "status": "completed"
    },
    "tags": []
   },
   "outputs": [],
   "source": [
    "#hide\n",
    "df  = pd.read_csv('https://api.covid19india.org/csv/latest/states.csv')\n",
    "df = df[['Date','State','Confirmed','Deceased']]\n",
    "df = df.rename(columns={'Confirmed':'Cases', \"Deceased\":'Deaths'})\n",
    "df_cases = df[[\"Date\",'State','Cases']]\n",
    "df_deaths = df[['Date','State','Deaths']]\n",
    "df_cases1 = df_cases.groupby('Date')\n",
    "df_deaths1= df_deaths.groupby('Date')"
   ]
  },
  {
   "cell_type": "code",
   "execution_count": 3,
   "metadata": {
    "execution": {
     "iopub.execute_input": "2020-10-14T13:24:28.371113Z",
     "iopub.status.busy": "2020-10-14T13:24:28.370500Z",
     "iopub.status.idle": "2020-10-14T13:24:28.390454Z",
     "shell.execute_reply": "2020-10-14T13:24:28.389801Z"
    },
    "papermill": {
     "duration": 0.04192,
     "end_time": "2020-10-14T13:24:28.390631",
     "exception": false,
     "start_time": "2020-10-14T13:24:28.348711",
     "status": "completed"
    },
    "tags": []
   },
   "outputs": [],
   "source": [
    "#hide\n",
    "df_snap = pd.read_csv('data/SnapshotCases-28-July.csv')\n",
    "arr_states = df_snap['states'].unique()\n",
    "arr_dates = df['Date'].unique()\n",
    "df_snap = df_snap.set_index('states')"
   ]
  },
  {
   "cell_type": "code",
   "execution_count": 4,
   "metadata": {
    "execution": {
     "iopub.execute_input": "2020-10-14T13:24:28.431708Z",
     "iopub.status.busy": "2020-10-14T13:24:28.431096Z",
     "iopub.status.idle": "2020-10-14T13:24:28.433199Z",
     "shell.execute_reply": "2020-10-14T13:24:28.433708Z"
    },
    "papermill": {
     "duration": 0.026826,
     "end_time": "2020-10-14T13:24:28.433860",
     "exception": false,
     "start_time": "2020-10-14T13:24:28.407034",
     "status": "completed"
    },
    "tags": []
   },
   "outputs": [
    {
     "data": {
      "text/plain": [
       "array(['Andaman and Nicobar Islands', 'Andhra Pradesh',\n",
       "       'Arunachal Pradesh', 'Assam', 'Bihar', 'Chandigarh',\n",
       "       'Dadra and Nagar Haveli and Daman and Diu', 'Delhi', 'Goa',\n",
       "       'Gujarat', 'Haryana', 'Himachal Pradesh', 'Jammu and Kashmir',\n",
       "       'Jharkhand', 'Karnataka', 'Kerala', 'Lakshadweep',\n",
       "       'Madhya Pradesh', 'Maharashtra', 'Manipur', 'Meghalaya', 'Mizoram',\n",
       "       'Nagaland', 'Odisha', 'Puducherry', 'Punjab', 'Rajasthan',\n",
       "       'Sikkim', 'Tamil Nadu', 'Telangana', 'Tripura', 'Uttar Pradesh',\n",
       "       'West Bengal', 'Chhattisgarh', 'Ladakh', 'Uttarakhand'],\n",
       "      dtype=object)"
      ]
     },
     "execution_count": 4,
     "metadata": {},
     "output_type": "execute_result"
    }
   ],
   "source": [
    "#hide\n",
    "arr_states[-9] = 'Puducherry'\n",
    "arr_states[-10] = 'Odisha'\n",
    "arr_states[6] = 'Dadra and Nagar Haveli and Daman and Diu'\n",
    "arr_states = np.append(arr_states,np.array(['Chhattisgarh','Ladakh','Uttarakhand']))\n",
    "arr_states"
   ]
  },
  {
   "cell_type": "code",
   "execution_count": 5,
   "metadata": {
    "execution": {
     "iopub.execute_input": "2020-10-14T13:24:28.472867Z",
     "iopub.status.busy": "2020-10-14T13:24:28.472229Z",
     "iopub.status.idle": "2020-10-14T13:24:28.482002Z",
     "shell.execute_reply": "2020-10-14T13:24:28.481382Z"
    },
    "papermill": {
     "duration": 0.032968,
     "end_time": "2020-10-14T13:24:28.482132",
     "exception": false,
     "start_time": "2020-10-14T13:24:28.449164",
     "status": "completed"
    },
    "tags": []
   },
   "outputs": [],
   "source": [
    "#hide\n",
    "dates = []\n",
    "for i in arr_dates:\n",
    "    if i>='2020-07-01':\n",
    "        dates.append(i)\n",
    "dict = {'states':dates}\n",
    "for i in arr_states:\n",
    "    dict[i] = [0]*len(dates)\n",
    "dft_cases = pd.DataFrame(dict)\n",
    "dft_deaths = pd.DataFrame(dict)\n"
   ]
  },
  {
   "cell_type": "code",
   "execution_count": 6,
   "metadata": {
    "execution": {
     "iopub.execute_input": "2020-10-14T13:24:28.519851Z",
     "iopub.status.busy": "2020-10-14T13:24:28.519261Z",
     "iopub.status.idle": "2020-10-14T13:24:29.919128Z",
     "shell.execute_reply": "2020-10-14T13:24:29.918294Z"
    },
    "papermill": {
     "duration": 1.421859,
     "end_time": "2020-10-14T13:24:29.919350",
     "exception": false,
     "start_time": "2020-10-14T13:24:28.497491",
     "status": "completed"
    },
    "tags": []
   },
   "outputs": [],
   "source": [
    "#hide\n",
    "for i in range(len(dates)):\n",
    "    df1_deaths = df_deaths1.get_group(dates[i])\n",
    "    for j in range(len(df1_deaths.index)):\n",
    "        if df1_deaths.iloc[j,1] in arr_states:\n",
    "            dft_deaths.loc[i,df1_deaths.iloc[j,1]] = df1_deaths.iloc[j,2]\n",
    "dft_deaths = dft_deaths.set_index('states')"
   ]
  },
  {
   "cell_type": "code",
   "execution_count": 7,
   "metadata": {
    "execution": {
     "iopub.execute_input": "2020-10-14T13:24:29.960232Z",
     "iopub.status.busy": "2020-10-14T13:24:29.959686Z",
     "iopub.status.idle": "2020-10-14T13:24:31.337004Z",
     "shell.execute_reply": "2020-10-14T13:24:31.336336Z"
    },
    "papermill": {
     "duration": 1.399495,
     "end_time": "2020-10-14T13:24:31.337152",
     "exception": false,
     "start_time": "2020-10-14T13:24:29.937657",
     "status": "completed"
    },
    "tags": []
   },
   "outputs": [],
   "source": [
    "#hide\n",
    "for i in range(len(dates)):\n",
    "    df1_cases = df_cases1.get_group(dates[i])\n",
    "    for j in range(len(df1_cases.index)):\n",
    "        if df1_cases.iloc[j,1] in arr_states:\n",
    "            dft_cases.loc[i,df1_cases.iloc[j,1]] = df1_cases.iloc[j,2]\n",
    "dft_cases = dft_cases.set_index('states')"
   ]
  },
  {
   "cell_type": "code",
   "execution_count": 8,
   "metadata": {
    "execution": {
     "iopub.execute_input": "2020-10-14T13:24:31.376747Z",
     "iopub.status.busy": "2020-10-14T13:24:31.375704Z",
     "iopub.status.idle": "2020-10-14T13:24:31.377796Z",
     "shell.execute_reply": "2020-10-14T13:24:31.378306Z"
    },
    "papermill": {
     "duration": 0.025877,
     "end_time": "2020-10-14T13:24:31.378453",
     "exception": false,
     "start_time": "2020-10-14T13:24:31.352576",
     "status": "completed"
    },
    "tags": []
   },
   "outputs": [],
   "source": [
    "#hide\n",
    "dft_cases = dft_cases.T\n",
    "dft_deaths = dft_deaths.T\n",
    "dt_today = dates[-1]\n",
    "dt_yday = dates[-2]"
   ]
  },
  {
   "cell_type": "code",
   "execution_count": 9,
   "metadata": {
    "execution": {
     "iopub.execute_input": "2020-10-14T13:24:31.418155Z",
     "iopub.status.busy": "2020-10-14T13:24:31.415466Z",
     "iopub.status.idle": "2020-10-14T13:24:31.421079Z",
     "shell.execute_reply": "2020-10-14T13:24:31.420584Z"
    },
    "papermill": {
     "duration": 0.028158,
     "end_time": "2020-10-14T13:24:31.421202",
     "exception": false,
     "start_time": "2020-10-14T13:24:31.393044",
     "status": "completed"
    },
    "tags": []
   },
   "outputs": [],
   "source": [
    "#hide\n",
    "dft_cases = dft_cases.reset_index()\n",
    "dft_deaths = dft_deaths.reset_index()\n",
    "dft_cases = dft_cases.rename(columns = {'index':'state'})\n",
    "dft_deaths = dft_deaths.rename(columns = {'index':'state'})"
   ]
  },
  {
   "cell_type": "code",
   "execution_count": 10,
   "metadata": {
    "execution": {
     "iopub.execute_input": "2020-10-14T13:24:31.464251Z",
     "iopub.status.busy": "2020-10-14T13:24:31.463652Z",
     "iopub.status.idle": "2020-10-14T13:24:31.467605Z",
     "shell.execute_reply": "2020-10-14T13:24:31.467129Z"
    },
    "papermill": {
     "duration": 0.031797,
     "end_time": "2020-10-14T13:24:31.467740",
     "exception": false,
     "start_time": "2020-10-14T13:24:31.435943",
     "status": "completed"
    },
    "tags": []
   },
   "outputs": [],
   "source": [
    "#hide\n",
    "dfc_cases = dft_cases.groupby('state')[dt_today].sum()\n",
    "dfc_deaths = dft_deaths.groupby('state')[dt_today].sum()\n",
    "dfp_cases = dft_cases.groupby('state')[dt_yday].sum()\n",
    "dfp_deaths = dft_deaths.groupby('state')[dt_yday].sum()"
   ]
  },
  {
   "cell_type": "code",
   "execution_count": 11,
   "metadata": {
    "execution": {
     "iopub.execute_input": "2020-10-14T13:24:31.506700Z",
     "iopub.status.busy": "2020-10-14T13:24:31.505602Z",
     "iopub.status.idle": "2020-10-14T13:24:31.518550Z",
     "shell.execute_reply": "2020-10-14T13:24:31.518022Z"
    },
    "papermill": {
     "duration": 0.0359,
     "end_time": "2020-10-14T13:24:31.518690",
     "exception": false,
     "start_time": "2020-10-14T13:24:31.482790",
     "status": "completed"
    },
    "tags": []
   },
   "outputs": [
    {
     "data": {
      "text/html": [
       "<div>\n",
       "<style scoped>\n",
       "    .dataframe tbody tr th:only-of-type {\n",
       "        vertical-align: middle;\n",
       "    }\n",
       "\n",
       "    .dataframe tbody tr th {\n",
       "        vertical-align: top;\n",
       "    }\n",
       "\n",
       "    .dataframe thead th {\n",
       "        text-align: right;\n",
       "    }\n",
       "</style>\n",
       "<table border=\"1\" class=\"dataframe\">\n",
       "  <thead>\n",
       "    <tr style=\"text-align: right;\">\n",
       "      <th></th>\n",
       "      <th>states</th>\n",
       "      <th>Cases</th>\n",
       "      <th>Deaths</th>\n",
       "      <th>PCases</th>\n",
       "      <th>PDeaths</th>\n",
       "    </tr>\n",
       "  </thead>\n",
       "  <tbody>\n",
       "    <tr>\n",
       "      <th>0</th>\n",
       "      <td>Maharashtra</td>\n",
       "      <td>1543837</td>\n",
       "      <td>40701</td>\n",
       "      <td>1543837</td>\n",
       "      <td>40701</td>\n",
       "    </tr>\n",
       "    <tr>\n",
       "      <th>1</th>\n",
       "      <td>Andhra Pradesh</td>\n",
       "      <td>763573</td>\n",
       "      <td>6291</td>\n",
       "      <td>763573</td>\n",
       "      <td>6291</td>\n",
       "    </tr>\n",
       "    <tr>\n",
       "      <th>2</th>\n",
       "      <td>Karnataka</td>\n",
       "      <td>726106</td>\n",
       "      <td>10123</td>\n",
       "      <td>726106</td>\n",
       "      <td>10123</td>\n",
       "    </tr>\n",
       "    <tr>\n",
       "      <th>3</th>\n",
       "      <td>Tamil Nadu</td>\n",
       "      <td>665930</td>\n",
       "      <td>10371</td>\n",
       "      <td>665930</td>\n",
       "      <td>10371</td>\n",
       "    </tr>\n",
       "    <tr>\n",
       "      <th>4</th>\n",
       "      <td>Uttar Pradesh</td>\n",
       "      <td>444711</td>\n",
       "      <td>6507</td>\n",
       "      <td>442118</td>\n",
       "      <td>6466</td>\n",
       "    </tr>\n",
       "  </tbody>\n",
       "</table>\n",
       "</div>"
      ],
      "text/plain": [
       "           states    Cases  Deaths   PCases  PDeaths\n",
       "0     Maharashtra  1543837   40701  1543837    40701\n",
       "1  Andhra Pradesh   763573    6291   763573     6291\n",
       "2       Karnataka   726106   10123   726106    10123\n",
       "3      Tamil Nadu   665930   10371   665930    10371\n",
       "4   Uttar Pradesh   444711    6507   442118     6466"
      ]
     },
     "execution_count": 11,
     "metadata": {},
     "output_type": "execute_result"
    }
   ],
   "source": [
    "#hide\n",
    "df_table = pd.DataFrame({'states': dfc_cases.index, 'Cases': dfc_cases.values, 'Deaths': dfc_deaths.values, 'PCases': dfp_cases.values, 'PDeaths': dfp_deaths.values}).set_index('states')\n",
    "df_table = df_table.sort_values(by = ['Cases','Deaths'], ascending = [False, False])\n",
    "df_table = df_table.reset_index()\n",
    "df_table.head()"
   ]
  },
  {
   "cell_type": "code",
   "execution_count": 12,
   "metadata": {
    "execution": {
     "iopub.execute_input": "2020-10-14T13:24:31.556314Z",
     "iopub.status.busy": "2020-10-14T13:24:31.555775Z",
     "iopub.status.idle": "2020-10-14T13:24:31.565786Z",
     "shell.execute_reply": "2020-10-14T13:24:31.566228Z"
    },
    "papermill": {
     "duration": 0.03233,
     "end_time": "2020-10-14T13:24:31.566366",
     "exception": false,
     "start_time": "2020-10-14T13:24:31.534036",
     "status": "completed"
    },
    "tags": []
   },
   "outputs": [],
   "source": [
    "#hide\n",
    "for c in 'Cases, Deaths'.split(', '):\n",
    "    df_table[f'{c} (+)'] = (df_table[c] - df_table[f'P{c}']).clip(0)\n",
    "df_table['Fatality Rate'] = (100* df_table['Deaths']/ df_table['Cases']).round(2)"
   ]
  },
  {
   "cell_type": "code",
   "execution_count": 13,
   "metadata": {
    "execution": {
     "iopub.execute_input": "2020-10-14T13:24:31.607095Z",
     "iopub.status.busy": "2020-10-14T13:24:31.606496Z",
     "iopub.status.idle": "2020-10-14T13:24:31.610600Z",
     "shell.execute_reply": "2020-10-14T13:24:31.611047Z"
    },
    "papermill": {
     "duration": 0.029808,
     "end_time": "2020-10-14T13:24:31.611197",
     "exception": false,
     "start_time": "2020-10-14T13:24:31.581389",
     "status": "completed"
    },
    "tags": []
   },
   "outputs": [
    {
     "data": {
      "text/html": [
       "<div>\n",
       "<style scoped>\n",
       "    .dataframe tbody tr th:only-of-type {\n",
       "        vertical-align: middle;\n",
       "    }\n",
       "\n",
       "    .dataframe tbody tr th {\n",
       "        vertical-align: top;\n",
       "    }\n",
       "\n",
       "    .dataframe thead th {\n",
       "        text-align: right;\n",
       "    }\n",
       "</style>\n",
       "<table border=\"1\" class=\"dataframe\">\n",
       "  <thead>\n",
       "    <tr style=\"text-align: right;\">\n",
       "      <th></th>\n",
       "      <th>states</th>\n",
       "      <th>Cases</th>\n",
       "      <th>Deaths</th>\n",
       "      <th>PCases</th>\n",
       "      <th>PDeaths</th>\n",
       "      <th>Cases (+)</th>\n",
       "      <th>Deaths (+)</th>\n",
       "      <th>Fatality Rate</th>\n",
       "    </tr>\n",
       "  </thead>\n",
       "  <tbody>\n",
       "    <tr>\n",
       "      <th>0</th>\n",
       "      <td>Maharashtra</td>\n",
       "      <td>1543837</td>\n",
       "      <td>40701</td>\n",
       "      <td>1543837</td>\n",
       "      <td>40701</td>\n",
       "      <td>0</td>\n",
       "      <td>0</td>\n",
       "      <td>2.64</td>\n",
       "    </tr>\n",
       "    <tr>\n",
       "      <th>1</th>\n",
       "      <td>Andhra Pradesh</td>\n",
       "      <td>763573</td>\n",
       "      <td>6291</td>\n",
       "      <td>763573</td>\n",
       "      <td>6291</td>\n",
       "      <td>0</td>\n",
       "      <td>0</td>\n",
       "      <td>0.82</td>\n",
       "    </tr>\n",
       "    <tr>\n",
       "      <th>2</th>\n",
       "      <td>Karnataka</td>\n",
       "      <td>726106</td>\n",
       "      <td>10123</td>\n",
       "      <td>726106</td>\n",
       "      <td>10123</td>\n",
       "      <td>0</td>\n",
       "      <td>0</td>\n",
       "      <td>1.39</td>\n",
       "    </tr>\n",
       "    <tr>\n",
       "      <th>3</th>\n",
       "      <td>Tamil Nadu</td>\n",
       "      <td>665930</td>\n",
       "      <td>10371</td>\n",
       "      <td>665930</td>\n",
       "      <td>10371</td>\n",
       "      <td>0</td>\n",
       "      <td>0</td>\n",
       "      <td>1.56</td>\n",
       "    </tr>\n",
       "    <tr>\n",
       "      <th>4</th>\n",
       "      <td>Uttar Pradesh</td>\n",
       "      <td>444711</td>\n",
       "      <td>6507</td>\n",
       "      <td>442118</td>\n",
       "      <td>6466</td>\n",
       "      <td>2593</td>\n",
       "      <td>41</td>\n",
       "      <td>1.46</td>\n",
       "    </tr>\n",
       "  </tbody>\n",
       "</table>\n",
       "</div>"
      ],
      "text/plain": [
       "           states    Cases  Deaths   PCases  PDeaths  Cases (+)  Deaths (+)  \\\n",
       "0     Maharashtra  1543837   40701  1543837    40701          0           0   \n",
       "1  Andhra Pradesh   763573    6291   763573     6291          0           0   \n",
       "2       Karnataka   726106   10123   726106    10123          0           0   \n",
       "3      Tamil Nadu   665930   10371   665930    10371          0           0   \n",
       "4   Uttar Pradesh   444711    6507   442118     6466       2593          41   \n",
       "\n",
       "   Fatality Rate  \n",
       "0           2.64  \n",
       "1           0.82  \n",
       "2           1.39  \n",
       "3           1.56  \n",
       "4           1.46  "
      ]
     },
     "execution_count": 13,
     "metadata": {},
     "output_type": "execute_result"
    }
   ],
   "source": [
    "#hide\n",
    "df_table.head()"
   ]
  },
  {
   "cell_type": "code",
   "execution_count": 14,
   "metadata": {
    "execution": {
     "iopub.execute_input": "2020-10-14T13:24:31.649989Z",
     "iopub.status.busy": "2020-10-14T13:24:31.649357Z",
     "iopub.status.idle": "2020-10-14T13:24:31.666015Z",
     "shell.execute_reply": "2020-10-14T13:24:31.665372Z"
    },
    "papermill": {
     "duration": 0.039427,
     "end_time": "2020-10-14T13:24:31.666166",
     "exception": false,
     "start_time": "2020-10-14T13:24:31.626739",
     "status": "completed"
    },
    "tags": []
   },
   "outputs": [
    {
     "data": {
      "text/plain": [
       "{'updated': '2020-10-14',\n",
       " 'since': '2020-10-13',\n",
       " 'Cases': 7244113,\n",
       " 'PCases': 7237279,\n",
       " 'Deaths': 110686,\n",
       " 'PDeaths': 110621,\n",
       " 'Cases (+)': 6834,\n",
       " 'Deaths (+)': 65}"
      ]
     },
     "execution_count": 14,
     "metadata": {},
     "output_type": "execute_result"
    }
   ],
   "source": [
    "#hide\n",
    "summary = {'updated':dates[-1], 'since':dates[-2]}\n",
    "list_names = ['Cases', 'PCases', 'Deaths', 'PDeaths', 'Cases (+)', 'Deaths (+)']\n",
    "for name in list_names:\n",
    "    summary[name] = df_table.sum()[name]\n",
    "summary"
   ]
  },
  {
   "cell_type": "code",
   "execution_count": 15,
   "metadata": {
    "execution": {
     "iopub.execute_input": "2020-10-14T13:24:31.703986Z",
     "iopub.status.busy": "2020-10-14T13:24:31.703391Z",
     "iopub.status.idle": "2020-10-14T13:24:31.705488Z",
     "shell.execute_reply": "2020-10-14T13:24:31.706035Z"
    },
    "papermill": {
     "duration": 0.023101,
     "end_time": "2020-10-14T13:24:31.706180",
     "exception": false,
     "start_time": "2020-10-14T13:24:31.683079",
     "status": "completed"
    },
    "tags": []
   },
   "outputs": [],
   "source": [
    "#hide\n",
    "overview = '''\n",
    "<!-- #######  HTML!! #########-->\n",
    "<h1 style=\"color: #5e9ca0; text-align: center;\">India</h1>\n",
    "<p style=\"text-align: center;\">Last update: <strong>{update}</strong></p>\n",
    "<p style=\"text-align: center;\">Confirmed cases:</p>\n",
    "<p style=\"text-align: center;font-size:24px;\">{cases} (<span style=\"color: #ff0000;\">+{new}</span>)</p>\n",
    "<p style=\"text-align: center;\">Confirmed deaths:</p>\n",
    "<p style=\"text-align: center;font-size:24px;\">{deaths} (<span style=\"color: #ff0000;\">+{dnew}</span>)</p>\n",
    "'''"
   ]
  },
  {
   "cell_type": "code",
   "execution_count": 16,
   "metadata": {
    "execution": {
     "iopub.execute_input": "2020-10-14T13:24:31.744533Z",
     "iopub.status.busy": "2020-10-14T13:24:31.743995Z",
     "iopub.status.idle": "2020-10-14T13:24:31.747193Z",
     "shell.execute_reply": "2020-10-14T13:24:31.746701Z"
    },
    "papermill": {
     "duration": 0.025958,
     "end_time": "2020-10-14T13:24:31.747315",
     "exception": false,
     "start_time": "2020-10-14T13:24:31.721357",
     "status": "completed"
    },
    "tags": []
   },
   "outputs": [
    {
     "data": {
      "text/html": [
       "\n",
       "<!-- #######  HTML!! #########-->\n",
       "<h1 style=\"color: #5e9ca0; text-align: center;\">India</h1>\n",
       "<p style=\"text-align: center;\">Last update: <strong>2020-10-14</strong></p>\n",
       "<p style=\"text-align: center;\">Confirmed cases:</p>\n",
       "<p style=\"text-align: center;font-size:24px;\">7244113 (<span style=\"color: #ff0000;\">+6834</span>)</p>\n",
       "<p style=\"text-align: center;\">Confirmed deaths:</p>\n",
       "<p style=\"text-align: center;font-size:24px;\">110686 (<span style=\"color: #ff0000;\">+65</span>)</p>\n"
      ],
      "text/plain": [
       "<IPython.core.display.HTML object>"
      ]
     },
     "metadata": {},
     "output_type": "display_data"
    }
   ],
   "source": [
    "#hide_input\n",
    "update = summary['updated']\n",
    "cases = summary['Cases']\n",
    "new = summary['Cases (+)']\n",
    "deaths = summary['Deaths']\n",
    "dnew = summary['Deaths (+)']\n",
    "\n",
    "html = HTML(overview.format(update=update, cases=cases,new=new,deaths=deaths,dnew=dnew))\n",
    "\n",
    "display(html)"
   ]
  },
  {
   "cell_type": "code",
   "execution_count": 17,
   "metadata": {
    "execution": {
     "iopub.execute_input": "2020-10-14T13:24:31.788208Z",
     "iopub.status.busy": "2020-10-14T13:24:31.787628Z",
     "iopub.status.idle": "2020-10-14T13:24:31.792507Z",
     "shell.execute_reply": "2020-10-14T13:24:31.793008Z"
    },
    "papermill": {
     "duration": 0.029881,
     "end_time": "2020-10-14T13:24:31.793147",
     "exception": false,
     "start_time": "2020-10-14T13:24:31.763266",
     "status": "completed"
    },
    "tags": []
   },
   "outputs": [],
   "source": [
    "#hide\n",
    "dt_cols = list(dft_cases.columns[1:])\n",
    "dft_ct_new_cases = dft_cases.groupby('state')[dt_cols].sum().diff(axis=1).fillna(0).astype(int)\n",
    "dft_ct_new_cases.sort_values(by = dates[-1], ascending = False,inplace = True)"
   ]
  },
  {
   "cell_type": "code",
   "execution_count": 18,
   "metadata": {
    "execution": {
     "iopub.execute_input": "2020-10-14T13:24:31.841894Z",
     "iopub.status.busy": "2020-10-14T13:24:31.841276Z",
     "iopub.status.idle": "2020-10-14T13:24:31.845468Z",
     "shell.execute_reply": "2020-10-14T13:24:31.844999Z"
    },
    "papermill": {
     "duration": 0.036025,
     "end_time": "2020-10-14T13:24:31.845618",
     "exception": false,
     "start_time": "2020-10-14T13:24:31.809593",
     "status": "completed"
    },
    "tags": []
   },
   "outputs": [
    {
     "data": {
      "text/html": [
       "<div>\n",
       "<style scoped>\n",
       "    .dataframe tbody tr th:only-of-type {\n",
       "        vertical-align: middle;\n",
       "    }\n",
       "\n",
       "    .dataframe tbody tr th {\n",
       "        vertical-align: top;\n",
       "    }\n",
       "\n",
       "    .dataframe thead th {\n",
       "        text-align: right;\n",
       "    }\n",
       "</style>\n",
       "<table border=\"1\" class=\"dataframe\">\n",
       "  <thead>\n",
       "    <tr style=\"text-align: right;\">\n",
       "      <th>states</th>\n",
       "      <th>2020-07-01</th>\n",
       "      <th>2020-07-02</th>\n",
       "      <th>2020-07-03</th>\n",
       "      <th>2020-07-04</th>\n",
       "      <th>2020-07-05</th>\n",
       "      <th>2020-07-06</th>\n",
       "      <th>2020-07-07</th>\n",
       "      <th>2020-07-08</th>\n",
       "      <th>2020-07-09</th>\n",
       "      <th>2020-07-10</th>\n",
       "      <th>...</th>\n",
       "      <th>2020-10-05</th>\n",
       "      <th>2020-10-06</th>\n",
       "      <th>2020-10-07</th>\n",
       "      <th>2020-10-08</th>\n",
       "      <th>2020-10-09</th>\n",
       "      <th>2020-10-10</th>\n",
       "      <th>2020-10-11</th>\n",
       "      <th>2020-10-12</th>\n",
       "      <th>2020-10-13</th>\n",
       "      <th>2020-10-14</th>\n",
       "    </tr>\n",
       "    <tr>\n",
       "      <th>state</th>\n",
       "      <th></th>\n",
       "      <th></th>\n",
       "      <th></th>\n",
       "      <th></th>\n",
       "      <th></th>\n",
       "      <th></th>\n",
       "      <th></th>\n",
       "      <th></th>\n",
       "      <th></th>\n",
       "      <th></th>\n",
       "      <th></th>\n",
       "      <th></th>\n",
       "      <th></th>\n",
       "      <th></th>\n",
       "      <th></th>\n",
       "      <th></th>\n",
       "      <th></th>\n",
       "      <th></th>\n",
       "      <th></th>\n",
       "      <th></th>\n",
       "      <th></th>\n",
       "    </tr>\n",
       "  </thead>\n",
       "  <tbody>\n",
       "    <tr>\n",
       "      <th>Odisha</th>\n",
       "      <td>0</td>\n",
       "      <td>229</td>\n",
       "      <td>561</td>\n",
       "      <td>495</td>\n",
       "      <td>469</td>\n",
       "      <td>456</td>\n",
       "      <td>571</td>\n",
       "      <td>527</td>\n",
       "      <td>577</td>\n",
       "      <td>755</td>\n",
       "      <td>...</td>\n",
       "      <td>2617</td>\n",
       "      <td>2673</td>\n",
       "      <td>2995</td>\n",
       "      <td>3144</td>\n",
       "      <td>2697</td>\n",
       "      <td>2854</td>\n",
       "      <td>2546</td>\n",
       "      <td>2423</td>\n",
       "      <td>2275</td>\n",
       "      <td>2604</td>\n",
       "    </tr>\n",
       "    <tr>\n",
       "      <th>Uttar Pradesh</th>\n",
       "      <td>0</td>\n",
       "      <td>769</td>\n",
       "      <td>972</td>\n",
       "      <td>757</td>\n",
       "      <td>1153</td>\n",
       "      <td>929</td>\n",
       "      <td>1332</td>\n",
       "      <td>1188</td>\n",
       "      <td>1206</td>\n",
       "      <td>1338</td>\n",
       "      <td>...</td>\n",
       "      <td>2971</td>\n",
       "      <td>3500</td>\n",
       "      <td>3389</td>\n",
       "      <td>3133</td>\n",
       "      <td>3207</td>\n",
       "      <td>3046</td>\n",
       "      <td>3267</td>\n",
       "      <td>2182</td>\n",
       "      <td>2957</td>\n",
       "      <td>2593</td>\n",
       "    </tr>\n",
       "    <tr>\n",
       "      <th>Telangana</th>\n",
       "      <td>0</td>\n",
       "      <td>1213</td>\n",
       "      <td>1892</td>\n",
       "      <td>1850</td>\n",
       "      <td>1590</td>\n",
       "      <td>1831</td>\n",
       "      <td>1879</td>\n",
       "      <td>1924</td>\n",
       "      <td>1410</td>\n",
       "      <td>1278</td>\n",
       "      <td>...</td>\n",
       "      <td>1335</td>\n",
       "      <td>1983</td>\n",
       "      <td>2154</td>\n",
       "      <td>1896</td>\n",
       "      <td>1891</td>\n",
       "      <td>1811</td>\n",
       "      <td>1717</td>\n",
       "      <td>1021</td>\n",
       "      <td>1708</td>\n",
       "      <td>1446</td>\n",
       "    </tr>\n",
       "    <tr>\n",
       "      <th>Tripura</th>\n",
       "      <td>0</td>\n",
       "      <td>39</td>\n",
       "      <td>93</td>\n",
       "      <td>25</td>\n",
       "      <td>23</td>\n",
       "      <td>111</td>\n",
       "      <td>24</td>\n",
       "      <td>57</td>\n",
       "      <td>16</td>\n",
       "      <td>142</td>\n",
       "      <td>...</td>\n",
       "      <td>159</td>\n",
       "      <td>275</td>\n",
       "      <td>237</td>\n",
       "      <td>214</td>\n",
       "      <td>223</td>\n",
       "      <td>171</td>\n",
       "      <td>199</td>\n",
       "      <td>109</td>\n",
       "      <td>217</td>\n",
       "      <td>181</td>\n",
       "    </tr>\n",
       "    <tr>\n",
       "      <th>Mizoram</th>\n",
       "      <td>0</td>\n",
       "      <td>2</td>\n",
       "      <td>0</td>\n",
       "      <td>2</td>\n",
       "      <td>22</td>\n",
       "      <td>11</td>\n",
       "      <td>1</td>\n",
       "      <td>5</td>\n",
       "      <td>0</td>\n",
       "      <td>23</td>\n",
       "      <td>...</td>\n",
       "      <td>0</td>\n",
       "      <td>8</td>\n",
       "      <td>20</td>\n",
       "      <td>2</td>\n",
       "      <td>7</td>\n",
       "      <td>5</td>\n",
       "      <td>13</td>\n",
       "      <td>9</td>\n",
       "      <td>18</td>\n",
       "      <td>10</td>\n",
       "    </tr>\n",
       "  </tbody>\n",
       "</table>\n",
       "<p>5 rows × 106 columns</p>\n",
       "</div>"
      ],
      "text/plain": [
       "states         2020-07-01  2020-07-02  2020-07-03  2020-07-04  2020-07-05  \\\n",
       "state                                                                       \n",
       "Odisha                  0         229         561         495         469   \n",
       "Uttar Pradesh           0         769         972         757        1153   \n",
       "Telangana               0        1213        1892        1850        1590   \n",
       "Tripura                 0          39          93          25          23   \n",
       "Mizoram                 0           2           0           2          22   \n",
       "\n",
       "states         2020-07-06  2020-07-07  2020-07-08  2020-07-09  2020-07-10  \\\n",
       "state                                                                       \n",
       "Odisha                456         571         527         577         755   \n",
       "Uttar Pradesh         929        1332        1188        1206        1338   \n",
       "Telangana            1831        1879        1924        1410        1278   \n",
       "Tripura               111          24          57          16         142   \n",
       "Mizoram                11           1           5           0          23   \n",
       "\n",
       "states         ...  2020-10-05  2020-10-06  2020-10-07  2020-10-08  \\\n",
       "state          ...                                                   \n",
       "Odisha         ...        2617        2673        2995        3144   \n",
       "Uttar Pradesh  ...        2971        3500        3389        3133   \n",
       "Telangana      ...        1335        1983        2154        1896   \n",
       "Tripura        ...         159         275         237         214   \n",
       "Mizoram        ...           0           8          20           2   \n",
       "\n",
       "states         2020-10-09  2020-10-10  2020-10-11  2020-10-12  2020-10-13  \\\n",
       "state                                                                       \n",
       "Odisha               2697        2854        2546        2423        2275   \n",
       "Uttar Pradesh        3207        3046        3267        2182        2957   \n",
       "Telangana            1891        1811        1717        1021        1708   \n",
       "Tripura               223         171         199         109         217   \n",
       "Mizoram                 7           5          13           9          18   \n",
       "\n",
       "states         2020-10-14  \n",
       "state                      \n",
       "Odisha               2604  \n",
       "Uttar Pradesh        2593  \n",
       "Telangana            1446  \n",
       "Tripura               181  \n",
       "Mizoram                10  \n",
       "\n",
       "[5 rows x 106 columns]"
      ]
     },
     "execution_count": 18,
     "metadata": {},
     "output_type": "execute_result"
    }
   ],
   "source": [
    "#hide\n",
    "dft_ct_new_cases.head()"
   ]
  },
  {
   "cell_type": "code",
   "execution_count": 19,
   "metadata": {
    "execution": {
     "iopub.execute_input": "2020-10-14T13:24:31.944325Z",
     "iopub.status.busy": "2020-10-14T13:24:31.929080Z",
     "iopub.status.idle": "2020-10-14T13:24:35.824733Z",
     "shell.execute_reply": "2020-10-14T13:24:35.825213Z"
    },
    "papermill": {
     "duration": 3.962701,
     "end_time": "2020-10-14T13:24:35.825377",
     "exception": false,
     "start_time": "2020-10-14T13:24:31.862676",
     "status": "completed"
    },
    "tags": []
   },
   "outputs": [
    {
     "data": {
      "image/png": "[encoded data removed]",
      "text/plain": [
       "<Figure size 1296x2016 with 11 Axes>"
      ]
     },
     "metadata": {
      "needs_background": "light"
     },
     "output_type": "display_data"
    }
   ],
   "source": [
    "#hide_input\n",
    "df = dft_ct_new_cases.copy()\n",
    "df.loc['Total'] = df.sum()\n",
    "n = 5\n",
    "ax = []\n",
    "fig = plt.figure(figsize = (18,28))\n",
    "gs = fig.add_gridspec(n+2, 5)\n",
    "# gs = fig.add_gridspec(2, 3)\n",
    "ax1 = fig.add_subplot(gs[0, :])\n",
    "ef = df.loc['Total'].rename_axis('date').reset_index()\n",
    "ef['date'] = ef['date'].astype('datetime64[ns]')\n",
    "ax1.bar(ef.date,ef.Total,alpha=0.3,color='#007acc')\n",
    "ax1.plot(ef.date,ef.Total , marker=\"o\", color='#007acc')\n",
    "ax1.xaxis.set_major_locator(mdates.WeekdayLocator())\n",
    "ax1.xaxis.set_major_formatter(mdates.DateFormatter('%b %d'))\n",
    "ax1.text(0.02, 0.5,'India daily case count', transform = ax1.transAxes, fontsize=25);\n",
    "ax1.spines['right'].set_visible(False)\n",
    "ax1.spines['top'].set_visible(False)\n",
    "\n",
    "ax2 = fig.add_subplot(gs[1,0])\n",
    "ef = df.loc['Maharashtra'].rename_axis('date').reset_index()\n",
    "ef['date'] = ef['date'].astype('datetime64[ns]')\n",
    "\n",
    "ax2.bar(ef.date, ef.Maharashtra,color = '#007acc',alpha=0.5)\n",
    "ax2.xaxis.set_major_locator(mdates.WeekdayLocator())\n",
    "ax2.xaxis.set_major_formatter(mdates.DateFormatter('%b %d'))\n",
    "ax2.set_xticks(ax2.get_xticks()[::3])\n",
    "maxyval = ef.Maharashtra.max()\n",
    "ax2.set_ylim([0,maxyval])\n",
    "ax2.text(0.05, 0.9,'Maharashtra', transform = ax2.transAxes, fontsize=20);\n",
    "ax2.spines['right'].set_visible(False)\n",
    "ax2.spines['top'].set_visible(False)\n",
    "\n",
    "\n",
    "ax3 = fig.add_subplot(gs[1,1])\n",
    "ef = df.loc['Tamil Nadu'].rename_axis('date').reset_index()\n",
    "ef['date'] = ef['date'].astype('datetime64[ns]')\n",
    "ax3.bar(ef.date, ef['Tamil Nadu'],color = '#007acc',alpha=0.5,)\n",
    "ax3.xaxis.set_major_locator(mdates.WeekdayLocator())\n",
    "ax3.xaxis.set_major_formatter(mdates.DateFormatter('%b %d'))\n",
    "ax3.set_xticks(ax3.get_xticks()[::3])\n",
    "ax3.text(0.05, 0.9,'Tamil Nadu', transform = ax3.transAxes, fontsize=20);\n",
    "ax3.spines['right'].set_visible(False)\n",
    "ax3.spines['top'].set_visible(False)\n",
    "\n",
    "ax5 = fig.add_subplot(gs[1,3])\n",
    "ef = df.loc['Telangana'].rename_axis('date').reset_index()\n",
    "ef['date'] = ef['date'].astype('datetime64[ns]')\n",
    "ax5.bar(ef.date, ef['Telangana'],color = '#007acc',alpha=0.5,)\n",
    "ax5.xaxis.set_major_locator(mdates.WeekdayLocator())\n",
    "ax5.xaxis.set_major_formatter(mdates.DateFormatter('%b %d'))\n",
    "ax5.set_xticks(ax5.get_xticks()[::3])\n",
    "ax5.text(0.05, 0.9,'Telangana', transform = ax5.transAxes, fontsize=20);\n",
    "ax5.spines['right'].set_visible(False)\n",
    "ax5.spines['top'].set_visible(False)\n",
    "\n",
    "ax6 = fig.add_subplot(gs[1,4])\n",
    "ef = df.loc['Andhra Pradesh'].rename_axis('date').reset_index()\n",
    "ef['date'] = ef['date'].astype('datetime64[ns]')\n",
    "ax6.bar(ef.date, ef['Andhra Pradesh'],color = '#007acc',alpha=0.5,)\n",
    "ax6.xaxis.set_major_locator(mdates.WeekdayLocator())\n",
    "ax6.xaxis.set_major_formatter(mdates.DateFormatter('%b %d'))\n",
    "ax6.set_xticks(ax6.get_xticks()[::3])\n",
    "ax6.text(0.05, 1,'Andhra Pradesh', transform = ax6.transAxes, fontsize=20);\n",
    "ax6.spines['right'].set_visible(False)\n",
    "ax6.spines['top'].set_visible(False)\n",
    "\n",
    "ax4 = fig.add_subplot(gs[1,2])\n",
    "ef = df.loc['Delhi'].rename_axis('date').reset_index()\n",
    "ef['date'] = ef['date'].astype('datetime64[ns]')\n",
    "ax4.bar(ef.date, ef.Delhi,color = '#007acc',alpha=0.5)\n",
    "ax4.set_xticks([])\n",
    "ax4.xaxis.set_major_locator(mdates.WeekdayLocator())\n",
    "ax4.xaxis.set_major_formatter(mdates.DateFormatter('%b %d'))\n",
    "ax4.set_xticks(ax4.get_xticks()[::3])\n",
    "ax4.spines['right'].set_visible(False)\n",
    "ax4.spines['top'].set_visible(False)\n",
    "\n",
    "ax4.text(0.05, 1,'Delhi', transform = ax4.transAxes, fontsize=20)\n",
    "\n",
    "for i in range(n):\n",
    "    \n",
    "    ax.append(fig.add_subplot(gs[i+2,:]))\n",
    "    ef = df.iloc[i+3].rename_axis('date').reset_index()\n",
    "    ef['date'] = ef['date'].astype('datetime64[ns]')\n",
    "    ax[i].bar(ef.date,ef.iloc[:,-1],color = '#007acc',alpha=0.3)\n",
    "    ax[i].plot(ef.date,ef.iloc[:,-1],marker='o',color='#007acc')\n",
    "    ax[i].text(0.02,0.5,f'{ef.columns.values[-1]}',transform = ax[i].transAxes, fontsize = 20);\n",
    "    ax[i].xaxis.set_major_locator(mdates.WeekdayLocator())\n",
    "    ax[i].xaxis.set_major_formatter(mdates.DateFormatter('%b %d'))\n",
    "    ax[i].set_ylim([0,7000])\n",
    "    ax[i].spines['right'].set_visible(False)\n",
    "    ax[i].spines['top'].set_visible(False)\n",
    "plt.tight_layout()\n"
   ]
  },
  {
   "cell_type": "code",
   "execution_count": 20,
   "metadata": {
    "execution": {
     "iopub.execute_input": "2020-10-14T13:24:35.883326Z",
     "iopub.status.busy": "2020-10-14T13:24:35.882689Z",
     "iopub.status.idle": "2020-10-14T13:24:35.885619Z",
     "shell.execute_reply": "2020-10-14T13:24:35.885156Z"
    },
    "papermill": {
     "duration": 0.037906,
     "end_time": "2020-10-14T13:24:35.885747",
     "exception": false,
     "start_time": "2020-10-14T13:24:35.847841",
     "status": "completed"
    },
    "tags": []
   },
   "outputs": [
    {
     "name": "stdout",
     "output_type": "stream",
     "text": [
      "                                   states    Cases  Deaths   PCases  PDeaths  Cases (+)  Deaths (+)  Fatality Rate\n",
      "                              Maharashtra  1543837   40701  1543837    40701          0           0           2.64\n",
      "                           Andhra Pradesh   763573    6291   763573     6291          0           0           0.82\n",
      "                                Karnataka   726106   10123   726106    10123          0           0           1.39\n",
      "                               Tamil Nadu   665930   10371   665930    10371          0           0           1.56\n",
      "                            Uttar Pradesh   444711    6507   442118     6466       2593          41           1.46\n",
      "                                    Delhi   314224    5854   314224     5854          0           0           1.86\n",
      "                                   Kerala   303897    1047   303897     1047          0           0           0.34\n",
      "                              West Bengal   302020    5744   302020     5744          0           0           1.90\n",
      "                                   Odisha   259541    1125   256937     1110       2604          15           0.43\n",
      "                                Telangana   216238    1241   214792     1233       1446           8           0.57\n",
      "                                    Bihar   198223     961   198223      961          0           0           0.48\n",
      "                                    Assam   196786     830   196786      830          0           0           0.42\n",
      "                                Rajasthan   163219    1679   163219     1679          0           0           1.03\n",
      "                                  Gujarat   153923    3587   153923     3587          0           0           2.33\n",
      "                           Madhya Pradesh   149761    2671   149761     2671          0           0           1.78\n",
      "                             Chhattisgarh   147866    1306   147866     1306          0           0           0.88\n",
      "                                  Haryana   144302    1601   144302     1601          0           0           1.11\n",
      "                                   Punjab   125211    3894   125211     3894          0           0           3.11\n",
      "                                Jharkhand    93736     805    93736      805          0           0           0.86\n",
      "                        Jammu and Kashmir    84708    1340    84708     1340          0           0           1.58\n",
      "                              Uttarakhand    55641     782    55641      782          0           0           1.41\n",
      "                                      Goa    39082     514    39082      514          0           0           1.32\n",
      "                               Puducherry    32004     567    32004      567          0           0           1.77\n",
      "                                  Tripura    28856     315    28675      314        181           1           1.09\n",
      "                         Himachal Pradesh    17762     249    17762      249          0           0           1.40\n",
      "                                  Manipur    13793      97    13793       97          0           0           0.70\n",
      "                               Chandigarh    13331     197    13331      197          0           0           1.48\n",
      "                        Arunachal Pradesh    12561      28    12561       28          0           0           0.22\n",
      "                                Meghalaya     7838      65     7838       65          0           0           0.83\n",
      "                                 Nagaland     7363      14     7363       14          0           0           0.19\n",
      "                                   Ladakh     5238      64     5238       64          0           0           1.22\n",
      "              Andaman and Nicobar Islands     4036      55     4036       55          0           0           1.36\n",
      "                                   Sikkim     3417      59     3417       59          0           0           1.73\n",
      " Dadra and Nagar Haveli and Daman and Diu     3167       2     3167        2          0           0           0.06\n",
      "                                  Mizoram     2212       0     2202        0         10           0           0.00\n",
      "                              Lakshadweep        0       0        0        0          0           0            NaN\n"
     ]
    }
   ],
   "source": [
    "#hide_input\n",
    "print(df_table.to_string(index=False))"
   ]
  },
  {
   "cell_type": "code",
   "execution_count": null,
   "metadata": {
    "papermill": {
     "duration": 0.022602,
     "end_time": "2020-10-14T13:24:35.930293",
     "exception": false,
     "start_time": "2020-10-14T13:24:35.907691",
     "status": "completed"
    },
    "tags": []
   },
   "outputs": [],
   "source": []
  },
  {
   "cell_type": "code",
   "execution_count": null,
   "metadata": {
    "papermill": {
     "duration": 0.022062,
     "end_time": "2020-10-14T13:24:35.974647",
     "exception": false,
     "start_time": "2020-10-14T13:24:35.952585",
     "status": "completed"
    },
    "tags": []
   },
   "outputs": [],
   "source": []
  }
 ],
 "metadata": {
  "kernelspec": {
   "display_name": "Python 3",
   "language": "python",
   "name": "python3"
  },
  "language_info": {
   "codemirror_mode": {
    "name": "ipython",
    "version": 3
   },
   "file_extension": ".py",
   "mimetype": "text/x-python",
   "name": "python",
   "nbconvert_exporter": "python",
   "pygments_lexer": "ipython3",
   "version": "3.6.12"
  },
  "papermill": {
   "duration": 9.9392,
   "end_time": "2020-10-14T13:24:36.405885",
   "environment_variables": {},
   "exception": null,
   "input_path": "latest.ipynb",
   "output_path": "latest.ipynb",
   "parameters": {},
   "start_time": "2020-10-14T13:24:26.466685",
   "version": "2.1.2"
  }
 },
 "nbformat": 4,
 "nbformat_minor": 4
}