{
 "cells": [
  {
   "cell_type": "markdown",
   "metadata": {
    "papermill": {
     "duration": 0.026243,
     "end_time": "2020-09-28T13:52:29.817921",
     "exception": false,
     "start_time": "2020-09-28T13:52:29.791678",
     "status": "completed"
    },
    "tags": []
   },
   "source": [
    "# Latest COVID-19 India Matplotlib Overview"
   ]
  },
  {
   "cell_type": "code",
   "execution_count": 1,
   "metadata": {
    "execution": {
     "iopub.execute_input": "2020-09-28T13:52:29.861452Z",
     "iopub.status.busy": "2020-09-28T13:52:29.860742Z",
     "iopub.status.idle": "2020-09-28T13:52:30.515712Z",
     "shell.execute_reply": "2020-09-28T13:52:30.515084Z"
    },
    "papermill": {
     "duration": 0.679722,
     "end_time": "2020-09-28T13:52:30.515904",
     "exception": false,
     "start_time": "2020-09-28T13:52:29.836182",
     "status": "completed"
    },
    "tags": []
   },
   "outputs": [],
   "source": [
    "#hide\n",
    "import pandas as pd\n",
    "import numpy as np\n",
    "import requests\n",
    "import json\n",
    "import matplotlib.pyplot as plt\n",
    "import matplotlib.dates as mdates\n",
    "import matplotlib as mpl\n",
    "from IPython.core.display import display,HTML\n",
    "%matplotlib inline\n",
    "from datetime import date"
   ]
  },
  {
   "cell_type": "code",
   "execution_count": 2,
   "metadata": {
    "execution": {
     "iopub.execute_input": "2020-09-28T13:52:30.559171Z",
     "iopub.status.busy": "2020-09-28T13:52:30.558186Z",
     "iopub.status.idle": "2020-09-28T13:52:31.538539Z",
     "shell.execute_reply": "2020-09-28T13:52:31.537963Z"
    },
    "papermill": {
     "duration": 1.005011,
     "end_time": "2020-09-28T13:52:31.538687",
     "exception": false,
     "start_time": "2020-09-28T13:52:30.533676",
     "status": "completed"
    },
    "tags": []
   },
   "outputs": [],
   "source": [
    "#hide\n",
    "df  = pd.read_csv('https://api.covid19india.org/csv/latest/states.csv')\n",
    "df = df[['Date','State','Confirmed','Deceased']]\n",
    "df = df.rename(columns={'Confirmed':'Cases', \"Deceased\":'Deaths'})\n",
    "df_cases = df[[\"Date\",'State','Cases']]\n",
    "df_deaths = df[['Date','State','Deaths']]\n",
    "df_cases1 = df_cases.groupby('Date')\n",
    "df_deaths1= df_deaths.groupby('Date')"
   ]
  },
  {
   "cell_type": "code",
   "execution_count": 3,
   "metadata": {
    "execution": {
     "iopub.execute_input": "2020-09-28T13:52:31.579980Z",
     "iopub.status.busy": "2020-09-28T13:52:31.579184Z",
     "iopub.status.idle": "2020-09-28T13:52:31.601384Z",
     "shell.execute_reply": "2020-09-28T13:52:31.599814Z"
    },
    "papermill": {
     "duration": 0.045308,
     "end_time": "2020-09-28T13:52:31.601578",
     "exception": false,
     "start_time": "2020-09-28T13:52:31.556270",
     "status": "completed"
    },
    "tags": []
   },
   "outputs": [],
   "source": [
    "#hide\n",
    "df_snap = pd.read_csv('data/SnapshotCases-28-July.csv')\n",
    "arr_states = df_snap['states'].unique()\n",
    "arr_dates = df['Date'].unique()\n",
    "df_snap = df_snap.set_index('states')"
   ]
  },
  {
   "cell_type": "code",
   "execution_count": 4,
   "metadata": {
    "execution": {
     "iopub.execute_input": "2020-09-28T13:52:31.643703Z",
     "iopub.status.busy": "2020-09-28T13:52:31.642952Z",
     "iopub.status.idle": "2020-09-28T13:52:31.646774Z",
     "shell.execute_reply": "2020-09-28T13:52:31.646140Z"
    },
    "papermill": {
     "duration": 0.028304,
     "end_time": "2020-09-28T13:52:31.646915",
     "exception": false,
     "start_time": "2020-09-28T13:52:31.618611",
     "status": "completed"
    },
    "tags": []
   },
   "outputs": [
    {
     "data": {
      "text/plain": [
       "array(['Andaman and Nicobar Islands', 'Andhra Pradesh',\n",
       "       'Arunachal Pradesh', 'Assam', 'Bihar', 'Chandigarh',\n",
       "       'Dadra and Nagar Haveli and Daman and Diu', 'Delhi', 'Goa',\n",
       "       'Gujarat', 'Haryana', 'Himachal Pradesh', 'Jammu and Kashmir',\n",
       "       'Jharkhand', 'Karnataka', 'Kerala', 'Lakshadweep',\n",
       "       'Madhya Pradesh', 'Maharashtra', 'Manipur', 'Meghalaya', 'Mizoram',\n",
       "       'Nagaland', 'Odisha', 'Puducherry', 'Punjab', 'Rajasthan',\n",
       "       'Sikkim', 'Tamil Nadu', 'Telangana', 'Tripura', 'Uttar Pradesh',\n",
       "       'West Bengal', 'Chhattisgarh', 'Ladakh', 'Uttarakhand'],\n",
       "      dtype=object)"
      ]
     },
     "execution_count": 4,
     "metadata": {},
     "output_type": "execute_result"
    }
   ],
   "source": [
    "#hide\n",
    "arr_states[-9] = 'Puducherry'\n",
    "arr_states[-10] = 'Odisha'\n",
    "arr_states[6] = 'Dadra and Nagar Haveli and Daman and Diu'\n",
    "arr_states = np.append(arr_states,np.array(['Chhattisgarh','Ladakh','Uttarakhand']))\n",
    "arr_states"
   ]
  },
  {
   "cell_type": "code",
   "execution_count": 5,
   "metadata": {
    "execution": {
     "iopub.execute_input": "2020-09-28T13:52:31.702241Z",
     "iopub.status.busy": "2020-09-28T13:52:31.701542Z",
     "iopub.status.idle": "2020-09-28T13:52:31.704813Z",
     "shell.execute_reply": "2020-09-28T13:52:31.705367Z"
    },
    "papermill": {
     "duration": 0.039608,
     "end_time": "2020-09-28T13:52:31.705567",
     "exception": false,
     "start_time": "2020-09-28T13:52:31.665959",
     "status": "completed"
    },
    "tags": []
   },
   "outputs": [],
   "source": [
    "#hide\n",
    "dates = []\n",
    "for i in arr_dates:\n",
    "    if i>='2020-07-01':\n",
    "        dates.append(i)\n",
    "dict = {'states':dates}\n",
    "for i in arr_states:\n",
    "    dict[i] = [0]*len(dates)\n",
    "dft_cases = pd.DataFrame(dict)\n",
    "dft_deaths = pd.DataFrame(dict)\n"
   ]
  },
  {
   "cell_type": "code",
   "execution_count": 6,
   "metadata": {
    "execution": {
     "iopub.execute_input": "2020-09-28T13:52:31.748748Z",
     "iopub.status.busy": "2020-09-28T13:52:31.747995Z",
     "iopub.status.idle": "2020-09-28T13:52:33.412111Z",
     "shell.execute_reply": "2020-09-28T13:52:33.411507Z"
    },
    "papermill": {
     "duration": 1.688491,
     "end_time": "2020-09-28T13:52:33.412271",
     "exception": false,
     "start_time": "2020-09-28T13:52:31.723780",
     "status": "completed"
    },
    "tags": []
   },
   "outputs": [],
   "source": [
    "#hide\n",
    "for i in range(len(dates)):\n",
    "    df1_deaths = df_deaths1.get_group(dates[i])\n",
    "    for j in range(len(df1_deaths.index)):\n",
    "        if df1_deaths.iloc[j,1] in arr_states:\n",
    "            dft_deaths.loc[i,df1_deaths.iloc[j,1]] = df1_deaths.iloc[j,2]\n",
    "dft_deaths = dft_deaths.set_index('states')"
   ]
  },
  {
   "cell_type": "code",
   "execution_count": 7,
   "metadata": {
    "execution": {
     "iopub.execute_input": "2020-09-28T13:52:33.455771Z",
     "iopub.status.busy": "2020-09-28T13:52:33.455064Z",
     "iopub.status.idle": "2020-09-28T13:52:35.172336Z",
     "shell.execute_reply": "2020-09-28T13:52:35.171431Z"
    },
    "papermill": {
     "duration": 1.741617,
     "end_time": "2020-09-28T13:52:35.172495",
     "exception": false,
     "start_time": "2020-09-28T13:52:33.430878",
     "status": "completed"
    },
    "tags": []
   },
   "outputs": [],
   "source": [
    "#hide\n",
    "for i in range(len(dates)):\n",
    "    df1_cases = df_cases1.get_group(dates[i])\n",
    "    for j in range(len(df1_cases.index)):\n",
    "        if df1_cases.iloc[j,1] in arr_states:\n",
    "            dft_cases.loc[i,df1_cases.iloc[j,1]] = df1_cases.iloc[j,2]\n",
    "dft_cases = dft_cases.set_index('states')"
   ]
  },
  {
   "cell_type": "code",
   "execution_count": 8,
   "metadata": {
    "execution": {
     "iopub.execute_input": "2020-09-28T13:52:35.215683Z",
     "iopub.status.busy": "2020-09-28T13:52:35.215015Z",
     "iopub.status.idle": "2020-09-28T13:52:35.219555Z",
     "shell.execute_reply": "2020-09-28T13:52:35.218985Z"
    },
    "papermill": {
     "duration": 0.028529,
     "end_time": "2020-09-28T13:52:35.219700",
     "exception": false,
     "start_time": "2020-09-28T13:52:35.191171",
     "status": "completed"
    },
    "tags": []
   },
   "outputs": [],
   "source": [
    "#hide\n",
    "dft_cases = dft_cases.T\n",
    "dft_deaths = dft_deaths.T\n",
    "dt_today = dates[-1]\n",
    "dt_yday = dates[-2]"
   ]
  },
  {
   "cell_type": "code",
   "execution_count": 9,
   "metadata": {
    "execution": {
     "iopub.execute_input": "2020-09-28T13:52:35.265091Z",
     "iopub.status.busy": "2020-09-28T13:52:35.263635Z",
     "iopub.status.idle": "2020-09-28T13:52:35.265819Z",
     "shell.execute_reply": "2020-09-28T13:52:35.266400Z"
    },
    "papermill": {
     "duration": 0.029279,
     "end_time": "2020-09-28T13:52:35.266560",
     "exception": false,
     "start_time": "2020-09-28T13:52:35.237281",
     "status": "completed"
    },
    "tags": []
   },
   "outputs": [],
   "source": [
    "#hide\n",
    "dft_cases = dft_cases.reset_index()\n",
    "dft_deaths = dft_deaths.reset_index()\n",
    "dft_cases = dft_cases.rename(columns = {'index':'state'})\n",
    "dft_deaths = dft_deaths.rename(columns = {'index':'state'})"
   ]
  },
  {
   "cell_type": "code",
   "execution_count": 10,
   "metadata": {
    "execution": {
     "iopub.execute_input": "2020-09-28T13:52:35.325271Z",
     "iopub.status.busy": "2020-09-28T13:52:35.315832Z",
     "iopub.status.idle": "2020-09-28T13:52:35.332439Z",
     "shell.execute_reply": "2020-09-28T13:52:35.333069Z"
    },
    "papermill": {
     "duration": 0.046362,
     "end_time": "2020-09-28T13:52:35.333260",
     "exception": false,
     "start_time": "2020-09-28T13:52:35.286898",
     "status": "completed"
    },
    "tags": []
   },
   "outputs": [],
   "source": [
    "#hide\n",
    "dfc_cases = dft_cases.groupby('state')[dt_today].sum()\n",
    "dfc_deaths = dft_deaths.groupby('state')[dt_today].sum()\n",
    "dfp_cases = dft_cases.groupby('state')[dt_yday].sum()\n",
    "dfp_deaths = dft_deaths.groupby('state')[dt_yday].sum()"
   ]
  },
  {
   "cell_type": "code",
   "execution_count": 11,
   "metadata": {
    "execution": {
     "iopub.execute_input": "2020-09-28T13:52:35.383735Z",
     "iopub.status.busy": "2020-09-28T13:52:35.382798Z",
     "iopub.status.idle": "2020-09-28T13:52:35.397919Z",
     "shell.execute_reply": "2020-09-28T13:52:35.398540Z"
    },
    "papermill": {
     "duration": 0.046262,
     "end_time": "2020-09-28T13:52:35.398732",
     "exception": false,
     "start_time": "2020-09-28T13:52:35.352470",
     "status": "completed"
    },
    "tags": []
   },
   "outputs": [
    {
     "data": {
      "text/html": [
       "<div>\n",
       "<style scoped>\n",
       "    .dataframe tbody tr th:only-of-type {\n",
       "        vertical-align: middle;\n",
       "    }\n",
       "\n",
       "    .dataframe tbody tr th {\n",
       "        vertical-align: top;\n",
       "    }\n",
       "\n",
       "    .dataframe thead th {\n",
       "        text-align: right;\n",
       "    }\n",
       "</style>\n",
       "<table border=\"1\" class=\"dataframe\">\n",
       "  <thead>\n",
       "    <tr style=\"text-align: right;\">\n",
       "      <th></th>\n",
       "      <th>states</th>\n",
       "      <th>Cases</th>\n",
       "      <th>Deaths</th>\n",
       "      <th>PCases</th>\n",
       "      <th>PDeaths</th>\n",
       "    </tr>\n",
       "  </thead>\n",
       "  <tbody>\n",
       "    <tr>\n",
       "      <th>0</th>\n",
       "      <td>Maharashtra</td>\n",
       "      <td>1339232</td>\n",
       "      <td>35571</td>\n",
       "      <td>1339232</td>\n",
       "      <td>35571</td>\n",
       "    </tr>\n",
       "    <tr>\n",
       "      <th>1</th>\n",
       "      <td>Andhra Pradesh</td>\n",
       "      <td>675674</td>\n",
       "      <td>5708</td>\n",
       "      <td>675674</td>\n",
       "      <td>5708</td>\n",
       "    </tr>\n",
       "    <tr>\n",
       "      <th>2</th>\n",
       "      <td>Tamil Nadu</td>\n",
       "      <td>580808</td>\n",
       "      <td>9313</td>\n",
       "      <td>580808</td>\n",
       "      <td>9313</td>\n",
       "    </tr>\n",
       "    <tr>\n",
       "      <th>3</th>\n",
       "      <td>Karnataka</td>\n",
       "      <td>575566</td>\n",
       "      <td>8582</td>\n",
       "      <td>575566</td>\n",
       "      <td>8582</td>\n",
       "    </tr>\n",
       "    <tr>\n",
       "      <th>4</th>\n",
       "      <td>Uttar Pradesh</td>\n",
       "      <td>387085</td>\n",
       "      <td>5594</td>\n",
       "      <td>387085</td>\n",
       "      <td>5594</td>\n",
       "    </tr>\n",
       "  </tbody>\n",
       "</table>\n",
       "</div>"
      ],
      "text/plain": [
       "           states    Cases  Deaths   PCases  PDeaths\n",
       "0     Maharashtra  1339232   35571  1339232    35571\n",
       "1  Andhra Pradesh   675674    5708   675674     5708\n",
       "2      Tamil Nadu   580808    9313   580808     9313\n",
       "3       Karnataka   575566    8582   575566     8582\n",
       "4   Uttar Pradesh   387085    5594   387085     5594"
      ]
     },
     "execution_count": 11,
     "metadata": {},
     "output_type": "execute_result"
    }
   ],
   "source": [
    "#hide\n",
    "df_table = pd.DataFrame({'states': dfc_cases.index, 'Cases': dfc_cases.values, 'Deaths': dfc_deaths.values, 'PCases': dfp_cases.values, 'PDeaths': dfp_deaths.values}).set_index('states')\n",
    "df_table = df_table.sort_values(by = ['Cases','Deaths'], ascending = [False, False])\n",
    "df_table = df_table.reset_index()\n",
    "df_table.head()"
   ]
  },
  {
   "cell_type": "code",
   "execution_count": 12,
   "metadata": {
    "execution": {
     "iopub.execute_input": "2020-09-28T13:52:35.442107Z",
     "iopub.status.busy": "2020-09-28T13:52:35.441430Z",
     "iopub.status.idle": "2020-09-28T13:52:35.452652Z",
     "shell.execute_reply": "2020-09-28T13:52:35.453222Z"
    },
    "papermill": {
     "duration": 0.03637,
     "end_time": "2020-09-28T13:52:35.453403",
     "exception": false,
     "start_time": "2020-09-28T13:52:35.417033",
     "status": "completed"
    },
    "tags": []
   },
   "outputs": [],
   "source": [
    "#hide\n",
    "for c in 'Cases, Deaths'.split(', '):\n",
    "    df_table[f'{c} (+)'] = (df_table[c] - df_table[f'P{c}']).clip(0)\n",
    "df_table['Fatality Rate'] = (100* df_table['Deaths']/ df_table['Cases']).round(2)"
   ]
  },
  {
   "cell_type": "code",
   "execution_count": 13,
   "metadata": {
    "execution": {
     "iopub.execute_input": "2020-09-28T13:52:35.503430Z",
     "iopub.status.busy": "2020-09-28T13:52:35.502576Z",
     "iopub.status.idle": "2020-09-28T13:52:35.509798Z",
     "shell.execute_reply": "2020-09-28T13:52:35.509233Z"
    },
    "papermill": {
     "duration": 0.038261,
     "end_time": "2020-09-28T13:52:35.509954",
     "exception": false,
     "start_time": "2020-09-28T13:52:35.471693",
     "status": "completed"
    },
    "tags": []
   },
   "outputs": [
    {
     "data": {
      "text/html": [
       "<div>\n",
       "<style scoped>\n",
       "    .dataframe tbody tr th:only-of-type {\n",
       "        vertical-align: middle;\n",
       "    }\n",
       "\n",
       "    .dataframe tbody tr th {\n",
       "        vertical-align: top;\n",
       "    }\n",
       "\n",
       "    .dataframe thead th {\n",
       "        text-align: right;\n",
       "    }\n",
       "</style>\n",
       "<table border=\"1\" class=\"dataframe\">\n",
       "  <thead>\n",
       "    <tr style=\"text-align: right;\">\n",
       "      <th></th>\n",
       "      <th>states</th>\n",
       "      <th>Cases</th>\n",
       "      <th>Deaths</th>\n",
       "      <th>PCases</th>\n",
       "      <th>PDeaths</th>\n",
       "      <th>Cases (+)</th>\n",
       "      <th>Deaths (+)</th>\n",
       "      <th>Fatality Rate</th>\n",
       "    </tr>\n",
       "  </thead>\n",
       "  <tbody>\n",
       "    <tr>\n",
       "      <th>0</th>\n",
       "      <td>Maharashtra</td>\n",
       "      <td>1339232</td>\n",
       "      <td>35571</td>\n",
       "      <td>1339232</td>\n",
       "      <td>35571</td>\n",
       "      <td>0</td>\n",
       "      <td>0</td>\n",
       "      <td>2.66</td>\n",
       "    </tr>\n",
       "    <tr>\n",
       "      <th>1</th>\n",
       "      <td>Andhra Pradesh</td>\n",
       "      <td>675674</td>\n",
       "      <td>5708</td>\n",
       "      <td>675674</td>\n",
       "      <td>5708</td>\n",
       "      <td>0</td>\n",
       "      <td>0</td>\n",
       "      <td>0.84</td>\n",
       "    </tr>\n",
       "    <tr>\n",
       "      <th>2</th>\n",
       "      <td>Tamil Nadu</td>\n",
       "      <td>580808</td>\n",
       "      <td>9313</td>\n",
       "      <td>580808</td>\n",
       "      <td>9313</td>\n",
       "      <td>0</td>\n",
       "      <td>0</td>\n",
       "      <td>1.60</td>\n",
       "    </tr>\n",
       "    <tr>\n",
       "      <th>3</th>\n",
       "      <td>Karnataka</td>\n",
       "      <td>575566</td>\n",
       "      <td>8582</td>\n",
       "      <td>575566</td>\n",
       "      <td>8582</td>\n",
       "      <td>0</td>\n",
       "      <td>0</td>\n",
       "      <td>1.49</td>\n",
       "    </tr>\n",
       "    <tr>\n",
       "      <th>4</th>\n",
       "      <td>Uttar Pradesh</td>\n",
       "      <td>387085</td>\n",
       "      <td>5594</td>\n",
       "      <td>387085</td>\n",
       "      <td>5594</td>\n",
       "      <td>0</td>\n",
       "      <td>0</td>\n",
       "      <td>1.45</td>\n",
       "    </tr>\n",
       "  </tbody>\n",
       "</table>\n",
       "</div>"
      ],
      "text/plain": [
       "           states    Cases  Deaths   PCases  PDeaths  Cases (+)  Deaths (+)  \\\n",
       "0     Maharashtra  1339232   35571  1339232    35571          0           0   \n",
       "1  Andhra Pradesh   675674    5708   675674     5708          0           0   \n",
       "2      Tamil Nadu   580808    9313   580808     9313          0           0   \n",
       "3       Karnataka   575566    8582   575566     8582          0           0   \n",
       "4   Uttar Pradesh   387085    5594   387085     5594          0           0   \n",
       "\n",
       "   Fatality Rate  \n",
       "0           2.66  \n",
       "1           0.84  \n",
       "2           1.60  \n",
       "3           1.49  \n",
       "4           1.45  "
      ]
     },
     "execution_count": 13,
     "metadata": {},
     "output_type": "execute_result"
    }
   ],
   "source": [
    "#hide\n",
    "df_table.head()"
   ]
  },
  {
   "cell_type": "code",
   "execution_count": 14,
   "metadata": {
    "execution": {
     "iopub.execute_input": "2020-09-28T13:52:35.567666Z",
     "iopub.status.busy": "2020-09-28T13:52:35.552434Z",
     "iopub.status.idle": "2020-09-28T13:52:35.571028Z",
     "shell.execute_reply": "2020-09-28T13:52:35.570440Z"
    },
    "papermill": {
     "duration": 0.042583,
     "end_time": "2020-09-28T13:52:35.571202",
     "exception": false,
     "start_time": "2020-09-28T13:52:35.528619",
     "status": "completed"
    },
    "tags": []
   },
   "outputs": [
    {
     "data": {
      "text/plain": [
       "{'updated': '2020-09-28',\n",
       " 'since': '2020-09-27',\n",
       " 'Cases': 6083888,\n",
       " 'PCases': 6073351,\n",
       " 'Deaths': 95626,\n",
       " 'PDeaths': 95576,\n",
       " 'Cases (+)': 10537,\n",
       " 'Deaths (+)': 50}"
      ]
     },
     "execution_count": 14,
     "metadata": {},
     "output_type": "execute_result"
    }
   ],
   "source": [
    "#hide\n",
    "summary = {'updated':dates[-1], 'since':dates[-2]}\n",
    "list_names = ['Cases', 'PCases', 'Deaths', 'PDeaths', 'Cases (+)', 'Deaths (+)']\n",
    "for name in list_names:\n",
    "    summary[name] = df_table.sum()[name]\n",
    "summary"
   ]
  },
  {
   "cell_type": "code",
   "execution_count": 15,
   "metadata": {
    "execution": {
     "iopub.execute_input": "2020-09-28T13:52:35.614766Z",
     "iopub.status.busy": "2020-09-28T13:52:35.614001Z",
     "iopub.status.idle": "2020-09-28T13:52:35.616123Z",
     "shell.execute_reply": "2020-09-28T13:52:35.616840Z"
    },
    "papermill": {
     "duration": 0.026893,
     "end_time": "2020-09-28T13:52:35.617001",
     "exception": false,
     "start_time": "2020-09-28T13:52:35.590108",
     "status": "completed"
    },
    "tags": []
   },
   "outputs": [],
   "source": [
    "#hide\n",
    "overview = '''\n",
    "<!-- #######  HTML!! #########-->\n",
    "<h1 style=\"color: #5e9ca0; text-align: center;\">India</h1>\n",
    "<p style=\"text-align: center;\">Last update: <strong>{update}</strong></p>\n",
    "<p style=\"text-align: center;\">Confirmed cases:</p>\n",
    "<p style=\"text-align: center;font-size:24px;\">{cases} (<span style=\"color: #ff0000;\">+{new}</span>)</p>\n",
    "<p style=\"text-align: center;\">Confirmed deaths:</p>\n",
    "<p style=\"text-align: center;font-size:24px;\">{deaths} (<span style=\"color: #ff0000;\">+{dnew}</span>)</p>\n",
    "'''"
   ]
  },
  {
   "cell_type": "code",
   "execution_count": 16,
   "metadata": {
    "execution": {
     "iopub.execute_input": "2020-09-28T13:52:35.664352Z",
     "iopub.status.busy": "2020-09-28T13:52:35.663538Z",
     "iopub.status.idle": "2020-09-28T13:52:35.666386Z",
     "shell.execute_reply": "2020-09-28T13:52:35.666948Z"
    },
    "papermill": {
     "duration": 0.030914,
     "end_time": "2020-09-28T13:52:35.667128",
     "exception": false,
     "start_time": "2020-09-28T13:52:35.636214",
     "status": "completed"
    },
    "tags": []
   },
   "outputs": [
    {
     "data": {
      "text/html": [
       "\n",
       "<!-- #######  HTML!! #########-->\n",
       "<h1 style=\"color: #5e9ca0; text-align: center;\">India</h1>\n",
       "<p style=\"text-align: center;\">Last update: <strong>2020-09-28</strong></p>\n",
       "<p style=\"text-align: center;\">Confirmed cases:</p>\n",
       "<p style=\"text-align: center;font-size:24px;\">6083888 (<span style=\"color: #ff0000;\">+10537</span>)</p>\n",
       "<p style=\"text-align: center;\">Confirmed deaths:</p>\n",
       "<p style=\"text-align: center;font-size:24px;\">95626 (<span style=\"color: #ff0000;\">+50</span>)</p>\n"
      ],
      "text/plain": [
       "<IPython.core.display.HTML object>"
      ]
     },
     "metadata": {},
     "output_type": "display_data"
    }
   ],
   "source": [
    "#hide_input\n",
    "update = summary['updated']\n",
    "cases = summary['Cases']\n",
    "new = summary['Cases (+)']\n",
    "deaths = summary['Deaths']\n",
    "dnew = summary['Deaths (+)']\n",
    "\n",
    "html = HTML(overview.format(update=update, cases=cases,new=new,deaths=deaths,dnew=dnew))\n",
    "\n",
    "display(html)"
   ]
  },
  {
   "cell_type": "code",
   "execution_count": 17,
   "metadata": {
    "execution": {
     "iopub.execute_input": "2020-09-28T13:52:35.715473Z",
     "iopub.status.busy": "2020-09-28T13:52:35.714648Z",
     "iopub.status.idle": "2020-09-28T13:52:35.720943Z",
     "shell.execute_reply": "2020-09-28T13:52:35.721636Z"
    },
    "papermill": {
     "duration": 0.035134,
     "end_time": "2020-09-28T13:52:35.721825",
     "exception": false,
     "start_time": "2020-09-28T13:52:35.686691",
     "status": "completed"
    },
    "tags": []
   },
   "outputs": [],
   "source": [
    "#hide\n",
    "dt_cols = list(dft_cases.columns[1:])\n",
    "dft_ct_new_cases = dft_cases.groupby('state')[dt_cols].sum().diff(axis=1).fillna(0).astype(int)\n",
    "dft_ct_new_cases.sort_values(by = dates[-1], ascending = False,inplace = True)"
   ]
  },
  {
   "cell_type": "code",
   "execution_count": 18,
   "metadata": {
    "execution": {
     "iopub.execute_input": "2020-09-28T13:52:35.784248Z",
     "iopub.status.busy": "2020-09-28T13:52:35.783429Z",
     "iopub.status.idle": "2020-09-28T13:52:35.787500Z",
     "shell.execute_reply": "2020-09-28T13:52:35.786818Z"
    },
    "papermill": {
     "duration": 0.045389,
     "end_time": "2020-09-28T13:52:35.787655",
     "exception": false,
     "start_time": "2020-09-28T13:52:35.742266",
     "status": "completed"
    },
    "tags": []
   },
   "outputs": [
    {
     "data": {
      "text/html": [
       "<div>\n",
       "<style scoped>\n",
       "    .dataframe tbody tr th:only-of-type {\n",
       "        vertical-align: middle;\n",
       "    }\n",
       "\n",
       "    .dataframe tbody tr th {\n",
       "        vertical-align: top;\n",
       "    }\n",
       "\n",
       "    .dataframe thead th {\n",
       "        text-align: right;\n",
       "    }\n",
       "</style>\n",
       "<table border=\"1\" class=\"dataframe\">\n",
       "  <thead>\n",
       "    <tr style=\"text-align: right;\">\n",
       "      <th>states</th>\n",
       "      <th>2020-07-01</th>\n",
       "      <th>2020-07-02</th>\n",
       "      <th>2020-07-03</th>\n",
       "      <th>2020-07-04</th>\n",
       "      <th>2020-07-05</th>\n",
       "      <th>2020-07-06</th>\n",
       "      <th>2020-07-07</th>\n",
       "      <th>2020-07-08</th>\n",
       "      <th>2020-07-09</th>\n",
       "      <th>2020-07-10</th>\n",
       "      <th>...</th>\n",
       "      <th>2020-09-19</th>\n",
       "      <th>2020-09-20</th>\n",
       "      <th>2020-09-21</th>\n",
       "      <th>2020-09-22</th>\n",
       "      <th>2020-09-23</th>\n",
       "      <th>2020-09-24</th>\n",
       "      <th>2020-09-25</th>\n",
       "      <th>2020-09-26</th>\n",
       "      <th>2020-09-27</th>\n",
       "      <th>2020-09-28</th>\n",
       "    </tr>\n",
       "    <tr>\n",
       "      <th>state</th>\n",
       "      <th></th>\n",
       "      <th></th>\n",
       "      <th></th>\n",
       "      <th></th>\n",
       "      <th></th>\n",
       "      <th></th>\n",
       "      <th></th>\n",
       "      <th></th>\n",
       "      <th></th>\n",
       "      <th></th>\n",
       "      <th></th>\n",
       "      <th></th>\n",
       "      <th></th>\n",
       "      <th></th>\n",
       "      <th></th>\n",
       "      <th></th>\n",
       "      <th></th>\n",
       "      <th></th>\n",
       "      <th></th>\n",
       "      <th></th>\n",
       "      <th></th>\n",
       "    </tr>\n",
       "  </thead>\n",
       "  <tbody>\n",
       "    <tr>\n",
       "      <th>Kerala</th>\n",
       "      <td>0</td>\n",
       "      <td>160</td>\n",
       "      <td>211</td>\n",
       "      <td>240</td>\n",
       "      <td>225</td>\n",
       "      <td>193</td>\n",
       "      <td>272</td>\n",
       "      <td>301</td>\n",
       "      <td>339</td>\n",
       "      <td>416</td>\n",
       "      <td>...</td>\n",
       "      <td>4644</td>\n",
       "      <td>4696</td>\n",
       "      <td>2910</td>\n",
       "      <td>4125</td>\n",
       "      <td>5376</td>\n",
       "      <td>6324</td>\n",
       "      <td>6477</td>\n",
       "      <td>7006</td>\n",
       "      <td>7445</td>\n",
       "      <td>4538</td>\n",
       "    </tr>\n",
       "    <tr>\n",
       "      <th>Odisha</th>\n",
       "      <td>0</td>\n",
       "      <td>229</td>\n",
       "      <td>561</td>\n",
       "      <td>495</td>\n",
       "      <td>469</td>\n",
       "      <td>456</td>\n",
       "      <td>571</td>\n",
       "      <td>527</td>\n",
       "      <td>577</td>\n",
       "      <td>755</td>\n",
       "      <td>...</td>\n",
       "      <td>4209</td>\n",
       "      <td>4330</td>\n",
       "      <td>4242</td>\n",
       "      <td>4189</td>\n",
       "      <td>4237</td>\n",
       "      <td>4340</td>\n",
       "      <td>4208</td>\n",
       "      <td>4356</td>\n",
       "      <td>3922</td>\n",
       "      <td>3235</td>\n",
       "    </tr>\n",
       "    <tr>\n",
       "      <th>Telangana</th>\n",
       "      <td>0</td>\n",
       "      <td>1213</td>\n",
       "      <td>1892</td>\n",
       "      <td>1850</td>\n",
       "      <td>1590</td>\n",
       "      <td>1831</td>\n",
       "      <td>1879</td>\n",
       "      <td>1924</td>\n",
       "      <td>1410</td>\n",
       "      <td>1278</td>\n",
       "      <td>...</td>\n",
       "      <td>2123</td>\n",
       "      <td>2137</td>\n",
       "      <td>1302</td>\n",
       "      <td>2166</td>\n",
       "      <td>2296</td>\n",
       "      <td>2176</td>\n",
       "      <td>2381</td>\n",
       "      <td>2239</td>\n",
       "      <td>1967</td>\n",
       "      <td>1378</td>\n",
       "    </tr>\n",
       "    <tr>\n",
       "      <th>Bihar</th>\n",
       "      <td>0</td>\n",
       "      <td>478</td>\n",
       "      <td>426</td>\n",
       "      <td>349</td>\n",
       "      <td>403</td>\n",
       "      <td>280</td>\n",
       "      <td>385</td>\n",
       "      <td>749</td>\n",
       "      <td>704</td>\n",
       "      <td>352</td>\n",
       "      <td>...</td>\n",
       "      <td>1616</td>\n",
       "      <td>1555</td>\n",
       "      <td>1314</td>\n",
       "      <td>1609</td>\n",
       "      <td>1598</td>\n",
       "      <td>1203</td>\n",
       "      <td>1632</td>\n",
       "      <td>1457</td>\n",
       "      <td>1527</td>\n",
       "      <td>1150</td>\n",
       "    </tr>\n",
       "    <tr>\n",
       "      <th>Tripura</th>\n",
       "      <td>0</td>\n",
       "      <td>39</td>\n",
       "      <td>93</td>\n",
       "      <td>25</td>\n",
       "      <td>23</td>\n",
       "      <td>111</td>\n",
       "      <td>24</td>\n",
       "      <td>57</td>\n",
       "      <td>16</td>\n",
       "      <td>142</td>\n",
       "      <td>...</td>\n",
       "      <td>535</td>\n",
       "      <td>525</td>\n",
       "      <td>243</td>\n",
       "      <td>559</td>\n",
       "      <td>504</td>\n",
       "      <td>451</td>\n",
       "      <td>341</td>\n",
       "      <td>278</td>\n",
       "      <td>320</td>\n",
       "      <td>193</td>\n",
       "    </tr>\n",
       "  </tbody>\n",
       "</table>\n",
       "<p>5 rows × 90 columns</p>\n",
       "</div>"
      ],
      "text/plain": [
       "states     2020-07-01  2020-07-02  2020-07-03  2020-07-04  2020-07-05  \\\n",
       "state                                                                   \n",
       "Kerala              0         160         211         240         225   \n",
       "Odisha              0         229         561         495         469   \n",
       "Telangana           0        1213        1892        1850        1590   \n",
       "Bihar               0         478         426         349         403   \n",
       "Tripura             0          39          93          25          23   \n",
       "\n",
       "states     2020-07-06  2020-07-07  2020-07-08  2020-07-09  2020-07-10  ...  \\\n",
       "state                                                                  ...   \n",
       "Kerala            193         272         301         339         416  ...   \n",
       "Odisha            456         571         527         577         755  ...   \n",
       "Telangana        1831        1879        1924        1410        1278  ...   \n",
       "Bihar             280         385         749         704         352  ...   \n",
       "Tripura           111          24          57          16         142  ...   \n",
       "\n",
       "states     2020-09-19  2020-09-20  2020-09-21  2020-09-22  2020-09-23  \\\n",
       "state                                                                   \n",
       "Kerala           4644        4696        2910        4125        5376   \n",
       "Odisha           4209        4330        4242        4189        4237   \n",
       "Telangana        2123        2137        1302        2166        2296   \n",
       "Bihar            1616        1555        1314        1609        1598   \n",
       "Tripura           535         525         243         559         504   \n",
       "\n",
       "states     2020-09-24  2020-09-25  2020-09-26  2020-09-27  2020-09-28  \n",
       "state                                                                  \n",
       "Kerala           6324        6477        7006        7445        4538  \n",
       "Odisha           4340        4208        4356        3922        3235  \n",
       "Telangana        2176        2381        2239        1967        1378  \n",
       "Bihar            1203        1632        1457        1527        1150  \n",
       "Tripura           451         341         278         320         193  \n",
       "\n",
       "[5 rows x 90 columns]"
      ]
     },
     "execution_count": 18,
     "metadata": {},
     "output_type": "execute_result"
    }
   ],
   "source": [
    "#hide\n",
    "dft_ct_new_cases.head()"
   ]
  },
  {
   "cell_type": "code",
   "execution_count": 19,
   "metadata": {
    "execution": {
     "iopub.execute_input": "2020-09-28T13:52:35.832257Z",
     "iopub.status.busy": "2020-09-28T13:52:35.831496Z",
     "iopub.status.idle": "2020-09-28T13:52:40.523246Z",
     "shell.execute_reply": "2020-09-28T13:52:40.523804Z"
    },
    "papermill": {
     "duration": 4.715838,
     "end_time": "2020-09-28T13:52:40.523991",
     "exception": false,
     "start_time": "2020-09-28T13:52:35.808153",
     "status": "completed"
    },
    "tags": []
   },
   "outputs": [
    {
     "data": {
      "image/png": "[encoded data removed]",
      "text/plain": [
       "<Figure size 1296x2016 with 11 Axes>"
      ]
     },
     "metadata": {
      "needs_background": "light"
     },
     "output_type": "display_data"
    }
   ],
   "source": [
    "#hide_input\n",
    "df = dft_ct_new_cases.copy()\n",
    "df.loc['Total'] = df.sum()\n",
    "n = 5\n",
    "ax = []\n",
    "fig = plt.figure(figsize = (18,28))\n",
    "gs = fig.add_gridspec(n+2, 5)\n",
    "# gs = fig.add_gridspec(2, 3)\n",
    "ax1 = fig.add_subplot(gs[0, :])\n",
    "ef = df.loc['Total'].rename_axis('date').reset_index()\n",
    "ef['date'] = ef['date'].astype('datetime64[ns]')\n",
    "ax1.bar(ef.date,ef.Total,alpha=0.3,color='#007acc')\n",
    "ax1.plot(ef.date,ef.Total , marker=\"o\", color='#007acc')\n",
    "ax1.xaxis.set_major_locator(mdates.WeekdayLocator())\n",
    "ax1.xaxis.set_major_formatter(mdates.DateFormatter('%b %d'))\n",
    "ax1.text(0.02, 0.5,'India daily case count', transform = ax1.transAxes, fontsize=25);\n",
    "ax1.spines['right'].set_visible(False)\n",
    "ax1.spines['top'].set_visible(False)\n",
    "\n",
    "ax2 = fig.add_subplot(gs[1,0])\n",
    "ef = df.loc['Maharashtra'].rename_axis('date').reset_index()\n",
    "ef['date'] = ef['date'].astype('datetime64[ns]')\n",
    "\n",
    "ax2.bar(ef.date, ef.Maharashtra,color = '#007acc',alpha=0.5)\n",
    "ax2.xaxis.set_major_locator(mdates.WeekdayLocator())\n",
    "ax2.xaxis.set_major_formatter(mdates.DateFormatter('%b %d'))\n",
    "ax2.set_xticks(ax2.get_xticks()[::3])\n",
    "maxyval = ef.Maharashtra.max()\n",
    "ax2.set_ylim([0,maxyval])\n",
    "ax2.text(0.05, 0.9,'Maharashtra', transform = ax2.transAxes, fontsize=20);\n",
    "ax2.spines['right'].set_visible(False)\n",
    "ax2.spines['top'].set_visible(False)\n",
    "\n",
    "\n",
    "ax3 = fig.add_subplot(gs[1,1])\n",
    "ef = df.loc['Tamil Nadu'].rename_axis('date').reset_index()\n",
    "ef['date'] = ef['date'].astype('datetime64[ns]')\n",
    "ax3.bar(ef.date, ef['Tamil Nadu'],color = '#007acc',alpha=0.5,)\n",
    "ax3.xaxis.set_major_locator(mdates.WeekdayLocator())\n",
    "ax3.xaxis.set_major_formatter(mdates.DateFormatter('%b %d'))\n",
    "ax3.set_xticks(ax3.get_xticks()[::3])\n",
    "ax3.text(0.05, 0.9,'Tamil Nadu', transform = ax3.transAxes, fontsize=20);\n",
    "ax3.spines['right'].set_visible(False)\n",
    "ax3.spines['top'].set_visible(False)\n",
    "\n",
    "ax5 = fig.add_subplot(gs[1,3])\n",
    "ef = df.loc['Telangana'].rename_axis('date').reset_index()\n",
    "ef['date'] = ef['date'].astype('datetime64[ns]')\n",
    "ax5.bar(ef.date, ef['Telangana'],color = '#007acc',alpha=0.5,)\n",
    "ax5.xaxis.set_major_locator(mdates.WeekdayLocator())\n",
    "ax5.xaxis.set_major_formatter(mdates.DateFormatter('%b %d'))\n",
    "ax5.set_xticks(ax5.get_xticks()[::3])\n",
    "ax5.text(0.05, 0.9,'Telangana', transform = ax5.transAxes, fontsize=20);\n",
    "ax5.spines['right'].set_visible(False)\n",
    "ax5.spines['top'].set_visible(False)\n",
    "\n",
    "ax6 = fig.add_subplot(gs[1,4])\n",
    "ef = df.loc['Andhra Pradesh'].rename_axis('date').reset_index()\n",
    "ef['date'] = ef['date'].astype('datetime64[ns]')\n",
    "ax6.bar(ef.date, ef['Andhra Pradesh'],color = '#007acc',alpha=0.5,)\n",
    "ax6.xaxis.set_major_locator(mdates.WeekdayLocator())\n",
    "ax6.xaxis.set_major_formatter(mdates.DateFormatter('%b %d'))\n",
    "ax6.set_xticks(ax6.get_xticks()[::3])\n",
    "ax6.text(0.05, 1,'Andhra Pradesh', transform = ax6.transAxes, fontsize=20);\n",
    "ax6.spines['right'].set_visible(False)\n",
    "ax6.spines['top'].set_visible(False)\n",
    "\n",
    "ax4 = fig.add_subplot(gs[1,2])\n",
    "ef = df.loc['Delhi'].rename_axis('date').reset_index()\n",
    "ef['date'] = ef['date'].astype('datetime64[ns]')\n",
    "ax4.bar(ef.date, ef.Delhi,color = '#007acc',alpha=0.5)\n",
    "ax4.set_xticks([])\n",
    "ax4.xaxis.set_major_locator(mdates.WeekdayLocator())\n",
    "ax4.xaxis.set_major_formatter(mdates.DateFormatter('%b %d'))\n",
    "ax4.set_xticks(ax4.get_xticks()[::3])\n",
    "ax4.spines['right'].set_visible(False)\n",
    "ax4.spines['top'].set_visible(False)\n",
    "\n",
    "ax4.text(0.05, 1,'Delhi', transform = ax4.transAxes, fontsize=20)\n",
    "\n",
    "for i in range(n):\n",
    "    \n",
    "    ax.append(fig.add_subplot(gs[i+2,:]))\n",
    "    ef = df.iloc[i+3].rename_axis('date').reset_index()\n",
    "    ef['date'] = ef['date'].astype('datetime64[ns]')\n",
    "    ax[i].bar(ef.date,ef.iloc[:,-1],color = '#007acc',alpha=0.3)\n",
    "    ax[i].plot(ef.date,ef.iloc[:,-1],marker='o',color='#007acc')\n",
    "    ax[i].text(0.02,0.5,f'{ef.columns.values[-1]}',transform = ax[i].transAxes, fontsize = 20);\n",
    "    ax[i].xaxis.set_major_locator(mdates.WeekdayLocator())\n",
    "    ax[i].xaxis.set_major_formatter(mdates.DateFormatter('%b %d'))\n",
    "    ax[i].set_ylim([0,7000])\n",
    "    ax[i].spines['right'].set_visible(False)\n",
    "    ax[i].spines['top'].set_visible(False)\n",
    "plt.tight_layout()\n"
   ]
  },
  {
   "cell_type": "code",
   "execution_count": 20,
   "metadata": {
    "execution": {
     "iopub.execute_input": "2020-09-28T13:52:40.586165Z",
     "iopub.status.busy": "2020-09-28T13:52:40.585332Z",
     "iopub.status.idle": "2020-09-28T13:52:40.588273Z",
     "shell.execute_reply": "2020-09-28T13:52:40.588986Z"
    },
    "papermill": {
     "duration": 0.039883,
     "end_time": "2020-09-28T13:52:40.589163",
     "exception": false,
     "start_time": "2020-09-28T13:52:40.549280",
     "status": "completed"
    },
    "tags": []
   },
   "outputs": [
    {
     "name": "stdout",
     "output_type": "stream",
     "text": [
      "                                   states    Cases  Deaths   PCases  PDeaths  Cases (+)  Deaths (+)  Fatality Rate\n",
      "                              Maharashtra  1339232   35571  1339232    35571          0           0           2.66\n",
      "                           Andhra Pradesh   675674    5708   675674     5708          0           0           0.84\n",
      "                               Tamil Nadu   580808    9313   580808     9313          0           0           1.60\n",
      "                                Karnataka   575566    8582   575566     8582          0           0           1.49\n",
      "                            Uttar Pradesh   387085    5594   387085     5594          0           0           1.45\n",
      "                                    Delhi   271114    5235   271114     5235          0           0           1.93\n",
      "                              West Bengal   247425    4781   247425     4781          0           0           1.93\n",
      "                                   Odisha   212609     866   209374      850       3235          16           0.41\n",
      "                                Telangana   187211    1107   185833     1100       1378           7           0.59\n",
      "                                    Bihar   180032     892   178882      888       1150           4           0.50\n",
      "                                   Kerala   179923     698   175385      678       4538          20           0.39\n",
      "                                    Assam   169985     655   169985      655          0           0           0.39\n",
      "                                  Gujarat   133219    3419   133219     3419          0           0           2.57\n",
      "                                Rajasthan   128859    1441   128859     1441          0           0           1.12\n",
      "                                  Haryana   123782    1307   123782     1307          0           0           1.06\n",
      "                           Madhya Pradesh   122209    2207   122209     2207          0           0           1.81\n",
      "                                   Punjab   110106    3238   110106     3238          0           0           2.94\n",
      "                             Chhattisgarh   104733     848   104733      848          0           0           0.81\n",
      "                                Jharkhand    79909     679    79909      679          0           0           0.85\n",
      "                        Jammu and Kashmir    72190    1132    72190     1132          0           0           1.57\n",
      "                              Uttarakhand    47045     574    47045      574          0           0           1.22\n",
      "                                      Goa    31958     401    31958      401          0           0           1.25\n",
      "                               Puducherry    26400     513    26400      513          0           0           1.94\n",
      "                                  Tripura    24918     270    24725      267        193           3           1.08\n",
      "                         Himachal Pradesh    14191     170    14191      170          0           0           1.20\n",
      "                               Chandigarh    11553     147    11553      147          0           0           1.27\n",
      "                                  Manipur    10299      64    10299       64          0           0           0.62\n",
      "                        Arunachal Pradesh     9004      14     9004       14          0           0           0.16\n",
      "                                 Nagaland     5946      11     5946       11          0           0           0.18\n",
      "                                Meghalaya     5302      43     5302       43          0           0           0.81\n",
      "                                   Ladakh     4103      58     4103       58          0           0           1.41\n",
      "              Andaman and Nicobar Islands     3794      53     3794       53          0           0           1.40\n",
      " Dadra and Nagar Haveli and Daman and Diu     3006       2     3006        2          0           0           0.07\n",
      "                                   Sikkim     2790      33     2790       33          0           0           1.18\n",
      "                                  Mizoram     1908       0     1865        0         43           0           0.00\n",
      "                              Lakshadweep        0       0        0        0          0           0            NaN\n"
     ]
    }
   ],
   "source": [
    "#hide_input\n",
    "print(df_table.to_string(index=False))"
   ]
  },
  {
   "cell_type": "code",
   "execution_count": null,
   "metadata": {
    "papermill": {
     "duration": 0.02554,
     "end_time": "2020-09-28T13:52:40.640705",
     "exception": false,
     "start_time": "2020-09-28T13:52:40.615165",
     "status": "completed"
    },
    "tags": []
   },
   "outputs": [],
   "source": []
  },
  {
   "cell_type": "code",
   "execution_count": null,
   "metadata": {
    "papermill": {
     "duration": 0.025615,
     "end_time": "2020-09-28T13:52:40.691795",
     "exception": false,
     "start_time": "2020-09-28T13:52:40.666180",
     "status": "completed"
    },
    "tags": []
   },
   "outputs": [],
   "source": []
  }
 ],
 "metadata": {
  "kernelspec": {
   "display_name": "Python 3",
   "language": "python",
   "name": "python3"
  },
  "language_info": {
   "codemirror_mode": {
    "name": "ipython",
    "version": 3
   },
   "file_extension": ".py",
   "mimetype": "text/x-python",
   "name": "python",
   "nbconvert_exporter": "python",
   "pygments_lexer": "ipython3",
   "version": "3.6.12"
  },
  "papermill": {
   "duration": 13.35475,
   "end_time": "2020-09-28T13:52:42.009988",
   "environment_variables": {},
   "exception": null,
   "input_path": "latest.ipynb",
   "output_path": "latest.ipynb",
   "parameters": {},
   "start_time": "2020-09-28T13:52:28.655238",
   "version": "2.1.2"
  }
 },
 "nbformat": 4,
 "nbformat_minor": 4
}