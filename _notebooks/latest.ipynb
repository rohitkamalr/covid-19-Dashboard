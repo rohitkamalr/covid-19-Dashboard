{
 "cells": [
  {
   "cell_type": "markdown",
   "metadata": {
    "papermill": {
     "duration": 0.021065,
     "end_time": "2020-10-13T12:48:18.526755",
     "exception": false,
     "start_time": "2020-10-13T12:48:18.505690",
     "status": "completed"
    },
    "tags": []
   },
   "source": [
    "# Latest COVID-19 India Matplotlib Overview"
   ]
  },
  {
   "cell_type": "code",
   "execution_count": 1,
   "metadata": {
    "execution": {
     "iopub.execute_input": "2020-10-13T12:48:18.563988Z",
     "iopub.status.busy": "2020-10-13T12:48:18.563374Z",
     "iopub.status.idle": "2020-10-13T12:48:19.145457Z",
     "shell.execute_reply": "2020-10-13T12:48:19.144555Z"
    },
    "papermill": {
     "duration": 0.603399,
     "end_time": "2020-10-13T12:48:19.145735",
     "exception": false,
     "start_time": "2020-10-13T12:48:18.542336",
     "status": "completed"
    },
    "tags": []
   },
   "outputs": [],
   "source": [
    "#hide\n",
    "import pandas as pd\n",
    "import numpy as np\n",
    "import requests\n",
    "import json\n",
    "import matplotlib.pyplot as plt\n",
    "import matplotlib.dates as mdates\n",
    "import matplotlib as mpl\n",
    "from IPython.core.display import display,HTML\n",
    "%matplotlib inline\n",
    "from datetime import date"
   ]
  },
  {
   "cell_type": "code",
   "execution_count": 2,
   "metadata": {
    "execution": {
     "iopub.execute_input": "2020-10-13T12:48:19.185832Z",
     "iopub.status.busy": "2020-10-13T12:48:19.185206Z",
     "iopub.status.idle": "2020-10-13T12:48:19.524500Z",
     "shell.execute_reply": "2020-10-13T12:48:19.523796Z"
    },
    "papermill": {
     "duration": 0.361811,
     "end_time": "2020-10-13T12:48:19.524650",
     "exception": false,
     "start_time": "2020-10-13T12:48:19.162839",
     "status": "completed"
    },
    "tags": []
   },
   "outputs": [],
   "source": [
    "#hide\n",
    "df  = pd.read_csv('https://api.covid19india.org/csv/latest/states.csv')\n",
    "df = df[['Date','State','Confirmed','Deceased']]\n",
    "df = df.rename(columns={'Confirmed':'Cases', \"Deceased\":'Deaths'})\n",
    "df_cases = df[[\"Date\",'State','Cases']]\n",
    "df_deaths = df[['Date','State','Deaths']]\n",
    "df_cases1 = df_cases.groupby('Date')\n",
    "df_deaths1= df_deaths.groupby('Date')"
   ]
  },
  {
   "cell_type": "code",
   "execution_count": 3,
   "metadata": {
    "execution": {
     "iopub.execute_input": "2020-10-13T12:48:19.562740Z",
     "iopub.status.busy": "2020-10-13T12:48:19.562133Z",
     "iopub.status.idle": "2020-10-13T12:48:19.581023Z",
     "shell.execute_reply": "2020-10-13T12:48:19.580514Z"
    },
    "papermill": {
     "duration": 0.04126,
     "end_time": "2020-10-13T12:48:19.581166",
     "exception": false,
     "start_time": "2020-10-13T12:48:19.539906",
     "status": "completed"
    },
    "tags": []
   },
   "outputs": [],
   "source": [
    "#hide\n",
    "df_snap = pd.read_csv('data/SnapshotCases-28-July.csv')\n",
    "arr_states = df_snap['states'].unique()\n",
    "arr_dates = df['Date'].unique()\n",
    "df_snap = df_snap.set_index('states')"
   ]
  },
  {
   "cell_type": "code",
   "execution_count": 4,
   "metadata": {
    "execution": {
     "iopub.execute_input": "2020-10-13T12:48:19.619736Z",
     "iopub.status.busy": "2020-10-13T12:48:19.619134Z",
     "iopub.status.idle": "2020-10-13T12:48:19.622799Z",
     "shell.execute_reply": "2020-10-13T12:48:19.622324Z"
    },
    "papermill": {
     "duration": 0.025558,
     "end_time": "2020-10-13T12:48:19.622919",
     "exception": false,
     "start_time": "2020-10-13T12:48:19.597361",
     "status": "completed"
    },
    "tags": []
   },
   "outputs": [
    {
     "data": {
      "text/plain": [
       "array(['Andaman and Nicobar Islands', 'Andhra Pradesh',\n",
       "       'Arunachal Pradesh', 'Assam', 'Bihar', 'Chandigarh',\n",
       "       'Dadra and Nagar Haveli and Daman and Diu', 'Delhi', 'Goa',\n",
       "       'Gujarat', 'Haryana', 'Himachal Pradesh', 'Jammu and Kashmir',\n",
       "       'Jharkhand', 'Karnataka', 'Kerala', 'Lakshadweep',\n",
       "       'Madhya Pradesh', 'Maharashtra', 'Manipur', 'Meghalaya', 'Mizoram',\n",
       "       'Nagaland', 'Odisha', 'Puducherry', 'Punjab', 'Rajasthan',\n",
       "       'Sikkim', 'Tamil Nadu', 'Telangana', 'Tripura', 'Uttar Pradesh',\n",
       "       'West Bengal', 'Chhattisgarh', 'Ladakh', 'Uttarakhand'],\n",
       "      dtype=object)"
      ]
     },
     "execution_count": 4,
     "metadata": {},
     "output_type": "execute_result"
    }
   ],
   "source": [
    "#hide\n",
    "arr_states[-9] = 'Puducherry'\n",
    "arr_states[-10] = 'Odisha'\n",
    "arr_states[6] = 'Dadra and Nagar Haveli and Daman and Diu'\n",
    "arr_states = np.append(arr_states,np.array(['Chhattisgarh','Ladakh','Uttarakhand']))\n",
    "arr_states"
   ]
  },
  {
   "cell_type": "code",
   "execution_count": 5,
   "metadata": {
    "execution": {
     "iopub.execute_input": "2020-10-13T12:48:19.663584Z",
     "iopub.status.busy": "2020-10-13T12:48:19.662920Z",
     "iopub.status.idle": "2020-10-13T12:48:19.671705Z",
     "shell.execute_reply": "2020-10-13T12:48:19.671197Z"
    },
    "papermill": {
     "duration": 0.033894,
     "end_time": "2020-10-13T12:48:19.671840",
     "exception": false,
     "start_time": "2020-10-13T12:48:19.637946",
     "status": "completed"
    },
    "tags": []
   },
   "outputs": [],
   "source": [
    "#hide\n",
    "dates = []\n",
    "for i in arr_dates:\n",
    "    if i>='2020-07-01':\n",
    "        dates.append(i)\n",
    "dict = {'states':dates}\n",
    "for i in arr_states:\n",
    "    dict[i] = [0]*len(dates)\n",
    "dft_cases = pd.DataFrame(dict)\n",
    "dft_deaths = pd.DataFrame(dict)\n"
   ]
  },
  {
   "cell_type": "code",
   "execution_count": 6,
   "metadata": {
    "execution": {
     "iopub.execute_input": "2020-10-13T12:48:19.710756Z",
     "iopub.status.busy": "2020-10-13T12:48:19.710139Z",
     "iopub.status.idle": "2020-10-13T12:48:21.072226Z",
     "shell.execute_reply": "2020-10-13T12:48:21.071616Z"
    },
    "papermill": {
     "duration": 1.384609,
     "end_time": "2020-10-13T12:48:21.072373",
     "exception": false,
     "start_time": "2020-10-13T12:48:19.687764",
     "status": "completed"
    },
    "tags": []
   },
   "outputs": [],
   "source": [
    "#hide\n",
    "for i in range(len(dates)):\n",
    "    df1_deaths = df_deaths1.get_group(dates[i])\n",
    "    for j in range(len(df1_deaths.index)):\n",
    "        if df1_deaths.iloc[j,1] in arr_states:\n",
    "            dft_deaths.loc[i,df1_deaths.iloc[j,1]] = df1_deaths.iloc[j,2]\n",
    "dft_deaths = dft_deaths.set_index('states')"
   ]
  },
  {
   "cell_type": "code",
   "execution_count": 7,
   "metadata": {
    "execution": {
     "iopub.execute_input": "2020-10-13T12:48:21.114460Z",
     "iopub.status.busy": "2020-10-13T12:48:21.113852Z",
     "iopub.status.idle": "2020-10-13T12:48:22.496319Z",
     "shell.execute_reply": "2020-10-13T12:48:22.495372Z"
    },
    "papermill": {
     "duration": 1.407781,
     "end_time": "2020-10-13T12:48:22.496467",
     "exception": false,
     "start_time": "2020-10-13T12:48:21.088686",
     "status": "completed"
    },
    "tags": []
   },
   "outputs": [],
   "source": [
    "#hide\n",
    "for i in range(len(dates)):\n",
    "    df1_cases = df_cases1.get_group(dates[i])\n",
    "    for j in range(len(df1_cases.index)):\n",
    "        if df1_cases.iloc[j,1] in arr_states:\n",
    "            dft_cases.loc[i,df1_cases.iloc[j,1]] = df1_cases.iloc[j,2]\n",
    "dft_cases = dft_cases.set_index('states')"
   ]
  },
  {
   "cell_type": "code",
   "execution_count": 8,
   "metadata": {
    "execution": {
     "iopub.execute_input": "2020-10-13T12:48:22.534079Z",
     "iopub.status.busy": "2020-10-13T12:48:22.532819Z",
     "iopub.status.idle": "2020-10-13T12:48:22.534730Z",
     "shell.execute_reply": "2020-10-13T12:48:22.535218Z"
    },
    "papermill": {
     "duration": 0.023456,
     "end_time": "2020-10-13T12:48:22.535372",
     "exception": false,
     "start_time": "2020-10-13T12:48:22.511916",
     "status": "completed"
    },
    "tags": []
   },
   "outputs": [],
   "source": [
    "#hide\n",
    "dft_cases = dft_cases.T\n",
    "dft_deaths = dft_deaths.T\n",
    "dt_today = dates[-1]\n",
    "dt_yday = dates[-2]"
   ]
  },
  {
   "cell_type": "code",
   "execution_count": 9,
   "metadata": {
    "execution": {
     "iopub.execute_input": "2020-10-13T12:48:22.574139Z",
     "iopub.status.busy": "2020-10-13T12:48:22.573584Z",
     "iopub.status.idle": "2020-10-13T12:48:22.578166Z",
     "shell.execute_reply": "2020-10-13T12:48:22.578617Z"
    },
    "papermill": {
     "duration": 0.027659,
     "end_time": "2020-10-13T12:48:22.578771",
     "exception": false,
     "start_time": "2020-10-13T12:48:22.551112",
     "status": "completed"
    },
    "tags": []
   },
   "outputs": [],
   "source": [
    "#hide\n",
    "dft_cases = dft_cases.reset_index()\n",
    "dft_deaths = dft_deaths.reset_index()\n",
    "dft_cases = dft_cases.rename(columns = {'index':'state'})\n",
    "dft_deaths = dft_deaths.rename(columns = {'index':'state'})"
   ]
  },
  {
   "cell_type": "code",
   "execution_count": 10,
   "metadata": {
    "execution": {
     "iopub.execute_input": "2020-10-13T12:48:22.620118Z",
     "iopub.status.busy": "2020-10-13T12:48:22.619509Z",
     "iopub.status.idle": "2020-10-13T12:48:22.622510Z",
     "shell.execute_reply": "2020-10-13T12:48:22.622033Z"
    },
    "papermill": {
     "duration": 0.029135,
     "end_time": "2020-10-13T12:48:22.622641",
     "exception": false,
     "start_time": "2020-10-13T12:48:22.593506",
     "status": "completed"
    },
    "tags": []
   },
   "outputs": [],
   "source": [
    "#hide\n",
    "dfc_cases = dft_cases.groupby('state')[dt_today].sum()\n",
    "dfc_deaths = dft_deaths.groupby('state')[dt_today].sum()\n",
    "dfp_cases = dft_cases.groupby('state')[dt_yday].sum()\n",
    "dfp_deaths = dft_deaths.groupby('state')[dt_yday].sum()"
   ]
  },
  {
   "cell_type": "code",
   "execution_count": 11,
   "metadata": {
    "execution": {
     "iopub.execute_input": "2020-10-13T12:48:22.663465Z",
     "iopub.status.busy": "2020-10-13T12:48:22.662787Z",
     "iopub.status.idle": "2020-10-13T12:48:22.676320Z",
     "shell.execute_reply": "2020-10-13T12:48:22.675819Z"
    },
    "papermill": {
     "duration": 0.038159,
     "end_time": "2020-10-13T12:48:22.676443",
     "exception": false,
     "start_time": "2020-10-13T12:48:22.638284",
     "status": "completed"
    },
    "tags": []
   },
   "outputs": [
    {
     "data": {
      "text/html": [
       "<div>\n",
       "<style scoped>\n",
       "    .dataframe tbody tr th:only-of-type {\n",
       "        vertical-align: middle;\n",
       "    }\n",
       "\n",
       "    .dataframe tbody tr th {\n",
       "        vertical-align: top;\n",
       "    }\n",
       "\n",
       "    .dataframe thead th {\n",
       "        text-align: right;\n",
       "    }\n",
       "</style>\n",
       "<table border=\"1\" class=\"dataframe\">\n",
       "  <thead>\n",
       "    <tr style=\"text-align: right;\">\n",
       "      <th></th>\n",
       "      <th>states</th>\n",
       "      <th>Cases</th>\n",
       "      <th>Deaths</th>\n",
       "      <th>PCases</th>\n",
       "      <th>PDeaths</th>\n",
       "    </tr>\n",
       "  </thead>\n",
       "  <tbody>\n",
       "    <tr>\n",
       "      <th>0</th>\n",
       "      <td>Maharashtra</td>\n",
       "      <td>1535315</td>\n",
       "      <td>40514</td>\n",
       "      <td>1535315</td>\n",
       "      <td>40514</td>\n",
       "    </tr>\n",
       "    <tr>\n",
       "      <th>1</th>\n",
       "      <td>Andhra Pradesh</td>\n",
       "      <td>758951</td>\n",
       "      <td>6256</td>\n",
       "      <td>758951</td>\n",
       "      <td>6256</td>\n",
       "    </tr>\n",
       "    <tr>\n",
       "      <th>2</th>\n",
       "      <td>Karnataka</td>\n",
       "      <td>717915</td>\n",
       "      <td>10036</td>\n",
       "      <td>717915</td>\n",
       "      <td>10036</td>\n",
       "    </tr>\n",
       "    <tr>\n",
       "      <th>3</th>\n",
       "      <td>Tamil Nadu</td>\n",
       "      <td>661264</td>\n",
       "      <td>10314</td>\n",
       "      <td>661264</td>\n",
       "      <td>10314</td>\n",
       "    </tr>\n",
       "    <tr>\n",
       "      <th>4</th>\n",
       "      <td>Uttar Pradesh</td>\n",
       "      <td>439161</td>\n",
       "      <td>6438</td>\n",
       "      <td>439161</td>\n",
       "      <td>6438</td>\n",
       "    </tr>\n",
       "  </tbody>\n",
       "</table>\n",
       "</div>"
      ],
      "text/plain": [
       "           states    Cases  Deaths   PCases  PDeaths\n",
       "0     Maharashtra  1535315   40514  1535315    40514\n",
       "1  Andhra Pradesh   758951    6256   758951     6256\n",
       "2       Karnataka   717915   10036   717915    10036\n",
       "3      Tamil Nadu   661264   10314   661264    10314\n",
       "4   Uttar Pradesh   439161    6438   439161     6438"
      ]
     },
     "execution_count": 11,
     "metadata": {},
     "output_type": "execute_result"
    }
   ],
   "source": [
    "#hide\n",
    "df_table = pd.DataFrame({'states': dfc_cases.index, 'Cases': dfc_cases.values, 'Deaths': dfc_deaths.values, 'PCases': dfp_cases.values, 'PDeaths': dfp_deaths.values}).set_index('states')\n",
    "df_table = df_table.sort_values(by = ['Cases','Deaths'], ascending = [False, False])\n",
    "df_table = df_table.reset_index()\n",
    "df_table.head()"
   ]
  },
  {
   "cell_type": "code",
   "execution_count": 12,
   "metadata": {
    "execution": {
     "iopub.execute_input": "2020-10-13T12:48:22.713600Z",
     "iopub.status.busy": "2020-10-13T12:48:22.713003Z",
     "iopub.status.idle": "2020-10-13T12:48:22.721530Z",
     "shell.execute_reply": "2020-10-13T12:48:22.721051Z"
    },
    "papermill": {
     "duration": 0.029777,
     "end_time": "2020-10-13T12:48:22.721664",
     "exception": false,
     "start_time": "2020-10-13T12:48:22.691887",
     "status": "completed"
    },
    "tags": []
   },
   "outputs": [],
   "source": [
    "#hide\n",
    "for c in 'Cases, Deaths'.split(', '):\n",
    "    df_table[f'{c} (+)'] = (df_table[c] - df_table[f'P{c}']).clip(0)\n",
    "df_table['Fatality Rate'] = (100* df_table['Deaths']/ df_table['Cases']).round(2)"
   ]
  },
  {
   "cell_type": "code",
   "execution_count": 13,
   "metadata": {
    "execution": {
     "iopub.execute_input": "2020-10-13T12:48:22.767090Z",
     "iopub.status.busy": "2020-10-13T12:48:22.766498Z",
     "iopub.status.idle": "2020-10-13T12:48:22.768847Z",
     "shell.execute_reply": "2020-10-13T12:48:22.769283Z"
    },
    "papermill": {
     "duration": 0.032359,
     "end_time": "2020-10-13T12:48:22.769422",
     "exception": false,
     "start_time": "2020-10-13T12:48:22.737063",
     "status": "completed"
    },
    "tags": []
   },
   "outputs": [
    {
     "data": {
      "text/html": [
       "<div>\n",
       "<style scoped>\n",
       "    .dataframe tbody tr th:only-of-type {\n",
       "        vertical-align: middle;\n",
       "    }\n",
       "\n",
       "    .dataframe tbody tr th {\n",
       "        vertical-align: top;\n",
       "    }\n",
       "\n",
       "    .dataframe thead th {\n",
       "        text-align: right;\n",
       "    }\n",
       "</style>\n",
       "<table border=\"1\" class=\"dataframe\">\n",
       "  <thead>\n",
       "    <tr style=\"text-align: right;\">\n",
       "      <th></th>\n",
       "      <th>states</th>\n",
       "      <th>Cases</th>\n",
       "      <th>Deaths</th>\n",
       "      <th>PCases</th>\n",
       "      <th>PDeaths</th>\n",
       "      <th>Cases (+)</th>\n",
       "      <th>Deaths (+)</th>\n",
       "      <th>Fatality Rate</th>\n",
       "    </tr>\n",
       "  </thead>\n",
       "  <tbody>\n",
       "    <tr>\n",
       "      <th>0</th>\n",
       "      <td>Maharashtra</td>\n",
       "      <td>1535315</td>\n",
       "      <td>40514</td>\n",
       "      <td>1535315</td>\n",
       "      <td>40514</td>\n",
       "      <td>0</td>\n",
       "      <td>0</td>\n",
       "      <td>2.64</td>\n",
       "    </tr>\n",
       "    <tr>\n",
       "      <th>1</th>\n",
       "      <td>Andhra Pradesh</td>\n",
       "      <td>758951</td>\n",
       "      <td>6256</td>\n",
       "      <td>758951</td>\n",
       "      <td>6256</td>\n",
       "      <td>0</td>\n",
       "      <td>0</td>\n",
       "      <td>0.82</td>\n",
       "    </tr>\n",
       "    <tr>\n",
       "      <th>2</th>\n",
       "      <td>Karnataka</td>\n",
       "      <td>717915</td>\n",
       "      <td>10036</td>\n",
       "      <td>717915</td>\n",
       "      <td>10036</td>\n",
       "      <td>0</td>\n",
       "      <td>0</td>\n",
       "      <td>1.40</td>\n",
       "    </tr>\n",
       "    <tr>\n",
       "      <th>3</th>\n",
       "      <td>Tamil Nadu</td>\n",
       "      <td>661264</td>\n",
       "      <td>10314</td>\n",
       "      <td>661264</td>\n",
       "      <td>10314</td>\n",
       "      <td>0</td>\n",
       "      <td>0</td>\n",
       "      <td>1.56</td>\n",
       "    </tr>\n",
       "    <tr>\n",
       "      <th>4</th>\n",
       "      <td>Uttar Pradesh</td>\n",
       "      <td>439161</td>\n",
       "      <td>6438</td>\n",
       "      <td>439161</td>\n",
       "      <td>6438</td>\n",
       "      <td>0</td>\n",
       "      <td>0</td>\n",
       "      <td>1.47</td>\n",
       "    </tr>\n",
       "  </tbody>\n",
       "</table>\n",
       "</div>"
      ],
      "text/plain": [
       "           states    Cases  Deaths   PCases  PDeaths  Cases (+)  Deaths (+)  \\\n",
       "0     Maharashtra  1535315   40514  1535315    40514          0           0   \n",
       "1  Andhra Pradesh   758951    6256   758951     6256          0           0   \n",
       "2       Karnataka   717915   10036   717915    10036          0           0   \n",
       "3      Tamil Nadu   661264   10314   661264    10314          0           0   \n",
       "4   Uttar Pradesh   439161    6438   439161     6438          0           0   \n",
       "\n",
       "   Fatality Rate  \n",
       "0           2.64  \n",
       "1           0.82  \n",
       "2           1.40  \n",
       "3           1.56  \n",
       "4           1.47  "
      ]
     },
     "execution_count": 13,
     "metadata": {},
     "output_type": "execute_result"
    }
   ],
   "source": [
    "#hide\n",
    "df_table.head()"
   ]
  },
  {
   "cell_type": "code",
   "execution_count": 14,
   "metadata": {
    "execution": {
     "iopub.execute_input": "2020-10-13T12:48:22.806577Z",
     "iopub.status.busy": "2020-10-13T12:48:22.805992Z",
     "iopub.status.idle": "2020-10-13T12:48:22.821866Z",
     "shell.execute_reply": "2020-10-13T12:48:22.821358Z"
    },
    "papermill": {
     "duration": 0.036879,
     "end_time": "2020-10-13T12:48:22.821999",
     "exception": false,
     "start_time": "2020-10-13T12:48:22.785120",
     "status": "completed"
    },
    "tags": []
   },
   "outputs": [
    {
     "data": {
      "text/plain": [
       "{'updated': '2020-10-13',\n",
       " 'since': '2020-10-12',\n",
       " 'Cases': 7179006,\n",
       " 'PCases': 7173565,\n",
       " 'Deaths': 109923,\n",
       " 'PDeaths': 109894,\n",
       " 'Cases (+)': 5441,\n",
       " 'Deaths (+)': 29}"
      ]
     },
     "execution_count": 14,
     "metadata": {},
     "output_type": "execute_result"
    }
   ],
   "source": [
    "#hide\n",
    "summary = {'updated':dates[-1], 'since':dates[-2]}\n",
    "list_names = ['Cases', 'PCases', 'Deaths', 'PDeaths', 'Cases (+)', 'Deaths (+)']\n",
    "for name in list_names:\n",
    "    summary[name] = df_table.sum()[name]\n",
    "summary"
   ]
  },
  {
   "cell_type": "code",
   "execution_count": 15,
   "metadata": {
    "execution": {
     "iopub.execute_input": "2020-10-13T12:48:22.859158Z",
     "iopub.status.busy": "2020-10-13T12:48:22.858548Z",
     "iopub.status.idle": "2020-10-13T12:48:22.860030Z",
     "shell.execute_reply": "2020-10-13T12:48:22.860496Z"
    },
    "papermill": {
     "duration": 0.022242,
     "end_time": "2020-10-13T12:48:22.860641",
     "exception": false,
     "start_time": "2020-10-13T12:48:22.838399",
     "status": "completed"
    },
    "tags": []
   },
   "outputs": [],
   "source": [
    "#hide\n",
    "overview = '''\n",
    "<!-- #######  HTML!! #########-->\n",
    "<h1 style=\"color: #5e9ca0; text-align: center;\">India</h1>\n",
    "<p style=\"text-align: center;\">Last update: <strong>{update}</strong></p>\n",
    "<p style=\"text-align: center;\">Confirmed cases:</p>\n",
    "<p style=\"text-align: center;font-size:24px;\">{cases} (<span style=\"color: #ff0000;\">+{new}</span>)</p>\n",
    "<p style=\"text-align: center;\">Confirmed deaths:</p>\n",
    "<p style=\"text-align: center;font-size:24px;\">{deaths} (<span style=\"color: #ff0000;\">+{dnew}</span>)</p>\n",
    "'''"
   ]
  },
  {
   "cell_type": "code",
   "execution_count": 16,
   "metadata": {
    "execution": {
     "iopub.execute_input": "2020-10-13T12:48:22.900647Z",
     "iopub.status.busy": "2020-10-13T12:48:22.899818Z",
     "iopub.status.idle": "2020-10-13T12:48:22.903968Z",
     "shell.execute_reply": "2020-10-13T12:48:22.903453Z"
    },
    "papermill": {
     "duration": 0.026952,
     "end_time": "2020-10-13T12:48:22.904093",
     "exception": false,
     "start_time": "2020-10-13T12:48:22.877141",
     "status": "completed"
    },
    "tags": []
   },
   "outputs": [
    {
     "data": {
      "text/html": [
       "\n",
       "<!-- #######  HTML!! #########-->\n",
       "<h1 style=\"color: #5e9ca0; text-align: center;\">India</h1>\n",
       "<p style=\"text-align: center;\">Last update: <strong>2020-10-13</strong></p>\n",
       "<p style=\"text-align: center;\">Confirmed cases:</p>\n",
       "<p style=\"text-align: center;font-size:24px;\">7179006 (<span style=\"color: #ff0000;\">+5441</span>)</p>\n",
       "<p style=\"text-align: center;\">Confirmed deaths:</p>\n",
       "<p style=\"text-align: center;font-size:24px;\">109923 (<span style=\"color: #ff0000;\">+29</span>)</p>\n"
      ],
      "text/plain": [
       "<IPython.core.display.HTML object>"
      ]
     },
     "metadata": {},
     "output_type": "display_data"
    }
   ],
   "source": [
    "#hide_input\n",
    "update = summary['updated']\n",
    "cases = summary['Cases']\n",
    "new = summary['Cases (+)']\n",
    "deaths = summary['Deaths']\n",
    "dnew = summary['Deaths (+)']\n",
    "\n",
    "html = HTML(overview.format(update=update, cases=cases,new=new,deaths=deaths,dnew=dnew))\n",
    "\n",
    "display(html)"
   ]
  },
  {
   "cell_type": "code",
   "execution_count": 17,
   "metadata": {
    "execution": {
     "iopub.execute_input": "2020-10-13T12:48:22.947074Z",
     "iopub.status.busy": "2020-10-13T12:48:22.946509Z",
     "iopub.status.idle": "2020-10-13T12:48:22.951459Z",
     "shell.execute_reply": "2020-10-13T12:48:22.950979Z"
    },
    "papermill": {
     "duration": 0.030435,
     "end_time": "2020-10-13T12:48:22.951593",
     "exception": false,
     "start_time": "2020-10-13T12:48:22.921158",
     "status": "completed"
    },
    "tags": []
   },
   "outputs": [],
   "source": [
    "#hide\n",
    "dt_cols = list(dft_cases.columns[1:])\n",
    "dft_ct_new_cases = dft_cases.groupby('state')[dt_cols].sum().diff(axis=1).fillna(0).astype(int)\n",
    "dft_ct_new_cases.sort_values(by = dates[-1], ascending = False,inplace = True)"
   ]
  },
  {
   "cell_type": "code",
   "execution_count": 18,
   "metadata": {
    "execution": {
     "iopub.execute_input": "2020-10-13T12:48:23.006083Z",
     "iopub.status.busy": "2020-10-13T12:48:23.005453Z",
     "iopub.status.idle": "2020-10-13T12:48:23.009488Z",
     "shell.execute_reply": "2020-10-13T12:48:23.008983Z"
    },
    "papermill": {
     "duration": 0.041282,
     "end_time": "2020-10-13T12:48:23.009620",
     "exception": false,
     "start_time": "2020-10-13T12:48:22.968338",
     "status": "completed"
    },
    "tags": []
   },
   "outputs": [
    {
     "data": {
      "text/html": [
       "<div>\n",
       "<style scoped>\n",
       "    .dataframe tbody tr th:only-of-type {\n",
       "        vertical-align: middle;\n",
       "    }\n",
       "\n",
       "    .dataframe tbody tr th {\n",
       "        vertical-align: top;\n",
       "    }\n",
       "\n",
       "    .dataframe thead th {\n",
       "        text-align: right;\n",
       "    }\n",
       "</style>\n",
       "<table border=\"1\" class=\"dataframe\">\n",
       "  <thead>\n",
       "    <tr style=\"text-align: right;\">\n",
       "      <th>states</th>\n",
       "      <th>2020-07-01</th>\n",
       "      <th>2020-07-02</th>\n",
       "      <th>2020-07-03</th>\n",
       "      <th>2020-07-04</th>\n",
       "      <th>2020-07-05</th>\n",
       "      <th>2020-07-06</th>\n",
       "      <th>2020-07-07</th>\n",
       "      <th>2020-07-08</th>\n",
       "      <th>2020-07-09</th>\n",
       "      <th>2020-07-10</th>\n",
       "      <th>...</th>\n",
       "      <th>2020-10-04</th>\n",
       "      <th>2020-10-05</th>\n",
       "      <th>2020-10-06</th>\n",
       "      <th>2020-10-07</th>\n",
       "      <th>2020-10-08</th>\n",
       "      <th>2020-10-09</th>\n",
       "      <th>2020-10-10</th>\n",
       "      <th>2020-10-11</th>\n",
       "      <th>2020-10-12</th>\n",
       "      <th>2020-10-13</th>\n",
       "    </tr>\n",
       "    <tr>\n",
       "      <th>state</th>\n",
       "      <th></th>\n",
       "      <th></th>\n",
       "      <th></th>\n",
       "      <th></th>\n",
       "      <th></th>\n",
       "      <th></th>\n",
       "      <th></th>\n",
       "      <th></th>\n",
       "      <th></th>\n",
       "      <th></th>\n",
       "      <th></th>\n",
       "      <th></th>\n",
       "      <th></th>\n",
       "      <th></th>\n",
       "      <th></th>\n",
       "      <th></th>\n",
       "      <th></th>\n",
       "      <th></th>\n",
       "      <th></th>\n",
       "      <th></th>\n",
       "      <th></th>\n",
       "    </tr>\n",
       "  </thead>\n",
       "  <tbody>\n",
       "    <tr>\n",
       "      <th>Odisha</th>\n",
       "      <td>0</td>\n",
       "      <td>229</td>\n",
       "      <td>561</td>\n",
       "      <td>495</td>\n",
       "      <td>469</td>\n",
       "      <td>456</td>\n",
       "      <td>571</td>\n",
       "      <td>527</td>\n",
       "      <td>577</td>\n",
       "      <td>755</td>\n",
       "      <td>...</td>\n",
       "      <td>3326</td>\n",
       "      <td>2617</td>\n",
       "      <td>2673</td>\n",
       "      <td>2995</td>\n",
       "      <td>3144</td>\n",
       "      <td>2697</td>\n",
       "      <td>2854</td>\n",
       "      <td>2546</td>\n",
       "      <td>2423</td>\n",
       "      <td>2275</td>\n",
       "    </tr>\n",
       "    <tr>\n",
       "      <th>Telangana</th>\n",
       "      <td>0</td>\n",
       "      <td>1213</td>\n",
       "      <td>1892</td>\n",
       "      <td>1850</td>\n",
       "      <td>1590</td>\n",
       "      <td>1831</td>\n",
       "      <td>1879</td>\n",
       "      <td>1924</td>\n",
       "      <td>1410</td>\n",
       "      <td>1278</td>\n",
       "      <td>...</td>\n",
       "      <td>1949</td>\n",
       "      <td>1335</td>\n",
       "      <td>1983</td>\n",
       "      <td>2154</td>\n",
       "      <td>1896</td>\n",
       "      <td>1891</td>\n",
       "      <td>1811</td>\n",
       "      <td>1717</td>\n",
       "      <td>1021</td>\n",
       "      <td>1708</td>\n",
       "    </tr>\n",
       "    <tr>\n",
       "      <th>Bihar</th>\n",
       "      <td>0</td>\n",
       "      <td>478</td>\n",
       "      <td>426</td>\n",
       "      <td>349</td>\n",
       "      <td>403</td>\n",
       "      <td>280</td>\n",
       "      <td>385</td>\n",
       "      <td>749</td>\n",
       "      <td>704</td>\n",
       "      <td>352</td>\n",
       "      <td>...</td>\n",
       "      <td>1261</td>\n",
       "      <td>907</td>\n",
       "      <td>1265</td>\n",
       "      <td>1304</td>\n",
       "      <td>1244</td>\n",
       "      <td>1155</td>\n",
       "      <td>1140</td>\n",
       "      <td>1302</td>\n",
       "      <td>732</td>\n",
       "      <td>1223</td>\n",
       "    </tr>\n",
       "    <tr>\n",
       "      <th>Tripura</th>\n",
       "      <td>0</td>\n",
       "      <td>39</td>\n",
       "      <td>93</td>\n",
       "      <td>25</td>\n",
       "      <td>23</td>\n",
       "      <td>111</td>\n",
       "      <td>24</td>\n",
       "      <td>57</td>\n",
       "      <td>16</td>\n",
       "      <td>142</td>\n",
       "      <td>...</td>\n",
       "      <td>322</td>\n",
       "      <td>159</td>\n",
       "      <td>275</td>\n",
       "      <td>237</td>\n",
       "      <td>214</td>\n",
       "      <td>223</td>\n",
       "      <td>171</td>\n",
       "      <td>199</td>\n",
       "      <td>109</td>\n",
       "      <td>217</td>\n",
       "    </tr>\n",
       "    <tr>\n",
       "      <th>Mizoram</th>\n",
       "      <td>0</td>\n",
       "      <td>2</td>\n",
       "      <td>0</td>\n",
       "      <td>2</td>\n",
       "      <td>22</td>\n",
       "      <td>11</td>\n",
       "      <td>1</td>\n",
       "      <td>5</td>\n",
       "      <td>0</td>\n",
       "      <td>23</td>\n",
       "      <td>...</td>\n",
       "      <td>17</td>\n",
       "      <td>0</td>\n",
       "      <td>8</td>\n",
       "      <td>20</td>\n",
       "      <td>2</td>\n",
       "      <td>7</td>\n",
       "      <td>5</td>\n",
       "      <td>13</td>\n",
       "      <td>9</td>\n",
       "      <td>18</td>\n",
       "    </tr>\n",
       "  </tbody>\n",
       "</table>\n",
       "<p>5 rows × 105 columns</p>\n",
       "</div>"
      ],
      "text/plain": [
       "states     2020-07-01  2020-07-02  2020-07-03  2020-07-04  2020-07-05  \\\n",
       "state                                                                   \n",
       "Odisha              0         229         561         495         469   \n",
       "Telangana           0        1213        1892        1850        1590   \n",
       "Bihar               0         478         426         349         403   \n",
       "Tripura             0          39          93          25          23   \n",
       "Mizoram             0           2           0           2          22   \n",
       "\n",
       "states     2020-07-06  2020-07-07  2020-07-08  2020-07-09  2020-07-10  ...  \\\n",
       "state                                                                  ...   \n",
       "Odisha            456         571         527         577         755  ...   \n",
       "Telangana        1831        1879        1924        1410        1278  ...   \n",
       "Bihar             280         385         749         704         352  ...   \n",
       "Tripura           111          24          57          16         142  ...   \n",
       "Mizoram            11           1           5           0          23  ...   \n",
       "\n",
       "states     2020-10-04  2020-10-05  2020-10-06  2020-10-07  2020-10-08  \\\n",
       "state                                                                   \n",
       "Odisha           3326        2617        2673        2995        3144   \n",
       "Telangana        1949        1335        1983        2154        1896   \n",
       "Bihar            1261         907        1265        1304        1244   \n",
       "Tripura           322         159         275         237         214   \n",
       "Mizoram            17           0           8          20           2   \n",
       "\n",
       "states     2020-10-09  2020-10-10  2020-10-11  2020-10-12  2020-10-13  \n",
       "state                                                                  \n",
       "Odisha           2697        2854        2546        2423        2275  \n",
       "Telangana        1891        1811        1717        1021        1708  \n",
       "Bihar            1155        1140        1302         732        1223  \n",
       "Tripura           223         171         199         109         217  \n",
       "Mizoram             7           5          13           9          18  \n",
       "\n",
       "[5 rows x 105 columns]"
      ]
     },
     "execution_count": 18,
     "metadata": {},
     "output_type": "execute_result"
    }
   ],
   "source": [
    "#hide\n",
    "dft_ct_new_cases.head()"
   ]
  },
  {
   "cell_type": "code",
   "execution_count": 19,
   "metadata": {
    "execution": {
     "iopub.execute_input": "2020-10-13T12:48:23.049085Z",
     "iopub.status.busy": "2020-10-13T12:48:23.048500Z",
     "iopub.status.idle": "2020-10-13T12:48:27.007970Z",
     "shell.execute_reply": "2020-10-13T12:48:27.008422Z"
    },
    "papermill": {
     "duration": 3.98134,
     "end_time": "2020-10-13T12:48:27.008594",
     "exception": false,
     "start_time": "2020-10-13T12:48:23.027254",
     "status": "completed"
    },
    "tags": []
   },
   "outputs": [
    {
     "data": {
      "image/png": "[encoded data removed]",
      "text/plain": [
       "<Figure size 1296x2016 with 11 Axes>"
      ]
     },
     "metadata": {
      "needs_background": "light"
     },
     "output_type": "display_data"
    }
   ],
   "source": [
    "#hide_input\n",
    "df = dft_ct_new_cases.copy()\n",
    "df.loc['Total'] = df.sum()\n",
    "n = 5\n",
    "ax = []\n",
    "fig = plt.figure(figsize = (18,28))\n",
    "gs = fig.add_gridspec(n+2, 5)\n",
    "# gs = fig.add_gridspec(2, 3)\n",
    "ax1 = fig.add_subplot(gs[0, :])\n",
    "ef = df.loc['Total'].rename_axis('date').reset_index()\n",
    "ef['date'] = ef['date'].astype('datetime64[ns]')\n",
    "ax1.bar(ef.date,ef.Total,alpha=0.3,color='#007acc')\n",
    "ax1.plot(ef.date,ef.Total , marker=\"o\", color='#007acc')\n",
    "ax1.xaxis.set_major_locator(mdates.WeekdayLocator())\n",
    "ax1.xaxis.set_major_formatter(mdates.DateFormatter('%b %d'))\n",
    "ax1.text(0.02, 0.5,'India daily case count', transform = ax1.transAxes, fontsize=25);\n",
    "ax1.spines['right'].set_visible(False)\n",
    "ax1.spines['top'].set_visible(False)\n",
    "\n",
    "ax2 = fig.add_subplot(gs[1,0])\n",
    "ef = df.loc['Maharashtra'].rename_axis('date').reset_index()\n",
    "ef['date'] = ef['date'].astype('datetime64[ns]')\n",
    "\n",
    "ax2.bar(ef.date, ef.Maharashtra,color = '#007acc',alpha=0.5)\n",
    "ax2.xaxis.set_major_locator(mdates.WeekdayLocator())\n",
    "ax2.xaxis.set_major_formatter(mdates.DateFormatter('%b %d'))\n",
    "ax2.set_xticks(ax2.get_xticks()[::3])\n",
    "maxyval = ef.Maharashtra.max()\n",
    "ax2.set_ylim([0,maxyval])\n",
    "ax2.text(0.05, 0.9,'Maharashtra', transform = ax2.transAxes, fontsize=20);\n",
    "ax2.spines['right'].set_visible(False)\n",
    "ax2.spines['top'].set_visible(False)\n",
    "\n",
    "\n",
    "ax3 = fig.add_subplot(gs[1,1])\n",
    "ef = df.loc['Tamil Nadu'].rename_axis('date').reset_index()\n",
    "ef['date'] = ef['date'].astype('datetime64[ns]')\n",
    "ax3.bar(ef.date, ef['Tamil Nadu'],color = '#007acc',alpha=0.5,)\n",
    "ax3.xaxis.set_major_locator(mdates.WeekdayLocator())\n",
    "ax3.xaxis.set_major_formatter(mdates.DateFormatter('%b %d'))\n",
    "ax3.set_xticks(ax3.get_xticks()[::3])\n",
    "ax3.text(0.05, 0.9,'Tamil Nadu', transform = ax3.transAxes, fontsize=20);\n",
    "ax3.spines['right'].set_visible(False)\n",
    "ax3.spines['top'].set_visible(False)\n",
    "\n",
    "ax5 = fig.add_subplot(gs[1,3])\n",
    "ef = df.loc['Telangana'].rename_axis('date').reset_index()\n",
    "ef['date'] = ef['date'].astype('datetime64[ns]')\n",
    "ax5.bar(ef.date, ef['Telangana'],color = '#007acc',alpha=0.5,)\n",
    "ax5.xaxis.set_major_locator(mdates.WeekdayLocator())\n",
    "ax5.xaxis.set_major_formatter(mdates.DateFormatter('%b %d'))\n",
    "ax5.set_xticks(ax5.get_xticks()[::3])\n",
    "ax5.text(0.05, 0.9,'Telangana', transform = ax5.transAxes, fontsize=20);\n",
    "ax5.spines['right'].set_visible(False)\n",
    "ax5.spines['top'].set_visible(False)\n",
    "\n",
    "ax6 = fig.add_subplot(gs[1,4])\n",
    "ef = df.loc['Andhra Pradesh'].rename_axis('date').reset_index()\n",
    "ef['date'] = ef['date'].astype('datetime64[ns]')\n",
    "ax6.bar(ef.date, ef['Andhra Pradesh'],color = '#007acc',alpha=0.5,)\n",
    "ax6.xaxis.set_major_locator(mdates.WeekdayLocator())\n",
    "ax6.xaxis.set_major_formatter(mdates.DateFormatter('%b %d'))\n",
    "ax6.set_xticks(ax6.get_xticks()[::3])\n",
    "ax6.text(0.05, 1,'Andhra Pradesh', transform = ax6.transAxes, fontsize=20);\n",
    "ax6.spines['right'].set_visible(False)\n",
    "ax6.spines['top'].set_visible(False)\n",
    "\n",
    "ax4 = fig.add_subplot(gs[1,2])\n",
    "ef = df.loc['Delhi'].rename_axis('date').reset_index()\n",
    "ef['date'] = ef['date'].astype('datetime64[ns]')\n",
    "ax4.bar(ef.date, ef.Delhi,color = '#007acc',alpha=0.5)\n",
    "ax4.set_xticks([])\n",
    "ax4.xaxis.set_major_locator(mdates.WeekdayLocator())\n",
    "ax4.xaxis.set_major_formatter(mdates.DateFormatter('%b %d'))\n",
    "ax4.set_xticks(ax4.get_xticks()[::3])\n",
    "ax4.spines['right'].set_visible(False)\n",
    "ax4.spines['top'].set_visible(False)\n",
    "\n",
    "ax4.text(0.05, 1,'Delhi', transform = ax4.transAxes, fontsize=20)\n",
    "\n",
    "for i in range(n):\n",
    "    \n",
    "    ax.append(fig.add_subplot(gs[i+2,:]))\n",
    "    ef = df.iloc[i+3].rename_axis('date').reset_index()\n",
    "    ef['date'] = ef['date'].astype('datetime64[ns]')\n",
    "    ax[i].bar(ef.date,ef.iloc[:,-1],color = '#007acc',alpha=0.3)\n",
    "    ax[i].plot(ef.date,ef.iloc[:,-1],marker='o',color='#007acc')\n",
    "    ax[i].text(0.02,0.5,f'{ef.columns.values[-1]}',transform = ax[i].transAxes, fontsize = 20);\n",
    "    ax[i].xaxis.set_major_locator(mdates.WeekdayLocator())\n",
    "    ax[i].xaxis.set_major_formatter(mdates.DateFormatter('%b %d'))\n",
    "    ax[i].set_ylim([0,7000])\n",
    "    ax[i].spines['right'].set_visible(False)\n",
    "    ax[i].spines['top'].set_visible(False)\n",
    "plt.tight_layout()\n"
   ]
  },
  {
   "cell_type": "code",
   "execution_count": 20,
   "metadata": {
    "execution": {
     "iopub.execute_input": "2020-10-13T12:48:27.064003Z",
     "iopub.status.busy": "2020-10-13T12:48:27.062576Z",
     "iopub.status.idle": "2020-10-13T12:48:27.065994Z",
     "shell.execute_reply": "2020-10-13T12:48:27.065492Z"
    },
    "papermill": {
     "duration": 0.035519,
     "end_time": "2020-10-13T12:48:27.066124",
     "exception": false,
     "start_time": "2020-10-13T12:48:27.030605",
     "status": "completed"
    },
    "tags": []
   },
   "outputs": [
    {
     "name": "stdout",
     "output_type": "stream",
     "text": [
      "                                   states    Cases  Deaths   PCases  PDeaths  Cases (+)  Deaths (+)  Fatality Rate\n",
      "                              Maharashtra  1535315   40514  1535315    40514          0           0           2.64\n",
      "                           Andhra Pradesh   758951    6256   758951     6256          0           0           0.82\n",
      "                                Karnataka   717915   10036   717915    10036          0           0           1.40\n",
      "                               Tamil Nadu   661264   10314   661264    10314          0           0           1.56\n",
      "                            Uttar Pradesh   439161    6438   439161     6438          0           0           1.47\n",
      "                                    Delhi   311188    5809   311188     5809          0           0           1.87\n",
      "                              West Bengal   298389    5682   298389     5682          0           0           1.90\n",
      "                                   Kerala   295133    1026   295133     1026          0           0           0.35\n",
      "                                   Odisha   256937    1110   254662     1093       2275          17           0.43\n",
      "                                Telangana   214792    1233   213084     1228       1708           5           0.57\n",
      "                                    Bihar   198223     961   197000      955       1223           6           0.48\n",
      "                                    Assam   195304     826   195304      826          0           0           0.42\n",
      "                                Rajasthan   161184    1665   161184     1665          0           0           1.03\n",
      "                                  Gujarat   152764    3577   152764     3577          0           0           2.34\n",
      "                           Madhya Pradesh   148298    2645   148298     2645          0           0           1.78\n",
      "                             Chhattisgarh   145247    1286   145247     1286          0           0           0.89\n",
      "                                  Haryana   143221    1592   143221     1592          0           0           1.11\n",
      "                                   Punjab   124535    3860   124535     3860          0           0           3.10\n",
      "                                Jharkhand    93035     798    93035      798          0           0           0.86\n",
      "                        Jammu and Kashmir    84031    1333    84031     1333          0           0           1.59\n",
      "                              Uttarakhand    55347     762    55347      762          0           0           1.38\n",
      "                                      Goa    38674     511    38674      511          0           0           1.32\n",
      "                               Puducherry    31737     565    31737      565          0           0           1.78\n",
      "                                  Tripura    28675     314    28458      313        217           1           1.10\n",
      "                         Himachal Pradesh    17578     246    17578      246          0           0           1.40\n",
      "                                  Manipur    13556      93    13556       93          0           0           0.69\n",
      "                               Chandigarh    13264     192    13264      192          0           0           1.45\n",
      "                        Arunachal Pradesh    12367      24    12367       24          0           0           0.19\n",
      "                                Meghalaya     7771      64     7771       64          0           0           0.82\n",
      "                                 Nagaland     7240      13     7240       13          0           0           0.18\n",
      "                                   Ladakh     5151      64     5151       64          0           0           1.24\n",
      "              Andaman and Nicobar Islands     4023      55     4023       55          0           0           1.37\n",
      "                                   Sikkim     3367      57     3367       57          0           0           1.69\n",
      " Dadra and Nagar Haveli and Daman and Diu     3167       2     3167        2          0           0           0.06\n",
      "                                  Mizoram     2202       0     2184        0         18           0           0.00\n",
      "                              Lakshadweep        0       0        0        0          0           0            NaN\n"
     ]
    }
   ],
   "source": [
    "#hide_input\n",
    "print(df_table.to_string(index=False))"
   ]
  },
  {
   "cell_type": "code",
   "execution_count": null,
   "metadata": {
    "papermill": {
     "duration": 0.022319,
     "end_time": "2020-10-13T12:48:27.111564",
     "exception": false,
     "start_time": "2020-10-13T12:48:27.089245",
     "status": "completed"
    },
    "tags": []
   },
   "outputs": [],
   "source": []
  },
  {
   "cell_type": "code",
   "execution_count": null,
   "metadata": {
    "papermill": {
     "duration": 0.021736,
     "end_time": "2020-10-13T12:48:27.155302",
     "exception": false,
     "start_time": "2020-10-13T12:48:27.133566",
     "status": "completed"
    },
    "tags": []
   },
   "outputs": [],
   "source": []
  }
 ],
 "metadata": {
  "kernelspec": {
   "display_name": "Python 3",
   "language": "python",
   "name": "python3"
  },
  "language_info": {
   "codemirror_mode": {
    "name": "ipython",
    "version": 3
   },
   "file_extension": ".py",
   "mimetype": "text/x-python",
   "name": "python",
   "nbconvert_exporter": "python",
   "pygments_lexer": "ipython3",
   "version": "3.6.12"
  },
  "papermill": {
   "duration": 10.259535,
   "end_time": "2020-10-13T12:48:27.686628",
   "environment_variables": {},
   "exception": null,
   "input_path": "latest.ipynb",
   "output_path": "latest.ipynb",
   "parameters": {},
   "start_time": "2020-10-13T12:48:17.427093",
   "version": "2.1.2"
  }
 },
 "nbformat": 4,
 "nbformat_minor": 4
}