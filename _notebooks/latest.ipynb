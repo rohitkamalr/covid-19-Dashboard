{
 "cells": [
  {
   "cell_type": "markdown",
   "id": "colored-stack",
   "metadata": {
    "papermill": {
     "duration": 0.025388,
     "end_time": "2021-04-11T13:56:04.381514",
     "exception": false,
     "start_time": "2021-04-11T13:56:04.356126",
     "status": "completed"
    },
    "tags": []
   },
   "source": [
    "# Latest COVID-19 India Matplotlib Overview"
   ]
  },
  {
   "cell_type": "code",
   "execution_count": 1,
   "id": "light-proportion",
   "metadata": {
    "execution": {
     "iopub.execute_input": "2021-04-11T13:56:04.436198Z",
     "iopub.status.busy": "2021-04-11T13:56:04.435499Z",
     "iopub.status.idle": "2021-04-11T13:56:05.087167Z",
     "shell.execute_reply": "2021-04-11T13:56:05.087723Z"
    },
    "papermill": {
     "duration": 0.685672,
     "end_time": "2021-04-11T13:56:05.087922",
     "exception": false,
     "start_time": "2021-04-11T13:56:04.402250",
     "status": "completed"
    },
    "tags": []
   },
   "outputs": [],
   "source": [
    "#hide\n",
    "import pandas as pd\n",
    "import numpy as np\n",
    "import requests\n",
    "import json\n",
    "import matplotlib.pyplot as plt\n",
    "import matplotlib.dates as mdates\n",
    "import matplotlib as mpl\n",
    "from IPython.core.display import display,HTML\n",
    "%matplotlib inline\n",
    "from datetime import date"
   ]
  },
  {
   "cell_type": "code",
   "execution_count": 2,
   "id": "greenhouse-shooting",
   "metadata": {
    "execution": {
     "iopub.execute_input": "2021-04-11T13:56:05.139875Z",
     "iopub.status.busy": "2021-04-11T13:56:05.139176Z",
     "iopub.status.idle": "2021-04-11T13:56:05.321312Z",
     "shell.execute_reply": "2021-04-11T13:56:05.320715Z"
    },
    "papermill": {
     "duration": 0.213178,
     "end_time": "2021-04-11T13:56:05.321491",
     "exception": false,
     "start_time": "2021-04-11T13:56:05.108313",
     "status": "completed"
    },
    "tags": []
   },
   "outputs": [],
   "source": [
    "#hide\n",
    "df  = pd.read_csv('https://api.covid19india.org/csv/latest/states.csv')\n",
    "df = df[['Date','State','Confirmed','Deceased']]\n",
    "df = df.rename(columns={'Confirmed':'Cases', \"Deceased\":'Deaths'})\n",
    "df_cases = df[[\"Date\",'State','Cases']]\n",
    "df_deaths = df[['Date','State','Deaths']]\n",
    "df_cases1 = df_cases.groupby('Date')\n",
    "df_deaths1= df_deaths.groupby('Date')"
   ]
  },
  {
   "cell_type": "code",
   "execution_count": 3,
   "id": "hybrid-cathedral",
   "metadata": {
    "execution": {
     "iopub.execute_input": "2021-04-11T13:56:05.368808Z",
     "iopub.status.busy": "2021-04-11T13:56:05.368121Z",
     "iopub.status.idle": "2021-04-11T13:56:05.394774Z",
     "shell.execute_reply": "2021-04-11T13:56:05.394205Z"
    },
    "papermill": {
     "duration": 0.052713,
     "end_time": "2021-04-11T13:56:05.394979",
     "exception": false,
     "start_time": "2021-04-11T13:56:05.342266",
     "status": "completed"
    },
    "tags": []
   },
   "outputs": [],
   "source": [
    "#hide\n",
    "df_snap = pd.read_csv('data/SnapshotCases-28-July.csv')\n",
    "arr_states = df_snap['states'].unique()\n",
    "arr_dates = df['Date'].unique()\n",
    "df_snap = df_snap.set_index('states')"
   ]
  },
  {
   "cell_type": "code",
   "execution_count": 4,
   "id": "interior-belfast",
   "metadata": {
    "execution": {
     "iopub.execute_input": "2021-04-11T13:56:05.444986Z",
     "iopub.status.busy": "2021-04-11T13:56:05.444310Z",
     "iopub.status.idle": "2021-04-11T13:56:05.447088Z",
     "shell.execute_reply": "2021-04-11T13:56:05.447707Z"
    },
    "papermill": {
     "duration": 0.03275,
     "end_time": "2021-04-11T13:56:05.447880",
     "exception": false,
     "start_time": "2021-04-11T13:56:05.415130",
     "status": "completed"
    },
    "tags": []
   },
   "outputs": [
    {
     "data": {
      "text/plain": [
       "array(['Andaman and Nicobar Islands', 'Andhra Pradesh',\n",
       "       'Arunachal Pradesh', 'Assam', 'Bihar', 'Chandigarh',\n",
       "       'Dadra and Nagar Haveli and Daman and Diu', 'Delhi', 'Goa',\n",
       "       'Gujarat', 'Haryana', 'Himachal Pradesh', 'Jammu and Kashmir',\n",
       "       'Jharkhand', 'Karnataka', 'Kerala', 'Lakshadweep',\n",
       "       'Madhya Pradesh', 'Maharashtra', 'Manipur', 'Meghalaya', 'Mizoram',\n",
       "       'Nagaland', 'Odisha', 'Puducherry', 'Punjab', 'Rajasthan',\n",
       "       'Sikkim', 'Tamil Nadu', 'Telangana', 'Tripura', 'Uttar Pradesh',\n",
       "       'West Bengal', 'Chhattisgarh', 'Ladakh', 'Uttarakhand'],\n",
       "      dtype=object)"
      ]
     },
     "execution_count": 4,
     "metadata": {},
     "output_type": "execute_result"
    }
   ],
   "source": [
    "#hide\n",
    "arr_states[-9] = 'Puducherry'\n",
    "arr_states[-10] = 'Odisha'\n",
    "arr_states[6] = 'Dadra and Nagar Haveli and Daman and Diu'\n",
    "arr_states = np.append(arr_states,np.array(['Chhattisgarh','Ladakh','Uttarakhand']))\n",
    "arr_states"
   ]
  },
  {
   "cell_type": "code",
   "execution_count": 5,
   "id": "behind-manner",
   "metadata": {
    "execution": {
     "iopub.execute_input": "2021-04-11T13:56:05.506070Z",
     "iopub.status.busy": "2021-04-11T13:56:05.505351Z",
     "iopub.status.idle": "2021-04-11T13:56:05.515109Z",
     "shell.execute_reply": "2021-04-11T13:56:05.515722Z"
    },
    "papermill": {
     "duration": 0.046543,
     "end_time": "2021-04-11T13:56:05.515878",
     "exception": false,
     "start_time": "2021-04-11T13:56:05.469335",
     "status": "completed"
    },
    "tags": []
   },
   "outputs": [],
   "source": [
    "#hide\n",
    "dates = []\n",
    "for i in arr_dates:\n",
    "    if i>='2020-07-01':\n",
    "        dates.append(i)\n",
    "dict = {'states':dates}\n",
    "for i in arr_states:\n",
    "    dict[i] = [0]*len(dates)\n",
    "dft_cases = pd.DataFrame(dict)\n",
    "dft_deaths = pd.DataFrame(dict)\n"
   ]
  },
  {
   "cell_type": "code",
   "execution_count": 6,
   "id": "simplified-peter",
   "metadata": {
    "execution": {
     "iopub.execute_input": "2021-04-11T13:56:05.564295Z",
     "iopub.status.busy": "2021-04-11T13:56:05.563574Z",
     "iopub.status.idle": "2021-04-11T13:56:11.129305Z",
     "shell.execute_reply": "2021-04-11T13:56:11.128713Z"
    },
    "papermill": {
     "duration": 5.593336,
     "end_time": "2021-04-11T13:56:11.129478",
     "exception": false,
     "start_time": "2021-04-11T13:56:05.536142",
     "status": "completed"
    },
    "tags": []
   },
   "outputs": [],
   "source": [
    "#hide\n",
    "for i in range(len(dates)):\n",
    "    df1_deaths = df_deaths1.get_group(dates[i])\n",
    "    for j in range(len(df1_deaths.index)):\n",
    "        if df1_deaths.iloc[j,1] in arr_states:\n",
    "            dft_deaths.loc[i,df1_deaths.iloc[j,1]] = df1_deaths.iloc[j,2]\n",
    "dft_deaths = dft_deaths.set_index('states')"
   ]
  },
  {
   "cell_type": "code",
   "execution_count": 7,
   "id": "geological-welding",
   "metadata": {
    "execution": {
     "iopub.execute_input": "2021-04-11T13:56:11.179875Z",
     "iopub.status.busy": "2021-04-11T13:56:11.179185Z",
     "iopub.status.idle": "2021-04-11T13:56:16.774745Z",
     "shell.execute_reply": "2021-04-11T13:56:16.774189Z"
    },
    "papermill": {
     "duration": 5.625029,
     "end_time": "2021-04-11T13:56:16.774893",
     "exception": false,
     "start_time": "2021-04-11T13:56:11.149864",
     "status": "completed"
    },
    "tags": []
   },
   "outputs": [],
   "source": [
    "#hide\n",
    "for i in range(len(dates)):\n",
    "    df1_cases = df_cases1.get_group(dates[i])\n",
    "    for j in range(len(df1_cases.index)):\n",
    "        if df1_cases.iloc[j,1] in arr_states:\n",
    "            dft_cases.loc[i,df1_cases.iloc[j,1]] = df1_cases.iloc[j,2]\n",
    "dft_cases = dft_cases.set_index('states')"
   ]
  },
  {
   "cell_type": "code",
   "execution_count": 8,
   "id": "binary-ratio",
   "metadata": {
    "execution": {
     "iopub.execute_input": "2021-04-11T13:56:16.819734Z",
     "iopub.status.busy": "2021-04-11T13:56:16.819072Z",
     "iopub.status.idle": "2021-04-11T13:56:16.821668Z",
     "shell.execute_reply": "2021-04-11T13:56:16.821122Z"
    },
    "papermill": {
     "duration": 0.027251,
     "end_time": "2021-04-11T13:56:16.821797",
     "exception": false,
     "start_time": "2021-04-11T13:56:16.794546",
     "status": "completed"
    },
    "tags": []
   },
   "outputs": [],
   "source": [
    "#hide\n",
    "dft_cases = dft_cases.T\n",
    "dft_deaths = dft_deaths.T\n",
    "dt_today = dates[-1]\n",
    "dt_yday = dates[-2]"
   ]
  },
  {
   "cell_type": "code",
   "execution_count": 9,
   "id": "boolean-calculator",
   "metadata": {
    "execution": {
     "iopub.execute_input": "2021-04-11T13:56:16.868322Z",
     "iopub.status.busy": "2021-04-11T13:56:16.867638Z",
     "iopub.status.idle": "2021-04-11T13:56:16.873049Z",
     "shell.execute_reply": "2021-04-11T13:56:16.873553Z"
    },
    "papermill": {
     "duration": 0.032632,
     "end_time": "2021-04-11T13:56:16.873700",
     "exception": false,
     "start_time": "2021-04-11T13:56:16.841068",
     "status": "completed"
    },
    "tags": []
   },
   "outputs": [],
   "source": [
    "#hide\n",
    "dft_cases = dft_cases.reset_index()\n",
    "dft_deaths = dft_deaths.reset_index()\n",
    "dft_cases = dft_cases.rename(columns = {'index':'state'})\n",
    "dft_deaths = dft_deaths.rename(columns = {'index':'state'})"
   ]
  },
  {
   "cell_type": "code",
   "execution_count": 10,
   "id": "invisible-johnston",
   "metadata": {
    "execution": {
     "iopub.execute_input": "2021-04-11T13:56:16.924605Z",
     "iopub.status.busy": "2021-04-11T13:56:16.923902Z",
     "iopub.status.idle": "2021-04-11T13:56:16.929150Z",
     "shell.execute_reply": "2021-04-11T13:56:16.929773Z"
    },
    "papermill": {
     "duration": 0.036419,
     "end_time": "2021-04-11T13:56:16.929923",
     "exception": false,
     "start_time": "2021-04-11T13:56:16.893504",
     "status": "completed"
    },
    "tags": []
   },
   "outputs": [],
   "source": [
    "#hide\n",
    "dfc_cases = dft_cases.groupby('state')[dt_today].sum()\n",
    "dfc_deaths = dft_deaths.groupby('state')[dt_today].sum()\n",
    "dfp_cases = dft_cases.groupby('state')[dt_yday].sum()\n",
    "dfp_deaths = dft_deaths.groupby('state')[dt_yday].sum()"
   ]
  },
  {
   "cell_type": "code",
   "execution_count": 11,
   "id": "measured-great",
   "metadata": {
    "execution": {
     "iopub.execute_input": "2021-04-11T13:56:16.991396Z",
     "iopub.status.busy": "2021-04-11T13:56:16.990625Z",
     "iopub.status.idle": "2021-04-11T13:56:16.999496Z",
     "shell.execute_reply": "2021-04-11T13:56:17.000069Z"
    },
    "papermill": {
     "duration": 0.050685,
     "end_time": "2021-04-11T13:56:17.000232",
     "exception": false,
     "start_time": "2021-04-11T13:56:16.949547",
     "status": "completed"
    },
    "tags": []
   },
   "outputs": [
    {
     "data": {
      "text/html": [
       "<div>\n",
       "<style scoped>\n",
       "    .dataframe tbody tr th:only-of-type {\n",
       "        vertical-align: middle;\n",
       "    }\n",
       "\n",
       "    .dataframe tbody tr th {\n",
       "        vertical-align: top;\n",
       "    }\n",
       "\n",
       "    .dataframe thead th {\n",
       "        text-align: right;\n",
       "    }\n",
       "</style>\n",
       "<table border=\"1\" class=\"dataframe\">\n",
       "  <thead>\n",
       "    <tr style=\"text-align: right;\">\n",
       "      <th></th>\n",
       "      <th>states</th>\n",
       "      <th>Cases</th>\n",
       "      <th>Deaths</th>\n",
       "      <th>PCases</th>\n",
       "      <th>PDeaths</th>\n",
       "    </tr>\n",
       "  </thead>\n",
       "  <tbody>\n",
       "    <tr>\n",
       "      <th>0</th>\n",
       "      <td>Maharashtra</td>\n",
       "      <td>3343951</td>\n",
       "      <td>57638</td>\n",
       "      <td>3343951</td>\n",
       "      <td>57638</td>\n",
       "    </tr>\n",
       "    <tr>\n",
       "      <th>1</th>\n",
       "      <td>Kerala</td>\n",
       "      <td>1167191</td>\n",
       "      <td>4784</td>\n",
       "      <td>1160205</td>\n",
       "      <td>4768</td>\n",
       "    </tr>\n",
       "    <tr>\n",
       "      <th>2</th>\n",
       "      <td>Karnataka</td>\n",
       "      <td>1055040</td>\n",
       "      <td>12849</td>\n",
       "      <td>1055040</td>\n",
       "      <td>12849</td>\n",
       "    </tr>\n",
       "    <tr>\n",
       "      <th>3</th>\n",
       "      <td>Tamil Nadu</td>\n",
       "      <td>926816</td>\n",
       "      <td>12886</td>\n",
       "      <td>926816</td>\n",
       "      <td>12886</td>\n",
       "    </tr>\n",
       "    <tr>\n",
       "      <th>4</th>\n",
       "      <td>Andhra Pradesh</td>\n",
       "      <td>921906</td>\n",
       "      <td>7291</td>\n",
       "      <td>921906</td>\n",
       "      <td>7291</td>\n",
       "    </tr>\n",
       "  </tbody>\n",
       "</table>\n",
       "</div>"
      ],
      "text/plain": [
       "           states    Cases  Deaths   PCases  PDeaths\n",
       "0     Maharashtra  3343951   57638  3343951    57638\n",
       "1          Kerala  1167191    4784  1160205     4768\n",
       "2       Karnataka  1055040   12849  1055040    12849\n",
       "3      Tamil Nadu   926816   12886   926816    12886\n",
       "4  Andhra Pradesh   921906    7291   921906     7291"
      ]
     },
     "execution_count": 11,
     "metadata": {},
     "output_type": "execute_result"
    }
   ],
   "source": [
    "#hide\n",
    "df_table = pd.DataFrame({'states': dfc_cases.index, 'Cases': dfc_cases.values, 'Deaths': dfc_deaths.values, 'PCases': dfp_cases.values, 'PDeaths': dfp_deaths.values}).set_index('states')\n",
    "df_table = df_table.sort_values(by = ['Cases','Deaths'], ascending = [False, False])\n",
    "df_table = df_table.reset_index()\n",
    "df_table.head()"
   ]
  },
  {
   "cell_type": "code",
   "execution_count": 12,
   "id": "found-montreal",
   "metadata": {
    "execution": {
     "iopub.execute_input": "2021-04-11T13:56:17.048721Z",
     "iopub.status.busy": "2021-04-11T13:56:17.048014Z",
     "iopub.status.idle": "2021-04-11T13:56:17.057605Z",
     "shell.execute_reply": "2021-04-11T13:56:17.058244Z"
    },
    "papermill": {
     "duration": 0.036836,
     "end_time": "2021-04-11T13:56:17.058404",
     "exception": false,
     "start_time": "2021-04-11T13:56:17.021568",
     "status": "completed"
    },
    "tags": []
   },
   "outputs": [],
   "source": [
    "#hide\n",
    "for c in 'Cases, Deaths'.split(', '):\n",
    "    df_table[f'{c} (+)'] = (df_table[c] - df_table[f'P{c}']).clip(0)\n",
    "df_table['Fatality Rate'] = (100* df_table['Deaths']/ df_table['Cases']).round(2)"
   ]
  },
  {
   "cell_type": "code",
   "execution_count": 13,
   "id": "minus-savage",
   "metadata": {
    "execution": {
     "iopub.execute_input": "2021-04-11T13:56:17.114971Z",
     "iopub.status.busy": "2021-04-11T13:56:17.113935Z",
     "iopub.status.idle": "2021-04-11T13:56:17.117112Z",
     "shell.execute_reply": "2021-04-11T13:56:17.117772Z"
    },
    "papermill": {
     "duration": 0.038084,
     "end_time": "2021-04-11T13:56:17.117932",
     "exception": false,
     "start_time": "2021-04-11T13:56:17.079848",
     "status": "completed"
    },
    "tags": []
   },
   "outputs": [
    {
     "data": {
      "text/html": [
       "<div>\n",
       "<style scoped>\n",
       "    .dataframe tbody tr th:only-of-type {\n",
       "        vertical-align: middle;\n",
       "    }\n",
       "\n",
       "    .dataframe tbody tr th {\n",
       "        vertical-align: top;\n",
       "    }\n",
       "\n",
       "    .dataframe thead th {\n",
       "        text-align: right;\n",
       "    }\n",
       "</style>\n",
       "<table border=\"1\" class=\"dataframe\">\n",
       "  <thead>\n",
       "    <tr style=\"text-align: right;\">\n",
       "      <th></th>\n",
       "      <th>states</th>\n",
       "      <th>Cases</th>\n",
       "      <th>Deaths</th>\n",
       "      <th>PCases</th>\n",
       "      <th>PDeaths</th>\n",
       "      <th>Cases (+)</th>\n",
       "      <th>Deaths (+)</th>\n",
       "      <th>Fatality Rate</th>\n",
       "    </tr>\n",
       "  </thead>\n",
       "  <tbody>\n",
       "    <tr>\n",
       "      <th>0</th>\n",
       "      <td>Maharashtra</td>\n",
       "      <td>3343951</td>\n",
       "      <td>57638</td>\n",
       "      <td>3343951</td>\n",
       "      <td>57638</td>\n",
       "      <td>0</td>\n",
       "      <td>0</td>\n",
       "      <td>1.72</td>\n",
       "    </tr>\n",
       "    <tr>\n",
       "      <th>1</th>\n",
       "      <td>Kerala</td>\n",
       "      <td>1167191</td>\n",
       "      <td>4784</td>\n",
       "      <td>1160205</td>\n",
       "      <td>4768</td>\n",
       "      <td>6986</td>\n",
       "      <td>16</td>\n",
       "      <td>0.41</td>\n",
       "    </tr>\n",
       "    <tr>\n",
       "      <th>2</th>\n",
       "      <td>Karnataka</td>\n",
       "      <td>1055040</td>\n",
       "      <td>12849</td>\n",
       "      <td>1055040</td>\n",
       "      <td>12849</td>\n",
       "      <td>0</td>\n",
       "      <td>0</td>\n",
       "      <td>1.22</td>\n",
       "    </tr>\n",
       "    <tr>\n",
       "      <th>3</th>\n",
       "      <td>Tamil Nadu</td>\n",
       "      <td>926816</td>\n",
       "      <td>12886</td>\n",
       "      <td>926816</td>\n",
       "      <td>12886</td>\n",
       "      <td>0</td>\n",
       "      <td>0</td>\n",
       "      <td>1.39</td>\n",
       "    </tr>\n",
       "    <tr>\n",
       "      <th>4</th>\n",
       "      <td>Andhra Pradesh</td>\n",
       "      <td>921906</td>\n",
       "      <td>7291</td>\n",
       "      <td>921906</td>\n",
       "      <td>7291</td>\n",
       "      <td>0</td>\n",
       "      <td>0</td>\n",
       "      <td>0.79</td>\n",
       "    </tr>\n",
       "  </tbody>\n",
       "</table>\n",
       "</div>"
      ],
      "text/plain": [
       "           states    Cases  Deaths   PCases  PDeaths  Cases (+)  Deaths (+)  \\\n",
       "0     Maharashtra  3343951   57638  3343951    57638          0           0   \n",
       "1          Kerala  1167191    4784  1160205     4768       6986          16   \n",
       "2       Karnataka  1055040   12849  1055040    12849          0           0   \n",
       "3      Tamil Nadu   926816   12886   926816    12886          0           0   \n",
       "4  Andhra Pradesh   921906    7291   921906     7291          0           0   \n",
       "\n",
       "   Fatality Rate  \n",
       "0           1.72  \n",
       "1           0.41  \n",
       "2           1.22  \n",
       "3           1.39  \n",
       "4           0.79  "
      ]
     },
     "execution_count": 13,
     "metadata": {},
     "output_type": "execute_result"
    }
   ],
   "source": [
    "#hide\n",
    "df_table.head()"
   ]
  },
  {
   "cell_type": "code",
   "execution_count": 14,
   "id": "false-peter",
   "metadata": {
    "execution": {
     "iopub.execute_input": "2021-04-11T13:56:17.171269Z",
     "iopub.status.busy": "2021-04-11T13:56:17.170525Z",
     "iopub.status.idle": "2021-04-11T13:56:17.196407Z",
     "shell.execute_reply": "2021-04-11T13:56:17.197055Z"
    },
    "papermill": {
     "duration": 0.056592,
     "end_time": "2021-04-11T13:56:17.197263",
     "exception": false,
     "start_time": "2021-04-11T13:56:17.140671",
     "status": "completed"
    },
    "tags": []
   },
   "outputs": [
    {
     "data": {
      "text/plain": [
       "{'updated': '2021-04-11',\n",
       " 'since': '2021-04-10',\n",
       " 'Cases': 13367094,\n",
       " 'PCases': 13355465,\n",
       " 'Deaths': 169328,\n",
       " 'PDeaths': 169305,\n",
       " 'Cases (+)': 11629,\n",
       " 'Deaths (+)': 23}"
      ]
     },
     "execution_count": 14,
     "metadata": {},
     "output_type": "execute_result"
    }
   ],
   "source": [
    "#hide\n",
    "summary = {'updated':dates[-1], 'since':dates[-2]}\n",
    "list_names = ['Cases', 'PCases', 'Deaths', 'PDeaths', 'Cases (+)', 'Deaths (+)']\n",
    "for name in list_names:\n",
    "    summary[name] = df_table.sum()[name]\n",
    "summary"
   ]
  },
  {
   "cell_type": "code",
   "execution_count": 15,
   "id": "packed-viewer",
   "metadata": {
    "execution": {
     "iopub.execute_input": "2021-04-11T13:56:17.245246Z",
     "iopub.status.busy": "2021-04-11T13:56:17.244621Z",
     "iopub.status.idle": "2021-04-11T13:56:17.247115Z",
     "shell.execute_reply": "2021-04-11T13:56:17.246509Z"
    },
    "papermill": {
     "duration": 0.028173,
     "end_time": "2021-04-11T13:56:17.247239",
     "exception": false,
     "start_time": "2021-04-11T13:56:17.219066",
     "status": "completed"
    },
    "tags": []
   },
   "outputs": [],
   "source": [
    "#hide\n",
    "overview = '''\n",
    "<!-- #######  HTML!! #########-->\n",
    "<h1 style=\"color: #5e9ca0; text-align: center;\">India</h1>\n",
    "<p style=\"text-align: center;\">Last update: <strong>{update}</strong></p>\n",
    "<p style=\"text-align: center;\">Confirmed cases:</p>\n",
    "<p style=\"text-align: center;font-size:24px;\">{cases} (<span style=\"color: #ff0000;\">+{new}</span>)</p>\n",
    "<p style=\"text-align: center;\">Confirmed deaths:</p>\n",
    "<p style=\"text-align: center;font-size:24px;\">{deaths} (<span style=\"color: #ff0000;\">+{dnew}</span>)</p>\n",
    "'''"
   ]
  },
  {
   "cell_type": "code",
   "execution_count": 16,
   "id": "phantom-lover",
   "metadata": {
    "execution": {
     "iopub.execute_input": "2021-04-11T13:56:17.296107Z",
     "iopub.status.busy": "2021-04-11T13:56:17.295428Z",
     "iopub.status.idle": "2021-04-11T13:56:17.298434Z",
     "shell.execute_reply": "2021-04-11T13:56:17.299112Z"
    },
    "papermill": {
     "duration": 0.032034,
     "end_time": "2021-04-11T13:56:17.299266",
     "exception": false,
     "start_time": "2021-04-11T13:56:17.267232",
     "status": "completed"
    },
    "tags": []
   },
   "outputs": [
    {
     "data": {
      "text/html": [
       "\n",
       "<!-- #######  HTML!! #########-->\n",
       "<h1 style=\"color: #5e9ca0; text-align: center;\">India</h1>\n",
       "<p style=\"text-align: center;\">Last update: <strong>2021-04-11</strong></p>\n",
       "<p style=\"text-align: center;\">Confirmed cases:</p>\n",
       "<p style=\"text-align: center;font-size:24px;\">13367094 (<span style=\"color: #ff0000;\">+11629</span>)</p>\n",
       "<p style=\"text-align: center;\">Confirmed deaths:</p>\n",
       "<p style=\"text-align: center;font-size:24px;\">169328 (<span style=\"color: #ff0000;\">+23</span>)</p>\n"
      ],
      "text/plain": [
       "<IPython.core.display.HTML object>"
      ]
     },
     "metadata": {},
     "output_type": "display_data"
    }
   ],
   "source": [
    "#hide_input\n",
    "update = summary['updated']\n",
    "cases = summary['Cases']\n",
    "new = summary['Cases (+)']\n",
    "deaths = summary['Deaths']\n",
    "dnew = summary['Deaths (+)']\n",
    "\n",
    "html = HTML(overview.format(update=update, cases=cases,new=new,deaths=deaths,dnew=dnew))\n",
    "\n",
    "display(html)"
   ]
  },
  {
   "cell_type": "code",
   "execution_count": 17,
   "id": "sealed-reset",
   "metadata": {
    "execution": {
     "iopub.execute_input": "2021-04-11T13:56:17.349537Z",
     "iopub.status.busy": "2021-04-11T13:56:17.348884Z",
     "iopub.status.idle": "2021-04-11T13:56:17.356154Z",
     "shell.execute_reply": "2021-04-11T13:56:17.356770Z"
    },
    "papermill": {
     "duration": 0.035375,
     "end_time": "2021-04-11T13:56:17.356905",
     "exception": false,
     "start_time": "2021-04-11T13:56:17.321530",
     "status": "completed"
    },
    "tags": []
   },
   "outputs": [],
   "source": [
    "#hide\n",
    "dt_cols = list(dft_cases.columns[1:])\n",
    "dft_ct_new_cases = dft_cases.groupby('state')[dt_cols].sum().diff(axis=1).fillna(0).astype(int)\n",
    "dft_ct_new_cases.sort_values(by = dates[-1], ascending = False,inplace = True)"
   ]
  },
  {
   "cell_type": "code",
   "execution_count": 18,
   "id": "designed-constant",
   "metadata": {
    "execution": {
     "iopub.execute_input": "2021-04-11T13:56:17.421460Z",
     "iopub.status.busy": "2021-04-11T13:56:17.420679Z",
     "iopub.status.idle": "2021-04-11T13:56:17.423456Z",
     "shell.execute_reply": "2021-04-11T13:56:17.424168Z"
    },
    "papermill": {
     "duration": 0.046027,
     "end_time": "2021-04-11T13:56:17.424331",
     "exception": false,
     "start_time": "2021-04-11T13:56:17.378304",
     "status": "completed"
    },
    "tags": []
   },
   "outputs": [
    {
     "data": {
      "text/html": [
       "<div>\n",
       "<style scoped>\n",
       "    .dataframe tbody tr th:only-of-type {\n",
       "        vertical-align: middle;\n",
       "    }\n",
       "\n",
       "    .dataframe tbody tr th {\n",
       "        vertical-align: top;\n",
       "    }\n",
       "\n",
       "    .dataframe thead th {\n",
       "        text-align: right;\n",
       "    }\n",
       "</style>\n",
       "<table border=\"1\" class=\"dataframe\">\n",
       "  <thead>\n",
       "    <tr style=\"text-align: right;\">\n",
       "      <th>states</th>\n",
       "      <th>2020-07-01</th>\n",
       "      <th>2020-07-02</th>\n",
       "      <th>2020-07-03</th>\n",
       "      <th>2020-07-04</th>\n",
       "      <th>2020-07-05</th>\n",
       "      <th>2020-07-06</th>\n",
       "      <th>2020-07-07</th>\n",
       "      <th>2020-07-08</th>\n",
       "      <th>2020-07-09</th>\n",
       "      <th>2020-07-10</th>\n",
       "      <th>...</th>\n",
       "      <th>2021-04-02</th>\n",
       "      <th>2021-04-03</th>\n",
       "      <th>2021-04-04</th>\n",
       "      <th>2021-04-05</th>\n",
       "      <th>2021-04-06</th>\n",
       "      <th>2021-04-07</th>\n",
       "      <th>2021-04-08</th>\n",
       "      <th>2021-04-09</th>\n",
       "      <th>2021-04-10</th>\n",
       "      <th>2021-04-11</th>\n",
       "    </tr>\n",
       "    <tr>\n",
       "      <th>state</th>\n",
       "      <th></th>\n",
       "      <th></th>\n",
       "      <th></th>\n",
       "      <th></th>\n",
       "      <th></th>\n",
       "      <th></th>\n",
       "      <th></th>\n",
       "      <th></th>\n",
       "      <th></th>\n",
       "      <th></th>\n",
       "      <th></th>\n",
       "      <th></th>\n",
       "      <th></th>\n",
       "      <th></th>\n",
       "      <th></th>\n",
       "      <th></th>\n",
       "      <th></th>\n",
       "      <th></th>\n",
       "      <th></th>\n",
       "      <th></th>\n",
       "      <th></th>\n",
       "    </tr>\n",
       "  </thead>\n",
       "  <tbody>\n",
       "    <tr>\n",
       "      <th>Kerala</th>\n",
       "      <td>0</td>\n",
       "      <td>160</td>\n",
       "      <td>211</td>\n",
       "      <td>240</td>\n",
       "      <td>225</td>\n",
       "      <td>193</td>\n",
       "      <td>272</td>\n",
       "      <td>301</td>\n",
       "      <td>339</td>\n",
       "      <td>416</td>\n",
       "      <td>...</td>\n",
       "      <td>2508</td>\n",
       "      <td>2541</td>\n",
       "      <td>2802</td>\n",
       "      <td>2357</td>\n",
       "      <td>3502</td>\n",
       "      <td>3502</td>\n",
       "      <td>4353</td>\n",
       "      <td>5063</td>\n",
       "      <td>6194</td>\n",
       "      <td>6986</td>\n",
       "    </tr>\n",
       "    <tr>\n",
       "      <th>Telangana</th>\n",
       "      <td>0</td>\n",
       "      <td>1213</td>\n",
       "      <td>1892</td>\n",
       "      <td>1850</td>\n",
       "      <td>1590</td>\n",
       "      <td>1831</td>\n",
       "      <td>1879</td>\n",
       "      <td>1924</td>\n",
       "      <td>1410</td>\n",
       "      <td>1278</td>\n",
       "      <td>...</td>\n",
       "      <td>965</td>\n",
       "      <td>1078</td>\n",
       "      <td>1321</td>\n",
       "      <td>1097</td>\n",
       "      <td>1498</td>\n",
       "      <td>1914</td>\n",
       "      <td>2055</td>\n",
       "      <td>2478</td>\n",
       "      <td>2909</td>\n",
       "      <td>3187</td>\n",
       "    </tr>\n",
       "    <tr>\n",
       "      <th>Odisha</th>\n",
       "      <td>0</td>\n",
       "      <td>229</td>\n",
       "      <td>561</td>\n",
       "      <td>495</td>\n",
       "      <td>469</td>\n",
       "      <td>456</td>\n",
       "      <td>571</td>\n",
       "      <td>527</td>\n",
       "      <td>577</td>\n",
       "      <td>755</td>\n",
       "      <td>...</td>\n",
       "      <td>461</td>\n",
       "      <td>452</td>\n",
       "      <td>471</td>\n",
       "      <td>573</td>\n",
       "      <td>588</td>\n",
       "      <td>791</td>\n",
       "      <td>879</td>\n",
       "      <td>1282</td>\n",
       "      <td>1374</td>\n",
       "      <td>1379</td>\n",
       "    </tr>\n",
       "    <tr>\n",
       "      <th>Tripura</th>\n",
       "      <td>0</td>\n",
       "      <td>39</td>\n",
       "      <td>93</td>\n",
       "      <td>25</td>\n",
       "      <td>23</td>\n",
       "      <td>111</td>\n",
       "      <td>24</td>\n",
       "      <td>57</td>\n",
       "      <td>16</td>\n",
       "      <td>142</td>\n",
       "      <td>...</td>\n",
       "      <td>4</td>\n",
       "      <td>2</td>\n",
       "      <td>14</td>\n",
       "      <td>3</td>\n",
       "      <td>14</td>\n",
       "      <td>21</td>\n",
       "      <td>37</td>\n",
       "      <td>32</td>\n",
       "      <td>41</td>\n",
       "      <td>48</td>\n",
       "    </tr>\n",
       "    <tr>\n",
       "      <th>Mizoram</th>\n",
       "      <td>0</td>\n",
       "      <td>2</td>\n",
       "      <td>0</td>\n",
       "      <td>2</td>\n",
       "      <td>22</td>\n",
       "      <td>11</td>\n",
       "      <td>1</td>\n",
       "      <td>5</td>\n",
       "      <td>0</td>\n",
       "      <td>23</td>\n",
       "      <td>...</td>\n",
       "      <td>8</td>\n",
       "      <td>3</td>\n",
       "      <td>3</td>\n",
       "      <td>1</td>\n",
       "      <td>9</td>\n",
       "      <td>8</td>\n",
       "      <td>14</td>\n",
       "      <td>36</td>\n",
       "      <td>25</td>\n",
       "      <td>29</td>\n",
       "    </tr>\n",
       "  </tbody>\n",
       "</table>\n",
       "<p>5 rows × 285 columns</p>\n",
       "</div>"
      ],
      "text/plain": [
       "states     2020-07-01  2020-07-02  2020-07-03  2020-07-04  2020-07-05  \\\n",
       "state                                                                   \n",
       "Kerala              0         160         211         240         225   \n",
       "Telangana           0        1213        1892        1850        1590   \n",
       "Odisha              0         229         561         495         469   \n",
       "Tripura             0          39          93          25          23   \n",
       "Mizoram             0           2           0           2          22   \n",
       "\n",
       "states     2020-07-06  2020-07-07  2020-07-08  2020-07-09  2020-07-10  ...  \\\n",
       "state                                                                  ...   \n",
       "Kerala            193         272         301         339         416  ...   \n",
       "Telangana        1831        1879        1924        1410        1278  ...   \n",
       "Odisha            456         571         527         577         755  ...   \n",
       "Tripura           111          24          57          16         142  ...   \n",
       "Mizoram            11           1           5           0          23  ...   \n",
       "\n",
       "states     2021-04-02  2021-04-03  2021-04-04  2021-04-05  2021-04-06  \\\n",
       "state                                                                   \n",
       "Kerala           2508        2541        2802        2357        3502   \n",
       "Telangana         965        1078        1321        1097        1498   \n",
       "Odisha            461         452         471         573         588   \n",
       "Tripura             4           2          14           3          14   \n",
       "Mizoram             8           3           3           1           9   \n",
       "\n",
       "states     2021-04-07  2021-04-08  2021-04-09  2021-04-10  2021-04-11  \n",
       "state                                                                  \n",
       "Kerala           3502        4353        5063        6194        6986  \n",
       "Telangana        1914        2055        2478        2909        3187  \n",
       "Odisha            791         879        1282        1374        1379  \n",
       "Tripura            21          37          32          41          48  \n",
       "Mizoram             8          14          36          25          29  \n",
       "\n",
       "[5 rows x 285 columns]"
      ]
     },
     "execution_count": 18,
     "metadata": {},
     "output_type": "execute_result"
    }
   ],
   "source": [
    "#hide\n",
    "dft_ct_new_cases.head()"
   ]
  },
  {
   "cell_type": "code",
   "execution_count": 19,
   "id": "responsible-nightlife",
   "metadata": {
    "execution": {
     "iopub.execute_input": "2021-04-11T13:56:17.486656Z",
     "iopub.status.busy": "2021-04-11T13:56:17.481396Z",
     "iopub.status.idle": "2021-04-11T13:56:31.488493Z",
     "shell.execute_reply": "2021-04-11T13:56:31.487941Z"
    },
    "papermill": {
     "duration": 14.042108,
     "end_time": "2021-04-11T13:56:31.488646",
     "exception": false,
     "start_time": "2021-04-11T13:56:17.446538",
     "status": "completed"
    },
    "tags": []
   },
   "outputs": [
    {
     "data": {
      "image/png": "[encoded data removed]",
      "text/plain": [
       "<Figure size 1296x2016 with 11 Axes>"
      ]
     },
     "metadata": {
      "needs_background": "light"
     },
     "output_type": "display_data"
    }
   ],
   "source": [
    "#hide_input\n",
    "df = dft_ct_new_cases.copy()\n",
    "df.loc['Total'] = df.sum()\n",
    "n = 5\n",
    "ax = []\n",
    "fig = plt.figure(figsize = (18,28))\n",
    "gs = fig.add_gridspec(n+2, 5)\n",
    "# gs = fig.add_gridspec(2, 3)\n",
    "ax1 = fig.add_subplot(gs[0, :])\n",
    "ef = df.loc['Total'].rename_axis('date').reset_index()\n",
    "ef['date'] = ef['date'].astype('datetime64[ns]')\n",
    "ax1.bar(ef.date,ef.Total,alpha=0.3,color='#007acc')\n",
    "ax1.plot(ef.date,ef.Total , marker=\"o\", color='#007acc')\n",
    "ax1.xaxis.set_major_locator(mdates.WeekdayLocator())\n",
    "ax1.xaxis.set_major_formatter(mdates.DateFormatter('%b %d'))\n",
    "ax1.text(0.02, 0.5,'India daily case count', transform = ax1.transAxes, fontsize=25);\n",
    "ax1.spines['right'].set_visible(False)\n",
    "ax1.spines['top'].set_visible(False)\n",
    "\n",
    "ax2 = fig.add_subplot(gs[1,0])\n",
    "ef = df.loc['Maharashtra'].rename_axis('date').reset_index()\n",
    "ef['date'] = ef['date'].astype('datetime64[ns]')\n",
    "\n",
    "ax2.bar(ef.date, ef.Maharashtra,color = '#007acc',alpha=0.5)\n",
    "ax2.xaxis.set_major_locator(mdates.WeekdayLocator())\n",
    "ax2.xaxis.set_major_formatter(mdates.DateFormatter('%b %d'))\n",
    "ax2.set_xticks(ax2.get_xticks()[::3])\n",
    "maxyval = ef.Maharashtra.max()\n",
    "ax2.set_ylim([0,maxyval])\n",
    "ax2.text(0.05, 0.9,'Maharashtra', transform = ax2.transAxes, fontsize=20);\n",
    "ax2.spines['right'].set_visible(False)\n",
    "ax2.spines['top'].set_visible(False)\n",
    "\n",
    "\n",
    "ax3 = fig.add_subplot(gs[1,1])\n",
    "ef = df.loc['Tamil Nadu'].rename_axis('date').reset_index()\n",
    "ef['date'] = ef['date'].astype('datetime64[ns]')\n",
    "ax3.bar(ef.date, ef['Tamil Nadu'],color = '#007acc',alpha=0.5,)\n",
    "ax3.xaxis.set_major_locator(mdates.WeekdayLocator())\n",
    "ax3.xaxis.set_major_formatter(mdates.DateFormatter('%b %d'))\n",
    "ax3.set_xticks(ax3.get_xticks()[::3])\n",
    "ax3.text(0.05, 0.9,'Tamil Nadu', transform = ax3.transAxes, fontsize=20);\n",
    "ax3.spines['right'].set_visible(False)\n",
    "ax3.spines['top'].set_visible(False)\n",
    "\n",
    "ax5 = fig.add_subplot(gs[1,3])\n",
    "ef = df.loc['Telangana'].rename_axis('date').reset_index()\n",
    "ef['date'] = ef['date'].astype('datetime64[ns]')\n",
    "ax5.bar(ef.date, ef['Telangana'],color = '#007acc',alpha=0.5,)\n",
    "ax5.xaxis.set_major_locator(mdates.WeekdayLocator())\n",
    "ax5.xaxis.set_major_formatter(mdates.DateFormatter('%b %d'))\n",
    "ax5.set_xticks(ax5.get_xticks()[::3])\n",
    "ax5.text(0.05, 0.9,'Telangana', transform = ax5.transAxes, fontsize=20);\n",
    "ax5.spines['right'].set_visible(False)\n",
    "ax5.spines['top'].set_visible(False)\n",
    "\n",
    "ax6 = fig.add_subplot(gs[1,4])\n",
    "ef = df.loc['Andhra Pradesh'].rename_axis('date').reset_index()\n",
    "ef['date'] = ef['date'].astype('datetime64[ns]')\n",
    "ax6.bar(ef.date, ef['Andhra Pradesh'],color = '#007acc',alpha=0.5,)\n",
    "ax6.xaxis.set_major_locator(mdates.WeekdayLocator())\n",
    "ax6.xaxis.set_major_formatter(mdates.DateFormatter('%b %d'))\n",
    "ax6.set_xticks(ax6.get_xticks()[::3])\n",
    "ax6.text(0.05, 1,'Andhra Pradesh', transform = ax6.transAxes, fontsize=20);\n",
    "ax6.spines['right'].set_visible(False)\n",
    "ax6.spines['top'].set_visible(False)\n",
    "\n",
    "ax4 = fig.add_subplot(gs[1,2])\n",
    "ef = df.loc['Delhi'].rename_axis('date').reset_index()\n",
    "ef['date'] = ef['date'].astype('datetime64[ns]')\n",
    "ax4.bar(ef.date, ef.Delhi,color = '#007acc',alpha=0.5)\n",
    "ax4.set_xticks([])\n",
    "ax4.xaxis.set_major_locator(mdates.WeekdayLocator())\n",
    "ax4.xaxis.set_major_formatter(mdates.DateFormatter('%b %d'))\n",
    "ax4.set_xticks(ax4.get_xticks()[::3])\n",
    "ax4.spines['right'].set_visible(False)\n",
    "ax4.spines['top'].set_visible(False)\n",
    "\n",
    "ax4.text(0.05, 1,'Delhi', transform = ax4.transAxes, fontsize=20)\n",
    "\n",
    "for i in range(n):\n",
    "    \n",
    "    ax.append(fig.add_subplot(gs[i+2,:]))\n",
    "    ef = df.iloc[i+3].rename_axis('date').reset_index()\n",
    "    ef['date'] = ef['date'].astype('datetime64[ns]')\n",
    "    ax[i].bar(ef.date,ef.iloc[:,-1],color = '#007acc',alpha=0.3)\n",
    "    ax[i].plot(ef.date,ef.iloc[:,-1],marker='o',color='#007acc')\n",
    "    ax[i].text(0.02,0.5,f'{ef.columns.values[-1]}',transform = ax[i].transAxes, fontsize = 20);\n",
    "    ax[i].xaxis.set_major_locator(mdates.WeekdayLocator())\n",
    "    ax[i].xaxis.set_major_formatter(mdates.DateFormatter('%b %d'))\n",
    "    ax[i].set_ylim([0,7000])\n",
    "    ax[i].spines['right'].set_visible(False)\n",
    "    ax[i].spines['top'].set_visible(False)\n",
    "plt.tight_layout()\n"
   ]
  },
  {
   "cell_type": "code",
   "execution_count": 20,
   "id": "dress-forge",
   "metadata": {
    "execution": {
     "iopub.execute_input": "2021-04-11T13:56:31.560093Z",
     "iopub.status.busy": "2021-04-11T13:56:31.559402Z",
     "iopub.status.idle": "2021-04-11T13:56:31.562949Z",
     "shell.execute_reply": "2021-04-11T13:56:31.563546Z"
    },
    "papermill": {
     "duration": 0.045755,
     "end_time": "2021-04-11T13:56:31.563699",
     "exception": false,
     "start_time": "2021-04-11T13:56:31.517944",
     "status": "completed"
    },
    "tags": []
   },
   "outputs": [
    {
     "name": "stdout",
     "output_type": "stream",
     "text": [
      "                                   states    Cases  Deaths   PCases  PDeaths  Cases (+)  Deaths (+)  Fatality Rate\n",
      "                              Maharashtra  3343951   57638  3343951    57638          0           0           1.72\n",
      "                                   Kerala  1167191    4784  1160205     4768       6986          16           0.41\n",
      "                                Karnataka  1055040   12849  1055040    12849          0           0           1.22\n",
      "                               Tamil Nadu   926816   12886   926816    12886          0           0           1.39\n",
      "                           Andhra Pradesh   921906    7291   921906     7291          0           0           0.79\n",
      "                                    Delhi   714423   11235   714423    11235          0           0           1.57\n",
      "                            Uttar Pradesh   676739    9085   676739     9085          0           0           1.34\n",
      "                              West Bengal   610498   10390   610498    10390          0           0           1.70\n",
      "                             Chhattisgarh   432776    4777   432776     4777          0           0           1.10\n",
      "                                Rajasthan   358688    2916   358688     2916          0           0           0.81\n",
      "                                   Odisha   349561    1979   348182     1979       1379           0           0.57\n",
      "                                  Gujarat   342026    4746   342026     4746          0           0           1.39\n",
      "                           Madhya Pradesh   332206    4160   332206     4160          0           0           1.25\n",
      "                                Telangana   327278    1759   324091     1752       3187           7           0.54\n",
      "                                  Haryana   313441    3252   313441     3252          0           0           1.04\n",
      "                                    Bihar   279473    1604   279473     1604          0           0           0.57\n",
      "                                   Punjab   269733    7448   269733     7448          0           0           2.76\n",
      "                                    Assam   219958    1117   219958     1117          0           0           0.51\n",
      "                        Jammu and Kashmir   137475    2029   137475     2029          0           0           1.48\n",
      "                                Jharkhand   137088    1192   137088     1192          0           0           0.87\n",
      "                              Uttarakhand   107479    1752   107479     1752          0           0           1.63\n",
      "                         Himachal Pradesh    69116    1102    69116     1102          0           0           1.59\n",
      "                                      Goa    61779     846    61779      846          0           0           1.37\n",
      "                               Puducherry    43737     689    43737      689          0           0           1.58\n",
      "                                  Tripura    33730     390    33682      390         48           0           1.16\n",
      "                               Chandigarh    30341     396    30341      396          0           0           1.31\n",
      "                                  Manipur    29486     375    29486      375          0           0           1.27\n",
      "                        Arunachal Pradesh    16878      56    16878       56          0           0           0.33\n",
      "                                Meghalaya    14246     151    14246      151          0           0           1.06\n",
      "                                 Nagaland    12400      91    12400       91          0           0           0.73\n",
      "                                   Ladakh    10765     131    10765      131          0           0           1.22\n",
      "                                   Sikkim     6351     136     6351      136          0           0           2.14\n",
      "              Andaman and Nicobar Islands     5175      62     5175       62          0           0           1.20\n",
      "                                  Mizoram     4612      11     4583       11         29           0           0.24\n",
      " Dadra and Nagar Haveli and Daman and Diu     3938       2     3938        2          0           0           0.05\n",
      "                              Lakshadweep      794       1      794        1          0           0           0.13\n"
     ]
    }
   ],
   "source": [
    "#hide_input\n",
    "print(df_table.to_string(index=False))"
   ]
  },
  {
   "cell_type": "code",
   "execution_count": null,
   "id": "quantitative-legend",
   "metadata": {
    "papermill": {
     "duration": 0.027436,
     "end_time": "2021-04-11T13:56:31.620022",
     "exception": false,
     "start_time": "2021-04-11T13:56:31.592586",
     "status": "completed"
    },
    "tags": []
   },
   "outputs": [],
   "source": []
  },
  {
   "cell_type": "code",
   "execution_count": null,
   "id": "distant-acoustic",
   "metadata": {
    "papermill": {
     "duration": 0.028149,
     "end_time": "2021-04-11T13:56:31.676261",
     "exception": false,
     "start_time": "2021-04-11T13:56:31.648112",
     "status": "completed"
    },
    "tags": []
   },
   "outputs": [],
   "source": []
  }
 ],
 "metadata": {
  "kernelspec": {
   "display_name": "Python 3",
   "language": "python",
   "name": "python3"
  },
  "language_info": {
   "codemirror_mode": {
    "name": "ipython",
    "version": 3
   },
   "file_extension": ".py",
   "mimetype": "text/x-python",
   "name": "python",
   "nbconvert_exporter": "python",
   "pygments_lexer": "ipython3",
   "version": "3.6.13"
  },
  "papermill": {
   "duration": 29.075596,
   "end_time": "2021-04-11T13:56:32.312728",
   "environment_variables": {},
   "exception": null,
   "input_path": "latest.ipynb",
   "output_path": "latest.ipynb",
   "parameters": {},
   "start_time": "2021-04-11T13:56:03.237132",
   "version": "2.1.2"
  }
 },
 "nbformat": 4,
 "nbformat_minor": 5
}