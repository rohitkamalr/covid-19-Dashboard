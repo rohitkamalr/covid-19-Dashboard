{
 "cells": [
  {
   "cell_type": "markdown",
   "metadata": {
    "papermill": {
     "duration": 0.021241,
     "end_time": "2020-08-30T12:51:46.224002",
     "exception": false,
     "start_time": "2020-08-30T12:51:46.202761",
     "status": "completed"
    },
    "tags": []
   },
   "source": [
    "# Latest COVID-19 India Matplotlib Overview"
   ]
  },
  {
   "cell_type": "code",
   "execution_count": 1,
   "metadata": {
    "execution": {
     "iopub.execute_input": "2020-08-30T12:51:46.265016Z",
     "iopub.status.busy": "2020-08-30T12:51:46.264400Z",
     "iopub.status.idle": "2020-08-30T12:51:46.863448Z",
     "shell.execute_reply": "2020-08-30T12:51:46.862302Z"
    },
    "papermill": {
     "duration": 0.623397,
     "end_time": "2020-08-30T12:51:46.863616",
     "exception": false,
     "start_time": "2020-08-30T12:51:46.240219",
     "status": "completed"
    },
    "tags": []
   },
   "outputs": [],
   "source": [
    "#hide\n",
    "import pandas as pd\n",
    "import numpy as np\n",
    "import requests\n",
    "import json\n",
    "import matplotlib.pyplot as plt\n",
    "import matplotlib.dates as mdates\n",
    "import matplotlib as mpl\n",
    "from IPython.core.display import display,HTML\n",
    "%matplotlib inline\n",
    "from datetime import date"
   ]
  },
  {
   "cell_type": "code",
   "execution_count": 2,
   "metadata": {
    "execution": {
     "iopub.execute_input": "2020-08-30T12:51:46.902668Z",
     "iopub.status.busy": "2020-08-30T12:51:46.901811Z",
     "iopub.status.idle": "2020-08-30T12:51:47.028233Z",
     "shell.execute_reply": "2020-08-30T12:51:47.027228Z"
    },
    "papermill": {
     "duration": 0.149073,
     "end_time": "2020-08-30T12:51:47.028457",
     "exception": false,
     "start_time": "2020-08-30T12:51:46.879384",
     "status": "completed"
    },
    "tags": []
   },
   "outputs": [],
   "source": [
    "#hide\n",
    "df  = pd.read_csv('https://api.covid19india.org/csv/latest/states.csv')\n",
    "df = df[['Date','State','Confirmed','Deceased']]\n",
    "df = df.rename(columns={'Confirmed':'Cases', \"Deceased\":'Deaths'})\n",
    "df_cases = df[[\"Date\",'State','Cases']]\n",
    "df_deaths = df[['Date','State','Deaths']]\n",
    "df_cases1 = df_cases.groupby('Date')\n",
    "df_deaths1= df_deaths.groupby('Date')"
   ]
  },
  {
   "cell_type": "code",
   "execution_count": 3,
   "metadata": {
    "execution": {
     "iopub.execute_input": "2020-08-30T12:51:47.068542Z",
     "iopub.status.busy": "2020-08-30T12:51:47.067941Z",
     "iopub.status.idle": "2020-08-30T12:51:47.085756Z",
     "shell.execute_reply": "2020-08-30T12:51:47.086216Z"
    },
    "papermill": {
     "duration": 0.039312,
     "end_time": "2020-08-30T12:51:47.086368",
     "exception": false,
     "start_time": "2020-08-30T12:51:47.047056",
     "status": "completed"
    },
    "tags": []
   },
   "outputs": [],
   "source": [
    "#hide\n",
    "df_snap = pd.read_csv('data/SnapshotCases-28-July.csv')\n",
    "arr_states = df_snap['states'].unique()\n",
    "arr_dates = df['Date'].unique()\n",
    "df_snap = df_snap.set_index('states')"
   ]
  },
  {
   "cell_type": "code",
   "execution_count": 4,
   "metadata": {
    "execution": {
     "iopub.execute_input": "2020-08-30T12:51:47.126103Z",
     "iopub.status.busy": "2020-08-30T12:51:47.125030Z",
     "iopub.status.idle": "2020-08-30T12:51:47.127735Z",
     "shell.execute_reply": "2020-08-30T12:51:47.128207Z"
    },
    "papermill": {
     "duration": 0.02642,
     "end_time": "2020-08-30T12:51:47.128342",
     "exception": false,
     "start_time": "2020-08-30T12:51:47.101922",
     "status": "completed"
    },
    "tags": []
   },
   "outputs": [
    {
     "data": {
      "text/plain": [
       "array(['Andaman and Nicobar Islands', 'Andhra Pradesh',\n",
       "       'Arunachal Pradesh', 'Assam', 'Bihar', 'Chandigarh',\n",
       "       'Dadra and Nagar Haveli and Daman and Diu', 'Delhi', 'Goa',\n",
       "       'Gujarat', 'Haryana', 'Himachal Pradesh', 'Jammu and Kashmir',\n",
       "       'Jharkhand', 'Karnataka', 'Kerala', 'Lakshadweep',\n",
       "       'Madhya Pradesh', 'Maharashtra', 'Manipur', 'Meghalaya', 'Mizoram',\n",
       "       'Nagaland', 'Odisha', 'Puducherry', 'Punjab', 'Rajasthan',\n",
       "       'Sikkim', 'Tamil Nadu', 'Telangana', 'Tripura', 'Uttar Pradesh',\n",
       "       'West Bengal', 'Chhattisgarh', 'Ladakh', 'Uttarakhand'],\n",
       "      dtype=object)"
      ]
     },
     "execution_count": 4,
     "metadata": {},
     "output_type": "execute_result"
    }
   ],
   "source": [
    "#hide\n",
    "arr_states[-9] = 'Puducherry'\n",
    "arr_states[-10] = 'Odisha'\n",
    "arr_states[6] = 'Dadra and Nagar Haveli and Daman and Diu'\n",
    "arr_states = np.append(arr_states,np.array(['Chhattisgarh','Ladakh','Uttarakhand']))\n",
    "arr_states"
   ]
  },
  {
   "cell_type": "code",
   "execution_count": 5,
   "metadata": {
    "execution": {
     "iopub.execute_input": "2020-08-30T12:51:47.176092Z",
     "iopub.status.busy": "2020-08-30T12:51:47.175490Z",
     "iopub.status.idle": "2020-08-30T12:51:47.178862Z",
     "shell.execute_reply": "2020-08-30T12:51:47.179370Z"
    },
    "papermill": {
     "duration": 0.035324,
     "end_time": "2020-08-30T12:51:47.179508",
     "exception": false,
     "start_time": "2020-08-30T12:51:47.144184",
     "status": "completed"
    },
    "tags": []
   },
   "outputs": [],
   "source": [
    "#hide\n",
    "dates = []\n",
    "for i in arr_dates:\n",
    "    if i>='2020-07-01':\n",
    "        dates.append(i)\n",
    "dict = {'states':dates}\n",
    "for i in arr_states:\n",
    "    dict[i] = [0]*len(dates)\n",
    "dft_cases = pd.DataFrame(dict)\n",
    "dft_deaths = pd.DataFrame(dict)\n"
   ]
  },
  {
   "cell_type": "code",
   "execution_count": 6,
   "metadata": {
    "execution": {
     "iopub.execute_input": "2020-08-30T12:51:47.220167Z",
     "iopub.status.busy": "2020-08-30T12:51:47.219458Z",
     "iopub.status.idle": "2020-08-30T12:51:48.085825Z",
     "shell.execute_reply": "2020-08-30T12:51:48.086634Z"
    },
    "papermill": {
     "duration": 0.891383,
     "end_time": "2020-08-30T12:51:48.086805",
     "exception": false,
     "start_time": "2020-08-30T12:51:47.195422",
     "status": "completed"
    },
    "tags": []
   },
   "outputs": [],
   "source": [
    "#hide\n",
    "for i in range(len(dates)):\n",
    "    df1_deaths = df_deaths1.get_group(dates[i])\n",
    "    for j in range(len(df1_deaths.index)):\n",
    "        if df1_deaths.iloc[j,1] in arr_states:\n",
    "            dft_deaths.loc[i,df1_deaths.iloc[j,1]] = df1_deaths.iloc[j,2]\n",
    "dft_deaths = dft_deaths.set_index('states')"
   ]
  },
  {
   "cell_type": "code",
   "execution_count": 7,
   "metadata": {
    "execution": {
     "iopub.execute_input": "2020-08-30T12:51:48.128825Z",
     "iopub.status.busy": "2020-08-30T12:51:48.128225Z",
     "iopub.status.idle": "2020-08-30T12:51:49.100885Z",
     "shell.execute_reply": "2020-08-30T12:51:49.100221Z"
    },
    "papermill": {
     "duration": 0.997928,
     "end_time": "2020-08-30T12:51:49.101027",
     "exception": false,
     "start_time": "2020-08-30T12:51:48.103099",
     "status": "completed"
    },
    "tags": []
   },
   "outputs": [],
   "source": [
    "#hide\n",
    "for i in range(len(dates)):\n",
    "    df1_cases = df_cases1.get_group(dates[i])\n",
    "    for j in range(len(df1_cases.index)):\n",
    "        if df1_cases.iloc[j,1] in arr_states:\n",
    "            dft_cases.loc[i,df1_cases.iloc[j,1]] = df1_cases.iloc[j,2]\n",
    "dft_cases = dft_cases.set_index('states')"
   ]
  },
  {
   "cell_type": "code",
   "execution_count": 8,
   "metadata": {
    "execution": {
     "iopub.execute_input": "2020-08-30T12:51:49.140967Z",
     "iopub.status.busy": "2020-08-30T12:51:49.140359Z",
     "iopub.status.idle": "2020-08-30T12:51:49.144893Z",
     "shell.execute_reply": "2020-08-30T12:51:49.144380Z"
    },
    "papermill": {
     "duration": 0.027751,
     "end_time": "2020-08-30T12:51:49.145016",
     "exception": false,
     "start_time": "2020-08-30T12:51:49.117265",
     "status": "completed"
    },
    "tags": []
   },
   "outputs": [],
   "source": [
    "#hide\n",
    "dft_cases = dft_cases.T\n",
    "dft_deaths = dft_deaths.T\n",
    "dt_today = dates[-1]\n",
    "dt_yday = dates[-2]"
   ]
  },
  {
   "cell_type": "code",
   "execution_count": 9,
   "metadata": {
    "execution": {
     "iopub.execute_input": "2020-08-30T12:51:49.184509Z",
     "iopub.status.busy": "2020-08-30T12:51:49.183917Z",
     "iopub.status.idle": "2020-08-30T12:51:49.187964Z",
     "shell.execute_reply": "2020-08-30T12:51:49.187479Z"
    },
    "papermill": {
     "duration": 0.027223,
     "end_time": "2020-08-30T12:51:49.188120",
     "exception": false,
     "start_time": "2020-08-30T12:51:49.160897",
     "status": "completed"
    },
    "tags": []
   },
   "outputs": [],
   "source": [
    "#hide\n",
    "dft_cases = dft_cases.reset_index()\n",
    "dft_deaths = dft_deaths.reset_index()\n",
    "dft_cases = dft_cases.rename(columns = {'index':'state'})\n",
    "dft_deaths = dft_deaths.rename(columns = {'index':'state'})"
   ]
  },
  {
   "cell_type": "code",
   "execution_count": 10,
   "metadata": {
    "execution": {
     "iopub.execute_input": "2020-08-30T12:51:49.230721Z",
     "iopub.status.busy": "2020-08-30T12:51:49.230123Z",
     "iopub.status.idle": "2020-08-30T12:51:49.234148Z",
     "shell.execute_reply": "2020-08-30T12:51:49.233284Z"
    },
    "papermill": {
     "duration": 0.030349,
     "end_time": "2020-08-30T12:51:49.234270",
     "exception": false,
     "start_time": "2020-08-30T12:51:49.203921",
     "status": "completed"
    },
    "tags": []
   },
   "outputs": [],
   "source": [
    "#hide\n",
    "dfc_cases = dft_cases.groupby('state')[dt_today].sum()\n",
    "dfc_deaths = dft_deaths.groupby('state')[dt_today].sum()\n",
    "dfp_cases = dft_cases.groupby('state')[dt_yday].sum()\n",
    "dfp_deaths = dft_deaths.groupby('state')[dt_yday].sum()"
   ]
  },
  {
   "cell_type": "code",
   "execution_count": 11,
   "metadata": {
    "execution": {
     "iopub.execute_input": "2020-08-30T12:51:49.282722Z",
     "iopub.status.busy": "2020-08-30T12:51:49.275548Z",
     "iopub.status.idle": "2020-08-30T12:51:49.289929Z",
     "shell.execute_reply": "2020-08-30T12:51:49.290749Z"
    },
    "papermill": {
     "duration": 0.040693,
     "end_time": "2020-08-30T12:51:49.290972",
     "exception": false,
     "start_time": "2020-08-30T12:51:49.250279",
     "status": "completed"
    },
    "tags": []
   },
   "outputs": [
    {
     "data": {
      "text/html": [
       "<div>\n",
       "<style scoped>\n",
       "    .dataframe tbody tr th:only-of-type {\n",
       "        vertical-align: middle;\n",
       "    }\n",
       "\n",
       "    .dataframe tbody tr th {\n",
       "        vertical-align: top;\n",
       "    }\n",
       "\n",
       "    .dataframe thead th {\n",
       "        text-align: right;\n",
       "    }\n",
       "</style>\n",
       "<table border=\"1\" class=\"dataframe\">\n",
       "  <thead>\n",
       "    <tr style=\"text-align: right;\">\n",
       "      <th></th>\n",
       "      <th>states</th>\n",
       "      <th>Cases</th>\n",
       "      <th>Deaths</th>\n",
       "      <th>PCases</th>\n",
       "      <th>PDeaths</th>\n",
       "    </tr>\n",
       "  </thead>\n",
       "  <tbody>\n",
       "    <tr>\n",
       "      <th>0</th>\n",
       "      <td>Maharashtra</td>\n",
       "      <td>764281</td>\n",
       "      <td>24103</td>\n",
       "      <td>764281</td>\n",
       "      <td>24103</td>\n",
       "    </tr>\n",
       "    <tr>\n",
       "      <th>1</th>\n",
       "      <td>Andhra Pradesh</td>\n",
       "      <td>424767</td>\n",
       "      <td>3884</td>\n",
       "      <td>414164</td>\n",
       "      <td>3796</td>\n",
       "    </tr>\n",
       "    <tr>\n",
       "      <th>2</th>\n",
       "      <td>Tamil Nadu</td>\n",
       "      <td>415590</td>\n",
       "      <td>7137</td>\n",
       "      <td>415590</td>\n",
       "      <td>7137</td>\n",
       "    </tr>\n",
       "    <tr>\n",
       "      <th>3</th>\n",
       "      <td>Karnataka</td>\n",
       "      <td>327076</td>\n",
       "      <td>5483</td>\n",
       "      <td>327076</td>\n",
       "      <td>5483</td>\n",
       "    </tr>\n",
       "    <tr>\n",
       "      <th>4</th>\n",
       "      <td>Uttar Pradesh</td>\n",
       "      <td>219457</td>\n",
       "      <td>3356</td>\n",
       "      <td>219457</td>\n",
       "      <td>3356</td>\n",
       "    </tr>\n",
       "  </tbody>\n",
       "</table>\n",
       "</div>"
      ],
      "text/plain": [
       "           states   Cases  Deaths  PCases  PDeaths\n",
       "0     Maharashtra  764281   24103  764281    24103\n",
       "1  Andhra Pradesh  424767    3884  414164     3796\n",
       "2      Tamil Nadu  415590    7137  415590     7137\n",
       "3       Karnataka  327076    5483  327076     5483\n",
       "4   Uttar Pradesh  219457    3356  219457     3356"
      ]
     },
     "execution_count": 11,
     "metadata": {},
     "output_type": "execute_result"
    }
   ],
   "source": [
    "#hide\n",
    "df_table = pd.DataFrame({'states': dfc_cases.index, 'Cases': dfc_cases.values, 'Deaths': dfc_deaths.values, 'PCases': dfp_cases.values, 'PDeaths': dfp_deaths.values}).set_index('states')\n",
    "df_table = df_table.sort_values(by = ['Cases','Deaths'], ascending = [False, False])\n",
    "df_table = df_table.reset_index()\n",
    "df_table.head()"
   ]
  },
  {
   "cell_type": "code",
   "execution_count": 12,
   "metadata": {
    "execution": {
     "iopub.execute_input": "2020-08-30T12:51:49.332227Z",
     "iopub.status.busy": "2020-08-30T12:51:49.331628Z",
     "iopub.status.idle": "2020-08-30T12:51:49.340217Z",
     "shell.execute_reply": "2020-08-30T12:51:49.339706Z"
    },
    "papermill": {
     "duration": 0.03199,
     "end_time": "2020-08-30T12:51:49.340337",
     "exception": false,
     "start_time": "2020-08-30T12:51:49.308347",
     "status": "completed"
    },
    "tags": []
   },
   "outputs": [],
   "source": [
    "#hide\n",
    "for c in 'Cases, Deaths'.split(', '):\n",
    "    df_table[f'{c} (+)'] = (df_table[c] - df_table[f'P{c}']).clip(0)\n",
    "df_table['Fatality Rate'] = (100* df_table['Deaths']/ df_table['Cases']).round(2)"
   ]
  },
  {
   "cell_type": "code",
   "execution_count": 13,
   "metadata": {
    "execution": {
     "iopub.execute_input": "2020-08-30T12:51:49.385540Z",
     "iopub.status.busy": "2020-08-30T12:51:49.384946Z",
     "iopub.status.idle": "2020-08-30T12:51:49.388158Z",
     "shell.execute_reply": "2020-08-30T12:51:49.387568Z"
    },
    "papermill": {
     "duration": 0.031356,
     "end_time": "2020-08-30T12:51:49.388277",
     "exception": false,
     "start_time": "2020-08-30T12:51:49.356921",
     "status": "completed"
    },
    "tags": []
   },
   "outputs": [
    {
     "data": {
      "text/html": [
       "<div>\n",
       "<style scoped>\n",
       "    .dataframe tbody tr th:only-of-type {\n",
       "        vertical-align: middle;\n",
       "    }\n",
       "\n",
       "    .dataframe tbody tr th {\n",
       "        vertical-align: top;\n",
       "    }\n",
       "\n",
       "    .dataframe thead th {\n",
       "        text-align: right;\n",
       "    }\n",
       "</style>\n",
       "<table border=\"1\" class=\"dataframe\">\n",
       "  <thead>\n",
       "    <tr style=\"text-align: right;\">\n",
       "      <th></th>\n",
       "      <th>states</th>\n",
       "      <th>Cases</th>\n",
       "      <th>Deaths</th>\n",
       "      <th>PCases</th>\n",
       "      <th>PDeaths</th>\n",
       "      <th>Cases (+)</th>\n",
       "      <th>Deaths (+)</th>\n",
       "      <th>Fatality Rate</th>\n",
       "    </tr>\n",
       "  </thead>\n",
       "  <tbody>\n",
       "    <tr>\n",
       "      <th>0</th>\n",
       "      <td>Maharashtra</td>\n",
       "      <td>764281</td>\n",
       "      <td>24103</td>\n",
       "      <td>764281</td>\n",
       "      <td>24103</td>\n",
       "      <td>0</td>\n",
       "      <td>0</td>\n",
       "      <td>3.15</td>\n",
       "    </tr>\n",
       "    <tr>\n",
       "      <th>1</th>\n",
       "      <td>Andhra Pradesh</td>\n",
       "      <td>424767</td>\n",
       "      <td>3884</td>\n",
       "      <td>414164</td>\n",
       "      <td>3796</td>\n",
       "      <td>10603</td>\n",
       "      <td>88</td>\n",
       "      <td>0.91</td>\n",
       "    </tr>\n",
       "    <tr>\n",
       "      <th>2</th>\n",
       "      <td>Tamil Nadu</td>\n",
       "      <td>415590</td>\n",
       "      <td>7137</td>\n",
       "      <td>415590</td>\n",
       "      <td>7137</td>\n",
       "      <td>0</td>\n",
       "      <td>0</td>\n",
       "      <td>1.72</td>\n",
       "    </tr>\n",
       "    <tr>\n",
       "      <th>3</th>\n",
       "      <td>Karnataka</td>\n",
       "      <td>327076</td>\n",
       "      <td>5483</td>\n",
       "      <td>327076</td>\n",
       "      <td>5483</td>\n",
       "      <td>0</td>\n",
       "      <td>0</td>\n",
       "      <td>1.68</td>\n",
       "    </tr>\n",
       "    <tr>\n",
       "      <th>4</th>\n",
       "      <td>Uttar Pradesh</td>\n",
       "      <td>219457</td>\n",
       "      <td>3356</td>\n",
       "      <td>219457</td>\n",
       "      <td>3356</td>\n",
       "      <td>0</td>\n",
       "      <td>0</td>\n",
       "      <td>1.53</td>\n",
       "    </tr>\n",
       "  </tbody>\n",
       "</table>\n",
       "</div>"
      ],
      "text/plain": [
       "           states   Cases  Deaths  PCases  PDeaths  Cases (+)  Deaths (+)  \\\n",
       "0     Maharashtra  764281   24103  764281    24103          0           0   \n",
       "1  Andhra Pradesh  424767    3884  414164     3796      10603          88   \n",
       "2      Tamil Nadu  415590    7137  415590     7137          0           0   \n",
       "3       Karnataka  327076    5483  327076     5483          0           0   \n",
       "4   Uttar Pradesh  219457    3356  219457     3356          0           0   \n",
       "\n",
       "   Fatality Rate  \n",
       "0           3.15  \n",
       "1           0.91  \n",
       "2           1.72  \n",
       "3           1.68  \n",
       "4           1.53  "
      ]
     },
     "execution_count": 13,
     "metadata": {},
     "output_type": "execute_result"
    }
   ],
   "source": [
    "#hide\n",
    "df_table.head()"
   ]
  },
  {
   "cell_type": "code",
   "execution_count": 14,
   "metadata": {
    "execution": {
     "iopub.execute_input": "2020-08-30T12:51:49.439451Z",
     "iopub.status.busy": "2020-08-30T12:51:49.426735Z",
     "iopub.status.idle": "2020-08-30T12:51:49.442551Z",
     "shell.execute_reply": "2020-08-30T12:51:49.442046Z"
    },
    "papermill": {
     "duration": 0.037778,
     "end_time": "2020-08-30T12:51:49.442668",
     "exception": false,
     "start_time": "2020-08-30T12:51:49.404890",
     "status": "completed"
    },
    "tags": []
   },
   "outputs": [
    {
     "data": {
      "text/plain": [
       "{'updated': '2020-08-30',\n",
       " 'since': '2020-08-29',\n",
       " 'Cases': 3559496,\n",
       " 'PCases': 3539712,\n",
       " 'Deaths': 63787,\n",
       " 'PDeaths': 63657,\n",
       " 'Cases (+)': 19784,\n",
       " 'Deaths (+)': 130}"
      ]
     },
     "execution_count": 14,
     "metadata": {},
     "output_type": "execute_result"
    }
   ],
   "source": [
    "#hide\n",
    "summary = {'updated':dates[-1], 'since':dates[-2]}\n",
    "list_names = ['Cases', 'PCases', 'Deaths', 'PDeaths', 'Cases (+)', 'Deaths (+)']\n",
    "for name in list_names:\n",
    "    summary[name] = df_table.sum()[name]\n",
    "summary"
   ]
  },
  {
   "cell_type": "code",
   "execution_count": 15,
   "metadata": {
    "execution": {
     "iopub.execute_input": "2020-08-30T12:51:49.482522Z",
     "iopub.status.busy": "2020-08-30T12:51:49.481728Z",
     "iopub.status.idle": "2020-08-30T12:51:49.483353Z",
     "shell.execute_reply": "2020-08-30T12:51:49.483950Z"
    },
    "papermill": {
     "duration": 0.023777,
     "end_time": "2020-08-30T12:51:49.484080",
     "exception": false,
     "start_time": "2020-08-30T12:51:49.460303",
     "status": "completed"
    },
    "tags": []
   },
   "outputs": [],
   "source": [
    "#hide\n",
    "overview = '''\n",
    "<!-- #######  HTML!! #########-->\n",
    "<h1 style=\"color: #5e9ca0; text-align: center;\">India</h1>\n",
    "<p style=\"text-align: center;\">Last update: <strong>{update}</strong></p>\n",
    "<p style=\"text-align: center;\">Confirmed cases:</p>\n",
    "<p style=\"text-align: center;font-size:24px;\">{cases} (<span style=\"color: #ff0000;\">+{new}</span>)</p>\n",
    "<p style=\"text-align: center;\">Confirmed deaths:</p>\n",
    "<p style=\"text-align: center;font-size:24px;\">{deaths} (<span style=\"color: #ff0000;\">+{dnew}</span>)</p>\n",
    "'''"
   ]
  },
  {
   "cell_type": "code",
   "execution_count": 16,
   "metadata": {
    "execution": {
     "iopub.execute_input": "2020-08-30T12:51:49.525661Z",
     "iopub.status.busy": "2020-08-30T12:51:49.525062Z",
     "iopub.status.idle": "2020-08-30T12:51:49.528226Z",
     "shell.execute_reply": "2020-08-30T12:51:49.527746Z"
    },
    "papermill": {
     "duration": 0.027365,
     "end_time": "2020-08-30T12:51:49.528349",
     "exception": false,
     "start_time": "2020-08-30T12:51:49.500984",
     "status": "completed"
    },
    "tags": []
   },
   "outputs": [
    {
     "data": {
      "text/html": [
       "\n",
       "<!-- #######  HTML!! #########-->\n",
       "<h1 style=\"color: #5e9ca0; text-align: center;\">India</h1>\n",
       "<p style=\"text-align: center;\">Last update: <strong>2020-08-30</strong></p>\n",
       "<p style=\"text-align: center;\">Confirmed cases:</p>\n",
       "<p style=\"text-align: center;font-size:24px;\">3559496 (<span style=\"color: #ff0000;\">+19784</span>)</p>\n",
       "<p style=\"text-align: center;\">Confirmed deaths:</p>\n",
       "<p style=\"text-align: center;font-size:24px;\">63787 (<span style=\"color: #ff0000;\">+130</span>)</p>\n"
      ],
      "text/plain": [
       "<IPython.core.display.HTML object>"
      ]
     },
     "metadata": {},
     "output_type": "display_data"
    }
   ],
   "source": [
    "#hide_input\n",
    "update = summary['updated']\n",
    "cases = summary['Cases']\n",
    "new = summary['Cases (+)']\n",
    "deaths = summary['Deaths']\n",
    "dnew = summary['Deaths (+)']\n",
    "\n",
    "html = HTML(overview.format(update=update, cases=cases,new=new,deaths=deaths,dnew=dnew))\n",
    "\n",
    "display(html)"
   ]
  },
  {
   "cell_type": "code",
   "execution_count": 17,
   "metadata": {
    "execution": {
     "iopub.execute_input": "2020-08-30T12:51:49.577476Z",
     "iopub.status.busy": "2020-08-30T12:51:49.576881Z",
     "iopub.status.idle": "2020-08-30T12:51:49.580264Z",
     "shell.execute_reply": "2020-08-30T12:51:49.580716Z"
    },
    "papermill": {
     "duration": 0.033799,
     "end_time": "2020-08-30T12:51:49.580856",
     "exception": false,
     "start_time": "2020-08-30T12:51:49.547057",
     "status": "completed"
    },
    "tags": []
   },
   "outputs": [],
   "source": [
    "#hide\n",
    "dt_cols = list(dft_cases.columns[1:])\n",
    "dft_ct_new_cases = dft_cases.groupby('state')[dt_cols].sum().diff(axis=1).fillna(0).astype(int)\n",
    "dft_ct_new_cases.sort_values(by = dates[-1], ascending = False,inplace = True)"
   ]
  },
  {
   "cell_type": "code",
   "execution_count": 18,
   "metadata": {
    "execution": {
     "iopub.execute_input": "2020-08-30T12:51:49.635877Z",
     "iopub.status.busy": "2020-08-30T12:51:49.635238Z",
     "iopub.status.idle": "2020-08-30T12:51:49.637627Z",
     "shell.execute_reply": "2020-08-30T12:51:49.638133Z"
    },
    "papermill": {
     "duration": 0.039871,
     "end_time": "2020-08-30T12:51:49.638263",
     "exception": false,
     "start_time": "2020-08-30T12:51:49.598392",
     "status": "completed"
    },
    "tags": []
   },
   "outputs": [
    {
     "data": {
      "text/html": [
       "<div>\n",
       "<style scoped>\n",
       "    .dataframe tbody tr th:only-of-type {\n",
       "        vertical-align: middle;\n",
       "    }\n",
       "\n",
       "    .dataframe tbody tr th {\n",
       "        vertical-align: top;\n",
       "    }\n",
       "\n",
       "    .dataframe thead th {\n",
       "        text-align: right;\n",
       "    }\n",
       "</style>\n",
       "<table border=\"1\" class=\"dataframe\">\n",
       "  <thead>\n",
       "    <tr style=\"text-align: right;\">\n",
       "      <th>states</th>\n",
       "      <th>2020-07-01</th>\n",
       "      <th>2020-07-02</th>\n",
       "      <th>2020-07-03</th>\n",
       "      <th>2020-07-04</th>\n",
       "      <th>2020-07-05</th>\n",
       "      <th>2020-07-06</th>\n",
       "      <th>2020-07-07</th>\n",
       "      <th>2020-07-08</th>\n",
       "      <th>2020-07-09</th>\n",
       "      <th>2020-07-10</th>\n",
       "      <th>...</th>\n",
       "      <th>2020-08-21</th>\n",
       "      <th>2020-08-22</th>\n",
       "      <th>2020-08-23</th>\n",
       "      <th>2020-08-24</th>\n",
       "      <th>2020-08-25</th>\n",
       "      <th>2020-08-26</th>\n",
       "      <th>2020-08-27</th>\n",
       "      <th>2020-08-28</th>\n",
       "      <th>2020-08-29</th>\n",
       "      <th>2020-08-30</th>\n",
       "    </tr>\n",
       "    <tr>\n",
       "      <th>state</th>\n",
       "      <th></th>\n",
       "      <th></th>\n",
       "      <th></th>\n",
       "      <th></th>\n",
       "      <th></th>\n",
       "      <th></th>\n",
       "      <th></th>\n",
       "      <th></th>\n",
       "      <th></th>\n",
       "      <th></th>\n",
       "      <th></th>\n",
       "      <th></th>\n",
       "      <th></th>\n",
       "      <th></th>\n",
       "      <th></th>\n",
       "      <th></th>\n",
       "      <th></th>\n",
       "      <th></th>\n",
       "      <th></th>\n",
       "      <th></th>\n",
       "      <th></th>\n",
       "    </tr>\n",
       "  </thead>\n",
       "  <tbody>\n",
       "    <tr>\n",
       "      <th>Andhra Pradesh</th>\n",
       "      <td>0</td>\n",
       "      <td>845</td>\n",
       "      <td>837</td>\n",
       "      <td>765</td>\n",
       "      <td>998</td>\n",
       "      <td>1322</td>\n",
       "      <td>1178</td>\n",
       "      <td>1062</td>\n",
       "      <td>1555</td>\n",
       "      <td>1608</td>\n",
       "      <td>...</td>\n",
       "      <td>9544</td>\n",
       "      <td>10276</td>\n",
       "      <td>7895</td>\n",
       "      <td>8601</td>\n",
       "      <td>9927</td>\n",
       "      <td>10830</td>\n",
       "      <td>10621</td>\n",
       "      <td>10526</td>\n",
       "      <td>10548</td>\n",
       "      <td>10603</td>\n",
       "    </tr>\n",
       "    <tr>\n",
       "      <th>Odisha</th>\n",
       "      <td>0</td>\n",
       "      <td>229</td>\n",
       "      <td>561</td>\n",
       "      <td>495</td>\n",
       "      <td>469</td>\n",
       "      <td>456</td>\n",
       "      <td>571</td>\n",
       "      <td>527</td>\n",
       "      <td>577</td>\n",
       "      <td>755</td>\n",
       "      <td>...</td>\n",
       "      <td>2698</td>\n",
       "      <td>2819</td>\n",
       "      <td>2993</td>\n",
       "      <td>2949</td>\n",
       "      <td>2752</td>\n",
       "      <td>3371</td>\n",
       "      <td>3384</td>\n",
       "      <td>3682</td>\n",
       "      <td>3252</td>\n",
       "      <td>3014</td>\n",
       "    </tr>\n",
       "    <tr>\n",
       "      <th>Telangana</th>\n",
       "      <td>0</td>\n",
       "      <td>1213</td>\n",
       "      <td>1892</td>\n",
       "      <td>1850</td>\n",
       "      <td>1590</td>\n",
       "      <td>1831</td>\n",
       "      <td>1879</td>\n",
       "      <td>1924</td>\n",
       "      <td>1410</td>\n",
       "      <td>1278</td>\n",
       "      <td>...</td>\n",
       "      <td>1967</td>\n",
       "      <td>2474</td>\n",
       "      <td>2384</td>\n",
       "      <td>1842</td>\n",
       "      <td>2579</td>\n",
       "      <td>3018</td>\n",
       "      <td>2795</td>\n",
       "      <td>2932</td>\n",
       "      <td>2751</td>\n",
       "      <td>2924</td>\n",
       "    </tr>\n",
       "    <tr>\n",
       "      <th>Bihar</th>\n",
       "      <td>0</td>\n",
       "      <td>478</td>\n",
       "      <td>426</td>\n",
       "      <td>349</td>\n",
       "      <td>403</td>\n",
       "      <td>280</td>\n",
       "      <td>385</td>\n",
       "      <td>749</td>\n",
       "      <td>704</td>\n",
       "      <td>352</td>\n",
       "      <td>...</td>\n",
       "      <td>2461</td>\n",
       "      <td>2238</td>\n",
       "      <td>2247</td>\n",
       "      <td>1227</td>\n",
       "      <td>1444</td>\n",
       "      <td>2163</td>\n",
       "      <td>1860</td>\n",
       "      <td>1998</td>\n",
       "      <td>2087</td>\n",
       "      <td>2078</td>\n",
       "    </tr>\n",
       "    <tr>\n",
       "      <th>Rajasthan</th>\n",
       "      <td>0</td>\n",
       "      <td>350</td>\n",
       "      <td>390</td>\n",
       "      <td>480</td>\n",
       "      <td>632</td>\n",
       "      <td>524</td>\n",
       "      <td>716</td>\n",
       "      <td>659</td>\n",
       "      <td>500</td>\n",
       "      <td>611</td>\n",
       "      <td>...</td>\n",
       "      <td>1335</td>\n",
       "      <td>1310</td>\n",
       "      <td>1345</td>\n",
       "      <td>1346</td>\n",
       "      <td>1370</td>\n",
       "      <td>1345</td>\n",
       "      <td>1345</td>\n",
       "      <td>1355</td>\n",
       "      <td>1407</td>\n",
       "      <td>603</td>\n",
       "    </tr>\n",
       "  </tbody>\n",
       "</table>\n",
       "<p>5 rows × 61 columns</p>\n",
       "</div>"
      ],
      "text/plain": [
       "states          2020-07-01  2020-07-02  2020-07-03  2020-07-04  2020-07-05  \\\n",
       "state                                                                        \n",
       "Andhra Pradesh           0         845         837         765         998   \n",
       "Odisha                   0         229         561         495         469   \n",
       "Telangana                0        1213        1892        1850        1590   \n",
       "Bihar                    0         478         426         349         403   \n",
       "Rajasthan                0         350         390         480         632   \n",
       "\n",
       "states          2020-07-06  2020-07-07  2020-07-08  2020-07-09  2020-07-10  \\\n",
       "state                                                                        \n",
       "Andhra Pradesh        1322        1178        1062        1555        1608   \n",
       "Odisha                 456         571         527         577         755   \n",
       "Telangana             1831        1879        1924        1410        1278   \n",
       "Bihar                  280         385         749         704         352   \n",
       "Rajasthan              524         716         659         500         611   \n",
       "\n",
       "states          ...  2020-08-21  2020-08-22  2020-08-23  2020-08-24  \\\n",
       "state           ...                                                   \n",
       "Andhra Pradesh  ...        9544       10276        7895        8601   \n",
       "Odisha          ...        2698        2819        2993        2949   \n",
       "Telangana       ...        1967        2474        2384        1842   \n",
       "Bihar           ...        2461        2238        2247        1227   \n",
       "Rajasthan       ...        1335        1310        1345        1346   \n",
       "\n",
       "states          2020-08-25  2020-08-26  2020-08-27  2020-08-28  2020-08-29  \\\n",
       "state                                                                        \n",
       "Andhra Pradesh        9927       10830       10621       10526       10548   \n",
       "Odisha                2752        3371        3384        3682        3252   \n",
       "Telangana             2579        3018        2795        2932        2751   \n",
       "Bihar                 1444        2163        1860        1998        2087   \n",
       "Rajasthan             1370        1345        1345        1355        1407   \n",
       "\n",
       "states          2020-08-30  \n",
       "state                       \n",
       "Andhra Pradesh       10603  \n",
       "Odisha                3014  \n",
       "Telangana             2924  \n",
       "Bihar                 2078  \n",
       "Rajasthan              603  \n",
       "\n",
       "[5 rows x 61 columns]"
      ]
     },
     "execution_count": 18,
     "metadata": {},
     "output_type": "execute_result"
    }
   ],
   "source": [
    "#hide\n",
    "dft_ct_new_cases.head()"
   ]
  },
  {
   "cell_type": "code",
   "execution_count": 19,
   "metadata": {
    "execution": {
     "iopub.execute_input": "2020-08-30T12:51:49.678208Z",
     "iopub.status.busy": "2020-08-30T12:51:49.677568Z",
     "iopub.status.idle": "2020-08-30T12:51:52.737061Z",
     "shell.execute_reply": "2020-08-30T12:51:52.737550Z"
    },
    "papermill": {
     "duration": 3.081228,
     "end_time": "2020-08-30T12:51:52.737708",
     "exception": false,
     "start_time": "2020-08-30T12:51:49.656480",
     "status": "completed"
    },
    "tags": []
   },
   "outputs": [
    {
     "data": {
      "image/png": "[encoded data removed]",
      "text/plain": [
       "<Figure size 1296x2016 with 11 Axes>"
      ]
     },
     "metadata": {
      "needs_background": "light"
     },
     "output_type": "display_data"
    }
   ],
   "source": [
    "#hide_input\n",
    "df = dft_ct_new_cases.copy()\n",
    "df.loc['Total'] = df.sum()\n",
    "n = 5\n",
    "ax = []\n",
    "fig = plt.figure(figsize = (18,28))\n",
    "gs = fig.add_gridspec(n+2, 5)\n",
    "# gs = fig.add_gridspec(2, 3)\n",
    "ax1 = fig.add_subplot(gs[0, :])\n",
    "ef = df.loc['Total'].rename_axis('date').reset_index()\n",
    "ef['date'] = ef['date'].astype('datetime64[ns]')\n",
    "ax1.bar(ef.date,ef.Total,alpha=0.3,color='#007acc')\n",
    "ax1.plot(ef.date,ef.Total , marker=\"o\", color='#007acc')\n",
    "ax1.xaxis.set_major_locator(mdates.WeekdayLocator())\n",
    "ax1.xaxis.set_major_formatter(mdates.DateFormatter('%b %d'))\n",
    "ax1.text(0.02, 0.5,'India daily case count', transform = ax1.transAxes, fontsize=25);\n",
    "ax1.spines['right'].set_visible(False)\n",
    "ax1.spines['top'].set_visible(False)\n",
    "\n",
    "ax2 = fig.add_subplot(gs[1,0])\n",
    "ef = df.loc['Maharashtra'].rename_axis('date').reset_index()\n",
    "ef['date'] = ef['date'].astype('datetime64[ns]')\n",
    "\n",
    "ax2.bar(ef.date, ef.Maharashtra,color = '#007acc',alpha=0.5)\n",
    "ax2.xaxis.set_major_locator(mdates.WeekdayLocator())\n",
    "ax2.xaxis.set_major_formatter(mdates.DateFormatter('%b %d'))\n",
    "ax2.set_xticks(ax2.get_xticks()[::3])\n",
    "maxyval = ef.Maharashtra.max()\n",
    "ax2.set_ylim([0,maxyval])\n",
    "ax2.text(0.05, 0.9,'Maharashtra', transform = ax2.transAxes, fontsize=20);\n",
    "ax2.spines['right'].set_visible(False)\n",
    "ax2.spines['top'].set_visible(False)\n",
    "\n",
    "\n",
    "ax3 = fig.add_subplot(gs[1,1])\n",
    "ef = df.loc['Tamil Nadu'].rename_axis('date').reset_index()\n",
    "ef['date'] = ef['date'].astype('datetime64[ns]')\n",
    "ax3.bar(ef.date, ef['Tamil Nadu'],color = '#007acc',alpha=0.5,)\n",
    "ax3.xaxis.set_major_locator(mdates.WeekdayLocator())\n",
    "ax3.xaxis.set_major_formatter(mdates.DateFormatter('%b %d'))\n",
    "ax3.set_xticks(ax3.get_xticks()[::3])\n",
    "ax3.text(0.05, 0.9,'Tamil Nadu', transform = ax3.transAxes, fontsize=20);\n",
    "ax3.spines['right'].set_visible(False)\n",
    "ax3.spines['top'].set_visible(False)\n",
    "\n",
    "ax5 = fig.add_subplot(gs[1,3])\n",
    "ef = df.loc['Telangana'].rename_axis('date').reset_index()\n",
    "ef['date'] = ef['date'].astype('datetime64[ns]')\n",
    "ax5.bar(ef.date, ef['Telangana'],color = '#007acc',alpha=0.5,)\n",
    "ax5.xaxis.set_major_locator(mdates.WeekdayLocator())\n",
    "ax5.xaxis.set_major_formatter(mdates.DateFormatter('%b %d'))\n",
    "ax5.set_xticks(ax5.get_xticks()[::3])\n",
    "ax5.text(0.05, 0.9,'Telangana', transform = ax5.transAxes, fontsize=20);\n",
    "ax5.spines['right'].set_visible(False)\n",
    "ax5.spines['top'].set_visible(False)\n",
    "\n",
    "ax6 = fig.add_subplot(gs[1,4])\n",
    "ef = df.loc['Andhra Pradesh'].rename_axis('date').reset_index()\n",
    "ef['date'] = ef['date'].astype('datetime64[ns]')\n",
    "ax6.bar(ef.date, ef['Andhra Pradesh'],color = '#007acc',alpha=0.5,)\n",
    "ax6.xaxis.set_major_locator(mdates.WeekdayLocator())\n",
    "ax6.xaxis.set_major_formatter(mdates.DateFormatter('%b %d'))\n",
    "ax6.set_xticks(ax6.get_xticks()[::3])\n",
    "ax6.text(0.05, 1,'Andhra Pradesh', transform = ax6.transAxes, fontsize=20);\n",
    "ax6.spines['right'].set_visible(False)\n",
    "ax6.spines['top'].set_visible(False)\n",
    "\n",
    "ax4 = fig.add_subplot(gs[1,2])\n",
    "ef = df.loc['Delhi'].rename_axis('date').reset_index()\n",
    "ef['date'] = ef['date'].astype('datetime64[ns]')\n",
    "ax4.bar(ef.date, ef.Delhi,color = '#007acc',alpha=0.5)\n",
    "ax4.set_xticks([])\n",
    "ax4.xaxis.set_major_locator(mdates.WeekdayLocator())\n",
    "ax4.xaxis.set_major_formatter(mdates.DateFormatter('%b %d'))\n",
    "ax4.set_xticks(ax4.get_xticks()[::3])\n",
    "ax4.spines['right'].set_visible(False)\n",
    "ax4.spines['top'].set_visible(False)\n",
    "\n",
    "ax4.text(0.05, 1,'Delhi', transform = ax4.transAxes, fontsize=20)\n",
    "\n",
    "for i in range(n):\n",
    "    \n",
    "    ax.append(fig.add_subplot(gs[i+2,:]))\n",
    "    ef = df.iloc[i+3].rename_axis('date').reset_index()\n",
    "    ef['date'] = ef['date'].astype('datetime64[ns]')\n",
    "    ax[i].bar(ef.date,ef.iloc[:,-1],color = '#007acc',alpha=0.3)\n",
    "    ax[i].plot(ef.date,ef.iloc[:,-1],marker='o',color='#007acc')\n",
    "    ax[i].text(0.02,0.5,f'{ef.columns.values[-1]}',transform = ax[i].transAxes, fontsize = 20);\n",
    "    ax[i].xaxis.set_major_locator(mdates.WeekdayLocator())\n",
    "    ax[i].xaxis.set_major_formatter(mdates.DateFormatter('%b %d'))\n",
    "    ax[i].set_ylim([0,7000])\n",
    "    ax[i].spines['right'].set_visible(False)\n",
    "    ax[i].spines['top'].set_visible(False)\n",
    "plt.tight_layout()\n"
   ]
  },
  {
   "cell_type": "code",
   "execution_count": 20,
   "metadata": {
    "execution": {
     "iopub.execute_input": "2020-08-30T12:51:52.794141Z",
     "iopub.status.busy": "2020-08-30T12:51:52.793495Z",
     "iopub.status.idle": "2020-08-30T12:51:52.796702Z",
     "shell.execute_reply": "2020-08-30T12:51:52.797159Z"
    },
    "papermill": {
     "duration": 0.036213,
     "end_time": "2020-08-30T12:51:52.797306",
     "exception": false,
     "start_time": "2020-08-30T12:51:52.761093",
     "status": "completed"
    },
    "tags": []
   },
   "outputs": [
    {
     "name": "stdout",
     "output_type": "stream",
     "text": [
      "                                   states   Cases  Deaths  PCases  PDeaths  Cases (+)  Deaths (+)  Fatality Rate\n",
      "                              Maharashtra  764281   24103  764281    24103          0           0           3.15\n",
      "                           Andhra Pradesh  424767    3884  414164     3796      10603          88           0.91\n",
      "                               Tamil Nadu  415590    7137  415590     7137          0           0           1.72\n",
      "                                Karnataka  327076    5483  327076     5483          0           0           1.68\n",
      "                            Uttar Pradesh  219457    3356  219457     3356          0           0           1.53\n",
      "                                    Delhi  171366    4404  171366     4404          0           0           2.57\n",
      "                              West Bengal  156766    3126  156766     3126          0           0           1.99\n",
      "                                    Bihar  135013     688  132935      679       2078           9           0.51\n",
      "                                Telangana  123090     818  120166      808       2924          10           0.66\n",
      "                                    Assam  103795     289  103795      289          0           0           0.28\n",
      "                                   Odisha  100934     535   97920      523       3014          12           0.53\n",
      "                                  Gujarat   93883    2989   93883     2989          0           0           3.18\n",
      "                                Rajasthan   79380    1037   78777     1030        603           7           1.31\n",
      "                                   Kerala   71701     281   71701      281          0           0           0.39\n",
      "                                  Haryana   61987     670   61987      670          0           0           1.08\n",
      "                           Madhya Pradesh   60875    1345   60875     1345          0           0           2.21\n",
      "                                   Punjab   50848    1348   50848     1348          0           0           2.65\n",
      "                                Jharkhand   37112     398   37112      398          0           0           1.07\n",
      "                        Jammu and Kashmir   36377     685   36377      685          0           0           1.88\n",
      "                             Chhattisgarh   28746     262   28746      262          0           0           0.91\n",
      "                              Uttarakhand   18571     250   18571      250          0           0           1.35\n",
      "                                      Goa   16553     178   16553      178          0           0           1.08\n",
      "                               Puducherry   13556     211   13556      211          0           0           1.56\n",
      "                                  Tripura   11323      98   10876       94        447           4           0.87\n",
      "                                  Manipur    5960      28    5960       28          0           0           0.47\n",
      "                         Himachal Pradesh    5799      33    5781       33         18           0           0.57\n",
      "                               Chandigarh    3985      45    3985       45          0           0           1.13\n",
      "                                 Nagaland    3922       8    3851        8         71           0           0.20\n",
      "                        Arunachal Pradesh    3877       7    3877        7          0           0           0.18\n",
      "              Andaman and Nicobar Islands    3081      44    3081       44          0           0           1.43\n",
      "                                   Ladakh    2603      32    2603       32          0           0           1.23\n",
      " Dadra and Nagar Haveli and Daman and Diu    2329       2    2308        2         21           0           0.09\n",
      "                                Meghalaya    2283      10    2283       10          0           0           0.44\n",
      "                                   Sikkim    1602       3    1602        3          0           0           0.19\n",
      "                                  Mizoram    1008       0    1003        0          5           0           0.00\n",
      "                              Lakshadweep       0       0       0        0          0           0            NaN\n"
     ]
    }
   ],
   "source": [
    "#hide_input\n",
    "print(df_table.to_string(index=False))"
   ]
  },
  {
   "cell_type": "code",
   "execution_count": null,
   "metadata": {
    "papermill": {
     "duration": 0.023865,
     "end_time": "2020-08-30T12:51:52.844637",
     "exception": false,
     "start_time": "2020-08-30T12:51:52.820772",
     "status": "completed"
    },
    "tags": []
   },
   "outputs": [],
   "source": []
  },
  {
   "cell_type": "code",
   "execution_count": null,
   "metadata": {
    "papermill": {
     "duration": 0.02362,
     "end_time": "2020-08-30T12:51:52.892153",
     "exception": false,
     "start_time": "2020-08-30T12:51:52.868533",
     "status": "completed"
    },
    "tags": []
   },
   "outputs": [],
   "source": []
  }
 ],
 "metadata": {
  "kernelspec": {
   "display_name": "Python 3",
   "language": "python",
   "name": "python3"
  },
  "language_info": {
   "codemirror_mode": {
    "name": "ipython",
    "version": 3
   },
   "file_extension": ".py",
   "mimetype": "text/x-python",
   "name": "python",
   "nbconvert_exporter": "python",
   "pygments_lexer": "ipython3",
   "version": "3.6.11"
  },
  "papermill": {
   "duration": 8.198039,
   "end_time": "2020-08-30T12:51:53.326803",
   "environment_variables": {},
   "exception": null,
   "input_path": "latest.ipynb",
   "output_path": "latest.ipynb",
   "parameters": {},
   "start_time": "2020-08-30T12:51:45.128764",
   "version": "2.1.2"
  }
 },
 "nbformat": 4,
 "nbformat_minor": 4
}