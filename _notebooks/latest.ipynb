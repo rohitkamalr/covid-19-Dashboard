{
 "cells": [
  {
   "cell_type": "markdown",
   "metadata": {
    "papermill": {
     "duration": 0.019867,
     "end_time": "2020-09-01T03:51:41.142067",
     "exception": false,
     "start_time": "2020-09-01T03:51:41.122200",
     "status": "completed"
    },
    "tags": []
   },
   "source": [
    "# Latest COVID-19 India Matplotlib Overview"
   ]
  },
  {
   "cell_type": "code",
   "execution_count": 1,
   "metadata": {
    "execution": {
     "iopub.execute_input": "2020-09-01T03:51:41.184207Z",
     "iopub.status.busy": "2020-09-01T03:51:41.183572Z",
     "iopub.status.idle": "2020-09-01T03:51:41.769622Z",
     "shell.execute_reply": "2020-09-01T03:51:41.768939Z"
    },
    "papermill": {
     "duration": 0.611535,
     "end_time": "2020-09-01T03:51:41.769785",
     "exception": false,
     "start_time": "2020-09-01T03:51:41.158250",
     "status": "completed"
    },
    "tags": []
   },
   "outputs": [],
   "source": [
    "#hide\n",
    "import pandas as pd\n",
    "import numpy as np\n",
    "import requests\n",
    "import json\n",
    "import matplotlib.pyplot as plt\n",
    "import matplotlib.dates as mdates\n",
    "import matplotlib as mpl\n",
    "from IPython.core.display import display,HTML\n",
    "%matplotlib inline\n",
    "from datetime import date"
   ]
  },
  {
   "cell_type": "code",
   "execution_count": 2,
   "metadata": {
    "execution": {
     "iopub.execute_input": "2020-09-01T03:51:41.808763Z",
     "iopub.status.busy": "2020-09-01T03:51:41.807746Z",
     "iopub.status.idle": "2020-09-01T03:51:42.046822Z",
     "shell.execute_reply": "2020-09-01T03:51:42.046243Z"
    },
    "papermill": {
     "duration": 0.261379,
     "end_time": "2020-09-01T03:51:42.046979",
     "exception": false,
     "start_time": "2020-09-01T03:51:41.785600",
     "status": "completed"
    },
    "tags": []
   },
   "outputs": [],
   "source": [
    "#hide\n",
    "df  = pd.read_csv('https://api.covid19india.org/csv/latest/states.csv')\n",
    "df = df[['Date','State','Confirmed','Deceased']]\n",
    "df = df.rename(columns={'Confirmed':'Cases', \"Deceased\":'Deaths'})\n",
    "df_cases = df[[\"Date\",'State','Cases']]\n",
    "df_deaths = df[['Date','State','Deaths']]\n",
    "df_cases1 = df_cases.groupby('Date')\n",
    "df_deaths1= df_deaths.groupby('Date')"
   ]
  },
  {
   "cell_type": "code",
   "execution_count": 3,
   "metadata": {
    "execution": {
     "iopub.execute_input": "2020-09-01T03:51:42.084295Z",
     "iopub.status.busy": "2020-09-01T03:51:42.083692Z",
     "iopub.status.idle": "2020-09-01T03:51:42.101886Z",
     "shell.execute_reply": "2020-09-01T03:51:42.101140Z"
    },
    "papermill": {
     "duration": 0.039361,
     "end_time": "2020-09-01T03:51:42.102040",
     "exception": false,
     "start_time": "2020-09-01T03:51:42.062679",
     "status": "completed"
    },
    "tags": []
   },
   "outputs": [],
   "source": [
    "#hide\n",
    "df_snap = pd.read_csv('data/SnapshotCases-28-July.csv')\n",
    "arr_states = df_snap['states'].unique()\n",
    "arr_dates = df['Date'].unique()\n",
    "df_snap = df_snap.set_index('states')"
   ]
  },
  {
   "cell_type": "code",
   "execution_count": 4,
   "metadata": {
    "execution": {
     "iopub.execute_input": "2020-09-01T03:51:42.140734Z",
     "iopub.status.busy": "2020-09-01T03:51:42.140061Z",
     "iopub.status.idle": "2020-09-01T03:51:42.143374Z",
     "shell.execute_reply": "2020-09-01T03:51:42.142824Z"
    },
    "papermill": {
     "duration": 0.025921,
     "end_time": "2020-09-01T03:51:42.143508",
     "exception": false,
     "start_time": "2020-09-01T03:51:42.117587",
     "status": "completed"
    },
    "tags": []
   },
   "outputs": [
    {
     "data": {
      "text/plain": [
       "array(['Andaman and Nicobar Islands', 'Andhra Pradesh',\n",
       "       'Arunachal Pradesh', 'Assam', 'Bihar', 'Chandigarh',\n",
       "       'Dadra and Nagar Haveli and Daman and Diu', 'Delhi', 'Goa',\n",
       "       'Gujarat', 'Haryana', 'Himachal Pradesh', 'Jammu and Kashmir',\n",
       "       'Jharkhand', 'Karnataka', 'Kerala', 'Lakshadweep',\n",
       "       'Madhya Pradesh', 'Maharashtra', 'Manipur', 'Meghalaya', 'Mizoram',\n",
       "       'Nagaland', 'Odisha', 'Puducherry', 'Punjab', 'Rajasthan',\n",
       "       'Sikkim', 'Tamil Nadu', 'Telangana', 'Tripura', 'Uttar Pradesh',\n",
       "       'West Bengal', 'Chhattisgarh', 'Ladakh', 'Uttarakhand'],\n",
       "      dtype=object)"
      ]
     },
     "execution_count": 4,
     "metadata": {},
     "output_type": "execute_result"
    }
   ],
   "source": [
    "#hide\n",
    "arr_states[-9] = 'Puducherry'\n",
    "arr_states[-10] = 'Odisha'\n",
    "arr_states[6] = 'Dadra and Nagar Haveli and Daman and Diu'\n",
    "arr_states = np.append(arr_states,np.array(['Chhattisgarh','Ladakh','Uttarakhand']))\n",
    "arr_states"
   ]
  },
  {
   "cell_type": "code",
   "execution_count": 5,
   "metadata": {
    "execution": {
     "iopub.execute_input": "2020-09-01T03:51:42.185460Z",
     "iopub.status.busy": "2020-09-01T03:51:42.184806Z",
     "iopub.status.idle": "2020-09-01T03:51:42.191916Z",
     "shell.execute_reply": "2020-09-01T03:51:42.192510Z"
    },
    "papermill": {
     "duration": 0.033337,
     "end_time": "2020-09-01T03:51:42.192687",
     "exception": false,
     "start_time": "2020-09-01T03:51:42.159350",
     "status": "completed"
    },
    "tags": []
   },
   "outputs": [],
   "source": [
    "#hide\n",
    "dates = []\n",
    "for i in arr_dates:\n",
    "    if i>='2020-07-01':\n",
    "        dates.append(i)\n",
    "dict = {'states':dates}\n",
    "for i in arr_states:\n",
    "    dict[i] = [0]*len(dates)\n",
    "dft_cases = pd.DataFrame(dict)\n",
    "dft_deaths = pd.DataFrame(dict)\n"
   ]
  },
  {
   "cell_type": "code",
   "execution_count": 6,
   "metadata": {
    "execution": {
     "iopub.execute_input": "2020-09-01T03:51:42.228279Z",
     "iopub.status.busy": "2020-09-01T03:51:42.227664Z",
     "iopub.status.idle": "2020-09-01T03:51:43.146837Z",
     "shell.execute_reply": "2020-09-01T03:51:43.146307Z"
    },
    "papermill": {
     "duration": 0.938308,
     "end_time": "2020-09-01T03:51:43.146987",
     "exception": false,
     "start_time": "2020-09-01T03:51:42.208679",
     "status": "completed"
    },
    "tags": []
   },
   "outputs": [],
   "source": [
    "#hide\n",
    "for i in range(len(dates)):\n",
    "    df1_deaths = df_deaths1.get_group(dates[i])\n",
    "    for j in range(len(df1_deaths.index)):\n",
    "        if df1_deaths.iloc[j,1] in arr_states:\n",
    "            dft_deaths.loc[i,df1_deaths.iloc[j,1]] = df1_deaths.iloc[j,2]\n",
    "dft_deaths = dft_deaths.set_index('states')"
   ]
  },
  {
   "cell_type": "code",
   "execution_count": 7,
   "metadata": {
    "execution": {
     "iopub.execute_input": "2020-09-01T03:51:43.191732Z",
     "iopub.status.busy": "2020-09-01T03:51:43.191059Z",
     "iopub.status.idle": "2020-09-01T03:51:44.073802Z",
     "shell.execute_reply": "2020-09-01T03:51:44.073266Z"
    },
    "papermill": {
     "duration": 0.907048,
     "end_time": "2020-09-01T03:51:44.073951",
     "exception": false,
     "start_time": "2020-09-01T03:51:43.166903",
     "status": "completed"
    },
    "tags": []
   },
   "outputs": [],
   "source": [
    "#hide\n",
    "for i in range(len(dates)):\n",
    "    df1_cases = df_cases1.get_group(dates[i])\n",
    "    for j in range(len(df1_cases.index)):\n",
    "        if df1_cases.iloc[j,1] in arr_states:\n",
    "            dft_cases.loc[i,df1_cases.iloc[j,1]] = df1_cases.iloc[j,2]\n",
    "dft_cases = dft_cases.set_index('states')"
   ]
  },
  {
   "cell_type": "code",
   "execution_count": 8,
   "metadata": {
    "execution": {
     "iopub.execute_input": "2020-09-01T03:51:44.428776Z",
     "iopub.status.busy": "2020-09-01T03:51:44.428148Z",
     "iopub.status.idle": "2020-09-01T03:51:44.432108Z",
     "shell.execute_reply": "2020-09-01T03:51:44.431581Z"
    },
    "papermill": {
     "duration": 0.340218,
     "end_time": "2020-09-01T03:51:44.432248",
     "exception": false,
     "start_time": "2020-09-01T03:51:44.092030",
     "status": "completed"
    },
    "tags": []
   },
   "outputs": [],
   "source": [
    "#hide\n",
    "dft_cases = dft_cases.T\n",
    "dft_deaths = dft_deaths.T\n",
    "dt_today = dates[-1]\n",
    "dt_yday = dates[-2]"
   ]
  },
  {
   "cell_type": "code",
   "execution_count": 9,
   "metadata": {
    "execution": {
     "iopub.execute_input": "2020-09-01T03:51:45.120541Z",
     "iopub.status.busy": "2020-09-01T03:51:45.119716Z",
     "iopub.status.idle": "2020-09-01T03:51:45.128373Z",
     "shell.execute_reply": "2020-09-01T03:51:45.128937Z"
    },
    "papermill": {
     "duration": 0.355635,
     "end_time": "2020-09-01T03:51:45.129102",
     "exception": false,
     "start_time": "2020-09-01T03:51:44.773467",
     "status": "completed"
    },
    "tags": []
   },
   "outputs": [],
   "source": [
    "#hide\n",
    "dft_cases = dft_cases.reset_index()\n",
    "dft_deaths = dft_deaths.reset_index()\n",
    "dft_cases = dft_cases.rename(columns = {'index':'state'})\n",
    "dft_deaths = dft_deaths.rename(columns = {'index':'state'})"
   ]
  },
  {
   "cell_type": "code",
   "execution_count": 10,
   "metadata": {
    "execution": {
     "iopub.execute_input": "2020-09-01T03:51:46.237572Z",
     "iopub.status.busy": "2020-09-01T03:51:46.236142Z",
     "iopub.status.idle": "2020-09-01T03:51:46.238296Z",
     "shell.execute_reply": "2020-09-01T03:51:46.238776Z"
    },
    "papermill": {
     "duration": 0.872899,
     "end_time": "2020-09-01T03:51:46.238929",
     "exception": false,
     "start_time": "2020-09-01T03:51:45.366030",
     "status": "completed"
    },
    "tags": []
   },
   "outputs": [],
   "source": [
    "#hide\n",
    "dfc_cases = dft_cases.groupby('state')[dt_today].sum()\n",
    "dfc_deaths = dft_deaths.groupby('state')[dt_today].sum()\n",
    "dfp_cases = dft_cases.groupby('state')[dt_yday].sum()\n",
    "dfp_deaths = dft_deaths.groupby('state')[dt_yday].sum()"
   ]
  },
  {
   "cell_type": "code",
   "execution_count": 11,
   "metadata": {
    "execution": {
     "iopub.execute_input": "2020-09-01T03:51:46.446345Z",
     "iopub.status.busy": "2020-09-01T03:51:46.445711Z",
     "iopub.status.idle": "2020-09-01T03:51:46.459835Z",
     "shell.execute_reply": "2020-09-01T03:51:46.460354Z"
    },
    "papermill": {
     "duration": 0.041588,
     "end_time": "2020-09-01T03:51:46.460512",
     "exception": false,
     "start_time": "2020-09-01T03:51:46.418924",
     "status": "completed"
    },
    "tags": []
   },
   "outputs": [
    {
     "data": {
      "text/html": [
       "<div>\n",
       "<style scoped>\n",
       "    .dataframe tbody tr th:only-of-type {\n",
       "        vertical-align: middle;\n",
       "    }\n",
       "\n",
       "    .dataframe tbody tr th {\n",
       "        vertical-align: top;\n",
       "    }\n",
       "\n",
       "    .dataframe thead th {\n",
       "        text-align: right;\n",
       "    }\n",
       "</style>\n",
       "<table border=\"1\" class=\"dataframe\">\n",
       "  <thead>\n",
       "    <tr style=\"text-align: right;\">\n",
       "      <th></th>\n",
       "      <th>states</th>\n",
       "      <th>Cases</th>\n",
       "      <th>Deaths</th>\n",
       "      <th>PCases</th>\n",
       "      <th>PDeaths</th>\n",
       "    </tr>\n",
       "  </thead>\n",
       "  <tbody>\n",
       "    <tr>\n",
       "      <th>0</th>\n",
       "      <td>Maharashtra</td>\n",
       "      <td>792541</td>\n",
       "      <td>24583</td>\n",
       "      <td>792541</td>\n",
       "      <td>24583</td>\n",
       "    </tr>\n",
       "    <tr>\n",
       "      <th>1</th>\n",
       "      <td>Andhra Pradesh</td>\n",
       "      <td>434771</td>\n",
       "      <td>3969</td>\n",
       "      <td>434771</td>\n",
       "      <td>3969</td>\n",
       "    </tr>\n",
       "    <tr>\n",
       "      <th>2</th>\n",
       "      <td>Tamil Nadu</td>\n",
       "      <td>428041</td>\n",
       "      <td>7323</td>\n",
       "      <td>428041</td>\n",
       "      <td>7323</td>\n",
       "    </tr>\n",
       "    <tr>\n",
       "      <th>3</th>\n",
       "      <td>Karnataka</td>\n",
       "      <td>342423</td>\n",
       "      <td>5702</td>\n",
       "      <td>342423</td>\n",
       "      <td>5702</td>\n",
       "    </tr>\n",
       "    <tr>\n",
       "      <th>4</th>\n",
       "      <td>Uttar Pradesh</td>\n",
       "      <td>230414</td>\n",
       "      <td>3486</td>\n",
       "      <td>230414</td>\n",
       "      <td>3486</td>\n",
       "    </tr>\n",
       "  </tbody>\n",
       "</table>\n",
       "</div>"
      ],
      "text/plain": [
       "           states   Cases  Deaths  PCases  PDeaths\n",
       "0     Maharashtra  792541   24583  792541    24583\n",
       "1  Andhra Pradesh  434771    3969  434771     3969\n",
       "2      Tamil Nadu  428041    7323  428041     7323\n",
       "3       Karnataka  342423    5702  342423     5702\n",
       "4   Uttar Pradesh  230414    3486  230414     3486"
      ]
     },
     "execution_count": 11,
     "metadata": {},
     "output_type": "execute_result"
    }
   ],
   "source": [
    "#hide\n",
    "df_table = pd.DataFrame({'states': dfc_cases.index, 'Cases': dfc_cases.values, 'Deaths': dfc_deaths.values, 'PCases': dfp_cases.values, 'PDeaths': dfp_deaths.values}).set_index('states')\n",
    "df_table = df_table.sort_values(by = ['Cases','Deaths'], ascending = [False, False])\n",
    "df_table = df_table.reset_index()\n",
    "df_table.head()"
   ]
  },
  {
   "cell_type": "code",
   "execution_count": 12,
   "metadata": {
    "execution": {
     "iopub.execute_input": "2020-09-01T03:51:46.504255Z",
     "iopub.status.busy": "2020-09-01T03:51:46.496882Z",
     "iopub.status.idle": "2020-09-01T03:51:46.507355Z",
     "shell.execute_reply": "2020-09-01T03:51:46.506815Z"
    },
    "papermill": {
     "duration": 0.031095,
     "end_time": "2020-09-01T03:51:46.507487",
     "exception": false,
     "start_time": "2020-09-01T03:51:46.476392",
     "status": "completed"
    },
    "tags": []
   },
   "outputs": [],
   "source": [
    "#hide\n",
    "for c in 'Cases, Deaths'.split(', '):\n",
    "    df_table[f'{c} (+)'] = (df_table[c] - df_table[f'P{c}']).clip(0)\n",
    "df_table['Fatality Rate'] = (100* df_table['Deaths']/ df_table['Cases']).round(2)"
   ]
  },
  {
   "cell_type": "code",
   "execution_count": 13,
   "metadata": {
    "execution": {
     "iopub.execute_input": "2020-09-01T03:51:46.549437Z",
     "iopub.status.busy": "2020-09-01T03:51:46.548827Z",
     "iopub.status.idle": "2020-09-01T03:51:46.552113Z",
     "shell.execute_reply": "2020-09-01T03:51:46.551523Z"
    },
    "papermill": {
     "duration": 0.028913,
     "end_time": "2020-09-01T03:51:46.552239",
     "exception": false,
     "start_time": "2020-09-01T03:51:46.523326",
     "status": "completed"
    },
    "tags": []
   },
   "outputs": [
    {
     "data": {
      "text/html": [
       "<div>\n",
       "<style scoped>\n",
       "    .dataframe tbody tr th:only-of-type {\n",
       "        vertical-align: middle;\n",
       "    }\n",
       "\n",
       "    .dataframe tbody tr th {\n",
       "        vertical-align: top;\n",
       "    }\n",
       "\n",
       "    .dataframe thead th {\n",
       "        text-align: right;\n",
       "    }\n",
       "</style>\n",
       "<table border=\"1\" class=\"dataframe\">\n",
       "  <thead>\n",
       "    <tr style=\"text-align: right;\">\n",
       "      <th></th>\n",
       "      <th>states</th>\n",
       "      <th>Cases</th>\n",
       "      <th>Deaths</th>\n",
       "      <th>PCases</th>\n",
       "      <th>PDeaths</th>\n",
       "      <th>Cases (+)</th>\n",
       "      <th>Deaths (+)</th>\n",
       "      <th>Fatality Rate</th>\n",
       "    </tr>\n",
       "  </thead>\n",
       "  <tbody>\n",
       "    <tr>\n",
       "      <th>0</th>\n",
       "      <td>Maharashtra</td>\n",
       "      <td>792541</td>\n",
       "      <td>24583</td>\n",
       "      <td>792541</td>\n",
       "      <td>24583</td>\n",
       "      <td>0</td>\n",
       "      <td>0</td>\n",
       "      <td>3.10</td>\n",
       "    </tr>\n",
       "    <tr>\n",
       "      <th>1</th>\n",
       "      <td>Andhra Pradesh</td>\n",
       "      <td>434771</td>\n",
       "      <td>3969</td>\n",
       "      <td>434771</td>\n",
       "      <td>3969</td>\n",
       "      <td>0</td>\n",
       "      <td>0</td>\n",
       "      <td>0.91</td>\n",
       "    </tr>\n",
       "    <tr>\n",
       "      <th>2</th>\n",
       "      <td>Tamil Nadu</td>\n",
       "      <td>428041</td>\n",
       "      <td>7323</td>\n",
       "      <td>428041</td>\n",
       "      <td>7323</td>\n",
       "      <td>0</td>\n",
       "      <td>0</td>\n",
       "      <td>1.71</td>\n",
       "    </tr>\n",
       "    <tr>\n",
       "      <th>3</th>\n",
       "      <td>Karnataka</td>\n",
       "      <td>342423</td>\n",
       "      <td>5702</td>\n",
       "      <td>342423</td>\n",
       "      <td>5702</td>\n",
       "      <td>0</td>\n",
       "      <td>0</td>\n",
       "      <td>1.67</td>\n",
       "    </tr>\n",
       "    <tr>\n",
       "      <th>4</th>\n",
       "      <td>Uttar Pradesh</td>\n",
       "      <td>230414</td>\n",
       "      <td>3486</td>\n",
       "      <td>230414</td>\n",
       "      <td>3486</td>\n",
       "      <td>0</td>\n",
       "      <td>0</td>\n",
       "      <td>1.51</td>\n",
       "    </tr>\n",
       "  </tbody>\n",
       "</table>\n",
       "</div>"
      ],
      "text/plain": [
       "           states   Cases  Deaths  PCases  PDeaths  Cases (+)  Deaths (+)  \\\n",
       "0     Maharashtra  792541   24583  792541    24583          0           0   \n",
       "1  Andhra Pradesh  434771    3969  434771     3969          0           0   \n",
       "2      Tamil Nadu  428041    7323  428041     7323          0           0   \n",
       "3       Karnataka  342423    5702  342423     5702          0           0   \n",
       "4   Uttar Pradesh  230414    3486  230414     3486          0           0   \n",
       "\n",
       "   Fatality Rate  \n",
       "0           3.10  \n",
       "1           0.91  \n",
       "2           1.71  \n",
       "3           1.67  \n",
       "4           1.51  "
      ]
     },
     "execution_count": 13,
     "metadata": {},
     "output_type": "execute_result"
    }
   ],
   "source": [
    "#hide\n",
    "df_table.head()"
   ]
  },
  {
   "cell_type": "code",
   "execution_count": 14,
   "metadata": {
    "execution": {
     "iopub.execute_input": "2020-09-01T03:51:46.591633Z",
     "iopub.status.busy": "2020-09-01T03:51:46.591013Z",
     "iopub.status.idle": "2020-09-01T03:51:46.607212Z",
     "shell.execute_reply": "2020-09-01T03:51:46.606713Z"
    },
    "papermill": {
     "duration": 0.038923,
     "end_time": "2020-09-01T03:51:46.607347",
     "exception": false,
     "start_time": "2020-09-01T03:51:46.568424",
     "status": "completed"
    },
    "tags": []
   },
   "outputs": [
    {
     "data": {
      "text/plain": [
       "{'updated': '2020-09-01',\n",
       " 'since': '2020-08-31',\n",
       " 'Cases': 3688449,\n",
       " 'PCases': 3687939,\n",
       " 'Deaths': 65444,\n",
       " 'PDeaths': 65434,\n",
       " 'Cases (+)': 510,\n",
       " 'Deaths (+)': 10}"
      ]
     },
     "execution_count": 14,
     "metadata": {},
     "output_type": "execute_result"
    }
   ],
   "source": [
    "#hide\n",
    "summary = {'updated':dates[-1], 'since':dates[-2]}\n",
    "list_names = ['Cases', 'PCases', 'Deaths', 'PDeaths', 'Cases (+)', 'Deaths (+)']\n",
    "for name in list_names:\n",
    "    summary[name] = df_table.sum()[name]\n",
    "summary"
   ]
  },
  {
   "cell_type": "code",
   "execution_count": 15,
   "metadata": {
    "execution": {
     "iopub.execute_input": "2020-09-01T03:51:46.644899Z",
     "iopub.status.busy": "2020-09-01T03:51:46.644282Z",
     "iopub.status.idle": "2020-09-01T03:51:46.646481Z",
     "shell.execute_reply": "2020-09-01T03:51:46.646011Z"
    },
    "papermill": {
     "duration": 0.022709,
     "end_time": "2020-09-01T03:51:46.646608",
     "exception": false,
     "start_time": "2020-09-01T03:51:46.623899",
     "status": "completed"
    },
    "tags": []
   },
   "outputs": [],
   "source": [
    "#hide\n",
    "overview = '''\n",
    "<!-- #######  HTML!! #########-->\n",
    "<h1 style=\"color: #5e9ca0; text-align: center;\">India</h1>\n",
    "<p style=\"text-align: center;\">Last update: <strong>{update}</strong></p>\n",
    "<p style=\"text-align: center;\">Confirmed cases:</p>\n",
    "<p style=\"text-align: center;font-size:24px;\">{cases} (<span style=\"color: #ff0000;\">+{new}</span>)</p>\n",
    "<p style=\"text-align: center;\">Confirmed deaths:</p>\n",
    "<p style=\"text-align: center;font-size:24px;\">{deaths} (<span style=\"color: #ff0000;\">+{dnew}</span>)</p>\n",
    "'''"
   ]
  },
  {
   "cell_type": "code",
   "execution_count": 16,
   "metadata": {
    "execution": {
     "iopub.execute_input": "2020-09-01T03:51:46.686197Z",
     "iopub.status.busy": "2020-09-01T03:51:46.685609Z",
     "iopub.status.idle": "2020-09-01T03:51:46.688143Z",
     "shell.execute_reply": "2020-09-01T03:51:46.688606Z"
    },
    "papermill": {
     "duration": 0.025396,
     "end_time": "2020-09-01T03:51:46.688749",
     "exception": false,
     "start_time": "2020-09-01T03:51:46.663353",
     "status": "completed"
    },
    "tags": []
   },
   "outputs": [
    {
     "data": {
      "text/html": [
       "\n",
       "<!-- #######  HTML!! #########-->\n",
       "<h1 style=\"color: #5e9ca0; text-align: center;\">India</h1>\n",
       "<p style=\"text-align: center;\">Last update: <strong>2020-09-01</strong></p>\n",
       "<p style=\"text-align: center;\">Confirmed cases:</p>\n",
       "<p style=\"text-align: center;font-size:24px;\">3688449 (<span style=\"color: #ff0000;\">+510</span>)</p>\n",
       "<p style=\"text-align: center;\">Confirmed deaths:</p>\n",
       "<p style=\"text-align: center;font-size:24px;\">65444 (<span style=\"color: #ff0000;\">+10</span>)</p>\n"
      ],
      "text/plain": [
       "<IPython.core.display.HTML object>"
      ]
     },
     "metadata": {},
     "output_type": "display_data"
    }
   ],
   "source": [
    "#hide_input\n",
    "update = summary['updated']\n",
    "cases = summary['Cases']\n",
    "new = summary['Cases (+)']\n",
    "deaths = summary['Deaths']\n",
    "dnew = summary['Deaths (+)']\n",
    "\n",
    "html = HTML(overview.format(update=update, cases=cases,new=new,deaths=deaths,dnew=dnew))\n",
    "\n",
    "display(html)"
   ]
  },
  {
   "cell_type": "code",
   "execution_count": 17,
   "metadata": {
    "execution": {
     "iopub.execute_input": "2020-09-01T03:51:46.733997Z",
     "iopub.status.busy": "2020-09-01T03:51:46.733412Z",
     "iopub.status.idle": "2020-09-01T03:51:46.738493Z",
     "shell.execute_reply": "2020-09-01T03:51:46.737971Z"
    },
    "papermill": {
     "duration": 0.033314,
     "end_time": "2020-09-01T03:51:46.738618",
     "exception": false,
     "start_time": "2020-09-01T03:51:46.705304",
     "status": "completed"
    },
    "tags": []
   },
   "outputs": [],
   "source": [
    "#hide\n",
    "dt_cols = list(dft_cases.columns[1:])\n",
    "dft_ct_new_cases = dft_cases.groupby('state')[dt_cols].sum().diff(axis=1).fillna(0).astype(int)\n",
    "dft_ct_new_cases.sort_values(by = dates[-1], ascending = False,inplace = True)"
   ]
  },
  {
   "cell_type": "code",
   "execution_count": 18,
   "metadata": {
    "execution": {
     "iopub.execute_input": "2020-09-01T03:51:46.795108Z",
     "iopub.status.busy": "2020-09-01T03:51:46.794480Z",
     "iopub.status.idle": "2020-09-01T03:51:46.796843Z",
     "shell.execute_reply": "2020-09-01T03:51:46.797410Z"
    },
    "papermill": {
     "duration": 0.041908,
     "end_time": "2020-09-01T03:51:46.797567",
     "exception": false,
     "start_time": "2020-09-01T03:51:46.755659",
     "status": "completed"
    },
    "tags": []
   },
   "outputs": [
    {
     "data": {
      "text/html": [
       "<div>\n",
       "<style scoped>\n",
       "    .dataframe tbody tr th:only-of-type {\n",
       "        vertical-align: middle;\n",
       "    }\n",
       "\n",
       "    .dataframe tbody tr th {\n",
       "        vertical-align: top;\n",
       "    }\n",
       "\n",
       "    .dataframe thead th {\n",
       "        text-align: right;\n",
       "    }\n",
       "</style>\n",
       "<table border=\"1\" class=\"dataframe\">\n",
       "  <thead>\n",
       "    <tr style=\"text-align: right;\">\n",
       "      <th>states</th>\n",
       "      <th>2020-07-01</th>\n",
       "      <th>2020-07-02</th>\n",
       "      <th>2020-07-03</th>\n",
       "      <th>2020-07-04</th>\n",
       "      <th>2020-07-05</th>\n",
       "      <th>2020-07-06</th>\n",
       "      <th>2020-07-07</th>\n",
       "      <th>2020-07-08</th>\n",
       "      <th>2020-07-09</th>\n",
       "      <th>2020-07-10</th>\n",
       "      <th>...</th>\n",
       "      <th>2020-08-23</th>\n",
       "      <th>2020-08-24</th>\n",
       "      <th>2020-08-25</th>\n",
       "      <th>2020-08-26</th>\n",
       "      <th>2020-08-27</th>\n",
       "      <th>2020-08-28</th>\n",
       "      <th>2020-08-29</th>\n",
       "      <th>2020-08-30</th>\n",
       "      <th>2020-08-31</th>\n",
       "      <th>2020-09-01</th>\n",
       "    </tr>\n",
       "    <tr>\n",
       "      <th>state</th>\n",
       "      <th></th>\n",
       "      <th></th>\n",
       "      <th></th>\n",
       "      <th></th>\n",
       "      <th></th>\n",
       "      <th></th>\n",
       "      <th></th>\n",
       "      <th></th>\n",
       "      <th></th>\n",
       "      <th></th>\n",
       "      <th></th>\n",
       "      <th></th>\n",
       "      <th></th>\n",
       "      <th></th>\n",
       "      <th></th>\n",
       "      <th></th>\n",
       "      <th></th>\n",
       "      <th></th>\n",
       "      <th></th>\n",
       "      <th></th>\n",
       "      <th></th>\n",
       "    </tr>\n",
       "  </thead>\n",
       "  <tbody>\n",
       "    <tr>\n",
       "      <th>Tripura</th>\n",
       "      <td>0</td>\n",
       "      <td>39</td>\n",
       "      <td>93</td>\n",
       "      <td>25</td>\n",
       "      <td>23</td>\n",
       "      <td>111</td>\n",
       "      <td>24</td>\n",
       "      <td>57</td>\n",
       "      <td>16</td>\n",
       "      <td>142</td>\n",
       "      <td>...</td>\n",
       "      <td>331</td>\n",
       "      <td>200</td>\n",
       "      <td>293</td>\n",
       "      <td>329</td>\n",
       "      <td>385</td>\n",
       "      <td>509</td>\n",
       "      <td>443</td>\n",
       "      <td>447</td>\n",
       "      <td>321</td>\n",
       "      <td>509</td>\n",
       "    </tr>\n",
       "    <tr>\n",
       "      <th>Mizoram</th>\n",
       "      <td>0</td>\n",
       "      <td>2</td>\n",
       "      <td>0</td>\n",
       "      <td>2</td>\n",
       "      <td>22</td>\n",
       "      <td>11</td>\n",
       "      <td>1</td>\n",
       "      <td>5</td>\n",
       "      <td>0</td>\n",
       "      <td>23</td>\n",
       "      <td>...</td>\n",
       "      <td>15</td>\n",
       "      <td>0</td>\n",
       "      <td>35</td>\n",
       "      <td>14</td>\n",
       "      <td>7</td>\n",
       "      <td>29</td>\n",
       "      <td>0</td>\n",
       "      <td>5</td>\n",
       "      <td>3</td>\n",
       "      <td>1</td>\n",
       "    </tr>\n",
       "    <tr>\n",
       "      <th>Andaman and Nicobar Islands</th>\n",
       "      <td>0</td>\n",
       "      <td>9</td>\n",
       "      <td>7</td>\n",
       "      <td>3</td>\n",
       "      <td>6</td>\n",
       "      <td>16</td>\n",
       "      <td>6</td>\n",
       "      <td>2</td>\n",
       "      <td>7</td>\n",
       "      <td>0</td>\n",
       "      <td>...</td>\n",
       "      <td>52</td>\n",
       "      <td>44</td>\n",
       "      <td>41</td>\n",
       "      <td>40</td>\n",
       "      <td>33</td>\n",
       "      <td>32</td>\n",
       "      <td>31</td>\n",
       "      <td>23</td>\n",
       "      <td>28</td>\n",
       "      <td>0</td>\n",
       "    </tr>\n",
       "    <tr>\n",
       "      <th>Puducherry</th>\n",
       "      <td>0</td>\n",
       "      <td>63</td>\n",
       "      <td>22</td>\n",
       "      <td>80</td>\n",
       "      <td>42</td>\n",
       "      <td>65</td>\n",
       "      <td>30</td>\n",
       "      <td>110</td>\n",
       "      <td>49</td>\n",
       "      <td>72</td>\n",
       "      <td>...</td>\n",
       "      <td>410</td>\n",
       "      <td>337</td>\n",
       "      <td>567</td>\n",
       "      <td>504</td>\n",
       "      <td>504</td>\n",
       "      <td>590</td>\n",
       "      <td>532</td>\n",
       "      <td>571</td>\n",
       "      <td>284</td>\n",
       "      <td>0</td>\n",
       "    </tr>\n",
       "    <tr>\n",
       "      <th>Maharashtra</th>\n",
       "      <td>0</td>\n",
       "      <td>6328</td>\n",
       "      <td>6364</td>\n",
       "      <td>7074</td>\n",
       "      <td>6555</td>\n",
       "      <td>5368</td>\n",
       "      <td>5134</td>\n",
       "      <td>6603</td>\n",
       "      <td>6875</td>\n",
       "      <td>7862</td>\n",
       "      <td>...</td>\n",
       "      <td>10441</td>\n",
       "      <td>11015</td>\n",
       "      <td>10425</td>\n",
       "      <td>14888</td>\n",
       "      <td>14857</td>\n",
       "      <td>14427</td>\n",
       "      <td>16286</td>\n",
       "      <td>16408</td>\n",
       "      <td>11852</td>\n",
       "      <td>0</td>\n",
       "    </tr>\n",
       "  </tbody>\n",
       "</table>\n",
       "<p>5 rows × 63 columns</p>\n",
       "</div>"
      ],
      "text/plain": [
       "states                       2020-07-01  2020-07-02  2020-07-03  2020-07-04  \\\n",
       "state                                                                         \n",
       "Tripura                               0          39          93          25   \n",
       "Mizoram                               0           2           0           2   \n",
       "Andaman and Nicobar Islands           0           9           7           3   \n",
       "Puducherry                            0          63          22          80   \n",
       "Maharashtra                           0        6328        6364        7074   \n",
       "\n",
       "states                       2020-07-05  2020-07-06  2020-07-07  2020-07-08  \\\n",
       "state                                                                         \n",
       "Tripura                              23         111          24          57   \n",
       "Mizoram                              22          11           1           5   \n",
       "Andaman and Nicobar Islands           6          16           6           2   \n",
       "Puducherry                           42          65          30         110   \n",
       "Maharashtra                        6555        5368        5134        6603   \n",
       "\n",
       "states                       2020-07-09  2020-07-10  ...  2020-08-23  \\\n",
       "state                                                ...               \n",
       "Tripura                              16         142  ...         331   \n",
       "Mizoram                               0          23  ...          15   \n",
       "Andaman and Nicobar Islands           7           0  ...          52   \n",
       "Puducherry                           49          72  ...         410   \n",
       "Maharashtra                        6875        7862  ...       10441   \n",
       "\n",
       "states                       2020-08-24  2020-08-25  2020-08-26  2020-08-27  \\\n",
       "state                                                                         \n",
       "Tripura                             200         293         329         385   \n",
       "Mizoram                               0          35          14           7   \n",
       "Andaman and Nicobar Islands          44          41          40          33   \n",
       "Puducherry                          337         567         504         504   \n",
       "Maharashtra                       11015       10425       14888       14857   \n",
       "\n",
       "states                       2020-08-28  2020-08-29  2020-08-30  2020-08-31  \\\n",
       "state                                                                         \n",
       "Tripura                             509         443         447         321   \n",
       "Mizoram                              29           0           5           3   \n",
       "Andaman and Nicobar Islands          32          31          23          28   \n",
       "Puducherry                          590         532         571         284   \n",
       "Maharashtra                       14427       16286       16408       11852   \n",
       "\n",
       "states                       2020-09-01  \n",
       "state                                    \n",
       "Tripura                             509  \n",
       "Mizoram                               1  \n",
       "Andaman and Nicobar Islands           0  \n",
       "Puducherry                            0  \n",
       "Maharashtra                           0  \n",
       "\n",
       "[5 rows x 63 columns]"
      ]
     },
     "execution_count": 18,
     "metadata": {},
     "output_type": "execute_result"
    }
   ],
   "source": [
    "#hide\n",
    "dft_ct_new_cases.head()"
   ]
  },
  {
   "cell_type": "code",
   "execution_count": 19,
   "metadata": {
    "execution": {
     "iopub.execute_input": "2020-09-01T03:51:46.893973Z",
     "iopub.status.busy": "2020-09-01T03:51:46.878396Z",
     "iopub.status.idle": "2020-09-01T03:51:49.885120Z",
     "shell.execute_reply": "2020-09-01T03:51:49.884595Z"
    },
    "papermill": {
     "duration": 3.070149,
     "end_time": "2020-09-01T03:51:49.885260",
     "exception": false,
     "start_time": "2020-09-01T03:51:46.815111",
     "status": "completed"
    },
    "tags": []
   },
   "outputs": [
    {
     "data": {
      "image/png": "[encoded data removed]",
      "text/plain": [
       "<Figure size 1296x2016 with 11 Axes>"
      ]
     },
     "metadata": {
      "needs_background": "light"
     },
     "output_type": "display_data"
    }
   ],
   "source": [
    "#hide_input\n",
    "df = dft_ct_new_cases.copy()\n",
    "df.loc['Total'] = df.sum()\n",
    "n = 5\n",
    "ax = []\n",
    "fig = plt.figure(figsize = (18,28))\n",
    "gs = fig.add_gridspec(n+2, 5)\n",
    "# gs = fig.add_gridspec(2, 3)\n",
    "ax1 = fig.add_subplot(gs[0, :])\n",
    "ef = df.loc['Total'].rename_axis('date').reset_index()\n",
    "ef['date'] = ef['date'].astype('datetime64[ns]')\n",
    "ax1.bar(ef.date,ef.Total,alpha=0.3,color='#007acc')\n",
    "ax1.plot(ef.date,ef.Total , marker=\"o\", color='#007acc')\n",
    "ax1.xaxis.set_major_locator(mdates.WeekdayLocator())\n",
    "ax1.xaxis.set_major_formatter(mdates.DateFormatter('%b %d'))\n",
    "ax1.text(0.02, 0.5,'India daily case count', transform = ax1.transAxes, fontsize=25);\n",
    "ax1.spines['right'].set_visible(False)\n",
    "ax1.spines['top'].set_visible(False)\n",
    "\n",
    "ax2 = fig.add_subplot(gs[1,0])\n",
    "ef = df.loc['Maharashtra'].rename_axis('date').reset_index()\n",
    "ef['date'] = ef['date'].astype('datetime64[ns]')\n",
    "\n",
    "ax2.bar(ef.date, ef.Maharashtra,color = '#007acc',alpha=0.5)\n",
    "ax2.xaxis.set_major_locator(mdates.WeekdayLocator())\n",
    "ax2.xaxis.set_major_formatter(mdates.DateFormatter('%b %d'))\n",
    "ax2.set_xticks(ax2.get_xticks()[::3])\n",
    "maxyval = ef.Maharashtra.max()\n",
    "ax2.set_ylim([0,maxyval])\n",
    "ax2.text(0.05, 0.9,'Maharashtra', transform = ax2.transAxes, fontsize=20);\n",
    "ax2.spines['right'].set_visible(False)\n",
    "ax2.spines['top'].set_visible(False)\n",
    "\n",
    "\n",
    "ax3 = fig.add_subplot(gs[1,1])\n",
    "ef = df.loc['Tamil Nadu'].rename_axis('date').reset_index()\n",
    "ef['date'] = ef['date'].astype('datetime64[ns]')\n",
    "ax3.bar(ef.date, ef['Tamil Nadu'],color = '#007acc',alpha=0.5,)\n",
    "ax3.xaxis.set_major_locator(mdates.WeekdayLocator())\n",
    "ax3.xaxis.set_major_formatter(mdates.DateFormatter('%b %d'))\n",
    "ax3.set_xticks(ax3.get_xticks()[::3])\n",
    "ax3.text(0.05, 0.9,'Tamil Nadu', transform = ax3.transAxes, fontsize=20);\n",
    "ax3.spines['right'].set_visible(False)\n",
    "ax3.spines['top'].set_visible(False)\n",
    "\n",
    "ax5 = fig.add_subplot(gs[1,3])\n",
    "ef = df.loc['Telangana'].rename_axis('date').reset_index()\n",
    "ef['date'] = ef['date'].astype('datetime64[ns]')\n",
    "ax5.bar(ef.date, ef['Telangana'],color = '#007acc',alpha=0.5,)\n",
    "ax5.xaxis.set_major_locator(mdates.WeekdayLocator())\n",
    "ax5.xaxis.set_major_formatter(mdates.DateFormatter('%b %d'))\n",
    "ax5.set_xticks(ax5.get_xticks()[::3])\n",
    "ax5.text(0.05, 0.9,'Telangana', transform = ax5.transAxes, fontsize=20);\n",
    "ax5.spines['right'].set_visible(False)\n",
    "ax5.spines['top'].set_visible(False)\n",
    "\n",
    "ax6 = fig.add_subplot(gs[1,4])\n",
    "ef = df.loc['Andhra Pradesh'].rename_axis('date').reset_index()\n",
    "ef['date'] = ef['date'].astype('datetime64[ns]')\n",
    "ax6.bar(ef.date, ef['Andhra Pradesh'],color = '#007acc',alpha=0.5,)\n",
    "ax6.xaxis.set_major_locator(mdates.WeekdayLocator())\n",
    "ax6.xaxis.set_major_formatter(mdates.DateFormatter('%b %d'))\n",
    "ax6.set_xticks(ax6.get_xticks()[::3])\n",
    "ax6.text(0.05, 1,'Andhra Pradesh', transform = ax6.transAxes, fontsize=20);\n",
    "ax6.spines['right'].set_visible(False)\n",
    "ax6.spines['top'].set_visible(False)\n",
    "\n",
    "ax4 = fig.add_subplot(gs[1,2])\n",
    "ef = df.loc['Delhi'].rename_axis('date').reset_index()\n",
    "ef['date'] = ef['date'].astype('datetime64[ns]')\n",
    "ax4.bar(ef.date, ef.Delhi,color = '#007acc',alpha=0.5)\n",
    "ax4.set_xticks([])\n",
    "ax4.xaxis.set_major_locator(mdates.WeekdayLocator())\n",
    "ax4.xaxis.set_major_formatter(mdates.DateFormatter('%b %d'))\n",
    "ax4.set_xticks(ax4.get_xticks()[::3])\n",
    "ax4.spines['right'].set_visible(False)\n",
    "ax4.spines['top'].set_visible(False)\n",
    "\n",
    "ax4.text(0.05, 1,'Delhi', transform = ax4.transAxes, fontsize=20)\n",
    "\n",
    "for i in range(n):\n",
    "    \n",
    "    ax.append(fig.add_subplot(gs[i+2,:]))\n",
    "    ef = df.iloc[i+3].rename_axis('date').reset_index()\n",
    "    ef['date'] = ef['date'].astype('datetime64[ns]')\n",
    "    ax[i].bar(ef.date,ef.iloc[:,-1],color = '#007acc',alpha=0.3)\n",
    "    ax[i].plot(ef.date,ef.iloc[:,-1],marker='o',color='#007acc')\n",
    "    ax[i].text(0.02,0.5,f'{ef.columns.values[-1]}',transform = ax[i].transAxes, fontsize = 20);\n",
    "    ax[i].xaxis.set_major_locator(mdates.WeekdayLocator())\n",
    "    ax[i].xaxis.set_major_formatter(mdates.DateFormatter('%b %d'))\n",
    "    ax[i].set_ylim([0,7000])\n",
    "    ax[i].spines['right'].set_visible(False)\n",
    "    ax[i].spines['top'].set_visible(False)\n",
    "plt.tight_layout()\n"
   ]
  },
  {
   "cell_type": "code",
   "execution_count": 20,
   "metadata": {
    "execution": {
     "iopub.execute_input": "2020-09-01T03:51:49.939006Z",
     "iopub.status.busy": "2020-09-01T03:51:49.938363Z",
     "iopub.status.idle": "2020-09-01T03:51:49.941720Z",
     "shell.execute_reply": "2020-09-01T03:51:49.941218Z"
    },
    "papermill": {
     "duration": 0.034795,
     "end_time": "2020-09-01T03:51:49.941862",
     "exception": false,
     "start_time": "2020-09-01T03:51:49.907067",
     "status": "completed"
    },
    "tags": []
   },
   "outputs": [
    {
     "name": "stdout",
     "output_type": "stream",
     "text": [
      "                                   states   Cases  Deaths  PCases  PDeaths  Cases (+)  Deaths (+)  Fatality Rate\n",
      "                              Maharashtra  792541   24583  792541    24583          0           0           3.10\n",
      "                           Andhra Pradesh  434771    3969  434771     3969          0           0           0.91\n",
      "                               Tamil Nadu  428041    7323  428041     7323          0           0           1.71\n",
      "                                Karnataka  342423    5702  342423     5702          0           0           1.67\n",
      "                            Uttar Pradesh  230414    3486  230414     3486          0           0           1.51\n",
      "                                    Delhi  174748    4444  174748     4444          0           0           2.54\n",
      "                              West Bengal  162778    3228  162778     3228          0           0           1.98\n",
      "                                    Bihar  136337     694  136337      694          0           0           0.51\n",
      "                                Telangana  124963     827  124963      827          0           0           0.66\n",
      "                                    Assam  109041     306  109041      306          0           0           0.28\n",
      "                                   Odisha  103536     545  103536      545          0           0           0.53\n",
      "                                  Gujarat   96435    3020   96435     3020          0           0           3.13\n",
      "                                Rajasthan   81693    1056   81693     1056          0           0           1.29\n",
      "                                   Kerala   75385     295   75385      295          0           0           0.39\n",
      "                                  Haryana   64732     689   64732      689          0           0           1.06\n",
      "                           Madhya Pradesh   63965    1394   63965     1394          0           0           2.18\n",
      "                                   Punjab   53992    1453   53992     1453          0           0           2.69\n",
      "                                Jharkhand   41656     417   41656      417          0           0           1.00\n",
      "                        Jammu and Kashmir   37698     703   37698      703          0           0           1.86\n",
      "                             Chhattisgarh   31503     277   31503      277          0           0           0.88\n",
      "                              Uttarakhand   19827     269   19827      269          0           0           1.36\n",
      "                                      Goa   17418     192   17418      192          0           0           1.10\n",
      "                               Puducherry   14411     228   14411      228          0           0           1.58\n",
      "                                  Tripura   12153     113   11644      103        509          10           0.93\n",
      "                                  Manipur    6252      28    6252       28          0           0           0.45\n",
      "                         Himachal Pradesh    6116      37    6116       37          0           0           0.60\n",
      "                               Chandigarh    4346      56    4346       56          0           0           1.29\n",
      "                        Arunachal Pradesh    4112       7    4112        7          0           0           0.17\n",
      "                                 Nagaland    3950       8    3950        8          0           0           0.20\n",
      "              Andaman and Nicobar Islands    3132      46    3132       46          0           0           1.47\n",
      "                                   Ladakh    2681      34    2681       34          0           0           1.27\n",
      "                                Meghalaya    2368      10    2368       10          0           0           0.42\n",
      " Dadra and Nagar Haveli and Daman and Diu    2367       2    2367        2          0           0           0.08\n",
      "                                   Sikkim    1652       3    1652        3          0           0           0.18\n",
      "                                  Mizoram    1012       0    1011        0          1           0           0.00\n",
      "                              Lakshadweep       0       0       0        0          0           0            NaN\n"
     ]
    }
   ],
   "source": [
    "#hide_input\n",
    "print(df_table.to_string(index=False))"
   ]
  },
  {
   "cell_type": "code",
   "execution_count": null,
   "metadata": {
    "papermill": {
     "duration": 0.022187,
     "end_time": "2020-09-01T03:51:49.986345",
     "exception": false,
     "start_time": "2020-09-01T03:51:49.964158",
     "status": "completed"
    },
    "tags": []
   },
   "outputs": [],
   "source": []
  },
  {
   "cell_type": "code",
   "execution_count": null,
   "metadata": {
    "papermill": {
     "duration": 0.021832,
     "end_time": "2020-09-01T03:51:50.030519",
     "exception": false,
     "start_time": "2020-09-01T03:51:50.008687",
     "status": "completed"
    },
    "tags": []
   },
   "outputs": [],
   "source": []
  }
 ],
 "metadata": {
  "kernelspec": {
   "display_name": "Python 3",
   "language": "python",
   "name": "python3"
  },
  "language_info": {
   "codemirror_mode": {
    "name": "ipython",
    "version": 3
   },
   "file_extension": ".py",
   "mimetype": "text/x-python",
   "name": "python",
   "nbconvert_exporter": "python",
   "pygments_lexer": "ipython3",
   "version": "3.6.11"
  },
  "papermill": {
   "duration": 11.310701,
   "end_time": "2020-09-01T03:51:51.364118",
   "environment_variables": {},
   "exception": null,
   "input_path": "latest.ipynb",
   "output_path": "latest.ipynb",
   "parameters": {},
   "start_time": "2020-09-01T03:51:40.053417",
   "version": "2.1.2"
  }
 },
 "nbformat": 4,
 "nbformat_minor": 4
}