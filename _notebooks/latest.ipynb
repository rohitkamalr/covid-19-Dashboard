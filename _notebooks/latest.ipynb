{
 "cells": [
  {
   "cell_type": "markdown",
   "id": "colored-stack",
   "metadata": {
    "papermill": {
     "duration": 0.023276,
     "end_time": "2021-02-26T11:56:57.428302",
     "exception": false,
     "start_time": "2021-02-26T11:56:57.405026",
     "status": "completed"
    },
    "tags": []
   },
   "source": [
    "# Latest COVID-19 India Matplotlib Overview"
   ]
  },
  {
   "cell_type": "code",
   "execution_count": 1,
   "id": "light-proportion",
   "metadata": {
    "execution": {
     "iopub.execute_input": "2021-02-26T11:56:57.476842Z",
     "iopub.status.busy": "2021-02-26T11:56:57.476166Z",
     "iopub.status.idle": "2021-02-26T11:56:58.077317Z",
     "shell.execute_reply": "2021-02-26T11:56:58.076326Z"
    },
    "papermill": {
     "duration": 0.63152,
     "end_time": "2021-02-26T11:56:58.077493",
     "exception": false,
     "start_time": "2021-02-26T11:56:57.445973",
     "status": "completed"
    },
    "tags": []
   },
   "outputs": [],
   "source": [
    "#hide\n",
    "import pandas as pd\n",
    "import numpy as np\n",
    "import requests\n",
    "import json\n",
    "import matplotlib.pyplot as plt\n",
    "import matplotlib.dates as mdates\n",
    "import matplotlib as mpl\n",
    "from IPython.core.display import display,HTML\n",
    "%matplotlib inline\n",
    "from datetime import date"
   ]
  },
  {
   "cell_type": "code",
   "execution_count": 2,
   "id": "greenhouse-shooting",
   "metadata": {
    "execution": {
     "iopub.execute_input": "2021-02-26T11:56:58.119402Z",
     "iopub.status.busy": "2021-02-26T11:56:58.118345Z",
     "iopub.status.idle": "2021-02-26T11:56:58.300181Z",
     "shell.execute_reply": "2021-02-26T11:56:58.299576Z"
    },
    "papermill": {
     "duration": 0.205695,
     "end_time": "2021-02-26T11:56:58.300339",
     "exception": false,
     "start_time": "2021-02-26T11:56:58.094644",
     "status": "completed"
    },
    "tags": []
   },
   "outputs": [],
   "source": [
    "#hide\n",
    "df  = pd.read_csv('https://api.covid19india.org/csv/latest/states.csv')\n",
    "df = df[['Date','State','Confirmed','Deceased']]\n",
    "df = df.rename(columns={'Confirmed':'Cases', \"Deceased\":'Deaths'})\n",
    "df_cases = df[[\"Date\",'State','Cases']]\n",
    "df_deaths = df[['Date','State','Deaths']]\n",
    "df_cases1 = df_cases.groupby('Date')\n",
    "df_deaths1= df_deaths.groupby('Date')"
   ]
  },
  {
   "cell_type": "code",
   "execution_count": 3,
   "id": "hybrid-cathedral",
   "metadata": {
    "execution": {
     "iopub.execute_input": "2021-02-26T11:56:58.340698Z",
     "iopub.status.busy": "2021-02-26T11:56:58.340090Z",
     "iopub.status.idle": "2021-02-26T11:56:58.357986Z",
     "shell.execute_reply": "2021-02-26T11:56:58.357430Z"
    },
    "papermill": {
     "duration": 0.04015,
     "end_time": "2021-02-26T11:56:58.358121",
     "exception": false,
     "start_time": "2021-02-26T11:56:58.317971",
     "status": "completed"
    },
    "tags": []
   },
   "outputs": [],
   "source": [
    "#hide\n",
    "df_snap = pd.read_csv('data/SnapshotCases-28-July.csv')\n",
    "arr_states = df_snap['states'].unique()\n",
    "arr_dates = df['Date'].unique()\n",
    "df_snap = df_snap.set_index('states')"
   ]
  },
  {
   "cell_type": "code",
   "execution_count": 4,
   "id": "interior-belfast",
   "metadata": {
    "execution": {
     "iopub.execute_input": "2021-02-26T11:56:58.399299Z",
     "iopub.status.busy": "2021-02-26T11:56:58.398702Z",
     "iopub.status.idle": "2021-02-26T11:56:58.401329Z",
     "shell.execute_reply": "2021-02-26T11:56:58.401853Z"
    },
    "papermill": {
     "duration": 0.027024,
     "end_time": "2021-02-26T11:56:58.402052",
     "exception": false,
     "start_time": "2021-02-26T11:56:58.375028",
     "status": "completed"
    },
    "tags": []
   },
   "outputs": [
    {
     "data": {
      "text/plain": [
       "array(['Andaman and Nicobar Islands', 'Andhra Pradesh',\n",
       "       'Arunachal Pradesh', 'Assam', 'Bihar', 'Chandigarh',\n",
       "       'Dadra and Nagar Haveli and Daman and Diu', 'Delhi', 'Goa',\n",
       "       'Gujarat', 'Haryana', 'Himachal Pradesh', 'Jammu and Kashmir',\n",
       "       'Jharkhand', 'Karnataka', 'Kerala', 'Lakshadweep',\n",
       "       'Madhya Pradesh', 'Maharashtra', 'Manipur', 'Meghalaya', 'Mizoram',\n",
       "       'Nagaland', 'Odisha', 'Puducherry', 'Punjab', 'Rajasthan',\n",
       "       'Sikkim', 'Tamil Nadu', 'Telangana', 'Tripura', 'Uttar Pradesh',\n",
       "       'West Bengal', 'Chhattisgarh', 'Ladakh', 'Uttarakhand'],\n",
       "      dtype=object)"
      ]
     },
     "execution_count": 4,
     "metadata": {},
     "output_type": "execute_result"
    }
   ],
   "source": [
    "#hide\n",
    "arr_states[-9] = 'Puducherry'\n",
    "arr_states[-10] = 'Odisha'\n",
    "arr_states[6] = 'Dadra and Nagar Haveli and Daman and Diu'\n",
    "arr_states = np.append(arr_states,np.array(['Chhattisgarh','Ladakh','Uttarakhand']))\n",
    "arr_states"
   ]
  },
  {
   "cell_type": "code",
   "execution_count": 5,
   "id": "behind-manner",
   "metadata": {
    "execution": {
     "iopub.execute_input": "2021-02-26T11:56:58.449994Z",
     "iopub.status.busy": "2021-02-26T11:56:58.449270Z",
     "iopub.status.idle": "2021-02-26T11:56:58.458476Z",
     "shell.execute_reply": "2021-02-26T11:56:58.457995Z"
    },
    "papermill": {
     "duration": 0.039306,
     "end_time": "2021-02-26T11:56:58.458601",
     "exception": false,
     "start_time": "2021-02-26T11:56:58.419295",
     "status": "completed"
    },
    "tags": []
   },
   "outputs": [],
   "source": [
    "#hide\n",
    "dates = []\n",
    "for i in arr_dates:\n",
    "    if i>='2020-07-01':\n",
    "        dates.append(i)\n",
    "dict = {'states':dates}\n",
    "for i in arr_states:\n",
    "    dict[i] = [0]*len(dates)\n",
    "dft_cases = pd.DataFrame(dict)\n",
    "dft_deaths = pd.DataFrame(dict)\n"
   ]
  },
  {
   "cell_type": "code",
   "execution_count": 6,
   "id": "simplified-peter",
   "metadata": {
    "execution": {
     "iopub.execute_input": "2021-02-26T11:56:58.498739Z",
     "iopub.status.busy": "2021-02-26T11:56:58.498141Z",
     "iopub.status.idle": "2021-02-26T11:57:01.846550Z",
     "shell.execute_reply": "2021-02-26T11:57:01.845554Z"
    },
    "papermill": {
     "duration": 3.371268,
     "end_time": "2021-02-26T11:57:01.846695",
     "exception": false,
     "start_time": "2021-02-26T11:56:58.475427",
     "status": "completed"
    },
    "tags": []
   },
   "outputs": [],
   "source": [
    "#hide\n",
    "for i in range(len(dates)):\n",
    "    df1_deaths = df_deaths1.get_group(dates[i])\n",
    "    for j in range(len(df1_deaths.index)):\n",
    "        if df1_deaths.iloc[j,1] in arr_states:\n",
    "            dft_deaths.loc[i,df1_deaths.iloc[j,1]] = df1_deaths.iloc[j,2]\n",
    "dft_deaths = dft_deaths.set_index('states')"
   ]
  },
  {
   "cell_type": "code",
   "execution_count": 7,
   "id": "geological-welding",
   "metadata": {
    "execution": {
     "iopub.execute_input": "2021-02-26T11:57:01.888451Z",
     "iopub.status.busy": "2021-02-26T11:57:01.887588Z",
     "iopub.status.idle": "2021-02-26T11:57:05.187517Z",
     "shell.execute_reply": "2021-02-26T11:57:05.187023Z"
    },
    "papermill": {
     "duration": 3.323507,
     "end_time": "2021-02-26T11:57:05.187650",
     "exception": false,
     "start_time": "2021-02-26T11:57:01.864143",
     "status": "completed"
    },
    "tags": []
   },
   "outputs": [],
   "source": [
    "#hide\n",
    "for i in range(len(dates)):\n",
    "    df1_cases = df_cases1.get_group(dates[i])\n",
    "    for j in range(len(df1_cases.index)):\n",
    "        if df1_cases.iloc[j,1] in arr_states:\n",
    "            dft_cases.loc[i,df1_cases.iloc[j,1]] = df1_cases.iloc[j,2]\n",
    "dft_cases = dft_cases.set_index('states')"
   ]
  },
  {
   "cell_type": "code",
   "execution_count": 8,
   "id": "binary-ratio",
   "metadata": {
    "execution": {
     "iopub.execute_input": "2021-02-26T11:57:05.386051Z",
     "iopub.status.busy": "2021-02-26T11:57:05.385468Z",
     "iopub.status.idle": "2021-02-26T11:57:05.387674Z",
     "shell.execute_reply": "2021-02-26T11:57:05.387203Z"
    },
    "papermill": {
     "duration": 0.164424,
     "end_time": "2021-02-26T11:57:05.387799",
     "exception": false,
     "start_time": "2021-02-26T11:57:05.223375",
     "status": "completed"
    },
    "tags": []
   },
   "outputs": [],
   "source": [
    "#hide\n",
    "dft_cases = dft_cases.T\n",
    "dft_deaths = dft_deaths.T\n",
    "dt_today = dates[-1]\n",
    "dt_yday = dates[-2]"
   ]
  },
  {
   "cell_type": "code",
   "execution_count": 9,
   "id": "boolean-calculator",
   "metadata": {
    "execution": {
     "iopub.execute_input": "2021-02-26T11:57:05.450497Z",
     "iopub.status.busy": "2021-02-26T11:57:05.449759Z",
     "iopub.status.idle": "2021-02-26T11:57:05.456323Z",
     "shell.execute_reply": "2021-02-26T11:57:05.455852Z"
    },
    "papermill": {
     "duration": 0.029835,
     "end_time": "2021-02-26T11:57:05.456442",
     "exception": false,
     "start_time": "2021-02-26T11:57:05.426607",
     "status": "completed"
    },
    "tags": []
   },
   "outputs": [],
   "source": [
    "#hide\n",
    "dft_cases = dft_cases.reset_index()\n",
    "dft_deaths = dft_deaths.reset_index()\n",
    "dft_cases = dft_cases.rename(columns = {'index':'state'})\n",
    "dft_deaths = dft_deaths.rename(columns = {'index':'state'})"
   ]
  },
  {
   "cell_type": "code",
   "execution_count": 10,
   "id": "invisible-johnston",
   "metadata": {
    "execution": {
     "iopub.execute_input": "2021-02-26T11:57:05.502236Z",
     "iopub.status.busy": "2021-02-26T11:57:05.501639Z",
     "iopub.status.idle": "2021-02-26T11:57:05.503788Z",
     "shell.execute_reply": "2021-02-26T11:57:05.504227Z"
    },
    "papermill": {
     "duration": 0.03068,
     "end_time": "2021-02-26T11:57:05.504371",
     "exception": false,
     "start_time": "2021-02-26T11:57:05.473691",
     "status": "completed"
    },
    "tags": []
   },
   "outputs": [],
   "source": [
    "#hide\n",
    "dfc_cases = dft_cases.groupby('state')[dt_today].sum()\n",
    "dfc_deaths = dft_deaths.groupby('state')[dt_today].sum()\n",
    "dfp_cases = dft_cases.groupby('state')[dt_yday].sum()\n",
    "dfp_deaths = dft_deaths.groupby('state')[dt_yday].sum()"
   ]
  },
  {
   "cell_type": "code",
   "execution_count": 11,
   "id": "measured-great",
   "metadata": {
    "execution": {
     "iopub.execute_input": "2021-02-26T11:57:05.556467Z",
     "iopub.status.busy": "2021-02-26T11:57:05.552227Z",
     "iopub.status.idle": "2021-02-26T11:57:05.559767Z",
     "shell.execute_reply": "2021-02-26T11:57:05.559274Z"
    },
    "papermill": {
     "duration": 0.038371,
     "end_time": "2021-02-26T11:57:05.559891",
     "exception": false,
     "start_time": "2021-02-26T11:57:05.521520",
     "status": "completed"
    },
    "tags": []
   },
   "outputs": [
    {
     "data": {
      "text/html": [
       "<div>\n",
       "<style scoped>\n",
       "    .dataframe tbody tr th:only-of-type {\n",
       "        vertical-align: middle;\n",
       "    }\n",
       "\n",
       "    .dataframe tbody tr th {\n",
       "        vertical-align: top;\n",
       "    }\n",
       "\n",
       "    .dataframe thead th {\n",
       "        text-align: right;\n",
       "    }\n",
       "</style>\n",
       "<table border=\"1\" class=\"dataframe\">\n",
       "  <thead>\n",
       "    <tr style=\"text-align: right;\">\n",
       "      <th></th>\n",
       "      <th>states</th>\n",
       "      <th>Cases</th>\n",
       "      <th>Deaths</th>\n",
       "      <th>PCases</th>\n",
       "      <th>PDeaths</th>\n",
       "    </tr>\n",
       "  </thead>\n",
       "  <tbody>\n",
       "    <tr>\n",
       "      <th>0</th>\n",
       "      <td>Maharashtra</td>\n",
       "      <td>2129821</td>\n",
       "      <td>51993</td>\n",
       "      <td>2129821</td>\n",
       "      <td>51993</td>\n",
       "    </tr>\n",
       "    <tr>\n",
       "      <th>1</th>\n",
       "      <td>Kerala</td>\n",
       "      <td>1048687</td>\n",
       "      <td>4151</td>\n",
       "      <td>1048687</td>\n",
       "      <td>4151</td>\n",
       "    </tr>\n",
       "    <tr>\n",
       "      <th>2</th>\n",
       "      <td>Karnataka</td>\n",
       "      <td>949636</td>\n",
       "      <td>12316</td>\n",
       "      <td>949636</td>\n",
       "      <td>12316</td>\n",
       "    </tr>\n",
       "    <tr>\n",
       "      <th>3</th>\n",
       "      <td>Andhra Pradesh</td>\n",
       "      <td>889585</td>\n",
       "      <td>7168</td>\n",
       "      <td>889585</td>\n",
       "      <td>7168</td>\n",
       "    </tr>\n",
       "    <tr>\n",
       "      <th>4</th>\n",
       "      <td>Tamil Nadu</td>\n",
       "      <td>850096</td>\n",
       "      <td>12483</td>\n",
       "      <td>850096</td>\n",
       "      <td>12483</td>\n",
       "    </tr>\n",
       "  </tbody>\n",
       "</table>\n",
       "</div>"
      ],
      "text/plain": [
       "           states    Cases  Deaths   PCases  PDeaths\n",
       "0     Maharashtra  2129821   51993  2129821    51993\n",
       "1          Kerala  1048687    4151  1048687     4151\n",
       "2       Karnataka   949636   12316   949636    12316\n",
       "3  Andhra Pradesh   889585    7168   889585     7168\n",
       "4      Tamil Nadu   850096   12483   850096    12483"
      ]
     },
     "execution_count": 11,
     "metadata": {},
     "output_type": "execute_result"
    }
   ],
   "source": [
    "#hide\n",
    "df_table = pd.DataFrame({'states': dfc_cases.index, 'Cases': dfc_cases.values, 'Deaths': dfc_deaths.values, 'PCases': dfp_cases.values, 'PDeaths': dfp_deaths.values}).set_index('states')\n",
    "df_table = df_table.sort_values(by = ['Cases','Deaths'], ascending = [False, False])\n",
    "df_table = df_table.reset_index()\n",
    "df_table.head()"
   ]
  },
  {
   "cell_type": "code",
   "execution_count": 12,
   "id": "found-montreal",
   "metadata": {
    "execution": {
     "iopub.execute_input": "2021-02-26T11:57:05.602118Z",
     "iopub.status.busy": "2021-02-26T11:57:05.601530Z",
     "iopub.status.idle": "2021-02-26T11:57:05.611190Z",
     "shell.execute_reply": "2021-02-26T11:57:05.610688Z"
    },
    "papermill": {
     "duration": 0.033554,
     "end_time": "2021-02-26T11:57:05.611312",
     "exception": false,
     "start_time": "2021-02-26T11:57:05.577758",
     "status": "completed"
    },
    "tags": []
   },
   "outputs": [],
   "source": [
    "#hide\n",
    "for c in 'Cases, Deaths'.split(', '):\n",
    "    df_table[f'{c} (+)'] = (df_table[c] - df_table[f'P{c}']).clip(0)\n",
    "df_table['Fatality Rate'] = (100* df_table['Deaths']/ df_table['Cases']).round(2)"
   ]
  },
  {
   "cell_type": "code",
   "execution_count": 13,
   "id": "minus-savage",
   "metadata": {
    "execution": {
     "iopub.execute_input": "2021-02-26T11:57:05.659645Z",
     "iopub.status.busy": "2021-02-26T11:57:05.659065Z",
     "iopub.status.idle": "2021-02-26T11:57:05.662141Z",
     "shell.execute_reply": "2021-02-26T11:57:05.661649Z"
    },
    "papermill": {
     "duration": 0.033396,
     "end_time": "2021-02-26T11:57:05.662261",
     "exception": false,
     "start_time": "2021-02-26T11:57:05.628865",
     "status": "completed"
    },
    "tags": []
   },
   "outputs": [
    {
     "data": {
      "text/html": [
       "<div>\n",
       "<style scoped>\n",
       "    .dataframe tbody tr th:only-of-type {\n",
       "        vertical-align: middle;\n",
       "    }\n",
       "\n",
       "    .dataframe tbody tr th {\n",
       "        vertical-align: top;\n",
       "    }\n",
       "\n",
       "    .dataframe thead th {\n",
       "        text-align: right;\n",
       "    }\n",
       "</style>\n",
       "<table border=\"1\" class=\"dataframe\">\n",
       "  <thead>\n",
       "    <tr style=\"text-align: right;\">\n",
       "      <th></th>\n",
       "      <th>states</th>\n",
       "      <th>Cases</th>\n",
       "      <th>Deaths</th>\n",
       "      <th>PCases</th>\n",
       "      <th>PDeaths</th>\n",
       "      <th>Cases (+)</th>\n",
       "      <th>Deaths (+)</th>\n",
       "      <th>Fatality Rate</th>\n",
       "    </tr>\n",
       "  </thead>\n",
       "  <tbody>\n",
       "    <tr>\n",
       "      <th>0</th>\n",
       "      <td>Maharashtra</td>\n",
       "      <td>2129821</td>\n",
       "      <td>51993</td>\n",
       "      <td>2129821</td>\n",
       "      <td>51993</td>\n",
       "      <td>0</td>\n",
       "      <td>0</td>\n",
       "      <td>2.44</td>\n",
       "    </tr>\n",
       "    <tr>\n",
       "      <th>1</th>\n",
       "      <td>Kerala</td>\n",
       "      <td>1048687</td>\n",
       "      <td>4151</td>\n",
       "      <td>1048687</td>\n",
       "      <td>4151</td>\n",
       "      <td>0</td>\n",
       "      <td>0</td>\n",
       "      <td>0.40</td>\n",
       "    </tr>\n",
       "    <tr>\n",
       "      <th>2</th>\n",
       "      <td>Karnataka</td>\n",
       "      <td>949636</td>\n",
       "      <td>12316</td>\n",
       "      <td>949636</td>\n",
       "      <td>12316</td>\n",
       "      <td>0</td>\n",
       "      <td>0</td>\n",
       "      <td>1.30</td>\n",
       "    </tr>\n",
       "    <tr>\n",
       "      <th>3</th>\n",
       "      <td>Andhra Pradesh</td>\n",
       "      <td>889585</td>\n",
       "      <td>7168</td>\n",
       "      <td>889585</td>\n",
       "      <td>7168</td>\n",
       "      <td>0</td>\n",
       "      <td>0</td>\n",
       "      <td>0.81</td>\n",
       "    </tr>\n",
       "    <tr>\n",
       "      <th>4</th>\n",
       "      <td>Tamil Nadu</td>\n",
       "      <td>850096</td>\n",
       "      <td>12483</td>\n",
       "      <td>850096</td>\n",
       "      <td>12483</td>\n",
       "      <td>0</td>\n",
       "      <td>0</td>\n",
       "      <td>1.47</td>\n",
       "    </tr>\n",
       "  </tbody>\n",
       "</table>\n",
       "</div>"
      ],
      "text/plain": [
       "           states    Cases  Deaths   PCases  PDeaths  Cases (+)  Deaths (+)  \\\n",
       "0     Maharashtra  2129821   51993  2129821    51993          0           0   \n",
       "1          Kerala  1048687    4151  1048687     4151          0           0   \n",
       "2       Karnataka   949636   12316   949636    12316          0           0   \n",
       "3  Andhra Pradesh   889585    7168   889585     7168          0           0   \n",
       "4      Tamil Nadu   850096   12483   850096    12483          0           0   \n",
       "\n",
       "   Fatality Rate  \n",
       "0           2.44  \n",
       "1           0.40  \n",
       "2           1.30  \n",
       "3           0.81  \n",
       "4           1.47  "
      ]
     },
     "execution_count": 13,
     "metadata": {},
     "output_type": "execute_result"
    }
   ],
   "source": [
    "#hide\n",
    "df_table.head()"
   ]
  },
  {
   "cell_type": "code",
   "execution_count": 14,
   "id": "false-peter",
   "metadata": {
    "execution": {
     "iopub.execute_input": "2021-02-26T11:57:05.704252Z",
     "iopub.status.busy": "2021-02-26T11:57:05.703658Z",
     "iopub.status.idle": "2021-02-26T11:57:05.719407Z",
     "shell.execute_reply": "2021-02-26T11:57:05.718941Z"
    },
    "papermill": {
     "duration": 0.039139,
     "end_time": "2021-02-26T11:57:05.719531",
     "exception": false,
     "start_time": "2021-02-26T11:57:05.680392",
     "status": "completed"
    },
    "tags": []
   },
   "outputs": [
    {
     "data": {
      "text/plain": [
       "{'updated': '2021-02-26',\n",
       " 'since': '2021-02-25',\n",
       " 'Cases': 11063364,\n",
       " 'PCases': 11063075,\n",
       " 'Deaths': 156863,\n",
       " 'PDeaths': 156861,\n",
       " 'Cases (+)': 289,\n",
       " 'Deaths (+)': 2}"
      ]
     },
     "execution_count": 14,
     "metadata": {},
     "output_type": "execute_result"
    }
   ],
   "source": [
    "#hide\n",
    "summary = {'updated':dates[-1], 'since':dates[-2]}\n",
    "list_names = ['Cases', 'PCases', 'Deaths', 'PDeaths', 'Cases (+)', 'Deaths (+)']\n",
    "for name in list_names:\n",
    "    summary[name] = df_table.sum()[name]\n",
    "summary"
   ]
  },
  {
   "cell_type": "code",
   "execution_count": 15,
   "id": "packed-viewer",
   "metadata": {
    "execution": {
     "iopub.execute_input": "2021-02-26T11:57:05.762521Z",
     "iopub.status.busy": "2021-02-26T11:57:05.761939Z",
     "iopub.status.idle": "2021-02-26T11:57:05.764438Z",
     "shell.execute_reply": "2021-02-26T11:57:05.765011Z"
    },
    "papermill": {
     "duration": 0.02722,
     "end_time": "2021-02-26T11:57:05.765143",
     "exception": false,
     "start_time": "2021-02-26T11:57:05.737923",
     "status": "completed"
    },
    "tags": []
   },
   "outputs": [],
   "source": [
    "#hide\n",
    "overview = '''\n",
    "<!-- #######  HTML!! #########-->\n",
    "<h1 style=\"color: #5e9ca0; text-align: center;\">India</h1>\n",
    "<p style=\"text-align: center;\">Last update: <strong>{update}</strong></p>\n",
    "<p style=\"text-align: center;\">Confirmed cases:</p>\n",
    "<p style=\"text-align: center;font-size:24px;\">{cases} (<span style=\"color: #ff0000;\">+{new}</span>)</p>\n",
    "<p style=\"text-align: center;\">Confirmed deaths:</p>\n",
    "<p style=\"text-align: center;font-size:24px;\">{deaths} (<span style=\"color: #ff0000;\">+{dnew}</span>)</p>\n",
    "'''"
   ]
  },
  {
   "cell_type": "code",
   "execution_count": 16,
   "id": "phantom-lover",
   "metadata": {
    "execution": {
     "iopub.execute_input": "2021-02-26T11:57:05.816468Z",
     "iopub.status.busy": "2021-02-26T11:57:05.815675Z",
     "iopub.status.idle": "2021-02-26T11:57:05.819830Z",
     "shell.execute_reply": "2021-02-26T11:57:05.819340Z"
    },
    "papermill": {
     "duration": 0.036563,
     "end_time": "2021-02-26T11:57:05.819950",
     "exception": false,
     "start_time": "2021-02-26T11:57:05.783387",
     "status": "completed"
    },
    "tags": []
   },
   "outputs": [
    {
     "data": {
      "text/html": [
       "\n",
       "<!-- #######  HTML!! #########-->\n",
       "<h1 style=\"color: #5e9ca0; text-align: center;\">India</h1>\n",
       "<p style=\"text-align: center;\">Last update: <strong>2021-02-26</strong></p>\n",
       "<p style=\"text-align: center;\">Confirmed cases:</p>\n",
       "<p style=\"text-align: center;font-size:24px;\">11063364 (<span style=\"color: #ff0000;\">+289</span>)</p>\n",
       "<p style=\"text-align: center;\">Confirmed deaths:</p>\n",
       "<p style=\"text-align: center;font-size:24px;\">156863 (<span style=\"color: #ff0000;\">+2</span>)</p>\n"
      ],
      "text/plain": [
       "<IPython.core.display.HTML object>"
      ]
     },
     "metadata": {},
     "output_type": "display_data"
    }
   ],
   "source": [
    "#hide_input\n",
    "update = summary['updated']\n",
    "cases = summary['Cases']\n",
    "new = summary['Cases (+)']\n",
    "deaths = summary['Deaths']\n",
    "dnew = summary['Deaths (+)']\n",
    "\n",
    "html = HTML(overview.format(update=update, cases=cases,new=new,deaths=deaths,dnew=dnew))\n",
    "\n",
    "display(html)"
   ]
  },
  {
   "cell_type": "code",
   "execution_count": 17,
   "id": "sealed-reset",
   "metadata": {
    "execution": {
     "iopub.execute_input": "2021-02-26T11:57:05.867121Z",
     "iopub.status.busy": "2021-02-26T11:57:05.866546Z",
     "iopub.status.idle": "2021-02-26T11:57:05.873938Z",
     "shell.execute_reply": "2021-02-26T11:57:05.873463Z"
    },
    "papermill": {
     "duration": 0.035309,
     "end_time": "2021-02-26T11:57:05.874061",
     "exception": false,
     "start_time": "2021-02-26T11:57:05.838752",
     "status": "completed"
    },
    "tags": []
   },
   "outputs": [],
   "source": [
    "#hide\n",
    "dt_cols = list(dft_cases.columns[1:])\n",
    "dft_ct_new_cases = dft_cases.groupby('state')[dt_cols].sum().diff(axis=1).fillna(0).astype(int)\n",
    "dft_ct_new_cases.sort_values(by = dates[-1], ascending = False,inplace = True)"
   ]
  },
  {
   "cell_type": "code",
   "execution_count": 18,
   "id": "designed-constant",
   "metadata": {
    "execution": {
     "iopub.execute_input": "2021-02-26T11:57:05.938652Z",
     "iopub.status.busy": "2021-02-26T11:57:05.938039Z",
     "iopub.status.idle": "2021-02-26T11:57:05.941825Z",
     "shell.execute_reply": "2021-02-26T11:57:05.941289Z"
    },
    "papermill": {
     "duration": 0.048919,
     "end_time": "2021-02-26T11:57:05.941959",
     "exception": false,
     "start_time": "2021-02-26T11:57:05.893040",
     "status": "completed"
    },
    "tags": []
   },
   "outputs": [
    {
     "data": {
      "text/html": [
       "<div>\n",
       "<style scoped>\n",
       "    .dataframe tbody tr th:only-of-type {\n",
       "        vertical-align: middle;\n",
       "    }\n",
       "\n",
       "    .dataframe tbody tr th {\n",
       "        vertical-align: top;\n",
       "    }\n",
       "\n",
       "    .dataframe thead th {\n",
       "        text-align: right;\n",
       "    }\n",
       "</style>\n",
       "<table border=\"1\" class=\"dataframe\">\n",
       "  <thead>\n",
       "    <tr style=\"text-align: right;\">\n",
       "      <th>states</th>\n",
       "      <th>2020-07-01</th>\n",
       "      <th>2020-07-02</th>\n",
       "      <th>2020-07-03</th>\n",
       "      <th>2020-07-04</th>\n",
       "      <th>2020-07-05</th>\n",
       "      <th>2020-07-06</th>\n",
       "      <th>2020-07-07</th>\n",
       "      <th>2020-07-08</th>\n",
       "      <th>2020-07-09</th>\n",
       "      <th>2020-07-10</th>\n",
       "      <th>...</th>\n",
       "      <th>2021-02-17</th>\n",
       "      <th>2021-02-18</th>\n",
       "      <th>2021-02-19</th>\n",
       "      <th>2021-02-20</th>\n",
       "      <th>2021-02-21</th>\n",
       "      <th>2021-02-22</th>\n",
       "      <th>2021-02-23</th>\n",
       "      <th>2021-02-24</th>\n",
       "      <th>2021-02-25</th>\n",
       "      <th>2021-02-26</th>\n",
       "    </tr>\n",
       "    <tr>\n",
       "      <th>state</th>\n",
       "      <th></th>\n",
       "      <th></th>\n",
       "      <th></th>\n",
       "      <th></th>\n",
       "      <th></th>\n",
       "      <th></th>\n",
       "      <th></th>\n",
       "      <th></th>\n",
       "      <th></th>\n",
       "      <th></th>\n",
       "      <th></th>\n",
       "      <th></th>\n",
       "      <th></th>\n",
       "      <th></th>\n",
       "      <th></th>\n",
       "      <th></th>\n",
       "      <th></th>\n",
       "      <th></th>\n",
       "      <th></th>\n",
       "      <th></th>\n",
       "      <th></th>\n",
       "    </tr>\n",
       "  </thead>\n",
       "  <tbody>\n",
       "    <tr>\n",
       "      <th>Telangana</th>\n",
       "      <td>0</td>\n",
       "      <td>1213</td>\n",
       "      <td>1892</td>\n",
       "      <td>1850</td>\n",
       "      <td>1590</td>\n",
       "      <td>1831</td>\n",
       "      <td>1879</td>\n",
       "      <td>1924</td>\n",
       "      <td>1410</td>\n",
       "      <td>1278</td>\n",
       "      <td>...</td>\n",
       "      <td>148</td>\n",
       "      <td>163</td>\n",
       "      <td>165</td>\n",
       "      <td>157</td>\n",
       "      <td>163</td>\n",
       "      <td>114</td>\n",
       "      <td>0</td>\n",
       "      <td>345</td>\n",
       "      <td>207</td>\n",
       "      <td>187</td>\n",
       "    </tr>\n",
       "    <tr>\n",
       "      <th>Odisha</th>\n",
       "      <td>0</td>\n",
       "      <td>229</td>\n",
       "      <td>561</td>\n",
       "      <td>495</td>\n",
       "      <td>469</td>\n",
       "      <td>456</td>\n",
       "      <td>571</td>\n",
       "      <td>527</td>\n",
       "      <td>577</td>\n",
       "      <td>755</td>\n",
       "      <td>...</td>\n",
       "      <td>75</td>\n",
       "      <td>63</td>\n",
       "      <td>53</td>\n",
       "      <td>65</td>\n",
       "      <td>58</td>\n",
       "      <td>69</td>\n",
       "      <td>62</td>\n",
       "      <td>68</td>\n",
       "      <td>89</td>\n",
       "      <td>94</td>\n",
       "    </tr>\n",
       "    <tr>\n",
       "      <th>Tripura</th>\n",
       "      <td>0</td>\n",
       "      <td>39</td>\n",
       "      <td>93</td>\n",
       "      <td>25</td>\n",
       "      <td>23</td>\n",
       "      <td>111</td>\n",
       "      <td>24</td>\n",
       "      <td>57</td>\n",
       "      <td>16</td>\n",
       "      <td>142</td>\n",
       "      <td>...</td>\n",
       "      <td>2</td>\n",
       "      <td>2</td>\n",
       "      <td>0</td>\n",
       "      <td>35</td>\n",
       "      <td>0</td>\n",
       "      <td>2</td>\n",
       "      <td>4</td>\n",
       "      <td>2</td>\n",
       "      <td>0</td>\n",
       "      <td>7</td>\n",
       "    </tr>\n",
       "    <tr>\n",
       "      <th>Dadra and Nagar Haveli and Daman and Diu</th>\n",
       "      <td>0</td>\n",
       "      <td>25</td>\n",
       "      <td>50</td>\n",
       "      <td>37</td>\n",
       "      <td>32</td>\n",
       "      <td>27</td>\n",
       "      <td>27</td>\n",
       "      <td>15</td>\n",
       "      <td>14</td>\n",
       "      <td>14</td>\n",
       "      <td>...</td>\n",
       "      <td>2</td>\n",
       "      <td>0</td>\n",
       "      <td>0</td>\n",
       "      <td>0</td>\n",
       "      <td>0</td>\n",
       "      <td>0</td>\n",
       "      <td>0</td>\n",
       "      <td>2</td>\n",
       "      <td>1</td>\n",
       "      <td>1</td>\n",
       "    </tr>\n",
       "    <tr>\n",
       "      <th>Andaman and Nicobar Islands</th>\n",
       "      <td>0</td>\n",
       "      <td>9</td>\n",
       "      <td>7</td>\n",
       "      <td>3</td>\n",
       "      <td>6</td>\n",
       "      <td>16</td>\n",
       "      <td>6</td>\n",
       "      <td>2</td>\n",
       "      <td>7</td>\n",
       "      <td>0</td>\n",
       "      <td>...</td>\n",
       "      <td>1</td>\n",
       "      <td>0</td>\n",
       "      <td>0</td>\n",
       "      <td>0</td>\n",
       "      <td>0</td>\n",
       "      <td>1</td>\n",
       "      <td>1</td>\n",
       "      <td>0</td>\n",
       "      <td>0</td>\n",
       "      <td>0</td>\n",
       "    </tr>\n",
       "  </tbody>\n",
       "</table>\n",
       "<p>5 rows × 241 columns</p>\n",
       "</div>"
      ],
      "text/plain": [
       "states                                    2020-07-01  2020-07-02  2020-07-03  \\\n",
       "state                                                                          \n",
       "Telangana                                          0        1213        1892   \n",
       "Odisha                                             0         229         561   \n",
       "Tripura                                            0          39          93   \n",
       "Dadra and Nagar Haveli and Daman and Diu           0          25          50   \n",
       "Andaman and Nicobar Islands                        0           9           7   \n",
       "\n",
       "states                                    2020-07-04  2020-07-05  2020-07-06  \\\n",
       "state                                                                          \n",
       "Telangana                                       1850        1590        1831   \n",
       "Odisha                                           495         469         456   \n",
       "Tripura                                           25          23         111   \n",
       "Dadra and Nagar Haveli and Daman and Diu          37          32          27   \n",
       "Andaman and Nicobar Islands                        3           6          16   \n",
       "\n",
       "states                                    2020-07-07  2020-07-08  2020-07-09  \\\n",
       "state                                                                          \n",
       "Telangana                                       1879        1924        1410   \n",
       "Odisha                                           571         527         577   \n",
       "Tripura                                           24          57          16   \n",
       "Dadra and Nagar Haveli and Daman and Diu          27          15          14   \n",
       "Andaman and Nicobar Islands                        6           2           7   \n",
       "\n",
       "states                                    2020-07-10  ...  2021-02-17  \\\n",
       "state                                                 ...               \n",
       "Telangana                                       1278  ...         148   \n",
       "Odisha                                           755  ...          75   \n",
       "Tripura                                          142  ...           2   \n",
       "Dadra and Nagar Haveli and Daman and Diu          14  ...           2   \n",
       "Andaman and Nicobar Islands                        0  ...           1   \n",
       "\n",
       "states                                    2021-02-18  2021-02-19  2021-02-20  \\\n",
       "state                                                                          \n",
       "Telangana                                        163         165         157   \n",
       "Odisha                                            63          53          65   \n",
       "Tripura                                            2           0          35   \n",
       "Dadra and Nagar Haveli and Daman and Diu           0           0           0   \n",
       "Andaman and Nicobar Islands                        0           0           0   \n",
       "\n",
       "states                                    2021-02-21  2021-02-22  2021-02-23  \\\n",
       "state                                                                          \n",
       "Telangana                                        163         114           0   \n",
       "Odisha                                            58          69          62   \n",
       "Tripura                                            0           2           4   \n",
       "Dadra and Nagar Haveli and Daman and Diu           0           0           0   \n",
       "Andaman and Nicobar Islands                        0           1           1   \n",
       "\n",
       "states                                    2021-02-24  2021-02-25  2021-02-26  \n",
       "state                                                                         \n",
       "Telangana                                        345         207         187  \n",
       "Odisha                                            68          89          94  \n",
       "Tripura                                            2           0           7  \n",
       "Dadra and Nagar Haveli and Daman and Diu           2           1           1  \n",
       "Andaman and Nicobar Islands                        0           0           0  \n",
       "\n",
       "[5 rows x 241 columns]"
      ]
     },
     "execution_count": 18,
     "metadata": {},
     "output_type": "execute_result"
    }
   ],
   "source": [
    "#hide\n",
    "dft_ct_new_cases.head()"
   ]
  },
  {
   "cell_type": "code",
   "execution_count": 19,
   "id": "responsible-nightlife",
   "metadata": {
    "execution": {
     "iopub.execute_input": "2021-02-26T11:57:06.053807Z",
     "iopub.status.busy": "2021-02-26T11:57:06.049924Z",
     "iopub.status.idle": "2021-02-26T11:57:14.003588Z",
     "shell.execute_reply": "2021-02-26T11:57:14.003058Z"
    },
    "papermill": {
     "duration": 8.041802,
     "end_time": "2021-02-26T11:57:14.003714",
     "exception": false,
     "start_time": "2021-02-26T11:57:05.961912",
     "status": "completed"
    },
    "tags": []
   },
   "outputs": [
    {
     "data": {
      "image/png": "[encoded data removed]",
      "text/plain": [
       "<Figure size 1296x2016 with 11 Axes>"
      ]
     },
     "metadata": {
      "needs_background": "light"
     },
     "output_type": "display_data"
    }
   ],
   "source": [
    "#hide_input\n",
    "df = dft_ct_new_cases.copy()\n",
    "df.loc['Total'] = df.sum()\n",
    "n = 5\n",
    "ax = []\n",
    "fig = plt.figure(figsize = (18,28))\n",
    "gs = fig.add_gridspec(n+2, 5)\n",
    "# gs = fig.add_gridspec(2, 3)\n",
    "ax1 = fig.add_subplot(gs[0, :])\n",
    "ef = df.loc['Total'].rename_axis('date').reset_index()\n",
    "ef['date'] = ef['date'].astype('datetime64[ns]')\n",
    "ax1.bar(ef.date,ef.Total,alpha=0.3,color='#007acc')\n",
    "ax1.plot(ef.date,ef.Total , marker=\"o\", color='#007acc')\n",
    "ax1.xaxis.set_major_locator(mdates.WeekdayLocator())\n",
    "ax1.xaxis.set_major_formatter(mdates.DateFormatter('%b %d'))\n",
    "ax1.text(0.02, 0.5,'India daily case count', transform = ax1.transAxes, fontsize=25);\n",
    "ax1.spines['right'].set_visible(False)\n",
    "ax1.spines['top'].set_visible(False)\n",
    "\n",
    "ax2 = fig.add_subplot(gs[1,0])\n",
    "ef = df.loc['Maharashtra'].rename_axis('date').reset_index()\n",
    "ef['date'] = ef['date'].astype('datetime64[ns]')\n",
    "\n",
    "ax2.bar(ef.date, ef.Maharashtra,color = '#007acc',alpha=0.5)\n",
    "ax2.xaxis.set_major_locator(mdates.WeekdayLocator())\n",
    "ax2.xaxis.set_major_formatter(mdates.DateFormatter('%b %d'))\n",
    "ax2.set_xticks(ax2.get_xticks()[::3])\n",
    "maxyval = ef.Maharashtra.max()\n",
    "ax2.set_ylim([0,maxyval])\n",
    "ax2.text(0.05, 0.9,'Maharashtra', transform = ax2.transAxes, fontsize=20);\n",
    "ax2.spines['right'].set_visible(False)\n",
    "ax2.spines['top'].set_visible(False)\n",
    "\n",
    "\n",
    "ax3 = fig.add_subplot(gs[1,1])\n",
    "ef = df.loc['Tamil Nadu'].rename_axis('date').reset_index()\n",
    "ef['date'] = ef['date'].astype('datetime64[ns]')\n",
    "ax3.bar(ef.date, ef['Tamil Nadu'],color = '#007acc',alpha=0.5,)\n",
    "ax3.xaxis.set_major_locator(mdates.WeekdayLocator())\n",
    "ax3.xaxis.set_major_formatter(mdates.DateFormatter('%b %d'))\n",
    "ax3.set_xticks(ax3.get_xticks()[::3])\n",
    "ax3.text(0.05, 0.9,'Tamil Nadu', transform = ax3.transAxes, fontsize=20);\n",
    "ax3.spines['right'].set_visible(False)\n",
    "ax3.spines['top'].set_visible(False)\n",
    "\n",
    "ax5 = fig.add_subplot(gs[1,3])\n",
    "ef = df.loc['Telangana'].rename_axis('date').reset_index()\n",
    "ef['date'] = ef['date'].astype('datetime64[ns]')\n",
    "ax5.bar(ef.date, ef['Telangana'],color = '#007acc',alpha=0.5,)\n",
    "ax5.xaxis.set_major_locator(mdates.WeekdayLocator())\n",
    "ax5.xaxis.set_major_formatter(mdates.DateFormatter('%b %d'))\n",
    "ax5.set_xticks(ax5.get_xticks()[::3])\n",
    "ax5.text(0.05, 0.9,'Telangana', transform = ax5.transAxes, fontsize=20);\n",
    "ax5.spines['right'].set_visible(False)\n",
    "ax5.spines['top'].set_visible(False)\n",
    "\n",
    "ax6 = fig.add_subplot(gs[1,4])\n",
    "ef = df.loc['Andhra Pradesh'].rename_axis('date').reset_index()\n",
    "ef['date'] = ef['date'].astype('datetime64[ns]')\n",
    "ax6.bar(ef.date, ef['Andhra Pradesh'],color = '#007acc',alpha=0.5,)\n",
    "ax6.xaxis.set_major_locator(mdates.WeekdayLocator())\n",
    "ax6.xaxis.set_major_formatter(mdates.DateFormatter('%b %d'))\n",
    "ax6.set_xticks(ax6.get_xticks()[::3])\n",
    "ax6.text(0.05, 1,'Andhra Pradesh', transform = ax6.transAxes, fontsize=20);\n",
    "ax6.spines['right'].set_visible(False)\n",
    "ax6.spines['top'].set_visible(False)\n",
    "\n",
    "ax4 = fig.add_subplot(gs[1,2])\n",
    "ef = df.loc['Delhi'].rename_axis('date').reset_index()\n",
    "ef['date'] = ef['date'].astype('datetime64[ns]')\n",
    "ax4.bar(ef.date, ef.Delhi,color = '#007acc',alpha=0.5)\n",
    "ax4.set_xticks([])\n",
    "ax4.xaxis.set_major_locator(mdates.WeekdayLocator())\n",
    "ax4.xaxis.set_major_formatter(mdates.DateFormatter('%b %d'))\n",
    "ax4.set_xticks(ax4.get_xticks()[::3])\n",
    "ax4.spines['right'].set_visible(False)\n",
    "ax4.spines['top'].set_visible(False)\n",
    "\n",
    "ax4.text(0.05, 1,'Delhi', transform = ax4.transAxes, fontsize=20)\n",
    "\n",
    "for i in range(n):\n",
    "    \n",
    "    ax.append(fig.add_subplot(gs[i+2,:]))\n",
    "    ef = df.iloc[i+3].rename_axis('date').reset_index()\n",
    "    ef['date'] = ef['date'].astype('datetime64[ns]')\n",
    "    ax[i].bar(ef.date,ef.iloc[:,-1],color = '#007acc',alpha=0.3)\n",
    "    ax[i].plot(ef.date,ef.iloc[:,-1],marker='o',color='#007acc')\n",
    "    ax[i].text(0.02,0.5,f'{ef.columns.values[-1]}',transform = ax[i].transAxes, fontsize = 20);\n",
    "    ax[i].xaxis.set_major_locator(mdates.WeekdayLocator())\n",
    "    ax[i].xaxis.set_major_formatter(mdates.DateFormatter('%b %d'))\n",
    "    ax[i].set_ylim([0,7000])\n",
    "    ax[i].spines['right'].set_visible(False)\n",
    "    ax[i].spines['top'].set_visible(False)\n",
    "plt.tight_layout()\n"
   ]
  },
  {
   "cell_type": "code",
   "execution_count": 20,
   "id": "dress-forge",
   "metadata": {
    "execution": {
     "iopub.execute_input": "2021-02-26T11:57:14.106551Z",
     "iopub.status.busy": "2021-02-26T11:57:14.105900Z",
     "iopub.status.idle": "2021-02-26T11:57:14.108105Z",
     "shell.execute_reply": "2021-02-26T11:57:14.108571Z"
    },
    "papermill": {
     "duration": 0.071904,
     "end_time": "2021-02-26T11:57:14.108720",
     "exception": false,
     "start_time": "2021-02-26T11:57:14.036816",
     "status": "completed"
    },
    "tags": []
   },
   "outputs": [
    {
     "name": "stdout",
     "output_type": "stream",
     "text": [
      "                                   states    Cases  Deaths   PCases  PDeaths  Cases (+)  Deaths (+)  Fatality Rate\n",
      "                              Maharashtra  2129821   51993  2129821    51993          0           0           2.44\n",
      "                                   Kerala  1048687    4151  1048687     4151          0           0           0.40\n",
      "                                Karnataka   949636   12316   949636    12316          0           0           1.30\n",
      "                           Andhra Pradesh   889585    7168   889585     7168          0           0           0.81\n",
      "                               Tamil Nadu   850096   12483   850096    12483          0           0           1.47\n",
      "                                    Delhi   638593   10905   638593    10905          0           0           1.71\n",
      "                            Uttar Pradesh   603232    8723   603232     8723          0           0           1.45\n",
      "                              West Bengal   574500   10260   574500    10260          0           0           1.79\n",
      "                                   Odisha   337018    1968   336924     1968         94           0           0.58\n",
      "                                Rajasthan   319929    2785   319929     2785          0           0           0.87\n",
      "                             Chhattisgarh   311900    3821   311900     3821          0           0           1.23\n",
      "                                Telangana   298451    1632   298264     1630        187           2           0.55\n",
      "                                  Haryana   270263    3043   270263     3043          0           0           1.13\n",
      "                                  Gujarat   268571    4408   268571     4408          0           0           1.64\n",
      "                                    Bihar   262418    1539   262418     1539          0           0           0.59\n",
      "                           Madhya Pradesh   260681    3859   260681     3859          0           0           1.48\n",
      "                                    Assam   217484    1091   217484     1091          0           0           0.50\n",
      "                                   Punjab   180382    5799   180382     5799          0           0           3.21\n",
      "                        Jammu and Kashmir   126201    1955   126201     1955          0           0           1.55\n",
      "                                Jharkhand   119795    1087   119795     1087          0           0           0.91\n",
      "                              Uttarakhand    96837    1690    96837     1690          0           0           1.75\n",
      "                         Himachal Pradesh    58499     982    58499      982          0           0           1.68\n",
      "                                      Goa    54771     791    54771      791          0           0           1.44\n",
      "                               Puducherry    39677     667    39677      667          0           0           1.68\n",
      "                                  Tripura    33404     388    33397      388          7           0           1.16\n",
      "                                  Manipur    29253     373    29253      373          0           0           1.28\n",
      "                               Chandigarh    21590     351    21590      351          0           0           1.63\n",
      "                        Arunachal Pradesh    16836      56    16836       56          0           0           0.33\n",
      "                                Meghalaya    13961     148    13961      148          0           0           1.06\n",
      "                                 Nagaland    12198      91    12198       91          0           0           0.75\n",
      "                                   Ladakh     9814     130     9814      130          0           0           1.32\n",
      "                                   Sikkim     6133     135     6133      135          0           0           2.20\n",
      "              Andaman and Nicobar Islands     5016      62     5016       62          0           0           1.24\n",
      "                                  Mizoram     4413      10     4413       10          0           0           0.23\n",
      " Dadra and Nagar Haveli and Daman and Diu     3388       2     3387        2          1           0           0.06\n",
      "                              Lakshadweep      331       1      331        1          0           0           0.30\n"
     ]
    }
   ],
   "source": [
    "#hide_input\n",
    "print(df_table.to_string(index=False))"
   ]
  },
  {
   "cell_type": "code",
   "execution_count": null,
   "id": "quantitative-legend",
   "metadata": {
    "papermill": {
     "duration": 0.024847,
     "end_time": "2021-02-26T11:57:14.158566",
     "exception": false,
     "start_time": "2021-02-26T11:57:14.133719",
     "status": "completed"
    },
    "tags": []
   },
   "outputs": [],
   "source": []
  },
  {
   "cell_type": "code",
   "execution_count": null,
   "id": "distant-acoustic",
   "metadata": {
    "papermill": {
     "duration": 0.02468,
     "end_time": "2021-02-26T11:57:14.208213",
     "exception": false,
     "start_time": "2021-02-26T11:57:14.183533",
     "status": "completed"
    },
    "tags": []
   },
   "outputs": [],
   "source": []
  }
 ],
 "metadata": {
  "kernelspec": {
   "display_name": "Python 3",
   "language": "python",
   "name": "python3"
  },
  "language_info": {
   "codemirror_mode": {
    "name": "ipython",
    "version": 3
   },
   "file_extension": ".py",
   "mimetype": "text/x-python",
   "name": "python",
   "nbconvert_exporter": "python",
   "pygments_lexer": "ipython3",
   "version": "3.6.13"
  },
  "papermill": {
   "duration": 19.337861,
   "end_time": "2021-02-26T11:57:15.650506",
   "environment_variables": {},
   "exception": null,
   "input_path": "latest.ipynb",
   "output_path": "latest.ipynb",
   "parameters": {},
   "start_time": "2021-02-26T11:56:56.312645",
   "version": "2.1.2"
  }
 },
 "nbformat": 4,
 "nbformat_minor": 5
}