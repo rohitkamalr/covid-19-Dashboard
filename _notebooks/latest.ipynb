{
 "cells": [
  {
   "cell_type": "markdown",
   "metadata": {
    "papermill": {
     "duration": 0.019116,
     "end_time": "2020-10-24T14:26:41.680892",
     "exception": false,
     "start_time": "2020-10-24T14:26:41.661776",
     "status": "completed"
    },
    "tags": []
   },
   "source": [
    "# Latest COVID-19 India Matplotlib Overview"
   ]
  },
  {
   "cell_type": "code",
   "execution_count": 1,
   "metadata": {
    "execution": {
     "iopub.execute_input": "2020-10-24T14:26:41.720134Z",
     "iopub.status.busy": "2020-10-24T14:26:41.719491Z",
     "iopub.status.idle": "2020-10-24T14:26:42.360265Z",
     "shell.execute_reply": "2020-10-24T14:26:42.359087Z"
    },
    "papermill": {
     "duration": 0.663504,
     "end_time": "2020-10-24T14:26:42.360456",
     "exception": false,
     "start_time": "2020-10-24T14:26:41.696952",
     "status": "completed"
    },
    "tags": []
   },
   "outputs": [],
   "source": [
    "#hide\n",
    "import pandas as pd\n",
    "import numpy as np\n",
    "import requests\n",
    "import json\n",
    "import matplotlib.pyplot as plt\n",
    "import matplotlib.dates as mdates\n",
    "import matplotlib as mpl\n",
    "from IPython.core.display import display,HTML\n",
    "%matplotlib inline\n",
    "from datetime import date"
   ]
  },
  {
   "cell_type": "code",
   "execution_count": 2,
   "metadata": {
    "execution": {
     "iopub.execute_input": "2020-10-24T14:26:42.399879Z",
     "iopub.status.busy": "2020-10-24T14:26:42.398686Z",
     "iopub.status.idle": "2020-10-24T14:26:42.885002Z",
     "shell.execute_reply": "2020-10-24T14:26:42.884465Z"
    },
    "papermill": {
     "duration": 0.508958,
     "end_time": "2020-10-24T14:26:42.885153",
     "exception": false,
     "start_time": "2020-10-24T14:26:42.376195",
     "status": "completed"
    },
    "tags": []
   },
   "outputs": [],
   "source": [
    "#hide\n",
    "df  = pd.read_csv('https://api.covid19india.org/csv/latest/states.csv')\n",
    "df = df[['Date','State','Confirmed','Deceased']]\n",
    "df = df.rename(columns={'Confirmed':'Cases', \"Deceased\":'Deaths'})\n",
    "df_cases = df[[\"Date\",'State','Cases']]\n",
    "df_deaths = df[['Date','State','Deaths']]\n",
    "df_cases1 = df_cases.groupby('Date')\n",
    "df_deaths1= df_deaths.groupby('Date')"
   ]
  },
  {
   "cell_type": "code",
   "execution_count": 3,
   "metadata": {
    "execution": {
     "iopub.execute_input": "2020-10-24T14:26:42.922439Z",
     "iopub.status.busy": "2020-10-24T14:26:42.921840Z",
     "iopub.status.idle": "2020-10-24T14:26:42.940984Z",
     "shell.execute_reply": "2020-10-24T14:26:42.940458Z"
    },
    "papermill": {
     "duration": 0.039805,
     "end_time": "2020-10-24T14:26:42.941135",
     "exception": false,
     "start_time": "2020-10-24T14:26:42.901330",
     "status": "completed"
    },
    "tags": []
   },
   "outputs": [],
   "source": [
    "#hide\n",
    "df_snap = pd.read_csv('data/SnapshotCases-28-July.csv')\n",
    "arr_states = df_snap['states'].unique()\n",
    "arr_dates = df['Date'].unique()\n",
    "df_snap = df_snap.set_index('states')"
   ]
  },
  {
   "cell_type": "code",
   "execution_count": 4,
   "metadata": {
    "execution": {
     "iopub.execute_input": "2020-10-24T14:26:42.980181Z",
     "iopub.status.busy": "2020-10-24T14:26:42.979501Z",
     "iopub.status.idle": "2020-10-24T14:26:42.981795Z",
     "shell.execute_reply": "2020-10-24T14:26:42.982356Z"
    },
    "papermill": {
     "duration": 0.02605,
     "end_time": "2020-10-24T14:26:42.982597",
     "exception": false,
     "start_time": "2020-10-24T14:26:42.956547",
     "status": "completed"
    },
    "tags": []
   },
   "outputs": [
    {
     "data": {
      "text/plain": [
       "array(['Andaman and Nicobar Islands', 'Andhra Pradesh',\n",
       "       'Arunachal Pradesh', 'Assam', 'Bihar', 'Chandigarh',\n",
       "       'Dadra and Nagar Haveli and Daman and Diu', 'Delhi', 'Goa',\n",
       "       'Gujarat', 'Haryana', 'Himachal Pradesh', 'Jammu and Kashmir',\n",
       "       'Jharkhand', 'Karnataka', 'Kerala', 'Lakshadweep',\n",
       "       'Madhya Pradesh', 'Maharashtra', 'Manipur', 'Meghalaya', 'Mizoram',\n",
       "       'Nagaland', 'Odisha', 'Puducherry', 'Punjab', 'Rajasthan',\n",
       "       'Sikkim', 'Tamil Nadu', 'Telangana', 'Tripura', 'Uttar Pradesh',\n",
       "       'West Bengal', 'Chhattisgarh', 'Ladakh', 'Uttarakhand'],\n",
       "      dtype=object)"
      ]
     },
     "execution_count": 4,
     "metadata": {},
     "output_type": "execute_result"
    }
   ],
   "source": [
    "#hide\n",
    "arr_states[-9] = 'Puducherry'\n",
    "arr_states[-10] = 'Odisha'\n",
    "arr_states[6] = 'Dadra and Nagar Haveli and Daman and Diu'\n",
    "arr_states = np.append(arr_states,np.array(['Chhattisgarh','Ladakh','Uttarakhand']))\n",
    "arr_states"
   ]
  },
  {
   "cell_type": "code",
   "execution_count": 5,
   "metadata": {
    "execution": {
     "iopub.execute_input": "2020-10-24T14:26:43.029239Z",
     "iopub.status.busy": "2020-10-24T14:26:43.028252Z",
     "iopub.status.idle": "2020-10-24T14:26:43.036586Z",
     "shell.execute_reply": "2020-10-24T14:26:43.036076Z"
    },
    "papermill": {
     "duration": 0.038266,
     "end_time": "2020-10-24T14:26:43.036734",
     "exception": false,
     "start_time": "2020-10-24T14:26:42.998468",
     "status": "completed"
    },
    "tags": []
   },
   "outputs": [],
   "source": [
    "#hide\n",
    "dates = []\n",
    "for i in arr_dates:\n",
    "    if i>='2020-07-01':\n",
    "        dates.append(i)\n",
    "dict = {'states':dates}\n",
    "for i in arr_states:\n",
    "    dict[i] = [0]*len(dates)\n",
    "dft_cases = pd.DataFrame(dict)\n",
    "dft_deaths = pd.DataFrame(dict)\n"
   ]
  },
  {
   "cell_type": "code",
   "execution_count": 6,
   "metadata": {
    "execution": {
     "iopub.execute_input": "2020-10-24T14:26:43.079859Z",
     "iopub.status.busy": "2020-10-24T14:26:43.079205Z",
     "iopub.status.idle": "2020-10-24T14:26:44.703392Z",
     "shell.execute_reply": "2020-10-24T14:26:44.702766Z"
    },
    "papermill": {
     "duration": 1.648336,
     "end_time": "2020-10-24T14:26:44.703552",
     "exception": false,
     "start_time": "2020-10-24T14:26:43.055216",
     "status": "completed"
    },
    "tags": []
   },
   "outputs": [],
   "source": [
    "#hide\n",
    "for i in range(len(dates)):\n",
    "    df1_deaths = df_deaths1.get_group(dates[i])\n",
    "    for j in range(len(df1_deaths.index)):\n",
    "        if df1_deaths.iloc[j,1] in arr_states:\n",
    "            dft_deaths.loc[i,df1_deaths.iloc[j,1]] = df1_deaths.iloc[j,2]\n",
    "dft_deaths = dft_deaths.set_index('states')"
   ]
  },
  {
   "cell_type": "code",
   "execution_count": 7,
   "metadata": {
    "execution": {
     "iopub.execute_input": "2020-10-24T14:26:44.749264Z",
     "iopub.status.busy": "2020-10-24T14:26:44.748595Z",
     "iopub.status.idle": "2020-10-24T14:26:46.327846Z",
     "shell.execute_reply": "2020-10-24T14:26:46.327302Z"
    },
    "papermill": {
     "duration": 1.607793,
     "end_time": "2020-10-24T14:26:46.327994",
     "exception": false,
     "start_time": "2020-10-24T14:26:44.720201",
     "status": "completed"
    },
    "tags": []
   },
   "outputs": [],
   "source": [
    "#hide\n",
    "for i in range(len(dates)):\n",
    "    df1_cases = df_cases1.get_group(dates[i])\n",
    "    for j in range(len(df1_cases.index)):\n",
    "        if df1_cases.iloc[j,1] in arr_states:\n",
    "            dft_cases.loc[i,df1_cases.iloc[j,1]] = df1_cases.iloc[j,2]\n",
    "dft_cases = dft_cases.set_index('states')"
   ]
  },
  {
   "cell_type": "code",
   "execution_count": 8,
   "metadata": {
    "execution": {
     "iopub.execute_input": "2020-10-24T14:26:46.372230Z",
     "iopub.status.busy": "2020-10-24T14:26:46.371492Z",
     "iopub.status.idle": "2020-10-24T14:26:46.373712Z",
     "shell.execute_reply": "2020-10-24T14:26:46.374175Z"
    },
    "papermill": {
     "duration": 0.027329,
     "end_time": "2020-10-24T14:26:46.374341",
     "exception": false,
     "start_time": "2020-10-24T14:26:46.347012",
     "status": "completed"
    },
    "tags": []
   },
   "outputs": [],
   "source": [
    "#hide\n",
    "dft_cases = dft_cases.T\n",
    "dft_deaths = dft_deaths.T\n",
    "dt_today = dates[-1]\n",
    "dt_yday = dates[-2]"
   ]
  },
  {
   "cell_type": "code",
   "execution_count": 9,
   "metadata": {
    "execution": {
     "iopub.execute_input": "2020-10-24T14:26:46.414785Z",
     "iopub.status.busy": "2020-10-24T14:26:46.414131Z",
     "iopub.status.idle": "2020-10-24T14:26:46.418371Z",
     "shell.execute_reply": "2020-10-24T14:26:46.417884Z"
    },
    "papermill": {
     "duration": 0.028416,
     "end_time": "2020-10-24T14:26:46.418511",
     "exception": false,
     "start_time": "2020-10-24T14:26:46.390095",
     "status": "completed"
    },
    "tags": []
   },
   "outputs": [],
   "source": [
    "#hide\n",
    "dft_cases = dft_cases.reset_index()\n",
    "dft_deaths = dft_deaths.reset_index()\n",
    "dft_cases = dft_cases.rename(columns = {'index':'state'})\n",
    "dft_deaths = dft_deaths.rename(columns = {'index':'state'})"
   ]
  },
  {
   "cell_type": "code",
   "execution_count": 10,
   "metadata": {
    "execution": {
     "iopub.execute_input": "2020-10-24T14:26:46.461376Z",
     "iopub.status.busy": "2020-10-24T14:26:46.460755Z",
     "iopub.status.idle": "2020-10-24T14:26:46.464900Z",
     "shell.execute_reply": "2020-10-24T14:26:46.464407Z"
    },
    "papermill": {
     "duration": 0.030861,
     "end_time": "2020-10-24T14:26:46.465040",
     "exception": false,
     "start_time": "2020-10-24T14:26:46.434179",
     "status": "completed"
    },
    "tags": []
   },
   "outputs": [],
   "source": [
    "#hide\n",
    "dfc_cases = dft_cases.groupby('state')[dt_today].sum()\n",
    "dfc_deaths = dft_deaths.groupby('state')[dt_today].sum()\n",
    "dfp_cases = dft_cases.groupby('state')[dt_yday].sum()\n",
    "dfp_deaths = dft_deaths.groupby('state')[dt_yday].sum()"
   ]
  },
  {
   "cell_type": "code",
   "execution_count": 11,
   "metadata": {
    "execution": {
     "iopub.execute_input": "2020-10-24T14:26:46.513235Z",
     "iopub.status.busy": "2020-10-24T14:26:46.512583Z",
     "iopub.status.idle": "2020-10-24T14:26:46.519266Z",
     "shell.execute_reply": "2020-10-24T14:26:46.518742Z"
    },
    "papermill": {
     "duration": 0.037739,
     "end_time": "2020-10-24T14:26:46.519417",
     "exception": false,
     "start_time": "2020-10-24T14:26:46.481678",
     "status": "completed"
    },
    "tags": []
   },
   "outputs": [
    {
     "data": {
      "text/html": [
       "<div>\n",
       "<style scoped>\n",
       "    .dataframe tbody tr th:only-of-type {\n",
       "        vertical-align: middle;\n",
       "    }\n",
       "\n",
       "    .dataframe tbody tr th {\n",
       "        vertical-align: top;\n",
       "    }\n",
       "\n",
       "    .dataframe thead th {\n",
       "        text-align: right;\n",
       "    }\n",
       "</style>\n",
       "<table border=\"1\" class=\"dataframe\">\n",
       "  <thead>\n",
       "    <tr style=\"text-align: right;\">\n",
       "      <th></th>\n",
       "      <th>states</th>\n",
       "      <th>Cases</th>\n",
       "      <th>Deaths</th>\n",
       "      <th>PCases</th>\n",
       "      <th>PDeaths</th>\n",
       "    </tr>\n",
       "  </thead>\n",
       "  <tbody>\n",
       "    <tr>\n",
       "      <th>0</th>\n",
       "      <td>Maharashtra</td>\n",
       "      <td>1638961</td>\n",
       "      <td>43152</td>\n",
       "      <td>1632544</td>\n",
       "      <td>43015</td>\n",
       "    </tr>\n",
       "    <tr>\n",
       "      <th>1</th>\n",
       "      <td>Andhra Pradesh</td>\n",
       "      <td>800684</td>\n",
       "      <td>6544</td>\n",
       "      <td>800684</td>\n",
       "      <td>6544</td>\n",
       "    </tr>\n",
       "    <tr>\n",
       "      <th>2</th>\n",
       "      <td>Karnataka</td>\n",
       "      <td>793907</td>\n",
       "      <td>10821</td>\n",
       "      <td>793907</td>\n",
       "      <td>10821</td>\n",
       "    </tr>\n",
       "    <tr>\n",
       "      <th>3</th>\n",
       "      <td>Tamil Nadu</td>\n",
       "      <td>703250</td>\n",
       "      <td>10858</td>\n",
       "      <td>703250</td>\n",
       "      <td>10858</td>\n",
       "    </tr>\n",
       "    <tr>\n",
       "      <th>4</th>\n",
       "      <td>Uttar Pradesh</td>\n",
       "      <td>466060</td>\n",
       "      <td>6830</td>\n",
       "      <td>466060</td>\n",
       "      <td>6830</td>\n",
       "    </tr>\n",
       "  </tbody>\n",
       "</table>\n",
       "</div>"
      ],
      "text/plain": [
       "           states    Cases  Deaths   PCases  PDeaths\n",
       "0     Maharashtra  1638961   43152  1632544    43015\n",
       "1  Andhra Pradesh   800684    6544   800684     6544\n",
       "2       Karnataka   793907   10821   793907    10821\n",
       "3      Tamil Nadu   703250   10858   703250    10858\n",
       "4   Uttar Pradesh   466060    6830   466060     6830"
      ]
     },
     "execution_count": 11,
     "metadata": {},
     "output_type": "execute_result"
    }
   ],
   "source": [
    "#hide\n",
    "df_table = pd.DataFrame({'states': dfc_cases.index, 'Cases': dfc_cases.values, 'Deaths': dfc_deaths.values, 'PCases': dfp_cases.values, 'PDeaths': dfp_deaths.values}).set_index('states')\n",
    "df_table = df_table.sort_values(by = ['Cases','Deaths'], ascending = [False, False])\n",
    "df_table = df_table.reset_index()\n",
    "df_table.head()"
   ]
  },
  {
   "cell_type": "code",
   "execution_count": 12,
   "metadata": {
    "execution": {
     "iopub.execute_input": "2020-10-24T14:26:46.557072Z",
     "iopub.status.busy": "2020-10-24T14:26:46.556462Z",
     "iopub.status.idle": "2020-10-24T14:26:46.565743Z",
     "shell.execute_reply": "2020-10-24T14:26:46.565235Z"
    },
    "papermill": {
     "duration": 0.030607,
     "end_time": "2020-10-24T14:26:46.565883",
     "exception": false,
     "start_time": "2020-10-24T14:26:46.535276",
     "status": "completed"
    },
    "tags": []
   },
   "outputs": [],
   "source": [
    "#hide\n",
    "for c in 'Cases, Deaths'.split(', '):\n",
    "    df_table[f'{c} (+)'] = (df_table[c] - df_table[f'P{c}']).clip(0)\n",
    "df_table['Fatality Rate'] = (100* df_table['Deaths']/ df_table['Cases']).round(2)"
   ]
  },
  {
   "cell_type": "code",
   "execution_count": 13,
   "metadata": {
    "execution": {
     "iopub.execute_input": "2020-10-24T14:26:46.610269Z",
     "iopub.status.busy": "2020-10-24T14:26:46.609618Z",
     "iopub.status.idle": "2020-10-24T14:26:46.612019Z",
     "shell.execute_reply": "2020-10-24T14:26:46.612500Z"
    },
    "papermill": {
     "duration": 0.030383,
     "end_time": "2020-10-24T14:26:46.612659",
     "exception": false,
     "start_time": "2020-10-24T14:26:46.582276",
     "status": "completed"
    },
    "tags": []
   },
   "outputs": [
    {
     "data": {
      "text/html": [
       "<div>\n",
       "<style scoped>\n",
       "    .dataframe tbody tr th:only-of-type {\n",
       "        vertical-align: middle;\n",
       "    }\n",
       "\n",
       "    .dataframe tbody tr th {\n",
       "        vertical-align: top;\n",
       "    }\n",
       "\n",
       "    .dataframe thead th {\n",
       "        text-align: right;\n",
       "    }\n",
       "</style>\n",
       "<table border=\"1\" class=\"dataframe\">\n",
       "  <thead>\n",
       "    <tr style=\"text-align: right;\">\n",
       "      <th></th>\n",
       "      <th>states</th>\n",
       "      <th>Cases</th>\n",
       "      <th>Deaths</th>\n",
       "      <th>PCases</th>\n",
       "      <th>PDeaths</th>\n",
       "      <th>Cases (+)</th>\n",
       "      <th>Deaths (+)</th>\n",
       "      <th>Fatality Rate</th>\n",
       "    </tr>\n",
       "  </thead>\n",
       "  <tbody>\n",
       "    <tr>\n",
       "      <th>0</th>\n",
       "      <td>Maharashtra</td>\n",
       "      <td>1638961</td>\n",
       "      <td>43152</td>\n",
       "      <td>1632544</td>\n",
       "      <td>43015</td>\n",
       "      <td>6417</td>\n",
       "      <td>137</td>\n",
       "      <td>2.63</td>\n",
       "    </tr>\n",
       "    <tr>\n",
       "      <th>1</th>\n",
       "      <td>Andhra Pradesh</td>\n",
       "      <td>800684</td>\n",
       "      <td>6544</td>\n",
       "      <td>800684</td>\n",
       "      <td>6544</td>\n",
       "      <td>0</td>\n",
       "      <td>0</td>\n",
       "      <td>0.82</td>\n",
       "    </tr>\n",
       "    <tr>\n",
       "      <th>2</th>\n",
       "      <td>Karnataka</td>\n",
       "      <td>793907</td>\n",
       "      <td>10821</td>\n",
       "      <td>793907</td>\n",
       "      <td>10821</td>\n",
       "      <td>0</td>\n",
       "      <td>0</td>\n",
       "      <td>1.36</td>\n",
       "    </tr>\n",
       "    <tr>\n",
       "      <th>3</th>\n",
       "      <td>Tamil Nadu</td>\n",
       "      <td>703250</td>\n",
       "      <td>10858</td>\n",
       "      <td>703250</td>\n",
       "      <td>10858</td>\n",
       "      <td>0</td>\n",
       "      <td>0</td>\n",
       "      <td>1.54</td>\n",
       "    </tr>\n",
       "    <tr>\n",
       "      <th>4</th>\n",
       "      <td>Uttar Pradesh</td>\n",
       "      <td>466060</td>\n",
       "      <td>6830</td>\n",
       "      <td>466060</td>\n",
       "      <td>6830</td>\n",
       "      <td>0</td>\n",
       "      <td>0</td>\n",
       "      <td>1.47</td>\n",
       "    </tr>\n",
       "  </tbody>\n",
       "</table>\n",
       "</div>"
      ],
      "text/plain": [
       "           states    Cases  Deaths   PCases  PDeaths  Cases (+)  Deaths (+)  \\\n",
       "0     Maharashtra  1638961   43152  1632544    43015       6417         137   \n",
       "1  Andhra Pradesh   800684    6544   800684     6544          0           0   \n",
       "2       Karnataka   793907   10821   793907    10821          0           0   \n",
       "3      Tamil Nadu   703250   10858   703250    10858          0           0   \n",
       "4   Uttar Pradesh   466060    6830   466060     6830          0           0   \n",
       "\n",
       "   Fatality Rate  \n",
       "0           2.63  \n",
       "1           0.82  \n",
       "2           1.36  \n",
       "3           1.54  \n",
       "4           1.47  "
      ]
     },
     "execution_count": 13,
     "metadata": {},
     "output_type": "execute_result"
    }
   ],
   "source": [
    "#hide\n",
    "df_table.head()"
   ]
  },
  {
   "cell_type": "code",
   "execution_count": 14,
   "metadata": {
    "execution": {
     "iopub.execute_input": "2020-10-24T14:26:46.652935Z",
     "iopub.status.busy": "2020-10-24T14:26:46.652314Z",
     "iopub.status.idle": "2020-10-24T14:26:46.668861Z",
     "shell.execute_reply": "2020-10-24T14:26:46.669348Z"
    },
    "papermill": {
     "duration": 0.03972,
     "end_time": "2020-10-24T14:26:46.669514",
     "exception": false,
     "start_time": "2020-10-24T14:26:46.629794",
     "status": "completed"
    },
    "tags": []
   },
   "outputs": [
    {
     "data": {
      "text/plain": [
       "{'updated': '2020-10-24',\n",
       " 'since': '2020-10-23',\n",
       " 'Cases': 7824157,\n",
       " 'PCases': 7813668,\n",
       " 'Deaths': 118167,\n",
       " 'PDeaths': 117992,\n",
       " 'Cases (+)': 10489,\n",
       " 'Deaths (+)': 175}"
      ]
     },
     "execution_count": 14,
     "metadata": {},
     "output_type": "execute_result"
    }
   ],
   "source": [
    "#hide\n",
    "summary = {'updated':dates[-1], 'since':dates[-2]}\n",
    "list_names = ['Cases', 'PCases', 'Deaths', 'PDeaths', 'Cases (+)', 'Deaths (+)']\n",
    "for name in list_names:\n",
    "    summary[name] = df_table.sum()[name]\n",
    "summary"
   ]
  },
  {
   "cell_type": "code",
   "execution_count": 15,
   "metadata": {
    "execution": {
     "iopub.execute_input": "2020-10-24T14:26:46.710110Z",
     "iopub.status.busy": "2020-10-24T14:26:46.709497Z",
     "iopub.status.idle": "2020-10-24T14:26:46.712062Z",
     "shell.execute_reply": "2020-10-24T14:26:46.712628Z"
    },
    "papermill": {
     "duration": 0.025871,
     "end_time": "2020-10-24T14:26:46.712787",
     "exception": false,
     "start_time": "2020-10-24T14:26:46.686916",
     "status": "completed"
    },
    "tags": []
   },
   "outputs": [],
   "source": [
    "#hide\n",
    "overview = '''\n",
    "<!-- #######  HTML!! #########-->\n",
    "<h1 style=\"color: #5e9ca0; text-align: center;\">India</h1>\n",
    "<p style=\"text-align: center;\">Last update: <strong>{update}</strong></p>\n",
    "<p style=\"text-align: center;\">Confirmed cases:</p>\n",
    "<p style=\"text-align: center;font-size:24px;\">{cases} (<span style=\"color: #ff0000;\">+{new}</span>)</p>\n",
    "<p style=\"text-align: center;\">Confirmed deaths:</p>\n",
    "<p style=\"text-align: center;font-size:24px;\">{deaths} (<span style=\"color: #ff0000;\">+{dnew}</span>)</p>\n",
    "'''"
   ]
  },
  {
   "cell_type": "code",
   "execution_count": 16,
   "metadata": {
    "execution": {
     "iopub.execute_input": "2020-10-24T14:26:46.754365Z",
     "iopub.status.busy": "2020-10-24T14:26:46.753735Z",
     "iopub.status.idle": "2020-10-24T14:26:46.757962Z",
     "shell.execute_reply": "2020-10-24T14:26:46.757447Z"
    },
    "papermill": {
     "duration": 0.028474,
     "end_time": "2020-10-24T14:26:46.758100",
     "exception": false,
     "start_time": "2020-10-24T14:26:46.729626",
     "status": "completed"
    },
    "tags": []
   },
   "outputs": [
    {
     "data": {
      "text/html": [
       "\n",
       "<!-- #######  HTML!! #########-->\n",
       "<h1 style=\"color: #5e9ca0; text-align: center;\">India</h1>\n",
       "<p style=\"text-align: center;\">Last update: <strong>2020-10-24</strong></p>\n",
       "<p style=\"text-align: center;\">Confirmed cases:</p>\n",
       "<p style=\"text-align: center;font-size:24px;\">7824157 (<span style=\"color: #ff0000;\">+10489</span>)</p>\n",
       "<p style=\"text-align: center;\">Confirmed deaths:</p>\n",
       "<p style=\"text-align: center;font-size:24px;\">118167 (<span style=\"color: #ff0000;\">+175</span>)</p>\n"
      ],
      "text/plain": [
       "<IPython.core.display.HTML object>"
      ]
     },
     "metadata": {},
     "output_type": "display_data"
    }
   ],
   "source": [
    "#hide_input\n",
    "update = summary['updated']\n",
    "cases = summary['Cases']\n",
    "new = summary['Cases (+)']\n",
    "deaths = summary['Deaths']\n",
    "dnew = summary['Deaths (+)']\n",
    "\n",
    "html = HTML(overview.format(update=update, cases=cases,new=new,deaths=deaths,dnew=dnew))\n",
    "\n",
    "display(html)"
   ]
  },
  {
   "cell_type": "code",
   "execution_count": 17,
   "metadata": {
    "execution": {
     "iopub.execute_input": "2020-10-24T14:26:46.802759Z",
     "iopub.status.busy": "2020-10-24T14:26:46.802133Z",
     "iopub.status.idle": "2020-10-24T14:26:46.807416Z",
     "shell.execute_reply": "2020-10-24T14:26:46.807907Z"
    },
    "papermill": {
     "duration": 0.032642,
     "end_time": "2020-10-24T14:26:46.808075",
     "exception": false,
     "start_time": "2020-10-24T14:26:46.775433",
     "status": "completed"
    },
    "tags": []
   },
   "outputs": [],
   "source": [
    "#hide\n",
    "dt_cols = list(dft_cases.columns[1:])\n",
    "dft_ct_new_cases = dft_cases.groupby('state')[dt_cols].sum().diff(axis=1).fillna(0).astype(int)\n",
    "dft_ct_new_cases.sort_values(by = dates[-1], ascending = False,inplace = True)"
   ]
  },
  {
   "cell_type": "code",
   "execution_count": 18,
   "metadata": {
    "execution": {
     "iopub.execute_input": "2020-10-24T14:26:46.855308Z",
     "iopub.status.busy": "2020-10-24T14:26:46.854519Z",
     "iopub.status.idle": "2020-10-24T14:26:46.865467Z",
     "shell.execute_reply": "2020-10-24T14:26:46.864967Z"
    },
    "papermill": {
     "duration": 0.040033,
     "end_time": "2020-10-24T14:26:46.865610",
     "exception": false,
     "start_time": "2020-10-24T14:26:46.825577",
     "status": "completed"
    },
    "tags": []
   },
   "outputs": [
    {
     "data": {
      "text/html": [
       "<div>\n",
       "<style scoped>\n",
       "    .dataframe tbody tr th:only-of-type {\n",
       "        vertical-align: middle;\n",
       "    }\n",
       "\n",
       "    .dataframe tbody tr th {\n",
       "        vertical-align: top;\n",
       "    }\n",
       "\n",
       "    .dataframe thead th {\n",
       "        text-align: right;\n",
       "    }\n",
       "</style>\n",
       "<table border=\"1\" class=\"dataframe\">\n",
       "  <thead>\n",
       "    <tr style=\"text-align: right;\">\n",
       "      <th>states</th>\n",
       "      <th>2020-07-01</th>\n",
       "      <th>2020-07-02</th>\n",
       "      <th>2020-07-03</th>\n",
       "      <th>2020-07-04</th>\n",
       "      <th>2020-07-05</th>\n",
       "      <th>2020-07-06</th>\n",
       "      <th>2020-07-07</th>\n",
       "      <th>2020-07-08</th>\n",
       "      <th>2020-07-09</th>\n",
       "      <th>2020-07-10</th>\n",
       "      <th>...</th>\n",
       "      <th>2020-10-15</th>\n",
       "      <th>2020-10-16</th>\n",
       "      <th>2020-10-17</th>\n",
       "      <th>2020-10-18</th>\n",
       "      <th>2020-10-19</th>\n",
       "      <th>2020-10-20</th>\n",
       "      <th>2020-10-21</th>\n",
       "      <th>2020-10-22</th>\n",
       "      <th>2020-10-23</th>\n",
       "      <th>2020-10-24</th>\n",
       "    </tr>\n",
       "    <tr>\n",
       "      <th>state</th>\n",
       "      <th></th>\n",
       "      <th></th>\n",
       "      <th></th>\n",
       "      <th></th>\n",
       "      <th></th>\n",
       "      <th></th>\n",
       "      <th></th>\n",
       "      <th></th>\n",
       "      <th></th>\n",
       "      <th></th>\n",
       "      <th></th>\n",
       "      <th></th>\n",
       "      <th></th>\n",
       "      <th></th>\n",
       "      <th></th>\n",
       "      <th></th>\n",
       "      <th></th>\n",
       "      <th></th>\n",
       "      <th></th>\n",
       "      <th></th>\n",
       "      <th></th>\n",
       "    </tr>\n",
       "  </thead>\n",
       "  <tbody>\n",
       "    <tr>\n",
       "      <th>Maharashtra</th>\n",
       "      <td>0</td>\n",
       "      <td>6328</td>\n",
       "      <td>6364</td>\n",
       "      <td>7074</td>\n",
       "      <td>6555</td>\n",
       "      <td>5368</td>\n",
       "      <td>5134</td>\n",
       "      <td>6603</td>\n",
       "      <td>6875</td>\n",
       "      <td>7862</td>\n",
       "      <td>...</td>\n",
       "      <td>10226</td>\n",
       "      <td>11447</td>\n",
       "      <td>10259</td>\n",
       "      <td>9060</td>\n",
       "      <td>5984</td>\n",
       "      <td>8151</td>\n",
       "      <td>8142</td>\n",
       "      <td>7539</td>\n",
       "      <td>7347</td>\n",
       "      <td>6417</td>\n",
       "    </tr>\n",
       "    <tr>\n",
       "      <th>Odisha</th>\n",
       "      <td>0</td>\n",
       "      <td>229</td>\n",
       "      <td>561</td>\n",
       "      <td>495</td>\n",
       "      <td>469</td>\n",
       "      <td>456</td>\n",
       "      <td>571</td>\n",
       "      <td>527</td>\n",
       "      <td>577</td>\n",
       "      <td>755</td>\n",
       "      <td>...</td>\n",
       "      <td>2470</td>\n",
       "      <td>2138</td>\n",
       "      <td>2196</td>\n",
       "      <td>2019</td>\n",
       "      <td>1982</td>\n",
       "      <td>1904</td>\n",
       "      <td>1931</td>\n",
       "      <td>1913</td>\n",
       "      <td>1793</td>\n",
       "      <td>1695</td>\n",
       "    </tr>\n",
       "    <tr>\n",
       "      <th>Haryana</th>\n",
       "      <td>0</td>\n",
       "      <td>568</td>\n",
       "      <td>494</td>\n",
       "      <td>545</td>\n",
       "      <td>457</td>\n",
       "      <td>499</td>\n",
       "      <td>495</td>\n",
       "      <td>691</td>\n",
       "      <td>674</td>\n",
       "      <td>570</td>\n",
       "      <td>...</td>\n",
       "      <td>1199</td>\n",
       "      <td>1227</td>\n",
       "      <td>1148</td>\n",
       "      <td>952</td>\n",
       "      <td>1201</td>\n",
       "      <td>940</td>\n",
       "      <td>1193</td>\n",
       "      <td>1128</td>\n",
       "      <td>1270</td>\n",
       "      <td>1299</td>\n",
       "    </tr>\n",
       "    <tr>\n",
       "      <th>Gujarat</th>\n",
       "      <td>0</td>\n",
       "      <td>681</td>\n",
       "      <td>687</td>\n",
       "      <td>712</td>\n",
       "      <td>725</td>\n",
       "      <td>735</td>\n",
       "      <td>778</td>\n",
       "      <td>783</td>\n",
       "      <td>861</td>\n",
       "      <td>875</td>\n",
       "      <td>...</td>\n",
       "      <td>1185</td>\n",
       "      <td>1191</td>\n",
       "      <td>1161</td>\n",
       "      <td>1091</td>\n",
       "      <td>996</td>\n",
       "      <td>1126</td>\n",
       "      <td>1137</td>\n",
       "      <td>1136</td>\n",
       "      <td>1112</td>\n",
       "      <td>1021</td>\n",
       "    </tr>\n",
       "    <tr>\n",
       "      <th>Chandigarh</th>\n",
       "      <td>0</td>\n",
       "      <td>4</td>\n",
       "      <td>4</td>\n",
       "      <td>5</td>\n",
       "      <td>7</td>\n",
       "      <td>21</td>\n",
       "      <td>5</td>\n",
       "      <td>15</td>\n",
       "      <td>16</td>\n",
       "      <td>13</td>\n",
       "      <td>...</td>\n",
       "      <td>74</td>\n",
       "      <td>55</td>\n",
       "      <td>50</td>\n",
       "      <td>64</td>\n",
       "      <td>40</td>\n",
       "      <td>57</td>\n",
       "      <td>54</td>\n",
       "      <td>51</td>\n",
       "      <td>72</td>\n",
       "      <td>57</td>\n",
       "    </tr>\n",
       "  </tbody>\n",
       "</table>\n",
       "<p>5 rows × 116 columns</p>\n",
       "</div>"
      ],
      "text/plain": [
       "states       2020-07-01  2020-07-02  2020-07-03  2020-07-04  2020-07-05  \\\n",
       "state                                                                     \n",
       "Maharashtra           0        6328        6364        7074        6555   \n",
       "Odisha                0         229         561         495         469   \n",
       "Haryana               0         568         494         545         457   \n",
       "Gujarat               0         681         687         712         725   \n",
       "Chandigarh            0           4           4           5           7   \n",
       "\n",
       "states       2020-07-06  2020-07-07  2020-07-08  2020-07-09  2020-07-10  ...  \\\n",
       "state                                                                    ...   \n",
       "Maharashtra        5368        5134        6603        6875        7862  ...   \n",
       "Odisha              456         571         527         577         755  ...   \n",
       "Haryana             499         495         691         674         570  ...   \n",
       "Gujarat             735         778         783         861         875  ...   \n",
       "Chandigarh           21           5          15          16          13  ...   \n",
       "\n",
       "states       2020-10-15  2020-10-16  2020-10-17  2020-10-18  2020-10-19  \\\n",
       "state                                                                     \n",
       "Maharashtra       10226       11447       10259        9060        5984   \n",
       "Odisha             2470        2138        2196        2019        1982   \n",
       "Haryana            1199        1227        1148         952        1201   \n",
       "Gujarat            1185        1191        1161        1091         996   \n",
       "Chandigarh           74          55          50          64          40   \n",
       "\n",
       "states       2020-10-20  2020-10-21  2020-10-22  2020-10-23  2020-10-24  \n",
       "state                                                                    \n",
       "Maharashtra        8151        8142        7539        7347        6417  \n",
       "Odisha             1904        1931        1913        1793        1695  \n",
       "Haryana             940        1193        1128        1270        1299  \n",
       "Gujarat            1126        1137        1136        1112        1021  \n",
       "Chandigarh           57          54          51          72          57  \n",
       "\n",
       "[5 rows x 116 columns]"
      ]
     },
     "execution_count": 18,
     "metadata": {},
     "output_type": "execute_result"
    }
   ],
   "source": [
    "#hide\n",
    "dft_ct_new_cases.head()"
   ]
  },
  {
   "cell_type": "code",
   "execution_count": 19,
   "metadata": {
    "execution": {
     "iopub.execute_input": "2020-10-24T14:26:46.907504Z",
     "iopub.status.busy": "2020-10-24T14:26:46.906793Z",
     "iopub.status.idle": "2020-10-24T14:26:51.488673Z",
     "shell.execute_reply": "2020-10-24T14:26:51.488079Z"
    },
    "papermill": {
     "duration": 4.604796,
     "end_time": "2020-10-24T14:26:51.488832",
     "exception": false,
     "start_time": "2020-10-24T14:26:46.884036",
     "status": "completed"
    },
    "tags": []
   },
   "outputs": [
    {
     "data": {
      "image/png": "[encoded data removed]",
      "text/plain": [
       "<Figure size 1296x2016 with 11 Axes>"
      ]
     },
     "metadata": {
      "needs_background": "light"
     },
     "output_type": "display_data"
    }
   ],
   "source": [
    "#hide_input\n",
    "df = dft_ct_new_cases.copy()\n",
    "df.loc['Total'] = df.sum()\n",
    "n = 5\n",
    "ax = []\n",
    "fig = plt.figure(figsize = (18,28))\n",
    "gs = fig.add_gridspec(n+2, 5)\n",
    "# gs = fig.add_gridspec(2, 3)\n",
    "ax1 = fig.add_subplot(gs[0, :])\n",
    "ef = df.loc['Total'].rename_axis('date').reset_index()\n",
    "ef['date'] = ef['date'].astype('datetime64[ns]')\n",
    "ax1.bar(ef.date,ef.Total,alpha=0.3,color='#007acc')\n",
    "ax1.plot(ef.date,ef.Total , marker=\"o\", color='#007acc')\n",
    "ax1.xaxis.set_major_locator(mdates.WeekdayLocator())\n",
    "ax1.xaxis.set_major_formatter(mdates.DateFormatter('%b %d'))\n",
    "ax1.text(0.02, 0.5,'India daily case count', transform = ax1.transAxes, fontsize=25);\n",
    "ax1.spines['right'].set_visible(False)\n",
    "ax1.spines['top'].set_visible(False)\n",
    "\n",
    "ax2 = fig.add_subplot(gs[1,0])\n",
    "ef = df.loc['Maharashtra'].rename_axis('date').reset_index()\n",
    "ef['date'] = ef['date'].astype('datetime64[ns]')\n",
    "\n",
    "ax2.bar(ef.date, ef.Maharashtra,color = '#007acc',alpha=0.5)\n",
    "ax2.xaxis.set_major_locator(mdates.WeekdayLocator())\n",
    "ax2.xaxis.set_major_formatter(mdates.DateFormatter('%b %d'))\n",
    "ax2.set_xticks(ax2.get_xticks()[::3])\n",
    "maxyval = ef.Maharashtra.max()\n",
    "ax2.set_ylim([0,maxyval])\n",
    "ax2.text(0.05, 0.9,'Maharashtra', transform = ax2.transAxes, fontsize=20);\n",
    "ax2.spines['right'].set_visible(False)\n",
    "ax2.spines['top'].set_visible(False)\n",
    "\n",
    "\n",
    "ax3 = fig.add_subplot(gs[1,1])\n",
    "ef = df.loc['Tamil Nadu'].rename_axis('date').reset_index()\n",
    "ef['date'] = ef['date'].astype('datetime64[ns]')\n",
    "ax3.bar(ef.date, ef['Tamil Nadu'],color = '#007acc',alpha=0.5,)\n",
    "ax3.xaxis.set_major_locator(mdates.WeekdayLocator())\n",
    "ax3.xaxis.set_major_formatter(mdates.DateFormatter('%b %d'))\n",
    "ax3.set_xticks(ax3.get_xticks()[::3])\n",
    "ax3.text(0.05, 0.9,'Tamil Nadu', transform = ax3.transAxes, fontsize=20);\n",
    "ax3.spines['right'].set_visible(False)\n",
    "ax3.spines['top'].set_visible(False)\n",
    "\n",
    "ax5 = fig.add_subplot(gs[1,3])\n",
    "ef = df.loc['Telangana'].rename_axis('date').reset_index()\n",
    "ef['date'] = ef['date'].astype('datetime64[ns]')\n",
    "ax5.bar(ef.date, ef['Telangana'],color = '#007acc',alpha=0.5,)\n",
    "ax5.xaxis.set_major_locator(mdates.WeekdayLocator())\n",
    "ax5.xaxis.set_major_formatter(mdates.DateFormatter('%b %d'))\n",
    "ax5.set_xticks(ax5.get_xticks()[::3])\n",
    "ax5.text(0.05, 0.9,'Telangana', transform = ax5.transAxes, fontsize=20);\n",
    "ax5.spines['right'].set_visible(False)\n",
    "ax5.spines['top'].set_visible(False)\n",
    "\n",
    "ax6 = fig.add_subplot(gs[1,4])\n",
    "ef = df.loc['Andhra Pradesh'].rename_axis('date').reset_index()\n",
    "ef['date'] = ef['date'].astype('datetime64[ns]')\n",
    "ax6.bar(ef.date, ef['Andhra Pradesh'],color = '#007acc',alpha=0.5,)\n",
    "ax6.xaxis.set_major_locator(mdates.WeekdayLocator())\n",
    "ax6.xaxis.set_major_formatter(mdates.DateFormatter('%b %d'))\n",
    "ax6.set_xticks(ax6.get_xticks()[::3])\n",
    "ax6.text(0.05, 1,'Andhra Pradesh', transform = ax6.transAxes, fontsize=20);\n",
    "ax6.spines['right'].set_visible(False)\n",
    "ax6.spines['top'].set_visible(False)\n",
    "\n",
    "ax4 = fig.add_subplot(gs[1,2])\n",
    "ef = df.loc['Delhi'].rename_axis('date').reset_index()\n",
    "ef['date'] = ef['date'].astype('datetime64[ns]')\n",
    "ax4.bar(ef.date, ef.Delhi,color = '#007acc',alpha=0.5)\n",
    "ax4.set_xticks([])\n",
    "ax4.xaxis.set_major_locator(mdates.WeekdayLocator())\n",
    "ax4.xaxis.set_major_formatter(mdates.DateFormatter('%b %d'))\n",
    "ax4.set_xticks(ax4.get_xticks()[::3])\n",
    "ax4.spines['right'].set_visible(False)\n",
    "ax4.spines['top'].set_visible(False)\n",
    "\n",
    "ax4.text(0.05, 1,'Delhi', transform = ax4.transAxes, fontsize=20)\n",
    "\n",
    "for i in range(n):\n",
    "    \n",
    "    ax.append(fig.add_subplot(gs[i+2,:]))\n",
    "    ef = df.iloc[i+3].rename_axis('date').reset_index()\n",
    "    ef['date'] = ef['date'].astype('datetime64[ns]')\n",
    "    ax[i].bar(ef.date,ef.iloc[:,-1],color = '#007acc',alpha=0.3)\n",
    "    ax[i].plot(ef.date,ef.iloc[:,-1],marker='o',color='#007acc')\n",
    "    ax[i].text(0.02,0.5,f'{ef.columns.values[-1]}',transform = ax[i].transAxes, fontsize = 20);\n",
    "    ax[i].xaxis.set_major_locator(mdates.WeekdayLocator())\n",
    "    ax[i].xaxis.set_major_formatter(mdates.DateFormatter('%b %d'))\n",
    "    ax[i].set_ylim([0,7000])\n",
    "    ax[i].spines['right'].set_visible(False)\n",
    "    ax[i].spines['top'].set_visible(False)\n",
    "plt.tight_layout()\n"
   ]
  },
  {
   "cell_type": "code",
   "execution_count": 20,
   "metadata": {
    "execution": {
     "iopub.execute_input": "2020-10-24T14:26:51.547688Z",
     "iopub.status.busy": "2020-10-24T14:26:51.547038Z",
     "iopub.status.idle": "2020-10-24T14:26:51.549412Z",
     "shell.execute_reply": "2020-10-24T14:26:51.549886Z"
    },
    "papermill": {
     "duration": 0.037236,
     "end_time": "2020-10-24T14:26:51.550041",
     "exception": false,
     "start_time": "2020-10-24T14:26:51.512805",
     "status": "completed"
    },
    "tags": []
   },
   "outputs": [
    {
     "name": "stdout",
     "output_type": "stream",
     "text": [
      "                                   states    Cases  Deaths   PCases  PDeaths  Cases (+)  Deaths (+)  Fatality Rate\n",
      "                              Maharashtra  1638961   43152  1632544    43015       6417         137           2.63\n",
      "                           Andhra Pradesh   800684    6544   800684     6544          0           0           0.82\n",
      "                                Karnataka   793907   10821   793907    10821          0           0           1.36\n",
      "                               Tamil Nadu   703250   10858   703250    10858          0           0           1.54\n",
      "                            Uttar Pradesh   466060    6830   466060     6830          0           0           1.47\n",
      "                                   Kerala   377835    1282   377835     1282          0           0           0.34\n",
      "                                    Delhi   348404    6189   348404     6189          0           0           1.78\n",
      "                              West Bengal   341426    6368   341426     6368          0           0           1.87\n",
      "                                   Odisha   279582    1282   277887     1267       1695          15           0.46\n",
      "                                Telangana   229001    1298   229001     1298          0           0           0.57\n",
      "                                    Bihar   210389    1034   210389     1034          0           0           0.49\n",
      "                                    Assam   203709     900   203709      900          0           0           0.44\n",
      "                                Rajasthan   182570    1814   182570     1814          0           0           0.99\n",
      "                             Chhattisgarh   172580    1738   172580     1738          0           0           1.01\n",
      "                                  Gujarat   166254    3682   165233     3676       1021           6           2.21\n",
      "                           Madhya Pradesh   165294    2855   165294     2855          0           0           1.73\n",
      "                                  Haryana   157064    1720   155765     1705       1299          15           1.10\n",
      "                                   Punjab   130157    4095   130157     4095          0           0           3.15\n",
      "                                Jharkhand    99045     862    99045      862          0           0           0.87\n",
      "                        Jammu and Kashmir    90752    1424    90752     1424          0           0           1.57\n",
      "                              Uttarakhand    59796     979    59796      979          0           0           1.64\n",
      "                                      Goa    41813     568    41813      568          0           0           1.36\n",
      "                               Puducherry    33986     584    33986      584          0           0           1.72\n",
      "                                  Tripura    30067     336    30067      336          0           0           1.12\n",
      "                         Himachal Pradesh    20040     280    20040      280          0           0           1.40\n",
      "                                  Manipur    16777     132    16777      132          0           0           0.79\n",
      "                        Arunachal Pradesh    14145      33    14145       33          0           0           0.23\n",
      "                               Chandigarh    13977     216    13920      214         57           2           1.55\n",
      "                                Meghalaya     8801      79     8801       79          0           0           0.90\n",
      "                                 Nagaland     8436      21     8436       21          0           0           0.25\n",
      "                                   Ladakh     5840      68     5840       68          0           0           1.16\n",
      "              Andaman and Nicobar Islands     4207      58     4207       58          0           0           1.38\n",
      "                                   Sikkim     3770      63     3770       63          0           0           1.67\n",
      " Dadra and Nagar Haveli and Daman and Diu     3219       2     3219        2          0           0           0.06\n",
      "                                  Mizoram     2359       0     2359        0          0           0           0.00\n",
      "                              Lakshadweep        0       0        0        0          0           0            NaN\n"
     ]
    }
   ],
   "source": [
    "#hide_input\n",
    "print(df_table.to_string(index=False))"
   ]
  },
  {
   "cell_type": "code",
   "execution_count": null,
   "metadata": {
    "papermill": {
     "duration": 0.023253,
     "end_time": "2020-10-24T14:26:51.596258",
     "exception": false,
     "start_time": "2020-10-24T14:26:51.573005",
     "status": "completed"
    },
    "tags": []
   },
   "outputs": [],
   "source": []
  },
  {
   "cell_type": "code",
   "execution_count": null,
   "metadata": {
    "papermill": {
     "duration": 0.022941,
     "end_time": "2020-10-24T14:26:51.642363",
     "exception": false,
     "start_time": "2020-10-24T14:26:51.619422",
     "status": "completed"
    },
    "tags": []
   },
   "outputs": [],
   "source": []
  }
 ],
 "metadata": {
  "kernelspec": {
   "display_name": "Python 3",
   "language": "python",
   "name": "python3"
  },
  "language_info": {
   "codemirror_mode": {
    "name": "ipython",
    "version": 3
   },
   "file_extension": ".py",
   "mimetype": "text/x-python",
   "name": "python",
   "nbconvert_exporter": "python",
   "pygments_lexer": "ipython3",
   "version": "3.6.12"
  },
  "papermill": {
   "duration": 12.365632,
   "end_time": "2020-10-24T14:26:52.906276",
   "environment_variables": {},
   "exception": null,
   "input_path": "latest.ipynb",
   "output_path": "latest.ipynb",
   "parameters": {},
   "start_time": "2020-10-24T14:26:40.540644",
   "version": "2.1.2"
  }
 },
 "nbformat": 4,
 "nbformat_minor": 4
}