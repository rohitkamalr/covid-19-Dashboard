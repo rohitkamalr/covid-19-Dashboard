{
 "cells": [
  {
   "cell_type": "markdown",
   "metadata": {
    "papermill": {
     "duration": 0.015992,
     "end_time": "2020-08-17T13:17:43.440593",
     "exception": false,
     "start_time": "2020-08-17T13:17:43.424601",
     "status": "completed"
    },
    "tags": []
   },
   "source": [
    "# Latest COVID-19 India Matplotlib Overview"
   ]
  },
  {
   "cell_type": "code",
   "execution_count": 1,
   "metadata": {
    "execution": {
     "iopub.execute_input": "2020-08-17T13:17:43.477796Z",
     "iopub.status.busy": "2020-08-17T13:17:43.477241Z",
     "iopub.status.idle": "2020-08-17T13:17:43.987131Z",
     "shell.execute_reply": "2020-08-17T13:17:43.986181Z"
    },
    "papermill": {
     "duration": 0.530854,
     "end_time": "2020-08-17T13:17:43.987310",
     "exception": false,
     "start_time": "2020-08-17T13:17:43.456456",
     "status": "completed"
    },
    "tags": []
   },
   "outputs": [],
   "source": [
    "#hide\n",
    "import pandas as pd\n",
    "import numpy as np\n",
    "import requests\n",
    "import json\n",
    "import matplotlib.pyplot as plt\n",
    "import matplotlib.dates as mdates\n",
    "import matplotlib as mpl\n",
    "from IPython.core.display import display,HTML\n",
    "%matplotlib inline\n",
    "from datetime import date"
   ]
  },
  {
   "cell_type": "code",
   "execution_count": 2,
   "metadata": {
    "execution": {
     "iopub.execute_input": "2020-08-17T13:17:44.025174Z",
     "iopub.status.busy": "2020-08-17T13:17:44.024126Z",
     "iopub.status.idle": "2020-08-17T13:17:44.138314Z",
     "shell.execute_reply": "2020-08-17T13:17:44.138772Z"
    },
    "papermill": {
     "duration": 0.13555,
     "end_time": "2020-08-17T13:17:44.138921",
     "exception": false,
     "start_time": "2020-08-17T13:17:44.003371",
     "status": "completed"
    },
    "tags": []
   },
   "outputs": [],
   "source": [
    "#hide\n",
    "df  = pd.read_csv('https://api.covid19india.org/csv/latest/states.csv')\n",
    "df = df[['Date','State','Confirmed','Deceased']]\n",
    "df = df.rename(columns={'Confirmed':'Cases', \"Deceased\":'Deaths'})\n",
    "df_cases = df[[\"Date\",'State','Cases']]\n",
    "df_deaths = df[['Date','State','Deaths']]\n",
    "df_cases1 = df_cases.groupby('Date')\n",
    "df_deaths1= df_deaths.groupby('Date')"
   ]
  },
  {
   "cell_type": "code",
   "execution_count": 3,
   "metadata": {
    "execution": {
     "iopub.execute_input": "2020-08-17T13:17:44.177375Z",
     "iopub.status.busy": "2020-08-17T13:17:44.176846Z",
     "iopub.status.idle": "2020-08-17T13:17:44.191820Z",
     "shell.execute_reply": "2020-08-17T13:17:44.192233Z"
    },
    "papermill": {
     "duration": 0.035983,
     "end_time": "2020-08-17T13:17:44.192386",
     "exception": false,
     "start_time": "2020-08-17T13:17:44.156403",
     "status": "completed"
    },
    "tags": []
   },
   "outputs": [],
   "source": [
    "#hide\n",
    "df_snap = pd.read_csv('data/SnapshotCases-28-July.csv')\n",
    "arr_states = df_snap['states'].unique()\n",
    "arr_dates = df['Date'].unique()\n",
    "df_snap = df_snap.set_index('states')"
   ]
  },
  {
   "cell_type": "code",
   "execution_count": 4,
   "metadata": {
    "execution": {
     "iopub.execute_input": "2020-08-17T13:17:44.225074Z",
     "iopub.status.busy": "2020-08-17T13:17:44.224229Z",
     "iopub.status.idle": "2020-08-17T13:17:44.227669Z",
     "shell.execute_reply": "2020-08-17T13:17:44.228114Z"
    },
    "papermill": {
     "duration": 0.022959,
     "end_time": "2020-08-17T13:17:44.228239",
     "exception": false,
     "start_time": "2020-08-17T13:17:44.205280",
     "status": "completed"
    },
    "tags": []
   },
   "outputs": [
    {
     "data": {
      "text/plain": [
       "array(['Andaman and Nicobar Islands', 'Andhra Pradesh',\n",
       "       'Arunachal Pradesh', 'Assam', 'Bihar', 'Chandigarh',\n",
       "       'Dadra and Nagar Haveli and Daman and Diu', 'Delhi', 'Goa',\n",
       "       'Gujarat', 'Haryana', 'Himachal Pradesh', 'Jammu and Kashmir',\n",
       "       'Jharkhand', 'Karnataka', 'Kerala', 'Lakshadweep',\n",
       "       'Madhya Pradesh', 'Maharashtra', 'Manipur', 'Meghalaya', 'Mizoram',\n",
       "       'Nagaland', 'Odisha', 'Puducherry', 'Punjab', 'Rajasthan',\n",
       "       'Sikkim', 'Tamil Nadu', 'Telangana', 'Tripura', 'Uttar Pradesh',\n",
       "       'West Bengal', 'Chhattisgarh', 'Ladakh', 'Uttarakhand'],\n",
       "      dtype=object)"
      ]
     },
     "execution_count": 4,
     "metadata": {},
     "output_type": "execute_result"
    }
   ],
   "source": [
    "#hide\n",
    "arr_states[-9] = 'Puducherry'\n",
    "arr_states[-10] = 'Odisha'\n",
    "arr_states[6] = 'Dadra and Nagar Haveli and Daman and Diu'\n",
    "arr_states = np.append(arr_states,np.array(['Chhattisgarh','Ladakh','Uttarakhand']))\n",
    "arr_states"
   ]
  },
  {
   "cell_type": "code",
   "execution_count": 5,
   "metadata": {
    "execution": {
     "iopub.execute_input": "2020-08-17T13:17:44.267225Z",
     "iopub.status.busy": "2020-08-17T13:17:44.266693Z",
     "iopub.status.idle": "2020-08-17T13:17:44.273661Z",
     "shell.execute_reply": "2020-08-17T13:17:44.274072Z"
    },
    "papermill": {
     "duration": 0.030008,
     "end_time": "2020-08-17T13:17:44.274195",
     "exception": false,
     "start_time": "2020-08-17T13:17:44.244187",
     "status": "completed"
    },
    "tags": []
   },
   "outputs": [],
   "source": [
    "#hide\n",
    "dates = []\n",
    "for i in arr_dates:\n",
    "    if i>='2020-07-01':\n",
    "        dates.append(i)\n",
    "dict = {'states':dates}\n",
    "for i in arr_states:\n",
    "    dict[i] = [0]*len(dates)\n",
    "dft_cases = pd.DataFrame(dict)\n",
    "dft_deaths = pd.DataFrame(dict)\n"
   ]
  },
  {
   "cell_type": "code",
   "execution_count": 6,
   "metadata": {
    "execution": {
     "iopub.execute_input": "2020-08-17T13:17:44.309069Z",
     "iopub.status.busy": "2020-08-17T13:17:44.308490Z",
     "iopub.status.idle": "2020-08-17T13:17:45.017457Z",
     "shell.execute_reply": "2020-08-17T13:17:45.018303Z"
    },
    "papermill": {
     "duration": 0.728465,
     "end_time": "2020-08-17T13:17:45.018492",
     "exception": false,
     "start_time": "2020-08-17T13:17:44.290027",
     "status": "completed"
    },
    "tags": []
   },
   "outputs": [],
   "source": [
    "#hide\n",
    "for i in range(len(dates)):\n",
    "    df1_deaths = df_deaths1.get_group(dates[i])\n",
    "    for j in range(len(df1_deaths.index)):\n",
    "        if df1_deaths.iloc[j,1] in arr_states:\n",
    "            dft_deaths.loc[i,df1_deaths.iloc[j,1]] = df1_deaths.iloc[j,2]\n",
    "dft_deaths = dft_deaths.set_index('states')"
   ]
  },
  {
   "cell_type": "code",
   "execution_count": 7,
   "metadata": {
    "execution": {
     "iopub.execute_input": "2020-08-17T13:17:45.054433Z",
     "iopub.status.busy": "2020-08-17T13:17:45.053781Z",
     "iopub.status.idle": "2020-08-17T13:17:45.748688Z",
     "shell.execute_reply": "2020-08-17T13:17:45.747874Z"
    },
    "papermill": {
     "duration": 0.716051,
     "end_time": "2020-08-17T13:17:45.748814",
     "exception": false,
     "start_time": "2020-08-17T13:17:45.032763",
     "status": "completed"
    },
    "tags": []
   },
   "outputs": [],
   "source": [
    "#hide\n",
    "for i in range(len(dates)):\n",
    "    df1_cases = df_cases1.get_group(dates[i])\n",
    "    for j in range(len(df1_cases.index)):\n",
    "        if df1_cases.iloc[j,1] in arr_states:\n",
    "            dft_cases.loc[i,df1_cases.iloc[j,1]] = df1_cases.iloc[j,2]\n",
    "dft_cases = dft_cases.set_index('states')"
   ]
  },
  {
   "cell_type": "code",
   "execution_count": 8,
   "metadata": {
    "execution": {
     "iopub.execute_input": "2020-08-17T13:17:45.784460Z",
     "iopub.status.busy": "2020-08-17T13:17:45.782885Z",
     "iopub.status.idle": "2020-08-17T13:17:45.785665Z",
     "shell.execute_reply": "2020-08-17T13:17:45.786269Z"
    },
    "papermill": {
     "duration": 0.020976,
     "end_time": "2020-08-17T13:17:45.786392",
     "exception": false,
     "start_time": "2020-08-17T13:17:45.765416",
     "status": "completed"
    },
    "tags": []
   },
   "outputs": [],
   "source": [
    "#hide\n",
    "dft_cases = dft_cases.T\n",
    "dft_deaths = dft_deaths.T\n",
    "dt_today = dates[-1]\n",
    "dt_yday = dates[-2]"
   ]
  },
  {
   "cell_type": "code",
   "execution_count": 9,
   "metadata": {
    "execution": {
     "iopub.execute_input": "2020-08-17T13:17:45.821610Z",
     "iopub.status.busy": "2020-08-17T13:17:45.820871Z",
     "iopub.status.idle": "2020-08-17T13:17:45.822301Z",
     "shell.execute_reply": "2020-08-17T13:17:45.822781Z"
    },
    "papermill": {
     "duration": 0.021209,
     "end_time": "2020-08-17T13:17:45.822897",
     "exception": false,
     "start_time": "2020-08-17T13:17:45.801688",
     "status": "completed"
    },
    "tags": []
   },
   "outputs": [],
   "source": [
    "#hide\n",
    "dft_cases = dft_cases.reset_index()\n",
    "dft_deaths = dft_deaths.reset_index()\n",
    "dft_cases = dft_cases.rename(columns = {'index':'state'})\n",
    "dft_deaths = dft_deaths.rename(columns = {'index':'state'})"
   ]
  },
  {
   "cell_type": "code",
   "execution_count": 10,
   "metadata": {
    "execution": {
     "iopub.execute_input": "2020-08-17T13:17:45.859611Z",
     "iopub.status.busy": "2020-08-17T13:17:45.858947Z",
     "iopub.status.idle": "2020-08-17T13:17:45.862835Z",
     "shell.execute_reply": "2020-08-17T13:17:45.862369Z"
    },
    "papermill": {
     "duration": 0.027052,
     "end_time": "2020-08-17T13:17:45.862947",
     "exception": false,
     "start_time": "2020-08-17T13:17:45.835895",
     "status": "completed"
    },
    "tags": []
   },
   "outputs": [],
   "source": [
    "#hide\n",
    "dfc_cases = dft_cases.groupby('state')[dt_today].sum()\n",
    "dfc_deaths = dft_deaths.groupby('state')[dt_today].sum()\n",
    "dfp_cases = dft_cases.groupby('state')[dt_yday].sum()\n",
    "dfp_deaths = dft_deaths.groupby('state')[dt_yday].sum()"
   ]
  },
  {
   "cell_type": "code",
   "execution_count": 11,
   "metadata": {
    "execution": {
     "iopub.execute_input": "2020-08-17T13:17:45.900568Z",
     "iopub.status.busy": "2020-08-17T13:17:45.897530Z",
     "iopub.status.idle": "2020-08-17T13:17:45.906343Z",
     "shell.execute_reply": "2020-08-17T13:17:45.905902Z"
    },
    "papermill": {
     "duration": 0.030443,
     "end_time": "2020-08-17T13:17:45.906448",
     "exception": false,
     "start_time": "2020-08-17T13:17:45.876005",
     "status": "completed"
    },
    "tags": []
   },
   "outputs": [
    {
     "data": {
      "text/html": [
       "<div>\n",
       "<style scoped>\n",
       "    .dataframe tbody tr th:only-of-type {\n",
       "        vertical-align: middle;\n",
       "    }\n",
       "\n",
       "    .dataframe tbody tr th {\n",
       "        vertical-align: top;\n",
       "    }\n",
       "\n",
       "    .dataframe thead th {\n",
       "        text-align: right;\n",
       "    }\n",
       "</style>\n",
       "<table border=\"1\" class=\"dataframe\">\n",
       "  <thead>\n",
       "    <tr style=\"text-align: right;\">\n",
       "      <th></th>\n",
       "      <th>states</th>\n",
       "      <th>Cases</th>\n",
       "      <th>Deaths</th>\n",
       "      <th>PCases</th>\n",
       "      <th>PDeaths</th>\n",
       "    </tr>\n",
       "  </thead>\n",
       "  <tbody>\n",
       "    <tr>\n",
       "      <th>0</th>\n",
       "      <td>Maharashtra</td>\n",
       "      <td>595865</td>\n",
       "      <td>20037</td>\n",
       "      <td>595865</td>\n",
       "      <td>20037</td>\n",
       "    </tr>\n",
       "    <tr>\n",
       "      <th>1</th>\n",
       "      <td>Tamil Nadu</td>\n",
       "      <td>338055</td>\n",
       "      <td>5766</td>\n",
       "      <td>338055</td>\n",
       "      <td>5766</td>\n",
       "    </tr>\n",
       "    <tr>\n",
       "      <th>2</th>\n",
       "      <td>Andhra Pradesh</td>\n",
       "      <td>296609</td>\n",
       "      <td>2732</td>\n",
       "      <td>289829</td>\n",
       "      <td>2650</td>\n",
       "    </tr>\n",
       "    <tr>\n",
       "      <th>3</th>\n",
       "      <td>Karnataka</td>\n",
       "      <td>226966</td>\n",
       "      <td>3956</td>\n",
       "      <td>226966</td>\n",
       "      <td>3956</td>\n",
       "    </tr>\n",
       "    <tr>\n",
       "      <th>4</th>\n",
       "      <td>Uttar Pradesh</td>\n",
       "      <td>158216</td>\n",
       "      <td>2515</td>\n",
       "      <td>154418</td>\n",
       "      <td>2449</td>\n",
       "    </tr>\n",
       "  </tbody>\n",
       "</table>\n",
       "</div>"
      ],
      "text/plain": [
       "           states   Cases  Deaths  PCases  PDeaths\n",
       "0     Maharashtra  595865   20037  595865    20037\n",
       "1      Tamil Nadu  338055    5766  338055     5766\n",
       "2  Andhra Pradesh  296609    2732  289829     2650\n",
       "3       Karnataka  226966    3956  226966     3956\n",
       "4   Uttar Pradesh  158216    2515  154418     2449"
      ]
     },
     "execution_count": 11,
     "metadata": {},
     "output_type": "execute_result"
    }
   ],
   "source": [
    "#hide\n",
    "df_table = pd.DataFrame({'states': dfc_cases.index, 'Cases': dfc_cases.values, 'Deaths': dfc_deaths.values, 'PCases': dfp_cases.values, 'PDeaths': dfp_deaths.values}).set_index('states')\n",
    "df_table = df_table.sort_values(by = ['Cases','Deaths'], ascending = [False, False])\n",
    "df_table = df_table.reset_index()\n",
    "df_table.head()"
   ]
  },
  {
   "cell_type": "code",
   "execution_count": 12,
   "metadata": {
    "execution": {
     "iopub.execute_input": "2020-08-17T13:17:45.937667Z",
     "iopub.status.busy": "2020-08-17T13:17:45.937151Z",
     "iopub.status.idle": "2020-08-17T13:17:45.945053Z",
     "shell.execute_reply": "2020-08-17T13:17:45.945457Z"
    },
    "papermill": {
     "duration": 0.025576,
     "end_time": "2020-08-17T13:17:45.945573",
     "exception": false,
     "start_time": "2020-08-17T13:17:45.919997",
     "status": "completed"
    },
    "tags": []
   },
   "outputs": [],
   "source": [
    "#hide\n",
    "for c in 'Cases, Deaths'.split(', '):\n",
    "    df_table[f'{c} (+)'] = (df_table[c] - df_table[f'P{c}']).clip(0)\n",
    "df_table['Fatality Rate'] = (100* df_table['Deaths']/ df_table['Cases']).round(2)"
   ]
  },
  {
   "cell_type": "code",
   "execution_count": 13,
   "metadata": {
    "execution": {
     "iopub.execute_input": "2020-08-17T13:17:45.977737Z",
     "iopub.status.busy": "2020-08-17T13:17:45.977222Z",
     "iopub.status.idle": "2020-08-17T13:17:45.983368Z",
     "shell.execute_reply": "2020-08-17T13:17:45.983816Z"
    },
    "papermill": {
     "duration": 0.025332,
     "end_time": "2020-08-17T13:17:45.983931",
     "exception": false,
     "start_time": "2020-08-17T13:17:45.958599",
     "status": "completed"
    },
    "tags": []
   },
   "outputs": [
    {
     "data": {
      "text/html": [
       "<div>\n",
       "<style scoped>\n",
       "    .dataframe tbody tr th:only-of-type {\n",
       "        vertical-align: middle;\n",
       "    }\n",
       "\n",
       "    .dataframe tbody tr th {\n",
       "        vertical-align: top;\n",
       "    }\n",
       "\n",
       "    .dataframe thead th {\n",
       "        text-align: right;\n",
       "    }\n",
       "</style>\n",
       "<table border=\"1\" class=\"dataframe\">\n",
       "  <thead>\n",
       "    <tr style=\"text-align: right;\">\n",
       "      <th></th>\n",
       "      <th>states</th>\n",
       "      <th>Cases</th>\n",
       "      <th>Deaths</th>\n",
       "      <th>PCases</th>\n",
       "      <th>PDeaths</th>\n",
       "      <th>Cases (+)</th>\n",
       "      <th>Deaths (+)</th>\n",
       "      <th>Fatality Rate</th>\n",
       "    </tr>\n",
       "  </thead>\n",
       "  <tbody>\n",
       "    <tr>\n",
       "      <th>0</th>\n",
       "      <td>Maharashtra</td>\n",
       "      <td>595865</td>\n",
       "      <td>20037</td>\n",
       "      <td>595865</td>\n",
       "      <td>20037</td>\n",
       "      <td>0</td>\n",
       "      <td>0</td>\n",
       "      <td>3.36</td>\n",
       "    </tr>\n",
       "    <tr>\n",
       "      <th>1</th>\n",
       "      <td>Tamil Nadu</td>\n",
       "      <td>338055</td>\n",
       "      <td>5766</td>\n",
       "      <td>338055</td>\n",
       "      <td>5766</td>\n",
       "      <td>0</td>\n",
       "      <td>0</td>\n",
       "      <td>1.71</td>\n",
       "    </tr>\n",
       "    <tr>\n",
       "      <th>2</th>\n",
       "      <td>Andhra Pradesh</td>\n",
       "      <td>296609</td>\n",
       "      <td>2732</td>\n",
       "      <td>289829</td>\n",
       "      <td>2650</td>\n",
       "      <td>6780</td>\n",
       "      <td>82</td>\n",
       "      <td>0.92</td>\n",
       "    </tr>\n",
       "    <tr>\n",
       "      <th>3</th>\n",
       "      <td>Karnataka</td>\n",
       "      <td>226966</td>\n",
       "      <td>3956</td>\n",
       "      <td>226966</td>\n",
       "      <td>3956</td>\n",
       "      <td>0</td>\n",
       "      <td>0</td>\n",
       "      <td>1.74</td>\n",
       "    </tr>\n",
       "    <tr>\n",
       "      <th>4</th>\n",
       "      <td>Uttar Pradesh</td>\n",
       "      <td>158216</td>\n",
       "      <td>2515</td>\n",
       "      <td>154418</td>\n",
       "      <td>2449</td>\n",
       "      <td>3798</td>\n",
       "      <td>66</td>\n",
       "      <td>1.59</td>\n",
       "    </tr>\n",
       "  </tbody>\n",
       "</table>\n",
       "</div>"
      ],
      "text/plain": [
       "           states   Cases  Deaths  PCases  PDeaths  Cases (+)  Deaths (+)  \\\n",
       "0     Maharashtra  595865   20037  595865    20037          0           0   \n",
       "1      Tamil Nadu  338055    5766  338055     5766          0           0   \n",
       "2  Andhra Pradesh  296609    2732  289829     2650       6780          82   \n",
       "3       Karnataka  226966    3956  226966     3956          0           0   \n",
       "4   Uttar Pradesh  158216    2515  154418     2449       3798          66   \n",
       "\n",
       "   Fatality Rate  \n",
       "0           3.36  \n",
       "1           1.71  \n",
       "2           0.92  \n",
       "3           1.74  \n",
       "4           1.59  "
      ]
     },
     "execution_count": 13,
     "metadata": {},
     "output_type": "execute_result"
    }
   ],
   "source": [
    "#hide\n",
    "df_table.head()"
   ]
  },
  {
   "cell_type": "code",
   "execution_count": 14,
   "metadata": {
    "execution": {
     "iopub.execute_input": "2020-08-17T13:17:46.015853Z",
     "iopub.status.busy": "2020-08-17T13:17:46.015335Z",
     "iopub.status.idle": "2020-08-17T13:17:46.029957Z",
     "shell.execute_reply": "2020-08-17T13:17:46.029517Z"
    },
    "papermill": {
     "duration": 0.032305,
     "end_time": "2020-08-17T13:17:46.030060",
     "exception": false,
     "start_time": "2020-08-17T13:17:45.997755",
     "status": "completed"
    },
    "tags": []
   },
   "outputs": [
    {
     "data": {
      "text/plain": [
       "{'updated': '2020-08-17',\n",
       " 'since': '2020-08-16',\n",
       " 'Cases': 2665318,\n",
       " 'PCases': 2647304,\n",
       " 'Deaths': 51243,\n",
       " 'PDeaths': 51045,\n",
       " 'Cases (+)': 18014,\n",
       " 'Deaths (+)': 198}"
      ]
     },
     "execution_count": 14,
     "metadata": {},
     "output_type": "execute_result"
    }
   ],
   "source": [
    "#hide\n",
    "summary = {'updated':dates[-1], 'since':dates[-2]}\n",
    "list_names = ['Cases', 'PCases', 'Deaths', 'PDeaths', 'Cases (+)', 'Deaths (+)']\n",
    "for name in list_names:\n",
    "    summary[name] = df_table.sum()[name]\n",
    "summary"
   ]
  },
  {
   "cell_type": "code",
   "execution_count": 15,
   "metadata": {
    "execution": {
     "iopub.execute_input": "2020-08-17T13:17:46.061630Z",
     "iopub.status.busy": "2020-08-17T13:17:46.061062Z",
     "iopub.status.idle": "2020-08-17T13:17:46.063097Z",
     "shell.execute_reply": "2020-08-17T13:17:46.063499Z"
    },
    "papermill": {
     "duration": 0.019662,
     "end_time": "2020-08-17T13:17:46.063617",
     "exception": false,
     "start_time": "2020-08-17T13:17:46.043955",
     "status": "completed"
    },
    "tags": []
   },
   "outputs": [],
   "source": [
    "#hide\n",
    "overview = '''\n",
    "<!-- #######  HTML!! #########-->\n",
    "<h1 style=\"color: #5e9ca0; text-align: center;\">India</h1>\n",
    "<p style=\"text-align: center;\">Last update: <strong>{update}</strong></p>\n",
    "<p style=\"text-align: center;\">Confirmed cases:</p>\n",
    "<p style=\"text-align: center;font-size:24px;\">{cases} (<span style=\"color: #ff0000;\">+{new}</span>)</p>\n",
    "<p style=\"text-align: center;\">Confirmed deaths:</p>\n",
    "<p style=\"text-align: center;font-size:24px;\">{deaths} (<span style=\"color: #ff0000;\">+{dnew}</span>)</p>\n",
    "'''"
   ]
  },
  {
   "cell_type": "code",
   "execution_count": 16,
   "metadata": {
    "execution": {
     "iopub.execute_input": "2020-08-17T13:17:46.098041Z",
     "iopub.status.busy": "2020-08-17T13:17:46.097483Z",
     "iopub.status.idle": "2020-08-17T13:17:46.100289Z",
     "shell.execute_reply": "2020-08-17T13:17:46.100759Z"
    },
    "papermill": {
     "duration": 0.021848,
     "end_time": "2020-08-17T13:17:46.100881",
     "exception": false,
     "start_time": "2020-08-17T13:17:46.079033",
     "status": "completed"
    },
    "tags": []
   },
   "outputs": [
    {
     "data": {
      "text/html": [
       "\n",
       "<!-- #######  HTML!! #########-->\n",
       "<h1 style=\"color: #5e9ca0; text-align: center;\">India</h1>\n",
       "<p style=\"text-align: center;\">Last update: <strong>2020-08-17</strong></p>\n",
       "<p style=\"text-align: center;\">Confirmed cases:</p>\n",
       "<p style=\"text-align: center;font-size:24px;\">2665318 (<span style=\"color: #ff0000;\">+18014</span>)</p>\n",
       "<p style=\"text-align: center;\">Confirmed deaths:</p>\n",
       "<p style=\"text-align: center;font-size:24px;\">51243 (<span style=\"color: #ff0000;\">+198</span>)</p>\n"
      ],
      "text/plain": [
       "<IPython.core.display.HTML object>"
      ]
     },
     "metadata": {},
     "output_type": "display_data"
    }
   ],
   "source": [
    "#hide_input\n",
    "update = summary['updated']\n",
    "cases = summary['Cases']\n",
    "new = summary['Cases (+)']\n",
    "deaths = summary['Deaths']\n",
    "dnew = summary['Deaths (+)']\n",
    "\n",
    "html = HTML(overview.format(update=update, cases=cases,new=new,deaths=deaths,dnew=dnew))\n",
    "\n",
    "display(html)"
   ]
  },
  {
   "cell_type": "code",
   "execution_count": 17,
   "metadata": {
    "execution": {
     "iopub.execute_input": "2020-08-17T13:17:46.137152Z",
     "iopub.status.busy": "2020-08-17T13:17:46.136598Z",
     "iopub.status.idle": "2020-08-17T13:17:46.142401Z",
     "shell.execute_reply": "2020-08-17T13:17:46.141734Z"
    },
    "papermill": {
     "duration": 0.027065,
     "end_time": "2020-08-17T13:17:46.142551",
     "exception": false,
     "start_time": "2020-08-17T13:17:46.115486",
     "status": "completed"
    },
    "tags": []
   },
   "outputs": [],
   "source": [
    "#hide\n",
    "dt_cols = list(dft_cases.columns[1:])\n",
    "dft_ct_new_cases = dft_cases.groupby('state')[dt_cols].sum().diff(axis=1).fillna(0).astype(int)\n",
    "dft_ct_new_cases.sort_values(by = dates[-1], ascending = False,inplace = True)"
   ]
  },
  {
   "cell_type": "code",
   "execution_count": 18,
   "metadata": {
    "execution": {
     "iopub.execute_input": "2020-08-17T13:17:46.189166Z",
     "iopub.status.busy": "2020-08-17T13:17:46.188594Z",
     "iopub.status.idle": "2020-08-17T13:17:46.191967Z",
     "shell.execute_reply": "2020-08-17T13:17:46.191505Z"
    },
    "papermill": {
     "duration": 0.033561,
     "end_time": "2020-08-17T13:17:46.192071",
     "exception": false,
     "start_time": "2020-08-17T13:17:46.158510",
     "status": "completed"
    },
    "tags": []
   },
   "outputs": [
    {
     "data": {
      "text/html": [
       "<div>\n",
       "<style scoped>\n",
       "    .dataframe tbody tr th:only-of-type {\n",
       "        vertical-align: middle;\n",
       "    }\n",
       "\n",
       "    .dataframe tbody tr th {\n",
       "        vertical-align: top;\n",
       "    }\n",
       "\n",
       "    .dataframe thead th {\n",
       "        text-align: right;\n",
       "    }\n",
       "</style>\n",
       "<table border=\"1\" class=\"dataframe\">\n",
       "  <thead>\n",
       "    <tr style=\"text-align: right;\">\n",
       "      <th>states</th>\n",
       "      <th>2020-07-01</th>\n",
       "      <th>2020-07-02</th>\n",
       "      <th>2020-07-03</th>\n",
       "      <th>2020-07-04</th>\n",
       "      <th>2020-07-05</th>\n",
       "      <th>2020-07-06</th>\n",
       "      <th>2020-07-07</th>\n",
       "      <th>2020-07-08</th>\n",
       "      <th>2020-07-09</th>\n",
       "      <th>2020-07-10</th>\n",
       "      <th>...</th>\n",
       "      <th>2020-08-08</th>\n",
       "      <th>2020-08-09</th>\n",
       "      <th>2020-08-10</th>\n",
       "      <th>2020-08-11</th>\n",
       "      <th>2020-08-12</th>\n",
       "      <th>2020-08-13</th>\n",
       "      <th>2020-08-14</th>\n",
       "      <th>2020-08-15</th>\n",
       "      <th>2020-08-16</th>\n",
       "      <th>2020-08-17</th>\n",
       "    </tr>\n",
       "    <tr>\n",
       "      <th>state</th>\n",
       "      <th></th>\n",
       "      <th></th>\n",
       "      <th></th>\n",
       "      <th></th>\n",
       "      <th></th>\n",
       "      <th></th>\n",
       "      <th></th>\n",
       "      <th></th>\n",
       "      <th></th>\n",
       "      <th></th>\n",
       "      <th></th>\n",
       "      <th></th>\n",
       "      <th></th>\n",
       "      <th></th>\n",
       "      <th></th>\n",
       "      <th></th>\n",
       "      <th></th>\n",
       "      <th></th>\n",
       "      <th></th>\n",
       "      <th></th>\n",
       "      <th></th>\n",
       "    </tr>\n",
       "  </thead>\n",
       "  <tbody>\n",
       "    <tr>\n",
       "      <th>Andhra Pradesh</th>\n",
       "      <td>0</td>\n",
       "      <td>845</td>\n",
       "      <td>837</td>\n",
       "      <td>765</td>\n",
       "      <td>998</td>\n",
       "      <td>1322</td>\n",
       "      <td>1178</td>\n",
       "      <td>1062</td>\n",
       "      <td>1555</td>\n",
       "      <td>1608</td>\n",
       "      <td>...</td>\n",
       "      <td>10080</td>\n",
       "      <td>10820</td>\n",
       "      <td>7665</td>\n",
       "      <td>9024</td>\n",
       "      <td>9597</td>\n",
       "      <td>9996</td>\n",
       "      <td>8943</td>\n",
       "      <td>8732</td>\n",
       "      <td>8012</td>\n",
       "      <td>6780</td>\n",
       "    </tr>\n",
       "    <tr>\n",
       "      <th>Uttar Pradesh</th>\n",
       "      <td>0</td>\n",
       "      <td>769</td>\n",
       "      <td>972</td>\n",
       "      <td>757</td>\n",
       "      <td>1153</td>\n",
       "      <td>929</td>\n",
       "      <td>1332</td>\n",
       "      <td>1188</td>\n",
       "      <td>1206</td>\n",
       "      <td>1338</td>\n",
       "      <td>...</td>\n",
       "      <td>4660</td>\n",
       "      <td>4571</td>\n",
       "      <td>4113</td>\n",
       "      <td>5041</td>\n",
       "      <td>4475</td>\n",
       "      <td>4537</td>\n",
       "      <td>4512</td>\n",
       "      <td>4774</td>\n",
       "      <td>4357</td>\n",
       "      <td>3798</td>\n",
       "    </tr>\n",
       "    <tr>\n",
       "      <th>Bihar</th>\n",
       "      <td>0</td>\n",
       "      <td>478</td>\n",
       "      <td>426</td>\n",
       "      <td>349</td>\n",
       "      <td>403</td>\n",
       "      <td>280</td>\n",
       "      <td>385</td>\n",
       "      <td>749</td>\n",
       "      <td>704</td>\n",
       "      <td>352</td>\n",
       "      <td>...</td>\n",
       "      <td>3992</td>\n",
       "      <td>3934</td>\n",
       "      <td>3021</td>\n",
       "      <td>4071</td>\n",
       "      <td>3741</td>\n",
       "      <td>3906</td>\n",
       "      <td>3911</td>\n",
       "      <td>3536</td>\n",
       "      <td>2187</td>\n",
       "      <td>2525</td>\n",
       "    </tr>\n",
       "    <tr>\n",
       "      <th>Odisha</th>\n",
       "      <td>0</td>\n",
       "      <td>229</td>\n",
       "      <td>561</td>\n",
       "      <td>495</td>\n",
       "      <td>469</td>\n",
       "      <td>456</td>\n",
       "      <td>571</td>\n",
       "      <td>527</td>\n",
       "      <td>577</td>\n",
       "      <td>755</td>\n",
       "      <td>...</td>\n",
       "      <td>1643</td>\n",
       "      <td>1734</td>\n",
       "      <td>1528</td>\n",
       "      <td>1341</td>\n",
       "      <td>1876</td>\n",
       "      <td>1981</td>\n",
       "      <td>1977</td>\n",
       "      <td>2496</td>\n",
       "      <td>2924</td>\n",
       "      <td>2244</td>\n",
       "    </tr>\n",
       "    <tr>\n",
       "      <th>Telangana</th>\n",
       "      <td>0</td>\n",
       "      <td>1213</td>\n",
       "      <td>1892</td>\n",
       "      <td>1850</td>\n",
       "      <td>1590</td>\n",
       "      <td>1831</td>\n",
       "      <td>1879</td>\n",
       "      <td>1924</td>\n",
       "      <td>1410</td>\n",
       "      <td>1278</td>\n",
       "      <td>...</td>\n",
       "      <td>2256</td>\n",
       "      <td>1982</td>\n",
       "      <td>1256</td>\n",
       "      <td>1896</td>\n",
       "      <td>1897</td>\n",
       "      <td>1931</td>\n",
       "      <td>1921</td>\n",
       "      <td>1863</td>\n",
       "      <td>1102</td>\n",
       "      <td>894</td>\n",
       "    </tr>\n",
       "  </tbody>\n",
       "</table>\n",
       "<p>5 rows × 48 columns</p>\n",
       "</div>"
      ],
      "text/plain": [
       "states          2020-07-01  2020-07-02  2020-07-03  2020-07-04  2020-07-05  \\\n",
       "state                                                                        \n",
       "Andhra Pradesh           0         845         837         765         998   \n",
       "Uttar Pradesh            0         769         972         757        1153   \n",
       "Bihar                    0         478         426         349         403   \n",
       "Odisha                   0         229         561         495         469   \n",
       "Telangana                0        1213        1892        1850        1590   \n",
       "\n",
       "states          2020-07-06  2020-07-07  2020-07-08  2020-07-09  2020-07-10  \\\n",
       "state                                                                        \n",
       "Andhra Pradesh        1322        1178        1062        1555        1608   \n",
       "Uttar Pradesh          929        1332        1188        1206        1338   \n",
       "Bihar                  280         385         749         704         352   \n",
       "Odisha                 456         571         527         577         755   \n",
       "Telangana             1831        1879        1924        1410        1278   \n",
       "\n",
       "states          ...  2020-08-08  2020-08-09  2020-08-10  2020-08-11  \\\n",
       "state           ...                                                   \n",
       "Andhra Pradesh  ...       10080       10820        7665        9024   \n",
       "Uttar Pradesh   ...        4660        4571        4113        5041   \n",
       "Bihar           ...        3992        3934        3021        4071   \n",
       "Odisha          ...        1643        1734        1528        1341   \n",
       "Telangana       ...        2256        1982        1256        1896   \n",
       "\n",
       "states          2020-08-12  2020-08-13  2020-08-14  2020-08-15  2020-08-16  \\\n",
       "state                                                                        \n",
       "Andhra Pradesh        9597        9996        8943        8732        8012   \n",
       "Uttar Pradesh         4475        4537        4512        4774        4357   \n",
       "Bihar                 3741        3906        3911        3536        2187   \n",
       "Odisha                1876        1981        1977        2496        2924   \n",
       "Telangana             1897        1931        1921        1863        1102   \n",
       "\n",
       "states          2020-08-17  \n",
       "state                       \n",
       "Andhra Pradesh        6780  \n",
       "Uttar Pradesh         3798  \n",
       "Bihar                 2525  \n",
       "Odisha                2244  \n",
       "Telangana              894  \n",
       "\n",
       "[5 rows x 48 columns]"
      ]
     },
     "execution_count": 18,
     "metadata": {},
     "output_type": "execute_result"
    }
   ],
   "source": [
    "#hide\n",
    "dft_ct_new_cases.head()"
   ]
  },
  {
   "cell_type": "code",
   "execution_count": 19,
   "metadata": {
    "execution": {
     "iopub.execute_input": "2020-08-17T13:17:46.239773Z",
     "iopub.status.busy": "2020-08-17T13:17:46.234545Z",
     "iopub.status.idle": "2020-08-17T13:17:48.949614Z",
     "shell.execute_reply": "2020-08-17T13:17:48.950066Z"
    },
    "papermill": {
     "duration": 2.742732,
     "end_time": "2020-08-17T13:17:48.950233",
     "exception": false,
     "start_time": "2020-08-17T13:17:46.207501",
     "status": "completed"
    },
    "tags": []
   },
   "outputs": [
    {
     "data": {
      "image/png": "[encoded data removed]",
      "text/plain": [
       "<Figure size 1296x2016 with 11 Axes>"
      ]
     },
     "metadata": {
      "needs_background": "light"
     },
     "output_type": "display_data"
    }
   ],
   "source": [
    "#hide_input\n",
    "df = dft_ct_new_cases.copy()\n",
    "df.loc['Total'] = df.sum()\n",
    "n = 5\n",
    "ax = []\n",
    "fig = plt.figure(figsize = (18,28))\n",
    "gs = fig.add_gridspec(n+2, 5)\n",
    "# gs = fig.add_gridspec(2, 3)\n",
    "ax1 = fig.add_subplot(gs[0, :])\n",
    "ef = df.loc['Total'].rename_axis('date').reset_index()\n",
    "ef['date'] = ef['date'].astype('datetime64[ns]')\n",
    "ax1.bar(ef.date,ef.Total,alpha=0.3,color='#007acc')\n",
    "ax1.plot(ef.date,ef.Total , marker=\"o\", color='#007acc')\n",
    "ax1.xaxis.set_major_locator(mdates.WeekdayLocator())\n",
    "ax1.xaxis.set_major_formatter(mdates.DateFormatter('%b %d'))\n",
    "ax1.text(0.02, 0.5,'India daily case count', transform = ax1.transAxes, fontsize=25);\n",
    "ax1.spines['right'].set_visible(False)\n",
    "ax1.spines['top'].set_visible(False)\n",
    "\n",
    "ax2 = fig.add_subplot(gs[1,0])\n",
    "ef = df.loc['Maharashtra'].rename_axis('date').reset_index()\n",
    "ef['date'] = ef['date'].astype('datetime64[ns]')\n",
    "\n",
    "ax2.bar(ef.date, ef.Maharashtra,color = '#007acc',alpha=0.5)\n",
    "ax2.xaxis.set_major_locator(mdates.WeekdayLocator())\n",
    "ax2.xaxis.set_major_formatter(mdates.DateFormatter('%b %d'))\n",
    "ax2.set_xticks(ax2.get_xticks()[::3])\n",
    "maxyval = ef.Maharashtra.max()\n",
    "ax2.set_ylim([0,maxyval])\n",
    "ax2.text(0.05, 0.9,'Maharashtra', transform = ax2.transAxes, fontsize=20);\n",
    "ax2.spines['right'].set_visible(False)\n",
    "ax2.spines['top'].set_visible(False)\n",
    "\n",
    "\n",
    "ax3 = fig.add_subplot(gs[1,1])\n",
    "ef = df.loc['Tamil Nadu'].rename_axis('date').reset_index()\n",
    "ef['date'] = ef['date'].astype('datetime64[ns]')\n",
    "ax3.bar(ef.date, ef['Tamil Nadu'],color = '#007acc',alpha=0.5,)\n",
    "ax3.xaxis.set_major_locator(mdates.WeekdayLocator())\n",
    "ax3.xaxis.set_major_formatter(mdates.DateFormatter('%b %d'))\n",
    "ax3.set_xticks(ax3.get_xticks()[::3])\n",
    "ax3.text(0.05, 0.9,'Tamil Nadu', transform = ax3.transAxes, fontsize=20);\n",
    "ax3.spines['right'].set_visible(False)\n",
    "ax3.spines['top'].set_visible(False)\n",
    "\n",
    "ax5 = fig.add_subplot(gs[1,3])\n",
    "ef = df.loc['Telangana'].rename_axis('date').reset_index()\n",
    "ef['date'] = ef['date'].astype('datetime64[ns]')\n",
    "ax5.bar(ef.date, ef['Telangana'],color = '#007acc',alpha=0.5,)\n",
    "ax5.xaxis.set_major_locator(mdates.WeekdayLocator())\n",
    "ax5.xaxis.set_major_formatter(mdates.DateFormatter('%b %d'))\n",
    "ax5.set_xticks(ax5.get_xticks()[::3])\n",
    "ax5.text(0.05, 0.9,'Telangana', transform = ax5.transAxes, fontsize=20);\n",
    "ax5.spines['right'].set_visible(False)\n",
    "ax5.spines['top'].set_visible(False)\n",
    "\n",
    "ax6 = fig.add_subplot(gs[1,4])\n",
    "ef = df.loc['Andhra Pradesh'].rename_axis('date').reset_index()\n",
    "ef['date'] = ef['date'].astype('datetime64[ns]')\n",
    "ax6.bar(ef.date, ef['Andhra Pradesh'],color = '#007acc',alpha=0.5,)\n",
    "ax6.xaxis.set_major_locator(mdates.WeekdayLocator())\n",
    "ax6.xaxis.set_major_formatter(mdates.DateFormatter('%b %d'))\n",
    "ax6.set_xticks(ax6.get_xticks()[::3])\n",
    "ax6.text(0.05, 1,'Andhra Pradesh', transform = ax6.transAxes, fontsize=20);\n",
    "ax6.spines['right'].set_visible(False)\n",
    "ax6.spines['top'].set_visible(False)\n",
    "\n",
    "ax4 = fig.add_subplot(gs[1,2])\n",
    "ef = df.loc['Delhi'].rename_axis('date').reset_index()\n",
    "ef['date'] = ef['date'].astype('datetime64[ns]')\n",
    "ax4.bar(ef.date, ef.Delhi,color = '#007acc',alpha=0.5)\n",
    "ax4.set_xticks([])\n",
    "ax4.xaxis.set_major_locator(mdates.WeekdayLocator())\n",
    "ax4.xaxis.set_major_formatter(mdates.DateFormatter('%b %d'))\n",
    "ax4.set_xticks(ax4.get_xticks()[::3])\n",
    "ax4.spines['right'].set_visible(False)\n",
    "ax4.spines['top'].set_visible(False)\n",
    "\n",
    "ax4.text(0.05, 1,'Delhi', transform = ax4.transAxes, fontsize=20)\n",
    "\n",
    "for i in range(n):\n",
    "    \n",
    "    ax.append(fig.add_subplot(gs[i+2,:]))\n",
    "    ef = df.iloc[i+3].rename_axis('date').reset_index()\n",
    "    ef['date'] = ef['date'].astype('datetime64[ns]')\n",
    "    ax[i].bar(ef.date,ef.iloc[:,-1],color = '#007acc',alpha=0.3)\n",
    "    ax[i].plot(ef.date,ef.iloc[:,-1],marker='o',color='#007acc')\n",
    "    ax[i].text(0.02,0.5,f'{ef.columns.values[-1]}',transform = ax[i].transAxes, fontsize = 20);\n",
    "    ax[i].xaxis.set_major_locator(mdates.WeekdayLocator())\n",
    "    ax[i].xaxis.set_major_formatter(mdates.DateFormatter('%b %d'))\n",
    "    ax[i].set_ylim([0,7000])\n",
    "    ax[i].spines['right'].set_visible(False)\n",
    "    ax[i].spines['top'].set_visible(False)\n",
    "plt.tight_layout()\n"
   ]
  },
  {
   "cell_type": "code",
   "execution_count": 20,
   "metadata": {
    "execution": {
     "iopub.execute_input": "2020-08-17T13:17:48.997361Z",
     "iopub.status.busy": "2020-08-17T13:17:48.996794Z",
     "iopub.status.idle": "2020-08-17T13:17:48.999294Z",
     "shell.execute_reply": "2020-08-17T13:17:48.998886Z"
    },
    "papermill": {
     "duration": 0.030252,
     "end_time": "2020-08-17T13:17:48.999421",
     "exception": false,
     "start_time": "2020-08-17T13:17:48.969169",
     "status": "completed"
    },
    "tags": []
   },
   "outputs": [
    {
     "name": "stdout",
     "output_type": "stream",
     "text": [
      "                                   states   Cases  Deaths  PCases  PDeaths  Cases (+)  Deaths (+)  Fatality Rate\n",
      "                              Maharashtra  595865   20037  595865    20037          0           0           3.36\n",
      "                               Tamil Nadu  338055    5766  338055     5766          0           0           1.71\n",
      "                           Andhra Pradesh  296609    2732  289829     2650       6780          82           0.92\n",
      "                                Karnataka  226966    3956  226966     3956          0           0           1.74\n",
      "                            Uttar Pradesh  158216    2515  154418     2449       3798          66           1.59\n",
      "                                    Delhi  152580    4196  152580     4196          0           0           2.75\n",
      "                              West Bengal  116498    2428  116498     2428          0           0           2.08\n",
      "                                    Bihar  106618     542  104093      537       2525           5           0.51\n",
      "                                Telangana   92255     703   91361      693        894          10           0.76\n",
      "                                  Gujarat   78783    2785   78783     2785          0           0           3.54\n",
      "                                    Assam   76876     189   76876      189          0           0           0.25\n",
      "                                   Odisha   62294     406   60050      396       2244          10           0.65\n",
      "                                Rajasthan   61989     886   61296      876        693          10           1.43\n",
      "                                  Haryana   47153     538   47153      538          0           0           1.14\n",
      "                           Madhya Pradesh   45455    1105   45455     1105          0           0           2.43\n",
      "                                   Kerala   44415     157   44415      157          0           0           0.35\n",
      "                                   Punjab   31206     812   31206      812          0           0           2.60\n",
      "                        Jammu and Kashmir   28892     548   28470      542        422           6           1.90\n",
      "                                Jharkhand   23224     244   23224      244          0           0           1.05\n",
      "                             Chhattisgarh   15621     142   15621      142          0           0           0.91\n",
      "                              Uttarakhand   12175     152   12175      152          0           0           1.25\n",
      "                                      Goa   11639     104   11639      104          0           0           0.89\n",
      "                               Puducherry    8029     114    7732      110        297           4           1.42\n",
      "                                  Tripura    7219      59    7076       55        143           4           0.82\n",
      "                                  Manipur    4687      17    4569       16        118           1           0.36\n",
      "                         Himachal Pradesh    4156      18    4156       18          0           0           0.43\n",
      "                                 Nagaland    3455       7    3394        7         61           0           0.20\n",
      "                        Arunachal Pradesh    2701       5    2701        5          0           0           0.19\n",
      "              Andaman and Nicobar Islands    2399      28    2399       28          0           0           1.17\n",
      "                               Chandigarh    2102      29    2102       29          0           0           1.38\n",
      "                                   Ladakh    1948      14    1948       14          0           0           0.72\n",
      " Dadra and Nagar Haveli and Daman and Diu    1908       2    1881        2         27           0           0.10\n",
      "                                Meghalaya    1374       6    1374        6          0           0           0.44\n",
      "                                   Sikkim    1167       1    1167        1          0           0           0.09\n",
      "                                  Mizoram     789       0     777        0         12           0           0.00\n",
      "                              Lakshadweep       0       0       0        0          0           0            NaN\n"
     ]
    }
   ],
   "source": [
    "#hide_input\n",
    "print(df_table.to_string(index=False))"
   ]
  },
  {
   "cell_type": "code",
   "execution_count": null,
   "metadata": {
    "papermill": {
     "duration": 0.018302,
     "end_time": "2020-08-17T13:17:49.036262",
     "exception": false,
     "start_time": "2020-08-17T13:17:49.017960",
     "status": "completed"
    },
    "tags": []
   },
   "outputs": [],
   "source": []
  },
  {
   "cell_type": "code",
   "execution_count": null,
   "metadata": {
    "papermill": {
     "duration": 0.018825,
     "end_time": "2020-08-17T13:17:49.077511",
     "exception": false,
     "start_time": "2020-08-17T13:17:49.058686",
     "status": "completed"
    },
    "tags": []
   },
   "outputs": [],
   "source": []
  }
 ],
 "metadata": {
  "kernelspec": {
   "display_name": "Python 3",
   "language": "python",
   "name": "python3"
  },
  "language_info": {
   "codemirror_mode": {
    "name": "ipython",
    "version": 3
   },
   "file_extension": ".py",
   "mimetype": "text/x-python",
   "name": "python",
   "nbconvert_exporter": "python",
   "pygments_lexer": "ipython3",
   "version": "3.6.11"
  },
  "papermill": {
   "duration": 6.997315,
   "end_time": "2020-08-17T13:17:49.402855",
   "environment_variables": {},
   "exception": null,
   "input_path": "latest.ipynb",
   "output_path": "latest.ipynb",
   "parameters": {},
   "start_time": "2020-08-17T13:17:42.405540",
   "version": "2.1.2"
  }
 },
 "nbformat": 4,
 "nbformat_minor": 4
}