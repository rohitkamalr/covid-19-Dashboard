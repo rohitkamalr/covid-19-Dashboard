{
 "cells": [
  {
   "cell_type": "markdown",
   "metadata": {
    "papermill": {
     "duration": 0.037474,
     "end_time": "2020-09-10T05:20:51.666531",
     "exception": false,
     "start_time": "2020-09-10T05:20:51.629057",
     "status": "completed"
    },
    "tags": []
   },
   "source": [
    "# Latest COVID-19 India Matplotlib Overview"
   ]
  },
  {
   "cell_type": "code",
   "execution_count": 1,
   "metadata": {
    "execution": {
     "iopub.execute_input": "2020-09-10T05:20:51.739576Z",
     "iopub.status.busy": "2020-09-10T05:20:51.738868Z",
     "iopub.status.idle": "2020-09-10T05:20:52.430212Z",
     "shell.execute_reply": "2020-09-10T05:20:52.429581Z"
    },
    "papermill": {
     "duration": 0.735083,
     "end_time": "2020-09-10T05:20:52.430391",
     "exception": false,
     "start_time": "2020-09-10T05:20:51.695308",
     "status": "completed"
    },
    "tags": []
   },
   "outputs": [],
   "source": [
    "#hide\n",
    "import pandas as pd\n",
    "import numpy as np\n",
    "import requests\n",
    "import json\n",
    "import matplotlib.pyplot as plt\n",
    "import matplotlib.dates as mdates\n",
    "import matplotlib as mpl\n",
    "from IPython.core.display import display,HTML\n",
    "%matplotlib inline\n",
    "from datetime import date"
   ]
  },
  {
   "cell_type": "code",
   "execution_count": 2,
   "metadata": {
    "execution": {
     "iopub.execute_input": "2020-09-10T05:20:52.474722Z",
     "iopub.status.busy": "2020-09-10T05:20:52.473508Z",
     "iopub.status.idle": "2020-09-10T05:20:52.718990Z",
     "shell.execute_reply": "2020-09-10T05:20:52.718341Z"
    },
    "papermill": {
     "duration": 0.271219,
     "end_time": "2020-09-10T05:20:52.719144",
     "exception": false,
     "start_time": "2020-09-10T05:20:52.447925",
     "status": "completed"
    },
    "tags": []
   },
   "outputs": [],
   "source": [
    "#hide\n",
    "df  = pd.read_csv('https://api.covid19india.org/csv/latest/states.csv')\n",
    "df = df[['Date','State','Confirmed','Deceased']]\n",
    "df = df.rename(columns={'Confirmed':'Cases', \"Deceased\":'Deaths'})\n",
    "df_cases = df[[\"Date\",'State','Cases']]\n",
    "df_deaths = df[['Date','State','Deaths']]\n",
    "df_cases1 = df_cases.groupby('Date')\n",
    "df_deaths1= df_deaths.groupby('Date')"
   ]
  },
  {
   "cell_type": "code",
   "execution_count": 3,
   "metadata": {
    "execution": {
     "iopub.execute_input": "2020-09-10T05:20:52.758713Z",
     "iopub.status.busy": "2020-09-10T05:20:52.758006Z",
     "iopub.status.idle": "2020-09-10T05:20:52.778038Z",
     "shell.execute_reply": "2020-09-10T05:20:52.777419Z"
    },
    "papermill": {
     "duration": 0.042007,
     "end_time": "2020-09-10T05:20:52.778182",
     "exception": false,
     "start_time": "2020-09-10T05:20:52.736175",
     "status": "completed"
    },
    "tags": []
   },
   "outputs": [],
   "source": [
    "#hide\n",
    "df_snap = pd.read_csv('data/SnapshotCases-28-July.csv')\n",
    "arr_states = df_snap['states'].unique()\n",
    "arr_dates = df['Date'].unique()\n",
    "df_snap = df_snap.set_index('states')"
   ]
  },
  {
   "cell_type": "code",
   "execution_count": 4,
   "metadata": {
    "execution": {
     "iopub.execute_input": "2020-09-10T05:20:52.820672Z",
     "iopub.status.busy": "2020-09-10T05:20:52.819937Z",
     "iopub.status.idle": "2020-09-10T05:20:52.825882Z",
     "shell.execute_reply": "2020-09-10T05:20:52.826423Z"
    },
    "papermill": {
     "duration": 0.031099,
     "end_time": "2020-09-10T05:20:52.826604",
     "exception": false,
     "start_time": "2020-09-10T05:20:52.795505",
     "status": "completed"
    },
    "tags": []
   },
   "outputs": [
    {
     "data": {
      "text/plain": [
       "array(['Andaman and Nicobar Islands', 'Andhra Pradesh',\n",
       "       'Arunachal Pradesh', 'Assam', 'Bihar', 'Chandigarh',\n",
       "       'Dadra and Nagar Haveli and Daman and Diu', 'Delhi', 'Goa',\n",
       "       'Gujarat', 'Haryana', 'Himachal Pradesh', 'Jammu and Kashmir',\n",
       "       'Jharkhand', 'Karnataka', 'Kerala', 'Lakshadweep',\n",
       "       'Madhya Pradesh', 'Maharashtra', 'Manipur', 'Meghalaya', 'Mizoram',\n",
       "       'Nagaland', 'Odisha', 'Puducherry', 'Punjab', 'Rajasthan',\n",
       "       'Sikkim', 'Tamil Nadu', 'Telangana', 'Tripura', 'Uttar Pradesh',\n",
       "       'West Bengal', 'Chhattisgarh', 'Ladakh', 'Uttarakhand'],\n",
       "      dtype=object)"
      ]
     },
     "execution_count": 4,
     "metadata": {},
     "output_type": "execute_result"
    }
   ],
   "source": [
    "#hide\n",
    "arr_states[-9] = 'Puducherry'\n",
    "arr_states[-10] = 'Odisha'\n",
    "arr_states[6] = 'Dadra and Nagar Haveli and Daman and Diu'\n",
    "arr_states = np.append(arr_states,np.array(['Chhattisgarh','Ladakh','Uttarakhand']))\n",
    "arr_states"
   ]
  },
  {
   "cell_type": "code",
   "execution_count": 5,
   "metadata": {
    "execution": {
     "iopub.execute_input": "2020-09-10T05:20:52.874938Z",
     "iopub.status.busy": "2020-09-10T05:20:52.874174Z",
     "iopub.status.idle": "2020-09-10T05:20:52.882129Z",
     "shell.execute_reply": "2020-09-10T05:20:52.882736Z"
    },
    "papermill": {
     "duration": 0.038329,
     "end_time": "2020-09-10T05:20:52.882959",
     "exception": false,
     "start_time": "2020-09-10T05:20:52.844630",
     "status": "completed"
    },
    "tags": []
   },
   "outputs": [],
   "source": [
    "#hide\n",
    "dates = []\n",
    "for i in arr_dates:\n",
    "    if i>='2020-07-01':\n",
    "        dates.append(i)\n",
    "dict = {'states':dates}\n",
    "for i in arr_states:\n",
    "    dict[i] = [0]*len(dates)\n",
    "dft_cases = pd.DataFrame(dict)\n",
    "dft_deaths = pd.DataFrame(dict)\n"
   ]
  },
  {
   "cell_type": "code",
   "execution_count": 6,
   "metadata": {
    "execution": {
     "iopub.execute_input": "2020-09-10T05:20:52.925859Z",
     "iopub.status.busy": "2020-09-10T05:20:52.925187Z",
     "iopub.status.idle": "2020-09-10T05:20:54.322600Z",
     "shell.execute_reply": "2020-09-10T05:20:54.321984Z"
    },
    "papermill": {
     "duration": 1.421722,
     "end_time": "2020-09-10T05:20:54.322756",
     "exception": false,
     "start_time": "2020-09-10T05:20:52.901034",
     "status": "completed"
    },
    "tags": []
   },
   "outputs": [],
   "source": [
    "#hide\n",
    "for i in range(len(dates)):\n",
    "    df1_deaths = df_deaths1.get_group(dates[i])\n",
    "    for j in range(len(df1_deaths.index)):\n",
    "        if df1_deaths.iloc[j,1] in arr_states:\n",
    "            dft_deaths.loc[i,df1_deaths.iloc[j,1]] = df1_deaths.iloc[j,2]\n",
    "dft_deaths = dft_deaths.set_index('states')"
   ]
  },
  {
   "cell_type": "code",
   "execution_count": 7,
   "metadata": {
    "execution": {
     "iopub.execute_input": "2020-09-10T05:20:54.369736Z",
     "iopub.status.busy": "2020-09-10T05:20:54.368894Z",
     "iopub.status.idle": "2020-09-10T05:20:55.725543Z",
     "shell.execute_reply": "2020-09-10T05:20:55.724959Z"
    },
    "papermill": {
     "duration": 1.381258,
     "end_time": "2020-09-10T05:20:55.725700",
     "exception": false,
     "start_time": "2020-09-10T05:20:54.344442",
     "status": "completed"
    },
    "tags": []
   },
   "outputs": [],
   "source": [
    "#hide\n",
    "for i in range(len(dates)):\n",
    "    df1_cases = df_cases1.get_group(dates[i])\n",
    "    for j in range(len(df1_cases.index)):\n",
    "        if df1_cases.iloc[j,1] in arr_states:\n",
    "            dft_cases.loc[i,df1_cases.iloc[j,1]] = df1_cases.iloc[j,2]\n",
    "dft_cases = dft_cases.set_index('states')"
   ]
  },
  {
   "cell_type": "code",
   "execution_count": 8,
   "metadata": {
    "execution": {
     "iopub.execute_input": "2020-09-10T05:20:55.767509Z",
     "iopub.status.busy": "2020-09-10T05:20:55.766771Z",
     "iopub.status.idle": "2020-09-10T05:20:55.769789Z",
     "shell.execute_reply": "2020-09-10T05:20:55.770319Z"
    },
    "papermill": {
     "duration": 0.02707,
     "end_time": "2020-09-10T05:20:55.770490",
     "exception": false,
     "start_time": "2020-09-10T05:20:55.743420",
     "status": "completed"
    },
    "tags": []
   },
   "outputs": [],
   "source": [
    "#hide\n",
    "dft_cases = dft_cases.T\n",
    "dft_deaths = dft_deaths.T\n",
    "dt_today = dates[-1]\n",
    "dt_yday = dates[-2]"
   ]
  },
  {
   "cell_type": "code",
   "execution_count": 9,
   "metadata": {
    "execution": {
     "iopub.execute_input": "2020-09-10T05:20:55.813901Z",
     "iopub.status.busy": "2020-09-10T05:20:55.813209Z",
     "iopub.status.idle": "2020-09-10T05:20:55.817564Z",
     "shell.execute_reply": "2020-09-10T05:20:55.816964Z"
    },
    "papermill": {
     "duration": 0.029966,
     "end_time": "2020-09-10T05:20:55.817696",
     "exception": false,
     "start_time": "2020-09-10T05:20:55.787730",
     "status": "completed"
    },
    "tags": []
   },
   "outputs": [],
   "source": [
    "#hide\n",
    "dft_cases = dft_cases.reset_index()\n",
    "dft_deaths = dft_deaths.reset_index()\n",
    "dft_cases = dft_cases.rename(columns = {'index':'state'})\n",
    "dft_deaths = dft_deaths.rename(columns = {'index':'state'})"
   ]
  },
  {
   "cell_type": "code",
   "execution_count": 10,
   "metadata": {
    "execution": {
     "iopub.execute_input": "2020-09-10T05:20:55.866074Z",
     "iopub.status.busy": "2020-09-10T05:20:55.862900Z",
     "iopub.status.idle": "2020-09-10T05:20:55.868616Z",
     "shell.execute_reply": "2020-09-10T05:20:55.868079Z"
    },
    "papermill": {
     "duration": 0.033126,
     "end_time": "2020-09-10T05:20:55.868738",
     "exception": false,
     "start_time": "2020-09-10T05:20:55.835612",
     "status": "completed"
    },
    "tags": []
   },
   "outputs": [],
   "source": [
    "#hide\n",
    "dfc_cases = dft_cases.groupby('state')[dt_today].sum()\n",
    "dfc_deaths = dft_deaths.groupby('state')[dt_today].sum()\n",
    "dfp_cases = dft_cases.groupby('state')[dt_yday].sum()\n",
    "dfp_deaths = dft_deaths.groupby('state')[dt_yday].sum()"
   ]
  },
  {
   "cell_type": "code",
   "execution_count": 11,
   "metadata": {
    "execution": {
     "iopub.execute_input": "2020-09-10T05:20:55.910940Z",
     "iopub.status.busy": "2020-09-10T05:20:55.910233Z",
     "iopub.status.idle": "2020-09-10T05:20:55.926297Z",
     "shell.execute_reply": "2020-09-10T05:20:55.926988Z"
    },
    "papermill": {
     "duration": 0.040998,
     "end_time": "2020-09-10T05:20:55.927138",
     "exception": false,
     "start_time": "2020-09-10T05:20:55.886140",
     "status": "completed"
    },
    "tags": []
   },
   "outputs": [
    {
     "data": {
      "text/html": [
       "<div>\n",
       "<style scoped>\n",
       "    .dataframe tbody tr th:only-of-type {\n",
       "        vertical-align: middle;\n",
       "    }\n",
       "\n",
       "    .dataframe tbody tr th {\n",
       "        vertical-align: top;\n",
       "    }\n",
       "\n",
       "    .dataframe thead th {\n",
       "        text-align: right;\n",
       "    }\n",
       "</style>\n",
       "<table border=\"1\" class=\"dataframe\">\n",
       "  <thead>\n",
       "    <tr style=\"text-align: right;\">\n",
       "      <th></th>\n",
       "      <th>states</th>\n",
       "      <th>Cases</th>\n",
       "      <th>Deaths</th>\n",
       "      <th>PCases</th>\n",
       "      <th>PDeaths</th>\n",
       "    </tr>\n",
       "  </thead>\n",
       "  <tbody>\n",
       "    <tr>\n",
       "      <th>0</th>\n",
       "      <td>Maharashtra</td>\n",
       "      <td>967349</td>\n",
       "      <td>27787</td>\n",
       "      <td>967349</td>\n",
       "      <td>27787</td>\n",
       "    </tr>\n",
       "    <tr>\n",
       "      <th>1</th>\n",
       "      <td>Andhra Pradesh</td>\n",
       "      <td>527512</td>\n",
       "      <td>4634</td>\n",
       "      <td>527512</td>\n",
       "      <td>4634</td>\n",
       "    </tr>\n",
       "    <tr>\n",
       "      <th>2</th>\n",
       "      <td>Tamil Nadu</td>\n",
       "      <td>480524</td>\n",
       "      <td>8093</td>\n",
       "      <td>480524</td>\n",
       "      <td>8093</td>\n",
       "    </tr>\n",
       "    <tr>\n",
       "      <th>3</th>\n",
       "      <td>Karnataka</td>\n",
       "      <td>421730</td>\n",
       "      <td>6808</td>\n",
       "      <td>421730</td>\n",
       "      <td>6808</td>\n",
       "    </tr>\n",
       "    <tr>\n",
       "      <th>4</th>\n",
       "      <td>Uttar Pradesh</td>\n",
       "      <td>285041</td>\n",
       "      <td>4112</td>\n",
       "      <td>285041</td>\n",
       "      <td>4112</td>\n",
       "    </tr>\n",
       "  </tbody>\n",
       "</table>\n",
       "</div>"
      ],
      "text/plain": [
       "           states   Cases  Deaths  PCases  PDeaths\n",
       "0     Maharashtra  967349   27787  967349    27787\n",
       "1  Andhra Pradesh  527512    4634  527512     4634\n",
       "2      Tamil Nadu  480524    8093  480524     8093\n",
       "3       Karnataka  421730    6808  421730     6808\n",
       "4   Uttar Pradesh  285041    4112  285041     4112"
      ]
     },
     "execution_count": 11,
     "metadata": {},
     "output_type": "execute_result"
    }
   ],
   "source": [
    "#hide\n",
    "df_table = pd.DataFrame({'states': dfc_cases.index, 'Cases': dfc_cases.values, 'Deaths': dfc_deaths.values, 'PCases': dfp_cases.values, 'PDeaths': dfp_deaths.values}).set_index('states')\n",
    "df_table = df_table.sort_values(by = ['Cases','Deaths'], ascending = [False, False])\n",
    "df_table = df_table.reset_index()\n",
    "df_table.head()"
   ]
  },
  {
   "cell_type": "code",
   "execution_count": 12,
   "metadata": {
    "execution": {
     "iopub.execute_input": "2020-09-10T05:20:55.968002Z",
     "iopub.status.busy": "2020-09-10T05:20:55.967374Z",
     "iopub.status.idle": "2020-09-10T05:20:55.976256Z",
     "shell.execute_reply": "2020-09-10T05:20:55.976842Z"
    },
    "papermill": {
     "duration": 0.032093,
     "end_time": "2020-09-10T05:20:55.977020",
     "exception": false,
     "start_time": "2020-09-10T05:20:55.944927",
     "status": "completed"
    },
    "tags": []
   },
   "outputs": [],
   "source": [
    "#hide\n",
    "for c in 'Cases, Deaths'.split(', '):\n",
    "    df_table[f'{c} (+)'] = (df_table[c] - df_table[f'P{c}']).clip(0)\n",
    "df_table['Fatality Rate'] = (100* df_table['Deaths']/ df_table['Cases']).round(2)"
   ]
  },
  {
   "cell_type": "code",
   "execution_count": 13,
   "metadata": {
    "execution": {
     "iopub.execute_input": "2020-09-10T05:20:56.025568Z",
     "iopub.status.busy": "2020-09-10T05:20:56.024640Z",
     "iopub.status.idle": "2020-09-10T05:20:56.027472Z",
     "shell.execute_reply": "2020-09-10T05:20:56.028057Z"
    },
    "papermill": {
     "duration": 0.031779,
     "end_time": "2020-09-10T05:20:56.028217",
     "exception": false,
     "start_time": "2020-09-10T05:20:55.996438",
     "status": "completed"
    },
    "tags": []
   },
   "outputs": [
    {
     "data": {
      "text/html": [
       "<div>\n",
       "<style scoped>\n",
       "    .dataframe tbody tr th:only-of-type {\n",
       "        vertical-align: middle;\n",
       "    }\n",
       "\n",
       "    .dataframe tbody tr th {\n",
       "        vertical-align: top;\n",
       "    }\n",
       "\n",
       "    .dataframe thead th {\n",
       "        text-align: right;\n",
       "    }\n",
       "</style>\n",
       "<table border=\"1\" class=\"dataframe\">\n",
       "  <thead>\n",
       "    <tr style=\"text-align: right;\">\n",
       "      <th></th>\n",
       "      <th>states</th>\n",
       "      <th>Cases</th>\n",
       "      <th>Deaths</th>\n",
       "      <th>PCases</th>\n",
       "      <th>PDeaths</th>\n",
       "      <th>Cases (+)</th>\n",
       "      <th>Deaths (+)</th>\n",
       "      <th>Fatality Rate</th>\n",
       "    </tr>\n",
       "  </thead>\n",
       "  <tbody>\n",
       "    <tr>\n",
       "      <th>0</th>\n",
       "      <td>Maharashtra</td>\n",
       "      <td>967349</td>\n",
       "      <td>27787</td>\n",
       "      <td>967349</td>\n",
       "      <td>27787</td>\n",
       "      <td>0</td>\n",
       "      <td>0</td>\n",
       "      <td>2.87</td>\n",
       "    </tr>\n",
       "    <tr>\n",
       "      <th>1</th>\n",
       "      <td>Andhra Pradesh</td>\n",
       "      <td>527512</td>\n",
       "      <td>4634</td>\n",
       "      <td>527512</td>\n",
       "      <td>4634</td>\n",
       "      <td>0</td>\n",
       "      <td>0</td>\n",
       "      <td>0.88</td>\n",
       "    </tr>\n",
       "    <tr>\n",
       "      <th>2</th>\n",
       "      <td>Tamil Nadu</td>\n",
       "      <td>480524</td>\n",
       "      <td>8093</td>\n",
       "      <td>480524</td>\n",
       "      <td>8093</td>\n",
       "      <td>0</td>\n",
       "      <td>0</td>\n",
       "      <td>1.68</td>\n",
       "    </tr>\n",
       "    <tr>\n",
       "      <th>3</th>\n",
       "      <td>Karnataka</td>\n",
       "      <td>421730</td>\n",
       "      <td>6808</td>\n",
       "      <td>421730</td>\n",
       "      <td>6808</td>\n",
       "      <td>0</td>\n",
       "      <td>0</td>\n",
       "      <td>1.61</td>\n",
       "    </tr>\n",
       "    <tr>\n",
       "      <th>4</th>\n",
       "      <td>Uttar Pradesh</td>\n",
       "      <td>285041</td>\n",
       "      <td>4112</td>\n",
       "      <td>285041</td>\n",
       "      <td>4112</td>\n",
       "      <td>0</td>\n",
       "      <td>0</td>\n",
       "      <td>1.44</td>\n",
       "    </tr>\n",
       "  </tbody>\n",
       "</table>\n",
       "</div>"
      ],
      "text/plain": [
       "           states   Cases  Deaths  PCases  PDeaths  Cases (+)  Deaths (+)  \\\n",
       "0     Maharashtra  967349   27787  967349    27787          0           0   \n",
       "1  Andhra Pradesh  527512    4634  527512     4634          0           0   \n",
       "2      Tamil Nadu  480524    8093  480524     8093          0           0   \n",
       "3       Karnataka  421730    6808  421730     6808          0           0   \n",
       "4   Uttar Pradesh  285041    4112  285041     4112          0           0   \n",
       "\n",
       "   Fatality Rate  \n",
       "0           2.87  \n",
       "1           0.88  \n",
       "2           1.68  \n",
       "3           1.61  \n",
       "4           1.44  "
      ]
     },
     "execution_count": 13,
     "metadata": {},
     "output_type": "execute_result"
    }
   ],
   "source": [
    "#hide\n",
    "df_table.head()"
   ]
  },
  {
   "cell_type": "code",
   "execution_count": 14,
   "metadata": {
    "execution": {
     "iopub.execute_input": "2020-09-10T05:20:56.073940Z",
     "iopub.status.busy": "2020-09-10T05:20:56.073259Z",
     "iopub.status.idle": "2020-09-10T05:20:56.092682Z",
     "shell.execute_reply": "2020-09-10T05:20:56.092130Z"
    },
    "papermill": {
     "duration": 0.04514,
     "end_time": "2020-09-10T05:20:56.092835",
     "exception": false,
     "start_time": "2020-09-10T05:20:56.047695",
     "status": "completed"
    },
    "tags": []
   },
   "outputs": [
    {
     "data": {
      "text/plain": [
       "{'updated': '2020-09-10',\n",
       " 'since': '2020-09-09',\n",
       " 'Cases': 4463106,\n",
       " 'PCases': 4462965,\n",
       " 'Deaths': 75091,\n",
       " 'PDeaths': 75091,\n",
       " 'Cases (+)': 141,\n",
       " 'Deaths (+)': 0}"
      ]
     },
     "execution_count": 14,
     "metadata": {},
     "output_type": "execute_result"
    }
   ],
   "source": [
    "#hide\n",
    "summary = {'updated':dates[-1], 'since':dates[-2]}\n",
    "list_names = ['Cases', 'PCases', 'Deaths', 'PDeaths', 'Cases (+)', 'Deaths (+)']\n",
    "for name in list_names:\n",
    "    summary[name] = df_table.sum()[name]\n",
    "summary"
   ]
  },
  {
   "cell_type": "code",
   "execution_count": 15,
   "metadata": {
    "execution": {
     "iopub.execute_input": "2020-09-10T05:20:56.137024Z",
     "iopub.status.busy": "2020-09-10T05:20:56.136324Z",
     "iopub.status.idle": "2020-09-10T05:20:56.138394Z",
     "shell.execute_reply": "2020-09-10T05:20:56.139032Z"
    },
    "papermill": {
     "duration": 0.02703,
     "end_time": "2020-09-10T05:20:56.139216",
     "exception": false,
     "start_time": "2020-09-10T05:20:56.112186",
     "status": "completed"
    },
    "tags": []
   },
   "outputs": [],
   "source": [
    "#hide\n",
    "overview = '''\n",
    "<!-- #######  HTML!! #########-->\n",
    "<h1 style=\"color: #5e9ca0; text-align: center;\">India</h1>\n",
    "<p style=\"text-align: center;\">Last update: <strong>{update}</strong></p>\n",
    "<p style=\"text-align: center;\">Confirmed cases:</p>\n",
    "<p style=\"text-align: center;font-size:24px;\">{cases} (<span style=\"color: #ff0000;\">+{new}</span>)</p>\n",
    "<p style=\"text-align: center;\">Confirmed deaths:</p>\n",
    "<p style=\"text-align: center;font-size:24px;\">{deaths} (<span style=\"color: #ff0000;\">+{dnew}</span>)</p>\n",
    "'''"
   ]
  },
  {
   "cell_type": "code",
   "execution_count": 16,
   "metadata": {
    "execution": {
     "iopub.execute_input": "2020-09-10T05:20:56.184674Z",
     "iopub.status.busy": "2020-09-10T05:20:56.183919Z",
     "iopub.status.idle": "2020-09-10T05:20:56.187036Z",
     "shell.execute_reply": "2020-09-10T05:20:56.187635Z"
    },
    "papermill": {
     "duration": 0.030177,
     "end_time": "2020-09-10T05:20:56.187835",
     "exception": false,
     "start_time": "2020-09-10T05:20:56.157658",
     "status": "completed"
    },
    "tags": []
   },
   "outputs": [
    {
     "data": {
      "text/html": [
       "\n",
       "<!-- #######  HTML!! #########-->\n",
       "<h1 style=\"color: #5e9ca0; text-align: center;\">India</h1>\n",
       "<p style=\"text-align: center;\">Last update: <strong>2020-09-10</strong></p>\n",
       "<p style=\"text-align: center;\">Confirmed cases:</p>\n",
       "<p style=\"text-align: center;font-size:24px;\">4463106 (<span style=\"color: #ff0000;\">+141</span>)</p>\n",
       "<p style=\"text-align: center;\">Confirmed deaths:</p>\n",
       "<p style=\"text-align: center;font-size:24px;\">75091 (<span style=\"color: #ff0000;\">+0</span>)</p>\n"
      ],
      "text/plain": [
       "<IPython.core.display.HTML object>"
      ]
     },
     "metadata": {},
     "output_type": "display_data"
    }
   ],
   "source": [
    "#hide_input\n",
    "update = summary['updated']\n",
    "cases = summary['Cases']\n",
    "new = summary['Cases (+)']\n",
    "deaths = summary['Deaths']\n",
    "dnew = summary['Deaths (+)']\n",
    "\n",
    "html = HTML(overview.format(update=update, cases=cases,new=new,deaths=deaths,dnew=dnew))\n",
    "\n",
    "display(html)"
   ]
  },
  {
   "cell_type": "code",
   "execution_count": 17,
   "metadata": {
    "execution": {
     "iopub.execute_input": "2020-09-10T05:20:56.239877Z",
     "iopub.status.busy": "2020-09-10T05:20:56.239101Z",
     "iopub.status.idle": "2020-09-10T05:20:56.244762Z",
     "shell.execute_reply": "2020-09-10T05:20:56.245415Z"
    },
    "papermill": {
     "duration": 0.036493,
     "end_time": "2020-09-10T05:20:56.245625",
     "exception": false,
     "start_time": "2020-09-10T05:20:56.209132",
     "status": "completed"
    },
    "tags": []
   },
   "outputs": [],
   "source": [
    "#hide\n",
    "dt_cols = list(dft_cases.columns[1:])\n",
    "dft_ct_new_cases = dft_cases.groupby('state')[dt_cols].sum().diff(axis=1).fillna(0).astype(int)\n",
    "dft_ct_new_cases.sort_values(by = dates[-1], ascending = False,inplace = True)"
   ]
  },
  {
   "cell_type": "code",
   "execution_count": 18,
   "metadata": {
    "execution": {
     "iopub.execute_input": "2020-09-10T05:20:56.312505Z",
     "iopub.status.busy": "2020-09-10T05:20:56.306389Z",
     "iopub.status.idle": "2020-09-10T05:20:56.316820Z",
     "shell.execute_reply": "2020-09-10T05:20:56.316153Z"
    },
    "papermill": {
     "duration": 0.045549,
     "end_time": "2020-09-10T05:20:56.316965",
     "exception": false,
     "start_time": "2020-09-10T05:20:56.271416",
     "status": "completed"
    },
    "tags": []
   },
   "outputs": [
    {
     "data": {
      "text/html": [
       "<div>\n",
       "<style scoped>\n",
       "    .dataframe tbody tr th:only-of-type {\n",
       "        vertical-align: middle;\n",
       "    }\n",
       "\n",
       "    .dataframe tbody tr th {\n",
       "        vertical-align: top;\n",
       "    }\n",
       "\n",
       "    .dataframe thead th {\n",
       "        text-align: right;\n",
       "    }\n",
       "</style>\n",
       "<table border=\"1\" class=\"dataframe\">\n",
       "  <thead>\n",
       "    <tr style=\"text-align: right;\">\n",
       "      <th>states</th>\n",
       "      <th>2020-07-01</th>\n",
       "      <th>2020-07-02</th>\n",
       "      <th>2020-07-03</th>\n",
       "      <th>2020-07-04</th>\n",
       "      <th>2020-07-05</th>\n",
       "      <th>2020-07-06</th>\n",
       "      <th>2020-07-07</th>\n",
       "      <th>2020-07-08</th>\n",
       "      <th>2020-07-09</th>\n",
       "      <th>2020-07-10</th>\n",
       "      <th>...</th>\n",
       "      <th>2020-09-01</th>\n",
       "      <th>2020-09-02</th>\n",
       "      <th>2020-09-03</th>\n",
       "      <th>2020-09-04</th>\n",
       "      <th>2020-09-05</th>\n",
       "      <th>2020-09-06</th>\n",
       "      <th>2020-09-07</th>\n",
       "      <th>2020-09-08</th>\n",
       "      <th>2020-09-09</th>\n",
       "      <th>2020-09-10</th>\n",
       "    </tr>\n",
       "    <tr>\n",
       "      <th>state</th>\n",
       "      <th></th>\n",
       "      <th></th>\n",
       "      <th></th>\n",
       "      <th></th>\n",
       "      <th></th>\n",
       "      <th></th>\n",
       "      <th></th>\n",
       "      <th></th>\n",
       "      <th></th>\n",
       "      <th></th>\n",
       "      <th></th>\n",
       "      <th></th>\n",
       "      <th></th>\n",
       "      <th></th>\n",
       "      <th></th>\n",
       "      <th></th>\n",
       "      <th></th>\n",
       "      <th></th>\n",
       "      <th></th>\n",
       "      <th></th>\n",
       "      <th></th>\n",
       "    </tr>\n",
       "  </thead>\n",
       "  <tbody>\n",
       "    <tr>\n",
       "      <th>Mizoram</th>\n",
       "      <td>0</td>\n",
       "      <td>2</td>\n",
       "      <td>0</td>\n",
       "      <td>2</td>\n",
       "      <td>22</td>\n",
       "      <td>11</td>\n",
       "      <td>1</td>\n",
       "      <td>5</td>\n",
       "      <td>0</td>\n",
       "      <td>23</td>\n",
       "      <td>...</td>\n",
       "      <td>1</td>\n",
       "      <td>8</td>\n",
       "      <td>20</td>\n",
       "      <td>6</td>\n",
       "      <td>16</td>\n",
       "      <td>31</td>\n",
       "      <td>21</td>\n",
       "      <td>9</td>\n",
       "      <td>69</td>\n",
       "      <td>141</td>\n",
       "    </tr>\n",
       "    <tr>\n",
       "      <th>Andaman and Nicobar Islands</th>\n",
       "      <td>0</td>\n",
       "      <td>9</td>\n",
       "      <td>7</td>\n",
       "      <td>3</td>\n",
       "      <td>6</td>\n",
       "      <td>16</td>\n",
       "      <td>6</td>\n",
       "      <td>2</td>\n",
       "      <td>7</td>\n",
       "      <td>0</td>\n",
       "      <td>...</td>\n",
       "      <td>28</td>\n",
       "      <td>26</td>\n",
       "      <td>37</td>\n",
       "      <td>34</td>\n",
       "      <td>35</td>\n",
       "      <td>40</td>\n",
       "      <td>27</td>\n",
       "      <td>33</td>\n",
       "      <td>34</td>\n",
       "      <td>0</td>\n",
       "    </tr>\n",
       "    <tr>\n",
       "      <th>Andhra Pradesh</th>\n",
       "      <td>0</td>\n",
       "      <td>845</td>\n",
       "      <td>837</td>\n",
       "      <td>765</td>\n",
       "      <td>998</td>\n",
       "      <td>1322</td>\n",
       "      <td>1178</td>\n",
       "      <td>1062</td>\n",
       "      <td>1555</td>\n",
       "      <td>1608</td>\n",
       "      <td>...</td>\n",
       "      <td>10368</td>\n",
       "      <td>10392</td>\n",
       "      <td>10199</td>\n",
       "      <td>10776</td>\n",
       "      <td>10825</td>\n",
       "      <td>10794</td>\n",
       "      <td>8368</td>\n",
       "      <td>10601</td>\n",
       "      <td>10418</td>\n",
       "      <td>0</td>\n",
       "    </tr>\n",
       "    <tr>\n",
       "      <th>Maharashtra</th>\n",
       "      <td>0</td>\n",
       "      <td>6328</td>\n",
       "      <td>6364</td>\n",
       "      <td>7074</td>\n",
       "      <td>6555</td>\n",
       "      <td>5368</td>\n",
       "      <td>5134</td>\n",
       "      <td>6603</td>\n",
       "      <td>6875</td>\n",
       "      <td>7862</td>\n",
       "      <td>...</td>\n",
       "      <td>15765</td>\n",
       "      <td>17433</td>\n",
       "      <td>18105</td>\n",
       "      <td>19218</td>\n",
       "      <td>20800</td>\n",
       "      <td>23350</td>\n",
       "      <td>16429</td>\n",
       "      <td>20131</td>\n",
       "      <td>23577</td>\n",
       "      <td>0</td>\n",
       "    </tr>\n",
       "    <tr>\n",
       "      <th>Manipur</th>\n",
       "      <td>0</td>\n",
       "      <td>19</td>\n",
       "      <td>37</td>\n",
       "      <td>9</td>\n",
       "      <td>41</td>\n",
       "      <td>24</td>\n",
       "      <td>40</td>\n",
       "      <td>5</td>\n",
       "      <td>15</td>\n",
       "      <td>132</td>\n",
       "      <td>...</td>\n",
       "      <td>130</td>\n",
       "      <td>125</td>\n",
       "      <td>102</td>\n",
       "      <td>90</td>\n",
       "      <td>184</td>\n",
       "      <td>139</td>\n",
       "      <td>84</td>\n",
       "      <td>96</td>\n",
       "      <td>160</td>\n",
       "      <td>0</td>\n",
       "    </tr>\n",
       "  </tbody>\n",
       "</table>\n",
       "<p>5 rows × 72 columns</p>\n",
       "</div>"
      ],
      "text/plain": [
       "states                       2020-07-01  2020-07-02  2020-07-03  2020-07-04  \\\n",
       "state                                                                         \n",
       "Mizoram                               0           2           0           2   \n",
       "Andaman and Nicobar Islands           0           9           7           3   \n",
       "Andhra Pradesh                        0         845         837         765   \n",
       "Maharashtra                           0        6328        6364        7074   \n",
       "Manipur                               0          19          37           9   \n",
       "\n",
       "states                       2020-07-05  2020-07-06  2020-07-07  2020-07-08  \\\n",
       "state                                                                         \n",
       "Mizoram                              22          11           1           5   \n",
       "Andaman and Nicobar Islands           6          16           6           2   \n",
       "Andhra Pradesh                      998        1322        1178        1062   \n",
       "Maharashtra                        6555        5368        5134        6603   \n",
       "Manipur                              41          24          40           5   \n",
       "\n",
       "states                       2020-07-09  2020-07-10  ...  2020-09-01  \\\n",
       "state                                                ...               \n",
       "Mizoram                               0          23  ...           1   \n",
       "Andaman and Nicobar Islands           7           0  ...          28   \n",
       "Andhra Pradesh                     1555        1608  ...       10368   \n",
       "Maharashtra                        6875        7862  ...       15765   \n",
       "Manipur                              15         132  ...         130   \n",
       "\n",
       "states                       2020-09-02  2020-09-03  2020-09-04  2020-09-05  \\\n",
       "state                                                                         \n",
       "Mizoram                               8          20           6          16   \n",
       "Andaman and Nicobar Islands          26          37          34          35   \n",
       "Andhra Pradesh                    10392       10199       10776       10825   \n",
       "Maharashtra                       17433       18105       19218       20800   \n",
       "Manipur                             125         102          90         184   \n",
       "\n",
       "states                       2020-09-06  2020-09-07  2020-09-08  2020-09-09  \\\n",
       "state                                                                         \n",
       "Mizoram                              31          21           9          69   \n",
       "Andaman and Nicobar Islands          40          27          33          34   \n",
       "Andhra Pradesh                    10794        8368       10601       10418   \n",
       "Maharashtra                       23350       16429       20131       23577   \n",
       "Manipur                             139          84          96         160   \n",
       "\n",
       "states                       2020-09-10  \n",
       "state                                    \n",
       "Mizoram                             141  \n",
       "Andaman and Nicobar Islands           0  \n",
       "Andhra Pradesh                        0  \n",
       "Maharashtra                           0  \n",
       "Manipur                               0  \n",
       "\n",
       "[5 rows x 72 columns]"
      ]
     },
     "execution_count": 18,
     "metadata": {},
     "output_type": "execute_result"
    }
   ],
   "source": [
    "#hide\n",
    "dft_ct_new_cases.head()"
   ]
  },
  {
   "cell_type": "code",
   "execution_count": 19,
   "metadata": {
    "execution": {
     "iopub.execute_input": "2020-09-10T05:20:56.376756Z",
     "iopub.status.busy": "2020-09-10T05:20:56.366268Z",
     "iopub.status.idle": "2020-09-10T05:21:00.574183Z",
     "shell.execute_reply": "2020-09-10T05:21:00.574807Z"
    },
    "papermill": {
     "duration": 4.238055,
     "end_time": "2020-09-10T05:21:00.575000",
     "exception": false,
     "start_time": "2020-09-10T05:20:56.336945",
     "status": "completed"
    },
    "tags": []
   },
   "outputs": [
    {
     "data": {
      "image/png": "[encoded data removed]",
      "text/plain": [
       "<Figure size 1296x2016 with 11 Axes>"
      ]
     },
     "metadata": {
      "needs_background": "light"
     },
     "output_type": "display_data"
    }
   ],
   "source": [
    "#hide_input\n",
    "df = dft_ct_new_cases.copy()\n",
    "df.loc['Total'] = df.sum()\n",
    "n = 5\n",
    "ax = []\n",
    "fig = plt.figure(figsize = (18,28))\n",
    "gs = fig.add_gridspec(n+2, 5)\n",
    "# gs = fig.add_gridspec(2, 3)\n",
    "ax1 = fig.add_subplot(gs[0, :])\n",
    "ef = df.loc['Total'].rename_axis('date').reset_index()\n",
    "ef['date'] = ef['date'].astype('datetime64[ns]')\n",
    "ax1.bar(ef.date,ef.Total,alpha=0.3,color='#007acc')\n",
    "ax1.plot(ef.date,ef.Total , marker=\"o\", color='#007acc')\n",
    "ax1.xaxis.set_major_locator(mdates.WeekdayLocator())\n",
    "ax1.xaxis.set_major_formatter(mdates.DateFormatter('%b %d'))\n",
    "ax1.text(0.02, 0.5,'India daily case count', transform = ax1.transAxes, fontsize=25);\n",
    "ax1.spines['right'].set_visible(False)\n",
    "ax1.spines['top'].set_visible(False)\n",
    "\n",
    "ax2 = fig.add_subplot(gs[1,0])\n",
    "ef = df.loc['Maharashtra'].rename_axis('date').reset_index()\n",
    "ef['date'] = ef['date'].astype('datetime64[ns]')\n",
    "\n",
    "ax2.bar(ef.date, ef.Maharashtra,color = '#007acc',alpha=0.5)\n",
    "ax2.xaxis.set_major_locator(mdates.WeekdayLocator())\n",
    "ax2.xaxis.set_major_formatter(mdates.DateFormatter('%b %d'))\n",
    "ax2.set_xticks(ax2.get_xticks()[::3])\n",
    "maxyval = ef.Maharashtra.max()\n",
    "ax2.set_ylim([0,maxyval])\n",
    "ax2.text(0.05, 0.9,'Maharashtra', transform = ax2.transAxes, fontsize=20);\n",
    "ax2.spines['right'].set_visible(False)\n",
    "ax2.spines['top'].set_visible(False)\n",
    "\n",
    "\n",
    "ax3 = fig.add_subplot(gs[1,1])\n",
    "ef = df.loc['Tamil Nadu'].rename_axis('date').reset_index()\n",
    "ef['date'] = ef['date'].astype('datetime64[ns]')\n",
    "ax3.bar(ef.date, ef['Tamil Nadu'],color = '#007acc',alpha=0.5,)\n",
    "ax3.xaxis.set_major_locator(mdates.WeekdayLocator())\n",
    "ax3.xaxis.set_major_formatter(mdates.DateFormatter('%b %d'))\n",
    "ax3.set_xticks(ax3.get_xticks()[::3])\n",
    "ax3.text(0.05, 0.9,'Tamil Nadu', transform = ax3.transAxes, fontsize=20);\n",
    "ax3.spines['right'].set_visible(False)\n",
    "ax3.spines['top'].set_visible(False)\n",
    "\n",
    "ax5 = fig.add_subplot(gs[1,3])\n",
    "ef = df.loc['Telangana'].rename_axis('date').reset_index()\n",
    "ef['date'] = ef['date'].astype('datetime64[ns]')\n",
    "ax5.bar(ef.date, ef['Telangana'],color = '#007acc',alpha=0.5,)\n",
    "ax5.xaxis.set_major_locator(mdates.WeekdayLocator())\n",
    "ax5.xaxis.set_major_formatter(mdates.DateFormatter('%b %d'))\n",
    "ax5.set_xticks(ax5.get_xticks()[::3])\n",
    "ax5.text(0.05, 0.9,'Telangana', transform = ax5.transAxes, fontsize=20);\n",
    "ax5.spines['right'].set_visible(False)\n",
    "ax5.spines['top'].set_visible(False)\n",
    "\n",
    "ax6 = fig.add_subplot(gs[1,4])\n",
    "ef = df.loc['Andhra Pradesh'].rename_axis('date').reset_index()\n",
    "ef['date'] = ef['date'].astype('datetime64[ns]')\n",
    "ax6.bar(ef.date, ef['Andhra Pradesh'],color = '#007acc',alpha=0.5,)\n",
    "ax6.xaxis.set_major_locator(mdates.WeekdayLocator())\n",
    "ax6.xaxis.set_major_formatter(mdates.DateFormatter('%b %d'))\n",
    "ax6.set_xticks(ax6.get_xticks()[::3])\n",
    "ax6.text(0.05, 1,'Andhra Pradesh', transform = ax6.transAxes, fontsize=20);\n",
    "ax6.spines['right'].set_visible(False)\n",
    "ax6.spines['top'].set_visible(False)\n",
    "\n",
    "ax4 = fig.add_subplot(gs[1,2])\n",
    "ef = df.loc['Delhi'].rename_axis('date').reset_index()\n",
    "ef['date'] = ef['date'].astype('datetime64[ns]')\n",
    "ax4.bar(ef.date, ef.Delhi,color = '#007acc',alpha=0.5)\n",
    "ax4.set_xticks([])\n",
    "ax4.xaxis.set_major_locator(mdates.WeekdayLocator())\n",
    "ax4.xaxis.set_major_formatter(mdates.DateFormatter('%b %d'))\n",
    "ax4.set_xticks(ax4.get_xticks()[::3])\n",
    "ax4.spines['right'].set_visible(False)\n",
    "ax4.spines['top'].set_visible(False)\n",
    "\n",
    "ax4.text(0.05, 1,'Delhi', transform = ax4.transAxes, fontsize=20)\n",
    "\n",
    "for i in range(n):\n",
    "    \n",
    "    ax.append(fig.add_subplot(gs[i+2,:]))\n",
    "    ef = df.iloc[i+3].rename_axis('date').reset_index()\n",
    "    ef['date'] = ef['date'].astype('datetime64[ns]')\n",
    "    ax[i].bar(ef.date,ef.iloc[:,-1],color = '#007acc',alpha=0.3)\n",
    "    ax[i].plot(ef.date,ef.iloc[:,-1],marker='o',color='#007acc')\n",
    "    ax[i].text(0.02,0.5,f'{ef.columns.values[-1]}',transform = ax[i].transAxes, fontsize = 20);\n",
    "    ax[i].xaxis.set_major_locator(mdates.WeekdayLocator())\n",
    "    ax[i].xaxis.set_major_formatter(mdates.DateFormatter('%b %d'))\n",
    "    ax[i].set_ylim([0,7000])\n",
    "    ax[i].spines['right'].set_visible(False)\n",
    "    ax[i].spines['top'].set_visible(False)\n",
    "plt.tight_layout()\n"
   ]
  },
  {
   "cell_type": "code",
   "execution_count": 20,
   "metadata": {
    "execution": {
     "iopub.execute_input": "2020-09-10T05:21:00.637954Z",
     "iopub.status.busy": "2020-09-10T05:21:00.637185Z",
     "iopub.status.idle": "2020-09-10T05:21:00.642312Z",
     "shell.execute_reply": "2020-09-10T05:21:00.641666Z"
    },
    "papermill": {
     "duration": 0.04003,
     "end_time": "2020-09-10T05:21:00.642452",
     "exception": false,
     "start_time": "2020-09-10T05:21:00.602422",
     "status": "completed"
    },
    "tags": []
   },
   "outputs": [
    {
     "name": "stdout",
     "output_type": "stream",
     "text": [
      "                                   states   Cases  Deaths  PCases  PDeaths  Cases (+)  Deaths (+)  Fatality Rate\n",
      "                              Maharashtra  967349   27787  967349    27787          0           0           2.87\n",
      "                           Andhra Pradesh  527512    4634  527512     4634          0           0           0.88\n",
      "                               Tamil Nadu  480524    8093  480524     8093          0           0           1.68\n",
      "                                Karnataka  421730    6808  421730     6808          0           0           1.61\n",
      "                            Uttar Pradesh  285041    4112  285041     4112          0           0           1.44\n",
      "                                    Delhi  201174    4638  201174     4638          0           0           2.31\n",
      "                              West Bengal  190063    3730  190063     3730          0           0           1.96\n",
      "                                    Bihar  152192     775  152192      775          0           0           0.51\n",
      "                                Telangana  147642     916  147642      916          0           0           0.62\n",
      "                                   Odisha  135130     633  135130      633          0           0           0.47\n",
      "                                    Assam  133066     396  133066      396          0           0           0.30\n",
      "                                  Gujarat  108295    3150  108295     3150          0           0           2.91\n",
      "                                   Kerala   95918     385   95918      385          0           0           0.40\n",
      "                                Rajasthan   95736    1178   95736     1178          0           0           1.23\n",
      "                                  Haryana   83353     882   83353      882          0           0           1.06\n",
      "                           Madhya Pradesh   79192    1640   79192     1640          0           0           2.07\n",
      "                                   Punjab   69684    2061   69684     2061          0           0           2.96\n",
      "                                Jharkhand   56897     512   56897      512          0           0           0.90\n",
      "                             Chhattisgarh   52932     477   52932      477          0           0           0.90\n",
      "                        Jammu and Kashmir   47542     832   47542      832          0           0           1.75\n",
      "                              Uttarakhand   27211     372   27211      372          0           0           1.37\n",
      "                                      Goa   22251     262   22251      262          0           0           1.18\n",
      "                               Puducherry   18084     347   18084      347          0           0           1.92\n",
      "                                  Tripura   16736     161   16736      161          0           0           0.96\n",
      "                         Himachal Pradesh    8147      62    8147       62          0           0           0.76\n",
      "                                  Manipur    7362      40    7362       40          0           0           0.54\n",
      "                               Chandigarh    6704      77    6704       77          0           0           1.15\n",
      "                        Arunachal Pradesh    5545       9    5545        9          0           0           0.16\n",
      "                                 Nagaland    4375       8    4375        8          0           0           0.18\n",
      "              Andaman and Nicobar Islands    3426      51    3426       51          0           0           1.49\n",
      "                                Meghalaya    3197      19    3197       19          0           0           0.59\n",
      "                                   Ladakh    3142      35    3142       35          0           0           1.11\n",
      " Dadra and Nagar Haveli and Daman and Diu    2632       2    2632        2          0           0           0.08\n",
      "                                   Sikkim    1989       7    1989        7          0           0           0.35\n",
      "                                  Mizoram    1333       0    1192        0        141           0           0.00\n",
      "                              Lakshadweep       0       0       0        0          0           0            NaN\n"
     ]
    }
   ],
   "source": [
    "#hide_input\n",
    "print(df_table.to_string(index=False))"
   ]
  },
  {
   "cell_type": "code",
   "execution_count": null,
   "metadata": {
    "papermill": {
     "duration": 0.024592,
     "end_time": "2020-09-10T05:21:00.691374",
     "exception": false,
     "start_time": "2020-09-10T05:21:00.666782",
     "status": "completed"
    },
    "tags": []
   },
   "outputs": [],
   "source": []
  },
  {
   "cell_type": "code",
   "execution_count": null,
   "metadata": {
    "papermill": {
     "duration": 0.024257,
     "end_time": "2020-09-10T05:21:00.742930",
     "exception": false,
     "start_time": "2020-09-10T05:21:00.718673",
     "status": "completed"
    },
    "tags": []
   },
   "outputs": [],
   "source": []
  }
 ],
 "metadata": {
  "kernelspec": {
   "display_name": "Python 3",
   "language": "python",
   "name": "python3"
  },
  "language_info": {
   "codemirror_mode": {
    "name": "ipython",
    "version": 3
   },
   "file_extension": ".py",
   "mimetype": "text/x-python",
   "name": "python",
   "nbconvert_exporter": "python",
   "pygments_lexer": "ipython3",
   "version": "3.6.12"
  },
  "papermill": {
   "duration": 10.812145,
   "end_time": "2020-09-10T05:21:01.176036",
   "environment_variables": {},
   "exception": null,
   "input_path": "latest.ipynb",
   "output_path": "latest.ipynb",
   "parameters": {},
   "start_time": "2020-09-10T05:20:50.363891",
   "version": "2.1.2"
  }
 },
 "nbformat": 4,
 "nbformat_minor": 4
}