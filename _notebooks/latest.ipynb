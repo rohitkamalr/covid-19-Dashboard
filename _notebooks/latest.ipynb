{
 "cells": [
  {
   "cell_type": "markdown",
   "metadata": {
    "papermill": {
     "duration": 0.020483,
     "end_time": "2020-12-23T14:01:22.292624",
     "exception": false,
     "start_time": "2020-12-23T14:01:22.272141",
     "status": "completed"
    },
    "tags": []
   },
   "source": [
    "# Latest COVID-19 India Matplotlib Overview"
   ]
  },
  {
   "cell_type": "code",
   "execution_count": 1,
   "metadata": {
    "execution": {
     "iopub.execute_input": "2020-12-23T14:01:22.339183Z",
     "iopub.status.busy": "2020-12-23T14:01:22.338541Z",
     "iopub.status.idle": "2020-12-23T14:01:23.003463Z",
     "shell.execute_reply": "2020-12-23T14:01:23.002363Z"
    },
    "papermill": {
     "duration": 0.693516,
     "end_time": "2020-12-23T14:01:23.003638",
     "exception": false,
     "start_time": "2020-12-23T14:01:22.310122",
     "status": "completed"
    },
    "tags": []
   },
   "outputs": [],
   "source": [
    "#hide\n",
    "import pandas as pd\n",
    "import numpy as np\n",
    "import requests\n",
    "import json\n",
    "import matplotlib.pyplot as plt\n",
    "import matplotlib.dates as mdates\n",
    "import matplotlib as mpl\n",
    "from IPython.core.display import display,HTML\n",
    "%matplotlib inline\n",
    "from datetime import date"
   ]
  },
  {
   "cell_type": "code",
   "execution_count": 2,
   "metadata": {
    "execution": {
     "iopub.execute_input": "2020-12-23T14:01:23.043965Z",
     "iopub.status.busy": "2020-12-23T14:01:23.042890Z",
     "iopub.status.idle": "2020-12-23T14:01:23.204200Z",
     "shell.execute_reply": "2020-12-23T14:01:23.203505Z"
    },
    "papermill": {
     "duration": 0.184226,
     "end_time": "2020-12-23T14:01:23.204385",
     "exception": false,
     "start_time": "2020-12-23T14:01:23.020159",
     "status": "completed"
    },
    "tags": []
   },
   "outputs": [],
   "source": [
    "#hide\n",
    "df  = pd.read_csv('https://api.covid19india.org/csv/latest/states.csv')\n",
    "df = df[['Date','State','Confirmed','Deceased']]\n",
    "df = df.rename(columns={'Confirmed':'Cases', \"Deceased\":'Deaths'})\n",
    "df_cases = df[[\"Date\",'State','Cases']]\n",
    "df_deaths = df[['Date','State','Deaths']]\n",
    "df_cases1 = df_cases.groupby('Date')\n",
    "df_deaths1= df_deaths.groupby('Date')"
   ]
  },
  {
   "cell_type": "code",
   "execution_count": 3,
   "metadata": {
    "execution": {
     "iopub.execute_input": "2020-12-23T14:01:23.250708Z",
     "iopub.status.busy": "2020-12-23T14:01:23.250071Z",
     "iopub.status.idle": "2020-12-23T14:01:23.269375Z",
     "shell.execute_reply": "2020-12-23T14:01:23.269885Z"
    },
    "papermill": {
     "duration": 0.041783,
     "end_time": "2020-12-23T14:01:23.270049",
     "exception": false,
     "start_time": "2020-12-23T14:01:23.228266",
     "status": "completed"
    },
    "tags": []
   },
   "outputs": [],
   "source": [
    "#hide\n",
    "df_snap = pd.read_csv('data/SnapshotCases-28-July.csv')\n",
    "arr_states = df_snap['states'].unique()\n",
    "arr_dates = df['Date'].unique()\n",
    "df_snap = df_snap.set_index('states')"
   ]
  },
  {
   "cell_type": "code",
   "execution_count": 4,
   "metadata": {
    "execution": {
     "iopub.execute_input": "2020-12-23T14:01:23.310157Z",
     "iopub.status.busy": "2020-12-23T14:01:23.309270Z",
     "iopub.status.idle": "2020-12-23T14:01:23.313753Z",
     "shell.execute_reply": "2020-12-23T14:01:23.313074Z"
    },
    "papermill": {
     "duration": 0.027504,
     "end_time": "2020-12-23T14:01:23.313924",
     "exception": false,
     "start_time": "2020-12-23T14:01:23.286420",
     "status": "completed"
    },
    "tags": []
   },
   "outputs": [
    {
     "data": {
      "text/plain": [
       "array(['Andaman and Nicobar Islands', 'Andhra Pradesh',\n",
       "       'Arunachal Pradesh', 'Assam', 'Bihar', 'Chandigarh',\n",
       "       'Dadra and Nagar Haveli and Daman and Diu', 'Delhi', 'Goa',\n",
       "       'Gujarat', 'Haryana', 'Himachal Pradesh', 'Jammu and Kashmir',\n",
       "       'Jharkhand', 'Karnataka', 'Kerala', 'Lakshadweep',\n",
       "       'Madhya Pradesh', 'Maharashtra', 'Manipur', 'Meghalaya', 'Mizoram',\n",
       "       'Nagaland', 'Odisha', 'Puducherry', 'Punjab', 'Rajasthan',\n",
       "       'Sikkim', 'Tamil Nadu', 'Telangana', 'Tripura', 'Uttar Pradesh',\n",
       "       'West Bengal', 'Chhattisgarh', 'Ladakh', 'Uttarakhand'],\n",
       "      dtype=object)"
      ]
     },
     "execution_count": 4,
     "metadata": {},
     "output_type": "execute_result"
    }
   ],
   "source": [
    "#hide\n",
    "arr_states[-9] = 'Puducherry'\n",
    "arr_states[-10] = 'Odisha'\n",
    "arr_states[6] = 'Dadra and Nagar Haveli and Daman and Diu'\n",
    "arr_states = np.append(arr_states,np.array(['Chhattisgarh','Ladakh','Uttarakhand']))\n",
    "arr_states"
   ]
  },
  {
   "cell_type": "code",
   "execution_count": 5,
   "metadata": {
    "execution": {
     "iopub.execute_input": "2020-12-23T14:01:23.366892Z",
     "iopub.status.busy": "2020-12-23T14:01:23.365111Z",
     "iopub.status.idle": "2020-12-23T14:01:23.368292Z",
     "shell.execute_reply": "2020-12-23T14:01:23.369003Z"
    },
    "papermill": {
     "duration": 0.037803,
     "end_time": "2020-12-23T14:01:23.369166",
     "exception": false,
     "start_time": "2020-12-23T14:01:23.331363",
     "status": "completed"
    },
    "tags": []
   },
   "outputs": [],
   "source": [
    "#hide\n",
    "dates = []\n",
    "for i in arr_dates:\n",
    "    if i>='2020-07-01':\n",
    "        dates.append(i)\n",
    "dict = {'states':dates}\n",
    "for i in arr_states:\n",
    "    dict[i] = [0]*len(dates)\n",
    "dft_cases = pd.DataFrame(dict)\n",
    "dft_deaths = pd.DataFrame(dict)\n"
   ]
  },
  {
   "cell_type": "code",
   "execution_count": 6,
   "metadata": {
    "execution": {
     "iopub.execute_input": "2020-12-23T14:01:23.407503Z",
     "iopub.status.busy": "2020-12-23T14:01:23.406878Z",
     "iopub.status.idle": "2020-12-23T14:01:25.964074Z",
     "shell.execute_reply": "2020-12-23T14:01:25.963208Z"
    },
    "papermill": {
     "duration": 2.57894,
     "end_time": "2020-12-23T14:01:25.964306",
     "exception": false,
     "start_time": "2020-12-23T14:01:23.385366",
     "status": "completed"
    },
    "tags": []
   },
   "outputs": [],
   "source": [
    "#hide\n",
    "for i in range(len(dates)):\n",
    "    df1_deaths = df_deaths1.get_group(dates[i])\n",
    "    for j in range(len(df1_deaths.index)):\n",
    "        if df1_deaths.iloc[j,1] in arr_states:\n",
    "            dft_deaths.loc[i,df1_deaths.iloc[j,1]] = df1_deaths.iloc[j,2]\n",
    "dft_deaths = dft_deaths.set_index('states')"
   ]
  },
  {
   "cell_type": "code",
   "execution_count": 7,
   "metadata": {
    "execution": {
     "iopub.execute_input": "2020-12-23T14:01:26.007564Z",
     "iopub.status.busy": "2020-12-23T14:01:26.006937Z",
     "iopub.status.idle": "2020-12-23T14:01:28.575325Z",
     "shell.execute_reply": "2020-12-23T14:01:28.574343Z"
    },
    "papermill": {
     "duration": 2.593712,
     "end_time": "2020-12-23T14:01:28.575549",
     "exception": false,
     "start_time": "2020-12-23T14:01:25.981837",
     "status": "completed"
    },
    "tags": []
   },
   "outputs": [],
   "source": [
    "#hide\n",
    "for i in range(len(dates)):\n",
    "    df1_cases = df_cases1.get_group(dates[i])\n",
    "    for j in range(len(df1_cases.index)):\n",
    "        if df1_cases.iloc[j,1] in arr_states:\n",
    "            dft_cases.loc[i,df1_cases.iloc[j,1]] = df1_cases.iloc[j,2]\n",
    "dft_cases = dft_cases.set_index('states')"
   ]
  },
  {
   "cell_type": "code",
   "execution_count": 8,
   "metadata": {
    "execution": {
     "iopub.execute_input": "2020-12-23T14:01:28.621407Z",
     "iopub.status.busy": "2020-12-23T14:01:28.619906Z",
     "iopub.status.idle": "2020-12-23T14:01:28.622247Z",
     "shell.execute_reply": "2020-12-23T14:01:28.622744Z"
    },
    "papermill": {
     "duration": 0.028239,
     "end_time": "2020-12-23T14:01:28.622901",
     "exception": false,
     "start_time": "2020-12-23T14:01:28.594662",
     "status": "completed"
    },
    "tags": []
   },
   "outputs": [],
   "source": [
    "#hide\n",
    "dft_cases = dft_cases.T\n",
    "dft_deaths = dft_deaths.T\n",
    "dt_today = dates[-1]\n",
    "dt_yday = dates[-2]"
   ]
  },
  {
   "cell_type": "code",
   "execution_count": 9,
   "metadata": {
    "execution": {
     "iopub.execute_input": "2020-12-23T14:01:28.674541Z",
     "iopub.status.busy": "2020-12-23T14:01:28.673902Z",
     "iopub.status.idle": "2020-12-23T14:01:28.677161Z",
     "shell.execute_reply": "2020-12-23T14:01:28.676664Z"
    },
    "papermill": {
     "duration": 0.037106,
     "end_time": "2020-12-23T14:01:28.677300",
     "exception": false,
     "start_time": "2020-12-23T14:01:28.640194",
     "status": "completed"
    },
    "tags": []
   },
   "outputs": [],
   "source": [
    "#hide\n",
    "dft_cases = dft_cases.reset_index()\n",
    "dft_deaths = dft_deaths.reset_index()\n",
    "dft_cases = dft_cases.rename(columns = {'index':'state'})\n",
    "dft_deaths = dft_deaths.rename(columns = {'index':'state'})"
   ]
  },
  {
   "cell_type": "code",
   "execution_count": 10,
   "metadata": {
    "execution": {
     "iopub.execute_input": "2020-12-23T14:01:28.723646Z",
     "iopub.status.busy": "2020-12-23T14:01:28.723020Z",
     "iopub.status.idle": "2020-12-23T14:01:28.726138Z",
     "shell.execute_reply": "2020-12-23T14:01:28.725636Z"
    },
    "papermill": {
     "duration": 0.031888,
     "end_time": "2020-12-23T14:01:28.726277",
     "exception": false,
     "start_time": "2020-12-23T14:01:28.694389",
     "status": "completed"
    },
    "tags": []
   },
   "outputs": [],
   "source": [
    "#hide\n",
    "dfc_cases = dft_cases.groupby('state')[dt_today].sum()\n",
    "dfc_deaths = dft_deaths.groupby('state')[dt_today].sum()\n",
    "dfp_cases = dft_cases.groupby('state')[dt_yday].sum()\n",
    "dfp_deaths = dft_deaths.groupby('state')[dt_yday].sum()"
   ]
  },
  {
   "cell_type": "code",
   "execution_count": 11,
   "metadata": {
    "execution": {
     "iopub.execute_input": "2020-12-23T14:01:28.773132Z",
     "iopub.status.busy": "2020-12-23T14:01:28.767244Z",
     "iopub.status.idle": "2020-12-23T14:01:28.789434Z",
     "shell.execute_reply": "2020-12-23T14:01:28.790048Z"
    },
    "papermill": {
     "duration": 0.047686,
     "end_time": "2020-12-23T14:01:28.790205",
     "exception": false,
     "start_time": "2020-12-23T14:01:28.742519",
     "status": "completed"
    },
    "tags": []
   },
   "outputs": [
    {
     "data": {
      "text/html": [
       "<div>\n",
       "<style scoped>\n",
       "    .dataframe tbody tr th:only-of-type {\n",
       "        vertical-align: middle;\n",
       "    }\n",
       "\n",
       "    .dataframe tbody tr th {\n",
       "        vertical-align: top;\n",
       "    }\n",
       "\n",
       "    .dataframe thead th {\n",
       "        text-align: right;\n",
       "    }\n",
       "</style>\n",
       "<table border=\"1\" class=\"dataframe\">\n",
       "  <thead>\n",
       "    <tr style=\"text-align: right;\">\n",
       "      <th></th>\n",
       "      <th>states</th>\n",
       "      <th>Cases</th>\n",
       "      <th>Deaths</th>\n",
       "      <th>PCases</th>\n",
       "      <th>PDeaths</th>\n",
       "    </tr>\n",
       "  </thead>\n",
       "  <tbody>\n",
       "    <tr>\n",
       "      <th>0</th>\n",
       "      <td>Maharashtra</td>\n",
       "      <td>1902458</td>\n",
       "      <td>48876</td>\n",
       "      <td>1902458</td>\n",
       "      <td>48876</td>\n",
       "    </tr>\n",
       "    <tr>\n",
       "      <th>1</th>\n",
       "      <td>Karnataka</td>\n",
       "      <td>911382</td>\n",
       "      <td>12029</td>\n",
       "      <td>911382</td>\n",
       "      <td>12029</td>\n",
       "    </tr>\n",
       "    <tr>\n",
       "      <th>2</th>\n",
       "      <td>Andhra Pradesh</td>\n",
       "      <td>879339</td>\n",
       "      <td>7082</td>\n",
       "      <td>879339</td>\n",
       "      <td>7082</td>\n",
       "    </tr>\n",
       "    <tr>\n",
       "      <th>3</th>\n",
       "      <td>Tamil Nadu</td>\n",
       "      <td>809014</td>\n",
       "      <td>12012</td>\n",
       "      <td>809014</td>\n",
       "      <td>12012</td>\n",
       "    </tr>\n",
       "    <tr>\n",
       "      <th>4</th>\n",
       "      <td>Kerala</td>\n",
       "      <td>721511</td>\n",
       "      <td>2893</td>\n",
       "      <td>715342</td>\n",
       "      <td>2871</td>\n",
       "    </tr>\n",
       "  </tbody>\n",
       "</table>\n",
       "</div>"
      ],
      "text/plain": [
       "           states    Cases  Deaths   PCases  PDeaths\n",
       "0     Maharashtra  1902458   48876  1902458    48876\n",
       "1       Karnataka   911382   12029   911382    12029\n",
       "2  Andhra Pradesh   879339    7082   879339     7082\n",
       "3      Tamil Nadu   809014   12012   809014    12012\n",
       "4          Kerala   721511    2893   715342     2871"
      ]
     },
     "execution_count": 11,
     "metadata": {},
     "output_type": "execute_result"
    }
   ],
   "source": [
    "#hide\n",
    "df_table = pd.DataFrame({'states': dfc_cases.index, 'Cases': dfc_cases.values, 'Deaths': dfc_deaths.values, 'PCases': dfp_cases.values, 'PDeaths': dfp_deaths.values}).set_index('states')\n",
    "df_table = df_table.sort_values(by = ['Cases','Deaths'], ascending = [False, False])\n",
    "df_table = df_table.reset_index()\n",
    "df_table.head()"
   ]
  },
  {
   "cell_type": "code",
   "execution_count": 12,
   "metadata": {
    "execution": {
     "iopub.execute_input": "2020-12-23T14:01:28.829322Z",
     "iopub.status.busy": "2020-12-23T14:01:28.828712Z",
     "iopub.status.idle": "2020-12-23T14:01:28.838245Z",
     "shell.execute_reply": "2020-12-23T14:01:28.838830Z"
    },
    "papermill": {
     "duration": 0.032343,
     "end_time": "2020-12-23T14:01:28.838981",
     "exception": false,
     "start_time": "2020-12-23T14:01:28.806638",
     "status": "completed"
    },
    "tags": []
   },
   "outputs": [],
   "source": [
    "#hide\n",
    "for c in 'Cases, Deaths'.split(', '):\n",
    "    df_table[f'{c} (+)'] = (df_table[c] - df_table[f'P{c}']).clip(0)\n",
    "df_table['Fatality Rate'] = (100* df_table['Deaths']/ df_table['Cases']).round(2)"
   ]
  },
  {
   "cell_type": "code",
   "execution_count": 13,
   "metadata": {
    "execution": {
     "iopub.execute_input": "2020-12-23T14:01:28.888457Z",
     "iopub.status.busy": "2020-12-23T14:01:28.887825Z",
     "iopub.status.idle": "2020-12-23T14:01:28.891222Z",
     "shell.execute_reply": "2020-12-23T14:01:28.890701Z"
    },
    "papermill": {
     "duration": 0.035353,
     "end_time": "2020-12-23T14:01:28.891357",
     "exception": false,
     "start_time": "2020-12-23T14:01:28.856004",
     "status": "completed"
    },
    "tags": []
   },
   "outputs": [
    {
     "data": {
      "text/html": [
       "<div>\n",
       "<style scoped>\n",
       "    .dataframe tbody tr th:only-of-type {\n",
       "        vertical-align: middle;\n",
       "    }\n",
       "\n",
       "    .dataframe tbody tr th {\n",
       "        vertical-align: top;\n",
       "    }\n",
       "\n",
       "    .dataframe thead th {\n",
       "        text-align: right;\n",
       "    }\n",
       "</style>\n",
       "<table border=\"1\" class=\"dataframe\">\n",
       "  <thead>\n",
       "    <tr style=\"text-align: right;\">\n",
       "      <th></th>\n",
       "      <th>states</th>\n",
       "      <th>Cases</th>\n",
       "      <th>Deaths</th>\n",
       "      <th>PCases</th>\n",
       "      <th>PDeaths</th>\n",
       "      <th>Cases (+)</th>\n",
       "      <th>Deaths (+)</th>\n",
       "      <th>Fatality Rate</th>\n",
       "    </tr>\n",
       "  </thead>\n",
       "  <tbody>\n",
       "    <tr>\n",
       "      <th>0</th>\n",
       "      <td>Maharashtra</td>\n",
       "      <td>1902458</td>\n",
       "      <td>48876</td>\n",
       "      <td>1902458</td>\n",
       "      <td>48876</td>\n",
       "      <td>0</td>\n",
       "      <td>0</td>\n",
       "      <td>2.57</td>\n",
       "    </tr>\n",
       "    <tr>\n",
       "      <th>1</th>\n",
       "      <td>Karnataka</td>\n",
       "      <td>911382</td>\n",
       "      <td>12029</td>\n",
       "      <td>911382</td>\n",
       "      <td>12029</td>\n",
       "      <td>0</td>\n",
       "      <td>0</td>\n",
       "      <td>1.32</td>\n",
       "    </tr>\n",
       "    <tr>\n",
       "      <th>2</th>\n",
       "      <td>Andhra Pradesh</td>\n",
       "      <td>879339</td>\n",
       "      <td>7082</td>\n",
       "      <td>879339</td>\n",
       "      <td>7082</td>\n",
       "      <td>0</td>\n",
       "      <td>0</td>\n",
       "      <td>0.81</td>\n",
       "    </tr>\n",
       "    <tr>\n",
       "      <th>3</th>\n",
       "      <td>Tamil Nadu</td>\n",
       "      <td>809014</td>\n",
       "      <td>12012</td>\n",
       "      <td>809014</td>\n",
       "      <td>12012</td>\n",
       "      <td>0</td>\n",
       "      <td>0</td>\n",
       "      <td>1.48</td>\n",
       "    </tr>\n",
       "    <tr>\n",
       "      <th>4</th>\n",
       "      <td>Kerala</td>\n",
       "      <td>721511</td>\n",
       "      <td>2893</td>\n",
       "      <td>715342</td>\n",
       "      <td>2871</td>\n",
       "      <td>6169</td>\n",
       "      <td>22</td>\n",
       "      <td>0.40</td>\n",
       "    </tr>\n",
       "  </tbody>\n",
       "</table>\n",
       "</div>"
      ],
      "text/plain": [
       "           states    Cases  Deaths   PCases  PDeaths  Cases (+)  Deaths (+)  \\\n",
       "0     Maharashtra  1902458   48876  1902458    48876          0           0   \n",
       "1       Karnataka   911382   12029   911382    12029          0           0   \n",
       "2  Andhra Pradesh   879339    7082   879339     7082          0           0   \n",
       "3      Tamil Nadu   809014   12012   809014    12012          0           0   \n",
       "4          Kerala   721511    2893   715342     2871       6169          22   \n",
       "\n",
       "   Fatality Rate  \n",
       "0           2.57  \n",
       "1           1.32  \n",
       "2           0.81  \n",
       "3           1.48  \n",
       "4           0.40  "
      ]
     },
     "execution_count": 13,
     "metadata": {},
     "output_type": "execute_result"
    }
   ],
   "source": [
    "#hide\n",
    "df_table.head()"
   ]
  },
  {
   "cell_type": "code",
   "execution_count": 14,
   "metadata": {
    "execution": {
     "iopub.execute_input": "2020-12-23T14:01:28.931652Z",
     "iopub.status.busy": "2020-12-23T14:01:28.931036Z",
     "iopub.status.idle": "2020-12-23T14:01:28.947983Z",
     "shell.execute_reply": "2020-12-23T14:01:28.947458Z"
    },
    "papermill": {
     "duration": 0.039578,
     "end_time": "2020-12-23T14:01:28.948122",
     "exception": false,
     "start_time": "2020-12-23T14:01:28.908544",
     "status": "completed"
    },
    "tags": []
   },
   "outputs": [
    {
     "data": {
      "text/plain": [
       "{'updated': '2020-12-23',\n",
       " 'since': '2020-12-22',\n",
       " 'Cases': 10106499,\n",
       " 'PCases': 10099308,\n",
       " 'Deaths': 146509,\n",
       " 'PDeaths': 146476,\n",
       " 'Cases (+)': 7191,\n",
       " 'Deaths (+)': 33}"
      ]
     },
     "execution_count": 14,
     "metadata": {},
     "output_type": "execute_result"
    }
   ],
   "source": [
    "#hide\n",
    "summary = {'updated':dates[-1], 'since':dates[-2]}\n",
    "list_names = ['Cases', 'PCases', 'Deaths', 'PDeaths', 'Cases (+)', 'Deaths (+)']\n",
    "for name in list_names:\n",
    "    summary[name] = df_table.sum()[name]\n",
    "summary"
   ]
  },
  {
   "cell_type": "code",
   "execution_count": 15,
   "metadata": {
    "execution": {
     "iopub.execute_input": "2020-12-23T14:01:28.988851Z",
     "iopub.status.busy": "2020-12-23T14:01:28.988216Z",
     "iopub.status.idle": "2020-12-23T14:01:28.990099Z",
     "shell.execute_reply": "2020-12-23T14:01:28.990565Z"
    },
    "papermill": {
     "duration": 0.024764,
     "end_time": "2020-12-23T14:01:28.990723",
     "exception": false,
     "start_time": "2020-12-23T14:01:28.965959",
     "status": "completed"
    },
    "tags": []
   },
   "outputs": [],
   "source": [
    "#hide\n",
    "overview = '''\n",
    "<!-- #######  HTML!! #########-->\n",
    "<h1 style=\"color: #5e9ca0; text-align: center;\">India</h1>\n",
    "<p style=\"text-align: center;\">Last update: <strong>{update}</strong></p>\n",
    "<p style=\"text-align: center;\">Confirmed cases:</p>\n",
    "<p style=\"text-align: center;font-size:24px;\">{cases} (<span style=\"color: #ff0000;\">+{new}</span>)</p>\n",
    "<p style=\"text-align: center;\">Confirmed deaths:</p>\n",
    "<p style=\"text-align: center;font-size:24px;\">{deaths} (<span style=\"color: #ff0000;\">+{dnew}</span>)</p>\n",
    "'''"
   ]
  },
  {
   "cell_type": "code",
   "execution_count": 16,
   "metadata": {
    "execution": {
     "iopub.execute_input": "2020-12-23T14:01:29.042410Z",
     "iopub.status.busy": "2020-12-23T14:01:29.041789Z",
     "iopub.status.idle": "2020-12-23T14:01:29.044562Z",
     "shell.execute_reply": "2020-12-23T14:01:29.045057Z"
    },
    "papermill": {
     "duration": 0.035971,
     "end_time": "2020-12-23T14:01:29.045210",
     "exception": false,
     "start_time": "2020-12-23T14:01:29.009239",
     "status": "completed"
    },
    "tags": []
   },
   "outputs": [
    {
     "data": {
      "text/html": [
       "\n",
       "<!-- #######  HTML!! #########-->\n",
       "<h1 style=\"color: #5e9ca0; text-align: center;\">India</h1>\n",
       "<p style=\"text-align: center;\">Last update: <strong>2020-12-23</strong></p>\n",
       "<p style=\"text-align: center;\">Confirmed cases:</p>\n",
       "<p style=\"text-align: center;font-size:24px;\">10106499 (<span style=\"color: #ff0000;\">+7191</span>)</p>\n",
       "<p style=\"text-align: center;\">Confirmed deaths:</p>\n",
       "<p style=\"text-align: center;font-size:24px;\">146509 (<span style=\"color: #ff0000;\">+33</span>)</p>\n"
      ],
      "text/plain": [
       "<IPython.core.display.HTML object>"
      ]
     },
     "metadata": {},
     "output_type": "display_data"
    }
   ],
   "source": [
    "#hide_input\n",
    "update = summary['updated']\n",
    "cases = summary['Cases']\n",
    "new = summary['Cases (+)']\n",
    "deaths = summary['Deaths']\n",
    "dnew = summary['Deaths (+)']\n",
    "\n",
    "html = HTML(overview.format(update=update, cases=cases,new=new,deaths=deaths,dnew=dnew))\n",
    "\n",
    "display(html)"
   ]
  },
  {
   "cell_type": "code",
   "execution_count": 17,
   "metadata": {
    "execution": {
     "iopub.execute_input": "2020-12-23T14:01:29.089994Z",
     "iopub.status.busy": "2020-12-23T14:01:29.089324Z",
     "iopub.status.idle": "2020-12-23T14:01:29.095413Z",
     "shell.execute_reply": "2020-12-23T14:01:29.094905Z"
    },
    "papermill": {
     "duration": 0.032377,
     "end_time": "2020-12-23T14:01:29.095557",
     "exception": false,
     "start_time": "2020-12-23T14:01:29.063180",
     "status": "completed"
    },
    "tags": []
   },
   "outputs": [],
   "source": [
    "#hide\n",
    "dt_cols = list(dft_cases.columns[1:])\n",
    "dft_ct_new_cases = dft_cases.groupby('state')[dt_cols].sum().diff(axis=1).fillna(0).astype(int)\n",
    "dft_ct_new_cases.sort_values(by = dates[-1], ascending = False,inplace = True)"
   ]
  },
  {
   "cell_type": "code",
   "execution_count": 18,
   "metadata": {
    "execution": {
     "iopub.execute_input": "2020-12-23T14:01:29.150179Z",
     "iopub.status.busy": "2020-12-23T14:01:29.145321Z",
     "iopub.status.idle": "2020-12-23T14:01:29.153501Z",
     "shell.execute_reply": "2020-12-23T14:01:29.153004Z"
    },
    "papermill": {
     "duration": 0.040023,
     "end_time": "2020-12-23T14:01:29.153660",
     "exception": false,
     "start_time": "2020-12-23T14:01:29.113637",
     "status": "completed"
    },
    "tags": []
   },
   "outputs": [
    {
     "data": {
      "text/html": [
       "<div>\n",
       "<style scoped>\n",
       "    .dataframe tbody tr th:only-of-type {\n",
       "        vertical-align: middle;\n",
       "    }\n",
       "\n",
       "    .dataframe tbody tr th {\n",
       "        vertical-align: top;\n",
       "    }\n",
       "\n",
       "    .dataframe thead th {\n",
       "        text-align: right;\n",
       "    }\n",
       "</style>\n",
       "<table border=\"1\" class=\"dataframe\">\n",
       "  <thead>\n",
       "    <tr style=\"text-align: right;\">\n",
       "      <th>states</th>\n",
       "      <th>2020-07-01</th>\n",
       "      <th>2020-07-02</th>\n",
       "      <th>2020-07-03</th>\n",
       "      <th>2020-07-04</th>\n",
       "      <th>2020-07-05</th>\n",
       "      <th>2020-07-06</th>\n",
       "      <th>2020-07-07</th>\n",
       "      <th>2020-07-08</th>\n",
       "      <th>2020-07-09</th>\n",
       "      <th>2020-07-10</th>\n",
       "      <th>...</th>\n",
       "      <th>2020-12-14</th>\n",
       "      <th>2020-12-15</th>\n",
       "      <th>2020-12-16</th>\n",
       "      <th>2020-12-17</th>\n",
       "      <th>2020-12-18</th>\n",
       "      <th>2020-12-19</th>\n",
       "      <th>2020-12-20</th>\n",
       "      <th>2020-12-21</th>\n",
       "      <th>2020-12-22</th>\n",
       "      <th>2020-12-23</th>\n",
       "    </tr>\n",
       "    <tr>\n",
       "      <th>state</th>\n",
       "      <th></th>\n",
       "      <th></th>\n",
       "      <th></th>\n",
       "      <th></th>\n",
       "      <th></th>\n",
       "      <th></th>\n",
       "      <th></th>\n",
       "      <th></th>\n",
       "      <th></th>\n",
       "      <th></th>\n",
       "      <th></th>\n",
       "      <th></th>\n",
       "      <th></th>\n",
       "      <th></th>\n",
       "      <th></th>\n",
       "      <th></th>\n",
       "      <th></th>\n",
       "      <th></th>\n",
       "      <th></th>\n",
       "      <th></th>\n",
       "      <th></th>\n",
       "    </tr>\n",
       "  </thead>\n",
       "  <tbody>\n",
       "    <tr>\n",
       "      <th>Kerala</th>\n",
       "      <td>0</td>\n",
       "      <td>160</td>\n",
       "      <td>211</td>\n",
       "      <td>240</td>\n",
       "      <td>225</td>\n",
       "      <td>193</td>\n",
       "      <td>272</td>\n",
       "      <td>301</td>\n",
       "      <td>339</td>\n",
       "      <td>416</td>\n",
       "      <td>...</td>\n",
       "      <td>2707</td>\n",
       "      <td>5218</td>\n",
       "      <td>6185</td>\n",
       "      <td>4969</td>\n",
       "      <td>5456</td>\n",
       "      <td>6293</td>\n",
       "      <td>5711</td>\n",
       "      <td>3423</td>\n",
       "      <td>6049</td>\n",
       "      <td>6169</td>\n",
       "    </tr>\n",
       "    <tr>\n",
       "      <th>Telangana</th>\n",
       "      <td>0</td>\n",
       "      <td>1213</td>\n",
       "      <td>1892</td>\n",
       "      <td>1850</td>\n",
       "      <td>1590</td>\n",
       "      <td>1831</td>\n",
       "      <td>1879</td>\n",
       "      <td>1924</td>\n",
       "      <td>1410</td>\n",
       "      <td>1278</td>\n",
       "      <td>...</td>\n",
       "      <td>384</td>\n",
       "      <td>491</td>\n",
       "      <td>536</td>\n",
       "      <td>509</td>\n",
       "      <td>551</td>\n",
       "      <td>627</td>\n",
       "      <td>592</td>\n",
       "      <td>316</td>\n",
       "      <td>617</td>\n",
       "      <td>635</td>\n",
       "    </tr>\n",
       "    <tr>\n",
       "      <th>Odisha</th>\n",
       "      <td>0</td>\n",
       "      <td>229</td>\n",
       "      <td>561</td>\n",
       "      <td>495</td>\n",
       "      <td>469</td>\n",
       "      <td>456</td>\n",
       "      <td>571</td>\n",
       "      <td>527</td>\n",
       "      <td>577</td>\n",
       "      <td>755</td>\n",
       "      <td>...</td>\n",
       "      <td>332</td>\n",
       "      <td>300</td>\n",
       "      <td>407</td>\n",
       "      <td>351</td>\n",
       "      <td>358</td>\n",
       "      <td>356</td>\n",
       "      <td>372</td>\n",
       "      <td>363</td>\n",
       "      <td>319</td>\n",
       "      <td>364</td>\n",
       "    </tr>\n",
       "    <tr>\n",
       "      <th>Tripura</th>\n",
       "      <td>0</td>\n",
       "      <td>39</td>\n",
       "      <td>93</td>\n",
       "      <td>25</td>\n",
       "      <td>23</td>\n",
       "      <td>111</td>\n",
       "      <td>24</td>\n",
       "      <td>57</td>\n",
       "      <td>16</td>\n",
       "      <td>142</td>\n",
       "      <td>...</td>\n",
       "      <td>10</td>\n",
       "      <td>9</td>\n",
       "      <td>24</td>\n",
       "      <td>17</td>\n",
       "      <td>21</td>\n",
       "      <td>26</td>\n",
       "      <td>22</td>\n",
       "      <td>8</td>\n",
       "      <td>13</td>\n",
       "      <td>15</td>\n",
       "    </tr>\n",
       "    <tr>\n",
       "      <th>Mizoram</th>\n",
       "      <td>0</td>\n",
       "      <td>2</td>\n",
       "      <td>0</td>\n",
       "      <td>2</td>\n",
       "      <td>22</td>\n",
       "      <td>11</td>\n",
       "      <td>1</td>\n",
       "      <td>5</td>\n",
       "      <td>0</td>\n",
       "      <td>23</td>\n",
       "      <td>...</td>\n",
       "      <td>5</td>\n",
       "      <td>9</td>\n",
       "      <td>31</td>\n",
       "      <td>5</td>\n",
       "      <td>9</td>\n",
       "      <td>16</td>\n",
       "      <td>12</td>\n",
       "      <td>2</td>\n",
       "      <td>9</td>\n",
       "      <td>8</td>\n",
       "    </tr>\n",
       "  </tbody>\n",
       "</table>\n",
       "<p>5 rows × 176 columns</p>\n",
       "</div>"
      ],
      "text/plain": [
       "states     2020-07-01  2020-07-02  2020-07-03  2020-07-04  2020-07-05  \\\n",
       "state                                                                   \n",
       "Kerala              0         160         211         240         225   \n",
       "Telangana           0        1213        1892        1850        1590   \n",
       "Odisha              0         229         561         495         469   \n",
       "Tripura             0          39          93          25          23   \n",
       "Mizoram             0           2           0           2          22   \n",
       "\n",
       "states     2020-07-06  2020-07-07  2020-07-08  2020-07-09  2020-07-10  ...  \\\n",
       "state                                                                  ...   \n",
       "Kerala            193         272         301         339         416  ...   \n",
       "Telangana        1831        1879        1924        1410        1278  ...   \n",
       "Odisha            456         571         527         577         755  ...   \n",
       "Tripura           111          24          57          16         142  ...   \n",
       "Mizoram            11           1           5           0          23  ...   \n",
       "\n",
       "states     2020-12-14  2020-12-15  2020-12-16  2020-12-17  2020-12-18  \\\n",
       "state                                                                   \n",
       "Kerala           2707        5218        6185        4969        5456   \n",
       "Telangana         384         491         536         509         551   \n",
       "Odisha            332         300         407         351         358   \n",
       "Tripura            10           9          24          17          21   \n",
       "Mizoram             5           9          31           5           9   \n",
       "\n",
       "states     2020-12-19  2020-12-20  2020-12-21  2020-12-22  2020-12-23  \n",
       "state                                                                  \n",
       "Kerala           6293        5711        3423        6049        6169  \n",
       "Telangana         627         592         316         617         635  \n",
       "Odisha            356         372         363         319         364  \n",
       "Tripura            26          22           8          13          15  \n",
       "Mizoram            16          12           2           9           8  \n",
       "\n",
       "[5 rows x 176 columns]"
      ]
     },
     "execution_count": 18,
     "metadata": {},
     "output_type": "execute_result"
    }
   ],
   "source": [
    "#hide\n",
    "dft_ct_new_cases.head()"
   ]
  },
  {
   "cell_type": "code",
   "execution_count": 19,
   "metadata": {
    "execution": {
     "iopub.execute_input": "2020-12-23T14:01:29.214732Z",
     "iopub.status.busy": "2020-12-23T14:01:29.208994Z",
     "iopub.status.idle": "2020-12-23T14:01:35.628293Z",
     "shell.execute_reply": "2020-12-23T14:01:35.628798Z"
    },
    "papermill": {
     "duration": 6.456692,
     "end_time": "2020-12-23T14:01:35.628959",
     "exception": false,
     "start_time": "2020-12-23T14:01:29.172267",
     "status": "completed"
    },
    "tags": []
   },
   "outputs": [
    {
     "data": {
      "image/png": "[encoded data removed]",
      "text/plain": [
       "<Figure size 1296x2016 with 11 Axes>"
      ]
     },
     "metadata": {
      "needs_background": "light"
     },
     "output_type": "display_data"
    }
   ],
   "source": [
    "#hide_input\n",
    "df = dft_ct_new_cases.copy()\n",
    "df.loc['Total'] = df.sum()\n",
    "n = 5\n",
    "ax = []\n",
    "fig = plt.figure(figsize = (18,28))\n",
    "gs = fig.add_gridspec(n+2, 5)\n",
    "# gs = fig.add_gridspec(2, 3)\n",
    "ax1 = fig.add_subplot(gs[0, :])\n",
    "ef = df.loc['Total'].rename_axis('date').reset_index()\n",
    "ef['date'] = ef['date'].astype('datetime64[ns]')\n",
    "ax1.bar(ef.date,ef.Total,alpha=0.3,color='#007acc')\n",
    "ax1.plot(ef.date,ef.Total , marker=\"o\", color='#007acc')\n",
    "ax1.xaxis.set_major_locator(mdates.WeekdayLocator())\n",
    "ax1.xaxis.set_major_formatter(mdates.DateFormatter('%b %d'))\n",
    "ax1.text(0.02, 0.5,'India daily case count', transform = ax1.transAxes, fontsize=25);\n",
    "ax1.spines['right'].set_visible(False)\n",
    "ax1.spines['top'].set_visible(False)\n",
    "\n",
    "ax2 = fig.add_subplot(gs[1,0])\n",
    "ef = df.loc['Maharashtra'].rename_axis('date').reset_index()\n",
    "ef['date'] = ef['date'].astype('datetime64[ns]')\n",
    "\n",
    "ax2.bar(ef.date, ef.Maharashtra,color = '#007acc',alpha=0.5)\n",
    "ax2.xaxis.set_major_locator(mdates.WeekdayLocator())\n",
    "ax2.xaxis.set_major_formatter(mdates.DateFormatter('%b %d'))\n",
    "ax2.set_xticks(ax2.get_xticks()[::3])\n",
    "maxyval = ef.Maharashtra.max()\n",
    "ax2.set_ylim([0,maxyval])\n",
    "ax2.text(0.05, 0.9,'Maharashtra', transform = ax2.transAxes, fontsize=20);\n",
    "ax2.spines['right'].set_visible(False)\n",
    "ax2.spines['top'].set_visible(False)\n",
    "\n",
    "\n",
    "ax3 = fig.add_subplot(gs[1,1])\n",
    "ef = df.loc['Tamil Nadu'].rename_axis('date').reset_index()\n",
    "ef['date'] = ef['date'].astype('datetime64[ns]')\n",
    "ax3.bar(ef.date, ef['Tamil Nadu'],color = '#007acc',alpha=0.5,)\n",
    "ax3.xaxis.set_major_locator(mdates.WeekdayLocator())\n",
    "ax3.xaxis.set_major_formatter(mdates.DateFormatter('%b %d'))\n",
    "ax3.set_xticks(ax3.get_xticks()[::3])\n",
    "ax3.text(0.05, 0.9,'Tamil Nadu', transform = ax3.transAxes, fontsize=20);\n",
    "ax3.spines['right'].set_visible(False)\n",
    "ax3.spines['top'].set_visible(False)\n",
    "\n",
    "ax5 = fig.add_subplot(gs[1,3])\n",
    "ef = df.loc['Telangana'].rename_axis('date').reset_index()\n",
    "ef['date'] = ef['date'].astype('datetime64[ns]')\n",
    "ax5.bar(ef.date, ef['Telangana'],color = '#007acc',alpha=0.5,)\n",
    "ax5.xaxis.set_major_locator(mdates.WeekdayLocator())\n",
    "ax5.xaxis.set_major_formatter(mdates.DateFormatter('%b %d'))\n",
    "ax5.set_xticks(ax5.get_xticks()[::3])\n",
    "ax5.text(0.05, 0.9,'Telangana', transform = ax5.transAxes, fontsize=20);\n",
    "ax5.spines['right'].set_visible(False)\n",
    "ax5.spines['top'].set_visible(False)\n",
    "\n",
    "ax6 = fig.add_subplot(gs[1,4])\n",
    "ef = df.loc['Andhra Pradesh'].rename_axis('date').reset_index()\n",
    "ef['date'] = ef['date'].astype('datetime64[ns]')\n",
    "ax6.bar(ef.date, ef['Andhra Pradesh'],color = '#007acc',alpha=0.5,)\n",
    "ax6.xaxis.set_major_locator(mdates.WeekdayLocator())\n",
    "ax6.xaxis.set_major_formatter(mdates.DateFormatter('%b %d'))\n",
    "ax6.set_xticks(ax6.get_xticks()[::3])\n",
    "ax6.text(0.05, 1,'Andhra Pradesh', transform = ax6.transAxes, fontsize=20);\n",
    "ax6.spines['right'].set_visible(False)\n",
    "ax6.spines['top'].set_visible(False)\n",
    "\n",
    "ax4 = fig.add_subplot(gs[1,2])\n",
    "ef = df.loc['Delhi'].rename_axis('date').reset_index()\n",
    "ef['date'] = ef['date'].astype('datetime64[ns]')\n",
    "ax4.bar(ef.date, ef.Delhi,color = '#007acc',alpha=0.5)\n",
    "ax4.set_xticks([])\n",
    "ax4.xaxis.set_major_locator(mdates.WeekdayLocator())\n",
    "ax4.xaxis.set_major_formatter(mdates.DateFormatter('%b %d'))\n",
    "ax4.set_xticks(ax4.get_xticks()[::3])\n",
    "ax4.spines['right'].set_visible(False)\n",
    "ax4.spines['top'].set_visible(False)\n",
    "\n",
    "ax4.text(0.05, 1,'Delhi', transform = ax4.transAxes, fontsize=20)\n",
    "\n",
    "for i in range(n):\n",
    "    \n",
    "    ax.append(fig.add_subplot(gs[i+2,:]))\n",
    "    ef = df.iloc[i+3].rename_axis('date').reset_index()\n",
    "    ef['date'] = ef['date'].astype('datetime64[ns]')\n",
    "    ax[i].bar(ef.date,ef.iloc[:,-1],color = '#007acc',alpha=0.3)\n",
    "    ax[i].plot(ef.date,ef.iloc[:,-1],marker='o',color='#007acc')\n",
    "    ax[i].text(0.02,0.5,f'{ef.columns.values[-1]}',transform = ax[i].transAxes, fontsize = 20);\n",
    "    ax[i].xaxis.set_major_locator(mdates.WeekdayLocator())\n",
    "    ax[i].xaxis.set_major_formatter(mdates.DateFormatter('%b %d'))\n",
    "    ax[i].set_ylim([0,7000])\n",
    "    ax[i].spines['right'].set_visible(False)\n",
    "    ax[i].spines['top'].set_visible(False)\n",
    "plt.tight_layout()\n"
   ]
  },
  {
   "cell_type": "code",
   "execution_count": 20,
   "metadata": {
    "execution": {
     "iopub.execute_input": "2020-12-23T14:01:35.688536Z",
     "iopub.status.busy": "2020-12-23T14:01:35.687744Z",
     "iopub.status.idle": "2020-12-23T14:01:35.690547Z",
     "shell.execute_reply": "2020-12-23T14:01:35.691153Z"
    },
    "papermill": {
     "duration": 0.038456,
     "end_time": "2020-12-23T14:01:35.691331",
     "exception": false,
     "start_time": "2020-12-23T14:01:35.652875",
     "status": "completed"
    },
    "tags": []
   },
   "outputs": [
    {
     "name": "stdout",
     "output_type": "stream",
     "text": [
      "                                   states    Cases  Deaths   PCases  PDeaths  Cases (+)  Deaths (+)  Fatality Rate\n",
      "                              Maharashtra  1902458   48876  1902458    48876          0           0           2.57\n",
      "                                Karnataka   911382   12029   911382    12029          0           0           1.32\n",
      "                           Andhra Pradesh   879339    7082   879339     7082          0           0           0.81\n",
      "                               Tamil Nadu   809014   12012   809014    12012          0           0           1.48\n",
      "                                   Kerala   721511    2893   715342     2871       6169          22           0.40\n",
      "                                    Delhi   618747   10329   618747    10329          0           0           1.67\n",
      "                            Uttar Pradesh   576824    8224   576824     8224          0           0           1.43\n",
      "                              West Bengal   539996    9439   539996     9439          0           0           1.75\n",
      "                                   Odisha   327279    1899   326915     1896        364           3           0.58\n",
      "                                Rajasthan   300716    2634   300716     2634          0           0           0.88\n",
      "                                Telangana   282982    1522   282347     1518        635           4           0.54\n",
      "                             Chhattisgarh   269857    3212   269857     3212          0           0           1.19\n",
      "                                  Haryana   258731    2842   258731     2842          0           0           1.10\n",
      "                                    Bihar   248028    1362   248028     1362          0           0           0.55\n",
      "                                  Gujarat   237247    4248   237247     4248          0           0           1.79\n",
      "                           Madhya Pradesh   233324    3502   233324     3502          0           0           1.50\n",
      "                                    Assam   215585    1024   215585     1024          0           0           0.47\n",
      "                                   Punjab   163665    5230   163665     5230          0           0           3.20\n",
      "                        Jammu and Kashmir   118803    1850   118803     1850          0           0           1.56\n",
      "                                Jharkhand   113407    1014   113407     1014          0           0           0.89\n",
      "                              Uttarakhand    87376    1439    87376     1439          0           0           1.65\n",
      "                         Himachal Pradesh    52955     877    52955      877          0           0           1.66\n",
      "                                      Goa    50239     725    50239      725          0           0           1.44\n",
      "                               Puducherry    37811     629    37811      629          0           0           1.66\n",
      "                                  Tripura    33200     380    33185      377         15           3           1.14\n",
      "                                  Manipur    27723     337    27723      337          0           0           1.22\n",
      "                               Chandigarh    19184     312    19184      312          0           0           1.63\n",
      "                        Arunachal Pradesh    16657      56    16657       56          0           0           0.34\n",
      "                                Meghalaya    13299     134    13299      134          0           0           1.01\n",
      "                                 Nagaland    11866      76    11866       76          0           0           0.64\n",
      "                                   Ladakh     9296     125     9296      125          0           0           1.34\n",
      "                                   Sikkim     5610     124     5610      124          0           0           2.21\n",
      "              Andaman and Nicobar Islands     4893      62     4893       62          0           0           1.27\n",
      "                                  Mizoram     4141       8     4133        7          8           1           0.19\n",
      " Dadra and Nagar Haveli and Daman and Diu     3354       2     3354        2          0           0           0.06\n",
      "                              Lakshadweep        0       0        0        0          0           0            NaN\n"
     ]
    }
   ],
   "source": [
    "#hide_input\n",
    "print(df_table.to_string(index=False))"
   ]
  },
  {
   "cell_type": "code",
   "execution_count": null,
   "metadata": {
    "papermill": {
     "duration": 0.024253,
     "end_time": "2020-12-23T14:01:35.741289",
     "exception": false,
     "start_time": "2020-12-23T14:01:35.717036",
     "status": "completed"
    },
    "tags": []
   },
   "outputs": [],
   "source": []
  },
  {
   "cell_type": "code",
   "execution_count": null,
   "metadata": {
    "papermill": {
     "duration": 0.026351,
     "end_time": "2020-12-23T14:01:35.793952",
     "exception": false,
     "start_time": "2020-12-23T14:01:35.767601",
     "status": "completed"
    },
    "tags": []
   },
   "outputs": [],
   "source": []
  }
 ],
 "metadata": {
  "kernelspec": {
   "display_name": "Python 3",
   "language": "python",
   "name": "python3"
  },
  "language_info": {
   "codemirror_mode": {
    "name": "ipython",
    "version": 3
   },
   "file_extension": ".py",
   "mimetype": "text/x-python",
   "name": "python",
   "nbconvert_exporter": "python",
   "pygments_lexer": "ipython3",
   "version": "3.6.12"
  },
  "papermill": {
   "duration": 15.159198,
   "end_time": "2020-12-23T14:01:36.331895",
   "environment_variables": {},
   "exception": null,
   "input_path": "latest.ipynb",
   "output_path": "latest.ipynb",
   "parameters": {},
   "start_time": "2020-12-23T14:01:21.172697",
   "version": "2.1.2"
  }
 },
 "nbformat": 4,
 "nbformat_minor": 4
}