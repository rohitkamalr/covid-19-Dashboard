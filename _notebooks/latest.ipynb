{
 "cells": [
  {
   "cell_type": "markdown",
   "id": "colored-stack",
   "metadata": {
    "papermill": {
     "duration": 0.023067,
     "end_time": "2021-02-13T13:52:09.541161",
     "exception": false,
     "start_time": "2021-02-13T13:52:09.518094",
     "status": "completed"
    },
    "tags": []
   },
   "source": [
    "# Latest COVID-19 India Matplotlib Overview"
   ]
  },
  {
   "cell_type": "code",
   "execution_count": 1,
   "id": "light-proportion",
   "metadata": {
    "execution": {
     "iopub.execute_input": "2021-02-13T13:52:09.591113Z",
     "iopub.status.busy": "2021-02-13T13:52:09.590455Z",
     "iopub.status.idle": "2021-02-13T13:52:10.207779Z",
     "shell.execute_reply": "2021-02-13T13:52:10.207173Z"
    },
    "papermill": {
     "duration": 0.648074,
     "end_time": "2021-02-13T13:52:10.207979",
     "exception": false,
     "start_time": "2021-02-13T13:52:09.559905",
     "status": "completed"
    },
    "tags": []
   },
   "outputs": [],
   "source": [
    "#hide\n",
    "import pandas as pd\n",
    "import numpy as np\n",
    "import requests\n",
    "import json\n",
    "import matplotlib.pyplot as plt\n",
    "import matplotlib.dates as mdates\n",
    "import matplotlib as mpl\n",
    "from IPython.core.display import display,HTML\n",
    "%matplotlib inline\n",
    "from datetime import date"
   ]
  },
  {
   "cell_type": "code",
   "execution_count": 2,
   "id": "greenhouse-shooting",
   "metadata": {
    "execution": {
     "iopub.execute_input": "2021-02-13T13:52:10.253537Z",
     "iopub.status.busy": "2021-02-13T13:52:10.252867Z",
     "iopub.status.idle": "2021-02-13T13:52:10.408840Z",
     "shell.execute_reply": "2021-02-13T13:52:10.408259Z"
    },
    "papermill": {
     "duration": 0.181637,
     "end_time": "2021-02-13T13:52:10.409042",
     "exception": false,
     "start_time": "2021-02-13T13:52:10.227405",
     "status": "completed"
    },
    "tags": []
   },
   "outputs": [],
   "source": [
    "#hide\n",
    "df  = pd.read_csv('https://api.covid19india.org/csv/latest/states.csv')\n",
    "df = df[['Date','State','Confirmed','Deceased']]\n",
    "df = df.rename(columns={'Confirmed':'Cases', \"Deceased\":'Deaths'})\n",
    "df_cases = df[[\"Date\",'State','Cases']]\n",
    "df_deaths = df[['Date','State','Deaths']]\n",
    "df_cases1 = df_cases.groupby('Date')\n",
    "df_deaths1= df_deaths.groupby('Date')"
   ]
  },
  {
   "cell_type": "code",
   "execution_count": 3,
   "id": "hybrid-cathedral",
   "metadata": {
    "execution": {
     "iopub.execute_input": "2021-02-13T13:52:10.454326Z",
     "iopub.status.busy": "2021-02-13T13:52:10.453679Z",
     "iopub.status.idle": "2021-02-13T13:52:10.472345Z",
     "shell.execute_reply": "2021-02-13T13:52:10.472860Z"
    },
    "papermill": {
     "duration": 0.044534,
     "end_time": "2021-02-13T13:52:10.473054",
     "exception": false,
     "start_time": "2021-02-13T13:52:10.428520",
     "status": "completed"
    },
    "tags": []
   },
   "outputs": [],
   "source": [
    "#hide\n",
    "df_snap = pd.read_csv('data/SnapshotCases-28-July.csv')\n",
    "arr_states = df_snap['states'].unique()\n",
    "arr_dates = df['Date'].unique()\n",
    "df_snap = df_snap.set_index('states')"
   ]
  },
  {
   "cell_type": "code",
   "execution_count": 4,
   "id": "interior-belfast",
   "metadata": {
    "execution": {
     "iopub.execute_input": "2021-02-13T13:52:10.517015Z",
     "iopub.status.busy": "2021-02-13T13:52:10.516357Z",
     "iopub.status.idle": "2021-02-13T13:52:10.519690Z",
     "shell.execute_reply": "2021-02-13T13:52:10.519155Z"
    },
    "papermill": {
     "duration": 0.027895,
     "end_time": "2021-02-13T13:52:10.519819",
     "exception": false,
     "start_time": "2021-02-13T13:52:10.491924",
     "status": "completed"
    },
    "tags": []
   },
   "outputs": [
    {
     "data": {
      "text/plain": [
       "array(['Andaman and Nicobar Islands', 'Andhra Pradesh',\n",
       "       'Arunachal Pradesh', 'Assam', 'Bihar', 'Chandigarh',\n",
       "       'Dadra and Nagar Haveli and Daman and Diu', 'Delhi', 'Goa',\n",
       "       'Gujarat', 'Haryana', 'Himachal Pradesh', 'Jammu and Kashmir',\n",
       "       'Jharkhand', 'Karnataka', 'Kerala', 'Lakshadweep',\n",
       "       'Madhya Pradesh', 'Maharashtra', 'Manipur', 'Meghalaya', 'Mizoram',\n",
       "       'Nagaland', 'Odisha', 'Puducherry', 'Punjab', 'Rajasthan',\n",
       "       'Sikkim', 'Tamil Nadu', 'Telangana', 'Tripura', 'Uttar Pradesh',\n",
       "       'West Bengal', 'Chhattisgarh', 'Ladakh', 'Uttarakhand'],\n",
       "      dtype=object)"
      ]
     },
     "execution_count": 4,
     "metadata": {},
     "output_type": "execute_result"
    }
   ],
   "source": [
    "#hide\n",
    "arr_states[-9] = 'Puducherry'\n",
    "arr_states[-10] = 'Odisha'\n",
    "arr_states[6] = 'Dadra and Nagar Haveli and Daman and Diu'\n",
    "arr_states = np.append(arr_states,np.array(['Chhattisgarh','Ladakh','Uttarakhand']))\n",
    "arr_states"
   ]
  },
  {
   "cell_type": "code",
   "execution_count": 5,
   "id": "behind-manner",
   "metadata": {
    "execution": {
     "iopub.execute_input": "2021-02-13T13:52:10.571195Z",
     "iopub.status.busy": "2021-02-13T13:52:10.570536Z",
     "iopub.status.idle": "2021-02-13T13:52:10.579816Z",
     "shell.execute_reply": "2021-02-13T13:52:10.580496Z"
    },
    "papermill": {
     "duration": 0.040276,
     "end_time": "2021-02-13T13:52:10.580637",
     "exception": false,
     "start_time": "2021-02-13T13:52:10.540361",
     "status": "completed"
    },
    "tags": []
   },
   "outputs": [],
   "source": [
    "#hide\n",
    "dates = []\n",
    "for i in arr_dates:\n",
    "    if i>='2020-07-01':\n",
    "        dates.append(i)\n",
    "dict = {'states':dates}\n",
    "for i in arr_states:\n",
    "    dict[i] = [0]*len(dates)\n",
    "dft_cases = pd.DataFrame(dict)\n",
    "dft_deaths = pd.DataFrame(dict)\n"
   ]
  },
  {
   "cell_type": "code",
   "execution_count": 6,
   "id": "simplified-peter",
   "metadata": {
    "execution": {
     "iopub.execute_input": "2021-02-13T13:52:10.625546Z",
     "iopub.status.busy": "2021-02-13T13:52:10.624884Z",
     "iopub.status.idle": "2021-02-13T13:52:14.817828Z",
     "shell.execute_reply": "2021-02-13T13:52:14.816788Z"
    },
    "papermill": {
     "duration": 4.216729,
     "end_time": "2021-02-13T13:52:14.817983",
     "exception": false,
     "start_time": "2021-02-13T13:52:10.601254",
     "status": "completed"
    },
    "tags": []
   },
   "outputs": [],
   "source": [
    "#hide\n",
    "for i in range(len(dates)):\n",
    "    df1_deaths = df_deaths1.get_group(dates[i])\n",
    "    for j in range(len(df1_deaths.index)):\n",
    "        if df1_deaths.iloc[j,1] in arr_states:\n",
    "            dft_deaths.loc[i,df1_deaths.iloc[j,1]] = df1_deaths.iloc[j,2]\n",
    "dft_deaths = dft_deaths.set_index('states')"
   ]
  },
  {
   "cell_type": "code",
   "execution_count": 7,
   "id": "geological-welding",
   "metadata": {
    "execution": {
     "iopub.execute_input": "2021-02-13T13:52:14.863495Z",
     "iopub.status.busy": "2021-02-13T13:52:14.862845Z",
     "iopub.status.idle": "2021-02-13T13:52:19.041787Z",
     "shell.execute_reply": "2021-02-13T13:52:19.041209Z"
    },
    "papermill": {
     "duration": 4.20427,
     "end_time": "2021-02-13T13:52:19.041940",
     "exception": false,
     "start_time": "2021-02-13T13:52:14.837670",
     "status": "completed"
    },
    "tags": []
   },
   "outputs": [],
   "source": [
    "#hide\n",
    "for i in range(len(dates)):\n",
    "    df1_cases = df_cases1.get_group(dates[i])\n",
    "    for j in range(len(df1_cases.index)):\n",
    "        if df1_cases.iloc[j,1] in arr_states:\n",
    "            dft_cases.loc[i,df1_cases.iloc[j,1]] = df1_cases.iloc[j,2]\n",
    "dft_cases = dft_cases.set_index('states')"
   ]
  },
  {
   "cell_type": "code",
   "execution_count": 8,
   "id": "binary-ratio",
   "metadata": {
    "execution": {
     "iopub.execute_input": "2021-02-13T13:52:19.088491Z",
     "iopub.status.busy": "2021-02-13T13:52:19.087800Z",
     "iopub.status.idle": "2021-02-13T13:52:19.091335Z",
     "shell.execute_reply": "2021-02-13T13:52:19.090682Z"
    },
    "papermill": {
     "duration": 0.029269,
     "end_time": "2021-02-13T13:52:19.091463",
     "exception": false,
     "start_time": "2021-02-13T13:52:19.062194",
     "status": "completed"
    },
    "tags": []
   },
   "outputs": [],
   "source": [
    "#hide\n",
    "dft_cases = dft_cases.T\n",
    "dft_deaths = dft_deaths.T\n",
    "dt_today = dates[-1]\n",
    "dt_yday = dates[-2]"
   ]
  },
  {
   "cell_type": "code",
   "execution_count": 9,
   "id": "boolean-calculator",
   "metadata": {
    "execution": {
     "iopub.execute_input": "2021-02-13T13:52:19.136411Z",
     "iopub.status.busy": "2021-02-13T13:52:19.134623Z",
     "iopub.status.idle": "2021-02-13T13:52:19.140314Z",
     "shell.execute_reply": "2021-02-13T13:52:19.139716Z"
    },
    "papermill": {
     "duration": 0.029969,
     "end_time": "2021-02-13T13:52:19.140481",
     "exception": false,
     "start_time": "2021-02-13T13:52:19.110512",
     "status": "completed"
    },
    "tags": []
   },
   "outputs": [],
   "source": [
    "#hide\n",
    "dft_cases = dft_cases.reset_index()\n",
    "dft_deaths = dft_deaths.reset_index()\n",
    "dft_cases = dft_cases.rename(columns = {'index':'state'})\n",
    "dft_deaths = dft_deaths.rename(columns = {'index':'state'})"
   ]
  },
  {
   "cell_type": "code",
   "execution_count": 10,
   "id": "invisible-johnston",
   "metadata": {
    "execution": {
     "iopub.execute_input": "2021-02-13T13:52:19.185639Z",
     "iopub.status.busy": "2021-02-13T13:52:19.184986Z",
     "iopub.status.idle": "2021-02-13T13:52:19.191054Z",
     "shell.execute_reply": "2021-02-13T13:52:19.191673Z"
    },
    "papermill": {
     "duration": 0.032137,
     "end_time": "2021-02-13T13:52:19.191810",
     "exception": false,
     "start_time": "2021-02-13T13:52:19.159673",
     "status": "completed"
    },
    "tags": []
   },
   "outputs": [],
   "source": [
    "#hide\n",
    "dfc_cases = dft_cases.groupby('state')[dt_today].sum()\n",
    "dfc_deaths = dft_deaths.groupby('state')[dt_today].sum()\n",
    "dfp_cases = dft_cases.groupby('state')[dt_yday].sum()\n",
    "dfp_deaths = dft_deaths.groupby('state')[dt_yday].sum()"
   ]
  },
  {
   "cell_type": "code",
   "execution_count": 11,
   "id": "measured-great",
   "metadata": {
    "execution": {
     "iopub.execute_input": "2021-02-13T13:52:19.237151Z",
     "iopub.status.busy": "2021-02-13T13:52:19.236496Z",
     "iopub.status.idle": "2021-02-13T13:52:19.251669Z",
     "shell.execute_reply": "2021-02-13T13:52:19.251080Z"
    },
    "papermill": {
     "duration": 0.040137,
     "end_time": "2021-02-13T13:52:19.251793",
     "exception": false,
     "start_time": "2021-02-13T13:52:19.211656",
     "status": "completed"
    },
    "tags": []
   },
   "outputs": [
    {
     "data": {
      "text/html": [
       "<div>\n",
       "<style scoped>\n",
       "    .dataframe tbody tr th:only-of-type {\n",
       "        vertical-align: middle;\n",
       "    }\n",
       "\n",
       "    .dataframe tbody tr th {\n",
       "        vertical-align: top;\n",
       "    }\n",
       "\n",
       "    .dataframe thead th {\n",
       "        text-align: right;\n",
       "    }\n",
       "</style>\n",
       "<table border=\"1\" class=\"dataframe\">\n",
       "  <thead>\n",
       "    <tr style=\"text-align: right;\">\n",
       "      <th></th>\n",
       "      <th>states</th>\n",
       "      <th>Cases</th>\n",
       "      <th>Deaths</th>\n",
       "      <th>PCases</th>\n",
       "      <th>PDeaths</th>\n",
       "    </tr>\n",
       "  </thead>\n",
       "  <tbody>\n",
       "    <tr>\n",
       "      <th>0</th>\n",
       "      <td>Maharashtra</td>\n",
       "      <td>2056575</td>\n",
       "      <td>51451</td>\n",
       "      <td>2056575</td>\n",
       "      <td>51451</td>\n",
       "    </tr>\n",
       "    <tr>\n",
       "      <th>1</th>\n",
       "      <td>Kerala</td>\n",
       "      <td>994053</td>\n",
       "      <td>3955</td>\n",
       "      <td>994053</td>\n",
       "      <td>3955</td>\n",
       "    </tr>\n",
       "    <tr>\n",
       "      <th>2</th>\n",
       "      <td>Karnataka</td>\n",
       "      <td>944437</td>\n",
       "      <td>12259</td>\n",
       "      <td>944437</td>\n",
       "      <td>12259</td>\n",
       "    </tr>\n",
       "    <tr>\n",
       "      <th>3</th>\n",
       "      <td>Andhra Pradesh</td>\n",
       "      <td>888760</td>\n",
       "      <td>7162</td>\n",
       "      <td>888760</td>\n",
       "      <td>7162</td>\n",
       "    </tr>\n",
       "    <tr>\n",
       "      <th>4</th>\n",
       "      <td>Tamil Nadu</td>\n",
       "      <td>844173</td>\n",
       "      <td>12408</td>\n",
       "      <td>844173</td>\n",
       "      <td>12408</td>\n",
       "    </tr>\n",
       "  </tbody>\n",
       "</table>\n",
       "</div>"
      ],
      "text/plain": [
       "           states    Cases  Deaths   PCases  PDeaths\n",
       "0     Maharashtra  2056575   51451  2056575    51451\n",
       "1          Kerala   994053    3955   994053     3955\n",
       "2       Karnataka   944437   12259   944437    12259\n",
       "3  Andhra Pradesh   888760    7162   888760     7162\n",
       "4      Tamil Nadu   844173   12408   844173    12408"
      ]
     },
     "execution_count": 11,
     "metadata": {},
     "output_type": "execute_result"
    }
   ],
   "source": [
    "#hide\n",
    "df_table = pd.DataFrame({'states': dfc_cases.index, 'Cases': dfc_cases.values, 'Deaths': dfc_deaths.values, 'PCases': dfp_cases.values, 'PDeaths': dfp_deaths.values}).set_index('states')\n",
    "df_table = df_table.sort_values(by = ['Cases','Deaths'], ascending = [False, False])\n",
    "df_table = df_table.reset_index()\n",
    "df_table.head()"
   ]
  },
  {
   "cell_type": "code",
   "execution_count": 12,
   "id": "found-montreal",
   "metadata": {
    "execution": {
     "iopub.execute_input": "2021-02-13T13:52:19.296623Z",
     "iopub.status.busy": "2021-02-13T13:52:19.295969Z",
     "iopub.status.idle": "2021-02-13T13:52:19.305755Z",
     "shell.execute_reply": "2021-02-13T13:52:19.306358Z"
    },
    "papermill": {
     "duration": 0.034702,
     "end_time": "2021-02-13T13:52:19.306497",
     "exception": false,
     "start_time": "2021-02-13T13:52:19.271795",
     "status": "completed"
    },
    "tags": []
   },
   "outputs": [],
   "source": [
    "#hide\n",
    "for c in 'Cases, Deaths'.split(', '):\n",
    "    df_table[f'{c} (+)'] = (df_table[c] - df_table[f'P{c}']).clip(0)\n",
    "df_table['Fatality Rate'] = (100* df_table['Deaths']/ df_table['Cases']).round(2)"
   ]
  },
  {
   "cell_type": "code",
   "execution_count": 13,
   "id": "minus-savage",
   "metadata": {
    "execution": {
     "iopub.execute_input": "2021-02-13T13:52:19.356719Z",
     "iopub.status.busy": "2021-02-13T13:52:19.356065Z",
     "iopub.status.idle": "2021-02-13T13:52:19.359434Z",
     "shell.execute_reply": "2021-02-13T13:52:19.358866Z"
    },
    "papermill": {
     "duration": 0.033467,
     "end_time": "2021-02-13T13:52:19.359559",
     "exception": false,
     "start_time": "2021-02-13T13:52:19.326092",
     "status": "completed"
    },
    "tags": []
   },
   "outputs": [
    {
     "data": {
      "text/html": [
       "<div>\n",
       "<style scoped>\n",
       "    .dataframe tbody tr th:only-of-type {\n",
       "        vertical-align: middle;\n",
       "    }\n",
       "\n",
       "    .dataframe tbody tr th {\n",
       "        vertical-align: top;\n",
       "    }\n",
       "\n",
       "    .dataframe thead th {\n",
       "        text-align: right;\n",
       "    }\n",
       "</style>\n",
       "<table border=\"1\" class=\"dataframe\">\n",
       "  <thead>\n",
       "    <tr style=\"text-align: right;\">\n",
       "      <th></th>\n",
       "      <th>states</th>\n",
       "      <th>Cases</th>\n",
       "      <th>Deaths</th>\n",
       "      <th>PCases</th>\n",
       "      <th>PDeaths</th>\n",
       "      <th>Cases (+)</th>\n",
       "      <th>Deaths (+)</th>\n",
       "      <th>Fatality Rate</th>\n",
       "    </tr>\n",
       "  </thead>\n",
       "  <tbody>\n",
       "    <tr>\n",
       "      <th>0</th>\n",
       "      <td>Maharashtra</td>\n",
       "      <td>2056575</td>\n",
       "      <td>51451</td>\n",
       "      <td>2056575</td>\n",
       "      <td>51451</td>\n",
       "      <td>0</td>\n",
       "      <td>0</td>\n",
       "      <td>2.50</td>\n",
       "    </tr>\n",
       "    <tr>\n",
       "      <th>1</th>\n",
       "      <td>Kerala</td>\n",
       "      <td>994053</td>\n",
       "      <td>3955</td>\n",
       "      <td>994053</td>\n",
       "      <td>3955</td>\n",
       "      <td>0</td>\n",
       "      <td>0</td>\n",
       "      <td>0.40</td>\n",
       "    </tr>\n",
       "    <tr>\n",
       "      <th>2</th>\n",
       "      <td>Karnataka</td>\n",
       "      <td>944437</td>\n",
       "      <td>12259</td>\n",
       "      <td>944437</td>\n",
       "      <td>12259</td>\n",
       "      <td>0</td>\n",
       "      <td>0</td>\n",
       "      <td>1.30</td>\n",
       "    </tr>\n",
       "    <tr>\n",
       "      <th>3</th>\n",
       "      <td>Andhra Pradesh</td>\n",
       "      <td>888760</td>\n",
       "      <td>7162</td>\n",
       "      <td>888760</td>\n",
       "      <td>7162</td>\n",
       "      <td>0</td>\n",
       "      <td>0</td>\n",
       "      <td>0.81</td>\n",
       "    </tr>\n",
       "    <tr>\n",
       "      <th>4</th>\n",
       "      <td>Tamil Nadu</td>\n",
       "      <td>844173</td>\n",
       "      <td>12408</td>\n",
       "      <td>844173</td>\n",
       "      <td>12408</td>\n",
       "      <td>0</td>\n",
       "      <td>0</td>\n",
       "      <td>1.47</td>\n",
       "    </tr>\n",
       "  </tbody>\n",
       "</table>\n",
       "</div>"
      ],
      "text/plain": [
       "           states    Cases  Deaths   PCases  PDeaths  Cases (+)  Deaths (+)  \\\n",
       "0     Maharashtra  2056575   51451  2056575    51451          0           0   \n",
       "1          Kerala   994053    3955   994053     3955          0           0   \n",
       "2       Karnataka   944437   12259   944437    12259          0           0   \n",
       "3  Andhra Pradesh   888760    7162   888760     7162          0           0   \n",
       "4      Tamil Nadu   844173   12408   844173    12408          0           0   \n",
       "\n",
       "   Fatality Rate  \n",
       "0           2.50  \n",
       "1           0.40  \n",
       "2           1.30  \n",
       "3           0.81  \n",
       "4           1.47  "
      ]
     },
     "execution_count": 13,
     "metadata": {},
     "output_type": "execute_result"
    }
   ],
   "source": [
    "#hide\n",
    "df_table.head()"
   ]
  },
  {
   "cell_type": "code",
   "execution_count": 14,
   "id": "false-peter",
   "metadata": {
    "execution": {
     "iopub.execute_input": "2021-02-13T13:52:19.404631Z",
     "iopub.status.busy": "2021-02-13T13:52:19.403948Z",
     "iopub.status.idle": "2021-02-13T13:52:19.421266Z",
     "shell.execute_reply": "2021-02-13T13:52:19.420706Z"
    },
    "papermill": {
     "duration": 0.042372,
     "end_time": "2021-02-13T13:52:19.421390",
     "exception": false,
     "start_time": "2021-02-13T13:52:19.379018",
     "status": "completed"
    },
    "tags": []
   },
   "outputs": [
    {
     "data": {
      "text/plain": [
       "{'updated': '2021-02-13',\n",
       " 'since': '2021-02-12',\n",
       " 'Cases': 10892813,\n",
       " 'PCases': 10892550,\n",
       " 'Deaths': 155589,\n",
       " 'PDeaths': 155588,\n",
       " 'Cases (+)': 263,\n",
       " 'Deaths (+)': 1}"
      ]
     },
     "execution_count": 14,
     "metadata": {},
     "output_type": "execute_result"
    }
   ],
   "source": [
    "#hide\n",
    "summary = {'updated':dates[-1], 'since':dates[-2]}\n",
    "list_names = ['Cases', 'PCases', 'Deaths', 'PDeaths', 'Cases (+)', 'Deaths (+)']\n",
    "for name in list_names:\n",
    "    summary[name] = df_table.sum()[name]\n",
    "summary"
   ]
  },
  {
   "cell_type": "code",
   "execution_count": 15,
   "id": "packed-viewer",
   "metadata": {
    "execution": {
     "iopub.execute_input": "2021-02-13T13:52:19.466227Z",
     "iopub.status.busy": "2021-02-13T13:52:19.465576Z",
     "iopub.status.idle": "2021-02-13T13:52:19.468443Z",
     "shell.execute_reply": "2021-02-13T13:52:19.467782Z"
    },
    "papermill": {
     "duration": 0.027289,
     "end_time": "2021-02-13T13:52:19.468566",
     "exception": false,
     "start_time": "2021-02-13T13:52:19.441277",
     "status": "completed"
    },
    "tags": []
   },
   "outputs": [],
   "source": [
    "#hide\n",
    "overview = '''\n",
    "<!-- #######  HTML!! #########-->\n",
    "<h1 style=\"color: #5e9ca0; text-align: center;\">India</h1>\n",
    "<p style=\"text-align: center;\">Last update: <strong>{update}</strong></p>\n",
    "<p style=\"text-align: center;\">Confirmed cases:</p>\n",
    "<p style=\"text-align: center;font-size:24px;\">{cases} (<span style=\"color: #ff0000;\">+{new}</span>)</p>\n",
    "<p style=\"text-align: center;\">Confirmed deaths:</p>\n",
    "<p style=\"text-align: center;font-size:24px;\">{deaths} (<span style=\"color: #ff0000;\">+{dnew}</span>)</p>\n",
    "'''"
   ]
  },
  {
   "cell_type": "code",
   "execution_count": 16,
   "id": "phantom-lover",
   "metadata": {
    "execution": {
     "iopub.execute_input": "2021-02-13T13:52:19.514282Z",
     "iopub.status.busy": "2021-02-13T13:52:19.513635Z",
     "iopub.status.idle": "2021-02-13T13:52:19.516683Z",
     "shell.execute_reply": "2021-02-13T13:52:19.517248Z"
    },
    "papermill": {
     "duration": 0.029209,
     "end_time": "2021-02-13T13:52:19.517384",
     "exception": false,
     "start_time": "2021-02-13T13:52:19.488175",
     "status": "completed"
    },
    "tags": []
   },
   "outputs": [
    {
     "data": {
      "text/html": [
       "\n",
       "<!-- #######  HTML!! #########-->\n",
       "<h1 style=\"color: #5e9ca0; text-align: center;\">India</h1>\n",
       "<p style=\"text-align: center;\">Last update: <strong>2021-02-13</strong></p>\n",
       "<p style=\"text-align: center;\">Confirmed cases:</p>\n",
       "<p style=\"text-align: center;font-size:24px;\">10892813 (<span style=\"color: #ff0000;\">+263</span>)</p>\n",
       "<p style=\"text-align: center;\">Confirmed deaths:</p>\n",
       "<p style=\"text-align: center;font-size:24px;\">155589 (<span style=\"color: #ff0000;\">+1</span>)</p>\n"
      ],
      "text/plain": [
       "<IPython.core.display.HTML object>"
      ]
     },
     "metadata": {},
     "output_type": "display_data"
    }
   ],
   "source": [
    "#hide_input\n",
    "update = summary['updated']\n",
    "cases = summary['Cases']\n",
    "new = summary['Cases (+)']\n",
    "deaths = summary['Deaths']\n",
    "dnew = summary['Deaths (+)']\n",
    "\n",
    "html = HTML(overview.format(update=update, cases=cases,new=new,deaths=deaths,dnew=dnew))\n",
    "\n",
    "display(html)"
   ]
  },
  {
   "cell_type": "code",
   "execution_count": 17,
   "id": "sealed-reset",
   "metadata": {
    "execution": {
     "iopub.execute_input": "2021-02-13T13:52:19.564364Z",
     "iopub.status.busy": "2021-02-13T13:52:19.563696Z",
     "iopub.status.idle": "2021-02-13T13:52:19.570814Z",
     "shell.execute_reply": "2021-02-13T13:52:19.571432Z"
    },
    "papermill": {
     "duration": 0.03307,
     "end_time": "2021-02-13T13:52:19.571568",
     "exception": false,
     "start_time": "2021-02-13T13:52:19.538498",
     "status": "completed"
    },
    "tags": []
   },
   "outputs": [],
   "source": [
    "#hide\n",
    "dt_cols = list(dft_cases.columns[1:])\n",
    "dft_ct_new_cases = dft_cases.groupby('state')[dt_cols].sum().diff(axis=1).fillna(0).astype(int)\n",
    "dft_ct_new_cases.sort_values(by = dates[-1], ascending = False,inplace = True)"
   ]
  },
  {
   "cell_type": "code",
   "execution_count": 18,
   "id": "designed-constant",
   "metadata": {
    "execution": {
     "iopub.execute_input": "2021-02-13T13:52:19.630547Z",
     "iopub.status.busy": "2021-02-13T13:52:19.629886Z",
     "iopub.status.idle": "2021-02-13T13:52:19.633333Z",
     "shell.execute_reply": "2021-02-13T13:52:19.632770Z"
    },
    "papermill": {
     "duration": 0.041367,
     "end_time": "2021-02-13T13:52:19.633460",
     "exception": false,
     "start_time": "2021-02-13T13:52:19.592093",
     "status": "completed"
    },
    "tags": []
   },
   "outputs": [
    {
     "data": {
      "text/html": [
       "<div>\n",
       "<style scoped>\n",
       "    .dataframe tbody tr th:only-of-type {\n",
       "        vertical-align: middle;\n",
       "    }\n",
       "\n",
       "    .dataframe tbody tr th {\n",
       "        vertical-align: top;\n",
       "    }\n",
       "\n",
       "    .dataframe thead th {\n",
       "        text-align: right;\n",
       "    }\n",
       "</style>\n",
       "<table border=\"1\" class=\"dataframe\">\n",
       "  <thead>\n",
       "    <tr style=\"text-align: right;\">\n",
       "      <th>states</th>\n",
       "      <th>2020-07-01</th>\n",
       "      <th>2020-07-02</th>\n",
       "      <th>2020-07-03</th>\n",
       "      <th>2020-07-04</th>\n",
       "      <th>2020-07-05</th>\n",
       "      <th>2020-07-06</th>\n",
       "      <th>2020-07-07</th>\n",
       "      <th>2020-07-08</th>\n",
       "      <th>2020-07-09</th>\n",
       "      <th>2020-07-10</th>\n",
       "      <th>...</th>\n",
       "      <th>2021-02-04</th>\n",
       "      <th>2021-02-05</th>\n",
       "      <th>2021-02-06</th>\n",
       "      <th>2021-02-07</th>\n",
       "      <th>2021-02-08</th>\n",
       "      <th>2021-02-09</th>\n",
       "      <th>2021-02-10</th>\n",
       "      <th>2021-02-11</th>\n",
       "      <th>2021-02-12</th>\n",
       "      <th>2021-02-13</th>\n",
       "    </tr>\n",
       "    <tr>\n",
       "      <th>state</th>\n",
       "      <th></th>\n",
       "      <th></th>\n",
       "      <th></th>\n",
       "      <th></th>\n",
       "      <th></th>\n",
       "      <th></th>\n",
       "      <th></th>\n",
       "      <th></th>\n",
       "      <th></th>\n",
       "      <th></th>\n",
       "      <th></th>\n",
       "      <th></th>\n",
       "      <th></th>\n",
       "      <th></th>\n",
       "      <th></th>\n",
       "      <th></th>\n",
       "      <th></th>\n",
       "      <th></th>\n",
       "      <th></th>\n",
       "      <th></th>\n",
       "      <th></th>\n",
       "    </tr>\n",
       "  </thead>\n",
       "  <tbody>\n",
       "    <tr>\n",
       "      <th>Telangana</th>\n",
       "      <td>0</td>\n",
       "      <td>1213</td>\n",
       "      <td>1892</td>\n",
       "      <td>1850</td>\n",
       "      <td>1590</td>\n",
       "      <td>1831</td>\n",
       "      <td>1879</td>\n",
       "      <td>1924</td>\n",
       "      <td>1410</td>\n",
       "      <td>1278</td>\n",
       "      <td>...</td>\n",
       "      <td>177</td>\n",
       "      <td>169</td>\n",
       "      <td>161</td>\n",
       "      <td>150</td>\n",
       "      <td>101</td>\n",
       "      <td>149</td>\n",
       "      <td>157</td>\n",
       "      <td>146</td>\n",
       "      <td>143</td>\n",
       "      <td>144</td>\n",
       "    </tr>\n",
       "    <tr>\n",
       "      <th>Jammu and Kashmir</th>\n",
       "      <td>0</td>\n",
       "      <td>154</td>\n",
       "      <td>170</td>\n",
       "      <td>227</td>\n",
       "      <td>183</td>\n",
       "      <td>246</td>\n",
       "      <td>256</td>\n",
       "      <td>330</td>\n",
       "      <td>240</td>\n",
       "      <td>387</td>\n",
       "      <td>...</td>\n",
       "      <td>60</td>\n",
       "      <td>66</td>\n",
       "      <td>65</td>\n",
       "      <td>59</td>\n",
       "      <td>43</td>\n",
       "      <td>55</td>\n",
       "      <td>45</td>\n",
       "      <td>65</td>\n",
       "      <td>91</td>\n",
       "      <td>60</td>\n",
       "    </tr>\n",
       "    <tr>\n",
       "      <th>Odisha</th>\n",
       "      <td>0</td>\n",
       "      <td>229</td>\n",
       "      <td>561</td>\n",
       "      <td>495</td>\n",
       "      <td>469</td>\n",
       "      <td>456</td>\n",
       "      <td>571</td>\n",
       "      <td>527</td>\n",
       "      <td>577</td>\n",
       "      <td>755</td>\n",
       "      <td>...</td>\n",
       "      <td>87</td>\n",
       "      <td>97</td>\n",
       "      <td>82</td>\n",
       "      <td>72</td>\n",
       "      <td>72</td>\n",
       "      <td>105</td>\n",
       "      <td>92</td>\n",
       "      <td>95</td>\n",
       "      <td>58</td>\n",
       "      <td>59</td>\n",
       "    </tr>\n",
       "    <tr>\n",
       "      <th>Andaman and Nicobar Islands</th>\n",
       "      <td>0</td>\n",
       "      <td>9</td>\n",
       "      <td>7</td>\n",
       "      <td>3</td>\n",
       "      <td>6</td>\n",
       "      <td>16</td>\n",
       "      <td>6</td>\n",
       "      <td>2</td>\n",
       "      <td>7</td>\n",
       "      <td>0</td>\n",
       "      <td>...</td>\n",
       "      <td>0</td>\n",
       "      <td>3</td>\n",
       "      <td>3</td>\n",
       "      <td>1</td>\n",
       "      <td>4</td>\n",
       "      <td>2</td>\n",
       "      <td>0</td>\n",
       "      <td>0</td>\n",
       "      <td>0</td>\n",
       "      <td>0</td>\n",
       "    </tr>\n",
       "    <tr>\n",
       "      <th>Puducherry</th>\n",
       "      <td>0</td>\n",
       "      <td>63</td>\n",
       "      <td>22</td>\n",
       "      <td>80</td>\n",
       "      <td>42</td>\n",
       "      <td>65</td>\n",
       "      <td>30</td>\n",
       "      <td>110</td>\n",
       "      <td>49</td>\n",
       "      <td>72</td>\n",
       "      <td>...</td>\n",
       "      <td>39</td>\n",
       "      <td>50</td>\n",
       "      <td>35</td>\n",
       "      <td>22</td>\n",
       "      <td>26</td>\n",
       "      <td>35</td>\n",
       "      <td>19</td>\n",
       "      <td>25</td>\n",
       "      <td>19</td>\n",
       "      <td>0</td>\n",
       "    </tr>\n",
       "  </tbody>\n",
       "</table>\n",
       "<p>5 rows × 228 columns</p>\n",
       "</div>"
      ],
      "text/plain": [
       "states                       2020-07-01  2020-07-02  2020-07-03  2020-07-04  \\\n",
       "state                                                                         \n",
       "Telangana                             0        1213        1892        1850   \n",
       "Jammu and Kashmir                     0         154         170         227   \n",
       "Odisha                                0         229         561         495   \n",
       "Andaman and Nicobar Islands           0           9           7           3   \n",
       "Puducherry                            0          63          22          80   \n",
       "\n",
       "states                       2020-07-05  2020-07-06  2020-07-07  2020-07-08  \\\n",
       "state                                                                         \n",
       "Telangana                          1590        1831        1879        1924   \n",
       "Jammu and Kashmir                   183         246         256         330   \n",
       "Odisha                              469         456         571         527   \n",
       "Andaman and Nicobar Islands           6          16           6           2   \n",
       "Puducherry                           42          65          30         110   \n",
       "\n",
       "states                       2020-07-09  2020-07-10  ...  2021-02-04  \\\n",
       "state                                                ...               \n",
       "Telangana                          1410        1278  ...         177   \n",
       "Jammu and Kashmir                   240         387  ...          60   \n",
       "Odisha                              577         755  ...          87   \n",
       "Andaman and Nicobar Islands           7           0  ...           0   \n",
       "Puducherry                           49          72  ...          39   \n",
       "\n",
       "states                       2021-02-05  2021-02-06  2021-02-07  2021-02-08  \\\n",
       "state                                                                         \n",
       "Telangana                           169         161         150         101   \n",
       "Jammu and Kashmir                    66          65          59          43   \n",
       "Odisha                               97          82          72          72   \n",
       "Andaman and Nicobar Islands           3           3           1           4   \n",
       "Puducherry                           50          35          22          26   \n",
       "\n",
       "states                       2021-02-09  2021-02-10  2021-02-11  2021-02-12  \\\n",
       "state                                                                         \n",
       "Telangana                           149         157         146         143   \n",
       "Jammu and Kashmir                    55          45          65          91   \n",
       "Odisha                              105          92          95          58   \n",
       "Andaman and Nicobar Islands           2           0           0           0   \n",
       "Puducherry                           35          19          25          19   \n",
       "\n",
       "states                       2021-02-13  \n",
       "state                                    \n",
       "Telangana                           144  \n",
       "Jammu and Kashmir                    60  \n",
       "Odisha                               59  \n",
       "Andaman and Nicobar Islands           0  \n",
       "Puducherry                            0  \n",
       "\n",
       "[5 rows x 228 columns]"
      ]
     },
     "execution_count": 18,
     "metadata": {},
     "output_type": "execute_result"
    }
   ],
   "source": [
    "#hide\n",
    "dft_ct_new_cases.head()"
   ]
  },
  {
   "cell_type": "code",
   "execution_count": 19,
   "id": "responsible-nightlife",
   "metadata": {
    "execution": {
     "iopub.execute_input": "2021-02-13T13:52:19.706036Z",
     "iopub.status.busy": "2021-02-13T13:52:19.694164Z",
     "iopub.status.idle": "2021-02-13T13:52:29.022105Z",
     "shell.execute_reply": "2021-02-13T13:52:29.022652Z"
    },
    "papermill": {
     "duration": 9.36792,
     "end_time": "2021-02-13T13:52:29.022822",
     "exception": false,
     "start_time": "2021-02-13T13:52:19.654902",
     "status": "completed"
    },
    "tags": []
   },
   "outputs": [
    {
     "data": {
      "image/png": "[encoded data removed]",
      "text/plain": [
       "<Figure size 1296x2016 with 11 Axes>"
      ]
     },
     "metadata": {
      "needs_background": "light"
     },
     "output_type": "display_data"
    }
   ],
   "source": [
    "#hide_input\n",
    "df = dft_ct_new_cases.copy()\n",
    "df.loc['Total'] = df.sum()\n",
    "n = 5\n",
    "ax = []\n",
    "fig = plt.figure(figsize = (18,28))\n",
    "gs = fig.add_gridspec(n+2, 5)\n",
    "# gs = fig.add_gridspec(2, 3)\n",
    "ax1 = fig.add_subplot(gs[0, :])\n",
    "ef = df.loc['Total'].rename_axis('date').reset_index()\n",
    "ef['date'] = ef['date'].astype('datetime64[ns]')\n",
    "ax1.bar(ef.date,ef.Total,alpha=0.3,color='#007acc')\n",
    "ax1.plot(ef.date,ef.Total , marker=\"o\", color='#007acc')\n",
    "ax1.xaxis.set_major_locator(mdates.WeekdayLocator())\n",
    "ax1.xaxis.set_major_formatter(mdates.DateFormatter('%b %d'))\n",
    "ax1.text(0.02, 0.5,'India daily case count', transform = ax1.transAxes, fontsize=25);\n",
    "ax1.spines['right'].set_visible(False)\n",
    "ax1.spines['top'].set_visible(False)\n",
    "\n",
    "ax2 = fig.add_subplot(gs[1,0])\n",
    "ef = df.loc['Maharashtra'].rename_axis('date').reset_index()\n",
    "ef['date'] = ef['date'].astype('datetime64[ns]')\n",
    "\n",
    "ax2.bar(ef.date, ef.Maharashtra,color = '#007acc',alpha=0.5)\n",
    "ax2.xaxis.set_major_locator(mdates.WeekdayLocator())\n",
    "ax2.xaxis.set_major_formatter(mdates.DateFormatter('%b %d'))\n",
    "ax2.set_xticks(ax2.get_xticks()[::3])\n",
    "maxyval = ef.Maharashtra.max()\n",
    "ax2.set_ylim([0,maxyval])\n",
    "ax2.text(0.05, 0.9,'Maharashtra', transform = ax2.transAxes, fontsize=20);\n",
    "ax2.spines['right'].set_visible(False)\n",
    "ax2.spines['top'].set_visible(False)\n",
    "\n",
    "\n",
    "ax3 = fig.add_subplot(gs[1,1])\n",
    "ef = df.loc['Tamil Nadu'].rename_axis('date').reset_index()\n",
    "ef['date'] = ef['date'].astype('datetime64[ns]')\n",
    "ax3.bar(ef.date, ef['Tamil Nadu'],color = '#007acc',alpha=0.5,)\n",
    "ax3.xaxis.set_major_locator(mdates.WeekdayLocator())\n",
    "ax3.xaxis.set_major_formatter(mdates.DateFormatter('%b %d'))\n",
    "ax3.set_xticks(ax3.get_xticks()[::3])\n",
    "ax3.text(0.05, 0.9,'Tamil Nadu', transform = ax3.transAxes, fontsize=20);\n",
    "ax3.spines['right'].set_visible(False)\n",
    "ax3.spines['top'].set_visible(False)\n",
    "\n",
    "ax5 = fig.add_subplot(gs[1,3])\n",
    "ef = df.loc['Telangana'].rename_axis('date').reset_index()\n",
    "ef['date'] = ef['date'].astype('datetime64[ns]')\n",
    "ax5.bar(ef.date, ef['Telangana'],color = '#007acc',alpha=0.5,)\n",
    "ax5.xaxis.set_major_locator(mdates.WeekdayLocator())\n",
    "ax5.xaxis.set_major_formatter(mdates.DateFormatter('%b %d'))\n",
    "ax5.set_xticks(ax5.get_xticks()[::3])\n",
    "ax5.text(0.05, 0.9,'Telangana', transform = ax5.transAxes, fontsize=20);\n",
    "ax5.spines['right'].set_visible(False)\n",
    "ax5.spines['top'].set_visible(False)\n",
    "\n",
    "ax6 = fig.add_subplot(gs[1,4])\n",
    "ef = df.loc['Andhra Pradesh'].rename_axis('date').reset_index()\n",
    "ef['date'] = ef['date'].astype('datetime64[ns]')\n",
    "ax6.bar(ef.date, ef['Andhra Pradesh'],color = '#007acc',alpha=0.5,)\n",
    "ax6.xaxis.set_major_locator(mdates.WeekdayLocator())\n",
    "ax6.xaxis.set_major_formatter(mdates.DateFormatter('%b %d'))\n",
    "ax6.set_xticks(ax6.get_xticks()[::3])\n",
    "ax6.text(0.05, 1,'Andhra Pradesh', transform = ax6.transAxes, fontsize=20);\n",
    "ax6.spines['right'].set_visible(False)\n",
    "ax6.spines['top'].set_visible(False)\n",
    "\n",
    "ax4 = fig.add_subplot(gs[1,2])\n",
    "ef = df.loc['Delhi'].rename_axis('date').reset_index()\n",
    "ef['date'] = ef['date'].astype('datetime64[ns]')\n",
    "ax4.bar(ef.date, ef.Delhi,color = '#007acc',alpha=0.5)\n",
    "ax4.set_xticks([])\n",
    "ax4.xaxis.set_major_locator(mdates.WeekdayLocator())\n",
    "ax4.xaxis.set_major_formatter(mdates.DateFormatter('%b %d'))\n",
    "ax4.set_xticks(ax4.get_xticks()[::3])\n",
    "ax4.spines['right'].set_visible(False)\n",
    "ax4.spines['top'].set_visible(False)\n",
    "\n",
    "ax4.text(0.05, 1,'Delhi', transform = ax4.transAxes, fontsize=20)\n",
    "\n",
    "for i in range(n):\n",
    "    \n",
    "    ax.append(fig.add_subplot(gs[i+2,:]))\n",
    "    ef = df.iloc[i+3].rename_axis('date').reset_index()\n",
    "    ef['date'] = ef['date'].astype('datetime64[ns]')\n",
    "    ax[i].bar(ef.date,ef.iloc[:,-1],color = '#007acc',alpha=0.3)\n",
    "    ax[i].plot(ef.date,ef.iloc[:,-1],marker='o',color='#007acc')\n",
    "    ax[i].text(0.02,0.5,f'{ef.columns.values[-1]}',transform = ax[i].transAxes, fontsize = 20);\n",
    "    ax[i].xaxis.set_major_locator(mdates.WeekdayLocator())\n",
    "    ax[i].xaxis.set_major_formatter(mdates.DateFormatter('%b %d'))\n",
    "    ax[i].set_ylim([0,7000])\n",
    "    ax[i].spines['right'].set_visible(False)\n",
    "    ax[i].spines['top'].set_visible(False)\n",
    "plt.tight_layout()\n"
   ]
  },
  {
   "cell_type": "code",
   "execution_count": 20,
   "id": "dress-forge",
   "metadata": {
    "execution": {
     "iopub.execute_input": "2021-02-13T13:52:29.082804Z",
     "iopub.status.busy": "2021-02-13T13:52:29.082122Z",
     "iopub.status.idle": "2021-02-13T13:52:29.087476Z",
     "shell.execute_reply": "2021-02-13T13:52:29.086943Z"
    },
    "papermill": {
     "duration": 0.039209,
     "end_time": "2021-02-13T13:52:29.087604",
     "exception": false,
     "start_time": "2021-02-13T13:52:29.048395",
     "status": "completed"
    },
    "tags": []
   },
   "outputs": [
    {
     "name": "stdout",
     "output_type": "stream",
     "text": [
      "                                   states    Cases  Deaths   PCases  PDeaths  Cases (+)  Deaths (+)  Fatality Rate\n",
      "                              Maharashtra  2056575   51451  2056575    51451          0           0           2.50\n",
      "                                   Kerala   994053    3955   994053     3955          0           0           0.40\n",
      "                                Karnataka   944437   12259   944437    12259          0           0           1.30\n",
      "                           Andhra Pradesh   888760    7162   888760     7162          0           0           0.81\n",
      "                               Tamil Nadu   844173   12408   844173    12408          0           0           1.47\n",
      "                                    Delhi   636670   10889   636670    10889          0           0           1.71\n",
      "                            Uttar Pradesh   602001    8698   602001     8698          0           0           1.44\n",
      "                              West Bengal   572220   10229   572220    10229          0           0           1.79\n",
      "                                   Odisha   336101    1963   336042     1963         59           0           0.58\n",
      "                                Rajasthan   318710    2780   318710     2780          0           0           0.87\n",
      "                             Chhattisgarh   308701    3766   308701     3766          0           0           1.22\n",
      "                                Telangana   296421    1614   296277     1614        144           0           0.54\n",
      "                                  Haryana   268887    3035   268887     3035          0           0           1.13\n",
      "                                  Gujarat   264718    4400   264718     4400          0           0           1.66\n",
      "                                    Bihar   261646    1522   261646     1522          0           0           0.58\n",
      "                           Madhya Pradesh   257229    3829   257229     3829          0           0           1.49\n",
      "                                    Assam   217285    1086   217285     1086          0           0           0.50\n",
      "                                   Punjab   175804    5690   175804     5690          0           0           3.24\n",
      "                        Jammu and Kashmir   125268    1949   125208     1948         60           1           1.56\n",
      "                                Jharkhand   119242    1081   119242     1081          0           0           0.91\n",
      "                              Uttarakhand    96722    1678    96722     1678          0           0           1.73\n",
      "                         Himachal Pradesh    58142     978    58142      978          0           0           1.68\n",
      "                                      Goa    54152     777    54152      777          0           0           1.43\n",
      "                               Puducherry    39416     656    39416      656          0           0           1.66\n",
      "                                  Tripura    33350     388    33350      388          0           0           1.16\n",
      "                                  Manipur    29166     373    29166      373          0           0           1.28\n",
      "                               Chandigarh    21177     343    21177      343          0           0           1.62\n",
      "                        Arunachal Pradesh    16832      56    16832       56          0           0           0.33\n",
      "                                Meghalaya    13932     148    13932      148          0           0           1.06\n",
      "                                 Nagaland    12176      88    12176       88          0           0           0.72\n",
      "                                   Ladakh     9763     130     9763      130          0           0           1.33\n",
      "                                   Sikkim     6116     135     6116      135          0           0           2.21\n",
      "              Andaman and Nicobar Islands     5007      62     5007       62          0           0           1.24\n",
      "                                  Mizoram     4391       9     4391        9          0           0           0.20\n",
      " Dadra and Nagar Haveli and Daman and Diu     3382       2     3382        2          0           0           0.06\n",
      "                              Lakshadweep      188       0      188        0          0           0           0.00\n"
     ]
    }
   ],
   "source": [
    "#hide_input\n",
    "print(df_table.to_string(index=False))"
   ]
  },
  {
   "cell_type": "code",
   "execution_count": null,
   "id": "quantitative-legend",
   "metadata": {
    "papermill": {
     "duration": 0.025024,
     "end_time": "2021-02-13T13:52:29.138152",
     "exception": false,
     "start_time": "2021-02-13T13:52:29.113128",
     "status": "completed"
    },
    "tags": []
   },
   "outputs": [],
   "source": []
  },
  {
   "cell_type": "code",
   "execution_count": null,
   "id": "distant-acoustic",
   "metadata": {
    "papermill": {
     "duration": 0.024602,
     "end_time": "2021-02-13T13:52:29.188536",
     "exception": false,
     "start_time": "2021-02-13T13:52:29.163934",
     "status": "completed"
    },
    "tags": []
   },
   "outputs": [],
   "source": []
  }
 ],
 "metadata": {
  "kernelspec": {
   "display_name": "Python 3",
   "language": "python",
   "name": "python3"
  },
  "language_info": {
   "codemirror_mode": {
    "name": "ipython",
    "version": 3
   },
   "file_extension": ".py",
   "mimetype": "text/x-python",
   "name": "python",
   "nbconvert_exporter": "python",
   "pygments_lexer": "ipython3",
   "version": "3.6.12"
  },
  "papermill": {
   "duration": 22.338566,
   "end_time": "2021-02-13T13:52:30.761806",
   "environment_variables": {},
   "exception": null,
   "input_path": "latest.ipynb",
   "output_path": "latest.ipynb",
   "parameters": {},
   "start_time": "2021-02-13T13:52:08.423240",
   "version": "2.1.2"
  }
 },
 "nbformat": 4,
 "nbformat_minor": 5
}