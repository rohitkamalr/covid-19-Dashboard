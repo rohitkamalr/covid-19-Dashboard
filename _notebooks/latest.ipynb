{
 "cells": [
  {
   "cell_type": "markdown",
   "metadata": {
    "papermill": {
     "duration": 0.021152,
     "end_time": "2020-11-23T12:27:00.177484",
     "exception": false,
     "start_time": "2020-11-23T12:27:00.156332",
     "status": "completed"
    },
    "tags": []
   },
   "source": [
    "# Latest COVID-19 India Matplotlib Overview"
   ]
  },
  {
   "cell_type": "code",
   "execution_count": 1,
   "metadata": {
    "execution": {
     "iopub.execute_input": "2020-11-23T12:27:00.218907Z",
     "iopub.status.busy": "2020-11-23T12:27:00.218250Z",
     "iopub.status.idle": "2020-11-23T12:27:00.873821Z",
     "shell.execute_reply": "2020-11-23T12:27:00.873271Z"
    },
    "papermill": {
     "duration": 0.680275,
     "end_time": "2020-11-23T12:27:00.873979",
     "exception": false,
     "start_time": "2020-11-23T12:27:00.193704",
     "status": "completed"
    },
    "tags": []
   },
   "outputs": [],
   "source": [
    "#hide\n",
    "import pandas as pd\n",
    "import numpy as np\n",
    "import requests\n",
    "import json\n",
    "import matplotlib.pyplot as plt\n",
    "import matplotlib.dates as mdates\n",
    "import matplotlib as mpl\n",
    "from IPython.core.display import display,HTML\n",
    "%matplotlib inline\n",
    "from datetime import date"
   ]
  },
  {
   "cell_type": "code",
   "execution_count": 2,
   "metadata": {
    "execution": {
     "iopub.execute_input": "2020-11-23T12:27:00.917154Z",
     "iopub.status.busy": "2020-11-23T12:27:00.915831Z",
     "iopub.status.idle": "2020-11-23T12:27:01.252577Z",
     "shell.execute_reply": "2020-11-23T12:27:01.252012Z"
    },
    "papermill": {
     "duration": 0.362304,
     "end_time": "2020-11-23T12:27:01.252925",
     "exception": false,
     "start_time": "2020-11-23T12:27:00.890621",
     "status": "completed"
    },
    "tags": []
   },
   "outputs": [],
   "source": [
    "#hide\n",
    "df  = pd.read_csv('https://api.covid19india.org/csv/latest/states.csv')\n",
    "df = df[['Date','State','Confirmed','Deceased']]\n",
    "df = df.rename(columns={'Confirmed':'Cases', \"Deceased\":'Deaths'})\n",
    "df_cases = df[[\"Date\",'State','Cases']]\n",
    "df_deaths = df[['Date','State','Deaths']]\n",
    "df_cases1 = df_cases.groupby('Date')\n",
    "df_deaths1= df_deaths.groupby('Date')"
   ]
  },
  {
   "cell_type": "code",
   "execution_count": 3,
   "metadata": {
    "execution": {
     "iopub.execute_input": "2020-11-23T12:27:01.292280Z",
     "iopub.status.busy": "2020-11-23T12:27:01.291669Z",
     "iopub.status.idle": "2020-11-23T12:27:01.310629Z",
     "shell.execute_reply": "2020-11-23T12:27:01.309973Z"
    },
    "papermill": {
     "duration": 0.040839,
     "end_time": "2020-11-23T12:27:01.310808",
     "exception": false,
     "start_time": "2020-11-23T12:27:01.269969",
     "status": "completed"
    },
    "tags": []
   },
   "outputs": [],
   "source": [
    "#hide\n",
    "df_snap = pd.read_csv('data/SnapshotCases-28-July.csv')\n",
    "arr_states = df_snap['states'].unique()\n",
    "arr_dates = df['Date'].unique()\n",
    "df_snap = df_snap.set_index('states')"
   ]
  },
  {
   "cell_type": "code",
   "execution_count": 4,
   "metadata": {
    "execution": {
     "iopub.execute_input": "2020-11-23T12:27:01.353888Z",
     "iopub.status.busy": "2020-11-23T12:27:01.352639Z",
     "iopub.status.idle": "2020-11-23T12:27:01.357048Z",
     "shell.execute_reply": "2020-11-23T12:27:01.357723Z"
    },
    "papermill": {
     "duration": 0.031036,
     "end_time": "2020-11-23T12:27:01.357889",
     "exception": false,
     "start_time": "2020-11-23T12:27:01.326853",
     "status": "completed"
    },
    "tags": []
   },
   "outputs": [
    {
     "data": {
      "text/plain": [
       "array(['Andaman and Nicobar Islands', 'Andhra Pradesh',\n",
       "       'Arunachal Pradesh', 'Assam', 'Bihar', 'Chandigarh',\n",
       "       'Dadra and Nagar Haveli and Daman and Diu', 'Delhi', 'Goa',\n",
       "       'Gujarat', 'Haryana', 'Himachal Pradesh', 'Jammu and Kashmir',\n",
       "       'Jharkhand', 'Karnataka', 'Kerala', 'Lakshadweep',\n",
       "       'Madhya Pradesh', 'Maharashtra', 'Manipur', 'Meghalaya', 'Mizoram',\n",
       "       'Nagaland', 'Odisha', 'Puducherry', 'Punjab', 'Rajasthan',\n",
       "       'Sikkim', 'Tamil Nadu', 'Telangana', 'Tripura', 'Uttar Pradesh',\n",
       "       'West Bengal', 'Chhattisgarh', 'Ladakh', 'Uttarakhand'],\n",
       "      dtype=object)"
      ]
     },
     "execution_count": 4,
     "metadata": {},
     "output_type": "execute_result"
    }
   ],
   "source": [
    "#hide\n",
    "arr_states[-9] = 'Puducherry'\n",
    "arr_states[-10] = 'Odisha'\n",
    "arr_states[6] = 'Dadra and Nagar Haveli and Daman and Diu'\n",
    "arr_states = np.append(arr_states,np.array(['Chhattisgarh','Ladakh','Uttarakhand']))\n",
    "arr_states"
   ]
  },
  {
   "cell_type": "code",
   "execution_count": 5,
   "metadata": {
    "execution": {
     "iopub.execute_input": "2020-11-23T12:27:01.404953Z",
     "iopub.status.busy": "2020-11-23T12:27:01.404128Z",
     "iopub.status.idle": "2020-11-23T12:27:01.412891Z",
     "shell.execute_reply": "2020-11-23T12:27:01.413389Z"
    },
    "papermill": {
     "duration": 0.03867,
     "end_time": "2020-11-23T12:27:01.413549",
     "exception": false,
     "start_time": "2020-11-23T12:27:01.374879",
     "status": "completed"
    },
    "tags": []
   },
   "outputs": [],
   "source": [
    "#hide\n",
    "dates = []\n",
    "for i in arr_dates:\n",
    "    if i>='2020-07-01':\n",
    "        dates.append(i)\n",
    "dict = {'states':dates}\n",
    "for i in arr_states:\n",
    "    dict[i] = [0]*len(dates)\n",
    "dft_cases = pd.DataFrame(dict)\n",
    "dft_deaths = pd.DataFrame(dict)\n"
   ]
  },
  {
   "cell_type": "code",
   "execution_count": 6,
   "metadata": {
    "execution": {
     "iopub.execute_input": "2020-11-23T12:27:01.455072Z",
     "iopub.status.busy": "2020-11-23T12:27:01.454393Z",
     "iopub.status.idle": "2020-11-23T12:27:03.684284Z",
     "shell.execute_reply": "2020-11-23T12:27:03.683754Z"
    },
    "papermill": {
     "duration": 2.253658,
     "end_time": "2020-11-23T12:27:03.684427",
     "exception": false,
     "start_time": "2020-11-23T12:27:01.430769",
     "status": "completed"
    },
    "tags": []
   },
   "outputs": [],
   "source": [
    "#hide\n",
    "for i in range(len(dates)):\n",
    "    df1_deaths = df_deaths1.get_group(dates[i])\n",
    "    for j in range(len(df1_deaths.index)):\n",
    "        if df1_deaths.iloc[j,1] in arr_states:\n",
    "            dft_deaths.loc[i,df1_deaths.iloc[j,1]] = df1_deaths.iloc[j,2]\n",
    "dft_deaths = dft_deaths.set_index('states')"
   ]
  },
  {
   "cell_type": "code",
   "execution_count": 7,
   "metadata": {
    "execution": {
     "iopub.execute_input": "2020-11-23T12:27:03.728216Z",
     "iopub.status.busy": "2020-11-23T12:27:03.727407Z",
     "iopub.status.idle": "2020-11-23T12:27:05.908440Z",
     "shell.execute_reply": "2020-11-23T12:27:05.907921Z"
    },
    "papermill": {
     "duration": 2.207345,
     "end_time": "2020-11-23T12:27:05.908582",
     "exception": false,
     "start_time": "2020-11-23T12:27:03.701237",
     "status": "completed"
    },
    "tags": []
   },
   "outputs": [],
   "source": [
    "#hide\n",
    "for i in range(len(dates)):\n",
    "    df1_cases = df_cases1.get_group(dates[i])\n",
    "    for j in range(len(df1_cases.index)):\n",
    "        if df1_cases.iloc[j,1] in arr_states:\n",
    "            dft_cases.loc[i,df1_cases.iloc[j,1]] = df1_cases.iloc[j,2]\n",
    "dft_cases = dft_cases.set_index('states')"
   ]
  },
  {
   "cell_type": "code",
   "execution_count": 8,
   "metadata": {
    "execution": {
     "iopub.execute_input": "2020-11-23T12:27:05.955729Z",
     "iopub.status.busy": "2020-11-23T12:27:05.955085Z",
     "iopub.status.idle": "2020-11-23T12:27:05.956930Z",
     "shell.execute_reply": "2020-11-23T12:27:05.957386Z"
    },
    "papermill": {
     "duration": 0.031227,
     "end_time": "2020-11-23T12:27:05.957545",
     "exception": false,
     "start_time": "2020-11-23T12:27:05.926318",
     "status": "completed"
    },
    "tags": []
   },
   "outputs": [],
   "source": [
    "#hide\n",
    "dft_cases = dft_cases.T\n",
    "dft_deaths = dft_deaths.T\n",
    "dt_today = dates[-1]\n",
    "dt_yday = dates[-2]"
   ]
  },
  {
   "cell_type": "code",
   "execution_count": 9,
   "metadata": {
    "execution": {
     "iopub.execute_input": "2020-11-23T12:27:05.996894Z",
     "iopub.status.busy": "2020-11-23T12:27:05.996283Z",
     "iopub.status.idle": "2020-11-23T12:27:06.000319Z",
     "shell.execute_reply": "2020-11-23T12:27:06.000772Z"
    },
    "papermill": {
     "duration": 0.027423,
     "end_time": "2020-11-23T12:27:06.000933",
     "exception": false,
     "start_time": "2020-11-23T12:27:05.973510",
     "status": "completed"
    },
    "tags": []
   },
   "outputs": [],
   "source": [
    "#hide\n",
    "dft_cases = dft_cases.reset_index()\n",
    "dft_deaths = dft_deaths.reset_index()\n",
    "dft_cases = dft_cases.rename(columns = {'index':'state'})\n",
    "dft_deaths = dft_deaths.rename(columns = {'index':'state'})"
   ]
  },
  {
   "cell_type": "code",
   "execution_count": 10,
   "metadata": {
    "execution": {
     "iopub.execute_input": "2020-11-23T12:27:06.046237Z",
     "iopub.status.busy": "2020-11-23T12:27:06.045594Z",
     "iopub.status.idle": "2020-11-23T12:27:06.050926Z",
     "shell.execute_reply": "2020-11-23T12:27:06.050229Z"
    },
    "papermill": {
     "duration": 0.033642,
     "end_time": "2020-11-23T12:27:06.051068",
     "exception": false,
     "start_time": "2020-11-23T12:27:06.017426",
     "status": "completed"
    },
    "tags": []
   },
   "outputs": [],
   "source": [
    "#hide\n",
    "dfc_cases = dft_cases.groupby('state')[dt_today].sum()\n",
    "dfc_deaths = dft_deaths.groupby('state')[dt_today].sum()\n",
    "dfp_cases = dft_cases.groupby('state')[dt_yday].sum()\n",
    "dfp_deaths = dft_deaths.groupby('state')[dt_yday].sum()"
   ]
  },
  {
   "cell_type": "code",
   "execution_count": 11,
   "metadata": {
    "execution": {
     "iopub.execute_input": "2020-11-23T12:27:06.100290Z",
     "iopub.status.busy": "2020-11-23T12:27:06.099647Z",
     "iopub.status.idle": "2020-11-23T12:27:06.105953Z",
     "shell.execute_reply": "2020-11-23T12:27:06.106404Z"
    },
    "papermill": {
     "duration": 0.039561,
     "end_time": "2020-11-23T12:27:06.106564",
     "exception": false,
     "start_time": "2020-11-23T12:27:06.067003",
     "status": "completed"
    },
    "tags": []
   },
   "outputs": [
    {
     "data": {
      "text/html": [
       "<div>\n",
       "<style scoped>\n",
       "    .dataframe tbody tr th:only-of-type {\n",
       "        vertical-align: middle;\n",
       "    }\n",
       "\n",
       "    .dataframe tbody tr th {\n",
       "        vertical-align: top;\n",
       "    }\n",
       "\n",
       "    .dataframe thead th {\n",
       "        text-align: right;\n",
       "    }\n",
       "</style>\n",
       "<table border=\"1\" class=\"dataframe\">\n",
       "  <thead>\n",
       "    <tr style=\"text-align: right;\">\n",
       "      <th></th>\n",
       "      <th>states</th>\n",
       "      <th>Cases</th>\n",
       "      <th>Deaths</th>\n",
       "      <th>PCases</th>\n",
       "      <th>PDeaths</th>\n",
       "    </tr>\n",
       "  </thead>\n",
       "  <tbody>\n",
       "    <tr>\n",
       "      <th>0</th>\n",
       "      <td>Maharashtra</td>\n",
       "      <td>1780208</td>\n",
       "      <td>46623</td>\n",
       "      <td>1780208</td>\n",
       "      <td>46623</td>\n",
       "    </tr>\n",
       "    <tr>\n",
       "      <th>1</th>\n",
       "      <td>Karnataka</td>\n",
       "      <td>873046</td>\n",
       "      <td>11654</td>\n",
       "      <td>873046</td>\n",
       "      <td>11654</td>\n",
       "    </tr>\n",
       "    <tr>\n",
       "      <th>2</th>\n",
       "      <td>Andhra Pradesh</td>\n",
       "      <td>862213</td>\n",
       "      <td>6938</td>\n",
       "      <td>862213</td>\n",
       "      <td>6938</td>\n",
       "    </tr>\n",
       "    <tr>\n",
       "      <th>3</th>\n",
       "      <td>Tamil Nadu</td>\n",
       "      <td>769995</td>\n",
       "      <td>11605</td>\n",
       "      <td>769995</td>\n",
       "      <td>11605</td>\n",
       "    </tr>\n",
       "    <tr>\n",
       "      <th>4</th>\n",
       "      <td>Kerala</td>\n",
       "      <td>562696</td>\n",
       "      <td>2050</td>\n",
       "      <td>562696</td>\n",
       "      <td>2050</td>\n",
       "    </tr>\n",
       "  </tbody>\n",
       "</table>\n",
       "</div>"
      ],
      "text/plain": [
       "           states    Cases  Deaths   PCases  PDeaths\n",
       "0     Maharashtra  1780208   46623  1780208    46623\n",
       "1       Karnataka   873046   11654   873046    11654\n",
       "2  Andhra Pradesh   862213    6938   862213     6938\n",
       "3      Tamil Nadu   769995   11605   769995    11605\n",
       "4          Kerala   562696    2050   562696     2050"
      ]
     },
     "execution_count": 11,
     "metadata": {},
     "output_type": "execute_result"
    }
   ],
   "source": [
    "#hide\n",
    "df_table = pd.DataFrame({'states': dfc_cases.index, 'Cases': dfc_cases.values, 'Deaths': dfc_deaths.values, 'PCases': dfp_cases.values, 'PDeaths': dfp_deaths.values}).set_index('states')\n",
    "df_table = df_table.sort_values(by = ['Cases','Deaths'], ascending = [False, False])\n",
    "df_table = df_table.reset_index()\n",
    "df_table.head()"
   ]
  },
  {
   "cell_type": "code",
   "execution_count": 12,
   "metadata": {
    "execution": {
     "iopub.execute_input": "2020-11-23T12:27:06.152790Z",
     "iopub.status.busy": "2020-11-23T12:27:06.145531Z",
     "iopub.status.idle": "2020-11-23T12:27:06.154898Z",
     "shell.execute_reply": "2020-11-23T12:27:06.155427Z"
    },
    "papermill": {
     "duration": 0.032431,
     "end_time": "2020-11-23T12:27:06.155584",
     "exception": false,
     "start_time": "2020-11-23T12:27:06.123153",
     "status": "completed"
    },
    "tags": []
   },
   "outputs": [],
   "source": [
    "#hide\n",
    "for c in 'Cases, Deaths'.split(', '):\n",
    "    df_table[f'{c} (+)'] = (df_table[c] - df_table[f'P{c}']).clip(0)\n",
    "df_table['Fatality Rate'] = (100* df_table['Deaths']/ df_table['Cases']).round(2)"
   ]
  },
  {
   "cell_type": "code",
   "execution_count": 13,
   "metadata": {
    "execution": {
     "iopub.execute_input": "2020-11-23T12:27:06.203382Z",
     "iopub.status.busy": "2020-11-23T12:27:06.202605Z",
     "iopub.status.idle": "2020-11-23T12:27:06.206178Z",
     "shell.execute_reply": "2020-11-23T12:27:06.205599Z"
    },
    "papermill": {
     "duration": 0.032199,
     "end_time": "2020-11-23T12:27:06.206308",
     "exception": false,
     "start_time": "2020-11-23T12:27:06.174109",
     "status": "completed"
    },
    "tags": []
   },
   "outputs": [
    {
     "data": {
      "text/html": [
       "<div>\n",
       "<style scoped>\n",
       "    .dataframe tbody tr th:only-of-type {\n",
       "        vertical-align: middle;\n",
       "    }\n",
       "\n",
       "    .dataframe tbody tr th {\n",
       "        vertical-align: top;\n",
       "    }\n",
       "\n",
       "    .dataframe thead th {\n",
       "        text-align: right;\n",
       "    }\n",
       "</style>\n",
       "<table border=\"1\" class=\"dataframe\">\n",
       "  <thead>\n",
       "    <tr style=\"text-align: right;\">\n",
       "      <th></th>\n",
       "      <th>states</th>\n",
       "      <th>Cases</th>\n",
       "      <th>Deaths</th>\n",
       "      <th>PCases</th>\n",
       "      <th>PDeaths</th>\n",
       "      <th>Cases (+)</th>\n",
       "      <th>Deaths (+)</th>\n",
       "      <th>Fatality Rate</th>\n",
       "    </tr>\n",
       "  </thead>\n",
       "  <tbody>\n",
       "    <tr>\n",
       "      <th>0</th>\n",
       "      <td>Maharashtra</td>\n",
       "      <td>1780208</td>\n",
       "      <td>46623</td>\n",
       "      <td>1780208</td>\n",
       "      <td>46623</td>\n",
       "      <td>0</td>\n",
       "      <td>0</td>\n",
       "      <td>2.62</td>\n",
       "    </tr>\n",
       "    <tr>\n",
       "      <th>1</th>\n",
       "      <td>Karnataka</td>\n",
       "      <td>873046</td>\n",
       "      <td>11654</td>\n",
       "      <td>873046</td>\n",
       "      <td>11654</td>\n",
       "      <td>0</td>\n",
       "      <td>0</td>\n",
       "      <td>1.33</td>\n",
       "    </tr>\n",
       "    <tr>\n",
       "      <th>2</th>\n",
       "      <td>Andhra Pradesh</td>\n",
       "      <td>862213</td>\n",
       "      <td>6938</td>\n",
       "      <td>862213</td>\n",
       "      <td>6938</td>\n",
       "      <td>0</td>\n",
       "      <td>0</td>\n",
       "      <td>0.80</td>\n",
       "    </tr>\n",
       "    <tr>\n",
       "      <th>3</th>\n",
       "      <td>Tamil Nadu</td>\n",
       "      <td>769995</td>\n",
       "      <td>11605</td>\n",
       "      <td>769995</td>\n",
       "      <td>11605</td>\n",
       "      <td>0</td>\n",
       "      <td>0</td>\n",
       "      <td>1.51</td>\n",
       "    </tr>\n",
       "    <tr>\n",
       "      <th>4</th>\n",
       "      <td>Kerala</td>\n",
       "      <td>562696</td>\n",
       "      <td>2050</td>\n",
       "      <td>562696</td>\n",
       "      <td>2050</td>\n",
       "      <td>0</td>\n",
       "      <td>0</td>\n",
       "      <td>0.36</td>\n",
       "    </tr>\n",
       "  </tbody>\n",
       "</table>\n",
       "</div>"
      ],
      "text/plain": [
       "           states    Cases  Deaths   PCases  PDeaths  Cases (+)  Deaths (+)  \\\n",
       "0     Maharashtra  1780208   46623  1780208    46623          0           0   \n",
       "1       Karnataka   873046   11654   873046    11654          0           0   \n",
       "2  Andhra Pradesh   862213    6938   862213     6938          0           0   \n",
       "3      Tamil Nadu   769995   11605   769995    11605          0           0   \n",
       "4          Kerala   562696    2050   562696     2050          0           0   \n",
       "\n",
       "   Fatality Rate  \n",
       "0           2.62  \n",
       "1           1.33  \n",
       "2           0.80  \n",
       "3           1.51  \n",
       "4           0.36  "
      ]
     },
     "execution_count": 13,
     "metadata": {},
     "output_type": "execute_result"
    }
   ],
   "source": [
    "#hide\n",
    "df_table.head()"
   ]
  },
  {
   "cell_type": "code",
   "execution_count": 14,
   "metadata": {
    "execution": {
     "iopub.execute_input": "2020-11-23T12:27:06.248422Z",
     "iopub.status.busy": "2020-11-23T12:27:06.247813Z",
     "iopub.status.idle": "2020-11-23T12:27:06.267092Z",
     "shell.execute_reply": "2020-11-23T12:27:06.267567Z"
    },
    "papermill": {
     "duration": 0.044686,
     "end_time": "2020-11-23T12:27:06.267732",
     "exception": false,
     "start_time": "2020-11-23T12:27:06.223046",
     "status": "completed"
    },
    "tags": []
   },
   "outputs": [
    {
     "data": {
      "text/plain": [
       "{'updated': '2020-11-23',\n",
       " 'since': '2020-11-22',\n",
       " 'Cases': 9141618,\n",
       " 'PCases': 9140312,\n",
       " 'Deaths': 133796,\n",
       " 'PDeaths': 133773,\n",
       " 'Cases (+)': 1306,\n",
       " 'Deaths (+)': 23}"
      ]
     },
     "execution_count": 14,
     "metadata": {},
     "output_type": "execute_result"
    }
   ],
   "source": [
    "#hide\n",
    "summary = {'updated':dates[-1], 'since':dates[-2]}\n",
    "list_names = ['Cases', 'PCases', 'Deaths', 'PDeaths', 'Cases (+)', 'Deaths (+)']\n",
    "for name in list_names:\n",
    "    summary[name] = df_table.sum()[name]\n",
    "summary"
   ]
  },
  {
   "cell_type": "code",
   "execution_count": 15,
   "metadata": {
    "execution": {
     "iopub.execute_input": "2020-11-23T12:27:06.307833Z",
     "iopub.status.busy": "2020-11-23T12:27:06.307193Z",
     "iopub.status.idle": "2020-11-23T12:27:06.309542Z",
     "shell.execute_reply": "2020-11-23T12:27:06.309063Z"
    },
    "papermill": {
     "duration": 0.024193,
     "end_time": "2020-11-23T12:27:06.309676",
     "exception": false,
     "start_time": "2020-11-23T12:27:06.285483",
     "status": "completed"
    },
    "tags": []
   },
   "outputs": [],
   "source": [
    "#hide\n",
    "overview = '''\n",
    "<!-- #######  HTML!! #########-->\n",
    "<h1 style=\"color: #5e9ca0; text-align: center;\">India</h1>\n",
    "<p style=\"text-align: center;\">Last update: <strong>{update}</strong></p>\n",
    "<p style=\"text-align: center;\">Confirmed cases:</p>\n",
    "<p style=\"text-align: center;font-size:24px;\">{cases} (<span style=\"color: #ff0000;\">+{new}</span>)</p>\n",
    "<p style=\"text-align: center;\">Confirmed deaths:</p>\n",
    "<p style=\"text-align: center;font-size:24px;\">{deaths} (<span style=\"color: #ff0000;\">+{dnew}</span>)</p>\n",
    "'''"
   ]
  },
  {
   "cell_type": "code",
   "execution_count": 16,
   "metadata": {
    "execution": {
     "iopub.execute_input": "2020-11-23T12:27:06.350767Z",
     "iopub.status.busy": "2020-11-23T12:27:06.350106Z",
     "iopub.status.idle": "2020-11-23T12:27:06.353372Z",
     "shell.execute_reply": "2020-11-23T12:27:06.352861Z"
    },
    "papermill": {
     "duration": 0.026925,
     "end_time": "2020-11-23T12:27:06.353507",
     "exception": false,
     "start_time": "2020-11-23T12:27:06.326582",
     "status": "completed"
    },
    "tags": []
   },
   "outputs": [
    {
     "data": {
      "text/html": [
       "\n",
       "<!-- #######  HTML!! #########-->\n",
       "<h1 style=\"color: #5e9ca0; text-align: center;\">India</h1>\n",
       "<p style=\"text-align: center;\">Last update: <strong>2020-11-23</strong></p>\n",
       "<p style=\"text-align: center;\">Confirmed cases:</p>\n",
       "<p style=\"text-align: center;font-size:24px;\">9141618 (<span style=\"color: #ff0000;\">+1306</span>)</p>\n",
       "<p style=\"text-align: center;\">Confirmed deaths:</p>\n",
       "<p style=\"text-align: center;font-size:24px;\">133796 (<span style=\"color: #ff0000;\">+23</span>)</p>\n"
      ],
      "text/plain": [
       "<IPython.core.display.HTML object>"
      ]
     },
     "metadata": {},
     "output_type": "display_data"
    }
   ],
   "source": [
    "#hide_input\n",
    "update = summary['updated']\n",
    "cases = summary['Cases']\n",
    "new = summary['Cases (+)']\n",
    "deaths = summary['Deaths']\n",
    "dnew = summary['Deaths (+)']\n",
    "\n",
    "html = HTML(overview.format(update=update, cases=cases,new=new,deaths=deaths,dnew=dnew))\n",
    "\n",
    "display(html)"
   ]
  },
  {
   "cell_type": "code",
   "execution_count": 17,
   "metadata": {
    "execution": {
     "iopub.execute_input": "2020-11-23T12:27:06.400061Z",
     "iopub.status.busy": "2020-11-23T12:27:06.399431Z",
     "iopub.status.idle": "2020-11-23T12:27:06.404555Z",
     "shell.execute_reply": "2020-11-23T12:27:06.405014Z"
    },
    "papermill": {
     "duration": 0.0337,
     "end_time": "2020-11-23T12:27:06.405175",
     "exception": false,
     "start_time": "2020-11-23T12:27:06.371475",
     "status": "completed"
    },
    "tags": []
   },
   "outputs": [],
   "source": [
    "#hide\n",
    "dt_cols = list(dft_cases.columns[1:])\n",
    "dft_ct_new_cases = dft_cases.groupby('state')[dt_cols].sum().diff(axis=1).fillna(0).astype(int)\n",
    "dft_ct_new_cases.sort_values(by = dates[-1], ascending = False,inplace = True)"
   ]
  },
  {
   "cell_type": "code",
   "execution_count": 18,
   "metadata": {
    "execution": {
     "iopub.execute_input": "2020-11-23T12:27:06.461365Z",
     "iopub.status.busy": "2020-11-23T12:27:06.460737Z",
     "iopub.status.idle": "2020-11-23T12:27:06.464074Z",
     "shell.execute_reply": "2020-11-23T12:27:06.464530Z"
    },
    "papermill": {
     "duration": 0.04184,
     "end_time": "2020-11-23T12:27:06.464691",
     "exception": false,
     "start_time": "2020-11-23T12:27:06.422851",
     "status": "completed"
    },
    "tags": []
   },
   "outputs": [
    {
     "data": {
      "text/html": [
       "<div>\n",
       "<style scoped>\n",
       "    .dataframe tbody tr th:only-of-type {\n",
       "        vertical-align: middle;\n",
       "    }\n",
       "\n",
       "    .dataframe tbody tr th {\n",
       "        vertical-align: top;\n",
       "    }\n",
       "\n",
       "    .dataframe thead th {\n",
       "        text-align: right;\n",
       "    }\n",
       "</style>\n",
       "<table border=\"1\" class=\"dataframe\">\n",
       "  <thead>\n",
       "    <tr style=\"text-align: right;\">\n",
       "      <th>states</th>\n",
       "      <th>2020-07-01</th>\n",
       "      <th>2020-07-02</th>\n",
       "      <th>2020-07-03</th>\n",
       "      <th>2020-07-04</th>\n",
       "      <th>2020-07-05</th>\n",
       "      <th>2020-07-06</th>\n",
       "      <th>2020-07-07</th>\n",
       "      <th>2020-07-08</th>\n",
       "      <th>2020-07-09</th>\n",
       "      <th>2020-07-10</th>\n",
       "      <th>...</th>\n",
       "      <th>2020-11-14</th>\n",
       "      <th>2020-11-15</th>\n",
       "      <th>2020-11-16</th>\n",
       "      <th>2020-11-17</th>\n",
       "      <th>2020-11-18</th>\n",
       "      <th>2020-11-19</th>\n",
       "      <th>2020-11-20</th>\n",
       "      <th>2020-11-21</th>\n",
       "      <th>2020-11-22</th>\n",
       "      <th>2020-11-23</th>\n",
       "    </tr>\n",
       "    <tr>\n",
       "      <th>state</th>\n",
       "      <th></th>\n",
       "      <th></th>\n",
       "      <th></th>\n",
       "      <th></th>\n",
       "      <th></th>\n",
       "      <th></th>\n",
       "      <th></th>\n",
       "      <th></th>\n",
       "      <th></th>\n",
       "      <th></th>\n",
       "      <th></th>\n",
       "      <th></th>\n",
       "      <th></th>\n",
       "      <th></th>\n",
       "      <th></th>\n",
       "      <th></th>\n",
       "      <th></th>\n",
       "      <th></th>\n",
       "      <th></th>\n",
       "      <th></th>\n",
       "      <th></th>\n",
       "    </tr>\n",
       "  </thead>\n",
       "  <tbody>\n",
       "    <tr>\n",
       "      <th>Odisha</th>\n",
       "      <td>0</td>\n",
       "      <td>229</td>\n",
       "      <td>561</td>\n",
       "      <td>495</td>\n",
       "      <td>469</td>\n",
       "      <td>456</td>\n",
       "      <td>571</td>\n",
       "      <td>527</td>\n",
       "      <td>577</td>\n",
       "      <td>755</td>\n",
       "      <td>...</td>\n",
       "      <td>902</td>\n",
       "      <td>753</td>\n",
       "      <td>749</td>\n",
       "      <td>644</td>\n",
       "      <td>868</td>\n",
       "      <td>868</td>\n",
       "      <td>757</td>\n",
       "      <td>778</td>\n",
       "      <td>638</td>\n",
       "      <td>668</td>\n",
       "    </tr>\n",
       "    <tr>\n",
       "      <th>Telangana</th>\n",
       "      <td>0</td>\n",
       "      <td>1213</td>\n",
       "      <td>1892</td>\n",
       "      <td>1850</td>\n",
       "      <td>1590</td>\n",
       "      <td>1831</td>\n",
       "      <td>1879</td>\n",
       "      <td>1924</td>\n",
       "      <td>1410</td>\n",
       "      <td>1278</td>\n",
       "      <td>...</td>\n",
       "      <td>1050</td>\n",
       "      <td>661</td>\n",
       "      <td>502</td>\n",
       "      <td>952</td>\n",
       "      <td>948</td>\n",
       "      <td>1058</td>\n",
       "      <td>894</td>\n",
       "      <td>925</td>\n",
       "      <td>873</td>\n",
       "      <td>602</td>\n",
       "    </tr>\n",
       "    <tr>\n",
       "      <th>Tripura</th>\n",
       "      <td>0</td>\n",
       "      <td>39</td>\n",
       "      <td>93</td>\n",
       "      <td>25</td>\n",
       "      <td>23</td>\n",
       "      <td>111</td>\n",
       "      <td>24</td>\n",
       "      <td>57</td>\n",
       "      <td>16</td>\n",
       "      <td>142</td>\n",
       "      <td>...</td>\n",
       "      <td>78</td>\n",
       "      <td>26</td>\n",
       "      <td>17</td>\n",
       "      <td>77</td>\n",
       "      <td>73</td>\n",
       "      <td>105</td>\n",
       "      <td>75</td>\n",
       "      <td>75</td>\n",
       "      <td>48</td>\n",
       "      <td>19</td>\n",
       "    </tr>\n",
       "    <tr>\n",
       "      <th>Mizoram</th>\n",
       "      <td>0</td>\n",
       "      <td>2</td>\n",
       "      <td>0</td>\n",
       "      <td>2</td>\n",
       "      <td>22</td>\n",
       "      <td>11</td>\n",
       "      <td>1</td>\n",
       "      <td>5</td>\n",
       "      <td>0</td>\n",
       "      <td>23</td>\n",
       "      <td>...</td>\n",
       "      <td>59</td>\n",
       "      <td>25</td>\n",
       "      <td>3</td>\n",
       "      <td>48</td>\n",
       "      <td>37</td>\n",
       "      <td>32</td>\n",
       "      <td>28</td>\n",
       "      <td>66</td>\n",
       "      <td>40</td>\n",
       "      <td>13</td>\n",
       "    </tr>\n",
       "    <tr>\n",
       "      <th>Dadra and Nagar Haveli and Daman and Diu</th>\n",
       "      <td>0</td>\n",
       "      <td>25</td>\n",
       "      <td>50</td>\n",
       "      <td>37</td>\n",
       "      <td>32</td>\n",
       "      <td>27</td>\n",
       "      <td>27</td>\n",
       "      <td>15</td>\n",
       "      <td>14</td>\n",
       "      <td>14</td>\n",
       "      <td>...</td>\n",
       "      <td>4</td>\n",
       "      <td>6</td>\n",
       "      <td>3</td>\n",
       "      <td>3</td>\n",
       "      <td>8</td>\n",
       "      <td>2</td>\n",
       "      <td>9</td>\n",
       "      <td>1</td>\n",
       "      <td>4</td>\n",
       "      <td>4</td>\n",
       "    </tr>\n",
       "  </tbody>\n",
       "</table>\n",
       "<p>5 rows × 146 columns</p>\n",
       "</div>"
      ],
      "text/plain": [
       "states                                    2020-07-01  2020-07-02  2020-07-03  \\\n",
       "state                                                                          \n",
       "Odisha                                             0         229         561   \n",
       "Telangana                                          0        1213        1892   \n",
       "Tripura                                            0          39          93   \n",
       "Mizoram                                            0           2           0   \n",
       "Dadra and Nagar Haveli and Daman and Diu           0          25          50   \n",
       "\n",
       "states                                    2020-07-04  2020-07-05  2020-07-06  \\\n",
       "state                                                                          \n",
       "Odisha                                           495         469         456   \n",
       "Telangana                                       1850        1590        1831   \n",
       "Tripura                                           25          23         111   \n",
       "Mizoram                                            2          22          11   \n",
       "Dadra and Nagar Haveli and Daman and Diu          37          32          27   \n",
       "\n",
       "states                                    2020-07-07  2020-07-08  2020-07-09  \\\n",
       "state                                                                          \n",
       "Odisha                                           571         527         577   \n",
       "Telangana                                       1879        1924        1410   \n",
       "Tripura                                           24          57          16   \n",
       "Mizoram                                            1           5           0   \n",
       "Dadra and Nagar Haveli and Daman and Diu          27          15          14   \n",
       "\n",
       "states                                    2020-07-10  ...  2020-11-14  \\\n",
       "state                                                 ...               \n",
       "Odisha                                           755  ...         902   \n",
       "Telangana                                       1278  ...        1050   \n",
       "Tripura                                          142  ...          78   \n",
       "Mizoram                                           23  ...          59   \n",
       "Dadra and Nagar Haveli and Daman and Diu          14  ...           4   \n",
       "\n",
       "states                                    2020-11-15  2020-11-16  2020-11-17  \\\n",
       "state                                                                          \n",
       "Odisha                                           753         749         644   \n",
       "Telangana                                        661         502         952   \n",
       "Tripura                                           26          17          77   \n",
       "Mizoram                                           25           3          48   \n",
       "Dadra and Nagar Haveli and Daman and Diu           6           3           3   \n",
       "\n",
       "states                                    2020-11-18  2020-11-19  2020-11-20  \\\n",
       "state                                                                          \n",
       "Odisha                                           868         868         757   \n",
       "Telangana                                        948        1058         894   \n",
       "Tripura                                           73         105          75   \n",
       "Mizoram                                           37          32          28   \n",
       "Dadra and Nagar Haveli and Daman and Diu           8           2           9   \n",
       "\n",
       "states                                    2020-11-21  2020-11-22  2020-11-23  \n",
       "state                                                                         \n",
       "Odisha                                           778         638         668  \n",
       "Telangana                                        925         873         602  \n",
       "Tripura                                           75          48          19  \n",
       "Mizoram                                           66          40          13  \n",
       "Dadra and Nagar Haveli and Daman and Diu           1           4           4  \n",
       "\n",
       "[5 rows x 146 columns]"
      ]
     },
     "execution_count": 18,
     "metadata": {},
     "output_type": "execute_result"
    }
   ],
   "source": [
    "#hide\n",
    "dft_ct_new_cases.head()"
   ]
  },
  {
   "cell_type": "code",
   "execution_count": 19,
   "metadata": {
    "execution": {
     "iopub.execute_input": "2020-11-23T12:27:06.531025Z",
     "iopub.status.busy": "2020-11-23T12:27:06.525646Z",
     "iopub.status.idle": "2020-11-23T12:27:12.490635Z",
     "shell.execute_reply": "2020-11-23T12:27:12.491594Z"
    },
    "papermill": {
     "duration": 6.008879,
     "end_time": "2020-11-23T12:27:12.491808",
     "exception": false,
     "start_time": "2020-11-23T12:27:06.482929",
     "status": "completed"
    },
    "tags": []
   },
   "outputs": [
    {
     "data": {
      "image/png": "[encoded data removed]",
      "text/plain": [
       "<Figure size 1296x2016 with 11 Axes>"
      ]
     },
     "metadata": {
      "needs_background": "light"
     },
     "output_type": "display_data"
    }
   ],
   "source": [
    "#hide_input\n",
    "df = dft_ct_new_cases.copy()\n",
    "df.loc['Total'] = df.sum()\n",
    "n = 5\n",
    "ax = []\n",
    "fig = plt.figure(figsize = (18,28))\n",
    "gs = fig.add_gridspec(n+2, 5)\n",
    "# gs = fig.add_gridspec(2, 3)\n",
    "ax1 = fig.add_subplot(gs[0, :])\n",
    "ef = df.loc['Total'].rename_axis('date').reset_index()\n",
    "ef['date'] = ef['date'].astype('datetime64[ns]')\n",
    "ax1.bar(ef.date,ef.Total,alpha=0.3,color='#007acc')\n",
    "ax1.plot(ef.date,ef.Total , marker=\"o\", color='#007acc')\n",
    "ax1.xaxis.set_major_locator(mdates.WeekdayLocator())\n",
    "ax1.xaxis.set_major_formatter(mdates.DateFormatter('%b %d'))\n",
    "ax1.text(0.02, 0.5,'India daily case count', transform = ax1.transAxes, fontsize=25);\n",
    "ax1.spines['right'].set_visible(False)\n",
    "ax1.spines['top'].set_visible(False)\n",
    "\n",
    "ax2 = fig.add_subplot(gs[1,0])\n",
    "ef = df.loc['Maharashtra'].rename_axis('date').reset_index()\n",
    "ef['date'] = ef['date'].astype('datetime64[ns]')\n",
    "\n",
    "ax2.bar(ef.date, ef.Maharashtra,color = '#007acc',alpha=0.5)\n",
    "ax2.xaxis.set_major_locator(mdates.WeekdayLocator())\n",
    "ax2.xaxis.set_major_formatter(mdates.DateFormatter('%b %d'))\n",
    "ax2.set_xticks(ax2.get_xticks()[::3])\n",
    "maxyval = ef.Maharashtra.max()\n",
    "ax2.set_ylim([0,maxyval])\n",
    "ax2.text(0.05, 0.9,'Maharashtra', transform = ax2.transAxes, fontsize=20);\n",
    "ax2.spines['right'].set_visible(False)\n",
    "ax2.spines['top'].set_visible(False)\n",
    "\n",
    "\n",
    "ax3 = fig.add_subplot(gs[1,1])\n",
    "ef = df.loc['Tamil Nadu'].rename_axis('date').reset_index()\n",
    "ef['date'] = ef['date'].astype('datetime64[ns]')\n",
    "ax3.bar(ef.date, ef['Tamil Nadu'],color = '#007acc',alpha=0.5,)\n",
    "ax3.xaxis.set_major_locator(mdates.WeekdayLocator())\n",
    "ax3.xaxis.set_major_formatter(mdates.DateFormatter('%b %d'))\n",
    "ax3.set_xticks(ax3.get_xticks()[::3])\n",
    "ax3.text(0.05, 0.9,'Tamil Nadu', transform = ax3.transAxes, fontsize=20);\n",
    "ax3.spines['right'].set_visible(False)\n",
    "ax3.spines['top'].set_visible(False)\n",
    "\n",
    "ax5 = fig.add_subplot(gs[1,3])\n",
    "ef = df.loc['Telangana'].rename_axis('date').reset_index()\n",
    "ef['date'] = ef['date'].astype('datetime64[ns]')\n",
    "ax5.bar(ef.date, ef['Telangana'],color = '#007acc',alpha=0.5,)\n",
    "ax5.xaxis.set_major_locator(mdates.WeekdayLocator())\n",
    "ax5.xaxis.set_major_formatter(mdates.DateFormatter('%b %d'))\n",
    "ax5.set_xticks(ax5.get_xticks()[::3])\n",
    "ax5.text(0.05, 0.9,'Telangana', transform = ax5.transAxes, fontsize=20);\n",
    "ax5.spines['right'].set_visible(False)\n",
    "ax5.spines['top'].set_visible(False)\n",
    "\n",
    "ax6 = fig.add_subplot(gs[1,4])\n",
    "ef = df.loc['Andhra Pradesh'].rename_axis('date').reset_index()\n",
    "ef['date'] = ef['date'].astype('datetime64[ns]')\n",
    "ax6.bar(ef.date, ef['Andhra Pradesh'],color = '#007acc',alpha=0.5,)\n",
    "ax6.xaxis.set_major_locator(mdates.WeekdayLocator())\n",
    "ax6.xaxis.set_major_formatter(mdates.DateFormatter('%b %d'))\n",
    "ax6.set_xticks(ax6.get_xticks()[::3])\n",
    "ax6.text(0.05, 1,'Andhra Pradesh', transform = ax6.transAxes, fontsize=20);\n",
    "ax6.spines['right'].set_visible(False)\n",
    "ax6.spines['top'].set_visible(False)\n",
    "\n",
    "ax4 = fig.add_subplot(gs[1,2])\n",
    "ef = df.loc['Delhi'].rename_axis('date').reset_index()\n",
    "ef['date'] = ef['date'].astype('datetime64[ns]')\n",
    "ax4.bar(ef.date, ef.Delhi,color = '#007acc',alpha=0.5)\n",
    "ax4.set_xticks([])\n",
    "ax4.xaxis.set_major_locator(mdates.WeekdayLocator())\n",
    "ax4.xaxis.set_major_formatter(mdates.DateFormatter('%b %d'))\n",
    "ax4.set_xticks(ax4.get_xticks()[::3])\n",
    "ax4.spines['right'].set_visible(False)\n",
    "ax4.spines['top'].set_visible(False)\n",
    "\n",
    "ax4.text(0.05, 1,'Delhi', transform = ax4.transAxes, fontsize=20)\n",
    "\n",
    "for i in range(n):\n",
    "    \n",
    "    ax.append(fig.add_subplot(gs[i+2,:]))\n",
    "    ef = df.iloc[i+3].rename_axis('date').reset_index()\n",
    "    ef['date'] = ef['date'].astype('datetime64[ns]')\n",
    "    ax[i].bar(ef.date,ef.iloc[:,-1],color = '#007acc',alpha=0.3)\n",
    "    ax[i].plot(ef.date,ef.iloc[:,-1],marker='o',color='#007acc')\n",
    "    ax[i].text(0.02,0.5,f'{ef.columns.values[-1]}',transform = ax[i].transAxes, fontsize = 20);\n",
    "    ax[i].xaxis.set_major_locator(mdates.WeekdayLocator())\n",
    "    ax[i].xaxis.set_major_formatter(mdates.DateFormatter('%b %d'))\n",
    "    ax[i].set_ylim([0,7000])\n",
    "    ax[i].spines['right'].set_visible(False)\n",
    "    ax[i].spines['top'].set_visible(False)\n",
    "plt.tight_layout()\n"
   ]
  },
  {
   "cell_type": "code",
   "execution_count": 20,
   "metadata": {
    "execution": {
     "iopub.execute_input": "2020-11-23T12:27:12.562627Z",
     "iopub.status.busy": "2020-11-23T12:27:12.561989Z",
     "iopub.status.idle": "2020-11-23T12:27:12.565430Z",
     "shell.execute_reply": "2020-11-23T12:27:12.565882Z"
    },
    "papermill": {
     "duration": 0.037688,
     "end_time": "2020-11-23T12:27:12.566043",
     "exception": false,
     "start_time": "2020-11-23T12:27:12.528355",
     "status": "completed"
    },
    "tags": []
   },
   "outputs": [
    {
     "name": "stdout",
     "output_type": "stream",
     "text": [
      "                                   states    Cases  Deaths   PCases  PDeaths  Cases (+)  Deaths (+)  Fatality Rate\n",
      "                              Maharashtra  1780208   46623  1780208    46623          0           0           2.62\n",
      "                                Karnataka   873046   11654   873046    11654          0           0           1.33\n",
      "                           Andhra Pradesh   862213    6938   862213     6938          0           0           0.80\n",
      "                               Tamil Nadu   769995   11605   769995    11605          0           0           1.51\n",
      "                                   Kerala   562696    2050   562696     2050          0           0           0.36\n",
      "                                    Delhi   529863    8391   529863     8391          0           0           1.58\n",
      "                            Uttar Pradesh   526780    7559   526780     7559          0           0           1.43\n",
      "                              West Bengal   456361    8025   456361     8025          0           0           1.76\n",
      "                                   Odisha   314629    1710   313961     1693        668          17           0.54\n",
      "                                Telangana   264128    1433   263526     1430        602           3           0.54\n",
      "                                Rajasthan   243936    2163   243936     2163          0           0           0.89\n",
      "                                    Bihar   230632    1221   230632     1221          0           0           0.53\n",
      "                             Chhattisgarh   223436    2732   223436     2732          0           0           1.22\n",
      "                                  Haryana   217300    2188   217300     2188          0           0           1.01\n",
      "                                    Assam   211513     974   211513      974          0           0           0.46\n",
      "                                  Gujarat   197412    3859   197412     3859          0           0           1.95\n",
      "                           Madhya Pradesh   193044    3162   193044     3162          0           0           1.64\n",
      "                                   Punjab   146346    4614   146346     4614          0           0           3.15\n",
      "                                Jharkhand   107469     950   107469      950          0           0           0.88\n",
      "                        Jammu and Kashmir   106548    1629   106548     1629          0           0           1.53\n",
      "                              Uttarakhand    71256    1155    71256     1155          0           0           1.62\n",
      "                                      Goa    46826     677    46826      677          0           0           1.45\n",
      "                               Puducherry    36693     609    36693      609          0           0           1.66\n",
      "                         Himachal Pradesh    34327     528    34327      528          0           0           1.54\n",
      "                                  Tripura    32431     366    32412      363         19           3           1.13\n",
      "                                  Manipur    23400     236    23400      236          0           0           1.01\n",
      "                               Chandigarh    16671     260    16671      260          0           0           1.56\n",
      "                        Arunachal Pradesh    16061      49    16061       49          0           0           0.31\n",
      "                                Meghalaya    11339     110    11339      110          0           0           0.97\n",
      "                                 Nagaland    10777      59    10777       59          0           0           0.55\n",
      "                                   Ladakh     7939     100     7939      100          0           0           1.26\n",
      "                                   Sikkim     4722      99     4722       99          0           0           2.10\n",
      "              Andaman and Nicobar Islands     4641      61     4641       61          0           0           1.31\n",
      "                                  Mizoram     3660       5     3647        5         13           0           0.14\n",
      " Dadra and Nagar Haveli and Daman and Diu     3320       2     3316        2          4           0           0.06\n",
      "                              Lakshadweep        0       0        0        0          0           0            NaN\n"
     ]
    }
   ],
   "source": [
    "#hide_input\n",
    "print(df_table.to_string(index=False))"
   ]
  },
  {
   "cell_type": "code",
   "execution_count": null,
   "metadata": {
    "papermill": {
     "duration": 0.023462,
     "end_time": "2020-11-23T12:27:12.614046",
     "exception": false,
     "start_time": "2020-11-23T12:27:12.590584",
     "status": "completed"
    },
    "tags": []
   },
   "outputs": [],
   "source": []
  },
  {
   "cell_type": "code",
   "execution_count": null,
   "metadata": {
    "papermill": {
     "duration": 0.026232,
     "end_time": "2020-11-23T12:27:12.677463",
     "exception": false,
     "start_time": "2020-11-23T12:27:12.651231",
     "status": "completed"
    },
    "tags": []
   },
   "outputs": [],
   "source": []
  }
 ],
 "metadata": {
  "kernelspec": {
   "display_name": "Python 3",
   "language": "python",
   "name": "python3"
  },
  "language_info": {
   "codemirror_mode": {
    "name": "ipython",
    "version": 3
   },
   "file_extension": ".py",
   "mimetype": "text/x-python",
   "name": "python",
   "nbconvert_exporter": "python",
   "pygments_lexer": "ipython3",
   "version": "3.6.12"
  },
  "papermill": {
   "duration": 14.316689,
   "end_time": "2020-11-23T12:27:13.312291",
   "environment_variables": {},
   "exception": null,
   "input_path": "latest.ipynb",
   "output_path": "latest.ipynb",
   "parameters": {},
   "start_time": "2020-11-23T12:26:58.995602",
   "version": "2.1.2"
  }
 },
 "nbformat": 4,
 "nbformat_minor": 4
}