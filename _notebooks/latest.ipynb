{
 "cells": [
  {
   "cell_type": "markdown",
   "metadata": {
    "papermill": {
     "duration": 0.020068,
     "end_time": "2020-10-11T14:52:10.123373",
     "exception": false,
     "start_time": "2020-10-11T14:52:10.103305",
     "status": "completed"
    },
    "tags": []
   },
   "source": [
    "# Latest COVID-19 India Matplotlib Overview"
   ]
  },
  {
   "cell_type": "code",
   "execution_count": 1,
   "metadata": {
    "execution": {
     "iopub.execute_input": "2020-10-11T14:52:10.162831Z",
     "iopub.status.busy": "2020-10-11T14:52:10.162174Z",
     "iopub.status.idle": "2020-10-11T14:52:10.754039Z",
     "shell.execute_reply": "2020-10-11T14:52:10.753457Z"
    },
    "papermill": {
     "duration": 0.614089,
     "end_time": "2020-10-11T14:52:10.754203",
     "exception": false,
     "start_time": "2020-10-11T14:52:10.140114",
     "status": "completed"
    },
    "tags": []
   },
   "outputs": [],
   "source": [
    "#hide\n",
    "import pandas as pd\n",
    "import numpy as np\n",
    "import requests\n",
    "import json\n",
    "import matplotlib.pyplot as plt\n",
    "import matplotlib.dates as mdates\n",
    "import matplotlib as mpl\n",
    "from IPython.core.display import display,HTML\n",
    "%matplotlib inline\n",
    "from datetime import date"
   ]
  },
  {
   "cell_type": "code",
   "execution_count": 2,
   "metadata": {
    "execution": {
     "iopub.execute_input": "2020-10-11T14:52:10.794925Z",
     "iopub.status.busy": "2020-10-11T14:52:10.793899Z",
     "iopub.status.idle": "2020-10-11T14:52:10.939519Z",
     "shell.execute_reply": "2020-10-11T14:52:10.938941Z"
    },
    "papermill": {
     "duration": 0.168728,
     "end_time": "2020-10-11T14:52:10.939670",
     "exception": false,
     "start_time": "2020-10-11T14:52:10.770942",
     "status": "completed"
    },
    "tags": []
   },
   "outputs": [],
   "source": [
    "#hide\n",
    "df  = pd.read_csv('https://api.covid19india.org/csv/latest/states.csv')\n",
    "df = df[['Date','State','Confirmed','Deceased']]\n",
    "df = df.rename(columns={'Confirmed':'Cases', \"Deceased\":'Deaths'})\n",
    "df_cases = df[[\"Date\",'State','Cases']]\n",
    "df_deaths = df[['Date','State','Deaths']]\n",
    "df_cases1 = df_cases.groupby('Date')\n",
    "df_deaths1= df_deaths.groupby('Date')"
   ]
  },
  {
   "cell_type": "code",
   "execution_count": 3,
   "metadata": {
    "execution": {
     "iopub.execute_input": "2020-10-11T14:52:10.978270Z",
     "iopub.status.busy": "2020-10-11T14:52:10.977613Z",
     "iopub.status.idle": "2020-10-11T14:52:10.996509Z",
     "shell.execute_reply": "2020-10-11T14:52:10.995921Z"
    },
    "papermill": {
     "duration": 0.039633,
     "end_time": "2020-10-11T14:52:10.996645",
     "exception": false,
     "start_time": "2020-10-11T14:52:10.957012",
     "status": "completed"
    },
    "tags": []
   },
   "outputs": [],
   "source": [
    "#hide\n",
    "df_snap = pd.read_csv('data/SnapshotCases-28-July.csv')\n",
    "arr_states = df_snap['states'].unique()\n",
    "arr_dates = df['Date'].unique()\n",
    "df_snap = df_snap.set_index('states')"
   ]
  },
  {
   "cell_type": "code",
   "execution_count": 4,
   "metadata": {
    "execution": {
     "iopub.execute_input": "2020-10-11T14:52:11.037385Z",
     "iopub.status.busy": "2020-10-11T14:52:11.036743Z",
     "iopub.status.idle": "2020-10-11T14:52:11.041423Z",
     "shell.execute_reply": "2020-10-11T14:52:11.040795Z"
    },
    "papermill": {
     "duration": 0.028182,
     "end_time": "2020-10-11T14:52:11.041550",
     "exception": false,
     "start_time": "2020-10-11T14:52:11.013368",
     "status": "completed"
    },
    "tags": []
   },
   "outputs": [
    {
     "data": {
      "text/plain": [
       "array(['Andaman and Nicobar Islands', 'Andhra Pradesh',\n",
       "       'Arunachal Pradesh', 'Assam', 'Bihar', 'Chandigarh',\n",
       "       'Dadra and Nagar Haveli and Daman and Diu', 'Delhi', 'Goa',\n",
       "       'Gujarat', 'Haryana', 'Himachal Pradesh', 'Jammu and Kashmir',\n",
       "       'Jharkhand', 'Karnataka', 'Kerala', 'Lakshadweep',\n",
       "       'Madhya Pradesh', 'Maharashtra', 'Manipur', 'Meghalaya', 'Mizoram',\n",
       "       'Nagaland', 'Odisha', 'Puducherry', 'Punjab', 'Rajasthan',\n",
       "       'Sikkim', 'Tamil Nadu', 'Telangana', 'Tripura', 'Uttar Pradesh',\n",
       "       'West Bengal', 'Chhattisgarh', 'Ladakh', 'Uttarakhand'],\n",
       "      dtype=object)"
      ]
     },
     "execution_count": 4,
     "metadata": {},
     "output_type": "execute_result"
    }
   ],
   "source": [
    "#hide\n",
    "arr_states[-9] = 'Puducherry'\n",
    "arr_states[-10] = 'Odisha'\n",
    "arr_states[6] = 'Dadra and Nagar Haveli and Daman and Diu'\n",
    "arr_states = np.append(arr_states,np.array(['Chhattisgarh','Ladakh','Uttarakhand']))\n",
    "arr_states"
   ]
  },
  {
   "cell_type": "code",
   "execution_count": 5,
   "metadata": {
    "execution": {
     "iopub.execute_input": "2020-10-11T14:52:11.084513Z",
     "iopub.status.busy": "2020-10-11T14:52:11.083846Z",
     "iopub.status.idle": "2020-10-11T14:52:11.092458Z",
     "shell.execute_reply": "2020-10-11T14:52:11.091887Z"
    },
    "papermill": {
     "duration": 0.034635,
     "end_time": "2020-10-11T14:52:11.092583",
     "exception": false,
     "start_time": "2020-10-11T14:52:11.057948",
     "status": "completed"
    },
    "tags": []
   },
   "outputs": [],
   "source": [
    "#hide\n",
    "dates = []\n",
    "for i in arr_dates:\n",
    "    if i>='2020-07-01':\n",
    "        dates.append(i)\n",
    "dict = {'states':dates}\n",
    "for i in arr_states:\n",
    "    dict[i] = [0]*len(dates)\n",
    "dft_cases = pd.DataFrame(dict)\n",
    "dft_deaths = pd.DataFrame(dict)\n"
   ]
  },
  {
   "cell_type": "code",
   "execution_count": 6,
   "metadata": {
    "execution": {
     "iopub.execute_input": "2020-10-11T14:52:11.131983Z",
     "iopub.status.busy": "2020-10-11T14:52:11.131345Z",
     "iopub.status.idle": "2020-10-11T14:52:12.954298Z",
     "shell.execute_reply": "2020-10-11T14:52:12.953743Z"
    },
    "papermill": {
     "duration": 1.845646,
     "end_time": "2020-10-11T14:52:12.954447",
     "exception": false,
     "start_time": "2020-10-11T14:52:11.108801",
     "status": "completed"
    },
    "tags": []
   },
   "outputs": [],
   "source": [
    "#hide\n",
    "for i in range(len(dates)):\n",
    "    df1_deaths = df_deaths1.get_group(dates[i])\n",
    "    for j in range(len(df1_deaths.index)):\n",
    "        if df1_deaths.iloc[j,1] in arr_states:\n",
    "            dft_deaths.loc[i,df1_deaths.iloc[j,1]] = df1_deaths.iloc[j,2]\n",
    "dft_deaths = dft_deaths.set_index('states')"
   ]
  },
  {
   "cell_type": "code",
   "execution_count": 7,
   "metadata": {
    "execution": {
     "iopub.execute_input": "2020-10-11T14:52:12.994359Z",
     "iopub.status.busy": "2020-10-11T14:52:12.993711Z",
     "iopub.status.idle": "2020-10-11T14:52:14.795107Z",
     "shell.execute_reply": "2020-10-11T14:52:14.794191Z"
    },
    "papermill": {
     "duration": 1.823552,
     "end_time": "2020-10-11T14:52:14.795258",
     "exception": false,
     "start_time": "2020-10-11T14:52:12.971706",
     "status": "completed"
    },
    "tags": []
   },
   "outputs": [],
   "source": [
    "#hide\n",
    "for i in range(len(dates)):\n",
    "    df1_cases = df_cases1.get_group(dates[i])\n",
    "    for j in range(len(df1_cases.index)):\n",
    "        if df1_cases.iloc[j,1] in arr_states:\n",
    "            dft_cases.loc[i,df1_cases.iloc[j,1]] = df1_cases.iloc[j,2]\n",
    "dft_cases = dft_cases.set_index('states')"
   ]
  },
  {
   "cell_type": "code",
   "execution_count": 8,
   "metadata": {
    "execution": {
     "iopub.execute_input": "2020-10-11T14:52:14.835041Z",
     "iopub.status.busy": "2020-10-11T14:52:14.833684Z",
     "iopub.status.idle": "2020-10-11T14:52:14.835735Z",
     "shell.execute_reply": "2020-10-11T14:52:14.836254Z"
    },
    "papermill": {
     "duration": 0.024285,
     "end_time": "2020-10-11T14:52:14.836420",
     "exception": false,
     "start_time": "2020-10-11T14:52:14.812135",
     "status": "completed"
    },
    "tags": []
   },
   "outputs": [],
   "source": [
    "#hide\n",
    "dft_cases = dft_cases.T\n",
    "dft_deaths = dft_deaths.T\n",
    "dt_today = dates[-1]\n",
    "dt_yday = dates[-2]"
   ]
  },
  {
   "cell_type": "code",
   "execution_count": 9,
   "metadata": {
    "execution": {
     "iopub.execute_input": "2020-10-11T14:52:14.875275Z",
     "iopub.status.busy": "2020-10-11T14:52:14.874495Z",
     "iopub.status.idle": "2020-10-11T14:52:14.880015Z",
     "shell.execute_reply": "2020-10-11T14:52:14.879382Z"
    },
    "papermill": {
     "duration": 0.026889,
     "end_time": "2020-10-11T14:52:14.880140",
     "exception": false,
     "start_time": "2020-10-11T14:52:14.853251",
     "status": "completed"
    },
    "tags": []
   },
   "outputs": [],
   "source": [
    "#hide\n",
    "dft_cases = dft_cases.reset_index()\n",
    "dft_deaths = dft_deaths.reset_index()\n",
    "dft_cases = dft_cases.rename(columns = {'index':'state'})\n",
    "dft_deaths = dft_deaths.rename(columns = {'index':'state'})"
   ]
  },
  {
   "cell_type": "code",
   "execution_count": 10,
   "metadata": {
    "execution": {
     "iopub.execute_input": "2020-10-11T14:52:14.917204Z",
     "iopub.status.busy": "2020-10-11T14:52:14.916540Z",
     "iopub.status.idle": "2020-10-11T14:52:14.925373Z",
     "shell.execute_reply": "2020-10-11T14:52:14.924822Z"
    },
    "papermill": {
     "duration": 0.029276,
     "end_time": "2020-10-11T14:52:14.925500",
     "exception": false,
     "start_time": "2020-10-11T14:52:14.896224",
     "status": "completed"
    },
    "tags": []
   },
   "outputs": [],
   "source": [
    "#hide\n",
    "dfc_cases = dft_cases.groupby('state')[dt_today].sum()\n",
    "dfc_deaths = dft_deaths.groupby('state')[dt_today].sum()\n",
    "dfp_cases = dft_cases.groupby('state')[dt_yday].sum()\n",
    "dfp_deaths = dft_deaths.groupby('state')[dt_yday].sum()"
   ]
  },
  {
   "cell_type": "code",
   "execution_count": 11,
   "metadata": {
    "execution": {
     "iopub.execute_input": "2020-10-11T14:52:14.973892Z",
     "iopub.status.busy": "2020-10-11T14:52:14.973235Z",
     "iopub.status.idle": "2020-10-11T14:52:14.979515Z",
     "shell.execute_reply": "2020-10-11T14:52:14.980016Z"
    },
    "papermill": {
     "duration": 0.036722,
     "end_time": "2020-10-11T14:52:14.980160",
     "exception": false,
     "start_time": "2020-10-11T14:52:14.943438",
     "status": "completed"
    },
    "tags": []
   },
   "outputs": [
    {
     "data": {
      "text/html": [
       "<div>\n",
       "<style scoped>\n",
       "    .dataframe tbody tr th:only-of-type {\n",
       "        vertical-align: middle;\n",
       "    }\n",
       "\n",
       "    .dataframe tbody tr th {\n",
       "        vertical-align: top;\n",
       "    }\n",
       "\n",
       "    .dataframe thead th {\n",
       "        text-align: right;\n",
       "    }\n",
       "</style>\n",
       "<table border=\"1\" class=\"dataframe\">\n",
       "  <thead>\n",
       "    <tr style=\"text-align: right;\">\n",
       "      <th></th>\n",
       "      <th>states</th>\n",
       "      <th>Cases</th>\n",
       "      <th>Deaths</th>\n",
       "      <th>PCases</th>\n",
       "      <th>PDeaths</th>\n",
       "    </tr>\n",
       "  </thead>\n",
       "  <tbody>\n",
       "    <tr>\n",
       "      <th>0</th>\n",
       "      <td>Maharashtra</td>\n",
       "      <td>1517434</td>\n",
       "      <td>40040</td>\n",
       "      <td>1517434</td>\n",
       "      <td>40040</td>\n",
       "    </tr>\n",
       "    <tr>\n",
       "      <th>1</th>\n",
       "      <td>Andhra Pradesh</td>\n",
       "      <td>750517</td>\n",
       "      <td>6194</td>\n",
       "      <td>750517</td>\n",
       "      <td>6194</td>\n",
       "    </tr>\n",
       "    <tr>\n",
       "      <th>2</th>\n",
       "      <td>Karnataka</td>\n",
       "      <td>700786</td>\n",
       "      <td>9891</td>\n",
       "      <td>700786</td>\n",
       "      <td>9891</td>\n",
       "    </tr>\n",
       "    <tr>\n",
       "      <th>3</th>\n",
       "      <td>Tamil Nadu</td>\n",
       "      <td>651370</td>\n",
       "      <td>10187</td>\n",
       "      <td>651370</td>\n",
       "      <td>10187</td>\n",
       "    </tr>\n",
       "    <tr>\n",
       "      <th>4</th>\n",
       "      <td>Uttar Pradesh</td>\n",
       "      <td>433712</td>\n",
       "      <td>6353</td>\n",
       "      <td>433712</td>\n",
       "      <td>6353</td>\n",
       "    </tr>\n",
       "  </tbody>\n",
       "</table>\n",
       "</div>"
      ],
      "text/plain": [
       "           states    Cases  Deaths   PCases  PDeaths\n",
       "0     Maharashtra  1517434   40040  1517434    40040\n",
       "1  Andhra Pradesh   750517    6194   750517     6194\n",
       "2       Karnataka   700786    9891   700786     9891\n",
       "3      Tamil Nadu   651370   10187   651370    10187\n",
       "4   Uttar Pradesh   433712    6353   433712     6353"
      ]
     },
     "execution_count": 11,
     "metadata": {},
     "output_type": "execute_result"
    }
   ],
   "source": [
    "#hide\n",
    "df_table = pd.DataFrame({'states': dfc_cases.index, 'Cases': dfc_cases.values, 'Deaths': dfc_deaths.values, 'PCases': dfp_cases.values, 'PDeaths': dfp_deaths.values}).set_index('states')\n",
    "df_table = df_table.sort_values(by = ['Cases','Deaths'], ascending = [False, False])\n",
    "df_table = df_table.reset_index()\n",
    "df_table.head()"
   ]
  },
  {
   "cell_type": "code",
   "execution_count": 12,
   "metadata": {
    "execution": {
     "iopub.execute_input": "2020-10-11T14:52:15.020767Z",
     "iopub.status.busy": "2020-10-11T14:52:15.020002Z",
     "iopub.status.idle": "2020-10-11T14:52:15.030311Z",
     "shell.execute_reply": "2020-10-11T14:52:15.030931Z"
    },
    "papermill": {
     "duration": 0.034162,
     "end_time": "2020-10-11T14:52:15.031075",
     "exception": false,
     "start_time": "2020-10-11T14:52:14.996913",
     "status": "completed"
    },
    "tags": []
   },
   "outputs": [],
   "source": [
    "#hide\n",
    "for c in 'Cases, Deaths'.split(', '):\n",
    "    df_table[f'{c} (+)'] = (df_table[c] - df_table[f'P{c}']).clip(0)\n",
    "df_table['Fatality Rate'] = (100* df_table['Deaths']/ df_table['Cases']).round(2)"
   ]
  },
  {
   "cell_type": "code",
   "execution_count": 13,
   "metadata": {
    "execution": {
     "iopub.execute_input": "2020-10-11T14:52:15.076116Z",
     "iopub.status.busy": "2020-10-11T14:52:15.075480Z",
     "iopub.status.idle": "2020-10-11T14:52:15.079098Z",
     "shell.execute_reply": "2020-10-11T14:52:15.079927Z"
    },
    "papermill": {
     "duration": 0.031945,
     "end_time": "2020-10-11T14:52:15.080074",
     "exception": false,
     "start_time": "2020-10-11T14:52:15.048129",
     "status": "completed"
    },
    "tags": []
   },
   "outputs": [
    {
     "data": {
      "text/html": [
       "<div>\n",
       "<style scoped>\n",
       "    .dataframe tbody tr th:only-of-type {\n",
       "        vertical-align: middle;\n",
       "    }\n",
       "\n",
       "    .dataframe tbody tr th {\n",
       "        vertical-align: top;\n",
       "    }\n",
       "\n",
       "    .dataframe thead th {\n",
       "        text-align: right;\n",
       "    }\n",
       "</style>\n",
       "<table border=\"1\" class=\"dataframe\">\n",
       "  <thead>\n",
       "    <tr style=\"text-align: right;\">\n",
       "      <th></th>\n",
       "      <th>states</th>\n",
       "      <th>Cases</th>\n",
       "      <th>Deaths</th>\n",
       "      <th>PCases</th>\n",
       "      <th>PDeaths</th>\n",
       "      <th>Cases (+)</th>\n",
       "      <th>Deaths (+)</th>\n",
       "      <th>Fatality Rate</th>\n",
       "    </tr>\n",
       "  </thead>\n",
       "  <tbody>\n",
       "    <tr>\n",
       "      <th>0</th>\n",
       "      <td>Maharashtra</td>\n",
       "      <td>1517434</td>\n",
       "      <td>40040</td>\n",
       "      <td>1517434</td>\n",
       "      <td>40040</td>\n",
       "      <td>0</td>\n",
       "      <td>0</td>\n",
       "      <td>2.64</td>\n",
       "    </tr>\n",
       "    <tr>\n",
       "      <th>1</th>\n",
       "      <td>Andhra Pradesh</td>\n",
       "      <td>750517</td>\n",
       "      <td>6194</td>\n",
       "      <td>750517</td>\n",
       "      <td>6194</td>\n",
       "      <td>0</td>\n",
       "      <td>0</td>\n",
       "      <td>0.83</td>\n",
       "    </tr>\n",
       "    <tr>\n",
       "      <th>2</th>\n",
       "      <td>Karnataka</td>\n",
       "      <td>700786</td>\n",
       "      <td>9891</td>\n",
       "      <td>700786</td>\n",
       "      <td>9891</td>\n",
       "      <td>0</td>\n",
       "      <td>0</td>\n",
       "      <td>1.41</td>\n",
       "    </tr>\n",
       "    <tr>\n",
       "      <th>3</th>\n",
       "      <td>Tamil Nadu</td>\n",
       "      <td>651370</td>\n",
       "      <td>10187</td>\n",
       "      <td>651370</td>\n",
       "      <td>10187</td>\n",
       "      <td>0</td>\n",
       "      <td>0</td>\n",
       "      <td>1.56</td>\n",
       "    </tr>\n",
       "    <tr>\n",
       "      <th>4</th>\n",
       "      <td>Uttar Pradesh</td>\n",
       "      <td>433712</td>\n",
       "      <td>6353</td>\n",
       "      <td>433712</td>\n",
       "      <td>6353</td>\n",
       "      <td>0</td>\n",
       "      <td>0</td>\n",
       "      <td>1.46</td>\n",
       "    </tr>\n",
       "  </tbody>\n",
       "</table>\n",
       "</div>"
      ],
      "text/plain": [
       "           states    Cases  Deaths   PCases  PDeaths  Cases (+)  Deaths (+)  \\\n",
       "0     Maharashtra  1517434   40040  1517434    40040          0           0   \n",
       "1  Andhra Pradesh   750517    6194   750517     6194          0           0   \n",
       "2       Karnataka   700786    9891   700786     9891          0           0   \n",
       "3      Tamil Nadu   651370   10187   651370    10187          0           0   \n",
       "4   Uttar Pradesh   433712    6353   433712     6353          0           0   \n",
       "\n",
       "   Fatality Rate  \n",
       "0           2.64  \n",
       "1           0.83  \n",
       "2           1.41  \n",
       "3           1.56  \n",
       "4           1.46  "
      ]
     },
     "execution_count": 13,
     "metadata": {},
     "output_type": "execute_result"
    }
   ],
   "source": [
    "#hide\n",
    "df_table.head()"
   ]
  },
  {
   "cell_type": "code",
   "execution_count": 14,
   "metadata": {
    "execution": {
     "iopub.execute_input": "2020-10-11T14:52:15.119647Z",
     "iopub.status.busy": "2020-10-11T14:52:15.118997Z",
     "iopub.status.idle": "2020-10-11T14:52:15.135865Z",
     "shell.execute_reply": "2020-10-11T14:52:15.136451Z"
    },
    "papermill": {
     "duration": 0.039173,
     "end_time": "2020-10-11T14:52:15.136592",
     "exception": false,
     "start_time": "2020-10-11T14:52:15.097419",
     "status": "completed"
    },
    "tags": []
   },
   "outputs": [
    {
     "data": {
      "text/plain": [
       "{'updated': '2020-10-11',\n",
       " 'since': '2020-10-10',\n",
       " 'Cases': 7066735,\n",
       " 'PCases': 7051511,\n",
       " 'Deaths': 108441,\n",
       " 'PDeaths': 108371,\n",
       " 'Cases (+)': 15224,\n",
       " 'Deaths (+)': 70}"
      ]
     },
     "execution_count": 14,
     "metadata": {},
     "output_type": "execute_result"
    }
   ],
   "source": [
    "#hide\n",
    "summary = {'updated':dates[-1], 'since':dates[-2]}\n",
    "list_names = ['Cases', 'PCases', 'Deaths', 'PDeaths', 'Cases (+)', 'Deaths (+)']\n",
    "for name in list_names:\n",
    "    summary[name] = df_table.sum()[name]\n",
    "summary"
   ]
  },
  {
   "cell_type": "code",
   "execution_count": 15,
   "metadata": {
    "execution": {
     "iopub.execute_input": "2020-10-11T14:52:15.179559Z",
     "iopub.status.busy": "2020-10-11T14:52:15.178902Z",
     "iopub.status.idle": "2020-10-11T14:52:15.183415Z",
     "shell.execute_reply": "2020-10-11T14:52:15.182898Z"
    },
    "papermill": {
     "duration": 0.028325,
     "end_time": "2020-10-11T14:52:15.183548",
     "exception": false,
     "start_time": "2020-10-11T14:52:15.155223",
     "status": "completed"
    },
    "tags": []
   },
   "outputs": [],
   "source": [
    "#hide\n",
    "overview = '''\n",
    "<!-- #######  HTML!! #########-->\n",
    "<h1 style=\"color: #5e9ca0; text-align: center;\">India</h1>\n",
    "<p style=\"text-align: center;\">Last update: <strong>{update}</strong></p>\n",
    "<p style=\"text-align: center;\">Confirmed cases:</p>\n",
    "<p style=\"text-align: center;font-size:24px;\">{cases} (<span style=\"color: #ff0000;\">+{new}</span>)</p>\n",
    "<p style=\"text-align: center;\">Confirmed deaths:</p>\n",
    "<p style=\"text-align: center;font-size:24px;\">{deaths} (<span style=\"color: #ff0000;\">+{dnew}</span>)</p>\n",
    "'''"
   ]
  },
  {
   "cell_type": "code",
   "execution_count": 16,
   "metadata": {
    "execution": {
     "iopub.execute_input": "2020-10-11T14:52:15.225068Z",
     "iopub.status.busy": "2020-10-11T14:52:15.224435Z",
     "iopub.status.idle": "2020-10-11T14:52:15.227273Z",
     "shell.execute_reply": "2020-10-11T14:52:15.227821Z"
    },
    "papermill": {
     "duration": 0.026662,
     "end_time": "2020-10-11T14:52:15.227960",
     "exception": false,
     "start_time": "2020-10-11T14:52:15.201298",
     "status": "completed"
    },
    "tags": []
   },
   "outputs": [
    {
     "data": {
      "text/html": [
       "\n",
       "<!-- #######  HTML!! #########-->\n",
       "<h1 style=\"color: #5e9ca0; text-align: center;\">India</h1>\n",
       "<p style=\"text-align: center;\">Last update: <strong>2020-10-11</strong></p>\n",
       "<p style=\"text-align: center;\">Confirmed cases:</p>\n",
       "<p style=\"text-align: center;font-size:24px;\">7066735 (<span style=\"color: #ff0000;\">+15224</span>)</p>\n",
       "<p style=\"text-align: center;\">Confirmed deaths:</p>\n",
       "<p style=\"text-align: center;font-size:24px;\">108441 (<span style=\"color: #ff0000;\">+70</span>)</p>\n"
      ],
      "text/plain": [
       "<IPython.core.display.HTML object>"
      ]
     },
     "metadata": {},
     "output_type": "display_data"
    }
   ],
   "source": [
    "#hide_input\n",
    "update = summary['updated']\n",
    "cases = summary['Cases']\n",
    "new = summary['Cases (+)']\n",
    "deaths = summary['Deaths']\n",
    "dnew = summary['Deaths (+)']\n",
    "\n",
    "html = HTML(overview.format(update=update, cases=cases,new=new,deaths=deaths,dnew=dnew))\n",
    "\n",
    "display(html)"
   ]
  },
  {
   "cell_type": "code",
   "execution_count": 17,
   "metadata": {
    "execution": {
     "iopub.execute_input": "2020-10-11T14:52:15.271396Z",
     "iopub.status.busy": "2020-10-11T14:52:15.270767Z",
     "iopub.status.idle": "2020-10-11T14:52:15.276647Z",
     "shell.execute_reply": "2020-10-11T14:52:15.276075Z"
    },
    "papermill": {
     "duration": 0.030838,
     "end_time": "2020-10-11T14:52:15.276779",
     "exception": false,
     "start_time": "2020-10-11T14:52:15.245941",
     "status": "completed"
    },
    "tags": []
   },
   "outputs": [],
   "source": [
    "#hide\n",
    "dt_cols = list(dft_cases.columns[1:])\n",
    "dft_ct_new_cases = dft_cases.groupby('state')[dt_cols].sum().diff(axis=1).fillna(0).astype(int)\n",
    "dft_ct_new_cases.sort_values(by = dates[-1], ascending = False,inplace = True)"
   ]
  },
  {
   "cell_type": "code",
   "execution_count": 18,
   "metadata": {
    "execution": {
     "iopub.execute_input": "2020-10-11T14:52:15.330860Z",
     "iopub.status.busy": "2020-10-11T14:52:15.330210Z",
     "iopub.status.idle": "2020-10-11T14:52:15.333473Z",
     "shell.execute_reply": "2020-10-11T14:52:15.332847Z"
    },
    "papermill": {
     "duration": 0.038589,
     "end_time": "2020-10-11T14:52:15.333598",
     "exception": false,
     "start_time": "2020-10-11T14:52:15.295009",
     "status": "completed"
    },
    "tags": []
   },
   "outputs": [
    {
     "data": {
      "text/html": [
       "<div>\n",
       "<style scoped>\n",
       "    .dataframe tbody tr th:only-of-type {\n",
       "        vertical-align: middle;\n",
       "    }\n",
       "\n",
       "    .dataframe tbody tr th {\n",
       "        vertical-align: top;\n",
       "    }\n",
       "\n",
       "    .dataframe thead th {\n",
       "        text-align: right;\n",
       "    }\n",
       "</style>\n",
       "<table border=\"1\" class=\"dataframe\">\n",
       "  <thead>\n",
       "    <tr style=\"text-align: right;\">\n",
       "      <th>states</th>\n",
       "      <th>2020-07-01</th>\n",
       "      <th>2020-07-02</th>\n",
       "      <th>2020-07-03</th>\n",
       "      <th>2020-07-04</th>\n",
       "      <th>2020-07-05</th>\n",
       "      <th>2020-07-06</th>\n",
       "      <th>2020-07-07</th>\n",
       "      <th>2020-07-08</th>\n",
       "      <th>2020-07-09</th>\n",
       "      <th>2020-07-10</th>\n",
       "      <th>...</th>\n",
       "      <th>2020-10-02</th>\n",
       "      <th>2020-10-03</th>\n",
       "      <th>2020-10-04</th>\n",
       "      <th>2020-10-05</th>\n",
       "      <th>2020-10-06</th>\n",
       "      <th>2020-10-07</th>\n",
       "      <th>2020-10-08</th>\n",
       "      <th>2020-10-09</th>\n",
       "      <th>2020-10-10</th>\n",
       "      <th>2020-10-11</th>\n",
       "    </tr>\n",
       "    <tr>\n",
       "      <th>state</th>\n",
       "      <th></th>\n",
       "      <th></th>\n",
       "      <th></th>\n",
       "      <th></th>\n",
       "      <th></th>\n",
       "      <th></th>\n",
       "      <th></th>\n",
       "      <th></th>\n",
       "      <th></th>\n",
       "      <th></th>\n",
       "      <th></th>\n",
       "      <th></th>\n",
       "      <th></th>\n",
       "      <th></th>\n",
       "      <th></th>\n",
       "      <th></th>\n",
       "      <th></th>\n",
       "      <th></th>\n",
       "      <th></th>\n",
       "      <th></th>\n",
       "      <th></th>\n",
       "    </tr>\n",
       "  </thead>\n",
       "  <tbody>\n",
       "    <tr>\n",
       "      <th>Kerala</th>\n",
       "      <td>0</td>\n",
       "      <td>160</td>\n",
       "      <td>211</td>\n",
       "      <td>240</td>\n",
       "      <td>225</td>\n",
       "      <td>193</td>\n",
       "      <td>272</td>\n",
       "      <td>301</td>\n",
       "      <td>339</td>\n",
       "      <td>416</td>\n",
       "      <td>...</td>\n",
       "      <td>9258</td>\n",
       "      <td>7834</td>\n",
       "      <td>8553</td>\n",
       "      <td>5042</td>\n",
       "      <td>7871</td>\n",
       "      <td>10606</td>\n",
       "      <td>5445</td>\n",
       "      <td>9250</td>\n",
       "      <td>11755</td>\n",
       "      <td>9347</td>\n",
       "    </tr>\n",
       "    <tr>\n",
       "      <th>Delhi</th>\n",
       "      <td>0</td>\n",
       "      <td>2373</td>\n",
       "      <td>2520</td>\n",
       "      <td>2505</td>\n",
       "      <td>2244</td>\n",
       "      <td>1379</td>\n",
       "      <td>2008</td>\n",
       "      <td>2033</td>\n",
       "      <td>2187</td>\n",
       "      <td>2089</td>\n",
       "      <td>...</td>\n",
       "      <td>2920</td>\n",
       "      <td>2258</td>\n",
       "      <td>2683</td>\n",
       "      <td>1947</td>\n",
       "      <td>2676</td>\n",
       "      <td>2871</td>\n",
       "      <td>2726</td>\n",
       "      <td>2860</td>\n",
       "      <td>2866</td>\n",
       "      <td>2780</td>\n",
       "    </tr>\n",
       "    <tr>\n",
       "      <th>Telangana</th>\n",
       "      <td>0</td>\n",
       "      <td>1213</td>\n",
       "      <td>1892</td>\n",
       "      <td>1850</td>\n",
       "      <td>1590</td>\n",
       "      <td>1831</td>\n",
       "      <td>1879</td>\n",
       "      <td>1924</td>\n",
       "      <td>1410</td>\n",
       "      <td>1278</td>\n",
       "      <td>...</td>\n",
       "      <td>2009</td>\n",
       "      <td>1718</td>\n",
       "      <td>1949</td>\n",
       "      <td>1335</td>\n",
       "      <td>1983</td>\n",
       "      <td>2154</td>\n",
       "      <td>1896</td>\n",
       "      <td>1891</td>\n",
       "      <td>1811</td>\n",
       "      <td>1717</td>\n",
       "    </tr>\n",
       "    <tr>\n",
       "      <th>Gujarat</th>\n",
       "      <td>0</td>\n",
       "      <td>681</td>\n",
       "      <td>687</td>\n",
       "      <td>712</td>\n",
       "      <td>725</td>\n",
       "      <td>735</td>\n",
       "      <td>778</td>\n",
       "      <td>783</td>\n",
       "      <td>861</td>\n",
       "      <td>875</td>\n",
       "      <td>...</td>\n",
       "      <td>1310</td>\n",
       "      <td>1343</td>\n",
       "      <td>1302</td>\n",
       "      <td>1327</td>\n",
       "      <td>1335</td>\n",
       "      <td>1311</td>\n",
       "      <td>1278</td>\n",
       "      <td>1243</td>\n",
       "      <td>1221</td>\n",
       "      <td>1181</td>\n",
       "    </tr>\n",
       "    <tr>\n",
       "      <th>Tripura</th>\n",
       "      <td>0</td>\n",
       "      <td>39</td>\n",
       "      <td>93</td>\n",
       "      <td>25</td>\n",
       "      <td>23</td>\n",
       "      <td>111</td>\n",
       "      <td>24</td>\n",
       "      <td>57</td>\n",
       "      <td>16</td>\n",
       "      <td>142</td>\n",
       "      <td>...</td>\n",
       "      <td>296</td>\n",
       "      <td>190</td>\n",
       "      <td>322</td>\n",
       "      <td>159</td>\n",
       "      <td>275</td>\n",
       "      <td>237</td>\n",
       "      <td>214</td>\n",
       "      <td>223</td>\n",
       "      <td>171</td>\n",
       "      <td>199</td>\n",
       "    </tr>\n",
       "  </tbody>\n",
       "</table>\n",
       "<p>5 rows × 103 columns</p>\n",
       "</div>"
      ],
      "text/plain": [
       "states     2020-07-01  2020-07-02  2020-07-03  2020-07-04  2020-07-05  \\\n",
       "state                                                                   \n",
       "Kerala              0         160         211         240         225   \n",
       "Delhi               0        2373        2520        2505        2244   \n",
       "Telangana           0        1213        1892        1850        1590   \n",
       "Gujarat             0         681         687         712         725   \n",
       "Tripura             0          39          93          25          23   \n",
       "\n",
       "states     2020-07-06  2020-07-07  2020-07-08  2020-07-09  2020-07-10  ...  \\\n",
       "state                                                                  ...   \n",
       "Kerala            193         272         301         339         416  ...   \n",
       "Delhi            1379        2008        2033        2187        2089  ...   \n",
       "Telangana        1831        1879        1924        1410        1278  ...   \n",
       "Gujarat           735         778         783         861         875  ...   \n",
       "Tripura           111          24          57          16         142  ...   \n",
       "\n",
       "states     2020-10-02  2020-10-03  2020-10-04  2020-10-05  2020-10-06  \\\n",
       "state                                                                   \n",
       "Kerala           9258        7834        8553        5042        7871   \n",
       "Delhi            2920        2258        2683        1947        2676   \n",
       "Telangana        2009        1718        1949        1335        1983   \n",
       "Gujarat          1310        1343        1302        1327        1335   \n",
       "Tripura           296         190         322         159         275   \n",
       "\n",
       "states     2020-10-07  2020-10-08  2020-10-09  2020-10-10  2020-10-11  \n",
       "state                                                                  \n",
       "Kerala          10606        5445        9250       11755        9347  \n",
       "Delhi            2871        2726        2860        2866        2780  \n",
       "Telangana        2154        1896        1891        1811        1717  \n",
       "Gujarat          1311        1278        1243        1221        1181  \n",
       "Tripura           237         214         223         171         199  \n",
       "\n",
       "[5 rows x 103 columns]"
      ]
     },
     "execution_count": 18,
     "metadata": {},
     "output_type": "execute_result"
    }
   ],
   "source": [
    "#hide\n",
    "dft_ct_new_cases.head()"
   ]
  },
  {
   "cell_type": "code",
   "execution_count": 19,
   "metadata": {
    "execution": {
     "iopub.execute_input": "2020-10-11T14:52:15.374705Z",
     "iopub.status.busy": "2020-10-11T14:52:15.374036Z",
     "iopub.status.idle": "2020-10-11T14:52:20.209015Z",
     "shell.execute_reply": "2020-10-11T14:52:20.208463Z"
    },
    "papermill": {
     "duration": 4.85697,
     "end_time": "2020-10-11T14:52:20.209165",
     "exception": false,
     "start_time": "2020-10-11T14:52:15.352195",
     "status": "completed"
    },
    "tags": []
   },
   "outputs": [
    {
     "data": {
      "image/png": "[encoded data removed]",
      "text/plain": [
       "<Figure size 1296x2016 with 11 Axes>"
      ]
     },
     "metadata": {
      "needs_background": "light"
     },
     "output_type": "display_data"
    }
   ],
   "source": [
    "#hide_input\n",
    "df = dft_ct_new_cases.copy()\n",
    "df.loc['Total'] = df.sum()\n",
    "n = 5\n",
    "ax = []\n",
    "fig = plt.figure(figsize = (18,28))\n",
    "gs = fig.add_gridspec(n+2, 5)\n",
    "# gs = fig.add_gridspec(2, 3)\n",
    "ax1 = fig.add_subplot(gs[0, :])\n",
    "ef = df.loc['Total'].rename_axis('date').reset_index()\n",
    "ef['date'] = ef['date'].astype('datetime64[ns]')\n",
    "ax1.bar(ef.date,ef.Total,alpha=0.3,color='#007acc')\n",
    "ax1.plot(ef.date,ef.Total , marker=\"o\", color='#007acc')\n",
    "ax1.xaxis.set_major_locator(mdates.WeekdayLocator())\n",
    "ax1.xaxis.set_major_formatter(mdates.DateFormatter('%b %d'))\n",
    "ax1.text(0.02, 0.5,'India daily case count', transform = ax1.transAxes, fontsize=25);\n",
    "ax1.spines['right'].set_visible(False)\n",
    "ax1.spines['top'].set_visible(False)\n",
    "\n",
    "ax2 = fig.add_subplot(gs[1,0])\n",
    "ef = df.loc['Maharashtra'].rename_axis('date').reset_index()\n",
    "ef['date'] = ef['date'].astype('datetime64[ns]')\n",
    "\n",
    "ax2.bar(ef.date, ef.Maharashtra,color = '#007acc',alpha=0.5)\n",
    "ax2.xaxis.set_major_locator(mdates.WeekdayLocator())\n",
    "ax2.xaxis.set_major_formatter(mdates.DateFormatter('%b %d'))\n",
    "ax2.set_xticks(ax2.get_xticks()[::3])\n",
    "maxyval = ef.Maharashtra.max()\n",
    "ax2.set_ylim([0,maxyval])\n",
    "ax2.text(0.05, 0.9,'Maharashtra', transform = ax2.transAxes, fontsize=20);\n",
    "ax2.spines['right'].set_visible(False)\n",
    "ax2.spines['top'].set_visible(False)\n",
    "\n",
    "\n",
    "ax3 = fig.add_subplot(gs[1,1])\n",
    "ef = df.loc['Tamil Nadu'].rename_axis('date').reset_index()\n",
    "ef['date'] = ef['date'].astype('datetime64[ns]')\n",
    "ax3.bar(ef.date, ef['Tamil Nadu'],color = '#007acc',alpha=0.5,)\n",
    "ax3.xaxis.set_major_locator(mdates.WeekdayLocator())\n",
    "ax3.xaxis.set_major_formatter(mdates.DateFormatter('%b %d'))\n",
    "ax3.set_xticks(ax3.get_xticks()[::3])\n",
    "ax3.text(0.05, 0.9,'Tamil Nadu', transform = ax3.transAxes, fontsize=20);\n",
    "ax3.spines['right'].set_visible(False)\n",
    "ax3.spines['top'].set_visible(False)\n",
    "\n",
    "ax5 = fig.add_subplot(gs[1,3])\n",
    "ef = df.loc['Telangana'].rename_axis('date').reset_index()\n",
    "ef['date'] = ef['date'].astype('datetime64[ns]')\n",
    "ax5.bar(ef.date, ef['Telangana'],color = '#007acc',alpha=0.5,)\n",
    "ax5.xaxis.set_major_locator(mdates.WeekdayLocator())\n",
    "ax5.xaxis.set_major_formatter(mdates.DateFormatter('%b %d'))\n",
    "ax5.set_xticks(ax5.get_xticks()[::3])\n",
    "ax5.text(0.05, 0.9,'Telangana', transform = ax5.transAxes, fontsize=20);\n",
    "ax5.spines['right'].set_visible(False)\n",
    "ax5.spines['top'].set_visible(False)\n",
    "\n",
    "ax6 = fig.add_subplot(gs[1,4])\n",
    "ef = df.loc['Andhra Pradesh'].rename_axis('date').reset_index()\n",
    "ef['date'] = ef['date'].astype('datetime64[ns]')\n",
    "ax6.bar(ef.date, ef['Andhra Pradesh'],color = '#007acc',alpha=0.5,)\n",
    "ax6.xaxis.set_major_locator(mdates.WeekdayLocator())\n",
    "ax6.xaxis.set_major_formatter(mdates.DateFormatter('%b %d'))\n",
    "ax6.set_xticks(ax6.get_xticks()[::3])\n",
    "ax6.text(0.05, 1,'Andhra Pradesh', transform = ax6.transAxes, fontsize=20);\n",
    "ax6.spines['right'].set_visible(False)\n",
    "ax6.spines['top'].set_visible(False)\n",
    "\n",
    "ax4 = fig.add_subplot(gs[1,2])\n",
    "ef = df.loc['Delhi'].rename_axis('date').reset_index()\n",
    "ef['date'] = ef['date'].astype('datetime64[ns]')\n",
    "ax4.bar(ef.date, ef.Delhi,color = '#007acc',alpha=0.5)\n",
    "ax4.set_xticks([])\n",
    "ax4.xaxis.set_major_locator(mdates.WeekdayLocator())\n",
    "ax4.xaxis.set_major_formatter(mdates.DateFormatter('%b %d'))\n",
    "ax4.set_xticks(ax4.get_xticks()[::3])\n",
    "ax4.spines['right'].set_visible(False)\n",
    "ax4.spines['top'].set_visible(False)\n",
    "\n",
    "ax4.text(0.05, 1,'Delhi', transform = ax4.transAxes, fontsize=20)\n",
    "\n",
    "for i in range(n):\n",
    "    \n",
    "    ax.append(fig.add_subplot(gs[i+2,:]))\n",
    "    ef = df.iloc[i+3].rename_axis('date').reset_index()\n",
    "    ef['date'] = ef['date'].astype('datetime64[ns]')\n",
    "    ax[i].bar(ef.date,ef.iloc[:,-1],color = '#007acc',alpha=0.3)\n",
    "    ax[i].plot(ef.date,ef.iloc[:,-1],marker='o',color='#007acc')\n",
    "    ax[i].text(0.02,0.5,f'{ef.columns.values[-1]}',transform = ax[i].transAxes, fontsize = 20);\n",
    "    ax[i].xaxis.set_major_locator(mdates.WeekdayLocator())\n",
    "    ax[i].xaxis.set_major_formatter(mdates.DateFormatter('%b %d'))\n",
    "    ax[i].set_ylim([0,7000])\n",
    "    ax[i].spines['right'].set_visible(False)\n",
    "    ax[i].spines['top'].set_visible(False)\n",
    "plt.tight_layout()\n"
   ]
  },
  {
   "cell_type": "code",
   "execution_count": 20,
   "metadata": {
    "execution": {
     "iopub.execute_input": "2020-10-11T14:52:20.264102Z",
     "iopub.status.busy": "2020-10-11T14:52:20.263408Z",
     "iopub.status.idle": "2020-10-11T14:52:20.267468Z",
     "shell.execute_reply": "2020-10-11T14:52:20.266787Z"
    },
    "papermill": {
     "duration": 0.035526,
     "end_time": "2020-10-11T14:52:20.267599",
     "exception": false,
     "start_time": "2020-10-11T14:52:20.232073",
     "status": "completed"
    },
    "tags": []
   },
   "outputs": [
    {
     "name": "stdout",
     "output_type": "stream",
     "text": [
      "                                   states    Cases  Deaths   PCases  PDeaths  Cases (+)  Deaths (+)  Fatality Rate\n",
      "                              Maharashtra  1517434   40040  1517434    40040          0           0           2.64\n",
      "                           Andhra Pradesh   750517    6194   750517     6194          0           0           0.83\n",
      "                                Karnataka   700786    9891   700786     9891          0           0           1.41\n",
      "                               Tamil Nadu   651370   10187   651370    10187          0           0           1.56\n",
      "                            Uttar Pradesh   433712    6353   433712     6353          0           0           1.46\n",
      "                                    Delhi   309339    5769   306559     5740       2780          29           1.86\n",
      "                              West Bengal   291194    5563   291194     5563          0           0           1.91\n",
      "                                   Kerala   289203    1004   279856      979       9347          25           0.35\n",
      "                                   Odisha   249693    1059   249693     1059          0           0           0.42\n",
      "                                Telangana   212063    1222   210346     1217       1717           5           0.58\n",
      "                                    Bihar   194966     944   194966      944          0           0           0.48\n",
      "                                    Assam   193387     811   193387      811          0           0           0.42\n",
      "                                Rajasthan   156908    1636   156908     1636          0           0           1.04\n",
      "                                  Gujarat   151595    3569   150414     3560       1181           9           2.35\n",
      "                           Madhya Pradesh   145245    2599   145245     2599          0           0           1.79\n",
      "                                  Haryana   141090    1572   141090     1572          0           0           1.11\n",
      "                             Chhattisgarh   140258    1235   140258     1235          0           0           0.88\n",
      "                                   Punjab   123317    3798   123317     3798          0           0           3.08\n",
      "                                Jharkhand    91951     784    91951      784          0           0           0.85\n",
      "                        Jammu and Kashmir    83064    1313    83064     1313          0           0           1.58\n",
      "                              Uttarakhand    54525     734    54525      734          0           0           1.35\n",
      "                                      Goa    37934     499    37934      499          0           0           1.32\n",
      "                               Puducherry    31241     559    31241      559          0           0           1.79\n",
      "                                  Tripura    28349     312    28150      310        199           2           1.10\n",
      "                         Himachal Pradesh    17244     243    17244      243          0           0           1.41\n",
      "                                  Manipur    13092      88    13092       88          0           0           0.67\n",
      "                               Chandigarh    13081     190    13081      190          0           0           1.45\n",
      "                        Arunachal Pradesh    11998      23    11998       23          0           0           0.19\n",
      "                                Meghalaya     7544      62     7544       62          0           0           0.82\n",
      "                                 Nagaland     6949      12     6949       12          0           0           0.17\n",
      "                                   Ladakh     5059      64     5059       64          0           0           1.27\n",
      "              Andaman and Nicobar Islands     3992      55     3992       55          0           0           1.38\n",
      "                                   Sikkim     3321      55     3321       55          0           0           1.66\n",
      " Dadra and Nagar Haveli and Daman and Diu     3152       2     3152        2          0           0           0.06\n",
      "                                  Mizoram     2162       0     2162        0          0           0           0.00\n",
      "                              Lakshadweep        0       0        0        0          0           0            NaN\n"
     ]
    }
   ],
   "source": [
    "#hide_input\n",
    "print(df_table.to_string(index=False))"
   ]
  },
  {
   "cell_type": "code",
   "execution_count": null,
   "metadata": {
    "papermill": {
     "duration": 0.024148,
     "end_time": "2020-10-11T14:52:20.315441",
     "exception": false,
     "start_time": "2020-10-11T14:52:20.291293",
     "status": "completed"
    },
    "tags": []
   },
   "outputs": [],
   "source": []
  },
  {
   "cell_type": "code",
   "execution_count": null,
   "metadata": {
    "papermill": {
     "duration": 0.023276,
     "end_time": "2020-10-11T14:52:20.362347",
     "exception": false,
     "start_time": "2020-10-11T14:52:20.339071",
     "status": "completed"
    },
    "tags": []
   },
   "outputs": [],
   "source": []
  }
 ],
 "metadata": {
  "kernelspec": {
   "display_name": "Python 3",
   "language": "python",
   "name": "python3"
  },
  "language_info": {
   "codemirror_mode": {
    "name": "ipython",
    "version": 3
   },
   "file_extension": ".py",
   "mimetype": "text/x-python",
   "name": "python",
   "nbconvert_exporter": "python",
   "pygments_lexer": "ipython3",
   "version": "3.6.12"
  },
  "papermill": {
   "duration": 11.77567,
   "end_time": "2020-10-11T14:52:20.792242",
   "environment_variables": {},
   "exception": null,
   "input_path": "latest.ipynb",
   "output_path": "latest.ipynb",
   "parameters": {},
   "start_time": "2020-10-11T14:52:09.016572",
   "version": "2.1.2"
  }
 },
 "nbformat": 4,
 "nbformat_minor": 4
}