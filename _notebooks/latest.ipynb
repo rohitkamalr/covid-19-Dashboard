{
 "cells": [
  {
   "cell_type": "markdown",
   "metadata": {
    "papermill": {
     "duration": 0.019607,
     "end_time": "2020-11-15T05:51:45.621498",
     "exception": false,
     "start_time": "2020-11-15T05:51:45.601891",
     "status": "completed"
    },
    "tags": []
   },
   "source": [
    "# Latest COVID-19 India Matplotlib Overview"
   ]
  },
  {
   "cell_type": "code",
   "execution_count": 1,
   "metadata": {
    "execution": {
     "iopub.execute_input": "2020-11-15T05:51:45.659685Z",
     "iopub.status.busy": "2020-11-15T05:51:45.659060Z",
     "iopub.status.idle": "2020-11-15T05:51:46.252651Z",
     "shell.execute_reply": "2020-11-15T05:51:46.251914Z"
    },
    "papermill": {
     "duration": 0.615581,
     "end_time": "2020-11-15T05:51:46.252864",
     "exception": false,
     "start_time": "2020-11-15T05:51:45.637283",
     "status": "completed"
    },
    "tags": []
   },
   "outputs": [],
   "source": [
    "#hide\n",
    "import pandas as pd\n",
    "import numpy as np\n",
    "import requests\n",
    "import json\n",
    "import matplotlib.pyplot as plt\n",
    "import matplotlib.dates as mdates\n",
    "import matplotlib as mpl\n",
    "from IPython.core.display import display,HTML\n",
    "%matplotlib inline\n",
    "from datetime import date"
   ]
  },
  {
   "cell_type": "code",
   "execution_count": 2,
   "metadata": {
    "execution": {
     "iopub.execute_input": "2020-11-15T05:51:46.291287Z",
     "iopub.status.busy": "2020-11-15T05:51:46.290661Z",
     "iopub.status.idle": "2020-11-15T05:51:46.406113Z",
     "shell.execute_reply": "2020-11-15T05:51:46.405503Z"
    },
    "papermill": {
     "duration": 0.137937,
     "end_time": "2020-11-15T05:51:46.406269",
     "exception": false,
     "start_time": "2020-11-15T05:51:46.268332",
     "status": "completed"
    },
    "tags": []
   },
   "outputs": [],
   "source": [
    "#hide\n",
    "df  = pd.read_csv('https://api.covid19india.org/csv/latest/states.csv')\n",
    "df = df[['Date','State','Confirmed','Deceased']]\n",
    "df = df.rename(columns={'Confirmed':'Cases', \"Deceased\":'Deaths'})\n",
    "df_cases = df[[\"Date\",'State','Cases']]\n",
    "df_deaths = df[['Date','State','Deaths']]\n",
    "df_cases1 = df_cases.groupby('Date')\n",
    "df_deaths1= df_deaths.groupby('Date')"
   ]
  },
  {
   "cell_type": "code",
   "execution_count": 3,
   "metadata": {
    "execution": {
     "iopub.execute_input": "2020-11-15T05:51:46.442625Z",
     "iopub.status.busy": "2020-11-15T05:51:46.441989Z",
     "iopub.status.idle": "2020-11-15T05:51:46.460721Z",
     "shell.execute_reply": "2020-11-15T05:51:46.460208Z"
    },
    "papermill": {
     "duration": 0.039204,
     "end_time": "2020-11-15T05:51:46.460865",
     "exception": false,
     "start_time": "2020-11-15T05:51:46.421661",
     "status": "completed"
    },
    "tags": []
   },
   "outputs": [],
   "source": [
    "#hide\n",
    "df_snap = pd.read_csv('data/SnapshotCases-28-July.csv')\n",
    "arr_states = df_snap['states'].unique()\n",
    "arr_dates = df['Date'].unique()\n",
    "df_snap = df_snap.set_index('states')"
   ]
  },
  {
   "cell_type": "code",
   "execution_count": 4,
   "metadata": {
    "execution": {
     "iopub.execute_input": "2020-11-15T05:51:46.499636Z",
     "iopub.status.busy": "2020-11-15T05:51:46.498912Z",
     "iopub.status.idle": "2020-11-15T05:51:46.503731Z",
     "shell.execute_reply": "2020-11-15T05:51:46.503145Z"
    },
    "papermill": {
     "duration": 0.027558,
     "end_time": "2020-11-15T05:51:46.503860",
     "exception": false,
     "start_time": "2020-11-15T05:51:46.476302",
     "status": "completed"
    },
    "tags": []
   },
   "outputs": [
    {
     "data": {
      "text/plain": [
       "array(['Andaman and Nicobar Islands', 'Andhra Pradesh',\n",
       "       'Arunachal Pradesh', 'Assam', 'Bihar', 'Chandigarh',\n",
       "       'Dadra and Nagar Haveli and Daman and Diu', 'Delhi', 'Goa',\n",
       "       'Gujarat', 'Haryana', 'Himachal Pradesh', 'Jammu and Kashmir',\n",
       "       'Jharkhand', 'Karnataka', 'Kerala', 'Lakshadweep',\n",
       "       'Madhya Pradesh', 'Maharashtra', 'Manipur', 'Meghalaya', 'Mizoram',\n",
       "       'Nagaland', 'Odisha', 'Puducherry', 'Punjab', 'Rajasthan',\n",
       "       'Sikkim', 'Tamil Nadu', 'Telangana', 'Tripura', 'Uttar Pradesh',\n",
       "       'West Bengal', 'Chhattisgarh', 'Ladakh', 'Uttarakhand'],\n",
       "      dtype=object)"
      ]
     },
     "execution_count": 4,
     "metadata": {},
     "output_type": "execute_result"
    }
   ],
   "source": [
    "#hide\n",
    "arr_states[-9] = 'Puducherry'\n",
    "arr_states[-10] = 'Odisha'\n",
    "arr_states[6] = 'Dadra and Nagar Haveli and Daman and Diu'\n",
    "arr_states = np.append(arr_states,np.array(['Chhattisgarh','Ladakh','Uttarakhand']))\n",
    "arr_states"
   ]
  },
  {
   "cell_type": "code",
   "execution_count": 5,
   "metadata": {
    "execution": {
     "iopub.execute_input": "2020-11-15T05:51:46.545854Z",
     "iopub.status.busy": "2020-11-15T05:51:46.545250Z",
     "iopub.status.idle": "2020-11-15T05:51:46.553336Z",
     "shell.execute_reply": "2020-11-15T05:51:46.552847Z"
    },
    "papermill": {
     "duration": 0.034176,
     "end_time": "2020-11-15T05:51:46.553469",
     "exception": false,
     "start_time": "2020-11-15T05:51:46.519293",
     "status": "completed"
    },
    "tags": []
   },
   "outputs": [],
   "source": [
    "#hide\n",
    "dates = []\n",
    "for i in arr_dates:\n",
    "    if i>='2020-07-01':\n",
    "        dates.append(i)\n",
    "dict = {'states':dates}\n",
    "for i in arr_states:\n",
    "    dict[i] = [0]*len(dates)\n",
    "dft_cases = pd.DataFrame(dict)\n",
    "dft_deaths = pd.DataFrame(dict)\n"
   ]
  },
  {
   "cell_type": "code",
   "execution_count": 6,
   "metadata": {
    "execution": {
     "iopub.execute_input": "2020-11-15T05:51:46.590412Z",
     "iopub.status.busy": "2020-11-15T05:51:46.589783Z",
     "iopub.status.idle": "2020-11-15T05:51:48.516097Z",
     "shell.execute_reply": "2020-11-15T05:51:48.515459Z"
    },
    "papermill": {
     "duration": 1.947306,
     "end_time": "2020-11-15T05:51:48.516271",
     "exception": false,
     "start_time": "2020-11-15T05:51:46.568965",
     "status": "completed"
    },
    "tags": []
   },
   "outputs": [],
   "source": [
    "#hide\n",
    "for i in range(len(dates)):\n",
    "    df1_deaths = df_deaths1.get_group(dates[i])\n",
    "    for j in range(len(df1_deaths.index)):\n",
    "        if df1_deaths.iloc[j,1] in arr_states:\n",
    "            dft_deaths.loc[i,df1_deaths.iloc[j,1]] = df1_deaths.iloc[j,2]\n",
    "dft_deaths = dft_deaths.set_index('states')"
   ]
  },
  {
   "cell_type": "code",
   "execution_count": 7,
   "metadata": {
    "execution": {
     "iopub.execute_input": "2020-11-15T05:51:48.554707Z",
     "iopub.status.busy": "2020-11-15T05:51:48.553979Z",
     "iopub.status.idle": "2020-11-15T05:51:50.521884Z",
     "shell.execute_reply": "2020-11-15T05:51:50.521350Z"
    },
    "papermill": {
     "duration": 1.989482,
     "end_time": "2020-11-15T05:51:50.522057",
     "exception": false,
     "start_time": "2020-11-15T05:51:48.532575",
     "status": "completed"
    },
    "tags": []
   },
   "outputs": [],
   "source": [
    "#hide\n",
    "for i in range(len(dates)):\n",
    "    df1_cases = df_cases1.get_group(dates[i])\n",
    "    for j in range(len(df1_cases.index)):\n",
    "        if df1_cases.iloc[j,1] in arr_states:\n",
    "            dft_cases.loc[i,df1_cases.iloc[j,1]] = df1_cases.iloc[j,2]\n",
    "dft_cases = dft_cases.set_index('states')"
   ]
  },
  {
   "cell_type": "code",
   "execution_count": 8,
   "metadata": {
    "execution": {
     "iopub.execute_input": "2020-11-15T05:51:50.561987Z",
     "iopub.status.busy": "2020-11-15T05:51:50.561281Z",
     "iopub.status.idle": "2020-11-15T05:51:50.565352Z",
     "shell.execute_reply": "2020-11-15T05:51:50.564866Z"
    },
    "papermill": {
     "duration": 0.027652,
     "end_time": "2020-11-15T05:51:50.565491",
     "exception": false,
     "start_time": "2020-11-15T05:51:50.537839",
     "status": "completed"
    },
    "tags": []
   },
   "outputs": [],
   "source": [
    "#hide\n",
    "dft_cases = dft_cases.T\n",
    "dft_deaths = dft_deaths.T\n",
    "dt_today = dates[-1]\n",
    "dt_yday = dates[-2]"
   ]
  },
  {
   "cell_type": "code",
   "execution_count": 9,
   "metadata": {
    "execution": {
     "iopub.execute_input": "2020-11-15T05:51:50.606657Z",
     "iopub.status.busy": "2020-11-15T05:51:50.606037Z",
     "iopub.status.idle": "2020-11-15T05:51:50.609254Z",
     "shell.execute_reply": "2020-11-15T05:51:50.608728Z"
    },
    "papermill": {
     "duration": 0.02835,
     "end_time": "2020-11-15T05:51:50.609391",
     "exception": false,
     "start_time": "2020-11-15T05:51:50.581041",
     "status": "completed"
    },
    "tags": []
   },
   "outputs": [],
   "source": [
    "#hide\n",
    "dft_cases = dft_cases.reset_index()\n",
    "dft_deaths = dft_deaths.reset_index()\n",
    "dft_cases = dft_cases.rename(columns = {'index':'state'})\n",
    "dft_deaths = dft_deaths.rename(columns = {'index':'state'})"
   ]
  },
  {
   "cell_type": "code",
   "execution_count": 10,
   "metadata": {
    "execution": {
     "iopub.execute_input": "2020-11-15T05:51:50.651586Z",
     "iopub.status.busy": "2020-11-15T05:51:50.650980Z",
     "iopub.status.idle": "2020-11-15T05:51:50.654289Z",
     "shell.execute_reply": "2020-11-15T05:51:50.654747Z"
    },
    "papermill": {
     "duration": 0.030143,
     "end_time": "2020-11-15T05:51:50.654899",
     "exception": false,
     "start_time": "2020-11-15T05:51:50.624756",
     "status": "completed"
    },
    "tags": []
   },
   "outputs": [],
   "source": [
    "#hide\n",
    "dfc_cases = dft_cases.groupby('state')[dt_today].sum()\n",
    "dfc_deaths = dft_deaths.groupby('state')[dt_today].sum()\n",
    "dfp_cases = dft_cases.groupby('state')[dt_yday].sum()\n",
    "dfp_deaths = dft_deaths.groupby('state')[dt_yday].sum()"
   ]
  },
  {
   "cell_type": "code",
   "execution_count": 11,
   "metadata": {
    "execution": {
     "iopub.execute_input": "2020-11-15T05:51:50.699863Z",
     "iopub.status.busy": "2020-11-15T05:51:50.693588Z",
     "iopub.status.idle": "2020-11-15T05:51:50.705875Z",
     "shell.execute_reply": "2020-11-15T05:51:50.706382Z"
    },
    "papermill": {
     "duration": 0.036237,
     "end_time": "2020-11-15T05:51:50.706527",
     "exception": false,
     "start_time": "2020-11-15T05:51:50.670290",
     "status": "completed"
    },
    "tags": []
   },
   "outputs": [
    {
     "data": {
      "text/html": [
       "<div>\n",
       "<style scoped>\n",
       "    .dataframe tbody tr th:only-of-type {\n",
       "        vertical-align: middle;\n",
       "    }\n",
       "\n",
       "    .dataframe tbody tr th {\n",
       "        vertical-align: top;\n",
       "    }\n",
       "\n",
       "    .dataframe thead th {\n",
       "        text-align: right;\n",
       "    }\n",
       "</style>\n",
       "<table border=\"1\" class=\"dataframe\">\n",
       "  <thead>\n",
       "    <tr style=\"text-align: right;\">\n",
       "      <th></th>\n",
       "      <th>states</th>\n",
       "      <th>Cases</th>\n",
       "      <th>Deaths</th>\n",
       "      <th>PCases</th>\n",
       "      <th>PDeaths</th>\n",
       "    </tr>\n",
       "  </thead>\n",
       "  <tbody>\n",
       "    <tr>\n",
       "      <th>0</th>\n",
       "      <td>Maharashtra</td>\n",
       "      <td>1744698</td>\n",
       "      <td>45914</td>\n",
       "      <td>1744698</td>\n",
       "      <td>45914</td>\n",
       "    </tr>\n",
       "    <tr>\n",
       "      <th>1</th>\n",
       "      <td>Karnataka</td>\n",
       "      <td>860082</td>\n",
       "      <td>11508</td>\n",
       "      <td>860082</td>\n",
       "      <td>11508</td>\n",
       "    </tr>\n",
       "    <tr>\n",
       "      <th>2</th>\n",
       "      <td>Andhra Pradesh</td>\n",
       "      <td>852955</td>\n",
       "      <td>6854</td>\n",
       "      <td>852955</td>\n",
       "      <td>6854</td>\n",
       "    </tr>\n",
       "    <tr>\n",
       "      <th>3</th>\n",
       "      <td>Tamil Nadu</td>\n",
       "      <td>756372</td>\n",
       "      <td>11466</td>\n",
       "      <td>756372</td>\n",
       "      <td>11466</td>\n",
       "    </tr>\n",
       "    <tr>\n",
       "      <th>4</th>\n",
       "      <td>Kerala</td>\n",
       "      <td>520418</td>\n",
       "      <td>1848</td>\n",
       "      <td>520418</td>\n",
       "      <td>1848</td>\n",
       "    </tr>\n",
       "  </tbody>\n",
       "</table>\n",
       "</div>"
      ],
      "text/plain": [
       "           states    Cases  Deaths   PCases  PDeaths\n",
       "0     Maharashtra  1744698   45914  1744698    45914\n",
       "1       Karnataka   860082   11508   860082    11508\n",
       "2  Andhra Pradesh   852955    6854   852955     6854\n",
       "3      Tamil Nadu   756372   11466   756372    11466\n",
       "4          Kerala   520418    1848   520418     1848"
      ]
     },
     "execution_count": 11,
     "metadata": {},
     "output_type": "execute_result"
    }
   ],
   "source": [
    "#hide\n",
    "df_table = pd.DataFrame({'states': dfc_cases.index, 'Cases': dfc_cases.values, 'Deaths': dfc_deaths.values, 'PCases': dfp_cases.values, 'PDeaths': dfp_deaths.values}).set_index('states')\n",
    "df_table = df_table.sort_values(by = ['Cases','Deaths'], ascending = [False, False])\n",
    "df_table = df_table.reset_index()\n",
    "df_table.head()"
   ]
  },
  {
   "cell_type": "code",
   "execution_count": 12,
   "metadata": {
    "execution": {
     "iopub.execute_input": "2020-11-15T05:51:50.743575Z",
     "iopub.status.busy": "2020-11-15T05:51:50.742990Z",
     "iopub.status.idle": "2020-11-15T05:51:50.752063Z",
     "shell.execute_reply": "2020-11-15T05:51:50.751586Z"
    },
    "papermill": {
     "duration": 0.029974,
     "end_time": "2020-11-15T05:51:50.752191",
     "exception": false,
     "start_time": "2020-11-15T05:51:50.722217",
     "status": "completed"
    },
    "tags": []
   },
   "outputs": [],
   "source": [
    "#hide\n",
    "for c in 'Cases, Deaths'.split(', '):\n",
    "    df_table[f'{c} (+)'] = (df_table[c] - df_table[f'P{c}']).clip(0)\n",
    "df_table['Fatality Rate'] = (100* df_table['Deaths']/ df_table['Cases']).round(2)"
   ]
  },
  {
   "cell_type": "code",
   "execution_count": 13,
   "metadata": {
    "execution": {
     "iopub.execute_input": "2020-11-15T05:51:50.795835Z",
     "iopub.status.busy": "2020-11-15T05:51:50.795241Z",
     "iopub.status.idle": "2020-11-15T05:51:50.798341Z",
     "shell.execute_reply": "2020-11-15T05:51:50.798797Z"
    },
    "papermill": {
     "duration": 0.03114,
     "end_time": "2020-11-15T05:51:50.798948",
     "exception": false,
     "start_time": "2020-11-15T05:51:50.767808",
     "status": "completed"
    },
    "tags": []
   },
   "outputs": [
    {
     "data": {
      "text/html": [
       "<div>\n",
       "<style scoped>\n",
       "    .dataframe tbody tr th:only-of-type {\n",
       "        vertical-align: middle;\n",
       "    }\n",
       "\n",
       "    .dataframe tbody tr th {\n",
       "        vertical-align: top;\n",
       "    }\n",
       "\n",
       "    .dataframe thead th {\n",
       "        text-align: right;\n",
       "    }\n",
       "</style>\n",
       "<table border=\"1\" class=\"dataframe\">\n",
       "  <thead>\n",
       "    <tr style=\"text-align: right;\">\n",
       "      <th></th>\n",
       "      <th>states</th>\n",
       "      <th>Cases</th>\n",
       "      <th>Deaths</th>\n",
       "      <th>PCases</th>\n",
       "      <th>PDeaths</th>\n",
       "      <th>Cases (+)</th>\n",
       "      <th>Deaths (+)</th>\n",
       "      <th>Fatality Rate</th>\n",
       "    </tr>\n",
       "  </thead>\n",
       "  <tbody>\n",
       "    <tr>\n",
       "      <th>0</th>\n",
       "      <td>Maharashtra</td>\n",
       "      <td>1744698</td>\n",
       "      <td>45914</td>\n",
       "      <td>1744698</td>\n",
       "      <td>45914</td>\n",
       "      <td>0</td>\n",
       "      <td>0</td>\n",
       "      <td>2.63</td>\n",
       "    </tr>\n",
       "    <tr>\n",
       "      <th>1</th>\n",
       "      <td>Karnataka</td>\n",
       "      <td>860082</td>\n",
       "      <td>11508</td>\n",
       "      <td>860082</td>\n",
       "      <td>11508</td>\n",
       "      <td>0</td>\n",
       "      <td>0</td>\n",
       "      <td>1.34</td>\n",
       "    </tr>\n",
       "    <tr>\n",
       "      <th>2</th>\n",
       "      <td>Andhra Pradesh</td>\n",
       "      <td>852955</td>\n",
       "      <td>6854</td>\n",
       "      <td>852955</td>\n",
       "      <td>6854</td>\n",
       "      <td>0</td>\n",
       "      <td>0</td>\n",
       "      <td>0.80</td>\n",
       "    </tr>\n",
       "    <tr>\n",
       "      <th>3</th>\n",
       "      <td>Tamil Nadu</td>\n",
       "      <td>756372</td>\n",
       "      <td>11466</td>\n",
       "      <td>756372</td>\n",
       "      <td>11466</td>\n",
       "      <td>0</td>\n",
       "      <td>0</td>\n",
       "      <td>1.52</td>\n",
       "    </tr>\n",
       "    <tr>\n",
       "      <th>4</th>\n",
       "      <td>Kerala</td>\n",
       "      <td>520418</td>\n",
       "      <td>1848</td>\n",
       "      <td>520418</td>\n",
       "      <td>1848</td>\n",
       "      <td>0</td>\n",
       "      <td>0</td>\n",
       "      <td>0.36</td>\n",
       "    </tr>\n",
       "  </tbody>\n",
       "</table>\n",
       "</div>"
      ],
      "text/plain": [
       "           states    Cases  Deaths   PCases  PDeaths  Cases (+)  Deaths (+)  \\\n",
       "0     Maharashtra  1744698   45914  1744698    45914          0           0   \n",
       "1       Karnataka   860082   11508   860082    11508          0           0   \n",
       "2  Andhra Pradesh   852955    6854   852955     6854          0           0   \n",
       "3      Tamil Nadu   756372   11466   756372    11466          0           0   \n",
       "4          Kerala   520418    1848   520418     1848          0           0   \n",
       "\n",
       "   Fatality Rate  \n",
       "0           2.63  \n",
       "1           1.34  \n",
       "2           0.80  \n",
       "3           1.52  \n",
       "4           0.36  "
      ]
     },
     "execution_count": 13,
     "metadata": {},
     "output_type": "execute_result"
    }
   ],
   "source": [
    "#hide\n",
    "df_table.head()"
   ]
  },
  {
   "cell_type": "code",
   "execution_count": 14,
   "metadata": {
    "execution": {
     "iopub.execute_input": "2020-11-15T05:51:50.837104Z",
     "iopub.status.busy": "2020-11-15T05:51:50.836509Z",
     "iopub.status.idle": "2020-11-15T05:51:50.853925Z",
     "shell.execute_reply": "2020-11-15T05:51:50.853444Z"
    },
    "papermill": {
     "duration": 0.038813,
     "end_time": "2020-11-15T05:51:50.854089",
     "exception": false,
     "start_time": "2020-11-15T05:51:50.815276",
     "status": "completed"
    },
    "tags": []
   },
   "outputs": [
    {
     "data": {
      "text/plain": [
       "{'updated': '2020-11-15',\n",
       " 'since': '2020-11-14',\n",
       " 'Cases': 8814962,\n",
       " 'PCases': 8814936,\n",
       " 'Deaths': 129675,\n",
       " 'PDeaths': 129675,\n",
       " 'Cases (+)': 26,\n",
       " 'Deaths (+)': 0}"
      ]
     },
     "execution_count": 14,
     "metadata": {},
     "output_type": "execute_result"
    }
   ],
   "source": [
    "#hide\n",
    "summary = {'updated':dates[-1], 'since':dates[-2]}\n",
    "list_names = ['Cases', 'PCases', 'Deaths', 'PDeaths', 'Cases (+)', 'Deaths (+)']\n",
    "for name in list_names:\n",
    "    summary[name] = df_table.sum()[name]\n",
    "summary"
   ]
  },
  {
   "cell_type": "code",
   "execution_count": 15,
   "metadata": {
    "execution": {
     "iopub.execute_input": "2020-11-15T05:51:50.891686Z",
     "iopub.status.busy": "2020-11-15T05:51:50.891083Z",
     "iopub.status.idle": "2020-11-15T05:51:50.893190Z",
     "shell.execute_reply": "2020-11-15T05:51:50.893697Z"
    },
    "papermill": {
     "duration": 0.023341,
     "end_time": "2020-11-15T05:51:50.893840",
     "exception": false,
     "start_time": "2020-11-15T05:51:50.870499",
     "status": "completed"
    },
    "tags": []
   },
   "outputs": [],
   "source": [
    "#hide\n",
    "overview = '''\n",
    "<!-- #######  HTML!! #########-->\n",
    "<h1 style=\"color: #5e9ca0; text-align: center;\">India</h1>\n",
    "<p style=\"text-align: center;\">Last update: <strong>{update}</strong></p>\n",
    "<p style=\"text-align: center;\">Confirmed cases:</p>\n",
    "<p style=\"text-align: center;font-size:24px;\">{cases} (<span style=\"color: #ff0000;\">+{new}</span>)</p>\n",
    "<p style=\"text-align: center;\">Confirmed deaths:</p>\n",
    "<p style=\"text-align: center;font-size:24px;\">{deaths} (<span style=\"color: #ff0000;\">+{dnew}</span>)</p>\n",
    "'''"
   ]
  },
  {
   "cell_type": "code",
   "execution_count": 16,
   "metadata": {
    "execution": {
     "iopub.execute_input": "2020-11-15T05:51:50.933395Z",
     "iopub.status.busy": "2020-11-15T05:51:50.932805Z",
     "iopub.status.idle": "2020-11-15T05:51:50.936705Z",
     "shell.execute_reply": "2020-11-15T05:51:50.936231Z"
    },
    "papermill": {
     "duration": 0.026616,
     "end_time": "2020-11-15T05:51:50.936832",
     "exception": false,
     "start_time": "2020-11-15T05:51:50.910216",
     "status": "completed"
    },
    "tags": []
   },
   "outputs": [
    {
     "data": {
      "text/html": [
       "\n",
       "<!-- #######  HTML!! #########-->\n",
       "<h1 style=\"color: #5e9ca0; text-align: center;\">India</h1>\n",
       "<p style=\"text-align: center;\">Last update: <strong>2020-11-15</strong></p>\n",
       "<p style=\"text-align: center;\">Confirmed cases:</p>\n",
       "<p style=\"text-align: center;font-size:24px;\">8814962 (<span style=\"color: #ff0000;\">+26</span>)</p>\n",
       "<p style=\"text-align: center;\">Confirmed deaths:</p>\n",
       "<p style=\"text-align: center;font-size:24px;\">129675 (<span style=\"color: #ff0000;\">+0</span>)</p>\n"
      ],
      "text/plain": [
       "<IPython.core.display.HTML object>"
      ]
     },
     "metadata": {},
     "output_type": "display_data"
    }
   ],
   "source": [
    "#hide_input\n",
    "update = summary['updated']\n",
    "cases = summary['Cases']\n",
    "new = summary['Cases (+)']\n",
    "deaths = summary['Deaths']\n",
    "dnew = summary['Deaths (+)']\n",
    "\n",
    "html = HTML(overview.format(update=update, cases=cases,new=new,deaths=deaths,dnew=dnew))\n",
    "\n",
    "display(html)"
   ]
  },
  {
   "cell_type": "code",
   "execution_count": 17,
   "metadata": {
    "execution": {
     "iopub.execute_input": "2020-11-15T05:51:50.978866Z",
     "iopub.status.busy": "2020-11-15T05:51:50.978272Z",
     "iopub.status.idle": "2020-11-15T05:51:50.982932Z",
     "shell.execute_reply": "2020-11-15T05:51:50.983376Z"
    },
    "papermill": {
     "duration": 0.029926,
     "end_time": "2020-11-15T05:51:50.983515",
     "exception": false,
     "start_time": "2020-11-15T05:51:50.953589",
     "status": "completed"
    },
    "tags": []
   },
   "outputs": [],
   "source": [
    "#hide\n",
    "dt_cols = list(dft_cases.columns[1:])\n",
    "dft_ct_new_cases = dft_cases.groupby('state')[dt_cols].sum().diff(axis=1).fillna(0).astype(int)\n",
    "dft_ct_new_cases.sort_values(by = dates[-1], ascending = False,inplace = True)"
   ]
  },
  {
   "cell_type": "code",
   "execution_count": 18,
   "metadata": {
    "execution": {
     "iopub.execute_input": "2020-11-15T05:51:51.035471Z",
     "iopub.status.busy": "2020-11-15T05:51:51.034866Z",
     "iopub.status.idle": "2020-11-15T05:51:51.037475Z",
     "shell.execute_reply": "2020-11-15T05:51:51.037953Z"
    },
    "papermill": {
     "duration": 0.03778,
     "end_time": "2020-11-15T05:51:51.038119",
     "exception": false,
     "start_time": "2020-11-15T05:51:51.000339",
     "status": "completed"
    },
    "tags": []
   },
   "outputs": [
    {
     "data": {
      "text/html": [
       "<div>\n",
       "<style scoped>\n",
       "    .dataframe tbody tr th:only-of-type {\n",
       "        vertical-align: middle;\n",
       "    }\n",
       "\n",
       "    .dataframe tbody tr th {\n",
       "        vertical-align: top;\n",
       "    }\n",
       "\n",
       "    .dataframe thead th {\n",
       "        text-align: right;\n",
       "    }\n",
       "</style>\n",
       "<table border=\"1\" class=\"dataframe\">\n",
       "  <thead>\n",
       "    <tr style=\"text-align: right;\">\n",
       "      <th>states</th>\n",
       "      <th>2020-07-01</th>\n",
       "      <th>2020-07-02</th>\n",
       "      <th>2020-07-03</th>\n",
       "      <th>2020-07-04</th>\n",
       "      <th>2020-07-05</th>\n",
       "      <th>2020-07-06</th>\n",
       "      <th>2020-07-07</th>\n",
       "      <th>2020-07-08</th>\n",
       "      <th>2020-07-09</th>\n",
       "      <th>2020-07-10</th>\n",
       "      <th>...</th>\n",
       "      <th>2020-11-06</th>\n",
       "      <th>2020-11-07</th>\n",
       "      <th>2020-11-08</th>\n",
       "      <th>2020-11-09</th>\n",
       "      <th>2020-11-10</th>\n",
       "      <th>2020-11-11</th>\n",
       "      <th>2020-11-12</th>\n",
       "      <th>2020-11-13</th>\n",
       "      <th>2020-11-14</th>\n",
       "      <th>2020-11-15</th>\n",
       "    </tr>\n",
       "    <tr>\n",
       "      <th>state</th>\n",
       "      <th></th>\n",
       "      <th></th>\n",
       "      <th></th>\n",
       "      <th></th>\n",
       "      <th></th>\n",
       "      <th></th>\n",
       "      <th></th>\n",
       "      <th></th>\n",
       "      <th></th>\n",
       "      <th></th>\n",
       "      <th></th>\n",
       "      <th></th>\n",
       "      <th></th>\n",
       "      <th></th>\n",
       "      <th></th>\n",
       "      <th></th>\n",
       "      <th></th>\n",
       "      <th></th>\n",
       "      <th></th>\n",
       "      <th></th>\n",
       "      <th></th>\n",
       "    </tr>\n",
       "  </thead>\n",
       "  <tbody>\n",
       "    <tr>\n",
       "      <th>Tripura</th>\n",
       "      <td>0</td>\n",
       "      <td>39</td>\n",
       "      <td>93</td>\n",
       "      <td>25</td>\n",
       "      <td>23</td>\n",
       "      <td>111</td>\n",
       "      <td>24</td>\n",
       "      <td>57</td>\n",
       "      <td>16</td>\n",
       "      <td>142</td>\n",
       "      <td>...</td>\n",
       "      <td>110</td>\n",
       "      <td>87</td>\n",
       "      <td>83</td>\n",
       "      <td>26</td>\n",
       "      <td>79</td>\n",
       "      <td>84</td>\n",
       "      <td>59</td>\n",
       "      <td>76</td>\n",
       "      <td>78</td>\n",
       "      <td>26</td>\n",
       "    </tr>\n",
       "    <tr>\n",
       "      <th>Andaman and Nicobar Islands</th>\n",
       "      <td>0</td>\n",
       "      <td>9</td>\n",
       "      <td>7</td>\n",
       "      <td>3</td>\n",
       "      <td>6</td>\n",
       "      <td>16</td>\n",
       "      <td>6</td>\n",
       "      <td>2</td>\n",
       "      <td>7</td>\n",
       "      <td>0</td>\n",
       "      <td>...</td>\n",
       "      <td>17</td>\n",
       "      <td>21</td>\n",
       "      <td>9</td>\n",
       "      <td>13</td>\n",
       "      <td>14</td>\n",
       "      <td>17</td>\n",
       "      <td>13</td>\n",
       "      <td>11</td>\n",
       "      <td>9</td>\n",
       "      <td>0</td>\n",
       "    </tr>\n",
       "    <tr>\n",
       "      <th>Puducherry</th>\n",
       "      <td>0</td>\n",
       "      <td>63</td>\n",
       "      <td>22</td>\n",
       "      <td>80</td>\n",
       "      <td>42</td>\n",
       "      <td>65</td>\n",
       "      <td>30</td>\n",
       "      <td>110</td>\n",
       "      <td>49</td>\n",
       "      <td>72</td>\n",
       "      <td>...</td>\n",
       "      <td>125</td>\n",
       "      <td>69</td>\n",
       "      <td>94</td>\n",
       "      <td>62</td>\n",
       "      <td>100</td>\n",
       "      <td>114</td>\n",
       "      <td>65</td>\n",
       "      <td>73</td>\n",
       "      <td>47</td>\n",
       "      <td>0</td>\n",
       "    </tr>\n",
       "    <tr>\n",
       "      <th>Maharashtra</th>\n",
       "      <td>0</td>\n",
       "      <td>6328</td>\n",
       "      <td>6364</td>\n",
       "      <td>7074</td>\n",
       "      <td>6555</td>\n",
       "      <td>5368</td>\n",
       "      <td>5134</td>\n",
       "      <td>6603</td>\n",
       "      <td>6875</td>\n",
       "      <td>7862</td>\n",
       "      <td>...</td>\n",
       "      <td>6870</td>\n",
       "      <td>3959</td>\n",
       "      <td>5585</td>\n",
       "      <td>3277</td>\n",
       "      <td>3791</td>\n",
       "      <td>4907</td>\n",
       "      <td>4496</td>\n",
       "      <td>4132</td>\n",
       "      <td>4237</td>\n",
       "      <td>0</td>\n",
       "    </tr>\n",
       "    <tr>\n",
       "      <th>Manipur</th>\n",
       "      <td>0</td>\n",
       "      <td>19</td>\n",
       "      <td>37</td>\n",
       "      <td>9</td>\n",
       "      <td>41</td>\n",
       "      <td>24</td>\n",
       "      <td>40</td>\n",
       "      <td>5</td>\n",
       "      <td>15</td>\n",
       "      <td>132</td>\n",
       "      <td>...</td>\n",
       "      <td>166</td>\n",
       "      <td>240</td>\n",
       "      <td>245</td>\n",
       "      <td>182</td>\n",
       "      <td>219</td>\n",
       "      <td>180</td>\n",
       "      <td>254</td>\n",
       "      <td>214</td>\n",
       "      <td>211</td>\n",
       "      <td>0</td>\n",
       "    </tr>\n",
       "  </tbody>\n",
       "</table>\n",
       "<p>5 rows × 138 columns</p>\n",
       "</div>"
      ],
      "text/plain": [
       "states                       2020-07-01  2020-07-02  2020-07-03  2020-07-04  \\\n",
       "state                                                                         \n",
       "Tripura                               0          39          93          25   \n",
       "Andaman and Nicobar Islands           0           9           7           3   \n",
       "Puducherry                            0          63          22          80   \n",
       "Maharashtra                           0        6328        6364        7074   \n",
       "Manipur                               0          19          37           9   \n",
       "\n",
       "states                       2020-07-05  2020-07-06  2020-07-07  2020-07-08  \\\n",
       "state                                                                         \n",
       "Tripura                              23         111          24          57   \n",
       "Andaman and Nicobar Islands           6          16           6           2   \n",
       "Puducherry                           42          65          30         110   \n",
       "Maharashtra                        6555        5368        5134        6603   \n",
       "Manipur                              41          24          40           5   \n",
       "\n",
       "states                       2020-07-09  2020-07-10  ...  2020-11-06  \\\n",
       "state                                                ...               \n",
       "Tripura                              16         142  ...         110   \n",
       "Andaman and Nicobar Islands           7           0  ...          17   \n",
       "Puducherry                           49          72  ...         125   \n",
       "Maharashtra                        6875        7862  ...        6870   \n",
       "Manipur                              15         132  ...         166   \n",
       "\n",
       "states                       2020-11-07  2020-11-08  2020-11-09  2020-11-10  \\\n",
       "state                                                                         \n",
       "Tripura                              87          83          26          79   \n",
       "Andaman and Nicobar Islands          21           9          13          14   \n",
       "Puducherry                           69          94          62         100   \n",
       "Maharashtra                        3959        5585        3277        3791   \n",
       "Manipur                             240         245         182         219   \n",
       "\n",
       "states                       2020-11-11  2020-11-12  2020-11-13  2020-11-14  \\\n",
       "state                                                                         \n",
       "Tripura                              84          59          76          78   \n",
       "Andaman and Nicobar Islands          17          13          11           9   \n",
       "Puducherry                          114          65          73          47   \n",
       "Maharashtra                        4907        4496        4132        4237   \n",
       "Manipur                             180         254         214         211   \n",
       "\n",
       "states                       2020-11-15  \n",
       "state                                    \n",
       "Tripura                              26  \n",
       "Andaman and Nicobar Islands           0  \n",
       "Puducherry                            0  \n",
       "Maharashtra                           0  \n",
       "Manipur                               0  \n",
       "\n",
       "[5 rows x 138 columns]"
      ]
     },
     "execution_count": 18,
     "metadata": {},
     "output_type": "execute_result"
    }
   ],
   "source": [
    "#hide\n",
    "dft_ct_new_cases.head()"
   ]
  },
  {
   "cell_type": "code",
   "execution_count": 19,
   "metadata": {
    "execution": {
     "iopub.execute_input": "2020-11-15T05:51:51.107749Z",
     "iopub.status.busy": "2020-11-15T05:51:51.087463Z",
     "iopub.status.idle": "2020-11-15T05:51:56.126001Z",
     "shell.execute_reply": "2020-11-15T05:51:56.126555Z"
    },
    "papermill": {
     "duration": 5.070648,
     "end_time": "2020-11-15T05:51:56.126720",
     "exception": false,
     "start_time": "2020-11-15T05:51:51.056072",
     "status": "completed"
    },
    "tags": []
   },
   "outputs": [
    {
     "data": {
      "image/png": "[encoded data removed]",
      "text/plain": [
       "<Figure size 1296x2016 with 11 Axes>"
      ]
     },
     "metadata": {
      "needs_background": "light"
     },
     "output_type": "display_data"
    }
   ],
   "source": [
    "#hide_input\n",
    "df = dft_ct_new_cases.copy()\n",
    "df.loc['Total'] = df.sum()\n",
    "n = 5\n",
    "ax = []\n",
    "fig = plt.figure(figsize = (18,28))\n",
    "gs = fig.add_gridspec(n+2, 5)\n",
    "# gs = fig.add_gridspec(2, 3)\n",
    "ax1 = fig.add_subplot(gs[0, :])\n",
    "ef = df.loc['Total'].rename_axis('date').reset_index()\n",
    "ef['date'] = ef['date'].astype('datetime64[ns]')\n",
    "ax1.bar(ef.date,ef.Total,alpha=0.3,color='#007acc')\n",
    "ax1.plot(ef.date,ef.Total , marker=\"o\", color='#007acc')\n",
    "ax1.xaxis.set_major_locator(mdates.WeekdayLocator())\n",
    "ax1.xaxis.set_major_formatter(mdates.DateFormatter('%b %d'))\n",
    "ax1.text(0.02, 0.5,'India daily case count', transform = ax1.transAxes, fontsize=25);\n",
    "ax1.spines['right'].set_visible(False)\n",
    "ax1.spines['top'].set_visible(False)\n",
    "\n",
    "ax2 = fig.add_subplot(gs[1,0])\n",
    "ef = df.loc['Maharashtra'].rename_axis('date').reset_index()\n",
    "ef['date'] = ef['date'].astype('datetime64[ns]')\n",
    "\n",
    "ax2.bar(ef.date, ef.Maharashtra,color = '#007acc',alpha=0.5)\n",
    "ax2.xaxis.set_major_locator(mdates.WeekdayLocator())\n",
    "ax2.xaxis.set_major_formatter(mdates.DateFormatter('%b %d'))\n",
    "ax2.set_xticks(ax2.get_xticks()[::3])\n",
    "maxyval = ef.Maharashtra.max()\n",
    "ax2.set_ylim([0,maxyval])\n",
    "ax2.text(0.05, 0.9,'Maharashtra', transform = ax2.transAxes, fontsize=20);\n",
    "ax2.spines['right'].set_visible(False)\n",
    "ax2.spines['top'].set_visible(False)\n",
    "\n",
    "\n",
    "ax3 = fig.add_subplot(gs[1,1])\n",
    "ef = df.loc['Tamil Nadu'].rename_axis('date').reset_index()\n",
    "ef['date'] = ef['date'].astype('datetime64[ns]')\n",
    "ax3.bar(ef.date, ef['Tamil Nadu'],color = '#007acc',alpha=0.5,)\n",
    "ax3.xaxis.set_major_locator(mdates.WeekdayLocator())\n",
    "ax3.xaxis.set_major_formatter(mdates.DateFormatter('%b %d'))\n",
    "ax3.set_xticks(ax3.get_xticks()[::3])\n",
    "ax3.text(0.05, 0.9,'Tamil Nadu', transform = ax3.transAxes, fontsize=20);\n",
    "ax3.spines['right'].set_visible(False)\n",
    "ax3.spines['top'].set_visible(False)\n",
    "\n",
    "ax5 = fig.add_subplot(gs[1,3])\n",
    "ef = df.loc['Telangana'].rename_axis('date').reset_index()\n",
    "ef['date'] = ef['date'].astype('datetime64[ns]')\n",
    "ax5.bar(ef.date, ef['Telangana'],color = '#007acc',alpha=0.5,)\n",
    "ax5.xaxis.set_major_locator(mdates.WeekdayLocator())\n",
    "ax5.xaxis.set_major_formatter(mdates.DateFormatter('%b %d'))\n",
    "ax5.set_xticks(ax5.get_xticks()[::3])\n",
    "ax5.text(0.05, 0.9,'Telangana', transform = ax5.transAxes, fontsize=20);\n",
    "ax5.spines['right'].set_visible(False)\n",
    "ax5.spines['top'].set_visible(False)\n",
    "\n",
    "ax6 = fig.add_subplot(gs[1,4])\n",
    "ef = df.loc['Andhra Pradesh'].rename_axis('date').reset_index()\n",
    "ef['date'] = ef['date'].astype('datetime64[ns]')\n",
    "ax6.bar(ef.date, ef['Andhra Pradesh'],color = '#007acc',alpha=0.5,)\n",
    "ax6.xaxis.set_major_locator(mdates.WeekdayLocator())\n",
    "ax6.xaxis.set_major_formatter(mdates.DateFormatter('%b %d'))\n",
    "ax6.set_xticks(ax6.get_xticks()[::3])\n",
    "ax6.text(0.05, 1,'Andhra Pradesh', transform = ax6.transAxes, fontsize=20);\n",
    "ax6.spines['right'].set_visible(False)\n",
    "ax6.spines['top'].set_visible(False)\n",
    "\n",
    "ax4 = fig.add_subplot(gs[1,2])\n",
    "ef = df.loc['Delhi'].rename_axis('date').reset_index()\n",
    "ef['date'] = ef['date'].astype('datetime64[ns]')\n",
    "ax4.bar(ef.date, ef.Delhi,color = '#007acc',alpha=0.5)\n",
    "ax4.set_xticks([])\n",
    "ax4.xaxis.set_major_locator(mdates.WeekdayLocator())\n",
    "ax4.xaxis.set_major_formatter(mdates.DateFormatter('%b %d'))\n",
    "ax4.set_xticks(ax4.get_xticks()[::3])\n",
    "ax4.spines['right'].set_visible(False)\n",
    "ax4.spines['top'].set_visible(False)\n",
    "\n",
    "ax4.text(0.05, 1,'Delhi', transform = ax4.transAxes, fontsize=20)\n",
    "\n",
    "for i in range(n):\n",
    "    \n",
    "    ax.append(fig.add_subplot(gs[i+2,:]))\n",
    "    ef = df.iloc[i+3].rename_axis('date').reset_index()\n",
    "    ef['date'] = ef['date'].astype('datetime64[ns]')\n",
    "    ax[i].bar(ef.date,ef.iloc[:,-1],color = '#007acc',alpha=0.3)\n",
    "    ax[i].plot(ef.date,ef.iloc[:,-1],marker='o',color='#007acc')\n",
    "    ax[i].text(0.02,0.5,f'{ef.columns.values[-1]}',transform = ax[i].transAxes, fontsize = 20);\n",
    "    ax[i].xaxis.set_major_locator(mdates.WeekdayLocator())\n",
    "    ax[i].xaxis.set_major_formatter(mdates.DateFormatter('%b %d'))\n",
    "    ax[i].set_ylim([0,7000])\n",
    "    ax[i].spines['right'].set_visible(False)\n",
    "    ax[i].spines['top'].set_visible(False)\n",
    "plt.tight_layout()\n"
   ]
  },
  {
   "cell_type": "code",
   "execution_count": 20,
   "metadata": {
    "execution": {
     "iopub.execute_input": "2020-11-15T05:51:56.180775Z",
     "iopub.status.busy": "2020-11-15T05:51:56.180142Z",
     "iopub.status.idle": "2020-11-15T05:51:56.182435Z",
     "shell.execute_reply": "2020-11-15T05:51:56.183008Z"
    },
    "papermill": {
     "duration": 0.034011,
     "end_time": "2020-11-15T05:51:56.183162",
     "exception": false,
     "start_time": "2020-11-15T05:51:56.149151",
     "status": "completed"
    },
    "tags": []
   },
   "outputs": [
    {
     "name": "stdout",
     "output_type": "stream",
     "text": [
      "                                   states    Cases  Deaths   PCases  PDeaths  Cases (+)  Deaths (+)  Fatality Rate\n",
      "                              Maharashtra  1744698   45914  1744698    45914          0           0           2.63\n",
      "                                Karnataka   860082   11508   860082    11508          0           0           1.34\n",
      "                           Andhra Pradesh   852955    6854   852955     6854          0           0           0.80\n",
      "                               Tamil Nadu   756372   11466   756372    11466          0           0           1.52\n",
      "                                   Kerala   520418    1848   520418     1848          0           0           0.36\n",
      "                            Uttar Pradesh   509903    7354   509903     7354          0           0           1.44\n",
      "                                    Delhi   482170    7519   482170     7519          0           0           1.56\n",
      "                              West Bengal   428498    7610   428498     7610          0           0           1.78\n",
      "                                   Odisha   307906    1563   307906     1563          0           0           0.51\n",
      "                                Telangana   256713    1401   256713     1401          0           0           0.55\n",
      "                                    Bihar   226669    1179   226669     1179          0           0           0.52\n",
      "                                Rajasthan   223633    2056   223633     2056          0           0           0.92\n",
      "                                    Assam   210175     962   210175      962          0           0           0.46\n",
      "                             Chhattisgarh   210004    2562   210004     2562          0           0           1.22\n",
      "                                  Haryana   197917    2011   197917     2011          0           0           1.02\n",
      "                                  Gujarat   187240    3797   187240     3797          0           0           2.03\n",
      "                           Madhya Pradesh   183057    3083   183057     3083          0           0           1.68\n",
      "                                   Punjab   140605    4428   140605     4428          0           0           3.15\n",
      "                                Jharkhand   105935     922   105935      922          0           0           0.87\n",
      "                        Jammu and Kashmir   102159    1580   102159     1580          0           0           1.55\n",
      "                              Uttarakhand    68002    1102    68002     1102          0           0           1.62\n",
      "                                      Goa    45845     659    45845      659          0           0           1.44\n",
      "                               Puducherry    36299     608    36299      608          0           0           1.67\n",
      "                                  Tripura    31942     359    31916      359         26           0           1.12\n",
      "                         Himachal Pradesh    29330     424    29330      424          0           0           1.45\n",
      "                                  Manipur    21636     218    21636      218          0           0           1.01\n",
      "                        Arunachal Pradesh    15792      48    15792       48          0           0           0.30\n",
      "                               Chandigarh    15636     246    15636      246          0           0           1.57\n",
      "                                Meghalaya    10633     100    10633      100          0           0           0.94\n",
      "                                 Nagaland     9750      52     9750       52          0           0           0.53\n",
      "                                   Ladakh     7356      89     7356       89          0           0           1.21\n",
      "              Andaman and Nicobar Islands     4527      61     4527       61          0           0           1.35\n",
      "                                   Sikkim     4457      87     4457       87          0           0           1.95\n",
      "                                  Mizoram     3368       3     3368        3          0           0           0.09\n",
      " Dadra and Nagar Haveli and Daman and Diu     3280       2     3280        2          0           0           0.06\n",
      "                              Lakshadweep        0       0        0        0          0           0            NaN\n"
     ]
    }
   ],
   "source": [
    "#hide_input\n",
    "print(df_table.to_string(index=False))"
   ]
  },
  {
   "cell_type": "code",
   "execution_count": null,
   "metadata": {
    "papermill": {
     "duration": 0.022915,
     "end_time": "2020-11-15T05:51:56.230382",
     "exception": false,
     "start_time": "2020-11-15T05:51:56.207467",
     "status": "completed"
    },
    "tags": []
   },
   "outputs": [],
   "source": []
  },
  {
   "cell_type": "code",
   "execution_count": null,
   "metadata": {
    "papermill": {
     "duration": 0.024906,
     "end_time": "2020-11-15T05:51:56.279670",
     "exception": false,
     "start_time": "2020-11-15T05:51:56.254764",
     "status": "completed"
    },
    "tags": []
   },
   "outputs": [],
   "source": []
  }
 ],
 "metadata": {
  "kernelspec": {
   "display_name": "Python 3",
   "language": "python",
   "name": "python3"
  },
  "language_info": {
   "codemirror_mode": {
    "name": "ipython",
    "version": 3
   },
   "file_extension": ".py",
   "mimetype": "text/x-python",
   "name": "python",
   "nbconvert_exporter": "python",
   "pygments_lexer": "ipython3",
   "version": "3.6.12"
  },
  "papermill": {
   "duration": 12.289365,
   "end_time": "2020-11-15T05:51:56.812282",
   "environment_variables": {},
   "exception": null,
   "input_path": "latest.ipynb",
   "output_path": "latest.ipynb",
   "parameters": {},
   "start_time": "2020-11-15T05:51:44.522917",
   "version": "2.1.2"
  }
 },
 "nbformat": 4,
 "nbformat_minor": 4
}