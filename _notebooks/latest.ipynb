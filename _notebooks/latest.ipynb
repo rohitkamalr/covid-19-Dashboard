{
 "cells": [
  {
   "cell_type": "markdown",
   "metadata": {
    "papermill": {
     "duration": 0.018374,
     "end_time": "2020-08-20T07:19:14.405003",
     "exception": false,
     "start_time": "2020-08-20T07:19:14.386629",
     "status": "completed"
    },
    "tags": []
   },
   "source": [
    "# Latest COVID-19 India Matplotlib Overview"
   ]
  },
  {
   "cell_type": "code",
   "execution_count": 1,
   "metadata": {
    "execution": {
     "iopub.execute_input": "2020-08-20T07:19:14.440751Z",
     "iopub.status.busy": "2020-08-20T07:19:14.440048Z",
     "iopub.status.idle": "2020-08-20T07:19:15.019265Z",
     "shell.execute_reply": "2020-08-20T07:19:15.018744Z"
    },
    "papermill": {
     "duration": 0.599447,
     "end_time": "2020-08-20T07:19:15.019431",
     "exception": false,
     "start_time": "2020-08-20T07:19:14.419984",
     "status": "completed"
    },
    "tags": []
   },
   "outputs": [],
   "source": [
    "#hide\n",
    "import pandas as pd\n",
    "import numpy as np\n",
    "import requests\n",
    "import json\n",
    "import matplotlib.pyplot as plt\n",
    "import matplotlib.dates as mdates\n",
    "import matplotlib as mpl\n",
    "from IPython.core.display import display,HTML\n",
    "%matplotlib inline\n",
    "from datetime import date"
   ]
  },
  {
   "cell_type": "code",
   "execution_count": 2,
   "metadata": {
    "execution": {
     "iopub.execute_input": "2020-08-20T07:19:15.056362Z",
     "iopub.status.busy": "2020-08-20T07:19:15.055391Z",
     "iopub.status.idle": "2020-08-20T07:19:15.202113Z",
     "shell.execute_reply": "2020-08-20T07:19:15.202821Z"
    },
    "papermill": {
     "duration": 0.168692,
     "end_time": "2020-08-20T07:19:15.202986",
     "exception": false,
     "start_time": "2020-08-20T07:19:15.034294",
     "status": "completed"
    },
    "tags": []
   },
   "outputs": [],
   "source": [
    "#hide\n",
    "df  = pd.read_csv('https://api.covid19india.org/csv/latest/states.csv')\n",
    "df = df[['Date','State','Confirmed','Deceased']]\n",
    "df = df.rename(columns={'Confirmed':'Cases', \"Deceased\":'Deaths'})\n",
    "df_cases = df[[\"Date\",'State','Cases']]\n",
    "df_deaths = df[['Date','State','Deaths']]\n",
    "df_cases1 = df_cases.groupby('Date')\n",
    "df_deaths1= df_deaths.groupby('Date')"
   ]
  },
  {
   "cell_type": "code",
   "execution_count": 3,
   "metadata": {
    "execution": {
     "iopub.execute_input": "2020-08-20T07:19:15.239328Z",
     "iopub.status.busy": "2020-08-20T07:19:15.238745Z",
     "iopub.status.idle": "2020-08-20T07:19:15.255423Z",
     "shell.execute_reply": "2020-08-20T07:19:15.254951Z"
    },
    "papermill": {
     "duration": 0.03789,
     "end_time": "2020-08-20T07:19:15.255550",
     "exception": false,
     "start_time": "2020-08-20T07:19:15.217660",
     "status": "completed"
    },
    "tags": []
   },
   "outputs": [],
   "source": [
    "#hide\n",
    "df_snap = pd.read_csv('data/SnapshotCases-28-July.csv')\n",
    "arr_states = df_snap['states'].unique()\n",
    "arr_dates = df['Date'].unique()\n",
    "df_snap = df_snap.set_index('states')"
   ]
  },
  {
   "cell_type": "code",
   "execution_count": 4,
   "metadata": {
    "execution": {
     "iopub.execute_input": "2020-08-20T07:19:15.291239Z",
     "iopub.status.busy": "2020-08-20T07:19:15.290656Z",
     "iopub.status.idle": "2020-08-20T07:19:15.293715Z",
     "shell.execute_reply": "2020-08-20T07:19:15.293248Z"
    },
    "papermill": {
     "duration": 0.023135,
     "end_time": "2020-08-20T07:19:15.293834",
     "exception": false,
     "start_time": "2020-08-20T07:19:15.270699",
     "status": "completed"
    },
    "tags": []
   },
   "outputs": [
    {
     "data": {
      "text/plain": [
       "array(['Andaman and Nicobar Islands', 'Andhra Pradesh',\n",
       "       'Arunachal Pradesh', 'Assam', 'Bihar', 'Chandigarh',\n",
       "       'Dadra and Nagar Haveli and Daman and Diu', 'Delhi', 'Goa',\n",
       "       'Gujarat', 'Haryana', 'Himachal Pradesh', 'Jammu and Kashmir',\n",
       "       'Jharkhand', 'Karnataka', 'Kerala', 'Lakshadweep',\n",
       "       'Madhya Pradesh', 'Maharashtra', 'Manipur', 'Meghalaya', 'Mizoram',\n",
       "       'Nagaland', 'Odisha', 'Puducherry', 'Punjab', 'Rajasthan',\n",
       "       'Sikkim', 'Tamil Nadu', 'Telangana', 'Tripura', 'Uttar Pradesh',\n",
       "       'West Bengal', 'Chhattisgarh', 'Ladakh', 'Uttarakhand'],\n",
       "      dtype=object)"
      ]
     },
     "execution_count": 4,
     "metadata": {},
     "output_type": "execute_result"
    }
   ],
   "source": [
    "#hide\n",
    "arr_states[-9] = 'Puducherry'\n",
    "arr_states[-10] = 'Odisha'\n",
    "arr_states[6] = 'Dadra and Nagar Haveli and Daman and Diu'\n",
    "arr_states = np.append(arr_states,np.array(['Chhattisgarh','Ladakh','Uttarakhand']))\n",
    "arr_states"
   ]
  },
  {
   "cell_type": "code",
   "execution_count": 5,
   "metadata": {
    "execution": {
     "iopub.execute_input": "2020-08-20T07:19:15.331966Z",
     "iopub.status.busy": "2020-08-20T07:19:15.331386Z",
     "iopub.status.idle": "2020-08-20T07:19:15.338926Z",
     "shell.execute_reply": "2020-08-20T07:19:15.339462Z"
    },
    "papermill": {
     "duration": 0.030304,
     "end_time": "2020-08-20T07:19:15.339596",
     "exception": false,
     "start_time": "2020-08-20T07:19:15.309292",
     "status": "completed"
    },
    "tags": []
   },
   "outputs": [],
   "source": [
    "#hide\n",
    "dates = []\n",
    "for i in arr_dates:\n",
    "    if i>='2020-07-01':\n",
    "        dates.append(i)\n",
    "dict = {'states':dates}\n",
    "for i in arr_states:\n",
    "    dict[i] = [0]*len(dates)\n",
    "dft_cases = pd.DataFrame(dict)\n",
    "dft_deaths = pd.DataFrame(dict)\n"
   ]
  },
  {
   "cell_type": "code",
   "execution_count": 6,
   "metadata": {
    "execution": {
     "iopub.execute_input": "2020-08-20T07:19:15.375440Z",
     "iopub.status.busy": "2020-08-20T07:19:15.374797Z",
     "iopub.status.idle": "2020-08-20T07:19:16.200337Z",
     "shell.execute_reply": "2020-08-20T07:19:16.200821Z"
    },
    "papermill": {
     "duration": 0.846011,
     "end_time": "2020-08-20T07:19:16.200989",
     "exception": false,
     "start_time": "2020-08-20T07:19:15.354978",
     "status": "completed"
    },
    "tags": []
   },
   "outputs": [],
   "source": [
    "#hide\n",
    "for i in range(len(dates)):\n",
    "    df1_deaths = df_deaths1.get_group(dates[i])\n",
    "    for j in range(len(df1_deaths.index)):\n",
    "        if df1_deaths.iloc[j,1] in arr_states:\n",
    "            dft_deaths.loc[i,df1_deaths.iloc[j,1]] = df1_deaths.iloc[j,2]\n",
    "dft_deaths = dft_deaths.set_index('states')"
   ]
  },
  {
   "cell_type": "code",
   "execution_count": 7,
   "metadata": {
    "execution": {
     "iopub.execute_input": "2020-08-20T07:19:16.239464Z",
     "iopub.status.busy": "2020-08-20T07:19:16.238840Z",
     "iopub.status.idle": "2020-08-20T07:19:17.074058Z",
     "shell.execute_reply": "2020-08-20T07:19:17.073468Z"
    },
    "papermill": {
     "duration": 0.856476,
     "end_time": "2020-08-20T07:19:17.074203",
     "exception": false,
     "start_time": "2020-08-20T07:19:16.217727",
     "status": "completed"
    },
    "tags": []
   },
   "outputs": [],
   "source": [
    "#hide\n",
    "for i in range(len(dates)):\n",
    "    df1_cases = df_cases1.get_group(dates[i])\n",
    "    for j in range(len(df1_cases.index)):\n",
    "        if df1_cases.iloc[j,1] in arr_states:\n",
    "            dft_cases.loc[i,df1_cases.iloc[j,1]] = df1_cases.iloc[j,2]\n",
    "dft_cases = dft_cases.set_index('states')"
   ]
  },
  {
   "cell_type": "code",
   "execution_count": 8,
   "metadata": {
    "execution": {
     "iopub.execute_input": "2020-08-20T07:19:17.112086Z",
     "iopub.status.busy": "2020-08-20T07:19:17.111505Z",
     "iopub.status.idle": "2020-08-20T07:19:17.114028Z",
     "shell.execute_reply": "2020-08-20T07:19:17.113460Z"
    },
    "papermill": {
     "duration": 0.024092,
     "end_time": "2020-08-20T07:19:17.114149",
     "exception": false,
     "start_time": "2020-08-20T07:19:17.090057",
     "status": "completed"
    },
    "tags": []
   },
   "outputs": [],
   "source": [
    "#hide\n",
    "dft_cases = dft_cases.T\n",
    "dft_deaths = dft_deaths.T\n",
    "dt_today = dates[-1]\n",
    "dt_yday = dates[-2]"
   ]
  },
  {
   "cell_type": "code",
   "execution_count": 9,
   "metadata": {
    "execution": {
     "iopub.execute_input": "2020-08-20T07:19:17.154048Z",
     "iopub.status.busy": "2020-08-20T07:19:17.153470Z",
     "iopub.status.idle": "2020-08-20T07:19:17.156231Z",
     "shell.execute_reply": "2020-08-20T07:19:17.155232Z"
    },
    "papermill": {
     "duration": 0.026978,
     "end_time": "2020-08-20T07:19:17.156442",
     "exception": false,
     "start_time": "2020-08-20T07:19:17.129464",
     "status": "completed"
    },
    "tags": []
   },
   "outputs": [],
   "source": [
    "#hide\n",
    "dft_cases = dft_cases.reset_index()\n",
    "dft_deaths = dft_deaths.reset_index()\n",
    "dft_cases = dft_cases.rename(columns = {'index':'state'})\n",
    "dft_deaths = dft_deaths.rename(columns = {'index':'state'})"
   ]
  },
  {
   "cell_type": "code",
   "execution_count": 10,
   "metadata": {
    "execution": {
     "iopub.execute_input": "2020-08-20T07:19:17.199052Z",
     "iopub.status.busy": "2020-08-20T07:19:17.198465Z",
     "iopub.status.idle": "2020-08-20T07:19:17.200688Z",
     "shell.execute_reply": "2020-08-20T07:19:17.200201Z"
    },
    "papermill": {
     "duration": 0.026882,
     "end_time": "2020-08-20T07:19:17.200803",
     "exception": false,
     "start_time": "2020-08-20T07:19:17.173921",
     "status": "completed"
    },
    "tags": []
   },
   "outputs": [],
   "source": [
    "#hide\n",
    "dfc_cases = dft_cases.groupby('state')[dt_today].sum()\n",
    "dfc_deaths = dft_deaths.groupby('state')[dt_today].sum()\n",
    "dfp_cases = dft_cases.groupby('state')[dt_yday].sum()\n",
    "dfp_deaths = dft_deaths.groupby('state')[dt_yday].sum()"
   ]
  },
  {
   "cell_type": "code",
   "execution_count": 11,
   "metadata": {
    "execution": {
     "iopub.execute_input": "2020-08-20T07:19:17.238298Z",
     "iopub.status.busy": "2020-08-20T07:19:17.237536Z",
     "iopub.status.idle": "2020-08-20T07:19:17.250962Z",
     "shell.execute_reply": "2020-08-20T07:19:17.250438Z"
    },
    "papermill": {
     "duration": 0.034263,
     "end_time": "2020-08-20T07:19:17.251078",
     "exception": false,
     "start_time": "2020-08-20T07:19:17.216815",
     "status": "completed"
    },
    "tags": []
   },
   "outputs": [
    {
     "data": {
      "text/html": [
       "<div>\n",
       "<style scoped>\n",
       "    .dataframe tbody tr th:only-of-type {\n",
       "        vertical-align: middle;\n",
       "    }\n",
       "\n",
       "    .dataframe tbody tr th {\n",
       "        vertical-align: top;\n",
       "    }\n",
       "\n",
       "    .dataframe thead th {\n",
       "        text-align: right;\n",
       "    }\n",
       "</style>\n",
       "<table border=\"1\" class=\"dataframe\">\n",
       "  <thead>\n",
       "    <tr style=\"text-align: right;\">\n",
       "      <th></th>\n",
       "      <th>states</th>\n",
       "      <th>Cases</th>\n",
       "      <th>Deaths</th>\n",
       "      <th>PCases</th>\n",
       "      <th>PDeaths</th>\n",
       "    </tr>\n",
       "  </thead>\n",
       "  <tbody>\n",
       "    <tr>\n",
       "      <th>0</th>\n",
       "      <td>Maharashtra</td>\n",
       "      <td>628642</td>\n",
       "      <td>21033</td>\n",
       "      <td>628642</td>\n",
       "      <td>21033</td>\n",
       "    </tr>\n",
       "    <tr>\n",
       "      <th>1</th>\n",
       "      <td>Tamil Nadu</td>\n",
       "      <td>355449</td>\n",
       "      <td>6123</td>\n",
       "      <td>355449</td>\n",
       "      <td>6123</td>\n",
       "    </tr>\n",
       "    <tr>\n",
       "      <th>2</th>\n",
       "      <td>Andhra Pradesh</td>\n",
       "      <td>316003</td>\n",
       "      <td>2906</td>\n",
       "      <td>316003</td>\n",
       "      <td>2906</td>\n",
       "    </tr>\n",
       "    <tr>\n",
       "      <th>3</th>\n",
       "      <td>Karnataka</td>\n",
       "      <td>249590</td>\n",
       "      <td>4327</td>\n",
       "      <td>249590</td>\n",
       "      <td>4327</td>\n",
       "    </tr>\n",
       "    <tr>\n",
       "      <th>4</th>\n",
       "      <td>Uttar Pradesh</td>\n",
       "      <td>167510</td>\n",
       "      <td>2638</td>\n",
       "      <td>167510</td>\n",
       "      <td>2638</td>\n",
       "    </tr>\n",
       "  </tbody>\n",
       "</table>\n",
       "</div>"
      ],
      "text/plain": [
       "           states   Cases  Deaths  PCases  PDeaths\n",
       "0     Maharashtra  628642   21033  628642    21033\n",
       "1      Tamil Nadu  355449    6123  355449     6123\n",
       "2  Andhra Pradesh  316003    2906  316003     2906\n",
       "3       Karnataka  249590    4327  249590     4327\n",
       "4   Uttar Pradesh  167510    2638  167510     2638"
      ]
     },
     "execution_count": 11,
     "metadata": {},
     "output_type": "execute_result"
    }
   ],
   "source": [
    "#hide\n",
    "df_table = pd.DataFrame({'states': dfc_cases.index, 'Cases': dfc_cases.values, 'Deaths': dfc_deaths.values, 'PCases': dfp_cases.values, 'PDeaths': dfp_deaths.values}).set_index('states')\n",
    "df_table = df_table.sort_values(by = ['Cases','Deaths'], ascending = [False, False])\n",
    "df_table = df_table.reset_index()\n",
    "df_table.head()"
   ]
  },
  {
   "cell_type": "code",
   "execution_count": 12,
   "metadata": {
    "execution": {
     "iopub.execute_input": "2020-08-20T07:19:17.286752Z",
     "iopub.status.busy": "2020-08-20T07:19:17.286146Z",
     "iopub.status.idle": "2020-08-20T07:19:17.294222Z",
     "shell.execute_reply": "2020-08-20T07:19:17.293734Z"
    },
    "papermill": {
     "duration": 0.027599,
     "end_time": "2020-08-20T07:19:17.294339",
     "exception": false,
     "start_time": "2020-08-20T07:19:17.266740",
     "status": "completed"
    },
    "tags": []
   },
   "outputs": [],
   "source": [
    "#hide\n",
    "for c in 'Cases, Deaths'.split(', '):\n",
    "    df_table[f'{c} (+)'] = (df_table[c] - df_table[f'P{c}']).clip(0)\n",
    "df_table['Fatality Rate'] = (100* df_table['Deaths']/ df_table['Cases']).round(2)"
   ]
  },
  {
   "cell_type": "code",
   "execution_count": 13,
   "metadata": {
    "execution": {
     "iopub.execute_input": "2020-08-20T07:19:17.334852Z",
     "iopub.status.busy": "2020-08-20T07:19:17.334241Z",
     "iopub.status.idle": "2020-08-20T07:19:17.338329Z",
     "shell.execute_reply": "2020-08-20T07:19:17.337757Z"
    },
    "papermill": {
     "duration": 0.028882,
     "end_time": "2020-08-20T07:19:17.338470",
     "exception": false,
     "start_time": "2020-08-20T07:19:17.309588",
     "status": "completed"
    },
    "tags": []
   },
   "outputs": [
    {
     "data": {
      "text/html": [
       "<div>\n",
       "<style scoped>\n",
       "    .dataframe tbody tr th:only-of-type {\n",
       "        vertical-align: middle;\n",
       "    }\n",
       "\n",
       "    .dataframe tbody tr th {\n",
       "        vertical-align: top;\n",
       "    }\n",
       "\n",
       "    .dataframe thead th {\n",
       "        text-align: right;\n",
       "    }\n",
       "</style>\n",
       "<table border=\"1\" class=\"dataframe\">\n",
       "  <thead>\n",
       "    <tr style=\"text-align: right;\">\n",
       "      <th></th>\n",
       "      <th>states</th>\n",
       "      <th>Cases</th>\n",
       "      <th>Deaths</th>\n",
       "      <th>PCases</th>\n",
       "      <th>PDeaths</th>\n",
       "      <th>Cases (+)</th>\n",
       "      <th>Deaths (+)</th>\n",
       "      <th>Fatality Rate</th>\n",
       "    </tr>\n",
       "  </thead>\n",
       "  <tbody>\n",
       "    <tr>\n",
       "      <th>0</th>\n",
       "      <td>Maharashtra</td>\n",
       "      <td>628642</td>\n",
       "      <td>21033</td>\n",
       "      <td>628642</td>\n",
       "      <td>21033</td>\n",
       "      <td>0</td>\n",
       "      <td>0</td>\n",
       "      <td>3.35</td>\n",
       "    </tr>\n",
       "    <tr>\n",
       "      <th>1</th>\n",
       "      <td>Tamil Nadu</td>\n",
       "      <td>355449</td>\n",
       "      <td>6123</td>\n",
       "      <td>355449</td>\n",
       "      <td>6123</td>\n",
       "      <td>0</td>\n",
       "      <td>0</td>\n",
       "      <td>1.72</td>\n",
       "    </tr>\n",
       "    <tr>\n",
       "      <th>2</th>\n",
       "      <td>Andhra Pradesh</td>\n",
       "      <td>316003</td>\n",
       "      <td>2906</td>\n",
       "      <td>316003</td>\n",
       "      <td>2906</td>\n",
       "      <td>0</td>\n",
       "      <td>0</td>\n",
       "      <td>0.92</td>\n",
       "    </tr>\n",
       "    <tr>\n",
       "      <th>3</th>\n",
       "      <td>Karnataka</td>\n",
       "      <td>249590</td>\n",
       "      <td>4327</td>\n",
       "      <td>249590</td>\n",
       "      <td>4327</td>\n",
       "      <td>0</td>\n",
       "      <td>0</td>\n",
       "      <td>1.73</td>\n",
       "    </tr>\n",
       "    <tr>\n",
       "      <th>4</th>\n",
       "      <td>Uttar Pradesh</td>\n",
       "      <td>167510</td>\n",
       "      <td>2638</td>\n",
       "      <td>167510</td>\n",
       "      <td>2638</td>\n",
       "      <td>0</td>\n",
       "      <td>0</td>\n",
       "      <td>1.57</td>\n",
       "    </tr>\n",
       "  </tbody>\n",
       "</table>\n",
       "</div>"
      ],
      "text/plain": [
       "           states   Cases  Deaths  PCases  PDeaths  Cases (+)  Deaths (+)  \\\n",
       "0     Maharashtra  628642   21033  628642    21033          0           0   \n",
       "1      Tamil Nadu  355449    6123  355449     6123          0           0   \n",
       "2  Andhra Pradesh  316003    2906  316003     2906          0           0   \n",
       "3       Karnataka  249590    4327  249590     4327          0           0   \n",
       "4   Uttar Pradesh  167510    2638  167510     2638          0           0   \n",
       "\n",
       "   Fatality Rate  \n",
       "0           3.35  \n",
       "1           1.72  \n",
       "2           0.92  \n",
       "3           1.73  \n",
       "4           1.57  "
      ]
     },
     "execution_count": 13,
     "metadata": {},
     "output_type": "execute_result"
    }
   ],
   "source": [
    "#hide\n",
    "df_table.head()"
   ]
  },
  {
   "cell_type": "code",
   "execution_count": 14,
   "metadata": {
    "execution": {
     "iopub.execute_input": "2020-08-20T07:19:17.377373Z",
     "iopub.status.busy": "2020-08-20T07:19:17.376792Z",
     "iopub.status.idle": "2020-08-20T07:19:17.392600Z",
     "shell.execute_reply": "2020-08-20T07:19:17.392099Z"
    },
    "papermill": {
     "duration": 0.037856,
     "end_time": "2020-08-20T07:19:17.392717",
     "exception": false,
     "start_time": "2020-08-20T07:19:17.354861",
     "status": "completed"
    },
    "tags": []
   },
   "outputs": [
    {
     "data": {
      "text/plain": [
       "{'updated': '2020-08-20',\n",
       " 'since': '2020-08-19',\n",
       " 'Cases': 2841337,\n",
       " 'PCases': 2835822,\n",
       " 'Deaths': 54017,\n",
       " 'PDeaths': 53994,\n",
       " 'Cases (+)': 5515,\n",
       " 'Deaths (+)': 23}"
      ]
     },
     "execution_count": 14,
     "metadata": {},
     "output_type": "execute_result"
    }
   ],
   "source": [
    "#hide\n",
    "summary = {'updated':dates[-1], 'since':dates[-2]}\n",
    "list_names = ['Cases', 'PCases', 'Deaths', 'PDeaths', 'Cases (+)', 'Deaths (+)']\n",
    "for name in list_names:\n",
    "    summary[name] = df_table.sum()[name]\n",
    "summary"
   ]
  },
  {
   "cell_type": "code",
   "execution_count": 15,
   "metadata": {
    "execution": {
     "iopub.execute_input": "2020-08-20T07:19:17.429018Z",
     "iopub.status.busy": "2020-08-20T07:19:17.428436Z",
     "iopub.status.idle": "2020-08-20T07:19:17.430837Z",
     "shell.execute_reply": "2020-08-20T07:19:17.430300Z"
    },
    "papermill": {
     "duration": 0.021723,
     "end_time": "2020-08-20T07:19:17.430966",
     "exception": false,
     "start_time": "2020-08-20T07:19:17.409243",
     "status": "completed"
    },
    "tags": []
   },
   "outputs": [],
   "source": [
    "#hide\n",
    "overview = '''\n",
    "<!-- #######  HTML!! #########-->\n",
    "<h1 style=\"color: #5e9ca0; text-align: center;\">India</h1>\n",
    "<p style=\"text-align: center;\">Last update: <strong>{update}</strong></p>\n",
    "<p style=\"text-align: center;\">Confirmed cases:</p>\n",
    "<p style=\"text-align: center;font-size:24px;\">{cases} (<span style=\"color: #ff0000;\">+{new}</span>)</p>\n",
    "<p style=\"text-align: center;\">Confirmed deaths:</p>\n",
    "<p style=\"text-align: center;font-size:24px;\">{deaths} (<span style=\"color: #ff0000;\">+{dnew}</span>)</p>\n",
    "'''"
   ]
  },
  {
   "cell_type": "code",
   "execution_count": 16,
   "metadata": {
    "execution": {
     "iopub.execute_input": "2020-08-20T07:19:17.467604Z",
     "iopub.status.busy": "2020-08-20T07:19:17.467017Z",
     "iopub.status.idle": "2020-08-20T07:19:17.469638Z",
     "shell.execute_reply": "2020-08-20T07:19:17.470145Z"
    },
    "papermill": {
     "duration": 0.023341,
     "end_time": "2020-08-20T07:19:17.470277",
     "exception": false,
     "start_time": "2020-08-20T07:19:17.446936",
     "status": "completed"
    },
    "tags": []
   },
   "outputs": [
    {
     "data": {
      "text/html": [
       "\n",
       "<!-- #######  HTML!! #########-->\n",
       "<h1 style=\"color: #5e9ca0; text-align: center;\">India</h1>\n",
       "<p style=\"text-align: center;\">Last update: <strong>2020-08-20</strong></p>\n",
       "<p style=\"text-align: center;\">Confirmed cases:</p>\n",
       "<p style=\"text-align: center;font-size:24px;\">2841337 (<span style=\"color: #ff0000;\">+5515</span>)</p>\n",
       "<p style=\"text-align: center;\">Confirmed deaths:</p>\n",
       "<p style=\"text-align: center;font-size:24px;\">54017 (<span style=\"color: #ff0000;\">+23</span>)</p>\n"
      ],
      "text/plain": [
       "<IPython.core.display.HTML object>"
      ]
     },
     "metadata": {},
     "output_type": "display_data"
    }
   ],
   "source": [
    "#hide_input\n",
    "update = summary['updated']\n",
    "cases = summary['Cases']\n",
    "new = summary['Cases (+)']\n",
    "deaths = summary['Deaths']\n",
    "dnew = summary['Deaths (+)']\n",
    "\n",
    "html = HTML(overview.format(update=update, cases=cases,new=new,deaths=deaths,dnew=dnew))\n",
    "\n",
    "display(html)"
   ]
  },
  {
   "cell_type": "code",
   "execution_count": 17,
   "metadata": {
    "execution": {
     "iopub.execute_input": "2020-08-20T07:19:17.511023Z",
     "iopub.status.busy": "2020-08-20T07:19:17.510356Z",
     "iopub.status.idle": "2020-08-20T07:19:17.515493Z",
     "shell.execute_reply": "2020-08-20T07:19:17.514954Z"
    },
    "papermill": {
     "duration": 0.028364,
     "end_time": "2020-08-20T07:19:17.515609",
     "exception": false,
     "start_time": "2020-08-20T07:19:17.487245",
     "status": "completed"
    },
    "tags": []
   },
   "outputs": [],
   "source": [
    "#hide\n",
    "dt_cols = list(dft_cases.columns[1:])\n",
    "dft_ct_new_cases = dft_cases.groupby('state')[dt_cols].sum().diff(axis=1).fillna(0).astype(int)\n",
    "dft_ct_new_cases.sort_values(by = dates[-1], ascending = False,inplace = True)"
   ]
  },
  {
   "cell_type": "code",
   "execution_count": 18,
   "metadata": {
    "execution": {
     "iopub.execute_input": "2020-08-20T07:19:17.566770Z",
     "iopub.status.busy": "2020-08-20T07:19:17.566161Z",
     "iopub.status.idle": "2020-08-20T07:19:17.569273Z",
     "shell.execute_reply": "2020-08-20T07:19:17.568802Z"
    },
    "papermill": {
     "duration": 0.036222,
     "end_time": "2020-08-20T07:19:17.569394",
     "exception": false,
     "start_time": "2020-08-20T07:19:17.533172",
     "status": "completed"
    },
    "tags": []
   },
   "outputs": [
    {
     "data": {
      "text/html": [
       "<div>\n",
       "<style scoped>\n",
       "    .dataframe tbody tr th:only-of-type {\n",
       "        vertical-align: middle;\n",
       "    }\n",
       "\n",
       "    .dataframe tbody tr th {\n",
       "        vertical-align: top;\n",
       "    }\n",
       "\n",
       "    .dataframe thead th {\n",
       "        text-align: right;\n",
       "    }\n",
       "</style>\n",
       "<table border=\"1\" class=\"dataframe\">\n",
       "  <thead>\n",
       "    <tr style=\"text-align: right;\">\n",
       "      <th>states</th>\n",
       "      <th>2020-07-01</th>\n",
       "      <th>2020-07-02</th>\n",
       "      <th>2020-07-03</th>\n",
       "      <th>2020-07-04</th>\n",
       "      <th>2020-07-05</th>\n",
       "      <th>2020-07-06</th>\n",
       "      <th>2020-07-07</th>\n",
       "      <th>2020-07-08</th>\n",
       "      <th>2020-07-09</th>\n",
       "      <th>2020-07-10</th>\n",
       "      <th>...</th>\n",
       "      <th>2020-08-11</th>\n",
       "      <th>2020-08-12</th>\n",
       "      <th>2020-08-13</th>\n",
       "      <th>2020-08-14</th>\n",
       "      <th>2020-08-15</th>\n",
       "      <th>2020-08-16</th>\n",
       "      <th>2020-08-17</th>\n",
       "      <th>2020-08-18</th>\n",
       "      <th>2020-08-19</th>\n",
       "      <th>2020-08-20</th>\n",
       "    </tr>\n",
       "    <tr>\n",
       "      <th>state</th>\n",
       "      <th></th>\n",
       "      <th></th>\n",
       "      <th></th>\n",
       "      <th></th>\n",
       "      <th></th>\n",
       "      <th></th>\n",
       "      <th></th>\n",
       "      <th></th>\n",
       "      <th></th>\n",
       "      <th></th>\n",
       "      <th></th>\n",
       "      <th></th>\n",
       "      <th></th>\n",
       "      <th></th>\n",
       "      <th></th>\n",
       "      <th></th>\n",
       "      <th></th>\n",
       "      <th></th>\n",
       "      <th></th>\n",
       "      <th></th>\n",
       "      <th></th>\n",
       "    </tr>\n",
       "  </thead>\n",
       "  <tbody>\n",
       "    <tr>\n",
       "      <th>Odisha</th>\n",
       "      <td>0</td>\n",
       "      <td>229</td>\n",
       "      <td>561</td>\n",
       "      <td>495</td>\n",
       "      <td>469</td>\n",
       "      <td>456</td>\n",
       "      <td>571</td>\n",
       "      <td>527</td>\n",
       "      <td>577</td>\n",
       "      <td>755</td>\n",
       "      <td>...</td>\n",
       "      <td>1341</td>\n",
       "      <td>1876</td>\n",
       "      <td>1981</td>\n",
       "      <td>1977</td>\n",
       "      <td>2496</td>\n",
       "      <td>2924</td>\n",
       "      <td>2244</td>\n",
       "      <td>2239</td>\n",
       "      <td>2589</td>\n",
       "      <td>2898</td>\n",
       "    </tr>\n",
       "    <tr>\n",
       "      <th>Telangana</th>\n",
       "      <td>0</td>\n",
       "      <td>1213</td>\n",
       "      <td>1892</td>\n",
       "      <td>1850</td>\n",
       "      <td>1590</td>\n",
       "      <td>1831</td>\n",
       "      <td>1879</td>\n",
       "      <td>1924</td>\n",
       "      <td>1410</td>\n",
       "      <td>1278</td>\n",
       "      <td>...</td>\n",
       "      <td>1896</td>\n",
       "      <td>1897</td>\n",
       "      <td>1931</td>\n",
       "      <td>1921</td>\n",
       "      <td>1863</td>\n",
       "      <td>1102</td>\n",
       "      <td>894</td>\n",
       "      <td>1682</td>\n",
       "      <td>1763</td>\n",
       "      <td>1724</td>\n",
       "    </tr>\n",
       "    <tr>\n",
       "      <th>Rajasthan</th>\n",
       "      <td>0</td>\n",
       "      <td>350</td>\n",
       "      <td>390</td>\n",
       "      <td>480</td>\n",
       "      <td>632</td>\n",
       "      <td>524</td>\n",
       "      <td>716</td>\n",
       "      <td>659</td>\n",
       "      <td>500</td>\n",
       "      <td>611</td>\n",
       "      <td>...</td>\n",
       "      <td>1217</td>\n",
       "      <td>1213</td>\n",
       "      <td>1314</td>\n",
       "      <td>1278</td>\n",
       "      <td>1287</td>\n",
       "      <td>1317</td>\n",
       "      <td>1334</td>\n",
       "      <td>1347</td>\n",
       "      <td>1312</td>\n",
       "      <td>690</td>\n",
       "    </tr>\n",
       "    <tr>\n",
       "      <th>Tripura</th>\n",
       "      <td>0</td>\n",
       "      <td>39</td>\n",
       "      <td>93</td>\n",
       "      <td>25</td>\n",
       "      <td>23</td>\n",
       "      <td>111</td>\n",
       "      <td>24</td>\n",
       "      <td>57</td>\n",
       "      <td>16</td>\n",
       "      <td>142</td>\n",
       "      <td>...</td>\n",
       "      <td>164</td>\n",
       "      <td>110</td>\n",
       "      <td>121</td>\n",
       "      <td>164</td>\n",
       "      <td>167</td>\n",
       "      <td>127</td>\n",
       "      <td>143</td>\n",
       "      <td>205</td>\n",
       "      <td>236</td>\n",
       "      <td>190</td>\n",
       "    </tr>\n",
       "    <tr>\n",
       "      <th>Mizoram</th>\n",
       "      <td>0</td>\n",
       "      <td>2</td>\n",
       "      <td>0</td>\n",
       "      <td>2</td>\n",
       "      <td>22</td>\n",
       "      <td>11</td>\n",
       "      <td>1</td>\n",
       "      <td>5</td>\n",
       "      <td>0</td>\n",
       "      <td>23</td>\n",
       "      <td>...</td>\n",
       "      <td>3</td>\n",
       "      <td>25</td>\n",
       "      <td>1</td>\n",
       "      <td>8</td>\n",
       "      <td>56</td>\n",
       "      <td>64</td>\n",
       "      <td>12</td>\n",
       "      <td>26</td>\n",
       "      <td>45</td>\n",
       "      <td>13</td>\n",
       "    </tr>\n",
       "  </tbody>\n",
       "</table>\n",
       "<p>5 rows × 51 columns</p>\n",
       "</div>"
      ],
      "text/plain": [
       "states     2020-07-01  2020-07-02  2020-07-03  2020-07-04  2020-07-05  \\\n",
       "state                                                                   \n",
       "Odisha              0         229         561         495         469   \n",
       "Telangana           0        1213        1892        1850        1590   \n",
       "Rajasthan           0         350         390         480         632   \n",
       "Tripura             0          39          93          25          23   \n",
       "Mizoram             0           2           0           2          22   \n",
       "\n",
       "states     2020-07-06  2020-07-07  2020-07-08  2020-07-09  2020-07-10  ...  \\\n",
       "state                                                                  ...   \n",
       "Odisha            456         571         527         577         755  ...   \n",
       "Telangana        1831        1879        1924        1410        1278  ...   \n",
       "Rajasthan         524         716         659         500         611  ...   \n",
       "Tripura           111          24          57          16         142  ...   \n",
       "Mizoram            11           1           5           0          23  ...   \n",
       "\n",
       "states     2020-08-11  2020-08-12  2020-08-13  2020-08-14  2020-08-15  \\\n",
       "state                                                                   \n",
       "Odisha           1341        1876        1981        1977        2496   \n",
       "Telangana        1896        1897        1931        1921        1863   \n",
       "Rajasthan        1217        1213        1314        1278        1287   \n",
       "Tripura           164         110         121         164         167   \n",
       "Mizoram             3          25           1           8          56   \n",
       "\n",
       "states     2020-08-16  2020-08-17  2020-08-18  2020-08-19  2020-08-20  \n",
       "state                                                                  \n",
       "Odisha           2924        2244        2239        2589        2898  \n",
       "Telangana        1102         894        1682        1763        1724  \n",
       "Rajasthan        1317        1334        1347        1312         690  \n",
       "Tripura           127         143         205         236         190  \n",
       "Mizoram            64          12          26          45          13  \n",
       "\n",
       "[5 rows x 51 columns]"
      ]
     },
     "execution_count": 18,
     "metadata": {},
     "output_type": "execute_result"
    }
   ],
   "source": [
    "#hide\n",
    "dft_ct_new_cases.head()"
   ]
  },
  {
   "cell_type": "code",
   "execution_count": 19,
   "metadata": {
    "execution": {
     "iopub.execute_input": "2020-08-20T07:19:17.622143Z",
     "iopub.status.busy": "2020-08-20T07:19:17.611840Z",
     "iopub.status.idle": "2020-08-20T07:19:20.468826Z",
     "shell.execute_reply": "2020-08-20T07:19:20.469305Z"
    },
    "papermill": {
     "duration": 2.883014,
     "end_time": "2020-08-20T07:19:20.469458",
     "exception": false,
     "start_time": "2020-08-20T07:19:17.586444",
     "status": "completed"
    },
    "tags": []
   },
   "outputs": [
    {
     "data": {
      "image/png": "[encoded data removed]",
      "text/plain": [
       "<Figure size 1296x2016 with 11 Axes>"
      ]
     },
     "metadata": {
      "needs_background": "light"
     },
     "output_type": "display_data"
    }
   ],
   "source": [
    "#hide_input\n",
    "df = dft_ct_new_cases.copy()\n",
    "df.loc['Total'] = df.sum()\n",
    "n = 5\n",
    "ax = []\n",
    "fig = plt.figure(figsize = (18,28))\n",
    "gs = fig.add_gridspec(n+2, 5)\n",
    "# gs = fig.add_gridspec(2, 3)\n",
    "ax1 = fig.add_subplot(gs[0, :])\n",
    "ef = df.loc['Total'].rename_axis('date').reset_index()\n",
    "ef['date'] = ef['date'].astype('datetime64[ns]')\n",
    "ax1.bar(ef.date,ef.Total,alpha=0.3,color='#007acc')\n",
    "ax1.plot(ef.date,ef.Total , marker=\"o\", color='#007acc')\n",
    "ax1.xaxis.set_major_locator(mdates.WeekdayLocator())\n",
    "ax1.xaxis.set_major_formatter(mdates.DateFormatter('%b %d'))\n",
    "ax1.text(0.02, 0.5,'India daily case count', transform = ax1.transAxes, fontsize=25);\n",
    "ax1.spines['right'].set_visible(False)\n",
    "ax1.spines['top'].set_visible(False)\n",
    "\n",
    "ax2 = fig.add_subplot(gs[1,0])\n",
    "ef = df.loc['Maharashtra'].rename_axis('date').reset_index()\n",
    "ef['date'] = ef['date'].astype('datetime64[ns]')\n",
    "\n",
    "ax2.bar(ef.date, ef.Maharashtra,color = '#007acc',alpha=0.5)\n",
    "ax2.xaxis.set_major_locator(mdates.WeekdayLocator())\n",
    "ax2.xaxis.set_major_formatter(mdates.DateFormatter('%b %d'))\n",
    "ax2.set_xticks(ax2.get_xticks()[::3])\n",
    "maxyval = ef.Maharashtra.max()\n",
    "ax2.set_ylim([0,maxyval])\n",
    "ax2.text(0.05, 0.9,'Maharashtra', transform = ax2.transAxes, fontsize=20);\n",
    "ax2.spines['right'].set_visible(False)\n",
    "ax2.spines['top'].set_visible(False)\n",
    "\n",
    "\n",
    "ax3 = fig.add_subplot(gs[1,1])\n",
    "ef = df.loc['Tamil Nadu'].rename_axis('date').reset_index()\n",
    "ef['date'] = ef['date'].astype('datetime64[ns]')\n",
    "ax3.bar(ef.date, ef['Tamil Nadu'],color = '#007acc',alpha=0.5,)\n",
    "ax3.xaxis.set_major_locator(mdates.WeekdayLocator())\n",
    "ax3.xaxis.set_major_formatter(mdates.DateFormatter('%b %d'))\n",
    "ax3.set_xticks(ax3.get_xticks()[::3])\n",
    "ax3.text(0.05, 0.9,'Tamil Nadu', transform = ax3.transAxes, fontsize=20);\n",
    "ax3.spines['right'].set_visible(False)\n",
    "ax3.spines['top'].set_visible(False)\n",
    "\n",
    "ax5 = fig.add_subplot(gs[1,3])\n",
    "ef = df.loc['Telangana'].rename_axis('date').reset_index()\n",
    "ef['date'] = ef['date'].astype('datetime64[ns]')\n",
    "ax5.bar(ef.date, ef['Telangana'],color = '#007acc',alpha=0.5,)\n",
    "ax5.xaxis.set_major_locator(mdates.WeekdayLocator())\n",
    "ax5.xaxis.set_major_formatter(mdates.DateFormatter('%b %d'))\n",
    "ax5.set_xticks(ax5.get_xticks()[::3])\n",
    "ax5.text(0.05, 0.9,'Telangana', transform = ax5.transAxes, fontsize=20);\n",
    "ax5.spines['right'].set_visible(False)\n",
    "ax5.spines['top'].set_visible(False)\n",
    "\n",
    "ax6 = fig.add_subplot(gs[1,4])\n",
    "ef = df.loc['Andhra Pradesh'].rename_axis('date').reset_index()\n",
    "ef['date'] = ef['date'].astype('datetime64[ns]')\n",
    "ax6.bar(ef.date, ef['Andhra Pradesh'],color = '#007acc',alpha=0.5,)\n",
    "ax6.xaxis.set_major_locator(mdates.WeekdayLocator())\n",
    "ax6.xaxis.set_major_formatter(mdates.DateFormatter('%b %d'))\n",
    "ax6.set_xticks(ax6.get_xticks()[::3])\n",
    "ax6.text(0.05, 1,'Andhra Pradesh', transform = ax6.transAxes, fontsize=20);\n",
    "ax6.spines['right'].set_visible(False)\n",
    "ax6.spines['top'].set_visible(False)\n",
    "\n",
    "ax4 = fig.add_subplot(gs[1,2])\n",
    "ef = df.loc['Delhi'].rename_axis('date').reset_index()\n",
    "ef['date'] = ef['date'].astype('datetime64[ns]')\n",
    "ax4.bar(ef.date, ef.Delhi,color = '#007acc',alpha=0.5)\n",
    "ax4.set_xticks([])\n",
    "ax4.xaxis.set_major_locator(mdates.WeekdayLocator())\n",
    "ax4.xaxis.set_major_formatter(mdates.DateFormatter('%b %d'))\n",
    "ax4.set_xticks(ax4.get_xticks()[::3])\n",
    "ax4.spines['right'].set_visible(False)\n",
    "ax4.spines['top'].set_visible(False)\n",
    "\n",
    "ax4.text(0.05, 1,'Delhi', transform = ax4.transAxes, fontsize=20)\n",
    "\n",
    "for i in range(n):\n",
    "    \n",
    "    ax.append(fig.add_subplot(gs[i+2,:]))\n",
    "    ef = df.iloc[i+3].rename_axis('date').reset_index()\n",
    "    ef['date'] = ef['date'].astype('datetime64[ns]')\n",
    "    ax[i].bar(ef.date,ef.iloc[:,-1],color = '#007acc',alpha=0.3)\n",
    "    ax[i].plot(ef.date,ef.iloc[:,-1],marker='o',color='#007acc')\n",
    "    ax[i].text(0.02,0.5,f'{ef.columns.values[-1]}',transform = ax[i].transAxes, fontsize = 20);\n",
    "    ax[i].xaxis.set_major_locator(mdates.WeekdayLocator())\n",
    "    ax[i].xaxis.set_major_formatter(mdates.DateFormatter('%b %d'))\n",
    "    ax[i].set_ylim([0,7000])\n",
    "    ax[i].spines['right'].set_visible(False)\n",
    "    ax[i].spines['top'].set_visible(False)\n",
    "plt.tight_layout()\n"
   ]
  },
  {
   "cell_type": "code",
   "execution_count": 20,
   "metadata": {
    "execution": {
     "iopub.execute_input": "2020-08-20T07:19:20.521594Z",
     "iopub.status.busy": "2020-08-20T07:19:20.521003Z",
     "iopub.status.idle": "2020-08-20T07:19:20.523460Z",
     "shell.execute_reply": "2020-08-20T07:19:20.524017Z"
    },
    "papermill": {
     "duration": 0.034169,
     "end_time": "2020-08-20T07:19:20.524154",
     "exception": false,
     "start_time": "2020-08-20T07:19:20.489985",
     "status": "completed"
    },
    "tags": []
   },
   "outputs": [
    {
     "name": "stdout",
     "output_type": "stream",
     "text": [
      "                                   states   Cases  Deaths  PCases  PDeaths  Cases (+)  Deaths (+)  Fatality Rate\n",
      "                              Maharashtra  628642   21033  628642    21033          0           0           3.35\n",
      "                               Tamil Nadu  355449    6123  355449     6123          0           0           1.72\n",
      "                           Andhra Pradesh  316003    2906  316003     2906          0           0           0.92\n",
      "                                Karnataka  249590    4327  249590     4327          0           0           1.73\n",
      "                            Uttar Pradesh  167510    2638  167510     2638          0           0           1.57\n",
      "                                    Delhi  156139    4235  156139     4235          0           0           2.71\n",
      "                              West Bengal  125922    2581  125922     2581          0           0           2.05\n",
      "                                    Bihar  112759     568  112759      568          0           0           0.50\n",
      "                                Telangana   97424     729   95700      719       1724          10           0.75\n",
      "                                    Assam   84318     213   84318      213          0           0           0.25\n",
      "                                  Gujarat   82087    2837   82087     2837          0           0           3.46\n",
      "                                   Odisha   70020     433   67122      425       2898           8           0.62\n",
      "                                Rajasthan   65979     915   65289      910        690           5           1.39\n",
      "                                   Kerala   50231     183   50231      183          0           0           0.36\n",
      "                                  Haryana   49930     567   49930      567          0           0           1.14\n",
      "                           Madhya Pradesh   48351    1159   48351     1159          0           0           2.40\n",
      "                                   Punjab   36083     920   36083      920          0           0           2.55\n",
      "                        Jammu and Kashmir   30034     572   30034      572          0           0           1.90\n",
      "                                Jharkhand   26300     278   26300      278          0           0           1.06\n",
      "                             Chhattisgarh   17585     164   17585      164          0           0           0.93\n",
      "                              Uttarakhand   13225     178   13225      178          0           0           1.35\n",
      "                                      Goa   12675     124   12675      124          0           0           0.98\n",
      "                               Puducherry    8752     129    8752      129          0           0           1.47\n",
      "                                  Tripura    7850      65    7660       65        190           0           0.83\n",
      "                                  Manipur    4876      18    4876       18          0           0           0.37\n",
      "                         Himachal Pradesh    4411      20    4411       20          0           0           0.45\n",
      "                                 Nagaland    3558       7    3558        7          0           0           0.20\n",
      "                        Arunachal Pradesh    2950       5    2950        5          0           0           0.17\n",
      "              Andaman and Nicobar Islands    2604      30    2604       30          0           0           1.15\n",
      "                               Chandigarh    2396      31    2396       31          0           0           1.29\n",
      "                                   Ladakh    2048      18    2048       18          0           0           0.88\n",
      " Dadra and Nagar Haveli and Daman and Diu    1996       2    1996        2          0           0           0.10\n",
      "                                Meghalaya    1535       6    1535        6          0           0           0.39\n",
      "                                   Sikkim    1232       3    1232        3          0           0           0.24\n",
      "                                  Mizoram     873       0     860        0         13           0           0.00\n",
      "                              Lakshadweep       0       0       0        0          0           0            NaN\n"
     ]
    }
   ],
   "source": [
    "#hide_input\n",
    "print(df_table.to_string(index=False))"
   ]
  },
  {
   "cell_type": "code",
   "execution_count": null,
   "metadata": {
    "papermill": {
     "duration": 0.02082,
     "end_time": "2020-08-20T07:19:20.565638",
     "exception": false,
     "start_time": "2020-08-20T07:19:20.544818",
     "status": "completed"
    },
    "tags": []
   },
   "outputs": [],
   "source": []
  },
  {
   "cell_type": "code",
   "execution_count": null,
   "metadata": {
    "papermill": {
     "duration": 0.020413,
     "end_time": "2020-08-20T07:19:20.606733",
     "exception": false,
     "start_time": "2020-08-20T07:19:20.586320",
     "status": "completed"
    },
    "tags": []
   },
   "outputs": [],
   "source": []
  }
 ],
 "metadata": {
  "kernelspec": {
   "display_name": "Python 3",
   "language": "python",
   "name": "python3"
  },
  "language_info": {
   "codemirror_mode": {
    "name": "ipython",
    "version": 3
   },
   "file_extension": ".py",
   "mimetype": "text/x-python",
   "name": "python",
   "nbconvert_exporter": "python",
   "pygments_lexer": "ipython3",
   "version": "3.6.11"
  },
  "papermill": {
   "duration": 7.635011,
   "end_time": "2020-08-20T07:19:20.934542",
   "environment_variables": {},
   "exception": null,
   "input_path": "latest.ipynb",
   "output_path": "latest.ipynb",
   "parameters": {},
   "start_time": "2020-08-20T07:19:13.299531",
   "version": "2.1.2"
  }
 },
 "nbformat": 4,
 "nbformat_minor": 4
}