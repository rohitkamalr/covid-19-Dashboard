{
 "cells": [
  {
   "cell_type": "markdown",
   "metadata": {
    "papermill": {
     "duration": 0.020604,
     "end_time": "2020-09-06T04:52:54.227974",
     "exception": false,
     "start_time": "2020-09-06T04:52:54.207370",
     "status": "completed"
    },
    "tags": []
   },
   "source": [
    "# Latest COVID-19 India Matplotlib Overview"
   ]
  },
  {
   "cell_type": "code",
   "execution_count": 1,
   "metadata": {
    "execution": {
     "iopub.execute_input": "2020-09-06T04:52:54.267149Z",
     "iopub.status.busy": "2020-09-06T04:52:54.266598Z",
     "iopub.status.idle": "2020-09-06T04:52:54.922761Z",
     "shell.execute_reply": "2020-09-06T04:52:54.923217Z"
    },
    "papermill": {
     "duration": 0.679326,
     "end_time": "2020-09-06T04:52:54.923388",
     "exception": false,
     "start_time": "2020-09-06T04:52:54.244062",
     "status": "completed"
    },
    "tags": []
   },
   "outputs": [],
   "source": [
    "#hide\n",
    "import pandas as pd\n",
    "import numpy as np\n",
    "import requests\n",
    "import json\n",
    "import matplotlib.pyplot as plt\n",
    "import matplotlib.dates as mdates\n",
    "import matplotlib as mpl\n",
    "from IPython.core.display import display,HTML\n",
    "%matplotlib inline\n",
    "from datetime import date"
   ]
  },
  {
   "cell_type": "code",
   "execution_count": 2,
   "metadata": {
    "execution": {
     "iopub.execute_input": "2020-09-06T04:52:54.966329Z",
     "iopub.status.busy": "2020-09-06T04:52:54.965259Z",
     "iopub.status.idle": "2020-09-06T04:52:55.204116Z",
     "shell.execute_reply": "2020-09-06T04:52:55.204567Z"
    },
    "papermill": {
     "duration": 0.262634,
     "end_time": "2020-09-06T04:52:55.204736",
     "exception": false,
     "start_time": "2020-09-06T04:52:54.942102",
     "status": "completed"
    },
    "tags": []
   },
   "outputs": [],
   "source": [
    "#hide\n",
    "df  = pd.read_csv('https://api.covid19india.org/csv/latest/states.csv')\n",
    "df = df[['Date','State','Confirmed','Deceased']]\n",
    "df = df.rename(columns={'Confirmed':'Cases', \"Deceased\":'Deaths'})\n",
    "df_cases = df[[\"Date\",'State','Cases']]\n",
    "df_deaths = df[['Date','State','Deaths']]\n",
    "df_cases1 = df_cases.groupby('Date')\n",
    "df_deaths1= df_deaths.groupby('Date')"
   ]
  },
  {
   "cell_type": "code",
   "execution_count": 3,
   "metadata": {
    "execution": {
     "iopub.execute_input": "2020-09-06T04:52:55.244162Z",
     "iopub.status.busy": "2020-09-06T04:52:55.243439Z",
     "iopub.status.idle": "2020-09-06T04:52:55.261736Z",
     "shell.execute_reply": "2020-09-06T04:52:55.261233Z"
    },
    "papermill": {
     "duration": 0.041451,
     "end_time": "2020-09-06T04:52:55.261851",
     "exception": false,
     "start_time": "2020-09-06T04:52:55.220400",
     "status": "completed"
    },
    "tags": []
   },
   "outputs": [],
   "source": [
    "#hide\n",
    "df_snap = pd.read_csv('data/SnapshotCases-28-July.csv')\n",
    "arr_states = df_snap['states'].unique()\n",
    "arr_dates = df['Date'].unique()\n",
    "df_snap = df_snap.set_index('states')"
   ]
  },
  {
   "cell_type": "code",
   "execution_count": 4,
   "metadata": {
    "execution": {
     "iopub.execute_input": "2020-09-06T04:52:55.301228Z",
     "iopub.status.busy": "2020-09-06T04:52:55.300347Z",
     "iopub.status.idle": "2020-09-06T04:52:55.304462Z",
     "shell.execute_reply": "2020-09-06T04:52:55.303991Z"
    },
    "papermill": {
     "duration": 0.02638,
     "end_time": "2020-09-06T04:52:55.304592",
     "exception": false,
     "start_time": "2020-09-06T04:52:55.278212",
     "status": "completed"
    },
    "tags": []
   },
   "outputs": [
    {
     "data": {
      "text/plain": [
       "array(['Andaman and Nicobar Islands', 'Andhra Pradesh',\n",
       "       'Arunachal Pradesh', 'Assam', 'Bihar', 'Chandigarh',\n",
       "       'Dadra and Nagar Haveli and Daman and Diu', 'Delhi', 'Goa',\n",
       "       'Gujarat', 'Haryana', 'Himachal Pradesh', 'Jammu and Kashmir',\n",
       "       'Jharkhand', 'Karnataka', 'Kerala', 'Lakshadweep',\n",
       "       'Madhya Pradesh', 'Maharashtra', 'Manipur', 'Meghalaya', 'Mizoram',\n",
       "       'Nagaland', 'Odisha', 'Puducherry', 'Punjab', 'Rajasthan',\n",
       "       'Sikkim', 'Tamil Nadu', 'Telangana', 'Tripura', 'Uttar Pradesh',\n",
       "       'West Bengal', 'Chhattisgarh', 'Ladakh', 'Uttarakhand'],\n",
       "      dtype=object)"
      ]
     },
     "execution_count": 4,
     "metadata": {},
     "output_type": "execute_result"
    }
   ],
   "source": [
    "#hide\n",
    "arr_states[-9] = 'Puducherry'\n",
    "arr_states[-10] = 'Odisha'\n",
    "arr_states[6] = 'Dadra and Nagar Haveli and Daman and Diu'\n",
    "arr_states = np.append(arr_states,np.array(['Chhattisgarh','Ladakh','Uttarakhand']))\n",
    "arr_states"
   ]
  },
  {
   "cell_type": "code",
   "execution_count": 5,
   "metadata": {
    "execution": {
     "iopub.execute_input": "2020-09-06T04:52:55.345859Z",
     "iopub.status.busy": "2020-09-06T04:52:55.345133Z",
     "iopub.status.idle": "2020-09-06T04:52:55.353093Z",
     "shell.execute_reply": "2020-09-06T04:52:55.352617Z"
    },
    "papermill": {
     "duration": 0.033139,
     "end_time": "2020-09-06T04:52:55.353203",
     "exception": false,
     "start_time": "2020-09-06T04:52:55.320064",
     "status": "completed"
    },
    "tags": []
   },
   "outputs": [],
   "source": [
    "#hide\n",
    "dates = []\n",
    "for i in arr_dates:\n",
    "    if i>='2020-07-01':\n",
    "        dates.append(i)\n",
    "dict = {'states':dates}\n",
    "for i in arr_states:\n",
    "    dict[i] = [0]*len(dates)\n",
    "dft_cases = pd.DataFrame(dict)\n",
    "dft_deaths = pd.DataFrame(dict)\n"
   ]
  },
  {
   "cell_type": "code",
   "execution_count": 6,
   "metadata": {
    "execution": {
     "iopub.execute_input": "2020-09-06T04:52:55.387551Z",
     "iopub.status.busy": "2020-09-06T04:52:55.386993Z",
     "iopub.status.idle": "2020-09-06T04:52:56.494225Z",
     "shell.execute_reply": "2020-09-06T04:52:56.493395Z"
    },
    "papermill": {
     "duration": 1.126998,
     "end_time": "2020-09-06T04:52:56.494456",
     "exception": false,
     "start_time": "2020-09-06T04:52:55.367458",
     "status": "completed"
    },
    "tags": []
   },
   "outputs": [],
   "source": [
    "#hide\n",
    "for i in range(len(dates)):\n",
    "    df1_deaths = df_deaths1.get_group(dates[i])\n",
    "    for j in range(len(df1_deaths.index)):\n",
    "        if df1_deaths.iloc[j,1] in arr_states:\n",
    "            dft_deaths.loc[i,df1_deaths.iloc[j,1]] = df1_deaths.iloc[j,2]\n",
    "dft_deaths = dft_deaths.set_index('states')"
   ]
  },
  {
   "cell_type": "code",
   "execution_count": 7,
   "metadata": {
    "execution": {
     "iopub.execute_input": "2020-09-06T04:52:56.536017Z",
     "iopub.status.busy": "2020-09-06T04:52:56.534872Z",
     "iopub.status.idle": "2020-09-06T04:52:57.686010Z",
     "shell.execute_reply": "2020-09-06T04:52:57.685438Z"
    },
    "papermill": {
     "duration": 1.174944,
     "end_time": "2020-09-06T04:52:57.686185",
     "exception": false,
     "start_time": "2020-09-06T04:52:56.511241",
     "status": "completed"
    },
    "tags": []
   },
   "outputs": [],
   "source": [
    "#hide\n",
    "for i in range(len(dates)):\n",
    "    df1_cases = df_cases1.get_group(dates[i])\n",
    "    for j in range(len(df1_cases.index)):\n",
    "        if df1_cases.iloc[j,1] in arr_states:\n",
    "            dft_cases.loc[i,df1_cases.iloc[j,1]] = df1_cases.iloc[j,2]\n",
    "dft_cases = dft_cases.set_index('states')"
   ]
  },
  {
   "cell_type": "code",
   "execution_count": 8,
   "metadata": {
    "execution": {
     "iopub.execute_input": "2020-09-06T04:52:57.724855Z",
     "iopub.status.busy": "2020-09-06T04:52:57.723544Z",
     "iopub.status.idle": "2020-09-06T04:52:57.725772Z",
     "shell.execute_reply": "2020-09-06T04:52:57.726311Z"
    },
    "papermill": {
     "duration": 0.02384,
     "end_time": "2020-09-06T04:52:57.726459",
     "exception": false,
     "start_time": "2020-09-06T04:52:57.702619",
     "status": "completed"
    },
    "tags": []
   },
   "outputs": [],
   "source": [
    "#hide\n",
    "dft_cases = dft_cases.T\n",
    "dft_deaths = dft_deaths.T\n",
    "dt_today = dates[-1]\n",
    "dt_yday = dates[-2]"
   ]
  },
  {
   "cell_type": "code",
   "execution_count": 9,
   "metadata": {
    "execution": {
     "iopub.execute_input": "2020-09-06T04:52:57.766791Z",
     "iopub.status.busy": "2020-09-06T04:52:57.765538Z",
     "iopub.status.idle": "2020-09-06T04:52:57.767449Z",
     "shell.execute_reply": "2020-09-06T04:52:57.768047Z"
    },
    "papermill": {
     "duration": 0.026725,
     "end_time": "2020-09-06T04:52:57.768199",
     "exception": false,
     "start_time": "2020-09-06T04:52:57.741474",
     "status": "completed"
    },
    "tags": []
   },
   "outputs": [],
   "source": [
    "#hide\n",
    "dft_cases = dft_cases.reset_index()\n",
    "dft_deaths = dft_deaths.reset_index()\n",
    "dft_cases = dft_cases.rename(columns = {'index':'state'})\n",
    "dft_deaths = dft_deaths.rename(columns = {'index':'state'})"
   ]
  },
  {
   "cell_type": "code",
   "execution_count": 10,
   "metadata": {
    "execution": {
     "iopub.execute_input": "2020-09-06T04:52:57.812821Z",
     "iopub.status.busy": "2020-09-06T04:52:57.811656Z",
     "iopub.status.idle": "2020-09-06T04:52:57.813627Z",
     "shell.execute_reply": "2020-09-06T04:52:57.814096Z"
    },
    "papermill": {
     "duration": 0.030187,
     "end_time": "2020-09-06T04:52:57.814235",
     "exception": false,
     "start_time": "2020-09-06T04:52:57.784048",
     "status": "completed"
    },
    "tags": []
   },
   "outputs": [],
   "source": [
    "#hide\n",
    "dfc_cases = dft_cases.groupby('state')[dt_today].sum()\n",
    "dfc_deaths = dft_deaths.groupby('state')[dt_today].sum()\n",
    "dfp_cases = dft_cases.groupby('state')[dt_yday].sum()\n",
    "dfp_deaths = dft_deaths.groupby('state')[dt_yday].sum()"
   ]
  },
  {
   "cell_type": "code",
   "execution_count": 11,
   "metadata": {
    "execution": {
     "iopub.execute_input": "2020-09-06T04:52:57.858533Z",
     "iopub.status.busy": "2020-09-06T04:52:57.857981Z",
     "iopub.status.idle": "2020-09-06T04:52:57.865246Z",
     "shell.execute_reply": "2020-09-06T04:52:57.864802Z"
    },
    "papermill": {
     "duration": 0.035368,
     "end_time": "2020-09-06T04:52:57.865348",
     "exception": false,
     "start_time": "2020-09-06T04:52:57.829980",
     "status": "completed"
    },
    "tags": []
   },
   "outputs": [
    {
     "data": {
      "text/html": [
       "<div>\n",
       "<style scoped>\n",
       "    .dataframe tbody tr th:only-of-type {\n",
       "        vertical-align: middle;\n",
       "    }\n",
       "\n",
       "    .dataframe tbody tr th {\n",
       "        vertical-align: top;\n",
       "    }\n",
       "\n",
       "    .dataframe thead th {\n",
       "        text-align: right;\n",
       "    }\n",
       "</style>\n",
       "<table border=\"1\" class=\"dataframe\">\n",
       "  <thead>\n",
       "    <tr style=\"text-align: right;\">\n",
       "      <th></th>\n",
       "      <th>states</th>\n",
       "      <th>Cases</th>\n",
       "      <th>Deaths</th>\n",
       "      <th>PCases</th>\n",
       "      <th>PDeaths</th>\n",
       "    </tr>\n",
       "  </thead>\n",
       "  <tbody>\n",
       "    <tr>\n",
       "      <th>0</th>\n",
       "      <td>Maharashtra</td>\n",
       "      <td>883862</td>\n",
       "      <td>26276</td>\n",
       "      <td>883862</td>\n",
       "      <td>26276</td>\n",
       "    </tr>\n",
       "    <tr>\n",
       "      <th>1</th>\n",
       "      <td>Andhra Pradesh</td>\n",
       "      <td>487331</td>\n",
       "      <td>4347</td>\n",
       "      <td>487331</td>\n",
       "      <td>4347</td>\n",
       "    </tr>\n",
       "    <tr>\n",
       "      <th>2</th>\n",
       "      <td>Tamil Nadu</td>\n",
       "      <td>457697</td>\n",
       "      <td>7751</td>\n",
       "      <td>457697</td>\n",
       "      <td>7751</td>\n",
       "    </tr>\n",
       "    <tr>\n",
       "      <th>3</th>\n",
       "      <td>Karnataka</td>\n",
       "      <td>389232</td>\n",
       "      <td>6298</td>\n",
       "      <td>389232</td>\n",
       "      <td>6298</td>\n",
       "    </tr>\n",
       "    <tr>\n",
       "      <th>4</th>\n",
       "      <td>Uttar Pradesh</td>\n",
       "      <td>259765</td>\n",
       "      <td>3843</td>\n",
       "      <td>259765</td>\n",
       "      <td>3843</td>\n",
       "    </tr>\n",
       "  </tbody>\n",
       "</table>\n",
       "</div>"
      ],
      "text/plain": [
       "           states   Cases  Deaths  PCases  PDeaths\n",
       "0     Maharashtra  883862   26276  883862    26276\n",
       "1  Andhra Pradesh  487331    4347  487331     4347\n",
       "2      Tamil Nadu  457697    7751  457697     7751\n",
       "3       Karnataka  389232    6298  389232     6298\n",
       "4   Uttar Pradesh  259765    3843  259765     3843"
      ]
     },
     "execution_count": 11,
     "metadata": {},
     "output_type": "execute_result"
    }
   ],
   "source": [
    "#hide\n",
    "df_table = pd.DataFrame({'states': dfc_cases.index, 'Cases': dfc_cases.values, 'Deaths': dfc_deaths.values, 'PCases': dfp_cases.values, 'PDeaths': dfp_deaths.values}).set_index('states')\n",
    "df_table = df_table.sort_values(by = ['Cases','Deaths'], ascending = [False, False])\n",
    "df_table = df_table.reset_index()\n",
    "df_table.head()"
   ]
  },
  {
   "cell_type": "code",
   "execution_count": 12,
   "metadata": {
    "execution": {
     "iopub.execute_input": "2020-09-06T04:52:57.900312Z",
     "iopub.status.busy": "2020-09-06T04:52:57.899772Z",
     "iopub.status.idle": "2020-09-06T04:52:57.907756Z",
     "shell.execute_reply": "2020-09-06T04:52:57.908261Z"
    },
    "papermill": {
     "duration": 0.028179,
     "end_time": "2020-09-06T04:52:57.908382",
     "exception": false,
     "start_time": "2020-09-06T04:52:57.880203",
     "status": "completed"
    },
    "tags": []
   },
   "outputs": [],
   "source": [
    "#hide\n",
    "for c in 'Cases, Deaths'.split(', '):\n",
    "    df_table[f'{c} (+)'] = (df_table[c] - df_table[f'P{c}']).clip(0)\n",
    "df_table['Fatality Rate'] = (100* df_table['Deaths']/ df_table['Cases']).round(2)"
   ]
  },
  {
   "cell_type": "code",
   "execution_count": 13,
   "metadata": {
    "execution": {
     "iopub.execute_input": "2020-09-06T04:52:57.951153Z",
     "iopub.status.busy": "2020-09-06T04:52:57.950605Z",
     "iopub.status.idle": "2020-09-06T04:52:57.953709Z",
     "shell.execute_reply": "2020-09-06T04:52:57.953131Z"
    },
    "papermill": {
     "duration": 0.028984,
     "end_time": "2020-09-06T04:52:57.953828",
     "exception": false,
     "start_time": "2020-09-06T04:52:57.924844",
     "status": "completed"
    },
    "tags": []
   },
   "outputs": [
    {
     "data": {
      "text/html": [
       "<div>\n",
       "<style scoped>\n",
       "    .dataframe tbody tr th:only-of-type {\n",
       "        vertical-align: middle;\n",
       "    }\n",
       "\n",
       "    .dataframe tbody tr th {\n",
       "        vertical-align: top;\n",
       "    }\n",
       "\n",
       "    .dataframe thead th {\n",
       "        text-align: right;\n",
       "    }\n",
       "</style>\n",
       "<table border=\"1\" class=\"dataframe\">\n",
       "  <thead>\n",
       "    <tr style=\"text-align: right;\">\n",
       "      <th></th>\n",
       "      <th>states</th>\n",
       "      <th>Cases</th>\n",
       "      <th>Deaths</th>\n",
       "      <th>PCases</th>\n",
       "      <th>PDeaths</th>\n",
       "      <th>Cases (+)</th>\n",
       "      <th>Deaths (+)</th>\n",
       "      <th>Fatality Rate</th>\n",
       "    </tr>\n",
       "  </thead>\n",
       "  <tbody>\n",
       "    <tr>\n",
       "      <th>0</th>\n",
       "      <td>Maharashtra</td>\n",
       "      <td>883862</td>\n",
       "      <td>26276</td>\n",
       "      <td>883862</td>\n",
       "      <td>26276</td>\n",
       "      <td>0</td>\n",
       "      <td>0</td>\n",
       "      <td>2.97</td>\n",
       "    </tr>\n",
       "    <tr>\n",
       "      <th>1</th>\n",
       "      <td>Andhra Pradesh</td>\n",
       "      <td>487331</td>\n",
       "      <td>4347</td>\n",
       "      <td>487331</td>\n",
       "      <td>4347</td>\n",
       "      <td>0</td>\n",
       "      <td>0</td>\n",
       "      <td>0.89</td>\n",
       "    </tr>\n",
       "    <tr>\n",
       "      <th>2</th>\n",
       "      <td>Tamil Nadu</td>\n",
       "      <td>457697</td>\n",
       "      <td>7751</td>\n",
       "      <td>457697</td>\n",
       "      <td>7751</td>\n",
       "      <td>0</td>\n",
       "      <td>0</td>\n",
       "      <td>1.69</td>\n",
       "    </tr>\n",
       "    <tr>\n",
       "      <th>3</th>\n",
       "      <td>Karnataka</td>\n",
       "      <td>389232</td>\n",
       "      <td>6298</td>\n",
       "      <td>389232</td>\n",
       "      <td>6298</td>\n",
       "      <td>0</td>\n",
       "      <td>0</td>\n",
       "      <td>1.62</td>\n",
       "    </tr>\n",
       "    <tr>\n",
       "      <th>4</th>\n",
       "      <td>Uttar Pradesh</td>\n",
       "      <td>259765</td>\n",
       "      <td>3843</td>\n",
       "      <td>259765</td>\n",
       "      <td>3843</td>\n",
       "      <td>0</td>\n",
       "      <td>0</td>\n",
       "      <td>1.48</td>\n",
       "    </tr>\n",
       "  </tbody>\n",
       "</table>\n",
       "</div>"
      ],
      "text/plain": [
       "           states   Cases  Deaths  PCases  PDeaths  Cases (+)  Deaths (+)  \\\n",
       "0     Maharashtra  883862   26276  883862    26276          0           0   \n",
       "1  Andhra Pradesh  487331    4347  487331     4347          0           0   \n",
       "2      Tamil Nadu  457697    7751  457697     7751          0           0   \n",
       "3       Karnataka  389232    6298  389232     6298          0           0   \n",
       "4   Uttar Pradesh  259765    3843  259765     3843          0           0   \n",
       "\n",
       "   Fatality Rate  \n",
       "0           2.97  \n",
       "1           0.89  \n",
       "2           1.69  \n",
       "3           1.62  \n",
       "4           1.48  "
      ]
     },
     "execution_count": 13,
     "metadata": {},
     "output_type": "execute_result"
    }
   ],
   "source": [
    "#hide\n",
    "df_table.head()"
   ]
  },
  {
   "cell_type": "code",
   "execution_count": 14,
   "metadata": {
    "execution": {
     "iopub.execute_input": "2020-09-06T04:52:57.993892Z",
     "iopub.status.busy": "2020-09-06T04:52:57.993326Z",
     "iopub.status.idle": "2020-09-06T04:52:58.008804Z",
     "shell.execute_reply": "2020-09-06T04:52:58.009318Z"
    },
    "papermill": {
     "duration": 0.038998,
     "end_time": "2020-09-06T04:52:58.009444",
     "exception": false,
     "start_time": "2020-09-06T04:52:57.970446",
     "status": "completed"
    },
    "tags": []
   },
   "outputs": [
    {
     "data": {
      "text/plain": [
       "{'updated': '2020-09-06',\n",
       " 'since': '2020-09-05',\n",
       " 'Cases': 4114047,\n",
       " 'PCases': 4110839,\n",
       " 'Deaths': 70696,\n",
       " 'PDeaths': 70679,\n",
       " 'Cases (+)': 3208,\n",
       " 'Deaths (+)': 17}"
      ]
     },
     "execution_count": 14,
     "metadata": {},
     "output_type": "execute_result"
    }
   ],
   "source": [
    "#hide\n",
    "summary = {'updated':dates[-1], 'since':dates[-2]}\n",
    "list_names = ['Cases', 'PCases', 'Deaths', 'PDeaths', 'Cases (+)', 'Deaths (+)']\n",
    "for name in list_names:\n",
    "    summary[name] = df_table.sum()[name]\n",
    "summary"
   ]
  },
  {
   "cell_type": "code",
   "execution_count": 15,
   "metadata": {
    "execution": {
     "iopub.execute_input": "2020-09-06T04:52:58.049029Z",
     "iopub.status.busy": "2020-09-06T04:52:58.048352Z",
     "iopub.status.idle": "2020-09-06T04:52:58.051140Z",
     "shell.execute_reply": "2020-09-06T04:52:58.050453Z"
    },
    "papermill": {
     "duration": 0.023858,
     "end_time": "2020-09-06T04:52:58.051276",
     "exception": false,
     "start_time": "2020-09-06T04:52:58.027418",
     "status": "completed"
    },
    "tags": []
   },
   "outputs": [],
   "source": [
    "#hide\n",
    "overview = '''\n",
    "<!-- #######  HTML!! #########-->\n",
    "<h1 style=\"color: #5e9ca0; text-align: center;\">India</h1>\n",
    "<p style=\"text-align: center;\">Last update: <strong>{update}</strong></p>\n",
    "<p style=\"text-align: center;\">Confirmed cases:</p>\n",
    "<p style=\"text-align: center;font-size:24px;\">{cases} (<span style=\"color: #ff0000;\">+{new}</span>)</p>\n",
    "<p style=\"text-align: center;\">Confirmed deaths:</p>\n",
    "<p style=\"text-align: center;font-size:24px;\">{deaths} (<span style=\"color: #ff0000;\">+{dnew}</span>)</p>\n",
    "'''"
   ]
  },
  {
   "cell_type": "code",
   "execution_count": 16,
   "metadata": {
    "execution": {
     "iopub.execute_input": "2020-09-06T04:52:58.091215Z",
     "iopub.status.busy": "2020-09-06T04:52:58.090678Z",
     "iopub.status.idle": "2020-09-06T04:52:58.094256Z",
     "shell.execute_reply": "2020-09-06T04:52:58.093771Z"
    },
    "papermill": {
     "duration": 0.024881,
     "end_time": "2020-09-06T04:52:58.094364",
     "exception": false,
     "start_time": "2020-09-06T04:52:58.069483",
     "status": "completed"
    },
    "tags": []
   },
   "outputs": [
    {
     "data": {
      "text/html": [
       "\n",
       "<!-- #######  HTML!! #########-->\n",
       "<h1 style=\"color: #5e9ca0; text-align: center;\">India</h1>\n",
       "<p style=\"text-align: center;\">Last update: <strong>2020-09-06</strong></p>\n",
       "<p style=\"text-align: center;\">Confirmed cases:</p>\n",
       "<p style=\"text-align: center;font-size:24px;\">4114047 (<span style=\"color: #ff0000;\">+3208</span>)</p>\n",
       "<p style=\"text-align: center;\">Confirmed deaths:</p>\n",
       "<p style=\"text-align: center;font-size:24px;\">70696 (<span style=\"color: #ff0000;\">+17</span>)</p>\n"
      ],
      "text/plain": [
       "<IPython.core.display.HTML object>"
      ]
     },
     "metadata": {},
     "output_type": "display_data"
    }
   ],
   "source": [
    "#hide_input\n",
    "update = summary['updated']\n",
    "cases = summary['Cases']\n",
    "new = summary['Cases (+)']\n",
    "deaths = summary['Deaths']\n",
    "dnew = summary['Deaths (+)']\n",
    "\n",
    "html = HTML(overview.format(update=update, cases=cases,new=new,deaths=deaths,dnew=dnew))\n",
    "\n",
    "display(html)"
   ]
  },
  {
   "cell_type": "code",
   "execution_count": 17,
   "metadata": {
    "execution": {
     "iopub.execute_input": "2020-09-06T04:52:58.139374Z",
     "iopub.status.busy": "2020-09-06T04:52:58.138658Z",
     "iopub.status.idle": "2020-09-06T04:52:58.145437Z",
     "shell.execute_reply": "2020-09-06T04:52:58.144277Z"
    },
    "papermill": {
     "duration": 0.033276,
     "end_time": "2020-09-06T04:52:58.145631",
     "exception": false,
     "start_time": "2020-09-06T04:52:58.112355",
     "status": "completed"
    },
    "tags": []
   },
   "outputs": [],
   "source": [
    "#hide\n",
    "dt_cols = list(dft_cases.columns[1:])\n",
    "dft_ct_new_cases = dft_cases.groupby('state')[dt_cols].sum().diff(axis=1).fillna(0).astype(int)\n",
    "dft_ct_new_cases.sort_values(by = dates[-1], ascending = False,inplace = True)"
   ]
  },
  {
   "cell_type": "code",
   "execution_count": 18,
   "metadata": {
    "execution": {
     "iopub.execute_input": "2020-09-06T04:52:58.200796Z",
     "iopub.status.busy": "2020-09-06T04:52:58.200108Z",
     "iopub.status.idle": "2020-09-06T04:52:58.203424Z",
     "shell.execute_reply": "2020-09-06T04:52:58.203929Z"
    },
    "papermill": {
     "duration": 0.038706,
     "end_time": "2020-09-06T04:52:58.204059",
     "exception": false,
     "start_time": "2020-09-06T04:52:58.165353",
     "status": "completed"
    },
    "tags": []
   },
   "outputs": [
    {
     "data": {
      "text/html": [
       "<div>\n",
       "<style scoped>\n",
       "    .dataframe tbody tr th:only-of-type {\n",
       "        vertical-align: middle;\n",
       "    }\n",
       "\n",
       "    .dataframe tbody tr th {\n",
       "        vertical-align: top;\n",
       "    }\n",
       "\n",
       "    .dataframe thead th {\n",
       "        text-align: right;\n",
       "    }\n",
       "</style>\n",
       "<table border=\"1\" class=\"dataframe\">\n",
       "  <thead>\n",
       "    <tr style=\"text-align: right;\">\n",
       "      <th>states</th>\n",
       "      <th>2020-07-01</th>\n",
       "      <th>2020-07-02</th>\n",
       "      <th>2020-07-03</th>\n",
       "      <th>2020-07-04</th>\n",
       "      <th>2020-07-05</th>\n",
       "      <th>2020-07-06</th>\n",
       "      <th>2020-07-07</th>\n",
       "      <th>2020-07-08</th>\n",
       "      <th>2020-07-09</th>\n",
       "      <th>2020-07-10</th>\n",
       "      <th>...</th>\n",
       "      <th>2020-08-28</th>\n",
       "      <th>2020-08-29</th>\n",
       "      <th>2020-08-30</th>\n",
       "      <th>2020-08-31</th>\n",
       "      <th>2020-09-01</th>\n",
       "      <th>2020-09-02</th>\n",
       "      <th>2020-09-03</th>\n",
       "      <th>2020-09-04</th>\n",
       "      <th>2020-09-05</th>\n",
       "      <th>2020-09-06</th>\n",
       "    </tr>\n",
       "    <tr>\n",
       "      <th>state</th>\n",
       "      <th></th>\n",
       "      <th></th>\n",
       "      <th></th>\n",
       "      <th></th>\n",
       "      <th></th>\n",
       "      <th></th>\n",
       "      <th></th>\n",
       "      <th></th>\n",
       "      <th></th>\n",
       "      <th></th>\n",
       "      <th></th>\n",
       "      <th></th>\n",
       "      <th></th>\n",
       "      <th></th>\n",
       "      <th></th>\n",
       "      <th></th>\n",
       "      <th></th>\n",
       "      <th></th>\n",
       "      <th></th>\n",
       "      <th></th>\n",
       "      <th></th>\n",
       "    </tr>\n",
       "  </thead>\n",
       "  <tbody>\n",
       "    <tr>\n",
       "      <th>Telangana</th>\n",
       "      <td>0</td>\n",
       "      <td>1213</td>\n",
       "      <td>1892</td>\n",
       "      <td>1850</td>\n",
       "      <td>1590</td>\n",
       "      <td>1831</td>\n",
       "      <td>1879</td>\n",
       "      <td>1924</td>\n",
       "      <td>1410</td>\n",
       "      <td>1278</td>\n",
       "      <td>...</td>\n",
       "      <td>2932</td>\n",
       "      <td>2751</td>\n",
       "      <td>2924</td>\n",
       "      <td>1873</td>\n",
       "      <td>2734</td>\n",
       "      <td>2892</td>\n",
       "      <td>2817</td>\n",
       "      <td>2478</td>\n",
       "      <td>2511</td>\n",
       "      <td>2574</td>\n",
       "    </tr>\n",
       "    <tr>\n",
       "      <th>Tripura</th>\n",
       "      <td>0</td>\n",
       "      <td>39</td>\n",
       "      <td>93</td>\n",
       "      <td>25</td>\n",
       "      <td>23</td>\n",
       "      <td>111</td>\n",
       "      <td>24</td>\n",
       "      <td>57</td>\n",
       "      <td>16</td>\n",
       "      <td>142</td>\n",
       "      <td>...</td>\n",
       "      <td>509</td>\n",
       "      <td>443</td>\n",
       "      <td>447</td>\n",
       "      <td>321</td>\n",
       "      <td>509</td>\n",
       "      <td>566</td>\n",
       "      <td>590</td>\n",
       "      <td>524</td>\n",
       "      <td>691</td>\n",
       "      <td>603</td>\n",
       "    </tr>\n",
       "    <tr>\n",
       "      <th>Mizoram</th>\n",
       "      <td>0</td>\n",
       "      <td>2</td>\n",
       "      <td>0</td>\n",
       "      <td>2</td>\n",
       "      <td>22</td>\n",
       "      <td>11</td>\n",
       "      <td>1</td>\n",
       "      <td>5</td>\n",
       "      <td>0</td>\n",
       "      <td>23</td>\n",
       "      <td>...</td>\n",
       "      <td>29</td>\n",
       "      <td>0</td>\n",
       "      <td>5</td>\n",
       "      <td>3</td>\n",
       "      <td>1</td>\n",
       "      <td>8</td>\n",
       "      <td>20</td>\n",
       "      <td>6</td>\n",
       "      <td>16</td>\n",
       "      <td>31</td>\n",
       "    </tr>\n",
       "    <tr>\n",
       "      <th>Andaman and Nicobar Islands</th>\n",
       "      <td>0</td>\n",
       "      <td>9</td>\n",
       "      <td>7</td>\n",
       "      <td>3</td>\n",
       "      <td>6</td>\n",
       "      <td>16</td>\n",
       "      <td>6</td>\n",
       "      <td>2</td>\n",
       "      <td>7</td>\n",
       "      <td>0</td>\n",
       "      <td>...</td>\n",
       "      <td>32</td>\n",
       "      <td>31</td>\n",
       "      <td>23</td>\n",
       "      <td>28</td>\n",
       "      <td>28</td>\n",
       "      <td>26</td>\n",
       "      <td>37</td>\n",
       "      <td>34</td>\n",
       "      <td>35</td>\n",
       "      <td>0</td>\n",
       "    </tr>\n",
       "    <tr>\n",
       "      <th>Puducherry</th>\n",
       "      <td>0</td>\n",
       "      <td>63</td>\n",
       "      <td>22</td>\n",
       "      <td>80</td>\n",
       "      <td>42</td>\n",
       "      <td>65</td>\n",
       "      <td>30</td>\n",
       "      <td>110</td>\n",
       "      <td>49</td>\n",
       "      <td>72</td>\n",
       "      <td>...</td>\n",
       "      <td>590</td>\n",
       "      <td>532</td>\n",
       "      <td>571</td>\n",
       "      <td>284</td>\n",
       "      <td>355</td>\n",
       "      <td>391</td>\n",
       "      <td>424</td>\n",
       "      <td>591</td>\n",
       "      <td>394</td>\n",
       "      <td>0</td>\n",
       "    </tr>\n",
       "  </tbody>\n",
       "</table>\n",
       "<p>5 rows × 68 columns</p>\n",
       "</div>"
      ],
      "text/plain": [
       "states                       2020-07-01  2020-07-02  2020-07-03  2020-07-04  \\\n",
       "state                                                                         \n",
       "Telangana                             0        1213        1892        1850   \n",
       "Tripura                               0          39          93          25   \n",
       "Mizoram                               0           2           0           2   \n",
       "Andaman and Nicobar Islands           0           9           7           3   \n",
       "Puducherry                            0          63          22          80   \n",
       "\n",
       "states                       2020-07-05  2020-07-06  2020-07-07  2020-07-08  \\\n",
       "state                                                                         \n",
       "Telangana                          1590        1831        1879        1924   \n",
       "Tripura                              23         111          24          57   \n",
       "Mizoram                              22          11           1           5   \n",
       "Andaman and Nicobar Islands           6          16           6           2   \n",
       "Puducherry                           42          65          30         110   \n",
       "\n",
       "states                       2020-07-09  2020-07-10  ...  2020-08-28  \\\n",
       "state                                                ...               \n",
       "Telangana                          1410        1278  ...        2932   \n",
       "Tripura                              16         142  ...         509   \n",
       "Mizoram                               0          23  ...          29   \n",
       "Andaman and Nicobar Islands           7           0  ...          32   \n",
       "Puducherry                           49          72  ...         590   \n",
       "\n",
       "states                       2020-08-29  2020-08-30  2020-08-31  2020-09-01  \\\n",
       "state                                                                         \n",
       "Telangana                          2751        2924        1873        2734   \n",
       "Tripura                             443         447         321         509   \n",
       "Mizoram                               0           5           3           1   \n",
       "Andaman and Nicobar Islands          31          23          28          28   \n",
       "Puducherry                          532         571         284         355   \n",
       "\n",
       "states                       2020-09-02  2020-09-03  2020-09-04  2020-09-05  \\\n",
       "state                                                                         \n",
       "Telangana                          2892        2817        2478        2511   \n",
       "Tripura                             566         590         524         691   \n",
       "Mizoram                               8          20           6          16   \n",
       "Andaman and Nicobar Islands          26          37          34          35   \n",
       "Puducherry                          391         424         591         394   \n",
       "\n",
       "states                       2020-09-06  \n",
       "state                                    \n",
       "Telangana                          2574  \n",
       "Tripura                             603  \n",
       "Mizoram                              31  \n",
       "Andaman and Nicobar Islands           0  \n",
       "Puducherry                            0  \n",
       "\n",
       "[5 rows x 68 columns]"
      ]
     },
     "execution_count": 18,
     "metadata": {},
     "output_type": "execute_result"
    }
   ],
   "source": [
    "#hide\n",
    "dft_ct_new_cases.head()"
   ]
  },
  {
   "cell_type": "code",
   "execution_count": 19,
   "metadata": {
    "execution": {
     "iopub.execute_input": "2020-09-06T04:52:58.242450Z",
     "iopub.status.busy": "2020-09-06T04:52:58.241551Z",
     "iopub.status.idle": "2020-09-06T04:53:02.178753Z",
     "shell.execute_reply": "2020-09-06T04:53:02.179338Z"
    },
    "papermill": {
     "duration": 3.958124,
     "end_time": "2020-09-06T04:53:02.179552",
     "exception": false,
     "start_time": "2020-09-06T04:52:58.221428",
     "status": "completed"
    },
    "tags": []
   },
   "outputs": [
    {
     "data": {
      "image/png": "[encoded data removed]",
      "text/plain": [
       "<Figure size 1296x2016 with 11 Axes>"
      ]
     },
     "metadata": {
      "needs_background": "light"
     },
     "output_type": "display_data"
    }
   ],
   "source": [
    "#hide_input\n",
    "df = dft_ct_new_cases.copy()\n",
    "df.loc['Total'] = df.sum()\n",
    "n = 5\n",
    "ax = []\n",
    "fig = plt.figure(figsize = (18,28))\n",
    "gs = fig.add_gridspec(n+2, 5)\n",
    "# gs = fig.add_gridspec(2, 3)\n",
    "ax1 = fig.add_subplot(gs[0, :])\n",
    "ef = df.loc['Total'].rename_axis('date').reset_index()\n",
    "ef['date'] = ef['date'].astype('datetime64[ns]')\n",
    "ax1.bar(ef.date,ef.Total,alpha=0.3,color='#007acc')\n",
    "ax1.plot(ef.date,ef.Total , marker=\"o\", color='#007acc')\n",
    "ax1.xaxis.set_major_locator(mdates.WeekdayLocator())\n",
    "ax1.xaxis.set_major_formatter(mdates.DateFormatter('%b %d'))\n",
    "ax1.text(0.02, 0.5,'India daily case count', transform = ax1.transAxes, fontsize=25);\n",
    "ax1.spines['right'].set_visible(False)\n",
    "ax1.spines['top'].set_visible(False)\n",
    "\n",
    "ax2 = fig.add_subplot(gs[1,0])\n",
    "ef = df.loc['Maharashtra'].rename_axis('date').reset_index()\n",
    "ef['date'] = ef['date'].astype('datetime64[ns]')\n",
    "\n",
    "ax2.bar(ef.date, ef.Maharashtra,color = '#007acc',alpha=0.5)\n",
    "ax2.xaxis.set_major_locator(mdates.WeekdayLocator())\n",
    "ax2.xaxis.set_major_formatter(mdates.DateFormatter('%b %d'))\n",
    "ax2.set_xticks(ax2.get_xticks()[::3])\n",
    "maxyval = ef.Maharashtra.max()\n",
    "ax2.set_ylim([0,maxyval])\n",
    "ax2.text(0.05, 0.9,'Maharashtra', transform = ax2.transAxes, fontsize=20);\n",
    "ax2.spines['right'].set_visible(False)\n",
    "ax2.spines['top'].set_visible(False)\n",
    "\n",
    "\n",
    "ax3 = fig.add_subplot(gs[1,1])\n",
    "ef = df.loc['Tamil Nadu'].rename_axis('date').reset_index()\n",
    "ef['date'] = ef['date'].astype('datetime64[ns]')\n",
    "ax3.bar(ef.date, ef['Tamil Nadu'],color = '#007acc',alpha=0.5,)\n",
    "ax3.xaxis.set_major_locator(mdates.WeekdayLocator())\n",
    "ax3.xaxis.set_major_formatter(mdates.DateFormatter('%b %d'))\n",
    "ax3.set_xticks(ax3.get_xticks()[::3])\n",
    "ax3.text(0.05, 0.9,'Tamil Nadu', transform = ax3.transAxes, fontsize=20);\n",
    "ax3.spines['right'].set_visible(False)\n",
    "ax3.spines['top'].set_visible(False)\n",
    "\n",
    "ax5 = fig.add_subplot(gs[1,3])\n",
    "ef = df.loc['Telangana'].rename_axis('date').reset_index()\n",
    "ef['date'] = ef['date'].astype('datetime64[ns]')\n",
    "ax5.bar(ef.date, ef['Telangana'],color = '#007acc',alpha=0.5,)\n",
    "ax5.xaxis.set_major_locator(mdates.WeekdayLocator())\n",
    "ax5.xaxis.set_major_formatter(mdates.DateFormatter('%b %d'))\n",
    "ax5.set_xticks(ax5.get_xticks()[::3])\n",
    "ax5.text(0.05, 0.9,'Telangana', transform = ax5.transAxes, fontsize=20);\n",
    "ax5.spines['right'].set_visible(False)\n",
    "ax5.spines['top'].set_visible(False)\n",
    "\n",
    "ax6 = fig.add_subplot(gs[1,4])\n",
    "ef = df.loc['Andhra Pradesh'].rename_axis('date').reset_index()\n",
    "ef['date'] = ef['date'].astype('datetime64[ns]')\n",
    "ax6.bar(ef.date, ef['Andhra Pradesh'],color = '#007acc',alpha=0.5,)\n",
    "ax6.xaxis.set_major_locator(mdates.WeekdayLocator())\n",
    "ax6.xaxis.set_major_formatter(mdates.DateFormatter('%b %d'))\n",
    "ax6.set_xticks(ax6.get_xticks()[::3])\n",
    "ax6.text(0.05, 1,'Andhra Pradesh', transform = ax6.transAxes, fontsize=20);\n",
    "ax6.spines['right'].set_visible(False)\n",
    "ax6.spines['top'].set_visible(False)\n",
    "\n",
    "ax4 = fig.add_subplot(gs[1,2])\n",
    "ef = df.loc['Delhi'].rename_axis('date').reset_index()\n",
    "ef['date'] = ef['date'].astype('datetime64[ns]')\n",
    "ax4.bar(ef.date, ef.Delhi,color = '#007acc',alpha=0.5)\n",
    "ax4.set_xticks([])\n",
    "ax4.xaxis.set_major_locator(mdates.WeekdayLocator())\n",
    "ax4.xaxis.set_major_formatter(mdates.DateFormatter('%b %d'))\n",
    "ax4.set_xticks(ax4.get_xticks()[::3])\n",
    "ax4.spines['right'].set_visible(False)\n",
    "ax4.spines['top'].set_visible(False)\n",
    "\n",
    "ax4.text(0.05, 1,'Delhi', transform = ax4.transAxes, fontsize=20)\n",
    "\n",
    "for i in range(n):\n",
    "    \n",
    "    ax.append(fig.add_subplot(gs[i+2,:]))\n",
    "    ef = df.iloc[i+3].rename_axis('date').reset_index()\n",
    "    ef['date'] = ef['date'].astype('datetime64[ns]')\n",
    "    ax[i].bar(ef.date,ef.iloc[:,-1],color = '#007acc',alpha=0.3)\n",
    "    ax[i].plot(ef.date,ef.iloc[:,-1],marker='o',color='#007acc')\n",
    "    ax[i].text(0.02,0.5,f'{ef.columns.values[-1]}',transform = ax[i].transAxes, fontsize = 20);\n",
    "    ax[i].xaxis.set_major_locator(mdates.WeekdayLocator())\n",
    "    ax[i].xaxis.set_major_formatter(mdates.DateFormatter('%b %d'))\n",
    "    ax[i].set_ylim([0,7000])\n",
    "    ax[i].spines['right'].set_visible(False)\n",
    "    ax[i].spines['top'].set_visible(False)\n",
    "plt.tight_layout()\n"
   ]
  },
  {
   "cell_type": "code",
   "execution_count": 20,
   "metadata": {
    "execution": {
     "iopub.execute_input": "2020-09-06T04:53:02.239005Z",
     "iopub.status.busy": "2020-09-06T04:53:02.238223Z",
     "iopub.status.idle": "2020-09-06T04:53:02.241936Z",
     "shell.execute_reply": "2020-09-06T04:53:02.241356Z"
    },
    "papermill": {
     "duration": 0.038215,
     "end_time": "2020-09-06T04:53:02.242119",
     "exception": false,
     "start_time": "2020-09-06T04:53:02.203904",
     "status": "completed"
    },
    "tags": []
   },
   "outputs": [
    {
     "name": "stdout",
     "output_type": "stream",
     "text": [
      "                                   states   Cases  Deaths  PCases  PDeaths  Cases (+)  Deaths (+)  Fatality Rate\n",
      "                              Maharashtra  883862   26276  883862    26276          0           0           2.97\n",
      "                           Andhra Pradesh  487331    4347  487331     4347          0           0           0.89\n",
      "                               Tamil Nadu  457697    7751  457697     7751          0           0           1.69\n",
      "                                Karnataka  389232    6298  389232     6298          0           0           1.62\n",
      "                            Uttar Pradesh  259765    3843  259765     3843          0           0           1.48\n",
      "                                    Delhi  188193    4538  188193     4538          0           0           2.41\n",
      "                              West Bengal  177701    3510  177701     3510          0           0           1.98\n",
      "                                    Bihar  145861     750  145861      750          0           0           0.51\n",
      "                                Telangana  140969     886  138395      877       2574           9           0.63\n",
      "                                    Assam  123923     352  123923      352          0           0           0.28\n",
      "                                   Odisha  120221     591  120221      591          0           0           0.49\n",
      "                                  Gujarat  103006    3092  103006     3092          0           0           3.00\n",
      "                                Rajasthan   89363    1122   89363     1122          0           0           1.26\n",
      "                                   Kerala   84760     338   84760      338          0           0           0.40\n",
      "                                  Haryana   74272     781   74272      781          0           0           1.05\n",
      "                           Madhya Pradesh   71880    1543   71880     1543          0           0           2.15\n",
      "                                   Punjab   61527    1808   61527     1808          0           0           2.94\n",
      "                                Jharkhand   49797     462   49797      462          0           0           0.93\n",
      "                             Chhattisgarh   43163     356   43163      356          0           0           0.82\n",
      "                        Jammu and Kashmir   42241     770   42241      770          0           0           1.82\n",
      "                              Uttarakhand   23961     330   23961      330          0           0           1.38\n",
      "                                      Goa   20455     229   20455      229          0           0           1.12\n",
      "                               Puducherry   16566     298   16566      298          0           0           1.80\n",
      "                                  Tripura   15127     144   14524      136        603           8           0.95\n",
      "                         Himachal Pradesh    7018      53    7018       53          0           0           0.76\n",
      "                                  Manipur    6883      36    6883       36          0           0           0.52\n",
      "                               Chandigarh    5502      69    5502       69          0           0           1.25\n",
      "                        Arunachal Pradesh    4914       8    4914        8          0           0           0.16\n",
      "                                 Nagaland    4128       8    4128        8          0           0           0.19\n",
      "              Andaman and Nicobar Islands    3292      50    3292       50          0           0           1.52\n",
      "                                   Ladakh    2996      35    2996       35          0           0           1.17\n",
      "                                Meghalaya    2916      15    2916       15          0           0           0.51\n",
      " Dadra and Nagar Haveli and Daman and Diu    2531       2    2531        2          0           0           0.08\n",
      "                                   Sikkim    1901       5    1901        5          0           0           0.26\n",
      "                                  Mizoram    1093       0    1062        0         31           0           0.00\n",
      "                              Lakshadweep       0       0       0        0          0           0            NaN\n"
     ]
    }
   ],
   "source": [
    "#hide_input\n",
    "print(df_table.to_string(index=False))"
   ]
  },
  {
   "cell_type": "code",
   "execution_count": null,
   "metadata": {
    "papermill": {
     "duration": 0.021651,
     "end_time": "2020-09-06T04:53:02.294193",
     "exception": false,
     "start_time": "2020-09-06T04:53:02.272542",
     "status": "completed"
    },
    "tags": []
   },
   "outputs": [],
   "source": []
  },
  {
   "cell_type": "code",
   "execution_count": null,
   "metadata": {
    "papermill": {
     "duration": 0.021593,
     "end_time": "2020-09-06T04:53:02.338560",
     "exception": false,
     "start_time": "2020-09-06T04:53:02.316967",
     "status": "completed"
    },
    "tags": []
   },
   "outputs": [],
   "source": []
  }
 ],
 "metadata": {
  "kernelspec": {
   "display_name": "Python 3",
   "language": "python",
   "name": "python3"
  },
  "language_info": {
   "codemirror_mode": {
    "name": "ipython",
    "version": 3
   },
   "file_extension": ".py",
   "mimetype": "text/x-python",
   "name": "python",
   "nbconvert_exporter": "python",
   "pygments_lexer": "ipython3",
   "version": "3.6.12"
  },
  "papermill": {
   "duration": 9.6256,
   "end_time": "2020-09-06T04:53:02.771851",
   "environment_variables": {},
   "exception": null,
   "input_path": "latest.ipynb",
   "output_path": "latest.ipynb",
   "parameters": {},
   "start_time": "2020-09-06T04:52:53.146251",
   "version": "2.1.2"
  }
 },
 "nbformat": 4,
 "nbformat_minor": 4
}