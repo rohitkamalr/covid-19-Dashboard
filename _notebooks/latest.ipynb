{
 "cells": [
  {
   "cell_type": "markdown",
   "metadata": {
    "papermill": {
     "duration": 0.022284,
     "end_time": "2020-09-26T13:20:45.119526",
     "exception": false,
     "start_time": "2020-09-26T13:20:45.097242",
     "status": "completed"
    },
    "tags": []
   },
   "source": [
    "# Latest COVID-19 India Matplotlib Overview"
   ]
  },
  {
   "cell_type": "code",
   "execution_count": 1,
   "metadata": {
    "execution": {
     "iopub.execute_input": "2020-09-26T13:20:45.161143Z",
     "iopub.status.busy": "2020-09-26T13:20:45.159948Z",
     "iopub.status.idle": "2020-09-26T13:20:45.794973Z",
     "shell.execute_reply": "2020-09-26T13:20:45.795609Z"
    },
    "papermill": {
     "duration": 0.658697,
     "end_time": "2020-09-26T13:20:45.795793",
     "exception": false,
     "start_time": "2020-09-26T13:20:45.137096",
     "status": "completed"
    },
    "tags": []
   },
   "outputs": [],
   "source": [
    "#hide\n",
    "import pandas as pd\n",
    "import numpy as np\n",
    "import requests\n",
    "import json\n",
    "import matplotlib.pyplot as plt\n",
    "import matplotlib.dates as mdates\n",
    "import matplotlib as mpl\n",
    "from IPython.core.display import display,HTML\n",
    "%matplotlib inline\n",
    "from datetime import date"
   ]
  },
  {
   "cell_type": "code",
   "execution_count": 2,
   "metadata": {
    "execution": {
     "iopub.execute_input": "2020-09-26T13:20:45.836014Z",
     "iopub.status.busy": "2020-09-26T13:20:45.835064Z",
     "iopub.status.idle": "2020-09-26T13:20:46.236728Z",
     "shell.execute_reply": "2020-09-26T13:20:46.236113Z"
    },
    "papermill": {
     "duration": 0.425052,
     "end_time": "2020-09-26T13:20:46.236899",
     "exception": false,
     "start_time": "2020-09-26T13:20:45.811847",
     "status": "completed"
    },
    "tags": []
   },
   "outputs": [],
   "source": [
    "#hide\n",
    "df  = pd.read_csv('https://api.covid19india.org/csv/latest/states.csv')\n",
    "df = df[['Date','State','Confirmed','Deceased']]\n",
    "df = df.rename(columns={'Confirmed':'Cases', \"Deceased\":'Deaths'})\n",
    "df_cases = df[[\"Date\",'State','Cases']]\n",
    "df_deaths = df[['Date','State','Deaths']]\n",
    "df_cases1 = df_cases.groupby('Date')\n",
    "df_deaths1= df_deaths.groupby('Date')"
   ]
  },
  {
   "cell_type": "code",
   "execution_count": 3,
   "metadata": {
    "execution": {
     "iopub.execute_input": "2020-09-26T13:20:46.275844Z",
     "iopub.status.busy": "2020-09-26T13:20:46.275244Z",
     "iopub.status.idle": "2020-09-26T13:20:46.293837Z",
     "shell.execute_reply": "2020-09-26T13:20:46.293199Z"
    },
    "papermill": {
     "duration": 0.040065,
     "end_time": "2020-09-26T13:20:46.293958",
     "exception": false,
     "start_time": "2020-09-26T13:20:46.253893",
     "status": "completed"
    },
    "tags": []
   },
   "outputs": [],
   "source": [
    "#hide\n",
    "df_snap = pd.read_csv('data/SnapshotCases-28-July.csv')\n",
    "arr_states = df_snap['states'].unique()\n",
    "arr_dates = df['Date'].unique()\n",
    "df_snap = df_snap.set_index('states')"
   ]
  },
  {
   "cell_type": "code",
   "execution_count": 4,
   "metadata": {
    "execution": {
     "iopub.execute_input": "2020-09-26T13:20:46.333821Z",
     "iopub.status.busy": "2020-09-26T13:20:46.333199Z",
     "iopub.status.idle": "2020-09-26T13:20:46.338028Z",
     "shell.execute_reply": "2020-09-26T13:20:46.337548Z"
    },
    "papermill": {
     "duration": 0.027594,
     "end_time": "2020-09-26T13:20:46.338151",
     "exception": false,
     "start_time": "2020-09-26T13:20:46.310557",
     "status": "completed"
    },
    "tags": []
   },
   "outputs": [
    {
     "data": {
      "text/plain": [
       "array(['Andaman and Nicobar Islands', 'Andhra Pradesh',\n",
       "       'Arunachal Pradesh', 'Assam', 'Bihar', 'Chandigarh',\n",
       "       'Dadra and Nagar Haveli and Daman and Diu', 'Delhi', 'Goa',\n",
       "       'Gujarat', 'Haryana', 'Himachal Pradesh', 'Jammu and Kashmir',\n",
       "       'Jharkhand', 'Karnataka', 'Kerala', 'Lakshadweep',\n",
       "       'Madhya Pradesh', 'Maharashtra', 'Manipur', 'Meghalaya', 'Mizoram',\n",
       "       'Nagaland', 'Odisha', 'Puducherry', 'Punjab', 'Rajasthan',\n",
       "       'Sikkim', 'Tamil Nadu', 'Telangana', 'Tripura', 'Uttar Pradesh',\n",
       "       'West Bengal', 'Chhattisgarh', 'Ladakh', 'Uttarakhand'],\n",
       "      dtype=object)"
      ]
     },
     "execution_count": 4,
     "metadata": {},
     "output_type": "execute_result"
    }
   ],
   "source": [
    "#hide\n",
    "arr_states[-9] = 'Puducherry'\n",
    "arr_states[-10] = 'Odisha'\n",
    "arr_states[6] = 'Dadra and Nagar Haveli and Daman and Diu'\n",
    "arr_states = np.append(arr_states,np.array(['Chhattisgarh','Ladakh','Uttarakhand']))\n",
    "arr_states"
   ]
  },
  {
   "cell_type": "code",
   "execution_count": 5,
   "metadata": {
    "execution": {
     "iopub.execute_input": "2020-09-26T13:20:46.383068Z",
     "iopub.status.busy": "2020-09-26T13:20:46.382478Z",
     "iopub.status.idle": "2020-09-26T13:20:46.390092Z",
     "shell.execute_reply": "2020-09-26T13:20:46.389576Z"
    },
    "papermill": {
     "duration": 0.033417,
     "end_time": "2020-09-26T13:20:46.390204",
     "exception": false,
     "start_time": "2020-09-26T13:20:46.356787",
     "status": "completed"
    },
    "tags": []
   },
   "outputs": [],
   "source": [
    "#hide\n",
    "dates = []\n",
    "for i in arr_dates:\n",
    "    if i>='2020-07-01':\n",
    "        dates.append(i)\n",
    "dict = {'states':dates}\n",
    "for i in arr_states:\n",
    "    dict[i] = [0]*len(dates)\n",
    "dft_cases = pd.DataFrame(dict)\n",
    "dft_deaths = pd.DataFrame(dict)\n"
   ]
  },
  {
   "cell_type": "code",
   "execution_count": 6,
   "metadata": {
    "execution": {
     "iopub.execute_input": "2020-09-26T13:20:46.428356Z",
     "iopub.status.busy": "2020-09-26T13:20:46.427670Z",
     "iopub.status.idle": "2020-09-26T13:20:47.926560Z",
     "shell.execute_reply": "2020-09-26T13:20:47.925678Z"
    },
    "papermill": {
     "duration": 1.520325,
     "end_time": "2020-09-26T13:20:47.926715",
     "exception": false,
     "start_time": "2020-09-26T13:20:46.406390",
     "status": "completed"
    },
    "tags": []
   },
   "outputs": [],
   "source": [
    "#hide\n",
    "for i in range(len(dates)):\n",
    "    df1_deaths = df_deaths1.get_group(dates[i])\n",
    "    for j in range(len(df1_deaths.index)):\n",
    "        if df1_deaths.iloc[j,1] in arr_states:\n",
    "            dft_deaths.loc[i,df1_deaths.iloc[j,1]] = df1_deaths.iloc[j,2]\n",
    "dft_deaths = dft_deaths.set_index('states')"
   ]
  },
  {
   "cell_type": "code",
   "execution_count": 7,
   "metadata": {
    "execution": {
     "iopub.execute_input": "2020-09-26T13:20:47.967540Z",
     "iopub.status.busy": "2020-09-26T13:20:47.966831Z",
     "iopub.status.idle": "2020-09-26T13:20:49.442419Z",
     "shell.execute_reply": "2020-09-26T13:20:49.441769Z"
    },
    "papermill": {
     "duration": 1.497586,
     "end_time": "2020-09-26T13:20:49.442556",
     "exception": false,
     "start_time": "2020-09-26T13:20:47.944970",
     "status": "completed"
    },
    "tags": []
   },
   "outputs": [],
   "source": [
    "#hide\n",
    "for i in range(len(dates)):\n",
    "    df1_cases = df_cases1.get_group(dates[i])\n",
    "    for j in range(len(df1_cases.index)):\n",
    "        if df1_cases.iloc[j,1] in arr_states:\n",
    "            dft_cases.loc[i,df1_cases.iloc[j,1]] = df1_cases.iloc[j,2]\n",
    "dft_cases = dft_cases.set_index('states')"
   ]
  },
  {
   "cell_type": "code",
   "execution_count": 8,
   "metadata": {
    "execution": {
     "iopub.execute_input": "2020-09-26T13:20:49.482451Z",
     "iopub.status.busy": "2020-09-26T13:20:49.481751Z",
     "iopub.status.idle": "2020-09-26T13:20:49.485965Z",
     "shell.execute_reply": "2020-09-26T13:20:49.485418Z"
    },
    "papermill": {
     "duration": 0.026667,
     "end_time": "2020-09-26T13:20:49.486099",
     "exception": false,
     "start_time": "2020-09-26T13:20:49.459432",
     "status": "completed"
    },
    "tags": []
   },
   "outputs": [],
   "source": [
    "#hide\n",
    "dft_cases = dft_cases.T\n",
    "dft_deaths = dft_deaths.T\n",
    "dt_today = dates[-1]\n",
    "dt_yday = dates[-2]"
   ]
  },
  {
   "cell_type": "code",
   "execution_count": 9,
   "metadata": {
    "execution": {
     "iopub.execute_input": "2020-09-26T13:20:49.527328Z",
     "iopub.status.busy": "2020-09-26T13:20:49.526567Z",
     "iopub.status.idle": "2020-09-26T13:20:49.528966Z",
     "shell.execute_reply": "2020-09-26T13:20:49.528353Z"
    },
    "papermill": {
     "duration": 0.026355,
     "end_time": "2020-09-26T13:20:49.529138",
     "exception": false,
     "start_time": "2020-09-26T13:20:49.502783",
     "status": "completed"
    },
    "tags": []
   },
   "outputs": [],
   "source": [
    "#hide\n",
    "dft_cases = dft_cases.reset_index()\n",
    "dft_deaths = dft_deaths.reset_index()\n",
    "dft_cases = dft_cases.rename(columns = {'index':'state'})\n",
    "dft_deaths = dft_deaths.rename(columns = {'index':'state'})"
   ]
  },
  {
   "cell_type": "code",
   "execution_count": 10,
   "metadata": {
    "execution": {
     "iopub.execute_input": "2020-09-26T13:20:49.574084Z",
     "iopub.status.busy": "2020-09-26T13:20:49.573323Z",
     "iopub.status.idle": "2020-09-26T13:20:49.577070Z",
     "shell.execute_reply": "2020-09-26T13:20:49.577520Z"
    },
    "papermill": {
     "duration": 0.032008,
     "end_time": "2020-09-26T13:20:49.577647",
     "exception": false,
     "start_time": "2020-09-26T13:20:49.545639",
     "status": "completed"
    },
    "tags": []
   },
   "outputs": [],
   "source": [
    "#hide\n",
    "dfc_cases = dft_cases.groupby('state')[dt_today].sum()\n",
    "dfc_deaths = dft_deaths.groupby('state')[dt_today].sum()\n",
    "dfp_cases = dft_cases.groupby('state')[dt_yday].sum()\n",
    "dfp_deaths = dft_deaths.groupby('state')[dt_yday].sum()"
   ]
  },
  {
   "cell_type": "code",
   "execution_count": 11,
   "metadata": {
    "execution": {
     "iopub.execute_input": "2020-09-26T13:20:49.624156Z",
     "iopub.status.busy": "2020-09-26T13:20:49.623538Z",
     "iopub.status.idle": "2020-09-26T13:20:49.630964Z",
     "shell.execute_reply": "2020-09-26T13:20:49.630113Z"
    },
    "papermill": {
     "duration": 0.037853,
     "end_time": "2020-09-26T13:20:49.631422",
     "exception": false,
     "start_time": "2020-09-26T13:20:49.593569",
     "status": "completed"
    },
    "tags": []
   },
   "outputs": [
    {
     "data": {
      "text/html": [
       "<div>\n",
       "<style scoped>\n",
       "    .dataframe tbody tr th:only-of-type {\n",
       "        vertical-align: middle;\n",
       "    }\n",
       "\n",
       "    .dataframe tbody tr th {\n",
       "        vertical-align: top;\n",
       "    }\n",
       "\n",
       "    .dataframe thead th {\n",
       "        text-align: right;\n",
       "    }\n",
       "</style>\n",
       "<table border=\"1\" class=\"dataframe\">\n",
       "  <thead>\n",
       "    <tr style=\"text-align: right;\">\n",
       "      <th></th>\n",
       "      <th>states</th>\n",
       "      <th>Cases</th>\n",
       "      <th>Deaths</th>\n",
       "      <th>PCases</th>\n",
       "      <th>PDeaths</th>\n",
       "    </tr>\n",
       "  </thead>\n",
       "  <tbody>\n",
       "    <tr>\n",
       "      <th>0</th>\n",
       "      <td>Maharashtra</td>\n",
       "      <td>1300757</td>\n",
       "      <td>34761</td>\n",
       "      <td>1300757</td>\n",
       "      <td>34761</td>\n",
       "    </tr>\n",
       "    <tr>\n",
       "      <th>1</th>\n",
       "      <td>Andhra Pradesh</td>\n",
       "      <td>661458</td>\n",
       "      <td>5606</td>\n",
       "      <td>661458</td>\n",
       "      <td>5606</td>\n",
       "    </tr>\n",
       "    <tr>\n",
       "      <th>2</th>\n",
       "      <td>Tamil Nadu</td>\n",
       "      <td>569370</td>\n",
       "      <td>9148</td>\n",
       "      <td>569370</td>\n",
       "      <td>9148</td>\n",
       "    </tr>\n",
       "    <tr>\n",
       "      <th>3</th>\n",
       "      <td>Karnataka</td>\n",
       "      <td>557212</td>\n",
       "      <td>8417</td>\n",
       "      <td>557212</td>\n",
       "      <td>8417</td>\n",
       "    </tr>\n",
       "    <tr>\n",
       "      <th>4</th>\n",
       "      <td>Uttar Pradesh</td>\n",
       "      <td>378533</td>\n",
       "      <td>5450</td>\n",
       "      <td>378533</td>\n",
       "      <td>5450</td>\n",
       "    </tr>\n",
       "  </tbody>\n",
       "</table>\n",
       "</div>"
      ],
      "text/plain": [
       "           states    Cases  Deaths   PCases  PDeaths\n",
       "0     Maharashtra  1300757   34761  1300757    34761\n",
       "1  Andhra Pradesh   661458    5606   661458     5606\n",
       "2      Tamil Nadu   569370    9148   569370     9148\n",
       "3       Karnataka   557212    8417   557212     8417\n",
       "4   Uttar Pradesh   378533    5450   378533     5450"
      ]
     },
     "execution_count": 11,
     "metadata": {},
     "output_type": "execute_result"
    }
   ],
   "source": [
    "#hide\n",
    "df_table = pd.DataFrame({'states': dfc_cases.index, 'Cases': dfc_cases.values, 'Deaths': dfc_deaths.values, 'PCases': dfp_cases.values, 'PDeaths': dfp_deaths.values}).set_index('states')\n",
    "df_table = df_table.sort_values(by = ['Cases','Deaths'], ascending = [False, False])\n",
    "df_table = df_table.reset_index()\n",
    "df_table.head()"
   ]
  },
  {
   "cell_type": "code",
   "execution_count": 12,
   "metadata": {
    "execution": {
     "iopub.execute_input": "2020-09-26T13:20:49.672328Z",
     "iopub.status.busy": "2020-09-26T13:20:49.671760Z",
     "iopub.status.idle": "2020-09-26T13:20:49.680408Z",
     "shell.execute_reply": "2020-09-26T13:20:49.680914Z"
    },
    "papermill": {
     "duration": 0.031428,
     "end_time": "2020-09-26T13:20:49.681041",
     "exception": false,
     "start_time": "2020-09-26T13:20:49.649613",
     "status": "completed"
    },
    "tags": []
   },
   "outputs": [],
   "source": [
    "#hide\n",
    "for c in 'Cases, Deaths'.split(', '):\n",
    "    df_table[f'{c} (+)'] = (df_table[c] - df_table[f'P{c}']).clip(0)\n",
    "df_table['Fatality Rate'] = (100* df_table['Deaths']/ df_table['Cases']).round(2)"
   ]
  },
  {
   "cell_type": "code",
   "execution_count": 13,
   "metadata": {
    "execution": {
     "iopub.execute_input": "2020-09-26T13:20:49.724818Z",
     "iopub.status.busy": "2020-09-26T13:20:49.724208Z",
     "iopub.status.idle": "2020-09-26T13:20:49.726960Z",
     "shell.execute_reply": "2020-09-26T13:20:49.727489Z"
    },
    "papermill": {
     "duration": 0.030455,
     "end_time": "2020-09-26T13:20:49.727673",
     "exception": false,
     "start_time": "2020-09-26T13:20:49.697218",
     "status": "completed"
    },
    "tags": []
   },
   "outputs": [
    {
     "data": {
      "text/html": [
       "<div>\n",
       "<style scoped>\n",
       "    .dataframe tbody tr th:only-of-type {\n",
       "        vertical-align: middle;\n",
       "    }\n",
       "\n",
       "    .dataframe tbody tr th {\n",
       "        vertical-align: top;\n",
       "    }\n",
       "\n",
       "    .dataframe thead th {\n",
       "        text-align: right;\n",
       "    }\n",
       "</style>\n",
       "<table border=\"1\" class=\"dataframe\">\n",
       "  <thead>\n",
       "    <tr style=\"text-align: right;\">\n",
       "      <th></th>\n",
       "      <th>states</th>\n",
       "      <th>Cases</th>\n",
       "      <th>Deaths</th>\n",
       "      <th>PCases</th>\n",
       "      <th>PDeaths</th>\n",
       "      <th>Cases (+)</th>\n",
       "      <th>Deaths (+)</th>\n",
       "      <th>Fatality Rate</th>\n",
       "    </tr>\n",
       "  </thead>\n",
       "  <tbody>\n",
       "    <tr>\n",
       "      <th>0</th>\n",
       "      <td>Maharashtra</td>\n",
       "      <td>1300757</td>\n",
       "      <td>34761</td>\n",
       "      <td>1300757</td>\n",
       "      <td>34761</td>\n",
       "      <td>0</td>\n",
       "      <td>0</td>\n",
       "      <td>2.67</td>\n",
       "    </tr>\n",
       "    <tr>\n",
       "      <th>1</th>\n",
       "      <td>Andhra Pradesh</td>\n",
       "      <td>661458</td>\n",
       "      <td>5606</td>\n",
       "      <td>661458</td>\n",
       "      <td>5606</td>\n",
       "      <td>0</td>\n",
       "      <td>0</td>\n",
       "      <td>0.85</td>\n",
       "    </tr>\n",
       "    <tr>\n",
       "      <th>2</th>\n",
       "      <td>Tamil Nadu</td>\n",
       "      <td>569370</td>\n",
       "      <td>9148</td>\n",
       "      <td>569370</td>\n",
       "      <td>9148</td>\n",
       "      <td>0</td>\n",
       "      <td>0</td>\n",
       "      <td>1.61</td>\n",
       "    </tr>\n",
       "    <tr>\n",
       "      <th>3</th>\n",
       "      <td>Karnataka</td>\n",
       "      <td>557212</td>\n",
       "      <td>8417</td>\n",
       "      <td>557212</td>\n",
       "      <td>8417</td>\n",
       "      <td>0</td>\n",
       "      <td>0</td>\n",
       "      <td>1.51</td>\n",
       "    </tr>\n",
       "    <tr>\n",
       "      <th>4</th>\n",
       "      <td>Uttar Pradesh</td>\n",
       "      <td>378533</td>\n",
       "      <td>5450</td>\n",
       "      <td>378533</td>\n",
       "      <td>5450</td>\n",
       "      <td>0</td>\n",
       "      <td>0</td>\n",
       "      <td>1.44</td>\n",
       "    </tr>\n",
       "  </tbody>\n",
       "</table>\n",
       "</div>"
      ],
      "text/plain": [
       "           states    Cases  Deaths   PCases  PDeaths  Cases (+)  Deaths (+)  \\\n",
       "0     Maharashtra  1300757   34761  1300757    34761          0           0   \n",
       "1  Andhra Pradesh   661458    5606   661458     5606          0           0   \n",
       "2      Tamil Nadu   569370    9148   569370     9148          0           0   \n",
       "3       Karnataka   557212    8417   557212     8417          0           0   \n",
       "4   Uttar Pradesh   378533    5450   378533     5450          0           0   \n",
       "\n",
       "   Fatality Rate  \n",
       "0           2.67  \n",
       "1           0.85  \n",
       "2           1.61  \n",
       "3           1.51  \n",
       "4           1.44  "
      ]
     },
     "execution_count": 13,
     "metadata": {},
     "output_type": "execute_result"
    }
   ],
   "source": [
    "#hide\n",
    "df_table.head()"
   ]
  },
  {
   "cell_type": "code",
   "execution_count": 14,
   "metadata": {
    "execution": {
     "iopub.execute_input": "2020-09-26T13:20:49.767396Z",
     "iopub.status.busy": "2020-09-26T13:20:49.766677Z",
     "iopub.status.idle": "2020-09-26T13:20:49.784413Z",
     "shell.execute_reply": "2020-09-26T13:20:49.783924Z"
    },
    "papermill": {
     "duration": 0.040188,
     "end_time": "2020-09-26T13:20:49.784528",
     "exception": false,
     "start_time": "2020-09-26T13:20:49.744340",
     "status": "completed"
    },
    "tags": []
   },
   "outputs": [
    {
     "data": {
      "text/plain": [
       "{'updated': '2020-09-26',\n",
       " 'since': '2020-09-25',\n",
       " 'Cases': 5915754,\n",
       " 'PCases': 5901826,\n",
       " 'Deaths': 93461,\n",
       " 'PDeaths': 93410,\n",
       " 'Cases (+)': 13928,\n",
       " 'Deaths (+)': 51}"
      ]
     },
     "execution_count": 14,
     "metadata": {},
     "output_type": "execute_result"
    }
   ],
   "source": [
    "#hide\n",
    "summary = {'updated':dates[-1], 'since':dates[-2]}\n",
    "list_names = ['Cases', 'PCases', 'Deaths', 'PDeaths', 'Cases (+)', 'Deaths (+)']\n",
    "for name in list_names:\n",
    "    summary[name] = df_table.sum()[name]\n",
    "summary"
   ]
  },
  {
   "cell_type": "code",
   "execution_count": 15,
   "metadata": {
    "execution": {
     "iopub.execute_input": "2020-09-26T13:20:49.825982Z",
     "iopub.status.busy": "2020-09-26T13:20:49.825332Z",
     "iopub.status.idle": "2020-09-26T13:20:49.827230Z",
     "shell.execute_reply": "2020-09-26T13:20:49.827780Z"
    },
    "papermill": {
     "duration": 0.024518,
     "end_time": "2020-09-26T13:20:49.827921",
     "exception": false,
     "start_time": "2020-09-26T13:20:49.803403",
     "status": "completed"
    },
    "tags": []
   },
   "outputs": [],
   "source": [
    "#hide\n",
    "overview = '''\n",
    "<!-- #######  HTML!! #########-->\n",
    "<h1 style=\"color: #5e9ca0; text-align: center;\">India</h1>\n",
    "<p style=\"text-align: center;\">Last update: <strong>{update}</strong></p>\n",
    "<p style=\"text-align: center;\">Confirmed cases:</p>\n",
    "<p style=\"text-align: center;font-size:24px;\">{cases} (<span style=\"color: #ff0000;\">+{new}</span>)</p>\n",
    "<p style=\"text-align: center;\">Confirmed deaths:</p>\n",
    "<p style=\"text-align: center;font-size:24px;\">{deaths} (<span style=\"color: #ff0000;\">+{dnew}</span>)</p>\n",
    "'''"
   ]
  },
  {
   "cell_type": "code",
   "execution_count": 16,
   "metadata": {
    "execution": {
     "iopub.execute_input": "2020-09-26T13:20:49.869857Z",
     "iopub.status.busy": "2020-09-26T13:20:49.869246Z",
     "iopub.status.idle": "2020-09-26T13:20:49.872179Z",
     "shell.execute_reply": "2020-09-26T13:20:49.872743Z"
    },
    "papermill": {
     "duration": 0.026598,
     "end_time": "2020-09-26T13:20:49.872885",
     "exception": false,
     "start_time": "2020-09-26T13:20:49.846287",
     "status": "completed"
    },
    "tags": []
   },
   "outputs": [
    {
     "data": {
      "text/html": [
       "\n",
       "<!-- #######  HTML!! #########-->\n",
       "<h1 style=\"color: #5e9ca0; text-align: center;\">India</h1>\n",
       "<p style=\"text-align: center;\">Last update: <strong>2020-09-26</strong></p>\n",
       "<p style=\"text-align: center;\">Confirmed cases:</p>\n",
       "<p style=\"text-align: center;font-size:24px;\">5915754 (<span style=\"color: #ff0000;\">+13928</span>)</p>\n",
       "<p style=\"text-align: center;\">Confirmed deaths:</p>\n",
       "<p style=\"text-align: center;font-size:24px;\">93461 (<span style=\"color: #ff0000;\">+51</span>)</p>\n"
      ],
      "text/plain": [
       "<IPython.core.display.HTML object>"
      ]
     },
     "metadata": {},
     "output_type": "display_data"
    }
   ],
   "source": [
    "#hide_input\n",
    "update = summary['updated']\n",
    "cases = summary['Cases']\n",
    "new = summary['Cases (+)']\n",
    "deaths = summary['Deaths']\n",
    "dnew = summary['Deaths (+)']\n",
    "\n",
    "html = HTML(overview.format(update=update, cases=cases,new=new,deaths=deaths,dnew=dnew))\n",
    "\n",
    "display(html)"
   ]
  },
  {
   "cell_type": "code",
   "execution_count": 17,
   "metadata": {
    "execution": {
     "iopub.execute_input": "2020-09-26T13:20:49.915939Z",
     "iopub.status.busy": "2020-09-26T13:20:49.915381Z",
     "iopub.status.idle": "2020-09-26T13:20:49.920323Z",
     "shell.execute_reply": "2020-09-26T13:20:49.920927Z"
    },
    "papermill": {
     "duration": 0.031114,
     "end_time": "2020-09-26T13:20:49.921078",
     "exception": false,
     "start_time": "2020-09-26T13:20:49.889964",
     "status": "completed"
    },
    "tags": []
   },
   "outputs": [],
   "source": [
    "#hide\n",
    "dt_cols = list(dft_cases.columns[1:])\n",
    "dft_ct_new_cases = dft_cases.groupby('state')[dt_cols].sum().diff(axis=1).fillna(0).astype(int)\n",
    "dft_ct_new_cases.sort_values(by = dates[-1], ascending = False,inplace = True)"
   ]
  },
  {
   "cell_type": "code",
   "execution_count": 18,
   "metadata": {
    "execution": {
     "iopub.execute_input": "2020-09-26T13:20:49.984891Z",
     "iopub.status.busy": "2020-09-26T13:20:49.984279Z",
     "iopub.status.idle": "2020-09-26T13:20:49.987327Z",
     "shell.execute_reply": "2020-09-26T13:20:49.987795Z"
    },
    "papermill": {
     "duration": 0.049052,
     "end_time": "2020-09-26T13:20:49.987936",
     "exception": false,
     "start_time": "2020-09-26T13:20:49.938884",
     "status": "completed"
    },
    "tags": []
   },
   "outputs": [
    {
     "data": {
      "text/html": [
       "<div>\n",
       "<style scoped>\n",
       "    .dataframe tbody tr th:only-of-type {\n",
       "        vertical-align: middle;\n",
       "    }\n",
       "\n",
       "    .dataframe tbody tr th {\n",
       "        vertical-align: top;\n",
       "    }\n",
       "\n",
       "    .dataframe thead th {\n",
       "        text-align: right;\n",
       "    }\n",
       "</style>\n",
       "<table border=\"1\" class=\"dataframe\">\n",
       "  <thead>\n",
       "    <tr style=\"text-align: right;\">\n",
       "      <th>states</th>\n",
       "      <th>2020-07-01</th>\n",
       "      <th>2020-07-02</th>\n",
       "      <th>2020-07-03</th>\n",
       "      <th>2020-07-04</th>\n",
       "      <th>2020-07-05</th>\n",
       "      <th>2020-07-06</th>\n",
       "      <th>2020-07-07</th>\n",
       "      <th>2020-07-08</th>\n",
       "      <th>2020-07-09</th>\n",
       "      <th>2020-07-10</th>\n",
       "      <th>...</th>\n",
       "      <th>2020-09-17</th>\n",
       "      <th>2020-09-18</th>\n",
       "      <th>2020-09-19</th>\n",
       "      <th>2020-09-20</th>\n",
       "      <th>2020-09-21</th>\n",
       "      <th>2020-09-22</th>\n",
       "      <th>2020-09-23</th>\n",
       "      <th>2020-09-24</th>\n",
       "      <th>2020-09-25</th>\n",
       "      <th>2020-09-26</th>\n",
       "    </tr>\n",
       "    <tr>\n",
       "      <th>state</th>\n",
       "      <th></th>\n",
       "      <th></th>\n",
       "      <th></th>\n",
       "      <th></th>\n",
       "      <th></th>\n",
       "      <th></th>\n",
       "      <th></th>\n",
       "      <th></th>\n",
       "      <th></th>\n",
       "      <th></th>\n",
       "      <th></th>\n",
       "      <th></th>\n",
       "      <th></th>\n",
       "      <th></th>\n",
       "      <th></th>\n",
       "      <th></th>\n",
       "      <th></th>\n",
       "      <th></th>\n",
       "      <th></th>\n",
       "      <th></th>\n",
       "      <th></th>\n",
       "    </tr>\n",
       "  </thead>\n",
       "  <tbody>\n",
       "    <tr>\n",
       "      <th>Kerala</th>\n",
       "      <td>0</td>\n",
       "      <td>160</td>\n",
       "      <td>211</td>\n",
       "      <td>240</td>\n",
       "      <td>225</td>\n",
       "      <td>193</td>\n",
       "      <td>272</td>\n",
       "      <td>301</td>\n",
       "      <td>339</td>\n",
       "      <td>416</td>\n",
       "      <td>...</td>\n",
       "      <td>4351</td>\n",
       "      <td>4167</td>\n",
       "      <td>4644</td>\n",
       "      <td>4696</td>\n",
       "      <td>2910</td>\n",
       "      <td>4125</td>\n",
       "      <td>5376</td>\n",
       "      <td>6324</td>\n",
       "      <td>6477</td>\n",
       "      <td>7006</td>\n",
       "    </tr>\n",
       "    <tr>\n",
       "      <th>Odisha</th>\n",
       "      <td>0</td>\n",
       "      <td>229</td>\n",
       "      <td>561</td>\n",
       "      <td>495</td>\n",
       "      <td>469</td>\n",
       "      <td>456</td>\n",
       "      <td>571</td>\n",
       "      <td>527</td>\n",
       "      <td>577</td>\n",
       "      <td>755</td>\n",
       "      <td>...</td>\n",
       "      <td>4241</td>\n",
       "      <td>4180</td>\n",
       "      <td>4209</td>\n",
       "      <td>4330</td>\n",
       "      <td>4242</td>\n",
       "      <td>4189</td>\n",
       "      <td>4237</td>\n",
       "      <td>4340</td>\n",
       "      <td>4208</td>\n",
       "      <td>4356</td>\n",
       "    </tr>\n",
       "    <tr>\n",
       "      <th>Telangana</th>\n",
       "      <td>0</td>\n",
       "      <td>1213</td>\n",
       "      <td>1892</td>\n",
       "      <td>1850</td>\n",
       "      <td>1590</td>\n",
       "      <td>1831</td>\n",
       "      <td>1879</td>\n",
       "      <td>1924</td>\n",
       "      <td>1410</td>\n",
       "      <td>1278</td>\n",
       "      <td>...</td>\n",
       "      <td>2159</td>\n",
       "      <td>2043</td>\n",
       "      <td>2123</td>\n",
       "      <td>2137</td>\n",
       "      <td>1302</td>\n",
       "      <td>2166</td>\n",
       "      <td>2296</td>\n",
       "      <td>2176</td>\n",
       "      <td>2381</td>\n",
       "      <td>2239</td>\n",
       "    </tr>\n",
       "    <tr>\n",
       "      <th>Tripura</th>\n",
       "      <td>0</td>\n",
       "      <td>39</td>\n",
       "      <td>93</td>\n",
       "      <td>25</td>\n",
       "      <td>23</td>\n",
       "      <td>111</td>\n",
       "      <td>24</td>\n",
       "      <td>57</td>\n",
       "      <td>16</td>\n",
       "      <td>142</td>\n",
       "      <td>...</td>\n",
       "      <td>527</td>\n",
       "      <td>273</td>\n",
       "      <td>535</td>\n",
       "      <td>525</td>\n",
       "      <td>243</td>\n",
       "      <td>559</td>\n",
       "      <td>504</td>\n",
       "      <td>451</td>\n",
       "      <td>341</td>\n",
       "      <td>278</td>\n",
       "    </tr>\n",
       "    <tr>\n",
       "      <th>Mizoram</th>\n",
       "      <td>0</td>\n",
       "      <td>2</td>\n",
       "      <td>0</td>\n",
       "      <td>2</td>\n",
       "      <td>22</td>\n",
       "      <td>11</td>\n",
       "      <td>1</td>\n",
       "      <td>5</td>\n",
       "      <td>0</td>\n",
       "      <td>23</td>\n",
       "      <td>...</td>\n",
       "      <td>26</td>\n",
       "      <td>28</td>\n",
       "      <td>14</td>\n",
       "      <td>30</td>\n",
       "      <td>7</td>\n",
       "      <td>106</td>\n",
       "      <td>22</td>\n",
       "      <td>46</td>\n",
       "      <td>27</td>\n",
       "      <td>49</td>\n",
       "    </tr>\n",
       "  </tbody>\n",
       "</table>\n",
       "<p>5 rows × 88 columns</p>\n",
       "</div>"
      ],
      "text/plain": [
       "states     2020-07-01  2020-07-02  2020-07-03  2020-07-04  2020-07-05  \\\n",
       "state                                                                   \n",
       "Kerala              0         160         211         240         225   \n",
       "Odisha              0         229         561         495         469   \n",
       "Telangana           0        1213        1892        1850        1590   \n",
       "Tripura             0          39          93          25          23   \n",
       "Mizoram             0           2           0           2          22   \n",
       "\n",
       "states     2020-07-06  2020-07-07  2020-07-08  2020-07-09  2020-07-10  ...  \\\n",
       "state                                                                  ...   \n",
       "Kerala            193         272         301         339         416  ...   \n",
       "Odisha            456         571         527         577         755  ...   \n",
       "Telangana        1831        1879        1924        1410        1278  ...   \n",
       "Tripura           111          24          57          16         142  ...   \n",
       "Mizoram            11           1           5           0          23  ...   \n",
       "\n",
       "states     2020-09-17  2020-09-18  2020-09-19  2020-09-20  2020-09-21  \\\n",
       "state                                                                   \n",
       "Kerala           4351        4167        4644        4696        2910   \n",
       "Odisha           4241        4180        4209        4330        4242   \n",
       "Telangana        2159        2043        2123        2137        1302   \n",
       "Tripura           527         273         535         525         243   \n",
       "Mizoram            26          28          14          30           7   \n",
       "\n",
       "states     2020-09-22  2020-09-23  2020-09-24  2020-09-25  2020-09-26  \n",
       "state                                                                  \n",
       "Kerala           4125        5376        6324        6477        7006  \n",
       "Odisha           4189        4237        4340        4208        4356  \n",
       "Telangana        2166        2296        2176        2381        2239  \n",
       "Tripura           559         504         451         341         278  \n",
       "Mizoram           106          22          46          27          49  \n",
       "\n",
       "[5 rows x 88 columns]"
      ]
     },
     "execution_count": 18,
     "metadata": {},
     "output_type": "execute_result"
    }
   ],
   "source": [
    "#hide\n",
    "dft_ct_new_cases.head()"
   ]
  },
  {
   "cell_type": "code",
   "execution_count": 19,
   "metadata": {
    "execution": {
     "iopub.execute_input": "2020-09-26T13:20:50.348761Z",
     "iopub.status.busy": "2020-09-26T13:20:50.343632Z",
     "iopub.status.idle": "2020-09-26T13:20:54.758414Z",
     "shell.execute_reply": "2020-09-26T13:20:54.758883Z"
    },
    "papermill": {
     "duration": 4.753054,
     "end_time": "2020-09-26T13:20:54.759035",
     "exception": false,
     "start_time": "2020-09-26T13:20:50.005981",
     "status": "completed"
    },
    "tags": []
   },
   "outputs": [
    {
     "data": {
      "image/png": "[encoded data removed]",
      "text/plain": [
       "<Figure size 1296x2016 with 11 Axes>"
      ]
     },
     "metadata": {
      "needs_background": "light"
     },
     "output_type": "display_data"
    }
   ],
   "source": [
    "#hide_input\n",
    "df = dft_ct_new_cases.copy()\n",
    "df.loc['Total'] = df.sum()\n",
    "n = 5\n",
    "ax = []\n",
    "fig = plt.figure(figsize = (18,28))\n",
    "gs = fig.add_gridspec(n+2, 5)\n",
    "# gs = fig.add_gridspec(2, 3)\n",
    "ax1 = fig.add_subplot(gs[0, :])\n",
    "ef = df.loc['Total'].rename_axis('date').reset_index()\n",
    "ef['date'] = ef['date'].astype('datetime64[ns]')\n",
    "ax1.bar(ef.date,ef.Total,alpha=0.3,color='#007acc')\n",
    "ax1.plot(ef.date,ef.Total , marker=\"o\", color='#007acc')\n",
    "ax1.xaxis.set_major_locator(mdates.WeekdayLocator())\n",
    "ax1.xaxis.set_major_formatter(mdates.DateFormatter('%b %d'))\n",
    "ax1.text(0.02, 0.5,'India daily case count', transform = ax1.transAxes, fontsize=25);\n",
    "ax1.spines['right'].set_visible(False)\n",
    "ax1.spines['top'].set_visible(False)\n",
    "\n",
    "ax2 = fig.add_subplot(gs[1,0])\n",
    "ef = df.loc['Maharashtra'].rename_axis('date').reset_index()\n",
    "ef['date'] = ef['date'].astype('datetime64[ns]')\n",
    "\n",
    "ax2.bar(ef.date, ef.Maharashtra,color = '#007acc',alpha=0.5)\n",
    "ax2.xaxis.set_major_locator(mdates.WeekdayLocator())\n",
    "ax2.xaxis.set_major_formatter(mdates.DateFormatter('%b %d'))\n",
    "ax2.set_xticks(ax2.get_xticks()[::3])\n",
    "maxyval = ef.Maharashtra.max()\n",
    "ax2.set_ylim([0,maxyval])\n",
    "ax2.text(0.05, 0.9,'Maharashtra', transform = ax2.transAxes, fontsize=20);\n",
    "ax2.spines['right'].set_visible(False)\n",
    "ax2.spines['top'].set_visible(False)\n",
    "\n",
    "\n",
    "ax3 = fig.add_subplot(gs[1,1])\n",
    "ef = df.loc['Tamil Nadu'].rename_axis('date').reset_index()\n",
    "ef['date'] = ef['date'].astype('datetime64[ns]')\n",
    "ax3.bar(ef.date, ef['Tamil Nadu'],color = '#007acc',alpha=0.5,)\n",
    "ax3.xaxis.set_major_locator(mdates.WeekdayLocator())\n",
    "ax3.xaxis.set_major_formatter(mdates.DateFormatter('%b %d'))\n",
    "ax3.set_xticks(ax3.get_xticks()[::3])\n",
    "ax3.text(0.05, 0.9,'Tamil Nadu', transform = ax3.transAxes, fontsize=20);\n",
    "ax3.spines['right'].set_visible(False)\n",
    "ax3.spines['top'].set_visible(False)\n",
    "\n",
    "ax5 = fig.add_subplot(gs[1,3])\n",
    "ef = df.loc['Telangana'].rename_axis('date').reset_index()\n",
    "ef['date'] = ef['date'].astype('datetime64[ns]')\n",
    "ax5.bar(ef.date, ef['Telangana'],color = '#007acc',alpha=0.5,)\n",
    "ax5.xaxis.set_major_locator(mdates.WeekdayLocator())\n",
    "ax5.xaxis.set_major_formatter(mdates.DateFormatter('%b %d'))\n",
    "ax5.set_xticks(ax5.get_xticks()[::3])\n",
    "ax5.text(0.05, 0.9,'Telangana', transform = ax5.transAxes, fontsize=20);\n",
    "ax5.spines['right'].set_visible(False)\n",
    "ax5.spines['top'].set_visible(False)\n",
    "\n",
    "ax6 = fig.add_subplot(gs[1,4])\n",
    "ef = df.loc['Andhra Pradesh'].rename_axis('date').reset_index()\n",
    "ef['date'] = ef['date'].astype('datetime64[ns]')\n",
    "ax6.bar(ef.date, ef['Andhra Pradesh'],color = '#007acc',alpha=0.5,)\n",
    "ax6.xaxis.set_major_locator(mdates.WeekdayLocator())\n",
    "ax6.xaxis.set_major_formatter(mdates.DateFormatter('%b %d'))\n",
    "ax6.set_xticks(ax6.get_xticks()[::3])\n",
    "ax6.text(0.05, 1,'Andhra Pradesh', transform = ax6.transAxes, fontsize=20);\n",
    "ax6.spines['right'].set_visible(False)\n",
    "ax6.spines['top'].set_visible(False)\n",
    "\n",
    "ax4 = fig.add_subplot(gs[1,2])\n",
    "ef = df.loc['Delhi'].rename_axis('date').reset_index()\n",
    "ef['date'] = ef['date'].astype('datetime64[ns]')\n",
    "ax4.bar(ef.date, ef.Delhi,color = '#007acc',alpha=0.5)\n",
    "ax4.set_xticks([])\n",
    "ax4.xaxis.set_major_locator(mdates.WeekdayLocator())\n",
    "ax4.xaxis.set_major_formatter(mdates.DateFormatter('%b %d'))\n",
    "ax4.set_xticks(ax4.get_xticks()[::3])\n",
    "ax4.spines['right'].set_visible(False)\n",
    "ax4.spines['top'].set_visible(False)\n",
    "\n",
    "ax4.text(0.05, 1,'Delhi', transform = ax4.transAxes, fontsize=20)\n",
    "\n",
    "for i in range(n):\n",
    "    \n",
    "    ax.append(fig.add_subplot(gs[i+2,:]))\n",
    "    ef = df.iloc[i+3].rename_axis('date').reset_index()\n",
    "    ef['date'] = ef['date'].astype('datetime64[ns]')\n",
    "    ax[i].bar(ef.date,ef.iloc[:,-1],color = '#007acc',alpha=0.3)\n",
    "    ax[i].plot(ef.date,ef.iloc[:,-1],marker='o',color='#007acc')\n",
    "    ax[i].text(0.02,0.5,f'{ef.columns.values[-1]}',transform = ax[i].transAxes, fontsize = 20);\n",
    "    ax[i].xaxis.set_major_locator(mdates.WeekdayLocator())\n",
    "    ax[i].xaxis.set_major_formatter(mdates.DateFormatter('%b %d'))\n",
    "    ax[i].set_ylim([0,7000])\n",
    "    ax[i].spines['right'].set_visible(False)\n",
    "    ax[i].spines['top'].set_visible(False)\n",
    "plt.tight_layout()\n"
   ]
  },
  {
   "cell_type": "code",
   "execution_count": 20,
   "metadata": {
    "execution": {
     "iopub.execute_input": "2020-09-26T13:20:54.810753Z",
     "iopub.status.busy": "2020-09-26T13:20:54.810075Z",
     "iopub.status.idle": "2020-09-26T13:20:54.814525Z",
     "shell.execute_reply": "2020-09-26T13:20:54.813911Z"
    },
    "papermill": {
     "duration": 0.033982,
     "end_time": "2020-09-26T13:20:54.814686",
     "exception": false,
     "start_time": "2020-09-26T13:20:54.780704",
     "status": "completed"
    },
    "tags": []
   },
   "outputs": [
    {
     "name": "stdout",
     "output_type": "stream",
     "text": [
      "                                   states    Cases  Deaths   PCases  PDeaths  Cases (+)  Deaths (+)  Fatality Rate\n",
      "                              Maharashtra  1300757   34761  1300757    34761          0           0           2.67\n",
      "                           Andhra Pradesh   661458    5606   661458     5606          0           0           0.85\n",
      "                               Tamil Nadu   569370    9148   569370     9148          0           0           1.61\n",
      "                                Karnataka   557212    8417   557212     8417          0           0           1.51\n",
      "                            Uttar Pradesh   378533    5450   378533     5450          0           0           1.44\n",
      "                                    Delhi   264450    5147   264450     5147          0           0           1.95\n",
      "                              West Bengal   241059    4665   241059     4665          0           0           1.94\n",
      "                                   Odisha   205452     836   201096      820       4356          16           0.41\n",
      "                                Telangana   183866    1091   181627     1080       2239          11           0.59\n",
      "                                    Bihar   175898     881   175898      881          0           0           0.50\n",
      "                                   Kerala   167941     657   160935      636       7006          21           0.39\n",
      "                                    Assam   167374     625   167374      625          0           0           0.37\n",
      "                                  Gujarat   130391    3394   130391     3394          0           0           2.60\n",
      "                                Rajasthan   124730    1412   124730     1412          0           0           1.13\n",
      "                                  Haryana   120578    1273   120578     1273          0           0           1.06\n",
      "                           Madhya Pradesh   117588    2152   117588     2152          0           0           1.83\n",
      "                                   Punjab   107096    3134   107096     3134          0           0           2.93\n",
      "                             Chhattisgarh    98565     777    98565      777          0           0           0.79\n",
      "                                Jharkhand    77709     661    77709      661          0           0           0.85\n",
      "                        Jammu and Kashmir    69832    1105    69832     1105          0           0           1.58\n",
      "                              Uttarakhand    45332     555    45332      555          0           0           1.22\n",
      "                                      Goa    31071     386    31071      386          0           0           1.24\n",
      "                               Puducherry    25489     494    25489      494          0           0           1.94\n",
      "                                  Tripura    24405     265    24127      262        278           3           1.09\n",
      "                         Himachal Pradesh    13679     152    13679      152          0           0           1.11\n",
      "                               Chandigarh    11212     145    11212      145          0           0           1.29\n",
      "                                  Manipur     9791      63     9791       63          0           0           0.64\n",
      "                        Arunachal Pradesh     8671      14     8671       14          0           0           0.16\n",
      "                                 Nagaland     5768      11     5768       11          0           0           0.19\n",
      "                                Meghalaya     5158      43     5158       43          0           0           0.83\n",
      "                                   Ladakh     4025      56     4025       56          0           0           1.39\n",
      "              Andaman and Nicobar Islands     3759      52     3759       52          0           0           1.38\n",
      " Dadra and Nagar Haveli and Daman and Diu     2993       2     2993        2          0           0           0.07\n",
      "                                   Sikkim     2707      31     2707       31          0           0           1.15\n",
      "                                  Mizoram     1835       0     1786        0         49           0           0.00\n",
      "                              Lakshadweep        0       0        0        0          0           0            NaN\n"
     ]
    }
   ],
   "source": [
    "#hide_input\n",
    "print(df_table.to_string(index=False))"
   ]
  },
  {
   "cell_type": "code",
   "execution_count": null,
   "metadata": {
    "papermill": {
     "duration": 0.024545,
     "end_time": "2020-09-26T13:20:54.867688",
     "exception": false,
     "start_time": "2020-09-26T13:20:54.843143",
     "status": "completed"
    },
    "tags": []
   },
   "outputs": [],
   "source": []
  },
  {
   "cell_type": "code",
   "execution_count": null,
   "metadata": {
    "papermill": {
     "duration": 0.02324,
     "end_time": "2020-09-26T13:20:54.913748",
     "exception": false,
     "start_time": "2020-09-26T13:20:54.890508",
     "status": "completed"
    },
    "tags": []
   },
   "outputs": [],
   "source": []
  }
 ],
 "metadata": {
  "kernelspec": {
   "display_name": "Python 3",
   "language": "python",
   "name": "python3"
  },
  "language_info": {
   "codemirror_mode": {
    "name": "ipython",
    "version": 3
   },
   "file_extension": ".py",
   "mimetype": "text/x-python",
   "name": "python",
   "nbconvert_exporter": "python",
   "pygments_lexer": "ipython3",
   "version": "3.6.12"
  },
  "papermill": {
   "duration": 12.325085,
   "end_time": "2020-09-26T13:20:56.340668",
   "environment_variables": {},
   "exception": null,
   "input_path": "latest.ipynb",
   "output_path": "latest.ipynb",
   "parameters": {},
   "start_time": "2020-09-26T13:20:44.015583",
   "version": "2.1.2"
  }
 },
 "nbformat": 4,
 "nbformat_minor": 4
}