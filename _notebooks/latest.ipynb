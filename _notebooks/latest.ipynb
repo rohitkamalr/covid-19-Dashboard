{
 "cells": [
  {
   "cell_type": "markdown",
   "metadata": {
    "papermill": {
     "duration": 0.022184,
     "end_time": "2020-10-01T13:22:54.104996",
     "exception": false,
     "start_time": "2020-10-01T13:22:54.082812",
     "status": "completed"
    },
    "tags": []
   },
   "source": [
    "# Latest COVID-19 India Matplotlib Overview"
   ]
  },
  {
   "cell_type": "code",
   "execution_count": 1,
   "metadata": {
    "execution": {
     "iopub.execute_input": "2020-10-01T13:22:54.148644Z",
     "iopub.status.busy": "2020-10-01T13:22:54.147939Z",
     "iopub.status.idle": "2020-10-01T13:22:54.792611Z",
     "shell.execute_reply": "2020-10-01T13:22:54.792020Z"
    },
    "papermill": {
     "duration": 0.669911,
     "end_time": "2020-10-01T13:22:54.792787",
     "exception": false,
     "start_time": "2020-10-01T13:22:54.122876",
     "status": "completed"
    },
    "tags": []
   },
   "outputs": [],
   "source": [
    "#hide\n",
    "import pandas as pd\n",
    "import numpy as np\n",
    "import requests\n",
    "import json\n",
    "import matplotlib.pyplot as plt\n",
    "import matplotlib.dates as mdates\n",
    "import matplotlib as mpl\n",
    "from IPython.core.display import display,HTML\n",
    "%matplotlib inline\n",
    "from datetime import date"
   ]
  },
  {
   "cell_type": "code",
   "execution_count": 2,
   "metadata": {
    "execution": {
     "iopub.execute_input": "2020-10-01T13:22:54.838446Z",
     "iopub.status.busy": "2020-10-01T13:22:54.837753Z",
     "iopub.status.idle": "2020-10-01T13:22:55.266239Z",
     "shell.execute_reply": "2020-10-01T13:22:55.265668Z"
    },
    "papermill": {
     "duration": 0.452993,
     "end_time": "2020-10-01T13:22:55.266404",
     "exception": false,
     "start_time": "2020-10-01T13:22:54.813411",
     "status": "completed"
    },
    "tags": []
   },
   "outputs": [],
   "source": [
    "#hide\n",
    "df  = pd.read_csv('https://api.covid19india.org/csv/latest/states.csv')\n",
    "df = df[['Date','State','Confirmed','Deceased']]\n",
    "df = df.rename(columns={'Confirmed':'Cases', \"Deceased\":'Deaths'})\n",
    "df_cases = df[[\"Date\",'State','Cases']]\n",
    "df_deaths = df[['Date','State','Deaths']]\n",
    "df_cases1 = df_cases.groupby('Date')\n",
    "df_deaths1= df_deaths.groupby('Date')"
   ]
  },
  {
   "cell_type": "code",
   "execution_count": 3,
   "metadata": {
    "execution": {
     "iopub.execute_input": "2020-10-01T13:22:55.313398Z",
     "iopub.status.busy": "2020-10-01T13:22:55.312255Z",
     "iopub.status.idle": "2020-10-01T13:22:55.331395Z",
     "shell.execute_reply": "2020-10-01T13:22:55.331919Z"
    },
    "papermill": {
     "duration": 0.04588,
     "end_time": "2020-10-01T13:22:55.332099",
     "exception": false,
     "start_time": "2020-10-01T13:22:55.286219",
     "status": "completed"
    },
    "tags": []
   },
   "outputs": [],
   "source": [
    "#hide\n",
    "df_snap = pd.read_csv('data/SnapshotCases-28-July.csv')\n",
    "arr_states = df_snap['states'].unique()\n",
    "arr_dates = df['Date'].unique()\n",
    "df_snap = df_snap.set_index('states')"
   ]
  },
  {
   "cell_type": "code",
   "execution_count": 4,
   "metadata": {
    "execution": {
     "iopub.execute_input": "2020-10-01T13:22:55.373885Z",
     "iopub.status.busy": "2020-10-01T13:22:55.373199Z",
     "iopub.status.idle": "2020-10-01T13:22:55.376793Z",
     "shell.execute_reply": "2020-10-01T13:22:55.376060Z"
    },
    "papermill": {
     "duration": 0.027817,
     "end_time": "2020-10-01T13:22:55.376945",
     "exception": false,
     "start_time": "2020-10-01T13:22:55.349128",
     "status": "completed"
    },
    "tags": []
   },
   "outputs": [
    {
     "data": {
      "text/plain": [
       "array(['Andaman and Nicobar Islands', 'Andhra Pradesh',\n",
       "       'Arunachal Pradesh', 'Assam', 'Bihar', 'Chandigarh',\n",
       "       'Dadra and Nagar Haveli and Daman and Diu', 'Delhi', 'Goa',\n",
       "       'Gujarat', 'Haryana', 'Himachal Pradesh', 'Jammu and Kashmir',\n",
       "       'Jharkhand', 'Karnataka', 'Kerala', 'Lakshadweep',\n",
       "       'Madhya Pradesh', 'Maharashtra', 'Manipur', 'Meghalaya', 'Mizoram',\n",
       "       'Nagaland', 'Odisha', 'Puducherry', 'Punjab', 'Rajasthan',\n",
       "       'Sikkim', 'Tamil Nadu', 'Telangana', 'Tripura', 'Uttar Pradesh',\n",
       "       'West Bengal', 'Chhattisgarh', 'Ladakh', 'Uttarakhand'],\n",
       "      dtype=object)"
      ]
     },
     "execution_count": 4,
     "metadata": {},
     "output_type": "execute_result"
    }
   ],
   "source": [
    "#hide\n",
    "arr_states[-9] = 'Puducherry'\n",
    "arr_states[-10] = 'Odisha'\n",
    "arr_states[6] = 'Dadra and Nagar Haveli and Daman and Diu'\n",
    "arr_states = np.append(arr_states,np.array(['Chhattisgarh','Ladakh','Uttarakhand']))\n",
    "arr_states"
   ]
  },
  {
   "cell_type": "code",
   "execution_count": 5,
   "metadata": {
    "execution": {
     "iopub.execute_input": "2020-10-01T13:22:55.427609Z",
     "iopub.status.busy": "2020-10-01T13:22:55.426901Z",
     "iopub.status.idle": "2020-10-01T13:22:55.435619Z",
     "shell.execute_reply": "2020-10-01T13:22:55.435050Z"
    },
    "papermill": {
     "duration": 0.03817,
     "end_time": "2020-10-01T13:22:55.435776",
     "exception": false,
     "start_time": "2020-10-01T13:22:55.397606",
     "status": "completed"
    },
    "tags": []
   },
   "outputs": [],
   "source": [
    "#hide\n",
    "dates = []\n",
    "for i in arr_dates:\n",
    "    if i>='2020-07-01':\n",
    "        dates.append(i)\n",
    "dict = {'states':dates}\n",
    "for i in arr_states:\n",
    "    dict[i] = [0]*len(dates)\n",
    "dft_cases = pd.DataFrame(dict)\n",
    "dft_deaths = pd.DataFrame(dict)\n"
   ]
  },
  {
   "cell_type": "code",
   "execution_count": 6,
   "metadata": {
    "execution": {
     "iopub.execute_input": "2020-10-01T13:22:55.478844Z",
     "iopub.status.busy": "2020-10-01T13:22:55.478097Z",
     "iopub.status.idle": "2020-10-01T13:22:57.210909Z",
     "shell.execute_reply": "2020-10-01T13:22:57.210305Z"
    },
    "papermill": {
     "duration": 1.756013,
     "end_time": "2020-10-01T13:22:57.211069",
     "exception": false,
     "start_time": "2020-10-01T13:22:55.455056",
     "status": "completed"
    },
    "tags": []
   },
   "outputs": [],
   "source": [
    "#hide\n",
    "for i in range(len(dates)):\n",
    "    df1_deaths = df_deaths1.get_group(dates[i])\n",
    "    for j in range(len(df1_deaths.index)):\n",
    "        if df1_deaths.iloc[j,1] in arr_states:\n",
    "            dft_deaths.loc[i,df1_deaths.iloc[j,1]] = df1_deaths.iloc[j,2]\n",
    "dft_deaths = dft_deaths.set_index('states')"
   ]
  },
  {
   "cell_type": "code",
   "execution_count": 7,
   "metadata": {
    "execution": {
     "iopub.execute_input": "2020-10-01T13:22:57.253817Z",
     "iopub.status.busy": "2020-10-01T13:22:57.253138Z",
     "iopub.status.idle": "2020-10-01T13:22:59.011667Z",
     "shell.execute_reply": "2020-10-01T13:22:59.012223Z"
    },
    "papermill": {
     "duration": 1.784233,
     "end_time": "2020-10-01T13:22:59.012408",
     "exception": false,
     "start_time": "2020-10-01T13:22:57.228175",
     "status": "completed"
    },
    "tags": []
   },
   "outputs": [],
   "source": [
    "#hide\n",
    "for i in range(len(dates)):\n",
    "    df1_cases = df_cases1.get_group(dates[i])\n",
    "    for j in range(len(df1_cases.index)):\n",
    "        if df1_cases.iloc[j,1] in arr_states:\n",
    "            dft_cases.loc[i,df1_cases.iloc[j,1]] = df1_cases.iloc[j,2]\n",
    "dft_cases = dft_cases.set_index('states')"
   ]
  },
  {
   "cell_type": "code",
   "execution_count": 8,
   "metadata": {
    "execution": {
     "iopub.execute_input": "2020-10-01T13:22:59.056323Z",
     "iopub.status.busy": "2020-10-01T13:22:59.055641Z",
     "iopub.status.idle": "2020-10-01T13:22:59.064714Z",
     "shell.execute_reply": "2020-10-01T13:22:59.063666Z"
    },
    "papermill": {
     "duration": 0.03402,
     "end_time": "2020-10-01T13:22:59.064878",
     "exception": false,
     "start_time": "2020-10-01T13:22:59.030858",
     "status": "completed"
    },
    "tags": []
   },
   "outputs": [],
   "source": [
    "#hide\n",
    "dft_cases = dft_cases.T\n",
    "dft_deaths = dft_deaths.T\n",
    "dt_today = dates[-1]\n",
    "dt_yday = dates[-2]"
   ]
  },
  {
   "cell_type": "code",
   "execution_count": 9,
   "metadata": {
    "execution": {
     "iopub.execute_input": "2020-10-01T13:22:59.108644Z",
     "iopub.status.busy": "2020-10-01T13:22:59.105517Z",
     "iopub.status.idle": "2020-10-01T13:22:59.111724Z",
     "shell.execute_reply": "2020-10-01T13:22:59.110958Z"
    },
    "papermill": {
     "duration": 0.029836,
     "end_time": "2020-10-01T13:22:59.111897",
     "exception": false,
     "start_time": "2020-10-01T13:22:59.082061",
     "status": "completed"
    },
    "tags": []
   },
   "outputs": [],
   "source": [
    "#hide\n",
    "dft_cases = dft_cases.reset_index()\n",
    "dft_deaths = dft_deaths.reset_index()\n",
    "dft_cases = dft_cases.rename(columns = {'index':'state'})\n",
    "dft_deaths = dft_deaths.rename(columns = {'index':'state'})"
   ]
  },
  {
   "cell_type": "code",
   "execution_count": 10,
   "metadata": {
    "execution": {
     "iopub.execute_input": "2020-10-01T13:22:59.162180Z",
     "iopub.status.busy": "2020-10-01T13:22:59.161283Z",
     "iopub.status.idle": "2020-10-01T13:22:59.163404Z",
     "shell.execute_reply": "2020-10-01T13:22:59.164089Z"
    },
    "papermill": {
     "duration": 0.034329,
     "end_time": "2020-10-01T13:22:59.164275",
     "exception": false,
     "start_time": "2020-10-01T13:22:59.129946",
     "status": "completed"
    },
    "tags": []
   },
   "outputs": [],
   "source": [
    "#hide\n",
    "dfc_cases = dft_cases.groupby('state')[dt_today].sum()\n",
    "dfc_deaths = dft_deaths.groupby('state')[dt_today].sum()\n",
    "dfp_cases = dft_cases.groupby('state')[dt_yday].sum()\n",
    "dfp_deaths = dft_deaths.groupby('state')[dt_yday].sum()"
   ]
  },
  {
   "cell_type": "code",
   "execution_count": 11,
   "metadata": {
    "execution": {
     "iopub.execute_input": "2020-10-01T13:22:59.218121Z",
     "iopub.status.busy": "2020-10-01T13:22:59.217429Z",
     "iopub.status.idle": "2020-10-01T13:22:59.225214Z",
     "shell.execute_reply": "2020-10-01T13:22:59.224560Z"
    },
    "papermill": {
     "duration": 0.042358,
     "end_time": "2020-10-01T13:22:59.225371",
     "exception": false,
     "start_time": "2020-10-01T13:22:59.183013",
     "status": "completed"
    },
    "tags": []
   },
   "outputs": [
    {
     "data": {
      "text/html": [
       "<div>\n",
       "<style scoped>\n",
       "    .dataframe tbody tr th:only-of-type {\n",
       "        vertical-align: middle;\n",
       "    }\n",
       "\n",
       "    .dataframe tbody tr th {\n",
       "        vertical-align: top;\n",
       "    }\n",
       "\n",
       "    .dataframe thead th {\n",
       "        text-align: right;\n",
       "    }\n",
       "</style>\n",
       "<table border=\"1\" class=\"dataframe\">\n",
       "  <thead>\n",
       "    <tr style=\"text-align: right;\">\n",
       "      <th></th>\n",
       "      <th>states</th>\n",
       "      <th>Cases</th>\n",
       "      <th>Deaths</th>\n",
       "      <th>PCases</th>\n",
       "      <th>PDeaths</th>\n",
       "    </tr>\n",
       "  </thead>\n",
       "  <tbody>\n",
       "    <tr>\n",
       "      <th>0</th>\n",
       "      <td>Maharashtra</td>\n",
       "      <td>1384446</td>\n",
       "      <td>36662</td>\n",
       "      <td>1384446</td>\n",
       "      <td>36662</td>\n",
       "    </tr>\n",
       "    <tr>\n",
       "      <th>1</th>\n",
       "      <td>Andhra Pradesh</td>\n",
       "      <td>693484</td>\n",
       "      <td>5828</td>\n",
       "      <td>693484</td>\n",
       "      <td>5828</td>\n",
       "    </tr>\n",
       "    <tr>\n",
       "      <th>2</th>\n",
       "      <td>Tamil Nadu</td>\n",
       "      <td>603290</td>\n",
       "      <td>9586</td>\n",
       "      <td>597602</td>\n",
       "      <td>9520</td>\n",
       "    </tr>\n",
       "    <tr>\n",
       "      <th>3</th>\n",
       "      <td>Karnataka</td>\n",
       "      <td>601767</td>\n",
       "      <td>8864</td>\n",
       "      <td>601767</td>\n",
       "      <td>8864</td>\n",
       "    </tr>\n",
       "    <tr>\n",
       "      <th>4</th>\n",
       "      <td>Uttar Pradesh</td>\n",
       "      <td>399082</td>\n",
       "      <td>5784</td>\n",
       "      <td>399082</td>\n",
       "      <td>5784</td>\n",
       "    </tr>\n",
       "  </tbody>\n",
       "</table>\n",
       "</div>"
      ],
      "text/plain": [
       "           states    Cases  Deaths   PCases  PDeaths\n",
       "0     Maharashtra  1384446   36662  1384446    36662\n",
       "1  Andhra Pradesh   693484    5828   693484     5828\n",
       "2      Tamil Nadu   603290    9586   597602     9520\n",
       "3       Karnataka   601767    8864   601767     8864\n",
       "4   Uttar Pradesh   399082    5784   399082     5784"
      ]
     },
     "execution_count": 11,
     "metadata": {},
     "output_type": "execute_result"
    }
   ],
   "source": [
    "#hide\n",
    "df_table = pd.DataFrame({'states': dfc_cases.index, 'Cases': dfc_cases.values, 'Deaths': dfc_deaths.values, 'PCases': dfp_cases.values, 'PDeaths': dfp_deaths.values}).set_index('states')\n",
    "df_table = df_table.sort_values(by = ['Cases','Deaths'], ascending = [False, False])\n",
    "df_table = df_table.reset_index()\n",
    "df_table.head()"
   ]
  },
  {
   "cell_type": "code",
   "execution_count": 12,
   "metadata": {
    "execution": {
     "iopub.execute_input": "2020-10-01T13:22:59.269474Z",
     "iopub.status.busy": "2020-10-01T13:22:59.268789Z",
     "iopub.status.idle": "2020-10-01T13:22:59.280351Z",
     "shell.execute_reply": "2020-10-01T13:22:59.280882Z"
    },
    "papermill": {
     "duration": 0.037415,
     "end_time": "2020-10-01T13:22:59.281084",
     "exception": false,
     "start_time": "2020-10-01T13:22:59.243669",
     "status": "completed"
    },
    "tags": []
   },
   "outputs": [],
   "source": [
    "#hide\n",
    "for c in 'Cases, Deaths'.split(', '):\n",
    "    df_table[f'{c} (+)'] = (df_table[c] - df_table[f'P{c}']).clip(0)\n",
    "df_table['Fatality Rate'] = (100* df_table['Deaths']/ df_table['Cases']).round(2)"
   ]
  },
  {
   "cell_type": "code",
   "execution_count": 13,
   "metadata": {
    "execution": {
     "iopub.execute_input": "2020-10-01T13:22:59.331520Z",
     "iopub.status.busy": "2020-10-01T13:22:59.330820Z",
     "iopub.status.idle": "2020-10-01T13:22:59.334933Z",
     "shell.execute_reply": "2020-10-01T13:22:59.334245Z"
    },
    "papermill": {
     "duration": 0.034874,
     "end_time": "2020-10-01T13:22:59.335140",
     "exception": false,
     "start_time": "2020-10-01T13:22:59.300266",
     "status": "completed"
    },
    "tags": []
   },
   "outputs": [
    {
     "data": {
      "text/html": [
       "<div>\n",
       "<style scoped>\n",
       "    .dataframe tbody tr th:only-of-type {\n",
       "        vertical-align: middle;\n",
       "    }\n",
       "\n",
       "    .dataframe tbody tr th {\n",
       "        vertical-align: top;\n",
       "    }\n",
       "\n",
       "    .dataframe thead th {\n",
       "        text-align: right;\n",
       "    }\n",
       "</style>\n",
       "<table border=\"1\" class=\"dataframe\">\n",
       "  <thead>\n",
       "    <tr style=\"text-align: right;\">\n",
       "      <th></th>\n",
       "      <th>states</th>\n",
       "      <th>Cases</th>\n",
       "      <th>Deaths</th>\n",
       "      <th>PCases</th>\n",
       "      <th>PDeaths</th>\n",
       "      <th>Cases (+)</th>\n",
       "      <th>Deaths (+)</th>\n",
       "      <th>Fatality Rate</th>\n",
       "    </tr>\n",
       "  </thead>\n",
       "  <tbody>\n",
       "    <tr>\n",
       "      <th>0</th>\n",
       "      <td>Maharashtra</td>\n",
       "      <td>1384446</td>\n",
       "      <td>36662</td>\n",
       "      <td>1384446</td>\n",
       "      <td>36662</td>\n",
       "      <td>0</td>\n",
       "      <td>0</td>\n",
       "      <td>2.65</td>\n",
       "    </tr>\n",
       "    <tr>\n",
       "      <th>1</th>\n",
       "      <td>Andhra Pradesh</td>\n",
       "      <td>693484</td>\n",
       "      <td>5828</td>\n",
       "      <td>693484</td>\n",
       "      <td>5828</td>\n",
       "      <td>0</td>\n",
       "      <td>0</td>\n",
       "      <td>0.84</td>\n",
       "    </tr>\n",
       "    <tr>\n",
       "      <th>2</th>\n",
       "      <td>Tamil Nadu</td>\n",
       "      <td>603290</td>\n",
       "      <td>9586</td>\n",
       "      <td>597602</td>\n",
       "      <td>9520</td>\n",
       "      <td>5688</td>\n",
       "      <td>66</td>\n",
       "      <td>1.59</td>\n",
       "    </tr>\n",
       "    <tr>\n",
       "      <th>3</th>\n",
       "      <td>Karnataka</td>\n",
       "      <td>601767</td>\n",
       "      <td>8864</td>\n",
       "      <td>601767</td>\n",
       "      <td>8864</td>\n",
       "      <td>0</td>\n",
       "      <td>0</td>\n",
       "      <td>1.47</td>\n",
       "    </tr>\n",
       "    <tr>\n",
       "      <th>4</th>\n",
       "      <td>Uttar Pradesh</td>\n",
       "      <td>399082</td>\n",
       "      <td>5784</td>\n",
       "      <td>399082</td>\n",
       "      <td>5784</td>\n",
       "      <td>0</td>\n",
       "      <td>0</td>\n",
       "      <td>1.45</td>\n",
       "    </tr>\n",
       "  </tbody>\n",
       "</table>\n",
       "</div>"
      ],
      "text/plain": [
       "           states    Cases  Deaths   PCases  PDeaths  Cases (+)  Deaths (+)  \\\n",
       "0     Maharashtra  1384446   36662  1384446    36662          0           0   \n",
       "1  Andhra Pradesh   693484    5828   693484     5828          0           0   \n",
       "2      Tamil Nadu   603290    9586   597602     9520       5688          66   \n",
       "3       Karnataka   601767    8864   601767     8864          0           0   \n",
       "4   Uttar Pradesh   399082    5784   399082     5784          0           0   \n",
       "\n",
       "   Fatality Rate  \n",
       "0           2.65  \n",
       "1           0.84  \n",
       "2           1.59  \n",
       "3           1.47  \n",
       "4           1.45  "
      ]
     },
     "execution_count": 13,
     "metadata": {},
     "output_type": "execute_result"
    }
   ],
   "source": [
    "#hide\n",
    "df_table.head()"
   ]
  },
  {
   "cell_type": "code",
   "execution_count": 14,
   "metadata": {
    "execution": {
     "iopub.execute_input": "2020-10-01T13:22:59.390183Z",
     "iopub.status.busy": "2020-10-01T13:22:59.389448Z",
     "iopub.status.idle": "2020-10-01T13:22:59.410138Z",
     "shell.execute_reply": "2020-10-01T13:22:59.409552Z"
    },
    "papermill": {
     "duration": 0.047913,
     "end_time": "2020-10-01T13:22:59.410296",
     "exception": false,
     "start_time": "2020-10-01T13:22:59.362383",
     "status": "completed"
    },
    "tags": []
   },
   "outputs": [
    {
     "data": {
      "text/plain": [
       "{'updated': '2020-10-01',\n",
       " 'since': '2020-09-30',\n",
       " 'Cases': 6323247,\n",
       " 'PCases': 6310267,\n",
       " 'Deaths': 98822,\n",
       " 'PDeaths': 98708,\n",
       " 'Cases (+)': 12980,\n",
       " 'Deaths (+)': 114}"
      ]
     },
     "execution_count": 14,
     "metadata": {},
     "output_type": "execute_result"
    }
   ],
   "source": [
    "#hide\n",
    "summary = {'updated':dates[-1], 'since':dates[-2]}\n",
    "list_names = ['Cases', 'PCases', 'Deaths', 'PDeaths', 'Cases (+)', 'Deaths (+)']\n",
    "for name in list_names:\n",
    "    summary[name] = df_table.sum()[name]\n",
    "summary"
   ]
  },
  {
   "cell_type": "code",
   "execution_count": 15,
   "metadata": {
    "execution": {
     "iopub.execute_input": "2020-10-01T13:22:59.453837Z",
     "iopub.status.busy": "2020-10-01T13:22:59.453158Z",
     "iopub.status.idle": "2020-10-01T13:22:59.455293Z",
     "shell.execute_reply": "2020-10-01T13:22:59.455811Z"
    },
    "papermill": {
     "duration": 0.026923,
     "end_time": "2020-10-01T13:22:59.455986",
     "exception": false,
     "start_time": "2020-10-01T13:22:59.429063",
     "status": "completed"
    },
    "tags": []
   },
   "outputs": [],
   "source": [
    "#hide\n",
    "overview = '''\n",
    "<!-- #######  HTML!! #########-->\n",
    "<h1 style=\"color: #5e9ca0; text-align: center;\">India</h1>\n",
    "<p style=\"text-align: center;\">Last update: <strong>{update}</strong></p>\n",
    "<p style=\"text-align: center;\">Confirmed cases:</p>\n",
    "<p style=\"text-align: center;font-size:24px;\">{cases} (<span style=\"color: #ff0000;\">+{new}</span>)</p>\n",
    "<p style=\"text-align: center;\">Confirmed deaths:</p>\n",
    "<p style=\"text-align: center;font-size:24px;\">{deaths} (<span style=\"color: #ff0000;\">+{dnew}</span>)</p>\n",
    "'''"
   ]
  },
  {
   "cell_type": "code",
   "execution_count": 16,
   "metadata": {
    "execution": {
     "iopub.execute_input": "2020-10-01T13:22:59.500264Z",
     "iopub.status.busy": "2020-10-01T13:22:59.499463Z",
     "iopub.status.idle": "2020-10-01T13:22:59.503316Z",
     "shell.execute_reply": "2020-10-01T13:22:59.503838Z"
    },
    "papermill": {
     "duration": 0.028988,
     "end_time": "2020-10-01T13:22:59.504014",
     "exception": false,
     "start_time": "2020-10-01T13:22:59.475026",
     "status": "completed"
    },
    "tags": []
   },
   "outputs": [
    {
     "data": {
      "text/html": [
       "\n",
       "<!-- #######  HTML!! #########-->\n",
       "<h1 style=\"color: #5e9ca0; text-align: center;\">India</h1>\n",
       "<p style=\"text-align: center;\">Last update: <strong>2020-10-01</strong></p>\n",
       "<p style=\"text-align: center;\">Confirmed cases:</p>\n",
       "<p style=\"text-align: center;font-size:24px;\">6323247 (<span style=\"color: #ff0000;\">+12980</span>)</p>\n",
       "<p style=\"text-align: center;\">Confirmed deaths:</p>\n",
       "<p style=\"text-align: center;font-size:24px;\">98822 (<span style=\"color: #ff0000;\">+114</span>)</p>\n"
      ],
      "text/plain": [
       "<IPython.core.display.HTML object>"
      ]
     },
     "metadata": {},
     "output_type": "display_data"
    }
   ],
   "source": [
    "#hide_input\n",
    "update = summary['updated']\n",
    "cases = summary['Cases']\n",
    "new = summary['Cases (+)']\n",
    "deaths = summary['Deaths']\n",
    "dnew = summary['Deaths (+)']\n",
    "\n",
    "html = HTML(overview.format(update=update, cases=cases,new=new,deaths=deaths,dnew=dnew))\n",
    "\n",
    "display(html)"
   ]
  },
  {
   "cell_type": "code",
   "execution_count": 17,
   "metadata": {
    "execution": {
     "iopub.execute_input": "2020-10-01T13:22:59.555163Z",
     "iopub.status.busy": "2020-10-01T13:22:59.554378Z",
     "iopub.status.idle": "2020-10-01T13:22:59.561182Z",
     "shell.execute_reply": "2020-10-01T13:22:59.560613Z"
    },
    "papermill": {
     "duration": 0.036519,
     "end_time": "2020-10-01T13:22:59.561341",
     "exception": false,
     "start_time": "2020-10-01T13:22:59.524822",
     "status": "completed"
    },
    "tags": []
   },
   "outputs": [],
   "source": [
    "#hide\n",
    "dt_cols = list(dft_cases.columns[1:])\n",
    "dft_ct_new_cases = dft_cases.groupby('state')[dt_cols].sum().diff(axis=1).fillna(0).astype(int)\n",
    "dft_ct_new_cases.sort_values(by = dates[-1], ascending = False,inplace = True)"
   ]
  },
  {
   "cell_type": "code",
   "execution_count": 18,
   "metadata": {
    "execution": {
     "iopub.execute_input": "2020-10-01T13:22:59.621607Z",
     "iopub.status.busy": "2020-10-01T13:22:59.620928Z",
     "iopub.status.idle": "2020-10-01T13:22:59.624571Z",
     "shell.execute_reply": "2020-10-01T13:22:59.625107Z"
    },
    "papermill": {
     "duration": 0.044672,
     "end_time": "2020-10-01T13:22:59.625277",
     "exception": false,
     "start_time": "2020-10-01T13:22:59.580605",
     "status": "completed"
    },
    "tags": []
   },
   "outputs": [
    {
     "data": {
      "text/html": [
       "<div>\n",
       "<style scoped>\n",
       "    .dataframe tbody tr th:only-of-type {\n",
       "        vertical-align: middle;\n",
       "    }\n",
       "\n",
       "    .dataframe tbody tr th {\n",
       "        vertical-align: top;\n",
       "    }\n",
       "\n",
       "    .dataframe thead th {\n",
       "        text-align: right;\n",
       "    }\n",
       "</style>\n",
       "<table border=\"1\" class=\"dataframe\">\n",
       "  <thead>\n",
       "    <tr style=\"text-align: right;\">\n",
       "      <th>states</th>\n",
       "      <th>2020-07-01</th>\n",
       "      <th>2020-07-02</th>\n",
       "      <th>2020-07-03</th>\n",
       "      <th>2020-07-04</th>\n",
       "      <th>2020-07-05</th>\n",
       "      <th>2020-07-06</th>\n",
       "      <th>2020-07-07</th>\n",
       "      <th>2020-07-08</th>\n",
       "      <th>2020-07-09</th>\n",
       "      <th>2020-07-10</th>\n",
       "      <th>...</th>\n",
       "      <th>2020-09-22</th>\n",
       "      <th>2020-09-23</th>\n",
       "      <th>2020-09-24</th>\n",
       "      <th>2020-09-25</th>\n",
       "      <th>2020-09-26</th>\n",
       "      <th>2020-09-27</th>\n",
       "      <th>2020-09-28</th>\n",
       "      <th>2020-09-29</th>\n",
       "      <th>2020-09-30</th>\n",
       "      <th>2020-10-01</th>\n",
       "    </tr>\n",
       "    <tr>\n",
       "      <th>state</th>\n",
       "      <th></th>\n",
       "      <th></th>\n",
       "      <th></th>\n",
       "      <th></th>\n",
       "      <th></th>\n",
       "      <th></th>\n",
       "      <th></th>\n",
       "      <th></th>\n",
       "      <th></th>\n",
       "      <th></th>\n",
       "      <th></th>\n",
       "      <th></th>\n",
       "      <th></th>\n",
       "      <th></th>\n",
       "      <th></th>\n",
       "      <th></th>\n",
       "      <th></th>\n",
       "      <th></th>\n",
       "      <th></th>\n",
       "      <th></th>\n",
       "      <th></th>\n",
       "    </tr>\n",
       "  </thead>\n",
       "  <tbody>\n",
       "    <tr>\n",
       "      <th>Tamil Nadu</th>\n",
       "      <td>0</td>\n",
       "      <td>4343</td>\n",
       "      <td>4329</td>\n",
       "      <td>4280</td>\n",
       "      <td>4150</td>\n",
       "      <td>3827</td>\n",
       "      <td>3616</td>\n",
       "      <td>3756</td>\n",
       "      <td>4231</td>\n",
       "      <td>3680</td>\n",
       "      <td>...</td>\n",
       "      <td>5337</td>\n",
       "      <td>5325</td>\n",
       "      <td>5692</td>\n",
       "      <td>5679</td>\n",
       "      <td>5647</td>\n",
       "      <td>5791</td>\n",
       "      <td>5589</td>\n",
       "      <td>5546</td>\n",
       "      <td>5659</td>\n",
       "      <td>5688</td>\n",
       "    </tr>\n",
       "    <tr>\n",
       "      <th>Odisha</th>\n",
       "      <td>0</td>\n",
       "      <td>229</td>\n",
       "      <td>561</td>\n",
       "      <td>495</td>\n",
       "      <td>469</td>\n",
       "      <td>456</td>\n",
       "      <td>571</td>\n",
       "      <td>527</td>\n",
       "      <td>577</td>\n",
       "      <td>755</td>\n",
       "      <td>...</td>\n",
       "      <td>4189</td>\n",
       "      <td>4237</td>\n",
       "      <td>4340</td>\n",
       "      <td>4208</td>\n",
       "      <td>4356</td>\n",
       "      <td>3922</td>\n",
       "      <td>3235</td>\n",
       "      <td>3067</td>\n",
       "      <td>3443</td>\n",
       "      <td>3615</td>\n",
       "    </tr>\n",
       "    <tr>\n",
       "      <th>Telangana</th>\n",
       "      <td>0</td>\n",
       "      <td>1213</td>\n",
       "      <td>1892</td>\n",
       "      <td>1850</td>\n",
       "      <td>1590</td>\n",
       "      <td>1831</td>\n",
       "      <td>1879</td>\n",
       "      <td>1924</td>\n",
       "      <td>1410</td>\n",
       "      <td>1278</td>\n",
       "      <td>...</td>\n",
       "      <td>2166</td>\n",
       "      <td>2296</td>\n",
       "      <td>2176</td>\n",
       "      <td>2381</td>\n",
       "      <td>2239</td>\n",
       "      <td>1967</td>\n",
       "      <td>1378</td>\n",
       "      <td>2072</td>\n",
       "      <td>2103</td>\n",
       "      <td>2214</td>\n",
       "    </tr>\n",
       "    <tr>\n",
       "      <th>Jammu and Kashmir</th>\n",
       "      <td>0</td>\n",
       "      <td>154</td>\n",
       "      <td>170</td>\n",
       "      <td>227</td>\n",
       "      <td>183</td>\n",
       "      <td>246</td>\n",
       "      <td>256</td>\n",
       "      <td>330</td>\n",
       "      <td>240</td>\n",
       "      <td>387</td>\n",
       "      <td>...</td>\n",
       "      <td>1235</td>\n",
       "      <td>1249</td>\n",
       "      <td>1104</td>\n",
       "      <td>1218</td>\n",
       "      <td>1217</td>\n",
       "      <td>1141</td>\n",
       "      <td>824</td>\n",
       "      <td>1081</td>\n",
       "      <td>975</td>\n",
       "      <td>1093</td>\n",
       "    </tr>\n",
       "    <tr>\n",
       "      <th>Tripura</th>\n",
       "      <td>0</td>\n",
       "      <td>39</td>\n",
       "      <td>93</td>\n",
       "      <td>25</td>\n",
       "      <td>23</td>\n",
       "      <td>111</td>\n",
       "      <td>24</td>\n",
       "      <td>57</td>\n",
       "      <td>16</td>\n",
       "      <td>142</td>\n",
       "      <td>...</td>\n",
       "      <td>559</td>\n",
       "      <td>504</td>\n",
       "      <td>451</td>\n",
       "      <td>341</td>\n",
       "      <td>278</td>\n",
       "      <td>320</td>\n",
       "      <td>193</td>\n",
       "      <td>432</td>\n",
       "      <td>381</td>\n",
       "      <td>332</td>\n",
       "    </tr>\n",
       "  </tbody>\n",
       "</table>\n",
       "<p>5 rows × 93 columns</p>\n",
       "</div>"
      ],
      "text/plain": [
       "states             2020-07-01  2020-07-02  2020-07-03  2020-07-04  2020-07-05  \\\n",
       "state                                                                           \n",
       "Tamil Nadu                  0        4343        4329        4280        4150   \n",
       "Odisha                      0         229         561         495         469   \n",
       "Telangana                   0        1213        1892        1850        1590   \n",
       "Jammu and Kashmir           0         154         170         227         183   \n",
       "Tripura                     0          39          93          25          23   \n",
       "\n",
       "states             2020-07-06  2020-07-07  2020-07-08  2020-07-09  2020-07-10  \\\n",
       "state                                                                           \n",
       "Tamil Nadu               3827        3616        3756        4231        3680   \n",
       "Odisha                    456         571         527         577         755   \n",
       "Telangana                1831        1879        1924        1410        1278   \n",
       "Jammu and Kashmir         246         256         330         240         387   \n",
       "Tripura                   111          24          57          16         142   \n",
       "\n",
       "states             ...  2020-09-22  2020-09-23  2020-09-24  2020-09-25  \\\n",
       "state              ...                                                   \n",
       "Tamil Nadu         ...        5337        5325        5692        5679   \n",
       "Odisha             ...        4189        4237        4340        4208   \n",
       "Telangana          ...        2166        2296        2176        2381   \n",
       "Jammu and Kashmir  ...        1235        1249        1104        1218   \n",
       "Tripura            ...         559         504         451         341   \n",
       "\n",
       "states             2020-09-26  2020-09-27  2020-09-28  2020-09-29  2020-09-30  \\\n",
       "state                                                                           \n",
       "Tamil Nadu               5647        5791        5589        5546        5659   \n",
       "Odisha                   4356        3922        3235        3067        3443   \n",
       "Telangana                2239        1967        1378        2072        2103   \n",
       "Jammu and Kashmir        1217        1141         824        1081         975   \n",
       "Tripura                   278         320         193         432         381   \n",
       "\n",
       "states             2020-10-01  \n",
       "state                          \n",
       "Tamil Nadu               5688  \n",
       "Odisha                   3615  \n",
       "Telangana                2214  \n",
       "Jammu and Kashmir        1093  \n",
       "Tripura                   332  \n",
       "\n",
       "[5 rows x 93 columns]"
      ]
     },
     "execution_count": 18,
     "metadata": {},
     "output_type": "execute_result"
    }
   ],
   "source": [
    "#hide\n",
    "dft_ct_new_cases.head()"
   ]
  },
  {
   "cell_type": "code",
   "execution_count": 19,
   "metadata": {
    "execution": {
     "iopub.execute_input": "2020-10-01T13:22:59.718666Z",
     "iopub.status.busy": "2020-10-01T13:22:59.691515Z",
     "iopub.status.idle": "2020-10-01T13:23:04.296667Z",
     "shell.execute_reply": "2020-10-01T13:23:04.297217Z"
    },
    "papermill": {
     "duration": 4.650877,
     "end_time": "2020-10-01T13:23:04.297407",
     "exception": false,
     "start_time": "2020-10-01T13:22:59.646530",
     "status": "completed"
    },
    "tags": []
   },
   "outputs": [
    {
     "data": {
      "image/png": "[encoded data removed]",
      "text/plain": [
       "<Figure size 1296x2016 with 11 Axes>"
      ]
     },
     "metadata": {
      "needs_background": "light"
     },
     "output_type": "display_data"
    }
   ],
   "source": [
    "#hide_input\n",
    "df = dft_ct_new_cases.copy()\n",
    "df.loc['Total'] = df.sum()\n",
    "n = 5\n",
    "ax = []\n",
    "fig = plt.figure(figsize = (18,28))\n",
    "gs = fig.add_gridspec(n+2, 5)\n",
    "# gs = fig.add_gridspec(2, 3)\n",
    "ax1 = fig.add_subplot(gs[0, :])\n",
    "ef = df.loc['Total'].rename_axis('date').reset_index()\n",
    "ef['date'] = ef['date'].astype('datetime64[ns]')\n",
    "ax1.bar(ef.date,ef.Total,alpha=0.3,color='#007acc')\n",
    "ax1.plot(ef.date,ef.Total , marker=\"o\", color='#007acc')\n",
    "ax1.xaxis.set_major_locator(mdates.WeekdayLocator())\n",
    "ax1.xaxis.set_major_formatter(mdates.DateFormatter('%b %d'))\n",
    "ax1.text(0.02, 0.5,'India daily case count', transform = ax1.transAxes, fontsize=25);\n",
    "ax1.spines['right'].set_visible(False)\n",
    "ax1.spines['top'].set_visible(False)\n",
    "\n",
    "ax2 = fig.add_subplot(gs[1,0])\n",
    "ef = df.loc['Maharashtra'].rename_axis('date').reset_index()\n",
    "ef['date'] = ef['date'].astype('datetime64[ns]')\n",
    "\n",
    "ax2.bar(ef.date, ef.Maharashtra,color = '#007acc',alpha=0.5)\n",
    "ax2.xaxis.set_major_locator(mdates.WeekdayLocator())\n",
    "ax2.xaxis.set_major_formatter(mdates.DateFormatter('%b %d'))\n",
    "ax2.set_xticks(ax2.get_xticks()[::3])\n",
    "maxyval = ef.Maharashtra.max()\n",
    "ax2.set_ylim([0,maxyval])\n",
    "ax2.text(0.05, 0.9,'Maharashtra', transform = ax2.transAxes, fontsize=20);\n",
    "ax2.spines['right'].set_visible(False)\n",
    "ax2.spines['top'].set_visible(False)\n",
    "\n",
    "\n",
    "ax3 = fig.add_subplot(gs[1,1])\n",
    "ef = df.loc['Tamil Nadu'].rename_axis('date').reset_index()\n",
    "ef['date'] = ef['date'].astype('datetime64[ns]')\n",
    "ax3.bar(ef.date, ef['Tamil Nadu'],color = '#007acc',alpha=0.5,)\n",
    "ax3.xaxis.set_major_locator(mdates.WeekdayLocator())\n",
    "ax3.xaxis.set_major_formatter(mdates.DateFormatter('%b %d'))\n",
    "ax3.set_xticks(ax3.get_xticks()[::3])\n",
    "ax3.text(0.05, 0.9,'Tamil Nadu', transform = ax3.transAxes, fontsize=20);\n",
    "ax3.spines['right'].set_visible(False)\n",
    "ax3.spines['top'].set_visible(False)\n",
    "\n",
    "ax5 = fig.add_subplot(gs[1,3])\n",
    "ef = df.loc['Telangana'].rename_axis('date').reset_index()\n",
    "ef['date'] = ef['date'].astype('datetime64[ns]')\n",
    "ax5.bar(ef.date, ef['Telangana'],color = '#007acc',alpha=0.5,)\n",
    "ax5.xaxis.set_major_locator(mdates.WeekdayLocator())\n",
    "ax5.xaxis.set_major_formatter(mdates.DateFormatter('%b %d'))\n",
    "ax5.set_xticks(ax5.get_xticks()[::3])\n",
    "ax5.text(0.05, 0.9,'Telangana', transform = ax5.transAxes, fontsize=20);\n",
    "ax5.spines['right'].set_visible(False)\n",
    "ax5.spines['top'].set_visible(False)\n",
    "\n",
    "ax6 = fig.add_subplot(gs[1,4])\n",
    "ef = df.loc['Andhra Pradesh'].rename_axis('date').reset_index()\n",
    "ef['date'] = ef['date'].astype('datetime64[ns]')\n",
    "ax6.bar(ef.date, ef['Andhra Pradesh'],color = '#007acc',alpha=0.5,)\n",
    "ax6.xaxis.set_major_locator(mdates.WeekdayLocator())\n",
    "ax6.xaxis.set_major_formatter(mdates.DateFormatter('%b %d'))\n",
    "ax6.set_xticks(ax6.get_xticks()[::3])\n",
    "ax6.text(0.05, 1,'Andhra Pradesh', transform = ax6.transAxes, fontsize=20);\n",
    "ax6.spines['right'].set_visible(False)\n",
    "ax6.spines['top'].set_visible(False)\n",
    "\n",
    "ax4 = fig.add_subplot(gs[1,2])\n",
    "ef = df.loc['Delhi'].rename_axis('date').reset_index()\n",
    "ef['date'] = ef['date'].astype('datetime64[ns]')\n",
    "ax4.bar(ef.date, ef.Delhi,color = '#007acc',alpha=0.5)\n",
    "ax4.set_xticks([])\n",
    "ax4.xaxis.set_major_locator(mdates.WeekdayLocator())\n",
    "ax4.xaxis.set_major_formatter(mdates.DateFormatter('%b %d'))\n",
    "ax4.set_xticks(ax4.get_xticks()[::3])\n",
    "ax4.spines['right'].set_visible(False)\n",
    "ax4.spines['top'].set_visible(False)\n",
    "\n",
    "ax4.text(0.05, 1,'Delhi', transform = ax4.transAxes, fontsize=20)\n",
    "\n",
    "for i in range(n):\n",
    "    \n",
    "    ax.append(fig.add_subplot(gs[i+2,:]))\n",
    "    ef = df.iloc[i+3].rename_axis('date').reset_index()\n",
    "    ef['date'] = ef['date'].astype('datetime64[ns]')\n",
    "    ax[i].bar(ef.date,ef.iloc[:,-1],color = '#007acc',alpha=0.3)\n",
    "    ax[i].plot(ef.date,ef.iloc[:,-1],marker='o',color='#007acc')\n",
    "    ax[i].text(0.02,0.5,f'{ef.columns.values[-1]}',transform = ax[i].transAxes, fontsize = 20);\n",
    "    ax[i].xaxis.set_major_locator(mdates.WeekdayLocator())\n",
    "    ax[i].xaxis.set_major_formatter(mdates.DateFormatter('%b %d'))\n",
    "    ax[i].set_ylim([0,7000])\n",
    "    ax[i].spines['right'].set_visible(False)\n",
    "    ax[i].spines['top'].set_visible(False)\n",
    "plt.tight_layout()\n"
   ]
  },
  {
   "cell_type": "code",
   "execution_count": 20,
   "metadata": {
    "execution": {
     "iopub.execute_input": "2020-10-01T13:23:04.355735Z",
     "iopub.status.busy": "2020-10-01T13:23:04.355055Z",
     "iopub.status.idle": "2020-10-01T13:23:04.360166Z",
     "shell.execute_reply": "2020-10-01T13:23:04.359612Z"
    },
    "papermill": {
     "duration": 0.038451,
     "end_time": "2020-10-01T13:23:04.360309",
     "exception": false,
     "start_time": "2020-10-01T13:23:04.321858",
     "status": "completed"
    },
    "tags": []
   },
   "outputs": [
    {
     "name": "stdout",
     "output_type": "stream",
     "text": [
      "                                   states    Cases  Deaths   PCases  PDeaths  Cases (+)  Deaths (+)  Fatality Rate\n",
      "                              Maharashtra  1384446   36662  1384446    36662          0           0           2.65\n",
      "                           Andhra Pradesh   693484    5828   693484     5828          0           0           0.84\n",
      "                               Tamil Nadu   603290    9586   597602     9520       5688          66           1.59\n",
      "                                Karnataka   601767    8864   601767     8864          0           0           1.47\n",
      "                            Uttar Pradesh   399082    5784   399082     5784          0           0           1.45\n",
      "                                    Delhi   279715    5361   279715     5361          0           0           1.92\n",
      "                              West Bengal   257049    4958   257049     4958          0           0           1.93\n",
      "                                   Odisha   222734     912   219119      895       3615          17           0.41\n",
      "                                   Kerala   196107     743   196107      743          0           0           0.38\n",
      "                                Telangana   193600    1135   191386     1127       2214           8           0.59\n",
      "                                    Bihar   182906     904   182906      904          0           0           0.49\n",
      "                                    Assam   180811     697   180811      697          0           0           0.39\n",
      "                                  Gujarat   137394    3453   137394     3453          0           0           2.51\n",
      "                                Rajasthan   135292    1486   135292     1486          0           0           1.10\n",
      "                                  Haryana   128599    1382   128599     1382          0           0           1.07\n",
      "                           Madhya Pradesh   128047    2316   128047     2316          0           0           1.81\n",
      "                                   Punjab   113886    3406   113886     3406          0           0           2.99\n",
      "                             Chhattisgarh   113602     957   113602      957          0           0           0.84\n",
      "                                Jharkhand    83651     713    83651      713          0           0           0.85\n",
      "                        Jammu and Kashmir    76163    1198    75070     1181       1093          17           1.57\n",
      "                              Uttarakhand    49000     611    49000      611          0           0           1.25\n",
      "                                      Goa    33418     428    33418      428          0           0           1.28\n",
      "                               Puducherry    27544     521    27544      521          0           0           1.89\n",
      "                                  Tripura    26063     280    25731      274        332           6           1.07\n",
      "                         Himachal Pradesh    14976     181    14976      181          0           0           1.21\n",
      "                               Chandigarh    11938     162    11938      162          0           0           1.36\n",
      "                                  Manipur    10983      67    10983       67          0           0           0.61\n",
      "                        Arunachal Pradesh     9796      16     9796       16          0           0           0.16\n",
      "                                 Nagaland     6163      12     6163       12          0           0           0.19\n",
      "                                Meghalaya     5639      49     5639       49          0           0           0.87\n",
      "                                   Ladakh     4269      58     4269       58          0           0           1.36\n",
      "              Andaman and Nicobar Islands     3835      53     3835       53          0           0           1.38\n",
      " Dadra and Nagar Haveli and Daman and Diu     3049       2     3043        2          6           0           0.07\n",
      "                                   Sikkim     2931      37     2931       37          0           0           1.26\n",
      "                                  Mizoram     2018       0     1986        0         32           0           0.00\n",
      "                              Lakshadweep        0       0        0        0          0           0            NaN\n"
     ]
    }
   ],
   "source": [
    "#hide_input\n",
    "print(df_table.to_string(index=False))"
   ]
  },
  {
   "cell_type": "code",
   "execution_count": null,
   "metadata": {
    "papermill": {
     "duration": 0.024838,
     "end_time": "2020-10-01T13:23:04.409280",
     "exception": false,
     "start_time": "2020-10-01T13:23:04.384442",
     "status": "completed"
    },
    "tags": []
   },
   "outputs": [],
   "source": []
  },
  {
   "cell_type": "code",
   "execution_count": null,
   "metadata": {
    "papermill": {
     "duration": 0.024137,
     "end_time": "2020-10-01T13:23:04.456683",
     "exception": false,
     "start_time": "2020-10-01T13:23:04.432546",
     "status": "completed"
    },
    "tags": []
   },
   "outputs": [],
   "source": []
  }
 ],
 "metadata": {
  "kernelspec": {
   "display_name": "Python 3",
   "language": "python",
   "name": "python3"
  },
  "language_info": {
   "codemirror_mode": {
    "name": "ipython",
    "version": 3
   },
   "file_extension": ".py",
   "mimetype": "text/x-python",
   "name": "python",
   "nbconvert_exporter": "python",
   "pygments_lexer": "ipython3",
   "version": "3.6.12"
  },
  "papermill": {
   "duration": 12.059503,
   "end_time": "2020-10-01T13:23:04.989799",
   "environment_variables": {},
   "exception": null,
   "input_path": "latest.ipynb",
   "output_path": "latest.ipynb",
   "parameters": {},
   "start_time": "2020-10-01T13:22:52.930296",
   "version": "2.1.2"
  }
 },
 "nbformat": 4,
 "nbformat_minor": 4
}