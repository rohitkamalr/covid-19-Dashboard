{
 "cells": [
  {
   "cell_type": "markdown",
   "id": "colored-stack",
   "metadata": {
    "papermill": {
     "duration": 0.022187,
     "end_time": "2021-02-08T13:45:53.458637",
     "exception": false,
     "start_time": "2021-02-08T13:45:53.436450",
     "status": "completed"
    },
    "tags": []
   },
   "source": [
    "# Latest COVID-19 India Matplotlib Overview"
   ]
  },
  {
   "cell_type": "code",
   "execution_count": 1,
   "id": "light-proportion",
   "metadata": {
    "execution": {
     "iopub.execute_input": "2021-02-08T13:45:53.505922Z",
     "iopub.status.busy": "2021-02-08T13:45:53.505210Z",
     "iopub.status.idle": "2021-02-08T13:45:54.127293Z",
     "shell.execute_reply": "2021-02-08T13:45:54.126239Z"
    },
    "papermill": {
     "duration": 0.651928,
     "end_time": "2021-02-08T13:45:54.127550",
     "exception": false,
     "start_time": "2021-02-08T13:45:53.475622",
     "status": "completed"
    },
    "tags": []
   },
   "outputs": [],
   "source": [
    "#hide\n",
    "import pandas as pd\n",
    "import numpy as np\n",
    "import requests\n",
    "import json\n",
    "import matplotlib.pyplot as plt\n",
    "import matplotlib.dates as mdates\n",
    "import matplotlib as mpl\n",
    "from IPython.core.display import display,HTML\n",
    "%matplotlib inline\n",
    "from datetime import date"
   ]
  },
  {
   "cell_type": "code",
   "execution_count": 2,
   "id": "greenhouse-shooting",
   "metadata": {
    "execution": {
     "iopub.execute_input": "2021-02-08T13:45:54.174584Z",
     "iopub.status.busy": "2021-02-08T13:45:54.173957Z",
     "iopub.status.idle": "2021-02-08T13:45:54.500699Z",
     "shell.execute_reply": "2021-02-08T13:45:54.500089Z"
    },
    "papermill": {
     "duration": 0.354474,
     "end_time": "2021-02-08T13:45:54.500862",
     "exception": false,
     "start_time": "2021-02-08T13:45:54.146388",
     "status": "completed"
    },
    "tags": []
   },
   "outputs": [],
   "source": [
    "#hide\n",
    "df  = pd.read_csv('https://api.covid19india.org/csv/latest/states.csv')\n",
    "df = df[['Date','State','Confirmed','Deceased']]\n",
    "df = df.rename(columns={'Confirmed':'Cases', \"Deceased\":'Deaths'})\n",
    "df_cases = df[[\"Date\",'State','Cases']]\n",
    "df_deaths = df[['Date','State','Deaths']]\n",
    "df_cases1 = df_cases.groupby('Date')\n",
    "df_deaths1= df_deaths.groupby('Date')"
   ]
  },
  {
   "cell_type": "code",
   "execution_count": 3,
   "id": "hybrid-cathedral",
   "metadata": {
    "execution": {
     "iopub.execute_input": "2021-02-08T13:45:54.540608Z",
     "iopub.status.busy": "2021-02-08T13:45:54.538356Z",
     "iopub.status.idle": "2021-02-08T13:45:54.558445Z",
     "shell.execute_reply": "2021-02-08T13:45:54.558867Z"
    },
    "papermill": {
     "duration": 0.040842,
     "end_time": "2021-02-08T13:45:54.559035",
     "exception": false,
     "start_time": "2021-02-08T13:45:54.518193",
     "status": "completed"
    },
    "tags": []
   },
   "outputs": [],
   "source": [
    "#hide\n",
    "df_snap = pd.read_csv('data/SnapshotCases-28-July.csv')\n",
    "arr_states = df_snap['states'].unique()\n",
    "arr_dates = df['Date'].unique()\n",
    "df_snap = df_snap.set_index('states')"
   ]
  },
  {
   "cell_type": "code",
   "execution_count": 4,
   "id": "interior-belfast",
   "metadata": {
    "execution": {
     "iopub.execute_input": "2021-02-08T13:45:54.599627Z",
     "iopub.status.busy": "2021-02-08T13:45:54.598976Z",
     "iopub.status.idle": "2021-02-08T13:45:54.601373Z",
     "shell.execute_reply": "2021-02-08T13:45:54.601959Z"
    },
    "papermill": {
     "duration": 0.026866,
     "end_time": "2021-02-08T13:45:54.602126",
     "exception": false,
     "start_time": "2021-02-08T13:45:54.575260",
     "status": "completed"
    },
    "tags": []
   },
   "outputs": [
    {
     "data": {
      "text/plain": [
       "array(['Andaman and Nicobar Islands', 'Andhra Pradesh',\n",
       "       'Arunachal Pradesh', 'Assam', 'Bihar', 'Chandigarh',\n",
       "       'Dadra and Nagar Haveli and Daman and Diu', 'Delhi', 'Goa',\n",
       "       'Gujarat', 'Haryana', 'Himachal Pradesh', 'Jammu and Kashmir',\n",
       "       'Jharkhand', 'Karnataka', 'Kerala', 'Lakshadweep',\n",
       "       'Madhya Pradesh', 'Maharashtra', 'Manipur', 'Meghalaya', 'Mizoram',\n",
       "       'Nagaland', 'Odisha', 'Puducherry', 'Punjab', 'Rajasthan',\n",
       "       'Sikkim', 'Tamil Nadu', 'Telangana', 'Tripura', 'Uttar Pradesh',\n",
       "       'West Bengal', 'Chhattisgarh', 'Ladakh', 'Uttarakhand'],\n",
       "      dtype=object)"
      ]
     },
     "execution_count": 4,
     "metadata": {},
     "output_type": "execute_result"
    }
   ],
   "source": [
    "#hide\n",
    "arr_states[-9] = 'Puducherry'\n",
    "arr_states[-10] = 'Odisha'\n",
    "arr_states[6] = 'Dadra and Nagar Haveli and Daman and Diu'\n",
    "arr_states = np.append(arr_states,np.array(['Chhattisgarh','Ladakh','Uttarakhand']))\n",
    "arr_states"
   ]
  },
  {
   "cell_type": "code",
   "execution_count": 5,
   "id": "behind-manner",
   "metadata": {
    "execution": {
     "iopub.execute_input": "2021-02-08T13:45:54.648114Z",
     "iopub.status.busy": "2021-02-08T13:45:54.647295Z",
     "iopub.status.idle": "2021-02-08T13:45:54.655793Z",
     "shell.execute_reply": "2021-02-08T13:45:54.655272Z"
    },
    "papermill": {
     "duration": 0.036806,
     "end_time": "2021-02-08T13:45:54.655991",
     "exception": false,
     "start_time": "2021-02-08T13:45:54.619185",
     "status": "completed"
    },
    "tags": []
   },
   "outputs": [],
   "source": [
    "#hide\n",
    "dates = []\n",
    "for i in arr_dates:\n",
    "    if i>='2020-07-01':\n",
    "        dates.append(i)\n",
    "dict = {'states':dates}\n",
    "for i in arr_states:\n",
    "    dict[i] = [0]*len(dates)\n",
    "dft_cases = pd.DataFrame(dict)\n",
    "dft_deaths = pd.DataFrame(dict)\n"
   ]
  },
  {
   "cell_type": "code",
   "execution_count": 6,
   "id": "simplified-peter",
   "metadata": {
    "execution": {
     "iopub.execute_input": "2021-02-08T13:45:54.700450Z",
     "iopub.status.busy": "2021-02-08T13:45:54.699878Z",
     "iopub.status.idle": "2021-02-08T13:45:57.767993Z",
     "shell.execute_reply": "2021-02-08T13:45:57.767436Z"
    },
    "papermill": {
     "duration": 3.095307,
     "end_time": "2021-02-08T13:45:57.768163",
     "exception": false,
     "start_time": "2021-02-08T13:45:54.672856",
     "status": "completed"
    },
    "tags": []
   },
   "outputs": [],
   "source": [
    "#hide\n",
    "for i in range(len(dates)):\n",
    "    df1_deaths = df_deaths1.get_group(dates[i])\n",
    "    for j in range(len(df1_deaths.index)):\n",
    "        if df1_deaths.iloc[j,1] in arr_states:\n",
    "            dft_deaths.loc[i,df1_deaths.iloc[j,1]] = df1_deaths.iloc[j,2]\n",
    "dft_deaths = dft_deaths.set_index('states')"
   ]
  },
  {
   "cell_type": "code",
   "execution_count": 7,
   "id": "geological-welding",
   "metadata": {
    "execution": {
     "iopub.execute_input": "2021-02-08T13:45:57.812982Z",
     "iopub.status.busy": "2021-02-08T13:45:57.812261Z",
     "iopub.status.idle": "2021-02-08T13:46:00.869331Z",
     "shell.execute_reply": "2021-02-08T13:46:00.868148Z"
    },
    "papermill": {
     "duration": 3.084096,
     "end_time": "2021-02-08T13:46:00.869511",
     "exception": false,
     "start_time": "2021-02-08T13:45:57.785415",
     "status": "completed"
    },
    "tags": []
   },
   "outputs": [],
   "source": [
    "#hide\n",
    "for i in range(len(dates)):\n",
    "    df1_cases = df_cases1.get_group(dates[i])\n",
    "    for j in range(len(df1_cases.index)):\n",
    "        if df1_cases.iloc[j,1] in arr_states:\n",
    "            dft_cases.loc[i,df1_cases.iloc[j,1]] = df1_cases.iloc[j,2]\n",
    "dft_cases = dft_cases.set_index('states')"
   ]
  },
  {
   "cell_type": "code",
   "execution_count": 8,
   "id": "binary-ratio",
   "metadata": {
    "execution": {
     "iopub.execute_input": "2021-02-08T13:46:00.910034Z",
     "iopub.status.busy": "2021-02-08T13:46:00.908632Z",
     "iopub.status.idle": "2021-02-08T13:46:00.910965Z",
     "shell.execute_reply": "2021-02-08T13:46:00.911599Z"
    },
    "papermill": {
     "duration": 0.02556,
     "end_time": "2021-02-08T13:46:00.911803",
     "exception": false,
     "start_time": "2021-02-08T13:46:00.886243",
     "status": "completed"
    },
    "tags": []
   },
   "outputs": [],
   "source": [
    "#hide\n",
    "dft_cases = dft_cases.T\n",
    "dft_deaths = dft_deaths.T\n",
    "dt_today = dates[-1]\n",
    "dt_yday = dates[-2]"
   ]
  },
  {
   "cell_type": "code",
   "execution_count": 9,
   "id": "boolean-calculator",
   "metadata": {
    "execution": {
     "iopub.execute_input": "2021-02-08T13:46:00.957351Z",
     "iopub.status.busy": "2021-02-08T13:46:00.956789Z",
     "iopub.status.idle": "2021-02-08T13:46:00.960618Z",
     "shell.execute_reply": "2021-02-08T13:46:00.960112Z"
    },
    "papermill": {
     "duration": 0.0316,
     "end_time": "2021-02-08T13:46:00.960747",
     "exception": false,
     "start_time": "2021-02-08T13:46:00.929147",
     "status": "completed"
    },
    "tags": []
   },
   "outputs": [],
   "source": [
    "#hide\n",
    "dft_cases = dft_cases.reset_index()\n",
    "dft_deaths = dft_deaths.reset_index()\n",
    "dft_cases = dft_cases.rename(columns = {'index':'state'})\n",
    "dft_deaths = dft_deaths.rename(columns = {'index':'state'})"
   ]
  },
  {
   "cell_type": "code",
   "execution_count": 10,
   "id": "invisible-johnston",
   "metadata": {
    "execution": {
     "iopub.execute_input": "2021-02-08T13:46:01.008924Z",
     "iopub.status.busy": "2021-02-08T13:46:01.005160Z",
     "iopub.status.idle": "2021-02-08T13:46:01.011572Z",
     "shell.execute_reply": "2021-02-08T13:46:01.011086Z"
    },
    "papermill": {
     "duration": 0.033942,
     "end_time": "2021-02-08T13:46:01.011712",
     "exception": false,
     "start_time": "2021-02-08T13:46:00.977770",
     "status": "completed"
    },
    "tags": []
   },
   "outputs": [],
   "source": [
    "#hide\n",
    "dfc_cases = dft_cases.groupby('state')[dt_today].sum()\n",
    "dfc_deaths = dft_deaths.groupby('state')[dt_today].sum()\n",
    "dfp_cases = dft_cases.groupby('state')[dt_yday].sum()\n",
    "dfp_deaths = dft_deaths.groupby('state')[dt_yday].sum()"
   ]
  },
  {
   "cell_type": "code",
   "execution_count": 11,
   "id": "measured-great",
   "metadata": {
    "execution": {
     "iopub.execute_input": "2021-02-08T13:46:01.067761Z",
     "iopub.status.busy": "2021-02-08T13:46:01.062883Z",
     "iopub.status.idle": "2021-02-08T13:46:01.071918Z",
     "shell.execute_reply": "2021-02-08T13:46:01.072399Z"
    },
    "papermill": {
     "duration": 0.044079,
     "end_time": "2021-02-08T13:46:01.072575",
     "exception": false,
     "start_time": "2021-02-08T13:46:01.028496",
     "status": "completed"
    },
    "tags": []
   },
   "outputs": [
    {
     "data": {
      "text/html": [
       "<div>\n",
       "<style scoped>\n",
       "    .dataframe tbody tr th:only-of-type {\n",
       "        vertical-align: middle;\n",
       "    }\n",
       "\n",
       "    .dataframe tbody tr th {\n",
       "        vertical-align: top;\n",
       "    }\n",
       "\n",
       "    .dataframe thead th {\n",
       "        text-align: right;\n",
       "    }\n",
       "</style>\n",
       "<table border=\"1\" class=\"dataframe\">\n",
       "  <thead>\n",
       "    <tr style=\"text-align: right;\">\n",
       "      <th></th>\n",
       "      <th>states</th>\n",
       "      <th>Cases</th>\n",
       "      <th>Deaths</th>\n",
       "      <th>PCases</th>\n",
       "      <th>PDeaths</th>\n",
       "    </tr>\n",
       "  </thead>\n",
       "  <tbody>\n",
       "    <tr>\n",
       "      <th>0</th>\n",
       "      <td>Maharashtra</td>\n",
       "      <td>2044071</td>\n",
       "      <td>51310</td>\n",
       "      <td>2044071</td>\n",
       "      <td>51310</td>\n",
       "    </tr>\n",
       "    <tr>\n",
       "      <th>1</th>\n",
       "      <td>Kerala</td>\n",
       "      <td>972181</td>\n",
       "      <td>3884</td>\n",
       "      <td>968439</td>\n",
       "      <td>3868</td>\n",
       "    </tr>\n",
       "    <tr>\n",
       "      <th>2</th>\n",
       "      <td>Karnataka</td>\n",
       "      <td>942518</td>\n",
       "      <td>12236</td>\n",
       "      <td>942518</td>\n",
       "      <td>12236</td>\n",
       "    </tr>\n",
       "    <tr>\n",
       "      <th>3</th>\n",
       "      <td>Andhra Pradesh</td>\n",
       "      <td>888423</td>\n",
       "      <td>7159</td>\n",
       "      <td>888423</td>\n",
       "      <td>7159</td>\n",
       "    </tr>\n",
       "    <tr>\n",
       "      <th>4</th>\n",
       "      <td>Tamil Nadu</td>\n",
       "      <td>841797</td>\n",
       "      <td>12383</td>\n",
       "      <td>841797</td>\n",
       "      <td>12383</td>\n",
       "    </tr>\n",
       "  </tbody>\n",
       "</table>\n",
       "</div>"
      ],
      "text/plain": [
       "           states    Cases  Deaths   PCases  PDeaths\n",
       "0     Maharashtra  2044071   51310  2044071    51310\n",
       "1          Kerala   972181    3884   968439     3868\n",
       "2       Karnataka   942518   12236   942518    12236\n",
       "3  Andhra Pradesh   888423    7159   888423     7159\n",
       "4      Tamil Nadu   841797   12383   841797    12383"
      ]
     },
     "execution_count": 11,
     "metadata": {},
     "output_type": "execute_result"
    }
   ],
   "source": [
    "#hide\n",
    "df_table = pd.DataFrame({'states': dfc_cases.index, 'Cases': dfc_cases.values, 'Deaths': dfc_deaths.values, 'PCases': dfp_cases.values, 'PDeaths': dfp_deaths.values}).set_index('states')\n",
    "df_table = df_table.sort_values(by = ['Cases','Deaths'], ascending = [False, False])\n",
    "df_table = df_table.reset_index()\n",
    "df_table.head()"
   ]
  },
  {
   "cell_type": "code",
   "execution_count": 12,
   "id": "found-montreal",
   "metadata": {
    "execution": {
     "iopub.execute_input": "2021-02-08T13:46:01.114282Z",
     "iopub.status.busy": "2021-02-08T13:46:01.113652Z",
     "iopub.status.idle": "2021-02-08T13:46:01.124757Z",
     "shell.execute_reply": "2021-02-08T13:46:01.125331Z"
    },
    "papermill": {
     "duration": 0.035497,
     "end_time": "2021-02-08T13:46:01.125506",
     "exception": false,
     "start_time": "2021-02-08T13:46:01.090009",
     "status": "completed"
    },
    "tags": []
   },
   "outputs": [],
   "source": [
    "#hide\n",
    "for c in 'Cases, Deaths'.split(', '):\n",
    "    df_table[f'{c} (+)'] = (df_table[c] - df_table[f'P{c}']).clip(0)\n",
    "df_table['Fatality Rate'] = (100* df_table['Deaths']/ df_table['Cases']).round(2)"
   ]
  },
  {
   "cell_type": "code",
   "execution_count": 13,
   "id": "minus-savage",
   "metadata": {
    "execution": {
     "iopub.execute_input": "2021-02-08T13:46:01.171564Z",
     "iopub.status.busy": "2021-02-08T13:46:01.171004Z",
     "iopub.status.idle": "2021-02-08T13:46:01.174143Z",
     "shell.execute_reply": "2021-02-08T13:46:01.173603Z"
    },
    "papermill": {
     "duration": 0.03204,
     "end_time": "2021-02-08T13:46:01.174282",
     "exception": false,
     "start_time": "2021-02-08T13:46:01.142242",
     "status": "completed"
    },
    "tags": []
   },
   "outputs": [
    {
     "data": {
      "text/html": [
       "<div>\n",
       "<style scoped>\n",
       "    .dataframe tbody tr th:only-of-type {\n",
       "        vertical-align: middle;\n",
       "    }\n",
       "\n",
       "    .dataframe tbody tr th {\n",
       "        vertical-align: top;\n",
       "    }\n",
       "\n",
       "    .dataframe thead th {\n",
       "        text-align: right;\n",
       "    }\n",
       "</style>\n",
       "<table border=\"1\" class=\"dataframe\">\n",
       "  <thead>\n",
       "    <tr style=\"text-align: right;\">\n",
       "      <th></th>\n",
       "      <th>states</th>\n",
       "      <th>Cases</th>\n",
       "      <th>Deaths</th>\n",
       "      <th>PCases</th>\n",
       "      <th>PDeaths</th>\n",
       "      <th>Cases (+)</th>\n",
       "      <th>Deaths (+)</th>\n",
       "      <th>Fatality Rate</th>\n",
       "    </tr>\n",
       "  </thead>\n",
       "  <tbody>\n",
       "    <tr>\n",
       "      <th>0</th>\n",
       "      <td>Maharashtra</td>\n",
       "      <td>2044071</td>\n",
       "      <td>51310</td>\n",
       "      <td>2044071</td>\n",
       "      <td>51310</td>\n",
       "      <td>0</td>\n",
       "      <td>0</td>\n",
       "      <td>2.51</td>\n",
       "    </tr>\n",
       "    <tr>\n",
       "      <th>1</th>\n",
       "      <td>Kerala</td>\n",
       "      <td>972181</td>\n",
       "      <td>3884</td>\n",
       "      <td>968439</td>\n",
       "      <td>3868</td>\n",
       "      <td>3742</td>\n",
       "      <td>16</td>\n",
       "      <td>0.40</td>\n",
       "    </tr>\n",
       "    <tr>\n",
       "      <th>2</th>\n",
       "      <td>Karnataka</td>\n",
       "      <td>942518</td>\n",
       "      <td>12236</td>\n",
       "      <td>942518</td>\n",
       "      <td>12236</td>\n",
       "      <td>0</td>\n",
       "      <td>0</td>\n",
       "      <td>1.30</td>\n",
       "    </tr>\n",
       "    <tr>\n",
       "      <th>3</th>\n",
       "      <td>Andhra Pradesh</td>\n",
       "      <td>888423</td>\n",
       "      <td>7159</td>\n",
       "      <td>888423</td>\n",
       "      <td>7159</td>\n",
       "      <td>0</td>\n",
       "      <td>0</td>\n",
       "      <td>0.81</td>\n",
       "    </tr>\n",
       "    <tr>\n",
       "      <th>4</th>\n",
       "      <td>Tamil Nadu</td>\n",
       "      <td>841797</td>\n",
       "      <td>12383</td>\n",
       "      <td>841797</td>\n",
       "      <td>12383</td>\n",
       "      <td>0</td>\n",
       "      <td>0</td>\n",
       "      <td>1.47</td>\n",
       "    </tr>\n",
       "  </tbody>\n",
       "</table>\n",
       "</div>"
      ],
      "text/plain": [
       "           states    Cases  Deaths   PCases  PDeaths  Cases (+)  Deaths (+)  \\\n",
       "0     Maharashtra  2044071   51310  2044071    51310          0           0   \n",
       "1          Kerala   972181    3884   968439     3868       3742          16   \n",
       "2       Karnataka   942518   12236   942518    12236          0           0   \n",
       "3  Andhra Pradesh   888423    7159   888423     7159          0           0   \n",
       "4      Tamil Nadu   841797   12383   841797    12383          0           0   \n",
       "\n",
       "   Fatality Rate  \n",
       "0           2.51  \n",
       "1           0.40  \n",
       "2           1.30  \n",
       "3           0.81  \n",
       "4           1.47  "
      ]
     },
     "execution_count": 13,
     "metadata": {},
     "output_type": "execute_result"
    }
   ],
   "source": [
    "#hide\n",
    "df_table.head()"
   ]
  },
  {
   "cell_type": "code",
   "execution_count": 14,
   "id": "false-peter",
   "metadata": {
    "execution": {
     "iopub.execute_input": "2021-02-08T13:46:01.214560Z",
     "iopub.status.busy": "2021-02-08T13:46:01.214007Z",
     "iopub.status.idle": "2021-02-08T13:46:01.232952Z",
     "shell.execute_reply": "2021-02-08T13:46:01.233469Z"
    },
    "papermill": {
     "duration": 0.042291,
     "end_time": "2021-02-08T13:46:01.233620",
     "exception": false,
     "start_time": "2021-02-08T13:46:01.191329",
     "status": "completed"
    },
    "tags": []
   },
   "outputs": [
    {
     "data": {
      "text/plain": [
       "{'updated': '2021-02-08',\n",
       " 'since': '2021-02-07',\n",
       " 'Cases': 10842842,\n",
       " 'PCases': 10839100,\n",
       " 'Deaths': 155134,\n",
       " 'PDeaths': 155118,\n",
       " 'Cases (+)': 3742,\n",
       " 'Deaths (+)': 16}"
      ]
     },
     "execution_count": 14,
     "metadata": {},
     "output_type": "execute_result"
    }
   ],
   "source": [
    "#hide\n",
    "summary = {'updated':dates[-1], 'since':dates[-2]}\n",
    "list_names = ['Cases', 'PCases', 'Deaths', 'PDeaths', 'Cases (+)', 'Deaths (+)']\n",
    "for name in list_names:\n",
    "    summary[name] = df_table.sum()[name]\n",
    "summary"
   ]
  },
  {
   "cell_type": "code",
   "execution_count": 15,
   "id": "packed-viewer",
   "metadata": {
    "execution": {
     "iopub.execute_input": "2021-02-08T13:46:01.273153Z",
     "iopub.status.busy": "2021-02-08T13:46:01.272594Z",
     "iopub.status.idle": "2021-02-08T13:46:01.274677Z",
     "shell.execute_reply": "2021-02-08T13:46:01.275125Z"
    },
    "papermill": {
     "duration": 0.023655,
     "end_time": "2021-02-08T13:46:01.275272",
     "exception": false,
     "start_time": "2021-02-08T13:46:01.251617",
     "status": "completed"
    },
    "tags": []
   },
   "outputs": [],
   "source": [
    "#hide\n",
    "overview = '''\n",
    "<!-- #######  HTML!! #########-->\n",
    "<h1 style=\"color: #5e9ca0; text-align: center;\">India</h1>\n",
    "<p style=\"text-align: center;\">Last update: <strong>{update}</strong></p>\n",
    "<p style=\"text-align: center;\">Confirmed cases:</p>\n",
    "<p style=\"text-align: center;font-size:24px;\">{cases} (<span style=\"color: #ff0000;\">+{new}</span>)</p>\n",
    "<p style=\"text-align: center;\">Confirmed deaths:</p>\n",
    "<p style=\"text-align: center;font-size:24px;\">{deaths} (<span style=\"color: #ff0000;\">+{dnew}</span>)</p>\n",
    "'''"
   ]
  },
  {
   "cell_type": "code",
   "execution_count": 16,
   "id": "phantom-lover",
   "metadata": {
    "execution": {
     "iopub.execute_input": "2021-02-08T13:46:01.316764Z",
     "iopub.status.busy": "2021-02-08T13:46:01.315769Z",
     "iopub.status.idle": "2021-02-08T13:46:01.320809Z",
     "shell.execute_reply": "2021-02-08T13:46:01.320350Z"
    },
    "papermill": {
     "duration": 0.028485,
     "end_time": "2021-02-08T13:46:01.320926",
     "exception": false,
     "start_time": "2021-02-08T13:46:01.292441",
     "status": "completed"
    },
    "tags": []
   },
   "outputs": [
    {
     "data": {
      "text/html": [
       "\n",
       "<!-- #######  HTML!! #########-->\n",
       "<h1 style=\"color: #5e9ca0; text-align: center;\">India</h1>\n",
       "<p style=\"text-align: center;\">Last update: <strong>2021-02-08</strong></p>\n",
       "<p style=\"text-align: center;\">Confirmed cases:</p>\n",
       "<p style=\"text-align: center;font-size:24px;\">10842842 (<span style=\"color: #ff0000;\">+3742</span>)</p>\n",
       "<p style=\"text-align: center;\">Confirmed deaths:</p>\n",
       "<p style=\"text-align: center;font-size:24px;\">155134 (<span style=\"color: #ff0000;\">+16</span>)</p>\n"
      ],
      "text/plain": [
       "<IPython.core.display.HTML object>"
      ]
     },
     "metadata": {},
     "output_type": "display_data"
    }
   ],
   "source": [
    "#hide_input\n",
    "update = summary['updated']\n",
    "cases = summary['Cases']\n",
    "new = summary['Cases (+)']\n",
    "deaths = summary['Deaths']\n",
    "dnew = summary['Deaths (+)']\n",
    "\n",
    "html = HTML(overview.format(update=update, cases=cases,new=new,deaths=deaths,dnew=dnew))\n",
    "\n",
    "display(html)"
   ]
  },
  {
   "cell_type": "code",
   "execution_count": 17,
   "id": "sealed-reset",
   "metadata": {
    "execution": {
     "iopub.execute_input": "2021-02-08T13:46:01.363774Z",
     "iopub.status.busy": "2021-02-08T13:46:01.363238Z",
     "iopub.status.idle": "2021-02-08T13:46:01.370620Z",
     "shell.execute_reply": "2021-02-08T13:46:01.370142Z"
    },
    "papermill": {
     "duration": 0.03224,
     "end_time": "2021-02-08T13:46:01.370748",
     "exception": false,
     "start_time": "2021-02-08T13:46:01.338508",
     "status": "completed"
    },
    "tags": []
   },
   "outputs": [],
   "source": [
    "#hide\n",
    "dt_cols = list(dft_cases.columns[1:])\n",
    "dft_ct_new_cases = dft_cases.groupby('state')[dt_cols].sum().diff(axis=1).fillna(0).astype(int)\n",
    "dft_ct_new_cases.sort_values(by = dates[-1], ascending = False,inplace = True)"
   ]
  },
  {
   "cell_type": "code",
   "execution_count": 18,
   "id": "designed-constant",
   "metadata": {
    "execution": {
     "iopub.execute_input": "2021-02-08T13:46:01.424195Z",
     "iopub.status.busy": "2021-02-08T13:46:01.423584Z",
     "iopub.status.idle": "2021-02-08T13:46:01.426705Z",
     "shell.execute_reply": "2021-02-08T13:46:01.426237Z"
    },
    "papermill": {
     "duration": 0.038013,
     "end_time": "2021-02-08T13:46:01.426823",
     "exception": false,
     "start_time": "2021-02-08T13:46:01.388810",
     "status": "completed"
    },
    "tags": []
   },
   "outputs": [
    {
     "data": {
      "text/html": [
       "<div>\n",
       "<style scoped>\n",
       "    .dataframe tbody tr th:only-of-type {\n",
       "        vertical-align: middle;\n",
       "    }\n",
       "\n",
       "    .dataframe tbody tr th {\n",
       "        vertical-align: top;\n",
       "    }\n",
       "\n",
       "    .dataframe thead th {\n",
       "        text-align: right;\n",
       "    }\n",
       "</style>\n",
       "<table border=\"1\" class=\"dataframe\">\n",
       "  <thead>\n",
       "    <tr style=\"text-align: right;\">\n",
       "      <th>states</th>\n",
       "      <th>2020-07-01</th>\n",
       "      <th>2020-07-02</th>\n",
       "      <th>2020-07-03</th>\n",
       "      <th>2020-07-04</th>\n",
       "      <th>2020-07-05</th>\n",
       "      <th>2020-07-06</th>\n",
       "      <th>2020-07-07</th>\n",
       "      <th>2020-07-08</th>\n",
       "      <th>2020-07-09</th>\n",
       "      <th>2020-07-10</th>\n",
       "      <th>...</th>\n",
       "      <th>2021-01-30</th>\n",
       "      <th>2021-01-31</th>\n",
       "      <th>2021-02-01</th>\n",
       "      <th>2021-02-02</th>\n",
       "      <th>2021-02-03</th>\n",
       "      <th>2021-02-04</th>\n",
       "      <th>2021-02-05</th>\n",
       "      <th>2021-02-06</th>\n",
       "      <th>2021-02-07</th>\n",
       "      <th>2021-02-08</th>\n",
       "    </tr>\n",
       "    <tr>\n",
       "      <th>state</th>\n",
       "      <th></th>\n",
       "      <th></th>\n",
       "      <th></th>\n",
       "      <th></th>\n",
       "      <th></th>\n",
       "      <th></th>\n",
       "      <th></th>\n",
       "      <th></th>\n",
       "      <th></th>\n",
       "      <th></th>\n",
       "      <th></th>\n",
       "      <th></th>\n",
       "      <th></th>\n",
       "      <th></th>\n",
       "      <th></th>\n",
       "      <th></th>\n",
       "      <th></th>\n",
       "      <th></th>\n",
       "      <th></th>\n",
       "      <th></th>\n",
       "      <th></th>\n",
       "    </tr>\n",
       "  </thead>\n",
       "  <tbody>\n",
       "    <tr>\n",
       "      <th>Kerala</th>\n",
       "      <td>0</td>\n",
       "      <td>160</td>\n",
       "      <td>211</td>\n",
       "      <td>240</td>\n",
       "      <td>225</td>\n",
       "      <td>193</td>\n",
       "      <td>272</td>\n",
       "      <td>301</td>\n",
       "      <td>339</td>\n",
       "      <td>416</td>\n",
       "      <td>...</td>\n",
       "      <td>6282</td>\n",
       "      <td>5266</td>\n",
       "      <td>3459</td>\n",
       "      <td>5716</td>\n",
       "      <td>6356</td>\n",
       "      <td>6102</td>\n",
       "      <td>5610</td>\n",
       "      <td>5942</td>\n",
       "      <td>6075</td>\n",
       "      <td>3742</td>\n",
       "    </tr>\n",
       "    <tr>\n",
       "      <th>Andaman and Nicobar Islands</th>\n",
       "      <td>0</td>\n",
       "      <td>9</td>\n",
       "      <td>7</td>\n",
       "      <td>3</td>\n",
       "      <td>6</td>\n",
       "      <td>16</td>\n",
       "      <td>6</td>\n",
       "      <td>2</td>\n",
       "      <td>7</td>\n",
       "      <td>0</td>\n",
       "      <td>...</td>\n",
       "      <td>0</td>\n",
       "      <td>0</td>\n",
       "      <td>0</td>\n",
       "      <td>0</td>\n",
       "      <td>0</td>\n",
       "      <td>0</td>\n",
       "      <td>3</td>\n",
       "      <td>3</td>\n",
       "      <td>0</td>\n",
       "      <td>0</td>\n",
       "    </tr>\n",
       "    <tr>\n",
       "      <th>Madhya Pradesh</th>\n",
       "      <td>0</td>\n",
       "      <td>245</td>\n",
       "      <td>191</td>\n",
       "      <td>307</td>\n",
       "      <td>326</td>\n",
       "      <td>354</td>\n",
       "      <td>343</td>\n",
       "      <td>409</td>\n",
       "      <td>305</td>\n",
       "      <td>316</td>\n",
       "      <td>...</td>\n",
       "      <td>219</td>\n",
       "      <td>226</td>\n",
       "      <td>151</td>\n",
       "      <td>168</td>\n",
       "      <td>258</td>\n",
       "      <td>166</td>\n",
       "      <td>162</td>\n",
       "      <td>197</td>\n",
       "      <td>184</td>\n",
       "      <td>0</td>\n",
       "    </tr>\n",
       "    <tr>\n",
       "      <th>Manipur</th>\n",
       "      <td>0</td>\n",
       "      <td>19</td>\n",
       "      <td>37</td>\n",
       "      <td>9</td>\n",
       "      <td>41</td>\n",
       "      <td>24</td>\n",
       "      <td>40</td>\n",
       "      <td>5</td>\n",
       "      <td>15</td>\n",
       "      <td>132</td>\n",
       "      <td>...</td>\n",
       "      <td>15</td>\n",
       "      <td>16</td>\n",
       "      <td>4</td>\n",
       "      <td>5</td>\n",
       "      <td>9</td>\n",
       "      <td>13</td>\n",
       "      <td>9</td>\n",
       "      <td>7</td>\n",
       "      <td>9</td>\n",
       "      <td>0</td>\n",
       "    </tr>\n",
       "    <tr>\n",
       "      <th>Meghalaya</th>\n",
       "      <td>0</td>\n",
       "      <td>3</td>\n",
       "      <td>4</td>\n",
       "      <td>8</td>\n",
       "      <td>2</td>\n",
       "      <td>16</td>\n",
       "      <td>6</td>\n",
       "      <td>6</td>\n",
       "      <td>13</td>\n",
       "      <td>73</td>\n",
       "      <td>...</td>\n",
       "      <td>8</td>\n",
       "      <td>3</td>\n",
       "      <td>0</td>\n",
       "      <td>4</td>\n",
       "      <td>6</td>\n",
       "      <td>20</td>\n",
       "      <td>27</td>\n",
       "      <td>24</td>\n",
       "      <td>40</td>\n",
       "      <td>0</td>\n",
       "    </tr>\n",
       "  </tbody>\n",
       "</table>\n",
       "<p>5 rows × 223 columns</p>\n",
       "</div>"
      ],
      "text/plain": [
       "states                       2020-07-01  2020-07-02  2020-07-03  2020-07-04  \\\n",
       "state                                                                         \n",
       "Kerala                                0         160         211         240   \n",
       "Andaman and Nicobar Islands           0           9           7           3   \n",
       "Madhya Pradesh                        0         245         191         307   \n",
       "Manipur                               0          19          37           9   \n",
       "Meghalaya                             0           3           4           8   \n",
       "\n",
       "states                       2020-07-05  2020-07-06  2020-07-07  2020-07-08  \\\n",
       "state                                                                         \n",
       "Kerala                              225         193         272         301   \n",
       "Andaman and Nicobar Islands           6          16           6           2   \n",
       "Madhya Pradesh                      326         354         343         409   \n",
       "Manipur                              41          24          40           5   \n",
       "Meghalaya                             2          16           6           6   \n",
       "\n",
       "states                       2020-07-09  2020-07-10  ...  2021-01-30  \\\n",
       "state                                                ...               \n",
       "Kerala                              339         416  ...        6282   \n",
       "Andaman and Nicobar Islands           7           0  ...           0   \n",
       "Madhya Pradesh                      305         316  ...         219   \n",
       "Manipur                              15         132  ...          15   \n",
       "Meghalaya                            13          73  ...           8   \n",
       "\n",
       "states                       2021-01-31  2021-02-01  2021-02-02  2021-02-03  \\\n",
       "state                                                                         \n",
       "Kerala                             5266        3459        5716        6356   \n",
       "Andaman and Nicobar Islands           0           0           0           0   \n",
       "Madhya Pradesh                      226         151         168         258   \n",
       "Manipur                              16           4           5           9   \n",
       "Meghalaya                             3           0           4           6   \n",
       "\n",
       "states                       2021-02-04  2021-02-05  2021-02-06  2021-02-07  \\\n",
       "state                                                                         \n",
       "Kerala                             6102        5610        5942        6075   \n",
       "Andaman and Nicobar Islands           0           3           3           0   \n",
       "Madhya Pradesh                      166         162         197         184   \n",
       "Manipur                              13           9           7           9   \n",
       "Meghalaya                            20          27          24          40   \n",
       "\n",
       "states                       2021-02-08  \n",
       "state                                    \n",
       "Kerala                             3742  \n",
       "Andaman and Nicobar Islands           0  \n",
       "Madhya Pradesh                        0  \n",
       "Manipur                               0  \n",
       "Meghalaya                             0  \n",
       "\n",
       "[5 rows x 223 columns]"
      ]
     },
     "execution_count": 18,
     "metadata": {},
     "output_type": "execute_result"
    }
   ],
   "source": [
    "#hide\n",
    "dft_ct_new_cases.head()"
   ]
  },
  {
   "cell_type": "code",
   "execution_count": 19,
   "id": "responsible-nightlife",
   "metadata": {
    "execution": {
     "iopub.execute_input": "2021-02-08T13:46:01.482782Z",
     "iopub.status.busy": "2021-02-08T13:46:01.472203Z",
     "iopub.status.idle": "2021-02-08T13:46:09.233963Z",
     "shell.execute_reply": "2021-02-08T13:46:09.234481Z"
    },
    "papermill": {
     "duration": 7.789349,
     "end_time": "2021-02-08T13:46:09.234667",
     "exception": false,
     "start_time": "2021-02-08T13:46:01.445318",
     "status": "completed"
    },
    "tags": []
   },
   "outputs": [
    {
     "data": {
      "image/png": "[encoded data removed]",
      "text/plain": [
       "<Figure size 1296x2016 with 11 Axes>"
      ]
     },
     "metadata": {
      "needs_background": "light"
     },
     "output_type": "display_data"
    }
   ],
   "source": [
    "#hide_input\n",
    "df = dft_ct_new_cases.copy()\n",
    "df.loc['Total'] = df.sum()\n",
    "n = 5\n",
    "ax = []\n",
    "fig = plt.figure(figsize = (18,28))\n",
    "gs = fig.add_gridspec(n+2, 5)\n",
    "# gs = fig.add_gridspec(2, 3)\n",
    "ax1 = fig.add_subplot(gs[0, :])\n",
    "ef = df.loc['Total'].rename_axis('date').reset_index()\n",
    "ef['date'] = ef['date'].astype('datetime64[ns]')\n",
    "ax1.bar(ef.date,ef.Total,alpha=0.3,color='#007acc')\n",
    "ax1.plot(ef.date,ef.Total , marker=\"o\", color='#007acc')\n",
    "ax1.xaxis.set_major_locator(mdates.WeekdayLocator())\n",
    "ax1.xaxis.set_major_formatter(mdates.DateFormatter('%b %d'))\n",
    "ax1.text(0.02, 0.5,'India daily case count', transform = ax1.transAxes, fontsize=25);\n",
    "ax1.spines['right'].set_visible(False)\n",
    "ax1.spines['top'].set_visible(False)\n",
    "\n",
    "ax2 = fig.add_subplot(gs[1,0])\n",
    "ef = df.loc['Maharashtra'].rename_axis('date').reset_index()\n",
    "ef['date'] = ef['date'].astype('datetime64[ns]')\n",
    "\n",
    "ax2.bar(ef.date, ef.Maharashtra,color = '#007acc',alpha=0.5)\n",
    "ax2.xaxis.set_major_locator(mdates.WeekdayLocator())\n",
    "ax2.xaxis.set_major_formatter(mdates.DateFormatter('%b %d'))\n",
    "ax2.set_xticks(ax2.get_xticks()[::3])\n",
    "maxyval = ef.Maharashtra.max()\n",
    "ax2.set_ylim([0,maxyval])\n",
    "ax2.text(0.05, 0.9,'Maharashtra', transform = ax2.transAxes, fontsize=20);\n",
    "ax2.spines['right'].set_visible(False)\n",
    "ax2.spines['top'].set_visible(False)\n",
    "\n",
    "\n",
    "ax3 = fig.add_subplot(gs[1,1])\n",
    "ef = df.loc['Tamil Nadu'].rename_axis('date').reset_index()\n",
    "ef['date'] = ef['date'].astype('datetime64[ns]')\n",
    "ax3.bar(ef.date, ef['Tamil Nadu'],color = '#007acc',alpha=0.5,)\n",
    "ax3.xaxis.set_major_locator(mdates.WeekdayLocator())\n",
    "ax3.xaxis.set_major_formatter(mdates.DateFormatter('%b %d'))\n",
    "ax3.set_xticks(ax3.get_xticks()[::3])\n",
    "ax3.text(0.05, 0.9,'Tamil Nadu', transform = ax3.transAxes, fontsize=20);\n",
    "ax3.spines['right'].set_visible(False)\n",
    "ax3.spines['top'].set_visible(False)\n",
    "\n",
    "ax5 = fig.add_subplot(gs[1,3])\n",
    "ef = df.loc['Telangana'].rename_axis('date').reset_index()\n",
    "ef['date'] = ef['date'].astype('datetime64[ns]')\n",
    "ax5.bar(ef.date, ef['Telangana'],color = '#007acc',alpha=0.5,)\n",
    "ax5.xaxis.set_major_locator(mdates.WeekdayLocator())\n",
    "ax5.xaxis.set_major_formatter(mdates.DateFormatter('%b %d'))\n",
    "ax5.set_xticks(ax5.get_xticks()[::3])\n",
    "ax5.text(0.05, 0.9,'Telangana', transform = ax5.transAxes, fontsize=20);\n",
    "ax5.spines['right'].set_visible(False)\n",
    "ax5.spines['top'].set_visible(False)\n",
    "\n",
    "ax6 = fig.add_subplot(gs[1,4])\n",
    "ef = df.loc['Andhra Pradesh'].rename_axis('date').reset_index()\n",
    "ef['date'] = ef['date'].astype('datetime64[ns]')\n",
    "ax6.bar(ef.date, ef['Andhra Pradesh'],color = '#007acc',alpha=0.5,)\n",
    "ax6.xaxis.set_major_locator(mdates.WeekdayLocator())\n",
    "ax6.xaxis.set_major_formatter(mdates.DateFormatter('%b %d'))\n",
    "ax6.set_xticks(ax6.get_xticks()[::3])\n",
    "ax6.text(0.05, 1,'Andhra Pradesh', transform = ax6.transAxes, fontsize=20);\n",
    "ax6.spines['right'].set_visible(False)\n",
    "ax6.spines['top'].set_visible(False)\n",
    "\n",
    "ax4 = fig.add_subplot(gs[1,2])\n",
    "ef = df.loc['Delhi'].rename_axis('date').reset_index()\n",
    "ef['date'] = ef['date'].astype('datetime64[ns]')\n",
    "ax4.bar(ef.date, ef.Delhi,color = '#007acc',alpha=0.5)\n",
    "ax4.set_xticks([])\n",
    "ax4.xaxis.set_major_locator(mdates.WeekdayLocator())\n",
    "ax4.xaxis.set_major_formatter(mdates.DateFormatter('%b %d'))\n",
    "ax4.set_xticks(ax4.get_xticks()[::3])\n",
    "ax4.spines['right'].set_visible(False)\n",
    "ax4.spines['top'].set_visible(False)\n",
    "\n",
    "ax4.text(0.05, 1,'Delhi', transform = ax4.transAxes, fontsize=20)\n",
    "\n",
    "for i in range(n):\n",
    "    \n",
    "    ax.append(fig.add_subplot(gs[i+2,:]))\n",
    "    ef = df.iloc[i+3].rename_axis('date').reset_index()\n",
    "    ef['date'] = ef['date'].astype('datetime64[ns]')\n",
    "    ax[i].bar(ef.date,ef.iloc[:,-1],color = '#007acc',alpha=0.3)\n",
    "    ax[i].plot(ef.date,ef.iloc[:,-1],marker='o',color='#007acc')\n",
    "    ax[i].text(0.02,0.5,f'{ef.columns.values[-1]}',transform = ax[i].transAxes, fontsize = 20);\n",
    "    ax[i].xaxis.set_major_locator(mdates.WeekdayLocator())\n",
    "    ax[i].xaxis.set_major_formatter(mdates.DateFormatter('%b %d'))\n",
    "    ax[i].set_ylim([0,7000])\n",
    "    ax[i].spines['right'].set_visible(False)\n",
    "    ax[i].spines['top'].set_visible(False)\n",
    "plt.tight_layout()\n"
   ]
  },
  {
   "cell_type": "code",
   "execution_count": 20,
   "id": "dress-forge",
   "metadata": {
    "execution": {
     "iopub.execute_input": "2021-02-08T13:46:09.293067Z",
     "iopub.status.busy": "2021-02-08T13:46:09.292317Z",
     "iopub.status.idle": "2021-02-08T13:46:09.294893Z",
     "shell.execute_reply": "2021-02-08T13:46:09.295443Z"
    },
    "papermill": {
     "duration": 0.036871,
     "end_time": "2021-02-08T13:46:09.295655",
     "exception": false,
     "start_time": "2021-02-08T13:46:09.258784",
     "status": "completed"
    },
    "tags": []
   },
   "outputs": [
    {
     "name": "stdout",
     "output_type": "stream",
     "text": [
      "                                   states    Cases  Deaths   PCases  PDeaths  Cases (+)  Deaths (+)  Fatality Rate\n",
      "                              Maharashtra  2044071   51310  2044071    51310          0           0           2.51\n",
      "                                   Kerala   972181    3884   968439     3868       3742          16           0.40\n",
      "                                Karnataka   942518   12236   942518    12236          0           0           1.30\n",
      "                           Andhra Pradesh   888423    7159   888423     7159          0           0           0.81\n",
      "                               Tamil Nadu   841797   12383   841797    12383          0           0           1.47\n",
      "                                    Delhi   636035   10879   636035    10879          0           0           1.71\n",
      "                            Uttar Pradesh   601385    8687   601385     8687          0           0           1.44\n",
      "                              West Bengal   571371   10207   571371    10207          0           0           1.79\n",
      "                                   Odisha   335620    1962   335620     1962          0           0           0.58\n",
      "                                Rajasthan   318193    2772   318193     2772          0           0           0.87\n",
      "                             Chhattisgarh   307525    3741   307525     3741          0           0           1.22\n",
      "                                Telangana   295581    1610   295581     1610          0           0           0.54\n",
      "                                  Haryana   268431    3029   268431     3029          0           0           1.13\n",
      "                                  Gujarat   263444    4395   263444     4395          0           0           1.67\n",
      "                                    Bihar   261299    1516   261299     1516          0           0           0.58\n",
      "                           Madhya Pradesh   256398    3820   256398     3820          0           0           1.49\n",
      "                                    Assam   217210    1084   217210     1084          0           0           0.50\n",
      "                                   Punjab   174646    5642   174646     5642          0           0           3.23\n",
      "                        Jammu and Kashmir   124909    1944   124909     1944          0           0           1.56\n",
      "                                Jharkhand   119017    1078   119017     1078          0           0           0.91\n",
      "                              Uttarakhand    96493    1668    96493     1668          0           0           1.73\n",
      "                         Himachal Pradesh    57896     972    57896      972          0           0           1.68\n",
      "                                      Goa    53880     772    53880      772          0           0           1.43\n",
      "                               Puducherry    39292     654    39292      654          0           0           1.66\n",
      "                                  Tripura    33349     388    33349      388          0           0           1.16\n",
      "                                  Manipur    29126     373    29126      373          0           0           1.28\n",
      "                               Chandigarh    21107     340    21107      340          0           0           1.61\n",
      "                        Arunachal Pradesh    16830      56    16830       56          0           0           0.33\n",
      "                                Meghalaya    13885     147    13885      147          0           0           1.06\n",
      "                                 Nagaland    12158      88    12158       88          0           0           0.72\n",
      "                                   Ladakh     9747     130     9747      130          0           0           1.33\n",
      "                                   Sikkim     6110     135     6110      135          0           0           2.21\n",
      "              Andaman and Nicobar Islands     5000      62     5000       62          0           0           1.24\n",
      "                                  Mizoram     4382       9     4382        9          0           0           0.21\n",
      " Dadra and Nagar Haveli and Daman and Diu     3380       2     3380        2          0           0           0.06\n",
      "                              Lakshadweep      153       0      153        0          0           0           0.00\n"
     ]
    }
   ],
   "source": [
    "#hide_input\n",
    "print(df_table.to_string(index=False))"
   ]
  },
  {
   "cell_type": "code",
   "execution_count": null,
   "id": "quantitative-legend",
   "metadata": {
    "papermill": {
     "duration": 0.02501,
     "end_time": "2021-02-08T13:46:09.346090",
     "exception": false,
     "start_time": "2021-02-08T13:46:09.321080",
     "status": "completed"
    },
    "tags": []
   },
   "outputs": [],
   "source": []
  },
  {
   "cell_type": "code",
   "execution_count": null,
   "id": "distant-acoustic",
   "metadata": {
    "papermill": {
     "duration": 0.023708,
     "end_time": "2021-02-08T13:46:09.395204",
     "exception": false,
     "start_time": "2021-02-08T13:46:09.371496",
     "status": "completed"
    },
    "tags": []
   },
   "outputs": [],
   "source": []
  }
 ],
 "metadata": {
  "kernelspec": {
   "display_name": "Python 3",
   "language": "python",
   "name": "python3"
  },
  "language_info": {
   "codemirror_mode": {
    "name": "ipython",
    "version": 3
   },
   "file_extension": ".py",
   "mimetype": "text/x-python",
   "name": "python",
   "nbconvert_exporter": "python",
   "pygments_lexer": "ipython3",
   "version": "3.6.12"
  },
  "papermill": {
   "duration": 17.99088,
   "end_time": "2021-02-08T13:46:10.337222",
   "environment_variables": {},
   "exception": null,
   "input_path": "latest.ipynb",
   "output_path": "latest.ipynb",
   "parameters": {},
   "start_time": "2021-02-08T13:45:52.346342",
   "version": "2.1.2"
  }
 },
 "nbformat": 4,
 "nbformat_minor": 5
}