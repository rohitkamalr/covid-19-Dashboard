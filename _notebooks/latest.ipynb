{
 "cells": [
  {
   "cell_type": "markdown",
   "metadata": {
    "papermill": {
     "duration": 0.021057,
     "end_time": "2020-10-01T06:52:30.551003",
     "exception": false,
     "start_time": "2020-10-01T06:52:30.529946",
     "status": "completed"
    },
    "tags": []
   },
   "source": [
    "# Latest COVID-19 India Matplotlib Overview"
   ]
  },
  {
   "cell_type": "code",
   "execution_count": 1,
   "metadata": {
    "execution": {
     "iopub.execute_input": "2020-10-01T06:52:30.962965Z",
     "iopub.status.busy": "2020-10-01T06:52:30.962252Z",
     "iopub.status.idle": "2020-10-01T06:52:31.579177Z",
     "shell.execute_reply": "2020-10-01T06:52:31.578028Z"
    },
    "papermill": {
     "duration": 0.87216,
     "end_time": "2020-10-01T06:52:31.579365",
     "exception": false,
     "start_time": "2020-10-01T06:52:30.707205",
     "status": "completed"
    },
    "tags": []
   },
   "outputs": [],
   "source": [
    "#hide\n",
    "import pandas as pd\n",
    "import numpy as np\n",
    "import requests\n",
    "import json\n",
    "import matplotlib.pyplot as plt\n",
    "import matplotlib.dates as mdates\n",
    "import matplotlib as mpl\n",
    "from IPython.core.display import display,HTML\n",
    "%matplotlib inline\n",
    "from datetime import date"
   ]
  },
  {
   "cell_type": "code",
   "execution_count": 2,
   "metadata": {
    "execution": {
     "iopub.execute_input": "2020-10-01T06:52:31.618879Z",
     "iopub.status.busy": "2020-10-01T06:52:31.618082Z",
     "iopub.status.idle": "2020-10-01T06:52:31.729715Z",
     "shell.execute_reply": "2020-10-01T06:52:31.729138Z"
    },
    "papermill": {
     "duration": 0.133813,
     "end_time": "2020-10-01T06:52:31.729861",
     "exception": false,
     "start_time": "2020-10-01T06:52:31.596048",
     "status": "completed"
    },
    "tags": []
   },
   "outputs": [],
   "source": [
    "#hide\n",
    "df  = pd.read_csv('https://api.covid19india.org/csv/latest/states.csv')\n",
    "df = df[['Date','State','Confirmed','Deceased']]\n",
    "df = df.rename(columns={'Confirmed':'Cases', \"Deceased\":'Deaths'})\n",
    "df_cases = df[[\"Date\",'State','Cases']]\n",
    "df_deaths = df[['Date','State','Deaths']]\n",
    "df_cases1 = df_cases.groupby('Date')\n",
    "df_deaths1= df_deaths.groupby('Date')"
   ]
  },
  {
   "cell_type": "code",
   "execution_count": 3,
   "metadata": {
    "execution": {
     "iopub.execute_input": "2020-10-01T06:52:31.768355Z",
     "iopub.status.busy": "2020-10-01T06:52:31.767802Z",
     "iopub.status.idle": "2020-10-01T06:52:31.786646Z",
     "shell.execute_reply": "2020-10-01T06:52:31.786150Z"
    },
    "papermill": {
     "duration": 0.039774,
     "end_time": "2020-10-01T06:52:31.786815",
     "exception": false,
     "start_time": "2020-10-01T06:52:31.747041",
     "status": "completed"
    },
    "tags": []
   },
   "outputs": [],
   "source": [
    "#hide\n",
    "df_snap = pd.read_csv('data/SnapshotCases-28-July.csv')\n",
    "arr_states = df_snap['states'].unique()\n",
    "arr_dates = df['Date'].unique()\n",
    "df_snap = df_snap.set_index('states')"
   ]
  },
  {
   "cell_type": "code",
   "execution_count": 4,
   "metadata": {
    "execution": {
     "iopub.execute_input": "2020-10-01T06:52:31.826032Z",
     "iopub.status.busy": "2020-10-01T06:52:31.825277Z",
     "iopub.status.idle": "2020-10-01T06:52:31.830777Z",
     "shell.execute_reply": "2020-10-01T06:52:31.829905Z"
    },
    "papermill": {
     "duration": 0.027912,
     "end_time": "2020-10-01T06:52:31.830913",
     "exception": false,
     "start_time": "2020-10-01T06:52:31.803001",
     "status": "completed"
    },
    "tags": []
   },
   "outputs": [
    {
     "data": {
      "text/plain": [
       "array(['Andaman and Nicobar Islands', 'Andhra Pradesh',\n",
       "       'Arunachal Pradesh', 'Assam', 'Bihar', 'Chandigarh',\n",
       "       'Dadra and Nagar Haveli and Daman and Diu', 'Delhi', 'Goa',\n",
       "       'Gujarat', 'Haryana', 'Himachal Pradesh', 'Jammu and Kashmir',\n",
       "       'Jharkhand', 'Karnataka', 'Kerala', 'Lakshadweep',\n",
       "       'Madhya Pradesh', 'Maharashtra', 'Manipur', 'Meghalaya', 'Mizoram',\n",
       "       'Nagaland', 'Odisha', 'Puducherry', 'Punjab', 'Rajasthan',\n",
       "       'Sikkim', 'Tamil Nadu', 'Telangana', 'Tripura', 'Uttar Pradesh',\n",
       "       'West Bengal', 'Chhattisgarh', 'Ladakh', 'Uttarakhand'],\n",
       "      dtype=object)"
      ]
     },
     "execution_count": 4,
     "metadata": {},
     "output_type": "execute_result"
    }
   ],
   "source": [
    "#hide\n",
    "arr_states[-9] = 'Puducherry'\n",
    "arr_states[-10] = 'Odisha'\n",
    "arr_states[6] = 'Dadra and Nagar Haveli and Daman and Diu'\n",
    "arr_states = np.append(arr_states,np.array(['Chhattisgarh','Ladakh','Uttarakhand']))\n",
    "arr_states"
   ]
  },
  {
   "cell_type": "code",
   "execution_count": 5,
   "metadata": {
    "execution": {
     "iopub.execute_input": "2020-10-01T06:52:31.882763Z",
     "iopub.status.busy": "2020-10-01T06:52:31.882109Z",
     "iopub.status.idle": "2020-10-01T06:52:31.885303Z",
     "shell.execute_reply": "2020-10-01T06:52:31.884778Z"
    },
    "papermill": {
     "duration": 0.036106,
     "end_time": "2020-10-01T06:52:31.885439",
     "exception": false,
     "start_time": "2020-10-01T06:52:31.849333",
     "status": "completed"
    },
    "tags": []
   },
   "outputs": [],
   "source": [
    "#hide\n",
    "dates = []\n",
    "for i in arr_dates:\n",
    "    if i>='2020-07-01':\n",
    "        dates.append(i)\n",
    "dict = {'states':dates}\n",
    "for i in arr_states:\n",
    "    dict[i] = [0]*len(dates)\n",
    "dft_cases = pd.DataFrame(dict)\n",
    "dft_deaths = pd.DataFrame(dict)\n"
   ]
  },
  {
   "cell_type": "code",
   "execution_count": 6,
   "metadata": {
    "execution": {
     "iopub.execute_input": "2020-10-01T06:52:31.929695Z",
     "iopub.status.busy": "2020-10-01T06:52:31.929015Z",
     "iopub.status.idle": "2020-10-01T06:52:33.637209Z",
     "shell.execute_reply": "2020-10-01T06:52:33.636675Z"
    },
    "papermill": {
     "duration": 1.734815,
     "end_time": "2020-10-01T06:52:33.637355",
     "exception": false,
     "start_time": "2020-10-01T06:52:31.902540",
     "status": "completed"
    },
    "tags": []
   },
   "outputs": [],
   "source": [
    "#hide\n",
    "for i in range(len(dates)):\n",
    "    df1_deaths = df_deaths1.get_group(dates[i])\n",
    "    for j in range(len(df1_deaths.index)):\n",
    "        if df1_deaths.iloc[j,1] in arr_states:\n",
    "            dft_deaths.loc[i,df1_deaths.iloc[j,1]] = df1_deaths.iloc[j,2]\n",
    "dft_deaths = dft_deaths.set_index('states')"
   ]
  },
  {
   "cell_type": "code",
   "execution_count": 7,
   "metadata": {
    "execution": {
     "iopub.execute_input": "2020-10-01T06:52:33.680562Z",
     "iopub.status.busy": "2020-10-01T06:52:33.679779Z",
     "iopub.status.idle": "2020-10-01T06:52:35.417980Z",
     "shell.execute_reply": "2020-10-01T06:52:35.417372Z"
    },
    "papermill": {
     "duration": 1.762659,
     "end_time": "2020-10-01T06:52:35.418128",
     "exception": false,
     "start_time": "2020-10-01T06:52:33.655469",
     "status": "completed"
    },
    "tags": []
   },
   "outputs": [],
   "source": [
    "#hide\n",
    "for i in range(len(dates)):\n",
    "    df1_cases = df_cases1.get_group(dates[i])\n",
    "    for j in range(len(df1_cases.index)):\n",
    "        if df1_cases.iloc[j,1] in arr_states:\n",
    "            dft_cases.loc[i,df1_cases.iloc[j,1]] = df1_cases.iloc[j,2]\n",
    "dft_cases = dft_cases.set_index('states')"
   ]
  },
  {
   "cell_type": "code",
   "execution_count": 8,
   "metadata": {
    "execution": {
     "iopub.execute_input": "2020-10-01T06:52:35.461125Z",
     "iopub.status.busy": "2020-10-01T06:52:35.460468Z",
     "iopub.status.idle": "2020-10-01T06:52:35.464966Z",
     "shell.execute_reply": "2020-10-01T06:52:35.464405Z"
    },
    "papermill": {
     "duration": 0.029132,
     "end_time": "2020-10-01T06:52:35.465115",
     "exception": false,
     "start_time": "2020-10-01T06:52:35.435983",
     "status": "completed"
    },
    "tags": []
   },
   "outputs": [],
   "source": [
    "#hide\n",
    "dft_cases = dft_cases.T\n",
    "dft_deaths = dft_deaths.T\n",
    "dt_today = dates[-1]\n",
    "dt_yday = dates[-2]"
   ]
  },
  {
   "cell_type": "code",
   "execution_count": 9,
   "metadata": {
    "execution": {
     "iopub.execute_input": "2020-10-01T06:52:35.517509Z",
     "iopub.status.busy": "2020-10-01T06:52:35.516071Z",
     "iopub.status.idle": "2020-10-01T06:52:35.518303Z",
     "shell.execute_reply": "2020-10-01T06:52:35.518933Z"
    },
    "papermill": {
     "duration": 0.036857,
     "end_time": "2020-10-01T06:52:35.519106",
     "exception": false,
     "start_time": "2020-10-01T06:52:35.482249",
     "status": "completed"
    },
    "tags": []
   },
   "outputs": [],
   "source": [
    "#hide\n",
    "dft_cases = dft_cases.reset_index()\n",
    "dft_deaths = dft_deaths.reset_index()\n",
    "dft_cases = dft_cases.rename(columns = {'index':'state'})\n",
    "dft_deaths = dft_deaths.rename(columns = {'index':'state'})"
   ]
  },
  {
   "cell_type": "code",
   "execution_count": 10,
   "metadata": {
    "execution": {
     "iopub.execute_input": "2020-10-01T06:52:35.560136Z",
     "iopub.status.busy": "2020-10-01T06:52:35.559356Z",
     "iopub.status.idle": "2020-10-01T06:52:35.569460Z",
     "shell.execute_reply": "2020-10-01T06:52:35.568831Z"
    },
    "papermill": {
     "duration": 0.033069,
     "end_time": "2020-10-01T06:52:35.569588",
     "exception": false,
     "start_time": "2020-10-01T06:52:35.536519",
     "status": "completed"
    },
    "tags": []
   },
   "outputs": [],
   "source": [
    "#hide\n",
    "dfc_cases = dft_cases.groupby('state')[dt_today].sum()\n",
    "dfc_deaths = dft_deaths.groupby('state')[dt_today].sum()\n",
    "dfp_cases = dft_cases.groupby('state')[dt_yday].sum()\n",
    "dfp_deaths = dft_deaths.groupby('state')[dt_yday].sum()"
   ]
  },
  {
   "cell_type": "code",
   "execution_count": 11,
   "metadata": {
    "execution": {
     "iopub.execute_input": "2020-10-01T06:52:35.610439Z",
     "iopub.status.busy": "2020-10-01T06:52:35.609741Z",
     "iopub.status.idle": "2020-10-01T06:52:35.623575Z",
     "shell.execute_reply": "2020-10-01T06:52:35.624495Z"
    },
    "papermill": {
     "duration": 0.039163,
     "end_time": "2020-10-01T06:52:35.624666",
     "exception": false,
     "start_time": "2020-10-01T06:52:35.585503",
     "status": "completed"
    },
    "tags": []
   },
   "outputs": [
    {
     "data": {
      "text/html": [
       "<div>\n",
       "<style scoped>\n",
       "    .dataframe tbody tr th:only-of-type {\n",
       "        vertical-align: middle;\n",
       "    }\n",
       "\n",
       "    .dataframe tbody tr th {\n",
       "        vertical-align: top;\n",
       "    }\n",
       "\n",
       "    .dataframe thead th {\n",
       "        text-align: right;\n",
       "    }\n",
       "</style>\n",
       "<table border=\"1\" class=\"dataframe\">\n",
       "  <thead>\n",
       "    <tr style=\"text-align: right;\">\n",
       "      <th></th>\n",
       "      <th>states</th>\n",
       "      <th>Cases</th>\n",
       "      <th>Deaths</th>\n",
       "      <th>PCases</th>\n",
       "      <th>PDeaths</th>\n",
       "    </tr>\n",
       "  </thead>\n",
       "  <tbody>\n",
       "    <tr>\n",
       "      <th>0</th>\n",
       "      <td>Maharashtra</td>\n",
       "      <td>1384446</td>\n",
       "      <td>36662</td>\n",
       "      <td>1384446</td>\n",
       "      <td>36662</td>\n",
       "    </tr>\n",
       "    <tr>\n",
       "      <th>1</th>\n",
       "      <td>Andhra Pradesh</td>\n",
       "      <td>693484</td>\n",
       "      <td>5828</td>\n",
       "      <td>693484</td>\n",
       "      <td>5828</td>\n",
       "    </tr>\n",
       "    <tr>\n",
       "      <th>2</th>\n",
       "      <td>Karnataka</td>\n",
       "      <td>601767</td>\n",
       "      <td>8864</td>\n",
       "      <td>601767</td>\n",
       "      <td>8864</td>\n",
       "    </tr>\n",
       "    <tr>\n",
       "      <th>3</th>\n",
       "      <td>Tamil Nadu</td>\n",
       "      <td>597602</td>\n",
       "      <td>9520</td>\n",
       "      <td>597602</td>\n",
       "      <td>9520</td>\n",
       "    </tr>\n",
       "    <tr>\n",
       "      <th>4</th>\n",
       "      <td>Uttar Pradesh</td>\n",
       "      <td>399082</td>\n",
       "      <td>5784</td>\n",
       "      <td>399082</td>\n",
       "      <td>5784</td>\n",
       "    </tr>\n",
       "  </tbody>\n",
       "</table>\n",
       "</div>"
      ],
      "text/plain": [
       "           states    Cases  Deaths   PCases  PDeaths\n",
       "0     Maharashtra  1384446   36662  1384446    36662\n",
       "1  Andhra Pradesh   693484    5828   693484     5828\n",
       "2       Karnataka   601767    8864   601767     8864\n",
       "3      Tamil Nadu   597602    9520   597602     9520\n",
       "4   Uttar Pradesh   399082    5784   399082     5784"
      ]
     },
     "execution_count": 11,
     "metadata": {},
     "output_type": "execute_result"
    }
   ],
   "source": [
    "#hide\n",
    "df_table = pd.DataFrame({'states': dfc_cases.index, 'Cases': dfc_cases.values, 'Deaths': dfc_deaths.values, 'PCases': dfp_cases.values, 'PDeaths': dfp_deaths.values}).set_index('states')\n",
    "df_table = df_table.sort_values(by = ['Cases','Deaths'], ascending = [False, False])\n",
    "df_table = df_table.reset_index()\n",
    "df_table.head()"
   ]
  },
  {
   "cell_type": "code",
   "execution_count": 12,
   "metadata": {
    "execution": {
     "iopub.execute_input": "2020-10-01T06:52:35.663116Z",
     "iopub.status.busy": "2020-10-01T06:52:35.662210Z",
     "iopub.status.idle": "2020-10-01T06:52:35.674842Z",
     "shell.execute_reply": "2020-10-01T06:52:35.673706Z"
    },
    "papermill": {
     "duration": 0.032621,
     "end_time": "2020-10-01T06:52:35.675021",
     "exception": false,
     "start_time": "2020-10-01T06:52:35.642400",
     "status": "completed"
    },
    "tags": []
   },
   "outputs": [],
   "source": [
    "#hide\n",
    "for c in 'Cases, Deaths'.split(', '):\n",
    "    df_table[f'{c} (+)'] = (df_table[c] - df_table[f'P{c}']).clip(0)\n",
    "df_table['Fatality Rate'] = (100* df_table['Deaths']/ df_table['Cases']).round(2)"
   ]
  },
  {
   "cell_type": "code",
   "execution_count": 13,
   "metadata": {
    "execution": {
     "iopub.execute_input": "2020-10-01T06:52:35.718362Z",
     "iopub.status.busy": "2020-10-01T06:52:35.717579Z",
     "iopub.status.idle": "2020-10-01T06:52:35.720321Z",
     "shell.execute_reply": "2020-10-01T06:52:35.720825Z"
    },
    "papermill": {
     "duration": 0.029891,
     "end_time": "2020-10-01T06:52:35.720960",
     "exception": false,
     "start_time": "2020-10-01T06:52:35.691069",
     "status": "completed"
    },
    "tags": []
   },
   "outputs": [
    {
     "data": {
      "text/html": [
       "<div>\n",
       "<style scoped>\n",
       "    .dataframe tbody tr th:only-of-type {\n",
       "        vertical-align: middle;\n",
       "    }\n",
       "\n",
       "    .dataframe tbody tr th {\n",
       "        vertical-align: top;\n",
       "    }\n",
       "\n",
       "    .dataframe thead th {\n",
       "        text-align: right;\n",
       "    }\n",
       "</style>\n",
       "<table border=\"1\" class=\"dataframe\">\n",
       "  <thead>\n",
       "    <tr style=\"text-align: right;\">\n",
       "      <th></th>\n",
       "      <th>states</th>\n",
       "      <th>Cases</th>\n",
       "      <th>Deaths</th>\n",
       "      <th>PCases</th>\n",
       "      <th>PDeaths</th>\n",
       "      <th>Cases (+)</th>\n",
       "      <th>Deaths (+)</th>\n",
       "      <th>Fatality Rate</th>\n",
       "    </tr>\n",
       "  </thead>\n",
       "  <tbody>\n",
       "    <tr>\n",
       "      <th>0</th>\n",
       "      <td>Maharashtra</td>\n",
       "      <td>1384446</td>\n",
       "      <td>36662</td>\n",
       "      <td>1384446</td>\n",
       "      <td>36662</td>\n",
       "      <td>0</td>\n",
       "      <td>0</td>\n",
       "      <td>2.65</td>\n",
       "    </tr>\n",
       "    <tr>\n",
       "      <th>1</th>\n",
       "      <td>Andhra Pradesh</td>\n",
       "      <td>693484</td>\n",
       "      <td>5828</td>\n",
       "      <td>693484</td>\n",
       "      <td>5828</td>\n",
       "      <td>0</td>\n",
       "      <td>0</td>\n",
       "      <td>0.84</td>\n",
       "    </tr>\n",
       "    <tr>\n",
       "      <th>2</th>\n",
       "      <td>Karnataka</td>\n",
       "      <td>601767</td>\n",
       "      <td>8864</td>\n",
       "      <td>601767</td>\n",
       "      <td>8864</td>\n",
       "      <td>0</td>\n",
       "      <td>0</td>\n",
       "      <td>1.47</td>\n",
       "    </tr>\n",
       "    <tr>\n",
       "      <th>3</th>\n",
       "      <td>Tamil Nadu</td>\n",
       "      <td>597602</td>\n",
       "      <td>9520</td>\n",
       "      <td>597602</td>\n",
       "      <td>9520</td>\n",
       "      <td>0</td>\n",
       "      <td>0</td>\n",
       "      <td>1.59</td>\n",
       "    </tr>\n",
       "    <tr>\n",
       "      <th>4</th>\n",
       "      <td>Uttar Pradesh</td>\n",
       "      <td>399082</td>\n",
       "      <td>5784</td>\n",
       "      <td>399082</td>\n",
       "      <td>5784</td>\n",
       "      <td>0</td>\n",
       "      <td>0</td>\n",
       "      <td>1.45</td>\n",
       "    </tr>\n",
       "  </tbody>\n",
       "</table>\n",
       "</div>"
      ],
      "text/plain": [
       "           states    Cases  Deaths   PCases  PDeaths  Cases (+)  Deaths (+)  \\\n",
       "0     Maharashtra  1384446   36662  1384446    36662          0           0   \n",
       "1  Andhra Pradesh   693484    5828   693484     5828          0           0   \n",
       "2       Karnataka   601767    8864   601767     8864          0           0   \n",
       "3      Tamil Nadu   597602    9520   597602     9520          0           0   \n",
       "4   Uttar Pradesh   399082    5784   399082     5784          0           0   \n",
       "\n",
       "   Fatality Rate  \n",
       "0           2.65  \n",
       "1           0.84  \n",
       "2           1.47  \n",
       "3           1.59  \n",
       "4           1.45  "
      ]
     },
     "execution_count": 13,
     "metadata": {},
     "output_type": "execute_result"
    }
   ],
   "source": [
    "#hide\n",
    "df_table.head()"
   ]
  },
  {
   "cell_type": "code",
   "execution_count": 14,
   "metadata": {
    "execution": {
     "iopub.execute_input": "2020-10-01T06:52:35.758670Z",
     "iopub.status.busy": "2020-10-01T06:52:35.757968Z",
     "iopub.status.idle": "2020-10-01T06:52:35.776580Z",
     "shell.execute_reply": "2020-10-01T06:52:35.777186Z"
    },
    "papermill": {
     "duration": 0.039964,
     "end_time": "2020-10-01T06:52:35.777323",
     "exception": false,
     "start_time": "2020-10-01T06:52:35.737359",
     "status": "completed"
    },
    "tags": []
   },
   "outputs": [
    {
     "data": {
      "text/plain": [
       "{'updated': '2020-10-01',\n",
       " 'since': '2020-09-30',\n",
       " 'Cases': 6312512,\n",
       " 'PCases': 6310267,\n",
       " 'Deaths': 98716,\n",
       " 'PDeaths': 98708,\n",
       " 'Cases (+)': 2245,\n",
       " 'Deaths (+)': 8}"
      ]
     },
     "execution_count": 14,
     "metadata": {},
     "output_type": "execute_result"
    }
   ],
   "source": [
    "#hide\n",
    "summary = {'updated':dates[-1], 'since':dates[-2]}\n",
    "list_names = ['Cases', 'PCases', 'Deaths', 'PDeaths', 'Cases (+)', 'Deaths (+)']\n",
    "for name in list_names:\n",
    "    summary[name] = df_table.sum()[name]\n",
    "summary"
   ]
  },
  {
   "cell_type": "code",
   "execution_count": 15,
   "metadata": {
    "execution": {
     "iopub.execute_input": "2020-10-01T06:52:35.819415Z",
     "iopub.status.busy": "2020-10-01T06:52:35.818777Z",
     "iopub.status.idle": "2020-10-01T06:52:35.821362Z",
     "shell.execute_reply": "2020-10-01T06:52:35.820820Z"
    },
    "papermill": {
     "duration": 0.025988,
     "end_time": "2020-10-01T06:52:35.821494",
     "exception": false,
     "start_time": "2020-10-01T06:52:35.795506",
     "status": "completed"
    },
    "tags": []
   },
   "outputs": [],
   "source": [
    "#hide\n",
    "overview = '''\n",
    "<!-- #######  HTML!! #########-->\n",
    "<h1 style=\"color: #5e9ca0; text-align: center;\">India</h1>\n",
    "<p style=\"text-align: center;\">Last update: <strong>{update}</strong></p>\n",
    "<p style=\"text-align: center;\">Confirmed cases:</p>\n",
    "<p style=\"text-align: center;font-size:24px;\">{cases} (<span style=\"color: #ff0000;\">+{new}</span>)</p>\n",
    "<p style=\"text-align: center;\">Confirmed deaths:</p>\n",
    "<p style=\"text-align: center;font-size:24px;\">{deaths} (<span style=\"color: #ff0000;\">+{dnew}</span>)</p>\n",
    "'''"
   ]
  },
  {
   "cell_type": "code",
   "execution_count": 16,
   "metadata": {
    "execution": {
     "iopub.execute_input": "2020-10-01T06:52:35.864082Z",
     "iopub.status.busy": "2020-10-01T06:52:35.863490Z",
     "iopub.status.idle": "2020-10-01T06:52:35.873090Z",
     "shell.execute_reply": "2020-10-01T06:52:35.874111Z"
    },
    "papermill": {
     "duration": 0.034907,
     "end_time": "2020-10-01T06:52:35.874316",
     "exception": false,
     "start_time": "2020-10-01T06:52:35.839409",
     "status": "completed"
    },
    "tags": []
   },
   "outputs": [
    {
     "data": {
      "text/html": [
       "\n",
       "<!-- #######  HTML!! #########-->\n",
       "<h1 style=\"color: #5e9ca0; text-align: center;\">India</h1>\n",
       "<p style=\"text-align: center;\">Last update: <strong>2020-10-01</strong></p>\n",
       "<p style=\"text-align: center;\">Confirmed cases:</p>\n",
       "<p style=\"text-align: center;font-size:24px;\">6312512 (<span style=\"color: #ff0000;\">+2245</span>)</p>\n",
       "<p style=\"text-align: center;\">Confirmed deaths:</p>\n",
       "<p style=\"text-align: center;font-size:24px;\">98716 (<span style=\"color: #ff0000;\">+8</span>)</p>\n"
      ],
      "text/plain": [
       "<IPython.core.display.HTML object>"
      ]
     },
     "metadata": {},
     "output_type": "display_data"
    }
   ],
   "source": [
    "#hide_input\n",
    "update = summary['updated']\n",
    "cases = summary['Cases']\n",
    "new = summary['Cases (+)']\n",
    "deaths = summary['Deaths']\n",
    "dnew = summary['Deaths (+)']\n",
    "\n",
    "html = HTML(overview.format(update=update, cases=cases,new=new,deaths=deaths,dnew=dnew))\n",
    "\n",
    "display(html)"
   ]
  },
  {
   "cell_type": "code",
   "execution_count": 17,
   "metadata": {
    "execution": {
     "iopub.execute_input": "2020-10-01T06:52:36.062061Z",
     "iopub.status.busy": "2020-10-01T06:52:36.061240Z",
     "iopub.status.idle": "2020-10-01T06:52:36.066979Z",
     "shell.execute_reply": "2020-10-01T06:52:36.067594Z"
    },
    "papermill": {
     "duration": 0.174857,
     "end_time": "2020-10-01T06:52:36.067802",
     "exception": false,
     "start_time": "2020-10-01T06:52:35.892945",
     "status": "completed"
    },
    "tags": []
   },
   "outputs": [],
   "source": [
    "#hide\n",
    "dt_cols = list(dft_cases.columns[1:])\n",
    "dft_ct_new_cases = dft_cases.groupby('state')[dt_cols].sum().diff(axis=1).fillna(0).astype(int)\n",
    "dft_ct_new_cases.sort_values(by = dates[-1], ascending = False,inplace = True)"
   ]
  },
  {
   "cell_type": "code",
   "execution_count": 18,
   "metadata": {
    "execution": {
     "iopub.execute_input": "2020-10-01T06:52:36.791959Z",
     "iopub.status.busy": "2020-10-01T06:52:36.791289Z",
     "iopub.status.idle": "2020-10-01T06:52:36.794497Z",
     "shell.execute_reply": "2020-10-01T06:52:36.795172Z"
    },
    "papermill": {
     "duration": 0.043677,
     "end_time": "2020-10-01T06:52:36.795336",
     "exception": false,
     "start_time": "2020-10-01T06:52:36.751659",
     "status": "completed"
    },
    "tags": []
   },
   "outputs": [
    {
     "data": {
      "text/html": [
       "<div>\n",
       "<style scoped>\n",
       "    .dataframe tbody tr th:only-of-type {\n",
       "        vertical-align: middle;\n",
       "    }\n",
       "\n",
       "    .dataframe tbody tr th {\n",
       "        vertical-align: top;\n",
       "    }\n",
       "\n",
       "    .dataframe thead th {\n",
       "        text-align: right;\n",
       "    }\n",
       "</style>\n",
       "<table border=\"1\" class=\"dataframe\">\n",
       "  <thead>\n",
       "    <tr style=\"text-align: right;\">\n",
       "      <th>states</th>\n",
       "      <th>2020-07-01</th>\n",
       "      <th>2020-07-02</th>\n",
       "      <th>2020-07-03</th>\n",
       "      <th>2020-07-04</th>\n",
       "      <th>2020-07-05</th>\n",
       "      <th>2020-07-06</th>\n",
       "      <th>2020-07-07</th>\n",
       "      <th>2020-07-08</th>\n",
       "      <th>2020-07-09</th>\n",
       "      <th>2020-07-10</th>\n",
       "      <th>...</th>\n",
       "      <th>2020-09-22</th>\n",
       "      <th>2020-09-23</th>\n",
       "      <th>2020-09-24</th>\n",
       "      <th>2020-09-25</th>\n",
       "      <th>2020-09-26</th>\n",
       "      <th>2020-09-27</th>\n",
       "      <th>2020-09-28</th>\n",
       "      <th>2020-09-29</th>\n",
       "      <th>2020-09-30</th>\n",
       "      <th>2020-10-01</th>\n",
       "    </tr>\n",
       "    <tr>\n",
       "      <th>state</th>\n",
       "      <th></th>\n",
       "      <th></th>\n",
       "      <th></th>\n",
       "      <th></th>\n",
       "      <th></th>\n",
       "      <th></th>\n",
       "      <th></th>\n",
       "      <th></th>\n",
       "      <th></th>\n",
       "      <th></th>\n",
       "      <th></th>\n",
       "      <th></th>\n",
       "      <th></th>\n",
       "      <th></th>\n",
       "      <th></th>\n",
       "      <th></th>\n",
       "      <th></th>\n",
       "      <th></th>\n",
       "      <th></th>\n",
       "      <th></th>\n",
       "      <th></th>\n",
       "    </tr>\n",
       "  </thead>\n",
       "  <tbody>\n",
       "    <tr>\n",
       "      <th>Telangana</th>\n",
       "      <td>0</td>\n",
       "      <td>1213</td>\n",
       "      <td>1892</td>\n",
       "      <td>1850</td>\n",
       "      <td>1590</td>\n",
       "      <td>1831</td>\n",
       "      <td>1879</td>\n",
       "      <td>1924</td>\n",
       "      <td>1410</td>\n",
       "      <td>1278</td>\n",
       "      <td>...</td>\n",
       "      <td>2166</td>\n",
       "      <td>2296</td>\n",
       "      <td>2176</td>\n",
       "      <td>2381</td>\n",
       "      <td>2239</td>\n",
       "      <td>1967</td>\n",
       "      <td>1378</td>\n",
       "      <td>2072</td>\n",
       "      <td>2103</td>\n",
       "      <td>2214</td>\n",
       "    </tr>\n",
       "    <tr>\n",
       "      <th>Mizoram</th>\n",
       "      <td>0</td>\n",
       "      <td>2</td>\n",
       "      <td>0</td>\n",
       "      <td>2</td>\n",
       "      <td>22</td>\n",
       "      <td>11</td>\n",
       "      <td>1</td>\n",
       "      <td>5</td>\n",
       "      <td>0</td>\n",
       "      <td>23</td>\n",
       "      <td>...</td>\n",
       "      <td>106</td>\n",
       "      <td>22</td>\n",
       "      <td>46</td>\n",
       "      <td>27</td>\n",
       "      <td>49</td>\n",
       "      <td>30</td>\n",
       "      <td>43</td>\n",
       "      <td>50</td>\n",
       "      <td>28</td>\n",
       "      <td>31</td>\n",
       "    </tr>\n",
       "    <tr>\n",
       "      <th>Andaman and Nicobar Islands</th>\n",
       "      <td>0</td>\n",
       "      <td>9</td>\n",
       "      <td>7</td>\n",
       "      <td>3</td>\n",
       "      <td>6</td>\n",
       "      <td>16</td>\n",
       "      <td>6</td>\n",
       "      <td>2</td>\n",
       "      <td>7</td>\n",
       "      <td>0</td>\n",
       "      <td>...</td>\n",
       "      <td>18</td>\n",
       "      <td>21</td>\n",
       "      <td>32</td>\n",
       "      <td>15</td>\n",
       "      <td>15</td>\n",
       "      <td>20</td>\n",
       "      <td>9</td>\n",
       "      <td>18</td>\n",
       "      <td>14</td>\n",
       "      <td>0</td>\n",
       "    </tr>\n",
       "    <tr>\n",
       "      <th>Puducherry</th>\n",
       "      <td>0</td>\n",
       "      <td>63</td>\n",
       "      <td>22</td>\n",
       "      <td>80</td>\n",
       "      <td>42</td>\n",
       "      <td>65</td>\n",
       "      <td>30</td>\n",
       "      <td>110</td>\n",
       "      <td>49</td>\n",
       "      <td>72</td>\n",
       "      <td>...</td>\n",
       "      <td>493</td>\n",
       "      <td>543</td>\n",
       "      <td>668</td>\n",
       "      <td>594</td>\n",
       "      <td>543</td>\n",
       "      <td>368</td>\n",
       "      <td>285</td>\n",
       "      <td>381</td>\n",
       "      <td>478</td>\n",
       "      <td>0</td>\n",
       "    </tr>\n",
       "    <tr>\n",
       "      <th>Maharashtra</th>\n",
       "      <td>0</td>\n",
       "      <td>6328</td>\n",
       "      <td>6364</td>\n",
       "      <td>7074</td>\n",
       "      <td>6555</td>\n",
       "      <td>5368</td>\n",
       "      <td>5134</td>\n",
       "      <td>6603</td>\n",
       "      <td>6875</td>\n",
       "      <td>7862</td>\n",
       "      <td>...</td>\n",
       "      <td>18390</td>\n",
       "      <td>21029</td>\n",
       "      <td>19164</td>\n",
       "      <td>17794</td>\n",
       "      <td>20419</td>\n",
       "      <td>18056</td>\n",
       "      <td>11921</td>\n",
       "      <td>14976</td>\n",
       "      <td>18317</td>\n",
       "      <td>0</td>\n",
       "    </tr>\n",
       "  </tbody>\n",
       "</table>\n",
       "<p>5 rows × 93 columns</p>\n",
       "</div>"
      ],
      "text/plain": [
       "states                       2020-07-01  2020-07-02  2020-07-03  2020-07-04  \\\n",
       "state                                                                         \n",
       "Telangana                             0        1213        1892        1850   \n",
       "Mizoram                               0           2           0           2   \n",
       "Andaman and Nicobar Islands           0           9           7           3   \n",
       "Puducherry                            0          63          22          80   \n",
       "Maharashtra                           0        6328        6364        7074   \n",
       "\n",
       "states                       2020-07-05  2020-07-06  2020-07-07  2020-07-08  \\\n",
       "state                                                                         \n",
       "Telangana                          1590        1831        1879        1924   \n",
       "Mizoram                              22          11           1           5   \n",
       "Andaman and Nicobar Islands           6          16           6           2   \n",
       "Puducherry                           42          65          30         110   \n",
       "Maharashtra                        6555        5368        5134        6603   \n",
       "\n",
       "states                       2020-07-09  2020-07-10  ...  2020-09-22  \\\n",
       "state                                                ...               \n",
       "Telangana                          1410        1278  ...        2166   \n",
       "Mizoram                               0          23  ...         106   \n",
       "Andaman and Nicobar Islands           7           0  ...          18   \n",
       "Puducherry                           49          72  ...         493   \n",
       "Maharashtra                        6875        7862  ...       18390   \n",
       "\n",
       "states                       2020-09-23  2020-09-24  2020-09-25  2020-09-26  \\\n",
       "state                                                                         \n",
       "Telangana                          2296        2176        2381        2239   \n",
       "Mizoram                              22          46          27          49   \n",
       "Andaman and Nicobar Islands          21          32          15          15   \n",
       "Puducherry                          543         668         594         543   \n",
       "Maharashtra                       21029       19164       17794       20419   \n",
       "\n",
       "states                       2020-09-27  2020-09-28  2020-09-29  2020-09-30  \\\n",
       "state                                                                         \n",
       "Telangana                          1967        1378        2072        2103   \n",
       "Mizoram                              30          43          50          28   \n",
       "Andaman and Nicobar Islands          20           9          18          14   \n",
       "Puducherry                          368         285         381         478   \n",
       "Maharashtra                       18056       11921       14976       18317   \n",
       "\n",
       "states                       2020-10-01  \n",
       "state                                    \n",
       "Telangana                          2214  \n",
       "Mizoram                              31  \n",
       "Andaman and Nicobar Islands           0  \n",
       "Puducherry                            0  \n",
       "Maharashtra                           0  \n",
       "\n",
       "[5 rows x 93 columns]"
      ]
     },
     "execution_count": 18,
     "metadata": {},
     "output_type": "execute_result"
    }
   ],
   "source": [
    "#hide\n",
    "dft_ct_new_cases.head()"
   ]
  },
  {
   "cell_type": "code",
   "execution_count": 19,
   "metadata": {
    "execution": {
     "iopub.execute_input": "2020-10-01T06:52:36.847403Z",
     "iopub.status.busy": "2020-10-01T06:52:36.841971Z",
     "iopub.status.idle": "2020-10-01T06:52:41.885502Z",
     "shell.execute_reply": "2020-10-01T06:52:41.885943Z"
    },
    "papermill": {
     "duration": 5.071041,
     "end_time": "2020-10-01T06:52:41.886081",
     "exception": false,
     "start_time": "2020-10-01T06:52:36.815040",
     "status": "completed"
    },
    "tags": []
   },
   "outputs": [
    {
     "data": {
      "image/png": "[encoded data removed]",
      "text/plain": [
       "<Figure size 1296x2016 with 11 Axes>"
      ]
     },
     "metadata": {
      "needs_background": "light"
     },
     "output_type": "display_data"
    }
   ],
   "source": [
    "#hide_input\n",
    "df = dft_ct_new_cases.copy()\n",
    "df.loc['Total'] = df.sum()\n",
    "n = 5\n",
    "ax = []\n",
    "fig = plt.figure(figsize = (18,28))\n",
    "gs = fig.add_gridspec(n+2, 5)\n",
    "# gs = fig.add_gridspec(2, 3)\n",
    "ax1 = fig.add_subplot(gs[0, :])\n",
    "ef = df.loc['Total'].rename_axis('date').reset_index()\n",
    "ef['date'] = ef['date'].astype('datetime64[ns]')\n",
    "ax1.bar(ef.date,ef.Total,alpha=0.3,color='#007acc')\n",
    "ax1.plot(ef.date,ef.Total , marker=\"o\", color='#007acc')\n",
    "ax1.xaxis.set_major_locator(mdates.WeekdayLocator())\n",
    "ax1.xaxis.set_major_formatter(mdates.DateFormatter('%b %d'))\n",
    "ax1.text(0.02, 0.5,'India daily case count', transform = ax1.transAxes, fontsize=25);\n",
    "ax1.spines['right'].set_visible(False)\n",
    "ax1.spines['top'].set_visible(False)\n",
    "\n",
    "ax2 = fig.add_subplot(gs[1,0])\n",
    "ef = df.loc['Maharashtra'].rename_axis('date').reset_index()\n",
    "ef['date'] = ef['date'].astype('datetime64[ns]')\n",
    "\n",
    "ax2.bar(ef.date, ef.Maharashtra,color = '#007acc',alpha=0.5)\n",
    "ax2.xaxis.set_major_locator(mdates.WeekdayLocator())\n",
    "ax2.xaxis.set_major_formatter(mdates.DateFormatter('%b %d'))\n",
    "ax2.set_xticks(ax2.get_xticks()[::3])\n",
    "maxyval = ef.Maharashtra.max()\n",
    "ax2.set_ylim([0,maxyval])\n",
    "ax2.text(0.05, 0.9,'Maharashtra', transform = ax2.transAxes, fontsize=20);\n",
    "ax2.spines['right'].set_visible(False)\n",
    "ax2.spines['top'].set_visible(False)\n",
    "\n",
    "\n",
    "ax3 = fig.add_subplot(gs[1,1])\n",
    "ef = df.loc['Tamil Nadu'].rename_axis('date').reset_index()\n",
    "ef['date'] = ef['date'].astype('datetime64[ns]')\n",
    "ax3.bar(ef.date, ef['Tamil Nadu'],color = '#007acc',alpha=0.5,)\n",
    "ax3.xaxis.set_major_locator(mdates.WeekdayLocator())\n",
    "ax3.xaxis.set_major_formatter(mdates.DateFormatter('%b %d'))\n",
    "ax3.set_xticks(ax3.get_xticks()[::3])\n",
    "ax3.text(0.05, 0.9,'Tamil Nadu', transform = ax3.transAxes, fontsize=20);\n",
    "ax3.spines['right'].set_visible(False)\n",
    "ax3.spines['top'].set_visible(False)\n",
    "\n",
    "ax5 = fig.add_subplot(gs[1,3])\n",
    "ef = df.loc['Telangana'].rename_axis('date').reset_index()\n",
    "ef['date'] = ef['date'].astype('datetime64[ns]')\n",
    "ax5.bar(ef.date, ef['Telangana'],color = '#007acc',alpha=0.5,)\n",
    "ax5.xaxis.set_major_locator(mdates.WeekdayLocator())\n",
    "ax5.xaxis.set_major_formatter(mdates.DateFormatter('%b %d'))\n",
    "ax5.set_xticks(ax5.get_xticks()[::3])\n",
    "ax5.text(0.05, 0.9,'Telangana', transform = ax5.transAxes, fontsize=20);\n",
    "ax5.spines['right'].set_visible(False)\n",
    "ax5.spines['top'].set_visible(False)\n",
    "\n",
    "ax6 = fig.add_subplot(gs[1,4])\n",
    "ef = df.loc['Andhra Pradesh'].rename_axis('date').reset_index()\n",
    "ef['date'] = ef['date'].astype('datetime64[ns]')\n",
    "ax6.bar(ef.date, ef['Andhra Pradesh'],color = '#007acc',alpha=0.5,)\n",
    "ax6.xaxis.set_major_locator(mdates.WeekdayLocator())\n",
    "ax6.xaxis.set_major_formatter(mdates.DateFormatter('%b %d'))\n",
    "ax6.set_xticks(ax6.get_xticks()[::3])\n",
    "ax6.text(0.05, 1,'Andhra Pradesh', transform = ax6.transAxes, fontsize=20);\n",
    "ax6.spines['right'].set_visible(False)\n",
    "ax6.spines['top'].set_visible(False)\n",
    "\n",
    "ax4 = fig.add_subplot(gs[1,2])\n",
    "ef = df.loc['Delhi'].rename_axis('date').reset_index()\n",
    "ef['date'] = ef['date'].astype('datetime64[ns]')\n",
    "ax4.bar(ef.date, ef.Delhi,color = '#007acc',alpha=0.5)\n",
    "ax4.set_xticks([])\n",
    "ax4.xaxis.set_major_locator(mdates.WeekdayLocator())\n",
    "ax4.xaxis.set_major_formatter(mdates.DateFormatter('%b %d'))\n",
    "ax4.set_xticks(ax4.get_xticks()[::3])\n",
    "ax4.spines['right'].set_visible(False)\n",
    "ax4.spines['top'].set_visible(False)\n",
    "\n",
    "ax4.text(0.05, 1,'Delhi', transform = ax4.transAxes, fontsize=20)\n",
    "\n",
    "for i in range(n):\n",
    "    \n",
    "    ax.append(fig.add_subplot(gs[i+2,:]))\n",
    "    ef = df.iloc[i+3].rename_axis('date').reset_index()\n",
    "    ef['date'] = ef['date'].astype('datetime64[ns]')\n",
    "    ax[i].bar(ef.date,ef.iloc[:,-1],color = '#007acc',alpha=0.3)\n",
    "    ax[i].plot(ef.date,ef.iloc[:,-1],marker='o',color='#007acc')\n",
    "    ax[i].text(0.02,0.5,f'{ef.columns.values[-1]}',transform = ax[i].transAxes, fontsize = 20);\n",
    "    ax[i].xaxis.set_major_locator(mdates.WeekdayLocator())\n",
    "    ax[i].xaxis.set_major_formatter(mdates.DateFormatter('%b %d'))\n",
    "    ax[i].set_ylim([0,7000])\n",
    "    ax[i].spines['right'].set_visible(False)\n",
    "    ax[i].spines['top'].set_visible(False)\n",
    "plt.tight_layout()\n"
   ]
  },
  {
   "cell_type": "code",
   "execution_count": 20,
   "metadata": {
    "execution": {
     "iopub.execute_input": "2020-10-01T06:52:42.216458Z",
     "iopub.status.busy": "2020-10-01T06:52:42.215791Z",
     "iopub.status.idle": "2020-10-01T06:52:42.221618Z",
     "shell.execute_reply": "2020-10-01T06:52:42.221063Z"
    },
    "papermill": {
     "duration": 0.306193,
     "end_time": "2020-10-01T06:52:42.221756",
     "exception": false,
     "start_time": "2020-10-01T06:52:41.915563",
     "status": "completed"
    },
    "tags": []
   },
   "outputs": [
    {
     "name": "stdout",
     "output_type": "stream",
     "text": [
      "                                   states    Cases  Deaths   PCases  PDeaths  Cases (+)  Deaths (+)  Fatality Rate\n",
      "                              Maharashtra  1384446   36662  1384446    36662          0           0           2.65\n",
      "                           Andhra Pradesh   693484    5828   693484     5828          0           0           0.84\n",
      "                                Karnataka   601767    8864   601767     8864          0           0           1.47\n",
      "                               Tamil Nadu   597602    9520   597602     9520          0           0           1.59\n",
      "                            Uttar Pradesh   399082    5784   399082     5784          0           0           1.45\n",
      "                                    Delhi   279715    5361   279715     5361          0           0           1.92\n",
      "                              West Bengal   257049    4958   257049     4958          0           0           1.93\n",
      "                                   Odisha   219119     895   219119      895          0           0           0.41\n",
      "                                   Kerala   196107     743   196107      743          0           0           0.38\n",
      "                                Telangana   193600    1135   191386     1127       2214           8           0.59\n",
      "                                    Bihar   182906     904   182906      904          0           0           0.49\n",
      "                                    Assam   180811     697   180811      697          0           0           0.39\n",
      "                                  Gujarat   137394    3453   137394     3453          0           0           2.51\n",
      "                                Rajasthan   135292    1486   135292     1486          0           0           1.10\n",
      "                                  Haryana   128599    1382   128599     1382          0           0           1.07\n",
      "                           Madhya Pradesh   128047    2316   128047     2316          0           0           1.81\n",
      "                                   Punjab   113886    3406   113886     3406          0           0           2.99\n",
      "                             Chhattisgarh   113602     957   113602      957          0           0           0.84\n",
      "                                Jharkhand    83651     713    83651      713          0           0           0.85\n",
      "                        Jammu and Kashmir    75070    1181    75070     1181          0           0           1.57\n",
      "                              Uttarakhand    49000     611    49000      611          0           0           1.25\n",
      "                                      Goa    33418     428    33418      428          0           0           1.28\n",
      "                               Puducherry    27544     521    27544      521          0           0           1.89\n",
      "                                  Tripura    25731     274    25731      274          0           0           1.06\n",
      "                         Himachal Pradesh    14976     181    14976      181          0           0           1.21\n",
      "                               Chandigarh    11938     162    11938      162          0           0           1.36\n",
      "                                  Manipur    10983      67    10983       67          0           0           0.61\n",
      "                        Arunachal Pradesh     9796      16     9796       16          0           0           0.16\n",
      "                                 Nagaland     6163      12     6163       12          0           0           0.19\n",
      "                                Meghalaya     5639      49     5639       49          0           0           0.87\n",
      "                                   Ladakh     4269      58     4269       58          0           0           1.36\n",
      "              Andaman and Nicobar Islands     3835      53     3835       53          0           0           1.38\n",
      " Dadra and Nagar Haveli and Daman and Diu     3043       2     3043        2          0           0           0.07\n",
      "                                   Sikkim     2931      37     2931       37          0           0           1.26\n",
      "                                  Mizoram     2017       0     1986        0         31           0           0.00\n",
      "                              Lakshadweep        0       0        0        0          0           0            NaN\n"
     ]
    }
   ],
   "source": [
    "#hide_input\n",
    "print(df_table.to_string(index=False))"
   ]
  },
  {
   "cell_type": "code",
   "execution_count": null,
   "metadata": {
    "papermill": {
     "duration": 0.023386,
     "end_time": "2020-10-01T06:52:42.321303",
     "exception": false,
     "start_time": "2020-10-01T06:52:42.297917",
     "status": "completed"
    },
    "tags": []
   },
   "outputs": [],
   "source": []
  },
  {
   "cell_type": "code",
   "execution_count": null,
   "metadata": {
    "papermill": {
     "duration": 0.023185,
     "end_time": "2020-10-01T06:52:42.368375",
     "exception": false,
     "start_time": "2020-10-01T06:52:42.345190",
     "status": "completed"
    },
    "tags": []
   },
   "outputs": [],
   "source": []
  }
 ],
 "metadata": {
  "kernelspec": {
   "display_name": "Python 3",
   "language": "python",
   "name": "python3"
  },
  "language_info": {
   "codemirror_mode": {
    "name": "ipython",
    "version": 3
   },
   "file_extension": ".py",
   "mimetype": "text/x-python",
   "name": "python",
   "nbconvert_exporter": "python",
   "pygments_lexer": "ipython3",
   "version": "3.6.12"
  },
  "papermill": {
   "duration": 14.363909,
   "end_time": "2020-10-01T06:52:43.766348",
   "environment_variables": {},
   "exception": null,
   "input_path": "latest.ipynb",
   "output_path": "latest.ipynb",
   "parameters": {},
   "start_time": "2020-10-01T06:52:29.402439",
   "version": "2.1.2"
  }
 },
 "nbformat": 4,
 "nbformat_minor": 4
}