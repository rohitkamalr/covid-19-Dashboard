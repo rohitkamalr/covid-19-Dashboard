{
 "cells": [
  {
   "cell_type": "markdown",
   "id": "colored-stack",
   "metadata": {
    "papermill": {
     "duration": 0.025313,
     "end_time": "2021-04-21T13:45:51.416443",
     "exception": false,
     "start_time": "2021-04-21T13:45:51.391130",
     "status": "completed"
    },
    "tags": []
   },
   "source": [
    "# Latest COVID-19 India Matplotlib Overview"
   ]
  },
  {
   "cell_type": "code",
   "execution_count": 1,
   "id": "light-proportion",
   "metadata": {
    "execution": {
     "iopub.execute_input": "2021-04-21T13:45:51.470514Z",
     "iopub.status.busy": "2021-04-21T13:45:51.469831Z",
     "iopub.status.idle": "2021-04-21T13:45:52.154259Z",
     "shell.execute_reply": "2021-04-21T13:45:52.153664Z"
    },
    "papermill": {
     "duration": 0.717518,
     "end_time": "2021-04-21T13:45:52.154433",
     "exception": false,
     "start_time": "2021-04-21T13:45:51.436915",
     "status": "completed"
    },
    "tags": []
   },
   "outputs": [],
   "source": [
    "#hide\n",
    "import pandas as pd\n",
    "import numpy as np\n",
    "import requests\n",
    "import json\n",
    "import matplotlib.pyplot as plt\n",
    "import matplotlib.dates as mdates\n",
    "import matplotlib as mpl\n",
    "from IPython.core.display import display,HTML\n",
    "%matplotlib inline\n",
    "from datetime import date"
   ]
  },
  {
   "cell_type": "code",
   "execution_count": 2,
   "id": "greenhouse-shooting",
   "metadata": {
    "execution": {
     "iopub.execute_input": "2021-04-21T13:45:52.205065Z",
     "iopub.status.busy": "2021-04-21T13:45:52.204383Z",
     "iopub.status.idle": "2021-04-21T13:45:52.370406Z",
     "shell.execute_reply": "2021-04-21T13:45:52.369217Z"
    },
    "papermill": {
     "duration": 0.196045,
     "end_time": "2021-04-21T13:45:52.370570",
     "exception": false,
     "start_time": "2021-04-21T13:45:52.174525",
     "status": "completed"
    },
    "tags": []
   },
   "outputs": [],
   "source": [
    "#hide\n",
    "df  = pd.read_csv('https://api.covid19india.org/csv/latest/states.csv')\n",
    "df = df[['Date','State','Confirmed','Deceased']]\n",
    "df = df.rename(columns={'Confirmed':'Cases', \"Deceased\":'Deaths'})\n",
    "df_cases = df[[\"Date\",'State','Cases']]\n",
    "df_deaths = df[['Date','State','Deaths']]\n",
    "df_cases1 = df_cases.groupby('Date')\n",
    "df_deaths1= df_deaths.groupby('Date')"
   ]
  },
  {
   "cell_type": "code",
   "execution_count": 3,
   "id": "hybrid-cathedral",
   "metadata": {
    "execution": {
     "iopub.execute_input": "2021-04-21T13:45:52.416868Z",
     "iopub.status.busy": "2021-04-21T13:45:52.416190Z",
     "iopub.status.idle": "2021-04-21T13:45:52.436946Z",
     "shell.execute_reply": "2021-04-21T13:45:52.436302Z"
    },
    "papermill": {
     "duration": 0.045553,
     "end_time": "2021-04-21T13:45:52.437092",
     "exception": false,
     "start_time": "2021-04-21T13:45:52.391539",
     "status": "completed"
    },
    "tags": []
   },
   "outputs": [],
   "source": [
    "#hide\n",
    "df_snap = pd.read_csv('data/SnapshotCases-28-July.csv')\n",
    "arr_states = df_snap['states'].unique()\n",
    "arr_dates = df['Date'].unique()\n",
    "df_snap = df_snap.set_index('states')"
   ]
  },
  {
   "cell_type": "code",
   "execution_count": 4,
   "id": "interior-belfast",
   "metadata": {
    "execution": {
     "iopub.execute_input": "2021-04-21T13:45:52.488194Z",
     "iopub.status.busy": "2021-04-21T13:45:52.487487Z",
     "iopub.status.idle": "2021-04-21T13:45:52.490981Z",
     "shell.execute_reply": "2021-04-21T13:45:52.491581Z"
    },
    "papermill": {
     "duration": 0.033226,
     "end_time": "2021-04-21T13:45:52.491748",
     "exception": false,
     "start_time": "2021-04-21T13:45:52.458522",
     "status": "completed"
    },
    "tags": []
   },
   "outputs": [
    {
     "data": {
      "text/plain": [
       "array(['Andaman and Nicobar Islands', 'Andhra Pradesh',\n",
       "       'Arunachal Pradesh', 'Assam', 'Bihar', 'Chandigarh',\n",
       "       'Dadra and Nagar Haveli and Daman and Diu', 'Delhi', 'Goa',\n",
       "       'Gujarat', 'Haryana', 'Himachal Pradesh', 'Jammu and Kashmir',\n",
       "       'Jharkhand', 'Karnataka', 'Kerala', 'Lakshadweep',\n",
       "       'Madhya Pradesh', 'Maharashtra', 'Manipur', 'Meghalaya', 'Mizoram',\n",
       "       'Nagaland', 'Odisha', 'Puducherry', 'Punjab', 'Rajasthan',\n",
       "       'Sikkim', 'Tamil Nadu', 'Telangana', 'Tripura', 'Uttar Pradesh',\n",
       "       'West Bengal', 'Chhattisgarh', 'Ladakh', 'Uttarakhand'],\n",
       "      dtype=object)"
      ]
     },
     "execution_count": 4,
     "metadata": {},
     "output_type": "execute_result"
    }
   ],
   "source": [
    "#hide\n",
    "arr_states[-9] = 'Puducherry'\n",
    "arr_states[-10] = 'Odisha'\n",
    "arr_states[6] = 'Dadra and Nagar Haveli and Daman and Diu'\n",
    "arr_states = np.append(arr_states,np.array(['Chhattisgarh','Ladakh','Uttarakhand']))\n",
    "arr_states"
   ]
  },
  {
   "cell_type": "code",
   "execution_count": 5,
   "id": "behind-manner",
   "metadata": {
    "execution": {
     "iopub.execute_input": "2021-04-21T13:45:52.548400Z",
     "iopub.status.busy": "2021-04-21T13:45:52.547671Z",
     "iopub.status.idle": "2021-04-21T13:45:52.558934Z",
     "shell.execute_reply": "2021-04-21T13:45:52.558293Z"
    },
    "papermill": {
     "duration": 0.046869,
     "end_time": "2021-04-21T13:45:52.559083",
     "exception": false,
     "start_time": "2021-04-21T13:45:52.512214",
     "status": "completed"
    },
    "tags": []
   },
   "outputs": [],
   "source": [
    "#hide\n",
    "dates = []\n",
    "for i in arr_dates:\n",
    "    if i>='2020-07-01':\n",
    "        dates.append(i)\n",
    "dict = {'states':dates}\n",
    "for i in arr_states:\n",
    "    dict[i] = [0]*len(dates)\n",
    "dft_cases = pd.DataFrame(dict)\n",
    "dft_deaths = pd.DataFrame(dict)\n"
   ]
  },
  {
   "cell_type": "code",
   "execution_count": 6,
   "id": "simplified-peter",
   "metadata": {
    "execution": {
     "iopub.execute_input": "2021-04-21T13:45:52.606966Z",
     "iopub.status.busy": "2021-04-21T13:45:52.606105Z",
     "iopub.status.idle": "2021-04-21T13:45:58.318709Z",
     "shell.execute_reply": "2021-04-21T13:45:58.318119Z"
    },
    "papermill": {
     "duration": 5.739701,
     "end_time": "2021-04-21T13:45:58.318864",
     "exception": false,
     "start_time": "2021-04-21T13:45:52.579163",
     "status": "completed"
    },
    "tags": []
   },
   "outputs": [],
   "source": [
    "#hide\n",
    "for i in range(len(dates)):\n",
    "    df1_deaths = df_deaths1.get_group(dates[i])\n",
    "    for j in range(len(df1_deaths.index)):\n",
    "        if df1_deaths.iloc[j,1] in arr_states:\n",
    "            dft_deaths.loc[i,df1_deaths.iloc[j,1]] = df1_deaths.iloc[j,2]\n",
    "dft_deaths = dft_deaths.set_index('states')"
   ]
  },
  {
   "cell_type": "code",
   "execution_count": 7,
   "id": "geological-welding",
   "metadata": {
    "execution": {
     "iopub.execute_input": "2021-04-21T13:45:58.367995Z",
     "iopub.status.busy": "2021-04-21T13:45:58.367249Z",
     "iopub.status.idle": "2021-04-21T13:46:04.063260Z",
     "shell.execute_reply": "2021-04-21T13:46:04.062679Z"
    },
    "papermill": {
     "duration": 5.723985,
     "end_time": "2021-04-21T13:46:04.063417",
     "exception": false,
     "start_time": "2021-04-21T13:45:58.339432",
     "status": "completed"
    },
    "tags": []
   },
   "outputs": [],
   "source": [
    "#hide\n",
    "for i in range(len(dates)):\n",
    "    df1_cases = df_cases1.get_group(dates[i])\n",
    "    for j in range(len(df1_cases.index)):\n",
    "        if df1_cases.iloc[j,1] in arr_states:\n",
    "            dft_cases.loc[i,df1_cases.iloc[j,1]] = df1_cases.iloc[j,2]\n",
    "dft_cases = dft_cases.set_index('states')"
   ]
  },
  {
   "cell_type": "code",
   "execution_count": 8,
   "id": "binary-ratio",
   "metadata": {
    "execution": {
     "iopub.execute_input": "2021-04-21T13:46:04.112960Z",
     "iopub.status.busy": "2021-04-21T13:46:04.112307Z",
     "iopub.status.idle": "2021-04-21T13:46:04.116273Z",
     "shell.execute_reply": "2021-04-21T13:46:04.116764Z"
    },
    "papermill": {
     "duration": 0.030492,
     "end_time": "2021-04-21T13:46:04.116927",
     "exception": false,
     "start_time": "2021-04-21T13:46:04.086435",
     "status": "completed"
    },
    "tags": []
   },
   "outputs": [],
   "source": [
    "#hide\n",
    "dft_cases = dft_cases.T\n",
    "dft_deaths = dft_deaths.T\n",
    "dt_today = dates[-1]\n",
    "dt_yday = dates[-2]"
   ]
  },
  {
   "cell_type": "code",
   "execution_count": 9,
   "id": "boolean-calculator",
   "metadata": {
    "execution": {
     "iopub.execute_input": "2021-04-21T13:46:04.162980Z",
     "iopub.status.busy": "2021-04-21T13:46:04.162332Z",
     "iopub.status.idle": "2021-04-21T13:46:04.167702Z",
     "shell.execute_reply": "2021-04-21T13:46:04.167181Z"
    },
    "papermill": {
     "duration": 0.031151,
     "end_time": "2021-04-21T13:46:04.167886",
     "exception": false,
     "start_time": "2021-04-21T13:46:04.136735",
     "status": "completed"
    },
    "tags": []
   },
   "outputs": [],
   "source": [
    "#hide\n",
    "dft_cases = dft_cases.reset_index()\n",
    "dft_deaths = dft_deaths.reset_index()\n",
    "dft_cases = dft_cases.rename(columns = {'index':'state'})\n",
    "dft_deaths = dft_deaths.rename(columns = {'index':'state'})"
   ]
  },
  {
   "cell_type": "code",
   "execution_count": 10,
   "id": "invisible-johnston",
   "metadata": {
    "execution": {
     "iopub.execute_input": "2021-04-21T13:46:04.220395Z",
     "iopub.status.busy": "2021-04-21T13:46:04.219643Z",
     "iopub.status.idle": "2021-04-21T13:46:04.222996Z",
     "shell.execute_reply": "2021-04-21T13:46:04.223563Z"
    },
    "papermill": {
     "duration": 0.036025,
     "end_time": "2021-04-21T13:46:04.223746",
     "exception": false,
     "start_time": "2021-04-21T13:46:04.187721",
     "status": "completed"
    },
    "tags": []
   },
   "outputs": [],
   "source": [
    "#hide\n",
    "dfc_cases = dft_cases.groupby('state')[dt_today].sum()\n",
    "dfc_deaths = dft_deaths.groupby('state')[dt_today].sum()\n",
    "dfp_cases = dft_cases.groupby('state')[dt_yday].sum()\n",
    "dfp_deaths = dft_deaths.groupby('state')[dt_yday].sum()"
   ]
  },
  {
   "cell_type": "code",
   "execution_count": 11,
   "id": "measured-great",
   "metadata": {
    "execution": {
     "iopub.execute_input": "2021-04-21T13:46:04.272360Z",
     "iopub.status.busy": "2021-04-21T13:46:04.271619Z",
     "iopub.status.idle": "2021-04-21T13:46:04.287064Z",
     "shell.execute_reply": "2021-04-21T13:46:04.286485Z"
    },
    "papermill": {
     "duration": 0.044315,
     "end_time": "2021-04-21T13:46:04.287200",
     "exception": false,
     "start_time": "2021-04-21T13:46:04.242885",
     "status": "completed"
    },
    "tags": []
   },
   "outputs": [
    {
     "data": {
      "text/html": [
       "<div>\n",
       "<style scoped>\n",
       "    .dataframe tbody tr th:only-of-type {\n",
       "        vertical-align: middle;\n",
       "    }\n",
       "\n",
       "    .dataframe tbody tr th {\n",
       "        vertical-align: top;\n",
       "    }\n",
       "\n",
       "    .dataframe thead th {\n",
       "        text-align: right;\n",
       "    }\n",
       "</style>\n",
       "<table border=\"1\" class=\"dataframe\">\n",
       "  <thead>\n",
       "    <tr style=\"text-align: right;\">\n",
       "      <th></th>\n",
       "      <th>states</th>\n",
       "      <th>Cases</th>\n",
       "      <th>Deaths</th>\n",
       "      <th>PCases</th>\n",
       "      <th>PDeaths</th>\n",
       "    </tr>\n",
       "  </thead>\n",
       "  <tbody>\n",
       "    <tr>\n",
       "      <th>0</th>\n",
       "      <td>Maharashtra</td>\n",
       "      <td>3960359</td>\n",
       "      <td>61343</td>\n",
       "      <td>3960359</td>\n",
       "      <td>61343</td>\n",
       "    </tr>\n",
       "    <tr>\n",
       "      <th>1</th>\n",
       "      <td>Kerala</td>\n",
       "      <td>1272646</td>\n",
       "      <td>4979</td>\n",
       "      <td>1272646</td>\n",
       "      <td>4979</td>\n",
       "    </tr>\n",
       "    <tr>\n",
       "      <th>2</th>\n",
       "      <td>Karnataka</td>\n",
       "      <td>1222202</td>\n",
       "      <td>13762</td>\n",
       "      <td>1198644</td>\n",
       "      <td>13646</td>\n",
       "    </tr>\n",
       "    <tr>\n",
       "      <th>3</th>\n",
       "      <td>Tamil Nadu</td>\n",
       "      <td>1013378</td>\n",
       "      <td>13205</td>\n",
       "      <td>1013378</td>\n",
       "      <td>13205</td>\n",
       "    </tr>\n",
       "    <tr>\n",
       "      <th>4</th>\n",
       "      <td>Andhra Pradesh</td>\n",
       "      <td>976987</td>\n",
       "      <td>7472</td>\n",
       "      <td>976987</td>\n",
       "      <td>7472</td>\n",
       "    </tr>\n",
       "  </tbody>\n",
       "</table>\n",
       "</div>"
      ],
      "text/plain": [
       "           states    Cases  Deaths   PCases  PDeaths\n",
       "0     Maharashtra  3960359   61343  3960359    61343\n",
       "1          Kerala  1272646    4979  1272646     4979\n",
       "2       Karnataka  1222202   13762  1198644    13646\n",
       "3      Tamil Nadu  1013378   13205  1013378    13205\n",
       "4  Andhra Pradesh   976987    7472   976987     7472"
      ]
     },
     "execution_count": 11,
     "metadata": {},
     "output_type": "execute_result"
    }
   ],
   "source": [
    "#hide\n",
    "df_table = pd.DataFrame({'states': dfc_cases.index, 'Cases': dfc_cases.values, 'Deaths': dfc_deaths.values, 'PCases': dfp_cases.values, 'PDeaths': dfp_deaths.values}).set_index('states')\n",
    "df_table = df_table.sort_values(by = ['Cases','Deaths'], ascending = [False, False])\n",
    "df_table = df_table.reset_index()\n",
    "df_table.head()"
   ]
  },
  {
   "cell_type": "code",
   "execution_count": 12,
   "id": "found-montreal",
   "metadata": {
    "execution": {
     "iopub.execute_input": "2021-04-21T13:46:04.334844Z",
     "iopub.status.busy": "2021-04-21T13:46:04.334177Z",
     "iopub.status.idle": "2021-04-21T13:46:04.344185Z",
     "shell.execute_reply": "2021-04-21T13:46:04.344794Z"
    },
    "papermill": {
     "duration": 0.036479,
     "end_time": "2021-04-21T13:46:04.344971",
     "exception": false,
     "start_time": "2021-04-21T13:46:04.308492",
     "status": "completed"
    },
    "tags": []
   },
   "outputs": [],
   "source": [
    "#hide\n",
    "for c in 'Cases, Deaths'.split(', '):\n",
    "    df_table[f'{c} (+)'] = (df_table[c] - df_table[f'P{c}']).clip(0)\n",
    "df_table['Fatality Rate'] = (100* df_table['Deaths']/ df_table['Cases']).round(2)"
   ]
  },
  {
   "cell_type": "code",
   "execution_count": 13,
   "id": "minus-savage",
   "metadata": {
    "execution": {
     "iopub.execute_input": "2021-04-21T13:46:04.400897Z",
     "iopub.status.busy": "2021-04-21T13:46:04.400194Z",
     "iopub.status.idle": "2021-04-21T13:46:04.403799Z",
     "shell.execute_reply": "2021-04-21T13:46:04.403224Z"
    },
    "papermill": {
     "duration": 0.038301,
     "end_time": "2021-04-21T13:46:04.403972",
     "exception": false,
     "start_time": "2021-04-21T13:46:04.365671",
     "status": "completed"
    },
    "tags": []
   },
   "outputs": [
    {
     "data": {
      "text/html": [
       "<div>\n",
       "<style scoped>\n",
       "    .dataframe tbody tr th:only-of-type {\n",
       "        vertical-align: middle;\n",
       "    }\n",
       "\n",
       "    .dataframe tbody tr th {\n",
       "        vertical-align: top;\n",
       "    }\n",
       "\n",
       "    .dataframe thead th {\n",
       "        text-align: right;\n",
       "    }\n",
       "</style>\n",
       "<table border=\"1\" class=\"dataframe\">\n",
       "  <thead>\n",
       "    <tr style=\"text-align: right;\">\n",
       "      <th></th>\n",
       "      <th>states</th>\n",
       "      <th>Cases</th>\n",
       "      <th>Deaths</th>\n",
       "      <th>PCases</th>\n",
       "      <th>PDeaths</th>\n",
       "      <th>Cases (+)</th>\n",
       "      <th>Deaths (+)</th>\n",
       "      <th>Fatality Rate</th>\n",
       "    </tr>\n",
       "  </thead>\n",
       "  <tbody>\n",
       "    <tr>\n",
       "      <th>0</th>\n",
       "      <td>Maharashtra</td>\n",
       "      <td>3960359</td>\n",
       "      <td>61343</td>\n",
       "      <td>3960359</td>\n",
       "      <td>61343</td>\n",
       "      <td>0</td>\n",
       "      <td>0</td>\n",
       "      <td>1.55</td>\n",
       "    </tr>\n",
       "    <tr>\n",
       "      <th>1</th>\n",
       "      <td>Kerala</td>\n",
       "      <td>1272646</td>\n",
       "      <td>4979</td>\n",
       "      <td>1272646</td>\n",
       "      <td>4979</td>\n",
       "      <td>0</td>\n",
       "      <td>0</td>\n",
       "      <td>0.39</td>\n",
       "    </tr>\n",
       "    <tr>\n",
       "      <th>2</th>\n",
       "      <td>Karnataka</td>\n",
       "      <td>1222202</td>\n",
       "      <td>13762</td>\n",
       "      <td>1198644</td>\n",
       "      <td>13646</td>\n",
       "      <td>23558</td>\n",
       "      <td>116</td>\n",
       "      <td>1.13</td>\n",
       "    </tr>\n",
       "    <tr>\n",
       "      <th>3</th>\n",
       "      <td>Tamil Nadu</td>\n",
       "      <td>1013378</td>\n",
       "      <td>13205</td>\n",
       "      <td>1013378</td>\n",
       "      <td>13205</td>\n",
       "      <td>0</td>\n",
       "      <td>0</td>\n",
       "      <td>1.30</td>\n",
       "    </tr>\n",
       "    <tr>\n",
       "      <th>4</th>\n",
       "      <td>Andhra Pradesh</td>\n",
       "      <td>976987</td>\n",
       "      <td>7472</td>\n",
       "      <td>976987</td>\n",
       "      <td>7472</td>\n",
       "      <td>0</td>\n",
       "      <td>0</td>\n",
       "      <td>0.76</td>\n",
       "    </tr>\n",
       "  </tbody>\n",
       "</table>\n",
       "</div>"
      ],
      "text/plain": [
       "           states    Cases  Deaths   PCases  PDeaths  Cases (+)  Deaths (+)  \\\n",
       "0     Maharashtra  3960359   61343  3960359    61343          0           0   \n",
       "1          Kerala  1272646    4979  1272646     4979          0           0   \n",
       "2       Karnataka  1222202   13762  1198644    13646      23558         116   \n",
       "3      Tamil Nadu  1013378   13205  1013378    13205          0           0   \n",
       "4  Andhra Pradesh   976987    7472   976987     7472          0           0   \n",
       "\n",
       "   Fatality Rate  \n",
       "0           1.55  \n",
       "1           0.39  \n",
       "2           1.13  \n",
       "3           1.30  \n",
       "4           0.76  "
      ]
     },
     "execution_count": 13,
     "metadata": {},
     "output_type": "execute_result"
    }
   ],
   "source": [
    "#hide\n",
    "df_table.head()"
   ]
  },
  {
   "cell_type": "code",
   "execution_count": 14,
   "id": "false-peter",
   "metadata": {
    "execution": {
     "iopub.execute_input": "2021-04-21T13:46:04.456277Z",
     "iopub.status.busy": "2021-04-21T13:46:04.455544Z",
     "iopub.status.idle": "2021-04-21T13:46:04.474743Z",
     "shell.execute_reply": "2021-04-21T13:46:04.475434Z"
    },
    "papermill": {
     "duration": 0.048889,
     "end_time": "2021-04-21T13:46:04.475621",
     "exception": false,
     "start_time": "2021-04-21T13:46:04.426732",
     "status": "completed"
    },
    "tags": []
   },
   "outputs": [
    {
     "data": {
      "text/plain": [
       "{'updated': '2021-04-21',\n",
       " 'since': '2021-04-20',\n",
       " 'Cases': 15646705,\n",
       " 'PCases': 15609254,\n",
       " 'Deaths': 182737,\n",
       " 'PDeaths': 182571,\n",
       " 'Cases (+)': 37451,\n",
       " 'Deaths (+)': 166}"
      ]
     },
     "execution_count": 14,
     "metadata": {},
     "output_type": "execute_result"
    }
   ],
   "source": [
    "#hide\n",
    "summary = {'updated':dates[-1], 'since':dates[-2]}\n",
    "list_names = ['Cases', 'PCases', 'Deaths', 'PDeaths', 'Cases (+)', 'Deaths (+)']\n",
    "for name in list_names:\n",
    "    summary[name] = df_table.sum()[name]\n",
    "summary"
   ]
  },
  {
   "cell_type": "code",
   "execution_count": 15,
   "id": "packed-viewer",
   "metadata": {
    "execution": {
     "iopub.execute_input": "2021-04-21T13:46:04.525400Z",
     "iopub.status.busy": "2021-04-21T13:46:04.524710Z",
     "iopub.status.idle": "2021-04-21T13:46:04.526911Z",
     "shell.execute_reply": "2021-04-21T13:46:04.527403Z"
    },
    "papermill": {
     "duration": 0.030323,
     "end_time": "2021-04-21T13:46:04.527557",
     "exception": false,
     "start_time": "2021-04-21T13:46:04.497234",
     "status": "completed"
    },
    "tags": []
   },
   "outputs": [],
   "source": [
    "#hide\n",
    "overview = '''\n",
    "<!-- #######  HTML!! #########-->\n",
    "<h1 style=\"color: #5e9ca0; text-align: center;\">India</h1>\n",
    "<p style=\"text-align: center;\">Last update: <strong>{update}</strong></p>\n",
    "<p style=\"text-align: center;\">Confirmed cases:</p>\n",
    "<p style=\"text-align: center;font-size:24px;\">{cases} (<span style=\"color: #ff0000;\">+{new}</span>)</p>\n",
    "<p style=\"text-align: center;\">Confirmed deaths:</p>\n",
    "<p style=\"text-align: center;font-size:24px;\">{deaths} (<span style=\"color: #ff0000;\">+{dnew}</span>)</p>\n",
    "'''"
   ]
  },
  {
   "cell_type": "code",
   "execution_count": 16,
   "id": "phantom-lover",
   "metadata": {
    "execution": {
     "iopub.execute_input": "2021-04-21T13:46:04.581943Z",
     "iopub.status.busy": "2021-04-21T13:46:04.581258Z",
     "iopub.status.idle": "2021-04-21T13:46:04.587539Z",
     "shell.execute_reply": "2021-04-21T13:46:04.586795Z"
    },
    "papermill": {
     "duration": 0.035149,
     "end_time": "2021-04-21T13:46:04.587681",
     "exception": false,
     "start_time": "2021-04-21T13:46:04.552532",
     "status": "completed"
    },
    "tags": []
   },
   "outputs": [
    {
     "data": {
      "text/html": [
       "\n",
       "<!-- #######  HTML!! #########-->\n",
       "<h1 style=\"color: #5e9ca0; text-align: center;\">India</h1>\n",
       "<p style=\"text-align: center;\">Last update: <strong>2021-04-21</strong></p>\n",
       "<p style=\"text-align: center;\">Confirmed cases:</p>\n",
       "<p style=\"text-align: center;font-size:24px;\">15646705 (<span style=\"color: #ff0000;\">+37451</span>)</p>\n",
       "<p style=\"text-align: center;\">Confirmed deaths:</p>\n",
       "<p style=\"text-align: center;font-size:24px;\">182737 (<span style=\"color: #ff0000;\">+166</span>)</p>\n"
      ],
      "text/plain": [
       "<IPython.core.display.HTML object>"
      ]
     },
     "metadata": {},
     "output_type": "display_data"
    }
   ],
   "source": [
    "#hide_input\n",
    "update = summary['updated']\n",
    "cases = summary['Cases']\n",
    "new = summary['Cases (+)']\n",
    "deaths = summary['Deaths']\n",
    "dnew = summary['Deaths (+)']\n",
    "\n",
    "html = HTML(overview.format(update=update, cases=cases,new=new,deaths=deaths,dnew=dnew))\n",
    "\n",
    "display(html)"
   ]
  },
  {
   "cell_type": "code",
   "execution_count": 17,
   "id": "sealed-reset",
   "metadata": {
    "execution": {
     "iopub.execute_input": "2021-04-21T13:46:04.640117Z",
     "iopub.status.busy": "2021-04-21T13:46:04.639391Z",
     "iopub.status.idle": "2021-04-21T13:46:04.648181Z",
     "shell.execute_reply": "2021-04-21T13:46:04.647636Z"
    },
    "papermill": {
     "duration": 0.038188,
     "end_time": "2021-04-21T13:46:04.648319",
     "exception": false,
     "start_time": "2021-04-21T13:46:04.610131",
     "status": "completed"
    },
    "tags": []
   },
   "outputs": [],
   "source": [
    "#hide\n",
    "dt_cols = list(dft_cases.columns[1:])\n",
    "dft_ct_new_cases = dft_cases.groupby('state')[dt_cols].sum().diff(axis=1).fillna(0).astype(int)\n",
    "dft_ct_new_cases.sort_values(by = dates[-1], ascending = False,inplace = True)"
   ]
  },
  {
   "cell_type": "code",
   "execution_count": 18,
   "id": "designed-constant",
   "metadata": {
    "execution": {
     "iopub.execute_input": "2021-04-21T13:46:04.714671Z",
     "iopub.status.busy": "2021-04-21T13:46:04.713984Z",
     "iopub.status.idle": "2021-04-21T13:46:04.717897Z",
     "shell.execute_reply": "2021-04-21T13:46:04.717364Z"
    },
    "papermill": {
     "duration": 0.04774,
     "end_time": "2021-04-21T13:46:04.718036",
     "exception": false,
     "start_time": "2021-04-21T13:46:04.670296",
     "status": "completed"
    },
    "tags": []
   },
   "outputs": [
    {
     "data": {
      "text/html": [
       "<div>\n",
       "<style scoped>\n",
       "    .dataframe tbody tr th:only-of-type {\n",
       "        vertical-align: middle;\n",
       "    }\n",
       "\n",
       "    .dataframe tbody tr th {\n",
       "        vertical-align: top;\n",
       "    }\n",
       "\n",
       "    .dataframe thead th {\n",
       "        text-align: right;\n",
       "    }\n",
       "</style>\n",
       "<table border=\"1\" class=\"dataframe\">\n",
       "  <thead>\n",
       "    <tr style=\"text-align: right;\">\n",
       "      <th>states</th>\n",
       "      <th>2020-07-01</th>\n",
       "      <th>2020-07-02</th>\n",
       "      <th>2020-07-03</th>\n",
       "      <th>2020-07-04</th>\n",
       "      <th>2020-07-05</th>\n",
       "      <th>2020-07-06</th>\n",
       "      <th>2020-07-07</th>\n",
       "      <th>2020-07-08</th>\n",
       "      <th>2020-07-09</th>\n",
       "      <th>2020-07-10</th>\n",
       "      <th>...</th>\n",
       "      <th>2021-04-12</th>\n",
       "      <th>2021-04-13</th>\n",
       "      <th>2021-04-14</th>\n",
       "      <th>2021-04-15</th>\n",
       "      <th>2021-04-16</th>\n",
       "      <th>2021-04-17</th>\n",
       "      <th>2021-04-18</th>\n",
       "      <th>2021-04-19</th>\n",
       "      <th>2021-04-20</th>\n",
       "      <th>2021-04-21</th>\n",
       "    </tr>\n",
       "    <tr>\n",
       "      <th>state</th>\n",
       "      <th></th>\n",
       "      <th></th>\n",
       "      <th></th>\n",
       "      <th></th>\n",
       "      <th></th>\n",
       "      <th></th>\n",
       "      <th></th>\n",
       "      <th></th>\n",
       "      <th></th>\n",
       "      <th></th>\n",
       "      <th></th>\n",
       "      <th></th>\n",
       "      <th></th>\n",
       "      <th></th>\n",
       "      <th></th>\n",
       "      <th></th>\n",
       "      <th></th>\n",
       "      <th></th>\n",
       "      <th></th>\n",
       "      <th></th>\n",
       "      <th></th>\n",
       "    </tr>\n",
       "  </thead>\n",
       "  <tbody>\n",
       "    <tr>\n",
       "      <th>Karnataka</th>\n",
       "      <td>0</td>\n",
       "      <td>1502</td>\n",
       "      <td>1694</td>\n",
       "      <td>1839</td>\n",
       "      <td>1925</td>\n",
       "      <td>1843</td>\n",
       "      <td>1498</td>\n",
       "      <td>2062</td>\n",
       "      <td>2228</td>\n",
       "      <td>2313</td>\n",
       "      <td>...</td>\n",
       "      <td>9579</td>\n",
       "      <td>8778</td>\n",
       "      <td>11265</td>\n",
       "      <td>14738</td>\n",
       "      <td>14859</td>\n",
       "      <td>17489</td>\n",
       "      <td>19067</td>\n",
       "      <td>15785</td>\n",
       "      <td>21794</td>\n",
       "      <td>23558</td>\n",
       "    </tr>\n",
       "    <tr>\n",
       "      <th>Telangana</th>\n",
       "      <td>0</td>\n",
       "      <td>1213</td>\n",
       "      <td>1892</td>\n",
       "      <td>1850</td>\n",
       "      <td>1590</td>\n",
       "      <td>1831</td>\n",
       "      <td>1879</td>\n",
       "      <td>1924</td>\n",
       "      <td>1410</td>\n",
       "      <td>1278</td>\n",
       "      <td>...</td>\n",
       "      <td>2251</td>\n",
       "      <td>3052</td>\n",
       "      <td>2157</td>\n",
       "      <td>3307</td>\n",
       "      <td>3840</td>\n",
       "      <td>4446</td>\n",
       "      <td>5093</td>\n",
       "      <td>4009</td>\n",
       "      <td>5926</td>\n",
       "      <td>6542</td>\n",
       "    </tr>\n",
       "    <tr>\n",
       "      <th>Odisha</th>\n",
       "      <td>0</td>\n",
       "      <td>229</td>\n",
       "      <td>561</td>\n",
       "      <td>495</td>\n",
       "      <td>469</td>\n",
       "      <td>456</td>\n",
       "      <td>571</td>\n",
       "      <td>527</td>\n",
       "      <td>577</td>\n",
       "      <td>755</td>\n",
       "      <td>...</td>\n",
       "      <td>1741</td>\n",
       "      <td>1784</td>\n",
       "      <td>2267</td>\n",
       "      <td>2989</td>\n",
       "      <td>3108</td>\n",
       "      <td>3144</td>\n",
       "      <td>3664</td>\n",
       "      <td>4445</td>\n",
       "      <td>4761</td>\n",
       "      <td>4851</td>\n",
       "    </tr>\n",
       "    <tr>\n",
       "      <th>Goa</th>\n",
       "      <td>0</td>\n",
       "      <td>95</td>\n",
       "      <td>94</td>\n",
       "      <td>108</td>\n",
       "      <td>77</td>\n",
       "      <td>52</td>\n",
       "      <td>90</td>\n",
       "      <td>136</td>\n",
       "      <td>112</td>\n",
       "      <td>100</td>\n",
       "      <td>...</td>\n",
       "      <td>476</td>\n",
       "      <td>562</td>\n",
       "      <td>473</td>\n",
       "      <td>757</td>\n",
       "      <td>927</td>\n",
       "      <td>762</td>\n",
       "      <td>951</td>\n",
       "      <td>940</td>\n",
       "      <td>1160</td>\n",
       "      <td>1502</td>\n",
       "    </tr>\n",
       "    <tr>\n",
       "      <th>Puducherry</th>\n",
       "      <td>0</td>\n",
       "      <td>63</td>\n",
       "      <td>22</td>\n",
       "      <td>80</td>\n",
       "      <td>42</td>\n",
       "      <td>65</td>\n",
       "      <td>30</td>\n",
       "      <td>110</td>\n",
       "      <td>49</td>\n",
       "      <td>72</td>\n",
       "      <td>...</td>\n",
       "      <td>512</td>\n",
       "      <td>418</td>\n",
       "      <td>476</td>\n",
       "      <td>413</td>\n",
       "      <td>531</td>\n",
       "      <td>715</td>\n",
       "      <td>663</td>\n",
       "      <td>565</td>\n",
       "      <td>638</td>\n",
       "      <td>619</td>\n",
       "    </tr>\n",
       "  </tbody>\n",
       "</table>\n",
       "<p>5 rows × 295 columns</p>\n",
       "</div>"
      ],
      "text/plain": [
       "states      2020-07-01  2020-07-02  2020-07-03  2020-07-04  2020-07-05  \\\n",
       "state                                                                    \n",
       "Karnataka            0        1502        1694        1839        1925   \n",
       "Telangana            0        1213        1892        1850        1590   \n",
       "Odisha               0         229         561         495         469   \n",
       "Goa                  0          95          94         108          77   \n",
       "Puducherry           0          63          22          80          42   \n",
       "\n",
       "states      2020-07-06  2020-07-07  2020-07-08  2020-07-09  2020-07-10  ...  \\\n",
       "state                                                                   ...   \n",
       "Karnataka         1843        1498        2062        2228        2313  ...   \n",
       "Telangana         1831        1879        1924        1410        1278  ...   \n",
       "Odisha             456         571         527         577         755  ...   \n",
       "Goa                 52          90         136         112         100  ...   \n",
       "Puducherry          65          30         110          49          72  ...   \n",
       "\n",
       "states      2021-04-12  2021-04-13  2021-04-14  2021-04-15  2021-04-16  \\\n",
       "state                                                                    \n",
       "Karnataka         9579        8778       11265       14738       14859   \n",
       "Telangana         2251        3052        2157        3307        3840   \n",
       "Odisha            1741        1784        2267        2989        3108   \n",
       "Goa                476         562         473         757         927   \n",
       "Puducherry         512         418         476         413         531   \n",
       "\n",
       "states      2021-04-17  2021-04-18  2021-04-19  2021-04-20  2021-04-21  \n",
       "state                                                                   \n",
       "Karnataka        17489       19067       15785       21794       23558  \n",
       "Telangana         4446        5093        4009        5926        6542  \n",
       "Odisha            3144        3664        4445        4761        4851  \n",
       "Goa                762         951         940        1160        1502  \n",
       "Puducherry         715         663         565         638         619  \n",
       "\n",
       "[5 rows x 295 columns]"
      ]
     },
     "execution_count": 18,
     "metadata": {},
     "output_type": "execute_result"
    }
   ],
   "source": [
    "#hide\n",
    "dft_ct_new_cases.head()"
   ]
  },
  {
   "cell_type": "code",
   "execution_count": 19,
   "id": "responsible-nightlife",
   "metadata": {
    "execution": {
     "iopub.execute_input": "2021-04-21T13:46:04.787628Z",
     "iopub.status.busy": "2021-04-21T13:46:04.777010Z",
     "iopub.status.idle": "2021-04-21T13:46:19.182422Z",
     "shell.execute_reply": "2021-04-21T13:46:19.183007Z"
    },
    "papermill": {
     "duration": 14.441752,
     "end_time": "2021-04-21T13:46:19.183163",
     "exception": false,
     "start_time": "2021-04-21T13:46:04.741411",
     "status": "completed"
    },
    "tags": []
   },
   "outputs": [
    {
     "data": {
      "image/png": "[encoded data removed]",
      "text/plain": [
       "<Figure size 1296x2016 with 11 Axes>"
      ]
     },
     "metadata": {
      "needs_background": "light"
     },
     "output_type": "display_data"
    }
   ],
   "source": [
    "#hide_input\n",
    "df = dft_ct_new_cases.copy()\n",
    "df.loc['Total'] = df.sum()\n",
    "n = 5\n",
    "ax = []\n",
    "fig = plt.figure(figsize = (18,28))\n",
    "gs = fig.add_gridspec(n+2, 5)\n",
    "# gs = fig.add_gridspec(2, 3)\n",
    "ax1 = fig.add_subplot(gs[0, :])\n",
    "ef = df.loc['Total'].rename_axis('date').reset_index()\n",
    "ef['date'] = ef['date'].astype('datetime64[ns]')\n",
    "ax1.bar(ef.date,ef.Total,alpha=0.3,color='#007acc')\n",
    "ax1.plot(ef.date,ef.Total , marker=\"o\", color='#007acc')\n",
    "ax1.xaxis.set_major_locator(mdates.WeekdayLocator())\n",
    "ax1.xaxis.set_major_formatter(mdates.DateFormatter('%b %d'))\n",
    "ax1.text(0.02, 0.5,'India daily case count', transform = ax1.transAxes, fontsize=25);\n",
    "ax1.spines['right'].set_visible(False)\n",
    "ax1.spines['top'].set_visible(False)\n",
    "\n",
    "ax2 = fig.add_subplot(gs[1,0])\n",
    "ef = df.loc['Maharashtra'].rename_axis('date').reset_index()\n",
    "ef['date'] = ef['date'].astype('datetime64[ns]')\n",
    "\n",
    "ax2.bar(ef.date, ef.Maharashtra,color = '#007acc',alpha=0.5)\n",
    "ax2.xaxis.set_major_locator(mdates.WeekdayLocator())\n",
    "ax2.xaxis.set_major_formatter(mdates.DateFormatter('%b %d'))\n",
    "ax2.set_xticks(ax2.get_xticks()[::3])\n",
    "maxyval = ef.Maharashtra.max()\n",
    "ax2.set_ylim([0,maxyval])\n",
    "ax2.text(0.05, 0.9,'Maharashtra', transform = ax2.transAxes, fontsize=20);\n",
    "ax2.spines['right'].set_visible(False)\n",
    "ax2.spines['top'].set_visible(False)\n",
    "\n",
    "\n",
    "ax3 = fig.add_subplot(gs[1,1])\n",
    "ef = df.loc['Tamil Nadu'].rename_axis('date').reset_index()\n",
    "ef['date'] = ef['date'].astype('datetime64[ns]')\n",
    "ax3.bar(ef.date, ef['Tamil Nadu'],color = '#007acc',alpha=0.5,)\n",
    "ax3.xaxis.set_major_locator(mdates.WeekdayLocator())\n",
    "ax3.xaxis.set_major_formatter(mdates.DateFormatter('%b %d'))\n",
    "ax3.set_xticks(ax3.get_xticks()[::3])\n",
    "ax3.text(0.05, 0.9,'Tamil Nadu', transform = ax3.transAxes, fontsize=20);\n",
    "ax3.spines['right'].set_visible(False)\n",
    "ax3.spines['top'].set_visible(False)\n",
    "\n",
    "ax5 = fig.add_subplot(gs[1,3])\n",
    "ef = df.loc['Telangana'].rename_axis('date').reset_index()\n",
    "ef['date'] = ef['date'].astype('datetime64[ns]')\n",
    "ax5.bar(ef.date, ef['Telangana'],color = '#007acc',alpha=0.5,)\n",
    "ax5.xaxis.set_major_locator(mdates.WeekdayLocator())\n",
    "ax5.xaxis.set_major_formatter(mdates.DateFormatter('%b %d'))\n",
    "ax5.set_xticks(ax5.get_xticks()[::3])\n",
    "ax5.text(0.05, 0.9,'Telangana', transform = ax5.transAxes, fontsize=20);\n",
    "ax5.spines['right'].set_visible(False)\n",
    "ax5.spines['top'].set_visible(False)\n",
    "\n",
    "ax6 = fig.add_subplot(gs[1,4])\n",
    "ef = df.loc['Andhra Pradesh'].rename_axis('date').reset_index()\n",
    "ef['date'] = ef['date'].astype('datetime64[ns]')\n",
    "ax6.bar(ef.date, ef['Andhra Pradesh'],color = '#007acc',alpha=0.5,)\n",
    "ax6.xaxis.set_major_locator(mdates.WeekdayLocator())\n",
    "ax6.xaxis.set_major_formatter(mdates.DateFormatter('%b %d'))\n",
    "ax6.set_xticks(ax6.get_xticks()[::3])\n",
    "ax6.text(0.05, 1,'Andhra Pradesh', transform = ax6.transAxes, fontsize=20);\n",
    "ax6.spines['right'].set_visible(False)\n",
    "ax6.spines['top'].set_visible(False)\n",
    "\n",
    "ax4 = fig.add_subplot(gs[1,2])\n",
    "ef = df.loc['Delhi'].rename_axis('date').reset_index()\n",
    "ef['date'] = ef['date'].astype('datetime64[ns]')\n",
    "ax4.bar(ef.date, ef.Delhi,color = '#007acc',alpha=0.5)\n",
    "ax4.set_xticks([])\n",
    "ax4.xaxis.set_major_locator(mdates.WeekdayLocator())\n",
    "ax4.xaxis.set_major_formatter(mdates.DateFormatter('%b %d'))\n",
    "ax4.set_xticks(ax4.get_xticks()[::3])\n",
    "ax4.spines['right'].set_visible(False)\n",
    "ax4.spines['top'].set_visible(False)\n",
    "\n",
    "ax4.text(0.05, 1,'Delhi', transform = ax4.transAxes, fontsize=20)\n",
    "\n",
    "for i in range(n):\n",
    "    \n",
    "    ax.append(fig.add_subplot(gs[i+2,:]))\n",
    "    ef = df.iloc[i+3].rename_axis('date').reset_index()\n",
    "    ef['date'] = ef['date'].astype('datetime64[ns]')\n",
    "    ax[i].bar(ef.date,ef.iloc[:,-1],color = '#007acc',alpha=0.3)\n",
    "    ax[i].plot(ef.date,ef.iloc[:,-1],marker='o',color='#007acc')\n",
    "    ax[i].text(0.02,0.5,f'{ef.columns.values[-1]}',transform = ax[i].transAxes, fontsize = 20);\n",
    "    ax[i].xaxis.set_major_locator(mdates.WeekdayLocator())\n",
    "    ax[i].xaxis.set_major_formatter(mdates.DateFormatter('%b %d'))\n",
    "    ax[i].set_ylim([0,7000])\n",
    "    ax[i].spines['right'].set_visible(False)\n",
    "    ax[i].spines['top'].set_visible(False)\n",
    "plt.tight_layout()\n"
   ]
  },
  {
   "cell_type": "code",
   "execution_count": 20,
   "id": "dress-forge",
   "metadata": {
    "execution": {
     "iopub.execute_input": "2021-04-21T13:46:19.251798Z",
     "iopub.status.busy": "2021-04-21T13:46:19.251079Z",
     "iopub.status.idle": "2021-04-21T13:46:19.255297Z",
     "shell.execute_reply": "2021-04-21T13:46:19.254541Z"
    },
    "papermill": {
     "duration": 0.044803,
     "end_time": "2021-04-21T13:46:19.255449",
     "exception": false,
     "start_time": "2021-04-21T13:46:19.210646",
     "status": "completed"
    },
    "tags": []
   },
   "outputs": [
    {
     "name": "stdout",
     "output_type": "stream",
     "text": [
      "                                   states    Cases  Deaths   PCases  PDeaths  Cases (+)  Deaths (+)  Fatality Rate\n",
      "                              Maharashtra  3960359   61343  3960359    61343          0           0           1.55\n",
      "                                   Kerala  1272646    4979  1272646     4979          0           0           0.39\n",
      "                                Karnataka  1222202   13762  1198644    13646      23558         116           1.13\n",
      "                               Tamil Nadu  1013378   13205  1013378    13205          0           0           1.30\n",
      "                           Andhra Pradesh   976987    7472   976987     7472          0           0           0.76\n",
      "                            Uttar Pradesh   909405   10159   909405    10159          0           0           1.12\n",
      "                                    Delhi   905541   12638   905541    12638          0           0           1.40\n",
      "                              West Bengal   678172   10652   678172    10652          0           0           1.57\n",
      "                             Chhattisgarh   574299    6274   574299     6274          0           0           1.09\n",
      "                                Rajasthan   438785    3268   438785     3268          0           0           0.74\n",
      "                           Madhya Pradesh   433704    4713   433704     4713          0           0           1.09\n",
      "                                  Gujarat   428178    5615   428178     5615          0           0           1.31\n",
      "                                   Odisha   382315    2011   377464     2006       4851           5           0.53\n",
      "                                  Haryana   371624    3483   371624     3483          0           0           0.94\n",
      "                                Telangana   367901    1876   361359     1856       6542          20           0.51\n",
      "                                    Bihar   342059    1841   342059     1841          0           0           0.54\n",
      "                                   Punjab   309316    8045   309316     8045          0           0           2.60\n",
      "                                    Assam   227473    1145   227473     1145          0           0           0.50\n",
      "                                Jharkhand   172315    1547   172315     1547          0           0           0.90\n",
      "                        Jammu and Kashmir   150238    2071   150238     2071          0           0           1.38\n",
      "                              Uttarakhand   129205    1919   129205     1919          0           0           1.49\n",
      "                         Himachal Pradesh    79410    1206    79410     1206          0           0           1.52\n",
      "                                      Goa    70814     943    69312      926       1502          17           1.33\n",
      "                               Puducherry    49593     722    48974      717        619           5           1.46\n",
      "                               Chandigarh    35148     421    35148      421          0           0           1.20\n",
      "                                  Tripura    34091     391    34091      391          0           0           1.15\n",
      "                                  Manipur    29869     378    29869      378          0           0           1.27\n",
      "                        Arunachal Pradesh    17113      56    17113       56          0           0           0.33\n",
      "                                Meghalaya    15308     157    15116      154        192           3           1.03\n",
      "                                 Nagaland    12747      94    12650       94         97           0           0.74\n",
      "                                   Ladakh    12556     134    12556      134          0           0           1.07\n",
      "                                   Sikkim     6796     136     6796      136          0           0           2.00\n",
      "              Andaman and Nicobar Islands     5466      64     5466       64          0           0           1.17\n",
      " Dadra and Nagar Haveli and Daman and Diu     5272       4     5272        4          0           0           0.08\n",
      "                                  Mizoram     5085      12     4995       12         90           0           0.24\n",
      "                              Lakshadweep     1335       1     1335        1          0           0           0.07\n"
     ]
    }
   ],
   "source": [
    "#hide_input\n",
    "print(df_table.to_string(index=False))"
   ]
  },
  {
   "cell_type": "code",
   "execution_count": null,
   "id": "quantitative-legend",
   "metadata": {
    "papermill": {
     "duration": 0.028224,
     "end_time": "2021-04-21T13:46:19.310604",
     "exception": false,
     "start_time": "2021-04-21T13:46:19.282380",
     "status": "completed"
    },
    "tags": []
   },
   "outputs": [],
   "source": []
  },
  {
   "cell_type": "code",
   "execution_count": null,
   "id": "distant-acoustic",
   "metadata": {
    "papermill": {
     "duration": 0.025823,
     "end_time": "2021-04-21T13:46:19.362876",
     "exception": false,
     "start_time": "2021-04-21T13:46:19.337053",
     "status": "completed"
    },
    "tags": []
   },
   "outputs": [],
   "source": []
  }
 ],
 "metadata": {
  "kernelspec": {
   "display_name": "Python 3",
   "language": "python",
   "name": "python3"
  },
  "language_info": {
   "codemirror_mode": {
    "name": "ipython",
    "version": 3
   },
   "file_extension": ".py",
   "mimetype": "text/x-python",
   "name": "python",
   "nbconvert_exporter": "python",
   "pygments_lexer": "ipython3",
   "version": "3.6.13"
  },
  "papermill": {
   "duration": 29.863073,
   "end_time": "2021-04-21T13:46:20.099217",
   "environment_variables": {},
   "exception": null,
   "input_path": "latest.ipynb",
   "output_path": "latest.ipynb",
   "parameters": {},
   "start_time": "2021-04-21T13:45:50.236144",
   "version": "2.1.2"
  }
 },
 "nbformat": 4,
 "nbformat_minor": 5
}