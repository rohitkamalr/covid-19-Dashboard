{
 "cells": [
  {
   "cell_type": "markdown",
   "metadata": {
    "papermill": {
     "duration": 0.019224,
     "end_time": "2020-12-09T13:40:54.687726",
     "exception": false,
     "start_time": "2020-12-09T13:40:54.668502",
     "status": "completed"
    },
    "tags": []
   },
   "source": [
    "# Latest COVID-19 India Matplotlib Overview"
   ]
  },
  {
   "cell_type": "code",
   "execution_count": 1,
   "metadata": {
    "execution": {
     "iopub.execute_input": "2020-12-09T13:40:54.726395Z",
     "iopub.status.busy": "2020-12-09T13:40:54.725714Z",
     "iopub.status.idle": "2020-12-09T13:40:55.286164Z",
     "shell.execute_reply": "2020-12-09T13:40:55.286847Z"
    },
    "papermill": {
     "duration": 0.584096,
     "end_time": "2020-12-09T13:40:55.287016",
     "exception": false,
     "start_time": "2020-12-09T13:40:54.702920",
     "status": "completed"
    },
    "tags": []
   },
   "outputs": [],
   "source": [
    "#hide\n",
    "import pandas as pd\n",
    "import numpy as np\n",
    "import requests\n",
    "import json\n",
    "import matplotlib.pyplot as plt\n",
    "import matplotlib.dates as mdates\n",
    "import matplotlib as mpl\n",
    "from IPython.core.display import display,HTML\n",
    "%matplotlib inline\n",
    "from datetime import date"
   ]
  },
  {
   "cell_type": "code",
   "execution_count": 2,
   "metadata": {
    "execution": {
     "iopub.execute_input": "2020-12-09T13:40:55.325401Z",
     "iopub.status.busy": "2020-12-09T13:40:55.324729Z",
     "iopub.status.idle": "2020-12-09T13:40:55.536792Z",
     "shell.execute_reply": "2020-12-09T13:40:55.536304Z"
    },
    "papermill": {
     "duration": 0.234879,
     "end_time": "2020-12-09T13:40:55.536937",
     "exception": false,
     "start_time": "2020-12-09T13:40:55.302058",
     "status": "completed"
    },
    "tags": []
   },
   "outputs": [],
   "source": [
    "#hide\n",
    "df  = pd.read_csv('https://api.covid19india.org/csv/latest/states.csv')\n",
    "df = df[['Date','State','Confirmed','Deceased']]\n",
    "df = df.rename(columns={'Confirmed':'Cases', \"Deceased\":'Deaths'})\n",
    "df_cases = df[[\"Date\",'State','Cases']]\n",
    "df_deaths = df[['Date','State','Deaths']]\n",
    "df_cases1 = df_cases.groupby('Date')\n",
    "df_deaths1= df_deaths.groupby('Date')"
   ]
  },
  {
   "cell_type": "code",
   "execution_count": 3,
   "metadata": {
    "execution": {
     "iopub.execute_input": "2020-12-09T13:40:55.569935Z",
     "iopub.status.busy": "2020-12-09T13:40:55.569291Z",
     "iopub.status.idle": "2020-12-09T13:40:55.586805Z",
     "shell.execute_reply": "2020-12-09T13:40:55.586369Z"
    },
    "papermill": {
     "duration": 0.035897,
     "end_time": "2020-12-09T13:40:55.586909",
     "exception": false,
     "start_time": "2020-12-09T13:40:55.551012",
     "status": "completed"
    },
    "tags": []
   },
   "outputs": [],
   "source": [
    "#hide\n",
    "df_snap = pd.read_csv('data/SnapshotCases-28-July.csv')\n",
    "arr_states = df_snap['states'].unique()\n",
    "arr_dates = df['Date'].unique()\n",
    "df_snap = df_snap.set_index('states')"
   ]
  },
  {
   "cell_type": "code",
   "execution_count": 4,
   "metadata": {
    "execution": {
     "iopub.execute_input": "2020-12-09T13:40:55.624579Z",
     "iopub.status.busy": "2020-12-09T13:40:55.623923Z",
     "iopub.status.idle": "2020-12-09T13:40:55.627458Z",
     "shell.execute_reply": "2020-12-09T13:40:55.626854Z"
    },
    "papermill": {
     "duration": 0.026471,
     "end_time": "2020-12-09T13:40:55.627578",
     "exception": false,
     "start_time": "2020-12-09T13:40:55.601107",
     "status": "completed"
    },
    "tags": []
   },
   "outputs": [
    {
     "data": {
      "text/plain": [
       "array(['Andaman and Nicobar Islands', 'Andhra Pradesh',\n",
       "       'Arunachal Pradesh', 'Assam', 'Bihar', 'Chandigarh',\n",
       "       'Dadra and Nagar Haveli and Daman and Diu', 'Delhi', 'Goa',\n",
       "       'Gujarat', 'Haryana', 'Himachal Pradesh', 'Jammu and Kashmir',\n",
       "       'Jharkhand', 'Karnataka', 'Kerala', 'Lakshadweep',\n",
       "       'Madhya Pradesh', 'Maharashtra', 'Manipur', 'Meghalaya', 'Mizoram',\n",
       "       'Nagaland', 'Odisha', 'Puducherry', 'Punjab', 'Rajasthan',\n",
       "       'Sikkim', 'Tamil Nadu', 'Telangana', 'Tripura', 'Uttar Pradesh',\n",
       "       'West Bengal', 'Chhattisgarh', 'Ladakh', 'Uttarakhand'],\n",
       "      dtype=object)"
      ]
     },
     "execution_count": 4,
     "metadata": {},
     "output_type": "execute_result"
    }
   ],
   "source": [
    "#hide\n",
    "arr_states[-9] = 'Puducherry'\n",
    "arr_states[-10] = 'Odisha'\n",
    "arr_states[6] = 'Dadra and Nagar Haveli and Daman and Diu'\n",
    "arr_states = np.append(arr_states,np.array(['Chhattisgarh','Ladakh','Uttarakhand']))\n",
    "arr_states"
   ]
  },
  {
   "cell_type": "code",
   "execution_count": 5,
   "metadata": {
    "execution": {
     "iopub.execute_input": "2020-12-09T13:40:55.670011Z",
     "iopub.status.busy": "2020-12-09T13:40:55.669227Z",
     "iopub.status.idle": "2020-12-09T13:40:55.678652Z",
     "shell.execute_reply": "2020-12-09T13:40:55.677811Z"
    },
    "papermill": {
     "duration": 0.036108,
     "end_time": "2020-12-09T13:40:55.678789",
     "exception": false,
     "start_time": "2020-12-09T13:40:55.642681",
     "status": "completed"
    },
    "tags": []
   },
   "outputs": [],
   "source": [
    "#hide\n",
    "dates = []\n",
    "for i in arr_dates:\n",
    "    if i>='2020-07-01':\n",
    "        dates.append(i)\n",
    "dict = {'states':dates}\n",
    "for i in arr_states:\n",
    "    dict[i] = [0]*len(dates)\n",
    "dft_cases = pd.DataFrame(dict)\n",
    "dft_deaths = pd.DataFrame(dict)\n"
   ]
  },
  {
   "cell_type": "code",
   "execution_count": 6,
   "metadata": {
    "execution": {
     "iopub.execute_input": "2020-12-09T13:40:55.716347Z",
     "iopub.status.busy": "2020-12-09T13:40:55.715541Z",
     "iopub.status.idle": "2020-12-09T13:40:58.538581Z",
     "shell.execute_reply": "2020-12-09T13:40:58.537517Z"
    },
    "papermill": {
     "duration": 2.843769,
     "end_time": "2020-12-09T13:40:58.538768",
     "exception": false,
     "start_time": "2020-12-09T13:40:55.694999",
     "status": "completed"
    },
    "tags": []
   },
   "outputs": [],
   "source": [
    "#hide\n",
    "for i in range(len(dates)):\n",
    "    df1_deaths = df_deaths1.get_group(dates[i])\n",
    "    for j in range(len(df1_deaths.index)):\n",
    "        if df1_deaths.iloc[j,1] in arr_states:\n",
    "            dft_deaths.loc[i,df1_deaths.iloc[j,1]] = df1_deaths.iloc[j,2]\n",
    "dft_deaths = dft_deaths.set_index('states')"
   ]
  },
  {
   "cell_type": "code",
   "execution_count": 7,
   "metadata": {
    "execution": {
     "iopub.execute_input": "2020-12-09T13:40:58.580123Z",
     "iopub.status.busy": "2020-12-09T13:40:58.579291Z",
     "iopub.status.idle": "2020-12-09T13:41:01.476422Z",
     "shell.execute_reply": "2020-12-09T13:41:01.475809Z"
    },
    "papermill": {
     "duration": 2.920395,
     "end_time": "2020-12-09T13:41:01.476580",
     "exception": false,
     "start_time": "2020-12-09T13:40:58.556185",
     "status": "completed"
    },
    "tags": []
   },
   "outputs": [],
   "source": [
    "#hide\n",
    "for i in range(len(dates)):\n",
    "    df1_cases = df_cases1.get_group(dates[i])\n",
    "    for j in range(len(df1_cases.index)):\n",
    "        if df1_cases.iloc[j,1] in arr_states:\n",
    "            dft_cases.loc[i,df1_cases.iloc[j,1]] = df1_cases.iloc[j,2]\n",
    "dft_cases = dft_cases.set_index('states')"
   ]
  },
  {
   "cell_type": "code",
   "execution_count": 8,
   "metadata": {
    "execution": {
     "iopub.execute_input": "2020-12-09T13:41:01.517151Z",
     "iopub.status.busy": "2020-12-09T13:41:01.516294Z",
     "iopub.status.idle": "2020-12-09T13:41:01.520591Z",
     "shell.execute_reply": "2020-12-09T13:41:01.520074Z"
    },
    "papermill": {
     "duration": 0.026276,
     "end_time": "2020-12-09T13:41:01.520737",
     "exception": false,
     "start_time": "2020-12-09T13:41:01.494461",
     "status": "completed"
    },
    "tags": []
   },
   "outputs": [],
   "source": [
    "#hide\n",
    "dft_cases = dft_cases.T\n",
    "dft_deaths = dft_deaths.T\n",
    "dt_today = dates[-1]\n",
    "dt_yday = dates[-2]"
   ]
  },
  {
   "cell_type": "code",
   "execution_count": 9,
   "metadata": {
    "execution": {
     "iopub.execute_input": "2020-12-09T13:41:01.560698Z",
     "iopub.status.busy": "2020-12-09T13:41:01.560181Z",
     "iopub.status.idle": "2020-12-09T13:41:01.563964Z",
     "shell.execute_reply": "2020-12-09T13:41:01.563415Z"
    },
    "papermill": {
     "duration": 0.026868,
     "end_time": "2020-12-09T13:41:01.564101",
     "exception": false,
     "start_time": "2020-12-09T13:41:01.537233",
     "status": "completed"
    },
    "tags": []
   },
   "outputs": [],
   "source": [
    "#hide\n",
    "dft_cases = dft_cases.reset_index()\n",
    "dft_deaths = dft_deaths.reset_index()\n",
    "dft_cases = dft_cases.rename(columns = {'index':'state'})\n",
    "dft_deaths = dft_deaths.rename(columns = {'index':'state'})"
   ]
  },
  {
   "cell_type": "code",
   "execution_count": 10,
   "metadata": {
    "execution": {
     "iopub.execute_input": "2020-12-09T13:41:01.610470Z",
     "iopub.status.busy": "2020-12-09T13:41:01.604635Z",
     "iopub.status.idle": "2020-12-09T13:41:01.612121Z",
     "shell.execute_reply": "2020-12-09T13:41:01.612619Z"
    },
    "papermill": {
     "duration": 0.030568,
     "end_time": "2020-12-09T13:41:01.612753",
     "exception": false,
     "start_time": "2020-12-09T13:41:01.582185",
     "status": "completed"
    },
    "tags": []
   },
   "outputs": [],
   "source": [
    "#hide\n",
    "dfc_cases = dft_cases.groupby('state')[dt_today].sum()\n",
    "dfc_deaths = dft_deaths.groupby('state')[dt_today].sum()\n",
    "dfp_cases = dft_cases.groupby('state')[dt_yday].sum()\n",
    "dfp_deaths = dft_deaths.groupby('state')[dt_yday].sum()"
   ]
  },
  {
   "cell_type": "code",
   "execution_count": 11,
   "metadata": {
    "execution": {
     "iopub.execute_input": "2020-12-09T13:41:01.647998Z",
     "iopub.status.busy": "2020-12-09T13:41:01.647418Z",
     "iopub.status.idle": "2020-12-09T13:41:01.660525Z",
     "shell.execute_reply": "2020-12-09T13:41:01.661044Z"
    },
    "papermill": {
     "duration": 0.033572,
     "end_time": "2020-12-09T13:41:01.661171",
     "exception": false,
     "start_time": "2020-12-09T13:41:01.627599",
     "status": "completed"
    },
    "tags": []
   },
   "outputs": [
    {
     "data": {
      "text/html": [
       "<div>\n",
       "<style scoped>\n",
       "    .dataframe tbody tr th:only-of-type {\n",
       "        vertical-align: middle;\n",
       "    }\n",
       "\n",
       "    .dataframe tbody tr th {\n",
       "        vertical-align: top;\n",
       "    }\n",
       "\n",
       "    .dataframe thead th {\n",
       "        text-align: right;\n",
       "    }\n",
       "</style>\n",
       "<table border=\"1\" class=\"dataframe\">\n",
       "  <thead>\n",
       "    <tr style=\"text-align: right;\">\n",
       "      <th></th>\n",
       "      <th>states</th>\n",
       "      <th>Cases</th>\n",
       "      <th>Deaths</th>\n",
       "      <th>PCases</th>\n",
       "      <th>PDeaths</th>\n",
       "    </tr>\n",
       "  </thead>\n",
       "  <tbody>\n",
       "    <tr>\n",
       "      <th>0</th>\n",
       "      <td>Maharashtra</td>\n",
       "      <td>1859367</td>\n",
       "      <td>47827</td>\n",
       "      <td>1859367</td>\n",
       "      <td>47827</td>\n",
       "    </tr>\n",
       "    <tr>\n",
       "      <th>1</th>\n",
       "      <td>Karnataka</td>\n",
       "      <td>895284</td>\n",
       "      <td>11880</td>\n",
       "      <td>895284</td>\n",
       "      <td>11880</td>\n",
       "    </tr>\n",
       "    <tr>\n",
       "      <th>2</th>\n",
       "      <td>Andhra Pradesh</td>\n",
       "      <td>872839</td>\n",
       "      <td>7042</td>\n",
       "      <td>872839</td>\n",
       "      <td>7042</td>\n",
       "    </tr>\n",
       "    <tr>\n",
       "      <th>3</th>\n",
       "      <td>Tamil Nadu</td>\n",
       "      <td>792788</td>\n",
       "      <td>11822</td>\n",
       "      <td>792788</td>\n",
       "      <td>11822</td>\n",
       "    </tr>\n",
       "    <tr>\n",
       "      <th>4</th>\n",
       "      <td>Kerala</td>\n",
       "      <td>644697</td>\n",
       "      <td>2473</td>\n",
       "      <td>644697</td>\n",
       "      <td>2473</td>\n",
       "    </tr>\n",
       "  </tbody>\n",
       "</table>\n",
       "</div>"
      ],
      "text/plain": [
       "           states    Cases  Deaths   PCases  PDeaths\n",
       "0     Maharashtra  1859367   47827  1859367    47827\n",
       "1       Karnataka   895284   11880   895284    11880\n",
       "2  Andhra Pradesh   872839    7042   872839     7042\n",
       "3      Tamil Nadu   792788   11822   792788    11822\n",
       "4          Kerala   644697    2473   644697     2473"
      ]
     },
     "execution_count": 11,
     "metadata": {},
     "output_type": "execute_result"
    }
   ],
   "source": [
    "#hide\n",
    "df_table = pd.DataFrame({'states': dfc_cases.index, 'Cases': dfc_cases.values, 'Deaths': dfc_deaths.values, 'PCases': dfp_cases.values, 'PDeaths': dfp_deaths.values}).set_index('states')\n",
    "df_table = df_table.sort_values(by = ['Cases','Deaths'], ascending = [False, False])\n",
    "df_table = df_table.reset_index()\n",
    "df_table.head()"
   ]
  },
  {
   "cell_type": "code",
   "execution_count": 12,
   "metadata": {
    "execution": {
     "iopub.execute_input": "2020-12-09T13:41:01.697691Z",
     "iopub.status.busy": "2020-12-09T13:41:01.697175Z",
     "iopub.status.idle": "2020-12-09T13:41:01.705406Z",
     "shell.execute_reply": "2020-12-09T13:41:01.706018Z"
    },
    "papermill": {
     "duration": 0.029497,
     "end_time": "2020-12-09T13:41:01.706175",
     "exception": false,
     "start_time": "2020-12-09T13:41:01.676678",
     "status": "completed"
    },
    "tags": []
   },
   "outputs": [],
   "source": [
    "#hide\n",
    "for c in 'Cases, Deaths'.split(', '):\n",
    "    df_table[f'{c} (+)'] = (df_table[c] - df_table[f'P{c}']).clip(0)\n",
    "df_table['Fatality Rate'] = (100* df_table['Deaths']/ df_table['Cases']).round(2)"
   ]
  },
  {
   "cell_type": "code",
   "execution_count": 13,
   "metadata": {
    "execution": {
     "iopub.execute_input": "2020-12-09T13:41:01.748536Z",
     "iopub.status.busy": "2020-12-09T13:41:01.747846Z",
     "iopub.status.idle": "2020-12-09T13:41:01.750399Z",
     "shell.execute_reply": "2020-12-09T13:41:01.750905Z"
    },
    "papermill": {
     "duration": 0.030715,
     "end_time": "2020-12-09T13:41:01.751026",
     "exception": false,
     "start_time": "2020-12-09T13:41:01.720311",
     "status": "completed"
    },
    "tags": []
   },
   "outputs": [
    {
     "data": {
      "text/html": [
       "<div>\n",
       "<style scoped>\n",
       "    .dataframe tbody tr th:only-of-type {\n",
       "        vertical-align: middle;\n",
       "    }\n",
       "\n",
       "    .dataframe tbody tr th {\n",
       "        vertical-align: top;\n",
       "    }\n",
       "\n",
       "    .dataframe thead th {\n",
       "        text-align: right;\n",
       "    }\n",
       "</style>\n",
       "<table border=\"1\" class=\"dataframe\">\n",
       "  <thead>\n",
       "    <tr style=\"text-align: right;\">\n",
       "      <th></th>\n",
       "      <th>states</th>\n",
       "      <th>Cases</th>\n",
       "      <th>Deaths</th>\n",
       "      <th>PCases</th>\n",
       "      <th>PDeaths</th>\n",
       "      <th>Cases (+)</th>\n",
       "      <th>Deaths (+)</th>\n",
       "      <th>Fatality Rate</th>\n",
       "    </tr>\n",
       "  </thead>\n",
       "  <tbody>\n",
       "    <tr>\n",
       "      <th>0</th>\n",
       "      <td>Maharashtra</td>\n",
       "      <td>1859367</td>\n",
       "      <td>47827</td>\n",
       "      <td>1859367</td>\n",
       "      <td>47827</td>\n",
       "      <td>0</td>\n",
       "      <td>0</td>\n",
       "      <td>2.57</td>\n",
       "    </tr>\n",
       "    <tr>\n",
       "      <th>1</th>\n",
       "      <td>Karnataka</td>\n",
       "      <td>895284</td>\n",
       "      <td>11880</td>\n",
       "      <td>895284</td>\n",
       "      <td>11880</td>\n",
       "      <td>0</td>\n",
       "      <td>0</td>\n",
       "      <td>1.33</td>\n",
       "    </tr>\n",
       "    <tr>\n",
       "      <th>2</th>\n",
       "      <td>Andhra Pradesh</td>\n",
       "      <td>872839</td>\n",
       "      <td>7042</td>\n",
       "      <td>872839</td>\n",
       "      <td>7042</td>\n",
       "      <td>0</td>\n",
       "      <td>0</td>\n",
       "      <td>0.81</td>\n",
       "    </tr>\n",
       "    <tr>\n",
       "      <th>3</th>\n",
       "      <td>Tamil Nadu</td>\n",
       "      <td>792788</td>\n",
       "      <td>11822</td>\n",
       "      <td>792788</td>\n",
       "      <td>11822</td>\n",
       "      <td>0</td>\n",
       "      <td>0</td>\n",
       "      <td>1.49</td>\n",
       "    </tr>\n",
       "    <tr>\n",
       "      <th>4</th>\n",
       "      <td>Kerala</td>\n",
       "      <td>644697</td>\n",
       "      <td>2473</td>\n",
       "      <td>644697</td>\n",
       "      <td>2473</td>\n",
       "      <td>0</td>\n",
       "      <td>0</td>\n",
       "      <td>0.38</td>\n",
       "    </tr>\n",
       "  </tbody>\n",
       "</table>\n",
       "</div>"
      ],
      "text/plain": [
       "           states    Cases  Deaths   PCases  PDeaths  Cases (+)  Deaths (+)  \\\n",
       "0     Maharashtra  1859367   47827  1859367    47827          0           0   \n",
       "1       Karnataka   895284   11880   895284    11880          0           0   \n",
       "2  Andhra Pradesh   872839    7042   872839     7042          0           0   \n",
       "3      Tamil Nadu   792788   11822   792788    11822          0           0   \n",
       "4          Kerala   644697    2473   644697     2473          0           0   \n",
       "\n",
       "   Fatality Rate  \n",
       "0           2.57  \n",
       "1           1.33  \n",
       "2           0.81  \n",
       "3           1.49  \n",
       "4           0.38  "
      ]
     },
     "execution_count": 13,
     "metadata": {},
     "output_type": "execute_result"
    }
   ],
   "source": [
    "#hide\n",
    "df_table.head()"
   ]
  },
  {
   "cell_type": "code",
   "execution_count": 14,
   "metadata": {
    "execution": {
     "iopub.execute_input": "2020-12-09T13:41:01.788745Z",
     "iopub.status.busy": "2020-12-09T13:41:01.788042Z",
     "iopub.status.idle": "2020-12-09T13:41:01.804679Z",
     "shell.execute_reply": "2020-12-09T13:41:01.804207Z"
    },
    "papermill": {
     "duration": 0.038741,
     "end_time": "2020-12-09T13:41:01.804785",
     "exception": false,
     "start_time": "2020-12-09T13:41:01.766044",
     "status": "completed"
    },
    "tags": []
   },
   "outputs": [
    {
     "data": {
      "text/plain": [
       "{'updated': '2020-12-09',\n",
       " 'since': '2020-12-08',\n",
       " 'Cases': 9739594,\n",
       " 'PCases': 9735995,\n",
       " 'Deaths': 141456,\n",
       " 'PDeaths': 141398,\n",
       " 'Cases (+)': 3599,\n",
       " 'Deaths (+)': 58}"
      ]
     },
     "execution_count": 14,
     "metadata": {},
     "output_type": "execute_result"
    }
   ],
   "source": [
    "#hide\n",
    "summary = {'updated':dates[-1], 'since':dates[-2]}\n",
    "list_names = ['Cases', 'PCases', 'Deaths', 'PDeaths', 'Cases (+)', 'Deaths (+)']\n",
    "for name in list_names:\n",
    "    summary[name] = df_table.sum()[name]\n",
    "summary"
   ]
  },
  {
   "cell_type": "code",
   "execution_count": 15,
   "metadata": {
    "execution": {
     "iopub.execute_input": "2020-12-09T13:41:01.839353Z",
     "iopub.status.busy": "2020-12-09T13:41:01.838838Z",
     "iopub.status.idle": "2020-12-09T13:41:01.841226Z",
     "shell.execute_reply": "2020-12-09T13:41:01.841678Z"
    },
    "papermill": {
     "duration": 0.021842,
     "end_time": "2020-12-09T13:41:01.841794",
     "exception": false,
     "start_time": "2020-12-09T13:41:01.819952",
     "status": "completed"
    },
    "tags": []
   },
   "outputs": [],
   "source": [
    "#hide\n",
    "overview = '''\n",
    "<!-- #######  HTML!! #########-->\n",
    "<h1 style=\"color: #5e9ca0; text-align: center;\">India</h1>\n",
    "<p style=\"text-align: center;\">Last update: <strong>{update}</strong></p>\n",
    "<p style=\"text-align: center;\">Confirmed cases:</p>\n",
    "<p style=\"text-align: center;font-size:24px;\">{cases} (<span style=\"color: #ff0000;\">+{new}</span>)</p>\n",
    "<p style=\"text-align: center;\">Confirmed deaths:</p>\n",
    "<p style=\"text-align: center;font-size:24px;\">{deaths} (<span style=\"color: #ff0000;\">+{dnew}</span>)</p>\n",
    "'''"
   ]
  },
  {
   "cell_type": "code",
   "execution_count": 16,
   "metadata": {
    "execution": {
     "iopub.execute_input": "2020-12-09T13:41:01.876426Z",
     "iopub.status.busy": "2020-12-09T13:41:01.875692Z",
     "iopub.status.idle": "2020-12-09T13:41:01.879290Z",
     "shell.execute_reply": "2020-12-09T13:41:01.879800Z"
    },
    "papermill": {
     "duration": 0.023712,
     "end_time": "2020-12-09T13:41:01.879942",
     "exception": false,
     "start_time": "2020-12-09T13:41:01.856230",
     "status": "completed"
    },
    "tags": []
   },
   "outputs": [
    {
     "data": {
      "text/html": [
       "\n",
       "<!-- #######  HTML!! #########-->\n",
       "<h1 style=\"color: #5e9ca0; text-align: center;\">India</h1>\n",
       "<p style=\"text-align: center;\">Last update: <strong>2020-12-09</strong></p>\n",
       "<p style=\"text-align: center;\">Confirmed cases:</p>\n",
       "<p style=\"text-align: center;font-size:24px;\">9739594 (<span style=\"color: #ff0000;\">+3599</span>)</p>\n",
       "<p style=\"text-align: center;\">Confirmed deaths:</p>\n",
       "<p style=\"text-align: center;font-size:24px;\">141456 (<span style=\"color: #ff0000;\">+58</span>)</p>\n"
      ],
      "text/plain": [
       "<IPython.core.display.HTML object>"
      ]
     },
     "metadata": {},
     "output_type": "display_data"
    }
   ],
   "source": [
    "#hide_input\n",
    "update = summary['updated']\n",
    "cases = summary['Cases']\n",
    "new = summary['Cases (+)']\n",
    "deaths = summary['Deaths']\n",
    "dnew = summary['Deaths (+)']\n",
    "\n",
    "html = HTML(overview.format(update=update, cases=cases,new=new,deaths=deaths,dnew=dnew))\n",
    "\n",
    "display(html)"
   ]
  },
  {
   "cell_type": "code",
   "execution_count": 17,
   "metadata": {
    "execution": {
     "iopub.execute_input": "2020-12-09T13:41:01.921185Z",
     "iopub.status.busy": "2020-12-09T13:41:01.920472Z",
     "iopub.status.idle": "2020-12-09T13:41:01.927084Z",
     "shell.execute_reply": "2020-12-09T13:41:01.926588Z"
    },
    "papermill": {
     "duration": 0.030143,
     "end_time": "2020-12-09T13:41:01.927208",
     "exception": false,
     "start_time": "2020-12-09T13:41:01.897065",
     "status": "completed"
    },
    "tags": []
   },
   "outputs": [],
   "source": [
    "#hide\n",
    "dt_cols = list(dft_cases.columns[1:])\n",
    "dft_ct_new_cases = dft_cases.groupby('state')[dt_cols].sum().diff(axis=1).fillna(0).astype(int)\n",
    "dft_ct_new_cases.sort_values(by = dates[-1], ascending = False,inplace = True)"
   ]
  },
  {
   "cell_type": "code",
   "execution_count": 18,
   "metadata": {
    "execution": {
     "iopub.execute_input": "2020-12-09T13:41:01.973342Z",
     "iopub.status.busy": "2020-12-09T13:41:01.972630Z",
     "iopub.status.idle": "2020-12-09T13:41:01.984998Z",
     "shell.execute_reply": "2020-12-09T13:41:01.984247Z"
    },
    "papermill": {
     "duration": 0.040307,
     "end_time": "2020-12-09T13:41:01.985135",
     "exception": false,
     "start_time": "2020-12-09T13:41:01.944828",
     "status": "completed"
    },
    "tags": []
   },
   "outputs": [
    {
     "data": {
      "text/html": [
       "<div>\n",
       "<style scoped>\n",
       "    .dataframe tbody tr th:only-of-type {\n",
       "        vertical-align: middle;\n",
       "    }\n",
       "\n",
       "    .dataframe tbody tr th {\n",
       "        vertical-align: top;\n",
       "    }\n",
       "\n",
       "    .dataframe thead th {\n",
       "        text-align: right;\n",
       "    }\n",
       "</style>\n",
       "<table border=\"1\" class=\"dataframe\">\n",
       "  <thead>\n",
       "    <tr style=\"text-align: right;\">\n",
       "      <th>states</th>\n",
       "      <th>2020-07-01</th>\n",
       "      <th>2020-07-02</th>\n",
       "      <th>2020-07-03</th>\n",
       "      <th>2020-07-04</th>\n",
       "      <th>2020-07-05</th>\n",
       "      <th>2020-07-06</th>\n",
       "      <th>2020-07-07</th>\n",
       "      <th>2020-07-08</th>\n",
       "      <th>2020-07-09</th>\n",
       "      <th>2020-07-10</th>\n",
       "      <th>...</th>\n",
       "      <th>2020-11-30</th>\n",
       "      <th>2020-12-01</th>\n",
       "      <th>2020-12-02</th>\n",
       "      <th>2020-12-03</th>\n",
       "      <th>2020-12-04</th>\n",
       "      <th>2020-12-05</th>\n",
       "      <th>2020-12-06</th>\n",
       "      <th>2020-12-07</th>\n",
       "      <th>2020-12-08</th>\n",
       "      <th>2020-12-09</th>\n",
       "    </tr>\n",
       "    <tr>\n",
       "      <th>state</th>\n",
       "      <th></th>\n",
       "      <th></th>\n",
       "      <th></th>\n",
       "      <th></th>\n",
       "      <th></th>\n",
       "      <th></th>\n",
       "      <th></th>\n",
       "      <th></th>\n",
       "      <th></th>\n",
       "      <th></th>\n",
       "      <th></th>\n",
       "      <th></th>\n",
       "      <th></th>\n",
       "      <th></th>\n",
       "      <th></th>\n",
       "      <th></th>\n",
       "      <th></th>\n",
       "      <th></th>\n",
       "      <th></th>\n",
       "      <th></th>\n",
       "      <th></th>\n",
       "    </tr>\n",
       "  </thead>\n",
       "  <tbody>\n",
       "    <tr>\n",
       "      <th>Delhi</th>\n",
       "      <td>0</td>\n",
       "      <td>2373</td>\n",
       "      <td>2520</td>\n",
       "      <td>2505</td>\n",
       "      <td>2244</td>\n",
       "      <td>1379</td>\n",
       "      <td>2008</td>\n",
       "      <td>2033</td>\n",
       "      <td>2187</td>\n",
       "      <td>2089</td>\n",
       "      <td>...</td>\n",
       "      <td>3726</td>\n",
       "      <td>4006</td>\n",
       "      <td>3944</td>\n",
       "      <td>3734</td>\n",
       "      <td>4067</td>\n",
       "      <td>3419</td>\n",
       "      <td>2706</td>\n",
       "      <td>1674</td>\n",
       "      <td>3188</td>\n",
       "      <td>2463</td>\n",
       "    </tr>\n",
       "    <tr>\n",
       "      <th>Telangana</th>\n",
       "      <td>0</td>\n",
       "      <td>1213</td>\n",
       "      <td>1892</td>\n",
       "      <td>1850</td>\n",
       "      <td>1590</td>\n",
       "      <td>1831</td>\n",
       "      <td>1879</td>\n",
       "      <td>1924</td>\n",
       "      <td>1410</td>\n",
       "      <td>1278</td>\n",
       "      <td>...</td>\n",
       "      <td>593</td>\n",
       "      <td>502</td>\n",
       "      <td>565</td>\n",
       "      <td>609</td>\n",
       "      <td>631</td>\n",
       "      <td>596</td>\n",
       "      <td>622</td>\n",
       "      <td>517</td>\n",
       "      <td>682</td>\n",
       "      <td>721</td>\n",
       "    </tr>\n",
       "    <tr>\n",
       "      <th>Odisha</th>\n",
       "      <td>0</td>\n",
       "      <td>229</td>\n",
       "      <td>561</td>\n",
       "      <td>495</td>\n",
       "      <td>469</td>\n",
       "      <td>456</td>\n",
       "      <td>571</td>\n",
       "      <td>527</td>\n",
       "      <td>577</td>\n",
       "      <td>755</td>\n",
       "      <td>...</td>\n",
       "      <td>418</td>\n",
       "      <td>378</td>\n",
       "      <td>480</td>\n",
       "      <td>434</td>\n",
       "      <td>377</td>\n",
       "      <td>409</td>\n",
       "      <td>393</td>\n",
       "      <td>368</td>\n",
       "      <td>349</td>\n",
       "      <td>386</td>\n",
       "    </tr>\n",
       "    <tr>\n",
       "      <th>Tripura</th>\n",
       "      <td>0</td>\n",
       "      <td>39</td>\n",
       "      <td>93</td>\n",
       "      <td>25</td>\n",
       "      <td>23</td>\n",
       "      <td>111</td>\n",
       "      <td>24</td>\n",
       "      <td>57</td>\n",
       "      <td>16</td>\n",
       "      <td>142</td>\n",
       "      <td>...</td>\n",
       "      <td>54</td>\n",
       "      <td>31</td>\n",
       "      <td>38</td>\n",
       "      <td>39</td>\n",
       "      <td>33</td>\n",
       "      <td>24</td>\n",
       "      <td>31</td>\n",
       "      <td>6</td>\n",
       "      <td>28</td>\n",
       "      <td>20</td>\n",
       "    </tr>\n",
       "    <tr>\n",
       "      <th>Mizoram</th>\n",
       "      <td>0</td>\n",
       "      <td>2</td>\n",
       "      <td>0</td>\n",
       "      <td>2</td>\n",
       "      <td>22</td>\n",
       "      <td>11</td>\n",
       "      <td>1</td>\n",
       "      <td>5</td>\n",
       "      <td>0</td>\n",
       "      <td>23</td>\n",
       "      <td>...</td>\n",
       "      <td>2</td>\n",
       "      <td>22</td>\n",
       "      <td>22</td>\n",
       "      <td>12</td>\n",
       "      <td>7</td>\n",
       "      <td>25</td>\n",
       "      <td>21</td>\n",
       "      <td>2</td>\n",
       "      <td>32</td>\n",
       "      <td>9</td>\n",
       "    </tr>\n",
       "  </tbody>\n",
       "</table>\n",
       "<p>5 rows × 162 columns</p>\n",
       "</div>"
      ],
      "text/plain": [
       "states     2020-07-01  2020-07-02  2020-07-03  2020-07-04  2020-07-05  \\\n",
       "state                                                                   \n",
       "Delhi               0        2373        2520        2505        2244   \n",
       "Telangana           0        1213        1892        1850        1590   \n",
       "Odisha              0         229         561         495         469   \n",
       "Tripura             0          39          93          25          23   \n",
       "Mizoram             0           2           0           2          22   \n",
       "\n",
       "states     2020-07-06  2020-07-07  2020-07-08  2020-07-09  2020-07-10  ...  \\\n",
       "state                                                                  ...   \n",
       "Delhi            1379        2008        2033        2187        2089  ...   \n",
       "Telangana        1831        1879        1924        1410        1278  ...   \n",
       "Odisha            456         571         527         577         755  ...   \n",
       "Tripura           111          24          57          16         142  ...   \n",
       "Mizoram            11           1           5           0          23  ...   \n",
       "\n",
       "states     2020-11-30  2020-12-01  2020-12-02  2020-12-03  2020-12-04  \\\n",
       "state                                                                   \n",
       "Delhi            3726        4006        3944        3734        4067   \n",
       "Telangana         593         502         565         609         631   \n",
       "Odisha            418         378         480         434         377   \n",
       "Tripura            54          31          38          39          33   \n",
       "Mizoram             2          22          22          12           7   \n",
       "\n",
       "states     2020-12-05  2020-12-06  2020-12-07  2020-12-08  2020-12-09  \n",
       "state                                                                  \n",
       "Delhi            3419        2706        1674        3188        2463  \n",
       "Telangana         596         622         517         682         721  \n",
       "Odisha            409         393         368         349         386  \n",
       "Tripura            24          31           6          28          20  \n",
       "Mizoram            25          21           2          32           9  \n",
       "\n",
       "[5 rows x 162 columns]"
      ]
     },
     "execution_count": 18,
     "metadata": {},
     "output_type": "execute_result"
    }
   ],
   "source": [
    "#hide\n",
    "dft_ct_new_cases.head()"
   ]
  },
  {
   "cell_type": "code",
   "execution_count": 19,
   "metadata": {
    "execution": {
     "iopub.execute_input": "2020-12-09T13:41:02.035576Z",
     "iopub.status.busy": "2020-12-09T13:41:02.030479Z",
     "iopub.status.idle": "2020-12-09T13:41:09.231347Z",
     "shell.execute_reply": "2020-12-09T13:41:09.230726Z"
    },
    "papermill": {
     "duration": 7.228972,
     "end_time": "2020-12-09T13:41:09.231564",
     "exception": false,
     "start_time": "2020-12-09T13:41:02.002592",
     "status": "completed"
    },
    "tags": []
   },
   "outputs": [
    {
     "data": {
      "image/png": "[encoded data removed]",
      "text/plain": [
       "<Figure size 1296x2016 with 11 Axes>"
      ]
     },
     "metadata": {
      "needs_background": "light"
     },
     "output_type": "display_data"
    }
   ],
   "source": [
    "#hide_input\n",
    "df = dft_ct_new_cases.copy()\n",
    "df.loc['Total'] = df.sum()\n",
    "n = 5\n",
    "ax = []\n",
    "fig = plt.figure(figsize = (18,28))\n",
    "gs = fig.add_gridspec(n+2, 5)\n",
    "# gs = fig.add_gridspec(2, 3)\n",
    "ax1 = fig.add_subplot(gs[0, :])\n",
    "ef = df.loc['Total'].rename_axis('date').reset_index()\n",
    "ef['date'] = ef['date'].astype('datetime64[ns]')\n",
    "ax1.bar(ef.date,ef.Total,alpha=0.3,color='#007acc')\n",
    "ax1.plot(ef.date,ef.Total , marker=\"o\", color='#007acc')\n",
    "ax1.xaxis.set_major_locator(mdates.WeekdayLocator())\n",
    "ax1.xaxis.set_major_formatter(mdates.DateFormatter('%b %d'))\n",
    "ax1.text(0.02, 0.5,'India daily case count', transform = ax1.transAxes, fontsize=25);\n",
    "ax1.spines['right'].set_visible(False)\n",
    "ax1.spines['top'].set_visible(False)\n",
    "\n",
    "ax2 = fig.add_subplot(gs[1,0])\n",
    "ef = df.loc['Maharashtra'].rename_axis('date').reset_index()\n",
    "ef['date'] = ef['date'].astype('datetime64[ns]')\n",
    "\n",
    "ax2.bar(ef.date, ef.Maharashtra,color = '#007acc',alpha=0.5)\n",
    "ax2.xaxis.set_major_locator(mdates.WeekdayLocator())\n",
    "ax2.xaxis.set_major_formatter(mdates.DateFormatter('%b %d'))\n",
    "ax2.set_xticks(ax2.get_xticks()[::3])\n",
    "maxyval = ef.Maharashtra.max()\n",
    "ax2.set_ylim([0,maxyval])\n",
    "ax2.text(0.05, 0.9,'Maharashtra', transform = ax2.transAxes, fontsize=20);\n",
    "ax2.spines['right'].set_visible(False)\n",
    "ax2.spines['top'].set_visible(False)\n",
    "\n",
    "\n",
    "ax3 = fig.add_subplot(gs[1,1])\n",
    "ef = df.loc['Tamil Nadu'].rename_axis('date').reset_index()\n",
    "ef['date'] = ef['date'].astype('datetime64[ns]')\n",
    "ax3.bar(ef.date, ef['Tamil Nadu'],color = '#007acc',alpha=0.5,)\n",
    "ax3.xaxis.set_major_locator(mdates.WeekdayLocator())\n",
    "ax3.xaxis.set_major_formatter(mdates.DateFormatter('%b %d'))\n",
    "ax3.set_xticks(ax3.get_xticks()[::3])\n",
    "ax3.text(0.05, 0.9,'Tamil Nadu', transform = ax3.transAxes, fontsize=20);\n",
    "ax3.spines['right'].set_visible(False)\n",
    "ax3.spines['top'].set_visible(False)\n",
    "\n",
    "ax5 = fig.add_subplot(gs[1,3])\n",
    "ef = df.loc['Telangana'].rename_axis('date').reset_index()\n",
    "ef['date'] = ef['date'].astype('datetime64[ns]')\n",
    "ax5.bar(ef.date, ef['Telangana'],color = '#007acc',alpha=0.5,)\n",
    "ax5.xaxis.set_major_locator(mdates.WeekdayLocator())\n",
    "ax5.xaxis.set_major_formatter(mdates.DateFormatter('%b %d'))\n",
    "ax5.set_xticks(ax5.get_xticks()[::3])\n",
    "ax5.text(0.05, 0.9,'Telangana', transform = ax5.transAxes, fontsize=20);\n",
    "ax5.spines['right'].set_visible(False)\n",
    "ax5.spines['top'].set_visible(False)\n",
    "\n",
    "ax6 = fig.add_subplot(gs[1,4])\n",
    "ef = df.loc['Andhra Pradesh'].rename_axis('date').reset_index()\n",
    "ef['date'] = ef['date'].astype('datetime64[ns]')\n",
    "ax6.bar(ef.date, ef['Andhra Pradesh'],color = '#007acc',alpha=0.5,)\n",
    "ax6.xaxis.set_major_locator(mdates.WeekdayLocator())\n",
    "ax6.xaxis.set_major_formatter(mdates.DateFormatter('%b %d'))\n",
    "ax6.set_xticks(ax6.get_xticks()[::3])\n",
    "ax6.text(0.05, 1,'Andhra Pradesh', transform = ax6.transAxes, fontsize=20);\n",
    "ax6.spines['right'].set_visible(False)\n",
    "ax6.spines['top'].set_visible(False)\n",
    "\n",
    "ax4 = fig.add_subplot(gs[1,2])\n",
    "ef = df.loc['Delhi'].rename_axis('date').reset_index()\n",
    "ef['date'] = ef['date'].astype('datetime64[ns]')\n",
    "ax4.bar(ef.date, ef.Delhi,color = '#007acc',alpha=0.5)\n",
    "ax4.set_xticks([])\n",
    "ax4.xaxis.set_major_locator(mdates.WeekdayLocator())\n",
    "ax4.xaxis.set_major_formatter(mdates.DateFormatter('%b %d'))\n",
    "ax4.set_xticks(ax4.get_xticks()[::3])\n",
    "ax4.spines['right'].set_visible(False)\n",
    "ax4.spines['top'].set_visible(False)\n",
    "\n",
    "ax4.text(0.05, 1,'Delhi', transform = ax4.transAxes, fontsize=20)\n",
    "\n",
    "for i in range(n):\n",
    "    \n",
    "    ax.append(fig.add_subplot(gs[i+2,:]))\n",
    "    ef = df.iloc[i+3].rename_axis('date').reset_index()\n",
    "    ef['date'] = ef['date'].astype('datetime64[ns]')\n",
    "    ax[i].bar(ef.date,ef.iloc[:,-1],color = '#007acc',alpha=0.3)\n",
    "    ax[i].plot(ef.date,ef.iloc[:,-1],marker='o',color='#007acc')\n",
    "    ax[i].text(0.02,0.5,f'{ef.columns.values[-1]}',transform = ax[i].transAxes, fontsize = 20);\n",
    "    ax[i].xaxis.set_major_locator(mdates.WeekdayLocator())\n",
    "    ax[i].xaxis.set_major_formatter(mdates.DateFormatter('%b %d'))\n",
    "    ax[i].set_ylim([0,7000])\n",
    "    ax[i].spines['right'].set_visible(False)\n",
    "    ax[i].spines['top'].set_visible(False)\n",
    "plt.tight_layout()\n"
   ]
  },
  {
   "cell_type": "code",
   "execution_count": 20,
   "metadata": {
    "execution": {
     "iopub.execute_input": "2020-12-09T13:41:09.297547Z",
     "iopub.status.busy": "2020-12-09T13:41:09.296736Z",
     "iopub.status.idle": "2020-12-09T13:41:09.307444Z",
     "shell.execute_reply": "2020-12-09T13:41:09.306893Z"
    },
    "papermill": {
     "duration": 0.054624,
     "end_time": "2020-12-09T13:41:09.307557",
     "exception": false,
     "start_time": "2020-12-09T13:41:09.252933",
     "status": "completed"
    },
    "tags": []
   },
   "outputs": [
    {
     "name": "stdout",
     "output_type": "stream",
     "text": [
      "                                   states    Cases  Deaths   PCases  PDeaths  Cases (+)  Deaths (+)  Fatality Rate\n",
      "                              Maharashtra  1859367   47827  1859367    47827          0           0           2.57\n",
      "                                Karnataka   895284   11880   895284    11880          0           0           1.33\n",
      "                           Andhra Pradesh   872839    7042   872839     7042          0           0           0.81\n",
      "                               Tamil Nadu   792788   11822   792788    11822          0           0           1.49\n",
      "                                   Kerala   644697    2473   644697     2473          0           0           0.38\n",
      "                                    Delhi   599575    9813   597112     9763       2463          50           1.64\n",
      "                            Uttar Pradesh   558173    7967   558173     7967          0           0           1.43\n",
      "                              West Bengal   507995    8820   507995     8820          0           0           1.74\n",
      "                                   Odisha   322299    1842   321913     1837        386           5           0.57\n",
      "                                Rajasthan   284116    2468   284116     2468          0           0           0.87\n",
      "                                Telangana   275261    1480   274540     1477        721           3           0.54\n",
      "                             Chhattisgarh   249699    3025   249699     3025          0           0           1.21\n",
      "                                  Haryana   246679    2624   246679     2624          0           0           1.06\n",
      "                                    Bihar   240249    1300   240249     1300          0           0           0.54\n",
      "                                  Gujarat   221493    4110   221493     4110          0           0           1.86\n",
      "                           Madhya Pradesh   217302    3358   217302     3358          0           0           1.55\n",
      "                                    Assam   214019     997   214019      997          0           0           0.47\n",
      "                                   Punjab   157331    4964   157331     4964          0           0           3.16\n",
      "                        Jammu and Kashmir   114038    1761   114038     1761          0           0           1.54\n",
      "                                Jharkhand   110639     988   110639      988          0           0           0.89\n",
      "                              Uttarakhand    79141    1307    79141     1307          0           0           1.65\n",
      "                                      Goa    48935     701    48935      701          0           0           1.43\n",
      "                         Himachal Pradesh    46201     743    46201      743          0           0           1.61\n",
      "                               Puducherry    37311     615    37311      615          0           0           1.65\n",
      "                                  Tripura    32942     370    32922      370         20           0           1.12\n",
      "                                  Manipur    26396     311    26396      311          0           0           1.18\n",
      "                               Chandigarh    18239     296    18239      296          0           0           1.62\n",
      "                        Arunachal Pradesh    16415      55    16415       55          0           0           0.34\n",
      "                                Meghalaya    12410     122    12410      122          0           0           0.98\n",
      "                                 Nagaland    11479      67    11479       67          0           0           0.58\n",
      "                                   Ladakh     8969     122     8969      122          0           0           1.36\n",
      "                                   Sikkim     5213     117     5213      117          0           0           2.24\n",
      "              Andaman and Nicobar Islands     4778      61     4778       61          0           0           1.28\n",
      "                                  Mizoram     3977       6     3968        6          9           0           0.15\n",
      " Dadra and Nagar Haveli and Daman and Diu     3345       2     3345        2          0           0           0.06\n",
      "                              Lakshadweep        0       0        0        0          0           0            NaN\n"
     ]
    }
   ],
   "source": [
    "#hide_input\n",
    "print(df_table.to_string(index=False))"
   ]
  },
  {
   "cell_type": "code",
   "execution_count": null,
   "metadata": {
    "papermill": {
     "duration": 0.019597,
     "end_time": "2020-12-09T13:41:09.346358",
     "exception": false,
     "start_time": "2020-12-09T13:41:09.326761",
     "status": "completed"
    },
    "tags": []
   },
   "outputs": [],
   "source": []
  },
  {
   "cell_type": "code",
   "execution_count": null,
   "metadata": {
    "papermill": {
     "duration": 0.019992,
     "end_time": "2020-12-09T13:41:09.386110",
     "exception": false,
     "start_time": "2020-12-09T13:41:09.366118",
     "status": "completed"
    },
    "tags": []
   },
   "outputs": [],
   "source": []
  }
 ],
 "metadata": {
  "kernelspec": {
   "display_name": "Python 3",
   "language": "python",
   "name": "python3"
  },
  "language_info": {
   "codemirror_mode": {
    "name": "ipython",
    "version": 3
   },
   "file_extension": ".py",
   "mimetype": "text/x-python",
   "name": "python",
   "nbconvert_exporter": "python",
   "pygments_lexer": "ipython3",
   "version": "3.6.12"
  },
  "papermill": {
   "duration": 16.228265,
   "end_time": "2020-12-09T13:41:09.816720",
   "environment_variables": {},
   "exception": null,
   "input_path": "latest.ipynb",
   "output_path": "latest.ipynb",
   "parameters": {},
   "start_time": "2020-12-09T13:40:53.588455",
   "version": "2.1.2"
  }
 },
 "nbformat": 4,
 "nbformat_minor": 4
}