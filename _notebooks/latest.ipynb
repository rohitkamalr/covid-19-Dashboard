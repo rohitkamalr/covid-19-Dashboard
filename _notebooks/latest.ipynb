{
 "cells": [
  {
   "cell_type": "markdown",
   "metadata": {
    "papermill": {
     "duration": 0.031411,
     "end_time": "2020-10-20T06:44:16.372852",
     "exception": false,
     "start_time": "2020-10-20T06:44:16.341441",
     "status": "completed"
    },
    "tags": []
   },
   "source": [
    "# Latest COVID-19 India Matplotlib Overview"
   ]
  },
  {
   "cell_type": "code",
   "execution_count": 1,
   "metadata": {
    "execution": {
     "iopub.execute_input": "2020-10-20T06:44:16.411220Z",
     "iopub.status.busy": "2020-10-20T06:44:16.410612Z",
     "iopub.status.idle": "2020-10-20T06:44:16.992627Z",
     "shell.execute_reply": "2020-10-20T06:44:16.992092Z"
    },
    "papermill": {
     "duration": 0.6043,
     "end_time": "2020-10-20T06:44:16.992799",
     "exception": false,
     "start_time": "2020-10-20T06:44:16.388499",
     "status": "completed"
    },
    "tags": []
   },
   "outputs": [],
   "source": [
    "#hide\n",
    "import pandas as pd\n",
    "import numpy as np\n",
    "import requests\n",
    "import json\n",
    "import matplotlib.pyplot as plt\n",
    "import matplotlib.dates as mdates\n",
    "import matplotlib as mpl\n",
    "from IPython.core.display import display,HTML\n",
    "%matplotlib inline\n",
    "from datetime import date"
   ]
  },
  {
   "cell_type": "code",
   "execution_count": 2,
   "metadata": {
    "execution": {
     "iopub.execute_input": "2020-10-20T06:44:17.036679Z",
     "iopub.status.busy": "2020-10-20T06:44:17.036086Z",
     "iopub.status.idle": "2020-10-20T06:44:17.394073Z",
     "shell.execute_reply": "2020-10-20T06:44:17.393483Z"
    },
    "papermill": {
     "duration": 0.383228,
     "end_time": "2020-10-20T06:44:17.394204",
     "exception": false,
     "start_time": "2020-10-20T06:44:17.010976",
     "status": "completed"
    },
    "tags": []
   },
   "outputs": [],
   "source": [
    "#hide\n",
    "df  = pd.read_csv('https://api.covid19india.org/csv/latest/states.csv')\n",
    "df = df[['Date','State','Confirmed','Deceased']]\n",
    "df = df.rename(columns={'Confirmed':'Cases', \"Deceased\":'Deaths'})\n",
    "df_cases = df[[\"Date\",'State','Cases']]\n",
    "df_deaths = df[['Date','State','Deaths']]\n",
    "df_cases1 = df_cases.groupby('Date')\n",
    "df_deaths1= df_deaths.groupby('Date')"
   ]
  },
  {
   "cell_type": "code",
   "execution_count": 3,
   "metadata": {
    "execution": {
     "iopub.execute_input": "2020-10-20T06:44:17.431303Z",
     "iopub.status.busy": "2020-10-20T06:44:17.430720Z",
     "iopub.status.idle": "2020-10-20T06:44:17.447483Z",
     "shell.execute_reply": "2020-10-20T06:44:17.447919Z"
    },
    "papermill": {
     "duration": 0.038737,
     "end_time": "2020-10-20T06:44:17.448056",
     "exception": false,
     "start_time": "2020-10-20T06:44:17.409319",
     "status": "completed"
    },
    "tags": []
   },
   "outputs": [],
   "source": [
    "#hide\n",
    "df_snap = pd.read_csv('data/SnapshotCases-28-July.csv')\n",
    "arr_states = df_snap['states'].unique()\n",
    "arr_dates = df['Date'].unique()\n",
    "df_snap = df_snap.set_index('states')"
   ]
  },
  {
   "cell_type": "code",
   "execution_count": 4,
   "metadata": {
    "execution": {
     "iopub.execute_input": "2020-10-20T06:44:17.485816Z",
     "iopub.status.busy": "2020-10-20T06:44:17.485220Z",
     "iopub.status.idle": "2020-10-20T06:44:17.488324Z",
     "shell.execute_reply": "2020-10-20T06:44:17.488814Z"
    },
    "papermill": {
     "duration": 0.025981,
     "end_time": "2020-10-20T06:44:17.488956",
     "exception": false,
     "start_time": "2020-10-20T06:44:17.462975",
     "status": "completed"
    },
    "tags": []
   },
   "outputs": [
    {
     "data": {
      "text/plain": [
       "array(['Andaman and Nicobar Islands', 'Andhra Pradesh',\n",
       "       'Arunachal Pradesh', 'Assam', 'Bihar', 'Chandigarh',\n",
       "       'Dadra and Nagar Haveli and Daman and Diu', 'Delhi', 'Goa',\n",
       "       'Gujarat', 'Haryana', 'Himachal Pradesh', 'Jammu and Kashmir',\n",
       "       'Jharkhand', 'Karnataka', 'Kerala', 'Lakshadweep',\n",
       "       'Madhya Pradesh', 'Maharashtra', 'Manipur', 'Meghalaya', 'Mizoram',\n",
       "       'Nagaland', 'Odisha', 'Puducherry', 'Punjab', 'Rajasthan',\n",
       "       'Sikkim', 'Tamil Nadu', 'Telangana', 'Tripura', 'Uttar Pradesh',\n",
       "       'West Bengal', 'Chhattisgarh', 'Ladakh', 'Uttarakhand'],\n",
       "      dtype=object)"
      ]
     },
     "execution_count": 4,
     "metadata": {},
     "output_type": "execute_result"
    }
   ],
   "source": [
    "#hide\n",
    "arr_states[-9] = 'Puducherry'\n",
    "arr_states[-10] = 'Odisha'\n",
    "arr_states[6] = 'Dadra and Nagar Haveli and Daman and Diu'\n",
    "arr_states = np.append(arr_states,np.array(['Chhattisgarh','Ladakh','Uttarakhand']))\n",
    "arr_states"
   ]
  },
  {
   "cell_type": "code",
   "execution_count": 5,
   "metadata": {
    "execution": {
     "iopub.execute_input": "2020-10-20T06:44:17.529937Z",
     "iopub.status.busy": "2020-10-20T06:44:17.529357Z",
     "iopub.status.idle": "2020-10-20T06:44:17.537023Z",
     "shell.execute_reply": "2020-10-20T06:44:17.536493Z"
    },
    "papermill": {
     "duration": 0.032769,
     "end_time": "2020-10-20T06:44:17.537150",
     "exception": false,
     "start_time": "2020-10-20T06:44:17.504381",
     "status": "completed"
    },
    "tags": []
   },
   "outputs": [],
   "source": [
    "#hide\n",
    "dates = []\n",
    "for i in arr_dates:\n",
    "    if i>='2020-07-01':\n",
    "        dates.append(i)\n",
    "dict = {'states':dates}\n",
    "for i in arr_states:\n",
    "    dict[i] = [0]*len(dates)\n",
    "dft_cases = pd.DataFrame(dict)\n",
    "dft_deaths = pd.DataFrame(dict)\n"
   ]
  },
  {
   "cell_type": "code",
   "execution_count": 6,
   "metadata": {
    "execution": {
     "iopub.execute_input": "2020-10-20T06:44:17.573636Z",
     "iopub.status.busy": "2020-10-20T06:44:17.573056Z",
     "iopub.status.idle": "2020-10-20T06:44:19.064319Z",
     "shell.execute_reply": "2020-10-20T06:44:19.064836Z"
    },
    "papermill": {
     "duration": 1.512435,
     "end_time": "2020-10-20T06:44:19.065003",
     "exception": false,
     "start_time": "2020-10-20T06:44:17.552568",
     "status": "completed"
    },
    "tags": []
   },
   "outputs": [],
   "source": [
    "#hide\n",
    "for i in range(len(dates)):\n",
    "    df1_deaths = df_deaths1.get_group(dates[i])\n",
    "    for j in range(len(df1_deaths.index)):\n",
    "        if df1_deaths.iloc[j,1] in arr_states:\n",
    "            dft_deaths.loc[i,df1_deaths.iloc[j,1]] = df1_deaths.iloc[j,2]\n",
    "dft_deaths = dft_deaths.set_index('states')"
   ]
  },
  {
   "cell_type": "code",
   "execution_count": 7,
   "metadata": {
    "execution": {
     "iopub.execute_input": "2020-10-20T06:44:19.102518Z",
     "iopub.status.busy": "2020-10-20T06:44:19.101919Z",
     "iopub.status.idle": "2020-10-20T06:44:20.601824Z",
     "shell.execute_reply": "2020-10-20T06:44:20.601257Z"
    },
    "papermill": {
     "duration": 1.521084,
     "end_time": "2020-10-20T06:44:20.601959",
     "exception": false,
     "start_time": "2020-10-20T06:44:19.080875",
     "status": "completed"
    },
    "tags": []
   },
   "outputs": [],
   "source": [
    "#hide\n",
    "for i in range(len(dates)):\n",
    "    df1_cases = df_cases1.get_group(dates[i])\n",
    "    for j in range(len(df1_cases.index)):\n",
    "        if df1_cases.iloc[j,1] in arr_states:\n",
    "            dft_cases.loc[i,df1_cases.iloc[j,1]] = df1_cases.iloc[j,2]\n",
    "dft_cases = dft_cases.set_index('states')"
   ]
  },
  {
   "cell_type": "code",
   "execution_count": 8,
   "metadata": {
    "execution": {
     "iopub.execute_input": "2020-10-20T06:44:20.728402Z",
     "iopub.status.busy": "2020-10-20T06:44:20.727815Z",
     "iopub.status.idle": "2020-10-20T06:44:20.731744Z",
     "shell.execute_reply": "2020-10-20T06:44:20.731234Z"
    },
    "papermill": {
     "duration": 0.114174,
     "end_time": "2020-10-20T06:44:20.731871",
     "exception": false,
     "start_time": "2020-10-20T06:44:20.617697",
     "status": "completed"
    },
    "tags": []
   },
   "outputs": [],
   "source": [
    "#hide\n",
    "dft_cases = dft_cases.T\n",
    "dft_deaths = dft_deaths.T\n",
    "dt_today = dates[-1]\n",
    "dt_yday = dates[-2]"
   ]
  },
  {
   "cell_type": "code",
   "execution_count": 9,
   "metadata": {
    "execution": {
     "iopub.execute_input": "2020-10-20T06:44:20.769274Z",
     "iopub.status.busy": "2020-10-20T06:44:20.768058Z",
     "iopub.status.idle": "2020-10-20T06:44:20.773076Z",
     "shell.execute_reply": "2020-10-20T06:44:20.772531Z"
    },
    "papermill": {
     "duration": 0.026246,
     "end_time": "2020-10-20T06:44:20.773203",
     "exception": false,
     "start_time": "2020-10-20T06:44:20.746957",
     "status": "completed"
    },
    "tags": []
   },
   "outputs": [],
   "source": [
    "#hide\n",
    "dft_cases = dft_cases.reset_index()\n",
    "dft_deaths = dft_deaths.reset_index()\n",
    "dft_cases = dft_cases.rename(columns = {'index':'state'})\n",
    "dft_deaths = dft_deaths.rename(columns = {'index':'state'})"
   ]
  },
  {
   "cell_type": "code",
   "execution_count": 10,
   "metadata": {
    "execution": {
     "iopub.execute_input": "2020-10-20T06:44:20.813948Z",
     "iopub.status.busy": "2020-10-20T06:44:20.813352Z",
     "iopub.status.idle": "2020-10-20T06:44:20.817366Z",
     "shell.execute_reply": "2020-10-20T06:44:20.816889Z"
    },
    "papermill": {
     "duration": 0.0292,
     "end_time": "2020-10-20T06:44:20.817492",
     "exception": false,
     "start_time": "2020-10-20T06:44:20.788292",
     "status": "completed"
    },
    "tags": []
   },
   "outputs": [],
   "source": [
    "#hide\n",
    "dfc_cases = dft_cases.groupby('state')[dt_today].sum()\n",
    "dfc_deaths = dft_deaths.groupby('state')[dt_today].sum()\n",
    "dfp_cases = dft_cases.groupby('state')[dt_yday].sum()\n",
    "dfp_deaths = dft_deaths.groupby('state')[dt_yday].sum()"
   ]
  },
  {
   "cell_type": "code",
   "execution_count": 11,
   "metadata": {
    "execution": {
     "iopub.execute_input": "2020-10-20T06:44:20.861182Z",
     "iopub.status.busy": "2020-10-20T06:44:20.857938Z",
     "iopub.status.idle": "2020-10-20T06:44:20.867639Z",
     "shell.execute_reply": "2020-10-20T06:44:20.867141Z"
    },
    "papermill": {
     "duration": 0.035333,
     "end_time": "2020-10-20T06:44:20.867760",
     "exception": false,
     "start_time": "2020-10-20T06:44:20.832427",
     "status": "completed"
    },
    "tags": []
   },
   "outputs": [
    {
     "data": {
      "text/html": [
       "<div>\n",
       "<style scoped>\n",
       "    .dataframe tbody tr th:only-of-type {\n",
       "        vertical-align: middle;\n",
       "    }\n",
       "\n",
       "    .dataframe tbody tr th {\n",
       "        vertical-align: top;\n",
       "    }\n",
       "\n",
       "    .dataframe thead th {\n",
       "        text-align: right;\n",
       "    }\n",
       "</style>\n",
       "<table border=\"1\" class=\"dataframe\">\n",
       "  <thead>\n",
       "    <tr style=\"text-align: right;\">\n",
       "      <th></th>\n",
       "      <th>states</th>\n",
       "      <th>Cases</th>\n",
       "      <th>Deaths</th>\n",
       "      <th>PCases</th>\n",
       "      <th>PDeaths</th>\n",
       "    </tr>\n",
       "  </thead>\n",
       "  <tbody>\n",
       "    <tr>\n",
       "      <th>0</th>\n",
       "      <td>Maharashtra</td>\n",
       "      <td>1601365</td>\n",
       "      <td>42240</td>\n",
       "      <td>1601365</td>\n",
       "      <td>42240</td>\n",
       "    </tr>\n",
       "    <tr>\n",
       "      <th>1</th>\n",
       "      <td>Andhra Pradesh</td>\n",
       "      <td>786050</td>\n",
       "      <td>6453</td>\n",
       "      <td>786050</td>\n",
       "      <td>6453</td>\n",
       "    </tr>\n",
       "    <tr>\n",
       "      <th>2</th>\n",
       "      <td>Karnataka</td>\n",
       "      <td>770604</td>\n",
       "      <td>10542</td>\n",
       "      <td>770604</td>\n",
       "      <td>10542</td>\n",
       "    </tr>\n",
       "    <tr>\n",
       "      <th>3</th>\n",
       "      <td>Tamil Nadu</td>\n",
       "      <td>690936</td>\n",
       "      <td>10694</td>\n",
       "      <td>690936</td>\n",
       "      <td>10694</td>\n",
       "    </tr>\n",
       "    <tr>\n",
       "      <th>4</th>\n",
       "      <td>Uttar Pradesh</td>\n",
       "      <td>456865</td>\n",
       "      <td>6685</td>\n",
       "      <td>456865</td>\n",
       "      <td>6685</td>\n",
       "    </tr>\n",
       "  </tbody>\n",
       "</table>\n",
       "</div>"
      ],
      "text/plain": [
       "           states    Cases  Deaths   PCases  PDeaths\n",
       "0     Maharashtra  1601365   42240  1601365    42240\n",
       "1  Andhra Pradesh   786050    6453   786050     6453\n",
       "2       Karnataka   770604   10542   770604    10542\n",
       "3      Tamil Nadu   690936   10694   690936    10694\n",
       "4   Uttar Pradesh   456865    6685   456865     6685"
      ]
     },
     "execution_count": 11,
     "metadata": {},
     "output_type": "execute_result"
    }
   ],
   "source": [
    "#hide\n",
    "df_table = pd.DataFrame({'states': dfc_cases.index, 'Cases': dfc_cases.values, 'Deaths': dfc_deaths.values, 'PCases': dfp_cases.values, 'PDeaths': dfp_deaths.values}).set_index('states')\n",
    "df_table = df_table.sort_values(by = ['Cases','Deaths'], ascending = [False, False])\n",
    "df_table = df_table.reset_index()\n",
    "df_table.head()"
   ]
  },
  {
   "cell_type": "code",
   "execution_count": 12,
   "metadata": {
    "execution": {
     "iopub.execute_input": "2020-10-20T06:44:20.905016Z",
     "iopub.status.busy": "2020-10-20T06:44:20.904385Z",
     "iopub.status.idle": "2020-10-20T06:44:20.913536Z",
     "shell.execute_reply": "2020-10-20T06:44:20.913053Z"
    },
    "papermill": {
     "duration": 0.030081,
     "end_time": "2020-10-20T06:44:20.913664",
     "exception": false,
     "start_time": "2020-10-20T06:44:20.883583",
     "status": "completed"
    },
    "tags": []
   },
   "outputs": [],
   "source": [
    "#hide\n",
    "for c in 'Cases, Deaths'.split(', '):\n",
    "    df_table[f'{c} (+)'] = (df_table[c] - df_table[f'P{c}']).clip(0)\n",
    "df_table['Fatality Rate'] = (100* df_table['Deaths']/ df_table['Cases']).round(2)"
   ]
  },
  {
   "cell_type": "code",
   "execution_count": 13,
   "metadata": {
    "execution": {
     "iopub.execute_input": "2020-10-20T06:44:20.955522Z",
     "iopub.status.busy": "2020-10-20T06:44:20.954936Z",
     "iopub.status.idle": "2020-10-20T06:44:20.958402Z",
     "shell.execute_reply": "2020-10-20T06:44:20.957905Z"
    },
    "papermill": {
     "duration": 0.029069,
     "end_time": "2020-10-20T06:44:20.958525",
     "exception": false,
     "start_time": "2020-10-20T06:44:20.929456",
     "status": "completed"
    },
    "tags": []
   },
   "outputs": [
    {
     "data": {
      "text/html": [
       "<div>\n",
       "<style scoped>\n",
       "    .dataframe tbody tr th:only-of-type {\n",
       "        vertical-align: middle;\n",
       "    }\n",
       "\n",
       "    .dataframe tbody tr th {\n",
       "        vertical-align: top;\n",
       "    }\n",
       "\n",
       "    .dataframe thead th {\n",
       "        text-align: right;\n",
       "    }\n",
       "</style>\n",
       "<table border=\"1\" class=\"dataframe\">\n",
       "  <thead>\n",
       "    <tr style=\"text-align: right;\">\n",
       "      <th></th>\n",
       "      <th>states</th>\n",
       "      <th>Cases</th>\n",
       "      <th>Deaths</th>\n",
       "      <th>PCases</th>\n",
       "      <th>PDeaths</th>\n",
       "      <th>Cases (+)</th>\n",
       "      <th>Deaths (+)</th>\n",
       "      <th>Fatality Rate</th>\n",
       "    </tr>\n",
       "  </thead>\n",
       "  <tbody>\n",
       "    <tr>\n",
       "      <th>0</th>\n",
       "      <td>Maharashtra</td>\n",
       "      <td>1601365</td>\n",
       "      <td>42240</td>\n",
       "      <td>1601365</td>\n",
       "      <td>42240</td>\n",
       "      <td>0</td>\n",
       "      <td>0</td>\n",
       "      <td>2.64</td>\n",
       "    </tr>\n",
       "    <tr>\n",
       "      <th>1</th>\n",
       "      <td>Andhra Pradesh</td>\n",
       "      <td>786050</td>\n",
       "      <td>6453</td>\n",
       "      <td>786050</td>\n",
       "      <td>6453</td>\n",
       "      <td>0</td>\n",
       "      <td>0</td>\n",
       "      <td>0.82</td>\n",
       "    </tr>\n",
       "    <tr>\n",
       "      <th>2</th>\n",
       "      <td>Karnataka</td>\n",
       "      <td>770604</td>\n",
       "      <td>10542</td>\n",
       "      <td>770604</td>\n",
       "      <td>10542</td>\n",
       "      <td>0</td>\n",
       "      <td>0</td>\n",
       "      <td>1.37</td>\n",
       "    </tr>\n",
       "    <tr>\n",
       "      <th>3</th>\n",
       "      <td>Tamil Nadu</td>\n",
       "      <td>690936</td>\n",
       "      <td>10694</td>\n",
       "      <td>690936</td>\n",
       "      <td>10694</td>\n",
       "      <td>0</td>\n",
       "      <td>0</td>\n",
       "      <td>1.55</td>\n",
       "    </tr>\n",
       "    <tr>\n",
       "      <th>4</th>\n",
       "      <td>Uttar Pradesh</td>\n",
       "      <td>456865</td>\n",
       "      <td>6685</td>\n",
       "      <td>456865</td>\n",
       "      <td>6685</td>\n",
       "      <td>0</td>\n",
       "      <td>0</td>\n",
       "      <td>1.46</td>\n",
       "    </tr>\n",
       "  </tbody>\n",
       "</table>\n",
       "</div>"
      ],
      "text/plain": [
       "           states    Cases  Deaths   PCases  PDeaths  Cases (+)  Deaths (+)  \\\n",
       "0     Maharashtra  1601365   42240  1601365    42240          0           0   \n",
       "1  Andhra Pradesh   786050    6453   786050     6453          0           0   \n",
       "2       Karnataka   770604   10542   770604    10542          0           0   \n",
       "3      Tamil Nadu   690936   10694   690936    10694          0           0   \n",
       "4   Uttar Pradesh   456865    6685   456865     6685          0           0   \n",
       "\n",
       "   Fatality Rate  \n",
       "0           2.64  \n",
       "1           0.82  \n",
       "2           1.37  \n",
       "3           1.55  \n",
       "4           1.46  "
      ]
     },
     "execution_count": 13,
     "metadata": {},
     "output_type": "execute_result"
    }
   ],
   "source": [
    "#hide\n",
    "df_table.head()"
   ]
  },
  {
   "cell_type": "code",
   "execution_count": 14,
   "metadata": {
    "execution": {
     "iopub.execute_input": "2020-10-20T06:44:20.999146Z",
     "iopub.status.busy": "2020-10-20T06:44:20.998554Z",
     "iopub.status.idle": "2020-10-20T06:44:21.015570Z",
     "shell.execute_reply": "2020-10-20T06:44:21.015086Z"
    },
    "papermill": {
     "duration": 0.040917,
     "end_time": "2020-10-20T06:44:21.015704",
     "exception": false,
     "start_time": "2020-10-20T06:44:20.974787",
     "status": "completed"
    },
    "tags": []
   },
   "outputs": [
    {
     "data": {
      "text/plain": [
       "{'updated': '2020-10-20',\n",
       " 'since': '2020-10-19',\n",
       " 'Cases': 7596667,\n",
       " 'PCases': 7594736,\n",
       " 'Deaths': 115252,\n",
       " 'PDeaths': 115236,\n",
       " 'Cases (+)': 1931,\n",
       " 'Deaths (+)': 16}"
      ]
     },
     "execution_count": 14,
     "metadata": {},
     "output_type": "execute_result"
    }
   ],
   "source": [
    "#hide\n",
    "summary = {'updated':dates[-1], 'since':dates[-2]}\n",
    "list_names = ['Cases', 'PCases', 'Deaths', 'PDeaths', 'Cases (+)', 'Deaths (+)']\n",
    "for name in list_names:\n",
    "    summary[name] = df_table.sum()[name]\n",
    "summary"
   ]
  },
  {
   "cell_type": "code",
   "execution_count": 15,
   "metadata": {
    "execution": {
     "iopub.execute_input": "2020-10-20T06:44:21.054225Z",
     "iopub.status.busy": "2020-10-20T06:44:21.053635Z",
     "iopub.status.idle": "2020-10-20T06:44:21.056080Z",
     "shell.execute_reply": "2020-10-20T06:44:21.055576Z"
    },
    "papermill": {
     "duration": 0.02347,
     "end_time": "2020-10-20T06:44:21.056205",
     "exception": false,
     "start_time": "2020-10-20T06:44:21.032735",
     "status": "completed"
    },
    "tags": []
   },
   "outputs": [],
   "source": [
    "#hide\n",
    "overview = '''\n",
    "<!-- #######  HTML!! #########-->\n",
    "<h1 style=\"color: #5e9ca0; text-align: center;\">India</h1>\n",
    "<p style=\"text-align: center;\">Last update: <strong>{update}</strong></p>\n",
    "<p style=\"text-align: center;\">Confirmed cases:</p>\n",
    "<p style=\"text-align: center;font-size:24px;\">{cases} (<span style=\"color: #ff0000;\">+{new}</span>)</p>\n",
    "<p style=\"text-align: center;\">Confirmed deaths:</p>\n",
    "<p style=\"text-align: center;font-size:24px;\">{deaths} (<span style=\"color: #ff0000;\">+{dnew}</span>)</p>\n",
    "'''"
   ]
  },
  {
   "cell_type": "code",
   "execution_count": 16,
   "metadata": {
    "execution": {
     "iopub.execute_input": "2020-10-20T06:44:21.095659Z",
     "iopub.status.busy": "2020-10-20T06:44:21.095068Z",
     "iopub.status.idle": "2020-10-20T06:44:21.098718Z",
     "shell.execute_reply": "2020-10-20T06:44:21.098234Z"
    },
    "papermill": {
     "duration": 0.02592,
     "end_time": "2020-10-20T06:44:21.098842",
     "exception": false,
     "start_time": "2020-10-20T06:44:21.072922",
     "status": "completed"
    },
    "tags": []
   },
   "outputs": [
    {
     "data": {
      "text/html": [
       "\n",
       "<!-- #######  HTML!! #########-->\n",
       "<h1 style=\"color: #5e9ca0; text-align: center;\">India</h1>\n",
       "<p style=\"text-align: center;\">Last update: <strong>2020-10-20</strong></p>\n",
       "<p style=\"text-align: center;\">Confirmed cases:</p>\n",
       "<p style=\"text-align: center;font-size:24px;\">7596667 (<span style=\"color: #ff0000;\">+1931</span>)</p>\n",
       "<p style=\"text-align: center;\">Confirmed deaths:</p>\n",
       "<p style=\"text-align: center;font-size:24px;\">115252 (<span style=\"color: #ff0000;\">+16</span>)</p>\n"
      ],
      "text/plain": [
       "<IPython.core.display.HTML object>"
      ]
     },
     "metadata": {},
     "output_type": "display_data"
    }
   ],
   "source": [
    "#hide_input\n",
    "update = summary['updated']\n",
    "cases = summary['Cases']\n",
    "new = summary['Cases (+)']\n",
    "deaths = summary['Deaths']\n",
    "dnew = summary['Deaths (+)']\n",
    "\n",
    "html = HTML(overview.format(update=update, cases=cases,new=new,deaths=deaths,dnew=dnew))\n",
    "\n",
    "display(html)"
   ]
  },
  {
   "cell_type": "code",
   "execution_count": 17,
   "metadata": {
    "execution": {
     "iopub.execute_input": "2020-10-20T06:44:21.139662Z",
     "iopub.status.busy": "2020-10-20T06:44:21.139071Z",
     "iopub.status.idle": "2020-10-20T06:44:21.150130Z",
     "shell.execute_reply": "2020-10-20T06:44:21.149627Z"
    },
    "papermill": {
     "duration": 0.034391,
     "end_time": "2020-10-20T06:44:21.150253",
     "exception": false,
     "start_time": "2020-10-20T06:44:21.115862",
     "status": "completed"
    },
    "tags": []
   },
   "outputs": [],
   "source": [
    "#hide\n",
    "dt_cols = list(dft_cases.columns[1:])\n",
    "dft_ct_new_cases = dft_cases.groupby('state')[dt_cols].sum().diff(axis=1).fillna(0).astype(int)\n",
    "dft_ct_new_cases.sort_values(by = dates[-1], ascending = False,inplace = True)"
   ]
  },
  {
   "cell_type": "code",
   "execution_count": 18,
   "metadata": {
    "execution": {
     "iopub.execute_input": "2020-10-20T06:44:21.191108Z",
     "iopub.status.busy": "2020-10-20T06:44:21.190512Z",
     "iopub.status.idle": "2020-10-20T06:44:21.203901Z",
     "shell.execute_reply": "2020-10-20T06:44:21.203402Z"
    },
    "papermill": {
     "duration": 0.036624,
     "end_time": "2020-10-20T06:44:21.204026",
     "exception": false,
     "start_time": "2020-10-20T06:44:21.167402",
     "status": "completed"
    },
    "tags": []
   },
   "outputs": [
    {
     "data": {
      "text/html": [
       "<div>\n",
       "<style scoped>\n",
       "    .dataframe tbody tr th:only-of-type {\n",
       "        vertical-align: middle;\n",
       "    }\n",
       "\n",
       "    .dataframe tbody tr th {\n",
       "        vertical-align: top;\n",
       "    }\n",
       "\n",
       "    .dataframe thead th {\n",
       "        text-align: right;\n",
       "    }\n",
       "</style>\n",
       "<table border=\"1\" class=\"dataframe\">\n",
       "  <thead>\n",
       "    <tr style=\"text-align: right;\">\n",
       "      <th>states</th>\n",
       "      <th>2020-07-01</th>\n",
       "      <th>2020-07-02</th>\n",
       "      <th>2020-07-03</th>\n",
       "      <th>2020-07-04</th>\n",
       "      <th>2020-07-05</th>\n",
       "      <th>2020-07-06</th>\n",
       "      <th>2020-07-07</th>\n",
       "      <th>2020-07-08</th>\n",
       "      <th>2020-07-09</th>\n",
       "      <th>2020-07-10</th>\n",
       "      <th>...</th>\n",
       "      <th>2020-10-11</th>\n",
       "      <th>2020-10-12</th>\n",
       "      <th>2020-10-13</th>\n",
       "      <th>2020-10-14</th>\n",
       "      <th>2020-10-15</th>\n",
       "      <th>2020-10-16</th>\n",
       "      <th>2020-10-17</th>\n",
       "      <th>2020-10-18</th>\n",
       "      <th>2020-10-19</th>\n",
       "      <th>2020-10-20</th>\n",
       "    </tr>\n",
       "    <tr>\n",
       "      <th>state</th>\n",
       "      <th></th>\n",
       "      <th></th>\n",
       "      <th></th>\n",
       "      <th></th>\n",
       "      <th></th>\n",
       "      <th></th>\n",
       "      <th></th>\n",
       "      <th></th>\n",
       "      <th></th>\n",
       "      <th></th>\n",
       "      <th></th>\n",
       "      <th></th>\n",
       "      <th></th>\n",
       "      <th></th>\n",
       "      <th></th>\n",
       "      <th></th>\n",
       "      <th></th>\n",
       "      <th></th>\n",
       "      <th></th>\n",
       "      <th></th>\n",
       "      <th></th>\n",
       "    </tr>\n",
       "  </thead>\n",
       "  <tbody>\n",
       "    <tr>\n",
       "      <th>Odisha</th>\n",
       "      <td>0</td>\n",
       "      <td>229</td>\n",
       "      <td>561</td>\n",
       "      <td>495</td>\n",
       "      <td>469</td>\n",
       "      <td>456</td>\n",
       "      <td>571</td>\n",
       "      <td>527</td>\n",
       "      <td>577</td>\n",
       "      <td>755</td>\n",
       "      <td>...</td>\n",
       "      <td>2546</td>\n",
       "      <td>2423</td>\n",
       "      <td>2275</td>\n",
       "      <td>2604</td>\n",
       "      <td>2470</td>\n",
       "      <td>2138</td>\n",
       "      <td>2196</td>\n",
       "      <td>2019</td>\n",
       "      <td>1982</td>\n",
       "      <td>1904</td>\n",
       "    </tr>\n",
       "    <tr>\n",
       "      <th>Mizoram</th>\n",
       "      <td>0</td>\n",
       "      <td>2</td>\n",
       "      <td>0</td>\n",
       "      <td>2</td>\n",
       "      <td>22</td>\n",
       "      <td>11</td>\n",
       "      <td>1</td>\n",
       "      <td>5</td>\n",
       "      <td>0</td>\n",
       "      <td>23</td>\n",
       "      <td>...</td>\n",
       "      <td>13</td>\n",
       "      <td>9</td>\n",
       "      <td>18</td>\n",
       "      <td>10</td>\n",
       "      <td>8</td>\n",
       "      <td>9</td>\n",
       "      <td>16</td>\n",
       "      <td>8</td>\n",
       "      <td>0</td>\n",
       "      <td>27</td>\n",
       "    </tr>\n",
       "    <tr>\n",
       "      <th>Andaman and Nicobar Islands</th>\n",
       "      <td>0</td>\n",
       "      <td>9</td>\n",
       "      <td>7</td>\n",
       "      <td>3</td>\n",
       "      <td>6</td>\n",
       "      <td>16</td>\n",
       "      <td>6</td>\n",
       "      <td>2</td>\n",
       "      <td>7</td>\n",
       "      <td>0</td>\n",
       "      <td>...</td>\n",
       "      <td>13</td>\n",
       "      <td>18</td>\n",
       "      <td>13</td>\n",
       "      <td>10</td>\n",
       "      <td>16</td>\n",
       "      <td>10</td>\n",
       "      <td>11</td>\n",
       "      <td>25</td>\n",
       "      <td>18</td>\n",
       "      <td>0</td>\n",
       "    </tr>\n",
       "    <tr>\n",
       "      <th>Andhra Pradesh</th>\n",
       "      <td>0</td>\n",
       "      <td>845</td>\n",
       "      <td>837</td>\n",
       "      <td>765</td>\n",
       "      <td>998</td>\n",
       "      <td>1322</td>\n",
       "      <td>1178</td>\n",
       "      <td>1062</td>\n",
       "      <td>1555</td>\n",
       "      <td>1608</td>\n",
       "      <td>...</td>\n",
       "      <td>5210</td>\n",
       "      <td>3224</td>\n",
       "      <td>4622</td>\n",
       "      <td>3892</td>\n",
       "      <td>4038</td>\n",
       "      <td>3967</td>\n",
       "      <td>3676</td>\n",
       "      <td>3986</td>\n",
       "      <td>2918</td>\n",
       "      <td>0</td>\n",
       "    </tr>\n",
       "    <tr>\n",
       "      <th>Maharashtra</th>\n",
       "      <td>0</td>\n",
       "      <td>6328</td>\n",
       "      <td>6364</td>\n",
       "      <td>7074</td>\n",
       "      <td>6555</td>\n",
       "      <td>5368</td>\n",
       "      <td>5134</td>\n",
       "      <td>6603</td>\n",
       "      <td>6875</td>\n",
       "      <td>7862</td>\n",
       "      <td>...</td>\n",
       "      <td>10792</td>\n",
       "      <td>7089</td>\n",
       "      <td>8522</td>\n",
       "      <td>10552</td>\n",
       "      <td>10226</td>\n",
       "      <td>11447</td>\n",
       "      <td>10259</td>\n",
       "      <td>9060</td>\n",
       "      <td>5984</td>\n",
       "      <td>0</td>\n",
       "    </tr>\n",
       "  </tbody>\n",
       "</table>\n",
       "<p>5 rows × 112 columns</p>\n",
       "</div>"
      ],
      "text/plain": [
       "states                       2020-07-01  2020-07-02  2020-07-03  2020-07-04  \\\n",
       "state                                                                         \n",
       "Odisha                                0         229         561         495   \n",
       "Mizoram                               0           2           0           2   \n",
       "Andaman and Nicobar Islands           0           9           7           3   \n",
       "Andhra Pradesh                        0         845         837         765   \n",
       "Maharashtra                           0        6328        6364        7074   \n",
       "\n",
       "states                       2020-07-05  2020-07-06  2020-07-07  2020-07-08  \\\n",
       "state                                                                         \n",
       "Odisha                              469         456         571         527   \n",
       "Mizoram                              22          11           1           5   \n",
       "Andaman and Nicobar Islands           6          16           6           2   \n",
       "Andhra Pradesh                      998        1322        1178        1062   \n",
       "Maharashtra                        6555        5368        5134        6603   \n",
       "\n",
       "states                       2020-07-09  2020-07-10  ...  2020-10-11  \\\n",
       "state                                                ...               \n",
       "Odisha                              577         755  ...        2546   \n",
       "Mizoram                               0          23  ...          13   \n",
       "Andaman and Nicobar Islands           7           0  ...          13   \n",
       "Andhra Pradesh                     1555        1608  ...        5210   \n",
       "Maharashtra                        6875        7862  ...       10792   \n",
       "\n",
       "states                       2020-10-12  2020-10-13  2020-10-14  2020-10-15  \\\n",
       "state                                                                         \n",
       "Odisha                             2423        2275        2604        2470   \n",
       "Mizoram                               9          18          10           8   \n",
       "Andaman and Nicobar Islands          18          13          10          16   \n",
       "Andhra Pradesh                     3224        4622        3892        4038   \n",
       "Maharashtra                        7089        8522       10552       10226   \n",
       "\n",
       "states                       2020-10-16  2020-10-17  2020-10-18  2020-10-19  \\\n",
       "state                                                                         \n",
       "Odisha                             2138        2196        2019        1982   \n",
       "Mizoram                               9          16           8           0   \n",
       "Andaman and Nicobar Islands          10          11          25          18   \n",
       "Andhra Pradesh                     3967        3676        3986        2918   \n",
       "Maharashtra                       11447       10259        9060        5984   \n",
       "\n",
       "states                       2020-10-20  \n",
       "state                                    \n",
       "Odisha                             1904  \n",
       "Mizoram                              27  \n",
       "Andaman and Nicobar Islands           0  \n",
       "Andhra Pradesh                        0  \n",
       "Maharashtra                           0  \n",
       "\n",
       "[5 rows x 112 columns]"
      ]
     },
     "execution_count": 18,
     "metadata": {},
     "output_type": "execute_result"
    }
   ],
   "source": [
    "#hide\n",
    "dft_ct_new_cases.head()"
   ]
  },
  {
   "cell_type": "code",
   "execution_count": 19,
   "metadata": {
    "execution": {
     "iopub.execute_input": "2020-10-20T06:44:21.266904Z",
     "iopub.status.busy": "2020-10-20T06:44:21.258304Z",
     "iopub.status.idle": "2020-10-20T06:44:25.335412Z",
     "shell.execute_reply": "2020-10-20T06:44:25.335868Z"
    },
    "papermill": {
     "duration": 4.114306,
     "end_time": "2020-10-20T06:44:25.336031",
     "exception": false,
     "start_time": "2020-10-20T06:44:21.221725",
     "status": "completed"
    },
    "tags": []
   },
   "outputs": [
    {
     "data": {
      "image/png": "[encoded data removed]",
      "text/plain": [
       "<Figure size 1296x2016 with 11 Axes>"
      ]
     },
     "metadata": {
      "needs_background": "light"
     },
     "output_type": "display_data"
    }
   ],
   "source": [
    "#hide_input\n",
    "df = dft_ct_new_cases.copy()\n",
    "df.loc['Total'] = df.sum()\n",
    "n = 5\n",
    "ax = []\n",
    "fig = plt.figure(figsize = (18,28))\n",
    "gs = fig.add_gridspec(n+2, 5)\n",
    "# gs = fig.add_gridspec(2, 3)\n",
    "ax1 = fig.add_subplot(gs[0, :])\n",
    "ef = df.loc['Total'].rename_axis('date').reset_index()\n",
    "ef['date'] = ef['date'].astype('datetime64[ns]')\n",
    "ax1.bar(ef.date,ef.Total,alpha=0.3,color='#007acc')\n",
    "ax1.plot(ef.date,ef.Total , marker=\"o\", color='#007acc')\n",
    "ax1.xaxis.set_major_locator(mdates.WeekdayLocator())\n",
    "ax1.xaxis.set_major_formatter(mdates.DateFormatter('%b %d'))\n",
    "ax1.text(0.02, 0.5,'India daily case count', transform = ax1.transAxes, fontsize=25);\n",
    "ax1.spines['right'].set_visible(False)\n",
    "ax1.spines['top'].set_visible(False)\n",
    "\n",
    "ax2 = fig.add_subplot(gs[1,0])\n",
    "ef = df.loc['Maharashtra'].rename_axis('date').reset_index()\n",
    "ef['date'] = ef['date'].astype('datetime64[ns]')\n",
    "\n",
    "ax2.bar(ef.date, ef.Maharashtra,color = '#007acc',alpha=0.5)\n",
    "ax2.xaxis.set_major_locator(mdates.WeekdayLocator())\n",
    "ax2.xaxis.set_major_formatter(mdates.DateFormatter('%b %d'))\n",
    "ax2.set_xticks(ax2.get_xticks()[::3])\n",
    "maxyval = ef.Maharashtra.max()\n",
    "ax2.set_ylim([0,maxyval])\n",
    "ax2.text(0.05, 0.9,'Maharashtra', transform = ax2.transAxes, fontsize=20);\n",
    "ax2.spines['right'].set_visible(False)\n",
    "ax2.spines['top'].set_visible(False)\n",
    "\n",
    "\n",
    "ax3 = fig.add_subplot(gs[1,1])\n",
    "ef = df.loc['Tamil Nadu'].rename_axis('date').reset_index()\n",
    "ef['date'] = ef['date'].astype('datetime64[ns]')\n",
    "ax3.bar(ef.date, ef['Tamil Nadu'],color = '#007acc',alpha=0.5,)\n",
    "ax3.xaxis.set_major_locator(mdates.WeekdayLocator())\n",
    "ax3.xaxis.set_major_formatter(mdates.DateFormatter('%b %d'))\n",
    "ax3.set_xticks(ax3.get_xticks()[::3])\n",
    "ax3.text(0.05, 0.9,'Tamil Nadu', transform = ax3.transAxes, fontsize=20);\n",
    "ax3.spines['right'].set_visible(False)\n",
    "ax3.spines['top'].set_visible(False)\n",
    "\n",
    "ax5 = fig.add_subplot(gs[1,3])\n",
    "ef = df.loc['Telangana'].rename_axis('date').reset_index()\n",
    "ef['date'] = ef['date'].astype('datetime64[ns]')\n",
    "ax5.bar(ef.date, ef['Telangana'],color = '#007acc',alpha=0.5,)\n",
    "ax5.xaxis.set_major_locator(mdates.WeekdayLocator())\n",
    "ax5.xaxis.set_major_formatter(mdates.DateFormatter('%b %d'))\n",
    "ax5.set_xticks(ax5.get_xticks()[::3])\n",
    "ax5.text(0.05, 0.9,'Telangana', transform = ax5.transAxes, fontsize=20);\n",
    "ax5.spines['right'].set_visible(False)\n",
    "ax5.spines['top'].set_visible(False)\n",
    "\n",
    "ax6 = fig.add_subplot(gs[1,4])\n",
    "ef = df.loc['Andhra Pradesh'].rename_axis('date').reset_index()\n",
    "ef['date'] = ef['date'].astype('datetime64[ns]')\n",
    "ax6.bar(ef.date, ef['Andhra Pradesh'],color = '#007acc',alpha=0.5,)\n",
    "ax6.xaxis.set_major_locator(mdates.WeekdayLocator())\n",
    "ax6.xaxis.set_major_formatter(mdates.DateFormatter('%b %d'))\n",
    "ax6.set_xticks(ax6.get_xticks()[::3])\n",
    "ax6.text(0.05, 1,'Andhra Pradesh', transform = ax6.transAxes, fontsize=20);\n",
    "ax6.spines['right'].set_visible(False)\n",
    "ax6.spines['top'].set_visible(False)\n",
    "\n",
    "ax4 = fig.add_subplot(gs[1,2])\n",
    "ef = df.loc['Delhi'].rename_axis('date').reset_index()\n",
    "ef['date'] = ef['date'].astype('datetime64[ns]')\n",
    "ax4.bar(ef.date, ef.Delhi,color = '#007acc',alpha=0.5)\n",
    "ax4.set_xticks([])\n",
    "ax4.xaxis.set_major_locator(mdates.WeekdayLocator())\n",
    "ax4.xaxis.set_major_formatter(mdates.DateFormatter('%b %d'))\n",
    "ax4.set_xticks(ax4.get_xticks()[::3])\n",
    "ax4.spines['right'].set_visible(False)\n",
    "ax4.spines['top'].set_visible(False)\n",
    "\n",
    "ax4.text(0.05, 1,'Delhi', transform = ax4.transAxes, fontsize=20)\n",
    "\n",
    "for i in range(n):\n",
    "    \n",
    "    ax.append(fig.add_subplot(gs[i+2,:]))\n",
    "    ef = df.iloc[i+3].rename_axis('date').reset_index()\n",
    "    ef['date'] = ef['date'].astype('datetime64[ns]')\n",
    "    ax[i].bar(ef.date,ef.iloc[:,-1],color = '#007acc',alpha=0.3)\n",
    "    ax[i].plot(ef.date,ef.iloc[:,-1],marker='o',color='#007acc')\n",
    "    ax[i].text(0.02,0.5,f'{ef.columns.values[-1]}',transform = ax[i].transAxes, fontsize = 20);\n",
    "    ax[i].xaxis.set_major_locator(mdates.WeekdayLocator())\n",
    "    ax[i].xaxis.set_major_formatter(mdates.DateFormatter('%b %d'))\n",
    "    ax[i].set_ylim([0,7000])\n",
    "    ax[i].spines['right'].set_visible(False)\n",
    "    ax[i].spines['top'].set_visible(False)\n",
    "plt.tight_layout()\n"
   ]
  },
  {
   "cell_type": "code",
   "execution_count": 20,
   "metadata": {
    "execution": {
     "iopub.execute_input": "2020-10-20T06:44:25.390043Z",
     "iopub.status.busy": "2020-10-20T06:44:25.389440Z",
     "iopub.status.idle": "2020-10-20T06:44:25.396066Z",
     "shell.execute_reply": "2020-10-20T06:44:25.396999Z"
    },
    "papermill": {
     "duration": 0.038649,
     "end_time": "2020-10-20T06:44:25.397153",
     "exception": false,
     "start_time": "2020-10-20T06:44:25.358504",
     "status": "completed"
    },
    "tags": []
   },
   "outputs": [
    {
     "name": "stdout",
     "output_type": "stream",
     "text": [
      "                                   states    Cases  Deaths   PCases  PDeaths  Cases (+)  Deaths (+)  Fatality Rate\n",
      "                              Maharashtra  1601365   42240  1601365    42240          0           0           2.64\n",
      "                           Andhra Pradesh   786050    6453   786050     6453          0           0           0.82\n",
      "                                Karnataka   770604   10542   770604    10542          0           0           1.37\n",
      "                               Tamil Nadu   690936   10694   690936    10694          0           0           1.55\n",
      "                            Uttar Pradesh   456865    6685   456865     6685          0           0           1.46\n",
      "                                   Kerala   346882    1183   346882     1183          0           0           0.34\n",
      "                                    Delhi   333171    6040   333171     6040          0           0           1.81\n",
      "                              West Bengal   325028    6119   325028     6119          0           0           1.88\n",
      "                                   Odisha   272250    1221   270346     1205       1904          16           0.45\n",
      "                                Telangana   223059    1275   223059     1275          0           0           0.57\n",
      "                                    Bihar   205124    1003   205124     1003          0           0           0.49\n",
      "                                    Assam   201407     875   201407      875          0           0           0.43\n",
      "                                Rajasthan   175226    1760   175226     1760          0           0           1.00\n",
      "                             Chhattisgarh   162772    1534   162772     1534          0           0           0.94\n",
      "                           Madhya Pradesh   161203    2786   161203     2786          0           0           1.73\n",
      "                                  Gujarat   160722    3646   160722     3646          0           0           2.27\n",
      "                                  Haryana   151234    1648   151234     1648          0           0           1.09\n",
      "                                   Punjab   128103    4029   128103     4029          0           0           3.15\n",
      "                                Jharkhand    96842     842    96842      842          0           0           0.87\n",
      "                        Jammu and Kashmir    88369    1388    88369     1388          0           0           1.57\n",
      "                              Uttarakhand    58360     933    58360      933          0           0           1.60\n",
      "                                      Goa    40746     549    40746      549          0           0           1.35\n",
      "                               Puducherry    33247     575    33247      575          0           0           1.73\n",
      "                                  Tripura    29550     328    29550      328          0           0           1.11\n",
      "                         Himachal Pradesh    19119     267    19119      267          0           0           1.40\n",
      "                                  Manipur    15778     117    15778      117          0           0           0.74\n",
      "                               Chandigarh    13686     208    13686      208          0           0           1.52\n",
      "                        Arunachal Pradesh    13643      30    13643       30          0           0           0.22\n",
      "                                Meghalaya     8536      75     8536       75          0           0           0.88\n",
      "                                 Nagaland     7953      21     7953       21          0           0           0.26\n",
      "                                   Ladakh     5647      66     5647       66          0           0           1.17\n",
      "              Andaman and Nicobar Islands     4126      56     4126       56          0           0           1.36\n",
      "                                   Sikkim     3601      62     3601       62          0           0           1.72\n",
      " Dadra and Nagar Haveli and Daman and Diu     3183       2     3183        2          0           0           0.06\n",
      "                                  Mizoram     2280       0     2253        0         27           0           0.00\n",
      "                              Lakshadweep        0       0        0        0          0           0            NaN\n"
     ]
    }
   ],
   "source": [
    "#hide_input\n",
    "print(df_table.to_string(index=False))"
   ]
  },
  {
   "cell_type": "code",
   "execution_count": null,
   "metadata": {
    "papermill": {
     "duration": 0.022931,
     "end_time": "2020-10-20T06:44:25.443140",
     "exception": false,
     "start_time": "2020-10-20T06:44:25.420209",
     "status": "completed"
    },
    "tags": []
   },
   "outputs": [],
   "source": []
  },
  {
   "cell_type": "code",
   "execution_count": null,
   "metadata": {
    "papermill": {
     "duration": 0.023781,
     "end_time": "2020-10-20T06:44:25.490036",
     "exception": false,
     "start_time": "2020-10-20T06:44:25.466255",
     "status": "completed"
    },
    "tags": []
   },
   "outputs": [],
   "source": []
  }
 ],
 "metadata": {
  "kernelspec": {
   "display_name": "Python 3",
   "language": "python",
   "name": "python3"
  },
  "language_info": {
   "codemirror_mode": {
    "name": "ipython",
    "version": 3
   },
   "file_extension": ".py",
   "mimetype": "text/x-python",
   "name": "python",
   "nbconvert_exporter": "python",
   "pygments_lexer": "ipython3",
   "version": "3.6.12"
  },
  "papermill": {
   "duration": 10.763057,
   "end_time": "2020-10-20T06:44:26.022693",
   "environment_variables": {},
   "exception": null,
   "input_path": "latest.ipynb",
   "output_path": "latest.ipynb",
   "parameters": {},
   "start_time": "2020-10-20T06:44:15.259636",
   "version": "2.1.2"
  }
 },
 "nbformat": 4,
 "nbformat_minor": 4
}