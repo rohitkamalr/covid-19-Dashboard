{
 "cells": [
  {
   "cell_type": "markdown",
   "metadata": {
    "papermill": {
     "duration": 0.01977,
     "end_time": "2020-09-27T13:21:36.507470",
     "exception": false,
     "start_time": "2020-09-27T13:21:36.487700",
     "status": "completed"
    },
    "tags": []
   },
   "source": [
    "# Latest COVID-19 India Matplotlib Overview"
   ]
  },
  {
   "cell_type": "code",
   "execution_count": 1,
   "metadata": {
    "execution": {
     "iopub.execute_input": "2020-09-27T13:21:36.546154Z",
     "iopub.status.busy": "2020-09-27T13:21:36.545529Z",
     "iopub.status.idle": "2020-09-27T13:21:37.146315Z",
     "shell.execute_reply": "2020-09-27T13:21:37.146859Z"
    },
    "papermill": {
     "duration": 0.62331,
     "end_time": "2020-09-27T13:21:37.147075",
     "exception": false,
     "start_time": "2020-09-27T13:21:36.523765",
     "status": "completed"
    },
    "tags": []
   },
   "outputs": [],
   "source": [
    "#hide\n",
    "import pandas as pd\n",
    "import numpy as np\n",
    "import requests\n",
    "import json\n",
    "import matplotlib.pyplot as plt\n",
    "import matplotlib.dates as mdates\n",
    "import matplotlib as mpl\n",
    "from IPython.core.display import display,HTML\n",
    "%matplotlib inline\n",
    "from datetime import date"
   ]
  },
  {
   "cell_type": "code",
   "execution_count": 2,
   "metadata": {
    "execution": {
     "iopub.execute_input": "2020-09-27T13:21:37.185594Z",
     "iopub.status.busy": "2020-09-27T13:21:37.184974Z",
     "iopub.status.idle": "2020-09-27T13:21:37.290957Z",
     "shell.execute_reply": "2020-09-27T13:21:37.290083Z"
    },
    "papermill": {
     "duration": 0.12836,
     "end_time": "2020-09-27T13:21:37.291236",
     "exception": false,
     "start_time": "2020-09-27T13:21:37.162876",
     "status": "completed"
    },
    "tags": []
   },
   "outputs": [],
   "source": [
    "#hide\n",
    "df  = pd.read_csv('https://api.covid19india.org/csv/latest/states.csv')\n",
    "df = df[['Date','State','Confirmed','Deceased']]\n",
    "df = df.rename(columns={'Confirmed':'Cases', \"Deceased\":'Deaths'})\n",
    "df_cases = df[[\"Date\",'State','Cases']]\n",
    "df_deaths = df[['Date','State','Deaths']]\n",
    "df_cases1 = df_cases.groupby('Date')\n",
    "df_deaths1= df_deaths.groupby('Date')"
   ]
  },
  {
   "cell_type": "code",
   "execution_count": 3,
   "metadata": {
    "execution": {
     "iopub.execute_input": "2020-09-27T13:21:37.330066Z",
     "iopub.status.busy": "2020-09-27T13:21:37.329426Z",
     "iopub.status.idle": "2020-09-27T13:21:37.347038Z",
     "shell.execute_reply": "2020-09-27T13:21:37.346523Z"
    },
    "papermill": {
     "duration": 0.038316,
     "end_time": "2020-09-27T13:21:37.347176",
     "exception": false,
     "start_time": "2020-09-27T13:21:37.308860",
     "status": "completed"
    },
    "tags": []
   },
   "outputs": [],
   "source": [
    "#hide\n",
    "df_snap = pd.read_csv('data/SnapshotCases-28-July.csv')\n",
    "arr_states = df_snap['states'].unique()\n",
    "arr_dates = df['Date'].unique()\n",
    "df_snap = df_snap.set_index('states')"
   ]
  },
  {
   "cell_type": "code",
   "execution_count": 4,
   "metadata": {
    "execution": {
     "iopub.execute_input": "2020-09-27T13:21:37.384615Z",
     "iopub.status.busy": "2020-09-27T13:21:37.384002Z",
     "iopub.status.idle": "2020-09-27T13:21:37.387099Z",
     "shell.execute_reply": "2020-09-27T13:21:37.386472Z"
    },
    "papermill": {
     "duration": 0.024778,
     "end_time": "2020-09-27T13:21:37.387230",
     "exception": false,
     "start_time": "2020-09-27T13:21:37.362452",
     "status": "completed"
    },
    "tags": []
   },
   "outputs": [
    {
     "data": {
      "text/plain": [
       "array(['Andaman and Nicobar Islands', 'Andhra Pradesh',\n",
       "       'Arunachal Pradesh', 'Assam', 'Bihar', 'Chandigarh',\n",
       "       'Dadra and Nagar Haveli and Daman and Diu', 'Delhi', 'Goa',\n",
       "       'Gujarat', 'Haryana', 'Himachal Pradesh', 'Jammu and Kashmir',\n",
       "       'Jharkhand', 'Karnataka', 'Kerala', 'Lakshadweep',\n",
       "       'Madhya Pradesh', 'Maharashtra', 'Manipur', 'Meghalaya', 'Mizoram',\n",
       "       'Nagaland', 'Odisha', 'Puducherry', 'Punjab', 'Rajasthan',\n",
       "       'Sikkim', 'Tamil Nadu', 'Telangana', 'Tripura', 'Uttar Pradesh',\n",
       "       'West Bengal', 'Chhattisgarh', 'Ladakh', 'Uttarakhand'],\n",
       "      dtype=object)"
      ]
     },
     "execution_count": 4,
     "metadata": {},
     "output_type": "execute_result"
    }
   ],
   "source": [
    "#hide\n",
    "arr_states[-9] = 'Puducherry'\n",
    "arr_states[-10] = 'Odisha'\n",
    "arr_states[6] = 'Dadra and Nagar Haveli and Daman and Diu'\n",
    "arr_states = np.append(arr_states,np.array(['Chhattisgarh','Ladakh','Uttarakhand']))\n",
    "arr_states"
   ]
  },
  {
   "cell_type": "code",
   "execution_count": 5,
   "metadata": {
    "execution": {
     "iopub.execute_input": "2020-09-27T13:21:37.432262Z",
     "iopub.status.busy": "2020-09-27T13:21:37.431658Z",
     "iopub.status.idle": "2020-09-27T13:21:37.439021Z",
     "shell.execute_reply": "2020-09-27T13:21:37.438507Z"
    },
    "papermill": {
     "duration": 0.036221,
     "end_time": "2020-09-27T13:21:37.439152",
     "exception": false,
     "start_time": "2020-09-27T13:21:37.402931",
     "status": "completed"
    },
    "tags": []
   },
   "outputs": [],
   "source": [
    "#hide\n",
    "dates = []\n",
    "for i in arr_dates:\n",
    "    if i>='2020-07-01':\n",
    "        dates.append(i)\n",
    "dict = {'states':dates}\n",
    "for i in arr_states:\n",
    "    dict[i] = [0]*len(dates)\n",
    "dft_cases = pd.DataFrame(dict)\n",
    "dft_deaths = pd.DataFrame(dict)\n"
   ]
  },
  {
   "cell_type": "code",
   "execution_count": 6,
   "metadata": {
    "execution": {
     "iopub.execute_input": "2020-09-27T13:21:37.476628Z",
     "iopub.status.busy": "2020-09-27T13:21:37.476020Z",
     "iopub.status.idle": "2020-09-27T13:21:38.727276Z",
     "shell.execute_reply": "2020-09-27T13:21:38.726549Z"
    },
    "papermill": {
     "duration": 1.272512,
     "end_time": "2020-09-27T13:21:38.727461",
     "exception": false,
     "start_time": "2020-09-27T13:21:37.454949",
     "status": "completed"
    },
    "tags": []
   },
   "outputs": [],
   "source": [
    "#hide\n",
    "for i in range(len(dates)):\n",
    "    df1_deaths = df_deaths1.get_group(dates[i])\n",
    "    for j in range(len(df1_deaths.index)):\n",
    "        if df1_deaths.iloc[j,1] in arr_states:\n",
    "            dft_deaths.loc[i,df1_deaths.iloc[j,1]] = df1_deaths.iloc[j,2]\n",
    "dft_deaths = dft_deaths.set_index('states')"
   ]
  },
  {
   "cell_type": "code",
   "execution_count": 7,
   "metadata": {
    "execution": {
     "iopub.execute_input": "2020-09-27T13:21:38.766893Z",
     "iopub.status.busy": "2020-09-27T13:21:38.766253Z",
     "iopub.status.idle": "2020-09-27T13:21:40.069945Z",
     "shell.execute_reply": "2020-09-27T13:21:40.069022Z"
    },
    "papermill": {
     "duration": 1.326303,
     "end_time": "2020-09-27T13:21:40.070094",
     "exception": false,
     "start_time": "2020-09-27T13:21:38.743791",
     "status": "completed"
    },
    "tags": []
   },
   "outputs": [],
   "source": [
    "#hide\n",
    "for i in range(len(dates)):\n",
    "    df1_cases = df_cases1.get_group(dates[i])\n",
    "    for j in range(len(df1_cases.index)):\n",
    "        if df1_cases.iloc[j,1] in arr_states:\n",
    "            dft_cases.loc[i,df1_cases.iloc[j,1]] = df1_cases.iloc[j,2]\n",
    "dft_cases = dft_cases.set_index('states')"
   ]
  },
  {
   "cell_type": "code",
   "execution_count": 8,
   "metadata": {
    "execution": {
     "iopub.execute_input": "2020-09-27T13:21:40.144766Z",
     "iopub.status.busy": "2020-09-27T13:21:40.144146Z",
     "iopub.status.idle": "2020-09-27T13:21:40.147246Z",
     "shell.execute_reply": "2020-09-27T13:21:40.148060Z"
    },
    "papermill": {
     "duration": 0.061586,
     "end_time": "2020-09-27T13:21:40.148218",
     "exception": false,
     "start_time": "2020-09-27T13:21:40.086632",
     "status": "completed"
    },
    "tags": []
   },
   "outputs": [],
   "source": [
    "#hide\n",
    "dft_cases = dft_cases.T\n",
    "dft_deaths = dft_deaths.T\n",
    "dt_today = dates[-1]\n",
    "dt_yday = dates[-2]"
   ]
  },
  {
   "cell_type": "code",
   "execution_count": 9,
   "metadata": {
    "execution": {
     "iopub.execute_input": "2020-09-27T13:21:40.237100Z",
     "iopub.status.busy": "2020-09-27T13:21:40.236155Z",
     "iopub.status.idle": "2020-09-27T13:21:40.242779Z",
     "shell.execute_reply": "2020-09-27T13:21:40.242167Z"
    },
    "papermill": {
     "duration": 0.05509,
     "end_time": "2020-09-27T13:21:40.242910",
     "exception": false,
     "start_time": "2020-09-27T13:21:40.187820",
     "status": "completed"
    },
    "tags": []
   },
   "outputs": [],
   "source": [
    "#hide\n",
    "dft_cases = dft_cases.reset_index()\n",
    "dft_deaths = dft_deaths.reset_index()\n",
    "dft_cases = dft_cases.rename(columns = {'index':'state'})\n",
    "dft_deaths = dft_deaths.rename(columns = {'index':'state'})"
   ]
  },
  {
   "cell_type": "code",
   "execution_count": 10,
   "metadata": {
    "execution": {
     "iopub.execute_input": "2020-09-27T13:21:40.350941Z",
     "iopub.status.busy": "2020-09-27T13:21:40.350317Z",
     "iopub.status.idle": "2020-09-27T13:21:40.353817Z",
     "shell.execute_reply": "2020-09-27T13:21:40.354312Z"
    },
    "papermill": {
     "duration": 0.062262,
     "end_time": "2020-09-27T13:21:40.354464",
     "exception": false,
     "start_time": "2020-09-27T13:21:40.292202",
     "status": "completed"
    },
    "tags": []
   },
   "outputs": [],
   "source": [
    "#hide\n",
    "dfc_cases = dft_cases.groupby('state')[dt_today].sum()\n",
    "dfc_deaths = dft_deaths.groupby('state')[dt_today].sum()\n",
    "dfp_cases = dft_cases.groupby('state')[dt_yday].sum()\n",
    "dfp_deaths = dft_deaths.groupby('state')[dt_yday].sum()"
   ]
  },
  {
   "cell_type": "code",
   "execution_count": 11,
   "metadata": {
    "execution": {
     "iopub.execute_input": "2020-09-27T13:21:40.653440Z",
     "iopub.status.busy": "2020-09-27T13:21:40.650036Z",
     "iopub.status.idle": "2020-09-27T13:21:40.658726Z",
     "shell.execute_reply": "2020-09-27T13:21:40.658190Z"
    },
    "papermill": {
     "duration": 0.272659,
     "end_time": "2020-09-27T13:21:40.658860",
     "exception": false,
     "start_time": "2020-09-27T13:21:40.386201",
     "status": "completed"
    },
    "tags": []
   },
   "outputs": [
    {
     "data": {
      "text/html": [
       "<div>\n",
       "<style scoped>\n",
       "    .dataframe tbody tr th:only-of-type {\n",
       "        vertical-align: middle;\n",
       "    }\n",
       "\n",
       "    .dataframe tbody tr th {\n",
       "        vertical-align: top;\n",
       "    }\n",
       "\n",
       "    .dataframe thead th {\n",
       "        text-align: right;\n",
       "    }\n",
       "</style>\n",
       "<table border=\"1\" class=\"dataframe\">\n",
       "  <thead>\n",
       "    <tr style=\"text-align: right;\">\n",
       "      <th></th>\n",
       "      <th>states</th>\n",
       "      <th>Cases</th>\n",
       "      <th>Deaths</th>\n",
       "      <th>PCases</th>\n",
       "      <th>PDeaths</th>\n",
       "    </tr>\n",
       "  </thead>\n",
       "  <tbody>\n",
       "    <tr>\n",
       "      <th>0</th>\n",
       "      <td>Maharashtra</td>\n",
       "      <td>1321176</td>\n",
       "      <td>35191</td>\n",
       "      <td>1321176</td>\n",
       "      <td>35191</td>\n",
       "    </tr>\n",
       "    <tr>\n",
       "      <th>1</th>\n",
       "      <td>Andhra Pradesh</td>\n",
       "      <td>668751</td>\n",
       "      <td>5663</td>\n",
       "      <td>668751</td>\n",
       "      <td>5663</td>\n",
       "    </tr>\n",
       "    <tr>\n",
       "      <th>2</th>\n",
       "      <td>Tamil Nadu</td>\n",
       "      <td>575017</td>\n",
       "      <td>9233</td>\n",
       "      <td>575017</td>\n",
       "      <td>9233</td>\n",
       "    </tr>\n",
       "    <tr>\n",
       "      <th>3</th>\n",
       "      <td>Karnataka</td>\n",
       "      <td>566023</td>\n",
       "      <td>8503</td>\n",
       "      <td>566023</td>\n",
       "      <td>8503</td>\n",
       "    </tr>\n",
       "    <tr>\n",
       "      <th>4</th>\n",
       "      <td>Uttar Pradesh</td>\n",
       "      <td>382835</td>\n",
       "      <td>5517</td>\n",
       "      <td>382835</td>\n",
       "      <td>5517</td>\n",
       "    </tr>\n",
       "  </tbody>\n",
       "</table>\n",
       "</div>"
      ],
      "text/plain": [
       "           states    Cases  Deaths   PCases  PDeaths\n",
       "0     Maharashtra  1321176   35191  1321176    35191\n",
       "1  Andhra Pradesh   668751    5663   668751     5663\n",
       "2      Tamil Nadu   575017    9233   575017     9233\n",
       "3       Karnataka   566023    8503   566023     8503\n",
       "4   Uttar Pradesh   382835    5517   382835     5517"
      ]
     },
     "execution_count": 11,
     "metadata": {},
     "output_type": "execute_result"
    }
   ],
   "source": [
    "#hide\n",
    "df_table = pd.DataFrame({'states': dfc_cases.index, 'Cases': dfc_cases.values, 'Deaths': dfc_deaths.values, 'PCases': dfp_cases.values, 'PDeaths': dfp_deaths.values}).set_index('states')\n",
    "df_table = df_table.sort_values(by = ['Cases','Deaths'], ascending = [False, False])\n",
    "df_table = df_table.reset_index()\n",
    "df_table.head()"
   ]
  },
  {
   "cell_type": "code",
   "execution_count": 12,
   "metadata": {
    "execution": {
     "iopub.execute_input": "2020-09-27T13:21:40.820651Z",
     "iopub.status.busy": "2020-09-27T13:21:40.820036Z",
     "iopub.status.idle": "2020-09-27T13:21:40.829214Z",
     "shell.execute_reply": "2020-09-27T13:21:40.829715Z"
    },
    "papermill": {
     "duration": 0.03745,
     "end_time": "2020-09-27T13:21:40.829864",
     "exception": false,
     "start_time": "2020-09-27T13:21:40.792414",
     "status": "completed"
    },
    "tags": []
   },
   "outputs": [],
   "source": [
    "#hide\n",
    "for c in 'Cases, Deaths'.split(', '):\n",
    "    df_table[f'{c} (+)'] = (df_table[c] - df_table[f'P{c}']).clip(0)\n",
    "df_table['Fatality Rate'] = (100* df_table['Deaths']/ df_table['Cases']).round(2)"
   ]
  },
  {
   "cell_type": "code",
   "execution_count": 13,
   "metadata": {
    "execution": {
     "iopub.execute_input": "2020-09-27T13:21:40.873225Z",
     "iopub.status.busy": "2020-09-27T13:21:40.872614Z",
     "iopub.status.idle": "2020-09-27T13:21:40.878429Z",
     "shell.execute_reply": "2020-09-27T13:21:40.878890Z"
    },
    "papermill": {
     "duration": 0.032835,
     "end_time": "2020-09-27T13:21:40.879057",
     "exception": false,
     "start_time": "2020-09-27T13:21:40.846222",
     "status": "completed"
    },
    "tags": []
   },
   "outputs": [
    {
     "data": {
      "text/html": [
       "<div>\n",
       "<style scoped>\n",
       "    .dataframe tbody tr th:only-of-type {\n",
       "        vertical-align: middle;\n",
       "    }\n",
       "\n",
       "    .dataframe tbody tr th {\n",
       "        vertical-align: top;\n",
       "    }\n",
       "\n",
       "    .dataframe thead th {\n",
       "        text-align: right;\n",
       "    }\n",
       "</style>\n",
       "<table border=\"1\" class=\"dataframe\">\n",
       "  <thead>\n",
       "    <tr style=\"text-align: right;\">\n",
       "      <th></th>\n",
       "      <th>states</th>\n",
       "      <th>Cases</th>\n",
       "      <th>Deaths</th>\n",
       "      <th>PCases</th>\n",
       "      <th>PDeaths</th>\n",
       "      <th>Cases (+)</th>\n",
       "      <th>Deaths (+)</th>\n",
       "      <th>Fatality Rate</th>\n",
       "    </tr>\n",
       "  </thead>\n",
       "  <tbody>\n",
       "    <tr>\n",
       "      <th>0</th>\n",
       "      <td>Maharashtra</td>\n",
       "      <td>1321176</td>\n",
       "      <td>35191</td>\n",
       "      <td>1321176</td>\n",
       "      <td>35191</td>\n",
       "      <td>0</td>\n",
       "      <td>0</td>\n",
       "      <td>2.66</td>\n",
       "    </tr>\n",
       "    <tr>\n",
       "      <th>1</th>\n",
       "      <td>Andhra Pradesh</td>\n",
       "      <td>668751</td>\n",
       "      <td>5663</td>\n",
       "      <td>668751</td>\n",
       "      <td>5663</td>\n",
       "      <td>0</td>\n",
       "      <td>0</td>\n",
       "      <td>0.85</td>\n",
       "    </tr>\n",
       "    <tr>\n",
       "      <th>2</th>\n",
       "      <td>Tamil Nadu</td>\n",
       "      <td>575017</td>\n",
       "      <td>9233</td>\n",
       "      <td>575017</td>\n",
       "      <td>9233</td>\n",
       "      <td>0</td>\n",
       "      <td>0</td>\n",
       "      <td>1.61</td>\n",
       "    </tr>\n",
       "    <tr>\n",
       "      <th>3</th>\n",
       "      <td>Karnataka</td>\n",
       "      <td>566023</td>\n",
       "      <td>8503</td>\n",
       "      <td>566023</td>\n",
       "      <td>8503</td>\n",
       "      <td>0</td>\n",
       "      <td>0</td>\n",
       "      <td>1.50</td>\n",
       "    </tr>\n",
       "    <tr>\n",
       "      <th>4</th>\n",
       "      <td>Uttar Pradesh</td>\n",
       "      <td>382835</td>\n",
       "      <td>5517</td>\n",
       "      <td>382835</td>\n",
       "      <td>5517</td>\n",
       "      <td>0</td>\n",
       "      <td>0</td>\n",
       "      <td>1.44</td>\n",
       "    </tr>\n",
       "  </tbody>\n",
       "</table>\n",
       "</div>"
      ],
      "text/plain": [
       "           states    Cases  Deaths   PCases  PDeaths  Cases (+)  Deaths (+)  \\\n",
       "0     Maharashtra  1321176   35191  1321176    35191          0           0   \n",
       "1  Andhra Pradesh   668751    5663   668751     5663          0           0   \n",
       "2      Tamil Nadu   575017    9233   575017     9233          0           0   \n",
       "3       Karnataka   566023    8503   566023     8503          0           0   \n",
       "4   Uttar Pradesh   382835    5517   382835     5517          0           0   \n",
       "\n",
       "   Fatality Rate  \n",
       "0           2.66  \n",
       "1           0.85  \n",
       "2           1.61  \n",
       "3           1.50  \n",
       "4           1.44  "
      ]
     },
     "execution_count": 13,
     "metadata": {},
     "output_type": "execute_result"
    }
   ],
   "source": [
    "#hide\n",
    "df_table.head()"
   ]
  },
  {
   "cell_type": "code",
   "execution_count": 14,
   "metadata": {
    "execution": {
     "iopub.execute_input": "2020-09-27T13:21:40.917967Z",
     "iopub.status.busy": "2020-09-27T13:21:40.917270Z",
     "iopub.status.idle": "2020-09-27T13:21:40.933455Z",
     "shell.execute_reply": "2020-09-27T13:21:40.932965Z"
    },
    "papermill": {
     "duration": 0.037765,
     "end_time": "2020-09-27T13:21:40.933584",
     "exception": false,
     "start_time": "2020-09-27T13:21:40.895819",
     "status": "completed"
    },
    "tags": []
   },
   "outputs": [
    {
     "data": {
      "text/plain": [
       "{'updated': '2020-09-27',\n",
       " 'since': '2020-09-26',\n",
       " 'Cases': 6005795,\n",
       " 'PCases': 5990581,\n",
       " 'Deaths': 94582,\n",
       " 'PDeaths': 94534,\n",
       " 'Cases (+)': 15214,\n",
       " 'Deaths (+)': 48}"
      ]
     },
     "execution_count": 14,
     "metadata": {},
     "output_type": "execute_result"
    }
   ],
   "source": [
    "#hide\n",
    "summary = {'updated':dates[-1], 'since':dates[-2]}\n",
    "list_names = ['Cases', 'PCases', 'Deaths', 'PDeaths', 'Cases (+)', 'Deaths (+)']\n",
    "for name in list_names:\n",
    "    summary[name] = df_table.sum()[name]\n",
    "summary"
   ]
  },
  {
   "cell_type": "code",
   "execution_count": 15,
   "metadata": {
    "execution": {
     "iopub.execute_input": "2020-09-27T13:21:40.975515Z",
     "iopub.status.busy": "2020-09-27T13:21:40.974517Z",
     "iopub.status.idle": "2020-09-27T13:21:40.976513Z",
     "shell.execute_reply": "2020-09-27T13:21:40.977012Z"
    },
    "papermill": {
     "duration": 0.025499,
     "end_time": "2020-09-27T13:21:40.977150",
     "exception": false,
     "start_time": "2020-09-27T13:21:40.951651",
     "status": "completed"
    },
    "tags": []
   },
   "outputs": [],
   "source": [
    "#hide\n",
    "overview = '''\n",
    "<!-- #######  HTML!! #########-->\n",
    "<h1 style=\"color: #5e9ca0; text-align: center;\">India</h1>\n",
    "<p style=\"text-align: center;\">Last update: <strong>{update}</strong></p>\n",
    "<p style=\"text-align: center;\">Confirmed cases:</p>\n",
    "<p style=\"text-align: center;font-size:24px;\">{cases} (<span style=\"color: #ff0000;\">+{new}</span>)</p>\n",
    "<p style=\"text-align: center;\">Confirmed deaths:</p>\n",
    "<p style=\"text-align: center;font-size:24px;\">{deaths} (<span style=\"color: #ff0000;\">+{dnew}</span>)</p>\n",
    "'''"
   ]
  },
  {
   "cell_type": "code",
   "execution_count": 16,
   "metadata": {
    "execution": {
     "iopub.execute_input": "2020-09-27T13:21:41.019258Z",
     "iopub.status.busy": "2020-09-27T13:21:41.018632Z",
     "iopub.status.idle": "2020-09-27T13:21:41.021323Z",
     "shell.execute_reply": "2020-09-27T13:21:41.021783Z"
    },
    "papermill": {
     "duration": 0.027814,
     "end_time": "2020-09-27T13:21:41.021925",
     "exception": false,
     "start_time": "2020-09-27T13:21:40.994111",
     "status": "completed"
    },
    "tags": []
   },
   "outputs": [
    {
     "data": {
      "text/html": [
       "\n",
       "<!-- #######  HTML!! #########-->\n",
       "<h1 style=\"color: #5e9ca0; text-align: center;\">India</h1>\n",
       "<p style=\"text-align: center;\">Last update: <strong>2020-09-27</strong></p>\n",
       "<p style=\"text-align: center;\">Confirmed cases:</p>\n",
       "<p style=\"text-align: center;font-size:24px;\">6005795 (<span style=\"color: #ff0000;\">+15214</span>)</p>\n",
       "<p style=\"text-align: center;\">Confirmed deaths:</p>\n",
       "<p style=\"text-align: center;font-size:24px;\">94582 (<span style=\"color: #ff0000;\">+48</span>)</p>\n"
      ],
      "text/plain": [
       "<IPython.core.display.HTML object>"
      ]
     },
     "metadata": {},
     "output_type": "display_data"
    }
   ],
   "source": [
    "#hide_input\n",
    "update = summary['updated']\n",
    "cases = summary['Cases']\n",
    "new = summary['Cases (+)']\n",
    "deaths = summary['Deaths']\n",
    "dnew = summary['Deaths (+)']\n",
    "\n",
    "html = HTML(overview.format(update=update, cases=cases,new=new,deaths=deaths,dnew=dnew))\n",
    "\n",
    "display(html)"
   ]
  },
  {
   "cell_type": "code",
   "execution_count": 17,
   "metadata": {
    "execution": {
     "iopub.execute_input": "2020-09-27T13:21:41.064750Z",
     "iopub.status.busy": "2020-09-27T13:21:41.064152Z",
     "iopub.status.idle": "2020-09-27T13:21:41.069455Z",
     "shell.execute_reply": "2020-09-27T13:21:41.069916Z"
    },
    "papermill": {
     "duration": 0.030593,
     "end_time": "2020-09-27T13:21:41.070059",
     "exception": false,
     "start_time": "2020-09-27T13:21:41.039466",
     "status": "completed"
    },
    "tags": []
   },
   "outputs": [],
   "source": [
    "#hide\n",
    "dt_cols = list(dft_cases.columns[1:])\n",
    "dft_ct_new_cases = dft_cases.groupby('state')[dt_cols].sum().diff(axis=1).fillna(0).astype(int)\n",
    "dft_ct_new_cases.sort_values(by = dates[-1], ascending = False,inplace = True)"
   ]
  },
  {
   "cell_type": "code",
   "execution_count": 18,
   "metadata": {
    "execution": {
     "iopub.execute_input": "2020-09-27T13:21:41.121772Z",
     "iopub.status.busy": "2020-09-27T13:21:41.121172Z",
     "iopub.status.idle": "2020-09-27T13:21:41.123902Z",
     "shell.execute_reply": "2020-09-27T13:21:41.124394Z"
    },
    "papermill": {
     "duration": 0.037032,
     "end_time": "2020-09-27T13:21:41.124530",
     "exception": false,
     "start_time": "2020-09-27T13:21:41.087498",
     "status": "completed"
    },
    "tags": []
   },
   "outputs": [
    {
     "data": {
      "text/html": [
       "<div>\n",
       "<style scoped>\n",
       "    .dataframe tbody tr th:only-of-type {\n",
       "        vertical-align: middle;\n",
       "    }\n",
       "\n",
       "    .dataframe tbody tr th {\n",
       "        vertical-align: top;\n",
       "    }\n",
       "\n",
       "    .dataframe thead th {\n",
       "        text-align: right;\n",
       "    }\n",
       "</style>\n",
       "<table border=\"1\" class=\"dataframe\">\n",
       "  <thead>\n",
       "    <tr style=\"text-align: right;\">\n",
       "      <th>states</th>\n",
       "      <th>2020-07-01</th>\n",
       "      <th>2020-07-02</th>\n",
       "      <th>2020-07-03</th>\n",
       "      <th>2020-07-04</th>\n",
       "      <th>2020-07-05</th>\n",
       "      <th>2020-07-06</th>\n",
       "      <th>2020-07-07</th>\n",
       "      <th>2020-07-08</th>\n",
       "      <th>2020-07-09</th>\n",
       "      <th>2020-07-10</th>\n",
       "      <th>...</th>\n",
       "      <th>2020-09-18</th>\n",
       "      <th>2020-09-19</th>\n",
       "      <th>2020-09-20</th>\n",
       "      <th>2020-09-21</th>\n",
       "      <th>2020-09-22</th>\n",
       "      <th>2020-09-23</th>\n",
       "      <th>2020-09-24</th>\n",
       "      <th>2020-09-25</th>\n",
       "      <th>2020-09-26</th>\n",
       "      <th>2020-09-27</th>\n",
       "    </tr>\n",
       "    <tr>\n",
       "      <th>state</th>\n",
       "      <th></th>\n",
       "      <th></th>\n",
       "      <th></th>\n",
       "      <th></th>\n",
       "      <th></th>\n",
       "      <th></th>\n",
       "      <th></th>\n",
       "      <th></th>\n",
       "      <th></th>\n",
       "      <th></th>\n",
       "      <th></th>\n",
       "      <th></th>\n",
       "      <th></th>\n",
       "      <th></th>\n",
       "      <th></th>\n",
       "      <th></th>\n",
       "      <th></th>\n",
       "      <th></th>\n",
       "      <th></th>\n",
       "      <th></th>\n",
       "      <th></th>\n",
       "    </tr>\n",
       "  </thead>\n",
       "  <tbody>\n",
       "    <tr>\n",
       "      <th>Kerala</th>\n",
       "      <td>0</td>\n",
       "      <td>160</td>\n",
       "      <td>211</td>\n",
       "      <td>240</td>\n",
       "      <td>225</td>\n",
       "      <td>193</td>\n",
       "      <td>272</td>\n",
       "      <td>301</td>\n",
       "      <td>339</td>\n",
       "      <td>416</td>\n",
       "      <td>...</td>\n",
       "      <td>4167</td>\n",
       "      <td>4644</td>\n",
       "      <td>4696</td>\n",
       "      <td>2910</td>\n",
       "      <td>4125</td>\n",
       "      <td>5376</td>\n",
       "      <td>6324</td>\n",
       "      <td>6477</td>\n",
       "      <td>7006</td>\n",
       "      <td>7445</td>\n",
       "    </tr>\n",
       "    <tr>\n",
       "      <th>Odisha</th>\n",
       "      <td>0</td>\n",
       "      <td>229</td>\n",
       "      <td>561</td>\n",
       "      <td>495</td>\n",
       "      <td>469</td>\n",
       "      <td>456</td>\n",
       "      <td>571</td>\n",
       "      <td>527</td>\n",
       "      <td>577</td>\n",
       "      <td>755</td>\n",
       "      <td>...</td>\n",
       "      <td>4180</td>\n",
       "      <td>4209</td>\n",
       "      <td>4330</td>\n",
       "      <td>4242</td>\n",
       "      <td>4189</td>\n",
       "      <td>4237</td>\n",
       "      <td>4340</td>\n",
       "      <td>4208</td>\n",
       "      <td>4356</td>\n",
       "      <td>3922</td>\n",
       "    </tr>\n",
       "    <tr>\n",
       "      <th>Telangana</th>\n",
       "      <td>0</td>\n",
       "      <td>1213</td>\n",
       "      <td>1892</td>\n",
       "      <td>1850</td>\n",
       "      <td>1590</td>\n",
       "      <td>1831</td>\n",
       "      <td>1879</td>\n",
       "      <td>1924</td>\n",
       "      <td>1410</td>\n",
       "      <td>1278</td>\n",
       "      <td>...</td>\n",
       "      <td>2043</td>\n",
       "      <td>2123</td>\n",
       "      <td>2137</td>\n",
       "      <td>1302</td>\n",
       "      <td>2166</td>\n",
       "      <td>2296</td>\n",
       "      <td>2176</td>\n",
       "      <td>2381</td>\n",
       "      <td>2239</td>\n",
       "      <td>1967</td>\n",
       "    </tr>\n",
       "    <tr>\n",
       "      <th>Bihar</th>\n",
       "      <td>0</td>\n",
       "      <td>478</td>\n",
       "      <td>426</td>\n",
       "      <td>349</td>\n",
       "      <td>403</td>\n",
       "      <td>280</td>\n",
       "      <td>385</td>\n",
       "      <td>749</td>\n",
       "      <td>704</td>\n",
       "      <td>352</td>\n",
       "      <td>...</td>\n",
       "      <td>1147</td>\n",
       "      <td>1616</td>\n",
       "      <td>1555</td>\n",
       "      <td>1314</td>\n",
       "      <td>1609</td>\n",
       "      <td>1598</td>\n",
       "      <td>1203</td>\n",
       "      <td>1632</td>\n",
       "      <td>1457</td>\n",
       "      <td>1527</td>\n",
       "    </tr>\n",
       "    <tr>\n",
       "      <th>Tripura</th>\n",
       "      <td>0</td>\n",
       "      <td>39</td>\n",
       "      <td>93</td>\n",
       "      <td>25</td>\n",
       "      <td>23</td>\n",
       "      <td>111</td>\n",
       "      <td>24</td>\n",
       "      <td>57</td>\n",
       "      <td>16</td>\n",
       "      <td>142</td>\n",
       "      <td>...</td>\n",
       "      <td>273</td>\n",
       "      <td>535</td>\n",
       "      <td>525</td>\n",
       "      <td>243</td>\n",
       "      <td>559</td>\n",
       "      <td>504</td>\n",
       "      <td>451</td>\n",
       "      <td>341</td>\n",
       "      <td>278</td>\n",
       "      <td>320</td>\n",
       "    </tr>\n",
       "  </tbody>\n",
       "</table>\n",
       "<p>5 rows × 89 columns</p>\n",
       "</div>"
      ],
      "text/plain": [
       "states     2020-07-01  2020-07-02  2020-07-03  2020-07-04  2020-07-05  \\\n",
       "state                                                                   \n",
       "Kerala              0         160         211         240         225   \n",
       "Odisha              0         229         561         495         469   \n",
       "Telangana           0        1213        1892        1850        1590   \n",
       "Bihar               0         478         426         349         403   \n",
       "Tripura             0          39          93          25          23   \n",
       "\n",
       "states     2020-07-06  2020-07-07  2020-07-08  2020-07-09  2020-07-10  ...  \\\n",
       "state                                                                  ...   \n",
       "Kerala            193         272         301         339         416  ...   \n",
       "Odisha            456         571         527         577         755  ...   \n",
       "Telangana        1831        1879        1924        1410        1278  ...   \n",
       "Bihar             280         385         749         704         352  ...   \n",
       "Tripura           111          24          57          16         142  ...   \n",
       "\n",
       "states     2020-09-18  2020-09-19  2020-09-20  2020-09-21  2020-09-22  \\\n",
       "state                                                                   \n",
       "Kerala           4167        4644        4696        2910        4125   \n",
       "Odisha           4180        4209        4330        4242        4189   \n",
       "Telangana        2043        2123        2137        1302        2166   \n",
       "Bihar            1147        1616        1555        1314        1609   \n",
       "Tripura           273         535         525         243         559   \n",
       "\n",
       "states     2020-09-23  2020-09-24  2020-09-25  2020-09-26  2020-09-27  \n",
       "state                                                                  \n",
       "Kerala           5376        6324        6477        7006        7445  \n",
       "Odisha           4237        4340        4208        4356        3922  \n",
       "Telangana        2296        2176        2381        2239        1967  \n",
       "Bihar            1598        1203        1632        1457        1527  \n",
       "Tripura           504         451         341         278         320  \n",
       "\n",
       "[5 rows x 89 columns]"
      ]
     },
     "execution_count": 18,
     "metadata": {},
     "output_type": "execute_result"
    }
   ],
   "source": [
    "#hide\n",
    "dft_ct_new_cases.head()"
   ]
  },
  {
   "cell_type": "code",
   "execution_count": 19,
   "metadata": {
    "execution": {
     "iopub.execute_input": "2020-09-27T13:21:41.190651Z",
     "iopub.status.busy": "2020-09-27T13:21:41.168876Z",
     "iopub.status.idle": "2020-09-27T13:21:44.898485Z",
     "shell.execute_reply": "2020-09-27T13:21:44.897771Z"
    },
    "papermill": {
     "duration": 3.755925,
     "end_time": "2020-09-27T13:21:44.898656",
     "exception": false,
     "start_time": "2020-09-27T13:21:41.142731",
     "status": "completed"
    },
    "tags": []
   },
   "outputs": [
    {
     "data": {
      "image/png": "[encoded data removed]",
      "text/plain": [
       "<Figure size 1296x2016 with 11 Axes>"
      ]
     },
     "metadata": {
      "needs_background": "light"
     },
     "output_type": "display_data"
    }
   ],
   "source": [
    "#hide_input\n",
    "df = dft_ct_new_cases.copy()\n",
    "df.loc['Total'] = df.sum()\n",
    "n = 5\n",
    "ax = []\n",
    "fig = plt.figure(figsize = (18,28))\n",
    "gs = fig.add_gridspec(n+2, 5)\n",
    "# gs = fig.add_gridspec(2, 3)\n",
    "ax1 = fig.add_subplot(gs[0, :])\n",
    "ef = df.loc['Total'].rename_axis('date').reset_index()\n",
    "ef['date'] = ef['date'].astype('datetime64[ns]')\n",
    "ax1.bar(ef.date,ef.Total,alpha=0.3,color='#007acc')\n",
    "ax1.plot(ef.date,ef.Total , marker=\"o\", color='#007acc')\n",
    "ax1.xaxis.set_major_locator(mdates.WeekdayLocator())\n",
    "ax1.xaxis.set_major_formatter(mdates.DateFormatter('%b %d'))\n",
    "ax1.text(0.02, 0.5,'India daily case count', transform = ax1.transAxes, fontsize=25);\n",
    "ax1.spines['right'].set_visible(False)\n",
    "ax1.spines['top'].set_visible(False)\n",
    "\n",
    "ax2 = fig.add_subplot(gs[1,0])\n",
    "ef = df.loc['Maharashtra'].rename_axis('date').reset_index()\n",
    "ef['date'] = ef['date'].astype('datetime64[ns]')\n",
    "\n",
    "ax2.bar(ef.date, ef.Maharashtra,color = '#007acc',alpha=0.5)\n",
    "ax2.xaxis.set_major_locator(mdates.WeekdayLocator())\n",
    "ax2.xaxis.set_major_formatter(mdates.DateFormatter('%b %d'))\n",
    "ax2.set_xticks(ax2.get_xticks()[::3])\n",
    "maxyval = ef.Maharashtra.max()\n",
    "ax2.set_ylim([0,maxyval])\n",
    "ax2.text(0.05, 0.9,'Maharashtra', transform = ax2.transAxes, fontsize=20);\n",
    "ax2.spines['right'].set_visible(False)\n",
    "ax2.spines['top'].set_visible(False)\n",
    "\n",
    "\n",
    "ax3 = fig.add_subplot(gs[1,1])\n",
    "ef = df.loc['Tamil Nadu'].rename_axis('date').reset_index()\n",
    "ef['date'] = ef['date'].astype('datetime64[ns]')\n",
    "ax3.bar(ef.date, ef['Tamil Nadu'],color = '#007acc',alpha=0.5,)\n",
    "ax3.xaxis.set_major_locator(mdates.WeekdayLocator())\n",
    "ax3.xaxis.set_major_formatter(mdates.DateFormatter('%b %d'))\n",
    "ax3.set_xticks(ax3.get_xticks()[::3])\n",
    "ax3.text(0.05, 0.9,'Tamil Nadu', transform = ax3.transAxes, fontsize=20);\n",
    "ax3.spines['right'].set_visible(False)\n",
    "ax3.spines['top'].set_visible(False)\n",
    "\n",
    "ax5 = fig.add_subplot(gs[1,3])\n",
    "ef = df.loc['Telangana'].rename_axis('date').reset_index()\n",
    "ef['date'] = ef['date'].astype('datetime64[ns]')\n",
    "ax5.bar(ef.date, ef['Telangana'],color = '#007acc',alpha=0.5,)\n",
    "ax5.xaxis.set_major_locator(mdates.WeekdayLocator())\n",
    "ax5.xaxis.set_major_formatter(mdates.DateFormatter('%b %d'))\n",
    "ax5.set_xticks(ax5.get_xticks()[::3])\n",
    "ax5.text(0.05, 0.9,'Telangana', transform = ax5.transAxes, fontsize=20);\n",
    "ax5.spines['right'].set_visible(False)\n",
    "ax5.spines['top'].set_visible(False)\n",
    "\n",
    "ax6 = fig.add_subplot(gs[1,4])\n",
    "ef = df.loc['Andhra Pradesh'].rename_axis('date').reset_index()\n",
    "ef['date'] = ef['date'].astype('datetime64[ns]')\n",
    "ax6.bar(ef.date, ef['Andhra Pradesh'],color = '#007acc',alpha=0.5,)\n",
    "ax6.xaxis.set_major_locator(mdates.WeekdayLocator())\n",
    "ax6.xaxis.set_major_formatter(mdates.DateFormatter('%b %d'))\n",
    "ax6.set_xticks(ax6.get_xticks()[::3])\n",
    "ax6.text(0.05, 1,'Andhra Pradesh', transform = ax6.transAxes, fontsize=20);\n",
    "ax6.spines['right'].set_visible(False)\n",
    "ax6.spines['top'].set_visible(False)\n",
    "\n",
    "ax4 = fig.add_subplot(gs[1,2])\n",
    "ef = df.loc['Delhi'].rename_axis('date').reset_index()\n",
    "ef['date'] = ef['date'].astype('datetime64[ns]')\n",
    "ax4.bar(ef.date, ef.Delhi,color = '#007acc',alpha=0.5)\n",
    "ax4.set_xticks([])\n",
    "ax4.xaxis.set_major_locator(mdates.WeekdayLocator())\n",
    "ax4.xaxis.set_major_formatter(mdates.DateFormatter('%b %d'))\n",
    "ax4.set_xticks(ax4.get_xticks()[::3])\n",
    "ax4.spines['right'].set_visible(False)\n",
    "ax4.spines['top'].set_visible(False)\n",
    "\n",
    "ax4.text(0.05, 1,'Delhi', transform = ax4.transAxes, fontsize=20)\n",
    "\n",
    "for i in range(n):\n",
    "    \n",
    "    ax.append(fig.add_subplot(gs[i+2,:]))\n",
    "    ef = df.iloc[i+3].rename_axis('date').reset_index()\n",
    "    ef['date'] = ef['date'].astype('datetime64[ns]')\n",
    "    ax[i].bar(ef.date,ef.iloc[:,-1],color = '#007acc',alpha=0.3)\n",
    "    ax[i].plot(ef.date,ef.iloc[:,-1],marker='o',color='#007acc')\n",
    "    ax[i].text(0.02,0.5,f'{ef.columns.values[-1]}',transform = ax[i].transAxes, fontsize = 20);\n",
    "    ax[i].xaxis.set_major_locator(mdates.WeekdayLocator())\n",
    "    ax[i].xaxis.set_major_formatter(mdates.DateFormatter('%b %d'))\n",
    "    ax[i].set_ylim([0,7000])\n",
    "    ax[i].spines['right'].set_visible(False)\n",
    "    ax[i].spines['top'].set_visible(False)\n",
    "plt.tight_layout()\n"
   ]
  },
  {
   "cell_type": "code",
   "execution_count": 20,
   "metadata": {
    "execution": {
     "iopub.execute_input": "2020-09-27T13:21:44.955896Z",
     "iopub.status.busy": "2020-09-27T13:21:44.955272Z",
     "iopub.status.idle": "2020-09-27T13:21:44.958897Z",
     "shell.execute_reply": "2020-09-27T13:21:44.958383Z"
    },
    "papermill": {
     "duration": 0.036193,
     "end_time": "2020-09-27T13:21:44.959046",
     "exception": false,
     "start_time": "2020-09-27T13:21:44.922853",
     "status": "completed"
    },
    "tags": []
   },
   "outputs": [
    {
     "name": "stdout",
     "output_type": "stream",
     "text": [
      "                                   states    Cases  Deaths   PCases  PDeaths  Cases (+)  Deaths (+)  Fatality Rate\n",
      "                              Maharashtra  1321176   35191  1321176    35191          0           0           2.66\n",
      "                           Andhra Pradesh   668751    5663   668751     5663          0           0           0.85\n",
      "                               Tamil Nadu   575017    9233   575017     9233          0           0           1.61\n",
      "                                Karnataka   566023    8503   566023     8503          0           0           1.50\n",
      "                            Uttar Pradesh   382835    5517   382835     5517          0           0           1.44\n",
      "                                    Delhi   267822    5193   267822     5193          0           0           1.94\n",
      "                              West Bengal   244240    4721   244240     4721          0           0           1.93\n",
      "                                   Odisha   209374     850   205452      836       3922          14           0.41\n",
      "                                Telangana   185833    1100   183866     1091       1967           9           0.59\n",
      "                                    Bihar   178882     888   177355      886       1527           2           0.50\n",
      "                                   Kerala   175385     678   167940      657       7445          21           0.39\n",
      "                                    Assam   169110     638   169110      638          0           0           0.38\n",
      "                                  Gujarat   131808    3407   131808     3407          0           0           2.58\n",
      "                                Rajasthan   126775    1426   126775     1426          0           0           1.12\n",
      "                                  Haryana   122267    1291   122267     1291          0           0           1.06\n",
      "                           Madhya Pradesh   119899    2181   119899     2181          0           0           1.82\n",
      "                                   Punjab   108684    3188   108684     3188          0           0           2.93\n",
      "                             Chhattisgarh   102461     817   102461      817          0           0           0.80\n",
      "                                Jharkhand    78935     670    78935      670          0           0           0.85\n",
      "                        Jammu and Kashmir    71049    1125    71049     1125          0           0           1.58\n",
      "                              Uttarakhand    46281     566    46281      566          0           0           1.22\n",
      "                                      Goa    31574     391    31574      391          0           0           1.24\n",
      "                               Puducherry    26032     500    26032      500          0           0           1.92\n",
      "                                  Tripura    24725     267    24405      265        320           2           1.08\n",
      "                         Himachal Pradesh    13996     159    13996      159          0           0           1.14\n",
      "                               Chandigarh    11380     145    11380      145          0           0           1.27\n",
      "                                  Manipur    10051      64    10051       64          0           0           0.64\n",
      "                        Arunachal Pradesh     8869      14     8869       14          0           0           0.16\n",
      "                                 Nagaland     5862      11     5862       11          0           0           0.19\n",
      "                                Meghalaya     5212      43     5212       43          0           0           0.83\n",
      "                                   Ladakh     4093      57     4093       57          0           0           1.39\n",
      "              Andaman and Nicobar Islands     3774      52     3774       52          0           0           1.38\n",
      " Dadra and Nagar Haveli and Daman and Diu     3003       2     3000        2          3           0           0.07\n",
      "                                   Sikkim     2752      31     2752       31          0           0           1.13\n",
      "                                  Mizoram     1865       0     1835        0         30           0           0.00\n",
      "                              Lakshadweep        0       0        0        0          0           0            NaN\n"
     ]
    }
   ],
   "source": [
    "#hide_input\n",
    "print(df_table.to_string(index=False))"
   ]
  },
  {
   "cell_type": "code",
   "execution_count": null,
   "metadata": {
    "papermill": {
     "duration": 0.023542,
     "end_time": "2020-09-27T13:21:45.006237",
     "exception": false,
     "start_time": "2020-09-27T13:21:44.982695",
     "status": "completed"
    },
    "tags": []
   },
   "outputs": [],
   "source": []
  },
  {
   "cell_type": "code",
   "execution_count": null,
   "metadata": {
    "papermill": {
     "duration": 0.023591,
     "end_time": "2020-09-27T13:21:45.053387",
     "exception": false,
     "start_time": "2020-09-27T13:21:45.029796",
     "status": "completed"
    },
    "tags": []
   },
   "outputs": [],
   "source": []
  }
 ],
 "metadata": {
  "kernelspec": {
   "display_name": "Python 3",
   "language": "python",
   "name": "python3"
  },
  "language_info": {
   "codemirror_mode": {
    "name": "ipython",
    "version": 3
   },
   "file_extension": ".py",
   "mimetype": "text/x-python",
   "name": "python",
   "nbconvert_exporter": "python",
   "pygments_lexer": "ipython3",
   "version": "3.6.12"
  },
  "papermill": {
   "duration": 10.078159,
   "end_time": "2020-09-27T13:21:45.484900",
   "environment_variables": {},
   "exception": null,
   "input_path": "latest.ipynb",
   "output_path": "latest.ipynb",
   "parameters": {},
   "start_time": "2020-09-27T13:21:35.406741",
   "version": "2.1.2"
  }
 },
 "nbformat": 4,
 "nbformat_minor": 4
}