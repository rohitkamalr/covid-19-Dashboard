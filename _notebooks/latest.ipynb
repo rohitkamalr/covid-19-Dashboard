{
 "cells": [
  {
   "cell_type": "markdown",
   "id": "colored-stack",
   "metadata": {
    "papermill": {
     "duration": 0.019763,
     "end_time": "2021-05-09T11:23:16.095135",
     "exception": false,
     "start_time": "2021-05-09T11:23:16.075372",
     "status": "completed"
    },
    "tags": []
   },
   "source": [
    "# Latest COVID-19 India Matplotlib Overview"
   ]
  },
  {
   "cell_type": "code",
   "execution_count": 1,
   "id": "light-proportion",
   "metadata": {
    "execution": {
     "iopub.execute_input": "2021-05-09T11:23:16.134351Z",
     "iopub.status.busy": "2021-05-09T11:23:16.133852Z",
     "iopub.status.idle": "2021-05-09T11:23:16.641851Z",
     "shell.execute_reply": "2021-05-09T11:23:16.640752Z"
    },
    "papermill": {
     "duration": 0.532948,
     "end_time": "2021-05-09T11:23:16.642012",
     "exception": false,
     "start_time": "2021-05-09T11:23:16.109064",
     "status": "completed"
    },
    "tags": []
   },
   "outputs": [],
   "source": [
    "#hide\n",
    "import pandas as pd\n",
    "import numpy as np\n",
    "import requests\n",
    "import json\n",
    "import matplotlib.pyplot as plt\n",
    "import matplotlib.dates as mdates\n",
    "import matplotlib as mpl\n",
    "from IPython.core.display import display,HTML\n",
    "%matplotlib inline\n",
    "from datetime import date"
   ]
  },
  {
   "cell_type": "code",
   "execution_count": 2,
   "id": "greenhouse-shooting",
   "metadata": {
    "execution": {
     "iopub.execute_input": "2021-05-09T11:23:16.677555Z",
     "iopub.status.busy": "2021-05-09T11:23:16.676526Z",
     "iopub.status.idle": "2021-05-09T11:23:17.027559Z",
     "shell.execute_reply": "2021-05-09T11:23:17.026998Z"
    },
    "papermill": {
     "duration": 0.370421,
     "end_time": "2021-05-09T11:23:17.027680",
     "exception": false,
     "start_time": "2021-05-09T11:23:16.657259",
     "status": "completed"
    },
    "tags": []
   },
   "outputs": [],
   "source": [
    "#hide\n",
    "df  = pd.read_csv('https://api.covid19india.org/csv/latest/states.csv')\n",
    "df = df[['Date','State','Confirmed','Deceased']]\n",
    "df = df.rename(columns={'Confirmed':'Cases', \"Deceased\":'Deaths'})\n",
    "df_cases = df[[\"Date\",'State','Cases']]\n",
    "df_deaths = df[['Date','State','Deaths']]\n",
    "df_cases1 = df_cases.groupby('Date')\n",
    "df_deaths1= df_deaths.groupby('Date')"
   ]
  },
  {
   "cell_type": "code",
   "execution_count": 3,
   "id": "hybrid-cathedral",
   "metadata": {
    "execution": {
     "iopub.execute_input": "2021-05-09T11:23:17.061279Z",
     "iopub.status.busy": "2021-05-09T11:23:17.060772Z",
     "iopub.status.idle": "2021-05-09T11:23:17.076105Z",
     "shell.execute_reply": "2021-05-09T11:23:17.076512Z"
    },
    "papermill": {
     "duration": 0.033783,
     "end_time": "2021-05-09T11:23:17.076642",
     "exception": false,
     "start_time": "2021-05-09T11:23:17.042859",
     "status": "completed"
    },
    "tags": []
   },
   "outputs": [],
   "source": [
    "#hide\n",
    "df_snap = pd.read_csv('data/SnapshotCases-28-July.csv')\n",
    "arr_states = df_snap['states'].unique()\n",
    "arr_dates = df['Date'].unique()\n",
    "df_snap = df_snap.set_index('states')"
   ]
  },
  {
   "cell_type": "code",
   "execution_count": 4,
   "id": "interior-belfast",
   "metadata": {
    "execution": {
     "iopub.execute_input": "2021-05-09T11:23:17.109842Z",
     "iopub.status.busy": "2021-05-09T11:23:17.109314Z",
     "iopub.status.idle": "2021-05-09T11:23:17.111799Z",
     "shell.execute_reply": "2021-05-09T11:23:17.111476Z"
    },
    "papermill": {
     "duration": 0.021884,
     "end_time": "2021-05-09T11:23:17.111883",
     "exception": false,
     "start_time": "2021-05-09T11:23:17.089999",
     "status": "completed"
    },
    "tags": []
   },
   "outputs": [
    {
     "data": {
      "text/plain": [
       "array(['Andaman and Nicobar Islands', 'Andhra Pradesh',\n",
       "       'Arunachal Pradesh', 'Assam', 'Bihar', 'Chandigarh',\n",
       "       'Dadra and Nagar Haveli and Daman and Diu', 'Delhi', 'Goa',\n",
       "       'Gujarat', 'Haryana', 'Himachal Pradesh', 'Jammu and Kashmir',\n",
       "       'Jharkhand', 'Karnataka', 'Kerala', 'Lakshadweep',\n",
       "       'Madhya Pradesh', 'Maharashtra', 'Manipur', 'Meghalaya', 'Mizoram',\n",
       "       'Nagaland', 'Odisha', 'Puducherry', 'Punjab', 'Rajasthan',\n",
       "       'Sikkim', 'Tamil Nadu', 'Telangana', 'Tripura', 'Uttar Pradesh',\n",
       "       'West Bengal', 'Chhattisgarh', 'Ladakh', 'Uttarakhand'],\n",
       "      dtype=object)"
      ]
     },
     "execution_count": 4,
     "metadata": {},
     "output_type": "execute_result"
    }
   ],
   "source": [
    "#hide\n",
    "arr_states[-9] = 'Puducherry'\n",
    "arr_states[-10] = 'Odisha'\n",
    "arr_states[6] = 'Dadra and Nagar Haveli and Daman and Diu'\n",
    "arr_states = np.append(arr_states,np.array(['Chhattisgarh','Ladakh','Uttarakhand']))\n",
    "arr_states"
   ]
  },
  {
   "cell_type": "code",
   "execution_count": 5,
   "id": "behind-manner",
   "metadata": {
    "execution": {
     "iopub.execute_input": "2021-05-09T11:23:17.151751Z",
     "iopub.status.busy": "2021-05-09T11:23:17.151310Z",
     "iopub.status.idle": "2021-05-09T11:23:17.159814Z",
     "shell.execute_reply": "2021-05-09T11:23:17.159474Z"
    },
    "papermill": {
     "duration": 0.034543,
     "end_time": "2021-05-09T11:23:17.159891",
     "exception": false,
     "start_time": "2021-05-09T11:23:17.125348",
     "status": "completed"
    },
    "tags": []
   },
   "outputs": [],
   "source": [
    "#hide\n",
    "dates = []\n",
    "for i in arr_dates:\n",
    "    if i>='2020-07-01':\n",
    "        dates.append(i)\n",
    "dict = {'states':dates}\n",
    "for i in arr_states:\n",
    "    dict[i] = [0]*len(dates)\n",
    "dft_cases = pd.DataFrame(dict)\n",
    "dft_deaths = pd.DataFrame(dict)\n"
   ]
  },
  {
   "cell_type": "code",
   "execution_count": 6,
   "id": "simplified-peter",
   "metadata": {
    "execution": {
     "iopub.execute_input": "2021-05-09T11:23:17.191958Z",
     "iopub.status.busy": "2021-05-09T11:23:17.191550Z",
     "iopub.status.idle": "2021-05-09T11:23:21.017560Z",
     "shell.execute_reply": "2021-05-09T11:23:21.016740Z"
    },
    "papermill": {
     "duration": 3.84438,
     "end_time": "2021-05-09T11:23:21.017760",
     "exception": false,
     "start_time": "2021-05-09T11:23:17.173380",
     "status": "completed"
    },
    "tags": []
   },
   "outputs": [],
   "source": [
    "#hide\n",
    "for i in range(len(dates)):\n",
    "    df1_deaths = df_deaths1.get_group(dates[i])\n",
    "    for j in range(len(df1_deaths.index)):\n",
    "        if df1_deaths.iloc[j,1] in arr_states:\n",
    "            dft_deaths.loc[i,df1_deaths.iloc[j,1]] = df1_deaths.iloc[j,2]\n",
    "dft_deaths = dft_deaths.set_index('states')"
   ]
  },
  {
   "cell_type": "code",
   "execution_count": 7,
   "id": "geological-welding",
   "metadata": {
    "execution": {
     "iopub.execute_input": "2021-05-09T11:23:21.051667Z",
     "iopub.status.busy": "2021-05-09T11:23:21.051260Z",
     "iopub.status.idle": "2021-05-09T11:23:24.841738Z",
     "shell.execute_reply": "2021-05-09T11:23:24.841209Z"
    },
    "papermill": {
     "duration": 3.808852,
     "end_time": "2021-05-09T11:23:24.841868",
     "exception": false,
     "start_time": "2021-05-09T11:23:21.033016",
     "status": "completed"
    },
    "tags": []
   },
   "outputs": [],
   "source": [
    "#hide\n",
    "for i in range(len(dates)):\n",
    "    df1_cases = df_cases1.get_group(dates[i])\n",
    "    for j in range(len(df1_cases.index)):\n",
    "        if df1_cases.iloc[j,1] in arr_states:\n",
    "            dft_cases.loc[i,df1_cases.iloc[j,1]] = df1_cases.iloc[j,2]\n",
    "dft_cases = dft_cases.set_index('states')"
   ]
  },
  {
   "cell_type": "code",
   "execution_count": 8,
   "id": "binary-ratio",
   "metadata": {
    "execution": {
     "iopub.execute_input": "2021-05-09T11:23:24.879111Z",
     "iopub.status.busy": "2021-05-09T11:23:24.878233Z",
     "iopub.status.idle": "2021-05-09T11:23:24.881726Z",
     "shell.execute_reply": "2021-05-09T11:23:24.881234Z"
    },
    "papermill": {
     "duration": 0.024664,
     "end_time": "2021-05-09T11:23:24.881831",
     "exception": false,
     "start_time": "2021-05-09T11:23:24.857167",
     "status": "completed"
    },
    "tags": []
   },
   "outputs": [],
   "source": [
    "#hide\n",
    "dft_cases = dft_cases.T\n",
    "dft_deaths = dft_deaths.T\n",
    "dt_today = dates[-1]\n",
    "dt_yday = dates[-2]"
   ]
  },
  {
   "cell_type": "code",
   "execution_count": 9,
   "id": "boolean-calculator",
   "metadata": {
    "execution": {
     "iopub.execute_input": "2021-05-09T11:23:24.921490Z",
     "iopub.status.busy": "2021-05-09T11:23:24.918857Z",
     "iopub.status.idle": "2021-05-09T11:23:24.925022Z",
     "shell.execute_reply": "2021-05-09T11:23:24.925426Z"
    },
    "papermill": {
     "duration": 0.028403,
     "end_time": "2021-05-09T11:23:24.925546",
     "exception": false,
     "start_time": "2021-05-09T11:23:24.897143",
     "status": "completed"
    },
    "tags": []
   },
   "outputs": [],
   "source": [
    "#hide\n",
    "dft_cases = dft_cases.reset_index()\n",
    "dft_deaths = dft_deaths.reset_index()\n",
    "dft_cases = dft_cases.rename(columns = {'index':'state'})\n",
    "dft_deaths = dft_deaths.rename(columns = {'index':'state'})"
   ]
  },
  {
   "cell_type": "code",
   "execution_count": 10,
   "id": "invisible-johnston",
   "metadata": {
    "execution": {
     "iopub.execute_input": "2021-05-09T11:23:24.967656Z",
     "iopub.status.busy": "2021-05-09T11:23:24.967102Z",
     "iopub.status.idle": "2021-05-09T11:23:24.969611Z",
     "shell.execute_reply": "2021-05-09T11:23:24.969154Z"
    },
    "papermill": {
     "duration": 0.028953,
     "end_time": "2021-05-09T11:23:24.969724",
     "exception": false,
     "start_time": "2021-05-09T11:23:24.940771",
     "status": "completed"
    },
    "tags": []
   },
   "outputs": [],
   "source": [
    "#hide\n",
    "dfc_cases = dft_cases.groupby('state')[dt_today].sum()\n",
    "dfc_deaths = dft_deaths.groupby('state')[dt_today].sum()\n",
    "dfp_cases = dft_cases.groupby('state')[dt_yday].sum()\n",
    "dfp_deaths = dft_deaths.groupby('state')[dt_yday].sum()"
   ]
  },
  {
   "cell_type": "code",
   "execution_count": 11,
   "id": "measured-great",
   "metadata": {
    "execution": {
     "iopub.execute_input": "2021-05-09T11:23:25.012901Z",
     "iopub.status.busy": "2021-05-09T11:23:25.011281Z",
     "iopub.status.idle": "2021-05-09T11:23:25.019009Z",
     "shell.execute_reply": "2021-05-09T11:23:25.018606Z"
    },
    "papermill": {
     "duration": 0.033974,
     "end_time": "2021-05-09T11:23:25.019099",
     "exception": false,
     "start_time": "2021-05-09T11:23:24.985125",
     "status": "completed"
    },
    "tags": []
   },
   "outputs": [
    {
     "data": {
      "text/html": [
       "<div>\n",
       "<style scoped>\n",
       "    .dataframe tbody tr th:only-of-type {\n",
       "        vertical-align: middle;\n",
       "    }\n",
       "\n",
       "    .dataframe tbody tr th {\n",
       "        vertical-align: top;\n",
       "    }\n",
       "\n",
       "    .dataframe thead th {\n",
       "        text-align: right;\n",
       "    }\n",
       "</style>\n",
       "<table border=\"1\" class=\"dataframe\">\n",
       "  <thead>\n",
       "    <tr style=\"text-align: right;\">\n",
       "      <th></th>\n",
       "      <th>states</th>\n",
       "      <th>Cases</th>\n",
       "      <th>Deaths</th>\n",
       "      <th>PCases</th>\n",
       "      <th>PDeaths</th>\n",
       "    </tr>\n",
       "  </thead>\n",
       "  <tbody>\n",
       "    <tr>\n",
       "      <th>0</th>\n",
       "      <td>Maharashtra</td>\n",
       "      <td>5053336</td>\n",
       "      <td>75277</td>\n",
       "      <td>5053336</td>\n",
       "      <td>75277</td>\n",
       "    </tr>\n",
       "    <tr>\n",
       "      <th>1</th>\n",
       "      <td>Karnataka</td>\n",
       "      <td>1886448</td>\n",
       "      <td>18286</td>\n",
       "      <td>1886448</td>\n",
       "      <td>18286</td>\n",
       "    </tr>\n",
       "    <tr>\n",
       "      <th>2</th>\n",
       "      <td>Kerala</td>\n",
       "      <td>1866828</td>\n",
       "      <td>5747</td>\n",
       "      <td>1866828</td>\n",
       "      <td>5747</td>\n",
       "    </tr>\n",
       "    <tr>\n",
       "      <th>3</th>\n",
       "      <td>Uttar Pradesh</td>\n",
       "      <td>1480315</td>\n",
       "      <td>15170</td>\n",
       "      <td>1480315</td>\n",
       "      <td>15170</td>\n",
       "    </tr>\n",
       "    <tr>\n",
       "      <th>4</th>\n",
       "      <td>Tamil Nadu</td>\n",
       "      <td>1351362</td>\n",
       "      <td>15412</td>\n",
       "      <td>1351362</td>\n",
       "      <td>15412</td>\n",
       "    </tr>\n",
       "  </tbody>\n",
       "</table>\n",
       "</div>"
      ],
      "text/plain": [
       "          states    Cases  Deaths   PCases  PDeaths\n",
       "0    Maharashtra  5053336   75277  5053336    75277\n",
       "1      Karnataka  1886448   18286  1886448    18286\n",
       "2         Kerala  1866828    5747  1866828     5747\n",
       "3  Uttar Pradesh  1480315   15170  1480315    15170\n",
       "4     Tamil Nadu  1351362   15412  1351362    15412"
      ]
     },
     "execution_count": 11,
     "metadata": {},
     "output_type": "execute_result"
    }
   ],
   "source": [
    "#hide\n",
    "df_table = pd.DataFrame({'states': dfc_cases.index, 'Cases': dfc_cases.values, 'Deaths': dfc_deaths.values, 'PCases': dfp_cases.values, 'PDeaths': dfp_deaths.values}).set_index('states')\n",
    "df_table = df_table.sort_values(by = ['Cases','Deaths'], ascending = [False, False])\n",
    "df_table = df_table.reset_index()\n",
    "df_table.head()"
   ]
  },
  {
   "cell_type": "code",
   "execution_count": 12,
   "id": "found-montreal",
   "metadata": {
    "execution": {
     "iopub.execute_input": "2021-05-09T11:23:25.053884Z",
     "iopub.status.busy": "2021-05-09T11:23:25.053387Z",
     "iopub.status.idle": "2021-05-09T11:23:25.061326Z",
     "shell.execute_reply": "2021-05-09T11:23:25.061816Z"
    },
    "papermill": {
     "duration": 0.027655,
     "end_time": "2021-05-09T11:23:25.061939",
     "exception": false,
     "start_time": "2021-05-09T11:23:25.034284",
     "status": "completed"
    },
    "tags": []
   },
   "outputs": [],
   "source": [
    "#hide\n",
    "for c in 'Cases, Deaths'.split(', '):\n",
    "    df_table[f'{c} (+)'] = (df_table[c] - df_table[f'P{c}']).clip(0)\n",
    "df_table['Fatality Rate'] = (100* df_table['Deaths']/ df_table['Cases']).round(2)"
   ]
  },
  {
   "cell_type": "code",
   "execution_count": 13,
   "id": "minus-savage",
   "metadata": {
    "execution": {
     "iopub.execute_input": "2021-05-09T11:23:25.102355Z",
     "iopub.status.busy": "2021-05-09T11:23:25.101788Z",
     "iopub.status.idle": "2021-05-09T11:23:25.105514Z",
     "shell.execute_reply": "2021-05-09T11:23:25.105062Z"
    },
    "papermill": {
     "duration": 0.027024,
     "end_time": "2021-05-09T11:23:25.105614",
     "exception": false,
     "start_time": "2021-05-09T11:23:25.078590",
     "status": "completed"
    },
    "tags": []
   },
   "outputs": [
    {
     "data": {
      "text/html": [
       "<div>\n",
       "<style scoped>\n",
       "    .dataframe tbody tr th:only-of-type {\n",
       "        vertical-align: middle;\n",
       "    }\n",
       "\n",
       "    .dataframe tbody tr th {\n",
       "        vertical-align: top;\n",
       "    }\n",
       "\n",
       "    .dataframe thead th {\n",
       "        text-align: right;\n",
       "    }\n",
       "</style>\n",
       "<table border=\"1\" class=\"dataframe\">\n",
       "  <thead>\n",
       "    <tr style=\"text-align: right;\">\n",
       "      <th></th>\n",
       "      <th>states</th>\n",
       "      <th>Cases</th>\n",
       "      <th>Deaths</th>\n",
       "      <th>PCases</th>\n",
       "      <th>PDeaths</th>\n",
       "      <th>Cases (+)</th>\n",
       "      <th>Deaths (+)</th>\n",
       "      <th>Fatality Rate</th>\n",
       "    </tr>\n",
       "  </thead>\n",
       "  <tbody>\n",
       "    <tr>\n",
       "      <th>0</th>\n",
       "      <td>Maharashtra</td>\n",
       "      <td>5053336</td>\n",
       "      <td>75277</td>\n",
       "      <td>5053336</td>\n",
       "      <td>75277</td>\n",
       "      <td>0</td>\n",
       "      <td>0</td>\n",
       "      <td>1.49</td>\n",
       "    </tr>\n",
       "    <tr>\n",
       "      <th>1</th>\n",
       "      <td>Karnataka</td>\n",
       "      <td>1886448</td>\n",
       "      <td>18286</td>\n",
       "      <td>1886448</td>\n",
       "      <td>18286</td>\n",
       "      <td>0</td>\n",
       "      <td>0</td>\n",
       "      <td>0.97</td>\n",
       "    </tr>\n",
       "    <tr>\n",
       "      <th>2</th>\n",
       "      <td>Kerala</td>\n",
       "      <td>1866828</td>\n",
       "      <td>5747</td>\n",
       "      <td>1866828</td>\n",
       "      <td>5747</td>\n",
       "      <td>0</td>\n",
       "      <td>0</td>\n",
       "      <td>0.31</td>\n",
       "    </tr>\n",
       "    <tr>\n",
       "      <th>3</th>\n",
       "      <td>Uttar Pradesh</td>\n",
       "      <td>1480315</td>\n",
       "      <td>15170</td>\n",
       "      <td>1480315</td>\n",
       "      <td>15170</td>\n",
       "      <td>0</td>\n",
       "      <td>0</td>\n",
       "      <td>1.02</td>\n",
       "    </tr>\n",
       "    <tr>\n",
       "      <th>4</th>\n",
       "      <td>Tamil Nadu</td>\n",
       "      <td>1351362</td>\n",
       "      <td>15412</td>\n",
       "      <td>1351362</td>\n",
       "      <td>15412</td>\n",
       "      <td>0</td>\n",
       "      <td>0</td>\n",
       "      <td>1.14</td>\n",
       "    </tr>\n",
       "  </tbody>\n",
       "</table>\n",
       "</div>"
      ],
      "text/plain": [
       "          states    Cases  Deaths   PCases  PDeaths  Cases (+)  Deaths (+)  \\\n",
       "0    Maharashtra  5053336   75277  5053336    75277          0           0   \n",
       "1      Karnataka  1886448   18286  1886448    18286          0           0   \n",
       "2         Kerala  1866828    5747  1866828     5747          0           0   \n",
       "3  Uttar Pradesh  1480315   15170  1480315    15170          0           0   \n",
       "4     Tamil Nadu  1351362   15412  1351362    15412          0           0   \n",
       "\n",
       "   Fatality Rate  \n",
       "0           1.49  \n",
       "1           0.97  \n",
       "2           0.31  \n",
       "3           1.02  \n",
       "4           1.14  "
      ]
     },
     "execution_count": 13,
     "metadata": {},
     "output_type": "execute_result"
    }
   ],
   "source": [
    "#hide\n",
    "df_table.head()"
   ]
  },
  {
   "cell_type": "code",
   "execution_count": 14,
   "id": "false-peter",
   "metadata": {
    "execution": {
     "iopub.execute_input": "2021-05-09T11:23:25.140882Z",
     "iopub.status.busy": "2021-05-09T11:23:25.140479Z",
     "iopub.status.idle": "2021-05-09T11:23:25.156004Z",
     "shell.execute_reply": "2021-05-09T11:23:25.155538Z"
    },
    "papermill": {
     "duration": 0.035726,
     "end_time": "2021-05-09T11:23:25.156108",
     "exception": false,
     "start_time": "2021-05-09T11:23:25.120382",
     "status": "completed"
    },
    "tags": []
   },
   "outputs": [
    {
     "data": {
      "text/plain": [
       "{'updated': '2021-05-09',\n",
       " 'since': '2021-05-08',\n",
       " 'Cases': 22321229,\n",
       " 'PCases': 22296093,\n",
       " 'Deaths': 242712,\n",
       " 'PDeaths': 242399,\n",
       " 'Cases (+)': 25136,\n",
       " 'Deaths (+)': 313}"
      ]
     },
     "execution_count": 14,
     "metadata": {},
     "output_type": "execute_result"
    }
   ],
   "source": [
    "#hide\n",
    "summary = {'updated':dates[-1], 'since':dates[-2]}\n",
    "list_names = ['Cases', 'PCases', 'Deaths', 'PDeaths', 'Cases (+)', 'Deaths (+)']\n",
    "for name in list_names:\n",
    "    summary[name] = df_table.sum()[name]\n",
    "summary"
   ]
  },
  {
   "cell_type": "code",
   "execution_count": 15,
   "id": "packed-viewer",
   "metadata": {
    "execution": {
     "iopub.execute_input": "2021-05-09T11:23:25.193283Z",
     "iopub.status.busy": "2021-05-09T11:23:25.192442Z",
     "iopub.status.idle": "2021-05-09T11:23:25.194161Z",
     "shell.execute_reply": "2021-05-09T11:23:25.194862Z"
    },
    "papermill": {
     "duration": 0.022821,
     "end_time": "2021-05-09T11:23:25.195039",
     "exception": false,
     "start_time": "2021-05-09T11:23:25.172218",
     "status": "completed"
    },
    "tags": []
   },
   "outputs": [],
   "source": [
    "#hide\n",
    "overview = '''\n",
    "<!-- #######  HTML!! #########-->\n",
    "<h1 style=\"color: #5e9ca0; text-align: center;\">India</h1>\n",
    "<p style=\"text-align: center;\">Last update: <strong>{update}</strong></p>\n",
    "<p style=\"text-align: center;\">Confirmed cases:</p>\n",
    "<p style=\"text-align: center;font-size:24px;\">{cases} (<span style=\"color: #ff0000;\">+{new}</span>)</p>\n",
    "<p style=\"text-align: center;\">Confirmed deaths:</p>\n",
    "<p style=\"text-align: center;font-size:24px;\">{deaths} (<span style=\"color: #ff0000;\">+{dnew}</span>)</p>\n",
    "'''"
   ]
  },
  {
   "cell_type": "code",
   "execution_count": 16,
   "id": "phantom-lover",
   "metadata": {
    "execution": {
     "iopub.execute_input": "2021-05-09T11:23:25.233771Z",
     "iopub.status.busy": "2021-05-09T11:23:25.232835Z",
     "iopub.status.idle": "2021-05-09T11:23:25.236163Z",
     "shell.execute_reply": "2021-05-09T11:23:25.236728Z"
    },
    "papermill": {
     "duration": 0.025818,
     "end_time": "2021-05-09T11:23:25.236841",
     "exception": false,
     "start_time": "2021-05-09T11:23:25.211023",
     "status": "completed"
    },
    "tags": []
   },
   "outputs": [
    {
     "data": {
      "text/html": [
       "\n",
       "<!-- #######  HTML!! #########-->\n",
       "<h1 style=\"color: #5e9ca0; text-align: center;\">India</h1>\n",
       "<p style=\"text-align: center;\">Last update: <strong>2021-05-09</strong></p>\n",
       "<p style=\"text-align: center;\">Confirmed cases:</p>\n",
       "<p style=\"text-align: center;font-size:24px;\">22321229 (<span style=\"color: #ff0000;\">+25136</span>)</p>\n",
       "<p style=\"text-align: center;\">Confirmed deaths:</p>\n",
       "<p style=\"text-align: center;font-size:24px;\">242712 (<span style=\"color: #ff0000;\">+313</span>)</p>\n"
      ],
      "text/plain": [
       "<IPython.core.display.HTML object>"
      ]
     },
     "metadata": {},
     "output_type": "display_data"
    }
   ],
   "source": [
    "#hide_input\n",
    "update = summary['updated']\n",
    "cases = summary['Cases']\n",
    "new = summary['Cases (+)']\n",
    "deaths = summary['Deaths']\n",
    "dnew = summary['Deaths (+)']\n",
    "\n",
    "html = HTML(overview.format(update=update, cases=cases,new=new,deaths=deaths,dnew=dnew))\n",
    "\n",
    "display(html)"
   ]
  },
  {
   "cell_type": "code",
   "execution_count": 17,
   "id": "sealed-reset",
   "metadata": {
    "execution": {
     "iopub.execute_input": "2021-05-09T11:23:25.278940Z",
     "iopub.status.busy": "2021-05-09T11:23:25.278342Z",
     "iopub.status.idle": "2021-05-09T11:23:25.284866Z",
     "shell.execute_reply": "2021-05-09T11:23:25.285304Z"
    },
    "papermill": {
     "duration": 0.031835,
     "end_time": "2021-05-09T11:23:25.285432",
     "exception": false,
     "start_time": "2021-05-09T11:23:25.253597",
     "status": "completed"
    },
    "tags": []
   },
   "outputs": [],
   "source": [
    "#hide\n",
    "dt_cols = list(dft_cases.columns[1:])\n",
    "dft_ct_new_cases = dft_cases.groupby('state')[dt_cols].sum().diff(axis=1).fillna(0).astype(int)\n",
    "dft_ct_new_cases.sort_values(by = dates[-1], ascending = False,inplace = True)"
   ]
  },
  {
   "cell_type": "code",
   "execution_count": 18,
   "id": "designed-constant",
   "metadata": {
    "execution": {
     "iopub.execute_input": "2021-05-09T11:23:25.338116Z",
     "iopub.status.busy": "2021-05-09T11:23:25.337553Z",
     "iopub.status.idle": "2021-05-09T11:23:25.339919Z",
     "shell.execute_reply": "2021-05-09T11:23:25.340267Z"
    },
    "papermill": {
     "duration": 0.037969,
     "end_time": "2021-05-09T11:23:25.340357",
     "exception": false,
     "start_time": "2021-05-09T11:23:25.302388",
     "status": "completed"
    },
    "tags": []
   },
   "outputs": [
    {
     "data": {
      "text/html": [
       "<div>\n",
       "<style scoped>\n",
       "    .dataframe tbody tr th:only-of-type {\n",
       "        vertical-align: middle;\n",
       "    }\n",
       "\n",
       "    .dataframe tbody tr th {\n",
       "        vertical-align: top;\n",
       "    }\n",
       "\n",
       "    .dataframe thead th {\n",
       "        text-align: right;\n",
       "    }\n",
       "</style>\n",
       "<table border=\"1\" class=\"dataframe\">\n",
       "  <thead>\n",
       "    <tr style=\"text-align: right;\">\n",
       "      <th>states</th>\n",
       "      <th>2020-07-01</th>\n",
       "      <th>2020-07-02</th>\n",
       "      <th>2020-07-03</th>\n",
       "      <th>2020-07-04</th>\n",
       "      <th>2020-07-05</th>\n",
       "      <th>2020-07-06</th>\n",
       "      <th>2020-07-07</th>\n",
       "      <th>2020-07-08</th>\n",
       "      <th>2020-07-09</th>\n",
       "      <th>2020-07-10</th>\n",
       "      <th>...</th>\n",
       "      <th>2021-04-30</th>\n",
       "      <th>2021-05-01</th>\n",
       "      <th>2021-05-02</th>\n",
       "      <th>2021-05-03</th>\n",
       "      <th>2021-05-04</th>\n",
       "      <th>2021-05-05</th>\n",
       "      <th>2021-05-06</th>\n",
       "      <th>2021-05-07</th>\n",
       "      <th>2021-05-08</th>\n",
       "      <th>2021-05-09</th>\n",
       "    </tr>\n",
       "    <tr>\n",
       "      <th>state</th>\n",
       "      <th></th>\n",
       "      <th></th>\n",
       "      <th></th>\n",
       "      <th></th>\n",
       "      <th></th>\n",
       "      <th></th>\n",
       "      <th></th>\n",
       "      <th></th>\n",
       "      <th></th>\n",
       "      <th></th>\n",
       "      <th></th>\n",
       "      <th></th>\n",
       "      <th></th>\n",
       "      <th></th>\n",
       "      <th></th>\n",
       "      <th></th>\n",
       "      <th></th>\n",
       "      <th></th>\n",
       "      <th></th>\n",
       "      <th></th>\n",
       "      <th></th>\n",
       "    </tr>\n",
       "  </thead>\n",
       "  <tbody>\n",
       "    <tr>\n",
       "      <th>Delhi</th>\n",
       "      <td>0</td>\n",
       "      <td>2373</td>\n",
       "      <td>2520</td>\n",
       "      <td>2505</td>\n",
       "      <td>2244</td>\n",
       "      <td>1379</td>\n",
       "      <td>2008</td>\n",
       "      <td>2033</td>\n",
       "      <td>2187</td>\n",
       "      <td>2089</td>\n",
       "      <td>...</td>\n",
       "      <td>27047</td>\n",
       "      <td>25219</td>\n",
       "      <td>20394</td>\n",
       "      <td>18043</td>\n",
       "      <td>19953</td>\n",
       "      <td>20960</td>\n",
       "      <td>19133</td>\n",
       "      <td>19832</td>\n",
       "      <td>17364</td>\n",
       "      <td>13336</td>\n",
       "    </tr>\n",
       "    <tr>\n",
       "      <th>Odisha</th>\n",
       "      <td>0</td>\n",
       "      <td>229</td>\n",
       "      <td>561</td>\n",
       "      <td>495</td>\n",
       "      <td>469</td>\n",
       "      <td>456</td>\n",
       "      <td>571</td>\n",
       "      <td>527</td>\n",
       "      <td>577</td>\n",
       "      <td>755</td>\n",
       "      <td>...</td>\n",
       "      <td>8681</td>\n",
       "      <td>10413</td>\n",
       "      <td>8015</td>\n",
       "      <td>8914</td>\n",
       "      <td>8216</td>\n",
       "      <td>9889</td>\n",
       "      <td>10521</td>\n",
       "      <td>12238</td>\n",
       "      <td>11807</td>\n",
       "      <td>10635</td>\n",
       "    </tr>\n",
       "    <tr>\n",
       "      <th>Meghalaya</th>\n",
       "      <td>0</td>\n",
       "      <td>3</td>\n",
       "      <td>4</td>\n",
       "      <td>8</td>\n",
       "      <td>2</td>\n",
       "      <td>16</td>\n",
       "      <td>6</td>\n",
       "      <td>6</td>\n",
       "      <td>13</td>\n",
       "      <td>73</td>\n",
       "      <td>...</td>\n",
       "      <td>229</td>\n",
       "      <td>262</td>\n",
       "      <td>321</td>\n",
       "      <td>246</td>\n",
       "      <td>339</td>\n",
       "      <td>269</td>\n",
       "      <td>347</td>\n",
       "      <td>297</td>\n",
       "      <td>375</td>\n",
       "      <td>418</td>\n",
       "    </tr>\n",
       "    <tr>\n",
       "      <th>Tripura</th>\n",
       "      <td>0</td>\n",
       "      <td>39</td>\n",
       "      <td>93</td>\n",
       "      <td>25</td>\n",
       "      <td>23</td>\n",
       "      <td>111</td>\n",
       "      <td>24</td>\n",
       "      <td>57</td>\n",
       "      <td>16</td>\n",
       "      <td>142</td>\n",
       "      <td>...</td>\n",
       "      <td>141</td>\n",
       "      <td>173</td>\n",
       "      <td>247</td>\n",
       "      <td>134</td>\n",
       "      <td>271</td>\n",
       "      <td>240</td>\n",
       "      <td>300</td>\n",
       "      <td>315</td>\n",
       "      <td>359</td>\n",
       "      <td>351</td>\n",
       "    </tr>\n",
       "    <tr>\n",
       "      <th>Sikkim</th>\n",
       "      <td>0</td>\n",
       "      <td>12</td>\n",
       "      <td>1</td>\n",
       "      <td>1</td>\n",
       "      <td>22</td>\n",
       "      <td>0</td>\n",
       "      <td>2</td>\n",
       "      <td>6</td>\n",
       "      <td>1</td>\n",
       "      <td>-13</td>\n",
       "      <td>...</td>\n",
       "      <td>205</td>\n",
       "      <td>259</td>\n",
       "      <td>230</td>\n",
       "      <td>27</td>\n",
       "      <td>230</td>\n",
       "      <td>221</td>\n",
       "      <td>264</td>\n",
       "      <td>268</td>\n",
       "      <td>200</td>\n",
       "      <td>227</td>\n",
       "    </tr>\n",
       "  </tbody>\n",
       "</table>\n",
       "<p>5 rows × 313 columns</p>\n",
       "</div>"
      ],
      "text/plain": [
       "states     2020-07-01  2020-07-02  2020-07-03  2020-07-04  2020-07-05  \\\n",
       "state                                                                   \n",
       "Delhi               0        2373        2520        2505        2244   \n",
       "Odisha              0         229         561         495         469   \n",
       "Meghalaya           0           3           4           8           2   \n",
       "Tripura             0          39          93          25          23   \n",
       "Sikkim              0          12           1           1          22   \n",
       "\n",
       "states     2020-07-06  2020-07-07  2020-07-08  2020-07-09  2020-07-10  ...  \\\n",
       "state                                                                  ...   \n",
       "Delhi            1379        2008        2033        2187        2089  ...   \n",
       "Odisha            456         571         527         577         755  ...   \n",
       "Meghalaya          16           6           6          13          73  ...   \n",
       "Tripura           111          24          57          16         142  ...   \n",
       "Sikkim              0           2           6           1         -13  ...   \n",
       "\n",
       "states     2021-04-30  2021-05-01  2021-05-02  2021-05-03  2021-05-04  \\\n",
       "state                                                                   \n",
       "Delhi           27047       25219       20394       18043       19953   \n",
       "Odisha           8681       10413        8015        8914        8216   \n",
       "Meghalaya         229         262         321         246         339   \n",
       "Tripura           141         173         247         134         271   \n",
       "Sikkim            205         259         230          27         230   \n",
       "\n",
       "states     2021-05-05  2021-05-06  2021-05-07  2021-05-08  2021-05-09  \n",
       "state                                                                  \n",
       "Delhi           20960       19133       19832       17364       13336  \n",
       "Odisha           9889       10521       12238       11807       10635  \n",
       "Meghalaya         269         347         297         375         418  \n",
       "Tripura           240         300         315         359         351  \n",
       "Sikkim            221         264         268         200         227  \n",
       "\n",
       "[5 rows x 313 columns]"
      ]
     },
     "execution_count": 18,
     "metadata": {},
     "output_type": "execute_result"
    }
   ],
   "source": [
    "#hide\n",
    "dft_ct_new_cases.head()"
   ]
  },
  {
   "cell_type": "code",
   "execution_count": 19,
   "id": "responsible-nightlife",
   "metadata": {
    "execution": {
     "iopub.execute_input": "2021-05-09T11:23:25.397232Z",
     "iopub.status.busy": "2021-05-09T11:23:25.386738Z",
     "iopub.status.idle": "2021-05-09T11:23:35.157248Z",
     "shell.execute_reply": "2021-05-09T11:23:35.157640Z"
    },
    "papermill": {
     "duration": 9.79989,
     "end_time": "2021-05-09T11:23:35.157770",
     "exception": false,
     "start_time": "2021-05-09T11:23:25.357880",
     "status": "completed"
    },
    "tags": []
   },
   "outputs": [
    {
     "data": {
      "image/png": "[encoded data removed]",
      "text/plain": [
       "<Figure size 1296x2016 with 11 Axes>"
      ]
     },
     "metadata": {
      "needs_background": "light"
     },
     "output_type": "display_data"
    }
   ],
   "source": [
    "#hide_input\n",
    "df = dft_ct_new_cases.copy()\n",
    "df.loc['Total'] = df.sum()\n",
    "n = 5\n",
    "ax = []\n",
    "fig = plt.figure(figsize = (18,28))\n",
    "gs = fig.add_gridspec(n+2, 5)\n",
    "# gs = fig.add_gridspec(2, 3)\n",
    "ax1 = fig.add_subplot(gs[0, :])\n",
    "ef = df.loc['Total'].rename_axis('date').reset_index()\n",
    "ef['date'] = ef['date'].astype('datetime64[ns]')\n",
    "ax1.bar(ef.date,ef.Total,alpha=0.3,color='#007acc')\n",
    "ax1.plot(ef.date,ef.Total , marker=\"o\", color='#007acc')\n",
    "ax1.xaxis.set_major_locator(mdates.WeekdayLocator())\n",
    "ax1.xaxis.set_major_formatter(mdates.DateFormatter('%b %d'))\n",
    "ax1.text(0.02, 0.5,'India daily case count', transform = ax1.transAxes, fontsize=25);\n",
    "ax1.spines['right'].set_visible(False)\n",
    "ax1.spines['top'].set_visible(False)\n",
    "\n",
    "ax2 = fig.add_subplot(gs[1,0])\n",
    "ef = df.loc['Maharashtra'].rename_axis('date').reset_index()\n",
    "ef['date'] = ef['date'].astype('datetime64[ns]')\n",
    "\n",
    "ax2.bar(ef.date, ef.Maharashtra,color = '#007acc',alpha=0.5)\n",
    "ax2.xaxis.set_major_locator(mdates.WeekdayLocator())\n",
    "ax2.xaxis.set_major_formatter(mdates.DateFormatter('%b %d'))\n",
    "ax2.set_xticks(ax2.get_xticks()[::3])\n",
    "maxyval = ef.Maharashtra.max()\n",
    "ax2.set_ylim([0,maxyval])\n",
    "ax2.text(0.05, 0.9,'Maharashtra', transform = ax2.transAxes, fontsize=20);\n",
    "ax2.spines['right'].set_visible(False)\n",
    "ax2.spines['top'].set_visible(False)\n",
    "\n",
    "\n",
    "ax3 = fig.add_subplot(gs[1,1])\n",
    "ef = df.loc['Tamil Nadu'].rename_axis('date').reset_index()\n",
    "ef['date'] = ef['date'].astype('datetime64[ns]')\n",
    "ax3.bar(ef.date, ef['Tamil Nadu'],color = '#007acc',alpha=0.5,)\n",
    "ax3.xaxis.set_major_locator(mdates.WeekdayLocator())\n",
    "ax3.xaxis.set_major_formatter(mdates.DateFormatter('%b %d'))\n",
    "ax3.set_xticks(ax3.get_xticks()[::3])\n",
    "ax3.text(0.05, 0.9,'Tamil Nadu', transform = ax3.transAxes, fontsize=20);\n",
    "ax3.spines['right'].set_visible(False)\n",
    "ax3.spines['top'].set_visible(False)\n",
    "\n",
    "ax5 = fig.add_subplot(gs[1,3])\n",
    "ef = df.loc['Telangana'].rename_axis('date').reset_index()\n",
    "ef['date'] = ef['date'].astype('datetime64[ns]')\n",
    "ax5.bar(ef.date, ef['Telangana'],color = '#007acc',alpha=0.5,)\n",
    "ax5.xaxis.set_major_locator(mdates.WeekdayLocator())\n",
    "ax5.xaxis.set_major_formatter(mdates.DateFormatter('%b %d'))\n",
    "ax5.set_xticks(ax5.get_xticks()[::3])\n",
    "ax5.text(0.05, 0.9,'Telangana', transform = ax5.transAxes, fontsize=20);\n",
    "ax5.spines['right'].set_visible(False)\n",
    "ax5.spines['top'].set_visible(False)\n",
    "\n",
    "ax6 = fig.add_subplot(gs[1,4])\n",
    "ef = df.loc['Andhra Pradesh'].rename_axis('date').reset_index()\n",
    "ef['date'] = ef['date'].astype('datetime64[ns]')\n",
    "ax6.bar(ef.date, ef['Andhra Pradesh'],color = '#007acc',alpha=0.5,)\n",
    "ax6.xaxis.set_major_locator(mdates.WeekdayLocator())\n",
    "ax6.xaxis.set_major_formatter(mdates.DateFormatter('%b %d'))\n",
    "ax6.set_xticks(ax6.get_xticks()[::3])\n",
    "ax6.text(0.05, 1,'Andhra Pradesh', transform = ax6.transAxes, fontsize=20);\n",
    "ax6.spines['right'].set_visible(False)\n",
    "ax6.spines['top'].set_visible(False)\n",
    "\n",
    "ax4 = fig.add_subplot(gs[1,2])\n",
    "ef = df.loc['Delhi'].rename_axis('date').reset_index()\n",
    "ef['date'] = ef['date'].astype('datetime64[ns]')\n",
    "ax4.bar(ef.date, ef.Delhi,color = '#007acc',alpha=0.5)\n",
    "ax4.set_xticks([])\n",
    "ax4.xaxis.set_major_locator(mdates.WeekdayLocator())\n",
    "ax4.xaxis.set_major_formatter(mdates.DateFormatter('%b %d'))\n",
    "ax4.set_xticks(ax4.get_xticks()[::3])\n",
    "ax4.spines['right'].set_visible(False)\n",
    "ax4.spines['top'].set_visible(False)\n",
    "\n",
    "ax4.text(0.05, 1,'Delhi', transform = ax4.transAxes, fontsize=20)\n",
    "\n",
    "for i in range(n):\n",
    "    \n",
    "    ax.append(fig.add_subplot(gs[i+2,:]))\n",
    "    ef = df.iloc[i+3].rename_axis('date').reset_index()\n",
    "    ef['date'] = ef['date'].astype('datetime64[ns]')\n",
    "    ax[i].bar(ef.date,ef.iloc[:,-1],color = '#007acc',alpha=0.3)\n",
    "    ax[i].plot(ef.date,ef.iloc[:,-1],marker='o',color='#007acc')\n",
    "    ax[i].text(0.02,0.5,f'{ef.columns.values[-1]}',transform = ax[i].transAxes, fontsize = 20);\n",
    "    ax[i].xaxis.set_major_locator(mdates.WeekdayLocator())\n",
    "    ax[i].xaxis.set_major_formatter(mdates.DateFormatter('%b %d'))\n",
    "    ax[i].set_ylim([0,7000])\n",
    "    ax[i].spines['right'].set_visible(False)\n",
    "    ax[i].spines['top'].set_visible(False)\n",
    "plt.tight_layout()\n"
   ]
  },
  {
   "cell_type": "code",
   "execution_count": 20,
   "id": "dress-forge",
   "metadata": {
    "execution": {
     "iopub.execute_input": "2021-05-09T11:23:35.257037Z",
     "iopub.status.busy": "2021-05-09T11:23:35.256431Z",
     "iopub.status.idle": "2021-05-09T11:23:35.260755Z",
     "shell.execute_reply": "2021-05-09T11:23:35.260404Z"
    },
    "papermill": {
     "duration": 0.081727,
     "end_time": "2021-05-09T11:23:35.260841",
     "exception": false,
     "start_time": "2021-05-09T11:23:35.179114",
     "status": "completed"
    },
    "tags": []
   },
   "outputs": [
    {
     "name": "stdout",
     "output_type": "stream",
     "text": [
      "                                   states    Cases  Deaths   PCases  PDeaths  Cases (+)  Deaths (+)  Fatality Rate\n",
      "                              Maharashtra  5053336   75277  5053336    75277          0           0           1.49\n",
      "                                Karnataka  1886448   18286  1886448    18286          0           0           0.97\n",
      "                                   Kerala  1866828    5747  1866828     5747          0           0           0.31\n",
      "                            Uttar Pradesh  1480315   15170  1480315    15170          0           0           1.02\n",
      "                               Tamil Nadu  1351362   15412  1351362    15412          0           0           1.14\n",
      "                                    Delhi  1323567   19344  1310231    19071      13336         273           1.46\n",
      "                           Andhra Pradesh  1265439    8615  1265439     8615          0           0           0.68\n",
      "                              West Bengal   973718   12203   973718    12203          0           0           1.25\n",
      "                             Chhattisgarh   842356   10381   842356    10381          0           0           1.23\n",
      "                                Rajasthan   738786    5506   738786     5506          0           0           0.75\n",
      "                                  Gujarat   669928    8273   669928     8273          0           0           1.23\n",
      "                           Madhya Pradesh   660712    6334   660712     6334          0           0           0.96\n",
      "                                  Haryana   602349    5454   602349     5454          0           0           0.91\n",
      "                                    Bihar   580217    3215   580217     3215          0           0           0.55\n",
      "                                   Odisha   534842    2233   524207     2214      10635          19           0.42\n",
      "                                Telangana   492385    2704   492385     2704          0           0           0.55\n",
      "                                   Punjab   433689   10315   433689    10315          0           0           2.38\n",
      "                                    Assam   289069    1628   289069     1628          0           0           0.56\n",
      "                                Jharkhand   282174    3756   282174     3756          0           0           1.33\n",
      "                              Uttarakhand   238383    3548   238383     3548          0           0           1.49\n",
      "                        Jammu and Kashmir   211742    2672   211742     2672          0           0           1.26\n",
      "                         Himachal Pradesh   128330    1817   128330     1817          0           0           1.42\n",
      "                                      Goa   116213    1612   116213     1612          0           0           1.39\n",
      "                               Puducherry    70076     939    70076      939          0           0           1.34\n",
      "                               Chandigarh    49312     558    49312      558          0           0           1.13\n",
      "                                  Tripura    37556     403    37205      402        351           1           1.07\n",
      "                                  Manipur    34775     461    34775      461          0           0           1.33\n",
      "                        Arunachal Pradesh    20048      60    20048       60          0           0           0.30\n",
      "                                Meghalaya    19720     228    19302      210        418          18           1.16\n",
      "                                 Nagaland    15913     137    15913      137          0           0           0.86\n",
      "                                   Ladakh    15179     153    15179      153          0           0           1.01\n",
      "                                   Sikkim     9878     167     9651      165        227           2           1.69\n",
      " Dadra and Nagar Haveli and Daman and Diu     8936       4     8936        4          0           0           0.04\n",
      "                                  Mizoram     7551      17     7382       17        169           0           0.23\n",
      "              Andaman and Nicobar Islands     6341      74     6341       74          0           0           1.17\n",
      "                              Lakshadweep     3756       9     3756        9          0           0           0.24\n"
     ]
    }
   ],
   "source": [
    "#hide_input\n",
    "print(df_table.to_string(index=False))"
   ]
  },
  {
   "cell_type": "code",
   "execution_count": null,
   "id": "quantitative-legend",
   "metadata": {
    "papermill": {
     "duration": 0.027069,
     "end_time": "2021-05-09T11:23:35.310281",
     "exception": false,
     "start_time": "2021-05-09T11:23:35.283212",
     "status": "completed"
    },
    "tags": []
   },
   "outputs": [],
   "source": []
  },
  {
   "cell_type": "code",
   "execution_count": null,
   "id": "distant-acoustic",
   "metadata": {
    "papermill": {
     "duration": 0.107472,
     "end_time": "2021-05-09T11:23:35.498599",
     "exception": false,
     "start_time": "2021-05-09T11:23:35.391127",
     "status": "completed"
    },
    "tags": []
   },
   "outputs": [],
   "source": []
  }
 ],
 "metadata": {
  "kernelspec": {
   "display_name": "Python 3",
   "language": "python",
   "name": "python3"
  },
  "language_info": {
   "codemirror_mode": {
    "name": "ipython",
    "version": 3
   },
   "file_extension": ".py",
   "mimetype": "text/x-python",
   "name": "python",
   "nbconvert_exporter": "python",
   "pygments_lexer": "ipython3",
   "version": "3.6.13"
  },
  "papermill": {
   "duration": 21.111048,
   "end_time": "2021-05-09T11:23:36.133411",
   "environment_variables": {},
   "exception": null,
   "input_path": "latest.ipynb",
   "output_path": "latest.ipynb",
   "parameters": {},
   "start_time": "2021-05-09T11:23:15.022363",
   "version": "2.1.2"
  }
 },
 "nbformat": 4,
 "nbformat_minor": 5
}