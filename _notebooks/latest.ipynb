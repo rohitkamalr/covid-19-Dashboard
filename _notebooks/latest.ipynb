{
 "cells": [
  {
   "cell_type": "markdown",
   "metadata": {
    "papermill": {
     "duration": 0.022179,
     "end_time": "2020-09-05T04:59:08.583367",
     "exception": false,
     "start_time": "2020-09-05T04:59:08.561188",
     "status": "completed"
    },
    "tags": []
   },
   "source": [
    "# Latest COVID-19 India Matplotlib Overview"
   ]
  },
  {
   "cell_type": "code",
   "execution_count": 1,
   "metadata": {
    "execution": {
     "iopub.execute_input": "2020-09-05T04:59:08.618785Z",
     "iopub.status.busy": "2020-09-05T04:59:08.618240Z",
     "iopub.status.idle": "2020-09-05T04:59:09.166098Z",
     "shell.execute_reply": "2020-09-05T04:59:09.165181Z"
    },
    "papermill": {
     "duration": 0.568864,
     "end_time": "2020-09-05T04:59:09.166262",
     "exception": false,
     "start_time": "2020-09-05T04:59:08.597398",
     "status": "completed"
    },
    "tags": []
   },
   "outputs": [],
   "source": [
    "#hide\n",
    "import pandas as pd\n",
    "import numpy as np\n",
    "import requests\n",
    "import json\n",
    "import matplotlib.pyplot as plt\n",
    "import matplotlib.dates as mdates\n",
    "import matplotlib as mpl\n",
    "from IPython.core.display import display,HTML\n",
    "%matplotlib inline\n",
    "from datetime import date"
   ]
  },
  {
   "cell_type": "code",
   "execution_count": 2,
   "metadata": {
    "execution": {
     "iopub.execute_input": "2020-09-05T04:59:09.200590Z",
     "iopub.status.busy": "2020-09-05T04:59:09.199572Z",
     "iopub.status.idle": "2020-09-05T04:59:09.694477Z",
     "shell.execute_reply": "2020-09-05T04:59:09.693948Z"
    },
    "papermill": {
     "duration": 0.514308,
     "end_time": "2020-09-05T04:59:09.694604",
     "exception": false,
     "start_time": "2020-09-05T04:59:09.180296",
     "status": "completed"
    },
    "tags": []
   },
   "outputs": [],
   "source": [
    "#hide\n",
    "df  = pd.read_csv('https://api.covid19india.org/csv/latest/states.csv')\n",
    "df = df[['Date','State','Confirmed','Deceased']]\n",
    "df = df.rename(columns={'Confirmed':'Cases', \"Deceased\":'Deaths'})\n",
    "df_cases = df[[\"Date\",'State','Cases']]\n",
    "df_deaths = df[['Date','State','Deaths']]\n",
    "df_cases1 = df_cases.groupby('Date')\n",
    "df_deaths1= df_deaths.groupby('Date')"
   ]
  },
  {
   "cell_type": "code",
   "execution_count": 3,
   "metadata": {
    "execution": {
     "iopub.execute_input": "2020-09-05T04:59:09.727513Z",
     "iopub.status.busy": "2020-09-05T04:59:09.726974Z",
     "iopub.status.idle": "2020-09-05T04:59:09.744373Z",
     "shell.execute_reply": "2020-09-05T04:59:09.743832Z"
    },
    "papermill": {
     "duration": 0.03686,
     "end_time": "2020-09-05T04:59:09.744499",
     "exception": false,
     "start_time": "2020-09-05T04:59:09.707639",
     "status": "completed"
    },
    "tags": []
   },
   "outputs": [],
   "source": [
    "#hide\n",
    "df_snap = pd.read_csv('data/SnapshotCases-28-July.csv')\n",
    "arr_states = df_snap['states'].unique()\n",
    "arr_dates = df['Date'].unique()\n",
    "df_snap = df_snap.set_index('states')"
   ]
  },
  {
   "cell_type": "code",
   "execution_count": 4,
   "metadata": {
    "execution": {
     "iopub.execute_input": "2020-09-05T04:59:09.782814Z",
     "iopub.status.busy": "2020-09-05T04:59:09.781815Z",
     "iopub.status.idle": "2020-09-05T04:59:09.784832Z",
     "shell.execute_reply": "2020-09-05T04:59:09.784410Z"
    },
    "papermill": {
     "duration": 0.026377,
     "end_time": "2020-09-05T04:59:09.784932",
     "exception": false,
     "start_time": "2020-09-05T04:59:09.758555",
     "status": "completed"
    },
    "tags": []
   },
   "outputs": [
    {
     "data": {
      "text/plain": [
       "array(['Andaman and Nicobar Islands', 'Andhra Pradesh',\n",
       "       'Arunachal Pradesh', 'Assam', 'Bihar', 'Chandigarh',\n",
       "       'Dadra and Nagar Haveli and Daman and Diu', 'Delhi', 'Goa',\n",
       "       'Gujarat', 'Haryana', 'Himachal Pradesh', 'Jammu and Kashmir',\n",
       "       'Jharkhand', 'Karnataka', 'Kerala', 'Lakshadweep',\n",
       "       'Madhya Pradesh', 'Maharashtra', 'Manipur', 'Meghalaya', 'Mizoram',\n",
       "       'Nagaland', 'Odisha', 'Puducherry', 'Punjab', 'Rajasthan',\n",
       "       'Sikkim', 'Tamil Nadu', 'Telangana', 'Tripura', 'Uttar Pradesh',\n",
       "       'West Bengal', 'Chhattisgarh', 'Ladakh', 'Uttarakhand'],\n",
       "      dtype=object)"
      ]
     },
     "execution_count": 4,
     "metadata": {},
     "output_type": "execute_result"
    }
   ],
   "source": [
    "#hide\n",
    "arr_states[-9] = 'Puducherry'\n",
    "arr_states[-10] = 'Odisha'\n",
    "arr_states[6] = 'Dadra and Nagar Haveli and Daman and Diu'\n",
    "arr_states = np.append(arr_states,np.array(['Chhattisgarh','Ladakh','Uttarakhand']))\n",
    "arr_states"
   ]
  },
  {
   "cell_type": "code",
   "execution_count": 5,
   "metadata": {
    "execution": {
     "iopub.execute_input": "2020-09-05T04:59:09.821961Z",
     "iopub.status.busy": "2020-09-05T04:59:09.818845Z",
     "iopub.status.idle": "2020-09-05T04:59:09.827834Z",
     "shell.execute_reply": "2020-09-05T04:59:09.828291Z"
    },
    "papermill": {
     "duration": 0.030769,
     "end_time": "2020-09-05T04:59:09.828455",
     "exception": false,
     "start_time": "2020-09-05T04:59:09.797686",
     "status": "completed"
    },
    "tags": []
   },
   "outputs": [],
   "source": [
    "#hide\n",
    "dates = []\n",
    "for i in arr_dates:\n",
    "    if i>='2020-07-01':\n",
    "        dates.append(i)\n",
    "dict = {'states':dates}\n",
    "for i in arr_states:\n",
    "    dict[i] = [0]*len(dates)\n",
    "dft_cases = pd.DataFrame(dict)\n",
    "dft_deaths = pd.DataFrame(dict)\n"
   ]
  },
  {
   "cell_type": "code",
   "execution_count": 6,
   "metadata": {
    "execution": {
     "iopub.execute_input": "2020-09-05T04:59:09.864427Z",
     "iopub.status.busy": "2020-09-05T04:59:09.863895Z",
     "iopub.status.idle": "2020-09-05T04:59:10.651543Z",
     "shell.execute_reply": "2020-09-05T04:59:10.650817Z"
    },
    "papermill": {
     "duration": 0.805635,
     "end_time": "2020-09-05T04:59:10.651735",
     "exception": false,
     "start_time": "2020-09-05T04:59:09.846100",
     "status": "completed"
    },
    "tags": []
   },
   "outputs": [],
   "source": [
    "#hide\n",
    "for i in range(len(dates)):\n",
    "    df1_deaths = df_deaths1.get_group(dates[i])\n",
    "    for j in range(len(df1_deaths.index)):\n",
    "        if df1_deaths.iloc[j,1] in arr_states:\n",
    "            dft_deaths.loc[i,df1_deaths.iloc[j,1]] = df1_deaths.iloc[j,2]\n",
    "dft_deaths = dft_deaths.set_index('states')"
   ]
  },
  {
   "cell_type": "code",
   "execution_count": 7,
   "metadata": {
    "execution": {
     "iopub.execute_input": "2020-09-05T04:59:10.690070Z",
     "iopub.status.busy": "2020-09-05T04:59:10.689540Z",
     "iopub.status.idle": "2020-09-05T04:59:11.527310Z",
     "shell.execute_reply": "2020-09-05T04:59:11.526260Z"
    },
    "papermill": {
     "duration": 0.860709,
     "end_time": "2020-09-05T04:59:11.527458",
     "exception": false,
     "start_time": "2020-09-05T04:59:10.666749",
     "status": "completed"
    },
    "tags": []
   },
   "outputs": [],
   "source": [
    "#hide\n",
    "for i in range(len(dates)):\n",
    "    df1_cases = df_cases1.get_group(dates[i])\n",
    "    for j in range(len(df1_cases.index)):\n",
    "        if df1_cases.iloc[j,1] in arr_states:\n",
    "            dft_cases.loc[i,df1_cases.iloc[j,1]] = df1_cases.iloc[j,2]\n",
    "dft_cases = dft_cases.set_index('states')"
   ]
  },
  {
   "cell_type": "code",
   "execution_count": 8,
   "metadata": {
    "execution": {
     "iopub.execute_input": "2020-09-05T04:59:11.560883Z",
     "iopub.status.busy": "2020-09-05T04:59:11.559434Z",
     "iopub.status.idle": "2020-09-05T04:59:11.561568Z",
     "shell.execute_reply": "2020-09-05T04:59:11.562061Z"
    },
    "papermill": {
     "duration": 0.020976,
     "end_time": "2020-09-05T04:59:11.562204",
     "exception": false,
     "start_time": "2020-09-05T04:59:11.541228",
     "status": "completed"
    },
    "tags": []
   },
   "outputs": [],
   "source": [
    "#hide\n",
    "dft_cases = dft_cases.T\n",
    "dft_deaths = dft_deaths.T\n",
    "dt_today = dates[-1]\n",
    "dt_yday = dates[-2]"
   ]
  },
  {
   "cell_type": "code",
   "execution_count": 9,
   "metadata": {
    "execution": {
     "iopub.execute_input": "2020-09-05T04:59:11.599240Z",
     "iopub.status.busy": "2020-09-05T04:59:11.598665Z",
     "iopub.status.idle": "2020-09-05T04:59:11.600568Z",
     "shell.execute_reply": "2020-09-05T04:59:11.601007Z"
    },
    "papermill": {
     "duration": 0.025244,
     "end_time": "2020-09-05T04:59:11.601144",
     "exception": false,
     "start_time": "2020-09-05T04:59:11.575900",
     "status": "completed"
    },
    "tags": []
   },
   "outputs": [],
   "source": [
    "#hide\n",
    "dft_cases = dft_cases.reset_index()\n",
    "dft_deaths = dft_deaths.reset_index()\n",
    "dft_cases = dft_cases.rename(columns = {'index':'state'})\n",
    "dft_deaths = dft_deaths.rename(columns = {'index':'state'})"
   ]
  },
  {
   "cell_type": "code",
   "execution_count": 10,
   "metadata": {
    "execution": {
     "iopub.execute_input": "2020-09-05T04:59:11.640486Z",
     "iopub.status.busy": "2020-09-05T04:59:11.639890Z",
     "iopub.status.idle": "2020-09-05T04:59:11.642124Z",
     "shell.execute_reply": "2020-09-05T04:59:11.642570Z"
    },
    "papermill": {
     "duration": 0.026625,
     "end_time": "2020-09-05T04:59:11.642695",
     "exception": false,
     "start_time": "2020-09-05T04:59:11.616070",
     "status": "completed"
    },
    "tags": []
   },
   "outputs": [],
   "source": [
    "#hide\n",
    "dfc_cases = dft_cases.groupby('state')[dt_today].sum()\n",
    "dfc_deaths = dft_deaths.groupby('state')[dt_today].sum()\n",
    "dfp_cases = dft_cases.groupby('state')[dt_yday].sum()\n",
    "dfp_deaths = dft_deaths.groupby('state')[dt_yday].sum()"
   ]
  },
  {
   "cell_type": "code",
   "execution_count": 11,
   "metadata": {
    "execution": {
     "iopub.execute_input": "2020-09-05T04:59:11.684531Z",
     "iopub.status.busy": "2020-09-05T04:59:11.683963Z",
     "iopub.status.idle": "2020-09-05T04:59:11.690815Z",
     "shell.execute_reply": "2020-09-05T04:59:11.691280Z"
    },
    "papermill": {
     "duration": 0.035617,
     "end_time": "2020-09-05T04:59:11.691413",
     "exception": false,
     "start_time": "2020-09-05T04:59:11.655796",
     "status": "completed"
    },
    "tags": []
   },
   "outputs": [
    {
     "data": {
      "text/html": [
       "<div>\n",
       "<style scoped>\n",
       "    .dataframe tbody tr th:only-of-type {\n",
       "        vertical-align: middle;\n",
       "    }\n",
       "\n",
       "    .dataframe tbody tr th {\n",
       "        vertical-align: top;\n",
       "    }\n",
       "\n",
       "    .dataframe thead th {\n",
       "        text-align: right;\n",
       "    }\n",
       "</style>\n",
       "<table border=\"1\" class=\"dataframe\">\n",
       "  <thead>\n",
       "    <tr style=\"text-align: right;\">\n",
       "      <th></th>\n",
       "      <th>states</th>\n",
       "      <th>Cases</th>\n",
       "      <th>Deaths</th>\n",
       "      <th>PCases</th>\n",
       "      <th>PDeaths</th>\n",
       "    </tr>\n",
       "  </thead>\n",
       "  <tbody>\n",
       "    <tr>\n",
       "      <th>0</th>\n",
       "      <td>Maharashtra</td>\n",
       "      <td>863062</td>\n",
       "      <td>25964</td>\n",
       "      <td>863062</td>\n",
       "      <td>25964</td>\n",
       "    </tr>\n",
       "    <tr>\n",
       "      <th>1</th>\n",
       "      <td>Andhra Pradesh</td>\n",
       "      <td>476506</td>\n",
       "      <td>4276</td>\n",
       "      <td>476506</td>\n",
       "      <td>4276</td>\n",
       "    </tr>\n",
       "    <tr>\n",
       "      <th>2</th>\n",
       "      <td>Tamil Nadu</td>\n",
       "      <td>451827</td>\n",
       "      <td>7687</td>\n",
       "      <td>451827</td>\n",
       "      <td>7687</td>\n",
       "    </tr>\n",
       "    <tr>\n",
       "      <th>3</th>\n",
       "      <td>Karnataka</td>\n",
       "      <td>379486</td>\n",
       "      <td>6170</td>\n",
       "      <td>379486</td>\n",
       "      <td>6170</td>\n",
       "    </tr>\n",
       "    <tr>\n",
       "      <th>4</th>\n",
       "      <td>Uttar Pradesh</td>\n",
       "      <td>253175</td>\n",
       "      <td>3762</td>\n",
       "      <td>253175</td>\n",
       "      <td>3762</td>\n",
       "    </tr>\n",
       "  </tbody>\n",
       "</table>\n",
       "</div>"
      ],
      "text/plain": [
       "           states   Cases  Deaths  PCases  PDeaths\n",
       "0     Maharashtra  863062   25964  863062    25964\n",
       "1  Andhra Pradesh  476506    4276  476506     4276\n",
       "2      Tamil Nadu  451827    7687  451827     7687\n",
       "3       Karnataka  379486    6170  379486     6170\n",
       "4   Uttar Pradesh  253175    3762  253175     3762"
      ]
     },
     "execution_count": 11,
     "metadata": {},
     "output_type": "execute_result"
    }
   ],
   "source": [
    "#hide\n",
    "df_table = pd.DataFrame({'states': dfc_cases.index, 'Cases': dfc_cases.values, 'Deaths': dfc_deaths.values, 'PCases': dfp_cases.values, 'PDeaths': dfp_deaths.values}).set_index('states')\n",
    "df_table = df_table.sort_values(by = ['Cases','Deaths'], ascending = [False, False])\n",
    "df_table = df_table.reset_index()\n",
    "df_table.head()"
   ]
  },
  {
   "cell_type": "code",
   "execution_count": 12,
   "metadata": {
    "execution": {
     "iopub.execute_input": "2020-09-05T04:59:11.727730Z",
     "iopub.status.busy": "2020-09-05T04:59:11.727146Z",
     "iopub.status.idle": "2020-09-05T04:59:11.736015Z",
     "shell.execute_reply": "2020-09-05T04:59:11.735549Z"
    },
    "papermill": {
     "duration": 0.028622,
     "end_time": "2020-09-05T04:59:11.736130",
     "exception": false,
     "start_time": "2020-09-05T04:59:11.707508",
     "status": "completed"
    },
    "tags": []
   },
   "outputs": [],
   "source": [
    "#hide\n",
    "for c in 'Cases, Deaths'.split(', '):\n",
    "    df_table[f'{c} (+)'] = (df_table[c] - df_table[f'P{c}']).clip(0)\n",
    "df_table['Fatality Rate'] = (100* df_table['Deaths']/ df_table['Cases']).round(2)"
   ]
  },
  {
   "cell_type": "code",
   "execution_count": 13,
   "metadata": {
    "execution": {
     "iopub.execute_input": "2020-09-05T04:59:11.778462Z",
     "iopub.status.busy": "2020-09-05T04:59:11.777927Z",
     "iopub.status.idle": "2020-09-05T04:59:11.783456Z",
     "shell.execute_reply": "2020-09-05T04:59:11.783022Z"
    },
    "papermill": {
     "duration": 0.032504,
     "end_time": "2020-09-05T04:59:11.783570",
     "exception": false,
     "start_time": "2020-09-05T04:59:11.751066",
     "status": "completed"
    },
    "tags": []
   },
   "outputs": [
    {
     "data": {
      "text/html": [
       "<div>\n",
       "<style scoped>\n",
       "    .dataframe tbody tr th:only-of-type {\n",
       "        vertical-align: middle;\n",
       "    }\n",
       "\n",
       "    .dataframe tbody tr th {\n",
       "        vertical-align: top;\n",
       "    }\n",
       "\n",
       "    .dataframe thead th {\n",
       "        text-align: right;\n",
       "    }\n",
       "</style>\n",
       "<table border=\"1\" class=\"dataframe\">\n",
       "  <thead>\n",
       "    <tr style=\"text-align: right;\">\n",
       "      <th></th>\n",
       "      <th>states</th>\n",
       "      <th>Cases</th>\n",
       "      <th>Deaths</th>\n",
       "      <th>PCases</th>\n",
       "      <th>PDeaths</th>\n",
       "      <th>Cases (+)</th>\n",
       "      <th>Deaths (+)</th>\n",
       "      <th>Fatality Rate</th>\n",
       "    </tr>\n",
       "  </thead>\n",
       "  <tbody>\n",
       "    <tr>\n",
       "      <th>0</th>\n",
       "      <td>Maharashtra</td>\n",
       "      <td>863062</td>\n",
       "      <td>25964</td>\n",
       "      <td>863062</td>\n",
       "      <td>25964</td>\n",
       "      <td>0</td>\n",
       "      <td>0</td>\n",
       "      <td>3.01</td>\n",
       "    </tr>\n",
       "    <tr>\n",
       "      <th>1</th>\n",
       "      <td>Andhra Pradesh</td>\n",
       "      <td>476506</td>\n",
       "      <td>4276</td>\n",
       "      <td>476506</td>\n",
       "      <td>4276</td>\n",
       "      <td>0</td>\n",
       "      <td>0</td>\n",
       "      <td>0.90</td>\n",
       "    </tr>\n",
       "    <tr>\n",
       "      <th>2</th>\n",
       "      <td>Tamil Nadu</td>\n",
       "      <td>451827</td>\n",
       "      <td>7687</td>\n",
       "      <td>451827</td>\n",
       "      <td>7687</td>\n",
       "      <td>0</td>\n",
       "      <td>0</td>\n",
       "      <td>1.70</td>\n",
       "    </tr>\n",
       "    <tr>\n",
       "      <th>3</th>\n",
       "      <td>Karnataka</td>\n",
       "      <td>379486</td>\n",
       "      <td>6170</td>\n",
       "      <td>379486</td>\n",
       "      <td>6170</td>\n",
       "      <td>0</td>\n",
       "      <td>0</td>\n",
       "      <td>1.63</td>\n",
       "    </tr>\n",
       "    <tr>\n",
       "      <th>4</th>\n",
       "      <td>Uttar Pradesh</td>\n",
       "      <td>253175</td>\n",
       "      <td>3762</td>\n",
       "      <td>253175</td>\n",
       "      <td>3762</td>\n",
       "      <td>0</td>\n",
       "      <td>0</td>\n",
       "      <td>1.49</td>\n",
       "    </tr>\n",
       "  </tbody>\n",
       "</table>\n",
       "</div>"
      ],
      "text/plain": [
       "           states   Cases  Deaths  PCases  PDeaths  Cases (+)  Deaths (+)  \\\n",
       "0     Maharashtra  863062   25964  863062    25964          0           0   \n",
       "1  Andhra Pradesh  476506    4276  476506     4276          0           0   \n",
       "2      Tamil Nadu  451827    7687  451827     7687          0           0   \n",
       "3       Karnataka  379486    6170  379486     6170          0           0   \n",
       "4   Uttar Pradesh  253175    3762  253175     3762          0           0   \n",
       "\n",
       "   Fatality Rate  \n",
       "0           3.01  \n",
       "1           0.90  \n",
       "2           1.70  \n",
       "3           1.63  \n",
       "4           1.49  "
      ]
     },
     "execution_count": 13,
     "metadata": {},
     "output_type": "execute_result"
    }
   ],
   "source": [
    "#hide\n",
    "df_table.head()"
   ]
  },
  {
   "cell_type": "code",
   "execution_count": 14,
   "metadata": {
    "execution": {
     "iopub.execute_input": "2020-09-05T04:59:11.819895Z",
     "iopub.status.busy": "2020-09-05T04:59:11.819362Z",
     "iopub.status.idle": "2020-09-05T04:59:11.833514Z",
     "shell.execute_reply": "2020-09-05T04:59:11.833076Z"
    },
    "papermill": {
     "duration": 0.034756,
     "end_time": "2020-09-05T04:59:11.833609",
     "exception": false,
     "start_time": "2020-09-05T04:59:11.798853",
     "status": "completed"
    },
    "tags": []
   },
   "outputs": [
    {
     "data": {
      "text/plain": [
       "{'updated': '2020-09-05',\n",
       " 'since': '2020-09-04',\n",
       " 'Cases': 4022766,\n",
       " 'PCases': 4020239,\n",
       " 'Deaths': 69646,\n",
       " 'PDeaths': 69635,\n",
       " 'Cases (+)': 2527,\n",
       " 'Deaths (+)': 11}"
      ]
     },
     "execution_count": 14,
     "metadata": {},
     "output_type": "execute_result"
    }
   ],
   "source": [
    "#hide\n",
    "summary = {'updated':dates[-1], 'since':dates[-2]}\n",
    "list_names = ['Cases', 'PCases', 'Deaths', 'PDeaths', 'Cases (+)', 'Deaths (+)']\n",
    "for name in list_names:\n",
    "    summary[name] = df_table.sum()[name]\n",
    "summary"
   ]
  },
  {
   "cell_type": "code",
   "execution_count": 15,
   "metadata": {
    "execution": {
     "iopub.execute_input": "2020-09-05T04:59:11.867209Z",
     "iopub.status.busy": "2020-09-05T04:59:11.866185Z",
     "iopub.status.idle": "2020-09-05T04:59:11.870044Z",
     "shell.execute_reply": "2020-09-05T04:59:11.870531Z"
    },
    "papermill": {
     "duration": 0.023316,
     "end_time": "2020-09-05T04:59:11.870666",
     "exception": false,
     "start_time": "2020-09-05T04:59:11.847350",
     "status": "completed"
    },
    "tags": []
   },
   "outputs": [],
   "source": [
    "#hide\n",
    "overview = '''\n",
    "<!-- #######  HTML!! #########-->\n",
    "<h1 style=\"color: #5e9ca0; text-align: center;\">India</h1>\n",
    "<p style=\"text-align: center;\">Last update: <strong>{update}</strong></p>\n",
    "<p style=\"text-align: center;\">Confirmed cases:</p>\n",
    "<p style=\"text-align: center;font-size:24px;\">{cases} (<span style=\"color: #ff0000;\">+{new}</span>)</p>\n",
    "<p style=\"text-align: center;\">Confirmed deaths:</p>\n",
    "<p style=\"text-align: center;font-size:24px;\">{deaths} (<span style=\"color: #ff0000;\">+{dnew}</span>)</p>\n",
    "'''"
   ]
  },
  {
   "cell_type": "code",
   "execution_count": 16,
   "metadata": {
    "execution": {
     "iopub.execute_input": "2020-09-05T04:59:11.908657Z",
     "iopub.status.busy": "2020-09-05T04:59:11.908048Z",
     "iopub.status.idle": "2020-09-05T04:59:11.910006Z",
     "shell.execute_reply": "2020-09-05T04:59:11.910474Z"
    },
    "papermill": {
     "duration": 0.024479,
     "end_time": "2020-09-05T04:59:11.910607",
     "exception": false,
     "start_time": "2020-09-05T04:59:11.886128",
     "status": "completed"
    },
    "tags": []
   },
   "outputs": [
    {
     "data": {
      "text/html": [
       "\n",
       "<!-- #######  HTML!! #########-->\n",
       "<h1 style=\"color: #5e9ca0; text-align: center;\">India</h1>\n",
       "<p style=\"text-align: center;\">Last update: <strong>2020-09-05</strong></p>\n",
       "<p style=\"text-align: center;\">Confirmed cases:</p>\n",
       "<p style=\"text-align: center;font-size:24px;\">4022766 (<span style=\"color: #ff0000;\">+2527</span>)</p>\n",
       "<p style=\"text-align: center;\">Confirmed deaths:</p>\n",
       "<p style=\"text-align: center;font-size:24px;\">69646 (<span style=\"color: #ff0000;\">+11</span>)</p>\n"
      ],
      "text/plain": [
       "<IPython.core.display.HTML object>"
      ]
     },
     "metadata": {},
     "output_type": "display_data"
    }
   ],
   "source": [
    "#hide_input\n",
    "update = summary['updated']\n",
    "cases = summary['Cases']\n",
    "new = summary['Cases (+)']\n",
    "deaths = summary['Deaths']\n",
    "dnew = summary['Deaths (+)']\n",
    "\n",
    "html = HTML(overview.format(update=update, cases=cases,new=new,deaths=deaths,dnew=dnew))\n",
    "\n",
    "display(html)"
   ]
  },
  {
   "cell_type": "code",
   "execution_count": 17,
   "metadata": {
    "execution": {
     "iopub.execute_input": "2020-09-05T04:59:11.950139Z",
     "iopub.status.busy": "2020-09-05T04:59:11.949588Z",
     "iopub.status.idle": "2020-09-05T04:59:11.954630Z",
     "shell.execute_reply": "2020-09-05T04:59:11.954060Z"
    },
    "papermill": {
     "duration": 0.027943,
     "end_time": "2020-09-05T04:59:11.954753",
     "exception": false,
     "start_time": "2020-09-05T04:59:11.926810",
     "status": "completed"
    },
    "tags": []
   },
   "outputs": [],
   "source": [
    "#hide\n",
    "dt_cols = list(dft_cases.columns[1:])\n",
    "dft_ct_new_cases = dft_cases.groupby('state')[dt_cols].sum().diff(axis=1).fillna(0).astype(int)\n",
    "dft_ct_new_cases.sort_values(by = dates[-1], ascending = False,inplace = True)"
   ]
  },
  {
   "cell_type": "code",
   "execution_count": 18,
   "metadata": {
    "execution": {
     "iopub.execute_input": "2020-09-05T04:59:12.003839Z",
     "iopub.status.busy": "2020-09-05T04:59:11.993712Z",
     "iopub.status.idle": "2020-09-05T04:59:12.007145Z",
     "shell.execute_reply": "2020-09-05T04:59:12.006655Z"
    },
    "papermill": {
     "duration": 0.036111,
     "end_time": "2020-09-05T04:59:12.007273",
     "exception": false,
     "start_time": "2020-09-05T04:59:11.971162",
     "status": "completed"
    },
    "tags": []
   },
   "outputs": [
    {
     "data": {
      "text/html": [
       "<div>\n",
       "<style scoped>\n",
       "    .dataframe tbody tr th:only-of-type {\n",
       "        vertical-align: middle;\n",
       "    }\n",
       "\n",
       "    .dataframe tbody tr th {\n",
       "        vertical-align: top;\n",
       "    }\n",
       "\n",
       "    .dataframe thead th {\n",
       "        text-align: right;\n",
       "    }\n",
       "</style>\n",
       "<table border=\"1\" class=\"dataframe\">\n",
       "  <thead>\n",
       "    <tr style=\"text-align: right;\">\n",
       "      <th>states</th>\n",
       "      <th>2020-07-01</th>\n",
       "      <th>2020-07-02</th>\n",
       "      <th>2020-07-03</th>\n",
       "      <th>2020-07-04</th>\n",
       "      <th>2020-07-05</th>\n",
       "      <th>2020-07-06</th>\n",
       "      <th>2020-07-07</th>\n",
       "      <th>2020-07-08</th>\n",
       "      <th>2020-07-09</th>\n",
       "      <th>2020-07-10</th>\n",
       "      <th>...</th>\n",
       "      <th>2020-08-27</th>\n",
       "      <th>2020-08-28</th>\n",
       "      <th>2020-08-29</th>\n",
       "      <th>2020-08-30</th>\n",
       "      <th>2020-08-31</th>\n",
       "      <th>2020-09-01</th>\n",
       "      <th>2020-09-02</th>\n",
       "      <th>2020-09-03</th>\n",
       "      <th>2020-09-04</th>\n",
       "      <th>2020-09-05</th>\n",
       "    </tr>\n",
       "    <tr>\n",
       "      <th>state</th>\n",
       "      <th></th>\n",
       "      <th></th>\n",
       "      <th></th>\n",
       "      <th></th>\n",
       "      <th></th>\n",
       "      <th></th>\n",
       "      <th></th>\n",
       "      <th></th>\n",
       "      <th></th>\n",
       "      <th></th>\n",
       "      <th></th>\n",
       "      <th></th>\n",
       "      <th></th>\n",
       "      <th></th>\n",
       "      <th></th>\n",
       "      <th></th>\n",
       "      <th></th>\n",
       "      <th></th>\n",
       "      <th></th>\n",
       "      <th></th>\n",
       "      <th></th>\n",
       "    </tr>\n",
       "  </thead>\n",
       "  <tbody>\n",
       "    <tr>\n",
       "      <th>Telangana</th>\n",
       "      <td>0</td>\n",
       "      <td>1213</td>\n",
       "      <td>1892</td>\n",
       "      <td>1850</td>\n",
       "      <td>1590</td>\n",
       "      <td>1831</td>\n",
       "      <td>1879</td>\n",
       "      <td>1924</td>\n",
       "      <td>1410</td>\n",
       "      <td>1278</td>\n",
       "      <td>...</td>\n",
       "      <td>2795</td>\n",
       "      <td>2932</td>\n",
       "      <td>2751</td>\n",
       "      <td>2924</td>\n",
       "      <td>1873</td>\n",
       "      <td>2734</td>\n",
       "      <td>2892</td>\n",
       "      <td>2817</td>\n",
       "      <td>2478</td>\n",
       "      <td>2511</td>\n",
       "    </tr>\n",
       "    <tr>\n",
       "      <th>Mizoram</th>\n",
       "      <td>0</td>\n",
       "      <td>2</td>\n",
       "      <td>0</td>\n",
       "      <td>2</td>\n",
       "      <td>22</td>\n",
       "      <td>11</td>\n",
       "      <td>1</td>\n",
       "      <td>5</td>\n",
       "      <td>0</td>\n",
       "      <td>23</td>\n",
       "      <td>...</td>\n",
       "      <td>7</td>\n",
       "      <td>29</td>\n",
       "      <td>0</td>\n",
       "      <td>5</td>\n",
       "      <td>3</td>\n",
       "      <td>1</td>\n",
       "      <td>8</td>\n",
       "      <td>20</td>\n",
       "      <td>6</td>\n",
       "      <td>16</td>\n",
       "    </tr>\n",
       "    <tr>\n",
       "      <th>Andaman and Nicobar Islands</th>\n",
       "      <td>0</td>\n",
       "      <td>9</td>\n",
       "      <td>7</td>\n",
       "      <td>3</td>\n",
       "      <td>6</td>\n",
       "      <td>16</td>\n",
       "      <td>6</td>\n",
       "      <td>2</td>\n",
       "      <td>7</td>\n",
       "      <td>0</td>\n",
       "      <td>...</td>\n",
       "      <td>33</td>\n",
       "      <td>32</td>\n",
       "      <td>31</td>\n",
       "      <td>23</td>\n",
       "      <td>28</td>\n",
       "      <td>28</td>\n",
       "      <td>26</td>\n",
       "      <td>37</td>\n",
       "      <td>34</td>\n",
       "      <td>0</td>\n",
       "    </tr>\n",
       "    <tr>\n",
       "      <th>Puducherry</th>\n",
       "      <td>0</td>\n",
       "      <td>63</td>\n",
       "      <td>22</td>\n",
       "      <td>80</td>\n",
       "      <td>42</td>\n",
       "      <td>65</td>\n",
       "      <td>30</td>\n",
       "      <td>110</td>\n",
       "      <td>49</td>\n",
       "      <td>72</td>\n",
       "      <td>...</td>\n",
       "      <td>504</td>\n",
       "      <td>590</td>\n",
       "      <td>532</td>\n",
       "      <td>571</td>\n",
       "      <td>284</td>\n",
       "      <td>355</td>\n",
       "      <td>391</td>\n",
       "      <td>424</td>\n",
       "      <td>591</td>\n",
       "      <td>0</td>\n",
       "    </tr>\n",
       "    <tr>\n",
       "      <th>Maharashtra</th>\n",
       "      <td>0</td>\n",
       "      <td>6328</td>\n",
       "      <td>6364</td>\n",
       "      <td>7074</td>\n",
       "      <td>6555</td>\n",
       "      <td>5368</td>\n",
       "      <td>5134</td>\n",
       "      <td>6603</td>\n",
       "      <td>6875</td>\n",
       "      <td>7862</td>\n",
       "      <td>...</td>\n",
       "      <td>14857</td>\n",
       "      <td>14427</td>\n",
       "      <td>16286</td>\n",
       "      <td>16408</td>\n",
       "      <td>11852</td>\n",
       "      <td>15765</td>\n",
       "      <td>17433</td>\n",
       "      <td>18105</td>\n",
       "      <td>19218</td>\n",
       "      <td>0</td>\n",
       "    </tr>\n",
       "  </tbody>\n",
       "</table>\n",
       "<p>5 rows × 67 columns</p>\n",
       "</div>"
      ],
      "text/plain": [
       "states                       2020-07-01  2020-07-02  2020-07-03  2020-07-04  \\\n",
       "state                                                                         \n",
       "Telangana                             0        1213        1892        1850   \n",
       "Mizoram                               0           2           0           2   \n",
       "Andaman and Nicobar Islands           0           9           7           3   \n",
       "Puducherry                            0          63          22          80   \n",
       "Maharashtra                           0        6328        6364        7074   \n",
       "\n",
       "states                       2020-07-05  2020-07-06  2020-07-07  2020-07-08  \\\n",
       "state                                                                         \n",
       "Telangana                          1590        1831        1879        1924   \n",
       "Mizoram                              22          11           1           5   \n",
       "Andaman and Nicobar Islands           6          16           6           2   \n",
       "Puducherry                           42          65          30         110   \n",
       "Maharashtra                        6555        5368        5134        6603   \n",
       "\n",
       "states                       2020-07-09  2020-07-10  ...  2020-08-27  \\\n",
       "state                                                ...               \n",
       "Telangana                          1410        1278  ...        2795   \n",
       "Mizoram                               0          23  ...           7   \n",
       "Andaman and Nicobar Islands           7           0  ...          33   \n",
       "Puducherry                           49          72  ...         504   \n",
       "Maharashtra                        6875        7862  ...       14857   \n",
       "\n",
       "states                       2020-08-28  2020-08-29  2020-08-30  2020-08-31  \\\n",
       "state                                                                         \n",
       "Telangana                          2932        2751        2924        1873   \n",
       "Mizoram                              29           0           5           3   \n",
       "Andaman and Nicobar Islands          32          31          23          28   \n",
       "Puducherry                          590         532         571         284   \n",
       "Maharashtra                       14427       16286       16408       11852   \n",
       "\n",
       "states                       2020-09-01  2020-09-02  2020-09-03  2020-09-04  \\\n",
       "state                                                                         \n",
       "Telangana                          2734        2892        2817        2478   \n",
       "Mizoram                               1           8          20           6   \n",
       "Andaman and Nicobar Islands          28          26          37          34   \n",
       "Puducherry                          355         391         424         591   \n",
       "Maharashtra                       15765       17433       18105       19218   \n",
       "\n",
       "states                       2020-09-05  \n",
       "state                                    \n",
       "Telangana                          2511  \n",
       "Mizoram                              16  \n",
       "Andaman and Nicobar Islands           0  \n",
       "Puducherry                            0  \n",
       "Maharashtra                           0  \n",
       "\n",
       "[5 rows x 67 columns]"
      ]
     },
     "execution_count": 18,
     "metadata": {},
     "output_type": "execute_result"
    }
   ],
   "source": [
    "#hide\n",
    "dft_ct_new_cases.head()"
   ]
  },
  {
   "cell_type": "code",
   "execution_count": 19,
   "metadata": {
    "execution": {
     "iopub.execute_input": "2020-09-05T04:59:12.065444Z",
     "iopub.status.busy": "2020-09-05T04:59:12.050024Z",
     "iopub.status.idle": "2020-09-05T04:59:14.921851Z",
     "shell.execute_reply": "2020-09-05T04:59:14.922594Z"
    },
    "papermill": {
     "duration": 2.898371,
     "end_time": "2020-09-05T04:59:14.922773",
     "exception": false,
     "start_time": "2020-09-05T04:59:12.024402",
     "status": "completed"
    },
    "tags": []
   },
   "outputs": [
    {
     "data": {
      "image/png": "[encoded data removed]",
      "text/plain": [
       "<Figure size 1296x2016 with 11 Axes>"
      ]
     },
     "metadata": {
      "needs_background": "light"
     },
     "output_type": "display_data"
    }
   ],
   "source": [
    "#hide_input\n",
    "df = dft_ct_new_cases.copy()\n",
    "df.loc['Total'] = df.sum()\n",
    "n = 5\n",
    "ax = []\n",
    "fig = plt.figure(figsize = (18,28))\n",
    "gs = fig.add_gridspec(n+2, 5)\n",
    "# gs = fig.add_gridspec(2, 3)\n",
    "ax1 = fig.add_subplot(gs[0, :])\n",
    "ef = df.loc['Total'].rename_axis('date').reset_index()\n",
    "ef['date'] = ef['date'].astype('datetime64[ns]')\n",
    "ax1.bar(ef.date,ef.Total,alpha=0.3,color='#007acc')\n",
    "ax1.plot(ef.date,ef.Total , marker=\"o\", color='#007acc')\n",
    "ax1.xaxis.set_major_locator(mdates.WeekdayLocator())\n",
    "ax1.xaxis.set_major_formatter(mdates.DateFormatter('%b %d'))\n",
    "ax1.text(0.02, 0.5,'India daily case count', transform = ax1.transAxes, fontsize=25);\n",
    "ax1.spines['right'].set_visible(False)\n",
    "ax1.spines['top'].set_visible(False)\n",
    "\n",
    "ax2 = fig.add_subplot(gs[1,0])\n",
    "ef = df.loc['Maharashtra'].rename_axis('date').reset_index()\n",
    "ef['date'] = ef['date'].astype('datetime64[ns]')\n",
    "\n",
    "ax2.bar(ef.date, ef.Maharashtra,color = '#007acc',alpha=0.5)\n",
    "ax2.xaxis.set_major_locator(mdates.WeekdayLocator())\n",
    "ax2.xaxis.set_major_formatter(mdates.DateFormatter('%b %d'))\n",
    "ax2.set_xticks(ax2.get_xticks()[::3])\n",
    "maxyval = ef.Maharashtra.max()\n",
    "ax2.set_ylim([0,maxyval])\n",
    "ax2.text(0.05, 0.9,'Maharashtra', transform = ax2.transAxes, fontsize=20);\n",
    "ax2.spines['right'].set_visible(False)\n",
    "ax2.spines['top'].set_visible(False)\n",
    "\n",
    "\n",
    "ax3 = fig.add_subplot(gs[1,1])\n",
    "ef = df.loc['Tamil Nadu'].rename_axis('date').reset_index()\n",
    "ef['date'] = ef['date'].astype('datetime64[ns]')\n",
    "ax3.bar(ef.date, ef['Tamil Nadu'],color = '#007acc',alpha=0.5,)\n",
    "ax3.xaxis.set_major_locator(mdates.WeekdayLocator())\n",
    "ax3.xaxis.set_major_formatter(mdates.DateFormatter('%b %d'))\n",
    "ax3.set_xticks(ax3.get_xticks()[::3])\n",
    "ax3.text(0.05, 0.9,'Tamil Nadu', transform = ax3.transAxes, fontsize=20);\n",
    "ax3.spines['right'].set_visible(False)\n",
    "ax3.spines['top'].set_visible(False)\n",
    "\n",
    "ax5 = fig.add_subplot(gs[1,3])\n",
    "ef = df.loc['Telangana'].rename_axis('date').reset_index()\n",
    "ef['date'] = ef['date'].astype('datetime64[ns]')\n",
    "ax5.bar(ef.date, ef['Telangana'],color = '#007acc',alpha=0.5,)\n",
    "ax5.xaxis.set_major_locator(mdates.WeekdayLocator())\n",
    "ax5.xaxis.set_major_formatter(mdates.DateFormatter('%b %d'))\n",
    "ax5.set_xticks(ax5.get_xticks()[::3])\n",
    "ax5.text(0.05, 0.9,'Telangana', transform = ax5.transAxes, fontsize=20);\n",
    "ax5.spines['right'].set_visible(False)\n",
    "ax5.spines['top'].set_visible(False)\n",
    "\n",
    "ax6 = fig.add_subplot(gs[1,4])\n",
    "ef = df.loc['Andhra Pradesh'].rename_axis('date').reset_index()\n",
    "ef['date'] = ef['date'].astype('datetime64[ns]')\n",
    "ax6.bar(ef.date, ef['Andhra Pradesh'],color = '#007acc',alpha=0.5,)\n",
    "ax6.xaxis.set_major_locator(mdates.WeekdayLocator())\n",
    "ax6.xaxis.set_major_formatter(mdates.DateFormatter('%b %d'))\n",
    "ax6.set_xticks(ax6.get_xticks()[::3])\n",
    "ax6.text(0.05, 1,'Andhra Pradesh', transform = ax6.transAxes, fontsize=20);\n",
    "ax6.spines['right'].set_visible(False)\n",
    "ax6.spines['top'].set_visible(False)\n",
    "\n",
    "ax4 = fig.add_subplot(gs[1,2])\n",
    "ef = df.loc['Delhi'].rename_axis('date').reset_index()\n",
    "ef['date'] = ef['date'].astype('datetime64[ns]')\n",
    "ax4.bar(ef.date, ef.Delhi,color = '#007acc',alpha=0.5)\n",
    "ax4.set_xticks([])\n",
    "ax4.xaxis.set_major_locator(mdates.WeekdayLocator())\n",
    "ax4.xaxis.set_major_formatter(mdates.DateFormatter('%b %d'))\n",
    "ax4.set_xticks(ax4.get_xticks()[::3])\n",
    "ax4.spines['right'].set_visible(False)\n",
    "ax4.spines['top'].set_visible(False)\n",
    "\n",
    "ax4.text(0.05, 1,'Delhi', transform = ax4.transAxes, fontsize=20)\n",
    "\n",
    "for i in range(n):\n",
    "    \n",
    "    ax.append(fig.add_subplot(gs[i+2,:]))\n",
    "    ef = df.iloc[i+3].rename_axis('date').reset_index()\n",
    "    ef['date'] = ef['date'].astype('datetime64[ns]')\n",
    "    ax[i].bar(ef.date,ef.iloc[:,-1],color = '#007acc',alpha=0.3)\n",
    "    ax[i].plot(ef.date,ef.iloc[:,-1],marker='o',color='#007acc')\n",
    "    ax[i].text(0.02,0.5,f'{ef.columns.values[-1]}',transform = ax[i].transAxes, fontsize = 20);\n",
    "    ax[i].xaxis.set_major_locator(mdates.WeekdayLocator())\n",
    "    ax[i].xaxis.set_major_formatter(mdates.DateFormatter('%b %d'))\n",
    "    ax[i].set_ylim([0,7000])\n",
    "    ax[i].spines['right'].set_visible(False)\n",
    "    ax[i].spines['top'].set_visible(False)\n",
    "plt.tight_layout()\n"
   ]
  },
  {
   "cell_type": "code",
   "execution_count": 20,
   "metadata": {
    "execution": {
     "iopub.execute_input": "2020-09-05T04:59:14.973065Z",
     "iopub.status.busy": "2020-09-05T04:59:14.972467Z",
     "iopub.status.idle": "2020-09-05T04:59:14.974796Z",
     "shell.execute_reply": "2020-09-05T04:59:14.975202Z"
    },
    "papermill": {
     "duration": 0.031318,
     "end_time": "2020-09-05T04:59:14.975333",
     "exception": false,
     "start_time": "2020-09-05T04:59:14.944015",
     "status": "completed"
    },
    "tags": []
   },
   "outputs": [
    {
     "name": "stdout",
     "output_type": "stream",
     "text": [
      "                                   states   Cases  Deaths  PCases  PDeaths  Cases (+)  Deaths (+)  Fatality Rate\n",
      "                              Maharashtra  863062   25964  863062    25964          0           0           3.01\n",
      "                           Andhra Pradesh  476506    4276  476506     4276          0           0           0.90\n",
      "                               Tamil Nadu  451827    7687  451827     7687          0           0           1.70\n",
      "                                Karnataka  379486    6170  379486     6170          0           0           1.63\n",
      "                            Uttar Pradesh  253175    3762  253175     3762          0           0           1.49\n",
      "                                    Delhi  185220    4513  185220     4513          0           0           2.44\n",
      "                              West Bengal  174659    3452  174659     3452          0           0           1.98\n",
      "                                    Bihar  144134     741  144134      741          0           0           0.51\n",
      "                                Telangana  138395     877  135884      866       2511          11           0.63\n",
      "                                    Assam  121225     345  121225      345          0           0           0.28\n",
      "                                   Odisha  116678     584  116678      584          0           0           0.50\n",
      "                                  Gujarat  101695    3076  101695     3076          0           0           3.02\n",
      "                                Rajasthan   87797    1108   87797     1108          0           0           1.26\n",
      "                                   Kerala   82105     327   82105      327          0           0           0.40\n",
      "                                  Haryana   71983     759   71983      759          0           0           1.05\n",
      "                           Madhya Pradesh   70244    1513   70244     1513          0           0           2.15\n",
      "                                   Punjab   60013    1739   60013     1739          0           0           2.90\n",
      "                                Jharkhand   48039     447   48039      447          0           0           0.93\n",
      "                        Jammu and Kashmir   40990     755   40990      755          0           0           1.84\n",
      "                             Chhattisgarh   40634     337   40634      337          0           0           0.83\n",
      "                              Uttarakhand   23011     312   23011      312          0           0           1.36\n",
      "                                      Goa   19863     220   19863      220          0           0           1.11\n",
      "                               Puducherry   16172     280   16172      280          0           0           1.73\n",
      "                                  Tripura   13833     129   13833      129          0           0           0.93\n",
      "                         Himachal Pradesh    6830      49    6830       49          0           0           0.72\n",
      "                                  Manipur    6699      35    6699       35          0           0           0.52\n",
      "                               Chandigarh    5268      68    5268       68          0           0           1.29\n",
      "                        Arunachal Pradesh    4775       8    4775        8          0           0           0.17\n",
      "                                 Nagaland    4107       8    4107        8          0           0           0.19\n",
      "              Andaman and Nicobar Islands    3257      49    3257       49          0           0           1.50\n",
      "                                   Ladakh    2935      35    2935       35          0           0           1.19\n",
      "                                Meghalaya    2734      14    2734       14          0           0           0.51\n",
      " Dadra and Nagar Haveli and Daman and Diu    2510       2    2510        2          0           0           0.08\n",
      "                                   Sikkim    1843       5    1843        5          0           0           0.27\n",
      "                                  Mizoram    1062       0    1046        0         16           0           0.00\n",
      "                              Lakshadweep       0       0       0        0          0           0            NaN\n"
     ]
    }
   ],
   "source": [
    "#hide_input\n",
    "print(df_table.to_string(index=False))"
   ]
  },
  {
   "cell_type": "code",
   "execution_count": null,
   "metadata": {
    "papermill": {
     "duration": 0.020425,
     "end_time": "2020-09-05T04:59:15.014896",
     "exception": false,
     "start_time": "2020-09-05T04:59:14.994471",
     "status": "completed"
    },
    "tags": []
   },
   "outputs": [],
   "source": []
  },
  {
   "cell_type": "code",
   "execution_count": null,
   "metadata": {
    "papermill": {
     "duration": 0.01953,
     "end_time": "2020-09-05T04:59:15.054038",
     "exception": false,
     "start_time": "2020-09-05T04:59:15.034508",
     "status": "completed"
    },
    "tags": []
   },
   "outputs": [],
   "source": []
  }
 ],
 "metadata": {
  "kernelspec": {
   "display_name": "Python 3",
   "language": "python",
   "name": "python3"
  },
  "language_info": {
   "codemirror_mode": {
    "name": "ipython",
    "version": 3
   },
   "file_extension": ".py",
   "mimetype": "text/x-python",
   "name": "python",
   "nbconvert_exporter": "python",
   "pygments_lexer": "ipython3",
   "version": "3.6.12"
  },
  "papermill": {
   "duration": 7.97885,
   "end_time": "2020-09-05T04:59:15.484827",
   "environment_variables": {},
   "exception": null,
   "input_path": "latest.ipynb",
   "output_path": "latest.ipynb",
   "parameters": {},
   "start_time": "2020-09-05T04:59:07.505977",
   "version": "2.1.2"
  }
 },
 "nbformat": 4,
 "nbformat_minor": 4
}