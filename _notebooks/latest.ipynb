{
 "cells": [
  {
   "cell_type": "markdown",
   "metadata": {
    "papermill": {
     "duration": 0.018106,
     "end_time": "2020-09-14T12:40:04.142605",
     "exception": false,
     "start_time": "2020-09-14T12:40:04.124499",
     "status": "completed"
    },
    "tags": []
   },
   "source": [
    "# Latest COVID-19 India Matplotlib Overview"
   ]
  },
  {
   "cell_type": "code",
   "execution_count": 1,
   "metadata": {
    "execution": {
     "iopub.execute_input": "2020-09-14T12:40:04.178842Z",
     "iopub.status.busy": "2020-09-14T12:40:04.178358Z",
     "iopub.status.idle": "2020-09-14T12:40:04.706111Z",
     "shell.execute_reply": "2020-09-14T12:40:04.705192Z"
    },
    "papermill": {
     "duration": 0.548263,
     "end_time": "2020-09-14T12:40:04.706254",
     "exception": false,
     "start_time": "2020-09-14T12:40:04.157991",
     "status": "completed"
    },
    "tags": []
   },
   "outputs": [],
   "source": [
    "#hide\n",
    "import pandas as pd\n",
    "import numpy as np\n",
    "import requests\n",
    "import json\n",
    "import matplotlib.pyplot as plt\n",
    "import matplotlib.dates as mdates\n",
    "import matplotlib as mpl\n",
    "from IPython.core.display import display,HTML\n",
    "%matplotlib inline\n",
    "from datetime import date"
   ]
  },
  {
   "cell_type": "code",
   "execution_count": 2,
   "metadata": {
    "execution": {
     "iopub.execute_input": "2020-09-14T12:40:04.740593Z",
     "iopub.status.busy": "2020-09-14T12:40:04.739799Z",
     "iopub.status.idle": "2020-09-14T12:40:04.990676Z",
     "shell.execute_reply": "2020-09-14T12:40:04.990035Z"
    },
    "papermill": {
     "duration": 0.270515,
     "end_time": "2020-09-14T12:40:04.990830",
     "exception": false,
     "start_time": "2020-09-14T12:40:04.720315",
     "status": "completed"
    },
    "tags": []
   },
   "outputs": [],
   "source": [
    "#hide\n",
    "df  = pd.read_csv('https://api.covid19india.org/csv/latest/states.csv')\n",
    "df = df[['Date','State','Confirmed','Deceased']]\n",
    "df = df.rename(columns={'Confirmed':'Cases', \"Deceased\":'Deaths'})\n",
    "df_cases = df[[\"Date\",'State','Cases']]\n",
    "df_deaths = df[['Date','State','Deaths']]\n",
    "df_cases1 = df_cases.groupby('Date')\n",
    "df_deaths1= df_deaths.groupby('Date')"
   ]
  },
  {
   "cell_type": "code",
   "execution_count": 3,
   "metadata": {
    "execution": {
     "iopub.execute_input": "2020-09-14T12:40:05.027082Z",
     "iopub.status.busy": "2020-09-14T12:40:05.026542Z",
     "iopub.status.idle": "2020-09-14T12:40:05.046877Z",
     "shell.execute_reply": "2020-09-14T12:40:05.047299Z"
    },
    "papermill": {
     "duration": 0.042267,
     "end_time": "2020-09-14T12:40:05.047445",
     "exception": false,
     "start_time": "2020-09-14T12:40:05.005178",
     "status": "completed"
    },
    "tags": []
   },
   "outputs": [],
   "source": [
    "#hide\n",
    "df_snap = pd.read_csv('data/SnapshotCases-28-July.csv')\n",
    "arr_states = df_snap['states'].unique()\n",
    "arr_dates = df['Date'].unique()\n",
    "df_snap = df_snap.set_index('states')"
   ]
  },
  {
   "cell_type": "code",
   "execution_count": 4,
   "metadata": {
    "execution": {
     "iopub.execute_input": "2020-09-14T12:40:05.085276Z",
     "iopub.status.busy": "2020-09-14T12:40:05.084673Z",
     "iopub.status.idle": "2020-09-14T12:40:05.087683Z",
     "shell.execute_reply": "2020-09-14T12:40:05.087158Z"
    },
    "papermill": {
     "duration": 0.02523,
     "end_time": "2020-09-14T12:40:05.087799",
     "exception": false,
     "start_time": "2020-09-14T12:40:05.062569",
     "status": "completed"
    },
    "tags": []
   },
   "outputs": [
    {
     "data": {
      "text/plain": [
       "array(['Andaman and Nicobar Islands', 'Andhra Pradesh',\n",
       "       'Arunachal Pradesh', 'Assam', 'Bihar', 'Chandigarh',\n",
       "       'Dadra and Nagar Haveli and Daman and Diu', 'Delhi', 'Goa',\n",
       "       'Gujarat', 'Haryana', 'Himachal Pradesh', 'Jammu and Kashmir',\n",
       "       'Jharkhand', 'Karnataka', 'Kerala', 'Lakshadweep',\n",
       "       'Madhya Pradesh', 'Maharashtra', 'Manipur', 'Meghalaya', 'Mizoram',\n",
       "       'Nagaland', 'Odisha', 'Puducherry', 'Punjab', 'Rajasthan',\n",
       "       'Sikkim', 'Tamil Nadu', 'Telangana', 'Tripura', 'Uttar Pradesh',\n",
       "       'West Bengal', 'Chhattisgarh', 'Ladakh', 'Uttarakhand'],\n",
       "      dtype=object)"
      ]
     },
     "execution_count": 4,
     "metadata": {},
     "output_type": "execute_result"
    }
   ],
   "source": [
    "#hide\n",
    "arr_states[-9] = 'Puducherry'\n",
    "arr_states[-10] = 'Odisha'\n",
    "arr_states[6] = 'Dadra and Nagar Haveli and Daman and Diu'\n",
    "arr_states = np.append(arr_states,np.array(['Chhattisgarh','Ladakh','Uttarakhand']))\n",
    "arr_states"
   ]
  },
  {
   "cell_type": "code",
   "execution_count": 5,
   "metadata": {
    "execution": {
     "iopub.execute_input": "2020-09-14T12:40:05.129125Z",
     "iopub.status.busy": "2020-09-14T12:40:05.122952Z",
     "iopub.status.idle": "2020-09-14T12:40:05.131295Z",
     "shell.execute_reply": "2020-09-14T12:40:05.130832Z"
    },
    "papermill": {
     "duration": 0.029637,
     "end_time": "2020-09-14T12:40:05.131394",
     "exception": false,
     "start_time": "2020-09-14T12:40:05.101757",
     "status": "completed"
    },
    "tags": []
   },
   "outputs": [],
   "source": [
    "#hide\n",
    "dates = []\n",
    "for i in arr_dates:\n",
    "    if i>='2020-07-01':\n",
    "        dates.append(i)\n",
    "dict = {'states':dates}\n",
    "for i in arr_states:\n",
    "    dict[i] = [0]*len(dates)\n",
    "dft_cases = pd.DataFrame(dict)\n",
    "dft_deaths = pd.DataFrame(dict)\n"
   ]
  },
  {
   "cell_type": "code",
   "execution_count": 6,
   "metadata": {
    "execution": {
     "iopub.execute_input": "2020-09-14T12:40:05.162310Z",
     "iopub.status.busy": "2020-09-14T12:40:05.161834Z",
     "iopub.status.idle": "2020-09-14T12:40:06.096200Z",
     "shell.execute_reply": "2020-09-14T12:40:06.095600Z"
    },
    "papermill": {
     "duration": 0.952394,
     "end_time": "2020-09-14T12:40:06.096359",
     "exception": false,
     "start_time": "2020-09-14T12:40:05.143965",
     "status": "completed"
    },
    "tags": []
   },
   "outputs": [],
   "source": [
    "#hide\n",
    "for i in range(len(dates)):\n",
    "    df1_deaths = df_deaths1.get_group(dates[i])\n",
    "    for j in range(len(df1_deaths.index)):\n",
    "        if df1_deaths.iloc[j,1] in arr_states:\n",
    "            dft_deaths.loc[i,df1_deaths.iloc[j,1]] = df1_deaths.iloc[j,2]\n",
    "dft_deaths = dft_deaths.set_index('states')"
   ]
  },
  {
   "cell_type": "code",
   "execution_count": 7,
   "metadata": {
    "execution": {
     "iopub.execute_input": "2020-09-14T12:40:06.134528Z",
     "iopub.status.busy": "2020-09-14T12:40:06.133991Z",
     "iopub.status.idle": "2020-09-14T12:40:07.057105Z",
     "shell.execute_reply": "2020-09-14T12:40:07.056505Z"
    },
    "papermill": {
     "duration": 0.944777,
     "end_time": "2020-09-14T12:40:07.057245",
     "exception": false,
     "start_time": "2020-09-14T12:40:06.112468",
     "status": "completed"
    },
    "tags": []
   },
   "outputs": [],
   "source": [
    "#hide\n",
    "for i in range(len(dates)):\n",
    "    df1_cases = df_cases1.get_group(dates[i])\n",
    "    for j in range(len(df1_cases.index)):\n",
    "        if df1_cases.iloc[j,1] in arr_states:\n",
    "            dft_cases.loc[i,df1_cases.iloc[j,1]] = df1_cases.iloc[j,2]\n",
    "dft_cases = dft_cases.set_index('states')"
   ]
  },
  {
   "cell_type": "code",
   "execution_count": 8,
   "metadata": {
    "execution": {
     "iopub.execute_input": "2020-09-14T12:40:07.093270Z",
     "iopub.status.busy": "2020-09-14T12:40:07.092555Z",
     "iopub.status.idle": "2020-09-14T12:40:07.094180Z",
     "shell.execute_reply": "2020-09-14T12:40:07.094753Z"
    },
    "papermill": {
     "duration": 0.022987,
     "end_time": "2020-09-14T12:40:07.094912",
     "exception": false,
     "start_time": "2020-09-14T12:40:07.071925",
     "status": "completed"
    },
    "tags": []
   },
   "outputs": [],
   "source": [
    "#hide\n",
    "dft_cases = dft_cases.T\n",
    "dft_deaths = dft_deaths.T\n",
    "dt_today = dates[-1]\n",
    "dt_yday = dates[-2]"
   ]
  },
  {
   "cell_type": "code",
   "execution_count": 9,
   "metadata": {
    "execution": {
     "iopub.execute_input": "2020-09-14T12:40:07.133861Z",
     "iopub.status.busy": "2020-09-14T12:40:07.131001Z",
     "iopub.status.idle": "2020-09-14T12:40:07.135909Z",
     "shell.execute_reply": "2020-09-14T12:40:07.135512Z"
    },
    "papermill": {
     "duration": 0.025348,
     "end_time": "2020-09-14T12:40:07.136011",
     "exception": false,
     "start_time": "2020-09-14T12:40:07.110663",
     "status": "completed"
    },
    "tags": []
   },
   "outputs": [],
   "source": [
    "#hide\n",
    "dft_cases = dft_cases.reset_index()\n",
    "dft_deaths = dft_deaths.reset_index()\n",
    "dft_cases = dft_cases.rename(columns = {'index':'state'})\n",
    "dft_deaths = dft_deaths.rename(columns = {'index':'state'})"
   ]
  },
  {
   "cell_type": "code",
   "execution_count": 10,
   "metadata": {
    "execution": {
     "iopub.execute_input": "2020-09-14T12:40:07.173879Z",
     "iopub.status.busy": "2020-09-14T12:40:07.173296Z",
     "iopub.status.idle": "2020-09-14T12:40:07.175752Z",
     "shell.execute_reply": "2020-09-14T12:40:07.175321Z"
    },
    "papermill": {
     "duration": 0.026302,
     "end_time": "2020-09-14T12:40:07.175866",
     "exception": false,
     "start_time": "2020-09-14T12:40:07.149564",
     "status": "completed"
    },
    "tags": []
   },
   "outputs": [],
   "source": [
    "#hide\n",
    "dfc_cases = dft_cases.groupby('state')[dt_today].sum()\n",
    "dfc_deaths = dft_deaths.groupby('state')[dt_today].sum()\n",
    "dfp_cases = dft_cases.groupby('state')[dt_yday].sum()\n",
    "dfp_deaths = dft_deaths.groupby('state')[dt_yday].sum()"
   ]
  },
  {
   "cell_type": "code",
   "execution_count": 11,
   "metadata": {
    "execution": {
     "iopub.execute_input": "2020-09-14T12:40:07.208185Z",
     "iopub.status.busy": "2020-09-14T12:40:07.207587Z",
     "iopub.status.idle": "2020-09-14T12:40:07.220168Z",
     "shell.execute_reply": "2020-09-14T12:40:07.219694Z"
    },
    "papermill": {
     "duration": 0.0317,
     "end_time": "2020-09-14T12:40:07.220269",
     "exception": false,
     "start_time": "2020-09-14T12:40:07.188569",
     "status": "completed"
    },
    "tags": []
   },
   "outputs": [
    {
     "data": {
      "text/html": [
       "<div>\n",
       "<style scoped>\n",
       "    .dataframe tbody tr th:only-of-type {\n",
       "        vertical-align: middle;\n",
       "    }\n",
       "\n",
       "    .dataframe tbody tr th {\n",
       "        vertical-align: top;\n",
       "    }\n",
       "\n",
       "    .dataframe thead th {\n",
       "        text-align: right;\n",
       "    }\n",
       "</style>\n",
       "<table border=\"1\" class=\"dataframe\">\n",
       "  <thead>\n",
       "    <tr style=\"text-align: right;\">\n",
       "      <th></th>\n",
       "      <th>states</th>\n",
       "      <th>Cases</th>\n",
       "      <th>Deaths</th>\n",
       "      <th>PCases</th>\n",
       "      <th>PDeaths</th>\n",
       "    </tr>\n",
       "  </thead>\n",
       "  <tbody>\n",
       "    <tr>\n",
       "      <th>0</th>\n",
       "      <td>Maharashtra</td>\n",
       "      <td>1060308</td>\n",
       "      <td>29531</td>\n",
       "      <td>1060308</td>\n",
       "      <td>29531</td>\n",
       "    </tr>\n",
       "    <tr>\n",
       "      <th>1</th>\n",
       "      <td>Andhra Pradesh</td>\n",
       "      <td>575079</td>\n",
       "      <td>4972</td>\n",
       "      <td>567123</td>\n",
       "      <td>4912</td>\n",
       "    </tr>\n",
       "    <tr>\n",
       "      <th>2</th>\n",
       "      <td>Tamil Nadu</td>\n",
       "      <td>502759</td>\n",
       "      <td>8381</td>\n",
       "      <td>502759</td>\n",
       "      <td>8381</td>\n",
       "    </tr>\n",
       "    <tr>\n",
       "      <th>3</th>\n",
       "      <td>Karnataka</td>\n",
       "      <td>459445</td>\n",
       "      <td>7265</td>\n",
       "      <td>459445</td>\n",
       "      <td>7265</td>\n",
       "    </tr>\n",
       "    <tr>\n",
       "      <th>4</th>\n",
       "      <td>Uttar Pradesh</td>\n",
       "      <td>317195</td>\n",
       "      <td>4491</td>\n",
       "      <td>312036</td>\n",
       "      <td>4429</td>\n",
       "    </tr>\n",
       "  </tbody>\n",
       "</table>\n",
       "</div>"
      ],
      "text/plain": [
       "           states    Cases  Deaths   PCases  PDeaths\n",
       "0     Maharashtra  1060308   29531  1060308    29531\n",
       "1  Andhra Pradesh   575079    4972   567123     4912\n",
       "2      Tamil Nadu   502759    8381   502759     8381\n",
       "3       Karnataka   459445    7265   459445     7265\n",
       "4   Uttar Pradesh   317195    4491   312036     4429"
      ]
     },
     "execution_count": 11,
     "metadata": {},
     "output_type": "execute_result"
    }
   ],
   "source": [
    "#hide\n",
    "df_table = pd.DataFrame({'states': dfc_cases.index, 'Cases': dfc_cases.values, 'Deaths': dfc_deaths.values, 'PCases': dfp_cases.values, 'PDeaths': dfp_deaths.values}).set_index('states')\n",
    "df_table = df_table.sort_values(by = ['Cases','Deaths'], ascending = [False, False])\n",
    "df_table = df_table.reset_index()\n",
    "df_table.head()"
   ]
  },
  {
   "cell_type": "code",
   "execution_count": 12,
   "metadata": {
    "execution": {
     "iopub.execute_input": "2020-09-14T12:40:07.262273Z",
     "iopub.status.busy": "2020-09-14T12:40:07.261789Z",
     "iopub.status.idle": "2020-09-14T12:40:07.264176Z",
     "shell.execute_reply": "2020-09-14T12:40:07.263711Z"
    },
    "papermill": {
     "duration": 0.029329,
     "end_time": "2020-09-14T12:40:07.264300",
     "exception": false,
     "start_time": "2020-09-14T12:40:07.234971",
     "status": "completed"
    },
    "tags": []
   },
   "outputs": [],
   "source": [
    "#hide\n",
    "for c in 'Cases, Deaths'.split(', '):\n",
    "    df_table[f'{c} (+)'] = (df_table[c] - df_table[f'P{c}']).clip(0)\n",
    "df_table['Fatality Rate'] = (100* df_table['Deaths']/ df_table['Cases']).round(2)"
   ]
  },
  {
   "cell_type": "code",
   "execution_count": 13,
   "metadata": {
    "execution": {
     "iopub.execute_input": "2020-09-14T12:40:07.303876Z",
     "iopub.status.busy": "2020-09-14T12:40:07.303279Z",
     "iopub.status.idle": "2020-09-14T12:40:07.305852Z",
     "shell.execute_reply": "2020-09-14T12:40:07.306437Z"
    },
    "papermill": {
     "duration": 0.027842,
     "end_time": "2020-09-14T12:40:07.306593",
     "exception": false,
     "start_time": "2020-09-14T12:40:07.278751",
     "status": "completed"
    },
    "tags": []
   },
   "outputs": [
    {
     "data": {
      "text/html": [
       "<div>\n",
       "<style scoped>\n",
       "    .dataframe tbody tr th:only-of-type {\n",
       "        vertical-align: middle;\n",
       "    }\n",
       "\n",
       "    .dataframe tbody tr th {\n",
       "        vertical-align: top;\n",
       "    }\n",
       "\n",
       "    .dataframe thead th {\n",
       "        text-align: right;\n",
       "    }\n",
       "</style>\n",
       "<table border=\"1\" class=\"dataframe\">\n",
       "  <thead>\n",
       "    <tr style=\"text-align: right;\">\n",
       "      <th></th>\n",
       "      <th>states</th>\n",
       "      <th>Cases</th>\n",
       "      <th>Deaths</th>\n",
       "      <th>PCases</th>\n",
       "      <th>PDeaths</th>\n",
       "      <th>Cases (+)</th>\n",
       "      <th>Deaths (+)</th>\n",
       "      <th>Fatality Rate</th>\n",
       "    </tr>\n",
       "  </thead>\n",
       "  <tbody>\n",
       "    <tr>\n",
       "      <th>0</th>\n",
       "      <td>Maharashtra</td>\n",
       "      <td>1060308</td>\n",
       "      <td>29531</td>\n",
       "      <td>1060308</td>\n",
       "      <td>29531</td>\n",
       "      <td>0</td>\n",
       "      <td>0</td>\n",
       "      <td>2.79</td>\n",
       "    </tr>\n",
       "    <tr>\n",
       "      <th>1</th>\n",
       "      <td>Andhra Pradesh</td>\n",
       "      <td>575079</td>\n",
       "      <td>4972</td>\n",
       "      <td>567123</td>\n",
       "      <td>4912</td>\n",
       "      <td>7956</td>\n",
       "      <td>60</td>\n",
       "      <td>0.86</td>\n",
       "    </tr>\n",
       "    <tr>\n",
       "      <th>2</th>\n",
       "      <td>Tamil Nadu</td>\n",
       "      <td>502759</td>\n",
       "      <td>8381</td>\n",
       "      <td>502759</td>\n",
       "      <td>8381</td>\n",
       "      <td>0</td>\n",
       "      <td>0</td>\n",
       "      <td>1.67</td>\n",
       "    </tr>\n",
       "    <tr>\n",
       "      <th>3</th>\n",
       "      <td>Karnataka</td>\n",
       "      <td>459445</td>\n",
       "      <td>7265</td>\n",
       "      <td>459445</td>\n",
       "      <td>7265</td>\n",
       "      <td>0</td>\n",
       "      <td>0</td>\n",
       "      <td>1.58</td>\n",
       "    </tr>\n",
       "    <tr>\n",
       "      <th>4</th>\n",
       "      <td>Uttar Pradesh</td>\n",
       "      <td>317195</td>\n",
       "      <td>4491</td>\n",
       "      <td>312036</td>\n",
       "      <td>4429</td>\n",
       "      <td>5159</td>\n",
       "      <td>62</td>\n",
       "      <td>1.42</td>\n",
       "    </tr>\n",
       "  </tbody>\n",
       "</table>\n",
       "</div>"
      ],
      "text/plain": [
       "           states    Cases  Deaths   PCases  PDeaths  Cases (+)  Deaths (+)  \\\n",
       "0     Maharashtra  1060308   29531  1060308    29531          0           0   \n",
       "1  Andhra Pradesh   575079    4972   567123     4912       7956          60   \n",
       "2      Tamil Nadu   502759    8381   502759     8381          0           0   \n",
       "3       Karnataka   459445    7265   459445     7265          0           0   \n",
       "4   Uttar Pradesh   317195    4491   312036     4429       5159          62   \n",
       "\n",
       "   Fatality Rate  \n",
       "0           2.79  \n",
       "1           0.86  \n",
       "2           1.67  \n",
       "3           1.58  \n",
       "4           1.42  "
      ]
     },
     "execution_count": 13,
     "metadata": {},
     "output_type": "execute_result"
    }
   ],
   "source": [
    "#hide\n",
    "df_table.head()"
   ]
  },
  {
   "cell_type": "code",
   "execution_count": 14,
   "metadata": {
    "execution": {
     "iopub.execute_input": "2020-09-14T12:40:07.345732Z",
     "iopub.status.busy": "2020-09-14T12:40:07.345116Z",
     "iopub.status.idle": "2020-09-14T12:40:07.360335Z",
     "shell.execute_reply": "2020-09-14T12:40:07.360775Z"
    },
    "papermill": {
     "duration": 0.037902,
     "end_time": "2020-09-14T12:40:07.360911",
     "exception": false,
     "start_time": "2020-09-14T12:40:07.323009",
     "status": "completed"
    },
    "tags": []
   },
   "outputs": [
    {
     "data": {
      "text/plain": [
       "{'updated': '2020-09-14',\n",
       " 'since': '2020-09-13',\n",
       " 'Cases': 4864146,\n",
       " 'PCases': 4845003,\n",
       " 'Deaths': 79906,\n",
       " 'PDeaths': 79754,\n",
       " 'Cases (+)': 19143,\n",
       " 'Deaths (+)': 152}"
      ]
     },
     "execution_count": 14,
     "metadata": {},
     "output_type": "execute_result"
    }
   ],
   "source": [
    "#hide\n",
    "summary = {'updated':dates[-1], 'since':dates[-2]}\n",
    "list_names = ['Cases', 'PCases', 'Deaths', 'PDeaths', 'Cases (+)', 'Deaths (+)']\n",
    "for name in list_names:\n",
    "    summary[name] = df_table.sum()[name]\n",
    "summary"
   ]
  },
  {
   "cell_type": "code",
   "execution_count": 15,
   "metadata": {
    "execution": {
     "iopub.execute_input": "2020-09-14T12:40:07.398101Z",
     "iopub.status.busy": "2020-09-14T12:40:07.397404Z",
     "iopub.status.idle": "2020-09-14T12:40:07.398976Z",
     "shell.execute_reply": "2020-09-14T12:40:07.399567Z"
    },
    "papermill": {
     "duration": 0.022553,
     "end_time": "2020-09-14T12:40:07.399721",
     "exception": false,
     "start_time": "2020-09-14T12:40:07.377168",
     "status": "completed"
    },
    "tags": []
   },
   "outputs": [],
   "source": [
    "#hide\n",
    "overview = '''\n",
    "<!-- #######  HTML!! #########-->\n",
    "<h1 style=\"color: #5e9ca0; text-align: center;\">India</h1>\n",
    "<p style=\"text-align: center;\">Last update: <strong>{update}</strong></p>\n",
    "<p style=\"text-align: center;\">Confirmed cases:</p>\n",
    "<p style=\"text-align: center;font-size:24px;\">{cases} (<span style=\"color: #ff0000;\">+{new}</span>)</p>\n",
    "<p style=\"text-align: center;\">Confirmed deaths:</p>\n",
    "<p style=\"text-align: center;font-size:24px;\">{deaths} (<span style=\"color: #ff0000;\">+{dnew}</span>)</p>\n",
    "'''"
   ]
  },
  {
   "cell_type": "code",
   "execution_count": 16,
   "metadata": {
    "execution": {
     "iopub.execute_input": "2020-09-14T12:40:07.438255Z",
     "iopub.status.busy": "2020-09-14T12:40:07.437663Z",
     "iopub.status.idle": "2020-09-14T12:40:07.441282Z",
     "shell.execute_reply": "2020-09-14T12:40:07.440755Z"
    },
    "papermill": {
     "duration": 0.025031,
     "end_time": "2020-09-14T12:40:07.441407",
     "exception": false,
     "start_time": "2020-09-14T12:40:07.416376",
     "status": "completed"
    },
    "tags": []
   },
   "outputs": [
    {
     "data": {
      "text/html": [
       "\n",
       "<!-- #######  HTML!! #########-->\n",
       "<h1 style=\"color: #5e9ca0; text-align: center;\">India</h1>\n",
       "<p style=\"text-align: center;\">Last update: <strong>2020-09-14</strong></p>\n",
       "<p style=\"text-align: center;\">Confirmed cases:</p>\n",
       "<p style=\"text-align: center;font-size:24px;\">4864146 (<span style=\"color: #ff0000;\">+19143</span>)</p>\n",
       "<p style=\"text-align: center;\">Confirmed deaths:</p>\n",
       "<p style=\"text-align: center;font-size:24px;\">79906 (<span style=\"color: #ff0000;\">+152</span>)</p>\n"
      ],
      "text/plain": [
       "<IPython.core.display.HTML object>"
      ]
     },
     "metadata": {},
     "output_type": "display_data"
    }
   ],
   "source": [
    "#hide_input\n",
    "update = summary['updated']\n",
    "cases = summary['Cases']\n",
    "new = summary['Cases (+)']\n",
    "deaths = summary['Deaths']\n",
    "dnew = summary['Deaths (+)']\n",
    "\n",
    "html = HTML(overview.format(update=update, cases=cases,new=new,deaths=deaths,dnew=dnew))\n",
    "\n",
    "display(html)"
   ]
  },
  {
   "cell_type": "code",
   "execution_count": 17,
   "metadata": {
    "execution": {
     "iopub.execute_input": "2020-09-14T12:40:07.483623Z",
     "iopub.status.busy": "2020-09-14T12:40:07.483049Z",
     "iopub.status.idle": "2020-09-14T12:40:07.488753Z",
     "shell.execute_reply": "2020-09-14T12:40:07.488196Z"
    },
    "papermill": {
     "duration": 0.030014,
     "end_time": "2020-09-14T12:40:07.488916",
     "exception": false,
     "start_time": "2020-09-14T12:40:07.458902",
     "status": "completed"
    },
    "tags": []
   },
   "outputs": [],
   "source": [
    "#hide\n",
    "dt_cols = list(dft_cases.columns[1:])\n",
    "dft_ct_new_cases = dft_cases.groupby('state')[dt_cols].sum().diff(axis=1).fillna(0).astype(int)\n",
    "dft_ct_new_cases.sort_values(by = dates[-1], ascending = False,inplace = True)"
   ]
  },
  {
   "cell_type": "code",
   "execution_count": 18,
   "metadata": {
    "execution": {
     "iopub.execute_input": "2020-09-14T12:40:07.533831Z",
     "iopub.status.busy": "2020-09-14T12:40:07.533289Z",
     "iopub.status.idle": "2020-09-14T12:40:07.543152Z",
     "shell.execute_reply": "2020-09-14T12:40:07.543593Z"
    },
    "papermill": {
     "duration": 0.037572,
     "end_time": "2020-09-14T12:40:07.543739",
     "exception": false,
     "start_time": "2020-09-14T12:40:07.506167",
     "status": "completed"
    },
    "tags": []
   },
   "outputs": [
    {
     "data": {
      "text/html": [
       "<div>\n",
       "<style scoped>\n",
       "    .dataframe tbody tr th:only-of-type {\n",
       "        vertical-align: middle;\n",
       "    }\n",
       "\n",
       "    .dataframe tbody tr th {\n",
       "        vertical-align: top;\n",
       "    }\n",
       "\n",
       "    .dataframe thead th {\n",
       "        text-align: right;\n",
       "    }\n",
       "</style>\n",
       "<table border=\"1\" class=\"dataframe\">\n",
       "  <thead>\n",
       "    <tr style=\"text-align: right;\">\n",
       "      <th>states</th>\n",
       "      <th>2020-07-01</th>\n",
       "      <th>2020-07-02</th>\n",
       "      <th>2020-07-03</th>\n",
       "      <th>2020-07-04</th>\n",
       "      <th>2020-07-05</th>\n",
       "      <th>2020-07-06</th>\n",
       "      <th>2020-07-07</th>\n",
       "      <th>2020-07-08</th>\n",
       "      <th>2020-07-09</th>\n",
       "      <th>2020-07-10</th>\n",
       "      <th>...</th>\n",
       "      <th>2020-09-05</th>\n",
       "      <th>2020-09-06</th>\n",
       "      <th>2020-09-07</th>\n",
       "      <th>2020-09-08</th>\n",
       "      <th>2020-09-09</th>\n",
       "      <th>2020-09-10</th>\n",
       "      <th>2020-09-11</th>\n",
       "      <th>2020-09-12</th>\n",
       "      <th>2020-09-13</th>\n",
       "      <th>2020-09-14</th>\n",
       "    </tr>\n",
       "    <tr>\n",
       "      <th>state</th>\n",
       "      <th></th>\n",
       "      <th></th>\n",
       "      <th></th>\n",
       "      <th></th>\n",
       "      <th></th>\n",
       "      <th></th>\n",
       "      <th></th>\n",
       "      <th></th>\n",
       "      <th></th>\n",
       "      <th></th>\n",
       "      <th></th>\n",
       "      <th></th>\n",
       "      <th></th>\n",
       "      <th></th>\n",
       "      <th></th>\n",
       "      <th></th>\n",
       "      <th></th>\n",
       "      <th></th>\n",
       "      <th></th>\n",
       "      <th></th>\n",
       "      <th></th>\n",
       "    </tr>\n",
       "  </thead>\n",
       "  <tbody>\n",
       "    <tr>\n",
       "      <th>Andhra Pradesh</th>\n",
       "      <td>0</td>\n",
       "      <td>845</td>\n",
       "      <td>837</td>\n",
       "      <td>765</td>\n",
       "      <td>998</td>\n",
       "      <td>1322</td>\n",
       "      <td>1178</td>\n",
       "      <td>1062</td>\n",
       "      <td>1555</td>\n",
       "      <td>1608</td>\n",
       "      <td>...</td>\n",
       "      <td>10825</td>\n",
       "      <td>10794</td>\n",
       "      <td>8368</td>\n",
       "      <td>10601</td>\n",
       "      <td>10418</td>\n",
       "      <td>10175</td>\n",
       "      <td>9999</td>\n",
       "      <td>9901</td>\n",
       "      <td>9536</td>\n",
       "      <td>7956</td>\n",
       "    </tr>\n",
       "    <tr>\n",
       "      <th>Uttar Pradesh</th>\n",
       "      <td>0</td>\n",
       "      <td>769</td>\n",
       "      <td>972</td>\n",
       "      <td>757</td>\n",
       "      <td>1153</td>\n",
       "      <td>929</td>\n",
       "      <td>1332</td>\n",
       "      <td>1188</td>\n",
       "      <td>1206</td>\n",
       "      <td>1338</td>\n",
       "      <td>...</td>\n",
       "      <td>6590</td>\n",
       "      <td>6518</td>\n",
       "      <td>5568</td>\n",
       "      <td>6622</td>\n",
       "      <td>6568</td>\n",
       "      <td>6988</td>\n",
       "      <td>7016</td>\n",
       "      <td>6786</td>\n",
       "      <td>6205</td>\n",
       "      <td>5159</td>\n",
       "    </tr>\n",
       "    <tr>\n",
       "      <th>Odisha</th>\n",
       "      <td>0</td>\n",
       "      <td>229</td>\n",
       "      <td>561</td>\n",
       "      <td>495</td>\n",
       "      <td>469</td>\n",
       "      <td>456</td>\n",
       "      <td>571</td>\n",
       "      <td>527</td>\n",
       "      <td>577</td>\n",
       "      <td>755</td>\n",
       "      <td>...</td>\n",
       "      <td>3543</td>\n",
       "      <td>3810</td>\n",
       "      <td>3861</td>\n",
       "      <td>3490</td>\n",
       "      <td>3748</td>\n",
       "      <td>3991</td>\n",
       "      <td>3996</td>\n",
       "      <td>3777</td>\n",
       "      <td>3913</td>\n",
       "      <td>4198</td>\n",
       "    </tr>\n",
       "    <tr>\n",
       "      <th>Telangana</th>\n",
       "      <td>0</td>\n",
       "      <td>1213</td>\n",
       "      <td>1892</td>\n",
       "      <td>1850</td>\n",
       "      <td>1590</td>\n",
       "      <td>1831</td>\n",
       "      <td>1879</td>\n",
       "      <td>1924</td>\n",
       "      <td>1410</td>\n",
       "      <td>1278</td>\n",
       "      <td>...</td>\n",
       "      <td>2511</td>\n",
       "      <td>2574</td>\n",
       "      <td>1802</td>\n",
       "      <td>2392</td>\n",
       "      <td>2479</td>\n",
       "      <td>2534</td>\n",
       "      <td>2426</td>\n",
       "      <td>2278</td>\n",
       "      <td>2216</td>\n",
       "      <td>1417</td>\n",
       "    </tr>\n",
       "    <tr>\n",
       "      <th>Tripura</th>\n",
       "      <td>0</td>\n",
       "      <td>39</td>\n",
       "      <td>93</td>\n",
       "      <td>25</td>\n",
       "      <td>23</td>\n",
       "      <td>111</td>\n",
       "      <td>24</td>\n",
       "      <td>57</td>\n",
       "      <td>16</td>\n",
       "      <td>142</td>\n",
       "      <td>...</td>\n",
       "      <td>691</td>\n",
       "      <td>603</td>\n",
       "      <td>399</td>\n",
       "      <td>628</td>\n",
       "      <td>582</td>\n",
       "      <td>535</td>\n",
       "      <td>559</td>\n",
       "      <td>470</td>\n",
       "      <td>629</td>\n",
       "      <td>255</td>\n",
       "    </tr>\n",
       "  </tbody>\n",
       "</table>\n",
       "<p>5 rows × 76 columns</p>\n",
       "</div>"
      ],
      "text/plain": [
       "states          2020-07-01  2020-07-02  2020-07-03  2020-07-04  2020-07-05  \\\n",
       "state                                                                        \n",
       "Andhra Pradesh           0         845         837         765         998   \n",
       "Uttar Pradesh            0         769         972         757        1153   \n",
       "Odisha                   0         229         561         495         469   \n",
       "Telangana                0        1213        1892        1850        1590   \n",
       "Tripura                  0          39          93          25          23   \n",
       "\n",
       "states          2020-07-06  2020-07-07  2020-07-08  2020-07-09  2020-07-10  \\\n",
       "state                                                                        \n",
       "Andhra Pradesh        1322        1178        1062        1555        1608   \n",
       "Uttar Pradesh          929        1332        1188        1206        1338   \n",
       "Odisha                 456         571         527         577         755   \n",
       "Telangana             1831        1879        1924        1410        1278   \n",
       "Tripura                111          24          57          16         142   \n",
       "\n",
       "states          ...  2020-09-05  2020-09-06  2020-09-07  2020-09-08  \\\n",
       "state           ...                                                   \n",
       "Andhra Pradesh  ...       10825       10794        8368       10601   \n",
       "Uttar Pradesh   ...        6590        6518        5568        6622   \n",
       "Odisha          ...        3543        3810        3861        3490   \n",
       "Telangana       ...        2511        2574        1802        2392   \n",
       "Tripura         ...         691         603         399         628   \n",
       "\n",
       "states          2020-09-09  2020-09-10  2020-09-11  2020-09-12  2020-09-13  \\\n",
       "state                                                                        \n",
       "Andhra Pradesh       10418       10175        9999        9901        9536   \n",
       "Uttar Pradesh         6568        6988        7016        6786        6205   \n",
       "Odisha                3748        3991        3996        3777        3913   \n",
       "Telangana             2479        2534        2426        2278        2216   \n",
       "Tripura                582         535         559         470         629   \n",
       "\n",
       "states          2020-09-14  \n",
       "state                       \n",
       "Andhra Pradesh        7956  \n",
       "Uttar Pradesh         5159  \n",
       "Odisha                4198  \n",
       "Telangana             1417  \n",
       "Tripura                255  \n",
       "\n",
       "[5 rows x 76 columns]"
      ]
     },
     "execution_count": 18,
     "metadata": {},
     "output_type": "execute_result"
    }
   ],
   "source": [
    "#hide\n",
    "dft_ct_new_cases.head()"
   ]
  },
  {
   "cell_type": "code",
   "execution_count": 19,
   "metadata": {
    "execution": {
     "iopub.execute_input": "2020-09-14T12:40:07.613944Z",
     "iopub.status.busy": "2020-09-14T12:40:07.594677Z",
     "iopub.status.idle": "2020-09-14T12:40:10.620218Z",
     "shell.execute_reply": "2020-09-14T12:40:10.620720Z"
    },
    "papermill": {
     "duration": 3.059489,
     "end_time": "2020-09-14T12:40:10.620874",
     "exception": false,
     "start_time": "2020-09-14T12:40:07.561385",
     "status": "completed"
    },
    "tags": []
   },
   "outputs": [
    {
     "data": {
      "image/png": "[encoded data removed]",
      "text/plain": [
       "<Figure size 1296x2016 with 11 Axes>"
      ]
     },
     "metadata": {
      "needs_background": "light"
     },
     "output_type": "display_data"
    }
   ],
   "source": [
    "#hide_input\n",
    "df = dft_ct_new_cases.copy()\n",
    "df.loc['Total'] = df.sum()\n",
    "n = 5\n",
    "ax = []\n",
    "fig = plt.figure(figsize = (18,28))\n",
    "gs = fig.add_gridspec(n+2, 5)\n",
    "# gs = fig.add_gridspec(2, 3)\n",
    "ax1 = fig.add_subplot(gs[0, :])\n",
    "ef = df.loc['Total'].rename_axis('date').reset_index()\n",
    "ef['date'] = ef['date'].astype('datetime64[ns]')\n",
    "ax1.bar(ef.date,ef.Total,alpha=0.3,color='#007acc')\n",
    "ax1.plot(ef.date,ef.Total , marker=\"o\", color='#007acc')\n",
    "ax1.xaxis.set_major_locator(mdates.WeekdayLocator())\n",
    "ax1.xaxis.set_major_formatter(mdates.DateFormatter('%b %d'))\n",
    "ax1.text(0.02, 0.5,'India daily case count', transform = ax1.transAxes, fontsize=25);\n",
    "ax1.spines['right'].set_visible(False)\n",
    "ax1.spines['top'].set_visible(False)\n",
    "\n",
    "ax2 = fig.add_subplot(gs[1,0])\n",
    "ef = df.loc['Maharashtra'].rename_axis('date').reset_index()\n",
    "ef['date'] = ef['date'].astype('datetime64[ns]')\n",
    "\n",
    "ax2.bar(ef.date, ef.Maharashtra,color = '#007acc',alpha=0.5)\n",
    "ax2.xaxis.set_major_locator(mdates.WeekdayLocator())\n",
    "ax2.xaxis.set_major_formatter(mdates.DateFormatter('%b %d'))\n",
    "ax2.set_xticks(ax2.get_xticks()[::3])\n",
    "maxyval = ef.Maharashtra.max()\n",
    "ax2.set_ylim([0,maxyval])\n",
    "ax2.text(0.05, 0.9,'Maharashtra', transform = ax2.transAxes, fontsize=20);\n",
    "ax2.spines['right'].set_visible(False)\n",
    "ax2.spines['top'].set_visible(False)\n",
    "\n",
    "\n",
    "ax3 = fig.add_subplot(gs[1,1])\n",
    "ef = df.loc['Tamil Nadu'].rename_axis('date').reset_index()\n",
    "ef['date'] = ef['date'].astype('datetime64[ns]')\n",
    "ax3.bar(ef.date, ef['Tamil Nadu'],color = '#007acc',alpha=0.5,)\n",
    "ax3.xaxis.set_major_locator(mdates.WeekdayLocator())\n",
    "ax3.xaxis.set_major_formatter(mdates.DateFormatter('%b %d'))\n",
    "ax3.set_xticks(ax3.get_xticks()[::3])\n",
    "ax3.text(0.05, 0.9,'Tamil Nadu', transform = ax3.transAxes, fontsize=20);\n",
    "ax3.spines['right'].set_visible(False)\n",
    "ax3.spines['top'].set_visible(False)\n",
    "\n",
    "ax5 = fig.add_subplot(gs[1,3])\n",
    "ef = df.loc['Telangana'].rename_axis('date').reset_index()\n",
    "ef['date'] = ef['date'].astype('datetime64[ns]')\n",
    "ax5.bar(ef.date, ef['Telangana'],color = '#007acc',alpha=0.5,)\n",
    "ax5.xaxis.set_major_locator(mdates.WeekdayLocator())\n",
    "ax5.xaxis.set_major_formatter(mdates.DateFormatter('%b %d'))\n",
    "ax5.set_xticks(ax5.get_xticks()[::3])\n",
    "ax5.text(0.05, 0.9,'Telangana', transform = ax5.transAxes, fontsize=20);\n",
    "ax5.spines['right'].set_visible(False)\n",
    "ax5.spines['top'].set_visible(False)\n",
    "\n",
    "ax6 = fig.add_subplot(gs[1,4])\n",
    "ef = df.loc['Andhra Pradesh'].rename_axis('date').reset_index()\n",
    "ef['date'] = ef['date'].astype('datetime64[ns]')\n",
    "ax6.bar(ef.date, ef['Andhra Pradesh'],color = '#007acc',alpha=0.5,)\n",
    "ax6.xaxis.set_major_locator(mdates.WeekdayLocator())\n",
    "ax6.xaxis.set_major_formatter(mdates.DateFormatter('%b %d'))\n",
    "ax6.set_xticks(ax6.get_xticks()[::3])\n",
    "ax6.text(0.05, 1,'Andhra Pradesh', transform = ax6.transAxes, fontsize=20);\n",
    "ax6.spines['right'].set_visible(False)\n",
    "ax6.spines['top'].set_visible(False)\n",
    "\n",
    "ax4 = fig.add_subplot(gs[1,2])\n",
    "ef = df.loc['Delhi'].rename_axis('date').reset_index()\n",
    "ef['date'] = ef['date'].astype('datetime64[ns]')\n",
    "ax4.bar(ef.date, ef.Delhi,color = '#007acc',alpha=0.5)\n",
    "ax4.set_xticks([])\n",
    "ax4.xaxis.set_major_locator(mdates.WeekdayLocator())\n",
    "ax4.xaxis.set_major_formatter(mdates.DateFormatter('%b %d'))\n",
    "ax4.set_xticks(ax4.get_xticks()[::3])\n",
    "ax4.spines['right'].set_visible(False)\n",
    "ax4.spines['top'].set_visible(False)\n",
    "\n",
    "ax4.text(0.05, 1,'Delhi', transform = ax4.transAxes, fontsize=20)\n",
    "\n",
    "for i in range(n):\n",
    "    \n",
    "    ax.append(fig.add_subplot(gs[i+2,:]))\n",
    "    ef = df.iloc[i+3].rename_axis('date').reset_index()\n",
    "    ef['date'] = ef['date'].astype('datetime64[ns]')\n",
    "    ax[i].bar(ef.date,ef.iloc[:,-1],color = '#007acc',alpha=0.3)\n",
    "    ax[i].plot(ef.date,ef.iloc[:,-1],marker='o',color='#007acc')\n",
    "    ax[i].text(0.02,0.5,f'{ef.columns.values[-1]}',transform = ax[i].transAxes, fontsize = 20);\n",
    "    ax[i].xaxis.set_major_locator(mdates.WeekdayLocator())\n",
    "    ax[i].xaxis.set_major_formatter(mdates.DateFormatter('%b %d'))\n",
    "    ax[i].set_ylim([0,7000])\n",
    "    ax[i].spines['right'].set_visible(False)\n",
    "    ax[i].spines['top'].set_visible(False)\n",
    "plt.tight_layout()\n"
   ]
  },
  {
   "cell_type": "code",
   "execution_count": 20,
   "metadata": {
    "execution": {
     "iopub.execute_input": "2020-09-14T12:40:10.675646Z",
     "iopub.status.busy": "2020-09-14T12:40:10.675034Z",
     "iopub.status.idle": "2020-09-14T12:40:10.680235Z",
     "shell.execute_reply": "2020-09-14T12:40:10.679646Z"
    },
    "papermill": {
     "duration": 0.037041,
     "end_time": "2020-09-14T12:40:10.680362",
     "exception": false,
     "start_time": "2020-09-14T12:40:10.643321",
     "status": "completed"
    },
    "tags": []
   },
   "outputs": [
    {
     "name": "stdout",
     "output_type": "stream",
     "text": [
      "                                   states    Cases  Deaths   PCases  PDeaths  Cases (+)  Deaths (+)  Fatality Rate\n",
      "                              Maharashtra  1060308   29531  1060308    29531          0           0           2.79\n",
      "                           Andhra Pradesh   575079    4972   567123     4912       7956          60           0.86\n",
      "                               Tamil Nadu   502759    8381   502759     8381          0           0           1.67\n",
      "                                Karnataka   459445    7265   459445     7265          0           0           1.58\n",
      "                            Uttar Pradesh   317195    4491   312036     4429       5159          62           1.42\n",
      "                                    Delhi   218304    4744   218304     4744          0           0           2.17\n",
      "                              West Bengal   202708    3945   202708     3945          0           0           1.95\n",
      "                                Telangana   158513     974   157096      961       1417          13           0.61\n",
      "                                    Bihar   158389     822   158389      822          0           0           0.52\n",
      "                                   Odisha   155005     690   150807      679       4198          11           0.45\n",
      "                                    Assam   141763     469   141763      469          0           0           0.33\n",
      "                                  Gujarat   113662    3211   113662     3211          0           0           2.83\n",
      "                                   Kerala   108279     440   108279      440          0           0           0.41\n",
      "                                Rajasthan   102408    1236   102408     1236          0           0           1.21\n",
      "                                  Haryana    93641     975    93641      975          0           0           1.04\n",
      "                           Madhya Pradesh    88247    1762    88247     1762          0           0           2.00\n",
      "                                   Punjab    79679    2356    79679     2356          0           0           2.96\n",
      "                             Chhattisgarh    63991     555    63991      555          0           0           0.87\n",
      "                                Jharkhand    61474     555    61474      555          0           0           0.90\n",
      "                        Jammu and Kashmir    54096     878    54096      878          0           0           1.62\n",
      "                              Uttarakhand    31973     414    31973      414          0           0           1.29\n",
      "                                      Goa    24592     290    24592      290          0           0           1.18\n",
      "                               Puducherry    19833     385    19833      385          0           0           1.94\n",
      "                                  Tripura    19184     200    18929      194        255           6           1.04\n",
      "                         Himachal Pradesh     9555      76     9555       76          0           0           0.80\n",
      "                               Chandigarh     7991      90     7991       90          0           0           1.13\n",
      "                                  Manipur     7875      46     7875       46          0           0           0.58\n",
      "                        Arunachal Pradesh     6121      10     6121       10          0           0           0.16\n",
      "                                 Nagaland     5214       8     5083        8        131           0           0.15\n",
      "                                Meghalaya     3724      26     3724       26          0           0           0.70\n",
      "              Andaman and Nicobar Islands     3546      51     3546       51          0           0           1.44\n",
      "                                   Ladakh     3345      40     3345       40          0           0           1.20\n",
      " Dadra and Nagar Haveli and Daman and Diu     2734       2     2721        2         13           0           0.07\n",
      "                                   Sikkim     2086      16     2086       16          0           0           0.77\n",
      "                                  Mizoram     1428       0     1414        0         14           0           0.00\n",
      "                              Lakshadweep        0       0        0        0          0           0            NaN\n"
     ]
    }
   ],
   "source": [
    "#hide_input\n",
    "print(df_table.to_string(index=False))"
   ]
  },
  {
   "cell_type": "code",
   "execution_count": null,
   "metadata": {
    "papermill": {
     "duration": 0.022638,
     "end_time": "2020-09-14T12:40:10.725944",
     "exception": false,
     "start_time": "2020-09-14T12:40:10.703306",
     "status": "completed"
    },
    "tags": []
   },
   "outputs": [],
   "source": []
  },
  {
   "cell_type": "code",
   "execution_count": null,
   "metadata": {
    "papermill": {
     "duration": 0.023018,
     "end_time": "2020-09-14T12:40:10.771771",
     "exception": false,
     "start_time": "2020-09-14T12:40:10.748753",
     "status": "completed"
    },
    "tags": []
   },
   "outputs": [],
   "source": []
  }
 ],
 "metadata": {
  "kernelspec": {
   "display_name": "Python 3",
   "language": "python",
   "name": "python3"
  },
  "language_info": {
   "codemirror_mode": {
    "name": "ipython",
    "version": 3
   },
   "file_extension": ".py",
   "mimetype": "text/x-python",
   "name": "python",
   "nbconvert_exporter": "python",
   "pygments_lexer": "ipython3",
   "version": "3.6.12"
  },
  "papermill": {
   "duration": 8.12482,
   "end_time": "2020-09-14T12:40:11.202500",
   "environment_variables": {},
   "exception": null,
   "input_path": "latest.ipynb",
   "output_path": "latest.ipynb",
   "parameters": {},
   "start_time": "2020-09-14T12:40:03.077680",
   "version": "2.1.2"
  }
 },
 "nbformat": 4,
 "nbformat_minor": 4
}