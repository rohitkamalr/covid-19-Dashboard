{
 "cells": [
  {
   "cell_type": "markdown",
   "metadata": {
    "papermill": {
     "duration": 0.018074,
     "end_time": "2020-09-17T12:28:19.851335",
     "exception": false,
     "start_time": "2020-09-17T12:28:19.833261",
     "status": "completed"
    },
    "tags": []
   },
   "source": [
    "# Latest COVID-19 India Matplotlib Overview"
   ]
  },
  {
   "cell_type": "code",
   "execution_count": 1,
   "metadata": {
    "execution": {
     "iopub.execute_input": "2020-09-17T12:28:19.887711Z",
     "iopub.status.busy": "2020-09-17T12:28:19.887119Z",
     "iopub.status.idle": "2020-09-17T12:28:20.463299Z",
     "shell.execute_reply": "2020-09-17T12:28:20.463968Z"
    },
    "papermill": {
     "duration": 0.596822,
     "end_time": "2020-09-17T12:28:20.464173",
     "exception": false,
     "start_time": "2020-09-17T12:28:19.867351",
     "status": "completed"
    },
    "tags": []
   },
   "outputs": [],
   "source": [
    "#hide\n",
    "import pandas as pd\n",
    "import numpy as np\n",
    "import requests\n",
    "import json\n",
    "import matplotlib.pyplot as plt\n",
    "import matplotlib.dates as mdates\n",
    "import matplotlib as mpl\n",
    "from IPython.core.display import display,HTML\n",
    "%matplotlib inline\n",
    "from datetime import date"
   ]
  },
  {
   "cell_type": "code",
   "execution_count": 2,
   "metadata": {
    "execution": {
     "iopub.execute_input": "2020-09-17T12:28:20.508101Z",
     "iopub.status.busy": "2020-09-17T12:28:20.507471Z",
     "iopub.status.idle": "2020-09-17T12:28:20.796897Z",
     "shell.execute_reply": "2020-09-17T12:28:20.796386Z"
    },
    "papermill": {
     "duration": 0.312161,
     "end_time": "2020-09-17T12:28:20.797039",
     "exception": false,
     "start_time": "2020-09-17T12:28:20.484878",
     "status": "completed"
    },
    "tags": []
   },
   "outputs": [],
   "source": [
    "#hide\n",
    "df  = pd.read_csv('https://api.covid19india.org/csv/latest/states.csv')\n",
    "df = df[['Date','State','Confirmed','Deceased']]\n",
    "df = df.rename(columns={'Confirmed':'Cases', \"Deceased\":'Deaths'})\n",
    "df_cases = df[[\"Date\",'State','Cases']]\n",
    "df_deaths = df[['Date','State','Deaths']]\n",
    "df_cases1 = df_cases.groupby('Date')\n",
    "df_deaths1= df_deaths.groupby('Date')"
   ]
  },
  {
   "cell_type": "code",
   "execution_count": 3,
   "metadata": {
    "execution": {
     "iopub.execute_input": "2020-09-17T12:28:20.831741Z",
     "iopub.status.busy": "2020-09-17T12:28:20.831141Z",
     "iopub.status.idle": "2020-09-17T12:28:20.847770Z",
     "shell.execute_reply": "2020-09-17T12:28:20.848312Z"
    },
    "papermill": {
     "duration": 0.035855,
     "end_time": "2020-09-17T12:28:20.848456",
     "exception": false,
     "start_time": "2020-09-17T12:28:20.812601",
     "status": "completed"
    },
    "tags": []
   },
   "outputs": [],
   "source": [
    "#hide\n",
    "df_snap = pd.read_csv('data/SnapshotCases-28-July.csv')\n",
    "arr_states = df_snap['states'].unique()\n",
    "arr_dates = df['Date'].unique()\n",
    "df_snap = df_snap.set_index('states')"
   ]
  },
  {
   "cell_type": "code",
   "execution_count": 4,
   "metadata": {
    "execution": {
     "iopub.execute_input": "2020-09-17T12:28:20.883601Z",
     "iopub.status.busy": "2020-09-17T12:28:20.883093Z",
     "iopub.status.idle": "2020-09-17T12:28:20.886105Z",
     "shell.execute_reply": "2020-09-17T12:28:20.886653Z"
    },
    "papermill": {
     "duration": 0.023577,
     "end_time": "2020-09-17T12:28:20.886791",
     "exception": false,
     "start_time": "2020-09-17T12:28:20.863214",
     "status": "completed"
    },
    "tags": []
   },
   "outputs": [
    {
     "data": {
      "text/plain": [
       "array(['Andaman and Nicobar Islands', 'Andhra Pradesh',\n",
       "       'Arunachal Pradesh', 'Assam', 'Bihar', 'Chandigarh',\n",
       "       'Dadra and Nagar Haveli and Daman and Diu', 'Delhi', 'Goa',\n",
       "       'Gujarat', 'Haryana', 'Himachal Pradesh', 'Jammu and Kashmir',\n",
       "       'Jharkhand', 'Karnataka', 'Kerala', 'Lakshadweep',\n",
       "       'Madhya Pradesh', 'Maharashtra', 'Manipur', 'Meghalaya', 'Mizoram',\n",
       "       'Nagaland', 'Odisha', 'Puducherry', 'Punjab', 'Rajasthan',\n",
       "       'Sikkim', 'Tamil Nadu', 'Telangana', 'Tripura', 'Uttar Pradesh',\n",
       "       'West Bengal', 'Chhattisgarh', 'Ladakh', 'Uttarakhand'],\n",
       "      dtype=object)"
      ]
     },
     "execution_count": 4,
     "metadata": {},
     "output_type": "execute_result"
    }
   ],
   "source": [
    "#hide\n",
    "arr_states[-9] = 'Puducherry'\n",
    "arr_states[-10] = 'Odisha'\n",
    "arr_states[6] = 'Dadra and Nagar Haveli and Daman and Diu'\n",
    "arr_states = np.append(arr_states,np.array(['Chhattisgarh','Ladakh','Uttarakhand']))\n",
    "arr_states"
   ]
  },
  {
   "cell_type": "code",
   "execution_count": 5,
   "metadata": {
    "execution": {
     "iopub.execute_input": "2020-09-17T12:28:20.926851Z",
     "iopub.status.busy": "2020-09-17T12:28:20.926272Z",
     "iopub.status.idle": "2020-09-17T12:28:20.933638Z",
     "shell.execute_reply": "2020-09-17T12:28:20.934081Z"
    },
    "papermill": {
     "duration": 0.032211,
     "end_time": "2020-09-17T12:28:20.934254",
     "exception": false,
     "start_time": "2020-09-17T12:28:20.902043",
     "status": "completed"
    },
    "tags": []
   },
   "outputs": [],
   "source": [
    "#hide\n",
    "dates = []\n",
    "for i in arr_dates:\n",
    "    if i>='2020-07-01':\n",
    "        dates.append(i)\n",
    "dict = {'states':dates}\n",
    "for i in arr_states:\n",
    "    dict[i] = [0]*len(dates)\n",
    "dft_cases = pd.DataFrame(dict)\n",
    "dft_deaths = pd.DataFrame(dict)\n"
   ]
  },
  {
   "cell_type": "code",
   "execution_count": 6,
   "metadata": {
    "execution": {
     "iopub.execute_input": "2020-09-17T12:28:20.970497Z",
     "iopub.status.busy": "2020-09-17T12:28:20.969852Z",
     "iopub.status.idle": "2020-09-17T12:28:22.281466Z",
     "shell.execute_reply": "2020-09-17T12:28:22.280901Z"
    },
    "papermill": {
     "duration": 1.33172,
     "end_time": "2020-09-17T12:28:22.281605",
     "exception": false,
     "start_time": "2020-09-17T12:28:20.949885",
     "status": "completed"
    },
    "tags": []
   },
   "outputs": [],
   "source": [
    "#hide\n",
    "for i in range(len(dates)):\n",
    "    df1_deaths = df_deaths1.get_group(dates[i])\n",
    "    for j in range(len(df1_deaths.index)):\n",
    "        if df1_deaths.iloc[j,1] in arr_states:\n",
    "            dft_deaths.loc[i,df1_deaths.iloc[j,1]] = df1_deaths.iloc[j,2]\n",
    "dft_deaths = dft_deaths.set_index('states')"
   ]
  },
  {
   "cell_type": "code",
   "execution_count": 7,
   "metadata": {
    "execution": {
     "iopub.execute_input": "2020-09-17T12:28:22.321165Z",
     "iopub.status.busy": "2020-09-17T12:28:22.320384Z",
     "iopub.status.idle": "2020-09-17T12:28:23.624452Z",
     "shell.execute_reply": "2020-09-17T12:28:23.623844Z"
    },
    "papermill": {
     "duration": 1.326348,
     "end_time": "2020-09-17T12:28:23.624586",
     "exception": false,
     "start_time": "2020-09-17T12:28:22.298238",
     "status": "completed"
    },
    "tags": []
   },
   "outputs": [],
   "source": [
    "#hide\n",
    "for i in range(len(dates)):\n",
    "    df1_cases = df_cases1.get_group(dates[i])\n",
    "    for j in range(len(df1_cases.index)):\n",
    "        if df1_cases.iloc[j,1] in arr_states:\n",
    "            dft_cases.loc[i,df1_cases.iloc[j,1]] = df1_cases.iloc[j,2]\n",
    "dft_cases = dft_cases.set_index('states')"
   ]
  },
  {
   "cell_type": "code",
   "execution_count": 8,
   "metadata": {
    "execution": {
     "iopub.execute_input": "2020-09-17T12:28:23.661662Z",
     "iopub.status.busy": "2020-09-17T12:28:23.660955Z",
     "iopub.status.idle": "2020-09-17T12:28:23.665525Z",
     "shell.execute_reply": "2020-09-17T12:28:23.666198Z"
    },
    "papermill": {
     "duration": 0.025723,
     "end_time": "2020-09-17T12:28:23.666341",
     "exception": false,
     "start_time": "2020-09-17T12:28:23.640618",
     "status": "completed"
    },
    "tags": []
   },
   "outputs": [],
   "source": [
    "#hide\n",
    "dft_cases = dft_cases.T\n",
    "dft_deaths = dft_deaths.T\n",
    "dt_today = dates[-1]\n",
    "dt_yday = dates[-2]"
   ]
  },
  {
   "cell_type": "code",
   "execution_count": 9,
   "metadata": {
    "execution": {
     "iopub.execute_input": "2020-09-17T12:28:23.700107Z",
     "iopub.status.busy": "2020-09-17T12:28:23.699512Z",
     "iopub.status.idle": "2020-09-17T12:28:23.703834Z",
     "shell.execute_reply": "2020-09-17T12:28:23.704393Z"
    },
    "papermill": {
     "duration": 0.02333,
     "end_time": "2020-09-17T12:28:23.704507",
     "exception": false,
     "start_time": "2020-09-17T12:28:23.681177",
     "status": "completed"
    },
    "tags": []
   },
   "outputs": [],
   "source": [
    "#hide\n",
    "dft_cases = dft_cases.reset_index()\n",
    "dft_deaths = dft_deaths.reset_index()\n",
    "dft_cases = dft_cases.rename(columns = {'index':'state'})\n",
    "dft_deaths = dft_deaths.rename(columns = {'index':'state'})"
   ]
  },
  {
   "cell_type": "code",
   "execution_count": 10,
   "metadata": {
    "execution": {
     "iopub.execute_input": "2020-09-17T12:28:23.740721Z",
     "iopub.status.busy": "2020-09-17T12:28:23.740141Z",
     "iopub.status.idle": "2020-09-17T12:28:23.748201Z",
     "shell.execute_reply": "2020-09-17T12:28:23.748641Z"
    },
    "papermill": {
     "duration": 0.029365,
     "end_time": "2020-09-17T12:28:23.748765",
     "exception": false,
     "start_time": "2020-09-17T12:28:23.719400",
     "status": "completed"
    },
    "tags": []
   },
   "outputs": [],
   "source": [
    "#hide\n",
    "dfc_cases = dft_cases.groupby('state')[dt_today].sum()\n",
    "dfc_deaths = dft_deaths.groupby('state')[dt_today].sum()\n",
    "dfp_cases = dft_cases.groupby('state')[dt_yday].sum()\n",
    "dfp_deaths = dft_deaths.groupby('state')[dt_yday].sum()"
   ]
  },
  {
   "cell_type": "code",
   "execution_count": 11,
   "metadata": {
    "execution": {
     "iopub.execute_input": "2020-09-17T12:28:23.792511Z",
     "iopub.status.busy": "2020-09-17T12:28:23.791917Z",
     "iopub.status.idle": "2020-09-17T12:28:23.799031Z",
     "shell.execute_reply": "2020-09-17T12:28:23.798460Z"
    },
    "papermill": {
     "duration": 0.034325,
     "end_time": "2020-09-17T12:28:23.799176",
     "exception": false,
     "start_time": "2020-09-17T12:28:23.764851",
     "status": "completed"
    },
    "tags": []
   },
   "outputs": [
    {
     "data": {
      "text/html": [
       "<div>\n",
       "<style scoped>\n",
       "    .dataframe tbody tr th:only-of-type {\n",
       "        vertical-align: middle;\n",
       "    }\n",
       "\n",
       "    .dataframe tbody tr th {\n",
       "        vertical-align: top;\n",
       "    }\n",
       "\n",
       "    .dataframe thead th {\n",
       "        text-align: right;\n",
       "    }\n",
       "</style>\n",
       "<table border=\"1\" class=\"dataframe\">\n",
       "  <thead>\n",
       "    <tr style=\"text-align: right;\">\n",
       "      <th></th>\n",
       "      <th>states</th>\n",
       "      <th>Cases</th>\n",
       "      <th>Deaths</th>\n",
       "      <th>PCases</th>\n",
       "      <th>PDeaths</th>\n",
       "    </tr>\n",
       "  </thead>\n",
       "  <tbody>\n",
       "    <tr>\n",
       "      <th>0</th>\n",
       "      <td>Maharashtra</td>\n",
       "      <td>1121221</td>\n",
       "      <td>30883</td>\n",
       "      <td>1121221</td>\n",
       "      <td>30883</td>\n",
       "    </tr>\n",
       "    <tr>\n",
       "      <th>1</th>\n",
       "      <td>Andhra Pradesh</td>\n",
       "      <td>592760</td>\n",
       "      <td>5105</td>\n",
       "      <td>592760</td>\n",
       "      <td>5105</td>\n",
       "    </tr>\n",
       "    <tr>\n",
       "      <th>2</th>\n",
       "      <td>Tamil Nadu</td>\n",
       "      <td>519860</td>\n",
       "      <td>8559</td>\n",
       "      <td>519860</td>\n",
       "      <td>8559</td>\n",
       "    </tr>\n",
       "    <tr>\n",
       "      <th>3</th>\n",
       "      <td>Karnataka</td>\n",
       "      <td>484990</td>\n",
       "      <td>7536</td>\n",
       "      <td>484990</td>\n",
       "      <td>7536</td>\n",
       "    </tr>\n",
       "    <tr>\n",
       "      <th>4</th>\n",
       "      <td>Uttar Pradesh</td>\n",
       "      <td>336294</td>\n",
       "      <td>4771</td>\n",
       "      <td>330265</td>\n",
       "      <td>4690</td>\n",
       "    </tr>\n",
       "  </tbody>\n",
       "</table>\n",
       "</div>"
      ],
      "text/plain": [
       "           states    Cases  Deaths   PCases  PDeaths\n",
       "0     Maharashtra  1121221   30883  1121221    30883\n",
       "1  Andhra Pradesh   592760    5105   592760     5105\n",
       "2      Tamil Nadu   519860    8559   519860     8559\n",
       "3       Karnataka   484990    7536   484990     7536\n",
       "4   Uttar Pradesh   336294    4771   330265     4690"
      ]
     },
     "execution_count": 11,
     "metadata": {},
     "output_type": "execute_result"
    }
   ],
   "source": [
    "#hide\n",
    "df_table = pd.DataFrame({'states': dfc_cases.index, 'Cases': dfc_cases.values, 'Deaths': dfc_deaths.values, 'PCases': dfp_cases.values, 'PDeaths': dfp_deaths.values}).set_index('states')\n",
    "df_table = df_table.sort_values(by = ['Cases','Deaths'], ascending = [False, False])\n",
    "df_table = df_table.reset_index()\n",
    "df_table.head()"
   ]
  },
  {
   "cell_type": "code",
   "execution_count": 12,
   "metadata": {
    "execution": {
     "iopub.execute_input": "2020-09-17T12:28:23.836293Z",
     "iopub.status.busy": "2020-09-17T12:28:23.835685Z",
     "iopub.status.idle": "2020-09-17T12:28:23.843733Z",
     "shell.execute_reply": "2020-09-17T12:28:23.844354Z"
    },
    "papermill": {
     "duration": 0.029391,
     "end_time": "2020-09-17T12:28:23.844523",
     "exception": false,
     "start_time": "2020-09-17T12:28:23.815132",
     "status": "completed"
    },
    "tags": []
   },
   "outputs": [],
   "source": [
    "#hide\n",
    "for c in 'Cases, Deaths'.split(', '):\n",
    "    df_table[f'{c} (+)'] = (df_table[c] - df_table[f'P{c}']).clip(0)\n",
    "df_table['Fatality Rate'] = (100* df_table['Deaths']/ df_table['Cases']).round(2)"
   ]
  },
  {
   "cell_type": "code",
   "execution_count": 13,
   "metadata": {
    "execution": {
     "iopub.execute_input": "2020-09-17T12:28:23.884626Z",
     "iopub.status.busy": "2020-09-17T12:28:23.883700Z",
     "iopub.status.idle": "2020-09-17T12:28:23.886687Z",
     "shell.execute_reply": "2020-09-17T12:28:23.887239Z"
    },
    "papermill": {
     "duration": 0.028614,
     "end_time": "2020-09-17T12:28:23.887372",
     "exception": false,
     "start_time": "2020-09-17T12:28:23.858758",
     "status": "completed"
    },
    "tags": []
   },
   "outputs": [
    {
     "data": {
      "text/html": [
       "<div>\n",
       "<style scoped>\n",
       "    .dataframe tbody tr th:only-of-type {\n",
       "        vertical-align: middle;\n",
       "    }\n",
       "\n",
       "    .dataframe tbody tr th {\n",
       "        vertical-align: top;\n",
       "    }\n",
       "\n",
       "    .dataframe thead th {\n",
       "        text-align: right;\n",
       "    }\n",
       "</style>\n",
       "<table border=\"1\" class=\"dataframe\">\n",
       "  <thead>\n",
       "    <tr style=\"text-align: right;\">\n",
       "      <th></th>\n",
       "      <th>states</th>\n",
       "      <th>Cases</th>\n",
       "      <th>Deaths</th>\n",
       "      <th>PCases</th>\n",
       "      <th>PDeaths</th>\n",
       "      <th>Cases (+)</th>\n",
       "      <th>Deaths (+)</th>\n",
       "      <th>Fatality Rate</th>\n",
       "    </tr>\n",
       "  </thead>\n",
       "  <tbody>\n",
       "    <tr>\n",
       "      <th>0</th>\n",
       "      <td>Maharashtra</td>\n",
       "      <td>1121221</td>\n",
       "      <td>30883</td>\n",
       "      <td>1121221</td>\n",
       "      <td>30883</td>\n",
       "      <td>0</td>\n",
       "      <td>0</td>\n",
       "      <td>2.75</td>\n",
       "    </tr>\n",
       "    <tr>\n",
       "      <th>1</th>\n",
       "      <td>Andhra Pradesh</td>\n",
       "      <td>592760</td>\n",
       "      <td>5105</td>\n",
       "      <td>592760</td>\n",
       "      <td>5105</td>\n",
       "      <td>0</td>\n",
       "      <td>0</td>\n",
       "      <td>0.86</td>\n",
       "    </tr>\n",
       "    <tr>\n",
       "      <th>2</th>\n",
       "      <td>Tamil Nadu</td>\n",
       "      <td>519860</td>\n",
       "      <td>8559</td>\n",
       "      <td>519860</td>\n",
       "      <td>8559</td>\n",
       "      <td>0</td>\n",
       "      <td>0</td>\n",
       "      <td>1.65</td>\n",
       "    </tr>\n",
       "    <tr>\n",
       "      <th>3</th>\n",
       "      <td>Karnataka</td>\n",
       "      <td>484990</td>\n",
       "      <td>7536</td>\n",
       "      <td>484990</td>\n",
       "      <td>7536</td>\n",
       "      <td>0</td>\n",
       "      <td>0</td>\n",
       "      <td>1.55</td>\n",
       "    </tr>\n",
       "    <tr>\n",
       "      <th>4</th>\n",
       "      <td>Uttar Pradesh</td>\n",
       "      <td>336294</td>\n",
       "      <td>4771</td>\n",
       "      <td>330265</td>\n",
       "      <td>4690</td>\n",
       "      <td>6029</td>\n",
       "      <td>81</td>\n",
       "      <td>1.42</td>\n",
       "    </tr>\n",
       "  </tbody>\n",
       "</table>\n",
       "</div>"
      ],
      "text/plain": [
       "           states    Cases  Deaths   PCases  PDeaths  Cases (+)  Deaths (+)  \\\n",
       "0     Maharashtra  1121221   30883  1121221    30883          0           0   \n",
       "1  Andhra Pradesh   592760    5105   592760     5105          0           0   \n",
       "2      Tamil Nadu   519860    8559   519860     8559          0           0   \n",
       "3       Karnataka   484990    7536   484990     7536          0           0   \n",
       "4   Uttar Pradesh   336294    4771   330265     4690       6029          81   \n",
       "\n",
       "   Fatality Rate  \n",
       "0           2.75  \n",
       "1           0.86  \n",
       "2           1.65  \n",
       "3           1.55  \n",
       "4           1.42  "
      ]
     },
     "execution_count": 13,
     "metadata": {},
     "output_type": "execute_result"
    }
   ],
   "source": [
    "#hide\n",
    "df_table.head()"
   ]
  },
  {
   "cell_type": "code",
   "execution_count": 14,
   "metadata": {
    "execution": {
     "iopub.execute_input": "2020-09-17T12:28:23.923223Z",
     "iopub.status.busy": "2020-09-17T12:28:23.922666Z",
     "iopub.status.idle": "2020-09-17T12:28:23.940119Z",
     "shell.execute_reply": "2020-09-17T12:28:23.940620Z"
    },
    "papermill": {
     "duration": 0.036334,
     "end_time": "2020-09-17T12:28:23.940739",
     "exception": false,
     "start_time": "2020-09-17T12:28:23.904405",
     "status": "completed"
    },
    "tags": []
   },
   "outputs": [
    {
     "data": {
      "text/plain": [
       "{'updated': '2020-09-17',\n",
       " 'since': '2020-09-16',\n",
       " 'Cases': 5128918,\n",
       " 'PCases': 5115893,\n",
       " 'Deaths': 83338,\n",
       " 'PDeaths': 83230,\n",
       " 'Cases (+)': 13025,\n",
       " 'Deaths (+)': 108}"
      ]
     },
     "execution_count": 14,
     "metadata": {},
     "output_type": "execute_result"
    }
   ],
   "source": [
    "#hide\n",
    "summary = {'updated':dates[-1], 'since':dates[-2]}\n",
    "list_names = ['Cases', 'PCases', 'Deaths', 'PDeaths', 'Cases (+)', 'Deaths (+)']\n",
    "for name in list_names:\n",
    "    summary[name] = df_table.sum()[name]\n",
    "summary"
   ]
  },
  {
   "cell_type": "code",
   "execution_count": 15,
   "metadata": {
    "execution": {
     "iopub.execute_input": "2020-09-17T12:28:23.978702Z",
     "iopub.status.busy": "2020-09-17T12:28:23.978005Z",
     "iopub.status.idle": "2020-09-17T12:28:23.980580Z",
     "shell.execute_reply": "2020-09-17T12:28:23.979778Z"
    },
    "papermill": {
     "duration": 0.023412,
     "end_time": "2020-09-17T12:28:23.980690",
     "exception": false,
     "start_time": "2020-09-17T12:28:23.957278",
     "status": "completed"
    },
    "tags": []
   },
   "outputs": [],
   "source": [
    "#hide\n",
    "overview = '''\n",
    "<!-- #######  HTML!! #########-->\n",
    "<h1 style=\"color: #5e9ca0; text-align: center;\">India</h1>\n",
    "<p style=\"text-align: center;\">Last update: <strong>{update}</strong></p>\n",
    "<p style=\"text-align: center;\">Confirmed cases:</p>\n",
    "<p style=\"text-align: center;font-size:24px;\">{cases} (<span style=\"color: #ff0000;\">+{new}</span>)</p>\n",
    "<p style=\"text-align: center;\">Confirmed deaths:</p>\n",
    "<p style=\"text-align: center;font-size:24px;\">{deaths} (<span style=\"color: #ff0000;\">+{dnew}</span>)</p>\n",
    "'''"
   ]
  },
  {
   "cell_type": "code",
   "execution_count": 16,
   "metadata": {
    "execution": {
     "iopub.execute_input": "2020-09-17T12:28:24.018943Z",
     "iopub.status.busy": "2020-09-17T12:28:24.018322Z",
     "iopub.status.idle": "2020-09-17T12:28:24.021235Z",
     "shell.execute_reply": "2020-09-17T12:28:24.021739Z"
    },
    "papermill": {
     "duration": 0.024218,
     "end_time": "2020-09-17T12:28:24.021854",
     "exception": false,
     "start_time": "2020-09-17T12:28:23.997636",
     "status": "completed"
    },
    "tags": []
   },
   "outputs": [
    {
     "data": {
      "text/html": [
       "\n",
       "<!-- #######  HTML!! #########-->\n",
       "<h1 style=\"color: #5e9ca0; text-align: center;\">India</h1>\n",
       "<p style=\"text-align: center;\">Last update: <strong>2020-09-17</strong></p>\n",
       "<p style=\"text-align: center;\">Confirmed cases:</p>\n",
       "<p style=\"text-align: center;font-size:24px;\">5128918 (<span style=\"color: #ff0000;\">+13025</span>)</p>\n",
       "<p style=\"text-align: center;\">Confirmed deaths:</p>\n",
       "<p style=\"text-align: center;font-size:24px;\">83338 (<span style=\"color: #ff0000;\">+108</span>)</p>\n"
      ],
      "text/plain": [
       "<IPython.core.display.HTML object>"
      ]
     },
     "metadata": {},
     "output_type": "display_data"
    }
   ],
   "source": [
    "#hide_input\n",
    "update = summary['updated']\n",
    "cases = summary['Cases']\n",
    "new = summary['Cases (+)']\n",
    "deaths = summary['Deaths']\n",
    "dnew = summary['Deaths (+)']\n",
    "\n",
    "html = HTML(overview.format(update=update, cases=cases,new=new,deaths=deaths,dnew=dnew))\n",
    "\n",
    "display(html)"
   ]
  },
  {
   "cell_type": "code",
   "execution_count": 17,
   "metadata": {
    "execution": {
     "iopub.execute_input": "2020-09-17T12:28:24.064158Z",
     "iopub.status.busy": "2020-09-17T12:28:24.063443Z",
     "iopub.status.idle": "2020-09-17T12:28:24.068006Z",
     "shell.execute_reply": "2020-09-17T12:28:24.068638Z"
    },
    "papermill": {
     "duration": 0.030504,
     "end_time": "2020-09-17T12:28:24.068766",
     "exception": false,
     "start_time": "2020-09-17T12:28:24.038262",
     "status": "completed"
    },
    "tags": []
   },
   "outputs": [],
   "source": [
    "#hide\n",
    "dt_cols = list(dft_cases.columns[1:])\n",
    "dft_ct_new_cases = dft_cases.groupby('state')[dt_cols].sum().diff(axis=1).fillna(0).astype(int)\n",
    "dft_ct_new_cases.sort_values(by = dates[-1], ascending = False,inplace = True)"
   ]
  },
  {
   "cell_type": "code",
   "execution_count": 18,
   "metadata": {
    "execution": {
     "iopub.execute_input": "2020-09-17T12:28:24.121193Z",
     "iopub.status.busy": "2020-09-17T12:28:24.120419Z",
     "iopub.status.idle": "2020-09-17T12:28:24.123529Z",
     "shell.execute_reply": "2020-09-17T12:28:24.124190Z"
    },
    "papermill": {
     "duration": 0.038784,
     "end_time": "2020-09-17T12:28:24.124336",
     "exception": false,
     "start_time": "2020-09-17T12:28:24.085552",
     "status": "completed"
    },
    "tags": []
   },
   "outputs": [
    {
     "data": {
      "text/html": [
       "<div>\n",
       "<style scoped>\n",
       "    .dataframe tbody tr th:only-of-type {\n",
       "        vertical-align: middle;\n",
       "    }\n",
       "\n",
       "    .dataframe tbody tr th {\n",
       "        vertical-align: top;\n",
       "    }\n",
       "\n",
       "    .dataframe thead th {\n",
       "        text-align: right;\n",
       "    }\n",
       "</style>\n",
       "<table border=\"1\" class=\"dataframe\">\n",
       "  <thead>\n",
       "    <tr style=\"text-align: right;\">\n",
       "      <th>states</th>\n",
       "      <th>2020-07-01</th>\n",
       "      <th>2020-07-02</th>\n",
       "      <th>2020-07-03</th>\n",
       "      <th>2020-07-04</th>\n",
       "      <th>2020-07-05</th>\n",
       "      <th>2020-07-06</th>\n",
       "      <th>2020-07-07</th>\n",
       "      <th>2020-07-08</th>\n",
       "      <th>2020-07-09</th>\n",
       "      <th>2020-07-10</th>\n",
       "      <th>...</th>\n",
       "      <th>2020-09-08</th>\n",
       "      <th>2020-09-09</th>\n",
       "      <th>2020-09-10</th>\n",
       "      <th>2020-09-11</th>\n",
       "      <th>2020-09-12</th>\n",
       "      <th>2020-09-13</th>\n",
       "      <th>2020-09-14</th>\n",
       "      <th>2020-09-15</th>\n",
       "      <th>2020-09-16</th>\n",
       "      <th>2020-09-17</th>\n",
       "    </tr>\n",
       "    <tr>\n",
       "      <th>state</th>\n",
       "      <th></th>\n",
       "      <th></th>\n",
       "      <th></th>\n",
       "      <th></th>\n",
       "      <th></th>\n",
       "      <th></th>\n",
       "      <th></th>\n",
       "      <th></th>\n",
       "      <th></th>\n",
       "      <th></th>\n",
       "      <th></th>\n",
       "      <th></th>\n",
       "      <th></th>\n",
       "      <th></th>\n",
       "      <th></th>\n",
       "      <th></th>\n",
       "      <th></th>\n",
       "      <th></th>\n",
       "      <th></th>\n",
       "      <th></th>\n",
       "      <th></th>\n",
       "    </tr>\n",
       "  </thead>\n",
       "  <tbody>\n",
       "    <tr>\n",
       "      <th>Uttar Pradesh</th>\n",
       "      <td>0</td>\n",
       "      <td>769</td>\n",
       "      <td>972</td>\n",
       "      <td>757</td>\n",
       "      <td>1153</td>\n",
       "      <td>929</td>\n",
       "      <td>1332</td>\n",
       "      <td>1188</td>\n",
       "      <td>1206</td>\n",
       "      <td>1338</td>\n",
       "      <td>...</td>\n",
       "      <td>6622</td>\n",
       "      <td>6568</td>\n",
       "      <td>6988</td>\n",
       "      <td>7016</td>\n",
       "      <td>6786</td>\n",
       "      <td>6205</td>\n",
       "      <td>5159</td>\n",
       "      <td>6841</td>\n",
       "      <td>6229</td>\n",
       "      <td>6029</td>\n",
       "    </tr>\n",
       "    <tr>\n",
       "      <th>Odisha</th>\n",
       "      <td>0</td>\n",
       "      <td>229</td>\n",
       "      <td>561</td>\n",
       "      <td>495</td>\n",
       "      <td>469</td>\n",
       "      <td>456</td>\n",
       "      <td>571</td>\n",
       "      <td>527</td>\n",
       "      <td>577</td>\n",
       "      <td>755</td>\n",
       "      <td>...</td>\n",
       "      <td>3490</td>\n",
       "      <td>3748</td>\n",
       "      <td>3991</td>\n",
       "      <td>3996</td>\n",
       "      <td>3777</td>\n",
       "      <td>3913</td>\n",
       "      <td>4198</td>\n",
       "      <td>3645</td>\n",
       "      <td>4270</td>\n",
       "      <td>4241</td>\n",
       "    </tr>\n",
       "    <tr>\n",
       "      <th>Telangana</th>\n",
       "      <td>0</td>\n",
       "      <td>1213</td>\n",
       "      <td>1892</td>\n",
       "      <td>1850</td>\n",
       "      <td>1590</td>\n",
       "      <td>1831</td>\n",
       "      <td>1879</td>\n",
       "      <td>1924</td>\n",
       "      <td>1410</td>\n",
       "      <td>1278</td>\n",
       "      <td>...</td>\n",
       "      <td>2392</td>\n",
       "      <td>2479</td>\n",
       "      <td>2534</td>\n",
       "      <td>2426</td>\n",
       "      <td>2278</td>\n",
       "      <td>2216</td>\n",
       "      <td>1417</td>\n",
       "      <td>2058</td>\n",
       "      <td>2273</td>\n",
       "      <td>2159</td>\n",
       "    </tr>\n",
       "    <tr>\n",
       "      <th>Tripura</th>\n",
       "      <td>0</td>\n",
       "      <td>39</td>\n",
       "      <td>93</td>\n",
       "      <td>25</td>\n",
       "      <td>23</td>\n",
       "      <td>111</td>\n",
       "      <td>24</td>\n",
       "      <td>57</td>\n",
       "      <td>16</td>\n",
       "      <td>142</td>\n",
       "      <td>...</td>\n",
       "      <td>628</td>\n",
       "      <td>582</td>\n",
       "      <td>535</td>\n",
       "      <td>559</td>\n",
       "      <td>470</td>\n",
       "      <td>629</td>\n",
       "      <td>255</td>\n",
       "      <td>531</td>\n",
       "      <td>454</td>\n",
       "      <td>527</td>\n",
       "    </tr>\n",
       "    <tr>\n",
       "      <th>Nagaland</th>\n",
       "      <td>0</td>\n",
       "      <td>34</td>\n",
       "      <td>4</td>\n",
       "      <td>24</td>\n",
       "      <td>27</td>\n",
       "      <td>35</td>\n",
       "      <td>19</td>\n",
       "      <td>13</td>\n",
       "      <td>16</td>\n",
       "      <td>59</td>\n",
       "      <td>...</td>\n",
       "      <td>25</td>\n",
       "      <td>130</td>\n",
       "      <td>261</td>\n",
       "      <td>310</td>\n",
       "      <td>118</td>\n",
       "      <td>19</td>\n",
       "      <td>131</td>\n",
       "      <td>15</td>\n",
       "      <td>34</td>\n",
       "      <td>43</td>\n",
       "    </tr>\n",
       "  </tbody>\n",
       "</table>\n",
       "<p>5 rows × 79 columns</p>\n",
       "</div>"
      ],
      "text/plain": [
       "states         2020-07-01  2020-07-02  2020-07-03  2020-07-04  2020-07-05  \\\n",
       "state                                                                       \n",
       "Uttar Pradesh           0         769         972         757        1153   \n",
       "Odisha                  0         229         561         495         469   \n",
       "Telangana               0        1213        1892        1850        1590   \n",
       "Tripura                 0          39          93          25          23   \n",
       "Nagaland                0          34           4          24          27   \n",
       "\n",
       "states         2020-07-06  2020-07-07  2020-07-08  2020-07-09  2020-07-10  \\\n",
       "state                                                                       \n",
       "Uttar Pradesh         929        1332        1188        1206        1338   \n",
       "Odisha                456         571         527         577         755   \n",
       "Telangana            1831        1879        1924        1410        1278   \n",
       "Tripura               111          24          57          16         142   \n",
       "Nagaland               35          19          13          16          59   \n",
       "\n",
       "states         ...  2020-09-08  2020-09-09  2020-09-10  2020-09-11  \\\n",
       "state          ...                                                   \n",
       "Uttar Pradesh  ...        6622        6568        6988        7016   \n",
       "Odisha         ...        3490        3748        3991        3996   \n",
       "Telangana      ...        2392        2479        2534        2426   \n",
       "Tripura        ...         628         582         535         559   \n",
       "Nagaland       ...          25         130         261         310   \n",
       "\n",
       "states         2020-09-12  2020-09-13  2020-09-14  2020-09-15  2020-09-16  \\\n",
       "state                                                                       \n",
       "Uttar Pradesh        6786        6205        5159        6841        6229   \n",
       "Odisha               3777        3913        4198        3645        4270   \n",
       "Telangana            2278        2216        1417        2058        2273   \n",
       "Tripura               470         629         255         531         454   \n",
       "Nagaland              118          19         131          15          34   \n",
       "\n",
       "states         2020-09-17  \n",
       "state                      \n",
       "Uttar Pradesh        6029  \n",
       "Odisha               4241  \n",
       "Telangana            2159  \n",
       "Tripura               527  \n",
       "Nagaland               43  \n",
       "\n",
       "[5 rows x 79 columns]"
      ]
     },
     "execution_count": 18,
     "metadata": {},
     "output_type": "execute_result"
    }
   ],
   "source": [
    "#hide\n",
    "dft_ct_new_cases.head()"
   ]
  },
  {
   "cell_type": "code",
   "execution_count": 19,
   "metadata": {
    "execution": {
     "iopub.execute_input": "2020-09-17T12:28:24.182249Z",
     "iopub.status.busy": "2020-09-17T12:28:24.171642Z",
     "iopub.status.idle": "2020-09-17T12:28:28.331232Z",
     "shell.execute_reply": "2020-09-17T12:28:28.330637Z"
    },
    "papermill": {
     "duration": 4.187167,
     "end_time": "2020-09-17T12:28:28.331353",
     "exception": false,
     "start_time": "2020-09-17T12:28:24.144186",
     "status": "completed"
    },
    "tags": []
   },
   "outputs": [
    {
     "data": {
      "image/png": "[encoded data removed]",
      "text/plain": [
       "<Figure size 1296x2016 with 11 Axes>"
      ]
     },
     "metadata": {
      "needs_background": "light"
     },
     "output_type": "display_data"
    }
   ],
   "source": [
    "#hide_input\n",
    "df = dft_ct_new_cases.copy()\n",
    "df.loc['Total'] = df.sum()\n",
    "n = 5\n",
    "ax = []\n",
    "fig = plt.figure(figsize = (18,28))\n",
    "gs = fig.add_gridspec(n+2, 5)\n",
    "# gs = fig.add_gridspec(2, 3)\n",
    "ax1 = fig.add_subplot(gs[0, :])\n",
    "ef = df.loc['Total'].rename_axis('date').reset_index()\n",
    "ef['date'] = ef['date'].astype('datetime64[ns]')\n",
    "ax1.bar(ef.date,ef.Total,alpha=0.3,color='#007acc')\n",
    "ax1.plot(ef.date,ef.Total , marker=\"o\", color='#007acc')\n",
    "ax1.xaxis.set_major_locator(mdates.WeekdayLocator())\n",
    "ax1.xaxis.set_major_formatter(mdates.DateFormatter('%b %d'))\n",
    "ax1.text(0.02, 0.5,'India daily case count', transform = ax1.transAxes, fontsize=25);\n",
    "ax1.spines['right'].set_visible(False)\n",
    "ax1.spines['top'].set_visible(False)\n",
    "\n",
    "ax2 = fig.add_subplot(gs[1,0])\n",
    "ef = df.loc['Maharashtra'].rename_axis('date').reset_index()\n",
    "ef['date'] = ef['date'].astype('datetime64[ns]')\n",
    "\n",
    "ax2.bar(ef.date, ef.Maharashtra,color = '#007acc',alpha=0.5)\n",
    "ax2.xaxis.set_major_locator(mdates.WeekdayLocator())\n",
    "ax2.xaxis.set_major_formatter(mdates.DateFormatter('%b %d'))\n",
    "ax2.set_xticks(ax2.get_xticks()[::3])\n",
    "maxyval = ef.Maharashtra.max()\n",
    "ax2.set_ylim([0,maxyval])\n",
    "ax2.text(0.05, 0.9,'Maharashtra', transform = ax2.transAxes, fontsize=20);\n",
    "ax2.spines['right'].set_visible(False)\n",
    "ax2.spines['top'].set_visible(False)\n",
    "\n",
    "\n",
    "ax3 = fig.add_subplot(gs[1,1])\n",
    "ef = df.loc['Tamil Nadu'].rename_axis('date').reset_index()\n",
    "ef['date'] = ef['date'].astype('datetime64[ns]')\n",
    "ax3.bar(ef.date, ef['Tamil Nadu'],color = '#007acc',alpha=0.5,)\n",
    "ax3.xaxis.set_major_locator(mdates.WeekdayLocator())\n",
    "ax3.xaxis.set_major_formatter(mdates.DateFormatter('%b %d'))\n",
    "ax3.set_xticks(ax3.get_xticks()[::3])\n",
    "ax3.text(0.05, 0.9,'Tamil Nadu', transform = ax3.transAxes, fontsize=20);\n",
    "ax3.spines['right'].set_visible(False)\n",
    "ax3.spines['top'].set_visible(False)\n",
    "\n",
    "ax5 = fig.add_subplot(gs[1,3])\n",
    "ef = df.loc['Telangana'].rename_axis('date').reset_index()\n",
    "ef['date'] = ef['date'].astype('datetime64[ns]')\n",
    "ax5.bar(ef.date, ef['Telangana'],color = '#007acc',alpha=0.5,)\n",
    "ax5.xaxis.set_major_locator(mdates.WeekdayLocator())\n",
    "ax5.xaxis.set_major_formatter(mdates.DateFormatter('%b %d'))\n",
    "ax5.set_xticks(ax5.get_xticks()[::3])\n",
    "ax5.text(0.05, 0.9,'Telangana', transform = ax5.transAxes, fontsize=20);\n",
    "ax5.spines['right'].set_visible(False)\n",
    "ax5.spines['top'].set_visible(False)\n",
    "\n",
    "ax6 = fig.add_subplot(gs[1,4])\n",
    "ef = df.loc['Andhra Pradesh'].rename_axis('date').reset_index()\n",
    "ef['date'] = ef['date'].astype('datetime64[ns]')\n",
    "ax6.bar(ef.date, ef['Andhra Pradesh'],color = '#007acc',alpha=0.5,)\n",
    "ax6.xaxis.set_major_locator(mdates.WeekdayLocator())\n",
    "ax6.xaxis.set_major_formatter(mdates.DateFormatter('%b %d'))\n",
    "ax6.set_xticks(ax6.get_xticks()[::3])\n",
    "ax6.text(0.05, 1,'Andhra Pradesh', transform = ax6.transAxes, fontsize=20);\n",
    "ax6.spines['right'].set_visible(False)\n",
    "ax6.spines['top'].set_visible(False)\n",
    "\n",
    "ax4 = fig.add_subplot(gs[1,2])\n",
    "ef = df.loc['Delhi'].rename_axis('date').reset_index()\n",
    "ef['date'] = ef['date'].astype('datetime64[ns]')\n",
    "ax4.bar(ef.date, ef.Delhi,color = '#007acc',alpha=0.5)\n",
    "ax4.set_xticks([])\n",
    "ax4.xaxis.set_major_locator(mdates.WeekdayLocator())\n",
    "ax4.xaxis.set_major_formatter(mdates.DateFormatter('%b %d'))\n",
    "ax4.set_xticks(ax4.get_xticks()[::3])\n",
    "ax4.spines['right'].set_visible(False)\n",
    "ax4.spines['top'].set_visible(False)\n",
    "\n",
    "ax4.text(0.05, 1,'Delhi', transform = ax4.transAxes, fontsize=20)\n",
    "\n",
    "for i in range(n):\n",
    "    \n",
    "    ax.append(fig.add_subplot(gs[i+2,:]))\n",
    "    ef = df.iloc[i+3].rename_axis('date').reset_index()\n",
    "    ef['date'] = ef['date'].astype('datetime64[ns]')\n",
    "    ax[i].bar(ef.date,ef.iloc[:,-1],color = '#007acc',alpha=0.3)\n",
    "    ax[i].plot(ef.date,ef.iloc[:,-1],marker='o',color='#007acc')\n",
    "    ax[i].text(0.02,0.5,f'{ef.columns.values[-1]}',transform = ax[i].transAxes, fontsize = 20);\n",
    "    ax[i].xaxis.set_major_locator(mdates.WeekdayLocator())\n",
    "    ax[i].xaxis.set_major_formatter(mdates.DateFormatter('%b %d'))\n",
    "    ax[i].set_ylim([0,7000])\n",
    "    ax[i].spines['right'].set_visible(False)\n",
    "    ax[i].spines['top'].set_visible(False)\n",
    "plt.tight_layout()\n"
   ]
  },
  {
   "cell_type": "code",
   "execution_count": 20,
   "metadata": {
    "execution": {
     "iopub.execute_input": "2020-09-17T12:28:28.386282Z",
     "iopub.status.busy": "2020-09-17T12:28:28.385470Z",
     "iopub.status.idle": "2020-09-17T12:28:28.387836Z",
     "shell.execute_reply": "2020-09-17T12:28:28.388311Z"
    },
    "papermill": {
     "duration": 0.03556,
     "end_time": "2020-09-17T12:28:28.388443",
     "exception": false,
     "start_time": "2020-09-17T12:28:28.352883",
     "status": "completed"
    },
    "tags": []
   },
   "outputs": [
    {
     "name": "stdout",
     "output_type": "stream",
     "text": [
      "                                   states    Cases  Deaths   PCases  PDeaths  Cases (+)  Deaths (+)  Fatality Rate\n",
      "                              Maharashtra  1121221   30883  1121221    30883          0           0           2.75\n",
      "                           Andhra Pradesh   592760    5105   592760     5105          0           0           0.86\n",
      "                               Tamil Nadu   519860    8559   519860     8559          0           0           1.65\n",
      "                                Karnataka   484990    7536   484990     7536          0           0           1.55\n",
      "                            Uttar Pradesh   336294    4771   330265     4690       6029          81           1.42\n",
      "                                    Delhi   230269    4839   230269     4839          0           0           2.10\n",
      "                              West Bengal   212383    4123   212383     4123          0           0           1.94\n",
      "                                   Odisha   167161     722   162920      709       4241          13           0.43\n",
      "                                Telangana   165003    1005   162844      996       2159           9           0.61\n",
      "                                    Bihar   162632     848   162632      848          0           0           0.52\n",
      "                                    Assam   148969     511   148969      511          0           0           0.34\n",
      "                                   Kerala   117864     481   117864      481          0           0           0.41\n",
      "                                  Gujarat   117709    3257   117709     3257          0           0           2.77\n",
      "                                Rajasthan   107680    1279   107680     1279          0           0           1.19\n",
      "                                  Haryana   101316    1045   101316     1045          0           0           1.03\n",
      "                           Madhya Pradesh    95515    1844    95515     1844          0           0           1.93\n",
      "                                   Punjab    87184    2592    87184     2592          0           0           2.97\n",
      "                             Chhattisgarh    73966     611    73966      611          0           0           0.83\n",
      "                                Jharkhand    66074     579    66074      579          0           0           0.88\n",
      "                        Jammu and Kashmir    58244     932    58244      932          0           0           1.60\n",
      "                              Uttarakhand    35947     447    35947      447          0           0           1.24\n",
      "                                      Goa    26139     319    26139      319          0           0           1.22\n",
      "                               Puducherry    21111     418    21111      418          0           0           1.98\n",
      "                                  Tripura    20696     222    20169      217        527           5           1.07\n",
      "                         Himachal Pradesh    10795      90    10795       90          0           0           0.83\n",
      "                               Chandigarh     8958     101     8958      101          0           0           1.13\n",
      "                                  Manipur     8320      48     8320       48          0           0           0.58\n",
      "                        Arunachal Pradesh     6692      13     6692       13          0           0           0.19\n",
      "                                 Nagaland     5306      10     5263       10         43           0           0.19\n",
      "                                Meghalaya     4195      29     4195       29          0           0           0.69\n",
      "              Andaman and Nicobar Islands     3593      52     3593       52          0           0           1.45\n",
      "                                   Ladakh     3535      46     3535       46          0           0           1.30\n",
      " Dadra and Nagar Haveli and Daman and Diu     2810       2     2810        2          0           0           0.07\n",
      "                                   Sikkim     2221      19     2221       19          0           0           0.86\n",
      "                                  Mizoram     1506       0     1480        0         26           0           0.00\n",
      "                              Lakshadweep        0       0        0        0          0           0            NaN\n"
     ]
    }
   ],
   "source": [
    "#hide_input\n",
    "print(df_table.to_string(index=False))"
   ]
  },
  {
   "cell_type": "code",
   "execution_count": null,
   "metadata": {
    "papermill": {
     "duration": 0.02197,
     "end_time": "2020-09-17T12:28:28.432931",
     "exception": false,
     "start_time": "2020-09-17T12:28:28.410961",
     "status": "completed"
    },
    "tags": []
   },
   "outputs": [],
   "source": []
  },
  {
   "cell_type": "code",
   "execution_count": null,
   "metadata": {
    "papermill": {
     "duration": 0.02227,
     "end_time": "2020-09-17T12:28:28.478577",
     "exception": false,
     "start_time": "2020-09-17T12:28:28.456307",
     "status": "completed"
    },
    "tags": []
   },
   "outputs": [],
   "source": []
  }
 ],
 "metadata": {
  "kernelspec": {
   "display_name": "Python 3",
   "language": "python",
   "name": "python3"
  },
  "language_info": {
   "codemirror_mode": {
    "name": "ipython",
    "version": 3
   },
   "file_extension": ".py",
   "mimetype": "text/x-python",
   "name": "python",
   "nbconvert_exporter": "python",
   "pygments_lexer": "ipython3",
   "version": "3.6.12"
  },
  "papermill": {
   "duration": 10.150491,
   "end_time": "2020-09-17T12:28:28.908836",
   "environment_variables": {},
   "exception": null,
   "input_path": "latest.ipynb",
   "output_path": "latest.ipynb",
   "parameters": {},
   "start_time": "2020-09-17T12:28:18.758345",
   "version": "2.1.2"
  }
 },
 "nbformat": 4,
 "nbformat_minor": 4
}