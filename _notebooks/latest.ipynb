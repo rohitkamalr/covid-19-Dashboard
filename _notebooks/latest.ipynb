{
 "cells": [
  {
   "cell_type": "markdown",
   "id": "colored-stack",
   "metadata": {
    "papermill": {
     "duration": 0.023507,
     "end_time": "2021-03-19T11:54:13.765525",
     "exception": false,
     "start_time": "2021-03-19T11:54:13.742018",
     "status": "completed"
    },
    "tags": []
   },
   "source": [
    "# Latest COVID-19 India Matplotlib Overview"
   ]
  },
  {
   "cell_type": "code",
   "execution_count": 1,
   "id": "light-proportion",
   "metadata": {
    "execution": {
     "iopub.execute_input": "2021-03-19T11:54:13.812241Z",
     "iopub.status.busy": "2021-03-19T11:54:13.811673Z",
     "iopub.status.idle": "2021-03-19T11:54:14.407458Z",
     "shell.execute_reply": "2021-03-19T11:54:14.406579Z"
    },
    "papermill": {
     "duration": 0.62445,
     "end_time": "2021-03-19T11:54:14.407687",
     "exception": false,
     "start_time": "2021-03-19T11:54:13.783237",
     "status": "completed"
    },
    "tags": []
   },
   "outputs": [],
   "source": [
    "#hide\n",
    "import pandas as pd\n",
    "import numpy as np\n",
    "import requests\n",
    "import json\n",
    "import matplotlib.pyplot as plt\n",
    "import matplotlib.dates as mdates\n",
    "import matplotlib as mpl\n",
    "from IPython.core.display import display,HTML\n",
    "%matplotlib inline\n",
    "from datetime import date"
   ]
  },
  {
   "cell_type": "code",
   "execution_count": 2,
   "id": "greenhouse-shooting",
   "metadata": {
    "execution": {
     "iopub.execute_input": "2021-03-19T11:54:14.452856Z",
     "iopub.status.busy": "2021-03-19T11:54:14.452289Z",
     "iopub.status.idle": "2021-03-19T11:54:14.714495Z",
     "shell.execute_reply": "2021-03-19T11:54:14.714020Z"
    },
    "papermill": {
     "duration": 0.289043,
     "end_time": "2021-03-19T11:54:14.714622",
     "exception": false,
     "start_time": "2021-03-19T11:54:14.425579",
     "status": "completed"
    },
    "tags": []
   },
   "outputs": [],
   "source": [
    "#hide\n",
    "df  = pd.read_csv('https://api.covid19india.org/csv/latest/states.csv')\n",
    "df = df[['Date','State','Confirmed','Deceased']]\n",
    "df = df.rename(columns={'Confirmed':'Cases', \"Deceased\":'Deaths'})\n",
    "df_cases = df[[\"Date\",'State','Cases']]\n",
    "df_deaths = df[['Date','State','Deaths']]\n",
    "df_cases1 = df_cases.groupby('Date')\n",
    "df_deaths1= df_deaths.groupby('Date')"
   ]
  },
  {
   "cell_type": "code",
   "execution_count": 3,
   "id": "hybrid-cathedral",
   "metadata": {
    "execution": {
     "iopub.execute_input": "2021-03-19T11:54:14.753892Z",
     "iopub.status.busy": "2021-03-19T11:54:14.753361Z",
     "iopub.status.idle": "2021-03-19T11:54:14.772924Z",
     "shell.execute_reply": "2021-03-19T11:54:14.772450Z"
    },
    "papermill": {
     "duration": 0.041463,
     "end_time": "2021-03-19T11:54:14.773046",
     "exception": false,
     "start_time": "2021-03-19T11:54:14.731583",
     "status": "completed"
    },
    "tags": []
   },
   "outputs": [],
   "source": [
    "#hide\n",
    "df_snap = pd.read_csv('data/SnapshotCases-28-July.csv')\n",
    "arr_states = df_snap['states'].unique()\n",
    "arr_dates = df['Date'].unique()\n",
    "df_snap = df_snap.set_index('states')"
   ]
  },
  {
   "cell_type": "code",
   "execution_count": 4,
   "id": "interior-belfast",
   "metadata": {
    "execution": {
     "iopub.execute_input": "2021-03-19T11:54:14.816534Z",
     "iopub.status.busy": "2021-03-19T11:54:14.815889Z",
     "iopub.status.idle": "2021-03-19T11:54:14.818451Z",
     "shell.execute_reply": "2021-03-19T11:54:14.818873Z"
    },
    "papermill": {
     "duration": 0.028949,
     "end_time": "2021-03-19T11:54:14.819021",
     "exception": false,
     "start_time": "2021-03-19T11:54:14.790072",
     "status": "completed"
    },
    "tags": []
   },
   "outputs": [
    {
     "data": {
      "text/plain": [
       "array(['Andaman and Nicobar Islands', 'Andhra Pradesh',\n",
       "       'Arunachal Pradesh', 'Assam', 'Bihar', 'Chandigarh',\n",
       "       'Dadra and Nagar Haveli and Daman and Diu', 'Delhi', 'Goa',\n",
       "       'Gujarat', 'Haryana', 'Himachal Pradesh', 'Jammu and Kashmir',\n",
       "       'Jharkhand', 'Karnataka', 'Kerala', 'Lakshadweep',\n",
       "       'Madhya Pradesh', 'Maharashtra', 'Manipur', 'Meghalaya', 'Mizoram',\n",
       "       'Nagaland', 'Odisha', 'Puducherry', 'Punjab', 'Rajasthan',\n",
       "       'Sikkim', 'Tamil Nadu', 'Telangana', 'Tripura', 'Uttar Pradesh',\n",
       "       'West Bengal', 'Chhattisgarh', 'Ladakh', 'Uttarakhand'],\n",
       "      dtype=object)"
      ]
     },
     "execution_count": 4,
     "metadata": {},
     "output_type": "execute_result"
    }
   ],
   "source": [
    "#hide\n",
    "arr_states[-9] = 'Puducherry'\n",
    "arr_states[-10] = 'Odisha'\n",
    "arr_states[6] = 'Dadra and Nagar Haveli and Daman and Diu'\n",
    "arr_states = np.append(arr_states,np.array(['Chhattisgarh','Ladakh','Uttarakhand']))\n",
    "arr_states"
   ]
  },
  {
   "cell_type": "code",
   "execution_count": 5,
   "id": "behind-manner",
   "metadata": {
    "execution": {
     "iopub.execute_input": "2021-03-19T11:54:14.863696Z",
     "iopub.status.busy": "2021-03-19T11:54:14.863159Z",
     "iopub.status.idle": "2021-03-19T11:54:14.873752Z",
     "shell.execute_reply": "2021-03-19T11:54:14.872812Z"
    },
    "papermill": {
     "duration": 0.038351,
     "end_time": "2021-03-19T11:54:14.873862",
     "exception": false,
     "start_time": "2021-03-19T11:54:14.835511",
     "status": "completed"
    },
    "tags": []
   },
   "outputs": [],
   "source": [
    "#hide\n",
    "dates = []\n",
    "for i in arr_dates:\n",
    "    if i>='2020-07-01':\n",
    "        dates.append(i)\n",
    "dict = {'states':dates}\n",
    "for i in arr_states:\n",
    "    dict[i] = [0]*len(dates)\n",
    "dft_cases = pd.DataFrame(dict)\n",
    "dft_deaths = pd.DataFrame(dict)\n"
   ]
  },
  {
   "cell_type": "code",
   "execution_count": 6,
   "id": "simplified-peter",
   "metadata": {
    "execution": {
     "iopub.execute_input": "2021-03-19T11:54:14.914244Z",
     "iopub.status.busy": "2021-03-19T11:54:14.913219Z",
     "iopub.status.idle": "2021-03-19T11:54:18.533136Z",
     "shell.execute_reply": "2021-03-19T11:54:18.532103Z"
    },
    "papermill": {
     "duration": 3.642996,
     "end_time": "2021-03-19T11:54:18.533271",
     "exception": false,
     "start_time": "2021-03-19T11:54:14.890275",
     "status": "completed"
    },
    "tags": []
   },
   "outputs": [],
   "source": [
    "#hide\n",
    "for i in range(len(dates)):\n",
    "    df1_deaths = df_deaths1.get_group(dates[i])\n",
    "    for j in range(len(df1_deaths.index)):\n",
    "        if df1_deaths.iloc[j,1] in arr_states:\n",
    "            dft_deaths.loc[i,df1_deaths.iloc[j,1]] = df1_deaths.iloc[j,2]\n",
    "dft_deaths = dft_deaths.set_index('states')"
   ]
  },
  {
   "cell_type": "code",
   "execution_count": 7,
   "id": "geological-welding",
   "metadata": {
    "execution": {
     "iopub.execute_input": "2021-03-19T11:54:18.574231Z",
     "iopub.status.busy": "2021-03-19T11:54:18.573510Z",
     "iopub.status.idle": "2021-03-19T11:54:22.162766Z",
     "shell.execute_reply": "2021-03-19T11:54:22.161720Z"
    },
    "papermill": {
     "duration": 3.612185,
     "end_time": "2021-03-19T11:54:22.162911",
     "exception": false,
     "start_time": "2021-03-19T11:54:18.550726",
     "status": "completed"
    },
    "tags": []
   },
   "outputs": [],
   "source": [
    "#hide\n",
    "for i in range(len(dates)):\n",
    "    df1_cases = df_cases1.get_group(dates[i])\n",
    "    for j in range(len(df1_cases.index)):\n",
    "        if df1_cases.iloc[j,1] in arr_states:\n",
    "            dft_cases.loc[i,df1_cases.iloc[j,1]] = df1_cases.iloc[j,2]\n",
    "dft_cases = dft_cases.set_index('states')"
   ]
  },
  {
   "cell_type": "code",
   "execution_count": 8,
   "id": "binary-ratio",
   "metadata": {
    "execution": {
     "iopub.execute_input": "2021-03-19T11:54:22.265669Z",
     "iopub.status.busy": "2021-03-19T11:54:22.265068Z",
     "iopub.status.idle": "2021-03-19T11:54:22.267427Z",
     "shell.execute_reply": "2021-03-19T11:54:22.267982Z"
    },
    "papermill": {
     "duration": 0.088249,
     "end_time": "2021-03-19T11:54:22.268124",
     "exception": false,
     "start_time": "2021-03-19T11:54:22.179875",
     "status": "completed"
    },
    "tags": []
   },
   "outputs": [],
   "source": [
    "#hide\n",
    "dft_cases = dft_cases.T\n",
    "dft_deaths = dft_deaths.T\n",
    "dt_today = dates[-1]\n",
    "dt_yday = dates[-2]"
   ]
  },
  {
   "cell_type": "code",
   "execution_count": 9,
   "id": "boolean-calculator",
   "metadata": {
    "execution": {
     "iopub.execute_input": "2021-03-19T11:54:22.319900Z",
     "iopub.status.busy": "2021-03-19T11:54:22.319315Z",
     "iopub.status.idle": "2021-03-19T11:54:22.321608Z",
     "shell.execute_reply": "2021-03-19T11:54:22.322073Z"
    },
    "papermill": {
     "duration": 0.028038,
     "end_time": "2021-03-19T11:54:22.322211",
     "exception": false,
     "start_time": "2021-03-19T11:54:22.294173",
     "status": "completed"
    },
    "tags": []
   },
   "outputs": [],
   "source": [
    "#hide\n",
    "dft_cases = dft_cases.reset_index()\n",
    "dft_deaths = dft_deaths.reset_index()\n",
    "dft_cases = dft_cases.rename(columns = {'index':'state'})\n",
    "dft_deaths = dft_deaths.rename(columns = {'index':'state'})"
   ]
  },
  {
   "cell_type": "code",
   "execution_count": 10,
   "id": "invisible-johnston",
   "metadata": {
    "execution": {
     "iopub.execute_input": "2021-03-19T11:54:22.370125Z",
     "iopub.status.busy": "2021-03-19T11:54:22.368977Z",
     "iopub.status.idle": "2021-03-19T11:54:22.370733Z",
     "shell.execute_reply": "2021-03-19T11:54:22.371188Z"
    },
    "papermill": {
     "duration": 0.032155,
     "end_time": "2021-03-19T11:54:22.371319",
     "exception": false,
     "start_time": "2021-03-19T11:54:22.339164",
     "status": "completed"
    },
    "tags": []
   },
   "outputs": [],
   "source": [
    "#hide\n",
    "dfc_cases = dft_cases.groupby('state')[dt_today].sum()\n",
    "dfc_deaths = dft_deaths.groupby('state')[dt_today].sum()\n",
    "dfp_cases = dft_cases.groupby('state')[dt_yday].sum()\n",
    "dfp_deaths = dft_deaths.groupby('state')[dt_yday].sum()"
   ]
  },
  {
   "cell_type": "code",
   "execution_count": 11,
   "id": "measured-great",
   "metadata": {
    "execution": {
     "iopub.execute_input": "2021-03-19T11:54:22.421018Z",
     "iopub.status.busy": "2021-03-19T11:54:22.420415Z",
     "iopub.status.idle": "2021-03-19T11:54:22.427395Z",
     "shell.execute_reply": "2021-03-19T11:54:22.426938Z"
    },
    "papermill": {
     "duration": 0.03933,
     "end_time": "2021-03-19T11:54:22.427510",
     "exception": false,
     "start_time": "2021-03-19T11:54:22.388180",
     "status": "completed"
    },
    "tags": []
   },
   "outputs": [
    {
     "data": {
      "text/html": [
       "<div>\n",
       "<style scoped>\n",
       "    .dataframe tbody tr th:only-of-type {\n",
       "        vertical-align: middle;\n",
       "    }\n",
       "\n",
       "    .dataframe tbody tr th {\n",
       "        vertical-align: top;\n",
       "    }\n",
       "\n",
       "    .dataframe thead th {\n",
       "        text-align: right;\n",
       "    }\n",
       "</style>\n",
       "<table border=\"1\" class=\"dataframe\">\n",
       "  <thead>\n",
       "    <tr style=\"text-align: right;\">\n",
       "      <th></th>\n",
       "      <th>states</th>\n",
       "      <th>Cases</th>\n",
       "      <th>Deaths</th>\n",
       "      <th>PCases</th>\n",
       "      <th>PDeaths</th>\n",
       "    </tr>\n",
       "  </thead>\n",
       "  <tbody>\n",
       "    <tr>\n",
       "      <th>0</th>\n",
       "      <td>Maharashtra</td>\n",
       "      <td>2396340</td>\n",
       "      <td>53138</td>\n",
       "      <td>2396340</td>\n",
       "      <td>53138</td>\n",
       "    </tr>\n",
       "    <tr>\n",
       "      <th>1</th>\n",
       "      <td>Kerala</td>\n",
       "      <td>1098292</td>\n",
       "      <td>4451</td>\n",
       "      <td>1098292</td>\n",
       "      <td>4451</td>\n",
       "    </tr>\n",
       "    <tr>\n",
       "      <th>2</th>\n",
       "      <td>Karnataka</td>\n",
       "      <td>965102</td>\n",
       "      <td>12415</td>\n",
       "      <td>965102</td>\n",
       "      <td>12415</td>\n",
       "    </tr>\n",
       "    <tr>\n",
       "      <th>3</th>\n",
       "      <td>Andhra Pradesh</td>\n",
       "      <td>892740</td>\n",
       "      <td>7186</td>\n",
       "      <td>892740</td>\n",
       "      <td>7186</td>\n",
       "    </tr>\n",
       "    <tr>\n",
       "      <th>4</th>\n",
       "      <td>Tamil Nadu</td>\n",
       "      <td>863363</td>\n",
       "      <td>12573</td>\n",
       "      <td>863363</td>\n",
       "      <td>12573</td>\n",
       "    </tr>\n",
       "  </tbody>\n",
       "</table>\n",
       "</div>"
      ],
      "text/plain": [
       "           states    Cases  Deaths   PCases  PDeaths\n",
       "0     Maharashtra  2396340   53138  2396340    53138\n",
       "1          Kerala  1098292    4451  1098292     4451\n",
       "2       Karnataka   965102   12415   965102    12415\n",
       "3  Andhra Pradesh   892740    7186   892740     7186\n",
       "4      Tamil Nadu   863363   12573   863363    12573"
      ]
     },
     "execution_count": 11,
     "metadata": {},
     "output_type": "execute_result"
    }
   ],
   "source": [
    "#hide\n",
    "df_table = pd.DataFrame({'states': dfc_cases.index, 'Cases': dfc_cases.values, 'Deaths': dfc_deaths.values, 'PCases': dfp_cases.values, 'PDeaths': dfp_deaths.values}).set_index('states')\n",
    "df_table = df_table.sort_values(by = ['Cases','Deaths'], ascending = [False, False])\n",
    "df_table = df_table.reset_index()\n",
    "df_table.head()"
   ]
  },
  {
   "cell_type": "code",
   "execution_count": 12,
   "id": "found-montreal",
   "metadata": {
    "execution": {
     "iopub.execute_input": "2021-03-19T11:54:22.472058Z",
     "iopub.status.busy": "2021-03-19T11:54:22.471034Z",
     "iopub.status.idle": "2021-03-19T11:54:22.479998Z",
     "shell.execute_reply": "2021-03-19T11:54:22.479420Z"
    },
    "papermill": {
     "duration": 0.034984,
     "end_time": "2021-03-19T11:54:22.480118",
     "exception": false,
     "start_time": "2021-03-19T11:54:22.445134",
     "status": "completed"
    },
    "tags": []
   },
   "outputs": [],
   "source": [
    "#hide\n",
    "for c in 'Cases, Deaths'.split(', '):\n",
    "    df_table[f'{c} (+)'] = (df_table[c] - df_table[f'P{c}']).clip(0)\n",
    "df_table['Fatality Rate'] = (100* df_table['Deaths']/ df_table['Cases']).round(2)"
   ]
  },
  {
   "cell_type": "code",
   "execution_count": 13,
   "id": "minus-savage",
   "metadata": {
    "execution": {
     "iopub.execute_input": "2021-03-19T11:54:22.527968Z",
     "iopub.status.busy": "2021-03-19T11:54:22.527357Z",
     "iopub.status.idle": "2021-03-19T11:54:22.529582Z",
     "shell.execute_reply": "2021-03-19T11:54:22.530125Z"
    },
    "papermill": {
     "duration": 0.032229,
     "end_time": "2021-03-19T11:54:22.530270",
     "exception": false,
     "start_time": "2021-03-19T11:54:22.498041",
     "status": "completed"
    },
    "tags": []
   },
   "outputs": [
    {
     "data": {
      "text/html": [
       "<div>\n",
       "<style scoped>\n",
       "    .dataframe tbody tr th:only-of-type {\n",
       "        vertical-align: middle;\n",
       "    }\n",
       "\n",
       "    .dataframe tbody tr th {\n",
       "        vertical-align: top;\n",
       "    }\n",
       "\n",
       "    .dataframe thead th {\n",
       "        text-align: right;\n",
       "    }\n",
       "</style>\n",
       "<table border=\"1\" class=\"dataframe\">\n",
       "  <thead>\n",
       "    <tr style=\"text-align: right;\">\n",
       "      <th></th>\n",
       "      <th>states</th>\n",
       "      <th>Cases</th>\n",
       "      <th>Deaths</th>\n",
       "      <th>PCases</th>\n",
       "      <th>PDeaths</th>\n",
       "      <th>Cases (+)</th>\n",
       "      <th>Deaths (+)</th>\n",
       "      <th>Fatality Rate</th>\n",
       "    </tr>\n",
       "  </thead>\n",
       "  <tbody>\n",
       "    <tr>\n",
       "      <th>0</th>\n",
       "      <td>Maharashtra</td>\n",
       "      <td>2396340</td>\n",
       "      <td>53138</td>\n",
       "      <td>2396340</td>\n",
       "      <td>53138</td>\n",
       "      <td>0</td>\n",
       "      <td>0</td>\n",
       "      <td>2.22</td>\n",
       "    </tr>\n",
       "    <tr>\n",
       "      <th>1</th>\n",
       "      <td>Kerala</td>\n",
       "      <td>1098292</td>\n",
       "      <td>4451</td>\n",
       "      <td>1098292</td>\n",
       "      <td>4451</td>\n",
       "      <td>0</td>\n",
       "      <td>0</td>\n",
       "      <td>0.41</td>\n",
       "    </tr>\n",
       "    <tr>\n",
       "      <th>2</th>\n",
       "      <td>Karnataka</td>\n",
       "      <td>965102</td>\n",
       "      <td>12415</td>\n",
       "      <td>965102</td>\n",
       "      <td>12415</td>\n",
       "      <td>0</td>\n",
       "      <td>0</td>\n",
       "      <td>1.29</td>\n",
       "    </tr>\n",
       "    <tr>\n",
       "      <th>3</th>\n",
       "      <td>Andhra Pradesh</td>\n",
       "      <td>892740</td>\n",
       "      <td>7186</td>\n",
       "      <td>892740</td>\n",
       "      <td>7186</td>\n",
       "      <td>0</td>\n",
       "      <td>0</td>\n",
       "      <td>0.80</td>\n",
       "    </tr>\n",
       "    <tr>\n",
       "      <th>4</th>\n",
       "      <td>Tamil Nadu</td>\n",
       "      <td>863363</td>\n",
       "      <td>12573</td>\n",
       "      <td>863363</td>\n",
       "      <td>12573</td>\n",
       "      <td>0</td>\n",
       "      <td>0</td>\n",
       "      <td>1.46</td>\n",
       "    </tr>\n",
       "  </tbody>\n",
       "</table>\n",
       "</div>"
      ],
      "text/plain": [
       "           states    Cases  Deaths   PCases  PDeaths  Cases (+)  Deaths (+)  \\\n",
       "0     Maharashtra  2396340   53138  2396340    53138          0           0   \n",
       "1          Kerala  1098292    4451  1098292     4451          0           0   \n",
       "2       Karnataka   965102   12415   965102    12415          0           0   \n",
       "3  Andhra Pradesh   892740    7186   892740     7186          0           0   \n",
       "4      Tamil Nadu   863363   12573   863363    12573          0           0   \n",
       "\n",
       "   Fatality Rate  \n",
       "0           2.22  \n",
       "1           0.41  \n",
       "2           1.29  \n",
       "3           0.80  \n",
       "4           1.46  "
      ]
     },
     "execution_count": 13,
     "metadata": {},
     "output_type": "execute_result"
    }
   ],
   "source": [
    "#hide\n",
    "df_table.head()"
   ]
  },
  {
   "cell_type": "code",
   "execution_count": 14,
   "id": "false-peter",
   "metadata": {
    "execution": {
     "iopub.execute_input": "2021-03-19T11:54:22.573273Z",
     "iopub.status.busy": "2021-03-19T11:54:22.572687Z",
     "iopub.status.idle": "2021-03-19T11:54:22.589739Z",
     "shell.execute_reply": "2021-03-19T11:54:22.589198Z"
    },
    "papermill": {
     "duration": 0.041444,
     "end_time": "2021-03-19T11:54:22.589873",
     "exception": false,
     "start_time": "2021-03-19T11:54:22.548429",
     "status": "completed"
    },
    "tags": []
   },
   "outputs": [
    {
     "data": {
      "text/plain": [
       "{'updated': '2021-03-19',\n",
       " 'since': '2021-03-18',\n",
       " 'Cases': 11514489,\n",
       " 'PCases': 11513989,\n",
       " 'Deaths': 159408,\n",
       " 'PDeaths': 159406,\n",
       " 'Cases (+)': 500,\n",
       " 'Deaths (+)': 2}"
      ]
     },
     "execution_count": 14,
     "metadata": {},
     "output_type": "execute_result"
    }
   ],
   "source": [
    "#hide\n",
    "summary = {'updated':dates[-1], 'since':dates[-2]}\n",
    "list_names = ['Cases', 'PCases', 'Deaths', 'PDeaths', 'Cases (+)', 'Deaths (+)']\n",
    "for name in list_names:\n",
    "    summary[name] = df_table.sum()[name]\n",
    "summary"
   ]
  },
  {
   "cell_type": "code",
   "execution_count": 15,
   "id": "packed-viewer",
   "metadata": {
    "execution": {
     "iopub.execute_input": "2021-03-19T11:54:22.634793Z",
     "iopub.status.busy": "2021-03-19T11:54:22.633524Z",
     "iopub.status.idle": "2021-03-19T11:54:22.635631Z",
     "shell.execute_reply": "2021-03-19T11:54:22.636089Z"
    },
    "papermill": {
     "duration": 0.027484,
     "end_time": "2021-03-19T11:54:22.636227",
     "exception": false,
     "start_time": "2021-03-19T11:54:22.608743",
     "status": "completed"
    },
    "tags": []
   },
   "outputs": [],
   "source": [
    "#hide\n",
    "overview = '''\n",
    "<!-- #######  HTML!! #########-->\n",
    "<h1 style=\"color: #5e9ca0; text-align: center;\">India</h1>\n",
    "<p style=\"text-align: center;\">Last update: <strong>{update}</strong></p>\n",
    "<p style=\"text-align: center;\">Confirmed cases:</p>\n",
    "<p style=\"text-align: center;font-size:24px;\">{cases} (<span style=\"color: #ff0000;\">+{new}</span>)</p>\n",
    "<p style=\"text-align: center;\">Confirmed deaths:</p>\n",
    "<p style=\"text-align: center;font-size:24px;\">{deaths} (<span style=\"color: #ff0000;\">+{dnew}</span>)</p>\n",
    "'''"
   ]
  },
  {
   "cell_type": "code",
   "execution_count": 16,
   "id": "phantom-lover",
   "metadata": {
    "execution": {
     "iopub.execute_input": "2021-03-19T11:54:22.679559Z",
     "iopub.status.busy": "2021-03-19T11:54:22.678986Z",
     "iopub.status.idle": "2021-03-19T11:54:22.682934Z",
     "shell.execute_reply": "2021-03-19T11:54:22.682448Z"
    },
    "papermill": {
     "duration": 0.028164,
     "end_time": "2021-03-19T11:54:22.683053",
     "exception": false,
     "start_time": "2021-03-19T11:54:22.654889",
     "status": "completed"
    },
    "tags": []
   },
   "outputs": [
    {
     "data": {
      "text/html": [
       "\n",
       "<!-- #######  HTML!! #########-->\n",
       "<h1 style=\"color: #5e9ca0; text-align: center;\">India</h1>\n",
       "<p style=\"text-align: center;\">Last update: <strong>2021-03-19</strong></p>\n",
       "<p style=\"text-align: center;\">Confirmed cases:</p>\n",
       "<p style=\"text-align: center;font-size:24px;\">11514489 (<span style=\"color: #ff0000;\">+500</span>)</p>\n",
       "<p style=\"text-align: center;\">Confirmed deaths:</p>\n",
       "<p style=\"text-align: center;font-size:24px;\">159408 (<span style=\"color: #ff0000;\">+2</span>)</p>\n"
      ],
      "text/plain": [
       "<IPython.core.display.HTML object>"
      ]
     },
     "metadata": {},
     "output_type": "display_data"
    }
   ],
   "source": [
    "#hide_input\n",
    "update = summary['updated']\n",
    "cases = summary['Cases']\n",
    "new = summary['Cases (+)']\n",
    "deaths = summary['Deaths']\n",
    "dnew = summary['Deaths (+)']\n",
    "\n",
    "html = HTML(overview.format(update=update, cases=cases,new=new,deaths=deaths,dnew=dnew))\n",
    "\n",
    "display(html)"
   ]
  },
  {
   "cell_type": "code",
   "execution_count": 17,
   "id": "sealed-reset",
   "metadata": {
    "execution": {
     "iopub.execute_input": "2021-03-19T11:54:22.728474Z",
     "iopub.status.busy": "2021-03-19T11:54:22.727860Z",
     "iopub.status.idle": "2021-03-19T11:54:22.734420Z",
     "shell.execute_reply": "2021-03-19T11:54:22.734882Z"
    },
    "papermill": {
     "duration": 0.03318,
     "end_time": "2021-03-19T11:54:22.735031",
     "exception": false,
     "start_time": "2021-03-19T11:54:22.701851",
     "status": "completed"
    },
    "tags": []
   },
   "outputs": [],
   "source": [
    "#hide\n",
    "dt_cols = list(dft_cases.columns[1:])\n",
    "dft_ct_new_cases = dft_cases.groupby('state')[dt_cols].sum().diff(axis=1).fillna(0).astype(int)\n",
    "dft_ct_new_cases.sort_values(by = dates[-1], ascending = False,inplace = True)"
   ]
  },
  {
   "cell_type": "code",
   "execution_count": 18,
   "id": "designed-constant",
   "metadata": {
    "execution": {
     "iopub.execute_input": "2021-03-19T11:54:22.790685Z",
     "iopub.status.busy": "2021-03-19T11:54:22.790063Z",
     "iopub.status.idle": "2021-03-19T11:54:22.792557Z",
     "shell.execute_reply": "2021-03-19T11:54:22.793027Z"
    },
    "papermill": {
     "duration": 0.039198,
     "end_time": "2021-03-19T11:54:22.793165",
     "exception": false,
     "start_time": "2021-03-19T11:54:22.753967",
     "status": "completed"
    },
    "tags": []
   },
   "outputs": [
    {
     "data": {
      "text/html": [
       "<div>\n",
       "<style scoped>\n",
       "    .dataframe tbody tr th:only-of-type {\n",
       "        vertical-align: middle;\n",
       "    }\n",
       "\n",
       "    .dataframe tbody tr th {\n",
       "        vertical-align: top;\n",
       "    }\n",
       "\n",
       "    .dataframe thead th {\n",
       "        text-align: right;\n",
       "    }\n",
       "</style>\n",
       "<table border=\"1\" class=\"dataframe\">\n",
       "  <thead>\n",
       "    <tr style=\"text-align: right;\">\n",
       "      <th>states</th>\n",
       "      <th>2020-07-01</th>\n",
       "      <th>2020-07-02</th>\n",
       "      <th>2020-07-03</th>\n",
       "      <th>2020-07-04</th>\n",
       "      <th>2020-07-05</th>\n",
       "      <th>2020-07-06</th>\n",
       "      <th>2020-07-07</th>\n",
       "      <th>2020-07-08</th>\n",
       "      <th>2020-07-09</th>\n",
       "      <th>2020-07-10</th>\n",
       "      <th>...</th>\n",
       "      <th>2021-03-10</th>\n",
       "      <th>2021-03-11</th>\n",
       "      <th>2021-03-12</th>\n",
       "      <th>2021-03-13</th>\n",
       "      <th>2021-03-14</th>\n",
       "      <th>2021-03-15</th>\n",
       "      <th>2021-03-16</th>\n",
       "      <th>2021-03-17</th>\n",
       "      <th>2021-03-18</th>\n",
       "      <th>2021-03-19</th>\n",
       "    </tr>\n",
       "    <tr>\n",
       "      <th>state</th>\n",
       "      <th></th>\n",
       "      <th></th>\n",
       "      <th></th>\n",
       "      <th></th>\n",
       "      <th></th>\n",
       "      <th></th>\n",
       "      <th></th>\n",
       "      <th></th>\n",
       "      <th></th>\n",
       "      <th></th>\n",
       "      <th></th>\n",
       "      <th></th>\n",
       "      <th></th>\n",
       "      <th></th>\n",
       "      <th></th>\n",
       "      <th></th>\n",
       "      <th></th>\n",
       "      <th></th>\n",
       "      <th></th>\n",
       "      <th></th>\n",
       "      <th></th>\n",
       "    </tr>\n",
       "  </thead>\n",
       "  <tbody>\n",
       "    <tr>\n",
       "      <th>Telangana</th>\n",
       "      <td>0</td>\n",
       "      <td>1213</td>\n",
       "      <td>1892</td>\n",
       "      <td>1850</td>\n",
       "      <td>1590</td>\n",
       "      <td>1831</td>\n",
       "      <td>1879</td>\n",
       "      <td>1924</td>\n",
       "      <td>1410</td>\n",
       "      <td>1278</td>\n",
       "      <td>...</td>\n",
       "      <td>189</td>\n",
       "      <td>194</td>\n",
       "      <td>181</td>\n",
       "      <td>216</td>\n",
       "      <td>228</td>\n",
       "      <td>157</td>\n",
       "      <td>204</td>\n",
       "      <td>247</td>\n",
       "      <td>278</td>\n",
       "      <td>313</td>\n",
       "    </tr>\n",
       "    <tr>\n",
       "      <th>Odisha</th>\n",
       "      <td>0</td>\n",
       "      <td>229</td>\n",
       "      <td>561</td>\n",
       "      <td>495</td>\n",
       "      <td>469</td>\n",
       "      <td>456</td>\n",
       "      <td>571</td>\n",
       "      <td>527</td>\n",
       "      <td>577</td>\n",
       "      <td>755</td>\n",
       "      <td>...</td>\n",
       "      <td>69</td>\n",
       "      <td>63</td>\n",
       "      <td>64</td>\n",
       "      <td>65</td>\n",
       "      <td>71</td>\n",
       "      <td>66</td>\n",
       "      <td>65</td>\n",
       "      <td>82</td>\n",
       "      <td>84</td>\n",
       "      <td>110</td>\n",
       "    </tr>\n",
       "    <tr>\n",
       "      <th>Puducherry</th>\n",
       "      <td>0</td>\n",
       "      <td>63</td>\n",
       "      <td>22</td>\n",
       "      <td>80</td>\n",
       "      <td>42</td>\n",
       "      <td>65</td>\n",
       "      <td>30</td>\n",
       "      <td>110</td>\n",
       "      <td>49</td>\n",
       "      <td>72</td>\n",
       "      <td>...</td>\n",
       "      <td>24</td>\n",
       "      <td>22</td>\n",
       "      <td>30</td>\n",
       "      <td>31</td>\n",
       "      <td>15</td>\n",
       "      <td>14</td>\n",
       "      <td>24</td>\n",
       "      <td>52</td>\n",
       "      <td>81</td>\n",
       "      <td>61</td>\n",
       "    </tr>\n",
       "    <tr>\n",
       "      <th>Tripura</th>\n",
       "      <td>0</td>\n",
       "      <td>39</td>\n",
       "      <td>93</td>\n",
       "      <td>25</td>\n",
       "      <td>23</td>\n",
       "      <td>111</td>\n",
       "      <td>24</td>\n",
       "      <td>57</td>\n",
       "      <td>16</td>\n",
       "      <td>142</td>\n",
       "      <td>...</td>\n",
       "      <td>0</td>\n",
       "      <td>1</td>\n",
       "      <td>0</td>\n",
       "      <td>2</td>\n",
       "      <td>2</td>\n",
       "      <td>0</td>\n",
       "      <td>11</td>\n",
       "      <td>1</td>\n",
       "      <td>3</td>\n",
       "      <td>10</td>\n",
       "    </tr>\n",
       "    <tr>\n",
       "      <th>Dadra and Nagar Haveli and Daman and Diu</th>\n",
       "      <td>0</td>\n",
       "      <td>25</td>\n",
       "      <td>50</td>\n",
       "      <td>37</td>\n",
       "      <td>32</td>\n",
       "      <td>27</td>\n",
       "      <td>27</td>\n",
       "      <td>15</td>\n",
       "      <td>14</td>\n",
       "      <td>14</td>\n",
       "      <td>...</td>\n",
       "      <td>3</td>\n",
       "      <td>0</td>\n",
       "      <td>4</td>\n",
       "      <td>4</td>\n",
       "      <td>3</td>\n",
       "      <td>2</td>\n",
       "      <td>5</td>\n",
       "      <td>0</td>\n",
       "      <td>9</td>\n",
       "      <td>6</td>\n",
       "    </tr>\n",
       "  </tbody>\n",
       "</table>\n",
       "<p>5 rows × 262 columns</p>\n",
       "</div>"
      ],
      "text/plain": [
       "states                                    2020-07-01  2020-07-02  2020-07-03  \\\n",
       "state                                                                          \n",
       "Telangana                                          0        1213        1892   \n",
       "Odisha                                             0         229         561   \n",
       "Puducherry                                         0          63          22   \n",
       "Tripura                                            0          39          93   \n",
       "Dadra and Nagar Haveli and Daman and Diu           0          25          50   \n",
       "\n",
       "states                                    2020-07-04  2020-07-05  2020-07-06  \\\n",
       "state                                                                          \n",
       "Telangana                                       1850        1590        1831   \n",
       "Odisha                                           495         469         456   \n",
       "Puducherry                                        80          42          65   \n",
       "Tripura                                           25          23         111   \n",
       "Dadra and Nagar Haveli and Daman and Diu          37          32          27   \n",
       "\n",
       "states                                    2020-07-07  2020-07-08  2020-07-09  \\\n",
       "state                                                                          \n",
       "Telangana                                       1879        1924        1410   \n",
       "Odisha                                           571         527         577   \n",
       "Puducherry                                        30         110          49   \n",
       "Tripura                                           24          57          16   \n",
       "Dadra and Nagar Haveli and Daman and Diu          27          15          14   \n",
       "\n",
       "states                                    2020-07-10  ...  2021-03-10  \\\n",
       "state                                                 ...               \n",
       "Telangana                                       1278  ...         189   \n",
       "Odisha                                           755  ...          69   \n",
       "Puducherry                                        72  ...          24   \n",
       "Tripura                                          142  ...           0   \n",
       "Dadra and Nagar Haveli and Daman and Diu          14  ...           3   \n",
       "\n",
       "states                                    2021-03-11  2021-03-12  2021-03-13  \\\n",
       "state                                                                          \n",
       "Telangana                                        194         181         216   \n",
       "Odisha                                            63          64          65   \n",
       "Puducherry                                        22          30          31   \n",
       "Tripura                                            1           0           2   \n",
       "Dadra and Nagar Haveli and Daman and Diu           0           4           4   \n",
       "\n",
       "states                                    2021-03-14  2021-03-15  2021-03-16  \\\n",
       "state                                                                          \n",
       "Telangana                                        228         157         204   \n",
       "Odisha                                            71          66          65   \n",
       "Puducherry                                        15          14          24   \n",
       "Tripura                                            2           0          11   \n",
       "Dadra and Nagar Haveli and Daman and Diu           3           2           5   \n",
       "\n",
       "states                                    2021-03-17  2021-03-18  2021-03-19  \n",
       "state                                                                         \n",
       "Telangana                                        247         278         313  \n",
       "Odisha                                            82          84         110  \n",
       "Puducherry                                        52          81          61  \n",
       "Tripura                                            1           3          10  \n",
       "Dadra and Nagar Haveli and Daman and Diu           0           9           6  \n",
       "\n",
       "[5 rows x 262 columns]"
      ]
     },
     "execution_count": 18,
     "metadata": {},
     "output_type": "execute_result"
    }
   ],
   "source": [
    "#hide\n",
    "dft_ct_new_cases.head()"
   ]
  },
  {
   "cell_type": "code",
   "execution_count": 19,
   "id": "responsible-nightlife",
   "metadata": {
    "execution": {
     "iopub.execute_input": "2021-03-19T11:54:22.884850Z",
     "iopub.status.busy": "2021-03-19T11:54:22.863395Z",
     "iopub.status.idle": "2021-03-19T11:54:31.905885Z",
     "shell.execute_reply": "2021-03-19T11:54:31.906354Z"
    },
    "papermill": {
     "duration": 9.092971,
     "end_time": "2021-03-19T11:54:31.906509",
     "exception": false,
     "start_time": "2021-03-19T11:54:22.813538",
     "status": "completed"
    },
    "tags": []
   },
   "outputs": [
    {
     "data": {
      "image/png": "[encoded data removed]",
      "text/plain": [
       "<Figure size 1296x2016 with 11 Axes>"
      ]
     },
     "metadata": {
      "needs_background": "light"
     },
     "output_type": "display_data"
    }
   ],
   "source": [
    "#hide_input\n",
    "df = dft_ct_new_cases.copy()\n",
    "df.loc['Total'] = df.sum()\n",
    "n = 5\n",
    "ax = []\n",
    "fig = plt.figure(figsize = (18,28))\n",
    "gs = fig.add_gridspec(n+2, 5)\n",
    "# gs = fig.add_gridspec(2, 3)\n",
    "ax1 = fig.add_subplot(gs[0, :])\n",
    "ef = df.loc['Total'].rename_axis('date').reset_index()\n",
    "ef['date'] = ef['date'].astype('datetime64[ns]')\n",
    "ax1.bar(ef.date,ef.Total,alpha=0.3,color='#007acc')\n",
    "ax1.plot(ef.date,ef.Total , marker=\"o\", color='#007acc')\n",
    "ax1.xaxis.set_major_locator(mdates.WeekdayLocator())\n",
    "ax1.xaxis.set_major_formatter(mdates.DateFormatter('%b %d'))\n",
    "ax1.text(0.02, 0.5,'India daily case count', transform = ax1.transAxes, fontsize=25);\n",
    "ax1.spines['right'].set_visible(False)\n",
    "ax1.spines['top'].set_visible(False)\n",
    "\n",
    "ax2 = fig.add_subplot(gs[1,0])\n",
    "ef = df.loc['Maharashtra'].rename_axis('date').reset_index()\n",
    "ef['date'] = ef['date'].astype('datetime64[ns]')\n",
    "\n",
    "ax2.bar(ef.date, ef.Maharashtra,color = '#007acc',alpha=0.5)\n",
    "ax2.xaxis.set_major_locator(mdates.WeekdayLocator())\n",
    "ax2.xaxis.set_major_formatter(mdates.DateFormatter('%b %d'))\n",
    "ax2.set_xticks(ax2.get_xticks()[::3])\n",
    "maxyval = ef.Maharashtra.max()\n",
    "ax2.set_ylim([0,maxyval])\n",
    "ax2.text(0.05, 0.9,'Maharashtra', transform = ax2.transAxes, fontsize=20);\n",
    "ax2.spines['right'].set_visible(False)\n",
    "ax2.spines['top'].set_visible(False)\n",
    "\n",
    "\n",
    "ax3 = fig.add_subplot(gs[1,1])\n",
    "ef = df.loc['Tamil Nadu'].rename_axis('date').reset_index()\n",
    "ef['date'] = ef['date'].astype('datetime64[ns]')\n",
    "ax3.bar(ef.date, ef['Tamil Nadu'],color = '#007acc',alpha=0.5,)\n",
    "ax3.xaxis.set_major_locator(mdates.WeekdayLocator())\n",
    "ax3.xaxis.set_major_formatter(mdates.DateFormatter('%b %d'))\n",
    "ax3.set_xticks(ax3.get_xticks()[::3])\n",
    "ax3.text(0.05, 0.9,'Tamil Nadu', transform = ax3.transAxes, fontsize=20);\n",
    "ax3.spines['right'].set_visible(False)\n",
    "ax3.spines['top'].set_visible(False)\n",
    "\n",
    "ax5 = fig.add_subplot(gs[1,3])\n",
    "ef = df.loc['Telangana'].rename_axis('date').reset_index()\n",
    "ef['date'] = ef['date'].astype('datetime64[ns]')\n",
    "ax5.bar(ef.date, ef['Telangana'],color = '#007acc',alpha=0.5,)\n",
    "ax5.xaxis.set_major_locator(mdates.WeekdayLocator())\n",
    "ax5.xaxis.set_major_formatter(mdates.DateFormatter('%b %d'))\n",
    "ax5.set_xticks(ax5.get_xticks()[::3])\n",
    "ax5.text(0.05, 0.9,'Telangana', transform = ax5.transAxes, fontsize=20);\n",
    "ax5.spines['right'].set_visible(False)\n",
    "ax5.spines['top'].set_visible(False)\n",
    "\n",
    "ax6 = fig.add_subplot(gs[1,4])\n",
    "ef = df.loc['Andhra Pradesh'].rename_axis('date').reset_index()\n",
    "ef['date'] = ef['date'].astype('datetime64[ns]')\n",
    "ax6.bar(ef.date, ef['Andhra Pradesh'],color = '#007acc',alpha=0.5,)\n",
    "ax6.xaxis.set_major_locator(mdates.WeekdayLocator())\n",
    "ax6.xaxis.set_major_formatter(mdates.DateFormatter('%b %d'))\n",
    "ax6.set_xticks(ax6.get_xticks()[::3])\n",
    "ax6.text(0.05, 1,'Andhra Pradesh', transform = ax6.transAxes, fontsize=20);\n",
    "ax6.spines['right'].set_visible(False)\n",
    "ax6.spines['top'].set_visible(False)\n",
    "\n",
    "ax4 = fig.add_subplot(gs[1,2])\n",
    "ef = df.loc['Delhi'].rename_axis('date').reset_index()\n",
    "ef['date'] = ef['date'].astype('datetime64[ns]')\n",
    "ax4.bar(ef.date, ef.Delhi,color = '#007acc',alpha=0.5)\n",
    "ax4.set_xticks([])\n",
    "ax4.xaxis.set_major_locator(mdates.WeekdayLocator())\n",
    "ax4.xaxis.set_major_formatter(mdates.DateFormatter('%b %d'))\n",
    "ax4.set_xticks(ax4.get_xticks()[::3])\n",
    "ax4.spines['right'].set_visible(False)\n",
    "ax4.spines['top'].set_visible(False)\n",
    "\n",
    "ax4.text(0.05, 1,'Delhi', transform = ax4.transAxes, fontsize=20)\n",
    "\n",
    "for i in range(n):\n",
    "    \n",
    "    ax.append(fig.add_subplot(gs[i+2,:]))\n",
    "    ef = df.iloc[i+3].rename_axis('date').reset_index()\n",
    "    ef['date'] = ef['date'].astype('datetime64[ns]')\n",
    "    ax[i].bar(ef.date,ef.iloc[:,-1],color = '#007acc',alpha=0.3)\n",
    "    ax[i].plot(ef.date,ef.iloc[:,-1],marker='o',color='#007acc')\n",
    "    ax[i].text(0.02,0.5,f'{ef.columns.values[-1]}',transform = ax[i].transAxes, fontsize = 20);\n",
    "    ax[i].xaxis.set_major_locator(mdates.WeekdayLocator())\n",
    "    ax[i].xaxis.set_major_formatter(mdates.DateFormatter('%b %d'))\n",
    "    ax[i].set_ylim([0,7000])\n",
    "    ax[i].spines['right'].set_visible(False)\n",
    "    ax[i].spines['top'].set_visible(False)\n",
    "plt.tight_layout()\n"
   ]
  },
  {
   "cell_type": "code",
   "execution_count": 20,
   "id": "dress-forge",
   "metadata": {
    "execution": {
     "iopub.execute_input": "2021-03-19T11:54:31.966039Z",
     "iopub.status.busy": "2021-03-19T11:54:31.965433Z",
     "iopub.status.idle": "2021-03-19T11:54:31.971129Z",
     "shell.execute_reply": "2021-03-19T11:54:31.970599Z"
    },
    "papermill": {
     "duration": 0.039802,
     "end_time": "2021-03-19T11:54:31.971254",
     "exception": false,
     "start_time": "2021-03-19T11:54:31.931452",
     "status": "completed"
    },
    "tags": []
   },
   "outputs": [
    {
     "name": "stdout",
     "output_type": "stream",
     "text": [
      "                                   states    Cases  Deaths   PCases  PDeaths  Cases (+)  Deaths (+)  Fatality Rate\n",
      "                              Maharashtra  2396340   53138  2396340    53138          0           0           2.22\n",
      "                                   Kerala  1098292    4451  1098292     4451          0           0           0.41\n",
      "                                Karnataka   965102   12415   965102    12415          0           0           1.29\n",
      "                           Andhra Pradesh   892740    7186   892740     7186          0           0           0.80\n",
      "                               Tamil Nadu   863363   12573   863363    12573          0           0           1.46\n",
      "                                    Delhi   645632   10949   645632    10949          0           0           1.70\n",
      "                            Uttar Pradesh   606229    8753   606229     8753          0           0           1.44\n",
      "                              West Bengal   579479   10300   579479    10300          0           0           1.78\n",
      "                                   Odisha   338599    1971   338489     1971        110           0           0.58\n",
      "                                Rajasthan   324101    2794   324101     2794          0           0           0.86\n",
      "                             Chhattisgarh   320783    3920   320783     3920          0           0           1.22\n",
      "                                Telangana   302360    1664   302047     1662        313           2           0.55\n",
      "                                  Gujarat   282449    4433   282449     4433          0           0           1.57\n",
      "                                  Haryana   277268    3089   277268     3089          0           0           1.11\n",
      "                           Madhya Pradesh   271957    3894   271957     3894          0           0           1.43\n",
      "                                    Bihar   263265    1555   263265     1555          0           0           0.59\n",
      "                                    Assam   217905    1100   217905     1100          0           0           0.50\n",
      "                                   Punjab   205418    6204   205418     6204          0           0           3.02\n",
      "                        Jammu and Kashmir   128097    1978   128097     1978          0           0           1.54\n",
      "                                Jharkhand   120950    1094   120950     1094          0           0           0.90\n",
      "                              Uttarakhand    98129    1704    98129     1704          0           0           1.74\n",
      "                         Himachal Pradesh    60207    1000    60207     1000          0           0           1.66\n",
      "                                      Goa    56271     813    56271      813          0           0           1.44\n",
      "                               Puducherry    40262     674    40201      674         61           0           1.67\n",
      "                                  Tripura    33451     388    33441      388         10           0           1.16\n",
      "                                  Manipur    29325     373    29325      373          0           0           1.27\n",
      "                               Chandigarh    23803     359    23803      359          0           0           1.51\n",
      "                        Arunachal Pradesh    16842      56    16842       56          0           0           0.33\n",
      "                                Meghalaya    14005     148    14005      148          0           0           1.06\n",
      "                                 Nagaland    12225      91    12225       91          0           0           0.74\n",
      "                                   Ladakh     9876     130     9876      130          0           0           1.32\n",
      "                                   Sikkim     6196     135     6196      135          0           0           2.18\n",
      "              Andaman and Nicobar Islands     5036      62     5036       62          0           0           1.23\n",
      "                                  Mizoram     4445      11     4445       11          0           0           0.25\n",
      " Dadra and Nagar Haveli and Daman and Diu     3442       2     3436        2          6           0           0.06\n",
      "                              Lakshadweep      645       1      645        1          0           0           0.16\n"
     ]
    }
   ],
   "source": [
    "#hide_input\n",
    "print(df_table.to_string(index=False))"
   ]
  },
  {
   "cell_type": "code",
   "execution_count": null,
   "id": "quantitative-legend",
   "metadata": {
    "papermill": {
     "duration": 0.025733,
     "end_time": "2021-03-19T11:54:32.023058",
     "exception": false,
     "start_time": "2021-03-19T11:54:31.997325",
     "status": "completed"
    },
    "tags": []
   },
   "outputs": [],
   "source": []
  },
  {
   "cell_type": "code",
   "execution_count": null,
   "id": "distant-acoustic",
   "metadata": {
    "papermill": {
     "duration": 0.025588,
     "end_time": "2021-03-19T11:54:32.074233",
     "exception": false,
     "start_time": "2021-03-19T11:54:32.048645",
     "status": "completed"
    },
    "tags": []
   },
   "outputs": [],
   "source": []
  }
 ],
 "metadata": {
  "kernelspec": {
   "display_name": "Python 3",
   "language": "python",
   "name": "python3"
  },
  "language_info": {
   "codemirror_mode": {
    "name": "ipython",
    "version": 3
   },
   "file_extension": ".py",
   "mimetype": "text/x-python",
   "name": "python",
   "nbconvert_exporter": "python",
   "pygments_lexer": "ipython3",
   "version": "3.6.13"
  },
  "papermill": {
   "duration": 20.256448,
   "end_time": "2021-03-19T11:54:32.710978",
   "environment_variables": {},
   "exception": null,
   "input_path": "latest.ipynb",
   "output_path": "latest.ipynb",
   "parameters": {},
   "start_time": "2021-03-19T11:54:12.454530",
   "version": "2.1.2"
  }
 },
 "nbformat": 4,
 "nbformat_minor": 5
}