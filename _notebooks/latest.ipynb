{
 "cells": [
  {
   "cell_type": "markdown",
   "metadata": {
    "papermill": {
     "duration": 0.020154,
     "end_time": "2020-10-05T07:52:30.851501",
     "exception": false,
     "start_time": "2020-10-05T07:52:30.831347",
     "status": "completed"
    },
    "tags": []
   },
   "source": [
    "# Latest COVID-19 India Matplotlib Overview"
   ]
  },
  {
   "cell_type": "code",
   "execution_count": 1,
   "metadata": {
    "execution": {
     "iopub.execute_input": "2020-10-05T07:52:30.888810Z",
     "iopub.status.busy": "2020-10-05T07:52:30.888139Z",
     "iopub.status.idle": "2020-10-05T07:52:31.481475Z",
     "shell.execute_reply": "2020-10-05T07:52:31.480776Z"
    },
    "papermill": {
     "duration": 0.61475,
     "end_time": "2020-10-05T07:52:31.481678",
     "exception": false,
     "start_time": "2020-10-05T07:52:30.866928",
     "status": "completed"
    },
    "tags": []
   },
   "outputs": [],
   "source": [
    "#hide\n",
    "import pandas as pd\n",
    "import numpy as np\n",
    "import requests\n",
    "import json\n",
    "import matplotlib.pyplot as plt\n",
    "import matplotlib.dates as mdates\n",
    "import matplotlib as mpl\n",
    "from IPython.core.display import display,HTML\n",
    "%matplotlib inline\n",
    "from datetime import date"
   ]
  },
  {
   "cell_type": "code",
   "execution_count": 2,
   "metadata": {
    "execution": {
     "iopub.execute_input": "2020-10-05T07:52:31.516792Z",
     "iopub.status.busy": "2020-10-05T07:52:31.516128Z",
     "iopub.status.idle": "2020-10-05T07:52:31.640418Z",
     "shell.execute_reply": "2020-10-05T07:52:31.639842Z"
    },
    "papermill": {
     "duration": 0.142979,
     "end_time": "2020-10-05T07:52:31.640562",
     "exception": false,
     "start_time": "2020-10-05T07:52:31.497583",
     "status": "completed"
    },
    "tags": []
   },
   "outputs": [],
   "source": [
    "#hide\n",
    "df  = pd.read_csv('https://api.covid19india.org/csv/latest/states.csv')\n",
    "df = df[['Date','State','Confirmed','Deceased']]\n",
    "df = df.rename(columns={'Confirmed':'Cases', \"Deceased\":'Deaths'})\n",
    "df_cases = df[[\"Date\",'State','Cases']]\n",
    "df_deaths = df[['Date','State','Deaths']]\n",
    "df_cases1 = df_cases.groupby('Date')\n",
    "df_deaths1= df_deaths.groupby('Date')"
   ]
  },
  {
   "cell_type": "code",
   "execution_count": 3,
   "metadata": {
    "execution": {
     "iopub.execute_input": "2020-10-05T07:52:31.677606Z",
     "iopub.status.busy": "2020-10-05T07:52:31.676919Z",
     "iopub.status.idle": "2020-10-05T07:52:31.696242Z",
     "shell.execute_reply": "2020-10-05T07:52:31.695664Z"
    },
    "papermill": {
     "duration": 0.039745,
     "end_time": "2020-10-05T07:52:31.696387",
     "exception": false,
     "start_time": "2020-10-05T07:52:31.656642",
     "status": "completed"
    },
    "tags": []
   },
   "outputs": [],
   "source": [
    "#hide\n",
    "df_snap = pd.read_csv('data/SnapshotCases-28-July.csv')\n",
    "arr_states = df_snap['states'].unique()\n",
    "arr_dates = df['Date'].unique()\n",
    "df_snap = df_snap.set_index('states')"
   ]
  },
  {
   "cell_type": "code",
   "execution_count": 4,
   "metadata": {
    "execution": {
     "iopub.execute_input": "2020-10-05T07:52:31.738846Z",
     "iopub.status.busy": "2020-10-05T07:52:31.738173Z",
     "iopub.status.idle": "2020-10-05T07:52:31.741069Z",
     "shell.execute_reply": "2020-10-05T07:52:31.741693Z"
    },
    "papermill": {
     "duration": 0.029801,
     "end_time": "2020-10-05T07:52:31.741847",
     "exception": false,
     "start_time": "2020-10-05T07:52:31.712046",
     "status": "completed"
    },
    "tags": []
   },
   "outputs": [
    {
     "data": {
      "text/plain": [
       "array(['Andaman and Nicobar Islands', 'Andhra Pradesh',\n",
       "       'Arunachal Pradesh', 'Assam', 'Bihar', 'Chandigarh',\n",
       "       'Dadra and Nagar Haveli and Daman and Diu', 'Delhi', 'Goa',\n",
       "       'Gujarat', 'Haryana', 'Himachal Pradesh', 'Jammu and Kashmir',\n",
       "       'Jharkhand', 'Karnataka', 'Kerala', 'Lakshadweep',\n",
       "       'Madhya Pradesh', 'Maharashtra', 'Manipur', 'Meghalaya', 'Mizoram',\n",
       "       'Nagaland', 'Odisha', 'Puducherry', 'Punjab', 'Rajasthan',\n",
       "       'Sikkim', 'Tamil Nadu', 'Telangana', 'Tripura', 'Uttar Pradesh',\n",
       "       'West Bengal', 'Chhattisgarh', 'Ladakh', 'Uttarakhand'],\n",
       "      dtype=object)"
      ]
     },
     "execution_count": 4,
     "metadata": {},
     "output_type": "execute_result"
    }
   ],
   "source": [
    "#hide\n",
    "arr_states[-9] = 'Puducherry'\n",
    "arr_states[-10] = 'Odisha'\n",
    "arr_states[6] = 'Dadra and Nagar Haveli and Daman and Diu'\n",
    "arr_states = np.append(arr_states,np.array(['Chhattisgarh','Ladakh','Uttarakhand']))\n",
    "arr_states"
   ]
  },
  {
   "cell_type": "code",
   "execution_count": 5,
   "metadata": {
    "execution": {
     "iopub.execute_input": "2020-10-05T07:52:31.785720Z",
     "iopub.status.busy": "2020-10-05T07:52:31.785076Z",
     "iopub.status.idle": "2020-10-05T07:52:31.792605Z",
     "shell.execute_reply": "2020-10-05T07:52:31.793229Z"
    },
    "papermill": {
     "duration": 0.034399,
     "end_time": "2020-10-05T07:52:31.793371",
     "exception": false,
     "start_time": "2020-10-05T07:52:31.758972",
     "status": "completed"
    },
    "tags": []
   },
   "outputs": [],
   "source": [
    "#hide\n",
    "dates = []\n",
    "for i in arr_dates:\n",
    "    if i>='2020-07-01':\n",
    "        dates.append(i)\n",
    "dict = {'states':dates}\n",
    "for i in arr_states:\n",
    "    dict[i] = [0]*len(dates)\n",
    "dft_cases = pd.DataFrame(dict)\n",
    "dft_deaths = pd.DataFrame(dict)\n"
   ]
  },
  {
   "cell_type": "code",
   "execution_count": 6,
   "metadata": {
    "execution": {
     "iopub.execute_input": "2020-10-05T07:52:31.832108Z",
     "iopub.status.busy": "2020-10-05T07:52:31.831450Z",
     "iopub.status.idle": "2020-10-05T07:52:33.506448Z",
     "shell.execute_reply": "2020-10-05T07:52:33.507050Z"
    },
    "papermill": {
     "duration": 1.697331,
     "end_time": "2020-10-05T07:52:33.507242",
     "exception": false,
     "start_time": "2020-10-05T07:52:31.809911",
     "status": "completed"
    },
    "tags": []
   },
   "outputs": [],
   "source": [
    "#hide\n",
    "for i in range(len(dates)):\n",
    "    df1_deaths = df_deaths1.get_group(dates[i])\n",
    "    for j in range(len(df1_deaths.index)):\n",
    "        if df1_deaths.iloc[j,1] in arr_states:\n",
    "            dft_deaths.loc[i,df1_deaths.iloc[j,1]] = df1_deaths.iloc[j,2]\n",
    "dft_deaths = dft_deaths.set_index('states')"
   ]
  },
  {
   "cell_type": "code",
   "execution_count": 7,
   "metadata": {
    "execution": {
     "iopub.execute_input": "2020-10-05T07:52:33.550150Z",
     "iopub.status.busy": "2020-10-05T07:52:33.548962Z",
     "iopub.status.idle": "2020-10-05T07:52:35.144188Z",
     "shell.execute_reply": "2020-10-05T07:52:35.143278Z"
    },
    "papermill": {
     "duration": 1.617851,
     "end_time": "2020-10-05T07:52:35.144329",
     "exception": false,
     "start_time": "2020-10-05T07:52:33.526478",
     "status": "completed"
    },
    "tags": []
   },
   "outputs": [],
   "source": [
    "#hide\n",
    "for i in range(len(dates)):\n",
    "    df1_cases = df_cases1.get_group(dates[i])\n",
    "    for j in range(len(df1_cases.index)):\n",
    "        if df1_cases.iloc[j,1] in arr_states:\n",
    "            dft_cases.loc[i,df1_cases.iloc[j,1]] = df1_cases.iloc[j,2]\n",
    "dft_cases = dft_cases.set_index('states')"
   ]
  },
  {
   "cell_type": "code",
   "execution_count": 8,
   "metadata": {
    "execution": {
     "iopub.execute_input": "2020-10-05T07:52:35.182409Z",
     "iopub.status.busy": "2020-10-05T07:52:35.180964Z",
     "iopub.status.idle": "2020-10-05T07:52:35.183124Z",
     "shell.execute_reply": "2020-10-05T07:52:35.183592Z"
    },
    "papermill": {
     "duration": 0.023126,
     "end_time": "2020-10-05T07:52:35.183736",
     "exception": false,
     "start_time": "2020-10-05T07:52:35.160610",
     "status": "completed"
    },
    "tags": []
   },
   "outputs": [],
   "source": [
    "#hide\n",
    "dft_cases = dft_cases.T\n",
    "dft_deaths = dft_deaths.T\n",
    "dt_today = dates[-1]\n",
    "dt_yday = dates[-2]"
   ]
  },
  {
   "cell_type": "code",
   "execution_count": 9,
   "metadata": {
    "execution": {
     "iopub.execute_input": "2020-10-05T07:52:35.224944Z",
     "iopub.status.busy": "2020-10-05T07:52:35.223217Z",
     "iopub.status.idle": "2020-10-05T07:52:35.228487Z",
     "shell.execute_reply": "2020-10-05T07:52:35.228992Z"
    },
    "papermill": {
     "duration": 0.026813,
     "end_time": "2020-10-05T07:52:35.229151",
     "exception": false,
     "start_time": "2020-10-05T07:52:35.202338",
     "status": "completed"
    },
    "tags": []
   },
   "outputs": [],
   "source": [
    "#hide\n",
    "dft_cases = dft_cases.reset_index()\n",
    "dft_deaths = dft_deaths.reset_index()\n",
    "dft_cases = dft_cases.rename(columns = {'index':'state'})\n",
    "dft_deaths = dft_deaths.rename(columns = {'index':'state'})"
   ]
  },
  {
   "cell_type": "code",
   "execution_count": 10,
   "metadata": {
    "execution": {
     "iopub.execute_input": "2020-10-05T07:52:35.270588Z",
     "iopub.status.busy": "2020-10-05T07:52:35.269966Z",
     "iopub.status.idle": "2020-10-05T07:52:35.272321Z",
     "shell.execute_reply": "2020-10-05T07:52:35.271571Z"
    },
    "papermill": {
     "duration": 0.027809,
     "end_time": "2020-10-05T07:52:35.272450",
     "exception": false,
     "start_time": "2020-10-05T07:52:35.244641",
     "status": "completed"
    },
    "tags": []
   },
   "outputs": [],
   "source": [
    "#hide\n",
    "dfc_cases = dft_cases.groupby('state')[dt_today].sum()\n",
    "dfc_deaths = dft_deaths.groupby('state')[dt_today].sum()\n",
    "dfp_cases = dft_cases.groupby('state')[dt_yday].sum()\n",
    "dfp_deaths = dft_deaths.groupby('state')[dt_yday].sum()"
   ]
  },
  {
   "cell_type": "code",
   "execution_count": 11,
   "metadata": {
    "execution": {
     "iopub.execute_input": "2020-10-05T07:52:35.318236Z",
     "iopub.status.busy": "2020-10-05T07:52:35.317567Z",
     "iopub.status.idle": "2020-10-05T07:52:35.331851Z",
     "shell.execute_reply": "2020-10-05T07:52:35.332393Z"
    },
    "papermill": {
     "duration": 0.044154,
     "end_time": "2020-10-05T07:52:35.332555",
     "exception": false,
     "start_time": "2020-10-05T07:52:35.288401",
     "status": "completed"
    },
    "tags": []
   },
   "outputs": [
    {
     "data": {
      "text/html": [
       "<div>\n",
       "<style scoped>\n",
       "    .dataframe tbody tr th:only-of-type {\n",
       "        vertical-align: middle;\n",
       "    }\n",
       "\n",
       "    .dataframe tbody tr th {\n",
       "        vertical-align: top;\n",
       "    }\n",
       "\n",
       "    .dataframe thead th {\n",
       "        text-align: right;\n",
       "    }\n",
       "</style>\n",
       "<table border=\"1\" class=\"dataframe\">\n",
       "  <thead>\n",
       "    <tr style=\"text-align: right;\">\n",
       "      <th></th>\n",
       "      <th>states</th>\n",
       "      <th>Cases</th>\n",
       "      <th>Deaths</th>\n",
       "      <th>PCases</th>\n",
       "      <th>PDeaths</th>\n",
       "    </tr>\n",
       "  </thead>\n",
       "  <tbody>\n",
       "    <tr>\n",
       "      <th>0</th>\n",
       "      <td>Maharashtra</td>\n",
       "      <td>1443409</td>\n",
       "      <td>38084</td>\n",
       "      <td>1443409</td>\n",
       "      <td>38084</td>\n",
       "    </tr>\n",
       "    <tr>\n",
       "      <th>1</th>\n",
       "      <td>Andhra Pradesh</td>\n",
       "      <td>719256</td>\n",
       "      <td>5981</td>\n",
       "      <td>719256</td>\n",
       "      <td>5981</td>\n",
       "    </tr>\n",
       "    <tr>\n",
       "      <th>2</th>\n",
       "      <td>Karnataka</td>\n",
       "      <td>640661</td>\n",
       "      <td>9286</td>\n",
       "      <td>640661</td>\n",
       "      <td>9286</td>\n",
       "    </tr>\n",
       "    <tr>\n",
       "      <th>3</th>\n",
       "      <td>Tamil Nadu</td>\n",
       "      <td>619996</td>\n",
       "      <td>9784</td>\n",
       "      <td>619996</td>\n",
       "      <td>9784</td>\n",
       "    </tr>\n",
       "    <tr>\n",
       "      <th>4</th>\n",
       "      <td>Uttar Pradesh</td>\n",
       "      <td>414466</td>\n",
       "      <td>6029</td>\n",
       "      <td>414466</td>\n",
       "      <td>6029</td>\n",
       "    </tr>\n",
       "  </tbody>\n",
       "</table>\n",
       "</div>"
      ],
      "text/plain": [
       "           states    Cases  Deaths   PCases  PDeaths\n",
       "0     Maharashtra  1443409   38084  1443409    38084\n",
       "1  Andhra Pradesh   719256    5981   719256     5981\n",
       "2       Karnataka   640661    9286   640661     9286\n",
       "3      Tamil Nadu   619996    9784   619996     9784\n",
       "4   Uttar Pradesh   414466    6029   414466     6029"
      ]
     },
     "execution_count": 11,
     "metadata": {},
     "output_type": "execute_result"
    }
   ],
   "source": [
    "#hide\n",
    "df_table = pd.DataFrame({'states': dfc_cases.index, 'Cases': dfc_cases.values, 'Deaths': dfc_deaths.values, 'PCases': dfp_cases.values, 'PDeaths': dfp_deaths.values}).set_index('states')\n",
    "df_table = df_table.sort_values(by = ['Cases','Deaths'], ascending = [False, False])\n",
    "df_table = df_table.reset_index()\n",
    "df_table.head()"
   ]
  },
  {
   "cell_type": "code",
   "execution_count": 12,
   "metadata": {
    "execution": {
     "iopub.execute_input": "2020-10-05T07:52:35.376335Z",
     "iopub.status.busy": "2020-10-05T07:52:35.375638Z",
     "iopub.status.idle": "2020-10-05T07:52:35.378466Z",
     "shell.execute_reply": "2020-10-05T07:52:35.377878Z"
    },
    "papermill": {
     "duration": 0.029705,
     "end_time": "2020-10-05T07:52:35.378580",
     "exception": false,
     "start_time": "2020-10-05T07:52:35.348875",
     "status": "completed"
    },
    "tags": []
   },
   "outputs": [],
   "source": [
    "#hide\n",
    "for c in 'Cases, Deaths'.split(', '):\n",
    "    df_table[f'{c} (+)'] = (df_table[c] - df_table[f'P{c}']).clip(0)\n",
    "df_table['Fatality Rate'] = (100* df_table['Deaths']/ df_table['Cases']).round(2)"
   ]
  },
  {
   "cell_type": "code",
   "execution_count": 13,
   "metadata": {
    "execution": {
     "iopub.execute_input": "2020-10-05T07:52:35.420083Z",
     "iopub.status.busy": "2020-10-05T07:52:35.419463Z",
     "iopub.status.idle": "2020-10-05T07:52:35.422170Z",
     "shell.execute_reply": "2020-10-05T07:52:35.422666Z"
    },
    "papermill": {
     "duration": 0.028434,
     "end_time": "2020-10-05T07:52:35.422791",
     "exception": false,
     "start_time": "2020-10-05T07:52:35.394357",
     "status": "completed"
    },
    "tags": []
   },
   "outputs": [
    {
     "data": {
      "text/html": [
       "<div>\n",
       "<style scoped>\n",
       "    .dataframe tbody tr th:only-of-type {\n",
       "        vertical-align: middle;\n",
       "    }\n",
       "\n",
       "    .dataframe tbody tr th {\n",
       "        vertical-align: top;\n",
       "    }\n",
       "\n",
       "    .dataframe thead th {\n",
       "        text-align: right;\n",
       "    }\n",
       "</style>\n",
       "<table border=\"1\" class=\"dataframe\">\n",
       "  <thead>\n",
       "    <tr style=\"text-align: right;\">\n",
       "      <th></th>\n",
       "      <th>states</th>\n",
       "      <th>Cases</th>\n",
       "      <th>Deaths</th>\n",
       "      <th>PCases</th>\n",
       "      <th>PDeaths</th>\n",
       "      <th>Cases (+)</th>\n",
       "      <th>Deaths (+)</th>\n",
       "      <th>Fatality Rate</th>\n",
       "    </tr>\n",
       "  </thead>\n",
       "  <tbody>\n",
       "    <tr>\n",
       "      <th>0</th>\n",
       "      <td>Maharashtra</td>\n",
       "      <td>1443409</td>\n",
       "      <td>38084</td>\n",
       "      <td>1443409</td>\n",
       "      <td>38084</td>\n",
       "      <td>0</td>\n",
       "      <td>0</td>\n",
       "      <td>2.64</td>\n",
       "    </tr>\n",
       "    <tr>\n",
       "      <th>1</th>\n",
       "      <td>Andhra Pradesh</td>\n",
       "      <td>719256</td>\n",
       "      <td>5981</td>\n",
       "      <td>719256</td>\n",
       "      <td>5981</td>\n",
       "      <td>0</td>\n",
       "      <td>0</td>\n",
       "      <td>0.83</td>\n",
       "    </tr>\n",
       "    <tr>\n",
       "      <th>2</th>\n",
       "      <td>Karnataka</td>\n",
       "      <td>640661</td>\n",
       "      <td>9286</td>\n",
       "      <td>640661</td>\n",
       "      <td>9286</td>\n",
       "      <td>0</td>\n",
       "      <td>0</td>\n",
       "      <td>1.45</td>\n",
       "    </tr>\n",
       "    <tr>\n",
       "      <th>3</th>\n",
       "      <td>Tamil Nadu</td>\n",
       "      <td>619996</td>\n",
       "      <td>9784</td>\n",
       "      <td>619996</td>\n",
       "      <td>9784</td>\n",
       "      <td>0</td>\n",
       "      <td>0</td>\n",
       "      <td>1.58</td>\n",
       "    </tr>\n",
       "    <tr>\n",
       "      <th>4</th>\n",
       "      <td>Uttar Pradesh</td>\n",
       "      <td>414466</td>\n",
       "      <td>6029</td>\n",
       "      <td>414466</td>\n",
       "      <td>6029</td>\n",
       "      <td>0</td>\n",
       "      <td>0</td>\n",
       "      <td>1.45</td>\n",
       "    </tr>\n",
       "  </tbody>\n",
       "</table>\n",
       "</div>"
      ],
      "text/plain": [
       "           states    Cases  Deaths   PCases  PDeaths  Cases (+)  Deaths (+)  \\\n",
       "0     Maharashtra  1443409   38084  1443409    38084          0           0   \n",
       "1  Andhra Pradesh   719256    5981   719256     5981          0           0   \n",
       "2       Karnataka   640661    9286   640661     9286          0           0   \n",
       "3      Tamil Nadu   619996    9784   619996     9784          0           0   \n",
       "4   Uttar Pradesh   414466    6029   414466     6029          0           0   \n",
       "\n",
       "   Fatality Rate  \n",
       "0           2.64  \n",
       "1           0.83  \n",
       "2           1.45  \n",
       "3           1.58  \n",
       "4           1.45  "
      ]
     },
     "execution_count": 13,
     "metadata": {},
     "output_type": "execute_result"
    }
   ],
   "source": [
    "#hide\n",
    "df_table.head()"
   ]
  },
  {
   "cell_type": "code",
   "execution_count": 14,
   "metadata": {
    "execution": {
     "iopub.execute_input": "2020-10-05T07:52:35.459583Z",
     "iopub.status.busy": "2020-10-05T07:52:35.458770Z",
     "iopub.status.idle": "2020-10-05T07:52:35.474953Z",
     "shell.execute_reply": "2020-10-05T07:52:35.475518Z"
    },
    "papermill": {
     "duration": 0.036875,
     "end_time": "2020-10-05T07:52:35.475643",
     "exception": false,
     "start_time": "2020-10-05T07:52:35.438768",
     "status": "completed"
    },
    "tags": []
   },
   "outputs": [
    {
     "data": {
      "text/plain": [
       "{'updated': '2020-10-05',\n",
       " 'since': '2020-10-04',\n",
       " 'Cases': 6623515,\n",
       " 'PCases': 6622180,\n",
       " 'Deaths': 102723,\n",
       " 'PDeaths': 102715,\n",
       " 'Cases (+)': 1335,\n",
       " 'Deaths (+)': 8}"
      ]
     },
     "execution_count": 14,
     "metadata": {},
     "output_type": "execute_result"
    }
   ],
   "source": [
    "#hide\n",
    "summary = {'updated':dates[-1], 'since':dates[-2]}\n",
    "list_names = ['Cases', 'PCases', 'Deaths', 'PDeaths', 'Cases (+)', 'Deaths (+)']\n",
    "for name in list_names:\n",
    "    summary[name] = df_table.sum()[name]\n",
    "summary"
   ]
  },
  {
   "cell_type": "code",
   "execution_count": 15,
   "metadata": {
    "execution": {
     "iopub.execute_input": "2020-10-05T07:52:35.528012Z",
     "iopub.status.busy": "2020-10-05T07:52:35.527339Z",
     "iopub.status.idle": "2020-10-05T07:52:35.529246Z",
     "shell.execute_reply": "2020-10-05T07:52:35.529719Z"
    },
    "papermill": {
     "duration": 0.02839,
     "end_time": "2020-10-05T07:52:35.529878",
     "exception": false,
     "start_time": "2020-10-05T07:52:35.501488",
     "status": "completed"
    },
    "tags": []
   },
   "outputs": [],
   "source": [
    "#hide\n",
    "overview = '''\n",
    "<!-- #######  HTML!! #########-->\n",
    "<h1 style=\"color: #5e9ca0; text-align: center;\">India</h1>\n",
    "<p style=\"text-align: center;\">Last update: <strong>{update}</strong></p>\n",
    "<p style=\"text-align: center;\">Confirmed cases:</p>\n",
    "<p style=\"text-align: center;font-size:24px;\">{cases} (<span style=\"color: #ff0000;\">+{new}</span>)</p>\n",
    "<p style=\"text-align: center;\">Confirmed deaths:</p>\n",
    "<p style=\"text-align: center;font-size:24px;\">{deaths} (<span style=\"color: #ff0000;\">+{dnew}</span>)</p>\n",
    "'''"
   ]
  },
  {
   "cell_type": "code",
   "execution_count": 16,
   "metadata": {
    "execution": {
     "iopub.execute_input": "2020-10-05T07:52:35.572597Z",
     "iopub.status.busy": "2020-10-05T07:52:35.571948Z",
     "iopub.status.idle": "2020-10-05T07:52:35.575725Z",
     "shell.execute_reply": "2020-10-05T07:52:35.575160Z"
    },
    "papermill": {
     "duration": 0.028076,
     "end_time": "2020-10-05T07:52:35.575874",
     "exception": false,
     "start_time": "2020-10-05T07:52:35.547798",
     "status": "completed"
    },
    "tags": []
   },
   "outputs": [
    {
     "data": {
      "text/html": [
       "\n",
       "<!-- #######  HTML!! #########-->\n",
       "<h1 style=\"color: #5e9ca0; text-align: center;\">India</h1>\n",
       "<p style=\"text-align: center;\">Last update: <strong>2020-10-05</strong></p>\n",
       "<p style=\"text-align: center;\">Confirmed cases:</p>\n",
       "<p style=\"text-align: center;font-size:24px;\">6623515 (<span style=\"color: #ff0000;\">+1335</span>)</p>\n",
       "<p style=\"text-align: center;\">Confirmed deaths:</p>\n",
       "<p style=\"text-align: center;font-size:24px;\">102723 (<span style=\"color: #ff0000;\">+8</span>)</p>\n"
      ],
      "text/plain": [
       "<IPython.core.display.HTML object>"
      ]
     },
     "metadata": {},
     "output_type": "display_data"
    }
   ],
   "source": [
    "#hide_input\n",
    "update = summary['updated']\n",
    "cases = summary['Cases']\n",
    "new = summary['Cases (+)']\n",
    "deaths = summary['Deaths']\n",
    "dnew = summary['Deaths (+)']\n",
    "\n",
    "html = HTML(overview.format(update=update, cases=cases,new=new,deaths=deaths,dnew=dnew))\n",
    "\n",
    "display(html)"
   ]
  },
  {
   "cell_type": "code",
   "execution_count": 17,
   "metadata": {
    "execution": {
     "iopub.execute_input": "2020-10-05T07:52:35.620595Z",
     "iopub.status.busy": "2020-10-05T07:52:35.619938Z",
     "iopub.status.idle": "2020-10-05T07:52:35.625634Z",
     "shell.execute_reply": "2020-10-05T07:52:35.626139Z"
    },
    "papermill": {
     "duration": 0.032245,
     "end_time": "2020-10-05T07:52:35.626299",
     "exception": false,
     "start_time": "2020-10-05T07:52:35.594054",
     "status": "completed"
    },
    "tags": []
   },
   "outputs": [],
   "source": [
    "#hide\n",
    "dt_cols = list(dft_cases.columns[1:])\n",
    "dft_ct_new_cases = dft_cases.groupby('state')[dt_cols].sum().diff(axis=1).fillna(0).astype(int)\n",
    "dft_ct_new_cases.sort_values(by = dates[-1], ascending = False,inplace = True)"
   ]
  },
  {
   "cell_type": "code",
   "execution_count": 18,
   "metadata": {
    "execution": {
     "iopub.execute_input": "2020-10-05T07:52:35.682430Z",
     "iopub.status.busy": "2020-10-05T07:52:35.681754Z",
     "iopub.status.idle": "2020-10-05T07:52:35.685376Z",
     "shell.execute_reply": "2020-10-05T07:52:35.684691Z"
    },
    "papermill": {
     "duration": 0.040531,
     "end_time": "2020-10-05T07:52:35.685498",
     "exception": false,
     "start_time": "2020-10-05T07:52:35.644967",
     "status": "completed"
    },
    "tags": []
   },
   "outputs": [
    {
     "data": {
      "text/html": [
       "<div>\n",
       "<style scoped>\n",
       "    .dataframe tbody tr th:only-of-type {\n",
       "        vertical-align: middle;\n",
       "    }\n",
       "\n",
       "    .dataframe tbody tr th {\n",
       "        vertical-align: top;\n",
       "    }\n",
       "\n",
       "    .dataframe thead th {\n",
       "        text-align: right;\n",
       "    }\n",
       "</style>\n",
       "<table border=\"1\" class=\"dataframe\">\n",
       "  <thead>\n",
       "    <tr style=\"text-align: right;\">\n",
       "      <th>states</th>\n",
       "      <th>2020-07-01</th>\n",
       "      <th>2020-07-02</th>\n",
       "      <th>2020-07-03</th>\n",
       "      <th>2020-07-04</th>\n",
       "      <th>2020-07-05</th>\n",
       "      <th>2020-07-06</th>\n",
       "      <th>2020-07-07</th>\n",
       "      <th>2020-07-08</th>\n",
       "      <th>2020-07-09</th>\n",
       "      <th>2020-07-10</th>\n",
       "      <th>...</th>\n",
       "      <th>2020-09-26</th>\n",
       "      <th>2020-09-27</th>\n",
       "      <th>2020-09-28</th>\n",
       "      <th>2020-09-29</th>\n",
       "      <th>2020-09-30</th>\n",
       "      <th>2020-10-01</th>\n",
       "      <th>2020-10-02</th>\n",
       "      <th>2020-10-03</th>\n",
       "      <th>2020-10-04</th>\n",
       "      <th>2020-10-05</th>\n",
       "    </tr>\n",
       "    <tr>\n",
       "      <th>state</th>\n",
       "      <th></th>\n",
       "      <th></th>\n",
       "      <th></th>\n",
       "      <th></th>\n",
       "      <th></th>\n",
       "      <th></th>\n",
       "      <th></th>\n",
       "      <th></th>\n",
       "      <th></th>\n",
       "      <th></th>\n",
       "      <th></th>\n",
       "      <th></th>\n",
       "      <th></th>\n",
       "      <th></th>\n",
       "      <th></th>\n",
       "      <th></th>\n",
       "      <th></th>\n",
       "      <th></th>\n",
       "      <th></th>\n",
       "      <th></th>\n",
       "      <th></th>\n",
       "    </tr>\n",
       "  </thead>\n",
       "  <tbody>\n",
       "    <tr>\n",
       "      <th>Telangana</th>\n",
       "      <td>0</td>\n",
       "      <td>1213</td>\n",
       "      <td>1892</td>\n",
       "      <td>1850</td>\n",
       "      <td>1590</td>\n",
       "      <td>1831</td>\n",
       "      <td>1879</td>\n",
       "      <td>1924</td>\n",
       "      <td>1410</td>\n",
       "      <td>1278</td>\n",
       "      <td>...</td>\n",
       "      <td>2239</td>\n",
       "      <td>1967</td>\n",
       "      <td>1378</td>\n",
       "      <td>2072</td>\n",
       "      <td>2103</td>\n",
       "      <td>2214</td>\n",
       "      <td>2009</td>\n",
       "      <td>1718</td>\n",
       "      <td>1949</td>\n",
       "      <td>1335</td>\n",
       "    </tr>\n",
       "    <tr>\n",
       "      <th>Andaman and Nicobar Islands</th>\n",
       "      <td>0</td>\n",
       "      <td>9</td>\n",
       "      <td>7</td>\n",
       "      <td>3</td>\n",
       "      <td>6</td>\n",
       "      <td>16</td>\n",
       "      <td>6</td>\n",
       "      <td>2</td>\n",
       "      <td>7</td>\n",
       "      <td>0</td>\n",
       "      <td>...</td>\n",
       "      <td>15</td>\n",
       "      <td>20</td>\n",
       "      <td>9</td>\n",
       "      <td>18</td>\n",
       "      <td>14</td>\n",
       "      <td>13</td>\n",
       "      <td>10</td>\n",
       "      <td>10</td>\n",
       "      <td>16</td>\n",
       "      <td>0</td>\n",
       "    </tr>\n",
       "    <tr>\n",
       "      <th>Puducherry</th>\n",
       "      <td>0</td>\n",
       "      <td>63</td>\n",
       "      <td>22</td>\n",
       "      <td>80</td>\n",
       "      <td>42</td>\n",
       "      <td>65</td>\n",
       "      <td>30</td>\n",
       "      <td>110</td>\n",
       "      <td>49</td>\n",
       "      <td>72</td>\n",
       "      <td>...</td>\n",
       "      <td>543</td>\n",
       "      <td>368</td>\n",
       "      <td>285</td>\n",
       "      <td>381</td>\n",
       "      <td>478</td>\n",
       "      <td>480</td>\n",
       "      <td>510</td>\n",
       "      <td>218</td>\n",
       "      <td>337</td>\n",
       "      <td>0</td>\n",
       "    </tr>\n",
       "    <tr>\n",
       "      <th>Maharashtra</th>\n",
       "      <td>0</td>\n",
       "      <td>6328</td>\n",
       "      <td>6364</td>\n",
       "      <td>7074</td>\n",
       "      <td>6555</td>\n",
       "      <td>5368</td>\n",
       "      <td>5134</td>\n",
       "      <td>6603</td>\n",
       "      <td>6875</td>\n",
       "      <td>7862</td>\n",
       "      <td>...</td>\n",
       "      <td>20419</td>\n",
       "      <td>18056</td>\n",
       "      <td>11921</td>\n",
       "      <td>14976</td>\n",
       "      <td>18317</td>\n",
       "      <td>16476</td>\n",
       "      <td>15591</td>\n",
       "      <td>14348</td>\n",
       "      <td>12548</td>\n",
       "      <td>0</td>\n",
       "    </tr>\n",
       "    <tr>\n",
       "      <th>Manipur</th>\n",
       "      <td>0</td>\n",
       "      <td>19</td>\n",
       "      <td>37</td>\n",
       "      <td>9</td>\n",
       "      <td>41</td>\n",
       "      <td>24</td>\n",
       "      <td>40</td>\n",
       "      <td>5</td>\n",
       "      <td>15</td>\n",
       "      <td>132</td>\n",
       "      <td>...</td>\n",
       "      <td>260</td>\n",
       "      <td>248</td>\n",
       "      <td>178</td>\n",
       "      <td>269</td>\n",
       "      <td>237</td>\n",
       "      <td>128</td>\n",
       "      <td>286</td>\n",
       "      <td>252</td>\n",
       "      <td>206</td>\n",
       "      <td>0</td>\n",
       "    </tr>\n",
       "  </tbody>\n",
       "</table>\n",
       "<p>5 rows × 97 columns</p>\n",
       "</div>"
      ],
      "text/plain": [
       "states                       2020-07-01  2020-07-02  2020-07-03  2020-07-04  \\\n",
       "state                                                                         \n",
       "Telangana                             0        1213        1892        1850   \n",
       "Andaman and Nicobar Islands           0           9           7           3   \n",
       "Puducherry                            0          63          22          80   \n",
       "Maharashtra                           0        6328        6364        7074   \n",
       "Manipur                               0          19          37           9   \n",
       "\n",
       "states                       2020-07-05  2020-07-06  2020-07-07  2020-07-08  \\\n",
       "state                                                                         \n",
       "Telangana                          1590        1831        1879        1924   \n",
       "Andaman and Nicobar Islands           6          16           6           2   \n",
       "Puducherry                           42          65          30         110   \n",
       "Maharashtra                        6555        5368        5134        6603   \n",
       "Manipur                              41          24          40           5   \n",
       "\n",
       "states                       2020-07-09  2020-07-10  ...  2020-09-26  \\\n",
       "state                                                ...               \n",
       "Telangana                          1410        1278  ...        2239   \n",
       "Andaman and Nicobar Islands           7           0  ...          15   \n",
       "Puducherry                           49          72  ...         543   \n",
       "Maharashtra                        6875        7862  ...       20419   \n",
       "Manipur                              15         132  ...         260   \n",
       "\n",
       "states                       2020-09-27  2020-09-28  2020-09-29  2020-09-30  \\\n",
       "state                                                                         \n",
       "Telangana                          1967        1378        2072        2103   \n",
       "Andaman and Nicobar Islands          20           9          18          14   \n",
       "Puducherry                          368         285         381         478   \n",
       "Maharashtra                       18056       11921       14976       18317   \n",
       "Manipur                             248         178         269         237   \n",
       "\n",
       "states                       2020-10-01  2020-10-02  2020-10-03  2020-10-04  \\\n",
       "state                                                                         \n",
       "Telangana                          2214        2009        1718        1949   \n",
       "Andaman and Nicobar Islands          13          10          10          16   \n",
       "Puducherry                          480         510         218         337   \n",
       "Maharashtra                       16476       15591       14348       12548   \n",
       "Manipur                             128         286         252         206   \n",
       "\n",
       "states                       2020-10-05  \n",
       "state                                    \n",
       "Telangana                          1335  \n",
       "Andaman and Nicobar Islands           0  \n",
       "Puducherry                            0  \n",
       "Maharashtra                           0  \n",
       "Manipur                               0  \n",
       "\n",
       "[5 rows x 97 columns]"
      ]
     },
     "execution_count": 18,
     "metadata": {},
     "output_type": "execute_result"
    }
   ],
   "source": [
    "#hide\n",
    "dft_ct_new_cases.head()"
   ]
  },
  {
   "cell_type": "code",
   "execution_count": 19,
   "metadata": {
    "execution": {
     "iopub.execute_input": "2020-10-05T07:52:35.724707Z",
     "iopub.status.busy": "2020-10-05T07:52:35.724032Z",
     "iopub.status.idle": "2020-10-05T07:52:40.200317Z",
     "shell.execute_reply": "2020-10-05T07:52:40.200820Z"
    },
    "papermill": {
     "duration": 4.497399,
     "end_time": "2020-10-05T07:52:40.200983",
     "exception": false,
     "start_time": "2020-10-05T07:52:35.703584",
     "status": "completed"
    },
    "tags": []
   },
   "outputs": [
    {
     "data": {
      "image/png": "[encoded data removed]",
      "text/plain": [
       "<Figure size 1296x2016 with 11 Axes>"
      ]
     },
     "metadata": {
      "needs_background": "light"
     },
     "output_type": "display_data"
    }
   ],
   "source": [
    "#hide_input\n",
    "df = dft_ct_new_cases.copy()\n",
    "df.loc['Total'] = df.sum()\n",
    "n = 5\n",
    "ax = []\n",
    "fig = plt.figure(figsize = (18,28))\n",
    "gs = fig.add_gridspec(n+2, 5)\n",
    "# gs = fig.add_gridspec(2, 3)\n",
    "ax1 = fig.add_subplot(gs[0, :])\n",
    "ef = df.loc['Total'].rename_axis('date').reset_index()\n",
    "ef['date'] = ef['date'].astype('datetime64[ns]')\n",
    "ax1.bar(ef.date,ef.Total,alpha=0.3,color='#007acc')\n",
    "ax1.plot(ef.date,ef.Total , marker=\"o\", color='#007acc')\n",
    "ax1.xaxis.set_major_locator(mdates.WeekdayLocator())\n",
    "ax1.xaxis.set_major_formatter(mdates.DateFormatter('%b %d'))\n",
    "ax1.text(0.02, 0.5,'India daily case count', transform = ax1.transAxes, fontsize=25);\n",
    "ax1.spines['right'].set_visible(False)\n",
    "ax1.spines['top'].set_visible(False)\n",
    "\n",
    "ax2 = fig.add_subplot(gs[1,0])\n",
    "ef = df.loc['Maharashtra'].rename_axis('date').reset_index()\n",
    "ef['date'] = ef['date'].astype('datetime64[ns]')\n",
    "\n",
    "ax2.bar(ef.date, ef.Maharashtra,color = '#007acc',alpha=0.5)\n",
    "ax2.xaxis.set_major_locator(mdates.WeekdayLocator())\n",
    "ax2.xaxis.set_major_formatter(mdates.DateFormatter('%b %d'))\n",
    "ax2.set_xticks(ax2.get_xticks()[::3])\n",
    "maxyval = ef.Maharashtra.max()\n",
    "ax2.set_ylim([0,maxyval])\n",
    "ax2.text(0.05, 0.9,'Maharashtra', transform = ax2.transAxes, fontsize=20);\n",
    "ax2.spines['right'].set_visible(False)\n",
    "ax2.spines['top'].set_visible(False)\n",
    "\n",
    "\n",
    "ax3 = fig.add_subplot(gs[1,1])\n",
    "ef = df.loc['Tamil Nadu'].rename_axis('date').reset_index()\n",
    "ef['date'] = ef['date'].astype('datetime64[ns]')\n",
    "ax3.bar(ef.date, ef['Tamil Nadu'],color = '#007acc',alpha=0.5,)\n",
    "ax3.xaxis.set_major_locator(mdates.WeekdayLocator())\n",
    "ax3.xaxis.set_major_formatter(mdates.DateFormatter('%b %d'))\n",
    "ax3.set_xticks(ax3.get_xticks()[::3])\n",
    "ax3.text(0.05, 0.9,'Tamil Nadu', transform = ax3.transAxes, fontsize=20);\n",
    "ax3.spines['right'].set_visible(False)\n",
    "ax3.spines['top'].set_visible(False)\n",
    "\n",
    "ax5 = fig.add_subplot(gs[1,3])\n",
    "ef = df.loc['Telangana'].rename_axis('date').reset_index()\n",
    "ef['date'] = ef['date'].astype('datetime64[ns]')\n",
    "ax5.bar(ef.date, ef['Telangana'],color = '#007acc',alpha=0.5,)\n",
    "ax5.xaxis.set_major_locator(mdates.WeekdayLocator())\n",
    "ax5.xaxis.set_major_formatter(mdates.DateFormatter('%b %d'))\n",
    "ax5.set_xticks(ax5.get_xticks()[::3])\n",
    "ax5.text(0.05, 0.9,'Telangana', transform = ax5.transAxes, fontsize=20);\n",
    "ax5.spines['right'].set_visible(False)\n",
    "ax5.spines['top'].set_visible(False)\n",
    "\n",
    "ax6 = fig.add_subplot(gs[1,4])\n",
    "ef = df.loc['Andhra Pradesh'].rename_axis('date').reset_index()\n",
    "ef['date'] = ef['date'].astype('datetime64[ns]')\n",
    "ax6.bar(ef.date, ef['Andhra Pradesh'],color = '#007acc',alpha=0.5,)\n",
    "ax6.xaxis.set_major_locator(mdates.WeekdayLocator())\n",
    "ax6.xaxis.set_major_formatter(mdates.DateFormatter('%b %d'))\n",
    "ax6.set_xticks(ax6.get_xticks()[::3])\n",
    "ax6.text(0.05, 1,'Andhra Pradesh', transform = ax6.transAxes, fontsize=20);\n",
    "ax6.spines['right'].set_visible(False)\n",
    "ax6.spines['top'].set_visible(False)\n",
    "\n",
    "ax4 = fig.add_subplot(gs[1,2])\n",
    "ef = df.loc['Delhi'].rename_axis('date').reset_index()\n",
    "ef['date'] = ef['date'].astype('datetime64[ns]')\n",
    "ax4.bar(ef.date, ef.Delhi,color = '#007acc',alpha=0.5)\n",
    "ax4.set_xticks([])\n",
    "ax4.xaxis.set_major_locator(mdates.WeekdayLocator())\n",
    "ax4.xaxis.set_major_formatter(mdates.DateFormatter('%b %d'))\n",
    "ax4.set_xticks(ax4.get_xticks()[::3])\n",
    "ax4.spines['right'].set_visible(False)\n",
    "ax4.spines['top'].set_visible(False)\n",
    "\n",
    "ax4.text(0.05, 1,'Delhi', transform = ax4.transAxes, fontsize=20)\n",
    "\n",
    "for i in range(n):\n",
    "    \n",
    "    ax.append(fig.add_subplot(gs[i+2,:]))\n",
    "    ef = df.iloc[i+3].rename_axis('date').reset_index()\n",
    "    ef['date'] = ef['date'].astype('datetime64[ns]')\n",
    "    ax[i].bar(ef.date,ef.iloc[:,-1],color = '#007acc',alpha=0.3)\n",
    "    ax[i].plot(ef.date,ef.iloc[:,-1],marker='o',color='#007acc')\n",
    "    ax[i].text(0.02,0.5,f'{ef.columns.values[-1]}',transform = ax[i].transAxes, fontsize = 20);\n",
    "    ax[i].xaxis.set_major_locator(mdates.WeekdayLocator())\n",
    "    ax[i].xaxis.set_major_formatter(mdates.DateFormatter('%b %d'))\n",
    "    ax[i].set_ylim([0,7000])\n",
    "    ax[i].spines['right'].set_visible(False)\n",
    "    ax[i].spines['top'].set_visible(False)\n",
    "plt.tight_layout()\n"
   ]
  },
  {
   "cell_type": "code",
   "execution_count": 20,
   "metadata": {
    "execution": {
     "iopub.execute_input": "2020-10-05T07:52:40.256281Z",
     "iopub.status.busy": "2020-10-05T07:52:40.255630Z",
     "iopub.status.idle": "2020-10-05T07:52:40.259249Z",
     "shell.execute_reply": "2020-10-05T07:52:40.258696Z"
    },
    "papermill": {
     "duration": 0.034531,
     "end_time": "2020-10-05T07:52:40.259391",
     "exception": false,
     "start_time": "2020-10-05T07:52:40.224860",
     "status": "completed"
    },
    "tags": []
   },
   "outputs": [
    {
     "name": "stdout",
     "output_type": "stream",
     "text": [
      "                                   states    Cases  Deaths   PCases  PDeaths  Cases (+)  Deaths (+)  Fatality Rate\n",
      "                              Maharashtra  1443409   38084  1443409    38084          0           0           2.64\n",
      "                           Andhra Pradesh   719256    5981   719256     5981          0           0           0.83\n",
      "                                Karnataka   640661    9286   640661     9286          0           0           1.45\n",
      "                               Tamil Nadu   619996    9784   619996     9784          0           0           1.58\n",
      "                            Uttar Pradesh   414466    6029   414466     6029          0           0           1.45\n",
      "                                    Delhi   290613    5510   290613     5510          0           0           1.90\n",
      "                              West Bengal   270331    5194   270331     5194          0           0           1.92\n",
      "                                   Odisha   232713     960   232713      960          0           0           0.41\n",
      "                                   Kerala   229887     837   229887      837          0           0           0.36\n",
      "                                Telangana   200611    1171   199276     1163       1335           8           0.58\n",
      "                                    Bihar   187951     915   187951      915          0           0           0.49\n",
      "                                    Assam   186200     749   186200      749          0           0           0.40\n",
      "                                Rajasthan   144030    1545   144030     1545          0           0           1.07\n",
      "                                  Gujarat   142699    3499   142699     3499          0           0           2.45\n",
      "                           Madhya Pradesh   135638    2434   135638     2434          0           0           1.79\n",
      "                                  Haryana   133878    1470   133878     1470          0           0           1.10\n",
      "                             Chhattisgarh   123324    1045   123324     1045          0           0           0.85\n",
      "                                   Punjab   118157    3603   118157     3603          0           0           3.05\n",
      "                                Jharkhand    87210     743    87210      743          0           0           0.85\n",
      "                        Jammu and Kashmir    79106    1242    79106     1242          0           0           1.57\n",
      "                              Uttarakhand    51481     652    51481      652          0           0           1.27\n",
      "                                      Goa    35328     456    35328      456          0           0           1.29\n",
      "                               Puducherry    29089     539    29089      539          0           0           1.85\n",
      "                                  Tripura    26871     290    26871      290          0           0           1.08\n",
      "                         Himachal Pradesh    15851     212    15851      212          0           0           1.34\n",
      "                               Chandigarh    12445     174    12445      174          0           0           1.40\n",
      "                                  Manipur    11855      74    11855       74          0           0           0.62\n",
      "                        Arunachal Pradesh    10548      18    10548       18          0           0           0.17\n",
      "                                Meghalaya     6656      54     6656       54          0           0           0.81\n",
      "                                 Nagaland     6552      12     6552       12          0           0           0.18\n",
      "                                   Ladakh     4521      61     4521       61          0           0           1.35\n",
      "              Andaman and Nicobar Islands     3884      53     3884       53          0           0           1.36\n",
      "                                   Sikkim     3093      45     3093       45          0           0           1.45\n",
      " Dadra and Nagar Haveli and Daman and Diu     3085       2     3085        2          0           0           0.06\n",
      "                                  Mizoram     2120       0     2120        0          0           0           0.00\n",
      "                              Lakshadweep        0       0        0        0          0           0            NaN\n"
     ]
    }
   ],
   "source": [
    "#hide_input\n",
    "print(df_table.to_string(index=False))"
   ]
  },
  {
   "cell_type": "code",
   "execution_count": null,
   "metadata": {
    "papermill": {
     "duration": 0.0229,
     "end_time": "2020-10-05T07:52:40.306758",
     "exception": false,
     "start_time": "2020-10-05T07:52:40.283858",
     "status": "completed"
    },
    "tags": []
   },
   "outputs": [],
   "source": []
  },
  {
   "cell_type": "code",
   "execution_count": null,
   "metadata": {
    "papermill": {
     "duration": 0.023592,
     "end_time": "2020-10-05T07:52:40.353923",
     "exception": false,
     "start_time": "2020-10-05T07:52:40.330331",
     "status": "completed"
    },
    "tags": []
   },
   "outputs": [],
   "source": []
  }
 ],
 "metadata": {
  "kernelspec": {
   "display_name": "Python 3",
   "language": "python",
   "name": "python3"
  },
  "language_info": {
   "codemirror_mode": {
    "name": "ipython",
    "version": 3
   },
   "file_extension": ".py",
   "mimetype": "text/x-python",
   "name": "python",
   "nbconvert_exporter": "python",
   "pygments_lexer": "ipython3",
   "version": "3.6.12"
  },
  "papermill": {
   "duration": 11.110618,
   "end_time": "2020-10-05T07:52:40.884751",
   "environment_variables": {},
   "exception": null,
   "input_path": "latest.ipynb",
   "output_path": "latest.ipynb",
   "parameters": {},
   "start_time": "2020-10-05T07:52:29.774133",
   "version": "2.1.2"
  }
 },
 "nbformat": 4,
 "nbformat_minor": 4
}