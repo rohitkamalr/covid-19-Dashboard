{
 "cells": [
  {
   "cell_type": "markdown",
   "id": "colored-stack",
   "metadata": {
    "papermill": {
     "duration": 0.019213,
     "end_time": "2021-01-30T14:50:29.863586",
     "exception": false,
     "start_time": "2021-01-30T14:50:29.844373",
     "status": "completed"
    },
    "tags": []
   },
   "source": [
    "# Latest COVID-19 India Matplotlib Overview"
   ]
  },
  {
   "cell_type": "code",
   "execution_count": 1,
   "id": "light-proportion",
   "metadata": {
    "execution": {
     "iopub.execute_input": "2021-01-30T14:50:29.905152Z",
     "iopub.status.busy": "2021-01-30T14:50:29.904616Z",
     "iopub.status.idle": "2021-01-30T14:50:30.414779Z",
     "shell.execute_reply": "2021-01-30T14:50:30.415265Z"
    },
    "papermill": {
     "duration": 0.536479,
     "end_time": "2021-01-30T14:50:30.415452",
     "exception": false,
     "start_time": "2021-01-30T14:50:29.878973",
     "status": "completed"
    },
    "tags": []
   },
   "outputs": [],
   "source": [
    "#hide\n",
    "import pandas as pd\n",
    "import numpy as np\n",
    "import requests\n",
    "import json\n",
    "import matplotlib.pyplot as plt\n",
    "import matplotlib.dates as mdates\n",
    "import matplotlib as mpl\n",
    "from IPython.core.display import display,HTML\n",
    "%matplotlib inline\n",
    "from datetime import date"
   ]
  },
  {
   "cell_type": "code",
   "execution_count": 2,
   "id": "greenhouse-shooting",
   "metadata": {
    "execution": {
     "iopub.execute_input": "2021-01-30T14:50:30.452163Z",
     "iopub.status.busy": "2021-01-30T14:50:30.451608Z",
     "iopub.status.idle": "2021-01-30T14:50:30.631896Z",
     "shell.execute_reply": "2021-01-30T14:50:30.632356Z"
    },
    "papermill": {
     "duration": 0.202002,
     "end_time": "2021-01-30T14:50:30.632507",
     "exception": false,
     "start_time": "2021-01-30T14:50:30.430505",
     "status": "completed"
    },
    "tags": []
   },
   "outputs": [],
   "source": [
    "#hide\n",
    "df  = pd.read_csv('https://api.covid19india.org/csv/latest/states.csv')\n",
    "df = df[['Date','State','Confirmed','Deceased']]\n",
    "df = df.rename(columns={'Confirmed':'Cases', \"Deceased\":'Deaths'})\n",
    "df_cases = df[[\"Date\",'State','Cases']]\n",
    "df_deaths = df[['Date','State','Deaths']]\n",
    "df_cases1 = df_cases.groupby('Date')\n",
    "df_deaths1= df_deaths.groupby('Date')"
   ]
  },
  {
   "cell_type": "code",
   "execution_count": 3,
   "id": "hybrid-cathedral",
   "metadata": {
    "execution": {
     "iopub.execute_input": "2021-01-30T14:50:30.666891Z",
     "iopub.status.busy": "2021-01-30T14:50:30.666385Z",
     "iopub.status.idle": "2021-01-30T14:50:30.682042Z",
     "shell.execute_reply": "2021-01-30T14:50:30.681635Z"
    },
    "papermill": {
     "duration": 0.034665,
     "end_time": "2021-01-30T14:50:30.682153",
     "exception": false,
     "start_time": "2021-01-30T14:50:30.647488",
     "status": "completed"
    },
    "tags": []
   },
   "outputs": [],
   "source": [
    "#hide\n",
    "df_snap = pd.read_csv('data/SnapshotCases-28-July.csv')\n",
    "arr_states = df_snap['states'].unique()\n",
    "arr_dates = df['Date'].unique()\n",
    "df_snap = df_snap.set_index('states')"
   ]
  },
  {
   "cell_type": "code",
   "execution_count": 4,
   "id": "interior-belfast",
   "metadata": {
    "execution": {
     "iopub.execute_input": "2021-01-30T14:50:30.718250Z",
     "iopub.status.busy": "2021-01-30T14:50:30.717673Z",
     "iopub.status.idle": "2021-01-30T14:50:30.721940Z",
     "shell.execute_reply": "2021-01-30T14:50:30.721370Z"
    },
    "papermill": {
     "duration": 0.025278,
     "end_time": "2021-01-30T14:50:30.722046",
     "exception": false,
     "start_time": "2021-01-30T14:50:30.696768",
     "status": "completed"
    },
    "tags": []
   },
   "outputs": [
    {
     "data": {
      "text/plain": [
       "array(['Andaman and Nicobar Islands', 'Andhra Pradesh',\n",
       "       'Arunachal Pradesh', 'Assam', 'Bihar', 'Chandigarh',\n",
       "       'Dadra and Nagar Haveli and Daman and Diu', 'Delhi', 'Goa',\n",
       "       'Gujarat', 'Haryana', 'Himachal Pradesh', 'Jammu and Kashmir',\n",
       "       'Jharkhand', 'Karnataka', 'Kerala', 'Lakshadweep',\n",
       "       'Madhya Pradesh', 'Maharashtra', 'Manipur', 'Meghalaya', 'Mizoram',\n",
       "       'Nagaland', 'Odisha', 'Puducherry', 'Punjab', 'Rajasthan',\n",
       "       'Sikkim', 'Tamil Nadu', 'Telangana', 'Tripura', 'Uttar Pradesh',\n",
       "       'West Bengal', 'Chhattisgarh', 'Ladakh', 'Uttarakhand'],\n",
       "      dtype=object)"
      ]
     },
     "execution_count": 4,
     "metadata": {},
     "output_type": "execute_result"
    }
   ],
   "source": [
    "#hide\n",
    "arr_states[-9] = 'Puducherry'\n",
    "arr_states[-10] = 'Odisha'\n",
    "arr_states[6] = 'Dadra and Nagar Haveli and Daman and Diu'\n",
    "arr_states = np.append(arr_states,np.array(['Chhattisgarh','Ladakh','Uttarakhand']))\n",
    "arr_states"
   ]
  },
  {
   "cell_type": "code",
   "execution_count": 5,
   "id": "behind-manner",
   "metadata": {
    "execution": {
     "iopub.execute_input": "2021-01-30T14:50:30.762979Z",
     "iopub.status.busy": "2021-01-30T14:50:30.762444Z",
     "iopub.status.idle": "2021-01-30T14:50:30.770061Z",
     "shell.execute_reply": "2021-01-30T14:50:30.769643Z"
    },
    "papermill": {
     "duration": 0.033225,
     "end_time": "2021-01-30T14:50:30.770179",
     "exception": false,
     "start_time": "2021-01-30T14:50:30.736954",
     "status": "completed"
    },
    "tags": []
   },
   "outputs": [],
   "source": [
    "#hide\n",
    "dates = []\n",
    "for i in arr_dates:\n",
    "    if i>='2020-07-01':\n",
    "        dates.append(i)\n",
    "dict = {'states':dates}\n",
    "for i in arr_states:\n",
    "    dict[i] = [0]*len(dates)\n",
    "dft_cases = pd.DataFrame(dict)\n",
    "dft_deaths = pd.DataFrame(dict)\n"
   ]
  },
  {
   "cell_type": "code",
   "execution_count": 6,
   "id": "simplified-peter",
   "metadata": {
    "execution": {
     "iopub.execute_input": "2021-01-30T14:50:30.807176Z",
     "iopub.status.busy": "2021-01-30T14:50:30.806665Z",
     "iopub.status.idle": "2021-01-30T14:50:33.452193Z",
     "shell.execute_reply": "2021-01-30T14:50:33.451716Z"
    },
    "papermill": {
     "duration": 2.666901,
     "end_time": "2021-01-30T14:50:33.452322",
     "exception": false,
     "start_time": "2021-01-30T14:50:30.785421",
     "status": "completed"
    },
    "tags": []
   },
   "outputs": [],
   "source": [
    "#hide\n",
    "for i in range(len(dates)):\n",
    "    df1_deaths = df_deaths1.get_group(dates[i])\n",
    "    for j in range(len(df1_deaths.index)):\n",
    "        if df1_deaths.iloc[j,1] in arr_states:\n",
    "            dft_deaths.loc[i,df1_deaths.iloc[j,1]] = df1_deaths.iloc[j,2]\n",
    "dft_deaths = dft_deaths.set_index('states')"
   ]
  },
  {
   "cell_type": "code",
   "execution_count": 7,
   "id": "geological-welding",
   "metadata": {
    "execution": {
     "iopub.execute_input": "2021-01-30T14:50:33.488294Z",
     "iopub.status.busy": "2021-01-30T14:50:33.487755Z",
     "iopub.status.idle": "2021-01-30T14:50:36.081375Z",
     "shell.execute_reply": "2021-01-30T14:50:36.081854Z"
    },
    "papermill": {
     "duration": 2.614534,
     "end_time": "2021-01-30T14:50:36.082021",
     "exception": false,
     "start_time": "2021-01-30T14:50:33.467487",
     "status": "completed"
    },
    "tags": []
   },
   "outputs": [],
   "source": [
    "#hide\n",
    "for i in range(len(dates)):\n",
    "    df1_cases = df_cases1.get_group(dates[i])\n",
    "    for j in range(len(df1_cases.index)):\n",
    "        if df1_cases.iloc[j,1] in arr_states:\n",
    "            dft_cases.loc[i,df1_cases.iloc[j,1]] = df1_cases.iloc[j,2]\n",
    "dft_cases = dft_cases.set_index('states')"
   ]
  },
  {
   "cell_type": "code",
   "execution_count": 8,
   "id": "binary-ratio",
   "metadata": {
    "execution": {
     "iopub.execute_input": "2021-01-30T14:50:36.119012Z",
     "iopub.status.busy": "2021-01-30T14:50:36.118500Z",
     "iopub.status.idle": "2021-01-30T14:50:36.121800Z",
     "shell.execute_reply": "2021-01-30T14:50:36.121362Z"
    },
    "papermill": {
     "duration": 0.023369,
     "end_time": "2021-01-30T14:50:36.121910",
     "exception": false,
     "start_time": "2021-01-30T14:50:36.098541",
     "status": "completed"
    },
    "tags": []
   },
   "outputs": [],
   "source": [
    "#hide\n",
    "dft_cases = dft_cases.T\n",
    "dft_deaths = dft_deaths.T\n",
    "dt_today = dates[-1]\n",
    "dt_yday = dates[-2]"
   ]
  },
  {
   "cell_type": "code",
   "execution_count": 9,
   "id": "boolean-calculator",
   "metadata": {
    "execution": {
     "iopub.execute_input": "2021-01-30T14:50:36.157198Z",
     "iopub.status.busy": "2021-01-30T14:50:36.156699Z",
     "iopub.status.idle": "2021-01-30T14:50:36.161148Z",
     "shell.execute_reply": "2021-01-30T14:50:36.160722Z"
    },
    "papermill": {
     "duration": 0.024299,
     "end_time": "2021-01-30T14:50:36.161257",
     "exception": false,
     "start_time": "2021-01-30T14:50:36.136958",
     "status": "completed"
    },
    "tags": []
   },
   "outputs": [],
   "source": [
    "#hide\n",
    "dft_cases = dft_cases.reset_index()\n",
    "dft_deaths = dft_deaths.reset_index()\n",
    "dft_cases = dft_cases.rename(columns = {'index':'state'})\n",
    "dft_deaths = dft_deaths.rename(columns = {'index':'state'})"
   ]
  },
  {
   "cell_type": "code",
   "execution_count": 10,
   "id": "invisible-johnston",
   "metadata": {
    "execution": {
     "iopub.execute_input": "2021-01-30T14:50:36.198423Z",
     "iopub.status.busy": "2021-01-30T14:50:36.197919Z",
     "iopub.status.idle": "2021-01-30T14:50:36.202787Z",
     "shell.execute_reply": "2021-01-30T14:50:36.203216Z"
    },
    "papermill": {
     "duration": 0.027108,
     "end_time": "2021-01-30T14:50:36.203338",
     "exception": false,
     "start_time": "2021-01-30T14:50:36.176230",
     "status": "completed"
    },
    "tags": []
   },
   "outputs": [],
   "source": [
    "#hide\n",
    "dfc_cases = dft_cases.groupby('state')[dt_today].sum()\n",
    "dfc_deaths = dft_deaths.groupby('state')[dt_today].sum()\n",
    "dfp_cases = dft_cases.groupby('state')[dt_yday].sum()\n",
    "dfp_deaths = dft_deaths.groupby('state')[dt_yday].sum()"
   ]
  },
  {
   "cell_type": "code",
   "execution_count": 11,
   "id": "measured-great",
   "metadata": {
    "execution": {
     "iopub.execute_input": "2021-01-30T14:50:36.240091Z",
     "iopub.status.busy": "2021-01-30T14:50:36.239561Z",
     "iopub.status.idle": "2021-01-30T14:50:36.251120Z",
     "shell.execute_reply": "2021-01-30T14:50:36.250715Z"
    },
    "papermill": {
     "duration": 0.032809,
     "end_time": "2021-01-30T14:50:36.251231",
     "exception": false,
     "start_time": "2021-01-30T14:50:36.218422",
     "status": "completed"
    },
    "tags": []
   },
   "outputs": [
    {
     "data": {
      "text/html": [
       "<div>\n",
       "<style scoped>\n",
       "    .dataframe tbody tr th:only-of-type {\n",
       "        vertical-align: middle;\n",
       "    }\n",
       "\n",
       "    .dataframe tbody tr th {\n",
       "        vertical-align: top;\n",
       "    }\n",
       "\n",
       "    .dataframe thead th {\n",
       "        text-align: right;\n",
       "    }\n",
       "</style>\n",
       "<table border=\"1\" class=\"dataframe\">\n",
       "  <thead>\n",
       "    <tr style=\"text-align: right;\">\n",
       "      <th></th>\n",
       "      <th>states</th>\n",
       "      <th>Cases</th>\n",
       "      <th>Deaths</th>\n",
       "      <th>PCases</th>\n",
       "      <th>PDeaths</th>\n",
       "    </tr>\n",
       "  </thead>\n",
       "  <tbody>\n",
       "    <tr>\n",
       "      <th>0</th>\n",
       "      <td>Maharashtra</td>\n",
       "      <td>2021184</td>\n",
       "      <td>51000</td>\n",
       "      <td>2021184</td>\n",
       "      <td>51000</td>\n",
       "    </tr>\n",
       "    <tr>\n",
       "      <th>1</th>\n",
       "      <td>Karnataka</td>\n",
       "      <td>938401</td>\n",
       "      <td>12211</td>\n",
       "      <td>938401</td>\n",
       "      <td>12211</td>\n",
       "    </tr>\n",
       "    <tr>\n",
       "      <th>2</th>\n",
       "      <td>Kerala</td>\n",
       "      <td>923913</td>\n",
       "      <td>3723</td>\n",
       "      <td>917631</td>\n",
       "      <td>3705</td>\n",
       "    </tr>\n",
       "    <tr>\n",
       "      <th>3</th>\n",
       "      <td>Andhra Pradesh</td>\n",
       "      <td>887591</td>\n",
       "      <td>7152</td>\n",
       "      <td>887591</td>\n",
       "      <td>7152</td>\n",
       "    </tr>\n",
       "    <tr>\n",
       "      <th>4</th>\n",
       "      <td>Tamil Nadu</td>\n",
       "      <td>837327</td>\n",
       "      <td>12345</td>\n",
       "      <td>837327</td>\n",
       "      <td>12345</td>\n",
       "    </tr>\n",
       "  </tbody>\n",
       "</table>\n",
       "</div>"
      ],
      "text/plain": [
       "           states    Cases  Deaths   PCases  PDeaths\n",
       "0     Maharashtra  2021184   51000  2021184    51000\n",
       "1       Karnataka   938401   12211   938401    12211\n",
       "2          Kerala   923913    3723   917631     3705\n",
       "3  Andhra Pradesh   887591    7152   887591     7152\n",
       "4      Tamil Nadu   837327   12345   837327    12345"
      ]
     },
     "execution_count": 11,
     "metadata": {},
     "output_type": "execute_result"
    }
   ],
   "source": [
    "#hide\n",
    "df_table = pd.DataFrame({'states': dfc_cases.index, 'Cases': dfc_cases.values, 'Deaths': dfc_deaths.values, 'PCases': dfp_cases.values, 'PDeaths': dfp_deaths.values}).set_index('states')\n",
    "df_table = df_table.sort_values(by = ['Cases','Deaths'], ascending = [False, False])\n",
    "df_table = df_table.reset_index()\n",
    "df_table.head()"
   ]
  },
  {
   "cell_type": "code",
   "execution_count": 12,
   "id": "found-montreal",
   "metadata": {
    "execution": {
     "iopub.execute_input": "2021-01-30T14:50:36.286503Z",
     "iopub.status.busy": "2021-01-30T14:50:36.286007Z",
     "iopub.status.idle": "2021-01-30T14:50:36.293489Z",
     "shell.execute_reply": "2021-01-30T14:50:36.293089Z"
    },
    "papermill": {
     "duration": 0.02707,
     "end_time": "2021-01-30T14:50:36.293591",
     "exception": false,
     "start_time": "2021-01-30T14:50:36.266521",
     "status": "completed"
    },
    "tags": []
   },
   "outputs": [],
   "source": [
    "#hide\n",
    "for c in 'Cases, Deaths'.split(', '):\n",
    "    df_table[f'{c} (+)'] = (df_table[c] - df_table[f'P{c}']).clip(0)\n",
    "df_table['Fatality Rate'] = (100* df_table['Deaths']/ df_table['Cases']).round(2)"
   ]
  },
  {
   "cell_type": "code",
   "execution_count": 13,
   "id": "minus-savage",
   "metadata": {
    "execution": {
     "iopub.execute_input": "2021-01-30T14:50:36.335080Z",
     "iopub.status.busy": "2021-01-30T14:50:36.334572Z",
     "iopub.status.idle": "2021-01-30T14:50:36.336849Z",
     "shell.execute_reply": "2021-01-30T14:50:36.337275Z"
    },
    "papermill": {
     "duration": 0.028452,
     "end_time": "2021-01-30T14:50:36.337388",
     "exception": false,
     "start_time": "2021-01-30T14:50:36.308936",
     "status": "completed"
    },
    "tags": []
   },
   "outputs": [
    {
     "data": {
      "text/html": [
       "<div>\n",
       "<style scoped>\n",
       "    .dataframe tbody tr th:only-of-type {\n",
       "        vertical-align: middle;\n",
       "    }\n",
       "\n",
       "    .dataframe tbody tr th {\n",
       "        vertical-align: top;\n",
       "    }\n",
       "\n",
       "    .dataframe thead th {\n",
       "        text-align: right;\n",
       "    }\n",
       "</style>\n",
       "<table border=\"1\" class=\"dataframe\">\n",
       "  <thead>\n",
       "    <tr style=\"text-align: right;\">\n",
       "      <th></th>\n",
       "      <th>states</th>\n",
       "      <th>Cases</th>\n",
       "      <th>Deaths</th>\n",
       "      <th>PCases</th>\n",
       "      <th>PDeaths</th>\n",
       "      <th>Cases (+)</th>\n",
       "      <th>Deaths (+)</th>\n",
       "      <th>Fatality Rate</th>\n",
       "    </tr>\n",
       "  </thead>\n",
       "  <tbody>\n",
       "    <tr>\n",
       "      <th>0</th>\n",
       "      <td>Maharashtra</td>\n",
       "      <td>2021184</td>\n",
       "      <td>51000</td>\n",
       "      <td>2021184</td>\n",
       "      <td>51000</td>\n",
       "      <td>0</td>\n",
       "      <td>0</td>\n",
       "      <td>2.52</td>\n",
       "    </tr>\n",
       "    <tr>\n",
       "      <th>1</th>\n",
       "      <td>Karnataka</td>\n",
       "      <td>938401</td>\n",
       "      <td>12211</td>\n",
       "      <td>938401</td>\n",
       "      <td>12211</td>\n",
       "      <td>0</td>\n",
       "      <td>0</td>\n",
       "      <td>1.30</td>\n",
       "    </tr>\n",
       "    <tr>\n",
       "      <th>2</th>\n",
       "      <td>Kerala</td>\n",
       "      <td>923913</td>\n",
       "      <td>3723</td>\n",
       "      <td>917631</td>\n",
       "      <td>3705</td>\n",
       "      <td>6282</td>\n",
       "      <td>18</td>\n",
       "      <td>0.40</td>\n",
       "    </tr>\n",
       "    <tr>\n",
       "      <th>3</th>\n",
       "      <td>Andhra Pradesh</td>\n",
       "      <td>887591</td>\n",
       "      <td>7152</td>\n",
       "      <td>887591</td>\n",
       "      <td>7152</td>\n",
       "      <td>0</td>\n",
       "      <td>0</td>\n",
       "      <td>0.81</td>\n",
       "    </tr>\n",
       "    <tr>\n",
       "      <th>4</th>\n",
       "      <td>Tamil Nadu</td>\n",
       "      <td>837327</td>\n",
       "      <td>12345</td>\n",
       "      <td>837327</td>\n",
       "      <td>12345</td>\n",
       "      <td>0</td>\n",
       "      <td>0</td>\n",
       "      <td>1.47</td>\n",
       "    </tr>\n",
       "  </tbody>\n",
       "</table>\n",
       "</div>"
      ],
      "text/plain": [
       "           states    Cases  Deaths   PCases  PDeaths  Cases (+)  Deaths (+)  \\\n",
       "0     Maharashtra  2021184   51000  2021184    51000          0           0   \n",
       "1       Karnataka   938401   12211   938401    12211          0           0   \n",
       "2          Kerala   923913    3723   917631     3705       6282          18   \n",
       "3  Andhra Pradesh   887591    7152   887591     7152          0           0   \n",
       "4      Tamil Nadu   837327   12345   837327    12345          0           0   \n",
       "\n",
       "   Fatality Rate  \n",
       "0           2.52  \n",
       "1           1.30  \n",
       "2           0.40  \n",
       "3           0.81  \n",
       "4           1.47  "
      ]
     },
     "execution_count": 13,
     "metadata": {},
     "output_type": "execute_result"
    }
   ],
   "source": [
    "#hide\n",
    "df_table.head()"
   ]
  },
  {
   "cell_type": "code",
   "execution_count": 14,
   "id": "false-peter",
   "metadata": {
    "execution": {
     "iopub.execute_input": "2021-01-30T14:50:36.373892Z",
     "iopub.status.busy": "2021-01-30T14:50:36.373390Z",
     "iopub.status.idle": "2021-01-30T14:50:36.388079Z",
     "shell.execute_reply": "2021-01-30T14:50:36.388509Z"
    },
    "papermill": {
     "duration": 0.035214,
     "end_time": "2021-01-30T14:50:36.388622",
     "exception": false,
     "start_time": "2021-01-30T14:50:36.353408",
     "status": "completed"
    },
    "tags": []
   },
   "outputs": [
    {
     "data": {
      "text/plain": [
       "{'updated': '2021-01-30',\n",
       " 'since': '2021-01-29',\n",
       " 'Cases': 10740309,\n",
       " 'PCases': 10734027,\n",
       " 'Deaths': 154202,\n",
       " 'PDeaths': 154184,\n",
       " 'Cases (+)': 6282,\n",
       " 'Deaths (+)': 18}"
      ]
     },
     "execution_count": 14,
     "metadata": {},
     "output_type": "execute_result"
    }
   ],
   "source": [
    "#hide\n",
    "summary = {'updated':dates[-1], 'since':dates[-2]}\n",
    "list_names = ['Cases', 'PCases', 'Deaths', 'PDeaths', 'Cases (+)', 'Deaths (+)']\n",
    "for name in list_names:\n",
    "    summary[name] = df_table.sum()[name]\n",
    "summary"
   ]
  },
  {
   "cell_type": "code",
   "execution_count": 15,
   "id": "packed-viewer",
   "metadata": {
    "execution": {
     "iopub.execute_input": "2021-01-30T14:50:36.424905Z",
     "iopub.status.busy": "2021-01-30T14:50:36.424325Z",
     "iopub.status.idle": "2021-01-30T14:50:36.426390Z",
     "shell.execute_reply": "2021-01-30T14:50:36.425847Z"
    },
    "papermill": {
     "duration": 0.021898,
     "end_time": "2021-01-30T14:50:36.426501",
     "exception": false,
     "start_time": "2021-01-30T14:50:36.404603",
     "status": "completed"
    },
    "tags": []
   },
   "outputs": [],
   "source": [
    "#hide\n",
    "overview = '''\n",
    "<!-- #######  HTML!! #########-->\n",
    "<h1 style=\"color: #5e9ca0; text-align: center;\">India</h1>\n",
    "<p style=\"text-align: center;\">Last update: <strong>{update}</strong></p>\n",
    "<p style=\"text-align: center;\">Confirmed cases:</p>\n",
    "<p style=\"text-align: center;font-size:24px;\">{cases} (<span style=\"color: #ff0000;\">+{new}</span>)</p>\n",
    "<p style=\"text-align: center;\">Confirmed deaths:</p>\n",
    "<p style=\"text-align: center;font-size:24px;\">{deaths} (<span style=\"color: #ff0000;\">+{dnew}</span>)</p>\n",
    "'''"
   ]
  },
  {
   "cell_type": "code",
   "execution_count": 16,
   "id": "phantom-lover",
   "metadata": {
    "execution": {
     "iopub.execute_input": "2021-01-30T14:50:36.463730Z",
     "iopub.status.busy": "2021-01-30T14:50:36.463207Z",
     "iopub.status.idle": "2021-01-30T14:50:36.465922Z",
     "shell.execute_reply": "2021-01-30T14:50:36.465437Z"
    },
    "papermill": {
     "duration": 0.023034,
     "end_time": "2021-01-30T14:50:36.466020",
     "exception": false,
     "start_time": "2021-01-30T14:50:36.442986",
     "status": "completed"
    },
    "tags": []
   },
   "outputs": [
    {
     "data": {
      "text/html": [
       "\n",
       "<!-- #######  HTML!! #########-->\n",
       "<h1 style=\"color: #5e9ca0; text-align: center;\">India</h1>\n",
       "<p style=\"text-align: center;\">Last update: <strong>2021-01-30</strong></p>\n",
       "<p style=\"text-align: center;\">Confirmed cases:</p>\n",
       "<p style=\"text-align: center;font-size:24px;\">10740309 (<span style=\"color: #ff0000;\">+6282</span>)</p>\n",
       "<p style=\"text-align: center;\">Confirmed deaths:</p>\n",
       "<p style=\"text-align: center;font-size:24px;\">154202 (<span style=\"color: #ff0000;\">+18</span>)</p>\n"
      ],
      "text/plain": [
       "<IPython.core.display.HTML object>"
      ]
     },
     "metadata": {},
     "output_type": "display_data"
    }
   ],
   "source": [
    "#hide_input\n",
    "update = summary['updated']\n",
    "cases = summary['Cases']\n",
    "new = summary['Cases (+)']\n",
    "deaths = summary['Deaths']\n",
    "dnew = summary['Deaths (+)']\n",
    "\n",
    "html = HTML(overview.format(update=update, cases=cases,new=new,deaths=deaths,dnew=dnew))\n",
    "\n",
    "display(html)"
   ]
  },
  {
   "cell_type": "code",
   "execution_count": 17,
   "id": "sealed-reset",
   "metadata": {
    "execution": {
     "iopub.execute_input": "2021-01-30T14:50:36.505207Z",
     "iopub.status.busy": "2021-01-30T14:50:36.504708Z",
     "iopub.status.idle": "2021-01-30T14:50:36.509868Z",
     "shell.execute_reply": "2021-01-30T14:50:36.509464Z"
    },
    "papermill": {
     "duration": 0.027408,
     "end_time": "2021-01-30T14:50:36.509971",
     "exception": false,
     "start_time": "2021-01-30T14:50:36.482563",
     "status": "completed"
    },
    "tags": []
   },
   "outputs": [],
   "source": [
    "#hide\n",
    "dt_cols = list(dft_cases.columns[1:])\n",
    "dft_ct_new_cases = dft_cases.groupby('state')[dt_cols].sum().diff(axis=1).fillna(0).astype(int)\n",
    "dft_ct_new_cases.sort_values(by = dates[-1], ascending = False,inplace = True)"
   ]
  },
  {
   "cell_type": "code",
   "execution_count": 18,
   "id": "designed-constant",
   "metadata": {
    "execution": {
     "iopub.execute_input": "2021-01-30T14:50:36.558202Z",
     "iopub.status.busy": "2021-01-30T14:50:36.557688Z",
     "iopub.status.idle": "2021-01-30T14:50:36.561550Z",
     "shell.execute_reply": "2021-01-30T14:50:36.561123Z"
    },
    "papermill": {
     "duration": 0.035249,
     "end_time": "2021-01-30T14:50:36.561649",
     "exception": false,
     "start_time": "2021-01-30T14:50:36.526400",
     "status": "completed"
    },
    "tags": []
   },
   "outputs": [
    {
     "data": {
      "text/html": [
       "<div>\n",
       "<style scoped>\n",
       "    .dataframe tbody tr th:only-of-type {\n",
       "        vertical-align: middle;\n",
       "    }\n",
       "\n",
       "    .dataframe tbody tr th {\n",
       "        vertical-align: top;\n",
       "    }\n",
       "\n",
       "    .dataframe thead th {\n",
       "        text-align: right;\n",
       "    }\n",
       "</style>\n",
       "<table border=\"1\" class=\"dataframe\">\n",
       "  <thead>\n",
       "    <tr style=\"text-align: right;\">\n",
       "      <th>states</th>\n",
       "      <th>2020-07-01</th>\n",
       "      <th>2020-07-02</th>\n",
       "      <th>2020-07-03</th>\n",
       "      <th>2020-07-04</th>\n",
       "      <th>2020-07-05</th>\n",
       "      <th>2020-07-06</th>\n",
       "      <th>2020-07-07</th>\n",
       "      <th>2020-07-08</th>\n",
       "      <th>2020-07-09</th>\n",
       "      <th>2020-07-10</th>\n",
       "      <th>...</th>\n",
       "      <th>2021-01-21</th>\n",
       "      <th>2021-01-22</th>\n",
       "      <th>2021-01-23</th>\n",
       "      <th>2021-01-24</th>\n",
       "      <th>2021-01-25</th>\n",
       "      <th>2021-01-26</th>\n",
       "      <th>2021-01-27</th>\n",
       "      <th>2021-01-28</th>\n",
       "      <th>2021-01-29</th>\n",
       "      <th>2021-01-30</th>\n",
       "    </tr>\n",
       "    <tr>\n",
       "      <th>state</th>\n",
       "      <th></th>\n",
       "      <th></th>\n",
       "      <th></th>\n",
       "      <th></th>\n",
       "      <th></th>\n",
       "      <th></th>\n",
       "      <th></th>\n",
       "      <th></th>\n",
       "      <th></th>\n",
       "      <th></th>\n",
       "      <th></th>\n",
       "      <th></th>\n",
       "      <th></th>\n",
       "      <th></th>\n",
       "      <th></th>\n",
       "      <th></th>\n",
       "      <th></th>\n",
       "      <th></th>\n",
       "      <th></th>\n",
       "      <th></th>\n",
       "      <th></th>\n",
       "    </tr>\n",
       "  </thead>\n",
       "  <tbody>\n",
       "    <tr>\n",
       "      <th>Kerala</th>\n",
       "      <td>0</td>\n",
       "      <td>160</td>\n",
       "      <td>211</td>\n",
       "      <td>240</td>\n",
       "      <td>225</td>\n",
       "      <td>193</td>\n",
       "      <td>272</td>\n",
       "      <td>301</td>\n",
       "      <td>339</td>\n",
       "      <td>416</td>\n",
       "      <td>...</td>\n",
       "      <td>6334</td>\n",
       "      <td>6753</td>\n",
       "      <td>6960</td>\n",
       "      <td>6036</td>\n",
       "      <td>3361</td>\n",
       "      <td>6293</td>\n",
       "      <td>5659</td>\n",
       "      <td>5771</td>\n",
       "      <td>6268</td>\n",
       "      <td>6282</td>\n",
       "    </tr>\n",
       "    <tr>\n",
       "      <th>Andaman and Nicobar Islands</th>\n",
       "      <td>0</td>\n",
       "      <td>9</td>\n",
       "      <td>7</td>\n",
       "      <td>3</td>\n",
       "      <td>6</td>\n",
       "      <td>16</td>\n",
       "      <td>6</td>\n",
       "      <td>2</td>\n",
       "      <td>7</td>\n",
       "      <td>0</td>\n",
       "      <td>...</td>\n",
       "      <td>0</td>\n",
       "      <td>1</td>\n",
       "      <td>1</td>\n",
       "      <td>0</td>\n",
       "      <td>1</td>\n",
       "      <td>0</td>\n",
       "      <td>0</td>\n",
       "      <td>0</td>\n",
       "      <td>0</td>\n",
       "      <td>0</td>\n",
       "    </tr>\n",
       "    <tr>\n",
       "      <th>Madhya Pradesh</th>\n",
       "      <td>0</td>\n",
       "      <td>245</td>\n",
       "      <td>191</td>\n",
       "      <td>307</td>\n",
       "      <td>326</td>\n",
       "      <td>354</td>\n",
       "      <td>343</td>\n",
       "      <td>409</td>\n",
       "      <td>305</td>\n",
       "      <td>316</td>\n",
       "      <td>...</td>\n",
       "      <td>301</td>\n",
       "      <td>347</td>\n",
       "      <td>291</td>\n",
       "      <td>252</td>\n",
       "      <td>200</td>\n",
       "      <td>228</td>\n",
       "      <td>185</td>\n",
       "      <td>226</td>\n",
       "      <td>171</td>\n",
       "      <td>0</td>\n",
       "    </tr>\n",
       "    <tr>\n",
       "      <th>Manipur</th>\n",
       "      <td>0</td>\n",
       "      <td>19</td>\n",
       "      <td>37</td>\n",
       "      <td>9</td>\n",
       "      <td>41</td>\n",
       "      <td>24</td>\n",
       "      <td>40</td>\n",
       "      <td>5</td>\n",
       "      <td>15</td>\n",
       "      <td>132</td>\n",
       "      <td>...</td>\n",
       "      <td>19</td>\n",
       "      <td>15</td>\n",
       "      <td>17</td>\n",
       "      <td>16</td>\n",
       "      <td>11</td>\n",
       "      <td>6</td>\n",
       "      <td>4</td>\n",
       "      <td>15</td>\n",
       "      <td>15</td>\n",
       "      <td>0</td>\n",
       "    </tr>\n",
       "    <tr>\n",
       "      <th>Meghalaya</th>\n",
       "      <td>0</td>\n",
       "      <td>3</td>\n",
       "      <td>4</td>\n",
       "      <td>8</td>\n",
       "      <td>2</td>\n",
       "      <td>16</td>\n",
       "      <td>6</td>\n",
       "      <td>6</td>\n",
       "      <td>13</td>\n",
       "      <td>73</td>\n",
       "      <td>...</td>\n",
       "      <td>4</td>\n",
       "      <td>2</td>\n",
       "      <td>4</td>\n",
       "      <td>5</td>\n",
       "      <td>2</td>\n",
       "      <td>6</td>\n",
       "      <td>1</td>\n",
       "      <td>8</td>\n",
       "      <td>4</td>\n",
       "      <td>0</td>\n",
       "    </tr>\n",
       "  </tbody>\n",
       "</table>\n",
       "<p>5 rows × 214 columns</p>\n",
       "</div>"
      ],
      "text/plain": [
       "states                       2020-07-01  2020-07-02  2020-07-03  2020-07-04  \\\n",
       "state                                                                         \n",
       "Kerala                                0         160         211         240   \n",
       "Andaman and Nicobar Islands           0           9           7           3   \n",
       "Madhya Pradesh                        0         245         191         307   \n",
       "Manipur                               0          19          37           9   \n",
       "Meghalaya                             0           3           4           8   \n",
       "\n",
       "states                       2020-07-05  2020-07-06  2020-07-07  2020-07-08  \\\n",
       "state                                                                         \n",
       "Kerala                              225         193         272         301   \n",
       "Andaman and Nicobar Islands           6          16           6           2   \n",
       "Madhya Pradesh                      326         354         343         409   \n",
       "Manipur                              41          24          40           5   \n",
       "Meghalaya                             2          16           6           6   \n",
       "\n",
       "states                       2020-07-09  2020-07-10  ...  2021-01-21  \\\n",
       "state                                                ...               \n",
       "Kerala                              339         416  ...        6334   \n",
       "Andaman and Nicobar Islands           7           0  ...           0   \n",
       "Madhya Pradesh                      305         316  ...         301   \n",
       "Manipur                              15         132  ...          19   \n",
       "Meghalaya                            13          73  ...           4   \n",
       "\n",
       "states                       2021-01-22  2021-01-23  2021-01-24  2021-01-25  \\\n",
       "state                                                                         \n",
       "Kerala                             6753        6960        6036        3361   \n",
       "Andaman and Nicobar Islands           1           1           0           1   \n",
       "Madhya Pradesh                      347         291         252         200   \n",
       "Manipur                              15          17          16          11   \n",
       "Meghalaya                             2           4           5           2   \n",
       "\n",
       "states                       2021-01-26  2021-01-27  2021-01-28  2021-01-29  \\\n",
       "state                                                                         \n",
       "Kerala                             6293        5659        5771        6268   \n",
       "Andaman and Nicobar Islands           0           0           0           0   \n",
       "Madhya Pradesh                      228         185         226         171   \n",
       "Manipur                               6           4          15          15   \n",
       "Meghalaya                             6           1           8           4   \n",
       "\n",
       "states                       2021-01-30  \n",
       "state                                    \n",
       "Kerala                             6282  \n",
       "Andaman and Nicobar Islands           0  \n",
       "Madhya Pradesh                        0  \n",
       "Manipur                               0  \n",
       "Meghalaya                             0  \n",
       "\n",
       "[5 rows x 214 columns]"
      ]
     },
     "execution_count": 18,
     "metadata": {},
     "output_type": "execute_result"
    }
   ],
   "source": [
    "#hide\n",
    "dft_ct_new_cases.head()"
   ]
  },
  {
   "cell_type": "code",
   "execution_count": 19,
   "id": "responsible-nightlife",
   "metadata": {
    "execution": {
     "iopub.execute_input": "2021-01-30T14:50:36.621241Z",
     "iopub.status.busy": "2021-01-30T14:50:36.619078Z",
     "iopub.status.idle": "2021-01-30T14:50:42.848604Z",
     "shell.execute_reply": "2021-01-30T14:50:42.849024Z"
    },
    "papermill": {
     "duration": 6.270558,
     "end_time": "2021-01-30T14:50:42.849167",
     "exception": false,
     "start_time": "2021-01-30T14:50:36.578609",
     "status": "completed"
    },
    "tags": []
   },
   "outputs": [
    {
     "data": {
      "image/png": "[encoded data removed]",
      "text/plain": [
       "<Figure size 1296x2016 with 11 Axes>"
      ]
     },
     "metadata": {
      "needs_background": "light"
     },
     "output_type": "display_data"
    }
   ],
   "source": [
    "#hide_input\n",
    "df = dft_ct_new_cases.copy()\n",
    "df.loc['Total'] = df.sum()\n",
    "n = 5\n",
    "ax = []\n",
    "fig = plt.figure(figsize = (18,28))\n",
    "gs = fig.add_gridspec(n+2, 5)\n",
    "# gs = fig.add_gridspec(2, 3)\n",
    "ax1 = fig.add_subplot(gs[0, :])\n",
    "ef = df.loc['Total'].rename_axis('date').reset_index()\n",
    "ef['date'] = ef['date'].astype('datetime64[ns]')\n",
    "ax1.bar(ef.date,ef.Total,alpha=0.3,color='#007acc')\n",
    "ax1.plot(ef.date,ef.Total , marker=\"o\", color='#007acc')\n",
    "ax1.xaxis.set_major_locator(mdates.WeekdayLocator())\n",
    "ax1.xaxis.set_major_formatter(mdates.DateFormatter('%b %d'))\n",
    "ax1.text(0.02, 0.5,'India daily case count', transform = ax1.transAxes, fontsize=25);\n",
    "ax1.spines['right'].set_visible(False)\n",
    "ax1.spines['top'].set_visible(False)\n",
    "\n",
    "ax2 = fig.add_subplot(gs[1,0])\n",
    "ef = df.loc['Maharashtra'].rename_axis('date').reset_index()\n",
    "ef['date'] = ef['date'].astype('datetime64[ns]')\n",
    "\n",
    "ax2.bar(ef.date, ef.Maharashtra,color = '#007acc',alpha=0.5)\n",
    "ax2.xaxis.set_major_locator(mdates.WeekdayLocator())\n",
    "ax2.xaxis.set_major_formatter(mdates.DateFormatter('%b %d'))\n",
    "ax2.set_xticks(ax2.get_xticks()[::3])\n",
    "maxyval = ef.Maharashtra.max()\n",
    "ax2.set_ylim([0,maxyval])\n",
    "ax2.text(0.05, 0.9,'Maharashtra', transform = ax2.transAxes, fontsize=20);\n",
    "ax2.spines['right'].set_visible(False)\n",
    "ax2.spines['top'].set_visible(False)\n",
    "\n",
    "\n",
    "ax3 = fig.add_subplot(gs[1,1])\n",
    "ef = df.loc['Tamil Nadu'].rename_axis('date').reset_index()\n",
    "ef['date'] = ef['date'].astype('datetime64[ns]')\n",
    "ax3.bar(ef.date, ef['Tamil Nadu'],color = '#007acc',alpha=0.5,)\n",
    "ax3.xaxis.set_major_locator(mdates.WeekdayLocator())\n",
    "ax3.xaxis.set_major_formatter(mdates.DateFormatter('%b %d'))\n",
    "ax3.set_xticks(ax3.get_xticks()[::3])\n",
    "ax3.text(0.05, 0.9,'Tamil Nadu', transform = ax3.transAxes, fontsize=20);\n",
    "ax3.spines['right'].set_visible(False)\n",
    "ax3.spines['top'].set_visible(False)\n",
    "\n",
    "ax5 = fig.add_subplot(gs[1,3])\n",
    "ef = df.loc['Telangana'].rename_axis('date').reset_index()\n",
    "ef['date'] = ef['date'].astype('datetime64[ns]')\n",
    "ax5.bar(ef.date, ef['Telangana'],color = '#007acc',alpha=0.5,)\n",
    "ax5.xaxis.set_major_locator(mdates.WeekdayLocator())\n",
    "ax5.xaxis.set_major_formatter(mdates.DateFormatter('%b %d'))\n",
    "ax5.set_xticks(ax5.get_xticks()[::3])\n",
    "ax5.text(0.05, 0.9,'Telangana', transform = ax5.transAxes, fontsize=20);\n",
    "ax5.spines['right'].set_visible(False)\n",
    "ax5.spines['top'].set_visible(False)\n",
    "\n",
    "ax6 = fig.add_subplot(gs[1,4])\n",
    "ef = df.loc['Andhra Pradesh'].rename_axis('date').reset_index()\n",
    "ef['date'] = ef['date'].astype('datetime64[ns]')\n",
    "ax6.bar(ef.date, ef['Andhra Pradesh'],color = '#007acc',alpha=0.5,)\n",
    "ax6.xaxis.set_major_locator(mdates.WeekdayLocator())\n",
    "ax6.xaxis.set_major_formatter(mdates.DateFormatter('%b %d'))\n",
    "ax6.set_xticks(ax6.get_xticks()[::3])\n",
    "ax6.text(0.05, 1,'Andhra Pradesh', transform = ax6.transAxes, fontsize=20);\n",
    "ax6.spines['right'].set_visible(False)\n",
    "ax6.spines['top'].set_visible(False)\n",
    "\n",
    "ax4 = fig.add_subplot(gs[1,2])\n",
    "ef = df.loc['Delhi'].rename_axis('date').reset_index()\n",
    "ef['date'] = ef['date'].astype('datetime64[ns]')\n",
    "ax4.bar(ef.date, ef.Delhi,color = '#007acc',alpha=0.5)\n",
    "ax4.set_xticks([])\n",
    "ax4.xaxis.set_major_locator(mdates.WeekdayLocator())\n",
    "ax4.xaxis.set_major_formatter(mdates.DateFormatter('%b %d'))\n",
    "ax4.set_xticks(ax4.get_xticks()[::3])\n",
    "ax4.spines['right'].set_visible(False)\n",
    "ax4.spines['top'].set_visible(False)\n",
    "\n",
    "ax4.text(0.05, 1,'Delhi', transform = ax4.transAxes, fontsize=20)\n",
    "\n",
    "for i in range(n):\n",
    "    \n",
    "    ax.append(fig.add_subplot(gs[i+2,:]))\n",
    "    ef = df.iloc[i+3].rename_axis('date').reset_index()\n",
    "    ef['date'] = ef['date'].astype('datetime64[ns]')\n",
    "    ax[i].bar(ef.date,ef.iloc[:,-1],color = '#007acc',alpha=0.3)\n",
    "    ax[i].plot(ef.date,ef.iloc[:,-1],marker='o',color='#007acc')\n",
    "    ax[i].text(0.02,0.5,f'{ef.columns.values[-1]}',transform = ax[i].transAxes, fontsize = 20);\n",
    "    ax[i].xaxis.set_major_locator(mdates.WeekdayLocator())\n",
    "    ax[i].xaxis.set_major_formatter(mdates.DateFormatter('%b %d'))\n",
    "    ax[i].set_ylim([0,7000])\n",
    "    ax[i].spines['right'].set_visible(False)\n",
    "    ax[i].spines['top'].set_visible(False)\n",
    "plt.tight_layout()\n"
   ]
  },
  {
   "cell_type": "code",
   "execution_count": 20,
   "id": "dress-forge",
   "metadata": {
    "execution": {
     "iopub.execute_input": "2021-01-30T14:50:42.900304Z",
     "iopub.status.busy": "2021-01-30T14:50:42.899686Z",
     "iopub.status.idle": "2021-01-30T14:50:42.901744Z",
     "shell.execute_reply": "2021-01-30T14:50:42.902169Z"
    },
    "papermill": {
     "duration": 0.031615,
     "end_time": "2021-01-30T14:50:42.902299",
     "exception": false,
     "start_time": "2021-01-30T14:50:42.870684",
     "status": "completed"
    },
    "tags": []
   },
   "outputs": [
    {
     "name": "stdout",
     "output_type": "stream",
     "text": [
      "                                   states    Cases  Deaths   PCases  PDeaths  Cases (+)  Deaths (+)  Fatality Rate\n",
      "                              Maharashtra  2021184   51000  2021184    51000          0           0           2.52\n",
      "                                Karnataka   938401   12211   938401    12211          0           0           1.30\n",
      "                                   Kerala   923913    3723   917631     3705       6282          18           0.40\n",
      "                           Andhra Pradesh   887591    7152   887591     7152          0           0           0.81\n",
      "                               Tamil Nadu   837327   12345   837327    12345          0           0           1.47\n",
      "                                    Delhi   634773   10841   634773    10841          0           0           1.71\n",
      "                            Uttar Pradesh   599837    8646   599837     8646          0           0           1.44\n",
      "                              West Bengal   569459   10155   569459    10155          0           0           1.78\n",
      "                                   Odisha   334850    1959   334850     1959          0           0           0.59\n",
      "                                Rajasthan   317292    2765   317292     2765          0           0           0.87\n",
      "                             Chhattisgarh   304689    3689   304689     3689          0           0           1.21\n",
      "                                Telangana   294120    1596   294120     1596          0           0           0.54\n",
      "                                  Haryana   267708    3015   267708     3015          0           0           1.13\n",
      "                                  Gujarat   260901    4385   260901     4385          0           0           1.68\n",
      "                                    Bihar   260480    1495   260480     1495          0           0           0.57\n",
      "                           Madhya Pradesh   254667    3805   254667     3805          0           0           1.49\n",
      "                                    Assam   217091    1081   217091     1081          0           0           0.50\n",
      "                                   Punjab   172860    5601   172860     5601          0           0           3.24\n",
      "                        Jammu and Kashmir   124373    1933   124373     1933          0           0           1.55\n",
      "                                Jharkhand   118602    1070   118602     1070          0           0           0.90\n",
      "                              Uttarakhand    95986    1642    95986     1642          0           0           1.71\n",
      "                         Himachal Pradesh    57400     962    57400      962          0           0           1.68\n",
      "                                      Goa    53263     766    53263      766          0           0           1.44\n",
      "                               Puducherry    39004     647    39004      647          0           0           1.66\n",
      "                                  Tripura    33345     388    33345      388          0           0           1.16\n",
      "                                  Manipur    29037     371    29037      371          0           0           1.28\n",
      "                               Chandigarh    20882     334    20882      334          0           0           1.60\n",
      "                        Arunachal Pradesh    16827      56    16827       56          0           0           0.33\n",
      "                                Meghalaya    13753     146    13753      146          0           0           1.06\n",
      "                                 Nagaland    12088      88    12088       88          0           0           0.73\n",
      "                                   Ladakh     9714     129     9714      129          0           0           1.33\n",
      "                                   Sikkim     6085     133     6085      133          0           0           2.19\n",
      "              Andaman and Nicobar Islands     4994      62     4994       62          0           0           1.24\n",
      "                                  Mizoram     4363       9     4363        9          0           0           0.21\n",
      " Dadra and Nagar Haveli and Daman and Diu     3380       2     3380        2          0           0           0.06\n",
      "                              Lakshadweep       70       0       70        0          0           0           0.00\n"
     ]
    }
   ],
   "source": [
    "#hide_input\n",
    "print(df_table.to_string(index=False))"
   ]
  },
  {
   "cell_type": "code",
   "execution_count": null,
   "id": "quantitative-legend",
   "metadata": {
    "papermill": {
     "duration": 0.021287,
     "end_time": "2021-01-30T14:50:42.944970",
     "exception": false,
     "start_time": "2021-01-30T14:50:42.923683",
     "status": "completed"
    },
    "tags": []
   },
   "outputs": [],
   "source": []
  },
  {
   "cell_type": "code",
   "execution_count": null,
   "id": "distant-acoustic",
   "metadata": {
    "papermill": {
     "duration": 0.021308,
     "end_time": "2021-01-30T14:50:42.987713",
     "exception": false,
     "start_time": "2021-01-30T14:50:42.966405",
     "status": "completed"
    },
    "tags": []
   },
   "outputs": [],
   "source": []
  }
 ],
 "metadata": {
  "kernelspec": {
   "display_name": "Python 3",
   "language": "python",
   "name": "python3"
  },
  "language_info": {
   "codemirror_mode": {
    "name": "ipython",
    "version": 3
   },
   "file_extension": ".py",
   "mimetype": "text/x-python",
   "name": "python",
   "nbconvert_exporter": "python",
   "pygments_lexer": "ipython3",
   "version": "3.6.12"
  },
  "papermill": {
   "duration": 14.710782,
   "end_time": "2021-01-30T14:50:43.516065",
   "environment_variables": {},
   "exception": null,
   "input_path": "latest.ipynb",
   "output_path": "latest.ipynb",
   "parameters": {},
   "start_time": "2021-01-30T14:50:28.805283",
   "version": "2.1.2"
  }
 },
 "nbformat": 4,
 "nbformat_minor": 5
}