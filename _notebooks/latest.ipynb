{
 "cells": [
  {
   "cell_type": "markdown",
   "id": "colored-stack",
   "metadata": {
    "papermill": {
     "duration": 0.020814,
     "end_time": "2021-02-28T12:32:05.985807",
     "exception": false,
     "start_time": "2021-02-28T12:32:05.964993",
     "status": "completed"
    },
    "tags": []
   },
   "source": [
    "# Latest COVID-19 India Matplotlib Overview"
   ]
  },
  {
   "cell_type": "code",
   "execution_count": 1,
   "id": "light-proportion",
   "metadata": {
    "execution": {
     "iopub.execute_input": "2021-02-28T12:32:06.038281Z",
     "iopub.status.busy": "2021-02-28T12:32:06.037655Z",
     "iopub.status.idle": "2021-02-28T12:32:06.630562Z",
     "shell.execute_reply": "2021-02-28T12:32:06.629997Z"
    },
    "papermill": {
     "duration": 0.627181,
     "end_time": "2021-02-28T12:32:06.630714",
     "exception": false,
     "start_time": "2021-02-28T12:32:06.003533",
     "status": "completed"
    },
    "tags": []
   },
   "outputs": [],
   "source": [
    "#hide\n",
    "import pandas as pd\n",
    "import numpy as np\n",
    "import requests\n",
    "import json\n",
    "import matplotlib.pyplot as plt\n",
    "import matplotlib.dates as mdates\n",
    "import matplotlib as mpl\n",
    "from IPython.core.display import display,HTML\n",
    "%matplotlib inline\n",
    "from datetime import date"
   ]
  },
  {
   "cell_type": "code",
   "execution_count": 2,
   "id": "greenhouse-shooting",
   "metadata": {
    "execution": {
     "iopub.execute_input": "2021-02-28T12:32:06.673064Z",
     "iopub.status.busy": "2021-02-28T12:32:06.672134Z",
     "iopub.status.idle": "2021-02-28T12:32:07.046451Z",
     "shell.execute_reply": "2021-02-28T12:32:07.045893Z"
    },
    "papermill": {
     "duration": 0.398835,
     "end_time": "2021-02-28T12:32:07.046611",
     "exception": false,
     "start_time": "2021-02-28T12:32:06.647776",
     "status": "completed"
    },
    "tags": []
   },
   "outputs": [],
   "source": [
    "#hide\n",
    "df  = pd.read_csv('https://api.covid19india.org/csv/latest/states.csv')\n",
    "df = df[['Date','State','Confirmed','Deceased']]\n",
    "df = df.rename(columns={'Confirmed':'Cases', \"Deceased\":'Deaths'})\n",
    "df_cases = df[[\"Date\",'State','Cases']]\n",
    "df_deaths = df[['Date','State','Deaths']]\n",
    "df_cases1 = df_cases.groupby('Date')\n",
    "df_deaths1= df_deaths.groupby('Date')"
   ]
  },
  {
   "cell_type": "code",
   "execution_count": 3,
   "id": "hybrid-cathedral",
   "metadata": {
    "execution": {
     "iopub.execute_input": "2021-02-28T12:32:07.086739Z",
     "iopub.status.busy": "2021-02-28T12:32:07.086125Z",
     "iopub.status.idle": "2021-02-28T12:32:07.104155Z",
     "shell.execute_reply": "2021-02-28T12:32:07.103639Z"
    },
    "papermill": {
     "duration": 0.040566,
     "end_time": "2021-02-28T12:32:07.104277",
     "exception": false,
     "start_time": "2021-02-28T12:32:07.063711",
     "status": "completed"
    },
    "tags": []
   },
   "outputs": [],
   "source": [
    "#hide\n",
    "df_snap = pd.read_csv('data/SnapshotCases-28-July.csv')\n",
    "arr_states = df_snap['states'].unique()\n",
    "arr_dates = df['Date'].unique()\n",
    "df_snap = df_snap.set_index('states')"
   ]
  },
  {
   "cell_type": "code",
   "execution_count": 4,
   "id": "interior-belfast",
   "metadata": {
    "execution": {
     "iopub.execute_input": "2021-02-28T12:32:07.147989Z",
     "iopub.status.busy": "2021-02-28T12:32:07.147385Z",
     "iopub.status.idle": "2021-02-28T12:32:07.150413Z",
     "shell.execute_reply": "2021-02-28T12:32:07.149819Z"
    },
    "papermill": {
     "duration": 0.029526,
     "end_time": "2021-02-28T12:32:07.150568",
     "exception": false,
     "start_time": "2021-02-28T12:32:07.121042",
     "status": "completed"
    },
    "tags": []
   },
   "outputs": [
    {
     "data": {
      "text/plain": [
       "array(['Andaman and Nicobar Islands', 'Andhra Pradesh',\n",
       "       'Arunachal Pradesh', 'Assam', 'Bihar', 'Chandigarh',\n",
       "       'Dadra and Nagar Haveli and Daman and Diu', 'Delhi', 'Goa',\n",
       "       'Gujarat', 'Haryana', 'Himachal Pradesh', 'Jammu and Kashmir',\n",
       "       'Jharkhand', 'Karnataka', 'Kerala', 'Lakshadweep',\n",
       "       'Madhya Pradesh', 'Maharashtra', 'Manipur', 'Meghalaya', 'Mizoram',\n",
       "       'Nagaland', 'Odisha', 'Puducherry', 'Punjab', 'Rajasthan',\n",
       "       'Sikkim', 'Tamil Nadu', 'Telangana', 'Tripura', 'Uttar Pradesh',\n",
       "       'West Bengal', 'Chhattisgarh', 'Ladakh', 'Uttarakhand'],\n",
       "      dtype=object)"
      ]
     },
     "execution_count": 4,
     "metadata": {},
     "output_type": "execute_result"
    }
   ],
   "source": [
    "#hide\n",
    "arr_states[-9] = 'Puducherry'\n",
    "arr_states[-10] = 'Odisha'\n",
    "arr_states[6] = 'Dadra and Nagar Haveli and Daman and Diu'\n",
    "arr_states = np.append(arr_states,np.array(['Chhattisgarh','Ladakh','Uttarakhand']))\n",
    "arr_states"
   ]
  },
  {
   "cell_type": "code",
   "execution_count": 5,
   "id": "behind-manner",
   "metadata": {
    "execution": {
     "iopub.execute_input": "2021-02-28T12:32:07.198282Z",
     "iopub.status.busy": "2021-02-28T12:32:07.197684Z",
     "iopub.status.idle": "2021-02-28T12:32:07.206271Z",
     "shell.execute_reply": "2021-02-28T12:32:07.206754Z"
    },
    "papermill": {
     "duration": 0.039102,
     "end_time": "2021-02-28T12:32:07.206903",
     "exception": false,
     "start_time": "2021-02-28T12:32:07.167801",
     "status": "completed"
    },
    "tags": []
   },
   "outputs": [],
   "source": [
    "#hide\n",
    "dates = []\n",
    "for i in arr_dates:\n",
    "    if i>='2020-07-01':\n",
    "        dates.append(i)\n",
    "dict = {'states':dates}\n",
    "for i in arr_states:\n",
    "    dict[i] = [0]*len(dates)\n",
    "dft_cases = pd.DataFrame(dict)\n",
    "dft_deaths = pd.DataFrame(dict)\n"
   ]
  },
  {
   "cell_type": "code",
   "execution_count": 6,
   "id": "simplified-peter",
   "metadata": {
    "execution": {
     "iopub.execute_input": "2021-02-28T12:32:07.248118Z",
     "iopub.status.busy": "2021-02-28T12:32:07.247525Z",
     "iopub.status.idle": "2021-02-28T12:32:10.626514Z",
     "shell.execute_reply": "2021-02-28T12:32:10.625849Z"
    },
    "papermill": {
     "duration": 3.402562,
     "end_time": "2021-02-28T12:32:10.626651",
     "exception": false,
     "start_time": "2021-02-28T12:32:07.224089",
     "status": "completed"
    },
    "tags": []
   },
   "outputs": [],
   "source": [
    "#hide\n",
    "for i in range(len(dates)):\n",
    "    df1_deaths = df_deaths1.get_group(dates[i])\n",
    "    for j in range(len(df1_deaths.index)):\n",
    "        if df1_deaths.iloc[j,1] in arr_states:\n",
    "            dft_deaths.loc[i,df1_deaths.iloc[j,1]] = df1_deaths.iloc[j,2]\n",
    "dft_deaths = dft_deaths.set_index('states')"
   ]
  },
  {
   "cell_type": "code",
   "execution_count": 7,
   "id": "geological-welding",
   "metadata": {
    "execution": {
     "iopub.execute_input": "2021-02-28T12:32:10.667564Z",
     "iopub.status.busy": "2021-02-28T12:32:10.666942Z",
     "iopub.status.idle": "2021-02-28T12:32:14.034512Z",
     "shell.execute_reply": "2021-02-28T12:32:14.033503Z"
    },
    "papermill": {
     "duration": 3.390692,
     "end_time": "2021-02-28T12:32:14.034658",
     "exception": false,
     "start_time": "2021-02-28T12:32:10.643966",
     "status": "completed"
    },
    "tags": []
   },
   "outputs": [],
   "source": [
    "#hide\n",
    "for i in range(len(dates)):\n",
    "    df1_cases = df_cases1.get_group(dates[i])\n",
    "    for j in range(len(df1_cases.index)):\n",
    "        if df1_cases.iloc[j,1] in arr_states:\n",
    "            dft_cases.loc[i,df1_cases.iloc[j,1]] = df1_cases.iloc[j,2]\n",
    "dft_cases = dft_cases.set_index('states')"
   ]
  },
  {
   "cell_type": "code",
   "execution_count": 8,
   "id": "binary-ratio",
   "metadata": {
    "execution": {
     "iopub.execute_input": "2021-02-28T12:32:14.075094Z",
     "iopub.status.busy": "2021-02-28T12:32:14.074340Z",
     "iopub.status.idle": "2021-02-28T12:32:14.075811Z",
     "shell.execute_reply": "2021-02-28T12:32:14.076433Z"
    },
    "papermill": {
     "duration": 0.024539,
     "end_time": "2021-02-28T12:32:14.076590",
     "exception": false,
     "start_time": "2021-02-28T12:32:14.052051",
     "status": "completed"
    },
    "tags": []
   },
   "outputs": [],
   "source": [
    "#hide\n",
    "dft_cases = dft_cases.T\n",
    "dft_deaths = dft_deaths.T\n",
    "dt_today = dates[-1]\n",
    "dt_yday = dates[-2]"
   ]
  },
  {
   "cell_type": "code",
   "execution_count": 9,
   "id": "boolean-calculator",
   "metadata": {
    "execution": {
     "iopub.execute_input": "2021-02-28T12:32:14.117566Z",
     "iopub.status.busy": "2021-02-28T12:32:14.116982Z",
     "iopub.status.idle": "2021-02-28T12:32:14.122231Z",
     "shell.execute_reply": "2021-02-28T12:32:14.121653Z"
    },
    "papermill": {
     "duration": 0.02799,
     "end_time": "2021-02-28T12:32:14.122349",
     "exception": false,
     "start_time": "2021-02-28T12:32:14.094359",
     "status": "completed"
    },
    "tags": []
   },
   "outputs": [],
   "source": [
    "#hide\n",
    "dft_cases = dft_cases.reset_index()\n",
    "dft_deaths = dft_deaths.reset_index()\n",
    "dft_cases = dft_cases.rename(columns = {'index':'state'})\n",
    "dft_deaths = dft_deaths.rename(columns = {'index':'state'})"
   ]
  },
  {
   "cell_type": "code",
   "execution_count": 10,
   "id": "invisible-johnston",
   "metadata": {
    "execution": {
     "iopub.execute_input": "2021-02-28T12:32:14.167802Z",
     "iopub.status.busy": "2021-02-28T12:32:14.167222Z",
     "iopub.status.idle": "2021-02-28T12:32:14.169001Z",
     "shell.execute_reply": "2021-02-28T12:32:14.169448Z"
    },
    "papermill": {
     "duration": 0.029669,
     "end_time": "2021-02-28T12:32:14.169584",
     "exception": false,
     "start_time": "2021-02-28T12:32:14.139915",
     "status": "completed"
    },
    "tags": []
   },
   "outputs": [],
   "source": [
    "#hide\n",
    "dfc_cases = dft_cases.groupby('state')[dt_today].sum()\n",
    "dfc_deaths = dft_deaths.groupby('state')[dt_today].sum()\n",
    "dfp_cases = dft_cases.groupby('state')[dt_yday].sum()\n",
    "dfp_deaths = dft_deaths.groupby('state')[dt_yday].sum()"
   ]
  },
  {
   "cell_type": "code",
   "execution_count": 11,
   "id": "measured-great",
   "metadata": {
    "execution": {
     "iopub.execute_input": "2021-02-28T12:32:14.210686Z",
     "iopub.status.busy": "2021-02-28T12:32:14.210098Z",
     "iopub.status.idle": "2021-02-28T12:32:14.226435Z",
     "shell.execute_reply": "2021-02-28T12:32:14.226926Z"
    },
    "papermill": {
     "duration": 0.040362,
     "end_time": "2021-02-28T12:32:14.227074",
     "exception": false,
     "start_time": "2021-02-28T12:32:14.186712",
     "status": "completed"
    },
    "tags": []
   },
   "outputs": [
    {
     "data": {
      "text/html": [
       "<div>\n",
       "<style scoped>\n",
       "    .dataframe tbody tr th:only-of-type {\n",
       "        vertical-align: middle;\n",
       "    }\n",
       "\n",
       "    .dataframe tbody tr th {\n",
       "        vertical-align: top;\n",
       "    }\n",
       "\n",
       "    .dataframe thead th {\n",
       "        text-align: right;\n",
       "    }\n",
       "</style>\n",
       "<table border=\"1\" class=\"dataframe\">\n",
       "  <thead>\n",
       "    <tr style=\"text-align: right;\">\n",
       "      <th></th>\n",
       "      <th>states</th>\n",
       "      <th>Cases</th>\n",
       "      <th>Deaths</th>\n",
       "      <th>PCases</th>\n",
       "      <th>PDeaths</th>\n",
       "    </tr>\n",
       "  </thead>\n",
       "  <tbody>\n",
       "    <tr>\n",
       "      <th>0</th>\n",
       "      <td>Maharashtra</td>\n",
       "      <td>2146777</td>\n",
       "      <td>52092</td>\n",
       "      <td>2146777</td>\n",
       "      <td>52092</td>\n",
       "    </tr>\n",
       "    <tr>\n",
       "      <th>1</th>\n",
       "      <td>Kerala</td>\n",
       "      <td>1056150</td>\n",
       "      <td>4183</td>\n",
       "      <td>1056150</td>\n",
       "      <td>4183</td>\n",
       "    </tr>\n",
       "    <tr>\n",
       "      <th>2</th>\n",
       "      <td>Karnataka</td>\n",
       "      <td>950730</td>\n",
       "      <td>12326</td>\n",
       "      <td>950730</td>\n",
       "      <td>12326</td>\n",
       "    </tr>\n",
       "    <tr>\n",
       "      <th>3</th>\n",
       "      <td>Andhra Pradesh</td>\n",
       "      <td>889799</td>\n",
       "      <td>7169</td>\n",
       "      <td>889799</td>\n",
       "      <td>7169</td>\n",
       "    </tr>\n",
       "    <tr>\n",
       "      <th>4</th>\n",
       "      <td>Tamil Nadu</td>\n",
       "      <td>851063</td>\n",
       "      <td>12493</td>\n",
       "      <td>851063</td>\n",
       "      <td>12493</td>\n",
       "    </tr>\n",
       "  </tbody>\n",
       "</table>\n",
       "</div>"
      ],
      "text/plain": [
       "           states    Cases  Deaths   PCases  PDeaths\n",
       "0     Maharashtra  2146777   52092  2146777    52092\n",
       "1          Kerala  1056150    4183  1056150     4183\n",
       "2       Karnataka   950730   12326   950730    12326\n",
       "3  Andhra Pradesh   889799    7169   889799     7169\n",
       "4      Tamil Nadu   851063   12493   851063    12493"
      ]
     },
     "execution_count": 11,
     "metadata": {},
     "output_type": "execute_result"
    }
   ],
   "source": [
    "#hide\n",
    "df_table = pd.DataFrame({'states': dfc_cases.index, 'Cases': dfc_cases.values, 'Deaths': dfc_deaths.values, 'PCases': dfp_cases.values, 'PDeaths': dfp_deaths.values}).set_index('states')\n",
    "df_table = df_table.sort_values(by = ['Cases','Deaths'], ascending = [False, False])\n",
    "df_table = df_table.reset_index()\n",
    "df_table.head()"
   ]
  },
  {
   "cell_type": "code",
   "execution_count": 12,
   "id": "found-montreal",
   "metadata": {
    "execution": {
     "iopub.execute_input": "2021-02-28T12:32:14.268300Z",
     "iopub.status.busy": "2021-02-28T12:32:14.267723Z",
     "iopub.status.idle": "2021-02-28T12:32:14.277026Z",
     "shell.execute_reply": "2021-02-28T12:32:14.277535Z"
    },
    "papermill": {
     "duration": 0.032819,
     "end_time": "2021-02-28T12:32:14.277673",
     "exception": false,
     "start_time": "2021-02-28T12:32:14.244854",
     "status": "completed"
    },
    "tags": []
   },
   "outputs": [],
   "source": [
    "#hide\n",
    "for c in 'Cases, Deaths'.split(', '):\n",
    "    df_table[f'{c} (+)'] = (df_table[c] - df_table[f'P{c}']).clip(0)\n",
    "df_table['Fatality Rate'] = (100* df_table['Deaths']/ df_table['Cases']).round(2)"
   ]
  },
  {
   "cell_type": "code",
   "execution_count": 13,
   "id": "minus-savage",
   "metadata": {
    "execution": {
     "iopub.execute_input": "2021-02-28T12:32:14.324767Z",
     "iopub.status.busy": "2021-02-28T12:32:14.324189Z",
     "iopub.status.idle": "2021-02-28T12:32:14.327008Z",
     "shell.execute_reply": "2021-02-28T12:32:14.326537Z"
    },
    "papermill": {
     "duration": 0.031318,
     "end_time": "2021-02-28T12:32:14.327126",
     "exception": false,
     "start_time": "2021-02-28T12:32:14.295808",
     "status": "completed"
    },
    "tags": []
   },
   "outputs": [
    {
     "data": {
      "text/html": [
       "<div>\n",
       "<style scoped>\n",
       "    .dataframe tbody tr th:only-of-type {\n",
       "        vertical-align: middle;\n",
       "    }\n",
       "\n",
       "    .dataframe tbody tr th {\n",
       "        vertical-align: top;\n",
       "    }\n",
       "\n",
       "    .dataframe thead th {\n",
       "        text-align: right;\n",
       "    }\n",
       "</style>\n",
       "<table border=\"1\" class=\"dataframe\">\n",
       "  <thead>\n",
       "    <tr style=\"text-align: right;\">\n",
       "      <th></th>\n",
       "      <th>states</th>\n",
       "      <th>Cases</th>\n",
       "      <th>Deaths</th>\n",
       "      <th>PCases</th>\n",
       "      <th>PDeaths</th>\n",
       "      <th>Cases (+)</th>\n",
       "      <th>Deaths (+)</th>\n",
       "      <th>Fatality Rate</th>\n",
       "    </tr>\n",
       "  </thead>\n",
       "  <tbody>\n",
       "    <tr>\n",
       "      <th>0</th>\n",
       "      <td>Maharashtra</td>\n",
       "      <td>2146777</td>\n",
       "      <td>52092</td>\n",
       "      <td>2146777</td>\n",
       "      <td>52092</td>\n",
       "      <td>0</td>\n",
       "      <td>0</td>\n",
       "      <td>2.43</td>\n",
       "    </tr>\n",
       "    <tr>\n",
       "      <th>1</th>\n",
       "      <td>Kerala</td>\n",
       "      <td>1056150</td>\n",
       "      <td>4183</td>\n",
       "      <td>1056150</td>\n",
       "      <td>4183</td>\n",
       "      <td>0</td>\n",
       "      <td>0</td>\n",
       "      <td>0.40</td>\n",
       "    </tr>\n",
       "    <tr>\n",
       "      <th>2</th>\n",
       "      <td>Karnataka</td>\n",
       "      <td>950730</td>\n",
       "      <td>12326</td>\n",
       "      <td>950730</td>\n",
       "      <td>12326</td>\n",
       "      <td>0</td>\n",
       "      <td>0</td>\n",
       "      <td>1.30</td>\n",
       "    </tr>\n",
       "    <tr>\n",
       "      <th>3</th>\n",
       "      <td>Andhra Pradesh</td>\n",
       "      <td>889799</td>\n",
       "      <td>7169</td>\n",
       "      <td>889799</td>\n",
       "      <td>7169</td>\n",
       "      <td>0</td>\n",
       "      <td>0</td>\n",
       "      <td>0.81</td>\n",
       "    </tr>\n",
       "    <tr>\n",
       "      <th>4</th>\n",
       "      <td>Tamil Nadu</td>\n",
       "      <td>851063</td>\n",
       "      <td>12493</td>\n",
       "      <td>851063</td>\n",
       "      <td>12493</td>\n",
       "      <td>0</td>\n",
       "      <td>0</td>\n",
       "      <td>1.47</td>\n",
       "    </tr>\n",
       "  </tbody>\n",
       "</table>\n",
       "</div>"
      ],
      "text/plain": [
       "           states    Cases  Deaths   PCases  PDeaths  Cases (+)  Deaths (+)  \\\n",
       "0     Maharashtra  2146777   52092  2146777    52092          0           0   \n",
       "1          Kerala  1056150    4183  1056150     4183          0           0   \n",
       "2       Karnataka   950730   12326   950730    12326          0           0   \n",
       "3  Andhra Pradesh   889799    7169   889799     7169          0           0   \n",
       "4      Tamil Nadu   851063   12493   851063    12493          0           0   \n",
       "\n",
       "   Fatality Rate  \n",
       "0           2.43  \n",
       "1           0.40  \n",
       "2           1.30  \n",
       "3           0.81  \n",
       "4           1.47  "
      ]
     },
     "execution_count": 13,
     "metadata": {},
     "output_type": "execute_result"
    }
   ],
   "source": [
    "#hide\n",
    "df_table.head()"
   ]
  },
  {
   "cell_type": "code",
   "execution_count": 14,
   "id": "false-peter",
   "metadata": {
    "execution": {
     "iopub.execute_input": "2021-02-28T12:32:14.368805Z",
     "iopub.status.busy": "2021-02-28T12:32:14.368231Z",
     "iopub.status.idle": "2021-02-28T12:32:14.384758Z",
     "shell.execute_reply": "2021-02-28T12:32:14.384292Z"
    },
    "papermill": {
     "duration": 0.039917,
     "end_time": "2021-02-28T12:32:14.384875",
     "exception": false,
     "start_time": "2021-02-28T12:32:14.344958",
     "status": "completed"
    },
    "tags": []
   },
   "outputs": [
    {
     "data": {
      "text/plain": [
       "{'updated': '2021-02-28',\n",
       " 'since': '2021-02-27',\n",
       " 'Cases': 11096963,\n",
       " 'PCases': 11096442,\n",
       " 'Deaths': 157091,\n",
       " 'PDeaths': 157087,\n",
       " 'Cases (+)': 521,\n",
       " 'Deaths (+)': 4}"
      ]
     },
     "execution_count": 14,
     "metadata": {},
     "output_type": "execute_result"
    }
   ],
   "source": [
    "#hide\n",
    "summary = {'updated':dates[-1], 'since':dates[-2]}\n",
    "list_names = ['Cases', 'PCases', 'Deaths', 'PDeaths', 'Cases (+)', 'Deaths (+)']\n",
    "for name in list_names:\n",
    "    summary[name] = df_table.sum()[name]\n",
    "summary"
   ]
  },
  {
   "cell_type": "code",
   "execution_count": 15,
   "id": "packed-viewer",
   "metadata": {
    "execution": {
     "iopub.execute_input": "2021-02-28T12:32:14.425852Z",
     "iopub.status.busy": "2021-02-28T12:32:14.425273Z",
     "iopub.status.idle": "2021-02-28T12:32:14.427629Z",
     "shell.execute_reply": "2021-02-28T12:32:14.427142Z"
    },
    "papermill": {
     "duration": 0.024583,
     "end_time": "2021-02-28T12:32:14.427741",
     "exception": false,
     "start_time": "2021-02-28T12:32:14.403158",
     "status": "completed"
    },
    "tags": []
   },
   "outputs": [],
   "source": [
    "#hide\n",
    "overview = '''\n",
    "<!-- #######  HTML!! #########-->\n",
    "<h1 style=\"color: #5e9ca0; text-align: center;\">India</h1>\n",
    "<p style=\"text-align: center;\">Last update: <strong>{update}</strong></p>\n",
    "<p style=\"text-align: center;\">Confirmed cases:</p>\n",
    "<p style=\"text-align: center;font-size:24px;\">{cases} (<span style=\"color: #ff0000;\">+{new}</span>)</p>\n",
    "<p style=\"text-align: center;\">Confirmed deaths:</p>\n",
    "<p style=\"text-align: center;font-size:24px;\">{deaths} (<span style=\"color: #ff0000;\">+{dnew}</span>)</p>\n",
    "'''"
   ]
  },
  {
   "cell_type": "code",
   "execution_count": 16,
   "id": "phantom-lover",
   "metadata": {
    "execution": {
     "iopub.execute_input": "2021-02-28T12:32:14.470174Z",
     "iopub.status.busy": "2021-02-28T12:32:14.469476Z",
     "iopub.status.idle": "2021-02-28T12:32:14.471922Z",
     "shell.execute_reply": "2021-02-28T12:32:14.472552Z"
    },
    "papermill": {
     "duration": 0.027015,
     "end_time": "2021-02-28T12:32:14.472703",
     "exception": false,
     "start_time": "2021-02-28T12:32:14.445688",
     "status": "completed"
    },
    "tags": []
   },
   "outputs": [
    {
     "data": {
      "text/html": [
       "\n",
       "<!-- #######  HTML!! #########-->\n",
       "<h1 style=\"color: #5e9ca0; text-align: center;\">India</h1>\n",
       "<p style=\"text-align: center;\">Last update: <strong>2021-02-28</strong></p>\n",
       "<p style=\"text-align: center;\">Confirmed cases:</p>\n",
       "<p style=\"text-align: center;font-size:24px;\">11096963 (<span style=\"color: #ff0000;\">+521</span>)</p>\n",
       "<p style=\"text-align: center;\">Confirmed deaths:</p>\n",
       "<p style=\"text-align: center;font-size:24px;\">157091 (<span style=\"color: #ff0000;\">+4</span>)</p>\n"
      ],
      "text/plain": [
       "<IPython.core.display.HTML object>"
      ]
     },
     "metadata": {},
     "output_type": "display_data"
    }
   ],
   "source": [
    "#hide_input\n",
    "update = summary['updated']\n",
    "cases = summary['Cases']\n",
    "new = summary['Cases (+)']\n",
    "deaths = summary['Deaths']\n",
    "dnew = summary['Deaths (+)']\n",
    "\n",
    "html = HTML(overview.format(update=update, cases=cases,new=new,deaths=deaths,dnew=dnew))\n",
    "\n",
    "display(html)"
   ]
  },
  {
   "cell_type": "code",
   "execution_count": 17,
   "id": "sealed-reset",
   "metadata": {
    "execution": {
     "iopub.execute_input": "2021-02-28T12:32:14.516123Z",
     "iopub.status.busy": "2021-02-28T12:32:14.515547Z",
     "iopub.status.idle": "2021-02-28T12:32:14.522219Z",
     "shell.execute_reply": "2021-02-28T12:32:14.522747Z"
    },
    "papermill": {
     "duration": 0.031515,
     "end_time": "2021-02-28T12:32:14.522880",
     "exception": false,
     "start_time": "2021-02-28T12:32:14.491365",
     "status": "completed"
    },
    "tags": []
   },
   "outputs": [],
   "source": [
    "#hide\n",
    "dt_cols = list(dft_cases.columns[1:])\n",
    "dft_ct_new_cases = dft_cases.groupby('state')[dt_cols].sum().diff(axis=1).fillna(0).astype(int)\n",
    "dft_ct_new_cases.sort_values(by = dates[-1], ascending = False,inplace = True)"
   ]
  },
  {
   "cell_type": "code",
   "execution_count": 18,
   "id": "designed-constant",
   "metadata": {
    "execution": {
     "iopub.execute_input": "2021-02-28T12:32:14.576243Z",
     "iopub.status.busy": "2021-02-28T12:32:14.571607Z",
     "iopub.status.idle": "2021-02-28T12:32:14.579436Z",
     "shell.execute_reply": "2021-02-28T12:32:14.578946Z"
    },
    "papermill": {
     "duration": 0.038359,
     "end_time": "2021-02-28T12:32:14.579541",
     "exception": false,
     "start_time": "2021-02-28T12:32:14.541182",
     "status": "completed"
    },
    "tags": []
   },
   "outputs": [
    {
     "data": {
      "text/html": [
       "<div>\n",
       "<style scoped>\n",
       "    .dataframe tbody tr th:only-of-type {\n",
       "        vertical-align: middle;\n",
       "    }\n",
       "\n",
       "    .dataframe tbody tr th {\n",
       "        vertical-align: top;\n",
       "    }\n",
       "\n",
       "    .dataframe thead th {\n",
       "        text-align: right;\n",
       "    }\n",
       "</style>\n",
       "<table border=\"1\" class=\"dataframe\">\n",
       "  <thead>\n",
       "    <tr style=\"text-align: right;\">\n",
       "      <th>states</th>\n",
       "      <th>2020-07-01</th>\n",
       "      <th>2020-07-02</th>\n",
       "      <th>2020-07-03</th>\n",
       "      <th>2020-07-04</th>\n",
       "      <th>2020-07-05</th>\n",
       "      <th>2020-07-06</th>\n",
       "      <th>2020-07-07</th>\n",
       "      <th>2020-07-08</th>\n",
       "      <th>2020-07-09</th>\n",
       "      <th>2020-07-10</th>\n",
       "      <th>...</th>\n",
       "      <th>2021-02-19</th>\n",
       "      <th>2021-02-20</th>\n",
       "      <th>2021-02-21</th>\n",
       "      <th>2021-02-22</th>\n",
       "      <th>2021-02-23</th>\n",
       "      <th>2021-02-24</th>\n",
       "      <th>2021-02-25</th>\n",
       "      <th>2021-02-26</th>\n",
       "      <th>2021-02-27</th>\n",
       "      <th>2021-02-28</th>\n",
       "    </tr>\n",
       "    <tr>\n",
       "      <th>state</th>\n",
       "      <th></th>\n",
       "      <th></th>\n",
       "      <th></th>\n",
       "      <th></th>\n",
       "      <th></th>\n",
       "      <th></th>\n",
       "      <th></th>\n",
       "      <th></th>\n",
       "      <th></th>\n",
       "      <th></th>\n",
       "      <th></th>\n",
       "      <th></th>\n",
       "      <th></th>\n",
       "      <th></th>\n",
       "      <th></th>\n",
       "      <th></th>\n",
       "      <th></th>\n",
       "      <th></th>\n",
       "      <th></th>\n",
       "      <th></th>\n",
       "      <th></th>\n",
       "    </tr>\n",
       "  </thead>\n",
       "  <tbody>\n",
       "    <tr>\n",
       "      <th>Delhi</th>\n",
       "      <td>0</td>\n",
       "      <td>2373</td>\n",
       "      <td>2520</td>\n",
       "      <td>2505</td>\n",
       "      <td>2244</td>\n",
       "      <td>1379</td>\n",
       "      <td>2008</td>\n",
       "      <td>2033</td>\n",
       "      <td>2187</td>\n",
       "      <td>2089</td>\n",
       "      <td>...</td>\n",
       "      <td>158</td>\n",
       "      <td>152</td>\n",
       "      <td>145</td>\n",
       "      <td>128</td>\n",
       "      <td>145</td>\n",
       "      <td>200</td>\n",
       "      <td>220</td>\n",
       "      <td>256</td>\n",
       "      <td>243</td>\n",
       "      <td>197</td>\n",
       "    </tr>\n",
       "    <tr>\n",
       "      <th>Telangana</th>\n",
       "      <td>0</td>\n",
       "      <td>1213</td>\n",
       "      <td>1892</td>\n",
       "      <td>1850</td>\n",
       "      <td>1590</td>\n",
       "      <td>1831</td>\n",
       "      <td>1879</td>\n",
       "      <td>1924</td>\n",
       "      <td>1410</td>\n",
       "      <td>1278</td>\n",
       "      <td>...</td>\n",
       "      <td>165</td>\n",
       "      <td>157</td>\n",
       "      <td>163</td>\n",
       "      <td>114</td>\n",
       "      <td>0</td>\n",
       "      <td>345</td>\n",
       "      <td>207</td>\n",
       "      <td>189</td>\n",
       "      <td>178</td>\n",
       "      <td>176</td>\n",
       "    </tr>\n",
       "    <tr>\n",
       "      <th>Odisha</th>\n",
       "      <td>0</td>\n",
       "      <td>229</td>\n",
       "      <td>561</td>\n",
       "      <td>495</td>\n",
       "      <td>469</td>\n",
       "      <td>456</td>\n",
       "      <td>571</td>\n",
       "      <td>527</td>\n",
       "      <td>577</td>\n",
       "      <td>755</td>\n",
       "      <td>...</td>\n",
       "      <td>53</td>\n",
       "      <td>65</td>\n",
       "      <td>58</td>\n",
       "      <td>69</td>\n",
       "      <td>62</td>\n",
       "      <td>68</td>\n",
       "      <td>89</td>\n",
       "      <td>94</td>\n",
       "      <td>86</td>\n",
       "      <td>87</td>\n",
       "    </tr>\n",
       "    <tr>\n",
       "      <th>Jammu and Kashmir</th>\n",
       "      <td>0</td>\n",
       "      <td>154</td>\n",
       "      <td>170</td>\n",
       "      <td>227</td>\n",
       "      <td>183</td>\n",
       "      <td>246</td>\n",
       "      <td>256</td>\n",
       "      <td>330</td>\n",
       "      <td>240</td>\n",
       "      <td>387</td>\n",
       "      <td>...</td>\n",
       "      <td>81</td>\n",
       "      <td>68</td>\n",
       "      <td>84</td>\n",
       "      <td>58</td>\n",
       "      <td>94</td>\n",
       "      <td>74</td>\n",
       "      <td>108</td>\n",
       "      <td>85</td>\n",
       "      <td>97</td>\n",
       "      <td>58</td>\n",
       "    </tr>\n",
       "    <tr>\n",
       "      <th>Meghalaya</th>\n",
       "      <td>0</td>\n",
       "      <td>3</td>\n",
       "      <td>4</td>\n",
       "      <td>8</td>\n",
       "      <td>2</td>\n",
       "      <td>16</td>\n",
       "      <td>6</td>\n",
       "      <td>6</td>\n",
       "      <td>13</td>\n",
       "      <td>73</td>\n",
       "      <td>...</td>\n",
       "      <td>5</td>\n",
       "      <td>1</td>\n",
       "      <td>0</td>\n",
       "      <td>2</td>\n",
       "      <td>1</td>\n",
       "      <td>3</td>\n",
       "      <td>3</td>\n",
       "      <td>0</td>\n",
       "      <td>0</td>\n",
       "      <td>1</td>\n",
       "    </tr>\n",
       "  </tbody>\n",
       "</table>\n",
       "<p>5 rows × 243 columns</p>\n",
       "</div>"
      ],
      "text/plain": [
       "states             2020-07-01  2020-07-02  2020-07-03  2020-07-04  2020-07-05  \\\n",
       "state                                                                           \n",
       "Delhi                       0        2373        2520        2505        2244   \n",
       "Telangana                   0        1213        1892        1850        1590   \n",
       "Odisha                      0         229         561         495         469   \n",
       "Jammu and Kashmir           0         154         170         227         183   \n",
       "Meghalaya                   0           3           4           8           2   \n",
       "\n",
       "states             2020-07-06  2020-07-07  2020-07-08  2020-07-09  2020-07-10  \\\n",
       "state                                                                           \n",
       "Delhi                    1379        2008        2033        2187        2089   \n",
       "Telangana                1831        1879        1924        1410        1278   \n",
       "Odisha                    456         571         527         577         755   \n",
       "Jammu and Kashmir         246         256         330         240         387   \n",
       "Meghalaya                  16           6           6          13          73   \n",
       "\n",
       "states             ...  2021-02-19  2021-02-20  2021-02-21  2021-02-22  \\\n",
       "state              ...                                                   \n",
       "Delhi              ...         158         152         145         128   \n",
       "Telangana          ...         165         157         163         114   \n",
       "Odisha             ...          53          65          58          69   \n",
       "Jammu and Kashmir  ...          81          68          84          58   \n",
       "Meghalaya          ...           5           1           0           2   \n",
       "\n",
       "states             2021-02-23  2021-02-24  2021-02-25  2021-02-26  2021-02-27  \\\n",
       "state                                                                           \n",
       "Delhi                     145         200         220         256         243   \n",
       "Telangana                   0         345         207         189         178   \n",
       "Odisha                     62          68          89          94          86   \n",
       "Jammu and Kashmir          94          74         108          85          97   \n",
       "Meghalaya                   1           3           3           0           0   \n",
       "\n",
       "states             2021-02-28  \n",
       "state                          \n",
       "Delhi                     197  \n",
       "Telangana                 176  \n",
       "Odisha                     87  \n",
       "Jammu and Kashmir          58  \n",
       "Meghalaya                   1  \n",
       "\n",
       "[5 rows x 243 columns]"
      ]
     },
     "execution_count": 18,
     "metadata": {},
     "output_type": "execute_result"
    }
   ],
   "source": [
    "#hide\n",
    "dft_ct_new_cases.head()"
   ]
  },
  {
   "cell_type": "code",
   "execution_count": 19,
   "id": "responsible-nightlife",
   "metadata": {
    "execution": {
     "iopub.execute_input": "2021-02-28T12:32:14.647382Z",
     "iopub.status.busy": "2021-02-28T12:32:14.635555Z",
     "iopub.status.idle": "2021-02-28T12:32:22.798833Z",
     "shell.execute_reply": "2021-02-28T12:32:22.799313Z"
    },
    "papermill": {
     "duration": 8.20085,
     "end_time": "2021-02-28T12:32:22.799464",
     "exception": false,
     "start_time": "2021-02-28T12:32:14.598614",
     "status": "completed"
    },
    "tags": []
   },
   "outputs": [
    {
     "data": {
      "image/png": "[encoded data removed]",
      "text/plain": [
       "<Figure size 1296x2016 with 11 Axes>"
      ]
     },
     "metadata": {
      "needs_background": "light"
     },
     "output_type": "display_data"
    }
   ],
   "source": [
    "#hide_input\n",
    "df = dft_ct_new_cases.copy()\n",
    "df.loc['Total'] = df.sum()\n",
    "n = 5\n",
    "ax = []\n",
    "fig = plt.figure(figsize = (18,28))\n",
    "gs = fig.add_gridspec(n+2, 5)\n",
    "# gs = fig.add_gridspec(2, 3)\n",
    "ax1 = fig.add_subplot(gs[0, :])\n",
    "ef = df.loc['Total'].rename_axis('date').reset_index()\n",
    "ef['date'] = ef['date'].astype('datetime64[ns]')\n",
    "ax1.bar(ef.date,ef.Total,alpha=0.3,color='#007acc')\n",
    "ax1.plot(ef.date,ef.Total , marker=\"o\", color='#007acc')\n",
    "ax1.xaxis.set_major_locator(mdates.WeekdayLocator())\n",
    "ax1.xaxis.set_major_formatter(mdates.DateFormatter('%b %d'))\n",
    "ax1.text(0.02, 0.5,'India daily case count', transform = ax1.transAxes, fontsize=25);\n",
    "ax1.spines['right'].set_visible(False)\n",
    "ax1.spines['top'].set_visible(False)\n",
    "\n",
    "ax2 = fig.add_subplot(gs[1,0])\n",
    "ef = df.loc['Maharashtra'].rename_axis('date').reset_index()\n",
    "ef['date'] = ef['date'].astype('datetime64[ns]')\n",
    "\n",
    "ax2.bar(ef.date, ef.Maharashtra,color = '#007acc',alpha=0.5)\n",
    "ax2.xaxis.set_major_locator(mdates.WeekdayLocator())\n",
    "ax2.xaxis.set_major_formatter(mdates.DateFormatter('%b %d'))\n",
    "ax2.set_xticks(ax2.get_xticks()[::3])\n",
    "maxyval = ef.Maharashtra.max()\n",
    "ax2.set_ylim([0,maxyval])\n",
    "ax2.text(0.05, 0.9,'Maharashtra', transform = ax2.transAxes, fontsize=20);\n",
    "ax2.spines['right'].set_visible(False)\n",
    "ax2.spines['top'].set_visible(False)\n",
    "\n",
    "\n",
    "ax3 = fig.add_subplot(gs[1,1])\n",
    "ef = df.loc['Tamil Nadu'].rename_axis('date').reset_index()\n",
    "ef['date'] = ef['date'].astype('datetime64[ns]')\n",
    "ax3.bar(ef.date, ef['Tamil Nadu'],color = '#007acc',alpha=0.5,)\n",
    "ax3.xaxis.set_major_locator(mdates.WeekdayLocator())\n",
    "ax3.xaxis.set_major_formatter(mdates.DateFormatter('%b %d'))\n",
    "ax3.set_xticks(ax3.get_xticks()[::3])\n",
    "ax3.text(0.05, 0.9,'Tamil Nadu', transform = ax3.transAxes, fontsize=20);\n",
    "ax3.spines['right'].set_visible(False)\n",
    "ax3.spines['top'].set_visible(False)\n",
    "\n",
    "ax5 = fig.add_subplot(gs[1,3])\n",
    "ef = df.loc['Telangana'].rename_axis('date').reset_index()\n",
    "ef['date'] = ef['date'].astype('datetime64[ns]')\n",
    "ax5.bar(ef.date, ef['Telangana'],color = '#007acc',alpha=0.5,)\n",
    "ax5.xaxis.set_major_locator(mdates.WeekdayLocator())\n",
    "ax5.xaxis.set_major_formatter(mdates.DateFormatter('%b %d'))\n",
    "ax5.set_xticks(ax5.get_xticks()[::3])\n",
    "ax5.text(0.05, 0.9,'Telangana', transform = ax5.transAxes, fontsize=20);\n",
    "ax5.spines['right'].set_visible(False)\n",
    "ax5.spines['top'].set_visible(False)\n",
    "\n",
    "ax6 = fig.add_subplot(gs[1,4])\n",
    "ef = df.loc['Andhra Pradesh'].rename_axis('date').reset_index()\n",
    "ef['date'] = ef['date'].astype('datetime64[ns]')\n",
    "ax6.bar(ef.date, ef['Andhra Pradesh'],color = '#007acc',alpha=0.5,)\n",
    "ax6.xaxis.set_major_locator(mdates.WeekdayLocator())\n",
    "ax6.xaxis.set_major_formatter(mdates.DateFormatter('%b %d'))\n",
    "ax6.set_xticks(ax6.get_xticks()[::3])\n",
    "ax6.text(0.05, 1,'Andhra Pradesh', transform = ax6.transAxes, fontsize=20);\n",
    "ax6.spines['right'].set_visible(False)\n",
    "ax6.spines['top'].set_visible(False)\n",
    "\n",
    "ax4 = fig.add_subplot(gs[1,2])\n",
    "ef = df.loc['Delhi'].rename_axis('date').reset_index()\n",
    "ef['date'] = ef['date'].astype('datetime64[ns]')\n",
    "ax4.bar(ef.date, ef.Delhi,color = '#007acc',alpha=0.5)\n",
    "ax4.set_xticks([])\n",
    "ax4.xaxis.set_major_locator(mdates.WeekdayLocator())\n",
    "ax4.xaxis.set_major_formatter(mdates.DateFormatter('%b %d'))\n",
    "ax4.set_xticks(ax4.get_xticks()[::3])\n",
    "ax4.spines['right'].set_visible(False)\n",
    "ax4.spines['top'].set_visible(False)\n",
    "\n",
    "ax4.text(0.05, 1,'Delhi', transform = ax4.transAxes, fontsize=20)\n",
    "\n",
    "for i in range(n):\n",
    "    \n",
    "    ax.append(fig.add_subplot(gs[i+2,:]))\n",
    "    ef = df.iloc[i+3].rename_axis('date').reset_index()\n",
    "    ef['date'] = ef['date'].astype('datetime64[ns]')\n",
    "    ax[i].bar(ef.date,ef.iloc[:,-1],color = '#007acc',alpha=0.3)\n",
    "    ax[i].plot(ef.date,ef.iloc[:,-1],marker='o',color='#007acc')\n",
    "    ax[i].text(0.02,0.5,f'{ef.columns.values[-1]}',transform = ax[i].transAxes, fontsize = 20);\n",
    "    ax[i].xaxis.set_major_locator(mdates.WeekdayLocator())\n",
    "    ax[i].xaxis.set_major_formatter(mdates.DateFormatter('%b %d'))\n",
    "    ax[i].set_ylim([0,7000])\n",
    "    ax[i].spines['right'].set_visible(False)\n",
    "    ax[i].spines['top'].set_visible(False)\n",
    "plt.tight_layout()\n"
   ]
  },
  {
   "cell_type": "code",
   "execution_count": 20,
   "id": "dress-forge",
   "metadata": {
    "execution": {
     "iopub.execute_input": "2021-02-28T12:32:22.857769Z",
     "iopub.status.busy": "2021-02-28T12:32:22.857136Z",
     "iopub.status.idle": "2021-02-28T12:32:22.859413Z",
     "shell.execute_reply": "2021-02-28T12:32:22.859864Z"
    },
    "papermill": {
     "duration": 0.035643,
     "end_time": "2021-02-28T12:32:22.859998",
     "exception": false,
     "start_time": "2021-02-28T12:32:22.824355",
     "status": "completed"
    },
    "tags": []
   },
   "outputs": [
    {
     "name": "stdout",
     "output_type": "stream",
     "text": [
      "                                   states    Cases  Deaths   PCases  PDeaths  Cases (+)  Deaths (+)  Fatality Rate\n",
      "                              Maharashtra  2146777   52092  2146777    52092          0           0           2.43\n",
      "                                   Kerala  1056150    4183  1056150     4183          0           0           0.40\n",
      "                                Karnataka   950730   12326   950730    12326          0           0           1.30\n",
      "                           Andhra Pradesh   889799    7169   889799     7169          0           0           0.81\n",
      "                               Tamil Nadu   851063   12493   851063    12493          0           0           1.47\n",
      "                                    Delhi   639289   10910   639092    10909        197           1           1.71\n",
      "                            Uttar Pradesh   603427    8724   603427     8724          0           0           1.45\n",
      "                              West Bengal   574926   10266   574926    10266          0           0           1.79\n",
      "                                   Odisha   337191    1969   337104     1968         87           1           0.58\n",
      "                                Rajasthan   320180    2787   320180     2787          0           0           0.87\n",
      "                             Chhattisgarh   312419    3833   312419     3833          0           0           1.23\n",
      "                                Telangana   298807    1634   298631     1633        176           1           0.55\n",
      "                                  Haryana   270610    3047   270610     3047          0           0           1.13\n",
      "                                  Gujarat   269482    4409   269482     4409          0           0           1.64\n",
      "                                    Bihar   262509    1541   262509     1541          0           0           0.59\n",
      "                           Madhya Pradesh   261403    3863   261403     3863          0           0           1.48\n",
      "                                    Assam   217527    1092   217527     1092          0           0           0.50\n",
      "                                   Punjab   181597    5825   181597     5825          0           0           3.21\n",
      "                        Jammu and Kashmir   126441    1957   126383     1956         58           1           1.55\n",
      "                                Jharkhand   119905    1088   119905     1088          0           0           0.91\n",
      "                              Uttarakhand    96949    1692    96949     1692          0           0           1.75\n",
      "                         Himachal Pradesh    58598     982    58598      982          0           0           1.68\n",
      "                                      Goa    54932     794    54932      794          0           0           1.45\n",
      "                               Puducherry    39717     668    39717      668          0           0           1.68\n",
      "                                  Tripura    33404     388    33404      388          0           0           1.16\n",
      "                                  Manipur    29271     373    29271      373          0           0           1.27\n",
      "                               Chandigarh    21719     351    21719      351          0           0           1.62\n",
      "                        Arunachal Pradesh    16836      56    16836       56          0           0           0.33\n",
      "                                Meghalaya    13962     148    13961      148          1           0           1.06\n",
      "                                 Nagaland    12200      91    12199       91          1           0           0.75\n",
      "                                   Ladakh     9818     130     9818      130          0           0           1.32\n",
      "                                   Sikkim     6137     135     6137      135          0           0           2.20\n",
      "              Andaman and Nicobar Islands     5018      62     5018       62          0           0           1.24\n",
      "                                  Mizoram     4423      10     4422       10          1           0           0.23\n",
      " Dadra and Nagar Haveli and Daman and Diu     3388       2     3388        2          0           0           0.06\n",
      "                              Lakshadweep      359       1      359        1          0           0           0.28\n"
     ]
    }
   ],
   "source": [
    "#hide_input\n",
    "print(df_table.to_string(index=False))"
   ]
  },
  {
   "cell_type": "code",
   "execution_count": null,
   "id": "quantitative-legend",
   "metadata": {
    "papermill": {
     "duration": 0.024758,
     "end_time": "2021-02-28T12:32:22.909569",
     "exception": false,
     "start_time": "2021-02-28T12:32:22.884811",
     "status": "completed"
    },
    "tags": []
   },
   "outputs": [],
   "source": []
  },
  {
   "cell_type": "code",
   "execution_count": null,
   "id": "distant-acoustic",
   "metadata": {
    "papermill": {
     "duration": 0.024746,
     "end_time": "2021-02-28T12:32:22.959371",
     "exception": false,
     "start_time": "2021-02-28T12:32:22.934625",
     "status": "completed"
    },
    "tags": []
   },
   "outputs": [],
   "source": []
  }
 ],
 "metadata": {
  "kernelspec": {
   "display_name": "Python 3",
   "language": "python",
   "name": "python3"
  },
  "language_info": {
   "codemirror_mode": {
    "name": "ipython",
    "version": 3
   },
   "file_extension": ".py",
   "mimetype": "text/x-python",
   "name": "python",
   "nbconvert_exporter": "python",
   "pygments_lexer": "ipython3",
   "version": "3.6.13"
  },
  "papermill": {
   "duration": 18.911654,
   "end_time": "2021-02-28T12:32:23.592146",
   "environment_variables": {},
   "exception": null,
   "input_path": "latest.ipynb",
   "output_path": "latest.ipynb",
   "parameters": {},
   "start_time": "2021-02-28T12:32:04.680492",
   "version": "2.1.2"
  }
 },
 "nbformat": 4,
 "nbformat_minor": 5
}