{
 "cells": [
  {
   "cell_type": "markdown",
   "id": "colored-stack",
   "metadata": {
    "papermill": {
     "duration": 0.023257,
     "end_time": "2021-02-25T11:52:05.255130",
     "exception": false,
     "start_time": "2021-02-25T11:52:05.231873",
     "status": "completed"
    },
    "tags": []
   },
   "source": [
    "# Latest COVID-19 India Matplotlib Overview"
   ]
  },
  {
   "cell_type": "code",
   "execution_count": 1,
   "id": "light-proportion",
   "metadata": {
    "execution": {
     "iopub.execute_input": "2021-02-25T11:52:05.306010Z",
     "iopub.status.busy": "2021-02-25T11:52:05.305356Z",
     "iopub.status.idle": "2021-02-25T11:52:05.892322Z",
     "shell.execute_reply": "2021-02-25T11:52:05.892845Z"
    },
    "papermill": {
     "duration": 0.618225,
     "end_time": "2021-02-25T11:52:05.893034",
     "exception": false,
     "start_time": "2021-02-25T11:52:05.274809",
     "status": "completed"
    },
    "tags": []
   },
   "outputs": [],
   "source": [
    "#hide\n",
    "import pandas as pd\n",
    "import numpy as np\n",
    "import requests\n",
    "import json\n",
    "import matplotlib.pyplot as plt\n",
    "import matplotlib.dates as mdates\n",
    "import matplotlib as mpl\n",
    "from IPython.core.display import display,HTML\n",
    "%matplotlib inline\n",
    "from datetime import date"
   ]
  },
  {
   "cell_type": "code",
   "execution_count": 2,
   "id": "greenhouse-shooting",
   "metadata": {
    "execution": {
     "iopub.execute_input": "2021-02-25T11:52:05.937744Z",
     "iopub.status.busy": "2021-02-25T11:52:05.937088Z",
     "iopub.status.idle": "2021-02-25T11:52:06.121470Z",
     "shell.execute_reply": "2021-02-25T11:52:06.120421Z"
    },
    "papermill": {
     "duration": 0.208784,
     "end_time": "2021-02-25T11:52:06.121614",
     "exception": false,
     "start_time": "2021-02-25T11:52:05.912830",
     "status": "completed"
    },
    "tags": []
   },
   "outputs": [],
   "source": [
    "#hide\n",
    "df  = pd.read_csv('https://api.covid19india.org/csv/latest/states.csv')\n",
    "df = df[['Date','State','Confirmed','Deceased']]\n",
    "df = df.rename(columns={'Confirmed':'Cases', \"Deceased\":'Deaths'})\n",
    "df_cases = df[[\"Date\",'State','Cases']]\n",
    "df_deaths = df[['Date','State','Deaths']]\n",
    "df_cases1 = df_cases.groupby('Date')\n",
    "df_deaths1= df_deaths.groupby('Date')"
   ]
  },
  {
   "cell_type": "code",
   "execution_count": 3,
   "id": "hybrid-cathedral",
   "metadata": {
    "execution": {
     "iopub.execute_input": "2021-02-25T11:52:06.163304Z",
     "iopub.status.busy": "2021-02-25T11:52:06.162663Z",
     "iopub.status.idle": "2021-02-25T11:52:06.180455Z",
     "shell.execute_reply": "2021-02-25T11:52:06.180982Z"
    },
    "papermill": {
     "duration": 0.041089,
     "end_time": "2021-02-25T11:52:06.181130",
     "exception": false,
     "start_time": "2021-02-25T11:52:06.140041",
     "status": "completed"
    },
    "tags": []
   },
   "outputs": [],
   "source": [
    "#hide\n",
    "df_snap = pd.read_csv('data/SnapshotCases-28-July.csv')\n",
    "arr_states = df_snap['states'].unique()\n",
    "arr_dates = df['Date'].unique()\n",
    "df_snap = df_snap.set_index('states')"
   ]
  },
  {
   "cell_type": "code",
   "execution_count": 4,
   "id": "interior-belfast",
   "metadata": {
    "execution": {
     "iopub.execute_input": "2021-02-25T11:52:06.225703Z",
     "iopub.status.busy": "2021-02-25T11:52:06.225045Z",
     "iopub.status.idle": "2021-02-25T11:52:06.232231Z",
     "shell.execute_reply": "2021-02-25T11:52:06.231682Z"
    },
    "papermill": {
     "duration": 0.032647,
     "end_time": "2021-02-25T11:52:06.232357",
     "exception": false,
     "start_time": "2021-02-25T11:52:06.199710",
     "status": "completed"
    },
    "tags": []
   },
   "outputs": [
    {
     "data": {
      "text/plain": [
       "array(['Andaman and Nicobar Islands', 'Andhra Pradesh',\n",
       "       'Arunachal Pradesh', 'Assam', 'Bihar', 'Chandigarh',\n",
       "       'Dadra and Nagar Haveli and Daman and Diu', 'Delhi', 'Goa',\n",
       "       'Gujarat', 'Haryana', 'Himachal Pradesh', 'Jammu and Kashmir',\n",
       "       'Jharkhand', 'Karnataka', 'Kerala', 'Lakshadweep',\n",
       "       'Madhya Pradesh', 'Maharashtra', 'Manipur', 'Meghalaya', 'Mizoram',\n",
       "       'Nagaland', 'Odisha', 'Puducherry', 'Punjab', 'Rajasthan',\n",
       "       'Sikkim', 'Tamil Nadu', 'Telangana', 'Tripura', 'Uttar Pradesh',\n",
       "       'West Bengal', 'Chhattisgarh', 'Ladakh', 'Uttarakhand'],\n",
       "      dtype=object)"
      ]
     },
     "execution_count": 4,
     "metadata": {},
     "output_type": "execute_result"
    }
   ],
   "source": [
    "#hide\n",
    "arr_states[-9] = 'Puducherry'\n",
    "arr_states[-10] = 'Odisha'\n",
    "arr_states[6] = 'Dadra and Nagar Haveli and Daman and Diu'\n",
    "arr_states = np.append(arr_states,np.array(['Chhattisgarh','Ladakh','Uttarakhand']))\n",
    "arr_states"
   ]
  },
  {
   "cell_type": "code",
   "execution_count": 5,
   "id": "behind-manner",
   "metadata": {
    "execution": {
     "iopub.execute_input": "2021-02-25T11:52:06.282559Z",
     "iopub.status.busy": "2021-02-25T11:52:06.281889Z",
     "iopub.status.idle": "2021-02-25T11:52:06.291580Z",
     "shell.execute_reply": "2021-02-25T11:52:06.291063Z"
    },
    "papermill": {
     "duration": 0.040938,
     "end_time": "2021-02-25T11:52:06.291709",
     "exception": false,
     "start_time": "2021-02-25T11:52:06.250771",
     "status": "completed"
    },
    "tags": []
   },
   "outputs": [],
   "source": [
    "#hide\n",
    "dates = []\n",
    "for i in arr_dates:\n",
    "    if i>='2020-07-01':\n",
    "        dates.append(i)\n",
    "dict = {'states':dates}\n",
    "for i in arr_states:\n",
    "    dict[i] = [0]*len(dates)\n",
    "dft_cases = pd.DataFrame(dict)\n",
    "dft_deaths = pd.DataFrame(dict)\n"
   ]
  },
  {
   "cell_type": "code",
   "execution_count": 6,
   "id": "simplified-peter",
   "metadata": {
    "execution": {
     "iopub.execute_input": "2021-02-25T11:52:06.333573Z",
     "iopub.status.busy": "2021-02-25T11:52:06.332934Z",
     "iopub.status.idle": "2021-02-25T11:52:10.617160Z",
     "shell.execute_reply": "2021-02-25T11:52:10.616599Z"
    },
    "papermill": {
     "duration": 4.307583,
     "end_time": "2021-02-25T11:52:10.617306",
     "exception": false,
     "start_time": "2021-02-25T11:52:06.309723",
     "status": "completed"
    },
    "tags": []
   },
   "outputs": [],
   "source": [
    "#hide\n",
    "for i in range(len(dates)):\n",
    "    df1_deaths = df_deaths1.get_group(dates[i])\n",
    "    for j in range(len(df1_deaths.index)):\n",
    "        if df1_deaths.iloc[j,1] in arr_states:\n",
    "            dft_deaths.loc[i,df1_deaths.iloc[j,1]] = df1_deaths.iloc[j,2]\n",
    "dft_deaths = dft_deaths.set_index('states')"
   ]
  },
  {
   "cell_type": "code",
   "execution_count": 7,
   "id": "geological-welding",
   "metadata": {
    "execution": {
     "iopub.execute_input": "2021-02-25T11:52:10.661127Z",
     "iopub.status.busy": "2021-02-25T11:52:10.660477Z",
     "iopub.status.idle": "2021-02-25T11:52:14.917324Z",
     "shell.execute_reply": "2021-02-25T11:52:14.916325Z"
    },
    "papermill": {
     "duration": 4.281325,
     "end_time": "2021-02-25T11:52:14.917475",
     "exception": false,
     "start_time": "2021-02-25T11:52:10.636150",
     "status": "completed"
    },
    "tags": []
   },
   "outputs": [],
   "source": [
    "#hide\n",
    "for i in range(len(dates)):\n",
    "    df1_cases = df_cases1.get_group(dates[i])\n",
    "    for j in range(len(df1_cases.index)):\n",
    "        if df1_cases.iloc[j,1] in arr_states:\n",
    "            dft_cases.loc[i,df1_cases.iloc[j,1]] = df1_cases.iloc[j,2]\n",
    "dft_cases = dft_cases.set_index('states')"
   ]
  },
  {
   "cell_type": "code",
   "execution_count": 8,
   "id": "binary-ratio",
   "metadata": {
    "execution": {
     "iopub.execute_input": "2021-02-25T11:52:14.960037Z",
     "iopub.status.busy": "2021-02-25T11:52:14.959404Z",
     "iopub.status.idle": "2021-02-25T11:52:14.961908Z",
     "shell.execute_reply": "2021-02-25T11:52:14.961395Z"
    },
    "papermill": {
     "duration": 0.025533,
     "end_time": "2021-02-25T11:52:14.962034",
     "exception": false,
     "start_time": "2021-02-25T11:52:14.936501",
     "status": "completed"
    },
    "tags": []
   },
   "outputs": [],
   "source": [
    "#hide\n",
    "dft_cases = dft_cases.T\n",
    "dft_deaths = dft_deaths.T\n",
    "dt_today = dates[-1]\n",
    "dt_yday = dates[-2]"
   ]
  },
  {
   "cell_type": "code",
   "execution_count": 9,
   "id": "boolean-calculator",
   "metadata": {
    "execution": {
     "iopub.execute_input": "2021-02-25T11:52:15.003723Z",
     "iopub.status.busy": "2021-02-25T11:52:15.003092Z",
     "iopub.status.idle": "2021-02-25T11:52:15.007204Z",
     "shell.execute_reply": "2021-02-25T11:52:15.007797Z"
    },
    "papermill": {
     "duration": 0.027933,
     "end_time": "2021-02-25T11:52:15.007930",
     "exception": false,
     "start_time": "2021-02-25T11:52:14.979997",
     "status": "completed"
    },
    "tags": []
   },
   "outputs": [],
   "source": [
    "#hide\n",
    "dft_cases = dft_cases.reset_index()\n",
    "dft_deaths = dft_deaths.reset_index()\n",
    "dft_cases = dft_cases.rename(columns = {'index':'state'})\n",
    "dft_deaths = dft_deaths.rename(columns = {'index':'state'})"
   ]
  },
  {
   "cell_type": "code",
   "execution_count": 10,
   "id": "invisible-johnston",
   "metadata": {
    "execution": {
     "iopub.execute_input": "2021-02-25T11:52:15.053296Z",
     "iopub.status.busy": "2021-02-25T11:52:15.052663Z",
     "iopub.status.idle": "2021-02-25T11:52:15.058237Z",
     "shell.execute_reply": "2021-02-25T11:52:15.058849Z"
    },
    "papermill": {
     "duration": 0.033116,
     "end_time": "2021-02-25T11:52:15.058995",
     "exception": false,
     "start_time": "2021-02-25T11:52:15.025879",
     "status": "completed"
    },
    "tags": []
   },
   "outputs": [],
   "source": [
    "#hide\n",
    "dfc_cases = dft_cases.groupby('state')[dt_today].sum()\n",
    "dfc_deaths = dft_deaths.groupby('state')[dt_today].sum()\n",
    "dfp_cases = dft_cases.groupby('state')[dt_yday].sum()\n",
    "dfp_deaths = dft_deaths.groupby('state')[dt_yday].sum()"
   ]
  },
  {
   "cell_type": "code",
   "execution_count": 11,
   "id": "measured-great",
   "metadata": {
    "execution": {
     "iopub.execute_input": "2021-02-25T11:52:15.103982Z",
     "iopub.status.busy": "2021-02-25T11:52:15.103346Z",
     "iopub.status.idle": "2021-02-25T11:52:15.117968Z",
     "shell.execute_reply": "2021-02-25T11:52:15.118588Z"
    },
    "papermill": {
     "duration": 0.040398,
     "end_time": "2021-02-25T11:52:15.118732",
     "exception": false,
     "start_time": "2021-02-25T11:52:15.078334",
     "status": "completed"
    },
    "tags": []
   },
   "outputs": [
    {
     "data": {
      "text/html": [
       "<div>\n",
       "<style scoped>\n",
       "    .dataframe tbody tr th:only-of-type {\n",
       "        vertical-align: middle;\n",
       "    }\n",
       "\n",
       "    .dataframe tbody tr th {\n",
       "        vertical-align: top;\n",
       "    }\n",
       "\n",
       "    .dataframe thead th {\n",
       "        text-align: right;\n",
       "    }\n",
       "</style>\n",
       "<table border=\"1\" class=\"dataframe\">\n",
       "  <thead>\n",
       "    <tr style=\"text-align: right;\">\n",
       "      <th></th>\n",
       "      <th>states</th>\n",
       "      <th>Cases</th>\n",
       "      <th>Deaths</th>\n",
       "      <th>PCases</th>\n",
       "      <th>PDeaths</th>\n",
       "    </tr>\n",
       "  </thead>\n",
       "  <tbody>\n",
       "    <tr>\n",
       "      <th>0</th>\n",
       "      <td>Maharashtra</td>\n",
       "      <td>2121119</td>\n",
       "      <td>51937</td>\n",
       "      <td>2121119</td>\n",
       "      <td>51937</td>\n",
       "    </tr>\n",
       "    <tr>\n",
       "      <th>1</th>\n",
       "      <td>Kerala</td>\n",
       "      <td>1045010</td>\n",
       "      <td>4137</td>\n",
       "      <td>1045010</td>\n",
       "      <td>4137</td>\n",
       "    </tr>\n",
       "    <tr>\n",
       "      <th>2</th>\n",
       "      <td>Karnataka</td>\n",
       "      <td>949183</td>\n",
       "      <td>12309</td>\n",
       "      <td>949183</td>\n",
       "      <td>12309</td>\n",
       "    </tr>\n",
       "    <tr>\n",
       "      <th>3</th>\n",
       "      <td>Andhra Pradesh</td>\n",
       "      <td>889503</td>\n",
       "      <td>7168</td>\n",
       "      <td>889503</td>\n",
       "      <td>7168</td>\n",
       "    </tr>\n",
       "    <tr>\n",
       "      <th>4</th>\n",
       "      <td>Tamil Nadu</td>\n",
       "      <td>849629</td>\n",
       "      <td>12478</td>\n",
       "      <td>849629</td>\n",
       "      <td>12478</td>\n",
       "    </tr>\n",
       "  </tbody>\n",
       "</table>\n",
       "</div>"
      ],
      "text/plain": [
       "           states    Cases  Deaths   PCases  PDeaths\n",
       "0     Maharashtra  2121119   51937  2121119    51937\n",
       "1          Kerala  1045010    4137  1045010     4137\n",
       "2       Karnataka   949183   12309   949183    12309\n",
       "3  Andhra Pradesh   889503    7168   889503     7168\n",
       "4      Tamil Nadu   849629   12478   849629    12478"
      ]
     },
     "execution_count": 11,
     "metadata": {},
     "output_type": "execute_result"
    }
   ],
   "source": [
    "#hide\n",
    "df_table = pd.DataFrame({'states': dfc_cases.index, 'Cases': dfc_cases.values, 'Deaths': dfc_deaths.values, 'PCases': dfp_cases.values, 'PDeaths': dfp_deaths.values}).set_index('states')\n",
    "df_table = df_table.sort_values(by = ['Cases','Deaths'], ascending = [False, False])\n",
    "df_table = df_table.reset_index()\n",
    "df_table.head()"
   ]
  },
  {
   "cell_type": "code",
   "execution_count": 12,
   "id": "found-montreal",
   "metadata": {
    "execution": {
     "iopub.execute_input": "2021-02-25T11:52:15.160534Z",
     "iopub.status.busy": "2021-02-25T11:52:15.159883Z",
     "iopub.status.idle": "2021-02-25T11:52:15.168813Z",
     "shell.execute_reply": "2021-02-25T11:52:15.168261Z"
    },
    "papermill": {
     "duration": 0.031808,
     "end_time": "2021-02-25T11:52:15.168940",
     "exception": false,
     "start_time": "2021-02-25T11:52:15.137132",
     "status": "completed"
    },
    "tags": []
   },
   "outputs": [],
   "source": [
    "#hide\n",
    "for c in 'Cases, Deaths'.split(', '):\n",
    "    df_table[f'{c} (+)'] = (df_table[c] - df_table[f'P{c}']).clip(0)\n",
    "df_table['Fatality Rate'] = (100* df_table['Deaths']/ df_table['Cases']).round(2)"
   ]
  },
  {
   "cell_type": "code",
   "execution_count": 13,
   "id": "minus-savage",
   "metadata": {
    "execution": {
     "iopub.execute_input": "2021-02-25T11:52:15.218330Z",
     "iopub.status.busy": "2021-02-25T11:52:15.217667Z",
     "iopub.status.idle": "2021-02-25T11:52:15.221320Z",
     "shell.execute_reply": "2021-02-25T11:52:15.220774Z"
    },
    "papermill": {
     "duration": 0.032523,
     "end_time": "2021-02-25T11:52:15.221446",
     "exception": false,
     "start_time": "2021-02-25T11:52:15.188923",
     "status": "completed"
    },
    "tags": []
   },
   "outputs": [
    {
     "data": {
      "text/html": [
       "<div>\n",
       "<style scoped>\n",
       "    .dataframe tbody tr th:only-of-type {\n",
       "        vertical-align: middle;\n",
       "    }\n",
       "\n",
       "    .dataframe tbody tr th {\n",
       "        vertical-align: top;\n",
       "    }\n",
       "\n",
       "    .dataframe thead th {\n",
       "        text-align: right;\n",
       "    }\n",
       "</style>\n",
       "<table border=\"1\" class=\"dataframe\">\n",
       "  <thead>\n",
       "    <tr style=\"text-align: right;\">\n",
       "      <th></th>\n",
       "      <th>states</th>\n",
       "      <th>Cases</th>\n",
       "      <th>Deaths</th>\n",
       "      <th>PCases</th>\n",
       "      <th>PDeaths</th>\n",
       "      <th>Cases (+)</th>\n",
       "      <th>Deaths (+)</th>\n",
       "      <th>Fatality Rate</th>\n",
       "    </tr>\n",
       "  </thead>\n",
       "  <tbody>\n",
       "    <tr>\n",
       "      <th>0</th>\n",
       "      <td>Maharashtra</td>\n",
       "      <td>2121119</td>\n",
       "      <td>51937</td>\n",
       "      <td>2121119</td>\n",
       "      <td>51937</td>\n",
       "      <td>0</td>\n",
       "      <td>0</td>\n",
       "      <td>2.45</td>\n",
       "    </tr>\n",
       "    <tr>\n",
       "      <th>1</th>\n",
       "      <td>Kerala</td>\n",
       "      <td>1045010</td>\n",
       "      <td>4137</td>\n",
       "      <td>1045010</td>\n",
       "      <td>4137</td>\n",
       "      <td>0</td>\n",
       "      <td>0</td>\n",
       "      <td>0.40</td>\n",
       "    </tr>\n",
       "    <tr>\n",
       "      <th>2</th>\n",
       "      <td>Karnataka</td>\n",
       "      <td>949183</td>\n",
       "      <td>12309</td>\n",
       "      <td>949183</td>\n",
       "      <td>12309</td>\n",
       "      <td>0</td>\n",
       "      <td>0</td>\n",
       "      <td>1.30</td>\n",
       "    </tr>\n",
       "    <tr>\n",
       "      <th>3</th>\n",
       "      <td>Andhra Pradesh</td>\n",
       "      <td>889503</td>\n",
       "      <td>7168</td>\n",
       "      <td>889503</td>\n",
       "      <td>7168</td>\n",
       "      <td>0</td>\n",
       "      <td>0</td>\n",
       "      <td>0.81</td>\n",
       "    </tr>\n",
       "    <tr>\n",
       "      <th>4</th>\n",
       "      <td>Tamil Nadu</td>\n",
       "      <td>849629</td>\n",
       "      <td>12478</td>\n",
       "      <td>849629</td>\n",
       "      <td>12478</td>\n",
       "      <td>0</td>\n",
       "      <td>0</td>\n",
       "      <td>1.47</td>\n",
       "    </tr>\n",
       "  </tbody>\n",
       "</table>\n",
       "</div>"
      ],
      "text/plain": [
       "           states    Cases  Deaths   PCases  PDeaths  Cases (+)  Deaths (+)  \\\n",
       "0     Maharashtra  2121119   51937  2121119    51937          0           0   \n",
       "1          Kerala  1045010    4137  1045010     4137          0           0   \n",
       "2       Karnataka   949183   12309   949183    12309          0           0   \n",
       "3  Andhra Pradesh   889503    7168   889503     7168          0           0   \n",
       "4      Tamil Nadu   849629   12478   849629    12478          0           0   \n",
       "\n",
       "   Fatality Rate  \n",
       "0           2.45  \n",
       "1           0.40  \n",
       "2           1.30  \n",
       "3           0.81  \n",
       "4           1.47  "
      ]
     },
     "execution_count": 13,
     "metadata": {},
     "output_type": "execute_result"
    }
   ],
   "source": [
    "#hide\n",
    "df_table.head()"
   ]
  },
  {
   "cell_type": "code",
   "execution_count": 14,
   "id": "false-peter",
   "metadata": {
    "execution": {
     "iopub.execute_input": "2021-02-25T11:52:15.272356Z",
     "iopub.status.busy": "2021-02-25T11:52:15.271302Z",
     "iopub.status.idle": "2021-02-25T11:52:15.290243Z",
     "shell.execute_reply": "2021-02-25T11:52:15.289652Z"
    },
    "papermill": {
     "duration": 0.049776,
     "end_time": "2021-02-25T11:52:15.290379",
     "exception": false,
     "start_time": "2021-02-25T11:52:15.240603",
     "status": "completed"
    },
    "tags": []
   },
   "outputs": [
    {
     "data": {
      "text/plain": [
       "{'updated': '2021-02-25',\n",
       " 'since': '2021-02-24',\n",
       " 'Cases': 11046993,\n",
       " 'PCases': 11046476,\n",
       " 'Deaths': 156744,\n",
       " 'PDeaths': 156742,\n",
       " 'Cases (+)': 517,\n",
       " 'Deaths (+)': 2}"
      ]
     },
     "execution_count": 14,
     "metadata": {},
     "output_type": "execute_result"
    }
   ],
   "source": [
    "#hide\n",
    "summary = {'updated':dates[-1], 'since':dates[-2]}\n",
    "list_names = ['Cases', 'PCases', 'Deaths', 'PDeaths', 'Cases (+)', 'Deaths (+)']\n",
    "for name in list_names:\n",
    "    summary[name] = df_table.sum()[name]\n",
    "summary"
   ]
  },
  {
   "cell_type": "code",
   "execution_count": 15,
   "id": "packed-viewer",
   "metadata": {
    "execution": {
     "iopub.execute_input": "2021-02-25T11:52:15.334231Z",
     "iopub.status.busy": "2021-02-25T11:52:15.333560Z",
     "iopub.status.idle": "2021-02-25T11:52:15.335474Z",
     "shell.execute_reply": "2021-02-25T11:52:15.336006Z"
    },
    "papermill": {
     "duration": 0.025754,
     "end_time": "2021-02-25T11:52:15.336143",
     "exception": false,
     "start_time": "2021-02-25T11:52:15.310389",
     "status": "completed"
    },
    "tags": []
   },
   "outputs": [],
   "source": [
    "#hide\n",
    "overview = '''\n",
    "<!-- #######  HTML!! #########-->\n",
    "<h1 style=\"color: #5e9ca0; text-align: center;\">India</h1>\n",
    "<p style=\"text-align: center;\">Last update: <strong>{update}</strong></p>\n",
    "<p style=\"text-align: center;\">Confirmed cases:</p>\n",
    "<p style=\"text-align: center;font-size:24px;\">{cases} (<span style=\"color: #ff0000;\">+{new}</span>)</p>\n",
    "<p style=\"text-align: center;\">Confirmed deaths:</p>\n",
    "<p style=\"text-align: center;font-size:24px;\">{deaths} (<span style=\"color: #ff0000;\">+{dnew}</span>)</p>\n",
    "'''"
   ]
  },
  {
   "cell_type": "code",
   "execution_count": 16,
   "id": "phantom-lover",
   "metadata": {
    "execution": {
     "iopub.execute_input": "2021-02-25T11:52:15.380812Z",
     "iopub.status.busy": "2021-02-25T11:52:15.380167Z",
     "iopub.status.idle": "2021-02-25T11:52:15.383512Z",
     "shell.execute_reply": "2021-02-25T11:52:15.382961Z"
    },
    "papermill": {
     "duration": 0.027908,
     "end_time": "2021-02-25T11:52:15.383636",
     "exception": false,
     "start_time": "2021-02-25T11:52:15.355728",
     "status": "completed"
    },
    "tags": []
   },
   "outputs": [
    {
     "data": {
      "text/html": [
       "\n",
       "<!-- #######  HTML!! #########-->\n",
       "<h1 style=\"color: #5e9ca0; text-align: center;\">India</h1>\n",
       "<p style=\"text-align: center;\">Last update: <strong>2021-02-25</strong></p>\n",
       "<p style=\"text-align: center;\">Confirmed cases:</p>\n",
       "<p style=\"text-align: center;font-size:24px;\">11046993 (<span style=\"color: #ff0000;\">+517</span>)</p>\n",
       "<p style=\"text-align: center;\">Confirmed deaths:</p>\n",
       "<p style=\"text-align: center;font-size:24px;\">156744 (<span style=\"color: #ff0000;\">+2</span>)</p>\n"
      ],
      "text/plain": [
       "<IPython.core.display.HTML object>"
      ]
     },
     "metadata": {},
     "output_type": "display_data"
    }
   ],
   "source": [
    "#hide_input\n",
    "update = summary['updated']\n",
    "cases = summary['Cases']\n",
    "new = summary['Cases (+)']\n",
    "deaths = summary['Deaths']\n",
    "dnew = summary['Deaths (+)']\n",
    "\n",
    "html = HTML(overview.format(update=update, cases=cases,new=new,deaths=deaths,dnew=dnew))\n",
    "\n",
    "display(html)"
   ]
  },
  {
   "cell_type": "code",
   "execution_count": 17,
   "id": "sealed-reset",
   "metadata": {
    "execution": {
     "iopub.execute_input": "2021-02-25T11:52:15.430138Z",
     "iopub.status.busy": "2021-02-25T11:52:15.429496Z",
     "iopub.status.idle": "2021-02-25T11:52:15.436528Z",
     "shell.execute_reply": "2021-02-25T11:52:15.437091Z"
    },
    "papermill": {
     "duration": 0.033332,
     "end_time": "2021-02-25T11:52:15.437227",
     "exception": false,
     "start_time": "2021-02-25T11:52:15.403895",
     "status": "completed"
    },
    "tags": []
   },
   "outputs": [],
   "source": [
    "#hide\n",
    "dt_cols = list(dft_cases.columns[1:])\n",
    "dft_ct_new_cases = dft_cases.groupby('state')[dt_cols].sum().diff(axis=1).fillna(0).astype(int)\n",
    "dft_ct_new_cases.sort_values(by = dates[-1], ascending = False,inplace = True)"
   ]
  },
  {
   "cell_type": "code",
   "execution_count": 18,
   "id": "designed-constant",
   "metadata": {
    "execution": {
     "iopub.execute_input": "2021-02-25T11:52:15.495260Z",
     "iopub.status.busy": "2021-02-25T11:52:15.494614Z",
     "iopub.status.idle": "2021-02-25T11:52:15.497870Z",
     "shell.execute_reply": "2021-02-25T11:52:15.497321Z"
    },
    "papermill": {
     "duration": 0.040591,
     "end_time": "2021-02-25T11:52:15.498004",
     "exception": false,
     "start_time": "2021-02-25T11:52:15.457413",
     "status": "completed"
    },
    "tags": []
   },
   "outputs": [
    {
     "data": {
      "text/html": [
       "<div>\n",
       "<style scoped>\n",
       "    .dataframe tbody tr th:only-of-type {\n",
       "        vertical-align: middle;\n",
       "    }\n",
       "\n",
       "    .dataframe tbody tr th {\n",
       "        vertical-align: top;\n",
       "    }\n",
       "\n",
       "    .dataframe thead th {\n",
       "        text-align: right;\n",
       "    }\n",
       "</style>\n",
       "<table border=\"1\" class=\"dataframe\">\n",
       "  <thead>\n",
       "    <tr style=\"text-align: right;\">\n",
       "      <th>states</th>\n",
       "      <th>2020-07-01</th>\n",
       "      <th>2020-07-02</th>\n",
       "      <th>2020-07-03</th>\n",
       "      <th>2020-07-04</th>\n",
       "      <th>2020-07-05</th>\n",
       "      <th>2020-07-06</th>\n",
       "      <th>2020-07-07</th>\n",
       "      <th>2020-07-08</th>\n",
       "      <th>2020-07-09</th>\n",
       "      <th>2020-07-10</th>\n",
       "      <th>...</th>\n",
       "      <th>2021-02-16</th>\n",
       "      <th>2021-02-17</th>\n",
       "      <th>2021-02-18</th>\n",
       "      <th>2021-02-19</th>\n",
       "      <th>2021-02-20</th>\n",
       "      <th>2021-02-21</th>\n",
       "      <th>2021-02-22</th>\n",
       "      <th>2021-02-23</th>\n",
       "      <th>2021-02-24</th>\n",
       "      <th>2021-02-25</th>\n",
       "    </tr>\n",
       "    <tr>\n",
       "      <th>state</th>\n",
       "      <th></th>\n",
       "      <th></th>\n",
       "      <th></th>\n",
       "      <th></th>\n",
       "      <th></th>\n",
       "      <th></th>\n",
       "      <th></th>\n",
       "      <th></th>\n",
       "      <th></th>\n",
       "      <th></th>\n",
       "      <th></th>\n",
       "      <th></th>\n",
       "      <th></th>\n",
       "      <th></th>\n",
       "      <th></th>\n",
       "      <th></th>\n",
       "      <th></th>\n",
       "      <th></th>\n",
       "      <th></th>\n",
       "      <th></th>\n",
       "      <th></th>\n",
       "    </tr>\n",
       "  </thead>\n",
       "  <tbody>\n",
       "    <tr>\n",
       "      <th>Delhi</th>\n",
       "      <td>0</td>\n",
       "      <td>2373</td>\n",
       "      <td>2520</td>\n",
       "      <td>2505</td>\n",
       "      <td>2244</td>\n",
       "      <td>1379</td>\n",
       "      <td>2008</td>\n",
       "      <td>2033</td>\n",
       "      <td>2187</td>\n",
       "      <td>2089</td>\n",
       "      <td>...</td>\n",
       "      <td>94</td>\n",
       "      <td>134</td>\n",
       "      <td>130</td>\n",
       "      <td>158</td>\n",
       "      <td>152</td>\n",
       "      <td>145</td>\n",
       "      <td>128</td>\n",
       "      <td>145</td>\n",
       "      <td>200</td>\n",
       "      <td>220</td>\n",
       "    </tr>\n",
       "    <tr>\n",
       "      <th>Telangana</th>\n",
       "      <td>0</td>\n",
       "      <td>1213</td>\n",
       "      <td>1892</td>\n",
       "      <td>1850</td>\n",
       "      <td>1590</td>\n",
       "      <td>1831</td>\n",
       "      <td>1879</td>\n",
       "      <td>1924</td>\n",
       "      <td>1410</td>\n",
       "      <td>1278</td>\n",
       "      <td>...</td>\n",
       "      <td>129</td>\n",
       "      <td>148</td>\n",
       "      <td>163</td>\n",
       "      <td>165</td>\n",
       "      <td>157</td>\n",
       "      <td>163</td>\n",
       "      <td>114</td>\n",
       "      <td>0</td>\n",
       "      <td>345</td>\n",
       "      <td>207</td>\n",
       "    </tr>\n",
       "    <tr>\n",
       "      <th>Odisha</th>\n",
       "      <td>0</td>\n",
       "      <td>229</td>\n",
       "      <td>561</td>\n",
       "      <td>495</td>\n",
       "      <td>469</td>\n",
       "      <td>456</td>\n",
       "      <td>571</td>\n",
       "      <td>527</td>\n",
       "      <td>577</td>\n",
       "      <td>755</td>\n",
       "      <td>...</td>\n",
       "      <td>60</td>\n",
       "      <td>75</td>\n",
       "      <td>63</td>\n",
       "      <td>53</td>\n",
       "      <td>65</td>\n",
       "      <td>58</td>\n",
       "      <td>69</td>\n",
       "      <td>62</td>\n",
       "      <td>68</td>\n",
       "      <td>89</td>\n",
       "    </tr>\n",
       "    <tr>\n",
       "      <th>Dadra and Nagar Haveli and Daman and Diu</th>\n",
       "      <td>0</td>\n",
       "      <td>25</td>\n",
       "      <td>50</td>\n",
       "      <td>37</td>\n",
       "      <td>32</td>\n",
       "      <td>27</td>\n",
       "      <td>27</td>\n",
       "      <td>15</td>\n",
       "      <td>14</td>\n",
       "      <td>14</td>\n",
       "      <td>...</td>\n",
       "      <td>0</td>\n",
       "      <td>2</td>\n",
       "      <td>0</td>\n",
       "      <td>0</td>\n",
       "      <td>0</td>\n",
       "      <td>0</td>\n",
       "      <td>0</td>\n",
       "      <td>0</td>\n",
       "      <td>2</td>\n",
       "      <td>1</td>\n",
       "    </tr>\n",
       "    <tr>\n",
       "      <th>Andaman and Nicobar Islands</th>\n",
       "      <td>0</td>\n",
       "      <td>9</td>\n",
       "      <td>7</td>\n",
       "      <td>3</td>\n",
       "      <td>6</td>\n",
       "      <td>16</td>\n",
       "      <td>6</td>\n",
       "      <td>2</td>\n",
       "      <td>7</td>\n",
       "      <td>0</td>\n",
       "      <td>...</td>\n",
       "      <td>4</td>\n",
       "      <td>1</td>\n",
       "      <td>0</td>\n",
       "      <td>0</td>\n",
       "      <td>0</td>\n",
       "      <td>0</td>\n",
       "      <td>1</td>\n",
       "      <td>1</td>\n",
       "      <td>0</td>\n",
       "      <td>0</td>\n",
       "    </tr>\n",
       "  </tbody>\n",
       "</table>\n",
       "<p>5 rows × 240 columns</p>\n",
       "</div>"
      ],
      "text/plain": [
       "states                                    2020-07-01  2020-07-02  2020-07-03  \\\n",
       "state                                                                          \n",
       "Delhi                                              0        2373        2520   \n",
       "Telangana                                          0        1213        1892   \n",
       "Odisha                                             0         229         561   \n",
       "Dadra and Nagar Haveli and Daman and Diu           0          25          50   \n",
       "Andaman and Nicobar Islands                        0           9           7   \n",
       "\n",
       "states                                    2020-07-04  2020-07-05  2020-07-06  \\\n",
       "state                                                                          \n",
       "Delhi                                           2505        2244        1379   \n",
       "Telangana                                       1850        1590        1831   \n",
       "Odisha                                           495         469         456   \n",
       "Dadra and Nagar Haveli and Daman and Diu          37          32          27   \n",
       "Andaman and Nicobar Islands                        3           6          16   \n",
       "\n",
       "states                                    2020-07-07  2020-07-08  2020-07-09  \\\n",
       "state                                                                          \n",
       "Delhi                                           2008        2033        2187   \n",
       "Telangana                                       1879        1924        1410   \n",
       "Odisha                                           571         527         577   \n",
       "Dadra and Nagar Haveli and Daman and Diu          27          15          14   \n",
       "Andaman and Nicobar Islands                        6           2           7   \n",
       "\n",
       "states                                    2020-07-10  ...  2021-02-16  \\\n",
       "state                                                 ...               \n",
       "Delhi                                           2089  ...          94   \n",
       "Telangana                                       1278  ...         129   \n",
       "Odisha                                           755  ...          60   \n",
       "Dadra and Nagar Haveli and Daman and Diu          14  ...           0   \n",
       "Andaman and Nicobar Islands                        0  ...           4   \n",
       "\n",
       "states                                    2021-02-17  2021-02-18  2021-02-19  \\\n",
       "state                                                                          \n",
       "Delhi                                            134         130         158   \n",
       "Telangana                                        148         163         165   \n",
       "Odisha                                            75          63          53   \n",
       "Dadra and Nagar Haveli and Daman and Diu           2           0           0   \n",
       "Andaman and Nicobar Islands                        1           0           0   \n",
       "\n",
       "states                                    2021-02-20  2021-02-21  2021-02-22  \\\n",
       "state                                                                          \n",
       "Delhi                                            152         145         128   \n",
       "Telangana                                        157         163         114   \n",
       "Odisha                                            65          58          69   \n",
       "Dadra and Nagar Haveli and Daman and Diu           0           0           0   \n",
       "Andaman and Nicobar Islands                        0           0           1   \n",
       "\n",
       "states                                    2021-02-23  2021-02-24  2021-02-25  \n",
       "state                                                                         \n",
       "Delhi                                            145         200         220  \n",
       "Telangana                                          0         345         207  \n",
       "Odisha                                            62          68          89  \n",
       "Dadra and Nagar Haveli and Daman and Diu           0           2           1  \n",
       "Andaman and Nicobar Islands                        1           0           0  \n",
       "\n",
       "[5 rows x 240 columns]"
      ]
     },
     "execution_count": 18,
     "metadata": {},
     "output_type": "execute_result"
    }
   ],
   "source": [
    "#hide\n",
    "dft_ct_new_cases.head()"
   ]
  },
  {
   "cell_type": "code",
   "execution_count": 19,
   "id": "responsible-nightlife",
   "metadata": {
    "execution": {
     "iopub.execute_input": "2021-02-25T11:52:15.574712Z",
     "iopub.status.busy": "2021-02-25T11:52:15.553864Z",
     "iopub.status.idle": "2021-02-25T11:52:24.944257Z",
     "shell.execute_reply": "2021-02-25T11:52:24.943725Z"
    },
    "papermill": {
     "duration": 9.424156,
     "end_time": "2021-02-25T11:52:24.944399",
     "exception": false,
     "start_time": "2021-02-25T11:52:15.520243",
     "status": "completed"
    },
    "tags": []
   },
   "outputs": [
    {
     "data": {
      "image/png": "[encoded data removed]",
      "text/plain": [
       "<Figure size 1296x2016 with 11 Axes>"
      ]
     },
     "metadata": {
      "needs_background": "light"
     },
     "output_type": "display_data"
    }
   ],
   "source": [
    "#hide_input\n",
    "df = dft_ct_new_cases.copy()\n",
    "df.loc['Total'] = df.sum()\n",
    "n = 5\n",
    "ax = []\n",
    "fig = plt.figure(figsize = (18,28))\n",
    "gs = fig.add_gridspec(n+2, 5)\n",
    "# gs = fig.add_gridspec(2, 3)\n",
    "ax1 = fig.add_subplot(gs[0, :])\n",
    "ef = df.loc['Total'].rename_axis('date').reset_index()\n",
    "ef['date'] = ef['date'].astype('datetime64[ns]')\n",
    "ax1.bar(ef.date,ef.Total,alpha=0.3,color='#007acc')\n",
    "ax1.plot(ef.date,ef.Total , marker=\"o\", color='#007acc')\n",
    "ax1.xaxis.set_major_locator(mdates.WeekdayLocator())\n",
    "ax1.xaxis.set_major_formatter(mdates.DateFormatter('%b %d'))\n",
    "ax1.text(0.02, 0.5,'India daily case count', transform = ax1.transAxes, fontsize=25);\n",
    "ax1.spines['right'].set_visible(False)\n",
    "ax1.spines['top'].set_visible(False)\n",
    "\n",
    "ax2 = fig.add_subplot(gs[1,0])\n",
    "ef = df.loc['Maharashtra'].rename_axis('date').reset_index()\n",
    "ef['date'] = ef['date'].astype('datetime64[ns]')\n",
    "\n",
    "ax2.bar(ef.date, ef.Maharashtra,color = '#007acc',alpha=0.5)\n",
    "ax2.xaxis.set_major_locator(mdates.WeekdayLocator())\n",
    "ax2.xaxis.set_major_formatter(mdates.DateFormatter('%b %d'))\n",
    "ax2.set_xticks(ax2.get_xticks()[::3])\n",
    "maxyval = ef.Maharashtra.max()\n",
    "ax2.set_ylim([0,maxyval])\n",
    "ax2.text(0.05, 0.9,'Maharashtra', transform = ax2.transAxes, fontsize=20);\n",
    "ax2.spines['right'].set_visible(False)\n",
    "ax2.spines['top'].set_visible(False)\n",
    "\n",
    "\n",
    "ax3 = fig.add_subplot(gs[1,1])\n",
    "ef = df.loc['Tamil Nadu'].rename_axis('date').reset_index()\n",
    "ef['date'] = ef['date'].astype('datetime64[ns]')\n",
    "ax3.bar(ef.date, ef['Tamil Nadu'],color = '#007acc',alpha=0.5,)\n",
    "ax3.xaxis.set_major_locator(mdates.WeekdayLocator())\n",
    "ax3.xaxis.set_major_formatter(mdates.DateFormatter('%b %d'))\n",
    "ax3.set_xticks(ax3.get_xticks()[::3])\n",
    "ax3.text(0.05, 0.9,'Tamil Nadu', transform = ax3.transAxes, fontsize=20);\n",
    "ax3.spines['right'].set_visible(False)\n",
    "ax3.spines['top'].set_visible(False)\n",
    "\n",
    "ax5 = fig.add_subplot(gs[1,3])\n",
    "ef = df.loc['Telangana'].rename_axis('date').reset_index()\n",
    "ef['date'] = ef['date'].astype('datetime64[ns]')\n",
    "ax5.bar(ef.date, ef['Telangana'],color = '#007acc',alpha=0.5,)\n",
    "ax5.xaxis.set_major_locator(mdates.WeekdayLocator())\n",
    "ax5.xaxis.set_major_formatter(mdates.DateFormatter('%b %d'))\n",
    "ax5.set_xticks(ax5.get_xticks()[::3])\n",
    "ax5.text(0.05, 0.9,'Telangana', transform = ax5.transAxes, fontsize=20);\n",
    "ax5.spines['right'].set_visible(False)\n",
    "ax5.spines['top'].set_visible(False)\n",
    "\n",
    "ax6 = fig.add_subplot(gs[1,4])\n",
    "ef = df.loc['Andhra Pradesh'].rename_axis('date').reset_index()\n",
    "ef['date'] = ef['date'].astype('datetime64[ns]')\n",
    "ax6.bar(ef.date, ef['Andhra Pradesh'],color = '#007acc',alpha=0.5,)\n",
    "ax6.xaxis.set_major_locator(mdates.WeekdayLocator())\n",
    "ax6.xaxis.set_major_formatter(mdates.DateFormatter('%b %d'))\n",
    "ax6.set_xticks(ax6.get_xticks()[::3])\n",
    "ax6.text(0.05, 1,'Andhra Pradesh', transform = ax6.transAxes, fontsize=20);\n",
    "ax6.spines['right'].set_visible(False)\n",
    "ax6.spines['top'].set_visible(False)\n",
    "\n",
    "ax4 = fig.add_subplot(gs[1,2])\n",
    "ef = df.loc['Delhi'].rename_axis('date').reset_index()\n",
    "ef['date'] = ef['date'].astype('datetime64[ns]')\n",
    "ax4.bar(ef.date, ef.Delhi,color = '#007acc',alpha=0.5)\n",
    "ax4.set_xticks([])\n",
    "ax4.xaxis.set_major_locator(mdates.WeekdayLocator())\n",
    "ax4.xaxis.set_major_formatter(mdates.DateFormatter('%b %d'))\n",
    "ax4.set_xticks(ax4.get_xticks()[::3])\n",
    "ax4.spines['right'].set_visible(False)\n",
    "ax4.spines['top'].set_visible(False)\n",
    "\n",
    "ax4.text(0.05, 1,'Delhi', transform = ax4.transAxes, fontsize=20)\n",
    "\n",
    "for i in range(n):\n",
    "    \n",
    "    ax.append(fig.add_subplot(gs[i+2,:]))\n",
    "    ef = df.iloc[i+3].rename_axis('date').reset_index()\n",
    "    ef['date'] = ef['date'].astype('datetime64[ns]')\n",
    "    ax[i].bar(ef.date,ef.iloc[:,-1],color = '#007acc',alpha=0.3)\n",
    "    ax[i].plot(ef.date,ef.iloc[:,-1],marker='o',color='#007acc')\n",
    "    ax[i].text(0.02,0.5,f'{ef.columns.values[-1]}',transform = ax[i].transAxes, fontsize = 20);\n",
    "    ax[i].xaxis.set_major_locator(mdates.WeekdayLocator())\n",
    "    ax[i].xaxis.set_major_formatter(mdates.DateFormatter('%b %d'))\n",
    "    ax[i].set_ylim([0,7000])\n",
    "    ax[i].spines['right'].set_visible(False)\n",
    "    ax[i].spines['top'].set_visible(False)\n",
    "plt.tight_layout()\n"
   ]
  },
  {
   "cell_type": "code",
   "execution_count": 20,
   "id": "dress-forge",
   "metadata": {
    "execution": {
     "iopub.execute_input": "2021-02-25T11:52:25.004136Z",
     "iopub.status.busy": "2021-02-25T11:52:25.003481Z",
     "iopub.status.idle": "2021-02-25T11:52:25.005946Z",
     "shell.execute_reply": "2021-02-25T11:52:25.006503Z"
    },
    "papermill": {
     "duration": 0.036842,
     "end_time": "2021-02-25T11:52:25.006650",
     "exception": false,
     "start_time": "2021-02-25T11:52:24.969808",
     "status": "completed"
    },
    "tags": []
   },
   "outputs": [
    {
     "name": "stdout",
     "output_type": "stream",
     "text": [
      "                                   states    Cases  Deaths   PCases  PDeaths  Cases (+)  Deaths (+)  Fatality Rate\n",
      "                              Maharashtra  2121119   51937  2121119    51937          0           0           2.45\n",
      "                                   Kerala  1045010    4137  1045010     4137          0           0           0.40\n",
      "                                Karnataka   949183   12309   949183    12309          0           0           1.30\n",
      "                           Andhra Pradesh   889503    7168   889503     7168          0           0           0.81\n",
      "                               Tamil Nadu   849629   12478   849629    12478          0           0           1.47\n",
      "                                    Delhi   638593   10905   638373    10905        220           0           1.71\n",
      "                            Uttar Pradesh   603103    8721   603103     8721          0           0           1.45\n",
      "                              West Bengal   574301   10256   574301    10256          0           0           1.79\n",
      "                                   Odisha   336924    1968   336835     1967         89           1           0.58\n",
      "                                Rajasthan   319801    2785   319801     2785          0           0           0.87\n",
      "                             Chhattisgarh   311680    3813   311680     3813          0           0           1.22\n",
      "                                Telangana   298264    1630   298057     1629        207           1           0.55\n",
      "                                  Haryana   270097    3043   270097     3043          0           0           1.13\n",
      "                                  Gujarat   268147    4407   268147     4407          0           0           1.64\n",
      "                                    Bihar   262357    1538   262357     1538          0           0           0.59\n",
      "                           Madhya Pradesh   260313    3857   260313     3857          0           0           1.48\n",
      "                                    Assam   217454    1091   217454     1091          0           0           0.50\n",
      "                                   Punjab   179819    5786   179819     5786          0           0           3.22\n",
      "                        Jammu and Kashmir   126093    1955   126093     1955          0           0           1.55\n",
      "                                Jharkhand   119719    1087   119719     1087          0           0           0.91\n",
      "                              Uttarakhand    96820    1690    96820     1690          0           0           1.75\n",
      "                         Himachal Pradesh    58457     982    58457      982          0           0           1.68\n",
      "                                      Goa    54700     789    54700      789          0           0           1.44\n",
      "                               Puducherry    39656     666    39656      666          0           0           1.68\n",
      "                                  Tripura    33397     388    33397      388          0           0           1.16\n",
      "                                  Manipur    29250     373    29250      373          0           0           1.28\n",
      "                               Chandigarh    21541     351    21541      351          0           0           1.63\n",
      "                        Arunachal Pradesh    16836      56    16836       56          0           0           0.33\n",
      "                                Meghalaya    13958     148    13958      148          0           0           1.06\n",
      "                                 Nagaland    12192      91    12192       91          0           0           0.75\n",
      "                                   Ladakh     9807     130     9807      130          0           0           1.33\n",
      "                                   Sikkim     6132     135     6132      135          0           0           2.20\n",
      "              Andaman and Nicobar Islands     5016      62     5016       62          0           0           1.24\n",
      "                                  Mizoram     4413      10     4413       10          0           0           0.23\n",
      " Dadra and Nagar Haveli and Daman and Diu     3387       2     3386        2          1           0           0.06\n",
      "                              Lakshadweep      322       0      322        0          0           0           0.00\n"
     ]
    }
   ],
   "source": [
    "#hide_input\n",
    "print(df_table.to_string(index=False))"
   ]
  },
  {
   "cell_type": "code",
   "execution_count": null,
   "id": "quantitative-legend",
   "metadata": {
    "papermill": {
     "duration": 0.025125,
     "end_time": "2021-02-25T11:52:25.056643",
     "exception": false,
     "start_time": "2021-02-25T11:52:25.031518",
     "status": "completed"
    },
    "tags": []
   },
   "outputs": [],
   "source": []
  },
  {
   "cell_type": "code",
   "execution_count": null,
   "id": "distant-acoustic",
   "metadata": {
    "papermill": {
     "duration": 0.024827,
     "end_time": "2021-02-25T11:52:25.109209",
     "exception": false,
     "start_time": "2021-02-25T11:52:25.084382",
     "status": "completed"
    },
    "tags": []
   },
   "outputs": [],
   "source": []
  }
 ],
 "metadata": {
  "kernelspec": {
   "display_name": "Python 3",
   "language": "python",
   "name": "python3"
  },
  "language_info": {
   "codemirror_mode": {
    "name": "ipython",
    "version": 3
   },
   "file_extension": ".py",
   "mimetype": "text/x-python",
   "name": "python",
   "nbconvert_exporter": "python",
   "pygments_lexer": "ipython3",
   "version": "3.6.13"
  },
  "papermill": {
   "duration": 21.800528,
   "end_time": "2021-02-25T11:52:25.742411",
   "environment_variables": {},
   "exception": null,
   "input_path": "latest.ipynb",
   "output_path": "latest.ipynb",
   "parameters": {},
   "start_time": "2021-02-25T11:52:03.941883",
   "version": "2.1.2"
  }
 },
 "nbformat": 4,
 "nbformat_minor": 5
}