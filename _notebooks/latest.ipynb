{
 "cells": [
  {
   "cell_type": "markdown",
   "metadata": {
    "papermill": {
     "duration": 0.019934,
     "end_time": "2020-08-27T06:21:23.621337",
     "exception": false,
     "start_time": "2020-08-27T06:21:23.601403",
     "status": "completed"
    },
    "tags": []
   },
   "source": [
    "# Latest COVID-19 India Matplotlib Overview"
   ]
  },
  {
   "cell_type": "code",
   "execution_count": 1,
   "metadata": {
    "execution": {
     "iopub.execute_input": "2020-08-27T06:21:24.202477Z",
     "iopub.status.busy": "2020-08-27T06:21:24.201804Z",
     "iopub.status.idle": "2020-08-27T06:21:24.855253Z",
     "shell.execute_reply": "2020-08-27T06:21:24.854704Z"
    },
    "papermill": {
     "duration": 0.997687,
     "end_time": "2020-08-27T06:21:24.855415",
     "exception": false,
     "start_time": "2020-08-27T06:21:23.857728",
     "status": "completed"
    },
    "tags": []
   },
   "outputs": [],
   "source": [
    "#hide\n",
    "import pandas as pd\n",
    "import numpy as np\n",
    "import requests\n",
    "import json\n",
    "import matplotlib.pyplot as plt\n",
    "import matplotlib.dates as mdates\n",
    "import matplotlib as mpl\n",
    "from IPython.core.display import display,HTML\n",
    "%matplotlib inline\n",
    "from datetime import date"
   ]
  },
  {
   "cell_type": "code",
   "execution_count": 2,
   "metadata": {
    "execution": {
     "iopub.execute_input": "2020-08-27T06:21:24.897347Z",
     "iopub.status.busy": "2020-08-27T06:21:24.896701Z",
     "iopub.status.idle": "2020-08-27T06:21:25.307026Z",
     "shell.execute_reply": "2020-08-27T06:21:25.306365Z"
    },
    "papermill": {
     "duration": 0.436178,
     "end_time": "2020-08-27T06:21:25.307183",
     "exception": false,
     "start_time": "2020-08-27T06:21:24.871005",
     "status": "completed"
    },
    "tags": []
   },
   "outputs": [],
   "source": [
    "#hide\n",
    "df  = pd.read_csv('https://api.covid19india.org/csv/latest/states.csv')\n",
    "df = df[['Date','State','Confirmed','Deceased']]\n",
    "df = df.rename(columns={'Confirmed':'Cases', \"Deceased\":'Deaths'})\n",
    "df_cases = df[[\"Date\",'State','Cases']]\n",
    "df_deaths = df[['Date','State','Deaths']]\n",
    "df_cases1 = df_cases.groupby('Date')\n",
    "df_deaths1= df_deaths.groupby('Date')"
   ]
  },
  {
   "cell_type": "code",
   "execution_count": 3,
   "metadata": {
    "execution": {
     "iopub.execute_input": "2020-08-27T06:21:25.343925Z",
     "iopub.status.busy": "2020-08-27T06:21:25.343324Z",
     "iopub.status.idle": "2020-08-27T06:21:25.361495Z",
     "shell.execute_reply": "2020-08-27T06:21:25.361969Z"
    },
    "papermill": {
     "duration": 0.039129,
     "end_time": "2020-08-27T06:21:25.362142",
     "exception": false,
     "start_time": "2020-08-27T06:21:25.323013",
     "status": "completed"
    },
    "tags": []
   },
   "outputs": [],
   "source": [
    "#hide\n",
    "df_snap = pd.read_csv('data/SnapshotCases-28-July.csv')\n",
    "arr_states = df_snap['states'].unique()\n",
    "arr_dates = df['Date'].unique()\n",
    "df_snap = df_snap.set_index('states')"
   ]
  },
  {
   "cell_type": "code",
   "execution_count": 4,
   "metadata": {
    "execution": {
     "iopub.execute_input": "2020-08-27T06:21:25.401415Z",
     "iopub.status.busy": "2020-08-27T06:21:25.400734Z",
     "iopub.status.idle": "2020-08-27T06:21:25.403344Z",
     "shell.execute_reply": "2020-08-27T06:21:25.403821Z"
    },
    "papermill": {
     "duration": 0.026118,
     "end_time": "2020-08-27T06:21:25.403967",
     "exception": false,
     "start_time": "2020-08-27T06:21:25.377849",
     "status": "completed"
    },
    "tags": []
   },
   "outputs": [
    {
     "data": {
      "text/plain": [
       "array(['Andaman and Nicobar Islands', 'Andhra Pradesh',\n",
       "       'Arunachal Pradesh', 'Assam', 'Bihar', 'Chandigarh',\n",
       "       'Dadra and Nagar Haveli and Daman and Diu', 'Delhi', 'Goa',\n",
       "       'Gujarat', 'Haryana', 'Himachal Pradesh', 'Jammu and Kashmir',\n",
       "       'Jharkhand', 'Karnataka', 'Kerala', 'Lakshadweep',\n",
       "       'Madhya Pradesh', 'Maharashtra', 'Manipur', 'Meghalaya', 'Mizoram',\n",
       "       'Nagaland', 'Odisha', 'Puducherry', 'Punjab', 'Rajasthan',\n",
       "       'Sikkim', 'Tamil Nadu', 'Telangana', 'Tripura', 'Uttar Pradesh',\n",
       "       'West Bengal', 'Chhattisgarh', 'Ladakh', 'Uttarakhand'],\n",
       "      dtype=object)"
      ]
     },
     "execution_count": 4,
     "metadata": {},
     "output_type": "execute_result"
    }
   ],
   "source": [
    "#hide\n",
    "arr_states[-9] = 'Puducherry'\n",
    "arr_states[-10] = 'Odisha'\n",
    "arr_states[6] = 'Dadra and Nagar Haveli and Daman and Diu'\n",
    "arr_states = np.append(arr_states,np.array(['Chhattisgarh','Ladakh','Uttarakhand']))\n",
    "arr_states"
   ]
  },
  {
   "cell_type": "code",
   "execution_count": 5,
   "metadata": {
    "execution": {
     "iopub.execute_input": "2020-08-27T06:21:25.445784Z",
     "iopub.status.busy": "2020-08-27T06:21:25.445182Z",
     "iopub.status.idle": "2020-08-27T06:21:25.452336Z",
     "shell.execute_reply": "2020-08-27T06:21:25.451824Z"
    },
    "papermill": {
     "duration": 0.032891,
     "end_time": "2020-08-27T06:21:25.452466",
     "exception": false,
     "start_time": "2020-08-27T06:21:25.419575",
     "status": "completed"
    },
    "tags": []
   },
   "outputs": [],
   "source": [
    "#hide\n",
    "dates = []\n",
    "for i in arr_dates:\n",
    "    if i>='2020-07-01':\n",
    "        dates.append(i)\n",
    "dict = {'states':dates}\n",
    "for i in arr_states:\n",
    "    dict[i] = [0]*len(dates)\n",
    "dft_cases = pd.DataFrame(dict)\n",
    "dft_deaths = pd.DataFrame(dict)\n"
   ]
  },
  {
   "cell_type": "code",
   "execution_count": 6,
   "metadata": {
    "execution": {
     "iopub.execute_input": "2020-08-27T06:21:25.491930Z",
     "iopub.status.busy": "2020-08-27T06:21:25.491325Z",
     "iopub.status.idle": "2020-08-27T06:21:26.293178Z",
     "shell.execute_reply": "2020-08-27T06:21:26.292568Z"
    },
    "papermill": {
     "duration": 0.824518,
     "end_time": "2020-08-27T06:21:26.293342",
     "exception": false,
     "start_time": "2020-08-27T06:21:25.468824",
     "status": "completed"
    },
    "tags": []
   },
   "outputs": [],
   "source": [
    "#hide\n",
    "for i in range(len(dates)):\n",
    "    df1_deaths = df_deaths1.get_group(dates[i])\n",
    "    for j in range(len(df1_deaths.index)):\n",
    "        if df1_deaths.iloc[j,1] in arr_states:\n",
    "            dft_deaths.loc[i,df1_deaths.iloc[j,1]] = df1_deaths.iloc[j,2]\n",
    "dft_deaths = dft_deaths.set_index('states')"
   ]
  },
  {
   "cell_type": "code",
   "execution_count": 7,
   "metadata": {
    "execution": {
     "iopub.execute_input": "2020-08-27T06:21:26.332428Z",
     "iopub.status.busy": "2020-08-27T06:21:26.331818Z",
     "iopub.status.idle": "2020-08-27T06:21:27.131512Z",
     "shell.execute_reply": "2020-08-27T06:21:27.130886Z"
    },
    "papermill": {
     "duration": 0.822418,
     "end_time": "2020-08-27T06:21:27.131679",
     "exception": false,
     "start_time": "2020-08-27T06:21:26.309261",
     "status": "completed"
    },
    "tags": []
   },
   "outputs": [],
   "source": [
    "#hide\n",
    "for i in range(len(dates)):\n",
    "    df1_cases = df_cases1.get_group(dates[i])\n",
    "    for j in range(len(df1_cases.index)):\n",
    "        if df1_cases.iloc[j,1] in arr_states:\n",
    "            dft_cases.loc[i,df1_cases.iloc[j,1]] = df1_cases.iloc[j,2]\n",
    "dft_cases = dft_cases.set_index('states')"
   ]
  },
  {
   "cell_type": "code",
   "execution_count": 8,
   "metadata": {
    "execution": {
     "iopub.execute_input": "2020-08-27T06:21:27.171243Z",
     "iopub.status.busy": "2020-08-27T06:21:27.170531Z",
     "iopub.status.idle": "2020-08-27T06:21:27.173135Z",
     "shell.execute_reply": "2020-08-27T06:21:27.173664Z"
    },
    "papermill": {
     "duration": 0.02569,
     "end_time": "2020-08-27T06:21:27.173841",
     "exception": false,
     "start_time": "2020-08-27T06:21:27.148151",
     "status": "completed"
    },
    "tags": []
   },
   "outputs": [],
   "source": [
    "#hide\n",
    "dft_cases = dft_cases.T\n",
    "dft_deaths = dft_deaths.T\n",
    "dt_today = dates[-1]\n",
    "dt_yday = dates[-2]"
   ]
  },
  {
   "cell_type": "code",
   "execution_count": 9,
   "metadata": {
    "execution": {
     "iopub.execute_input": "2020-08-27T06:21:27.215836Z",
     "iopub.status.busy": "2020-08-27T06:21:27.215008Z",
     "iopub.status.idle": "2020-08-27T06:21:27.219048Z",
     "shell.execute_reply": "2020-08-27T06:21:27.219500Z"
    },
    "papermill": {
     "duration": 0.029938,
     "end_time": "2020-08-27T06:21:27.219659",
     "exception": false,
     "start_time": "2020-08-27T06:21:27.189721",
     "status": "completed"
    },
    "tags": []
   },
   "outputs": [],
   "source": [
    "#hide\n",
    "dft_cases = dft_cases.reset_index()\n",
    "dft_deaths = dft_deaths.reset_index()\n",
    "dft_cases = dft_cases.rename(columns = {'index':'state'})\n",
    "dft_deaths = dft_deaths.rename(columns = {'index':'state'})"
   ]
  },
  {
   "cell_type": "code",
   "execution_count": 10,
   "metadata": {
    "execution": {
     "iopub.execute_input": "2020-08-27T06:21:27.262772Z",
     "iopub.status.busy": "2020-08-27T06:21:27.262111Z",
     "iopub.status.idle": "2020-08-27T06:21:27.265077Z",
     "shell.execute_reply": "2020-08-27T06:21:27.265533Z"
    },
    "papermill": {
     "duration": 0.03058,
     "end_time": "2020-08-27T06:21:27.265692",
     "exception": false,
     "start_time": "2020-08-27T06:21:27.235112",
     "status": "completed"
    },
    "tags": []
   },
   "outputs": [],
   "source": [
    "#hide\n",
    "dfc_cases = dft_cases.groupby('state')[dt_today].sum()\n",
    "dfc_deaths = dft_deaths.groupby('state')[dt_today].sum()\n",
    "dfp_cases = dft_cases.groupby('state')[dt_yday].sum()\n",
    "dfp_deaths = dft_deaths.groupby('state')[dt_yday].sum()"
   ]
  },
  {
   "cell_type": "code",
   "execution_count": 11,
   "metadata": {
    "execution": {
     "iopub.execute_input": "2020-08-27T06:21:27.305888Z",
     "iopub.status.busy": "2020-08-27T06:21:27.305279Z",
     "iopub.status.idle": "2020-08-27T06:21:27.319258Z",
     "shell.execute_reply": "2020-08-27T06:21:27.318737Z"
    },
    "papermill": {
     "duration": 0.037712,
     "end_time": "2020-08-27T06:21:27.319394",
     "exception": false,
     "start_time": "2020-08-27T06:21:27.281682",
     "status": "completed"
    },
    "tags": []
   },
   "outputs": [
    {
     "data": {
      "text/html": [
       "<div>\n",
       "<style scoped>\n",
       "    .dataframe tbody tr th:only-of-type {\n",
       "        vertical-align: middle;\n",
       "    }\n",
       "\n",
       "    .dataframe tbody tr th {\n",
       "        vertical-align: top;\n",
       "    }\n",
       "\n",
       "    .dataframe thead th {\n",
       "        text-align: right;\n",
       "    }\n",
       "</style>\n",
       "<table border=\"1\" class=\"dataframe\">\n",
       "  <thead>\n",
       "    <tr style=\"text-align: right;\">\n",
       "      <th></th>\n",
       "      <th>states</th>\n",
       "      <th>Cases</th>\n",
       "      <th>Deaths</th>\n",
       "      <th>PCases</th>\n",
       "      <th>PDeaths</th>\n",
       "    </tr>\n",
       "  </thead>\n",
       "  <tbody>\n",
       "    <tr>\n",
       "      <th>0</th>\n",
       "      <td>Maharashtra</td>\n",
       "      <td>718711</td>\n",
       "      <td>23089</td>\n",
       "      <td>718711</td>\n",
       "      <td>23089</td>\n",
       "    </tr>\n",
       "    <tr>\n",
       "      <th>1</th>\n",
       "      <td>Tamil Nadu</td>\n",
       "      <td>397261</td>\n",
       "      <td>6839</td>\n",
       "      <td>397261</td>\n",
       "      <td>6839</td>\n",
       "    </tr>\n",
       "    <tr>\n",
       "      <th>2</th>\n",
       "      <td>Andhra Pradesh</td>\n",
       "      <td>382469</td>\n",
       "      <td>3541</td>\n",
       "      <td>382469</td>\n",
       "      <td>3541</td>\n",
       "    </tr>\n",
       "    <tr>\n",
       "      <th>3</th>\n",
       "      <td>Karnataka</td>\n",
       "      <td>300406</td>\n",
       "      <td>5091</td>\n",
       "      <td>300406</td>\n",
       "      <td>5091</td>\n",
       "    </tr>\n",
       "    <tr>\n",
       "      <th>4</th>\n",
       "      <td>Uttar Pradesh</td>\n",
       "      <td>203028</td>\n",
       "      <td>3141</td>\n",
       "      <td>203028</td>\n",
       "      <td>3141</td>\n",
       "    </tr>\n",
       "  </tbody>\n",
       "</table>\n",
       "</div>"
      ],
      "text/plain": [
       "           states   Cases  Deaths  PCases  PDeaths\n",
       "0     Maharashtra  718711   23089  718711    23089\n",
       "1      Tamil Nadu  397261    6839  397261     6839\n",
       "2  Andhra Pradesh  382469    3541  382469     3541\n",
       "3       Karnataka  300406    5091  300406     5091\n",
       "4   Uttar Pradesh  203028    3141  203028     3141"
      ]
     },
     "execution_count": 11,
     "metadata": {},
     "output_type": "execute_result"
    }
   ],
   "source": [
    "#hide\n",
    "df_table = pd.DataFrame({'states': dfc_cases.index, 'Cases': dfc_cases.values, 'Deaths': dfc_deaths.values, 'PCases': dfp_cases.values, 'PDeaths': dfp_deaths.values}).set_index('states')\n",
    "df_table = df_table.sort_values(by = ['Cases','Deaths'], ascending = [False, False])\n",
    "df_table = df_table.reset_index()\n",
    "df_table.head()"
   ]
  },
  {
   "cell_type": "code",
   "execution_count": 12,
   "metadata": {
    "execution": {
     "iopub.execute_input": "2020-08-27T06:21:27.357695Z",
     "iopub.status.busy": "2020-08-27T06:21:27.357093Z",
     "iopub.status.idle": "2020-08-27T06:21:27.365872Z",
     "shell.execute_reply": "2020-08-27T06:21:27.366381Z"
    },
    "papermill": {
     "duration": 0.031107,
     "end_time": "2020-08-27T06:21:27.366540",
     "exception": false,
     "start_time": "2020-08-27T06:21:27.335433",
     "status": "completed"
    },
    "tags": []
   },
   "outputs": [],
   "source": [
    "#hide\n",
    "for c in 'Cases, Deaths'.split(', '):\n",
    "    df_table[f'{c} (+)'] = (df_table[c] - df_table[f'P{c}']).clip(0)\n",
    "df_table['Fatality Rate'] = (100* df_table['Deaths']/ df_table['Cases']).round(2)"
   ]
  },
  {
   "cell_type": "code",
   "execution_count": 13,
   "metadata": {
    "execution": {
     "iopub.execute_input": "2020-08-27T06:21:27.411649Z",
     "iopub.status.busy": "2020-08-27T06:21:27.411029Z",
     "iopub.status.idle": "2020-08-27T06:21:27.413607Z",
     "shell.execute_reply": "2020-08-27T06:21:27.414086Z"
    },
    "papermill": {
     "duration": 0.031623,
     "end_time": "2020-08-27T06:21:27.414243",
     "exception": false,
     "start_time": "2020-08-27T06:21:27.382620",
     "status": "completed"
    },
    "tags": []
   },
   "outputs": [
    {
     "data": {
      "text/html": [
       "<div>\n",
       "<style scoped>\n",
       "    .dataframe tbody tr th:only-of-type {\n",
       "        vertical-align: middle;\n",
       "    }\n",
       "\n",
       "    .dataframe tbody tr th {\n",
       "        vertical-align: top;\n",
       "    }\n",
       "\n",
       "    .dataframe thead th {\n",
       "        text-align: right;\n",
       "    }\n",
       "</style>\n",
       "<table border=\"1\" class=\"dataframe\">\n",
       "  <thead>\n",
       "    <tr style=\"text-align: right;\">\n",
       "      <th></th>\n",
       "      <th>states</th>\n",
       "      <th>Cases</th>\n",
       "      <th>Deaths</th>\n",
       "      <th>PCases</th>\n",
       "      <th>PDeaths</th>\n",
       "      <th>Cases (+)</th>\n",
       "      <th>Deaths (+)</th>\n",
       "      <th>Fatality Rate</th>\n",
       "    </tr>\n",
       "  </thead>\n",
       "  <tbody>\n",
       "    <tr>\n",
       "      <th>0</th>\n",
       "      <td>Maharashtra</td>\n",
       "      <td>718711</td>\n",
       "      <td>23089</td>\n",
       "      <td>718711</td>\n",
       "      <td>23089</td>\n",
       "      <td>0</td>\n",
       "      <td>0</td>\n",
       "      <td>3.21</td>\n",
       "    </tr>\n",
       "    <tr>\n",
       "      <th>1</th>\n",
       "      <td>Tamil Nadu</td>\n",
       "      <td>397261</td>\n",
       "      <td>6839</td>\n",
       "      <td>397261</td>\n",
       "      <td>6839</td>\n",
       "      <td>0</td>\n",
       "      <td>0</td>\n",
       "      <td>1.72</td>\n",
       "    </tr>\n",
       "    <tr>\n",
       "      <th>2</th>\n",
       "      <td>Andhra Pradesh</td>\n",
       "      <td>382469</td>\n",
       "      <td>3541</td>\n",
       "      <td>382469</td>\n",
       "      <td>3541</td>\n",
       "      <td>0</td>\n",
       "      <td>0</td>\n",
       "      <td>0.93</td>\n",
       "    </tr>\n",
       "    <tr>\n",
       "      <th>3</th>\n",
       "      <td>Karnataka</td>\n",
       "      <td>300406</td>\n",
       "      <td>5091</td>\n",
       "      <td>300406</td>\n",
       "      <td>5091</td>\n",
       "      <td>0</td>\n",
       "      <td>0</td>\n",
       "      <td>1.69</td>\n",
       "    </tr>\n",
       "    <tr>\n",
       "      <th>4</th>\n",
       "      <td>Uttar Pradesh</td>\n",
       "      <td>203028</td>\n",
       "      <td>3141</td>\n",
       "      <td>203028</td>\n",
       "      <td>3141</td>\n",
       "      <td>0</td>\n",
       "      <td>0</td>\n",
       "      <td>1.55</td>\n",
       "    </tr>\n",
       "  </tbody>\n",
       "</table>\n",
       "</div>"
      ],
      "text/plain": [
       "           states   Cases  Deaths  PCases  PDeaths  Cases (+)  Deaths (+)  \\\n",
       "0     Maharashtra  718711   23089  718711    23089          0           0   \n",
       "1      Tamil Nadu  397261    6839  397261     6839          0           0   \n",
       "2  Andhra Pradesh  382469    3541  382469     3541          0           0   \n",
       "3       Karnataka  300406    5091  300406     5091          0           0   \n",
       "4   Uttar Pradesh  203028    3141  203028     3141          0           0   \n",
       "\n",
       "   Fatality Rate  \n",
       "0           3.21  \n",
       "1           1.72  \n",
       "2           0.93  \n",
       "3           1.69  \n",
       "4           1.55  "
      ]
     },
     "execution_count": 13,
     "metadata": {},
     "output_type": "execute_result"
    }
   ],
   "source": [
    "#hide\n",
    "df_table.head()"
   ]
  },
  {
   "cell_type": "code",
   "execution_count": 14,
   "metadata": {
    "execution": {
     "iopub.execute_input": "2020-08-27T06:21:27.468236Z",
     "iopub.status.busy": "2020-08-27T06:21:27.467586Z",
     "iopub.status.idle": "2020-08-27T06:21:27.474687Z",
     "shell.execute_reply": "2020-08-27T06:21:27.475886Z"
    },
    "papermill": {
     "duration": 0.045388,
     "end_time": "2020-08-27T06:21:27.476207",
     "exception": false,
     "start_time": "2020-08-27T06:21:27.430819",
     "status": "completed"
    },
    "tags": []
   },
   "outputs": [
    {
     "data": {
      "text/plain": [
       "{'updated': '2020-08-27',\n",
       " 'since': '2020-08-26',\n",
       " 'Cases': 3311569,\n",
       " 'PCases': 3307749,\n",
       " 'Deaths': 60645,\n",
       " 'PDeaths': 60629,\n",
       " 'Cases (+)': 3820,\n",
       " 'Deaths (+)': 16}"
      ]
     },
     "execution_count": 14,
     "metadata": {},
     "output_type": "execute_result"
    }
   ],
   "source": [
    "#hide\n",
    "summary = {'updated':dates[-1], 'since':dates[-2]}\n",
    "list_names = ['Cases', 'PCases', 'Deaths', 'PDeaths', 'Cases (+)', 'Deaths (+)']\n",
    "for name in list_names:\n",
    "    summary[name] = df_table.sum()[name]\n",
    "summary"
   ]
  },
  {
   "cell_type": "code",
   "execution_count": 15,
   "metadata": {
    "execution": {
     "iopub.execute_input": "2020-08-27T06:21:27.522822Z",
     "iopub.status.busy": "2020-08-27T06:21:27.522152Z",
     "iopub.status.idle": "2020-08-27T06:21:27.523961Z",
     "shell.execute_reply": "2020-08-27T06:21:27.524482Z"
    },
    "papermill": {
     "duration": 0.023569,
     "end_time": "2020-08-27T06:21:27.524637",
     "exception": false,
     "start_time": "2020-08-27T06:21:27.501068",
     "status": "completed"
    },
    "tags": []
   },
   "outputs": [],
   "source": [
    "#hide\n",
    "overview = '''\n",
    "<!-- #######  HTML!! #########-->\n",
    "<h1 style=\"color: #5e9ca0; text-align: center;\">India</h1>\n",
    "<p style=\"text-align: center;\">Last update: <strong>{update}</strong></p>\n",
    "<p style=\"text-align: center;\">Confirmed cases:</p>\n",
    "<p style=\"text-align: center;font-size:24px;\">{cases} (<span style=\"color: #ff0000;\">+{new}</span>)</p>\n",
    "<p style=\"text-align: center;\">Confirmed deaths:</p>\n",
    "<p style=\"text-align: center;font-size:24px;\">{deaths} (<span style=\"color: #ff0000;\">+{dnew}</span>)</p>\n",
    "'''"
   ]
  },
  {
   "cell_type": "code",
   "execution_count": 16,
   "metadata": {
    "execution": {
     "iopub.execute_input": "2020-08-27T06:21:27.571544Z",
     "iopub.status.busy": "2020-08-27T06:21:27.570795Z",
     "iopub.status.idle": "2020-08-27T06:21:27.573119Z",
     "shell.execute_reply": "2020-08-27T06:21:27.573678Z"
    },
    "papermill": {
     "duration": 0.026791,
     "end_time": "2020-08-27T06:21:27.573830",
     "exception": false,
     "start_time": "2020-08-27T06:21:27.547039",
     "status": "completed"
    },
    "tags": []
   },
   "outputs": [
    {
     "data": {
      "text/html": [
       "\n",
       "<!-- #######  HTML!! #########-->\n",
       "<h1 style=\"color: #5e9ca0; text-align: center;\">India</h1>\n",
       "<p style=\"text-align: center;\">Last update: <strong>2020-08-27</strong></p>\n",
       "<p style=\"text-align: center;\">Confirmed cases:</p>\n",
       "<p style=\"text-align: center;font-size:24px;\">3311569 (<span style=\"color: #ff0000;\">+3820</span>)</p>\n",
       "<p style=\"text-align: center;\">Confirmed deaths:</p>\n",
       "<p style=\"text-align: center;font-size:24px;\">60645 (<span style=\"color: #ff0000;\">+16</span>)</p>\n"
      ],
      "text/plain": [
       "<IPython.core.display.HTML object>"
      ]
     },
     "metadata": {},
     "output_type": "display_data"
    }
   ],
   "source": [
    "#hide_input\n",
    "update = summary['updated']\n",
    "cases = summary['Cases']\n",
    "new = summary['Cases (+)']\n",
    "deaths = summary['Deaths']\n",
    "dnew = summary['Deaths (+)']\n",
    "\n",
    "html = HTML(overview.format(update=update, cases=cases,new=new,deaths=deaths,dnew=dnew))\n",
    "\n",
    "display(html)"
   ]
  },
  {
   "cell_type": "code",
   "execution_count": 17,
   "metadata": {
    "execution": {
     "iopub.execute_input": "2020-08-27T06:21:27.617401Z",
     "iopub.status.busy": "2020-08-27T06:21:27.616808Z",
     "iopub.status.idle": "2020-08-27T06:21:27.621184Z",
     "shell.execute_reply": "2020-08-27T06:21:27.621661Z"
    },
    "papermill": {
     "duration": 0.030739,
     "end_time": "2020-08-27T06:21:27.621811",
     "exception": false,
     "start_time": "2020-08-27T06:21:27.591072",
     "status": "completed"
    },
    "tags": []
   },
   "outputs": [],
   "source": [
    "#hide\n",
    "dt_cols = list(dft_cases.columns[1:])\n",
    "dft_ct_new_cases = dft_cases.groupby('state')[dt_cols].sum().diff(axis=1).fillna(0).astype(int)\n",
    "dft_ct_new_cases.sort_values(by = dates[-1], ascending = False,inplace = True)"
   ]
  },
  {
   "cell_type": "code",
   "execution_count": 18,
   "metadata": {
    "execution": {
     "iopub.execute_input": "2020-08-27T06:21:27.670176Z",
     "iopub.status.busy": "2020-08-27T06:21:27.668603Z",
     "iopub.status.idle": "2020-08-27T06:21:27.678792Z",
     "shell.execute_reply": "2020-08-27T06:21:27.679280Z"
    },
    "papermill": {
     "duration": 0.040264,
     "end_time": "2020-08-27T06:21:27.679439",
     "exception": false,
     "start_time": "2020-08-27T06:21:27.639175",
     "status": "completed"
    },
    "tags": []
   },
   "outputs": [
    {
     "data": {
      "text/html": [
       "<div>\n",
       "<style scoped>\n",
       "    .dataframe tbody tr th:only-of-type {\n",
       "        vertical-align: middle;\n",
       "    }\n",
       "\n",
       "    .dataframe tbody tr th {\n",
       "        vertical-align: top;\n",
       "    }\n",
       "\n",
       "    .dataframe thead th {\n",
       "        text-align: right;\n",
       "    }\n",
       "</style>\n",
       "<table border=\"1\" class=\"dataframe\">\n",
       "  <thead>\n",
       "    <tr style=\"text-align: right;\">\n",
       "      <th>states</th>\n",
       "      <th>2020-07-01</th>\n",
       "      <th>2020-07-02</th>\n",
       "      <th>2020-07-03</th>\n",
       "      <th>2020-07-04</th>\n",
       "      <th>2020-07-05</th>\n",
       "      <th>2020-07-06</th>\n",
       "      <th>2020-07-07</th>\n",
       "      <th>2020-07-08</th>\n",
       "      <th>2020-07-09</th>\n",
       "      <th>2020-07-10</th>\n",
       "      <th>...</th>\n",
       "      <th>2020-08-18</th>\n",
       "      <th>2020-08-19</th>\n",
       "      <th>2020-08-20</th>\n",
       "      <th>2020-08-21</th>\n",
       "      <th>2020-08-22</th>\n",
       "      <th>2020-08-23</th>\n",
       "      <th>2020-08-24</th>\n",
       "      <th>2020-08-25</th>\n",
       "      <th>2020-08-26</th>\n",
       "      <th>2020-08-27</th>\n",
       "    </tr>\n",
       "    <tr>\n",
       "      <th>state</th>\n",
       "      <th></th>\n",
       "      <th></th>\n",
       "      <th></th>\n",
       "      <th></th>\n",
       "      <th></th>\n",
       "      <th></th>\n",
       "      <th></th>\n",
       "      <th></th>\n",
       "      <th></th>\n",
       "      <th></th>\n",
       "      <th></th>\n",
       "      <th></th>\n",
       "      <th></th>\n",
       "      <th></th>\n",
       "      <th></th>\n",
       "      <th></th>\n",
       "      <th></th>\n",
       "      <th></th>\n",
       "      <th></th>\n",
       "      <th></th>\n",
       "      <th></th>\n",
       "    </tr>\n",
       "  </thead>\n",
       "  <tbody>\n",
       "    <tr>\n",
       "      <th>Telangana</th>\n",
       "      <td>0</td>\n",
       "      <td>1213</td>\n",
       "      <td>1892</td>\n",
       "      <td>1850</td>\n",
       "      <td>1590</td>\n",
       "      <td>1831</td>\n",
       "      <td>1879</td>\n",
       "      <td>1924</td>\n",
       "      <td>1410</td>\n",
       "      <td>1278</td>\n",
       "      <td>...</td>\n",
       "      <td>1682</td>\n",
       "      <td>1763</td>\n",
       "      <td>1724</td>\n",
       "      <td>1967</td>\n",
       "      <td>2474</td>\n",
       "      <td>2384</td>\n",
       "      <td>1842</td>\n",
       "      <td>2579</td>\n",
       "      <td>3018</td>\n",
       "      <td>2795</td>\n",
       "    </tr>\n",
       "    <tr>\n",
       "      <th>Rajasthan</th>\n",
       "      <td>0</td>\n",
       "      <td>350</td>\n",
       "      <td>390</td>\n",
       "      <td>480</td>\n",
       "      <td>632</td>\n",
       "      <td>524</td>\n",
       "      <td>716</td>\n",
       "      <td>659</td>\n",
       "      <td>500</td>\n",
       "      <td>611</td>\n",
       "      <td>...</td>\n",
       "      <td>1347</td>\n",
       "      <td>1312</td>\n",
       "      <td>1330</td>\n",
       "      <td>1335</td>\n",
       "      <td>1310</td>\n",
       "      <td>1345</td>\n",
       "      <td>1346</td>\n",
       "      <td>1370</td>\n",
       "      <td>1345</td>\n",
       "      <td>633</td>\n",
       "    </tr>\n",
       "    <tr>\n",
       "      <th>Tripura</th>\n",
       "      <td>0</td>\n",
       "      <td>39</td>\n",
       "      <td>93</td>\n",
       "      <td>25</td>\n",
       "      <td>23</td>\n",
       "      <td>111</td>\n",
       "      <td>24</td>\n",
       "      <td>57</td>\n",
       "      <td>16</td>\n",
       "      <td>142</td>\n",
       "      <td>...</td>\n",
       "      <td>205</td>\n",
       "      <td>236</td>\n",
       "      <td>190</td>\n",
       "      <td>256</td>\n",
       "      <td>280</td>\n",
       "      <td>331</td>\n",
       "      <td>200</td>\n",
       "      <td>293</td>\n",
       "      <td>329</td>\n",
       "      <td>385</td>\n",
       "    </tr>\n",
       "    <tr>\n",
       "      <th>Mizoram</th>\n",
       "      <td>0</td>\n",
       "      <td>2</td>\n",
       "      <td>0</td>\n",
       "      <td>2</td>\n",
       "      <td>22</td>\n",
       "      <td>11</td>\n",
       "      <td>1</td>\n",
       "      <td>5</td>\n",
       "      <td>0</td>\n",
       "      <td>23</td>\n",
       "      <td>...</td>\n",
       "      <td>26</td>\n",
       "      <td>45</td>\n",
       "      <td>14</td>\n",
       "      <td>21</td>\n",
       "      <td>8</td>\n",
       "      <td>15</td>\n",
       "      <td>0</td>\n",
       "      <td>35</td>\n",
       "      <td>14</td>\n",
       "      <td>7</td>\n",
       "    </tr>\n",
       "    <tr>\n",
       "      <th>Andaman and Nicobar Islands</th>\n",
       "      <td>0</td>\n",
       "      <td>9</td>\n",
       "      <td>7</td>\n",
       "      <td>3</td>\n",
       "      <td>6</td>\n",
       "      <td>16</td>\n",
       "      <td>6</td>\n",
       "      <td>2</td>\n",
       "      <td>7</td>\n",
       "      <td>0</td>\n",
       "      <td>...</td>\n",
       "      <td>84</td>\n",
       "      <td>75</td>\n",
       "      <td>76</td>\n",
       "      <td>67</td>\n",
       "      <td>61</td>\n",
       "      <td>52</td>\n",
       "      <td>44</td>\n",
       "      <td>41</td>\n",
       "      <td>40</td>\n",
       "      <td>0</td>\n",
       "    </tr>\n",
       "  </tbody>\n",
       "</table>\n",
       "<p>5 rows × 58 columns</p>\n",
       "</div>"
      ],
      "text/plain": [
       "states                       2020-07-01  2020-07-02  2020-07-03  2020-07-04  \\\n",
       "state                                                                         \n",
       "Telangana                             0        1213        1892        1850   \n",
       "Rajasthan                             0         350         390         480   \n",
       "Tripura                               0          39          93          25   \n",
       "Mizoram                               0           2           0           2   \n",
       "Andaman and Nicobar Islands           0           9           7           3   \n",
       "\n",
       "states                       2020-07-05  2020-07-06  2020-07-07  2020-07-08  \\\n",
       "state                                                                         \n",
       "Telangana                          1590        1831        1879        1924   \n",
       "Rajasthan                           632         524         716         659   \n",
       "Tripura                              23         111          24          57   \n",
       "Mizoram                              22          11           1           5   \n",
       "Andaman and Nicobar Islands           6          16           6           2   \n",
       "\n",
       "states                       2020-07-09  2020-07-10  ...  2020-08-18  \\\n",
       "state                                                ...               \n",
       "Telangana                          1410        1278  ...        1682   \n",
       "Rajasthan                           500         611  ...        1347   \n",
       "Tripura                              16         142  ...         205   \n",
       "Mizoram                               0          23  ...          26   \n",
       "Andaman and Nicobar Islands           7           0  ...          84   \n",
       "\n",
       "states                       2020-08-19  2020-08-20  2020-08-21  2020-08-22  \\\n",
       "state                                                                         \n",
       "Telangana                          1763        1724        1967        2474   \n",
       "Rajasthan                          1312        1330        1335        1310   \n",
       "Tripura                             236         190         256         280   \n",
       "Mizoram                              45          14          21           8   \n",
       "Andaman and Nicobar Islands          75          76          67          61   \n",
       "\n",
       "states                       2020-08-23  2020-08-24  2020-08-25  2020-08-26  \\\n",
       "state                                                                         \n",
       "Telangana                          2384        1842        2579        3018   \n",
       "Rajasthan                          1345        1346        1370        1345   \n",
       "Tripura                             331         200         293         329   \n",
       "Mizoram                              15           0          35          14   \n",
       "Andaman and Nicobar Islands          52          44          41          40   \n",
       "\n",
       "states                       2020-08-27  \n",
       "state                                    \n",
       "Telangana                          2795  \n",
       "Rajasthan                           633  \n",
       "Tripura                             385  \n",
       "Mizoram                               7  \n",
       "Andaman and Nicobar Islands           0  \n",
       "\n",
       "[5 rows x 58 columns]"
      ]
     },
     "execution_count": 18,
     "metadata": {},
     "output_type": "execute_result"
    }
   ],
   "source": [
    "#hide\n",
    "dft_ct_new_cases.head()"
   ]
  },
  {
   "cell_type": "code",
   "execution_count": 19,
   "metadata": {
    "execution": {
     "iopub.execute_input": "2020-08-27T06:21:27.766625Z",
     "iopub.status.busy": "2020-08-27T06:21:27.742041Z",
     "iopub.status.idle": "2020-08-27T06:21:30.619801Z",
     "shell.execute_reply": "2020-08-27T06:21:30.620262Z"
    },
    "papermill": {
     "duration": 2.920196,
     "end_time": "2020-08-27T06:21:30.620427",
     "exception": false,
     "start_time": "2020-08-27T06:21:27.700231",
     "status": "completed"
    },
    "tags": []
   },
   "outputs": [
    {
     "data": {
      "image/png": "[encoded data removed]",
      "text/plain": [
       "<Figure size 1296x2016 with 11 Axes>"
      ]
     },
     "metadata": {
      "needs_background": "light"
     },
     "output_type": "display_data"
    }
   ],
   "source": [
    "#hide_input\n",
    "df = dft_ct_new_cases.copy()\n",
    "df.loc['Total'] = df.sum()\n",
    "n = 5\n",
    "ax = []\n",
    "fig = plt.figure(figsize = (18,28))\n",
    "gs = fig.add_gridspec(n+2, 5)\n",
    "# gs = fig.add_gridspec(2, 3)\n",
    "ax1 = fig.add_subplot(gs[0, :])\n",
    "ef = df.loc['Total'].rename_axis('date').reset_index()\n",
    "ef['date'] = ef['date'].astype('datetime64[ns]')\n",
    "ax1.bar(ef.date,ef.Total,alpha=0.3,color='#007acc')\n",
    "ax1.plot(ef.date,ef.Total , marker=\"o\", color='#007acc')\n",
    "ax1.xaxis.set_major_locator(mdates.WeekdayLocator())\n",
    "ax1.xaxis.set_major_formatter(mdates.DateFormatter('%b %d'))\n",
    "ax1.text(0.02, 0.5,'India daily case count', transform = ax1.transAxes, fontsize=25);\n",
    "ax1.spines['right'].set_visible(False)\n",
    "ax1.spines['top'].set_visible(False)\n",
    "\n",
    "ax2 = fig.add_subplot(gs[1,0])\n",
    "ef = df.loc['Maharashtra'].rename_axis('date').reset_index()\n",
    "ef['date'] = ef['date'].astype('datetime64[ns]')\n",
    "\n",
    "ax2.bar(ef.date, ef.Maharashtra,color = '#007acc',alpha=0.5)\n",
    "ax2.xaxis.set_major_locator(mdates.WeekdayLocator())\n",
    "ax2.xaxis.set_major_formatter(mdates.DateFormatter('%b %d'))\n",
    "ax2.set_xticks(ax2.get_xticks()[::3])\n",
    "maxyval = ef.Maharashtra.max()\n",
    "ax2.set_ylim([0,maxyval])\n",
    "ax2.text(0.05, 0.9,'Maharashtra', transform = ax2.transAxes, fontsize=20);\n",
    "ax2.spines['right'].set_visible(False)\n",
    "ax2.spines['top'].set_visible(False)\n",
    "\n",
    "\n",
    "ax3 = fig.add_subplot(gs[1,1])\n",
    "ef = df.loc['Tamil Nadu'].rename_axis('date').reset_index()\n",
    "ef['date'] = ef['date'].astype('datetime64[ns]')\n",
    "ax3.bar(ef.date, ef['Tamil Nadu'],color = '#007acc',alpha=0.5,)\n",
    "ax3.xaxis.set_major_locator(mdates.WeekdayLocator())\n",
    "ax3.xaxis.set_major_formatter(mdates.DateFormatter('%b %d'))\n",
    "ax3.set_xticks(ax3.get_xticks()[::3])\n",
    "ax3.text(0.05, 0.9,'Tamil Nadu', transform = ax3.transAxes, fontsize=20);\n",
    "ax3.spines['right'].set_visible(False)\n",
    "ax3.spines['top'].set_visible(False)\n",
    "\n",
    "ax5 = fig.add_subplot(gs[1,3])\n",
    "ef = df.loc['Telangana'].rename_axis('date').reset_index()\n",
    "ef['date'] = ef['date'].astype('datetime64[ns]')\n",
    "ax5.bar(ef.date, ef['Telangana'],color = '#007acc',alpha=0.5,)\n",
    "ax5.xaxis.set_major_locator(mdates.WeekdayLocator())\n",
    "ax5.xaxis.set_major_formatter(mdates.DateFormatter('%b %d'))\n",
    "ax5.set_xticks(ax5.get_xticks()[::3])\n",
    "ax5.text(0.05, 0.9,'Telangana', transform = ax5.transAxes, fontsize=20);\n",
    "ax5.spines['right'].set_visible(False)\n",
    "ax5.spines['top'].set_visible(False)\n",
    "\n",
    "ax6 = fig.add_subplot(gs[1,4])\n",
    "ef = df.loc['Andhra Pradesh'].rename_axis('date').reset_index()\n",
    "ef['date'] = ef['date'].astype('datetime64[ns]')\n",
    "ax6.bar(ef.date, ef['Andhra Pradesh'],color = '#007acc',alpha=0.5,)\n",
    "ax6.xaxis.set_major_locator(mdates.WeekdayLocator())\n",
    "ax6.xaxis.set_major_formatter(mdates.DateFormatter('%b %d'))\n",
    "ax6.set_xticks(ax6.get_xticks()[::3])\n",
    "ax6.text(0.05, 1,'Andhra Pradesh', transform = ax6.transAxes, fontsize=20);\n",
    "ax6.spines['right'].set_visible(False)\n",
    "ax6.spines['top'].set_visible(False)\n",
    "\n",
    "ax4 = fig.add_subplot(gs[1,2])\n",
    "ef = df.loc['Delhi'].rename_axis('date').reset_index()\n",
    "ef['date'] = ef['date'].astype('datetime64[ns]')\n",
    "ax4.bar(ef.date, ef.Delhi,color = '#007acc',alpha=0.5)\n",
    "ax4.set_xticks([])\n",
    "ax4.xaxis.set_major_locator(mdates.WeekdayLocator())\n",
    "ax4.xaxis.set_major_formatter(mdates.DateFormatter('%b %d'))\n",
    "ax4.set_xticks(ax4.get_xticks()[::3])\n",
    "ax4.spines['right'].set_visible(False)\n",
    "ax4.spines['top'].set_visible(False)\n",
    "\n",
    "ax4.text(0.05, 1,'Delhi', transform = ax4.transAxes, fontsize=20)\n",
    "\n",
    "for i in range(n):\n",
    "    \n",
    "    ax.append(fig.add_subplot(gs[i+2,:]))\n",
    "    ef = df.iloc[i+3].rename_axis('date').reset_index()\n",
    "    ef['date'] = ef['date'].astype('datetime64[ns]')\n",
    "    ax[i].bar(ef.date,ef.iloc[:,-1],color = '#007acc',alpha=0.3)\n",
    "    ax[i].plot(ef.date,ef.iloc[:,-1],marker='o',color='#007acc')\n",
    "    ax[i].text(0.02,0.5,f'{ef.columns.values[-1]}',transform = ax[i].transAxes, fontsize = 20);\n",
    "    ax[i].xaxis.set_major_locator(mdates.WeekdayLocator())\n",
    "    ax[i].xaxis.set_major_formatter(mdates.DateFormatter('%b %d'))\n",
    "    ax[i].set_ylim([0,7000])\n",
    "    ax[i].spines['right'].set_visible(False)\n",
    "    ax[i].spines['top'].set_visible(False)\n",
    "plt.tight_layout()\n"
   ]
  },
  {
   "cell_type": "code",
   "execution_count": 20,
   "metadata": {
    "execution": {
     "iopub.execute_input": "2020-08-27T06:21:30.909389Z",
     "iopub.status.busy": "2020-08-27T06:21:30.908650Z",
     "iopub.status.idle": "2020-08-27T06:21:30.911087Z",
     "shell.execute_reply": "2020-08-27T06:21:30.911562Z"
    },
    "papermill": {
     "duration": 0.268699,
     "end_time": "2020-08-27T06:21:30.911719",
     "exception": false,
     "start_time": "2020-08-27T06:21:30.643020",
     "status": "completed"
    },
    "tags": []
   },
   "outputs": [
    {
     "name": "stdout",
     "output_type": "stream",
     "text": [
      "                                   states   Cases  Deaths  PCases  PDeaths  Cases (+)  Deaths (+)  Fatality Rate\n",
      "                              Maharashtra  718711   23089  718711    23089          0           0           3.21\n",
      "                               Tamil Nadu  397261    6839  397261     6839          0           0           1.72\n",
      "                           Andhra Pradesh  382469    3541  382469     3541          0           0           0.93\n",
      "                                Karnataka  300406    5091  300406     5091          0           0           1.69\n",
      "                            Uttar Pradesh  203028    3141  203028     3141          0           0           1.55\n",
      "                                    Delhi  165764    4347  165764     4347          0           0           2.62\n",
      "                              West Bengal  147775    2964  147775     2964          0           0           2.01\n",
      "                                    Bihar  126990     653  126990      653          0           0           0.51\n",
      "                                Telangana  114483     788  111688      780       2795           8           0.69\n",
      "                                    Assam   96772     274   96772      274          0           0           0.28\n",
      "                                  Gujarat   90139    2945   90139     2945          0           0           3.27\n",
      "                                   Odisha   87602     494   87602      494          0           0           0.56\n",
      "                                Rajasthan   75303     998   74670      992        633           6           1.33\n",
      "                                   Kerala   64355     258   64355      258          0           0           0.40\n",
      "                                  Haryana   58005     634   58005      634          0           0           1.09\n",
      "                           Madhya Pradesh   56864    1282   56864     1282          0           0           2.25\n",
      "                                   Punjab   46090    1219   46090     1219          0           0           2.64\n",
      "                        Jammu and Kashmir   34480     657   34480      657          0           0           1.91\n",
      "                                Jharkhand   33311     362   33311      362          0           0           1.09\n",
      "                             Chhattisgarh   24550     231   24550      231          0           0           0.94\n",
      "                              Uttarakhand   16549     219   16549      219          0           0           1.32\n",
      "                                      Goa   15027     165   15027      165          0           0           1.10\n",
      "                               Puducherry   11930     180   11930      180          0           0           1.51\n",
      "                                  Tripura    9924      85    9539       83        385           2           0.86\n",
      "                                  Manipur    5585      25    5585       25          0           0           0.45\n",
      "                         Himachal Pradesh    5321      31    5321       31          0           0           0.58\n",
      "                                 Nagaland    3778       8    3778        8          0           0           0.21\n",
      "                        Arunachal Pradesh    3555       5    3555        5          0           0           0.14\n",
      "                               Chandigarh    3376      41    3376       41          0           0           1.21\n",
      "              Andaman and Nicobar Islands    2985      41    2985       41          0           0           1.37\n",
      "                                   Ladakh    2451      25    2451       25          0           0           1.02\n",
      " Dadra and Nagar Haveli and Daman and Diu    2220       2    2220        2          0           0           0.09\n",
      "                                Meghalaya    2050       8    2050        8          0           0           0.39\n",
      "                                   Sikkim    1486       3    1486        3          0           0           0.20\n",
      "                                  Mizoram     974       0     967        0          7           0           0.00\n",
      "                              Lakshadweep       0       0       0        0          0           0            NaN\n"
     ]
    }
   ],
   "source": [
    "#hide_input\n",
    "print(df_table.to_string(index=False))"
   ]
  },
  {
   "cell_type": "code",
   "execution_count": null,
   "metadata": {
    "papermill": {
     "duration": 0.023885,
     "end_time": "2020-08-27T06:21:30.959012",
     "exception": false,
     "start_time": "2020-08-27T06:21:30.935127",
     "status": "completed"
    },
    "tags": []
   },
   "outputs": [],
   "source": []
  },
  {
   "cell_type": "code",
   "execution_count": null,
   "metadata": {
    "papermill": {
     "duration": 0.023264,
     "end_time": "2020-08-27T06:21:31.005137",
     "exception": false,
     "start_time": "2020-08-27T06:21:30.981873",
     "status": "completed"
    },
    "tags": []
   },
   "outputs": [],
   "source": []
  }
 ],
 "metadata": {
  "kernelspec": {
   "display_name": "Python 3",
   "language": "python",
   "name": "python3"
  },
  "language_info": {
   "codemirror_mode": {
    "name": "ipython",
    "version": 3
   },
   "file_extension": ".py",
   "mimetype": "text/x-python",
   "name": "python",
   "nbconvert_exporter": "python",
   "pygments_lexer": "ipython3",
   "version": "3.6.11"
  },
  "papermill": {
   "duration": 8.914131,
   "end_time": "2020-08-27T06:21:31.438003",
   "environment_variables": {},
   "exception": null,
   "input_path": "latest.ipynb",
   "output_path": "latest.ipynb",
   "parameters": {},
   "start_time": "2020-08-27T06:21:22.523872",
   "version": "2.1.2"
  }
 },
 "nbformat": 4,
 "nbformat_minor": 4
}