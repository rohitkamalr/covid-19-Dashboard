{
 "cells": [
  {
   "cell_type": "markdown",
   "id": "colored-stack",
   "metadata": {
    "papermill": {
     "duration": 0.024123,
     "end_time": "2021-05-05T11:54:38.336189",
     "exception": false,
     "start_time": "2021-05-05T11:54:38.312066",
     "status": "completed"
    },
    "tags": []
   },
   "source": [
    "# Latest COVID-19 India Matplotlib Overview"
   ]
  },
  {
   "cell_type": "code",
   "execution_count": 1,
   "id": "light-proportion",
   "metadata": {
    "execution": {
     "iopub.execute_input": "2021-05-05T11:54:38.388105Z",
     "iopub.status.busy": "2021-05-05T11:54:38.387472Z",
     "iopub.status.idle": "2021-05-05T11:54:39.018754Z",
     "shell.execute_reply": "2021-05-05T11:54:39.018151Z"
    },
    "papermill": {
     "duration": 0.663216,
     "end_time": "2021-05-05T11:54:39.018928",
     "exception": false,
     "start_time": "2021-05-05T11:54:38.355712",
     "status": "completed"
    },
    "tags": []
   },
   "outputs": [],
   "source": [
    "#hide\n",
    "import pandas as pd\n",
    "import numpy as np\n",
    "import requests\n",
    "import json\n",
    "import matplotlib.pyplot as plt\n",
    "import matplotlib.dates as mdates\n",
    "import matplotlib as mpl\n",
    "from IPython.core.display import display,HTML\n",
    "%matplotlib inline\n",
    "from datetime import date"
   ]
  },
  {
   "cell_type": "code",
   "execution_count": 2,
   "id": "greenhouse-shooting",
   "metadata": {
    "execution": {
     "iopub.execute_input": "2021-05-05T11:54:39.068463Z",
     "iopub.status.busy": "2021-05-05T11:54:39.067759Z",
     "iopub.status.idle": "2021-05-05T11:54:39.253200Z",
     "shell.execute_reply": "2021-05-05T11:54:39.252595Z"
    },
    "papermill": {
     "duration": 0.214369,
     "end_time": "2021-05-05T11:54:39.253428",
     "exception": false,
     "start_time": "2021-05-05T11:54:39.039059",
     "status": "completed"
    },
    "tags": []
   },
   "outputs": [],
   "source": [
    "#hide\n",
    "df  = pd.read_csv('https://api.covid19india.org/csv/latest/states.csv')\n",
    "df = df[['Date','State','Confirmed','Deceased']]\n",
    "df = df.rename(columns={'Confirmed':'Cases', \"Deceased\":'Deaths'})\n",
    "df_cases = df[[\"Date\",'State','Cases']]\n",
    "df_deaths = df[['Date','State','Deaths']]\n",
    "df_cases1 = df_cases.groupby('Date')\n",
    "df_deaths1= df_deaths.groupby('Date')"
   ]
  },
  {
   "cell_type": "code",
   "execution_count": 3,
   "id": "hybrid-cathedral",
   "metadata": {
    "execution": {
     "iopub.execute_input": "2021-05-05T11:54:39.301299Z",
     "iopub.status.busy": "2021-05-05T11:54:39.300329Z",
     "iopub.status.idle": "2021-05-05T11:54:39.321503Z",
     "shell.execute_reply": "2021-05-05T11:54:39.321020Z"
    },
    "papermill": {
     "duration": 0.046713,
     "end_time": "2021-05-05T11:54:39.321658",
     "exception": false,
     "start_time": "2021-05-05T11:54:39.274945",
     "status": "completed"
    },
    "tags": []
   },
   "outputs": [],
   "source": [
    "#hide\n",
    "df_snap = pd.read_csv('data/SnapshotCases-28-July.csv')\n",
    "arr_states = df_snap['states'].unique()\n",
    "arr_dates = df['Date'].unique()\n",
    "df_snap = df_snap.set_index('states')"
   ]
  },
  {
   "cell_type": "code",
   "execution_count": 4,
   "id": "interior-belfast",
   "metadata": {
    "execution": {
     "iopub.execute_input": "2021-05-05T11:54:39.370726Z",
     "iopub.status.busy": "2021-05-05T11:54:39.370110Z",
     "iopub.status.idle": "2021-05-05T11:54:39.374430Z",
     "shell.execute_reply": "2021-05-05T11:54:39.373769Z"
    },
    "papermill": {
     "duration": 0.032232,
     "end_time": "2021-05-05T11:54:39.374550",
     "exception": false,
     "start_time": "2021-05-05T11:54:39.342318",
     "status": "completed"
    },
    "tags": []
   },
   "outputs": [
    {
     "data": {
      "text/plain": [
       "array(['Andaman and Nicobar Islands', 'Andhra Pradesh',\n",
       "       'Arunachal Pradesh', 'Assam', 'Bihar', 'Chandigarh',\n",
       "       'Dadra and Nagar Haveli and Daman and Diu', 'Delhi', 'Goa',\n",
       "       'Gujarat', 'Haryana', 'Himachal Pradesh', 'Jammu and Kashmir',\n",
       "       'Jharkhand', 'Karnataka', 'Kerala', 'Lakshadweep',\n",
       "       'Madhya Pradesh', 'Maharashtra', 'Manipur', 'Meghalaya', 'Mizoram',\n",
       "       'Nagaland', 'Odisha', 'Puducherry', 'Punjab', 'Rajasthan',\n",
       "       'Sikkim', 'Tamil Nadu', 'Telangana', 'Tripura', 'Uttar Pradesh',\n",
       "       'West Bengal', 'Chhattisgarh', 'Ladakh', 'Uttarakhand'],\n",
       "      dtype=object)"
      ]
     },
     "execution_count": 4,
     "metadata": {},
     "output_type": "execute_result"
    }
   ],
   "source": [
    "#hide\n",
    "arr_states[-9] = 'Puducherry'\n",
    "arr_states[-10] = 'Odisha'\n",
    "arr_states[6] = 'Dadra and Nagar Haveli and Daman and Diu'\n",
    "arr_states = np.append(arr_states,np.array(['Chhattisgarh','Ladakh','Uttarakhand']))\n",
    "arr_states"
   ]
  },
  {
   "cell_type": "code",
   "execution_count": 5,
   "id": "behind-manner",
   "metadata": {
    "execution": {
     "iopub.execute_input": "2021-05-05T11:54:39.427716Z",
     "iopub.status.busy": "2021-05-05T11:54:39.427064Z",
     "iopub.status.idle": "2021-05-05T11:54:39.437756Z",
     "shell.execute_reply": "2021-05-05T11:54:39.437253Z"
    },
    "papermill": {
     "duration": 0.043659,
     "end_time": "2021-05-05T11:54:39.437867",
     "exception": false,
     "start_time": "2021-05-05T11:54:39.394208",
     "status": "completed"
    },
    "tags": []
   },
   "outputs": [],
   "source": [
    "#hide\n",
    "dates = []\n",
    "for i in arr_dates:\n",
    "    if i>='2020-07-01':\n",
    "        dates.append(i)\n",
    "dict = {'states':dates}\n",
    "for i in arr_states:\n",
    "    dict[i] = [0]*len(dates)\n",
    "dft_cases = pd.DataFrame(dict)\n",
    "dft_deaths = pd.DataFrame(dict)\n"
   ]
  },
  {
   "cell_type": "code",
   "execution_count": 6,
   "id": "simplified-peter",
   "metadata": {
    "execution": {
     "iopub.execute_input": "2021-05-05T11:54:39.483137Z",
     "iopub.status.busy": "2021-05-05T11:54:39.482466Z",
     "iopub.status.idle": "2021-05-05T11:54:45.443217Z",
     "shell.execute_reply": "2021-05-05T11:54:45.442595Z"
    },
    "papermill": {
     "duration": 5.98597,
     "end_time": "2021-05-05T11:54:45.443367",
     "exception": false,
     "start_time": "2021-05-05T11:54:39.457397",
     "status": "completed"
    },
    "tags": []
   },
   "outputs": [],
   "source": [
    "#hide\n",
    "for i in range(len(dates)):\n",
    "    df1_deaths = df_deaths1.get_group(dates[i])\n",
    "    for j in range(len(df1_deaths.index)):\n",
    "        if df1_deaths.iloc[j,1] in arr_states:\n",
    "            dft_deaths.loc[i,df1_deaths.iloc[j,1]] = df1_deaths.iloc[j,2]\n",
    "dft_deaths = dft_deaths.set_index('states')"
   ]
  },
  {
   "cell_type": "code",
   "execution_count": 7,
   "id": "geological-welding",
   "metadata": {
    "execution": {
     "iopub.execute_input": "2021-05-05T11:54:45.490347Z",
     "iopub.status.busy": "2021-05-05T11:54:45.489709Z",
     "iopub.status.idle": "2021-05-05T11:54:51.407430Z",
     "shell.execute_reply": "2021-05-05T11:54:51.406819Z"
    },
    "papermill": {
     "duration": 5.944227,
     "end_time": "2021-05-05T11:54:51.407597",
     "exception": false,
     "start_time": "2021-05-05T11:54:45.463370",
     "status": "completed"
    },
    "tags": []
   },
   "outputs": [],
   "source": [
    "#hide\n",
    "for i in range(len(dates)):\n",
    "    df1_cases = df_cases1.get_group(dates[i])\n",
    "    for j in range(len(df1_cases.index)):\n",
    "        if df1_cases.iloc[j,1] in arr_states:\n",
    "            dft_cases.loc[i,df1_cases.iloc[j,1]] = df1_cases.iloc[j,2]\n",
    "dft_cases = dft_cases.set_index('states')"
   ]
  },
  {
   "cell_type": "code",
   "execution_count": 8,
   "id": "binary-ratio",
   "metadata": {
    "execution": {
     "iopub.execute_input": "2021-05-05T11:54:51.455196Z",
     "iopub.status.busy": "2021-05-05T11:54:51.454527Z",
     "iopub.status.idle": "2021-05-05T11:54:51.458228Z",
     "shell.execute_reply": "2021-05-05T11:54:51.458967Z"
    },
    "papermill": {
     "duration": 0.030784,
     "end_time": "2021-05-05T11:54:51.459106",
     "exception": false,
     "start_time": "2021-05-05T11:54:51.428322",
     "status": "completed"
    },
    "tags": []
   },
   "outputs": [],
   "source": [
    "#hide\n",
    "dft_cases = dft_cases.T\n",
    "dft_deaths = dft_deaths.T\n",
    "dt_today = dates[-1]\n",
    "dt_yday = dates[-2]"
   ]
  },
  {
   "cell_type": "code",
   "execution_count": 9,
   "id": "boolean-calculator",
   "metadata": {
    "execution": {
     "iopub.execute_input": "2021-05-05T11:54:51.508333Z",
     "iopub.status.busy": "2021-05-05T11:54:51.507614Z",
     "iopub.status.idle": "2021-05-05T11:54:51.513269Z",
     "shell.execute_reply": "2021-05-05T11:54:51.512648Z"
    },
    "papermill": {
     "duration": 0.033271,
     "end_time": "2021-05-05T11:54:51.513399",
     "exception": false,
     "start_time": "2021-05-05T11:54:51.480128",
     "status": "completed"
    },
    "tags": []
   },
   "outputs": [],
   "source": [
    "#hide\n",
    "dft_cases = dft_cases.reset_index()\n",
    "dft_deaths = dft_deaths.reset_index()\n",
    "dft_cases = dft_cases.rename(columns = {'index':'state'})\n",
    "dft_deaths = dft_deaths.rename(columns = {'index':'state'})"
   ]
  },
  {
   "cell_type": "code",
   "execution_count": 10,
   "id": "invisible-johnston",
   "metadata": {
    "execution": {
     "iopub.execute_input": "2021-05-05T11:54:51.567618Z",
     "iopub.status.busy": "2021-05-05T11:54:51.565036Z",
     "iopub.status.idle": "2021-05-05T11:54:51.570240Z",
     "shell.execute_reply": "2021-05-05T11:54:51.570918Z"
    },
    "papermill": {
     "duration": 0.036954,
     "end_time": "2021-05-05T11:54:51.571076",
     "exception": false,
     "start_time": "2021-05-05T11:54:51.534122",
     "status": "completed"
    },
    "tags": []
   },
   "outputs": [],
   "source": [
    "#hide\n",
    "dfc_cases = dft_cases.groupby('state')[dt_today].sum()\n",
    "dfc_deaths = dft_deaths.groupby('state')[dt_today].sum()\n",
    "dfp_cases = dft_cases.groupby('state')[dt_yday].sum()\n",
    "dfp_deaths = dft_deaths.groupby('state')[dt_yday].sum()"
   ]
  },
  {
   "cell_type": "code",
   "execution_count": 11,
   "id": "measured-great",
   "metadata": {
    "execution": {
     "iopub.execute_input": "2021-05-05T11:54:51.625893Z",
     "iopub.status.busy": "2021-05-05T11:54:51.625213Z",
     "iopub.status.idle": "2021-05-05T11:54:51.639141Z",
     "shell.execute_reply": "2021-05-05T11:54:51.639656Z"
    },
    "papermill": {
     "duration": 0.04659,
     "end_time": "2021-05-05T11:54:51.639967",
     "exception": false,
     "start_time": "2021-05-05T11:54:51.593377",
     "status": "completed"
    },
    "tags": []
   },
   "outputs": [
    {
     "data": {
      "text/html": [
       "<div>\n",
       "<style scoped>\n",
       "    .dataframe tbody tr th:only-of-type {\n",
       "        vertical-align: middle;\n",
       "    }\n",
       "\n",
       "    .dataframe tbody tr th {\n",
       "        vertical-align: top;\n",
       "    }\n",
       "\n",
       "    .dataframe thead th {\n",
       "        text-align: right;\n",
       "    }\n",
       "</style>\n",
       "<table border=\"1\" class=\"dataframe\">\n",
       "  <thead>\n",
       "    <tr style=\"text-align: right;\">\n",
       "      <th></th>\n",
       "      <th>states</th>\n",
       "      <th>Cases</th>\n",
       "      <th>Deaths</th>\n",
       "      <th>PCases</th>\n",
       "      <th>PDeaths</th>\n",
       "    </tr>\n",
       "  </thead>\n",
       "  <tbody>\n",
       "    <tr>\n",
       "      <th>0</th>\n",
       "      <td>Maharashtra</td>\n",
       "      <td>4822902</td>\n",
       "      <td>71742</td>\n",
       "      <td>4822902</td>\n",
       "      <td>71742</td>\n",
       "    </tr>\n",
       "    <tr>\n",
       "      <th>1</th>\n",
       "      <td>Kerala</td>\n",
       "      <td>1701980</td>\n",
       "      <td>5508</td>\n",
       "      <td>1701980</td>\n",
       "      <td>5508</td>\n",
       "    </tr>\n",
       "    <tr>\n",
       "      <th>2</th>\n",
       "      <td>Karnataka</td>\n",
       "      <td>1690934</td>\n",
       "      <td>16538</td>\n",
       "      <td>1690934</td>\n",
       "      <td>16538</td>\n",
       "    </tr>\n",
       "    <tr>\n",
       "      <th>3</th>\n",
       "      <td>Uttar Pradesh</td>\n",
       "      <td>1368183</td>\n",
       "      <td>13798</td>\n",
       "      <td>1368183</td>\n",
       "      <td>13798</td>\n",
       "    </tr>\n",
       "    <tr>\n",
       "      <th>4</th>\n",
       "      <td>Delhi</td>\n",
       "      <td>1253902</td>\n",
       "      <td>18063</td>\n",
       "      <td>1232942</td>\n",
       "      <td>17752</td>\n",
       "    </tr>\n",
       "  </tbody>\n",
       "</table>\n",
       "</div>"
      ],
      "text/plain": [
       "          states    Cases  Deaths   PCases  PDeaths\n",
       "0    Maharashtra  4822902   71742  4822902    71742\n",
       "1         Kerala  1701980    5508  1701980     5508\n",
       "2      Karnataka  1690934   16538  1690934    16538\n",
       "3  Uttar Pradesh  1368183   13798  1368183    13798\n",
       "4          Delhi  1253902   18063  1232942    17752"
      ]
     },
     "execution_count": 11,
     "metadata": {},
     "output_type": "execute_result"
    }
   ],
   "source": [
    "#hide\n",
    "df_table = pd.DataFrame({'states': dfc_cases.index, 'Cases': dfc_cases.values, 'Deaths': dfc_deaths.values, 'PCases': dfp_cases.values, 'PDeaths': dfp_deaths.values}).set_index('states')\n",
    "df_table = df_table.sort_values(by = ['Cases','Deaths'], ascending = [False, False])\n",
    "df_table = df_table.reset_index()\n",
    "df_table.head()"
   ]
  },
  {
   "cell_type": "code",
   "execution_count": 12,
   "id": "found-montreal",
   "metadata": {
    "execution": {
     "iopub.execute_input": "2021-05-05T11:54:51.686637Z",
     "iopub.status.busy": "2021-05-05T11:54:51.686005Z",
     "iopub.status.idle": "2021-05-05T11:54:51.697102Z",
     "shell.execute_reply": "2021-05-05T11:54:51.697749Z"
    },
    "papermill": {
     "duration": 0.037602,
     "end_time": "2021-05-05T11:54:51.697913",
     "exception": false,
     "start_time": "2021-05-05T11:54:51.660311",
     "status": "completed"
    },
    "tags": []
   },
   "outputs": [],
   "source": [
    "#hide\n",
    "for c in 'Cases, Deaths'.split(', '):\n",
    "    df_table[f'{c} (+)'] = (df_table[c] - df_table[f'P{c}']).clip(0)\n",
    "df_table['Fatality Rate'] = (100* df_table['Deaths']/ df_table['Cases']).round(2)"
   ]
  },
  {
   "cell_type": "code",
   "execution_count": 13,
   "id": "minus-savage",
   "metadata": {
    "execution": {
     "iopub.execute_input": "2021-05-05T11:54:51.743832Z",
     "iopub.status.busy": "2021-05-05T11:54:51.743195Z",
     "iopub.status.idle": "2021-05-05T11:54:51.752994Z",
     "shell.execute_reply": "2021-05-05T11:54:51.753528Z"
    },
    "papermill": {
     "duration": 0.035319,
     "end_time": "2021-05-05T11:54:51.753724",
     "exception": false,
     "start_time": "2021-05-05T11:54:51.718405",
     "status": "completed"
    },
    "tags": []
   },
   "outputs": [
    {
     "data": {
      "text/html": [
       "<div>\n",
       "<style scoped>\n",
       "    .dataframe tbody tr th:only-of-type {\n",
       "        vertical-align: middle;\n",
       "    }\n",
       "\n",
       "    .dataframe tbody tr th {\n",
       "        vertical-align: top;\n",
       "    }\n",
       "\n",
       "    .dataframe thead th {\n",
       "        text-align: right;\n",
       "    }\n",
       "</style>\n",
       "<table border=\"1\" class=\"dataframe\">\n",
       "  <thead>\n",
       "    <tr style=\"text-align: right;\">\n",
       "      <th></th>\n",
       "      <th>states</th>\n",
       "      <th>Cases</th>\n",
       "      <th>Deaths</th>\n",
       "      <th>PCases</th>\n",
       "      <th>PDeaths</th>\n",
       "      <th>Cases (+)</th>\n",
       "      <th>Deaths (+)</th>\n",
       "      <th>Fatality Rate</th>\n",
       "    </tr>\n",
       "  </thead>\n",
       "  <tbody>\n",
       "    <tr>\n",
       "      <th>0</th>\n",
       "      <td>Maharashtra</td>\n",
       "      <td>4822902</td>\n",
       "      <td>71742</td>\n",
       "      <td>4822902</td>\n",
       "      <td>71742</td>\n",
       "      <td>0</td>\n",
       "      <td>0</td>\n",
       "      <td>1.49</td>\n",
       "    </tr>\n",
       "    <tr>\n",
       "      <th>1</th>\n",
       "      <td>Kerala</td>\n",
       "      <td>1701980</td>\n",
       "      <td>5508</td>\n",
       "      <td>1701980</td>\n",
       "      <td>5508</td>\n",
       "      <td>0</td>\n",
       "      <td>0</td>\n",
       "      <td>0.32</td>\n",
       "    </tr>\n",
       "    <tr>\n",
       "      <th>2</th>\n",
       "      <td>Karnataka</td>\n",
       "      <td>1690934</td>\n",
       "      <td>16538</td>\n",
       "      <td>1690934</td>\n",
       "      <td>16538</td>\n",
       "      <td>0</td>\n",
       "      <td>0</td>\n",
       "      <td>0.98</td>\n",
       "    </tr>\n",
       "    <tr>\n",
       "      <th>3</th>\n",
       "      <td>Uttar Pradesh</td>\n",
       "      <td>1368183</td>\n",
       "      <td>13798</td>\n",
       "      <td>1368183</td>\n",
       "      <td>13798</td>\n",
       "      <td>0</td>\n",
       "      <td>0</td>\n",
       "      <td>1.01</td>\n",
       "    </tr>\n",
       "    <tr>\n",
       "      <th>4</th>\n",
       "      <td>Delhi</td>\n",
       "      <td>1253902</td>\n",
       "      <td>18063</td>\n",
       "      <td>1232942</td>\n",
       "      <td>17752</td>\n",
       "      <td>20960</td>\n",
       "      <td>311</td>\n",
       "      <td>1.44</td>\n",
       "    </tr>\n",
       "  </tbody>\n",
       "</table>\n",
       "</div>"
      ],
      "text/plain": [
       "          states    Cases  Deaths   PCases  PDeaths  Cases (+)  Deaths (+)  \\\n",
       "0    Maharashtra  4822902   71742  4822902    71742          0           0   \n",
       "1         Kerala  1701980    5508  1701980     5508          0           0   \n",
       "2      Karnataka  1690934   16538  1690934    16538          0           0   \n",
       "3  Uttar Pradesh  1368183   13798  1368183    13798          0           0   \n",
       "4          Delhi  1253902   18063  1232942    17752      20960         311   \n",
       "\n",
       "   Fatality Rate  \n",
       "0           1.49  \n",
       "1           0.32  \n",
       "2           0.98  \n",
       "3           1.01  \n",
       "4           1.44  "
      ]
     },
     "execution_count": 13,
     "metadata": {},
     "output_type": "execute_result"
    }
   ],
   "source": [
    "#hide\n",
    "df_table.head()"
   ]
  },
  {
   "cell_type": "code",
   "execution_count": 14,
   "id": "false-peter",
   "metadata": {
    "execution": {
     "iopub.execute_input": "2021-05-05T11:54:51.799242Z",
     "iopub.status.busy": "2021-05-05T11:54:51.798594Z",
     "iopub.status.idle": "2021-05-05T11:54:51.818136Z",
     "shell.execute_reply": "2021-05-05T11:54:51.817540Z"
    },
    "papermill": {
     "duration": 0.044711,
     "end_time": "2021-05-05T11:54:51.818281",
     "exception": false,
     "start_time": "2021-05-05T11:54:51.773570",
     "status": "completed"
    },
    "tags": []
   },
   "outputs": [
    {
     "data": {
      "text/plain": [
       "{'updated': '2021-05-05',\n",
       " 'since': '2021-05-04',\n",
       " 'Cases': 20698255,\n",
       " 'PCases': 20658479,\n",
       " 'Deaths': 226574,\n",
       " 'PDeaths': 226172,\n",
       " 'Cases (+)': 39776,\n",
       " 'Deaths (+)': 402}"
      ]
     },
     "execution_count": 14,
     "metadata": {},
     "output_type": "execute_result"
    }
   ],
   "source": [
    "#hide\n",
    "summary = {'updated':dates[-1], 'since':dates[-2]}\n",
    "list_names = ['Cases', 'PCases', 'Deaths', 'PDeaths', 'Cases (+)', 'Deaths (+)']\n",
    "for name in list_names:\n",
    "    summary[name] = df_table.sum()[name]\n",
    "summary"
   ]
  },
  {
   "cell_type": "code",
   "execution_count": 15,
   "id": "packed-viewer",
   "metadata": {
    "execution": {
     "iopub.execute_input": "2021-05-05T11:54:51.866054Z",
     "iopub.status.busy": "2021-05-05T11:54:51.865327Z",
     "iopub.status.idle": "2021-05-05T11:54:51.867951Z",
     "shell.execute_reply": "2021-05-05T11:54:51.867402Z"
    },
    "papermill": {
     "duration": 0.028852,
     "end_time": "2021-05-05T11:54:51.868101",
     "exception": false,
     "start_time": "2021-05-05T11:54:51.839249",
     "status": "completed"
    },
    "tags": []
   },
   "outputs": [],
   "source": [
    "#hide\n",
    "overview = '''\n",
    "<!-- #######  HTML!! #########-->\n",
    "<h1 style=\"color: #5e9ca0; text-align: center;\">India</h1>\n",
    "<p style=\"text-align: center;\">Last update: <strong>{update}</strong></p>\n",
    "<p style=\"text-align: center;\">Confirmed cases:</p>\n",
    "<p style=\"text-align: center;font-size:24px;\">{cases} (<span style=\"color: #ff0000;\">+{new}</span>)</p>\n",
    "<p style=\"text-align: center;\">Confirmed deaths:</p>\n",
    "<p style=\"text-align: center;font-size:24px;\">{deaths} (<span style=\"color: #ff0000;\">+{dnew}</span>)</p>\n",
    "'''"
   ]
  },
  {
   "cell_type": "code",
   "execution_count": 16,
   "id": "phantom-lover",
   "metadata": {
    "execution": {
     "iopub.execute_input": "2021-05-05T11:54:51.918334Z",
     "iopub.status.busy": "2021-05-05T11:54:51.917693Z",
     "iopub.status.idle": "2021-05-05T11:54:51.921274Z",
     "shell.execute_reply": "2021-05-05T11:54:51.920735Z"
    },
    "papermill": {
     "duration": 0.031615,
     "end_time": "2021-05-05T11:54:51.921425",
     "exception": false,
     "start_time": "2021-05-05T11:54:51.889810",
     "status": "completed"
    },
    "tags": []
   },
   "outputs": [
    {
     "data": {
      "text/html": [
       "\n",
       "<!-- #######  HTML!! #########-->\n",
       "<h1 style=\"color: #5e9ca0; text-align: center;\">India</h1>\n",
       "<p style=\"text-align: center;\">Last update: <strong>2021-05-05</strong></p>\n",
       "<p style=\"text-align: center;\">Confirmed cases:</p>\n",
       "<p style=\"text-align: center;font-size:24px;\">20698255 (<span style=\"color: #ff0000;\">+39776</span>)</p>\n",
       "<p style=\"text-align: center;\">Confirmed deaths:</p>\n",
       "<p style=\"text-align: center;font-size:24px;\">226574 (<span style=\"color: #ff0000;\">+402</span>)</p>\n"
      ],
      "text/plain": [
       "<IPython.core.display.HTML object>"
      ]
     },
     "metadata": {},
     "output_type": "display_data"
    }
   ],
   "source": [
    "#hide_input\n",
    "update = summary['updated']\n",
    "cases = summary['Cases']\n",
    "new = summary['Cases (+)']\n",
    "deaths = summary['Deaths']\n",
    "dnew = summary['Deaths (+)']\n",
    "\n",
    "html = HTML(overview.format(update=update, cases=cases,new=new,deaths=deaths,dnew=dnew))\n",
    "\n",
    "display(html)"
   ]
  },
  {
   "cell_type": "code",
   "execution_count": 17,
   "id": "sealed-reset",
   "metadata": {
    "execution": {
     "iopub.execute_input": "2021-05-05T11:54:51.978311Z",
     "iopub.status.busy": "2021-05-05T11:54:51.977655Z",
     "iopub.status.idle": "2021-05-05T11:54:51.985754Z",
     "shell.execute_reply": "2021-05-05T11:54:51.985051Z"
    },
    "papermill": {
     "duration": 0.038951,
     "end_time": "2021-05-05T11:54:51.985888",
     "exception": false,
     "start_time": "2021-05-05T11:54:51.946937",
     "status": "completed"
    },
    "tags": []
   },
   "outputs": [],
   "source": [
    "#hide\n",
    "dt_cols = list(dft_cases.columns[1:])\n",
    "dft_ct_new_cases = dft_cases.groupby('state')[dt_cols].sum().diff(axis=1).fillna(0).astype(int)\n",
    "dft_ct_new_cases.sort_values(by = dates[-1], ascending = False,inplace = True)"
   ]
  },
  {
   "cell_type": "code",
   "execution_count": 18,
   "id": "designed-constant",
   "metadata": {
    "execution": {
     "iopub.execute_input": "2021-05-05T11:54:52.059010Z",
     "iopub.status.busy": "2021-05-05T11:54:52.058333Z",
     "iopub.status.idle": "2021-05-05T11:54:52.061463Z",
     "shell.execute_reply": "2021-05-05T11:54:52.063972Z"
    },
    "papermill": {
     "duration": 0.055375,
     "end_time": "2021-05-05T11:54:52.064261",
     "exception": false,
     "start_time": "2021-05-05T11:54:52.008886",
     "status": "completed"
    },
    "tags": []
   },
   "outputs": [
    {
     "data": {
      "text/html": [
       "<div>\n",
       "<style scoped>\n",
       "    .dataframe tbody tr th:only-of-type {\n",
       "        vertical-align: middle;\n",
       "    }\n",
       "\n",
       "    .dataframe tbody tr th {\n",
       "        vertical-align: top;\n",
       "    }\n",
       "\n",
       "    .dataframe thead th {\n",
       "        text-align: right;\n",
       "    }\n",
       "</style>\n",
       "<table border=\"1\" class=\"dataframe\">\n",
       "  <thead>\n",
       "    <tr style=\"text-align: right;\">\n",
       "      <th>states</th>\n",
       "      <th>2020-07-01</th>\n",
       "      <th>2020-07-02</th>\n",
       "      <th>2020-07-03</th>\n",
       "      <th>2020-07-04</th>\n",
       "      <th>2020-07-05</th>\n",
       "      <th>2020-07-06</th>\n",
       "      <th>2020-07-07</th>\n",
       "      <th>2020-07-08</th>\n",
       "      <th>2020-07-09</th>\n",
       "      <th>2020-07-10</th>\n",
       "      <th>...</th>\n",
       "      <th>2021-04-26</th>\n",
       "      <th>2021-04-27</th>\n",
       "      <th>2021-04-28</th>\n",
       "      <th>2021-04-29</th>\n",
       "      <th>2021-04-30</th>\n",
       "      <th>2021-05-01</th>\n",
       "      <th>2021-05-02</th>\n",
       "      <th>2021-05-03</th>\n",
       "      <th>2021-05-04</th>\n",
       "      <th>2021-05-05</th>\n",
       "    </tr>\n",
       "    <tr>\n",
       "      <th>state</th>\n",
       "      <th></th>\n",
       "      <th></th>\n",
       "      <th></th>\n",
       "      <th></th>\n",
       "      <th></th>\n",
       "      <th></th>\n",
       "      <th></th>\n",
       "      <th></th>\n",
       "      <th></th>\n",
       "      <th></th>\n",
       "      <th></th>\n",
       "      <th></th>\n",
       "      <th></th>\n",
       "      <th></th>\n",
       "      <th></th>\n",
       "      <th></th>\n",
       "      <th></th>\n",
       "      <th></th>\n",
       "      <th></th>\n",
       "      <th></th>\n",
       "      <th></th>\n",
       "    </tr>\n",
       "  </thead>\n",
       "  <tbody>\n",
       "    <tr>\n",
       "      <th>Delhi</th>\n",
       "      <td>0</td>\n",
       "      <td>2373</td>\n",
       "      <td>2520</td>\n",
       "      <td>2505</td>\n",
       "      <td>2244</td>\n",
       "      <td>1379</td>\n",
       "      <td>2008</td>\n",
       "      <td>2033</td>\n",
       "      <td>2187</td>\n",
       "      <td>2089</td>\n",
       "      <td>...</td>\n",
       "      <td>20201</td>\n",
       "      <td>24149</td>\n",
       "      <td>25986</td>\n",
       "      <td>24235</td>\n",
       "      <td>27047</td>\n",
       "      <td>25219</td>\n",
       "      <td>20394</td>\n",
       "      <td>18043</td>\n",
       "      <td>19953</td>\n",
       "      <td>20960</td>\n",
       "    </tr>\n",
       "    <tr>\n",
       "      <th>Odisha</th>\n",
       "      <td>0</td>\n",
       "      <td>229</td>\n",
       "      <td>561</td>\n",
       "      <td>495</td>\n",
       "      <td>469</td>\n",
       "      <td>456</td>\n",
       "      <td>571</td>\n",
       "      <td>527</td>\n",
       "      <td>577</td>\n",
       "      <td>755</td>\n",
       "      <td>...</td>\n",
       "      <td>6599</td>\n",
       "      <td>6073</td>\n",
       "      <td>8386</td>\n",
       "      <td>6998</td>\n",
       "      <td>8681</td>\n",
       "      <td>10413</td>\n",
       "      <td>8015</td>\n",
       "      <td>8914</td>\n",
       "      <td>8216</td>\n",
       "      <td>9889</td>\n",
       "    </tr>\n",
       "    <tr>\n",
       "      <th>Telangana</th>\n",
       "      <td>0</td>\n",
       "      <td>1213</td>\n",
       "      <td>1892</td>\n",
       "      <td>1850</td>\n",
       "      <td>1590</td>\n",
       "      <td>1831</td>\n",
       "      <td>1879</td>\n",
       "      <td>1924</td>\n",
       "      <td>1410</td>\n",
       "      <td>1278</td>\n",
       "      <td>...</td>\n",
       "      <td>6551</td>\n",
       "      <td>10122</td>\n",
       "      <td>8061</td>\n",
       "      <td>7994</td>\n",
       "      <td>7646</td>\n",
       "      <td>7754</td>\n",
       "      <td>7430</td>\n",
       "      <td>5695</td>\n",
       "      <td>6876</td>\n",
       "      <td>6361</td>\n",
       "    </tr>\n",
       "    <tr>\n",
       "      <th>Puducherry</th>\n",
       "      <td>0</td>\n",
       "      <td>63</td>\n",
       "      <td>22</td>\n",
       "      <td>80</td>\n",
       "      <td>42</td>\n",
       "      <td>65</td>\n",
       "      <td>30</td>\n",
       "      <td>110</td>\n",
       "      <td>49</td>\n",
       "      <td>72</td>\n",
       "      <td>...</td>\n",
       "      <td>747</td>\n",
       "      <td>1021</td>\n",
       "      <td>1258</td>\n",
       "      <td>1122</td>\n",
       "      <td>1195</td>\n",
       "      <td>1379</td>\n",
       "      <td>1360</td>\n",
       "      <td>799</td>\n",
       "      <td>1138</td>\n",
       "      <td>1819</td>\n",
       "    </tr>\n",
       "    <tr>\n",
       "      <th>Meghalaya</th>\n",
       "      <td>0</td>\n",
       "      <td>3</td>\n",
       "      <td>4</td>\n",
       "      <td>8</td>\n",
       "      <td>2</td>\n",
       "      <td>16</td>\n",
       "      <td>6</td>\n",
       "      <td>6</td>\n",
       "      <td>13</td>\n",
       "      <td>73</td>\n",
       "      <td>...</td>\n",
       "      <td>130</td>\n",
       "      <td>147</td>\n",
       "      <td>159</td>\n",
       "      <td>187</td>\n",
       "      <td>229</td>\n",
       "      <td>262</td>\n",
       "      <td>321</td>\n",
       "      <td>246</td>\n",
       "      <td>339</td>\n",
       "      <td>269</td>\n",
       "    </tr>\n",
       "  </tbody>\n",
       "</table>\n",
       "<p>5 rows × 309 columns</p>\n",
       "</div>"
      ],
      "text/plain": [
       "states      2020-07-01  2020-07-02  2020-07-03  2020-07-04  2020-07-05  \\\n",
       "state                                                                    \n",
       "Delhi                0        2373        2520        2505        2244   \n",
       "Odisha               0         229         561         495         469   \n",
       "Telangana            0        1213        1892        1850        1590   \n",
       "Puducherry           0          63          22          80          42   \n",
       "Meghalaya            0           3           4           8           2   \n",
       "\n",
       "states      2020-07-06  2020-07-07  2020-07-08  2020-07-09  2020-07-10  ...  \\\n",
       "state                                                                   ...   \n",
       "Delhi             1379        2008        2033        2187        2089  ...   \n",
       "Odisha             456         571         527         577         755  ...   \n",
       "Telangana         1831        1879        1924        1410        1278  ...   \n",
       "Puducherry          65          30         110          49          72  ...   \n",
       "Meghalaya           16           6           6          13          73  ...   \n",
       "\n",
       "states      2021-04-26  2021-04-27  2021-04-28  2021-04-29  2021-04-30  \\\n",
       "state                                                                    \n",
       "Delhi            20201       24149       25986       24235       27047   \n",
       "Odisha            6599        6073        8386        6998        8681   \n",
       "Telangana         6551       10122        8061        7994        7646   \n",
       "Puducherry         747        1021        1258        1122        1195   \n",
       "Meghalaya          130         147         159         187         229   \n",
       "\n",
       "states      2021-05-01  2021-05-02  2021-05-03  2021-05-04  2021-05-05  \n",
       "state                                                                   \n",
       "Delhi            25219       20394       18043       19953       20960  \n",
       "Odisha           10413        8015        8914        8216        9889  \n",
       "Telangana         7754        7430        5695        6876        6361  \n",
       "Puducherry        1379        1360         799        1138        1819  \n",
       "Meghalaya          262         321         246         339         269  \n",
       "\n",
       "[5 rows x 309 columns]"
      ]
     },
     "execution_count": 18,
     "metadata": {},
     "output_type": "execute_result"
    }
   ],
   "source": [
    "#hide\n",
    "dft_ct_new_cases.head()"
   ]
  },
  {
   "cell_type": "code",
   "execution_count": 19,
   "id": "responsible-nightlife",
   "metadata": {
    "execution": {
     "iopub.execute_input": "2021-05-05T11:54:52.140159Z",
     "iopub.status.busy": "2021-05-05T11:54:52.127046Z",
     "iopub.status.idle": "2021-05-05T11:55:05.995555Z",
     "shell.execute_reply": "2021-05-05T11:55:05.994977Z"
    },
    "papermill": {
     "duration": 13.909641,
     "end_time": "2021-05-05T11:55:05.995765",
     "exception": false,
     "start_time": "2021-05-05T11:54:52.086124",
     "status": "completed"
    },
    "tags": []
   },
   "outputs": [
    {
     "data": {
      "image/png": "[encoded data removed]",
      "text/plain": [
       "<Figure size 1296x2016 with 11 Axes>"
      ]
     },
     "metadata": {
      "needs_background": "light"
     },
     "output_type": "display_data"
    }
   ],
   "source": [
    "#hide_input\n",
    "df = dft_ct_new_cases.copy()\n",
    "df.loc['Total'] = df.sum()\n",
    "n = 5\n",
    "ax = []\n",
    "fig = plt.figure(figsize = (18,28))\n",
    "gs = fig.add_gridspec(n+2, 5)\n",
    "# gs = fig.add_gridspec(2, 3)\n",
    "ax1 = fig.add_subplot(gs[0, :])\n",
    "ef = df.loc['Total'].rename_axis('date').reset_index()\n",
    "ef['date'] = ef['date'].astype('datetime64[ns]')\n",
    "ax1.bar(ef.date,ef.Total,alpha=0.3,color='#007acc')\n",
    "ax1.plot(ef.date,ef.Total , marker=\"o\", color='#007acc')\n",
    "ax1.xaxis.set_major_locator(mdates.WeekdayLocator())\n",
    "ax1.xaxis.set_major_formatter(mdates.DateFormatter('%b %d'))\n",
    "ax1.text(0.02, 0.5,'India daily case count', transform = ax1.transAxes, fontsize=25);\n",
    "ax1.spines['right'].set_visible(False)\n",
    "ax1.spines['top'].set_visible(False)\n",
    "\n",
    "ax2 = fig.add_subplot(gs[1,0])\n",
    "ef = df.loc['Maharashtra'].rename_axis('date').reset_index()\n",
    "ef['date'] = ef['date'].astype('datetime64[ns]')\n",
    "\n",
    "ax2.bar(ef.date, ef.Maharashtra,color = '#007acc',alpha=0.5)\n",
    "ax2.xaxis.set_major_locator(mdates.WeekdayLocator())\n",
    "ax2.xaxis.set_major_formatter(mdates.DateFormatter('%b %d'))\n",
    "ax2.set_xticks(ax2.get_xticks()[::3])\n",
    "maxyval = ef.Maharashtra.max()\n",
    "ax2.set_ylim([0,maxyval])\n",
    "ax2.text(0.05, 0.9,'Maharashtra', transform = ax2.transAxes, fontsize=20);\n",
    "ax2.spines['right'].set_visible(False)\n",
    "ax2.spines['top'].set_visible(False)\n",
    "\n",
    "\n",
    "ax3 = fig.add_subplot(gs[1,1])\n",
    "ef = df.loc['Tamil Nadu'].rename_axis('date').reset_index()\n",
    "ef['date'] = ef['date'].astype('datetime64[ns]')\n",
    "ax3.bar(ef.date, ef['Tamil Nadu'],color = '#007acc',alpha=0.5,)\n",
    "ax3.xaxis.set_major_locator(mdates.WeekdayLocator())\n",
    "ax3.xaxis.set_major_formatter(mdates.DateFormatter('%b %d'))\n",
    "ax3.set_xticks(ax3.get_xticks()[::3])\n",
    "ax3.text(0.05, 0.9,'Tamil Nadu', transform = ax3.transAxes, fontsize=20);\n",
    "ax3.spines['right'].set_visible(False)\n",
    "ax3.spines['top'].set_visible(False)\n",
    "\n",
    "ax5 = fig.add_subplot(gs[1,3])\n",
    "ef = df.loc['Telangana'].rename_axis('date').reset_index()\n",
    "ef['date'] = ef['date'].astype('datetime64[ns]')\n",
    "ax5.bar(ef.date, ef['Telangana'],color = '#007acc',alpha=0.5,)\n",
    "ax5.xaxis.set_major_locator(mdates.WeekdayLocator())\n",
    "ax5.xaxis.set_major_formatter(mdates.DateFormatter('%b %d'))\n",
    "ax5.set_xticks(ax5.get_xticks()[::3])\n",
    "ax5.text(0.05, 0.9,'Telangana', transform = ax5.transAxes, fontsize=20);\n",
    "ax5.spines['right'].set_visible(False)\n",
    "ax5.spines['top'].set_visible(False)\n",
    "\n",
    "ax6 = fig.add_subplot(gs[1,4])\n",
    "ef = df.loc['Andhra Pradesh'].rename_axis('date').reset_index()\n",
    "ef['date'] = ef['date'].astype('datetime64[ns]')\n",
    "ax6.bar(ef.date, ef['Andhra Pradesh'],color = '#007acc',alpha=0.5,)\n",
    "ax6.xaxis.set_major_locator(mdates.WeekdayLocator())\n",
    "ax6.xaxis.set_major_formatter(mdates.DateFormatter('%b %d'))\n",
    "ax6.set_xticks(ax6.get_xticks()[::3])\n",
    "ax6.text(0.05, 1,'Andhra Pradesh', transform = ax6.transAxes, fontsize=20);\n",
    "ax6.spines['right'].set_visible(False)\n",
    "ax6.spines['top'].set_visible(False)\n",
    "\n",
    "ax4 = fig.add_subplot(gs[1,2])\n",
    "ef = df.loc['Delhi'].rename_axis('date').reset_index()\n",
    "ef['date'] = ef['date'].astype('datetime64[ns]')\n",
    "ax4.bar(ef.date, ef.Delhi,color = '#007acc',alpha=0.5)\n",
    "ax4.set_xticks([])\n",
    "ax4.xaxis.set_major_locator(mdates.WeekdayLocator())\n",
    "ax4.xaxis.set_major_formatter(mdates.DateFormatter('%b %d'))\n",
    "ax4.set_xticks(ax4.get_xticks()[::3])\n",
    "ax4.spines['right'].set_visible(False)\n",
    "ax4.spines['top'].set_visible(False)\n",
    "\n",
    "ax4.text(0.05, 1,'Delhi', transform = ax4.transAxes, fontsize=20)\n",
    "\n",
    "for i in range(n):\n",
    "    \n",
    "    ax.append(fig.add_subplot(gs[i+2,:]))\n",
    "    ef = df.iloc[i+3].rename_axis('date').reset_index()\n",
    "    ef['date'] = ef['date'].astype('datetime64[ns]')\n",
    "    ax[i].bar(ef.date,ef.iloc[:,-1],color = '#007acc',alpha=0.3)\n",
    "    ax[i].plot(ef.date,ef.iloc[:,-1],marker='o',color='#007acc')\n",
    "    ax[i].text(0.02,0.5,f'{ef.columns.values[-1]}',transform = ax[i].transAxes, fontsize = 20);\n",
    "    ax[i].xaxis.set_major_locator(mdates.WeekdayLocator())\n",
    "    ax[i].xaxis.set_major_formatter(mdates.DateFormatter('%b %d'))\n",
    "    ax[i].set_ylim([0,7000])\n",
    "    ax[i].spines['right'].set_visible(False)\n",
    "    ax[i].spines['top'].set_visible(False)\n",
    "plt.tight_layout()\n"
   ]
  },
  {
   "cell_type": "code",
   "execution_count": 20,
   "id": "dress-forge",
   "metadata": {
    "execution": {
     "iopub.execute_input": "2021-05-05T11:55:06.060926Z",
     "iopub.status.busy": "2021-05-05T11:55:06.060240Z",
     "iopub.status.idle": "2021-05-05T11:55:06.062703Z",
     "shell.execute_reply": "2021-05-05T11:55:06.063244Z"
    },
    "papermill": {
     "duration": 0.041111,
     "end_time": "2021-05-05T11:55:06.063396",
     "exception": false,
     "start_time": "2021-05-05T11:55:06.022285",
     "status": "completed"
    },
    "tags": []
   },
   "outputs": [
    {
     "name": "stdout",
     "output_type": "stream",
     "text": [
      "                                   states    Cases  Deaths   PCases  PDeaths  Cases (+)  Deaths (+)  Fatality Rate\n",
      "                              Maharashtra  4822902   71742  4822902    71742          0           0           1.49\n",
      "                                   Kerala  1701980    5508  1701980     5508          0           0           0.32\n",
      "                                Karnataka  1690934   16538  1690934    16538          0           0           0.98\n",
      "                            Uttar Pradesh  1368183   13798  1368183    13798          0           0           1.01\n",
      "                                    Delhi  1253902   18063  1232942    17752      20960         311           1.44\n",
      "                               Tamil Nadu  1249292   14612  1249292    14612          0           0           1.17\n",
      "                           Andhra Pradesh  1184028    8289  1184028     8289          0           0           0.70\n",
      "                              West Bengal   898533   11744   898533    11744          0           0           1.31\n",
      "                             Chhattisgarh   787486    9485   787486     9485          0           0           1.20\n",
      "                                Rajasthan   668221    4866   668221     4866          0           0           0.73\n",
      "                                  Gujarat   620472    7779   620472     7779          0           0           1.25\n",
      "                           Madhya Pradesh   612666    6003   612666     6003          0           0           0.98\n",
      "                                  Haryana   543559    4779   543559     4779          0           0           0.88\n",
      "                                    Bihar   523841    2926   523841     2926          0           0           0.56\n",
      "                                   Odisha   489641    2157   479752     2141       9889          16           0.44\n",
      "                                Telangana   469722    2527   463361     2476       6361          51           0.54\n",
      "                                   Punjab   399556    9645   399556     9645          0           0           2.41\n",
      "                                    Assam   267925    1430   267925     1430          0           0           0.53\n",
      "                                Jharkhand   257345    3205   257345     3205          0           0           1.25\n",
      "                              Uttarakhand   204051    3015   204051     3015          0           0           1.48\n",
      "                        Jammu and Kashmir   191869    2458   191869     2458          0           0           1.28\n",
      "                         Himachal Pradesh   110945    1647   110945     1647          0           0           1.48\n",
      "                                      Goa   100902    1372   100902     1372          0           0           1.36\n",
      "                               Puducherry    65117     883    63298      865       1819          18           1.36\n",
      "                               Chandigarh    45976     518    45976      518          0           0           1.13\n",
      "                                  Tripura    36231     397    35991      397        240           0           1.10\n",
      "                                  Manipur    32956     424    32956      424          0           0           1.29\n",
      "                        Arunachal Pradesh    19193      59    19193       59          0           0           0.31\n",
      "                                Meghalaya    18283     191    18014      185        269           6           1.04\n",
      "                                 Nagaland    14717     115    14717      115          0           0           0.78\n",
      "                                   Ladakh    14560     151    14560      151          0           0           1.04\n",
      "                                   Sikkim     8698     151     8698      151          0           0           1.74\n",
      " Dadra and Nagar Haveli and Daman and Diu     8345       4     8345        4          0           0           0.05\n",
      "                                  Mizoram     6794      17     6556       17        238           0           0.25\n",
      "              Andaman and Nicobar Islands     6181      70     6181       70          0           0           1.13\n",
      "                              Lakshadweep     3249       6     3249        6          0           0           0.18\n"
     ]
    }
   ],
   "source": [
    "#hide_input\n",
    "print(df_table.to_string(index=False))"
   ]
  },
  {
   "cell_type": "code",
   "execution_count": null,
   "id": "quantitative-legend",
   "metadata": {
    "papermill": {
     "duration": 0.027069,
     "end_time": "2021-05-05T11:55:06.117460",
     "exception": false,
     "start_time": "2021-05-05T11:55:06.090391",
     "status": "completed"
    },
    "tags": []
   },
   "outputs": [],
   "source": []
  },
  {
   "cell_type": "code",
   "execution_count": null,
   "id": "distant-acoustic",
   "metadata": {
    "papermill": {
     "duration": 0.027648,
     "end_time": "2021-05-05T11:55:06.172686",
     "exception": false,
     "start_time": "2021-05-05T11:55:06.145038",
     "status": "completed"
    },
    "tags": []
   },
   "outputs": [],
   "source": []
  }
 ],
 "metadata": {
  "kernelspec": {
   "display_name": "Python 3",
   "language": "python",
   "name": "python3"
  },
  "language_info": {
   "codemirror_mode": {
    "name": "ipython",
    "version": 3
   },
   "file_extension": ".py",
   "mimetype": "text/x-python",
   "name": "python",
   "nbconvert_exporter": "python",
   "pygments_lexer": "ipython3",
   "version": "3.6.13"
  },
  "papermill": {
   "duration": 30.336478,
   "end_time": "2021-05-05T11:55:07.559463",
   "environment_variables": {},
   "exception": null,
   "input_path": "latest.ipynb",
   "output_path": "latest.ipynb",
   "parameters": {},
   "start_time": "2021-05-05T11:54:37.222985",
   "version": "2.1.2"
  }
 },
 "nbformat": 4,
 "nbformat_minor": 5
}