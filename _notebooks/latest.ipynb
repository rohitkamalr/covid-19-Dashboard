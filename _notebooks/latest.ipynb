{
 "cells": [
  {
   "cell_type": "markdown",
   "metadata": {
    "papermill": {
     "duration": 0.021443,
     "end_time": "2020-10-30T10:37:20.775500",
     "exception": false,
     "start_time": "2020-10-30T10:37:20.754057",
     "status": "completed"
    },
    "tags": []
   },
   "source": [
    "# Latest COVID-19 India Matplotlib Overview"
   ]
  },
  {
   "cell_type": "code",
   "execution_count": 1,
   "metadata": {
    "execution": {
     "iopub.execute_input": "2020-10-30T10:37:20.818709Z",
     "iopub.status.busy": "2020-10-30T10:37:20.818041Z",
     "iopub.status.idle": "2020-10-30T10:37:21.469669Z",
     "shell.execute_reply": "2020-10-30T10:37:21.470220Z"
    },
    "papermill": {
     "duration": 0.676599,
     "end_time": "2020-10-30T10:37:21.470419",
     "exception": false,
     "start_time": "2020-10-30T10:37:20.793820",
     "status": "completed"
    },
    "tags": []
   },
   "outputs": [],
   "source": [
    "#hide\n",
    "import pandas as pd\n",
    "import numpy as np\n",
    "import requests\n",
    "import json\n",
    "import matplotlib.pyplot as plt\n",
    "import matplotlib.dates as mdates\n",
    "import matplotlib as mpl\n",
    "from IPython.core.display import display,HTML\n",
    "%matplotlib inline\n",
    "from datetime import date"
   ]
  },
  {
   "cell_type": "code",
   "execution_count": 2,
   "metadata": {
    "execution": {
     "iopub.execute_input": "2020-10-30T10:37:21.513829Z",
     "iopub.status.busy": "2020-10-30T10:37:21.513102Z",
     "iopub.status.idle": "2020-10-30T10:37:21.646645Z",
     "shell.execute_reply": "2020-10-30T10:37:21.647218Z"
    },
    "papermill": {
     "duration": 0.159703,
     "end_time": "2020-10-30T10:37:21.647395",
     "exception": false,
     "start_time": "2020-10-30T10:37:21.487692",
     "status": "completed"
    },
    "tags": []
   },
   "outputs": [],
   "source": [
    "#hide\n",
    "df  = pd.read_csv('https://api.covid19india.org/csv/latest/states.csv')\n",
    "df = df[['Date','State','Confirmed','Deceased']]\n",
    "df = df.rename(columns={'Confirmed':'Cases', \"Deceased\":'Deaths'})\n",
    "df_cases = df[[\"Date\",'State','Cases']]\n",
    "df_deaths = df[['Date','State','Deaths']]\n",
    "df_cases1 = df_cases.groupby('Date')\n",
    "df_deaths1= df_deaths.groupby('Date')"
   ]
  },
  {
   "cell_type": "code",
   "execution_count": 3,
   "metadata": {
    "execution": {
     "iopub.execute_input": "2020-10-30T10:37:21.687955Z",
     "iopub.status.busy": "2020-10-30T10:37:21.687273Z",
     "iopub.status.idle": "2020-10-30T10:37:21.708374Z",
     "shell.execute_reply": "2020-10-30T10:37:21.707796Z"
    },
    "papermill": {
     "duration": 0.043258,
     "end_time": "2020-10-30T10:37:21.708532",
     "exception": false,
     "start_time": "2020-10-30T10:37:21.665274",
     "status": "completed"
    },
    "tags": []
   },
   "outputs": [],
   "source": [
    "#hide\n",
    "df_snap = pd.read_csv('data/SnapshotCases-28-July.csv')\n",
    "arr_states = df_snap['states'].unique()\n",
    "arr_dates = df['Date'].unique()\n",
    "df_snap = df_snap.set_index('states')"
   ]
  },
  {
   "cell_type": "code",
   "execution_count": 4,
   "metadata": {
    "execution": {
     "iopub.execute_input": "2020-10-30T10:37:21.750833Z",
     "iopub.status.busy": "2020-10-30T10:37:21.750142Z",
     "iopub.status.idle": "2020-10-30T10:37:21.753635Z",
     "shell.execute_reply": "2020-10-30T10:37:21.753019Z"
    },
    "papermill": {
     "duration": 0.027943,
     "end_time": "2020-10-30T10:37:21.753777",
     "exception": false,
     "start_time": "2020-10-30T10:37:21.725834",
     "status": "completed"
    },
    "tags": []
   },
   "outputs": [
    {
     "data": {
      "text/plain": [
       "array(['Andaman and Nicobar Islands', 'Andhra Pradesh',\n",
       "       'Arunachal Pradesh', 'Assam', 'Bihar', 'Chandigarh',\n",
       "       'Dadra and Nagar Haveli and Daman and Diu', 'Delhi', 'Goa',\n",
       "       'Gujarat', 'Haryana', 'Himachal Pradesh', 'Jammu and Kashmir',\n",
       "       'Jharkhand', 'Karnataka', 'Kerala', 'Lakshadweep',\n",
       "       'Madhya Pradesh', 'Maharashtra', 'Manipur', 'Meghalaya', 'Mizoram',\n",
       "       'Nagaland', 'Odisha', 'Puducherry', 'Punjab', 'Rajasthan',\n",
       "       'Sikkim', 'Tamil Nadu', 'Telangana', 'Tripura', 'Uttar Pradesh',\n",
       "       'West Bengal', 'Chhattisgarh', 'Ladakh', 'Uttarakhand'],\n",
       "      dtype=object)"
      ]
     },
     "execution_count": 4,
     "metadata": {},
     "output_type": "execute_result"
    }
   ],
   "source": [
    "#hide\n",
    "arr_states[-9] = 'Puducherry'\n",
    "arr_states[-10] = 'Odisha'\n",
    "arr_states[6] = 'Dadra and Nagar Haveli and Daman and Diu'\n",
    "arr_states = np.append(arr_states,np.array(['Chhattisgarh','Ladakh','Uttarakhand']))\n",
    "arr_states"
   ]
  },
  {
   "cell_type": "code",
   "execution_count": 5,
   "metadata": {
    "execution": {
     "iopub.execute_input": "2020-10-30T10:37:21.801249Z",
     "iopub.status.busy": "2020-10-30T10:37:21.800549Z",
     "iopub.status.idle": "2020-10-30T10:37:21.809327Z",
     "shell.execute_reply": "2020-10-30T10:37:21.808768Z"
    },
    "papermill": {
     "duration": 0.03761,
     "end_time": "2020-10-30T10:37:21.809554",
     "exception": false,
     "start_time": "2020-10-30T10:37:21.771944",
     "status": "completed"
    },
    "tags": []
   },
   "outputs": [],
   "source": [
    "#hide\n",
    "dates = []\n",
    "for i in arr_dates:\n",
    "    if i>='2020-07-01':\n",
    "        dates.append(i)\n",
    "dict = {'states':dates}\n",
    "for i in arr_states:\n",
    "    dict[i] = [0]*len(dates)\n",
    "dft_cases = pd.DataFrame(dict)\n",
    "dft_deaths = pd.DataFrame(dict)\n"
   ]
  },
  {
   "cell_type": "code",
   "execution_count": 6,
   "metadata": {
    "execution": {
     "iopub.execute_input": "2020-10-30T10:37:21.851300Z",
     "iopub.status.busy": "2020-10-30T10:37:21.850610Z",
     "iopub.status.idle": "2020-10-30T10:37:24.154194Z",
     "shell.execute_reply": "2020-10-30T10:37:24.154731Z"
    },
    "papermill": {
     "duration": 2.327425,
     "end_time": "2020-10-30T10:37:24.154906",
     "exception": false,
     "start_time": "2020-10-30T10:37:21.827481",
     "status": "completed"
    },
    "tags": []
   },
   "outputs": [],
   "source": [
    "#hide\n",
    "for i in range(len(dates)):\n",
    "    df1_deaths = df_deaths1.get_group(dates[i])\n",
    "    for j in range(len(df1_deaths.index)):\n",
    "        if df1_deaths.iloc[j,1] in arr_states:\n",
    "            dft_deaths.loc[i,df1_deaths.iloc[j,1]] = df1_deaths.iloc[j,2]\n",
    "dft_deaths = dft_deaths.set_index('states')"
   ]
  },
  {
   "cell_type": "code",
   "execution_count": 7,
   "metadata": {
    "execution": {
     "iopub.execute_input": "2020-10-30T10:37:24.205448Z",
     "iopub.status.busy": "2020-10-30T10:37:24.204700Z",
     "iopub.status.idle": "2020-10-30T10:37:26.491452Z",
     "shell.execute_reply": "2020-10-30T10:37:26.490392Z"
    },
    "papermill": {
     "duration": 2.310418,
     "end_time": "2020-10-30T10:37:26.491655",
     "exception": false,
     "start_time": "2020-10-30T10:37:24.181237",
     "status": "completed"
    },
    "tags": []
   },
   "outputs": [],
   "source": [
    "#hide\n",
    "for i in range(len(dates)):\n",
    "    df1_cases = df_cases1.get_group(dates[i])\n",
    "    for j in range(len(df1_cases.index)):\n",
    "        if df1_cases.iloc[j,1] in arr_states:\n",
    "            dft_cases.loc[i,df1_cases.iloc[j,1]] = df1_cases.iloc[j,2]\n",
    "dft_cases = dft_cases.set_index('states')"
   ]
  },
  {
   "cell_type": "code",
   "execution_count": 8,
   "metadata": {
    "execution": {
     "iopub.execute_input": "2020-10-30T10:37:26.627281Z",
     "iopub.status.busy": "2020-10-30T10:37:26.626591Z",
     "iopub.status.idle": "2020-10-30T10:37:26.629553Z",
     "shell.execute_reply": "2020-10-30T10:37:26.628856Z"
    },
    "papermill": {
     "duration": 0.119374,
     "end_time": "2020-10-30T10:37:26.629692",
     "exception": false,
     "start_time": "2020-10-30T10:37:26.510318",
     "status": "completed"
    },
    "tags": []
   },
   "outputs": [],
   "source": [
    "#hide\n",
    "dft_cases = dft_cases.T\n",
    "dft_deaths = dft_deaths.T\n",
    "dt_today = dates[-1]\n",
    "dt_yday = dates[-2]"
   ]
  },
  {
   "cell_type": "code",
   "execution_count": 9,
   "metadata": {
    "execution": {
     "iopub.execute_input": "2020-10-30T10:37:27.016905Z",
     "iopub.status.busy": "2020-10-30T10:37:27.016139Z",
     "iopub.status.idle": "2020-10-30T10:37:27.021063Z",
     "shell.execute_reply": "2020-10-30T10:37:27.021694Z"
    },
    "papermill": {
     "duration": 0.054223,
     "end_time": "2020-10-30T10:37:27.021875",
     "exception": false,
     "start_time": "2020-10-30T10:37:26.967652",
     "status": "completed"
    },
    "tags": []
   },
   "outputs": [],
   "source": [
    "#hide\n",
    "dft_cases = dft_cases.reset_index()\n",
    "dft_deaths = dft_deaths.reset_index()\n",
    "dft_cases = dft_cases.rename(columns = {'index':'state'})\n",
    "dft_deaths = dft_deaths.rename(columns = {'index':'state'})"
   ]
  },
  {
   "cell_type": "code",
   "execution_count": 10,
   "metadata": {
    "execution": {
     "iopub.execute_input": "2020-10-30T10:37:27.072381Z",
     "iopub.status.busy": "2020-10-30T10:37:27.071594Z",
     "iopub.status.idle": "2020-10-30T10:37:27.074364Z",
     "shell.execute_reply": "2020-10-30T10:37:27.073771Z"
    },
    "papermill": {
     "duration": 0.033511,
     "end_time": "2020-10-30T10:37:27.074513",
     "exception": false,
     "start_time": "2020-10-30T10:37:27.041002",
     "status": "completed"
    },
    "tags": []
   },
   "outputs": [],
   "source": [
    "#hide\n",
    "dfc_cases = dft_cases.groupby('state')[dt_today].sum()\n",
    "dfc_deaths = dft_deaths.groupby('state')[dt_today].sum()\n",
    "dfp_cases = dft_cases.groupby('state')[dt_yday].sum()\n",
    "dfp_deaths = dft_deaths.groupby('state')[dt_yday].sum()"
   ]
  },
  {
   "cell_type": "code",
   "execution_count": 11,
   "metadata": {
    "execution": {
     "iopub.execute_input": "2020-10-30T10:37:27.120909Z",
     "iopub.status.busy": "2020-10-30T10:37:27.120228Z",
     "iopub.status.idle": "2020-10-30T10:37:27.133059Z",
     "shell.execute_reply": "2020-10-30T10:37:27.132483Z"
    },
    "papermill": {
     "duration": 0.040777,
     "end_time": "2020-10-30T10:37:27.133204",
     "exception": false,
     "start_time": "2020-10-30T10:37:27.092427",
     "status": "completed"
    },
    "tags": []
   },
   "outputs": [
    {
     "data": {
      "text/html": [
       "<div>\n",
       "<style scoped>\n",
       "    .dataframe tbody tr th:only-of-type {\n",
       "        vertical-align: middle;\n",
       "    }\n",
       "\n",
       "    .dataframe tbody tr th {\n",
       "        vertical-align: top;\n",
       "    }\n",
       "\n",
       "    .dataframe thead th {\n",
       "        text-align: right;\n",
       "    }\n",
       "</style>\n",
       "<table border=\"1\" class=\"dataframe\">\n",
       "  <thead>\n",
       "    <tr style=\"text-align: right;\">\n",
       "      <th></th>\n",
       "      <th>states</th>\n",
       "      <th>Cases</th>\n",
       "      <th>Deaths</th>\n",
       "      <th>PCases</th>\n",
       "      <th>PDeaths</th>\n",
       "    </tr>\n",
       "  </thead>\n",
       "  <tbody>\n",
       "    <tr>\n",
       "      <th>0</th>\n",
       "      <td>Maharashtra</td>\n",
       "      <td>1666668</td>\n",
       "      <td>43710</td>\n",
       "      <td>1666668</td>\n",
       "      <td>43710</td>\n",
       "    </tr>\n",
       "    <tr>\n",
       "      <th>1</th>\n",
       "      <td>Andhra Pradesh</td>\n",
       "      <td>817679</td>\n",
       "      <td>6659</td>\n",
       "      <td>817679</td>\n",
       "      <td>6659</td>\n",
       "    </tr>\n",
       "    <tr>\n",
       "      <th>2</th>\n",
       "      <td>Karnataka</td>\n",
       "      <td>816809</td>\n",
       "      <td>11091</td>\n",
       "      <td>816809</td>\n",
       "      <td>11091</td>\n",
       "    </tr>\n",
       "    <tr>\n",
       "      <th>3</th>\n",
       "      <td>Tamil Nadu</td>\n",
       "      <td>719403</td>\n",
       "      <td>11053</td>\n",
       "      <td>719403</td>\n",
       "      <td>11053</td>\n",
       "    </tr>\n",
       "    <tr>\n",
       "      <th>4</th>\n",
       "      <td>Uttar Pradesh</td>\n",
       "      <td>477895</td>\n",
       "      <td>6983</td>\n",
       "      <td>477895</td>\n",
       "      <td>6983</td>\n",
       "    </tr>\n",
       "  </tbody>\n",
       "</table>\n",
       "</div>"
      ],
      "text/plain": [
       "           states    Cases  Deaths   PCases  PDeaths\n",
       "0     Maharashtra  1666668   43710  1666668    43710\n",
       "1  Andhra Pradesh   817679    6659   817679     6659\n",
       "2       Karnataka   816809   11091   816809    11091\n",
       "3      Tamil Nadu   719403   11053   719403    11053\n",
       "4   Uttar Pradesh   477895    6983   477895     6983"
      ]
     },
     "execution_count": 11,
     "metadata": {},
     "output_type": "execute_result"
    }
   ],
   "source": [
    "#hide\n",
    "df_table = pd.DataFrame({'states': dfc_cases.index, 'Cases': dfc_cases.values, 'Deaths': dfc_deaths.values, 'PCases': dfp_cases.values, 'PDeaths': dfp_deaths.values}).set_index('states')\n",
    "df_table = df_table.sort_values(by = ['Cases','Deaths'], ascending = [False, False])\n",
    "df_table = df_table.reset_index()\n",
    "df_table.head()"
   ]
  },
  {
   "cell_type": "code",
   "execution_count": 12,
   "metadata": {
    "execution": {
     "iopub.execute_input": "2020-10-30T10:37:27.174333Z",
     "iopub.status.busy": "2020-10-30T10:37:27.173666Z",
     "iopub.status.idle": "2020-10-30T10:37:27.183895Z",
     "shell.execute_reply": "2020-10-30T10:37:27.183311Z"
    },
    "papermill": {
     "duration": 0.032865,
     "end_time": "2020-10-30T10:37:27.184034",
     "exception": false,
     "start_time": "2020-10-30T10:37:27.151169",
     "status": "completed"
    },
    "tags": []
   },
   "outputs": [],
   "source": [
    "#hide\n",
    "for c in 'Cases, Deaths'.split(', '):\n",
    "    df_table[f'{c} (+)'] = (df_table[c] - df_table[f'P{c}']).clip(0)\n",
    "df_table['Fatality Rate'] = (100* df_table['Deaths']/ df_table['Cases']).round(2)"
   ]
  },
  {
   "cell_type": "code",
   "execution_count": 13,
   "metadata": {
    "execution": {
     "iopub.execute_input": "2020-10-30T10:37:27.232885Z",
     "iopub.status.busy": "2020-10-30T10:37:27.232199Z",
     "iopub.status.idle": "2020-10-30T10:37:27.235086Z",
     "shell.execute_reply": "2020-10-30T10:37:27.235646Z"
    },
    "papermill": {
     "duration": 0.033733,
     "end_time": "2020-10-30T10:37:27.235813",
     "exception": false,
     "start_time": "2020-10-30T10:37:27.202080",
     "status": "completed"
    },
    "tags": []
   },
   "outputs": [
    {
     "data": {
      "text/html": [
       "<div>\n",
       "<style scoped>\n",
       "    .dataframe tbody tr th:only-of-type {\n",
       "        vertical-align: middle;\n",
       "    }\n",
       "\n",
       "    .dataframe tbody tr th {\n",
       "        vertical-align: top;\n",
       "    }\n",
       "\n",
       "    .dataframe thead th {\n",
       "        text-align: right;\n",
       "    }\n",
       "</style>\n",
       "<table border=\"1\" class=\"dataframe\">\n",
       "  <thead>\n",
       "    <tr style=\"text-align: right;\">\n",
       "      <th></th>\n",
       "      <th>states</th>\n",
       "      <th>Cases</th>\n",
       "      <th>Deaths</th>\n",
       "      <th>PCases</th>\n",
       "      <th>PDeaths</th>\n",
       "      <th>Cases (+)</th>\n",
       "      <th>Deaths (+)</th>\n",
       "      <th>Fatality Rate</th>\n",
       "    </tr>\n",
       "  </thead>\n",
       "  <tbody>\n",
       "    <tr>\n",
       "      <th>0</th>\n",
       "      <td>Maharashtra</td>\n",
       "      <td>1666668</td>\n",
       "      <td>43710</td>\n",
       "      <td>1666668</td>\n",
       "      <td>43710</td>\n",
       "      <td>0</td>\n",
       "      <td>0</td>\n",
       "      <td>2.62</td>\n",
       "    </tr>\n",
       "    <tr>\n",
       "      <th>1</th>\n",
       "      <td>Andhra Pradesh</td>\n",
       "      <td>817679</td>\n",
       "      <td>6659</td>\n",
       "      <td>817679</td>\n",
       "      <td>6659</td>\n",
       "      <td>0</td>\n",
       "      <td>0</td>\n",
       "      <td>0.81</td>\n",
       "    </tr>\n",
       "    <tr>\n",
       "      <th>2</th>\n",
       "      <td>Karnataka</td>\n",
       "      <td>816809</td>\n",
       "      <td>11091</td>\n",
       "      <td>816809</td>\n",
       "      <td>11091</td>\n",
       "      <td>0</td>\n",
       "      <td>0</td>\n",
       "      <td>1.36</td>\n",
       "    </tr>\n",
       "    <tr>\n",
       "      <th>3</th>\n",
       "      <td>Tamil Nadu</td>\n",
       "      <td>719403</td>\n",
       "      <td>11053</td>\n",
       "      <td>719403</td>\n",
       "      <td>11053</td>\n",
       "      <td>0</td>\n",
       "      <td>0</td>\n",
       "      <td>1.54</td>\n",
       "    </tr>\n",
       "    <tr>\n",
       "      <th>4</th>\n",
       "      <td>Uttar Pradesh</td>\n",
       "      <td>477895</td>\n",
       "      <td>6983</td>\n",
       "      <td>477895</td>\n",
       "      <td>6983</td>\n",
       "      <td>0</td>\n",
       "      <td>0</td>\n",
       "      <td>1.46</td>\n",
       "    </tr>\n",
       "  </tbody>\n",
       "</table>\n",
       "</div>"
      ],
      "text/plain": [
       "           states    Cases  Deaths   PCases  PDeaths  Cases (+)  Deaths (+)  \\\n",
       "0     Maharashtra  1666668   43710  1666668    43710          0           0   \n",
       "1  Andhra Pradesh   817679    6659   817679     6659          0           0   \n",
       "2       Karnataka   816809   11091   816809    11091          0           0   \n",
       "3      Tamil Nadu   719403   11053   719403    11053          0           0   \n",
       "4   Uttar Pradesh   477895    6983   477895     6983          0           0   \n",
       "\n",
       "   Fatality Rate  \n",
       "0           2.62  \n",
       "1           0.81  \n",
       "2           1.36  \n",
       "3           1.54  \n",
       "4           1.46  "
      ]
     },
     "execution_count": 13,
     "metadata": {},
     "output_type": "execute_result"
    }
   ],
   "source": [
    "#hide\n",
    "df_table.head()"
   ]
  },
  {
   "cell_type": "code",
   "execution_count": 14,
   "metadata": {
    "execution": {
     "iopub.execute_input": "2020-10-30T10:37:27.278259Z",
     "iopub.status.busy": "2020-10-30T10:37:27.277585Z",
     "iopub.status.idle": "2020-10-30T10:37:27.300257Z",
     "shell.execute_reply": "2020-10-30T10:37:27.300777Z"
    },
    "papermill": {
     "duration": 0.046752,
     "end_time": "2020-10-30T10:37:27.300940",
     "exception": false,
     "start_time": "2020-10-30T10:37:27.254188",
     "status": "completed"
    },
    "tags": []
   },
   "outputs": [
    {
     "data": {
      "text/plain": [
       "{'updated': '2020-10-30',\n",
       " 'since': '2020-10-29',\n",
       " 'Cases': 8089593,\n",
       " 'PCases': 8088046,\n",
       " 'Deaths': 121144,\n",
       " 'PDeaths': 121131,\n",
       " 'Cases (+)': 1547,\n",
       " 'Deaths (+)': 13}"
      ]
     },
     "execution_count": 14,
     "metadata": {},
     "output_type": "execute_result"
    }
   ],
   "source": [
    "#hide\n",
    "summary = {'updated':dates[-1], 'since':dates[-2]}\n",
    "list_names = ['Cases', 'PCases', 'Deaths', 'PDeaths', 'Cases (+)', 'Deaths (+)']\n",
    "for name in list_names:\n",
    "    summary[name] = df_table.sum()[name]\n",
    "summary"
   ]
  },
  {
   "cell_type": "code",
   "execution_count": 15,
   "metadata": {
    "execution": {
     "iopub.execute_input": "2020-10-30T10:37:27.346154Z",
     "iopub.status.busy": "2020-10-30T10:37:27.345383Z",
     "iopub.status.idle": "2020-10-30T10:37:27.347203Z",
     "shell.execute_reply": "2020-10-30T10:37:27.347757Z"
    },
    "papermill": {
     "duration": 0.027525,
     "end_time": "2020-10-30T10:37:27.347918",
     "exception": false,
     "start_time": "2020-10-30T10:37:27.320393",
     "status": "completed"
    },
    "tags": []
   },
   "outputs": [],
   "source": [
    "#hide\n",
    "overview = '''\n",
    "<!-- #######  HTML!! #########-->\n",
    "<h1 style=\"color: #5e9ca0; text-align: center;\">India</h1>\n",
    "<p style=\"text-align: center;\">Last update: <strong>{update}</strong></p>\n",
    "<p style=\"text-align: center;\">Confirmed cases:</p>\n",
    "<p style=\"text-align: center;font-size:24px;\">{cases} (<span style=\"color: #ff0000;\">+{new}</span>)</p>\n",
    "<p style=\"text-align: center;\">Confirmed deaths:</p>\n",
    "<p style=\"text-align: center;font-size:24px;\">{deaths} (<span style=\"color: #ff0000;\">+{dnew}</span>)</p>\n",
    "'''"
   ]
  },
  {
   "cell_type": "code",
   "execution_count": 16,
   "metadata": {
    "execution": {
     "iopub.execute_input": "2020-10-30T10:37:27.393852Z",
     "iopub.status.busy": "2020-10-30T10:37:27.393112Z",
     "iopub.status.idle": "2020-10-30T10:37:27.396863Z",
     "shell.execute_reply": "2020-10-30T10:37:27.396314Z"
    },
    "papermill": {
     "duration": 0.028943,
     "end_time": "2020-10-30T10:37:27.396990",
     "exception": false,
     "start_time": "2020-10-30T10:37:27.368047",
     "status": "completed"
    },
    "tags": []
   },
   "outputs": [
    {
     "data": {
      "text/html": [
       "\n",
       "<!-- #######  HTML!! #########-->\n",
       "<h1 style=\"color: #5e9ca0; text-align: center;\">India</h1>\n",
       "<p style=\"text-align: center;\">Last update: <strong>2020-10-30</strong></p>\n",
       "<p style=\"text-align: center;\">Confirmed cases:</p>\n",
       "<p style=\"text-align: center;font-size:24px;\">8089593 (<span style=\"color: #ff0000;\">+1547</span>)</p>\n",
       "<p style=\"text-align: center;\">Confirmed deaths:</p>\n",
       "<p style=\"text-align: center;font-size:24px;\">121144 (<span style=\"color: #ff0000;\">+13</span>)</p>\n"
      ],
      "text/plain": [
       "<IPython.core.display.HTML object>"
      ]
     },
     "metadata": {},
     "output_type": "display_data"
    }
   ],
   "source": [
    "#hide_input\n",
    "update = summary['updated']\n",
    "cases = summary['Cases']\n",
    "new = summary['Cases (+)']\n",
    "deaths = summary['Deaths']\n",
    "dnew = summary['Deaths (+)']\n",
    "\n",
    "html = HTML(overview.format(update=update, cases=cases,new=new,deaths=deaths,dnew=dnew))\n",
    "\n",
    "display(html)"
   ]
  },
  {
   "cell_type": "code",
   "execution_count": 17,
   "metadata": {
    "execution": {
     "iopub.execute_input": "2020-10-30T10:37:27.443896Z",
     "iopub.status.busy": "2020-10-30T10:37:27.443128Z",
     "iopub.status.idle": "2020-10-30T10:37:27.452440Z",
     "shell.execute_reply": "2020-10-30T10:37:27.451869Z"
    },
    "papermill": {
     "duration": 0.036561,
     "end_time": "2020-10-30T10:37:27.452590",
     "exception": false,
     "start_time": "2020-10-30T10:37:27.416029",
     "status": "completed"
    },
    "tags": []
   },
   "outputs": [],
   "source": [
    "#hide\n",
    "dt_cols = list(dft_cases.columns[1:])\n",
    "dft_ct_new_cases = dft_cases.groupby('state')[dt_cols].sum().diff(axis=1).fillna(0).astype(int)\n",
    "dft_ct_new_cases.sort_values(by = dates[-1], ascending = False,inplace = True)"
   ]
  },
  {
   "cell_type": "code",
   "execution_count": 18,
   "metadata": {
    "execution": {
     "iopub.execute_input": "2020-10-30T10:37:27.495711Z",
     "iopub.status.busy": "2020-10-30T10:37:27.494936Z",
     "iopub.status.idle": "2020-10-30T10:37:27.515404Z",
     "shell.execute_reply": "2020-10-30T10:37:27.515992Z"
    },
    "papermill": {
     "duration": 0.042889,
     "end_time": "2020-10-30T10:37:27.516138",
     "exception": false,
     "start_time": "2020-10-30T10:37:27.473249",
     "status": "completed"
    },
    "tags": []
   },
   "outputs": [
    {
     "data": {
      "text/html": [
       "<div>\n",
       "<style scoped>\n",
       "    .dataframe tbody tr th:only-of-type {\n",
       "        vertical-align: middle;\n",
       "    }\n",
       "\n",
       "    .dataframe tbody tr th {\n",
       "        vertical-align: top;\n",
       "    }\n",
       "\n",
       "    .dataframe thead th {\n",
       "        text-align: right;\n",
       "    }\n",
       "</style>\n",
       "<table border=\"1\" class=\"dataframe\">\n",
       "  <thead>\n",
       "    <tr style=\"text-align: right;\">\n",
       "      <th>states</th>\n",
       "      <th>2020-07-01</th>\n",
       "      <th>2020-07-02</th>\n",
       "      <th>2020-07-03</th>\n",
       "      <th>2020-07-04</th>\n",
       "      <th>2020-07-05</th>\n",
       "      <th>2020-07-06</th>\n",
       "      <th>2020-07-07</th>\n",
       "      <th>2020-07-08</th>\n",
       "      <th>2020-07-09</th>\n",
       "      <th>2020-07-10</th>\n",
       "      <th>...</th>\n",
       "      <th>2020-10-21</th>\n",
       "      <th>2020-10-22</th>\n",
       "      <th>2020-10-23</th>\n",
       "      <th>2020-10-24</th>\n",
       "      <th>2020-10-25</th>\n",
       "      <th>2020-10-26</th>\n",
       "      <th>2020-10-27</th>\n",
       "      <th>2020-10-28</th>\n",
       "      <th>2020-10-29</th>\n",
       "      <th>2020-10-30</th>\n",
       "    </tr>\n",
       "    <tr>\n",
       "      <th>state</th>\n",
       "      <th></th>\n",
       "      <th></th>\n",
       "      <th></th>\n",
       "      <th></th>\n",
       "      <th></th>\n",
       "      <th></th>\n",
       "      <th></th>\n",
       "      <th></th>\n",
       "      <th></th>\n",
       "      <th></th>\n",
       "      <th></th>\n",
       "      <th></th>\n",
       "      <th></th>\n",
       "      <th></th>\n",
       "      <th></th>\n",
       "      <th></th>\n",
       "      <th></th>\n",
       "      <th></th>\n",
       "      <th></th>\n",
       "      <th></th>\n",
       "      <th></th>\n",
       "    </tr>\n",
       "  </thead>\n",
       "  <tbody>\n",
       "    <tr>\n",
       "      <th>Odisha</th>\n",
       "      <td>0</td>\n",
       "      <td>229</td>\n",
       "      <td>561</td>\n",
       "      <td>495</td>\n",
       "      <td>469</td>\n",
       "      <td>456</td>\n",
       "      <td>571</td>\n",
       "      <td>527</td>\n",
       "      <td>577</td>\n",
       "      <td>755</td>\n",
       "      <td>...</td>\n",
       "      <td>1931</td>\n",
       "      <td>1913</td>\n",
       "      <td>1793</td>\n",
       "      <td>1695</td>\n",
       "      <td>1633</td>\n",
       "      <td>1480</td>\n",
       "      <td>1247</td>\n",
       "      <td>1540</td>\n",
       "      <td>1617</td>\n",
       "      <td>1547</td>\n",
       "    </tr>\n",
       "    <tr>\n",
       "      <th>Andaman and Nicobar Islands</th>\n",
       "      <td>0</td>\n",
       "      <td>9</td>\n",
       "      <td>7</td>\n",
       "      <td>3</td>\n",
       "      <td>6</td>\n",
       "      <td>16</td>\n",
       "      <td>6</td>\n",
       "      <td>2</td>\n",
       "      <td>7</td>\n",
       "      <td>0</td>\n",
       "      <td>...</td>\n",
       "      <td>27</td>\n",
       "      <td>16</td>\n",
       "      <td>23</td>\n",
       "      <td>18</td>\n",
       "      <td>20</td>\n",
       "      <td>8</td>\n",
       "      <td>21</td>\n",
       "      <td>15</td>\n",
       "      <td>16</td>\n",
       "      <td>0</td>\n",
       "    </tr>\n",
       "    <tr>\n",
       "      <th>Andhra Pradesh</th>\n",
       "      <td>0</td>\n",
       "      <td>845</td>\n",
       "      <td>837</td>\n",
       "      <td>765</td>\n",
       "      <td>998</td>\n",
       "      <td>1322</td>\n",
       "      <td>1178</td>\n",
       "      <td>1062</td>\n",
       "      <td>1555</td>\n",
       "      <td>1608</td>\n",
       "      <td>...</td>\n",
       "      <td>3746</td>\n",
       "      <td>3620</td>\n",
       "      <td>3765</td>\n",
       "      <td>3342</td>\n",
       "      <td>2997</td>\n",
       "      <td>1901</td>\n",
       "      <td>2901</td>\n",
       "      <td>2949</td>\n",
       "      <td>2905</td>\n",
       "      <td>0</td>\n",
       "    </tr>\n",
       "    <tr>\n",
       "      <th>Maharashtra</th>\n",
       "      <td>0</td>\n",
       "      <td>6328</td>\n",
       "      <td>6364</td>\n",
       "      <td>7074</td>\n",
       "      <td>6555</td>\n",
       "      <td>5368</td>\n",
       "      <td>5134</td>\n",
       "      <td>6603</td>\n",
       "      <td>6875</td>\n",
       "      <td>7862</td>\n",
       "      <td>...</td>\n",
       "      <td>8142</td>\n",
       "      <td>7539</td>\n",
       "      <td>7347</td>\n",
       "      <td>6417</td>\n",
       "      <td>6059</td>\n",
       "      <td>3645</td>\n",
       "      <td>5363</td>\n",
       "      <td>6738</td>\n",
       "      <td>5902</td>\n",
       "      <td>0</td>\n",
       "    </tr>\n",
       "    <tr>\n",
       "      <th>Manipur</th>\n",
       "      <td>0</td>\n",
       "      <td>19</td>\n",
       "      <td>37</td>\n",
       "      <td>9</td>\n",
       "      <td>41</td>\n",
       "      <td>24</td>\n",
       "      <td>40</td>\n",
       "      <td>5</td>\n",
       "      <td>15</td>\n",
       "      <td>132</td>\n",
       "      <td>...</td>\n",
       "      <td>214</td>\n",
       "      <td>345</td>\n",
       "      <td>156</td>\n",
       "      <td>245</td>\n",
       "      <td>138</td>\n",
       "      <td>264</td>\n",
       "      <td>180</td>\n",
       "      <td>205</td>\n",
       "      <td>242</td>\n",
       "      <td>0</td>\n",
       "    </tr>\n",
       "  </tbody>\n",
       "</table>\n",
       "<p>5 rows × 122 columns</p>\n",
       "</div>"
      ],
      "text/plain": [
       "states                       2020-07-01  2020-07-02  2020-07-03  2020-07-04  \\\n",
       "state                                                                         \n",
       "Odisha                                0         229         561         495   \n",
       "Andaman and Nicobar Islands           0           9           7           3   \n",
       "Andhra Pradesh                        0         845         837         765   \n",
       "Maharashtra                           0        6328        6364        7074   \n",
       "Manipur                               0          19          37           9   \n",
       "\n",
       "states                       2020-07-05  2020-07-06  2020-07-07  2020-07-08  \\\n",
       "state                                                                         \n",
       "Odisha                              469         456         571         527   \n",
       "Andaman and Nicobar Islands           6          16           6           2   \n",
       "Andhra Pradesh                      998        1322        1178        1062   \n",
       "Maharashtra                        6555        5368        5134        6603   \n",
       "Manipur                              41          24          40           5   \n",
       "\n",
       "states                       2020-07-09  2020-07-10  ...  2020-10-21  \\\n",
       "state                                                ...               \n",
       "Odisha                              577         755  ...        1931   \n",
       "Andaman and Nicobar Islands           7           0  ...          27   \n",
       "Andhra Pradesh                     1555        1608  ...        3746   \n",
       "Maharashtra                        6875        7862  ...        8142   \n",
       "Manipur                              15         132  ...         214   \n",
       "\n",
       "states                       2020-10-22  2020-10-23  2020-10-24  2020-10-25  \\\n",
       "state                                                                         \n",
       "Odisha                             1913        1793        1695        1633   \n",
       "Andaman and Nicobar Islands          16          23          18          20   \n",
       "Andhra Pradesh                     3620        3765        3342        2997   \n",
       "Maharashtra                        7539        7347        6417        6059   \n",
       "Manipur                             345         156         245         138   \n",
       "\n",
       "states                       2020-10-26  2020-10-27  2020-10-28  2020-10-29  \\\n",
       "state                                                                         \n",
       "Odisha                             1480        1247        1540        1617   \n",
       "Andaman and Nicobar Islands           8          21          15          16   \n",
       "Andhra Pradesh                     1901        2901        2949        2905   \n",
       "Maharashtra                        3645        5363        6738        5902   \n",
       "Manipur                             264         180         205         242   \n",
       "\n",
       "states                       2020-10-30  \n",
       "state                                    \n",
       "Odisha                             1547  \n",
       "Andaman and Nicobar Islands           0  \n",
       "Andhra Pradesh                        0  \n",
       "Maharashtra                           0  \n",
       "Manipur                               0  \n",
       "\n",
       "[5 rows x 122 columns]"
      ]
     },
     "execution_count": 18,
     "metadata": {},
     "output_type": "execute_result"
    }
   ],
   "source": [
    "#hide\n",
    "dft_ct_new_cases.head()"
   ]
  },
  {
   "cell_type": "code",
   "execution_count": 19,
   "metadata": {
    "execution": {
     "iopub.execute_input": "2020-10-30T10:37:27.561319Z",
     "iopub.status.busy": "2020-10-30T10:37:27.560592Z",
     "iopub.status.idle": "2020-10-30T10:37:33.429045Z",
     "shell.execute_reply": "2020-10-30T10:37:33.429635Z"
    },
    "papermill": {
     "duration": 5.893398,
     "end_time": "2020-10-30T10:37:33.429808",
     "exception": false,
     "start_time": "2020-10-30T10:37:27.536410",
     "status": "completed"
    },
    "tags": []
   },
   "outputs": [
    {
     "data": {
      "image/png": "[encoded data removed]",
      "text/plain": [
       "<Figure size 1296x2016 with 11 Axes>"
      ]
     },
     "metadata": {
      "needs_background": "light"
     },
     "output_type": "display_data"
    }
   ],
   "source": [
    "#hide_input\n",
    "df = dft_ct_new_cases.copy()\n",
    "df.loc['Total'] = df.sum()\n",
    "n = 5\n",
    "ax = []\n",
    "fig = plt.figure(figsize = (18,28))\n",
    "gs = fig.add_gridspec(n+2, 5)\n",
    "# gs = fig.add_gridspec(2, 3)\n",
    "ax1 = fig.add_subplot(gs[0, :])\n",
    "ef = df.loc['Total'].rename_axis('date').reset_index()\n",
    "ef['date'] = ef['date'].astype('datetime64[ns]')\n",
    "ax1.bar(ef.date,ef.Total,alpha=0.3,color='#007acc')\n",
    "ax1.plot(ef.date,ef.Total , marker=\"o\", color='#007acc')\n",
    "ax1.xaxis.set_major_locator(mdates.WeekdayLocator())\n",
    "ax1.xaxis.set_major_formatter(mdates.DateFormatter('%b %d'))\n",
    "ax1.text(0.02, 0.5,'India daily case count', transform = ax1.transAxes, fontsize=25);\n",
    "ax1.spines['right'].set_visible(False)\n",
    "ax1.spines['top'].set_visible(False)\n",
    "\n",
    "ax2 = fig.add_subplot(gs[1,0])\n",
    "ef = df.loc['Maharashtra'].rename_axis('date').reset_index()\n",
    "ef['date'] = ef['date'].astype('datetime64[ns]')\n",
    "\n",
    "ax2.bar(ef.date, ef.Maharashtra,color = '#007acc',alpha=0.5)\n",
    "ax2.xaxis.set_major_locator(mdates.WeekdayLocator())\n",
    "ax2.xaxis.set_major_formatter(mdates.DateFormatter('%b %d'))\n",
    "ax2.set_xticks(ax2.get_xticks()[::3])\n",
    "maxyval = ef.Maharashtra.max()\n",
    "ax2.set_ylim([0,maxyval])\n",
    "ax2.text(0.05, 0.9,'Maharashtra', transform = ax2.transAxes, fontsize=20);\n",
    "ax2.spines['right'].set_visible(False)\n",
    "ax2.spines['top'].set_visible(False)\n",
    "\n",
    "\n",
    "ax3 = fig.add_subplot(gs[1,1])\n",
    "ef = df.loc['Tamil Nadu'].rename_axis('date').reset_index()\n",
    "ef['date'] = ef['date'].astype('datetime64[ns]')\n",
    "ax3.bar(ef.date, ef['Tamil Nadu'],color = '#007acc',alpha=0.5,)\n",
    "ax3.xaxis.set_major_locator(mdates.WeekdayLocator())\n",
    "ax3.xaxis.set_major_formatter(mdates.DateFormatter('%b %d'))\n",
    "ax3.set_xticks(ax3.get_xticks()[::3])\n",
    "ax3.text(0.05, 0.9,'Tamil Nadu', transform = ax3.transAxes, fontsize=20);\n",
    "ax3.spines['right'].set_visible(False)\n",
    "ax3.spines['top'].set_visible(False)\n",
    "\n",
    "ax5 = fig.add_subplot(gs[1,3])\n",
    "ef = df.loc['Telangana'].rename_axis('date').reset_index()\n",
    "ef['date'] = ef['date'].astype('datetime64[ns]')\n",
    "ax5.bar(ef.date, ef['Telangana'],color = '#007acc',alpha=0.5,)\n",
    "ax5.xaxis.set_major_locator(mdates.WeekdayLocator())\n",
    "ax5.xaxis.set_major_formatter(mdates.DateFormatter('%b %d'))\n",
    "ax5.set_xticks(ax5.get_xticks()[::3])\n",
    "ax5.text(0.05, 0.9,'Telangana', transform = ax5.transAxes, fontsize=20);\n",
    "ax5.spines['right'].set_visible(False)\n",
    "ax5.spines['top'].set_visible(False)\n",
    "\n",
    "ax6 = fig.add_subplot(gs[1,4])\n",
    "ef = df.loc['Andhra Pradesh'].rename_axis('date').reset_index()\n",
    "ef['date'] = ef['date'].astype('datetime64[ns]')\n",
    "ax6.bar(ef.date, ef['Andhra Pradesh'],color = '#007acc',alpha=0.5,)\n",
    "ax6.xaxis.set_major_locator(mdates.WeekdayLocator())\n",
    "ax6.xaxis.set_major_formatter(mdates.DateFormatter('%b %d'))\n",
    "ax6.set_xticks(ax6.get_xticks()[::3])\n",
    "ax6.text(0.05, 1,'Andhra Pradesh', transform = ax6.transAxes, fontsize=20);\n",
    "ax6.spines['right'].set_visible(False)\n",
    "ax6.spines['top'].set_visible(False)\n",
    "\n",
    "ax4 = fig.add_subplot(gs[1,2])\n",
    "ef = df.loc['Delhi'].rename_axis('date').reset_index()\n",
    "ef['date'] = ef['date'].astype('datetime64[ns]')\n",
    "ax4.bar(ef.date, ef.Delhi,color = '#007acc',alpha=0.5)\n",
    "ax4.set_xticks([])\n",
    "ax4.xaxis.set_major_locator(mdates.WeekdayLocator())\n",
    "ax4.xaxis.set_major_formatter(mdates.DateFormatter('%b %d'))\n",
    "ax4.set_xticks(ax4.get_xticks()[::3])\n",
    "ax4.spines['right'].set_visible(False)\n",
    "ax4.spines['top'].set_visible(False)\n",
    "\n",
    "ax4.text(0.05, 1,'Delhi', transform = ax4.transAxes, fontsize=20)\n",
    "\n",
    "for i in range(n):\n",
    "    \n",
    "    ax.append(fig.add_subplot(gs[i+2,:]))\n",
    "    ef = df.iloc[i+3].rename_axis('date').reset_index()\n",
    "    ef['date'] = ef['date'].astype('datetime64[ns]')\n",
    "    ax[i].bar(ef.date,ef.iloc[:,-1],color = '#007acc',alpha=0.3)\n",
    "    ax[i].plot(ef.date,ef.iloc[:,-1],marker='o',color='#007acc')\n",
    "    ax[i].text(0.02,0.5,f'{ef.columns.values[-1]}',transform = ax[i].transAxes, fontsize = 20);\n",
    "    ax[i].xaxis.set_major_locator(mdates.WeekdayLocator())\n",
    "    ax[i].xaxis.set_major_formatter(mdates.DateFormatter('%b %d'))\n",
    "    ax[i].set_ylim([0,7000])\n",
    "    ax[i].spines['right'].set_visible(False)\n",
    "    ax[i].spines['top'].set_visible(False)\n",
    "plt.tight_layout()\n"
   ]
  },
  {
   "cell_type": "code",
   "execution_count": 20,
   "metadata": {
    "execution": {
     "iopub.execute_input": "2020-10-30T10:37:33.490803Z",
     "iopub.status.busy": "2020-10-30T10:37:33.490064Z",
     "iopub.status.idle": "2020-10-30T10:37:33.492669Z",
     "shell.execute_reply": "2020-10-30T10:37:33.493294Z"
    },
    "papermill": {
     "duration": 0.038663,
     "end_time": "2020-10-30T10:37:33.493479",
     "exception": false,
     "start_time": "2020-10-30T10:37:33.454816",
     "status": "completed"
    },
    "tags": []
   },
   "outputs": [
    {
     "name": "stdout",
     "output_type": "stream",
     "text": [
      "                                   states    Cases  Deaths   PCases  PDeaths  Cases (+)  Deaths (+)  Fatality Rate\n",
      "                              Maharashtra  1666668   43710  1666668    43710          0           0           2.62\n",
      "                           Andhra Pradesh   817679    6659   817679     6659          0           0           0.81\n",
      "                                Karnataka   816809   11091   816809    11091          0           0           1.36\n",
      "                               Tamil Nadu   719403   11053   719403    11053          0           0           1.54\n",
      "                            Uttar Pradesh   477895    6983   477895     6983          0           0           1.46\n",
      "                                   Kerala   418485    1430   418485     1430          0           0           0.34\n",
      "                                    Delhi   375753    6423   375753     6423          0           0           1.71\n",
      "                              West Bengal   365692    6725   365692     6725          0           0           1.84\n",
      "                                   Odisha   288646    1363   287099     1350       1547          13           0.47\n",
      "                                Telangana   235656    1324   235656     1324          0           0           0.56\n",
      "                                    Bihar   214946    1076   214946     1076          0           0           0.50\n",
      "                                    Assam   205635     923   205635      923          0           0           0.45\n",
      "                                Rajasthan   193419    1888   193419     1888          0           0           0.98\n",
      "                             Chhattisgarh   183588    1989   183588     1989          0           0           1.08\n",
      "                                  Gujarat   171040    3708   171040     3708          0           0           2.17\n",
      "                           Madhya Pradesh   169999    2929   169999     2929          0           0           1.72\n",
      "                                  Haryana   163817    1766   163817     1766          0           0           1.08\n",
      "                                   Punjab   132727    4168   132727     4168          0           0           3.14\n",
      "                                Jharkhand   100964     883   100964      883          0           0           0.87\n",
      "                        Jammu and Kashmir    93764    1466    93764     1466          0           0           1.56\n",
      "                              Uttarakhand    61566    1009    61566     1009          0           0           1.64\n",
      "                                      Goa    43201     597    43201      597          0           0           1.38\n",
      "                               Puducherry    34761     592    34761      592          0           0           1.70\n",
      "                                  Tripura    30563     342    30563      342          0           0           1.12\n",
      "                         Himachal Pradesh    21476     301    21476      301          0           0           1.40\n",
      "                                  Manipur    18051     160    18051      160          0           0           0.89\n",
      "                        Arunachal Pradesh    14668      37    14668       37          0           0           0.25\n",
      "                               Chandigarh    14292     225    14292      225          0           0           1.57\n",
      "                                Meghalaya     9305      87     9305       87          0           0           0.93\n",
      "                                 Nagaland     8894      35     8894       35          0           0           0.39\n",
      "                                   Ladakh     6139      73     6139       73          0           0           1.19\n",
      "              Andaman and Nicobar Islands     4305      59     4305       59          0           0           1.37\n",
      "                                   Sikkim     3893      67     3893       67          0           0           1.72\n",
      " Dadra and Nagar Haveli and Daman and Diu     3238       2     3238        2          0           0           0.06\n",
      "                                  Mizoram     2656       1     2656        1          0           0           0.04\n",
      "                              Lakshadweep        0       0        0        0          0           0            NaN\n"
     ]
    }
   ],
   "source": [
    "#hide_input\n",
    "print(df_table.to_string(index=False))"
   ]
  },
  {
   "cell_type": "code",
   "execution_count": null,
   "metadata": {
    "papermill": {
     "duration": 0.024353,
     "end_time": "2020-10-30T10:37:33.543375",
     "exception": false,
     "start_time": "2020-10-30T10:37:33.519022",
     "status": "completed"
    },
    "tags": []
   },
   "outputs": [],
   "source": []
  },
  {
   "cell_type": "code",
   "execution_count": null,
   "metadata": {
    "papermill": {
     "duration": 0.025288,
     "end_time": "2020-10-30T10:37:33.593848",
     "exception": false,
     "start_time": "2020-10-30T10:37:33.568560",
     "status": "completed"
    },
    "tags": []
   },
   "outputs": [],
   "source": []
  }
 ],
 "metadata": {
  "kernelspec": {
   "display_name": "Python 3",
   "language": "python",
   "name": "python3"
  },
  "language_info": {
   "codemirror_mode": {
    "name": "ipython",
    "version": 3
   },
   "file_extension": ".py",
   "mimetype": "text/x-python",
   "name": "python",
   "nbconvert_exporter": "python",
   "pygments_lexer": "ipython3",
   "version": "3.6.12"
  },
  "papermill": {
   "duration": 15.374336,
   "end_time": "2020-10-30T10:37:34.986318",
   "environment_variables": {},
   "exception": null,
   "input_path": "latest.ipynb",
   "output_path": "latest.ipynb",
   "parameters": {},
   "start_time": "2020-10-30T10:37:19.611982",
   "version": "2.1.2"
  }
 },
 "nbformat": 4,
 "nbformat_minor": 4
}