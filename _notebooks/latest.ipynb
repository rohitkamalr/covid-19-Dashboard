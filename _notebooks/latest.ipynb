{
 "cells": [
  {
   "cell_type": "markdown",
   "metadata": {
    "papermill": {
     "duration": 0.017717,
     "end_time": "2020-08-12T05:17:29.571198",
     "exception": false,
     "start_time": "2020-08-12T05:17:29.553481",
     "status": "completed"
    },
    "tags": []
   },
   "source": [
    "# Latest COVID-19 India Matplotlib Overview"
   ]
  },
  {
   "cell_type": "code",
   "execution_count": 1,
   "metadata": {
    "execution": {
     "iopub.execute_input": "2020-08-12T05:17:29.604617Z",
     "iopub.status.busy": "2020-08-12T05:17:29.604034Z",
     "iopub.status.idle": "2020-08-12T05:17:30.110049Z",
     "shell.execute_reply": "2020-08-12T05:17:30.109559Z"
    },
    "papermill": {
     "duration": 0.525093,
     "end_time": "2020-08-12T05:17:30.110217",
     "exception": false,
     "start_time": "2020-08-12T05:17:29.585124",
     "status": "completed"
    },
    "tags": []
   },
   "outputs": [],
   "source": [
    "#hide\n",
    "import pandas as pd\n",
    "import numpy as np\n",
    "import requests\n",
    "import json\n",
    "import matplotlib.pyplot as plt\n",
    "import matplotlib.dates as mdates\n",
    "import matplotlib as mpl\n",
    "from IPython.core.display import display,HTML\n",
    "%matplotlib inline\n",
    "from datetime import date"
   ]
  },
  {
   "cell_type": "code",
   "execution_count": 2,
   "metadata": {
    "execution": {
     "iopub.execute_input": "2020-08-12T05:17:30.143994Z",
     "iopub.status.busy": "2020-08-12T05:17:30.143102Z",
     "iopub.status.idle": "2020-08-12T05:17:30.363753Z",
     "shell.execute_reply": "2020-08-12T05:17:30.363270Z"
    },
    "papermill": {
     "duration": 0.239536,
     "end_time": "2020-08-12T05:17:30.363878",
     "exception": false,
     "start_time": "2020-08-12T05:17:30.124342",
     "status": "completed"
    },
    "tags": []
   },
   "outputs": [],
   "source": [
    "#hide\n",
    "df  = pd.read_csv('https://api.covid19india.org/csv/latest/states.csv')\n",
    "df = df[['Date','State','Confirmed','Deceased']]\n",
    "df = df.rename(columns={'Confirmed':'Cases', \"Deceased\":'Deaths'})\n",
    "df_cases = df[[\"Date\",'State','Cases']]\n",
    "df_deaths = df[['Date','State','Deaths']]\n",
    "df_cases1 = df_cases.groupby('Date')\n",
    "df_deaths1= df_deaths.groupby('Date')"
   ]
  },
  {
   "cell_type": "code",
   "execution_count": 3,
   "metadata": {
    "execution": {
     "iopub.execute_input": "2020-08-12T05:17:30.394663Z",
     "iopub.status.busy": "2020-08-12T05:17:30.394133Z",
     "iopub.status.idle": "2020-08-12T05:17:30.408589Z",
     "shell.execute_reply": "2020-08-12T05:17:30.408161Z"
    },
    "papermill": {
     "duration": 0.03124,
     "end_time": "2020-08-12T05:17:30.408696",
     "exception": false,
     "start_time": "2020-08-12T05:17:30.377456",
     "status": "completed"
    },
    "tags": []
   },
   "outputs": [],
   "source": [
    "#hide\n",
    "df_snap = pd.read_csv('data/SnapshotCases-28-July.csv')\n",
    "arr_states = df_snap['states'].unique()\n",
    "arr_dates = df['Date'].unique()\n",
    "df_snap = df_snap.set_index('states')"
   ]
  },
  {
   "cell_type": "code",
   "execution_count": 4,
   "metadata": {
    "execution": {
     "iopub.execute_input": "2020-08-12T05:17:30.442953Z",
     "iopub.status.busy": "2020-08-12T05:17:30.442290Z",
     "iopub.status.idle": "2020-08-12T05:17:30.445159Z",
     "shell.execute_reply": "2020-08-12T05:17:30.445687Z"
    },
    "papermill": {
     "duration": 0.023309,
     "end_time": "2020-08-12T05:17:30.445808",
     "exception": false,
     "start_time": "2020-08-12T05:17:30.422499",
     "status": "completed"
    },
    "tags": []
   },
   "outputs": [
    {
     "data": {
      "text/plain": [
       "array(['Andaman and Nicobar Islands', 'Andhra Pradesh',\n",
       "       'Arunachal Pradesh', 'Assam', 'Bihar', 'Chandigarh',\n",
       "       'Dadra and Nagar Haveli and Daman and Diu', 'Delhi', 'Goa',\n",
       "       'Gujarat', 'Haryana', 'Himachal Pradesh', 'Jammu and Kashmir',\n",
       "       'Jharkhand', 'Karnataka', 'Kerala', 'Lakshadweep',\n",
       "       'Madhya Pradesh', 'Maharashtra', 'Manipur', 'Meghalaya', 'Mizoram',\n",
       "       'Nagaland', 'Odisha', 'Puducherry', 'Punjab', 'Rajasthan',\n",
       "       'Sikkim', 'Tamil Nadu', 'Telangana', 'Tripura', 'Uttar Pradesh',\n",
       "       'West Bengal', 'Chhattisgarh', 'Ladakh', 'Uttarakhand'],\n",
       "      dtype=object)"
      ]
     },
     "execution_count": 4,
     "metadata": {},
     "output_type": "execute_result"
    }
   ],
   "source": [
    "#hide\n",
    "arr_states[-9] = 'Puducherry'\n",
    "arr_states[-10] = 'Odisha'\n",
    "arr_states[6] = 'Dadra and Nagar Haveli and Daman and Diu'\n",
    "arr_states = np.append(arr_states,np.array(['Chhattisgarh','Ladakh','Uttarakhand']))\n",
    "arr_states"
   ]
  },
  {
   "cell_type": "code",
   "execution_count": 5,
   "metadata": {
    "execution": {
     "iopub.execute_input": "2020-08-12T05:17:30.480914Z",
     "iopub.status.busy": "2020-08-12T05:17:30.480383Z",
     "iopub.status.idle": "2020-08-12T05:17:30.486824Z",
     "shell.execute_reply": "2020-08-12T05:17:30.486266Z"
    },
    "papermill": {
     "duration": 0.027646,
     "end_time": "2020-08-12T05:17:30.486954",
     "exception": false,
     "start_time": "2020-08-12T05:17:30.459308",
     "status": "completed"
    },
    "tags": []
   },
   "outputs": [],
   "source": [
    "#hide\n",
    "dates = []\n",
    "for i in arr_dates:\n",
    "    if i>='2020-07-01':\n",
    "        dates.append(i)\n",
    "dict = {'states':dates}\n",
    "for i in arr_states:\n",
    "    dict[i] = [0]*len(dates)\n",
    "dft_cases = pd.DataFrame(dict)\n",
    "dft_deaths = pd.DataFrame(dict)\n"
   ]
  },
  {
   "cell_type": "code",
   "execution_count": 6,
   "metadata": {
    "execution": {
     "iopub.execute_input": "2020-08-12T05:17:30.521114Z",
     "iopub.status.busy": "2020-08-12T05:17:30.520344Z",
     "iopub.status.idle": "2020-08-12T05:17:31.190356Z",
     "shell.execute_reply": "2020-08-12T05:17:31.189866Z"
    },
    "papermill": {
     "duration": 0.690224,
     "end_time": "2020-08-12T05:17:31.190514",
     "exception": false,
     "start_time": "2020-08-12T05:17:30.500290",
     "status": "completed"
    },
    "tags": []
   },
   "outputs": [],
   "source": [
    "#hide\n",
    "for i in range(len(dates)):\n",
    "    df1_deaths = df_deaths1.get_group(dates[i])\n",
    "    for j in range(len(df1_deaths.index)):\n",
    "        if df1_deaths.iloc[j,1] in arr_states:\n",
    "            dft_deaths.loc[i,df1_deaths.iloc[j,1]] = df1_deaths.iloc[j,2]\n",
    "dft_deaths = dft_deaths.set_index('states')"
   ]
  },
  {
   "cell_type": "code",
   "execution_count": 7,
   "metadata": {
    "execution": {
     "iopub.execute_input": "2020-08-12T05:17:31.227764Z",
     "iopub.status.busy": "2020-08-12T05:17:31.227165Z",
     "iopub.status.idle": "2020-08-12T05:17:31.892822Z",
     "shell.execute_reply": "2020-08-12T05:17:31.892004Z"
    },
    "papermill": {
     "duration": 0.68527,
     "end_time": "2020-08-12T05:17:31.893010",
     "exception": false,
     "start_time": "2020-08-12T05:17:31.207740",
     "status": "completed"
    },
    "tags": []
   },
   "outputs": [],
   "source": [
    "#hide\n",
    "for i in range(len(dates)):\n",
    "    df1_cases = df_cases1.get_group(dates[i])\n",
    "    for j in range(len(df1_cases.index)):\n",
    "        if df1_cases.iloc[j,1] in arr_states:\n",
    "            dft_cases.loc[i,df1_cases.iloc[j,1]] = df1_cases.iloc[j,2]\n",
    "dft_cases = dft_cases.set_index('states')"
   ]
  },
  {
   "cell_type": "code",
   "execution_count": 8,
   "metadata": {
    "execution": {
     "iopub.execute_input": "2020-08-12T05:17:31.926772Z",
     "iopub.status.busy": "2020-08-12T05:17:31.925497Z",
     "iopub.status.idle": "2020-08-12T05:17:31.927394Z",
     "shell.execute_reply": "2020-08-12T05:17:31.928020Z"
    },
    "papermill": {
     "duration": 0.021053,
     "end_time": "2020-08-12T05:17:31.928175",
     "exception": false,
     "start_time": "2020-08-12T05:17:31.907122",
     "status": "completed"
    },
    "tags": []
   },
   "outputs": [],
   "source": [
    "#hide\n",
    "dft_cases = dft_cases.T\n",
    "dft_deaths = dft_deaths.T\n",
    "dt_today = dates[-1]\n",
    "dt_yday = dates[-2]"
   ]
  },
  {
   "cell_type": "code",
   "execution_count": 9,
   "metadata": {
    "execution": {
     "iopub.execute_input": "2020-08-12T05:17:31.963812Z",
     "iopub.status.busy": "2020-08-12T05:17:31.963193Z",
     "iopub.status.idle": "2020-08-12T05:17:31.967087Z",
     "shell.execute_reply": "2020-08-12T05:17:31.966579Z"
    },
    "papermill": {
     "duration": 0.025125,
     "end_time": "2020-08-12T05:17:31.967191",
     "exception": false,
     "start_time": "2020-08-12T05:17:31.942066",
     "status": "completed"
    },
    "tags": []
   },
   "outputs": [],
   "source": [
    "#hide\n",
    "dft_cases = dft_cases.reset_index()\n",
    "dft_deaths = dft_deaths.reset_index()\n",
    "dft_cases = dft_cases.rename(columns = {'index':'state'})\n",
    "dft_deaths = dft_deaths.rename(columns = {'index':'state'})"
   ]
  },
  {
   "cell_type": "code",
   "execution_count": 10,
   "metadata": {
    "execution": {
     "iopub.execute_input": "2020-08-12T05:17:32.003164Z",
     "iopub.status.busy": "2020-08-12T05:17:32.001958Z",
     "iopub.status.idle": "2020-08-12T05:17:32.010089Z",
     "shell.execute_reply": "2020-08-12T05:17:32.010736Z"
    },
    "papermill": {
     "duration": 0.029861,
     "end_time": "2020-08-12T05:17:32.010870",
     "exception": false,
     "start_time": "2020-08-12T05:17:31.981009",
     "status": "completed"
    },
    "tags": []
   },
   "outputs": [],
   "source": [
    "#hide\n",
    "dfc_cases = dft_cases.groupby('state')[dt_today].sum()\n",
    "dfc_deaths = dft_deaths.groupby('state')[dt_today].sum()\n",
    "dfp_cases = dft_cases.groupby('state')[dt_yday].sum()\n",
    "dfp_deaths = dft_deaths.groupby('state')[dt_yday].sum()"
   ]
  },
  {
   "cell_type": "code",
   "execution_count": 11,
   "metadata": {
    "execution": {
     "iopub.execute_input": "2020-08-12T05:17:32.055013Z",
     "iopub.status.busy": "2020-08-12T05:17:32.054331Z",
     "iopub.status.idle": "2020-08-12T05:17:32.061655Z",
     "shell.execute_reply": "2020-08-12T05:17:32.062106Z"
    },
    "papermill": {
     "duration": 0.035959,
     "end_time": "2020-08-12T05:17:32.062219",
     "exception": false,
     "start_time": "2020-08-12T05:17:32.026260",
     "status": "completed"
    },
    "tags": []
   },
   "outputs": [
    {
     "data": {
      "text/html": [
       "<div>\n",
       "<style scoped>\n",
       "    .dataframe tbody tr th:only-of-type {\n",
       "        vertical-align: middle;\n",
       "    }\n",
       "\n",
       "    .dataframe tbody tr th {\n",
       "        vertical-align: top;\n",
       "    }\n",
       "\n",
       "    .dataframe thead th {\n",
       "        text-align: right;\n",
       "    }\n",
       "</style>\n",
       "<table border=\"1\" class=\"dataframe\">\n",
       "  <thead>\n",
       "    <tr style=\"text-align: right;\">\n",
       "      <th></th>\n",
       "      <th>states</th>\n",
       "      <th>Cases</th>\n",
       "      <th>Deaths</th>\n",
       "      <th>PCases</th>\n",
       "      <th>PDeaths</th>\n",
       "    </tr>\n",
       "  </thead>\n",
       "  <tbody>\n",
       "    <tr>\n",
       "      <th>0</th>\n",
       "      <td>Maharashtra</td>\n",
       "      <td>535601</td>\n",
       "      <td>18306</td>\n",
       "      <td>535601</td>\n",
       "      <td>18306</td>\n",
       "    </tr>\n",
       "    <tr>\n",
       "      <th>1</th>\n",
       "      <td>Tamil Nadu</td>\n",
       "      <td>308649</td>\n",
       "      <td>5159</td>\n",
       "      <td>308649</td>\n",
       "      <td>5159</td>\n",
       "    </tr>\n",
       "    <tr>\n",
       "      <th>2</th>\n",
       "      <td>Andhra Pradesh</td>\n",
       "      <td>244549</td>\n",
       "      <td>2203</td>\n",
       "      <td>244549</td>\n",
       "      <td>2203</td>\n",
       "    </tr>\n",
       "    <tr>\n",
       "      <th>3</th>\n",
       "      <td>Karnataka</td>\n",
       "      <td>188611</td>\n",
       "      <td>3398</td>\n",
       "      <td>188611</td>\n",
       "      <td>3398</td>\n",
       "    </tr>\n",
       "    <tr>\n",
       "      <th>4</th>\n",
       "      <td>Delhi</td>\n",
       "      <td>147391</td>\n",
       "      <td>4139</td>\n",
       "      <td>147391</td>\n",
       "      <td>4139</td>\n",
       "    </tr>\n",
       "  </tbody>\n",
       "</table>\n",
       "</div>"
      ],
      "text/plain": [
       "           states   Cases  Deaths  PCases  PDeaths\n",
       "0     Maharashtra  535601   18306  535601    18306\n",
       "1      Tamil Nadu  308649    5159  308649     5159\n",
       "2  Andhra Pradesh  244549    2203  244549     2203\n",
       "3       Karnataka  188611    3398  188611     3398\n",
       "4           Delhi  147391    4139  147391     4139"
      ]
     },
     "execution_count": 11,
     "metadata": {},
     "output_type": "execute_result"
    }
   ],
   "source": [
    "#hide\n",
    "df_table = pd.DataFrame({'states': dfc_cases.index, 'Cases': dfc_cases.values, 'Deaths': dfc_deaths.values, 'PCases': dfp_cases.values, 'PDeaths': dfp_deaths.values}).set_index('states')\n",
    "df_table = df_table.sort_values(by = ['Cases','Deaths'], ascending = [False, False])\n",
    "df_table = df_table.reset_index()\n",
    "df_table.head()"
   ]
  },
  {
   "cell_type": "code",
   "execution_count": 12,
   "metadata": {
    "execution": {
     "iopub.execute_input": "2020-08-12T05:17:32.096349Z",
     "iopub.status.busy": "2020-08-12T05:17:32.095825Z",
     "iopub.status.idle": "2020-08-12T05:17:32.103821Z",
     "shell.execute_reply": "2020-08-12T05:17:32.103388Z"
    },
    "papermill": {
     "duration": 0.02563,
     "end_time": "2020-08-12T05:17:32.103922",
     "exception": false,
     "start_time": "2020-08-12T05:17:32.078292",
     "status": "completed"
    },
    "tags": []
   },
   "outputs": [],
   "source": [
    "#hide\n",
    "for c in 'Cases, Deaths'.split(', '):\n",
    "    df_table[f'{c} (+)'] = (df_table[c] - df_table[f'P{c}']).clip(0)\n",
    "df_table['Fatality Rate'] = (100* df_table['Deaths']/ df_table['Cases']).round(2)"
   ]
  },
  {
   "cell_type": "code",
   "execution_count": 13,
   "metadata": {
    "execution": {
     "iopub.execute_input": "2020-08-12T05:17:32.137645Z",
     "iopub.status.busy": "2020-08-12T05:17:32.137114Z",
     "iopub.status.idle": "2020-08-12T05:17:32.144655Z",
     "shell.execute_reply": "2020-08-12T05:17:32.144206Z"
    },
    "papermill": {
     "duration": 0.027457,
     "end_time": "2020-08-12T05:17:32.144759",
     "exception": false,
     "start_time": "2020-08-12T05:17:32.117302",
     "status": "completed"
    },
    "tags": []
   },
   "outputs": [
    {
     "data": {
      "text/html": [
       "<div>\n",
       "<style scoped>\n",
       "    .dataframe tbody tr th:only-of-type {\n",
       "        vertical-align: middle;\n",
       "    }\n",
       "\n",
       "    .dataframe tbody tr th {\n",
       "        vertical-align: top;\n",
       "    }\n",
       "\n",
       "    .dataframe thead th {\n",
       "        text-align: right;\n",
       "    }\n",
       "</style>\n",
       "<table border=\"1\" class=\"dataframe\">\n",
       "  <thead>\n",
       "    <tr style=\"text-align: right;\">\n",
       "      <th></th>\n",
       "      <th>states</th>\n",
       "      <th>Cases</th>\n",
       "      <th>Deaths</th>\n",
       "      <th>PCases</th>\n",
       "      <th>PDeaths</th>\n",
       "      <th>Cases (+)</th>\n",
       "      <th>Deaths (+)</th>\n",
       "      <th>Fatality Rate</th>\n",
       "    </tr>\n",
       "  </thead>\n",
       "  <tbody>\n",
       "    <tr>\n",
       "      <th>0</th>\n",
       "      <td>Maharashtra</td>\n",
       "      <td>535601</td>\n",
       "      <td>18306</td>\n",
       "      <td>535601</td>\n",
       "      <td>18306</td>\n",
       "      <td>0</td>\n",
       "      <td>0</td>\n",
       "      <td>3.42</td>\n",
       "    </tr>\n",
       "    <tr>\n",
       "      <th>1</th>\n",
       "      <td>Tamil Nadu</td>\n",
       "      <td>308649</td>\n",
       "      <td>5159</td>\n",
       "      <td>308649</td>\n",
       "      <td>5159</td>\n",
       "      <td>0</td>\n",
       "      <td>0</td>\n",
       "      <td>1.67</td>\n",
       "    </tr>\n",
       "    <tr>\n",
       "      <th>2</th>\n",
       "      <td>Andhra Pradesh</td>\n",
       "      <td>244549</td>\n",
       "      <td>2203</td>\n",
       "      <td>244549</td>\n",
       "      <td>2203</td>\n",
       "      <td>0</td>\n",
       "      <td>0</td>\n",
       "      <td>0.90</td>\n",
       "    </tr>\n",
       "    <tr>\n",
       "      <th>3</th>\n",
       "      <td>Karnataka</td>\n",
       "      <td>188611</td>\n",
       "      <td>3398</td>\n",
       "      <td>188611</td>\n",
       "      <td>3398</td>\n",
       "      <td>0</td>\n",
       "      <td>0</td>\n",
       "      <td>1.80</td>\n",
       "    </tr>\n",
       "    <tr>\n",
       "      <th>4</th>\n",
       "      <td>Delhi</td>\n",
       "      <td>147391</td>\n",
       "      <td>4139</td>\n",
       "      <td>147391</td>\n",
       "      <td>4139</td>\n",
       "      <td>0</td>\n",
       "      <td>0</td>\n",
       "      <td>2.81</td>\n",
       "    </tr>\n",
       "  </tbody>\n",
       "</table>\n",
       "</div>"
      ],
      "text/plain": [
       "           states   Cases  Deaths  PCases  PDeaths  Cases (+)  Deaths (+)  \\\n",
       "0     Maharashtra  535601   18306  535601    18306          0           0   \n",
       "1      Tamil Nadu  308649    5159  308649     5159          0           0   \n",
       "2  Andhra Pradesh  244549    2203  244549     2203          0           0   \n",
       "3       Karnataka  188611    3398  188611     3398          0           0   \n",
       "4           Delhi  147391    4139  147391     4139          0           0   \n",
       "\n",
       "   Fatality Rate  \n",
       "0           3.42  \n",
       "1           1.67  \n",
       "2           0.90  \n",
       "3           1.80  \n",
       "4           2.81  "
      ]
     },
     "execution_count": 13,
     "metadata": {},
     "output_type": "execute_result"
    }
   ],
   "source": [
    "#hide\n",
    "df_table.head()"
   ]
  },
  {
   "cell_type": "code",
   "execution_count": 14,
   "metadata": {
    "execution": {
     "iopub.execute_input": "2020-08-12T05:17:32.190347Z",
     "iopub.status.busy": "2020-08-12T05:17:32.189730Z",
     "iopub.status.idle": "2020-08-12T05:17:32.208119Z",
     "shell.execute_reply": "2020-08-12T05:17:32.207640Z"
    },
    "papermill": {
     "duration": 0.044713,
     "end_time": "2020-08-12T05:17:32.208236",
     "exception": false,
     "start_time": "2020-08-12T05:17:32.163523",
     "status": "completed"
    },
    "tags": []
   },
   "outputs": [
    {
     "data": {
      "text/plain": [
       "{'updated': '2020-08-12',\n",
       " 'since': '2020-08-11',\n",
       " 'Cases': 2330437,\n",
       " 'PCases': 2328405,\n",
       " 'Deaths': 46197,\n",
       " 'PDeaths': 46188,\n",
       " 'Cases (+)': 2032,\n",
       " 'Deaths (+)': 9}"
      ]
     },
     "execution_count": 14,
     "metadata": {},
     "output_type": "execute_result"
    }
   ],
   "source": [
    "#hide\n",
    "summary = {'updated':dates[-1], 'since':dates[-2]}\n",
    "list_names = ['Cases', 'PCases', 'Deaths', 'PDeaths', 'Cases (+)', 'Deaths (+)']\n",
    "for name in list_names:\n",
    "    summary[name] = df_table.sum()[name]\n",
    "summary"
   ]
  },
  {
   "cell_type": "code",
   "execution_count": 15,
   "metadata": {
    "execution": {
     "iopub.execute_input": "2020-08-12T05:17:32.242166Z",
     "iopub.status.busy": "2020-08-12T05:17:32.241651Z",
     "iopub.status.idle": "2020-08-12T05:17:32.244027Z",
     "shell.execute_reply": "2020-08-12T05:17:32.243527Z"
    },
    "papermill": {
     "duration": 0.020389,
     "end_time": "2020-08-12T05:17:32.244127",
     "exception": false,
     "start_time": "2020-08-12T05:17:32.223738",
     "status": "completed"
    },
    "tags": []
   },
   "outputs": [],
   "source": [
    "#hide\n",
    "overview = '''\n",
    "<!-- #######  HTML!! #########-->\n",
    "<h1 style=\"color: #5e9ca0; text-align: center;\">India</h1>\n",
    "<p style=\"text-align: center;\">Last update: <strong>{update}</strong></p>\n",
    "<p style=\"text-align: center;\">Confirmed cases:</p>\n",
    "<p style=\"text-align: center;font-size:24px;\">{cases} (<span style=\"color: #ff0000;\">+{new}</span>)</p>\n",
    "<p style=\"text-align: center;\">Confirmed deaths:</p>\n",
    "<p style=\"text-align: center;font-size:24px;\">{deaths} (<span style=\"color: #ff0000;\">+{dnew}</span>)</p>\n",
    "'''"
   ]
  },
  {
   "cell_type": "code",
   "execution_count": 16,
   "metadata": {
    "execution": {
     "iopub.execute_input": "2020-08-12T05:17:32.278441Z",
     "iopub.status.busy": "2020-08-12T05:17:32.277859Z",
     "iopub.status.idle": "2020-08-12T05:17:32.280942Z",
     "shell.execute_reply": "2020-08-12T05:17:32.280424Z"
    },
    "papermill": {
     "duration": 0.022696,
     "end_time": "2020-08-12T05:17:32.281046",
     "exception": false,
     "start_time": "2020-08-12T05:17:32.258350",
     "status": "completed"
    },
    "tags": []
   },
   "outputs": [
    {
     "data": {
      "text/html": [
       "\n",
       "<!-- #######  HTML!! #########-->\n",
       "<h1 style=\"color: #5e9ca0; text-align: center;\">India</h1>\n",
       "<p style=\"text-align: center;\">Last update: <strong>2020-08-12</strong></p>\n",
       "<p style=\"text-align: center;\">Confirmed cases:</p>\n",
       "<p style=\"text-align: center;font-size:24px;\">2330437 (<span style=\"color: #ff0000;\">+2032</span>)</p>\n",
       "<p style=\"text-align: center;\">Confirmed deaths:</p>\n",
       "<p style=\"text-align: center;font-size:24px;\">46197 (<span style=\"color: #ff0000;\">+9</span>)</p>\n"
      ],
      "text/plain": [
       "<IPython.core.display.HTML object>"
      ]
     },
     "metadata": {},
     "output_type": "display_data"
    }
   ],
   "source": [
    "#hide_input\n",
    "update = summary['updated']\n",
    "cases = summary['Cases']\n",
    "new = summary['Cases (+)']\n",
    "deaths = summary['Deaths']\n",
    "dnew = summary['Deaths (+)']\n",
    "\n",
    "html = HTML(overview.format(update=update, cases=cases,new=new,deaths=deaths,dnew=dnew))\n",
    "\n",
    "display(html)"
   ]
  },
  {
   "cell_type": "code",
   "execution_count": 17,
   "metadata": {
    "execution": {
     "iopub.execute_input": "2020-08-12T05:17:32.321433Z",
     "iopub.status.busy": "2020-08-12T05:17:32.320869Z",
     "iopub.status.idle": "2020-08-12T05:17:32.325639Z",
     "shell.execute_reply": "2020-08-12T05:17:32.325187Z"
    },
    "papermill": {
     "duration": 0.029545,
     "end_time": "2020-08-12T05:17:32.325743",
     "exception": false,
     "start_time": "2020-08-12T05:17:32.296198",
     "status": "completed"
    },
    "tags": []
   },
   "outputs": [],
   "source": [
    "#hide\n",
    "dt_cols = list(dft_cases.columns[1:])\n",
    "dft_ct_new_cases = dft_cases.groupby('state')[dt_cols].sum().diff(axis=1).fillna(0).astype(int)\n",
    "dft_ct_new_cases.sort_values(by = dates[-1], ascending = False,inplace = True)"
   ]
  },
  {
   "cell_type": "code",
   "execution_count": 18,
   "metadata": {
    "execution": {
     "iopub.execute_input": "2020-08-12T05:17:32.378352Z",
     "iopub.status.busy": "2020-08-12T05:17:32.377759Z",
     "iopub.status.idle": "2020-08-12T05:17:32.380552Z",
     "shell.execute_reply": "2020-08-12T05:17:32.381270Z"
    },
    "papermill": {
     "duration": 0.033054,
     "end_time": "2020-08-12T05:17:32.381393",
     "exception": false,
     "start_time": "2020-08-12T05:17:32.348339",
     "status": "completed"
    },
    "tags": []
   },
   "outputs": [
    {
     "data": {
      "text/html": [
       "<div>\n",
       "<style scoped>\n",
       "    .dataframe tbody tr th:only-of-type {\n",
       "        vertical-align: middle;\n",
       "    }\n",
       "\n",
       "    .dataframe tbody tr th {\n",
       "        vertical-align: top;\n",
       "    }\n",
       "\n",
       "    .dataframe thead th {\n",
       "        text-align: right;\n",
       "    }\n",
       "</style>\n",
       "<table border=\"1\" class=\"dataframe\">\n",
       "  <thead>\n",
       "    <tr style=\"text-align: right;\">\n",
       "      <th>states</th>\n",
       "      <th>2020-07-01</th>\n",
       "      <th>2020-07-02</th>\n",
       "      <th>2020-07-03</th>\n",
       "      <th>2020-07-04</th>\n",
       "      <th>2020-07-05</th>\n",
       "      <th>2020-07-06</th>\n",
       "      <th>2020-07-07</th>\n",
       "      <th>2020-07-08</th>\n",
       "      <th>2020-07-09</th>\n",
       "      <th>2020-07-10</th>\n",
       "      <th>...</th>\n",
       "      <th>2020-08-03</th>\n",
       "      <th>2020-08-04</th>\n",
       "      <th>2020-08-05</th>\n",
       "      <th>2020-08-06</th>\n",
       "      <th>2020-08-07</th>\n",
       "      <th>2020-08-08</th>\n",
       "      <th>2020-08-09</th>\n",
       "      <th>2020-08-10</th>\n",
       "      <th>2020-08-11</th>\n",
       "      <th>2020-08-12</th>\n",
       "    </tr>\n",
       "    <tr>\n",
       "      <th>state</th>\n",
       "      <th></th>\n",
       "      <th></th>\n",
       "      <th></th>\n",
       "      <th></th>\n",
       "      <th></th>\n",
       "      <th></th>\n",
       "      <th></th>\n",
       "      <th></th>\n",
       "      <th></th>\n",
       "      <th></th>\n",
       "      <th></th>\n",
       "      <th></th>\n",
       "      <th></th>\n",
       "      <th></th>\n",
       "      <th></th>\n",
       "      <th></th>\n",
       "      <th></th>\n",
       "      <th></th>\n",
       "      <th></th>\n",
       "      <th></th>\n",
       "      <th></th>\n",
       "    </tr>\n",
       "  </thead>\n",
       "  <tbody>\n",
       "    <tr>\n",
       "      <th>Telangana</th>\n",
       "      <td>0</td>\n",
       "      <td>1213</td>\n",
       "      <td>1892</td>\n",
       "      <td>1850</td>\n",
       "      <td>1590</td>\n",
       "      <td>1831</td>\n",
       "      <td>1879</td>\n",
       "      <td>1924</td>\n",
       "      <td>1410</td>\n",
       "      <td>1278</td>\n",
       "      <td>...</td>\n",
       "      <td>983</td>\n",
       "      <td>1286</td>\n",
       "      <td>2012</td>\n",
       "      <td>2092</td>\n",
       "      <td>2207</td>\n",
       "      <td>2256</td>\n",
       "      <td>1982</td>\n",
       "      <td>1256</td>\n",
       "      <td>1896</td>\n",
       "      <td>1897</td>\n",
       "    </tr>\n",
       "    <tr>\n",
       "      <th>Tripura</th>\n",
       "      <td>0</td>\n",
       "      <td>39</td>\n",
       "      <td>93</td>\n",
       "      <td>25</td>\n",
       "      <td>23</td>\n",
       "      <td>111</td>\n",
       "      <td>24</td>\n",
       "      <td>57</td>\n",
       "      <td>16</td>\n",
       "      <td>142</td>\n",
       "      <td>...</td>\n",
       "      <td>0</td>\n",
       "      <td>131</td>\n",
       "      <td>122</td>\n",
       "      <td>98</td>\n",
       "      <td>128</td>\n",
       "      <td>146</td>\n",
       "      <td>147</td>\n",
       "      <td>62</td>\n",
       "      <td>164</td>\n",
       "      <td>110</td>\n",
       "    </tr>\n",
       "    <tr>\n",
       "      <th>Mizoram</th>\n",
       "      <td>0</td>\n",
       "      <td>2</td>\n",
       "      <td>0</td>\n",
       "      <td>2</td>\n",
       "      <td>22</td>\n",
       "      <td>11</td>\n",
       "      <td>1</td>\n",
       "      <td>5</td>\n",
       "      <td>0</td>\n",
       "      <td>23</td>\n",
       "      <td>...</td>\n",
       "      <td>26</td>\n",
       "      <td>6</td>\n",
       "      <td>3</td>\n",
       "      <td>33</td>\n",
       "      <td>21</td>\n",
       "      <td>8</td>\n",
       "      <td>41</td>\n",
       "      <td>12</td>\n",
       "      <td>3</td>\n",
       "      <td>25</td>\n",
       "    </tr>\n",
       "    <tr>\n",
       "      <th>Andaman and Nicobar Islands</th>\n",
       "      <td>0</td>\n",
       "      <td>9</td>\n",
       "      <td>7</td>\n",
       "      <td>3</td>\n",
       "      <td>6</td>\n",
       "      <td>16</td>\n",
       "      <td>6</td>\n",
       "      <td>2</td>\n",
       "      <td>7</td>\n",
       "      <td>0</td>\n",
       "      <td>...</td>\n",
       "      <td>96</td>\n",
       "      <td>98</td>\n",
       "      <td>99</td>\n",
       "      <td>96</td>\n",
       "      <td>99</td>\n",
       "      <td>129</td>\n",
       "      <td>139</td>\n",
       "      <td>135</td>\n",
       "      <td>139</td>\n",
       "      <td>0</td>\n",
       "    </tr>\n",
       "    <tr>\n",
       "      <th>Puducherry</th>\n",
       "      <td>0</td>\n",
       "      <td>63</td>\n",
       "      <td>22</td>\n",
       "      <td>80</td>\n",
       "      <td>42</td>\n",
       "      <td>65</td>\n",
       "      <td>30</td>\n",
       "      <td>110</td>\n",
       "      <td>49</td>\n",
       "      <td>72</td>\n",
       "      <td>...</td>\n",
       "      <td>176</td>\n",
       "      <td>165</td>\n",
       "      <td>286</td>\n",
       "      <td>188</td>\n",
       "      <td>241</td>\n",
       "      <td>261</td>\n",
       "      <td>259</td>\n",
       "      <td>242</td>\n",
       "      <td>276</td>\n",
       "      <td>0</td>\n",
       "    </tr>\n",
       "  </tbody>\n",
       "</table>\n",
       "<p>5 rows × 43 columns</p>\n",
       "</div>"
      ],
      "text/plain": [
       "states                       2020-07-01  2020-07-02  2020-07-03  2020-07-04  \\\n",
       "state                                                                         \n",
       "Telangana                             0        1213        1892        1850   \n",
       "Tripura                               0          39          93          25   \n",
       "Mizoram                               0           2           0           2   \n",
       "Andaman and Nicobar Islands           0           9           7           3   \n",
       "Puducherry                            0          63          22          80   \n",
       "\n",
       "states                       2020-07-05  2020-07-06  2020-07-07  2020-07-08  \\\n",
       "state                                                                         \n",
       "Telangana                          1590        1831        1879        1924   \n",
       "Tripura                              23         111          24          57   \n",
       "Mizoram                              22          11           1           5   \n",
       "Andaman and Nicobar Islands           6          16           6           2   \n",
       "Puducherry                           42          65          30         110   \n",
       "\n",
       "states                       2020-07-09  2020-07-10  ...  2020-08-03  \\\n",
       "state                                                ...               \n",
       "Telangana                          1410        1278  ...         983   \n",
       "Tripura                              16         142  ...           0   \n",
       "Mizoram                               0          23  ...          26   \n",
       "Andaman and Nicobar Islands           7           0  ...          96   \n",
       "Puducherry                           49          72  ...         176   \n",
       "\n",
       "states                       2020-08-04  2020-08-05  2020-08-06  2020-08-07  \\\n",
       "state                                                                         \n",
       "Telangana                          1286        2012        2092        2207   \n",
       "Tripura                             131         122          98         128   \n",
       "Mizoram                               6           3          33          21   \n",
       "Andaman and Nicobar Islands          98          99          96          99   \n",
       "Puducherry                          165         286         188         241   \n",
       "\n",
       "states                       2020-08-08  2020-08-09  2020-08-10  2020-08-11  \\\n",
       "state                                                                         \n",
       "Telangana                          2256        1982        1256        1896   \n",
       "Tripura                             146         147          62         164   \n",
       "Mizoram                               8          41          12           3   \n",
       "Andaman and Nicobar Islands         129         139         135         139   \n",
       "Puducherry                          261         259         242         276   \n",
       "\n",
       "states                       2020-08-12  \n",
       "state                                    \n",
       "Telangana                          1897  \n",
       "Tripura                             110  \n",
       "Mizoram                              25  \n",
       "Andaman and Nicobar Islands           0  \n",
       "Puducherry                            0  \n",
       "\n",
       "[5 rows x 43 columns]"
      ]
     },
     "execution_count": 18,
     "metadata": {},
     "output_type": "execute_result"
    }
   ],
   "source": [
    "#hide\n",
    "dft_ct_new_cases.head()"
   ]
  },
  {
   "cell_type": "code",
   "execution_count": 19,
   "metadata": {
    "execution": {
     "iopub.execute_input": "2020-08-12T05:17:32.424401Z",
     "iopub.status.busy": "2020-08-12T05:17:32.423840Z",
     "iopub.status.idle": "2020-08-12T05:17:35.783466Z",
     "shell.execute_reply": "2020-08-12T05:17:35.783918Z"
    },
    "papermill": {
     "duration": 3.387577,
     "end_time": "2020-08-12T05:17:35.784075",
     "exception": false,
     "start_time": "2020-08-12T05:17:32.396498",
     "status": "completed"
    },
    "tags": []
   },
   "outputs": [
    {
     "data": {
      "image/png": "[encoded data removed]",
      "text/plain": [
       "<Figure size 1296x2016 with 11 Axes>"
      ]
     },
     "metadata": {
      "needs_background": "light"
     },
     "output_type": "display_data"
    }
   ],
   "source": [
    "#hide_input\n",
    "df = dft_ct_new_cases.copy()\n",
    "df.loc['Total'] = df.sum()\n",
    "n = 5\n",
    "ax = []\n",
    "fig = plt.figure(figsize = (18,28))\n",
    "gs = fig.add_gridspec(n+2, 5)\n",
    "# gs = fig.add_gridspec(2, 3)\n",
    "ax1 = fig.add_subplot(gs[0, :])\n",
    "ef = df.loc['Total'].rename_axis('date').reset_index()\n",
    "ef['date'] = ef['date'].astype('datetime64[ns]')\n",
    "ax1.bar(ef.date,ef.Total,alpha=0.3,color='#007acc')\n",
    "ax1.plot(ef.date,ef.Total , marker=\"o\", color='#007acc')\n",
    "ax1.xaxis.set_major_locator(mdates.WeekdayLocator())\n",
    "ax1.xaxis.set_major_formatter(mdates.DateFormatter('%b %d'))\n",
    "ax1.text(0.02, 0.5,'India daily case count', transform = ax1.transAxes, fontsize=25);\n",
    "ax1.spines['right'].set_visible(False)\n",
    "ax1.spines['top'].set_visible(False)\n",
    "\n",
    "ax2 = fig.add_subplot(gs[1,0])\n",
    "ef = df.loc['Maharashtra'].rename_axis('date').reset_index()\n",
    "ef['date'] = ef['date'].astype('datetime64[ns]')\n",
    "\n",
    "ax2.bar(ef.date, ef.Maharashtra,color = '#007acc',alpha=0.5)\n",
    "ax2.xaxis.set_major_locator(mdates.WeekdayLocator())\n",
    "ax2.xaxis.set_major_formatter(mdates.DateFormatter('%b %d'))\n",
    "ax2.set_xticks(ax2.get_xticks()[::3])\n",
    "maxyval = ef.Maharashtra.max()\n",
    "ax2.set_ylim([0,maxyval])\n",
    "ax2.text(0.05, 0.9,'Maharashtra', transform = ax2.transAxes, fontsize=20);\n",
    "ax2.spines['right'].set_visible(False)\n",
    "ax2.spines['top'].set_visible(False)\n",
    "\n",
    "\n",
    "ax3 = fig.add_subplot(gs[1,1])\n",
    "ef = df.loc['Tamil Nadu'].rename_axis('date').reset_index()\n",
    "ef['date'] = ef['date'].astype('datetime64[ns]')\n",
    "ax3.bar(ef.date, ef['Tamil Nadu'],color = '#007acc',alpha=0.5,)\n",
    "ax3.xaxis.set_major_locator(mdates.WeekdayLocator())\n",
    "ax3.xaxis.set_major_formatter(mdates.DateFormatter('%b %d'))\n",
    "ax3.set_xticks(ax3.get_xticks()[::3])\n",
    "ax3.text(0.05, 0.9,'Tamil Nadu', transform = ax3.transAxes, fontsize=20);\n",
    "ax3.spines['right'].set_visible(False)\n",
    "ax3.spines['top'].set_visible(False)\n",
    "\n",
    "ax5 = fig.add_subplot(gs[1,3])\n",
    "ef = df.loc['Telangana'].rename_axis('date').reset_index()\n",
    "ef['date'] = ef['date'].astype('datetime64[ns]')\n",
    "ax5.bar(ef.date, ef['Telangana'],color = '#007acc',alpha=0.5,)\n",
    "ax5.xaxis.set_major_locator(mdates.WeekdayLocator())\n",
    "ax5.xaxis.set_major_formatter(mdates.DateFormatter('%b %d'))\n",
    "ax5.set_xticks(ax5.get_xticks()[::3])\n",
    "ax5.text(0.05, 0.9,'Telangana', transform = ax5.transAxes, fontsize=20);\n",
    "ax5.spines['right'].set_visible(False)\n",
    "ax5.spines['top'].set_visible(False)\n",
    "\n",
    "ax6 = fig.add_subplot(gs[1,4])\n",
    "ef = df.loc['Andhra Pradesh'].rename_axis('date').reset_index()\n",
    "ef['date'] = ef['date'].astype('datetime64[ns]')\n",
    "ax6.bar(ef.date, ef['Andhra Pradesh'],color = '#007acc',alpha=0.5,)\n",
    "ax6.xaxis.set_major_locator(mdates.WeekdayLocator())\n",
    "ax6.xaxis.set_major_formatter(mdates.DateFormatter('%b %d'))\n",
    "ax6.set_xticks(ax6.get_xticks()[::3])\n",
    "ax6.text(0.05, 1,'Andhra Pradesh', transform = ax6.transAxes, fontsize=20);\n",
    "ax6.spines['right'].set_visible(False)\n",
    "ax6.spines['top'].set_visible(False)\n",
    "\n",
    "ax4 = fig.add_subplot(gs[1,2])\n",
    "ef = df.loc['Delhi'].rename_axis('date').reset_index()\n",
    "ef['date'] = ef['date'].astype('datetime64[ns]')\n",
    "ax4.bar(ef.date, ef.Delhi,color = '#007acc',alpha=0.5)\n",
    "ax4.set_xticks([])\n",
    "ax4.xaxis.set_major_locator(mdates.WeekdayLocator())\n",
    "ax4.xaxis.set_major_formatter(mdates.DateFormatter('%b %d'))\n",
    "ax4.set_xticks(ax4.get_xticks()[::3])\n",
    "ax4.spines['right'].set_visible(False)\n",
    "ax4.spines['top'].set_visible(False)\n",
    "\n",
    "ax4.text(0.05, 1,'Delhi', transform = ax4.transAxes, fontsize=20)\n",
    "\n",
    "for i in range(n):\n",
    "    \n",
    "    ax.append(fig.add_subplot(gs[i+2,:]))\n",
    "    ef = df.iloc[i+3].rename_axis('date').reset_index()\n",
    "    ef['date'] = ef['date'].astype('datetime64[ns]')\n",
    "    ax[i].bar(ef.date,ef.iloc[:,-1],color = '#007acc',alpha=0.3)\n",
    "    ax[i].plot(ef.date,ef.iloc[:,-1],marker='o',color='#007acc')\n",
    "    ax[i].text(0.02,0.5,f'{ef.columns.values[-1]}',transform = ax[i].transAxes, fontsize = 20);\n",
    "    ax[i].xaxis.set_major_locator(mdates.WeekdayLocator())\n",
    "    ax[i].xaxis.set_major_formatter(mdates.DateFormatter('%b %d'))\n",
    "    ax[i].set_ylim([0,7000])\n",
    "    ax[i].spines['right'].set_visible(False)\n",
    "    ax[i].spines['top'].set_visible(False)\n",
    "plt.tight_layout()\n"
   ]
  },
  {
   "cell_type": "code",
   "execution_count": 20,
   "metadata": {
    "execution": {
     "iopub.execute_input": "2020-08-12T05:17:35.843168Z",
     "iopub.status.busy": "2020-08-12T05:17:35.842597Z",
     "iopub.status.idle": "2020-08-12T05:17:35.844752Z",
     "shell.execute_reply": "2020-08-12T05:17:35.845361Z"
    },
    "papermill": {
     "duration": 0.028337,
     "end_time": "2020-08-12T05:17:35.845476",
     "exception": false,
     "start_time": "2020-08-12T05:17:35.817139",
     "status": "completed"
    },
    "tags": []
   },
   "outputs": [
    {
     "name": "stdout",
     "output_type": "stream",
     "text": [
      "                                   states   Cases  Deaths  PCases  PDeaths  Cases (+)  Deaths (+)  Fatality Rate\n",
      "                              Maharashtra  535601   18306  535601    18306          0           0           3.42\n",
      "                               Tamil Nadu  308649    5159  308649     5159          0           0           1.67\n",
      "                           Andhra Pradesh  244549    2203  244549     2203          0           0           0.90\n",
      "                                Karnataka  188611    3398  188611     3398          0           0           1.80\n",
      "                                    Delhi  147391    4139  147391     4139          0           0           2.81\n",
      "                            Uttar Pradesh  131763    2176  131763     2176          0           0           1.65\n",
      "                              West Bengal  101390    2149  101390     2149          0           0           2.12\n",
      "                                    Bihar   86812     465   86812      465          0           0           0.54\n",
      "                                Telangana   84544     654   82647      645       1897           9           0.77\n",
      "                                  Gujarat   73238    2695   73238     2695          0           0           3.68\n",
      "                                    Assam   64407     155   64407      155          0           0           0.24\n",
      "                                Rajasthan   54887     811   54887      811          0           0           1.48\n",
      "                                   Odisha   48796     349   48796      349          0           0           0.72\n",
      "                                  Haryana   43227     500   43227      500          0           0           1.16\n",
      "                           Madhya Pradesh   40734    1033   40734     1033          0           0           2.54\n",
      "                                   Kerala   36932     121   36932      121          0           0           0.33\n",
      "                        Jammu and Kashmir   25931     490   25931      490          0           0           1.89\n",
      "                                   Punjab   25889     636   25889      636          0           0           2.46\n",
      "                                Jharkhand   19469     194   19469      194          0           0           1.00\n",
      "                             Chhattisgarh   12985     104   12985      104          0           0           0.80\n",
      "                              Uttarakhand   10432     136   10432      136          0           0           1.30\n",
      "                                      Goa    9444      86    9444       86          0           0           0.91\n",
      "                                  Tripura    6497      43    6387       43        110           0           0.66\n",
      "                               Puducherry    5900      91    5900       91          0           0           1.54\n",
      "                                  Manipur    3941      12    3941       12          0           0           0.30\n",
      "                         Himachal Pradesh    3497      17    3497       17          0           0           0.49\n",
      "                                 Nagaland    3031       7    3031        7          0           0           0.23\n",
      "                        Arunachal Pradesh    2327       3    2327        3          0           0           0.13\n",
      "                                   Ladakh    1770       9    1770        9          0           0           0.51\n",
      "              Andaman and Nicobar Islands    1764      21    1764       21          0           0           1.19\n",
      "                               Chandigarh    1670      26    1670       26          0           0           1.56\n",
      " Dadra and Nagar Haveli and Daman and Diu    1656       2    1656        2          0           0           0.12\n",
      "                                Meghalaya    1142       6    1142        6          0           0           0.53\n",
      "                                   Sikkim     913       1     913        1          0           0           0.11\n",
      "                                  Mizoram     648       0     623        0         25           0           0.00\n",
      "                              Lakshadweep       0       0       0        0          0           0            NaN\n"
     ]
    }
   ],
   "source": [
    "#hide_input\n",
    "print(df_table.to_string(index=False))"
   ]
  },
  {
   "cell_type": "code",
   "execution_count": null,
   "metadata": {
    "papermill": {
     "duration": 0.018643,
     "end_time": "2020-08-12T05:17:35.882473",
     "exception": false,
     "start_time": "2020-08-12T05:17:35.863830",
     "status": "completed"
    },
    "tags": []
   },
   "outputs": [],
   "source": []
  },
  {
   "cell_type": "code",
   "execution_count": null,
   "metadata": {
    "papermill": {
     "duration": 0.018416,
     "end_time": "2020-08-12T05:17:35.919110",
     "exception": false,
     "start_time": "2020-08-12T05:17:35.900694",
     "status": "completed"
    },
    "tags": []
   },
   "outputs": [],
   "source": []
  }
 ],
 "metadata": {
  "kernelspec": {
   "display_name": "Python 3",
   "language": "python",
   "name": "python3"
  },
  "language_info": {
   "codemirror_mode": {
    "name": "ipython",
    "version": 3
   },
   "file_extension": ".py",
   "mimetype": "text/x-python",
   "name": "python",
   "nbconvert_exporter": "python",
   "pygments_lexer": "ipython3",
   "version": "3.6.11"
  },
  "papermill": {
   "duration": 7.741667,
   "end_time": "2020-08-12T05:17:36.244120",
   "environment_variables": {},
   "exception": null,
   "input_path": "latest.ipynb",
   "output_path": "latest.ipynb",
   "parameters": {},
   "start_time": "2020-08-12T05:17:28.502453",
   "version": "2.1.2"
  }
 },
 "nbformat": 4,
 "nbformat_minor": 4
}