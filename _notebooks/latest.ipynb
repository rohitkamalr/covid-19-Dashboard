{
 "cells": [
  {
   "cell_type": "markdown",
   "metadata": {
    "papermill": {
     "duration": 0.019061,
     "end_time": "2020-10-26T14:43:22.455719",
     "exception": false,
     "start_time": "2020-10-26T14:43:22.436658",
     "status": "completed"
    },
    "tags": []
   },
   "source": [
    "# Latest COVID-19 India Matplotlib Overview"
   ]
  },
  {
   "cell_type": "code",
   "execution_count": 1,
   "metadata": {
    "execution": {
     "iopub.execute_input": "2020-10-26T14:43:22.494473Z",
     "iopub.status.busy": "2020-10-26T14:43:22.493653Z",
     "iopub.status.idle": "2020-10-26T14:43:23.073775Z",
     "shell.execute_reply": "2020-10-26T14:43:23.074611Z"
    },
    "papermill": {
     "duration": 0.602402,
     "end_time": "2020-10-26T14:43:23.074779",
     "exception": false,
     "start_time": "2020-10-26T14:43:22.472377",
     "status": "completed"
    },
    "tags": []
   },
   "outputs": [],
   "source": [
    "#hide\n",
    "import pandas as pd\n",
    "import numpy as np\n",
    "import requests\n",
    "import json\n",
    "import matplotlib.pyplot as plt\n",
    "import matplotlib.dates as mdates\n",
    "import matplotlib as mpl\n",
    "from IPython.core.display import display,HTML\n",
    "%matplotlib inline\n",
    "from datetime import date"
   ]
  },
  {
   "cell_type": "code",
   "execution_count": 2,
   "metadata": {
    "execution": {
     "iopub.execute_input": "2020-10-26T14:43:23.113936Z",
     "iopub.status.busy": "2020-10-26T14:43:23.112909Z",
     "iopub.status.idle": "2020-10-26T14:43:23.328492Z",
     "shell.execute_reply": "2020-10-26T14:43:23.327916Z"
    },
    "papermill": {
     "duration": 0.237744,
     "end_time": "2020-10-26T14:43:23.328622",
     "exception": false,
     "start_time": "2020-10-26T14:43:23.090878",
     "status": "completed"
    },
    "tags": []
   },
   "outputs": [],
   "source": [
    "#hide\n",
    "df  = pd.read_csv('https://api.covid19india.org/csv/latest/states.csv')\n",
    "df = df[['Date','State','Confirmed','Deceased']]\n",
    "df = df.rename(columns={'Confirmed':'Cases', \"Deceased\":'Deaths'})\n",
    "df_cases = df[[\"Date\",'State','Cases']]\n",
    "df_deaths = df[['Date','State','Deaths']]\n",
    "df_cases1 = df_cases.groupby('Date')\n",
    "df_deaths1= df_deaths.groupby('Date')"
   ]
  },
  {
   "cell_type": "code",
   "execution_count": 3,
   "metadata": {
    "execution": {
     "iopub.execute_input": "2020-10-26T14:43:23.366105Z",
     "iopub.status.busy": "2020-10-26T14:43:23.365234Z",
     "iopub.status.idle": "2020-10-26T14:43:23.382555Z",
     "shell.execute_reply": "2020-10-26T14:43:23.382960Z"
    },
    "papermill": {
     "duration": 0.038108,
     "end_time": "2020-10-26T14:43:23.383134",
     "exception": false,
     "start_time": "2020-10-26T14:43:23.345026",
     "status": "completed"
    },
    "tags": []
   },
   "outputs": [],
   "source": [
    "#hide\n",
    "df_snap = pd.read_csv('data/SnapshotCases-28-July.csv')\n",
    "arr_states = df_snap['states'].unique()\n",
    "arr_dates = df['Date'].unique()\n",
    "df_snap = df_snap.set_index('states')"
   ]
  },
  {
   "cell_type": "code",
   "execution_count": 4,
   "metadata": {
    "execution": {
     "iopub.execute_input": "2020-10-26T14:43:23.421676Z",
     "iopub.status.busy": "2020-10-26T14:43:23.420997Z",
     "iopub.status.idle": "2020-10-26T14:43:23.423929Z",
     "shell.execute_reply": "2020-10-26T14:43:23.424544Z"
    },
    "papermill": {
     "duration": 0.025081,
     "end_time": "2020-10-26T14:43:23.424669",
     "exception": false,
     "start_time": "2020-10-26T14:43:23.399588",
     "status": "completed"
    },
    "tags": []
   },
   "outputs": [
    {
     "data": {
      "text/plain": [
       "array(['Andaman and Nicobar Islands', 'Andhra Pradesh',\n",
       "       'Arunachal Pradesh', 'Assam', 'Bihar', 'Chandigarh',\n",
       "       'Dadra and Nagar Haveli and Daman and Diu', 'Delhi', 'Goa',\n",
       "       'Gujarat', 'Haryana', 'Himachal Pradesh', 'Jammu and Kashmir',\n",
       "       'Jharkhand', 'Karnataka', 'Kerala', 'Lakshadweep',\n",
       "       'Madhya Pradesh', 'Maharashtra', 'Manipur', 'Meghalaya', 'Mizoram',\n",
       "       'Nagaland', 'Odisha', 'Puducherry', 'Punjab', 'Rajasthan',\n",
       "       'Sikkim', 'Tamil Nadu', 'Telangana', 'Tripura', 'Uttar Pradesh',\n",
       "       'West Bengal', 'Chhattisgarh', 'Ladakh', 'Uttarakhand'],\n",
       "      dtype=object)"
      ]
     },
     "execution_count": 4,
     "metadata": {},
     "output_type": "execute_result"
    }
   ],
   "source": [
    "#hide\n",
    "arr_states[-9] = 'Puducherry'\n",
    "arr_states[-10] = 'Odisha'\n",
    "arr_states[6] = 'Dadra and Nagar Haveli and Daman and Diu'\n",
    "arr_states = np.append(arr_states,np.array(['Chhattisgarh','Ladakh','Uttarakhand']))\n",
    "arr_states"
   ]
  },
  {
   "cell_type": "code",
   "execution_count": 5,
   "metadata": {
    "execution": {
     "iopub.execute_input": "2020-10-26T14:43:23.466791Z",
     "iopub.status.busy": "2020-10-26T14:43:23.464499Z",
     "iopub.status.idle": "2020-10-26T14:43:23.474555Z",
     "shell.execute_reply": "2020-10-26T14:43:23.475248Z"
    },
    "papermill": {
     "duration": 0.034413,
     "end_time": "2020-10-26T14:43:23.475429",
     "exception": false,
     "start_time": "2020-10-26T14:43:23.441016",
     "status": "completed"
    },
    "tags": []
   },
   "outputs": [],
   "source": [
    "#hide\n",
    "dates = []\n",
    "for i in arr_dates:\n",
    "    if i>='2020-07-01':\n",
    "        dates.append(i)\n",
    "dict = {'states':dates}\n",
    "for i in arr_states:\n",
    "    dict[i] = [0]*len(dates)\n",
    "dft_cases = pd.DataFrame(dict)\n",
    "dft_deaths = pd.DataFrame(dict)\n"
   ]
  },
  {
   "cell_type": "code",
   "execution_count": 6,
   "metadata": {
    "execution": {
     "iopub.execute_input": "2020-10-26T14:43:23.511457Z",
     "iopub.status.busy": "2020-10-26T14:43:23.510727Z",
     "iopub.status.idle": "2020-10-26T14:43:25.482110Z",
     "shell.execute_reply": "2020-10-26T14:43:25.481469Z"
    },
    "papermill": {
     "duration": 1.991513,
     "end_time": "2020-10-26T14:43:25.482236",
     "exception": false,
     "start_time": "2020-10-26T14:43:23.490723",
     "status": "completed"
    },
    "tags": []
   },
   "outputs": [],
   "source": [
    "#hide\n",
    "for i in range(len(dates)):\n",
    "    df1_deaths = df_deaths1.get_group(dates[i])\n",
    "    for j in range(len(df1_deaths.index)):\n",
    "        if df1_deaths.iloc[j,1] in arr_states:\n",
    "            dft_deaths.loc[i,df1_deaths.iloc[j,1]] = df1_deaths.iloc[j,2]\n",
    "dft_deaths = dft_deaths.set_index('states')"
   ]
  },
  {
   "cell_type": "code",
   "execution_count": 7,
   "metadata": {
    "execution": {
     "iopub.execute_input": "2020-10-26T14:43:25.526369Z",
     "iopub.status.busy": "2020-10-26T14:43:25.525786Z",
     "iopub.status.idle": "2020-10-26T14:43:27.548058Z",
     "shell.execute_reply": "2020-10-26T14:43:27.547498Z"
    },
    "papermill": {
     "duration": 2.044094,
     "end_time": "2020-10-26T14:43:27.548192",
     "exception": false,
     "start_time": "2020-10-26T14:43:25.504098",
     "status": "completed"
    },
    "tags": []
   },
   "outputs": [],
   "source": [
    "#hide\n",
    "for i in range(len(dates)):\n",
    "    df1_cases = df_cases1.get_group(dates[i])\n",
    "    for j in range(len(df1_cases.index)):\n",
    "        if df1_cases.iloc[j,1] in arr_states:\n",
    "            dft_cases.loc[i,df1_cases.iloc[j,1]] = df1_cases.iloc[j,2]\n",
    "dft_cases = dft_cases.set_index('states')"
   ]
  },
  {
   "cell_type": "code",
   "execution_count": 8,
   "metadata": {
    "execution": {
     "iopub.execute_input": "2020-10-26T14:43:27.586487Z",
     "iopub.status.busy": "2020-10-26T14:43:27.585914Z",
     "iopub.status.idle": "2020-10-26T14:43:27.590059Z",
     "shell.execute_reply": "2020-10-26T14:43:27.589583Z"
    },
    "papermill": {
     "duration": 0.025288,
     "end_time": "2020-10-26T14:43:27.590160",
     "exception": false,
     "start_time": "2020-10-26T14:43:27.564872",
     "status": "completed"
    },
    "tags": []
   },
   "outputs": [],
   "source": [
    "#hide\n",
    "dft_cases = dft_cases.T\n",
    "dft_deaths = dft_deaths.T\n",
    "dt_today = dates[-1]\n",
    "dt_yday = dates[-2]"
   ]
  },
  {
   "cell_type": "code",
   "execution_count": 9,
   "metadata": {
    "execution": {
     "iopub.execute_input": "2020-10-26T14:43:27.640873Z",
     "iopub.status.busy": "2020-10-26T14:43:27.640093Z",
     "iopub.status.idle": "2020-10-26T14:43:27.645458Z",
     "shell.execute_reply": "2020-10-26T14:43:27.644903Z"
    },
    "papermill": {
     "duration": 0.039918,
     "end_time": "2020-10-26T14:43:27.645578",
     "exception": false,
     "start_time": "2020-10-26T14:43:27.605660",
     "status": "completed"
    },
    "tags": []
   },
   "outputs": [],
   "source": [
    "#hide\n",
    "dft_cases = dft_cases.reset_index()\n",
    "dft_deaths = dft_deaths.reset_index()\n",
    "dft_cases = dft_cases.rename(columns = {'index':'state'})\n",
    "dft_deaths = dft_deaths.rename(columns = {'index':'state'})"
   ]
  },
  {
   "cell_type": "code",
   "execution_count": 10,
   "metadata": {
    "execution": {
     "iopub.execute_input": "2020-10-26T14:43:27.686150Z",
     "iopub.status.busy": "2020-10-26T14:43:27.685541Z",
     "iopub.status.idle": "2020-10-26T14:43:27.692627Z",
     "shell.execute_reply": "2020-10-26T14:43:27.692032Z"
    },
    "papermill": {
     "duration": 0.030791,
     "end_time": "2020-10-26T14:43:27.692815",
     "exception": false,
     "start_time": "2020-10-26T14:43:27.662024",
     "status": "completed"
    },
    "tags": []
   },
   "outputs": [],
   "source": [
    "#hide\n",
    "dfc_cases = dft_cases.groupby('state')[dt_today].sum()\n",
    "dfc_deaths = dft_deaths.groupby('state')[dt_today].sum()\n",
    "dfp_cases = dft_cases.groupby('state')[dt_yday].sum()\n",
    "dfp_deaths = dft_deaths.groupby('state')[dt_yday].sum()"
   ]
  },
  {
   "cell_type": "code",
   "execution_count": 11,
   "metadata": {
    "execution": {
     "iopub.execute_input": "2020-10-26T14:43:27.734579Z",
     "iopub.status.busy": "2020-10-26T14:43:27.733918Z",
     "iopub.status.idle": "2020-10-26T14:43:27.749105Z",
     "shell.execute_reply": "2020-10-26T14:43:27.748428Z"
    },
    "papermill": {
     "duration": 0.039678,
     "end_time": "2020-10-26T14:43:27.749272",
     "exception": false,
     "start_time": "2020-10-26T14:43:27.709594",
     "status": "completed"
    },
    "tags": []
   },
   "outputs": [
    {
     "data": {
      "text/html": [
       "<div>\n",
       "<style scoped>\n",
       "    .dataframe tbody tr th:only-of-type {\n",
       "        vertical-align: middle;\n",
       "    }\n",
       "\n",
       "    .dataframe tbody tr th {\n",
       "        vertical-align: top;\n",
       "    }\n",
       "\n",
       "    .dataframe thead th {\n",
       "        text-align: right;\n",
       "    }\n",
       "</style>\n",
       "<table border=\"1\" class=\"dataframe\">\n",
       "  <thead>\n",
       "    <tr style=\"text-align: right;\">\n",
       "      <th></th>\n",
       "      <th>states</th>\n",
       "      <th>Cases</th>\n",
       "      <th>Deaths</th>\n",
       "      <th>PCases</th>\n",
       "      <th>PDeaths</th>\n",
       "    </tr>\n",
       "  </thead>\n",
       "  <tbody>\n",
       "    <tr>\n",
       "      <th>0</th>\n",
       "      <td>Maharashtra</td>\n",
       "      <td>1645020</td>\n",
       "      <td>43264</td>\n",
       "      <td>1645020</td>\n",
       "      <td>43264</td>\n",
       "    </tr>\n",
       "    <tr>\n",
       "      <th>1</th>\n",
       "      <td>Andhra Pradesh</td>\n",
       "      <td>807023</td>\n",
       "      <td>6587</td>\n",
       "      <td>807023</td>\n",
       "      <td>6587</td>\n",
       "    </tr>\n",
       "    <tr>\n",
       "      <th>2</th>\n",
       "      <td>Karnataka</td>\n",
       "      <td>802817</td>\n",
       "      <td>10905</td>\n",
       "      <td>802817</td>\n",
       "      <td>10905</td>\n",
       "    </tr>\n",
       "    <tr>\n",
       "      <th>3</th>\n",
       "      <td>Tamil Nadu</td>\n",
       "      <td>709005</td>\n",
       "      <td>10924</td>\n",
       "      <td>709005</td>\n",
       "      <td>10924</td>\n",
       "    </tr>\n",
       "    <tr>\n",
       "      <th>4</th>\n",
       "      <td>Uttar Pradesh</td>\n",
       "      <td>470270</td>\n",
       "      <td>6882</td>\n",
       "      <td>470270</td>\n",
       "      <td>6882</td>\n",
       "    </tr>\n",
       "  </tbody>\n",
       "</table>\n",
       "</div>"
      ],
      "text/plain": [
       "           states    Cases  Deaths   PCases  PDeaths\n",
       "0     Maharashtra  1645020   43264  1645020    43264\n",
       "1  Andhra Pradesh   807023    6587   807023     6587\n",
       "2       Karnataka   802817   10905   802817    10905\n",
       "3      Tamil Nadu   709005   10924   709005    10924\n",
       "4   Uttar Pradesh   470270    6882   470270     6882"
      ]
     },
     "execution_count": 11,
     "metadata": {},
     "output_type": "execute_result"
    }
   ],
   "source": [
    "#hide\n",
    "df_table = pd.DataFrame({'states': dfc_cases.index, 'Cases': dfc_cases.values, 'Deaths': dfc_deaths.values, 'PCases': dfp_cases.values, 'PDeaths': dfp_deaths.values}).set_index('states')\n",
    "df_table = df_table.sort_values(by = ['Cases','Deaths'], ascending = [False, False])\n",
    "df_table = df_table.reset_index()\n",
    "df_table.head()"
   ]
  },
  {
   "cell_type": "code",
   "execution_count": 12,
   "metadata": {
    "execution": {
     "iopub.execute_input": "2020-10-26T14:43:27.789997Z",
     "iopub.status.busy": "2020-10-26T14:43:27.789178Z",
     "iopub.status.idle": "2020-10-26T14:43:27.798454Z",
     "shell.execute_reply": "2020-10-26T14:43:27.798999Z"
    },
    "papermill": {
     "duration": 0.032096,
     "end_time": "2020-10-26T14:43:27.799142",
     "exception": false,
     "start_time": "2020-10-26T14:43:27.767046",
     "status": "completed"
    },
    "tags": []
   },
   "outputs": [],
   "source": [
    "#hide\n",
    "for c in 'Cases, Deaths'.split(', '):\n",
    "    df_table[f'{c} (+)'] = (df_table[c] - df_table[f'P{c}']).clip(0)\n",
    "df_table['Fatality Rate'] = (100* df_table['Deaths']/ df_table['Cases']).round(2)"
   ]
  },
  {
   "cell_type": "code",
   "execution_count": 13,
   "metadata": {
    "execution": {
     "iopub.execute_input": "2020-10-26T14:43:27.843132Z",
     "iopub.status.busy": "2020-10-26T14:43:27.842397Z",
     "iopub.status.idle": "2020-10-26T14:43:27.846097Z",
     "shell.execute_reply": "2020-10-26T14:43:27.845536Z"
    },
    "papermill": {
     "duration": 0.030517,
     "end_time": "2020-10-26T14:43:27.846204",
     "exception": false,
     "start_time": "2020-10-26T14:43:27.815687",
     "status": "completed"
    },
    "tags": []
   },
   "outputs": [
    {
     "data": {
      "text/html": [
       "<div>\n",
       "<style scoped>\n",
       "    .dataframe tbody tr th:only-of-type {\n",
       "        vertical-align: middle;\n",
       "    }\n",
       "\n",
       "    .dataframe tbody tr th {\n",
       "        vertical-align: top;\n",
       "    }\n",
       "\n",
       "    .dataframe thead th {\n",
       "        text-align: right;\n",
       "    }\n",
       "</style>\n",
       "<table border=\"1\" class=\"dataframe\">\n",
       "  <thead>\n",
       "    <tr style=\"text-align: right;\">\n",
       "      <th></th>\n",
       "      <th>states</th>\n",
       "      <th>Cases</th>\n",
       "      <th>Deaths</th>\n",
       "      <th>PCases</th>\n",
       "      <th>PDeaths</th>\n",
       "      <th>Cases (+)</th>\n",
       "      <th>Deaths (+)</th>\n",
       "      <th>Fatality Rate</th>\n",
       "    </tr>\n",
       "  </thead>\n",
       "  <tbody>\n",
       "    <tr>\n",
       "      <th>0</th>\n",
       "      <td>Maharashtra</td>\n",
       "      <td>1645020</td>\n",
       "      <td>43264</td>\n",
       "      <td>1645020</td>\n",
       "      <td>43264</td>\n",
       "      <td>0</td>\n",
       "      <td>0</td>\n",
       "      <td>2.63</td>\n",
       "    </tr>\n",
       "    <tr>\n",
       "      <th>1</th>\n",
       "      <td>Andhra Pradesh</td>\n",
       "      <td>807023</td>\n",
       "      <td>6587</td>\n",
       "      <td>807023</td>\n",
       "      <td>6587</td>\n",
       "      <td>0</td>\n",
       "      <td>0</td>\n",
       "      <td>0.82</td>\n",
       "    </tr>\n",
       "    <tr>\n",
       "      <th>2</th>\n",
       "      <td>Karnataka</td>\n",
       "      <td>802817</td>\n",
       "      <td>10905</td>\n",
       "      <td>802817</td>\n",
       "      <td>10905</td>\n",
       "      <td>0</td>\n",
       "      <td>0</td>\n",
       "      <td>1.36</td>\n",
       "    </tr>\n",
       "    <tr>\n",
       "      <th>3</th>\n",
       "      <td>Tamil Nadu</td>\n",
       "      <td>709005</td>\n",
       "      <td>10924</td>\n",
       "      <td>709005</td>\n",
       "      <td>10924</td>\n",
       "      <td>0</td>\n",
       "      <td>0</td>\n",
       "      <td>1.54</td>\n",
       "    </tr>\n",
       "    <tr>\n",
       "      <th>4</th>\n",
       "      <td>Uttar Pradesh</td>\n",
       "      <td>470270</td>\n",
       "      <td>6882</td>\n",
       "      <td>470270</td>\n",
       "      <td>6882</td>\n",
       "      <td>0</td>\n",
       "      <td>0</td>\n",
       "      <td>1.46</td>\n",
       "    </tr>\n",
       "  </tbody>\n",
       "</table>\n",
       "</div>"
      ],
      "text/plain": [
       "           states    Cases  Deaths   PCases  PDeaths  Cases (+)  Deaths (+)  \\\n",
       "0     Maharashtra  1645020   43264  1645020    43264          0           0   \n",
       "1  Andhra Pradesh   807023    6587   807023     6587          0           0   \n",
       "2       Karnataka   802817   10905   802817    10905          0           0   \n",
       "3      Tamil Nadu   709005   10924   709005    10924          0           0   \n",
       "4   Uttar Pradesh   470270    6882   470270     6882          0           0   \n",
       "\n",
       "   Fatality Rate  \n",
       "0           2.63  \n",
       "1           0.82  \n",
       "2           1.36  \n",
       "3           1.54  \n",
       "4           1.46  "
      ]
     },
     "execution_count": 13,
     "metadata": {},
     "output_type": "execute_result"
    }
   ],
   "source": [
    "#hide\n",
    "df_table.head()"
   ]
  },
  {
   "cell_type": "code",
   "execution_count": 14,
   "metadata": {
    "execution": {
     "iopub.execute_input": "2020-10-26T14:43:27.887477Z",
     "iopub.status.busy": "2020-10-26T14:43:27.886840Z",
     "iopub.status.idle": "2020-10-26T14:43:27.903635Z",
     "shell.execute_reply": "2020-10-26T14:43:27.904153Z"
    },
    "papermill": {
     "duration": 0.039555,
     "end_time": "2020-10-26T14:43:27.904277",
     "exception": false,
     "start_time": "2020-10-26T14:43:27.864722",
     "status": "completed"
    },
    "tags": []
   },
   "outputs": [
    {
     "data": {
      "text/plain": [
       "{'updated': '2020-10-26',\n",
       " 'since': '2020-10-25',\n",
       " 'Cases': 7913026,\n",
       " 'PCases': 7909624,\n",
       " 'Deaths': 119081,\n",
       " 'PDeaths': 119043,\n",
       " 'Cases (+)': 3402,\n",
       " 'Deaths (+)': 38}"
      ]
     },
     "execution_count": 14,
     "metadata": {},
     "output_type": "execute_result"
    }
   ],
   "source": [
    "#hide\n",
    "summary = {'updated':dates[-1], 'since':dates[-2]}\n",
    "list_names = ['Cases', 'PCases', 'Deaths', 'PDeaths', 'Cases (+)', 'Deaths (+)']\n",
    "for name in list_names:\n",
    "    summary[name] = df_table.sum()[name]\n",
    "summary"
   ]
  },
  {
   "cell_type": "code",
   "execution_count": 15,
   "metadata": {
    "execution": {
     "iopub.execute_input": "2020-10-26T14:43:27.942260Z",
     "iopub.status.busy": "2020-10-26T14:43:27.941619Z",
     "iopub.status.idle": "2020-10-26T14:43:27.944648Z",
     "shell.execute_reply": "2020-10-26T14:43:27.943921Z"
    },
    "papermill": {
     "duration": 0.02344,
     "end_time": "2020-10-26T14:43:27.944778",
     "exception": false,
     "start_time": "2020-10-26T14:43:27.921338",
     "status": "completed"
    },
    "tags": []
   },
   "outputs": [],
   "source": [
    "#hide\n",
    "overview = '''\n",
    "<!-- #######  HTML!! #########-->\n",
    "<h1 style=\"color: #5e9ca0; text-align: center;\">India</h1>\n",
    "<p style=\"text-align: center;\">Last update: <strong>{update}</strong></p>\n",
    "<p style=\"text-align: center;\">Confirmed cases:</p>\n",
    "<p style=\"text-align: center;font-size:24px;\">{cases} (<span style=\"color: #ff0000;\">+{new}</span>)</p>\n",
    "<p style=\"text-align: center;\">Confirmed deaths:</p>\n",
    "<p style=\"text-align: center;font-size:24px;\">{deaths} (<span style=\"color: #ff0000;\">+{dnew}</span>)</p>\n",
    "'''"
   ]
  },
  {
   "cell_type": "code",
   "execution_count": 16,
   "metadata": {
    "execution": {
     "iopub.execute_input": "2020-10-26T14:43:27.985075Z",
     "iopub.status.busy": "2020-10-26T14:43:27.984359Z",
     "iopub.status.idle": "2020-10-26T14:43:27.987630Z",
     "shell.execute_reply": "2020-10-26T14:43:27.987024Z"
    },
    "papermill": {
     "duration": 0.02587,
     "end_time": "2020-10-26T14:43:27.987741",
     "exception": false,
     "start_time": "2020-10-26T14:43:27.961871",
     "status": "completed"
    },
    "tags": []
   },
   "outputs": [
    {
     "data": {
      "text/html": [
       "\n",
       "<!-- #######  HTML!! #########-->\n",
       "<h1 style=\"color: #5e9ca0; text-align: center;\">India</h1>\n",
       "<p style=\"text-align: center;\">Last update: <strong>2020-10-26</strong></p>\n",
       "<p style=\"text-align: center;\">Confirmed cases:</p>\n",
       "<p style=\"text-align: center;font-size:24px;\">7913026 (<span style=\"color: #ff0000;\">+3402</span>)</p>\n",
       "<p style=\"text-align: center;\">Confirmed deaths:</p>\n",
       "<p style=\"text-align: center;font-size:24px;\">119081 (<span style=\"color: #ff0000;\">+38</span>)</p>\n"
      ],
      "text/plain": [
       "<IPython.core.display.HTML object>"
      ]
     },
     "metadata": {},
     "output_type": "display_data"
    }
   ],
   "source": [
    "#hide_input\n",
    "update = summary['updated']\n",
    "cases = summary['Cases']\n",
    "new = summary['Cases (+)']\n",
    "deaths = summary['Deaths']\n",
    "dnew = summary['Deaths (+)']\n",
    "\n",
    "html = HTML(overview.format(update=update, cases=cases,new=new,deaths=deaths,dnew=dnew))\n",
    "\n",
    "display(html)"
   ]
  },
  {
   "cell_type": "code",
   "execution_count": 17,
   "metadata": {
    "execution": {
     "iopub.execute_input": "2020-10-26T14:43:28.031363Z",
     "iopub.status.busy": "2020-10-26T14:43:28.030697Z",
     "iopub.status.idle": "2020-10-26T14:43:28.035833Z",
     "shell.execute_reply": "2020-10-26T14:43:28.036298Z"
    },
    "papermill": {
     "duration": 0.03096,
     "end_time": "2020-10-26T14:43:28.036418",
     "exception": false,
     "start_time": "2020-10-26T14:43:28.005458",
     "status": "completed"
    },
    "tags": []
   },
   "outputs": [],
   "source": [
    "#hide\n",
    "dt_cols = list(dft_cases.columns[1:])\n",
    "dft_ct_new_cases = dft_cases.groupby('state')[dt_cols].sum().diff(axis=1).fillna(0).astype(int)\n",
    "dft_ct_new_cases.sort_values(by = dates[-1], ascending = False,inplace = True)"
   ]
  },
  {
   "cell_type": "code",
   "execution_count": 18,
   "metadata": {
    "execution": {
     "iopub.execute_input": "2020-10-26T14:43:28.093396Z",
     "iopub.status.busy": "2020-10-26T14:43:28.092732Z",
     "iopub.status.idle": "2020-10-26T14:43:28.095670Z",
     "shell.execute_reply": "2020-10-26T14:43:28.096165Z"
    },
    "papermill": {
     "duration": 0.042869,
     "end_time": "2020-10-26T14:43:28.096353",
     "exception": false,
     "start_time": "2020-10-26T14:43:28.053484",
     "status": "completed"
    },
    "tags": []
   },
   "outputs": [
    {
     "data": {
      "text/html": [
       "<div>\n",
       "<style scoped>\n",
       "    .dataframe tbody tr th:only-of-type {\n",
       "        vertical-align: middle;\n",
       "    }\n",
       "\n",
       "    .dataframe tbody tr th {\n",
       "        vertical-align: top;\n",
       "    }\n",
       "\n",
       "    .dataframe thead th {\n",
       "        text-align: right;\n",
       "    }\n",
       "</style>\n",
       "<table border=\"1\" class=\"dataframe\">\n",
       "  <thead>\n",
       "    <tr style=\"text-align: right;\">\n",
       "      <th>states</th>\n",
       "      <th>2020-07-01</th>\n",
       "      <th>2020-07-02</th>\n",
       "      <th>2020-07-03</th>\n",
       "      <th>2020-07-04</th>\n",
       "      <th>2020-07-05</th>\n",
       "      <th>2020-07-06</th>\n",
       "      <th>2020-07-07</th>\n",
       "      <th>2020-07-08</th>\n",
       "      <th>2020-07-09</th>\n",
       "      <th>2020-07-10</th>\n",
       "      <th>...</th>\n",
       "      <th>2020-10-17</th>\n",
       "      <th>2020-10-18</th>\n",
       "      <th>2020-10-19</th>\n",
       "      <th>2020-10-20</th>\n",
       "      <th>2020-10-21</th>\n",
       "      <th>2020-10-22</th>\n",
       "      <th>2020-10-23</th>\n",
       "      <th>2020-10-24</th>\n",
       "      <th>2020-10-25</th>\n",
       "      <th>2020-10-26</th>\n",
       "    </tr>\n",
       "    <tr>\n",
       "      <th>state</th>\n",
       "      <th></th>\n",
       "      <th></th>\n",
       "      <th></th>\n",
       "      <th></th>\n",
       "      <th></th>\n",
       "      <th></th>\n",
       "      <th></th>\n",
       "      <th></th>\n",
       "      <th></th>\n",
       "      <th></th>\n",
       "      <th></th>\n",
       "      <th></th>\n",
       "      <th></th>\n",
       "      <th></th>\n",
       "      <th></th>\n",
       "      <th></th>\n",
       "      <th></th>\n",
       "      <th></th>\n",
       "      <th></th>\n",
       "      <th></th>\n",
       "      <th></th>\n",
       "    </tr>\n",
       "  </thead>\n",
       "  <tbody>\n",
       "    <tr>\n",
       "      <th>Odisha</th>\n",
       "      <td>0</td>\n",
       "      <td>229</td>\n",
       "      <td>561</td>\n",
       "      <td>495</td>\n",
       "      <td>469</td>\n",
       "      <td>456</td>\n",
       "      <td>571</td>\n",
       "      <td>527</td>\n",
       "      <td>577</td>\n",
       "      <td>755</td>\n",
       "      <td>...</td>\n",
       "      <td>2196</td>\n",
       "      <td>2019</td>\n",
       "      <td>1982</td>\n",
       "      <td>1904</td>\n",
       "      <td>1931</td>\n",
       "      <td>1913</td>\n",
       "      <td>1793</td>\n",
       "      <td>1695</td>\n",
       "      <td>1633</td>\n",
       "      <td>1480</td>\n",
       "    </tr>\n",
       "    <tr>\n",
       "      <th>Haryana</th>\n",
       "      <td>0</td>\n",
       "      <td>568</td>\n",
       "      <td>494</td>\n",
       "      <td>545</td>\n",
       "      <td>457</td>\n",
       "      <td>499</td>\n",
       "      <td>495</td>\n",
       "      <td>691</td>\n",
       "      <td>674</td>\n",
       "      <td>570</td>\n",
       "      <td>...</td>\n",
       "      <td>1148</td>\n",
       "      <td>952</td>\n",
       "      <td>1201</td>\n",
       "      <td>940</td>\n",
       "      <td>1193</td>\n",
       "      <td>1128</td>\n",
       "      <td>1270</td>\n",
       "      <td>1299</td>\n",
       "      <td>1240</td>\n",
       "      <td>1153</td>\n",
       "    </tr>\n",
       "    <tr>\n",
       "      <th>Punjab</th>\n",
       "      <td>0</td>\n",
       "      <td>116</td>\n",
       "      <td>153</td>\n",
       "      <td>172</td>\n",
       "      <td>174</td>\n",
       "      <td>208</td>\n",
       "      <td>258</td>\n",
       "      <td>158</td>\n",
       "      <td>233</td>\n",
       "      <td>217</td>\n",
       "      <td>...</td>\n",
       "      <td>417</td>\n",
       "      <td>476</td>\n",
       "      <td>473</td>\n",
       "      <td>487</td>\n",
       "      <td>498</td>\n",
       "      <td>605</td>\n",
       "      <td>464</td>\n",
       "      <td>483</td>\n",
       "      <td>415</td>\n",
       "      <td>336</td>\n",
       "    </tr>\n",
       "    <tr>\n",
       "      <th>Goa</th>\n",
       "      <td>0</td>\n",
       "      <td>95</td>\n",
       "      <td>94</td>\n",
       "      <td>108</td>\n",
       "      <td>77</td>\n",
       "      <td>52</td>\n",
       "      <td>90</td>\n",
       "      <td>136</td>\n",
       "      <td>112</td>\n",
       "      <td>100</td>\n",
       "      <td>...</td>\n",
       "      <td>309</td>\n",
       "      <td>187</td>\n",
       "      <td>159</td>\n",
       "      <td>285</td>\n",
       "      <td>308</td>\n",
       "      <td>247</td>\n",
       "      <td>227</td>\n",
       "      <td>218</td>\n",
       "      <td>211</td>\n",
       "      <td>290</td>\n",
       "    </tr>\n",
       "    <tr>\n",
       "      <th>Puducherry</th>\n",
       "      <td>0</td>\n",
       "      <td>63</td>\n",
       "      <td>22</td>\n",
       "      <td>80</td>\n",
       "      <td>42</td>\n",
       "      <td>65</td>\n",
       "      <td>30</td>\n",
       "      <td>110</td>\n",
       "      <td>49</td>\n",
       "      <td>72</td>\n",
       "      <td>...</td>\n",
       "      <td>212</td>\n",
       "      <td>163</td>\n",
       "      <td>106</td>\n",
       "      <td>205</td>\n",
       "      <td>170</td>\n",
       "      <td>210</td>\n",
       "      <td>154</td>\n",
       "      <td>126</td>\n",
       "      <td>81</td>\n",
       "      <td>143</td>\n",
       "    </tr>\n",
       "  </tbody>\n",
       "</table>\n",
       "<p>5 rows × 118 columns</p>\n",
       "</div>"
      ],
      "text/plain": [
       "states      2020-07-01  2020-07-02  2020-07-03  2020-07-04  2020-07-05  \\\n",
       "state                                                                    \n",
       "Odisha               0         229         561         495         469   \n",
       "Haryana              0         568         494         545         457   \n",
       "Punjab               0         116         153         172         174   \n",
       "Goa                  0          95          94         108          77   \n",
       "Puducherry           0          63          22          80          42   \n",
       "\n",
       "states      2020-07-06  2020-07-07  2020-07-08  2020-07-09  2020-07-10  ...  \\\n",
       "state                                                                   ...   \n",
       "Odisha             456         571         527         577         755  ...   \n",
       "Haryana            499         495         691         674         570  ...   \n",
       "Punjab             208         258         158         233         217  ...   \n",
       "Goa                 52          90         136         112         100  ...   \n",
       "Puducherry          65          30         110          49          72  ...   \n",
       "\n",
       "states      2020-10-17  2020-10-18  2020-10-19  2020-10-20  2020-10-21  \\\n",
       "state                                                                    \n",
       "Odisha            2196        2019        1982        1904        1931   \n",
       "Haryana           1148         952        1201         940        1193   \n",
       "Punjab             417         476         473         487         498   \n",
       "Goa                309         187         159         285         308   \n",
       "Puducherry         212         163         106         205         170   \n",
       "\n",
       "states      2020-10-22  2020-10-23  2020-10-24  2020-10-25  2020-10-26  \n",
       "state                                                                   \n",
       "Odisha            1913        1793        1695        1633        1480  \n",
       "Haryana           1128        1270        1299        1240        1153  \n",
       "Punjab             605         464         483         415         336  \n",
       "Goa                247         227         218         211         290  \n",
       "Puducherry         210         154         126          81         143  \n",
       "\n",
       "[5 rows x 118 columns]"
      ]
     },
     "execution_count": 18,
     "metadata": {},
     "output_type": "execute_result"
    }
   ],
   "source": [
    "#hide\n",
    "dft_ct_new_cases.head()"
   ]
  },
  {
   "cell_type": "code",
   "execution_count": 19,
   "metadata": {
    "execution": {
     "iopub.execute_input": "2020-10-26T14:43:28.152915Z",
     "iopub.status.busy": "2020-10-26T14:43:28.141494Z",
     "iopub.status.idle": "2020-10-26T14:43:33.509788Z",
     "shell.execute_reply": "2020-10-26T14:43:33.510235Z"
    },
    "papermill": {
     "duration": 5.395455,
     "end_time": "2020-10-26T14:43:33.510473",
     "exception": false,
     "start_time": "2020-10-26T14:43:28.115018",
     "status": "completed"
    },
    "tags": []
   },
   "outputs": [
    {
     "data": {
      "image/png": "[encoded data removed]",
      "text/plain": [
       "<Figure size 1296x2016 with 11 Axes>"
      ]
     },
     "metadata": {
      "needs_background": "light"
     },
     "output_type": "display_data"
    }
   ],
   "source": [
    "#hide_input\n",
    "df = dft_ct_new_cases.copy()\n",
    "df.loc['Total'] = df.sum()\n",
    "n = 5\n",
    "ax = []\n",
    "fig = plt.figure(figsize = (18,28))\n",
    "gs = fig.add_gridspec(n+2, 5)\n",
    "# gs = fig.add_gridspec(2, 3)\n",
    "ax1 = fig.add_subplot(gs[0, :])\n",
    "ef = df.loc['Total'].rename_axis('date').reset_index()\n",
    "ef['date'] = ef['date'].astype('datetime64[ns]')\n",
    "ax1.bar(ef.date,ef.Total,alpha=0.3,color='#007acc')\n",
    "ax1.plot(ef.date,ef.Total , marker=\"o\", color='#007acc')\n",
    "ax1.xaxis.set_major_locator(mdates.WeekdayLocator())\n",
    "ax1.xaxis.set_major_formatter(mdates.DateFormatter('%b %d'))\n",
    "ax1.text(0.02, 0.5,'India daily case count', transform = ax1.transAxes, fontsize=25);\n",
    "ax1.spines['right'].set_visible(False)\n",
    "ax1.spines['top'].set_visible(False)\n",
    "\n",
    "ax2 = fig.add_subplot(gs[1,0])\n",
    "ef = df.loc['Maharashtra'].rename_axis('date').reset_index()\n",
    "ef['date'] = ef['date'].astype('datetime64[ns]')\n",
    "\n",
    "ax2.bar(ef.date, ef.Maharashtra,color = '#007acc',alpha=0.5)\n",
    "ax2.xaxis.set_major_locator(mdates.WeekdayLocator())\n",
    "ax2.xaxis.set_major_formatter(mdates.DateFormatter('%b %d'))\n",
    "ax2.set_xticks(ax2.get_xticks()[::3])\n",
    "maxyval = ef.Maharashtra.max()\n",
    "ax2.set_ylim([0,maxyval])\n",
    "ax2.text(0.05, 0.9,'Maharashtra', transform = ax2.transAxes, fontsize=20);\n",
    "ax2.spines['right'].set_visible(False)\n",
    "ax2.spines['top'].set_visible(False)\n",
    "\n",
    "\n",
    "ax3 = fig.add_subplot(gs[1,1])\n",
    "ef = df.loc['Tamil Nadu'].rename_axis('date').reset_index()\n",
    "ef['date'] = ef['date'].astype('datetime64[ns]')\n",
    "ax3.bar(ef.date, ef['Tamil Nadu'],color = '#007acc',alpha=0.5,)\n",
    "ax3.xaxis.set_major_locator(mdates.WeekdayLocator())\n",
    "ax3.xaxis.set_major_formatter(mdates.DateFormatter('%b %d'))\n",
    "ax3.set_xticks(ax3.get_xticks()[::3])\n",
    "ax3.text(0.05, 0.9,'Tamil Nadu', transform = ax3.transAxes, fontsize=20);\n",
    "ax3.spines['right'].set_visible(False)\n",
    "ax3.spines['top'].set_visible(False)\n",
    "\n",
    "ax5 = fig.add_subplot(gs[1,3])\n",
    "ef = df.loc['Telangana'].rename_axis('date').reset_index()\n",
    "ef['date'] = ef['date'].astype('datetime64[ns]')\n",
    "ax5.bar(ef.date, ef['Telangana'],color = '#007acc',alpha=0.5,)\n",
    "ax5.xaxis.set_major_locator(mdates.WeekdayLocator())\n",
    "ax5.xaxis.set_major_formatter(mdates.DateFormatter('%b %d'))\n",
    "ax5.set_xticks(ax5.get_xticks()[::3])\n",
    "ax5.text(0.05, 0.9,'Telangana', transform = ax5.transAxes, fontsize=20);\n",
    "ax5.spines['right'].set_visible(False)\n",
    "ax5.spines['top'].set_visible(False)\n",
    "\n",
    "ax6 = fig.add_subplot(gs[1,4])\n",
    "ef = df.loc['Andhra Pradesh'].rename_axis('date').reset_index()\n",
    "ef['date'] = ef['date'].astype('datetime64[ns]')\n",
    "ax6.bar(ef.date, ef['Andhra Pradesh'],color = '#007acc',alpha=0.5,)\n",
    "ax6.xaxis.set_major_locator(mdates.WeekdayLocator())\n",
    "ax6.xaxis.set_major_formatter(mdates.DateFormatter('%b %d'))\n",
    "ax6.set_xticks(ax6.get_xticks()[::3])\n",
    "ax6.text(0.05, 1,'Andhra Pradesh', transform = ax6.transAxes, fontsize=20);\n",
    "ax6.spines['right'].set_visible(False)\n",
    "ax6.spines['top'].set_visible(False)\n",
    "\n",
    "ax4 = fig.add_subplot(gs[1,2])\n",
    "ef = df.loc['Delhi'].rename_axis('date').reset_index()\n",
    "ef['date'] = ef['date'].astype('datetime64[ns]')\n",
    "ax4.bar(ef.date, ef.Delhi,color = '#007acc',alpha=0.5)\n",
    "ax4.set_xticks([])\n",
    "ax4.xaxis.set_major_locator(mdates.WeekdayLocator())\n",
    "ax4.xaxis.set_major_formatter(mdates.DateFormatter('%b %d'))\n",
    "ax4.set_xticks(ax4.get_xticks()[::3])\n",
    "ax4.spines['right'].set_visible(False)\n",
    "ax4.spines['top'].set_visible(False)\n",
    "\n",
    "ax4.text(0.05, 1,'Delhi', transform = ax4.transAxes, fontsize=20)\n",
    "\n",
    "for i in range(n):\n",
    "    \n",
    "    ax.append(fig.add_subplot(gs[i+2,:]))\n",
    "    ef = df.iloc[i+3].rename_axis('date').reset_index()\n",
    "    ef['date'] = ef['date'].astype('datetime64[ns]')\n",
    "    ax[i].bar(ef.date,ef.iloc[:,-1],color = '#007acc',alpha=0.3)\n",
    "    ax[i].plot(ef.date,ef.iloc[:,-1],marker='o',color='#007acc')\n",
    "    ax[i].text(0.02,0.5,f'{ef.columns.values[-1]}',transform = ax[i].transAxes, fontsize = 20);\n",
    "    ax[i].xaxis.set_major_locator(mdates.WeekdayLocator())\n",
    "    ax[i].xaxis.set_major_formatter(mdates.DateFormatter('%b %d'))\n",
    "    ax[i].set_ylim([0,7000])\n",
    "    ax[i].spines['right'].set_visible(False)\n",
    "    ax[i].spines['top'].set_visible(False)\n",
    "plt.tight_layout()\n"
   ]
  },
  {
   "cell_type": "code",
   "execution_count": 20,
   "metadata": {
    "execution": {
     "iopub.execute_input": "2020-10-26T14:43:33.564271Z",
     "iopub.status.busy": "2020-10-26T14:43:33.563557Z",
     "iopub.status.idle": "2020-10-26T14:43:33.567777Z",
     "shell.execute_reply": "2020-10-26T14:43:33.568620Z"
    },
    "papermill": {
     "duration": 0.035436,
     "end_time": "2020-10-26T14:43:33.568920",
     "exception": false,
     "start_time": "2020-10-26T14:43:33.533484",
     "status": "completed"
    },
    "tags": []
   },
   "outputs": [
    {
     "name": "stdout",
     "output_type": "stream",
     "text": [
      "                                   states    Cases  Deaths   PCases  PDeaths  Cases (+)  Deaths (+)  Fatality Rate\n",
      "                              Maharashtra  1645020   43264  1645020    43264          0           0           2.63\n",
      "                           Andhra Pradesh   807023    6587   807023     6587          0           0           0.82\n",
      "                                Karnataka   802817   10905   802817    10905          0           0           1.36\n",
      "                               Tamil Nadu   709005   10924   709005    10924          0           0           1.54\n",
      "                            Uttar Pradesh   470270    6882   470270     6882          0           0           1.46\n",
      "                                   Kerala   392931    1333   392931     1333          0           0           0.34\n",
      "                                    Delhi   356656    6258   356656     6258          0           0           1.75\n",
      "                              West Bengal   349701    6487   349701     6487          0           0           1.86\n",
      "                                   Odisha   282695    1312   281215     1298       1480          14           0.46\n",
      "                                Telangana   231252    1307   231252     1307          0           0           0.57\n",
      "                                    Bihar   212192    1049   212192     1049          0           0           0.49\n",
      "                                    Assam   204171     906   204171      906          0           0           0.44\n",
      "                                Rajasthan   186243    1839   186243     1839          0           0           0.99\n",
      "                             Chhattisgarh   175959    1818   175959     1818          0           0           1.03\n",
      "                           Madhya Pradesh   167249    2885   167249     2885          0           0           1.72\n",
      "                                  Gujarat   167173    3689   167173     3689          0           0           2.21\n",
      "                                  Haryana   159457    1737   158304     1727       1153          10           1.09\n",
      "                                   Punjab   131391    4125   131055     4117        336           8           3.14\n",
      "                                Jharkhand    99686     866    99686      866          0           0           0.87\n",
      "                        Jammu and Kashmir    91861    1438    91861     1438          0           0           1.57\n",
      "                              Uttarakhand    60155     984    60155      984          0           0           1.64\n",
      "                                      Goa    42532     582    42242      576        290           6           1.37\n",
      "                               Puducherry    34336     588    34193      588        143           0           1.71\n",
      "                                  Tripura    30218     340    30218      340          0           0           1.13\n",
      "                         Himachal Pradesh    20370     286    20370      286          0           0           1.40\n",
      "                                  Manipur    17160     139    17160      139          0           0           0.81\n",
      "                        Arunachal Pradesh    14244      33    14244       33          0           0           0.23\n",
      "                               Chandigarh    14038     218    14038      218          0           0           1.55\n",
      "                                Meghalaya     9020      81     9020       81          0           0           0.90\n",
      "                                 Nagaland     8515      24     8515       24          0           0           0.28\n",
      "                                   Ladakh     5933      71     5933       71          0           0           1.20\n",
      "              Andaman and Nicobar Islands     4245      58     4245       58          0           0           1.37\n",
      "                                   Sikkim     3835      64     3835       64          0           0           1.67\n",
      " Dadra and Nagar Haveli and Daman and Diu     3226       2     3226        2          0           0           0.06\n",
      "                                  Mizoram     2447       0     2447        0          0           0           0.00\n",
      "                              Lakshadweep        0       0        0        0          0           0            NaN\n"
     ]
    }
   ],
   "source": [
    "#hide_input\n",
    "print(df_table.to_string(index=False))"
   ]
  },
  {
   "cell_type": "code",
   "execution_count": null,
   "metadata": {
    "papermill": {
     "duration": 0.021075,
     "end_time": "2020-10-26T14:43:33.611706",
     "exception": false,
     "start_time": "2020-10-26T14:43:33.590631",
     "status": "completed"
    },
    "tags": []
   },
   "outputs": [],
   "source": []
  },
  {
   "cell_type": "code",
   "execution_count": null,
   "metadata": {
    "papermill": {
     "duration": 0.022342,
     "end_time": "2020-10-26T14:43:33.657127",
     "exception": false,
     "start_time": "2020-10-26T14:43:33.634785",
     "status": "completed"
    },
    "tags": []
   },
   "outputs": [],
   "source": []
  }
 ],
 "metadata": {
  "kernelspec": {
   "display_name": "Python 3",
   "language": "python",
   "name": "python3"
  },
  "language_info": {
   "codemirror_mode": {
    "name": "ipython",
    "version": 3
   },
   "file_extension": ".py",
   "mimetype": "text/x-python",
   "name": "python",
   "nbconvert_exporter": "python",
   "pygments_lexer": "ipython3",
   "version": "3.6.12"
  },
  "papermill": {
   "duration": 12.736596,
   "end_time": "2020-10-26T14:43:34.086755",
   "environment_variables": {},
   "exception": null,
   "input_path": "latest.ipynb",
   "output_path": "latest.ipynb",
   "parameters": {},
   "start_time": "2020-10-26T14:43:21.350159",
   "version": "2.1.2"
  }
 },
 "nbformat": 4,
 "nbformat_minor": 4
}