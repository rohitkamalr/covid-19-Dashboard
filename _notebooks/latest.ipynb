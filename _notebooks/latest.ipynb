{
 "cells": [
  {
   "cell_type": "markdown",
   "metadata": {
    "papermill": {
     "duration": 0.019354,
     "end_time": "2020-09-28T09:22:15.953925",
     "exception": false,
     "start_time": "2020-09-28T09:22:15.934571",
     "status": "completed"
    },
    "tags": []
   },
   "source": [
    "# Latest COVID-19 India Matplotlib Overview"
   ]
  },
  {
   "cell_type": "code",
   "execution_count": 1,
   "metadata": {
    "execution": {
     "iopub.execute_input": "2020-09-28T09:22:15.993606Z",
     "iopub.status.busy": "2020-09-28T09:22:15.992905Z",
     "iopub.status.idle": "2020-09-28T09:22:16.593515Z",
     "shell.execute_reply": "2020-09-28T09:22:16.592990Z"
    },
    "papermill": {
     "duration": 0.622591,
     "end_time": "2020-09-28T09:22:16.593705",
     "exception": false,
     "start_time": "2020-09-28T09:22:15.971114",
     "status": "completed"
    },
    "tags": []
   },
   "outputs": [],
   "source": [
    "#hide\n",
    "import pandas as pd\n",
    "import numpy as np\n",
    "import requests\n",
    "import json\n",
    "import matplotlib.pyplot as plt\n",
    "import matplotlib.dates as mdates\n",
    "import matplotlib as mpl\n",
    "from IPython.core.display import display,HTML\n",
    "%matplotlib inline\n",
    "from datetime import date"
   ]
  },
  {
   "cell_type": "code",
   "execution_count": 2,
   "metadata": {
    "execution": {
     "iopub.execute_input": "2020-09-28T09:22:16.633426Z",
     "iopub.status.busy": "2020-09-28T09:22:16.632628Z",
     "iopub.status.idle": "2020-09-28T09:22:17.026170Z",
     "shell.execute_reply": "2020-09-28T09:22:17.025624Z"
    },
    "papermill": {
     "duration": 0.415955,
     "end_time": "2020-09-28T09:22:17.026306",
     "exception": false,
     "start_time": "2020-09-28T09:22:16.610351",
     "status": "completed"
    },
    "tags": []
   },
   "outputs": [],
   "source": [
    "#hide\n",
    "df  = pd.read_csv('https://api.covid19india.org/csv/latest/states.csv')\n",
    "df = df[['Date','State','Confirmed','Deceased']]\n",
    "df = df.rename(columns={'Confirmed':'Cases', \"Deceased\":'Deaths'})\n",
    "df_cases = df[[\"Date\",'State','Cases']]\n",
    "df_deaths = df[['Date','State','Deaths']]\n",
    "df_cases1 = df_cases.groupby('Date')\n",
    "df_deaths1= df_deaths.groupby('Date')"
   ]
  },
  {
   "cell_type": "code",
   "execution_count": 3,
   "metadata": {
    "execution": {
     "iopub.execute_input": "2020-09-28T09:22:17.065743Z",
     "iopub.status.busy": "2020-09-28T09:22:17.065052Z",
     "iopub.status.idle": "2020-09-28T09:22:17.085199Z",
     "shell.execute_reply": "2020-09-28T09:22:17.084560Z"
    },
    "papermill": {
     "duration": 0.041508,
     "end_time": "2020-09-28T09:22:17.085322",
     "exception": false,
     "start_time": "2020-09-28T09:22:17.043814",
     "status": "completed"
    },
    "tags": []
   },
   "outputs": [],
   "source": [
    "#hide\n",
    "df_snap = pd.read_csv('data/SnapshotCases-28-July.csv')\n",
    "arr_states = df_snap['states'].unique()\n",
    "arr_dates = df['Date'].unique()\n",
    "df_snap = df_snap.set_index('states')"
   ]
  },
  {
   "cell_type": "code",
   "execution_count": 4,
   "metadata": {
    "execution": {
     "iopub.execute_input": "2020-09-28T09:22:17.123480Z",
     "iopub.status.busy": "2020-09-28T09:22:17.122741Z",
     "iopub.status.idle": "2020-09-28T09:22:17.127298Z",
     "shell.execute_reply": "2020-09-28T09:22:17.127832Z"
    },
    "papermill": {
     "duration": 0.027026,
     "end_time": "2020-09-28T09:22:17.127970",
     "exception": false,
     "start_time": "2020-09-28T09:22:17.100944",
     "status": "completed"
    },
    "tags": []
   },
   "outputs": [
    {
     "data": {
      "text/plain": [
       "array(['Andaman and Nicobar Islands', 'Andhra Pradesh',\n",
       "       'Arunachal Pradesh', 'Assam', 'Bihar', 'Chandigarh',\n",
       "       'Dadra and Nagar Haveli and Daman and Diu', 'Delhi', 'Goa',\n",
       "       'Gujarat', 'Haryana', 'Himachal Pradesh', 'Jammu and Kashmir',\n",
       "       'Jharkhand', 'Karnataka', 'Kerala', 'Lakshadweep',\n",
       "       'Madhya Pradesh', 'Maharashtra', 'Manipur', 'Meghalaya', 'Mizoram',\n",
       "       'Nagaland', 'Odisha', 'Puducherry', 'Punjab', 'Rajasthan',\n",
       "       'Sikkim', 'Tamil Nadu', 'Telangana', 'Tripura', 'Uttar Pradesh',\n",
       "       'West Bengal', 'Chhattisgarh', 'Ladakh', 'Uttarakhand'],\n",
       "      dtype=object)"
      ]
     },
     "execution_count": 4,
     "metadata": {},
     "output_type": "execute_result"
    }
   ],
   "source": [
    "#hide\n",
    "arr_states[-9] = 'Puducherry'\n",
    "arr_states[-10] = 'Odisha'\n",
    "arr_states[6] = 'Dadra and Nagar Haveli and Daman and Diu'\n",
    "arr_states = np.append(arr_states,np.array(['Chhattisgarh','Ladakh','Uttarakhand']))\n",
    "arr_states"
   ]
  },
  {
   "cell_type": "code",
   "execution_count": 5,
   "metadata": {
    "execution": {
     "iopub.execute_input": "2020-09-28T09:22:17.175431Z",
     "iopub.status.busy": "2020-09-28T09:22:17.174798Z",
     "iopub.status.idle": "2020-09-28T09:22:17.177668Z",
     "shell.execute_reply": "2020-09-28T09:22:17.178194Z"
    },
    "papermill": {
     "duration": 0.034084,
     "end_time": "2020-09-28T09:22:17.178329",
     "exception": false,
     "start_time": "2020-09-28T09:22:17.144245",
     "status": "completed"
    },
    "tags": []
   },
   "outputs": [],
   "source": [
    "#hide\n",
    "dates = []\n",
    "for i in arr_dates:\n",
    "    if i>='2020-07-01':\n",
    "        dates.append(i)\n",
    "dict = {'states':dates}\n",
    "for i in arr_states:\n",
    "    dict[i] = [0]*len(dates)\n",
    "dft_cases = pd.DataFrame(dict)\n",
    "dft_deaths = pd.DataFrame(dict)\n"
   ]
  },
  {
   "cell_type": "code",
   "execution_count": 6,
   "metadata": {
    "execution": {
     "iopub.execute_input": "2020-09-28T09:22:17.216305Z",
     "iopub.status.busy": "2020-09-28T09:22:17.215706Z",
     "iopub.status.idle": "2020-09-28T09:22:18.754701Z",
     "shell.execute_reply": "2020-09-28T09:22:18.753658Z"
    },
    "papermill": {
     "duration": 1.560343,
     "end_time": "2020-09-28T09:22:18.754842",
     "exception": false,
     "start_time": "2020-09-28T09:22:17.194499",
     "status": "completed"
    },
    "tags": []
   },
   "outputs": [],
   "source": [
    "#hide\n",
    "for i in range(len(dates)):\n",
    "    df1_deaths = df_deaths1.get_group(dates[i])\n",
    "    for j in range(len(df1_deaths.index)):\n",
    "        if df1_deaths.iloc[j,1] in arr_states:\n",
    "            dft_deaths.loc[i,df1_deaths.iloc[j,1]] = df1_deaths.iloc[j,2]\n",
    "dft_deaths = dft_deaths.set_index('states')"
   ]
  },
  {
   "cell_type": "code",
   "execution_count": 7,
   "metadata": {
    "execution": {
     "iopub.execute_input": "2020-09-28T09:22:18.793987Z",
     "iopub.status.busy": "2020-09-28T09:22:18.793342Z",
     "iopub.status.idle": "2020-09-28T09:22:20.352594Z",
     "shell.execute_reply": "2020-09-28T09:22:20.351985Z"
    },
    "papermill": {
     "duration": 1.581004,
     "end_time": "2020-09-28T09:22:20.352747",
     "exception": false,
     "start_time": "2020-09-28T09:22:18.771743",
     "status": "completed"
    },
    "tags": []
   },
   "outputs": [],
   "source": [
    "#hide\n",
    "for i in range(len(dates)):\n",
    "    df1_cases = df_cases1.get_group(dates[i])\n",
    "    for j in range(len(df1_cases.index)):\n",
    "        if df1_cases.iloc[j,1] in arr_states:\n",
    "            dft_cases.loc[i,df1_cases.iloc[j,1]] = df1_cases.iloc[j,2]\n",
    "dft_cases = dft_cases.set_index('states')"
   ]
  },
  {
   "cell_type": "code",
   "execution_count": 8,
   "metadata": {
    "execution": {
     "iopub.execute_input": "2020-09-28T09:22:20.392706Z",
     "iopub.status.busy": "2020-09-28T09:22:20.392111Z",
     "iopub.status.idle": "2020-09-28T09:22:20.395508Z",
     "shell.execute_reply": "2020-09-28T09:22:20.394822Z"
    },
    "papermill": {
     "duration": 0.025557,
     "end_time": "2020-09-28T09:22:20.395640",
     "exception": false,
     "start_time": "2020-09-28T09:22:20.370083",
     "status": "completed"
    },
    "tags": []
   },
   "outputs": [],
   "source": [
    "#hide\n",
    "dft_cases = dft_cases.T\n",
    "dft_deaths = dft_deaths.T\n",
    "dt_today = dates[-1]\n",
    "dt_yday = dates[-2]"
   ]
  },
  {
   "cell_type": "code",
   "execution_count": 9,
   "metadata": {
    "execution": {
     "iopub.execute_input": "2020-09-28T09:22:20.436379Z",
     "iopub.status.busy": "2020-09-28T09:22:20.435673Z",
     "iopub.status.idle": "2020-09-28T09:22:20.441660Z",
     "shell.execute_reply": "2020-09-28T09:22:20.442358Z"
    },
    "papermill": {
     "duration": 0.029798,
     "end_time": "2020-09-28T09:22:20.442508",
     "exception": false,
     "start_time": "2020-09-28T09:22:20.412710",
     "status": "completed"
    },
    "tags": []
   },
   "outputs": [],
   "source": [
    "#hide\n",
    "dft_cases = dft_cases.reset_index()\n",
    "dft_deaths = dft_deaths.reset_index()\n",
    "dft_cases = dft_cases.rename(columns = {'index':'state'})\n",
    "dft_deaths = dft_deaths.rename(columns = {'index':'state'})"
   ]
  },
  {
   "cell_type": "code",
   "execution_count": 10,
   "metadata": {
    "execution": {
     "iopub.execute_input": "2020-09-28T09:22:20.488911Z",
     "iopub.status.busy": "2020-09-28T09:22:20.486126Z",
     "iopub.status.idle": "2020-09-28T09:22:20.491597Z",
     "shell.execute_reply": "2020-09-28T09:22:20.490983Z"
    },
    "papermill": {
     "duration": 0.031745,
     "end_time": "2020-09-28T09:22:20.491730",
     "exception": false,
     "start_time": "2020-09-28T09:22:20.459985",
     "status": "completed"
    },
    "tags": []
   },
   "outputs": [],
   "source": [
    "#hide\n",
    "dfc_cases = dft_cases.groupby('state')[dt_today].sum()\n",
    "dfc_deaths = dft_deaths.groupby('state')[dt_today].sum()\n",
    "dfp_cases = dft_cases.groupby('state')[dt_yday].sum()\n",
    "dfp_deaths = dft_deaths.groupby('state')[dt_yday].sum()"
   ]
  },
  {
   "cell_type": "code",
   "execution_count": 11,
   "metadata": {
    "execution": {
     "iopub.execute_input": "2020-09-28T09:22:20.539877Z",
     "iopub.status.busy": "2020-09-28T09:22:20.539089Z",
     "iopub.status.idle": "2020-09-28T09:22:20.546408Z",
     "shell.execute_reply": "2020-09-28T09:22:20.545842Z"
    },
    "papermill": {
     "duration": 0.038232,
     "end_time": "2020-09-28T09:22:20.546526",
     "exception": false,
     "start_time": "2020-09-28T09:22:20.508294",
     "status": "completed"
    },
    "tags": []
   },
   "outputs": [
    {
     "data": {
      "text/html": [
       "<div>\n",
       "<style scoped>\n",
       "    .dataframe tbody tr th:only-of-type {\n",
       "        vertical-align: middle;\n",
       "    }\n",
       "\n",
       "    .dataframe tbody tr th {\n",
       "        vertical-align: top;\n",
       "    }\n",
       "\n",
       "    .dataframe thead th {\n",
       "        text-align: right;\n",
       "    }\n",
       "</style>\n",
       "<table border=\"1\" class=\"dataframe\">\n",
       "  <thead>\n",
       "    <tr style=\"text-align: right;\">\n",
       "      <th></th>\n",
       "      <th>states</th>\n",
       "      <th>Cases</th>\n",
       "      <th>Deaths</th>\n",
       "      <th>PCases</th>\n",
       "      <th>PDeaths</th>\n",
       "    </tr>\n",
       "  </thead>\n",
       "  <tbody>\n",
       "    <tr>\n",
       "      <th>0</th>\n",
       "      <td>Maharashtra</td>\n",
       "      <td>1339232</td>\n",
       "      <td>35571</td>\n",
       "      <td>1339232</td>\n",
       "      <td>35571</td>\n",
       "    </tr>\n",
       "    <tr>\n",
       "      <th>1</th>\n",
       "      <td>Andhra Pradesh</td>\n",
       "      <td>675674</td>\n",
       "      <td>5708</td>\n",
       "      <td>675674</td>\n",
       "      <td>5708</td>\n",
       "    </tr>\n",
       "    <tr>\n",
       "      <th>2</th>\n",
       "      <td>Tamil Nadu</td>\n",
       "      <td>580808</td>\n",
       "      <td>9313</td>\n",
       "      <td>580808</td>\n",
       "      <td>9313</td>\n",
       "    </tr>\n",
       "    <tr>\n",
       "      <th>3</th>\n",
       "      <td>Karnataka</td>\n",
       "      <td>575566</td>\n",
       "      <td>8582</td>\n",
       "      <td>575566</td>\n",
       "      <td>8582</td>\n",
       "    </tr>\n",
       "    <tr>\n",
       "      <th>4</th>\n",
       "      <td>Uttar Pradesh</td>\n",
       "      <td>387085</td>\n",
       "      <td>5594</td>\n",
       "      <td>387085</td>\n",
       "      <td>5594</td>\n",
       "    </tr>\n",
       "  </tbody>\n",
       "</table>\n",
       "</div>"
      ],
      "text/plain": [
       "           states    Cases  Deaths   PCases  PDeaths\n",
       "0     Maharashtra  1339232   35571  1339232    35571\n",
       "1  Andhra Pradesh   675674    5708   675674     5708\n",
       "2      Tamil Nadu   580808    9313   580808     9313\n",
       "3       Karnataka   575566    8582   575566     8582\n",
       "4   Uttar Pradesh   387085    5594   387085     5594"
      ]
     },
     "execution_count": 11,
     "metadata": {},
     "output_type": "execute_result"
    }
   ],
   "source": [
    "#hide\n",
    "df_table = pd.DataFrame({'states': dfc_cases.index, 'Cases': dfc_cases.values, 'Deaths': dfc_deaths.values, 'PCases': dfp_cases.values, 'PDeaths': dfp_deaths.values}).set_index('states')\n",
    "df_table = df_table.sort_values(by = ['Cases','Deaths'], ascending = [False, False])\n",
    "df_table = df_table.reset_index()\n",
    "df_table.head()"
   ]
  },
  {
   "cell_type": "code",
   "execution_count": 12,
   "metadata": {
    "execution": {
     "iopub.execute_input": "2020-09-28T09:22:20.585383Z",
     "iopub.status.busy": "2020-09-28T09:22:20.584718Z",
     "iopub.status.idle": "2020-09-28T09:22:20.593761Z",
     "shell.execute_reply": "2020-09-28T09:22:20.593127Z"
    },
    "papermill": {
     "duration": 0.030421,
     "end_time": "2020-09-28T09:22:20.593919",
     "exception": false,
     "start_time": "2020-09-28T09:22:20.563498",
     "status": "completed"
    },
    "tags": []
   },
   "outputs": [],
   "source": [
    "#hide\n",
    "for c in 'Cases, Deaths'.split(', '):\n",
    "    df_table[f'{c} (+)'] = (df_table[c] - df_table[f'P{c}']).clip(0)\n",
    "df_table['Fatality Rate'] = (100* df_table['Deaths']/ df_table['Cases']).round(2)"
   ]
  },
  {
   "cell_type": "code",
   "execution_count": 13,
   "metadata": {
    "execution": {
     "iopub.execute_input": "2020-09-28T09:22:20.637815Z",
     "iopub.status.busy": "2020-09-28T09:22:20.637039Z",
     "iopub.status.idle": "2020-09-28T09:22:20.644382Z",
     "shell.execute_reply": "2020-09-28T09:22:20.644873Z"
    },
    "papermill": {
     "duration": 0.032152,
     "end_time": "2020-09-28T09:22:20.645037",
     "exception": false,
     "start_time": "2020-09-28T09:22:20.612885",
     "status": "completed"
    },
    "tags": []
   },
   "outputs": [
    {
     "data": {
      "text/html": [
       "<div>\n",
       "<style scoped>\n",
       "    .dataframe tbody tr th:only-of-type {\n",
       "        vertical-align: middle;\n",
       "    }\n",
       "\n",
       "    .dataframe tbody tr th {\n",
       "        vertical-align: top;\n",
       "    }\n",
       "\n",
       "    .dataframe thead th {\n",
       "        text-align: right;\n",
       "    }\n",
       "</style>\n",
       "<table border=\"1\" class=\"dataframe\">\n",
       "  <thead>\n",
       "    <tr style=\"text-align: right;\">\n",
       "      <th></th>\n",
       "      <th>states</th>\n",
       "      <th>Cases</th>\n",
       "      <th>Deaths</th>\n",
       "      <th>PCases</th>\n",
       "      <th>PDeaths</th>\n",
       "      <th>Cases (+)</th>\n",
       "      <th>Deaths (+)</th>\n",
       "      <th>Fatality Rate</th>\n",
       "    </tr>\n",
       "  </thead>\n",
       "  <tbody>\n",
       "    <tr>\n",
       "      <th>0</th>\n",
       "      <td>Maharashtra</td>\n",
       "      <td>1339232</td>\n",
       "      <td>35571</td>\n",
       "      <td>1339232</td>\n",
       "      <td>35571</td>\n",
       "      <td>0</td>\n",
       "      <td>0</td>\n",
       "      <td>2.66</td>\n",
       "    </tr>\n",
       "    <tr>\n",
       "      <th>1</th>\n",
       "      <td>Andhra Pradesh</td>\n",
       "      <td>675674</td>\n",
       "      <td>5708</td>\n",
       "      <td>675674</td>\n",
       "      <td>5708</td>\n",
       "      <td>0</td>\n",
       "      <td>0</td>\n",
       "      <td>0.84</td>\n",
       "    </tr>\n",
       "    <tr>\n",
       "      <th>2</th>\n",
       "      <td>Tamil Nadu</td>\n",
       "      <td>580808</td>\n",
       "      <td>9313</td>\n",
       "      <td>580808</td>\n",
       "      <td>9313</td>\n",
       "      <td>0</td>\n",
       "      <td>0</td>\n",
       "      <td>1.60</td>\n",
       "    </tr>\n",
       "    <tr>\n",
       "      <th>3</th>\n",
       "      <td>Karnataka</td>\n",
       "      <td>575566</td>\n",
       "      <td>8582</td>\n",
       "      <td>575566</td>\n",
       "      <td>8582</td>\n",
       "      <td>0</td>\n",
       "      <td>0</td>\n",
       "      <td>1.49</td>\n",
       "    </tr>\n",
       "    <tr>\n",
       "      <th>4</th>\n",
       "      <td>Uttar Pradesh</td>\n",
       "      <td>387085</td>\n",
       "      <td>5594</td>\n",
       "      <td>387085</td>\n",
       "      <td>5594</td>\n",
       "      <td>0</td>\n",
       "      <td>0</td>\n",
       "      <td>1.45</td>\n",
       "    </tr>\n",
       "  </tbody>\n",
       "</table>\n",
       "</div>"
      ],
      "text/plain": [
       "           states    Cases  Deaths   PCases  PDeaths  Cases (+)  Deaths (+)  \\\n",
       "0     Maharashtra  1339232   35571  1339232    35571          0           0   \n",
       "1  Andhra Pradesh   675674    5708   675674     5708          0           0   \n",
       "2      Tamil Nadu   580808    9313   580808     9313          0           0   \n",
       "3       Karnataka   575566    8582   575566     8582          0           0   \n",
       "4   Uttar Pradesh   387085    5594   387085     5594          0           0   \n",
       "\n",
       "   Fatality Rate  \n",
       "0           2.66  \n",
       "1           0.84  \n",
       "2           1.60  \n",
       "3           1.49  \n",
       "4           1.45  "
      ]
     },
     "execution_count": 13,
     "metadata": {},
     "output_type": "execute_result"
    }
   ],
   "source": [
    "#hide\n",
    "df_table.head()"
   ]
  },
  {
   "cell_type": "code",
   "execution_count": 14,
   "metadata": {
    "execution": {
     "iopub.execute_input": "2020-09-28T09:22:20.685123Z",
     "iopub.status.busy": "2020-09-28T09:22:20.684417Z",
     "iopub.status.idle": "2020-09-28T09:22:20.701324Z",
     "shell.execute_reply": "2020-09-28T09:22:20.700866Z"
    },
    "papermill": {
     "duration": 0.039587,
     "end_time": "2020-09-28T09:22:20.701438",
     "exception": false,
     "start_time": "2020-09-28T09:22:20.661851",
     "status": "completed"
    },
    "tags": []
   },
   "outputs": [
    {
     "data": {
      "text/plain": [
       "{'updated': '2020-09-28',\n",
       " 'since': '2020-09-27',\n",
       " 'Cases': 6078200,\n",
       " 'PCases': 6073351,\n",
       " 'Deaths': 95600,\n",
       " 'PDeaths': 95574,\n",
       " 'Cases (+)': 4849,\n",
       " 'Deaths (+)': 26}"
      ]
     },
     "execution_count": 14,
     "metadata": {},
     "output_type": "execute_result"
    }
   ],
   "source": [
    "#hide\n",
    "summary = {'updated':dates[-1], 'since':dates[-2]}\n",
    "list_names = ['Cases', 'PCases', 'Deaths', 'PDeaths', 'Cases (+)', 'Deaths (+)']\n",
    "for name in list_names:\n",
    "    summary[name] = df_table.sum()[name]\n",
    "summary"
   ]
  },
  {
   "cell_type": "code",
   "execution_count": 15,
   "metadata": {
    "execution": {
     "iopub.execute_input": "2020-09-28T09:22:20.741721Z",
     "iopub.status.busy": "2020-09-28T09:22:20.741082Z",
     "iopub.status.idle": "2020-09-28T09:22:20.743703Z",
     "shell.execute_reply": "2020-09-28T09:22:20.743250Z"
    },
    "papermill": {
     "duration": 0.024282,
     "end_time": "2020-09-28T09:22:20.743849",
     "exception": false,
     "start_time": "2020-09-28T09:22:20.719567",
     "status": "completed"
    },
    "tags": []
   },
   "outputs": [],
   "source": [
    "#hide\n",
    "overview = '''\n",
    "<!-- #######  HTML!! #########-->\n",
    "<h1 style=\"color: #5e9ca0; text-align: center;\">India</h1>\n",
    "<p style=\"text-align: center;\">Last update: <strong>{update}</strong></p>\n",
    "<p style=\"text-align: center;\">Confirmed cases:</p>\n",
    "<p style=\"text-align: center;font-size:24px;\">{cases} (<span style=\"color: #ff0000;\">+{new}</span>)</p>\n",
    "<p style=\"text-align: center;\">Confirmed deaths:</p>\n",
    "<p style=\"text-align: center;font-size:24px;\">{deaths} (<span style=\"color: #ff0000;\">+{dnew}</span>)</p>\n",
    "'''"
   ]
  },
  {
   "cell_type": "code",
   "execution_count": 16,
   "metadata": {
    "execution": {
     "iopub.execute_input": "2020-09-28T09:22:20.782899Z",
     "iopub.status.busy": "2020-09-28T09:22:20.782304Z",
     "iopub.status.idle": "2020-09-28T09:22:20.785779Z",
     "shell.execute_reply": "2020-09-28T09:22:20.785318Z"
    },
    "papermill": {
     "duration": 0.025227,
     "end_time": "2020-09-28T09:22:20.785904",
     "exception": false,
     "start_time": "2020-09-28T09:22:20.760677",
     "status": "completed"
    },
    "tags": []
   },
   "outputs": [
    {
     "data": {
      "text/html": [
       "\n",
       "<!-- #######  HTML!! #########-->\n",
       "<h1 style=\"color: #5e9ca0; text-align: center;\">India</h1>\n",
       "<p style=\"text-align: center;\">Last update: <strong>2020-09-28</strong></p>\n",
       "<p style=\"text-align: center;\">Confirmed cases:</p>\n",
       "<p style=\"text-align: center;font-size:24px;\">6078200 (<span style=\"color: #ff0000;\">+4849</span>)</p>\n",
       "<p style=\"text-align: center;\">Confirmed deaths:</p>\n",
       "<p style=\"text-align: center;font-size:24px;\">95600 (<span style=\"color: #ff0000;\">+26</span>)</p>\n"
      ],
      "text/plain": [
       "<IPython.core.display.HTML object>"
      ]
     },
     "metadata": {},
     "output_type": "display_data"
    }
   ],
   "source": [
    "#hide_input\n",
    "update = summary['updated']\n",
    "cases = summary['Cases']\n",
    "new = summary['Cases (+)']\n",
    "deaths = summary['Deaths']\n",
    "dnew = summary['Deaths (+)']\n",
    "\n",
    "html = HTML(overview.format(update=update, cases=cases,new=new,deaths=deaths,dnew=dnew))\n",
    "\n",
    "display(html)"
   ]
  },
  {
   "cell_type": "code",
   "execution_count": 17,
   "metadata": {
    "execution": {
     "iopub.execute_input": "2020-09-28T09:22:20.828806Z",
     "iopub.status.busy": "2020-09-28T09:22:20.828162Z",
     "iopub.status.idle": "2020-09-28T09:22:20.833891Z",
     "shell.execute_reply": "2020-09-28T09:22:20.833390Z"
    },
    "papermill": {
     "duration": 0.030555,
     "end_time": "2020-09-28T09:22:20.833998",
     "exception": false,
     "start_time": "2020-09-28T09:22:20.803443",
     "status": "completed"
    },
    "tags": []
   },
   "outputs": [],
   "source": [
    "#hide\n",
    "dt_cols = list(dft_cases.columns[1:])\n",
    "dft_ct_new_cases = dft_cases.groupby('state')[dt_cols].sum().diff(axis=1).fillna(0).astype(int)\n",
    "dft_ct_new_cases.sort_values(by = dates[-1], ascending = False,inplace = True)"
   ]
  },
  {
   "cell_type": "code",
   "execution_count": 18,
   "metadata": {
    "execution": {
     "iopub.execute_input": "2020-09-28T09:22:20.880551Z",
     "iopub.status.busy": "2020-09-28T09:22:20.879974Z",
     "iopub.status.idle": "2020-09-28T09:22:20.889477Z",
     "shell.execute_reply": "2020-09-28T09:22:20.890073Z"
    },
    "papermill": {
     "duration": 0.039074,
     "end_time": "2020-09-28T09:22:20.890231",
     "exception": false,
     "start_time": "2020-09-28T09:22:20.851157",
     "status": "completed"
    },
    "tags": []
   },
   "outputs": [
    {
     "data": {
      "text/html": [
       "<div>\n",
       "<style scoped>\n",
       "    .dataframe tbody tr th:only-of-type {\n",
       "        vertical-align: middle;\n",
       "    }\n",
       "\n",
       "    .dataframe tbody tr th {\n",
       "        vertical-align: top;\n",
       "    }\n",
       "\n",
       "    .dataframe thead th {\n",
       "        text-align: right;\n",
       "    }\n",
       "</style>\n",
       "<table border=\"1\" class=\"dataframe\">\n",
       "  <thead>\n",
       "    <tr style=\"text-align: right;\">\n",
       "      <th>states</th>\n",
       "      <th>2020-07-01</th>\n",
       "      <th>2020-07-02</th>\n",
       "      <th>2020-07-03</th>\n",
       "      <th>2020-07-04</th>\n",
       "      <th>2020-07-05</th>\n",
       "      <th>2020-07-06</th>\n",
       "      <th>2020-07-07</th>\n",
       "      <th>2020-07-08</th>\n",
       "      <th>2020-07-09</th>\n",
       "      <th>2020-07-10</th>\n",
       "      <th>...</th>\n",
       "      <th>2020-09-19</th>\n",
       "      <th>2020-09-20</th>\n",
       "      <th>2020-09-21</th>\n",
       "      <th>2020-09-22</th>\n",
       "      <th>2020-09-23</th>\n",
       "      <th>2020-09-24</th>\n",
       "      <th>2020-09-25</th>\n",
       "      <th>2020-09-26</th>\n",
       "      <th>2020-09-27</th>\n",
       "      <th>2020-09-28</th>\n",
       "    </tr>\n",
       "    <tr>\n",
       "      <th>state</th>\n",
       "      <th></th>\n",
       "      <th></th>\n",
       "      <th></th>\n",
       "      <th></th>\n",
       "      <th></th>\n",
       "      <th></th>\n",
       "      <th></th>\n",
       "      <th></th>\n",
       "      <th></th>\n",
       "      <th></th>\n",
       "      <th></th>\n",
       "      <th></th>\n",
       "      <th></th>\n",
       "      <th></th>\n",
       "      <th></th>\n",
       "      <th></th>\n",
       "      <th></th>\n",
       "      <th></th>\n",
       "      <th></th>\n",
       "      <th></th>\n",
       "      <th></th>\n",
       "    </tr>\n",
       "  </thead>\n",
       "  <tbody>\n",
       "    <tr>\n",
       "      <th>Odisha</th>\n",
       "      <td>0</td>\n",
       "      <td>229</td>\n",
       "      <td>561</td>\n",
       "      <td>495</td>\n",
       "      <td>469</td>\n",
       "      <td>456</td>\n",
       "      <td>571</td>\n",
       "      <td>527</td>\n",
       "      <td>577</td>\n",
       "      <td>755</td>\n",
       "      <td>...</td>\n",
       "      <td>4209</td>\n",
       "      <td>4330</td>\n",
       "      <td>4242</td>\n",
       "      <td>4189</td>\n",
       "      <td>4237</td>\n",
       "      <td>4340</td>\n",
       "      <td>4208</td>\n",
       "      <td>4356</td>\n",
       "      <td>3922</td>\n",
       "      <td>3235</td>\n",
       "    </tr>\n",
       "    <tr>\n",
       "      <th>Telangana</th>\n",
       "      <td>0</td>\n",
       "      <td>1213</td>\n",
       "      <td>1892</td>\n",
       "      <td>1850</td>\n",
       "      <td>1590</td>\n",
       "      <td>1831</td>\n",
       "      <td>1879</td>\n",
       "      <td>1924</td>\n",
       "      <td>1410</td>\n",
       "      <td>1278</td>\n",
       "      <td>...</td>\n",
       "      <td>2123</td>\n",
       "      <td>2137</td>\n",
       "      <td>1302</td>\n",
       "      <td>2166</td>\n",
       "      <td>2296</td>\n",
       "      <td>2176</td>\n",
       "      <td>2381</td>\n",
       "      <td>2239</td>\n",
       "      <td>1967</td>\n",
       "      <td>1378</td>\n",
       "    </tr>\n",
       "    <tr>\n",
       "      <th>Tripura</th>\n",
       "      <td>0</td>\n",
       "      <td>39</td>\n",
       "      <td>93</td>\n",
       "      <td>25</td>\n",
       "      <td>23</td>\n",
       "      <td>111</td>\n",
       "      <td>24</td>\n",
       "      <td>57</td>\n",
       "      <td>16</td>\n",
       "      <td>142</td>\n",
       "      <td>...</td>\n",
       "      <td>535</td>\n",
       "      <td>525</td>\n",
       "      <td>243</td>\n",
       "      <td>559</td>\n",
       "      <td>504</td>\n",
       "      <td>451</td>\n",
       "      <td>341</td>\n",
       "      <td>278</td>\n",
       "      <td>320</td>\n",
       "      <td>193</td>\n",
       "    </tr>\n",
       "    <tr>\n",
       "      <th>Mizoram</th>\n",
       "      <td>0</td>\n",
       "      <td>2</td>\n",
       "      <td>0</td>\n",
       "      <td>2</td>\n",
       "      <td>22</td>\n",
       "      <td>11</td>\n",
       "      <td>1</td>\n",
       "      <td>5</td>\n",
       "      <td>0</td>\n",
       "      <td>23</td>\n",
       "      <td>...</td>\n",
       "      <td>14</td>\n",
       "      <td>30</td>\n",
       "      <td>7</td>\n",
       "      <td>106</td>\n",
       "      <td>22</td>\n",
       "      <td>46</td>\n",
       "      <td>27</td>\n",
       "      <td>49</td>\n",
       "      <td>30</td>\n",
       "      <td>43</td>\n",
       "    </tr>\n",
       "    <tr>\n",
       "      <th>Andaman and Nicobar Islands</th>\n",
       "      <td>0</td>\n",
       "      <td>9</td>\n",
       "      <td>7</td>\n",
       "      <td>3</td>\n",
       "      <td>6</td>\n",
       "      <td>16</td>\n",
       "      <td>6</td>\n",
       "      <td>2</td>\n",
       "      <td>7</td>\n",
       "      <td>0</td>\n",
       "      <td>...</td>\n",
       "      <td>13</td>\n",
       "      <td>7</td>\n",
       "      <td>22</td>\n",
       "      <td>18</td>\n",
       "      <td>21</td>\n",
       "      <td>32</td>\n",
       "      <td>15</td>\n",
       "      <td>15</td>\n",
       "      <td>20</td>\n",
       "      <td>0</td>\n",
       "    </tr>\n",
       "  </tbody>\n",
       "</table>\n",
       "<p>5 rows × 90 columns</p>\n",
       "</div>"
      ],
      "text/plain": [
       "states                       2020-07-01  2020-07-02  2020-07-03  2020-07-04  \\\n",
       "state                                                                         \n",
       "Odisha                                0         229         561         495   \n",
       "Telangana                             0        1213        1892        1850   \n",
       "Tripura                               0          39          93          25   \n",
       "Mizoram                               0           2           0           2   \n",
       "Andaman and Nicobar Islands           0           9           7           3   \n",
       "\n",
       "states                       2020-07-05  2020-07-06  2020-07-07  2020-07-08  \\\n",
       "state                                                                         \n",
       "Odisha                              469         456         571         527   \n",
       "Telangana                          1590        1831        1879        1924   \n",
       "Tripura                              23         111          24          57   \n",
       "Mizoram                              22          11           1           5   \n",
       "Andaman and Nicobar Islands           6          16           6           2   \n",
       "\n",
       "states                       2020-07-09  2020-07-10  ...  2020-09-19  \\\n",
       "state                                                ...               \n",
       "Odisha                              577         755  ...        4209   \n",
       "Telangana                          1410        1278  ...        2123   \n",
       "Tripura                              16         142  ...         535   \n",
       "Mizoram                               0          23  ...          14   \n",
       "Andaman and Nicobar Islands           7           0  ...          13   \n",
       "\n",
       "states                       2020-09-20  2020-09-21  2020-09-22  2020-09-23  \\\n",
       "state                                                                         \n",
       "Odisha                             4330        4242        4189        4237   \n",
       "Telangana                          2137        1302        2166        2296   \n",
       "Tripura                             525         243         559         504   \n",
       "Mizoram                              30           7         106          22   \n",
       "Andaman and Nicobar Islands           7          22          18          21   \n",
       "\n",
       "states                       2020-09-24  2020-09-25  2020-09-26  2020-09-27  \\\n",
       "state                                                                         \n",
       "Odisha                             4340        4208        4356        3922   \n",
       "Telangana                          2176        2381        2239        1967   \n",
       "Tripura                             451         341         278         320   \n",
       "Mizoram                              46          27          49          30   \n",
       "Andaman and Nicobar Islands          32          15          15          20   \n",
       "\n",
       "states                       2020-09-28  \n",
       "state                                    \n",
       "Odisha                             3235  \n",
       "Telangana                          1378  \n",
       "Tripura                             193  \n",
       "Mizoram                              43  \n",
       "Andaman and Nicobar Islands           0  \n",
       "\n",
       "[5 rows x 90 columns]"
      ]
     },
     "execution_count": 18,
     "metadata": {},
     "output_type": "execute_result"
    }
   ],
   "source": [
    "#hide\n",
    "dft_ct_new_cases.head()"
   ]
  },
  {
   "cell_type": "code",
   "execution_count": 19,
   "metadata": {
    "execution": {
     "iopub.execute_input": "2020-09-28T09:22:20.975326Z",
     "iopub.status.busy": "2020-09-28T09:22:20.974443Z",
     "iopub.status.idle": "2020-09-28T09:22:25.484521Z",
     "shell.execute_reply": "2020-09-28T09:22:25.485045Z"
    },
    "papermill": {
     "duration": 4.576664,
     "end_time": "2020-09-28T09:22:25.485215",
     "exception": false,
     "start_time": "2020-09-28T09:22:20.908551",
     "status": "completed"
    },
    "tags": []
   },
   "outputs": [
    {
     "data": {
      "image/png": "[encoded data removed]",
      "text/plain": [
       "<Figure size 1296x2016 with 11 Axes>"
      ]
     },
     "metadata": {
      "needs_background": "light"
     },
     "output_type": "display_data"
    }
   ],
   "source": [
    "#hide_input\n",
    "df = dft_ct_new_cases.copy()\n",
    "df.loc['Total'] = df.sum()\n",
    "n = 5\n",
    "ax = []\n",
    "fig = plt.figure(figsize = (18,28))\n",
    "gs = fig.add_gridspec(n+2, 5)\n",
    "# gs = fig.add_gridspec(2, 3)\n",
    "ax1 = fig.add_subplot(gs[0, :])\n",
    "ef = df.loc['Total'].rename_axis('date').reset_index()\n",
    "ef['date'] = ef['date'].astype('datetime64[ns]')\n",
    "ax1.bar(ef.date,ef.Total,alpha=0.3,color='#007acc')\n",
    "ax1.plot(ef.date,ef.Total , marker=\"o\", color='#007acc')\n",
    "ax1.xaxis.set_major_locator(mdates.WeekdayLocator())\n",
    "ax1.xaxis.set_major_formatter(mdates.DateFormatter('%b %d'))\n",
    "ax1.text(0.02, 0.5,'India daily case count', transform = ax1.transAxes, fontsize=25);\n",
    "ax1.spines['right'].set_visible(False)\n",
    "ax1.spines['top'].set_visible(False)\n",
    "\n",
    "ax2 = fig.add_subplot(gs[1,0])\n",
    "ef = df.loc['Maharashtra'].rename_axis('date').reset_index()\n",
    "ef['date'] = ef['date'].astype('datetime64[ns]')\n",
    "\n",
    "ax2.bar(ef.date, ef.Maharashtra,color = '#007acc',alpha=0.5)\n",
    "ax2.xaxis.set_major_locator(mdates.WeekdayLocator())\n",
    "ax2.xaxis.set_major_formatter(mdates.DateFormatter('%b %d'))\n",
    "ax2.set_xticks(ax2.get_xticks()[::3])\n",
    "maxyval = ef.Maharashtra.max()\n",
    "ax2.set_ylim([0,maxyval])\n",
    "ax2.text(0.05, 0.9,'Maharashtra', transform = ax2.transAxes, fontsize=20);\n",
    "ax2.spines['right'].set_visible(False)\n",
    "ax2.spines['top'].set_visible(False)\n",
    "\n",
    "\n",
    "ax3 = fig.add_subplot(gs[1,1])\n",
    "ef = df.loc['Tamil Nadu'].rename_axis('date').reset_index()\n",
    "ef['date'] = ef['date'].astype('datetime64[ns]')\n",
    "ax3.bar(ef.date, ef['Tamil Nadu'],color = '#007acc',alpha=0.5,)\n",
    "ax3.xaxis.set_major_locator(mdates.WeekdayLocator())\n",
    "ax3.xaxis.set_major_formatter(mdates.DateFormatter('%b %d'))\n",
    "ax3.set_xticks(ax3.get_xticks()[::3])\n",
    "ax3.text(0.05, 0.9,'Tamil Nadu', transform = ax3.transAxes, fontsize=20);\n",
    "ax3.spines['right'].set_visible(False)\n",
    "ax3.spines['top'].set_visible(False)\n",
    "\n",
    "ax5 = fig.add_subplot(gs[1,3])\n",
    "ef = df.loc['Telangana'].rename_axis('date').reset_index()\n",
    "ef['date'] = ef['date'].astype('datetime64[ns]')\n",
    "ax5.bar(ef.date, ef['Telangana'],color = '#007acc',alpha=0.5,)\n",
    "ax5.xaxis.set_major_locator(mdates.WeekdayLocator())\n",
    "ax5.xaxis.set_major_formatter(mdates.DateFormatter('%b %d'))\n",
    "ax5.set_xticks(ax5.get_xticks()[::3])\n",
    "ax5.text(0.05, 0.9,'Telangana', transform = ax5.transAxes, fontsize=20);\n",
    "ax5.spines['right'].set_visible(False)\n",
    "ax5.spines['top'].set_visible(False)\n",
    "\n",
    "ax6 = fig.add_subplot(gs[1,4])\n",
    "ef = df.loc['Andhra Pradesh'].rename_axis('date').reset_index()\n",
    "ef['date'] = ef['date'].astype('datetime64[ns]')\n",
    "ax6.bar(ef.date, ef['Andhra Pradesh'],color = '#007acc',alpha=0.5,)\n",
    "ax6.xaxis.set_major_locator(mdates.WeekdayLocator())\n",
    "ax6.xaxis.set_major_formatter(mdates.DateFormatter('%b %d'))\n",
    "ax6.set_xticks(ax6.get_xticks()[::3])\n",
    "ax6.text(0.05, 1,'Andhra Pradesh', transform = ax6.transAxes, fontsize=20);\n",
    "ax6.spines['right'].set_visible(False)\n",
    "ax6.spines['top'].set_visible(False)\n",
    "\n",
    "ax4 = fig.add_subplot(gs[1,2])\n",
    "ef = df.loc['Delhi'].rename_axis('date').reset_index()\n",
    "ef['date'] = ef['date'].astype('datetime64[ns]')\n",
    "ax4.bar(ef.date, ef.Delhi,color = '#007acc',alpha=0.5)\n",
    "ax4.set_xticks([])\n",
    "ax4.xaxis.set_major_locator(mdates.WeekdayLocator())\n",
    "ax4.xaxis.set_major_formatter(mdates.DateFormatter('%b %d'))\n",
    "ax4.set_xticks(ax4.get_xticks()[::3])\n",
    "ax4.spines['right'].set_visible(False)\n",
    "ax4.spines['top'].set_visible(False)\n",
    "\n",
    "ax4.text(0.05, 1,'Delhi', transform = ax4.transAxes, fontsize=20)\n",
    "\n",
    "for i in range(n):\n",
    "    \n",
    "    ax.append(fig.add_subplot(gs[i+2,:]))\n",
    "    ef = df.iloc[i+3].rename_axis('date').reset_index()\n",
    "    ef['date'] = ef['date'].astype('datetime64[ns]')\n",
    "    ax[i].bar(ef.date,ef.iloc[:,-1],color = '#007acc',alpha=0.3)\n",
    "    ax[i].plot(ef.date,ef.iloc[:,-1],marker='o',color='#007acc')\n",
    "    ax[i].text(0.02,0.5,f'{ef.columns.values[-1]}',transform = ax[i].transAxes, fontsize = 20);\n",
    "    ax[i].xaxis.set_major_locator(mdates.WeekdayLocator())\n",
    "    ax[i].xaxis.set_major_formatter(mdates.DateFormatter('%b %d'))\n",
    "    ax[i].set_ylim([0,7000])\n",
    "    ax[i].spines['right'].set_visible(False)\n",
    "    ax[i].spines['top'].set_visible(False)\n",
    "plt.tight_layout()\n"
   ]
  },
  {
   "cell_type": "code",
   "execution_count": 20,
   "metadata": {
    "execution": {
     "iopub.execute_input": "2020-09-28T09:22:25.538469Z",
     "iopub.status.busy": "2020-09-28T09:22:25.537746Z",
     "iopub.status.idle": "2020-09-28T09:22:25.540437Z",
     "shell.execute_reply": "2020-09-28T09:22:25.540908Z"
    },
    "papermill": {
     "duration": 0.033915,
     "end_time": "2020-09-28T09:22:25.541041",
     "exception": false,
     "start_time": "2020-09-28T09:22:25.507126",
     "status": "completed"
    },
    "tags": []
   },
   "outputs": [
    {
     "name": "stdout",
     "output_type": "stream",
     "text": [
      "                                   states    Cases  Deaths   PCases  PDeaths  Cases (+)  Deaths (+)  Fatality Rate\n",
      "                              Maharashtra  1339232   35571  1339232    35571          0           0           2.66\n",
      "                           Andhra Pradesh   675674    5708   675674     5708          0           0           0.84\n",
      "                               Tamil Nadu   580808    9313   580808     9313          0           0           1.60\n",
      "                                Karnataka   575566    8582   575566     8582          0           0           1.49\n",
      "                            Uttar Pradesh   387085    5594   387085     5594          0           0           1.45\n",
      "                                    Delhi   271114    5235   271114     5235          0           0           1.93\n",
      "                              West Bengal   247425    4781   247425     4781          0           0           1.93\n",
      "                                   Odisha   212609     866   209374      850       3235          16           0.41\n",
      "                                Telangana   187211    1107   185833     1100       1378           7           0.59\n",
      "                                    Bihar   178882     888   178882      888          0           0           0.50\n",
      "                                   Kerala   175385     678   175385      678          0           0           0.39\n",
      "                                    Assam   169985     655   169985      655          0           0           0.39\n",
      "                                  Gujarat   133219    3417   133219     3417          0           0           2.56\n",
      "                                Rajasthan   128859    1441   128859     1441          0           0           1.12\n",
      "                                  Haryana   123782    1307   123782     1307          0           0           1.06\n",
      "                           Madhya Pradesh   122209    2207   122209     2207          0           0           1.81\n",
      "                                   Punjab   110106    3238   110106     3238          0           0           2.94\n",
      "                             Chhattisgarh   104733     848   104733      848          0           0           0.81\n",
      "                                Jharkhand    79909     679    79909      679          0           0           0.85\n",
      "                        Jammu and Kashmir    72190    1132    72190     1132          0           0           1.57\n",
      "                              Uttarakhand    47045     574    47045      574          0           0           1.22\n",
      "                                      Goa    31958     401    31958      401          0           0           1.25\n",
      "                               Puducherry    26400     513    26400      513          0           0           1.94\n",
      "                                  Tripura    24918     270    24725      267        193           3           1.08\n",
      "                         Himachal Pradesh    14191     170    14191      170          0           0           1.20\n",
      "                               Chandigarh    11553     147    11553      147          0           0           1.27\n",
      "                                  Manipur    10299      64    10299       64          0           0           0.62\n",
      "                        Arunachal Pradesh     9004      14     9004       14          0           0           0.16\n",
      "                                 Nagaland     5946      11     5946       11          0           0           0.18\n",
      "                                Meghalaya     5302      43     5302       43          0           0           0.81\n",
      "                                   Ladakh     4103      58     4103       58          0           0           1.41\n",
      "              Andaman and Nicobar Islands     3794      53     3794       53          0           0           1.40\n",
      " Dadra and Nagar Haveli and Daman and Diu     3006       2     3006        2          0           0           0.07\n",
      "                                   Sikkim     2790      33     2790       33          0           0           1.18\n",
      "                                  Mizoram     1908       0     1865        0         43           0           0.00\n",
      "                              Lakshadweep        0       0        0        0          0           0            NaN\n"
     ]
    }
   ],
   "source": [
    "#hide_input\n",
    "print(df_table.to_string(index=False))"
   ]
  },
  {
   "cell_type": "code",
   "execution_count": null,
   "metadata": {
    "papermill": {
     "duration": 0.021815,
     "end_time": "2020-09-28T09:22:25.584837",
     "exception": false,
     "start_time": "2020-09-28T09:22:25.563022",
     "status": "completed"
    },
    "tags": []
   },
   "outputs": [],
   "source": []
  },
  {
   "cell_type": "code",
   "execution_count": null,
   "metadata": {
    "papermill": {
     "duration": 0.022293,
     "end_time": "2020-09-28T09:22:25.629651",
     "exception": false,
     "start_time": "2020-09-28T09:22:25.607358",
     "status": "completed"
    },
    "tags": []
   },
   "outputs": [],
   "source": []
  }
 ],
 "metadata": {
  "kernelspec": {
   "display_name": "Python 3",
   "language": "python",
   "name": "python3"
  },
  "language_info": {
   "codemirror_mode": {
    "name": "ipython",
    "version": 3
   },
   "file_extension": ".py",
   "mimetype": "text/x-python",
   "name": "python",
   "nbconvert_exporter": "python",
   "pygments_lexer": "ipython3",
   "version": "3.6.12"
  },
  "papermill": {
   "duration": 11.21193,
   "end_time": "2020-09-28T09:22:26.058187",
   "environment_variables": {},
   "exception": null,
   "input_path": "latest.ipynb",
   "output_path": "latest.ipynb",
   "parameters": {},
   "start_time": "2020-09-28T09:22:14.846257",
   "version": "2.1.2"
  }
 },
 "nbformat": 4,
 "nbformat_minor": 4
}