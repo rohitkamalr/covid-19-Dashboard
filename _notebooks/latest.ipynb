{
 "cells": [
  {
   "cell_type": "markdown",
   "metadata": {
    "papermill": {
     "duration": 0.021674,
     "end_time": "2020-10-02T14:38:23.825651",
     "exception": false,
     "start_time": "2020-10-02T14:38:23.803977",
     "status": "completed"
    },
    "tags": []
   },
   "source": [
    "# Latest COVID-19 India Matplotlib Overview"
   ]
  },
  {
   "cell_type": "code",
   "execution_count": 1,
   "metadata": {
    "execution": {
     "iopub.execute_input": "2020-10-02T14:38:23.872063Z",
     "iopub.status.busy": "2020-10-02T14:38:23.871196Z",
     "iopub.status.idle": "2020-10-02T14:38:24.506311Z",
     "shell.execute_reply": "2020-10-02T14:38:24.505703Z"
    },
    "papermill": {
     "duration": 0.663178,
     "end_time": "2020-10-02T14:38:24.506479",
     "exception": false,
     "start_time": "2020-10-02T14:38:23.843301",
     "status": "completed"
    },
    "tags": []
   },
   "outputs": [],
   "source": [
    "#hide\n",
    "import pandas as pd\n",
    "import numpy as np\n",
    "import requests\n",
    "import json\n",
    "import matplotlib.pyplot as plt\n",
    "import matplotlib.dates as mdates\n",
    "import matplotlib as mpl\n",
    "from IPython.core.display import display,HTML\n",
    "%matplotlib inline\n",
    "from datetime import date"
   ]
  },
  {
   "cell_type": "code",
   "execution_count": 2,
   "metadata": {
    "execution": {
     "iopub.execute_input": "2020-10-02T14:38:24.546447Z",
     "iopub.status.busy": "2020-10-02T14:38:24.545766Z",
     "iopub.status.idle": "2020-10-02T14:38:24.732424Z",
     "shell.execute_reply": "2020-10-02T14:38:24.731779Z"
    },
    "papermill": {
     "duration": 0.209698,
     "end_time": "2020-10-02T14:38:24.732574",
     "exception": false,
     "start_time": "2020-10-02T14:38:24.522876",
     "status": "completed"
    },
    "tags": []
   },
   "outputs": [],
   "source": [
    "#hide\n",
    "df  = pd.read_csv('https://api.covid19india.org/csv/latest/states.csv')\n",
    "df = df[['Date','State','Confirmed','Deceased']]\n",
    "df = df.rename(columns={'Confirmed':'Cases', \"Deceased\":'Deaths'})\n",
    "df_cases = df[[\"Date\",'State','Cases']]\n",
    "df_deaths = df[['Date','State','Deaths']]\n",
    "df_cases1 = df_cases.groupby('Date')\n",
    "df_deaths1= df_deaths.groupby('Date')"
   ]
  },
  {
   "cell_type": "code",
   "execution_count": 3,
   "metadata": {
    "execution": {
     "iopub.execute_input": "2020-10-02T14:38:24.776150Z",
     "iopub.status.busy": "2020-10-02T14:38:24.775507Z",
     "iopub.status.idle": "2020-10-02T14:38:24.794912Z",
     "shell.execute_reply": "2020-10-02T14:38:24.794374Z"
    },
    "papermill": {
     "duration": 0.042881,
     "end_time": "2020-10-02T14:38:24.795061",
     "exception": false,
     "start_time": "2020-10-02T14:38:24.752180",
     "status": "completed"
    },
    "tags": []
   },
   "outputs": [],
   "source": [
    "#hide\n",
    "df_snap = pd.read_csv('data/SnapshotCases-28-July.csv')\n",
    "arr_states = df_snap['states'].unique()\n",
    "arr_dates = df['Date'].unique()\n",
    "df_snap = df_snap.set_index('states')"
   ]
  },
  {
   "cell_type": "code",
   "execution_count": 4,
   "metadata": {
    "execution": {
     "iopub.execute_input": "2020-10-02T14:38:24.835026Z",
     "iopub.status.busy": "2020-10-02T14:38:24.834389Z",
     "iopub.status.idle": "2020-10-02T14:38:24.837331Z",
     "shell.execute_reply": "2020-10-02T14:38:24.837824Z"
    },
    "papermill": {
     "duration": 0.026705,
     "end_time": "2020-10-02T14:38:24.837999",
     "exception": false,
     "start_time": "2020-10-02T14:38:24.811294",
     "status": "completed"
    },
    "tags": []
   },
   "outputs": [
    {
     "data": {
      "text/plain": [
       "array(['Andaman and Nicobar Islands', 'Andhra Pradesh',\n",
       "       'Arunachal Pradesh', 'Assam', 'Bihar', 'Chandigarh',\n",
       "       'Dadra and Nagar Haveli and Daman and Diu', 'Delhi', 'Goa',\n",
       "       'Gujarat', 'Haryana', 'Himachal Pradesh', 'Jammu and Kashmir',\n",
       "       'Jharkhand', 'Karnataka', 'Kerala', 'Lakshadweep',\n",
       "       'Madhya Pradesh', 'Maharashtra', 'Manipur', 'Meghalaya', 'Mizoram',\n",
       "       'Nagaland', 'Odisha', 'Puducherry', 'Punjab', 'Rajasthan',\n",
       "       'Sikkim', 'Tamil Nadu', 'Telangana', 'Tripura', 'Uttar Pradesh',\n",
       "       'West Bengal', 'Chhattisgarh', 'Ladakh', 'Uttarakhand'],\n",
       "      dtype=object)"
      ]
     },
     "execution_count": 4,
     "metadata": {},
     "output_type": "execute_result"
    }
   ],
   "source": [
    "#hide\n",
    "arr_states[-9] = 'Puducherry'\n",
    "arr_states[-10] = 'Odisha'\n",
    "arr_states[6] = 'Dadra and Nagar Haveli and Daman and Diu'\n",
    "arr_states = np.append(arr_states,np.array(['Chhattisgarh','Ladakh','Uttarakhand']))\n",
    "arr_states"
   ]
  },
  {
   "cell_type": "code",
   "execution_count": 5,
   "metadata": {
    "execution": {
     "iopub.execute_input": "2020-10-02T14:38:24.884171Z",
     "iopub.status.busy": "2020-10-02T14:38:24.883535Z",
     "iopub.status.idle": "2020-10-02T14:38:24.892111Z",
     "shell.execute_reply": "2020-10-02T14:38:24.891566Z"
    },
    "papermill": {
     "duration": 0.035384,
     "end_time": "2020-10-02T14:38:24.892254",
     "exception": false,
     "start_time": "2020-10-02T14:38:24.856870",
     "status": "completed"
    },
    "tags": []
   },
   "outputs": [],
   "source": [
    "#hide\n",
    "dates = []\n",
    "for i in arr_dates:\n",
    "    if i>='2020-07-01':\n",
    "        dates.append(i)\n",
    "dict = {'states':dates}\n",
    "for i in arr_states:\n",
    "    dict[i] = [0]*len(dates)\n",
    "dft_cases = pd.DataFrame(dict)\n",
    "dft_deaths = pd.DataFrame(dict)\n"
   ]
  },
  {
   "cell_type": "code",
   "execution_count": 6,
   "metadata": {
    "execution": {
     "iopub.execute_input": "2020-10-02T14:38:24.932087Z",
     "iopub.status.busy": "2020-10-02T14:38:24.931405Z",
     "iopub.status.idle": "2020-10-02T14:38:26.601338Z",
     "shell.execute_reply": "2020-10-02T14:38:26.600763Z"
    },
    "papermill": {
     "duration": 1.691936,
     "end_time": "2020-10-02T14:38:26.601499",
     "exception": false,
     "start_time": "2020-10-02T14:38:24.909563",
     "status": "completed"
    },
    "tags": []
   },
   "outputs": [],
   "source": [
    "#hide\n",
    "for i in range(len(dates)):\n",
    "    df1_deaths = df_deaths1.get_group(dates[i])\n",
    "    for j in range(len(df1_deaths.index)):\n",
    "        if df1_deaths.iloc[j,1] in arr_states:\n",
    "            dft_deaths.loc[i,df1_deaths.iloc[j,1]] = df1_deaths.iloc[j,2]\n",
    "dft_deaths = dft_deaths.set_index('states')"
   ]
  },
  {
   "cell_type": "code",
   "execution_count": 7,
   "metadata": {
    "execution": {
     "iopub.execute_input": "2020-10-02T14:38:26.644862Z",
     "iopub.status.busy": "2020-10-02T14:38:26.644184Z",
     "iopub.status.idle": "2020-10-02T14:38:28.270754Z",
     "shell.execute_reply": "2020-10-02T14:38:28.269903Z"
    },
    "papermill": {
     "duration": 1.650874,
     "end_time": "2020-10-02T14:38:28.270904",
     "exception": false,
     "start_time": "2020-10-02T14:38:26.620030",
     "status": "completed"
    },
    "tags": []
   },
   "outputs": [],
   "source": [
    "#hide\n",
    "for i in range(len(dates)):\n",
    "    df1_cases = df_cases1.get_group(dates[i])\n",
    "    for j in range(len(df1_cases.index)):\n",
    "        if df1_cases.iloc[j,1] in arr_states:\n",
    "            dft_cases.loc[i,df1_cases.iloc[j,1]] = df1_cases.iloc[j,2]\n",
    "dft_cases = dft_cases.set_index('states')"
   ]
  },
  {
   "cell_type": "code",
   "execution_count": 8,
   "metadata": {
    "execution": {
     "iopub.execute_input": "2020-10-02T14:38:28.309486Z",
     "iopub.status.busy": "2020-10-02T14:38:28.308847Z",
     "iopub.status.idle": "2020-10-02T14:38:28.312415Z",
     "shell.execute_reply": "2020-10-02T14:38:28.312887Z"
    },
    "papermill": {
     "duration": 0.025177,
     "end_time": "2020-10-02T14:38:28.313029",
     "exception": false,
     "start_time": "2020-10-02T14:38:28.287852",
     "status": "completed"
    },
    "tags": []
   },
   "outputs": [],
   "source": [
    "#hide\n",
    "dft_cases = dft_cases.T\n",
    "dft_deaths = dft_deaths.T\n",
    "dt_today = dates[-1]\n",
    "dt_yday = dates[-2]"
   ]
  },
  {
   "cell_type": "code",
   "execution_count": 9,
   "metadata": {
    "execution": {
     "iopub.execute_input": "2020-10-02T14:38:28.349991Z",
     "iopub.status.busy": "2020-10-02T14:38:28.349113Z",
     "iopub.status.idle": "2020-10-02T14:38:28.354480Z",
     "shell.execute_reply": "2020-10-02T14:38:28.355005Z"
    },
    "papermill": {
     "duration": 0.025355,
     "end_time": "2020-10-02T14:38:28.355139",
     "exception": false,
     "start_time": "2020-10-02T14:38:28.329784",
     "status": "completed"
    },
    "tags": []
   },
   "outputs": [],
   "source": [
    "#hide\n",
    "dft_cases = dft_cases.reset_index()\n",
    "dft_deaths = dft_deaths.reset_index()\n",
    "dft_cases = dft_cases.rename(columns = {'index':'state'})\n",
    "dft_deaths = dft_deaths.rename(columns = {'index':'state'})"
   ]
  },
  {
   "cell_type": "code",
   "execution_count": 10,
   "metadata": {
    "execution": {
     "iopub.execute_input": "2020-10-02T14:38:28.398969Z",
     "iopub.status.busy": "2020-10-02T14:38:28.398313Z",
     "iopub.status.idle": "2020-10-02T14:38:28.400778Z",
     "shell.execute_reply": "2020-10-02T14:38:28.400228Z"
    },
    "papermill": {
     "duration": 0.029551,
     "end_time": "2020-10-02T14:38:28.400912",
     "exception": false,
     "start_time": "2020-10-02T14:38:28.371361",
     "status": "completed"
    },
    "tags": []
   },
   "outputs": [],
   "source": [
    "#hide\n",
    "dfc_cases = dft_cases.groupby('state')[dt_today].sum()\n",
    "dfc_deaths = dft_deaths.groupby('state')[dt_today].sum()\n",
    "dfp_cases = dft_cases.groupby('state')[dt_yday].sum()\n",
    "dfp_deaths = dft_deaths.groupby('state')[dt_yday].sum()"
   ]
  },
  {
   "cell_type": "code",
   "execution_count": 11,
   "metadata": {
    "execution": {
     "iopub.execute_input": "2020-10-02T14:38:28.440619Z",
     "iopub.status.busy": "2020-10-02T14:38:28.439971Z",
     "iopub.status.idle": "2020-10-02T14:38:28.453310Z",
     "shell.execute_reply": "2020-10-02T14:38:28.454156Z"
    },
    "papermill": {
     "duration": 0.037155,
     "end_time": "2020-10-02T14:38:28.454312",
     "exception": false,
     "start_time": "2020-10-02T14:38:28.417157",
     "status": "completed"
    },
    "tags": []
   },
   "outputs": [
    {
     "data": {
      "text/html": [
       "<div>\n",
       "<style scoped>\n",
       "    .dataframe tbody tr th:only-of-type {\n",
       "        vertical-align: middle;\n",
       "    }\n",
       "\n",
       "    .dataframe tbody tr th {\n",
       "        vertical-align: top;\n",
       "    }\n",
       "\n",
       "    .dataframe thead th {\n",
       "        text-align: right;\n",
       "    }\n",
       "</style>\n",
       "<table border=\"1\" class=\"dataframe\">\n",
       "  <thead>\n",
       "    <tr style=\"text-align: right;\">\n",
       "      <th></th>\n",
       "      <th>states</th>\n",
       "      <th>Cases</th>\n",
       "      <th>Deaths</th>\n",
       "      <th>PCases</th>\n",
       "      <th>PDeaths</th>\n",
       "    </tr>\n",
       "  </thead>\n",
       "  <tbody>\n",
       "    <tr>\n",
       "      <th>0</th>\n",
       "      <td>Maharashtra</td>\n",
       "      <td>1400922</td>\n",
       "      <td>37056</td>\n",
       "      <td>1400922</td>\n",
       "      <td>37056</td>\n",
       "    </tr>\n",
       "    <tr>\n",
       "      <th>1</th>\n",
       "      <td>Andhra Pradesh</td>\n",
       "      <td>700235</td>\n",
       "      <td>5869</td>\n",
       "      <td>700235</td>\n",
       "      <td>5869</td>\n",
       "    </tr>\n",
       "    <tr>\n",
       "      <th>2</th>\n",
       "      <td>Karnataka</td>\n",
       "      <td>611837</td>\n",
       "      <td>8994</td>\n",
       "      <td>611837</td>\n",
       "      <td>8994</td>\n",
       "    </tr>\n",
       "    <tr>\n",
       "      <th>3</th>\n",
       "      <td>Tamil Nadu</td>\n",
       "      <td>603290</td>\n",
       "      <td>9586</td>\n",
       "      <td>603290</td>\n",
       "      <td>9586</td>\n",
       "    </tr>\n",
       "    <tr>\n",
       "      <th>4</th>\n",
       "      <td>Uttar Pradesh</td>\n",
       "      <td>403101</td>\n",
       "      <td>5864</td>\n",
       "      <td>403101</td>\n",
       "      <td>5864</td>\n",
       "    </tr>\n",
       "  </tbody>\n",
       "</table>\n",
       "</div>"
      ],
      "text/plain": [
       "           states    Cases  Deaths   PCases  PDeaths\n",
       "0     Maharashtra  1400922   37056  1400922    37056\n",
       "1  Andhra Pradesh   700235    5869   700235     5869\n",
       "2       Karnataka   611837    8994   611837     8994\n",
       "3      Tamil Nadu   603290    9586   603290     9586\n",
       "4   Uttar Pradesh   403101    5864   403101     5864"
      ]
     },
     "execution_count": 11,
     "metadata": {},
     "output_type": "execute_result"
    }
   ],
   "source": [
    "#hide\n",
    "df_table = pd.DataFrame({'states': dfc_cases.index, 'Cases': dfc_cases.values, 'Deaths': dfc_deaths.values, 'PCases': dfp_cases.values, 'PDeaths': dfp_deaths.values}).set_index('states')\n",
    "df_table = df_table.sort_values(by = ['Cases','Deaths'], ascending = [False, False])\n",
    "df_table = df_table.reset_index()\n",
    "df_table.head()"
   ]
  },
  {
   "cell_type": "code",
   "execution_count": 12,
   "metadata": {
    "execution": {
     "iopub.execute_input": "2020-10-02T14:38:28.494320Z",
     "iopub.status.busy": "2020-10-02T14:38:28.493647Z",
     "iopub.status.idle": "2020-10-02T14:38:28.502550Z",
     "shell.execute_reply": "2020-10-02T14:38:28.503089Z"
    },
    "papermill": {
     "duration": 0.031395,
     "end_time": "2020-10-02T14:38:28.503254",
     "exception": false,
     "start_time": "2020-10-02T14:38:28.471859",
     "status": "completed"
    },
    "tags": []
   },
   "outputs": [],
   "source": [
    "#hide\n",
    "for c in 'Cases, Deaths'.split(', '):\n",
    "    df_table[f'{c} (+)'] = (df_table[c] - df_table[f'P{c}']).clip(0)\n",
    "df_table['Fatality Rate'] = (100* df_table['Deaths']/ df_table['Cases']).round(2)"
   ]
  },
  {
   "cell_type": "code",
   "execution_count": 13,
   "metadata": {
    "execution": {
     "iopub.execute_input": "2020-10-02T14:38:28.550416Z",
     "iopub.status.busy": "2020-10-02T14:38:28.549732Z",
     "iopub.status.idle": "2020-10-02T14:38:28.553185Z",
     "shell.execute_reply": "2020-10-02T14:38:28.552543Z"
    },
    "papermill": {
     "duration": 0.03286,
     "end_time": "2020-10-02T14:38:28.553322",
     "exception": false,
     "start_time": "2020-10-02T14:38:28.520462",
     "status": "completed"
    },
    "tags": []
   },
   "outputs": [
    {
     "data": {
      "text/html": [
       "<div>\n",
       "<style scoped>\n",
       "    .dataframe tbody tr th:only-of-type {\n",
       "        vertical-align: middle;\n",
       "    }\n",
       "\n",
       "    .dataframe tbody tr th {\n",
       "        vertical-align: top;\n",
       "    }\n",
       "\n",
       "    .dataframe thead th {\n",
       "        text-align: right;\n",
       "    }\n",
       "</style>\n",
       "<table border=\"1\" class=\"dataframe\">\n",
       "  <thead>\n",
       "    <tr style=\"text-align: right;\">\n",
       "      <th></th>\n",
       "      <th>states</th>\n",
       "      <th>Cases</th>\n",
       "      <th>Deaths</th>\n",
       "      <th>PCases</th>\n",
       "      <th>PDeaths</th>\n",
       "      <th>Cases (+)</th>\n",
       "      <th>Deaths (+)</th>\n",
       "      <th>Fatality Rate</th>\n",
       "    </tr>\n",
       "  </thead>\n",
       "  <tbody>\n",
       "    <tr>\n",
       "      <th>0</th>\n",
       "      <td>Maharashtra</td>\n",
       "      <td>1400922</td>\n",
       "      <td>37056</td>\n",
       "      <td>1400922</td>\n",
       "      <td>37056</td>\n",
       "      <td>0</td>\n",
       "      <td>0</td>\n",
       "      <td>2.65</td>\n",
       "    </tr>\n",
       "    <tr>\n",
       "      <th>1</th>\n",
       "      <td>Andhra Pradesh</td>\n",
       "      <td>700235</td>\n",
       "      <td>5869</td>\n",
       "      <td>700235</td>\n",
       "      <td>5869</td>\n",
       "      <td>0</td>\n",
       "      <td>0</td>\n",
       "      <td>0.84</td>\n",
       "    </tr>\n",
       "    <tr>\n",
       "      <th>2</th>\n",
       "      <td>Karnataka</td>\n",
       "      <td>611837</td>\n",
       "      <td>8994</td>\n",
       "      <td>611837</td>\n",
       "      <td>8994</td>\n",
       "      <td>0</td>\n",
       "      <td>0</td>\n",
       "      <td>1.47</td>\n",
       "    </tr>\n",
       "    <tr>\n",
       "      <th>3</th>\n",
       "      <td>Tamil Nadu</td>\n",
       "      <td>603290</td>\n",
       "      <td>9586</td>\n",
       "      <td>603290</td>\n",
       "      <td>9586</td>\n",
       "      <td>0</td>\n",
       "      <td>0</td>\n",
       "      <td>1.59</td>\n",
       "    </tr>\n",
       "    <tr>\n",
       "      <th>4</th>\n",
       "      <td>Uttar Pradesh</td>\n",
       "      <td>403101</td>\n",
       "      <td>5864</td>\n",
       "      <td>403101</td>\n",
       "      <td>5864</td>\n",
       "      <td>0</td>\n",
       "      <td>0</td>\n",
       "      <td>1.45</td>\n",
       "    </tr>\n",
       "  </tbody>\n",
       "</table>\n",
       "</div>"
      ],
      "text/plain": [
       "           states    Cases  Deaths   PCases  PDeaths  Cases (+)  Deaths (+)  \\\n",
       "0     Maharashtra  1400922   37056  1400922    37056          0           0   \n",
       "1  Andhra Pradesh   700235    5869   700235     5869          0           0   \n",
       "2       Karnataka   611837    8994   611837     8994          0           0   \n",
       "3      Tamil Nadu   603290    9586   603290     9586          0           0   \n",
       "4   Uttar Pradesh   403101    5864   403101     5864          0           0   \n",
       "\n",
       "   Fatality Rate  \n",
       "0           2.65  \n",
       "1           0.84  \n",
       "2           1.47  \n",
       "3           1.59  \n",
       "4           1.45  "
      ]
     },
     "execution_count": 13,
     "metadata": {},
     "output_type": "execute_result"
    }
   ],
   "source": [
    "#hide\n",
    "df_table.head()"
   ]
  },
  {
   "cell_type": "code",
   "execution_count": 14,
   "metadata": {
    "execution": {
     "iopub.execute_input": "2020-10-02T14:38:28.595945Z",
     "iopub.status.busy": "2020-10-02T14:38:28.595295Z",
     "iopub.status.idle": "2020-10-02T14:38:28.614430Z",
     "shell.execute_reply": "2020-10-02T14:38:28.615032Z"
    },
    "papermill": {
     "duration": 0.044496,
     "end_time": "2020-10-02T14:38:28.615210",
     "exception": false,
     "start_time": "2020-10-02T14:38:28.570714",
     "status": "completed"
    },
    "tags": []
   },
   "outputs": [
    {
     "data": {
      "text/plain": [
       "{'updated': '2020-10-02',\n",
       " 'since': '2020-10-01',\n",
       " 'Cases': 6400419,\n",
       " 'PCases': 6391960,\n",
       " 'Deaths': 99851,\n",
       " 'PDeaths': 99804,\n",
       " 'Cases (+)': 8459,\n",
       " 'Deaths (+)': 47}"
      ]
     },
     "execution_count": 14,
     "metadata": {},
     "output_type": "execute_result"
    }
   ],
   "source": [
    "#hide\n",
    "summary = {'updated':dates[-1], 'since':dates[-2]}\n",
    "list_names = ['Cases', 'PCases', 'Deaths', 'PDeaths', 'Cases (+)', 'Deaths (+)']\n",
    "for name in list_names:\n",
    "    summary[name] = df_table.sum()[name]\n",
    "summary"
   ]
  },
  {
   "cell_type": "code",
   "execution_count": 15,
   "metadata": {
    "execution": {
     "iopub.execute_input": "2020-10-02T14:38:28.656811Z",
     "iopub.status.busy": "2020-10-02T14:38:28.656162Z",
     "iopub.status.idle": "2020-10-02T14:38:28.659092Z",
     "shell.execute_reply": "2020-10-02T14:38:28.658546Z"
    },
    "papermill": {
     "duration": 0.025496,
     "end_time": "2020-10-02T14:38:28.659227",
     "exception": false,
     "start_time": "2020-10-02T14:38:28.633731",
     "status": "completed"
    },
    "tags": []
   },
   "outputs": [],
   "source": [
    "#hide\n",
    "overview = '''\n",
    "<!-- #######  HTML!! #########-->\n",
    "<h1 style=\"color: #5e9ca0; text-align: center;\">India</h1>\n",
    "<p style=\"text-align: center;\">Last update: <strong>{update}</strong></p>\n",
    "<p style=\"text-align: center;\">Confirmed cases:</p>\n",
    "<p style=\"text-align: center;font-size:24px;\">{cases} (<span style=\"color: #ff0000;\">+{new}</span>)</p>\n",
    "<p style=\"text-align: center;\">Confirmed deaths:</p>\n",
    "<p style=\"text-align: center;font-size:24px;\">{deaths} (<span style=\"color: #ff0000;\">+{dnew}</span>)</p>\n",
    "'''"
   ]
  },
  {
   "cell_type": "code",
   "execution_count": 16,
   "metadata": {
    "execution": {
     "iopub.execute_input": "2020-10-02T14:38:28.700016Z",
     "iopub.status.busy": "2020-10-02T14:38:28.699358Z",
     "iopub.status.idle": "2020-10-02T14:38:28.704724Z",
     "shell.execute_reply": "2020-10-02T14:38:28.704164Z"
    },
    "papermill": {
     "duration": 0.028143,
     "end_time": "2020-10-02T14:38:28.704864",
     "exception": false,
     "start_time": "2020-10-02T14:38:28.676721",
     "status": "completed"
    },
    "tags": []
   },
   "outputs": [
    {
     "data": {
      "text/html": [
       "\n",
       "<!-- #######  HTML!! #########-->\n",
       "<h1 style=\"color: #5e9ca0; text-align: center;\">India</h1>\n",
       "<p style=\"text-align: center;\">Last update: <strong>2020-10-02</strong></p>\n",
       "<p style=\"text-align: center;\">Confirmed cases:</p>\n",
       "<p style=\"text-align: center;font-size:24px;\">6400419 (<span style=\"color: #ff0000;\">+8459</span>)</p>\n",
       "<p style=\"text-align: center;\">Confirmed deaths:</p>\n",
       "<p style=\"text-align: center;font-size:24px;\">99851 (<span style=\"color: #ff0000;\">+47</span>)</p>\n"
      ],
      "text/plain": [
       "<IPython.core.display.HTML object>"
      ]
     },
     "metadata": {},
     "output_type": "display_data"
    }
   ],
   "source": [
    "#hide_input\n",
    "update = summary['updated']\n",
    "cases = summary['Cases']\n",
    "new = summary['Cases (+)']\n",
    "deaths = summary['Deaths']\n",
    "dnew = summary['Deaths (+)']\n",
    "\n",
    "html = HTML(overview.format(update=update, cases=cases,new=new,deaths=deaths,dnew=dnew))\n",
    "\n",
    "display(html)"
   ]
  },
  {
   "cell_type": "code",
   "execution_count": 17,
   "metadata": {
    "execution": {
     "iopub.execute_input": "2020-10-02T14:38:28.759959Z",
     "iopub.status.busy": "2020-10-02T14:38:28.759316Z",
     "iopub.status.idle": "2020-10-02T14:38:28.763982Z",
     "shell.execute_reply": "2020-10-02T14:38:28.764511Z"
    },
    "papermill": {
     "duration": 0.035361,
     "end_time": "2020-10-02T14:38:28.764662",
     "exception": false,
     "start_time": "2020-10-02T14:38:28.729301",
     "status": "completed"
    },
    "tags": []
   },
   "outputs": [],
   "source": [
    "#hide\n",
    "dt_cols = list(dft_cases.columns[1:])\n",
    "dft_ct_new_cases = dft_cases.groupby('state')[dt_cols].sum().diff(axis=1).fillna(0).astype(int)\n",
    "dft_ct_new_cases.sort_values(by = dates[-1], ascending = False,inplace = True)"
   ]
  },
  {
   "cell_type": "code",
   "execution_count": 18,
   "metadata": {
    "execution": {
     "iopub.execute_input": "2020-10-02T14:38:28.817400Z",
     "iopub.status.busy": "2020-10-02T14:38:28.816722Z",
     "iopub.status.idle": "2020-10-02T14:38:28.819977Z",
     "shell.execute_reply": "2020-10-02T14:38:28.820510Z"
    },
    "papermill": {
     "duration": 0.037926,
     "end_time": "2020-10-02T14:38:28.820653",
     "exception": false,
     "start_time": "2020-10-02T14:38:28.782727",
     "status": "completed"
    },
    "tags": []
   },
   "outputs": [
    {
     "data": {
      "text/html": [
       "<div>\n",
       "<style scoped>\n",
       "    .dataframe tbody tr th:only-of-type {\n",
       "        vertical-align: middle;\n",
       "    }\n",
       "\n",
       "    .dataframe tbody tr th {\n",
       "        vertical-align: top;\n",
       "    }\n",
       "\n",
       "    .dataframe thead th {\n",
       "        text-align: right;\n",
       "    }\n",
       "</style>\n",
       "<table border=\"1\" class=\"dataframe\">\n",
       "  <thead>\n",
       "    <tr style=\"text-align: right;\">\n",
       "      <th>states</th>\n",
       "      <th>2020-07-01</th>\n",
       "      <th>2020-07-02</th>\n",
       "      <th>2020-07-03</th>\n",
       "      <th>2020-07-04</th>\n",
       "      <th>2020-07-05</th>\n",
       "      <th>2020-07-06</th>\n",
       "      <th>2020-07-07</th>\n",
       "      <th>2020-07-08</th>\n",
       "      <th>2020-07-09</th>\n",
       "      <th>2020-07-10</th>\n",
       "      <th>...</th>\n",
       "      <th>2020-09-23</th>\n",
       "      <th>2020-09-24</th>\n",
       "      <th>2020-09-25</th>\n",
       "      <th>2020-09-26</th>\n",
       "      <th>2020-09-27</th>\n",
       "      <th>2020-09-28</th>\n",
       "      <th>2020-09-29</th>\n",
       "      <th>2020-09-30</th>\n",
       "      <th>2020-10-01</th>\n",
       "      <th>2020-10-02</th>\n",
       "    </tr>\n",
       "    <tr>\n",
       "      <th>state</th>\n",
       "      <th></th>\n",
       "      <th></th>\n",
       "      <th></th>\n",
       "      <th></th>\n",
       "      <th></th>\n",
       "      <th></th>\n",
       "      <th></th>\n",
       "      <th></th>\n",
       "      <th></th>\n",
       "      <th></th>\n",
       "      <th></th>\n",
       "      <th></th>\n",
       "      <th></th>\n",
       "      <th></th>\n",
       "      <th></th>\n",
       "      <th></th>\n",
       "      <th></th>\n",
       "      <th></th>\n",
       "      <th></th>\n",
       "      <th></th>\n",
       "      <th></th>\n",
       "    </tr>\n",
       "  </thead>\n",
       "  <tbody>\n",
       "    <tr>\n",
       "      <th>Odisha</th>\n",
       "      <td>0</td>\n",
       "      <td>229</td>\n",
       "      <td>561</td>\n",
       "      <td>495</td>\n",
       "      <td>469</td>\n",
       "      <td>456</td>\n",
       "      <td>571</td>\n",
       "      <td>527</td>\n",
       "      <td>577</td>\n",
       "      <td>755</td>\n",
       "      <td>...</td>\n",
       "      <td>4237</td>\n",
       "      <td>4340</td>\n",
       "      <td>4208</td>\n",
       "      <td>4356</td>\n",
       "      <td>3922</td>\n",
       "      <td>3235</td>\n",
       "      <td>3067</td>\n",
       "      <td>3443</td>\n",
       "      <td>3615</td>\n",
       "      <td>3600</td>\n",
       "    </tr>\n",
       "    <tr>\n",
       "      <th>Telangana</th>\n",
       "      <td>0</td>\n",
       "      <td>1213</td>\n",
       "      <td>1892</td>\n",
       "      <td>1850</td>\n",
       "      <td>1590</td>\n",
       "      <td>1831</td>\n",
       "      <td>1879</td>\n",
       "      <td>1924</td>\n",
       "      <td>1410</td>\n",
       "      <td>1278</td>\n",
       "      <td>...</td>\n",
       "      <td>2296</td>\n",
       "      <td>2176</td>\n",
       "      <td>2381</td>\n",
       "      <td>2239</td>\n",
       "      <td>1967</td>\n",
       "      <td>1378</td>\n",
       "      <td>2072</td>\n",
       "      <td>2103</td>\n",
       "      <td>2214</td>\n",
       "      <td>2009</td>\n",
       "    </tr>\n",
       "    <tr>\n",
       "      <th>Bihar</th>\n",
       "      <td>0</td>\n",
       "      <td>478</td>\n",
       "      <td>426</td>\n",
       "      <td>349</td>\n",
       "      <td>403</td>\n",
       "      <td>280</td>\n",
       "      <td>385</td>\n",
       "      <td>749</td>\n",
       "      <td>704</td>\n",
       "      <td>352</td>\n",
       "      <td>...</td>\n",
       "      <td>1598</td>\n",
       "      <td>1203</td>\n",
       "      <td>1632</td>\n",
       "      <td>1457</td>\n",
       "      <td>1527</td>\n",
       "      <td>1150</td>\n",
       "      <td>1439</td>\n",
       "      <td>1435</td>\n",
       "      <td>1370</td>\n",
       "      <td>1431</td>\n",
       "    </tr>\n",
       "    <tr>\n",
       "      <th>Jammu and Kashmir</th>\n",
       "      <td>0</td>\n",
       "      <td>154</td>\n",
       "      <td>170</td>\n",
       "      <td>227</td>\n",
       "      <td>183</td>\n",
       "      <td>246</td>\n",
       "      <td>256</td>\n",
       "      <td>330</td>\n",
       "      <td>240</td>\n",
       "      <td>387</td>\n",
       "      <td>...</td>\n",
       "      <td>1249</td>\n",
       "      <td>1104</td>\n",
       "      <td>1218</td>\n",
       "      <td>1217</td>\n",
       "      <td>1141</td>\n",
       "      <td>824</td>\n",
       "      <td>1081</td>\n",
       "      <td>975</td>\n",
       "      <td>1093</td>\n",
       "      <td>1090</td>\n",
       "    </tr>\n",
       "    <tr>\n",
       "      <th>Tripura</th>\n",
       "      <td>0</td>\n",
       "      <td>39</td>\n",
       "      <td>93</td>\n",
       "      <td>25</td>\n",
       "      <td>23</td>\n",
       "      <td>111</td>\n",
       "      <td>24</td>\n",
       "      <td>57</td>\n",
       "      <td>16</td>\n",
       "      <td>142</td>\n",
       "      <td>...</td>\n",
       "      <td>504</td>\n",
       "      <td>451</td>\n",
       "      <td>341</td>\n",
       "      <td>278</td>\n",
       "      <td>320</td>\n",
       "      <td>193</td>\n",
       "      <td>432</td>\n",
       "      <td>381</td>\n",
       "      <td>332</td>\n",
       "      <td>296</td>\n",
       "    </tr>\n",
       "  </tbody>\n",
       "</table>\n",
       "<p>5 rows × 94 columns</p>\n",
       "</div>"
      ],
      "text/plain": [
       "states             2020-07-01  2020-07-02  2020-07-03  2020-07-04  2020-07-05  \\\n",
       "state                                                                           \n",
       "Odisha                      0         229         561         495         469   \n",
       "Telangana                   0        1213        1892        1850        1590   \n",
       "Bihar                       0         478         426         349         403   \n",
       "Jammu and Kashmir           0         154         170         227         183   \n",
       "Tripura                     0          39          93          25          23   \n",
       "\n",
       "states             2020-07-06  2020-07-07  2020-07-08  2020-07-09  2020-07-10  \\\n",
       "state                                                                           \n",
       "Odisha                    456         571         527         577         755   \n",
       "Telangana                1831        1879        1924        1410        1278   \n",
       "Bihar                     280         385         749         704         352   \n",
       "Jammu and Kashmir         246         256         330         240         387   \n",
       "Tripura                   111          24          57          16         142   \n",
       "\n",
       "states             ...  2020-09-23  2020-09-24  2020-09-25  2020-09-26  \\\n",
       "state              ...                                                   \n",
       "Odisha             ...        4237        4340        4208        4356   \n",
       "Telangana          ...        2296        2176        2381        2239   \n",
       "Bihar              ...        1598        1203        1632        1457   \n",
       "Jammu and Kashmir  ...        1249        1104        1218        1217   \n",
       "Tripura            ...         504         451         341         278   \n",
       "\n",
       "states             2020-09-27  2020-09-28  2020-09-29  2020-09-30  2020-10-01  \\\n",
       "state                                                                           \n",
       "Odisha                   3922        3235        3067        3443        3615   \n",
       "Telangana                1967        1378        2072        2103        2214   \n",
       "Bihar                    1527        1150        1439        1435        1370   \n",
       "Jammu and Kashmir        1141         824        1081         975        1093   \n",
       "Tripura                   320         193         432         381         332   \n",
       "\n",
       "states             2020-10-02  \n",
       "state                          \n",
       "Odisha                   3600  \n",
       "Telangana                2009  \n",
       "Bihar                    1431  \n",
       "Jammu and Kashmir        1090  \n",
       "Tripura                   296  \n",
       "\n",
       "[5 rows x 94 columns]"
      ]
     },
     "execution_count": 18,
     "metadata": {},
     "output_type": "execute_result"
    }
   ],
   "source": [
    "#hide\n",
    "dft_ct_new_cases.head()"
   ]
  },
  {
   "cell_type": "code",
   "execution_count": 19,
   "metadata": {
    "execution": {
     "iopub.execute_input": "2020-10-02T14:38:28.872081Z",
     "iopub.status.busy": "2020-10-02T14:38:28.871385Z",
     "iopub.status.idle": "2020-10-02T14:38:33.255213Z",
     "shell.execute_reply": "2020-10-02T14:38:33.255831Z"
    },
    "papermill": {
     "duration": 4.413976,
     "end_time": "2020-10-02T14:38:33.255998",
     "exception": false,
     "start_time": "2020-10-02T14:38:28.842022",
     "status": "completed"
    },
    "tags": []
   },
   "outputs": [
    {
     "data": {
      "image/png": "[encoded data removed]",
      "text/plain": [
       "<Figure size 1296x2016 with 11 Axes>"
      ]
     },
     "metadata": {
      "needs_background": "light"
     },
     "output_type": "display_data"
    }
   ],
   "source": [
    "#hide_input\n",
    "df = dft_ct_new_cases.copy()\n",
    "df.loc['Total'] = df.sum()\n",
    "n = 5\n",
    "ax = []\n",
    "fig = plt.figure(figsize = (18,28))\n",
    "gs = fig.add_gridspec(n+2, 5)\n",
    "# gs = fig.add_gridspec(2, 3)\n",
    "ax1 = fig.add_subplot(gs[0, :])\n",
    "ef = df.loc['Total'].rename_axis('date').reset_index()\n",
    "ef['date'] = ef['date'].astype('datetime64[ns]')\n",
    "ax1.bar(ef.date,ef.Total,alpha=0.3,color='#007acc')\n",
    "ax1.plot(ef.date,ef.Total , marker=\"o\", color='#007acc')\n",
    "ax1.xaxis.set_major_locator(mdates.WeekdayLocator())\n",
    "ax1.xaxis.set_major_formatter(mdates.DateFormatter('%b %d'))\n",
    "ax1.text(0.02, 0.5,'India daily case count', transform = ax1.transAxes, fontsize=25);\n",
    "ax1.spines['right'].set_visible(False)\n",
    "ax1.spines['top'].set_visible(False)\n",
    "\n",
    "ax2 = fig.add_subplot(gs[1,0])\n",
    "ef = df.loc['Maharashtra'].rename_axis('date').reset_index()\n",
    "ef['date'] = ef['date'].astype('datetime64[ns]')\n",
    "\n",
    "ax2.bar(ef.date, ef.Maharashtra,color = '#007acc',alpha=0.5)\n",
    "ax2.xaxis.set_major_locator(mdates.WeekdayLocator())\n",
    "ax2.xaxis.set_major_formatter(mdates.DateFormatter('%b %d'))\n",
    "ax2.set_xticks(ax2.get_xticks()[::3])\n",
    "maxyval = ef.Maharashtra.max()\n",
    "ax2.set_ylim([0,maxyval])\n",
    "ax2.text(0.05, 0.9,'Maharashtra', transform = ax2.transAxes, fontsize=20);\n",
    "ax2.spines['right'].set_visible(False)\n",
    "ax2.spines['top'].set_visible(False)\n",
    "\n",
    "\n",
    "ax3 = fig.add_subplot(gs[1,1])\n",
    "ef = df.loc['Tamil Nadu'].rename_axis('date').reset_index()\n",
    "ef['date'] = ef['date'].astype('datetime64[ns]')\n",
    "ax3.bar(ef.date, ef['Tamil Nadu'],color = '#007acc',alpha=0.5,)\n",
    "ax3.xaxis.set_major_locator(mdates.WeekdayLocator())\n",
    "ax3.xaxis.set_major_formatter(mdates.DateFormatter('%b %d'))\n",
    "ax3.set_xticks(ax3.get_xticks()[::3])\n",
    "ax3.text(0.05, 0.9,'Tamil Nadu', transform = ax3.transAxes, fontsize=20);\n",
    "ax3.spines['right'].set_visible(False)\n",
    "ax3.spines['top'].set_visible(False)\n",
    "\n",
    "ax5 = fig.add_subplot(gs[1,3])\n",
    "ef = df.loc['Telangana'].rename_axis('date').reset_index()\n",
    "ef['date'] = ef['date'].astype('datetime64[ns]')\n",
    "ax5.bar(ef.date, ef['Telangana'],color = '#007acc',alpha=0.5,)\n",
    "ax5.xaxis.set_major_locator(mdates.WeekdayLocator())\n",
    "ax5.xaxis.set_major_formatter(mdates.DateFormatter('%b %d'))\n",
    "ax5.set_xticks(ax5.get_xticks()[::3])\n",
    "ax5.text(0.05, 0.9,'Telangana', transform = ax5.transAxes, fontsize=20);\n",
    "ax5.spines['right'].set_visible(False)\n",
    "ax5.spines['top'].set_visible(False)\n",
    "\n",
    "ax6 = fig.add_subplot(gs[1,4])\n",
    "ef = df.loc['Andhra Pradesh'].rename_axis('date').reset_index()\n",
    "ef['date'] = ef['date'].astype('datetime64[ns]')\n",
    "ax6.bar(ef.date, ef['Andhra Pradesh'],color = '#007acc',alpha=0.5,)\n",
    "ax6.xaxis.set_major_locator(mdates.WeekdayLocator())\n",
    "ax6.xaxis.set_major_formatter(mdates.DateFormatter('%b %d'))\n",
    "ax6.set_xticks(ax6.get_xticks()[::3])\n",
    "ax6.text(0.05, 1,'Andhra Pradesh', transform = ax6.transAxes, fontsize=20);\n",
    "ax6.spines['right'].set_visible(False)\n",
    "ax6.spines['top'].set_visible(False)\n",
    "\n",
    "ax4 = fig.add_subplot(gs[1,2])\n",
    "ef = df.loc['Delhi'].rename_axis('date').reset_index()\n",
    "ef['date'] = ef['date'].astype('datetime64[ns]')\n",
    "ax4.bar(ef.date, ef.Delhi,color = '#007acc',alpha=0.5)\n",
    "ax4.set_xticks([])\n",
    "ax4.xaxis.set_major_locator(mdates.WeekdayLocator())\n",
    "ax4.xaxis.set_major_formatter(mdates.DateFormatter('%b %d'))\n",
    "ax4.set_xticks(ax4.get_xticks()[::3])\n",
    "ax4.spines['right'].set_visible(False)\n",
    "ax4.spines['top'].set_visible(False)\n",
    "\n",
    "ax4.text(0.05, 1,'Delhi', transform = ax4.transAxes, fontsize=20)\n",
    "\n",
    "for i in range(n):\n",
    "    \n",
    "    ax.append(fig.add_subplot(gs[i+2,:]))\n",
    "    ef = df.iloc[i+3].rename_axis('date').reset_index()\n",
    "    ef['date'] = ef['date'].astype('datetime64[ns]')\n",
    "    ax[i].bar(ef.date,ef.iloc[:,-1],color = '#007acc',alpha=0.3)\n",
    "    ax[i].plot(ef.date,ef.iloc[:,-1],marker='o',color='#007acc')\n",
    "    ax[i].text(0.02,0.5,f'{ef.columns.values[-1]}',transform = ax[i].transAxes, fontsize = 20);\n",
    "    ax[i].xaxis.set_major_locator(mdates.WeekdayLocator())\n",
    "    ax[i].xaxis.set_major_formatter(mdates.DateFormatter('%b %d'))\n",
    "    ax[i].set_ylim([0,7000])\n",
    "    ax[i].spines['right'].set_visible(False)\n",
    "    ax[i].spines['top'].set_visible(False)\n",
    "plt.tight_layout()\n"
   ]
  },
  {
   "cell_type": "code",
   "execution_count": 20,
   "metadata": {
    "execution": {
     "iopub.execute_input": "2020-10-02T14:38:33.312514Z",
     "iopub.status.busy": "2020-10-02T14:38:33.311845Z",
     "iopub.status.idle": "2020-10-02T14:38:33.315250Z",
     "shell.execute_reply": "2020-10-02T14:38:33.315991Z"
    },
    "papermill": {
     "duration": 0.035721,
     "end_time": "2020-10-02T14:38:33.316160",
     "exception": false,
     "start_time": "2020-10-02T14:38:33.280439",
     "status": "completed"
    },
    "tags": []
   },
   "outputs": [
    {
     "name": "stdout",
     "output_type": "stream",
     "text": [
      "                                   states    Cases  Deaths   PCases  PDeaths  Cases (+)  Deaths (+)  Fatality Rate\n",
      "                              Maharashtra  1400922   37056  1400922    37056          0           0           2.65\n",
      "                           Andhra Pradesh   700235    5869   700235     5869          0           0           0.84\n",
      "                                Karnataka   611837    8994   611837     8994          0           0           1.47\n",
      "                               Tamil Nadu   603290    9586   603290     9586          0           0           1.59\n",
      "                            Uttar Pradesh   403101    5864   403101     5864          0           0           1.45\n",
      "                                    Delhi   282752    5401   282752     5401          0           0           1.91\n",
      "                              West Bengal   260324    5017   260324     5017          0           0           1.93\n",
      "                                   Odisha   226334     928   222734      912       3600          16           0.41\n",
      "                                   Kerala   204242     772   204242      772          0           0           0.38\n",
      "                                Telangana   195609    1145   193600     1135       2009          10           0.59\n",
      "                                    Bihar   185707     910   184276      906       1431           4           0.49\n",
      "                                    Assam   182396     711   182396      711          0           0           0.39\n",
      "                                  Gujarat   138744    3463   138744     3463          0           0           2.50\n",
      "                                Rajasthan   137485    1500   137485     1500          0           0           1.09\n",
      "                           Madhya Pradesh   130088    2336   130088     2336          0           0           1.80\n",
      "                                  Haryana   129912    1402   129912     1402          0           0           1.08\n",
      "                             Chhattisgarh   116153     986   116153      986          0           0           0.85\n",
      "                                   Punjab   115151    3451   115151     3451          0           0           3.00\n",
      "                                Jharkhand    84664     721    84664      721          0           0           0.85\n",
      "                        Jammu and Kashmir    77253    1212    76163     1198       1090          14           1.57\n",
      "                              Uttarakhand    49248     625    49248      625          0           0           1.27\n",
      "                                      Goa    33942     440    33942      440          0           0           1.30\n",
      "                               Puducherry    28024     525    28024      525          0           0           1.87\n",
      "                                  Tripura    26359     283    26063      280        296           3           1.07\n",
      "                         Himachal Pradesh    15219     190    15219      190          0           0           1.25\n",
      "                               Chandigarh    12057     164    12057      164          0           0           1.36\n",
      "                                  Manipur    11111      68    11111       68          0           0           0.61\n",
      "                        Arunachal Pradesh    10020      16    10020       16          0           0           0.16\n",
      "                                 Nagaland     6244      12     6244       12          0           0           0.19\n",
      "                                Meghalaya     5802      51     5802       51          0           0           0.88\n",
      "                                   Ladakh     4269      58     4269       58          0           0           1.36\n",
      "              Andaman and Nicobar Islands     3848      53     3848       53          0           0           1.38\n",
      " Dadra and Nagar Haveli and Daman and Diu     3059       2     3057        2          2           0           0.07\n",
      "                                   Sikkim     2969      40     2969       40          0           0           1.35\n",
      "                                  Mizoram     2049       0     2018        0         31           0           0.00\n",
      "                              Lakshadweep        0       0        0        0          0           0            NaN\n"
     ]
    }
   ],
   "source": [
    "#hide_input\n",
    "print(df_table.to_string(index=False))"
   ]
  },
  {
   "cell_type": "code",
   "execution_count": null,
   "metadata": {
    "papermill": {
     "duration": 0.026076,
     "end_time": "2020-10-02T14:38:33.368022",
     "exception": false,
     "start_time": "2020-10-02T14:38:33.341946",
     "status": "completed"
    },
    "tags": []
   },
   "outputs": [],
   "source": []
  },
  {
   "cell_type": "code",
   "execution_count": null,
   "metadata": {
    "papermill": {
     "duration": 0.023077,
     "end_time": "2020-10-02T14:38:33.414479",
     "exception": false,
     "start_time": "2020-10-02T14:38:33.391402",
     "status": "completed"
    },
    "tags": []
   },
   "outputs": [],
   "source": []
  }
 ],
 "metadata": {
  "kernelspec": {
   "display_name": "Python 3",
   "language": "python",
   "name": "python3"
  },
  "language_info": {
   "codemirror_mode": {
    "name": "ipython",
    "version": 3
   },
   "file_extension": ".py",
   "mimetype": "text/x-python",
   "name": "python",
   "nbconvert_exporter": "python",
   "pygments_lexer": "ipython3",
   "version": "3.6.12"
  },
  "papermill": {
   "duration": 11.129927,
   "end_time": "2020-10-02T14:38:33.846604",
   "environment_variables": {},
   "exception": null,
   "input_path": "latest.ipynb",
   "output_path": "latest.ipynb",
   "parameters": {},
   "start_time": "2020-10-02T14:38:22.716677",
   "version": "2.1.2"
  }
 },
 "nbformat": 4,
 "nbformat_minor": 4
}