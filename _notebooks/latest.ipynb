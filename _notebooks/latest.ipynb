{
 "cells": [
  {
   "cell_type": "markdown",
   "metadata": {
    "papermill": {
     "duration": 0.019328,
     "end_time": "2020-10-30T14:37:20.130263",
     "exception": false,
     "start_time": "2020-10-30T14:37:20.110935",
     "status": "completed"
    },
    "tags": []
   },
   "source": [
    "# Latest COVID-19 India Matplotlib Overview"
   ]
  },
  {
   "cell_type": "code",
   "execution_count": 1,
   "metadata": {
    "execution": {
     "iopub.execute_input": "2020-10-30T14:37:20.167964Z",
     "iopub.status.busy": "2020-10-30T14:37:20.167331Z",
     "iopub.status.idle": "2020-10-30T14:37:20.760031Z",
     "shell.execute_reply": "2020-10-30T14:37:20.759139Z"
    },
    "papermill": {
     "duration": 0.614067,
     "end_time": "2020-10-30T14:37:20.760286",
     "exception": false,
     "start_time": "2020-10-30T14:37:20.146219",
     "status": "completed"
    },
    "tags": []
   },
   "outputs": [],
   "source": [
    "#hide\n",
    "import pandas as pd\n",
    "import numpy as np\n",
    "import requests\n",
    "import json\n",
    "import matplotlib.pyplot as plt\n",
    "import matplotlib.dates as mdates\n",
    "import matplotlib as mpl\n",
    "from IPython.core.display import display,HTML\n",
    "%matplotlib inline\n",
    "from datetime import date"
   ]
  },
  {
   "cell_type": "code",
   "execution_count": 2,
   "metadata": {
    "execution": {
     "iopub.execute_input": "2020-10-30T14:37:20.799873Z",
     "iopub.status.busy": "2020-10-30T14:37:20.798896Z",
     "iopub.status.idle": "2020-10-30T14:37:21.116536Z",
     "shell.execute_reply": "2020-10-30T14:37:21.115966Z"
    },
    "papermill": {
     "duration": 0.340355,
     "end_time": "2020-10-30T14:37:21.116677",
     "exception": false,
     "start_time": "2020-10-30T14:37:20.776322",
     "status": "completed"
    },
    "tags": []
   },
   "outputs": [],
   "source": [
    "#hide\n",
    "df  = pd.read_csv('https://api.covid19india.org/csv/latest/states.csv')\n",
    "df = df[['Date','State','Confirmed','Deceased']]\n",
    "df = df.rename(columns={'Confirmed':'Cases', \"Deceased\":'Deaths'})\n",
    "df_cases = df[[\"Date\",'State','Cases']]\n",
    "df_deaths = df[['Date','State','Deaths']]\n",
    "df_cases1 = df_cases.groupby('Date')\n",
    "df_deaths1= df_deaths.groupby('Date')"
   ]
  },
  {
   "cell_type": "code",
   "execution_count": 3,
   "metadata": {
    "execution": {
     "iopub.execute_input": "2020-10-30T14:37:21.154274Z",
     "iopub.status.busy": "2020-10-30T14:37:21.153667Z",
     "iopub.status.idle": "2020-10-30T14:37:21.173857Z",
     "shell.execute_reply": "2020-10-30T14:37:21.173357Z"
    },
    "papermill": {
     "duration": 0.041911,
     "end_time": "2020-10-30T14:37:21.173997",
     "exception": false,
     "start_time": "2020-10-30T14:37:21.132086",
     "status": "completed"
    },
    "tags": []
   },
   "outputs": [],
   "source": [
    "#hide\n",
    "df_snap = pd.read_csv('data/SnapshotCases-28-July.csv')\n",
    "arr_states = df_snap['states'].unique()\n",
    "arr_dates = df['Date'].unique()\n",
    "df_snap = df_snap.set_index('states')"
   ]
  },
  {
   "cell_type": "code",
   "execution_count": 4,
   "metadata": {
    "execution": {
     "iopub.execute_input": "2020-10-30T14:37:21.222149Z",
     "iopub.status.busy": "2020-10-30T14:37:21.219548Z",
     "iopub.status.idle": "2020-10-30T14:37:21.223796Z",
     "shell.execute_reply": "2020-10-30T14:37:21.224337Z"
    },
    "papermill": {
     "duration": 0.030456,
     "end_time": "2020-10-30T14:37:21.224496",
     "exception": false,
     "start_time": "2020-10-30T14:37:21.194040",
     "status": "completed"
    },
    "tags": []
   },
   "outputs": [
    {
     "data": {
      "text/plain": [
       "array(['Andaman and Nicobar Islands', 'Andhra Pradesh',\n",
       "       'Arunachal Pradesh', 'Assam', 'Bihar', 'Chandigarh',\n",
       "       'Dadra and Nagar Haveli and Daman and Diu', 'Delhi', 'Goa',\n",
       "       'Gujarat', 'Haryana', 'Himachal Pradesh', 'Jammu and Kashmir',\n",
       "       'Jharkhand', 'Karnataka', 'Kerala', 'Lakshadweep',\n",
       "       'Madhya Pradesh', 'Maharashtra', 'Manipur', 'Meghalaya', 'Mizoram',\n",
       "       'Nagaland', 'Odisha', 'Puducherry', 'Punjab', 'Rajasthan',\n",
       "       'Sikkim', 'Tamil Nadu', 'Telangana', 'Tripura', 'Uttar Pradesh',\n",
       "       'West Bengal', 'Chhattisgarh', 'Ladakh', 'Uttarakhand'],\n",
       "      dtype=object)"
      ]
     },
     "execution_count": 4,
     "metadata": {},
     "output_type": "execute_result"
    }
   ],
   "source": [
    "#hide\n",
    "arr_states[-9] = 'Puducherry'\n",
    "arr_states[-10] = 'Odisha'\n",
    "arr_states[6] = 'Dadra and Nagar Haveli and Daman and Diu'\n",
    "arr_states = np.append(arr_states,np.array(['Chhattisgarh','Ladakh','Uttarakhand']))\n",
    "arr_states"
   ]
  },
  {
   "cell_type": "code",
   "execution_count": 5,
   "metadata": {
    "execution": {
     "iopub.execute_input": "2020-10-30T14:37:21.274602Z",
     "iopub.status.busy": "2020-10-30T14:37:21.273985Z",
     "iopub.status.idle": "2020-10-30T14:37:21.281947Z",
     "shell.execute_reply": "2020-10-30T14:37:21.281457Z"
    },
    "papermill": {
     "duration": 0.034678,
     "end_time": "2020-10-30T14:37:21.282110",
     "exception": false,
     "start_time": "2020-10-30T14:37:21.247432",
     "status": "completed"
    },
    "tags": []
   },
   "outputs": [],
   "source": [
    "#hide\n",
    "dates = []\n",
    "for i in arr_dates:\n",
    "    if i>='2020-07-01':\n",
    "        dates.append(i)\n",
    "dict = {'states':dates}\n",
    "for i in arr_states:\n",
    "    dict[i] = [0]*len(dates)\n",
    "dft_cases = pd.DataFrame(dict)\n",
    "dft_deaths = pd.DataFrame(dict)\n"
   ]
  },
  {
   "cell_type": "code",
   "execution_count": 6,
   "metadata": {
    "execution": {
     "iopub.execute_input": "2020-10-30T14:37:21.322007Z",
     "iopub.status.busy": "2020-10-30T14:37:21.321391Z",
     "iopub.status.idle": "2020-10-30T14:37:23.058641Z",
     "shell.execute_reply": "2020-10-30T14:37:23.057771Z"
    },
    "papermill": {
     "duration": 1.761105,
     "end_time": "2020-10-30T14:37:23.058874",
     "exception": false,
     "start_time": "2020-10-30T14:37:21.297769",
     "status": "completed"
    },
    "tags": []
   },
   "outputs": [],
   "source": [
    "#hide\n",
    "for i in range(len(dates)):\n",
    "    df1_deaths = df_deaths1.get_group(dates[i])\n",
    "    for j in range(len(df1_deaths.index)):\n",
    "        if df1_deaths.iloc[j,1] in arr_states:\n",
    "            dft_deaths.loc[i,df1_deaths.iloc[j,1]] = df1_deaths.iloc[j,2]\n",
    "dft_deaths = dft_deaths.set_index('states')"
   ]
  },
  {
   "cell_type": "code",
   "execution_count": 7,
   "metadata": {
    "execution": {
     "iopub.execute_input": "2020-10-30T14:37:23.101218Z",
     "iopub.status.busy": "2020-10-30T14:37:23.100583Z",
     "iopub.status.idle": "2020-10-30T14:37:24.779531Z",
     "shell.execute_reply": "2020-10-30T14:37:24.779014Z"
    },
    "papermill": {
     "duration": 1.703323,
     "end_time": "2020-10-30T14:37:24.779678",
     "exception": false,
     "start_time": "2020-10-30T14:37:23.076355",
     "status": "completed"
    },
    "tags": []
   },
   "outputs": [],
   "source": [
    "#hide\n",
    "for i in range(len(dates)):\n",
    "    df1_cases = df_cases1.get_group(dates[i])\n",
    "    for j in range(len(df1_cases.index)):\n",
    "        if df1_cases.iloc[j,1] in arr_states:\n",
    "            dft_cases.loc[i,df1_cases.iloc[j,1]] = df1_cases.iloc[j,2]\n",
    "dft_cases = dft_cases.set_index('states')"
   ]
  },
  {
   "cell_type": "code",
   "execution_count": 8,
   "metadata": {
    "execution": {
     "iopub.execute_input": "2020-10-30T14:37:24.819110Z",
     "iopub.status.busy": "2020-10-30T14:37:24.818484Z",
     "iopub.status.idle": "2020-10-30T14:37:24.822551Z",
     "shell.execute_reply": "2020-10-30T14:37:24.822038Z"
    },
    "papermill": {
     "duration": 0.027037,
     "end_time": "2020-10-30T14:37:24.822685",
     "exception": false,
     "start_time": "2020-10-30T14:37:24.795648",
     "status": "completed"
    },
    "tags": []
   },
   "outputs": [],
   "source": [
    "#hide\n",
    "dft_cases = dft_cases.T\n",
    "dft_deaths = dft_deaths.T\n",
    "dt_today = dates[-1]\n",
    "dt_yday = dates[-2]"
   ]
  },
  {
   "cell_type": "code",
   "execution_count": 9,
   "metadata": {
    "execution": {
     "iopub.execute_input": "2020-10-30T14:37:24.864405Z",
     "iopub.status.busy": "2020-10-30T14:37:24.863154Z",
     "iopub.status.idle": "2020-10-30T14:37:24.865129Z",
     "shell.execute_reply": "2020-10-30T14:37:24.865599Z"
    },
    "papermill": {
     "duration": 0.027522,
     "end_time": "2020-10-30T14:37:24.865750",
     "exception": false,
     "start_time": "2020-10-30T14:37:24.838228",
     "status": "completed"
    },
    "tags": []
   },
   "outputs": [],
   "source": [
    "#hide\n",
    "dft_cases = dft_cases.reset_index()\n",
    "dft_deaths = dft_deaths.reset_index()\n",
    "dft_cases = dft_cases.rename(columns = {'index':'state'})\n",
    "dft_deaths = dft_deaths.rename(columns = {'index':'state'})"
   ]
  },
  {
   "cell_type": "code",
   "execution_count": 10,
   "metadata": {
    "execution": {
     "iopub.execute_input": "2020-10-30T14:37:24.905065Z",
     "iopub.status.busy": "2020-10-30T14:37:24.904450Z",
     "iopub.status.idle": "2020-10-30T14:37:24.913256Z",
     "shell.execute_reply": "2020-10-30T14:37:24.913759Z"
    },
    "papermill": {
     "duration": 0.032778,
     "end_time": "2020-10-30T14:37:24.913909",
     "exception": false,
     "start_time": "2020-10-30T14:37:24.881131",
     "status": "completed"
    },
    "tags": []
   },
   "outputs": [],
   "source": [
    "#hide\n",
    "dfc_cases = dft_cases.groupby('state')[dt_today].sum()\n",
    "dfc_deaths = dft_deaths.groupby('state')[dt_today].sum()\n",
    "dfp_cases = dft_cases.groupby('state')[dt_yday].sum()\n",
    "dfp_deaths = dft_deaths.groupby('state')[dt_yday].sum()"
   ]
  },
  {
   "cell_type": "code",
   "execution_count": 11,
   "metadata": {
    "execution": {
     "iopub.execute_input": "2020-10-30T14:37:24.952781Z",
     "iopub.status.busy": "2020-10-30T14:37:24.952188Z",
     "iopub.status.idle": "2020-10-30T14:37:24.966277Z",
     "shell.execute_reply": "2020-10-30T14:37:24.965784Z"
    },
    "papermill": {
     "duration": 0.036769,
     "end_time": "2020-10-30T14:37:24.966408",
     "exception": false,
     "start_time": "2020-10-30T14:37:24.929639",
     "status": "completed"
    },
    "tags": []
   },
   "outputs": [
    {
     "data": {
      "text/html": [
       "<div>\n",
       "<style scoped>\n",
       "    .dataframe tbody tr th:only-of-type {\n",
       "        vertical-align: middle;\n",
       "    }\n",
       "\n",
       "    .dataframe tbody tr th {\n",
       "        vertical-align: top;\n",
       "    }\n",
       "\n",
       "    .dataframe thead th {\n",
       "        text-align: right;\n",
       "    }\n",
       "</style>\n",
       "<table border=\"1\" class=\"dataframe\">\n",
       "  <thead>\n",
       "    <tr style=\"text-align: right;\">\n",
       "      <th></th>\n",
       "      <th>states</th>\n",
       "      <th>Cases</th>\n",
       "      <th>Deaths</th>\n",
       "      <th>PCases</th>\n",
       "      <th>PDeaths</th>\n",
       "    </tr>\n",
       "  </thead>\n",
       "  <tbody>\n",
       "    <tr>\n",
       "      <th>0</th>\n",
       "      <td>Maharashtra</td>\n",
       "      <td>1666668</td>\n",
       "      <td>43710</td>\n",
       "      <td>1666668</td>\n",
       "      <td>43710</td>\n",
       "    </tr>\n",
       "    <tr>\n",
       "      <th>1</th>\n",
       "      <td>Andhra Pradesh</td>\n",
       "      <td>817679</td>\n",
       "      <td>6659</td>\n",
       "      <td>817679</td>\n",
       "      <td>6659</td>\n",
       "    </tr>\n",
       "    <tr>\n",
       "      <th>2</th>\n",
       "      <td>Karnataka</td>\n",
       "      <td>816809</td>\n",
       "      <td>11091</td>\n",
       "      <td>816809</td>\n",
       "      <td>11091</td>\n",
       "    </tr>\n",
       "    <tr>\n",
       "      <th>3</th>\n",
       "      <td>Tamil Nadu</td>\n",
       "      <td>719403</td>\n",
       "      <td>11053</td>\n",
       "      <td>719403</td>\n",
       "      <td>11053</td>\n",
       "    </tr>\n",
       "    <tr>\n",
       "      <th>4</th>\n",
       "      <td>Uttar Pradesh</td>\n",
       "      <td>477895</td>\n",
       "      <td>6983</td>\n",
       "      <td>477895</td>\n",
       "      <td>6983</td>\n",
       "    </tr>\n",
       "  </tbody>\n",
       "</table>\n",
       "</div>"
      ],
      "text/plain": [
       "           states    Cases  Deaths   PCases  PDeaths\n",
       "0     Maharashtra  1666668   43710  1666668    43710\n",
       "1  Andhra Pradesh   817679    6659   817679     6659\n",
       "2       Karnataka   816809   11091   816809    11091\n",
       "3      Tamil Nadu   719403   11053   719403    11053\n",
       "4   Uttar Pradesh   477895    6983   477895     6983"
      ]
     },
     "execution_count": 11,
     "metadata": {},
     "output_type": "execute_result"
    }
   ],
   "source": [
    "#hide\n",
    "df_table = pd.DataFrame({'states': dfc_cases.index, 'Cases': dfc_cases.values, 'Deaths': dfc_deaths.values, 'PCases': dfp_cases.values, 'PDeaths': dfp_deaths.values}).set_index('states')\n",
    "df_table = df_table.sort_values(by = ['Cases','Deaths'], ascending = [False, False])\n",
    "df_table = df_table.reset_index()\n",
    "df_table.head()"
   ]
  },
  {
   "cell_type": "code",
   "execution_count": 12,
   "metadata": {
    "execution": {
     "iopub.execute_input": "2020-10-30T14:37:25.006031Z",
     "iopub.status.busy": "2020-10-30T14:37:25.005442Z",
     "iopub.status.idle": "2020-10-30T14:37:25.016145Z",
     "shell.execute_reply": "2020-10-30T14:37:25.015637Z"
    },
    "papermill": {
     "duration": 0.033831,
     "end_time": "2020-10-30T14:37:25.016274",
     "exception": false,
     "start_time": "2020-10-30T14:37:24.982443",
     "status": "completed"
    },
    "tags": []
   },
   "outputs": [],
   "source": [
    "#hide\n",
    "for c in 'Cases, Deaths'.split(', '):\n",
    "    df_table[f'{c} (+)'] = (df_table[c] - df_table[f'P{c}']).clip(0)\n",
    "df_table['Fatality Rate'] = (100* df_table['Deaths']/ df_table['Cases']).round(2)"
   ]
  },
  {
   "cell_type": "code",
   "execution_count": 13,
   "metadata": {
    "execution": {
     "iopub.execute_input": "2020-10-30T14:37:25.059171Z",
     "iopub.status.busy": "2020-10-30T14:37:25.058582Z",
     "iopub.status.idle": "2020-10-30T14:37:25.061871Z",
     "shell.execute_reply": "2020-10-30T14:37:25.061378Z"
    },
    "papermill": {
     "duration": 0.029455,
     "end_time": "2020-10-30T14:37:25.062002",
     "exception": false,
     "start_time": "2020-10-30T14:37:25.032547",
     "status": "completed"
    },
    "tags": []
   },
   "outputs": [
    {
     "data": {
      "text/html": [
       "<div>\n",
       "<style scoped>\n",
       "    .dataframe tbody tr th:only-of-type {\n",
       "        vertical-align: middle;\n",
       "    }\n",
       "\n",
       "    .dataframe tbody tr th {\n",
       "        vertical-align: top;\n",
       "    }\n",
       "\n",
       "    .dataframe thead th {\n",
       "        text-align: right;\n",
       "    }\n",
       "</style>\n",
       "<table border=\"1\" class=\"dataframe\">\n",
       "  <thead>\n",
       "    <tr style=\"text-align: right;\">\n",
       "      <th></th>\n",
       "      <th>states</th>\n",
       "      <th>Cases</th>\n",
       "      <th>Deaths</th>\n",
       "      <th>PCases</th>\n",
       "      <th>PDeaths</th>\n",
       "      <th>Cases (+)</th>\n",
       "      <th>Deaths (+)</th>\n",
       "      <th>Fatality Rate</th>\n",
       "    </tr>\n",
       "  </thead>\n",
       "  <tbody>\n",
       "    <tr>\n",
       "      <th>0</th>\n",
       "      <td>Maharashtra</td>\n",
       "      <td>1666668</td>\n",
       "      <td>43710</td>\n",
       "      <td>1666668</td>\n",
       "      <td>43710</td>\n",
       "      <td>0</td>\n",
       "      <td>0</td>\n",
       "      <td>2.62</td>\n",
       "    </tr>\n",
       "    <tr>\n",
       "      <th>1</th>\n",
       "      <td>Andhra Pradesh</td>\n",
       "      <td>817679</td>\n",
       "      <td>6659</td>\n",
       "      <td>817679</td>\n",
       "      <td>6659</td>\n",
       "      <td>0</td>\n",
       "      <td>0</td>\n",
       "      <td>0.81</td>\n",
       "    </tr>\n",
       "    <tr>\n",
       "      <th>2</th>\n",
       "      <td>Karnataka</td>\n",
       "      <td>816809</td>\n",
       "      <td>11091</td>\n",
       "      <td>816809</td>\n",
       "      <td>11091</td>\n",
       "      <td>0</td>\n",
       "      <td>0</td>\n",
       "      <td>1.36</td>\n",
       "    </tr>\n",
       "    <tr>\n",
       "      <th>3</th>\n",
       "      <td>Tamil Nadu</td>\n",
       "      <td>719403</td>\n",
       "      <td>11053</td>\n",
       "      <td>719403</td>\n",
       "      <td>11053</td>\n",
       "      <td>0</td>\n",
       "      <td>0</td>\n",
       "      <td>1.54</td>\n",
       "    </tr>\n",
       "    <tr>\n",
       "      <th>4</th>\n",
       "      <td>Uttar Pradesh</td>\n",
       "      <td>477895</td>\n",
       "      <td>6983</td>\n",
       "      <td>477895</td>\n",
       "      <td>6983</td>\n",
       "      <td>0</td>\n",
       "      <td>0</td>\n",
       "      <td>1.46</td>\n",
       "    </tr>\n",
       "  </tbody>\n",
       "</table>\n",
       "</div>"
      ],
      "text/plain": [
       "           states    Cases  Deaths   PCases  PDeaths  Cases (+)  Deaths (+)  \\\n",
       "0     Maharashtra  1666668   43710  1666668    43710          0           0   \n",
       "1  Andhra Pradesh   817679    6659   817679     6659          0           0   \n",
       "2       Karnataka   816809   11091   816809    11091          0           0   \n",
       "3      Tamil Nadu   719403   11053   719403    11053          0           0   \n",
       "4   Uttar Pradesh   477895    6983   477895     6983          0           0   \n",
       "\n",
       "   Fatality Rate  \n",
       "0           2.62  \n",
       "1           0.81  \n",
       "2           1.36  \n",
       "3           1.54  \n",
       "4           1.46  "
      ]
     },
     "execution_count": 13,
     "metadata": {},
     "output_type": "execute_result"
    }
   ],
   "source": [
    "#hide\n",
    "df_table.head()"
   ]
  },
  {
   "cell_type": "code",
   "execution_count": 14,
   "metadata": {
    "execution": {
     "iopub.execute_input": "2020-10-30T14:37:25.101834Z",
     "iopub.status.busy": "2020-10-30T14:37:25.101236Z",
     "iopub.status.idle": "2020-10-30T14:37:25.121270Z",
     "shell.execute_reply": "2020-10-30T14:37:25.121709Z"
    },
    "papermill": {
     "duration": 0.043439,
     "end_time": "2020-10-30T14:37:25.121866",
     "exception": false,
     "start_time": "2020-10-30T14:37:25.078427",
     "status": "completed"
    },
    "tags": []
   },
   "outputs": [
    {
     "data": {
      "text/plain": [
       "{'updated': '2020-10-30',\n",
       " 'since': '2020-10-29',\n",
       " 'Cases': 8089728,\n",
       " 'PCases': 8088046,\n",
       " 'Deaths': 121143,\n",
       " 'PDeaths': 121131,\n",
       " 'Cases (+)': 1682,\n",
       " 'Deaths (+)': 12}"
      ]
     },
     "execution_count": 14,
     "metadata": {},
     "output_type": "execute_result"
    }
   ],
   "source": [
    "#hide\n",
    "summary = {'updated':dates[-1], 'since':dates[-2]}\n",
    "list_names = ['Cases', 'PCases', 'Deaths', 'PDeaths', 'Cases (+)', 'Deaths (+)']\n",
    "for name in list_names:\n",
    "    summary[name] = df_table.sum()[name]\n",
    "summary"
   ]
  },
  {
   "cell_type": "code",
   "execution_count": 15,
   "metadata": {
    "execution": {
     "iopub.execute_input": "2020-10-30T14:37:25.160466Z",
     "iopub.status.busy": "2020-10-30T14:37:25.159873Z",
     "iopub.status.idle": "2020-10-30T14:37:25.162314Z",
     "shell.execute_reply": "2020-10-30T14:37:25.162864Z"
    },
    "papermill": {
     "duration": 0.024454,
     "end_time": "2020-10-30T14:37:25.163013",
     "exception": false,
     "start_time": "2020-10-30T14:37:25.138559",
     "status": "completed"
    },
    "tags": []
   },
   "outputs": [],
   "source": [
    "#hide\n",
    "overview = '''\n",
    "<!-- #######  HTML!! #########-->\n",
    "<h1 style=\"color: #5e9ca0; text-align: center;\">India</h1>\n",
    "<p style=\"text-align: center;\">Last update: <strong>{update}</strong></p>\n",
    "<p style=\"text-align: center;\">Confirmed cases:</p>\n",
    "<p style=\"text-align: center;font-size:24px;\">{cases} (<span style=\"color: #ff0000;\">+{new}</span>)</p>\n",
    "<p style=\"text-align: center;\">Confirmed deaths:</p>\n",
    "<p style=\"text-align: center;font-size:24px;\">{deaths} (<span style=\"color: #ff0000;\">+{dnew}</span>)</p>\n",
    "'''"
   ]
  },
  {
   "cell_type": "code",
   "execution_count": 16,
   "metadata": {
    "execution": {
     "iopub.execute_input": "2020-10-30T14:37:25.205012Z",
     "iopub.status.busy": "2020-10-30T14:37:25.204375Z",
     "iopub.status.idle": "2020-10-30T14:37:25.207016Z",
     "shell.execute_reply": "2020-10-30T14:37:25.207485Z"
    },
    "papermill": {
     "duration": 0.028132,
     "end_time": "2020-10-30T14:37:25.207635",
     "exception": false,
     "start_time": "2020-10-30T14:37:25.179503",
     "status": "completed"
    },
    "tags": []
   },
   "outputs": [
    {
     "data": {
      "text/html": [
       "\n",
       "<!-- #######  HTML!! #########-->\n",
       "<h1 style=\"color: #5e9ca0; text-align: center;\">India</h1>\n",
       "<p style=\"text-align: center;\">Last update: <strong>2020-10-30</strong></p>\n",
       "<p style=\"text-align: center;\">Confirmed cases:</p>\n",
       "<p style=\"text-align: center;font-size:24px;\">8089728 (<span style=\"color: #ff0000;\">+1682</span>)</p>\n",
       "<p style=\"text-align: center;\">Confirmed deaths:</p>\n",
       "<p style=\"text-align: center;font-size:24px;\">121143 (<span style=\"color: #ff0000;\">+12</span>)</p>\n"
      ],
      "text/plain": [
       "<IPython.core.display.HTML object>"
      ]
     },
     "metadata": {},
     "output_type": "display_data"
    }
   ],
   "source": [
    "#hide_input\n",
    "update = summary['updated']\n",
    "cases = summary['Cases']\n",
    "new = summary['Cases (+)']\n",
    "deaths = summary['Deaths']\n",
    "dnew = summary['Deaths (+)']\n",
    "\n",
    "html = HTML(overview.format(update=update, cases=cases,new=new,deaths=deaths,dnew=dnew))\n",
    "\n",
    "display(html)"
   ]
  },
  {
   "cell_type": "code",
   "execution_count": 17,
   "metadata": {
    "execution": {
     "iopub.execute_input": "2020-10-30T14:37:25.250233Z",
     "iopub.status.busy": "2020-10-30T14:37:25.249638Z",
     "iopub.status.idle": "2020-10-30T14:37:25.255191Z",
     "shell.execute_reply": "2020-10-30T14:37:25.254721Z"
    },
    "papermill": {
     "duration": 0.030581,
     "end_time": "2020-10-30T14:37:25.255322",
     "exception": false,
     "start_time": "2020-10-30T14:37:25.224741",
     "status": "completed"
    },
    "tags": []
   },
   "outputs": [],
   "source": [
    "#hide\n",
    "dt_cols = list(dft_cases.columns[1:])\n",
    "dft_ct_new_cases = dft_cases.groupby('state')[dt_cols].sum().diff(axis=1).fillna(0).astype(int)\n",
    "dft_ct_new_cases.sort_values(by = dates[-1], ascending = False,inplace = True)"
   ]
  },
  {
   "cell_type": "code",
   "execution_count": 18,
   "metadata": {
    "execution": {
     "iopub.execute_input": "2020-10-30T14:37:25.307064Z",
     "iopub.status.busy": "2020-10-30T14:37:25.306464Z",
     "iopub.status.idle": "2020-10-30T14:37:25.309792Z",
     "shell.execute_reply": "2020-10-30T14:37:25.309171Z"
    },
    "papermill": {
     "duration": 0.037424,
     "end_time": "2020-10-30T14:37:25.309923",
     "exception": false,
     "start_time": "2020-10-30T14:37:25.272499",
     "status": "completed"
    },
    "tags": []
   },
   "outputs": [
    {
     "data": {
      "text/html": [
       "<div>\n",
       "<style scoped>\n",
       "    .dataframe tbody tr th:only-of-type {\n",
       "        vertical-align: middle;\n",
       "    }\n",
       "\n",
       "    .dataframe tbody tr th {\n",
       "        vertical-align: top;\n",
       "    }\n",
       "\n",
       "    .dataframe thead th {\n",
       "        text-align: right;\n",
       "    }\n",
       "</style>\n",
       "<table border=\"1\" class=\"dataframe\">\n",
       "  <thead>\n",
       "    <tr style=\"text-align: right;\">\n",
       "      <th>states</th>\n",
       "      <th>2020-07-01</th>\n",
       "      <th>2020-07-02</th>\n",
       "      <th>2020-07-03</th>\n",
       "      <th>2020-07-04</th>\n",
       "      <th>2020-07-05</th>\n",
       "      <th>2020-07-06</th>\n",
       "      <th>2020-07-07</th>\n",
       "      <th>2020-07-08</th>\n",
       "      <th>2020-07-09</th>\n",
       "      <th>2020-07-10</th>\n",
       "      <th>...</th>\n",
       "      <th>2020-10-21</th>\n",
       "      <th>2020-10-22</th>\n",
       "      <th>2020-10-23</th>\n",
       "      <th>2020-10-24</th>\n",
       "      <th>2020-10-25</th>\n",
       "      <th>2020-10-26</th>\n",
       "      <th>2020-10-27</th>\n",
       "      <th>2020-10-28</th>\n",
       "      <th>2020-10-29</th>\n",
       "      <th>2020-10-30</th>\n",
       "    </tr>\n",
       "    <tr>\n",
       "      <th>state</th>\n",
       "      <th></th>\n",
       "      <th></th>\n",
       "      <th></th>\n",
       "      <th></th>\n",
       "      <th></th>\n",
       "      <th></th>\n",
       "      <th></th>\n",
       "      <th></th>\n",
       "      <th></th>\n",
       "      <th></th>\n",
       "      <th></th>\n",
       "      <th></th>\n",
       "      <th></th>\n",
       "      <th></th>\n",
       "      <th></th>\n",
       "      <th></th>\n",
       "      <th></th>\n",
       "      <th></th>\n",
       "      <th></th>\n",
       "      <th></th>\n",
       "      <th></th>\n",
       "    </tr>\n",
       "  </thead>\n",
       "  <tbody>\n",
       "    <tr>\n",
       "      <th>Odisha</th>\n",
       "      <td>0</td>\n",
       "      <td>229</td>\n",
       "      <td>561</td>\n",
       "      <td>495</td>\n",
       "      <td>469</td>\n",
       "      <td>456</td>\n",
       "      <td>571</td>\n",
       "      <td>527</td>\n",
       "      <td>577</td>\n",
       "      <td>755</td>\n",
       "      <td>...</td>\n",
       "      <td>1931</td>\n",
       "      <td>1913</td>\n",
       "      <td>1793</td>\n",
       "      <td>1695</td>\n",
       "      <td>1633</td>\n",
       "      <td>1480</td>\n",
       "      <td>1247</td>\n",
       "      <td>1540</td>\n",
       "      <td>1617</td>\n",
       "      <td>1547</td>\n",
       "    </tr>\n",
       "    <tr>\n",
       "      <th>Tripura</th>\n",
       "      <td>0</td>\n",
       "      <td>39</td>\n",
       "      <td>93</td>\n",
       "      <td>25</td>\n",
       "      <td>23</td>\n",
       "      <td>111</td>\n",
       "      <td>24</td>\n",
       "      <td>57</td>\n",
       "      <td>16</td>\n",
       "      <td>142</td>\n",
       "      <td>...</td>\n",
       "      <td>112</td>\n",
       "      <td>125</td>\n",
       "      <td>145</td>\n",
       "      <td>65</td>\n",
       "      <td>86</td>\n",
       "      <td>36</td>\n",
       "      <td>36</td>\n",
       "      <td>160</td>\n",
       "      <td>113</td>\n",
       "      <td>97</td>\n",
       "    </tr>\n",
       "    <tr>\n",
       "      <th>Mizoram</th>\n",
       "      <td>0</td>\n",
       "      <td>2</td>\n",
       "      <td>0</td>\n",
       "      <td>2</td>\n",
       "      <td>22</td>\n",
       "      <td>11</td>\n",
       "      <td>1</td>\n",
       "      <td>5</td>\n",
       "      <td>0</td>\n",
       "      <td>23</td>\n",
       "      <td>...</td>\n",
       "      <td>30</td>\n",
       "      <td>31</td>\n",
       "      <td>18</td>\n",
       "      <td>30</td>\n",
       "      <td>58</td>\n",
       "      <td>46</td>\n",
       "      <td>34</td>\n",
       "      <td>80</td>\n",
       "      <td>49</td>\n",
       "      <td>38</td>\n",
       "    </tr>\n",
       "    <tr>\n",
       "      <th>Andaman and Nicobar Islands</th>\n",
       "      <td>0</td>\n",
       "      <td>9</td>\n",
       "      <td>7</td>\n",
       "      <td>3</td>\n",
       "      <td>6</td>\n",
       "      <td>16</td>\n",
       "      <td>6</td>\n",
       "      <td>2</td>\n",
       "      <td>7</td>\n",
       "      <td>0</td>\n",
       "      <td>...</td>\n",
       "      <td>27</td>\n",
       "      <td>16</td>\n",
       "      <td>23</td>\n",
       "      <td>18</td>\n",
       "      <td>20</td>\n",
       "      <td>8</td>\n",
       "      <td>21</td>\n",
       "      <td>15</td>\n",
       "      <td>16</td>\n",
       "      <td>0</td>\n",
       "    </tr>\n",
       "    <tr>\n",
       "      <th>Puducherry</th>\n",
       "      <td>0</td>\n",
       "      <td>63</td>\n",
       "      <td>22</td>\n",
       "      <td>80</td>\n",
       "      <td>42</td>\n",
       "      <td>65</td>\n",
       "      <td>30</td>\n",
       "      <td>110</td>\n",
       "      <td>49</td>\n",
       "      <td>72</td>\n",
       "      <td>...</td>\n",
       "      <td>170</td>\n",
       "      <td>210</td>\n",
       "      <td>154</td>\n",
       "      <td>126</td>\n",
       "      <td>81</td>\n",
       "      <td>143</td>\n",
       "      <td>146</td>\n",
       "      <td>101</td>\n",
       "      <td>178</td>\n",
       "      <td>0</td>\n",
       "    </tr>\n",
       "  </tbody>\n",
       "</table>\n",
       "<p>5 rows × 122 columns</p>\n",
       "</div>"
      ],
      "text/plain": [
       "states                       2020-07-01  2020-07-02  2020-07-03  2020-07-04  \\\n",
       "state                                                                         \n",
       "Odisha                                0         229         561         495   \n",
       "Tripura                               0          39          93          25   \n",
       "Mizoram                               0           2           0           2   \n",
       "Andaman and Nicobar Islands           0           9           7           3   \n",
       "Puducherry                            0          63          22          80   \n",
       "\n",
       "states                       2020-07-05  2020-07-06  2020-07-07  2020-07-08  \\\n",
       "state                                                                         \n",
       "Odisha                              469         456         571         527   \n",
       "Tripura                              23         111          24          57   \n",
       "Mizoram                              22          11           1           5   \n",
       "Andaman and Nicobar Islands           6          16           6           2   \n",
       "Puducherry                           42          65          30         110   \n",
       "\n",
       "states                       2020-07-09  2020-07-10  ...  2020-10-21  \\\n",
       "state                                                ...               \n",
       "Odisha                              577         755  ...        1931   \n",
       "Tripura                              16         142  ...         112   \n",
       "Mizoram                               0          23  ...          30   \n",
       "Andaman and Nicobar Islands           7           0  ...          27   \n",
       "Puducherry                           49          72  ...         170   \n",
       "\n",
       "states                       2020-10-22  2020-10-23  2020-10-24  2020-10-25  \\\n",
       "state                                                                         \n",
       "Odisha                             1913        1793        1695        1633   \n",
       "Tripura                             125         145          65          86   \n",
       "Mizoram                              31          18          30          58   \n",
       "Andaman and Nicobar Islands          16          23          18          20   \n",
       "Puducherry                          210         154         126          81   \n",
       "\n",
       "states                       2020-10-26  2020-10-27  2020-10-28  2020-10-29  \\\n",
       "state                                                                         \n",
       "Odisha                             1480        1247        1540        1617   \n",
       "Tripura                              36          36         160         113   \n",
       "Mizoram                              46          34          80          49   \n",
       "Andaman and Nicobar Islands           8          21          15          16   \n",
       "Puducherry                          143         146         101         178   \n",
       "\n",
       "states                       2020-10-30  \n",
       "state                                    \n",
       "Odisha                             1547  \n",
       "Tripura                              97  \n",
       "Mizoram                              38  \n",
       "Andaman and Nicobar Islands           0  \n",
       "Puducherry                            0  \n",
       "\n",
       "[5 rows x 122 columns]"
      ]
     },
     "execution_count": 18,
     "metadata": {},
     "output_type": "execute_result"
    }
   ],
   "source": [
    "#hide\n",
    "dft_ct_new_cases.head()"
   ]
  },
  {
   "cell_type": "code",
   "execution_count": 19,
   "metadata": {
    "execution": {
     "iopub.execute_input": "2020-10-30T14:37:25.369791Z",
     "iopub.status.busy": "2020-10-30T14:37:25.364355Z",
     "iopub.status.idle": "2020-10-30T14:37:29.913293Z",
     "shell.execute_reply": "2020-10-30T14:37:29.913781Z"
    },
    "papermill": {
     "duration": 4.586274,
     "end_time": "2020-10-30T14:37:29.913942",
     "exception": false,
     "start_time": "2020-10-30T14:37:25.327668",
     "status": "completed"
    },
    "tags": []
   },
   "outputs": [
    {
     "data": {
      "image/png": "[encoded data removed]",
      "text/plain": [
       "<Figure size 1296x2016 with 11 Axes>"
      ]
     },
     "metadata": {
      "needs_background": "light"
     },
     "output_type": "display_data"
    }
   ],
   "source": [
    "#hide_input\n",
    "df = dft_ct_new_cases.copy()\n",
    "df.loc['Total'] = df.sum()\n",
    "n = 5\n",
    "ax = []\n",
    "fig = plt.figure(figsize = (18,28))\n",
    "gs = fig.add_gridspec(n+2, 5)\n",
    "# gs = fig.add_gridspec(2, 3)\n",
    "ax1 = fig.add_subplot(gs[0, :])\n",
    "ef = df.loc['Total'].rename_axis('date').reset_index()\n",
    "ef['date'] = ef['date'].astype('datetime64[ns]')\n",
    "ax1.bar(ef.date,ef.Total,alpha=0.3,color='#007acc')\n",
    "ax1.plot(ef.date,ef.Total , marker=\"o\", color='#007acc')\n",
    "ax1.xaxis.set_major_locator(mdates.WeekdayLocator())\n",
    "ax1.xaxis.set_major_formatter(mdates.DateFormatter('%b %d'))\n",
    "ax1.text(0.02, 0.5,'India daily case count', transform = ax1.transAxes, fontsize=25);\n",
    "ax1.spines['right'].set_visible(False)\n",
    "ax1.spines['top'].set_visible(False)\n",
    "\n",
    "ax2 = fig.add_subplot(gs[1,0])\n",
    "ef = df.loc['Maharashtra'].rename_axis('date').reset_index()\n",
    "ef['date'] = ef['date'].astype('datetime64[ns]')\n",
    "\n",
    "ax2.bar(ef.date, ef.Maharashtra,color = '#007acc',alpha=0.5)\n",
    "ax2.xaxis.set_major_locator(mdates.WeekdayLocator())\n",
    "ax2.xaxis.set_major_formatter(mdates.DateFormatter('%b %d'))\n",
    "ax2.set_xticks(ax2.get_xticks()[::3])\n",
    "maxyval = ef.Maharashtra.max()\n",
    "ax2.set_ylim([0,maxyval])\n",
    "ax2.text(0.05, 0.9,'Maharashtra', transform = ax2.transAxes, fontsize=20);\n",
    "ax2.spines['right'].set_visible(False)\n",
    "ax2.spines['top'].set_visible(False)\n",
    "\n",
    "\n",
    "ax3 = fig.add_subplot(gs[1,1])\n",
    "ef = df.loc['Tamil Nadu'].rename_axis('date').reset_index()\n",
    "ef['date'] = ef['date'].astype('datetime64[ns]')\n",
    "ax3.bar(ef.date, ef['Tamil Nadu'],color = '#007acc',alpha=0.5,)\n",
    "ax3.xaxis.set_major_locator(mdates.WeekdayLocator())\n",
    "ax3.xaxis.set_major_formatter(mdates.DateFormatter('%b %d'))\n",
    "ax3.set_xticks(ax3.get_xticks()[::3])\n",
    "ax3.text(0.05, 0.9,'Tamil Nadu', transform = ax3.transAxes, fontsize=20);\n",
    "ax3.spines['right'].set_visible(False)\n",
    "ax3.spines['top'].set_visible(False)\n",
    "\n",
    "ax5 = fig.add_subplot(gs[1,3])\n",
    "ef = df.loc['Telangana'].rename_axis('date').reset_index()\n",
    "ef['date'] = ef['date'].astype('datetime64[ns]')\n",
    "ax5.bar(ef.date, ef['Telangana'],color = '#007acc',alpha=0.5,)\n",
    "ax5.xaxis.set_major_locator(mdates.WeekdayLocator())\n",
    "ax5.xaxis.set_major_formatter(mdates.DateFormatter('%b %d'))\n",
    "ax5.set_xticks(ax5.get_xticks()[::3])\n",
    "ax5.text(0.05, 0.9,'Telangana', transform = ax5.transAxes, fontsize=20);\n",
    "ax5.spines['right'].set_visible(False)\n",
    "ax5.spines['top'].set_visible(False)\n",
    "\n",
    "ax6 = fig.add_subplot(gs[1,4])\n",
    "ef = df.loc['Andhra Pradesh'].rename_axis('date').reset_index()\n",
    "ef['date'] = ef['date'].astype('datetime64[ns]')\n",
    "ax6.bar(ef.date, ef['Andhra Pradesh'],color = '#007acc',alpha=0.5,)\n",
    "ax6.xaxis.set_major_locator(mdates.WeekdayLocator())\n",
    "ax6.xaxis.set_major_formatter(mdates.DateFormatter('%b %d'))\n",
    "ax6.set_xticks(ax6.get_xticks()[::3])\n",
    "ax6.text(0.05, 1,'Andhra Pradesh', transform = ax6.transAxes, fontsize=20);\n",
    "ax6.spines['right'].set_visible(False)\n",
    "ax6.spines['top'].set_visible(False)\n",
    "\n",
    "ax4 = fig.add_subplot(gs[1,2])\n",
    "ef = df.loc['Delhi'].rename_axis('date').reset_index()\n",
    "ef['date'] = ef['date'].astype('datetime64[ns]')\n",
    "ax4.bar(ef.date, ef.Delhi,color = '#007acc',alpha=0.5)\n",
    "ax4.set_xticks([])\n",
    "ax4.xaxis.set_major_locator(mdates.WeekdayLocator())\n",
    "ax4.xaxis.set_major_formatter(mdates.DateFormatter('%b %d'))\n",
    "ax4.set_xticks(ax4.get_xticks()[::3])\n",
    "ax4.spines['right'].set_visible(False)\n",
    "ax4.spines['top'].set_visible(False)\n",
    "\n",
    "ax4.text(0.05, 1,'Delhi', transform = ax4.transAxes, fontsize=20)\n",
    "\n",
    "for i in range(n):\n",
    "    \n",
    "    ax.append(fig.add_subplot(gs[i+2,:]))\n",
    "    ef = df.iloc[i+3].rename_axis('date').reset_index()\n",
    "    ef['date'] = ef['date'].astype('datetime64[ns]')\n",
    "    ax[i].bar(ef.date,ef.iloc[:,-1],color = '#007acc',alpha=0.3)\n",
    "    ax[i].plot(ef.date,ef.iloc[:,-1],marker='o',color='#007acc')\n",
    "    ax[i].text(0.02,0.5,f'{ef.columns.values[-1]}',transform = ax[i].transAxes, fontsize = 20);\n",
    "    ax[i].xaxis.set_major_locator(mdates.WeekdayLocator())\n",
    "    ax[i].xaxis.set_major_formatter(mdates.DateFormatter('%b %d'))\n",
    "    ax[i].set_ylim([0,7000])\n",
    "    ax[i].spines['right'].set_visible(False)\n",
    "    ax[i].spines['top'].set_visible(False)\n",
    "plt.tight_layout()\n"
   ]
  },
  {
   "cell_type": "code",
   "execution_count": 20,
   "metadata": {
    "execution": {
     "iopub.execute_input": "2020-10-30T14:37:29.969986Z",
     "iopub.status.busy": "2020-10-30T14:37:29.969365Z",
     "iopub.status.idle": "2020-10-30T14:37:29.973070Z",
     "shell.execute_reply": "2020-10-30T14:37:29.973690Z"
    },
    "papermill": {
     "duration": 0.035947,
     "end_time": "2020-10-30T14:37:29.973849",
     "exception": false,
     "start_time": "2020-10-30T14:37:29.937902",
     "status": "completed"
    },
    "tags": []
   },
   "outputs": [
    {
     "name": "stdout",
     "output_type": "stream",
     "text": [
      "                                   states    Cases  Deaths   PCases  PDeaths  Cases (+)  Deaths (+)  Fatality Rate\n",
      "                              Maharashtra  1666668   43710  1666668    43710          0           0           2.62\n",
      "                           Andhra Pradesh   817679    6659   817679     6659          0           0           0.81\n",
      "                                Karnataka   816809   11091   816809    11091          0           0           1.36\n",
      "                               Tamil Nadu   719403   11053   719403    11053          0           0           1.54\n",
      "                            Uttar Pradesh   477895    6983   477895     6983          0           0           1.46\n",
      "                                   Kerala   418485    1430   418485     1430          0           0           0.34\n",
      "                                    Delhi   375753    6423   375753     6423          0           0           1.71\n",
      "                              West Bengal   365692    6725   365692     6725          0           0           1.84\n",
      "                                   Odisha   288646    1361   287099     1350       1547          11           0.47\n",
      "                                Telangana   235656    1324   235656     1324          0           0           0.56\n",
      "                                    Bihar   214946    1076   214946     1076          0           0           0.50\n",
      "                                    Assam   205635     923   205635      923          0           0           0.45\n",
      "                                Rajasthan   193419    1888   193419     1888          0           0           0.98\n",
      "                             Chhattisgarh   183588    1989   183588     1989          0           0           1.08\n",
      "                                  Gujarat   171040    3708   171040     3708          0           0           2.17\n",
      "                           Madhya Pradesh   169999    2929   169999     2929          0           0           1.72\n",
      "                                  Haryana   163817    1766   163817     1766          0           0           1.08\n",
      "                                   Punjab   132727    4168   132727     4168          0           0           3.14\n",
      "                                Jharkhand   100964     883   100964      883          0           0           0.87\n",
      "                        Jammu and Kashmir    93764    1466    93764     1466          0           0           1.56\n",
      "                              Uttarakhand    61566    1009    61566     1009          0           0           1.64\n",
      "                                      Goa    43201     597    43201      597          0           0           1.38\n",
      "                               Puducherry    34761     592    34761      592          0           0           1.70\n",
      "                                  Tripura    30660     343    30563      342         97           1           1.12\n",
      "                         Himachal Pradesh    21476     301    21476      301          0           0           1.40\n",
      "                                  Manipur    18051     160    18051      160          0           0           0.89\n",
      "                        Arunachal Pradesh    14668      37    14668       37          0           0           0.25\n",
      "                               Chandigarh    14292     225    14292      225          0           0           1.57\n",
      "                                Meghalaya     9305      87     9305       87          0           0           0.93\n",
      "                                 Nagaland     8894      35     8894       35          0           0           0.39\n",
      "                                   Ladakh     6139      73     6139       73          0           0           1.19\n",
      "              Andaman and Nicobar Islands     4305      59     4305       59          0           0           1.37\n",
      "                                   Sikkim     3893      67     3893       67          0           0           1.72\n",
      " Dadra and Nagar Haveli and Daman and Diu     3238       2     3238        2          0           0           0.06\n",
      "                                  Mizoram     2694       1     2656        1         38           0           0.04\n",
      "                              Lakshadweep        0       0        0        0          0           0            NaN\n"
     ]
    }
   ],
   "source": [
    "#hide_input\n",
    "print(df_table.to_string(index=False))"
   ]
  },
  {
   "cell_type": "code",
   "execution_count": null,
   "metadata": {
    "papermill": {
     "duration": 0.023839,
     "end_time": "2020-10-30T14:37:30.021326",
     "exception": false,
     "start_time": "2020-10-30T14:37:29.997487",
     "status": "completed"
    },
    "tags": []
   },
   "outputs": [],
   "source": []
  },
  {
   "cell_type": "code",
   "execution_count": null,
   "metadata": {
    "papermill": {
     "duration": 0.023857,
     "end_time": "2020-10-30T14:37:30.070277",
     "exception": false,
     "start_time": "2020-10-30T14:37:30.046420",
     "status": "completed"
    },
    "tags": []
   },
   "outputs": [],
   "source": []
  }
 ],
 "metadata": {
  "kernelspec": {
   "display_name": "Python 3",
   "language": "python",
   "name": "python3"
  },
  "language_info": {
   "codemirror_mode": {
    "name": "ipython",
    "version": 3
   },
   "file_extension": ".py",
   "mimetype": "text/x-python",
   "name": "python",
   "nbconvert_exporter": "python",
   "pygments_lexer": "ipython3",
   "version": "3.6.12"
  },
  "papermill": {
   "duration": 12.327555,
   "end_time": "2020-10-30T14:37:31.354777",
   "environment_variables": {},
   "exception": null,
   "input_path": "latest.ipynb",
   "output_path": "latest.ipynb",
   "parameters": {},
   "start_time": "2020-10-30T14:37:19.027222",
   "version": "2.1.2"
  }
 },
 "nbformat": 4,
 "nbformat_minor": 4
}