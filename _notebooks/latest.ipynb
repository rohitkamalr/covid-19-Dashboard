{
 "cells": [
  {
   "cell_type": "markdown",
   "metadata": {
    "papermill": {
     "duration": 0.017719,
     "end_time": "2020-11-09T12:44:49.324114",
     "exception": false,
     "start_time": "2020-11-09T12:44:49.306395",
     "status": "completed"
    },
    "tags": []
   },
   "source": [
    "# Latest COVID-19 India Matplotlib Overview"
   ]
  },
  {
   "cell_type": "code",
   "execution_count": 1,
   "metadata": {
    "execution": {
     "iopub.execute_input": "2020-11-09T12:44:49.363615Z",
     "iopub.status.busy": "2020-11-09T12:44:49.363010Z",
     "iopub.status.idle": "2020-11-09T12:44:49.900976Z",
     "shell.execute_reply": "2020-11-09T12:44:49.900437Z"
    },
    "papermill": {
     "duration": 0.558675,
     "end_time": "2020-11-09T12:44:49.901145",
     "exception": false,
     "start_time": "2020-11-09T12:44:49.342470",
     "status": "completed"
    },
    "tags": []
   },
   "outputs": [],
   "source": [
    "#hide\n",
    "import pandas as pd\n",
    "import numpy as np\n",
    "import requests\n",
    "import json\n",
    "import matplotlib.pyplot as plt\n",
    "import matplotlib.dates as mdates\n",
    "import matplotlib as mpl\n",
    "from IPython.core.display import display,HTML\n",
    "%matplotlib inline\n",
    "from datetime import date"
   ]
  },
  {
   "cell_type": "code",
   "execution_count": 2,
   "metadata": {
    "execution": {
     "iopub.execute_input": "2020-11-09T12:44:49.937355Z",
     "iopub.status.busy": "2020-11-09T12:44:49.936354Z",
     "iopub.status.idle": "2020-11-09T12:44:50.267984Z",
     "shell.execute_reply": "2020-11-09T12:44:50.267472Z"
    },
    "papermill": {
     "duration": 0.351971,
     "end_time": "2020-11-09T12:44:50.268134",
     "exception": false,
     "start_time": "2020-11-09T12:44:49.916163",
     "status": "completed"
    },
    "tags": []
   },
   "outputs": [],
   "source": [
    "#hide\n",
    "df  = pd.read_csv('https://api.covid19india.org/csv/latest/states.csv')\n",
    "df = df[['Date','State','Confirmed','Deceased']]\n",
    "df = df.rename(columns={'Confirmed':'Cases', \"Deceased\":'Deaths'})\n",
    "df_cases = df[[\"Date\",'State','Cases']]\n",
    "df_deaths = df[['Date','State','Deaths']]\n",
    "df_cases1 = df_cases.groupby('Date')\n",
    "df_deaths1= df_deaths.groupby('Date')"
   ]
  },
  {
   "cell_type": "code",
   "execution_count": 3,
   "metadata": {
    "execution": {
     "iopub.execute_input": "2020-11-09T12:44:50.309680Z",
     "iopub.status.busy": "2020-11-09T12:44:50.308678Z",
     "iopub.status.idle": "2020-11-09T12:44:50.330201Z",
     "shell.execute_reply": "2020-11-09T12:44:50.330833Z"
    },
    "papermill": {
     "duration": 0.046049,
     "end_time": "2020-11-09T12:44:50.331063",
     "exception": false,
     "start_time": "2020-11-09T12:44:50.285014",
     "status": "completed"
    },
    "tags": []
   },
   "outputs": [],
   "source": [
    "#hide\n",
    "df_snap = pd.read_csv('data/SnapshotCases-28-July.csv')\n",
    "arr_states = df_snap['states'].unique()\n",
    "arr_dates = df['Date'].unique()\n",
    "df_snap = df_snap.set_index('states')"
   ]
  },
  {
   "cell_type": "code",
   "execution_count": 4,
   "metadata": {
    "execution": {
     "iopub.execute_input": "2020-11-09T12:44:50.371170Z",
     "iopub.status.busy": "2020-11-09T12:44:50.370487Z",
     "iopub.status.idle": "2020-11-09T12:44:50.374063Z",
     "shell.execute_reply": "2020-11-09T12:44:50.373431Z"
    },
    "papermill": {
     "duration": 0.025723,
     "end_time": "2020-11-09T12:44:50.374198",
     "exception": false,
     "start_time": "2020-11-09T12:44:50.348475",
     "status": "completed"
    },
    "tags": []
   },
   "outputs": [
    {
     "data": {
      "text/plain": [
       "array(['Andaman and Nicobar Islands', 'Andhra Pradesh',\n",
       "       'Arunachal Pradesh', 'Assam', 'Bihar', 'Chandigarh',\n",
       "       'Dadra and Nagar Haveli and Daman and Diu', 'Delhi', 'Goa',\n",
       "       'Gujarat', 'Haryana', 'Himachal Pradesh', 'Jammu and Kashmir',\n",
       "       'Jharkhand', 'Karnataka', 'Kerala', 'Lakshadweep',\n",
       "       'Madhya Pradesh', 'Maharashtra', 'Manipur', 'Meghalaya', 'Mizoram',\n",
       "       'Nagaland', 'Odisha', 'Puducherry', 'Punjab', 'Rajasthan',\n",
       "       'Sikkim', 'Tamil Nadu', 'Telangana', 'Tripura', 'Uttar Pradesh',\n",
       "       'West Bengal', 'Chhattisgarh', 'Ladakh', 'Uttarakhand'],\n",
       "      dtype=object)"
      ]
     },
     "execution_count": 4,
     "metadata": {},
     "output_type": "execute_result"
    }
   ],
   "source": [
    "#hide\n",
    "arr_states[-9] = 'Puducherry'\n",
    "arr_states[-10] = 'Odisha'\n",
    "arr_states[6] = 'Dadra and Nagar Haveli and Daman and Diu'\n",
    "arr_states = np.append(arr_states,np.array(['Chhattisgarh','Ladakh','Uttarakhand']))\n",
    "arr_states"
   ]
  },
  {
   "cell_type": "code",
   "execution_count": 5,
   "metadata": {
    "execution": {
     "iopub.execute_input": "2020-11-09T12:44:50.427678Z",
     "iopub.status.busy": "2020-11-09T12:44:50.426987Z",
     "iopub.status.idle": "2020-11-09T12:44:50.437949Z",
     "shell.execute_reply": "2020-11-09T12:44:50.437421Z"
    },
    "papermill": {
     "duration": 0.044073,
     "end_time": "2020-11-09T12:44:50.438099",
     "exception": false,
     "start_time": "2020-11-09T12:44:50.394026",
     "status": "completed"
    },
    "tags": []
   },
   "outputs": [],
   "source": [
    "#hide\n",
    "dates = []\n",
    "for i in arr_dates:\n",
    "    if i>='2020-07-01':\n",
    "        dates.append(i)\n",
    "dict = {'states':dates}\n",
    "for i in arr_states:\n",
    "    dict[i] = [0]*len(dates)\n",
    "dft_cases = pd.DataFrame(dict)\n",
    "dft_deaths = pd.DataFrame(dict)\n"
   ]
  },
  {
   "cell_type": "code",
   "execution_count": 6,
   "metadata": {
    "execution": {
     "iopub.execute_input": "2020-11-09T12:44:50.474372Z",
     "iopub.status.busy": "2020-11-09T12:44:50.473721Z",
     "iopub.status.idle": "2020-11-09T12:44:52.903825Z",
     "shell.execute_reply": "2020-11-09T12:44:52.904275Z"
    },
    "papermill": {
     "duration": 2.450257,
     "end_time": "2020-11-09T12:44:52.904442",
     "exception": false,
     "start_time": "2020-11-09T12:44:50.454185",
     "status": "completed"
    },
    "tags": []
   },
   "outputs": [],
   "source": [
    "#hide\n",
    "for i in range(len(dates)):\n",
    "    df1_deaths = df_deaths1.get_group(dates[i])\n",
    "    for j in range(len(df1_deaths.index)):\n",
    "        if df1_deaths.iloc[j,1] in arr_states:\n",
    "            dft_deaths.loc[i,df1_deaths.iloc[j,1]] = df1_deaths.iloc[j,2]\n",
    "dft_deaths = dft_deaths.set_index('states')"
   ]
  },
  {
   "cell_type": "code",
   "execution_count": 7,
   "metadata": {
    "execution": {
     "iopub.execute_input": "2020-11-09T12:44:52.944356Z",
     "iopub.status.busy": "2020-11-09T12:44:52.943727Z",
     "iopub.status.idle": "2020-11-09T12:44:55.322962Z",
     "shell.execute_reply": "2020-11-09T12:44:55.321932Z"
    },
    "papermill": {
     "duration": 2.402937,
     "end_time": "2020-11-09T12:44:55.323218",
     "exception": false,
     "start_time": "2020-11-09T12:44:52.920281",
     "status": "completed"
    },
    "tags": []
   },
   "outputs": [],
   "source": [
    "#hide\n",
    "for i in range(len(dates)):\n",
    "    df1_cases = df_cases1.get_group(dates[i])\n",
    "    for j in range(len(df1_cases.index)):\n",
    "        if df1_cases.iloc[j,1] in arr_states:\n",
    "            dft_cases.loc[i,df1_cases.iloc[j,1]] = df1_cases.iloc[j,2]\n",
    "dft_cases = dft_cases.set_index('states')"
   ]
  },
  {
   "cell_type": "code",
   "execution_count": 8,
   "metadata": {
    "execution": {
     "iopub.execute_input": "2020-11-09T12:44:55.423536Z",
     "iopub.status.busy": "2020-11-09T12:44:55.422879Z",
     "iopub.status.idle": "2020-11-09T12:44:55.425584Z",
     "shell.execute_reply": "2020-11-09T12:44:55.425026Z"
    },
    "papermill": {
     "duration": 0.086611,
     "end_time": "2020-11-09T12:44:55.425911",
     "exception": false,
     "start_time": "2020-11-09T12:44:55.339300",
     "status": "completed"
    },
    "tags": []
   },
   "outputs": [],
   "source": [
    "#hide\n",
    "dft_cases = dft_cases.T\n",
    "dft_deaths = dft_deaths.T\n",
    "dt_today = dates[-1]\n",
    "dt_yday = dates[-2]"
   ]
  },
  {
   "cell_type": "code",
   "execution_count": 9,
   "metadata": {
    "execution": {
     "iopub.execute_input": "2020-11-09T12:44:55.600175Z",
     "iopub.status.busy": "2020-11-09T12:44:55.599539Z",
     "iopub.status.idle": "2020-11-09T12:44:55.601833Z",
     "shell.execute_reply": "2020-11-09T12:44:55.602528Z"
    },
    "papermill": {
     "duration": 0.027936,
     "end_time": "2020-11-09T12:44:55.602728",
     "exception": false,
     "start_time": "2020-11-09T12:44:55.574792",
     "status": "completed"
    },
    "tags": []
   },
   "outputs": [],
   "source": [
    "#hide\n",
    "dft_cases = dft_cases.reset_index()\n",
    "dft_deaths = dft_deaths.reset_index()\n",
    "dft_cases = dft_cases.rename(columns = {'index':'state'})\n",
    "dft_deaths = dft_deaths.rename(columns = {'index':'state'})"
   ]
  },
  {
   "cell_type": "code",
   "execution_count": 10,
   "metadata": {
    "execution": {
     "iopub.execute_input": "2020-11-09T12:44:55.648060Z",
     "iopub.status.busy": "2020-11-09T12:44:55.647428Z",
     "iopub.status.idle": "2020-11-09T12:44:55.649795Z",
     "shell.execute_reply": "2020-11-09T12:44:55.650297Z"
    },
    "papermill": {
     "duration": 0.031807,
     "end_time": "2020-11-09T12:44:55.650441",
     "exception": false,
     "start_time": "2020-11-09T12:44:55.618634",
     "status": "completed"
    },
    "tags": []
   },
   "outputs": [],
   "source": [
    "#hide\n",
    "dfc_cases = dft_cases.groupby('state')[dt_today].sum()\n",
    "dfc_deaths = dft_deaths.groupby('state')[dt_today].sum()\n",
    "dfp_cases = dft_cases.groupby('state')[dt_yday].sum()\n",
    "dfp_deaths = dft_deaths.groupby('state')[dt_yday].sum()"
   ]
  },
  {
   "cell_type": "code",
   "execution_count": 11,
   "metadata": {
    "execution": {
     "iopub.execute_input": "2020-11-09T12:44:55.697364Z",
     "iopub.status.busy": "2020-11-09T12:44:55.696750Z",
     "iopub.status.idle": "2020-11-09T12:44:55.712769Z",
     "shell.execute_reply": "2020-11-09T12:44:55.712226Z"
    },
    "papermill": {
     "duration": 0.041906,
     "end_time": "2020-11-09T12:44:55.712910",
     "exception": false,
     "start_time": "2020-11-09T12:44:55.671004",
     "status": "completed"
    },
    "tags": []
   },
   "outputs": [
    {
     "data": {
      "text/html": [
       "<div>\n",
       "<style scoped>\n",
       "    .dataframe tbody tr th:only-of-type {\n",
       "        vertical-align: middle;\n",
       "    }\n",
       "\n",
       "    .dataframe tbody tr th {\n",
       "        vertical-align: top;\n",
       "    }\n",
       "\n",
       "    .dataframe thead th {\n",
       "        text-align: right;\n",
       "    }\n",
       "</style>\n",
       "<table border=\"1\" class=\"dataframe\">\n",
       "  <thead>\n",
       "    <tr style=\"text-align: right;\">\n",
       "      <th></th>\n",
       "      <th>states</th>\n",
       "      <th>Cases</th>\n",
       "      <th>Deaths</th>\n",
       "      <th>PCases</th>\n",
       "      <th>PDeaths</th>\n",
       "    </tr>\n",
       "  </thead>\n",
       "  <tbody>\n",
       "    <tr>\n",
       "      <th>0</th>\n",
       "      <td>Maharashtra</td>\n",
       "      <td>1719858</td>\n",
       "      <td>45240</td>\n",
       "      <td>1719858</td>\n",
       "      <td>45240</td>\n",
       "    </tr>\n",
       "    <tr>\n",
       "      <th>1</th>\n",
       "      <td>Karnataka</td>\n",
       "      <td>846887</td>\n",
       "      <td>11391</td>\n",
       "      <td>846887</td>\n",
       "      <td>11391</td>\n",
       "    </tr>\n",
       "    <tr>\n",
       "      <th>2</th>\n",
       "      <td>Andhra Pradesh</td>\n",
       "      <td>842967</td>\n",
       "      <td>6791</td>\n",
       "      <td>842967</td>\n",
       "      <td>6791</td>\n",
       "    </tr>\n",
       "    <tr>\n",
       "      <th>3</th>\n",
       "      <td>Tamil Nadu</td>\n",
       "      <td>743822</td>\n",
       "      <td>11344</td>\n",
       "      <td>743822</td>\n",
       "      <td>11344</td>\n",
       "    </tr>\n",
       "    <tr>\n",
       "      <th>4</th>\n",
       "      <td>Uttar Pradesh</td>\n",
       "      <td>497563</td>\n",
       "      <td>7206</td>\n",
       "      <td>497563</td>\n",
       "      <td>7206</td>\n",
       "    </tr>\n",
       "  </tbody>\n",
       "</table>\n",
       "</div>"
      ],
      "text/plain": [
       "           states    Cases  Deaths   PCases  PDeaths\n",
       "0     Maharashtra  1719858   45240  1719858    45240\n",
       "1       Karnataka   846887   11391   846887    11391\n",
       "2  Andhra Pradesh   842967    6791   842967     6791\n",
       "3      Tamil Nadu   743822   11344   743822    11344\n",
       "4   Uttar Pradesh   497563    7206   497563     7206"
      ]
     },
     "execution_count": 11,
     "metadata": {},
     "output_type": "execute_result"
    }
   ],
   "source": [
    "#hide\n",
    "df_table = pd.DataFrame({'states': dfc_cases.index, 'Cases': dfc_cases.values, 'Deaths': dfc_deaths.values, 'PCases': dfp_cases.values, 'PDeaths': dfp_deaths.values}).set_index('states')\n",
    "df_table = df_table.sort_values(by = ['Cases','Deaths'], ascending = [False, False])\n",
    "df_table = df_table.reset_index()\n",
    "df_table.head()"
   ]
  },
  {
   "cell_type": "code",
   "execution_count": 12,
   "metadata": {
    "execution": {
     "iopub.execute_input": "2020-11-09T12:44:55.748801Z",
     "iopub.status.busy": "2020-11-09T12:44:55.748220Z",
     "iopub.status.idle": "2020-11-09T12:44:55.757346Z",
     "shell.execute_reply": "2020-11-09T12:44:55.756778Z"
    },
    "papermill": {
     "duration": 0.028668,
     "end_time": "2020-11-09T12:44:55.757465",
     "exception": false,
     "start_time": "2020-11-09T12:44:55.728797",
     "status": "completed"
    },
    "tags": []
   },
   "outputs": [],
   "source": [
    "#hide\n",
    "for c in 'Cases, Deaths'.split(', '):\n",
    "    df_table[f'{c} (+)'] = (df_table[c] - df_table[f'P{c}']).clip(0)\n",
    "df_table['Fatality Rate'] = (100* df_table['Deaths']/ df_table['Cases']).round(2)"
   ]
  },
  {
   "cell_type": "code",
   "execution_count": 13,
   "metadata": {
    "execution": {
     "iopub.execute_input": "2020-11-09T12:44:55.803233Z",
     "iopub.status.busy": "2020-11-09T12:44:55.802383Z",
     "iopub.status.idle": "2020-11-09T12:44:55.805514Z",
     "shell.execute_reply": "2020-11-09T12:44:55.806208Z"
    },
    "papermill": {
     "duration": 0.033059,
     "end_time": "2020-11-09T12:44:55.806370",
     "exception": false,
     "start_time": "2020-11-09T12:44:55.773311",
     "status": "completed"
    },
    "tags": []
   },
   "outputs": [
    {
     "data": {
      "text/html": [
       "<div>\n",
       "<style scoped>\n",
       "    .dataframe tbody tr th:only-of-type {\n",
       "        vertical-align: middle;\n",
       "    }\n",
       "\n",
       "    .dataframe tbody tr th {\n",
       "        vertical-align: top;\n",
       "    }\n",
       "\n",
       "    .dataframe thead th {\n",
       "        text-align: right;\n",
       "    }\n",
       "</style>\n",
       "<table border=\"1\" class=\"dataframe\">\n",
       "  <thead>\n",
       "    <tr style=\"text-align: right;\">\n",
       "      <th></th>\n",
       "      <th>states</th>\n",
       "      <th>Cases</th>\n",
       "      <th>Deaths</th>\n",
       "      <th>PCases</th>\n",
       "      <th>PDeaths</th>\n",
       "      <th>Cases (+)</th>\n",
       "      <th>Deaths (+)</th>\n",
       "      <th>Fatality Rate</th>\n",
       "    </tr>\n",
       "  </thead>\n",
       "  <tbody>\n",
       "    <tr>\n",
       "      <th>0</th>\n",
       "      <td>Maharashtra</td>\n",
       "      <td>1719858</td>\n",
       "      <td>45240</td>\n",
       "      <td>1719858</td>\n",
       "      <td>45240</td>\n",
       "      <td>0</td>\n",
       "      <td>0</td>\n",
       "      <td>2.63</td>\n",
       "    </tr>\n",
       "    <tr>\n",
       "      <th>1</th>\n",
       "      <td>Karnataka</td>\n",
       "      <td>846887</td>\n",
       "      <td>11391</td>\n",
       "      <td>846887</td>\n",
       "      <td>11391</td>\n",
       "      <td>0</td>\n",
       "      <td>0</td>\n",
       "      <td>1.35</td>\n",
       "    </tr>\n",
       "    <tr>\n",
       "      <th>2</th>\n",
       "      <td>Andhra Pradesh</td>\n",
       "      <td>842967</td>\n",
       "      <td>6791</td>\n",
       "      <td>842967</td>\n",
       "      <td>6791</td>\n",
       "      <td>0</td>\n",
       "      <td>0</td>\n",
       "      <td>0.81</td>\n",
       "    </tr>\n",
       "    <tr>\n",
       "      <th>3</th>\n",
       "      <td>Tamil Nadu</td>\n",
       "      <td>743822</td>\n",
       "      <td>11344</td>\n",
       "      <td>743822</td>\n",
       "      <td>11344</td>\n",
       "      <td>0</td>\n",
       "      <td>0</td>\n",
       "      <td>1.53</td>\n",
       "    </tr>\n",
       "    <tr>\n",
       "      <th>4</th>\n",
       "      <td>Uttar Pradesh</td>\n",
       "      <td>497563</td>\n",
       "      <td>7206</td>\n",
       "      <td>497563</td>\n",
       "      <td>7206</td>\n",
       "      <td>0</td>\n",
       "      <td>0</td>\n",
       "      <td>1.45</td>\n",
       "    </tr>\n",
       "  </tbody>\n",
       "</table>\n",
       "</div>"
      ],
      "text/plain": [
       "           states    Cases  Deaths   PCases  PDeaths  Cases (+)  Deaths (+)  \\\n",
       "0     Maharashtra  1719858   45240  1719858    45240          0           0   \n",
       "1       Karnataka   846887   11391   846887    11391          0           0   \n",
       "2  Andhra Pradesh   842967    6791   842967     6791          0           0   \n",
       "3      Tamil Nadu   743822   11344   743822    11344          0           0   \n",
       "4   Uttar Pradesh   497563    7206   497563     7206          0           0   \n",
       "\n",
       "   Fatality Rate  \n",
       "0           2.63  \n",
       "1           1.35  \n",
       "2           0.81  \n",
       "3           1.53  \n",
       "4           1.45  "
      ]
     },
     "execution_count": 13,
     "metadata": {},
     "output_type": "execute_result"
    }
   ],
   "source": [
    "#hide\n",
    "df_table.head()"
   ]
  },
  {
   "cell_type": "code",
   "execution_count": 14,
   "metadata": {
    "execution": {
     "iopub.execute_input": "2020-11-09T12:44:55.843749Z",
     "iopub.status.busy": "2020-11-09T12:44:55.843169Z",
     "iopub.status.idle": "2020-11-09T12:44:55.860728Z",
     "shell.execute_reply": "2020-11-09T12:44:55.860222Z"
    },
    "papermill": {
     "duration": 0.038175,
     "end_time": "2020-11-09T12:44:55.860851",
     "exception": false,
     "start_time": "2020-11-09T12:44:55.822676",
     "status": "completed"
    },
    "tags": []
   },
   "outputs": [
    {
     "data": {
      "text/plain": [
       "{'updated': '2020-11-09',\n",
       " 'since': '2020-11-08',\n",
       " 'Cases': 8556878,\n",
       " 'PCases': 8553911,\n",
       " 'Deaths': 126683,\n",
       " 'PDeaths': 126654,\n",
       " 'Cases (+)': 2967,\n",
       " 'Deaths (+)': 29}"
      ]
     },
     "execution_count": 14,
     "metadata": {},
     "output_type": "execute_result"
    }
   ],
   "source": [
    "#hide\n",
    "summary = {'updated':dates[-1], 'since':dates[-2]}\n",
    "list_names = ['Cases', 'PCases', 'Deaths', 'PDeaths', 'Cases (+)', 'Deaths (+)']\n",
    "for name in list_names:\n",
    "    summary[name] = df_table.sum()[name]\n",
    "summary"
   ]
  },
  {
   "cell_type": "code",
   "execution_count": 15,
   "metadata": {
    "execution": {
     "iopub.execute_input": "2020-11-09T12:44:55.903163Z",
     "iopub.status.busy": "2020-11-09T12:44:55.902283Z",
     "iopub.status.idle": "2020-11-09T12:44:55.905921Z",
     "shell.execute_reply": "2020-11-09T12:44:55.905408Z"
    },
    "papermill": {
     "duration": 0.027176,
     "end_time": "2020-11-09T12:44:55.906054",
     "exception": false,
     "start_time": "2020-11-09T12:44:55.878878",
     "status": "completed"
    },
    "tags": []
   },
   "outputs": [],
   "source": [
    "#hide\n",
    "overview = '''\n",
    "<!-- #######  HTML!! #########-->\n",
    "<h1 style=\"color: #5e9ca0; text-align: center;\">India</h1>\n",
    "<p style=\"text-align: center;\">Last update: <strong>{update}</strong></p>\n",
    "<p style=\"text-align: center;\">Confirmed cases:</p>\n",
    "<p style=\"text-align: center;font-size:24px;\">{cases} (<span style=\"color: #ff0000;\">+{new}</span>)</p>\n",
    "<p style=\"text-align: center;\">Confirmed deaths:</p>\n",
    "<p style=\"text-align: center;font-size:24px;\">{deaths} (<span style=\"color: #ff0000;\">+{dnew}</span>)</p>\n",
    "'''"
   ]
  },
  {
   "cell_type": "code",
   "execution_count": 16,
   "metadata": {
    "execution": {
     "iopub.execute_input": "2020-11-09T12:44:55.947314Z",
     "iopub.status.busy": "2020-11-09T12:44:55.946728Z",
     "iopub.status.idle": "2020-11-09T12:44:55.950141Z",
     "shell.execute_reply": "2020-11-09T12:44:55.950818Z"
    },
    "papermill": {
     "duration": 0.027283,
     "end_time": "2020-11-09T12:44:55.950984",
     "exception": false,
     "start_time": "2020-11-09T12:44:55.923701",
     "status": "completed"
    },
    "tags": []
   },
   "outputs": [
    {
     "data": {
      "text/html": [
       "\n",
       "<!-- #######  HTML!! #########-->\n",
       "<h1 style=\"color: #5e9ca0; text-align: center;\">India</h1>\n",
       "<p style=\"text-align: center;\">Last update: <strong>2020-11-09</strong></p>\n",
       "<p style=\"text-align: center;\">Confirmed cases:</p>\n",
       "<p style=\"text-align: center;font-size:24px;\">8556878 (<span style=\"color: #ff0000;\">+2967</span>)</p>\n",
       "<p style=\"text-align: center;\">Confirmed deaths:</p>\n",
       "<p style=\"text-align: center;font-size:24px;\">126683 (<span style=\"color: #ff0000;\">+29</span>)</p>\n"
      ],
      "text/plain": [
       "<IPython.core.display.HTML object>"
      ]
     },
     "metadata": {},
     "output_type": "display_data"
    }
   ],
   "source": [
    "#hide_input\n",
    "update = summary['updated']\n",
    "cases = summary['Cases']\n",
    "new = summary['Cases (+)']\n",
    "deaths = summary['Deaths']\n",
    "dnew = summary['Deaths (+)']\n",
    "\n",
    "html = HTML(overview.format(update=update, cases=cases,new=new,deaths=deaths,dnew=dnew))\n",
    "\n",
    "display(html)"
   ]
  },
  {
   "cell_type": "code",
   "execution_count": 17,
   "metadata": {
    "execution": {
     "iopub.execute_input": "2020-11-09T12:44:55.998311Z",
     "iopub.status.busy": "2020-11-09T12:44:55.997590Z",
     "iopub.status.idle": "2020-11-09T12:44:56.003234Z",
     "shell.execute_reply": "2020-11-09T12:44:56.003831Z"
    },
    "papermill": {
     "duration": 0.033307,
     "end_time": "2020-11-09T12:44:56.003980",
     "exception": false,
     "start_time": "2020-11-09T12:44:55.970673",
     "status": "completed"
    },
    "tags": []
   },
   "outputs": [],
   "source": [
    "#hide\n",
    "dt_cols = list(dft_cases.columns[1:])\n",
    "dft_ct_new_cases = dft_cases.groupby('state')[dt_cols].sum().diff(axis=1).fillna(0).astype(int)\n",
    "dft_ct_new_cases.sort_values(by = dates[-1], ascending = False,inplace = True)"
   ]
  },
  {
   "cell_type": "code",
   "execution_count": 18,
   "metadata": {
    "execution": {
     "iopub.execute_input": "2020-11-09T12:44:56.062876Z",
     "iopub.status.busy": "2020-11-09T12:44:56.062074Z",
     "iopub.status.idle": "2020-11-09T12:44:56.065854Z",
     "shell.execute_reply": "2020-11-09T12:44:56.066379Z"
    },
    "papermill": {
     "duration": 0.044212,
     "end_time": "2020-11-09T12:44:56.066637",
     "exception": false,
     "start_time": "2020-11-09T12:44:56.022425",
     "status": "completed"
    },
    "tags": []
   },
   "outputs": [
    {
     "data": {
      "text/html": [
       "<div>\n",
       "<style scoped>\n",
       "    .dataframe tbody tr th:only-of-type {\n",
       "        vertical-align: middle;\n",
       "    }\n",
       "\n",
       "    .dataframe tbody tr th {\n",
       "        vertical-align: top;\n",
       "    }\n",
       "\n",
       "    .dataframe thead th {\n",
       "        text-align: right;\n",
       "    }\n",
       "</style>\n",
       "<table border=\"1\" class=\"dataframe\">\n",
       "  <thead>\n",
       "    <tr style=\"text-align: right;\">\n",
       "      <th>states</th>\n",
       "      <th>2020-07-01</th>\n",
       "      <th>2020-07-02</th>\n",
       "      <th>2020-07-03</th>\n",
       "      <th>2020-07-04</th>\n",
       "      <th>2020-07-05</th>\n",
       "      <th>2020-07-06</th>\n",
       "      <th>2020-07-07</th>\n",
       "      <th>2020-07-08</th>\n",
       "      <th>2020-07-09</th>\n",
       "      <th>2020-07-10</th>\n",
       "      <th>...</th>\n",
       "      <th>2020-10-31</th>\n",
       "      <th>2020-11-01</th>\n",
       "      <th>2020-11-02</th>\n",
       "      <th>2020-11-03</th>\n",
       "      <th>2020-11-04</th>\n",
       "      <th>2020-11-05</th>\n",
       "      <th>2020-11-06</th>\n",
       "      <th>2020-11-07</th>\n",
       "      <th>2020-11-08</th>\n",
       "      <th>2020-11-09</th>\n",
       "    </tr>\n",
       "    <tr>\n",
       "      <th>state</th>\n",
       "      <th></th>\n",
       "      <th></th>\n",
       "      <th></th>\n",
       "      <th></th>\n",
       "      <th></th>\n",
       "      <th></th>\n",
       "      <th></th>\n",
       "      <th></th>\n",
       "      <th></th>\n",
       "      <th></th>\n",
       "      <th></th>\n",
       "      <th></th>\n",
       "      <th></th>\n",
       "      <th></th>\n",
       "      <th></th>\n",
       "      <th></th>\n",
       "      <th></th>\n",
       "      <th></th>\n",
       "      <th></th>\n",
       "      <th></th>\n",
       "      <th></th>\n",
       "    </tr>\n",
       "  </thead>\n",
       "  <tbody>\n",
       "    <tr>\n",
       "      <th>Odisha</th>\n",
       "      <td>0</td>\n",
       "      <td>229</td>\n",
       "      <td>561</td>\n",
       "      <td>495</td>\n",
       "      <td>469</td>\n",
       "      <td>456</td>\n",
       "      <td>571</td>\n",
       "      <td>527</td>\n",
       "      <td>577</td>\n",
       "      <td>755</td>\n",
       "      <td>...</td>\n",
       "      <td>1470</td>\n",
       "      <td>1709</td>\n",
       "      <td>1389</td>\n",
       "      <td>1201</td>\n",
       "      <td>1474</td>\n",
       "      <td>1385</td>\n",
       "      <td>1494</td>\n",
       "      <td>1372</td>\n",
       "      <td>1434</td>\n",
       "      <td>1219</td>\n",
       "    </tr>\n",
       "    <tr>\n",
       "      <th>Bihar</th>\n",
       "      <td>0</td>\n",
       "      <td>478</td>\n",
       "      <td>426</td>\n",
       "      <td>349</td>\n",
       "      <td>403</td>\n",
       "      <td>280</td>\n",
       "      <td>388</td>\n",
       "      <td>749</td>\n",
       "      <td>704</td>\n",
       "      <td>352</td>\n",
       "      <td>...</td>\n",
       "      <td>800</td>\n",
       "      <td>777</td>\n",
       "      <td>577</td>\n",
       "      <td>846</td>\n",
       "      <td>541</td>\n",
       "      <td>741</td>\n",
       "      <td>746</td>\n",
       "      <td>819</td>\n",
       "      <td>801</td>\n",
       "      <td>865</td>\n",
       "    </tr>\n",
       "    <tr>\n",
       "      <th>Telangana</th>\n",
       "      <td>0</td>\n",
       "      <td>1213</td>\n",
       "      <td>1892</td>\n",
       "      <td>1850</td>\n",
       "      <td>1590</td>\n",
       "      <td>1831</td>\n",
       "      <td>1879</td>\n",
       "      <td>1924</td>\n",
       "      <td>1410</td>\n",
       "      <td>1278</td>\n",
       "      <td>...</td>\n",
       "      <td>1445</td>\n",
       "      <td>1416</td>\n",
       "      <td>922</td>\n",
       "      <td>1536</td>\n",
       "      <td>1637</td>\n",
       "      <td>1539</td>\n",
       "      <td>1602</td>\n",
       "      <td>1607</td>\n",
       "      <td>1440</td>\n",
       "      <td>857</td>\n",
       "    </tr>\n",
       "    <tr>\n",
       "      <th>Tripura</th>\n",
       "      <td>0</td>\n",
       "      <td>39</td>\n",
       "      <td>93</td>\n",
       "      <td>25</td>\n",
       "      <td>23</td>\n",
       "      <td>111</td>\n",
       "      <td>24</td>\n",
       "      <td>57</td>\n",
       "      <td>16</td>\n",
       "      <td>142</td>\n",
       "      <td>...</td>\n",
       "      <td>54</td>\n",
       "      <td>77</td>\n",
       "      <td>58</td>\n",
       "      <td>137</td>\n",
       "      <td>116</td>\n",
       "      <td>132</td>\n",
       "      <td>110</td>\n",
       "      <td>87</td>\n",
       "      <td>83</td>\n",
       "      <td>26</td>\n",
       "    </tr>\n",
       "    <tr>\n",
       "      <th>Andaman and Nicobar Islands</th>\n",
       "      <td>0</td>\n",
       "      <td>9</td>\n",
       "      <td>7</td>\n",
       "      <td>3</td>\n",
       "      <td>6</td>\n",
       "      <td>16</td>\n",
       "      <td>6</td>\n",
       "      <td>2</td>\n",
       "      <td>7</td>\n",
       "      <td>0</td>\n",
       "      <td>...</td>\n",
       "      <td>15</td>\n",
       "      <td>8</td>\n",
       "      <td>12</td>\n",
       "      <td>20</td>\n",
       "      <td>17</td>\n",
       "      <td>14</td>\n",
       "      <td>17</td>\n",
       "      <td>21</td>\n",
       "      <td>9</td>\n",
       "      <td>0</td>\n",
       "    </tr>\n",
       "  </tbody>\n",
       "</table>\n",
       "<p>5 rows × 132 columns</p>\n",
       "</div>"
      ],
      "text/plain": [
       "states                       2020-07-01  2020-07-02  2020-07-03  2020-07-04  \\\n",
       "state                                                                         \n",
       "Odisha                                0         229         561         495   \n",
       "Bihar                                 0         478         426         349   \n",
       "Telangana                             0        1213        1892        1850   \n",
       "Tripura                               0          39          93          25   \n",
       "Andaman and Nicobar Islands           0           9           7           3   \n",
       "\n",
       "states                       2020-07-05  2020-07-06  2020-07-07  2020-07-08  \\\n",
       "state                                                                         \n",
       "Odisha                              469         456         571         527   \n",
       "Bihar                               403         280         388         749   \n",
       "Telangana                          1590        1831        1879        1924   \n",
       "Tripura                              23         111          24          57   \n",
       "Andaman and Nicobar Islands           6          16           6           2   \n",
       "\n",
       "states                       2020-07-09  2020-07-10  ...  2020-10-31  \\\n",
       "state                                                ...               \n",
       "Odisha                              577         755  ...        1470   \n",
       "Bihar                               704         352  ...         800   \n",
       "Telangana                          1410        1278  ...        1445   \n",
       "Tripura                              16         142  ...          54   \n",
       "Andaman and Nicobar Islands           7           0  ...          15   \n",
       "\n",
       "states                       2020-11-01  2020-11-02  2020-11-03  2020-11-04  \\\n",
       "state                                                                         \n",
       "Odisha                             1709        1389        1201        1474   \n",
       "Bihar                               777         577         846         541   \n",
       "Telangana                          1416         922        1536        1637   \n",
       "Tripura                              77          58         137         116   \n",
       "Andaman and Nicobar Islands           8          12          20          17   \n",
       "\n",
       "states                       2020-11-05  2020-11-06  2020-11-07  2020-11-08  \\\n",
       "state                                                                         \n",
       "Odisha                             1385        1494        1372        1434   \n",
       "Bihar                               741         746         819         801   \n",
       "Telangana                          1539        1602        1607        1440   \n",
       "Tripura                             132         110          87          83   \n",
       "Andaman and Nicobar Islands          14          17          21           9   \n",
       "\n",
       "states                       2020-11-09  \n",
       "state                                    \n",
       "Odisha                             1219  \n",
       "Bihar                               865  \n",
       "Telangana                           857  \n",
       "Tripura                              26  \n",
       "Andaman and Nicobar Islands           0  \n",
       "\n",
       "[5 rows x 132 columns]"
      ]
     },
     "execution_count": 18,
     "metadata": {},
     "output_type": "execute_result"
    }
   ],
   "source": [
    "#hide\n",
    "dft_ct_new_cases.head()"
   ]
  },
  {
   "cell_type": "code",
   "execution_count": 19,
   "metadata": {
    "execution": {
     "iopub.execute_input": "2020-11-09T12:44:56.115057Z",
     "iopub.status.busy": "2020-11-09T12:44:56.114301Z",
     "iopub.status.idle": "2020-11-09T12:45:02.409971Z",
     "shell.execute_reply": "2020-11-09T12:45:02.409448Z"
    },
    "papermill": {
     "duration": 6.319134,
     "end_time": "2020-11-09T12:45:02.410114",
     "exception": false,
     "start_time": "2020-11-09T12:44:56.090980",
     "status": "completed"
    },
    "tags": []
   },
   "outputs": [
    {
     "data": {
      "image/png": "[encoded data removed]",
      "text/plain": [
       "<Figure size 1296x2016 with 11 Axes>"
      ]
     },
     "metadata": {
      "needs_background": "light"
     },
     "output_type": "display_data"
    }
   ],
   "source": [
    "#hide_input\n",
    "df = dft_ct_new_cases.copy()\n",
    "df.loc['Total'] = df.sum()\n",
    "n = 5\n",
    "ax = []\n",
    "fig = plt.figure(figsize = (18,28))\n",
    "gs = fig.add_gridspec(n+2, 5)\n",
    "# gs = fig.add_gridspec(2, 3)\n",
    "ax1 = fig.add_subplot(gs[0, :])\n",
    "ef = df.loc['Total'].rename_axis('date').reset_index()\n",
    "ef['date'] = ef['date'].astype('datetime64[ns]')\n",
    "ax1.bar(ef.date,ef.Total,alpha=0.3,color='#007acc')\n",
    "ax1.plot(ef.date,ef.Total , marker=\"o\", color='#007acc')\n",
    "ax1.xaxis.set_major_locator(mdates.WeekdayLocator())\n",
    "ax1.xaxis.set_major_formatter(mdates.DateFormatter('%b %d'))\n",
    "ax1.text(0.02, 0.5,'India daily case count', transform = ax1.transAxes, fontsize=25);\n",
    "ax1.spines['right'].set_visible(False)\n",
    "ax1.spines['top'].set_visible(False)\n",
    "\n",
    "ax2 = fig.add_subplot(gs[1,0])\n",
    "ef = df.loc['Maharashtra'].rename_axis('date').reset_index()\n",
    "ef['date'] = ef['date'].astype('datetime64[ns]')\n",
    "\n",
    "ax2.bar(ef.date, ef.Maharashtra,color = '#007acc',alpha=0.5)\n",
    "ax2.xaxis.set_major_locator(mdates.WeekdayLocator())\n",
    "ax2.xaxis.set_major_formatter(mdates.DateFormatter('%b %d'))\n",
    "ax2.set_xticks(ax2.get_xticks()[::3])\n",
    "maxyval = ef.Maharashtra.max()\n",
    "ax2.set_ylim([0,maxyval])\n",
    "ax2.text(0.05, 0.9,'Maharashtra', transform = ax2.transAxes, fontsize=20);\n",
    "ax2.spines['right'].set_visible(False)\n",
    "ax2.spines['top'].set_visible(False)\n",
    "\n",
    "\n",
    "ax3 = fig.add_subplot(gs[1,1])\n",
    "ef = df.loc['Tamil Nadu'].rename_axis('date').reset_index()\n",
    "ef['date'] = ef['date'].astype('datetime64[ns]')\n",
    "ax3.bar(ef.date, ef['Tamil Nadu'],color = '#007acc',alpha=0.5,)\n",
    "ax3.xaxis.set_major_locator(mdates.WeekdayLocator())\n",
    "ax3.xaxis.set_major_formatter(mdates.DateFormatter('%b %d'))\n",
    "ax3.set_xticks(ax3.get_xticks()[::3])\n",
    "ax3.text(0.05, 0.9,'Tamil Nadu', transform = ax3.transAxes, fontsize=20);\n",
    "ax3.spines['right'].set_visible(False)\n",
    "ax3.spines['top'].set_visible(False)\n",
    "\n",
    "ax5 = fig.add_subplot(gs[1,3])\n",
    "ef = df.loc['Telangana'].rename_axis('date').reset_index()\n",
    "ef['date'] = ef['date'].astype('datetime64[ns]')\n",
    "ax5.bar(ef.date, ef['Telangana'],color = '#007acc',alpha=0.5,)\n",
    "ax5.xaxis.set_major_locator(mdates.WeekdayLocator())\n",
    "ax5.xaxis.set_major_formatter(mdates.DateFormatter('%b %d'))\n",
    "ax5.set_xticks(ax5.get_xticks()[::3])\n",
    "ax5.text(0.05, 0.9,'Telangana', transform = ax5.transAxes, fontsize=20);\n",
    "ax5.spines['right'].set_visible(False)\n",
    "ax5.spines['top'].set_visible(False)\n",
    "\n",
    "ax6 = fig.add_subplot(gs[1,4])\n",
    "ef = df.loc['Andhra Pradesh'].rename_axis('date').reset_index()\n",
    "ef['date'] = ef['date'].astype('datetime64[ns]')\n",
    "ax6.bar(ef.date, ef['Andhra Pradesh'],color = '#007acc',alpha=0.5,)\n",
    "ax6.xaxis.set_major_locator(mdates.WeekdayLocator())\n",
    "ax6.xaxis.set_major_formatter(mdates.DateFormatter('%b %d'))\n",
    "ax6.set_xticks(ax6.get_xticks()[::3])\n",
    "ax6.text(0.05, 1,'Andhra Pradesh', transform = ax6.transAxes, fontsize=20);\n",
    "ax6.spines['right'].set_visible(False)\n",
    "ax6.spines['top'].set_visible(False)\n",
    "\n",
    "ax4 = fig.add_subplot(gs[1,2])\n",
    "ef = df.loc['Delhi'].rename_axis('date').reset_index()\n",
    "ef['date'] = ef['date'].astype('datetime64[ns]')\n",
    "ax4.bar(ef.date, ef.Delhi,color = '#007acc',alpha=0.5)\n",
    "ax4.set_xticks([])\n",
    "ax4.xaxis.set_major_locator(mdates.WeekdayLocator())\n",
    "ax4.xaxis.set_major_formatter(mdates.DateFormatter('%b %d'))\n",
    "ax4.set_xticks(ax4.get_xticks()[::3])\n",
    "ax4.spines['right'].set_visible(False)\n",
    "ax4.spines['top'].set_visible(False)\n",
    "\n",
    "ax4.text(0.05, 1,'Delhi', transform = ax4.transAxes, fontsize=20)\n",
    "\n",
    "for i in range(n):\n",
    "    \n",
    "    ax.append(fig.add_subplot(gs[i+2,:]))\n",
    "    ef = df.iloc[i+3].rename_axis('date').reset_index()\n",
    "    ef['date'] = ef['date'].astype('datetime64[ns]')\n",
    "    ax[i].bar(ef.date,ef.iloc[:,-1],color = '#007acc',alpha=0.3)\n",
    "    ax[i].plot(ef.date,ef.iloc[:,-1],marker='o',color='#007acc')\n",
    "    ax[i].text(0.02,0.5,f'{ef.columns.values[-1]}',transform = ax[i].transAxes, fontsize = 20);\n",
    "    ax[i].xaxis.set_major_locator(mdates.WeekdayLocator())\n",
    "    ax[i].xaxis.set_major_formatter(mdates.DateFormatter('%b %d'))\n",
    "    ax[i].set_ylim([0,7000])\n",
    "    ax[i].spines['right'].set_visible(False)\n",
    "    ax[i].spines['top'].set_visible(False)\n",
    "plt.tight_layout()\n"
   ]
  },
  {
   "cell_type": "code",
   "execution_count": 20,
   "metadata": {
    "execution": {
     "iopub.execute_input": "2020-11-09T12:45:02.461855Z",
     "iopub.status.busy": "2020-11-09T12:45:02.461203Z",
     "iopub.status.idle": "2020-11-09T12:45:02.464674Z",
     "shell.execute_reply": "2020-11-09T12:45:02.464068Z"
    },
    "papermill": {
     "duration": 0.033347,
     "end_time": "2020-11-09T12:45:02.464871",
     "exception": false,
     "start_time": "2020-11-09T12:45:02.431524",
     "status": "completed"
    },
    "tags": []
   },
   "outputs": [
    {
     "name": "stdout",
     "output_type": "stream",
     "text": [
      "                                   states    Cases  Deaths   PCases  PDeaths  Cases (+)  Deaths (+)  Fatality Rate\n",
      "                              Maharashtra  1719858   45240  1719858    45240          0           0           2.63\n",
      "                                Karnataka   846887   11391   846887    11391          0           0           1.35\n",
      "                           Andhra Pradesh   842967    6791   842967     6791          0           0           0.81\n",
      "                               Tamil Nadu   743822   11344   743822    11344          0           0           1.53\n",
      "                            Uttar Pradesh   497563    7206   497563     7206          0           0           1.45\n",
      "                                   Kerala   486110    1693   486110     1693          0           0           0.35\n",
      "                                    Delhi   438529    6989   438529     6989          0           0           1.59\n",
      "                              West Bengal   405314    7294   405314     7294          0           0           1.80\n",
      "                                   Odisha   302793    1494   301574     1478       1219          16           0.49\n",
      "                                Telangana   251188    1381   250331     1377        857           4           0.55\n",
      "                                    Bihar   223477    1151   222612     1144        865           7           0.52\n",
      "                                Rajasthan   211310    1989   211310     1989          0           0           0.94\n",
      "                                    Assam   208789     944   208789      944          0           0           0.45\n",
      "                             Chhattisgarh   200937    2447   200937     2447          0           0           1.22\n",
      "                                  Haryana   182804    1912   182804     1912          0           0           1.05\n",
      "                                  Gujarat   180699    3763   180699     3763          0           0           2.08\n",
      "                           Madhya Pradesh   177359    3028   177359     3028          0           0           1.71\n",
      "                                   Punjab   137445    4318   137445     4318          0           0           3.14\n",
      "                                Jharkhand   104442     897   104442      897          0           0           0.86\n",
      "                        Jammu and Kashmir    98892    1533    98892     1533          0           0           1.55\n",
      "                              Uttarakhand    65279    1065    65279     1065          0           0           1.63\n",
      "                                      Goa    45065     643    45065      643          0           0           1.43\n",
      "                               Puducherry    35838     601    35838      601          0           0           1.68\n",
      "                                  Tripura    31540     356    31514      354         26           2           1.13\n",
      "                         Himachal Pradesh    25486     371    25486      371          0           0           1.46\n",
      "                                  Manipur    20376     197    20376      197          0           0           0.97\n",
      "                        Arunachal Pradesh    15436      46    15436       46          0           0           0.30\n",
      "                               Chandigarh    15134     234    15134      234          0           0           1.55\n",
      "                                Meghalaya    10202      93    10202       93          0           0           0.91\n",
      "                                 Nagaland     9474      46     9474       46          0           0           0.49\n",
      "                                   Ladakh     6809      84     6809       84          0           0           1.23\n",
      "              Andaman and Nicobar Islands     4450      60     4450       60          0           0           1.35\n",
      "                                   Sikkim     4245      78     4245       78          0           0           1.84\n",
      " Dadra and Nagar Haveli and Daman and Diu     3269       2     3269        2          0           0           0.06\n",
      "                                  Mizoram     3090       2     3090        2          0           0           0.06\n",
      "                              Lakshadweep        0       0        0        0          0           0            NaN\n"
     ]
    }
   ],
   "source": [
    "#hide_input\n",
    "print(df_table.to_string(index=False))"
   ]
  },
  {
   "cell_type": "code",
   "execution_count": null,
   "metadata": {
    "papermill": {
     "duration": 0.021764,
     "end_time": "2020-11-09T12:45:02.508053",
     "exception": false,
     "start_time": "2020-11-09T12:45:02.486289",
     "status": "completed"
    },
    "tags": []
   },
   "outputs": [],
   "source": []
  },
  {
   "cell_type": "code",
   "execution_count": null,
   "metadata": {
    "papermill": {
     "duration": 0.0231,
     "end_time": "2020-11-09T12:45:02.555235",
     "exception": false,
     "start_time": "2020-11-09T12:45:02.532135",
     "status": "completed"
    },
    "tags": []
   },
   "outputs": [],
   "source": []
  }
 ],
 "metadata": {
  "kernelspec": {
   "display_name": "Python 3",
   "language": "python",
   "name": "python3"
  },
  "language_info": {
   "codemirror_mode": {
    "name": "ipython",
    "version": 3
   },
   "file_extension": ".py",
   "mimetype": "text/x-python",
   "name": "python",
   "nbconvert_exporter": "python",
   "pygments_lexer": "ipython3",
   "version": "3.6.12"
  },
  "papermill": {
   "duration": 14.867744,
   "end_time": "2020-11-09T12:45:03.087480",
   "environment_variables": {},
   "exception": null,
   "input_path": "latest.ipynb",
   "output_path": "latest.ipynb",
   "parameters": {},
   "start_time": "2020-11-09T12:44:48.219736",
   "version": "2.1.2"
  }
 },
 "nbformat": 4,
 "nbformat_minor": 4
}