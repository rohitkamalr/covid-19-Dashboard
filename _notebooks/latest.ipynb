{
 "cells": [
  {
   "cell_type": "markdown",
   "id": "colored-stack",
   "metadata": {
    "papermill": {
     "duration": 0.022289,
     "end_time": "2021-02-04T14:34:33.721904",
     "exception": false,
     "start_time": "2021-02-04T14:34:33.699615",
     "status": "completed"
    },
    "tags": []
   },
   "source": [
    "# Latest COVID-19 India Matplotlib Overview"
   ]
  },
  {
   "cell_type": "code",
   "execution_count": 1,
   "id": "light-proportion",
   "metadata": {
    "execution": {
     "iopub.execute_input": "2021-02-04T14:34:33.772488Z",
     "iopub.status.busy": "2021-02-04T14:34:33.771683Z",
     "iopub.status.idle": "2021-02-04T14:34:34.385240Z",
     "shell.execute_reply": "2021-02-04T14:34:34.384080Z"
    },
    "papermill": {
     "duration": 0.645389,
     "end_time": "2021-02-04T14:34:34.385410",
     "exception": false,
     "start_time": "2021-02-04T14:34:33.740021",
     "status": "completed"
    },
    "tags": []
   },
   "outputs": [],
   "source": [
    "#hide\n",
    "import pandas as pd\n",
    "import numpy as np\n",
    "import requests\n",
    "import json\n",
    "import matplotlib.pyplot as plt\n",
    "import matplotlib.dates as mdates\n",
    "import matplotlib as mpl\n",
    "from IPython.core.display import display,HTML\n",
    "%matplotlib inline\n",
    "from datetime import date"
   ]
  },
  {
   "cell_type": "code",
   "execution_count": 2,
   "id": "greenhouse-shooting",
   "metadata": {
    "execution": {
     "iopub.execute_input": "2021-02-04T14:34:34.427054Z",
     "iopub.status.busy": "2021-02-04T14:34:34.426048Z",
     "iopub.status.idle": "2021-02-04T14:34:34.565689Z",
     "shell.execute_reply": "2021-02-04T14:34:34.564592Z"
    },
    "papermill": {
     "duration": 0.163694,
     "end_time": "2021-02-04T14:34:34.566025",
     "exception": false,
     "start_time": "2021-02-04T14:34:34.402331",
     "status": "completed"
    },
    "tags": []
   },
   "outputs": [],
   "source": [
    "#hide\n",
    "df  = pd.read_csv('https://api.covid19india.org/csv/latest/states.csv')\n",
    "df = df[['Date','State','Confirmed','Deceased']]\n",
    "df = df.rename(columns={'Confirmed':'Cases', \"Deceased\":'Deaths'})\n",
    "df_cases = df[[\"Date\",'State','Cases']]\n",
    "df_deaths = df[['Date','State','Deaths']]\n",
    "df_cases1 = df_cases.groupby('Date')\n",
    "df_deaths1= df_deaths.groupby('Date')"
   ]
  },
  {
   "cell_type": "code",
   "execution_count": 3,
   "id": "hybrid-cathedral",
   "metadata": {
    "execution": {
     "iopub.execute_input": "2021-02-04T14:34:34.609905Z",
     "iopub.status.busy": "2021-02-04T14:34:34.609294Z",
     "iopub.status.idle": "2021-02-04T14:34:34.627841Z",
     "shell.execute_reply": "2021-02-04T14:34:34.628312Z"
    },
    "papermill": {
     "duration": 0.043825,
     "end_time": "2021-02-04T14:34:34.628474",
     "exception": false,
     "start_time": "2021-02-04T14:34:34.584649",
     "status": "completed"
    },
    "tags": []
   },
   "outputs": [],
   "source": [
    "#hide\n",
    "df_snap = pd.read_csv('data/SnapshotCases-28-July.csv')\n",
    "arr_states = df_snap['states'].unique()\n",
    "arr_dates = df['Date'].unique()\n",
    "df_snap = df_snap.set_index('states')"
   ]
  },
  {
   "cell_type": "code",
   "execution_count": 4,
   "id": "interior-belfast",
   "metadata": {
    "execution": {
     "iopub.execute_input": "2021-02-04T14:34:34.672926Z",
     "iopub.status.busy": "2021-02-04T14:34:34.672237Z",
     "iopub.status.idle": "2021-02-04T14:34:34.675631Z",
     "shell.execute_reply": "2021-02-04T14:34:34.675145Z"
    },
    "papermill": {
     "duration": 0.029818,
     "end_time": "2021-02-04T14:34:34.675763",
     "exception": false,
     "start_time": "2021-02-04T14:34:34.645945",
     "status": "completed"
    },
    "tags": []
   },
   "outputs": [
    {
     "data": {
      "text/plain": [
       "array(['Andaman and Nicobar Islands', 'Andhra Pradesh',\n",
       "       'Arunachal Pradesh', 'Assam', 'Bihar', 'Chandigarh',\n",
       "       'Dadra and Nagar Haveli and Daman and Diu', 'Delhi', 'Goa',\n",
       "       'Gujarat', 'Haryana', 'Himachal Pradesh', 'Jammu and Kashmir',\n",
       "       'Jharkhand', 'Karnataka', 'Kerala', 'Lakshadweep',\n",
       "       'Madhya Pradesh', 'Maharashtra', 'Manipur', 'Meghalaya', 'Mizoram',\n",
       "       'Nagaland', 'Odisha', 'Puducherry', 'Punjab', 'Rajasthan',\n",
       "       'Sikkim', 'Tamil Nadu', 'Telangana', 'Tripura', 'Uttar Pradesh',\n",
       "       'West Bengal', 'Chhattisgarh', 'Ladakh', 'Uttarakhand'],\n",
       "      dtype=object)"
      ]
     },
     "execution_count": 4,
     "metadata": {},
     "output_type": "execute_result"
    }
   ],
   "source": [
    "#hide\n",
    "arr_states[-9] = 'Puducherry'\n",
    "arr_states[-10] = 'Odisha'\n",
    "arr_states[6] = 'Dadra and Nagar Haveli and Daman and Diu'\n",
    "arr_states = np.append(arr_states,np.array(['Chhattisgarh','Ladakh','Uttarakhand']))\n",
    "arr_states"
   ]
  },
  {
   "cell_type": "code",
   "execution_count": 5,
   "id": "behind-manner",
   "metadata": {
    "execution": {
     "iopub.execute_input": "2021-02-04T14:34:34.726822Z",
     "iopub.status.busy": "2021-02-04T14:34:34.726166Z",
     "iopub.status.idle": "2021-02-04T14:34:34.735874Z",
     "shell.execute_reply": "2021-02-04T14:34:34.735332Z"
    },
    "papermill": {
     "duration": 0.04273,
     "end_time": "2021-02-04T14:34:34.736018",
     "exception": false,
     "start_time": "2021-02-04T14:34:34.693288",
     "status": "completed"
    },
    "tags": []
   },
   "outputs": [],
   "source": [
    "#hide\n",
    "dates = []\n",
    "for i in arr_dates:\n",
    "    if i>='2020-07-01':\n",
    "        dates.append(i)\n",
    "dict = {'states':dates}\n",
    "for i in arr_states:\n",
    "    dict[i] = [0]*len(dates)\n",
    "dft_cases = pd.DataFrame(dict)\n",
    "dft_deaths = pd.DataFrame(dict)\n"
   ]
  },
  {
   "cell_type": "code",
   "execution_count": 6,
   "id": "simplified-peter",
   "metadata": {
    "execution": {
     "iopub.execute_input": "2021-02-04T14:34:34.779060Z",
     "iopub.status.busy": "2021-02-04T14:34:34.778444Z",
     "iopub.status.idle": "2021-02-04T14:34:38.077587Z",
     "shell.execute_reply": "2021-02-04T14:34:38.076830Z"
    },
    "papermill": {
     "duration": 3.323762,
     "end_time": "2021-02-04T14:34:38.077771",
     "exception": false,
     "start_time": "2021-02-04T14:34:34.754009",
     "status": "completed"
    },
    "tags": []
   },
   "outputs": [],
   "source": [
    "#hide\n",
    "for i in range(len(dates)):\n",
    "    df1_deaths = df_deaths1.get_group(dates[i])\n",
    "    for j in range(len(df1_deaths.index)):\n",
    "        if df1_deaths.iloc[j,1] in arr_states:\n",
    "            dft_deaths.loc[i,df1_deaths.iloc[j,1]] = df1_deaths.iloc[j,2]\n",
    "dft_deaths = dft_deaths.set_index('states')"
   ]
  },
  {
   "cell_type": "code",
   "execution_count": 7,
   "id": "geological-welding",
   "metadata": {
    "execution": {
     "iopub.execute_input": "2021-02-04T14:34:38.125335Z",
     "iopub.status.busy": "2021-02-04T14:34:38.124666Z",
     "iopub.status.idle": "2021-02-04T14:34:41.227951Z",
     "shell.execute_reply": "2021-02-04T14:34:41.227242Z"
    },
    "papermill": {
     "duration": 3.127837,
     "end_time": "2021-02-04T14:34:41.228134",
     "exception": false,
     "start_time": "2021-02-04T14:34:38.100297",
     "status": "completed"
    },
    "tags": []
   },
   "outputs": [],
   "source": [
    "#hide\n",
    "for i in range(len(dates)):\n",
    "    df1_cases = df_cases1.get_group(dates[i])\n",
    "    for j in range(len(df1_cases.index)):\n",
    "        if df1_cases.iloc[j,1] in arr_states:\n",
    "            dft_cases.loc[i,df1_cases.iloc[j,1]] = df1_cases.iloc[j,2]\n",
    "dft_cases = dft_cases.set_index('states')"
   ]
  },
  {
   "cell_type": "code",
   "execution_count": 8,
   "id": "binary-ratio",
   "metadata": {
    "execution": {
     "iopub.execute_input": "2021-02-04T14:34:41.274037Z",
     "iopub.status.busy": "2021-02-04T14:34:41.273408Z",
     "iopub.status.idle": "2021-02-04T14:34:41.277844Z",
     "shell.execute_reply": "2021-02-04T14:34:41.278334Z"
    },
    "papermill": {
     "duration": 0.030648,
     "end_time": "2021-02-04T14:34:41.278492",
     "exception": false,
     "start_time": "2021-02-04T14:34:41.247844",
     "status": "completed"
    },
    "tags": []
   },
   "outputs": [],
   "source": [
    "#hide\n",
    "dft_cases = dft_cases.T\n",
    "dft_deaths = dft_deaths.T\n",
    "dt_today = dates[-1]\n",
    "dt_yday = dates[-2]"
   ]
  },
  {
   "cell_type": "code",
   "execution_count": 9,
   "id": "boolean-calculator",
   "metadata": {
    "execution": {
     "iopub.execute_input": "2021-02-04T14:34:41.325222Z",
     "iopub.status.busy": "2021-02-04T14:34:41.324167Z",
     "iopub.status.idle": "2021-02-04T14:34:41.326409Z",
     "shell.execute_reply": "2021-02-04T14:34:41.325923Z"
    },
    "papermill": {
     "duration": 0.029329,
     "end_time": "2021-02-04T14:34:41.326539",
     "exception": false,
     "start_time": "2021-02-04T14:34:41.297210",
     "status": "completed"
    },
    "tags": []
   },
   "outputs": [],
   "source": [
    "#hide\n",
    "dft_cases = dft_cases.reset_index()\n",
    "dft_deaths = dft_deaths.reset_index()\n",
    "dft_cases = dft_cases.rename(columns = {'index':'state'})\n",
    "dft_deaths = dft_deaths.rename(columns = {'index':'state'})"
   ]
  },
  {
   "cell_type": "code",
   "execution_count": 10,
   "id": "invisible-johnston",
   "metadata": {
    "execution": {
     "iopub.execute_input": "2021-02-04T14:34:41.378339Z",
     "iopub.status.busy": "2021-02-04T14:34:41.376928Z",
     "iopub.status.idle": "2021-02-04T14:34:41.379194Z",
     "shell.execute_reply": "2021-02-04T14:34:41.379677Z"
    },
    "papermill": {
     "duration": 0.034054,
     "end_time": "2021-02-04T14:34:41.379824",
     "exception": false,
     "start_time": "2021-02-04T14:34:41.345770",
     "status": "completed"
    },
    "tags": []
   },
   "outputs": [],
   "source": [
    "#hide\n",
    "dfc_cases = dft_cases.groupby('state')[dt_today].sum()\n",
    "dfc_deaths = dft_deaths.groupby('state')[dt_today].sum()\n",
    "dfp_cases = dft_cases.groupby('state')[dt_yday].sum()\n",
    "dfp_deaths = dft_deaths.groupby('state')[dt_yday].sum()"
   ]
  },
  {
   "cell_type": "code",
   "execution_count": 11,
   "id": "measured-great",
   "metadata": {
    "execution": {
     "iopub.execute_input": "2021-02-04T14:34:41.434602Z",
     "iopub.status.busy": "2021-02-04T14:34:41.433857Z",
     "iopub.status.idle": "2021-02-04T14:34:41.440784Z",
     "shell.execute_reply": "2021-02-04T14:34:41.440266Z"
    },
    "papermill": {
     "duration": 0.042186,
     "end_time": "2021-02-04T14:34:41.440914",
     "exception": false,
     "start_time": "2021-02-04T14:34:41.398728",
     "status": "completed"
    },
    "tags": []
   },
   "outputs": [
    {
     "data": {
      "text/html": [
       "<div>\n",
       "<style scoped>\n",
       "    .dataframe tbody tr th:only-of-type {\n",
       "        vertical-align: middle;\n",
       "    }\n",
       "\n",
       "    .dataframe tbody tr th {\n",
       "        vertical-align: top;\n",
       "    }\n",
       "\n",
       "    .dataframe thead th {\n",
       "        text-align: right;\n",
       "    }\n",
       "</style>\n",
       "<table border=\"1\" class=\"dataframe\">\n",
       "  <thead>\n",
       "    <tr style=\"text-align: right;\">\n",
       "      <th></th>\n",
       "      <th>states</th>\n",
       "      <th>Cases</th>\n",
       "      <th>Deaths</th>\n",
       "      <th>PCases</th>\n",
       "      <th>PDeaths</th>\n",
       "    </tr>\n",
       "  </thead>\n",
       "  <tbody>\n",
       "    <tr>\n",
       "      <th>0</th>\n",
       "      <td>Maharashtra</td>\n",
       "      <td>2033266</td>\n",
       "      <td>51169</td>\n",
       "      <td>2033266</td>\n",
       "      <td>51169</td>\n",
       "    </tr>\n",
       "    <tr>\n",
       "      <th>1</th>\n",
       "      <td>Kerala</td>\n",
       "      <td>950812</td>\n",
       "      <td>3814</td>\n",
       "      <td>944710</td>\n",
       "      <td>3797</td>\n",
       "    </tr>\n",
       "    <tr>\n",
       "      <th>2</th>\n",
       "      <td>Karnataka</td>\n",
       "      <td>940596</td>\n",
       "      <td>12225</td>\n",
       "      <td>940596</td>\n",
       "      <td>12225</td>\n",
       "    </tr>\n",
       "    <tr>\n",
       "      <th>3</th>\n",
       "      <td>Andhra Pradesh</td>\n",
       "      <td>888099</td>\n",
       "      <td>7157</td>\n",
       "      <td>888099</td>\n",
       "      <td>7157</td>\n",
       "    </tr>\n",
       "    <tr>\n",
       "      <th>4</th>\n",
       "      <td>Tamil Nadu</td>\n",
       "      <td>839866</td>\n",
       "      <td>12371</td>\n",
       "      <td>839866</td>\n",
       "      <td>12371</td>\n",
       "    </tr>\n",
       "  </tbody>\n",
       "</table>\n",
       "</div>"
      ],
      "text/plain": [
       "           states    Cases  Deaths   PCases  PDeaths\n",
       "0     Maharashtra  2033266   51169  2033266    51169\n",
       "1          Kerala   950812    3814   944710     3797\n",
       "2       Karnataka   940596   12225   940596    12225\n",
       "3  Andhra Pradesh   888099    7157   888099     7157\n",
       "4      Tamil Nadu   839866   12371   839866    12371"
      ]
     },
     "execution_count": 11,
     "metadata": {},
     "output_type": "execute_result"
    }
   ],
   "source": [
    "#hide\n",
    "df_table = pd.DataFrame({'states': dfc_cases.index, 'Cases': dfc_cases.values, 'Deaths': dfc_deaths.values, 'PCases': dfp_cases.values, 'PDeaths': dfp_deaths.values}).set_index('states')\n",
    "df_table = df_table.sort_values(by = ['Cases','Deaths'], ascending = [False, False])\n",
    "df_table = df_table.reset_index()\n",
    "df_table.head()"
   ]
  },
  {
   "cell_type": "code",
   "execution_count": 12,
   "id": "found-montreal",
   "metadata": {
    "execution": {
     "iopub.execute_input": "2021-02-04T14:34:41.488140Z",
     "iopub.status.busy": "2021-02-04T14:34:41.487121Z",
     "iopub.status.idle": "2021-02-04T14:34:41.503014Z",
     "shell.execute_reply": "2021-02-04T14:34:41.502351Z"
    },
    "papermill": {
     "duration": 0.043777,
     "end_time": "2021-02-04T14:34:41.503166",
     "exception": false,
     "start_time": "2021-02-04T14:34:41.459389",
     "status": "completed"
    },
    "tags": []
   },
   "outputs": [],
   "source": [
    "#hide\n",
    "for c in 'Cases, Deaths'.split(', '):\n",
    "    df_table[f'{c} (+)'] = (df_table[c] - df_table[f'P{c}']).clip(0)\n",
    "df_table['Fatality Rate'] = (100* df_table['Deaths']/ df_table['Cases']).round(2)"
   ]
  },
  {
   "cell_type": "code",
   "execution_count": 13,
   "id": "minus-savage",
   "metadata": {
    "execution": {
     "iopub.execute_input": "2021-02-04T14:34:41.552185Z",
     "iopub.status.busy": "2021-02-04T14:34:41.551561Z",
     "iopub.status.idle": "2021-02-04T14:34:41.558048Z",
     "shell.execute_reply": "2021-02-04T14:34:41.557567Z"
    },
    "papermill": {
     "duration": 0.036098,
     "end_time": "2021-02-04T14:34:41.558183",
     "exception": false,
     "start_time": "2021-02-04T14:34:41.522085",
     "status": "completed"
    },
    "tags": []
   },
   "outputs": [
    {
     "data": {
      "text/html": [
       "<div>\n",
       "<style scoped>\n",
       "    .dataframe tbody tr th:only-of-type {\n",
       "        vertical-align: middle;\n",
       "    }\n",
       "\n",
       "    .dataframe tbody tr th {\n",
       "        vertical-align: top;\n",
       "    }\n",
       "\n",
       "    .dataframe thead th {\n",
       "        text-align: right;\n",
       "    }\n",
       "</style>\n",
       "<table border=\"1\" class=\"dataframe\">\n",
       "  <thead>\n",
       "    <tr style=\"text-align: right;\">\n",
       "      <th></th>\n",
       "      <th>states</th>\n",
       "      <th>Cases</th>\n",
       "      <th>Deaths</th>\n",
       "      <th>PCases</th>\n",
       "      <th>PDeaths</th>\n",
       "      <th>Cases (+)</th>\n",
       "      <th>Deaths (+)</th>\n",
       "      <th>Fatality Rate</th>\n",
       "    </tr>\n",
       "  </thead>\n",
       "  <tbody>\n",
       "    <tr>\n",
       "      <th>0</th>\n",
       "      <td>Maharashtra</td>\n",
       "      <td>2033266</td>\n",
       "      <td>51169</td>\n",
       "      <td>2033266</td>\n",
       "      <td>51169</td>\n",
       "      <td>0</td>\n",
       "      <td>0</td>\n",
       "      <td>2.52</td>\n",
       "    </tr>\n",
       "    <tr>\n",
       "      <th>1</th>\n",
       "      <td>Kerala</td>\n",
       "      <td>950812</td>\n",
       "      <td>3814</td>\n",
       "      <td>944710</td>\n",
       "      <td>3797</td>\n",
       "      <td>6102</td>\n",
       "      <td>17</td>\n",
       "      <td>0.40</td>\n",
       "    </tr>\n",
       "    <tr>\n",
       "      <th>2</th>\n",
       "      <td>Karnataka</td>\n",
       "      <td>940596</td>\n",
       "      <td>12225</td>\n",
       "      <td>940596</td>\n",
       "      <td>12225</td>\n",
       "      <td>0</td>\n",
       "      <td>0</td>\n",
       "      <td>1.30</td>\n",
       "    </tr>\n",
       "    <tr>\n",
       "      <th>3</th>\n",
       "      <td>Andhra Pradesh</td>\n",
       "      <td>888099</td>\n",
       "      <td>7157</td>\n",
       "      <td>888099</td>\n",
       "      <td>7157</td>\n",
       "      <td>0</td>\n",
       "      <td>0</td>\n",
       "      <td>0.81</td>\n",
       "    </tr>\n",
       "    <tr>\n",
       "      <th>4</th>\n",
       "      <td>Tamil Nadu</td>\n",
       "      <td>839866</td>\n",
       "      <td>12371</td>\n",
       "      <td>839866</td>\n",
       "      <td>12371</td>\n",
       "      <td>0</td>\n",
       "      <td>0</td>\n",
       "      <td>1.47</td>\n",
       "    </tr>\n",
       "  </tbody>\n",
       "</table>\n",
       "</div>"
      ],
      "text/plain": [
       "           states    Cases  Deaths   PCases  PDeaths  Cases (+)  Deaths (+)  \\\n",
       "0     Maharashtra  2033266   51169  2033266    51169          0           0   \n",
       "1          Kerala   950812    3814   944710     3797       6102          17   \n",
       "2       Karnataka   940596   12225   940596    12225          0           0   \n",
       "3  Andhra Pradesh   888099    7157   888099     7157          0           0   \n",
       "4      Tamil Nadu   839866   12371   839866    12371          0           0   \n",
       "\n",
       "   Fatality Rate  \n",
       "0           2.52  \n",
       "1           0.40  \n",
       "2           1.30  \n",
       "3           0.81  \n",
       "4           1.47  "
      ]
     },
     "execution_count": 13,
     "metadata": {},
     "output_type": "execute_result"
    }
   ],
   "source": [
    "#hide\n",
    "df_table.head()"
   ]
  },
  {
   "cell_type": "code",
   "execution_count": 14,
   "id": "false-peter",
   "metadata": {
    "execution": {
     "iopub.execute_input": "2021-02-04T14:34:41.612822Z",
     "iopub.status.busy": "2021-02-04T14:34:41.599367Z",
     "iopub.status.idle": "2021-02-04T14:34:41.615812Z",
     "shell.execute_reply": "2021-02-04T14:34:41.616645Z"
    },
    "papermill": {
     "duration": 0.040681,
     "end_time": "2021-02-04T14:34:41.616886",
     "exception": false,
     "start_time": "2021-02-04T14:34:41.576205",
     "status": "completed"
    },
    "tags": []
   },
   "outputs": [
    {
     "data": {
      "text/plain": [
       "{'updated': '2021-02-04',\n",
       " 'since': '2021-02-03',\n",
       " 'Cases': 10797411,\n",
       " 'PCases': 10791132,\n",
       " 'Deaths': 154761,\n",
       " 'PDeaths': 154742,\n",
       " 'Cases (+)': 6279,\n",
       " 'Deaths (+)': 19}"
      ]
     },
     "execution_count": 14,
     "metadata": {},
     "output_type": "execute_result"
    }
   ],
   "source": [
    "#hide\n",
    "summary = {'updated':dates[-1], 'since':dates[-2]}\n",
    "list_names = ['Cases', 'PCases', 'Deaths', 'PDeaths', 'Cases (+)', 'Deaths (+)']\n",
    "for name in list_names:\n",
    "    summary[name] = df_table.sum()[name]\n",
    "summary"
   ]
  },
  {
   "cell_type": "code",
   "execution_count": 15,
   "id": "packed-viewer",
   "metadata": {
    "execution": {
     "iopub.execute_input": "2021-02-04T14:34:41.660978Z",
     "iopub.status.busy": "2021-02-04T14:34:41.660359Z",
     "iopub.status.idle": "2021-02-04T14:34:41.662298Z",
     "shell.execute_reply": "2021-02-04T14:34:41.662750Z"
    },
    "papermill": {
     "duration": 0.026353,
     "end_time": "2021-02-04T14:34:41.662899",
     "exception": false,
     "start_time": "2021-02-04T14:34:41.636546",
     "status": "completed"
    },
    "tags": []
   },
   "outputs": [],
   "source": [
    "#hide\n",
    "overview = '''\n",
    "<!-- #######  HTML!! #########-->\n",
    "<h1 style=\"color: #5e9ca0; text-align: center;\">India</h1>\n",
    "<p style=\"text-align: center;\">Last update: <strong>{update}</strong></p>\n",
    "<p style=\"text-align: center;\">Confirmed cases:</p>\n",
    "<p style=\"text-align: center;font-size:24px;\">{cases} (<span style=\"color: #ff0000;\">+{new}</span>)</p>\n",
    "<p style=\"text-align: center;\">Confirmed deaths:</p>\n",
    "<p style=\"text-align: center;font-size:24px;\">{deaths} (<span style=\"color: #ff0000;\">+{dnew}</span>)</p>\n",
    "'''"
   ]
  },
  {
   "cell_type": "code",
   "execution_count": 16,
   "id": "phantom-lover",
   "metadata": {
    "execution": {
     "iopub.execute_input": "2021-02-04T14:34:41.705402Z",
     "iopub.status.busy": "2021-02-04T14:34:41.704772Z",
     "iopub.status.idle": "2021-02-04T14:34:41.707859Z",
     "shell.execute_reply": "2021-02-04T14:34:41.708370Z"
    },
    "papermill": {
     "duration": 0.027432,
     "end_time": "2021-02-04T14:34:41.708513",
     "exception": false,
     "start_time": "2021-02-04T14:34:41.681081",
     "status": "completed"
    },
    "tags": []
   },
   "outputs": [
    {
     "data": {
      "text/html": [
       "\n",
       "<!-- #######  HTML!! #########-->\n",
       "<h1 style=\"color: #5e9ca0; text-align: center;\">India</h1>\n",
       "<p style=\"text-align: center;\">Last update: <strong>2021-02-04</strong></p>\n",
       "<p style=\"text-align: center;\">Confirmed cases:</p>\n",
       "<p style=\"text-align: center;font-size:24px;\">10797411 (<span style=\"color: #ff0000;\">+6279</span>)</p>\n",
       "<p style=\"text-align: center;\">Confirmed deaths:</p>\n",
       "<p style=\"text-align: center;font-size:24px;\">154761 (<span style=\"color: #ff0000;\">+19</span>)</p>\n"
      ],
      "text/plain": [
       "<IPython.core.display.HTML object>"
      ]
     },
     "metadata": {},
     "output_type": "display_data"
    }
   ],
   "source": [
    "#hide_input\n",
    "update = summary['updated']\n",
    "cases = summary['Cases']\n",
    "new = summary['Cases (+)']\n",
    "deaths = summary['Deaths']\n",
    "dnew = summary['Deaths (+)']\n",
    "\n",
    "html = HTML(overview.format(update=update, cases=cases,new=new,deaths=deaths,dnew=dnew))\n",
    "\n",
    "display(html)"
   ]
  },
  {
   "cell_type": "code",
   "execution_count": 17,
   "id": "sealed-reset",
   "metadata": {
    "execution": {
     "iopub.execute_input": "2021-02-04T14:34:41.753173Z",
     "iopub.status.busy": "2021-02-04T14:34:41.752556Z",
     "iopub.status.idle": "2021-02-04T14:34:41.760170Z",
     "shell.execute_reply": "2021-02-04T14:34:41.759690Z"
    },
    "papermill": {
     "duration": 0.033269,
     "end_time": "2021-02-04T14:34:41.760300",
     "exception": false,
     "start_time": "2021-02-04T14:34:41.727031",
     "status": "completed"
    },
    "tags": []
   },
   "outputs": [],
   "source": [
    "#hide\n",
    "dt_cols = list(dft_cases.columns[1:])\n",
    "dft_ct_new_cases = dft_cases.groupby('state')[dt_cols].sum().diff(axis=1).fillna(0).astype(int)\n",
    "dft_ct_new_cases.sort_values(by = dates[-1], ascending = False,inplace = True)"
   ]
  },
  {
   "cell_type": "code",
   "execution_count": 18,
   "id": "designed-constant",
   "metadata": {
    "execution": {
     "iopub.execute_input": "2021-02-04T14:34:41.818241Z",
     "iopub.status.busy": "2021-02-04T14:34:41.817601Z",
     "iopub.status.idle": "2021-02-04T14:34:41.819967Z",
     "shell.execute_reply": "2021-02-04T14:34:41.820534Z"
    },
    "papermill": {
     "duration": 0.041502,
     "end_time": "2021-02-04T14:34:41.820687",
     "exception": false,
     "start_time": "2021-02-04T14:34:41.779185",
     "status": "completed"
    },
    "tags": []
   },
   "outputs": [
    {
     "data": {
      "text/html": [
       "<div>\n",
       "<style scoped>\n",
       "    .dataframe tbody tr th:only-of-type {\n",
       "        vertical-align: middle;\n",
       "    }\n",
       "\n",
       "    .dataframe tbody tr th {\n",
       "        vertical-align: top;\n",
       "    }\n",
       "\n",
       "    .dataframe thead th {\n",
       "        text-align: right;\n",
       "    }\n",
       "</style>\n",
       "<table border=\"1\" class=\"dataframe\">\n",
       "  <thead>\n",
       "    <tr style=\"text-align: right;\">\n",
       "      <th>states</th>\n",
       "      <th>2020-07-01</th>\n",
       "      <th>2020-07-02</th>\n",
       "      <th>2020-07-03</th>\n",
       "      <th>2020-07-04</th>\n",
       "      <th>2020-07-05</th>\n",
       "      <th>2020-07-06</th>\n",
       "      <th>2020-07-07</th>\n",
       "      <th>2020-07-08</th>\n",
       "      <th>2020-07-09</th>\n",
       "      <th>2020-07-10</th>\n",
       "      <th>...</th>\n",
       "      <th>2021-01-26</th>\n",
       "      <th>2021-01-27</th>\n",
       "      <th>2021-01-28</th>\n",
       "      <th>2021-01-29</th>\n",
       "      <th>2021-01-30</th>\n",
       "      <th>2021-01-31</th>\n",
       "      <th>2021-02-01</th>\n",
       "      <th>2021-02-02</th>\n",
       "      <th>2021-02-03</th>\n",
       "      <th>2021-02-04</th>\n",
       "    </tr>\n",
       "    <tr>\n",
       "      <th>state</th>\n",
       "      <th></th>\n",
       "      <th></th>\n",
       "      <th></th>\n",
       "      <th></th>\n",
       "      <th></th>\n",
       "      <th></th>\n",
       "      <th></th>\n",
       "      <th></th>\n",
       "      <th></th>\n",
       "      <th></th>\n",
       "      <th></th>\n",
       "      <th></th>\n",
       "      <th></th>\n",
       "      <th></th>\n",
       "      <th></th>\n",
       "      <th></th>\n",
       "      <th></th>\n",
       "      <th></th>\n",
       "      <th></th>\n",
       "      <th></th>\n",
       "      <th></th>\n",
       "    </tr>\n",
       "  </thead>\n",
       "  <tbody>\n",
       "    <tr>\n",
       "      <th>Kerala</th>\n",
       "      <td>0</td>\n",
       "      <td>160</td>\n",
       "      <td>211</td>\n",
       "      <td>240</td>\n",
       "      <td>225</td>\n",
       "      <td>193</td>\n",
       "      <td>272</td>\n",
       "      <td>301</td>\n",
       "      <td>339</td>\n",
       "      <td>416</td>\n",
       "      <td>...</td>\n",
       "      <td>6293</td>\n",
       "      <td>5659</td>\n",
       "      <td>5771</td>\n",
       "      <td>6268</td>\n",
       "      <td>6282</td>\n",
       "      <td>5266</td>\n",
       "      <td>3459</td>\n",
       "      <td>5716</td>\n",
       "      <td>6356</td>\n",
       "      <td>6102</td>\n",
       "    </tr>\n",
       "    <tr>\n",
       "      <th>Telangana</th>\n",
       "      <td>0</td>\n",
       "      <td>1213</td>\n",
       "      <td>1892</td>\n",
       "      <td>1850</td>\n",
       "      <td>1590</td>\n",
       "      <td>1831</td>\n",
       "      <td>1879</td>\n",
       "      <td>1924</td>\n",
       "      <td>1410</td>\n",
       "      <td>1278</td>\n",
       "      <td>...</td>\n",
       "      <td>189</td>\n",
       "      <td>147</td>\n",
       "      <td>186</td>\n",
       "      <td>197</td>\n",
       "      <td>186</td>\n",
       "      <td>163</td>\n",
       "      <td>118</td>\n",
       "      <td>152</td>\n",
       "      <td>185</td>\n",
       "      <td>177</td>\n",
       "    </tr>\n",
       "    <tr>\n",
       "      <th>Andaman and Nicobar Islands</th>\n",
       "      <td>0</td>\n",
       "      <td>9</td>\n",
       "      <td>7</td>\n",
       "      <td>3</td>\n",
       "      <td>6</td>\n",
       "      <td>16</td>\n",
       "      <td>6</td>\n",
       "      <td>2</td>\n",
       "      <td>7</td>\n",
       "      <td>0</td>\n",
       "      <td>...</td>\n",
       "      <td>0</td>\n",
       "      <td>0</td>\n",
       "      <td>0</td>\n",
       "      <td>0</td>\n",
       "      <td>0</td>\n",
       "      <td>0</td>\n",
       "      <td>0</td>\n",
       "      <td>0</td>\n",
       "      <td>0</td>\n",
       "      <td>0</td>\n",
       "    </tr>\n",
       "    <tr>\n",
       "      <th>Puducherry</th>\n",
       "      <td>0</td>\n",
       "      <td>63</td>\n",
       "      <td>22</td>\n",
       "      <td>80</td>\n",
       "      <td>42</td>\n",
       "      <td>65</td>\n",
       "      <td>30</td>\n",
       "      <td>110</td>\n",
       "      <td>49</td>\n",
       "      <td>72</td>\n",
       "      <td>...</td>\n",
       "      <td>32</td>\n",
       "      <td>24</td>\n",
       "      <td>39</td>\n",
       "      <td>31</td>\n",
       "      <td>43</td>\n",
       "      <td>21</td>\n",
       "      <td>28</td>\n",
       "      <td>27</td>\n",
       "      <td>23</td>\n",
       "      <td>0</td>\n",
       "    </tr>\n",
       "    <tr>\n",
       "      <th>Manipur</th>\n",
       "      <td>0</td>\n",
       "      <td>19</td>\n",
       "      <td>37</td>\n",
       "      <td>9</td>\n",
       "      <td>41</td>\n",
       "      <td>24</td>\n",
       "      <td>40</td>\n",
       "      <td>5</td>\n",
       "      <td>15</td>\n",
       "      <td>132</td>\n",
       "      <td>...</td>\n",
       "      <td>6</td>\n",
       "      <td>4</td>\n",
       "      <td>15</td>\n",
       "      <td>15</td>\n",
       "      <td>15</td>\n",
       "      <td>16</td>\n",
       "      <td>4</td>\n",
       "      <td>5</td>\n",
       "      <td>9</td>\n",
       "      <td>0</td>\n",
       "    </tr>\n",
       "  </tbody>\n",
       "</table>\n",
       "<p>5 rows × 219 columns</p>\n",
       "</div>"
      ],
      "text/plain": [
       "states                       2020-07-01  2020-07-02  2020-07-03  2020-07-04  \\\n",
       "state                                                                         \n",
       "Kerala                                0         160         211         240   \n",
       "Telangana                             0        1213        1892        1850   \n",
       "Andaman and Nicobar Islands           0           9           7           3   \n",
       "Puducherry                            0          63          22          80   \n",
       "Manipur                               0          19          37           9   \n",
       "\n",
       "states                       2020-07-05  2020-07-06  2020-07-07  2020-07-08  \\\n",
       "state                                                                         \n",
       "Kerala                              225         193         272         301   \n",
       "Telangana                          1590        1831        1879        1924   \n",
       "Andaman and Nicobar Islands           6          16           6           2   \n",
       "Puducherry                           42          65          30         110   \n",
       "Manipur                              41          24          40           5   \n",
       "\n",
       "states                       2020-07-09  2020-07-10  ...  2021-01-26  \\\n",
       "state                                                ...               \n",
       "Kerala                              339         416  ...        6293   \n",
       "Telangana                          1410        1278  ...         189   \n",
       "Andaman and Nicobar Islands           7           0  ...           0   \n",
       "Puducherry                           49          72  ...          32   \n",
       "Manipur                              15         132  ...           6   \n",
       "\n",
       "states                       2021-01-27  2021-01-28  2021-01-29  2021-01-30  \\\n",
       "state                                                                         \n",
       "Kerala                             5659        5771        6268        6282   \n",
       "Telangana                           147         186         197         186   \n",
       "Andaman and Nicobar Islands           0           0           0           0   \n",
       "Puducherry                           24          39          31          43   \n",
       "Manipur                               4          15          15          15   \n",
       "\n",
       "states                       2021-01-31  2021-02-01  2021-02-02  2021-02-03  \\\n",
       "state                                                                         \n",
       "Kerala                             5266        3459        5716        6356   \n",
       "Telangana                           163         118         152         185   \n",
       "Andaman and Nicobar Islands           0           0           0           0   \n",
       "Puducherry                           21          28          27          23   \n",
       "Manipur                              16           4           5           9   \n",
       "\n",
       "states                       2021-02-04  \n",
       "state                                    \n",
       "Kerala                             6102  \n",
       "Telangana                           177  \n",
       "Andaman and Nicobar Islands           0  \n",
       "Puducherry                            0  \n",
       "Manipur                               0  \n",
       "\n",
       "[5 rows x 219 columns]"
      ]
     },
     "execution_count": 18,
     "metadata": {},
     "output_type": "execute_result"
    }
   ],
   "source": [
    "#hide\n",
    "dft_ct_new_cases.head()"
   ]
  },
  {
   "cell_type": "code",
   "execution_count": 19,
   "id": "responsible-nightlife",
   "metadata": {
    "execution": {
     "iopub.execute_input": "2021-02-04T14:34:41.875985Z",
     "iopub.status.busy": "2021-02-04T14:34:41.870489Z",
     "iopub.status.idle": "2021-02-04T14:34:49.590140Z",
     "shell.execute_reply": "2021-02-04T14:34:49.590628Z"
    },
    "papermill": {
     "duration": 7.750017,
     "end_time": "2021-02-04T14:34:49.590784",
     "exception": false,
     "start_time": "2021-02-04T14:34:41.840767",
     "status": "completed"
    },
    "tags": []
   },
   "outputs": [
    {
     "data": {
      "image/png": "[encoded data removed]",
      "text/plain": [
       "<Figure size 1296x2016 with 11 Axes>"
      ]
     },
     "metadata": {
      "needs_background": "light"
     },
     "output_type": "display_data"
    }
   ],
   "source": [
    "#hide_input\n",
    "df = dft_ct_new_cases.copy()\n",
    "df.loc['Total'] = df.sum()\n",
    "n = 5\n",
    "ax = []\n",
    "fig = plt.figure(figsize = (18,28))\n",
    "gs = fig.add_gridspec(n+2, 5)\n",
    "# gs = fig.add_gridspec(2, 3)\n",
    "ax1 = fig.add_subplot(gs[0, :])\n",
    "ef = df.loc['Total'].rename_axis('date').reset_index()\n",
    "ef['date'] = ef['date'].astype('datetime64[ns]')\n",
    "ax1.bar(ef.date,ef.Total,alpha=0.3,color='#007acc')\n",
    "ax1.plot(ef.date,ef.Total , marker=\"o\", color='#007acc')\n",
    "ax1.xaxis.set_major_locator(mdates.WeekdayLocator())\n",
    "ax1.xaxis.set_major_formatter(mdates.DateFormatter('%b %d'))\n",
    "ax1.text(0.02, 0.5,'India daily case count', transform = ax1.transAxes, fontsize=25);\n",
    "ax1.spines['right'].set_visible(False)\n",
    "ax1.spines['top'].set_visible(False)\n",
    "\n",
    "ax2 = fig.add_subplot(gs[1,0])\n",
    "ef = df.loc['Maharashtra'].rename_axis('date').reset_index()\n",
    "ef['date'] = ef['date'].astype('datetime64[ns]')\n",
    "\n",
    "ax2.bar(ef.date, ef.Maharashtra,color = '#007acc',alpha=0.5)\n",
    "ax2.xaxis.set_major_locator(mdates.WeekdayLocator())\n",
    "ax2.xaxis.set_major_formatter(mdates.DateFormatter('%b %d'))\n",
    "ax2.set_xticks(ax2.get_xticks()[::3])\n",
    "maxyval = ef.Maharashtra.max()\n",
    "ax2.set_ylim([0,maxyval])\n",
    "ax2.text(0.05, 0.9,'Maharashtra', transform = ax2.transAxes, fontsize=20);\n",
    "ax2.spines['right'].set_visible(False)\n",
    "ax2.spines['top'].set_visible(False)\n",
    "\n",
    "\n",
    "ax3 = fig.add_subplot(gs[1,1])\n",
    "ef = df.loc['Tamil Nadu'].rename_axis('date').reset_index()\n",
    "ef['date'] = ef['date'].astype('datetime64[ns]')\n",
    "ax3.bar(ef.date, ef['Tamil Nadu'],color = '#007acc',alpha=0.5,)\n",
    "ax3.xaxis.set_major_locator(mdates.WeekdayLocator())\n",
    "ax3.xaxis.set_major_formatter(mdates.DateFormatter('%b %d'))\n",
    "ax3.set_xticks(ax3.get_xticks()[::3])\n",
    "ax3.text(0.05, 0.9,'Tamil Nadu', transform = ax3.transAxes, fontsize=20);\n",
    "ax3.spines['right'].set_visible(False)\n",
    "ax3.spines['top'].set_visible(False)\n",
    "\n",
    "ax5 = fig.add_subplot(gs[1,3])\n",
    "ef = df.loc['Telangana'].rename_axis('date').reset_index()\n",
    "ef['date'] = ef['date'].astype('datetime64[ns]')\n",
    "ax5.bar(ef.date, ef['Telangana'],color = '#007acc',alpha=0.5,)\n",
    "ax5.xaxis.set_major_locator(mdates.WeekdayLocator())\n",
    "ax5.xaxis.set_major_formatter(mdates.DateFormatter('%b %d'))\n",
    "ax5.set_xticks(ax5.get_xticks()[::3])\n",
    "ax5.text(0.05, 0.9,'Telangana', transform = ax5.transAxes, fontsize=20);\n",
    "ax5.spines['right'].set_visible(False)\n",
    "ax5.spines['top'].set_visible(False)\n",
    "\n",
    "ax6 = fig.add_subplot(gs[1,4])\n",
    "ef = df.loc['Andhra Pradesh'].rename_axis('date').reset_index()\n",
    "ef['date'] = ef['date'].astype('datetime64[ns]')\n",
    "ax6.bar(ef.date, ef['Andhra Pradesh'],color = '#007acc',alpha=0.5,)\n",
    "ax6.xaxis.set_major_locator(mdates.WeekdayLocator())\n",
    "ax6.xaxis.set_major_formatter(mdates.DateFormatter('%b %d'))\n",
    "ax6.set_xticks(ax6.get_xticks()[::3])\n",
    "ax6.text(0.05, 1,'Andhra Pradesh', transform = ax6.transAxes, fontsize=20);\n",
    "ax6.spines['right'].set_visible(False)\n",
    "ax6.spines['top'].set_visible(False)\n",
    "\n",
    "ax4 = fig.add_subplot(gs[1,2])\n",
    "ef = df.loc['Delhi'].rename_axis('date').reset_index()\n",
    "ef['date'] = ef['date'].astype('datetime64[ns]')\n",
    "ax4.bar(ef.date, ef.Delhi,color = '#007acc',alpha=0.5)\n",
    "ax4.set_xticks([])\n",
    "ax4.xaxis.set_major_locator(mdates.WeekdayLocator())\n",
    "ax4.xaxis.set_major_formatter(mdates.DateFormatter('%b %d'))\n",
    "ax4.set_xticks(ax4.get_xticks()[::3])\n",
    "ax4.spines['right'].set_visible(False)\n",
    "ax4.spines['top'].set_visible(False)\n",
    "\n",
    "ax4.text(0.05, 1,'Delhi', transform = ax4.transAxes, fontsize=20)\n",
    "\n",
    "for i in range(n):\n",
    "    \n",
    "    ax.append(fig.add_subplot(gs[i+2,:]))\n",
    "    ef = df.iloc[i+3].rename_axis('date').reset_index()\n",
    "    ef['date'] = ef['date'].astype('datetime64[ns]')\n",
    "    ax[i].bar(ef.date,ef.iloc[:,-1],color = '#007acc',alpha=0.3)\n",
    "    ax[i].plot(ef.date,ef.iloc[:,-1],marker='o',color='#007acc')\n",
    "    ax[i].text(0.02,0.5,f'{ef.columns.values[-1]}',transform = ax[i].transAxes, fontsize = 20);\n",
    "    ax[i].xaxis.set_major_locator(mdates.WeekdayLocator())\n",
    "    ax[i].xaxis.set_major_formatter(mdates.DateFormatter('%b %d'))\n",
    "    ax[i].set_ylim([0,7000])\n",
    "    ax[i].spines['right'].set_visible(False)\n",
    "    ax[i].spines['top'].set_visible(False)\n",
    "plt.tight_layout()\n"
   ]
  },
  {
   "cell_type": "code",
   "execution_count": 20,
   "id": "dress-forge",
   "metadata": {
    "execution": {
     "iopub.execute_input": "2021-02-04T14:34:49.649923Z",
     "iopub.status.busy": "2021-02-04T14:34:49.649285Z",
     "iopub.status.idle": "2021-02-04T14:34:49.651495Z",
     "shell.execute_reply": "2021-02-04T14:34:49.652000Z"
    },
    "papermill": {
     "duration": 0.037186,
     "end_time": "2021-02-04T14:34:49.652145",
     "exception": false,
     "start_time": "2021-02-04T14:34:49.614959",
     "status": "completed"
    },
    "tags": []
   },
   "outputs": [
    {
     "name": "stdout",
     "output_type": "stream",
     "text": [
      "                                   states    Cases  Deaths   PCases  PDeaths  Cases (+)  Deaths (+)  Fatality Rate\n",
      "                              Maharashtra  2033266   51169  2033266    51169          0           0           2.52\n",
      "                                   Kerala   950812    3814   944710     3797       6102          17           0.40\n",
      "                                Karnataka   940596   12225   940596    12225          0           0           1.30\n",
      "                           Andhra Pradesh   888099    7157   888099     7157          0           0           0.81\n",
      "                               Tamil Nadu   839866   12371   839866    12371          0           0           1.47\n",
      "                                    Delhi   635481   10864   635481    10864          0           0           1.71\n",
      "                            Uttar Pradesh   600837    8674   600837     8674          0           0           1.44\n",
      "                              West Bengal   570581   10195   570581    10195          0           0           1.79\n",
      "                                   Odisha   335282    1959   335282     1959          0           0           0.58\n",
      "                                Rajasthan   317766    2770   317766     2770          0           0           0.87\n",
      "                             Chhattisgarh   306370    3718   306370     3718          0           0           1.21\n",
      "                                Telangana   295101    1606   294924     1604        177           2           0.54\n",
      "                                  Haryana   268136    3024   268136     3024          0           0           1.13\n",
      "                                  Gujarat   262406    4391   262406     4391          0           0           1.67\n",
      "                                    Bihar   261004    1510   261004     1510          0           0           0.58\n",
      "                           Madhya Pradesh   255689    3816   255689     3816          0           0           1.49\n",
      "                                    Assam   217175    1083   217175     1083          0           0           0.50\n",
      "                                   Punjab   173861    5628   173861     5628          0           0           3.24\n",
      "                        Jammu and Kashmir   124659    1941   124659     1941          0           0           1.56\n",
      "                                Jharkhand   118839    1077   118839     1077          0           0           0.91\n",
      "                              Uttarakhand    96281    1655    96281     1655          0           0           1.72\n",
      "                         Himachal Pradesh    57646     969    57646      969          0           0           1.68\n",
      "                                      Goa    53638     768    53638      768          0           0           1.43\n",
      "                               Puducherry    39146     652    39146      652          0           0           1.67\n",
      "                                  Tripura    33348     388    33348      388          0           0           1.16\n",
      "                                  Manipur    29086     372    29086      372          0           0           1.28\n",
      "                               Chandigarh    21015     336    21015      336          0           0           1.60\n",
      "                        Arunachal Pradesh    16829      56    16829       56          0           0           0.33\n",
      "                                Meghalaya    13774     147    13774      147          0           0           1.07\n",
      "                                 Nagaland    12117      88    12117       88          0           0           0.73\n",
      "                                   Ladakh     9735     130     9735      130          0           0           1.34\n",
      "                                   Sikkim     6098     135     6098      135          0           0           2.21\n",
      "              Andaman and Nicobar Islands     4994      62     4994       62          0           0           1.24\n",
      "                                  Mizoram     4376       9     4376        9          0           0           0.21\n",
      " Dadra and Nagar Haveli and Daman and Diu     3380       2     3380        2          0           0           0.06\n",
      "                              Lakshadweep      122       0      122        0          0           0           0.00\n"
     ]
    }
   ],
   "source": [
    "#hide_input\n",
    "print(df_table.to_string(index=False))"
   ]
  },
  {
   "cell_type": "code",
   "execution_count": null,
   "id": "quantitative-legend",
   "metadata": {
    "papermill": {
     "duration": 0.02931,
     "end_time": "2021-02-04T14:34:49.707971",
     "exception": false,
     "start_time": "2021-02-04T14:34:49.678661",
     "status": "completed"
    },
    "tags": []
   },
   "outputs": [],
   "source": []
  },
  {
   "cell_type": "code",
   "execution_count": null,
   "id": "distant-acoustic",
   "metadata": {
    "papermill": {
     "duration": 0.026691,
     "end_time": "2021-02-04T14:34:49.760809",
     "exception": false,
     "start_time": "2021-02-04T14:34:49.734118",
     "status": "completed"
    },
    "tags": []
   },
   "outputs": [],
   "source": []
  }
 ],
 "metadata": {
  "kernelspec": {
   "display_name": "Python 3",
   "language": "python",
   "name": "python3"
  },
  "language_info": {
   "codemirror_mode": {
    "name": "ipython",
    "version": 3
   },
   "file_extension": ".py",
   "mimetype": "text/x-python",
   "name": "python",
   "nbconvert_exporter": "python",
   "pygments_lexer": "ipython3",
   "version": "3.6.12"
  },
  "papermill": {
   "duration": 17.795389,
   "end_time": "2021-02-04T14:34:50.397070",
   "environment_variables": {},
   "exception": null,
   "input_path": "latest.ipynb",
   "output_path": "latest.ipynb",
   "parameters": {},
   "start_time": "2021-02-04T14:34:32.601681",
   "version": "2.1.2"
  }
 },
 "nbformat": 4,
 "nbformat_minor": 5
}