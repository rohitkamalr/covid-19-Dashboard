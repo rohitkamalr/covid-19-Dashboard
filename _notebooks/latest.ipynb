{
 "cells": [
  {
   "cell_type": "markdown",
   "id": "colored-stack",
   "metadata": {
    "papermill": {
     "duration": 0.023009,
     "end_time": "2021-02-23T13:53:06.440217",
     "exception": false,
     "start_time": "2021-02-23T13:53:06.417208",
     "status": "completed"
    },
    "tags": []
   },
   "source": [
    "# Latest COVID-19 India Matplotlib Overview"
   ]
  },
  {
   "cell_type": "code",
   "execution_count": 1,
   "id": "light-proportion",
   "metadata": {
    "execution": {
     "iopub.execute_input": "2021-02-23T13:53:06.493627Z",
     "iopub.status.busy": "2021-02-23T13:53:06.492909Z",
     "iopub.status.idle": "2021-02-23T13:53:07.167124Z",
     "shell.execute_reply": "2021-02-23T13:53:07.167666Z"
    },
    "papermill": {
     "duration": 0.707757,
     "end_time": "2021-02-23T13:53:07.167861",
     "exception": false,
     "start_time": "2021-02-23T13:53:06.460104",
     "status": "completed"
    },
    "tags": []
   },
   "outputs": [],
   "source": [
    "#hide\n",
    "import pandas as pd\n",
    "import numpy as np\n",
    "import requests\n",
    "import json\n",
    "import matplotlib.pyplot as plt\n",
    "import matplotlib.dates as mdates\n",
    "import matplotlib as mpl\n",
    "from IPython.core.display import display,HTML\n",
    "%matplotlib inline\n",
    "from datetime import date"
   ]
  },
  {
   "cell_type": "code",
   "execution_count": 2,
   "id": "greenhouse-shooting",
   "metadata": {
    "execution": {
     "iopub.execute_input": "2021-02-23T13:53:07.214771Z",
     "iopub.status.busy": "2021-02-23T13:53:07.213726Z",
     "iopub.status.idle": "2021-02-23T13:53:07.509042Z",
     "shell.execute_reply": "2021-02-23T13:53:07.509569Z"
    },
    "papermill": {
     "duration": 0.322652,
     "end_time": "2021-02-23T13:53:07.509745",
     "exception": false,
     "start_time": "2021-02-23T13:53:07.187093",
     "status": "completed"
    },
    "tags": []
   },
   "outputs": [],
   "source": [
    "#hide\n",
    "df  = pd.read_csv('https://api.covid19india.org/csv/latest/states.csv')\n",
    "df = df[['Date','State','Confirmed','Deceased']]\n",
    "df = df.rename(columns={'Confirmed':'Cases', \"Deceased\":'Deaths'})\n",
    "df_cases = df[[\"Date\",'State','Cases']]\n",
    "df_deaths = df[['Date','State','Deaths']]\n",
    "df_cases1 = df_cases.groupby('Date')\n",
    "df_deaths1= df_deaths.groupby('Date')"
   ]
  },
  {
   "cell_type": "code",
   "execution_count": 3,
   "id": "hybrid-cathedral",
   "metadata": {
    "execution": {
     "iopub.execute_input": "2021-02-23T13:53:07.553162Z",
     "iopub.status.busy": "2021-02-23T13:53:07.552495Z",
     "iopub.status.idle": "2021-02-23T13:53:07.580770Z",
     "shell.execute_reply": "2021-02-23T13:53:07.581301Z"
    },
    "papermill": {
     "duration": 0.052765,
     "end_time": "2021-02-23T13:53:07.581481",
     "exception": false,
     "start_time": "2021-02-23T13:53:07.528716",
     "status": "completed"
    },
    "tags": []
   },
   "outputs": [],
   "source": [
    "#hide\n",
    "df_snap = pd.read_csv('data/SnapshotCases-28-July.csv')\n",
    "arr_states = df_snap['states'].unique()\n",
    "arr_dates = df['Date'].unique()\n",
    "df_snap = df_snap.set_index('states')"
   ]
  },
  {
   "cell_type": "code",
   "execution_count": 4,
   "id": "interior-belfast",
   "metadata": {
    "execution": {
     "iopub.execute_input": "2021-02-23T13:53:07.628904Z",
     "iopub.status.busy": "2021-02-23T13:53:07.628217Z",
     "iopub.status.idle": "2021-02-23T13:53:07.635792Z",
     "shell.execute_reply": "2021-02-23T13:53:07.636333Z"
    },
    "papermill": {
     "duration": 0.035572,
     "end_time": "2021-02-23T13:53:07.636495",
     "exception": false,
     "start_time": "2021-02-23T13:53:07.600923",
     "status": "completed"
    },
    "tags": []
   },
   "outputs": [
    {
     "data": {
      "text/plain": [
       "array(['Andaman and Nicobar Islands', 'Andhra Pradesh',\n",
       "       'Arunachal Pradesh', 'Assam', 'Bihar', 'Chandigarh',\n",
       "       'Dadra and Nagar Haveli and Daman and Diu', 'Delhi', 'Goa',\n",
       "       'Gujarat', 'Haryana', 'Himachal Pradesh', 'Jammu and Kashmir',\n",
       "       'Jharkhand', 'Karnataka', 'Kerala', 'Lakshadweep',\n",
       "       'Madhya Pradesh', 'Maharashtra', 'Manipur', 'Meghalaya', 'Mizoram',\n",
       "       'Nagaland', 'Odisha', 'Puducherry', 'Punjab', 'Rajasthan',\n",
       "       'Sikkim', 'Tamil Nadu', 'Telangana', 'Tripura', 'Uttar Pradesh',\n",
       "       'West Bengal', 'Chhattisgarh', 'Ladakh', 'Uttarakhand'],\n",
       "      dtype=object)"
      ]
     },
     "execution_count": 4,
     "metadata": {},
     "output_type": "execute_result"
    }
   ],
   "source": [
    "#hide\n",
    "arr_states[-9] = 'Puducherry'\n",
    "arr_states[-10] = 'Odisha'\n",
    "arr_states[6] = 'Dadra and Nagar Haveli and Daman and Diu'\n",
    "arr_states = np.append(arr_states,np.array(['Chhattisgarh','Ladakh','Uttarakhand']))\n",
    "arr_states"
   ]
  },
  {
   "cell_type": "code",
   "execution_count": 5,
   "id": "behind-manner",
   "metadata": {
    "execution": {
     "iopub.execute_input": "2021-02-23T13:53:07.696901Z",
     "iopub.status.busy": "2021-02-23T13:53:07.696200Z",
     "iopub.status.idle": "2021-02-23T13:53:07.698025Z",
     "shell.execute_reply": "2021-02-23T13:53:07.698559Z"
    },
    "papermill": {
     "duration": 0.042653,
     "end_time": "2021-02-23T13:53:07.698730",
     "exception": false,
     "start_time": "2021-02-23T13:53:07.656077",
     "status": "completed"
    },
    "tags": []
   },
   "outputs": [],
   "source": [
    "#hide\n",
    "dates = []\n",
    "for i in arr_dates:\n",
    "    if i>='2020-07-01':\n",
    "        dates.append(i)\n",
    "dict = {'states':dates}\n",
    "for i in arr_states:\n",
    "    dict[i] = [0]*len(dates)\n",
    "dft_cases = pd.DataFrame(dict)\n",
    "dft_deaths = pd.DataFrame(dict)\n"
   ]
  },
  {
   "cell_type": "code",
   "execution_count": 6,
   "id": "simplified-peter",
   "metadata": {
    "execution": {
     "iopub.execute_input": "2021-02-23T13:53:07.748243Z",
     "iopub.status.busy": "2021-02-23T13:53:07.747399Z",
     "iopub.status.idle": "2021-02-23T13:53:12.138772Z",
     "shell.execute_reply": "2021-02-23T13:53:12.137800Z"
    },
    "papermill": {
     "duration": 4.419258,
     "end_time": "2021-02-23T13:53:12.139320",
     "exception": false,
     "start_time": "2021-02-23T13:53:07.720062",
     "status": "completed"
    },
    "tags": []
   },
   "outputs": [],
   "source": [
    "#hide\n",
    "for i in range(len(dates)):\n",
    "    df1_deaths = df_deaths1.get_group(dates[i])\n",
    "    for j in range(len(df1_deaths.index)):\n",
    "        if df1_deaths.iloc[j,1] in arr_states:\n",
    "            dft_deaths.loc[i,df1_deaths.iloc[j,1]] = df1_deaths.iloc[j,2]\n",
    "dft_deaths = dft_deaths.set_index('states')"
   ]
  },
  {
   "cell_type": "code",
   "execution_count": 7,
   "id": "geological-welding",
   "metadata": {
    "execution": {
     "iopub.execute_input": "2021-02-23T13:53:12.189295Z",
     "iopub.status.busy": "2021-02-23T13:53:12.188610Z",
     "iopub.status.idle": "2021-02-23T13:53:16.529103Z",
     "shell.execute_reply": "2021-02-23T13:53:16.529637Z"
    },
    "papermill": {
     "duration": 4.3683,
     "end_time": "2021-02-23T13:53:16.529814",
     "exception": false,
     "start_time": "2021-02-23T13:53:12.161514",
     "status": "completed"
    },
    "tags": []
   },
   "outputs": [],
   "source": [
    "#hide\n",
    "for i in range(len(dates)):\n",
    "    df1_cases = df_cases1.get_group(dates[i])\n",
    "    for j in range(len(df1_cases.index)):\n",
    "        if df1_cases.iloc[j,1] in arr_states:\n",
    "            dft_cases.loc[i,df1_cases.iloc[j,1]] = df1_cases.iloc[j,2]\n",
    "dft_cases = dft_cases.set_index('states')"
   ]
  },
  {
   "cell_type": "code",
   "execution_count": 8,
   "id": "binary-ratio",
   "metadata": {
    "execution": {
     "iopub.execute_input": "2021-02-23T13:53:16.575484Z",
     "iopub.status.busy": "2021-02-23T13:53:16.574821Z",
     "iopub.status.idle": "2021-02-23T13:53:16.577278Z",
     "shell.execute_reply": "2021-02-23T13:53:16.576630Z"
    },
    "papermill": {
     "duration": 0.027344,
     "end_time": "2021-02-23T13:53:16.577412",
     "exception": false,
     "start_time": "2021-02-23T13:53:16.550068",
     "status": "completed"
    },
    "tags": []
   },
   "outputs": [],
   "source": [
    "#hide\n",
    "dft_cases = dft_cases.T\n",
    "dft_deaths = dft_deaths.T\n",
    "dt_today = dates[-1]\n",
    "dt_yday = dates[-2]"
   ]
  },
  {
   "cell_type": "code",
   "execution_count": 9,
   "id": "boolean-calculator",
   "metadata": {
    "execution": {
     "iopub.execute_input": "2021-02-23T13:53:16.624385Z",
     "iopub.status.busy": "2021-02-23T13:53:16.623703Z",
     "iopub.status.idle": "2021-02-23T13:53:16.628029Z",
     "shell.execute_reply": "2021-02-23T13:53:16.628546Z"
    },
    "papermill": {
     "duration": 0.032509,
     "end_time": "2021-02-23T13:53:16.628722",
     "exception": false,
     "start_time": "2021-02-23T13:53:16.596213",
     "status": "completed"
    },
    "tags": []
   },
   "outputs": [],
   "source": [
    "#hide\n",
    "dft_cases = dft_cases.reset_index()\n",
    "dft_deaths = dft_deaths.reset_index()\n",
    "dft_cases = dft_cases.rename(columns = {'index':'state'})\n",
    "dft_deaths = dft_deaths.rename(columns = {'index':'state'})"
   ]
  },
  {
   "cell_type": "code",
   "execution_count": 10,
   "id": "invisible-johnston",
   "metadata": {
    "execution": {
     "iopub.execute_input": "2021-02-23T13:53:16.681815Z",
     "iopub.status.busy": "2021-02-23T13:53:16.681121Z",
     "iopub.status.idle": "2021-02-23T13:53:16.683543Z",
     "shell.execute_reply": "2021-02-23T13:53:16.682886Z"
    },
    "papermill": {
     "duration": 0.034541,
     "end_time": "2021-02-23T13:53:16.683685",
     "exception": false,
     "start_time": "2021-02-23T13:53:16.649144",
     "status": "completed"
    },
    "tags": []
   },
   "outputs": [],
   "source": [
    "#hide\n",
    "dfc_cases = dft_cases.groupby('state')[dt_today].sum()\n",
    "dfc_deaths = dft_deaths.groupby('state')[dt_today].sum()\n",
    "dfp_cases = dft_cases.groupby('state')[dt_yday].sum()\n",
    "dfp_deaths = dft_deaths.groupby('state')[dt_yday].sum()"
   ]
  },
  {
   "cell_type": "code",
   "execution_count": 11,
   "id": "measured-great",
   "metadata": {
    "execution": {
     "iopub.execute_input": "2021-02-23T13:53:16.739322Z",
     "iopub.status.busy": "2021-02-23T13:53:16.738636Z",
     "iopub.status.idle": "2021-02-23T13:53:16.746705Z",
     "shell.execute_reply": "2021-02-23T13:53:16.746103Z"
    },
    "papermill": {
     "duration": 0.042819,
     "end_time": "2021-02-23T13:53:16.746846",
     "exception": false,
     "start_time": "2021-02-23T13:53:16.704027",
     "status": "completed"
    },
    "tags": []
   },
   "outputs": [
    {
     "data": {
      "text/html": [
       "<div>\n",
       "<style scoped>\n",
       "    .dataframe tbody tr th:only-of-type {\n",
       "        vertical-align: middle;\n",
       "    }\n",
       "\n",
       "    .dataframe tbody tr th {\n",
       "        vertical-align: top;\n",
       "    }\n",
       "\n",
       "    .dataframe thead th {\n",
       "        text-align: right;\n",
       "    }\n",
       "</style>\n",
       "<table border=\"1\" class=\"dataframe\">\n",
       "  <thead>\n",
       "    <tr style=\"text-align: right;\">\n",
       "      <th></th>\n",
       "      <th>states</th>\n",
       "      <th>Cases</th>\n",
       "      <th>Deaths</th>\n",
       "      <th>PCases</th>\n",
       "      <th>PDeaths</th>\n",
       "    </tr>\n",
       "  </thead>\n",
       "  <tbody>\n",
       "    <tr>\n",
       "      <th>0</th>\n",
       "      <td>Maharashtra</td>\n",
       "      <td>2106094</td>\n",
       "      <td>51806</td>\n",
       "      <td>2106094</td>\n",
       "      <td>51806</td>\n",
       "    </tr>\n",
       "    <tr>\n",
       "      <th>1</th>\n",
       "      <td>Kerala</td>\n",
       "      <td>1036870</td>\n",
       "      <td>4106</td>\n",
       "      <td>1036870</td>\n",
       "      <td>4106</td>\n",
       "    </tr>\n",
       "    <tr>\n",
       "      <th>2</th>\n",
       "      <td>Karnataka</td>\n",
       "      <td>948466</td>\n",
       "      <td>12299</td>\n",
       "      <td>948466</td>\n",
       "      <td>12299</td>\n",
       "    </tr>\n",
       "    <tr>\n",
       "      <th>3</th>\n",
       "      <td>Andhra Pradesh</td>\n",
       "      <td>889339</td>\n",
       "      <td>7167</td>\n",
       "      <td>889339</td>\n",
       "      <td>7167</td>\n",
       "    </tr>\n",
       "    <tr>\n",
       "      <th>4</th>\n",
       "      <td>Tamil Nadu</td>\n",
       "      <td>848724</td>\n",
       "      <td>12466</td>\n",
       "      <td>848724</td>\n",
       "      <td>12466</td>\n",
       "    </tr>\n",
       "  </tbody>\n",
       "</table>\n",
       "</div>"
      ],
      "text/plain": [
       "           states    Cases  Deaths   PCases  PDeaths\n",
       "0     Maharashtra  2106094   51806  2106094    51806\n",
       "1          Kerala  1036870    4106  1036870     4106\n",
       "2       Karnataka   948466   12299   948466    12299\n",
       "3  Andhra Pradesh   889339    7167   889339     7167\n",
       "4      Tamil Nadu   848724   12466   848724    12466"
      ]
     },
     "execution_count": 11,
     "metadata": {},
     "output_type": "execute_result"
    }
   ],
   "source": [
    "#hide\n",
    "df_table = pd.DataFrame({'states': dfc_cases.index, 'Cases': dfc_cases.values, 'Deaths': dfc_deaths.values, 'PCases': dfp_cases.values, 'PDeaths': dfp_deaths.values}).set_index('states')\n",
    "df_table = df_table.sort_values(by = ['Cases','Deaths'], ascending = [False, False])\n",
    "df_table = df_table.reset_index()\n",
    "df_table.head()"
   ]
  },
  {
   "cell_type": "code",
   "execution_count": 12,
   "id": "found-montreal",
   "metadata": {
    "execution": {
     "iopub.execute_input": "2021-02-23T13:53:16.793300Z",
     "iopub.status.busy": "2021-02-23T13:53:16.792646Z",
     "iopub.status.idle": "2021-02-23T13:53:16.801440Z",
     "shell.execute_reply": "2021-02-23T13:53:16.801950Z"
    },
    "papermill": {
     "duration": 0.03378,
     "end_time": "2021-02-23T13:53:16.802114",
     "exception": false,
     "start_time": "2021-02-23T13:53:16.768334",
     "status": "completed"
    },
    "tags": []
   },
   "outputs": [],
   "source": [
    "#hide\n",
    "for c in 'Cases, Deaths'.split(', '):\n",
    "    df_table[f'{c} (+)'] = (df_table[c] - df_table[f'P{c}']).clip(0)\n",
    "df_table['Fatality Rate'] = (100* df_table['Deaths']/ df_table['Cases']).round(2)"
   ]
  },
  {
   "cell_type": "code",
   "execution_count": 13,
   "id": "minus-savage",
   "metadata": {
    "execution": {
     "iopub.execute_input": "2021-02-23T13:53:16.855359Z",
     "iopub.status.busy": "2021-02-23T13:53:16.854671Z",
     "iopub.status.idle": "2021-02-23T13:53:16.857252Z",
     "shell.execute_reply": "2021-02-23T13:53:16.857790Z"
    },
    "papermill": {
     "duration": 0.035028,
     "end_time": "2021-02-23T13:53:16.857956",
     "exception": false,
     "start_time": "2021-02-23T13:53:16.822928",
     "status": "completed"
    },
    "tags": []
   },
   "outputs": [
    {
     "data": {
      "text/html": [
       "<div>\n",
       "<style scoped>\n",
       "    .dataframe tbody tr th:only-of-type {\n",
       "        vertical-align: middle;\n",
       "    }\n",
       "\n",
       "    .dataframe tbody tr th {\n",
       "        vertical-align: top;\n",
       "    }\n",
       "\n",
       "    .dataframe thead th {\n",
       "        text-align: right;\n",
       "    }\n",
       "</style>\n",
       "<table border=\"1\" class=\"dataframe\">\n",
       "  <thead>\n",
       "    <tr style=\"text-align: right;\">\n",
       "      <th></th>\n",
       "      <th>states</th>\n",
       "      <th>Cases</th>\n",
       "      <th>Deaths</th>\n",
       "      <th>PCases</th>\n",
       "      <th>PDeaths</th>\n",
       "      <th>Cases (+)</th>\n",
       "      <th>Deaths (+)</th>\n",
       "      <th>Fatality Rate</th>\n",
       "    </tr>\n",
       "  </thead>\n",
       "  <tbody>\n",
       "    <tr>\n",
       "      <th>0</th>\n",
       "      <td>Maharashtra</td>\n",
       "      <td>2106094</td>\n",
       "      <td>51806</td>\n",
       "      <td>2106094</td>\n",
       "      <td>51806</td>\n",
       "      <td>0</td>\n",
       "      <td>0</td>\n",
       "      <td>2.46</td>\n",
       "    </tr>\n",
       "    <tr>\n",
       "      <th>1</th>\n",
       "      <td>Kerala</td>\n",
       "      <td>1036870</td>\n",
       "      <td>4106</td>\n",
       "      <td>1036870</td>\n",
       "      <td>4106</td>\n",
       "      <td>0</td>\n",
       "      <td>0</td>\n",
       "      <td>0.40</td>\n",
       "    </tr>\n",
       "    <tr>\n",
       "      <th>2</th>\n",
       "      <td>Karnataka</td>\n",
       "      <td>948466</td>\n",
       "      <td>12299</td>\n",
       "      <td>948466</td>\n",
       "      <td>12299</td>\n",
       "      <td>0</td>\n",
       "      <td>0</td>\n",
       "      <td>1.30</td>\n",
       "    </tr>\n",
       "    <tr>\n",
       "      <th>3</th>\n",
       "      <td>Andhra Pradesh</td>\n",
       "      <td>889339</td>\n",
       "      <td>7167</td>\n",
       "      <td>889339</td>\n",
       "      <td>7167</td>\n",
       "      <td>0</td>\n",
       "      <td>0</td>\n",
       "      <td>0.81</td>\n",
       "    </tr>\n",
       "    <tr>\n",
       "      <th>4</th>\n",
       "      <td>Tamil Nadu</td>\n",
       "      <td>848724</td>\n",
       "      <td>12466</td>\n",
       "      <td>848724</td>\n",
       "      <td>12466</td>\n",
       "      <td>0</td>\n",
       "      <td>0</td>\n",
       "      <td>1.47</td>\n",
       "    </tr>\n",
       "  </tbody>\n",
       "</table>\n",
       "</div>"
      ],
      "text/plain": [
       "           states    Cases  Deaths   PCases  PDeaths  Cases (+)  Deaths (+)  \\\n",
       "0     Maharashtra  2106094   51806  2106094    51806          0           0   \n",
       "1          Kerala  1036870    4106  1036870     4106          0           0   \n",
       "2       Karnataka   948466   12299   948466    12299          0           0   \n",
       "3  Andhra Pradesh   889339    7167   889339     7167          0           0   \n",
       "4      Tamil Nadu   848724   12466   848724    12466          0           0   \n",
       "\n",
       "   Fatality Rate  \n",
       "0           2.46  \n",
       "1           0.40  \n",
       "2           1.30  \n",
       "3           0.81  \n",
       "4           1.47  "
      ]
     },
     "execution_count": 13,
     "metadata": {},
     "output_type": "execute_result"
    }
   ],
   "source": [
    "#hide\n",
    "df_table.head()"
   ]
  },
  {
   "cell_type": "code",
   "execution_count": 14,
   "id": "false-peter",
   "metadata": {
    "execution": {
     "iopub.execute_input": "2021-02-23T13:53:16.905678Z",
     "iopub.status.busy": "2021-02-23T13:53:16.905003Z",
     "iopub.status.idle": "2021-02-23T13:53:16.924715Z",
     "shell.execute_reply": "2021-02-23T13:53:16.924136Z"
    },
    "papermill": {
     "duration": 0.045351,
     "end_time": "2021-02-23T13:53:16.924858",
     "exception": false,
     "start_time": "2021-02-23T13:53:16.879507",
     "status": "completed"
    },
    "tags": []
   },
   "outputs": [
    {
     "data": {
      "text/plain": [
       "{'updated': '2021-02-23',\n",
       " 'since': '2021-02-22',\n",
       " 'Cases': 11016264,\n",
       " 'PCases': 11015864,\n",
       " 'Deaths': 156502,\n",
       " 'PDeaths': 156498,\n",
       " 'Cases (+)': 400,\n",
       " 'Deaths (+)': 4}"
      ]
     },
     "execution_count": 14,
     "metadata": {},
     "output_type": "execute_result"
    }
   ],
   "source": [
    "#hide\n",
    "summary = {'updated':dates[-1], 'since':dates[-2]}\n",
    "list_names = ['Cases', 'PCases', 'Deaths', 'PDeaths', 'Cases (+)', 'Deaths (+)']\n",
    "for name in list_names:\n",
    "    summary[name] = df_table.sum()[name]\n",
    "summary"
   ]
  },
  {
   "cell_type": "code",
   "execution_count": 15,
   "id": "packed-viewer",
   "metadata": {
    "execution": {
     "iopub.execute_input": "2021-02-23T13:53:16.974073Z",
     "iopub.status.busy": "2021-02-23T13:53:16.973369Z",
     "iopub.status.idle": "2021-02-23T13:53:16.975814Z",
     "shell.execute_reply": "2021-02-23T13:53:16.975165Z"
    },
    "papermill": {
     "duration": 0.030859,
     "end_time": "2021-02-23T13:53:16.975955",
     "exception": false,
     "start_time": "2021-02-23T13:53:16.945096",
     "status": "completed"
    },
    "tags": []
   },
   "outputs": [],
   "source": [
    "#hide\n",
    "overview = '''\n",
    "<!-- #######  HTML!! #########-->\n",
    "<h1 style=\"color: #5e9ca0; text-align: center;\">India</h1>\n",
    "<p style=\"text-align: center;\">Last update: <strong>{update}</strong></p>\n",
    "<p style=\"text-align: center;\">Confirmed cases:</p>\n",
    "<p style=\"text-align: center;font-size:24px;\">{cases} (<span style=\"color: #ff0000;\">+{new}</span>)</p>\n",
    "<p style=\"text-align: center;\">Confirmed deaths:</p>\n",
    "<p style=\"text-align: center;font-size:24px;\">{deaths} (<span style=\"color: #ff0000;\">+{dnew}</span>)</p>\n",
    "'''"
   ]
  },
  {
   "cell_type": "code",
   "execution_count": 16,
   "id": "phantom-lover",
   "metadata": {
    "execution": {
     "iopub.execute_input": "2021-02-23T13:53:17.034078Z",
     "iopub.status.busy": "2021-02-23T13:53:17.033407Z",
     "iopub.status.idle": "2021-02-23T13:53:17.036893Z",
     "shell.execute_reply": "2021-02-23T13:53:17.036324Z"
    },
    "papermill": {
     "duration": 0.040478,
     "end_time": "2021-02-23T13:53:17.037033",
     "exception": false,
     "start_time": "2021-02-23T13:53:16.996555",
     "status": "completed"
    },
    "tags": []
   },
   "outputs": [
    {
     "data": {
      "text/html": [
       "\n",
       "<!-- #######  HTML!! #########-->\n",
       "<h1 style=\"color: #5e9ca0; text-align: center;\">India</h1>\n",
       "<p style=\"text-align: center;\">Last update: <strong>2021-02-23</strong></p>\n",
       "<p style=\"text-align: center;\">Confirmed cases:</p>\n",
       "<p style=\"text-align: center;font-size:24px;\">11016264 (<span style=\"color: #ff0000;\">+400</span>)</p>\n",
       "<p style=\"text-align: center;\">Confirmed deaths:</p>\n",
       "<p style=\"text-align: center;font-size:24px;\">156502 (<span style=\"color: #ff0000;\">+4</span>)</p>\n"
      ],
      "text/plain": [
       "<IPython.core.display.HTML object>"
      ]
     },
     "metadata": {},
     "output_type": "display_data"
    }
   ],
   "source": [
    "#hide_input\n",
    "update = summary['updated']\n",
    "cases = summary['Cases']\n",
    "new = summary['Cases (+)']\n",
    "deaths = summary['Deaths']\n",
    "dnew = summary['Deaths (+)']\n",
    "\n",
    "html = HTML(overview.format(update=update, cases=cases,new=new,deaths=deaths,dnew=dnew))\n",
    "\n",
    "display(html)"
   ]
  },
  {
   "cell_type": "code",
   "execution_count": 17,
   "id": "sealed-reset",
   "metadata": {
    "execution": {
     "iopub.execute_input": "2021-02-23T13:53:17.089876Z",
     "iopub.status.busy": "2021-02-23T13:53:17.088695Z",
     "iopub.status.idle": "2021-02-23T13:53:17.097811Z",
     "shell.execute_reply": "2021-02-23T13:53:17.097226Z"
    },
    "papermill": {
     "duration": 0.03806,
     "end_time": "2021-02-23T13:53:17.097966",
     "exception": false,
     "start_time": "2021-02-23T13:53:17.059906",
     "status": "completed"
    },
    "tags": []
   },
   "outputs": [],
   "source": [
    "#hide\n",
    "dt_cols = list(dft_cases.columns[1:])\n",
    "dft_ct_new_cases = dft_cases.groupby('state')[dt_cols].sum().diff(axis=1).fillna(0).astype(int)\n",
    "dft_ct_new_cases.sort_values(by = dates[-1], ascending = False,inplace = True)"
   ]
  },
  {
   "cell_type": "code",
   "execution_count": 18,
   "id": "designed-constant",
   "metadata": {
    "execution": {
     "iopub.execute_input": "2021-02-23T13:53:17.157623Z",
     "iopub.status.busy": "2021-02-23T13:53:17.156934Z",
     "iopub.status.idle": "2021-02-23T13:53:17.175589Z",
     "shell.execute_reply": "2021-02-23T13:53:17.176225Z"
    },
    "papermill": {
     "duration": 0.055434,
     "end_time": "2021-02-23T13:53:17.176396",
     "exception": false,
     "start_time": "2021-02-23T13:53:17.120962",
     "status": "completed"
    },
    "tags": []
   },
   "outputs": [
    {
     "data": {
      "text/html": [
       "<div>\n",
       "<style scoped>\n",
       "    .dataframe tbody tr th:only-of-type {\n",
       "        vertical-align: middle;\n",
       "    }\n",
       "\n",
       "    .dataframe tbody tr th {\n",
       "        vertical-align: top;\n",
       "    }\n",
       "\n",
       "    .dataframe thead th {\n",
       "        text-align: right;\n",
       "    }\n",
       "</style>\n",
       "<table border=\"1\" class=\"dataframe\">\n",
       "  <thead>\n",
       "    <tr style=\"text-align: right;\">\n",
       "      <th>states</th>\n",
       "      <th>2020-07-01</th>\n",
       "      <th>2020-07-02</th>\n",
       "      <th>2020-07-03</th>\n",
       "      <th>2020-07-04</th>\n",
       "      <th>2020-07-05</th>\n",
       "      <th>2020-07-06</th>\n",
       "      <th>2020-07-07</th>\n",
       "      <th>2020-07-08</th>\n",
       "      <th>2020-07-09</th>\n",
       "      <th>2020-07-10</th>\n",
       "      <th>...</th>\n",
       "      <th>2021-02-14</th>\n",
       "      <th>2021-02-15</th>\n",
       "      <th>2021-02-16</th>\n",
       "      <th>2021-02-17</th>\n",
       "      <th>2021-02-18</th>\n",
       "      <th>2021-02-19</th>\n",
       "      <th>2021-02-20</th>\n",
       "      <th>2021-02-21</th>\n",
       "      <th>2021-02-22</th>\n",
       "      <th>2021-02-23</th>\n",
       "    </tr>\n",
       "    <tr>\n",
       "      <th>state</th>\n",
       "      <th></th>\n",
       "      <th></th>\n",
       "      <th></th>\n",
       "      <th></th>\n",
       "      <th></th>\n",
       "      <th></th>\n",
       "      <th></th>\n",
       "      <th></th>\n",
       "      <th></th>\n",
       "      <th></th>\n",
       "      <th></th>\n",
       "      <th></th>\n",
       "      <th></th>\n",
       "      <th></th>\n",
       "      <th></th>\n",
       "      <th></th>\n",
       "      <th></th>\n",
       "      <th></th>\n",
       "      <th></th>\n",
       "      <th></th>\n",
       "      <th></th>\n",
       "    </tr>\n",
       "  </thead>\n",
       "  <tbody>\n",
       "    <tr>\n",
       "      <th>West Bengal</th>\n",
       "      <td>0</td>\n",
       "      <td>649</td>\n",
       "      <td>669</td>\n",
       "      <td>743</td>\n",
       "      <td>895</td>\n",
       "      <td>861</td>\n",
       "      <td>850</td>\n",
       "      <td>986</td>\n",
       "      <td>1088</td>\n",
       "      <td>1198</td>\n",
       "      <td>...</td>\n",
       "      <td>190</td>\n",
       "      <td>133</td>\n",
       "      <td>151</td>\n",
       "      <td>133</td>\n",
       "      <td>181</td>\n",
       "      <td>194</td>\n",
       "      <td>193</td>\n",
       "      <td>182</td>\n",
       "      <td>148</td>\n",
       "      <td>189</td>\n",
       "    </tr>\n",
       "    <tr>\n",
       "      <th>Delhi</th>\n",
       "      <td>0</td>\n",
       "      <td>2373</td>\n",
       "      <td>2520</td>\n",
       "      <td>2505</td>\n",
       "      <td>2244</td>\n",
       "      <td>1379</td>\n",
       "      <td>2008</td>\n",
       "      <td>2033</td>\n",
       "      <td>2187</td>\n",
       "      <td>2089</td>\n",
       "      <td>...</td>\n",
       "      <td>150</td>\n",
       "      <td>141</td>\n",
       "      <td>94</td>\n",
       "      <td>134</td>\n",
       "      <td>130</td>\n",
       "      <td>158</td>\n",
       "      <td>152</td>\n",
       "      <td>145</td>\n",
       "      <td>128</td>\n",
       "      <td>145</td>\n",
       "    </tr>\n",
       "    <tr>\n",
       "      <th>Odisha</th>\n",
       "      <td>0</td>\n",
       "      <td>229</td>\n",
       "      <td>561</td>\n",
       "      <td>495</td>\n",
       "      <td>469</td>\n",
       "      <td>456</td>\n",
       "      <td>571</td>\n",
       "      <td>527</td>\n",
       "      <td>577</td>\n",
       "      <td>755</td>\n",
       "      <td>...</td>\n",
       "      <td>73</td>\n",
       "      <td>88</td>\n",
       "      <td>60</td>\n",
       "      <td>75</td>\n",
       "      <td>63</td>\n",
       "      <td>53</td>\n",
       "      <td>65</td>\n",
       "      <td>58</td>\n",
       "      <td>69</td>\n",
       "      <td>62</td>\n",
       "    </tr>\n",
       "    <tr>\n",
       "      <th>Tripura</th>\n",
       "      <td>0</td>\n",
       "      <td>39</td>\n",
       "      <td>93</td>\n",
       "      <td>25</td>\n",
       "      <td>23</td>\n",
       "      <td>111</td>\n",
       "      <td>24</td>\n",
       "      <td>57</td>\n",
       "      <td>16</td>\n",
       "      <td>142</td>\n",
       "      <td>...</td>\n",
       "      <td>0</td>\n",
       "      <td>0</td>\n",
       "      <td>0</td>\n",
       "      <td>2</td>\n",
       "      <td>2</td>\n",
       "      <td>0</td>\n",
       "      <td>35</td>\n",
       "      <td>0</td>\n",
       "      <td>2</td>\n",
       "      <td>4</td>\n",
       "    </tr>\n",
       "    <tr>\n",
       "      <th>Punjab</th>\n",
       "      <td>0</td>\n",
       "      <td>116</td>\n",
       "      <td>153</td>\n",
       "      <td>172</td>\n",
       "      <td>174</td>\n",
       "      <td>208</td>\n",
       "      <td>258</td>\n",
       "      <td>158</td>\n",
       "      <td>233</td>\n",
       "      <td>217</td>\n",
       "      <td>...</td>\n",
       "      <td>234</td>\n",
       "      <td>222</td>\n",
       "      <td>247</td>\n",
       "      <td>341</td>\n",
       "      <td>268</td>\n",
       "      <td>383</td>\n",
       "      <td>352</td>\n",
       "      <td>348</td>\n",
       "      <td>388</td>\n",
       "      <td>0</td>\n",
       "    </tr>\n",
       "  </tbody>\n",
       "</table>\n",
       "<p>5 rows × 238 columns</p>\n",
       "</div>"
      ],
      "text/plain": [
       "states       2020-07-01  2020-07-02  2020-07-03  2020-07-04  2020-07-05  \\\n",
       "state                                                                     \n",
       "West Bengal           0         649         669         743         895   \n",
       "Delhi                 0        2373        2520        2505        2244   \n",
       "Odisha                0         229         561         495         469   \n",
       "Tripura               0          39          93          25          23   \n",
       "Punjab                0         116         153         172         174   \n",
       "\n",
       "states       2020-07-06  2020-07-07  2020-07-08  2020-07-09  2020-07-10  ...  \\\n",
       "state                                                                    ...   \n",
       "West Bengal         861         850         986        1088        1198  ...   \n",
       "Delhi              1379        2008        2033        2187        2089  ...   \n",
       "Odisha              456         571         527         577         755  ...   \n",
       "Tripura             111          24          57          16         142  ...   \n",
       "Punjab              208         258         158         233         217  ...   \n",
       "\n",
       "states       2021-02-14  2021-02-15  2021-02-16  2021-02-17  2021-02-18  \\\n",
       "state                                                                     \n",
       "West Bengal         190         133         151         133         181   \n",
       "Delhi               150         141          94         134         130   \n",
       "Odisha               73          88          60          75          63   \n",
       "Tripura               0           0           0           2           2   \n",
       "Punjab              234         222         247         341         268   \n",
       "\n",
       "states       2021-02-19  2021-02-20  2021-02-21  2021-02-22  2021-02-23  \n",
       "state                                                                    \n",
       "West Bengal         194         193         182         148         189  \n",
       "Delhi               158         152         145         128         145  \n",
       "Odisha               53          65          58          69          62  \n",
       "Tripura               0          35           0           2           4  \n",
       "Punjab              383         352         348         388           0  \n",
       "\n",
       "[5 rows x 238 columns]"
      ]
     },
     "execution_count": 18,
     "metadata": {},
     "output_type": "execute_result"
    }
   ],
   "source": [
    "#hide\n",
    "dft_ct_new_cases.head()"
   ]
  },
  {
   "cell_type": "code",
   "execution_count": 19,
   "id": "responsible-nightlife",
   "metadata": {
    "execution": {
     "iopub.execute_input": "2021-02-23T13:53:17.272006Z",
     "iopub.status.busy": "2021-02-23T13:53:17.228507Z",
     "iopub.status.idle": "2021-02-23T13:53:27.127776Z",
     "shell.execute_reply": "2021-02-23T13:53:27.128416Z"
    },
    "papermill": {
     "duration": 9.930133,
     "end_time": "2021-02-23T13:53:27.128582",
     "exception": false,
     "start_time": "2021-02-23T13:53:17.198449",
     "status": "completed"
    },
    "tags": []
   },
   "outputs": [
    {
     "data": {
      "image/png": "[encoded data removed]",
      "text/plain": [
       "<Figure size 1296x2016 with 11 Axes>"
      ]
     },
     "metadata": {
      "needs_background": "light"
     },
     "output_type": "display_data"
    }
   ],
   "source": [
    "#hide_input\n",
    "df = dft_ct_new_cases.copy()\n",
    "df.loc['Total'] = df.sum()\n",
    "n = 5\n",
    "ax = []\n",
    "fig = plt.figure(figsize = (18,28))\n",
    "gs = fig.add_gridspec(n+2, 5)\n",
    "# gs = fig.add_gridspec(2, 3)\n",
    "ax1 = fig.add_subplot(gs[0, :])\n",
    "ef = df.loc['Total'].rename_axis('date').reset_index()\n",
    "ef['date'] = ef['date'].astype('datetime64[ns]')\n",
    "ax1.bar(ef.date,ef.Total,alpha=0.3,color='#007acc')\n",
    "ax1.plot(ef.date,ef.Total , marker=\"o\", color='#007acc')\n",
    "ax1.xaxis.set_major_locator(mdates.WeekdayLocator())\n",
    "ax1.xaxis.set_major_formatter(mdates.DateFormatter('%b %d'))\n",
    "ax1.text(0.02, 0.5,'India daily case count', transform = ax1.transAxes, fontsize=25);\n",
    "ax1.spines['right'].set_visible(False)\n",
    "ax1.spines['top'].set_visible(False)\n",
    "\n",
    "ax2 = fig.add_subplot(gs[1,0])\n",
    "ef = df.loc['Maharashtra'].rename_axis('date').reset_index()\n",
    "ef['date'] = ef['date'].astype('datetime64[ns]')\n",
    "\n",
    "ax2.bar(ef.date, ef.Maharashtra,color = '#007acc',alpha=0.5)\n",
    "ax2.xaxis.set_major_locator(mdates.WeekdayLocator())\n",
    "ax2.xaxis.set_major_formatter(mdates.DateFormatter('%b %d'))\n",
    "ax2.set_xticks(ax2.get_xticks()[::3])\n",
    "maxyval = ef.Maharashtra.max()\n",
    "ax2.set_ylim([0,maxyval])\n",
    "ax2.text(0.05, 0.9,'Maharashtra', transform = ax2.transAxes, fontsize=20);\n",
    "ax2.spines['right'].set_visible(False)\n",
    "ax2.spines['top'].set_visible(False)\n",
    "\n",
    "\n",
    "ax3 = fig.add_subplot(gs[1,1])\n",
    "ef = df.loc['Tamil Nadu'].rename_axis('date').reset_index()\n",
    "ef['date'] = ef['date'].astype('datetime64[ns]')\n",
    "ax3.bar(ef.date, ef['Tamil Nadu'],color = '#007acc',alpha=0.5,)\n",
    "ax3.xaxis.set_major_locator(mdates.WeekdayLocator())\n",
    "ax3.xaxis.set_major_formatter(mdates.DateFormatter('%b %d'))\n",
    "ax3.set_xticks(ax3.get_xticks()[::3])\n",
    "ax3.text(0.05, 0.9,'Tamil Nadu', transform = ax3.transAxes, fontsize=20);\n",
    "ax3.spines['right'].set_visible(False)\n",
    "ax3.spines['top'].set_visible(False)\n",
    "\n",
    "ax5 = fig.add_subplot(gs[1,3])\n",
    "ef = df.loc['Telangana'].rename_axis('date').reset_index()\n",
    "ef['date'] = ef['date'].astype('datetime64[ns]')\n",
    "ax5.bar(ef.date, ef['Telangana'],color = '#007acc',alpha=0.5,)\n",
    "ax5.xaxis.set_major_locator(mdates.WeekdayLocator())\n",
    "ax5.xaxis.set_major_formatter(mdates.DateFormatter('%b %d'))\n",
    "ax5.set_xticks(ax5.get_xticks()[::3])\n",
    "ax5.text(0.05, 0.9,'Telangana', transform = ax5.transAxes, fontsize=20);\n",
    "ax5.spines['right'].set_visible(False)\n",
    "ax5.spines['top'].set_visible(False)\n",
    "\n",
    "ax6 = fig.add_subplot(gs[1,4])\n",
    "ef = df.loc['Andhra Pradesh'].rename_axis('date').reset_index()\n",
    "ef['date'] = ef['date'].astype('datetime64[ns]')\n",
    "ax6.bar(ef.date, ef['Andhra Pradesh'],color = '#007acc',alpha=0.5,)\n",
    "ax6.xaxis.set_major_locator(mdates.WeekdayLocator())\n",
    "ax6.xaxis.set_major_formatter(mdates.DateFormatter('%b %d'))\n",
    "ax6.set_xticks(ax6.get_xticks()[::3])\n",
    "ax6.text(0.05, 1,'Andhra Pradesh', transform = ax6.transAxes, fontsize=20);\n",
    "ax6.spines['right'].set_visible(False)\n",
    "ax6.spines['top'].set_visible(False)\n",
    "\n",
    "ax4 = fig.add_subplot(gs[1,2])\n",
    "ef = df.loc['Delhi'].rename_axis('date').reset_index()\n",
    "ef['date'] = ef['date'].astype('datetime64[ns]')\n",
    "ax4.bar(ef.date, ef.Delhi,color = '#007acc',alpha=0.5)\n",
    "ax4.set_xticks([])\n",
    "ax4.xaxis.set_major_locator(mdates.WeekdayLocator())\n",
    "ax4.xaxis.set_major_formatter(mdates.DateFormatter('%b %d'))\n",
    "ax4.set_xticks(ax4.get_xticks()[::3])\n",
    "ax4.spines['right'].set_visible(False)\n",
    "ax4.spines['top'].set_visible(False)\n",
    "\n",
    "ax4.text(0.05, 1,'Delhi', transform = ax4.transAxes, fontsize=20)\n",
    "\n",
    "for i in range(n):\n",
    "    \n",
    "    ax.append(fig.add_subplot(gs[i+2,:]))\n",
    "    ef = df.iloc[i+3].rename_axis('date').reset_index()\n",
    "    ef['date'] = ef['date'].astype('datetime64[ns]')\n",
    "    ax[i].bar(ef.date,ef.iloc[:,-1],color = '#007acc',alpha=0.3)\n",
    "    ax[i].plot(ef.date,ef.iloc[:,-1],marker='o',color='#007acc')\n",
    "    ax[i].text(0.02,0.5,f'{ef.columns.values[-1]}',transform = ax[i].transAxes, fontsize = 20);\n",
    "    ax[i].xaxis.set_major_locator(mdates.WeekdayLocator())\n",
    "    ax[i].xaxis.set_major_formatter(mdates.DateFormatter('%b %d'))\n",
    "    ax[i].set_ylim([0,7000])\n",
    "    ax[i].spines['right'].set_visible(False)\n",
    "    ax[i].spines['top'].set_visible(False)\n",
    "plt.tight_layout()\n"
   ]
  },
  {
   "cell_type": "code",
   "execution_count": 20,
   "id": "dress-forge",
   "metadata": {
    "execution": {
     "iopub.execute_input": "2021-02-23T13:53:27.189277Z",
     "iopub.status.busy": "2021-02-23T13:53:27.188582Z",
     "iopub.status.idle": "2021-02-23T13:53:27.193797Z",
     "shell.execute_reply": "2021-02-23T13:53:27.193219Z"
    },
    "papermill": {
     "duration": 0.040244,
     "end_time": "2021-02-23T13:53:27.193940",
     "exception": false,
     "start_time": "2021-02-23T13:53:27.153696",
     "status": "completed"
    },
    "tags": []
   },
   "outputs": [
    {
     "name": "stdout",
     "output_type": "stream",
     "text": [
      "                                   states    Cases  Deaths   PCases  PDeaths  Cases (+)  Deaths (+)  Fatality Rate\n",
      "                              Maharashtra  2106094   51806  2106094    51806          0           0           2.46\n",
      "                                   Kerala  1036870    4106  1036870     4106          0           0           0.40\n",
      "                                Karnataka   948466   12299   948466    12299          0           0           1.30\n",
      "                           Andhra Pradesh   889339    7167   889339     7167          0           0           0.81\n",
      "                               Tamil Nadu   848724   12466   848724    12466          0           0           1.47\n",
      "                                    Delhi   638173   10903   638028    10901        145           2           1.71\n",
      "                            Uttar Pradesh   602785    8715   602785     8715          0           0           1.45\n",
      "                              West Bengal   574099   10253   573910    10251        189           2           1.79\n",
      "                                   Odisha   336767    1967   336705     1967         62           0           0.58\n",
      "                                Rajasthan   319626    2785   319626     2785          0           0           0.87\n",
      "                             Chhattisgarh   311159    3806   311159     3806          0           0           1.22\n",
      "                                Telangana   297712    1625   297712     1625          0           0           0.55\n",
      "                                  Haryana   269836    3042   269836     3042          0           0           1.13\n",
      "                                  Gujarat   267419    4406   267419     4406          0           0           1.65\n",
      "                                    Bihar   262244    1536   262244     1536          0           0           0.59\n",
      "                           Madhya Pradesh   259721    3854   259721     3854          0           0           1.48\n",
      "                                    Assam   217406    1091   217406     1091          0           0           0.50\n",
      "                                   Punjab   178847    5769   178847     5769          0           0           3.23\n",
      "                        Jammu and Kashmir   125925    1954   125925     1954          0           0           1.55\n",
      "                                Jharkhand   119637    1086   119637     1086          0           0           0.91\n",
      "                              Uttarakhand    96719    1689    96719     1689          0           0           1.75\n",
      "                         Himachal Pradesh    58403     982    58403      982          0           0           1.68\n",
      "                                      Goa    54591     787    54591      787          0           0           1.44\n",
      "                               Puducherry    39600     663    39600      663          0           0           1.67\n",
      "                                  Tripura    33395     388    33391      388          4           0           1.16\n",
      "                                  Manipur    29240     373    29240      373          0           0           1.28\n",
      "                               Chandigarh    21463     350    21463      350          0           0           1.63\n",
      "                        Arunachal Pradesh    16836      56    16836       56          0           0           0.33\n",
      "                                Meghalaya    13954     148    13954      148          0           0           1.06\n",
      "                                 Nagaland    12192      91    12192       91          0           0           0.75\n",
      "                                   Ladakh     9787     130     9787      130          0           0           1.33\n",
      "                                   Sikkim     6132     135     6132      135          0           0           2.20\n",
      "              Andaman and Nicobar Islands     5015      62     5015       62          0           0           1.24\n",
      "                                  Mizoram     4409      10     4409       10          0           0           0.23\n",
      " Dadra and Nagar Haveli and Daman and Diu     3384       2     3384        2          0           0           0.06\n",
      "                              Lakshadweep      295       0      295        0          0           0           0.00\n"
     ]
    }
   ],
   "source": [
    "#hide_input\n",
    "print(df_table.to_string(index=False))"
   ]
  },
  {
   "cell_type": "code",
   "execution_count": null,
   "id": "quantitative-legend",
   "metadata": {
    "papermill": {
     "duration": 0.026354,
     "end_time": "2021-02-23T13:53:27.247322",
     "exception": false,
     "start_time": "2021-02-23T13:53:27.220968",
     "status": "completed"
    },
    "tags": []
   },
   "outputs": [],
   "source": []
  },
  {
   "cell_type": "code",
   "execution_count": null,
   "id": "distant-acoustic",
   "metadata": {
    "papermill": {
     "duration": 0.025766,
     "end_time": "2021-02-23T13:53:27.299315",
     "exception": false,
     "start_time": "2021-02-23T13:53:27.273549",
     "status": "completed"
    },
    "tags": []
   },
   "outputs": [],
   "source": []
  }
 ],
 "metadata": {
  "kernelspec": {
   "display_name": "Python 3",
   "language": "python",
   "name": "python3"
  },
  "language_info": {
   "codemirror_mode": {
    "name": "ipython",
    "version": 3
   },
   "file_extension": ".py",
   "mimetype": "text/x-python",
   "name": "python",
   "nbconvert_exporter": "python",
   "pygments_lexer": "ipython3",
   "version": "3.6.12"
  },
  "papermill": {
   "duration": 23.069334,
   "end_time": "2021-02-23T13:53:28.036444",
   "environment_variables": {},
   "exception": null,
   "input_path": "latest.ipynb",
   "output_path": "latest.ipynb",
   "parameters": {},
   "start_time": "2021-02-23T13:53:04.967110",
   "version": "2.1.2"
  }
 },
 "nbformat": 4,
 "nbformat_minor": 5
}