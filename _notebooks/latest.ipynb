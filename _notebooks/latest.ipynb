{
 "cells": [
  {
   "cell_type": "markdown",
   "metadata": {
    "papermill": {
     "duration": 0.019495,
     "end_time": "2020-09-11T03:38:20.605428",
     "exception": false,
     "start_time": "2020-09-11T03:38:20.585933",
     "status": "completed"
    },
    "tags": []
   },
   "source": [
    "# Latest COVID-19 India Matplotlib Overview"
   ]
  },
  {
   "cell_type": "code",
   "execution_count": 1,
   "metadata": {
    "execution": {
     "iopub.execute_input": "2020-09-11T03:38:20.643517Z",
     "iopub.status.busy": "2020-09-11T03:38:20.642921Z",
     "iopub.status.idle": "2020-09-11T03:38:21.212578Z",
     "shell.execute_reply": "2020-09-11T03:38:21.213321Z"
    },
    "papermill": {
     "duration": 0.592221,
     "end_time": "2020-09-11T03:38:21.213485",
     "exception": false,
     "start_time": "2020-09-11T03:38:20.621264",
     "status": "completed"
    },
    "tags": []
   },
   "outputs": [],
   "source": [
    "#hide\n",
    "import pandas as pd\n",
    "import numpy as np\n",
    "import requests\n",
    "import json\n",
    "import matplotlib.pyplot as plt\n",
    "import matplotlib.dates as mdates\n",
    "import matplotlib as mpl\n",
    "from IPython.core.display import display,HTML\n",
    "%matplotlib inline\n",
    "from datetime import date"
   ]
  },
  {
   "cell_type": "code",
   "execution_count": 2,
   "metadata": {
    "execution": {
     "iopub.execute_input": "2020-09-11T03:38:21.250439Z",
     "iopub.status.busy": "2020-09-11T03:38:21.249843Z",
     "iopub.status.idle": "2020-09-11T03:38:21.378694Z",
     "shell.execute_reply": "2020-09-11T03:38:21.378144Z"
    },
    "papermill": {
     "duration": 0.150475,
     "end_time": "2020-09-11T03:38:21.378832",
     "exception": false,
     "start_time": "2020-09-11T03:38:21.228357",
     "status": "completed"
    },
    "tags": []
   },
   "outputs": [],
   "source": [
    "#hide\n",
    "df  = pd.read_csv('https://api.covid19india.org/csv/latest/states.csv')\n",
    "df = df[['Date','State','Confirmed','Deceased']]\n",
    "df = df.rename(columns={'Confirmed':'Cases', \"Deceased\":'Deaths'})\n",
    "df_cases = df[[\"Date\",'State','Cases']]\n",
    "df_deaths = df[['Date','State','Deaths']]\n",
    "df_cases1 = df_cases.groupby('Date')\n",
    "df_deaths1= df_deaths.groupby('Date')"
   ]
  },
  {
   "cell_type": "code",
   "execution_count": 3,
   "metadata": {
    "execution": {
     "iopub.execute_input": "2020-09-11T03:38:21.414220Z",
     "iopub.status.busy": "2020-09-11T03:38:21.413633Z",
     "iopub.status.idle": "2020-09-11T03:38:21.430940Z",
     "shell.execute_reply": "2020-09-11T03:38:21.430467Z"
    },
    "papermill": {
     "duration": 0.036895,
     "end_time": "2020-09-11T03:38:21.431074",
     "exception": false,
     "start_time": "2020-09-11T03:38:21.394179",
     "status": "completed"
    },
    "tags": []
   },
   "outputs": [],
   "source": [
    "#hide\n",
    "df_snap = pd.read_csv('data/SnapshotCases-28-July.csv')\n",
    "arr_states = df_snap['states'].unique()\n",
    "arr_dates = df['Date'].unique()\n",
    "df_snap = df_snap.set_index('states')"
   ]
  },
  {
   "cell_type": "code",
   "execution_count": 4,
   "metadata": {
    "execution": {
     "iopub.execute_input": "2020-09-11T03:38:21.673471Z",
     "iopub.status.busy": "2020-09-11T03:38:21.672788Z",
     "iopub.status.idle": "2020-09-11T03:38:21.676238Z",
     "shell.execute_reply": "2020-09-11T03:38:21.677063Z"
    },
    "papermill": {
     "duration": 0.231136,
     "end_time": "2020-09-11T03:38:21.677228",
     "exception": false,
     "start_time": "2020-09-11T03:38:21.446092",
     "status": "completed"
    },
    "tags": []
   },
   "outputs": [
    {
     "data": {
      "text/plain": [
       "array(['Andaman and Nicobar Islands', 'Andhra Pradesh',\n",
       "       'Arunachal Pradesh', 'Assam', 'Bihar', 'Chandigarh',\n",
       "       'Dadra and Nagar Haveli and Daman and Diu', 'Delhi', 'Goa',\n",
       "       'Gujarat', 'Haryana', 'Himachal Pradesh', 'Jammu and Kashmir',\n",
       "       'Jharkhand', 'Karnataka', 'Kerala', 'Lakshadweep',\n",
       "       'Madhya Pradesh', 'Maharashtra', 'Manipur', 'Meghalaya', 'Mizoram',\n",
       "       'Nagaland', 'Odisha', 'Puducherry', 'Punjab', 'Rajasthan',\n",
       "       'Sikkim', 'Tamil Nadu', 'Telangana', 'Tripura', 'Uttar Pradesh',\n",
       "       'West Bengal', 'Chhattisgarh', 'Ladakh', 'Uttarakhand'],\n",
       "      dtype=object)"
      ]
     },
     "execution_count": 4,
     "metadata": {},
     "output_type": "execute_result"
    }
   ],
   "source": [
    "#hide\n",
    "arr_states[-9] = 'Puducherry'\n",
    "arr_states[-10] = 'Odisha'\n",
    "arr_states[6] = 'Dadra and Nagar Haveli and Daman and Diu'\n",
    "arr_states = np.append(arr_states,np.array(['Chhattisgarh','Ladakh','Uttarakhand']))\n",
    "arr_states"
   ]
  },
  {
   "cell_type": "code",
   "execution_count": 5,
   "metadata": {
    "execution": {
     "iopub.execute_input": "2020-09-11T03:38:21.740844Z",
     "iopub.status.busy": "2020-09-11T03:38:21.740163Z",
     "iopub.status.idle": "2020-09-11T03:38:21.748687Z",
     "shell.execute_reply": "2020-09-11T03:38:21.748184Z"
    },
    "papermill": {
     "duration": 0.039553,
     "end_time": "2020-09-11T03:38:21.748849",
     "exception": false,
     "start_time": "2020-09-11T03:38:21.709296",
     "status": "completed"
    },
    "tags": []
   },
   "outputs": [],
   "source": [
    "#hide\n",
    "dates = []\n",
    "for i in arr_dates:\n",
    "    if i>='2020-07-01':\n",
    "        dates.append(i)\n",
    "dict = {'states':dates}\n",
    "for i in arr_states:\n",
    "    dict[i] = [0]*len(dates)\n",
    "dft_cases = pd.DataFrame(dict)\n",
    "dft_deaths = pd.DataFrame(dict)\n"
   ]
  },
  {
   "cell_type": "code",
   "execution_count": 6,
   "metadata": {
    "execution": {
     "iopub.execute_input": "2020-09-11T03:38:21.807443Z",
     "iopub.status.busy": "2020-09-11T03:38:21.806716Z",
     "iopub.status.idle": "2020-09-11T03:38:22.779495Z",
     "shell.execute_reply": "2020-09-11T03:38:22.778690Z"
    },
    "papermill": {
     "duration": 1.014079,
     "end_time": "2020-09-11T03:38:22.779703",
     "exception": false,
     "start_time": "2020-09-11T03:38:21.765624",
     "status": "completed"
    },
    "tags": []
   },
   "outputs": [],
   "source": [
    "#hide\n",
    "for i in range(len(dates)):\n",
    "    df1_deaths = df_deaths1.get_group(dates[i])\n",
    "    for j in range(len(df1_deaths.index)):\n",
    "        if df1_deaths.iloc[j,1] in arr_states:\n",
    "            dft_deaths.loc[i,df1_deaths.iloc[j,1]] = df1_deaths.iloc[j,2]\n",
    "dft_deaths = dft_deaths.set_index('states')"
   ]
  },
  {
   "cell_type": "code",
   "execution_count": 7,
   "metadata": {
    "execution": {
     "iopub.execute_input": "2020-09-11T03:38:22.874515Z",
     "iopub.status.busy": "2020-09-11T03:38:22.873445Z",
     "iopub.status.idle": "2020-09-11T03:38:23.842827Z",
     "shell.execute_reply": "2020-09-11T03:38:23.841778Z"
    },
    "papermill": {
     "duration": 1.039231,
     "end_time": "2020-09-11T03:38:23.842977",
     "exception": false,
     "start_time": "2020-09-11T03:38:22.803746",
     "status": "completed"
    },
    "tags": []
   },
   "outputs": [],
   "source": [
    "#hide\n",
    "for i in range(len(dates)):\n",
    "    df1_cases = df_cases1.get_group(dates[i])\n",
    "    for j in range(len(df1_cases.index)):\n",
    "        if df1_cases.iloc[j,1] in arr_states:\n",
    "            dft_cases.loc[i,df1_cases.iloc[j,1]] = df1_cases.iloc[j,2]\n",
    "dft_cases = dft_cases.set_index('states')"
   ]
  },
  {
   "cell_type": "code",
   "execution_count": 8,
   "metadata": {
    "execution": {
     "iopub.execute_input": "2020-09-11T03:38:23.880447Z",
     "iopub.status.busy": "2020-09-11T03:38:23.878510Z",
     "iopub.status.idle": "2020-09-11T03:38:23.882322Z",
     "shell.execute_reply": "2020-09-11T03:38:23.881842Z"
    },
    "papermill": {
     "duration": 0.024177,
     "end_time": "2020-09-11T03:38:23.882449",
     "exception": false,
     "start_time": "2020-09-11T03:38:23.858272",
     "status": "completed"
    },
    "tags": []
   },
   "outputs": [],
   "source": [
    "#hide\n",
    "dft_cases = dft_cases.T\n",
    "dft_deaths = dft_deaths.T\n",
    "dt_today = dates[-1]\n",
    "dt_yday = dates[-2]"
   ]
  },
  {
   "cell_type": "code",
   "execution_count": 9,
   "metadata": {
    "execution": {
     "iopub.execute_input": "2020-09-11T03:38:23.918591Z",
     "iopub.status.busy": "2020-09-11T03:38:23.915236Z",
     "iopub.status.idle": "2020-09-11T03:38:23.920719Z",
     "shell.execute_reply": "2020-09-11T03:38:23.920262Z"
    },
    "papermill": {
     "duration": 0.024134,
     "end_time": "2020-09-11T03:38:23.920881",
     "exception": false,
     "start_time": "2020-09-11T03:38:23.896747",
     "status": "completed"
    },
    "tags": []
   },
   "outputs": [],
   "source": [
    "#hide\n",
    "dft_cases = dft_cases.reset_index()\n",
    "dft_deaths = dft_deaths.reset_index()\n",
    "dft_cases = dft_cases.rename(columns = {'index':'state'})\n",
    "dft_deaths = dft_deaths.rename(columns = {'index':'state'})"
   ]
  },
  {
   "cell_type": "code",
   "execution_count": 10,
   "metadata": {
    "execution": {
     "iopub.execute_input": "2020-09-11T03:38:23.962427Z",
     "iopub.status.busy": "2020-09-11T03:38:23.961880Z",
     "iopub.status.idle": "2020-09-11T03:38:23.965585Z",
     "shell.execute_reply": "2020-09-11T03:38:23.965065Z"
    },
    "papermill": {
     "duration": 0.029661,
     "end_time": "2020-09-11T03:38:23.965706",
     "exception": false,
     "start_time": "2020-09-11T03:38:23.936045",
     "status": "completed"
    },
    "tags": []
   },
   "outputs": [],
   "source": [
    "#hide\n",
    "dfc_cases = dft_cases.groupby('state')[dt_today].sum()\n",
    "dfc_deaths = dft_deaths.groupby('state')[dt_today].sum()\n",
    "dfp_cases = dft_cases.groupby('state')[dt_yday].sum()\n",
    "dfp_deaths = dft_deaths.groupby('state')[dt_yday].sum()"
   ]
  },
  {
   "cell_type": "code",
   "execution_count": 11,
   "metadata": {
    "execution": {
     "iopub.execute_input": "2020-09-11T03:38:24.008514Z",
     "iopub.status.busy": "2020-09-11T03:38:24.001468Z",
     "iopub.status.idle": "2020-09-11T03:38:24.016801Z",
     "shell.execute_reply": "2020-09-11T03:38:24.016282Z"
    },
    "papermill": {
     "duration": 0.036854,
     "end_time": "2020-09-11T03:38:24.016926",
     "exception": false,
     "start_time": "2020-09-11T03:38:23.980072",
     "status": "completed"
    },
    "tags": []
   },
   "outputs": [
    {
     "data": {
      "text/html": [
       "<div>\n",
       "<style scoped>\n",
       "    .dataframe tbody tr th:only-of-type {\n",
       "        vertical-align: middle;\n",
       "    }\n",
       "\n",
       "    .dataframe tbody tr th {\n",
       "        vertical-align: top;\n",
       "    }\n",
       "\n",
       "    .dataframe thead th {\n",
       "        text-align: right;\n",
       "    }\n",
       "</style>\n",
       "<table border=\"1\" class=\"dataframe\">\n",
       "  <thead>\n",
       "    <tr style=\"text-align: right;\">\n",
       "      <th></th>\n",
       "      <th>states</th>\n",
       "      <th>Cases</th>\n",
       "      <th>Deaths</th>\n",
       "      <th>PCases</th>\n",
       "      <th>PDeaths</th>\n",
       "    </tr>\n",
       "  </thead>\n",
       "  <tbody>\n",
       "    <tr>\n",
       "      <th>0</th>\n",
       "      <td>Maharashtra</td>\n",
       "      <td>990795</td>\n",
       "      <td>28282</td>\n",
       "      <td>990795</td>\n",
       "      <td>28282</td>\n",
       "    </tr>\n",
       "    <tr>\n",
       "      <th>1</th>\n",
       "      <td>Andhra Pradesh</td>\n",
       "      <td>537687</td>\n",
       "      <td>4702</td>\n",
       "      <td>537687</td>\n",
       "      <td>4702</td>\n",
       "    </tr>\n",
       "    <tr>\n",
       "      <th>2</th>\n",
       "      <td>Tamil Nadu</td>\n",
       "      <td>486052</td>\n",
       "      <td>8157</td>\n",
       "      <td>486052</td>\n",
       "      <td>8157</td>\n",
       "    </tr>\n",
       "    <tr>\n",
       "      <th>3</th>\n",
       "      <td>Karnataka</td>\n",
       "      <td>430947</td>\n",
       "      <td>6937</td>\n",
       "      <td>430947</td>\n",
       "      <td>6937</td>\n",
       "    </tr>\n",
       "    <tr>\n",
       "      <th>4</th>\n",
       "      <td>Uttar Pradesh</td>\n",
       "      <td>292029</td>\n",
       "      <td>4206</td>\n",
       "      <td>292029</td>\n",
       "      <td>4206</td>\n",
       "    </tr>\n",
       "  </tbody>\n",
       "</table>\n",
       "</div>"
      ],
      "text/plain": [
       "           states   Cases  Deaths  PCases  PDeaths\n",
       "0     Maharashtra  990795   28282  990795    28282\n",
       "1  Andhra Pradesh  537687    4702  537687     4702\n",
       "2      Tamil Nadu  486052    8157  486052     8157\n",
       "3       Karnataka  430947    6937  430947     6937\n",
       "4   Uttar Pradesh  292029    4206  292029     4206"
      ]
     },
     "execution_count": 11,
     "metadata": {},
     "output_type": "execute_result"
    }
   ],
   "source": [
    "#hide\n",
    "df_table = pd.DataFrame({'states': dfc_cases.index, 'Cases': dfc_cases.values, 'Deaths': dfc_deaths.values, 'PCases': dfp_cases.values, 'PDeaths': dfp_deaths.values}).set_index('states')\n",
    "df_table = df_table.sort_values(by = ['Cases','Deaths'], ascending = [False, False])\n",
    "df_table = df_table.reset_index()\n",
    "df_table.head()"
   ]
  },
  {
   "cell_type": "code",
   "execution_count": 12,
   "metadata": {
    "execution": {
     "iopub.execute_input": "2020-09-11T03:38:24.059769Z",
     "iopub.status.busy": "2020-09-11T03:38:24.051715Z",
     "iopub.status.idle": "2020-09-11T03:38:24.062630Z",
     "shell.execute_reply": "2020-09-11T03:38:24.063131Z"
    },
    "papermill": {
     "duration": 0.03196,
     "end_time": "2020-09-11T03:38:24.063246",
     "exception": false,
     "start_time": "2020-09-11T03:38:24.031286",
     "status": "completed"
    },
    "tags": []
   },
   "outputs": [],
   "source": [
    "#hide\n",
    "for c in 'Cases, Deaths'.split(', '):\n",
    "    df_table[f'{c} (+)'] = (df_table[c] - df_table[f'P{c}']).clip(0)\n",
    "df_table['Fatality Rate'] = (100* df_table['Deaths']/ df_table['Cases']).round(2)"
   ]
  },
  {
   "cell_type": "code",
   "execution_count": 13,
   "metadata": {
    "execution": {
     "iopub.execute_input": "2020-09-11T03:38:24.104547Z",
     "iopub.status.busy": "2020-09-11T03:38:24.101030Z",
     "iopub.status.idle": "2020-09-11T03:38:24.109098Z",
     "shell.execute_reply": "2020-09-11T03:38:24.108300Z"
    },
    "papermill": {
     "duration": 0.030822,
     "end_time": "2020-09-11T03:38:24.109326",
     "exception": false,
     "start_time": "2020-09-11T03:38:24.078504",
     "status": "completed"
    },
    "tags": []
   },
   "outputs": [
    {
     "data": {
      "text/html": [
       "<div>\n",
       "<style scoped>\n",
       "    .dataframe tbody tr th:only-of-type {\n",
       "        vertical-align: middle;\n",
       "    }\n",
       "\n",
       "    .dataframe tbody tr th {\n",
       "        vertical-align: top;\n",
       "    }\n",
       "\n",
       "    .dataframe thead th {\n",
       "        text-align: right;\n",
       "    }\n",
       "</style>\n",
       "<table border=\"1\" class=\"dataframe\">\n",
       "  <thead>\n",
       "    <tr style=\"text-align: right;\">\n",
       "      <th></th>\n",
       "      <th>states</th>\n",
       "      <th>Cases</th>\n",
       "      <th>Deaths</th>\n",
       "      <th>PCases</th>\n",
       "      <th>PDeaths</th>\n",
       "      <th>Cases (+)</th>\n",
       "      <th>Deaths (+)</th>\n",
       "      <th>Fatality Rate</th>\n",
       "    </tr>\n",
       "  </thead>\n",
       "  <tbody>\n",
       "    <tr>\n",
       "      <th>0</th>\n",
       "      <td>Maharashtra</td>\n",
       "      <td>990795</td>\n",
       "      <td>28282</td>\n",
       "      <td>990795</td>\n",
       "      <td>28282</td>\n",
       "      <td>0</td>\n",
       "      <td>0</td>\n",
       "      <td>2.85</td>\n",
       "    </tr>\n",
       "    <tr>\n",
       "      <th>1</th>\n",
       "      <td>Andhra Pradesh</td>\n",
       "      <td>537687</td>\n",
       "      <td>4702</td>\n",
       "      <td>537687</td>\n",
       "      <td>4702</td>\n",
       "      <td>0</td>\n",
       "      <td>0</td>\n",
       "      <td>0.87</td>\n",
       "    </tr>\n",
       "    <tr>\n",
       "      <th>2</th>\n",
       "      <td>Tamil Nadu</td>\n",
       "      <td>486052</td>\n",
       "      <td>8157</td>\n",
       "      <td>486052</td>\n",
       "      <td>8157</td>\n",
       "      <td>0</td>\n",
       "      <td>0</td>\n",
       "      <td>1.68</td>\n",
       "    </tr>\n",
       "    <tr>\n",
       "      <th>3</th>\n",
       "      <td>Karnataka</td>\n",
       "      <td>430947</td>\n",
       "      <td>6937</td>\n",
       "      <td>430947</td>\n",
       "      <td>6937</td>\n",
       "      <td>0</td>\n",
       "      <td>0</td>\n",
       "      <td>1.61</td>\n",
       "    </tr>\n",
       "    <tr>\n",
       "      <th>4</th>\n",
       "      <td>Uttar Pradesh</td>\n",
       "      <td>292029</td>\n",
       "      <td>4206</td>\n",
       "      <td>292029</td>\n",
       "      <td>4206</td>\n",
       "      <td>0</td>\n",
       "      <td>0</td>\n",
       "      <td>1.44</td>\n",
       "    </tr>\n",
       "  </tbody>\n",
       "</table>\n",
       "</div>"
      ],
      "text/plain": [
       "           states   Cases  Deaths  PCases  PDeaths  Cases (+)  Deaths (+)  \\\n",
       "0     Maharashtra  990795   28282  990795    28282          0           0   \n",
       "1  Andhra Pradesh  537687    4702  537687     4702          0           0   \n",
       "2      Tamil Nadu  486052    8157  486052     8157          0           0   \n",
       "3       Karnataka  430947    6937  430947     6937          0           0   \n",
       "4   Uttar Pradesh  292029    4206  292029     4206          0           0   \n",
       "\n",
       "   Fatality Rate  \n",
       "0           2.85  \n",
       "1           0.87  \n",
       "2           1.68  \n",
       "3           1.61  \n",
       "4           1.44  "
      ]
     },
     "execution_count": 13,
     "metadata": {},
     "output_type": "execute_result"
    }
   ],
   "source": [
    "#hide\n",
    "df_table.head()"
   ]
  },
  {
   "cell_type": "code",
   "execution_count": 14,
   "metadata": {
    "execution": {
     "iopub.execute_input": "2020-09-11T03:38:24.154324Z",
     "iopub.status.busy": "2020-09-11T03:38:24.153793Z",
     "iopub.status.idle": "2020-09-11T03:38:24.168803Z",
     "shell.execute_reply": "2020-09-11T03:38:24.169227Z"
    },
    "papermill": {
     "duration": 0.039741,
     "end_time": "2020-09-11T03:38:24.169366",
     "exception": false,
     "start_time": "2020-09-11T03:38:24.129625",
     "status": "completed"
    },
    "tags": []
   },
   "outputs": [
    {
     "data": {
      "text/plain": [
       "{'updated': '2020-09-11',\n",
       " 'since': '2020-09-10',\n",
       " 'Cases': 4562171,\n",
       " 'PCases': 4559725,\n",
       " 'Deaths': 76317,\n",
       " 'PDeaths': 76304,\n",
       " 'Cases (+)': 2446,\n",
       " 'Deaths (+)': 13}"
      ]
     },
     "execution_count": 14,
     "metadata": {},
     "output_type": "execute_result"
    }
   ],
   "source": [
    "#hide\n",
    "summary = {'updated':dates[-1], 'since':dates[-2]}\n",
    "list_names = ['Cases', 'PCases', 'Deaths', 'PDeaths', 'Cases (+)', 'Deaths (+)']\n",
    "for name in list_names:\n",
    "    summary[name] = df_table.sum()[name]\n",
    "summary"
   ]
  },
  {
   "cell_type": "code",
   "execution_count": 15,
   "metadata": {
    "execution": {
     "iopub.execute_input": "2020-09-11T03:38:24.206173Z",
     "iopub.status.busy": "2020-09-11T03:38:24.205576Z",
     "iopub.status.idle": "2020-09-11T03:38:24.207801Z",
     "shell.execute_reply": "2020-09-11T03:38:24.207362Z"
    },
    "papermill": {
     "duration": 0.022199,
     "end_time": "2020-09-11T03:38:24.207916",
     "exception": false,
     "start_time": "2020-09-11T03:38:24.185717",
     "status": "completed"
    },
    "tags": []
   },
   "outputs": [],
   "source": [
    "#hide\n",
    "overview = '''\n",
    "<!-- #######  HTML!! #########-->\n",
    "<h1 style=\"color: #5e9ca0; text-align: center;\">India</h1>\n",
    "<p style=\"text-align: center;\">Last update: <strong>{update}</strong></p>\n",
    "<p style=\"text-align: center;\">Confirmed cases:</p>\n",
    "<p style=\"text-align: center;font-size:24px;\">{cases} (<span style=\"color: #ff0000;\">+{new}</span>)</p>\n",
    "<p style=\"text-align: center;\">Confirmed deaths:</p>\n",
    "<p style=\"text-align: center;font-size:24px;\">{deaths} (<span style=\"color: #ff0000;\">+{dnew}</span>)</p>\n",
    "'''"
   ]
  },
  {
   "cell_type": "code",
   "execution_count": 16,
   "metadata": {
    "execution": {
     "iopub.execute_input": "2020-09-11T03:38:24.250674Z",
     "iopub.status.busy": "2020-09-11T03:38:24.250056Z",
     "iopub.status.idle": "2020-09-11T03:38:24.253792Z",
     "shell.execute_reply": "2020-09-11T03:38:24.253329Z"
    },
    "papermill": {
     "duration": 0.027177,
     "end_time": "2020-09-11T03:38:24.253915",
     "exception": false,
     "start_time": "2020-09-11T03:38:24.226738",
     "status": "completed"
    },
    "tags": []
   },
   "outputs": [
    {
     "data": {
      "text/html": [
       "\n",
       "<!-- #######  HTML!! #########-->\n",
       "<h1 style=\"color: #5e9ca0; text-align: center;\">India</h1>\n",
       "<p style=\"text-align: center;\">Last update: <strong>2020-09-11</strong></p>\n",
       "<p style=\"text-align: center;\">Confirmed cases:</p>\n",
       "<p style=\"text-align: center;font-size:24px;\">4562171 (<span style=\"color: #ff0000;\">+2446</span>)</p>\n",
       "<p style=\"text-align: center;\">Confirmed deaths:</p>\n",
       "<p style=\"text-align: center;font-size:24px;\">76317 (<span style=\"color: #ff0000;\">+13</span>)</p>\n"
      ],
      "text/plain": [
       "<IPython.core.display.HTML object>"
      ]
     },
     "metadata": {},
     "output_type": "display_data"
    }
   ],
   "source": [
    "#hide_input\n",
    "update = summary['updated']\n",
    "cases = summary['Cases']\n",
    "new = summary['Cases (+)']\n",
    "deaths = summary['Deaths']\n",
    "dnew = summary['Deaths (+)']\n",
    "\n",
    "html = HTML(overview.format(update=update, cases=cases,new=new,deaths=deaths,dnew=dnew))\n",
    "\n",
    "display(html)"
   ]
  },
  {
   "cell_type": "code",
   "execution_count": 17,
   "metadata": {
    "execution": {
     "iopub.execute_input": "2020-09-11T03:38:24.297446Z",
     "iopub.status.busy": "2020-09-11T03:38:24.296909Z",
     "iopub.status.idle": "2020-09-11T03:38:24.301638Z",
     "shell.execute_reply": "2020-09-11T03:38:24.301169Z"
    },
    "papermill": {
     "duration": 0.029294,
     "end_time": "2020-09-11T03:38:24.301756",
     "exception": false,
     "start_time": "2020-09-11T03:38:24.272462",
     "status": "completed"
    },
    "tags": []
   },
   "outputs": [],
   "source": [
    "#hide\n",
    "dt_cols = list(dft_cases.columns[1:])\n",
    "dft_ct_new_cases = dft_cases.groupby('state')[dt_cols].sum().diff(axis=1).fillna(0).astype(int)\n",
    "dft_ct_new_cases.sort_values(by = dates[-1], ascending = False,inplace = True)"
   ]
  },
  {
   "cell_type": "code",
   "execution_count": 18,
   "metadata": {
    "execution": {
     "iopub.execute_input": "2020-09-11T03:38:24.343245Z",
     "iopub.status.busy": "2020-09-11T03:38:24.340062Z",
     "iopub.status.idle": "2020-09-11T03:38:24.353025Z",
     "shell.execute_reply": "2020-09-11T03:38:24.353461Z"
    },
    "papermill": {
     "duration": 0.035706,
     "end_time": "2020-09-11T03:38:24.353589",
     "exception": false,
     "start_time": "2020-09-11T03:38:24.317883",
     "status": "completed"
    },
    "tags": []
   },
   "outputs": [
    {
     "data": {
      "text/html": [
       "<div>\n",
       "<style scoped>\n",
       "    .dataframe tbody tr th:only-of-type {\n",
       "        vertical-align: middle;\n",
       "    }\n",
       "\n",
       "    .dataframe tbody tr th {\n",
       "        vertical-align: top;\n",
       "    }\n",
       "\n",
       "    .dataframe thead th {\n",
       "        text-align: right;\n",
       "    }\n",
       "</style>\n",
       "<table border=\"1\" class=\"dataframe\">\n",
       "  <thead>\n",
       "    <tr style=\"text-align: right;\">\n",
       "      <th>states</th>\n",
       "      <th>2020-07-01</th>\n",
       "      <th>2020-07-02</th>\n",
       "      <th>2020-07-03</th>\n",
       "      <th>2020-07-04</th>\n",
       "      <th>2020-07-05</th>\n",
       "      <th>2020-07-06</th>\n",
       "      <th>2020-07-07</th>\n",
       "      <th>2020-07-08</th>\n",
       "      <th>2020-07-09</th>\n",
       "      <th>2020-07-10</th>\n",
       "      <th>...</th>\n",
       "      <th>2020-09-02</th>\n",
       "      <th>2020-09-03</th>\n",
       "      <th>2020-09-04</th>\n",
       "      <th>2020-09-05</th>\n",
       "      <th>2020-09-06</th>\n",
       "      <th>2020-09-07</th>\n",
       "      <th>2020-09-08</th>\n",
       "      <th>2020-09-09</th>\n",
       "      <th>2020-09-10</th>\n",
       "      <th>2020-09-11</th>\n",
       "    </tr>\n",
       "    <tr>\n",
       "      <th>state</th>\n",
       "      <th></th>\n",
       "      <th></th>\n",
       "      <th></th>\n",
       "      <th></th>\n",
       "      <th></th>\n",
       "      <th></th>\n",
       "      <th></th>\n",
       "      <th></th>\n",
       "      <th></th>\n",
       "      <th></th>\n",
       "      <th></th>\n",
       "      <th></th>\n",
       "      <th></th>\n",
       "      <th></th>\n",
       "      <th></th>\n",
       "      <th></th>\n",
       "      <th></th>\n",
       "      <th></th>\n",
       "      <th></th>\n",
       "      <th></th>\n",
       "      <th></th>\n",
       "    </tr>\n",
       "  </thead>\n",
       "  <tbody>\n",
       "    <tr>\n",
       "      <th>Telangana</th>\n",
       "      <td>0</td>\n",
       "      <td>1213</td>\n",
       "      <td>1892</td>\n",
       "      <td>1850</td>\n",
       "      <td>1590</td>\n",
       "      <td>1831</td>\n",
       "      <td>1879</td>\n",
       "      <td>1924</td>\n",
       "      <td>1410</td>\n",
       "      <td>1278</td>\n",
       "      <td>...</td>\n",
       "      <td>2892</td>\n",
       "      <td>2817</td>\n",
       "      <td>2478</td>\n",
       "      <td>2511</td>\n",
       "      <td>2574</td>\n",
       "      <td>1802</td>\n",
       "      <td>2392</td>\n",
       "      <td>2479</td>\n",
       "      <td>2534</td>\n",
       "      <td>2426</td>\n",
       "    </tr>\n",
       "    <tr>\n",
       "      <th>Mizoram</th>\n",
       "      <td>0</td>\n",
       "      <td>2</td>\n",
       "      <td>0</td>\n",
       "      <td>2</td>\n",
       "      <td>22</td>\n",
       "      <td>11</td>\n",
       "      <td>1</td>\n",
       "      <td>5</td>\n",
       "      <td>0</td>\n",
       "      <td>23</td>\n",
       "      <td>...</td>\n",
       "      <td>8</td>\n",
       "      <td>20</td>\n",
       "      <td>6</td>\n",
       "      <td>16</td>\n",
       "      <td>31</td>\n",
       "      <td>21</td>\n",
       "      <td>9</td>\n",
       "      <td>69</td>\n",
       "      <td>141</td>\n",
       "      <td>20</td>\n",
       "    </tr>\n",
       "    <tr>\n",
       "      <th>Andaman and Nicobar Islands</th>\n",
       "      <td>0</td>\n",
       "      <td>9</td>\n",
       "      <td>7</td>\n",
       "      <td>3</td>\n",
       "      <td>6</td>\n",
       "      <td>16</td>\n",
       "      <td>6</td>\n",
       "      <td>2</td>\n",
       "      <td>7</td>\n",
       "      <td>0</td>\n",
       "      <td>...</td>\n",
       "      <td>26</td>\n",
       "      <td>37</td>\n",
       "      <td>34</td>\n",
       "      <td>35</td>\n",
       "      <td>40</td>\n",
       "      <td>27</td>\n",
       "      <td>33</td>\n",
       "      <td>34</td>\n",
       "      <td>39</td>\n",
       "      <td>0</td>\n",
       "    </tr>\n",
       "    <tr>\n",
       "      <th>Puducherry</th>\n",
       "      <td>0</td>\n",
       "      <td>63</td>\n",
       "      <td>22</td>\n",
       "      <td>80</td>\n",
       "      <td>42</td>\n",
       "      <td>65</td>\n",
       "      <td>30</td>\n",
       "      <td>110</td>\n",
       "      <td>49</td>\n",
       "      <td>72</td>\n",
       "      <td>...</td>\n",
       "      <td>391</td>\n",
       "      <td>424</td>\n",
       "      <td>591</td>\n",
       "      <td>394</td>\n",
       "      <td>466</td>\n",
       "      <td>284</td>\n",
       "      <td>433</td>\n",
       "      <td>335</td>\n",
       "      <td>452</td>\n",
       "      <td>0</td>\n",
       "    </tr>\n",
       "    <tr>\n",
       "      <th>Maharashtra</th>\n",
       "      <td>0</td>\n",
       "      <td>6328</td>\n",
       "      <td>6364</td>\n",
       "      <td>7074</td>\n",
       "      <td>6555</td>\n",
       "      <td>5368</td>\n",
       "      <td>5134</td>\n",
       "      <td>6603</td>\n",
       "      <td>6875</td>\n",
       "      <td>7862</td>\n",
       "      <td>...</td>\n",
       "      <td>17433</td>\n",
       "      <td>18105</td>\n",
       "      <td>19218</td>\n",
       "      <td>20800</td>\n",
       "      <td>23350</td>\n",
       "      <td>16429</td>\n",
       "      <td>20131</td>\n",
       "      <td>23577</td>\n",
       "      <td>23446</td>\n",
       "      <td>0</td>\n",
       "    </tr>\n",
       "  </tbody>\n",
       "</table>\n",
       "<p>5 rows × 73 columns</p>\n",
       "</div>"
      ],
      "text/plain": [
       "states                       2020-07-01  2020-07-02  2020-07-03  2020-07-04  \\\n",
       "state                                                                         \n",
       "Telangana                             0        1213        1892        1850   \n",
       "Mizoram                               0           2           0           2   \n",
       "Andaman and Nicobar Islands           0           9           7           3   \n",
       "Puducherry                            0          63          22          80   \n",
       "Maharashtra                           0        6328        6364        7074   \n",
       "\n",
       "states                       2020-07-05  2020-07-06  2020-07-07  2020-07-08  \\\n",
       "state                                                                         \n",
       "Telangana                          1590        1831        1879        1924   \n",
       "Mizoram                              22          11           1           5   \n",
       "Andaman and Nicobar Islands           6          16           6           2   \n",
       "Puducherry                           42          65          30         110   \n",
       "Maharashtra                        6555        5368        5134        6603   \n",
       "\n",
       "states                       2020-07-09  2020-07-10  ...  2020-09-02  \\\n",
       "state                                                ...               \n",
       "Telangana                          1410        1278  ...        2892   \n",
       "Mizoram                               0          23  ...           8   \n",
       "Andaman and Nicobar Islands           7           0  ...          26   \n",
       "Puducherry                           49          72  ...         391   \n",
       "Maharashtra                        6875        7862  ...       17433   \n",
       "\n",
       "states                       2020-09-03  2020-09-04  2020-09-05  2020-09-06  \\\n",
       "state                                                                         \n",
       "Telangana                          2817        2478        2511        2574   \n",
       "Mizoram                              20           6          16          31   \n",
       "Andaman and Nicobar Islands          37          34          35          40   \n",
       "Puducherry                          424         591         394         466   \n",
       "Maharashtra                       18105       19218       20800       23350   \n",
       "\n",
       "states                       2020-09-07  2020-09-08  2020-09-09  2020-09-10  \\\n",
       "state                                                                         \n",
       "Telangana                          1802        2392        2479        2534   \n",
       "Mizoram                              21           9          69         141   \n",
       "Andaman and Nicobar Islands          27          33          34          39   \n",
       "Puducherry                          284         433         335         452   \n",
       "Maharashtra                       16429       20131       23577       23446   \n",
       "\n",
       "states                       2020-09-11  \n",
       "state                                    \n",
       "Telangana                          2426  \n",
       "Mizoram                              20  \n",
       "Andaman and Nicobar Islands           0  \n",
       "Puducherry                            0  \n",
       "Maharashtra                           0  \n",
       "\n",
       "[5 rows x 73 columns]"
      ]
     },
     "execution_count": 18,
     "metadata": {},
     "output_type": "execute_result"
    }
   ],
   "source": [
    "#hide\n",
    "dft_ct_new_cases.head()"
   ]
  },
  {
   "cell_type": "code",
   "execution_count": 19,
   "metadata": {
    "execution": {
     "iopub.execute_input": "2020-09-11T03:38:24.406303Z",
     "iopub.status.busy": "2020-09-11T03:38:24.396022Z",
     "iopub.status.idle": "2020-09-11T03:38:27.394135Z",
     "shell.execute_reply": "2020-09-11T03:38:27.394555Z"
    },
    "papermill": {
     "duration": 3.023725,
     "end_time": "2020-09-11T03:38:27.394698",
     "exception": false,
     "start_time": "2020-09-11T03:38:24.370973",
     "status": "completed"
    },
    "tags": []
   },
   "outputs": [
    {
     "data": {
      "image/png": "[encoded data removed]",
      "text/plain": [
       "<Figure size 1296x2016 with 11 Axes>"
      ]
     },
     "metadata": {
      "needs_background": "light"
     },
     "output_type": "display_data"
    }
   ],
   "source": [
    "#hide_input\n",
    "df = dft_ct_new_cases.copy()\n",
    "df.loc['Total'] = df.sum()\n",
    "n = 5\n",
    "ax = []\n",
    "fig = plt.figure(figsize = (18,28))\n",
    "gs = fig.add_gridspec(n+2, 5)\n",
    "# gs = fig.add_gridspec(2, 3)\n",
    "ax1 = fig.add_subplot(gs[0, :])\n",
    "ef = df.loc['Total'].rename_axis('date').reset_index()\n",
    "ef['date'] = ef['date'].astype('datetime64[ns]')\n",
    "ax1.bar(ef.date,ef.Total,alpha=0.3,color='#007acc')\n",
    "ax1.plot(ef.date,ef.Total , marker=\"o\", color='#007acc')\n",
    "ax1.xaxis.set_major_locator(mdates.WeekdayLocator())\n",
    "ax1.xaxis.set_major_formatter(mdates.DateFormatter('%b %d'))\n",
    "ax1.text(0.02, 0.5,'India daily case count', transform = ax1.transAxes, fontsize=25);\n",
    "ax1.spines['right'].set_visible(False)\n",
    "ax1.spines['top'].set_visible(False)\n",
    "\n",
    "ax2 = fig.add_subplot(gs[1,0])\n",
    "ef = df.loc['Maharashtra'].rename_axis('date').reset_index()\n",
    "ef['date'] = ef['date'].astype('datetime64[ns]')\n",
    "\n",
    "ax2.bar(ef.date, ef.Maharashtra,color = '#007acc',alpha=0.5)\n",
    "ax2.xaxis.set_major_locator(mdates.WeekdayLocator())\n",
    "ax2.xaxis.set_major_formatter(mdates.DateFormatter('%b %d'))\n",
    "ax2.set_xticks(ax2.get_xticks()[::3])\n",
    "maxyval = ef.Maharashtra.max()\n",
    "ax2.set_ylim([0,maxyval])\n",
    "ax2.text(0.05, 0.9,'Maharashtra', transform = ax2.transAxes, fontsize=20);\n",
    "ax2.spines['right'].set_visible(False)\n",
    "ax2.spines['top'].set_visible(False)\n",
    "\n",
    "\n",
    "ax3 = fig.add_subplot(gs[1,1])\n",
    "ef = df.loc['Tamil Nadu'].rename_axis('date').reset_index()\n",
    "ef['date'] = ef['date'].astype('datetime64[ns]')\n",
    "ax3.bar(ef.date, ef['Tamil Nadu'],color = '#007acc',alpha=0.5,)\n",
    "ax3.xaxis.set_major_locator(mdates.WeekdayLocator())\n",
    "ax3.xaxis.set_major_formatter(mdates.DateFormatter('%b %d'))\n",
    "ax3.set_xticks(ax3.get_xticks()[::3])\n",
    "ax3.text(0.05, 0.9,'Tamil Nadu', transform = ax3.transAxes, fontsize=20);\n",
    "ax3.spines['right'].set_visible(False)\n",
    "ax3.spines['top'].set_visible(False)\n",
    "\n",
    "ax5 = fig.add_subplot(gs[1,3])\n",
    "ef = df.loc['Telangana'].rename_axis('date').reset_index()\n",
    "ef['date'] = ef['date'].astype('datetime64[ns]')\n",
    "ax5.bar(ef.date, ef['Telangana'],color = '#007acc',alpha=0.5,)\n",
    "ax5.xaxis.set_major_locator(mdates.WeekdayLocator())\n",
    "ax5.xaxis.set_major_formatter(mdates.DateFormatter('%b %d'))\n",
    "ax5.set_xticks(ax5.get_xticks()[::3])\n",
    "ax5.text(0.05, 0.9,'Telangana', transform = ax5.transAxes, fontsize=20);\n",
    "ax5.spines['right'].set_visible(False)\n",
    "ax5.spines['top'].set_visible(False)\n",
    "\n",
    "ax6 = fig.add_subplot(gs[1,4])\n",
    "ef = df.loc['Andhra Pradesh'].rename_axis('date').reset_index()\n",
    "ef['date'] = ef['date'].astype('datetime64[ns]')\n",
    "ax6.bar(ef.date, ef['Andhra Pradesh'],color = '#007acc',alpha=0.5,)\n",
    "ax6.xaxis.set_major_locator(mdates.WeekdayLocator())\n",
    "ax6.xaxis.set_major_formatter(mdates.DateFormatter('%b %d'))\n",
    "ax6.set_xticks(ax6.get_xticks()[::3])\n",
    "ax6.text(0.05, 1,'Andhra Pradesh', transform = ax6.transAxes, fontsize=20);\n",
    "ax6.spines['right'].set_visible(False)\n",
    "ax6.spines['top'].set_visible(False)\n",
    "\n",
    "ax4 = fig.add_subplot(gs[1,2])\n",
    "ef = df.loc['Delhi'].rename_axis('date').reset_index()\n",
    "ef['date'] = ef['date'].astype('datetime64[ns]')\n",
    "ax4.bar(ef.date, ef.Delhi,color = '#007acc',alpha=0.5)\n",
    "ax4.set_xticks([])\n",
    "ax4.xaxis.set_major_locator(mdates.WeekdayLocator())\n",
    "ax4.xaxis.set_major_formatter(mdates.DateFormatter('%b %d'))\n",
    "ax4.set_xticks(ax4.get_xticks()[::3])\n",
    "ax4.spines['right'].set_visible(False)\n",
    "ax4.spines['top'].set_visible(False)\n",
    "\n",
    "ax4.text(0.05, 1,'Delhi', transform = ax4.transAxes, fontsize=20)\n",
    "\n",
    "for i in range(n):\n",
    "    \n",
    "    ax.append(fig.add_subplot(gs[i+2,:]))\n",
    "    ef = df.iloc[i+3].rename_axis('date').reset_index()\n",
    "    ef['date'] = ef['date'].astype('datetime64[ns]')\n",
    "    ax[i].bar(ef.date,ef.iloc[:,-1],color = '#007acc',alpha=0.3)\n",
    "    ax[i].plot(ef.date,ef.iloc[:,-1],marker='o',color='#007acc')\n",
    "    ax[i].text(0.02,0.5,f'{ef.columns.values[-1]}',transform = ax[i].transAxes, fontsize = 20);\n",
    "    ax[i].xaxis.set_major_locator(mdates.WeekdayLocator())\n",
    "    ax[i].xaxis.set_major_formatter(mdates.DateFormatter('%b %d'))\n",
    "    ax[i].set_ylim([0,7000])\n",
    "    ax[i].spines['right'].set_visible(False)\n",
    "    ax[i].spines['top'].set_visible(False)\n",
    "plt.tight_layout()\n"
   ]
  },
  {
   "cell_type": "code",
   "execution_count": 20,
   "metadata": {
    "execution": {
     "iopub.execute_input": "2020-09-11T03:38:27.451152Z",
     "iopub.status.busy": "2020-09-11T03:38:27.450527Z",
     "iopub.status.idle": "2020-09-11T03:38:27.452609Z",
     "shell.execute_reply": "2020-09-11T03:38:27.453095Z"
    },
    "papermill": {
     "duration": 0.035426,
     "end_time": "2020-09-11T03:38:27.453234",
     "exception": false,
     "start_time": "2020-09-11T03:38:27.417808",
     "status": "completed"
    },
    "tags": []
   },
   "outputs": [
    {
     "name": "stdout",
     "output_type": "stream",
     "text": [
      "                                   states   Cases  Deaths  PCases  PDeaths  Cases (+)  Deaths (+)  Fatality Rate\n",
      "                              Maharashtra  990795   28282  990795    28282          0           0           2.85\n",
      "                           Andhra Pradesh  537687    4702  537687     4702          0           0           0.87\n",
      "                               Tamil Nadu  486052    8157  486052     8157          0           0           1.68\n",
      "                                Karnataka  430947    6937  430947     6937          0           0           1.61\n",
      "                            Uttar Pradesh  292029    4206  292029     4206          0           0           1.44\n",
      "                                    Delhi  205482    4666  205482     4666          0           0           2.27\n",
      "                              West Bengal  193175    3771  193175     3771          0           0           1.95\n",
      "                                    Bihar  153735     785  153735      785          0           0           0.51\n",
      "                                Telangana  152602     940  150176      927       2426          13           0.62\n",
      "                                   Odisha  139121     644  139121      644          0           0           0.46\n",
      "                                    Assam  135805     414  135805      414          0           0           0.30\n",
      "                                  Gujarat  109627    3165  109627     3165          0           0           2.89\n",
      "                                   Kerala   99267     397   99267      397          0           0           0.40\n",
      "                                Rajasthan   97376    1192   97376     1192          0           0           1.22\n",
      "                                  Haryana   85944     907   85944      907          0           0           1.06\n",
      "                           Madhya Pradesh   81379    1661   81379     1661          0           0           2.04\n",
      "                                   Punjab   72143    2149   72143     2149          0           0           2.98\n",
      "                                Jharkhand   58079     517   58079      517          0           0           0.89\n",
      "                             Chhattisgarh   55680     493   55680      493          0           0           0.89\n",
      "                        Jammu and Kashmir   49134     845   49134      845          0           0           1.72\n",
      "                              Uttarakhand   28226     377   28226      377          0           0           1.34\n",
      "                                      Goa   22890     268   22890      268          0           0           1.17\n",
      "                               Puducherry   18536     353   18536      353          0           0           1.90\n",
      "                                  Tripura   17271     167   17271      167          0           0           0.97\n",
      "                         Himachal Pradesh    8466      65    8466       65          0           0           0.77\n",
      "                                  Manipur    7470      44    7470       44          0           0           0.59\n",
      "                               Chandigarh    6987      80    6987       80          0           0           1.14\n",
      "                        Arunachal Pradesh    5672       9    5672        9          0           0           0.16\n",
      "                                 Nagaland    4636       8    4636        8          0           0           0.17\n",
      "              Andaman and Nicobar Islands    3465      51    3465       51          0           0           1.47\n",
      "                                Meghalaya    3296      20    3296       20          0           0           0.61\n",
      "                                   Ladakh    3177      36    3177       36          0           0           1.13\n",
      " Dadra and Nagar Haveli and Daman and Diu    2658       2    2658        2          0           0           0.08\n",
      "                                   Sikkim    2009       7    2009        7          0           0           0.35\n",
      "                                  Mizoram    1353       0    1333        0         20           0           0.00\n",
      "                              Lakshadweep       0       0       0        0          0           0            NaN\n"
     ]
    }
   ],
   "source": [
    "#hide_input\n",
    "print(df_table.to_string(index=False))"
   ]
  },
  {
   "cell_type": "code",
   "execution_count": null,
   "metadata": {
    "papermill": {
     "duration": 0.022239,
     "end_time": "2020-09-11T03:38:27.497086",
     "exception": false,
     "start_time": "2020-09-11T03:38:27.474847",
     "status": "completed"
    },
    "tags": []
   },
   "outputs": [],
   "source": []
  },
  {
   "cell_type": "code",
   "execution_count": null,
   "metadata": {
    "papermill": {
     "duration": 0.022239,
     "end_time": "2020-09-11T03:38:27.540253",
     "exception": false,
     "start_time": "2020-09-11T03:38:27.518014",
     "status": "completed"
    },
    "tags": []
   },
   "outputs": [],
   "source": []
  }
 ],
 "metadata": {
  "kernelspec": {
   "display_name": "Python 3",
   "language": "python",
   "name": "python3"
  },
  "language_info": {
   "codemirror_mode": {
    "name": "ipython",
    "version": 3
   },
   "file_extension": ".py",
   "mimetype": "text/x-python",
   "name": "python",
   "nbconvert_exporter": "python",
   "pygments_lexer": "ipython3",
   "version": "3.6.12"
  },
  "papermill": {
   "duration": 9.297824,
   "end_time": "2020-09-11T03:38:28.829535",
   "environment_variables": {},
   "exception": null,
   "input_path": "latest.ipynb",
   "output_path": "latest.ipynb",
   "parameters": {},
   "start_time": "2020-09-11T03:38:19.531711",
   "version": "2.1.2"
  }
 },
 "nbformat": 4,
 "nbformat_minor": 4
}