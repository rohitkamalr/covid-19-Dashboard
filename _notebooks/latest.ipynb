{
 "cells": [
  {
   "cell_type": "markdown",
   "metadata": {
    "papermill": {
     "duration": 0.019639,
     "end_time": "2020-10-26T11:25:59.951891",
     "exception": false,
     "start_time": "2020-10-26T11:25:59.932252",
     "status": "completed"
    },
    "tags": []
   },
   "source": [
    "# Latest COVID-19 India Matplotlib Overview"
   ]
  },
  {
   "cell_type": "code",
   "execution_count": 1,
   "metadata": {
    "execution": {
     "iopub.execute_input": "2020-10-26T11:25:59.992752Z",
     "iopub.status.busy": "2020-10-26T11:25:59.991861Z",
     "iopub.status.idle": "2020-10-26T11:26:00.625368Z",
     "shell.execute_reply": "2020-10-26T11:26:00.626310Z"
    },
    "papermill": {
     "duration": 0.657202,
     "end_time": "2020-10-26T11:26:00.626500",
     "exception": false,
     "start_time": "2020-10-26T11:25:59.969298",
     "status": "completed"
    },
    "tags": []
   },
   "outputs": [],
   "source": [
    "#hide\n",
    "import pandas as pd\n",
    "import numpy as np\n",
    "import requests\n",
    "import json\n",
    "import matplotlib.pyplot as plt\n",
    "import matplotlib.dates as mdates\n",
    "import matplotlib as mpl\n",
    "from IPython.core.display import display,HTML\n",
    "%matplotlib inline\n",
    "from datetime import date"
   ]
  },
  {
   "cell_type": "code",
   "execution_count": 2,
   "metadata": {
    "execution": {
     "iopub.execute_input": "2020-10-26T11:26:00.668937Z",
     "iopub.status.busy": "2020-10-26T11:26:00.668115Z",
     "iopub.status.idle": "2020-10-26T11:26:00.878589Z",
     "shell.execute_reply": "2020-10-26T11:26:00.878038Z"
    },
    "papermill": {
     "duration": 0.234892,
     "end_time": "2020-10-26T11:26:00.878804",
     "exception": false,
     "start_time": "2020-10-26T11:26:00.643912",
     "status": "completed"
    },
    "tags": []
   },
   "outputs": [],
   "source": [
    "#hide\n",
    "df  = pd.read_csv('https://api.covid19india.org/csv/latest/states.csv')\n",
    "df = df[['Date','State','Confirmed','Deceased']]\n",
    "df = df.rename(columns={'Confirmed':'Cases', \"Deceased\":'Deaths'})\n",
    "df_cases = df[[\"Date\",'State','Cases']]\n",
    "df_deaths = df[['Date','State','Deaths']]\n",
    "df_cases1 = df_cases.groupby('Date')\n",
    "df_deaths1= df_deaths.groupby('Date')"
   ]
  },
  {
   "cell_type": "code",
   "execution_count": 3,
   "metadata": {
    "execution": {
     "iopub.execute_input": "2020-10-26T11:26:00.917081Z",
     "iopub.status.busy": "2020-10-26T11:26:00.916426Z",
     "iopub.status.idle": "2020-10-26T11:26:00.937187Z",
     "shell.execute_reply": "2020-10-26T11:26:00.937641Z"
    },
    "papermill": {
     "duration": 0.04167,
     "end_time": "2020-10-26T11:26:00.937780",
     "exception": false,
     "start_time": "2020-10-26T11:26:00.896110",
     "status": "completed"
    },
    "tags": []
   },
   "outputs": [],
   "source": [
    "#hide\n",
    "df_snap = pd.read_csv('data/SnapshotCases-28-July.csv')\n",
    "arr_states = df_snap['states'].unique()\n",
    "arr_dates = df['Date'].unique()\n",
    "df_snap = df_snap.set_index('states')"
   ]
  },
  {
   "cell_type": "code",
   "execution_count": 4,
   "metadata": {
    "execution": {
     "iopub.execute_input": "2020-10-26T11:26:00.978424Z",
     "iopub.status.busy": "2020-10-26T11:26:00.977512Z",
     "iopub.status.idle": "2020-10-26T11:26:00.980546Z",
     "shell.execute_reply": "2020-10-26T11:26:00.981086Z"
    },
    "papermill": {
     "duration": 0.027602,
     "end_time": "2020-10-26T11:26:00.981229",
     "exception": false,
     "start_time": "2020-10-26T11:26:00.953627",
     "status": "completed"
    },
    "tags": []
   },
   "outputs": [
    {
     "data": {
      "text/plain": [
       "array(['Andaman and Nicobar Islands', 'Andhra Pradesh',\n",
       "       'Arunachal Pradesh', 'Assam', 'Bihar', 'Chandigarh',\n",
       "       'Dadra and Nagar Haveli and Daman and Diu', 'Delhi', 'Goa',\n",
       "       'Gujarat', 'Haryana', 'Himachal Pradesh', 'Jammu and Kashmir',\n",
       "       'Jharkhand', 'Karnataka', 'Kerala', 'Lakshadweep',\n",
       "       'Madhya Pradesh', 'Maharashtra', 'Manipur', 'Meghalaya', 'Mizoram',\n",
       "       'Nagaland', 'Odisha', 'Puducherry', 'Punjab', 'Rajasthan',\n",
       "       'Sikkim', 'Tamil Nadu', 'Telangana', 'Tripura', 'Uttar Pradesh',\n",
       "       'West Bengal', 'Chhattisgarh', 'Ladakh', 'Uttarakhand'],\n",
       "      dtype=object)"
      ]
     },
     "execution_count": 4,
     "metadata": {},
     "output_type": "execute_result"
    }
   ],
   "source": [
    "#hide\n",
    "arr_states[-9] = 'Puducherry'\n",
    "arr_states[-10] = 'Odisha'\n",
    "arr_states[6] = 'Dadra and Nagar Haveli and Daman and Diu'\n",
    "arr_states = np.append(arr_states,np.array(['Chhattisgarh','Ladakh','Uttarakhand']))\n",
    "arr_states"
   ]
  },
  {
   "cell_type": "code",
   "execution_count": 5,
   "metadata": {
    "execution": {
     "iopub.execute_input": "2020-10-26T11:26:01.025816Z",
     "iopub.status.busy": "2020-10-26T11:26:01.025164Z",
     "iopub.status.idle": "2020-10-26T11:26:01.032911Z",
     "shell.execute_reply": "2020-10-26T11:26:01.033533Z"
    },
    "papermill": {
     "duration": 0.03569,
     "end_time": "2020-10-26T11:26:01.033718",
     "exception": false,
     "start_time": "2020-10-26T11:26:00.998028",
     "status": "completed"
    },
    "tags": []
   },
   "outputs": [],
   "source": [
    "#hide\n",
    "dates = []\n",
    "for i in arr_dates:\n",
    "    if i>='2020-07-01':\n",
    "        dates.append(i)\n",
    "dict = {'states':dates}\n",
    "for i in arr_states:\n",
    "    dict[i] = [0]*len(dates)\n",
    "dft_cases = pd.DataFrame(dict)\n",
    "dft_deaths = pd.DataFrame(dict)\n"
   ]
  },
  {
   "cell_type": "code",
   "execution_count": 6,
   "metadata": {
    "execution": {
     "iopub.execute_input": "2020-10-26T11:26:01.074987Z",
     "iopub.status.busy": "2020-10-26T11:26:01.074326Z",
     "iopub.status.idle": "2020-10-26T11:26:03.234984Z",
     "shell.execute_reply": "2020-10-26T11:26:03.234419Z"
    },
    "papermill": {
     "duration": 2.184115,
     "end_time": "2020-10-26T11:26:03.235198",
     "exception": false,
     "start_time": "2020-10-26T11:26:01.051083",
     "status": "completed"
    },
    "tags": []
   },
   "outputs": [],
   "source": [
    "#hide\n",
    "for i in range(len(dates)):\n",
    "    df1_deaths = df_deaths1.get_group(dates[i])\n",
    "    for j in range(len(df1_deaths.index)):\n",
    "        if df1_deaths.iloc[j,1] in arr_states:\n",
    "            dft_deaths.loc[i,df1_deaths.iloc[j,1]] = df1_deaths.iloc[j,2]\n",
    "dft_deaths = dft_deaths.set_index('states')"
   ]
  },
  {
   "cell_type": "code",
   "execution_count": 7,
   "metadata": {
    "execution": {
     "iopub.execute_input": "2020-10-26T11:26:03.276368Z",
     "iopub.status.busy": "2020-10-26T11:26:03.275634Z",
     "iopub.status.idle": "2020-10-26T11:26:05.411020Z",
     "shell.execute_reply": "2020-10-26T11:26:05.410039Z"
    },
    "papermill": {
     "duration": 2.158135,
     "end_time": "2020-10-26T11:26:05.411169",
     "exception": false,
     "start_time": "2020-10-26T11:26:03.253034",
     "status": "completed"
    },
    "tags": []
   },
   "outputs": [],
   "source": [
    "#hide\n",
    "for i in range(len(dates)):\n",
    "    df1_cases = df_cases1.get_group(dates[i])\n",
    "    for j in range(len(df1_cases.index)):\n",
    "        if df1_cases.iloc[j,1] in arr_states:\n",
    "            dft_cases.loc[i,df1_cases.iloc[j,1]] = df1_cases.iloc[j,2]\n",
    "dft_cases = dft_cases.set_index('states')"
   ]
  },
  {
   "cell_type": "code",
   "execution_count": 8,
   "metadata": {
    "execution": {
     "iopub.execute_input": "2020-10-26T11:26:05.452461Z",
     "iopub.status.busy": "2020-10-26T11:26:05.451141Z",
     "iopub.status.idle": "2020-10-26T11:26:05.453132Z",
     "shell.execute_reply": "2020-10-26T11:26:05.453625Z"
    },
    "papermill": {
     "duration": 0.024333,
     "end_time": "2020-10-26T11:26:05.453754",
     "exception": false,
     "start_time": "2020-10-26T11:26:05.429421",
     "status": "completed"
    },
    "tags": []
   },
   "outputs": [],
   "source": [
    "#hide\n",
    "dft_cases = dft_cases.T\n",
    "dft_deaths = dft_deaths.T\n",
    "dt_today = dates[-1]\n",
    "dt_yday = dates[-2]"
   ]
  },
  {
   "cell_type": "code",
   "execution_count": 9,
   "metadata": {
    "execution": {
     "iopub.execute_input": "2020-10-26T11:26:05.493424Z",
     "iopub.status.busy": "2020-10-26T11:26:05.492374Z",
     "iopub.status.idle": "2020-10-26T11:26:05.497529Z",
     "shell.execute_reply": "2020-10-26T11:26:05.498064Z"
    },
    "papermill": {
     "duration": 0.027104,
     "end_time": "2020-10-26T11:26:05.498222",
     "exception": false,
     "start_time": "2020-10-26T11:26:05.471118",
     "status": "completed"
    },
    "tags": []
   },
   "outputs": [],
   "source": [
    "#hide\n",
    "dft_cases = dft_cases.reset_index()\n",
    "dft_deaths = dft_deaths.reset_index()\n",
    "dft_cases = dft_cases.rename(columns = {'index':'state'})\n",
    "dft_deaths = dft_deaths.rename(columns = {'index':'state'})"
   ]
  },
  {
   "cell_type": "code",
   "execution_count": 10,
   "metadata": {
    "execution": {
     "iopub.execute_input": "2020-10-26T11:26:05.545591Z",
     "iopub.status.busy": "2020-10-26T11:26:05.544969Z",
     "iopub.status.idle": "2020-10-26T11:26:05.547403Z",
     "shell.execute_reply": "2020-10-26T11:26:05.548016Z"
    },
    "papermill": {
     "duration": 0.032914,
     "end_time": "2020-10-26T11:26:05.548170",
     "exception": false,
     "start_time": "2020-10-26T11:26:05.515256",
     "status": "completed"
    },
    "tags": []
   },
   "outputs": [],
   "source": [
    "#hide\n",
    "dfc_cases = dft_cases.groupby('state')[dt_today].sum()\n",
    "dfc_deaths = dft_deaths.groupby('state')[dt_today].sum()\n",
    "dfp_cases = dft_cases.groupby('state')[dt_yday].sum()\n",
    "dfp_deaths = dft_deaths.groupby('state')[dt_yday].sum()"
   ]
  },
  {
   "cell_type": "code",
   "execution_count": 11,
   "metadata": {
    "execution": {
     "iopub.execute_input": "2020-10-26T11:26:05.592390Z",
     "iopub.status.busy": "2020-10-26T11:26:05.591704Z",
     "iopub.status.idle": "2020-10-26T11:26:05.606319Z",
     "shell.execute_reply": "2020-10-26T11:26:05.605761Z"
    },
    "papermill": {
     "duration": 0.0397,
     "end_time": "2020-10-26T11:26:05.606458",
     "exception": false,
     "start_time": "2020-10-26T11:26:05.566758",
     "status": "completed"
    },
    "tags": []
   },
   "outputs": [
    {
     "data": {
      "text/html": [
       "<div>\n",
       "<style scoped>\n",
       "    .dataframe tbody tr th:only-of-type {\n",
       "        vertical-align: middle;\n",
       "    }\n",
       "\n",
       "    .dataframe tbody tr th {\n",
       "        vertical-align: top;\n",
       "    }\n",
       "\n",
       "    .dataframe thead th {\n",
       "        text-align: right;\n",
       "    }\n",
       "</style>\n",
       "<table border=\"1\" class=\"dataframe\">\n",
       "  <thead>\n",
       "    <tr style=\"text-align: right;\">\n",
       "      <th></th>\n",
       "      <th>states</th>\n",
       "      <th>Cases</th>\n",
       "      <th>Deaths</th>\n",
       "      <th>PCases</th>\n",
       "      <th>PDeaths</th>\n",
       "    </tr>\n",
       "  </thead>\n",
       "  <tbody>\n",
       "    <tr>\n",
       "      <th>0</th>\n",
       "      <td>Maharashtra</td>\n",
       "      <td>1645020</td>\n",
       "      <td>43264</td>\n",
       "      <td>1645020</td>\n",
       "      <td>43264</td>\n",
       "    </tr>\n",
       "    <tr>\n",
       "      <th>1</th>\n",
       "      <td>Andhra Pradesh</td>\n",
       "      <td>807023</td>\n",
       "      <td>6587</td>\n",
       "      <td>807023</td>\n",
       "      <td>6587</td>\n",
       "    </tr>\n",
       "    <tr>\n",
       "      <th>2</th>\n",
       "      <td>Karnataka</td>\n",
       "      <td>802817</td>\n",
       "      <td>10905</td>\n",
       "      <td>802817</td>\n",
       "      <td>10905</td>\n",
       "    </tr>\n",
       "    <tr>\n",
       "      <th>3</th>\n",
       "      <td>Tamil Nadu</td>\n",
       "      <td>709005</td>\n",
       "      <td>10924</td>\n",
       "      <td>709005</td>\n",
       "      <td>10924</td>\n",
       "    </tr>\n",
       "    <tr>\n",
       "      <th>4</th>\n",
       "      <td>Uttar Pradesh</td>\n",
       "      <td>470270</td>\n",
       "      <td>6882</td>\n",
       "      <td>470270</td>\n",
       "      <td>6882</td>\n",
       "    </tr>\n",
       "  </tbody>\n",
       "</table>\n",
       "</div>"
      ],
      "text/plain": [
       "           states    Cases  Deaths   PCases  PDeaths\n",
       "0     Maharashtra  1645020   43264  1645020    43264\n",
       "1  Andhra Pradesh   807023    6587   807023     6587\n",
       "2       Karnataka   802817   10905   802817    10905\n",
       "3      Tamil Nadu   709005   10924   709005    10924\n",
       "4   Uttar Pradesh   470270    6882   470270     6882"
      ]
     },
     "execution_count": 11,
     "metadata": {},
     "output_type": "execute_result"
    }
   ],
   "source": [
    "#hide\n",
    "df_table = pd.DataFrame({'states': dfc_cases.index, 'Cases': dfc_cases.values, 'Deaths': dfc_deaths.values, 'PCases': dfp_cases.values, 'PDeaths': dfp_deaths.values}).set_index('states')\n",
    "df_table = df_table.sort_values(by = ['Cases','Deaths'], ascending = [False, False])\n",
    "df_table = df_table.reset_index()\n",
    "df_table.head()"
   ]
  },
  {
   "cell_type": "code",
   "execution_count": 12,
   "metadata": {
    "execution": {
     "iopub.execute_input": "2020-10-26T11:26:05.646961Z",
     "iopub.status.busy": "2020-10-26T11:26:05.646258Z",
     "iopub.status.idle": "2020-10-26T11:26:05.655329Z",
     "shell.execute_reply": "2020-10-26T11:26:05.654840Z"
    },
    "papermill": {
     "duration": 0.032005,
     "end_time": "2020-10-26T11:26:05.655479",
     "exception": false,
     "start_time": "2020-10-26T11:26:05.623474",
     "status": "completed"
    },
    "tags": []
   },
   "outputs": [],
   "source": [
    "#hide\n",
    "for c in 'Cases, Deaths'.split(', '):\n",
    "    df_table[f'{c} (+)'] = (df_table[c] - df_table[f'P{c}']).clip(0)\n",
    "df_table['Fatality Rate'] = (100* df_table['Deaths']/ df_table['Cases']).round(2)"
   ]
  },
  {
   "cell_type": "code",
   "execution_count": 13,
   "metadata": {
    "execution": {
     "iopub.execute_input": "2020-10-26T11:26:05.701938Z",
     "iopub.status.busy": "2020-10-26T11:26:05.701208Z",
     "iopub.status.idle": "2020-10-26T11:26:05.703777Z",
     "shell.execute_reply": "2020-10-26T11:26:05.704304Z"
    },
    "papermill": {
     "duration": 0.031602,
     "end_time": "2020-10-26T11:26:05.704443",
     "exception": false,
     "start_time": "2020-10-26T11:26:05.672841",
     "status": "completed"
    },
    "tags": []
   },
   "outputs": [
    {
     "data": {
      "text/html": [
       "<div>\n",
       "<style scoped>\n",
       "    .dataframe tbody tr th:only-of-type {\n",
       "        vertical-align: middle;\n",
       "    }\n",
       "\n",
       "    .dataframe tbody tr th {\n",
       "        vertical-align: top;\n",
       "    }\n",
       "\n",
       "    .dataframe thead th {\n",
       "        text-align: right;\n",
       "    }\n",
       "</style>\n",
       "<table border=\"1\" class=\"dataframe\">\n",
       "  <thead>\n",
       "    <tr style=\"text-align: right;\">\n",
       "      <th></th>\n",
       "      <th>states</th>\n",
       "      <th>Cases</th>\n",
       "      <th>Deaths</th>\n",
       "      <th>PCases</th>\n",
       "      <th>PDeaths</th>\n",
       "      <th>Cases (+)</th>\n",
       "      <th>Deaths (+)</th>\n",
       "      <th>Fatality Rate</th>\n",
       "    </tr>\n",
       "  </thead>\n",
       "  <tbody>\n",
       "    <tr>\n",
       "      <th>0</th>\n",
       "      <td>Maharashtra</td>\n",
       "      <td>1645020</td>\n",
       "      <td>43264</td>\n",
       "      <td>1645020</td>\n",
       "      <td>43264</td>\n",
       "      <td>0</td>\n",
       "      <td>0</td>\n",
       "      <td>2.63</td>\n",
       "    </tr>\n",
       "    <tr>\n",
       "      <th>1</th>\n",
       "      <td>Andhra Pradesh</td>\n",
       "      <td>807023</td>\n",
       "      <td>6587</td>\n",
       "      <td>807023</td>\n",
       "      <td>6587</td>\n",
       "      <td>0</td>\n",
       "      <td>0</td>\n",
       "      <td>0.82</td>\n",
       "    </tr>\n",
       "    <tr>\n",
       "      <th>2</th>\n",
       "      <td>Karnataka</td>\n",
       "      <td>802817</td>\n",
       "      <td>10905</td>\n",
       "      <td>802817</td>\n",
       "      <td>10905</td>\n",
       "      <td>0</td>\n",
       "      <td>0</td>\n",
       "      <td>1.36</td>\n",
       "    </tr>\n",
       "    <tr>\n",
       "      <th>3</th>\n",
       "      <td>Tamil Nadu</td>\n",
       "      <td>709005</td>\n",
       "      <td>10924</td>\n",
       "      <td>709005</td>\n",
       "      <td>10924</td>\n",
       "      <td>0</td>\n",
       "      <td>0</td>\n",
       "      <td>1.54</td>\n",
       "    </tr>\n",
       "    <tr>\n",
       "      <th>4</th>\n",
       "      <td>Uttar Pradesh</td>\n",
       "      <td>470270</td>\n",
       "      <td>6882</td>\n",
       "      <td>470270</td>\n",
       "      <td>6882</td>\n",
       "      <td>0</td>\n",
       "      <td>0</td>\n",
       "      <td>1.46</td>\n",
       "    </tr>\n",
       "  </tbody>\n",
       "</table>\n",
       "</div>"
      ],
      "text/plain": [
       "           states    Cases  Deaths   PCases  PDeaths  Cases (+)  Deaths (+)  \\\n",
       "0     Maharashtra  1645020   43264  1645020    43264          0           0   \n",
       "1  Andhra Pradesh   807023    6587   807023     6587          0           0   \n",
       "2       Karnataka   802817   10905   802817    10905          0           0   \n",
       "3      Tamil Nadu   709005   10924   709005    10924          0           0   \n",
       "4   Uttar Pradesh   470270    6882   470270     6882          0           0   \n",
       "\n",
       "   Fatality Rate  \n",
       "0           2.63  \n",
       "1           0.82  \n",
       "2           1.36  \n",
       "3           1.54  \n",
       "4           1.46  "
      ]
     },
     "execution_count": 13,
     "metadata": {},
     "output_type": "execute_result"
    }
   ],
   "source": [
    "#hide\n",
    "df_table.head()"
   ]
  },
  {
   "cell_type": "code",
   "execution_count": 14,
   "metadata": {
    "execution": {
     "iopub.execute_input": "2020-10-26T11:26:05.745387Z",
     "iopub.status.busy": "2020-10-26T11:26:05.744638Z",
     "iopub.status.idle": "2020-10-26T11:26:05.763567Z",
     "shell.execute_reply": "2020-10-26T11:26:05.763036Z"
    },
    "papermill": {
     "duration": 0.041161,
     "end_time": "2020-10-26T11:26:05.763698",
     "exception": false,
     "start_time": "2020-10-26T11:26:05.722537",
     "status": "completed"
    },
    "tags": []
   },
   "outputs": [
    {
     "data": {
      "text/plain": [
       "{'updated': '2020-10-26',\n",
       " 'since': '2020-10-25',\n",
       " 'Cases': 7909624,\n",
       " 'PCases': 7909624,\n",
       " 'Deaths': 119043,\n",
       " 'PDeaths': 119043,\n",
       " 'Cases (+)': 0,\n",
       " 'Deaths (+)': 0}"
      ]
     },
     "execution_count": 14,
     "metadata": {},
     "output_type": "execute_result"
    }
   ],
   "source": [
    "#hide\n",
    "summary = {'updated':dates[-1], 'since':dates[-2]}\n",
    "list_names = ['Cases', 'PCases', 'Deaths', 'PDeaths', 'Cases (+)', 'Deaths (+)']\n",
    "for name in list_names:\n",
    "    summary[name] = df_table.sum()[name]\n",
    "summary"
   ]
  },
  {
   "cell_type": "code",
   "execution_count": 15,
   "metadata": {
    "execution": {
     "iopub.execute_input": "2020-10-26T11:26:05.807359Z",
     "iopub.status.busy": "2020-10-26T11:26:05.806606Z",
     "iopub.status.idle": "2020-10-26T11:26:05.808959Z",
     "shell.execute_reply": "2020-10-26T11:26:05.809479Z"
    },
    "papermill": {
     "duration": 0.027829,
     "end_time": "2020-10-26T11:26:05.809616",
     "exception": false,
     "start_time": "2020-10-26T11:26:05.781787",
     "status": "completed"
    },
    "tags": []
   },
   "outputs": [],
   "source": [
    "#hide\n",
    "overview = '''\n",
    "<!-- #######  HTML!! #########-->\n",
    "<h1 style=\"color: #5e9ca0; text-align: center;\">India</h1>\n",
    "<p style=\"text-align: center;\">Last update: <strong>{update}</strong></p>\n",
    "<p style=\"text-align: center;\">Confirmed cases:</p>\n",
    "<p style=\"text-align: center;font-size:24px;\">{cases} (<span style=\"color: #ff0000;\">+{new}</span>)</p>\n",
    "<p style=\"text-align: center;\">Confirmed deaths:</p>\n",
    "<p style=\"text-align: center;font-size:24px;\">{deaths} (<span style=\"color: #ff0000;\">+{dnew}</span>)</p>\n",
    "'''"
   ]
  },
  {
   "cell_type": "code",
   "execution_count": 16,
   "metadata": {
    "execution": {
     "iopub.execute_input": "2020-10-26T11:26:05.850705Z",
     "iopub.status.busy": "2020-10-26T11:26:05.849963Z",
     "iopub.status.idle": "2020-10-26T11:26:05.853081Z",
     "shell.execute_reply": "2020-10-26T11:26:05.853569Z"
    },
    "papermill": {
     "duration": 0.026661,
     "end_time": "2020-10-26T11:26:05.853701",
     "exception": false,
     "start_time": "2020-10-26T11:26:05.827040",
     "status": "completed"
    },
    "tags": []
   },
   "outputs": [
    {
     "data": {
      "text/html": [
       "\n",
       "<!-- #######  HTML!! #########-->\n",
       "<h1 style=\"color: #5e9ca0; text-align: center;\">India</h1>\n",
       "<p style=\"text-align: center;\">Last update: <strong>2020-10-26</strong></p>\n",
       "<p style=\"text-align: center;\">Confirmed cases:</p>\n",
       "<p style=\"text-align: center;font-size:24px;\">7909624 (<span style=\"color: #ff0000;\">+0</span>)</p>\n",
       "<p style=\"text-align: center;\">Confirmed deaths:</p>\n",
       "<p style=\"text-align: center;font-size:24px;\">119043 (<span style=\"color: #ff0000;\">+0</span>)</p>\n"
      ],
      "text/plain": [
       "<IPython.core.display.HTML object>"
      ]
     },
     "metadata": {},
     "output_type": "display_data"
    }
   ],
   "source": [
    "#hide_input\n",
    "update = summary['updated']\n",
    "cases = summary['Cases']\n",
    "new = summary['Cases (+)']\n",
    "deaths = summary['Deaths']\n",
    "dnew = summary['Deaths (+)']\n",
    "\n",
    "html = HTML(overview.format(update=update, cases=cases,new=new,deaths=deaths,dnew=dnew))\n",
    "\n",
    "display(html)"
   ]
  },
  {
   "cell_type": "code",
   "execution_count": 17,
   "metadata": {
    "execution": {
     "iopub.execute_input": "2020-10-26T11:26:05.898291Z",
     "iopub.status.busy": "2020-10-26T11:26:05.897645Z",
     "iopub.status.idle": "2020-10-26T11:26:05.903765Z",
     "shell.execute_reply": "2020-10-26T11:26:05.903221Z"
    },
    "papermill": {
     "duration": 0.032365,
     "end_time": "2020-10-26T11:26:05.903894",
     "exception": false,
     "start_time": "2020-10-26T11:26:05.871529",
     "status": "completed"
    },
    "tags": []
   },
   "outputs": [],
   "source": [
    "#hide\n",
    "dt_cols = list(dft_cases.columns[1:])\n",
    "dft_ct_new_cases = dft_cases.groupby('state')[dt_cols].sum().diff(axis=1).fillna(0).astype(int)\n",
    "dft_ct_new_cases.sort_values(by = dates[-1], ascending = False,inplace = True)"
   ]
  },
  {
   "cell_type": "code",
   "execution_count": 18,
   "metadata": {
    "execution": {
     "iopub.execute_input": "2020-10-26T11:26:05.964240Z",
     "iopub.status.busy": "2020-10-26T11:26:05.963626Z",
     "iopub.status.idle": "2020-10-26T11:26:05.967501Z",
     "shell.execute_reply": "2020-10-26T11:26:05.967002Z"
    },
    "papermill": {
     "duration": 0.043423,
     "end_time": "2020-10-26T11:26:05.967698",
     "exception": false,
     "start_time": "2020-10-26T11:26:05.924275",
     "status": "completed"
    },
    "tags": []
   },
   "outputs": [
    {
     "data": {
      "text/html": [
       "<div>\n",
       "<style scoped>\n",
       "    .dataframe tbody tr th:only-of-type {\n",
       "        vertical-align: middle;\n",
       "    }\n",
       "\n",
       "    .dataframe tbody tr th {\n",
       "        vertical-align: top;\n",
       "    }\n",
       "\n",
       "    .dataframe thead th {\n",
       "        text-align: right;\n",
       "    }\n",
       "</style>\n",
       "<table border=\"1\" class=\"dataframe\">\n",
       "  <thead>\n",
       "    <tr style=\"text-align: right;\">\n",
       "      <th>states</th>\n",
       "      <th>2020-07-01</th>\n",
       "      <th>2020-07-02</th>\n",
       "      <th>2020-07-03</th>\n",
       "      <th>2020-07-04</th>\n",
       "      <th>2020-07-05</th>\n",
       "      <th>2020-07-06</th>\n",
       "      <th>2020-07-07</th>\n",
       "      <th>2020-07-08</th>\n",
       "      <th>2020-07-09</th>\n",
       "      <th>2020-07-10</th>\n",
       "      <th>...</th>\n",
       "      <th>2020-10-17</th>\n",
       "      <th>2020-10-18</th>\n",
       "      <th>2020-10-19</th>\n",
       "      <th>2020-10-20</th>\n",
       "      <th>2020-10-21</th>\n",
       "      <th>2020-10-22</th>\n",
       "      <th>2020-10-23</th>\n",
       "      <th>2020-10-24</th>\n",
       "      <th>2020-10-25</th>\n",
       "      <th>2020-10-26</th>\n",
       "    </tr>\n",
       "    <tr>\n",
       "      <th>state</th>\n",
       "      <th></th>\n",
       "      <th></th>\n",
       "      <th></th>\n",
       "      <th></th>\n",
       "      <th></th>\n",
       "      <th></th>\n",
       "      <th></th>\n",
       "      <th></th>\n",
       "      <th></th>\n",
       "      <th></th>\n",
       "      <th></th>\n",
       "      <th></th>\n",
       "      <th></th>\n",
       "      <th></th>\n",
       "      <th></th>\n",
       "      <th></th>\n",
       "      <th></th>\n",
       "      <th></th>\n",
       "      <th></th>\n",
       "      <th></th>\n",
       "      <th></th>\n",
       "    </tr>\n",
       "  </thead>\n",
       "  <tbody>\n",
       "    <tr>\n",
       "      <th>Andaman and Nicobar Islands</th>\n",
       "      <td>0</td>\n",
       "      <td>9</td>\n",
       "      <td>7</td>\n",
       "      <td>3</td>\n",
       "      <td>6</td>\n",
       "      <td>16</td>\n",
       "      <td>6</td>\n",
       "      <td>2</td>\n",
       "      <td>7</td>\n",
       "      <td>0</td>\n",
       "      <td>...</td>\n",
       "      <td>11</td>\n",
       "      <td>25</td>\n",
       "      <td>18</td>\n",
       "      <td>15</td>\n",
       "      <td>27</td>\n",
       "      <td>16</td>\n",
       "      <td>23</td>\n",
       "      <td>18</td>\n",
       "      <td>20</td>\n",
       "      <td>0</td>\n",
       "    </tr>\n",
       "    <tr>\n",
       "      <th>Andhra Pradesh</th>\n",
       "      <td>0</td>\n",
       "      <td>845</td>\n",
       "      <td>837</td>\n",
       "      <td>765</td>\n",
       "      <td>998</td>\n",
       "      <td>1322</td>\n",
       "      <td>1178</td>\n",
       "      <td>1062</td>\n",
       "      <td>1555</td>\n",
       "      <td>1608</td>\n",
       "      <td>...</td>\n",
       "      <td>3676</td>\n",
       "      <td>3986</td>\n",
       "      <td>2918</td>\n",
       "      <td>3503</td>\n",
       "      <td>3746</td>\n",
       "      <td>3620</td>\n",
       "      <td>3765</td>\n",
       "      <td>3342</td>\n",
       "      <td>2997</td>\n",
       "      <td>0</td>\n",
       "    </tr>\n",
       "    <tr>\n",
       "      <th>Maharashtra</th>\n",
       "      <td>0</td>\n",
       "      <td>6328</td>\n",
       "      <td>6364</td>\n",
       "      <td>7074</td>\n",
       "      <td>6555</td>\n",
       "      <td>5368</td>\n",
       "      <td>5134</td>\n",
       "      <td>6603</td>\n",
       "      <td>6875</td>\n",
       "      <td>7862</td>\n",
       "      <td>...</td>\n",
       "      <td>10259</td>\n",
       "      <td>9060</td>\n",
       "      <td>5984</td>\n",
       "      <td>8151</td>\n",
       "      <td>8142</td>\n",
       "      <td>7539</td>\n",
       "      <td>7347</td>\n",
       "      <td>6417</td>\n",
       "      <td>6059</td>\n",
       "      <td>0</td>\n",
       "    </tr>\n",
       "    <tr>\n",
       "      <th>Manipur</th>\n",
       "      <td>0</td>\n",
       "      <td>19</td>\n",
       "      <td>37</td>\n",
       "      <td>9</td>\n",
       "      <td>41</td>\n",
       "      <td>24</td>\n",
       "      <td>40</td>\n",
       "      <td>5</td>\n",
       "      <td>15</td>\n",
       "      <td>132</td>\n",
       "      <td>...</td>\n",
       "      <td>426</td>\n",
       "      <td>322</td>\n",
       "      <td>315</td>\n",
       "      <td>284</td>\n",
       "      <td>214</td>\n",
       "      <td>345</td>\n",
       "      <td>156</td>\n",
       "      <td>245</td>\n",
       "      <td>138</td>\n",
       "      <td>0</td>\n",
       "    </tr>\n",
       "    <tr>\n",
       "      <th>Meghalaya</th>\n",
       "      <td>0</td>\n",
       "      <td>3</td>\n",
       "      <td>4</td>\n",
       "      <td>8</td>\n",
       "      <td>2</td>\n",
       "      <td>16</td>\n",
       "      <td>6</td>\n",
       "      <td>6</td>\n",
       "      <td>13</td>\n",
       "      <td>73</td>\n",
       "      <td>...</td>\n",
       "      <td>101</td>\n",
       "      <td>104</td>\n",
       "      <td>28</td>\n",
       "      <td>57</td>\n",
       "      <td>28</td>\n",
       "      <td>99</td>\n",
       "      <td>81</td>\n",
       "      <td>83</td>\n",
       "      <td>136</td>\n",
       "      <td>0</td>\n",
       "    </tr>\n",
       "  </tbody>\n",
       "</table>\n",
       "<p>5 rows × 118 columns</p>\n",
       "</div>"
      ],
      "text/plain": [
       "states                       2020-07-01  2020-07-02  2020-07-03  2020-07-04  \\\n",
       "state                                                                         \n",
       "Andaman and Nicobar Islands           0           9           7           3   \n",
       "Andhra Pradesh                        0         845         837         765   \n",
       "Maharashtra                           0        6328        6364        7074   \n",
       "Manipur                               0          19          37           9   \n",
       "Meghalaya                             0           3           4           8   \n",
       "\n",
       "states                       2020-07-05  2020-07-06  2020-07-07  2020-07-08  \\\n",
       "state                                                                         \n",
       "Andaman and Nicobar Islands           6          16           6           2   \n",
       "Andhra Pradesh                      998        1322        1178        1062   \n",
       "Maharashtra                        6555        5368        5134        6603   \n",
       "Manipur                              41          24          40           5   \n",
       "Meghalaya                             2          16           6           6   \n",
       "\n",
       "states                       2020-07-09  2020-07-10  ...  2020-10-17  \\\n",
       "state                                                ...               \n",
       "Andaman and Nicobar Islands           7           0  ...          11   \n",
       "Andhra Pradesh                     1555        1608  ...        3676   \n",
       "Maharashtra                        6875        7862  ...       10259   \n",
       "Manipur                              15         132  ...         426   \n",
       "Meghalaya                            13          73  ...         101   \n",
       "\n",
       "states                       2020-10-18  2020-10-19  2020-10-20  2020-10-21  \\\n",
       "state                                                                         \n",
       "Andaman and Nicobar Islands          25          18          15          27   \n",
       "Andhra Pradesh                     3986        2918        3503        3746   \n",
       "Maharashtra                        9060        5984        8151        8142   \n",
       "Manipur                             322         315         284         214   \n",
       "Meghalaya                           104          28          57          28   \n",
       "\n",
       "states                       2020-10-22  2020-10-23  2020-10-24  2020-10-25  \\\n",
       "state                                                                         \n",
       "Andaman and Nicobar Islands          16          23          18          20   \n",
       "Andhra Pradesh                     3620        3765        3342        2997   \n",
       "Maharashtra                        7539        7347        6417        6059   \n",
       "Manipur                             345         156         245         138   \n",
       "Meghalaya                            99          81          83         136   \n",
       "\n",
       "states                       2020-10-26  \n",
       "state                                    \n",
       "Andaman and Nicobar Islands           0  \n",
       "Andhra Pradesh                        0  \n",
       "Maharashtra                           0  \n",
       "Manipur                               0  \n",
       "Meghalaya                             0  \n",
       "\n",
       "[5 rows x 118 columns]"
      ]
     },
     "execution_count": 18,
     "metadata": {},
     "output_type": "execute_result"
    }
   ],
   "source": [
    "#hide\n",
    "dft_ct_new_cases.head()"
   ]
  },
  {
   "cell_type": "code",
   "execution_count": 19,
   "metadata": {
    "execution": {
     "iopub.execute_input": "2020-10-26T11:26:06.009516Z",
     "iopub.status.busy": "2020-10-26T11:26:06.008823Z",
     "iopub.status.idle": "2020-10-26T11:26:11.719020Z",
     "shell.execute_reply": "2020-10-26T11:26:11.718454Z"
    },
    "papermill": {
     "duration": 5.733025,
     "end_time": "2020-10-26T11:26:11.719237",
     "exception": false,
     "start_time": "2020-10-26T11:26:05.986212",
     "status": "completed"
    },
    "tags": []
   },
   "outputs": [
    {
     "data": {
      "image/png": "[encoded data removed]",
      "text/plain": [
       "<Figure size 1296x2016 with 11 Axes>"
      ]
     },
     "metadata": {
      "needs_background": "light"
     },
     "output_type": "display_data"
    }
   ],
   "source": [
    "#hide_input\n",
    "df = dft_ct_new_cases.copy()\n",
    "df.loc['Total'] = df.sum()\n",
    "n = 5\n",
    "ax = []\n",
    "fig = plt.figure(figsize = (18,28))\n",
    "gs = fig.add_gridspec(n+2, 5)\n",
    "# gs = fig.add_gridspec(2, 3)\n",
    "ax1 = fig.add_subplot(gs[0, :])\n",
    "ef = df.loc['Total'].rename_axis('date').reset_index()\n",
    "ef['date'] = ef['date'].astype('datetime64[ns]')\n",
    "ax1.bar(ef.date,ef.Total,alpha=0.3,color='#007acc')\n",
    "ax1.plot(ef.date,ef.Total , marker=\"o\", color='#007acc')\n",
    "ax1.xaxis.set_major_locator(mdates.WeekdayLocator())\n",
    "ax1.xaxis.set_major_formatter(mdates.DateFormatter('%b %d'))\n",
    "ax1.text(0.02, 0.5,'India daily case count', transform = ax1.transAxes, fontsize=25);\n",
    "ax1.spines['right'].set_visible(False)\n",
    "ax1.spines['top'].set_visible(False)\n",
    "\n",
    "ax2 = fig.add_subplot(gs[1,0])\n",
    "ef = df.loc['Maharashtra'].rename_axis('date').reset_index()\n",
    "ef['date'] = ef['date'].astype('datetime64[ns]')\n",
    "\n",
    "ax2.bar(ef.date, ef.Maharashtra,color = '#007acc',alpha=0.5)\n",
    "ax2.xaxis.set_major_locator(mdates.WeekdayLocator())\n",
    "ax2.xaxis.set_major_formatter(mdates.DateFormatter('%b %d'))\n",
    "ax2.set_xticks(ax2.get_xticks()[::3])\n",
    "maxyval = ef.Maharashtra.max()\n",
    "ax2.set_ylim([0,maxyval])\n",
    "ax2.text(0.05, 0.9,'Maharashtra', transform = ax2.transAxes, fontsize=20);\n",
    "ax2.spines['right'].set_visible(False)\n",
    "ax2.spines['top'].set_visible(False)\n",
    "\n",
    "\n",
    "ax3 = fig.add_subplot(gs[1,1])\n",
    "ef = df.loc['Tamil Nadu'].rename_axis('date').reset_index()\n",
    "ef['date'] = ef['date'].astype('datetime64[ns]')\n",
    "ax3.bar(ef.date, ef['Tamil Nadu'],color = '#007acc',alpha=0.5,)\n",
    "ax3.xaxis.set_major_locator(mdates.WeekdayLocator())\n",
    "ax3.xaxis.set_major_formatter(mdates.DateFormatter('%b %d'))\n",
    "ax3.set_xticks(ax3.get_xticks()[::3])\n",
    "ax3.text(0.05, 0.9,'Tamil Nadu', transform = ax3.transAxes, fontsize=20);\n",
    "ax3.spines['right'].set_visible(False)\n",
    "ax3.spines['top'].set_visible(False)\n",
    "\n",
    "ax5 = fig.add_subplot(gs[1,3])\n",
    "ef = df.loc['Telangana'].rename_axis('date').reset_index()\n",
    "ef['date'] = ef['date'].astype('datetime64[ns]')\n",
    "ax5.bar(ef.date, ef['Telangana'],color = '#007acc',alpha=0.5,)\n",
    "ax5.xaxis.set_major_locator(mdates.WeekdayLocator())\n",
    "ax5.xaxis.set_major_formatter(mdates.DateFormatter('%b %d'))\n",
    "ax5.set_xticks(ax5.get_xticks()[::3])\n",
    "ax5.text(0.05, 0.9,'Telangana', transform = ax5.transAxes, fontsize=20);\n",
    "ax5.spines['right'].set_visible(False)\n",
    "ax5.spines['top'].set_visible(False)\n",
    "\n",
    "ax6 = fig.add_subplot(gs[1,4])\n",
    "ef = df.loc['Andhra Pradesh'].rename_axis('date').reset_index()\n",
    "ef['date'] = ef['date'].astype('datetime64[ns]')\n",
    "ax6.bar(ef.date, ef['Andhra Pradesh'],color = '#007acc',alpha=0.5,)\n",
    "ax6.xaxis.set_major_locator(mdates.WeekdayLocator())\n",
    "ax6.xaxis.set_major_formatter(mdates.DateFormatter('%b %d'))\n",
    "ax6.set_xticks(ax6.get_xticks()[::3])\n",
    "ax6.text(0.05, 1,'Andhra Pradesh', transform = ax6.transAxes, fontsize=20);\n",
    "ax6.spines['right'].set_visible(False)\n",
    "ax6.spines['top'].set_visible(False)\n",
    "\n",
    "ax4 = fig.add_subplot(gs[1,2])\n",
    "ef = df.loc['Delhi'].rename_axis('date').reset_index()\n",
    "ef['date'] = ef['date'].astype('datetime64[ns]')\n",
    "ax4.bar(ef.date, ef.Delhi,color = '#007acc',alpha=0.5)\n",
    "ax4.set_xticks([])\n",
    "ax4.xaxis.set_major_locator(mdates.WeekdayLocator())\n",
    "ax4.xaxis.set_major_formatter(mdates.DateFormatter('%b %d'))\n",
    "ax4.set_xticks(ax4.get_xticks()[::3])\n",
    "ax4.spines['right'].set_visible(False)\n",
    "ax4.spines['top'].set_visible(False)\n",
    "\n",
    "ax4.text(0.05, 1,'Delhi', transform = ax4.transAxes, fontsize=20)\n",
    "\n",
    "for i in range(n):\n",
    "    \n",
    "    ax.append(fig.add_subplot(gs[i+2,:]))\n",
    "    ef = df.iloc[i+3].rename_axis('date').reset_index()\n",
    "    ef['date'] = ef['date'].astype('datetime64[ns]')\n",
    "    ax[i].bar(ef.date,ef.iloc[:,-1],color = '#007acc',alpha=0.3)\n",
    "    ax[i].plot(ef.date,ef.iloc[:,-1],marker='o',color='#007acc')\n",
    "    ax[i].text(0.02,0.5,f'{ef.columns.values[-1]}',transform = ax[i].transAxes, fontsize = 20);\n",
    "    ax[i].xaxis.set_major_locator(mdates.WeekdayLocator())\n",
    "    ax[i].xaxis.set_major_formatter(mdates.DateFormatter('%b %d'))\n",
    "    ax[i].set_ylim([0,7000])\n",
    "    ax[i].spines['right'].set_visible(False)\n",
    "    ax[i].spines['top'].set_visible(False)\n",
    "plt.tight_layout()\n"
   ]
  },
  {
   "cell_type": "code",
   "execution_count": 20,
   "metadata": {
    "execution": {
     "iopub.execute_input": "2020-10-26T11:26:11.776157Z",
     "iopub.status.busy": "2020-10-26T11:26:11.775510Z",
     "iopub.status.idle": "2020-10-26T11:26:11.778531Z",
     "shell.execute_reply": "2020-10-26T11:26:11.777924Z"
    },
    "papermill": {
     "duration": 0.035031,
     "end_time": "2020-10-26T11:26:11.778652",
     "exception": false,
     "start_time": "2020-10-26T11:26:11.743621",
     "status": "completed"
    },
    "tags": []
   },
   "outputs": [
    {
     "name": "stdout",
     "output_type": "stream",
     "text": [
      "                                   states    Cases  Deaths   PCases  PDeaths  Cases (+)  Deaths (+)  Fatality Rate\n",
      "                              Maharashtra  1645020   43264  1645020    43264          0           0           2.63\n",
      "                           Andhra Pradesh   807023    6587   807023     6587          0           0           0.82\n",
      "                                Karnataka   802817   10905   802817    10905          0           0           1.36\n",
      "                               Tamil Nadu   709005   10924   709005    10924          0           0           1.54\n",
      "                            Uttar Pradesh   470270    6882   470270     6882          0           0           1.46\n",
      "                                   Kerala   392931    1333   392931     1333          0           0           0.34\n",
      "                                    Delhi   356656    6258   356656     6258          0           0           1.75\n",
      "                              West Bengal   349701    6487   349701     6487          0           0           1.86\n",
      "                                   Odisha   281215    1298   281215     1298          0           0           0.46\n",
      "                                Telangana   231252    1307   231252     1307          0           0           0.57\n",
      "                                    Bihar   212192    1049   212192     1049          0           0           0.49\n",
      "                                    Assam   204171     906   204171      906          0           0           0.44\n",
      "                                Rajasthan   186243    1839   186243     1839          0           0           0.99\n",
      "                             Chhattisgarh   175959    1818   175959     1818          0           0           1.03\n",
      "                           Madhya Pradesh   167249    2885   167249     2885          0           0           1.72\n",
      "                                  Gujarat   167173    3689   167173     3689          0           0           2.21\n",
      "                                  Haryana   158304    1727   158304     1727          0           0           1.09\n",
      "                                   Punjab   131055    4117   131055     4117          0           0           3.14\n",
      "                                Jharkhand    99686     866    99686      866          0           0           0.87\n",
      "                        Jammu and Kashmir    91861    1438    91861     1438          0           0           1.57\n",
      "                              Uttarakhand    60155     984    60155      984          0           0           1.64\n",
      "                                      Goa    42242     576    42242      576          0           0           1.36\n",
      "                               Puducherry    34193     588    34193      588          0           0           1.72\n",
      "                                  Tripura    30218     340    30218      340          0           0           1.13\n",
      "                         Himachal Pradesh    20370     286    20370      286          0           0           1.40\n",
      "                                  Manipur    17160     139    17160      139          0           0           0.81\n",
      "                        Arunachal Pradesh    14244      33    14244       33          0           0           0.23\n",
      "                               Chandigarh    14038     218    14038      218          0           0           1.55\n",
      "                                Meghalaya     9020      81     9020       81          0           0           0.90\n",
      "                                 Nagaland     8515      24     8515       24          0           0           0.28\n",
      "                                   Ladakh     5933      71     5933       71          0           0           1.20\n",
      "              Andaman and Nicobar Islands     4245      58     4245       58          0           0           1.37\n",
      "                                   Sikkim     3835      64     3835       64          0           0           1.67\n",
      " Dadra and Nagar Haveli and Daman and Diu     3226       2     3226        2          0           0           0.06\n",
      "                                  Mizoram     2447       0     2447        0          0           0           0.00\n",
      "                              Lakshadweep        0       0        0        0          0           0            NaN\n"
     ]
    }
   ],
   "source": [
    "#hide_input\n",
    "print(df_table.to_string(index=False))"
   ]
  },
  {
   "cell_type": "code",
   "execution_count": null,
   "metadata": {
    "papermill": {
     "duration": 0.023832,
     "end_time": "2020-10-26T11:26:11.825453",
     "exception": false,
     "start_time": "2020-10-26T11:26:11.801621",
     "status": "completed"
    },
    "tags": []
   },
   "outputs": [],
   "source": []
  },
  {
   "cell_type": "code",
   "execution_count": null,
   "metadata": {
    "papermill": {
     "duration": 0.022517,
     "end_time": "2020-10-26T11:26:11.871006",
     "exception": false,
     "start_time": "2020-10-26T11:26:11.848489",
     "status": "completed"
    },
    "tags": []
   },
   "outputs": [],
   "source": []
  }
 ],
 "metadata": {
  "kernelspec": {
   "display_name": "Python 3",
   "language": "python",
   "name": "python3"
  },
  "language_info": {
   "codemirror_mode": {
    "name": "ipython",
    "version": 3
   },
   "file_extension": ".py",
   "mimetype": "text/x-python",
   "name": "python",
   "nbconvert_exporter": "python",
   "pygments_lexer": "ipython3",
   "version": "3.6.12"
  },
  "papermill": {
   "duration": 14.326035,
   "end_time": "2020-10-26T11:26:13.170627",
   "environment_variables": {},
   "exception": null,
   "input_path": "latest.ipynb",
   "output_path": "latest.ipynb",
   "parameters": {},
   "start_time": "2020-10-26T11:25:58.844592",
   "version": "2.1.2"
  }
 },
 "nbformat": 4,
 "nbformat_minor": 4
}