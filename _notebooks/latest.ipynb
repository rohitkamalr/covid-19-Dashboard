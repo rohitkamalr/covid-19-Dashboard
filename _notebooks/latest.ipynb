{
 "cells": [
  {
   "cell_type": "markdown",
   "metadata": {
    "papermill": {
     "duration": 0.022473,
     "end_time": "2021-01-10T12:44:36.956277",
     "exception": false,
     "start_time": "2021-01-10T12:44:36.933804",
     "status": "completed"
    },
    "tags": []
   },
   "source": [
    "# Latest COVID-19 India Matplotlib Overview"
   ]
  },
  {
   "cell_type": "code",
   "execution_count": 1,
   "metadata": {
    "execution": {
     "iopub.execute_input": "2021-01-10T12:44:37.011561Z",
     "iopub.status.busy": "2021-01-10T12:44:37.009410Z",
     "iopub.status.idle": "2021-01-10T12:44:37.628107Z",
     "shell.execute_reply": "2021-01-10T12:44:37.627566Z"
    },
    "papermill": {
     "duration": 0.652239,
     "end_time": "2021-01-10T12:44:37.628295",
     "exception": false,
     "start_time": "2021-01-10T12:44:36.976056",
     "status": "completed"
    },
    "tags": []
   },
   "outputs": [],
   "source": [
    "#hide\n",
    "import pandas as pd\n",
    "import numpy as np\n",
    "import requests\n",
    "import json\n",
    "import matplotlib.pyplot as plt\n",
    "import matplotlib.dates as mdates\n",
    "import matplotlib as mpl\n",
    "from IPython.core.display import display,HTML\n",
    "%matplotlib inline\n",
    "from datetime import date"
   ]
  },
  {
   "cell_type": "code",
   "execution_count": 2,
   "metadata": {
    "execution": {
     "iopub.execute_input": "2021-01-10T12:44:37.669045Z",
     "iopub.status.busy": "2021-01-10T12:44:37.668245Z",
     "iopub.status.idle": "2021-01-10T12:44:37.783201Z",
     "shell.execute_reply": "2021-01-10T12:44:37.783690Z"
    },
    "papermill": {
     "duration": 0.139306,
     "end_time": "2021-01-10T12:44:37.783860",
     "exception": false,
     "start_time": "2021-01-10T12:44:37.644554",
     "status": "completed"
    },
    "tags": []
   },
   "outputs": [],
   "source": [
    "#hide\n",
    "df  = pd.read_csv('https://api.covid19india.org/csv/latest/states.csv')\n",
    "df = df[['Date','State','Confirmed','Deceased']]\n",
    "df = df.rename(columns={'Confirmed':'Cases', \"Deceased\":'Deaths'})\n",
    "df_cases = df[[\"Date\",'State','Cases']]\n",
    "df_deaths = df[['Date','State','Deaths']]\n",
    "df_cases1 = df_cases.groupby('Date')\n",
    "df_deaths1= df_deaths.groupby('Date')"
   ]
  },
  {
   "cell_type": "code",
   "execution_count": 3,
   "metadata": {
    "execution": {
     "iopub.execute_input": "2021-01-10T12:44:37.821262Z",
     "iopub.status.busy": "2021-01-10T12:44:37.820612Z",
     "iopub.status.idle": "2021-01-10T12:44:37.838328Z",
     "shell.execute_reply": "2021-01-10T12:44:37.837842Z"
    },
    "papermill": {
     "duration": 0.03806,
     "end_time": "2021-01-10T12:44:37.838464",
     "exception": false,
     "start_time": "2021-01-10T12:44:37.800404",
     "status": "completed"
    },
    "tags": []
   },
   "outputs": [],
   "source": [
    "#hide\n",
    "df_snap = pd.read_csv('data/SnapshotCases-28-July.csv')\n",
    "arr_states = df_snap['states'].unique()\n",
    "arr_dates = df['Date'].unique()\n",
    "df_snap = df_snap.set_index('states')"
   ]
  },
  {
   "cell_type": "code",
   "execution_count": 4,
   "metadata": {
    "execution": {
     "iopub.execute_input": "2021-01-10T12:44:37.882242Z",
     "iopub.status.busy": "2021-01-10T12:44:37.881537Z",
     "iopub.status.idle": "2021-01-10T12:44:37.883787Z",
     "shell.execute_reply": "2021-01-10T12:44:37.884257Z"
    },
    "papermill": {
     "duration": 0.030738,
     "end_time": "2021-01-10T12:44:37.884402",
     "exception": false,
     "start_time": "2021-01-10T12:44:37.853664",
     "status": "completed"
    },
    "tags": []
   },
   "outputs": [
    {
     "data": {
      "text/plain": [
       "array(['Andaman and Nicobar Islands', 'Andhra Pradesh',\n",
       "       'Arunachal Pradesh', 'Assam', 'Bihar', 'Chandigarh',\n",
       "       'Dadra and Nagar Haveli and Daman and Diu', 'Delhi', 'Goa',\n",
       "       'Gujarat', 'Haryana', 'Himachal Pradesh', 'Jammu and Kashmir',\n",
       "       'Jharkhand', 'Karnataka', 'Kerala', 'Lakshadweep',\n",
       "       'Madhya Pradesh', 'Maharashtra', 'Manipur', 'Meghalaya', 'Mizoram',\n",
       "       'Nagaland', 'Odisha', 'Puducherry', 'Punjab', 'Rajasthan',\n",
       "       'Sikkim', 'Tamil Nadu', 'Telangana', 'Tripura', 'Uttar Pradesh',\n",
       "       'West Bengal', 'Chhattisgarh', 'Ladakh', 'Uttarakhand'],\n",
       "      dtype=object)"
      ]
     },
     "execution_count": 4,
     "metadata": {},
     "output_type": "execute_result"
    }
   ],
   "source": [
    "#hide\n",
    "arr_states[-9] = 'Puducherry'\n",
    "arr_states[-10] = 'Odisha'\n",
    "arr_states[6] = 'Dadra and Nagar Haveli and Daman and Diu'\n",
    "arr_states = np.append(arr_states,np.array(['Chhattisgarh','Ladakh','Uttarakhand']))\n",
    "arr_states"
   ]
  },
  {
   "cell_type": "code",
   "execution_count": 5,
   "metadata": {
    "execution": {
     "iopub.execute_input": "2021-01-10T12:44:37.928918Z",
     "iopub.status.busy": "2021-01-10T12:44:37.928209Z",
     "iopub.status.idle": "2021-01-10T12:44:37.937030Z",
     "shell.execute_reply": "2021-01-10T12:44:37.936501Z"
    },
    "papermill": {
     "duration": 0.0359,
     "end_time": "2021-01-10T12:44:37.937168",
     "exception": false,
     "start_time": "2021-01-10T12:44:37.901268",
     "status": "completed"
    },
    "tags": []
   },
   "outputs": [],
   "source": [
    "#hide\n",
    "dates = []\n",
    "for i in arr_dates:\n",
    "    if i>='2020-07-01':\n",
    "        dates.append(i)\n",
    "dict = {'states':dates}\n",
    "for i in arr_states:\n",
    "    dict[i] = [0]*len(dates)\n",
    "dft_cases = pd.DataFrame(dict)\n",
    "dft_deaths = pd.DataFrame(dict)\n"
   ]
  },
  {
   "cell_type": "code",
   "execution_count": 6,
   "metadata": {
    "execution": {
     "iopub.execute_input": "2021-01-10T12:44:37.976730Z",
     "iopub.status.busy": "2021-01-10T12:44:37.975605Z",
     "iopub.status.idle": "2021-01-10T12:44:40.888130Z",
     "shell.execute_reply": "2021-01-10T12:44:40.887258Z"
    },
    "papermill": {
     "duration": 2.935728,
     "end_time": "2021-01-10T12:44:40.888352",
     "exception": false,
     "start_time": "2021-01-10T12:44:37.952624",
     "status": "completed"
    },
    "tags": []
   },
   "outputs": [],
   "source": [
    "#hide\n",
    "for i in range(len(dates)):\n",
    "    df1_deaths = df_deaths1.get_group(dates[i])\n",
    "    for j in range(len(df1_deaths.index)):\n",
    "        if df1_deaths.iloc[j,1] in arr_states:\n",
    "            dft_deaths.loc[i,df1_deaths.iloc[j,1]] = df1_deaths.iloc[j,2]\n",
    "dft_deaths = dft_deaths.set_index('states')"
   ]
  },
  {
   "cell_type": "code",
   "execution_count": 7,
   "metadata": {
    "execution": {
     "iopub.execute_input": "2021-01-10T12:44:40.929800Z",
     "iopub.status.busy": "2021-01-10T12:44:40.929187Z",
     "iopub.status.idle": "2021-01-10T12:44:43.814958Z",
     "shell.execute_reply": "2021-01-10T12:44:43.813707Z"
    },
    "papermill": {
     "duration": 2.908223,
     "end_time": "2021-01-10T12:44:43.815121",
     "exception": false,
     "start_time": "2021-01-10T12:44:40.906898",
     "status": "completed"
    },
    "tags": []
   },
   "outputs": [],
   "source": [
    "#hide\n",
    "for i in range(len(dates)):\n",
    "    df1_cases = df_cases1.get_group(dates[i])\n",
    "    for j in range(len(df1_cases.index)):\n",
    "        if df1_cases.iloc[j,1] in arr_states:\n",
    "            dft_cases.loc[i,df1_cases.iloc[j,1]] = df1_cases.iloc[j,2]\n",
    "dft_cases = dft_cases.set_index('states')"
   ]
  },
  {
   "cell_type": "code",
   "execution_count": 8,
   "metadata": {
    "execution": {
     "iopub.execute_input": "2021-01-10T12:44:43.865802Z",
     "iopub.status.busy": "2021-01-10T12:44:43.864764Z",
     "iopub.status.idle": "2021-01-10T12:44:43.866971Z",
     "shell.execute_reply": "2021-01-10T12:44:43.867456Z"
    },
    "papermill": {
     "duration": 0.03325,
     "end_time": "2021-01-10T12:44:43.867599",
     "exception": false,
     "start_time": "2021-01-10T12:44:43.834349",
     "status": "completed"
    },
    "tags": []
   },
   "outputs": [],
   "source": [
    "#hide\n",
    "dft_cases = dft_cases.T\n",
    "dft_deaths = dft_deaths.T\n",
    "dt_today = dates[-1]\n",
    "dt_yday = dates[-2]"
   ]
  },
  {
   "cell_type": "code",
   "execution_count": 9,
   "metadata": {
    "execution": {
     "iopub.execute_input": "2021-01-10T12:44:43.905657Z",
     "iopub.status.busy": "2021-01-10T12:44:43.905055Z",
     "iopub.status.idle": "2021-01-10T12:44:43.908685Z",
     "shell.execute_reply": "2021-01-10T12:44:43.909147Z"
    },
    "papermill": {
     "duration": 0.025984,
     "end_time": "2021-01-10T12:44:43.909297",
     "exception": false,
     "start_time": "2021-01-10T12:44:43.883313",
     "status": "completed"
    },
    "tags": []
   },
   "outputs": [],
   "source": [
    "#hide\n",
    "dft_cases = dft_cases.reset_index()\n",
    "dft_deaths = dft_deaths.reset_index()\n",
    "dft_cases = dft_cases.rename(columns = {'index':'state'})\n",
    "dft_deaths = dft_deaths.rename(columns = {'index':'state'})"
   ]
  },
  {
   "cell_type": "code",
   "execution_count": 10,
   "metadata": {
    "execution": {
     "iopub.execute_input": "2021-01-10T12:44:43.954463Z",
     "iopub.status.busy": "2021-01-10T12:44:43.953842Z",
     "iopub.status.idle": "2021-01-10T12:44:43.956411Z",
     "shell.execute_reply": "2021-01-10T12:44:43.955903Z"
    },
    "papermill": {
     "duration": 0.031553,
     "end_time": "2021-01-10T12:44:43.956548",
     "exception": false,
     "start_time": "2021-01-10T12:44:43.924995",
     "status": "completed"
    },
    "tags": []
   },
   "outputs": [],
   "source": [
    "#hide\n",
    "dfc_cases = dft_cases.groupby('state')[dt_today].sum()\n",
    "dfc_deaths = dft_deaths.groupby('state')[dt_today].sum()\n",
    "dfp_cases = dft_cases.groupby('state')[dt_yday].sum()\n",
    "dfp_deaths = dft_deaths.groupby('state')[dt_yday].sum()"
   ]
  },
  {
   "cell_type": "code",
   "execution_count": 11,
   "metadata": {
    "execution": {
     "iopub.execute_input": "2021-01-10T12:44:44.003004Z",
     "iopub.status.busy": "2021-01-10T12:44:44.002190Z",
     "iopub.status.idle": "2021-01-10T12:44:44.008230Z",
     "shell.execute_reply": "2021-01-10T12:44:44.008714Z"
    },
    "papermill": {
     "duration": 0.036428,
     "end_time": "2021-01-10T12:44:44.008875",
     "exception": false,
     "start_time": "2021-01-10T12:44:43.972447",
     "status": "completed"
    },
    "tags": []
   },
   "outputs": [
    {
     "data": {
      "text/html": [
       "<div>\n",
       "<style scoped>\n",
       "    .dataframe tbody tr th:only-of-type {\n",
       "        vertical-align: middle;\n",
       "    }\n",
       "\n",
       "    .dataframe tbody tr th {\n",
       "        vertical-align: top;\n",
       "    }\n",
       "\n",
       "    .dataframe thead th {\n",
       "        text-align: right;\n",
       "    }\n",
       "</style>\n",
       "<table border=\"1\" class=\"dataframe\">\n",
       "  <thead>\n",
       "    <tr style=\"text-align: right;\">\n",
       "      <th></th>\n",
       "      <th>states</th>\n",
       "      <th>Cases</th>\n",
       "      <th>Deaths</th>\n",
       "      <th>PCases</th>\n",
       "      <th>PDeaths</th>\n",
       "    </tr>\n",
       "  </thead>\n",
       "  <tbody>\n",
       "    <tr>\n",
       "      <th>0</th>\n",
       "      <td>Maharashtra</td>\n",
       "      <td>1965556</td>\n",
       "      <td>50027</td>\n",
       "      <td>1965556</td>\n",
       "      <td>50027</td>\n",
       "    </tr>\n",
       "    <tr>\n",
       "      <th>1</th>\n",
       "      <td>Karnataka</td>\n",
       "      <td>926767</td>\n",
       "      <td>12138</td>\n",
       "      <td>926767</td>\n",
       "      <td>12138</td>\n",
       "    </tr>\n",
       "    <tr>\n",
       "      <th>2</th>\n",
       "      <td>Andhra Pradesh</td>\n",
       "      <td>884689</td>\n",
       "      <td>7128</td>\n",
       "      <td>884689</td>\n",
       "      <td>7128</td>\n",
       "    </tr>\n",
       "    <tr>\n",
       "      <th>3</th>\n",
       "      <td>Tamil Nadu</td>\n",
       "      <td>825537</td>\n",
       "      <td>12215</td>\n",
       "      <td>825537</td>\n",
       "      <td>12215</td>\n",
       "    </tr>\n",
       "    <tr>\n",
       "      <th>4</th>\n",
       "      <td>Kerala</td>\n",
       "      <td>806604</td>\n",
       "      <td>3280</td>\n",
       "      <td>806604</td>\n",
       "      <td>3280</td>\n",
       "    </tr>\n",
       "  </tbody>\n",
       "</table>\n",
       "</div>"
      ],
      "text/plain": [
       "           states    Cases  Deaths   PCases  PDeaths\n",
       "0     Maharashtra  1965556   50027  1965556    50027\n",
       "1       Karnataka   926767   12138   926767    12138\n",
       "2  Andhra Pradesh   884689    7128   884689     7128\n",
       "3      Tamil Nadu   825537   12215   825537    12215\n",
       "4          Kerala   806604    3280   806604     3280"
      ]
     },
     "execution_count": 11,
     "metadata": {},
     "output_type": "execute_result"
    }
   ],
   "source": [
    "#hide\n",
    "df_table = pd.DataFrame({'states': dfc_cases.index, 'Cases': dfc_cases.values, 'Deaths': dfc_deaths.values, 'PCases': dfp_cases.values, 'PDeaths': dfp_deaths.values}).set_index('states')\n",
    "df_table = df_table.sort_values(by = ['Cases','Deaths'], ascending = [False, False])\n",
    "df_table = df_table.reset_index()\n",
    "df_table.head()"
   ]
  },
  {
   "cell_type": "code",
   "execution_count": 12,
   "metadata": {
    "execution": {
     "iopub.execute_input": "2021-01-10T12:44:44.056219Z",
     "iopub.status.busy": "2021-01-10T12:44:44.048954Z",
     "iopub.status.idle": "2021-01-10T12:44:44.059181Z",
     "shell.execute_reply": "2021-01-10T12:44:44.058694Z"
    },
    "papermill": {
     "duration": 0.032503,
     "end_time": "2021-01-10T12:44:44.059323",
     "exception": false,
     "start_time": "2021-01-10T12:44:44.026820",
     "status": "completed"
    },
    "tags": []
   },
   "outputs": [],
   "source": [
    "#hide\n",
    "for c in 'Cases, Deaths'.split(', '):\n",
    "    df_table[f'{c} (+)'] = (df_table[c] - df_table[f'P{c}']).clip(0)\n",
    "df_table['Fatality Rate'] = (100* df_table['Deaths']/ df_table['Cases']).round(2)"
   ]
  },
  {
   "cell_type": "code",
   "execution_count": 13,
   "metadata": {
    "execution": {
     "iopub.execute_input": "2021-01-10T12:44:44.107141Z",
     "iopub.status.busy": "2021-01-10T12:44:44.105696Z",
     "iopub.status.idle": "2021-01-10T12:44:44.109683Z",
     "shell.execute_reply": "2021-01-10T12:44:44.109040Z"
    },
    "papermill": {
     "duration": 0.033152,
     "end_time": "2021-01-10T12:44:44.109820",
     "exception": false,
     "start_time": "2021-01-10T12:44:44.076668",
     "status": "completed"
    },
    "tags": []
   },
   "outputs": [
    {
     "data": {
      "text/html": [
       "<div>\n",
       "<style scoped>\n",
       "    .dataframe tbody tr th:only-of-type {\n",
       "        vertical-align: middle;\n",
       "    }\n",
       "\n",
       "    .dataframe tbody tr th {\n",
       "        vertical-align: top;\n",
       "    }\n",
       "\n",
       "    .dataframe thead th {\n",
       "        text-align: right;\n",
       "    }\n",
       "</style>\n",
       "<table border=\"1\" class=\"dataframe\">\n",
       "  <thead>\n",
       "    <tr style=\"text-align: right;\">\n",
       "      <th></th>\n",
       "      <th>states</th>\n",
       "      <th>Cases</th>\n",
       "      <th>Deaths</th>\n",
       "      <th>PCases</th>\n",
       "      <th>PDeaths</th>\n",
       "      <th>Cases (+)</th>\n",
       "      <th>Deaths (+)</th>\n",
       "      <th>Fatality Rate</th>\n",
       "    </tr>\n",
       "  </thead>\n",
       "  <tbody>\n",
       "    <tr>\n",
       "      <th>0</th>\n",
       "      <td>Maharashtra</td>\n",
       "      <td>1965556</td>\n",
       "      <td>50027</td>\n",
       "      <td>1965556</td>\n",
       "      <td>50027</td>\n",
       "      <td>0</td>\n",
       "      <td>0</td>\n",
       "      <td>2.55</td>\n",
       "    </tr>\n",
       "    <tr>\n",
       "      <th>1</th>\n",
       "      <td>Karnataka</td>\n",
       "      <td>926767</td>\n",
       "      <td>12138</td>\n",
       "      <td>926767</td>\n",
       "      <td>12138</td>\n",
       "      <td>0</td>\n",
       "      <td>0</td>\n",
       "      <td>1.31</td>\n",
       "    </tr>\n",
       "    <tr>\n",
       "      <th>2</th>\n",
       "      <td>Andhra Pradesh</td>\n",
       "      <td>884689</td>\n",
       "      <td>7128</td>\n",
       "      <td>884689</td>\n",
       "      <td>7128</td>\n",
       "      <td>0</td>\n",
       "      <td>0</td>\n",
       "      <td>0.81</td>\n",
       "    </tr>\n",
       "    <tr>\n",
       "      <th>3</th>\n",
       "      <td>Tamil Nadu</td>\n",
       "      <td>825537</td>\n",
       "      <td>12215</td>\n",
       "      <td>825537</td>\n",
       "      <td>12215</td>\n",
       "      <td>0</td>\n",
       "      <td>0</td>\n",
       "      <td>1.48</td>\n",
       "    </tr>\n",
       "    <tr>\n",
       "      <th>4</th>\n",
       "      <td>Kerala</td>\n",
       "      <td>806604</td>\n",
       "      <td>3280</td>\n",
       "      <td>806604</td>\n",
       "      <td>3280</td>\n",
       "      <td>0</td>\n",
       "      <td>0</td>\n",
       "      <td>0.41</td>\n",
       "    </tr>\n",
       "  </tbody>\n",
       "</table>\n",
       "</div>"
      ],
      "text/plain": [
       "           states    Cases  Deaths   PCases  PDeaths  Cases (+)  Deaths (+)  \\\n",
       "0     Maharashtra  1965556   50027  1965556    50027          0           0   \n",
       "1       Karnataka   926767   12138   926767    12138          0           0   \n",
       "2  Andhra Pradesh   884689    7128   884689     7128          0           0   \n",
       "3      Tamil Nadu   825537   12215   825537    12215          0           0   \n",
       "4          Kerala   806604    3280   806604     3280          0           0   \n",
       "\n",
       "   Fatality Rate  \n",
       "0           2.55  \n",
       "1           1.31  \n",
       "2           0.81  \n",
       "3           1.48  \n",
       "4           0.41  "
      ]
     },
     "execution_count": 13,
     "metadata": {},
     "output_type": "execute_result"
    }
   ],
   "source": [
    "#hide\n",
    "df_table.head()"
   ]
  },
  {
   "cell_type": "code",
   "execution_count": 14,
   "metadata": {
    "execution": {
     "iopub.execute_input": "2021-01-10T12:44:44.167725Z",
     "iopub.status.busy": "2021-01-10T12:44:44.166979Z",
     "iopub.status.idle": "2021-01-10T12:44:44.170722Z",
     "shell.execute_reply": "2021-01-10T12:44:44.171175Z"
    },
    "papermill": {
     "duration": 0.04293,
     "end_time": "2021-01-10T12:44:44.171331",
     "exception": false,
     "start_time": "2021-01-10T12:44:44.128401",
     "status": "completed"
    },
    "tags": []
   },
   "outputs": [
    {
     "data": {
      "text/plain": [
       "{'updated': '2021-01-10',\n",
       " 'since': '2021-01-09',\n",
       " 'Cases': 10452403,\n",
       " 'PCases': 10451346,\n",
       " 'Deaths': 151063,\n",
       " 'PDeaths': 151048,\n",
       " 'Cases (+)': 1057,\n",
       " 'Deaths (+)': 15}"
      ]
     },
     "execution_count": 14,
     "metadata": {},
     "output_type": "execute_result"
    }
   ],
   "source": [
    "#hide\n",
    "summary = {'updated':dates[-1], 'since':dates[-2]}\n",
    "list_names = ['Cases', 'PCases', 'Deaths', 'PDeaths', 'Cases (+)', 'Deaths (+)']\n",
    "for name in list_names:\n",
    "    summary[name] = df_table.sum()[name]\n",
    "summary"
   ]
  },
  {
   "cell_type": "code",
   "execution_count": 15,
   "metadata": {
    "execution": {
     "iopub.execute_input": "2021-01-10T12:44:44.212630Z",
     "iopub.status.busy": "2021-01-10T12:44:44.212004Z",
     "iopub.status.idle": "2021-01-10T12:44:44.215157Z",
     "shell.execute_reply": "2021-01-10T12:44:44.214319Z"
    },
    "papermill": {
     "duration": 0.026344,
     "end_time": "2021-01-10T12:44:44.215290",
     "exception": false,
     "start_time": "2021-01-10T12:44:44.188946",
     "status": "completed"
    },
    "tags": []
   },
   "outputs": [],
   "source": [
    "#hide\n",
    "overview = '''\n",
    "<!-- #######  HTML!! #########-->\n",
    "<h1 style=\"color: #5e9ca0; text-align: center;\">India</h1>\n",
    "<p style=\"text-align: center;\">Last update: <strong>{update}</strong></p>\n",
    "<p style=\"text-align: center;\">Confirmed cases:</p>\n",
    "<p style=\"text-align: center;font-size:24px;\">{cases} (<span style=\"color: #ff0000;\">+{new}</span>)</p>\n",
    "<p style=\"text-align: center;\">Confirmed deaths:</p>\n",
    "<p style=\"text-align: center;font-size:24px;\">{deaths} (<span style=\"color: #ff0000;\">+{dnew}</span>)</p>\n",
    "'''"
   ]
  },
  {
   "cell_type": "code",
   "execution_count": 16,
   "metadata": {
    "execution": {
     "iopub.execute_input": "2021-01-10T12:44:44.257183Z",
     "iopub.status.busy": "2021-01-10T12:44:44.256449Z",
     "iopub.status.idle": "2021-01-10T12:44:44.258788Z",
     "shell.execute_reply": "2021-01-10T12:44:44.259275Z"
    },
    "papermill": {
     "duration": 0.027241,
     "end_time": "2021-01-10T12:44:44.259423",
     "exception": false,
     "start_time": "2021-01-10T12:44:44.232182",
     "status": "completed"
    },
    "tags": []
   },
   "outputs": [
    {
     "data": {
      "text/html": [
       "\n",
       "<!-- #######  HTML!! #########-->\n",
       "<h1 style=\"color: #5e9ca0; text-align: center;\">India</h1>\n",
       "<p style=\"text-align: center;\">Last update: <strong>2021-01-10</strong></p>\n",
       "<p style=\"text-align: center;\">Confirmed cases:</p>\n",
       "<p style=\"text-align: center;font-size:24px;\">10452403 (<span style=\"color: #ff0000;\">+1057</span>)</p>\n",
       "<p style=\"text-align: center;\">Confirmed deaths:</p>\n",
       "<p style=\"text-align: center;font-size:24px;\">151063 (<span style=\"color: #ff0000;\">+15</span>)</p>\n"
      ],
      "text/plain": [
       "<IPython.core.display.HTML object>"
      ]
     },
     "metadata": {},
     "output_type": "display_data"
    }
   ],
   "source": [
    "#hide_input\n",
    "update = summary['updated']\n",
    "cases = summary['Cases']\n",
    "new = summary['Cases (+)']\n",
    "deaths = summary['Deaths']\n",
    "dnew = summary['Deaths (+)']\n",
    "\n",
    "html = HTML(overview.format(update=update, cases=cases,new=new,deaths=deaths,dnew=dnew))\n",
    "\n",
    "display(html)"
   ]
  },
  {
   "cell_type": "code",
   "execution_count": 17,
   "metadata": {
    "execution": {
     "iopub.execute_input": "2021-01-10T12:44:44.303338Z",
     "iopub.status.busy": "2021-01-10T12:44:44.302669Z",
     "iopub.status.idle": "2021-01-10T12:44:44.311066Z",
     "shell.execute_reply": "2021-01-10T12:44:44.310568Z"
    },
    "papermill": {
     "duration": 0.0343,
     "end_time": "2021-01-10T12:44:44.311202",
     "exception": false,
     "start_time": "2021-01-10T12:44:44.276902",
     "status": "completed"
    },
    "tags": []
   },
   "outputs": [],
   "source": [
    "#hide\n",
    "dt_cols = list(dft_cases.columns[1:])\n",
    "dft_ct_new_cases = dft_cases.groupby('state')[dt_cols].sum().diff(axis=1).fillna(0).astype(int)\n",
    "dft_ct_new_cases.sort_values(by = dates[-1], ascending = False,inplace = True)"
   ]
  },
  {
   "cell_type": "code",
   "execution_count": 18,
   "metadata": {
    "execution": {
     "iopub.execute_input": "2021-01-10T12:44:44.366028Z",
     "iopub.status.busy": "2021-01-10T12:44:44.365419Z",
     "iopub.status.idle": "2021-01-10T12:44:44.368757Z",
     "shell.execute_reply": "2021-01-10T12:44:44.368228Z"
    },
    "papermill": {
     "duration": 0.039332,
     "end_time": "2021-01-10T12:44:44.368889",
     "exception": false,
     "start_time": "2021-01-10T12:44:44.329557",
     "status": "completed"
    },
    "tags": []
   },
   "outputs": [
    {
     "data": {
      "text/html": [
       "<div>\n",
       "<style scoped>\n",
       "    .dataframe tbody tr th:only-of-type {\n",
       "        vertical-align: middle;\n",
       "    }\n",
       "\n",
       "    .dataframe tbody tr th {\n",
       "        vertical-align: top;\n",
       "    }\n",
       "\n",
       "    .dataframe thead th {\n",
       "        text-align: right;\n",
       "    }\n",
       "</style>\n",
       "<table border=\"1\" class=\"dataframe\">\n",
       "  <thead>\n",
       "    <tr style=\"text-align: right;\">\n",
       "      <th>states</th>\n",
       "      <th>2020-07-01</th>\n",
       "      <th>2020-07-02</th>\n",
       "      <th>2020-07-03</th>\n",
       "      <th>2020-07-04</th>\n",
       "      <th>2020-07-05</th>\n",
       "      <th>2020-07-06</th>\n",
       "      <th>2020-07-07</th>\n",
       "      <th>2020-07-08</th>\n",
       "      <th>2020-07-09</th>\n",
       "      <th>2020-07-10</th>\n",
       "      <th>...</th>\n",
       "      <th>2021-01-01</th>\n",
       "      <th>2021-01-02</th>\n",
       "      <th>2021-01-03</th>\n",
       "      <th>2021-01-04</th>\n",
       "      <th>2021-01-05</th>\n",
       "      <th>2021-01-06</th>\n",
       "      <th>2021-01-07</th>\n",
       "      <th>2021-01-08</th>\n",
       "      <th>2021-01-09</th>\n",
       "      <th>2021-01-10</th>\n",
       "    </tr>\n",
       "    <tr>\n",
       "      <th>state</th>\n",
       "      <th></th>\n",
       "      <th></th>\n",
       "      <th></th>\n",
       "      <th></th>\n",
       "      <th></th>\n",
       "      <th></th>\n",
       "      <th></th>\n",
       "      <th></th>\n",
       "      <th></th>\n",
       "      <th></th>\n",
       "      <th></th>\n",
       "      <th></th>\n",
       "      <th></th>\n",
       "      <th></th>\n",
       "      <th></th>\n",
       "      <th></th>\n",
       "      <th></th>\n",
       "      <th></th>\n",
       "      <th></th>\n",
       "      <th></th>\n",
       "      <th></th>\n",
       "    </tr>\n",
       "  </thead>\n",
       "  <tbody>\n",
       "    <tr>\n",
       "      <th>Delhi</th>\n",
       "      <td>0</td>\n",
       "      <td>2373</td>\n",
       "      <td>2520</td>\n",
       "      <td>2505</td>\n",
       "      <td>2244</td>\n",
       "      <td>1379</td>\n",
       "      <td>2008</td>\n",
       "      <td>2033</td>\n",
       "      <td>2187</td>\n",
       "      <td>2089</td>\n",
       "      <td>...</td>\n",
       "      <td>585</td>\n",
       "      <td>494</td>\n",
       "      <td>424</td>\n",
       "      <td>384</td>\n",
       "      <td>442</td>\n",
       "      <td>654</td>\n",
       "      <td>486</td>\n",
       "      <td>444</td>\n",
       "      <td>519</td>\n",
       "      <td>399</td>\n",
       "    </tr>\n",
       "    <tr>\n",
       "      <th>Telangana</th>\n",
       "      <td>0</td>\n",
       "      <td>1213</td>\n",
       "      <td>1892</td>\n",
       "      <td>1850</td>\n",
       "      <td>1590</td>\n",
       "      <td>1831</td>\n",
       "      <td>1879</td>\n",
       "      <td>1924</td>\n",
       "      <td>1410</td>\n",
       "      <td>1278</td>\n",
       "      <td>...</td>\n",
       "      <td>461</td>\n",
       "      <td>293</td>\n",
       "      <td>394</td>\n",
       "      <td>238</td>\n",
       "      <td>253</td>\n",
       "      <td>417</td>\n",
       "      <td>379</td>\n",
       "      <td>346</td>\n",
       "      <td>298</td>\n",
       "      <td>351</td>\n",
       "    </tr>\n",
       "    <tr>\n",
       "      <th>Odisha</th>\n",
       "      <td>0</td>\n",
       "      <td>229</td>\n",
       "      <td>561</td>\n",
       "      <td>495</td>\n",
       "      <td>469</td>\n",
       "      <td>456</td>\n",
       "      <td>571</td>\n",
       "      <td>527</td>\n",
       "      <td>577</td>\n",
       "      <td>755</td>\n",
       "      <td>...</td>\n",
       "      <td>245</td>\n",
       "      <td>251</td>\n",
       "      <td>192</td>\n",
       "      <td>183</td>\n",
       "      <td>198</td>\n",
       "      <td>231</td>\n",
       "      <td>230</td>\n",
       "      <td>245</td>\n",
       "      <td>206</td>\n",
       "      <td>260</td>\n",
       "    </tr>\n",
       "    <tr>\n",
       "      <th>Meghalaya</th>\n",
       "      <td>0</td>\n",
       "      <td>3</td>\n",
       "      <td>4</td>\n",
       "      <td>8</td>\n",
       "      <td>2</td>\n",
       "      <td>16</td>\n",
       "      <td>6</td>\n",
       "      <td>6</td>\n",
       "      <td>13</td>\n",
       "      <td>73</td>\n",
       "      <td>...</td>\n",
       "      <td>0</td>\n",
       "      <td>40</td>\n",
       "      <td>12</td>\n",
       "      <td>22</td>\n",
       "      <td>24</td>\n",
       "      <td>19</td>\n",
       "      <td>11</td>\n",
       "      <td>24</td>\n",
       "      <td>32</td>\n",
       "      <td>19</td>\n",
       "    </tr>\n",
       "    <tr>\n",
       "      <th>Mizoram</th>\n",
       "      <td>0</td>\n",
       "      <td>2</td>\n",
       "      <td>0</td>\n",
       "      <td>2</td>\n",
       "      <td>22</td>\n",
       "      <td>11</td>\n",
       "      <td>1</td>\n",
       "      <td>5</td>\n",
       "      <td>0</td>\n",
       "      <td>23</td>\n",
       "      <td>...</td>\n",
       "      <td>12</td>\n",
       "      <td>3</td>\n",
       "      <td>4</td>\n",
       "      <td>0</td>\n",
       "      <td>11</td>\n",
       "      <td>13</td>\n",
       "      <td>9</td>\n",
       "      <td>3</td>\n",
       "      <td>16</td>\n",
       "      <td>17</td>\n",
       "    </tr>\n",
       "  </tbody>\n",
       "</table>\n",
       "<p>5 rows × 194 columns</p>\n",
       "</div>"
      ],
      "text/plain": [
       "states     2020-07-01  2020-07-02  2020-07-03  2020-07-04  2020-07-05  \\\n",
       "state                                                                   \n",
       "Delhi               0        2373        2520        2505        2244   \n",
       "Telangana           0        1213        1892        1850        1590   \n",
       "Odisha              0         229         561         495         469   \n",
       "Meghalaya           0           3           4           8           2   \n",
       "Mizoram             0           2           0           2          22   \n",
       "\n",
       "states     2020-07-06  2020-07-07  2020-07-08  2020-07-09  2020-07-10  ...  \\\n",
       "state                                                                  ...   \n",
       "Delhi            1379        2008        2033        2187        2089  ...   \n",
       "Telangana        1831        1879        1924        1410        1278  ...   \n",
       "Odisha            456         571         527         577         755  ...   \n",
       "Meghalaya          16           6           6          13          73  ...   \n",
       "Mizoram            11           1           5           0          23  ...   \n",
       "\n",
       "states     2021-01-01  2021-01-02  2021-01-03  2021-01-04  2021-01-05  \\\n",
       "state                                                                   \n",
       "Delhi             585         494         424         384         442   \n",
       "Telangana         461         293         394         238         253   \n",
       "Odisha            245         251         192         183         198   \n",
       "Meghalaya           0          40          12          22          24   \n",
       "Mizoram            12           3           4           0          11   \n",
       "\n",
       "states     2021-01-06  2021-01-07  2021-01-08  2021-01-09  2021-01-10  \n",
       "state                                                                  \n",
       "Delhi             654         486         444         519         399  \n",
       "Telangana         417         379         346         298         351  \n",
       "Odisha            231         230         245         206         260  \n",
       "Meghalaya          19          11          24          32          19  \n",
       "Mizoram            13           9           3          16          17  \n",
       "\n",
       "[5 rows x 194 columns]"
      ]
     },
     "execution_count": 18,
     "metadata": {},
     "output_type": "execute_result"
    }
   ],
   "source": [
    "#hide\n",
    "dft_ct_new_cases.head()"
   ]
  },
  {
   "cell_type": "code",
   "execution_count": 19,
   "metadata": {
    "execution": {
     "iopub.execute_input": "2021-01-10T12:44:44.435048Z",
     "iopub.status.busy": "2021-01-10T12:44:44.418186Z",
     "iopub.status.idle": "2021-01-10T12:44:51.542990Z",
     "shell.execute_reply": "2021-01-10T12:44:51.543546Z"
    },
    "papermill": {
     "duration": 7.156673,
     "end_time": "2021-01-10T12:44:51.543711",
     "exception": false,
     "start_time": "2021-01-10T12:44:44.387038",
     "status": "completed"
    },
    "tags": []
   },
   "outputs": [
    {
     "data": {
      "image/png": "[encoded data removed]",
      "text/plain": [
       "<Figure size 1296x2016 with 11 Axes>"
      ]
     },
     "metadata": {
      "needs_background": "light"
     },
     "output_type": "display_data"
    }
   ],
   "source": [
    "#hide_input\n",
    "df = dft_ct_new_cases.copy()\n",
    "df.loc['Total'] = df.sum()\n",
    "n = 5\n",
    "ax = []\n",
    "fig = plt.figure(figsize = (18,28))\n",
    "gs = fig.add_gridspec(n+2, 5)\n",
    "# gs = fig.add_gridspec(2, 3)\n",
    "ax1 = fig.add_subplot(gs[0, :])\n",
    "ef = df.loc['Total'].rename_axis('date').reset_index()\n",
    "ef['date'] = ef['date'].astype('datetime64[ns]')\n",
    "ax1.bar(ef.date,ef.Total,alpha=0.3,color='#007acc')\n",
    "ax1.plot(ef.date,ef.Total , marker=\"o\", color='#007acc')\n",
    "ax1.xaxis.set_major_locator(mdates.WeekdayLocator())\n",
    "ax1.xaxis.set_major_formatter(mdates.DateFormatter('%b %d'))\n",
    "ax1.text(0.02, 0.5,'India daily case count', transform = ax1.transAxes, fontsize=25);\n",
    "ax1.spines['right'].set_visible(False)\n",
    "ax1.spines['top'].set_visible(False)\n",
    "\n",
    "ax2 = fig.add_subplot(gs[1,0])\n",
    "ef = df.loc['Maharashtra'].rename_axis('date').reset_index()\n",
    "ef['date'] = ef['date'].astype('datetime64[ns]')\n",
    "\n",
    "ax2.bar(ef.date, ef.Maharashtra,color = '#007acc',alpha=0.5)\n",
    "ax2.xaxis.set_major_locator(mdates.WeekdayLocator())\n",
    "ax2.xaxis.set_major_formatter(mdates.DateFormatter('%b %d'))\n",
    "ax2.set_xticks(ax2.get_xticks()[::3])\n",
    "maxyval = ef.Maharashtra.max()\n",
    "ax2.set_ylim([0,maxyval])\n",
    "ax2.text(0.05, 0.9,'Maharashtra', transform = ax2.transAxes, fontsize=20);\n",
    "ax2.spines['right'].set_visible(False)\n",
    "ax2.spines['top'].set_visible(False)\n",
    "\n",
    "\n",
    "ax3 = fig.add_subplot(gs[1,1])\n",
    "ef = df.loc['Tamil Nadu'].rename_axis('date').reset_index()\n",
    "ef['date'] = ef['date'].astype('datetime64[ns]')\n",
    "ax3.bar(ef.date, ef['Tamil Nadu'],color = '#007acc',alpha=0.5,)\n",
    "ax3.xaxis.set_major_locator(mdates.WeekdayLocator())\n",
    "ax3.xaxis.set_major_formatter(mdates.DateFormatter('%b %d'))\n",
    "ax3.set_xticks(ax3.get_xticks()[::3])\n",
    "ax3.text(0.05, 0.9,'Tamil Nadu', transform = ax3.transAxes, fontsize=20);\n",
    "ax3.spines['right'].set_visible(False)\n",
    "ax3.spines['top'].set_visible(False)\n",
    "\n",
    "ax5 = fig.add_subplot(gs[1,3])\n",
    "ef = df.loc['Telangana'].rename_axis('date').reset_index()\n",
    "ef['date'] = ef['date'].astype('datetime64[ns]')\n",
    "ax5.bar(ef.date, ef['Telangana'],color = '#007acc',alpha=0.5,)\n",
    "ax5.xaxis.set_major_locator(mdates.WeekdayLocator())\n",
    "ax5.xaxis.set_major_formatter(mdates.DateFormatter('%b %d'))\n",
    "ax5.set_xticks(ax5.get_xticks()[::3])\n",
    "ax5.text(0.05, 0.9,'Telangana', transform = ax5.transAxes, fontsize=20);\n",
    "ax5.spines['right'].set_visible(False)\n",
    "ax5.spines['top'].set_visible(False)\n",
    "\n",
    "ax6 = fig.add_subplot(gs[1,4])\n",
    "ef = df.loc['Andhra Pradesh'].rename_axis('date').reset_index()\n",
    "ef['date'] = ef['date'].astype('datetime64[ns]')\n",
    "ax6.bar(ef.date, ef['Andhra Pradesh'],color = '#007acc',alpha=0.5,)\n",
    "ax6.xaxis.set_major_locator(mdates.WeekdayLocator())\n",
    "ax6.xaxis.set_major_formatter(mdates.DateFormatter('%b %d'))\n",
    "ax6.set_xticks(ax6.get_xticks()[::3])\n",
    "ax6.text(0.05, 1,'Andhra Pradesh', transform = ax6.transAxes, fontsize=20);\n",
    "ax6.spines['right'].set_visible(False)\n",
    "ax6.spines['top'].set_visible(False)\n",
    "\n",
    "ax4 = fig.add_subplot(gs[1,2])\n",
    "ef = df.loc['Delhi'].rename_axis('date').reset_index()\n",
    "ef['date'] = ef['date'].astype('datetime64[ns]')\n",
    "ax4.bar(ef.date, ef.Delhi,color = '#007acc',alpha=0.5)\n",
    "ax4.set_xticks([])\n",
    "ax4.xaxis.set_major_locator(mdates.WeekdayLocator())\n",
    "ax4.xaxis.set_major_formatter(mdates.DateFormatter('%b %d'))\n",
    "ax4.set_xticks(ax4.get_xticks()[::3])\n",
    "ax4.spines['right'].set_visible(False)\n",
    "ax4.spines['top'].set_visible(False)\n",
    "\n",
    "ax4.text(0.05, 1,'Delhi', transform = ax4.transAxes, fontsize=20)\n",
    "\n",
    "for i in range(n):\n",
    "    \n",
    "    ax.append(fig.add_subplot(gs[i+2,:]))\n",
    "    ef = df.iloc[i+3].rename_axis('date').reset_index()\n",
    "    ef['date'] = ef['date'].astype('datetime64[ns]')\n",
    "    ax[i].bar(ef.date,ef.iloc[:,-1],color = '#007acc',alpha=0.3)\n",
    "    ax[i].plot(ef.date,ef.iloc[:,-1],marker='o',color='#007acc')\n",
    "    ax[i].text(0.02,0.5,f'{ef.columns.values[-1]}',transform = ax[i].transAxes, fontsize = 20);\n",
    "    ax[i].xaxis.set_major_locator(mdates.WeekdayLocator())\n",
    "    ax[i].xaxis.set_major_formatter(mdates.DateFormatter('%b %d'))\n",
    "    ax[i].set_ylim([0,7000])\n",
    "    ax[i].spines['right'].set_visible(False)\n",
    "    ax[i].spines['top'].set_visible(False)\n",
    "plt.tight_layout()\n"
   ]
  },
  {
   "cell_type": "code",
   "execution_count": 20,
   "metadata": {
    "execution": {
     "iopub.execute_input": "2021-01-10T12:44:51.600295Z",
     "iopub.status.busy": "2021-01-10T12:44:51.599671Z",
     "iopub.status.idle": "2021-01-10T12:44:51.602047Z",
     "shell.execute_reply": "2021-01-10T12:44:51.602526Z"
    },
    "papermill": {
     "duration": 0.035831,
     "end_time": "2021-01-10T12:44:51.602674",
     "exception": false,
     "start_time": "2021-01-10T12:44:51.566843",
     "status": "completed"
    },
    "tags": []
   },
   "outputs": [
    {
     "name": "stdout",
     "output_type": "stream",
     "text": [
      "                                   states    Cases  Deaths   PCases  PDeaths  Cases (+)  Deaths (+)  Fatality Rate\n",
      "                              Maharashtra  1965556   50027  1965556    50027          0           0           2.55\n",
      "                                Karnataka   926767   12138   926767    12138          0           0           1.31\n",
      "                           Andhra Pradesh   884689    7128   884689     7128          0           0           0.81\n",
      "                               Tamil Nadu   825537   12215   825537    12215          0           0           1.48\n",
      "                                   Kerala   806604    3280   806604     3280          0           0           0.41\n",
      "                                    Delhi   630200   10678   629801    10666        399          12           1.69\n",
      "                            Uttar Pradesh   592896    8493   592896     8493          0           0           1.43\n",
      "                              West Bengal   559886    9922   559886     9922          0           0           1.77\n",
      "                                   Odisha   331862    1944   331602     1944        260           0           0.59\n",
      "                                Rajasthan   312521    2731   312521     2731          0           0           0.87\n",
      "                                Telangana   289784    1565   289433     1563        351           2           0.54\n",
      "                             Chhattisgarh   288570    3484   288570     3484          0           0           1.21\n",
      "                                  Haryana   264721    2949   264721     2949          0           0           1.11\n",
      "                                    Bihar   256419    1430   256419     1430          0           0           0.56\n",
      "                                  Gujarat   251273    4340   251273     4340          0           0           1.73\n",
      "                           Madhya Pradesh   247977    3701   247977     3701          0           0           1.49\n",
      "                                    Assam   216565    1060   216565     1060          0           0           0.49\n",
      "                                   Punjab   168734    5439   168734     5439          0           0           3.22\n",
      "                        Jammu and Kashmir   122425    1909   122425     1909          0           0           1.56\n",
      "                                Jharkhand   116672    1045   116672     1045          0           0           0.90\n",
      "                              Uttarakhand    93398    1568    93398     1568          0           0           1.68\n",
      "                         Himachal Pradesh    56366     946    56366      946          0           0           1.68\n",
      "                                      Goa    51790     746    51790      746          0           0           1.44\n",
      "                               Puducherry    38425     636    38425      636          0           0           1.66\n",
      "                                  Tripura    33304     385    33296      385          8           0           1.16\n",
      "                                  Manipur    28646     365    28646      365          0           0           1.27\n",
      "                               Chandigarh    20251     327    20251      327          0           0           1.61\n",
      "                        Arunachal Pradesh    16767      56    16767       56          0           0           0.33\n",
      "                                Meghalaya    13611     143    13592      143         19           0           1.05\n",
      "                                 Nagaland    11978      84    11975       84          3           0           0.70\n",
      "                                   Ladakh     9608     127     9608      127          0           0           1.32\n",
      "                                   Sikkim     5984     129     5984      129          0           0           2.16\n",
      "              Andaman and Nicobar Islands     4959      62     4959       62          0           0           1.25\n",
      "                                  Mizoram     4292       9     4275        8         17           1           0.21\n",
      " Dadra and Nagar Haveli and Daman and Diu     3366       2     3366        2          0           0           0.06\n",
      "                              Lakshadweep        0       0        0        0          0           0            NaN\n"
     ]
    }
   ],
   "source": [
    "#hide_input\n",
    "print(df_table.to_string(index=False))"
   ]
  },
  {
   "cell_type": "code",
   "execution_count": null,
   "metadata": {
    "papermill": {
     "duration": 0.023622,
     "end_time": "2021-01-10T12:44:51.649673",
     "exception": false,
     "start_time": "2021-01-10T12:44:51.626051",
     "status": "completed"
    },
    "tags": []
   },
   "outputs": [],
   "source": []
  },
  {
   "cell_type": "code",
   "execution_count": null,
   "metadata": {
    "papermill": {
     "duration": 0.023238,
     "end_time": "2021-01-10T12:44:51.696393",
     "exception": false,
     "start_time": "2021-01-10T12:44:51.673155",
     "status": "completed"
    },
    "tags": []
   },
   "outputs": [],
   "source": []
  }
 ],
 "metadata": {
  "kernelspec": {
   "display_name": "Python 3",
   "language": "python",
   "name": "python3"
  },
  "language_info": {
   "codemirror_mode": {
    "name": "ipython",
    "version": 3
   },
   "file_extension": ".py",
   "mimetype": "text/x-python",
   "name": "python",
   "nbconvert_exporter": "python",
   "pygments_lexer": "ipython3",
   "version": "3.6.12"
  },
  "papermill": {
   "duration": 17.343887,
   "end_time": "2021-01-10T12:44:53.188156",
   "environment_variables": {},
   "exception": null,
   "input_path": "latest.ipynb",
   "output_path": "latest.ipynb",
   "parameters": {},
   "start_time": "2021-01-10T12:44:35.844269",
   "version": "2.1.2"
  }
 },
 "nbformat": 4,
 "nbformat_minor": 4
}