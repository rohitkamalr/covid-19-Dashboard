{
 "cells": [
  {
   "cell_type": "markdown",
   "id": "colored-stack",
   "metadata": {
    "papermill": {
     "duration": 0.02231,
     "end_time": "2021-03-02T12:28:30.232397",
     "exception": false,
     "start_time": "2021-03-02T12:28:30.210087",
     "status": "completed"
    },
    "tags": []
   },
   "source": [
    "# Latest COVID-19 India Matplotlib Overview"
   ]
  },
  {
   "cell_type": "code",
   "execution_count": 1,
   "id": "light-proportion",
   "metadata": {
    "execution": {
     "iopub.execute_input": "2021-03-02T12:28:30.281593Z",
     "iopub.status.busy": "2021-03-02T12:28:30.280929Z",
     "iopub.status.idle": "2021-03-02T12:28:30.912721Z",
     "shell.execute_reply": "2021-03-02T12:28:30.911603Z"
    },
    "papermill": {
     "duration": 0.662293,
     "end_time": "2021-03-02T12:28:30.912881",
     "exception": false,
     "start_time": "2021-03-02T12:28:30.250588",
     "status": "completed"
    },
    "tags": []
   },
   "outputs": [],
   "source": [
    "#hide\n",
    "import pandas as pd\n",
    "import numpy as np\n",
    "import requests\n",
    "import json\n",
    "import matplotlib.pyplot as plt\n",
    "import matplotlib.dates as mdates\n",
    "import matplotlib as mpl\n",
    "from IPython.core.display import display,HTML\n",
    "%matplotlib inline\n",
    "from datetime import date"
   ]
  },
  {
   "cell_type": "code",
   "execution_count": 2,
   "id": "greenhouse-shooting",
   "metadata": {
    "execution": {
     "iopub.execute_input": "2021-03-02T12:28:30.961552Z",
     "iopub.status.busy": "2021-03-02T12:28:30.960887Z",
     "iopub.status.idle": "2021-03-02T12:28:31.125996Z",
     "shell.execute_reply": "2021-03-02T12:28:31.125353Z"
    },
    "papermill": {
     "duration": 0.192612,
     "end_time": "2021-03-02T12:28:31.126138",
     "exception": false,
     "start_time": "2021-03-02T12:28:30.933526",
     "status": "completed"
    },
    "tags": []
   },
   "outputs": [],
   "source": [
    "#hide\n",
    "df  = pd.read_csv('https://api.covid19india.org/csv/latest/states.csv')\n",
    "df = df[['Date','State','Confirmed','Deceased']]\n",
    "df = df.rename(columns={'Confirmed':'Cases', \"Deceased\":'Deaths'})\n",
    "df_cases = df[[\"Date\",'State','Cases']]\n",
    "df_deaths = df[['Date','State','Deaths']]\n",
    "df_cases1 = df_cases.groupby('Date')\n",
    "df_deaths1= df_deaths.groupby('Date')"
   ]
  },
  {
   "cell_type": "code",
   "execution_count": 3,
   "id": "hybrid-cathedral",
   "metadata": {
    "execution": {
     "iopub.execute_input": "2021-03-02T12:28:31.167833Z",
     "iopub.status.busy": "2021-03-02T12:28:31.167184Z",
     "iopub.status.idle": "2021-03-02T12:28:31.194069Z",
     "shell.execute_reply": "2021-03-02T12:28:31.193492Z"
    },
    "papermill": {
     "duration": 0.04944,
     "end_time": "2021-03-02T12:28:31.194208",
     "exception": false,
     "start_time": "2021-03-02T12:28:31.144768",
     "status": "completed"
    },
    "tags": []
   },
   "outputs": [],
   "source": [
    "#hide\n",
    "df_snap = pd.read_csv('data/SnapshotCases-28-July.csv')\n",
    "arr_states = df_snap['states'].unique()\n",
    "arr_dates = df['Date'].unique()\n",
    "df_snap = df_snap.set_index('states')"
   ]
  },
  {
   "cell_type": "code",
   "execution_count": 4,
   "id": "interior-belfast",
   "metadata": {
    "execution": {
     "iopub.execute_input": "2021-03-02T12:28:31.237912Z",
     "iopub.status.busy": "2021-03-02T12:28:31.237250Z",
     "iopub.status.idle": "2021-03-02T12:28:31.240753Z",
     "shell.execute_reply": "2021-03-02T12:28:31.240173Z"
    },
    "papermill": {
     "duration": 0.028451,
     "end_time": "2021-03-02T12:28:31.240882",
     "exception": false,
     "start_time": "2021-03-02T12:28:31.212431",
     "status": "completed"
    },
    "tags": []
   },
   "outputs": [
    {
     "data": {
      "text/plain": [
       "array(['Andaman and Nicobar Islands', 'Andhra Pradesh',\n",
       "       'Arunachal Pradesh', 'Assam', 'Bihar', 'Chandigarh',\n",
       "       'Dadra and Nagar Haveli and Daman and Diu', 'Delhi', 'Goa',\n",
       "       'Gujarat', 'Haryana', 'Himachal Pradesh', 'Jammu and Kashmir',\n",
       "       'Jharkhand', 'Karnataka', 'Kerala', 'Lakshadweep',\n",
       "       'Madhya Pradesh', 'Maharashtra', 'Manipur', 'Meghalaya', 'Mizoram',\n",
       "       'Nagaland', 'Odisha', 'Puducherry', 'Punjab', 'Rajasthan',\n",
       "       'Sikkim', 'Tamil Nadu', 'Telangana', 'Tripura', 'Uttar Pradesh',\n",
       "       'West Bengal', 'Chhattisgarh', 'Ladakh', 'Uttarakhand'],\n",
       "      dtype=object)"
      ]
     },
     "execution_count": 4,
     "metadata": {},
     "output_type": "execute_result"
    }
   ],
   "source": [
    "#hide\n",
    "arr_states[-9] = 'Puducherry'\n",
    "arr_states[-10] = 'Odisha'\n",
    "arr_states[6] = 'Dadra and Nagar Haveli and Daman and Diu'\n",
    "arr_states = np.append(arr_states,np.array(['Chhattisgarh','Ladakh','Uttarakhand']))\n",
    "arr_states"
   ]
  },
  {
   "cell_type": "code",
   "execution_count": 5,
   "id": "behind-manner",
   "metadata": {
    "execution": {
     "iopub.execute_input": "2021-03-02T12:28:31.296483Z",
     "iopub.status.busy": "2021-03-02T12:28:31.295800Z",
     "iopub.status.idle": "2021-03-02T12:28:31.304922Z",
     "shell.execute_reply": "2021-03-02T12:28:31.305456Z"
    },
    "papermill": {
     "duration": 0.044273,
     "end_time": "2021-03-02T12:28:31.305605",
     "exception": false,
     "start_time": "2021-03-02T12:28:31.261332",
     "status": "completed"
    },
    "tags": []
   },
   "outputs": [],
   "source": [
    "#hide\n",
    "dates = []\n",
    "for i in arr_dates:\n",
    "    if i>='2020-07-01':\n",
    "        dates.append(i)\n",
    "dict = {'states':dates}\n",
    "for i in arr_states:\n",
    "    dict[i] = [0]*len(dates)\n",
    "dft_cases = pd.DataFrame(dict)\n",
    "dft_deaths = pd.DataFrame(dict)\n"
   ]
  },
  {
   "cell_type": "code",
   "execution_count": 6,
   "id": "simplified-peter",
   "metadata": {
    "execution": {
     "iopub.execute_input": "2021-03-02T12:28:31.350645Z",
     "iopub.status.busy": "2021-03-02T12:28:31.349973Z",
     "iopub.status.idle": "2021-03-02T12:28:35.820858Z",
     "shell.execute_reply": "2021-03-02T12:28:35.820295Z"
    },
    "papermill": {
     "duration": 4.494646,
     "end_time": "2021-03-02T12:28:35.820999",
     "exception": false,
     "start_time": "2021-03-02T12:28:31.326353",
     "status": "completed"
    },
    "tags": []
   },
   "outputs": [],
   "source": [
    "#hide\n",
    "for i in range(len(dates)):\n",
    "    df1_deaths = df_deaths1.get_group(dates[i])\n",
    "    for j in range(len(df1_deaths.index)):\n",
    "        if df1_deaths.iloc[j,1] in arr_states:\n",
    "            dft_deaths.loc[i,df1_deaths.iloc[j,1]] = df1_deaths.iloc[j,2]\n",
    "dft_deaths = dft_deaths.set_index('states')"
   ]
  },
  {
   "cell_type": "code",
   "execution_count": 7,
   "id": "geological-welding",
   "metadata": {
    "execution": {
     "iopub.execute_input": "2021-03-02T12:28:35.927338Z",
     "iopub.status.busy": "2021-03-02T12:28:35.926661Z",
     "iopub.status.idle": "2021-03-02T12:28:40.363327Z",
     "shell.execute_reply": "2021-03-02T12:28:40.363844Z"
    },
    "papermill": {
     "duration": 4.522169,
     "end_time": "2021-03-02T12:28:40.364012",
     "exception": false,
     "start_time": "2021-03-02T12:28:35.841843",
     "status": "completed"
    },
    "tags": []
   },
   "outputs": [],
   "source": [
    "#hide\n",
    "for i in range(len(dates)):\n",
    "    df1_cases = df_cases1.get_group(dates[i])\n",
    "    for j in range(len(df1_cases.index)):\n",
    "        if df1_cases.iloc[j,1] in arr_states:\n",
    "            dft_cases.loc[i,df1_cases.iloc[j,1]] = df1_cases.iloc[j,2]\n",
    "dft_cases = dft_cases.set_index('states')"
   ]
  },
  {
   "cell_type": "code",
   "execution_count": 8,
   "id": "binary-ratio",
   "metadata": {
    "execution": {
     "iopub.execute_input": "2021-03-02T12:28:40.407299Z",
     "iopub.status.busy": "2021-03-02T12:28:40.406648Z",
     "iopub.status.idle": "2021-03-02T12:28:40.409138Z",
     "shell.execute_reply": "2021-03-02T12:28:40.408607Z"
    },
    "papermill": {
     "duration": 0.026432,
     "end_time": "2021-03-02T12:28:40.409258",
     "exception": false,
     "start_time": "2021-03-02T12:28:40.382826",
     "status": "completed"
    },
    "tags": []
   },
   "outputs": [],
   "source": [
    "#hide\n",
    "dft_cases = dft_cases.T\n",
    "dft_deaths = dft_deaths.T\n",
    "dt_today = dates[-1]\n",
    "dt_yday = dates[-2]"
   ]
  },
  {
   "cell_type": "code",
   "execution_count": 9,
   "id": "boolean-calculator",
   "metadata": {
    "execution": {
     "iopub.execute_input": "2021-03-02T12:28:40.454680Z",
     "iopub.status.busy": "2021-03-02T12:28:40.454024Z",
     "iopub.status.idle": "2021-03-02T12:28:40.466180Z",
     "shell.execute_reply": "2021-03-02T12:28:40.465613Z"
    },
    "papermill": {
     "duration": 0.040036,
     "end_time": "2021-03-02T12:28:40.467434",
     "exception": false,
     "start_time": "2021-03-02T12:28:40.427398",
     "status": "completed"
    },
    "tags": []
   },
   "outputs": [],
   "source": [
    "#hide\n",
    "dft_cases = dft_cases.reset_index()\n",
    "dft_deaths = dft_deaths.reset_index()\n",
    "dft_cases = dft_cases.rename(columns = {'index':'state'})\n",
    "dft_deaths = dft_deaths.rename(columns = {'index':'state'})"
   ]
  },
  {
   "cell_type": "code",
   "execution_count": 10,
   "id": "invisible-johnston",
   "metadata": {
    "execution": {
     "iopub.execute_input": "2021-03-02T12:28:40.517283Z",
     "iopub.status.busy": "2021-03-02T12:28:40.516619Z",
     "iopub.status.idle": "2021-03-02T12:28:40.523177Z",
     "shell.execute_reply": "2021-03-02T12:28:40.522595Z"
    },
    "papermill": {
     "duration": 0.035045,
     "end_time": "2021-03-02T12:28:40.523315",
     "exception": false,
     "start_time": "2021-03-02T12:28:40.488270",
     "status": "completed"
    },
    "tags": []
   },
   "outputs": [],
   "source": [
    "#hide\n",
    "dfc_cases = dft_cases.groupby('state')[dt_today].sum()\n",
    "dfc_deaths = dft_deaths.groupby('state')[dt_today].sum()\n",
    "dfp_cases = dft_cases.groupby('state')[dt_yday].sum()\n",
    "dfp_deaths = dft_deaths.groupby('state')[dt_yday].sum()"
   ]
  },
  {
   "cell_type": "code",
   "execution_count": 11,
   "id": "measured-great",
   "metadata": {
    "execution": {
     "iopub.execute_input": "2021-03-02T12:28:40.569957Z",
     "iopub.status.busy": "2021-03-02T12:28:40.569296Z",
     "iopub.status.idle": "2021-03-02T12:28:40.584420Z",
     "shell.execute_reply": "2021-03-02T12:28:40.583671Z"
    },
    "papermill": {
     "duration": 0.04252,
     "end_time": "2021-03-02T12:28:40.584607",
     "exception": false,
     "start_time": "2021-03-02T12:28:40.542087",
     "status": "completed"
    },
    "tags": []
   },
   "outputs": [
    {
     "data": {
      "text/html": [
       "<div>\n",
       "<style scoped>\n",
       "    .dataframe tbody tr th:only-of-type {\n",
       "        vertical-align: middle;\n",
       "    }\n",
       "\n",
       "    .dataframe tbody tr th {\n",
       "        vertical-align: top;\n",
       "    }\n",
       "\n",
       "    .dataframe thead th {\n",
       "        text-align: right;\n",
       "    }\n",
       "</style>\n",
       "<table border=\"1\" class=\"dataframe\">\n",
       "  <thead>\n",
       "    <tr style=\"text-align: right;\">\n",
       "      <th></th>\n",
       "      <th>states</th>\n",
       "      <th>Cases</th>\n",
       "      <th>Deaths</th>\n",
       "      <th>PCases</th>\n",
       "      <th>PDeaths</th>\n",
       "    </tr>\n",
       "  </thead>\n",
       "  <tbody>\n",
       "    <tr>\n",
       "      <th>0</th>\n",
       "      <td>Maharashtra</td>\n",
       "      <td>2161467</td>\n",
       "      <td>52184</td>\n",
       "      <td>2161467</td>\n",
       "      <td>52184</td>\n",
       "    </tr>\n",
       "    <tr>\n",
       "      <th>1</th>\n",
       "      <td>Kerala</td>\n",
       "      <td>1061342</td>\n",
       "      <td>4211</td>\n",
       "      <td>1061342</td>\n",
       "      <td>4211</td>\n",
       "    </tr>\n",
       "    <tr>\n",
       "      <th>2</th>\n",
       "      <td>Karnataka</td>\n",
       "      <td>951600</td>\n",
       "      <td>12336</td>\n",
       "      <td>951600</td>\n",
       "      <td>12336</td>\n",
       "    </tr>\n",
       "    <tr>\n",
       "      <th>3</th>\n",
       "      <td>Andhra Pradesh</td>\n",
       "      <td>889974</td>\n",
       "      <td>7169</td>\n",
       "      <td>889974</td>\n",
       "      <td>7169</td>\n",
       "    </tr>\n",
       "    <tr>\n",
       "      <th>4</th>\n",
       "      <td>Tamil Nadu</td>\n",
       "      <td>852016</td>\n",
       "      <td>12501</td>\n",
       "      <td>852016</td>\n",
       "      <td>12501</td>\n",
       "    </tr>\n",
       "  </tbody>\n",
       "</table>\n",
       "</div>"
      ],
      "text/plain": [
       "           states    Cases  Deaths   PCases  PDeaths\n",
       "0     Maharashtra  2161467   52184  2161467    52184\n",
       "1          Kerala  1061342    4211  1061342     4211\n",
       "2       Karnataka   951600   12336   951600    12336\n",
       "3  Andhra Pradesh   889974    7169   889974     7169\n",
       "4      Tamil Nadu   852016   12501   852016    12501"
      ]
     },
     "execution_count": 11,
     "metadata": {},
     "output_type": "execute_result"
    }
   ],
   "source": [
    "#hide\n",
    "df_table = pd.DataFrame({'states': dfc_cases.index, 'Cases': dfc_cases.values, 'Deaths': dfc_deaths.values, 'PCases': dfp_cases.values, 'PDeaths': dfp_deaths.values}).set_index('states')\n",
    "df_table = df_table.sort_values(by = ['Cases','Deaths'], ascending = [False, False])\n",
    "df_table = df_table.reset_index()\n",
    "df_table.head()"
   ]
  },
  {
   "cell_type": "code",
   "execution_count": 12,
   "id": "found-montreal",
   "metadata": {
    "execution": {
     "iopub.execute_input": "2021-03-02T12:28:40.629689Z",
     "iopub.status.busy": "2021-03-02T12:28:40.629026Z",
     "iopub.status.idle": "2021-03-02T12:28:40.638063Z",
     "shell.execute_reply": "2021-03-02T12:28:40.637496Z"
    },
    "papermill": {
     "duration": 0.033906,
     "end_time": "2021-03-02T12:28:40.638279",
     "exception": false,
     "start_time": "2021-03-02T12:28:40.604373",
     "status": "completed"
    },
    "tags": []
   },
   "outputs": [],
   "source": [
    "#hide\n",
    "for c in 'Cases, Deaths'.split(', '):\n",
    "    df_table[f'{c} (+)'] = (df_table[c] - df_table[f'P{c}']).clip(0)\n",
    "df_table['Fatality Rate'] = (100* df_table['Deaths']/ df_table['Cases']).round(2)"
   ]
  },
  {
   "cell_type": "code",
   "execution_count": 13,
   "id": "minus-savage",
   "metadata": {
    "execution": {
     "iopub.execute_input": "2021-03-02T12:28:40.687687Z",
     "iopub.status.busy": "2021-03-02T12:28:40.686998Z",
     "iopub.status.idle": "2021-03-02T12:28:40.690526Z",
     "shell.execute_reply": "2021-03-02T12:28:40.689955Z"
    },
    "papermill": {
     "duration": 0.033305,
     "end_time": "2021-03-02T12:28:40.690664",
     "exception": false,
     "start_time": "2021-03-02T12:28:40.657359",
     "status": "completed"
    },
    "tags": []
   },
   "outputs": [
    {
     "data": {
      "text/html": [
       "<div>\n",
       "<style scoped>\n",
       "    .dataframe tbody tr th:only-of-type {\n",
       "        vertical-align: middle;\n",
       "    }\n",
       "\n",
       "    .dataframe tbody tr th {\n",
       "        vertical-align: top;\n",
       "    }\n",
       "\n",
       "    .dataframe thead th {\n",
       "        text-align: right;\n",
       "    }\n",
       "</style>\n",
       "<table border=\"1\" class=\"dataframe\">\n",
       "  <thead>\n",
       "    <tr style=\"text-align: right;\">\n",
       "      <th></th>\n",
       "      <th>states</th>\n",
       "      <th>Cases</th>\n",
       "      <th>Deaths</th>\n",
       "      <th>PCases</th>\n",
       "      <th>PDeaths</th>\n",
       "      <th>Cases (+)</th>\n",
       "      <th>Deaths (+)</th>\n",
       "      <th>Fatality Rate</th>\n",
       "    </tr>\n",
       "  </thead>\n",
       "  <tbody>\n",
       "    <tr>\n",
       "      <th>0</th>\n",
       "      <td>Maharashtra</td>\n",
       "      <td>2161467</td>\n",
       "      <td>52184</td>\n",
       "      <td>2161467</td>\n",
       "      <td>52184</td>\n",
       "      <td>0</td>\n",
       "      <td>0</td>\n",
       "      <td>2.41</td>\n",
       "    </tr>\n",
       "    <tr>\n",
       "      <th>1</th>\n",
       "      <td>Kerala</td>\n",
       "      <td>1061342</td>\n",
       "      <td>4211</td>\n",
       "      <td>1061342</td>\n",
       "      <td>4211</td>\n",
       "      <td>0</td>\n",
       "      <td>0</td>\n",
       "      <td>0.40</td>\n",
       "    </tr>\n",
       "    <tr>\n",
       "      <th>2</th>\n",
       "      <td>Karnataka</td>\n",
       "      <td>951600</td>\n",
       "      <td>12336</td>\n",
       "      <td>951600</td>\n",
       "      <td>12336</td>\n",
       "      <td>0</td>\n",
       "      <td>0</td>\n",
       "      <td>1.30</td>\n",
       "    </tr>\n",
       "    <tr>\n",
       "      <th>3</th>\n",
       "      <td>Andhra Pradesh</td>\n",
       "      <td>889974</td>\n",
       "      <td>7169</td>\n",
       "      <td>889974</td>\n",
       "      <td>7169</td>\n",
       "      <td>0</td>\n",
       "      <td>0</td>\n",
       "      <td>0.81</td>\n",
       "    </tr>\n",
       "    <tr>\n",
       "      <th>4</th>\n",
       "      <td>Tamil Nadu</td>\n",
       "      <td>852016</td>\n",
       "      <td>12501</td>\n",
       "      <td>852016</td>\n",
       "      <td>12501</td>\n",
       "      <td>0</td>\n",
       "      <td>0</td>\n",
       "      <td>1.47</td>\n",
       "    </tr>\n",
       "  </tbody>\n",
       "</table>\n",
       "</div>"
      ],
      "text/plain": [
       "           states    Cases  Deaths   PCases  PDeaths  Cases (+)  Deaths (+)  \\\n",
       "0     Maharashtra  2161467   52184  2161467    52184          0           0   \n",
       "1          Kerala  1061342    4211  1061342     4211          0           0   \n",
       "2       Karnataka   951600   12336   951600    12336          0           0   \n",
       "3  Andhra Pradesh   889974    7169   889974     7169          0           0   \n",
       "4      Tamil Nadu   852016   12501   852016    12501          0           0   \n",
       "\n",
       "   Fatality Rate  \n",
       "0           2.41  \n",
       "1           0.40  \n",
       "2           1.30  \n",
       "3           0.81  \n",
       "4           1.47  "
      ]
     },
     "execution_count": 13,
     "metadata": {},
     "output_type": "execute_result"
    }
   ],
   "source": [
    "#hide\n",
    "df_table.head()"
   ]
  },
  {
   "cell_type": "code",
   "execution_count": 14,
   "id": "false-peter",
   "metadata": {
    "execution": {
     "iopub.execute_input": "2021-03-02T12:28:40.739861Z",
     "iopub.status.busy": "2021-03-02T12:28:40.739160Z",
     "iopub.status.idle": "2021-03-02T12:28:40.759149Z",
     "shell.execute_reply": "2021-03-02T12:28:40.758618Z"
    },
    "papermill": {
     "duration": 0.047413,
     "end_time": "2021-03-02T12:28:40.759286",
     "exception": false,
     "start_time": "2021-03-02T12:28:40.711873",
     "status": "completed"
    },
    "tags": []
   },
   "outputs": [
    {
     "data": {
      "text/plain": [
       "{'updated': '2021-03-02',\n",
       " 'since': '2021-03-01',\n",
       " 'Cases': 11124573,\n",
       " 'PCases': 11124332,\n",
       " 'Deaths': 157289,\n",
       " 'PDeaths': 157287,\n",
       " 'Cases (+)': 241,\n",
       " 'Deaths (+)': 2}"
      ]
     },
     "execution_count": 14,
     "metadata": {},
     "output_type": "execute_result"
    }
   ],
   "source": [
    "#hide\n",
    "summary = {'updated':dates[-1], 'since':dates[-2]}\n",
    "list_names = ['Cases', 'PCases', 'Deaths', 'PDeaths', 'Cases (+)', 'Deaths (+)']\n",
    "for name in list_names:\n",
    "    summary[name] = df_table.sum()[name]\n",
    "summary"
   ]
  },
  {
   "cell_type": "code",
   "execution_count": 15,
   "id": "packed-viewer",
   "metadata": {
    "execution": {
     "iopub.execute_input": "2021-03-02T12:28:40.818299Z",
     "iopub.status.busy": "2021-03-02T12:28:40.817362Z",
     "iopub.status.idle": "2021-03-02T12:28:40.819970Z",
     "shell.execute_reply": "2021-03-02T12:28:40.820551Z"
    },
    "papermill": {
     "duration": 0.040134,
     "end_time": "2021-03-02T12:28:40.820718",
     "exception": false,
     "start_time": "2021-03-02T12:28:40.780584",
     "status": "completed"
    },
    "tags": []
   },
   "outputs": [],
   "source": [
    "#hide\n",
    "overview = '''\n",
    "<!-- #######  HTML!! #########-->\n",
    "<h1 style=\"color: #5e9ca0; text-align: center;\">India</h1>\n",
    "<p style=\"text-align: center;\">Last update: <strong>{update}</strong></p>\n",
    "<p style=\"text-align: center;\">Confirmed cases:</p>\n",
    "<p style=\"text-align: center;font-size:24px;\">{cases} (<span style=\"color: #ff0000;\">+{new}</span>)</p>\n",
    "<p style=\"text-align: center;\">Confirmed deaths:</p>\n",
    "<p style=\"text-align: center;font-size:24px;\">{deaths} (<span style=\"color: #ff0000;\">+{dnew}</span>)</p>\n",
    "'''"
   ]
  },
  {
   "cell_type": "code",
   "execution_count": 16,
   "id": "phantom-lover",
   "metadata": {
    "execution": {
     "iopub.execute_input": "2021-03-02T12:28:41.413114Z",
     "iopub.status.busy": "2021-03-02T12:28:41.412465Z",
     "iopub.status.idle": "2021-03-02T12:28:41.415854Z",
     "shell.execute_reply": "2021-03-02T12:28:41.415308Z"
    },
    "papermill": {
     "duration": 0.033373,
     "end_time": "2021-03-02T12:28:41.415982",
     "exception": false,
     "start_time": "2021-03-02T12:28:41.382609",
     "status": "completed"
    },
    "tags": []
   },
   "outputs": [
    {
     "data": {
      "text/html": [
       "\n",
       "<!-- #######  HTML!! #########-->\n",
       "<h1 style=\"color: #5e9ca0; text-align: center;\">India</h1>\n",
       "<p style=\"text-align: center;\">Last update: <strong>2021-03-02</strong></p>\n",
       "<p style=\"text-align: center;\">Confirmed cases:</p>\n",
       "<p style=\"text-align: center;font-size:24px;\">11124573 (<span style=\"color: #ff0000;\">+241</span>)</p>\n",
       "<p style=\"text-align: center;\">Confirmed deaths:</p>\n",
       "<p style=\"text-align: center;font-size:24px;\">157289 (<span style=\"color: #ff0000;\">+2</span>)</p>\n"
      ],
      "text/plain": [
       "<IPython.core.display.HTML object>"
      ]
     },
     "metadata": {},
     "output_type": "display_data"
    }
   ],
   "source": [
    "#hide_input\n",
    "update = summary['updated']\n",
    "cases = summary['Cases']\n",
    "new = summary['Cases (+)']\n",
    "deaths = summary['Deaths']\n",
    "dnew = summary['Deaths (+)']\n",
    "\n",
    "html = HTML(overview.format(update=update, cases=cases,new=new,deaths=deaths,dnew=dnew))\n",
    "\n",
    "display(html)"
   ]
  },
  {
   "cell_type": "code",
   "execution_count": 17,
   "id": "sealed-reset",
   "metadata": {
    "execution": {
     "iopub.execute_input": "2021-03-02T12:28:41.548894Z",
     "iopub.status.busy": "2021-03-02T12:28:41.548250Z",
     "iopub.status.idle": "2021-03-02T12:28:41.554175Z",
     "shell.execute_reply": "2021-03-02T12:28:41.553622Z"
    },
    "papermill": {
     "duration": 0.03485,
     "end_time": "2021-03-02T12:28:41.554303",
     "exception": false,
     "start_time": "2021-03-02T12:28:41.519453",
     "status": "completed"
    },
    "tags": []
   },
   "outputs": [],
   "source": [
    "#hide\n",
    "dt_cols = list(dft_cases.columns[1:])\n",
    "dft_ct_new_cases = dft_cases.groupby('state')[dt_cols].sum().diff(axis=1).fillna(0).astype(int)\n",
    "dft_ct_new_cases.sort_values(by = dates[-1], ascending = False,inplace = True)"
   ]
  },
  {
   "cell_type": "code",
   "execution_count": 18,
   "id": "designed-constant",
   "metadata": {
    "execution": {
     "iopub.execute_input": "2021-03-02T12:28:41.610368Z",
     "iopub.status.busy": "2021-03-02T12:28:41.609728Z",
     "iopub.status.idle": "2021-03-02T12:28:41.621036Z",
     "shell.execute_reply": "2021-03-02T12:28:41.621522Z"
    },
    "papermill": {
     "duration": 0.043945,
     "end_time": "2021-03-02T12:28:41.621669",
     "exception": false,
     "start_time": "2021-03-02T12:28:41.577724",
     "status": "completed"
    },
    "tags": []
   },
   "outputs": [
    {
     "data": {
      "text/html": [
       "<div>\n",
       "<style scoped>\n",
       "    .dataframe tbody tr th:only-of-type {\n",
       "        vertical-align: middle;\n",
       "    }\n",
       "\n",
       "    .dataframe tbody tr th {\n",
       "        vertical-align: top;\n",
       "    }\n",
       "\n",
       "    .dataframe thead th {\n",
       "        text-align: right;\n",
       "    }\n",
       "</style>\n",
       "<table border=\"1\" class=\"dataframe\">\n",
       "  <thead>\n",
       "    <tr style=\"text-align: right;\">\n",
       "      <th>states</th>\n",
       "      <th>2020-07-01</th>\n",
       "      <th>2020-07-02</th>\n",
       "      <th>2020-07-03</th>\n",
       "      <th>2020-07-04</th>\n",
       "      <th>2020-07-05</th>\n",
       "      <th>2020-07-06</th>\n",
       "      <th>2020-07-07</th>\n",
       "      <th>2020-07-08</th>\n",
       "      <th>2020-07-09</th>\n",
       "      <th>2020-07-10</th>\n",
       "      <th>...</th>\n",
       "      <th>2021-02-21</th>\n",
       "      <th>2021-02-22</th>\n",
       "      <th>2021-02-23</th>\n",
       "      <th>2021-02-24</th>\n",
       "      <th>2021-02-25</th>\n",
       "      <th>2021-02-26</th>\n",
       "      <th>2021-02-27</th>\n",
       "      <th>2021-02-28</th>\n",
       "      <th>2021-03-01</th>\n",
       "      <th>2021-03-02</th>\n",
       "    </tr>\n",
       "    <tr>\n",
       "      <th>state</th>\n",
       "      <th></th>\n",
       "      <th></th>\n",
       "      <th></th>\n",
       "      <th></th>\n",
       "      <th></th>\n",
       "      <th></th>\n",
       "      <th></th>\n",
       "      <th></th>\n",
       "      <th></th>\n",
       "      <th></th>\n",
       "      <th></th>\n",
       "      <th></th>\n",
       "      <th></th>\n",
       "      <th></th>\n",
       "      <th></th>\n",
       "      <th></th>\n",
       "      <th></th>\n",
       "      <th></th>\n",
       "      <th></th>\n",
       "      <th></th>\n",
       "      <th></th>\n",
       "    </tr>\n",
       "  </thead>\n",
       "  <tbody>\n",
       "    <tr>\n",
       "      <th>Telangana</th>\n",
       "      <td>0</td>\n",
       "      <td>1213</td>\n",
       "      <td>1892</td>\n",
       "      <td>1850</td>\n",
       "      <td>1590</td>\n",
       "      <td>1831</td>\n",
       "      <td>1879</td>\n",
       "      <td>1924</td>\n",
       "      <td>1410</td>\n",
       "      <td>1278</td>\n",
       "      <td>...</td>\n",
       "      <td>163</td>\n",
       "      <td>114</td>\n",
       "      <td>0</td>\n",
       "      <td>345</td>\n",
       "      <td>207</td>\n",
       "      <td>189</td>\n",
       "      <td>178</td>\n",
       "      <td>176</td>\n",
       "      <td>116</td>\n",
       "      <td>163</td>\n",
       "    </tr>\n",
       "    <tr>\n",
       "      <th>Odisha</th>\n",
       "      <td>0</td>\n",
       "      <td>229</td>\n",
       "      <td>561</td>\n",
       "      <td>495</td>\n",
       "      <td>469</td>\n",
       "      <td>456</td>\n",
       "      <td>571</td>\n",
       "      <td>527</td>\n",
       "      <td>577</td>\n",
       "      <td>755</td>\n",
       "      <td>...</td>\n",
       "      <td>58</td>\n",
       "      <td>69</td>\n",
       "      <td>62</td>\n",
       "      <td>68</td>\n",
       "      <td>89</td>\n",
       "      <td>94</td>\n",
       "      <td>86</td>\n",
       "      <td>87</td>\n",
       "      <td>86</td>\n",
       "      <td>74</td>\n",
       "    </tr>\n",
       "    <tr>\n",
       "      <th>Mizoram</th>\n",
       "      <td>0</td>\n",
       "      <td>2</td>\n",
       "      <td>0</td>\n",
       "      <td>2</td>\n",
       "      <td>22</td>\n",
       "      <td>11</td>\n",
       "      <td>1</td>\n",
       "      <td>5</td>\n",
       "      <td>0</td>\n",
       "      <td>23</td>\n",
       "      <td>...</td>\n",
       "      <td>2</td>\n",
       "      <td>0</td>\n",
       "      <td>1</td>\n",
       "      <td>3</td>\n",
       "      <td>0</td>\n",
       "      <td>6</td>\n",
       "      <td>3</td>\n",
       "      <td>1</td>\n",
       "      <td>0</td>\n",
       "      <td>3</td>\n",
       "    </tr>\n",
       "    <tr>\n",
       "      <th>Dadra and Nagar Haveli and Daman and Diu</th>\n",
       "      <td>0</td>\n",
       "      <td>25</td>\n",
       "      <td>50</td>\n",
       "      <td>37</td>\n",
       "      <td>32</td>\n",
       "      <td>27</td>\n",
       "      <td>27</td>\n",
       "      <td>15</td>\n",
       "      <td>14</td>\n",
       "      <td>14</td>\n",
       "      <td>...</td>\n",
       "      <td>0</td>\n",
       "      <td>0</td>\n",
       "      <td>0</td>\n",
       "      <td>2</td>\n",
       "      <td>1</td>\n",
       "      <td>1</td>\n",
       "      <td>0</td>\n",
       "      <td>0</td>\n",
       "      <td>0</td>\n",
       "      <td>1</td>\n",
       "    </tr>\n",
       "    <tr>\n",
       "      <th>Andaman and Nicobar Islands</th>\n",
       "      <td>0</td>\n",
       "      <td>9</td>\n",
       "      <td>7</td>\n",
       "      <td>3</td>\n",
       "      <td>6</td>\n",
       "      <td>16</td>\n",
       "      <td>6</td>\n",
       "      <td>2</td>\n",
       "      <td>7</td>\n",
       "      <td>0</td>\n",
       "      <td>...</td>\n",
       "      <td>0</td>\n",
       "      <td>1</td>\n",
       "      <td>1</td>\n",
       "      <td>0</td>\n",
       "      <td>0</td>\n",
       "      <td>1</td>\n",
       "      <td>1</td>\n",
       "      <td>2</td>\n",
       "      <td>0</td>\n",
       "      <td>0</td>\n",
       "    </tr>\n",
       "  </tbody>\n",
       "</table>\n",
       "<p>5 rows × 245 columns</p>\n",
       "</div>"
      ],
      "text/plain": [
       "states                                    2020-07-01  2020-07-02  2020-07-03  \\\n",
       "state                                                                          \n",
       "Telangana                                          0        1213        1892   \n",
       "Odisha                                             0         229         561   \n",
       "Mizoram                                            0           2           0   \n",
       "Dadra and Nagar Haveli and Daman and Diu           0          25          50   \n",
       "Andaman and Nicobar Islands                        0           9           7   \n",
       "\n",
       "states                                    2020-07-04  2020-07-05  2020-07-06  \\\n",
       "state                                                                          \n",
       "Telangana                                       1850        1590        1831   \n",
       "Odisha                                           495         469         456   \n",
       "Mizoram                                            2          22          11   \n",
       "Dadra and Nagar Haveli and Daman and Diu          37          32          27   \n",
       "Andaman and Nicobar Islands                        3           6          16   \n",
       "\n",
       "states                                    2020-07-07  2020-07-08  2020-07-09  \\\n",
       "state                                                                          \n",
       "Telangana                                       1879        1924        1410   \n",
       "Odisha                                           571         527         577   \n",
       "Mizoram                                            1           5           0   \n",
       "Dadra and Nagar Haveli and Daman and Diu          27          15          14   \n",
       "Andaman and Nicobar Islands                        6           2           7   \n",
       "\n",
       "states                                    2020-07-10  ...  2021-02-21  \\\n",
       "state                                                 ...               \n",
       "Telangana                                       1278  ...         163   \n",
       "Odisha                                           755  ...          58   \n",
       "Mizoram                                           23  ...           2   \n",
       "Dadra and Nagar Haveli and Daman and Diu          14  ...           0   \n",
       "Andaman and Nicobar Islands                        0  ...           0   \n",
       "\n",
       "states                                    2021-02-22  2021-02-23  2021-02-24  \\\n",
       "state                                                                          \n",
       "Telangana                                        114           0         345   \n",
       "Odisha                                            69          62          68   \n",
       "Mizoram                                            0           1           3   \n",
       "Dadra and Nagar Haveli and Daman and Diu           0           0           2   \n",
       "Andaman and Nicobar Islands                        1           1           0   \n",
       "\n",
       "states                                    2021-02-25  2021-02-26  2021-02-27  \\\n",
       "state                                                                          \n",
       "Telangana                                        207         189         178   \n",
       "Odisha                                            89          94          86   \n",
       "Mizoram                                            0           6           3   \n",
       "Dadra and Nagar Haveli and Daman and Diu           1           1           0   \n",
       "Andaman and Nicobar Islands                        0           1           1   \n",
       "\n",
       "states                                    2021-02-28  2021-03-01  2021-03-02  \n",
       "state                                                                         \n",
       "Telangana                                        176         116         163  \n",
       "Odisha                                            87          86          74  \n",
       "Mizoram                                            1           0           3  \n",
       "Dadra and Nagar Haveli and Daman and Diu           0           0           1  \n",
       "Andaman and Nicobar Islands                        2           0           0  \n",
       "\n",
       "[5 rows x 245 columns]"
      ]
     },
     "execution_count": 18,
     "metadata": {},
     "output_type": "execute_result"
    }
   ],
   "source": [
    "#hide\n",
    "dft_ct_new_cases.head()"
   ]
  },
  {
   "cell_type": "code",
   "execution_count": 19,
   "id": "responsible-nightlife",
   "metadata": {
    "execution": {
     "iopub.execute_input": "2021-03-02T12:28:41.713956Z",
     "iopub.status.busy": "2021-03-02T12:28:41.672171Z",
     "iopub.status.idle": "2021-03-02T12:28:51.522747Z",
     "shell.execute_reply": "2021-03-02T12:28:51.523291Z"
    },
    "papermill": {
     "duration": 9.880445,
     "end_time": "2021-03-02T12:28:51.523453",
     "exception": false,
     "start_time": "2021-03-02T12:28:41.643008",
     "status": "completed"
    },
    "tags": []
   },
   "outputs": [
    {
     "data": {
      "image/png": "[encoded data removed]",
      "text/plain": [
       "<Figure size 1296x2016 with 11 Axes>"
      ]
     },
     "metadata": {
      "needs_background": "light"
     },
     "output_type": "display_data"
    }
   ],
   "source": [
    "#hide_input\n",
    "df = dft_ct_new_cases.copy()\n",
    "df.loc['Total'] = df.sum()\n",
    "n = 5\n",
    "ax = []\n",
    "fig = plt.figure(figsize = (18,28))\n",
    "gs = fig.add_gridspec(n+2, 5)\n",
    "# gs = fig.add_gridspec(2, 3)\n",
    "ax1 = fig.add_subplot(gs[0, :])\n",
    "ef = df.loc['Total'].rename_axis('date').reset_index()\n",
    "ef['date'] = ef['date'].astype('datetime64[ns]')\n",
    "ax1.bar(ef.date,ef.Total,alpha=0.3,color='#007acc')\n",
    "ax1.plot(ef.date,ef.Total , marker=\"o\", color='#007acc')\n",
    "ax1.xaxis.set_major_locator(mdates.WeekdayLocator())\n",
    "ax1.xaxis.set_major_formatter(mdates.DateFormatter('%b %d'))\n",
    "ax1.text(0.02, 0.5,'India daily case count', transform = ax1.transAxes, fontsize=25);\n",
    "ax1.spines['right'].set_visible(False)\n",
    "ax1.spines['top'].set_visible(False)\n",
    "\n",
    "ax2 = fig.add_subplot(gs[1,0])\n",
    "ef = df.loc['Maharashtra'].rename_axis('date').reset_index()\n",
    "ef['date'] = ef['date'].astype('datetime64[ns]')\n",
    "\n",
    "ax2.bar(ef.date, ef.Maharashtra,color = '#007acc',alpha=0.5)\n",
    "ax2.xaxis.set_major_locator(mdates.WeekdayLocator())\n",
    "ax2.xaxis.set_major_formatter(mdates.DateFormatter('%b %d'))\n",
    "ax2.set_xticks(ax2.get_xticks()[::3])\n",
    "maxyval = ef.Maharashtra.max()\n",
    "ax2.set_ylim([0,maxyval])\n",
    "ax2.text(0.05, 0.9,'Maharashtra', transform = ax2.transAxes, fontsize=20);\n",
    "ax2.spines['right'].set_visible(False)\n",
    "ax2.spines['top'].set_visible(False)\n",
    "\n",
    "\n",
    "ax3 = fig.add_subplot(gs[1,1])\n",
    "ef = df.loc['Tamil Nadu'].rename_axis('date').reset_index()\n",
    "ef['date'] = ef['date'].astype('datetime64[ns]')\n",
    "ax3.bar(ef.date, ef['Tamil Nadu'],color = '#007acc',alpha=0.5,)\n",
    "ax3.xaxis.set_major_locator(mdates.WeekdayLocator())\n",
    "ax3.xaxis.set_major_formatter(mdates.DateFormatter('%b %d'))\n",
    "ax3.set_xticks(ax3.get_xticks()[::3])\n",
    "ax3.text(0.05, 0.9,'Tamil Nadu', transform = ax3.transAxes, fontsize=20);\n",
    "ax3.spines['right'].set_visible(False)\n",
    "ax3.spines['top'].set_visible(False)\n",
    "\n",
    "ax5 = fig.add_subplot(gs[1,3])\n",
    "ef = df.loc['Telangana'].rename_axis('date').reset_index()\n",
    "ef['date'] = ef['date'].astype('datetime64[ns]')\n",
    "ax5.bar(ef.date, ef['Telangana'],color = '#007acc',alpha=0.5,)\n",
    "ax5.xaxis.set_major_locator(mdates.WeekdayLocator())\n",
    "ax5.xaxis.set_major_formatter(mdates.DateFormatter('%b %d'))\n",
    "ax5.set_xticks(ax5.get_xticks()[::3])\n",
    "ax5.text(0.05, 0.9,'Telangana', transform = ax5.transAxes, fontsize=20);\n",
    "ax5.spines['right'].set_visible(False)\n",
    "ax5.spines['top'].set_visible(False)\n",
    "\n",
    "ax6 = fig.add_subplot(gs[1,4])\n",
    "ef = df.loc['Andhra Pradesh'].rename_axis('date').reset_index()\n",
    "ef['date'] = ef['date'].astype('datetime64[ns]')\n",
    "ax6.bar(ef.date, ef['Andhra Pradesh'],color = '#007acc',alpha=0.5,)\n",
    "ax6.xaxis.set_major_locator(mdates.WeekdayLocator())\n",
    "ax6.xaxis.set_major_formatter(mdates.DateFormatter('%b %d'))\n",
    "ax6.set_xticks(ax6.get_xticks()[::3])\n",
    "ax6.text(0.05, 1,'Andhra Pradesh', transform = ax6.transAxes, fontsize=20);\n",
    "ax6.spines['right'].set_visible(False)\n",
    "ax6.spines['top'].set_visible(False)\n",
    "\n",
    "ax4 = fig.add_subplot(gs[1,2])\n",
    "ef = df.loc['Delhi'].rename_axis('date').reset_index()\n",
    "ef['date'] = ef['date'].astype('datetime64[ns]')\n",
    "ax4.bar(ef.date, ef.Delhi,color = '#007acc',alpha=0.5)\n",
    "ax4.set_xticks([])\n",
    "ax4.xaxis.set_major_locator(mdates.WeekdayLocator())\n",
    "ax4.xaxis.set_major_formatter(mdates.DateFormatter('%b %d'))\n",
    "ax4.set_xticks(ax4.get_xticks()[::3])\n",
    "ax4.spines['right'].set_visible(False)\n",
    "ax4.spines['top'].set_visible(False)\n",
    "\n",
    "ax4.text(0.05, 1,'Delhi', transform = ax4.transAxes, fontsize=20)\n",
    "\n",
    "for i in range(n):\n",
    "    \n",
    "    ax.append(fig.add_subplot(gs[i+2,:]))\n",
    "    ef = df.iloc[i+3].rename_axis('date').reset_index()\n",
    "    ef['date'] = ef['date'].astype('datetime64[ns]')\n",
    "    ax[i].bar(ef.date,ef.iloc[:,-1],color = '#007acc',alpha=0.3)\n",
    "    ax[i].plot(ef.date,ef.iloc[:,-1],marker='o',color='#007acc')\n",
    "    ax[i].text(0.02,0.5,f'{ef.columns.values[-1]}',transform = ax[i].transAxes, fontsize = 20);\n",
    "    ax[i].xaxis.set_major_locator(mdates.WeekdayLocator())\n",
    "    ax[i].xaxis.set_major_formatter(mdates.DateFormatter('%b %d'))\n",
    "    ax[i].set_ylim([0,7000])\n",
    "    ax[i].spines['right'].set_visible(False)\n",
    "    ax[i].spines['top'].set_visible(False)\n",
    "plt.tight_layout()\n"
   ]
  },
  {
   "cell_type": "code",
   "execution_count": 20,
   "id": "dress-forge",
   "metadata": {
    "execution": {
     "iopub.execute_input": "2021-03-02T12:28:51.585277Z",
     "iopub.status.busy": "2021-03-02T12:28:51.584593Z",
     "iopub.status.idle": "2021-03-02T12:28:51.586936Z",
     "shell.execute_reply": "2021-03-02T12:28:51.587566Z"
    },
    "papermill": {
     "duration": 0.038257,
     "end_time": "2021-03-02T12:28:51.587720",
     "exception": false,
     "start_time": "2021-03-02T12:28:51.549463",
     "status": "completed"
    },
    "tags": []
   },
   "outputs": [
    {
     "name": "stdout",
     "output_type": "stream",
     "text": [
      "                                   states    Cases  Deaths   PCases  PDeaths  Cases (+)  Deaths (+)  Fatality Rate\n",
      "                              Maharashtra  2161467   52184  2161467    52184          0           0           2.41\n",
      "                                   Kerala  1061342    4211  1061342     4211          0           0           0.40\n",
      "                                Karnataka   951600   12336   951600    12336          0           0           1.30\n",
      "                           Andhra Pradesh   889974    7169   889974     7169          0           0           0.81\n",
      "                               Tamil Nadu   852016   12501   852016    12501          0           0           1.47\n",
      "                                    Delhi   639464   10911   639464    10911          0           0           1.71\n",
      "                            Uttar Pradesh   603614    8727   603614     8727          0           0           1.45\n",
      "                              West Bengal   575316   10268   575316    10268          0           0           1.78\n",
      "                                   Odisha   337351    1970   337277     1969         74           1           0.58\n",
      "                                Rajasthan   320455    2787   320455     2787          0           0           0.87\n",
      "                             Chhattisgarh   312816    3843   312816     3843          0           0           1.23\n",
      "                                Telangana   299086    1635   298923     1634        163           1           0.55\n",
      "                                  Haryana   270950    3050   270950     3050          0           0           1.13\n",
      "                                  Gujarat   270316    4411   270316     4411          0           0           1.63\n",
      "                                    Bihar   262556    1541   262556     1541          0           0           0.59\n",
      "                           Madhya Pradesh   262102    3865   262102     3865          0           0           1.47\n",
      "                                    Assam   217570    1093   217570     1093          0           0           0.50\n",
      "                                   Punjab   182809    5850   182809     5850          0           0           3.20\n",
      "                        Jammu and Kashmir   126504    1958   126504     1958          0           0           1.55\n",
      "                                Jharkhand   119986    1090   119986     1090          0           0           0.91\n",
      "                              Uttarakhand    97019    1692    97019     1692          0           0           1.74\n",
      "                         Himachal Pradesh    58777     983    58777      983          0           0           1.67\n",
      "                                      Goa    55026     796    55026      796          0           0           1.45\n",
      "                               Puducherry    39734     669    39734      669          0           0           1.68\n",
      "                                  Tripura    33414     388    33414      388          0           0           1.16\n",
      "                                  Manipur    29274     373    29274      373          0           0           1.27\n",
      "                               Chandigarh    21839     353    21839      353          0           0           1.62\n",
      "                        Arunachal Pradesh    16837      56    16837       56          0           0           0.33\n",
      "                                Meghalaya    13963     148    13963      148          0           0           1.06\n",
      "                                 Nagaland    12200      91    12200       91          0           0           0.75\n",
      "                                   Ladakh     9819     130     9819      130          0           0           1.32\n",
      "                                   Sikkim     6145     135     6145      135          0           0           2.20\n",
      "              Andaman and Nicobar Islands     5020      62     5020       62          0           0           1.24\n",
      "                                  Mizoram     4426      10     4423       10          3           0           0.23\n",
      " Dadra and Nagar Haveli and Daman and Diu     3389       2     3388        2          1           0           0.06\n",
      "                              Lakshadweep      397       1      397        1          0           0           0.25\n"
     ]
    }
   ],
   "source": [
    "#hide_input\n",
    "print(df_table.to_string(index=False))"
   ]
  },
  {
   "cell_type": "code",
   "execution_count": null,
   "id": "quantitative-legend",
   "metadata": {
    "papermill": {
     "duration": 0.027067,
     "end_time": "2021-03-02T12:28:51.642462",
     "exception": false,
     "start_time": "2021-03-02T12:28:51.615395",
     "status": "completed"
    },
    "tags": []
   },
   "outputs": [],
   "source": []
  },
  {
   "cell_type": "code",
   "execution_count": null,
   "id": "distant-acoustic",
   "metadata": {
    "papermill": {
     "duration": 0.025425,
     "end_time": "2021-03-02T12:28:51.693576",
     "exception": false,
     "start_time": "2021-03-02T12:28:51.668151",
     "status": "completed"
    },
    "tags": []
   },
   "outputs": [],
   "source": []
  }
 ],
 "metadata": {
  "kernelspec": {
   "display_name": "Python 3",
   "language": "python",
   "name": "python3"
  },
  "language_info": {
   "codemirror_mode": {
    "name": "ipython",
    "version": 3
   },
   "file_extension": ".py",
   "mimetype": "text/x-python",
   "name": "python",
   "nbconvert_exporter": "python",
   "pygments_lexer": "ipython3",
   "version": "3.6.13"
  },
  "papermill": {
   "duration": 23.238878,
   "end_time": "2021-03-02T12:28:52.327236",
   "environment_variables": {},
   "exception": null,
   "input_path": "latest.ipynb",
   "output_path": "latest.ipynb",
   "parameters": {},
   "start_time": "2021-03-02T12:28:29.088358",
   "version": "2.1.2"
  }
 },
 "nbformat": 4,
 "nbformat_minor": 5
}