{
 "cells": [
  {
   "cell_type": "markdown",
   "id": "colored-stack",
   "metadata": {
    "papermill": {
     "duration": 0.021557,
     "end_time": "2021-02-27T12:32:10.791202",
     "exception": false,
     "start_time": "2021-02-27T12:32:10.769645",
     "status": "completed"
    },
    "tags": []
   },
   "source": [
    "# Latest COVID-19 India Matplotlib Overview"
   ]
  },
  {
   "cell_type": "code",
   "execution_count": 1,
   "id": "light-proportion",
   "metadata": {
    "execution": {
     "iopub.execute_input": "2021-02-27T12:32:10.833241Z",
     "iopub.status.busy": "2021-02-27T12:32:10.832542Z",
     "iopub.status.idle": "2021-02-27T12:32:11.380949Z",
     "shell.execute_reply": "2021-02-27T12:32:11.379593Z"
    },
    "papermill": {
     "duration": 0.574449,
     "end_time": "2021-02-27T12:32:11.381180",
     "exception": false,
     "start_time": "2021-02-27T12:32:10.806731",
     "status": "completed"
    },
    "tags": []
   },
   "outputs": [],
   "source": [
    "#hide\n",
    "import pandas as pd\n",
    "import numpy as np\n",
    "import requests\n",
    "import json\n",
    "import matplotlib.pyplot as plt\n",
    "import matplotlib.dates as mdates\n",
    "import matplotlib as mpl\n",
    "from IPython.core.display import display,HTML\n",
    "%matplotlib inline\n",
    "from datetime import date"
   ]
  },
  {
   "cell_type": "code",
   "execution_count": 2,
   "id": "greenhouse-shooting",
   "metadata": {
    "execution": {
     "iopub.execute_input": "2021-02-27T12:32:11.422096Z",
     "iopub.status.busy": "2021-02-27T12:32:11.421488Z",
     "iopub.status.idle": "2021-02-27T12:32:11.965841Z",
     "shell.execute_reply": "2021-02-27T12:32:11.966396Z"
    },
    "papermill": {
     "duration": 0.568024,
     "end_time": "2021-02-27T12:32:11.966574",
     "exception": false,
     "start_time": "2021-02-27T12:32:11.398550",
     "status": "completed"
    },
    "tags": []
   },
   "outputs": [],
   "source": [
    "#hide\n",
    "df  = pd.read_csv('https://api.covid19india.org/csv/latest/states.csv')\n",
    "df = df[['Date','State','Confirmed','Deceased']]\n",
    "df = df.rename(columns={'Confirmed':'Cases', \"Deceased\":'Deaths'})\n",
    "df_cases = df[[\"Date\",'State','Cases']]\n",
    "df_deaths = df[['Date','State','Deaths']]\n",
    "df_cases1 = df_cases.groupby('Date')\n",
    "df_deaths1= df_deaths.groupby('Date')"
   ]
  },
  {
   "cell_type": "code",
   "execution_count": 3,
   "id": "hybrid-cathedral",
   "metadata": {
    "execution": {
     "iopub.execute_input": "2021-02-27T12:32:12.005863Z",
     "iopub.status.busy": "2021-02-27T12:32:12.005313Z",
     "iopub.status.idle": "2021-02-27T12:32:12.022100Z",
     "shell.execute_reply": "2021-02-27T12:32:12.021618Z"
    },
    "papermill": {
     "duration": 0.038713,
     "end_time": "2021-02-27T12:32:12.022224",
     "exception": false,
     "start_time": "2021-02-27T12:32:11.983511",
     "status": "completed"
    },
    "tags": []
   },
   "outputs": [],
   "source": [
    "#hide\n",
    "df_snap = pd.read_csv('data/SnapshotCases-28-July.csv')\n",
    "arr_states = df_snap['states'].unique()\n",
    "arr_dates = df['Date'].unique()\n",
    "df_snap = df_snap.set_index('states')"
   ]
  },
  {
   "cell_type": "code",
   "execution_count": 4,
   "id": "interior-belfast",
   "metadata": {
    "execution": {
     "iopub.execute_input": "2021-02-27T12:32:12.062185Z",
     "iopub.status.busy": "2021-02-27T12:32:12.061455Z",
     "iopub.status.idle": "2021-02-27T12:32:12.063949Z",
     "shell.execute_reply": "2021-02-27T12:32:12.065306Z"
    },
    "papermill": {
     "duration": 0.02798,
     "end_time": "2021-02-27T12:32:12.065455",
     "exception": false,
     "start_time": "2021-02-27T12:32:12.037475",
     "status": "completed"
    },
    "tags": []
   },
   "outputs": [
    {
     "data": {
      "text/plain": [
       "array(['Andaman and Nicobar Islands', 'Andhra Pradesh',\n",
       "       'Arunachal Pradesh', 'Assam', 'Bihar', 'Chandigarh',\n",
       "       'Dadra and Nagar Haveli and Daman and Diu', 'Delhi', 'Goa',\n",
       "       'Gujarat', 'Haryana', 'Himachal Pradesh', 'Jammu and Kashmir',\n",
       "       'Jharkhand', 'Karnataka', 'Kerala', 'Lakshadweep',\n",
       "       'Madhya Pradesh', 'Maharashtra', 'Manipur', 'Meghalaya', 'Mizoram',\n",
       "       'Nagaland', 'Odisha', 'Puducherry', 'Punjab', 'Rajasthan',\n",
       "       'Sikkim', 'Tamil Nadu', 'Telangana', 'Tripura', 'Uttar Pradesh',\n",
       "       'West Bengal', 'Chhattisgarh', 'Ladakh', 'Uttarakhand'],\n",
       "      dtype=object)"
      ]
     },
     "execution_count": 4,
     "metadata": {},
     "output_type": "execute_result"
    }
   ],
   "source": [
    "#hide\n",
    "arr_states[-9] = 'Puducherry'\n",
    "arr_states[-10] = 'Odisha'\n",
    "arr_states[6] = 'Dadra and Nagar Haveli and Daman and Diu'\n",
    "arr_states = np.append(arr_states,np.array(['Chhattisgarh','Ladakh','Uttarakhand']))\n",
    "arr_states"
   ]
  },
  {
   "cell_type": "code",
   "execution_count": 5,
   "id": "behind-manner",
   "metadata": {
    "execution": {
     "iopub.execute_input": "2021-02-27T12:32:12.111085Z",
     "iopub.status.busy": "2021-02-27T12:32:12.110536Z",
     "iopub.status.idle": "2021-02-27T12:32:12.121182Z",
     "shell.execute_reply": "2021-02-27T12:32:12.120745Z"
    },
    "papermill": {
     "duration": 0.03963,
     "end_time": "2021-02-27T12:32:12.121299",
     "exception": false,
     "start_time": "2021-02-27T12:32:12.081669",
     "status": "completed"
    },
    "tags": []
   },
   "outputs": [],
   "source": [
    "#hide\n",
    "dates = []\n",
    "for i in arr_dates:\n",
    "    if i>='2020-07-01':\n",
    "        dates.append(i)\n",
    "dict = {'states':dates}\n",
    "for i in arr_states:\n",
    "    dict[i] = [0]*len(dates)\n",
    "dft_cases = pd.DataFrame(dict)\n",
    "dft_deaths = pd.DataFrame(dict)\n"
   ]
  },
  {
   "cell_type": "code",
   "execution_count": 6,
   "id": "simplified-peter",
   "metadata": {
    "execution": {
     "iopub.execute_input": "2021-02-27T12:32:12.159436Z",
     "iopub.status.busy": "2021-02-27T12:32:12.158827Z",
     "iopub.status.idle": "2021-02-27T12:32:15.317125Z",
     "shell.execute_reply": "2021-02-27T12:32:15.316507Z"
    },
    "papermill": {
     "duration": 3.17947,
     "end_time": "2021-02-27T12:32:15.317279",
     "exception": false,
     "start_time": "2021-02-27T12:32:12.137809",
     "status": "completed"
    },
    "tags": []
   },
   "outputs": [],
   "source": [
    "#hide\n",
    "for i in range(len(dates)):\n",
    "    df1_deaths = df_deaths1.get_group(dates[i])\n",
    "    for j in range(len(df1_deaths.index)):\n",
    "        if df1_deaths.iloc[j,1] in arr_states:\n",
    "            dft_deaths.loc[i,df1_deaths.iloc[j,1]] = df1_deaths.iloc[j,2]\n",
    "dft_deaths = dft_deaths.set_index('states')"
   ]
  },
  {
   "cell_type": "code",
   "execution_count": 7,
   "id": "geological-welding",
   "metadata": {
    "execution": {
     "iopub.execute_input": "2021-02-27T12:32:15.360075Z",
     "iopub.status.busy": "2021-02-27T12:32:15.359457Z",
     "iopub.status.idle": "2021-02-27T12:32:18.553456Z",
     "shell.execute_reply": "2021-02-27T12:32:18.553904Z"
    },
    "papermill": {
     "duration": 3.219965,
     "end_time": "2021-02-27T12:32:18.554110",
     "exception": false,
     "start_time": "2021-02-27T12:32:15.334145",
     "status": "completed"
    },
    "tags": []
   },
   "outputs": [],
   "source": [
    "#hide\n",
    "for i in range(len(dates)):\n",
    "    df1_cases = df_cases1.get_group(dates[i])\n",
    "    for j in range(len(df1_cases.index)):\n",
    "        if df1_cases.iloc[j,1] in arr_states:\n",
    "            dft_cases.loc[i,df1_cases.iloc[j,1]] = df1_cases.iloc[j,2]\n",
    "dft_cases = dft_cases.set_index('states')"
   ]
  },
  {
   "cell_type": "code",
   "execution_count": 8,
   "id": "binary-ratio",
   "metadata": {
    "execution": {
     "iopub.execute_input": "2021-02-27T12:32:18.597670Z",
     "iopub.status.busy": "2021-02-27T12:32:18.597050Z",
     "iopub.status.idle": "2021-02-27T12:32:18.598865Z",
     "shell.execute_reply": "2021-02-27T12:32:18.599277Z"
    },
    "papermill": {
     "duration": 0.023008,
     "end_time": "2021-02-27T12:32:18.599416",
     "exception": false,
     "start_time": "2021-02-27T12:32:18.576408",
     "status": "completed"
    },
    "tags": []
   },
   "outputs": [],
   "source": [
    "#hide\n",
    "dft_cases = dft_cases.T\n",
    "dft_deaths = dft_deaths.T\n",
    "dt_today = dates[-1]\n",
    "dt_yday = dates[-2]"
   ]
  },
  {
   "cell_type": "code",
   "execution_count": 9,
   "id": "boolean-calculator",
   "metadata": {
    "execution": {
     "iopub.execute_input": "2021-02-27T12:32:18.636351Z",
     "iopub.status.busy": "2021-02-27T12:32:18.635937Z",
     "iopub.status.idle": "2021-02-27T12:32:18.640779Z",
     "shell.execute_reply": "2021-02-27T12:32:18.641327Z"
    },
    "papermill": {
     "duration": 0.025891,
     "end_time": "2021-02-27T12:32:18.641462",
     "exception": false,
     "start_time": "2021-02-27T12:32:18.615571",
     "status": "completed"
    },
    "tags": []
   },
   "outputs": [],
   "source": [
    "#hide\n",
    "dft_cases = dft_cases.reset_index()\n",
    "dft_deaths = dft_deaths.reset_index()\n",
    "dft_cases = dft_cases.rename(columns = {'index':'state'})\n",
    "dft_deaths = dft_deaths.rename(columns = {'index':'state'})"
   ]
  },
  {
   "cell_type": "code",
   "execution_count": 10,
   "id": "invisible-johnston",
   "metadata": {
    "execution": {
     "iopub.execute_input": "2021-02-27T12:32:18.680666Z",
     "iopub.status.busy": "2021-02-27T12:32:18.680131Z",
     "iopub.status.idle": "2021-02-27T12:32:18.685052Z",
     "shell.execute_reply": "2021-02-27T12:32:18.684650Z"
    },
    "papermill": {
     "duration": 0.028385,
     "end_time": "2021-02-27T12:32:18.685170",
     "exception": false,
     "start_time": "2021-02-27T12:32:18.656785",
     "status": "completed"
    },
    "tags": []
   },
   "outputs": [],
   "source": [
    "#hide\n",
    "dfc_cases = dft_cases.groupby('state')[dt_today].sum()\n",
    "dfc_deaths = dft_deaths.groupby('state')[dt_today].sum()\n",
    "dfp_cases = dft_cases.groupby('state')[dt_yday].sum()\n",
    "dfp_deaths = dft_deaths.groupby('state')[dt_yday].sum()"
   ]
  },
  {
   "cell_type": "code",
   "execution_count": 11,
   "id": "measured-great",
   "metadata": {
    "execution": {
     "iopub.execute_input": "2021-02-27T12:32:18.732332Z",
     "iopub.status.busy": "2021-02-27T12:32:18.731779Z",
     "iopub.status.idle": "2021-02-27T12:32:18.738405Z",
     "shell.execute_reply": "2021-02-27T12:32:18.738881Z"
    },
    "papermill": {
     "duration": 0.036455,
     "end_time": "2021-02-27T12:32:18.739011",
     "exception": false,
     "start_time": "2021-02-27T12:32:18.702556",
     "status": "completed"
    },
    "tags": []
   },
   "outputs": [
    {
     "data": {
      "text/html": [
       "<div>\n",
       "<style scoped>\n",
       "    .dataframe tbody tr th:only-of-type {\n",
       "        vertical-align: middle;\n",
       "    }\n",
       "\n",
       "    .dataframe tbody tr th {\n",
       "        vertical-align: top;\n",
       "    }\n",
       "\n",
       "    .dataframe thead th {\n",
       "        text-align: right;\n",
       "    }\n",
       "</style>\n",
       "<table border=\"1\" class=\"dataframe\">\n",
       "  <thead>\n",
       "    <tr style=\"text-align: right;\">\n",
       "      <th></th>\n",
       "      <th>states</th>\n",
       "      <th>Cases</th>\n",
       "      <th>Deaths</th>\n",
       "      <th>PCases</th>\n",
       "      <th>PDeaths</th>\n",
       "    </tr>\n",
       "  </thead>\n",
       "  <tbody>\n",
       "    <tr>\n",
       "      <th>0</th>\n",
       "      <td>Maharashtra</td>\n",
       "      <td>2138154</td>\n",
       "      <td>52041</td>\n",
       "      <td>2138154</td>\n",
       "      <td>52041</td>\n",
       "    </tr>\n",
       "    <tr>\n",
       "      <th>1</th>\n",
       "      <td>Kerala</td>\n",
       "      <td>1052358</td>\n",
       "      <td>4165</td>\n",
       "      <td>1052358</td>\n",
       "      <td>4165</td>\n",
       "    </tr>\n",
       "    <tr>\n",
       "      <th>2</th>\n",
       "      <td>Karnataka</td>\n",
       "      <td>950207</td>\n",
       "      <td>12320</td>\n",
       "      <td>950207</td>\n",
       "      <td>12320</td>\n",
       "    </tr>\n",
       "    <tr>\n",
       "      <th>3</th>\n",
       "      <td>Andhra Pradesh</td>\n",
       "      <td>889681</td>\n",
       "      <td>7169</td>\n",
       "      <td>889681</td>\n",
       "      <td>7169</td>\n",
       "    </tr>\n",
       "    <tr>\n",
       "      <th>4</th>\n",
       "      <td>Tamil Nadu</td>\n",
       "      <td>850577</td>\n",
       "      <td>12488</td>\n",
       "      <td>850577</td>\n",
       "      <td>12488</td>\n",
       "    </tr>\n",
       "  </tbody>\n",
       "</table>\n",
       "</div>"
      ],
      "text/plain": [
       "           states    Cases  Deaths   PCases  PDeaths\n",
       "0     Maharashtra  2138154   52041  2138154    52041\n",
       "1          Kerala  1052358    4165  1052358     4165\n",
       "2       Karnataka   950207   12320   950207    12320\n",
       "3  Andhra Pradesh   889681    7169   889681     7169\n",
       "4      Tamil Nadu   850577   12488   850577    12488"
      ]
     },
     "execution_count": 11,
     "metadata": {},
     "output_type": "execute_result"
    }
   ],
   "source": [
    "#hide\n",
    "df_table = pd.DataFrame({'states': dfc_cases.index, 'Cases': dfc_cases.values, 'Deaths': dfc_deaths.values, 'PCases': dfp_cases.values, 'PDeaths': dfp_deaths.values}).set_index('states')\n",
    "df_table = df_table.sort_values(by = ['Cases','Deaths'], ascending = [False, False])\n",
    "df_table = df_table.reset_index()\n",
    "df_table.head()"
   ]
  },
  {
   "cell_type": "code",
   "execution_count": 12,
   "id": "found-montreal",
   "metadata": {
    "execution": {
     "iopub.execute_input": "2021-02-27T12:32:18.773936Z",
     "iopub.status.busy": "2021-02-27T12:32:18.773409Z",
     "iopub.status.idle": "2021-02-27T12:32:18.781036Z",
     "shell.execute_reply": "2021-02-27T12:32:18.781457Z"
    },
    "papermill": {
     "duration": 0.028715,
     "end_time": "2021-02-27T12:32:18.781580",
     "exception": false,
     "start_time": "2021-02-27T12:32:18.752865",
     "status": "completed"
    },
    "tags": []
   },
   "outputs": [],
   "source": [
    "#hide\n",
    "for c in 'Cases, Deaths'.split(', '):\n",
    "    df_table[f'{c} (+)'] = (df_table[c] - df_table[f'P{c}']).clip(0)\n",
    "df_table['Fatality Rate'] = (100* df_table['Deaths']/ df_table['Cases']).round(2)"
   ]
  },
  {
   "cell_type": "code",
   "execution_count": 13,
   "id": "minus-savage",
   "metadata": {
    "execution": {
     "iopub.execute_input": "2021-02-27T12:32:18.825665Z",
     "iopub.status.busy": "2021-02-27T12:32:18.825121Z",
     "iopub.status.idle": "2021-02-27T12:32:18.827826Z",
     "shell.execute_reply": "2021-02-27T12:32:18.827360Z"
    },
    "papermill": {
     "duration": 0.031039,
     "end_time": "2021-02-27T12:32:18.827932",
     "exception": false,
     "start_time": "2021-02-27T12:32:18.796893",
     "status": "completed"
    },
    "tags": []
   },
   "outputs": [
    {
     "data": {
      "text/html": [
       "<div>\n",
       "<style scoped>\n",
       "    .dataframe tbody tr th:only-of-type {\n",
       "        vertical-align: middle;\n",
       "    }\n",
       "\n",
       "    .dataframe tbody tr th {\n",
       "        vertical-align: top;\n",
       "    }\n",
       "\n",
       "    .dataframe thead th {\n",
       "        text-align: right;\n",
       "    }\n",
       "</style>\n",
       "<table border=\"1\" class=\"dataframe\">\n",
       "  <thead>\n",
       "    <tr style=\"text-align: right;\">\n",
       "      <th></th>\n",
       "      <th>states</th>\n",
       "      <th>Cases</th>\n",
       "      <th>Deaths</th>\n",
       "      <th>PCases</th>\n",
       "      <th>PDeaths</th>\n",
       "      <th>Cases (+)</th>\n",
       "      <th>Deaths (+)</th>\n",
       "      <th>Fatality Rate</th>\n",
       "    </tr>\n",
       "  </thead>\n",
       "  <tbody>\n",
       "    <tr>\n",
       "      <th>0</th>\n",
       "      <td>Maharashtra</td>\n",
       "      <td>2138154</td>\n",
       "      <td>52041</td>\n",
       "      <td>2138154</td>\n",
       "      <td>52041</td>\n",
       "      <td>0</td>\n",
       "      <td>0</td>\n",
       "      <td>2.43</td>\n",
       "    </tr>\n",
       "    <tr>\n",
       "      <th>1</th>\n",
       "      <td>Kerala</td>\n",
       "      <td>1052358</td>\n",
       "      <td>4165</td>\n",
       "      <td>1052358</td>\n",
       "      <td>4165</td>\n",
       "      <td>0</td>\n",
       "      <td>0</td>\n",
       "      <td>0.40</td>\n",
       "    </tr>\n",
       "    <tr>\n",
       "      <th>2</th>\n",
       "      <td>Karnataka</td>\n",
       "      <td>950207</td>\n",
       "      <td>12320</td>\n",
       "      <td>950207</td>\n",
       "      <td>12320</td>\n",
       "      <td>0</td>\n",
       "      <td>0</td>\n",
       "      <td>1.30</td>\n",
       "    </tr>\n",
       "    <tr>\n",
       "      <th>3</th>\n",
       "      <td>Andhra Pradesh</td>\n",
       "      <td>889681</td>\n",
       "      <td>7169</td>\n",
       "      <td>889681</td>\n",
       "      <td>7169</td>\n",
       "      <td>0</td>\n",
       "      <td>0</td>\n",
       "      <td>0.81</td>\n",
       "    </tr>\n",
       "    <tr>\n",
       "      <th>4</th>\n",
       "      <td>Tamil Nadu</td>\n",
       "      <td>850577</td>\n",
       "      <td>12488</td>\n",
       "      <td>850577</td>\n",
       "      <td>12488</td>\n",
       "      <td>0</td>\n",
       "      <td>0</td>\n",
       "      <td>1.47</td>\n",
       "    </tr>\n",
       "  </tbody>\n",
       "</table>\n",
       "</div>"
      ],
      "text/plain": [
       "           states    Cases  Deaths   PCases  PDeaths  Cases (+)  Deaths (+)  \\\n",
       "0     Maharashtra  2138154   52041  2138154    52041          0           0   \n",
       "1          Kerala  1052358    4165  1052358     4165          0           0   \n",
       "2       Karnataka   950207   12320   950207    12320          0           0   \n",
       "3  Andhra Pradesh   889681    7169   889681     7169          0           0   \n",
       "4      Tamil Nadu   850577   12488   850577    12488          0           0   \n",
       "\n",
       "   Fatality Rate  \n",
       "0           2.43  \n",
       "1           0.40  \n",
       "2           1.30  \n",
       "3           0.81  \n",
       "4           1.47  "
      ]
     },
     "execution_count": 13,
     "metadata": {},
     "output_type": "execute_result"
    }
   ],
   "source": [
    "#hide\n",
    "df_table.head()"
   ]
  },
  {
   "cell_type": "code",
   "execution_count": 14,
   "id": "false-peter",
   "metadata": {
    "execution": {
     "iopub.execute_input": "2021-02-27T12:32:18.864750Z",
     "iopub.status.busy": "2021-02-27T12:32:18.864220Z",
     "iopub.status.idle": "2021-02-27T12:32:18.877733Z",
     "shell.execute_reply": "2021-02-27T12:32:18.877147Z"
    },
    "papermill": {
     "duration": 0.034032,
     "end_time": "2021-02-27T12:32:18.877853",
     "exception": false,
     "start_time": "2021-02-27T12:32:18.843821",
     "status": "completed"
    },
    "tags": []
   },
   "outputs": [
    {
     "data": {
      "text/plain": [
       "{'updated': '2021-02-27',\n",
       " 'since': '2021-02-26',\n",
       " 'Cases': 11079999,\n",
       " 'PCases': 11079637,\n",
       " 'Deaths': 156976,\n",
       " 'PDeaths': 156975,\n",
       " 'Cases (+)': 362,\n",
       " 'Deaths (+)': 1}"
      ]
     },
     "execution_count": 14,
     "metadata": {},
     "output_type": "execute_result"
    }
   ],
   "source": [
    "#hide\n",
    "summary = {'updated':dates[-1], 'since':dates[-2]}\n",
    "list_names = ['Cases', 'PCases', 'Deaths', 'PDeaths', 'Cases (+)', 'Deaths (+)']\n",
    "for name in list_names:\n",
    "    summary[name] = df_table.sum()[name]\n",
    "summary"
   ]
  },
  {
   "cell_type": "code",
   "execution_count": 15,
   "id": "packed-viewer",
   "metadata": {
    "execution": {
     "iopub.execute_input": "2021-02-27T12:32:18.916422Z",
     "iopub.status.busy": "2021-02-27T12:32:18.915937Z",
     "iopub.status.idle": "2021-02-27T12:32:18.917632Z",
     "shell.execute_reply": "2021-02-27T12:32:18.918013Z"
    },
    "papermill": {
     "duration": 0.023276,
     "end_time": "2021-02-27T12:32:18.918155",
     "exception": false,
     "start_time": "2021-02-27T12:32:18.894879",
     "status": "completed"
    },
    "tags": []
   },
   "outputs": [],
   "source": [
    "#hide\n",
    "overview = '''\n",
    "<!-- #######  HTML!! #########-->\n",
    "<h1 style=\"color: #5e9ca0; text-align: center;\">India</h1>\n",
    "<p style=\"text-align: center;\">Last update: <strong>{update}</strong></p>\n",
    "<p style=\"text-align: center;\">Confirmed cases:</p>\n",
    "<p style=\"text-align: center;font-size:24px;\">{cases} (<span style=\"color: #ff0000;\">+{new}</span>)</p>\n",
    "<p style=\"text-align: center;\">Confirmed deaths:</p>\n",
    "<p style=\"text-align: center;font-size:24px;\">{deaths} (<span style=\"color: #ff0000;\">+{dnew}</span>)</p>\n",
    "'''"
   ]
  },
  {
   "cell_type": "code",
   "execution_count": 16,
   "id": "phantom-lover",
   "metadata": {
    "execution": {
     "iopub.execute_input": "2021-02-27T12:32:18.960212Z",
     "iopub.status.busy": "2021-02-27T12:32:18.959570Z",
     "iopub.status.idle": "2021-02-27T12:32:18.962140Z",
     "shell.execute_reply": "2021-02-27T12:32:18.962652Z"
    },
    "papermill": {
     "duration": 0.02672,
     "end_time": "2021-02-27T12:32:18.962797",
     "exception": false,
     "start_time": "2021-02-27T12:32:18.936077",
     "status": "completed"
    },
    "tags": []
   },
   "outputs": [
    {
     "data": {
      "text/html": [
       "\n",
       "<!-- #######  HTML!! #########-->\n",
       "<h1 style=\"color: #5e9ca0; text-align: center;\">India</h1>\n",
       "<p style=\"text-align: center;\">Last update: <strong>2021-02-27</strong></p>\n",
       "<p style=\"text-align: center;\">Confirmed cases:</p>\n",
       "<p style=\"text-align: center;font-size:24px;\">11079999 (<span style=\"color: #ff0000;\">+362</span>)</p>\n",
       "<p style=\"text-align: center;\">Confirmed deaths:</p>\n",
       "<p style=\"text-align: center;font-size:24px;\">156976 (<span style=\"color: #ff0000;\">+1</span>)</p>\n"
      ],
      "text/plain": [
       "<IPython.core.display.HTML object>"
      ]
     },
     "metadata": {},
     "output_type": "display_data"
    }
   ],
   "source": [
    "#hide_input\n",
    "update = summary['updated']\n",
    "cases = summary['Cases']\n",
    "new = summary['Cases (+)']\n",
    "deaths = summary['Deaths']\n",
    "dnew = summary['Deaths (+)']\n",
    "\n",
    "html = HTML(overview.format(update=update, cases=cases,new=new,deaths=deaths,dnew=dnew))\n",
    "\n",
    "display(html)"
   ]
  },
  {
   "cell_type": "code",
   "execution_count": 17,
   "id": "sealed-reset",
   "metadata": {
    "execution": {
     "iopub.execute_input": "2021-02-27T12:32:19.004537Z",
     "iopub.status.busy": "2021-02-27T12:32:19.003941Z",
     "iopub.status.idle": "2021-02-27T12:32:19.011704Z",
     "shell.execute_reply": "2021-02-27T12:32:19.011219Z"
    },
    "papermill": {
     "duration": 0.031305,
     "end_time": "2021-02-27T12:32:19.011840",
     "exception": false,
     "start_time": "2021-02-27T12:32:18.980535",
     "status": "completed"
    },
    "tags": []
   },
   "outputs": [],
   "source": [
    "#hide\n",
    "dt_cols = list(dft_cases.columns[1:])\n",
    "dft_ct_new_cases = dft_cases.groupby('state')[dt_cols].sum().diff(axis=1).fillna(0).astype(int)\n",
    "dft_ct_new_cases.sort_values(by = dates[-1], ascending = False,inplace = True)"
   ]
  },
  {
   "cell_type": "code",
   "execution_count": 18,
   "id": "designed-constant",
   "metadata": {
    "execution": {
     "iopub.execute_input": "2021-02-27T12:32:19.068195Z",
     "iopub.status.busy": "2021-02-27T12:32:19.067621Z",
     "iopub.status.idle": "2021-02-27T12:32:19.071408Z",
     "shell.execute_reply": "2021-02-27T12:32:19.071953Z"
    },
    "papermill": {
     "duration": 0.041856,
     "end_time": "2021-02-27T12:32:19.072102",
     "exception": false,
     "start_time": "2021-02-27T12:32:19.030246",
     "status": "completed"
    },
    "tags": []
   },
   "outputs": [
    {
     "data": {
      "text/html": [
       "<div>\n",
       "<style scoped>\n",
       "    .dataframe tbody tr th:only-of-type {\n",
       "        vertical-align: middle;\n",
       "    }\n",
       "\n",
       "    .dataframe tbody tr th {\n",
       "        vertical-align: top;\n",
       "    }\n",
       "\n",
       "    .dataframe thead th {\n",
       "        text-align: right;\n",
       "    }\n",
       "</style>\n",
       "<table border=\"1\" class=\"dataframe\">\n",
       "  <thead>\n",
       "    <tr style=\"text-align: right;\">\n",
       "      <th>states</th>\n",
       "      <th>2020-07-01</th>\n",
       "      <th>2020-07-02</th>\n",
       "      <th>2020-07-03</th>\n",
       "      <th>2020-07-04</th>\n",
       "      <th>2020-07-05</th>\n",
       "      <th>2020-07-06</th>\n",
       "      <th>2020-07-07</th>\n",
       "      <th>2020-07-08</th>\n",
       "      <th>2020-07-09</th>\n",
       "      <th>2020-07-10</th>\n",
       "      <th>...</th>\n",
       "      <th>2021-02-18</th>\n",
       "      <th>2021-02-19</th>\n",
       "      <th>2021-02-20</th>\n",
       "      <th>2021-02-21</th>\n",
       "      <th>2021-02-22</th>\n",
       "      <th>2021-02-23</th>\n",
       "      <th>2021-02-24</th>\n",
       "      <th>2021-02-25</th>\n",
       "      <th>2021-02-26</th>\n",
       "      <th>2021-02-27</th>\n",
       "    </tr>\n",
       "    <tr>\n",
       "      <th>state</th>\n",
       "      <th></th>\n",
       "      <th></th>\n",
       "      <th></th>\n",
       "      <th></th>\n",
       "      <th></th>\n",
       "      <th></th>\n",
       "      <th></th>\n",
       "      <th></th>\n",
       "      <th></th>\n",
       "      <th></th>\n",
       "      <th></th>\n",
       "      <th></th>\n",
       "      <th></th>\n",
       "      <th></th>\n",
       "      <th></th>\n",
       "      <th></th>\n",
       "      <th></th>\n",
       "      <th></th>\n",
       "      <th></th>\n",
       "      <th></th>\n",
       "      <th></th>\n",
       "    </tr>\n",
       "  </thead>\n",
       "  <tbody>\n",
       "    <tr>\n",
       "      <th>Telangana</th>\n",
       "      <td>0</td>\n",
       "      <td>1213</td>\n",
       "      <td>1892</td>\n",
       "      <td>1850</td>\n",
       "      <td>1590</td>\n",
       "      <td>1831</td>\n",
       "      <td>1879</td>\n",
       "      <td>1924</td>\n",
       "      <td>1410</td>\n",
       "      <td>1278</td>\n",
       "      <td>...</td>\n",
       "      <td>163</td>\n",
       "      <td>165</td>\n",
       "      <td>157</td>\n",
       "      <td>163</td>\n",
       "      <td>114</td>\n",
       "      <td>0</td>\n",
       "      <td>345</td>\n",
       "      <td>207</td>\n",
       "      <td>189</td>\n",
       "      <td>178</td>\n",
       "    </tr>\n",
       "    <tr>\n",
       "      <th>Jammu and Kashmir</th>\n",
       "      <td>0</td>\n",
       "      <td>154</td>\n",
       "      <td>170</td>\n",
       "      <td>227</td>\n",
       "      <td>183</td>\n",
       "      <td>246</td>\n",
       "      <td>256</td>\n",
       "      <td>330</td>\n",
       "      <td>240</td>\n",
       "      <td>387</td>\n",
       "      <td>...</td>\n",
       "      <td>87</td>\n",
       "      <td>81</td>\n",
       "      <td>68</td>\n",
       "      <td>84</td>\n",
       "      <td>58</td>\n",
       "      <td>94</td>\n",
       "      <td>74</td>\n",
       "      <td>108</td>\n",
       "      <td>85</td>\n",
       "      <td>97</td>\n",
       "    </tr>\n",
       "    <tr>\n",
       "      <th>Odisha</th>\n",
       "      <td>0</td>\n",
       "      <td>229</td>\n",
       "      <td>561</td>\n",
       "      <td>495</td>\n",
       "      <td>469</td>\n",
       "      <td>456</td>\n",
       "      <td>571</td>\n",
       "      <td>527</td>\n",
       "      <td>577</td>\n",
       "      <td>755</td>\n",
       "      <td>...</td>\n",
       "      <td>63</td>\n",
       "      <td>53</td>\n",
       "      <td>65</td>\n",
       "      <td>58</td>\n",
       "      <td>69</td>\n",
       "      <td>62</td>\n",
       "      <td>68</td>\n",
       "      <td>89</td>\n",
       "      <td>94</td>\n",
       "      <td>86</td>\n",
       "    </tr>\n",
       "    <tr>\n",
       "      <th>Nagaland</th>\n",
       "      <td>0</td>\n",
       "      <td>34</td>\n",
       "      <td>4</td>\n",
       "      <td>24</td>\n",
       "      <td>27</td>\n",
       "      <td>35</td>\n",
       "      <td>19</td>\n",
       "      <td>13</td>\n",
       "      <td>16</td>\n",
       "      <td>59</td>\n",
       "      <td>...</td>\n",
       "      <td>1</td>\n",
       "      <td>0</td>\n",
       "      <td>0</td>\n",
       "      <td>1</td>\n",
       "      <td>0</td>\n",
       "      <td>0</td>\n",
       "      <td>0</td>\n",
       "      <td>6</td>\n",
       "      <td>0</td>\n",
       "      <td>1</td>\n",
       "    </tr>\n",
       "    <tr>\n",
       "      <th>Andaman and Nicobar Islands</th>\n",
       "      <td>0</td>\n",
       "      <td>9</td>\n",
       "      <td>7</td>\n",
       "      <td>3</td>\n",
       "      <td>6</td>\n",
       "      <td>16</td>\n",
       "      <td>6</td>\n",
       "      <td>2</td>\n",
       "      <td>7</td>\n",
       "      <td>0</td>\n",
       "      <td>...</td>\n",
       "      <td>0</td>\n",
       "      <td>0</td>\n",
       "      <td>0</td>\n",
       "      <td>0</td>\n",
       "      <td>1</td>\n",
       "      <td>1</td>\n",
       "      <td>0</td>\n",
       "      <td>0</td>\n",
       "      <td>1</td>\n",
       "      <td>0</td>\n",
       "    </tr>\n",
       "  </tbody>\n",
       "</table>\n",
       "<p>5 rows × 242 columns</p>\n",
       "</div>"
      ],
      "text/plain": [
       "states                       2020-07-01  2020-07-02  2020-07-03  2020-07-04  \\\n",
       "state                                                                         \n",
       "Telangana                             0        1213        1892        1850   \n",
       "Jammu and Kashmir                     0         154         170         227   \n",
       "Odisha                                0         229         561         495   \n",
       "Nagaland                              0          34           4          24   \n",
       "Andaman and Nicobar Islands           0           9           7           3   \n",
       "\n",
       "states                       2020-07-05  2020-07-06  2020-07-07  2020-07-08  \\\n",
       "state                                                                         \n",
       "Telangana                          1590        1831        1879        1924   \n",
       "Jammu and Kashmir                   183         246         256         330   \n",
       "Odisha                              469         456         571         527   \n",
       "Nagaland                             27          35          19          13   \n",
       "Andaman and Nicobar Islands           6          16           6           2   \n",
       "\n",
       "states                       2020-07-09  2020-07-10  ...  2021-02-18  \\\n",
       "state                                                ...               \n",
       "Telangana                          1410        1278  ...         163   \n",
       "Jammu and Kashmir                   240         387  ...          87   \n",
       "Odisha                              577         755  ...          63   \n",
       "Nagaland                             16          59  ...           1   \n",
       "Andaman and Nicobar Islands           7           0  ...           0   \n",
       "\n",
       "states                       2021-02-19  2021-02-20  2021-02-21  2021-02-22  \\\n",
       "state                                                                         \n",
       "Telangana                           165         157         163         114   \n",
       "Jammu and Kashmir                    81          68          84          58   \n",
       "Odisha                               53          65          58          69   \n",
       "Nagaland                              0           0           1           0   \n",
       "Andaman and Nicobar Islands           0           0           0           1   \n",
       "\n",
       "states                       2021-02-23  2021-02-24  2021-02-25  2021-02-26  \\\n",
       "state                                                                         \n",
       "Telangana                             0         345         207         189   \n",
       "Jammu and Kashmir                    94          74         108          85   \n",
       "Odisha                               62          68          89          94   \n",
       "Nagaland                              0           0           6           0   \n",
       "Andaman and Nicobar Islands           1           0           0           1   \n",
       "\n",
       "states                       2021-02-27  \n",
       "state                                    \n",
       "Telangana                           178  \n",
       "Jammu and Kashmir                    97  \n",
       "Odisha                               86  \n",
       "Nagaland                              1  \n",
       "Andaman and Nicobar Islands           0  \n",
       "\n",
       "[5 rows x 242 columns]"
      ]
     },
     "execution_count": 18,
     "metadata": {},
     "output_type": "execute_result"
    }
   ],
   "source": [
    "#hide\n",
    "dft_ct_new_cases.head()"
   ]
  },
  {
   "cell_type": "code",
   "execution_count": 19,
   "id": "responsible-nightlife",
   "metadata": {
    "execution": {
     "iopub.execute_input": "2021-02-27T12:32:19.114633Z",
     "iopub.status.busy": "2021-02-27T12:32:19.113920Z",
     "iopub.status.idle": "2021-02-27T12:32:27.006382Z",
     "shell.execute_reply": "2021-02-27T12:32:27.006831Z"
    },
    "papermill": {
     "duration": 7.916043,
     "end_time": "2021-02-27T12:32:27.006974",
     "exception": false,
     "start_time": "2021-02-27T12:32:19.090931",
     "status": "completed"
    },
    "tags": []
   },
   "outputs": [
    {
     "data": {
      "image/png": "[encoded data removed]",
      "text/plain": [
       "<Figure size 1296x2016 with 11 Axes>"
      ]
     },
     "metadata": {
      "needs_background": "light"
     },
     "output_type": "display_data"
    }
   ],
   "source": [
    "#hide_input\n",
    "df = dft_ct_new_cases.copy()\n",
    "df.loc['Total'] = df.sum()\n",
    "n = 5\n",
    "ax = []\n",
    "fig = plt.figure(figsize = (18,28))\n",
    "gs = fig.add_gridspec(n+2, 5)\n",
    "# gs = fig.add_gridspec(2, 3)\n",
    "ax1 = fig.add_subplot(gs[0, :])\n",
    "ef = df.loc['Total'].rename_axis('date').reset_index()\n",
    "ef['date'] = ef['date'].astype('datetime64[ns]')\n",
    "ax1.bar(ef.date,ef.Total,alpha=0.3,color='#007acc')\n",
    "ax1.plot(ef.date,ef.Total , marker=\"o\", color='#007acc')\n",
    "ax1.xaxis.set_major_locator(mdates.WeekdayLocator())\n",
    "ax1.xaxis.set_major_formatter(mdates.DateFormatter('%b %d'))\n",
    "ax1.text(0.02, 0.5,'India daily case count', transform = ax1.transAxes, fontsize=25);\n",
    "ax1.spines['right'].set_visible(False)\n",
    "ax1.spines['top'].set_visible(False)\n",
    "\n",
    "ax2 = fig.add_subplot(gs[1,0])\n",
    "ef = df.loc['Maharashtra'].rename_axis('date').reset_index()\n",
    "ef['date'] = ef['date'].astype('datetime64[ns]')\n",
    "\n",
    "ax2.bar(ef.date, ef.Maharashtra,color = '#007acc',alpha=0.5)\n",
    "ax2.xaxis.set_major_locator(mdates.WeekdayLocator())\n",
    "ax2.xaxis.set_major_formatter(mdates.DateFormatter('%b %d'))\n",
    "ax2.set_xticks(ax2.get_xticks()[::3])\n",
    "maxyval = ef.Maharashtra.max()\n",
    "ax2.set_ylim([0,maxyval])\n",
    "ax2.text(0.05, 0.9,'Maharashtra', transform = ax2.transAxes, fontsize=20);\n",
    "ax2.spines['right'].set_visible(False)\n",
    "ax2.spines['top'].set_visible(False)\n",
    "\n",
    "\n",
    "ax3 = fig.add_subplot(gs[1,1])\n",
    "ef = df.loc['Tamil Nadu'].rename_axis('date').reset_index()\n",
    "ef['date'] = ef['date'].astype('datetime64[ns]')\n",
    "ax3.bar(ef.date, ef['Tamil Nadu'],color = '#007acc',alpha=0.5,)\n",
    "ax3.xaxis.set_major_locator(mdates.WeekdayLocator())\n",
    "ax3.xaxis.set_major_formatter(mdates.DateFormatter('%b %d'))\n",
    "ax3.set_xticks(ax3.get_xticks()[::3])\n",
    "ax3.text(0.05, 0.9,'Tamil Nadu', transform = ax3.transAxes, fontsize=20);\n",
    "ax3.spines['right'].set_visible(False)\n",
    "ax3.spines['top'].set_visible(False)\n",
    "\n",
    "ax5 = fig.add_subplot(gs[1,3])\n",
    "ef = df.loc['Telangana'].rename_axis('date').reset_index()\n",
    "ef['date'] = ef['date'].astype('datetime64[ns]')\n",
    "ax5.bar(ef.date, ef['Telangana'],color = '#007acc',alpha=0.5,)\n",
    "ax5.xaxis.set_major_locator(mdates.WeekdayLocator())\n",
    "ax5.xaxis.set_major_formatter(mdates.DateFormatter('%b %d'))\n",
    "ax5.set_xticks(ax5.get_xticks()[::3])\n",
    "ax5.text(0.05, 0.9,'Telangana', transform = ax5.transAxes, fontsize=20);\n",
    "ax5.spines['right'].set_visible(False)\n",
    "ax5.spines['top'].set_visible(False)\n",
    "\n",
    "ax6 = fig.add_subplot(gs[1,4])\n",
    "ef = df.loc['Andhra Pradesh'].rename_axis('date').reset_index()\n",
    "ef['date'] = ef['date'].astype('datetime64[ns]')\n",
    "ax6.bar(ef.date, ef['Andhra Pradesh'],color = '#007acc',alpha=0.5,)\n",
    "ax6.xaxis.set_major_locator(mdates.WeekdayLocator())\n",
    "ax6.xaxis.set_major_formatter(mdates.DateFormatter('%b %d'))\n",
    "ax6.set_xticks(ax6.get_xticks()[::3])\n",
    "ax6.text(0.05, 1,'Andhra Pradesh', transform = ax6.transAxes, fontsize=20);\n",
    "ax6.spines['right'].set_visible(False)\n",
    "ax6.spines['top'].set_visible(False)\n",
    "\n",
    "ax4 = fig.add_subplot(gs[1,2])\n",
    "ef = df.loc['Delhi'].rename_axis('date').reset_index()\n",
    "ef['date'] = ef['date'].astype('datetime64[ns]')\n",
    "ax4.bar(ef.date, ef.Delhi,color = '#007acc',alpha=0.5)\n",
    "ax4.set_xticks([])\n",
    "ax4.xaxis.set_major_locator(mdates.WeekdayLocator())\n",
    "ax4.xaxis.set_major_formatter(mdates.DateFormatter('%b %d'))\n",
    "ax4.set_xticks(ax4.get_xticks()[::3])\n",
    "ax4.spines['right'].set_visible(False)\n",
    "ax4.spines['top'].set_visible(False)\n",
    "\n",
    "ax4.text(0.05, 1,'Delhi', transform = ax4.transAxes, fontsize=20)\n",
    "\n",
    "for i in range(n):\n",
    "    \n",
    "    ax.append(fig.add_subplot(gs[i+2,:]))\n",
    "    ef = df.iloc[i+3].rename_axis('date').reset_index()\n",
    "    ef['date'] = ef['date'].astype('datetime64[ns]')\n",
    "    ax[i].bar(ef.date,ef.iloc[:,-1],color = '#007acc',alpha=0.3)\n",
    "    ax[i].plot(ef.date,ef.iloc[:,-1],marker='o',color='#007acc')\n",
    "    ax[i].text(0.02,0.5,f'{ef.columns.values[-1]}',transform = ax[i].transAxes, fontsize = 20);\n",
    "    ax[i].xaxis.set_major_locator(mdates.WeekdayLocator())\n",
    "    ax[i].xaxis.set_major_formatter(mdates.DateFormatter('%b %d'))\n",
    "    ax[i].set_ylim([0,7000])\n",
    "    ax[i].spines['right'].set_visible(False)\n",
    "    ax[i].spines['top'].set_visible(False)\n",
    "plt.tight_layout()\n"
   ]
  },
  {
   "cell_type": "code",
   "execution_count": 20,
   "id": "dress-forge",
   "metadata": {
    "execution": {
     "iopub.execute_input": "2021-02-27T12:32:27.066488Z",
     "iopub.status.busy": "2021-02-27T12:32:27.065717Z",
     "iopub.status.idle": "2021-02-27T12:32:27.069704Z",
     "shell.execute_reply": "2021-02-27T12:32:27.070176Z"
    },
    "papermill": {
     "duration": 0.039583,
     "end_time": "2021-02-27T12:32:27.070325",
     "exception": false,
     "start_time": "2021-02-27T12:32:27.030742",
     "status": "completed"
    },
    "tags": []
   },
   "outputs": [
    {
     "name": "stdout",
     "output_type": "stream",
     "text": [
      "                                   states    Cases  Deaths   PCases  PDeaths  Cases (+)  Deaths (+)  Fatality Rate\n",
      "                              Maharashtra  2138154   52041  2138154    52041          0           0           2.43\n",
      "                                   Kerala  1052358    4165  1052358     4165          0           0           0.40\n",
      "                                Karnataka   950207   12320   950207    12320          0           0           1.30\n",
      "                           Andhra Pradesh   889681    7169   889681     7169          0           0           0.81\n",
      "                               Tamil Nadu   850577   12488   850577    12488          0           0           1.47\n",
      "                                    Delhi   638849   10906   638849    10906          0           0           1.71\n",
      "                            Uttar Pradesh   603350    8725   603350     8725          0           0           1.45\n",
      "                              West Bengal   574716   10263   574716    10263          0           0           1.79\n",
      "                                   Odisha   337104    1968   337018     1968         86           0           0.58\n",
      "                                Rajasthan   320078    2786   320078     2786          0           0           0.87\n",
      "                             Chhattisgarh   312179    3828   312179     3828          0           0           1.23\n",
      "                                Telangana   298631    1633   298453     1632        178           1           0.55\n",
      "                                  Haryana   270411    3044   270411     3044          0           0           1.13\n",
      "                                  Gujarat   269031    4408   269031     4408          0           0           1.64\n",
      "                                    Bihar   262464    1540   262464     1540          0           0           0.59\n",
      "                           Madhya Pradesh   261013    3862   261013     3862          0           0           1.48\n",
      "                                    Assam   217518    1092   217518     1092          0           0           0.50\n",
      "                                   Punjab   181004    5814   181004     5814          0           0           3.21\n",
      "                        Jammu and Kashmir   126383    1956   126286     1956         97           0           1.55\n",
      "                                Jharkhand   119863    1087   119863     1087          0           0           0.91\n",
      "                              Uttarakhand    96890    1691    96890     1691          0           0           1.75\n",
      "                         Himachal Pradesh    58543     982    58543      982          0           0           1.68\n",
      "                                      Goa    54871     794    54871      794          0           0           1.45\n",
      "                               Puducherry    39697     667    39697      667          0           0           1.68\n",
      "                                  Tripura    33404     388    33404      388          0           0           1.16\n",
      "                                  Manipur    29260     373    29260      373          0           0           1.27\n",
      "                               Chandigarh    21659     351    21659      351          0           0           1.62\n",
      "                        Arunachal Pradesh    16836      56    16836       56          0           0           0.33\n",
      "                                Meghalaya    13961     148    13961      148          0           0           1.06\n",
      "                                 Nagaland    12199      91    12198       91          1           0           0.75\n",
      "                                   Ladakh     9816     130     9816      130          0           0           1.32\n",
      "                                   Sikkim     6135     135     6135      135          0           0           2.20\n",
      "              Andaman and Nicobar Islands     5017      62     5017       62          0           0           1.24\n",
      "                                  Mizoram     4419      10     4419       10          0           0           0.23\n",
      " Dadra and Nagar Haveli and Daman and Diu     3388       2     3388        2          0           0           0.06\n",
      "                              Lakshadweep      333       1      333        1          0           0           0.30\n"
     ]
    }
   ],
   "source": [
    "#hide_input\n",
    "print(df_table.to_string(index=False))"
   ]
  },
  {
   "cell_type": "code",
   "execution_count": null,
   "id": "quantitative-legend",
   "metadata": {
    "papermill": {
     "duration": 0.022703,
     "end_time": "2021-02-27T12:32:27.117599",
     "exception": false,
     "start_time": "2021-02-27T12:32:27.094896",
     "status": "completed"
    },
    "tags": []
   },
   "outputs": [],
   "source": []
  },
  {
   "cell_type": "code",
   "execution_count": null,
   "id": "distant-acoustic",
   "metadata": {
    "papermill": {
     "duration": 0.024346,
     "end_time": "2021-02-27T12:32:27.166032",
     "exception": false,
     "start_time": "2021-02-27T12:32:27.141686",
     "status": "completed"
    },
    "tags": []
   },
   "outputs": [],
   "source": []
  }
 ],
 "metadata": {
  "kernelspec": {
   "display_name": "Python 3",
   "language": "python",
   "name": "python3"
  },
  "language_info": {
   "codemirror_mode": {
    "name": "ipython",
    "version": 3
   },
   "file_extension": ".py",
   "mimetype": "text/x-python",
   "name": "python",
   "nbconvert_exporter": "python",
   "pygments_lexer": "ipython3",
   "version": "3.6.13"
  },
  "papermill": {
   "duration": 18.296824,
   "end_time": "2021-02-27T12:32:27.801656",
   "environment_variables": {},
   "exception": null,
   "input_path": "latest.ipynb",
   "output_path": "latest.ipynb",
   "parameters": {},
   "start_time": "2021-02-27T12:32:09.504832",
   "version": "2.1.2"
  }
 },
 "nbformat": 4,
 "nbformat_minor": 5
}