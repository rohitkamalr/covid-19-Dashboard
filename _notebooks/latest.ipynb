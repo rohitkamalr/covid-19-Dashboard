{
 "cells": [
  {
   "cell_type": "markdown",
   "id": "colored-stack",
   "metadata": {
    "papermill": {
     "duration": 0.026724,
     "end_time": "2021-03-22T13:08:22.204446",
     "exception": false,
     "start_time": "2021-03-22T13:08:22.177722",
     "status": "completed"
    },
    "tags": []
   },
   "source": [
    "# Latest COVID-19 India Matplotlib Overview"
   ]
  },
  {
   "cell_type": "code",
   "execution_count": 1,
   "id": "light-proportion",
   "metadata": {
    "execution": {
     "iopub.execute_input": "2021-03-22T13:08:22.260049Z",
     "iopub.status.busy": "2021-03-22T13:08:22.259402Z",
     "iopub.status.idle": "2021-03-22T13:08:22.922355Z",
     "shell.execute_reply": "2021-03-22T13:08:22.921356Z"
    },
    "papermill": {
     "duration": 0.696684,
     "end_time": "2021-03-22T13:08:22.922519",
     "exception": false,
     "start_time": "2021-03-22T13:08:22.225835",
     "status": "completed"
    },
    "tags": []
   },
   "outputs": [],
   "source": [
    "#hide\n",
    "import pandas as pd\n",
    "import numpy as np\n",
    "import requests\n",
    "import json\n",
    "import matplotlib.pyplot as plt\n",
    "import matplotlib.dates as mdates\n",
    "import matplotlib as mpl\n",
    "from IPython.core.display import display,HTML\n",
    "%matplotlib inline\n",
    "from datetime import date"
   ]
  },
  {
   "cell_type": "code",
   "execution_count": 2,
   "id": "greenhouse-shooting",
   "metadata": {
    "execution": {
     "iopub.execute_input": "2021-03-22T13:08:22.971633Z",
     "iopub.status.busy": "2021-03-22T13:08:22.970972Z",
     "iopub.status.idle": "2021-03-22T13:08:23.248428Z",
     "shell.execute_reply": "2021-03-22T13:08:23.249013Z"
    },
    "papermill": {
     "duration": 0.306736,
     "end_time": "2021-03-22T13:08:23.249182",
     "exception": false,
     "start_time": "2021-03-22T13:08:22.942446",
     "status": "completed"
    },
    "tags": []
   },
   "outputs": [],
   "source": [
    "#hide\n",
    "df  = pd.read_csv('https://api.covid19india.org/csv/latest/states.csv')\n",
    "df = df[['Date','State','Confirmed','Deceased']]\n",
    "df = df.rename(columns={'Confirmed':'Cases', \"Deceased\":'Deaths'})\n",
    "df_cases = df[[\"Date\",'State','Cases']]\n",
    "df_deaths = df[['Date','State','Deaths']]\n",
    "df_cases1 = df_cases.groupby('Date')\n",
    "df_deaths1= df_deaths.groupby('Date')"
   ]
  },
  {
   "cell_type": "code",
   "execution_count": 3,
   "id": "hybrid-cathedral",
   "metadata": {
    "execution": {
     "iopub.execute_input": "2021-03-22T13:08:23.298750Z",
     "iopub.status.busy": "2021-03-22T13:08:23.297781Z",
     "iopub.status.idle": "2021-03-22T13:08:23.328490Z",
     "shell.execute_reply": "2021-03-22T13:08:23.327884Z"
    },
    "papermill": {
     "duration": 0.056256,
     "end_time": "2021-03-22T13:08:23.328635",
     "exception": false,
     "start_time": "2021-03-22T13:08:23.272379",
     "status": "completed"
    },
    "tags": []
   },
   "outputs": [],
   "source": [
    "#hide\n",
    "df_snap = pd.read_csv('data/SnapshotCases-28-July.csv')\n",
    "arr_states = df_snap['states'].unique()\n",
    "arr_dates = df['Date'].unique()\n",
    "df_snap = df_snap.set_index('states')"
   ]
  },
  {
   "cell_type": "code",
   "execution_count": 4,
   "id": "interior-belfast",
   "metadata": {
    "execution": {
     "iopub.execute_input": "2021-03-22T13:08:23.376384Z",
     "iopub.status.busy": "2021-03-22T13:08:23.375664Z",
     "iopub.status.idle": "2021-03-22T13:08:23.378982Z",
     "shell.execute_reply": "2021-03-22T13:08:23.379687Z"
    },
    "papermill": {
     "duration": 0.03122,
     "end_time": "2021-03-22T13:08:23.379847",
     "exception": false,
     "start_time": "2021-03-22T13:08:23.348627",
     "status": "completed"
    },
    "tags": []
   },
   "outputs": [
    {
     "data": {
      "text/plain": [
       "array(['Andaman and Nicobar Islands', 'Andhra Pradesh',\n",
       "       'Arunachal Pradesh', 'Assam', 'Bihar', 'Chandigarh',\n",
       "       'Dadra and Nagar Haveli and Daman and Diu', 'Delhi', 'Goa',\n",
       "       'Gujarat', 'Haryana', 'Himachal Pradesh', 'Jammu and Kashmir',\n",
       "       'Jharkhand', 'Karnataka', 'Kerala', 'Lakshadweep',\n",
       "       'Madhya Pradesh', 'Maharashtra', 'Manipur', 'Meghalaya', 'Mizoram',\n",
       "       'Nagaland', 'Odisha', 'Puducherry', 'Punjab', 'Rajasthan',\n",
       "       'Sikkim', 'Tamil Nadu', 'Telangana', 'Tripura', 'Uttar Pradesh',\n",
       "       'West Bengal', 'Chhattisgarh', 'Ladakh', 'Uttarakhand'],\n",
       "      dtype=object)"
      ]
     },
     "execution_count": 4,
     "metadata": {},
     "output_type": "execute_result"
    }
   ],
   "source": [
    "#hide\n",
    "arr_states[-9] = 'Puducherry'\n",
    "arr_states[-10] = 'Odisha'\n",
    "arr_states[6] = 'Dadra and Nagar Haveli and Daman and Diu'\n",
    "arr_states = np.append(arr_states,np.array(['Chhattisgarh','Ladakh','Uttarakhand']))\n",
    "arr_states"
   ]
  },
  {
   "cell_type": "code",
   "execution_count": 5,
   "id": "behind-manner",
   "metadata": {
    "execution": {
     "iopub.execute_input": "2021-03-22T13:08:23.451428Z",
     "iopub.status.busy": "2021-03-22T13:08:23.450602Z",
     "iopub.status.idle": "2021-03-22T13:08:23.452980Z",
     "shell.execute_reply": "2021-03-22T13:08:23.453570Z"
    },
    "papermill": {
     "duration": 0.052764,
     "end_time": "2021-03-22T13:08:23.453743",
     "exception": false,
     "start_time": "2021-03-22T13:08:23.400979",
     "status": "completed"
    },
    "tags": []
   },
   "outputs": [],
   "source": [
    "#hide\n",
    "dates = []\n",
    "for i in arr_dates:\n",
    "    if i>='2020-07-01':\n",
    "        dates.append(i)\n",
    "dict = {'states':dates}\n",
    "for i in arr_states:\n",
    "    dict[i] = [0]*len(dates)\n",
    "dft_cases = pd.DataFrame(dict)\n",
    "dft_deaths = pd.DataFrame(dict)\n"
   ]
  },
  {
   "cell_type": "code",
   "execution_count": 6,
   "id": "simplified-peter",
   "metadata": {
    "execution": {
     "iopub.execute_input": "2021-03-22T13:08:23.509025Z",
     "iopub.status.busy": "2021-03-22T13:08:23.508236Z",
     "iopub.status.idle": "2021-03-22T13:08:28.987640Z",
     "shell.execute_reply": "2021-03-22T13:08:28.987079Z"
    },
    "papermill": {
     "duration": 5.510221,
     "end_time": "2021-03-22T13:08:28.987784",
     "exception": false,
     "start_time": "2021-03-22T13:08:23.477563",
     "status": "completed"
    },
    "tags": []
   },
   "outputs": [],
   "source": [
    "#hide\n",
    "for i in range(len(dates)):\n",
    "    df1_deaths = df_deaths1.get_group(dates[i])\n",
    "    for j in range(len(df1_deaths.index)):\n",
    "        if df1_deaths.iloc[j,1] in arr_states:\n",
    "            dft_deaths.loc[i,df1_deaths.iloc[j,1]] = df1_deaths.iloc[j,2]\n",
    "dft_deaths = dft_deaths.set_index('states')"
   ]
  },
  {
   "cell_type": "code",
   "execution_count": 7,
   "id": "geological-welding",
   "metadata": {
    "execution": {
     "iopub.execute_input": "2021-03-22T13:08:29.044971Z",
     "iopub.status.busy": "2021-03-22T13:08:29.044156Z",
     "iopub.status.idle": "2021-03-22T13:08:34.535342Z",
     "shell.execute_reply": "2021-03-22T13:08:34.535970Z"
    },
    "papermill": {
     "duration": 5.523606,
     "end_time": "2021-03-22T13:08:34.536157",
     "exception": false,
     "start_time": "2021-03-22T13:08:29.012551",
     "status": "completed"
    },
    "tags": []
   },
   "outputs": [],
   "source": [
    "#hide\n",
    "for i in range(len(dates)):\n",
    "    df1_cases = df_cases1.get_group(dates[i])\n",
    "    for j in range(len(df1_cases.index)):\n",
    "        if df1_cases.iloc[j,1] in arr_states:\n",
    "            dft_cases.loc[i,df1_cases.iloc[j,1]] = df1_cases.iloc[j,2]\n",
    "dft_cases = dft_cases.set_index('states')"
   ]
  },
  {
   "cell_type": "code",
   "execution_count": 8,
   "id": "binary-ratio",
   "metadata": {
    "execution": {
     "iopub.execute_input": "2021-03-22T13:08:34.589505Z",
     "iopub.status.busy": "2021-03-22T13:08:34.588632Z",
     "iopub.status.idle": "2021-03-22T13:08:34.591733Z",
     "shell.execute_reply": "2021-03-22T13:08:34.590929Z"
    },
    "papermill": {
     "duration": 0.030937,
     "end_time": "2021-03-22T13:08:34.591895",
     "exception": false,
     "start_time": "2021-03-22T13:08:34.560958",
     "status": "completed"
    },
    "tags": []
   },
   "outputs": [],
   "source": [
    "#hide\n",
    "dft_cases = dft_cases.T\n",
    "dft_deaths = dft_deaths.T\n",
    "dt_today = dates[-1]\n",
    "dt_yday = dates[-2]"
   ]
  },
  {
   "cell_type": "code",
   "execution_count": 9,
   "id": "boolean-calculator",
   "metadata": {
    "execution": {
     "iopub.execute_input": "2021-03-22T13:08:34.641123Z",
     "iopub.status.busy": "2021-03-22T13:08:34.639719Z",
     "iopub.status.idle": "2021-03-22T13:08:34.655741Z",
     "shell.execute_reply": "2021-03-22T13:08:34.655185Z"
    },
    "papermill": {
     "duration": 0.042703,
     "end_time": "2021-03-22T13:08:34.655900",
     "exception": false,
     "start_time": "2021-03-22T13:08:34.613197",
     "status": "completed"
    },
    "tags": []
   },
   "outputs": [],
   "source": [
    "#hide\n",
    "dft_cases = dft_cases.reset_index()\n",
    "dft_deaths = dft_deaths.reset_index()\n",
    "dft_cases = dft_cases.rename(columns = {'index':'state'})\n",
    "dft_deaths = dft_deaths.rename(columns = {'index':'state'})"
   ]
  },
  {
   "cell_type": "code",
   "execution_count": 10,
   "id": "invisible-johnston",
   "metadata": {
    "execution": {
     "iopub.execute_input": "2021-03-22T13:08:34.720195Z",
     "iopub.status.busy": "2021-03-22T13:08:34.719518Z",
     "iopub.status.idle": "2021-03-22T13:08:34.728974Z",
     "shell.execute_reply": "2021-03-22T13:08:34.729895Z"
    },
    "papermill": {
     "duration": 0.045424,
     "end_time": "2021-03-22T13:08:34.730068",
     "exception": false,
     "start_time": "2021-03-22T13:08:34.684644",
     "status": "completed"
    },
    "tags": []
   },
   "outputs": [],
   "source": [
    "#hide\n",
    "dfc_cases = dft_cases.groupby('state')[dt_today].sum()\n",
    "dfc_deaths = dft_deaths.groupby('state')[dt_today].sum()\n",
    "dfp_cases = dft_cases.groupby('state')[dt_yday].sum()\n",
    "dfp_deaths = dft_deaths.groupby('state')[dt_yday].sum()"
   ]
  },
  {
   "cell_type": "code",
   "execution_count": 11,
   "id": "measured-great",
   "metadata": {
    "execution": {
     "iopub.execute_input": "2021-03-22T13:08:34.798729Z",
     "iopub.status.busy": "2021-03-22T13:08:34.790506Z",
     "iopub.status.idle": "2021-03-22T13:08:34.806200Z",
     "shell.execute_reply": "2021-03-22T13:08:34.806777Z"
    },
    "papermill": {
     "duration": 0.049987,
     "end_time": "2021-03-22T13:08:34.806946",
     "exception": false,
     "start_time": "2021-03-22T13:08:34.756959",
     "status": "completed"
    },
    "tags": []
   },
   "outputs": [
    {
     "data": {
      "text/html": [
       "<div>\n",
       "<style scoped>\n",
       "    .dataframe tbody tr th:only-of-type {\n",
       "        vertical-align: middle;\n",
       "    }\n",
       "\n",
       "    .dataframe tbody tr th {\n",
       "        vertical-align: top;\n",
       "    }\n",
       "\n",
       "    .dataframe thead th {\n",
       "        text-align: right;\n",
       "    }\n",
       "</style>\n",
       "<table border=\"1\" class=\"dataframe\">\n",
       "  <thead>\n",
       "    <tr style=\"text-align: right;\">\n",
       "      <th></th>\n",
       "      <th>states</th>\n",
       "      <th>Cases</th>\n",
       "      <th>Deaths</th>\n",
       "      <th>PCases</th>\n",
       "      <th>PDeaths</th>\n",
       "    </tr>\n",
       "  </thead>\n",
       "  <tbody>\n",
       "    <tr>\n",
       "      <th>0</th>\n",
       "      <td>Maharashtra</td>\n",
       "      <td>2479682</td>\n",
       "      <td>53399</td>\n",
       "      <td>2479682</td>\n",
       "      <td>53399</td>\n",
       "    </tr>\n",
       "    <tr>\n",
       "      <th>1</th>\n",
       "      <td>Kerala</td>\n",
       "      <td>1104229</td>\n",
       "      <td>4496</td>\n",
       "      <td>1104229</td>\n",
       "      <td>4496</td>\n",
       "    </tr>\n",
       "    <tr>\n",
       "      <th>2</th>\n",
       "      <td>Karnataka</td>\n",
       "      <td>970202</td>\n",
       "      <td>12434</td>\n",
       "      <td>970202</td>\n",
       "      <td>12434</td>\n",
       "    </tr>\n",
       "    <tr>\n",
       "      <th>3</th>\n",
       "      <td>Andhra Pradesh</td>\n",
       "      <td>893734</td>\n",
       "      <td>7189</td>\n",
       "      <td>893734</td>\n",
       "      <td>7189</td>\n",
       "    </tr>\n",
       "    <tr>\n",
       "      <th>4</th>\n",
       "      <td>Tamil Nadu</td>\n",
       "      <td>866982</td>\n",
       "      <td>12599</td>\n",
       "      <td>866982</td>\n",
       "      <td>12599</td>\n",
       "    </tr>\n",
       "  </tbody>\n",
       "</table>\n",
       "</div>"
      ],
      "text/plain": [
       "           states    Cases  Deaths   PCases  PDeaths\n",
       "0     Maharashtra  2479682   53399  2479682    53399\n",
       "1          Kerala  1104229    4496  1104229     4496\n",
       "2       Karnataka   970202   12434   970202    12434\n",
       "3  Andhra Pradesh   893734    7189   893734     7189\n",
       "4      Tamil Nadu   866982   12599   866982    12599"
      ]
     },
     "execution_count": 11,
     "metadata": {},
     "output_type": "execute_result"
    }
   ],
   "source": [
    "#hide\n",
    "df_table = pd.DataFrame({'states': dfc_cases.index, 'Cases': dfc_cases.values, 'Deaths': dfc_deaths.values, 'PCases': dfp_cases.values, 'PDeaths': dfp_deaths.values}).set_index('states')\n",
    "df_table = df_table.sort_values(by = ['Cases','Deaths'], ascending = [False, False])\n",
    "df_table = df_table.reset_index()\n",
    "df_table.head()"
   ]
  },
  {
   "cell_type": "code",
   "execution_count": 12,
   "id": "found-montreal",
   "metadata": {
    "execution": {
     "iopub.execute_input": "2021-03-22T13:08:34.863281Z",
     "iopub.status.busy": "2021-03-22T13:08:34.855593Z",
     "iopub.status.idle": "2021-03-22T13:08:34.866675Z",
     "shell.execute_reply": "2021-03-22T13:08:34.865587Z"
    },
    "papermill": {
     "duration": 0.038672,
     "end_time": "2021-03-22T13:08:34.866829",
     "exception": false,
     "start_time": "2021-03-22T13:08:34.828157",
     "status": "completed"
    },
    "tags": []
   },
   "outputs": [],
   "source": [
    "#hide\n",
    "for c in 'Cases, Deaths'.split(', '):\n",
    "    df_table[f'{c} (+)'] = (df_table[c] - df_table[f'P{c}']).clip(0)\n",
    "df_table['Fatality Rate'] = (100* df_table['Deaths']/ df_table['Cases']).round(2)"
   ]
  },
  {
   "cell_type": "code",
   "execution_count": 13,
   "id": "minus-savage",
   "metadata": {
    "execution": {
     "iopub.execute_input": "2021-03-22T13:08:34.922194Z",
     "iopub.status.busy": "2021-03-22T13:08:34.921372Z",
     "iopub.status.idle": "2021-03-22T13:08:34.925458Z",
     "shell.execute_reply": "2021-03-22T13:08:34.924918Z"
    },
    "papermill": {
     "duration": 0.037661,
     "end_time": "2021-03-22T13:08:34.925617",
     "exception": false,
     "start_time": "2021-03-22T13:08:34.887956",
     "status": "completed"
    },
    "tags": []
   },
   "outputs": [
    {
     "data": {
      "text/html": [
       "<div>\n",
       "<style scoped>\n",
       "    .dataframe tbody tr th:only-of-type {\n",
       "        vertical-align: middle;\n",
       "    }\n",
       "\n",
       "    .dataframe tbody tr th {\n",
       "        vertical-align: top;\n",
       "    }\n",
       "\n",
       "    .dataframe thead th {\n",
       "        text-align: right;\n",
       "    }\n",
       "</style>\n",
       "<table border=\"1\" class=\"dataframe\">\n",
       "  <thead>\n",
       "    <tr style=\"text-align: right;\">\n",
       "      <th></th>\n",
       "      <th>states</th>\n",
       "      <th>Cases</th>\n",
       "      <th>Deaths</th>\n",
       "      <th>PCases</th>\n",
       "      <th>PDeaths</th>\n",
       "      <th>Cases (+)</th>\n",
       "      <th>Deaths (+)</th>\n",
       "      <th>Fatality Rate</th>\n",
       "    </tr>\n",
       "  </thead>\n",
       "  <tbody>\n",
       "    <tr>\n",
       "      <th>0</th>\n",
       "      <td>Maharashtra</td>\n",
       "      <td>2479682</td>\n",
       "      <td>53399</td>\n",
       "      <td>2479682</td>\n",
       "      <td>53399</td>\n",
       "      <td>0</td>\n",
       "      <td>0</td>\n",
       "      <td>2.15</td>\n",
       "    </tr>\n",
       "    <tr>\n",
       "      <th>1</th>\n",
       "      <td>Kerala</td>\n",
       "      <td>1104229</td>\n",
       "      <td>4496</td>\n",
       "      <td>1104229</td>\n",
       "      <td>4496</td>\n",
       "      <td>0</td>\n",
       "      <td>0</td>\n",
       "      <td>0.41</td>\n",
       "    </tr>\n",
       "    <tr>\n",
       "      <th>2</th>\n",
       "      <td>Karnataka</td>\n",
       "      <td>970202</td>\n",
       "      <td>12434</td>\n",
       "      <td>970202</td>\n",
       "      <td>12434</td>\n",
       "      <td>0</td>\n",
       "      <td>0</td>\n",
       "      <td>1.28</td>\n",
       "    </tr>\n",
       "    <tr>\n",
       "      <th>3</th>\n",
       "      <td>Andhra Pradesh</td>\n",
       "      <td>893734</td>\n",
       "      <td>7189</td>\n",
       "      <td>893734</td>\n",
       "      <td>7189</td>\n",
       "      <td>0</td>\n",
       "      <td>0</td>\n",
       "      <td>0.80</td>\n",
       "    </tr>\n",
       "    <tr>\n",
       "      <th>4</th>\n",
       "      <td>Tamil Nadu</td>\n",
       "      <td>866982</td>\n",
       "      <td>12599</td>\n",
       "      <td>866982</td>\n",
       "      <td>12599</td>\n",
       "      <td>0</td>\n",
       "      <td>0</td>\n",
       "      <td>1.45</td>\n",
       "    </tr>\n",
       "  </tbody>\n",
       "</table>\n",
       "</div>"
      ],
      "text/plain": [
       "           states    Cases  Deaths   PCases  PDeaths  Cases (+)  Deaths (+)  \\\n",
       "0     Maharashtra  2479682   53399  2479682    53399          0           0   \n",
       "1          Kerala  1104229    4496  1104229     4496          0           0   \n",
       "2       Karnataka   970202   12434   970202    12434          0           0   \n",
       "3  Andhra Pradesh   893734    7189   893734     7189          0           0   \n",
       "4      Tamil Nadu   866982   12599   866982    12599          0           0   \n",
       "\n",
       "   Fatality Rate  \n",
       "0           2.15  \n",
       "1           0.41  \n",
       "2           1.28  \n",
       "3           0.80  \n",
       "4           1.45  "
      ]
     },
     "execution_count": 13,
     "metadata": {},
     "output_type": "execute_result"
    }
   ],
   "source": [
    "#hide\n",
    "df_table.head()"
   ]
  },
  {
   "cell_type": "code",
   "execution_count": 14,
   "id": "false-peter",
   "metadata": {
    "execution": {
     "iopub.execute_input": "2021-03-22T13:08:34.977436Z",
     "iopub.status.busy": "2021-03-22T13:08:34.976739Z",
     "iopub.status.idle": "2021-03-22T13:08:34.997072Z",
     "shell.execute_reply": "2021-03-22T13:08:34.996493Z"
    },
    "papermill": {
     "duration": 0.049402,
     "end_time": "2021-03-22T13:08:34.997228",
     "exception": false,
     "start_time": "2021-03-22T13:08:34.947826",
     "status": "completed"
    },
    "tags": []
   },
   "outputs": [
    {
     "data": {
      "text/plain": [
       "{'updated': '2021-03-22',\n",
       " 'since': '2021-03-21',\n",
       " 'Cases': 11646473,\n",
       " 'PCases': 11645719,\n",
       " 'Deaths': 160006,\n",
       " 'PDeaths': 160003,\n",
       " 'Cases (+)': 754,\n",
       " 'Deaths (+)': 3}"
      ]
     },
     "execution_count": 14,
     "metadata": {},
     "output_type": "execute_result"
    }
   ],
   "source": [
    "#hide\n",
    "summary = {'updated':dates[-1], 'since':dates[-2]}\n",
    "list_names = ['Cases', 'PCases', 'Deaths', 'PDeaths', 'Cases (+)', 'Deaths (+)']\n",
    "for name in list_names:\n",
    "    summary[name] = df_table.sum()[name]\n",
    "summary"
   ]
  },
  {
   "cell_type": "code",
   "execution_count": 15,
   "id": "packed-viewer",
   "metadata": {
    "execution": {
     "iopub.execute_input": "2021-03-22T13:08:35.047269Z",
     "iopub.status.busy": "2021-03-22T13:08:35.046459Z",
     "iopub.status.idle": "2021-03-22T13:08:35.050794Z",
     "shell.execute_reply": "2021-03-22T13:08:35.050307Z"
    },
    "papermill": {
     "duration": 0.031089,
     "end_time": "2021-03-22T13:08:35.050919",
     "exception": false,
     "start_time": "2021-03-22T13:08:35.019830",
     "status": "completed"
    },
    "tags": []
   },
   "outputs": [],
   "source": [
    "#hide\n",
    "overview = '''\n",
    "<!-- #######  HTML!! #########-->\n",
    "<h1 style=\"color: #5e9ca0; text-align: center;\">India</h1>\n",
    "<p style=\"text-align: center;\">Last update: <strong>{update}</strong></p>\n",
    "<p style=\"text-align: center;\">Confirmed cases:</p>\n",
    "<p style=\"text-align: center;font-size:24px;\">{cases} (<span style=\"color: #ff0000;\">+{new}</span>)</p>\n",
    "<p style=\"text-align: center;\">Confirmed deaths:</p>\n",
    "<p style=\"text-align: center;font-size:24px;\">{deaths} (<span style=\"color: #ff0000;\">+{dnew}</span>)</p>\n",
    "'''"
   ]
  },
  {
   "cell_type": "code",
   "execution_count": 16,
   "id": "phantom-lover",
   "metadata": {
    "execution": {
     "iopub.execute_input": "2021-03-22T13:08:35.098657Z",
     "iopub.status.busy": "2021-03-22T13:08:35.098096Z",
     "iopub.status.idle": "2021-03-22T13:08:35.104234Z",
     "shell.execute_reply": "2021-03-22T13:08:35.105074Z"
    },
    "papermill": {
     "duration": 0.033244,
     "end_time": "2021-03-22T13:08:35.105218",
     "exception": false,
     "start_time": "2021-03-22T13:08:35.071974",
     "status": "completed"
    },
    "tags": []
   },
   "outputs": [
    {
     "data": {
      "text/html": [
       "\n",
       "<!-- #######  HTML!! #########-->\n",
       "<h1 style=\"color: #5e9ca0; text-align: center;\">India</h1>\n",
       "<p style=\"text-align: center;\">Last update: <strong>2021-03-22</strong></p>\n",
       "<p style=\"text-align: center;\">Confirmed cases:</p>\n",
       "<p style=\"text-align: center;font-size:24px;\">11646473 (<span style=\"color: #ff0000;\">+754</span>)</p>\n",
       "<p style=\"text-align: center;\">Confirmed deaths:</p>\n",
       "<p style=\"text-align: center;font-size:24px;\">160006 (<span style=\"color: #ff0000;\">+3</span>)</p>\n"
      ],
      "text/plain": [
       "<IPython.core.display.HTML object>"
      ]
     },
     "metadata": {},
     "output_type": "display_data"
    }
   ],
   "source": [
    "#hide_input\n",
    "update = summary['updated']\n",
    "cases = summary['Cases']\n",
    "new = summary['Cases (+)']\n",
    "deaths = summary['Deaths']\n",
    "dnew = summary['Deaths (+)']\n",
    "\n",
    "html = HTML(overview.format(update=update, cases=cases,new=new,deaths=deaths,dnew=dnew))\n",
    "\n",
    "display(html)"
   ]
  },
  {
   "cell_type": "code",
   "execution_count": 17,
   "id": "sealed-reset",
   "metadata": {
    "execution": {
     "iopub.execute_input": "2021-03-22T13:08:35.160933Z",
     "iopub.status.busy": "2021-03-22T13:08:35.160266Z",
     "iopub.status.idle": "2021-03-22T13:08:35.168017Z",
     "shell.execute_reply": "2021-03-22T13:08:35.168514Z"
    },
    "papermill": {
     "duration": 0.040036,
     "end_time": "2021-03-22T13:08:35.168667",
     "exception": false,
     "start_time": "2021-03-22T13:08:35.128631",
     "status": "completed"
    },
    "tags": []
   },
   "outputs": [],
   "source": [
    "#hide\n",
    "dt_cols = list(dft_cases.columns[1:])\n",
    "dft_ct_new_cases = dft_cases.groupby('state')[dt_cols].sum().diff(axis=1).fillna(0).astype(int)\n",
    "dft_ct_new_cases.sort_values(by = dates[-1], ascending = False,inplace = True)"
   ]
  },
  {
   "cell_type": "code",
   "execution_count": 18,
   "id": "designed-constant",
   "metadata": {
    "execution": {
     "iopub.execute_input": "2021-03-22T13:08:35.236390Z",
     "iopub.status.busy": "2021-03-22T13:08:35.235552Z",
     "iopub.status.idle": "2021-03-22T13:08:35.239042Z",
     "shell.execute_reply": "2021-03-22T13:08:35.238369Z"
    },
    "papermill": {
     "duration": 0.047252,
     "end_time": "2021-03-22T13:08:35.239181",
     "exception": false,
     "start_time": "2021-03-22T13:08:35.191929",
     "status": "completed"
    },
    "tags": []
   },
   "outputs": [
    {
     "data": {
      "text/html": [
       "<div>\n",
       "<style scoped>\n",
       "    .dataframe tbody tr th:only-of-type {\n",
       "        vertical-align: middle;\n",
       "    }\n",
       "\n",
       "    .dataframe tbody tr th {\n",
       "        vertical-align: top;\n",
       "    }\n",
       "\n",
       "    .dataframe thead th {\n",
       "        text-align: right;\n",
       "    }\n",
       "</style>\n",
       "<table border=\"1\" class=\"dataframe\">\n",
       "  <thead>\n",
       "    <tr style=\"text-align: right;\">\n",
       "      <th>states</th>\n",
       "      <th>2020-07-01</th>\n",
       "      <th>2020-07-02</th>\n",
       "      <th>2020-07-03</th>\n",
       "      <th>2020-07-04</th>\n",
       "      <th>2020-07-05</th>\n",
       "      <th>2020-07-06</th>\n",
       "      <th>2020-07-07</th>\n",
       "      <th>2020-07-08</th>\n",
       "      <th>2020-07-09</th>\n",
       "      <th>2020-07-10</th>\n",
       "      <th>...</th>\n",
       "      <th>2021-03-13</th>\n",
       "      <th>2021-03-14</th>\n",
       "      <th>2021-03-15</th>\n",
       "      <th>2021-03-16</th>\n",
       "      <th>2021-03-17</th>\n",
       "      <th>2021-03-18</th>\n",
       "      <th>2021-03-19</th>\n",
       "      <th>2021-03-20</th>\n",
       "      <th>2021-03-21</th>\n",
       "      <th>2021-03-22</th>\n",
       "    </tr>\n",
       "    <tr>\n",
       "      <th>state</th>\n",
       "      <th></th>\n",
       "      <th></th>\n",
       "      <th></th>\n",
       "      <th></th>\n",
       "      <th></th>\n",
       "      <th></th>\n",
       "      <th></th>\n",
       "      <th></th>\n",
       "      <th></th>\n",
       "      <th></th>\n",
       "      <th></th>\n",
       "      <th></th>\n",
       "      <th></th>\n",
       "      <th></th>\n",
       "      <th></th>\n",
       "      <th></th>\n",
       "      <th></th>\n",
       "      <th></th>\n",
       "      <th></th>\n",
       "      <th></th>\n",
       "      <th></th>\n",
       "    </tr>\n",
       "  </thead>\n",
       "  <tbody>\n",
       "    <tr>\n",
       "      <th>Telangana</th>\n",
       "      <td>0</td>\n",
       "      <td>1213</td>\n",
       "      <td>1892</td>\n",
       "      <td>1850</td>\n",
       "      <td>1590</td>\n",
       "      <td>1831</td>\n",
       "      <td>1879</td>\n",
       "      <td>1924</td>\n",
       "      <td>1410</td>\n",
       "      <td>1278</td>\n",
       "      <td>...</td>\n",
       "      <td>216</td>\n",
       "      <td>228</td>\n",
       "      <td>157</td>\n",
       "      <td>204</td>\n",
       "      <td>247</td>\n",
       "      <td>278</td>\n",
       "      <td>313</td>\n",
       "      <td>364</td>\n",
       "      <td>394</td>\n",
       "      <td>337</td>\n",
       "    </tr>\n",
       "    <tr>\n",
       "      <th>Odisha</th>\n",
       "      <td>0</td>\n",
       "      <td>229</td>\n",
       "      <td>561</td>\n",
       "      <td>495</td>\n",
       "      <td>469</td>\n",
       "      <td>456</td>\n",
       "      <td>571</td>\n",
       "      <td>527</td>\n",
       "      <td>577</td>\n",
       "      <td>755</td>\n",
       "      <td>...</td>\n",
       "      <td>65</td>\n",
       "      <td>71</td>\n",
       "      <td>66</td>\n",
       "      <td>65</td>\n",
       "      <td>82</td>\n",
       "      <td>84</td>\n",
       "      <td>110</td>\n",
       "      <td>120</td>\n",
       "      <td>98</td>\n",
       "      <td>146</td>\n",
       "    </tr>\n",
       "    <tr>\n",
       "      <th>Jammu and Kashmir</th>\n",
       "      <td>0</td>\n",
       "      <td>154</td>\n",
       "      <td>170</td>\n",
       "      <td>227</td>\n",
       "      <td>183</td>\n",
       "      <td>246</td>\n",
       "      <td>256</td>\n",
       "      <td>330</td>\n",
       "      <td>240</td>\n",
       "      <td>387</td>\n",
       "      <td>...</td>\n",
       "      <td>99</td>\n",
       "      <td>105</td>\n",
       "      <td>94</td>\n",
       "      <td>97</td>\n",
       "      <td>126</td>\n",
       "      <td>140</td>\n",
       "      <td>152</td>\n",
       "      <td>140</td>\n",
       "      <td>158</td>\n",
       "      <td>132</td>\n",
       "    </tr>\n",
       "    <tr>\n",
       "      <th>Goa</th>\n",
       "      <td>0</td>\n",
       "      <td>95</td>\n",
       "      <td>94</td>\n",
       "      <td>108</td>\n",
       "      <td>77</td>\n",
       "      <td>52</td>\n",
       "      <td>90</td>\n",
       "      <td>136</td>\n",
       "      <td>112</td>\n",
       "      <td>100</td>\n",
       "      <td>...</td>\n",
       "      <td>93</td>\n",
       "      <td>66</td>\n",
       "      <td>89</td>\n",
       "      <td>94</td>\n",
       "      <td>73</td>\n",
       "      <td>98</td>\n",
       "      <td>100</td>\n",
       "      <td>154</td>\n",
       "      <td>98</td>\n",
       "      <td>85</td>\n",
       "    </tr>\n",
       "    <tr>\n",
       "      <th>Puducherry</th>\n",
       "      <td>0</td>\n",
       "      <td>63</td>\n",
       "      <td>22</td>\n",
       "      <td>80</td>\n",
       "      <td>42</td>\n",
       "      <td>65</td>\n",
       "      <td>30</td>\n",
       "      <td>110</td>\n",
       "      <td>49</td>\n",
       "      <td>72</td>\n",
       "      <td>...</td>\n",
       "      <td>31</td>\n",
       "      <td>15</td>\n",
       "      <td>14</td>\n",
       "      <td>24</td>\n",
       "      <td>52</td>\n",
       "      <td>81</td>\n",
       "      <td>61</td>\n",
       "      <td>60</td>\n",
       "      <td>64</td>\n",
       "      <td>47</td>\n",
       "    </tr>\n",
       "  </tbody>\n",
       "</table>\n",
       "<p>5 rows × 265 columns</p>\n",
       "</div>"
      ],
      "text/plain": [
       "states             2020-07-01  2020-07-02  2020-07-03  2020-07-04  2020-07-05  \\\n",
       "state                                                                           \n",
       "Telangana                   0        1213        1892        1850        1590   \n",
       "Odisha                      0         229         561         495         469   \n",
       "Jammu and Kashmir           0         154         170         227         183   \n",
       "Goa                         0          95          94         108          77   \n",
       "Puducherry                  0          63          22          80          42   \n",
       "\n",
       "states             2020-07-06  2020-07-07  2020-07-08  2020-07-09  2020-07-10  \\\n",
       "state                                                                           \n",
       "Telangana                1831        1879        1924        1410        1278   \n",
       "Odisha                    456         571         527         577         755   \n",
       "Jammu and Kashmir         246         256         330         240         387   \n",
       "Goa                        52          90         136         112         100   \n",
       "Puducherry                 65          30         110          49          72   \n",
       "\n",
       "states             ...  2021-03-13  2021-03-14  2021-03-15  2021-03-16  \\\n",
       "state              ...                                                   \n",
       "Telangana          ...         216         228         157         204   \n",
       "Odisha             ...          65          71          66          65   \n",
       "Jammu and Kashmir  ...          99         105          94          97   \n",
       "Goa                ...          93          66          89          94   \n",
       "Puducherry         ...          31          15          14          24   \n",
       "\n",
       "states             2021-03-17  2021-03-18  2021-03-19  2021-03-20  2021-03-21  \\\n",
       "state                                                                           \n",
       "Telangana                 247         278         313         364         394   \n",
       "Odisha                     82          84         110         120          98   \n",
       "Jammu and Kashmir         126         140         152         140         158   \n",
       "Goa                        73          98         100         154          98   \n",
       "Puducherry                 52          81          61          60          64   \n",
       "\n",
       "states             2021-03-22  \n",
       "state                          \n",
       "Telangana                 337  \n",
       "Odisha                    146  \n",
       "Jammu and Kashmir         132  \n",
       "Goa                        85  \n",
       "Puducherry                 47  \n",
       "\n",
       "[5 rows x 265 columns]"
      ]
     },
     "execution_count": 18,
     "metadata": {},
     "output_type": "execute_result"
    }
   ],
   "source": [
    "#hide\n",
    "dft_ct_new_cases.head()"
   ]
  },
  {
   "cell_type": "code",
   "execution_count": 19,
   "id": "responsible-nightlife",
   "metadata": {
    "execution": {
     "iopub.execute_input": "2021-03-22T13:08:35.295955Z",
     "iopub.status.busy": "2021-03-22T13:08:35.295263Z",
     "iopub.status.idle": "2021-03-22T13:08:48.436470Z",
     "shell.execute_reply": "2021-03-22T13:08:48.435830Z"
    },
    "papermill": {
     "duration": 13.173682,
     "end_time": "2021-03-22T13:08:48.436611",
     "exception": false,
     "start_time": "2021-03-22T13:08:35.262929",
     "status": "completed"
    },
    "tags": []
   },
   "outputs": [
    {
     "data": {
      "image/png": "[encoded data removed]",
      "text/plain": [
       "<Figure size 1296x2016 with 11 Axes>"
      ]
     },
     "metadata": {
      "needs_background": "light"
     },
     "output_type": "display_data"
    }
   ],
   "source": [
    "#hide_input\n",
    "df = dft_ct_new_cases.copy()\n",
    "df.loc['Total'] = df.sum()\n",
    "n = 5\n",
    "ax = []\n",
    "fig = plt.figure(figsize = (18,28))\n",
    "gs = fig.add_gridspec(n+2, 5)\n",
    "# gs = fig.add_gridspec(2, 3)\n",
    "ax1 = fig.add_subplot(gs[0, :])\n",
    "ef = df.loc['Total'].rename_axis('date').reset_index()\n",
    "ef['date'] = ef['date'].astype('datetime64[ns]')\n",
    "ax1.bar(ef.date,ef.Total,alpha=0.3,color='#007acc')\n",
    "ax1.plot(ef.date,ef.Total , marker=\"o\", color='#007acc')\n",
    "ax1.xaxis.set_major_locator(mdates.WeekdayLocator())\n",
    "ax1.xaxis.set_major_formatter(mdates.DateFormatter('%b %d'))\n",
    "ax1.text(0.02, 0.5,'India daily case count', transform = ax1.transAxes, fontsize=25);\n",
    "ax1.spines['right'].set_visible(False)\n",
    "ax1.spines['top'].set_visible(False)\n",
    "\n",
    "ax2 = fig.add_subplot(gs[1,0])\n",
    "ef = df.loc['Maharashtra'].rename_axis('date').reset_index()\n",
    "ef['date'] = ef['date'].astype('datetime64[ns]')\n",
    "\n",
    "ax2.bar(ef.date, ef.Maharashtra,color = '#007acc',alpha=0.5)\n",
    "ax2.xaxis.set_major_locator(mdates.WeekdayLocator())\n",
    "ax2.xaxis.set_major_formatter(mdates.DateFormatter('%b %d'))\n",
    "ax2.set_xticks(ax2.get_xticks()[::3])\n",
    "maxyval = ef.Maharashtra.max()\n",
    "ax2.set_ylim([0,maxyval])\n",
    "ax2.text(0.05, 0.9,'Maharashtra', transform = ax2.transAxes, fontsize=20);\n",
    "ax2.spines['right'].set_visible(False)\n",
    "ax2.spines['top'].set_visible(False)\n",
    "\n",
    "\n",
    "ax3 = fig.add_subplot(gs[1,1])\n",
    "ef = df.loc['Tamil Nadu'].rename_axis('date').reset_index()\n",
    "ef['date'] = ef['date'].astype('datetime64[ns]')\n",
    "ax3.bar(ef.date, ef['Tamil Nadu'],color = '#007acc',alpha=0.5,)\n",
    "ax3.xaxis.set_major_locator(mdates.WeekdayLocator())\n",
    "ax3.xaxis.set_major_formatter(mdates.DateFormatter('%b %d'))\n",
    "ax3.set_xticks(ax3.get_xticks()[::3])\n",
    "ax3.text(0.05, 0.9,'Tamil Nadu', transform = ax3.transAxes, fontsize=20);\n",
    "ax3.spines['right'].set_visible(False)\n",
    "ax3.spines['top'].set_visible(False)\n",
    "\n",
    "ax5 = fig.add_subplot(gs[1,3])\n",
    "ef = df.loc['Telangana'].rename_axis('date').reset_index()\n",
    "ef['date'] = ef['date'].astype('datetime64[ns]')\n",
    "ax5.bar(ef.date, ef['Telangana'],color = '#007acc',alpha=0.5,)\n",
    "ax5.xaxis.set_major_locator(mdates.WeekdayLocator())\n",
    "ax5.xaxis.set_major_formatter(mdates.DateFormatter('%b %d'))\n",
    "ax5.set_xticks(ax5.get_xticks()[::3])\n",
    "ax5.text(0.05, 0.9,'Telangana', transform = ax5.transAxes, fontsize=20);\n",
    "ax5.spines['right'].set_visible(False)\n",
    "ax5.spines['top'].set_visible(False)\n",
    "\n",
    "ax6 = fig.add_subplot(gs[1,4])\n",
    "ef = df.loc['Andhra Pradesh'].rename_axis('date').reset_index()\n",
    "ef['date'] = ef['date'].astype('datetime64[ns]')\n",
    "ax6.bar(ef.date, ef['Andhra Pradesh'],color = '#007acc',alpha=0.5,)\n",
    "ax6.xaxis.set_major_locator(mdates.WeekdayLocator())\n",
    "ax6.xaxis.set_major_formatter(mdates.DateFormatter('%b %d'))\n",
    "ax6.set_xticks(ax6.get_xticks()[::3])\n",
    "ax6.text(0.05, 1,'Andhra Pradesh', transform = ax6.transAxes, fontsize=20);\n",
    "ax6.spines['right'].set_visible(False)\n",
    "ax6.spines['top'].set_visible(False)\n",
    "\n",
    "ax4 = fig.add_subplot(gs[1,2])\n",
    "ef = df.loc['Delhi'].rename_axis('date').reset_index()\n",
    "ef['date'] = ef['date'].astype('datetime64[ns]')\n",
    "ax4.bar(ef.date, ef.Delhi,color = '#007acc',alpha=0.5)\n",
    "ax4.set_xticks([])\n",
    "ax4.xaxis.set_major_locator(mdates.WeekdayLocator())\n",
    "ax4.xaxis.set_major_formatter(mdates.DateFormatter('%b %d'))\n",
    "ax4.set_xticks(ax4.get_xticks()[::3])\n",
    "ax4.spines['right'].set_visible(False)\n",
    "ax4.spines['top'].set_visible(False)\n",
    "\n",
    "ax4.text(0.05, 1,'Delhi', transform = ax4.transAxes, fontsize=20)\n",
    "\n",
    "for i in range(n):\n",
    "    \n",
    "    ax.append(fig.add_subplot(gs[i+2,:]))\n",
    "    ef = df.iloc[i+3].rename_axis('date').reset_index()\n",
    "    ef['date'] = ef['date'].astype('datetime64[ns]')\n",
    "    ax[i].bar(ef.date,ef.iloc[:,-1],color = '#007acc',alpha=0.3)\n",
    "    ax[i].plot(ef.date,ef.iloc[:,-1],marker='o',color='#007acc')\n",
    "    ax[i].text(0.02,0.5,f'{ef.columns.values[-1]}',transform = ax[i].transAxes, fontsize = 20);\n",
    "    ax[i].xaxis.set_major_locator(mdates.WeekdayLocator())\n",
    "    ax[i].xaxis.set_major_formatter(mdates.DateFormatter('%b %d'))\n",
    "    ax[i].set_ylim([0,7000])\n",
    "    ax[i].spines['right'].set_visible(False)\n",
    "    ax[i].spines['top'].set_visible(False)\n",
    "plt.tight_layout()\n"
   ]
  },
  {
   "cell_type": "code",
   "execution_count": 20,
   "id": "dress-forge",
   "metadata": {
    "execution": {
     "iopub.execute_input": "2021-03-22T13:08:48.505830Z",
     "iopub.status.busy": "2021-03-22T13:08:48.505151Z",
     "iopub.status.idle": "2021-03-22T13:08:48.507906Z",
     "shell.execute_reply": "2021-03-22T13:08:48.508435Z"
    },
    "papermill": {
     "duration": 0.043426,
     "end_time": "2021-03-22T13:08:48.508592",
     "exception": false,
     "start_time": "2021-03-22T13:08:48.465166",
     "status": "completed"
    },
    "tags": []
   },
   "outputs": [
    {
     "name": "stdout",
     "output_type": "stream",
     "text": [
      "                                   states    Cases  Deaths   PCases  PDeaths  Cases (+)  Deaths (+)  Fatality Rate\n",
      "                              Maharashtra  2479682   53399  2479682    53399          0           0           2.15\n",
      "                                   Kerala  1104229    4496  1104229     4496          0           0           0.41\n",
      "                                Karnataka   970202   12434   970202    12434          0           0           1.28\n",
      "                           Andhra Pradesh   893734    7189   893734     7189          0           0           0.80\n",
      "                               Tamil Nadu   866982   12599   866982    12599          0           0           1.45\n",
      "                                    Delhi   647984   10956   647984    10956          0           0           1.69\n",
      "                            Uttar Pradesh   607538    8759   607538     8759          0           0           1.44\n",
      "                              West Bengal   580631   10306   580631    10306          0           0           1.77\n",
      "                                   Odisha   338963    1972   338817     1972        146           0           0.58\n",
      "                                Rajasthan   325424    2798   325424     2798          0           0           0.86\n",
      "                             Chhattisgarh   324153    3950   324153     3950          0           0           1.22\n",
      "                                Telangana   303455    1671   303118     1669        337           2           0.55\n",
      "                                  Gujarat   287009    4450   287009     4450          0           0           1.55\n",
      "                                  Haryana   279828    3098   279828     3098          0           0           1.11\n",
      "                           Madhya Pradesh   275727    3906   275727     3906          0           0           1.42\n",
      "                                    Bihar   263569    1559   263569     1559          0           0           0.59\n",
      "                                    Assam   217976    1100   217976     1100          0           0           0.50\n",
      "                                   Punjab   213110    6324   213110     6324          0           0           2.97\n",
      "                        Jammu and Kashmir   128679    1981   128547     1981        132           0           1.54\n",
      "                                Jharkhand   121261    1096   121261     1096          0           0           0.90\n",
      "                              Uttarakhand    98448    1704    98448     1704          0           0           1.73\n",
      "                         Himachal Pradesh    60678    1005    60678     1005          0           0           1.66\n",
      "                                      Goa    56708     818    56623      818         85           0           1.44\n",
      "                               Puducherry    40433     676    40386      675         47           1           1.67\n",
      "                                  Tripura    33461     388    33461      388          0           0           1.16\n",
      "                                  Manipur    29335     373    29335      373          0           0           1.27\n",
      "                               Chandigarh    24459     362    24459      362          0           0           1.48\n",
      "                        Arunachal Pradesh    16842      56    16842       56          0           0           0.33\n",
      "                                Meghalaya    14016     149    14012      149          4           0           1.06\n",
      "                                 Nagaland    12225      91    12225       91          0           0           0.74\n",
      "                                   Ladakh     9908     130     9908      130          0           0           1.31\n",
      "                                   Sikkim     6206     135     6206      135          0           0           2.18\n",
      "              Andaman and Nicobar Islands     5039      62     5039       62          0           0           1.23\n",
      "                                  Mizoram     4448      11     4447       11          1           0           0.25\n",
      " Dadra and Nagar Haveli and Daman and Diu     3465       2     3463        2          2           0           0.06\n",
      "                              Lakshadweep      666       1      666        1          0           0           0.15\n"
     ]
    }
   ],
   "source": [
    "#hide_input\n",
    "print(df_table.to_string(index=False))"
   ]
  },
  {
   "cell_type": "code",
   "execution_count": null,
   "id": "quantitative-legend",
   "metadata": {
    "papermill": {
     "duration": 0.031784,
     "end_time": "2021-03-22T13:08:48.571460",
     "exception": false,
     "start_time": "2021-03-22T13:08:48.539676",
     "status": "completed"
    },
    "tags": []
   },
   "outputs": [],
   "source": []
  },
  {
   "cell_type": "code",
   "execution_count": null,
   "id": "distant-acoustic",
   "metadata": {
    "papermill": {
     "duration": 0.030797,
     "end_time": "2021-03-22T13:08:48.632645",
     "exception": false,
     "start_time": "2021-03-22T13:08:48.601848",
     "status": "completed"
    },
    "tags": []
   },
   "outputs": [],
   "source": []
  }
 ],
 "metadata": {
  "kernelspec": {
   "display_name": "Python 3",
   "language": "python",
   "name": "python3"
  },
  "language_info": {
   "codemirror_mode": {
    "name": "ipython",
    "version": 3
   },
   "file_extension": ".py",
   "mimetype": "text/x-python",
   "name": "python",
   "nbconvert_exporter": "python",
   "pygments_lexer": "ipython3",
   "version": "3.6.13"
  },
  "papermill": {
   "duration": 29.385976,
   "end_time": "2021-03-22T13:08:50.233749",
   "environment_variables": {},
   "exception": null,
   "input_path": "latest.ipynb",
   "output_path": "latest.ipynb",
   "parameters": {},
   "start_time": "2021-03-22T13:08:20.847773",
   "version": "2.1.2"
  }
 },
 "nbformat": 4,
 "nbformat_minor": 5
}