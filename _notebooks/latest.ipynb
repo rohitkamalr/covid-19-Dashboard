{
 "cells": [
  {
   "cell_type": "markdown",
   "metadata": {
    "papermill": {
     "duration": 0.021433,
     "end_time": "2020-10-25T05:40:49.780057",
     "exception": false,
     "start_time": "2020-10-25T05:40:49.758624",
     "status": "completed"
    },
    "tags": []
   },
   "source": [
    "# Latest COVID-19 India Matplotlib Overview"
   ]
  },
  {
   "cell_type": "code",
   "execution_count": 1,
   "metadata": {
    "execution": {
     "iopub.execute_input": "2020-10-25T05:40:49.816335Z",
     "iopub.status.busy": "2020-10-25T05:40:49.815726Z",
     "iopub.status.idle": "2020-10-25T05:40:50.392953Z",
     "shell.execute_reply": "2020-10-25T05:40:50.392410Z"
    },
    "papermill": {
     "duration": 0.597922,
     "end_time": "2020-10-25T05:40:50.393105",
     "exception": false,
     "start_time": "2020-10-25T05:40:49.795183",
     "status": "completed"
    },
    "tags": []
   },
   "outputs": [],
   "source": [
    "#hide\n",
    "import pandas as pd\n",
    "import numpy as np\n",
    "import requests\n",
    "import json\n",
    "import matplotlib.pyplot as plt\n",
    "import matplotlib.dates as mdates\n",
    "import matplotlib as mpl\n",
    "from IPython.core.display import display,HTML\n",
    "%matplotlib inline\n",
    "from datetime import date"
   ]
  },
  {
   "cell_type": "code",
   "execution_count": 2,
   "metadata": {
    "execution": {
     "iopub.execute_input": "2020-10-25T05:40:50.435114Z",
     "iopub.status.busy": "2020-10-25T05:40:50.434547Z",
     "iopub.status.idle": "2020-10-25T05:40:50.901506Z",
     "shell.execute_reply": "2020-10-25T05:40:50.900953Z"
    },
    "papermill": {
     "duration": 0.489113,
     "end_time": "2020-10-25T05:40:50.901646",
     "exception": false,
     "start_time": "2020-10-25T05:40:50.412533",
     "status": "completed"
    },
    "tags": []
   },
   "outputs": [],
   "source": [
    "#hide\n",
    "df  = pd.read_csv('https://api.covid19india.org/csv/latest/states.csv')\n",
    "df = df[['Date','State','Confirmed','Deceased']]\n",
    "df = df.rename(columns={'Confirmed':'Cases', \"Deceased\":'Deaths'})\n",
    "df_cases = df[[\"Date\",'State','Cases']]\n",
    "df_deaths = df[['Date','State','Deaths']]\n",
    "df_cases1 = df_cases.groupby('Date')\n",
    "df_deaths1= df_deaths.groupby('Date')"
   ]
  },
  {
   "cell_type": "code",
   "execution_count": 3,
   "metadata": {
    "execution": {
     "iopub.execute_input": "2020-10-25T05:40:50.934492Z",
     "iopub.status.busy": "2020-10-25T05:40:50.933951Z",
     "iopub.status.idle": "2020-10-25T05:40:50.950441Z",
     "shell.execute_reply": "2020-10-25T05:40:50.949998Z"
    },
    "papermill": {
     "duration": 0.034921,
     "end_time": "2020-10-25T05:40:50.950559",
     "exception": false,
     "start_time": "2020-10-25T05:40:50.915638",
     "status": "completed"
    },
    "tags": []
   },
   "outputs": [],
   "source": [
    "#hide\n",
    "df_snap = pd.read_csv('data/SnapshotCases-28-July.csv')\n",
    "arr_states = df_snap['states'].unique()\n",
    "arr_dates = df['Date'].unique()\n",
    "df_snap = df_snap.set_index('states')"
   ]
  },
  {
   "cell_type": "code",
   "execution_count": 4,
   "metadata": {
    "execution": {
     "iopub.execute_input": "2020-10-25T05:40:50.985327Z",
     "iopub.status.busy": "2020-10-25T05:40:50.984772Z",
     "iopub.status.idle": "2020-10-25T05:40:50.988527Z",
     "shell.execute_reply": "2020-10-25T05:40:50.988023Z"
    },
    "papermill": {
     "duration": 0.024101,
     "end_time": "2020-10-25T05:40:50.988647",
     "exception": false,
     "start_time": "2020-10-25T05:40:50.964546",
     "status": "completed"
    },
    "tags": []
   },
   "outputs": [
    {
     "data": {
      "text/plain": [
       "array(['Andaman and Nicobar Islands', 'Andhra Pradesh',\n",
       "       'Arunachal Pradesh', 'Assam', 'Bihar', 'Chandigarh',\n",
       "       'Dadra and Nagar Haveli and Daman and Diu', 'Delhi', 'Goa',\n",
       "       'Gujarat', 'Haryana', 'Himachal Pradesh', 'Jammu and Kashmir',\n",
       "       'Jharkhand', 'Karnataka', 'Kerala', 'Lakshadweep',\n",
       "       'Madhya Pradesh', 'Maharashtra', 'Manipur', 'Meghalaya', 'Mizoram',\n",
       "       'Nagaland', 'Odisha', 'Puducherry', 'Punjab', 'Rajasthan',\n",
       "       'Sikkim', 'Tamil Nadu', 'Telangana', 'Tripura', 'Uttar Pradesh',\n",
       "       'West Bengal', 'Chhattisgarh', 'Ladakh', 'Uttarakhand'],\n",
       "      dtype=object)"
      ]
     },
     "execution_count": 4,
     "metadata": {},
     "output_type": "execute_result"
    }
   ],
   "source": [
    "#hide\n",
    "arr_states[-9] = 'Puducherry'\n",
    "arr_states[-10] = 'Odisha'\n",
    "arr_states[6] = 'Dadra and Nagar Haveli and Daman and Diu'\n",
    "arr_states = np.append(arr_states,np.array(['Chhattisgarh','Ladakh','Uttarakhand']))\n",
    "arr_states"
   ]
  },
  {
   "cell_type": "code",
   "execution_count": 5,
   "metadata": {
    "execution": {
     "iopub.execute_input": "2020-10-25T05:40:51.029468Z",
     "iopub.status.busy": "2020-10-25T05:40:51.028644Z",
     "iopub.status.idle": "2020-10-25T05:40:51.038618Z",
     "shell.execute_reply": "2020-10-25T05:40:51.038115Z"
    },
    "papermill": {
     "duration": 0.035759,
     "end_time": "2020-10-25T05:40:51.038741",
     "exception": false,
     "start_time": "2020-10-25T05:40:51.002982",
     "status": "completed"
    },
    "tags": []
   },
   "outputs": [],
   "source": [
    "#hide\n",
    "dates = []\n",
    "for i in arr_dates:\n",
    "    if i>='2020-07-01':\n",
    "        dates.append(i)\n",
    "dict = {'states':dates}\n",
    "for i in arr_states:\n",
    "    dict[i] = [0]*len(dates)\n",
    "dft_cases = pd.DataFrame(dict)\n",
    "dft_deaths = pd.DataFrame(dict)\n"
   ]
  },
  {
   "cell_type": "code",
   "execution_count": 6,
   "metadata": {
    "execution": {
     "iopub.execute_input": "2020-10-25T05:40:51.077831Z",
     "iopub.status.busy": "2020-10-25T05:40:51.077229Z",
     "iopub.status.idle": "2020-10-25T05:40:52.599341Z",
     "shell.execute_reply": "2020-10-25T05:40:52.598193Z"
    },
    "papermill": {
     "duration": 1.543982,
     "end_time": "2020-10-25T05:40:52.599493",
     "exception": false,
     "start_time": "2020-10-25T05:40:51.055511",
     "status": "completed"
    },
    "tags": []
   },
   "outputs": [],
   "source": [
    "#hide\n",
    "for i in range(len(dates)):\n",
    "    df1_deaths = df_deaths1.get_group(dates[i])\n",
    "    for j in range(len(df1_deaths.index)):\n",
    "        if df1_deaths.iloc[j,1] in arr_states:\n",
    "            dft_deaths.loc[i,df1_deaths.iloc[j,1]] = df1_deaths.iloc[j,2]\n",
    "dft_deaths = dft_deaths.set_index('states')"
   ]
  },
  {
   "cell_type": "code",
   "execution_count": 7,
   "metadata": {
    "execution": {
     "iopub.execute_input": "2020-10-25T05:40:52.635455Z",
     "iopub.status.busy": "2020-10-25T05:40:52.634816Z",
     "iopub.status.idle": "2020-10-25T05:40:54.121482Z",
     "shell.execute_reply": "2020-10-25T05:40:54.120531Z"
    },
    "papermill": {
     "duration": 1.50663,
     "end_time": "2020-10-25T05:40:54.121720",
     "exception": false,
     "start_time": "2020-10-25T05:40:52.615090",
     "status": "completed"
    },
    "tags": []
   },
   "outputs": [],
   "source": [
    "#hide\n",
    "for i in range(len(dates)):\n",
    "    df1_cases = df_cases1.get_group(dates[i])\n",
    "    for j in range(len(df1_cases.index)):\n",
    "        if df1_cases.iloc[j,1] in arr_states:\n",
    "            dft_cases.loc[i,df1_cases.iloc[j,1]] = df1_cases.iloc[j,2]\n",
    "dft_cases = dft_cases.set_index('states')"
   ]
  },
  {
   "cell_type": "code",
   "execution_count": 8,
   "metadata": {
    "execution": {
     "iopub.execute_input": "2020-10-25T05:40:54.163081Z",
     "iopub.status.busy": "2020-10-25T05:40:54.162045Z",
     "iopub.status.idle": "2020-10-25T05:40:54.166335Z",
     "shell.execute_reply": "2020-10-25T05:40:54.166782Z"
    },
    "papermill": {
     "duration": 0.028271,
     "end_time": "2020-10-25T05:40:54.166930",
     "exception": false,
     "start_time": "2020-10-25T05:40:54.138659",
     "status": "completed"
    },
    "tags": []
   },
   "outputs": [],
   "source": [
    "#hide\n",
    "dft_cases = dft_cases.T\n",
    "dft_deaths = dft_deaths.T\n",
    "dt_today = dates[-1]\n",
    "dt_yday = dates[-2]"
   ]
  },
  {
   "cell_type": "code",
   "execution_count": 9,
   "metadata": {
    "execution": {
     "iopub.execute_input": "2020-10-25T05:40:54.204104Z",
     "iopub.status.busy": "2020-10-25T05:40:54.201628Z",
     "iopub.status.idle": "2020-10-25T05:40:54.209053Z",
     "shell.execute_reply": "2020-10-25T05:40:54.208554Z"
    },
    "papermill": {
     "duration": 0.026836,
     "end_time": "2020-10-25T05:40:54.209175",
     "exception": false,
     "start_time": "2020-10-25T05:40:54.182339",
     "status": "completed"
    },
    "tags": []
   },
   "outputs": [],
   "source": [
    "#hide\n",
    "dft_cases = dft_cases.reset_index()\n",
    "dft_deaths = dft_deaths.reset_index()\n",
    "dft_cases = dft_cases.rename(columns = {'index':'state'})\n",
    "dft_deaths = dft_deaths.rename(columns = {'index':'state'})"
   ]
  },
  {
   "cell_type": "code",
   "execution_count": 10,
   "metadata": {
    "execution": {
     "iopub.execute_input": "2020-10-25T05:40:54.245758Z",
     "iopub.status.busy": "2020-10-25T05:40:54.245181Z",
     "iopub.status.idle": "2020-10-25T05:40:54.254113Z",
     "shell.execute_reply": "2020-10-25T05:40:54.253573Z"
    },
    "papermill": {
     "duration": 0.031742,
     "end_time": "2020-10-25T05:40:54.254236",
     "exception": false,
     "start_time": "2020-10-25T05:40:54.222494",
     "status": "completed"
    },
    "tags": []
   },
   "outputs": [],
   "source": [
    "#hide\n",
    "dfc_cases = dft_cases.groupby('state')[dt_today].sum()\n",
    "dfc_deaths = dft_deaths.groupby('state')[dt_today].sum()\n",
    "dfp_cases = dft_cases.groupby('state')[dt_yday].sum()\n",
    "dfp_deaths = dft_deaths.groupby('state')[dt_yday].sum()"
   ]
  },
  {
   "cell_type": "code",
   "execution_count": 11,
   "metadata": {
    "execution": {
     "iopub.execute_input": "2020-10-25T05:40:54.287580Z",
     "iopub.status.busy": "2020-10-25T05:40:54.287003Z",
     "iopub.status.idle": "2020-10-25T05:40:54.303046Z",
     "shell.execute_reply": "2020-10-25T05:40:54.303482Z"
    },
    "papermill": {
     "duration": 0.033386,
     "end_time": "2020-10-25T05:40:54.303614",
     "exception": false,
     "start_time": "2020-10-25T05:40:54.270228",
     "status": "completed"
    },
    "tags": []
   },
   "outputs": [
    {
     "data": {
      "text/html": [
       "<div>\n",
       "<style scoped>\n",
       "    .dataframe tbody tr th:only-of-type {\n",
       "        vertical-align: middle;\n",
       "    }\n",
       "\n",
       "    .dataframe tbody tr th {\n",
       "        vertical-align: top;\n",
       "    }\n",
       "\n",
       "    .dataframe thead th {\n",
       "        text-align: right;\n",
       "    }\n",
       "</style>\n",
       "<table border=\"1\" class=\"dataframe\">\n",
       "  <thead>\n",
       "    <tr style=\"text-align: right;\">\n",
       "      <th></th>\n",
       "      <th>states</th>\n",
       "      <th>Cases</th>\n",
       "      <th>Deaths</th>\n",
       "      <th>PCases</th>\n",
       "      <th>PDeaths</th>\n",
       "    </tr>\n",
       "  </thead>\n",
       "  <tbody>\n",
       "    <tr>\n",
       "      <th>0</th>\n",
       "      <td>Maharashtra</td>\n",
       "      <td>1638961</td>\n",
       "      <td>43152</td>\n",
       "      <td>1638961</td>\n",
       "      <td>43152</td>\n",
       "    </tr>\n",
       "    <tr>\n",
       "      <th>1</th>\n",
       "      <td>Andhra Pradesh</td>\n",
       "      <td>804026</td>\n",
       "      <td>6566</td>\n",
       "      <td>804026</td>\n",
       "      <td>6566</td>\n",
       "    </tr>\n",
       "    <tr>\n",
       "      <th>2</th>\n",
       "      <td>Karnataka</td>\n",
       "      <td>798378</td>\n",
       "      <td>10873</td>\n",
       "      <td>798378</td>\n",
       "      <td>10873</td>\n",
       "    </tr>\n",
       "    <tr>\n",
       "      <th>3</th>\n",
       "      <td>Tamil Nadu</td>\n",
       "      <td>706136</td>\n",
       "      <td>10893</td>\n",
       "      <td>706136</td>\n",
       "      <td>10893</td>\n",
       "    </tr>\n",
       "    <tr>\n",
       "      <th>4</th>\n",
       "      <td>Uttar Pradesh</td>\n",
       "      <td>468238</td>\n",
       "      <td>6854</td>\n",
       "      <td>468238</td>\n",
       "      <td>6854</td>\n",
       "    </tr>\n",
       "  </tbody>\n",
       "</table>\n",
       "</div>"
      ],
      "text/plain": [
       "           states    Cases  Deaths   PCases  PDeaths\n",
       "0     Maharashtra  1638961   43152  1638961    43152\n",
       "1  Andhra Pradesh   804026    6566   804026     6566\n",
       "2       Karnataka   798378   10873   798378    10873\n",
       "3      Tamil Nadu   706136   10893   706136    10893\n",
       "4   Uttar Pradesh   468238    6854   468238     6854"
      ]
     },
     "execution_count": 11,
     "metadata": {},
     "output_type": "execute_result"
    }
   ],
   "source": [
    "#hide\n",
    "df_table = pd.DataFrame({'states': dfc_cases.index, 'Cases': dfc_cases.values, 'Deaths': dfc_deaths.values, 'PCases': dfp_cases.values, 'PDeaths': dfp_deaths.values}).set_index('states')\n",
    "df_table = df_table.sort_values(by = ['Cases','Deaths'], ascending = [False, False])\n",
    "df_table = df_table.reset_index()\n",
    "df_table.head()"
   ]
  },
  {
   "cell_type": "code",
   "execution_count": 12,
   "metadata": {
    "execution": {
     "iopub.execute_input": "2020-10-25T05:40:54.340268Z",
     "iopub.status.busy": "2020-10-25T05:40:54.339685Z",
     "iopub.status.idle": "2020-10-25T05:40:54.348631Z",
     "shell.execute_reply": "2020-10-25T05:40:54.348054Z"
    },
    "papermill": {
     "duration": 0.029501,
     "end_time": "2020-10-25T05:40:54.348783",
     "exception": false,
     "start_time": "2020-10-25T05:40:54.319282",
     "status": "completed"
    },
    "tags": []
   },
   "outputs": [],
   "source": [
    "#hide\n",
    "for c in 'Cases, Deaths'.split(', '):\n",
    "    df_table[f'{c} (+)'] = (df_table[c] - df_table[f'P{c}']).clip(0)\n",
    "df_table['Fatality Rate'] = (100* df_table['Deaths']/ df_table['Cases']).round(2)"
   ]
  },
  {
   "cell_type": "code",
   "execution_count": 13,
   "metadata": {
    "execution": {
     "iopub.execute_input": "2020-10-25T05:40:54.392262Z",
     "iopub.status.busy": "2020-10-25T05:40:54.391688Z",
     "iopub.status.idle": "2020-10-25T05:40:54.396190Z",
     "shell.execute_reply": "2020-10-25T05:40:54.395724Z"
    },
    "papermill": {
     "duration": 0.032164,
     "end_time": "2020-10-25T05:40:54.396315",
     "exception": false,
     "start_time": "2020-10-25T05:40:54.364151",
     "status": "completed"
    },
    "tags": []
   },
   "outputs": [
    {
     "data": {
      "text/html": [
       "<div>\n",
       "<style scoped>\n",
       "    .dataframe tbody tr th:only-of-type {\n",
       "        vertical-align: middle;\n",
       "    }\n",
       "\n",
       "    .dataframe tbody tr th {\n",
       "        vertical-align: top;\n",
       "    }\n",
       "\n",
       "    .dataframe thead th {\n",
       "        text-align: right;\n",
       "    }\n",
       "</style>\n",
       "<table border=\"1\" class=\"dataframe\">\n",
       "  <thead>\n",
       "    <tr style=\"text-align: right;\">\n",
       "      <th></th>\n",
       "      <th>states</th>\n",
       "      <th>Cases</th>\n",
       "      <th>Deaths</th>\n",
       "      <th>PCases</th>\n",
       "      <th>PDeaths</th>\n",
       "      <th>Cases (+)</th>\n",
       "      <th>Deaths (+)</th>\n",
       "      <th>Fatality Rate</th>\n",
       "    </tr>\n",
       "  </thead>\n",
       "  <tbody>\n",
       "    <tr>\n",
       "      <th>0</th>\n",
       "      <td>Maharashtra</td>\n",
       "      <td>1638961</td>\n",
       "      <td>43152</td>\n",
       "      <td>1638961</td>\n",
       "      <td>43152</td>\n",
       "      <td>0</td>\n",
       "      <td>0</td>\n",
       "      <td>2.63</td>\n",
       "    </tr>\n",
       "    <tr>\n",
       "      <th>1</th>\n",
       "      <td>Andhra Pradesh</td>\n",
       "      <td>804026</td>\n",
       "      <td>6566</td>\n",
       "      <td>804026</td>\n",
       "      <td>6566</td>\n",
       "      <td>0</td>\n",
       "      <td>0</td>\n",
       "      <td>0.82</td>\n",
       "    </tr>\n",
       "    <tr>\n",
       "      <th>2</th>\n",
       "      <td>Karnataka</td>\n",
       "      <td>798378</td>\n",
       "      <td>10873</td>\n",
       "      <td>798378</td>\n",
       "      <td>10873</td>\n",
       "      <td>0</td>\n",
       "      <td>0</td>\n",
       "      <td>1.36</td>\n",
       "    </tr>\n",
       "    <tr>\n",
       "      <th>3</th>\n",
       "      <td>Tamil Nadu</td>\n",
       "      <td>706136</td>\n",
       "      <td>10893</td>\n",
       "      <td>706136</td>\n",
       "      <td>10893</td>\n",
       "      <td>0</td>\n",
       "      <td>0</td>\n",
       "      <td>1.54</td>\n",
       "    </tr>\n",
       "    <tr>\n",
       "      <th>4</th>\n",
       "      <td>Uttar Pradesh</td>\n",
       "      <td>468238</td>\n",
       "      <td>6854</td>\n",
       "      <td>468238</td>\n",
       "      <td>6854</td>\n",
       "      <td>0</td>\n",
       "      <td>0</td>\n",
       "      <td>1.46</td>\n",
       "    </tr>\n",
       "  </tbody>\n",
       "</table>\n",
       "</div>"
      ],
      "text/plain": [
       "           states    Cases  Deaths   PCases  PDeaths  Cases (+)  Deaths (+)  \\\n",
       "0     Maharashtra  1638961   43152  1638961    43152          0           0   \n",
       "1  Andhra Pradesh   804026    6566   804026     6566          0           0   \n",
       "2       Karnataka   798378   10873   798378    10873          0           0   \n",
       "3      Tamil Nadu   706136   10893   706136    10893          0           0   \n",
       "4   Uttar Pradesh   468238    6854   468238     6854          0           0   \n",
       "\n",
       "   Fatality Rate  \n",
       "0           2.63  \n",
       "1           0.82  \n",
       "2           1.36  \n",
       "3           1.54  \n",
       "4           1.46  "
      ]
     },
     "execution_count": 13,
     "metadata": {},
     "output_type": "execute_result"
    }
   ],
   "source": [
    "#hide\n",
    "df_table.head()"
   ]
  },
  {
   "cell_type": "code",
   "execution_count": 14,
   "metadata": {
    "execution": {
     "iopub.execute_input": "2020-10-25T05:40:54.431774Z",
     "iopub.status.busy": "2020-10-25T05:40:54.431258Z",
     "iopub.status.idle": "2020-10-25T05:40:54.446751Z",
     "shell.execute_reply": "2020-10-25T05:40:54.447561Z"
    },
    "papermill": {
     "duration": 0.035773,
     "end_time": "2020-10-25T05:40:54.447791",
     "exception": false,
     "start_time": "2020-10-25T05:40:54.412018",
     "status": "completed"
    },
    "tags": []
   },
   "outputs": [
    {
     "data": {
      "text/plain": [
       "{'updated': '2020-10-25',\n",
       " 'since': '2020-10-24',\n",
       " 'Cases': 7865105,\n",
       " 'PCases': 7863983,\n",
       " 'Deaths': 118573,\n",
       " 'PDeaths': 118570,\n",
       " 'Cases (+)': 1122,\n",
       " 'Deaths (+)': 3}"
      ]
     },
     "execution_count": 14,
     "metadata": {},
     "output_type": "execute_result"
    }
   ],
   "source": [
    "#hide\n",
    "summary = {'updated':dates[-1], 'since':dates[-2]}\n",
    "list_names = ['Cases', 'PCases', 'Deaths', 'PDeaths', 'Cases (+)', 'Deaths (+)']\n",
    "for name in list_names:\n",
    "    summary[name] = df_table.sum()[name]\n",
    "summary"
   ]
  },
  {
   "cell_type": "code",
   "execution_count": 15,
   "metadata": {
    "execution": {
     "iopub.execute_input": "2020-10-25T05:40:54.483813Z",
     "iopub.status.busy": "2020-10-25T05:40:54.483224Z",
     "iopub.status.idle": "2020-10-25T05:40:54.485687Z",
     "shell.execute_reply": "2020-10-25T05:40:54.486151Z"
    },
    "papermill": {
     "duration": 0.022655,
     "end_time": "2020-10-25T05:40:54.486282",
     "exception": false,
     "start_time": "2020-10-25T05:40:54.463627",
     "status": "completed"
    },
    "tags": []
   },
   "outputs": [],
   "source": [
    "#hide\n",
    "overview = '''\n",
    "<!-- #######  HTML!! #########-->\n",
    "<h1 style=\"color: #5e9ca0; text-align: center;\">India</h1>\n",
    "<p style=\"text-align: center;\">Last update: <strong>{update}</strong></p>\n",
    "<p style=\"text-align: center;\">Confirmed cases:</p>\n",
    "<p style=\"text-align: center;font-size:24px;\">{cases} (<span style=\"color: #ff0000;\">+{new}</span>)</p>\n",
    "<p style=\"text-align: center;\">Confirmed deaths:</p>\n",
    "<p style=\"text-align: center;font-size:24px;\">{deaths} (<span style=\"color: #ff0000;\">+{dnew}</span>)</p>\n",
    "'''"
   ]
  },
  {
   "cell_type": "code",
   "execution_count": 16,
   "metadata": {
    "execution": {
     "iopub.execute_input": "2020-10-25T05:40:54.523459Z",
     "iopub.status.busy": "2020-10-25T05:40:54.522822Z",
     "iopub.status.idle": "2020-10-25T05:40:54.525583Z",
     "shell.execute_reply": "2020-10-25T05:40:54.526060Z"
    },
    "papermill": {
     "duration": 0.024394,
     "end_time": "2020-10-25T05:40:54.526199",
     "exception": false,
     "start_time": "2020-10-25T05:40:54.501805",
     "status": "completed"
    },
    "tags": []
   },
   "outputs": [
    {
     "data": {
      "text/html": [
       "\n",
       "<!-- #######  HTML!! #########-->\n",
       "<h1 style=\"color: #5e9ca0; text-align: center;\">India</h1>\n",
       "<p style=\"text-align: center;\">Last update: <strong>2020-10-25</strong></p>\n",
       "<p style=\"text-align: center;\">Confirmed cases:</p>\n",
       "<p style=\"text-align: center;font-size:24px;\">7865105 (<span style=\"color: #ff0000;\">+1122</span>)</p>\n",
       "<p style=\"text-align: center;\">Confirmed deaths:</p>\n",
       "<p style=\"text-align: center;font-size:24px;\">118573 (<span style=\"color: #ff0000;\">+3</span>)</p>\n"
      ],
      "text/plain": [
       "<IPython.core.display.HTML object>"
      ]
     },
     "metadata": {},
     "output_type": "display_data"
    }
   ],
   "source": [
    "#hide_input\n",
    "update = summary['updated']\n",
    "cases = summary['Cases']\n",
    "new = summary['Cases (+)']\n",
    "deaths = summary['Deaths']\n",
    "dnew = summary['Deaths (+)']\n",
    "\n",
    "html = HTML(overview.format(update=update, cases=cases,new=new,deaths=deaths,dnew=dnew))\n",
    "\n",
    "display(html)"
   ]
  },
  {
   "cell_type": "code",
   "execution_count": 17,
   "metadata": {
    "execution": {
     "iopub.execute_input": "2020-10-25T05:40:54.573852Z",
     "iopub.status.busy": "2020-10-25T05:40:54.573287Z",
     "iopub.status.idle": "2020-10-25T05:40:54.578740Z",
     "shell.execute_reply": "2020-10-25T05:40:54.579153Z"
    },
    "papermill": {
     "duration": 0.034997,
     "end_time": "2020-10-25T05:40:54.579287",
     "exception": false,
     "start_time": "2020-10-25T05:40:54.544290",
     "status": "completed"
    },
    "tags": []
   },
   "outputs": [],
   "source": [
    "#hide\n",
    "dt_cols = list(dft_cases.columns[1:])\n",
    "dft_ct_new_cases = dft_cases.groupby('state')[dt_cols].sum().diff(axis=1).fillna(0).astype(int)\n",
    "dft_ct_new_cases.sort_values(by = dates[-1], ascending = False,inplace = True)"
   ]
  },
  {
   "cell_type": "code",
   "execution_count": 18,
   "metadata": {
    "execution": {
     "iopub.execute_input": "2020-10-25T05:40:54.629900Z",
     "iopub.status.busy": "2020-10-25T05:40:54.628962Z",
     "iopub.status.idle": "2020-10-25T05:40:54.631574Z",
     "shell.execute_reply": "2020-10-25T05:40:54.632036Z"
    },
    "papermill": {
     "duration": 0.037313,
     "end_time": "2020-10-25T05:40:54.632176",
     "exception": false,
     "start_time": "2020-10-25T05:40:54.594863",
     "status": "completed"
    },
    "tags": []
   },
   "outputs": [
    {
     "data": {
      "text/html": [
       "<div>\n",
       "<style scoped>\n",
       "    .dataframe tbody tr th:only-of-type {\n",
       "        vertical-align: middle;\n",
       "    }\n",
       "\n",
       "    .dataframe tbody tr th {\n",
       "        vertical-align: top;\n",
       "    }\n",
       "\n",
       "    .dataframe thead th {\n",
       "        text-align: right;\n",
       "    }\n",
       "</style>\n",
       "<table border=\"1\" class=\"dataframe\">\n",
       "  <thead>\n",
       "    <tr style=\"text-align: right;\">\n",
       "      <th>states</th>\n",
       "      <th>2020-07-01</th>\n",
       "      <th>2020-07-02</th>\n",
       "      <th>2020-07-03</th>\n",
       "      <th>2020-07-04</th>\n",
       "      <th>2020-07-05</th>\n",
       "      <th>2020-07-06</th>\n",
       "      <th>2020-07-07</th>\n",
       "      <th>2020-07-08</th>\n",
       "      <th>2020-07-09</th>\n",
       "      <th>2020-07-10</th>\n",
       "      <th>...</th>\n",
       "      <th>2020-10-16</th>\n",
       "      <th>2020-10-17</th>\n",
       "      <th>2020-10-18</th>\n",
       "      <th>2020-10-19</th>\n",
       "      <th>2020-10-20</th>\n",
       "      <th>2020-10-21</th>\n",
       "      <th>2020-10-22</th>\n",
       "      <th>2020-10-23</th>\n",
       "      <th>2020-10-24</th>\n",
       "      <th>2020-10-25</th>\n",
       "    </tr>\n",
       "    <tr>\n",
       "      <th>state</th>\n",
       "      <th></th>\n",
       "      <th></th>\n",
       "      <th></th>\n",
       "      <th></th>\n",
       "      <th></th>\n",
       "      <th></th>\n",
       "      <th></th>\n",
       "      <th></th>\n",
       "      <th></th>\n",
       "      <th></th>\n",
       "      <th></th>\n",
       "      <th></th>\n",
       "      <th></th>\n",
       "      <th></th>\n",
       "      <th></th>\n",
       "      <th></th>\n",
       "      <th></th>\n",
       "      <th></th>\n",
       "      <th></th>\n",
       "      <th></th>\n",
       "      <th></th>\n",
       "    </tr>\n",
       "  </thead>\n",
       "  <tbody>\n",
       "    <tr>\n",
       "      <th>Telangana</th>\n",
       "      <td>0</td>\n",
       "      <td>1213</td>\n",
       "      <td>1892</td>\n",
       "      <td>1850</td>\n",
       "      <td>1590</td>\n",
       "      <td>1831</td>\n",
       "      <td>1879</td>\n",
       "      <td>1924</td>\n",
       "      <td>1410</td>\n",
       "      <td>1278</td>\n",
       "      <td>...</td>\n",
       "      <td>1554</td>\n",
       "      <td>1451</td>\n",
       "      <td>1436</td>\n",
       "      <td>948</td>\n",
       "      <td>1486</td>\n",
       "      <td>1579</td>\n",
       "      <td>1456</td>\n",
       "      <td>1421</td>\n",
       "      <td>1273</td>\n",
       "      <td>978</td>\n",
       "    </tr>\n",
       "    <tr>\n",
       "      <th>Tripura</th>\n",
       "      <td>0</td>\n",
       "      <td>39</td>\n",
       "      <td>93</td>\n",
       "      <td>25</td>\n",
       "      <td>23</td>\n",
       "      <td>111</td>\n",
       "      <td>24</td>\n",
       "      <td>57</td>\n",
       "      <td>16</td>\n",
       "      <td>142</td>\n",
       "      <td>...</td>\n",
       "      <td>162</td>\n",
       "      <td>134</td>\n",
       "      <td>141</td>\n",
       "      <td>85</td>\n",
       "      <td>135</td>\n",
       "      <td>112</td>\n",
       "      <td>125</td>\n",
       "      <td>145</td>\n",
       "      <td>65</td>\n",
       "      <td>86</td>\n",
       "    </tr>\n",
       "    <tr>\n",
       "      <th>Mizoram</th>\n",
       "      <td>0</td>\n",
       "      <td>2</td>\n",
       "      <td>0</td>\n",
       "      <td>2</td>\n",
       "      <td>22</td>\n",
       "      <td>11</td>\n",
       "      <td>1</td>\n",
       "      <td>5</td>\n",
       "      <td>0</td>\n",
       "      <td>23</td>\n",
       "      <td>...</td>\n",
       "      <td>9</td>\n",
       "      <td>16</td>\n",
       "      <td>8</td>\n",
       "      <td>0</td>\n",
       "      <td>27</td>\n",
       "      <td>30</td>\n",
       "      <td>31</td>\n",
       "      <td>18</td>\n",
       "      <td>30</td>\n",
       "      <td>58</td>\n",
       "    </tr>\n",
       "    <tr>\n",
       "      <th>Andaman and Nicobar Islands</th>\n",
       "      <td>0</td>\n",
       "      <td>9</td>\n",
       "      <td>7</td>\n",
       "      <td>3</td>\n",
       "      <td>6</td>\n",
       "      <td>16</td>\n",
       "      <td>6</td>\n",
       "      <td>2</td>\n",
       "      <td>7</td>\n",
       "      <td>0</td>\n",
       "      <td>...</td>\n",
       "      <td>10</td>\n",
       "      <td>11</td>\n",
       "      <td>25</td>\n",
       "      <td>18</td>\n",
       "      <td>15</td>\n",
       "      <td>27</td>\n",
       "      <td>16</td>\n",
       "      <td>23</td>\n",
       "      <td>18</td>\n",
       "      <td>0</td>\n",
       "    </tr>\n",
       "    <tr>\n",
       "      <th>Puducherry</th>\n",
       "      <td>0</td>\n",
       "      <td>63</td>\n",
       "      <td>22</td>\n",
       "      <td>80</td>\n",
       "      <td>42</td>\n",
       "      <td>65</td>\n",
       "      <td>30</td>\n",
       "      <td>110</td>\n",
       "      <td>49</td>\n",
       "      <td>72</td>\n",
       "      <td>...</td>\n",
       "      <td>280</td>\n",
       "      <td>212</td>\n",
       "      <td>163</td>\n",
       "      <td>106</td>\n",
       "      <td>205</td>\n",
       "      <td>170</td>\n",
       "      <td>210</td>\n",
       "      <td>154</td>\n",
       "      <td>126</td>\n",
       "      <td>0</td>\n",
       "    </tr>\n",
       "  </tbody>\n",
       "</table>\n",
       "<p>5 rows × 117 columns</p>\n",
       "</div>"
      ],
      "text/plain": [
       "states                       2020-07-01  2020-07-02  2020-07-03  2020-07-04  \\\n",
       "state                                                                         \n",
       "Telangana                             0        1213        1892        1850   \n",
       "Tripura                               0          39          93          25   \n",
       "Mizoram                               0           2           0           2   \n",
       "Andaman and Nicobar Islands           0           9           7           3   \n",
       "Puducherry                            0          63          22          80   \n",
       "\n",
       "states                       2020-07-05  2020-07-06  2020-07-07  2020-07-08  \\\n",
       "state                                                                         \n",
       "Telangana                          1590        1831        1879        1924   \n",
       "Tripura                              23         111          24          57   \n",
       "Mizoram                              22          11           1           5   \n",
       "Andaman and Nicobar Islands           6          16           6           2   \n",
       "Puducherry                           42          65          30         110   \n",
       "\n",
       "states                       2020-07-09  2020-07-10  ...  2020-10-16  \\\n",
       "state                                                ...               \n",
       "Telangana                          1410        1278  ...        1554   \n",
       "Tripura                              16         142  ...         162   \n",
       "Mizoram                               0          23  ...           9   \n",
       "Andaman and Nicobar Islands           7           0  ...          10   \n",
       "Puducherry                           49          72  ...         280   \n",
       "\n",
       "states                       2020-10-17  2020-10-18  2020-10-19  2020-10-20  \\\n",
       "state                                                                         \n",
       "Telangana                          1451        1436         948        1486   \n",
       "Tripura                             134         141          85         135   \n",
       "Mizoram                              16           8           0          27   \n",
       "Andaman and Nicobar Islands          11          25          18          15   \n",
       "Puducherry                          212         163         106         205   \n",
       "\n",
       "states                       2020-10-21  2020-10-22  2020-10-23  2020-10-24  \\\n",
       "state                                                                         \n",
       "Telangana                          1579        1456        1421        1273   \n",
       "Tripura                             112         125         145          65   \n",
       "Mizoram                              30          31          18          30   \n",
       "Andaman and Nicobar Islands          27          16          23          18   \n",
       "Puducherry                          170         210         154         126   \n",
       "\n",
       "states                       2020-10-25  \n",
       "state                                    \n",
       "Telangana                           978  \n",
       "Tripura                              86  \n",
       "Mizoram                              58  \n",
       "Andaman and Nicobar Islands           0  \n",
       "Puducherry                            0  \n",
       "\n",
       "[5 rows x 117 columns]"
      ]
     },
     "execution_count": 18,
     "metadata": {},
     "output_type": "execute_result"
    }
   ],
   "source": [
    "#hide\n",
    "dft_ct_new_cases.head()"
   ]
  },
  {
   "cell_type": "code",
   "execution_count": 19,
   "metadata": {
    "execution": {
     "iopub.execute_input": "2020-10-25T05:40:54.670753Z",
     "iopub.status.busy": "2020-10-25T05:40:54.670188Z",
     "iopub.status.idle": "2020-10-25T05:40:58.954161Z",
     "shell.execute_reply": "2020-10-25T05:40:58.954601Z"
    },
    "papermill": {
     "duration": 4.304898,
     "end_time": "2020-10-25T05:40:58.954772",
     "exception": false,
     "start_time": "2020-10-25T05:40:54.649874",
     "status": "completed"
    },
    "tags": []
   },
   "outputs": [
    {
     "data": {
      "image/png": "[encoded data removed]",
      "text/plain": [
       "<Figure size 1296x2016 with 11 Axes>"
      ]
     },
     "metadata": {
      "needs_background": "light"
     },
     "output_type": "display_data"
    }
   ],
   "source": [
    "#hide_input\n",
    "df = dft_ct_new_cases.copy()\n",
    "df.loc['Total'] = df.sum()\n",
    "n = 5\n",
    "ax = []\n",
    "fig = plt.figure(figsize = (18,28))\n",
    "gs = fig.add_gridspec(n+2, 5)\n",
    "# gs = fig.add_gridspec(2, 3)\n",
    "ax1 = fig.add_subplot(gs[0, :])\n",
    "ef = df.loc['Total'].rename_axis('date').reset_index()\n",
    "ef['date'] = ef['date'].astype('datetime64[ns]')\n",
    "ax1.bar(ef.date,ef.Total,alpha=0.3,color='#007acc')\n",
    "ax1.plot(ef.date,ef.Total , marker=\"o\", color='#007acc')\n",
    "ax1.xaxis.set_major_locator(mdates.WeekdayLocator())\n",
    "ax1.xaxis.set_major_formatter(mdates.DateFormatter('%b %d'))\n",
    "ax1.text(0.02, 0.5,'India daily case count', transform = ax1.transAxes, fontsize=25);\n",
    "ax1.spines['right'].set_visible(False)\n",
    "ax1.spines['top'].set_visible(False)\n",
    "\n",
    "ax2 = fig.add_subplot(gs[1,0])\n",
    "ef = df.loc['Maharashtra'].rename_axis('date').reset_index()\n",
    "ef['date'] = ef['date'].astype('datetime64[ns]')\n",
    "\n",
    "ax2.bar(ef.date, ef.Maharashtra,color = '#007acc',alpha=0.5)\n",
    "ax2.xaxis.set_major_locator(mdates.WeekdayLocator())\n",
    "ax2.xaxis.set_major_formatter(mdates.DateFormatter('%b %d'))\n",
    "ax2.set_xticks(ax2.get_xticks()[::3])\n",
    "maxyval = ef.Maharashtra.max()\n",
    "ax2.set_ylim([0,maxyval])\n",
    "ax2.text(0.05, 0.9,'Maharashtra', transform = ax2.transAxes, fontsize=20);\n",
    "ax2.spines['right'].set_visible(False)\n",
    "ax2.spines['top'].set_visible(False)\n",
    "\n",
    "\n",
    "ax3 = fig.add_subplot(gs[1,1])\n",
    "ef = df.loc['Tamil Nadu'].rename_axis('date').reset_index()\n",
    "ef['date'] = ef['date'].astype('datetime64[ns]')\n",
    "ax3.bar(ef.date, ef['Tamil Nadu'],color = '#007acc',alpha=0.5,)\n",
    "ax3.xaxis.set_major_locator(mdates.WeekdayLocator())\n",
    "ax3.xaxis.set_major_formatter(mdates.DateFormatter('%b %d'))\n",
    "ax3.set_xticks(ax3.get_xticks()[::3])\n",
    "ax3.text(0.05, 0.9,'Tamil Nadu', transform = ax3.transAxes, fontsize=20);\n",
    "ax3.spines['right'].set_visible(False)\n",
    "ax3.spines['top'].set_visible(False)\n",
    "\n",
    "ax5 = fig.add_subplot(gs[1,3])\n",
    "ef = df.loc['Telangana'].rename_axis('date').reset_index()\n",
    "ef['date'] = ef['date'].astype('datetime64[ns]')\n",
    "ax5.bar(ef.date, ef['Telangana'],color = '#007acc',alpha=0.5,)\n",
    "ax5.xaxis.set_major_locator(mdates.WeekdayLocator())\n",
    "ax5.xaxis.set_major_formatter(mdates.DateFormatter('%b %d'))\n",
    "ax5.set_xticks(ax5.get_xticks()[::3])\n",
    "ax5.text(0.05, 0.9,'Telangana', transform = ax5.transAxes, fontsize=20);\n",
    "ax5.spines['right'].set_visible(False)\n",
    "ax5.spines['top'].set_visible(False)\n",
    "\n",
    "ax6 = fig.add_subplot(gs[1,4])\n",
    "ef = df.loc['Andhra Pradesh'].rename_axis('date').reset_index()\n",
    "ef['date'] = ef['date'].astype('datetime64[ns]')\n",
    "ax6.bar(ef.date, ef['Andhra Pradesh'],color = '#007acc',alpha=0.5,)\n",
    "ax6.xaxis.set_major_locator(mdates.WeekdayLocator())\n",
    "ax6.xaxis.set_major_formatter(mdates.DateFormatter('%b %d'))\n",
    "ax6.set_xticks(ax6.get_xticks()[::3])\n",
    "ax6.text(0.05, 1,'Andhra Pradesh', transform = ax6.transAxes, fontsize=20);\n",
    "ax6.spines['right'].set_visible(False)\n",
    "ax6.spines['top'].set_visible(False)\n",
    "\n",
    "ax4 = fig.add_subplot(gs[1,2])\n",
    "ef = df.loc['Delhi'].rename_axis('date').reset_index()\n",
    "ef['date'] = ef['date'].astype('datetime64[ns]')\n",
    "ax4.bar(ef.date, ef.Delhi,color = '#007acc',alpha=0.5)\n",
    "ax4.set_xticks([])\n",
    "ax4.xaxis.set_major_locator(mdates.WeekdayLocator())\n",
    "ax4.xaxis.set_major_formatter(mdates.DateFormatter('%b %d'))\n",
    "ax4.set_xticks(ax4.get_xticks()[::3])\n",
    "ax4.spines['right'].set_visible(False)\n",
    "ax4.spines['top'].set_visible(False)\n",
    "\n",
    "ax4.text(0.05, 1,'Delhi', transform = ax4.transAxes, fontsize=20)\n",
    "\n",
    "for i in range(n):\n",
    "    \n",
    "    ax.append(fig.add_subplot(gs[i+2,:]))\n",
    "    ef = df.iloc[i+3].rename_axis('date').reset_index()\n",
    "    ef['date'] = ef['date'].astype('datetime64[ns]')\n",
    "    ax[i].bar(ef.date,ef.iloc[:,-1],color = '#007acc',alpha=0.3)\n",
    "    ax[i].plot(ef.date,ef.iloc[:,-1],marker='o',color='#007acc')\n",
    "    ax[i].text(0.02,0.5,f'{ef.columns.values[-1]}',transform = ax[i].transAxes, fontsize = 20);\n",
    "    ax[i].xaxis.set_major_locator(mdates.WeekdayLocator())\n",
    "    ax[i].xaxis.set_major_formatter(mdates.DateFormatter('%b %d'))\n",
    "    ax[i].set_ylim([0,7000])\n",
    "    ax[i].spines['right'].set_visible(False)\n",
    "    ax[i].spines['top'].set_visible(False)\n",
    "plt.tight_layout()\n"
   ]
  },
  {
   "cell_type": "code",
   "execution_count": 20,
   "metadata": {
    "execution": {
     "iopub.execute_input": "2020-10-25T05:40:59.011226Z",
     "iopub.status.busy": "2020-10-25T05:40:59.010661Z",
     "iopub.status.idle": "2020-10-25T05:40:59.014213Z",
     "shell.execute_reply": "2020-10-25T05:40:59.014729Z"
    },
    "papermill": {
     "duration": 0.037623,
     "end_time": "2020-10-25T05:40:59.014870",
     "exception": false,
     "start_time": "2020-10-25T05:40:58.977247",
     "status": "completed"
    },
    "tags": []
   },
   "outputs": [
    {
     "name": "stdout",
     "output_type": "stream",
     "text": [
      "                                   states    Cases  Deaths   PCases  PDeaths  Cases (+)  Deaths (+)  Fatality Rate\n",
      "                              Maharashtra  1638961   43152  1638961    43152          0           0           2.63\n",
      "                           Andhra Pradesh   804026    6566   804026     6566          0           0           0.82\n",
      "                                Karnataka   798378   10873   798378    10873          0           0           1.36\n",
      "                               Tamil Nadu   706136   10893   706136    10893          0           0           1.54\n",
      "                            Uttar Pradesh   468238    6854   468238     6854          0           0           1.46\n",
      "                                   Kerala   386088    1307   386088     1307          0           0           0.34\n",
      "                                    Delhi   352520    6225   352520     6225          0           0           1.77\n",
      "                              West Bengal   345574    6427   345574     6427          0           0           1.86\n",
      "                                   Odisha   279582    1282   279582     1282          0           0           0.46\n",
      "                                Telangana   231252    1303   230274     1303        978           0           0.56\n",
      "                                    Bihar   211443    1042   211443     1042          0           0           0.49\n",
      "                                    Assam   203967     902   203967      902          0           0           0.44\n",
      "                                Rajasthan   184422    1826   184422     1826          0           0           0.99\n",
      "                             Chhattisgarh   174591    1793   174591     1793          0           0           1.03\n",
      "                           Madhya Pradesh   166298    2875   166298     2875          0           0           1.73\n",
      "                                  Gujarat   166254    3682   166254     3682          0           0           2.21\n",
      "                                  Haryana   157064    1720   157064     1720          0           0           1.10\n",
      "                                   Punjab   130640    4107   130640     4107          0           0           3.14\n",
      "                                Jharkhand    99428     864    99428      864          0           0           0.87\n",
      "                        Jammu and Kashmir    91329    1430    91329     1430          0           0           1.57\n",
      "                              Uttarakhand    60155     984    60155      984          0           0           1.64\n",
      "                                      Goa    42031     570    42031      570          0           0           1.36\n",
      "                               Puducherry    34112     586    34112      586          0           0           1.72\n",
      "                                  Tripura    30218     340    30132      337         86           3           1.13\n",
      "                         Himachal Pradesh    20213     285    20213      285          0           0           1.41\n",
      "                                  Manipur    17022     138    17022      138          0           0           0.81\n",
      "                        Arunachal Pradesh    14211      33    14211       33          0           0           0.23\n",
      "                               Chandigarh    13977     216    13977      216          0           0           1.55\n",
      "                                Meghalaya     8882      80     8882       80          0           0           0.90\n",
      "                                 Nagaland     8515      24     8515       24          0           0           0.28\n",
      "                                   Ladakh     5913      71     5913       71          0           0           1.20\n",
      "              Andaman and Nicobar Islands     4225      58     4225       58          0           0           1.37\n",
      "                                   Sikkim     3770      63     3770       63          0           0           1.67\n",
      " Dadra and Nagar Haveli and Daman and Diu     3223       2     3223        2          0           0           0.06\n",
      "                                  Mizoram     2447       0     2389        0         58           0           0.00\n",
      "                              Lakshadweep        0       0        0        0          0           0            NaN\n"
     ]
    }
   ],
   "source": [
    "#hide_input\n",
    "print(df_table.to_string(index=False))"
   ]
  },
  {
   "cell_type": "code",
   "execution_count": null,
   "metadata": {
    "papermill": {
     "duration": 0.023369,
     "end_time": "2020-10-25T05:40:59.059465",
     "exception": false,
     "start_time": "2020-10-25T05:40:59.036096",
     "status": "completed"
    },
    "tags": []
   },
   "outputs": [],
   "source": []
  },
  {
   "cell_type": "code",
   "execution_count": null,
   "metadata": {
    "papermill": {
     "duration": 0.021333,
     "end_time": "2020-10-25T05:40:59.105691",
     "exception": false,
     "start_time": "2020-10-25T05:40:59.084358",
     "status": "completed"
    },
    "tags": []
   },
   "outputs": [],
   "source": []
  }
 ],
 "metadata": {
  "kernelspec": {
   "display_name": "Python 3",
   "language": "python",
   "name": "python3"
  },
  "language_info": {
   "codemirror_mode": {
    "name": "ipython",
    "version": 3
   },
   "file_extension": ".py",
   "mimetype": "text/x-python",
   "name": "python",
   "nbconvert_exporter": "python",
   "pygments_lexer": "ipython3",
   "version": "3.6.12"
  },
  "papermill": {
   "duration": 10.948901,
   "end_time": "2020-10-25T05:40:59.636784",
   "environment_variables": {},
   "exception": null,
   "input_path": "latest.ipynb",
   "output_path": "latest.ipynb",
   "parameters": {},
   "start_time": "2020-10-25T05:40:48.687883",
   "version": "2.1.2"
  }
 },
 "nbformat": 4,
 "nbformat_minor": 4
}