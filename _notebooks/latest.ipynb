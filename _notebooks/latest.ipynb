{
 "cells": [
  {
   "cell_type": "markdown",
   "metadata": {
    "papermill": {
     "duration": 0.017768,
     "end_time": "2020-12-05T12:50:54.043982",
     "exception": false,
     "start_time": "2020-12-05T12:50:54.026214",
     "status": "completed"
    },
    "tags": []
   },
   "source": [
    "# Latest COVID-19 India Matplotlib Overview"
   ]
  },
  {
   "cell_type": "code",
   "execution_count": 1,
   "metadata": {
    "execution": {
     "iopub.execute_input": "2020-12-05T12:50:54.080074Z",
     "iopub.status.busy": "2020-12-05T12:50:54.079457Z",
     "iopub.status.idle": "2020-12-05T12:50:54.603402Z",
     "shell.execute_reply": "2020-12-05T12:50:54.604139Z"
    },
    "papermill": {
     "duration": 0.545439,
     "end_time": "2020-12-05T12:50:54.604322",
     "exception": false,
     "start_time": "2020-12-05T12:50:54.058883",
     "status": "completed"
    },
    "tags": []
   },
   "outputs": [],
   "source": [
    "#hide\n",
    "import pandas as pd\n",
    "import numpy as np\n",
    "import requests\n",
    "import json\n",
    "import matplotlib.pyplot as plt\n",
    "import matplotlib.dates as mdates\n",
    "import matplotlib as mpl\n",
    "from IPython.core.display import display,HTML\n",
    "%matplotlib inline\n",
    "from datetime import date"
   ]
  },
  {
   "cell_type": "code",
   "execution_count": 2,
   "metadata": {
    "execution": {
     "iopub.execute_input": "2020-12-05T12:50:54.640945Z",
     "iopub.status.busy": "2020-12-05T12:50:54.640387Z",
     "iopub.status.idle": "2020-12-05T12:50:54.824218Z",
     "shell.execute_reply": "2020-12-05T12:50:54.823712Z"
    },
    "papermill": {
     "duration": 0.205977,
     "end_time": "2020-12-05T12:50:54.824350",
     "exception": false,
     "start_time": "2020-12-05T12:50:54.618373",
     "status": "completed"
    },
    "tags": []
   },
   "outputs": [],
   "source": [
    "#hide\n",
    "df  = pd.read_csv('https://api.covid19india.org/csv/latest/states.csv')\n",
    "df = df[['Date','State','Confirmed','Deceased']]\n",
    "df = df.rename(columns={'Confirmed':'Cases', \"Deceased\":'Deaths'})\n",
    "df_cases = df[[\"Date\",'State','Cases']]\n",
    "df_deaths = df[['Date','State','Deaths']]\n",
    "df_cases1 = df_cases.groupby('Date')\n",
    "df_deaths1= df_deaths.groupby('Date')"
   ]
  },
  {
   "cell_type": "code",
   "execution_count": 3,
   "metadata": {
    "execution": {
     "iopub.execute_input": "2020-12-05T12:50:54.858577Z",
     "iopub.status.busy": "2020-12-05T12:50:54.854693Z",
     "iopub.status.idle": "2020-12-05T12:50:54.870884Z",
     "shell.execute_reply": "2020-12-05T12:50:54.870417Z"
    },
    "papermill": {
     "duration": 0.03393,
     "end_time": "2020-12-05T12:50:54.870983",
     "exception": false,
     "start_time": "2020-12-05T12:50:54.837053",
     "status": "completed"
    },
    "tags": []
   },
   "outputs": [],
   "source": [
    "#hide\n",
    "df_snap = pd.read_csv('data/SnapshotCases-28-July.csv')\n",
    "arr_states = df_snap['states'].unique()\n",
    "arr_dates = df['Date'].unique()\n",
    "df_snap = df_snap.set_index('states')"
   ]
  },
  {
   "cell_type": "code",
   "execution_count": 4,
   "metadata": {
    "execution": {
     "iopub.execute_input": "2020-12-05T12:50:54.907553Z",
     "iopub.status.busy": "2020-12-05T12:50:54.907069Z",
     "iopub.status.idle": "2020-12-05T12:50:54.910482Z",
     "shell.execute_reply": "2020-12-05T12:50:54.910840Z"
    },
    "papermill": {
     "duration": 0.027235,
     "end_time": "2020-12-05T12:50:54.910953",
     "exception": false,
     "start_time": "2020-12-05T12:50:54.883718",
     "status": "completed"
    },
    "tags": []
   },
   "outputs": [
    {
     "data": {
      "text/plain": [
       "array(['Andaman and Nicobar Islands', 'Andhra Pradesh',\n",
       "       'Arunachal Pradesh', 'Assam', 'Bihar', 'Chandigarh',\n",
       "       'Dadra and Nagar Haveli and Daman and Diu', 'Delhi', 'Goa',\n",
       "       'Gujarat', 'Haryana', 'Himachal Pradesh', 'Jammu and Kashmir',\n",
       "       'Jharkhand', 'Karnataka', 'Kerala', 'Lakshadweep',\n",
       "       'Madhya Pradesh', 'Maharashtra', 'Manipur', 'Meghalaya', 'Mizoram',\n",
       "       'Nagaland', 'Odisha', 'Puducherry', 'Punjab', 'Rajasthan',\n",
       "       'Sikkim', 'Tamil Nadu', 'Telangana', 'Tripura', 'Uttar Pradesh',\n",
       "       'West Bengal', 'Chhattisgarh', 'Ladakh', 'Uttarakhand'],\n",
       "      dtype=object)"
      ]
     },
     "execution_count": 4,
     "metadata": {},
     "output_type": "execute_result"
    }
   ],
   "source": [
    "#hide\n",
    "arr_states[-9] = 'Puducherry'\n",
    "arr_states[-10] = 'Odisha'\n",
    "arr_states[6] = 'Dadra and Nagar Haveli and Daman and Diu'\n",
    "arr_states = np.append(arr_states,np.array(['Chhattisgarh','Ladakh','Uttarakhand']))\n",
    "arr_states"
   ]
  },
  {
   "cell_type": "code",
   "execution_count": 5,
   "metadata": {
    "execution": {
     "iopub.execute_input": "2020-12-05T12:50:54.946378Z",
     "iopub.status.busy": "2020-12-05T12:50:54.945906Z",
     "iopub.status.idle": "2020-12-05T12:50:54.953410Z",
     "shell.execute_reply": "2020-12-05T12:50:54.952923Z"
    },
    "papermill": {
     "duration": 0.029491,
     "end_time": "2020-12-05T12:50:54.953525",
     "exception": false,
     "start_time": "2020-12-05T12:50:54.924034",
     "status": "completed"
    },
    "tags": []
   },
   "outputs": [],
   "source": [
    "#hide\n",
    "dates = []\n",
    "for i in arr_dates:\n",
    "    if i>='2020-07-01':\n",
    "        dates.append(i)\n",
    "dict = {'states':dates}\n",
    "for i in arr_states:\n",
    "    dict[i] = [0]*len(dates)\n",
    "dft_cases = pd.DataFrame(dict)\n",
    "dft_deaths = pd.DataFrame(dict)\n"
   ]
  },
  {
   "cell_type": "code",
   "execution_count": 6,
   "metadata": {
    "execution": {
     "iopub.execute_input": "2020-12-05T12:50:54.986959Z",
     "iopub.status.busy": "2020-12-05T12:50:54.986439Z",
     "iopub.status.idle": "2020-12-05T12:50:56.947167Z",
     "shell.execute_reply": "2020-12-05T12:50:56.946185Z"
    },
    "papermill": {
     "duration": 1.979523,
     "end_time": "2020-12-05T12:50:56.947297",
     "exception": false,
     "start_time": "2020-12-05T12:50:54.967774",
     "status": "completed"
    },
    "tags": []
   },
   "outputs": [],
   "source": [
    "#hide\n",
    "for i in range(len(dates)):\n",
    "    df1_deaths = df_deaths1.get_group(dates[i])\n",
    "    for j in range(len(df1_deaths.index)):\n",
    "        if df1_deaths.iloc[j,1] in arr_states:\n",
    "            dft_deaths.loc[i,df1_deaths.iloc[j,1]] = df1_deaths.iloc[j,2]\n",
    "dft_deaths = dft_deaths.set_index('states')"
   ]
  },
  {
   "cell_type": "code",
   "execution_count": 7,
   "metadata": {
    "execution": {
     "iopub.execute_input": "2020-12-05T12:50:56.983471Z",
     "iopub.status.busy": "2020-12-05T12:50:56.982856Z",
     "iopub.status.idle": "2020-12-05T12:50:58.930706Z",
     "shell.execute_reply": "2020-12-05T12:50:58.929656Z"
    },
    "papermill": {
     "duration": 1.969084,
     "end_time": "2020-12-05T12:50:58.930836",
     "exception": false,
     "start_time": "2020-12-05T12:50:56.961752",
     "status": "completed"
    },
    "tags": []
   },
   "outputs": [],
   "source": [
    "#hide\n",
    "for i in range(len(dates)):\n",
    "    df1_cases = df_cases1.get_group(dates[i])\n",
    "    for j in range(len(df1_cases.index)):\n",
    "        if df1_cases.iloc[j,1] in arr_states:\n",
    "            dft_cases.loc[i,df1_cases.iloc[j,1]] = df1_cases.iloc[j,2]\n",
    "dft_cases = dft_cases.set_index('states')"
   ]
  },
  {
   "cell_type": "code",
   "execution_count": 8,
   "metadata": {
    "execution": {
     "iopub.execute_input": "2020-12-05T12:50:58.966198Z",
     "iopub.status.busy": "2020-12-05T12:50:58.964938Z",
     "iopub.status.idle": "2020-12-05T12:50:58.966977Z",
     "shell.execute_reply": "2020-12-05T12:50:58.967438Z"
    },
    "papermill": {
     "duration": 0.021423,
     "end_time": "2020-12-05T12:50:58.967570",
     "exception": false,
     "start_time": "2020-12-05T12:50:58.946147",
     "status": "completed"
    },
    "tags": []
   },
   "outputs": [],
   "source": [
    "#hide\n",
    "dft_cases = dft_cases.T\n",
    "dft_deaths = dft_deaths.T\n",
    "dt_today = dates[-1]\n",
    "dt_yday = dates[-2]"
   ]
  },
  {
   "cell_type": "code",
   "execution_count": 9,
   "metadata": {
    "execution": {
     "iopub.execute_input": "2020-12-05T12:50:58.999801Z",
     "iopub.status.busy": "2020-12-05T12:50:58.999234Z",
     "iopub.status.idle": "2020-12-05T12:50:59.007167Z",
     "shell.execute_reply": "2020-12-05T12:50:59.007660Z"
    },
    "papermill": {
     "duration": 0.025337,
     "end_time": "2020-12-05T12:50:59.007782",
     "exception": false,
     "start_time": "2020-12-05T12:50:58.982445",
     "status": "completed"
    },
    "tags": []
   },
   "outputs": [],
   "source": [
    "#hide\n",
    "dft_cases = dft_cases.reset_index()\n",
    "dft_deaths = dft_deaths.reset_index()\n",
    "dft_cases = dft_cases.rename(columns = {'index':'state'})\n",
    "dft_deaths = dft_deaths.rename(columns = {'index':'state'})"
   ]
  },
  {
   "cell_type": "code",
   "execution_count": 10,
   "metadata": {
    "execution": {
     "iopub.execute_input": "2020-12-05T12:50:59.047968Z",
     "iopub.status.busy": "2020-12-05T12:50:59.047412Z",
     "iopub.status.idle": "2020-12-05T12:50:59.049793Z",
     "shell.execute_reply": "2020-12-05T12:50:59.049282Z"
    },
    "papermill": {
     "duration": 0.02868,
     "end_time": "2020-12-05T12:50:59.049909",
     "exception": false,
     "start_time": "2020-12-05T12:50:59.021229",
     "status": "completed"
    },
    "tags": []
   },
   "outputs": [],
   "source": [
    "#hide\n",
    "dfc_cases = dft_cases.groupby('state')[dt_today].sum()\n",
    "dfc_deaths = dft_deaths.groupby('state')[dt_today].sum()\n",
    "dfp_cases = dft_cases.groupby('state')[dt_yday].sum()\n",
    "dfp_deaths = dft_deaths.groupby('state')[dt_yday].sum()"
   ]
  },
  {
   "cell_type": "code",
   "execution_count": 11,
   "metadata": {
    "execution": {
     "iopub.execute_input": "2020-12-05T12:50:59.091553Z",
     "iopub.status.busy": "2020-12-05T12:50:59.090960Z",
     "iopub.status.idle": "2020-12-05T12:50:59.097476Z",
     "shell.execute_reply": "2020-12-05T12:50:59.096991Z"
    },
    "papermill": {
     "duration": 0.033166,
     "end_time": "2020-12-05T12:50:59.097590",
     "exception": false,
     "start_time": "2020-12-05T12:50:59.064424",
     "status": "completed"
    },
    "tags": []
   },
   "outputs": [
    {
     "data": {
      "text/html": [
       "<div>\n",
       "<style scoped>\n",
       "    .dataframe tbody tr th:only-of-type {\n",
       "        vertical-align: middle;\n",
       "    }\n",
       "\n",
       "    .dataframe tbody tr th {\n",
       "        vertical-align: top;\n",
       "    }\n",
       "\n",
       "    .dataframe thead th {\n",
       "        text-align: right;\n",
       "    }\n",
       "</style>\n",
       "<table border=\"1\" class=\"dataframe\">\n",
       "  <thead>\n",
       "    <tr style=\"text-align: right;\">\n",
       "      <th></th>\n",
       "      <th>states</th>\n",
       "      <th>Cases</th>\n",
       "      <th>Deaths</th>\n",
       "      <th>PCases</th>\n",
       "      <th>PDeaths</th>\n",
       "    </tr>\n",
       "  </thead>\n",
       "  <tbody>\n",
       "    <tr>\n",
       "      <th>0</th>\n",
       "      <td>Maharashtra</td>\n",
       "      <td>1842587</td>\n",
       "      <td>47599</td>\n",
       "      <td>1842587</td>\n",
       "      <td>47599</td>\n",
       "    </tr>\n",
       "    <tr>\n",
       "      <th>1</th>\n",
       "      <td>Karnataka</td>\n",
       "      <td>890360</td>\n",
       "      <td>11834</td>\n",
       "      <td>890360</td>\n",
       "      <td>11834</td>\n",
       "    </tr>\n",
       "    <tr>\n",
       "      <th>2</th>\n",
       "      <td>Andhra Pradesh</td>\n",
       "      <td>870675</td>\n",
       "      <td>7020</td>\n",
       "      <td>870675</td>\n",
       "      <td>7020</td>\n",
       "    </tr>\n",
       "    <tr>\n",
       "      <th>3</th>\n",
       "      <td>Tamil Nadu</td>\n",
       "      <td>787554</td>\n",
       "      <td>11762</td>\n",
       "      <td>787554</td>\n",
       "      <td>11762</td>\n",
       "    </tr>\n",
       "    <tr>\n",
       "      <th>4</th>\n",
       "      <td>Kerala</td>\n",
       "      <td>625768</td>\n",
       "      <td>2359</td>\n",
       "      <td>625768</td>\n",
       "      <td>2359</td>\n",
       "    </tr>\n",
       "  </tbody>\n",
       "</table>\n",
       "</div>"
      ],
      "text/plain": [
       "           states    Cases  Deaths   PCases  PDeaths\n",
       "0     Maharashtra  1842587   47599  1842587    47599\n",
       "1       Karnataka   890360   11834   890360    11834\n",
       "2  Andhra Pradesh   870675    7020   870675     7020\n",
       "3      Tamil Nadu   787554   11762   787554    11762\n",
       "4          Kerala   625768    2359   625768     2359"
      ]
     },
     "execution_count": 11,
     "metadata": {},
     "output_type": "execute_result"
    }
   ],
   "source": [
    "#hide\n",
    "df_table = pd.DataFrame({'states': dfc_cases.index, 'Cases': dfc_cases.values, 'Deaths': dfc_deaths.values, 'PCases': dfp_cases.values, 'PDeaths': dfp_deaths.values}).set_index('states')\n",
    "df_table = df_table.sort_values(by = ['Cases','Deaths'], ascending = [False, False])\n",
    "df_table = df_table.reset_index()\n",
    "df_table.head()"
   ]
  },
  {
   "cell_type": "code",
   "execution_count": 12,
   "metadata": {
    "execution": {
     "iopub.execute_input": "2020-12-05T12:50:59.133270Z",
     "iopub.status.busy": "2020-12-05T12:50:59.132739Z",
     "iopub.status.idle": "2020-12-05T12:50:59.141914Z",
     "shell.execute_reply": "2020-12-05T12:50:59.141437Z"
    },
    "papermill": {
     "duration": 0.029741,
     "end_time": "2020-12-05T12:50:59.142031",
     "exception": false,
     "start_time": "2020-12-05T12:50:59.112290",
     "status": "completed"
    },
    "tags": []
   },
   "outputs": [],
   "source": [
    "#hide\n",
    "for c in 'Cases, Deaths'.split(', '):\n",
    "    df_table[f'{c} (+)'] = (df_table[c] - df_table[f'P{c}']).clip(0)\n",
    "df_table['Fatality Rate'] = (100* df_table['Deaths']/ df_table['Cases']).round(2)"
   ]
  },
  {
   "cell_type": "code",
   "execution_count": 13,
   "metadata": {
    "execution": {
     "iopub.execute_input": "2020-12-05T12:50:59.182647Z",
     "iopub.status.busy": "2020-12-05T12:50:59.182070Z",
     "iopub.status.idle": "2020-12-05T12:50:59.184518Z",
     "shell.execute_reply": "2020-12-05T12:50:59.184992Z"
    },
    "papermill": {
     "duration": 0.028513,
     "end_time": "2020-12-05T12:50:59.185123",
     "exception": false,
     "start_time": "2020-12-05T12:50:59.156610",
     "status": "completed"
    },
    "tags": []
   },
   "outputs": [
    {
     "data": {
      "text/html": [
       "<div>\n",
       "<style scoped>\n",
       "    .dataframe tbody tr th:only-of-type {\n",
       "        vertical-align: middle;\n",
       "    }\n",
       "\n",
       "    .dataframe tbody tr th {\n",
       "        vertical-align: top;\n",
       "    }\n",
       "\n",
       "    .dataframe thead th {\n",
       "        text-align: right;\n",
       "    }\n",
       "</style>\n",
       "<table border=\"1\" class=\"dataframe\">\n",
       "  <thead>\n",
       "    <tr style=\"text-align: right;\">\n",
       "      <th></th>\n",
       "      <th>states</th>\n",
       "      <th>Cases</th>\n",
       "      <th>Deaths</th>\n",
       "      <th>PCases</th>\n",
       "      <th>PDeaths</th>\n",
       "      <th>Cases (+)</th>\n",
       "      <th>Deaths (+)</th>\n",
       "      <th>Fatality Rate</th>\n",
       "    </tr>\n",
       "  </thead>\n",
       "  <tbody>\n",
       "    <tr>\n",
       "      <th>0</th>\n",
       "      <td>Maharashtra</td>\n",
       "      <td>1842587</td>\n",
       "      <td>47599</td>\n",
       "      <td>1842587</td>\n",
       "      <td>47599</td>\n",
       "      <td>0</td>\n",
       "      <td>0</td>\n",
       "      <td>2.58</td>\n",
       "    </tr>\n",
       "    <tr>\n",
       "      <th>1</th>\n",
       "      <td>Karnataka</td>\n",
       "      <td>890360</td>\n",
       "      <td>11834</td>\n",
       "      <td>890360</td>\n",
       "      <td>11834</td>\n",
       "      <td>0</td>\n",
       "      <td>0</td>\n",
       "      <td>1.33</td>\n",
       "    </tr>\n",
       "    <tr>\n",
       "      <th>2</th>\n",
       "      <td>Andhra Pradesh</td>\n",
       "      <td>870675</td>\n",
       "      <td>7020</td>\n",
       "      <td>870675</td>\n",
       "      <td>7020</td>\n",
       "      <td>0</td>\n",
       "      <td>0</td>\n",
       "      <td>0.81</td>\n",
       "    </tr>\n",
       "    <tr>\n",
       "      <th>3</th>\n",
       "      <td>Tamil Nadu</td>\n",
       "      <td>787554</td>\n",
       "      <td>11762</td>\n",
       "      <td>787554</td>\n",
       "      <td>11762</td>\n",
       "      <td>0</td>\n",
       "      <td>0</td>\n",
       "      <td>1.49</td>\n",
       "    </tr>\n",
       "    <tr>\n",
       "      <th>4</th>\n",
       "      <td>Kerala</td>\n",
       "      <td>625768</td>\n",
       "      <td>2359</td>\n",
       "      <td>625768</td>\n",
       "      <td>2359</td>\n",
       "      <td>0</td>\n",
       "      <td>0</td>\n",
       "      <td>0.38</td>\n",
       "    </tr>\n",
       "  </tbody>\n",
       "</table>\n",
       "</div>"
      ],
      "text/plain": [
       "           states    Cases  Deaths   PCases  PDeaths  Cases (+)  Deaths (+)  \\\n",
       "0     Maharashtra  1842587   47599  1842587    47599          0           0   \n",
       "1       Karnataka   890360   11834   890360    11834          0           0   \n",
       "2  Andhra Pradesh   870675    7020   870675     7020          0           0   \n",
       "3      Tamil Nadu   787554   11762   787554    11762          0           0   \n",
       "4          Kerala   625768    2359   625768     2359          0           0   \n",
       "\n",
       "   Fatality Rate  \n",
       "0           2.58  \n",
       "1           1.33  \n",
       "2           0.81  \n",
       "3           1.49  \n",
       "4           0.38  "
      ]
     },
     "execution_count": 13,
     "metadata": {},
     "output_type": "execute_result"
    }
   ],
   "source": [
    "#hide\n",
    "df_table.head()"
   ]
  },
  {
   "cell_type": "code",
   "execution_count": 14,
   "metadata": {
    "execution": {
     "iopub.execute_input": "2020-12-05T12:50:59.221422Z",
     "iopub.status.busy": "2020-12-05T12:50:59.220892Z",
     "iopub.status.idle": "2020-12-05T12:50:59.236419Z",
     "shell.execute_reply": "2020-12-05T12:50:59.236831Z"
    },
    "papermill": {
     "duration": 0.03657,
     "end_time": "2020-12-05T12:50:59.236957",
     "exception": false,
     "start_time": "2020-12-05T12:50:59.200387",
     "status": "completed"
    },
    "tags": []
   },
   "outputs": [
    {
     "data": {
      "text/plain": [
       "{'updated': '2020-12-05',\n",
       " 'since': '2020-12-04',\n",
       " 'Cases': 9609574,\n",
       " 'PCases': 9608519,\n",
       " 'Deaths': 139745,\n",
       " 'PDeaths': 139737,\n",
       " 'Cases (+)': 1055,\n",
       " 'Deaths (+)': 8}"
      ]
     },
     "execution_count": 14,
     "metadata": {},
     "output_type": "execute_result"
    }
   ],
   "source": [
    "#hide\n",
    "summary = {'updated':dates[-1], 'since':dates[-2]}\n",
    "list_names = ['Cases', 'PCases', 'Deaths', 'PDeaths', 'Cases (+)', 'Deaths (+)']\n",
    "for name in list_names:\n",
    "    summary[name] = df_table.sum()[name]\n",
    "summary"
   ]
  },
  {
   "cell_type": "code",
   "execution_count": 15,
   "metadata": {
    "execution": {
     "iopub.execute_input": "2020-12-05T12:50:59.269149Z",
     "iopub.status.busy": "2020-12-05T12:50:59.268589Z",
     "iopub.status.idle": "2020-12-05T12:50:59.270883Z",
     "shell.execute_reply": "2020-12-05T12:50:59.270424Z"
    },
    "papermill": {
     "duration": 0.020335,
     "end_time": "2020-12-05T12:50:59.271010",
     "exception": false,
     "start_time": "2020-12-05T12:50:59.250675",
     "status": "completed"
    },
    "tags": []
   },
   "outputs": [],
   "source": [
    "#hide\n",
    "overview = '''\n",
    "<!-- #######  HTML!! #########-->\n",
    "<h1 style=\"color: #5e9ca0; text-align: center;\">India</h1>\n",
    "<p style=\"text-align: center;\">Last update: <strong>{update}</strong></p>\n",
    "<p style=\"text-align: center;\">Confirmed cases:</p>\n",
    "<p style=\"text-align: center;font-size:24px;\">{cases} (<span style=\"color: #ff0000;\">+{new}</span>)</p>\n",
    "<p style=\"text-align: center;\">Confirmed deaths:</p>\n",
    "<p style=\"text-align: center;font-size:24px;\">{deaths} (<span style=\"color: #ff0000;\">+{dnew}</span>)</p>\n",
    "'''"
   ]
  },
  {
   "cell_type": "code",
   "execution_count": 16,
   "metadata": {
    "execution": {
     "iopub.execute_input": "2020-12-05T12:50:59.306084Z",
     "iopub.status.busy": "2020-12-05T12:50:59.305400Z",
     "iopub.status.idle": "2020-12-05T12:50:59.308504Z",
     "shell.execute_reply": "2020-12-05T12:50:59.308971Z"
    },
    "papermill": {
     "duration": 0.02389,
     "end_time": "2020-12-05T12:50:59.309098",
     "exception": false,
     "start_time": "2020-12-05T12:50:59.285208",
     "status": "completed"
    },
    "tags": []
   },
   "outputs": [
    {
     "data": {
      "text/html": [
       "\n",
       "<!-- #######  HTML!! #########-->\n",
       "<h1 style=\"color: #5e9ca0; text-align: center;\">India</h1>\n",
       "<p style=\"text-align: center;\">Last update: <strong>2020-12-05</strong></p>\n",
       "<p style=\"text-align: center;\">Confirmed cases:</p>\n",
       "<p style=\"text-align: center;font-size:24px;\">9609574 (<span style=\"color: #ff0000;\">+1055</span>)</p>\n",
       "<p style=\"text-align: center;\">Confirmed deaths:</p>\n",
       "<p style=\"text-align: center;font-size:24px;\">139745 (<span style=\"color: #ff0000;\">+8</span>)</p>\n"
      ],
      "text/plain": [
       "<IPython.core.display.HTML object>"
      ]
     },
     "metadata": {},
     "output_type": "display_data"
    }
   ],
   "source": [
    "#hide_input\n",
    "update = summary['updated']\n",
    "cases = summary['Cases']\n",
    "new = summary['Cases (+)']\n",
    "deaths = summary['Deaths']\n",
    "dnew = summary['Deaths (+)']\n",
    "\n",
    "html = HTML(overview.format(update=update, cases=cases,new=new,deaths=deaths,dnew=dnew))\n",
    "\n",
    "display(html)"
   ]
  },
  {
   "cell_type": "code",
   "execution_count": 17,
   "metadata": {
    "execution": {
     "iopub.execute_input": "2020-12-05T12:50:59.346289Z",
     "iopub.status.busy": "2020-12-05T12:50:59.345757Z",
     "iopub.status.idle": "2020-12-05T12:50:59.351619Z",
     "shell.execute_reply": "2020-12-05T12:50:59.351169Z"
    },
    "papermill": {
     "duration": 0.027182,
     "end_time": "2020-12-05T12:50:59.351722",
     "exception": false,
     "start_time": "2020-12-05T12:50:59.324540",
     "status": "completed"
    },
    "tags": []
   },
   "outputs": [],
   "source": [
    "#hide\n",
    "dt_cols = list(dft_cases.columns[1:])\n",
    "dft_ct_new_cases = dft_cases.groupby('state')[dt_cols].sum().diff(axis=1).fillna(0).astype(int)\n",
    "dft_ct_new_cases.sort_values(by = dates[-1], ascending = False,inplace = True)"
   ]
  },
  {
   "cell_type": "code",
   "execution_count": 18,
   "metadata": {
    "execution": {
     "iopub.execute_input": "2020-12-05T12:50:59.398018Z",
     "iopub.status.busy": "2020-12-05T12:50:59.397378Z",
     "iopub.status.idle": "2020-12-05T12:50:59.400605Z",
     "shell.execute_reply": "2020-12-05T12:50:59.400142Z"
    },
    "papermill": {
     "duration": 0.035043,
     "end_time": "2020-12-05T12:50:59.400729",
     "exception": false,
     "start_time": "2020-12-05T12:50:59.365686",
     "status": "completed"
    },
    "tags": []
   },
   "outputs": [
    {
     "data": {
      "text/html": [
       "<div>\n",
       "<style scoped>\n",
       "    .dataframe tbody tr th:only-of-type {\n",
       "        vertical-align: middle;\n",
       "    }\n",
       "\n",
       "    .dataframe tbody tr th {\n",
       "        vertical-align: top;\n",
       "    }\n",
       "\n",
       "    .dataframe thead th {\n",
       "        text-align: right;\n",
       "    }\n",
       "</style>\n",
       "<table border=\"1\" class=\"dataframe\">\n",
       "  <thead>\n",
       "    <tr style=\"text-align: right;\">\n",
       "      <th>states</th>\n",
       "      <th>2020-07-01</th>\n",
       "      <th>2020-07-02</th>\n",
       "      <th>2020-07-03</th>\n",
       "      <th>2020-07-04</th>\n",
       "      <th>2020-07-05</th>\n",
       "      <th>2020-07-06</th>\n",
       "      <th>2020-07-07</th>\n",
       "      <th>2020-07-08</th>\n",
       "      <th>2020-07-09</th>\n",
       "      <th>2020-07-10</th>\n",
       "      <th>...</th>\n",
       "      <th>2020-11-26</th>\n",
       "      <th>2020-11-27</th>\n",
       "      <th>2020-11-28</th>\n",
       "      <th>2020-11-29</th>\n",
       "      <th>2020-11-30</th>\n",
       "      <th>2020-12-01</th>\n",
       "      <th>2020-12-02</th>\n",
       "      <th>2020-12-03</th>\n",
       "      <th>2020-12-04</th>\n",
       "      <th>2020-12-05</th>\n",
       "    </tr>\n",
       "    <tr>\n",
       "      <th>state</th>\n",
       "      <th></th>\n",
       "      <th></th>\n",
       "      <th></th>\n",
       "      <th></th>\n",
       "      <th></th>\n",
       "      <th></th>\n",
       "      <th></th>\n",
       "      <th></th>\n",
       "      <th></th>\n",
       "      <th></th>\n",
       "      <th></th>\n",
       "      <th></th>\n",
       "      <th></th>\n",
       "      <th></th>\n",
       "      <th></th>\n",
       "      <th></th>\n",
       "      <th></th>\n",
       "      <th></th>\n",
       "      <th></th>\n",
       "      <th></th>\n",
       "      <th></th>\n",
       "    </tr>\n",
       "  </thead>\n",
       "  <tbody>\n",
       "    <tr>\n",
       "      <th>Telangana</th>\n",
       "      <td>0</td>\n",
       "      <td>1213</td>\n",
       "      <td>1892</td>\n",
       "      <td>1850</td>\n",
       "      <td>1590</td>\n",
       "      <td>1831</td>\n",
       "      <td>1879</td>\n",
       "      <td>1924</td>\n",
       "      <td>1410</td>\n",
       "      <td>1278</td>\n",
       "      <td>...</td>\n",
       "      <td>862</td>\n",
       "      <td>761</td>\n",
       "      <td>753</td>\n",
       "      <td>805</td>\n",
       "      <td>593</td>\n",
       "      <td>502</td>\n",
       "      <td>565</td>\n",
       "      <td>609</td>\n",
       "      <td>631</td>\n",
       "      <td>596</td>\n",
       "    </tr>\n",
       "    <tr>\n",
       "      <th>Odisha</th>\n",
       "      <td>0</td>\n",
       "      <td>229</td>\n",
       "      <td>561</td>\n",
       "      <td>495</td>\n",
       "      <td>469</td>\n",
       "      <td>456</td>\n",
       "      <td>571</td>\n",
       "      <td>527</td>\n",
       "      <td>577</td>\n",
       "      <td>755</td>\n",
       "      <td>...</td>\n",
       "      <td>644</td>\n",
       "      <td>594</td>\n",
       "      <td>550</td>\n",
       "      <td>518</td>\n",
       "      <td>418</td>\n",
       "      <td>378</td>\n",
       "      <td>480</td>\n",
       "      <td>434</td>\n",
       "      <td>377</td>\n",
       "      <td>409</td>\n",
       "    </tr>\n",
       "    <tr>\n",
       "      <th>Mizoram</th>\n",
       "      <td>0</td>\n",
       "      <td>2</td>\n",
       "      <td>0</td>\n",
       "      <td>2</td>\n",
       "      <td>22</td>\n",
       "      <td>11</td>\n",
       "      <td>1</td>\n",
       "      <td>5</td>\n",
       "      <td>0</td>\n",
       "      <td>23</td>\n",
       "      <td>...</td>\n",
       "      <td>20</td>\n",
       "      <td>23</td>\n",
       "      <td>18</td>\n",
       "      <td>17</td>\n",
       "      <td>2</td>\n",
       "      <td>22</td>\n",
       "      <td>22</td>\n",
       "      <td>12</td>\n",
       "      <td>7</td>\n",
       "      <td>25</td>\n",
       "    </tr>\n",
       "    <tr>\n",
       "      <th>Tripura</th>\n",
       "      <td>0</td>\n",
       "      <td>39</td>\n",
       "      <td>93</td>\n",
       "      <td>25</td>\n",
       "      <td>23</td>\n",
       "      <td>111</td>\n",
       "      <td>24</td>\n",
       "      <td>57</td>\n",
       "      <td>16</td>\n",
       "      <td>142</td>\n",
       "      <td>...</td>\n",
       "      <td>50</td>\n",
       "      <td>32</td>\n",
       "      <td>31</td>\n",
       "      <td>0</td>\n",
       "      <td>54</td>\n",
       "      <td>31</td>\n",
       "      <td>38</td>\n",
       "      <td>39</td>\n",
       "      <td>33</td>\n",
       "      <td>24</td>\n",
       "    </tr>\n",
       "    <tr>\n",
       "      <th>Dadra and Nagar Haveli and Daman and Diu</th>\n",
       "      <td>0</td>\n",
       "      <td>25</td>\n",
       "      <td>50</td>\n",
       "      <td>37</td>\n",
       "      <td>32</td>\n",
       "      <td>27</td>\n",
       "      <td>27</td>\n",
       "      <td>15</td>\n",
       "      <td>14</td>\n",
       "      <td>14</td>\n",
       "      <td>...</td>\n",
       "      <td>1</td>\n",
       "      <td>2</td>\n",
       "      <td>0</td>\n",
       "      <td>2</td>\n",
       "      <td>0</td>\n",
       "      <td>2</td>\n",
       "      <td>4</td>\n",
       "      <td>0</td>\n",
       "      <td>0</td>\n",
       "      <td>1</td>\n",
       "    </tr>\n",
       "  </tbody>\n",
       "</table>\n",
       "<p>5 rows × 158 columns</p>\n",
       "</div>"
      ],
      "text/plain": [
       "states                                    2020-07-01  2020-07-02  2020-07-03  \\\n",
       "state                                                                          \n",
       "Telangana                                          0        1213        1892   \n",
       "Odisha                                             0         229         561   \n",
       "Mizoram                                            0           2           0   \n",
       "Tripura                                            0          39          93   \n",
       "Dadra and Nagar Haveli and Daman and Diu           0          25          50   \n",
       "\n",
       "states                                    2020-07-04  2020-07-05  2020-07-06  \\\n",
       "state                                                                          \n",
       "Telangana                                       1850        1590        1831   \n",
       "Odisha                                           495         469         456   \n",
       "Mizoram                                            2          22          11   \n",
       "Tripura                                           25          23         111   \n",
       "Dadra and Nagar Haveli and Daman and Diu          37          32          27   \n",
       "\n",
       "states                                    2020-07-07  2020-07-08  2020-07-09  \\\n",
       "state                                                                          \n",
       "Telangana                                       1879        1924        1410   \n",
       "Odisha                                           571         527         577   \n",
       "Mizoram                                            1           5           0   \n",
       "Tripura                                           24          57          16   \n",
       "Dadra and Nagar Haveli and Daman and Diu          27          15          14   \n",
       "\n",
       "states                                    2020-07-10  ...  2020-11-26  \\\n",
       "state                                                 ...               \n",
       "Telangana                                       1278  ...         862   \n",
       "Odisha                                           755  ...         644   \n",
       "Mizoram                                           23  ...          20   \n",
       "Tripura                                          142  ...          50   \n",
       "Dadra and Nagar Haveli and Daman and Diu          14  ...           1   \n",
       "\n",
       "states                                    2020-11-27  2020-11-28  2020-11-29  \\\n",
       "state                                                                          \n",
       "Telangana                                        761         753         805   \n",
       "Odisha                                           594         550         518   \n",
       "Mizoram                                           23          18          17   \n",
       "Tripura                                           32          31           0   \n",
       "Dadra and Nagar Haveli and Daman and Diu           2           0           2   \n",
       "\n",
       "states                                    2020-11-30  2020-12-01  2020-12-02  \\\n",
       "state                                                                          \n",
       "Telangana                                        593         502         565   \n",
       "Odisha                                           418         378         480   \n",
       "Mizoram                                            2          22          22   \n",
       "Tripura                                           54          31          38   \n",
       "Dadra and Nagar Haveli and Daman and Diu           0           2           4   \n",
       "\n",
       "states                                    2020-12-03  2020-12-04  2020-12-05  \n",
       "state                                                                         \n",
       "Telangana                                        609         631         596  \n",
       "Odisha                                           434         377         409  \n",
       "Mizoram                                           12           7          25  \n",
       "Tripura                                           39          33          24  \n",
       "Dadra and Nagar Haveli and Daman and Diu           0           0           1  \n",
       "\n",
       "[5 rows x 158 columns]"
      ]
     },
     "execution_count": 18,
     "metadata": {},
     "output_type": "execute_result"
    }
   ],
   "source": [
    "#hide\n",
    "dft_ct_new_cases.head()"
   ]
  },
  {
   "cell_type": "code",
   "execution_count": 19,
   "metadata": {
    "execution": {
     "iopub.execute_input": "2020-12-05T12:50:59.457047Z",
     "iopub.status.busy": "2020-12-05T12:50:59.441578Z",
     "iopub.status.idle": "2020-12-05T12:51:04.597940Z",
     "shell.execute_reply": "2020-12-05T12:51:04.598381Z"
    },
    "papermill": {
     "duration": 5.181919,
     "end_time": "2020-12-05T12:51:04.598527",
     "exception": false,
     "start_time": "2020-12-05T12:50:59.416608",
     "status": "completed"
    },
    "tags": []
   },
   "outputs": [
    {
     "data": {
      "image/png": "[encoded data removed]",
      "text/plain": [
       "<Figure size 1296x2016 with 11 Axes>"
      ]
     },
     "metadata": {
      "needs_background": "light"
     },
     "output_type": "display_data"
    }
   ],
   "source": [
    "#hide_input\n",
    "df = dft_ct_new_cases.copy()\n",
    "df.loc['Total'] = df.sum()\n",
    "n = 5\n",
    "ax = []\n",
    "fig = plt.figure(figsize = (18,28))\n",
    "gs = fig.add_gridspec(n+2, 5)\n",
    "# gs = fig.add_gridspec(2, 3)\n",
    "ax1 = fig.add_subplot(gs[0, :])\n",
    "ef = df.loc['Total'].rename_axis('date').reset_index()\n",
    "ef['date'] = ef['date'].astype('datetime64[ns]')\n",
    "ax1.bar(ef.date,ef.Total,alpha=0.3,color='#007acc')\n",
    "ax1.plot(ef.date,ef.Total , marker=\"o\", color='#007acc')\n",
    "ax1.xaxis.set_major_locator(mdates.WeekdayLocator())\n",
    "ax1.xaxis.set_major_formatter(mdates.DateFormatter('%b %d'))\n",
    "ax1.text(0.02, 0.5,'India daily case count', transform = ax1.transAxes, fontsize=25);\n",
    "ax1.spines['right'].set_visible(False)\n",
    "ax1.spines['top'].set_visible(False)\n",
    "\n",
    "ax2 = fig.add_subplot(gs[1,0])\n",
    "ef = df.loc['Maharashtra'].rename_axis('date').reset_index()\n",
    "ef['date'] = ef['date'].astype('datetime64[ns]')\n",
    "\n",
    "ax2.bar(ef.date, ef.Maharashtra,color = '#007acc',alpha=0.5)\n",
    "ax2.xaxis.set_major_locator(mdates.WeekdayLocator())\n",
    "ax2.xaxis.set_major_formatter(mdates.DateFormatter('%b %d'))\n",
    "ax2.set_xticks(ax2.get_xticks()[::3])\n",
    "maxyval = ef.Maharashtra.max()\n",
    "ax2.set_ylim([0,maxyval])\n",
    "ax2.text(0.05, 0.9,'Maharashtra', transform = ax2.transAxes, fontsize=20);\n",
    "ax2.spines['right'].set_visible(False)\n",
    "ax2.spines['top'].set_visible(False)\n",
    "\n",
    "\n",
    "ax3 = fig.add_subplot(gs[1,1])\n",
    "ef = df.loc['Tamil Nadu'].rename_axis('date').reset_index()\n",
    "ef['date'] = ef['date'].astype('datetime64[ns]')\n",
    "ax3.bar(ef.date, ef['Tamil Nadu'],color = '#007acc',alpha=0.5,)\n",
    "ax3.xaxis.set_major_locator(mdates.WeekdayLocator())\n",
    "ax3.xaxis.set_major_formatter(mdates.DateFormatter('%b %d'))\n",
    "ax3.set_xticks(ax3.get_xticks()[::3])\n",
    "ax3.text(0.05, 0.9,'Tamil Nadu', transform = ax3.transAxes, fontsize=20);\n",
    "ax3.spines['right'].set_visible(False)\n",
    "ax3.spines['top'].set_visible(False)\n",
    "\n",
    "ax5 = fig.add_subplot(gs[1,3])\n",
    "ef = df.loc['Telangana'].rename_axis('date').reset_index()\n",
    "ef['date'] = ef['date'].astype('datetime64[ns]')\n",
    "ax5.bar(ef.date, ef['Telangana'],color = '#007acc',alpha=0.5,)\n",
    "ax5.xaxis.set_major_locator(mdates.WeekdayLocator())\n",
    "ax5.xaxis.set_major_formatter(mdates.DateFormatter('%b %d'))\n",
    "ax5.set_xticks(ax5.get_xticks()[::3])\n",
    "ax5.text(0.05, 0.9,'Telangana', transform = ax5.transAxes, fontsize=20);\n",
    "ax5.spines['right'].set_visible(False)\n",
    "ax5.spines['top'].set_visible(False)\n",
    "\n",
    "ax6 = fig.add_subplot(gs[1,4])\n",
    "ef = df.loc['Andhra Pradesh'].rename_axis('date').reset_index()\n",
    "ef['date'] = ef['date'].astype('datetime64[ns]')\n",
    "ax6.bar(ef.date, ef['Andhra Pradesh'],color = '#007acc',alpha=0.5,)\n",
    "ax6.xaxis.set_major_locator(mdates.WeekdayLocator())\n",
    "ax6.xaxis.set_major_formatter(mdates.DateFormatter('%b %d'))\n",
    "ax6.set_xticks(ax6.get_xticks()[::3])\n",
    "ax6.text(0.05, 1,'Andhra Pradesh', transform = ax6.transAxes, fontsize=20);\n",
    "ax6.spines['right'].set_visible(False)\n",
    "ax6.spines['top'].set_visible(False)\n",
    "\n",
    "ax4 = fig.add_subplot(gs[1,2])\n",
    "ef = df.loc['Delhi'].rename_axis('date').reset_index()\n",
    "ef['date'] = ef['date'].astype('datetime64[ns]')\n",
    "ax4.bar(ef.date, ef.Delhi,color = '#007acc',alpha=0.5)\n",
    "ax4.set_xticks([])\n",
    "ax4.xaxis.set_major_locator(mdates.WeekdayLocator())\n",
    "ax4.xaxis.set_major_formatter(mdates.DateFormatter('%b %d'))\n",
    "ax4.set_xticks(ax4.get_xticks()[::3])\n",
    "ax4.spines['right'].set_visible(False)\n",
    "ax4.spines['top'].set_visible(False)\n",
    "\n",
    "ax4.text(0.05, 1,'Delhi', transform = ax4.transAxes, fontsize=20)\n",
    "\n",
    "for i in range(n):\n",
    "    \n",
    "    ax.append(fig.add_subplot(gs[i+2,:]))\n",
    "    ef = df.iloc[i+3].rename_axis('date').reset_index()\n",
    "    ef['date'] = ef['date'].astype('datetime64[ns]')\n",
    "    ax[i].bar(ef.date,ef.iloc[:,-1],color = '#007acc',alpha=0.3)\n",
    "    ax[i].plot(ef.date,ef.iloc[:,-1],marker='o',color='#007acc')\n",
    "    ax[i].text(0.02,0.5,f'{ef.columns.values[-1]}',transform = ax[i].transAxes, fontsize = 20);\n",
    "    ax[i].xaxis.set_major_locator(mdates.WeekdayLocator())\n",
    "    ax[i].xaxis.set_major_formatter(mdates.DateFormatter('%b %d'))\n",
    "    ax[i].set_ylim([0,7000])\n",
    "    ax[i].spines['right'].set_visible(False)\n",
    "    ax[i].spines['top'].set_visible(False)\n",
    "plt.tight_layout()\n"
   ]
  },
  {
   "cell_type": "code",
   "execution_count": 20,
   "metadata": {
    "execution": {
     "iopub.execute_input": "2020-12-05T12:51:04.650252Z",
     "iopub.status.busy": "2020-12-05T12:51:04.649647Z",
     "iopub.status.idle": "2020-12-05T12:51:04.651826Z",
     "shell.execute_reply": "2020-12-05T12:51:04.652280Z"
    },
    "papermill": {
     "duration": 0.032273,
     "end_time": "2020-12-05T12:51:04.652416",
     "exception": false,
     "start_time": "2020-12-05T12:51:04.620143",
     "status": "completed"
    },
    "tags": []
   },
   "outputs": [
    {
     "name": "stdout",
     "output_type": "stream",
     "text": [
      "                                   states    Cases  Deaths   PCases  PDeaths  Cases (+)  Deaths (+)  Fatality Rate\n",
      "                              Maharashtra  1842587   47599  1842587    47599          0           0           2.58\n",
      "                                Karnataka   890360   11834   890360    11834          0           0           1.33\n",
      "                           Andhra Pradesh   870675    7020   870675     7020          0           0           0.81\n",
      "                               Tamil Nadu   787554   11762   787554    11762          0           0           1.49\n",
      "                                   Kerala   625768    2359   625768     2359          0           0           0.38\n",
      "                                    Delhi   586125    9497   586125     9497          0           0           1.62\n",
      "                            Uttar Pradesh   551179    7877   551179     7877          0           0           1.43\n",
      "                              West Bengal   496522    8628   496522     8628          0           0           1.74\n",
      "                                   Odisha   320803    1818   320394     1813        409           5           0.57\n",
      "                                Rajasthan   276420    2389   276420     2389          0           0           0.86\n",
      "                                Telangana   272719    1470   272123     1467        596           3           0.54\n",
      "                             Chhattisgarh   243997    2956   243997     2956          0           0           1.21\n",
      "                                  Haryana   240841    2539   240841     2539          0           0           1.05\n",
      "                                    Bihar   237968    1287   237968     1287          0           0           0.54\n",
      "                                  Gujarat   215819    4049   215819     4049          0           0           1.88\n",
      "                                    Assam   213505     987   213505      987          0           0           0.46\n",
      "                           Madhya Pradesh   211698    3314   211698     3314          0           0           1.57\n",
      "                                   Punjab   154788    4882   154788     4882          0           0           3.15\n",
      "                        Jammu and Kashmir   112256    1730   112256     1730          0           0           1.54\n",
      "                                Jharkhand   109990     978   109990      978          0           0           0.89\n",
      "                              Uttarakhand    76893    1273    76893     1273          0           0           1.66\n",
      "                                      Goa    48459     696    48459      696          0           0           1.44\n",
      "                         Himachal Pradesh    43500     698    43500      698          0           0           1.60\n",
      "                               Puducherry    37165     614    37165      614          0           0           1.65\n",
      "                                  Tripura    32857     369    32833      369         24           0           1.12\n",
      "                                  Manipur    25691     295    25691      295          0           0           1.15\n",
      "                               Chandigarh    17828     287    17828      287          0           0           1.61\n",
      "                        Arunachal Pradesh    16367      55    16367       55          0           0           0.34\n",
      "                                Meghalaya    12067     118    12067      118          0           0           0.98\n",
      "                                 Nagaland    11305      65    11305       65          0           0           0.57\n",
      "                                   Ladakh     8732     120     8732      120          0           0           1.37\n",
      "                                   Sikkim     5147     111     5147      111          0           0           2.16\n",
      "              Andaman and Nicobar Islands     4742      61     4742       61          0           0           1.29\n",
      "                                  Mizoram     3913       6     3888        6         25           0           0.15\n",
      " Dadra and Nagar Haveli and Daman and Diu     3334       2     3333        2          1           0           0.06\n",
      "                              Lakshadweep        0       0        0        0          0           0            NaN\n"
     ]
    }
   ],
   "source": [
    "#hide_input\n",
    "print(df_table.to_string(index=False))"
   ]
  },
  {
   "cell_type": "code",
   "execution_count": null,
   "metadata": {
    "papermill": {
     "duration": 0.022739,
     "end_time": "2020-12-05T12:51:04.696245",
     "exception": false,
     "start_time": "2020-12-05T12:51:04.673506",
     "status": "completed"
    },
    "tags": []
   },
   "outputs": [],
   "source": []
  },
  {
   "cell_type": "code",
   "execution_count": null,
   "metadata": {
    "papermill": {
     "duration": 0.021375,
     "end_time": "2020-12-05T12:51:04.746065",
     "exception": false,
     "start_time": "2020-12-05T12:51:04.724690",
     "status": "completed"
    },
    "tags": []
   },
   "outputs": [],
   "source": []
  }
 ],
 "metadata": {
  "kernelspec": {
   "display_name": "Python 3",
   "language": "python",
   "name": "python3"
  },
  "language_info": {
   "codemirror_mode": {
    "name": "ipython",
    "version": 3
   },
   "file_extension": ".py",
   "mimetype": "text/x-python",
   "name": "python",
   "nbconvert_exporter": "python",
   "pygments_lexer": "ipython3",
   "version": "3.6.12"
  },
  "papermill": {
   "duration": 13.300822,
   "end_time": "2020-12-05T12:51:06.272221",
   "environment_variables": {},
   "exception": null,
   "input_path": "latest.ipynb",
   "output_path": "latest.ipynb",
   "parameters": {},
   "start_time": "2020-12-05T12:50:52.971399",
   "version": "2.1.2"
  }
 },
 "nbformat": 4,
 "nbformat_minor": 4
}