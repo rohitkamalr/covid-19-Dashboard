{
 "cells": [
  {
   "cell_type": "markdown",
   "metadata": {
    "papermill": {
     "duration": 0.017723,
     "end_time": "2020-08-11T05:51:46.870193",
     "exception": false,
     "start_time": "2020-08-11T05:51:46.852470",
     "status": "completed"
    },
    "tags": []
   },
   "source": [
    "# Latest COVID-19 India Matplotlib Overview"
   ]
  },
  {
   "cell_type": "code",
   "execution_count": 1,
   "metadata": {
    "execution": {
     "iopub.execute_input": "2020-08-11T05:51:47.173775Z",
     "iopub.status.busy": "2020-08-11T05:51:47.173186Z",
     "iopub.status.idle": "2020-08-11T05:51:47.731565Z",
     "shell.execute_reply": "2020-08-11T05:51:47.730946Z"
    },
    "papermill": {
     "duration": 0.582521,
     "end_time": "2020-08-11T05:51:47.731741",
     "exception": false,
     "start_time": "2020-08-11T05:51:47.149220",
     "status": "completed"
    },
    "tags": []
   },
   "outputs": [],
   "source": [
    "#hide\n",
    "import pandas as pd\n",
    "import numpy as np\n",
    "import requests\n",
    "import json\n",
    "import matplotlib.pyplot as plt\n",
    "import matplotlib.dates as mdates\n",
    "import matplotlib as mpl\n",
    "from IPython.core.display import display,HTML\n",
    "%matplotlib inline\n",
    "from datetime import date"
   ]
  },
  {
   "cell_type": "code",
   "execution_count": 2,
   "metadata": {
    "execution": {
     "iopub.execute_input": "2020-08-11T05:51:47.772721Z",
     "iopub.status.busy": "2020-08-11T05:51:47.772090Z",
     "iopub.status.idle": "2020-08-11T05:51:47.879981Z",
     "shell.execute_reply": "2020-08-11T05:51:47.880448Z"
    },
    "papermill": {
     "duration": 0.132252,
     "end_time": "2020-08-11T05:51:47.880606",
     "exception": false,
     "start_time": "2020-08-11T05:51:47.748354",
     "status": "completed"
    },
    "tags": []
   },
   "outputs": [],
   "source": [
    "#hide\n",
    "df  = pd.read_csv('https://api.covid19india.org/csv/latest/states.csv')\n",
    "df = df[['Date','State','Confirmed','Deceased']]\n",
    "df = df.rename(columns={'Confirmed':'Cases', \"Deceased\":'Deaths'})\n",
    "df_cases = df[[\"Date\",'State','Cases']]\n",
    "df_deaths = df[['Date','State','Deaths']]\n",
    "df_cases1 = df_cases.groupby('Date')\n",
    "df_deaths1= df_deaths.groupby('Date')"
   ]
  },
  {
   "cell_type": "code",
   "execution_count": 3,
   "metadata": {
    "execution": {
     "iopub.execute_input": "2020-08-11T05:51:47.916182Z",
     "iopub.status.busy": "2020-08-11T05:51:47.915599Z",
     "iopub.status.idle": "2020-08-11T05:51:47.935676Z",
     "shell.execute_reply": "2020-08-11T05:51:47.935173Z"
    },
    "papermill": {
     "duration": 0.040503,
     "end_time": "2020-08-11T05:51:47.935812",
     "exception": false,
     "start_time": "2020-08-11T05:51:47.895309",
     "status": "completed"
    },
    "tags": []
   },
   "outputs": [],
   "source": [
    "#hide\n",
    "df_snap = pd.read_csv('data/SnapshotCases-28-July.csv')\n",
    "arr_states = df_snap['states'].unique()\n",
    "arr_dates = df['Date'].unique()\n",
    "df_snap = df_snap.set_index('states')"
   ]
  },
  {
   "cell_type": "code",
   "execution_count": 4,
   "metadata": {
    "execution": {
     "iopub.execute_input": "2020-08-11T05:51:47.973756Z",
     "iopub.status.busy": "2020-08-11T05:51:47.973158Z",
     "iopub.status.idle": "2020-08-11T05:51:47.976192Z",
     "shell.execute_reply": "2020-08-11T05:51:47.975729Z"
    },
    "papermill": {
     "duration": 0.025947,
     "end_time": "2020-08-11T05:51:47.976317",
     "exception": false,
     "start_time": "2020-08-11T05:51:47.950370",
     "status": "completed"
    },
    "tags": []
   },
   "outputs": [
    {
     "data": {
      "text/plain": [
       "array(['Andaman and Nicobar Islands', 'Andhra Pradesh',\n",
       "       'Arunachal Pradesh', 'Assam', 'Bihar', 'Chandigarh',\n",
       "       'Dadra and Nagar Haveli and Daman and Diu', 'Delhi', 'Goa',\n",
       "       'Gujarat', 'Haryana', 'Himachal Pradesh', 'Jammu and Kashmir',\n",
       "       'Jharkhand', 'Karnataka', 'Kerala', 'Lakshadweep',\n",
       "       'Madhya Pradesh', 'Maharashtra', 'Manipur', 'Meghalaya', 'Mizoram',\n",
       "       'Nagaland', 'Odisha', 'Puducherry', 'Punjab', 'Rajasthan',\n",
       "       'Sikkim', 'Tamil Nadu', 'Telangana', 'Tripura', 'Uttar Pradesh',\n",
       "       'West Bengal', 'Chhattisgarh', 'Ladakh', 'Uttarakhand'],\n",
       "      dtype=object)"
      ]
     },
     "execution_count": 4,
     "metadata": {},
     "output_type": "execute_result"
    }
   ],
   "source": [
    "#hide\n",
    "arr_states[-9] = 'Puducherry'\n",
    "arr_states[-10] = 'Odisha'\n",
    "arr_states[6] = 'Dadra and Nagar Haveli and Daman and Diu'\n",
    "arr_states = np.append(arr_states,np.array(['Chhattisgarh','Ladakh','Uttarakhand']))\n",
    "arr_states"
   ]
  },
  {
   "cell_type": "code",
   "execution_count": 5,
   "metadata": {
    "execution": {
     "iopub.execute_input": "2020-08-11T05:51:48.015485Z",
     "iopub.status.busy": "2020-08-11T05:51:48.014892Z",
     "iopub.status.idle": "2020-08-11T05:51:48.024602Z",
     "shell.execute_reply": "2020-08-11T05:51:48.024102Z"
    },
    "papermill": {
     "duration": 0.033152,
     "end_time": "2020-08-11T05:51:48.024727",
     "exception": false,
     "start_time": "2020-08-11T05:51:47.991575",
     "status": "completed"
    },
    "tags": []
   },
   "outputs": [],
   "source": [
    "#hide\n",
    "dates = []\n",
    "for i in arr_dates:\n",
    "    if i>='2020-07-01':\n",
    "        dates.append(i)\n",
    "dict = {'states':dates}\n",
    "for i in arr_states:\n",
    "    dict[i] = [0]*len(dates)\n",
    "dft_cases = pd.DataFrame(dict)\n",
    "dft_deaths = pd.DataFrame(dict)\n"
   ]
  },
  {
   "cell_type": "code",
   "execution_count": 6,
   "metadata": {
    "execution": {
     "iopub.execute_input": "2020-08-11T05:51:48.063056Z",
     "iopub.status.busy": "2020-08-11T05:51:48.062370Z",
     "iopub.status.idle": "2020-08-11T05:51:48.603339Z",
     "shell.execute_reply": "2020-08-11T05:51:48.602789Z"
    },
    "papermill": {
     "duration": 0.563243,
     "end_time": "2020-08-11T05:51:48.603499",
     "exception": false,
     "start_time": "2020-08-11T05:51:48.040256",
     "status": "completed"
    },
    "tags": []
   },
   "outputs": [],
   "source": [
    "#hide\n",
    "for i in range(len(dates)):\n",
    "    df1_deaths = df_deaths1.get_group(dates[i])\n",
    "    for j in range(len(df1_deaths.index)):\n",
    "        if df1_deaths.iloc[j,1] in arr_states:\n",
    "            dft_deaths.loc[i,df1_deaths.iloc[j,1]] = df1_deaths.iloc[j,2]\n",
    "dft_deaths = dft_deaths.set_index('states')"
   ]
  },
  {
   "cell_type": "code",
   "execution_count": 7,
   "metadata": {
    "execution": {
     "iopub.execute_input": "2020-08-11T05:51:48.641657Z",
     "iopub.status.busy": "2020-08-11T05:51:48.641104Z",
     "iopub.status.idle": "2020-08-11T05:51:49.204554Z",
     "shell.execute_reply": "2020-08-11T05:51:49.203675Z"
    },
    "papermill": {
     "duration": 0.586249,
     "end_time": "2020-08-11T05:51:49.204775",
     "exception": false,
     "start_time": "2020-08-11T05:51:48.618526",
     "status": "completed"
    },
    "tags": []
   },
   "outputs": [],
   "source": [
    "#hide\n",
    "for i in range(len(dates)):\n",
    "    df1_cases = df_cases1.get_group(dates[i])\n",
    "    for j in range(len(df1_cases.index)):\n",
    "        if df1_cases.iloc[j,1] in arr_states:\n",
    "            dft_cases.loc[i,df1_cases.iloc[j,1]] = df1_cases.iloc[j,2]\n",
    "dft_cases = dft_cases.set_index('states')"
   ]
  },
  {
   "cell_type": "code",
   "execution_count": 8,
   "metadata": {
    "execution": {
     "iopub.execute_input": "2020-08-11T05:51:49.245387Z",
     "iopub.status.busy": "2020-08-11T05:51:49.244037Z",
     "iopub.status.idle": "2020-08-11T05:51:49.246059Z",
     "shell.execute_reply": "2020-08-11T05:51:49.246657Z"
    },
    "papermill": {
     "duration": 0.024515,
     "end_time": "2020-08-11T05:51:49.246801",
     "exception": false,
     "start_time": "2020-08-11T05:51:49.222286",
     "status": "completed"
    },
    "tags": []
   },
   "outputs": [],
   "source": [
    "#hide\n",
    "dft_cases = dft_cases.T\n",
    "dft_deaths = dft_deaths.T\n",
    "dt_today = dates[-1]\n",
    "dt_yday = dates[-2]"
   ]
  },
  {
   "cell_type": "code",
   "execution_count": 9,
   "metadata": {
    "execution": {
     "iopub.execute_input": "2020-08-11T05:51:49.282763Z",
     "iopub.status.busy": "2020-08-11T05:51:49.282221Z",
     "iopub.status.idle": "2020-08-11T05:51:49.286125Z",
     "shell.execute_reply": "2020-08-11T05:51:49.285028Z"
    },
    "papermill": {
     "duration": 0.024771,
     "end_time": "2020-08-11T05:51:49.286255",
     "exception": false,
     "start_time": "2020-08-11T05:51:49.261484",
     "status": "completed"
    },
    "tags": []
   },
   "outputs": [],
   "source": [
    "#hide\n",
    "dft_cases = dft_cases.reset_index()\n",
    "dft_deaths = dft_deaths.reset_index()\n",
    "dft_cases = dft_cases.rename(columns = {'index':'state'})\n",
    "dft_deaths = dft_deaths.rename(columns = {'index':'state'})"
   ]
  },
  {
   "cell_type": "code",
   "execution_count": 10,
   "metadata": {
    "execution": {
     "iopub.execute_input": "2020-08-11T05:51:49.324863Z",
     "iopub.status.busy": "2020-08-11T05:51:49.324278Z",
     "iopub.status.idle": "2020-08-11T05:51:49.328060Z",
     "shell.execute_reply": "2020-08-11T05:51:49.327497Z"
    },
    "papermill": {
     "duration": 0.027978,
     "end_time": "2020-08-11T05:51:49.328190",
     "exception": false,
     "start_time": "2020-08-11T05:51:49.300212",
     "status": "completed"
    },
    "tags": []
   },
   "outputs": [],
   "source": [
    "#hide\n",
    "dfc_cases = dft_cases.groupby('state')[dt_today].sum()\n",
    "dfc_deaths = dft_deaths.groupby('state')[dt_today].sum()\n",
    "dfp_cases = dft_cases.groupby('state')[dt_yday].sum()\n",
    "dfp_deaths = dft_deaths.groupby('state')[dt_yday].sum()"
   ]
  },
  {
   "cell_type": "code",
   "execution_count": 11,
   "metadata": {
    "execution": {
     "iopub.execute_input": "2020-08-11T05:51:49.374011Z",
     "iopub.status.busy": "2020-08-11T05:51:49.373424Z",
     "iopub.status.idle": "2020-08-11T05:51:49.377992Z",
     "shell.execute_reply": "2020-08-11T05:51:49.378434Z"
    },
    "papermill": {
     "duration": 0.035701,
     "end_time": "2020-08-11T05:51:49.378565",
     "exception": false,
     "start_time": "2020-08-11T05:51:49.342864",
     "status": "completed"
    },
    "tags": []
   },
   "outputs": [
    {
     "data": {
      "text/html": [
       "<div>\n",
       "<style scoped>\n",
       "    .dataframe tbody tr th:only-of-type {\n",
       "        vertical-align: middle;\n",
       "    }\n",
       "\n",
       "    .dataframe tbody tr th {\n",
       "        vertical-align: top;\n",
       "    }\n",
       "\n",
       "    .dataframe thead th {\n",
       "        text-align: right;\n",
       "    }\n",
       "</style>\n",
       "<table border=\"1\" class=\"dataframe\">\n",
       "  <thead>\n",
       "    <tr style=\"text-align: right;\">\n",
       "      <th></th>\n",
       "      <th>states</th>\n",
       "      <th>Cases</th>\n",
       "      <th>Deaths</th>\n",
       "      <th>PCases</th>\n",
       "      <th>PDeaths</th>\n",
       "    </tr>\n",
       "  </thead>\n",
       "  <tbody>\n",
       "    <tr>\n",
       "      <th>0</th>\n",
       "      <td>Maharashtra</td>\n",
       "      <td>524513</td>\n",
       "      <td>18050</td>\n",
       "      <td>524513</td>\n",
       "      <td>18050</td>\n",
       "    </tr>\n",
       "    <tr>\n",
       "      <th>1</th>\n",
       "      <td>Tamil Nadu</td>\n",
       "      <td>302815</td>\n",
       "      <td>5041</td>\n",
       "      <td>302815</td>\n",
       "      <td>5041</td>\n",
       "    </tr>\n",
       "    <tr>\n",
       "      <th>2</th>\n",
       "      <td>Andhra Pradesh</td>\n",
       "      <td>235525</td>\n",
       "      <td>2116</td>\n",
       "      <td>235525</td>\n",
       "      <td>2116</td>\n",
       "    </tr>\n",
       "    <tr>\n",
       "      <th>3</th>\n",
       "      <td>Karnataka</td>\n",
       "      <td>182354</td>\n",
       "      <td>3312</td>\n",
       "      <td>182354</td>\n",
       "      <td>3312</td>\n",
       "    </tr>\n",
       "    <tr>\n",
       "      <th>4</th>\n",
       "      <td>Delhi</td>\n",
       "      <td>146134</td>\n",
       "      <td>4131</td>\n",
       "      <td>146134</td>\n",
       "      <td>4131</td>\n",
       "    </tr>\n",
       "  </tbody>\n",
       "</table>\n",
       "</div>"
      ],
      "text/plain": [
       "           states   Cases  Deaths  PCases  PDeaths\n",
       "0     Maharashtra  524513   18050  524513    18050\n",
       "1      Tamil Nadu  302815    5041  302815     5041\n",
       "2  Andhra Pradesh  235525    2116  235525     2116\n",
       "3       Karnataka  182354    3312  182354     3312\n",
       "4           Delhi  146134    4131  146134     4131"
      ]
     },
     "execution_count": 11,
     "metadata": {},
     "output_type": "execute_result"
    }
   ],
   "source": [
    "#hide\n",
    "df_table = pd.DataFrame({'states': dfc_cases.index, 'Cases': dfc_cases.values, 'Deaths': dfc_deaths.values, 'PCases': dfp_cases.values, 'PDeaths': dfp_deaths.values}).set_index('states')\n",
    "df_table = df_table.sort_values(by = ['Cases','Deaths'], ascending = [False, False])\n",
    "df_table = df_table.reset_index()\n",
    "df_table.head()"
   ]
  },
  {
   "cell_type": "code",
   "execution_count": 12,
   "metadata": {
    "execution": {
     "iopub.execute_input": "2020-08-11T05:51:49.415020Z",
     "iopub.status.busy": "2020-08-11T05:51:49.414434Z",
     "iopub.status.idle": "2020-08-11T05:51:49.422178Z",
     "shell.execute_reply": "2020-08-11T05:51:49.422569Z"
    },
    "papermill": {
     "duration": 0.02861,
     "end_time": "2020-08-11T05:51:49.422686",
     "exception": false,
     "start_time": "2020-08-11T05:51:49.394076",
     "status": "completed"
    },
    "tags": []
   },
   "outputs": [],
   "source": [
    "#hide\n",
    "for c in 'Cases, Deaths'.split(', '):\n",
    "    df_table[f'{c} (+)'] = (df_table[c] - df_table[f'P{c}']).clip(0)\n",
    "df_table['Fatality Rate'] = (100* df_table['Deaths']/ df_table['Cases']).round(2)"
   ]
  },
  {
   "cell_type": "code",
   "execution_count": 13,
   "metadata": {
    "execution": {
     "iopub.execute_input": "2020-08-11T05:51:49.463760Z",
     "iopub.status.busy": "2020-08-11T05:51:49.463166Z",
     "iopub.status.idle": "2020-08-11T05:51:49.466847Z",
     "shell.execute_reply": "2020-08-11T05:51:49.466131Z"
    },
    "papermill": {
     "duration": 0.029069,
     "end_time": "2020-08-11T05:51:49.466969",
     "exception": false,
     "start_time": "2020-08-11T05:51:49.437900",
     "status": "completed"
    },
    "tags": []
   },
   "outputs": [
    {
     "data": {
      "text/html": [
       "<div>\n",
       "<style scoped>\n",
       "    .dataframe tbody tr th:only-of-type {\n",
       "        vertical-align: middle;\n",
       "    }\n",
       "\n",
       "    .dataframe tbody tr th {\n",
       "        vertical-align: top;\n",
       "    }\n",
       "\n",
       "    .dataframe thead th {\n",
       "        text-align: right;\n",
       "    }\n",
       "</style>\n",
       "<table border=\"1\" class=\"dataframe\">\n",
       "  <thead>\n",
       "    <tr style=\"text-align: right;\">\n",
       "      <th></th>\n",
       "      <th>states</th>\n",
       "      <th>Cases</th>\n",
       "      <th>Deaths</th>\n",
       "      <th>PCases</th>\n",
       "      <th>PDeaths</th>\n",
       "      <th>Cases (+)</th>\n",
       "      <th>Deaths (+)</th>\n",
       "      <th>Fatality Rate</th>\n",
       "    </tr>\n",
       "  </thead>\n",
       "  <tbody>\n",
       "    <tr>\n",
       "      <th>0</th>\n",
       "      <td>Maharashtra</td>\n",
       "      <td>524513</td>\n",
       "      <td>18050</td>\n",
       "      <td>524513</td>\n",
       "      <td>18050</td>\n",
       "      <td>0</td>\n",
       "      <td>0</td>\n",
       "      <td>3.44</td>\n",
       "    </tr>\n",
       "    <tr>\n",
       "      <th>1</th>\n",
       "      <td>Tamil Nadu</td>\n",
       "      <td>302815</td>\n",
       "      <td>5041</td>\n",
       "      <td>302815</td>\n",
       "      <td>5041</td>\n",
       "      <td>0</td>\n",
       "      <td>0</td>\n",
       "      <td>1.66</td>\n",
       "    </tr>\n",
       "    <tr>\n",
       "      <th>2</th>\n",
       "      <td>Andhra Pradesh</td>\n",
       "      <td>235525</td>\n",
       "      <td>2116</td>\n",
       "      <td>235525</td>\n",
       "      <td>2116</td>\n",
       "      <td>0</td>\n",
       "      <td>0</td>\n",
       "      <td>0.90</td>\n",
       "    </tr>\n",
       "    <tr>\n",
       "      <th>3</th>\n",
       "      <td>Karnataka</td>\n",
       "      <td>182354</td>\n",
       "      <td>3312</td>\n",
       "      <td>182354</td>\n",
       "      <td>3312</td>\n",
       "      <td>0</td>\n",
       "      <td>0</td>\n",
       "      <td>1.82</td>\n",
       "    </tr>\n",
       "    <tr>\n",
       "      <th>4</th>\n",
       "      <td>Delhi</td>\n",
       "      <td>146134</td>\n",
       "      <td>4131</td>\n",
       "      <td>146134</td>\n",
       "      <td>4131</td>\n",
       "      <td>0</td>\n",
       "      <td>0</td>\n",
       "      <td>2.83</td>\n",
       "    </tr>\n",
       "  </tbody>\n",
       "</table>\n",
       "</div>"
      ],
      "text/plain": [
       "           states   Cases  Deaths  PCases  PDeaths  Cases (+)  Deaths (+)  \\\n",
       "0     Maharashtra  524513   18050  524513    18050          0           0   \n",
       "1      Tamil Nadu  302815    5041  302815     5041          0           0   \n",
       "2  Andhra Pradesh  235525    2116  235525     2116          0           0   \n",
       "3       Karnataka  182354    3312  182354     3312          0           0   \n",
       "4           Delhi  146134    4131  146134     4131          0           0   \n",
       "\n",
       "   Fatality Rate  \n",
       "0           3.44  \n",
       "1           1.66  \n",
       "2           0.90  \n",
       "3           1.82  \n",
       "4           2.83  "
      ]
     },
     "execution_count": 13,
     "metadata": {},
     "output_type": "execute_result"
    }
   ],
   "source": [
    "#hide\n",
    "df_table.head()"
   ]
  },
  {
   "cell_type": "code",
   "execution_count": 14,
   "metadata": {
    "execution": {
     "iopub.execute_input": "2020-08-11T05:51:49.518952Z",
     "iopub.status.busy": "2020-08-11T05:51:49.516255Z",
     "iopub.status.idle": "2020-08-11T05:51:49.522440Z",
     "shell.execute_reply": "2020-08-11T05:51:49.522857Z"
    },
    "papermill": {
     "duration": 0.039507,
     "end_time": "2020-08-11T05:51:49.523001",
     "exception": false,
     "start_time": "2020-08-11T05:51:49.483494",
     "status": "completed"
    },
    "tags": []
   },
   "outputs": [
    {
     "data": {
      "text/plain": [
       "{'updated': '2020-08-11',\n",
       " 'since': '2020-08-10',\n",
       " 'Cases': 2270393,\n",
       " 'PCases': 2267153,\n",
       " 'Deaths': 45373,\n",
       " 'PDeaths': 45353,\n",
       " 'Cases (+)': 3240,\n",
       " 'Deaths (+)': 20}"
      ]
     },
     "execution_count": 14,
     "metadata": {},
     "output_type": "execute_result"
    }
   ],
   "source": [
    "#hide\n",
    "summary = {'updated':dates[-1], 'since':dates[-2]}\n",
    "list_names = ['Cases', 'PCases', 'Deaths', 'PDeaths', 'Cases (+)', 'Deaths (+)']\n",
    "for name in list_names:\n",
    "    summary[name] = df_table.sum()[name]\n",
    "summary"
   ]
  },
  {
   "cell_type": "code",
   "execution_count": 15,
   "metadata": {
    "execution": {
     "iopub.execute_input": "2020-08-11T05:51:49.564616Z",
     "iopub.status.busy": "2020-08-11T05:51:49.564065Z",
     "iopub.status.idle": "2020-08-11T05:51:49.566293Z",
     "shell.execute_reply": "2020-08-11T05:51:49.566902Z"
    },
    "papermill": {
     "duration": 0.022532,
     "end_time": "2020-08-11T05:51:49.567047",
     "exception": false,
     "start_time": "2020-08-11T05:51:49.544515",
     "status": "completed"
    },
    "tags": []
   },
   "outputs": [],
   "source": [
    "#hide\n",
    "overview = '''\n",
    "<!-- #######  HTML!! #########-->\n",
    "<h1 style=\"color: #5e9ca0; text-align: center;\">India</h1>\n",
    "<p style=\"text-align: center;\">Last update: <strong>{update}</strong></p>\n",
    "<p style=\"text-align: center;\">Confirmed cases:</p>\n",
    "<p style=\"text-align: center;font-size:24px;\">{cases} (<span style=\"color: #ff0000;\">+{new}</span>)</p>\n",
    "<p style=\"text-align: center;\">Confirmed deaths:</p>\n",
    "<p style=\"text-align: center;font-size:24px;\">{deaths} (<span style=\"color: #ff0000;\">+{dnew}</span>)</p>\n",
    "'''"
   ]
  },
  {
   "cell_type": "code",
   "execution_count": 16,
   "metadata": {
    "execution": {
     "iopub.execute_input": "2020-08-11T05:51:49.604369Z",
     "iopub.status.busy": "2020-08-11T05:51:49.603830Z",
     "iopub.status.idle": "2020-08-11T05:51:49.608276Z",
     "shell.execute_reply": "2020-08-11T05:51:49.607817Z"
    },
    "papermill": {
     "duration": 0.026975,
     "end_time": "2020-08-11T05:51:49.608389",
     "exception": false,
     "start_time": "2020-08-11T05:51:49.581414",
     "status": "completed"
    },
    "tags": []
   },
   "outputs": [
    {
     "data": {
      "text/html": [
       "\n",
       "<!-- #######  HTML!! #########-->\n",
       "<h1 style=\"color: #5e9ca0; text-align: center;\">India</h1>\n",
       "<p style=\"text-align: center;\">Last update: <strong>2020-08-11</strong></p>\n",
       "<p style=\"text-align: center;\">Confirmed cases:</p>\n",
       "<p style=\"text-align: center;font-size:24px;\">2270393 (<span style=\"color: #ff0000;\">+3240</span>)</p>\n",
       "<p style=\"text-align: center;\">Confirmed deaths:</p>\n",
       "<p style=\"text-align: center;font-size:24px;\">45373 (<span style=\"color: #ff0000;\">+20</span>)</p>\n"
      ],
      "text/plain": [
       "<IPython.core.display.HTML object>"
      ]
     },
     "metadata": {},
     "output_type": "display_data"
    }
   ],
   "source": [
    "#hide_input\n",
    "update = summary['updated']\n",
    "cases = summary['Cases']\n",
    "new = summary['Cases (+)']\n",
    "deaths = summary['Deaths']\n",
    "dnew = summary['Deaths (+)']\n",
    "\n",
    "html = HTML(overview.format(update=update, cases=cases,new=new,deaths=deaths,dnew=dnew))\n",
    "\n",
    "display(html)"
   ]
  },
  {
   "cell_type": "code",
   "execution_count": 17,
   "metadata": {
    "execution": {
     "iopub.execute_input": "2020-08-11T05:51:49.651634Z",
     "iopub.status.busy": "2020-08-11T05:51:49.651039Z",
     "iopub.status.idle": "2020-08-11T05:51:49.653504Z",
     "shell.execute_reply": "2020-08-11T05:51:49.653000Z"
    },
    "papermill": {
     "duration": 0.028793,
     "end_time": "2020-08-11T05:51:49.653616",
     "exception": false,
     "start_time": "2020-08-11T05:51:49.624823",
     "status": "completed"
    },
    "tags": []
   },
   "outputs": [],
   "source": [
    "#hide\n",
    "dt_cols = list(dft_cases.columns[1:])\n",
    "dft_ct_new_cases = dft_cases.groupby('state')[dt_cols].sum().diff(axis=1).fillna(0).astype(int)\n",
    "dft_ct_new_cases.sort_values(by = dates[-1], ascending = False,inplace = True)"
   ]
  },
  {
   "cell_type": "code",
   "execution_count": 18,
   "metadata": {
    "execution": {
     "iopub.execute_input": "2020-08-11T05:51:49.694278Z",
     "iopub.status.busy": "2020-08-11T05:51:49.693690Z",
     "iopub.status.idle": "2020-08-11T05:51:49.703334Z",
     "shell.execute_reply": "2020-08-11T05:51:49.703772Z"
    },
    "papermill": {
     "duration": 0.03431,
     "end_time": "2020-08-11T05:51:49.703901",
     "exception": false,
     "start_time": "2020-08-11T05:51:49.669591",
     "status": "completed"
    },
    "tags": []
   },
   "outputs": [
    {
     "data": {
      "text/html": [
       "<div>\n",
       "<style scoped>\n",
       "    .dataframe tbody tr th:only-of-type {\n",
       "        vertical-align: middle;\n",
       "    }\n",
       "\n",
       "    .dataframe tbody tr th {\n",
       "        vertical-align: top;\n",
       "    }\n",
       "\n",
       "    .dataframe thead th {\n",
       "        text-align: right;\n",
       "    }\n",
       "</style>\n",
       "<table border=\"1\" class=\"dataframe\">\n",
       "  <thead>\n",
       "    <tr style=\"text-align: right;\">\n",
       "      <th>states</th>\n",
       "      <th>2020-07-01</th>\n",
       "      <th>2020-07-02</th>\n",
       "      <th>2020-07-03</th>\n",
       "      <th>2020-07-04</th>\n",
       "      <th>2020-07-05</th>\n",
       "      <th>2020-07-06</th>\n",
       "      <th>2020-07-07</th>\n",
       "      <th>2020-07-08</th>\n",
       "      <th>2020-07-09</th>\n",
       "      <th>2020-07-10</th>\n",
       "      <th>...</th>\n",
       "      <th>2020-08-02</th>\n",
       "      <th>2020-08-03</th>\n",
       "      <th>2020-08-04</th>\n",
       "      <th>2020-08-05</th>\n",
       "      <th>2020-08-06</th>\n",
       "      <th>2020-08-07</th>\n",
       "      <th>2020-08-08</th>\n",
       "      <th>2020-08-09</th>\n",
       "      <th>2020-08-10</th>\n",
       "      <th>2020-08-11</th>\n",
       "    </tr>\n",
       "    <tr>\n",
       "      <th>state</th>\n",
       "      <th></th>\n",
       "      <th></th>\n",
       "      <th></th>\n",
       "      <th></th>\n",
       "      <th></th>\n",
       "      <th></th>\n",
       "      <th></th>\n",
       "      <th></th>\n",
       "      <th></th>\n",
       "      <th></th>\n",
       "      <th></th>\n",
       "      <th></th>\n",
       "      <th></th>\n",
       "      <th></th>\n",
       "      <th></th>\n",
       "      <th></th>\n",
       "      <th></th>\n",
       "      <th></th>\n",
       "      <th></th>\n",
       "      <th></th>\n",
       "      <th></th>\n",
       "    </tr>\n",
       "  </thead>\n",
       "  <tbody>\n",
       "    <tr>\n",
       "      <th>Telangana</th>\n",
       "      <td>0</td>\n",
       "      <td>1213</td>\n",
       "      <td>1892</td>\n",
       "      <td>1850</td>\n",
       "      <td>1590</td>\n",
       "      <td>1831</td>\n",
       "      <td>1879</td>\n",
       "      <td>1924</td>\n",
       "      <td>1410</td>\n",
       "      <td>1278</td>\n",
       "      <td>...</td>\n",
       "      <td>1891</td>\n",
       "      <td>983</td>\n",
       "      <td>1286</td>\n",
       "      <td>2012</td>\n",
       "      <td>2092</td>\n",
       "      <td>2207</td>\n",
       "      <td>2256</td>\n",
       "      <td>1982</td>\n",
       "      <td>1256</td>\n",
       "      <td>1896</td>\n",
       "    </tr>\n",
       "    <tr>\n",
       "      <th>Odisha</th>\n",
       "      <td>0</td>\n",
       "      <td>229</td>\n",
       "      <td>561</td>\n",
       "      <td>495</td>\n",
       "      <td>469</td>\n",
       "      <td>456</td>\n",
       "      <td>571</td>\n",
       "      <td>527</td>\n",
       "      <td>577</td>\n",
       "      <td>755</td>\n",
       "      <td>...</td>\n",
       "      <td>1434</td>\n",
       "      <td>1384</td>\n",
       "      <td>1384</td>\n",
       "      <td>1337</td>\n",
       "      <td>1699</td>\n",
       "      <td>1833</td>\n",
       "      <td>1643</td>\n",
       "      <td>1734</td>\n",
       "      <td>1528</td>\n",
       "      <td>1341</td>\n",
       "    </tr>\n",
       "    <tr>\n",
       "      <th>Mizoram</th>\n",
       "      <td>0</td>\n",
       "      <td>2</td>\n",
       "      <td>0</td>\n",
       "      <td>2</td>\n",
       "      <td>22</td>\n",
       "      <td>11</td>\n",
       "      <td>1</td>\n",
       "      <td>5</td>\n",
       "      <td>0</td>\n",
       "      <td>23</td>\n",
       "      <td>...</td>\n",
       "      <td>57</td>\n",
       "      <td>26</td>\n",
       "      <td>6</td>\n",
       "      <td>3</td>\n",
       "      <td>33</td>\n",
       "      <td>21</td>\n",
       "      <td>8</td>\n",
       "      <td>41</td>\n",
       "      <td>12</td>\n",
       "      <td>3</td>\n",
       "    </tr>\n",
       "    <tr>\n",
       "      <th>Andaman and Nicobar Islands</th>\n",
       "      <td>0</td>\n",
       "      <td>9</td>\n",
       "      <td>7</td>\n",
       "      <td>3</td>\n",
       "      <td>6</td>\n",
       "      <td>16</td>\n",
       "      <td>6</td>\n",
       "      <td>2</td>\n",
       "      <td>7</td>\n",
       "      <td>0</td>\n",
       "      <td>...</td>\n",
       "      <td>98</td>\n",
       "      <td>96</td>\n",
       "      <td>98</td>\n",
       "      <td>99</td>\n",
       "      <td>96</td>\n",
       "      <td>99</td>\n",
       "      <td>129</td>\n",
       "      <td>139</td>\n",
       "      <td>135</td>\n",
       "      <td>0</td>\n",
       "    </tr>\n",
       "    <tr>\n",
       "      <th>Puducherry</th>\n",
       "      <td>0</td>\n",
       "      <td>63</td>\n",
       "      <td>22</td>\n",
       "      <td>80</td>\n",
       "      <td>42</td>\n",
       "      <td>65</td>\n",
       "      <td>30</td>\n",
       "      <td>110</td>\n",
       "      <td>49</td>\n",
       "      <td>72</td>\n",
       "      <td>...</td>\n",
       "      <td>200</td>\n",
       "      <td>176</td>\n",
       "      <td>165</td>\n",
       "      <td>286</td>\n",
       "      <td>188</td>\n",
       "      <td>241</td>\n",
       "      <td>261</td>\n",
       "      <td>259</td>\n",
       "      <td>242</td>\n",
       "      <td>0</td>\n",
       "    </tr>\n",
       "  </tbody>\n",
       "</table>\n",
       "<p>5 rows × 42 columns</p>\n",
       "</div>"
      ],
      "text/plain": [
       "states                       2020-07-01  2020-07-02  2020-07-03  2020-07-04  \\\n",
       "state                                                                         \n",
       "Telangana                             0        1213        1892        1850   \n",
       "Odisha                                0         229         561         495   \n",
       "Mizoram                               0           2           0           2   \n",
       "Andaman and Nicobar Islands           0           9           7           3   \n",
       "Puducherry                            0          63          22          80   \n",
       "\n",
       "states                       2020-07-05  2020-07-06  2020-07-07  2020-07-08  \\\n",
       "state                                                                         \n",
       "Telangana                          1590        1831        1879        1924   \n",
       "Odisha                              469         456         571         527   \n",
       "Mizoram                              22          11           1           5   \n",
       "Andaman and Nicobar Islands           6          16           6           2   \n",
       "Puducherry                           42          65          30         110   \n",
       "\n",
       "states                       2020-07-09  2020-07-10  ...  2020-08-02  \\\n",
       "state                                                ...               \n",
       "Telangana                          1410        1278  ...        1891   \n",
       "Odisha                              577         755  ...        1434   \n",
       "Mizoram                               0          23  ...          57   \n",
       "Andaman and Nicobar Islands           7           0  ...          98   \n",
       "Puducherry                           49          72  ...         200   \n",
       "\n",
       "states                       2020-08-03  2020-08-04  2020-08-05  2020-08-06  \\\n",
       "state                                                                         \n",
       "Telangana                           983        1286        2012        2092   \n",
       "Odisha                             1384        1384        1337        1699   \n",
       "Mizoram                              26           6           3          33   \n",
       "Andaman and Nicobar Islands          96          98          99          96   \n",
       "Puducherry                          176         165         286         188   \n",
       "\n",
       "states                       2020-08-07  2020-08-08  2020-08-09  2020-08-10  \\\n",
       "state                                                                         \n",
       "Telangana                          2207        2256        1982        1256   \n",
       "Odisha                             1833        1643        1734        1528   \n",
       "Mizoram                              21           8          41          12   \n",
       "Andaman and Nicobar Islands          99         129         139         135   \n",
       "Puducherry                          241         261         259         242   \n",
       "\n",
       "states                       2020-08-11  \n",
       "state                                    \n",
       "Telangana                          1896  \n",
       "Odisha                             1341  \n",
       "Mizoram                               3  \n",
       "Andaman and Nicobar Islands           0  \n",
       "Puducherry                            0  \n",
       "\n",
       "[5 rows x 42 columns]"
      ]
     },
     "execution_count": 18,
     "metadata": {},
     "output_type": "execute_result"
    }
   ],
   "source": [
    "#hide\n",
    "dft_ct_new_cases.head()"
   ]
  },
  {
   "cell_type": "code",
   "execution_count": 19,
   "metadata": {
    "execution": {
     "iopub.execute_input": "2020-08-11T05:51:49.784382Z",
     "iopub.status.busy": "2020-08-11T05:51:49.755880Z",
     "iopub.status.idle": "2020-08-11T05:51:52.762587Z",
     "shell.execute_reply": "2020-08-11T05:51:52.763030Z"
    },
    "papermill": {
     "duration": 3.042698,
     "end_time": "2020-08-11T05:51:52.763171",
     "exception": false,
     "start_time": "2020-08-11T05:51:49.720473",
     "status": "completed"
    },
    "tags": []
   },
   "outputs": [
    {
     "data": {
      "image/png": "[encoded data removed]",
      "text/plain": [
       "<Figure size 1296x2016 with 11 Axes>"
      ]
     },
     "metadata": {
      "needs_background": "light"
     },
     "output_type": "display_data"
    }
   ],
   "source": [
    "#hide_input\n",
    "df = dft_ct_new_cases.copy()\n",
    "df.loc['Total'] = df.sum()\n",
    "n = 5\n",
    "ax = []\n",
    "fig = plt.figure(figsize = (18,28))\n",
    "gs = fig.add_gridspec(n+2, 5)\n",
    "# gs = fig.add_gridspec(2, 3)\n",
    "ax1 = fig.add_subplot(gs[0, :])\n",
    "ef = df.loc['Total'].rename_axis('date').reset_index()\n",
    "ef['date'] = ef['date'].astype('datetime64[ns]')\n",
    "ax1.bar(ef.date,ef.Total,alpha=0.3,color='#007acc')\n",
    "ax1.plot(ef.date,ef.Total , marker=\"o\", color='#007acc')\n",
    "ax1.xaxis.set_major_locator(mdates.WeekdayLocator())\n",
    "ax1.xaxis.set_major_formatter(mdates.DateFormatter('%b %d'))\n",
    "ax1.text(0.02, 0.5,'India daily case count', transform = ax1.transAxes, fontsize=25);\n",
    "ax1.spines['right'].set_visible(False)\n",
    "ax1.spines['top'].set_visible(False)\n",
    "\n",
    "ax2 = fig.add_subplot(gs[1,0])\n",
    "ef = df.loc['Maharashtra'].rename_axis('date').reset_index()\n",
    "ef['date'] = ef['date'].astype('datetime64[ns]')\n",
    "\n",
    "ax2.bar(ef.date, ef.Maharashtra,color = '#007acc',alpha=0.5)\n",
    "ax2.xaxis.set_major_locator(mdates.WeekdayLocator())\n",
    "ax2.xaxis.set_major_formatter(mdates.DateFormatter('%b %d'))\n",
    "ax2.set_xticks(ax2.get_xticks()[::3])\n",
    "maxyval = ef.Maharashtra.max()\n",
    "ax2.set_ylim([0,maxyval])\n",
    "ax2.text(0.05, 0.9,'Maharashtra', transform = ax2.transAxes, fontsize=20);\n",
    "ax2.spines['right'].set_visible(False)\n",
    "ax2.spines['top'].set_visible(False)\n",
    "\n",
    "\n",
    "ax3 = fig.add_subplot(gs[1,1])\n",
    "ef = df.loc['Tamil Nadu'].rename_axis('date').reset_index()\n",
    "ef['date'] = ef['date'].astype('datetime64[ns]')\n",
    "ax3.bar(ef.date, ef['Tamil Nadu'],color = '#007acc',alpha=0.5,)\n",
    "ax3.xaxis.set_major_locator(mdates.WeekdayLocator())\n",
    "ax3.xaxis.set_major_formatter(mdates.DateFormatter('%b %d'))\n",
    "ax3.set_xticks(ax3.get_xticks()[::3])\n",
    "ax3.text(0.05, 0.9,'Tamil Nadu', transform = ax3.transAxes, fontsize=20);\n",
    "ax3.spines['right'].set_visible(False)\n",
    "ax3.spines['top'].set_visible(False)\n",
    "\n",
    "ax5 = fig.add_subplot(gs[1,3])\n",
    "ef = df.loc['Telangana'].rename_axis('date').reset_index()\n",
    "ef['date'] = ef['date'].astype('datetime64[ns]')\n",
    "ax5.bar(ef.date, ef['Telangana'],color = '#007acc',alpha=0.5,)\n",
    "ax5.xaxis.set_major_locator(mdates.WeekdayLocator())\n",
    "ax5.xaxis.set_major_formatter(mdates.DateFormatter('%b %d'))\n",
    "ax5.set_xticks(ax5.get_xticks()[::3])\n",
    "ax5.text(0.05, 0.9,'Telangana', transform = ax5.transAxes, fontsize=20);\n",
    "ax5.spines['right'].set_visible(False)\n",
    "ax5.spines['top'].set_visible(False)\n",
    "\n",
    "ax6 = fig.add_subplot(gs[1,4])\n",
    "ef = df.loc['Andhra Pradesh'].rename_axis('date').reset_index()\n",
    "ef['date'] = ef['date'].astype('datetime64[ns]')\n",
    "ax6.bar(ef.date, ef['Andhra Pradesh'],color = '#007acc',alpha=0.5,)\n",
    "ax6.xaxis.set_major_locator(mdates.WeekdayLocator())\n",
    "ax6.xaxis.set_major_formatter(mdates.DateFormatter('%b %d'))\n",
    "ax6.set_xticks(ax6.get_xticks()[::3])\n",
    "ax6.text(0.05, 1,'Andhra Pradesh', transform = ax6.transAxes, fontsize=20);\n",
    "ax6.spines['right'].set_visible(False)\n",
    "ax6.spines['top'].set_visible(False)\n",
    "\n",
    "ax4 = fig.add_subplot(gs[1,2])\n",
    "ef = df.loc['Delhi'].rename_axis('date').reset_index()\n",
    "ef['date'] = ef['date'].astype('datetime64[ns]')\n",
    "ax4.bar(ef.date, ef.Delhi,color = '#007acc',alpha=0.5)\n",
    "ax4.set_xticks([])\n",
    "ax4.xaxis.set_major_locator(mdates.WeekdayLocator())\n",
    "ax4.xaxis.set_major_formatter(mdates.DateFormatter('%b %d'))\n",
    "ax4.set_xticks(ax4.get_xticks()[::3])\n",
    "ax4.spines['right'].set_visible(False)\n",
    "ax4.spines['top'].set_visible(False)\n",
    "\n",
    "ax4.text(0.05, 1,'Delhi', transform = ax4.transAxes, fontsize=20)\n",
    "\n",
    "for i in range(n):\n",
    "    \n",
    "    ax.append(fig.add_subplot(gs[i+2,:]))\n",
    "    ef = df.iloc[i+3].rename_axis('date').reset_index()\n",
    "    ef['date'] = ef['date'].astype('datetime64[ns]')\n",
    "    ax[i].bar(ef.date,ef.iloc[:,-1],color = '#007acc',alpha=0.3)\n",
    "    ax[i].plot(ef.date,ef.iloc[:,-1],marker='o',color='#007acc')\n",
    "    ax[i].text(0.02,0.5,f'{ef.columns.values[-1]}',transform = ax[i].transAxes, fontsize = 20);\n",
    "    ax[i].xaxis.set_major_locator(mdates.WeekdayLocator())\n",
    "    ax[i].xaxis.set_major_formatter(mdates.DateFormatter('%b %d'))\n",
    "    ax[i].set_ylim([0,7000])\n",
    "    ax[i].spines['right'].set_visible(False)\n",
    "    ax[i].spines['top'].set_visible(False)\n",
    "plt.tight_layout()\n"
   ]
  },
  {
   "cell_type": "code",
   "execution_count": 20,
   "metadata": {
    "execution": {
     "iopub.execute_input": "2020-08-11T05:51:53.410051Z",
     "iopub.status.busy": "2020-08-11T05:51:53.409302Z",
     "iopub.status.idle": "2020-08-11T05:51:53.415728Z",
     "shell.execute_reply": "2020-08-11T05:51:53.416146Z"
    },
    "papermill": {
     "duration": 0.633266,
     "end_time": "2020-08-11T05:51:53.416290",
     "exception": false,
     "start_time": "2020-08-11T05:51:52.783024",
     "status": "completed"
    },
    "tags": []
   },
   "outputs": [
    {
     "name": "stdout",
     "output_type": "stream",
     "text": [
      "                                   states   Cases  Deaths  PCases  PDeaths  Cases (+)  Deaths (+)  Fatality Rate\n",
      "                              Maharashtra  524513   18050  524513    18050          0           0           3.44\n",
      "                               Tamil Nadu  302815    5041  302815     5041          0           0           1.66\n",
      "                           Andhra Pradesh  235525    2116  235525     2116          0           0           0.90\n",
      "                                Karnataka  182354    3312  182354     3312          0           0           1.82\n",
      "                                    Delhi  146134    4131  146134     4131          0           0           2.83\n",
      "                            Uttar Pradesh  126722    2120  126722     2120          0           0           1.67\n",
      "                              West Bengal   98459    2100   98459     2100          0           0           2.13\n",
      "                                    Bihar   82741     450   82741      450          0           0           0.54\n",
      "                                Telangana   82647     645   80751      637       1896           8           0.78\n",
      "                                  Gujarat   72120    2672   72120     2672          0           0           3.70\n",
      "                                    Assam   61738     151   61738      151          0           0           0.24\n",
      "                                Rajasthan   53670     800   53670      800          0           0           1.49\n",
      "                                   Odisha   48796     349   47455      337       1341          12           0.72\n",
      "                                  Haryana   42429     489   42429      489          0           0           1.15\n",
      "                           Madhya Pradesh   39891    1015   39891     1015          0           0           2.54\n",
      "                                   Kerala   35515     116   35515      116          0           0           0.33\n",
      "                        Jammu and Kashmir   25367     478   25367      478          0           0           1.88\n",
      "                                   Punjab   24889     604   24889      604          0           0           2.43\n",
      "                                Jharkhand   18786     189   18786      189          0           0           1.01\n",
      "                             Chhattisgarh   12625      99   12625       99          0           0           0.78\n",
      "                              Uttarakhand   10021     134   10021      134          0           0           1.34\n",
      "                                      Goa    9029      80    9029       80          0           0           0.89\n",
      "                                  Tripura    6223      42    6223       42          0           0           0.67\n",
      "                               Puducherry    5624      89    5624       89          0           0           1.58\n",
      "                                  Manipur    3853      11    3853       11          0           0           0.29\n",
      "                         Himachal Pradesh    3463      16    3463       16          0           0           0.46\n",
      "                                 Nagaland    3011       8    3011        8          0           0           0.27\n",
      "                        Arunachal Pradesh    2231       3    2231        3          0           0           0.13\n",
      "                                   Ladakh    1717       9    1717        9          0           0           0.52\n",
      "              Andaman and Nicobar Islands    1625      20    1625       20          0           0           1.23\n",
      " Dadra and Nagar Haveli and Daman and Diu    1617       2    1617        2          0           0           0.12\n",
      "                               Chandigarh    1595      25    1595       25          0           0           1.57\n",
      "                                Meghalaya    1115       6    1115        6          0           0           0.54\n",
      "                                   Sikkim     910       1     910        1          0           0           0.11\n",
      "                                  Mizoram     623       0     620        0          3           0           0.00\n",
      "                              Lakshadweep       0       0       0        0          0           0            NaN\n"
     ]
    }
   ],
   "source": [
    "#hide_input\n",
    "print(df_table.to_string(index=False))"
   ]
  },
  {
   "cell_type": "code",
   "execution_count": null,
   "metadata": {
    "papermill": {
     "duration": 0.047043,
     "end_time": "2020-08-11T05:51:53.490672",
     "exception": false,
     "start_time": "2020-08-11T05:51:53.443629",
     "status": "completed"
    },
    "tags": []
   },
   "outputs": [],
   "source": []
  },
  {
   "cell_type": "code",
   "execution_count": null,
   "metadata": {
    "papermill": {
     "duration": 0.025303,
     "end_time": "2020-08-11T05:51:53.562211",
     "exception": false,
     "start_time": "2020-08-11T05:51:53.536908",
     "status": "completed"
    },
    "tags": []
   },
   "outputs": [],
   "source": []
  }
 ],
 "metadata": {
  "kernelspec": {
   "display_name": "Python 3",
   "language": "python",
   "name": "python3"
  },
  "language_info": {
   "codemirror_mode": {
    "name": "ipython",
    "version": 3
   },
   "file_extension": ".py",
   "mimetype": "text/x-python",
   "name": "python",
   "nbconvert_exporter": "python",
   "pygments_lexer": "ipython3",
   "version": "3.6.11"
  },
  "papermill": {
   "duration": 8.299781,
   "end_time": "2020-08-11T05:51:53.993518",
   "environment_variables": {},
   "exception": null,
   "input_path": "latest.ipynb",
   "output_path": "latest.ipynb",
   "parameters": {},
   "start_time": "2020-08-11T05:51:45.693737",
   "version": "2.1.2"
  }
 },
 "nbformat": 4,
 "nbformat_minor": 4
}