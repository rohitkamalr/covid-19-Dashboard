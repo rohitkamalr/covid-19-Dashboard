{
 "cells": [
  {
   "cell_type": "markdown",
   "metadata": {
    "papermill": {
     "duration": 0.019918,
     "end_time": "2020-11-14T14:19:40.563264",
     "exception": false,
     "start_time": "2020-11-14T14:19:40.543346",
     "status": "completed"
    },
    "tags": []
   },
   "source": [
    "# Latest COVID-19 India Matplotlib Overview"
   ]
  },
  {
   "cell_type": "code",
   "execution_count": 1,
   "metadata": {
    "execution": {
     "iopub.execute_input": "2020-11-14T14:19:40.602813Z",
     "iopub.status.busy": "2020-11-14T14:19:40.602159Z",
     "iopub.status.idle": "2020-11-14T14:19:41.231703Z",
     "shell.execute_reply": "2020-11-14T14:19:41.231122Z"
    },
    "papermill": {
     "duration": 0.652359,
     "end_time": "2020-11-14T14:19:41.231872",
     "exception": false,
     "start_time": "2020-11-14T14:19:40.579513",
     "status": "completed"
    },
    "tags": []
   },
   "outputs": [],
   "source": [
    "#hide\n",
    "import pandas as pd\n",
    "import numpy as np\n",
    "import requests\n",
    "import json\n",
    "import matplotlib.pyplot as plt\n",
    "import matplotlib.dates as mdates\n",
    "import matplotlib as mpl\n",
    "from IPython.core.display import display,HTML\n",
    "%matplotlib inline\n",
    "from datetime import date"
   ]
  },
  {
   "cell_type": "code",
   "execution_count": 2,
   "metadata": {
    "execution": {
     "iopub.execute_input": "2020-11-14T14:19:41.272849Z",
     "iopub.status.busy": "2020-11-14T14:19:41.272219Z",
     "iopub.status.idle": "2020-11-14T14:19:41.639558Z",
     "shell.execute_reply": "2020-11-14T14:19:41.638828Z"
    },
    "papermill": {
     "duration": 0.391529,
     "end_time": "2020-11-14T14:19:41.639735",
     "exception": false,
     "start_time": "2020-11-14T14:19:41.248206",
     "status": "completed"
    },
    "tags": []
   },
   "outputs": [],
   "source": [
    "#hide\n",
    "df  = pd.read_csv('https://api.covid19india.org/csv/latest/states.csv')\n",
    "df = df[['Date','State','Confirmed','Deceased']]\n",
    "df = df.rename(columns={'Confirmed':'Cases', \"Deceased\":'Deaths'})\n",
    "df_cases = df[[\"Date\",'State','Cases']]\n",
    "df_deaths = df[['Date','State','Deaths']]\n",
    "df_cases1 = df_cases.groupby('Date')\n",
    "df_deaths1= df_deaths.groupby('Date')"
   ]
  },
  {
   "cell_type": "code",
   "execution_count": 3,
   "metadata": {
    "execution": {
     "iopub.execute_input": "2020-11-14T14:19:41.677029Z",
     "iopub.status.busy": "2020-11-14T14:19:41.676423Z",
     "iopub.status.idle": "2020-11-14T14:19:41.694997Z",
     "shell.execute_reply": "2020-11-14T14:19:41.694427Z"
    },
    "papermill": {
     "duration": 0.039701,
     "end_time": "2020-11-14T14:19:41.695151",
     "exception": false,
     "start_time": "2020-11-14T14:19:41.655450",
     "status": "completed"
    },
    "tags": []
   },
   "outputs": [],
   "source": [
    "#hide\n",
    "df_snap = pd.read_csv('data/SnapshotCases-28-July.csv')\n",
    "arr_states = df_snap['states'].unique()\n",
    "arr_dates = df['Date'].unique()\n",
    "df_snap = df_snap.set_index('states')"
   ]
  },
  {
   "cell_type": "code",
   "execution_count": 4,
   "metadata": {
    "execution": {
     "iopub.execute_input": "2020-11-14T14:19:41.737458Z",
     "iopub.status.busy": "2020-11-14T14:19:41.736803Z",
     "iopub.status.idle": "2020-11-14T14:19:41.740702Z",
     "shell.execute_reply": "2020-11-14T14:19:41.740209Z"
    },
    "papermill": {
     "duration": 0.029687,
     "end_time": "2020-11-14T14:19:41.740843",
     "exception": false,
     "start_time": "2020-11-14T14:19:41.711156",
     "status": "completed"
    },
    "tags": []
   },
   "outputs": [
    {
     "data": {
      "text/plain": [
       "array(['Andaman and Nicobar Islands', 'Andhra Pradesh',\n",
       "       'Arunachal Pradesh', 'Assam', 'Bihar', 'Chandigarh',\n",
       "       'Dadra and Nagar Haveli and Daman and Diu', 'Delhi', 'Goa',\n",
       "       'Gujarat', 'Haryana', 'Himachal Pradesh', 'Jammu and Kashmir',\n",
       "       'Jharkhand', 'Karnataka', 'Kerala', 'Lakshadweep',\n",
       "       'Madhya Pradesh', 'Maharashtra', 'Manipur', 'Meghalaya', 'Mizoram',\n",
       "       'Nagaland', 'Odisha', 'Puducherry', 'Punjab', 'Rajasthan',\n",
       "       'Sikkim', 'Tamil Nadu', 'Telangana', 'Tripura', 'Uttar Pradesh',\n",
       "       'West Bengal', 'Chhattisgarh', 'Ladakh', 'Uttarakhand'],\n",
       "      dtype=object)"
      ]
     },
     "execution_count": 4,
     "metadata": {},
     "output_type": "execute_result"
    }
   ],
   "source": [
    "#hide\n",
    "arr_states[-9] = 'Puducherry'\n",
    "arr_states[-10] = 'Odisha'\n",
    "arr_states[6] = 'Dadra and Nagar Haveli and Daman and Diu'\n",
    "arr_states = np.append(arr_states,np.array(['Chhattisgarh','Ladakh','Uttarakhand']))\n",
    "arr_states"
   ]
  },
  {
   "cell_type": "code",
   "execution_count": 5,
   "metadata": {
    "execution": {
     "iopub.execute_input": "2020-11-14T14:19:41.787002Z",
     "iopub.status.busy": "2020-11-14T14:19:41.786336Z",
     "iopub.status.idle": "2020-11-14T14:19:41.794600Z",
     "shell.execute_reply": "2020-11-14T14:19:41.794110Z"
    },
    "papermill": {
     "duration": 0.038068,
     "end_time": "2020-11-14T14:19:41.794758",
     "exception": false,
     "start_time": "2020-11-14T14:19:41.756690",
     "status": "completed"
    },
    "tags": []
   },
   "outputs": [],
   "source": [
    "#hide\n",
    "dates = []\n",
    "for i in arr_dates:\n",
    "    if i>='2020-07-01':\n",
    "        dates.append(i)\n",
    "dict = {'states':dates}\n",
    "for i in arr_states:\n",
    "    dict[i] = [0]*len(dates)\n",
    "dft_cases = pd.DataFrame(dict)\n",
    "dft_deaths = pd.DataFrame(dict)\n"
   ]
  },
  {
   "cell_type": "code",
   "execution_count": 6,
   "metadata": {
    "execution": {
     "iopub.execute_input": "2020-11-14T14:19:41.833422Z",
     "iopub.status.busy": "2020-11-14T14:19:41.832808Z",
     "iopub.status.idle": "2020-11-14T14:19:43.865857Z",
     "shell.execute_reply": "2020-11-14T14:19:43.865311Z"
    },
    "papermill": {
     "duration": 2.055479,
     "end_time": "2020-11-14T14:19:43.866007",
     "exception": false,
     "start_time": "2020-11-14T14:19:41.810528",
     "status": "completed"
    },
    "tags": []
   },
   "outputs": [],
   "source": [
    "#hide\n",
    "for i in range(len(dates)):\n",
    "    df1_deaths = df_deaths1.get_group(dates[i])\n",
    "    for j in range(len(df1_deaths.index)):\n",
    "        if df1_deaths.iloc[j,1] in arr_states:\n",
    "            dft_deaths.loc[i,df1_deaths.iloc[j,1]] = df1_deaths.iloc[j,2]\n",
    "dft_deaths = dft_deaths.set_index('states')"
   ]
  },
  {
   "cell_type": "code",
   "execution_count": 7,
   "metadata": {
    "execution": {
     "iopub.execute_input": "2020-11-14T14:19:43.919348Z",
     "iopub.status.busy": "2020-11-14T14:19:43.918506Z",
     "iopub.status.idle": "2020-11-14T14:19:46.023986Z",
     "shell.execute_reply": "2020-11-14T14:19:46.023435Z"
    },
    "papermill": {
     "duration": 2.133289,
     "end_time": "2020-11-14T14:19:46.024136",
     "exception": false,
     "start_time": "2020-11-14T14:19:43.890847",
     "status": "completed"
    },
    "tags": []
   },
   "outputs": [],
   "source": [
    "#hide\n",
    "for i in range(len(dates)):\n",
    "    df1_cases = df_cases1.get_group(dates[i])\n",
    "    for j in range(len(df1_cases.index)):\n",
    "        if df1_cases.iloc[j,1] in arr_states:\n",
    "            dft_cases.loc[i,df1_cases.iloc[j,1]] = df1_cases.iloc[j,2]\n",
    "dft_cases = dft_cases.set_index('states')"
   ]
  },
  {
   "cell_type": "code",
   "execution_count": 8,
   "metadata": {
    "execution": {
     "iopub.execute_input": "2020-11-14T14:19:46.067644Z",
     "iopub.status.busy": "2020-11-14T14:19:46.067026Z",
     "iopub.status.idle": "2020-11-14T14:19:46.068857Z",
     "shell.execute_reply": "2020-11-14T14:19:46.069333Z"
    },
    "papermill": {
     "duration": 0.025836,
     "end_time": "2020-11-14T14:19:46.069476",
     "exception": false,
     "start_time": "2020-11-14T14:19:46.043640",
     "status": "completed"
    },
    "tags": []
   },
   "outputs": [],
   "source": [
    "#hide\n",
    "dft_cases = dft_cases.T\n",
    "dft_deaths = dft_deaths.T\n",
    "dt_today = dates[-1]\n",
    "dt_yday = dates[-2]"
   ]
  },
  {
   "cell_type": "code",
   "execution_count": 9,
   "metadata": {
    "execution": {
     "iopub.execute_input": "2020-11-14T14:19:46.110596Z",
     "iopub.status.busy": "2020-11-14T14:19:46.109967Z",
     "iopub.status.idle": "2020-11-14T14:19:46.113104Z",
     "shell.execute_reply": "2020-11-14T14:19:46.112486Z"
    },
    "papermill": {
     "duration": 0.028367,
     "end_time": "2020-11-14T14:19:46.113236",
     "exception": false,
     "start_time": "2020-11-14T14:19:46.084869",
     "status": "completed"
    },
    "tags": []
   },
   "outputs": [],
   "source": [
    "#hide\n",
    "dft_cases = dft_cases.reset_index()\n",
    "dft_deaths = dft_deaths.reset_index()\n",
    "dft_cases = dft_cases.rename(columns = {'index':'state'})\n",
    "dft_deaths = dft_deaths.rename(columns = {'index':'state'})"
   ]
  },
  {
   "cell_type": "code",
   "execution_count": 10,
   "metadata": {
    "execution": {
     "iopub.execute_input": "2020-11-14T14:19:46.161784Z",
     "iopub.status.busy": "2020-11-14T14:19:46.161159Z",
     "iopub.status.idle": "2020-11-14T14:19:46.164930Z",
     "shell.execute_reply": "2020-11-14T14:19:46.163355Z"
    },
    "papermill": {
     "duration": 0.034209,
     "end_time": "2020-11-14T14:19:46.165066",
     "exception": false,
     "start_time": "2020-11-14T14:19:46.130857",
     "status": "completed"
    },
    "tags": []
   },
   "outputs": [],
   "source": [
    "#hide\n",
    "dfc_cases = dft_cases.groupby('state')[dt_today].sum()\n",
    "dfc_deaths = dft_deaths.groupby('state')[dt_today].sum()\n",
    "dfp_cases = dft_cases.groupby('state')[dt_yday].sum()\n",
    "dfp_deaths = dft_deaths.groupby('state')[dt_yday].sum()"
   ]
  },
  {
   "cell_type": "code",
   "execution_count": 11,
   "metadata": {
    "execution": {
     "iopub.execute_input": "2020-11-14T14:19:46.206957Z",
     "iopub.status.busy": "2020-11-14T14:19:46.206254Z",
     "iopub.status.idle": "2020-11-14T14:19:46.221214Z",
     "shell.execute_reply": "2020-11-14T14:19:46.223791Z"
    },
    "papermill": {
     "duration": 0.042638,
     "end_time": "2020-11-14T14:19:46.223972",
     "exception": false,
     "start_time": "2020-11-14T14:19:46.181334",
     "status": "completed"
    },
    "tags": []
   },
   "outputs": [
    {
     "data": {
      "text/html": [
       "<div>\n",
       "<style scoped>\n",
       "    .dataframe tbody tr th:only-of-type {\n",
       "        vertical-align: middle;\n",
       "    }\n",
       "\n",
       "    .dataframe tbody tr th {\n",
       "        vertical-align: top;\n",
       "    }\n",
       "\n",
       "    .dataframe thead th {\n",
       "        text-align: right;\n",
       "    }\n",
       "</style>\n",
       "<table border=\"1\" class=\"dataframe\">\n",
       "  <thead>\n",
       "    <tr style=\"text-align: right;\">\n",
       "      <th></th>\n",
       "      <th>states</th>\n",
       "      <th>Cases</th>\n",
       "      <th>Deaths</th>\n",
       "      <th>PCases</th>\n",
       "      <th>PDeaths</th>\n",
       "    </tr>\n",
       "  </thead>\n",
       "  <tbody>\n",
       "    <tr>\n",
       "      <th>0</th>\n",
       "      <td>Maharashtra</td>\n",
       "      <td>1740461</td>\n",
       "      <td>45809</td>\n",
       "      <td>1740461</td>\n",
       "      <td>45809</td>\n",
       "    </tr>\n",
       "    <tr>\n",
       "      <th>1</th>\n",
       "      <td>Karnataka</td>\n",
       "      <td>857928</td>\n",
       "      <td>11491</td>\n",
       "      <td>857928</td>\n",
       "      <td>11491</td>\n",
       "    </tr>\n",
       "    <tr>\n",
       "      <th>2</th>\n",
       "      <td>Andhra Pradesh</td>\n",
       "      <td>851298</td>\n",
       "      <td>6847</td>\n",
       "      <td>851298</td>\n",
       "      <td>6847</td>\n",
       "    </tr>\n",
       "    <tr>\n",
       "      <th>3</th>\n",
       "      <td>Tamil Nadu</td>\n",
       "      <td>754460</td>\n",
       "      <td>11454</td>\n",
       "      <td>754460</td>\n",
       "      <td>11454</td>\n",
       "    </tr>\n",
       "    <tr>\n",
       "      <th>4</th>\n",
       "      <td>Kerala</td>\n",
       "      <td>514061</td>\n",
       "      <td>1822</td>\n",
       "      <td>514061</td>\n",
       "      <td>1822</td>\n",
       "    </tr>\n",
       "  </tbody>\n",
       "</table>\n",
       "</div>"
      ],
      "text/plain": [
       "           states    Cases  Deaths   PCases  PDeaths\n",
       "0     Maharashtra  1740461   45809  1740461    45809\n",
       "1       Karnataka   857928   11491   857928    11491\n",
       "2  Andhra Pradesh   851298    6847   851298     6847\n",
       "3      Tamil Nadu   754460   11454   754460    11454\n",
       "4          Kerala   514061    1822   514061     1822"
      ]
     },
     "execution_count": 11,
     "metadata": {},
     "output_type": "execute_result"
    }
   ],
   "source": [
    "#hide\n",
    "df_table = pd.DataFrame({'states': dfc_cases.index, 'Cases': dfc_cases.values, 'Deaths': dfc_deaths.values, 'PCases': dfp_cases.values, 'PDeaths': dfp_deaths.values}).set_index('states')\n",
    "df_table = df_table.sort_values(by = ['Cases','Deaths'], ascending = [False, False])\n",
    "df_table = df_table.reset_index()\n",
    "df_table.head()"
   ]
  },
  {
   "cell_type": "code",
   "execution_count": 12,
   "metadata": {
    "execution": {
     "iopub.execute_input": "2020-11-14T14:19:46.264451Z",
     "iopub.status.busy": "2020-11-14T14:19:46.263699Z",
     "iopub.status.idle": "2020-11-14T14:19:46.273975Z",
     "shell.execute_reply": "2020-11-14T14:19:46.273256Z"
    },
    "papermill": {
     "duration": 0.032925,
     "end_time": "2020-11-14T14:19:46.274149",
     "exception": false,
     "start_time": "2020-11-14T14:19:46.241224",
     "status": "completed"
    },
    "tags": []
   },
   "outputs": [],
   "source": [
    "#hide\n",
    "for c in 'Cases, Deaths'.split(', '):\n",
    "    df_table[f'{c} (+)'] = (df_table[c] - df_table[f'P{c}']).clip(0)\n",
    "df_table['Fatality Rate'] = (100* df_table['Deaths']/ df_table['Cases']).round(2)"
   ]
  },
  {
   "cell_type": "code",
   "execution_count": 13,
   "metadata": {
    "execution": {
     "iopub.execute_input": "2020-11-14T14:19:46.310189Z",
     "iopub.status.busy": "2020-11-14T14:19:46.309580Z",
     "iopub.status.idle": "2020-11-14T14:19:46.322861Z",
     "shell.execute_reply": "2020-11-14T14:19:46.322346Z"
    },
    "papermill": {
     "duration": 0.032629,
     "end_time": "2020-11-14T14:19:46.323004",
     "exception": false,
     "start_time": "2020-11-14T14:19:46.290375",
     "status": "completed"
    },
    "tags": []
   },
   "outputs": [
    {
     "data": {
      "text/html": [
       "<div>\n",
       "<style scoped>\n",
       "    .dataframe tbody tr th:only-of-type {\n",
       "        vertical-align: middle;\n",
       "    }\n",
       "\n",
       "    .dataframe tbody tr th {\n",
       "        vertical-align: top;\n",
       "    }\n",
       "\n",
       "    .dataframe thead th {\n",
       "        text-align: right;\n",
       "    }\n",
       "</style>\n",
       "<table border=\"1\" class=\"dataframe\">\n",
       "  <thead>\n",
       "    <tr style=\"text-align: right;\">\n",
       "      <th></th>\n",
       "      <th>states</th>\n",
       "      <th>Cases</th>\n",
       "      <th>Deaths</th>\n",
       "      <th>PCases</th>\n",
       "      <th>PDeaths</th>\n",
       "      <th>Cases (+)</th>\n",
       "      <th>Deaths (+)</th>\n",
       "      <th>Fatality Rate</th>\n",
       "    </tr>\n",
       "  </thead>\n",
       "  <tbody>\n",
       "    <tr>\n",
       "      <th>0</th>\n",
       "      <td>Maharashtra</td>\n",
       "      <td>1740461</td>\n",
       "      <td>45809</td>\n",
       "      <td>1740461</td>\n",
       "      <td>45809</td>\n",
       "      <td>0</td>\n",
       "      <td>0</td>\n",
       "      <td>2.63</td>\n",
       "    </tr>\n",
       "    <tr>\n",
       "      <th>1</th>\n",
       "      <td>Karnataka</td>\n",
       "      <td>857928</td>\n",
       "      <td>11491</td>\n",
       "      <td>857928</td>\n",
       "      <td>11491</td>\n",
       "      <td>0</td>\n",
       "      <td>0</td>\n",
       "      <td>1.34</td>\n",
       "    </tr>\n",
       "    <tr>\n",
       "      <th>2</th>\n",
       "      <td>Andhra Pradesh</td>\n",
       "      <td>851298</td>\n",
       "      <td>6847</td>\n",
       "      <td>851298</td>\n",
       "      <td>6847</td>\n",
       "      <td>0</td>\n",
       "      <td>0</td>\n",
       "      <td>0.80</td>\n",
       "    </tr>\n",
       "    <tr>\n",
       "      <th>3</th>\n",
       "      <td>Tamil Nadu</td>\n",
       "      <td>754460</td>\n",
       "      <td>11454</td>\n",
       "      <td>754460</td>\n",
       "      <td>11454</td>\n",
       "      <td>0</td>\n",
       "      <td>0</td>\n",
       "      <td>1.52</td>\n",
       "    </tr>\n",
       "    <tr>\n",
       "      <th>4</th>\n",
       "      <td>Kerala</td>\n",
       "      <td>514061</td>\n",
       "      <td>1822</td>\n",
       "      <td>514061</td>\n",
       "      <td>1822</td>\n",
       "      <td>0</td>\n",
       "      <td>0</td>\n",
       "      <td>0.35</td>\n",
       "    </tr>\n",
       "  </tbody>\n",
       "</table>\n",
       "</div>"
      ],
      "text/plain": [
       "           states    Cases  Deaths   PCases  PDeaths  Cases (+)  Deaths (+)  \\\n",
       "0     Maharashtra  1740461   45809  1740461    45809          0           0   \n",
       "1       Karnataka   857928   11491   857928    11491          0           0   \n",
       "2  Andhra Pradesh   851298    6847   851298     6847          0           0   \n",
       "3      Tamil Nadu   754460   11454   754460    11454          0           0   \n",
       "4          Kerala   514061    1822   514061     1822          0           0   \n",
       "\n",
       "   Fatality Rate  \n",
       "0           2.63  \n",
       "1           1.34  \n",
       "2           0.80  \n",
       "3           1.52  \n",
       "4           0.35  "
      ]
     },
     "execution_count": 13,
     "metadata": {},
     "output_type": "execute_result"
    }
   ],
   "source": [
    "#hide\n",
    "df_table.head()"
   ]
  },
  {
   "cell_type": "code",
   "execution_count": 14,
   "metadata": {
    "execution": {
     "iopub.execute_input": "2020-11-14T14:19:46.363053Z",
     "iopub.status.busy": "2020-11-14T14:19:46.362403Z",
     "iopub.status.idle": "2020-11-14T14:19:46.380874Z",
     "shell.execute_reply": "2020-11-14T14:19:46.380362Z"
    },
    "papermill": {
     "duration": 0.040926,
     "end_time": "2020-11-14T14:19:46.381004",
     "exception": false,
     "start_time": "2020-11-14T14:19:46.340078",
     "status": "completed"
    },
    "tags": []
   },
   "outputs": [
    {
     "data": {
      "text/plain": [
       "{'updated': '2020-11-14',\n",
       " 'since': '2020-11-13',\n",
       " 'Cases': 8774935,\n",
       " 'PCases': 8773243,\n",
       " 'Deaths': 129253,\n",
       " 'PDeaths': 129225,\n",
       " 'Cases (+)': 1692,\n",
       " 'Deaths (+)': 28}"
      ]
     },
     "execution_count": 14,
     "metadata": {},
     "output_type": "execute_result"
    }
   ],
   "source": [
    "#hide\n",
    "summary = {'updated':dates[-1], 'since':dates[-2]}\n",
    "list_names = ['Cases', 'PCases', 'Deaths', 'PDeaths', 'Cases (+)', 'Deaths (+)']\n",
    "for name in list_names:\n",
    "    summary[name] = df_table.sum()[name]\n",
    "summary"
   ]
  },
  {
   "cell_type": "code",
   "execution_count": 15,
   "metadata": {
    "execution": {
     "iopub.execute_input": "2020-11-14T14:19:46.420379Z",
     "iopub.status.busy": "2020-11-14T14:19:46.419630Z",
     "iopub.status.idle": "2020-11-14T14:19:46.423743Z",
     "shell.execute_reply": "2020-11-14T14:19:46.423188Z"
    },
    "papermill": {
     "duration": 0.025672,
     "end_time": "2020-11-14T14:19:46.423874",
     "exception": false,
     "start_time": "2020-11-14T14:19:46.398202",
     "status": "completed"
    },
    "tags": []
   },
   "outputs": [],
   "source": [
    "#hide\n",
    "overview = '''\n",
    "<!-- #######  HTML!! #########-->\n",
    "<h1 style=\"color: #5e9ca0; text-align: center;\">India</h1>\n",
    "<p style=\"text-align: center;\">Last update: <strong>{update}</strong></p>\n",
    "<p style=\"text-align: center;\">Confirmed cases:</p>\n",
    "<p style=\"text-align: center;font-size:24px;\">{cases} (<span style=\"color: #ff0000;\">+{new}</span>)</p>\n",
    "<p style=\"text-align: center;\">Confirmed deaths:</p>\n",
    "<p style=\"text-align: center;font-size:24px;\">{deaths} (<span style=\"color: #ff0000;\">+{dnew}</span>)</p>\n",
    "'''"
   ]
  },
  {
   "cell_type": "code",
   "execution_count": 16,
   "metadata": {
    "execution": {
     "iopub.execute_input": "2020-11-14T14:19:46.480154Z",
     "iopub.status.busy": "2020-11-14T14:19:46.479531Z",
     "iopub.status.idle": "2020-11-14T14:19:46.482729Z",
     "shell.execute_reply": "2020-11-14T14:19:46.483274Z"
    },
    "papermill": {
     "duration": 0.034007,
     "end_time": "2020-11-14T14:19:46.483427",
     "exception": false,
     "start_time": "2020-11-14T14:19:46.449420",
     "status": "completed"
    },
    "tags": []
   },
   "outputs": [
    {
     "data": {
      "text/html": [
       "\n",
       "<!-- #######  HTML!! #########-->\n",
       "<h1 style=\"color: #5e9ca0; text-align: center;\">India</h1>\n",
       "<p style=\"text-align: center;\">Last update: <strong>2020-11-14</strong></p>\n",
       "<p style=\"text-align: center;\">Confirmed cases:</p>\n",
       "<p style=\"text-align: center;font-size:24px;\">8774935 (<span style=\"color: #ff0000;\">+1692</span>)</p>\n",
       "<p style=\"text-align: center;\">Confirmed deaths:</p>\n",
       "<p style=\"text-align: center;font-size:24px;\">129253 (<span style=\"color: #ff0000;\">+28</span>)</p>\n"
      ],
      "text/plain": [
       "<IPython.core.display.HTML object>"
      ]
     },
     "metadata": {},
     "output_type": "display_data"
    }
   ],
   "source": [
    "#hide_input\n",
    "update = summary['updated']\n",
    "cases = summary['Cases']\n",
    "new = summary['Cases (+)']\n",
    "deaths = summary['Deaths']\n",
    "dnew = summary['Deaths (+)']\n",
    "\n",
    "html = HTML(overview.format(update=update, cases=cases,new=new,deaths=deaths,dnew=dnew))\n",
    "\n",
    "display(html)"
   ]
  },
  {
   "cell_type": "code",
   "execution_count": 17,
   "metadata": {
    "execution": {
     "iopub.execute_input": "2020-11-14T14:19:46.528657Z",
     "iopub.status.busy": "2020-11-14T14:19:46.528064Z",
     "iopub.status.idle": "2020-11-14T14:19:46.533860Z",
     "shell.execute_reply": "2020-11-14T14:19:46.533377Z"
    },
    "papermill": {
     "duration": 0.033277,
     "end_time": "2020-11-14T14:19:46.533993",
     "exception": false,
     "start_time": "2020-11-14T14:19:46.500716",
     "status": "completed"
    },
    "tags": []
   },
   "outputs": [],
   "source": [
    "#hide\n",
    "dt_cols = list(dft_cases.columns[1:])\n",
    "dft_ct_new_cases = dft_cases.groupby('state')[dt_cols].sum().diff(axis=1).fillna(0).astype(int)\n",
    "dft_ct_new_cases.sort_values(by = dates[-1], ascending = False,inplace = True)"
   ]
  },
  {
   "cell_type": "code",
   "execution_count": 18,
   "metadata": {
    "execution": {
     "iopub.execute_input": "2020-11-14T14:19:46.590560Z",
     "iopub.status.busy": "2020-11-14T14:19:46.589640Z",
     "iopub.status.idle": "2020-11-14T14:19:46.592398Z",
     "shell.execute_reply": "2020-11-14T14:19:46.592891Z"
    },
    "papermill": {
     "duration": 0.041726,
     "end_time": "2020-11-14T14:19:46.593047",
     "exception": false,
     "start_time": "2020-11-14T14:19:46.551321",
     "status": "completed"
    },
    "tags": []
   },
   "outputs": [
    {
     "data": {
      "text/html": [
       "<div>\n",
       "<style scoped>\n",
       "    .dataframe tbody tr th:only-of-type {\n",
       "        vertical-align: middle;\n",
       "    }\n",
       "\n",
       "    .dataframe tbody tr th {\n",
       "        vertical-align: top;\n",
       "    }\n",
       "\n",
       "    .dataframe thead th {\n",
       "        text-align: right;\n",
       "    }\n",
       "</style>\n",
       "<table border=\"1\" class=\"dataframe\">\n",
       "  <thead>\n",
       "    <tr style=\"text-align: right;\">\n",
       "      <th>states</th>\n",
       "      <th>2020-07-01</th>\n",
       "      <th>2020-07-02</th>\n",
       "      <th>2020-07-03</th>\n",
       "      <th>2020-07-04</th>\n",
       "      <th>2020-07-05</th>\n",
       "      <th>2020-07-06</th>\n",
       "      <th>2020-07-07</th>\n",
       "      <th>2020-07-08</th>\n",
       "      <th>2020-07-09</th>\n",
       "      <th>2020-07-10</th>\n",
       "      <th>...</th>\n",
       "      <th>2020-11-05</th>\n",
       "      <th>2020-11-06</th>\n",
       "      <th>2020-11-07</th>\n",
       "      <th>2020-11-08</th>\n",
       "      <th>2020-11-09</th>\n",
       "      <th>2020-11-10</th>\n",
       "      <th>2020-11-11</th>\n",
       "      <th>2020-11-12</th>\n",
       "      <th>2020-11-13</th>\n",
       "      <th>2020-11-14</th>\n",
       "    </tr>\n",
       "    <tr>\n",
       "      <th>state</th>\n",
       "      <th></th>\n",
       "      <th></th>\n",
       "      <th></th>\n",
       "      <th></th>\n",
       "      <th></th>\n",
       "      <th></th>\n",
       "      <th></th>\n",
       "      <th></th>\n",
       "      <th></th>\n",
       "      <th></th>\n",
       "      <th></th>\n",
       "      <th></th>\n",
       "      <th></th>\n",
       "      <th></th>\n",
       "      <th></th>\n",
       "      <th></th>\n",
       "      <th></th>\n",
       "      <th></th>\n",
       "      <th></th>\n",
       "      <th></th>\n",
       "      <th></th>\n",
       "    </tr>\n",
       "  </thead>\n",
       "  <tbody>\n",
       "    <tr>\n",
       "      <th>Odisha</th>\n",
       "      <td>0</td>\n",
       "      <td>229</td>\n",
       "      <td>561</td>\n",
       "      <td>495</td>\n",
       "      <td>469</td>\n",
       "      <td>456</td>\n",
       "      <td>571</td>\n",
       "      <td>527</td>\n",
       "      <td>577</td>\n",
       "      <td>755</td>\n",
       "      <td>...</td>\n",
       "      <td>1385</td>\n",
       "      <td>1494</td>\n",
       "      <td>1372</td>\n",
       "      <td>1434</td>\n",
       "      <td>1219</td>\n",
       "      <td>987</td>\n",
       "      <td>1220</td>\n",
       "      <td>986</td>\n",
       "      <td>1018</td>\n",
       "      <td>902</td>\n",
       "    </tr>\n",
       "    <tr>\n",
       "      <th>Jammu and Kashmir</th>\n",
       "      <td>0</td>\n",
       "      <td>154</td>\n",
       "      <td>170</td>\n",
       "      <td>227</td>\n",
       "      <td>183</td>\n",
       "      <td>246</td>\n",
       "      <td>256</td>\n",
       "      <td>330</td>\n",
       "      <td>240</td>\n",
       "      <td>387</td>\n",
       "      <td>...</td>\n",
       "      <td>524</td>\n",
       "      <td>581</td>\n",
       "      <td>532</td>\n",
       "      <td>555</td>\n",
       "      <td>460</td>\n",
       "      <td>492</td>\n",
       "      <td>507</td>\n",
       "      <td>617</td>\n",
       "      <td>626</td>\n",
       "      <td>565</td>\n",
       "    </tr>\n",
       "    <tr>\n",
       "      <th>Goa</th>\n",
       "      <td>0</td>\n",
       "      <td>95</td>\n",
       "      <td>94</td>\n",
       "      <td>108</td>\n",
       "      <td>77</td>\n",
       "      <td>52</td>\n",
       "      <td>90</td>\n",
       "      <td>136</td>\n",
       "      <td>112</td>\n",
       "      <td>100</td>\n",
       "      <td>...</td>\n",
       "      <td>172</td>\n",
       "      <td>203</td>\n",
       "      <td>169</td>\n",
       "      <td>149</td>\n",
       "      <td>144</td>\n",
       "      <td>180</td>\n",
       "      <td>109</td>\n",
       "      <td>107</td>\n",
       "      <td>156</td>\n",
       "      <td>84</td>\n",
       "    </tr>\n",
       "    <tr>\n",
       "      <th>Tripura</th>\n",
       "      <td>0</td>\n",
       "      <td>39</td>\n",
       "      <td>93</td>\n",
       "      <td>25</td>\n",
       "      <td>23</td>\n",
       "      <td>111</td>\n",
       "      <td>24</td>\n",
       "      <td>57</td>\n",
       "      <td>16</td>\n",
       "      <td>142</td>\n",
       "      <td>...</td>\n",
       "      <td>132</td>\n",
       "      <td>110</td>\n",
       "      <td>87</td>\n",
       "      <td>83</td>\n",
       "      <td>26</td>\n",
       "      <td>79</td>\n",
       "      <td>84</td>\n",
       "      <td>59</td>\n",
       "      <td>76</td>\n",
       "      <td>78</td>\n",
       "    </tr>\n",
       "    <tr>\n",
       "      <th>Mizoram</th>\n",
       "      <td>0</td>\n",
       "      <td>2</td>\n",
       "      <td>0</td>\n",
       "      <td>2</td>\n",
       "      <td>22</td>\n",
       "      <td>11</td>\n",
       "      <td>1</td>\n",
       "      <td>5</td>\n",
       "      <td>0</td>\n",
       "      <td>23</td>\n",
       "      <td>...</td>\n",
       "      <td>65</td>\n",
       "      <td>32</td>\n",
       "      <td>42</td>\n",
       "      <td>58</td>\n",
       "      <td>6</td>\n",
       "      <td>60</td>\n",
       "      <td>61</td>\n",
       "      <td>25</td>\n",
       "      <td>67</td>\n",
       "      <td>59</td>\n",
       "    </tr>\n",
       "  </tbody>\n",
       "</table>\n",
       "<p>5 rows × 137 columns</p>\n",
       "</div>"
      ],
      "text/plain": [
       "states             2020-07-01  2020-07-02  2020-07-03  2020-07-04  2020-07-05  \\\n",
       "state                                                                           \n",
       "Odisha                      0         229         561         495         469   \n",
       "Jammu and Kashmir           0         154         170         227         183   \n",
       "Goa                         0          95          94         108          77   \n",
       "Tripura                     0          39          93          25          23   \n",
       "Mizoram                     0           2           0           2          22   \n",
       "\n",
       "states             2020-07-06  2020-07-07  2020-07-08  2020-07-09  2020-07-10  \\\n",
       "state                                                                           \n",
       "Odisha                    456         571         527         577         755   \n",
       "Jammu and Kashmir         246         256         330         240         387   \n",
       "Goa                        52          90         136         112         100   \n",
       "Tripura                   111          24          57          16         142   \n",
       "Mizoram                    11           1           5           0          23   \n",
       "\n",
       "states             ...  2020-11-05  2020-11-06  2020-11-07  2020-11-08  \\\n",
       "state              ...                                                   \n",
       "Odisha             ...        1385        1494        1372        1434   \n",
       "Jammu and Kashmir  ...         524         581         532         555   \n",
       "Goa                ...         172         203         169         149   \n",
       "Tripura            ...         132         110          87          83   \n",
       "Mizoram            ...          65          32          42          58   \n",
       "\n",
       "states             2020-11-09  2020-11-10  2020-11-11  2020-11-12  2020-11-13  \\\n",
       "state                                                                           \n",
       "Odisha                   1219         987        1220         986        1018   \n",
       "Jammu and Kashmir         460         492         507         617         626   \n",
       "Goa                       144         180         109         107         156   \n",
       "Tripura                    26          79          84          59          76   \n",
       "Mizoram                     6          60          61          25          67   \n",
       "\n",
       "states             2020-11-14  \n",
       "state                          \n",
       "Odisha                    902  \n",
       "Jammu and Kashmir         565  \n",
       "Goa                        84  \n",
       "Tripura                    78  \n",
       "Mizoram                    59  \n",
       "\n",
       "[5 rows x 137 columns]"
      ]
     },
     "execution_count": 18,
     "metadata": {},
     "output_type": "execute_result"
    }
   ],
   "source": [
    "#hide\n",
    "dft_ct_new_cases.head()"
   ]
  },
  {
   "cell_type": "code",
   "execution_count": 19,
   "metadata": {
    "execution": {
     "iopub.execute_input": "2020-11-14T14:19:46.633393Z",
     "iopub.status.busy": "2020-11-14T14:19:46.632745Z",
     "iopub.status.idle": "2020-11-14T14:19:51.999075Z",
     "shell.execute_reply": "2020-11-14T14:19:51.999607Z"
    },
    "papermill": {
     "duration": 5.38757,
     "end_time": "2020-11-14T14:19:51.999775",
     "exception": false,
     "start_time": "2020-11-14T14:19:46.612205",
     "status": "completed"
    },
    "tags": []
   },
   "outputs": [
    {
     "data": {
      "image/png": "[encoded data removed]",
      "text/plain": [
       "<Figure size 1296x2016 with 11 Axes>"
      ]
     },
     "metadata": {
      "needs_background": "light"
     },
     "output_type": "display_data"
    }
   ],
   "source": [
    "#hide_input\n",
    "df = dft_ct_new_cases.copy()\n",
    "df.loc['Total'] = df.sum()\n",
    "n = 5\n",
    "ax = []\n",
    "fig = plt.figure(figsize = (18,28))\n",
    "gs = fig.add_gridspec(n+2, 5)\n",
    "# gs = fig.add_gridspec(2, 3)\n",
    "ax1 = fig.add_subplot(gs[0, :])\n",
    "ef = df.loc['Total'].rename_axis('date').reset_index()\n",
    "ef['date'] = ef['date'].astype('datetime64[ns]')\n",
    "ax1.bar(ef.date,ef.Total,alpha=0.3,color='#007acc')\n",
    "ax1.plot(ef.date,ef.Total , marker=\"o\", color='#007acc')\n",
    "ax1.xaxis.set_major_locator(mdates.WeekdayLocator())\n",
    "ax1.xaxis.set_major_formatter(mdates.DateFormatter('%b %d'))\n",
    "ax1.text(0.02, 0.5,'India daily case count', transform = ax1.transAxes, fontsize=25);\n",
    "ax1.spines['right'].set_visible(False)\n",
    "ax1.spines['top'].set_visible(False)\n",
    "\n",
    "ax2 = fig.add_subplot(gs[1,0])\n",
    "ef = df.loc['Maharashtra'].rename_axis('date').reset_index()\n",
    "ef['date'] = ef['date'].astype('datetime64[ns]')\n",
    "\n",
    "ax2.bar(ef.date, ef.Maharashtra,color = '#007acc',alpha=0.5)\n",
    "ax2.xaxis.set_major_locator(mdates.WeekdayLocator())\n",
    "ax2.xaxis.set_major_formatter(mdates.DateFormatter('%b %d'))\n",
    "ax2.set_xticks(ax2.get_xticks()[::3])\n",
    "maxyval = ef.Maharashtra.max()\n",
    "ax2.set_ylim([0,maxyval])\n",
    "ax2.text(0.05, 0.9,'Maharashtra', transform = ax2.transAxes, fontsize=20);\n",
    "ax2.spines['right'].set_visible(False)\n",
    "ax2.spines['top'].set_visible(False)\n",
    "\n",
    "\n",
    "ax3 = fig.add_subplot(gs[1,1])\n",
    "ef = df.loc['Tamil Nadu'].rename_axis('date').reset_index()\n",
    "ef['date'] = ef['date'].astype('datetime64[ns]')\n",
    "ax3.bar(ef.date, ef['Tamil Nadu'],color = '#007acc',alpha=0.5,)\n",
    "ax3.xaxis.set_major_locator(mdates.WeekdayLocator())\n",
    "ax3.xaxis.set_major_formatter(mdates.DateFormatter('%b %d'))\n",
    "ax3.set_xticks(ax3.get_xticks()[::3])\n",
    "ax3.text(0.05, 0.9,'Tamil Nadu', transform = ax3.transAxes, fontsize=20);\n",
    "ax3.spines['right'].set_visible(False)\n",
    "ax3.spines['top'].set_visible(False)\n",
    "\n",
    "ax5 = fig.add_subplot(gs[1,3])\n",
    "ef = df.loc['Telangana'].rename_axis('date').reset_index()\n",
    "ef['date'] = ef['date'].astype('datetime64[ns]')\n",
    "ax5.bar(ef.date, ef['Telangana'],color = '#007acc',alpha=0.5,)\n",
    "ax5.xaxis.set_major_locator(mdates.WeekdayLocator())\n",
    "ax5.xaxis.set_major_formatter(mdates.DateFormatter('%b %d'))\n",
    "ax5.set_xticks(ax5.get_xticks()[::3])\n",
    "ax5.text(0.05, 0.9,'Telangana', transform = ax5.transAxes, fontsize=20);\n",
    "ax5.spines['right'].set_visible(False)\n",
    "ax5.spines['top'].set_visible(False)\n",
    "\n",
    "ax6 = fig.add_subplot(gs[1,4])\n",
    "ef = df.loc['Andhra Pradesh'].rename_axis('date').reset_index()\n",
    "ef['date'] = ef['date'].astype('datetime64[ns]')\n",
    "ax6.bar(ef.date, ef['Andhra Pradesh'],color = '#007acc',alpha=0.5,)\n",
    "ax6.xaxis.set_major_locator(mdates.WeekdayLocator())\n",
    "ax6.xaxis.set_major_formatter(mdates.DateFormatter('%b %d'))\n",
    "ax6.set_xticks(ax6.get_xticks()[::3])\n",
    "ax6.text(0.05, 1,'Andhra Pradesh', transform = ax6.transAxes, fontsize=20);\n",
    "ax6.spines['right'].set_visible(False)\n",
    "ax6.spines['top'].set_visible(False)\n",
    "\n",
    "ax4 = fig.add_subplot(gs[1,2])\n",
    "ef = df.loc['Delhi'].rename_axis('date').reset_index()\n",
    "ef['date'] = ef['date'].astype('datetime64[ns]')\n",
    "ax4.bar(ef.date, ef.Delhi,color = '#007acc',alpha=0.5)\n",
    "ax4.set_xticks([])\n",
    "ax4.xaxis.set_major_locator(mdates.WeekdayLocator())\n",
    "ax4.xaxis.set_major_formatter(mdates.DateFormatter('%b %d'))\n",
    "ax4.set_xticks(ax4.get_xticks()[::3])\n",
    "ax4.spines['right'].set_visible(False)\n",
    "ax4.spines['top'].set_visible(False)\n",
    "\n",
    "ax4.text(0.05, 1,'Delhi', transform = ax4.transAxes, fontsize=20)\n",
    "\n",
    "for i in range(n):\n",
    "    \n",
    "    ax.append(fig.add_subplot(gs[i+2,:]))\n",
    "    ef = df.iloc[i+3].rename_axis('date').reset_index()\n",
    "    ef['date'] = ef['date'].astype('datetime64[ns]')\n",
    "    ax[i].bar(ef.date,ef.iloc[:,-1],color = '#007acc',alpha=0.3)\n",
    "    ax[i].plot(ef.date,ef.iloc[:,-1],marker='o',color='#007acc')\n",
    "    ax[i].text(0.02,0.5,f'{ef.columns.values[-1]}',transform = ax[i].transAxes, fontsize = 20);\n",
    "    ax[i].xaxis.set_major_locator(mdates.WeekdayLocator())\n",
    "    ax[i].xaxis.set_major_formatter(mdates.DateFormatter('%b %d'))\n",
    "    ax[i].set_ylim([0,7000])\n",
    "    ax[i].spines['right'].set_visible(False)\n",
    "    ax[i].spines['top'].set_visible(False)\n",
    "plt.tight_layout()\n"
   ]
  },
  {
   "cell_type": "code",
   "execution_count": 20,
   "metadata": {
    "execution": {
     "iopub.execute_input": "2020-11-14T14:19:52.053374Z",
     "iopub.status.busy": "2020-11-14T14:19:52.052709Z",
     "iopub.status.idle": "2020-11-14T14:19:52.055036Z",
     "shell.execute_reply": "2020-11-14T14:19:52.055517Z"
    },
    "papermill": {
     "duration": 0.034294,
     "end_time": "2020-11-14T14:19:52.055672",
     "exception": false,
     "start_time": "2020-11-14T14:19:52.021378",
     "status": "completed"
    },
    "tags": []
   },
   "outputs": [
    {
     "name": "stdout",
     "output_type": "stream",
     "text": [
      "                                   states    Cases  Deaths   PCases  PDeaths  Cases (+)  Deaths (+)  Fatality Rate\n",
      "                              Maharashtra  1740461   45809  1740461    45809          0           0           2.63\n",
      "                                Karnataka   857928   11491   857928    11491          0           0           1.34\n",
      "                           Andhra Pradesh   851298    6847   851298     6847          0           0           0.80\n",
      "                               Tamil Nadu   754460   11454   754460    11454          0           0           1.52\n",
      "                                   Kerala   514061    1822   514061     1822          0           0           0.35\n",
      "                            Uttar Pradesh   507602    7327   507602     7327          0           0           1.44\n",
      "                                    Delhi   474830    7423   474830     7423          0           0           1.56\n",
      "                              West Bengal   424675    7557   424675     7557          0           0           1.78\n",
      "                                   Odisha   307906    1563   307004     1548        902          15           0.51\n",
      "                                Telangana   255663    1397   255663     1397          0           0           0.55\n",
      "                                    Bihar   226081    1174   226081     1174          0           0           0.52\n",
      "                                Rajasthan   221471    2044   221471     2044          0           0           0.92\n",
      "                                    Assam   210068     962   210068      959          0           3           0.46\n",
      "                             Chhattisgarh   209288    2545   209288     2545          0           0           1.22\n",
      "                                  Haryana   195799    2006   195799     2006          0           0           1.02\n",
      "                                  Gujarat   186116    3791   186116     3791          0           0           2.04\n",
      "                           Madhya Pradesh   182045    3076   182045     3076          0           0           1.69\n",
      "                                   Punjab   140605    4428   140605     4428          0           0           3.15\n",
      "                                Jharkhand   105781     921   105781      921          0           0           0.87\n",
      "                        Jammu and Kashmir   102159    1580   101594     1574        565           6           1.55\n",
      "                              Uttarakhand    67706    1097    67706     1097          0           0           1.62\n",
      "                                      Goa    45845     659    45761      658         84           1           1.44\n",
      "                               Puducherry    36252     608    36252      608          0           0           1.68\n",
      "                                  Tripura    31916     359    31838      357         78           2           1.12\n",
      "                         Himachal Pradesh    29008     416    29008      416          0           0           1.43\n",
      "                                  Manipur    21425     213    21425      213          0           0           0.99\n",
      "                        Arunachal Pradesh    15758      47    15758       47          0           0           0.30\n",
      "                               Chandigarh    15636     246    15636      246          0           0           1.57\n",
      "                                Meghalaya    10582      98    10582       98          0           0           0.93\n",
      "                                 Nagaland     9638      52     9638       52          0           0           0.54\n",
      "                                   Ladakh     7291      89     7291       89          0           0           1.22\n",
      "              Andaman and Nicobar Islands     4518      61     4518       61          0           0           1.35\n",
      "                                   Sikkim     4416      86     4416       86          0           0           1.95\n",
      "                                  Mizoram     3368       3     3309        2         59           1           0.09\n",
      " Dadra and Nagar Haveli and Daman and Diu     3279       2     3275        2          4           0           0.06\n",
      "                              Lakshadweep        0       0        0        0          0           0            NaN\n"
     ]
    }
   ],
   "source": [
    "#hide_input\n",
    "print(df_table.to_string(index=False))"
   ]
  },
  {
   "cell_type": "code",
   "execution_count": null,
   "metadata": {
    "papermill": {
     "duration": 0.023227,
     "end_time": "2020-11-14T14:19:52.102608",
     "exception": false,
     "start_time": "2020-11-14T14:19:52.079381",
     "status": "completed"
    },
    "tags": []
   },
   "outputs": [],
   "source": []
  },
  {
   "cell_type": "code",
   "execution_count": null,
   "metadata": {
    "papermill": {
     "duration": 0.022846,
     "end_time": "2020-11-14T14:19:52.148880",
     "exception": false,
     "start_time": "2020-11-14T14:19:52.126034",
     "status": "completed"
    },
    "tags": []
   },
   "outputs": [],
   "source": []
  }
 ],
 "metadata": {
  "kernelspec": {
   "display_name": "Python 3",
   "language": "python",
   "name": "python3"
  },
  "language_info": {
   "codemirror_mode": {
    "name": "ipython",
    "version": 3
   },
   "file_extension": ".py",
   "mimetype": "text/x-python",
   "name": "python",
   "nbconvert_exporter": "python",
   "pygments_lexer": "ipython3",
   "version": "3.6.12"
  },
  "papermill": {
   "duration": 13.266946,
   "end_time": "2020-11-14T14:19:52.680737",
   "environment_variables": {},
   "exception": null,
   "input_path": "latest.ipynb",
   "output_path": "latest.ipynb",
   "parameters": {},
   "start_time": "2020-11-14T14:19:39.413791",
   "version": "2.1.2"
  }
 },
 "nbformat": 4,
 "nbformat_minor": 4
}