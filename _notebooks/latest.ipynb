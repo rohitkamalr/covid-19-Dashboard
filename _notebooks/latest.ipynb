{
 "cells": [
  {
   "cell_type": "markdown",
   "id": "colored-stack",
   "metadata": {
    "papermill": {
     "duration": 0.022902,
     "end_time": "2021-02-09T15:26:00.752839",
     "exception": false,
     "start_time": "2021-02-09T15:26:00.729937",
     "status": "completed"
    },
    "tags": []
   },
   "source": [
    "# Latest COVID-19 India Matplotlib Overview"
   ]
  },
  {
   "cell_type": "code",
   "execution_count": 1,
   "id": "light-proportion",
   "metadata": {
    "execution": {
     "iopub.execute_input": "2021-02-09T15:26:00.800861Z",
     "iopub.status.busy": "2021-02-09T15:26:00.800276Z",
     "iopub.status.idle": "2021-02-09T15:26:01.374568Z",
     "shell.execute_reply": "2021-02-09T15:26:01.375389Z"
    },
    "papermill": {
     "duration": 0.605236,
     "end_time": "2021-02-09T15:26:01.375674",
     "exception": false,
     "start_time": "2021-02-09T15:26:00.770438",
     "status": "completed"
    },
    "tags": []
   },
   "outputs": [],
   "source": [
    "#hide\n",
    "import pandas as pd\n",
    "import numpy as np\n",
    "import requests\n",
    "import json\n",
    "import matplotlib.pyplot as plt\n",
    "import matplotlib.dates as mdates\n",
    "import matplotlib as mpl\n",
    "from IPython.core.display import display,HTML\n",
    "%matplotlib inline\n",
    "from datetime import date"
   ]
  },
  {
   "cell_type": "code",
   "execution_count": 2,
   "id": "greenhouse-shooting",
   "metadata": {
    "execution": {
     "iopub.execute_input": "2021-02-09T15:26:01.419836Z",
     "iopub.status.busy": "2021-02-09T15:26:01.419199Z",
     "iopub.status.idle": "2021-02-09T15:26:01.683965Z",
     "shell.execute_reply": "2021-02-09T15:26:01.683196Z"
    },
    "papermill": {
     "duration": 0.291077,
     "end_time": "2021-02-09T15:26:01.684146",
     "exception": false,
     "start_time": "2021-02-09T15:26:01.393069",
     "status": "completed"
    },
    "tags": []
   },
   "outputs": [],
   "source": [
    "#hide\n",
    "df  = pd.read_csv('https://api.covid19india.org/csv/latest/states.csv')\n",
    "df = df[['Date','State','Confirmed','Deceased']]\n",
    "df = df.rename(columns={'Confirmed':'Cases', \"Deceased\":'Deaths'})\n",
    "df_cases = df[[\"Date\",'State','Cases']]\n",
    "df_deaths = df[['Date','State','Deaths']]\n",
    "df_cases1 = df_cases.groupby('Date')\n",
    "df_deaths1= df_deaths.groupby('Date')"
   ]
  },
  {
   "cell_type": "code",
   "execution_count": 3,
   "id": "hybrid-cathedral",
   "metadata": {
    "execution": {
     "iopub.execute_input": "2021-02-09T15:26:01.725774Z",
     "iopub.status.busy": "2021-02-09T15:26:01.725171Z",
     "iopub.status.idle": "2021-02-09T15:26:01.742106Z",
     "shell.execute_reply": "2021-02-09T15:26:01.742558Z"
    },
    "papermill": {
     "duration": 0.03967,
     "end_time": "2021-02-09T15:26:01.742705",
     "exception": false,
     "start_time": "2021-02-09T15:26:01.703035",
     "status": "completed"
    },
    "tags": []
   },
   "outputs": [],
   "source": [
    "#hide\n",
    "df_snap = pd.read_csv('data/SnapshotCases-28-July.csv')\n",
    "arr_states = df_snap['states'].unique()\n",
    "arr_dates = df['Date'].unique()\n",
    "df_snap = df_snap.set_index('states')"
   ]
  },
  {
   "cell_type": "code",
   "execution_count": 4,
   "id": "interior-belfast",
   "metadata": {
    "execution": {
     "iopub.execute_input": "2021-02-09T15:26:01.785544Z",
     "iopub.status.busy": "2021-02-09T15:26:01.784962Z",
     "iopub.status.idle": "2021-02-09T15:26:01.788326Z",
     "shell.execute_reply": "2021-02-09T15:26:01.787816Z"
    },
    "papermill": {
     "duration": 0.029265,
     "end_time": "2021-02-09T15:26:01.788453",
     "exception": false,
     "start_time": "2021-02-09T15:26:01.759188",
     "status": "completed"
    },
    "tags": []
   },
   "outputs": [
    {
     "data": {
      "text/plain": [
       "array(['Andaman and Nicobar Islands', 'Andhra Pradesh',\n",
       "       'Arunachal Pradesh', 'Assam', 'Bihar', 'Chandigarh',\n",
       "       'Dadra and Nagar Haveli and Daman and Diu', 'Delhi', 'Goa',\n",
       "       'Gujarat', 'Haryana', 'Himachal Pradesh', 'Jammu and Kashmir',\n",
       "       'Jharkhand', 'Karnataka', 'Kerala', 'Lakshadweep',\n",
       "       'Madhya Pradesh', 'Maharashtra', 'Manipur', 'Meghalaya', 'Mizoram',\n",
       "       'Nagaland', 'Odisha', 'Puducherry', 'Punjab', 'Rajasthan',\n",
       "       'Sikkim', 'Tamil Nadu', 'Telangana', 'Tripura', 'Uttar Pradesh',\n",
       "       'West Bengal', 'Chhattisgarh', 'Ladakh', 'Uttarakhand'],\n",
       "      dtype=object)"
      ]
     },
     "execution_count": 4,
     "metadata": {},
     "output_type": "execute_result"
    }
   ],
   "source": [
    "#hide\n",
    "arr_states[-9] = 'Puducherry'\n",
    "arr_states[-10] = 'Odisha'\n",
    "arr_states[6] = 'Dadra and Nagar Haveli and Daman and Diu'\n",
    "arr_states = np.append(arr_states,np.array(['Chhattisgarh','Ladakh','Uttarakhand']))\n",
    "arr_states"
   ]
  },
  {
   "cell_type": "code",
   "execution_count": 5,
   "id": "behind-manner",
   "metadata": {
    "execution": {
     "iopub.execute_input": "2021-02-09T15:26:01.833434Z",
     "iopub.status.busy": "2021-02-09T15:26:01.832847Z",
     "iopub.status.idle": "2021-02-09T15:26:01.841723Z",
     "shell.execute_reply": "2021-02-09T15:26:01.841221Z"
    },
    "papermill": {
     "duration": 0.036804,
     "end_time": "2021-02-09T15:26:01.841847",
     "exception": false,
     "start_time": "2021-02-09T15:26:01.805043",
     "status": "completed"
    },
    "tags": []
   },
   "outputs": [],
   "source": [
    "#hide\n",
    "dates = []\n",
    "for i in arr_dates:\n",
    "    if i>='2020-07-01':\n",
    "        dates.append(i)\n",
    "dict = {'states':dates}\n",
    "for i in arr_states:\n",
    "    dict[i] = [0]*len(dates)\n",
    "dft_cases = pd.DataFrame(dict)\n",
    "dft_deaths = pd.DataFrame(dict)\n"
   ]
  },
  {
   "cell_type": "code",
   "execution_count": 6,
   "id": "simplified-peter",
   "metadata": {
    "execution": {
     "iopub.execute_input": "2021-02-09T15:26:01.886928Z",
     "iopub.status.busy": "2021-02-09T15:26:01.886322Z",
     "iopub.status.idle": "2021-02-09T15:26:05.012357Z",
     "shell.execute_reply": "2021-02-09T15:26:05.011228Z"
    },
    "papermill": {
     "duration": 3.153836,
     "end_time": "2021-02-09T15:26:05.012509",
     "exception": false,
     "start_time": "2021-02-09T15:26:01.858673",
     "status": "completed"
    },
    "tags": []
   },
   "outputs": [],
   "source": [
    "#hide\n",
    "for i in range(len(dates)):\n",
    "    df1_deaths = df_deaths1.get_group(dates[i])\n",
    "    for j in range(len(df1_deaths.index)):\n",
    "        if df1_deaths.iloc[j,1] in arr_states:\n",
    "            dft_deaths.loc[i,df1_deaths.iloc[j,1]] = df1_deaths.iloc[j,2]\n",
    "dft_deaths = dft_deaths.set_index('states')"
   ]
  },
  {
   "cell_type": "code",
   "execution_count": 7,
   "id": "geological-welding",
   "metadata": {
    "execution": {
     "iopub.execute_input": "2021-02-09T15:26:05.053888Z",
     "iopub.status.busy": "2021-02-09T15:26:05.052924Z",
     "iopub.status.idle": "2021-02-09T15:26:08.182927Z",
     "shell.execute_reply": "2021-02-09T15:26:08.181820Z"
    },
    "papermill": {
     "duration": 3.153322,
     "end_time": "2021-02-09T15:26:08.183081",
     "exception": false,
     "start_time": "2021-02-09T15:26:05.029759",
     "status": "completed"
    },
    "tags": []
   },
   "outputs": [],
   "source": [
    "#hide\n",
    "for i in range(len(dates)):\n",
    "    df1_cases = df_cases1.get_group(dates[i])\n",
    "    for j in range(len(df1_cases.index)):\n",
    "        if df1_cases.iloc[j,1] in arr_states:\n",
    "            dft_cases.loc[i,df1_cases.iloc[j,1]] = df1_cases.iloc[j,2]\n",
    "dft_cases = dft_cases.set_index('states')"
   ]
  },
  {
   "cell_type": "code",
   "execution_count": 8,
   "id": "binary-ratio",
   "metadata": {
    "execution": {
     "iopub.execute_input": "2021-02-09T15:26:08.224471Z",
     "iopub.status.busy": "2021-02-09T15:26:08.223765Z",
     "iopub.status.idle": "2021-02-09T15:26:08.225500Z",
     "shell.execute_reply": "2021-02-09T15:26:08.225011Z"
    },
    "papermill": {
     "duration": 0.025502,
     "end_time": "2021-02-09T15:26:08.225620",
     "exception": false,
     "start_time": "2021-02-09T15:26:08.200118",
     "status": "completed"
    },
    "tags": []
   },
   "outputs": [],
   "source": [
    "#hide\n",
    "dft_cases = dft_cases.T\n",
    "dft_deaths = dft_deaths.T\n",
    "dt_today = dates[-1]\n",
    "dt_yday = dates[-2]"
   ]
  },
  {
   "cell_type": "code",
   "execution_count": 9,
   "id": "boolean-calculator",
   "metadata": {
    "execution": {
     "iopub.execute_input": "2021-02-09T15:26:08.266606Z",
     "iopub.status.busy": "2021-02-09T15:26:08.265822Z",
     "iopub.status.idle": "2021-02-09T15:26:08.271156Z",
     "shell.execute_reply": "2021-02-09T15:26:08.270653Z"
    },
    "papermill": {
     "duration": 0.028848,
     "end_time": "2021-02-09T15:26:08.271274",
     "exception": false,
     "start_time": "2021-02-09T15:26:08.242426",
     "status": "completed"
    },
    "tags": []
   },
   "outputs": [],
   "source": [
    "#hide\n",
    "dft_cases = dft_cases.reset_index()\n",
    "dft_deaths = dft_deaths.reset_index()\n",
    "dft_cases = dft_cases.rename(columns = {'index':'state'})\n",
    "dft_deaths = dft_deaths.rename(columns = {'index':'state'})"
   ]
  },
  {
   "cell_type": "code",
   "execution_count": 10,
   "id": "invisible-johnston",
   "metadata": {
    "execution": {
     "iopub.execute_input": "2021-02-09T15:26:08.323275Z",
     "iopub.status.busy": "2021-02-09T15:26:08.322034Z",
     "iopub.status.idle": "2021-02-09T15:26:08.323967Z",
     "shell.execute_reply": "2021-02-09T15:26:08.324441Z"
    },
    "papermill": {
     "duration": 0.03632,
     "end_time": "2021-02-09T15:26:08.324577",
     "exception": false,
     "start_time": "2021-02-09T15:26:08.288257",
     "status": "completed"
    },
    "tags": []
   },
   "outputs": [],
   "source": [
    "#hide\n",
    "dfc_cases = dft_cases.groupby('state')[dt_today].sum()\n",
    "dfc_deaths = dft_deaths.groupby('state')[dt_today].sum()\n",
    "dfp_cases = dft_cases.groupby('state')[dt_yday].sum()\n",
    "dfp_deaths = dft_deaths.groupby('state')[dt_yday].sum()"
   ]
  },
  {
   "cell_type": "code",
   "execution_count": 11,
   "id": "measured-great",
   "metadata": {
    "execution": {
     "iopub.execute_input": "2021-02-09T15:26:08.373941Z",
     "iopub.status.busy": "2021-02-09T15:26:08.367092Z",
     "iopub.status.idle": "2021-02-09T15:26:08.380819Z",
     "shell.execute_reply": "2021-02-09T15:26:08.380319Z"
    },
    "papermill": {
     "duration": 0.039183,
     "end_time": "2021-02-09T15:26:08.380942",
     "exception": false,
     "start_time": "2021-02-09T15:26:08.341759",
     "status": "completed"
    },
    "tags": []
   },
   "outputs": [
    {
     "data": {
      "text/html": [
       "<div>\n",
       "<style scoped>\n",
       "    .dataframe tbody tr th:only-of-type {\n",
       "        vertical-align: middle;\n",
       "    }\n",
       "\n",
       "    .dataframe tbody tr th {\n",
       "        vertical-align: top;\n",
       "    }\n",
       "\n",
       "    .dataframe thead th {\n",
       "        text-align: right;\n",
       "    }\n",
       "</style>\n",
       "<table border=\"1\" class=\"dataframe\">\n",
       "  <thead>\n",
       "    <tr style=\"text-align: right;\">\n",
       "      <th></th>\n",
       "      <th>states</th>\n",
       "      <th>Cases</th>\n",
       "      <th>Deaths</th>\n",
       "      <th>PCases</th>\n",
       "      <th>PDeaths</th>\n",
       "    </tr>\n",
       "  </thead>\n",
       "  <tbody>\n",
       "    <tr>\n",
       "      <th>0</th>\n",
       "      <td>Maharashtra</td>\n",
       "      <td>2046287</td>\n",
       "      <td>51325</td>\n",
       "      <td>2046287</td>\n",
       "      <td>51325</td>\n",
       "    </tr>\n",
       "    <tr>\n",
       "      <th>1</th>\n",
       "      <td>Kerala</td>\n",
       "      <td>972181</td>\n",
       "      <td>3884</td>\n",
       "      <td>972181</td>\n",
       "      <td>3884</td>\n",
       "    </tr>\n",
       "    <tr>\n",
       "      <th>2</th>\n",
       "      <td>Karnataka</td>\n",
       "      <td>942846</td>\n",
       "      <td>12239</td>\n",
       "      <td>942846</td>\n",
       "      <td>12239</td>\n",
       "    </tr>\n",
       "    <tr>\n",
       "      <th>3</th>\n",
       "      <td>Andhra Pradesh</td>\n",
       "      <td>888485</td>\n",
       "      <td>7160</td>\n",
       "      <td>888485</td>\n",
       "      <td>7160</td>\n",
       "    </tr>\n",
       "    <tr>\n",
       "      <th>4</th>\n",
       "      <td>Tamil Nadu</td>\n",
       "      <td>842261</td>\n",
       "      <td>12387</td>\n",
       "      <td>842261</td>\n",
       "      <td>12387</td>\n",
       "    </tr>\n",
       "  </tbody>\n",
       "</table>\n",
       "</div>"
      ],
      "text/plain": [
       "           states    Cases  Deaths   PCases  PDeaths\n",
       "0     Maharashtra  2046287   51325  2046287    51325\n",
       "1          Kerala   972181    3884   972181     3884\n",
       "2       Karnataka   942846   12239   942846    12239\n",
       "3  Andhra Pradesh   888485    7160   888485     7160\n",
       "4      Tamil Nadu   842261   12387   842261    12387"
      ]
     },
     "execution_count": 11,
     "metadata": {},
     "output_type": "execute_result"
    }
   ],
   "source": [
    "#hide\n",
    "df_table = pd.DataFrame({'states': dfc_cases.index, 'Cases': dfc_cases.values, 'Deaths': dfc_deaths.values, 'PCases': dfp_cases.values, 'PDeaths': dfp_deaths.values}).set_index('states')\n",
    "df_table = df_table.sort_values(by = ['Cases','Deaths'], ascending = [False, False])\n",
    "df_table = df_table.reset_index()\n",
    "df_table.head()"
   ]
  },
  {
   "cell_type": "code",
   "execution_count": 12,
   "id": "found-montreal",
   "metadata": {
    "execution": {
     "iopub.execute_input": "2021-02-09T15:26:08.423132Z",
     "iopub.status.busy": "2021-02-09T15:26:08.422541Z",
     "iopub.status.idle": "2021-02-09T15:26:08.432909Z",
     "shell.execute_reply": "2021-02-09T15:26:08.433411Z"
    },
    "papermill": {
     "duration": 0.035186,
     "end_time": "2021-02-09T15:26:08.433546",
     "exception": false,
     "start_time": "2021-02-09T15:26:08.398360",
     "status": "completed"
    },
    "tags": []
   },
   "outputs": [],
   "source": [
    "#hide\n",
    "for c in 'Cases, Deaths'.split(', '):\n",
    "    df_table[f'{c} (+)'] = (df_table[c] - df_table[f'P{c}']).clip(0)\n",
    "df_table['Fatality Rate'] = (100* df_table['Deaths']/ df_table['Cases']).round(2)"
   ]
  },
  {
   "cell_type": "code",
   "execution_count": 13,
   "id": "minus-savage",
   "metadata": {
    "execution": {
     "iopub.execute_input": "2021-02-09T15:26:08.480582Z",
     "iopub.status.busy": "2021-02-09T15:26:08.479993Z",
     "iopub.status.idle": "2021-02-09T15:26:08.482971Z",
     "shell.execute_reply": "2021-02-09T15:26:08.482395Z"
    },
    "papermill": {
     "duration": 0.032256,
     "end_time": "2021-02-09T15:26:08.483091",
     "exception": false,
     "start_time": "2021-02-09T15:26:08.450835",
     "status": "completed"
    },
    "tags": []
   },
   "outputs": [
    {
     "data": {
      "text/html": [
       "<div>\n",
       "<style scoped>\n",
       "    .dataframe tbody tr th:only-of-type {\n",
       "        vertical-align: middle;\n",
       "    }\n",
       "\n",
       "    .dataframe tbody tr th {\n",
       "        vertical-align: top;\n",
       "    }\n",
       "\n",
       "    .dataframe thead th {\n",
       "        text-align: right;\n",
       "    }\n",
       "</style>\n",
       "<table border=\"1\" class=\"dataframe\">\n",
       "  <thead>\n",
       "    <tr style=\"text-align: right;\">\n",
       "      <th></th>\n",
       "      <th>states</th>\n",
       "      <th>Cases</th>\n",
       "      <th>Deaths</th>\n",
       "      <th>PCases</th>\n",
       "      <th>PDeaths</th>\n",
       "      <th>Cases (+)</th>\n",
       "      <th>Deaths (+)</th>\n",
       "      <th>Fatality Rate</th>\n",
       "    </tr>\n",
       "  </thead>\n",
       "  <tbody>\n",
       "    <tr>\n",
       "      <th>0</th>\n",
       "      <td>Maharashtra</td>\n",
       "      <td>2046287</td>\n",
       "      <td>51325</td>\n",
       "      <td>2046287</td>\n",
       "      <td>51325</td>\n",
       "      <td>0</td>\n",
       "      <td>0</td>\n",
       "      <td>2.51</td>\n",
       "    </tr>\n",
       "    <tr>\n",
       "      <th>1</th>\n",
       "      <td>Kerala</td>\n",
       "      <td>972181</td>\n",
       "      <td>3884</td>\n",
       "      <td>972181</td>\n",
       "      <td>3884</td>\n",
       "      <td>0</td>\n",
       "      <td>0</td>\n",
       "      <td>0.40</td>\n",
       "    </tr>\n",
       "    <tr>\n",
       "      <th>2</th>\n",
       "      <td>Karnataka</td>\n",
       "      <td>942846</td>\n",
       "      <td>12239</td>\n",
       "      <td>942846</td>\n",
       "      <td>12239</td>\n",
       "      <td>0</td>\n",
       "      <td>0</td>\n",
       "      <td>1.30</td>\n",
       "    </tr>\n",
       "    <tr>\n",
       "      <th>3</th>\n",
       "      <td>Andhra Pradesh</td>\n",
       "      <td>888485</td>\n",
       "      <td>7160</td>\n",
       "      <td>888485</td>\n",
       "      <td>7160</td>\n",
       "      <td>0</td>\n",
       "      <td>0</td>\n",
       "      <td>0.81</td>\n",
       "    </tr>\n",
       "    <tr>\n",
       "      <th>4</th>\n",
       "      <td>Tamil Nadu</td>\n",
       "      <td>842261</td>\n",
       "      <td>12387</td>\n",
       "      <td>842261</td>\n",
       "      <td>12387</td>\n",
       "      <td>0</td>\n",
       "      <td>0</td>\n",
       "      <td>1.47</td>\n",
       "    </tr>\n",
       "  </tbody>\n",
       "</table>\n",
       "</div>"
      ],
      "text/plain": [
       "           states    Cases  Deaths   PCases  PDeaths  Cases (+)  Deaths (+)  \\\n",
       "0     Maharashtra  2046287   51325  2046287    51325          0           0   \n",
       "1          Kerala   972181    3884   972181     3884          0           0   \n",
       "2       Karnataka   942846   12239   942846    12239          0           0   \n",
       "3  Andhra Pradesh   888485    7160   888485     7160          0           0   \n",
       "4      Tamil Nadu   842261   12387   842261    12387          0           0   \n",
       "\n",
       "   Fatality Rate  \n",
       "0           2.51  \n",
       "1           0.40  \n",
       "2           1.30  \n",
       "3           0.81  \n",
       "4           1.47  "
      ]
     },
     "execution_count": 13,
     "metadata": {},
     "output_type": "execute_result"
    }
   ],
   "source": [
    "#hide\n",
    "df_table.head()"
   ]
  },
  {
   "cell_type": "code",
   "execution_count": 14,
   "id": "false-peter",
   "metadata": {
    "execution": {
     "iopub.execute_input": "2021-02-09T15:26:08.525764Z",
     "iopub.status.busy": "2021-02-09T15:26:08.525172Z",
     "iopub.status.idle": "2021-02-09T15:26:08.545303Z",
     "shell.execute_reply": "2021-02-09T15:26:08.544801Z"
    },
    "papermill": {
     "duration": 0.044535,
     "end_time": "2021-02-09T15:26:08.545428",
     "exception": false,
     "start_time": "2021-02-09T15:26:08.500893",
     "status": "completed"
    },
    "tags": []
   },
   "outputs": [
    {
     "data": {
      "text/plain": [
       "{'updated': '2021-02-09',\n",
       " 'since': '2021-02-08',\n",
       " 'Cases': 10848137,\n",
       " 'PCases': 10847790,\n",
       " 'Deaths': 155197,\n",
       " 'PDeaths': 155195,\n",
       " 'Cases (+)': 347,\n",
       " 'Deaths (+)': 2}"
      ]
     },
     "execution_count": 14,
     "metadata": {},
     "output_type": "execute_result"
    }
   ],
   "source": [
    "#hide\n",
    "summary = {'updated':dates[-1], 'since':dates[-2]}\n",
    "list_names = ['Cases', 'PCases', 'Deaths', 'PDeaths', 'Cases (+)', 'Deaths (+)']\n",
    "for name in list_names:\n",
    "    summary[name] = df_table.sum()[name]\n",
    "summary"
   ]
  },
  {
   "cell_type": "code",
   "execution_count": 15,
   "id": "packed-viewer",
   "metadata": {
    "execution": {
     "iopub.execute_input": "2021-02-09T15:26:08.587182Z",
     "iopub.status.busy": "2021-02-09T15:26:08.586582Z",
     "iopub.status.idle": "2021-02-09T15:26:08.588793Z",
     "shell.execute_reply": "2021-02-09T15:26:08.589338Z"
    },
    "papermill": {
     "duration": 0.025913,
     "end_time": "2021-02-09T15:26:08.589480",
     "exception": false,
     "start_time": "2021-02-09T15:26:08.563567",
     "status": "completed"
    },
    "tags": []
   },
   "outputs": [],
   "source": [
    "#hide\n",
    "overview = '''\n",
    "<!-- #######  HTML!! #########-->\n",
    "<h1 style=\"color: #5e9ca0; text-align: center;\">India</h1>\n",
    "<p style=\"text-align: center;\">Last update: <strong>{update}</strong></p>\n",
    "<p style=\"text-align: center;\">Confirmed cases:</p>\n",
    "<p style=\"text-align: center;font-size:24px;\">{cases} (<span style=\"color: #ff0000;\">+{new}</span>)</p>\n",
    "<p style=\"text-align: center;\">Confirmed deaths:</p>\n",
    "<p style=\"text-align: center;font-size:24px;\">{deaths} (<span style=\"color: #ff0000;\">+{dnew}</span>)</p>\n",
    "'''"
   ]
  },
  {
   "cell_type": "code",
   "execution_count": 16,
   "id": "phantom-lover",
   "metadata": {
    "execution": {
     "iopub.execute_input": "2021-02-09T15:26:08.632401Z",
     "iopub.status.busy": "2021-02-09T15:26:08.631815Z",
     "iopub.status.idle": "2021-02-09T15:26:08.634451Z",
     "shell.execute_reply": "2021-02-09T15:26:08.634894Z"
    },
    "papermill": {
     "duration": 0.027723,
     "end_time": "2021-02-09T15:26:08.635033",
     "exception": false,
     "start_time": "2021-02-09T15:26:08.607310",
     "status": "completed"
    },
    "tags": []
   },
   "outputs": [
    {
     "data": {
      "text/html": [
       "\n",
       "<!-- #######  HTML!! #########-->\n",
       "<h1 style=\"color: #5e9ca0; text-align: center;\">India</h1>\n",
       "<p style=\"text-align: center;\">Last update: <strong>2021-02-09</strong></p>\n",
       "<p style=\"text-align: center;\">Confirmed cases:</p>\n",
       "<p style=\"text-align: center;font-size:24px;\">10848137 (<span style=\"color: #ff0000;\">+347</span>)</p>\n",
       "<p style=\"text-align: center;\">Confirmed deaths:</p>\n",
       "<p style=\"text-align: center;font-size:24px;\">155197 (<span style=\"color: #ff0000;\">+2</span>)</p>\n"
      ],
      "text/plain": [
       "<IPython.core.display.HTML object>"
      ]
     },
     "metadata": {},
     "output_type": "display_data"
    }
   ],
   "source": [
    "#hide_input\n",
    "update = summary['updated']\n",
    "cases = summary['Cases']\n",
    "new = summary['Cases (+)']\n",
    "deaths = summary['Deaths']\n",
    "dnew = summary['Deaths (+)']\n",
    "\n",
    "html = HTML(overview.format(update=update, cases=cases,new=new,deaths=deaths,dnew=dnew))\n",
    "\n",
    "display(html)"
   ]
  },
  {
   "cell_type": "code",
   "execution_count": 17,
   "id": "sealed-reset",
   "metadata": {
    "execution": {
     "iopub.execute_input": "2021-02-09T15:26:08.679941Z",
     "iopub.status.busy": "2021-02-09T15:26:08.679286Z",
     "iopub.status.idle": "2021-02-09T15:26:08.686943Z",
     "shell.execute_reply": "2021-02-09T15:26:08.686445Z"
    },
    "papermill": {
     "duration": 0.033554,
     "end_time": "2021-02-09T15:26:08.687062",
     "exception": false,
     "start_time": "2021-02-09T15:26:08.653508",
     "status": "completed"
    },
    "tags": []
   },
   "outputs": [],
   "source": [
    "#hide\n",
    "dt_cols = list(dft_cases.columns[1:])\n",
    "dft_ct_new_cases = dft_cases.groupby('state')[dt_cols].sum().diff(axis=1).fillna(0).astype(int)\n",
    "dft_ct_new_cases.sort_values(by = dates[-1], ascending = False,inplace = True)"
   ]
  },
  {
   "cell_type": "code",
   "execution_count": 18,
   "id": "designed-constant",
   "metadata": {
    "execution": {
     "iopub.execute_input": "2021-02-09T15:26:08.742129Z",
     "iopub.status.busy": "2021-02-09T15:26:08.737478Z",
     "iopub.status.idle": "2021-02-09T15:26:08.744877Z",
     "shell.execute_reply": "2021-02-09T15:26:08.745330Z"
    },
    "papermill": {
     "duration": 0.039628,
     "end_time": "2021-02-09T15:26:08.745465",
     "exception": false,
     "start_time": "2021-02-09T15:26:08.705837",
     "status": "completed"
    },
    "tags": []
   },
   "outputs": [
    {
     "data": {
      "text/html": [
       "<div>\n",
       "<style scoped>\n",
       "    .dataframe tbody tr th:only-of-type {\n",
       "        vertical-align: middle;\n",
       "    }\n",
       "\n",
       "    .dataframe tbody tr th {\n",
       "        vertical-align: top;\n",
       "    }\n",
       "\n",
       "    .dataframe thead th {\n",
       "        text-align: right;\n",
       "    }\n",
       "</style>\n",
       "<table border=\"1\" class=\"dataframe\">\n",
       "  <thead>\n",
       "    <tr style=\"text-align: right;\">\n",
       "      <th>states</th>\n",
       "      <th>2020-07-01</th>\n",
       "      <th>2020-07-02</th>\n",
       "      <th>2020-07-03</th>\n",
       "      <th>2020-07-04</th>\n",
       "      <th>2020-07-05</th>\n",
       "      <th>2020-07-06</th>\n",
       "      <th>2020-07-07</th>\n",
       "      <th>2020-07-08</th>\n",
       "      <th>2020-07-09</th>\n",
       "      <th>2020-07-10</th>\n",
       "      <th>...</th>\n",
       "      <th>2021-01-31</th>\n",
       "      <th>2021-02-01</th>\n",
       "      <th>2021-02-02</th>\n",
       "      <th>2021-02-03</th>\n",
       "      <th>2021-02-04</th>\n",
       "      <th>2021-02-05</th>\n",
       "      <th>2021-02-06</th>\n",
       "      <th>2021-02-07</th>\n",
       "      <th>2021-02-08</th>\n",
       "      <th>2021-02-09</th>\n",
       "    </tr>\n",
       "    <tr>\n",
       "      <th>state</th>\n",
       "      <th></th>\n",
       "      <th></th>\n",
       "      <th></th>\n",
       "      <th></th>\n",
       "      <th></th>\n",
       "      <th></th>\n",
       "      <th></th>\n",
       "      <th></th>\n",
       "      <th></th>\n",
       "      <th></th>\n",
       "      <th></th>\n",
       "      <th></th>\n",
       "      <th></th>\n",
       "      <th></th>\n",
       "      <th></th>\n",
       "      <th></th>\n",
       "      <th></th>\n",
       "      <th></th>\n",
       "      <th></th>\n",
       "      <th></th>\n",
       "      <th></th>\n",
       "    </tr>\n",
       "  </thead>\n",
       "  <tbody>\n",
       "    <tr>\n",
       "      <th>Telangana</th>\n",
       "      <td>0</td>\n",
       "      <td>1213</td>\n",
       "      <td>1892</td>\n",
       "      <td>1850</td>\n",
       "      <td>1590</td>\n",
       "      <td>1831</td>\n",
       "      <td>1879</td>\n",
       "      <td>1924</td>\n",
       "      <td>1410</td>\n",
       "      <td>1278</td>\n",
       "      <td>...</td>\n",
       "      <td>163</td>\n",
       "      <td>118</td>\n",
       "      <td>152</td>\n",
       "      <td>185</td>\n",
       "      <td>177</td>\n",
       "      <td>169</td>\n",
       "      <td>161</td>\n",
       "      <td>150</td>\n",
       "      <td>101</td>\n",
       "      <td>149</td>\n",
       "    </tr>\n",
       "    <tr>\n",
       "      <th>Odisha</th>\n",
       "      <td>0</td>\n",
       "      <td>229</td>\n",
       "      <td>561</td>\n",
       "      <td>495</td>\n",
       "      <td>469</td>\n",
       "      <td>456</td>\n",
       "      <td>571</td>\n",
       "      <td>527</td>\n",
       "      <td>577</td>\n",
       "      <td>755</td>\n",
       "      <td>...</td>\n",
       "      <td>114</td>\n",
       "      <td>79</td>\n",
       "      <td>60</td>\n",
       "      <td>71</td>\n",
       "      <td>87</td>\n",
       "      <td>97</td>\n",
       "      <td>82</td>\n",
       "      <td>72</td>\n",
       "      <td>72</td>\n",
       "      <td>105</td>\n",
       "    </tr>\n",
       "    <tr>\n",
       "      <th>Bihar</th>\n",
       "      <td>0</td>\n",
       "      <td>478</td>\n",
       "      <td>426</td>\n",
       "      <td>349</td>\n",
       "      <td>403</td>\n",
       "      <td>280</td>\n",
       "      <td>388</td>\n",
       "      <td>749</td>\n",
       "      <td>704</td>\n",
       "      <td>352</td>\n",
       "      <td>...</td>\n",
       "      <td>116</td>\n",
       "      <td>75</td>\n",
       "      <td>118</td>\n",
       "      <td>92</td>\n",
       "      <td>64</td>\n",
       "      <td>90</td>\n",
       "      <td>88</td>\n",
       "      <td>53</td>\n",
       "      <td>56</td>\n",
       "      <td>92</td>\n",
       "    </tr>\n",
       "    <tr>\n",
       "      <th>Tripura</th>\n",
       "      <td>0</td>\n",
       "      <td>39</td>\n",
       "      <td>93</td>\n",
       "      <td>25</td>\n",
       "      <td>23</td>\n",
       "      <td>111</td>\n",
       "      <td>24</td>\n",
       "      <td>57</td>\n",
       "      <td>16</td>\n",
       "      <td>142</td>\n",
       "      <td>...</td>\n",
       "      <td>0</td>\n",
       "      <td>1</td>\n",
       "      <td>0</td>\n",
       "      <td>0</td>\n",
       "      <td>0</td>\n",
       "      <td>1</td>\n",
       "      <td>0</td>\n",
       "      <td>0</td>\n",
       "      <td>0</td>\n",
       "      <td>1</td>\n",
       "    </tr>\n",
       "    <tr>\n",
       "      <th>Andaman and Nicobar Islands</th>\n",
       "      <td>0</td>\n",
       "      <td>9</td>\n",
       "      <td>7</td>\n",
       "      <td>3</td>\n",
       "      <td>6</td>\n",
       "      <td>16</td>\n",
       "      <td>6</td>\n",
       "      <td>2</td>\n",
       "      <td>7</td>\n",
       "      <td>0</td>\n",
       "      <td>...</td>\n",
       "      <td>0</td>\n",
       "      <td>0</td>\n",
       "      <td>0</td>\n",
       "      <td>0</td>\n",
       "      <td>0</td>\n",
       "      <td>3</td>\n",
       "      <td>3</td>\n",
       "      <td>1</td>\n",
       "      <td>4</td>\n",
       "      <td>0</td>\n",
       "    </tr>\n",
       "  </tbody>\n",
       "</table>\n",
       "<p>5 rows × 224 columns</p>\n",
       "</div>"
      ],
      "text/plain": [
       "states                       2020-07-01  2020-07-02  2020-07-03  2020-07-04  \\\n",
       "state                                                                         \n",
       "Telangana                             0        1213        1892        1850   \n",
       "Odisha                                0         229         561         495   \n",
       "Bihar                                 0         478         426         349   \n",
       "Tripura                               0          39          93          25   \n",
       "Andaman and Nicobar Islands           0           9           7           3   \n",
       "\n",
       "states                       2020-07-05  2020-07-06  2020-07-07  2020-07-08  \\\n",
       "state                                                                         \n",
       "Telangana                          1590        1831        1879        1924   \n",
       "Odisha                              469         456         571         527   \n",
       "Bihar                               403         280         388         749   \n",
       "Tripura                              23         111          24          57   \n",
       "Andaman and Nicobar Islands           6          16           6           2   \n",
       "\n",
       "states                       2020-07-09  2020-07-10  ...  2021-01-31  \\\n",
       "state                                                ...               \n",
       "Telangana                          1410        1278  ...         163   \n",
       "Odisha                              577         755  ...         114   \n",
       "Bihar                               704         352  ...         116   \n",
       "Tripura                              16         142  ...           0   \n",
       "Andaman and Nicobar Islands           7           0  ...           0   \n",
       "\n",
       "states                       2021-02-01  2021-02-02  2021-02-03  2021-02-04  \\\n",
       "state                                                                         \n",
       "Telangana                           118         152         185         177   \n",
       "Odisha                               79          60          71          87   \n",
       "Bihar                                75         118          92          64   \n",
       "Tripura                               1           0           0           0   \n",
       "Andaman and Nicobar Islands           0           0           0           0   \n",
       "\n",
       "states                       2021-02-05  2021-02-06  2021-02-07  2021-02-08  \\\n",
       "state                                                                         \n",
       "Telangana                           169         161         150         101   \n",
       "Odisha                               97          82          72          72   \n",
       "Bihar                                90          88          53          56   \n",
       "Tripura                               1           0           0           0   \n",
       "Andaman and Nicobar Islands           3           3           1           4   \n",
       "\n",
       "states                       2021-02-09  \n",
       "state                                    \n",
       "Telangana                           149  \n",
       "Odisha                              105  \n",
       "Bihar                                92  \n",
       "Tripura                               1  \n",
       "Andaman and Nicobar Islands           0  \n",
       "\n",
       "[5 rows x 224 columns]"
      ]
     },
     "execution_count": 18,
     "metadata": {},
     "output_type": "execute_result"
    }
   ],
   "source": [
    "#hide\n",
    "dft_ct_new_cases.head()"
   ]
  },
  {
   "cell_type": "code",
   "execution_count": 19,
   "id": "responsible-nightlife",
   "metadata": {
    "execution": {
     "iopub.execute_input": "2021-02-09T15:26:08.797634Z",
     "iopub.status.busy": "2021-02-09T15:26:08.792016Z",
     "iopub.status.idle": "2021-02-09T15:26:16.230124Z",
     "shell.execute_reply": "2021-02-09T15:26:16.229634Z"
    },
    "papermill": {
     "duration": 7.465967,
     "end_time": "2021-02-09T15:26:16.230260",
     "exception": false,
     "start_time": "2021-02-09T15:26:08.764293",
     "status": "completed"
    },
    "tags": []
   },
   "outputs": [
    {
     "data": {
      "image/png": "[encoded data removed]",
      "text/plain": [
       "<Figure size 1296x2016 with 11 Axes>"
      ]
     },
     "metadata": {
      "needs_background": "light"
     },
     "output_type": "display_data"
    }
   ],
   "source": [
    "#hide_input\n",
    "df = dft_ct_new_cases.copy()\n",
    "df.loc['Total'] = df.sum()\n",
    "n = 5\n",
    "ax = []\n",
    "fig = plt.figure(figsize = (18,28))\n",
    "gs = fig.add_gridspec(n+2, 5)\n",
    "# gs = fig.add_gridspec(2, 3)\n",
    "ax1 = fig.add_subplot(gs[0, :])\n",
    "ef = df.loc['Total'].rename_axis('date').reset_index()\n",
    "ef['date'] = ef['date'].astype('datetime64[ns]')\n",
    "ax1.bar(ef.date,ef.Total,alpha=0.3,color='#007acc')\n",
    "ax1.plot(ef.date,ef.Total , marker=\"o\", color='#007acc')\n",
    "ax1.xaxis.set_major_locator(mdates.WeekdayLocator())\n",
    "ax1.xaxis.set_major_formatter(mdates.DateFormatter('%b %d'))\n",
    "ax1.text(0.02, 0.5,'India daily case count', transform = ax1.transAxes, fontsize=25);\n",
    "ax1.spines['right'].set_visible(False)\n",
    "ax1.spines['top'].set_visible(False)\n",
    "\n",
    "ax2 = fig.add_subplot(gs[1,0])\n",
    "ef = df.loc['Maharashtra'].rename_axis('date').reset_index()\n",
    "ef['date'] = ef['date'].astype('datetime64[ns]')\n",
    "\n",
    "ax2.bar(ef.date, ef.Maharashtra,color = '#007acc',alpha=0.5)\n",
    "ax2.xaxis.set_major_locator(mdates.WeekdayLocator())\n",
    "ax2.xaxis.set_major_formatter(mdates.DateFormatter('%b %d'))\n",
    "ax2.set_xticks(ax2.get_xticks()[::3])\n",
    "maxyval = ef.Maharashtra.max()\n",
    "ax2.set_ylim([0,maxyval])\n",
    "ax2.text(0.05, 0.9,'Maharashtra', transform = ax2.transAxes, fontsize=20);\n",
    "ax2.spines['right'].set_visible(False)\n",
    "ax2.spines['top'].set_visible(False)\n",
    "\n",
    "\n",
    "ax3 = fig.add_subplot(gs[1,1])\n",
    "ef = df.loc['Tamil Nadu'].rename_axis('date').reset_index()\n",
    "ef['date'] = ef['date'].astype('datetime64[ns]')\n",
    "ax3.bar(ef.date, ef['Tamil Nadu'],color = '#007acc',alpha=0.5,)\n",
    "ax3.xaxis.set_major_locator(mdates.WeekdayLocator())\n",
    "ax3.xaxis.set_major_formatter(mdates.DateFormatter('%b %d'))\n",
    "ax3.set_xticks(ax3.get_xticks()[::3])\n",
    "ax3.text(0.05, 0.9,'Tamil Nadu', transform = ax3.transAxes, fontsize=20);\n",
    "ax3.spines['right'].set_visible(False)\n",
    "ax3.spines['top'].set_visible(False)\n",
    "\n",
    "ax5 = fig.add_subplot(gs[1,3])\n",
    "ef = df.loc['Telangana'].rename_axis('date').reset_index()\n",
    "ef['date'] = ef['date'].astype('datetime64[ns]')\n",
    "ax5.bar(ef.date, ef['Telangana'],color = '#007acc',alpha=0.5,)\n",
    "ax5.xaxis.set_major_locator(mdates.WeekdayLocator())\n",
    "ax5.xaxis.set_major_formatter(mdates.DateFormatter('%b %d'))\n",
    "ax5.set_xticks(ax5.get_xticks()[::3])\n",
    "ax5.text(0.05, 0.9,'Telangana', transform = ax5.transAxes, fontsize=20);\n",
    "ax5.spines['right'].set_visible(False)\n",
    "ax5.spines['top'].set_visible(False)\n",
    "\n",
    "ax6 = fig.add_subplot(gs[1,4])\n",
    "ef = df.loc['Andhra Pradesh'].rename_axis('date').reset_index()\n",
    "ef['date'] = ef['date'].astype('datetime64[ns]')\n",
    "ax6.bar(ef.date, ef['Andhra Pradesh'],color = '#007acc',alpha=0.5,)\n",
    "ax6.xaxis.set_major_locator(mdates.WeekdayLocator())\n",
    "ax6.xaxis.set_major_formatter(mdates.DateFormatter('%b %d'))\n",
    "ax6.set_xticks(ax6.get_xticks()[::3])\n",
    "ax6.text(0.05, 1,'Andhra Pradesh', transform = ax6.transAxes, fontsize=20);\n",
    "ax6.spines['right'].set_visible(False)\n",
    "ax6.spines['top'].set_visible(False)\n",
    "\n",
    "ax4 = fig.add_subplot(gs[1,2])\n",
    "ef = df.loc['Delhi'].rename_axis('date').reset_index()\n",
    "ef['date'] = ef['date'].astype('datetime64[ns]')\n",
    "ax4.bar(ef.date, ef.Delhi,color = '#007acc',alpha=0.5)\n",
    "ax4.set_xticks([])\n",
    "ax4.xaxis.set_major_locator(mdates.WeekdayLocator())\n",
    "ax4.xaxis.set_major_formatter(mdates.DateFormatter('%b %d'))\n",
    "ax4.set_xticks(ax4.get_xticks()[::3])\n",
    "ax4.spines['right'].set_visible(False)\n",
    "ax4.spines['top'].set_visible(False)\n",
    "\n",
    "ax4.text(0.05, 1,'Delhi', transform = ax4.transAxes, fontsize=20)\n",
    "\n",
    "for i in range(n):\n",
    "    \n",
    "    ax.append(fig.add_subplot(gs[i+2,:]))\n",
    "    ef = df.iloc[i+3].rename_axis('date').reset_index()\n",
    "    ef['date'] = ef['date'].astype('datetime64[ns]')\n",
    "    ax[i].bar(ef.date,ef.iloc[:,-1],color = '#007acc',alpha=0.3)\n",
    "    ax[i].plot(ef.date,ef.iloc[:,-1],marker='o',color='#007acc')\n",
    "    ax[i].text(0.02,0.5,f'{ef.columns.values[-1]}',transform = ax[i].transAxes, fontsize = 20);\n",
    "    ax[i].xaxis.set_major_locator(mdates.WeekdayLocator())\n",
    "    ax[i].xaxis.set_major_formatter(mdates.DateFormatter('%b %d'))\n",
    "    ax[i].set_ylim([0,7000])\n",
    "    ax[i].spines['right'].set_visible(False)\n",
    "    ax[i].spines['top'].set_visible(False)\n",
    "plt.tight_layout()\n"
   ]
  },
  {
   "cell_type": "code",
   "execution_count": 20,
   "id": "dress-forge",
   "metadata": {
    "execution": {
     "iopub.execute_input": "2021-02-09T15:26:16.288174Z",
     "iopub.status.busy": "2021-02-09T15:26:16.287522Z",
     "iopub.status.idle": "2021-02-09T15:26:16.289787Z",
     "shell.execute_reply": "2021-02-09T15:26:16.290259Z"
    },
    "papermill": {
     "duration": 0.036361,
     "end_time": "2021-02-09T15:26:16.290404",
     "exception": false,
     "start_time": "2021-02-09T15:26:16.254043",
     "status": "completed"
    },
    "tags": []
   },
   "outputs": [
    {
     "name": "stdout",
     "output_type": "stream",
     "text": [
      "                                   states    Cases  Deaths   PCases  PDeaths  Cases (+)  Deaths (+)  Fatality Rate\n",
      "                              Maharashtra  2046287   51325  2046287    51325          0           0           2.51\n",
      "                                   Kerala   972181    3884   972181     3884          0           0           0.40\n",
      "                                Karnataka   942846   12239   942846    12239          0           0           1.30\n",
      "                           Andhra Pradesh   888485    7160   888485     7160          0           0           0.81\n",
      "                               Tamil Nadu   842261   12387   842261    12387          0           0           1.47\n",
      "                                    Delhi   636160   10882   636160    10882          0           0           1.71\n",
      "                            Uttar Pradesh   601455    8691   601455     8691          0           0           1.44\n",
      "                              West Bengal   571490   10209   571490    10209          0           0           1.79\n",
      "                                   Odisha   335797    1963   335692     1963        105           0           0.58\n",
      "                                Rajasthan   318294    2774   318294     2774          0           0           0.87\n",
      "                             Chhattisgarh   307790    3744   307790     3744          0           0           1.22\n",
      "                                Telangana   295831    1612   295682     1611        149           1           0.54\n",
      "                                  Haryana   268507    3029   268507     3029          0           0           1.13\n",
      "                                  Gujarat   263676    4396   263676     4396          0           0           1.67\n",
      "                                    Bihar   261447    1518   261355     1517         92           1           0.58\n",
      "                           Madhya Pradesh   256591    3823   256591     3823          0           0           1.49\n",
      "                                    Assam   217229    1085   217229     1085          0           0           0.50\n",
      "                                   Punjab   174838    5653   174838     5653          0           0           3.23\n",
      "                        Jammu and Kashmir   124952    1944   124952     1944          0           0           1.56\n",
      "                                Jharkhand   119055    1078   119055     1078          0           0           0.91\n",
      "                              Uttarakhand    96536    1671    96536     1671          0           0           1.73\n",
      "                         Himachal Pradesh    57925     972    57925      972          0           0           1.68\n",
      "                                      Goa    53937     772    53937      772          0           0           1.43\n",
      "                               Puducherry    39318     655    39318      655          0           0           1.67\n",
      "                                  Tripura    33350     388    33349      388          1           0           1.16\n",
      "                                  Manipur    29130     373    29130      373          0           0           1.28\n",
      "                               Chandigarh    21107     340    21107      340          0           0           1.61\n",
      "                        Arunachal Pradesh    16831      56    16831       56          0           0           0.33\n",
      "                                Meghalaya    13886     148    13886      148          0           0           1.07\n",
      "                                 Nagaland    12160      88    12160       88          0           0           0.72\n",
      "                                   Ladakh     9753     130     9753      130          0           0           1.33\n",
      "                                   Sikkim     6110     135     6110      135          0           0           2.21\n",
      "              Andaman and Nicobar Islands     5005      62     5005       62          0           0           1.24\n",
      "                                  Mizoram     4383       9     4383        9          0           0           0.21\n",
      " Dadra and Nagar Haveli and Daman and Diu     3380       2     3380        2          0           0           0.06\n",
      "                              Lakshadweep      154       0      154        0          0           0           0.00\n"
     ]
    }
   ],
   "source": [
    "#hide_input\n",
    "print(df_table.to_string(index=False))"
   ]
  },
  {
   "cell_type": "code",
   "execution_count": null,
   "id": "quantitative-legend",
   "metadata": {
    "papermill": {
     "duration": 0.023875,
     "end_time": "2021-02-09T15:26:16.338404",
     "exception": false,
     "start_time": "2021-02-09T15:26:16.314529",
     "status": "completed"
    },
    "tags": []
   },
   "outputs": [],
   "source": []
  },
  {
   "cell_type": "code",
   "execution_count": null,
   "id": "distant-acoustic",
   "metadata": {
    "papermill": {
     "duration": 0.024182,
     "end_time": "2021-02-09T15:26:16.386800",
     "exception": false,
     "start_time": "2021-02-09T15:26:16.362618",
     "status": "completed"
    },
    "tags": []
   },
   "outputs": [],
   "source": []
  }
 ],
 "metadata": {
  "kernelspec": {
   "display_name": "Python 3",
   "language": "python",
   "name": "python3"
  },
  "language_info": {
   "codemirror_mode": {
    "name": "ipython",
    "version": 3
   },
   "file_extension": ".py",
   "mimetype": "text/x-python",
   "name": "python",
   "nbconvert_exporter": "python",
   "pygments_lexer": "ipython3",
   "version": "3.6.12"
  },
  "papermill": {
   "duration": 18.341449,
   "end_time": "2021-02-09T15:26:17.787527",
   "environment_variables": {},
   "exception": null,
   "input_path": "latest.ipynb",
   "output_path": "latest.ipynb",
   "parameters": {},
   "start_time": "2021-02-09T15:25:59.446078",
   "version": "2.1.2"
  }
 },
 "nbformat": 4,
 "nbformat_minor": 5
}