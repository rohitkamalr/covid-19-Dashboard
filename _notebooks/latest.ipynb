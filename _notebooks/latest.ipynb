{
 "cells": [
  {
   "cell_type": "markdown",
   "metadata": {
    "papermill": {
     "duration": 0.019609,
     "end_time": "2020-08-19T13:37:23.757658",
     "exception": false,
     "start_time": "2020-08-19T13:37:23.738049",
     "status": "completed"
    },
    "tags": []
   },
   "source": [
    "# Latest COVID-19 India Matplotlib Overview"
   ]
  },
  {
   "cell_type": "code",
   "execution_count": 1,
   "metadata": {
    "execution": {
     "iopub.execute_input": "2020-08-19T13:37:23.796632Z",
     "iopub.status.busy": "2020-08-19T13:37:23.795972Z",
     "iopub.status.idle": "2020-08-19T13:37:24.405008Z",
     "shell.execute_reply": "2020-08-19T13:37:24.404425Z"
    },
    "papermill": {
     "duration": 0.631684,
     "end_time": "2020-08-19T13:37:24.405177",
     "exception": false,
     "start_time": "2020-08-19T13:37:23.773493",
     "status": "completed"
    },
    "tags": []
   },
   "outputs": [],
   "source": [
    "#hide\n",
    "import pandas as pd\n",
    "import numpy as np\n",
    "import requests\n",
    "import json\n",
    "import matplotlib.pyplot as plt\n",
    "import matplotlib.dates as mdates\n",
    "import matplotlib as mpl\n",
    "from IPython.core.display import display,HTML\n",
    "%matplotlib inline\n",
    "from datetime import date"
   ]
  },
  {
   "cell_type": "code",
   "execution_count": 2,
   "metadata": {
    "execution": {
     "iopub.execute_input": "2020-08-19T13:37:24.444757Z",
     "iopub.status.busy": "2020-08-19T13:37:24.443473Z",
     "iopub.status.idle": "2020-08-19T13:37:24.563738Z",
     "shell.execute_reply": "2020-08-19T13:37:24.564237Z"
    },
    "papermill": {
     "duration": 0.143052,
     "end_time": "2020-08-19T13:37:24.564410",
     "exception": false,
     "start_time": "2020-08-19T13:37:24.421358",
     "status": "completed"
    },
    "tags": []
   },
   "outputs": [],
   "source": [
    "#hide\n",
    "df  = pd.read_csv('https://api.covid19india.org/csv/latest/states.csv')\n",
    "df = df[['Date','State','Confirmed','Deceased']]\n",
    "df = df.rename(columns={'Confirmed':'Cases', \"Deceased\":'Deaths'})\n",
    "df_cases = df[[\"Date\",'State','Cases']]\n",
    "df_deaths = df[['Date','State','Deaths']]\n",
    "df_cases1 = df_cases.groupby('Date')\n",
    "df_deaths1= df_deaths.groupby('Date')"
   ]
  },
  {
   "cell_type": "code",
   "execution_count": 3,
   "metadata": {
    "execution": {
     "iopub.execute_input": "2020-08-19T13:37:24.600018Z",
     "iopub.status.busy": "2020-08-19T13:37:24.599415Z",
     "iopub.status.idle": "2020-08-19T13:37:24.617109Z",
     "shell.execute_reply": "2020-08-19T13:37:24.616491Z"
    },
    "papermill": {
     "duration": 0.037171,
     "end_time": "2020-08-19T13:37:24.617243",
     "exception": false,
     "start_time": "2020-08-19T13:37:24.580072",
     "status": "completed"
    },
    "tags": []
   },
   "outputs": [],
   "source": [
    "#hide\n",
    "df_snap = pd.read_csv('data/SnapshotCases-28-July.csv')\n",
    "arr_states = df_snap['states'].unique()\n",
    "arr_dates = df['Date'].unique()\n",
    "df_snap = df_snap.set_index('states')"
   ]
  },
  {
   "cell_type": "code",
   "execution_count": 4,
   "metadata": {
    "execution": {
     "iopub.execute_input": "2020-08-19T13:37:24.664215Z",
     "iopub.status.busy": "2020-08-19T13:37:24.663434Z",
     "iopub.status.idle": "2020-08-19T13:37:24.669382Z",
     "shell.execute_reply": "2020-08-19T13:37:24.668839Z"
    },
    "papermill": {
     "duration": 0.028804,
     "end_time": "2020-08-19T13:37:24.669549",
     "exception": false,
     "start_time": "2020-08-19T13:37:24.640745",
     "status": "completed"
    },
    "tags": []
   },
   "outputs": [
    {
     "data": {
      "text/plain": [
       "array(['Andaman and Nicobar Islands', 'Andhra Pradesh',\n",
       "       'Arunachal Pradesh', 'Assam', 'Bihar', 'Chandigarh',\n",
       "       'Dadra and Nagar Haveli and Daman and Diu', 'Delhi', 'Goa',\n",
       "       'Gujarat', 'Haryana', 'Himachal Pradesh', 'Jammu and Kashmir',\n",
       "       'Jharkhand', 'Karnataka', 'Kerala', 'Lakshadweep',\n",
       "       'Madhya Pradesh', 'Maharashtra', 'Manipur', 'Meghalaya', 'Mizoram',\n",
       "       'Nagaland', 'Odisha', 'Puducherry', 'Punjab', 'Rajasthan',\n",
       "       'Sikkim', 'Tamil Nadu', 'Telangana', 'Tripura', 'Uttar Pradesh',\n",
       "       'West Bengal', 'Chhattisgarh', 'Ladakh', 'Uttarakhand'],\n",
       "      dtype=object)"
      ]
     },
     "execution_count": 4,
     "metadata": {},
     "output_type": "execute_result"
    }
   ],
   "source": [
    "#hide\n",
    "arr_states[-9] = 'Puducherry'\n",
    "arr_states[-10] = 'Odisha'\n",
    "arr_states[6] = 'Dadra and Nagar Haveli and Daman and Diu'\n",
    "arr_states = np.append(arr_states,np.array(['Chhattisgarh','Ladakh','Uttarakhand']))\n",
    "arr_states"
   ]
  },
  {
   "cell_type": "code",
   "execution_count": 5,
   "metadata": {
    "execution": {
     "iopub.execute_input": "2020-08-19T13:37:24.713372Z",
     "iopub.status.busy": "2020-08-19T13:37:24.711231Z",
     "iopub.status.idle": "2020-08-19T13:37:24.721546Z",
     "shell.execute_reply": "2020-08-19T13:37:24.721027Z"
    },
    "papermill": {
     "duration": 0.035344,
     "end_time": "2020-08-19T13:37:24.721722",
     "exception": false,
     "start_time": "2020-08-19T13:37:24.686378",
     "status": "completed"
    },
    "tags": []
   },
   "outputs": [],
   "source": [
    "#hide\n",
    "dates = []\n",
    "for i in arr_dates:\n",
    "    if i>='2020-07-01':\n",
    "        dates.append(i)\n",
    "dict = {'states':dates}\n",
    "for i in arr_states:\n",
    "    dict[i] = [0]*len(dates)\n",
    "dft_cases = pd.DataFrame(dict)\n",
    "dft_deaths = pd.DataFrame(dict)\n"
   ]
  },
  {
   "cell_type": "code",
   "execution_count": 6,
   "metadata": {
    "execution": {
     "iopub.execute_input": "2020-08-19T13:37:24.761122Z",
     "iopub.status.busy": "2020-08-19T13:37:24.760414Z",
     "iopub.status.idle": "2020-08-19T13:37:25.618840Z",
     "shell.execute_reply": "2020-08-19T13:37:25.619377Z"
    },
    "papermill": {
     "duration": 0.88112,
     "end_time": "2020-08-19T13:37:25.619565",
     "exception": false,
     "start_time": "2020-08-19T13:37:24.738445",
     "status": "completed"
    },
    "tags": []
   },
   "outputs": [],
   "source": [
    "#hide\n",
    "for i in range(len(dates)):\n",
    "    df1_deaths = df_deaths1.get_group(dates[i])\n",
    "    for j in range(len(df1_deaths.index)):\n",
    "        if df1_deaths.iloc[j,1] in arr_states:\n",
    "            dft_deaths.loc[i,df1_deaths.iloc[j,1]] = df1_deaths.iloc[j,2]\n",
    "dft_deaths = dft_deaths.set_index('states')"
   ]
  },
  {
   "cell_type": "code",
   "execution_count": 7,
   "metadata": {
    "execution": {
     "iopub.execute_input": "2020-08-19T13:37:25.661932Z",
     "iopub.status.busy": "2020-08-19T13:37:25.661094Z",
     "iopub.status.idle": "2020-08-19T13:37:26.528913Z",
     "shell.execute_reply": "2020-08-19T13:37:26.528291Z"
    },
    "papermill": {
     "duration": 0.892113,
     "end_time": "2020-08-19T13:37:26.529071",
     "exception": false,
     "start_time": "2020-08-19T13:37:25.636958",
     "status": "completed"
    },
    "tags": []
   },
   "outputs": [],
   "source": [
    "#hide\n",
    "for i in range(len(dates)):\n",
    "    df1_cases = df_cases1.get_group(dates[i])\n",
    "    for j in range(len(df1_cases.index)):\n",
    "        if df1_cases.iloc[j,1] in arr_states:\n",
    "            dft_cases.loc[i,df1_cases.iloc[j,1]] = df1_cases.iloc[j,2]\n",
    "dft_cases = dft_cases.set_index('states')"
   ]
  },
  {
   "cell_type": "code",
   "execution_count": 8,
   "metadata": {
    "execution": {
     "iopub.execute_input": "2020-08-19T13:37:26.567253Z",
     "iopub.status.busy": "2020-08-19T13:37:26.566532Z",
     "iopub.status.idle": "2020-08-19T13:37:26.569376Z",
     "shell.execute_reply": "2020-08-19T13:37:26.568759Z"
    },
    "papermill": {
     "duration": 0.023851,
     "end_time": "2020-08-19T13:37:26.569512",
     "exception": false,
     "start_time": "2020-08-19T13:37:26.545661",
     "status": "completed"
    },
    "tags": []
   },
   "outputs": [],
   "source": [
    "#hide\n",
    "dft_cases = dft_cases.T\n",
    "dft_deaths = dft_deaths.T\n",
    "dt_today = dates[-1]\n",
    "dt_yday = dates[-2]"
   ]
  },
  {
   "cell_type": "code",
   "execution_count": 9,
   "metadata": {
    "execution": {
     "iopub.execute_input": "2020-08-19T13:37:26.604738Z",
     "iopub.status.busy": "2020-08-19T13:37:26.603893Z",
     "iopub.status.idle": "2020-08-19T13:37:26.609540Z",
     "shell.execute_reply": "2020-08-19T13:37:26.610216Z"
    },
    "papermill": {
     "duration": 0.025629,
     "end_time": "2020-08-19T13:37:26.610360",
     "exception": false,
     "start_time": "2020-08-19T13:37:26.584731",
     "status": "completed"
    },
    "tags": []
   },
   "outputs": [],
   "source": [
    "#hide\n",
    "dft_cases = dft_cases.reset_index()\n",
    "dft_deaths = dft_deaths.reset_index()\n",
    "dft_cases = dft_cases.rename(columns = {'index':'state'})\n",
    "dft_deaths = dft_deaths.rename(columns = {'index':'state'})"
   ]
  },
  {
   "cell_type": "code",
   "execution_count": 10,
   "metadata": {
    "execution": {
     "iopub.execute_input": "2020-08-19T13:37:26.653410Z",
     "iopub.status.busy": "2020-08-19T13:37:26.652693Z",
     "iopub.status.idle": "2020-08-19T13:37:26.656770Z",
     "shell.execute_reply": "2020-08-19T13:37:26.657284Z"
    },
    "papermill": {
     "duration": 0.031234,
     "end_time": "2020-08-19T13:37:26.657447",
     "exception": false,
     "start_time": "2020-08-19T13:37:26.626213",
     "status": "completed"
    },
    "tags": []
   },
   "outputs": [],
   "source": [
    "#hide\n",
    "dfc_cases = dft_cases.groupby('state')[dt_today].sum()\n",
    "dfc_deaths = dft_deaths.groupby('state')[dt_today].sum()\n",
    "dfp_cases = dft_cases.groupby('state')[dt_yday].sum()\n",
    "dfp_deaths = dft_deaths.groupby('state')[dt_yday].sum()"
   ]
  },
  {
   "cell_type": "code",
   "execution_count": 11,
   "metadata": {
    "execution": {
     "iopub.execute_input": "2020-08-19T13:37:26.705361Z",
     "iopub.status.busy": "2020-08-19T13:37:26.698375Z",
     "iopub.status.idle": "2020-08-19T13:37:26.712702Z",
     "shell.execute_reply": "2020-08-19T13:37:26.712178Z"
    },
    "papermill": {
     "duration": 0.038964,
     "end_time": "2020-08-19T13:37:26.712844",
     "exception": false,
     "start_time": "2020-08-19T13:37:26.673880",
     "status": "completed"
    },
    "tags": []
   },
   "outputs": [
    {
     "data": {
      "text/html": [
       "<div>\n",
       "<style scoped>\n",
       "    .dataframe tbody tr th:only-of-type {\n",
       "        vertical-align: middle;\n",
       "    }\n",
       "\n",
       "    .dataframe tbody tr th {\n",
       "        vertical-align: top;\n",
       "    }\n",
       "\n",
       "    .dataframe thead th {\n",
       "        text-align: right;\n",
       "    }\n",
       "</style>\n",
       "<table border=\"1\" class=\"dataframe\">\n",
       "  <thead>\n",
       "    <tr style=\"text-align: right;\">\n",
       "      <th></th>\n",
       "      <th>states</th>\n",
       "      <th>Cases</th>\n",
       "      <th>Deaths</th>\n",
       "      <th>PCases</th>\n",
       "      <th>PDeaths</th>\n",
       "    </tr>\n",
       "  </thead>\n",
       "  <tbody>\n",
       "    <tr>\n",
       "      <th>0</th>\n",
       "      <td>Maharashtra</td>\n",
       "      <td>615477</td>\n",
       "      <td>20687</td>\n",
       "      <td>615477</td>\n",
       "      <td>20687</td>\n",
       "    </tr>\n",
       "    <tr>\n",
       "      <th>1</th>\n",
       "      <td>Tamil Nadu</td>\n",
       "      <td>355449</td>\n",
       "      <td>6123</td>\n",
       "      <td>349654</td>\n",
       "      <td>6007</td>\n",
       "    </tr>\n",
       "    <tr>\n",
       "      <th>2</th>\n",
       "      <td>Andhra Pradesh</td>\n",
       "      <td>316003</td>\n",
       "      <td>2906</td>\n",
       "      <td>306261</td>\n",
       "      <td>2820</td>\n",
       "    </tr>\n",
       "    <tr>\n",
       "      <th>3</th>\n",
       "      <td>Karnataka</td>\n",
       "      <td>240948</td>\n",
       "      <td>4201</td>\n",
       "      <td>240948</td>\n",
       "      <td>4201</td>\n",
       "    </tr>\n",
       "    <tr>\n",
       "      <th>4</th>\n",
       "      <td>Uttar Pradesh</td>\n",
       "      <td>162434</td>\n",
       "      <td>2585</td>\n",
       "      <td>162434</td>\n",
       "      <td>2585</td>\n",
       "    </tr>\n",
       "  </tbody>\n",
       "</table>\n",
       "</div>"
      ],
      "text/plain": [
       "           states   Cases  Deaths  PCases  PDeaths\n",
       "0     Maharashtra  615477   20687  615477    20687\n",
       "1      Tamil Nadu  355449    6123  349654     6007\n",
       "2  Andhra Pradesh  316003    2906  306261     2820\n",
       "3       Karnataka  240948    4201  240948     4201\n",
       "4   Uttar Pradesh  162434    2585  162434     2585"
      ]
     },
     "execution_count": 11,
     "metadata": {},
     "output_type": "execute_result"
    }
   ],
   "source": [
    "#hide\n",
    "df_table = pd.DataFrame({'states': dfc_cases.index, 'Cases': dfc_cases.values, 'Deaths': dfc_deaths.values, 'PCases': dfp_cases.values, 'PDeaths': dfp_deaths.values}).set_index('states')\n",
    "df_table = df_table.sort_values(by = ['Cases','Deaths'], ascending = [False, False])\n",
    "df_table = df_table.reset_index()\n",
    "df_table.head()"
   ]
  },
  {
   "cell_type": "code",
   "execution_count": 12,
   "metadata": {
    "execution": {
     "iopub.execute_input": "2020-08-19T13:37:26.750979Z",
     "iopub.status.busy": "2020-08-19T13:37:26.750307Z",
     "iopub.status.idle": "2020-08-19T13:37:26.759304Z",
     "shell.execute_reply": "2020-08-19T13:37:26.759840Z"
    },
    "papermill": {
     "duration": 0.030884,
     "end_time": "2020-08-19T13:37:26.759998",
     "exception": false,
     "start_time": "2020-08-19T13:37:26.729114",
     "status": "completed"
    },
    "tags": []
   },
   "outputs": [],
   "source": [
    "#hide\n",
    "for c in 'Cases, Deaths'.split(', '):\n",
    "    df_table[f'{c} (+)'] = (df_table[c] - df_table[f'P{c}']).clip(0)\n",
    "df_table['Fatality Rate'] = (100* df_table['Deaths']/ df_table['Cases']).round(2)"
   ]
  },
  {
   "cell_type": "code",
   "execution_count": 13,
   "metadata": {
    "execution": {
     "iopub.execute_input": "2020-08-19T13:37:26.805379Z",
     "iopub.status.busy": "2020-08-19T13:37:26.804703Z",
     "iopub.status.idle": "2020-08-19T13:37:26.807698Z",
     "shell.execute_reply": "2020-08-19T13:37:26.808283Z"
    },
    "papermill": {
     "duration": 0.031708,
     "end_time": "2020-08-19T13:37:26.808442",
     "exception": false,
     "start_time": "2020-08-19T13:37:26.776734",
     "status": "completed"
    },
    "tags": []
   },
   "outputs": [
    {
     "data": {
      "text/html": [
       "<div>\n",
       "<style scoped>\n",
       "    .dataframe tbody tr th:only-of-type {\n",
       "        vertical-align: middle;\n",
       "    }\n",
       "\n",
       "    .dataframe tbody tr th {\n",
       "        vertical-align: top;\n",
       "    }\n",
       "\n",
       "    .dataframe thead th {\n",
       "        text-align: right;\n",
       "    }\n",
       "</style>\n",
       "<table border=\"1\" class=\"dataframe\">\n",
       "  <thead>\n",
       "    <tr style=\"text-align: right;\">\n",
       "      <th></th>\n",
       "      <th>states</th>\n",
       "      <th>Cases</th>\n",
       "      <th>Deaths</th>\n",
       "      <th>PCases</th>\n",
       "      <th>PDeaths</th>\n",
       "      <th>Cases (+)</th>\n",
       "      <th>Deaths (+)</th>\n",
       "      <th>Fatality Rate</th>\n",
       "    </tr>\n",
       "  </thead>\n",
       "  <tbody>\n",
       "    <tr>\n",
       "      <th>0</th>\n",
       "      <td>Maharashtra</td>\n",
       "      <td>615477</td>\n",
       "      <td>20687</td>\n",
       "      <td>615477</td>\n",
       "      <td>20687</td>\n",
       "      <td>0</td>\n",
       "      <td>0</td>\n",
       "      <td>3.36</td>\n",
       "    </tr>\n",
       "    <tr>\n",
       "      <th>1</th>\n",
       "      <td>Tamil Nadu</td>\n",
       "      <td>355449</td>\n",
       "      <td>6123</td>\n",
       "      <td>349654</td>\n",
       "      <td>6007</td>\n",
       "      <td>5795</td>\n",
       "      <td>116</td>\n",
       "      <td>1.72</td>\n",
       "    </tr>\n",
       "    <tr>\n",
       "      <th>2</th>\n",
       "      <td>Andhra Pradesh</td>\n",
       "      <td>316003</td>\n",
       "      <td>2906</td>\n",
       "      <td>306261</td>\n",
       "      <td>2820</td>\n",
       "      <td>9742</td>\n",
       "      <td>86</td>\n",
       "      <td>0.92</td>\n",
       "    </tr>\n",
       "    <tr>\n",
       "      <th>3</th>\n",
       "      <td>Karnataka</td>\n",
       "      <td>240948</td>\n",
       "      <td>4201</td>\n",
       "      <td>240948</td>\n",
       "      <td>4201</td>\n",
       "      <td>0</td>\n",
       "      <td>0</td>\n",
       "      <td>1.74</td>\n",
       "    </tr>\n",
       "    <tr>\n",
       "      <th>4</th>\n",
       "      <td>Uttar Pradesh</td>\n",
       "      <td>162434</td>\n",
       "      <td>2585</td>\n",
       "      <td>162434</td>\n",
       "      <td>2585</td>\n",
       "      <td>0</td>\n",
       "      <td>0</td>\n",
       "      <td>1.59</td>\n",
       "    </tr>\n",
       "  </tbody>\n",
       "</table>\n",
       "</div>"
      ],
      "text/plain": [
       "           states   Cases  Deaths  PCases  PDeaths  Cases (+)  Deaths (+)  \\\n",
       "0     Maharashtra  615477   20687  615477    20687          0           0   \n",
       "1      Tamil Nadu  355449    6123  349654     6007       5795         116   \n",
       "2  Andhra Pradesh  316003    2906  306261     2820       9742          86   \n",
       "3       Karnataka  240948    4201  240948     4201          0           0   \n",
       "4   Uttar Pradesh  162434    2585  162434     2585          0           0   \n",
       "\n",
       "   Fatality Rate  \n",
       "0           3.36  \n",
       "1           1.72  \n",
       "2           0.92  \n",
       "3           1.74  \n",
       "4           1.59  "
      ]
     },
     "execution_count": 13,
     "metadata": {},
     "output_type": "execute_result"
    }
   ],
   "source": [
    "#hide\n",
    "df_table.head()"
   ]
  },
  {
   "cell_type": "code",
   "execution_count": 14,
   "metadata": {
    "execution": {
     "iopub.execute_input": "2020-08-19T13:37:26.865751Z",
     "iopub.status.busy": "2020-08-19T13:37:26.849426Z",
     "iopub.status.idle": "2020-08-19T13:37:26.869459Z",
     "shell.execute_reply": "2020-08-19T13:37:26.870074Z"
    },
    "papermill": {
     "duration": 0.044699,
     "end_time": "2020-08-19T13:37:26.870247",
     "exception": false,
     "start_time": "2020-08-19T13:37:26.825548",
     "status": "completed"
    },
    "tags": []
   },
   "outputs": [
    {
     "data": {
      "text/plain": [
       "{'updated': '2020-08-19',\n",
       " 'since': '2020-08-18',\n",
       " 'Cases': 2795483,\n",
       " 'PCases': 2766626,\n",
       " 'Deaths': 53293,\n",
       " 'PDeaths': 53015,\n",
       " 'Cases (+)': 28857,\n",
       " 'Deaths (+)': 278}"
      ]
     },
     "execution_count": 14,
     "metadata": {},
     "output_type": "execute_result"
    }
   ],
   "source": [
    "#hide\n",
    "summary = {'updated':dates[-1], 'since':dates[-2]}\n",
    "list_names = ['Cases', 'PCases', 'Deaths', 'PDeaths', 'Cases (+)', 'Deaths (+)']\n",
    "for name in list_names:\n",
    "    summary[name] = df_table.sum()[name]\n",
    "summary"
   ]
  },
  {
   "cell_type": "code",
   "execution_count": 15,
   "metadata": {
    "execution": {
     "iopub.execute_input": "2020-08-19T13:37:26.911635Z",
     "iopub.status.busy": "2020-08-19T13:37:26.910821Z",
     "iopub.status.idle": "2020-08-19T13:37:26.913531Z",
     "shell.execute_reply": "2020-08-19T13:37:26.913014Z"
    },
    "papermill": {
     "duration": 0.024946,
     "end_time": "2020-08-19T13:37:26.913673",
     "exception": false,
     "start_time": "2020-08-19T13:37:26.888727",
     "status": "completed"
    },
    "tags": []
   },
   "outputs": [],
   "source": [
    "#hide\n",
    "overview = '''\n",
    "<!-- #######  HTML!! #########-->\n",
    "<h1 style=\"color: #5e9ca0; text-align: center;\">India</h1>\n",
    "<p style=\"text-align: center;\">Last update: <strong>{update}</strong></p>\n",
    "<p style=\"text-align: center;\">Confirmed cases:</p>\n",
    "<p style=\"text-align: center;font-size:24px;\">{cases} (<span style=\"color: #ff0000;\">+{new}</span>)</p>\n",
    "<p style=\"text-align: center;\">Confirmed deaths:</p>\n",
    "<p style=\"text-align: center;font-size:24px;\">{deaths} (<span style=\"color: #ff0000;\">+{dnew}</span>)</p>\n",
    "'''"
   ]
  },
  {
   "cell_type": "code",
   "execution_count": 16,
   "metadata": {
    "execution": {
     "iopub.execute_input": "2020-08-19T13:37:26.952640Z",
     "iopub.status.busy": "2020-08-19T13:37:26.951998Z",
     "iopub.status.idle": "2020-08-19T13:37:26.955180Z",
     "shell.execute_reply": "2020-08-19T13:37:26.955689Z"
    },
    "papermill": {
     "duration": 0.025573,
     "end_time": "2020-08-19T13:37:26.955849",
     "exception": false,
     "start_time": "2020-08-19T13:37:26.930276",
     "status": "completed"
    },
    "tags": []
   },
   "outputs": [
    {
     "data": {
      "text/html": [
       "\n",
       "<!-- #######  HTML!! #########-->\n",
       "<h1 style=\"color: #5e9ca0; text-align: center;\">India</h1>\n",
       "<p style=\"text-align: center;\">Last update: <strong>2020-08-19</strong></p>\n",
       "<p style=\"text-align: center;\">Confirmed cases:</p>\n",
       "<p style=\"text-align: center;font-size:24px;\">2795483 (<span style=\"color: #ff0000;\">+28857</span>)</p>\n",
       "<p style=\"text-align: center;\">Confirmed deaths:</p>\n",
       "<p style=\"text-align: center;font-size:24px;\">53293 (<span style=\"color: #ff0000;\">+278</span>)</p>\n"
      ],
      "text/plain": [
       "<IPython.core.display.HTML object>"
      ]
     },
     "metadata": {},
     "output_type": "display_data"
    }
   ],
   "source": [
    "#hide_input\n",
    "update = summary['updated']\n",
    "cases = summary['Cases']\n",
    "new = summary['Cases (+)']\n",
    "deaths = summary['Deaths']\n",
    "dnew = summary['Deaths (+)']\n",
    "\n",
    "html = HTML(overview.format(update=update, cases=cases,new=new,deaths=deaths,dnew=dnew))\n",
    "\n",
    "display(html)"
   ]
  },
  {
   "cell_type": "code",
   "execution_count": 17,
   "metadata": {
    "execution": {
     "iopub.execute_input": "2020-08-19T13:37:27.000889Z",
     "iopub.status.busy": "2020-08-19T13:37:26.999510Z",
     "iopub.status.idle": "2020-08-19T13:37:27.003721Z",
     "shell.execute_reply": "2020-08-19T13:37:27.002937Z"
    },
    "papermill": {
     "duration": 0.030927,
     "end_time": "2020-08-19T13:37:27.003872",
     "exception": false,
     "start_time": "2020-08-19T13:37:26.972945",
     "status": "completed"
    },
    "tags": []
   },
   "outputs": [],
   "source": [
    "#hide\n",
    "dt_cols = list(dft_cases.columns[1:])\n",
    "dft_ct_new_cases = dft_cases.groupby('state')[dt_cols].sum().diff(axis=1).fillna(0).astype(int)\n",
    "dft_ct_new_cases.sort_values(by = dates[-1], ascending = False,inplace = True)"
   ]
  },
  {
   "cell_type": "code",
   "execution_count": 18,
   "metadata": {
    "execution": {
     "iopub.execute_input": "2020-08-19T13:37:27.060413Z",
     "iopub.status.busy": "2020-08-19T13:37:27.059541Z",
     "iopub.status.idle": "2020-08-19T13:37:27.063418Z",
     "shell.execute_reply": "2020-08-19T13:37:27.062872Z"
    },
    "papermill": {
     "duration": 0.041466,
     "end_time": "2020-08-19T13:37:27.063560",
     "exception": false,
     "start_time": "2020-08-19T13:37:27.022094",
     "status": "completed"
    },
    "tags": []
   },
   "outputs": [
    {
     "data": {
      "text/html": [
       "<div>\n",
       "<style scoped>\n",
       "    .dataframe tbody tr th:only-of-type {\n",
       "        vertical-align: middle;\n",
       "    }\n",
       "\n",
       "    .dataframe tbody tr th {\n",
       "        vertical-align: top;\n",
       "    }\n",
       "\n",
       "    .dataframe thead th {\n",
       "        text-align: right;\n",
       "    }\n",
       "</style>\n",
       "<table border=\"1\" class=\"dataframe\">\n",
       "  <thead>\n",
       "    <tr style=\"text-align: right;\">\n",
       "      <th>states</th>\n",
       "      <th>2020-07-01</th>\n",
       "      <th>2020-07-02</th>\n",
       "      <th>2020-07-03</th>\n",
       "      <th>2020-07-04</th>\n",
       "      <th>2020-07-05</th>\n",
       "      <th>2020-07-06</th>\n",
       "      <th>2020-07-07</th>\n",
       "      <th>2020-07-08</th>\n",
       "      <th>2020-07-09</th>\n",
       "      <th>2020-07-10</th>\n",
       "      <th>...</th>\n",
       "      <th>2020-08-10</th>\n",
       "      <th>2020-08-11</th>\n",
       "      <th>2020-08-12</th>\n",
       "      <th>2020-08-13</th>\n",
       "      <th>2020-08-14</th>\n",
       "      <th>2020-08-15</th>\n",
       "      <th>2020-08-16</th>\n",
       "      <th>2020-08-17</th>\n",
       "      <th>2020-08-18</th>\n",
       "      <th>2020-08-19</th>\n",
       "    </tr>\n",
       "    <tr>\n",
       "      <th>state</th>\n",
       "      <th></th>\n",
       "      <th></th>\n",
       "      <th></th>\n",
       "      <th></th>\n",
       "      <th></th>\n",
       "      <th></th>\n",
       "      <th></th>\n",
       "      <th></th>\n",
       "      <th></th>\n",
       "      <th></th>\n",
       "      <th></th>\n",
       "      <th></th>\n",
       "      <th></th>\n",
       "      <th></th>\n",
       "      <th></th>\n",
       "      <th></th>\n",
       "      <th></th>\n",
       "      <th></th>\n",
       "      <th></th>\n",
       "      <th></th>\n",
       "      <th></th>\n",
       "    </tr>\n",
       "  </thead>\n",
       "  <tbody>\n",
       "    <tr>\n",
       "      <th>Andhra Pradesh</th>\n",
       "      <td>0</td>\n",
       "      <td>845</td>\n",
       "      <td>837</td>\n",
       "      <td>765</td>\n",
       "      <td>998</td>\n",
       "      <td>1322</td>\n",
       "      <td>1178</td>\n",
       "      <td>1062</td>\n",
       "      <td>1555</td>\n",
       "      <td>1608</td>\n",
       "      <td>...</td>\n",
       "      <td>7665</td>\n",
       "      <td>9024</td>\n",
       "      <td>9597</td>\n",
       "      <td>9996</td>\n",
       "      <td>8943</td>\n",
       "      <td>8732</td>\n",
       "      <td>8012</td>\n",
       "      <td>6780</td>\n",
       "      <td>9652</td>\n",
       "      <td>9742</td>\n",
       "    </tr>\n",
       "    <tr>\n",
       "      <th>Tamil Nadu</th>\n",
       "      <td>0</td>\n",
       "      <td>4343</td>\n",
       "      <td>4329</td>\n",
       "      <td>4280</td>\n",
       "      <td>4150</td>\n",
       "      <td>3827</td>\n",
       "      <td>3616</td>\n",
       "      <td>3756</td>\n",
       "      <td>4231</td>\n",
       "      <td>3680</td>\n",
       "      <td>...</td>\n",
       "      <td>5914</td>\n",
       "      <td>5834</td>\n",
       "      <td>5871</td>\n",
       "      <td>5835</td>\n",
       "      <td>5890</td>\n",
       "      <td>5860</td>\n",
       "      <td>5950</td>\n",
       "      <td>5890</td>\n",
       "      <td>5709</td>\n",
       "      <td>5795</td>\n",
       "    </tr>\n",
       "    <tr>\n",
       "      <th>Bihar</th>\n",
       "      <td>0</td>\n",
       "      <td>478</td>\n",
       "      <td>426</td>\n",
       "      <td>349</td>\n",
       "      <td>403</td>\n",
       "      <td>280</td>\n",
       "      <td>385</td>\n",
       "      <td>749</td>\n",
       "      <td>704</td>\n",
       "      <td>352</td>\n",
       "      <td>...</td>\n",
       "      <td>3021</td>\n",
       "      <td>4071</td>\n",
       "      <td>3741</td>\n",
       "      <td>3906</td>\n",
       "      <td>3911</td>\n",
       "      <td>3536</td>\n",
       "      <td>2187</td>\n",
       "      <td>2525</td>\n",
       "      <td>3257</td>\n",
       "      <td>2884</td>\n",
       "    </tr>\n",
       "    <tr>\n",
       "      <th>Odisha</th>\n",
       "      <td>0</td>\n",
       "      <td>229</td>\n",
       "      <td>561</td>\n",
       "      <td>495</td>\n",
       "      <td>469</td>\n",
       "      <td>456</td>\n",
       "      <td>571</td>\n",
       "      <td>527</td>\n",
       "      <td>577</td>\n",
       "      <td>755</td>\n",
       "      <td>...</td>\n",
       "      <td>1528</td>\n",
       "      <td>1341</td>\n",
       "      <td>1876</td>\n",
       "      <td>1981</td>\n",
       "      <td>1977</td>\n",
       "      <td>2496</td>\n",
       "      <td>2924</td>\n",
       "      <td>2244</td>\n",
       "      <td>2239</td>\n",
       "      <td>2589</td>\n",
       "    </tr>\n",
       "    <tr>\n",
       "      <th>Kerala</th>\n",
       "      <td>0</td>\n",
       "      <td>160</td>\n",
       "      <td>211</td>\n",
       "      <td>240</td>\n",
       "      <td>225</td>\n",
       "      <td>193</td>\n",
       "      <td>272</td>\n",
       "      <td>301</td>\n",
       "      <td>339</td>\n",
       "      <td>416</td>\n",
       "      <td>...</td>\n",
       "      <td>1184</td>\n",
       "      <td>1417</td>\n",
       "      <td>1212</td>\n",
       "      <td>1564</td>\n",
       "      <td>1569</td>\n",
       "      <td>1608</td>\n",
       "      <td>1530</td>\n",
       "      <td>1725</td>\n",
       "      <td>1758</td>\n",
       "      <td>2333</td>\n",
       "    </tr>\n",
       "  </tbody>\n",
       "</table>\n",
       "<p>5 rows × 50 columns</p>\n",
       "</div>"
      ],
      "text/plain": [
       "states          2020-07-01  2020-07-02  2020-07-03  2020-07-04  2020-07-05  \\\n",
       "state                                                                        \n",
       "Andhra Pradesh           0         845         837         765         998   \n",
       "Tamil Nadu               0        4343        4329        4280        4150   \n",
       "Bihar                    0         478         426         349         403   \n",
       "Odisha                   0         229         561         495         469   \n",
       "Kerala                   0         160         211         240         225   \n",
       "\n",
       "states          2020-07-06  2020-07-07  2020-07-08  2020-07-09  2020-07-10  \\\n",
       "state                                                                        \n",
       "Andhra Pradesh        1322        1178        1062        1555        1608   \n",
       "Tamil Nadu            3827        3616        3756        4231        3680   \n",
       "Bihar                  280         385         749         704         352   \n",
       "Odisha                 456         571         527         577         755   \n",
       "Kerala                 193         272         301         339         416   \n",
       "\n",
       "states          ...  2020-08-10  2020-08-11  2020-08-12  2020-08-13  \\\n",
       "state           ...                                                   \n",
       "Andhra Pradesh  ...        7665        9024        9597        9996   \n",
       "Tamil Nadu      ...        5914        5834        5871        5835   \n",
       "Bihar           ...        3021        4071        3741        3906   \n",
       "Odisha          ...        1528        1341        1876        1981   \n",
       "Kerala          ...        1184        1417        1212        1564   \n",
       "\n",
       "states          2020-08-14  2020-08-15  2020-08-16  2020-08-17  2020-08-18  \\\n",
       "state                                                                        \n",
       "Andhra Pradesh        8943        8732        8012        6780        9652   \n",
       "Tamil Nadu            5890        5860        5950        5890        5709   \n",
       "Bihar                 3911        3536        2187        2525        3257   \n",
       "Odisha                1977        2496        2924        2244        2239   \n",
       "Kerala                1569        1608        1530        1725        1758   \n",
       "\n",
       "states          2020-08-19  \n",
       "state                       \n",
       "Andhra Pradesh        9742  \n",
       "Tamil Nadu            5795  \n",
       "Bihar                 2884  \n",
       "Odisha                2589  \n",
       "Kerala                2333  \n",
       "\n",
       "[5 rows x 50 columns]"
      ]
     },
     "execution_count": 18,
     "metadata": {},
     "output_type": "execute_result"
    }
   ],
   "source": [
    "#hide\n",
    "dft_ct_new_cases.head()"
   ]
  },
  {
   "cell_type": "code",
   "execution_count": 19,
   "metadata": {
    "execution": {
     "iopub.execute_input": "2020-08-19T13:37:27.131087Z",
     "iopub.status.busy": "2020-08-19T13:37:27.115558Z",
     "iopub.status.idle": "2020-08-19T13:37:30.125345Z",
     "shell.execute_reply": "2020-08-19T13:37:30.125897Z"
    },
    "papermill": {
     "duration": 3.043109,
     "end_time": "2020-08-19T13:37:30.126081",
     "exception": false,
     "start_time": "2020-08-19T13:37:27.082972",
     "status": "completed"
    },
    "tags": []
   },
   "outputs": [
    {
     "data": {
      "image/png": "[encoded data removed]",
      "text/plain": [
       "<Figure size 1296x2016 with 11 Axes>"
      ]
     },
     "metadata": {
      "needs_background": "light"
     },
     "output_type": "display_data"
    }
   ],
   "source": [
    "#hide_input\n",
    "df = dft_ct_new_cases.copy()\n",
    "df.loc['Total'] = df.sum()\n",
    "n = 5\n",
    "ax = []\n",
    "fig = plt.figure(figsize = (18,28))\n",
    "gs = fig.add_gridspec(n+2, 5)\n",
    "# gs = fig.add_gridspec(2, 3)\n",
    "ax1 = fig.add_subplot(gs[0, :])\n",
    "ef = df.loc['Total'].rename_axis('date').reset_index()\n",
    "ef['date'] = ef['date'].astype('datetime64[ns]')\n",
    "ax1.bar(ef.date,ef.Total,alpha=0.3,color='#007acc')\n",
    "ax1.plot(ef.date,ef.Total , marker=\"o\", color='#007acc')\n",
    "ax1.xaxis.set_major_locator(mdates.WeekdayLocator())\n",
    "ax1.xaxis.set_major_formatter(mdates.DateFormatter('%b %d'))\n",
    "ax1.text(0.02, 0.5,'India daily case count', transform = ax1.transAxes, fontsize=25);\n",
    "ax1.spines['right'].set_visible(False)\n",
    "ax1.spines['top'].set_visible(False)\n",
    "\n",
    "ax2 = fig.add_subplot(gs[1,0])\n",
    "ef = df.loc['Maharashtra'].rename_axis('date').reset_index()\n",
    "ef['date'] = ef['date'].astype('datetime64[ns]')\n",
    "\n",
    "ax2.bar(ef.date, ef.Maharashtra,color = '#007acc',alpha=0.5)\n",
    "ax2.xaxis.set_major_locator(mdates.WeekdayLocator())\n",
    "ax2.xaxis.set_major_formatter(mdates.DateFormatter('%b %d'))\n",
    "ax2.set_xticks(ax2.get_xticks()[::3])\n",
    "maxyval = ef.Maharashtra.max()\n",
    "ax2.set_ylim([0,maxyval])\n",
    "ax2.text(0.05, 0.9,'Maharashtra', transform = ax2.transAxes, fontsize=20);\n",
    "ax2.spines['right'].set_visible(False)\n",
    "ax2.spines['top'].set_visible(False)\n",
    "\n",
    "\n",
    "ax3 = fig.add_subplot(gs[1,1])\n",
    "ef = df.loc['Tamil Nadu'].rename_axis('date').reset_index()\n",
    "ef['date'] = ef['date'].astype('datetime64[ns]')\n",
    "ax3.bar(ef.date, ef['Tamil Nadu'],color = '#007acc',alpha=0.5,)\n",
    "ax3.xaxis.set_major_locator(mdates.WeekdayLocator())\n",
    "ax3.xaxis.set_major_formatter(mdates.DateFormatter('%b %d'))\n",
    "ax3.set_xticks(ax3.get_xticks()[::3])\n",
    "ax3.text(0.05, 0.9,'Tamil Nadu', transform = ax3.transAxes, fontsize=20);\n",
    "ax3.spines['right'].set_visible(False)\n",
    "ax3.spines['top'].set_visible(False)\n",
    "\n",
    "ax5 = fig.add_subplot(gs[1,3])\n",
    "ef = df.loc['Telangana'].rename_axis('date').reset_index()\n",
    "ef['date'] = ef['date'].astype('datetime64[ns]')\n",
    "ax5.bar(ef.date, ef['Telangana'],color = '#007acc',alpha=0.5,)\n",
    "ax5.xaxis.set_major_locator(mdates.WeekdayLocator())\n",
    "ax5.xaxis.set_major_formatter(mdates.DateFormatter('%b %d'))\n",
    "ax5.set_xticks(ax5.get_xticks()[::3])\n",
    "ax5.text(0.05, 0.9,'Telangana', transform = ax5.transAxes, fontsize=20);\n",
    "ax5.spines['right'].set_visible(False)\n",
    "ax5.spines['top'].set_visible(False)\n",
    "\n",
    "ax6 = fig.add_subplot(gs[1,4])\n",
    "ef = df.loc['Andhra Pradesh'].rename_axis('date').reset_index()\n",
    "ef['date'] = ef['date'].astype('datetime64[ns]')\n",
    "ax6.bar(ef.date, ef['Andhra Pradesh'],color = '#007acc',alpha=0.5,)\n",
    "ax6.xaxis.set_major_locator(mdates.WeekdayLocator())\n",
    "ax6.xaxis.set_major_formatter(mdates.DateFormatter('%b %d'))\n",
    "ax6.set_xticks(ax6.get_xticks()[::3])\n",
    "ax6.text(0.05, 1,'Andhra Pradesh', transform = ax6.transAxes, fontsize=20);\n",
    "ax6.spines['right'].set_visible(False)\n",
    "ax6.spines['top'].set_visible(False)\n",
    "\n",
    "ax4 = fig.add_subplot(gs[1,2])\n",
    "ef = df.loc['Delhi'].rename_axis('date').reset_index()\n",
    "ef['date'] = ef['date'].astype('datetime64[ns]')\n",
    "ax4.bar(ef.date, ef.Delhi,color = '#007acc',alpha=0.5)\n",
    "ax4.set_xticks([])\n",
    "ax4.xaxis.set_major_locator(mdates.WeekdayLocator())\n",
    "ax4.xaxis.set_major_formatter(mdates.DateFormatter('%b %d'))\n",
    "ax4.set_xticks(ax4.get_xticks()[::3])\n",
    "ax4.spines['right'].set_visible(False)\n",
    "ax4.spines['top'].set_visible(False)\n",
    "\n",
    "ax4.text(0.05, 1,'Delhi', transform = ax4.transAxes, fontsize=20)\n",
    "\n",
    "for i in range(n):\n",
    "    \n",
    "    ax.append(fig.add_subplot(gs[i+2,:]))\n",
    "    ef = df.iloc[i+3].rename_axis('date').reset_index()\n",
    "    ef['date'] = ef['date'].astype('datetime64[ns]')\n",
    "    ax[i].bar(ef.date,ef.iloc[:,-1],color = '#007acc',alpha=0.3)\n",
    "    ax[i].plot(ef.date,ef.iloc[:,-1],marker='o',color='#007acc')\n",
    "    ax[i].text(0.02,0.5,f'{ef.columns.values[-1]}',transform = ax[i].transAxes, fontsize = 20);\n",
    "    ax[i].xaxis.set_major_locator(mdates.WeekdayLocator())\n",
    "    ax[i].xaxis.set_major_formatter(mdates.DateFormatter('%b %d'))\n",
    "    ax[i].set_ylim([0,7000])\n",
    "    ax[i].spines['right'].set_visible(False)\n",
    "    ax[i].spines['top'].set_visible(False)\n",
    "plt.tight_layout()\n"
   ]
  },
  {
   "cell_type": "code",
   "execution_count": 20,
   "metadata": {
    "execution": {
     "iopub.execute_input": "2020-08-19T13:37:30.181077Z",
     "iopub.status.busy": "2020-08-19T13:37:30.180378Z",
     "iopub.status.idle": "2020-08-19T13:37:30.182941Z",
     "shell.execute_reply": "2020-08-19T13:37:30.183491Z"
    },
    "papermill": {
     "duration": 0.033552,
     "end_time": "2020-08-19T13:37:30.183636",
     "exception": false,
     "start_time": "2020-08-19T13:37:30.150084",
     "status": "completed"
    },
    "tags": []
   },
   "outputs": [
    {
     "name": "stdout",
     "output_type": "stream",
     "text": [
      "                                   states   Cases  Deaths  PCases  PDeaths  Cases (+)  Deaths (+)  Fatality Rate\n",
      "                              Maharashtra  615477   20687  615477    20687          0           0           3.36\n",
      "                               Tamil Nadu  355449    6123  349654     6007       5795         116           1.72\n",
      "                           Andhra Pradesh  316003    2906  306261     2820       9742          86           0.92\n",
      "                                Karnataka  240948    4201  240948     4201          0           0           1.74\n",
      "                            Uttar Pradesh  162434    2585  162434     2585          0           0           1.59\n",
      "                                    Delhi  156139    4235  154741     4226       1398           9           2.71\n",
      "                              West Bengal  122753    2528  122753     2528          0           0           2.06\n",
      "                                    Bihar  112759     568  109875      558       2884          10           0.50\n",
      "                                Telangana   95700     719   93937      711       1763           8           0.75\n",
      "                                    Assam   82202     203   82202      203          0           0           0.25\n",
      "                                  Gujarat   80942    2820   80942     2820          0           0           3.48\n",
      "                                   Odisha   67122     425   64533      415       2589          10           0.63\n",
      "                                Rajasthan   64676     908   63977      898        699          10           1.40\n",
      "                                   Kerala   50231     183   47898      176       2333           7           0.36\n",
      "                                  Haryana   48936     557   48936      557          0           0           1.14\n",
      "                           Madhya Pradesh   47375    1141   47375     1141          0           0           2.41\n",
      "                                   Punjab   34400     898   34400      898          0           0           2.61\n",
      "                        Jammu and Kashmir   30034     572   29326      561        708          11           1.90\n",
      "                                Jharkhand   25333     265   25333      265          0           0           1.05\n",
      "                             Chhattisgarh   16833     158   16833      158          0           0           0.94\n",
      "                              Uttarakhand   12961     164   12961      164          0           0           1.27\n",
      "                                      Goa   12333     116   12333      116          0           0           0.94\n",
      "                               Puducherry    8752     129    8396      123        356           6           1.47\n",
      "                                  Tripura    7660      65    7424       62        236           3           0.85\n",
      "                                  Manipur    4876      18    4765       18        111           0           0.37\n",
      "                         Himachal Pradesh    4318      20    4235       18         83           2           0.46\n",
      "                                 Nagaland    3558       7    3520        7         38           0           0.20\n",
      "                        Arunachal Pradesh    2875       5    2875        5          0           0           0.17\n",
      "              Andaman and Nicobar Islands    2529      30    2529       30          0           0           1.19\n",
      "                               Chandigarh    2305      30    2305       30          0           0           1.30\n",
      "                                   Ladakh    2010      17    2010       17          0           0           0.85\n",
      " Dadra and Nagar Haveli and Daman and Diu    1987       2    1959        2         28           0           0.10\n",
      "                                Meghalaya    1506       6    1457        6         49           0           0.40\n",
      "                                   Sikkim    1207       2    1207        2          0           0           0.17\n",
      "                                  Mizoram     860       0     815        0         45           0           0.00\n",
      "                              Lakshadweep       0       0       0        0          0           0            NaN\n"
     ]
    }
   ],
   "source": [
    "#hide_input\n",
    "print(df_table.to_string(index=False))"
   ]
  },
  {
   "cell_type": "code",
   "execution_count": null,
   "metadata": {
    "papermill": {
     "duration": 0.112829,
     "end_time": "2020-08-19T13:37:30.318136",
     "exception": false,
     "start_time": "2020-08-19T13:37:30.205307",
     "status": "completed"
    },
    "tags": []
   },
   "outputs": [],
   "source": []
  },
  {
   "cell_type": "code",
   "execution_count": null,
   "metadata": {
    "papermill": {
     "duration": 0.026105,
     "end_time": "2020-08-19T13:37:30.421815",
     "exception": false,
     "start_time": "2020-08-19T13:37:30.395710",
     "status": "completed"
    },
    "tags": []
   },
   "outputs": [],
   "source": []
  }
 ],
 "metadata": {
  "kernelspec": {
   "display_name": "Python 3",
   "language": "python",
   "name": "python3"
  },
  "language_info": {
   "codemirror_mode": {
    "name": "ipython",
    "version": 3
   },
   "file_extension": ".py",
   "mimetype": "text/x-python",
   "name": "python",
   "nbconvert_exporter": "python",
   "pygments_lexer": "ipython3",
   "version": "3.6.11"
  },
  "papermill": {
   "duration": 8.196148,
   "end_time": "2020-08-19T13:37:30.852472",
   "environment_variables": {},
   "exception": null,
   "input_path": "latest.ipynb",
   "output_path": "latest.ipynb",
   "parameters": {},
   "start_time": "2020-08-19T13:37:22.656324",
   "version": "2.1.2"
  }
 },
 "nbformat": 4,
 "nbformat_minor": 4
}