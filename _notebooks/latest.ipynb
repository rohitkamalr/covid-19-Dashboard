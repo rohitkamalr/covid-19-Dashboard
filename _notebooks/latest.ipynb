{
 "cells": [
  {
   "cell_type": "markdown",
   "metadata": {
    "papermill": {
     "duration": 0.024102,
     "end_time": "2020-08-22T09:51:30.086400",
     "exception": false,
     "start_time": "2020-08-22T09:51:30.062298",
     "status": "completed"
    },
    "tags": []
   },
   "source": [
    "# Latest COVID-19 India Matplotlib Overview"
   ]
  },
  {
   "cell_type": "code",
   "execution_count": 1,
   "metadata": {
    "execution": {
     "iopub.execute_input": "2020-08-22T09:51:30.124506Z",
     "iopub.status.busy": "2020-08-22T09:51:30.123888Z",
     "iopub.status.idle": "2020-08-22T09:51:30.679569Z",
     "shell.execute_reply": "2020-08-22T09:51:30.678914Z"
    },
    "papermill": {
     "duration": 0.576624,
     "end_time": "2020-08-22T09:51:30.679743",
     "exception": false,
     "start_time": "2020-08-22T09:51:30.103119",
     "status": "completed"
    },
    "tags": []
   },
   "outputs": [],
   "source": [
    "#hide\n",
    "import pandas as pd\n",
    "import numpy as np\n",
    "import requests\n",
    "import json\n",
    "import matplotlib.pyplot as plt\n",
    "import matplotlib.dates as mdates\n",
    "import matplotlib as mpl\n",
    "from IPython.core.display import display,HTML\n",
    "%matplotlib inline\n",
    "from datetime import date"
   ]
  },
  {
   "cell_type": "code",
   "execution_count": 2,
   "metadata": {
    "execution": {
     "iopub.execute_input": "2020-08-22T09:51:30.716568Z",
     "iopub.status.busy": "2020-08-22T09:51:30.715729Z",
     "iopub.status.idle": "2020-08-22T09:51:30.918959Z",
     "shell.execute_reply": "2020-08-22T09:51:30.919520Z"
    },
    "papermill": {
     "duration": 0.224835,
     "end_time": "2020-08-22T09:51:30.919688",
     "exception": false,
     "start_time": "2020-08-22T09:51:30.694853",
     "status": "completed"
    },
    "tags": []
   },
   "outputs": [],
   "source": [
    "#hide\n",
    "df  = pd.read_csv('https://api.covid19india.org/csv/latest/states.csv')\n",
    "df = df[['Date','State','Confirmed','Deceased']]\n",
    "df = df.rename(columns={'Confirmed':'Cases', \"Deceased\":'Deaths'})\n",
    "df_cases = df[[\"Date\",'State','Cases']]\n",
    "df_deaths = df[['Date','State','Deaths']]\n",
    "df_cases1 = df_cases.groupby('Date')\n",
    "df_deaths1= df_deaths.groupby('Date')"
   ]
  },
  {
   "cell_type": "code",
   "execution_count": 3,
   "metadata": {
    "execution": {
     "iopub.execute_input": "2020-08-22T09:51:30.955439Z",
     "iopub.status.busy": "2020-08-22T09:51:30.954776Z",
     "iopub.status.idle": "2020-08-22T09:51:30.970682Z",
     "shell.execute_reply": "2020-08-22T09:51:30.970227Z"
    },
    "papermill": {
     "duration": 0.034843,
     "end_time": "2020-08-22T09:51:30.970823",
     "exception": false,
     "start_time": "2020-08-22T09:51:30.935980",
     "status": "completed"
    },
    "tags": []
   },
   "outputs": [],
   "source": [
    "#hide\n",
    "df_snap = pd.read_csv('data/SnapshotCases-28-July.csv')\n",
    "arr_states = df_snap['states'].unique()\n",
    "arr_dates = df['Date'].unique()\n",
    "df_snap = df_snap.set_index('states')"
   ]
  },
  {
   "cell_type": "code",
   "execution_count": 4,
   "metadata": {
    "execution": {
     "iopub.execute_input": "2020-08-22T09:51:31.008067Z",
     "iopub.status.busy": "2020-08-22T09:51:31.007484Z",
     "iopub.status.idle": "2020-08-22T09:51:31.010500Z",
     "shell.execute_reply": "2020-08-22T09:51:31.009935Z"
    },
    "papermill": {
     "duration": 0.024428,
     "end_time": "2020-08-22T09:51:31.010613",
     "exception": false,
     "start_time": "2020-08-22T09:51:30.986185",
     "status": "completed"
    },
    "tags": []
   },
   "outputs": [
    {
     "data": {
      "text/plain": [
       "array(['Andaman and Nicobar Islands', 'Andhra Pradesh',\n",
       "       'Arunachal Pradesh', 'Assam', 'Bihar', 'Chandigarh',\n",
       "       'Dadra and Nagar Haveli and Daman and Diu', 'Delhi', 'Goa',\n",
       "       'Gujarat', 'Haryana', 'Himachal Pradesh', 'Jammu and Kashmir',\n",
       "       'Jharkhand', 'Karnataka', 'Kerala', 'Lakshadweep',\n",
       "       'Madhya Pradesh', 'Maharashtra', 'Manipur', 'Meghalaya', 'Mizoram',\n",
       "       'Nagaland', 'Odisha', 'Puducherry', 'Punjab', 'Rajasthan',\n",
       "       'Sikkim', 'Tamil Nadu', 'Telangana', 'Tripura', 'Uttar Pradesh',\n",
       "       'West Bengal', 'Chhattisgarh', 'Ladakh', 'Uttarakhand'],\n",
       "      dtype=object)"
      ]
     },
     "execution_count": 4,
     "metadata": {},
     "output_type": "execute_result"
    }
   ],
   "source": [
    "#hide\n",
    "arr_states[-9] = 'Puducherry'\n",
    "arr_states[-10] = 'Odisha'\n",
    "arr_states[6] = 'Dadra and Nagar Haveli and Daman and Diu'\n",
    "arr_states = np.append(arr_states,np.array(['Chhattisgarh','Ladakh','Uttarakhand']))\n",
    "arr_states"
   ]
  },
  {
   "cell_type": "code",
   "execution_count": 5,
   "metadata": {
    "execution": {
     "iopub.execute_input": "2020-08-22T09:51:31.055160Z",
     "iopub.status.busy": "2020-08-22T09:51:31.054247Z",
     "iopub.status.idle": "2020-08-22T09:51:31.057248Z",
     "shell.execute_reply": "2020-08-22T09:51:31.056384Z"
    },
    "papermill": {
     "duration": 0.031933,
     "end_time": "2020-08-22T09:51:31.057484",
     "exception": false,
     "start_time": "2020-08-22T09:51:31.025551",
     "status": "completed"
    },
    "tags": []
   },
   "outputs": [],
   "source": [
    "#hide\n",
    "dates = []\n",
    "for i in arr_dates:\n",
    "    if i>='2020-07-01':\n",
    "        dates.append(i)\n",
    "dict = {'states':dates}\n",
    "for i in arr_states:\n",
    "    dict[i] = [0]*len(dates)\n",
    "dft_cases = pd.DataFrame(dict)\n",
    "dft_deaths = pd.DataFrame(dict)\n"
   ]
  },
  {
   "cell_type": "code",
   "execution_count": 6,
   "metadata": {
    "execution": {
     "iopub.execute_input": "2020-08-22T09:51:31.100311Z",
     "iopub.status.busy": "2020-08-22T09:51:31.099606Z",
     "iopub.status.idle": "2020-08-22T09:51:31.982365Z",
     "shell.execute_reply": "2020-08-22T09:51:31.981358Z"
    },
    "papermill": {
     "duration": 0.906162,
     "end_time": "2020-08-22T09:51:31.982497",
     "exception": false,
     "start_time": "2020-08-22T09:51:31.076335",
     "status": "completed"
    },
    "tags": []
   },
   "outputs": [],
   "source": [
    "#hide\n",
    "for i in range(len(dates)):\n",
    "    df1_deaths = df_deaths1.get_group(dates[i])\n",
    "    for j in range(len(df1_deaths.index)):\n",
    "        if df1_deaths.iloc[j,1] in arr_states:\n",
    "            dft_deaths.loc[i,df1_deaths.iloc[j,1]] = df1_deaths.iloc[j,2]\n",
    "dft_deaths = dft_deaths.set_index('states')"
   ]
  },
  {
   "cell_type": "code",
   "execution_count": 7,
   "metadata": {
    "execution": {
     "iopub.execute_input": "2020-08-22T09:51:32.021693Z",
     "iopub.status.busy": "2020-08-22T09:51:32.021147Z",
     "iopub.status.idle": "2020-08-22T09:51:32.873584Z",
     "shell.execute_reply": "2020-08-22T09:51:32.873099Z"
    },
    "papermill": {
     "duration": 0.874587,
     "end_time": "2020-08-22T09:51:32.873730",
     "exception": false,
     "start_time": "2020-08-22T09:51:31.999143",
     "status": "completed"
    },
    "tags": []
   },
   "outputs": [],
   "source": [
    "#hide\n",
    "for i in range(len(dates)):\n",
    "    df1_cases = df_cases1.get_group(dates[i])\n",
    "    for j in range(len(df1_cases.index)):\n",
    "        if df1_cases.iloc[j,1] in arr_states:\n",
    "            dft_cases.loc[i,df1_cases.iloc[j,1]] = df1_cases.iloc[j,2]\n",
    "dft_cases = dft_cases.set_index('states')"
   ]
  },
  {
   "cell_type": "code",
   "execution_count": 8,
   "metadata": {
    "execution": {
     "iopub.execute_input": "2020-08-22T09:51:32.910513Z",
     "iopub.status.busy": "2020-08-22T09:51:32.909982Z",
     "iopub.status.idle": "2020-08-22T09:51:32.912181Z",
     "shell.execute_reply": "2020-08-22T09:51:32.912688Z"
    },
    "papermill": {
     "duration": 0.023042,
     "end_time": "2020-08-22T09:51:32.913001",
     "exception": false,
     "start_time": "2020-08-22T09:51:32.889959",
     "status": "completed"
    },
    "tags": []
   },
   "outputs": [],
   "source": [
    "#hide\n",
    "dft_cases = dft_cases.T\n",
    "dft_deaths = dft_deaths.T\n",
    "dt_today = dates[-1]\n",
    "dt_yday = dates[-2]"
   ]
  },
  {
   "cell_type": "code",
   "execution_count": 9,
   "metadata": {
    "execution": {
     "iopub.execute_input": "2020-08-22T09:51:32.945926Z",
     "iopub.status.busy": "2020-08-22T09:51:32.945381Z",
     "iopub.status.idle": "2020-08-22T09:51:32.949286Z",
     "shell.execute_reply": "2020-08-22T09:51:32.948834Z"
    },
    "papermill": {
     "duration": 0.022854,
     "end_time": "2020-08-22T09:51:32.949425",
     "exception": false,
     "start_time": "2020-08-22T09:51:32.926571",
     "status": "completed"
    },
    "tags": []
   },
   "outputs": [],
   "source": [
    "#hide\n",
    "dft_cases = dft_cases.reset_index()\n",
    "dft_deaths = dft_deaths.reset_index()\n",
    "dft_cases = dft_cases.rename(columns = {'index':'state'})\n",
    "dft_deaths = dft_deaths.rename(columns = {'index':'state'})"
   ]
  },
  {
   "cell_type": "code",
   "execution_count": 10,
   "metadata": {
    "execution": {
     "iopub.execute_input": "2020-08-22T09:51:32.987869Z",
     "iopub.status.busy": "2020-08-22T09:51:32.987286Z",
     "iopub.status.idle": "2020-08-22T09:51:32.991094Z",
     "shell.execute_reply": "2020-08-22T09:51:32.990489Z"
    },
    "papermill": {
     "duration": 0.027663,
     "end_time": "2020-08-22T09:51:32.991202",
     "exception": false,
     "start_time": "2020-08-22T09:51:32.963539",
     "status": "completed"
    },
    "tags": []
   },
   "outputs": [],
   "source": [
    "#hide\n",
    "dfc_cases = dft_cases.groupby('state')[dt_today].sum()\n",
    "dfc_deaths = dft_deaths.groupby('state')[dt_today].sum()\n",
    "dfp_cases = dft_cases.groupby('state')[dt_yday].sum()\n",
    "dfp_deaths = dft_deaths.groupby('state')[dt_yday].sum()"
   ]
  },
  {
   "cell_type": "code",
   "execution_count": 11,
   "metadata": {
    "execution": {
     "iopub.execute_input": "2020-08-22T09:51:33.035800Z",
     "iopub.status.busy": "2020-08-22T09:51:33.035259Z",
     "iopub.status.idle": "2020-08-22T09:51:33.041391Z",
     "shell.execute_reply": "2020-08-22T09:51:33.040871Z"
    },
    "papermill": {
     "duration": 0.036504,
     "end_time": "2020-08-22T09:51:33.041498",
     "exception": false,
     "start_time": "2020-08-22T09:51:33.004994",
     "status": "completed"
    },
    "tags": []
   },
   "outputs": [
    {
     "data": {
      "text/html": [
       "<div>\n",
       "<style scoped>\n",
       "    .dataframe tbody tr th:only-of-type {\n",
       "        vertical-align: middle;\n",
       "    }\n",
       "\n",
       "    .dataframe tbody tr th {\n",
       "        vertical-align: top;\n",
       "    }\n",
       "\n",
       "    .dataframe thead th {\n",
       "        text-align: right;\n",
       "    }\n",
       "</style>\n",
       "<table border=\"1\" class=\"dataframe\">\n",
       "  <thead>\n",
       "    <tr style=\"text-align: right;\">\n",
       "      <th></th>\n",
       "      <th>states</th>\n",
       "      <th>Cases</th>\n",
       "      <th>Deaths</th>\n",
       "      <th>PCases</th>\n",
       "      <th>PDeaths</th>\n",
       "    </tr>\n",
       "  </thead>\n",
       "  <tbody>\n",
       "    <tr>\n",
       "      <th>0</th>\n",
       "      <td>Maharashtra</td>\n",
       "      <td>657450</td>\n",
       "      <td>21698</td>\n",
       "      <td>657450</td>\n",
       "      <td>21698</td>\n",
       "    </tr>\n",
       "    <tr>\n",
       "      <th>1</th>\n",
       "      <td>Tamil Nadu</td>\n",
       "      <td>367430</td>\n",
       "      <td>6340</td>\n",
       "      <td>367430</td>\n",
       "      <td>6340</td>\n",
       "    </tr>\n",
       "    <tr>\n",
       "      <th>2</th>\n",
       "      <td>Andhra Pradesh</td>\n",
       "      <td>334940</td>\n",
       "      <td>3092</td>\n",
       "      <td>334940</td>\n",
       "      <td>3092</td>\n",
       "    </tr>\n",
       "    <tr>\n",
       "      <th>3</th>\n",
       "      <td>Karnataka</td>\n",
       "      <td>264546</td>\n",
       "      <td>4522</td>\n",
       "      <td>264546</td>\n",
       "      <td>4522</td>\n",
       "    </tr>\n",
       "    <tr>\n",
       "      <th>4</th>\n",
       "      <td>Uttar Pradesh</td>\n",
       "      <td>177239</td>\n",
       "      <td>2797</td>\n",
       "      <td>177239</td>\n",
       "      <td>2797</td>\n",
       "    </tr>\n",
       "  </tbody>\n",
       "</table>\n",
       "</div>"
      ],
      "text/plain": [
       "           states   Cases  Deaths  PCases  PDeaths\n",
       "0     Maharashtra  657450   21698  657450    21698\n",
       "1      Tamil Nadu  367430    6340  367430     6340\n",
       "2  Andhra Pradesh  334940    3092  334940     3092\n",
       "3       Karnataka  264546    4522  264546     4522\n",
       "4   Uttar Pradesh  177239    2797  177239     2797"
      ]
     },
     "execution_count": 11,
     "metadata": {},
     "output_type": "execute_result"
    }
   ],
   "source": [
    "#hide\n",
    "df_table = pd.DataFrame({'states': dfc_cases.index, 'Cases': dfc_cases.values, 'Deaths': dfc_deaths.values, 'PCases': dfp_cases.values, 'PDeaths': dfp_deaths.values}).set_index('states')\n",
    "df_table = df_table.sort_values(by = ['Cases','Deaths'], ascending = [False, False])\n",
    "df_table = df_table.reset_index()\n",
    "df_table.head()"
   ]
  },
  {
   "cell_type": "code",
   "execution_count": 12,
   "metadata": {
    "execution": {
     "iopub.execute_input": "2020-08-22T09:51:33.078359Z",
     "iopub.status.busy": "2020-08-22T09:51:33.077641Z",
     "iopub.status.idle": "2020-08-22T09:51:33.086682Z",
     "shell.execute_reply": "2020-08-22T09:51:33.087176Z"
    },
    "papermill": {
     "duration": 0.029866,
     "end_time": "2020-08-22T09:51:33.087308",
     "exception": false,
     "start_time": "2020-08-22T09:51:33.057442",
     "status": "completed"
    },
    "tags": []
   },
   "outputs": [],
   "source": [
    "#hide\n",
    "for c in 'Cases, Deaths'.split(', '):\n",
    "    df_table[f'{c} (+)'] = (df_table[c] - df_table[f'P{c}']).clip(0)\n",
    "df_table['Fatality Rate'] = (100* df_table['Deaths']/ df_table['Cases']).round(2)"
   ]
  },
  {
   "cell_type": "code",
   "execution_count": 13,
   "metadata": {
    "execution": {
     "iopub.execute_input": "2020-08-22T09:51:33.131513Z",
     "iopub.status.busy": "2020-08-22T09:51:33.130687Z",
     "iopub.status.idle": "2020-08-22T09:51:33.138956Z",
     "shell.execute_reply": "2020-08-22T09:51:33.138340Z"
    },
    "papermill": {
     "duration": 0.033373,
     "end_time": "2020-08-22T09:51:33.139078",
     "exception": false,
     "start_time": "2020-08-22T09:51:33.105705",
     "status": "completed"
    },
    "tags": []
   },
   "outputs": [
    {
     "data": {
      "text/html": [
       "<div>\n",
       "<style scoped>\n",
       "    .dataframe tbody tr th:only-of-type {\n",
       "        vertical-align: middle;\n",
       "    }\n",
       "\n",
       "    .dataframe tbody tr th {\n",
       "        vertical-align: top;\n",
       "    }\n",
       "\n",
       "    .dataframe thead th {\n",
       "        text-align: right;\n",
       "    }\n",
       "</style>\n",
       "<table border=\"1\" class=\"dataframe\">\n",
       "  <thead>\n",
       "    <tr style=\"text-align: right;\">\n",
       "      <th></th>\n",
       "      <th>states</th>\n",
       "      <th>Cases</th>\n",
       "      <th>Deaths</th>\n",
       "      <th>PCases</th>\n",
       "      <th>PDeaths</th>\n",
       "      <th>Cases (+)</th>\n",
       "      <th>Deaths (+)</th>\n",
       "      <th>Fatality Rate</th>\n",
       "    </tr>\n",
       "  </thead>\n",
       "  <tbody>\n",
       "    <tr>\n",
       "      <th>0</th>\n",
       "      <td>Maharashtra</td>\n",
       "      <td>657450</td>\n",
       "      <td>21698</td>\n",
       "      <td>657450</td>\n",
       "      <td>21698</td>\n",
       "      <td>0</td>\n",
       "      <td>0</td>\n",
       "      <td>3.30</td>\n",
       "    </tr>\n",
       "    <tr>\n",
       "      <th>1</th>\n",
       "      <td>Tamil Nadu</td>\n",
       "      <td>367430</td>\n",
       "      <td>6340</td>\n",
       "      <td>367430</td>\n",
       "      <td>6340</td>\n",
       "      <td>0</td>\n",
       "      <td>0</td>\n",
       "      <td>1.73</td>\n",
       "    </tr>\n",
       "    <tr>\n",
       "      <th>2</th>\n",
       "      <td>Andhra Pradesh</td>\n",
       "      <td>334940</td>\n",
       "      <td>3092</td>\n",
       "      <td>334940</td>\n",
       "      <td>3092</td>\n",
       "      <td>0</td>\n",
       "      <td>0</td>\n",
       "      <td>0.92</td>\n",
       "    </tr>\n",
       "    <tr>\n",
       "      <th>3</th>\n",
       "      <td>Karnataka</td>\n",
       "      <td>264546</td>\n",
       "      <td>4522</td>\n",
       "      <td>264546</td>\n",
       "      <td>4522</td>\n",
       "      <td>0</td>\n",
       "      <td>0</td>\n",
       "      <td>1.71</td>\n",
       "    </tr>\n",
       "    <tr>\n",
       "      <th>4</th>\n",
       "      <td>Uttar Pradesh</td>\n",
       "      <td>177239</td>\n",
       "      <td>2797</td>\n",
       "      <td>177239</td>\n",
       "      <td>2797</td>\n",
       "      <td>0</td>\n",
       "      <td>0</td>\n",
       "      <td>1.58</td>\n",
       "    </tr>\n",
       "  </tbody>\n",
       "</table>\n",
       "</div>"
      ],
      "text/plain": [
       "           states   Cases  Deaths  PCases  PDeaths  Cases (+)  Deaths (+)  \\\n",
       "0     Maharashtra  657450   21698  657450    21698          0           0   \n",
       "1      Tamil Nadu  367430    6340  367430     6340          0           0   \n",
       "2  Andhra Pradesh  334940    3092  334940     3092          0           0   \n",
       "3       Karnataka  264546    4522  264546     4522          0           0   \n",
       "4   Uttar Pradesh  177239    2797  177239     2797          0           0   \n",
       "\n",
       "   Fatality Rate  \n",
       "0           3.30  \n",
       "1           1.73  \n",
       "2           0.92  \n",
       "3           1.71  \n",
       "4           1.58  "
      ]
     },
     "execution_count": 13,
     "metadata": {},
     "output_type": "execute_result"
    }
   ],
   "source": [
    "#hide\n",
    "df_table.head()"
   ]
  },
  {
   "cell_type": "code",
   "execution_count": 14,
   "metadata": {
    "execution": {
     "iopub.execute_input": "2020-08-22T09:51:33.186519Z",
     "iopub.status.busy": "2020-08-22T09:51:33.185737Z",
     "iopub.status.idle": "2020-08-22T09:51:33.207049Z",
     "shell.execute_reply": "2020-08-22T09:51:33.206046Z"
    },
    "papermill": {
     "duration": 0.048402,
     "end_time": "2020-08-22T09:51:33.207537",
     "exception": false,
     "start_time": "2020-08-22T09:51:33.159135",
     "status": "completed"
    },
    "tags": []
   },
   "outputs": [
    {
     "data": {
      "text/plain": [
       "{'updated': '2020-08-22',\n",
       " 'since': '2020-08-21',\n",
       " 'Cases': 2979616,\n",
       " 'PCases': 2973369,\n",
       " 'Deaths': 55952,\n",
       " 'PDeaths': 55928,\n",
       " 'Cases (+)': 6247,\n",
       " 'Deaths (+)': 24}"
      ]
     },
     "execution_count": 14,
     "metadata": {},
     "output_type": "execute_result"
    }
   ],
   "source": [
    "#hide\n",
    "summary = {'updated':dates[-1], 'since':dates[-2]}\n",
    "list_names = ['Cases', 'PCases', 'Deaths', 'PDeaths', 'Cases (+)', 'Deaths (+)']\n",
    "for name in list_names:\n",
    "    summary[name] = df_table.sum()[name]\n",
    "summary"
   ]
  },
  {
   "cell_type": "code",
   "execution_count": 15,
   "metadata": {
    "execution": {
     "iopub.execute_input": "2020-08-22T09:51:33.255853Z",
     "iopub.status.busy": "2020-08-22T09:51:33.255164Z",
     "iopub.status.idle": "2020-08-22T09:51:33.257809Z",
     "shell.execute_reply": "2020-08-22T09:51:33.258338Z"
    },
    "papermill": {
     "duration": 0.026256,
     "end_time": "2020-08-22T09:51:33.258507",
     "exception": false,
     "start_time": "2020-08-22T09:51:33.232251",
     "status": "completed"
    },
    "tags": []
   },
   "outputs": [],
   "source": [
    "#hide\n",
    "overview = '''\n",
    "<!-- #######  HTML!! #########-->\n",
    "<h1 style=\"color: #5e9ca0; text-align: center;\">India</h1>\n",
    "<p style=\"text-align: center;\">Last update: <strong>{update}</strong></p>\n",
    "<p style=\"text-align: center;\">Confirmed cases:</p>\n",
    "<p style=\"text-align: center;font-size:24px;\">{cases} (<span style=\"color: #ff0000;\">+{new}</span>)</p>\n",
    "<p style=\"text-align: center;\">Confirmed deaths:</p>\n",
    "<p style=\"text-align: center;font-size:24px;\">{deaths} (<span style=\"color: #ff0000;\">+{dnew}</span>)</p>\n",
    "'''"
   ]
  },
  {
   "cell_type": "code",
   "execution_count": 16,
   "metadata": {
    "execution": {
     "iopub.execute_input": "2020-08-22T09:51:33.303814Z",
     "iopub.status.busy": "2020-08-22T09:51:33.303130Z",
     "iopub.status.idle": "2020-08-22T09:51:33.306280Z",
     "shell.execute_reply": "2020-08-22T09:51:33.306969Z"
    },
    "papermill": {
     "duration": 0.029517,
     "end_time": "2020-08-22T09:51:33.307132",
     "exception": false,
     "start_time": "2020-08-22T09:51:33.277615",
     "status": "completed"
    },
    "tags": []
   },
   "outputs": [
    {
     "data": {
      "text/html": [
       "\n",
       "<!-- #######  HTML!! #########-->\n",
       "<h1 style=\"color: #5e9ca0; text-align: center;\">India</h1>\n",
       "<p style=\"text-align: center;\">Last update: <strong>2020-08-22</strong></p>\n",
       "<p style=\"text-align: center;\">Confirmed cases:</p>\n",
       "<p style=\"text-align: center;font-size:24px;\">2979616 (<span style=\"color: #ff0000;\">+6247</span>)</p>\n",
       "<p style=\"text-align: center;\">Confirmed deaths:</p>\n",
       "<p style=\"text-align: center;font-size:24px;\">55952 (<span style=\"color: #ff0000;\">+24</span>)</p>\n"
      ],
      "text/plain": [
       "<IPython.core.display.HTML object>"
      ]
     },
     "metadata": {},
     "output_type": "display_data"
    }
   ],
   "source": [
    "#hide_input\n",
    "update = summary['updated']\n",
    "cases = summary['Cases']\n",
    "new = summary['Cases (+)']\n",
    "deaths = summary['Deaths']\n",
    "dnew = summary['Deaths (+)']\n",
    "\n",
    "html = HTML(overview.format(update=update, cases=cases,new=new,deaths=deaths,dnew=dnew))\n",
    "\n",
    "display(html)"
   ]
  },
  {
   "cell_type": "code",
   "execution_count": 17,
   "metadata": {
    "execution": {
     "iopub.execute_input": "2020-08-22T09:51:33.355514Z",
     "iopub.status.busy": "2020-08-22T09:51:33.354837Z",
     "iopub.status.idle": "2020-08-22T09:51:33.360917Z",
     "shell.execute_reply": "2020-08-22T09:51:33.360233Z"
    },
    "papermill": {
     "duration": 0.033827,
     "end_time": "2020-08-22T09:51:33.361064",
     "exception": false,
     "start_time": "2020-08-22T09:51:33.327237",
     "status": "completed"
    },
    "tags": []
   },
   "outputs": [],
   "source": [
    "#hide\n",
    "dt_cols = list(dft_cases.columns[1:])\n",
    "dft_ct_new_cases = dft_cases.groupby('state')[dt_cols].sum().diff(axis=1).fillna(0).astype(int)\n",
    "dft_ct_new_cases.sort_values(by = dates[-1], ascending = False,inplace = True)"
   ]
  },
  {
   "cell_type": "code",
   "execution_count": 18,
   "metadata": {
    "execution": {
     "iopub.execute_input": "2020-08-22T09:51:33.412315Z",
     "iopub.status.busy": "2020-08-22T09:51:33.411631Z",
     "iopub.status.idle": "2020-08-22T09:51:33.423280Z",
     "shell.execute_reply": "2020-08-22T09:51:33.422594Z"
    },
    "papermill": {
     "duration": 0.042961,
     "end_time": "2020-08-22T09:51:33.423431",
     "exception": false,
     "start_time": "2020-08-22T09:51:33.380470",
     "status": "completed"
    },
    "tags": []
   },
   "outputs": [
    {
     "data": {
      "text/html": [
       "<div>\n",
       "<style scoped>\n",
       "    .dataframe tbody tr th:only-of-type {\n",
       "        vertical-align: middle;\n",
       "    }\n",
       "\n",
       "    .dataframe tbody tr th {\n",
       "        vertical-align: top;\n",
       "    }\n",
       "\n",
       "    .dataframe thead th {\n",
       "        text-align: right;\n",
       "    }\n",
       "</style>\n",
       "<table border=\"1\" class=\"dataframe\">\n",
       "  <thead>\n",
       "    <tr style=\"text-align: right;\">\n",
       "      <th>states</th>\n",
       "      <th>2020-07-01</th>\n",
       "      <th>2020-07-02</th>\n",
       "      <th>2020-07-03</th>\n",
       "      <th>2020-07-04</th>\n",
       "      <th>2020-07-05</th>\n",
       "      <th>2020-07-06</th>\n",
       "      <th>2020-07-07</th>\n",
       "      <th>2020-07-08</th>\n",
       "      <th>2020-07-09</th>\n",
       "      <th>2020-07-10</th>\n",
       "      <th>...</th>\n",
       "      <th>2020-08-13</th>\n",
       "      <th>2020-08-14</th>\n",
       "      <th>2020-08-15</th>\n",
       "      <th>2020-08-16</th>\n",
       "      <th>2020-08-17</th>\n",
       "      <th>2020-08-18</th>\n",
       "      <th>2020-08-19</th>\n",
       "      <th>2020-08-20</th>\n",
       "      <th>2020-08-21</th>\n",
       "      <th>2020-08-22</th>\n",
       "    </tr>\n",
       "    <tr>\n",
       "      <th>state</th>\n",
       "      <th></th>\n",
       "      <th></th>\n",
       "      <th></th>\n",
       "      <th></th>\n",
       "      <th></th>\n",
       "      <th></th>\n",
       "      <th></th>\n",
       "      <th></th>\n",
       "      <th></th>\n",
       "      <th></th>\n",
       "      <th></th>\n",
       "      <th></th>\n",
       "      <th></th>\n",
       "      <th></th>\n",
       "      <th></th>\n",
       "      <th></th>\n",
       "      <th></th>\n",
       "      <th></th>\n",
       "      <th></th>\n",
       "      <th></th>\n",
       "      <th></th>\n",
       "    </tr>\n",
       "  </thead>\n",
       "  <tbody>\n",
       "    <tr>\n",
       "      <th>Odisha</th>\n",
       "      <td>0</td>\n",
       "      <td>229</td>\n",
       "      <td>561</td>\n",
       "      <td>495</td>\n",
       "      <td>469</td>\n",
       "      <td>456</td>\n",
       "      <td>571</td>\n",
       "      <td>527</td>\n",
       "      <td>577</td>\n",
       "      <td>755</td>\n",
       "      <td>...</td>\n",
       "      <td>1981</td>\n",
       "      <td>1977</td>\n",
       "      <td>2496</td>\n",
       "      <td>2924</td>\n",
       "      <td>2244</td>\n",
       "      <td>2239</td>\n",
       "      <td>2589</td>\n",
       "      <td>2898</td>\n",
       "      <td>2698</td>\n",
       "      <td>2819</td>\n",
       "    </tr>\n",
       "    <tr>\n",
       "      <th>Telangana</th>\n",
       "      <td>0</td>\n",
       "      <td>1213</td>\n",
       "      <td>1892</td>\n",
       "      <td>1850</td>\n",
       "      <td>1590</td>\n",
       "      <td>1831</td>\n",
       "      <td>1879</td>\n",
       "      <td>1924</td>\n",
       "      <td>1410</td>\n",
       "      <td>1278</td>\n",
       "      <td>...</td>\n",
       "      <td>1931</td>\n",
       "      <td>1921</td>\n",
       "      <td>1863</td>\n",
       "      <td>1102</td>\n",
       "      <td>894</td>\n",
       "      <td>1682</td>\n",
       "      <td>1763</td>\n",
       "      <td>1724</td>\n",
       "      <td>1967</td>\n",
       "      <td>2474</td>\n",
       "    </tr>\n",
       "    <tr>\n",
       "      <th>Rajasthan</th>\n",
       "      <td>0</td>\n",
       "      <td>350</td>\n",
       "      <td>390</td>\n",
       "      <td>480</td>\n",
       "      <td>632</td>\n",
       "      <td>524</td>\n",
       "      <td>716</td>\n",
       "      <td>659</td>\n",
       "      <td>500</td>\n",
       "      <td>611</td>\n",
       "      <td>...</td>\n",
       "      <td>1314</td>\n",
       "      <td>1278</td>\n",
       "      <td>1287</td>\n",
       "      <td>1317</td>\n",
       "      <td>1334</td>\n",
       "      <td>1347</td>\n",
       "      <td>1312</td>\n",
       "      <td>1330</td>\n",
       "      <td>1335</td>\n",
       "      <td>612</td>\n",
       "    </tr>\n",
       "    <tr>\n",
       "      <th>Tripura</th>\n",
       "      <td>0</td>\n",
       "      <td>39</td>\n",
       "      <td>93</td>\n",
       "      <td>25</td>\n",
       "      <td>23</td>\n",
       "      <td>111</td>\n",
       "      <td>24</td>\n",
       "      <td>57</td>\n",
       "      <td>16</td>\n",
       "      <td>142</td>\n",
       "      <td>...</td>\n",
       "      <td>121</td>\n",
       "      <td>164</td>\n",
       "      <td>167</td>\n",
       "      <td>127</td>\n",
       "      <td>143</td>\n",
       "      <td>205</td>\n",
       "      <td>236</td>\n",
       "      <td>190</td>\n",
       "      <td>256</td>\n",
       "      <td>280</td>\n",
       "    </tr>\n",
       "    <tr>\n",
       "      <th>Himachal Pradesh</th>\n",
       "      <td>0</td>\n",
       "      <td>35</td>\n",
       "      <td>19</td>\n",
       "      <td>13</td>\n",
       "      <td>17</td>\n",
       "      <td>14</td>\n",
       "      <td>6</td>\n",
       "      <td>18</td>\n",
       "      <td>39</td>\n",
       "      <td>31</td>\n",
       "      <td>...</td>\n",
       "      <td>180</td>\n",
       "      <td>58</td>\n",
       "      <td>119</td>\n",
       "      <td>163</td>\n",
       "      <td>18</td>\n",
       "      <td>61</td>\n",
       "      <td>176</td>\n",
       "      <td>127</td>\n",
       "      <td>190</td>\n",
       "      <td>52</td>\n",
       "    </tr>\n",
       "  </tbody>\n",
       "</table>\n",
       "<p>5 rows × 53 columns</p>\n",
       "</div>"
      ],
      "text/plain": [
       "states            2020-07-01  2020-07-02  2020-07-03  2020-07-04  2020-07-05  \\\n",
       "state                                                                          \n",
       "Odisha                     0         229         561         495         469   \n",
       "Telangana                  0        1213        1892        1850        1590   \n",
       "Rajasthan                  0         350         390         480         632   \n",
       "Tripura                    0          39          93          25          23   \n",
       "Himachal Pradesh           0          35          19          13          17   \n",
       "\n",
       "states            2020-07-06  2020-07-07  2020-07-08  2020-07-09  2020-07-10  \\\n",
       "state                                                                          \n",
       "Odisha                   456         571         527         577         755   \n",
       "Telangana               1831        1879        1924        1410        1278   \n",
       "Rajasthan                524         716         659         500         611   \n",
       "Tripura                  111          24          57          16         142   \n",
       "Himachal Pradesh          14           6          18          39          31   \n",
       "\n",
       "states            ...  2020-08-13  2020-08-14  2020-08-15  2020-08-16  \\\n",
       "state             ...                                                   \n",
       "Odisha            ...        1981        1977        2496        2924   \n",
       "Telangana         ...        1931        1921        1863        1102   \n",
       "Rajasthan         ...        1314        1278        1287        1317   \n",
       "Tripura           ...         121         164         167         127   \n",
       "Himachal Pradesh  ...         180          58         119         163   \n",
       "\n",
       "states            2020-08-17  2020-08-18  2020-08-19  2020-08-20  2020-08-21  \\\n",
       "state                                                                          \n",
       "Odisha                  2244        2239        2589        2898        2698   \n",
       "Telangana                894        1682        1763        1724        1967   \n",
       "Rajasthan               1334        1347        1312        1330        1335   \n",
       "Tripura                  143         205         236         190         256   \n",
       "Himachal Pradesh          18          61         176         127         190   \n",
       "\n",
       "states            2020-08-22  \n",
       "state                         \n",
       "Odisha                  2819  \n",
       "Telangana               2474  \n",
       "Rajasthan                612  \n",
       "Tripura                  280  \n",
       "Himachal Pradesh          52  \n",
       "\n",
       "[5 rows x 53 columns]"
      ]
     },
     "execution_count": 18,
     "metadata": {},
     "output_type": "execute_result"
    }
   ],
   "source": [
    "#hide\n",
    "dft_ct_new_cases.head()"
   ]
  },
  {
   "cell_type": "code",
   "execution_count": 19,
   "metadata": {
    "execution": {
     "iopub.execute_input": "2020-08-22T09:51:33.467324Z",
     "iopub.status.busy": "2020-08-22T09:51:33.466567Z",
     "iopub.status.idle": "2020-08-22T09:51:36.778270Z",
     "shell.execute_reply": "2020-08-22T09:51:36.778675Z"
    },
    "papermill": {
     "duration": 3.335224,
     "end_time": "2020-08-22T09:51:36.778866",
     "exception": false,
     "start_time": "2020-08-22T09:51:33.443642",
     "status": "completed"
    },
    "tags": []
   },
   "outputs": [
    {
     "data": {
      "image/png": "[encoded data removed]",
      "text/plain": [
       "<Figure size 1296x2016 with 11 Axes>"
      ]
     },
     "metadata": {
      "needs_background": "light"
     },
     "output_type": "display_data"
    }
   ],
   "source": [
    "#hide_input\n",
    "df = dft_ct_new_cases.copy()\n",
    "df.loc['Total'] = df.sum()\n",
    "n = 5\n",
    "ax = []\n",
    "fig = plt.figure(figsize = (18,28))\n",
    "gs = fig.add_gridspec(n+2, 5)\n",
    "# gs = fig.add_gridspec(2, 3)\n",
    "ax1 = fig.add_subplot(gs[0, :])\n",
    "ef = df.loc['Total'].rename_axis('date').reset_index()\n",
    "ef['date'] = ef['date'].astype('datetime64[ns]')\n",
    "ax1.bar(ef.date,ef.Total,alpha=0.3,color='#007acc')\n",
    "ax1.plot(ef.date,ef.Total , marker=\"o\", color='#007acc')\n",
    "ax1.xaxis.set_major_locator(mdates.WeekdayLocator())\n",
    "ax1.xaxis.set_major_formatter(mdates.DateFormatter('%b %d'))\n",
    "ax1.text(0.02, 0.5,'India daily case count', transform = ax1.transAxes, fontsize=25);\n",
    "ax1.spines['right'].set_visible(False)\n",
    "ax1.spines['top'].set_visible(False)\n",
    "\n",
    "ax2 = fig.add_subplot(gs[1,0])\n",
    "ef = df.loc['Maharashtra'].rename_axis('date').reset_index()\n",
    "ef['date'] = ef['date'].astype('datetime64[ns]')\n",
    "\n",
    "ax2.bar(ef.date, ef.Maharashtra,color = '#007acc',alpha=0.5)\n",
    "ax2.xaxis.set_major_locator(mdates.WeekdayLocator())\n",
    "ax2.xaxis.set_major_formatter(mdates.DateFormatter('%b %d'))\n",
    "ax2.set_xticks(ax2.get_xticks()[::3])\n",
    "maxyval = ef.Maharashtra.max()\n",
    "ax2.set_ylim([0,maxyval])\n",
    "ax2.text(0.05, 0.9,'Maharashtra', transform = ax2.transAxes, fontsize=20);\n",
    "ax2.spines['right'].set_visible(False)\n",
    "ax2.spines['top'].set_visible(False)\n",
    "\n",
    "\n",
    "ax3 = fig.add_subplot(gs[1,1])\n",
    "ef = df.loc['Tamil Nadu'].rename_axis('date').reset_index()\n",
    "ef['date'] = ef['date'].astype('datetime64[ns]')\n",
    "ax3.bar(ef.date, ef['Tamil Nadu'],color = '#007acc',alpha=0.5,)\n",
    "ax3.xaxis.set_major_locator(mdates.WeekdayLocator())\n",
    "ax3.xaxis.set_major_formatter(mdates.DateFormatter('%b %d'))\n",
    "ax3.set_xticks(ax3.get_xticks()[::3])\n",
    "ax3.text(0.05, 0.9,'Tamil Nadu', transform = ax3.transAxes, fontsize=20);\n",
    "ax3.spines['right'].set_visible(False)\n",
    "ax3.spines['top'].set_visible(False)\n",
    "\n",
    "ax5 = fig.add_subplot(gs[1,3])\n",
    "ef = df.loc['Telangana'].rename_axis('date').reset_index()\n",
    "ef['date'] = ef['date'].astype('datetime64[ns]')\n",
    "ax5.bar(ef.date, ef['Telangana'],color = '#007acc',alpha=0.5,)\n",
    "ax5.xaxis.set_major_locator(mdates.WeekdayLocator())\n",
    "ax5.xaxis.set_major_formatter(mdates.DateFormatter('%b %d'))\n",
    "ax5.set_xticks(ax5.get_xticks()[::3])\n",
    "ax5.text(0.05, 0.9,'Telangana', transform = ax5.transAxes, fontsize=20);\n",
    "ax5.spines['right'].set_visible(False)\n",
    "ax5.spines['top'].set_visible(False)\n",
    "\n",
    "ax6 = fig.add_subplot(gs[1,4])\n",
    "ef = df.loc['Andhra Pradesh'].rename_axis('date').reset_index()\n",
    "ef['date'] = ef['date'].astype('datetime64[ns]')\n",
    "ax6.bar(ef.date, ef['Andhra Pradesh'],color = '#007acc',alpha=0.5,)\n",
    "ax6.xaxis.set_major_locator(mdates.WeekdayLocator())\n",
    "ax6.xaxis.set_major_formatter(mdates.DateFormatter('%b %d'))\n",
    "ax6.set_xticks(ax6.get_xticks()[::3])\n",
    "ax6.text(0.05, 1,'Andhra Pradesh', transform = ax6.transAxes, fontsize=20);\n",
    "ax6.spines['right'].set_visible(False)\n",
    "ax6.spines['top'].set_visible(False)\n",
    "\n",
    "ax4 = fig.add_subplot(gs[1,2])\n",
    "ef = df.loc['Delhi'].rename_axis('date').reset_index()\n",
    "ef['date'] = ef['date'].astype('datetime64[ns]')\n",
    "ax4.bar(ef.date, ef.Delhi,color = '#007acc',alpha=0.5)\n",
    "ax4.set_xticks([])\n",
    "ax4.xaxis.set_major_locator(mdates.WeekdayLocator())\n",
    "ax4.xaxis.set_major_formatter(mdates.DateFormatter('%b %d'))\n",
    "ax4.set_xticks(ax4.get_xticks()[::3])\n",
    "ax4.spines['right'].set_visible(False)\n",
    "ax4.spines['top'].set_visible(False)\n",
    "\n",
    "ax4.text(0.05, 1,'Delhi', transform = ax4.transAxes, fontsize=20)\n",
    "\n",
    "for i in range(n):\n",
    "    \n",
    "    ax.append(fig.add_subplot(gs[i+2,:]))\n",
    "    ef = df.iloc[i+3].rename_axis('date').reset_index()\n",
    "    ef['date'] = ef['date'].astype('datetime64[ns]')\n",
    "    ax[i].bar(ef.date,ef.iloc[:,-1],color = '#007acc',alpha=0.3)\n",
    "    ax[i].plot(ef.date,ef.iloc[:,-1],marker='o',color='#007acc')\n",
    "    ax[i].text(0.02,0.5,f'{ef.columns.values[-1]}',transform = ax[i].transAxes, fontsize = 20);\n",
    "    ax[i].xaxis.set_major_locator(mdates.WeekdayLocator())\n",
    "    ax[i].xaxis.set_major_formatter(mdates.DateFormatter('%b %d'))\n",
    "    ax[i].set_ylim([0,7000])\n",
    "    ax[i].spines['right'].set_visible(False)\n",
    "    ax[i].spines['top'].set_visible(False)\n",
    "plt.tight_layout()\n"
   ]
  },
  {
   "cell_type": "code",
   "execution_count": 20,
   "metadata": {
    "execution": {
     "iopub.execute_input": "2020-08-22T09:51:36.829757Z",
     "iopub.status.busy": "2020-08-22T09:51:36.828947Z",
     "iopub.status.idle": "2020-08-22T09:51:36.831803Z",
     "shell.execute_reply": "2020-08-22T09:51:36.832289Z"
    },
    "papermill": {
     "duration": 0.033869,
     "end_time": "2020-08-22T09:51:36.832429",
     "exception": false,
     "start_time": "2020-08-22T09:51:36.798560",
     "status": "completed"
    },
    "tags": []
   },
   "outputs": [
    {
     "name": "stdout",
     "output_type": "stream",
     "text": [
      "                                   states   Cases  Deaths  PCases  PDeaths  Cases (+)  Deaths (+)  Fatality Rate\n",
      "                              Maharashtra  657450   21698  657450    21698          0           0           3.30\n",
      "                               Tamil Nadu  367430    6340  367430     6340          0           0           1.73\n",
      "                           Andhra Pradesh  334940    3092  334940     3092          0           0           0.92\n",
      "                                Karnataka  264546    4522  264546     4522          0           0           1.71\n",
      "                            Uttar Pradesh  177239    2797  177239     2797          0           0           1.58\n",
      "                                    Delhi  158604    4270  158604     4270          0           0           2.69\n",
      "                              West Bengal  132364    2689  132364     2689          0           0           2.03\n",
      "                                    Bihar  117671     588  117671      588          0           0           0.50\n",
      "                                Telangana  101865     744   99391      737       2474           7           0.73\n",
      "                                    Assam   87909     227   87909      227          0           0           0.26\n",
      "                                  Gujarat   84466    2867   84466     2867          0           0           3.39\n",
      "                                   Odisha   75537     452   72718      443       2819           9           0.60\n",
      "                                Rajasthan   68566     938   67954      933        612           5           1.37\n",
      "                                   Kerala   54182     204   54182      204          0           0           0.38\n",
      "                                  Haryana   52129     585   52129      585          0           0           1.12\n",
      "                           Madhya Pradesh   50640    1185   50640     1185          0           0           2.34\n",
      "                                   Punjab   39327     991   39327      991          0           0           2.52\n",
      "                        Jammu and Kashmir   31371     593   31371      593          0           0           1.89\n",
      "                                Jharkhand   28196     297   28196      297          0           0           1.05\n",
      "                             Chhattisgarh   19510     180   19510      180          0           0           0.92\n",
      "                              Uttarakhand   14083     192   14083      192          0           0           1.36\n",
      "                                      Goa   13484     135   13484      135          0           0           1.00\n",
      "                               Puducherry    9594     143    9594      143          0           0           1.49\n",
      "                                  Tripura    8386      70    8106       69        280           1           0.83\n",
      "                                  Manipur    5049      20    5049       20          0           0           0.40\n",
      "                         Himachal Pradesh    4780      26    4728       24         52           2           0.54\n",
      "                                 Nagaland    3619       7    3619        7          0           0           0.19\n",
      "                        Arunachal Pradesh    3126       5    3126        5          0           0           0.16\n",
      "              Andaman and Nicobar Islands    2747      32    2747       32          0           0           1.16\n",
      "                               Chandigarh    2631      33    2631       33          0           0           1.25\n",
      "                                   Ladakh    2133      19    2133       19          0           0           0.89\n",
      " Dadra and Nagar Haveli and Daman and Diu    2085       2    2083        2          2           0           0.10\n",
      "                                Meghalaya    1718       6    1718        6          0           0           0.35\n",
      "                                   Sikkim    1336       3    1336        3          0           0           0.22\n",
      "                                  Mizoram     903       0     895        0          8           0           0.00\n",
      "                              Lakshadweep       0       0       0        0          0           0            NaN\n"
     ]
    }
   ],
   "source": [
    "#hide_input\n",
    "print(df_table.to_string(index=False))"
   ]
  },
  {
   "cell_type": "code",
   "execution_count": null,
   "metadata": {
    "papermill": {
     "duration": 0.02052,
     "end_time": "2020-08-22T09:51:36.874500",
     "exception": false,
     "start_time": "2020-08-22T09:51:36.853980",
     "status": "completed"
    },
    "tags": []
   },
   "outputs": [],
   "source": []
  },
  {
   "cell_type": "code",
   "execution_count": null,
   "metadata": {
    "papermill": {
     "duration": 0.019976,
     "end_time": "2020-08-22T09:51:36.913615",
     "exception": false,
     "start_time": "2020-08-22T09:51:36.893639",
     "status": "completed"
    },
    "tags": []
   },
   "outputs": [],
   "source": []
  }
 ],
 "metadata": {
  "kernelspec": {
   "display_name": "Python 3",
   "language": "python",
   "name": "python3"
  },
  "language_info": {
   "codemirror_mode": {
    "name": "ipython",
    "version": 3
   },
   "file_extension": ".py",
   "mimetype": "text/x-python",
   "name": "python",
   "nbconvert_exporter": "python",
   "pygments_lexer": "ipython3",
   "version": "3.6.11"
  },
  "papermill": {
   "duration": 9.307354,
   "end_time": "2020-08-22T09:51:38.233848",
   "environment_variables": {},
   "exception": null,
   "input_path": "latest.ipynb",
   "output_path": "latest.ipynb",
   "parameters": {},
   "start_time": "2020-08-22T09:51:28.926494",
   "version": "2.1.2"
  }
 },
 "nbformat": 4,
 "nbformat_minor": 4
}