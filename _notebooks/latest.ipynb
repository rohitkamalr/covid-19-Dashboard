{
 "cells": [
  {
   "cell_type": "markdown",
   "id": "colored-stack",
   "metadata": {
    "papermill": {
     "duration": 0.022905,
     "end_time": "2021-02-07T13:21:50.838509",
     "exception": false,
     "start_time": "2021-02-07T13:21:50.815604",
     "status": "completed"
    },
    "tags": []
   },
   "source": [
    "# Latest COVID-19 India Matplotlib Overview"
   ]
  },
  {
   "cell_type": "code",
   "execution_count": 1,
   "id": "light-proportion",
   "metadata": {
    "execution": {
     "iopub.execute_input": "2021-02-07T13:21:50.886241Z",
     "iopub.status.busy": "2021-02-07T13:21:50.885569Z",
     "iopub.status.idle": "2021-02-07T13:21:51.494671Z",
     "shell.execute_reply": "2021-02-07T13:21:51.494079Z"
    },
    "papermill": {
     "duration": 0.638406,
     "end_time": "2021-02-07T13:21:51.494861",
     "exception": false,
     "start_time": "2021-02-07T13:21:50.856455",
     "status": "completed"
    },
    "tags": []
   },
   "outputs": [],
   "source": [
    "#hide\n",
    "import pandas as pd\n",
    "import numpy as np\n",
    "import requests\n",
    "import json\n",
    "import matplotlib.pyplot as plt\n",
    "import matplotlib.dates as mdates\n",
    "import matplotlib as mpl\n",
    "from IPython.core.display import display,HTML\n",
    "%matplotlib inline\n",
    "from datetime import date"
   ]
  },
  {
   "cell_type": "code",
   "execution_count": 2,
   "id": "greenhouse-shooting",
   "metadata": {
    "execution": {
     "iopub.execute_input": "2021-02-07T13:21:51.538946Z",
     "iopub.status.busy": "2021-02-07T13:21:51.538274Z",
     "iopub.status.idle": "2021-02-07T13:21:51.699560Z",
     "shell.execute_reply": "2021-02-07T13:21:51.699013Z"
    },
    "papermill": {
     "duration": 0.186836,
     "end_time": "2021-02-07T13:21:51.699732",
     "exception": false,
     "start_time": "2021-02-07T13:21:51.512896",
     "status": "completed"
    },
    "tags": []
   },
   "outputs": [],
   "source": [
    "#hide\n",
    "df  = pd.read_csv('https://api.covid19india.org/csv/latest/states.csv')\n",
    "df = df[['Date','State','Confirmed','Deceased']]\n",
    "df = df.rename(columns={'Confirmed':'Cases', \"Deceased\":'Deaths'})\n",
    "df_cases = df[[\"Date\",'State','Cases']]\n",
    "df_deaths = df[['Date','State','Deaths']]\n",
    "df_cases1 = df_cases.groupby('Date')\n",
    "df_deaths1= df_deaths.groupby('Date')"
   ]
  },
  {
   "cell_type": "code",
   "execution_count": 3,
   "id": "hybrid-cathedral",
   "metadata": {
    "execution": {
     "iopub.execute_input": "2021-02-07T13:21:51.743023Z",
     "iopub.status.busy": "2021-02-07T13:21:51.742314Z",
     "iopub.status.idle": "2021-02-07T13:21:51.760890Z",
     "shell.execute_reply": "2021-02-07T13:21:51.760397Z"
    },
    "papermill": {
     "duration": 0.041956,
     "end_time": "2021-02-07T13:21:51.761021",
     "exception": false,
     "start_time": "2021-02-07T13:21:51.719065",
     "status": "completed"
    },
    "tags": []
   },
   "outputs": [],
   "source": [
    "#hide\n",
    "df_snap = pd.read_csv('data/SnapshotCases-28-July.csv')\n",
    "arr_states = df_snap['states'].unique()\n",
    "arr_dates = df['Date'].unique()\n",
    "df_snap = df_snap.set_index('states')"
   ]
  },
  {
   "cell_type": "code",
   "execution_count": 4,
   "id": "interior-belfast",
   "metadata": {
    "execution": {
     "iopub.execute_input": "2021-02-07T13:21:51.804673Z",
     "iopub.status.busy": "2021-02-07T13:21:51.803976Z",
     "iopub.status.idle": "2021-02-07T13:21:51.807393Z",
     "shell.execute_reply": "2021-02-07T13:21:51.806896Z"
    },
    "papermill": {
     "duration": 0.028523,
     "end_time": "2021-02-07T13:21:51.807523",
     "exception": false,
     "start_time": "2021-02-07T13:21:51.779000",
     "status": "completed"
    },
    "tags": []
   },
   "outputs": [
    {
     "data": {
      "text/plain": [
       "array(['Andaman and Nicobar Islands', 'Andhra Pradesh',\n",
       "       'Arunachal Pradesh', 'Assam', 'Bihar', 'Chandigarh',\n",
       "       'Dadra and Nagar Haveli and Daman and Diu', 'Delhi', 'Goa',\n",
       "       'Gujarat', 'Haryana', 'Himachal Pradesh', 'Jammu and Kashmir',\n",
       "       'Jharkhand', 'Karnataka', 'Kerala', 'Lakshadweep',\n",
       "       'Madhya Pradesh', 'Maharashtra', 'Manipur', 'Meghalaya', 'Mizoram',\n",
       "       'Nagaland', 'Odisha', 'Puducherry', 'Punjab', 'Rajasthan',\n",
       "       'Sikkim', 'Tamil Nadu', 'Telangana', 'Tripura', 'Uttar Pradesh',\n",
       "       'West Bengal', 'Chhattisgarh', 'Ladakh', 'Uttarakhand'],\n",
       "      dtype=object)"
      ]
     },
     "execution_count": 4,
     "metadata": {},
     "output_type": "execute_result"
    }
   ],
   "source": [
    "#hide\n",
    "arr_states[-9] = 'Puducherry'\n",
    "arr_states[-10] = 'Odisha'\n",
    "arr_states[6] = 'Dadra and Nagar Haveli and Daman and Diu'\n",
    "arr_states = np.append(arr_states,np.array(['Chhattisgarh','Ladakh','Uttarakhand']))\n",
    "arr_states"
   ]
  },
  {
   "cell_type": "code",
   "execution_count": 5,
   "id": "behind-manner",
   "metadata": {
    "execution": {
     "iopub.execute_input": "2021-02-07T13:21:51.856192Z",
     "iopub.status.busy": "2021-02-07T13:21:51.855542Z",
     "iopub.status.idle": "2021-02-07T13:21:51.864917Z",
     "shell.execute_reply": "2021-02-07T13:21:51.864341Z"
    },
    "papermill": {
     "duration": 0.039078,
     "end_time": "2021-02-07T13:21:51.865059",
     "exception": false,
     "start_time": "2021-02-07T13:21:51.825981",
     "status": "completed"
    },
    "tags": []
   },
   "outputs": [],
   "source": [
    "#hide\n",
    "dates = []\n",
    "for i in arr_dates:\n",
    "    if i>='2020-07-01':\n",
    "        dates.append(i)\n",
    "dict = {'states':dates}\n",
    "for i in arr_states:\n",
    "    dict[i] = [0]*len(dates)\n",
    "dft_cases = pd.DataFrame(dict)\n",
    "dft_deaths = pd.DataFrame(dict)\n"
   ]
  },
  {
   "cell_type": "code",
   "execution_count": 6,
   "id": "simplified-peter",
   "metadata": {
    "execution": {
     "iopub.execute_input": "2021-02-07T13:21:51.908644Z",
     "iopub.status.busy": "2021-02-07T13:21:51.908009Z",
     "iopub.status.idle": "2021-02-07T13:21:55.772105Z",
     "shell.execute_reply": "2021-02-07T13:21:55.772617Z"
    },
    "papermill": {
     "duration": 3.889096,
     "end_time": "2021-02-07T13:21:55.772791",
     "exception": false,
     "start_time": "2021-02-07T13:21:51.883695",
     "status": "completed"
    },
    "tags": []
   },
   "outputs": [],
   "source": [
    "#hide\n",
    "for i in range(len(dates)):\n",
    "    df1_deaths = df_deaths1.get_group(dates[i])\n",
    "    for j in range(len(df1_deaths.index)):\n",
    "        if df1_deaths.iloc[j,1] in arr_states:\n",
    "            dft_deaths.loc[i,df1_deaths.iloc[j,1]] = df1_deaths.iloc[j,2]\n",
    "dft_deaths = dft_deaths.set_index('states')"
   ]
  },
  {
   "cell_type": "code",
   "execution_count": 7,
   "id": "geological-welding",
   "metadata": {
    "execution": {
     "iopub.execute_input": "2021-02-07T13:21:55.815055Z",
     "iopub.status.busy": "2021-02-07T13:21:55.814466Z",
     "iopub.status.idle": "2021-02-07T13:21:59.700156Z",
     "shell.execute_reply": "2021-02-07T13:21:59.700617Z"
    },
    "papermill": {
     "duration": 3.909335,
     "end_time": "2021-02-07T13:21:59.700780",
     "exception": false,
     "start_time": "2021-02-07T13:21:55.791445",
     "status": "completed"
    },
    "tags": []
   },
   "outputs": [],
   "source": [
    "#hide\n",
    "for i in range(len(dates)):\n",
    "    df1_cases = df_cases1.get_group(dates[i])\n",
    "    for j in range(len(df1_cases.index)):\n",
    "        if df1_cases.iloc[j,1] in arr_states:\n",
    "            dft_cases.loc[i,df1_cases.iloc[j,1]] = df1_cases.iloc[j,2]\n",
    "dft_cases = dft_cases.set_index('states')"
   ]
  },
  {
   "cell_type": "code",
   "execution_count": 8,
   "id": "binary-ratio",
   "metadata": {
    "execution": {
     "iopub.execute_input": "2021-02-07T13:21:59.742621Z",
     "iopub.status.busy": "2021-02-07T13:21:59.742038Z",
     "iopub.status.idle": "2021-02-07T13:21:59.745574Z",
     "shell.execute_reply": "2021-02-07T13:21:59.746037Z"
    },
    "papermill": {
     "duration": 0.027558,
     "end_time": "2021-02-07T13:21:59.746176",
     "exception": false,
     "start_time": "2021-02-07T13:21:59.718618",
     "status": "completed"
    },
    "tags": []
   },
   "outputs": [],
   "source": [
    "#hide\n",
    "dft_cases = dft_cases.T\n",
    "dft_deaths = dft_deaths.T\n",
    "dt_today = dates[-1]\n",
    "dt_yday = dates[-2]"
   ]
  },
  {
   "cell_type": "code",
   "execution_count": 9,
   "id": "boolean-calculator",
   "metadata": {
    "execution": {
     "iopub.execute_input": "2021-02-07T13:21:59.787354Z",
     "iopub.status.busy": "2021-02-07T13:21:59.786715Z",
     "iopub.status.idle": "2021-02-07T13:21:59.792122Z",
     "shell.execute_reply": "2021-02-07T13:21:59.791592Z"
    },
    "papermill": {
     "duration": 0.028734,
     "end_time": "2021-02-07T13:21:59.792248",
     "exception": false,
     "start_time": "2021-02-07T13:21:59.763514",
     "status": "completed"
    },
    "tags": []
   },
   "outputs": [],
   "source": [
    "#hide\n",
    "dft_cases = dft_cases.reset_index()\n",
    "dft_deaths = dft_deaths.reset_index()\n",
    "dft_cases = dft_cases.rename(columns = {'index':'state'})\n",
    "dft_deaths = dft_deaths.rename(columns = {'index':'state'})"
   ]
  },
  {
   "cell_type": "code",
   "execution_count": 10,
   "id": "invisible-johnston",
   "metadata": {
    "execution": {
     "iopub.execute_input": "2021-02-07T13:21:59.834777Z",
     "iopub.status.busy": "2021-02-07T13:21:59.834021Z",
     "iopub.status.idle": "2021-02-07T13:21:59.842646Z",
     "shell.execute_reply": "2021-02-07T13:21:59.842164Z"
    },
    "papermill": {
     "duration": 0.032875,
     "end_time": "2021-02-07T13:21:59.842780",
     "exception": false,
     "start_time": "2021-02-07T13:21:59.809905",
     "status": "completed"
    },
    "tags": []
   },
   "outputs": [],
   "source": [
    "#hide\n",
    "dfc_cases = dft_cases.groupby('state')[dt_today].sum()\n",
    "dfc_deaths = dft_deaths.groupby('state')[dt_today].sum()\n",
    "dfp_cases = dft_cases.groupby('state')[dt_yday].sum()\n",
    "dfp_deaths = dft_deaths.groupby('state')[dt_yday].sum()"
   ]
  },
  {
   "cell_type": "code",
   "execution_count": 11,
   "id": "measured-great",
   "metadata": {
    "execution": {
     "iopub.execute_input": "2021-02-07T13:21:59.884179Z",
     "iopub.status.busy": "2021-02-07T13:21:59.883528Z",
     "iopub.status.idle": "2021-02-07T13:21:59.896667Z",
     "shell.execute_reply": "2021-02-07T13:21:59.897115Z"
    },
    "papermill": {
     "duration": 0.036994,
     "end_time": "2021-02-07T13:21:59.897242",
     "exception": false,
     "start_time": "2021-02-07T13:21:59.860248",
     "status": "completed"
    },
    "tags": []
   },
   "outputs": [
    {
     "data": {
      "text/html": [
       "<div>\n",
       "<style scoped>\n",
       "    .dataframe tbody tr th:only-of-type {\n",
       "        vertical-align: middle;\n",
       "    }\n",
       "\n",
       "    .dataframe tbody tr th {\n",
       "        vertical-align: top;\n",
       "    }\n",
       "\n",
       "    .dataframe thead th {\n",
       "        text-align: right;\n",
       "    }\n",
       "</style>\n",
       "<table border=\"1\" class=\"dataframe\">\n",
       "  <thead>\n",
       "    <tr style=\"text-align: right;\">\n",
       "      <th></th>\n",
       "      <th>states</th>\n",
       "      <th>Cases</th>\n",
       "      <th>Deaths</th>\n",
       "      <th>PCases</th>\n",
       "      <th>PDeaths</th>\n",
       "    </tr>\n",
       "  </thead>\n",
       "  <tbody>\n",
       "    <tr>\n",
       "      <th>0</th>\n",
       "      <td>Maharashtra</td>\n",
       "      <td>2041398</td>\n",
       "      <td>51280</td>\n",
       "      <td>2041398</td>\n",
       "      <td>51280</td>\n",
       "    </tr>\n",
       "    <tr>\n",
       "      <th>1</th>\n",
       "      <td>Kerala</td>\n",
       "      <td>962364</td>\n",
       "      <td>3849</td>\n",
       "      <td>962364</td>\n",
       "      <td>3849</td>\n",
       "    </tr>\n",
       "    <tr>\n",
       "      <th>2</th>\n",
       "      <td>Karnataka</td>\n",
       "      <td>942031</td>\n",
       "      <td>12233</td>\n",
       "      <td>942031</td>\n",
       "      <td>12233</td>\n",
       "    </tr>\n",
       "    <tr>\n",
       "      <th>3</th>\n",
       "      <td>Andhra Pradesh</td>\n",
       "      <td>888350</td>\n",
       "      <td>7159</td>\n",
       "      <td>888350</td>\n",
       "      <td>7159</td>\n",
       "    </tr>\n",
       "    <tr>\n",
       "      <th>4</th>\n",
       "      <td>Tamil Nadu</td>\n",
       "      <td>841326</td>\n",
       "      <td>12382</td>\n",
       "      <td>841326</td>\n",
       "      <td>12382</td>\n",
       "    </tr>\n",
       "  </tbody>\n",
       "</table>\n",
       "</div>"
      ],
      "text/plain": [
       "           states    Cases  Deaths   PCases  PDeaths\n",
       "0     Maharashtra  2041398   51280  2041398    51280\n",
       "1          Kerala   962364    3849   962364     3849\n",
       "2       Karnataka   942031   12233   942031    12233\n",
       "3  Andhra Pradesh   888350    7159   888350     7159\n",
       "4      Tamil Nadu   841326   12382   841326    12382"
      ]
     },
     "execution_count": 11,
     "metadata": {},
     "output_type": "execute_result"
    }
   ],
   "source": [
    "#hide\n",
    "df_table = pd.DataFrame({'states': dfc_cases.index, 'Cases': dfc_cases.values, 'Deaths': dfc_deaths.values, 'PCases': dfp_cases.values, 'PDeaths': dfp_deaths.values}).set_index('states')\n",
    "df_table = df_table.sort_values(by = ['Cases','Deaths'], ascending = [False, False])\n",
    "df_table = df_table.reset_index()\n",
    "df_table.head()"
   ]
  },
  {
   "cell_type": "code",
   "execution_count": 12,
   "id": "found-montreal",
   "metadata": {
    "execution": {
     "iopub.execute_input": "2021-02-07T13:21:59.937629Z",
     "iopub.status.busy": "2021-02-07T13:21:59.937058Z",
     "iopub.status.idle": "2021-02-07T13:21:59.945727Z",
     "shell.execute_reply": "2021-02-07T13:21:59.946594Z"
    },
    "papermill": {
     "duration": 0.031681,
     "end_time": "2021-02-07T13:21:59.946755",
     "exception": false,
     "start_time": "2021-02-07T13:21:59.915074",
     "status": "completed"
    },
    "tags": []
   },
   "outputs": [],
   "source": [
    "#hide\n",
    "for c in 'Cases, Deaths'.split(', '):\n",
    "    df_table[f'{c} (+)'] = (df_table[c] - df_table[f'P{c}']).clip(0)\n",
    "df_table['Fatality Rate'] = (100* df_table['Deaths']/ df_table['Cases']).round(2)"
   ]
  },
  {
   "cell_type": "code",
   "execution_count": 13,
   "id": "minus-savage",
   "metadata": {
    "execution": {
     "iopub.execute_input": "2021-02-07T13:21:59.993555Z",
     "iopub.status.busy": "2021-02-07T13:21:59.992926Z",
     "iopub.status.idle": "2021-02-07T13:21:59.995681Z",
     "shell.execute_reply": "2021-02-07T13:21:59.996191Z"
    },
    "papermill": {
     "duration": 0.032183,
     "end_time": "2021-02-07T13:21:59.996357",
     "exception": false,
     "start_time": "2021-02-07T13:21:59.964174",
     "status": "completed"
    },
    "tags": []
   },
   "outputs": [
    {
     "data": {
      "text/html": [
       "<div>\n",
       "<style scoped>\n",
       "    .dataframe tbody tr th:only-of-type {\n",
       "        vertical-align: middle;\n",
       "    }\n",
       "\n",
       "    .dataframe tbody tr th {\n",
       "        vertical-align: top;\n",
       "    }\n",
       "\n",
       "    .dataframe thead th {\n",
       "        text-align: right;\n",
       "    }\n",
       "</style>\n",
       "<table border=\"1\" class=\"dataframe\">\n",
       "  <thead>\n",
       "    <tr style=\"text-align: right;\">\n",
       "      <th></th>\n",
       "      <th>states</th>\n",
       "      <th>Cases</th>\n",
       "      <th>Deaths</th>\n",
       "      <th>PCases</th>\n",
       "      <th>PDeaths</th>\n",
       "      <th>Cases (+)</th>\n",
       "      <th>Deaths (+)</th>\n",
       "      <th>Fatality Rate</th>\n",
       "    </tr>\n",
       "  </thead>\n",
       "  <tbody>\n",
       "    <tr>\n",
       "      <th>0</th>\n",
       "      <td>Maharashtra</td>\n",
       "      <td>2041398</td>\n",
       "      <td>51280</td>\n",
       "      <td>2041398</td>\n",
       "      <td>51280</td>\n",
       "      <td>0</td>\n",
       "      <td>0</td>\n",
       "      <td>2.51</td>\n",
       "    </tr>\n",
       "    <tr>\n",
       "      <th>1</th>\n",
       "      <td>Kerala</td>\n",
       "      <td>962364</td>\n",
       "      <td>3849</td>\n",
       "      <td>962364</td>\n",
       "      <td>3849</td>\n",
       "      <td>0</td>\n",
       "      <td>0</td>\n",
       "      <td>0.40</td>\n",
       "    </tr>\n",
       "    <tr>\n",
       "      <th>2</th>\n",
       "      <td>Karnataka</td>\n",
       "      <td>942031</td>\n",
       "      <td>12233</td>\n",
       "      <td>942031</td>\n",
       "      <td>12233</td>\n",
       "      <td>0</td>\n",
       "      <td>0</td>\n",
       "      <td>1.30</td>\n",
       "    </tr>\n",
       "    <tr>\n",
       "      <th>3</th>\n",
       "      <td>Andhra Pradesh</td>\n",
       "      <td>888350</td>\n",
       "      <td>7159</td>\n",
       "      <td>888350</td>\n",
       "      <td>7159</td>\n",
       "      <td>0</td>\n",
       "      <td>0</td>\n",
       "      <td>0.81</td>\n",
       "    </tr>\n",
       "    <tr>\n",
       "      <th>4</th>\n",
       "      <td>Tamil Nadu</td>\n",
       "      <td>841326</td>\n",
       "      <td>12382</td>\n",
       "      <td>841326</td>\n",
       "      <td>12382</td>\n",
       "      <td>0</td>\n",
       "      <td>0</td>\n",
       "      <td>1.47</td>\n",
       "    </tr>\n",
       "  </tbody>\n",
       "</table>\n",
       "</div>"
      ],
      "text/plain": [
       "           states    Cases  Deaths   PCases  PDeaths  Cases (+)  Deaths (+)  \\\n",
       "0     Maharashtra  2041398   51280  2041398    51280          0           0   \n",
       "1          Kerala   962364    3849   962364     3849          0           0   \n",
       "2       Karnataka   942031   12233   942031    12233          0           0   \n",
       "3  Andhra Pradesh   888350    7159   888350     7159          0           0   \n",
       "4      Tamil Nadu   841326   12382   841326    12382          0           0   \n",
       "\n",
       "   Fatality Rate  \n",
       "0           2.51  \n",
       "1           0.40  \n",
       "2           1.30  \n",
       "3           0.81  \n",
       "4           1.47  "
      ]
     },
     "execution_count": 13,
     "metadata": {},
     "output_type": "execute_result"
    }
   ],
   "source": [
    "#hide\n",
    "df_table.head()"
   ]
  },
  {
   "cell_type": "code",
   "execution_count": 14,
   "id": "false-peter",
   "metadata": {
    "execution": {
     "iopub.execute_input": "2021-02-07T13:22:00.039232Z",
     "iopub.status.busy": "2021-02-07T13:22:00.038567Z",
     "iopub.status.idle": "2021-02-07T13:22:00.055440Z",
     "shell.execute_reply": "2021-02-07T13:22:00.056103Z"
    },
    "papermill": {
     "duration": 0.041179,
     "end_time": "2021-02-07T13:22:00.056266",
     "exception": false,
     "start_time": "2021-02-07T13:22:00.015087",
     "status": "completed"
    },
    "tags": []
   },
   "outputs": [
    {
     "data": {
      "text/plain": [
       "{'updated': '2021-02-07',\n",
       " 'since': '2021-02-06',\n",
       " 'Cases': 10827656,\n",
       " 'PCases': 10827314,\n",
       " 'Deaths': 155036,\n",
       " 'PDeaths': 155032,\n",
       " 'Cases (+)': 342,\n",
       " 'Deaths (+)': 4}"
      ]
     },
     "execution_count": 14,
     "metadata": {},
     "output_type": "execute_result"
    }
   ],
   "source": [
    "#hide\n",
    "summary = {'updated':dates[-1], 'since':dates[-2]}\n",
    "list_names = ['Cases', 'PCases', 'Deaths', 'PDeaths', 'Cases (+)', 'Deaths (+)']\n",
    "for name in list_names:\n",
    "    summary[name] = df_table.sum()[name]\n",
    "summary"
   ]
  },
  {
   "cell_type": "code",
   "execution_count": 15,
   "id": "packed-viewer",
   "metadata": {
    "execution": {
     "iopub.execute_input": "2021-02-07T13:22:00.100750Z",
     "iopub.status.busy": "2021-02-07T13:22:00.100067Z",
     "iopub.status.idle": "2021-02-07T13:22:00.103097Z",
     "shell.execute_reply": "2021-02-07T13:22:00.102458Z"
    },
    "papermill": {
     "duration": 0.027676,
     "end_time": "2021-02-07T13:22:00.103253",
     "exception": false,
     "start_time": "2021-02-07T13:22:00.075577",
     "status": "completed"
    },
    "tags": []
   },
   "outputs": [],
   "source": [
    "#hide\n",
    "overview = '''\n",
    "<!-- #######  HTML!! #########-->\n",
    "<h1 style=\"color: #5e9ca0; text-align: center;\">India</h1>\n",
    "<p style=\"text-align: center;\">Last update: <strong>{update}</strong></p>\n",
    "<p style=\"text-align: center;\">Confirmed cases:</p>\n",
    "<p style=\"text-align: center;font-size:24px;\">{cases} (<span style=\"color: #ff0000;\">+{new}</span>)</p>\n",
    "<p style=\"text-align: center;\">Confirmed deaths:</p>\n",
    "<p style=\"text-align: center;font-size:24px;\">{deaths} (<span style=\"color: #ff0000;\">+{dnew}</span>)</p>\n",
    "'''"
   ]
  },
  {
   "cell_type": "code",
   "execution_count": 16,
   "id": "phantom-lover",
   "metadata": {
    "execution": {
     "iopub.execute_input": "2021-02-07T13:22:00.145125Z",
     "iopub.status.busy": "2021-02-07T13:22:00.144558Z",
     "iopub.status.idle": "2021-02-07T13:22:00.147448Z",
     "shell.execute_reply": "2021-02-07T13:22:00.147916Z"
    },
    "papermill": {
     "duration": 0.026361,
     "end_time": "2021-02-07T13:22:00.148043",
     "exception": false,
     "start_time": "2021-02-07T13:22:00.121682",
     "status": "completed"
    },
    "tags": []
   },
   "outputs": [
    {
     "data": {
      "text/html": [
       "\n",
       "<!-- #######  HTML!! #########-->\n",
       "<h1 style=\"color: #5e9ca0; text-align: center;\">India</h1>\n",
       "<p style=\"text-align: center;\">Last update: <strong>2021-02-07</strong></p>\n",
       "<p style=\"text-align: center;\">Confirmed cases:</p>\n",
       "<p style=\"text-align: center;font-size:24px;\">10827656 (<span style=\"color: #ff0000;\">+342</span>)</p>\n",
       "<p style=\"text-align: center;\">Confirmed deaths:</p>\n",
       "<p style=\"text-align: center;font-size:24px;\">155036 (<span style=\"color: #ff0000;\">+4</span>)</p>\n"
      ],
      "text/plain": [
       "<IPython.core.display.HTML object>"
      ]
     },
     "metadata": {},
     "output_type": "display_data"
    }
   ],
   "source": [
    "#hide_input\n",
    "update = summary['updated']\n",
    "cases = summary['Cases']\n",
    "new = summary['Cases (+)']\n",
    "deaths = summary['Deaths']\n",
    "dnew = summary['Deaths (+)']\n",
    "\n",
    "html = HTML(overview.format(update=update, cases=cases,new=new,deaths=deaths,dnew=dnew))\n",
    "\n",
    "display(html)"
   ]
  },
  {
   "cell_type": "code",
   "execution_count": 17,
   "id": "sealed-reset",
   "metadata": {
    "execution": {
     "iopub.execute_input": "2021-02-07T13:22:00.192859Z",
     "iopub.status.busy": "2021-02-07T13:22:00.192115Z",
     "iopub.status.idle": "2021-02-07T13:22:00.197929Z",
     "shell.execute_reply": "2021-02-07T13:22:00.198476Z"
    },
    "papermill": {
     "duration": 0.032153,
     "end_time": "2021-02-07T13:22:00.198625",
     "exception": false,
     "start_time": "2021-02-07T13:22:00.166472",
     "status": "completed"
    },
    "tags": []
   },
   "outputs": [],
   "source": [
    "#hide\n",
    "dt_cols = list(dft_cases.columns[1:])\n",
    "dft_ct_new_cases = dft_cases.groupby('state')[dt_cols].sum().diff(axis=1).fillna(0).astype(int)\n",
    "dft_ct_new_cases.sort_values(by = dates[-1], ascending = False,inplace = True)"
   ]
  },
  {
   "cell_type": "code",
   "execution_count": 18,
   "id": "designed-constant",
   "metadata": {
    "execution": {
     "iopub.execute_input": "2021-02-07T13:22:00.253709Z",
     "iopub.status.busy": "2021-02-07T13:22:00.253083Z",
     "iopub.status.idle": "2021-02-07T13:22:00.256079Z",
     "shell.execute_reply": "2021-02-07T13:22:00.256636Z"
    },
    "papermill": {
     "duration": 0.03965,
     "end_time": "2021-02-07T13:22:00.256766",
     "exception": false,
     "start_time": "2021-02-07T13:22:00.217116",
     "status": "completed"
    },
    "tags": []
   },
   "outputs": [
    {
     "data": {
      "text/html": [
       "<div>\n",
       "<style scoped>\n",
       "    .dataframe tbody tr th:only-of-type {\n",
       "        vertical-align: middle;\n",
       "    }\n",
       "\n",
       "    .dataframe tbody tr th {\n",
       "        vertical-align: top;\n",
       "    }\n",
       "\n",
       "    .dataframe thead th {\n",
       "        text-align: right;\n",
       "    }\n",
       "</style>\n",
       "<table border=\"1\" class=\"dataframe\">\n",
       "  <thead>\n",
       "    <tr style=\"text-align: right;\">\n",
       "      <th>states</th>\n",
       "      <th>2020-07-01</th>\n",
       "      <th>2020-07-02</th>\n",
       "      <th>2020-07-03</th>\n",
       "      <th>2020-07-04</th>\n",
       "      <th>2020-07-05</th>\n",
       "      <th>2020-07-06</th>\n",
       "      <th>2020-07-07</th>\n",
       "      <th>2020-07-08</th>\n",
       "      <th>2020-07-09</th>\n",
       "      <th>2020-07-10</th>\n",
       "      <th>...</th>\n",
       "      <th>2021-01-29</th>\n",
       "      <th>2021-01-30</th>\n",
       "      <th>2021-01-31</th>\n",
       "      <th>2021-02-01</th>\n",
       "      <th>2021-02-02</th>\n",
       "      <th>2021-02-03</th>\n",
       "      <th>2021-02-04</th>\n",
       "      <th>2021-02-05</th>\n",
       "      <th>2021-02-06</th>\n",
       "      <th>2021-02-07</th>\n",
       "    </tr>\n",
       "    <tr>\n",
       "      <th>state</th>\n",
       "      <th></th>\n",
       "      <th></th>\n",
       "      <th></th>\n",
       "      <th></th>\n",
       "      <th></th>\n",
       "      <th></th>\n",
       "      <th></th>\n",
       "      <th></th>\n",
       "      <th></th>\n",
       "      <th></th>\n",
       "      <th></th>\n",
       "      <th></th>\n",
       "      <th></th>\n",
       "      <th></th>\n",
       "      <th></th>\n",
       "      <th></th>\n",
       "      <th></th>\n",
       "      <th></th>\n",
       "      <th></th>\n",
       "      <th></th>\n",
       "      <th></th>\n",
       "    </tr>\n",
       "  </thead>\n",
       "  <tbody>\n",
       "    <tr>\n",
       "      <th>Telangana</th>\n",
       "      <td>0</td>\n",
       "      <td>1213</td>\n",
       "      <td>1892</td>\n",
       "      <td>1850</td>\n",
       "      <td>1590</td>\n",
       "      <td>1831</td>\n",
       "      <td>1879</td>\n",
       "      <td>1924</td>\n",
       "      <td>1410</td>\n",
       "      <td>1278</td>\n",
       "      <td>...</td>\n",
       "      <td>197</td>\n",
       "      <td>186</td>\n",
       "      <td>163</td>\n",
       "      <td>118</td>\n",
       "      <td>152</td>\n",
       "      <td>185</td>\n",
       "      <td>177</td>\n",
       "      <td>169</td>\n",
       "      <td>161</td>\n",
       "      <td>150</td>\n",
       "    </tr>\n",
       "    <tr>\n",
       "      <th>Delhi</th>\n",
       "      <td>0</td>\n",
       "      <td>2373</td>\n",
       "      <td>2520</td>\n",
       "      <td>2505</td>\n",
       "      <td>2244</td>\n",
       "      <td>1379</td>\n",
       "      <td>2008</td>\n",
       "      <td>2033</td>\n",
       "      <td>2187</td>\n",
       "      <td>2089</td>\n",
       "      <td>...</td>\n",
       "      <td>249</td>\n",
       "      <td>183</td>\n",
       "      <td>140</td>\n",
       "      <td>121</td>\n",
       "      <td>114</td>\n",
       "      <td>150</td>\n",
       "      <td>158</td>\n",
       "      <td>154</td>\n",
       "      <td>123</td>\n",
       "      <td>119</td>\n",
       "    </tr>\n",
       "    <tr>\n",
       "      <th>Odisha</th>\n",
       "      <td>0</td>\n",
       "      <td>229</td>\n",
       "      <td>561</td>\n",
       "      <td>495</td>\n",
       "      <td>469</td>\n",
       "      <td>456</td>\n",
       "      <td>571</td>\n",
       "      <td>527</td>\n",
       "      <td>577</td>\n",
       "      <td>755</td>\n",
       "      <td>...</td>\n",
       "      <td>70</td>\n",
       "      <td>108</td>\n",
       "      <td>114</td>\n",
       "      <td>79</td>\n",
       "      <td>60</td>\n",
       "      <td>71</td>\n",
       "      <td>87</td>\n",
       "      <td>97</td>\n",
       "      <td>82</td>\n",
       "      <td>72</td>\n",
       "    </tr>\n",
       "    <tr>\n",
       "      <th>Mizoram</th>\n",
       "      <td>0</td>\n",
       "      <td>2</td>\n",
       "      <td>0</td>\n",
       "      <td>2</td>\n",
       "      <td>22</td>\n",
       "      <td>11</td>\n",
       "      <td>1</td>\n",
       "      <td>5</td>\n",
       "      <td>0</td>\n",
       "      <td>23</td>\n",
       "      <td>...</td>\n",
       "      <td>1</td>\n",
       "      <td>3</td>\n",
       "      <td>6</td>\n",
       "      <td>0</td>\n",
       "      <td>1</td>\n",
       "      <td>3</td>\n",
       "      <td>0</td>\n",
       "      <td>4</td>\n",
       "      <td>1</td>\n",
       "      <td>1</td>\n",
       "    </tr>\n",
       "    <tr>\n",
       "      <th>Andaman and Nicobar Islands</th>\n",
       "      <td>0</td>\n",
       "      <td>9</td>\n",
       "      <td>7</td>\n",
       "      <td>3</td>\n",
       "      <td>6</td>\n",
       "      <td>16</td>\n",
       "      <td>6</td>\n",
       "      <td>2</td>\n",
       "      <td>7</td>\n",
       "      <td>0</td>\n",
       "      <td>...</td>\n",
       "      <td>0</td>\n",
       "      <td>0</td>\n",
       "      <td>0</td>\n",
       "      <td>0</td>\n",
       "      <td>0</td>\n",
       "      <td>0</td>\n",
       "      <td>0</td>\n",
       "      <td>3</td>\n",
       "      <td>3</td>\n",
       "      <td>0</td>\n",
       "    </tr>\n",
       "  </tbody>\n",
       "</table>\n",
       "<p>5 rows × 222 columns</p>\n",
       "</div>"
      ],
      "text/plain": [
       "states                       2020-07-01  2020-07-02  2020-07-03  2020-07-04  \\\n",
       "state                                                                         \n",
       "Telangana                             0        1213        1892        1850   \n",
       "Delhi                                 0        2373        2520        2505   \n",
       "Odisha                                0         229         561         495   \n",
       "Mizoram                               0           2           0           2   \n",
       "Andaman and Nicobar Islands           0           9           7           3   \n",
       "\n",
       "states                       2020-07-05  2020-07-06  2020-07-07  2020-07-08  \\\n",
       "state                                                                         \n",
       "Telangana                          1590        1831        1879        1924   \n",
       "Delhi                              2244        1379        2008        2033   \n",
       "Odisha                              469         456         571         527   \n",
       "Mizoram                              22          11           1           5   \n",
       "Andaman and Nicobar Islands           6          16           6           2   \n",
       "\n",
       "states                       2020-07-09  2020-07-10  ...  2021-01-29  \\\n",
       "state                                                ...               \n",
       "Telangana                          1410        1278  ...         197   \n",
       "Delhi                              2187        2089  ...         249   \n",
       "Odisha                              577         755  ...          70   \n",
       "Mizoram                               0          23  ...           1   \n",
       "Andaman and Nicobar Islands           7           0  ...           0   \n",
       "\n",
       "states                       2021-01-30  2021-01-31  2021-02-01  2021-02-02  \\\n",
       "state                                                                         \n",
       "Telangana                           186         163         118         152   \n",
       "Delhi                               183         140         121         114   \n",
       "Odisha                              108         114          79          60   \n",
       "Mizoram                               3           6           0           1   \n",
       "Andaman and Nicobar Islands           0           0           0           0   \n",
       "\n",
       "states                       2021-02-03  2021-02-04  2021-02-05  2021-02-06  \\\n",
       "state                                                                         \n",
       "Telangana                           185         177         169         161   \n",
       "Delhi                               150         158         154         123   \n",
       "Odisha                               71          87          97          82   \n",
       "Mizoram                               3           0           4           1   \n",
       "Andaman and Nicobar Islands           0           0           3           3   \n",
       "\n",
       "states                       2021-02-07  \n",
       "state                                    \n",
       "Telangana                           150  \n",
       "Delhi                               119  \n",
       "Odisha                               72  \n",
       "Mizoram                               1  \n",
       "Andaman and Nicobar Islands           0  \n",
       "\n",
       "[5 rows x 222 columns]"
      ]
     },
     "execution_count": 18,
     "metadata": {},
     "output_type": "execute_result"
    }
   ],
   "source": [
    "#hide\n",
    "dft_ct_new_cases.head()"
   ]
  },
  {
   "cell_type": "code",
   "execution_count": 19,
   "id": "responsible-nightlife",
   "metadata": {
    "execution": {
     "iopub.execute_input": "2021-02-07T13:22:00.315067Z",
     "iopub.status.busy": "2021-02-07T13:22:00.309271Z",
     "iopub.status.idle": "2021-02-07T13:22:09.111357Z",
     "shell.execute_reply": "2021-02-07T13:22:09.111866Z"
    },
    "papermill": {
     "duration": 8.835448,
     "end_time": "2021-02-07T13:22:09.112032",
     "exception": false,
     "start_time": "2021-02-07T13:22:00.276584",
     "status": "completed"
    },
    "tags": []
   },
   "outputs": [
    {
     "data": {
      "image/png": "[encoded data removed]",
      "text/plain": [
       "<Figure size 1296x2016 with 11 Axes>"
      ]
     },
     "metadata": {
      "needs_background": "light"
     },
     "output_type": "display_data"
    }
   ],
   "source": [
    "#hide_input\n",
    "df = dft_ct_new_cases.copy()\n",
    "df.loc['Total'] = df.sum()\n",
    "n = 5\n",
    "ax = []\n",
    "fig = plt.figure(figsize = (18,28))\n",
    "gs = fig.add_gridspec(n+2, 5)\n",
    "# gs = fig.add_gridspec(2, 3)\n",
    "ax1 = fig.add_subplot(gs[0, :])\n",
    "ef = df.loc['Total'].rename_axis('date').reset_index()\n",
    "ef['date'] = ef['date'].astype('datetime64[ns]')\n",
    "ax1.bar(ef.date,ef.Total,alpha=0.3,color='#007acc')\n",
    "ax1.plot(ef.date,ef.Total , marker=\"o\", color='#007acc')\n",
    "ax1.xaxis.set_major_locator(mdates.WeekdayLocator())\n",
    "ax1.xaxis.set_major_formatter(mdates.DateFormatter('%b %d'))\n",
    "ax1.text(0.02, 0.5,'India daily case count', transform = ax1.transAxes, fontsize=25);\n",
    "ax1.spines['right'].set_visible(False)\n",
    "ax1.spines['top'].set_visible(False)\n",
    "\n",
    "ax2 = fig.add_subplot(gs[1,0])\n",
    "ef = df.loc['Maharashtra'].rename_axis('date').reset_index()\n",
    "ef['date'] = ef['date'].astype('datetime64[ns]')\n",
    "\n",
    "ax2.bar(ef.date, ef.Maharashtra,color = '#007acc',alpha=0.5)\n",
    "ax2.xaxis.set_major_locator(mdates.WeekdayLocator())\n",
    "ax2.xaxis.set_major_formatter(mdates.DateFormatter('%b %d'))\n",
    "ax2.set_xticks(ax2.get_xticks()[::3])\n",
    "maxyval = ef.Maharashtra.max()\n",
    "ax2.set_ylim([0,maxyval])\n",
    "ax2.text(0.05, 0.9,'Maharashtra', transform = ax2.transAxes, fontsize=20);\n",
    "ax2.spines['right'].set_visible(False)\n",
    "ax2.spines['top'].set_visible(False)\n",
    "\n",
    "\n",
    "ax3 = fig.add_subplot(gs[1,1])\n",
    "ef = df.loc['Tamil Nadu'].rename_axis('date').reset_index()\n",
    "ef['date'] = ef['date'].astype('datetime64[ns]')\n",
    "ax3.bar(ef.date, ef['Tamil Nadu'],color = '#007acc',alpha=0.5,)\n",
    "ax3.xaxis.set_major_locator(mdates.WeekdayLocator())\n",
    "ax3.xaxis.set_major_formatter(mdates.DateFormatter('%b %d'))\n",
    "ax3.set_xticks(ax3.get_xticks()[::3])\n",
    "ax3.text(0.05, 0.9,'Tamil Nadu', transform = ax3.transAxes, fontsize=20);\n",
    "ax3.spines['right'].set_visible(False)\n",
    "ax3.spines['top'].set_visible(False)\n",
    "\n",
    "ax5 = fig.add_subplot(gs[1,3])\n",
    "ef = df.loc['Telangana'].rename_axis('date').reset_index()\n",
    "ef['date'] = ef['date'].astype('datetime64[ns]')\n",
    "ax5.bar(ef.date, ef['Telangana'],color = '#007acc',alpha=0.5,)\n",
    "ax5.xaxis.set_major_locator(mdates.WeekdayLocator())\n",
    "ax5.xaxis.set_major_formatter(mdates.DateFormatter('%b %d'))\n",
    "ax5.set_xticks(ax5.get_xticks()[::3])\n",
    "ax5.text(0.05, 0.9,'Telangana', transform = ax5.transAxes, fontsize=20);\n",
    "ax5.spines['right'].set_visible(False)\n",
    "ax5.spines['top'].set_visible(False)\n",
    "\n",
    "ax6 = fig.add_subplot(gs[1,4])\n",
    "ef = df.loc['Andhra Pradesh'].rename_axis('date').reset_index()\n",
    "ef['date'] = ef['date'].astype('datetime64[ns]')\n",
    "ax6.bar(ef.date, ef['Andhra Pradesh'],color = '#007acc',alpha=0.5,)\n",
    "ax6.xaxis.set_major_locator(mdates.WeekdayLocator())\n",
    "ax6.xaxis.set_major_formatter(mdates.DateFormatter('%b %d'))\n",
    "ax6.set_xticks(ax6.get_xticks()[::3])\n",
    "ax6.text(0.05, 1,'Andhra Pradesh', transform = ax6.transAxes, fontsize=20);\n",
    "ax6.spines['right'].set_visible(False)\n",
    "ax6.spines['top'].set_visible(False)\n",
    "\n",
    "ax4 = fig.add_subplot(gs[1,2])\n",
    "ef = df.loc['Delhi'].rename_axis('date').reset_index()\n",
    "ef['date'] = ef['date'].astype('datetime64[ns]')\n",
    "ax4.bar(ef.date, ef.Delhi,color = '#007acc',alpha=0.5)\n",
    "ax4.set_xticks([])\n",
    "ax4.xaxis.set_major_locator(mdates.WeekdayLocator())\n",
    "ax4.xaxis.set_major_formatter(mdates.DateFormatter('%b %d'))\n",
    "ax4.set_xticks(ax4.get_xticks()[::3])\n",
    "ax4.spines['right'].set_visible(False)\n",
    "ax4.spines['top'].set_visible(False)\n",
    "\n",
    "ax4.text(0.05, 1,'Delhi', transform = ax4.transAxes, fontsize=20)\n",
    "\n",
    "for i in range(n):\n",
    "    \n",
    "    ax.append(fig.add_subplot(gs[i+2,:]))\n",
    "    ef = df.iloc[i+3].rename_axis('date').reset_index()\n",
    "    ef['date'] = ef['date'].astype('datetime64[ns]')\n",
    "    ax[i].bar(ef.date,ef.iloc[:,-1],color = '#007acc',alpha=0.3)\n",
    "    ax[i].plot(ef.date,ef.iloc[:,-1],marker='o',color='#007acc')\n",
    "    ax[i].text(0.02,0.5,f'{ef.columns.values[-1]}',transform = ax[i].transAxes, fontsize = 20);\n",
    "    ax[i].xaxis.set_major_locator(mdates.WeekdayLocator())\n",
    "    ax[i].xaxis.set_major_formatter(mdates.DateFormatter('%b %d'))\n",
    "    ax[i].set_ylim([0,7000])\n",
    "    ax[i].spines['right'].set_visible(False)\n",
    "    ax[i].spines['top'].set_visible(False)\n",
    "plt.tight_layout()\n"
   ]
  },
  {
   "cell_type": "code",
   "execution_count": 20,
   "id": "dress-forge",
   "metadata": {
    "execution": {
     "iopub.execute_input": "2021-02-07T13:22:09.167447Z",
     "iopub.status.busy": "2021-02-07T13:22:09.166630Z",
     "iopub.status.idle": "2021-02-07T13:22:09.171679Z",
     "shell.execute_reply": "2021-02-07T13:22:09.171149Z"
    },
    "papermill": {
     "duration": 0.035886,
     "end_time": "2021-02-07T13:22:09.171829",
     "exception": false,
     "start_time": "2021-02-07T13:22:09.135943",
     "status": "completed"
    },
    "tags": []
   },
   "outputs": [
    {
     "name": "stdout",
     "output_type": "stream",
     "text": [
      "                                   states    Cases  Deaths   PCases  PDeaths  Cases (+)  Deaths (+)  Fatality Rate\n",
      "                              Maharashtra  2041398   51280  2041398    51280          0           0           2.51\n",
      "                                   Kerala   962364    3849   962364     3849          0           0           0.40\n",
      "                                Karnataka   942031   12233   942031    12233          0           0           1.30\n",
      "                           Andhra Pradesh   888350    7159   888350     7159          0           0           0.81\n",
      "                               Tamil Nadu   841326   12382   841326    12382          0           0           1.47\n",
      "                                    Delhi   636035   10879   635916    10877        119           2           1.71\n",
      "                            Uttar Pradesh   601272    8686   601272     8686          0           0           1.44\n",
      "                              West Bengal   571178   10202   571178    10202          0           0           1.79\n",
      "                                   Odisha   335620    1962   335548     1962         72           0           0.58\n",
      "                                Rajasthan   318118    2772   318118     2772          0           0           0.87\n",
      "                             Chhattisgarh   307339    3735   307339     3735          0           0           1.22\n",
      "                                Telangana   295581    1610   295431     1608        150           2           0.54\n",
      "                                  Haryana   268364    3027   268364     3027          0           0           1.13\n",
      "                                  Gujarat   263200    4394   263200     4394          0           0           1.67\n",
      "                                    Bihar   261246    1515   261246     1515          0           0           0.58\n",
      "                           Madhya Pradesh   256214    3820   256214     3820          0           0           1.49\n",
      "                                    Assam   217202    1084   217202     1084          0           0           0.50\n",
      "                                   Punjab   174439    5640   174439     5640          0           0           3.23\n",
      "                        Jammu and Kashmir   124850    1944   124850     1944          0           0           1.56\n",
      "                                Jharkhand   118979    1077   118979     1077          0           0           0.91\n",
      "                              Uttarakhand    96478    1664    96478     1664          0           0           1.72\n",
      "                         Himachal Pradesh    57851     971    57851      971          0           0           1.68\n",
      "                                      Goa    53838     770    53838      770          0           0           1.43\n",
      "                               Puducherry    39270     654    39270      654          0           0           1.67\n",
      "                                  Tripura    33349     388    33349      388          0           0           1.16\n",
      "                                  Manipur    29117     372    29117      372          0           0           1.28\n",
      "                               Chandigarh    21060     338    21060      338          0           0           1.60\n",
      "                        Arunachal Pradesh    16830      56    16830       56          0           0           0.33\n",
      "                                Meghalaya    13845     147    13845      147          0           0           1.06\n",
      "                                 Nagaland    12148      88    12148       88          0           0           0.72\n",
      "                                   Ladakh     9743     130     9743      130          0           0           1.33\n",
      "                                   Sikkim     6108     135     6108      135          0           0           2.21\n",
      "              Andaman and Nicobar Islands     5000      62     5000       62          0           0           1.24\n",
      "                                  Mizoram     4382       9     4381        9          1           0           0.21\n",
      " Dadra and Nagar Haveli and Daman and Diu     3380       2     3380        2          0           0           0.06\n",
      "                              Lakshadweep      151       0      151        0          0           0           0.00\n"
     ]
    }
   ],
   "source": [
    "#hide_input\n",
    "print(df_table.to_string(index=False))"
   ]
  },
  {
   "cell_type": "code",
   "execution_count": null,
   "id": "quantitative-legend",
   "metadata": {
    "papermill": {
     "duration": 0.023117,
     "end_time": "2021-02-07T13:22:09.219772",
     "exception": false,
     "start_time": "2021-02-07T13:22:09.196655",
     "status": "completed"
    },
    "tags": []
   },
   "outputs": [],
   "source": []
  },
  {
   "cell_type": "code",
   "execution_count": null,
   "id": "distant-acoustic",
   "metadata": {
    "papermill": {
     "duration": 0.025131,
     "end_time": "2021-02-07T13:22:09.272257",
     "exception": false,
     "start_time": "2021-02-07T13:22:09.247126",
     "status": "completed"
    },
    "tags": []
   },
   "outputs": [],
   "source": []
  }
 ],
 "metadata": {
  "kernelspec": {
   "display_name": "Python 3",
   "language": "python",
   "name": "python3"
  },
  "language_info": {
   "codemirror_mode": {
    "name": "ipython",
    "version": 3
   },
   "file_extension": ".py",
   "mimetype": "text/x-python",
   "name": "python",
   "nbconvert_exporter": "python",
   "pygments_lexer": "ipython3",
   "version": "3.6.12"
  },
  "papermill": {
   "duration": 20.228502,
   "end_time": "2021-02-07T13:22:09.906515",
   "environment_variables": {},
   "exception": null,
   "input_path": "latest.ipynb",
   "output_path": "latest.ipynb",
   "parameters": {},
   "start_time": "2021-02-07T13:21:49.678013",
   "version": "2.1.2"
  }
 },
 "nbformat": 4,
 "nbformat_minor": 5
}