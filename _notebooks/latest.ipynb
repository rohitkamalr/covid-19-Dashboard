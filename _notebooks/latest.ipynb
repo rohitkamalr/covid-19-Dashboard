{
 "cells": [
  {
   "cell_type": "markdown",
   "metadata": {
    "papermill": {
     "duration": 0.019221,
     "end_time": "2020-10-17T11:51:47.750700",
     "exception": false,
     "start_time": "2020-10-17T11:51:47.731479",
     "status": "completed"
    },
    "tags": []
   },
   "source": [
    "# Latest COVID-19 India Matplotlib Overview"
   ]
  },
  {
   "cell_type": "code",
   "execution_count": 1,
   "metadata": {
    "execution": {
     "iopub.execute_input": "2020-10-17T11:51:47.788140Z",
     "iopub.status.busy": "2020-10-17T11:51:47.787265Z",
     "iopub.status.idle": "2020-10-17T11:51:48.371477Z",
     "shell.execute_reply": "2020-10-17T11:51:48.370565Z"
    },
    "papermill": {
     "duration": 0.605317,
     "end_time": "2020-10-17T11:51:48.371768",
     "exception": false,
     "start_time": "2020-10-17T11:51:47.766451",
     "status": "completed"
    },
    "tags": []
   },
   "outputs": [],
   "source": [
    "#hide\n",
    "import pandas as pd\n",
    "import numpy as np\n",
    "import requests\n",
    "import json\n",
    "import matplotlib.pyplot as plt\n",
    "import matplotlib.dates as mdates\n",
    "import matplotlib as mpl\n",
    "from IPython.core.display import display,HTML\n",
    "%matplotlib inline\n",
    "from datetime import date"
   ]
  },
  {
   "cell_type": "code",
   "execution_count": 2,
   "metadata": {
    "execution": {
     "iopub.execute_input": "2020-10-17T11:51:48.413071Z",
     "iopub.status.busy": "2020-10-17T11:51:48.412152Z",
     "iopub.status.idle": "2020-10-17T11:51:48.559376Z",
     "shell.execute_reply": "2020-10-17T11:51:48.558509Z"
    },
    "papermill": {
     "duration": 0.171089,
     "end_time": "2020-10-17T11:51:48.559577",
     "exception": false,
     "start_time": "2020-10-17T11:51:48.388488",
     "status": "completed"
    },
    "tags": []
   },
   "outputs": [],
   "source": [
    "#hide\n",
    "df  = pd.read_csv('https://api.covid19india.org/csv/latest/states.csv')\n",
    "df = df[['Date','State','Confirmed','Deceased']]\n",
    "df = df.rename(columns={'Confirmed':'Cases', \"Deceased\":'Deaths'})\n",
    "df_cases = df[[\"Date\",'State','Cases']]\n",
    "df_deaths = df[['Date','State','Deaths']]\n",
    "df_cases1 = df_cases.groupby('Date')\n",
    "df_deaths1= df_deaths.groupby('Date')"
   ]
  },
  {
   "cell_type": "code",
   "execution_count": 3,
   "metadata": {
    "execution": {
     "iopub.execute_input": "2020-10-17T11:51:48.598820Z",
     "iopub.status.busy": "2020-10-17T11:51:48.598202Z",
     "iopub.status.idle": "2020-10-17T11:51:48.616343Z",
     "shell.execute_reply": "2020-10-17T11:51:48.615838Z"
    },
    "papermill": {
     "duration": 0.039332,
     "end_time": "2020-10-17T11:51:48.616477",
     "exception": false,
     "start_time": "2020-10-17T11:51:48.577145",
     "status": "completed"
    },
    "tags": []
   },
   "outputs": [],
   "source": [
    "#hide\n",
    "df_snap = pd.read_csv('data/SnapshotCases-28-July.csv')\n",
    "arr_states = df_snap['states'].unique()\n",
    "arr_dates = df['Date'].unique()\n",
    "df_snap = df_snap.set_index('states')"
   ]
  },
  {
   "cell_type": "code",
   "execution_count": 4,
   "metadata": {
    "execution": {
     "iopub.execute_input": "2020-10-17T11:51:48.657220Z",
     "iopub.status.busy": "2020-10-17T11:51:48.656638Z",
     "iopub.status.idle": "2020-10-17T11:51:48.660272Z",
     "shell.execute_reply": "2020-10-17T11:51:48.659760Z"
    },
    "papermill": {
     "duration": 0.028029,
     "end_time": "2020-10-17T11:51:48.660396",
     "exception": false,
     "start_time": "2020-10-17T11:51:48.632367",
     "status": "completed"
    },
    "tags": []
   },
   "outputs": [
    {
     "data": {
      "text/plain": [
       "array(['Andaman and Nicobar Islands', 'Andhra Pradesh',\n",
       "       'Arunachal Pradesh', 'Assam', 'Bihar', 'Chandigarh',\n",
       "       'Dadra and Nagar Haveli and Daman and Diu', 'Delhi', 'Goa',\n",
       "       'Gujarat', 'Haryana', 'Himachal Pradesh', 'Jammu and Kashmir',\n",
       "       'Jharkhand', 'Karnataka', 'Kerala', 'Lakshadweep',\n",
       "       'Madhya Pradesh', 'Maharashtra', 'Manipur', 'Meghalaya', 'Mizoram',\n",
       "       'Nagaland', 'Odisha', 'Puducherry', 'Punjab', 'Rajasthan',\n",
       "       'Sikkim', 'Tamil Nadu', 'Telangana', 'Tripura', 'Uttar Pradesh',\n",
       "       'West Bengal', 'Chhattisgarh', 'Ladakh', 'Uttarakhand'],\n",
       "      dtype=object)"
      ]
     },
     "execution_count": 4,
     "metadata": {},
     "output_type": "execute_result"
    }
   ],
   "source": [
    "#hide\n",
    "arr_states[-9] = 'Puducherry'\n",
    "arr_states[-10] = 'Odisha'\n",
    "arr_states[6] = 'Dadra and Nagar Haveli and Daman and Diu'\n",
    "arr_states = np.append(arr_states,np.array(['Chhattisgarh','Ladakh','Uttarakhand']))\n",
    "arr_states"
   ]
  },
  {
   "cell_type": "code",
   "execution_count": 5,
   "metadata": {
    "execution": {
     "iopub.execute_input": "2020-10-17T11:51:48.703258Z",
     "iopub.status.busy": "2020-10-17T11:51:48.699651Z",
     "iopub.status.idle": "2020-10-17T11:51:48.710874Z",
     "shell.execute_reply": "2020-10-17T11:51:48.710386Z"
    },
    "papermill": {
     "duration": 0.035202,
     "end_time": "2020-10-17T11:51:48.711007",
     "exception": false,
     "start_time": "2020-10-17T11:51:48.675805",
     "status": "completed"
    },
    "tags": []
   },
   "outputs": [],
   "source": [
    "#hide\n",
    "dates = []\n",
    "for i in arr_dates:\n",
    "    if i>='2020-07-01':\n",
    "        dates.append(i)\n",
    "dict = {'states':dates}\n",
    "for i in arr_states:\n",
    "    dict[i] = [0]*len(dates)\n",
    "dft_cases = pd.DataFrame(dict)\n",
    "dft_deaths = pd.DataFrame(dict)\n"
   ]
  },
  {
   "cell_type": "code",
   "execution_count": 6,
   "metadata": {
    "execution": {
     "iopub.execute_input": "2020-10-17T11:51:48.751046Z",
     "iopub.status.busy": "2020-10-17T11:51:48.750475Z",
     "iopub.status.idle": "2020-10-17T11:51:50.183510Z",
     "shell.execute_reply": "2020-10-17T11:51:50.184040Z"
    },
    "papermill": {
     "duration": 1.457466,
     "end_time": "2020-10-17T11:51:50.184211",
     "exception": false,
     "start_time": "2020-10-17T11:51:48.726745",
     "status": "completed"
    },
    "tags": []
   },
   "outputs": [],
   "source": [
    "#hide\n",
    "for i in range(len(dates)):\n",
    "    df1_deaths = df_deaths1.get_group(dates[i])\n",
    "    for j in range(len(df1_deaths.index)):\n",
    "        if df1_deaths.iloc[j,1] in arr_states:\n",
    "            dft_deaths.loc[i,df1_deaths.iloc[j,1]] = df1_deaths.iloc[j,2]\n",
    "dft_deaths = dft_deaths.set_index('states')"
   ]
  },
  {
   "cell_type": "code",
   "execution_count": 7,
   "metadata": {
    "execution": {
     "iopub.execute_input": "2020-10-17T11:51:50.223849Z",
     "iopub.status.busy": "2020-10-17T11:51:50.223170Z",
     "iopub.status.idle": "2020-10-17T11:51:51.671161Z",
     "shell.execute_reply": "2020-10-17T11:51:51.670001Z"
    },
    "papermill": {
     "duration": 1.471597,
     "end_time": "2020-10-17T11:51:51.671314",
     "exception": false,
     "start_time": "2020-10-17T11:51:50.199717",
     "status": "completed"
    },
    "tags": []
   },
   "outputs": [],
   "source": [
    "#hide\n",
    "for i in range(len(dates)):\n",
    "    df1_cases = df_cases1.get_group(dates[i])\n",
    "    for j in range(len(df1_cases.index)):\n",
    "        if df1_cases.iloc[j,1] in arr_states:\n",
    "            dft_cases.loc[i,df1_cases.iloc[j,1]] = df1_cases.iloc[j,2]\n",
    "dft_cases = dft_cases.set_index('states')"
   ]
  },
  {
   "cell_type": "code",
   "execution_count": 8,
   "metadata": {
    "execution": {
     "iopub.execute_input": "2020-10-17T11:51:51.708037Z",
     "iopub.status.busy": "2020-10-17T11:51:51.707408Z",
     "iopub.status.idle": "2020-10-17T11:51:51.709650Z",
     "shell.execute_reply": "2020-10-17T11:51:51.709151Z"
    },
    "papermill": {
     "duration": 0.022805,
     "end_time": "2020-10-17T11:51:51.709776",
     "exception": false,
     "start_time": "2020-10-17T11:51:51.686971",
     "status": "completed"
    },
    "tags": []
   },
   "outputs": [],
   "source": [
    "#hide\n",
    "dft_cases = dft_cases.T\n",
    "dft_deaths = dft_deaths.T\n",
    "dt_today = dates[-1]\n",
    "dt_yday = dates[-2]"
   ]
  },
  {
   "cell_type": "code",
   "execution_count": 9,
   "metadata": {
    "execution": {
     "iopub.execute_input": "2020-10-17T11:51:51.748460Z",
     "iopub.status.busy": "2020-10-17T11:51:51.747857Z",
     "iopub.status.idle": "2020-10-17T11:51:51.750495Z",
     "shell.execute_reply": "2020-10-17T11:51:51.749998Z"
    },
    "papermill": {
     "duration": 0.025472,
     "end_time": "2020-10-17T11:51:51.750620",
     "exception": false,
     "start_time": "2020-10-17T11:51:51.725148",
     "status": "completed"
    },
    "tags": []
   },
   "outputs": [],
   "source": [
    "#hide\n",
    "dft_cases = dft_cases.reset_index()\n",
    "dft_deaths = dft_deaths.reset_index()\n",
    "dft_cases = dft_cases.rename(columns = {'index':'state'})\n",
    "dft_deaths = dft_deaths.rename(columns = {'index':'state'})"
   ]
  },
  {
   "cell_type": "code",
   "execution_count": 10,
   "metadata": {
    "execution": {
     "iopub.execute_input": "2020-10-17T11:51:51.789673Z",
     "iopub.status.busy": "2020-10-17T11:51:51.789087Z",
     "iopub.status.idle": "2020-10-17T11:51:51.799405Z",
     "shell.execute_reply": "2020-10-17T11:51:51.798888Z"
    },
    "papermill": {
     "duration": 0.033509,
     "end_time": "2020-10-17T11:51:51.799532",
     "exception": false,
     "start_time": "2020-10-17T11:51:51.766023",
     "status": "completed"
    },
    "tags": []
   },
   "outputs": [],
   "source": [
    "#hide\n",
    "dfc_cases = dft_cases.groupby('state')[dt_today].sum()\n",
    "dfc_deaths = dft_deaths.groupby('state')[dt_today].sum()\n",
    "dfp_cases = dft_cases.groupby('state')[dt_yday].sum()\n",
    "dfp_deaths = dft_deaths.groupby('state')[dt_yday].sum()"
   ]
  },
  {
   "cell_type": "code",
   "execution_count": 11,
   "metadata": {
    "execution": {
     "iopub.execute_input": "2020-10-17T11:51:51.854513Z",
     "iopub.status.busy": "2020-10-17T11:51:51.853863Z",
     "iopub.status.idle": "2020-10-17T11:51:51.856077Z",
     "shell.execute_reply": "2020-10-17T11:51:51.856521Z"
    },
    "papermill": {
     "duration": 0.038837,
     "end_time": "2020-10-17T11:51:51.856663",
     "exception": false,
     "start_time": "2020-10-17T11:51:51.817826",
     "status": "completed"
    },
    "tags": []
   },
   "outputs": [
    {
     "data": {
      "text/html": [
       "<div>\n",
       "<style scoped>\n",
       "    .dataframe tbody tr th:only-of-type {\n",
       "        vertical-align: middle;\n",
       "    }\n",
       "\n",
       "    .dataframe tbody tr th {\n",
       "        vertical-align: top;\n",
       "    }\n",
       "\n",
       "    .dataframe thead th {\n",
       "        text-align: right;\n",
       "    }\n",
       "</style>\n",
       "<table border=\"1\" class=\"dataframe\">\n",
       "  <thead>\n",
       "    <tr style=\"text-align: right;\">\n",
       "      <th></th>\n",
       "      <th>states</th>\n",
       "      <th>Cases</th>\n",
       "      <th>Deaths</th>\n",
       "      <th>PCases</th>\n",
       "      <th>PDeaths</th>\n",
       "    </tr>\n",
       "  </thead>\n",
       "  <tbody>\n",
       "    <tr>\n",
       "      <th>0</th>\n",
       "      <td>Maharashtra</td>\n",
       "      <td>1576062</td>\n",
       "      <td>41502</td>\n",
       "      <td>1576062</td>\n",
       "      <td>41502</td>\n",
       "    </tr>\n",
       "    <tr>\n",
       "      <th>1</th>\n",
       "      <td>Andhra Pradesh</td>\n",
       "      <td>775470</td>\n",
       "      <td>6382</td>\n",
       "      <td>775470</td>\n",
       "      <td>6382</td>\n",
       "    </tr>\n",
       "    <tr>\n",
       "      <th>2</th>\n",
       "      <td>Karnataka</td>\n",
       "      <td>751390</td>\n",
       "      <td>10356</td>\n",
       "      <td>751390</td>\n",
       "      <td>10356</td>\n",
       "    </tr>\n",
       "    <tr>\n",
       "      <th>3</th>\n",
       "      <td>Tamil Nadu</td>\n",
       "      <td>679191</td>\n",
       "      <td>10532</td>\n",
       "      <td>679191</td>\n",
       "      <td>10532</td>\n",
       "    </tr>\n",
       "    <tr>\n",
       "      <th>4</th>\n",
       "      <td>Uttar Pradesh</td>\n",
       "      <td>449935</td>\n",
       "      <td>6589</td>\n",
       "      <td>449935</td>\n",
       "      <td>6589</td>\n",
       "    </tr>\n",
       "  </tbody>\n",
       "</table>\n",
       "</div>"
      ],
      "text/plain": [
       "           states    Cases  Deaths   PCases  PDeaths\n",
       "0     Maharashtra  1576062   41502  1576062    41502\n",
       "1  Andhra Pradesh   775470    6382   775470     6382\n",
       "2       Karnataka   751390   10356   751390    10356\n",
       "3      Tamil Nadu   679191   10532   679191    10532\n",
       "4   Uttar Pradesh   449935    6589   449935     6589"
      ]
     },
     "execution_count": 11,
     "metadata": {},
     "output_type": "execute_result"
    }
   ],
   "source": [
    "#hide\n",
    "df_table = pd.DataFrame({'states': dfc_cases.index, 'Cases': dfc_cases.values, 'Deaths': dfc_deaths.values, 'PCases': dfp_cases.values, 'PDeaths': dfp_deaths.values}).set_index('states')\n",
    "df_table = df_table.sort_values(by = ['Cases','Deaths'], ascending = [False, False])\n",
    "df_table = df_table.reset_index()\n",
    "df_table.head()"
   ]
  },
  {
   "cell_type": "code",
   "execution_count": 12,
   "metadata": {
    "execution": {
     "iopub.execute_input": "2020-10-17T11:51:51.938310Z",
     "iopub.status.busy": "2020-10-17T11:51:51.937665Z",
     "iopub.status.idle": "2020-10-17T11:51:51.946828Z",
     "shell.execute_reply": "2020-10-17T11:51:51.946212Z"
    },
    "papermill": {
     "duration": 0.063096,
     "end_time": "2020-10-17T11:51:51.947002",
     "exception": false,
     "start_time": "2020-10-17T11:51:51.883906",
     "status": "completed"
    },
    "tags": []
   },
   "outputs": [],
   "source": [
    "#hide\n",
    "for c in 'Cases, Deaths'.split(', '):\n",
    "    df_table[f'{c} (+)'] = (df_table[c] - df_table[f'P{c}']).clip(0)\n",
    "df_table['Fatality Rate'] = (100* df_table['Deaths']/ df_table['Cases']).round(2)"
   ]
  },
  {
   "cell_type": "code",
   "execution_count": 13,
   "metadata": {
    "execution": {
     "iopub.execute_input": "2020-10-17T11:51:51.992194Z",
     "iopub.status.busy": "2020-10-17T11:51:51.991550Z",
     "iopub.status.idle": "2020-10-17T11:51:51.994095Z",
     "shell.execute_reply": "2020-10-17T11:51:51.994576Z"
    },
    "papermill": {
     "duration": 0.031378,
     "end_time": "2020-10-17T11:51:51.994721",
     "exception": false,
     "start_time": "2020-10-17T11:51:51.963343",
     "status": "completed"
    },
    "tags": []
   },
   "outputs": [
    {
     "data": {
      "text/html": [
       "<div>\n",
       "<style scoped>\n",
       "    .dataframe tbody tr th:only-of-type {\n",
       "        vertical-align: middle;\n",
       "    }\n",
       "\n",
       "    .dataframe tbody tr th {\n",
       "        vertical-align: top;\n",
       "    }\n",
       "\n",
       "    .dataframe thead th {\n",
       "        text-align: right;\n",
       "    }\n",
       "</style>\n",
       "<table border=\"1\" class=\"dataframe\">\n",
       "  <thead>\n",
       "    <tr style=\"text-align: right;\">\n",
       "      <th></th>\n",
       "      <th>states</th>\n",
       "      <th>Cases</th>\n",
       "      <th>Deaths</th>\n",
       "      <th>PCases</th>\n",
       "      <th>PDeaths</th>\n",
       "      <th>Cases (+)</th>\n",
       "      <th>Deaths (+)</th>\n",
       "      <th>Fatality Rate</th>\n",
       "    </tr>\n",
       "  </thead>\n",
       "  <tbody>\n",
       "    <tr>\n",
       "      <th>0</th>\n",
       "      <td>Maharashtra</td>\n",
       "      <td>1576062</td>\n",
       "      <td>41502</td>\n",
       "      <td>1576062</td>\n",
       "      <td>41502</td>\n",
       "      <td>0</td>\n",
       "      <td>0</td>\n",
       "      <td>2.63</td>\n",
       "    </tr>\n",
       "    <tr>\n",
       "      <th>1</th>\n",
       "      <td>Andhra Pradesh</td>\n",
       "      <td>775470</td>\n",
       "      <td>6382</td>\n",
       "      <td>775470</td>\n",
       "      <td>6382</td>\n",
       "      <td>0</td>\n",
       "      <td>0</td>\n",
       "      <td>0.82</td>\n",
       "    </tr>\n",
       "    <tr>\n",
       "      <th>2</th>\n",
       "      <td>Karnataka</td>\n",
       "      <td>751390</td>\n",
       "      <td>10356</td>\n",
       "      <td>751390</td>\n",
       "      <td>10356</td>\n",
       "      <td>0</td>\n",
       "      <td>0</td>\n",
       "      <td>1.38</td>\n",
       "    </tr>\n",
       "    <tr>\n",
       "      <th>3</th>\n",
       "      <td>Tamil Nadu</td>\n",
       "      <td>679191</td>\n",
       "      <td>10532</td>\n",
       "      <td>679191</td>\n",
       "      <td>10532</td>\n",
       "      <td>0</td>\n",
       "      <td>0</td>\n",
       "      <td>1.55</td>\n",
       "    </tr>\n",
       "    <tr>\n",
       "      <th>4</th>\n",
       "      <td>Uttar Pradesh</td>\n",
       "      <td>449935</td>\n",
       "      <td>6589</td>\n",
       "      <td>449935</td>\n",
       "      <td>6589</td>\n",
       "      <td>0</td>\n",
       "      <td>0</td>\n",
       "      <td>1.46</td>\n",
       "    </tr>\n",
       "  </tbody>\n",
       "</table>\n",
       "</div>"
      ],
      "text/plain": [
       "           states    Cases  Deaths   PCases  PDeaths  Cases (+)  Deaths (+)  \\\n",
       "0     Maharashtra  1576062   41502  1576062    41502          0           0   \n",
       "1  Andhra Pradesh   775470    6382   775470     6382          0           0   \n",
       "2       Karnataka   751390   10356   751390    10356          0           0   \n",
       "3      Tamil Nadu   679191   10532   679191    10532          0           0   \n",
       "4   Uttar Pradesh   449935    6589   449935     6589          0           0   \n",
       "\n",
       "   Fatality Rate  \n",
       "0           2.63  \n",
       "1           0.82  \n",
       "2           1.38  \n",
       "3           1.55  \n",
       "4           1.46  "
      ]
     },
     "execution_count": 13,
     "metadata": {},
     "output_type": "execute_result"
    }
   ],
   "source": [
    "#hide\n",
    "df_table.head()"
   ]
  },
  {
   "cell_type": "code",
   "execution_count": 14,
   "metadata": {
    "execution": {
     "iopub.execute_input": "2020-10-17T11:51:52.037831Z",
     "iopub.status.busy": "2020-10-17T11:51:52.037237Z",
     "iopub.status.idle": "2020-10-17T11:51:52.053877Z",
     "shell.execute_reply": "2020-10-17T11:51:52.053396Z"
    },
    "papermill": {
     "duration": 0.043443,
     "end_time": "2020-10-17T11:51:52.054018",
     "exception": false,
     "start_time": "2020-10-17T11:51:52.010575",
     "status": "completed"
    },
    "tags": []
   },
   "outputs": [
    {
     "data": {
      "text/plain": [
       "{'updated': '2020-10-17',\n",
       " 'since': '2020-10-16',\n",
       " 'Cases': 7434630,\n",
       " 'PCases': 7430833,\n",
       " 'Deaths': 113062,\n",
       " 'PDeaths': 113033,\n",
       " 'Cases (+)': 3797,\n",
       " 'Deaths (+)': 29}"
      ]
     },
     "execution_count": 14,
     "metadata": {},
     "output_type": "execute_result"
    }
   ],
   "source": [
    "#hide\n",
    "summary = {'updated':dates[-1], 'since':dates[-2]}\n",
    "list_names = ['Cases', 'PCases', 'Deaths', 'PDeaths', 'Cases (+)', 'Deaths (+)']\n",
    "for name in list_names:\n",
    "    summary[name] = df_table.sum()[name]\n",
    "summary"
   ]
  },
  {
   "cell_type": "code",
   "execution_count": 15,
   "metadata": {
    "execution": {
     "iopub.execute_input": "2020-10-17T11:51:52.094037Z",
     "iopub.status.busy": "2020-10-17T11:51:52.093175Z",
     "iopub.status.idle": "2020-10-17T11:51:52.094930Z",
     "shell.execute_reply": "2020-10-17T11:51:52.095600Z"
    },
    "papermill": {
     "duration": 0.024959,
     "end_time": "2020-10-17T11:51:52.095829",
     "exception": false,
     "start_time": "2020-10-17T11:51:52.070870",
     "status": "completed"
    },
    "tags": []
   },
   "outputs": [],
   "source": [
    "#hide\n",
    "overview = '''\n",
    "<!-- #######  HTML!! #########-->\n",
    "<h1 style=\"color: #5e9ca0; text-align: center;\">India</h1>\n",
    "<p style=\"text-align: center;\">Last update: <strong>{update}</strong></p>\n",
    "<p style=\"text-align: center;\">Confirmed cases:</p>\n",
    "<p style=\"text-align: center;font-size:24px;\">{cases} (<span style=\"color: #ff0000;\">+{new}</span>)</p>\n",
    "<p style=\"text-align: center;\">Confirmed deaths:</p>\n",
    "<p style=\"text-align: center;font-size:24px;\">{deaths} (<span style=\"color: #ff0000;\">+{dnew}</span>)</p>\n",
    "'''"
   ]
  },
  {
   "cell_type": "code",
   "execution_count": 16,
   "metadata": {
    "execution": {
     "iopub.execute_input": "2020-10-17T11:51:52.138595Z",
     "iopub.status.busy": "2020-10-17T11:51:52.137546Z",
     "iopub.status.idle": "2020-10-17T11:51:52.140188Z",
     "shell.execute_reply": "2020-10-17T11:51:52.140667Z"
    },
    "papermill": {
     "duration": 0.02791,
     "end_time": "2020-10-17T11:51:52.140817",
     "exception": false,
     "start_time": "2020-10-17T11:51:52.112907",
     "status": "completed"
    },
    "tags": []
   },
   "outputs": [
    {
     "data": {
      "text/html": [
       "\n",
       "<!-- #######  HTML!! #########-->\n",
       "<h1 style=\"color: #5e9ca0; text-align: center;\">India</h1>\n",
       "<p style=\"text-align: center;\">Last update: <strong>2020-10-17</strong></p>\n",
       "<p style=\"text-align: center;\">Confirmed cases:</p>\n",
       "<p style=\"text-align: center;font-size:24px;\">7434630 (<span style=\"color: #ff0000;\">+3797</span>)</p>\n",
       "<p style=\"text-align: center;\">Confirmed deaths:</p>\n",
       "<p style=\"text-align: center;font-size:24px;\">113062 (<span style=\"color: #ff0000;\">+29</span>)</p>\n"
      ],
      "text/plain": [
       "<IPython.core.display.HTML object>"
      ]
     },
     "metadata": {},
     "output_type": "display_data"
    }
   ],
   "source": [
    "#hide_input\n",
    "update = summary['updated']\n",
    "cases = summary['Cases']\n",
    "new = summary['Cases (+)']\n",
    "deaths = summary['Deaths']\n",
    "dnew = summary['Deaths (+)']\n",
    "\n",
    "html = HTML(overview.format(update=update, cases=cases,new=new,deaths=deaths,dnew=dnew))\n",
    "\n",
    "display(html)"
   ]
  },
  {
   "cell_type": "code",
   "execution_count": 17,
   "metadata": {
    "execution": {
     "iopub.execute_input": "2020-10-17T11:51:52.183904Z",
     "iopub.status.busy": "2020-10-17T11:51:52.183258Z",
     "iopub.status.idle": "2020-10-17T11:51:52.188938Z",
     "shell.execute_reply": "2020-10-17T11:51:52.188450Z"
    },
    "papermill": {
     "duration": 0.03155,
     "end_time": "2020-10-17T11:51:52.189069",
     "exception": false,
     "start_time": "2020-10-17T11:51:52.157519",
     "status": "completed"
    },
    "tags": []
   },
   "outputs": [],
   "source": [
    "#hide\n",
    "dt_cols = list(dft_cases.columns[1:])\n",
    "dft_ct_new_cases = dft_cases.groupby('state')[dt_cols].sum().diff(axis=1).fillna(0).astype(int)\n",
    "dft_ct_new_cases.sort_values(by = dates[-1], ascending = False,inplace = True)"
   ]
  },
  {
   "cell_type": "code",
   "execution_count": 18,
   "metadata": {
    "execution": {
     "iopub.execute_input": "2020-10-17T11:51:52.244680Z",
     "iopub.status.busy": "2020-10-17T11:51:52.242510Z",
     "iopub.status.idle": "2020-10-17T11:51:52.253725Z",
     "shell.execute_reply": "2020-10-17T11:51:52.253210Z"
    },
    "papermill": {
     "duration": 0.047732,
     "end_time": "2020-10-17T11:51:52.253855",
     "exception": false,
     "start_time": "2020-10-17T11:51:52.206123",
     "status": "completed"
    },
    "tags": []
   },
   "outputs": [
    {
     "data": {
      "text/html": [
       "<div>\n",
       "<style scoped>\n",
       "    .dataframe tbody tr th:only-of-type {\n",
       "        vertical-align: middle;\n",
       "    }\n",
       "\n",
       "    .dataframe tbody tr th {\n",
       "        vertical-align: top;\n",
       "    }\n",
       "\n",
       "    .dataframe thead th {\n",
       "        text-align: right;\n",
       "    }\n",
       "</style>\n",
       "<table border=\"1\" class=\"dataframe\">\n",
       "  <thead>\n",
       "    <tr style=\"text-align: right;\">\n",
       "      <th>states</th>\n",
       "      <th>2020-07-01</th>\n",
       "      <th>2020-07-02</th>\n",
       "      <th>2020-07-03</th>\n",
       "      <th>2020-07-04</th>\n",
       "      <th>2020-07-05</th>\n",
       "      <th>2020-07-06</th>\n",
       "      <th>2020-07-07</th>\n",
       "      <th>2020-07-08</th>\n",
       "      <th>2020-07-09</th>\n",
       "      <th>2020-07-10</th>\n",
       "      <th>...</th>\n",
       "      <th>2020-10-08</th>\n",
       "      <th>2020-10-09</th>\n",
       "      <th>2020-10-10</th>\n",
       "      <th>2020-10-11</th>\n",
       "      <th>2020-10-12</th>\n",
       "      <th>2020-10-13</th>\n",
       "      <th>2020-10-14</th>\n",
       "      <th>2020-10-15</th>\n",
       "      <th>2020-10-16</th>\n",
       "      <th>2020-10-17</th>\n",
       "    </tr>\n",
       "    <tr>\n",
       "      <th>state</th>\n",
       "      <th></th>\n",
       "      <th></th>\n",
       "      <th></th>\n",
       "      <th></th>\n",
       "      <th></th>\n",
       "      <th></th>\n",
       "      <th></th>\n",
       "      <th></th>\n",
       "      <th></th>\n",
       "      <th></th>\n",
       "      <th></th>\n",
       "      <th></th>\n",
       "      <th></th>\n",
       "      <th></th>\n",
       "      <th></th>\n",
       "      <th></th>\n",
       "      <th></th>\n",
       "      <th></th>\n",
       "      <th></th>\n",
       "      <th></th>\n",
       "      <th></th>\n",
       "    </tr>\n",
       "  </thead>\n",
       "  <tbody>\n",
       "    <tr>\n",
       "      <th>Odisha</th>\n",
       "      <td>0</td>\n",
       "      <td>229</td>\n",
       "      <td>561</td>\n",
       "      <td>495</td>\n",
       "      <td>469</td>\n",
       "      <td>456</td>\n",
       "      <td>571</td>\n",
       "      <td>527</td>\n",
       "      <td>577</td>\n",
       "      <td>755</td>\n",
       "      <td>...</td>\n",
       "      <td>3144</td>\n",
       "      <td>2697</td>\n",
       "      <td>2854</td>\n",
       "      <td>2546</td>\n",
       "      <td>2423</td>\n",
       "      <td>2275</td>\n",
       "      <td>2604</td>\n",
       "      <td>2470</td>\n",
       "      <td>2138</td>\n",
       "      <td>2196</td>\n",
       "    </tr>\n",
       "    <tr>\n",
       "      <th>Telangana</th>\n",
       "      <td>0</td>\n",
       "      <td>1213</td>\n",
       "      <td>1892</td>\n",
       "      <td>1850</td>\n",
       "      <td>1590</td>\n",
       "      <td>1831</td>\n",
       "      <td>1879</td>\n",
       "      <td>1924</td>\n",
       "      <td>1410</td>\n",
       "      <td>1278</td>\n",
       "      <td>...</td>\n",
       "      <td>1896</td>\n",
       "      <td>1891</td>\n",
       "      <td>1811</td>\n",
       "      <td>1717</td>\n",
       "      <td>1021</td>\n",
       "      <td>1708</td>\n",
       "      <td>1446</td>\n",
       "      <td>1432</td>\n",
       "      <td>1554</td>\n",
       "      <td>1451</td>\n",
       "    </tr>\n",
       "    <tr>\n",
       "      <th>Tripura</th>\n",
       "      <td>0</td>\n",
       "      <td>39</td>\n",
       "      <td>93</td>\n",
       "      <td>25</td>\n",
       "      <td>23</td>\n",
       "      <td>111</td>\n",
       "      <td>24</td>\n",
       "      <td>57</td>\n",
       "      <td>16</td>\n",
       "      <td>142</td>\n",
       "      <td>...</td>\n",
       "      <td>214</td>\n",
       "      <td>223</td>\n",
       "      <td>171</td>\n",
       "      <td>199</td>\n",
       "      <td>109</td>\n",
       "      <td>217</td>\n",
       "      <td>181</td>\n",
       "      <td>172</td>\n",
       "      <td>162</td>\n",
       "      <td>134</td>\n",
       "    </tr>\n",
       "    <tr>\n",
       "      <th>Mizoram</th>\n",
       "      <td>0</td>\n",
       "      <td>2</td>\n",
       "      <td>0</td>\n",
       "      <td>2</td>\n",
       "      <td>22</td>\n",
       "      <td>11</td>\n",
       "      <td>1</td>\n",
       "      <td>5</td>\n",
       "      <td>0</td>\n",
       "      <td>23</td>\n",
       "      <td>...</td>\n",
       "      <td>2</td>\n",
       "      <td>7</td>\n",
       "      <td>5</td>\n",
       "      <td>13</td>\n",
       "      <td>9</td>\n",
       "      <td>18</td>\n",
       "      <td>10</td>\n",
       "      <td>8</td>\n",
       "      <td>9</td>\n",
       "      <td>16</td>\n",
       "    </tr>\n",
       "    <tr>\n",
       "      <th>Andaman and Nicobar Islands</th>\n",
       "      <td>0</td>\n",
       "      <td>9</td>\n",
       "      <td>7</td>\n",
       "      <td>3</td>\n",
       "      <td>6</td>\n",
       "      <td>16</td>\n",
       "      <td>6</td>\n",
       "      <td>2</td>\n",
       "      <td>7</td>\n",
       "      <td>0</td>\n",
       "      <td>...</td>\n",
       "      <td>17</td>\n",
       "      <td>24</td>\n",
       "      <td>16</td>\n",
       "      <td>13</td>\n",
       "      <td>18</td>\n",
       "      <td>13</td>\n",
       "      <td>10</td>\n",
       "      <td>16</td>\n",
       "      <td>10</td>\n",
       "      <td>0</td>\n",
       "    </tr>\n",
       "  </tbody>\n",
       "</table>\n",
       "<p>5 rows × 109 columns</p>\n",
       "</div>"
      ],
      "text/plain": [
       "states                       2020-07-01  2020-07-02  2020-07-03  2020-07-04  \\\n",
       "state                                                                         \n",
       "Odisha                                0         229         561         495   \n",
       "Telangana                             0        1213        1892        1850   \n",
       "Tripura                               0          39          93          25   \n",
       "Mizoram                               0           2           0           2   \n",
       "Andaman and Nicobar Islands           0           9           7           3   \n",
       "\n",
       "states                       2020-07-05  2020-07-06  2020-07-07  2020-07-08  \\\n",
       "state                                                                         \n",
       "Odisha                              469         456         571         527   \n",
       "Telangana                          1590        1831        1879        1924   \n",
       "Tripura                              23         111          24          57   \n",
       "Mizoram                              22          11           1           5   \n",
       "Andaman and Nicobar Islands           6          16           6           2   \n",
       "\n",
       "states                       2020-07-09  2020-07-10  ...  2020-10-08  \\\n",
       "state                                                ...               \n",
       "Odisha                              577         755  ...        3144   \n",
       "Telangana                          1410        1278  ...        1896   \n",
       "Tripura                              16         142  ...         214   \n",
       "Mizoram                               0          23  ...           2   \n",
       "Andaman and Nicobar Islands           7           0  ...          17   \n",
       "\n",
       "states                       2020-10-09  2020-10-10  2020-10-11  2020-10-12  \\\n",
       "state                                                                         \n",
       "Odisha                             2697        2854        2546        2423   \n",
       "Telangana                          1891        1811        1717        1021   \n",
       "Tripura                             223         171         199         109   \n",
       "Mizoram                               7           5          13           9   \n",
       "Andaman and Nicobar Islands          24          16          13          18   \n",
       "\n",
       "states                       2020-10-13  2020-10-14  2020-10-15  2020-10-16  \\\n",
       "state                                                                         \n",
       "Odisha                             2275        2604        2470        2138   \n",
       "Telangana                          1708        1446        1432        1554   \n",
       "Tripura                             217         181         172         162   \n",
       "Mizoram                              18          10           8           9   \n",
       "Andaman and Nicobar Islands          13          10          16          10   \n",
       "\n",
       "states                       2020-10-17  \n",
       "state                                    \n",
       "Odisha                             2196  \n",
       "Telangana                          1451  \n",
       "Tripura                             134  \n",
       "Mizoram                              16  \n",
       "Andaman and Nicobar Islands           0  \n",
       "\n",
       "[5 rows x 109 columns]"
      ]
     },
     "execution_count": 18,
     "metadata": {},
     "output_type": "execute_result"
    }
   ],
   "source": [
    "#hide\n",
    "dft_ct_new_cases.head()"
   ]
  },
  {
   "cell_type": "code",
   "execution_count": 19,
   "metadata": {
    "execution": {
     "iopub.execute_input": "2020-10-17T11:51:52.299841Z",
     "iopub.status.busy": "2020-10-17T11:51:52.299061Z",
     "iopub.status.idle": "2020-10-17T11:51:56.415029Z",
     "shell.execute_reply": "2020-10-17T11:51:56.415510Z"
    },
    "papermill": {
     "duration": 4.144027,
     "end_time": "2020-10-17T11:51:56.415673",
     "exception": false,
     "start_time": "2020-10-17T11:51:52.271646",
     "status": "completed"
    },
    "tags": []
   },
   "outputs": [
    {
     "data": {
      "image/png": "[encoded data removed]",
      "text/plain": [
       "<Figure size 1296x2016 with 11 Axes>"
      ]
     },
     "metadata": {
      "needs_background": "light"
     },
     "output_type": "display_data"
    }
   ],
   "source": [
    "#hide_input\n",
    "df = dft_ct_new_cases.copy()\n",
    "df.loc['Total'] = df.sum()\n",
    "n = 5\n",
    "ax = []\n",
    "fig = plt.figure(figsize = (18,28))\n",
    "gs = fig.add_gridspec(n+2, 5)\n",
    "# gs = fig.add_gridspec(2, 3)\n",
    "ax1 = fig.add_subplot(gs[0, :])\n",
    "ef = df.loc['Total'].rename_axis('date').reset_index()\n",
    "ef['date'] = ef['date'].astype('datetime64[ns]')\n",
    "ax1.bar(ef.date,ef.Total,alpha=0.3,color='#007acc')\n",
    "ax1.plot(ef.date,ef.Total , marker=\"o\", color='#007acc')\n",
    "ax1.xaxis.set_major_locator(mdates.WeekdayLocator())\n",
    "ax1.xaxis.set_major_formatter(mdates.DateFormatter('%b %d'))\n",
    "ax1.text(0.02, 0.5,'India daily case count', transform = ax1.transAxes, fontsize=25);\n",
    "ax1.spines['right'].set_visible(False)\n",
    "ax1.spines['top'].set_visible(False)\n",
    "\n",
    "ax2 = fig.add_subplot(gs[1,0])\n",
    "ef = df.loc['Maharashtra'].rename_axis('date').reset_index()\n",
    "ef['date'] = ef['date'].astype('datetime64[ns]')\n",
    "\n",
    "ax2.bar(ef.date, ef.Maharashtra,color = '#007acc',alpha=0.5)\n",
    "ax2.xaxis.set_major_locator(mdates.WeekdayLocator())\n",
    "ax2.xaxis.set_major_formatter(mdates.DateFormatter('%b %d'))\n",
    "ax2.set_xticks(ax2.get_xticks()[::3])\n",
    "maxyval = ef.Maharashtra.max()\n",
    "ax2.set_ylim([0,maxyval])\n",
    "ax2.text(0.05, 0.9,'Maharashtra', transform = ax2.transAxes, fontsize=20);\n",
    "ax2.spines['right'].set_visible(False)\n",
    "ax2.spines['top'].set_visible(False)\n",
    "\n",
    "\n",
    "ax3 = fig.add_subplot(gs[1,1])\n",
    "ef = df.loc['Tamil Nadu'].rename_axis('date').reset_index()\n",
    "ef['date'] = ef['date'].astype('datetime64[ns]')\n",
    "ax3.bar(ef.date, ef['Tamil Nadu'],color = '#007acc',alpha=0.5,)\n",
    "ax3.xaxis.set_major_locator(mdates.WeekdayLocator())\n",
    "ax3.xaxis.set_major_formatter(mdates.DateFormatter('%b %d'))\n",
    "ax3.set_xticks(ax3.get_xticks()[::3])\n",
    "ax3.text(0.05, 0.9,'Tamil Nadu', transform = ax3.transAxes, fontsize=20);\n",
    "ax3.spines['right'].set_visible(False)\n",
    "ax3.spines['top'].set_visible(False)\n",
    "\n",
    "ax5 = fig.add_subplot(gs[1,3])\n",
    "ef = df.loc['Telangana'].rename_axis('date').reset_index()\n",
    "ef['date'] = ef['date'].astype('datetime64[ns]')\n",
    "ax5.bar(ef.date, ef['Telangana'],color = '#007acc',alpha=0.5,)\n",
    "ax5.xaxis.set_major_locator(mdates.WeekdayLocator())\n",
    "ax5.xaxis.set_major_formatter(mdates.DateFormatter('%b %d'))\n",
    "ax5.set_xticks(ax5.get_xticks()[::3])\n",
    "ax5.text(0.05, 0.9,'Telangana', transform = ax5.transAxes, fontsize=20);\n",
    "ax5.spines['right'].set_visible(False)\n",
    "ax5.spines['top'].set_visible(False)\n",
    "\n",
    "ax6 = fig.add_subplot(gs[1,4])\n",
    "ef = df.loc['Andhra Pradesh'].rename_axis('date').reset_index()\n",
    "ef['date'] = ef['date'].astype('datetime64[ns]')\n",
    "ax6.bar(ef.date, ef['Andhra Pradesh'],color = '#007acc',alpha=0.5,)\n",
    "ax6.xaxis.set_major_locator(mdates.WeekdayLocator())\n",
    "ax6.xaxis.set_major_formatter(mdates.DateFormatter('%b %d'))\n",
    "ax6.set_xticks(ax6.get_xticks()[::3])\n",
    "ax6.text(0.05, 1,'Andhra Pradesh', transform = ax6.transAxes, fontsize=20);\n",
    "ax6.spines['right'].set_visible(False)\n",
    "ax6.spines['top'].set_visible(False)\n",
    "\n",
    "ax4 = fig.add_subplot(gs[1,2])\n",
    "ef = df.loc['Delhi'].rename_axis('date').reset_index()\n",
    "ef['date'] = ef['date'].astype('datetime64[ns]')\n",
    "ax4.bar(ef.date, ef.Delhi,color = '#007acc',alpha=0.5)\n",
    "ax4.set_xticks([])\n",
    "ax4.xaxis.set_major_locator(mdates.WeekdayLocator())\n",
    "ax4.xaxis.set_major_formatter(mdates.DateFormatter('%b %d'))\n",
    "ax4.set_xticks(ax4.get_xticks()[::3])\n",
    "ax4.spines['right'].set_visible(False)\n",
    "ax4.spines['top'].set_visible(False)\n",
    "\n",
    "ax4.text(0.05, 1,'Delhi', transform = ax4.transAxes, fontsize=20)\n",
    "\n",
    "for i in range(n):\n",
    "    \n",
    "    ax.append(fig.add_subplot(gs[i+2,:]))\n",
    "    ef = df.iloc[i+3].rename_axis('date').reset_index()\n",
    "    ef['date'] = ef['date'].astype('datetime64[ns]')\n",
    "    ax[i].bar(ef.date,ef.iloc[:,-1],color = '#007acc',alpha=0.3)\n",
    "    ax[i].plot(ef.date,ef.iloc[:,-1],marker='o',color='#007acc')\n",
    "    ax[i].text(0.02,0.5,f'{ef.columns.values[-1]}',transform = ax[i].transAxes, fontsize = 20);\n",
    "    ax[i].xaxis.set_major_locator(mdates.WeekdayLocator())\n",
    "    ax[i].xaxis.set_major_formatter(mdates.DateFormatter('%b %d'))\n",
    "    ax[i].set_ylim([0,7000])\n",
    "    ax[i].spines['right'].set_visible(False)\n",
    "    ax[i].spines['top'].set_visible(False)\n",
    "plt.tight_layout()\n"
   ]
  },
  {
   "cell_type": "code",
   "execution_count": 20,
   "metadata": {
    "execution": {
     "iopub.execute_input": "2020-10-17T11:51:56.469112Z",
     "iopub.status.busy": "2020-10-17T11:51:56.468500Z",
     "iopub.status.idle": "2020-10-17T11:51:56.470717Z",
     "shell.execute_reply": "2020-10-17T11:51:56.471245Z"
    },
    "papermill": {
     "duration": 0.033452,
     "end_time": "2020-10-17T11:51:56.471384",
     "exception": false,
     "start_time": "2020-10-17T11:51:56.437932",
     "status": "completed"
    },
    "tags": []
   },
   "outputs": [
    {
     "name": "stdout",
     "output_type": "stream",
     "text": [
      "                                   states    Cases  Deaths   PCases  PDeaths  Cases (+)  Deaths (+)  Fatality Rate\n",
      "                              Maharashtra  1576062   41502  1576062    41502          0           0           2.63\n",
      "                           Andhra Pradesh   775470    6382   775470     6382          0           0           0.82\n",
      "                                Karnataka   751390   10356   751390    10356          0           0           1.38\n",
      "                               Tamil Nadu   679191   10532   679191    10532          0           0           1.55\n",
      "                            Uttar Pradesh   449935    6589   449935     6589          0           0           1.46\n",
      "                                   Kerala   325213    1114   325213     1114          0           0           0.34\n",
      "                                    Delhi   324459    5946   324459     5946          0           0           1.83\n",
      "                              West Bengal   313188    5931   313188     5931          0           0           1.89\n",
      "                                   Odisha   266345    1174   264149     1157       2196          17           0.44\n",
      "                                Telangana   220675    1265   219224     1256       1451           9           0.57\n",
      "                                    Bihar   201887     981   201887      981          0           0           0.49\n",
      "                                    Assam   199749     853   199749      853          0           0           0.43\n",
      "                                Rajasthan   169289    1723   169289     1723          0           0           1.02\n",
      "                           Madhya Pradesh   157936    2735   157936     2735          0           0           1.73\n",
      "                                  Gujarat   157474    3620   157474     3620          0           0           2.30\n",
      "                             Chhattisgarh   155987    1425   155987     1425          0           0           0.91\n",
      "                                  Haryana   147933    1634   147933     1634          0           0           1.10\n",
      "                                   Punjab   126737    3980   126737     3980          0           0           3.14\n",
      "                                Jharkhand    95425     824    95425      824          0           0           0.86\n",
      "                        Jammu and Kashmir    86754    1366    86754     1366          0           0           1.57\n",
      "                              Uttarakhand    57042     829    57042      829          0           0           1.45\n",
      "                                      Goa    40091     531    40091      531          0           0           1.32\n",
      "                               Puducherry    32766     571    32766      571          0           0           1.74\n",
      "                                  Tripura    29324     323    29190      320        134           3           1.10\n",
      "                         Himachal Pradesh    18522     257    18522      257          0           0           1.39\n",
      "                                  Manipur    14715     109    14715      109          0           0           0.74\n",
      "                               Chandigarh    13532     206    13532      206          0           0           1.52\n",
      "                        Arunachal Pradesh    13169      30    13169       30          0           0           0.23\n",
      "                                Meghalaya     8303      75     8303       75          0           0           0.90\n",
      "                                 Nagaland     7604      17     7604       17          0           0           0.22\n",
      "                                   Ladakh     5441      65     5441       65          0           0           1.19\n",
      "              Andaman and Nicobar Islands     4072      56     4072       56          0           0           1.38\n",
      "                                   Sikkim     3531      59     3531       59          0           0           1.67\n",
      " Dadra and Nagar Haveli and Daman and Diu     3174       2     3174        2          0           0           0.06\n",
      "                                  Mizoram     2245       0     2229        0         16           0           0.00\n",
      "                              Lakshadweep        0       0        0        0          0           0            NaN\n"
     ]
    }
   ],
   "source": [
    "#hide_input\n",
    "print(df_table.to_string(index=False))"
   ]
  },
  {
   "cell_type": "code",
   "execution_count": null,
   "metadata": {
    "papermill": {
     "duration": 0.022108,
     "end_time": "2020-10-17T11:51:56.515535",
     "exception": false,
     "start_time": "2020-10-17T11:51:56.493427",
     "status": "completed"
    },
    "tags": []
   },
   "outputs": [],
   "source": []
  },
  {
   "cell_type": "code",
   "execution_count": null,
   "metadata": {
    "papermill": {
     "duration": 0.0224,
     "end_time": "2020-10-17T11:51:56.560584",
     "exception": false,
     "start_time": "2020-10-17T11:51:56.538184",
     "status": "completed"
    },
    "tags": []
   },
   "outputs": [],
   "source": []
  }
 ],
 "metadata": {
  "kernelspec": {
   "display_name": "Python 3",
   "language": "python",
   "name": "python3"
  },
  "language_info": {
   "codemirror_mode": {
    "name": "ipython",
    "version": 3
   },
   "file_extension": ".py",
   "mimetype": "text/x-python",
   "name": "python",
   "nbconvert_exporter": "python",
   "pygments_lexer": "ipython3",
   "version": "3.6.12"
  },
  "papermill": {
   "duration": 11.341476,
   "end_time": "2020-10-17T11:51:57.983129",
   "environment_variables": {},
   "exception": null,
   "input_path": "latest.ipynb",
   "output_path": "latest.ipynb",
   "parameters": {},
   "start_time": "2020-10-17T11:51:46.641653",
   "version": "2.1.2"
  }
 },
 "nbformat": 4,
 "nbformat_minor": 4
}