{
 "cells": [
  {
   "cell_type": "markdown",
   "metadata": {
    "papermill": {
     "duration": 0.021119,
     "end_time": "2020-09-07T04:52:57.632731",
     "exception": false,
     "start_time": "2020-09-07T04:52:57.611612",
     "status": "completed"
    },
    "tags": []
   },
   "source": [
    "# Latest COVID-19 India Matplotlib Overview"
   ]
  },
  {
   "cell_type": "code",
   "execution_count": 1,
   "metadata": {
    "execution": {
     "iopub.execute_input": "2020-09-07T04:52:57.670351Z",
     "iopub.status.busy": "2020-09-07T04:52:57.669738Z",
     "iopub.status.idle": "2020-09-07T04:52:58.229455Z",
     "shell.execute_reply": "2020-09-07T04:52:58.228900Z"
    },
    "papermill": {
     "duration": 0.580528,
     "end_time": "2020-09-07T04:52:58.229617",
     "exception": false,
     "start_time": "2020-09-07T04:52:57.649089",
     "status": "completed"
    },
    "tags": []
   },
   "outputs": [],
   "source": [
    "#hide\n",
    "import pandas as pd\n",
    "import numpy as np\n",
    "import requests\n",
    "import json\n",
    "import matplotlib.pyplot as plt\n",
    "import matplotlib.dates as mdates\n",
    "import matplotlib as mpl\n",
    "from IPython.core.display import display,HTML\n",
    "%matplotlib inline\n",
    "from datetime import date"
   ]
  },
  {
   "cell_type": "code",
   "execution_count": 2,
   "metadata": {
    "execution": {
     "iopub.execute_input": "2020-09-07T04:52:58.265618Z",
     "iopub.status.busy": "2020-09-07T04:52:58.264699Z",
     "iopub.status.idle": "2020-09-07T04:52:58.382233Z",
     "shell.execute_reply": "2020-09-07T04:52:58.381722Z"
    },
    "papermill": {
     "duration": 0.137732,
     "end_time": "2020-09-07T04:52:58.382371",
     "exception": false,
     "start_time": "2020-09-07T04:52:58.244639",
     "status": "completed"
    },
    "tags": []
   },
   "outputs": [],
   "source": [
    "#hide\n",
    "df  = pd.read_csv('https://api.covid19india.org/csv/latest/states.csv')\n",
    "df = df[['Date','State','Confirmed','Deceased']]\n",
    "df = df.rename(columns={'Confirmed':'Cases', \"Deceased\":'Deaths'})\n",
    "df_cases = df[[\"Date\",'State','Cases']]\n",
    "df_deaths = df[['Date','State','Deaths']]\n",
    "df_cases1 = df_cases.groupby('Date')\n",
    "df_deaths1= df_deaths.groupby('Date')"
   ]
  },
  {
   "cell_type": "code",
   "execution_count": 3,
   "metadata": {
    "execution": {
     "iopub.execute_input": "2020-09-07T04:52:58.419104Z",
     "iopub.status.busy": "2020-09-07T04:52:58.418433Z",
     "iopub.status.idle": "2020-09-07T04:52:58.436916Z",
     "shell.execute_reply": "2020-09-07T04:52:58.436334Z"
    },
    "papermill": {
     "duration": 0.038613,
     "end_time": "2020-09-07T04:52:58.437036",
     "exception": false,
     "start_time": "2020-09-07T04:52:58.398423",
     "status": "completed"
    },
    "tags": []
   },
   "outputs": [],
   "source": [
    "#hide\n",
    "df_snap = pd.read_csv('data/SnapshotCases-28-July.csv')\n",
    "arr_states = df_snap['states'].unique()\n",
    "arr_dates = df['Date'].unique()\n",
    "df_snap = df_snap.set_index('states')"
   ]
  },
  {
   "cell_type": "code",
   "execution_count": 4,
   "metadata": {
    "execution": {
     "iopub.execute_input": "2020-09-07T04:52:58.478529Z",
     "iopub.status.busy": "2020-09-07T04:52:58.477906Z",
     "iopub.status.idle": "2020-09-07T04:52:58.481314Z",
     "shell.execute_reply": "2020-09-07T04:52:58.480740Z"
    },
    "papermill": {
     "duration": 0.024943,
     "end_time": "2020-09-07T04:52:58.481438",
     "exception": false,
     "start_time": "2020-09-07T04:52:58.456495",
     "status": "completed"
    },
    "tags": []
   },
   "outputs": [
    {
     "data": {
      "text/plain": [
       "array(['Andaman and Nicobar Islands', 'Andhra Pradesh',\n",
       "       'Arunachal Pradesh', 'Assam', 'Bihar', 'Chandigarh',\n",
       "       'Dadra and Nagar Haveli and Daman and Diu', 'Delhi', 'Goa',\n",
       "       'Gujarat', 'Haryana', 'Himachal Pradesh', 'Jammu and Kashmir',\n",
       "       'Jharkhand', 'Karnataka', 'Kerala', 'Lakshadweep',\n",
       "       'Madhya Pradesh', 'Maharashtra', 'Manipur', 'Meghalaya', 'Mizoram',\n",
       "       'Nagaland', 'Odisha', 'Puducherry', 'Punjab', 'Rajasthan',\n",
       "       'Sikkim', 'Tamil Nadu', 'Telangana', 'Tripura', 'Uttar Pradesh',\n",
       "       'West Bengal', 'Chhattisgarh', 'Ladakh', 'Uttarakhand'],\n",
       "      dtype=object)"
      ]
     },
     "execution_count": 4,
     "metadata": {},
     "output_type": "execute_result"
    }
   ],
   "source": [
    "#hide\n",
    "arr_states[-9] = 'Puducherry'\n",
    "arr_states[-10] = 'Odisha'\n",
    "arr_states[6] = 'Dadra and Nagar Haveli and Daman and Diu'\n",
    "arr_states = np.append(arr_states,np.array(['Chhattisgarh','Ladakh','Uttarakhand']))\n",
    "arr_states"
   ]
  },
  {
   "cell_type": "code",
   "execution_count": 5,
   "metadata": {
    "execution": {
     "iopub.execute_input": "2020-09-07T04:52:58.538041Z",
     "iopub.status.busy": "2020-09-07T04:52:58.537384Z",
     "iopub.status.idle": "2020-09-07T04:52:58.546405Z",
     "shell.execute_reply": "2020-09-07T04:52:58.545841Z"
    },
    "papermill": {
     "duration": 0.040537,
     "end_time": "2020-09-07T04:52:58.546537",
     "exception": false,
     "start_time": "2020-09-07T04:52:58.506000",
     "status": "completed"
    },
    "tags": []
   },
   "outputs": [],
   "source": [
    "#hide\n",
    "dates = []\n",
    "for i in arr_dates:\n",
    "    if i>='2020-07-01':\n",
    "        dates.append(i)\n",
    "dict = {'states':dates}\n",
    "for i in arr_states:\n",
    "    dict[i] = [0]*len(dates)\n",
    "dft_cases = pd.DataFrame(dict)\n",
    "dft_deaths = pd.DataFrame(dict)\n"
   ]
  },
  {
   "cell_type": "code",
   "execution_count": 6,
   "metadata": {
    "execution": {
     "iopub.execute_input": "2020-09-07T04:52:58.587211Z",
     "iopub.status.busy": "2020-09-07T04:52:58.586576Z",
     "iopub.status.idle": "2020-09-07T04:52:59.721329Z",
     "shell.execute_reply": "2020-09-07T04:52:59.720811Z"
    },
    "papermill": {
     "duration": 1.157468,
     "end_time": "2020-09-07T04:52:59.721471",
     "exception": false,
     "start_time": "2020-09-07T04:52:58.564003",
     "status": "completed"
    },
    "tags": []
   },
   "outputs": [],
   "source": [
    "#hide\n",
    "for i in range(len(dates)):\n",
    "    df1_deaths = df_deaths1.get_group(dates[i])\n",
    "    for j in range(len(df1_deaths.index)):\n",
    "        if df1_deaths.iloc[j,1] in arr_states:\n",
    "            dft_deaths.loc[i,df1_deaths.iloc[j,1]] = df1_deaths.iloc[j,2]\n",
    "dft_deaths = dft_deaths.set_index('states')"
   ]
  },
  {
   "cell_type": "code",
   "execution_count": 7,
   "metadata": {
    "execution": {
     "iopub.execute_input": "2020-09-07T04:52:59.758338Z",
     "iopub.status.busy": "2020-09-07T04:52:59.757754Z",
     "iopub.status.idle": "2020-09-07T04:53:00.890026Z",
     "shell.execute_reply": "2020-09-07T04:53:00.890525Z"
    },
    "papermill": {
     "duration": 1.152858,
     "end_time": "2020-09-07T04:53:00.890696",
     "exception": false,
     "start_time": "2020-09-07T04:52:59.737838",
     "status": "completed"
    },
    "tags": []
   },
   "outputs": [],
   "source": [
    "#hide\n",
    "for i in range(len(dates)):\n",
    "    df1_cases = df_cases1.get_group(dates[i])\n",
    "    for j in range(len(df1_cases.index)):\n",
    "        if df1_cases.iloc[j,1] in arr_states:\n",
    "            dft_cases.loc[i,df1_cases.iloc[j,1]] = df1_cases.iloc[j,2]\n",
    "dft_cases = dft_cases.set_index('states')"
   ]
  },
  {
   "cell_type": "code",
   "execution_count": 8,
   "metadata": {
    "execution": {
     "iopub.execute_input": "2020-09-07T04:53:00.928452Z",
     "iopub.status.busy": "2020-09-07T04:53:00.927287Z",
     "iopub.status.idle": "2020-09-07T04:53:00.934880Z",
     "shell.execute_reply": "2020-09-07T04:53:00.936983Z"
    },
    "papermill": {
     "duration": 0.030523,
     "end_time": "2020-09-07T04:53:00.937170",
     "exception": false,
     "start_time": "2020-09-07T04:53:00.906647",
     "status": "completed"
    },
    "tags": []
   },
   "outputs": [],
   "source": [
    "#hide\n",
    "dft_cases = dft_cases.T\n",
    "dft_deaths = dft_deaths.T\n",
    "dt_today = dates[-1]\n",
    "dt_yday = dates[-2]"
   ]
  },
  {
   "cell_type": "code",
   "execution_count": 9,
   "metadata": {
    "execution": {
     "iopub.execute_input": "2020-09-07T04:53:00.980146Z",
     "iopub.status.busy": "2020-09-07T04:53:00.978865Z",
     "iopub.status.idle": "2020-09-07T04:53:00.980816Z",
     "shell.execute_reply": "2020-09-07T04:53:00.981296Z"
    },
    "papermill": {
     "duration": 0.02772,
     "end_time": "2020-09-07T04:53:00.981420",
     "exception": false,
     "start_time": "2020-09-07T04:53:00.953700",
     "status": "completed"
    },
    "tags": []
   },
   "outputs": [],
   "source": [
    "#hide\n",
    "dft_cases = dft_cases.reset_index()\n",
    "dft_deaths = dft_deaths.reset_index()\n",
    "dft_cases = dft_cases.rename(columns = {'index':'state'})\n",
    "dft_deaths = dft_deaths.rename(columns = {'index':'state'})"
   ]
  },
  {
   "cell_type": "code",
   "execution_count": 10,
   "metadata": {
    "execution": {
     "iopub.execute_input": "2020-09-07T04:53:01.023641Z",
     "iopub.status.busy": "2020-09-07T04:53:01.023055Z",
     "iopub.status.idle": "2020-09-07T04:53:01.026539Z",
     "shell.execute_reply": "2020-09-07T04:53:01.026993Z"
    },
    "papermill": {
     "duration": 0.030763,
     "end_time": "2020-09-07T04:53:01.027124",
     "exception": false,
     "start_time": "2020-09-07T04:53:00.996361",
     "status": "completed"
    },
    "tags": []
   },
   "outputs": [],
   "source": [
    "#hide\n",
    "dfc_cases = dft_cases.groupby('state')[dt_today].sum()\n",
    "dfc_deaths = dft_deaths.groupby('state')[dt_today].sum()\n",
    "dfp_cases = dft_cases.groupby('state')[dt_yday].sum()\n",
    "dfp_deaths = dft_deaths.groupby('state')[dt_yday].sum()"
   ]
  },
  {
   "cell_type": "code",
   "execution_count": 11,
   "metadata": {
    "execution": {
     "iopub.execute_input": "2020-09-07T04:53:01.075221Z",
     "iopub.status.busy": "2020-09-07T04:53:01.071086Z",
     "iopub.status.idle": "2020-09-07T04:53:01.078024Z",
     "shell.execute_reply": "2020-09-07T04:53:01.077496Z"
    },
    "papermill": {
     "duration": 0.036224,
     "end_time": "2020-09-07T04:53:01.078146",
     "exception": false,
     "start_time": "2020-09-07T04:53:01.041922",
     "status": "completed"
    },
    "tags": []
   },
   "outputs": [
    {
     "data": {
      "text/html": [
       "<div>\n",
       "<style scoped>\n",
       "    .dataframe tbody tr th:only-of-type {\n",
       "        vertical-align: middle;\n",
       "    }\n",
       "\n",
       "    .dataframe tbody tr th {\n",
       "        vertical-align: top;\n",
       "    }\n",
       "\n",
       "    .dataframe thead th {\n",
       "        text-align: right;\n",
       "    }\n",
       "</style>\n",
       "<table border=\"1\" class=\"dataframe\">\n",
       "  <thead>\n",
       "    <tr style=\"text-align: right;\">\n",
       "      <th></th>\n",
       "      <th>states</th>\n",
       "      <th>Cases</th>\n",
       "      <th>Deaths</th>\n",
       "      <th>PCases</th>\n",
       "      <th>PDeaths</th>\n",
       "    </tr>\n",
       "  </thead>\n",
       "  <tbody>\n",
       "    <tr>\n",
       "      <th>0</th>\n",
       "      <td>Maharashtra</td>\n",
       "      <td>907212</td>\n",
       "      <td>26604</td>\n",
       "      <td>907212</td>\n",
       "      <td>26604</td>\n",
       "    </tr>\n",
       "    <tr>\n",
       "      <th>1</th>\n",
       "      <td>Andhra Pradesh</td>\n",
       "      <td>498125</td>\n",
       "      <td>4417</td>\n",
       "      <td>498125</td>\n",
       "      <td>4417</td>\n",
       "    </tr>\n",
       "    <tr>\n",
       "      <th>2</th>\n",
       "      <td>Tamil Nadu</td>\n",
       "      <td>463480</td>\n",
       "      <td>7839</td>\n",
       "      <td>463480</td>\n",
       "      <td>7839</td>\n",
       "    </tr>\n",
       "    <tr>\n",
       "      <th>3</th>\n",
       "      <td>Karnataka</td>\n",
       "      <td>398551</td>\n",
       "      <td>6393</td>\n",
       "      <td>398551</td>\n",
       "      <td>6393</td>\n",
       "    </tr>\n",
       "    <tr>\n",
       "      <th>4</th>\n",
       "      <td>Uttar Pradesh</td>\n",
       "      <td>266283</td>\n",
       "      <td>3920</td>\n",
       "      <td>266283</td>\n",
       "      <td>3920</td>\n",
       "    </tr>\n",
       "  </tbody>\n",
       "</table>\n",
       "</div>"
      ],
      "text/plain": [
       "           states   Cases  Deaths  PCases  PDeaths\n",
       "0     Maharashtra  907212   26604  907212    26604\n",
       "1  Andhra Pradesh  498125    4417  498125     4417\n",
       "2      Tamil Nadu  463480    7839  463480     7839\n",
       "3       Karnataka  398551    6393  398551     6393\n",
       "4   Uttar Pradesh  266283    3920  266283     3920"
      ]
     },
     "execution_count": 11,
     "metadata": {},
     "output_type": "execute_result"
    }
   ],
   "source": [
    "#hide\n",
    "df_table = pd.DataFrame({'states': dfc_cases.index, 'Cases': dfc_cases.values, 'Deaths': dfc_deaths.values, 'PCases': dfp_cases.values, 'PDeaths': dfp_deaths.values}).set_index('states')\n",
    "df_table = df_table.sort_values(by = ['Cases','Deaths'], ascending = [False, False])\n",
    "df_table = df_table.reset_index()\n",
    "df_table.head()"
   ]
  },
  {
   "cell_type": "code",
   "execution_count": 12,
   "metadata": {
    "execution": {
     "iopub.execute_input": "2020-09-07T04:53:01.114373Z",
     "iopub.status.busy": "2020-09-07T04:53:01.113729Z",
     "iopub.status.idle": "2020-09-07T04:53:01.122439Z",
     "shell.execute_reply": "2020-09-07T04:53:01.121969Z"
    },
    "papermill": {
     "duration": 0.028415,
     "end_time": "2020-09-07T04:53:01.122554",
     "exception": false,
     "start_time": "2020-09-07T04:53:01.094139",
     "status": "completed"
    },
    "tags": []
   },
   "outputs": [],
   "source": [
    "#hide\n",
    "for c in 'Cases, Deaths'.split(', '):\n",
    "    df_table[f'{c} (+)'] = (df_table[c] - df_table[f'P{c}']).clip(0)\n",
    "df_table['Fatality Rate'] = (100* df_table['Deaths']/ df_table['Cases']).round(2)"
   ]
  },
  {
   "cell_type": "code",
   "execution_count": 13,
   "metadata": {
    "execution": {
     "iopub.execute_input": "2020-09-07T04:53:01.164897Z",
     "iopub.status.busy": "2020-09-07T04:53:01.164247Z",
     "iopub.status.idle": "2020-09-07T04:53:01.167447Z",
     "shell.execute_reply": "2020-09-07T04:53:01.166831Z"
    },
    "papermill": {
     "duration": 0.029485,
     "end_time": "2020-09-07T04:53:01.167568",
     "exception": false,
     "start_time": "2020-09-07T04:53:01.138083",
     "status": "completed"
    },
    "tags": []
   },
   "outputs": [
    {
     "data": {
      "text/html": [
       "<div>\n",
       "<style scoped>\n",
       "    .dataframe tbody tr th:only-of-type {\n",
       "        vertical-align: middle;\n",
       "    }\n",
       "\n",
       "    .dataframe tbody tr th {\n",
       "        vertical-align: top;\n",
       "    }\n",
       "\n",
       "    .dataframe thead th {\n",
       "        text-align: right;\n",
       "    }\n",
       "</style>\n",
       "<table border=\"1\" class=\"dataframe\">\n",
       "  <thead>\n",
       "    <tr style=\"text-align: right;\">\n",
       "      <th></th>\n",
       "      <th>states</th>\n",
       "      <th>Cases</th>\n",
       "      <th>Deaths</th>\n",
       "      <th>PCases</th>\n",
       "      <th>PDeaths</th>\n",
       "      <th>Cases (+)</th>\n",
       "      <th>Deaths (+)</th>\n",
       "      <th>Fatality Rate</th>\n",
       "    </tr>\n",
       "  </thead>\n",
       "  <tbody>\n",
       "    <tr>\n",
       "      <th>0</th>\n",
       "      <td>Maharashtra</td>\n",
       "      <td>907212</td>\n",
       "      <td>26604</td>\n",
       "      <td>907212</td>\n",
       "      <td>26604</td>\n",
       "      <td>0</td>\n",
       "      <td>0</td>\n",
       "      <td>2.93</td>\n",
       "    </tr>\n",
       "    <tr>\n",
       "      <th>1</th>\n",
       "      <td>Andhra Pradesh</td>\n",
       "      <td>498125</td>\n",
       "      <td>4417</td>\n",
       "      <td>498125</td>\n",
       "      <td>4417</td>\n",
       "      <td>0</td>\n",
       "      <td>0</td>\n",
       "      <td>0.89</td>\n",
       "    </tr>\n",
       "    <tr>\n",
       "      <th>2</th>\n",
       "      <td>Tamil Nadu</td>\n",
       "      <td>463480</td>\n",
       "      <td>7839</td>\n",
       "      <td>463480</td>\n",
       "      <td>7839</td>\n",
       "      <td>0</td>\n",
       "      <td>0</td>\n",
       "      <td>1.69</td>\n",
       "    </tr>\n",
       "    <tr>\n",
       "      <th>3</th>\n",
       "      <td>Karnataka</td>\n",
       "      <td>398551</td>\n",
       "      <td>6393</td>\n",
       "      <td>398551</td>\n",
       "      <td>6393</td>\n",
       "      <td>0</td>\n",
       "      <td>0</td>\n",
       "      <td>1.60</td>\n",
       "    </tr>\n",
       "    <tr>\n",
       "      <th>4</th>\n",
       "      <td>Uttar Pradesh</td>\n",
       "      <td>266283</td>\n",
       "      <td>3920</td>\n",
       "      <td>266283</td>\n",
       "      <td>3920</td>\n",
       "      <td>0</td>\n",
       "      <td>0</td>\n",
       "      <td>1.47</td>\n",
       "    </tr>\n",
       "  </tbody>\n",
       "</table>\n",
       "</div>"
      ],
      "text/plain": [
       "           states   Cases  Deaths  PCases  PDeaths  Cases (+)  Deaths (+)  \\\n",
       "0     Maharashtra  907212   26604  907212    26604          0           0   \n",
       "1  Andhra Pradesh  498125    4417  498125     4417          0           0   \n",
       "2      Tamil Nadu  463480    7839  463480     7839          0           0   \n",
       "3       Karnataka  398551    6393  398551     6393          0           0   \n",
       "4   Uttar Pradesh  266283    3920  266283     3920          0           0   \n",
       "\n",
       "   Fatality Rate  \n",
       "0           2.93  \n",
       "1           0.89  \n",
       "2           1.69  \n",
       "3           1.60  \n",
       "4           1.47  "
      ]
     },
     "execution_count": 13,
     "metadata": {},
     "output_type": "execute_result"
    }
   ],
   "source": [
    "#hide\n",
    "df_table.head()"
   ]
  },
  {
   "cell_type": "code",
   "execution_count": 14,
   "metadata": {
    "execution": {
     "iopub.execute_input": "2020-09-07T04:53:01.205441Z",
     "iopub.status.busy": "2020-09-07T04:53:01.204864Z",
     "iopub.status.idle": "2020-09-07T04:53:01.220142Z",
     "shell.execute_reply": "2020-09-07T04:53:01.220701Z"
    },
    "papermill": {
     "duration": 0.036554,
     "end_time": "2020-09-07T04:53:01.220828",
     "exception": false,
     "start_time": "2020-09-07T04:53:01.184274",
     "status": "completed"
    },
    "tags": []
   },
   "outputs": [
    {
     "data": {
      "text/plain": [
       "{'updated': '2020-09-07',\n",
       " 'since': '2020-09-06',\n",
       " 'Cases': 4202961,\n",
       " 'PCases': 4202562,\n",
       " 'Deaths': 71692,\n",
       " 'PDeaths': 71687,\n",
       " 'Cases (+)': 399,\n",
       " 'Deaths (+)': 5}"
      ]
     },
     "execution_count": 14,
     "metadata": {},
     "output_type": "execute_result"
    }
   ],
   "source": [
    "#hide\n",
    "summary = {'updated':dates[-1], 'since':dates[-2]}\n",
    "list_names = ['Cases', 'PCases', 'Deaths', 'PDeaths', 'Cases (+)', 'Deaths (+)']\n",
    "for name in list_names:\n",
    "    summary[name] = df_table.sum()[name]\n",
    "summary"
   ]
  },
  {
   "cell_type": "code",
   "execution_count": 15,
   "metadata": {
    "execution": {
     "iopub.execute_input": "2020-09-07T04:53:01.256814Z",
     "iopub.status.busy": "2020-09-07T04:53:01.256189Z",
     "iopub.status.idle": "2020-09-07T04:53:01.258481Z",
     "shell.execute_reply": "2020-09-07T04:53:01.257911Z"
    },
    "papermill": {
     "duration": 0.021475,
     "end_time": "2020-09-07T04:53:01.258595",
     "exception": false,
     "start_time": "2020-09-07T04:53:01.237120",
     "status": "completed"
    },
    "tags": []
   },
   "outputs": [],
   "source": [
    "#hide\n",
    "overview = '''\n",
    "<!-- #######  HTML!! #########-->\n",
    "<h1 style=\"color: #5e9ca0; text-align: center;\">India</h1>\n",
    "<p style=\"text-align: center;\">Last update: <strong>{update}</strong></p>\n",
    "<p style=\"text-align: center;\">Confirmed cases:</p>\n",
    "<p style=\"text-align: center;font-size:24px;\">{cases} (<span style=\"color: #ff0000;\">+{new}</span>)</p>\n",
    "<p style=\"text-align: center;\">Confirmed deaths:</p>\n",
    "<p style=\"text-align: center;font-size:24px;\">{deaths} (<span style=\"color: #ff0000;\">+{dnew}</span>)</p>\n",
    "'''"
   ]
  },
  {
   "cell_type": "code",
   "execution_count": 16,
   "metadata": {
    "execution": {
     "iopub.execute_input": "2020-09-07T04:53:01.298156Z",
     "iopub.status.busy": "2020-09-07T04:53:01.297541Z",
     "iopub.status.idle": "2020-09-07T04:53:01.300548Z",
     "shell.execute_reply": "2020-09-07T04:53:01.301174Z"
    },
    "papermill": {
     "duration": 0.025171,
     "end_time": "2020-09-07T04:53:01.301322",
     "exception": false,
     "start_time": "2020-09-07T04:53:01.276151",
     "status": "completed"
    },
    "tags": []
   },
   "outputs": [
    {
     "data": {
      "text/html": [
       "\n",
       "<!-- #######  HTML!! #########-->\n",
       "<h1 style=\"color: #5e9ca0; text-align: center;\">India</h1>\n",
       "<p style=\"text-align: center;\">Last update: <strong>2020-09-07</strong></p>\n",
       "<p style=\"text-align: center;\">Confirmed cases:</p>\n",
       "<p style=\"text-align: center;font-size:24px;\">4202961 (<span style=\"color: #ff0000;\">+399</span>)</p>\n",
       "<p style=\"text-align: center;\">Confirmed deaths:</p>\n",
       "<p style=\"text-align: center;font-size:24px;\">71692 (<span style=\"color: #ff0000;\">+5</span>)</p>\n"
      ],
      "text/plain": [
       "<IPython.core.display.HTML object>"
      ]
     },
     "metadata": {},
     "output_type": "display_data"
    }
   ],
   "source": [
    "#hide_input\n",
    "update = summary['updated']\n",
    "cases = summary['Cases']\n",
    "new = summary['Cases (+)']\n",
    "deaths = summary['Deaths']\n",
    "dnew = summary['Deaths (+)']\n",
    "\n",
    "html = HTML(overview.format(update=update, cases=cases,new=new,deaths=deaths,dnew=dnew))\n",
    "\n",
    "display(html)"
   ]
  },
  {
   "cell_type": "code",
   "execution_count": 17,
   "metadata": {
    "execution": {
     "iopub.execute_input": "2020-09-07T04:53:01.342850Z",
     "iopub.status.busy": "2020-09-07T04:53:01.342200Z",
     "iopub.status.idle": "2020-09-07T04:53:01.347066Z",
     "shell.execute_reply": "2020-09-07T04:53:01.347548Z"
    },
    "papermill": {
     "duration": 0.028663,
     "end_time": "2020-09-07T04:53:01.347674",
     "exception": false,
     "start_time": "2020-09-07T04:53:01.319011",
     "status": "completed"
    },
    "tags": []
   },
   "outputs": [],
   "source": [
    "#hide\n",
    "dt_cols = list(dft_cases.columns[1:])\n",
    "dft_ct_new_cases = dft_cases.groupby('state')[dt_cols].sum().diff(axis=1).fillna(0).astype(int)\n",
    "dft_ct_new_cases.sort_values(by = dates[-1], ascending = False,inplace = True)"
   ]
  },
  {
   "cell_type": "code",
   "execution_count": 18,
   "metadata": {
    "execution": {
     "iopub.execute_input": "2020-09-07T04:53:01.399138Z",
     "iopub.status.busy": "2020-09-07T04:53:01.398558Z",
     "iopub.status.idle": "2020-09-07T04:53:01.401661Z",
     "shell.execute_reply": "2020-09-07T04:53:01.401167Z"
    },
    "papermill": {
     "duration": 0.03653,
     "end_time": "2020-09-07T04:53:01.401777",
     "exception": false,
     "start_time": "2020-09-07T04:53:01.365247",
     "status": "completed"
    },
    "tags": []
   },
   "outputs": [
    {
     "data": {
      "text/html": [
       "<div>\n",
       "<style scoped>\n",
       "    .dataframe tbody tr th:only-of-type {\n",
       "        vertical-align: middle;\n",
       "    }\n",
       "\n",
       "    .dataframe tbody tr th {\n",
       "        vertical-align: top;\n",
       "    }\n",
       "\n",
       "    .dataframe thead th {\n",
       "        text-align: right;\n",
       "    }\n",
       "</style>\n",
       "<table border=\"1\" class=\"dataframe\">\n",
       "  <thead>\n",
       "    <tr style=\"text-align: right;\">\n",
       "      <th>states</th>\n",
       "      <th>2020-07-01</th>\n",
       "      <th>2020-07-02</th>\n",
       "      <th>2020-07-03</th>\n",
       "      <th>2020-07-04</th>\n",
       "      <th>2020-07-05</th>\n",
       "      <th>2020-07-06</th>\n",
       "      <th>2020-07-07</th>\n",
       "      <th>2020-07-08</th>\n",
       "      <th>2020-07-09</th>\n",
       "      <th>2020-07-10</th>\n",
       "      <th>...</th>\n",
       "      <th>2020-08-29</th>\n",
       "      <th>2020-08-30</th>\n",
       "      <th>2020-08-31</th>\n",
       "      <th>2020-09-01</th>\n",
       "      <th>2020-09-02</th>\n",
       "      <th>2020-09-03</th>\n",
       "      <th>2020-09-04</th>\n",
       "      <th>2020-09-05</th>\n",
       "      <th>2020-09-06</th>\n",
       "      <th>2020-09-07</th>\n",
       "    </tr>\n",
       "    <tr>\n",
       "      <th>state</th>\n",
       "      <th></th>\n",
       "      <th></th>\n",
       "      <th></th>\n",
       "      <th></th>\n",
       "      <th></th>\n",
       "      <th></th>\n",
       "      <th></th>\n",
       "      <th></th>\n",
       "      <th></th>\n",
       "      <th></th>\n",
       "      <th></th>\n",
       "      <th></th>\n",
       "      <th></th>\n",
       "      <th></th>\n",
       "      <th></th>\n",
       "      <th></th>\n",
       "      <th></th>\n",
       "      <th></th>\n",
       "      <th></th>\n",
       "      <th></th>\n",
       "      <th></th>\n",
       "    </tr>\n",
       "  </thead>\n",
       "  <tbody>\n",
       "    <tr>\n",
       "      <th>Tripura</th>\n",
       "      <td>0</td>\n",
       "      <td>39</td>\n",
       "      <td>93</td>\n",
       "      <td>25</td>\n",
       "      <td>23</td>\n",
       "      <td>111</td>\n",
       "      <td>24</td>\n",
       "      <td>57</td>\n",
       "      <td>16</td>\n",
       "      <td>142</td>\n",
       "      <td>...</td>\n",
       "      <td>443</td>\n",
       "      <td>447</td>\n",
       "      <td>321</td>\n",
       "      <td>509</td>\n",
       "      <td>566</td>\n",
       "      <td>590</td>\n",
       "      <td>524</td>\n",
       "      <td>691</td>\n",
       "      <td>603</td>\n",
       "      <td>399</td>\n",
       "    </tr>\n",
       "    <tr>\n",
       "      <th>Andaman and Nicobar Islands</th>\n",
       "      <td>0</td>\n",
       "      <td>9</td>\n",
       "      <td>7</td>\n",
       "      <td>3</td>\n",
       "      <td>6</td>\n",
       "      <td>16</td>\n",
       "      <td>6</td>\n",
       "      <td>2</td>\n",
       "      <td>7</td>\n",
       "      <td>0</td>\n",
       "      <td>...</td>\n",
       "      <td>31</td>\n",
       "      <td>23</td>\n",
       "      <td>28</td>\n",
       "      <td>28</td>\n",
       "      <td>26</td>\n",
       "      <td>37</td>\n",
       "      <td>34</td>\n",
       "      <td>35</td>\n",
       "      <td>40</td>\n",
       "      <td>0</td>\n",
       "    </tr>\n",
       "    <tr>\n",
       "      <th>Puducherry</th>\n",
       "      <td>0</td>\n",
       "      <td>63</td>\n",
       "      <td>22</td>\n",
       "      <td>80</td>\n",
       "      <td>42</td>\n",
       "      <td>65</td>\n",
       "      <td>30</td>\n",
       "      <td>110</td>\n",
       "      <td>49</td>\n",
       "      <td>72</td>\n",
       "      <td>...</td>\n",
       "      <td>532</td>\n",
       "      <td>571</td>\n",
       "      <td>284</td>\n",
       "      <td>355</td>\n",
       "      <td>391</td>\n",
       "      <td>424</td>\n",
       "      <td>591</td>\n",
       "      <td>394</td>\n",
       "      <td>466</td>\n",
       "      <td>0</td>\n",
       "    </tr>\n",
       "    <tr>\n",
       "      <th>Maharashtra</th>\n",
       "      <td>0</td>\n",
       "      <td>6328</td>\n",
       "      <td>6364</td>\n",
       "      <td>7074</td>\n",
       "      <td>6555</td>\n",
       "      <td>5368</td>\n",
       "      <td>5134</td>\n",
       "      <td>6603</td>\n",
       "      <td>6875</td>\n",
       "      <td>7862</td>\n",
       "      <td>...</td>\n",
       "      <td>16286</td>\n",
       "      <td>16408</td>\n",
       "      <td>11852</td>\n",
       "      <td>15765</td>\n",
       "      <td>17433</td>\n",
       "      <td>18105</td>\n",
       "      <td>19218</td>\n",
       "      <td>20800</td>\n",
       "      <td>23350</td>\n",
       "      <td>0</td>\n",
       "    </tr>\n",
       "    <tr>\n",
       "      <th>Manipur</th>\n",
       "      <td>0</td>\n",
       "      <td>19</td>\n",
       "      <td>37</td>\n",
       "      <td>9</td>\n",
       "      <td>41</td>\n",
       "      <td>24</td>\n",
       "      <td>40</td>\n",
       "      <td>5</td>\n",
       "      <td>15</td>\n",
       "      <td>132</td>\n",
       "      <td>...</td>\n",
       "      <td>117</td>\n",
       "      <td>152</td>\n",
       "      <td>140</td>\n",
       "      <td>130</td>\n",
       "      <td>125</td>\n",
       "      <td>102</td>\n",
       "      <td>90</td>\n",
       "      <td>184</td>\n",
       "      <td>139</td>\n",
       "      <td>0</td>\n",
       "    </tr>\n",
       "  </tbody>\n",
       "</table>\n",
       "<p>5 rows × 69 columns</p>\n",
       "</div>"
      ],
      "text/plain": [
       "states                       2020-07-01  2020-07-02  2020-07-03  2020-07-04  \\\n",
       "state                                                                         \n",
       "Tripura                               0          39          93          25   \n",
       "Andaman and Nicobar Islands           0           9           7           3   \n",
       "Puducherry                            0          63          22          80   \n",
       "Maharashtra                           0        6328        6364        7074   \n",
       "Manipur                               0          19          37           9   \n",
       "\n",
       "states                       2020-07-05  2020-07-06  2020-07-07  2020-07-08  \\\n",
       "state                                                                         \n",
       "Tripura                              23         111          24          57   \n",
       "Andaman and Nicobar Islands           6          16           6           2   \n",
       "Puducherry                           42          65          30         110   \n",
       "Maharashtra                        6555        5368        5134        6603   \n",
       "Manipur                              41          24          40           5   \n",
       "\n",
       "states                       2020-07-09  2020-07-10  ...  2020-08-29  \\\n",
       "state                                                ...               \n",
       "Tripura                              16         142  ...         443   \n",
       "Andaman and Nicobar Islands           7           0  ...          31   \n",
       "Puducherry                           49          72  ...         532   \n",
       "Maharashtra                        6875        7862  ...       16286   \n",
       "Manipur                              15         132  ...         117   \n",
       "\n",
       "states                       2020-08-30  2020-08-31  2020-09-01  2020-09-02  \\\n",
       "state                                                                         \n",
       "Tripura                             447         321         509         566   \n",
       "Andaman and Nicobar Islands          23          28          28          26   \n",
       "Puducherry                          571         284         355         391   \n",
       "Maharashtra                       16408       11852       15765       17433   \n",
       "Manipur                             152         140         130         125   \n",
       "\n",
       "states                       2020-09-03  2020-09-04  2020-09-05  2020-09-06  \\\n",
       "state                                                                         \n",
       "Tripura                             590         524         691         603   \n",
       "Andaman and Nicobar Islands          37          34          35          40   \n",
       "Puducherry                          424         591         394         466   \n",
       "Maharashtra                       18105       19218       20800       23350   \n",
       "Manipur                             102          90         184         139   \n",
       "\n",
       "states                       2020-09-07  \n",
       "state                                    \n",
       "Tripura                             399  \n",
       "Andaman and Nicobar Islands           0  \n",
       "Puducherry                            0  \n",
       "Maharashtra                           0  \n",
       "Manipur                               0  \n",
       "\n",
       "[5 rows x 69 columns]"
      ]
     },
     "execution_count": 18,
     "metadata": {},
     "output_type": "execute_result"
    }
   ],
   "source": [
    "#hide\n",
    "dft_ct_new_cases.head()"
   ]
  },
  {
   "cell_type": "code",
   "execution_count": 19,
   "metadata": {
    "execution": {
     "iopub.execute_input": "2020-09-07T04:53:01.449182Z",
     "iopub.status.busy": "2020-09-07T04:53:01.443911Z",
     "iopub.status.idle": "2020-09-07T04:53:04.915177Z",
     "shell.execute_reply": "2020-09-07T04:53:04.915641Z"
    },
    "papermill": {
     "duration": 3.497025,
     "end_time": "2020-09-07T04:53:04.915799",
     "exception": false,
     "start_time": "2020-09-07T04:53:01.418774",
     "status": "completed"
    },
    "tags": []
   },
   "outputs": [
    {
     "data": {
      "image/png": "[encoded data removed]",
      "text/plain": [
       "<Figure size 1296x2016 with 11 Axes>"
      ]
     },
     "metadata": {
      "needs_background": "light"
     },
     "output_type": "display_data"
    }
   ],
   "source": [
    "#hide_input\n",
    "df = dft_ct_new_cases.copy()\n",
    "df.loc['Total'] = df.sum()\n",
    "n = 5\n",
    "ax = []\n",
    "fig = plt.figure(figsize = (18,28))\n",
    "gs = fig.add_gridspec(n+2, 5)\n",
    "# gs = fig.add_gridspec(2, 3)\n",
    "ax1 = fig.add_subplot(gs[0, :])\n",
    "ef = df.loc['Total'].rename_axis('date').reset_index()\n",
    "ef['date'] = ef['date'].astype('datetime64[ns]')\n",
    "ax1.bar(ef.date,ef.Total,alpha=0.3,color='#007acc')\n",
    "ax1.plot(ef.date,ef.Total , marker=\"o\", color='#007acc')\n",
    "ax1.xaxis.set_major_locator(mdates.WeekdayLocator())\n",
    "ax1.xaxis.set_major_formatter(mdates.DateFormatter('%b %d'))\n",
    "ax1.text(0.02, 0.5,'India daily case count', transform = ax1.transAxes, fontsize=25);\n",
    "ax1.spines['right'].set_visible(False)\n",
    "ax1.spines['top'].set_visible(False)\n",
    "\n",
    "ax2 = fig.add_subplot(gs[1,0])\n",
    "ef = df.loc['Maharashtra'].rename_axis('date').reset_index()\n",
    "ef['date'] = ef['date'].astype('datetime64[ns]')\n",
    "\n",
    "ax2.bar(ef.date, ef.Maharashtra,color = '#007acc',alpha=0.5)\n",
    "ax2.xaxis.set_major_locator(mdates.WeekdayLocator())\n",
    "ax2.xaxis.set_major_formatter(mdates.DateFormatter('%b %d'))\n",
    "ax2.set_xticks(ax2.get_xticks()[::3])\n",
    "maxyval = ef.Maharashtra.max()\n",
    "ax2.set_ylim([0,maxyval])\n",
    "ax2.text(0.05, 0.9,'Maharashtra', transform = ax2.transAxes, fontsize=20);\n",
    "ax2.spines['right'].set_visible(False)\n",
    "ax2.spines['top'].set_visible(False)\n",
    "\n",
    "\n",
    "ax3 = fig.add_subplot(gs[1,1])\n",
    "ef = df.loc['Tamil Nadu'].rename_axis('date').reset_index()\n",
    "ef['date'] = ef['date'].astype('datetime64[ns]')\n",
    "ax3.bar(ef.date, ef['Tamil Nadu'],color = '#007acc',alpha=0.5,)\n",
    "ax3.xaxis.set_major_locator(mdates.WeekdayLocator())\n",
    "ax3.xaxis.set_major_formatter(mdates.DateFormatter('%b %d'))\n",
    "ax3.set_xticks(ax3.get_xticks()[::3])\n",
    "ax3.text(0.05, 0.9,'Tamil Nadu', transform = ax3.transAxes, fontsize=20);\n",
    "ax3.spines['right'].set_visible(False)\n",
    "ax3.spines['top'].set_visible(False)\n",
    "\n",
    "ax5 = fig.add_subplot(gs[1,3])\n",
    "ef = df.loc['Telangana'].rename_axis('date').reset_index()\n",
    "ef['date'] = ef['date'].astype('datetime64[ns]')\n",
    "ax5.bar(ef.date, ef['Telangana'],color = '#007acc',alpha=0.5,)\n",
    "ax5.xaxis.set_major_locator(mdates.WeekdayLocator())\n",
    "ax5.xaxis.set_major_formatter(mdates.DateFormatter('%b %d'))\n",
    "ax5.set_xticks(ax5.get_xticks()[::3])\n",
    "ax5.text(0.05, 0.9,'Telangana', transform = ax5.transAxes, fontsize=20);\n",
    "ax5.spines['right'].set_visible(False)\n",
    "ax5.spines['top'].set_visible(False)\n",
    "\n",
    "ax6 = fig.add_subplot(gs[1,4])\n",
    "ef = df.loc['Andhra Pradesh'].rename_axis('date').reset_index()\n",
    "ef['date'] = ef['date'].astype('datetime64[ns]')\n",
    "ax6.bar(ef.date, ef['Andhra Pradesh'],color = '#007acc',alpha=0.5,)\n",
    "ax6.xaxis.set_major_locator(mdates.WeekdayLocator())\n",
    "ax6.xaxis.set_major_formatter(mdates.DateFormatter('%b %d'))\n",
    "ax6.set_xticks(ax6.get_xticks()[::3])\n",
    "ax6.text(0.05, 1,'Andhra Pradesh', transform = ax6.transAxes, fontsize=20);\n",
    "ax6.spines['right'].set_visible(False)\n",
    "ax6.spines['top'].set_visible(False)\n",
    "\n",
    "ax4 = fig.add_subplot(gs[1,2])\n",
    "ef = df.loc['Delhi'].rename_axis('date').reset_index()\n",
    "ef['date'] = ef['date'].astype('datetime64[ns]')\n",
    "ax4.bar(ef.date, ef.Delhi,color = '#007acc',alpha=0.5)\n",
    "ax4.set_xticks([])\n",
    "ax4.xaxis.set_major_locator(mdates.WeekdayLocator())\n",
    "ax4.xaxis.set_major_formatter(mdates.DateFormatter('%b %d'))\n",
    "ax4.set_xticks(ax4.get_xticks()[::3])\n",
    "ax4.spines['right'].set_visible(False)\n",
    "ax4.spines['top'].set_visible(False)\n",
    "\n",
    "ax4.text(0.05, 1,'Delhi', transform = ax4.transAxes, fontsize=20)\n",
    "\n",
    "for i in range(n):\n",
    "    \n",
    "    ax.append(fig.add_subplot(gs[i+2,:]))\n",
    "    ef = df.iloc[i+3].rename_axis('date').reset_index()\n",
    "    ef['date'] = ef['date'].astype('datetime64[ns]')\n",
    "    ax[i].bar(ef.date,ef.iloc[:,-1],color = '#007acc',alpha=0.3)\n",
    "    ax[i].plot(ef.date,ef.iloc[:,-1],marker='o',color='#007acc')\n",
    "    ax[i].text(0.02,0.5,f'{ef.columns.values[-1]}',transform = ax[i].transAxes, fontsize = 20);\n",
    "    ax[i].xaxis.set_major_locator(mdates.WeekdayLocator())\n",
    "    ax[i].xaxis.set_major_formatter(mdates.DateFormatter('%b %d'))\n",
    "    ax[i].set_ylim([0,7000])\n",
    "    ax[i].spines['right'].set_visible(False)\n",
    "    ax[i].spines['top'].set_visible(False)\n",
    "plt.tight_layout()\n"
   ]
  },
  {
   "cell_type": "code",
   "execution_count": 20,
   "metadata": {
    "execution": {
     "iopub.execute_input": "2020-09-07T04:53:04.965801Z",
     "iopub.status.busy": "2020-09-07T04:53:04.965212Z",
     "iopub.status.idle": "2020-09-07T04:53:04.969631Z",
     "shell.execute_reply": "2020-09-07T04:53:04.970087Z"
    },
    "papermill": {
     "duration": 0.032645,
     "end_time": "2020-09-07T04:53:04.970215",
     "exception": false,
     "start_time": "2020-09-07T04:53:04.937570",
     "status": "completed"
    },
    "tags": []
   },
   "outputs": [
    {
     "name": "stdout",
     "output_type": "stream",
     "text": [
      "                                   states   Cases  Deaths  PCases  PDeaths  Cases (+)  Deaths (+)  Fatality Rate\n",
      "                              Maharashtra  907212   26604  907212    26604          0           0           2.93\n",
      "                           Andhra Pradesh  498125    4417  498125     4417          0           0           0.89\n",
      "                               Tamil Nadu  463480    7839  463480     7839          0           0           1.69\n",
      "                                Karnataka  398551    6393  398551     6393          0           0           1.60\n",
      "                            Uttar Pradesh  266283    3920  266283     3920          0           0           1.47\n",
      "                                    Delhi  191449    4567  191449     4567          0           0           2.39\n",
      "                              West Bengal  180788    3562  180788     3562          0           0           1.97\n",
      "                                    Bihar  147658     754  147658      754          0           0           0.51\n",
      "                                Telangana  140969     886  140969      886          0           0           0.63\n",
      "                                    Assam  125460     360  125460      360          0           0           0.29\n",
      "                                   Odisha  124031     599  124031      599          0           0           0.48\n",
      "                                  Gujarat  104341    3106  104341     3106          0           0           2.98\n",
      "                                Rajasthan   90956    1137   90956     1137          0           0           1.25\n",
      "                                   Kerala   87842     348   87842      348          0           0           0.40\n",
      "                                  Haryana   76549     806   76549      806          0           0           1.05\n",
      "                           Madhya Pradesh   73574    1572   73574     1572          0           0           2.14\n",
      "                                   Punjab   63473    1862   63473     1862          0           0           2.93\n",
      "                                Jharkhand   51063     469   51063      469          0           0           0.92\n",
      "                             Chhattisgarh   45263     380   45263      380          0           0           0.84\n",
      "                        Jammu and Kashmir   43557     784   43557      784          0           0           1.80\n",
      "                              Uttarakhand   24629     341   24629      341          0           0           1.38\n",
      "                                      Goa   20829     236   20829      236          0           0           1.13\n",
      "                               Puducherry   17032     314   17032      314          0           0           1.84\n",
      "                                  Tripura   15526     149   15127      144        399           5           0.96\n",
      "                         Himachal Pradesh    7415      54    7415       54          0           0           0.73\n",
      "                                  Manipur    7022      38    7022       38          0           0           0.54\n",
      "                               Chandigarh    5763      71    5763       71          0           0           1.23\n",
      "                        Arunachal Pradesh    5000       8    5000        8          0           0           0.16\n",
      "                                 Nagaland    4178       8    4178        8          0           0           0.19\n",
      "              Andaman and Nicobar Islands    3332      50    3332       50          0           0           1.50\n",
      "                                   Ladakh    3036      35    3036       35          0           0           1.15\n",
      "                                Meghalaya    3005      16    3005       16          0           0           0.53\n",
      " Dadra and Nagar Haveli and Daman and Diu    2567       2    2567        2          0           0           0.08\n",
      "                                   Sikkim    1910       5    1910        5          0           0           0.26\n",
      "                                  Mizoram    1093       0    1093        0          0           0           0.00\n",
      "                              Lakshadweep       0       0       0        0          0           0            NaN\n"
     ]
    }
   ],
   "source": [
    "#hide_input\n",
    "print(df_table.to_string(index=False))"
   ]
  },
  {
   "cell_type": "code",
   "execution_count": null,
   "metadata": {
    "papermill": {
     "duration": 0.020032,
     "end_time": "2020-09-07T04:53:05.013003",
     "exception": false,
     "start_time": "2020-09-07T04:53:04.992971",
     "status": "completed"
    },
    "tags": []
   },
   "outputs": [],
   "source": []
  },
  {
   "cell_type": "code",
   "execution_count": null,
   "metadata": {
    "papermill": {
     "duration": 0.02399,
     "end_time": "2020-09-07T04:53:05.063382",
     "exception": false,
     "start_time": "2020-09-07T04:53:05.039392",
     "status": "completed"
    },
    "tags": []
   },
   "outputs": [],
   "source": []
  }
 ],
 "metadata": {
  "kernelspec": {
   "display_name": "Python 3",
   "language": "python",
   "name": "python3"
  },
  "language_info": {
   "codemirror_mode": {
    "name": "ipython",
    "version": 3
   },
   "file_extension": ".py",
   "mimetype": "text/x-python",
   "name": "python",
   "nbconvert_exporter": "python",
   "pygments_lexer": "ipython3",
   "version": "3.6.12"
  },
  "papermill": {
   "duration": 8.931105,
   "end_time": "2020-09-07T04:53:05.492717",
   "environment_variables": {},
   "exception": null,
   "input_path": "latest.ipynb",
   "output_path": "latest.ipynb",
   "parameters": {},
   "start_time": "2020-09-07T04:52:56.561612",
   "version": "2.1.2"
  }
 },
 "nbformat": 4,
 "nbformat_minor": 4
}