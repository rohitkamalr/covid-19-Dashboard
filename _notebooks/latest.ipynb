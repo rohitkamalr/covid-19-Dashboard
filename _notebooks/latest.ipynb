{
 "cells": [
  {
   "cell_type": "markdown",
   "metadata": {
    "papermill": {
     "duration": 0.016503,
     "end_time": "2020-08-09T13:51:24.285665",
     "exception": false,
     "start_time": "2020-08-09T13:51:24.269162",
     "status": "completed"
    },
    "tags": []
   },
   "source": [
    "# Latest COVID-19 India Matplotlib Overview"
   ]
  },
  {
   "cell_type": "code",
   "execution_count": 1,
   "metadata": {
    "execution": {
     "iopub.execute_input": "2020-08-09T13:51:24.322326Z",
     "iopub.status.busy": "2020-08-09T13:51:24.321558Z",
     "iopub.status.idle": "2020-08-09T13:51:24.839818Z",
     "shell.execute_reply": "2020-08-09T13:51:24.838988Z"
    },
    "papermill": {
     "duration": 0.540414,
     "end_time": "2020-08-09T13:51:24.840204",
     "exception": false,
     "start_time": "2020-08-09T13:51:24.299790",
     "status": "completed"
    },
    "tags": []
   },
   "outputs": [],
   "source": [
    "#hide\n",
    "import pandas as pd\n",
    "import numpy as np\n",
    "import requests\n",
    "import json\n",
    "import matplotlib.pyplot as plt\n",
    "import matplotlib.dates as mdates\n",
    "import matplotlib as mpl\n",
    "from IPython.core.display import display,HTML\n",
    "%matplotlib inline\n",
    "from datetime import date"
   ]
  },
  {
   "cell_type": "code",
   "execution_count": 2,
   "metadata": {
    "execution": {
     "iopub.execute_input": "2020-08-09T13:51:24.878042Z",
     "iopub.status.busy": "2020-08-09T13:51:24.877118Z",
     "iopub.status.idle": "2020-08-09T13:51:24.985091Z",
     "shell.execute_reply": "2020-08-09T13:51:24.984632Z"
    },
    "papermill": {
     "duration": 0.129,
     "end_time": "2020-08-09T13:51:24.985218",
     "exception": false,
     "start_time": "2020-08-09T13:51:24.856218",
     "status": "completed"
    },
    "tags": []
   },
   "outputs": [],
   "source": [
    "#hide\n",
    "df  = pd.read_csv('https://api.covid19india.org/csv/latest/states.csv')\n",
    "df = df[['Date','State','Confirmed','Deceased']]\n",
    "df = df.rename(columns={'Confirmed':'Cases', \"Deceased\":'Deaths'})\n",
    "df_cases = df[[\"Date\",'State','Cases']]\n",
    "df_deaths = df[['Date','State','Deaths']]\n",
    "df_cases1 = df_cases.groupby('Date')\n",
    "df_deaths1= df_deaths.groupby('Date')"
   ]
  },
  {
   "cell_type": "code",
   "execution_count": 3,
   "metadata": {
    "execution": {
     "iopub.execute_input": "2020-08-09T13:51:25.016358Z",
     "iopub.status.busy": "2020-08-09T13:51:25.015784Z",
     "iopub.status.idle": "2020-08-09T13:51:25.030895Z",
     "shell.execute_reply": "2020-08-09T13:51:25.030306Z"
    },
    "papermill": {
     "duration": 0.032275,
     "end_time": "2020-08-09T13:51:25.031001",
     "exception": false,
     "start_time": "2020-08-09T13:51:24.998726",
     "status": "completed"
    },
    "tags": []
   },
   "outputs": [],
   "source": [
    "#hide\n",
    "df_snap = pd.read_csv('data/SnapshotCases-28-July.csv')\n",
    "arr_states = df_snap['states'].unique()\n",
    "arr_dates = df['Date'].unique()\n",
    "df_snap = df_snap.set_index('states')"
   ]
  },
  {
   "cell_type": "code",
   "execution_count": 4,
   "metadata": {
    "execution": {
     "iopub.execute_input": "2020-08-09T13:51:25.064037Z",
     "iopub.status.busy": "2020-08-09T13:51:25.063494Z",
     "iopub.status.idle": "2020-08-09T13:51:25.068777Z",
     "shell.execute_reply": "2020-08-09T13:51:25.068309Z"
    },
    "papermill": {
     "duration": 0.024823,
     "end_time": "2020-08-09T13:51:25.068881",
     "exception": false,
     "start_time": "2020-08-09T13:51:25.044058",
     "status": "completed"
    },
    "tags": []
   },
   "outputs": [
    {
     "data": {
      "text/plain": [
       "array(['Andaman and Nicobar Islands', 'Andhra Pradesh',\n",
       "       'Arunachal Pradesh', 'Assam', 'Bihar', 'Chandigarh',\n",
       "       'Dadra and Nagar Haveli and Daman and Diu', 'Delhi', 'Goa',\n",
       "       'Gujarat', 'Haryana', 'Himachal Pradesh', 'Jammu and Kashmir',\n",
       "       'Jharkhand', 'Karnataka', 'Kerala', 'Lakshadweep',\n",
       "       'Madhya Pradesh', 'Maharashtra', 'Manipur', 'Meghalaya', 'Mizoram',\n",
       "       'Nagaland', 'Odisha', 'Puducherry', 'Punjab', 'Rajasthan',\n",
       "       'Sikkim', 'Tamil Nadu', 'Telangana', 'Tripura', 'Uttar Pradesh',\n",
       "       'West Bengal', 'Chhattisgarh', 'Ladakh', 'Uttarakhand'],\n",
       "      dtype=object)"
      ]
     },
     "execution_count": 4,
     "metadata": {},
     "output_type": "execute_result"
    }
   ],
   "source": [
    "#hide\n",
    "arr_states[-9] = 'Puducherry'\n",
    "arr_states[-10] = 'Odisha'\n",
    "arr_states[6] = 'Dadra and Nagar Haveli and Daman and Diu'\n",
    "arr_states = np.append(arr_states,np.array(['Chhattisgarh','Ladakh','Uttarakhand']))\n",
    "arr_states"
   ]
  },
  {
   "cell_type": "code",
   "execution_count": 5,
   "metadata": {
    "execution": {
     "iopub.execute_input": "2020-08-09T13:51:25.108617Z",
     "iopub.status.busy": "2020-08-09T13:51:25.108033Z",
     "iopub.status.idle": "2020-08-09T13:51:25.110772Z",
     "shell.execute_reply": "2020-08-09T13:51:25.110281Z"
    },
    "papermill": {
     "duration": 0.027848,
     "end_time": "2020-08-09T13:51:25.110877",
     "exception": false,
     "start_time": "2020-08-09T13:51:25.083029",
     "status": "completed"
    },
    "tags": []
   },
   "outputs": [],
   "source": [
    "#hide\n",
    "dates = []\n",
    "for i in arr_dates:\n",
    "    if i>='2020-07-01':\n",
    "        dates.append(i)\n",
    "dict = {'states':dates}\n",
    "for i in arr_states:\n",
    "    dict[i] = [0]*len(dates)\n",
    "dft_cases = pd.DataFrame(dict)\n",
    "dft_deaths = pd.DataFrame(dict)\n"
   ]
  },
  {
   "cell_type": "code",
   "execution_count": 6,
   "metadata": {
    "execution": {
     "iopub.execute_input": "2020-08-09T13:51:25.145409Z",
     "iopub.status.busy": "2020-08-09T13:51:25.144824Z",
     "iopub.status.idle": "2020-08-09T13:51:25.727580Z",
     "shell.execute_reply": "2020-08-09T13:51:25.727114Z"
    },
    "papermill": {
     "duration": 0.600453,
     "end_time": "2020-08-09T13:51:25.727717",
     "exception": false,
     "start_time": "2020-08-09T13:51:25.127264",
     "status": "completed"
    },
    "tags": []
   },
   "outputs": [],
   "source": [
    "#hide\n",
    "for i in range(len(dates)):\n",
    "    df1_deaths = df_deaths1.get_group(dates[i])\n",
    "    for j in range(len(df1_deaths.index)):\n",
    "        if df1_deaths.iloc[j,1] in arr_states:\n",
    "            dft_deaths.loc[i,df1_deaths.iloc[j,1]] = df1_deaths.iloc[j,2]\n",
    "dft_deaths = dft_deaths.set_index('states')"
   ]
  },
  {
   "cell_type": "code",
   "execution_count": 7,
   "metadata": {
    "execution": {
     "iopub.execute_input": "2020-08-09T13:51:25.760843Z",
     "iopub.status.busy": "2020-08-09T13:51:25.760201Z",
     "iopub.status.idle": "2020-08-09T13:51:26.370719Z",
     "shell.execute_reply": "2020-08-09T13:51:26.369930Z"
    },
    "papermill": {
     "duration": 0.628623,
     "end_time": "2020-08-09T13:51:26.371006",
     "exception": false,
     "start_time": "2020-08-09T13:51:25.742383",
     "status": "completed"
    },
    "tags": []
   },
   "outputs": [],
   "source": [
    "#hide\n",
    "for i in range(len(dates)):\n",
    "    df1_cases = df_cases1.get_group(dates[i])\n",
    "    for j in range(len(df1_cases.index)):\n",
    "        if df1_cases.iloc[j,1] in arr_states:\n",
    "            dft_cases.loc[i,df1_cases.iloc[j,1]] = df1_cases.iloc[j,2]\n",
    "dft_cases = dft_cases.set_index('states')"
   ]
  },
  {
   "cell_type": "code",
   "execution_count": 8,
   "metadata": {
    "execution": {
     "iopub.execute_input": "2020-08-09T13:51:26.406649Z",
     "iopub.status.busy": "2020-08-09T13:51:26.406062Z",
     "iopub.status.idle": "2020-08-09T13:51:26.408535Z",
     "shell.execute_reply": "2020-08-09T13:51:26.408083Z"
    },
    "papermill": {
     "duration": 0.021394,
     "end_time": "2020-08-09T13:51:26.408642",
     "exception": false,
     "start_time": "2020-08-09T13:51:26.387248",
     "status": "completed"
    },
    "tags": []
   },
   "outputs": [],
   "source": [
    "#hide\n",
    "dft_cases = dft_cases.T\n",
    "dft_deaths = dft_deaths.T\n",
    "dt_today = dates[-1]\n",
    "dt_yday = dates[-2]"
   ]
  },
  {
   "cell_type": "code",
   "execution_count": 9,
   "metadata": {
    "execution": {
     "iopub.execute_input": "2020-08-09T13:51:26.441209Z",
     "iopub.status.busy": "2020-08-09T13:51:26.440669Z",
     "iopub.status.idle": "2020-08-09T13:51:26.442636Z",
     "shell.execute_reply": "2020-08-09T13:51:26.443035Z"
    },
    "papermill": {
     "duration": 0.021339,
     "end_time": "2020-08-09T13:51:26.443149",
     "exception": false,
     "start_time": "2020-08-09T13:51:26.421810",
     "status": "completed"
    },
    "tags": []
   },
   "outputs": [],
   "source": [
    "#hide\n",
    "dft_cases = dft_cases.reset_index()\n",
    "dft_deaths = dft_deaths.reset_index()\n",
    "dft_cases = dft_cases.rename(columns = {'index':'state'})\n",
    "dft_deaths = dft_deaths.rename(columns = {'index':'state'})"
   ]
  },
  {
   "cell_type": "code",
   "execution_count": 10,
   "metadata": {
    "execution": {
     "iopub.execute_input": "2020-08-09T13:51:26.482552Z",
     "iopub.status.busy": "2020-08-09T13:51:26.481976Z",
     "iopub.status.idle": "2020-08-09T13:51:26.484476Z",
     "shell.execute_reply": "2020-08-09T13:51:26.483968Z"
    },
    "papermill": {
     "duration": 0.027702,
     "end_time": "2020-08-09T13:51:26.484578",
     "exception": false,
     "start_time": "2020-08-09T13:51:26.456876",
     "status": "completed"
    },
    "tags": []
   },
   "outputs": [],
   "source": [
    "#hide\n",
    "dfc_cases = dft_cases.groupby('state')[dt_today].sum()\n",
    "dfc_deaths = dft_deaths.groupby('state')[dt_today].sum()\n",
    "dfp_cases = dft_cases.groupby('state')[dt_yday].sum()\n",
    "dfp_deaths = dft_deaths.groupby('state')[dt_yday].sum()"
   ]
  },
  {
   "cell_type": "code",
   "execution_count": 11,
   "metadata": {
    "execution": {
     "iopub.execute_input": "2020-08-09T13:51:26.518531Z",
     "iopub.status.busy": "2020-08-09T13:51:26.517815Z",
     "iopub.status.idle": "2020-08-09T13:51:26.529377Z",
     "shell.execute_reply": "2020-08-09T13:51:26.528941Z"
    },
    "papermill": {
     "duration": 0.031534,
     "end_time": "2020-08-09T13:51:26.529477",
     "exception": false,
     "start_time": "2020-08-09T13:51:26.497943",
     "status": "completed"
    },
    "tags": []
   },
   "outputs": [
    {
     "data": {
      "text/html": [
       "<div>\n",
       "<style scoped>\n",
       "    .dataframe tbody tr th:only-of-type {\n",
       "        vertical-align: middle;\n",
       "    }\n",
       "\n",
       "    .dataframe tbody tr th {\n",
       "        vertical-align: top;\n",
       "    }\n",
       "\n",
       "    .dataframe thead th {\n",
       "        text-align: right;\n",
       "    }\n",
       "</style>\n",
       "<table border=\"1\" class=\"dataframe\">\n",
       "  <thead>\n",
       "    <tr style=\"text-align: right;\">\n",
       "      <th></th>\n",
       "      <th>states</th>\n",
       "      <th>Cases</th>\n",
       "      <th>Deaths</th>\n",
       "      <th>PCases</th>\n",
       "      <th>PDeaths</th>\n",
       "    </tr>\n",
       "  </thead>\n",
       "  <tbody>\n",
       "    <tr>\n",
       "      <th>0</th>\n",
       "      <td>Maharashtra</td>\n",
       "      <td>503084</td>\n",
       "      <td>17367</td>\n",
       "      <td>503084</td>\n",
       "      <td>17367</td>\n",
       "    </tr>\n",
       "    <tr>\n",
       "      <th>1</th>\n",
       "      <td>Tamil Nadu</td>\n",
       "      <td>296901</td>\n",
       "      <td>4927</td>\n",
       "      <td>290907</td>\n",
       "      <td>4808</td>\n",
       "    </tr>\n",
       "    <tr>\n",
       "      <th>2</th>\n",
       "      <td>Andhra Pradesh</td>\n",
       "      <td>217040</td>\n",
       "      <td>1939</td>\n",
       "      <td>217040</td>\n",
       "      <td>1939</td>\n",
       "    </tr>\n",
       "    <tr>\n",
       "      <th>3</th>\n",
       "      <td>Karnataka</td>\n",
       "      <td>172102</td>\n",
       "      <td>3091</td>\n",
       "      <td>172102</td>\n",
       "      <td>3091</td>\n",
       "    </tr>\n",
       "    <tr>\n",
       "      <th>4</th>\n",
       "      <td>Delhi</td>\n",
       "      <td>145427</td>\n",
       "      <td>4111</td>\n",
       "      <td>144127</td>\n",
       "      <td>4098</td>\n",
       "    </tr>\n",
       "  </tbody>\n",
       "</table>\n",
       "</div>"
      ],
      "text/plain": [
       "           states   Cases  Deaths  PCases  PDeaths\n",
       "0     Maharashtra  503084   17367  503084    17367\n",
       "1      Tamil Nadu  296901    4927  290907     4808\n",
       "2  Andhra Pradesh  217040    1939  217040     1939\n",
       "3       Karnataka  172102    3091  172102     3091\n",
       "4           Delhi  145427    4111  144127     4098"
      ]
     },
     "execution_count": 11,
     "metadata": {},
     "output_type": "execute_result"
    }
   ],
   "source": [
    "#hide\n",
    "df_table = pd.DataFrame({'states': dfc_cases.index, 'Cases': dfc_cases.values, 'Deaths': dfc_deaths.values, 'PCases': dfp_cases.values, 'PDeaths': dfp_deaths.values}).set_index('states')\n",
    "df_table = df_table.sort_values(by = ['Cases','Deaths'], ascending = [False, False])\n",
    "df_table = df_table.reset_index()\n",
    "df_table.head()"
   ]
  },
  {
   "cell_type": "code",
   "execution_count": 12,
   "metadata": {
    "execution": {
     "iopub.execute_input": "2020-08-09T13:51:26.562143Z",
     "iopub.status.busy": "2020-08-09T13:51:26.561614Z",
     "iopub.status.idle": "2020-08-09T13:51:26.569163Z",
     "shell.execute_reply": "2020-08-09T13:51:26.568594Z"
    },
    "papermill": {
     "duration": 0.025958,
     "end_time": "2020-08-09T13:51:26.569293",
     "exception": false,
     "start_time": "2020-08-09T13:51:26.543335",
     "status": "completed"
    },
    "tags": []
   },
   "outputs": [],
   "source": [
    "#hide\n",
    "for c in 'Cases, Deaths'.split(', '):\n",
    "    df_table[f'{c} (+)'] = (df_table[c] - df_table[f'P{c}']).clip(0)\n",
    "df_table['Fatality Rate'] = (100* df_table['Deaths']/ df_table['Cases']).round(2)"
   ]
  },
  {
   "cell_type": "code",
   "execution_count": 13,
   "metadata": {
    "execution": {
     "iopub.execute_input": "2020-08-09T13:51:26.607466Z",
     "iopub.status.busy": "2020-08-09T13:51:26.606938Z",
     "iopub.status.idle": "2020-08-09T13:51:26.609343Z",
     "shell.execute_reply": "2020-08-09T13:51:26.609798Z"
    },
    "papermill": {
     "duration": 0.026363,
     "end_time": "2020-08-09T13:51:26.609913",
     "exception": false,
     "start_time": "2020-08-09T13:51:26.583550",
     "status": "completed"
    },
    "tags": []
   },
   "outputs": [
    {
     "data": {
      "text/html": [
       "<div>\n",
       "<style scoped>\n",
       "    .dataframe tbody tr th:only-of-type {\n",
       "        vertical-align: middle;\n",
       "    }\n",
       "\n",
       "    .dataframe tbody tr th {\n",
       "        vertical-align: top;\n",
       "    }\n",
       "\n",
       "    .dataframe thead th {\n",
       "        text-align: right;\n",
       "    }\n",
       "</style>\n",
       "<table border=\"1\" class=\"dataframe\">\n",
       "  <thead>\n",
       "    <tr style=\"text-align: right;\">\n",
       "      <th></th>\n",
       "      <th>states</th>\n",
       "      <th>Cases</th>\n",
       "      <th>Deaths</th>\n",
       "      <th>PCases</th>\n",
       "      <th>PDeaths</th>\n",
       "      <th>Cases (+)</th>\n",
       "      <th>Deaths (+)</th>\n",
       "      <th>Fatality Rate</th>\n",
       "    </tr>\n",
       "  </thead>\n",
       "  <tbody>\n",
       "    <tr>\n",
       "      <th>0</th>\n",
       "      <td>Maharashtra</td>\n",
       "      <td>503084</td>\n",
       "      <td>17367</td>\n",
       "      <td>503084</td>\n",
       "      <td>17367</td>\n",
       "      <td>0</td>\n",
       "      <td>0</td>\n",
       "      <td>3.45</td>\n",
       "    </tr>\n",
       "    <tr>\n",
       "      <th>1</th>\n",
       "      <td>Tamil Nadu</td>\n",
       "      <td>296901</td>\n",
       "      <td>4927</td>\n",
       "      <td>290907</td>\n",
       "      <td>4808</td>\n",
       "      <td>5994</td>\n",
       "      <td>119</td>\n",
       "      <td>1.66</td>\n",
       "    </tr>\n",
       "    <tr>\n",
       "      <th>2</th>\n",
       "      <td>Andhra Pradesh</td>\n",
       "      <td>217040</td>\n",
       "      <td>1939</td>\n",
       "      <td>217040</td>\n",
       "      <td>1939</td>\n",
       "      <td>0</td>\n",
       "      <td>0</td>\n",
       "      <td>0.89</td>\n",
       "    </tr>\n",
       "    <tr>\n",
       "      <th>3</th>\n",
       "      <td>Karnataka</td>\n",
       "      <td>172102</td>\n",
       "      <td>3091</td>\n",
       "      <td>172102</td>\n",
       "      <td>3091</td>\n",
       "      <td>0</td>\n",
       "      <td>0</td>\n",
       "      <td>1.80</td>\n",
       "    </tr>\n",
       "    <tr>\n",
       "      <th>4</th>\n",
       "      <td>Delhi</td>\n",
       "      <td>145427</td>\n",
       "      <td>4111</td>\n",
       "      <td>144127</td>\n",
       "      <td>4098</td>\n",
       "      <td>1300</td>\n",
       "      <td>13</td>\n",
       "      <td>2.83</td>\n",
       "    </tr>\n",
       "  </tbody>\n",
       "</table>\n",
       "</div>"
      ],
      "text/plain": [
       "           states   Cases  Deaths  PCases  PDeaths  Cases (+)  Deaths (+)  \\\n",
       "0     Maharashtra  503084   17367  503084    17367          0           0   \n",
       "1      Tamil Nadu  296901    4927  290907     4808       5994         119   \n",
       "2  Andhra Pradesh  217040    1939  217040     1939          0           0   \n",
       "3       Karnataka  172102    3091  172102     3091          0           0   \n",
       "4           Delhi  145427    4111  144127     4098       1300          13   \n",
       "\n",
       "   Fatality Rate  \n",
       "0           3.45  \n",
       "1           1.66  \n",
       "2           0.89  \n",
       "3           1.80  \n",
       "4           2.83  "
      ]
     },
     "execution_count": 13,
     "metadata": {},
     "output_type": "execute_result"
    }
   ],
   "source": [
    "#hide\n",
    "df_table.head()"
   ]
  },
  {
   "cell_type": "code",
   "execution_count": 14,
   "metadata": {
    "execution": {
     "iopub.execute_input": "2020-08-09T13:51:26.643737Z",
     "iopub.status.busy": "2020-08-09T13:51:26.643195Z",
     "iopub.status.idle": "2020-08-09T13:51:26.658287Z",
     "shell.execute_reply": "2020-08-09T13:51:26.657754Z"
    },
    "papermill": {
     "duration": 0.033675,
     "end_time": "2020-08-09T13:51:26.658399",
     "exception": false,
     "start_time": "2020-08-09T13:51:26.624724",
     "status": "completed"
    },
    "tags": []
   },
   "outputs": [
    {
     "data": {
      "text/plain": [
       "{'updated': '2020-08-09',\n",
       " 'since': '2020-08-08',\n",
       " 'Cases': 2174743,\n",
       " 'PCases': 2152020,\n",
       " 'Deaths': 43704,\n",
       " 'PDeaths': 43453,\n",
       " 'Cases (+)': 22723,\n",
       " 'Deaths (+)': 251}"
      ]
     },
     "execution_count": 14,
     "metadata": {},
     "output_type": "execute_result"
    }
   ],
   "source": [
    "#hide\n",
    "summary = {'updated':dates[-1], 'since':dates[-2]}\n",
    "list_names = ['Cases', 'PCases', 'Deaths', 'PDeaths', 'Cases (+)', 'Deaths (+)']\n",
    "for name in list_names:\n",
    "    summary[name] = df_table.sum()[name]\n",
    "summary"
   ]
  },
  {
   "cell_type": "code",
   "execution_count": 15,
   "metadata": {
    "execution": {
     "iopub.execute_input": "2020-08-09T13:51:26.695283Z",
     "iopub.status.busy": "2020-08-09T13:51:26.694744Z",
     "iopub.status.idle": "2020-08-09T13:51:26.696522Z",
     "shell.execute_reply": "2020-08-09T13:51:26.696948Z"
    },
    "papermill": {
     "duration": 0.022343,
     "end_time": "2020-08-09T13:51:26.697060",
     "exception": false,
     "start_time": "2020-08-09T13:51:26.674717",
     "status": "completed"
    },
    "tags": []
   },
   "outputs": [],
   "source": [
    "#hide\n",
    "overview = '''\n",
    "<!-- #######  HTML!! #########-->\n",
    "<h1 style=\"color: #5e9ca0; text-align: center;\">India</h1>\n",
    "<p style=\"text-align: center;\">Last update: <strong>{update}</strong></p>\n",
    "<p style=\"text-align: center;\">Confirmed cases:</p>\n",
    "<p style=\"text-align: center;font-size:24px;\">{cases} (<span style=\"color: #ff0000;\">+{new}</span>)</p>\n",
    "<p style=\"text-align: center;\">Confirmed deaths:</p>\n",
    "<p style=\"text-align: center;font-size:24px;\">{deaths} (<span style=\"color: #ff0000;\">+{dnew}</span>)</p>\n",
    "'''"
   ]
  },
  {
   "cell_type": "code",
   "execution_count": 16,
   "metadata": {
    "execution": {
     "iopub.execute_input": "2020-08-09T13:51:26.736023Z",
     "iopub.status.busy": "2020-08-09T13:51:26.735425Z",
     "iopub.status.idle": "2020-08-09T13:51:26.739295Z",
     "shell.execute_reply": "2020-08-09T13:51:26.738793Z"
    },
    "papermill": {
     "duration": 0.025429,
     "end_time": "2020-08-09T13:51:26.739407",
     "exception": false,
     "start_time": "2020-08-09T13:51:26.713978",
     "status": "completed"
    },
    "tags": []
   },
   "outputs": [
    {
     "data": {
      "text/html": [
       "\n",
       "<!-- #######  HTML!! #########-->\n",
       "<h1 style=\"color: #5e9ca0; text-align: center;\">India</h1>\n",
       "<p style=\"text-align: center;\">Last update: <strong>2020-08-09</strong></p>\n",
       "<p style=\"text-align: center;\">Confirmed cases:</p>\n",
       "<p style=\"text-align: center;font-size:24px;\">2174743 (<span style=\"color: #ff0000;\">+22723</span>)</p>\n",
       "<p style=\"text-align: center;\">Confirmed deaths:</p>\n",
       "<p style=\"text-align: center;font-size:24px;\">43704 (<span style=\"color: #ff0000;\">+251</span>)</p>\n"
      ],
      "text/plain": [
       "<IPython.core.display.HTML object>"
      ]
     },
     "metadata": {},
     "output_type": "display_data"
    }
   ],
   "source": [
    "#hide_input\n",
    "update = summary['updated']\n",
    "cases = summary['Cases']\n",
    "new = summary['Cases (+)']\n",
    "deaths = summary['Deaths']\n",
    "dnew = summary['Deaths (+)']\n",
    "\n",
    "html = HTML(overview.format(update=update, cases=cases,new=new,deaths=deaths,dnew=dnew))\n",
    "\n",
    "display(html)"
   ]
  },
  {
   "cell_type": "code",
   "execution_count": 17,
   "metadata": {
    "execution": {
     "iopub.execute_input": "2020-08-09T13:51:26.781481Z",
     "iopub.status.busy": "2020-08-09T13:51:26.780970Z",
     "iopub.status.idle": "2020-08-09T13:51:26.783490Z",
     "shell.execute_reply": "2020-08-09T13:51:26.783047Z"
    },
    "papermill": {
     "duration": 0.027315,
     "end_time": "2020-08-09T13:51:26.783592",
     "exception": false,
     "start_time": "2020-08-09T13:51:26.756277",
     "status": "completed"
    },
    "tags": []
   },
   "outputs": [],
   "source": [
    "#hide\n",
    "dt_cols = list(dft_cases.columns[1:])\n",
    "dft_ct_new_cases = dft_cases.groupby('state')[dt_cols].sum().diff(axis=1).fillna(0).astype(int)\n",
    "dft_ct_new_cases.sort_values(by = dates[-1], ascending = False,inplace = True)"
   ]
  },
  {
   "cell_type": "code",
   "execution_count": 18,
   "metadata": {
    "execution": {
     "iopub.execute_input": "2020-08-09T13:51:26.833069Z",
     "iopub.status.busy": "2020-08-09T13:51:26.832480Z",
     "iopub.status.idle": "2020-08-09T13:51:26.835855Z",
     "shell.execute_reply": "2020-08-09T13:51:26.835368Z"
    },
    "papermill": {
     "duration": 0.036459,
     "end_time": "2020-08-09T13:51:26.835959",
     "exception": false,
     "start_time": "2020-08-09T13:51:26.799500",
     "status": "completed"
    },
    "tags": []
   },
   "outputs": [
    {
     "data": {
      "text/html": [
       "<div>\n",
       "<style scoped>\n",
       "    .dataframe tbody tr th:only-of-type {\n",
       "        vertical-align: middle;\n",
       "    }\n",
       "\n",
       "    .dataframe tbody tr th {\n",
       "        vertical-align: top;\n",
       "    }\n",
       "\n",
       "    .dataframe thead th {\n",
       "        text-align: right;\n",
       "    }\n",
       "</style>\n",
       "<table border=\"1\" class=\"dataframe\">\n",
       "  <thead>\n",
       "    <tr style=\"text-align: right;\">\n",
       "      <th>states</th>\n",
       "      <th>2020-07-01</th>\n",
       "      <th>2020-07-02</th>\n",
       "      <th>2020-07-03</th>\n",
       "      <th>2020-07-04</th>\n",
       "      <th>2020-07-05</th>\n",
       "      <th>2020-07-06</th>\n",
       "      <th>2020-07-07</th>\n",
       "      <th>2020-07-08</th>\n",
       "      <th>2020-07-09</th>\n",
       "      <th>2020-07-10</th>\n",
       "      <th>...</th>\n",
       "      <th>2020-07-31</th>\n",
       "      <th>2020-08-01</th>\n",
       "      <th>2020-08-02</th>\n",
       "      <th>2020-08-03</th>\n",
       "      <th>2020-08-04</th>\n",
       "      <th>2020-08-05</th>\n",
       "      <th>2020-08-06</th>\n",
       "      <th>2020-08-07</th>\n",
       "      <th>2020-08-08</th>\n",
       "      <th>2020-08-09</th>\n",
       "    </tr>\n",
       "    <tr>\n",
       "      <th>state</th>\n",
       "      <th></th>\n",
       "      <th></th>\n",
       "      <th></th>\n",
       "      <th></th>\n",
       "      <th></th>\n",
       "      <th></th>\n",
       "      <th></th>\n",
       "      <th></th>\n",
       "      <th></th>\n",
       "      <th></th>\n",
       "      <th></th>\n",
       "      <th></th>\n",
       "      <th></th>\n",
       "      <th></th>\n",
       "      <th></th>\n",
       "      <th></th>\n",
       "      <th></th>\n",
       "      <th></th>\n",
       "      <th></th>\n",
       "      <th></th>\n",
       "      <th></th>\n",
       "    </tr>\n",
       "  </thead>\n",
       "  <tbody>\n",
       "    <tr>\n",
       "      <th>Tamil Nadu</th>\n",
       "      <td>0</td>\n",
       "      <td>4343</td>\n",
       "      <td>4329</td>\n",
       "      <td>4280</td>\n",
       "      <td>4150</td>\n",
       "      <td>3827</td>\n",
       "      <td>3616</td>\n",
       "      <td>3756</td>\n",
       "      <td>4231</td>\n",
       "      <td>3680</td>\n",
       "      <td>...</td>\n",
       "      <td>5881</td>\n",
       "      <td>5879</td>\n",
       "      <td>5875</td>\n",
       "      <td>5609</td>\n",
       "      <td>5063</td>\n",
       "      <td>5175</td>\n",
       "      <td>5684</td>\n",
       "      <td>5880</td>\n",
       "      <td>5883</td>\n",
       "      <td>5994</td>\n",
       "    </tr>\n",
       "    <tr>\n",
       "      <th>Uttar Pradesh</th>\n",
       "      <td>0</td>\n",
       "      <td>769</td>\n",
       "      <td>972</td>\n",
       "      <td>757</td>\n",
       "      <td>1153</td>\n",
       "      <td>929</td>\n",
       "      <td>1332</td>\n",
       "      <td>1188</td>\n",
       "      <td>1206</td>\n",
       "      <td>1338</td>\n",
       "      <td>...</td>\n",
       "      <td>4422</td>\n",
       "      <td>3587</td>\n",
       "      <td>3873</td>\n",
       "      <td>4441</td>\n",
       "      <td>2948</td>\n",
       "      <td>4078</td>\n",
       "      <td>4586</td>\n",
       "      <td>4404</td>\n",
       "      <td>4660</td>\n",
       "      <td>4571</td>\n",
       "    </tr>\n",
       "    <tr>\n",
       "      <th>Bihar</th>\n",
       "      <td>0</td>\n",
       "      <td>478</td>\n",
       "      <td>426</td>\n",
       "      <td>349</td>\n",
       "      <td>403</td>\n",
       "      <td>280</td>\n",
       "      <td>385</td>\n",
       "      <td>749</td>\n",
       "      <td>704</td>\n",
       "      <td>352</td>\n",
       "      <td>...</td>\n",
       "      <td>2986</td>\n",
       "      <td>3521</td>\n",
       "      <td>2762</td>\n",
       "      <td>2297</td>\n",
       "      <td>2464</td>\n",
       "      <td>2701</td>\n",
       "      <td>3416</td>\n",
       "      <td>3646</td>\n",
       "      <td>3992</td>\n",
       "      <td>3934</td>\n",
       "    </tr>\n",
       "    <tr>\n",
       "      <th>Telangana</th>\n",
       "      <td>0</td>\n",
       "      <td>1213</td>\n",
       "      <td>1892</td>\n",
       "      <td>1850</td>\n",
       "      <td>1590</td>\n",
       "      <td>1831</td>\n",
       "      <td>1879</td>\n",
       "      <td>1924</td>\n",
       "      <td>1410</td>\n",
       "      <td>1278</td>\n",
       "      <td>...</td>\n",
       "      <td>1986</td>\n",
       "      <td>2083</td>\n",
       "      <td>1891</td>\n",
       "      <td>983</td>\n",
       "      <td>1286</td>\n",
       "      <td>2012</td>\n",
       "      <td>2092</td>\n",
       "      <td>2207</td>\n",
       "      <td>2256</td>\n",
       "      <td>1982</td>\n",
       "    </tr>\n",
       "    <tr>\n",
       "      <th>Odisha</th>\n",
       "      <td>0</td>\n",
       "      <td>229</td>\n",
       "      <td>561</td>\n",
       "      <td>495</td>\n",
       "      <td>469</td>\n",
       "      <td>456</td>\n",
       "      <td>571</td>\n",
       "      <td>527</td>\n",
       "      <td>577</td>\n",
       "      <td>755</td>\n",
       "      <td>...</td>\n",
       "      <td>1499</td>\n",
       "      <td>1602</td>\n",
       "      <td>1434</td>\n",
       "      <td>1384</td>\n",
       "      <td>1384</td>\n",
       "      <td>1337</td>\n",
       "      <td>1699</td>\n",
       "      <td>1833</td>\n",
       "      <td>1643</td>\n",
       "      <td>1734</td>\n",
       "    </tr>\n",
       "  </tbody>\n",
       "</table>\n",
       "<p>5 rows × 40 columns</p>\n",
       "</div>"
      ],
      "text/plain": [
       "states         2020-07-01  2020-07-02  2020-07-03  2020-07-04  2020-07-05  \\\n",
       "state                                                                       \n",
       "Tamil Nadu              0        4343        4329        4280        4150   \n",
       "Uttar Pradesh           0         769         972         757        1153   \n",
       "Bihar                   0         478         426         349         403   \n",
       "Telangana               0        1213        1892        1850        1590   \n",
       "Odisha                  0         229         561         495         469   \n",
       "\n",
       "states         2020-07-06  2020-07-07  2020-07-08  2020-07-09  2020-07-10  \\\n",
       "state                                                                       \n",
       "Tamil Nadu           3827        3616        3756        4231        3680   \n",
       "Uttar Pradesh         929        1332        1188        1206        1338   \n",
       "Bihar                 280         385         749         704         352   \n",
       "Telangana            1831        1879        1924        1410        1278   \n",
       "Odisha                456         571         527         577         755   \n",
       "\n",
       "states         ...  2020-07-31  2020-08-01  2020-08-02  2020-08-03  \\\n",
       "state          ...                                                   \n",
       "Tamil Nadu     ...        5881        5879        5875        5609   \n",
       "Uttar Pradesh  ...        4422        3587        3873        4441   \n",
       "Bihar          ...        2986        3521        2762        2297   \n",
       "Telangana      ...        1986        2083        1891         983   \n",
       "Odisha         ...        1499        1602        1434        1384   \n",
       "\n",
       "states         2020-08-04  2020-08-05  2020-08-06  2020-08-07  2020-08-08  \\\n",
       "state                                                                       \n",
       "Tamil Nadu           5063        5175        5684        5880        5883   \n",
       "Uttar Pradesh        2948        4078        4586        4404        4660   \n",
       "Bihar                2464        2701        3416        3646        3992   \n",
       "Telangana            1286        2012        2092        2207        2256   \n",
       "Odisha               1384        1337        1699        1833        1643   \n",
       "\n",
       "states         2020-08-09  \n",
       "state                      \n",
       "Tamil Nadu           5994  \n",
       "Uttar Pradesh        4571  \n",
       "Bihar                3934  \n",
       "Telangana            1982  \n",
       "Odisha               1734  \n",
       "\n",
       "[5 rows x 40 columns]"
      ]
     },
     "execution_count": 18,
     "metadata": {},
     "output_type": "execute_result"
    }
   ],
   "source": [
    "#hide\n",
    "dft_ct_new_cases.head()"
   ]
  },
  {
   "cell_type": "code",
   "execution_count": 19,
   "metadata": {
    "execution": {
     "iopub.execute_input": "2020-08-09T13:51:26.896661Z",
     "iopub.status.busy": "2020-08-09T13:51:26.896039Z",
     "iopub.status.idle": "2020-08-09T13:51:30.139453Z",
     "shell.execute_reply": "2020-08-09T13:51:30.138895Z"
    },
    "papermill": {
     "duration": 3.28497,
     "end_time": "2020-08-09T13:51:30.139651",
     "exception": false,
     "start_time": "2020-08-09T13:51:26.854681",
     "status": "completed"
    },
    "tags": []
   },
   "outputs": [
    {
     "data": {
      "image/png": "[encoded data removed]",
      "text/plain": [
       "<Figure size 1296x2016 with 11 Axes>"
      ]
     },
     "metadata": {
      "needs_background": "light"
     },
     "output_type": "display_data"
    }
   ],
   "source": [
    "#hide_input\n",
    "df = dft_ct_new_cases.copy()\n",
    "df.loc['Total'] = df.sum()\n",
    "n = 5\n",
    "ax = []\n",
    "fig = plt.figure(figsize = (18,28))\n",
    "gs = fig.add_gridspec(n+2, 5)\n",
    "# gs = fig.add_gridspec(2, 3)\n",
    "ax1 = fig.add_subplot(gs[0, :])\n",
    "ef = df.loc['Total'].rename_axis('date').reset_index()\n",
    "ef['date'] = ef['date'].astype('datetime64[ns]')\n",
    "ax1.bar(ef.date,ef.Total,alpha=0.3,color='#007acc')\n",
    "ax1.plot(ef.date,ef.Total , marker=\"o\", color='#007acc')\n",
    "ax1.xaxis.set_major_locator(mdates.WeekdayLocator())\n",
    "ax1.xaxis.set_major_formatter(mdates.DateFormatter('%b %d'))\n",
    "ax1.text(0.02, 0.5,'India daily case count', transform = ax1.transAxes, fontsize=25);\n",
    "ax1.spines['right'].set_visible(False)\n",
    "ax1.spines['top'].set_visible(False)\n",
    "\n",
    "ax2 = fig.add_subplot(gs[1,0])\n",
    "ef = df.loc['Maharashtra'].rename_axis('date').reset_index()\n",
    "ef['date'] = ef['date'].astype('datetime64[ns]')\n",
    "\n",
    "ax2.bar(ef.date, ef.Maharashtra,color = '#007acc',alpha=0.5)\n",
    "ax2.xaxis.set_major_locator(mdates.WeekdayLocator())\n",
    "ax2.xaxis.set_major_formatter(mdates.DateFormatter('%b %d'))\n",
    "ax2.set_xticks(ax2.get_xticks()[::3])\n",
    "maxyval = ef.Maharashtra.max()\n",
    "ax2.set_ylim([0,maxyval])\n",
    "ax2.text(0.05, 0.9,'Maharashtra', transform = ax2.transAxes, fontsize=20);\n",
    "ax2.spines['right'].set_visible(False)\n",
    "ax2.spines['top'].set_visible(False)\n",
    "\n",
    "\n",
    "ax3 = fig.add_subplot(gs[1,1])\n",
    "ef = df.loc['Tamil Nadu'].rename_axis('date').reset_index()\n",
    "ef['date'] = ef['date'].astype('datetime64[ns]')\n",
    "ax3.bar(ef.date, ef['Tamil Nadu'],color = '#007acc',alpha=0.5,)\n",
    "ax3.xaxis.set_major_locator(mdates.WeekdayLocator())\n",
    "ax3.xaxis.set_major_formatter(mdates.DateFormatter('%b %d'))\n",
    "ax3.set_xticks(ax3.get_xticks()[::3])\n",
    "ax3.text(0.05, 0.9,'Tamil Nadu', transform = ax3.transAxes, fontsize=20);\n",
    "ax3.spines['right'].set_visible(False)\n",
    "ax3.spines['top'].set_visible(False)\n",
    "\n",
    "ax5 = fig.add_subplot(gs[1,3])\n",
    "ef = df.loc['Telangana'].rename_axis('date').reset_index()\n",
    "ef['date'] = ef['date'].astype('datetime64[ns]')\n",
    "ax5.bar(ef.date, ef['Telangana'],color = '#007acc',alpha=0.5,)\n",
    "ax5.xaxis.set_major_locator(mdates.WeekdayLocator())\n",
    "ax5.xaxis.set_major_formatter(mdates.DateFormatter('%b %d'))\n",
    "ax5.set_xticks(ax5.get_xticks()[::3])\n",
    "ax5.text(0.05, 0.9,'Telangana', transform = ax5.transAxes, fontsize=20);\n",
    "ax5.spines['right'].set_visible(False)\n",
    "ax5.spines['top'].set_visible(False)\n",
    "\n",
    "ax6 = fig.add_subplot(gs[1,4])\n",
    "ef = df.loc['Andhra Pradesh'].rename_axis('date').reset_index()\n",
    "ef['date'] = ef['date'].astype('datetime64[ns]')\n",
    "ax6.bar(ef.date, ef['Andhra Pradesh'],color = '#007acc',alpha=0.5,)\n",
    "ax6.xaxis.set_major_locator(mdates.WeekdayLocator())\n",
    "ax6.xaxis.set_major_formatter(mdates.DateFormatter('%b %d'))\n",
    "ax6.set_xticks(ax6.get_xticks()[::3])\n",
    "ax6.text(0.05, 1,'Andhra Pradesh', transform = ax6.transAxes, fontsize=20);\n",
    "ax6.spines['right'].set_visible(False)\n",
    "ax6.spines['top'].set_visible(False)\n",
    "\n",
    "ax4 = fig.add_subplot(gs[1,2])\n",
    "ef = df.loc['Delhi'].rename_axis('date').reset_index()\n",
    "ef['date'] = ef['date'].astype('datetime64[ns]')\n",
    "ax4.bar(ef.date, ef.Delhi,color = '#007acc',alpha=0.5)\n",
    "ax4.set_xticks([])\n",
    "ax4.xaxis.set_major_locator(mdates.WeekdayLocator())\n",
    "ax4.xaxis.set_major_formatter(mdates.DateFormatter('%b %d'))\n",
    "ax4.set_xticks(ax4.get_xticks()[::3])\n",
    "ax4.spines['right'].set_visible(False)\n",
    "ax4.spines['top'].set_visible(False)\n",
    "\n",
    "ax4.text(0.05, 1,'Delhi', transform = ax4.transAxes, fontsize=20)\n",
    "\n",
    "for i in range(n):\n",
    "    \n",
    "    ax.append(fig.add_subplot(gs[i+2,:]))\n",
    "    ef = df.iloc[i+3].rename_axis('date').reset_index()\n",
    "    ef['date'] = ef['date'].astype('datetime64[ns]')\n",
    "    ax[i].bar(ef.date,ef.iloc[:,-1],color = '#007acc',alpha=0.3)\n",
    "    ax[i].plot(ef.date,ef.iloc[:,-1],marker='o',color='#007acc')\n",
    "    ax[i].text(0.02,0.5,f'{ef.columns.values[-1]}',transform = ax[i].transAxes, fontsize = 20);\n",
    "    ax[i].xaxis.set_major_locator(mdates.WeekdayLocator())\n",
    "    ax[i].xaxis.set_major_formatter(mdates.DateFormatter('%b %d'))\n",
    "    ax[i].set_ylim([0,7000])\n",
    "    ax[i].spines['right'].set_visible(False)\n",
    "    ax[i].spines['top'].set_visible(False)\n",
    "plt.tight_layout()\n"
   ]
  },
  {
   "cell_type": "code",
   "execution_count": 20,
   "metadata": {
    "execution": {
     "iopub.execute_input": "2020-08-09T13:51:30.183804Z",
     "iopub.status.busy": "2020-08-09T13:51:30.183221Z",
     "iopub.status.idle": "2020-08-09T13:51:30.185143Z",
     "shell.execute_reply": "2020-08-09T13:51:30.185686Z"
    },
    "papermill": {
     "duration": 0.028304,
     "end_time": "2020-08-09T13:51:30.185803",
     "exception": false,
     "start_time": "2020-08-09T13:51:30.157499",
     "status": "completed"
    },
    "tags": []
   },
   "outputs": [
    {
     "name": "stdout",
     "output_type": "stream",
     "text": [
      "                                   states   Cases  Deaths  PCases  PDeaths  Cases (+)  Deaths (+)  Fatality Rate\n",
      "                              Maharashtra  503084   17367  503084    17367          0           0           3.45\n",
      "                               Tamil Nadu  296901    4927  290907     4808       5994         119           1.66\n",
      "                           Andhra Pradesh  217040    1939  217040     1939          0           0           0.89\n",
      "                                Karnataka  172102    3091  172102     3091          0           0           1.80\n",
      "                                    Delhi  145427    4111  144127     4098       1300          13           2.83\n",
      "                            Uttar Pradesh  122609    2069  118038     2028       4571          41           1.69\n",
      "                              West Bengal   92615    2005   92615     2005          0           0           2.16\n",
      "                                    Bihar   79720     429   75786      419       3934          10           0.54\n",
      "                                Telangana   79495     627   77513      615       1982          12           0.79\n",
      "                                  Gujarat   69986    2627   69986     2627          0           0           3.75\n",
      "                                    Assam   57715     140   57715      140          0           0           0.24\n",
      "                                Rajasthan   51924     784   51328      778        596           6           1.51\n",
      "                                   Odisha   45927     321   44193      307       1734          14           0.70\n",
      "                                  Haryana   40843     474   40843      474          0           0           1.16\n",
      "                           Madhya Pradesh   38157     977   38157      977          0           0           2.56\n",
      "                                   Kerala   34331     109   33120      107       1211           2           0.32\n",
      "                        Jammu and Kashmir   24897     472   24390      459        507          13           1.90\n",
      "                                   Punjab   22928     562   22928      562          0           0           2.45\n",
      "                                Jharkhand   17626     168   17468      160        158           8           0.95\n",
      "                             Chhattisgarh   11855      90   11855       90          0           0           0.76\n",
      "                              Uttarakhand    9402     117    9402      117          0           0           1.24\n",
      "                                      Goa    8206      72    8206       72          0           0           0.88\n",
      "                                  Tripura    6161      41    6014       37        147           4           0.67\n",
      "                               Puducherry    5382      87    5123       80        259           7           1.62\n",
      "                                  Manipur    3753      11    3635       11        118           0           0.29\n",
      "                         Himachal Pradesh    3304      14    3264       13         40           1           0.42\n",
      "                                 Nagaland    2781       8    2688        7         93           1           0.29\n",
      "                        Arunachal Pradesh    2117       3    2117        3          0           0           0.14\n",
      "                                   Ladakh    1639       9    1639        9          0           0           0.55\n",
      " Dadra and Nagar Haveli and Daman and Diu    1510       2    1510        2          0           0           0.13\n",
      "                               Chandigarh    1426      24    1426       24          0           0           1.68\n",
      "              Andaman and Nicobar Islands    1351      20    1351       20          0           0           1.48\n",
      "                                Meghalaya    1061       6    1023        6         38           0           0.57\n",
      "                                   Sikkim     860       1     860        1          0           0           0.12\n",
      "                                  Mizoram     608       0     567        0         41           0           0.00\n",
      "                              Lakshadweep       0       0       0        0          0           0            NaN\n"
     ]
    }
   ],
   "source": [
    "#hide_input\n",
    "print(df_table.to_string(index=False))"
   ]
  },
  {
   "cell_type": "code",
   "execution_count": null,
   "metadata": {
    "papermill": {
     "duration": 0.019091,
     "end_time": "2020-08-09T13:51:30.223969",
     "exception": false,
     "start_time": "2020-08-09T13:51:30.204878",
     "status": "completed"
    },
    "tags": []
   },
   "outputs": [],
   "source": []
  },
  {
   "cell_type": "code",
   "execution_count": null,
   "metadata": {
    "papermill": {
     "duration": 0.017903,
     "end_time": "2020-08-09T13:51:30.259946",
     "exception": false,
     "start_time": "2020-08-09T13:51:30.242043",
     "status": "completed"
    },
    "tags": []
   },
   "outputs": [],
   "source": []
  }
 ],
 "metadata": {
  "kernelspec": {
   "display_name": "Python 3",
   "language": "python",
   "name": "python3"
  },
  "language_info": {
   "codemirror_mode": {
    "name": "ipython",
    "version": 3
   },
   "file_extension": ".py",
   "mimetype": "text/x-python",
   "name": "python",
   "nbconvert_exporter": "python",
   "pygments_lexer": "ipython3",
   "version": "3.6.11"
  },
  "papermill": {
   "duration": 7.237944,
   "end_time": "2020-08-09T13:51:30.587902",
   "environment_variables": {},
   "exception": null,
   "input_path": "latest.ipynb",
   "output_path": "latest.ipynb",
   "parameters": {},
   "start_time": "2020-08-09T13:51:23.349958",
   "version": "2.1.2"
  }
 },
 "nbformat": 4,
 "nbformat_minor": 4
}