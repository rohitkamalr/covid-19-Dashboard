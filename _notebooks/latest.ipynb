{
 "cells": [
  {
   "cell_type": "markdown",
   "metadata": {
    "papermill": {
     "duration": 0.025555,
     "end_time": "2020-11-03T14:22:15.548075",
     "exception": false,
     "start_time": "2020-11-03T14:22:15.522520",
     "status": "completed"
    },
    "tags": []
   },
   "source": [
    "# Latest COVID-19 India Matplotlib Overview"
   ]
  },
  {
   "cell_type": "code",
   "execution_count": 1,
   "metadata": {
    "execution": {
     "iopub.execute_input": "2020-11-03T14:22:15.584161Z",
     "iopub.status.busy": "2020-11-03T14:22:15.583602Z",
     "iopub.status.idle": "2020-11-03T14:22:16.126561Z",
     "shell.execute_reply": "2020-11-03T14:22:16.125657Z"
    },
    "papermill": {
     "duration": 0.563914,
     "end_time": "2020-11-03T14:22:16.126770",
     "exception": false,
     "start_time": "2020-11-03T14:22:15.562856",
     "status": "completed"
    },
    "tags": []
   },
   "outputs": [],
   "source": [
    "#hide\n",
    "import pandas as pd\n",
    "import numpy as np\n",
    "import requests\n",
    "import json\n",
    "import matplotlib.pyplot as plt\n",
    "import matplotlib.dates as mdates\n",
    "import matplotlib as mpl\n",
    "from IPython.core.display import display,HTML\n",
    "%matplotlib inline\n",
    "from datetime import date"
   ]
  },
  {
   "cell_type": "code",
   "execution_count": 2,
   "metadata": {
    "execution": {
     "iopub.execute_input": "2020-11-03T14:22:16.162436Z",
     "iopub.status.busy": "2020-11-03T14:22:16.161831Z",
     "iopub.status.idle": "2020-11-03T14:22:16.585857Z",
     "shell.execute_reply": "2020-11-03T14:22:16.584974Z"
    },
    "papermill": {
     "duration": 0.443853,
     "end_time": "2020-11-03T14:22:16.586078",
     "exception": false,
     "start_time": "2020-11-03T14:22:16.142225",
     "status": "completed"
    },
    "tags": []
   },
   "outputs": [],
   "source": [
    "#hide\n",
    "df  = pd.read_csv('https://api.covid19india.org/csv/latest/states.csv')\n",
    "df = df[['Date','State','Confirmed','Deceased']]\n",
    "df = df.rename(columns={'Confirmed':'Cases', \"Deceased\":'Deaths'})\n",
    "df_cases = df[[\"Date\",'State','Cases']]\n",
    "df_deaths = df[['Date','State','Deaths']]\n",
    "df_cases1 = df_cases.groupby('Date')\n",
    "df_deaths1= df_deaths.groupby('Date')"
   ]
  },
  {
   "cell_type": "code",
   "execution_count": 3,
   "metadata": {
    "execution": {
     "iopub.execute_input": "2020-11-03T14:22:16.620509Z",
     "iopub.status.busy": "2020-11-03T14:22:16.620092Z",
     "iopub.status.idle": "2020-11-03T14:22:16.635169Z",
     "shell.execute_reply": "2020-11-03T14:22:16.634831Z"
    },
    "papermill": {
     "duration": 0.031555,
     "end_time": "2020-11-03T14:22:16.635264",
     "exception": false,
     "start_time": "2020-11-03T14:22:16.603709",
     "status": "completed"
    },
    "tags": []
   },
   "outputs": [],
   "source": [
    "#hide\n",
    "df_snap = pd.read_csv('data/SnapshotCases-28-July.csv')\n",
    "arr_states = df_snap['states'].unique()\n",
    "arr_dates = df['Date'].unique()\n",
    "df_snap = df_snap.set_index('states')"
   ]
  },
  {
   "cell_type": "code",
   "execution_count": 4,
   "metadata": {
    "execution": {
     "iopub.execute_input": "2020-11-03T14:22:16.667108Z",
     "iopub.status.busy": "2020-11-03T14:22:16.662240Z",
     "iopub.status.idle": "2020-11-03T14:22:16.670045Z",
     "shell.execute_reply": "2020-11-03T14:22:16.669616Z"
    },
    "papermill": {
     "duration": 0.022693,
     "end_time": "2020-11-03T14:22:16.670129",
     "exception": false,
     "start_time": "2020-11-03T14:22:16.647436",
     "status": "completed"
    },
    "tags": []
   },
   "outputs": [
    {
     "data": {
      "text/plain": [
       "array(['Andaman and Nicobar Islands', 'Andhra Pradesh',\n",
       "       'Arunachal Pradesh', 'Assam', 'Bihar', 'Chandigarh',\n",
       "       'Dadra and Nagar Haveli and Daman and Diu', 'Delhi', 'Goa',\n",
       "       'Gujarat', 'Haryana', 'Himachal Pradesh', 'Jammu and Kashmir',\n",
       "       'Jharkhand', 'Karnataka', 'Kerala', 'Lakshadweep',\n",
       "       'Madhya Pradesh', 'Maharashtra', 'Manipur', 'Meghalaya', 'Mizoram',\n",
       "       'Nagaland', 'Odisha', 'Puducherry', 'Punjab', 'Rajasthan',\n",
       "       'Sikkim', 'Tamil Nadu', 'Telangana', 'Tripura', 'Uttar Pradesh',\n",
       "       'West Bengal', 'Chhattisgarh', 'Ladakh', 'Uttarakhand'],\n",
       "      dtype=object)"
      ]
     },
     "execution_count": 4,
     "metadata": {},
     "output_type": "execute_result"
    }
   ],
   "source": [
    "#hide\n",
    "arr_states[-9] = 'Puducherry'\n",
    "arr_states[-10] = 'Odisha'\n",
    "arr_states[6] = 'Dadra and Nagar Haveli and Daman and Diu'\n",
    "arr_states = np.append(arr_states,np.array(['Chhattisgarh','Ladakh','Uttarakhand']))\n",
    "arr_states"
   ]
  },
  {
   "cell_type": "code",
   "execution_count": 5,
   "metadata": {
    "execution": {
     "iopub.execute_input": "2020-11-03T14:22:16.710132Z",
     "iopub.status.busy": "2020-11-03T14:22:16.709469Z",
     "iopub.status.idle": "2020-11-03T14:22:16.716691Z",
     "shell.execute_reply": "2020-11-03T14:22:16.716267Z"
    },
    "papermill": {
     "duration": 0.033249,
     "end_time": "2020-11-03T14:22:16.716795",
     "exception": false,
     "start_time": "2020-11-03T14:22:16.683546",
     "status": "completed"
    },
    "tags": []
   },
   "outputs": [],
   "source": [
    "#hide\n",
    "dates = []\n",
    "for i in arr_dates:\n",
    "    if i>='2020-07-01':\n",
    "        dates.append(i)\n",
    "dict = {'states':dates}\n",
    "for i in arr_states:\n",
    "    dict[i] = [0]*len(dates)\n",
    "dft_cases = pd.DataFrame(dict)\n",
    "dft_deaths = pd.DataFrame(dict)\n"
   ]
  },
  {
   "cell_type": "code",
   "execution_count": 6,
   "metadata": {
    "execution": {
     "iopub.execute_input": "2020-11-03T14:22:16.752608Z",
     "iopub.status.busy": "2020-11-03T14:22:16.752044Z",
     "iopub.status.idle": "2020-11-03T14:22:18.277946Z",
     "shell.execute_reply": "2020-11-03T14:22:18.277069Z"
    },
    "papermill": {
     "duration": 1.546751,
     "end_time": "2020-11-03T14:22:18.278167",
     "exception": false,
     "start_time": "2020-11-03T14:22:16.731416",
     "status": "completed"
    },
    "tags": []
   },
   "outputs": [],
   "source": [
    "#hide\n",
    "for i in range(len(dates)):\n",
    "    df1_deaths = df_deaths1.get_group(dates[i])\n",
    "    for j in range(len(df1_deaths.index)):\n",
    "        if df1_deaths.iloc[j,1] in arr_states:\n",
    "            dft_deaths.loc[i,df1_deaths.iloc[j,1]] = df1_deaths.iloc[j,2]\n",
    "dft_deaths = dft_deaths.set_index('states')"
   ]
  },
  {
   "cell_type": "code",
   "execution_count": 7,
   "metadata": {
    "execution": {
     "iopub.execute_input": "2020-11-03T14:22:18.315777Z",
     "iopub.status.busy": "2020-11-03T14:22:18.315330Z",
     "iopub.status.idle": "2020-11-03T14:22:19.821480Z",
     "shell.execute_reply": "2020-11-03T14:22:19.821067Z"
    },
    "papermill": {
     "duration": 1.527138,
     "end_time": "2020-11-03T14:22:19.821583",
     "exception": false,
     "start_time": "2020-11-03T14:22:18.294445",
     "status": "completed"
    },
    "tags": []
   },
   "outputs": [],
   "source": [
    "#hide\n",
    "for i in range(len(dates)):\n",
    "    df1_cases = df_cases1.get_group(dates[i])\n",
    "    for j in range(len(df1_cases.index)):\n",
    "        if df1_cases.iloc[j,1] in arr_states:\n",
    "            dft_cases.loc[i,df1_cases.iloc[j,1]] = df1_cases.iloc[j,2]\n",
    "dft_cases = dft_cases.set_index('states')"
   ]
  },
  {
   "cell_type": "code",
   "execution_count": 8,
   "metadata": {
    "execution": {
     "iopub.execute_input": "2020-11-03T14:22:19.859969Z",
     "iopub.status.busy": "2020-11-03T14:22:19.859386Z",
     "iopub.status.idle": "2020-11-03T14:22:19.861537Z",
     "shell.execute_reply": "2020-11-03T14:22:19.861919Z"
    },
    "papermill": {
     "duration": 0.023096,
     "end_time": "2020-11-03T14:22:19.862059",
     "exception": false,
     "start_time": "2020-11-03T14:22:19.838963",
     "status": "completed"
    },
    "tags": []
   },
   "outputs": [],
   "source": [
    "#hide\n",
    "dft_cases = dft_cases.T\n",
    "dft_deaths = dft_deaths.T\n",
    "dt_today = dates[-1]\n",
    "dt_yday = dates[-2]"
   ]
  },
  {
   "cell_type": "code",
   "execution_count": 9,
   "metadata": {
    "execution": {
     "iopub.execute_input": "2020-11-03T14:22:19.895973Z",
     "iopub.status.busy": "2020-11-03T14:22:19.895490Z",
     "iopub.status.idle": "2020-11-03T14:22:19.897693Z",
     "shell.execute_reply": "2020-11-03T14:22:19.897172Z"
    },
    "papermill": {
     "duration": 0.021613,
     "end_time": "2020-11-03T14:22:19.897813",
     "exception": false,
     "start_time": "2020-11-03T14:22:19.876200",
     "status": "completed"
    },
    "tags": []
   },
   "outputs": [],
   "source": [
    "#hide\n",
    "dft_cases = dft_cases.reset_index()\n",
    "dft_deaths = dft_deaths.reset_index()\n",
    "dft_cases = dft_cases.rename(columns = {'index':'state'})\n",
    "dft_deaths = dft_deaths.rename(columns = {'index':'state'})"
   ]
  },
  {
   "cell_type": "code",
   "execution_count": 10,
   "metadata": {
    "execution": {
     "iopub.execute_input": "2020-11-03T14:22:19.937401Z",
     "iopub.status.busy": "2020-11-03T14:22:19.936804Z",
     "iopub.status.idle": "2020-11-03T14:22:19.938880Z",
     "shell.execute_reply": "2020-11-03T14:22:19.938381Z"
    },
    "papermill": {
     "duration": 0.027358,
     "end_time": "2020-11-03T14:22:19.938991",
     "exception": false,
     "start_time": "2020-11-03T14:22:19.911633",
     "status": "completed"
    },
    "tags": []
   },
   "outputs": [],
   "source": [
    "#hide\n",
    "dfc_cases = dft_cases.groupby('state')[dt_today].sum()\n",
    "dfc_deaths = dft_deaths.groupby('state')[dt_today].sum()\n",
    "dfp_cases = dft_cases.groupby('state')[dt_yday].sum()\n",
    "dfp_deaths = dft_deaths.groupby('state')[dt_yday].sum()"
   ]
  },
  {
   "cell_type": "code",
   "execution_count": 11,
   "metadata": {
    "execution": {
     "iopub.execute_input": "2020-11-03T14:22:19.974915Z",
     "iopub.status.busy": "2020-11-03T14:22:19.974499Z",
     "iopub.status.idle": "2020-11-03T14:22:19.985776Z",
     "shell.execute_reply": "2020-11-03T14:22:19.985301Z"
    },
    "papermill": {
     "duration": 0.032759,
     "end_time": "2020-11-03T14:22:19.985888",
     "exception": false,
     "start_time": "2020-11-03T14:22:19.953129",
     "status": "completed"
    },
    "tags": []
   },
   "outputs": [
    {
     "data": {
      "text/html": [
       "<div>\n",
       "<style scoped>\n",
       "    .dataframe tbody tr th:only-of-type {\n",
       "        vertical-align: middle;\n",
       "    }\n",
       "\n",
       "    .dataframe tbody tr th {\n",
       "        vertical-align: top;\n",
       "    }\n",
       "\n",
       "    .dataframe thead th {\n",
       "        text-align: right;\n",
       "    }\n",
       "</style>\n",
       "<table border=\"1\" class=\"dataframe\">\n",
       "  <thead>\n",
       "    <tr style=\"text-align: right;\">\n",
       "      <th></th>\n",
       "      <th>states</th>\n",
       "      <th>Cases</th>\n",
       "      <th>Deaths</th>\n",
       "      <th>PCases</th>\n",
       "      <th>PDeaths</th>\n",
       "    </tr>\n",
       "  </thead>\n",
       "  <tbody>\n",
       "    <tr>\n",
       "      <th>0</th>\n",
       "      <td>Maharashtra</td>\n",
       "      <td>1687784</td>\n",
       "      <td>44128</td>\n",
       "      <td>1687784</td>\n",
       "      <td>44128</td>\n",
       "    </tr>\n",
       "    <tr>\n",
       "      <th>1</th>\n",
       "      <td>Karnataka</td>\n",
       "      <td>829640</td>\n",
       "      <td>11221</td>\n",
       "      <td>829640</td>\n",
       "      <td>11221</td>\n",
       "    </tr>\n",
       "    <tr>\n",
       "      <th>2</th>\n",
       "      <td>Andhra Pradesh</td>\n",
       "      <td>827882</td>\n",
       "      <td>6719</td>\n",
       "      <td>827882</td>\n",
       "      <td>6719</td>\n",
       "    </tr>\n",
       "    <tr>\n",
       "      <th>3</th>\n",
       "      <td>Tamil Nadu</td>\n",
       "      <td>729507</td>\n",
       "      <td>11183</td>\n",
       "      <td>729507</td>\n",
       "      <td>11183</td>\n",
       "    </tr>\n",
       "    <tr>\n",
       "      <th>4</th>\n",
       "      <td>Uttar Pradesh</td>\n",
       "      <td>485609</td>\n",
       "      <td>7076</td>\n",
       "      <td>485609</td>\n",
       "      <td>7076</td>\n",
       "    </tr>\n",
       "  </tbody>\n",
       "</table>\n",
       "</div>"
      ],
      "text/plain": [
       "           states    Cases  Deaths   PCases  PDeaths\n",
       "0     Maharashtra  1687784   44128  1687784    44128\n",
       "1       Karnataka   829640   11221   829640    11221\n",
       "2  Andhra Pradesh   827882    6719   827882     6719\n",
       "3      Tamil Nadu   729507   11183   729507    11183\n",
       "4   Uttar Pradesh   485609    7076   485609     7076"
      ]
     },
     "execution_count": 11,
     "metadata": {},
     "output_type": "execute_result"
    }
   ],
   "source": [
    "#hide\n",
    "df_table = pd.DataFrame({'states': dfc_cases.index, 'Cases': dfc_cases.values, 'Deaths': dfc_deaths.values, 'PCases': dfp_cases.values, 'PDeaths': dfp_deaths.values}).set_index('states')\n",
    "df_table = df_table.sort_values(by = ['Cases','Deaths'], ascending = [False, False])\n",
    "df_table = df_table.reset_index()\n",
    "df_table.head()"
   ]
  },
  {
   "cell_type": "code",
   "execution_count": 12,
   "metadata": {
    "execution": {
     "iopub.execute_input": "2020-11-03T14:22:20.026387Z",
     "iopub.status.busy": "2020-11-03T14:22:20.019176Z",
     "iopub.status.idle": "2020-11-03T14:22:20.029478Z",
     "shell.execute_reply": "2020-11-03T14:22:20.029016Z"
    },
    "papermill": {
     "duration": 0.030305,
     "end_time": "2020-11-03T14:22:20.029591",
     "exception": false,
     "start_time": "2020-11-03T14:22:19.999286",
     "status": "completed"
    },
    "tags": []
   },
   "outputs": [],
   "source": [
    "#hide\n",
    "for c in 'Cases, Deaths'.split(', '):\n",
    "    df_table[f'{c} (+)'] = (df_table[c] - df_table[f'P{c}']).clip(0)\n",
    "df_table['Fatality Rate'] = (100* df_table['Deaths']/ df_table['Cases']).round(2)"
   ]
  },
  {
   "cell_type": "code",
   "execution_count": 13,
   "metadata": {
    "execution": {
     "iopub.execute_input": "2020-11-03T14:22:20.070147Z",
     "iopub.status.busy": "2020-11-03T14:22:20.069605Z",
     "iopub.status.idle": "2020-11-03T14:22:20.072420Z",
     "shell.execute_reply": "2020-11-03T14:22:20.071945Z"
    },
    "papermill": {
     "duration": 0.028408,
     "end_time": "2020-11-03T14:22:20.072544",
     "exception": false,
     "start_time": "2020-11-03T14:22:20.044136",
     "status": "completed"
    },
    "tags": []
   },
   "outputs": [
    {
     "data": {
      "text/html": [
       "<div>\n",
       "<style scoped>\n",
       "    .dataframe tbody tr th:only-of-type {\n",
       "        vertical-align: middle;\n",
       "    }\n",
       "\n",
       "    .dataframe tbody tr th {\n",
       "        vertical-align: top;\n",
       "    }\n",
       "\n",
       "    .dataframe thead th {\n",
       "        text-align: right;\n",
       "    }\n",
       "</style>\n",
       "<table border=\"1\" class=\"dataframe\">\n",
       "  <thead>\n",
       "    <tr style=\"text-align: right;\">\n",
       "      <th></th>\n",
       "      <th>states</th>\n",
       "      <th>Cases</th>\n",
       "      <th>Deaths</th>\n",
       "      <th>PCases</th>\n",
       "      <th>PDeaths</th>\n",
       "      <th>Cases (+)</th>\n",
       "      <th>Deaths (+)</th>\n",
       "      <th>Fatality Rate</th>\n",
       "    </tr>\n",
       "  </thead>\n",
       "  <tbody>\n",
       "    <tr>\n",
       "      <th>0</th>\n",
       "      <td>Maharashtra</td>\n",
       "      <td>1687784</td>\n",
       "      <td>44128</td>\n",
       "      <td>1687784</td>\n",
       "      <td>44128</td>\n",
       "      <td>0</td>\n",
       "      <td>0</td>\n",
       "      <td>2.61</td>\n",
       "    </tr>\n",
       "    <tr>\n",
       "      <th>1</th>\n",
       "      <td>Karnataka</td>\n",
       "      <td>829640</td>\n",
       "      <td>11221</td>\n",
       "      <td>829640</td>\n",
       "      <td>11221</td>\n",
       "      <td>0</td>\n",
       "      <td>0</td>\n",
       "      <td>1.35</td>\n",
       "    </tr>\n",
       "    <tr>\n",
       "      <th>2</th>\n",
       "      <td>Andhra Pradesh</td>\n",
       "      <td>827882</td>\n",
       "      <td>6719</td>\n",
       "      <td>827882</td>\n",
       "      <td>6719</td>\n",
       "      <td>0</td>\n",
       "      <td>0</td>\n",
       "      <td>0.81</td>\n",
       "    </tr>\n",
       "    <tr>\n",
       "      <th>3</th>\n",
       "      <td>Tamil Nadu</td>\n",
       "      <td>729507</td>\n",
       "      <td>11183</td>\n",
       "      <td>729507</td>\n",
       "      <td>11183</td>\n",
       "      <td>0</td>\n",
       "      <td>0</td>\n",
       "      <td>1.53</td>\n",
       "    </tr>\n",
       "    <tr>\n",
       "      <th>4</th>\n",
       "      <td>Uttar Pradesh</td>\n",
       "      <td>485609</td>\n",
       "      <td>7076</td>\n",
       "      <td>485609</td>\n",
       "      <td>7076</td>\n",
       "      <td>0</td>\n",
       "      <td>0</td>\n",
       "      <td>1.46</td>\n",
       "    </tr>\n",
       "  </tbody>\n",
       "</table>\n",
       "</div>"
      ],
      "text/plain": [
       "           states    Cases  Deaths   PCases  PDeaths  Cases (+)  Deaths (+)  \\\n",
       "0     Maharashtra  1687784   44128  1687784    44128          0           0   \n",
       "1       Karnataka   829640   11221   829640    11221          0           0   \n",
       "2  Andhra Pradesh   827882    6719   827882     6719          0           0   \n",
       "3      Tamil Nadu   729507   11183   729507    11183          0           0   \n",
       "4   Uttar Pradesh   485609    7076   485609     7076          0           0   \n",
       "\n",
       "   Fatality Rate  \n",
       "0           2.61  \n",
       "1           1.35  \n",
       "2           0.81  \n",
       "3           1.53  \n",
       "4           1.46  "
      ]
     },
     "execution_count": 13,
     "metadata": {},
     "output_type": "execute_result"
    }
   ],
   "source": [
    "#hide\n",
    "df_table.head()"
   ]
  },
  {
   "cell_type": "code",
   "execution_count": 14,
   "metadata": {
    "execution": {
     "iopub.execute_input": "2020-11-03T14:22:20.106373Z",
     "iopub.status.busy": "2020-11-03T14:22:20.105898Z",
     "iopub.status.idle": "2020-11-03T14:22:20.120530Z",
     "shell.execute_reply": "2020-11-03T14:22:20.120192Z"
    },
    "papermill": {
     "duration": 0.03304,
     "end_time": "2020-11-03T14:22:20.120651",
     "exception": false,
     "start_time": "2020-11-03T14:22:20.087611",
     "status": "completed"
    },
    "tags": []
   },
   "outputs": [
    {
     "data": {
      "text/plain": [
       "{'updated': '2020-11-03',\n",
       " 'since': '2020-11-02',\n",
       " 'Cases': 8269798,\n",
       " 'PCases': 8266914,\n",
       " 'Deaths': 123155,\n",
       " 'PDeaths': 123139,\n",
       " 'Cases (+)': 2884,\n",
       " 'Deaths (+)': 16}"
      ]
     },
     "execution_count": 14,
     "metadata": {},
     "output_type": "execute_result"
    }
   ],
   "source": [
    "#hide\n",
    "summary = {'updated':dates[-1], 'since':dates[-2]}\n",
    "list_names = ['Cases', 'PCases', 'Deaths', 'PDeaths', 'Cases (+)', 'Deaths (+)']\n",
    "for name in list_names:\n",
    "    summary[name] = df_table.sum()[name]\n",
    "summary"
   ]
  },
  {
   "cell_type": "code",
   "execution_count": 15,
   "metadata": {
    "execution": {
     "iopub.execute_input": "2020-11-03T14:22:20.152738Z",
     "iopub.status.busy": "2020-11-03T14:22:20.152135Z",
     "iopub.status.idle": "2020-11-03T14:22:20.154218Z",
     "shell.execute_reply": "2020-11-03T14:22:20.153834Z"
    },
    "papermill": {
     "duration": 0.019748,
     "end_time": "2020-11-03T14:22:20.154313",
     "exception": false,
     "start_time": "2020-11-03T14:22:20.134565",
     "status": "completed"
    },
    "tags": []
   },
   "outputs": [],
   "source": [
    "#hide\n",
    "overview = '''\n",
    "<!-- #######  HTML!! #########-->\n",
    "<h1 style=\"color: #5e9ca0; text-align: center;\">India</h1>\n",
    "<p style=\"text-align: center;\">Last update: <strong>{update}</strong></p>\n",
    "<p style=\"text-align: center;\">Confirmed cases:</p>\n",
    "<p style=\"text-align: center;font-size:24px;\">{cases} (<span style=\"color: #ff0000;\">+{new}</span>)</p>\n",
    "<p style=\"text-align: center;\">Confirmed deaths:</p>\n",
    "<p style=\"text-align: center;font-size:24px;\">{deaths} (<span style=\"color: #ff0000;\">+{dnew}</span>)</p>\n",
    "'''"
   ]
  },
  {
   "cell_type": "code",
   "execution_count": 16,
   "metadata": {
    "execution": {
     "iopub.execute_input": "2020-11-03T14:22:20.188128Z",
     "iopub.status.busy": "2020-11-03T14:22:20.187553Z",
     "iopub.status.idle": "2020-11-03T14:22:20.190190Z",
     "shell.execute_reply": "2020-11-03T14:22:20.190596Z"
    },
    "papermill": {
     "duration": 0.022214,
     "end_time": "2020-11-03T14:22:20.190703",
     "exception": false,
     "start_time": "2020-11-03T14:22:20.168489",
     "status": "completed"
    },
    "tags": []
   },
   "outputs": [
    {
     "data": {
      "text/html": [
       "\n",
       "<!-- #######  HTML!! #########-->\n",
       "<h1 style=\"color: #5e9ca0; text-align: center;\">India</h1>\n",
       "<p style=\"text-align: center;\">Last update: <strong>2020-11-03</strong></p>\n",
       "<p style=\"text-align: center;\">Confirmed cases:</p>\n",
       "<p style=\"text-align: center;font-size:24px;\">8269798 (<span style=\"color: #ff0000;\">+2884</span>)</p>\n",
       "<p style=\"text-align: center;\">Confirmed deaths:</p>\n",
       "<p style=\"text-align: center;font-size:24px;\">123155 (<span style=\"color: #ff0000;\">+16</span>)</p>\n"
      ],
      "text/plain": [
       "<IPython.core.display.HTML object>"
      ]
     },
     "metadata": {},
     "output_type": "display_data"
    }
   ],
   "source": [
    "#hide_input\n",
    "update = summary['updated']\n",
    "cases = summary['Cases']\n",
    "new = summary['Cases (+)']\n",
    "deaths = summary['Deaths']\n",
    "dnew = summary['Deaths (+)']\n",
    "\n",
    "html = HTML(overview.format(update=update, cases=cases,new=new,deaths=deaths,dnew=dnew))\n",
    "\n",
    "display(html)"
   ]
  },
  {
   "cell_type": "code",
   "execution_count": 17,
   "metadata": {
    "execution": {
     "iopub.execute_input": "2020-11-03T14:22:20.237378Z",
     "iopub.status.busy": "2020-11-03T14:22:20.236785Z",
     "iopub.status.idle": "2020-11-03T14:22:20.248087Z",
     "shell.execute_reply": "2020-11-03T14:22:20.247598Z"
    },
    "papermill": {
     "duration": 0.042793,
     "end_time": "2020-11-03T14:22:20.248202",
     "exception": false,
     "start_time": "2020-11-03T14:22:20.205409",
     "status": "completed"
    },
    "tags": []
   },
   "outputs": [],
   "source": [
    "#hide\n",
    "dt_cols = list(dft_cases.columns[1:])\n",
    "dft_ct_new_cases = dft_cases.groupby('state')[dt_cols].sum().diff(axis=1).fillna(0).astype(int)\n",
    "dft_ct_new_cases.sort_values(by = dates[-1], ascending = False,inplace = True)"
   ]
  },
  {
   "cell_type": "code",
   "execution_count": 18,
   "metadata": {
    "execution": {
     "iopub.execute_input": "2020-11-03T14:22:20.289411Z",
     "iopub.status.busy": "2020-11-03T14:22:20.288998Z",
     "iopub.status.idle": "2020-11-03T14:22:20.298173Z",
     "shell.execute_reply": "2020-11-03T14:22:20.297710Z"
    },
    "papermill": {
     "duration": 0.035611,
     "end_time": "2020-11-03T14:22:20.298293",
     "exception": false,
     "start_time": "2020-11-03T14:22:20.262682",
     "status": "completed"
    },
    "tags": []
   },
   "outputs": [
    {
     "data": {
      "text/html": [
       "<div>\n",
       "<style scoped>\n",
       "    .dataframe tbody tr th:only-of-type {\n",
       "        vertical-align: middle;\n",
       "    }\n",
       "\n",
       "    .dataframe tbody tr th {\n",
       "        vertical-align: top;\n",
       "    }\n",
       "\n",
       "    .dataframe thead th {\n",
       "        text-align: right;\n",
       "    }\n",
       "</style>\n",
       "<table border=\"1\" class=\"dataframe\">\n",
       "  <thead>\n",
       "    <tr style=\"text-align: right;\">\n",
       "      <th>states</th>\n",
       "      <th>2020-07-01</th>\n",
       "      <th>2020-07-02</th>\n",
       "      <th>2020-07-03</th>\n",
       "      <th>2020-07-04</th>\n",
       "      <th>2020-07-05</th>\n",
       "      <th>2020-07-06</th>\n",
       "      <th>2020-07-07</th>\n",
       "      <th>2020-07-08</th>\n",
       "      <th>2020-07-09</th>\n",
       "      <th>2020-07-10</th>\n",
       "      <th>...</th>\n",
       "      <th>2020-10-25</th>\n",
       "      <th>2020-10-26</th>\n",
       "      <th>2020-10-27</th>\n",
       "      <th>2020-10-28</th>\n",
       "      <th>2020-10-29</th>\n",
       "      <th>2020-10-30</th>\n",
       "      <th>2020-10-31</th>\n",
       "      <th>2020-11-01</th>\n",
       "      <th>2020-11-02</th>\n",
       "      <th>2020-11-03</th>\n",
       "    </tr>\n",
       "    <tr>\n",
       "      <th>state</th>\n",
       "      <th></th>\n",
       "      <th></th>\n",
       "      <th></th>\n",
       "      <th></th>\n",
       "      <th></th>\n",
       "      <th></th>\n",
       "      <th></th>\n",
       "      <th></th>\n",
       "      <th></th>\n",
       "      <th></th>\n",
       "      <th></th>\n",
       "      <th></th>\n",
       "      <th></th>\n",
       "      <th></th>\n",
       "      <th></th>\n",
       "      <th></th>\n",
       "      <th></th>\n",
       "      <th></th>\n",
       "      <th></th>\n",
       "      <th></th>\n",
       "      <th></th>\n",
       "    </tr>\n",
       "  </thead>\n",
       "  <tbody>\n",
       "    <tr>\n",
       "      <th>Telangana</th>\n",
       "      <td>0</td>\n",
       "      <td>1213</td>\n",
       "      <td>1892</td>\n",
       "      <td>1850</td>\n",
       "      <td>1590</td>\n",
       "      <td>1831</td>\n",
       "      <td>1879</td>\n",
       "      <td>1924</td>\n",
       "      <td>1410</td>\n",
       "      <td>1278</td>\n",
       "      <td>...</td>\n",
       "      <td>978</td>\n",
       "      <td>582</td>\n",
       "      <td>837</td>\n",
       "      <td>1481</td>\n",
       "      <td>1504</td>\n",
       "      <td>1531</td>\n",
       "      <td>1445</td>\n",
       "      <td>1416</td>\n",
       "      <td>922</td>\n",
       "      <td>1536</td>\n",
       "    </tr>\n",
       "    <tr>\n",
       "      <th>Odisha</th>\n",
       "      <td>0</td>\n",
       "      <td>229</td>\n",
       "      <td>561</td>\n",
       "      <td>495</td>\n",
       "      <td>469</td>\n",
       "      <td>456</td>\n",
       "      <td>571</td>\n",
       "      <td>527</td>\n",
       "      <td>577</td>\n",
       "      <td>755</td>\n",
       "      <td>...</td>\n",
       "      <td>1633</td>\n",
       "      <td>1480</td>\n",
       "      <td>1247</td>\n",
       "      <td>1540</td>\n",
       "      <td>1617</td>\n",
       "      <td>1547</td>\n",
       "      <td>1470</td>\n",
       "      <td>1709</td>\n",
       "      <td>1389</td>\n",
       "      <td>1201</td>\n",
       "    </tr>\n",
       "    <tr>\n",
       "      <th>Puducherry</th>\n",
       "      <td>0</td>\n",
       "      <td>63</td>\n",
       "      <td>22</td>\n",
       "      <td>80</td>\n",
       "      <td>42</td>\n",
       "      <td>65</td>\n",
       "      <td>30</td>\n",
       "      <td>110</td>\n",
       "      <td>49</td>\n",
       "      <td>72</td>\n",
       "      <td>...</td>\n",
       "      <td>81</td>\n",
       "      <td>143</td>\n",
       "      <td>146</td>\n",
       "      <td>101</td>\n",
       "      <td>178</td>\n",
       "      <td>147</td>\n",
       "      <td>105</td>\n",
       "      <td>96</td>\n",
       "      <td>69</td>\n",
       "      <td>147</td>\n",
       "    </tr>\n",
       "    <tr>\n",
       "      <th>Andaman and Nicobar Islands</th>\n",
       "      <td>0</td>\n",
       "      <td>9</td>\n",
       "      <td>7</td>\n",
       "      <td>3</td>\n",
       "      <td>6</td>\n",
       "      <td>16</td>\n",
       "      <td>6</td>\n",
       "      <td>2</td>\n",
       "      <td>7</td>\n",
       "      <td>0</td>\n",
       "      <td>...</td>\n",
       "      <td>20</td>\n",
       "      <td>8</td>\n",
       "      <td>21</td>\n",
       "      <td>15</td>\n",
       "      <td>16</td>\n",
       "      <td>12</td>\n",
       "      <td>15</td>\n",
       "      <td>8</td>\n",
       "      <td>12</td>\n",
       "      <td>0</td>\n",
       "    </tr>\n",
       "    <tr>\n",
       "      <th>Maharashtra</th>\n",
       "      <td>0</td>\n",
       "      <td>6328</td>\n",
       "      <td>6364</td>\n",
       "      <td>7074</td>\n",
       "      <td>6555</td>\n",
       "      <td>5368</td>\n",
       "      <td>5134</td>\n",
       "      <td>6603</td>\n",
       "      <td>6875</td>\n",
       "      <td>7862</td>\n",
       "      <td>...</td>\n",
       "      <td>6059</td>\n",
       "      <td>3645</td>\n",
       "      <td>5363</td>\n",
       "      <td>6738</td>\n",
       "      <td>5902</td>\n",
       "      <td>6190</td>\n",
       "      <td>5548</td>\n",
       "      <td>5369</td>\n",
       "      <td>4009</td>\n",
       "      <td>0</td>\n",
       "    </tr>\n",
       "  </tbody>\n",
       "</table>\n",
       "<p>5 rows × 126 columns</p>\n",
       "</div>"
      ],
      "text/plain": [
       "states                       2020-07-01  2020-07-02  2020-07-03  2020-07-04  \\\n",
       "state                                                                         \n",
       "Telangana                             0        1213        1892        1850   \n",
       "Odisha                                0         229         561         495   \n",
       "Puducherry                            0          63          22          80   \n",
       "Andaman and Nicobar Islands           0           9           7           3   \n",
       "Maharashtra                           0        6328        6364        7074   \n",
       "\n",
       "states                       2020-07-05  2020-07-06  2020-07-07  2020-07-08  \\\n",
       "state                                                                         \n",
       "Telangana                          1590        1831        1879        1924   \n",
       "Odisha                              469         456         571         527   \n",
       "Puducherry                           42          65          30         110   \n",
       "Andaman and Nicobar Islands           6          16           6           2   \n",
       "Maharashtra                        6555        5368        5134        6603   \n",
       "\n",
       "states                       2020-07-09  2020-07-10  ...  2020-10-25  \\\n",
       "state                                                ...               \n",
       "Telangana                          1410        1278  ...         978   \n",
       "Odisha                              577         755  ...        1633   \n",
       "Puducherry                           49          72  ...          81   \n",
       "Andaman and Nicobar Islands           7           0  ...          20   \n",
       "Maharashtra                        6875        7862  ...        6059   \n",
       "\n",
       "states                       2020-10-26  2020-10-27  2020-10-28  2020-10-29  \\\n",
       "state                                                                         \n",
       "Telangana                           582         837        1481        1504   \n",
       "Odisha                             1480        1247        1540        1617   \n",
       "Puducherry                          143         146         101         178   \n",
       "Andaman and Nicobar Islands           8          21          15          16   \n",
       "Maharashtra                        3645        5363        6738        5902   \n",
       "\n",
       "states                       2020-10-30  2020-10-31  2020-11-01  2020-11-02  \\\n",
       "state                                                                         \n",
       "Telangana                          1531        1445        1416         922   \n",
       "Odisha                             1547        1470        1709        1389   \n",
       "Puducherry                          147         105          96          69   \n",
       "Andaman and Nicobar Islands          12          15           8          12   \n",
       "Maharashtra                        6190        5548        5369        4009   \n",
       "\n",
       "states                       2020-11-03  \n",
       "state                                    \n",
       "Telangana                          1536  \n",
       "Odisha                             1201  \n",
       "Puducherry                          147  \n",
       "Andaman and Nicobar Islands           0  \n",
       "Maharashtra                           0  \n",
       "\n",
       "[5 rows x 126 columns]"
      ]
     },
     "execution_count": 18,
     "metadata": {},
     "output_type": "execute_result"
    }
   ],
   "source": [
    "#hide\n",
    "dft_ct_new_cases.head()"
   ]
  },
  {
   "cell_type": "code",
   "execution_count": 19,
   "metadata": {
    "execution": {
     "iopub.execute_input": "2020-11-03T14:22:20.341195Z",
     "iopub.status.busy": "2020-11-03T14:22:20.335988Z",
     "iopub.status.idle": "2020-11-03T14:22:24.523384Z",
     "shell.execute_reply": "2020-11-03T14:22:24.523712Z"
    },
    "papermill": {
     "duration": 4.209602,
     "end_time": "2020-11-03T14:22:24.523855",
     "exception": false,
     "start_time": "2020-11-03T14:22:20.314253",
     "status": "completed"
    },
    "tags": []
   },
   "outputs": [
    {
     "data": {
      "image/png": "[encoded data removed]",
      "text/plain": [
       "<Figure size 1296x2016 with 11 Axes>"
      ]
     },
     "metadata": {
      "needs_background": "light"
     },
     "output_type": "display_data"
    }
   ],
   "source": [
    "#hide_input\n",
    "df = dft_ct_new_cases.copy()\n",
    "df.loc['Total'] = df.sum()\n",
    "n = 5\n",
    "ax = []\n",
    "fig = plt.figure(figsize = (18,28))\n",
    "gs = fig.add_gridspec(n+2, 5)\n",
    "# gs = fig.add_gridspec(2, 3)\n",
    "ax1 = fig.add_subplot(gs[0, :])\n",
    "ef = df.loc['Total'].rename_axis('date').reset_index()\n",
    "ef['date'] = ef['date'].astype('datetime64[ns]')\n",
    "ax1.bar(ef.date,ef.Total,alpha=0.3,color='#007acc')\n",
    "ax1.plot(ef.date,ef.Total , marker=\"o\", color='#007acc')\n",
    "ax1.xaxis.set_major_locator(mdates.WeekdayLocator())\n",
    "ax1.xaxis.set_major_formatter(mdates.DateFormatter('%b %d'))\n",
    "ax1.text(0.02, 0.5,'India daily case count', transform = ax1.transAxes, fontsize=25);\n",
    "ax1.spines['right'].set_visible(False)\n",
    "ax1.spines['top'].set_visible(False)\n",
    "\n",
    "ax2 = fig.add_subplot(gs[1,0])\n",
    "ef = df.loc['Maharashtra'].rename_axis('date').reset_index()\n",
    "ef['date'] = ef['date'].astype('datetime64[ns]')\n",
    "\n",
    "ax2.bar(ef.date, ef.Maharashtra,color = '#007acc',alpha=0.5)\n",
    "ax2.xaxis.set_major_locator(mdates.WeekdayLocator())\n",
    "ax2.xaxis.set_major_formatter(mdates.DateFormatter('%b %d'))\n",
    "ax2.set_xticks(ax2.get_xticks()[::3])\n",
    "maxyval = ef.Maharashtra.max()\n",
    "ax2.set_ylim([0,maxyval])\n",
    "ax2.text(0.05, 0.9,'Maharashtra', transform = ax2.transAxes, fontsize=20);\n",
    "ax2.spines['right'].set_visible(False)\n",
    "ax2.spines['top'].set_visible(False)\n",
    "\n",
    "\n",
    "ax3 = fig.add_subplot(gs[1,1])\n",
    "ef = df.loc['Tamil Nadu'].rename_axis('date').reset_index()\n",
    "ef['date'] = ef['date'].astype('datetime64[ns]')\n",
    "ax3.bar(ef.date, ef['Tamil Nadu'],color = '#007acc',alpha=0.5,)\n",
    "ax3.xaxis.set_major_locator(mdates.WeekdayLocator())\n",
    "ax3.xaxis.set_major_formatter(mdates.DateFormatter('%b %d'))\n",
    "ax3.set_xticks(ax3.get_xticks()[::3])\n",
    "ax3.text(0.05, 0.9,'Tamil Nadu', transform = ax3.transAxes, fontsize=20);\n",
    "ax3.spines['right'].set_visible(False)\n",
    "ax3.spines['top'].set_visible(False)\n",
    "\n",
    "ax5 = fig.add_subplot(gs[1,3])\n",
    "ef = df.loc['Telangana'].rename_axis('date').reset_index()\n",
    "ef['date'] = ef['date'].astype('datetime64[ns]')\n",
    "ax5.bar(ef.date, ef['Telangana'],color = '#007acc',alpha=0.5,)\n",
    "ax5.xaxis.set_major_locator(mdates.WeekdayLocator())\n",
    "ax5.xaxis.set_major_formatter(mdates.DateFormatter('%b %d'))\n",
    "ax5.set_xticks(ax5.get_xticks()[::3])\n",
    "ax5.text(0.05, 0.9,'Telangana', transform = ax5.transAxes, fontsize=20);\n",
    "ax5.spines['right'].set_visible(False)\n",
    "ax5.spines['top'].set_visible(False)\n",
    "\n",
    "ax6 = fig.add_subplot(gs[1,4])\n",
    "ef = df.loc['Andhra Pradesh'].rename_axis('date').reset_index()\n",
    "ef['date'] = ef['date'].astype('datetime64[ns]')\n",
    "ax6.bar(ef.date, ef['Andhra Pradesh'],color = '#007acc',alpha=0.5,)\n",
    "ax6.xaxis.set_major_locator(mdates.WeekdayLocator())\n",
    "ax6.xaxis.set_major_formatter(mdates.DateFormatter('%b %d'))\n",
    "ax6.set_xticks(ax6.get_xticks()[::3])\n",
    "ax6.text(0.05, 1,'Andhra Pradesh', transform = ax6.transAxes, fontsize=20);\n",
    "ax6.spines['right'].set_visible(False)\n",
    "ax6.spines['top'].set_visible(False)\n",
    "\n",
    "ax4 = fig.add_subplot(gs[1,2])\n",
    "ef = df.loc['Delhi'].rename_axis('date').reset_index()\n",
    "ef['date'] = ef['date'].astype('datetime64[ns]')\n",
    "ax4.bar(ef.date, ef.Delhi,color = '#007acc',alpha=0.5)\n",
    "ax4.set_xticks([])\n",
    "ax4.xaxis.set_major_locator(mdates.WeekdayLocator())\n",
    "ax4.xaxis.set_major_formatter(mdates.DateFormatter('%b %d'))\n",
    "ax4.set_xticks(ax4.get_xticks()[::3])\n",
    "ax4.spines['right'].set_visible(False)\n",
    "ax4.spines['top'].set_visible(False)\n",
    "\n",
    "ax4.text(0.05, 1,'Delhi', transform = ax4.transAxes, fontsize=20)\n",
    "\n",
    "for i in range(n):\n",
    "    \n",
    "    ax.append(fig.add_subplot(gs[i+2,:]))\n",
    "    ef = df.iloc[i+3].rename_axis('date').reset_index()\n",
    "    ef['date'] = ef['date'].astype('datetime64[ns]')\n",
    "    ax[i].bar(ef.date,ef.iloc[:,-1],color = '#007acc',alpha=0.3)\n",
    "    ax[i].plot(ef.date,ef.iloc[:,-1],marker='o',color='#007acc')\n",
    "    ax[i].text(0.02,0.5,f'{ef.columns.values[-1]}',transform = ax[i].transAxes, fontsize = 20);\n",
    "    ax[i].xaxis.set_major_locator(mdates.WeekdayLocator())\n",
    "    ax[i].xaxis.set_major_formatter(mdates.DateFormatter('%b %d'))\n",
    "    ax[i].set_ylim([0,7000])\n",
    "    ax[i].spines['right'].set_visible(False)\n",
    "    ax[i].spines['top'].set_visible(False)\n",
    "plt.tight_layout()\n"
   ]
  },
  {
   "cell_type": "code",
   "execution_count": 20,
   "metadata": {
    "execution": {
     "iopub.execute_input": "2020-11-03T14:22:24.575609Z",
     "iopub.status.busy": "2020-11-03T14:22:24.575003Z",
     "iopub.status.idle": "2020-11-03T14:22:24.577453Z",
     "shell.execute_reply": "2020-11-03T14:22:24.577972Z"
    },
    "papermill": {
     "duration": 0.032688,
     "end_time": "2020-11-03T14:22:24.578119",
     "exception": false,
     "start_time": "2020-11-03T14:22:24.545431",
     "status": "completed"
    },
    "tags": []
   },
   "outputs": [
    {
     "name": "stdout",
     "output_type": "stream",
     "text": [
      "                                   states    Cases  Deaths   PCases  PDeaths  Cases (+)  Deaths (+)  Fatality Rate\n",
      "                              Maharashtra  1687784   44128  1687784    44128          0           0           2.61\n",
      "                                Karnataka   829640   11221   829640    11221          0           0           1.35\n",
      "                           Andhra Pradesh   827882    6719   827882     6719          0           0           0.81\n",
      "                               Tamil Nadu   729507   11183   729507    11183          0           0           1.53\n",
      "                            Uttar Pradesh   485609    7076   485609     7076          0           0           1.46\n",
      "                                   Kerala   444269    1534   444269     1534          0           0           0.35\n",
      "                                    Delhi   396371    6604   396371     6604          0           0           1.67\n",
      "                              West Bengal   381608    6957   381608     6957          0           0           1.82\n",
      "                                   Odisha   294415    1405   293214     1393       1201          12           0.48\n",
      "                                Telangana   242506    1351   240970     1348       1536           3           0.56\n",
      "                                    Bihar   218118    1101   218118     1101          0           0           0.50\n",
      "                                    Assam   206982     932   206982      932          0           0           0.45\n",
      "                                Rajasthan   200495    1926   200495     1926          0           0           0.96\n",
      "                             Chhattisgarh   190513    2208   190513     2208          0           0           1.16\n",
      "                                  Gujarat   174679    3728   174679     3728          0           0           2.13\n",
      "                           Madhya Pradesh   172717    2965   172717     2965          0           0           1.72\n",
      "                                  Haryana   170446    1810   170446     1810          0           0           1.06\n",
      "                                   Punjab   134371    4227   134371     4227          0           0           3.15\n",
      "                                Jharkhand   102490     886   102490      886          0           0           0.86\n",
      "                        Jammu and Kashmir    95710    1490    95710     1490          0           0           1.56\n",
      "                              Uttarakhand    62881    1029    62881     1029          0           0           1.64\n",
      "                                      Goa    43954     616    43954      616          0           0           1.40\n",
      "                               Puducherry    35325     596    35178      595        147           1           1.69\n",
      "                                  Tripura    30849     345    30849      345          0           0           1.12\n",
      "                         Himachal Pradesh    22598     330    22598      330          0           0           1.46\n",
      "                                  Manipur    19091     180    19091      180          0           0           0.94\n",
      "                        Arunachal Pradesh    14998      38    14998       38          0           0           0.25\n",
      "                               Chandigarh    14528     227    14528      227          0           0           1.56\n",
      "                                Meghalaya     9678      90     9678       90          0           0           0.93\n",
      "                                 Nagaland     9096      42     9096       42          0           0           0.46\n",
      "                                   Ladakh     6357      75     6357       75          0           0           1.18\n",
      "              Andaman and Nicobar Islands     4352      60     4352       60          0           0           1.38\n",
      "                                   Sikkim     3967      73     3967       73          0           0           1.84\n",
      " Dadra and Nagar Haveli and Daman and Diu     3255       2     3255        2          0           0           0.06\n",
      "                                  Mizoram     2757       1     2757        1          0           0           0.04\n",
      "                              Lakshadweep        0       0        0        0          0           0            NaN\n"
     ]
    }
   ],
   "source": [
    "#hide_input\n",
    "print(df_table.to_string(index=False))"
   ]
  },
  {
   "cell_type": "code",
   "execution_count": null,
   "metadata": {
    "papermill": {
     "duration": 0.019491,
     "end_time": "2020-11-03T14:22:24.618335",
     "exception": false,
     "start_time": "2020-11-03T14:22:24.598844",
     "status": "completed"
    },
    "tags": []
   },
   "outputs": [],
   "source": []
  },
  {
   "cell_type": "code",
   "execution_count": null,
   "metadata": {
    "papermill": {
     "duration": 0.019126,
     "end_time": "2020-11-03T14:22:24.655898",
     "exception": false,
     "start_time": "2020-11-03T14:22:24.636772",
     "status": "completed"
    },
    "tags": []
   },
   "outputs": [],
   "source": []
  }
 ],
 "metadata": {
  "kernelspec": {
   "display_name": "Python 3",
   "language": "python",
   "name": "python3"
  },
  "language_info": {
   "codemirror_mode": {
    "name": "ipython",
    "version": 3
   },
   "file_extension": ".py",
   "mimetype": "text/x-python",
   "name": "python",
   "nbconvert_exporter": "python",
   "pygments_lexer": "ipython3",
   "version": "3.6.12"
  },
  "papermill": {
   "duration": 10.601638,
   "end_time": "2020-11-03T14:22:25.082980",
   "environment_variables": {},
   "exception": null,
   "input_path": "latest.ipynb",
   "output_path": "latest.ipynb",
   "parameters": {},
   "start_time": "2020-11-03T14:22:14.481342",
   "version": "2.1.2"
  }
 },
 "nbformat": 4,
 "nbformat_minor": 4
}