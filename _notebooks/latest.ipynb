{
 "cells": [
  {
   "cell_type": "markdown",
   "metadata": {
    "papermill": {
     "duration": 0.019422,
     "end_time": "2020-11-25T12:45:24.876187",
     "exception": false,
     "start_time": "2020-11-25T12:45:24.856765",
     "status": "completed"
    },
    "tags": []
   },
   "source": [
    "# Latest COVID-19 India Matplotlib Overview"
   ]
  },
  {
   "cell_type": "code",
   "execution_count": 1,
   "metadata": {
    "execution": {
     "iopub.execute_input": "2020-11-25T12:45:24.916082Z",
     "iopub.status.busy": "2020-11-25T12:45:24.915455Z",
     "iopub.status.idle": "2020-11-25T12:45:25.524793Z",
     "shell.execute_reply": "2020-11-25T12:45:25.523927Z"
    },
    "papermill": {
     "duration": 0.631065,
     "end_time": "2020-11-25T12:45:25.525069",
     "exception": false,
     "start_time": "2020-11-25T12:45:24.894004",
     "status": "completed"
    },
    "tags": []
   },
   "outputs": [],
   "source": [
    "#hide\n",
    "import pandas as pd\n",
    "import numpy as np\n",
    "import requests\n",
    "import json\n",
    "import matplotlib.pyplot as plt\n",
    "import matplotlib.dates as mdates\n",
    "import matplotlib as mpl\n",
    "from IPython.core.display import display,HTML\n",
    "%matplotlib inline\n",
    "from datetime import date"
   ]
  },
  {
   "cell_type": "code",
   "execution_count": 2,
   "metadata": {
    "execution": {
     "iopub.execute_input": "2020-11-25T12:45:25.565322Z",
     "iopub.status.busy": "2020-11-25T12:45:25.564496Z",
     "iopub.status.idle": "2020-11-25T12:45:25.720214Z",
     "shell.execute_reply": "2020-11-25T12:45:25.719621Z"
    },
    "papermill": {
     "duration": 0.178375,
     "end_time": "2020-11-25T12:45:25.720356",
     "exception": false,
     "start_time": "2020-11-25T12:45:25.541981",
     "status": "completed"
    },
    "tags": []
   },
   "outputs": [],
   "source": [
    "#hide\n",
    "df  = pd.read_csv('https://api.covid19india.org/csv/latest/states.csv')\n",
    "df = df[['Date','State','Confirmed','Deceased']]\n",
    "df = df.rename(columns={'Confirmed':'Cases', \"Deceased\":'Deaths'})\n",
    "df_cases = df[[\"Date\",'State','Cases']]\n",
    "df_deaths = df[['Date','State','Deaths']]\n",
    "df_cases1 = df_cases.groupby('Date')\n",
    "df_deaths1= df_deaths.groupby('Date')"
   ]
  },
  {
   "cell_type": "code",
   "execution_count": 3,
   "metadata": {
    "execution": {
     "iopub.execute_input": "2020-11-25T12:45:25.757635Z",
     "iopub.status.busy": "2020-11-25T12:45:25.756842Z",
     "iopub.status.idle": "2020-11-25T12:45:25.775716Z",
     "shell.execute_reply": "2020-11-25T12:45:25.775136Z"
    },
    "papermill": {
     "duration": 0.038984,
     "end_time": "2020-11-25T12:45:25.775870",
     "exception": false,
     "start_time": "2020-11-25T12:45:25.736886",
     "status": "completed"
    },
    "tags": []
   },
   "outputs": [],
   "source": [
    "#hide\n",
    "df_snap = pd.read_csv('data/SnapshotCases-28-July.csv')\n",
    "arr_states = df_snap['states'].unique()\n",
    "arr_dates = df['Date'].unique()\n",
    "df_snap = df_snap.set_index('states')"
   ]
  },
  {
   "cell_type": "code",
   "execution_count": 4,
   "metadata": {
    "execution": {
     "iopub.execute_input": "2020-11-25T12:45:25.814926Z",
     "iopub.status.busy": "2020-11-25T12:45:25.814361Z",
     "iopub.status.idle": "2020-11-25T12:45:25.817102Z",
     "shell.execute_reply": "2020-11-25T12:45:25.817587Z"
    },
    "papermill": {
     "duration": 0.025715,
     "end_time": "2020-11-25T12:45:25.817724",
     "exception": false,
     "start_time": "2020-11-25T12:45:25.792009",
     "status": "completed"
    },
    "tags": []
   },
   "outputs": [
    {
     "data": {
      "text/plain": [
       "array(['Andaman and Nicobar Islands', 'Andhra Pradesh',\n",
       "       'Arunachal Pradesh', 'Assam', 'Bihar', 'Chandigarh',\n",
       "       'Dadra and Nagar Haveli and Daman and Diu', 'Delhi', 'Goa',\n",
       "       'Gujarat', 'Haryana', 'Himachal Pradesh', 'Jammu and Kashmir',\n",
       "       'Jharkhand', 'Karnataka', 'Kerala', 'Lakshadweep',\n",
       "       'Madhya Pradesh', 'Maharashtra', 'Manipur', 'Meghalaya', 'Mizoram',\n",
       "       'Nagaland', 'Odisha', 'Puducherry', 'Punjab', 'Rajasthan',\n",
       "       'Sikkim', 'Tamil Nadu', 'Telangana', 'Tripura', 'Uttar Pradesh',\n",
       "       'West Bengal', 'Chhattisgarh', 'Ladakh', 'Uttarakhand'],\n",
       "      dtype=object)"
      ]
     },
     "execution_count": 4,
     "metadata": {},
     "output_type": "execute_result"
    }
   ],
   "source": [
    "#hide\n",
    "arr_states[-9] = 'Puducherry'\n",
    "arr_states[-10] = 'Odisha'\n",
    "arr_states[6] = 'Dadra and Nagar Haveli and Daman and Diu'\n",
    "arr_states = np.append(arr_states,np.array(['Chhattisgarh','Ladakh','Uttarakhand']))\n",
    "arr_states"
   ]
  },
  {
   "cell_type": "code",
   "execution_count": 5,
   "metadata": {
    "execution": {
     "iopub.execute_input": "2020-11-25T12:45:25.860073Z",
     "iopub.status.busy": "2020-11-25T12:45:25.859473Z",
     "iopub.status.idle": "2020-11-25T12:45:25.867512Z",
     "shell.execute_reply": "2020-11-25T12:45:25.868029Z"
    },
    "papermill": {
     "duration": 0.035004,
     "end_time": "2020-11-25T12:45:25.868179",
     "exception": false,
     "start_time": "2020-11-25T12:45:25.833175",
     "status": "completed"
    },
    "tags": []
   },
   "outputs": [],
   "source": [
    "#hide\n",
    "dates = []\n",
    "for i in arr_dates:\n",
    "    if i>='2020-07-01':\n",
    "        dates.append(i)\n",
    "dict = {'states':dates}\n",
    "for i in arr_states:\n",
    "    dict[i] = [0]*len(dates)\n",
    "dft_cases = pd.DataFrame(dict)\n",
    "dft_deaths = pd.DataFrame(dict)\n"
   ]
  },
  {
   "cell_type": "code",
   "execution_count": 6,
   "metadata": {
    "execution": {
     "iopub.execute_input": "2020-11-25T12:45:25.905418Z",
     "iopub.status.busy": "2020-11-25T12:45:25.904834Z",
     "iopub.status.idle": "2020-11-25T12:45:28.047754Z",
     "shell.execute_reply": "2020-11-25T12:45:28.047113Z"
    },
    "papermill": {
     "duration": 2.164641,
     "end_time": "2020-11-25T12:45:28.047926",
     "exception": false,
     "start_time": "2020-11-25T12:45:25.883285",
     "status": "completed"
    },
    "tags": []
   },
   "outputs": [],
   "source": [
    "#hide\n",
    "for i in range(len(dates)):\n",
    "    df1_deaths = df_deaths1.get_group(dates[i])\n",
    "    for j in range(len(df1_deaths.index)):\n",
    "        if df1_deaths.iloc[j,1] in arr_states:\n",
    "            dft_deaths.loc[i,df1_deaths.iloc[j,1]] = df1_deaths.iloc[j,2]\n",
    "dft_deaths = dft_deaths.set_index('states')"
   ]
  },
  {
   "cell_type": "code",
   "execution_count": 7,
   "metadata": {
    "execution": {
     "iopub.execute_input": "2020-11-25T12:45:28.089091Z",
     "iopub.status.busy": "2020-11-25T12:45:28.087839Z",
     "iopub.status.idle": "2020-11-25T12:45:30.190191Z",
     "shell.execute_reply": "2020-11-25T12:45:30.189167Z"
    },
    "papermill": {
     "duration": 2.125231,
     "end_time": "2020-11-25T12:45:30.190349",
     "exception": false,
     "start_time": "2020-11-25T12:45:28.065118",
     "status": "completed"
    },
    "tags": []
   },
   "outputs": [],
   "source": [
    "#hide\n",
    "for i in range(len(dates)):\n",
    "    df1_cases = df_cases1.get_group(dates[i])\n",
    "    for j in range(len(df1_cases.index)):\n",
    "        if df1_cases.iloc[j,1] in arr_states:\n",
    "            dft_cases.loc[i,df1_cases.iloc[j,1]] = df1_cases.iloc[j,2]\n",
    "dft_cases = dft_cases.set_index('states')"
   ]
  },
  {
   "cell_type": "code",
   "execution_count": 8,
   "metadata": {
    "execution": {
     "iopub.execute_input": "2020-11-25T12:45:30.227703Z",
     "iopub.status.busy": "2020-11-25T12:45:30.226775Z",
     "iopub.status.idle": "2020-11-25T12:45:30.228573Z",
     "shell.execute_reply": "2020-11-25T12:45:30.229254Z"
    },
    "papermill": {
     "duration": 0.023453,
     "end_time": "2020-11-25T12:45:30.229449",
     "exception": false,
     "start_time": "2020-11-25T12:45:30.205996",
     "status": "completed"
    },
    "tags": []
   },
   "outputs": [],
   "source": [
    "#hide\n",
    "dft_cases = dft_cases.T\n",
    "dft_deaths = dft_deaths.T\n",
    "dt_today = dates[-1]\n",
    "dt_yday = dates[-2]"
   ]
  },
  {
   "cell_type": "code",
   "execution_count": 9,
   "metadata": {
    "execution": {
     "iopub.execute_input": "2020-11-25T12:45:30.266922Z",
     "iopub.status.busy": "2020-11-25T12:45:30.266333Z",
     "iopub.status.idle": "2020-11-25T12:45:30.271983Z",
     "shell.execute_reply": "2020-11-25T12:45:30.271485Z"
    },
    "papermill": {
     "duration": 0.026753,
     "end_time": "2020-11-25T12:45:30.272103",
     "exception": false,
     "start_time": "2020-11-25T12:45:30.245350",
     "status": "completed"
    },
    "tags": []
   },
   "outputs": [],
   "source": [
    "#hide\n",
    "dft_cases = dft_cases.reset_index()\n",
    "dft_deaths = dft_deaths.reset_index()\n",
    "dft_cases = dft_cases.rename(columns = {'index':'state'})\n",
    "dft_deaths = dft_deaths.rename(columns = {'index':'state'})"
   ]
  },
  {
   "cell_type": "code",
   "execution_count": 10,
   "metadata": {
    "execution": {
     "iopub.execute_input": "2020-11-25T12:45:30.317486Z",
     "iopub.status.busy": "2020-11-25T12:45:30.316826Z",
     "iopub.status.idle": "2020-11-25T12:45:30.318680Z",
     "shell.execute_reply": "2020-11-25T12:45:30.319103Z"
    },
    "papermill": {
     "duration": 0.032049,
     "end_time": "2020-11-25T12:45:30.319231",
     "exception": false,
     "start_time": "2020-11-25T12:45:30.287182",
     "status": "completed"
    },
    "tags": []
   },
   "outputs": [],
   "source": [
    "#hide\n",
    "dfc_cases = dft_cases.groupby('state')[dt_today].sum()\n",
    "dfc_deaths = dft_deaths.groupby('state')[dt_today].sum()\n",
    "dfp_cases = dft_cases.groupby('state')[dt_yday].sum()\n",
    "dfp_deaths = dft_deaths.groupby('state')[dt_yday].sum()"
   ]
  },
  {
   "cell_type": "code",
   "execution_count": 11,
   "metadata": {
    "execution": {
     "iopub.execute_input": "2020-11-25T12:45:30.358648Z",
     "iopub.status.busy": "2020-11-25T12:45:30.358034Z",
     "iopub.status.idle": "2020-11-25T12:45:30.371338Z",
     "shell.execute_reply": "2020-11-25T12:45:30.370884Z"
    },
    "papermill": {
     "duration": 0.037558,
     "end_time": "2020-11-25T12:45:30.371467",
     "exception": false,
     "start_time": "2020-11-25T12:45:30.333909",
     "status": "completed"
    },
    "tags": []
   },
   "outputs": [
    {
     "data": {
      "text/html": [
       "<div>\n",
       "<style scoped>\n",
       "    .dataframe tbody tr th:only-of-type {\n",
       "        vertical-align: middle;\n",
       "    }\n",
       "\n",
       "    .dataframe tbody tr th {\n",
       "        vertical-align: top;\n",
       "    }\n",
       "\n",
       "    .dataframe thead th {\n",
       "        text-align: right;\n",
       "    }\n",
       "</style>\n",
       "<table border=\"1\" class=\"dataframe\">\n",
       "  <thead>\n",
       "    <tr style=\"text-align: right;\">\n",
       "      <th></th>\n",
       "      <th>states</th>\n",
       "      <th>Cases</th>\n",
       "      <th>Deaths</th>\n",
       "      <th>PCases</th>\n",
       "      <th>PDeaths</th>\n",
       "    </tr>\n",
       "  </thead>\n",
       "  <tbody>\n",
       "    <tr>\n",
       "      <th>0</th>\n",
       "      <td>Maharashtra</td>\n",
       "      <td>1789800</td>\n",
       "      <td>46683</td>\n",
       "      <td>1789800</td>\n",
       "      <td>46683</td>\n",
       "    </tr>\n",
       "    <tr>\n",
       "      <th>1</th>\n",
       "      <td>Karnataka</td>\n",
       "      <td>876425</td>\n",
       "      <td>11695</td>\n",
       "      <td>876425</td>\n",
       "      <td>11695</td>\n",
       "    </tr>\n",
       "    <tr>\n",
       "      <th>2</th>\n",
       "      <td>Andhra Pradesh</td>\n",
       "      <td>863843</td>\n",
       "      <td>6956</td>\n",
       "      <td>863843</td>\n",
       "      <td>6956</td>\n",
       "    </tr>\n",
       "    <tr>\n",
       "      <th>3</th>\n",
       "      <td>Tamil Nadu</td>\n",
       "      <td>773176</td>\n",
       "      <td>11639</td>\n",
       "      <td>773176</td>\n",
       "      <td>11639</td>\n",
       "    </tr>\n",
       "    <tr>\n",
       "      <th>4</th>\n",
       "      <td>Kerala</td>\n",
       "      <td>571873</td>\n",
       "      <td>2096</td>\n",
       "      <td>571873</td>\n",
       "      <td>2096</td>\n",
       "    </tr>\n",
       "  </tbody>\n",
       "</table>\n",
       "</div>"
      ],
      "text/plain": [
       "           states    Cases  Deaths   PCases  PDeaths\n",
       "0     Maharashtra  1789800   46683  1789800    46683\n",
       "1       Karnataka   876425   11695   876425    11695\n",
       "2  Andhra Pradesh   863843    6956   863843     6956\n",
       "3      Tamil Nadu   773176   11639   773176    11639\n",
       "4          Kerala   571873    2096   571873     2096"
      ]
     },
     "execution_count": 11,
     "metadata": {},
     "output_type": "execute_result"
    }
   ],
   "source": [
    "#hide\n",
    "df_table = pd.DataFrame({'states': dfc_cases.index, 'Cases': dfc_cases.values, 'Deaths': dfc_deaths.values, 'PCases': dfp_cases.values, 'PDeaths': dfp_deaths.values}).set_index('states')\n",
    "df_table = df_table.sort_values(by = ['Cases','Deaths'], ascending = [False, False])\n",
    "df_table = df_table.reset_index()\n",
    "df_table.head()"
   ]
  },
  {
   "cell_type": "code",
   "execution_count": 12,
   "metadata": {
    "execution": {
     "iopub.execute_input": "2020-11-25T12:45:30.415416Z",
     "iopub.status.busy": "2020-11-25T12:45:30.408371Z",
     "iopub.status.idle": "2020-11-25T12:45:30.418586Z",
     "shell.execute_reply": "2020-11-25T12:45:30.418112Z"
    },
    "papermill": {
     "duration": 0.031599,
     "end_time": "2020-11-25T12:45:30.418709",
     "exception": false,
     "start_time": "2020-11-25T12:45:30.387110",
     "status": "completed"
    },
    "tags": []
   },
   "outputs": [],
   "source": [
    "#hide\n",
    "for c in 'Cases, Deaths'.split(', '):\n",
    "    df_table[f'{c} (+)'] = (df_table[c] - df_table[f'P{c}']).clip(0)\n",
    "df_table['Fatality Rate'] = (100* df_table['Deaths']/ df_table['Cases']).round(2)"
   ]
  },
  {
   "cell_type": "code",
   "execution_count": 13,
   "metadata": {
    "execution": {
     "iopub.execute_input": "2020-11-25T12:45:30.459042Z",
     "iopub.status.busy": "2020-11-25T12:45:30.458444Z",
     "iopub.status.idle": "2020-11-25T12:45:30.461812Z",
     "shell.execute_reply": "2020-11-25T12:45:30.461313Z"
    },
    "papermill": {
     "duration": 0.028206,
     "end_time": "2020-11-25T12:45:30.461931",
     "exception": false,
     "start_time": "2020-11-25T12:45:30.433725",
     "status": "completed"
    },
    "tags": []
   },
   "outputs": [
    {
     "data": {
      "text/html": [
       "<div>\n",
       "<style scoped>\n",
       "    .dataframe tbody tr th:only-of-type {\n",
       "        vertical-align: middle;\n",
       "    }\n",
       "\n",
       "    .dataframe tbody tr th {\n",
       "        vertical-align: top;\n",
       "    }\n",
       "\n",
       "    .dataframe thead th {\n",
       "        text-align: right;\n",
       "    }\n",
       "</style>\n",
       "<table border=\"1\" class=\"dataframe\">\n",
       "  <thead>\n",
       "    <tr style=\"text-align: right;\">\n",
       "      <th></th>\n",
       "      <th>states</th>\n",
       "      <th>Cases</th>\n",
       "      <th>Deaths</th>\n",
       "      <th>PCases</th>\n",
       "      <th>PDeaths</th>\n",
       "      <th>Cases (+)</th>\n",
       "      <th>Deaths (+)</th>\n",
       "      <th>Fatality Rate</th>\n",
       "    </tr>\n",
       "  </thead>\n",
       "  <tbody>\n",
       "    <tr>\n",
       "      <th>0</th>\n",
       "      <td>Maharashtra</td>\n",
       "      <td>1789800</td>\n",
       "      <td>46683</td>\n",
       "      <td>1789800</td>\n",
       "      <td>46683</td>\n",
       "      <td>0</td>\n",
       "      <td>0</td>\n",
       "      <td>2.61</td>\n",
       "    </tr>\n",
       "    <tr>\n",
       "      <th>1</th>\n",
       "      <td>Karnataka</td>\n",
       "      <td>876425</td>\n",
       "      <td>11695</td>\n",
       "      <td>876425</td>\n",
       "      <td>11695</td>\n",
       "      <td>0</td>\n",
       "      <td>0</td>\n",
       "      <td>1.33</td>\n",
       "    </tr>\n",
       "    <tr>\n",
       "      <th>2</th>\n",
       "      <td>Andhra Pradesh</td>\n",
       "      <td>863843</td>\n",
       "      <td>6956</td>\n",
       "      <td>863843</td>\n",
       "      <td>6956</td>\n",
       "      <td>0</td>\n",
       "      <td>0</td>\n",
       "      <td>0.81</td>\n",
       "    </tr>\n",
       "    <tr>\n",
       "      <th>3</th>\n",
       "      <td>Tamil Nadu</td>\n",
       "      <td>773176</td>\n",
       "      <td>11639</td>\n",
       "      <td>773176</td>\n",
       "      <td>11639</td>\n",
       "      <td>0</td>\n",
       "      <td>0</td>\n",
       "      <td>1.51</td>\n",
       "    </tr>\n",
       "    <tr>\n",
       "      <th>4</th>\n",
       "      <td>Kerala</td>\n",
       "      <td>571873</td>\n",
       "      <td>2096</td>\n",
       "      <td>571873</td>\n",
       "      <td>2096</td>\n",
       "      <td>0</td>\n",
       "      <td>0</td>\n",
       "      <td>0.37</td>\n",
       "    </tr>\n",
       "  </tbody>\n",
       "</table>\n",
       "</div>"
      ],
      "text/plain": [
       "           states    Cases  Deaths   PCases  PDeaths  Cases (+)  Deaths (+)  \\\n",
       "0     Maharashtra  1789800   46683  1789800    46683          0           0   \n",
       "1       Karnataka   876425   11695   876425    11695          0           0   \n",
       "2  Andhra Pradesh   863843    6956   863843     6956          0           0   \n",
       "3      Tamil Nadu   773176   11639   773176    11639          0           0   \n",
       "4          Kerala   571873    2096   571873     2096          0           0   \n",
       "\n",
       "   Fatality Rate  \n",
       "0           2.61  \n",
       "1           1.33  \n",
       "2           0.81  \n",
       "3           1.51  \n",
       "4           0.37  "
      ]
     },
     "execution_count": 13,
     "metadata": {},
     "output_type": "execute_result"
    }
   ],
   "source": [
    "#hide\n",
    "df_table.head()"
   ]
  },
  {
   "cell_type": "code",
   "execution_count": 14,
   "metadata": {
    "execution": {
     "iopub.execute_input": "2020-11-25T12:45:30.498095Z",
     "iopub.status.busy": "2020-11-25T12:45:30.497496Z",
     "iopub.status.idle": "2020-11-25T12:45:30.516588Z",
     "shell.execute_reply": "2020-11-25T12:45:30.516096Z"
    },
    "papermill": {
     "duration": 0.039255,
     "end_time": "2020-11-25T12:45:30.516707",
     "exception": false,
     "start_time": "2020-11-25T12:45:30.477452",
     "status": "completed"
    },
    "tags": []
   },
   "outputs": [
    {
     "data": {
      "text/plain": [
       "{'updated': '2020-11-25',\n",
       " 'since': '2020-11-24',\n",
       " 'Cases': 9223698,\n",
       " 'PCases': 9221998,\n",
       " 'Deaths': 134747,\n",
       " 'PDeaths': 134743,\n",
       " 'Cases (+)': 1700,\n",
       " 'Deaths (+)': 4}"
      ]
     },
     "execution_count": 14,
     "metadata": {},
     "output_type": "execute_result"
    }
   ],
   "source": [
    "#hide\n",
    "summary = {'updated':dates[-1], 'since':dates[-2]}\n",
    "list_names = ['Cases', 'PCases', 'Deaths', 'PDeaths', 'Cases (+)', 'Deaths (+)']\n",
    "for name in list_names:\n",
    "    summary[name] = df_table.sum()[name]\n",
    "summary"
   ]
  },
  {
   "cell_type": "code",
   "execution_count": 15,
   "metadata": {
    "execution": {
     "iopub.execute_input": "2020-11-25T12:45:30.554301Z",
     "iopub.status.busy": "2020-11-25T12:45:30.553680Z",
     "iopub.status.idle": "2020-11-25T12:45:30.555997Z",
     "shell.execute_reply": "2020-11-25T12:45:30.555528Z"
    },
    "papermill": {
     "duration": 0.023548,
     "end_time": "2020-11-25T12:45:30.556136",
     "exception": false,
     "start_time": "2020-11-25T12:45:30.532588",
     "status": "completed"
    },
    "tags": []
   },
   "outputs": [],
   "source": [
    "#hide\n",
    "overview = '''\n",
    "<!-- #######  HTML!! #########-->\n",
    "<h1 style=\"color: #5e9ca0; text-align: center;\">India</h1>\n",
    "<p style=\"text-align: center;\">Last update: <strong>{update}</strong></p>\n",
    "<p style=\"text-align: center;\">Confirmed cases:</p>\n",
    "<p style=\"text-align: center;font-size:24px;\">{cases} (<span style=\"color: #ff0000;\">+{new}</span>)</p>\n",
    "<p style=\"text-align: center;\">Confirmed deaths:</p>\n",
    "<p style=\"text-align: center;font-size:24px;\">{deaths} (<span style=\"color: #ff0000;\">+{dnew}</span>)</p>\n",
    "'''"
   ]
  },
  {
   "cell_type": "code",
   "execution_count": 16,
   "metadata": {
    "execution": {
     "iopub.execute_input": "2020-11-25T12:45:30.603128Z",
     "iopub.status.busy": "2020-11-25T12:45:30.602552Z",
     "iopub.status.idle": "2020-11-25T12:45:30.606674Z",
     "shell.execute_reply": "2020-11-25T12:45:30.607124Z"
    },
    "papermill": {
     "duration": 0.02883,
     "end_time": "2020-11-25T12:45:30.607269",
     "exception": false,
     "start_time": "2020-11-25T12:45:30.578439",
     "status": "completed"
    },
    "tags": []
   },
   "outputs": [
    {
     "data": {
      "text/html": [
       "\n",
       "<!-- #######  HTML!! #########-->\n",
       "<h1 style=\"color: #5e9ca0; text-align: center;\">India</h1>\n",
       "<p style=\"text-align: center;\">Last update: <strong>2020-11-25</strong></p>\n",
       "<p style=\"text-align: center;\">Confirmed cases:</p>\n",
       "<p style=\"text-align: center;font-size:24px;\">9223698 (<span style=\"color: #ff0000;\">+1700</span>)</p>\n",
       "<p style=\"text-align: center;\">Confirmed deaths:</p>\n",
       "<p style=\"text-align: center;font-size:24px;\">134747 (<span style=\"color: #ff0000;\">+4</span>)</p>\n"
      ],
      "text/plain": [
       "<IPython.core.display.HTML object>"
      ]
     },
     "metadata": {},
     "output_type": "display_data"
    }
   ],
   "source": [
    "#hide_input\n",
    "update = summary['updated']\n",
    "cases = summary['Cases']\n",
    "new = summary['Cases (+)']\n",
    "deaths = summary['Deaths']\n",
    "dnew = summary['Deaths (+)']\n",
    "\n",
    "html = HTML(overview.format(update=update, cases=cases,new=new,deaths=deaths,dnew=dnew))\n",
    "\n",
    "display(html)"
   ]
  },
  {
   "cell_type": "code",
   "execution_count": 17,
   "metadata": {
    "execution": {
     "iopub.execute_input": "2020-11-25T12:45:30.654674Z",
     "iopub.status.busy": "2020-11-25T12:45:30.653017Z",
     "iopub.status.idle": "2020-11-25T12:45:30.660025Z",
     "shell.execute_reply": "2020-11-25T12:45:30.660927Z"
    },
    "papermill": {
     "duration": 0.037195,
     "end_time": "2020-11-25T12:45:30.661202",
     "exception": false,
     "start_time": "2020-11-25T12:45:30.624007",
     "status": "completed"
    },
    "tags": []
   },
   "outputs": [],
   "source": [
    "#hide\n",
    "dt_cols = list(dft_cases.columns[1:])\n",
    "dft_ct_new_cases = dft_cases.groupby('state')[dt_cols].sum().diff(axis=1).fillna(0).astype(int)\n",
    "dft_ct_new_cases.sort_values(by = dates[-1], ascending = False,inplace = True)"
   ]
  },
  {
   "cell_type": "code",
   "execution_count": 18,
   "metadata": {
    "execution": {
     "iopub.execute_input": "2020-11-25T12:45:30.716008Z",
     "iopub.status.busy": "2020-11-25T12:45:30.711340Z",
     "iopub.status.idle": "2020-11-25T12:45:30.719255Z",
     "shell.execute_reply": "2020-11-25T12:45:30.718743Z"
    },
    "papermill": {
     "duration": 0.038494,
     "end_time": "2020-11-25T12:45:30.719385",
     "exception": false,
     "start_time": "2020-11-25T12:45:30.680891",
     "status": "completed"
    },
    "tags": []
   },
   "outputs": [
    {
     "data": {
      "text/html": [
       "<div>\n",
       "<style scoped>\n",
       "    .dataframe tbody tr th:only-of-type {\n",
       "        vertical-align: middle;\n",
       "    }\n",
       "\n",
       "    .dataframe tbody tr th {\n",
       "        vertical-align: top;\n",
       "    }\n",
       "\n",
       "    .dataframe thead th {\n",
       "        text-align: right;\n",
       "    }\n",
       "</style>\n",
       "<table border=\"1\" class=\"dataframe\">\n",
       "  <thead>\n",
       "    <tr style=\"text-align: right;\">\n",
       "      <th>states</th>\n",
       "      <th>2020-07-01</th>\n",
       "      <th>2020-07-02</th>\n",
       "      <th>2020-07-03</th>\n",
       "      <th>2020-07-04</th>\n",
       "      <th>2020-07-05</th>\n",
       "      <th>2020-07-06</th>\n",
       "      <th>2020-07-07</th>\n",
       "      <th>2020-07-08</th>\n",
       "      <th>2020-07-09</th>\n",
       "      <th>2020-07-10</th>\n",
       "      <th>...</th>\n",
       "      <th>2020-11-16</th>\n",
       "      <th>2020-11-17</th>\n",
       "      <th>2020-11-18</th>\n",
       "      <th>2020-11-19</th>\n",
       "      <th>2020-11-20</th>\n",
       "      <th>2020-11-21</th>\n",
       "      <th>2020-11-22</th>\n",
       "      <th>2020-11-23</th>\n",
       "      <th>2020-11-24</th>\n",
       "      <th>2020-11-25</th>\n",
       "    </tr>\n",
       "    <tr>\n",
       "      <th>state</th>\n",
       "      <th></th>\n",
       "      <th></th>\n",
       "      <th></th>\n",
       "      <th></th>\n",
       "      <th></th>\n",
       "      <th></th>\n",
       "      <th></th>\n",
       "      <th></th>\n",
       "      <th></th>\n",
       "      <th></th>\n",
       "      <th></th>\n",
       "      <th></th>\n",
       "      <th></th>\n",
       "      <th></th>\n",
       "      <th></th>\n",
       "      <th></th>\n",
       "      <th></th>\n",
       "      <th></th>\n",
       "      <th></th>\n",
       "      <th></th>\n",
       "      <th></th>\n",
       "    </tr>\n",
       "  </thead>\n",
       "  <tbody>\n",
       "    <tr>\n",
       "      <th>Telangana</th>\n",
       "      <td>0</td>\n",
       "      <td>1213</td>\n",
       "      <td>1892</td>\n",
       "      <td>1850</td>\n",
       "      <td>1590</td>\n",
       "      <td>1831</td>\n",
       "      <td>1879</td>\n",
       "      <td>1924</td>\n",
       "      <td>1410</td>\n",
       "      <td>1278</td>\n",
       "      <td>...</td>\n",
       "      <td>502</td>\n",
       "      <td>952</td>\n",
       "      <td>948</td>\n",
       "      <td>1058</td>\n",
       "      <td>894</td>\n",
       "      <td>925</td>\n",
       "      <td>873</td>\n",
       "      <td>602</td>\n",
       "      <td>921</td>\n",
       "      <td>993</td>\n",
       "    </tr>\n",
       "    <tr>\n",
       "      <th>Odisha</th>\n",
       "      <td>0</td>\n",
       "      <td>229</td>\n",
       "      <td>561</td>\n",
       "      <td>495</td>\n",
       "      <td>469</td>\n",
       "      <td>456</td>\n",
       "      <td>571</td>\n",
       "      <td>527</td>\n",
       "      <td>577</td>\n",
       "      <td>755</td>\n",
       "      <td>...</td>\n",
       "      <td>749</td>\n",
       "      <td>644</td>\n",
       "      <td>868</td>\n",
       "      <td>868</td>\n",
       "      <td>757</td>\n",
       "      <td>778</td>\n",
       "      <td>638</td>\n",
       "      <td>668</td>\n",
       "      <td>642</td>\n",
       "      <td>635</td>\n",
       "    </tr>\n",
       "    <tr>\n",
       "      <th>Tripura</th>\n",
       "      <td>0</td>\n",
       "      <td>39</td>\n",
       "      <td>93</td>\n",
       "      <td>25</td>\n",
       "      <td>23</td>\n",
       "      <td>111</td>\n",
       "      <td>24</td>\n",
       "      <td>57</td>\n",
       "      <td>16</td>\n",
       "      <td>142</td>\n",
       "      <td>...</td>\n",
       "      <td>17</td>\n",
       "      <td>77</td>\n",
       "      <td>73</td>\n",
       "      <td>105</td>\n",
       "      <td>75</td>\n",
       "      <td>75</td>\n",
       "      <td>48</td>\n",
       "      <td>19</td>\n",
       "      <td>59</td>\n",
       "      <td>35</td>\n",
       "    </tr>\n",
       "    <tr>\n",
       "      <th>Mizoram</th>\n",
       "      <td>0</td>\n",
       "      <td>2</td>\n",
       "      <td>0</td>\n",
       "      <td>2</td>\n",
       "      <td>22</td>\n",
       "      <td>11</td>\n",
       "      <td>1</td>\n",
       "      <td>5</td>\n",
       "      <td>0</td>\n",
       "      <td>23</td>\n",
       "      <td>...</td>\n",
       "      <td>3</td>\n",
       "      <td>48</td>\n",
       "      <td>37</td>\n",
       "      <td>32</td>\n",
       "      <td>28</td>\n",
       "      <td>66</td>\n",
       "      <td>40</td>\n",
       "      <td>13</td>\n",
       "      <td>50</td>\n",
       "      <td>35</td>\n",
       "    </tr>\n",
       "    <tr>\n",
       "      <th>Dadra and Nagar Haveli and Daman and Diu</th>\n",
       "      <td>0</td>\n",
       "      <td>25</td>\n",
       "      <td>50</td>\n",
       "      <td>37</td>\n",
       "      <td>32</td>\n",
       "      <td>27</td>\n",
       "      <td>27</td>\n",
       "      <td>15</td>\n",
       "      <td>14</td>\n",
       "      <td>14</td>\n",
       "      <td>...</td>\n",
       "      <td>3</td>\n",
       "      <td>3</td>\n",
       "      <td>8</td>\n",
       "      <td>2</td>\n",
       "      <td>9</td>\n",
       "      <td>1</td>\n",
       "      <td>4</td>\n",
       "      <td>4</td>\n",
       "      <td>0</td>\n",
       "      <td>2</td>\n",
       "    </tr>\n",
       "  </tbody>\n",
       "</table>\n",
       "<p>5 rows × 148 columns</p>\n",
       "</div>"
      ],
      "text/plain": [
       "states                                    2020-07-01  2020-07-02  2020-07-03  \\\n",
       "state                                                                          \n",
       "Telangana                                          0        1213        1892   \n",
       "Odisha                                             0         229         561   \n",
       "Tripura                                            0          39          93   \n",
       "Mizoram                                            0           2           0   \n",
       "Dadra and Nagar Haveli and Daman and Diu           0          25          50   \n",
       "\n",
       "states                                    2020-07-04  2020-07-05  2020-07-06  \\\n",
       "state                                                                          \n",
       "Telangana                                       1850        1590        1831   \n",
       "Odisha                                           495         469         456   \n",
       "Tripura                                           25          23         111   \n",
       "Mizoram                                            2          22          11   \n",
       "Dadra and Nagar Haveli and Daman and Diu          37          32          27   \n",
       "\n",
       "states                                    2020-07-07  2020-07-08  2020-07-09  \\\n",
       "state                                                                          \n",
       "Telangana                                       1879        1924        1410   \n",
       "Odisha                                           571         527         577   \n",
       "Tripura                                           24          57          16   \n",
       "Mizoram                                            1           5           0   \n",
       "Dadra and Nagar Haveli and Daman and Diu          27          15          14   \n",
       "\n",
       "states                                    2020-07-10  ...  2020-11-16  \\\n",
       "state                                                 ...               \n",
       "Telangana                                       1278  ...         502   \n",
       "Odisha                                           755  ...         749   \n",
       "Tripura                                          142  ...          17   \n",
       "Mizoram                                           23  ...           3   \n",
       "Dadra and Nagar Haveli and Daman and Diu          14  ...           3   \n",
       "\n",
       "states                                    2020-11-17  2020-11-18  2020-11-19  \\\n",
       "state                                                                          \n",
       "Telangana                                        952         948        1058   \n",
       "Odisha                                           644         868         868   \n",
       "Tripura                                           77          73         105   \n",
       "Mizoram                                           48          37          32   \n",
       "Dadra and Nagar Haveli and Daman and Diu           3           8           2   \n",
       "\n",
       "states                                    2020-11-20  2020-11-21  2020-11-22  \\\n",
       "state                                                                          \n",
       "Telangana                                        894         925         873   \n",
       "Odisha                                           757         778         638   \n",
       "Tripura                                           75          75          48   \n",
       "Mizoram                                           28          66          40   \n",
       "Dadra and Nagar Haveli and Daman and Diu           9           1           4   \n",
       "\n",
       "states                                    2020-11-23  2020-11-24  2020-11-25  \n",
       "state                                                                         \n",
       "Telangana                                        602         921         993  \n",
       "Odisha                                           668         642         635  \n",
       "Tripura                                           19          59          35  \n",
       "Mizoram                                           13          50          35  \n",
       "Dadra and Nagar Haveli and Daman and Diu           4           0           2  \n",
       "\n",
       "[5 rows x 148 columns]"
      ]
     },
     "execution_count": 18,
     "metadata": {},
     "output_type": "execute_result"
    }
   ],
   "source": [
    "#hide\n",
    "dft_ct_new_cases.head()"
   ]
  },
  {
   "cell_type": "code",
   "execution_count": 19,
   "metadata": {
    "execution": {
     "iopub.execute_input": "2020-11-25T12:45:30.801788Z",
     "iopub.status.busy": "2020-11-25T12:45:30.801051Z",
     "iopub.status.idle": "2020-11-25T12:45:36.188492Z",
     "shell.execute_reply": "2020-11-25T12:45:36.189009Z"
    },
    "papermill": {
     "duration": 5.452686,
     "end_time": "2020-11-25T12:45:36.189172",
     "exception": false,
     "start_time": "2020-11-25T12:45:30.736486",
     "status": "completed"
    },
    "tags": []
   },
   "outputs": [
    {
     "data": {
      "image/png": "[encoded data removed]",
      "text/plain": [
       "<Figure size 1296x2016 with 11 Axes>"
      ]
     },
     "metadata": {
      "needs_background": "light"
     },
     "output_type": "display_data"
    }
   ],
   "source": [
    "#hide_input\n",
    "df = dft_ct_new_cases.copy()\n",
    "df.loc['Total'] = df.sum()\n",
    "n = 5\n",
    "ax = []\n",
    "fig = plt.figure(figsize = (18,28))\n",
    "gs = fig.add_gridspec(n+2, 5)\n",
    "# gs = fig.add_gridspec(2, 3)\n",
    "ax1 = fig.add_subplot(gs[0, :])\n",
    "ef = df.loc['Total'].rename_axis('date').reset_index()\n",
    "ef['date'] = ef['date'].astype('datetime64[ns]')\n",
    "ax1.bar(ef.date,ef.Total,alpha=0.3,color='#007acc')\n",
    "ax1.plot(ef.date,ef.Total , marker=\"o\", color='#007acc')\n",
    "ax1.xaxis.set_major_locator(mdates.WeekdayLocator())\n",
    "ax1.xaxis.set_major_formatter(mdates.DateFormatter('%b %d'))\n",
    "ax1.text(0.02, 0.5,'India daily case count', transform = ax1.transAxes, fontsize=25);\n",
    "ax1.spines['right'].set_visible(False)\n",
    "ax1.spines['top'].set_visible(False)\n",
    "\n",
    "ax2 = fig.add_subplot(gs[1,0])\n",
    "ef = df.loc['Maharashtra'].rename_axis('date').reset_index()\n",
    "ef['date'] = ef['date'].astype('datetime64[ns]')\n",
    "\n",
    "ax2.bar(ef.date, ef.Maharashtra,color = '#007acc',alpha=0.5)\n",
    "ax2.xaxis.set_major_locator(mdates.WeekdayLocator())\n",
    "ax2.xaxis.set_major_formatter(mdates.DateFormatter('%b %d'))\n",
    "ax2.set_xticks(ax2.get_xticks()[::3])\n",
    "maxyval = ef.Maharashtra.max()\n",
    "ax2.set_ylim([0,maxyval])\n",
    "ax2.text(0.05, 0.9,'Maharashtra', transform = ax2.transAxes, fontsize=20);\n",
    "ax2.spines['right'].set_visible(False)\n",
    "ax2.spines['top'].set_visible(False)\n",
    "\n",
    "\n",
    "ax3 = fig.add_subplot(gs[1,1])\n",
    "ef = df.loc['Tamil Nadu'].rename_axis('date').reset_index()\n",
    "ef['date'] = ef['date'].astype('datetime64[ns]')\n",
    "ax3.bar(ef.date, ef['Tamil Nadu'],color = '#007acc',alpha=0.5,)\n",
    "ax3.xaxis.set_major_locator(mdates.WeekdayLocator())\n",
    "ax3.xaxis.set_major_formatter(mdates.DateFormatter('%b %d'))\n",
    "ax3.set_xticks(ax3.get_xticks()[::3])\n",
    "ax3.text(0.05, 0.9,'Tamil Nadu', transform = ax3.transAxes, fontsize=20);\n",
    "ax3.spines['right'].set_visible(False)\n",
    "ax3.spines['top'].set_visible(False)\n",
    "\n",
    "ax5 = fig.add_subplot(gs[1,3])\n",
    "ef = df.loc['Telangana'].rename_axis('date').reset_index()\n",
    "ef['date'] = ef['date'].astype('datetime64[ns]')\n",
    "ax5.bar(ef.date, ef['Telangana'],color = '#007acc',alpha=0.5,)\n",
    "ax5.xaxis.set_major_locator(mdates.WeekdayLocator())\n",
    "ax5.xaxis.set_major_formatter(mdates.DateFormatter('%b %d'))\n",
    "ax5.set_xticks(ax5.get_xticks()[::3])\n",
    "ax5.text(0.05, 0.9,'Telangana', transform = ax5.transAxes, fontsize=20);\n",
    "ax5.spines['right'].set_visible(False)\n",
    "ax5.spines['top'].set_visible(False)\n",
    "\n",
    "ax6 = fig.add_subplot(gs[1,4])\n",
    "ef = df.loc['Andhra Pradesh'].rename_axis('date').reset_index()\n",
    "ef['date'] = ef['date'].astype('datetime64[ns]')\n",
    "ax6.bar(ef.date, ef['Andhra Pradesh'],color = '#007acc',alpha=0.5,)\n",
    "ax6.xaxis.set_major_locator(mdates.WeekdayLocator())\n",
    "ax6.xaxis.set_major_formatter(mdates.DateFormatter('%b %d'))\n",
    "ax6.set_xticks(ax6.get_xticks()[::3])\n",
    "ax6.text(0.05, 1,'Andhra Pradesh', transform = ax6.transAxes, fontsize=20);\n",
    "ax6.spines['right'].set_visible(False)\n",
    "ax6.spines['top'].set_visible(False)\n",
    "\n",
    "ax4 = fig.add_subplot(gs[1,2])\n",
    "ef = df.loc['Delhi'].rename_axis('date').reset_index()\n",
    "ef['date'] = ef['date'].astype('datetime64[ns]')\n",
    "ax4.bar(ef.date, ef.Delhi,color = '#007acc',alpha=0.5)\n",
    "ax4.set_xticks([])\n",
    "ax4.xaxis.set_major_locator(mdates.WeekdayLocator())\n",
    "ax4.xaxis.set_major_formatter(mdates.DateFormatter('%b %d'))\n",
    "ax4.set_xticks(ax4.get_xticks()[::3])\n",
    "ax4.spines['right'].set_visible(False)\n",
    "ax4.spines['top'].set_visible(False)\n",
    "\n",
    "ax4.text(0.05, 1,'Delhi', transform = ax4.transAxes, fontsize=20)\n",
    "\n",
    "for i in range(n):\n",
    "    \n",
    "    ax.append(fig.add_subplot(gs[i+2,:]))\n",
    "    ef = df.iloc[i+3].rename_axis('date').reset_index()\n",
    "    ef['date'] = ef['date'].astype('datetime64[ns]')\n",
    "    ax[i].bar(ef.date,ef.iloc[:,-1],color = '#007acc',alpha=0.3)\n",
    "    ax[i].plot(ef.date,ef.iloc[:,-1],marker='o',color='#007acc')\n",
    "    ax[i].text(0.02,0.5,f'{ef.columns.values[-1]}',transform = ax[i].transAxes, fontsize = 20);\n",
    "    ax[i].xaxis.set_major_locator(mdates.WeekdayLocator())\n",
    "    ax[i].xaxis.set_major_formatter(mdates.DateFormatter('%b %d'))\n",
    "    ax[i].set_ylim([0,7000])\n",
    "    ax[i].spines['right'].set_visible(False)\n",
    "    ax[i].spines['top'].set_visible(False)\n",
    "plt.tight_layout()\n"
   ]
  },
  {
   "cell_type": "code",
   "execution_count": 20,
   "metadata": {
    "execution": {
     "iopub.execute_input": "2020-11-25T12:45:36.248669Z",
     "iopub.status.busy": "2020-11-25T12:45:36.248067Z",
     "iopub.status.idle": "2020-11-25T12:45:36.250340Z",
     "shell.execute_reply": "2020-11-25T12:45:36.250835Z"
    },
    "papermill": {
     "duration": 0.035652,
     "end_time": "2020-11-25T12:45:36.250995",
     "exception": false,
     "start_time": "2020-11-25T12:45:36.215343",
     "status": "completed"
    },
    "tags": []
   },
   "outputs": [
    {
     "name": "stdout",
     "output_type": "stream",
     "text": [
      "                                   states    Cases  Deaths   PCases  PDeaths  Cases (+)  Deaths (+)  Fatality Rate\n",
      "                              Maharashtra  1789800   46683  1789800    46683          0           0           2.61\n",
      "                                Karnataka   876425   11695   876425    11695          0           0           1.33\n",
      "                           Andhra Pradesh   863843    6956   863843     6956          0           0           0.81\n",
      "                               Tamil Nadu   773176   11639   773176    11639          0           0           1.51\n",
      "                                   Kerala   571873    2096   571873     2096          0           0           0.37\n",
      "                                    Delhi   540541    8621   540541     8621          0           0           1.59\n",
      "                            Uttar Pradesh   531050    7615   531050     7615          0           0           1.43\n",
      "                              West Bengal   463463    8121   463463     8121          0           0           1.75\n",
      "                                   Odisha   315906    1724   315271     1724        635           0           0.55\n",
      "                                Telangana   266042    1441   265049     1437        993           4           0.54\n",
      "                                Rajasthan   250482    2200   250482     2200          0           0           0.88\n",
      "                                    Bihar   231697    1233   231697     1233          0           0           0.53\n",
      "                             Chhattisgarh   227326    2767   227326     2767          0           0           1.22\n",
      "                                  Haryana   222292    2249   222292     2249          0           0           1.01\n",
      "                                    Assam   211839     976   211839      976          0           0           0.46\n",
      "                                  Gujarat   200409    3892   200409     3892          0           0           1.94\n",
      "                           Madhya Pradesh   196511    3183   196511     3183          0           0           1.62\n",
      "                                   Punjab   147665    4653   147665     4653          0           0           3.15\n",
      "                                Jharkhand   107921     955   107921      955          0           0           0.88\n",
      "                        Jammu and Kashmir   107330    1651   107330     1651          0           0           1.54\n",
      "                              Uttarakhand    72160    1180    72160     1180          0           0           1.64\n",
      "                                      Goa    47068     679    47068      679          0           0           1.44\n",
      "                               Puducherry    36769     609    36769      609          0           0           1.66\n",
      "                         Himachal Pradesh    35729     562    35729      562          0           0           1.57\n",
      "                                  Tripura    32525     367    32490      367         35           0           1.13\n",
      "                                  Manipur    23940     240    23940      240          0           0           1.00\n",
      "                               Chandigarh    16848     265    16848      265          0           0           1.57\n",
      "                        Arunachal Pradesh    16144      49    16144       49          0           0           0.30\n",
      "                                Meghalaya    11454     110    11454      110          0           0           0.96\n",
      "                                 Nagaland    10931      61    10931       61          0           0           0.56\n",
      "                                   Ladakh     8028     105     8028      105          0           0           1.31\n",
      "                                   Sikkim     4777     102     4777      102          0           0           2.14\n",
      "              Andaman and Nicobar Islands     4667      61     4667       61          0           0           1.31\n",
      "                                  Mizoram     3745       5     3710        5         35           0           0.13\n",
      " Dadra and Nagar Haveli and Daman and Diu     3322       2     3320        2          2           0           0.06\n",
      "                              Lakshadweep        0       0        0        0          0           0            NaN\n"
     ]
    }
   ],
   "source": [
    "#hide_input\n",
    "print(df_table.to_string(index=False))"
   ]
  },
  {
   "cell_type": "code",
   "execution_count": null,
   "metadata": {
    "papermill": {
     "duration": 0.022435,
     "end_time": "2020-11-25T12:45:36.296192",
     "exception": false,
     "start_time": "2020-11-25T12:45:36.273757",
     "status": "completed"
    },
    "tags": []
   },
   "outputs": [],
   "source": []
  },
  {
   "cell_type": "code",
   "execution_count": null,
   "metadata": {
    "papermill": {
     "duration": 0.024142,
     "end_time": "2020-11-25T12:45:36.347513",
     "exception": false,
     "start_time": "2020-11-25T12:45:36.323371",
     "status": "completed"
    },
    "tags": []
   },
   "outputs": [],
   "source": []
  }
 ],
 "metadata": {
  "kernelspec": {
   "display_name": "Python 3",
   "language": "python",
   "name": "python3"
  },
  "language_info": {
   "codemirror_mode": {
    "name": "ipython",
    "version": 3
   },
   "file_extension": ".py",
   "mimetype": "text/x-python",
   "name": "python",
   "nbconvert_exporter": "python",
   "pygments_lexer": "ipython3",
   "version": "3.6.12"
  },
  "papermill": {
   "duration": 13.117388,
   "end_time": "2020-11-25T12:45:36.879357",
   "environment_variables": {},
   "exception": null,
   "input_path": "latest.ipynb",
   "output_path": "latest.ipynb",
   "parameters": {},
   "start_time": "2020-11-25T12:45:23.761969",
   "version": "2.1.2"
  }
 },
 "nbformat": 4,
 "nbformat_minor": 4
}