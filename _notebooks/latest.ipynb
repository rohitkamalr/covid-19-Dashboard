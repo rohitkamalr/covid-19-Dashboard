{
 "cells": [
  {
   "cell_type": "markdown",
   "id": "colored-stack",
   "metadata": {
    "papermill": {
     "duration": 0.018626,
     "end_time": "2021-01-28T15:27:25.251902",
     "exception": false,
     "start_time": "2021-01-28T15:27:25.233276",
     "status": "completed"
    },
    "tags": []
   },
   "source": [
    "# Latest COVID-19 India Matplotlib Overview"
   ]
  },
  {
   "cell_type": "code",
   "execution_count": 1,
   "id": "light-proportion",
   "metadata": {
    "execution": {
     "iopub.execute_input": "2021-01-28T15:27:25.293871Z",
     "iopub.status.busy": "2021-01-28T15:27:25.293351Z",
     "iopub.status.idle": "2021-01-28T15:27:25.816050Z",
     "shell.execute_reply": "2021-01-28T15:27:25.815578Z"
    },
    "papermill": {
     "duration": 0.548947,
     "end_time": "2021-01-28T15:27:25.816204",
     "exception": false,
     "start_time": "2021-01-28T15:27:25.267257",
     "status": "completed"
    },
    "tags": []
   },
   "outputs": [],
   "source": [
    "#hide\n",
    "import pandas as pd\n",
    "import numpy as np\n",
    "import requests\n",
    "import json\n",
    "import matplotlib.pyplot as plt\n",
    "import matplotlib.dates as mdates\n",
    "import matplotlib as mpl\n",
    "from IPython.core.display import display,HTML\n",
    "%matplotlib inline\n",
    "from datetime import date"
   ]
  },
  {
   "cell_type": "code",
   "execution_count": 2,
   "id": "greenhouse-shooting",
   "metadata": {
    "execution": {
     "iopub.execute_input": "2021-01-28T15:27:25.853489Z",
     "iopub.status.busy": "2021-01-28T15:27:25.852953Z",
     "iopub.status.idle": "2021-01-28T15:27:26.216886Z",
     "shell.execute_reply": "2021-01-28T15:27:26.216363Z"
    },
    "papermill": {
     "duration": 0.38588,
     "end_time": "2021-01-28T15:27:26.217031",
     "exception": false,
     "start_time": "2021-01-28T15:27:25.831151",
     "status": "completed"
    },
    "tags": []
   },
   "outputs": [],
   "source": [
    "#hide\n",
    "df  = pd.read_csv('https://api.covid19india.org/csv/latest/states.csv')\n",
    "df = df[['Date','State','Confirmed','Deceased']]\n",
    "df = df.rename(columns={'Confirmed':'Cases', \"Deceased\":'Deaths'})\n",
    "df_cases = df[[\"Date\",'State','Cases']]\n",
    "df_deaths = df[['Date','State','Deaths']]\n",
    "df_cases1 = df_cases.groupby('Date')\n",
    "df_deaths1= df_deaths.groupby('Date')"
   ]
  },
  {
   "cell_type": "code",
   "execution_count": 3,
   "id": "hybrid-cathedral",
   "metadata": {
    "execution": {
     "iopub.execute_input": "2021-01-28T15:27:26.252921Z",
     "iopub.status.busy": "2021-01-28T15:27:26.252381Z",
     "iopub.status.idle": "2021-01-28T15:27:26.268490Z",
     "shell.execute_reply": "2021-01-28T15:27:26.268043Z"
    },
    "papermill": {
     "duration": 0.035912,
     "end_time": "2021-01-28T15:27:26.268616",
     "exception": false,
     "start_time": "2021-01-28T15:27:26.232704",
     "status": "completed"
    },
    "tags": []
   },
   "outputs": [],
   "source": [
    "#hide\n",
    "df_snap = pd.read_csv('data/SnapshotCases-28-July.csv')\n",
    "arr_states = df_snap['states'].unique()\n",
    "arr_dates = df['Date'].unique()\n",
    "df_snap = df_snap.set_index('states')"
   ]
  },
  {
   "cell_type": "code",
   "execution_count": 4,
   "id": "interior-belfast",
   "metadata": {
    "execution": {
     "iopub.execute_input": "2021-01-28T15:27:26.305590Z",
     "iopub.status.busy": "2021-01-28T15:27:26.305056Z",
     "iopub.status.idle": "2021-01-28T15:27:26.307445Z",
     "shell.execute_reply": "2021-01-28T15:27:26.307831Z"
    },
    "papermill": {
     "duration": 0.024561,
     "end_time": "2021-01-28T15:27:26.307972",
     "exception": false,
     "start_time": "2021-01-28T15:27:26.283411",
     "status": "completed"
    },
    "tags": []
   },
   "outputs": [
    {
     "data": {
      "text/plain": [
       "array(['Andaman and Nicobar Islands', 'Andhra Pradesh',\n",
       "       'Arunachal Pradesh', 'Assam', 'Bihar', 'Chandigarh',\n",
       "       'Dadra and Nagar Haveli and Daman and Diu', 'Delhi', 'Goa',\n",
       "       'Gujarat', 'Haryana', 'Himachal Pradesh', 'Jammu and Kashmir',\n",
       "       'Jharkhand', 'Karnataka', 'Kerala', 'Lakshadweep',\n",
       "       'Madhya Pradesh', 'Maharashtra', 'Manipur', 'Meghalaya', 'Mizoram',\n",
       "       'Nagaland', 'Odisha', 'Puducherry', 'Punjab', 'Rajasthan',\n",
       "       'Sikkim', 'Tamil Nadu', 'Telangana', 'Tripura', 'Uttar Pradesh',\n",
       "       'West Bengal', 'Chhattisgarh', 'Ladakh', 'Uttarakhand'],\n",
       "      dtype=object)"
      ]
     },
     "execution_count": 4,
     "metadata": {},
     "output_type": "execute_result"
    }
   ],
   "source": [
    "#hide\n",
    "arr_states[-9] = 'Puducherry'\n",
    "arr_states[-10] = 'Odisha'\n",
    "arr_states[6] = 'Dadra and Nagar Haveli and Daman and Diu'\n",
    "arr_states = np.append(arr_states,np.array(['Chhattisgarh','Ladakh','Uttarakhand']))\n",
    "arr_states"
   ]
  },
  {
   "cell_type": "code",
   "execution_count": 5,
   "id": "behind-manner",
   "metadata": {
    "execution": {
     "iopub.execute_input": "2021-01-28T15:27:26.348841Z",
     "iopub.status.busy": "2021-01-28T15:27:26.348316Z",
     "iopub.status.idle": "2021-01-28T15:27:26.356118Z",
     "shell.execute_reply": "2021-01-28T15:27:26.355692Z"
    },
    "papermill": {
     "duration": 0.033337,
     "end_time": "2021-01-28T15:27:26.356245",
     "exception": false,
     "start_time": "2021-01-28T15:27:26.322908",
     "status": "completed"
    },
    "tags": []
   },
   "outputs": [],
   "source": [
    "#hide\n",
    "dates = []\n",
    "for i in arr_dates:\n",
    "    if i>='2020-07-01':\n",
    "        dates.append(i)\n",
    "dict = {'states':dates}\n",
    "for i in arr_states:\n",
    "    dict[i] = [0]*len(dates)\n",
    "dft_cases = pd.DataFrame(dict)\n",
    "dft_deaths = pd.DataFrame(dict)\n"
   ]
  },
  {
   "cell_type": "code",
   "execution_count": 6,
   "id": "simplified-peter",
   "metadata": {
    "execution": {
     "iopub.execute_input": "2021-01-28T15:27:26.393868Z",
     "iopub.status.busy": "2021-01-28T15:27:26.393330Z",
     "iopub.status.idle": "2021-01-28T15:27:28.944667Z",
     "shell.execute_reply": "2021-01-28T15:27:28.944150Z"
    },
    "papermill": {
     "duration": 2.573314,
     "end_time": "2021-01-28T15:27:28.944815",
     "exception": false,
     "start_time": "2021-01-28T15:27:26.371501",
     "status": "completed"
    },
    "tags": []
   },
   "outputs": [],
   "source": [
    "#hide\n",
    "for i in range(len(dates)):\n",
    "    df1_deaths = df_deaths1.get_group(dates[i])\n",
    "    for j in range(len(df1_deaths.index)):\n",
    "        if df1_deaths.iloc[j,1] in arr_states:\n",
    "            dft_deaths.loc[i,df1_deaths.iloc[j,1]] = df1_deaths.iloc[j,2]\n",
    "dft_deaths = dft_deaths.set_index('states')"
   ]
  },
  {
   "cell_type": "code",
   "execution_count": 7,
   "id": "geological-welding",
   "metadata": {
    "execution": {
     "iopub.execute_input": "2021-01-28T15:27:28.982388Z",
     "iopub.status.busy": "2021-01-28T15:27:28.981831Z",
     "iopub.status.idle": "2021-01-28T15:27:31.543155Z",
     "shell.execute_reply": "2021-01-28T15:27:31.543652Z"
    },
    "papermill": {
     "duration": 2.583046,
     "end_time": "2021-01-28T15:27:31.543827",
     "exception": false,
     "start_time": "2021-01-28T15:27:28.960781",
     "status": "completed"
    },
    "tags": []
   },
   "outputs": [],
   "source": [
    "#hide\n",
    "for i in range(len(dates)):\n",
    "    df1_cases = df_cases1.get_group(dates[i])\n",
    "    for j in range(len(df1_cases.index)):\n",
    "        if df1_cases.iloc[j,1] in arr_states:\n",
    "            dft_cases.loc[i,df1_cases.iloc[j,1]] = df1_cases.iloc[j,2]\n",
    "dft_cases = dft_cases.set_index('states')"
   ]
  },
  {
   "cell_type": "code",
   "execution_count": 8,
   "id": "binary-ratio",
   "metadata": {
    "execution": {
     "iopub.execute_input": "2021-01-28T15:27:31.581400Z",
     "iopub.status.busy": "2021-01-28T15:27:31.580800Z",
     "iopub.status.idle": "2021-01-28T15:27:31.584510Z",
     "shell.execute_reply": "2021-01-28T15:27:31.584089Z"
    },
    "papermill": {
     "duration": 0.024481,
     "end_time": "2021-01-28T15:27:31.584635",
     "exception": false,
     "start_time": "2021-01-28T15:27:31.560154",
     "status": "completed"
    },
    "tags": []
   },
   "outputs": [],
   "source": [
    "#hide\n",
    "dft_cases = dft_cases.T\n",
    "dft_deaths = dft_deaths.T\n",
    "dt_today = dates[-1]\n",
    "dt_yday = dates[-2]"
   ]
  },
  {
   "cell_type": "code",
   "execution_count": 9,
   "id": "boolean-calculator",
   "metadata": {
    "execution": {
     "iopub.execute_input": "2021-01-28T15:27:31.622381Z",
     "iopub.status.busy": "2021-01-28T15:27:31.620917Z",
     "iopub.status.idle": "2021-01-28T15:27:31.624781Z",
     "shell.execute_reply": "2021-01-28T15:27:31.624373Z"
    },
    "papermill": {
     "duration": 0.025201,
     "end_time": "2021-01-28T15:27:31.624907",
     "exception": false,
     "start_time": "2021-01-28T15:27:31.599706",
     "status": "completed"
    },
    "tags": []
   },
   "outputs": [],
   "source": [
    "#hide\n",
    "dft_cases = dft_cases.reset_index()\n",
    "dft_deaths = dft_deaths.reset_index()\n",
    "dft_cases = dft_cases.rename(columns = {'index':'state'})\n",
    "dft_deaths = dft_deaths.rename(columns = {'index':'state'})"
   ]
  },
  {
   "cell_type": "code",
   "execution_count": 10,
   "id": "invisible-johnston",
   "metadata": {
    "execution": {
     "iopub.execute_input": "2021-01-28T15:27:31.663333Z",
     "iopub.status.busy": "2021-01-28T15:27:31.662796Z",
     "iopub.status.idle": "2021-01-28T15:27:31.668236Z",
     "shell.execute_reply": "2021-01-28T15:27:31.667822Z"
    },
    "papermill": {
     "duration": 0.028355,
     "end_time": "2021-01-28T15:27:31.668360",
     "exception": false,
     "start_time": "2021-01-28T15:27:31.640005",
     "status": "completed"
    },
    "tags": []
   },
   "outputs": [],
   "source": [
    "#hide\n",
    "dfc_cases = dft_cases.groupby('state')[dt_today].sum()\n",
    "dfc_deaths = dft_deaths.groupby('state')[dt_today].sum()\n",
    "dfp_cases = dft_cases.groupby('state')[dt_yday].sum()\n",
    "dfp_deaths = dft_deaths.groupby('state')[dt_yday].sum()"
   ]
  },
  {
   "cell_type": "code",
   "execution_count": 11,
   "id": "measured-great",
   "metadata": {
    "execution": {
     "iopub.execute_input": "2021-01-28T15:27:31.712433Z",
     "iopub.status.busy": "2021-01-28T15:27:31.711902Z",
     "iopub.status.idle": "2021-01-28T15:27:31.717420Z",
     "shell.execute_reply": "2021-01-28T15:27:31.717850Z"
    },
    "papermill": {
     "duration": 0.034398,
     "end_time": "2021-01-28T15:27:31.717997",
     "exception": false,
     "start_time": "2021-01-28T15:27:31.683599",
     "status": "completed"
    },
    "tags": []
   },
   "outputs": [
    {
     "data": {
      "text/html": [
       "<div>\n",
       "<style scoped>\n",
       "    .dataframe tbody tr th:only-of-type {\n",
       "        vertical-align: middle;\n",
       "    }\n",
       "\n",
       "    .dataframe tbody tr th {\n",
       "        vertical-align: top;\n",
       "    }\n",
       "\n",
       "    .dataframe thead th {\n",
       "        text-align: right;\n",
       "    }\n",
       "</style>\n",
       "<table border=\"1\" class=\"dataframe\">\n",
       "  <thead>\n",
       "    <tr style=\"text-align: right;\">\n",
       "      <th></th>\n",
       "      <th>states</th>\n",
       "      <th>Cases</th>\n",
       "      <th>Deaths</th>\n",
       "      <th>PCases</th>\n",
       "      <th>PDeaths</th>\n",
       "    </tr>\n",
       "  </thead>\n",
       "  <tbody>\n",
       "    <tr>\n",
       "      <th>0</th>\n",
       "      <td>Maharashtra</td>\n",
       "      <td>2015524</td>\n",
       "      <td>50894</td>\n",
       "      <td>2015524</td>\n",
       "      <td>50894</td>\n",
       "    </tr>\n",
       "    <tr>\n",
       "      <th>1</th>\n",
       "      <td>Karnataka</td>\n",
       "      <td>937383</td>\n",
       "      <td>12207</td>\n",
       "      <td>937383</td>\n",
       "      <td>12207</td>\n",
       "    </tr>\n",
       "    <tr>\n",
       "      <th>2</th>\n",
       "      <td>Kerala</td>\n",
       "      <td>905592</td>\n",
       "      <td>3664</td>\n",
       "      <td>905592</td>\n",
       "      <td>3664</td>\n",
       "    </tr>\n",
       "    <tr>\n",
       "      <th>3</th>\n",
       "      <td>Andhra Pradesh</td>\n",
       "      <td>887349</td>\n",
       "      <td>7152</td>\n",
       "      <td>887349</td>\n",
       "      <td>7152</td>\n",
       "    </tr>\n",
       "    <tr>\n",
       "      <th>4</th>\n",
       "      <td>Tamil Nadu</td>\n",
       "      <td>836315</td>\n",
       "      <td>12333</td>\n",
       "      <td>836315</td>\n",
       "      <td>12333</td>\n",
       "    </tr>\n",
       "  </tbody>\n",
       "</table>\n",
       "</div>"
      ],
      "text/plain": [
       "           states    Cases  Deaths   PCases  PDeaths\n",
       "0     Maharashtra  2015524   50894  2015524    50894\n",
       "1       Karnataka   937383   12207   937383    12207\n",
       "2          Kerala   905592    3664   905592     3664\n",
       "3  Andhra Pradesh   887349    7152   887349     7152\n",
       "4      Tamil Nadu   836315   12333   836315    12333"
      ]
     },
     "execution_count": 11,
     "metadata": {},
     "output_type": "execute_result"
    }
   ],
   "source": [
    "#hide\n",
    "df_table = pd.DataFrame({'states': dfc_cases.index, 'Cases': dfc_cases.values, 'Deaths': dfc_deaths.values, 'PCases': dfp_cases.values, 'PDeaths': dfp_deaths.values}).set_index('states')\n",
    "df_table = df_table.sort_values(by = ['Cases','Deaths'], ascending = [False, False])\n",
    "df_table = df_table.reset_index()\n",
    "df_table.head()"
   ]
  },
  {
   "cell_type": "code",
   "execution_count": 12,
   "id": "found-montreal",
   "metadata": {
    "execution": {
     "iopub.execute_input": "2021-01-28T15:27:31.754333Z",
     "iopub.status.busy": "2021-01-28T15:27:31.753799Z",
     "iopub.status.idle": "2021-01-28T15:27:31.762084Z",
     "shell.execute_reply": "2021-01-28T15:27:31.761646Z"
    },
    "papermill": {
     "duration": 0.028804,
     "end_time": "2021-01-28T15:27:31.762204",
     "exception": false,
     "start_time": "2021-01-28T15:27:31.733400",
     "status": "completed"
    },
    "tags": []
   },
   "outputs": [],
   "source": [
    "#hide\n",
    "for c in 'Cases, Deaths'.split(', '):\n",
    "    df_table[f'{c} (+)'] = (df_table[c] - df_table[f'P{c}']).clip(0)\n",
    "df_table['Fatality Rate'] = (100* df_table['Deaths']/ df_table['Cases']).round(2)"
   ]
  },
  {
   "cell_type": "code",
   "execution_count": 13,
   "id": "minus-savage",
   "metadata": {
    "execution": {
     "iopub.execute_input": "2021-01-28T15:27:31.803245Z",
     "iopub.status.busy": "2021-01-28T15:27:31.802692Z",
     "iopub.status.idle": "2021-01-28T15:27:31.805524Z",
     "shell.execute_reply": "2021-01-28T15:27:31.805087Z"
    },
    "papermill": {
     "duration": 0.027948,
     "end_time": "2021-01-28T15:27:31.805646",
     "exception": false,
     "start_time": "2021-01-28T15:27:31.777698",
     "status": "completed"
    },
    "tags": []
   },
   "outputs": [
    {
     "data": {
      "text/html": [
       "<div>\n",
       "<style scoped>\n",
       "    .dataframe tbody tr th:only-of-type {\n",
       "        vertical-align: middle;\n",
       "    }\n",
       "\n",
       "    .dataframe tbody tr th {\n",
       "        vertical-align: top;\n",
       "    }\n",
       "\n",
       "    .dataframe thead th {\n",
       "        text-align: right;\n",
       "    }\n",
       "</style>\n",
       "<table border=\"1\" class=\"dataframe\">\n",
       "  <thead>\n",
       "    <tr style=\"text-align: right;\">\n",
       "      <th></th>\n",
       "      <th>states</th>\n",
       "      <th>Cases</th>\n",
       "      <th>Deaths</th>\n",
       "      <th>PCases</th>\n",
       "      <th>PDeaths</th>\n",
       "      <th>Cases (+)</th>\n",
       "      <th>Deaths (+)</th>\n",
       "      <th>Fatality Rate</th>\n",
       "    </tr>\n",
       "  </thead>\n",
       "  <tbody>\n",
       "    <tr>\n",
       "      <th>0</th>\n",
       "      <td>Maharashtra</td>\n",
       "      <td>2015524</td>\n",
       "      <td>50894</td>\n",
       "      <td>2015524</td>\n",
       "      <td>50894</td>\n",
       "      <td>0</td>\n",
       "      <td>0</td>\n",
       "      <td>2.53</td>\n",
       "    </tr>\n",
       "    <tr>\n",
       "      <th>1</th>\n",
       "      <td>Karnataka</td>\n",
       "      <td>937383</td>\n",
       "      <td>12207</td>\n",
       "      <td>937383</td>\n",
       "      <td>12207</td>\n",
       "      <td>0</td>\n",
       "      <td>0</td>\n",
       "      <td>1.30</td>\n",
       "    </tr>\n",
       "    <tr>\n",
       "      <th>2</th>\n",
       "      <td>Kerala</td>\n",
       "      <td>905592</td>\n",
       "      <td>3664</td>\n",
       "      <td>905592</td>\n",
       "      <td>3664</td>\n",
       "      <td>0</td>\n",
       "      <td>0</td>\n",
       "      <td>0.40</td>\n",
       "    </tr>\n",
       "    <tr>\n",
       "      <th>3</th>\n",
       "      <td>Andhra Pradesh</td>\n",
       "      <td>887349</td>\n",
       "      <td>7152</td>\n",
       "      <td>887349</td>\n",
       "      <td>7152</td>\n",
       "      <td>0</td>\n",
       "      <td>0</td>\n",
       "      <td>0.81</td>\n",
       "    </tr>\n",
       "    <tr>\n",
       "      <th>4</th>\n",
       "      <td>Tamil Nadu</td>\n",
       "      <td>836315</td>\n",
       "      <td>12333</td>\n",
       "      <td>836315</td>\n",
       "      <td>12333</td>\n",
       "      <td>0</td>\n",
       "      <td>0</td>\n",
       "      <td>1.47</td>\n",
       "    </tr>\n",
       "  </tbody>\n",
       "</table>\n",
       "</div>"
      ],
      "text/plain": [
       "           states    Cases  Deaths   PCases  PDeaths  Cases (+)  Deaths (+)  \\\n",
       "0     Maharashtra  2015524   50894  2015524    50894          0           0   \n",
       "1       Karnataka   937383   12207   937383    12207          0           0   \n",
       "2          Kerala   905592    3664   905592     3664          0           0   \n",
       "3  Andhra Pradesh   887349    7152   887349     7152          0           0   \n",
       "4      Tamil Nadu   836315   12333   836315    12333          0           0   \n",
       "\n",
       "   Fatality Rate  \n",
       "0           2.53  \n",
       "1           1.30  \n",
       "2           0.40  \n",
       "3           0.81  \n",
       "4           1.47  "
      ]
     },
     "execution_count": 13,
     "metadata": {},
     "output_type": "execute_result"
    }
   ],
   "source": [
    "#hide\n",
    "df_table.head()"
   ]
  },
  {
   "cell_type": "code",
   "execution_count": 14,
   "id": "false-peter",
   "metadata": {
    "execution": {
     "iopub.execute_input": "2021-01-28T15:27:31.843387Z",
     "iopub.status.busy": "2021-01-28T15:27:31.842872Z",
     "iopub.status.idle": "2021-01-28T15:27:31.857845Z",
     "shell.execute_reply": "2021-01-28T15:27:31.857428Z"
    },
    "papermill": {
     "duration": 0.036217,
     "end_time": "2021-01-28T15:27:31.857971",
     "exception": false,
     "start_time": "2021-01-28T15:27:31.821754",
     "status": "completed"
    },
    "tags": []
   },
   "outputs": [
    {
     "data": {
      "text/plain": [
       "{'updated': '2021-01-28',\n",
       " 'since': '2021-01-27',\n",
       " 'Cases': 10702730,\n",
       " 'PCases': 10702061,\n",
       " 'Deaths': 153895,\n",
       " 'PDeaths': 153885,\n",
       " 'Cases (+)': 669,\n",
       " 'Deaths (+)': 10}"
      ]
     },
     "execution_count": 14,
     "metadata": {},
     "output_type": "execute_result"
    }
   ],
   "source": [
    "#hide\n",
    "summary = {'updated':dates[-1], 'since':dates[-2]}\n",
    "list_names = ['Cases', 'PCases', 'Deaths', 'PDeaths', 'Cases (+)', 'Deaths (+)']\n",
    "for name in list_names:\n",
    "    summary[name] = df_table.sum()[name]\n",
    "summary"
   ]
  },
  {
   "cell_type": "code",
   "execution_count": 15,
   "id": "packed-viewer",
   "metadata": {
    "execution": {
     "iopub.execute_input": "2021-01-28T15:27:31.895028Z",
     "iopub.status.busy": "2021-01-28T15:27:31.894500Z",
     "iopub.status.idle": "2021-01-28T15:27:31.896307Z",
     "shell.execute_reply": "2021-01-28T15:27:31.896697Z"
    },
    "papermill": {
     "duration": 0.022749,
     "end_time": "2021-01-28T15:27:31.896834",
     "exception": false,
     "start_time": "2021-01-28T15:27:31.874085",
     "status": "completed"
    },
    "tags": []
   },
   "outputs": [],
   "source": [
    "#hide\n",
    "overview = '''\n",
    "<!-- #######  HTML!! #########-->\n",
    "<h1 style=\"color: #5e9ca0; text-align: center;\">India</h1>\n",
    "<p style=\"text-align: center;\">Last update: <strong>{update}</strong></p>\n",
    "<p style=\"text-align: center;\">Confirmed cases:</p>\n",
    "<p style=\"text-align: center;font-size:24px;\">{cases} (<span style=\"color: #ff0000;\">+{new}</span>)</p>\n",
    "<p style=\"text-align: center;\">Confirmed deaths:</p>\n",
    "<p style=\"text-align: center;font-size:24px;\">{deaths} (<span style=\"color: #ff0000;\">+{dnew}</span>)</p>\n",
    "'''"
   ]
  },
  {
   "cell_type": "code",
   "execution_count": 16,
   "id": "phantom-lover",
   "metadata": {
    "execution": {
     "iopub.execute_input": "2021-01-28T15:27:31.935037Z",
     "iopub.status.busy": "2021-01-28T15:27:31.934514Z",
     "iopub.status.idle": "2021-01-28T15:27:31.937922Z",
     "shell.execute_reply": "2021-01-28T15:27:31.937505Z"
    },
    "papermill": {
     "duration": 0.025049,
     "end_time": "2021-01-28T15:27:31.938043",
     "exception": false,
     "start_time": "2021-01-28T15:27:31.912994",
     "status": "completed"
    },
    "tags": []
   },
   "outputs": [
    {
     "data": {
      "text/html": [
       "\n",
       "<!-- #######  HTML!! #########-->\n",
       "<h1 style=\"color: #5e9ca0; text-align: center;\">India</h1>\n",
       "<p style=\"text-align: center;\">Last update: <strong>2021-01-28</strong></p>\n",
       "<p style=\"text-align: center;\">Confirmed cases:</p>\n",
       "<p style=\"text-align: center;font-size:24px;\">10702730 (<span style=\"color: #ff0000;\">+669</span>)</p>\n",
       "<p style=\"text-align: center;\">Confirmed deaths:</p>\n",
       "<p style=\"text-align: center;font-size:24px;\">153895 (<span style=\"color: #ff0000;\">+10</span>)</p>\n"
      ],
      "text/plain": [
       "<IPython.core.display.HTML object>"
      ]
     },
     "metadata": {},
     "output_type": "display_data"
    }
   ],
   "source": [
    "#hide_input\n",
    "update = summary['updated']\n",
    "cases = summary['Cases']\n",
    "new = summary['Cases (+)']\n",
    "deaths = summary['Deaths']\n",
    "dnew = summary['Deaths (+)']\n",
    "\n",
    "html = HTML(overview.format(update=update, cases=cases,new=new,deaths=deaths,dnew=dnew))\n",
    "\n",
    "display(html)"
   ]
  },
  {
   "cell_type": "code",
   "execution_count": 17,
   "id": "sealed-reset",
   "metadata": {
    "execution": {
     "iopub.execute_input": "2021-01-28T15:27:31.977840Z",
     "iopub.status.busy": "2021-01-28T15:27:31.977320Z",
     "iopub.status.idle": "2021-01-28T15:27:31.983701Z",
     "shell.execute_reply": "2021-01-28T15:27:31.984122Z"
    },
    "papermill": {
     "duration": 0.029327,
     "end_time": "2021-01-28T15:27:31.984266",
     "exception": false,
     "start_time": "2021-01-28T15:27:31.954939",
     "status": "completed"
    },
    "tags": []
   },
   "outputs": [],
   "source": [
    "#hide\n",
    "dt_cols = list(dft_cases.columns[1:])\n",
    "dft_ct_new_cases = dft_cases.groupby('state')[dt_cols].sum().diff(axis=1).fillna(0).astype(int)\n",
    "dft_ct_new_cases.sort_values(by = dates[-1], ascending = False,inplace = True)"
   ]
  },
  {
   "cell_type": "code",
   "execution_count": 18,
   "id": "designed-constant",
   "metadata": {
    "execution": {
     "iopub.execute_input": "2021-01-28T15:27:32.034531Z",
     "iopub.status.busy": "2021-01-28T15:27:32.033955Z",
     "iopub.status.idle": "2021-01-28T15:27:32.037120Z",
     "shell.execute_reply": "2021-01-28T15:27:32.036684Z"
    },
    "papermill": {
     "duration": 0.036295,
     "end_time": "2021-01-28T15:27:32.037241",
     "exception": false,
     "start_time": "2021-01-28T15:27:32.000946",
     "status": "completed"
    },
    "tags": []
   },
   "outputs": [
    {
     "data": {
      "text/html": [
       "<div>\n",
       "<style scoped>\n",
       "    .dataframe tbody tr th:only-of-type {\n",
       "        vertical-align: middle;\n",
       "    }\n",
       "\n",
       "    .dataframe tbody tr th {\n",
       "        vertical-align: top;\n",
       "    }\n",
       "\n",
       "    .dataframe thead th {\n",
       "        text-align: right;\n",
       "    }\n",
       "</style>\n",
       "<table border=\"1\" class=\"dataframe\">\n",
       "  <thead>\n",
       "    <tr style=\"text-align: right;\">\n",
       "      <th>states</th>\n",
       "      <th>2020-07-01</th>\n",
       "      <th>2020-07-02</th>\n",
       "      <th>2020-07-03</th>\n",
       "      <th>2020-07-04</th>\n",
       "      <th>2020-07-05</th>\n",
       "      <th>2020-07-06</th>\n",
       "      <th>2020-07-07</th>\n",
       "      <th>2020-07-08</th>\n",
       "      <th>2020-07-09</th>\n",
       "      <th>2020-07-10</th>\n",
       "      <th>...</th>\n",
       "      <th>2021-01-19</th>\n",
       "      <th>2021-01-20</th>\n",
       "      <th>2021-01-21</th>\n",
       "      <th>2021-01-22</th>\n",
       "      <th>2021-01-23</th>\n",
       "      <th>2021-01-24</th>\n",
       "      <th>2021-01-25</th>\n",
       "      <th>2021-01-26</th>\n",
       "      <th>2021-01-27</th>\n",
       "      <th>2021-01-28</th>\n",
       "    </tr>\n",
       "    <tr>\n",
       "      <th>state</th>\n",
       "      <th></th>\n",
       "      <th></th>\n",
       "      <th></th>\n",
       "      <th></th>\n",
       "      <th></th>\n",
       "      <th></th>\n",
       "      <th></th>\n",
       "      <th></th>\n",
       "      <th></th>\n",
       "      <th></th>\n",
       "      <th></th>\n",
       "      <th></th>\n",
       "      <th></th>\n",
       "      <th></th>\n",
       "      <th></th>\n",
       "      <th></th>\n",
       "      <th></th>\n",
       "      <th></th>\n",
       "      <th></th>\n",
       "      <th></th>\n",
       "      <th></th>\n",
       "    </tr>\n",
       "  </thead>\n",
       "  <tbody>\n",
       "    <tr>\n",
       "      <th>Gujarat</th>\n",
       "      <td>0</td>\n",
       "      <td>681</td>\n",
       "      <td>687</td>\n",
       "      <td>712</td>\n",
       "      <td>725</td>\n",
       "      <td>735</td>\n",
       "      <td>778</td>\n",
       "      <td>783</td>\n",
       "      <td>861</td>\n",
       "      <td>875</td>\n",
       "      <td>...</td>\n",
       "      <td>485</td>\n",
       "      <td>490</td>\n",
       "      <td>471</td>\n",
       "      <td>451</td>\n",
       "      <td>423</td>\n",
       "      <td>410</td>\n",
       "      <td>390</td>\n",
       "      <td>380</td>\n",
       "      <td>353</td>\n",
       "      <td>346</td>\n",
       "    </tr>\n",
       "    <tr>\n",
       "      <th>Delhi</th>\n",
       "      <td>0</td>\n",
       "      <td>2373</td>\n",
       "      <td>2520</td>\n",
       "      <td>2505</td>\n",
       "      <td>2244</td>\n",
       "      <td>1379</td>\n",
       "      <td>2008</td>\n",
       "      <td>2033</td>\n",
       "      <td>2187</td>\n",
       "      <td>2089</td>\n",
       "      <td>...</td>\n",
       "      <td>231</td>\n",
       "      <td>228</td>\n",
       "      <td>227</td>\n",
       "      <td>266</td>\n",
       "      <td>197</td>\n",
       "      <td>185</td>\n",
       "      <td>148</td>\n",
       "      <td>157</td>\n",
       "      <td>96</td>\n",
       "      <td>199</td>\n",
       "    </tr>\n",
       "    <tr>\n",
       "      <th>Goa</th>\n",
       "      <td>0</td>\n",
       "      <td>95</td>\n",
       "      <td>94</td>\n",
       "      <td>108</td>\n",
       "      <td>77</td>\n",
       "      <td>52</td>\n",
       "      <td>90</td>\n",
       "      <td>136</td>\n",
       "      <td>112</td>\n",
       "      <td>100</td>\n",
       "      <td>...</td>\n",
       "      <td>112</td>\n",
       "      <td>87</td>\n",
       "      <td>55</td>\n",
       "      <td>70</td>\n",
       "      <td>85</td>\n",
       "      <td>53</td>\n",
       "      <td>57</td>\n",
       "      <td>70</td>\n",
       "      <td>53</td>\n",
       "      <td>85</td>\n",
       "    </tr>\n",
       "    <tr>\n",
       "      <th>Chandigarh</th>\n",
       "      <td>0</td>\n",
       "      <td>4</td>\n",
       "      <td>4</td>\n",
       "      <td>5</td>\n",
       "      <td>7</td>\n",
       "      <td>21</td>\n",
       "      <td>5</td>\n",
       "      <td>15</td>\n",
       "      <td>16</td>\n",
       "      <td>13</td>\n",
       "      <td>...</td>\n",
       "      <td>31</td>\n",
       "      <td>28</td>\n",
       "      <td>16</td>\n",
       "      <td>25</td>\n",
       "      <td>22</td>\n",
       "      <td>32</td>\n",
       "      <td>61</td>\n",
       "      <td>0</td>\n",
       "      <td>40</td>\n",
       "      <td>36</td>\n",
       "    </tr>\n",
       "    <tr>\n",
       "      <th>Mizoram</th>\n",
       "      <td>0</td>\n",
       "      <td>2</td>\n",
       "      <td>0</td>\n",
       "      <td>2</td>\n",
       "      <td>22</td>\n",
       "      <td>11</td>\n",
       "      <td>1</td>\n",
       "      <td>5</td>\n",
       "      <td>0</td>\n",
       "      <td>23</td>\n",
       "      <td>...</td>\n",
       "      <td>6</td>\n",
       "      <td>5</td>\n",
       "      <td>12</td>\n",
       "      <td>3</td>\n",
       "      <td>0</td>\n",
       "      <td>2</td>\n",
       "      <td>0</td>\n",
       "      <td>5</td>\n",
       "      <td>3</td>\n",
       "      <td>3</td>\n",
       "    </tr>\n",
       "  </tbody>\n",
       "</table>\n",
       "<p>5 rows × 212 columns</p>\n",
       "</div>"
      ],
      "text/plain": [
       "states      2020-07-01  2020-07-02  2020-07-03  2020-07-04  2020-07-05  \\\n",
       "state                                                                    \n",
       "Gujarat              0         681         687         712         725   \n",
       "Delhi                0        2373        2520        2505        2244   \n",
       "Goa                  0          95          94         108          77   \n",
       "Chandigarh           0           4           4           5           7   \n",
       "Mizoram              0           2           0           2          22   \n",
       "\n",
       "states      2020-07-06  2020-07-07  2020-07-08  2020-07-09  2020-07-10  ...  \\\n",
       "state                                                                   ...   \n",
       "Gujarat            735         778         783         861         875  ...   \n",
       "Delhi             1379        2008        2033        2187        2089  ...   \n",
       "Goa                 52          90         136         112         100  ...   \n",
       "Chandigarh          21           5          15          16          13  ...   \n",
       "Mizoram             11           1           5           0          23  ...   \n",
       "\n",
       "states      2021-01-19  2021-01-20  2021-01-21  2021-01-22  2021-01-23  \\\n",
       "state                                                                    \n",
       "Gujarat            485         490         471         451         423   \n",
       "Delhi              231         228         227         266         197   \n",
       "Goa                112          87          55          70          85   \n",
       "Chandigarh          31          28          16          25          22   \n",
       "Mizoram              6           5          12           3           0   \n",
       "\n",
       "states      2021-01-24  2021-01-25  2021-01-26  2021-01-27  2021-01-28  \n",
       "state                                                                   \n",
       "Gujarat            410         390         380         353         346  \n",
       "Delhi              185         148         157          96         199  \n",
       "Goa                 53          57          70          53          85  \n",
       "Chandigarh          32          61           0          40          36  \n",
       "Mizoram              2           0           5           3           3  \n",
       "\n",
       "[5 rows x 212 columns]"
      ]
     },
     "execution_count": 18,
     "metadata": {},
     "output_type": "execute_result"
    }
   ],
   "source": [
    "#hide\n",
    "dft_ct_new_cases.head()"
   ]
  },
  {
   "cell_type": "code",
   "execution_count": 19,
   "id": "responsible-nightlife",
   "metadata": {
    "execution": {
     "iopub.execute_input": "2021-01-28T15:27:32.085608Z",
     "iopub.status.busy": "2021-01-28T15:27:32.085018Z",
     "iopub.status.idle": "2021-01-28T15:27:38.325305Z",
     "shell.execute_reply": "2021-01-28T15:27:38.325717Z"
    },
    "papermill": {
     "duration": 6.271342,
     "end_time": "2021-01-28T15:27:38.325868",
     "exception": false,
     "start_time": "2021-01-28T15:27:32.054526",
     "status": "completed"
    },
    "tags": []
   },
   "outputs": [
    {
     "data": {
      "image/png": "[encoded data removed]",
      "text/plain": [
       "<Figure size 1296x2016 with 11 Axes>"
      ]
     },
     "metadata": {
      "needs_background": "light"
     },
     "output_type": "display_data"
    }
   ],
   "source": [
    "#hide_input\n",
    "df = dft_ct_new_cases.copy()\n",
    "df.loc['Total'] = df.sum()\n",
    "n = 5\n",
    "ax = []\n",
    "fig = plt.figure(figsize = (18,28))\n",
    "gs = fig.add_gridspec(n+2, 5)\n",
    "# gs = fig.add_gridspec(2, 3)\n",
    "ax1 = fig.add_subplot(gs[0, :])\n",
    "ef = df.loc['Total'].rename_axis('date').reset_index()\n",
    "ef['date'] = ef['date'].astype('datetime64[ns]')\n",
    "ax1.bar(ef.date,ef.Total,alpha=0.3,color='#007acc')\n",
    "ax1.plot(ef.date,ef.Total , marker=\"o\", color='#007acc')\n",
    "ax1.xaxis.set_major_locator(mdates.WeekdayLocator())\n",
    "ax1.xaxis.set_major_formatter(mdates.DateFormatter('%b %d'))\n",
    "ax1.text(0.02, 0.5,'India daily case count', transform = ax1.transAxes, fontsize=25);\n",
    "ax1.spines['right'].set_visible(False)\n",
    "ax1.spines['top'].set_visible(False)\n",
    "\n",
    "ax2 = fig.add_subplot(gs[1,0])\n",
    "ef = df.loc['Maharashtra'].rename_axis('date').reset_index()\n",
    "ef['date'] = ef['date'].astype('datetime64[ns]')\n",
    "\n",
    "ax2.bar(ef.date, ef.Maharashtra,color = '#007acc',alpha=0.5)\n",
    "ax2.xaxis.set_major_locator(mdates.WeekdayLocator())\n",
    "ax2.xaxis.set_major_formatter(mdates.DateFormatter('%b %d'))\n",
    "ax2.set_xticks(ax2.get_xticks()[::3])\n",
    "maxyval = ef.Maharashtra.max()\n",
    "ax2.set_ylim([0,maxyval])\n",
    "ax2.text(0.05, 0.9,'Maharashtra', transform = ax2.transAxes, fontsize=20);\n",
    "ax2.spines['right'].set_visible(False)\n",
    "ax2.spines['top'].set_visible(False)\n",
    "\n",
    "\n",
    "ax3 = fig.add_subplot(gs[1,1])\n",
    "ef = df.loc['Tamil Nadu'].rename_axis('date').reset_index()\n",
    "ef['date'] = ef['date'].astype('datetime64[ns]')\n",
    "ax3.bar(ef.date, ef['Tamil Nadu'],color = '#007acc',alpha=0.5,)\n",
    "ax3.xaxis.set_major_locator(mdates.WeekdayLocator())\n",
    "ax3.xaxis.set_major_formatter(mdates.DateFormatter('%b %d'))\n",
    "ax3.set_xticks(ax3.get_xticks()[::3])\n",
    "ax3.text(0.05, 0.9,'Tamil Nadu', transform = ax3.transAxes, fontsize=20);\n",
    "ax3.spines['right'].set_visible(False)\n",
    "ax3.spines['top'].set_visible(False)\n",
    "\n",
    "ax5 = fig.add_subplot(gs[1,3])\n",
    "ef = df.loc['Telangana'].rename_axis('date').reset_index()\n",
    "ef['date'] = ef['date'].astype('datetime64[ns]')\n",
    "ax5.bar(ef.date, ef['Telangana'],color = '#007acc',alpha=0.5,)\n",
    "ax5.xaxis.set_major_locator(mdates.WeekdayLocator())\n",
    "ax5.xaxis.set_major_formatter(mdates.DateFormatter('%b %d'))\n",
    "ax5.set_xticks(ax5.get_xticks()[::3])\n",
    "ax5.text(0.05, 0.9,'Telangana', transform = ax5.transAxes, fontsize=20);\n",
    "ax5.spines['right'].set_visible(False)\n",
    "ax5.spines['top'].set_visible(False)\n",
    "\n",
    "ax6 = fig.add_subplot(gs[1,4])\n",
    "ef = df.loc['Andhra Pradesh'].rename_axis('date').reset_index()\n",
    "ef['date'] = ef['date'].astype('datetime64[ns]')\n",
    "ax6.bar(ef.date, ef['Andhra Pradesh'],color = '#007acc',alpha=0.5,)\n",
    "ax6.xaxis.set_major_locator(mdates.WeekdayLocator())\n",
    "ax6.xaxis.set_major_formatter(mdates.DateFormatter('%b %d'))\n",
    "ax6.set_xticks(ax6.get_xticks()[::3])\n",
    "ax6.text(0.05, 1,'Andhra Pradesh', transform = ax6.transAxes, fontsize=20);\n",
    "ax6.spines['right'].set_visible(False)\n",
    "ax6.spines['top'].set_visible(False)\n",
    "\n",
    "ax4 = fig.add_subplot(gs[1,2])\n",
    "ef = df.loc['Delhi'].rename_axis('date').reset_index()\n",
    "ef['date'] = ef['date'].astype('datetime64[ns]')\n",
    "ax4.bar(ef.date, ef.Delhi,color = '#007acc',alpha=0.5)\n",
    "ax4.set_xticks([])\n",
    "ax4.xaxis.set_major_locator(mdates.WeekdayLocator())\n",
    "ax4.xaxis.set_major_formatter(mdates.DateFormatter('%b %d'))\n",
    "ax4.set_xticks(ax4.get_xticks()[::3])\n",
    "ax4.spines['right'].set_visible(False)\n",
    "ax4.spines['top'].set_visible(False)\n",
    "\n",
    "ax4.text(0.05, 1,'Delhi', transform = ax4.transAxes, fontsize=20)\n",
    "\n",
    "for i in range(n):\n",
    "    \n",
    "    ax.append(fig.add_subplot(gs[i+2,:]))\n",
    "    ef = df.iloc[i+3].rename_axis('date').reset_index()\n",
    "    ef['date'] = ef['date'].astype('datetime64[ns]')\n",
    "    ax[i].bar(ef.date,ef.iloc[:,-1],color = '#007acc',alpha=0.3)\n",
    "    ax[i].plot(ef.date,ef.iloc[:,-1],marker='o',color='#007acc')\n",
    "    ax[i].text(0.02,0.5,f'{ef.columns.values[-1]}',transform = ax[i].transAxes, fontsize = 20);\n",
    "    ax[i].xaxis.set_major_locator(mdates.WeekdayLocator())\n",
    "    ax[i].xaxis.set_major_formatter(mdates.DateFormatter('%b %d'))\n",
    "    ax[i].set_ylim([0,7000])\n",
    "    ax[i].spines['right'].set_visible(False)\n",
    "    ax[i].spines['top'].set_visible(False)\n",
    "plt.tight_layout()\n"
   ]
  },
  {
   "cell_type": "code",
   "execution_count": 20,
   "id": "dress-forge",
   "metadata": {
    "execution": {
     "iopub.execute_input": "2021-01-28T15:27:38.377239Z",
     "iopub.status.busy": "2021-01-28T15:27:38.376680Z",
     "iopub.status.idle": "2021-01-28T15:27:38.379389Z",
     "shell.execute_reply": "2021-01-28T15:27:38.378975Z"
    },
    "papermill": {
     "duration": 0.032216,
     "end_time": "2021-01-28T15:27:38.379513",
     "exception": false,
     "start_time": "2021-01-28T15:27:38.347297",
     "status": "completed"
    },
    "tags": []
   },
   "outputs": [
    {
     "name": "stdout",
     "output_type": "stream",
     "text": [
      "                                   states    Cases  Deaths   PCases  PDeaths  Cases (+)  Deaths (+)  Fatality Rate\n",
      "                              Maharashtra  2015524   50894  2015524    50894          0           0           2.53\n",
      "                                Karnataka   937383   12207   937383    12207          0           0           1.30\n",
      "                                   Kerala   905592    3664   905592     3664          0           0           0.40\n",
      "                           Andhra Pradesh   887349    7152   887349     7152          0           0           0.81\n",
      "                               Tamil Nadu   836315   12333   836315    12333          0           0           1.47\n",
      "                                    Delhi   634524   10835   634325    10829        199           6           1.71\n",
      "                            Uttar Pradesh   599376    8636   599376     8636          0           0           1.44\n",
      "                              West Bengal   568884   10139   568884    10139          0           0           1.78\n",
      "                                   Odisha   334667    1959   334667     1959          0           0           0.59\n",
      "                                Rajasthan   317104    2761   317104     2761          0           0           0.87\n",
      "                             Chhattisgarh   297868    3647   297868     3647          0           0           1.22\n",
      "                                Telangana   293737    1593   293737     1593          0           0           0.54\n",
      "                                  Haryana   267504    3014   267504     3014          0           0           1.13\n",
      "                                  Gujarat   260566    4384   260220     4382        346           2           1.68\n",
      "                                    Bihar   260225    1490   260225     1490          0           0           0.57\n",
      "                           Madhya Pradesh   254270    3799   254270     3799          0           0           1.49\n",
      "                                    Assam   217042    1081   217042     1081          0           0           0.50\n",
      "                                   Punjab   172406    5581   172406     5581          0           0           3.24\n",
      "                        Jammu and Kashmir   124234    1931   124234     1931          0           0           1.55\n",
      "                                Jharkhand   118495    1066   118495     1066          0           0           0.90\n",
      "                              Uttarakhand    95826    1639    95826     1639          0           0           1.71\n",
      "                         Himachal Pradesh    57296     962    57296      962          0           0           1.68\n",
      "                                      Goa    53185     765    53100      763         85           2           1.44\n",
      "                               Puducherry    38934     646    38934      646          0           0           1.66\n",
      "                                  Tripura    33343     388    33343      388          0           0           1.16\n",
      "                                  Manipur    29007     370    29007      370          0           0           1.28\n",
      "                               Chandigarh    20855     334    20819      334         36           0           1.60\n",
      "                        Arunachal Pradesh    16824      56    16824       56          0           0           0.33\n",
      "                                Meghalaya    13741     146    13741      146          0           0           1.06\n",
      "                                 Nagaland    12083      88    12083       88          0           0           0.73\n",
      "                                   Ladakh     9688     129     9688      129          0           0           1.33\n",
      "                                   Sikkim     6079     133     6079      133          0           0           2.19\n",
      "              Andaman and Nicobar Islands     4994      62     4994       62          0           0           1.24\n",
      "                                  Mizoram     4362       9     4359        9          3           0           0.21\n",
      " Dadra and Nagar Haveli and Daman and Diu     3379       2     3379        2          0           0           0.06\n",
      "                              Lakshadweep       69       0       69        0          0           0           0.00\n"
     ]
    }
   ],
   "source": [
    "#hide_input\n",
    "print(df_table.to_string(index=False))"
   ]
  },
  {
   "cell_type": "code",
   "execution_count": null,
   "id": "quantitative-legend",
   "metadata": {
    "papermill": {
     "duration": 0.021393,
     "end_time": "2021-01-28T15:27:38.422394",
     "exception": false,
     "start_time": "2021-01-28T15:27:38.401001",
     "status": "completed"
    },
    "tags": []
   },
   "outputs": [],
   "source": []
  },
  {
   "cell_type": "code",
   "execution_count": null,
   "id": "distant-acoustic",
   "metadata": {
    "papermill": {
     "duration": 0.021277,
     "end_time": "2021-01-28T15:27:38.465072",
     "exception": false,
     "start_time": "2021-01-28T15:27:38.443795",
     "status": "completed"
    },
    "tags": []
   },
   "outputs": [],
   "source": []
  }
 ],
 "metadata": {
  "kernelspec": {
   "display_name": "Python 3",
   "language": "python",
   "name": "python3"
  },
  "language_info": {
   "codemirror_mode": {
    "name": "ipython",
    "version": 3
   },
   "file_extension": ".py",
   "mimetype": "text/x-python",
   "name": "python",
   "nbconvert_exporter": "python",
   "pygments_lexer": "ipython3",
   "version": "3.6.12"
  },
  "papermill": {
   "duration": 15.111232,
   "end_time": "2021-01-28T15:27:39.094982",
   "environment_variables": {},
   "exception": null,
   "input_path": "latest.ipynb",
   "output_path": "latest.ipynb",
   "parameters": {},
   "start_time": "2021-01-28T15:27:23.983750",
   "version": "2.1.2"
  }
 },
 "nbformat": 4,
 "nbformat_minor": 5
}