{
 "cells": [
  {
   "cell_type": "markdown",
   "metadata": {
    "papermill": {
     "duration": 0.022166,
     "end_time": "2020-08-29T10:13:26.438277",
     "exception": false,
     "start_time": "2020-08-29T10:13:26.416111",
     "status": "completed"
    },
    "tags": []
   },
   "source": [
    "# Latest COVID-19 India Matplotlib Overview"
   ]
  },
  {
   "cell_type": "code",
   "execution_count": 1,
   "metadata": {
    "execution": {
     "iopub.execute_input": "2020-08-29T10:13:26.483424Z",
     "iopub.status.busy": "2020-08-29T10:13:26.482616Z",
     "iopub.status.idle": "2020-08-29T10:13:27.150228Z",
     "shell.execute_reply": "2020-08-29T10:13:27.149563Z"
    },
    "papermill": {
     "duration": 0.693764,
     "end_time": "2020-08-29T10:13:27.150430",
     "exception": false,
     "start_time": "2020-08-29T10:13:26.456666",
     "status": "completed"
    },
    "tags": []
   },
   "outputs": [],
   "source": [
    "#hide\n",
    "import pandas as pd\n",
    "import numpy as np\n",
    "import requests\n",
    "import json\n",
    "import matplotlib.pyplot as plt\n",
    "import matplotlib.dates as mdates\n",
    "import matplotlib as mpl\n",
    "from IPython.core.display import display,HTML\n",
    "%matplotlib inline\n",
    "from datetime import date"
   ]
  },
  {
   "cell_type": "code",
   "execution_count": 2,
   "metadata": {
    "execution": {
     "iopub.execute_input": "2020-08-29T10:13:27.198325Z",
     "iopub.status.busy": "2020-08-29T10:13:27.197586Z",
     "iopub.status.idle": "2020-08-29T10:13:27.580858Z",
     "shell.execute_reply": "2020-08-29T10:13:27.581417Z"
    },
    "papermill": {
     "duration": 0.413369,
     "end_time": "2020-08-29T10:13:27.581603",
     "exception": false,
     "start_time": "2020-08-29T10:13:27.168234",
     "status": "completed"
    },
    "tags": []
   },
   "outputs": [],
   "source": [
    "#hide\n",
    "df  = pd.read_csv('https://api.covid19india.org/csv/latest/states.csv')\n",
    "df = df[['Date','State','Confirmed','Deceased']]\n",
    "df = df.rename(columns={'Confirmed':'Cases', \"Deceased\":'Deaths'})\n",
    "df_cases = df[[\"Date\",'State','Cases']]\n",
    "df_deaths = df[['Date','State','Deaths']]\n",
    "df_cases1 = df_cases.groupby('Date')\n",
    "df_deaths1= df_deaths.groupby('Date')"
   ]
  },
  {
   "cell_type": "code",
   "execution_count": 3,
   "metadata": {
    "execution": {
     "iopub.execute_input": "2020-08-29T10:13:27.624790Z",
     "iopub.status.busy": "2020-08-29T10:13:27.624081Z",
     "iopub.status.idle": "2020-08-29T10:13:27.644263Z",
     "shell.execute_reply": "2020-08-29T10:13:27.644915Z"
    },
    "papermill": {
     "duration": 0.044759,
     "end_time": "2020-08-29T10:13:27.645081",
     "exception": false,
     "start_time": "2020-08-29T10:13:27.600322",
     "status": "completed"
    },
    "tags": []
   },
   "outputs": [],
   "source": [
    "#hide\n",
    "df_snap = pd.read_csv('data/SnapshotCases-28-July.csv')\n",
    "arr_states = df_snap['states'].unique()\n",
    "arr_dates = df['Date'].unique()\n",
    "df_snap = df_snap.set_index('states')"
   ]
  },
  {
   "cell_type": "code",
   "execution_count": 4,
   "metadata": {
    "execution": {
     "iopub.execute_input": "2020-08-29T10:13:27.689558Z",
     "iopub.status.busy": "2020-08-29T10:13:27.688844Z",
     "iopub.status.idle": "2020-08-29T10:13:27.691763Z",
     "shell.execute_reply": "2020-08-29T10:13:27.692332Z"
    },
    "papermill": {
     "duration": 0.029667,
     "end_time": "2020-08-29T10:13:27.692505",
     "exception": false,
     "start_time": "2020-08-29T10:13:27.662838",
     "status": "completed"
    },
    "tags": []
   },
   "outputs": [
    {
     "data": {
      "text/plain": [
       "array(['Andaman and Nicobar Islands', 'Andhra Pradesh',\n",
       "       'Arunachal Pradesh', 'Assam', 'Bihar', 'Chandigarh',\n",
       "       'Dadra and Nagar Haveli and Daman and Diu', 'Delhi', 'Goa',\n",
       "       'Gujarat', 'Haryana', 'Himachal Pradesh', 'Jammu and Kashmir',\n",
       "       'Jharkhand', 'Karnataka', 'Kerala', 'Lakshadweep',\n",
       "       'Madhya Pradesh', 'Maharashtra', 'Manipur', 'Meghalaya', 'Mizoram',\n",
       "       'Nagaland', 'Odisha', 'Puducherry', 'Punjab', 'Rajasthan',\n",
       "       'Sikkim', 'Tamil Nadu', 'Telangana', 'Tripura', 'Uttar Pradesh',\n",
       "       'West Bengal', 'Chhattisgarh', 'Ladakh', 'Uttarakhand'],\n",
       "      dtype=object)"
      ]
     },
     "execution_count": 4,
     "metadata": {},
     "output_type": "execute_result"
    }
   ],
   "source": [
    "#hide\n",
    "arr_states[-9] = 'Puducherry'\n",
    "arr_states[-10] = 'Odisha'\n",
    "arr_states[6] = 'Dadra and Nagar Haveli and Daman and Diu'\n",
    "arr_states = np.append(arr_states,np.array(['Chhattisgarh','Ladakh','Uttarakhand']))\n",
    "arr_states"
   ]
  },
  {
   "cell_type": "code",
   "execution_count": 5,
   "metadata": {
    "execution": {
     "iopub.execute_input": "2020-08-29T10:13:27.753754Z",
     "iopub.status.busy": "2020-08-29T10:13:27.752912Z",
     "iopub.status.idle": "2020-08-29T10:13:27.756809Z",
     "shell.execute_reply": "2020-08-29T10:13:27.756076Z"
    },
    "papermill": {
     "duration": 0.046138,
     "end_time": "2020-08-29T10:13:27.757473",
     "exception": false,
     "start_time": "2020-08-29T10:13:27.711335",
     "status": "completed"
    },
    "tags": []
   },
   "outputs": [],
   "source": [
    "#hide\n",
    "dates = []\n",
    "for i in arr_dates:\n",
    "    if i>='2020-07-01':\n",
    "        dates.append(i)\n",
    "dict = {'states':dates}\n",
    "for i in arr_states:\n",
    "    dict[i] = [0]*len(dates)\n",
    "dft_cases = pd.DataFrame(dict)\n",
    "dft_deaths = pd.DataFrame(dict)\n"
   ]
  },
  {
   "cell_type": "code",
   "execution_count": 6,
   "metadata": {
    "execution": {
     "iopub.execute_input": "2020-08-29T10:13:27.803151Z",
     "iopub.status.busy": "2020-08-29T10:13:27.802409Z",
     "iopub.status.idle": "2020-08-29T10:13:28.911929Z",
     "shell.execute_reply": "2020-08-29T10:13:28.912492Z"
    },
    "papermill": {
     "duration": 1.134042,
     "end_time": "2020-08-29T10:13:28.912677",
     "exception": false,
     "start_time": "2020-08-29T10:13:27.778635",
     "status": "completed"
    },
    "tags": []
   },
   "outputs": [],
   "source": [
    "#hide\n",
    "for i in range(len(dates)):\n",
    "    df1_deaths = df_deaths1.get_group(dates[i])\n",
    "    for j in range(len(df1_deaths.index)):\n",
    "        if df1_deaths.iloc[j,1] in arr_states:\n",
    "            dft_deaths.loc[i,df1_deaths.iloc[j,1]] = df1_deaths.iloc[j,2]\n",
    "dft_deaths = dft_deaths.set_index('states')"
   ]
  },
  {
   "cell_type": "code",
   "execution_count": 7,
   "metadata": {
    "execution": {
     "iopub.execute_input": "2020-08-29T10:13:29.075275Z",
     "iopub.status.busy": "2020-08-29T10:13:29.073981Z",
     "iopub.status.idle": "2020-08-29T10:13:30.173664Z",
     "shell.execute_reply": "2020-08-29T10:13:30.174286Z"
    },
    "papermill": {
     "duration": 1.242046,
     "end_time": "2020-08-29T10:13:30.174478",
     "exception": false,
     "start_time": "2020-08-29T10:13:28.932432",
     "status": "completed"
    },
    "tags": []
   },
   "outputs": [],
   "source": [
    "#hide\n",
    "for i in range(len(dates)):\n",
    "    df1_cases = df_cases1.get_group(dates[i])\n",
    "    for j in range(len(df1_cases.index)):\n",
    "        if df1_cases.iloc[j,1] in arr_states:\n",
    "            dft_cases.loc[i,df1_cases.iloc[j,1]] = df1_cases.iloc[j,2]\n",
    "dft_cases = dft_cases.set_index('states')"
   ]
  },
  {
   "cell_type": "code",
   "execution_count": 8,
   "metadata": {
    "execution": {
     "iopub.execute_input": "2020-08-29T10:13:30.219244Z",
     "iopub.status.busy": "2020-08-29T10:13:30.218523Z",
     "iopub.status.idle": "2020-08-29T10:13:30.221025Z",
     "shell.execute_reply": "2020-08-29T10:13:30.221536Z"
    },
    "papermill": {
     "duration": 0.027991,
     "end_time": "2020-08-29T10:13:30.221697",
     "exception": false,
     "start_time": "2020-08-29T10:13:30.193706",
     "status": "completed"
    },
    "tags": []
   },
   "outputs": [],
   "source": [
    "#hide\n",
    "dft_cases = dft_cases.T\n",
    "dft_deaths = dft_deaths.T\n",
    "dt_today = dates[-1]\n",
    "dt_yday = dates[-2]"
   ]
  },
  {
   "cell_type": "code",
   "execution_count": 9,
   "metadata": {
    "execution": {
     "iopub.execute_input": "2020-08-29T10:13:30.266561Z",
     "iopub.status.busy": "2020-08-29T10:13:30.265832Z",
     "iopub.status.idle": "2020-08-29T10:13:30.268525Z",
     "shell.execute_reply": "2020-08-29T10:13:30.267852Z"
    },
    "papermill": {
     "duration": 0.029247,
     "end_time": "2020-08-29T10:13:30.268726",
     "exception": false,
     "start_time": "2020-08-29T10:13:30.239479",
     "status": "completed"
    },
    "tags": []
   },
   "outputs": [],
   "source": [
    "#hide\n",
    "dft_cases = dft_cases.reset_index()\n",
    "dft_deaths = dft_deaths.reset_index()\n",
    "dft_cases = dft_cases.rename(columns = {'index':'state'})\n",
    "dft_deaths = dft_deaths.rename(columns = {'index':'state'})"
   ]
  },
  {
   "cell_type": "code",
   "execution_count": 10,
   "metadata": {
    "execution": {
     "iopub.execute_input": "2020-08-29T10:13:30.319220Z",
     "iopub.status.busy": "2020-08-29T10:13:30.318443Z",
     "iopub.status.idle": "2020-08-29T10:13:30.320311Z",
     "shell.execute_reply": "2020-08-29T10:13:30.320929Z"
    },
    "papermill": {
     "duration": 0.034175,
     "end_time": "2020-08-29T10:13:30.321119",
     "exception": false,
     "start_time": "2020-08-29T10:13:30.286944",
     "status": "completed"
    },
    "tags": []
   },
   "outputs": [],
   "source": [
    "#hide\n",
    "dfc_cases = dft_cases.groupby('state')[dt_today].sum()\n",
    "dfc_deaths = dft_deaths.groupby('state')[dt_today].sum()\n",
    "dfp_cases = dft_cases.groupby('state')[dt_yday].sum()\n",
    "dfp_deaths = dft_deaths.groupby('state')[dt_yday].sum()"
   ]
  },
  {
   "cell_type": "code",
   "execution_count": 11,
   "metadata": {
    "execution": {
     "iopub.execute_input": "2020-08-29T10:13:30.362759Z",
     "iopub.status.busy": "2020-08-29T10:13:30.361992Z",
     "iopub.status.idle": "2020-08-29T10:13:30.384209Z",
     "shell.execute_reply": "2020-08-29T10:13:30.383346Z"
    },
    "papermill": {
     "duration": 0.04475,
     "end_time": "2020-08-29T10:13:30.384399",
     "exception": false,
     "start_time": "2020-08-29T10:13:30.339649",
     "status": "completed"
    },
    "tags": []
   },
   "outputs": [
    {
     "data": {
      "text/html": [
       "<div>\n",
       "<style scoped>\n",
       "    .dataframe tbody tr th:only-of-type {\n",
       "        vertical-align: middle;\n",
       "    }\n",
       "\n",
       "    .dataframe tbody tr th {\n",
       "        vertical-align: top;\n",
       "    }\n",
       "\n",
       "    .dataframe thead th {\n",
       "        text-align: right;\n",
       "    }\n",
       "</style>\n",
       "<table border=\"1\" class=\"dataframe\">\n",
       "  <thead>\n",
       "    <tr style=\"text-align: right;\">\n",
       "      <th></th>\n",
       "      <th>states</th>\n",
       "      <th>Cases</th>\n",
       "      <th>Deaths</th>\n",
       "      <th>PCases</th>\n",
       "      <th>PDeaths</th>\n",
       "    </tr>\n",
       "  </thead>\n",
       "  <tbody>\n",
       "    <tr>\n",
       "      <th>0</th>\n",
       "      <td>Maharashtra</td>\n",
       "      <td>747995</td>\n",
       "      <td>23775</td>\n",
       "      <td>747995</td>\n",
       "      <td>23775</td>\n",
       "    </tr>\n",
       "    <tr>\n",
       "      <th>1</th>\n",
       "      <td>Tamil Nadu</td>\n",
       "      <td>409238</td>\n",
       "      <td>7050</td>\n",
       "      <td>409238</td>\n",
       "      <td>7050</td>\n",
       "    </tr>\n",
       "    <tr>\n",
       "      <th>2</th>\n",
       "      <td>Andhra Pradesh</td>\n",
       "      <td>403616</td>\n",
       "      <td>3714</td>\n",
       "      <td>403616</td>\n",
       "      <td>3714</td>\n",
       "    </tr>\n",
       "    <tr>\n",
       "      <th>3</th>\n",
       "      <td>Karnataka</td>\n",
       "      <td>318752</td>\n",
       "      <td>5368</td>\n",
       "      <td>318752</td>\n",
       "      <td>5368</td>\n",
       "    </tr>\n",
       "    <tr>\n",
       "      <th>4</th>\n",
       "      <td>Uttar Pradesh</td>\n",
       "      <td>213824</td>\n",
       "      <td>3294</td>\n",
       "      <td>213824</td>\n",
       "      <td>3294</td>\n",
       "    </tr>\n",
       "  </tbody>\n",
       "</table>\n",
       "</div>"
      ],
      "text/plain": [
       "           states   Cases  Deaths  PCases  PDeaths\n",
       "0     Maharashtra  747995   23775  747995    23775\n",
       "1      Tamil Nadu  409238    7050  409238     7050\n",
       "2  Andhra Pradesh  403616    3714  403616     3714\n",
       "3       Karnataka  318752    5368  318752     5368\n",
       "4   Uttar Pradesh  213824    3294  213824     3294"
      ]
     },
     "execution_count": 11,
     "metadata": {},
     "output_type": "execute_result"
    }
   ],
   "source": [
    "#hide\n",
    "df_table = pd.DataFrame({'states': dfc_cases.index, 'Cases': dfc_cases.values, 'Deaths': dfc_deaths.values, 'PCases': dfp_cases.values, 'PDeaths': dfp_deaths.values}).set_index('states')\n",
    "df_table = df_table.sort_values(by = ['Cases','Deaths'], ascending = [False, False])\n",
    "df_table = df_table.reset_index()\n",
    "df_table.head()"
   ]
  },
  {
   "cell_type": "code",
   "execution_count": 12,
   "metadata": {
    "execution": {
     "iopub.execute_input": "2020-08-29T10:13:30.431574Z",
     "iopub.status.busy": "2020-08-29T10:13:30.430786Z",
     "iopub.status.idle": "2020-08-29T10:13:30.441556Z",
     "shell.execute_reply": "2020-08-29T10:13:30.440950Z"
    },
    "papermill": {
     "duration": 0.036661,
     "end_time": "2020-08-29T10:13:30.441727",
     "exception": false,
     "start_time": "2020-08-29T10:13:30.405066",
     "status": "completed"
    },
    "tags": []
   },
   "outputs": [],
   "source": [
    "#hide\n",
    "for c in 'Cases, Deaths'.split(', '):\n",
    "    df_table[f'{c} (+)'] = (df_table[c] - df_table[f'P{c}']).clip(0)\n",
    "df_table['Fatality Rate'] = (100* df_table['Deaths']/ df_table['Cases']).round(2)"
   ]
  },
  {
   "cell_type": "code",
   "execution_count": 13,
   "metadata": {
    "execution": {
     "iopub.execute_input": "2020-08-29T10:13:30.493135Z",
     "iopub.status.busy": "2020-08-29T10:13:30.492407Z",
     "iopub.status.idle": "2020-08-29T10:13:30.495063Z",
     "shell.execute_reply": "2020-08-29T10:13:30.495714Z"
    },
    "papermill": {
     "duration": 0.035158,
     "end_time": "2020-08-29T10:13:30.495885",
     "exception": false,
     "start_time": "2020-08-29T10:13:30.460727",
     "status": "completed"
    },
    "tags": []
   },
   "outputs": [
    {
     "data": {
      "text/html": [
       "<div>\n",
       "<style scoped>\n",
       "    .dataframe tbody tr th:only-of-type {\n",
       "        vertical-align: middle;\n",
       "    }\n",
       "\n",
       "    .dataframe tbody tr th {\n",
       "        vertical-align: top;\n",
       "    }\n",
       "\n",
       "    .dataframe thead th {\n",
       "        text-align: right;\n",
       "    }\n",
       "</style>\n",
       "<table border=\"1\" class=\"dataframe\">\n",
       "  <thead>\n",
       "    <tr style=\"text-align: right;\">\n",
       "      <th></th>\n",
       "      <th>states</th>\n",
       "      <th>Cases</th>\n",
       "      <th>Deaths</th>\n",
       "      <th>PCases</th>\n",
       "      <th>PDeaths</th>\n",
       "      <th>Cases (+)</th>\n",
       "      <th>Deaths (+)</th>\n",
       "      <th>Fatality Rate</th>\n",
       "    </tr>\n",
       "  </thead>\n",
       "  <tbody>\n",
       "    <tr>\n",
       "      <th>0</th>\n",
       "      <td>Maharashtra</td>\n",
       "      <td>747995</td>\n",
       "      <td>23775</td>\n",
       "      <td>747995</td>\n",
       "      <td>23775</td>\n",
       "      <td>0</td>\n",
       "      <td>0</td>\n",
       "      <td>3.18</td>\n",
       "    </tr>\n",
       "    <tr>\n",
       "      <th>1</th>\n",
       "      <td>Tamil Nadu</td>\n",
       "      <td>409238</td>\n",
       "      <td>7050</td>\n",
       "      <td>409238</td>\n",
       "      <td>7050</td>\n",
       "      <td>0</td>\n",
       "      <td>0</td>\n",
       "      <td>1.72</td>\n",
       "    </tr>\n",
       "    <tr>\n",
       "      <th>2</th>\n",
       "      <td>Andhra Pradesh</td>\n",
       "      <td>403616</td>\n",
       "      <td>3714</td>\n",
       "      <td>403616</td>\n",
       "      <td>3714</td>\n",
       "      <td>0</td>\n",
       "      <td>0</td>\n",
       "      <td>0.92</td>\n",
       "    </tr>\n",
       "    <tr>\n",
       "      <th>3</th>\n",
       "      <td>Karnataka</td>\n",
       "      <td>318752</td>\n",
       "      <td>5368</td>\n",
       "      <td>318752</td>\n",
       "      <td>5368</td>\n",
       "      <td>0</td>\n",
       "      <td>0</td>\n",
       "      <td>1.68</td>\n",
       "    </tr>\n",
       "    <tr>\n",
       "      <th>4</th>\n",
       "      <td>Uttar Pradesh</td>\n",
       "      <td>213824</td>\n",
       "      <td>3294</td>\n",
       "      <td>213824</td>\n",
       "      <td>3294</td>\n",
       "      <td>0</td>\n",
       "      <td>0</td>\n",
       "      <td>1.54</td>\n",
       "    </tr>\n",
       "  </tbody>\n",
       "</table>\n",
       "</div>"
      ],
      "text/plain": [
       "           states   Cases  Deaths  PCases  PDeaths  Cases (+)  Deaths (+)  \\\n",
       "0     Maharashtra  747995   23775  747995    23775          0           0   \n",
       "1      Tamil Nadu  409238    7050  409238     7050          0           0   \n",
       "2  Andhra Pradesh  403616    3714  403616     3714          0           0   \n",
       "3       Karnataka  318752    5368  318752     5368          0           0   \n",
       "4   Uttar Pradesh  213824    3294  213824     3294          0           0   \n",
       "\n",
       "   Fatality Rate  \n",
       "0           3.18  \n",
       "1           1.72  \n",
       "2           0.92  \n",
       "3           1.68  \n",
       "4           1.54  "
      ]
     },
     "execution_count": 13,
     "metadata": {},
     "output_type": "execute_result"
    }
   ],
   "source": [
    "#hide\n",
    "df_table.head()"
   ]
  },
  {
   "cell_type": "code",
   "execution_count": 14,
   "metadata": {
    "execution": {
     "iopub.execute_input": "2020-08-29T10:13:30.541714Z",
     "iopub.status.busy": "2020-08-29T10:13:30.541016Z",
     "iopub.status.idle": "2020-08-29T10:13:30.562335Z",
     "shell.execute_reply": "2020-08-29T10:13:30.563087Z"
    },
    "papermill": {
     "duration": 0.048724,
     "end_time": "2020-08-29T10:13:30.563264",
     "exception": false,
     "start_time": "2020-08-29T10:13:30.514540",
     "status": "completed"
    },
    "tags": []
   },
   "outputs": [
    {
     "data": {
      "text/plain": [
       "{'updated': '2020-08-29',\n",
       " 'since': '2020-08-28',\n",
       " 'Cases': 3468320,\n",
       " 'PCases': 3461233,\n",
       " 'Deaths': 62750,\n",
       " 'PDeaths': 62714,\n",
       " 'Cases (+)': 7087,\n",
       " 'Deaths (+)': 36}"
      ]
     },
     "execution_count": 14,
     "metadata": {},
     "output_type": "execute_result"
    }
   ],
   "source": [
    "#hide\n",
    "summary = {'updated':dates[-1], 'since':dates[-2]}\n",
    "list_names = ['Cases', 'PCases', 'Deaths', 'PDeaths', 'Cases (+)', 'Deaths (+)']\n",
    "for name in list_names:\n",
    "    summary[name] = df_table.sum()[name]\n",
    "summary"
   ]
  },
  {
   "cell_type": "code",
   "execution_count": 15,
   "metadata": {
    "execution": {
     "iopub.execute_input": "2020-08-29T10:13:30.610613Z",
     "iopub.status.busy": "2020-08-29T10:13:30.609900Z",
     "iopub.status.idle": "2020-08-29T10:13:30.612004Z",
     "shell.execute_reply": "2020-08-29T10:13:30.612538Z"
    },
    "papermill": {
     "duration": 0.028084,
     "end_time": "2020-08-29T10:13:30.612717",
     "exception": false,
     "start_time": "2020-08-29T10:13:30.584633",
     "status": "completed"
    },
    "tags": []
   },
   "outputs": [],
   "source": [
    "#hide\n",
    "overview = '''\n",
    "<!-- #######  HTML!! #########-->\n",
    "<h1 style=\"color: #5e9ca0; text-align: center;\">India</h1>\n",
    "<p style=\"text-align: center;\">Last update: <strong>{update}</strong></p>\n",
    "<p style=\"text-align: center;\">Confirmed cases:</p>\n",
    "<p style=\"text-align: center;font-size:24px;\">{cases} (<span style=\"color: #ff0000;\">+{new}</span>)</p>\n",
    "<p style=\"text-align: center;\">Confirmed deaths:</p>\n",
    "<p style=\"text-align: center;font-size:24px;\">{deaths} (<span style=\"color: #ff0000;\">+{dnew}</span>)</p>\n",
    "'''"
   ]
  },
  {
   "cell_type": "code",
   "execution_count": 16,
   "metadata": {
    "execution": {
     "iopub.execute_input": "2020-08-29T10:13:30.659936Z",
     "iopub.status.busy": "2020-08-29T10:13:30.659239Z",
     "iopub.status.idle": "2020-08-29T10:13:30.662510Z",
     "shell.execute_reply": "2020-08-29T10:13:30.663143Z"
    },
    "papermill": {
     "duration": 0.030201,
     "end_time": "2020-08-29T10:13:30.663318",
     "exception": false,
     "start_time": "2020-08-29T10:13:30.633117",
     "status": "completed"
    },
    "tags": []
   },
   "outputs": [
    {
     "data": {
      "text/html": [
       "\n",
       "<!-- #######  HTML!! #########-->\n",
       "<h1 style=\"color: #5e9ca0; text-align: center;\">India</h1>\n",
       "<p style=\"text-align: center;\">Last update: <strong>2020-08-29</strong></p>\n",
       "<p style=\"text-align: center;\">Confirmed cases:</p>\n",
       "<p style=\"text-align: center;font-size:24px;\">3468320 (<span style=\"color: #ff0000;\">+7087</span>)</p>\n",
       "<p style=\"text-align: center;\">Confirmed deaths:</p>\n",
       "<p style=\"text-align: center;font-size:24px;\">62750 (<span style=\"color: #ff0000;\">+36</span>)</p>\n"
      ],
      "text/plain": [
       "<IPython.core.display.HTML object>"
      ]
     },
     "metadata": {},
     "output_type": "display_data"
    }
   ],
   "source": [
    "#hide_input\n",
    "update = summary['updated']\n",
    "cases = summary['Cases']\n",
    "new = summary['Cases (+)']\n",
    "deaths = summary['Deaths']\n",
    "dnew = summary['Deaths (+)']\n",
    "\n",
    "html = HTML(overview.format(update=update, cases=cases,new=new,deaths=deaths,dnew=dnew))\n",
    "\n",
    "display(html)"
   ]
  },
  {
   "cell_type": "code",
   "execution_count": 17,
   "metadata": {
    "execution": {
     "iopub.execute_input": "2020-08-29T10:13:30.713154Z",
     "iopub.status.busy": "2020-08-29T10:13:30.712449Z",
     "iopub.status.idle": "2020-08-29T10:13:30.717704Z",
     "shell.execute_reply": "2020-08-29T10:13:30.718431Z"
    },
    "papermill": {
     "duration": 0.03435,
     "end_time": "2020-08-29T10:13:30.718609",
     "exception": false,
     "start_time": "2020-08-29T10:13:30.684259",
     "status": "completed"
    },
    "tags": []
   },
   "outputs": [],
   "source": [
    "#hide\n",
    "dt_cols = list(dft_cases.columns[1:])\n",
    "dft_ct_new_cases = dft_cases.groupby('state')[dt_cols].sum().diff(axis=1).fillna(0).astype(int)\n",
    "dft_ct_new_cases.sort_values(by = dates[-1], ascending = False,inplace = True)"
   ]
  },
  {
   "cell_type": "code",
   "execution_count": 18,
   "metadata": {
    "execution": {
     "iopub.execute_input": "2020-08-29T10:13:30.781292Z",
     "iopub.status.busy": "2020-08-29T10:13:30.780468Z",
     "iopub.status.idle": "2020-08-29T10:13:30.783358Z",
     "shell.execute_reply": "2020-08-29T10:13:30.784053Z"
    },
    "papermill": {
     "duration": 0.044994,
     "end_time": "2020-08-29T10:13:30.784230",
     "exception": false,
     "start_time": "2020-08-29T10:13:30.739236",
     "status": "completed"
    },
    "tags": []
   },
   "outputs": [
    {
     "data": {
      "text/html": [
       "<div>\n",
       "<style scoped>\n",
       "    .dataframe tbody tr th:only-of-type {\n",
       "        vertical-align: middle;\n",
       "    }\n",
       "\n",
       "    .dataframe tbody tr th {\n",
       "        vertical-align: top;\n",
       "    }\n",
       "\n",
       "    .dataframe thead th {\n",
       "        text-align: right;\n",
       "    }\n",
       "</style>\n",
       "<table border=\"1\" class=\"dataframe\">\n",
       "  <thead>\n",
       "    <tr style=\"text-align: right;\">\n",
       "      <th>states</th>\n",
       "      <th>2020-07-01</th>\n",
       "      <th>2020-07-02</th>\n",
       "      <th>2020-07-03</th>\n",
       "      <th>2020-07-04</th>\n",
       "      <th>2020-07-05</th>\n",
       "      <th>2020-07-06</th>\n",
       "      <th>2020-07-07</th>\n",
       "      <th>2020-07-08</th>\n",
       "      <th>2020-07-09</th>\n",
       "      <th>2020-07-10</th>\n",
       "      <th>...</th>\n",
       "      <th>2020-08-20</th>\n",
       "      <th>2020-08-21</th>\n",
       "      <th>2020-08-22</th>\n",
       "      <th>2020-08-23</th>\n",
       "      <th>2020-08-24</th>\n",
       "      <th>2020-08-25</th>\n",
       "      <th>2020-08-26</th>\n",
       "      <th>2020-08-27</th>\n",
       "      <th>2020-08-28</th>\n",
       "      <th>2020-08-29</th>\n",
       "    </tr>\n",
       "    <tr>\n",
       "      <th>state</th>\n",
       "      <th></th>\n",
       "      <th></th>\n",
       "      <th></th>\n",
       "      <th></th>\n",
       "      <th></th>\n",
       "      <th></th>\n",
       "      <th></th>\n",
       "      <th></th>\n",
       "      <th></th>\n",
       "      <th></th>\n",
       "      <th></th>\n",
       "      <th></th>\n",
       "      <th></th>\n",
       "      <th></th>\n",
       "      <th></th>\n",
       "      <th></th>\n",
       "      <th></th>\n",
       "      <th></th>\n",
       "      <th></th>\n",
       "      <th></th>\n",
       "      <th></th>\n",
       "    </tr>\n",
       "  </thead>\n",
       "  <tbody>\n",
       "    <tr>\n",
       "      <th>Odisha</th>\n",
       "      <td>0</td>\n",
       "      <td>229</td>\n",
       "      <td>561</td>\n",
       "      <td>495</td>\n",
       "      <td>469</td>\n",
       "      <td>456</td>\n",
       "      <td>571</td>\n",
       "      <td>527</td>\n",
       "      <td>577</td>\n",
       "      <td>755</td>\n",
       "      <td>...</td>\n",
       "      <td>2898</td>\n",
       "      <td>2698</td>\n",
       "      <td>2819</td>\n",
       "      <td>2993</td>\n",
       "      <td>2949</td>\n",
       "      <td>2752</td>\n",
       "      <td>3371</td>\n",
       "      <td>3384</td>\n",
       "      <td>3682</td>\n",
       "      <td>3252</td>\n",
       "    </tr>\n",
       "    <tr>\n",
       "      <th>Telangana</th>\n",
       "      <td>0</td>\n",
       "      <td>1213</td>\n",
       "      <td>1892</td>\n",
       "      <td>1850</td>\n",
       "      <td>1590</td>\n",
       "      <td>1831</td>\n",
       "      <td>1879</td>\n",
       "      <td>1924</td>\n",
       "      <td>1410</td>\n",
       "      <td>1278</td>\n",
       "      <td>...</td>\n",
       "      <td>1724</td>\n",
       "      <td>1967</td>\n",
       "      <td>2474</td>\n",
       "      <td>2384</td>\n",
       "      <td>1842</td>\n",
       "      <td>2579</td>\n",
       "      <td>3018</td>\n",
       "      <td>2795</td>\n",
       "      <td>2932</td>\n",
       "      <td>2751</td>\n",
       "    </tr>\n",
       "    <tr>\n",
       "      <th>Rajasthan</th>\n",
       "      <td>0</td>\n",
       "      <td>350</td>\n",
       "      <td>390</td>\n",
       "      <td>480</td>\n",
       "      <td>632</td>\n",
       "      <td>524</td>\n",
       "      <td>716</td>\n",
       "      <td>659</td>\n",
       "      <td>500</td>\n",
       "      <td>611</td>\n",
       "      <td>...</td>\n",
       "      <td>1330</td>\n",
       "      <td>1335</td>\n",
       "      <td>1310</td>\n",
       "      <td>1345</td>\n",
       "      <td>1346</td>\n",
       "      <td>1370</td>\n",
       "      <td>1345</td>\n",
       "      <td>1345</td>\n",
       "      <td>1355</td>\n",
       "      <td>595</td>\n",
       "    </tr>\n",
       "    <tr>\n",
       "      <th>Tripura</th>\n",
       "      <td>0</td>\n",
       "      <td>39</td>\n",
       "      <td>93</td>\n",
       "      <td>25</td>\n",
       "      <td>23</td>\n",
       "      <td>111</td>\n",
       "      <td>24</td>\n",
       "      <td>57</td>\n",
       "      <td>16</td>\n",
       "      <td>142</td>\n",
       "      <td>...</td>\n",
       "      <td>190</td>\n",
       "      <td>256</td>\n",
       "      <td>280</td>\n",
       "      <td>331</td>\n",
       "      <td>200</td>\n",
       "      <td>293</td>\n",
       "      <td>329</td>\n",
       "      <td>385</td>\n",
       "      <td>509</td>\n",
       "      <td>443</td>\n",
       "    </tr>\n",
       "    <tr>\n",
       "      <th>Nagaland</th>\n",
       "      <td>0</td>\n",
       "      <td>34</td>\n",
       "      <td>4</td>\n",
       "      <td>24</td>\n",
       "      <td>27</td>\n",
       "      <td>35</td>\n",
       "      <td>19</td>\n",
       "      <td>13</td>\n",
       "      <td>16</td>\n",
       "      <td>59</td>\n",
       "      <td>...</td>\n",
       "      <td>25</td>\n",
       "      <td>36</td>\n",
       "      <td>16</td>\n",
       "      <td>51</td>\n",
       "      <td>28</td>\n",
       "      <td>38</td>\n",
       "      <td>26</td>\n",
       "      <td>6</td>\n",
       "      <td>21</td>\n",
       "      <td>46</td>\n",
       "    </tr>\n",
       "  </tbody>\n",
       "</table>\n",
       "<p>5 rows × 60 columns</p>\n",
       "</div>"
      ],
      "text/plain": [
       "states     2020-07-01  2020-07-02  2020-07-03  2020-07-04  2020-07-05  \\\n",
       "state                                                                   \n",
       "Odisha              0         229         561         495         469   \n",
       "Telangana           0        1213        1892        1850        1590   \n",
       "Rajasthan           0         350         390         480         632   \n",
       "Tripura             0          39          93          25          23   \n",
       "Nagaland            0          34           4          24          27   \n",
       "\n",
       "states     2020-07-06  2020-07-07  2020-07-08  2020-07-09  2020-07-10  ...  \\\n",
       "state                                                                  ...   \n",
       "Odisha            456         571         527         577         755  ...   \n",
       "Telangana        1831        1879        1924        1410        1278  ...   \n",
       "Rajasthan         524         716         659         500         611  ...   \n",
       "Tripura           111          24          57          16         142  ...   \n",
       "Nagaland           35          19          13          16          59  ...   \n",
       "\n",
       "states     2020-08-20  2020-08-21  2020-08-22  2020-08-23  2020-08-24  \\\n",
       "state                                                                   \n",
       "Odisha           2898        2698        2819        2993        2949   \n",
       "Telangana        1724        1967        2474        2384        1842   \n",
       "Rajasthan        1330        1335        1310        1345        1346   \n",
       "Tripura           190         256         280         331         200   \n",
       "Nagaland           25          36          16          51          28   \n",
       "\n",
       "states     2020-08-25  2020-08-26  2020-08-27  2020-08-28  2020-08-29  \n",
       "state                                                                  \n",
       "Odisha           2752        3371        3384        3682        3252  \n",
       "Telangana        2579        3018        2795        2932        2751  \n",
       "Rajasthan        1370        1345        1345        1355         595  \n",
       "Tripura           293         329         385         509         443  \n",
       "Nagaland           38          26           6          21          46  \n",
       "\n",
       "[5 rows x 60 columns]"
      ]
     },
     "execution_count": 18,
     "metadata": {},
     "output_type": "execute_result"
    }
   ],
   "source": [
    "#hide\n",
    "dft_ct_new_cases.head()"
   ]
  },
  {
   "cell_type": "code",
   "execution_count": 19,
   "metadata": {
    "execution": {
     "iopub.execute_input": "2020-08-29T10:13:30.845512Z",
     "iopub.status.busy": "2020-08-29T10:13:30.835067Z",
     "iopub.status.idle": "2020-08-29T10:13:34.626536Z",
     "shell.execute_reply": "2020-08-29T10:13:34.627098Z"
    },
    "papermill": {
     "duration": 3.821893,
     "end_time": "2020-08-29T10:13:34.627284",
     "exception": false,
     "start_time": "2020-08-29T10:13:30.805391",
     "status": "completed"
    },
    "tags": []
   },
   "outputs": [
    {
     "data": {
      "image/png": "[encoded data removed]",
      "text/plain": [
       "<Figure size 1296x2016 with 11 Axes>"
      ]
     },
     "metadata": {
      "needs_background": "light"
     },
     "output_type": "display_data"
    }
   ],
   "source": [
    "#hide_input\n",
    "df = dft_ct_new_cases.copy()\n",
    "df.loc['Total'] = df.sum()\n",
    "n = 5\n",
    "ax = []\n",
    "fig = plt.figure(figsize = (18,28))\n",
    "gs = fig.add_gridspec(n+2, 5)\n",
    "# gs = fig.add_gridspec(2, 3)\n",
    "ax1 = fig.add_subplot(gs[0, :])\n",
    "ef = df.loc['Total'].rename_axis('date').reset_index()\n",
    "ef['date'] = ef['date'].astype('datetime64[ns]')\n",
    "ax1.bar(ef.date,ef.Total,alpha=0.3,color='#007acc')\n",
    "ax1.plot(ef.date,ef.Total , marker=\"o\", color='#007acc')\n",
    "ax1.xaxis.set_major_locator(mdates.WeekdayLocator())\n",
    "ax1.xaxis.set_major_formatter(mdates.DateFormatter('%b %d'))\n",
    "ax1.text(0.02, 0.5,'India daily case count', transform = ax1.transAxes, fontsize=25);\n",
    "ax1.spines['right'].set_visible(False)\n",
    "ax1.spines['top'].set_visible(False)\n",
    "\n",
    "ax2 = fig.add_subplot(gs[1,0])\n",
    "ef = df.loc['Maharashtra'].rename_axis('date').reset_index()\n",
    "ef['date'] = ef['date'].astype('datetime64[ns]')\n",
    "\n",
    "ax2.bar(ef.date, ef.Maharashtra,color = '#007acc',alpha=0.5)\n",
    "ax2.xaxis.set_major_locator(mdates.WeekdayLocator())\n",
    "ax2.xaxis.set_major_formatter(mdates.DateFormatter('%b %d'))\n",
    "ax2.set_xticks(ax2.get_xticks()[::3])\n",
    "maxyval = ef.Maharashtra.max()\n",
    "ax2.set_ylim([0,maxyval])\n",
    "ax2.text(0.05, 0.9,'Maharashtra', transform = ax2.transAxes, fontsize=20);\n",
    "ax2.spines['right'].set_visible(False)\n",
    "ax2.spines['top'].set_visible(False)\n",
    "\n",
    "\n",
    "ax3 = fig.add_subplot(gs[1,1])\n",
    "ef = df.loc['Tamil Nadu'].rename_axis('date').reset_index()\n",
    "ef['date'] = ef['date'].astype('datetime64[ns]')\n",
    "ax3.bar(ef.date, ef['Tamil Nadu'],color = '#007acc',alpha=0.5,)\n",
    "ax3.xaxis.set_major_locator(mdates.WeekdayLocator())\n",
    "ax3.xaxis.set_major_formatter(mdates.DateFormatter('%b %d'))\n",
    "ax3.set_xticks(ax3.get_xticks()[::3])\n",
    "ax3.text(0.05, 0.9,'Tamil Nadu', transform = ax3.transAxes, fontsize=20);\n",
    "ax3.spines['right'].set_visible(False)\n",
    "ax3.spines['top'].set_visible(False)\n",
    "\n",
    "ax5 = fig.add_subplot(gs[1,3])\n",
    "ef = df.loc['Telangana'].rename_axis('date').reset_index()\n",
    "ef['date'] = ef['date'].astype('datetime64[ns]')\n",
    "ax5.bar(ef.date, ef['Telangana'],color = '#007acc',alpha=0.5,)\n",
    "ax5.xaxis.set_major_locator(mdates.WeekdayLocator())\n",
    "ax5.xaxis.set_major_formatter(mdates.DateFormatter('%b %d'))\n",
    "ax5.set_xticks(ax5.get_xticks()[::3])\n",
    "ax5.text(0.05, 0.9,'Telangana', transform = ax5.transAxes, fontsize=20);\n",
    "ax5.spines['right'].set_visible(False)\n",
    "ax5.spines['top'].set_visible(False)\n",
    "\n",
    "ax6 = fig.add_subplot(gs[1,4])\n",
    "ef = df.loc['Andhra Pradesh'].rename_axis('date').reset_index()\n",
    "ef['date'] = ef['date'].astype('datetime64[ns]')\n",
    "ax6.bar(ef.date, ef['Andhra Pradesh'],color = '#007acc',alpha=0.5,)\n",
    "ax6.xaxis.set_major_locator(mdates.WeekdayLocator())\n",
    "ax6.xaxis.set_major_formatter(mdates.DateFormatter('%b %d'))\n",
    "ax6.set_xticks(ax6.get_xticks()[::3])\n",
    "ax6.text(0.05, 1,'Andhra Pradesh', transform = ax6.transAxes, fontsize=20);\n",
    "ax6.spines['right'].set_visible(False)\n",
    "ax6.spines['top'].set_visible(False)\n",
    "\n",
    "ax4 = fig.add_subplot(gs[1,2])\n",
    "ef = df.loc['Delhi'].rename_axis('date').reset_index()\n",
    "ef['date'] = ef['date'].astype('datetime64[ns]')\n",
    "ax4.bar(ef.date, ef.Delhi,color = '#007acc',alpha=0.5)\n",
    "ax4.set_xticks([])\n",
    "ax4.xaxis.set_major_locator(mdates.WeekdayLocator())\n",
    "ax4.xaxis.set_major_formatter(mdates.DateFormatter('%b %d'))\n",
    "ax4.set_xticks(ax4.get_xticks()[::3])\n",
    "ax4.spines['right'].set_visible(False)\n",
    "ax4.spines['top'].set_visible(False)\n",
    "\n",
    "ax4.text(0.05, 1,'Delhi', transform = ax4.transAxes, fontsize=20)\n",
    "\n",
    "for i in range(n):\n",
    "    \n",
    "    ax.append(fig.add_subplot(gs[i+2,:]))\n",
    "    ef = df.iloc[i+3].rename_axis('date').reset_index()\n",
    "    ef['date'] = ef['date'].astype('datetime64[ns]')\n",
    "    ax[i].bar(ef.date,ef.iloc[:,-1],color = '#007acc',alpha=0.3)\n",
    "    ax[i].plot(ef.date,ef.iloc[:,-1],marker='o',color='#007acc')\n",
    "    ax[i].text(0.02,0.5,f'{ef.columns.values[-1]}',transform = ax[i].transAxes, fontsize = 20);\n",
    "    ax[i].xaxis.set_major_locator(mdates.WeekdayLocator())\n",
    "    ax[i].xaxis.set_major_formatter(mdates.DateFormatter('%b %d'))\n",
    "    ax[i].set_ylim([0,7000])\n",
    "    ax[i].spines['right'].set_visible(False)\n",
    "    ax[i].spines['top'].set_visible(False)\n",
    "plt.tight_layout()\n"
   ]
  },
  {
   "cell_type": "code",
   "execution_count": 20,
   "metadata": {
    "execution": {
     "iopub.execute_input": "2020-08-29T10:13:34.686297Z",
     "iopub.status.busy": "2020-08-29T10:13:34.685569Z",
     "iopub.status.idle": "2020-08-29T10:13:34.689929Z",
     "shell.execute_reply": "2020-08-29T10:13:34.689329Z"
    },
    "papermill": {
     "duration": 0.037573,
     "end_time": "2020-08-29T10:13:34.690085",
     "exception": false,
     "start_time": "2020-08-29T10:13:34.652512",
     "status": "completed"
    },
    "tags": []
   },
   "outputs": [
    {
     "name": "stdout",
     "output_type": "stream",
     "text": [
      "                                   states   Cases  Deaths  PCases  PDeaths  Cases (+)  Deaths (+)  Fatality Rate\n",
      "                              Maharashtra  747995   23775  747995    23775          0           0           3.18\n",
      "                               Tamil Nadu  409238    7050  409238     7050          0           0           1.72\n",
      "                           Andhra Pradesh  403616    3714  403616     3714          0           0           0.92\n",
      "                                Karnataka  318752    5368  318752     5368          0           0           1.68\n",
      "                            Uttar Pradesh  213824    3294  213824     3294          0           0           1.54\n",
      "                                    Delhi  169412    4389  169412     4389          0           0           2.59\n",
      "                              West Bengal  153754    3073  153754     3073          0           0           2.00\n",
      "                                    Bihar  130848     674  130848      674          0           0           0.52\n",
      "                                Telangana  120166     808  117415      799       2751           9           0.67\n",
      "                                    Assam  101368     286  101368      286          0           0           0.28\n",
      "                                   Odisha   97920     523   94668      509       3252          14           0.53\n",
      "                                  Gujarat   92601    2976   92601     2976          0           0           3.21\n",
      "                                Rajasthan   77965    1025   77370     1017        595           8           1.31\n",
      "                                   Kerala   69304     275   69304      275          0           0           0.40\n",
      "                                  Haryana   60596     661   60596      661          0           0           1.09\n",
      "                           Madhya Pradesh   59433    1323   59433     1323          0           0           2.23\n",
      "                                   Punjab   49378    1307   49378     1307          0           0           2.65\n",
      "                        Jammu and Kashmir   35831     678   35831      678          0           0           1.89\n",
      "                                Jharkhand   35813     389   35813      389          0           0           1.09\n",
      "                             Chhattisgarh   27233     251   27233      251          0           0           0.92\n",
      "                              Uttarakhand   17865     239   17865      239          0           0           1.34\n",
      "                                      Goa   16006     175   16006      175          0           0           1.09\n",
      "                               Puducherry   13024     199   13024      199          0           0           1.53\n",
      "                                  Tripura   10876      94   10433       89        443           5           0.86\n",
      "                                  Manipur    5843      27    5843       27          0           0           0.46\n",
      "                         Himachal Pradesh    5637      32    5637       32          0           0           0.57\n",
      "                                 Nagaland    3851       8    3805        8         46           0           0.21\n",
      "                        Arunachal Pradesh    3745       7    3745        7          0           0           0.19\n",
      "                               Chandigarh    3724      45    3724       45          0           0           1.21\n",
      "              Andaman and Nicobar Islands    3050      42    3050       42          0           0           1.38\n",
      "                                   Ladakh    2540      28    2540       28          0           0           1.10\n",
      " Dadra and Nagar Haveli and Daman and Diu    2293       2    2293        2          0           0           0.09\n",
      "                                Meghalaya    2240      10    2240       10          0           0           0.45\n",
      "                                   Sikkim    1576       3    1576        3          0           0           0.19\n",
      "                                  Mizoram    1003       0    1003        0          0           0           0.00\n",
      "                              Lakshadweep       0       0       0        0          0           0            NaN\n"
     ]
    }
   ],
   "source": [
    "#hide_input\n",
    "print(df_table.to_string(index=False))"
   ]
  },
  {
   "cell_type": "code",
   "execution_count": null,
   "metadata": {
    "papermill": {
     "duration": 0.024212,
     "end_time": "2020-08-29T10:13:34.738339",
     "exception": false,
     "start_time": "2020-08-29T10:13:34.714127",
     "status": "completed"
    },
    "tags": []
   },
   "outputs": [],
   "source": []
  },
  {
   "cell_type": "code",
   "execution_count": null,
   "metadata": {
    "papermill": {
     "duration": 0.024992,
     "end_time": "2020-08-29T10:13:34.788455",
     "exception": false,
     "start_time": "2020-08-29T10:13:34.763463",
     "status": "completed"
    },
    "tags": []
   },
   "outputs": [],
   "source": []
  }
 ],
 "metadata": {
  "kernelspec": {
   "display_name": "Python 3",
   "language": "python",
   "name": "python3"
  },
  "language_info": {
   "codemirror_mode": {
    "name": "ipython",
    "version": 3
   },
   "file_extension": ".py",
   "mimetype": "text/x-python",
   "name": "python",
   "nbconvert_exporter": "python",
   "pygments_lexer": "ipython3",
   "version": "3.6.11"
  },
  "papermill": {
   "duration": 10.072107,
   "end_time": "2020-08-29T10:13:35.324322",
   "environment_variables": {},
   "exception": null,
   "input_path": "latest.ipynb",
   "output_path": "latest.ipynb",
   "parameters": {},
   "start_time": "2020-08-29T10:13:25.252215",
   "version": "2.1.2"
  }
 },
 "nbformat": 4,
 "nbformat_minor": 4
}