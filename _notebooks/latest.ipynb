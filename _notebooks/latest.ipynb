{
 "cells": [
  {
   "cell_type": "markdown",
   "metadata": {
    "papermill": {
     "duration": 0.023291,
     "end_time": "2020-09-17T04:23:00.103558",
     "exception": false,
     "start_time": "2020-09-17T04:23:00.080267",
     "status": "completed"
    },
    "tags": []
   },
   "source": [
    "# Latest COVID-19 India Matplotlib Overview"
   ]
  },
  {
   "cell_type": "code",
   "execution_count": 1,
   "metadata": {
    "execution": {
     "iopub.execute_input": "2020-09-17T04:23:00.146766Z",
     "iopub.status.busy": "2020-09-17T04:23:00.145992Z",
     "iopub.status.idle": "2020-09-17T04:23:00.788698Z",
     "shell.execute_reply": "2020-09-17T04:23:00.787683Z"
    },
    "papermill": {
     "duration": 0.667639,
     "end_time": "2020-09-17T04:23:00.788868",
     "exception": false,
     "start_time": "2020-09-17T04:23:00.121229",
     "status": "completed"
    },
    "tags": []
   },
   "outputs": [],
   "source": [
    "#hide\n",
    "import pandas as pd\n",
    "import numpy as np\n",
    "import requests\n",
    "import json\n",
    "import matplotlib.pyplot as plt\n",
    "import matplotlib.dates as mdates\n",
    "import matplotlib as mpl\n",
    "from IPython.core.display import display,HTML\n",
    "%matplotlib inline\n",
    "from datetime import date"
   ]
  },
  {
   "cell_type": "code",
   "execution_count": 2,
   "metadata": {
    "execution": {
     "iopub.execute_input": "2020-09-17T04:23:00.831423Z",
     "iopub.status.busy": "2020-09-17T04:23:00.830393Z",
     "iopub.status.idle": "2020-09-17T04:23:01.045881Z",
     "shell.execute_reply": "2020-09-17T04:23:01.044991Z"
    },
    "papermill": {
     "duration": 0.239763,
     "end_time": "2020-09-17T04:23:01.046074",
     "exception": false,
     "start_time": "2020-09-17T04:23:00.806311",
     "status": "completed"
    },
    "tags": []
   },
   "outputs": [],
   "source": [
    "#hide\n",
    "df  = pd.read_csv('https://api.covid19india.org/csv/latest/states.csv')\n",
    "df = df[['Date','State','Confirmed','Deceased']]\n",
    "df = df.rename(columns={'Confirmed':'Cases', \"Deceased\":'Deaths'})\n",
    "df_cases = df[[\"Date\",'State','Cases']]\n",
    "df_deaths = df[['Date','State','Deaths']]\n",
    "df_cases1 = df_cases.groupby('Date')\n",
    "df_deaths1= df_deaths.groupby('Date')"
   ]
  },
  {
   "cell_type": "code",
   "execution_count": 3,
   "metadata": {
    "execution": {
     "iopub.execute_input": "2020-09-17T04:23:01.089574Z",
     "iopub.status.busy": "2020-09-17T04:23:01.088894Z",
     "iopub.status.idle": "2020-09-17T04:23:01.119848Z",
     "shell.execute_reply": "2020-09-17T04:23:01.119218Z"
    },
    "papermill": {
     "duration": 0.054632,
     "end_time": "2020-09-17T04:23:01.119997",
     "exception": false,
     "start_time": "2020-09-17T04:23:01.065365",
     "status": "completed"
    },
    "tags": []
   },
   "outputs": [],
   "source": [
    "#hide\n",
    "df_snap = pd.read_csv('data/SnapshotCases-28-July.csv')\n",
    "arr_states = df_snap['states'].unique()\n",
    "arr_dates = df['Date'].unique()\n",
    "df_snap = df_snap.set_index('states')"
   ]
  },
  {
   "cell_type": "code",
   "execution_count": 4,
   "metadata": {
    "execution": {
     "iopub.execute_input": "2020-09-17T04:23:01.163110Z",
     "iopub.status.busy": "2020-09-17T04:23:01.162388Z",
     "iopub.status.idle": "2020-09-17T04:23:01.166016Z",
     "shell.execute_reply": "2020-09-17T04:23:01.166570Z"
    },
    "papermill": {
     "duration": 0.029242,
     "end_time": "2020-09-17T04:23:01.166736",
     "exception": false,
     "start_time": "2020-09-17T04:23:01.137494",
     "status": "completed"
    },
    "tags": []
   },
   "outputs": [
    {
     "data": {
      "text/plain": [
       "array(['Andaman and Nicobar Islands', 'Andhra Pradesh',\n",
       "       'Arunachal Pradesh', 'Assam', 'Bihar', 'Chandigarh',\n",
       "       'Dadra and Nagar Haveli and Daman and Diu', 'Delhi', 'Goa',\n",
       "       'Gujarat', 'Haryana', 'Himachal Pradesh', 'Jammu and Kashmir',\n",
       "       'Jharkhand', 'Karnataka', 'Kerala', 'Lakshadweep',\n",
       "       'Madhya Pradesh', 'Maharashtra', 'Manipur', 'Meghalaya', 'Mizoram',\n",
       "       'Nagaland', 'Odisha', 'Puducherry', 'Punjab', 'Rajasthan',\n",
       "       'Sikkim', 'Tamil Nadu', 'Telangana', 'Tripura', 'Uttar Pradesh',\n",
       "       'West Bengal', 'Chhattisgarh', 'Ladakh', 'Uttarakhand'],\n",
       "      dtype=object)"
      ]
     },
     "execution_count": 4,
     "metadata": {},
     "output_type": "execute_result"
    }
   ],
   "source": [
    "#hide\n",
    "arr_states[-9] = 'Puducherry'\n",
    "arr_states[-10] = 'Odisha'\n",
    "arr_states[6] = 'Dadra and Nagar Haveli and Daman and Diu'\n",
    "arr_states = np.append(arr_states,np.array(['Chhattisgarh','Ladakh','Uttarakhand']))\n",
    "arr_states"
   ]
  },
  {
   "cell_type": "code",
   "execution_count": 5,
   "metadata": {
    "execution": {
     "iopub.execute_input": "2020-09-17T04:23:01.216777Z",
     "iopub.status.busy": "2020-09-17T04:23:01.216063Z",
     "iopub.status.idle": "2020-09-17T04:23:01.225157Z",
     "shell.execute_reply": "2020-09-17T04:23:01.225746Z"
    },
    "papermill": {
     "duration": 0.040901,
     "end_time": "2020-09-17T04:23:01.225912",
     "exception": false,
     "start_time": "2020-09-17T04:23:01.185011",
     "status": "completed"
    },
    "tags": []
   },
   "outputs": [],
   "source": [
    "#hide\n",
    "dates = []\n",
    "for i in arr_dates:\n",
    "    if i>='2020-07-01':\n",
    "        dates.append(i)\n",
    "dict = {'states':dates}\n",
    "for i in arr_states:\n",
    "    dict[i] = [0]*len(dates)\n",
    "dft_cases = pd.DataFrame(dict)\n",
    "dft_deaths = pd.DataFrame(dict)\n"
   ]
  },
  {
   "cell_type": "code",
   "execution_count": 6,
   "metadata": {
    "execution": {
     "iopub.execute_input": "2020-09-17T04:23:01.268541Z",
     "iopub.status.busy": "2020-09-17T04:23:01.267814Z",
     "iopub.status.idle": "2020-09-17T04:23:02.708727Z",
     "shell.execute_reply": "2020-09-17T04:23:02.708185Z"
    },
    "papermill": {
     "duration": 1.465065,
     "end_time": "2020-09-17T04:23:02.708875",
     "exception": false,
     "start_time": "2020-09-17T04:23:01.243810",
     "status": "completed"
    },
    "tags": []
   },
   "outputs": [],
   "source": [
    "#hide\n",
    "for i in range(len(dates)):\n",
    "    df1_deaths = df_deaths1.get_group(dates[i])\n",
    "    for j in range(len(df1_deaths.index)):\n",
    "        if df1_deaths.iloc[j,1] in arr_states:\n",
    "            dft_deaths.loc[i,df1_deaths.iloc[j,1]] = df1_deaths.iloc[j,2]\n",
    "dft_deaths = dft_deaths.set_index('states')"
   ]
  },
  {
   "cell_type": "code",
   "execution_count": 7,
   "metadata": {
    "execution": {
     "iopub.execute_input": "2020-09-17T04:23:02.752114Z",
     "iopub.status.busy": "2020-09-17T04:23:02.751382Z",
     "iopub.status.idle": "2020-09-17T04:23:04.221882Z",
     "shell.execute_reply": "2020-09-17T04:23:04.221341Z"
    },
    "papermill": {
     "duration": 1.495151,
     "end_time": "2020-09-17T04:23:04.222041",
     "exception": false,
     "start_time": "2020-09-17T04:23:02.726890",
     "status": "completed"
    },
    "tags": []
   },
   "outputs": [],
   "source": [
    "#hide\n",
    "for i in range(len(dates)):\n",
    "    df1_cases = df_cases1.get_group(dates[i])\n",
    "    for j in range(len(df1_cases.index)):\n",
    "        if df1_cases.iloc[j,1] in arr_states:\n",
    "            dft_cases.loc[i,df1_cases.iloc[j,1]] = df1_cases.iloc[j,2]\n",
    "dft_cases = dft_cases.set_index('states')"
   ]
  },
  {
   "cell_type": "code",
   "execution_count": 8,
   "metadata": {
    "execution": {
     "iopub.execute_input": "2020-09-17T04:23:04.265091Z",
     "iopub.status.busy": "2020-09-17T04:23:04.264372Z",
     "iopub.status.idle": "2020-09-17T04:23:04.266416Z",
     "shell.execute_reply": "2020-09-17T04:23:04.266930Z"
    },
    "papermill": {
     "duration": 0.027209,
     "end_time": "2020-09-17T04:23:04.267084",
     "exception": false,
     "start_time": "2020-09-17T04:23:04.239875",
     "status": "completed"
    },
    "tags": []
   },
   "outputs": [],
   "source": [
    "#hide\n",
    "dft_cases = dft_cases.T\n",
    "dft_deaths = dft_deaths.T\n",
    "dt_today = dates[-1]\n",
    "dt_yday = dates[-2]"
   ]
  },
  {
   "cell_type": "code",
   "execution_count": 9,
   "metadata": {
    "execution": {
     "iopub.execute_input": "2020-09-17T04:23:04.311436Z",
     "iopub.status.busy": "2020-09-17T04:23:04.310655Z",
     "iopub.status.idle": "2020-09-17T04:23:04.313446Z",
     "shell.execute_reply": "2020-09-17T04:23:04.312862Z"
    },
    "papermill": {
     "duration": 0.029715,
     "end_time": "2020-09-17T04:23:04.313615",
     "exception": false,
     "start_time": "2020-09-17T04:23:04.283900",
     "status": "completed"
    },
    "tags": []
   },
   "outputs": [],
   "source": [
    "#hide\n",
    "dft_cases = dft_cases.reset_index()\n",
    "dft_deaths = dft_deaths.reset_index()\n",
    "dft_cases = dft_cases.rename(columns = {'index':'state'})\n",
    "dft_deaths = dft_deaths.rename(columns = {'index':'state'})"
   ]
  },
  {
   "cell_type": "code",
   "execution_count": 10,
   "metadata": {
    "execution": {
     "iopub.execute_input": "2020-09-17T04:23:04.360849Z",
     "iopub.status.busy": "2020-09-17T04:23:04.360184Z",
     "iopub.status.idle": "2020-09-17T04:23:04.362645Z",
     "shell.execute_reply": "2020-09-17T04:23:04.363311Z"
    },
    "papermill": {
     "duration": 0.032887,
     "end_time": "2020-09-17T04:23:04.363471",
     "exception": false,
     "start_time": "2020-09-17T04:23:04.330584",
     "status": "completed"
    },
    "tags": []
   },
   "outputs": [],
   "source": [
    "#hide\n",
    "dfc_cases = dft_cases.groupby('state')[dt_today].sum()\n",
    "dfc_deaths = dft_deaths.groupby('state')[dt_today].sum()\n",
    "dfp_cases = dft_cases.groupby('state')[dt_yday].sum()\n",
    "dfp_deaths = dft_deaths.groupby('state')[dt_yday].sum()"
   ]
  },
  {
   "cell_type": "code",
   "execution_count": 11,
   "metadata": {
    "execution": {
     "iopub.execute_input": "2020-09-17T04:23:04.406197Z",
     "iopub.status.busy": "2020-09-17T04:23:04.405473Z",
     "iopub.status.idle": "2020-09-17T04:23:04.420091Z",
     "shell.execute_reply": "2020-09-17T04:23:04.420855Z"
    },
    "papermill": {
     "duration": 0.040004,
     "end_time": "2020-09-17T04:23:04.421072",
     "exception": false,
     "start_time": "2020-09-17T04:23:04.381068",
     "status": "completed"
    },
    "tags": []
   },
   "outputs": [
    {
     "data": {
      "text/html": [
       "<div>\n",
       "<style scoped>\n",
       "    .dataframe tbody tr th:only-of-type {\n",
       "        vertical-align: middle;\n",
       "    }\n",
       "\n",
       "    .dataframe tbody tr th {\n",
       "        vertical-align: top;\n",
       "    }\n",
       "\n",
       "    .dataframe thead th {\n",
       "        text-align: right;\n",
       "    }\n",
       "</style>\n",
       "<table border=\"1\" class=\"dataframe\">\n",
       "  <thead>\n",
       "    <tr style=\"text-align: right;\">\n",
       "      <th></th>\n",
       "      <th>states</th>\n",
       "      <th>Cases</th>\n",
       "      <th>Deaths</th>\n",
       "      <th>PCases</th>\n",
       "      <th>PDeaths</th>\n",
       "    </tr>\n",
       "  </thead>\n",
       "  <tbody>\n",
       "    <tr>\n",
       "      <th>0</th>\n",
       "      <td>Maharashtra</td>\n",
       "      <td>1121221</td>\n",
       "      <td>30883</td>\n",
       "      <td>1121221</td>\n",
       "      <td>30883</td>\n",
       "    </tr>\n",
       "    <tr>\n",
       "      <th>1</th>\n",
       "      <td>Andhra Pradesh</td>\n",
       "      <td>592760</td>\n",
       "      <td>5105</td>\n",
       "      <td>592760</td>\n",
       "      <td>5105</td>\n",
       "    </tr>\n",
       "    <tr>\n",
       "      <th>2</th>\n",
       "      <td>Tamil Nadu</td>\n",
       "      <td>519860</td>\n",
       "      <td>8559</td>\n",
       "      <td>519860</td>\n",
       "      <td>8559</td>\n",
       "    </tr>\n",
       "    <tr>\n",
       "      <th>3</th>\n",
       "      <td>Karnataka</td>\n",
       "      <td>484990</td>\n",
       "      <td>7536</td>\n",
       "      <td>484990</td>\n",
       "      <td>7536</td>\n",
       "    </tr>\n",
       "    <tr>\n",
       "      <th>4</th>\n",
       "      <td>Uttar Pradesh</td>\n",
       "      <td>330265</td>\n",
       "      <td>4690</td>\n",
       "      <td>330265</td>\n",
       "      <td>4690</td>\n",
       "    </tr>\n",
       "  </tbody>\n",
       "</table>\n",
       "</div>"
      ],
      "text/plain": [
       "           states    Cases  Deaths   PCases  PDeaths\n",
       "0     Maharashtra  1121221   30883  1121221    30883\n",
       "1  Andhra Pradesh   592760    5105   592760     5105\n",
       "2      Tamil Nadu   519860    8559   519860     8559\n",
       "3       Karnataka   484990    7536   484990     7536\n",
       "4   Uttar Pradesh   330265    4690   330265     4690"
      ]
     },
     "execution_count": 11,
     "metadata": {},
     "output_type": "execute_result"
    }
   ],
   "source": [
    "#hide\n",
    "df_table = pd.DataFrame({'states': dfc_cases.index, 'Cases': dfc_cases.values, 'Deaths': dfc_deaths.values, 'PCases': dfp_cases.values, 'PDeaths': dfp_deaths.values}).set_index('states')\n",
    "df_table = df_table.sort_values(by = ['Cases','Deaths'], ascending = [False, False])\n",
    "df_table = df_table.reset_index()\n",
    "df_table.head()"
   ]
  },
  {
   "cell_type": "code",
   "execution_count": 12,
   "metadata": {
    "execution": {
     "iopub.execute_input": "2020-09-17T04:23:04.462172Z",
     "iopub.status.busy": "2020-09-17T04:23:04.461522Z",
     "iopub.status.idle": "2020-09-17T04:23:04.472092Z",
     "shell.execute_reply": "2020-09-17T04:23:04.471506Z"
    },
    "papermill": {
     "duration": 0.033484,
     "end_time": "2020-09-17T04:23:04.472238",
     "exception": false,
     "start_time": "2020-09-17T04:23:04.438754",
     "status": "completed"
    },
    "tags": []
   },
   "outputs": [],
   "source": [
    "#hide\n",
    "for c in 'Cases, Deaths'.split(', '):\n",
    "    df_table[f'{c} (+)'] = (df_table[c] - df_table[f'P{c}']).clip(0)\n",
    "df_table['Fatality Rate'] = (100* df_table['Deaths']/ df_table['Cases']).round(2)"
   ]
  },
  {
   "cell_type": "code",
   "execution_count": 13,
   "metadata": {
    "execution": {
     "iopub.execute_input": "2020-09-17T04:23:04.519914Z",
     "iopub.status.busy": "2020-09-17T04:23:04.519214Z",
     "iopub.status.idle": "2020-09-17T04:23:04.522804Z",
     "shell.execute_reply": "2020-09-17T04:23:04.522232Z"
    },
    "papermill": {
     "duration": 0.03283,
     "end_time": "2020-09-17T04:23:04.522941",
     "exception": false,
     "start_time": "2020-09-17T04:23:04.490111",
     "status": "completed"
    },
    "tags": []
   },
   "outputs": [
    {
     "data": {
      "text/html": [
       "<div>\n",
       "<style scoped>\n",
       "    .dataframe tbody tr th:only-of-type {\n",
       "        vertical-align: middle;\n",
       "    }\n",
       "\n",
       "    .dataframe tbody tr th {\n",
       "        vertical-align: top;\n",
       "    }\n",
       "\n",
       "    .dataframe thead th {\n",
       "        text-align: right;\n",
       "    }\n",
       "</style>\n",
       "<table border=\"1\" class=\"dataframe\">\n",
       "  <thead>\n",
       "    <tr style=\"text-align: right;\">\n",
       "      <th></th>\n",
       "      <th>states</th>\n",
       "      <th>Cases</th>\n",
       "      <th>Deaths</th>\n",
       "      <th>PCases</th>\n",
       "      <th>PDeaths</th>\n",
       "      <th>Cases (+)</th>\n",
       "      <th>Deaths (+)</th>\n",
       "      <th>Fatality Rate</th>\n",
       "    </tr>\n",
       "  </thead>\n",
       "  <tbody>\n",
       "    <tr>\n",
       "      <th>0</th>\n",
       "      <td>Maharashtra</td>\n",
       "      <td>1121221</td>\n",
       "      <td>30883</td>\n",
       "      <td>1121221</td>\n",
       "      <td>30883</td>\n",
       "      <td>0</td>\n",
       "      <td>0</td>\n",
       "      <td>2.75</td>\n",
       "    </tr>\n",
       "    <tr>\n",
       "      <th>1</th>\n",
       "      <td>Andhra Pradesh</td>\n",
       "      <td>592760</td>\n",
       "      <td>5105</td>\n",
       "      <td>592760</td>\n",
       "      <td>5105</td>\n",
       "      <td>0</td>\n",
       "      <td>0</td>\n",
       "      <td>0.86</td>\n",
       "    </tr>\n",
       "    <tr>\n",
       "      <th>2</th>\n",
       "      <td>Tamil Nadu</td>\n",
       "      <td>519860</td>\n",
       "      <td>8559</td>\n",
       "      <td>519860</td>\n",
       "      <td>8559</td>\n",
       "      <td>0</td>\n",
       "      <td>0</td>\n",
       "      <td>1.65</td>\n",
       "    </tr>\n",
       "    <tr>\n",
       "      <th>3</th>\n",
       "      <td>Karnataka</td>\n",
       "      <td>484990</td>\n",
       "      <td>7536</td>\n",
       "      <td>484990</td>\n",
       "      <td>7536</td>\n",
       "      <td>0</td>\n",
       "      <td>0</td>\n",
       "      <td>1.55</td>\n",
       "    </tr>\n",
       "    <tr>\n",
       "      <th>4</th>\n",
       "      <td>Uttar Pradesh</td>\n",
       "      <td>330265</td>\n",
       "      <td>4690</td>\n",
       "      <td>330265</td>\n",
       "      <td>4690</td>\n",
       "      <td>0</td>\n",
       "      <td>0</td>\n",
       "      <td>1.42</td>\n",
       "    </tr>\n",
       "  </tbody>\n",
       "</table>\n",
       "</div>"
      ],
      "text/plain": [
       "           states    Cases  Deaths   PCases  PDeaths  Cases (+)  Deaths (+)  \\\n",
       "0     Maharashtra  1121221   30883  1121221    30883          0           0   \n",
       "1  Andhra Pradesh   592760    5105   592760     5105          0           0   \n",
       "2      Tamil Nadu   519860    8559   519860     8559          0           0   \n",
       "3       Karnataka   484990    7536   484990     7536          0           0   \n",
       "4   Uttar Pradesh   330265    4690   330265     4690          0           0   \n",
       "\n",
       "   Fatality Rate  \n",
       "0           2.75  \n",
       "1           0.86  \n",
       "2           1.65  \n",
       "3           1.55  \n",
       "4           1.42  "
      ]
     },
     "execution_count": 13,
     "metadata": {},
     "output_type": "execute_result"
    }
   ],
   "source": [
    "#hide\n",
    "df_table.head()"
   ]
  },
  {
   "cell_type": "code",
   "execution_count": 14,
   "metadata": {
    "execution": {
     "iopub.execute_input": "2020-09-17T04:23:04.565016Z",
     "iopub.status.busy": "2020-09-17T04:23:04.564255Z",
     "iopub.status.idle": "2020-09-17T04:23:04.582360Z",
     "shell.execute_reply": "2020-09-17T04:23:04.581670Z"
    },
    "papermill": {
     "duration": 0.041315,
     "end_time": "2020-09-17T04:23:04.582546",
     "exception": false,
     "start_time": "2020-09-17T04:23:04.541231",
     "status": "completed"
    },
    "tags": []
   },
   "outputs": [
    {
     "data": {
      "text/plain": [
       "{'updated': '2020-09-17',\n",
       " 'since': '2020-09-16',\n",
       " 'Cases': 5115919,\n",
       " 'PCases': 5115893,\n",
       " 'Deaths': 83230,\n",
       " 'PDeaths': 83230,\n",
       " 'Cases (+)': 26,\n",
       " 'Deaths (+)': 0}"
      ]
     },
     "execution_count": 14,
     "metadata": {},
     "output_type": "execute_result"
    }
   ],
   "source": [
    "#hide\n",
    "summary = {'updated':dates[-1], 'since':dates[-2]}\n",
    "list_names = ['Cases', 'PCases', 'Deaths', 'PDeaths', 'Cases (+)', 'Deaths (+)']\n",
    "for name in list_names:\n",
    "    summary[name] = df_table.sum()[name]\n",
    "summary"
   ]
  },
  {
   "cell_type": "code",
   "execution_count": 15,
   "metadata": {
    "execution": {
     "iopub.execute_input": "2020-09-17T04:23:04.628030Z",
     "iopub.status.busy": "2020-09-17T04:23:04.627311Z",
     "iopub.status.idle": "2020-09-17T04:23:04.629930Z",
     "shell.execute_reply": "2020-09-17T04:23:04.629267Z"
    },
    "papermill": {
     "duration": 0.026948,
     "end_time": "2020-09-17T04:23:04.630056",
     "exception": false,
     "start_time": "2020-09-17T04:23:04.603108",
     "status": "completed"
    },
    "tags": []
   },
   "outputs": [],
   "source": [
    "#hide\n",
    "overview = '''\n",
    "<!-- #######  HTML!! #########-->\n",
    "<h1 style=\"color: #5e9ca0; text-align: center;\">India</h1>\n",
    "<p style=\"text-align: center;\">Last update: <strong>{update}</strong></p>\n",
    "<p style=\"text-align: center;\">Confirmed cases:</p>\n",
    "<p style=\"text-align: center;font-size:24px;\">{cases} (<span style=\"color: #ff0000;\">+{new}</span>)</p>\n",
    "<p style=\"text-align: center;\">Confirmed deaths:</p>\n",
    "<p style=\"text-align: center;font-size:24px;\">{deaths} (<span style=\"color: #ff0000;\">+{dnew}</span>)</p>\n",
    "'''"
   ]
  },
  {
   "cell_type": "code",
   "execution_count": 16,
   "metadata": {
    "execution": {
     "iopub.execute_input": "2020-09-17T04:23:04.677221Z",
     "iopub.status.busy": "2020-09-17T04:23:04.676595Z",
     "iopub.status.idle": "2020-09-17T04:23:04.679781Z",
     "shell.execute_reply": "2020-09-17T04:23:04.680352Z"
    },
    "papermill": {
     "duration": 0.027861,
     "end_time": "2020-09-17T04:23:04.680526",
     "exception": false,
     "start_time": "2020-09-17T04:23:04.652665",
     "status": "completed"
    },
    "tags": []
   },
   "outputs": [
    {
     "data": {
      "text/html": [
       "\n",
       "<!-- #######  HTML!! #########-->\n",
       "<h1 style=\"color: #5e9ca0; text-align: center;\">India</h1>\n",
       "<p style=\"text-align: center;\">Last update: <strong>2020-09-17</strong></p>\n",
       "<p style=\"text-align: center;\">Confirmed cases:</p>\n",
       "<p style=\"text-align: center;font-size:24px;\">5115919 (<span style=\"color: #ff0000;\">+26</span>)</p>\n",
       "<p style=\"text-align: center;\">Confirmed deaths:</p>\n",
       "<p style=\"text-align: center;font-size:24px;\">83230 (<span style=\"color: #ff0000;\">+0</span>)</p>\n"
      ],
      "text/plain": [
       "<IPython.core.display.HTML object>"
      ]
     },
     "metadata": {},
     "output_type": "display_data"
    }
   ],
   "source": [
    "#hide_input\n",
    "update = summary['updated']\n",
    "cases = summary['Cases']\n",
    "new = summary['Cases (+)']\n",
    "deaths = summary['Deaths']\n",
    "dnew = summary['Deaths (+)']\n",
    "\n",
    "html = HTML(overview.format(update=update, cases=cases,new=new,deaths=deaths,dnew=dnew))\n",
    "\n",
    "display(html)"
   ]
  },
  {
   "cell_type": "code",
   "execution_count": 17,
   "metadata": {
    "execution": {
     "iopub.execute_input": "2020-09-17T04:23:04.727427Z",
     "iopub.status.busy": "2020-09-17T04:23:04.726778Z",
     "iopub.status.idle": "2020-09-17T04:23:04.732631Z",
     "shell.execute_reply": "2020-09-17T04:23:04.732055Z"
    },
    "papermill": {
     "duration": 0.03355,
     "end_time": "2020-09-17T04:23:04.732779",
     "exception": false,
     "start_time": "2020-09-17T04:23:04.699229",
     "status": "completed"
    },
    "tags": []
   },
   "outputs": [],
   "source": [
    "#hide\n",
    "dt_cols = list(dft_cases.columns[1:])\n",
    "dft_ct_new_cases = dft_cases.groupby('state')[dt_cols].sum().diff(axis=1).fillna(0).astype(int)\n",
    "dft_ct_new_cases.sort_values(by = dates[-1], ascending = False,inplace = True)"
   ]
  },
  {
   "cell_type": "code",
   "execution_count": 18,
   "metadata": {
    "execution": {
     "iopub.execute_input": "2020-09-17T04:23:04.792098Z",
     "iopub.status.busy": "2020-09-17T04:23:04.791414Z",
     "iopub.status.idle": "2020-09-17T04:23:04.794224Z",
     "shell.execute_reply": "2020-09-17T04:23:04.794845Z"
    },
    "papermill": {
     "duration": 0.042714,
     "end_time": "2020-09-17T04:23:04.795035",
     "exception": false,
     "start_time": "2020-09-17T04:23:04.752321",
     "status": "completed"
    },
    "tags": []
   },
   "outputs": [
    {
     "data": {
      "text/html": [
       "<div>\n",
       "<style scoped>\n",
       "    .dataframe tbody tr th:only-of-type {\n",
       "        vertical-align: middle;\n",
       "    }\n",
       "\n",
       "    .dataframe tbody tr th {\n",
       "        vertical-align: top;\n",
       "    }\n",
       "\n",
       "    .dataframe thead th {\n",
       "        text-align: right;\n",
       "    }\n",
       "</style>\n",
       "<table border=\"1\" class=\"dataframe\">\n",
       "  <thead>\n",
       "    <tr style=\"text-align: right;\">\n",
       "      <th>states</th>\n",
       "      <th>2020-07-01</th>\n",
       "      <th>2020-07-02</th>\n",
       "      <th>2020-07-03</th>\n",
       "      <th>2020-07-04</th>\n",
       "      <th>2020-07-05</th>\n",
       "      <th>2020-07-06</th>\n",
       "      <th>2020-07-07</th>\n",
       "      <th>2020-07-08</th>\n",
       "      <th>2020-07-09</th>\n",
       "      <th>2020-07-10</th>\n",
       "      <th>...</th>\n",
       "      <th>2020-09-08</th>\n",
       "      <th>2020-09-09</th>\n",
       "      <th>2020-09-10</th>\n",
       "      <th>2020-09-11</th>\n",
       "      <th>2020-09-12</th>\n",
       "      <th>2020-09-13</th>\n",
       "      <th>2020-09-14</th>\n",
       "      <th>2020-09-15</th>\n",
       "      <th>2020-09-16</th>\n",
       "      <th>2020-09-17</th>\n",
       "    </tr>\n",
       "    <tr>\n",
       "      <th>state</th>\n",
       "      <th></th>\n",
       "      <th></th>\n",
       "      <th></th>\n",
       "      <th></th>\n",
       "      <th></th>\n",
       "      <th></th>\n",
       "      <th></th>\n",
       "      <th></th>\n",
       "      <th></th>\n",
       "      <th></th>\n",
       "      <th></th>\n",
       "      <th></th>\n",
       "      <th></th>\n",
       "      <th></th>\n",
       "      <th></th>\n",
       "      <th></th>\n",
       "      <th></th>\n",
       "      <th></th>\n",
       "      <th></th>\n",
       "      <th></th>\n",
       "      <th></th>\n",
       "    </tr>\n",
       "  </thead>\n",
       "  <tbody>\n",
       "    <tr>\n",
       "      <th>Mizoram</th>\n",
       "      <td>0</td>\n",
       "      <td>2</td>\n",
       "      <td>0</td>\n",
       "      <td>2</td>\n",
       "      <td>22</td>\n",
       "      <td>11</td>\n",
       "      <td>1</td>\n",
       "      <td>5</td>\n",
       "      <td>0</td>\n",
       "      <td>23</td>\n",
       "      <td>...</td>\n",
       "      <td>9</td>\n",
       "      <td>69</td>\n",
       "      <td>141</td>\n",
       "      <td>20</td>\n",
       "      <td>26</td>\n",
       "      <td>35</td>\n",
       "      <td>14</td>\n",
       "      <td>40</td>\n",
       "      <td>12</td>\n",
       "      <td>26</td>\n",
       "    </tr>\n",
       "    <tr>\n",
       "      <th>Andaman and Nicobar Islands</th>\n",
       "      <td>0</td>\n",
       "      <td>9</td>\n",
       "      <td>7</td>\n",
       "      <td>3</td>\n",
       "      <td>6</td>\n",
       "      <td>16</td>\n",
       "      <td>6</td>\n",
       "      <td>2</td>\n",
       "      <td>7</td>\n",
       "      <td>0</td>\n",
       "      <td>...</td>\n",
       "      <td>33</td>\n",
       "      <td>34</td>\n",
       "      <td>39</td>\n",
       "      <td>29</td>\n",
       "      <td>27</td>\n",
       "      <td>25</td>\n",
       "      <td>11</td>\n",
       "      <td>17</td>\n",
       "      <td>19</td>\n",
       "      <td>0</td>\n",
       "    </tr>\n",
       "    <tr>\n",
       "      <th>Andhra Pradesh</th>\n",
       "      <td>0</td>\n",
       "      <td>845</td>\n",
       "      <td>837</td>\n",
       "      <td>765</td>\n",
       "      <td>998</td>\n",
       "      <td>1322</td>\n",
       "      <td>1178</td>\n",
       "      <td>1062</td>\n",
       "      <td>1555</td>\n",
       "      <td>1608</td>\n",
       "      <td>...</td>\n",
       "      <td>10601</td>\n",
       "      <td>10418</td>\n",
       "      <td>10175</td>\n",
       "      <td>9999</td>\n",
       "      <td>9901</td>\n",
       "      <td>9536</td>\n",
       "      <td>7956</td>\n",
       "      <td>8846</td>\n",
       "      <td>8835</td>\n",
       "      <td>0</td>\n",
       "    </tr>\n",
       "    <tr>\n",
       "      <th>Maharashtra</th>\n",
       "      <td>0</td>\n",
       "      <td>6328</td>\n",
       "      <td>6364</td>\n",
       "      <td>7074</td>\n",
       "      <td>6555</td>\n",
       "      <td>5368</td>\n",
       "      <td>5134</td>\n",
       "      <td>6603</td>\n",
       "      <td>6875</td>\n",
       "      <td>7862</td>\n",
       "      <td>...</td>\n",
       "      <td>20131</td>\n",
       "      <td>23577</td>\n",
       "      <td>23446</td>\n",
       "      <td>24886</td>\n",
       "      <td>22084</td>\n",
       "      <td>22543</td>\n",
       "      <td>17066</td>\n",
       "      <td>20482</td>\n",
       "      <td>23365</td>\n",
       "      <td>0</td>\n",
       "    </tr>\n",
       "    <tr>\n",
       "      <th>Manipur</th>\n",
       "      <td>0</td>\n",
       "      <td>19</td>\n",
       "      <td>37</td>\n",
       "      <td>9</td>\n",
       "      <td>41</td>\n",
       "      <td>24</td>\n",
       "      <td>40</td>\n",
       "      <td>5</td>\n",
       "      <td>15</td>\n",
       "      <td>132</td>\n",
       "      <td>...</td>\n",
       "      <td>96</td>\n",
       "      <td>160</td>\n",
       "      <td>108</td>\n",
       "      <td>109</td>\n",
       "      <td>152</td>\n",
       "      <td>144</td>\n",
       "      <td>96</td>\n",
       "      <td>239</td>\n",
       "      <td>110</td>\n",
       "      <td>0</td>\n",
       "    </tr>\n",
       "  </tbody>\n",
       "</table>\n",
       "<p>5 rows × 79 columns</p>\n",
       "</div>"
      ],
      "text/plain": [
       "states                       2020-07-01  2020-07-02  2020-07-03  2020-07-04  \\\n",
       "state                                                                         \n",
       "Mizoram                               0           2           0           2   \n",
       "Andaman and Nicobar Islands           0           9           7           3   \n",
       "Andhra Pradesh                        0         845         837         765   \n",
       "Maharashtra                           0        6328        6364        7074   \n",
       "Manipur                               0          19          37           9   \n",
       "\n",
       "states                       2020-07-05  2020-07-06  2020-07-07  2020-07-08  \\\n",
       "state                                                                         \n",
       "Mizoram                              22          11           1           5   \n",
       "Andaman and Nicobar Islands           6          16           6           2   \n",
       "Andhra Pradesh                      998        1322        1178        1062   \n",
       "Maharashtra                        6555        5368        5134        6603   \n",
       "Manipur                              41          24          40           5   \n",
       "\n",
       "states                       2020-07-09  2020-07-10  ...  2020-09-08  \\\n",
       "state                                                ...               \n",
       "Mizoram                               0          23  ...           9   \n",
       "Andaman and Nicobar Islands           7           0  ...          33   \n",
       "Andhra Pradesh                     1555        1608  ...       10601   \n",
       "Maharashtra                        6875        7862  ...       20131   \n",
       "Manipur                              15         132  ...          96   \n",
       "\n",
       "states                       2020-09-09  2020-09-10  2020-09-11  2020-09-12  \\\n",
       "state                                                                         \n",
       "Mizoram                              69         141          20          26   \n",
       "Andaman and Nicobar Islands          34          39          29          27   \n",
       "Andhra Pradesh                    10418       10175        9999        9901   \n",
       "Maharashtra                       23577       23446       24886       22084   \n",
       "Manipur                             160         108         109         152   \n",
       "\n",
       "states                       2020-09-13  2020-09-14  2020-09-15  2020-09-16  \\\n",
       "state                                                                         \n",
       "Mizoram                              35          14          40          12   \n",
       "Andaman and Nicobar Islands          25          11          17          19   \n",
       "Andhra Pradesh                     9536        7956        8846        8835   \n",
       "Maharashtra                       22543       17066       20482       23365   \n",
       "Manipur                             144          96         239         110   \n",
       "\n",
       "states                       2020-09-17  \n",
       "state                                    \n",
       "Mizoram                              26  \n",
       "Andaman and Nicobar Islands           0  \n",
       "Andhra Pradesh                        0  \n",
       "Maharashtra                           0  \n",
       "Manipur                               0  \n",
       "\n",
       "[5 rows x 79 columns]"
      ]
     },
     "execution_count": 18,
     "metadata": {},
     "output_type": "execute_result"
    }
   ],
   "source": [
    "#hide\n",
    "dft_ct_new_cases.head()"
   ]
  },
  {
   "cell_type": "code",
   "execution_count": 19,
   "metadata": {
    "execution": {
     "iopub.execute_input": "2020-09-17T04:23:04.837898Z",
     "iopub.status.busy": "2020-09-17T04:23:04.837177Z",
     "iopub.status.idle": "2020-09-17T04:23:09.058218Z",
     "shell.execute_reply": "2020-09-17T04:23:09.058739Z"
    },
    "papermill": {
     "duration": 4.244002,
     "end_time": "2020-09-17T04:23:09.058908",
     "exception": false,
     "start_time": "2020-09-17T04:23:04.814906",
     "status": "completed"
    },
    "tags": []
   },
   "outputs": [
    {
     "data": {
      "image/png": "[encoded data removed]",
      "text/plain": [
       "<Figure size 1296x2016 with 11 Axes>"
      ]
     },
     "metadata": {
      "needs_background": "light"
     },
     "output_type": "display_data"
    }
   ],
   "source": [
    "#hide_input\n",
    "df = dft_ct_new_cases.copy()\n",
    "df.loc['Total'] = df.sum()\n",
    "n = 5\n",
    "ax = []\n",
    "fig = plt.figure(figsize = (18,28))\n",
    "gs = fig.add_gridspec(n+2, 5)\n",
    "# gs = fig.add_gridspec(2, 3)\n",
    "ax1 = fig.add_subplot(gs[0, :])\n",
    "ef = df.loc['Total'].rename_axis('date').reset_index()\n",
    "ef['date'] = ef['date'].astype('datetime64[ns]')\n",
    "ax1.bar(ef.date,ef.Total,alpha=0.3,color='#007acc')\n",
    "ax1.plot(ef.date,ef.Total , marker=\"o\", color='#007acc')\n",
    "ax1.xaxis.set_major_locator(mdates.WeekdayLocator())\n",
    "ax1.xaxis.set_major_formatter(mdates.DateFormatter('%b %d'))\n",
    "ax1.text(0.02, 0.5,'India daily case count', transform = ax1.transAxes, fontsize=25);\n",
    "ax1.spines['right'].set_visible(False)\n",
    "ax1.spines['top'].set_visible(False)\n",
    "\n",
    "ax2 = fig.add_subplot(gs[1,0])\n",
    "ef = df.loc['Maharashtra'].rename_axis('date').reset_index()\n",
    "ef['date'] = ef['date'].astype('datetime64[ns]')\n",
    "\n",
    "ax2.bar(ef.date, ef.Maharashtra,color = '#007acc',alpha=0.5)\n",
    "ax2.xaxis.set_major_locator(mdates.WeekdayLocator())\n",
    "ax2.xaxis.set_major_formatter(mdates.DateFormatter('%b %d'))\n",
    "ax2.set_xticks(ax2.get_xticks()[::3])\n",
    "maxyval = ef.Maharashtra.max()\n",
    "ax2.set_ylim([0,maxyval])\n",
    "ax2.text(0.05, 0.9,'Maharashtra', transform = ax2.transAxes, fontsize=20);\n",
    "ax2.spines['right'].set_visible(False)\n",
    "ax2.spines['top'].set_visible(False)\n",
    "\n",
    "\n",
    "ax3 = fig.add_subplot(gs[1,1])\n",
    "ef = df.loc['Tamil Nadu'].rename_axis('date').reset_index()\n",
    "ef['date'] = ef['date'].astype('datetime64[ns]')\n",
    "ax3.bar(ef.date, ef['Tamil Nadu'],color = '#007acc',alpha=0.5,)\n",
    "ax3.xaxis.set_major_locator(mdates.WeekdayLocator())\n",
    "ax3.xaxis.set_major_formatter(mdates.DateFormatter('%b %d'))\n",
    "ax3.set_xticks(ax3.get_xticks()[::3])\n",
    "ax3.text(0.05, 0.9,'Tamil Nadu', transform = ax3.transAxes, fontsize=20);\n",
    "ax3.spines['right'].set_visible(False)\n",
    "ax3.spines['top'].set_visible(False)\n",
    "\n",
    "ax5 = fig.add_subplot(gs[1,3])\n",
    "ef = df.loc['Telangana'].rename_axis('date').reset_index()\n",
    "ef['date'] = ef['date'].astype('datetime64[ns]')\n",
    "ax5.bar(ef.date, ef['Telangana'],color = '#007acc',alpha=0.5,)\n",
    "ax5.xaxis.set_major_locator(mdates.WeekdayLocator())\n",
    "ax5.xaxis.set_major_formatter(mdates.DateFormatter('%b %d'))\n",
    "ax5.set_xticks(ax5.get_xticks()[::3])\n",
    "ax5.text(0.05, 0.9,'Telangana', transform = ax5.transAxes, fontsize=20);\n",
    "ax5.spines['right'].set_visible(False)\n",
    "ax5.spines['top'].set_visible(False)\n",
    "\n",
    "ax6 = fig.add_subplot(gs[1,4])\n",
    "ef = df.loc['Andhra Pradesh'].rename_axis('date').reset_index()\n",
    "ef['date'] = ef['date'].astype('datetime64[ns]')\n",
    "ax6.bar(ef.date, ef['Andhra Pradesh'],color = '#007acc',alpha=0.5,)\n",
    "ax6.xaxis.set_major_locator(mdates.WeekdayLocator())\n",
    "ax6.xaxis.set_major_formatter(mdates.DateFormatter('%b %d'))\n",
    "ax6.set_xticks(ax6.get_xticks()[::3])\n",
    "ax6.text(0.05, 1,'Andhra Pradesh', transform = ax6.transAxes, fontsize=20);\n",
    "ax6.spines['right'].set_visible(False)\n",
    "ax6.spines['top'].set_visible(False)\n",
    "\n",
    "ax4 = fig.add_subplot(gs[1,2])\n",
    "ef = df.loc['Delhi'].rename_axis('date').reset_index()\n",
    "ef['date'] = ef['date'].astype('datetime64[ns]')\n",
    "ax4.bar(ef.date, ef.Delhi,color = '#007acc',alpha=0.5)\n",
    "ax4.set_xticks([])\n",
    "ax4.xaxis.set_major_locator(mdates.WeekdayLocator())\n",
    "ax4.xaxis.set_major_formatter(mdates.DateFormatter('%b %d'))\n",
    "ax4.set_xticks(ax4.get_xticks()[::3])\n",
    "ax4.spines['right'].set_visible(False)\n",
    "ax4.spines['top'].set_visible(False)\n",
    "\n",
    "ax4.text(0.05, 1,'Delhi', transform = ax4.transAxes, fontsize=20)\n",
    "\n",
    "for i in range(n):\n",
    "    \n",
    "    ax.append(fig.add_subplot(gs[i+2,:]))\n",
    "    ef = df.iloc[i+3].rename_axis('date').reset_index()\n",
    "    ef['date'] = ef['date'].astype('datetime64[ns]')\n",
    "    ax[i].bar(ef.date,ef.iloc[:,-1],color = '#007acc',alpha=0.3)\n",
    "    ax[i].plot(ef.date,ef.iloc[:,-1],marker='o',color='#007acc')\n",
    "    ax[i].text(0.02,0.5,f'{ef.columns.values[-1]}',transform = ax[i].transAxes, fontsize = 20);\n",
    "    ax[i].xaxis.set_major_locator(mdates.WeekdayLocator())\n",
    "    ax[i].xaxis.set_major_formatter(mdates.DateFormatter('%b %d'))\n",
    "    ax[i].set_ylim([0,7000])\n",
    "    ax[i].spines['right'].set_visible(False)\n",
    "    ax[i].spines['top'].set_visible(False)\n",
    "plt.tight_layout()\n"
   ]
  },
  {
   "cell_type": "code",
   "execution_count": 20,
   "metadata": {
    "execution": {
     "iopub.execute_input": "2020-09-17T04:23:09.124164Z",
     "iopub.status.busy": "2020-09-17T04:23:09.123014Z",
     "iopub.status.idle": "2020-09-17T04:23:09.125888Z",
     "shell.execute_reply": "2020-09-17T04:23:09.126589Z"
    },
    "papermill": {
     "duration": 0.03785,
     "end_time": "2020-09-17T04:23:09.126768",
     "exception": false,
     "start_time": "2020-09-17T04:23:09.088918",
     "status": "completed"
    },
    "tags": []
   },
   "outputs": [
    {
     "name": "stdout",
     "output_type": "stream",
     "text": [
      "                                   states    Cases  Deaths   PCases  PDeaths  Cases (+)  Deaths (+)  Fatality Rate\n",
      "                              Maharashtra  1121221   30883  1121221    30883          0           0           2.75\n",
      "                           Andhra Pradesh   592760    5105   592760     5105          0           0           0.86\n",
      "                               Tamil Nadu   519860    8559   519860     8559          0           0           1.65\n",
      "                                Karnataka   484990    7536   484990     7536          0           0           1.55\n",
      "                            Uttar Pradesh   330265    4690   330265     4690          0           0           1.42\n",
      "                                    Delhi   230269    4839   230269     4839          0           0           2.10\n",
      "                              West Bengal   212383    4123   212383     4123          0           0           1.94\n",
      "                                   Odisha   162920     709   162920      709          0           0           0.44\n",
      "                                Telangana   162844     996   162844      996          0           0           0.61\n",
      "                                    Bihar   162632     848   162632      848          0           0           0.52\n",
      "                                    Assam   148969     511   148969      511          0           0           0.34\n",
      "                                   Kerala   117864     481   117864      481          0           0           0.41\n",
      "                                  Gujarat   117709    3257   117709     3257          0           0           2.77\n",
      "                                Rajasthan   107680    1279   107680     1279          0           0           1.19\n",
      "                                  Haryana   101316    1045   101316     1045          0           0           1.03\n",
      "                           Madhya Pradesh    95515    1844    95515     1844          0           0           1.93\n",
      "                                   Punjab    87184    2592    87184     2592          0           0           2.97\n",
      "                             Chhattisgarh    73966     611    73966      611          0           0           0.83\n",
      "                                Jharkhand    66074     579    66074      579          0           0           0.88\n",
      "                        Jammu and Kashmir    58244     932    58244      932          0           0           1.60\n",
      "                              Uttarakhand    35947     447    35947      447          0           0           1.24\n",
      "                                      Goa    26139     319    26139      319          0           0           1.22\n",
      "                               Puducherry    21111     418    21111      418          0           0           1.98\n",
      "                                  Tripura    20169     217    20169      217          0           0           1.08\n",
      "                         Himachal Pradesh    10795      90    10795       90          0           0           0.83\n",
      "                               Chandigarh     8958     101     8958      101          0           0           1.13\n",
      "                                  Manipur     8320      48     8320       48          0           0           0.58\n",
      "                        Arunachal Pradesh     6692      13     6692       13          0           0           0.19\n",
      "                                 Nagaland     5263      10     5263       10          0           0           0.19\n",
      "                                Meghalaya     4195      29     4195       29          0           0           0.69\n",
      "              Andaman and Nicobar Islands     3593      52     3593       52          0           0           1.45\n",
      "                                   Ladakh     3535      46     3535       46          0           0           1.30\n",
      " Dadra and Nagar Haveli and Daman and Diu     2810       2     2810        2          0           0           0.07\n",
      "                                   Sikkim     2221      19     2221       19          0           0           0.86\n",
      "                                  Mizoram     1506       0     1480        0         26           0           0.00\n",
      "                              Lakshadweep        0       0        0        0          0           0            NaN\n"
     ]
    }
   ],
   "source": [
    "#hide_input\n",
    "print(df_table.to_string(index=False))"
   ]
  },
  {
   "cell_type": "code",
   "execution_count": null,
   "metadata": {
    "papermill": {
     "duration": 0.025085,
     "end_time": "2020-09-17T04:23:09.176702",
     "exception": false,
     "start_time": "2020-09-17T04:23:09.151617",
     "status": "completed"
    },
    "tags": []
   },
   "outputs": [],
   "source": []
  },
  {
   "cell_type": "code",
   "execution_count": null,
   "metadata": {
    "papermill": {
     "duration": 0.025263,
     "end_time": "2020-09-17T04:23:09.226882",
     "exception": false,
     "start_time": "2020-09-17T04:23:09.201619",
     "status": "completed"
    },
    "tags": []
   },
   "outputs": [],
   "source": []
  }
 ],
 "metadata": {
  "kernelspec": {
   "display_name": "Python 3",
   "language": "python",
   "name": "python3"
  },
  "language_info": {
   "codemirror_mode": {
    "name": "ipython",
    "version": 3
   },
   "file_extension": ".py",
   "mimetype": "text/x-python",
   "name": "python",
   "nbconvert_exporter": "python",
   "pygments_lexer": "ipython3",
   "version": "3.6.12"
  },
  "papermill": {
   "duration": 10.727065,
   "end_time": "2020-09-17T04:23:09.659843",
   "environment_variables": {},
   "exception": null,
   "input_path": "latest.ipynb",
   "output_path": "latest.ipynb",
   "parameters": {},
   "start_time": "2020-09-17T04:22:58.932778",
   "version": "2.1.2"
  }
 },
 "nbformat": 4,
 "nbformat_minor": 4
}