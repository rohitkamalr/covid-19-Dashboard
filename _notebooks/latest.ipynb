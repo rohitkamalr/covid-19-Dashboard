{
 "cells": [
  {
   "cell_type": "markdown",
   "metadata": {
    "papermill": {
     "duration": 0.025334,
     "end_time": "2020-09-07T12:27:44.567884",
     "exception": false,
     "start_time": "2020-09-07T12:27:44.542550",
     "status": "completed"
    },
    "tags": []
   },
   "source": [
    "# Latest COVID-19 India Matplotlib Overview"
   ]
  },
  {
   "cell_type": "code",
   "execution_count": 1,
   "metadata": {
    "execution": {
     "iopub.execute_input": "2020-09-07T12:27:44.615580Z",
     "iopub.status.busy": "2020-09-07T12:27:44.614783Z",
     "iopub.status.idle": "2020-09-07T12:27:45.221063Z",
     "shell.execute_reply": "2020-09-07T12:27:45.221638Z"
    },
    "papermill": {
     "duration": 0.633032,
     "end_time": "2020-09-07T12:27:45.221859",
     "exception": false,
     "start_time": "2020-09-07T12:27:44.588827",
     "status": "completed"
    },
    "tags": []
   },
   "outputs": [],
   "source": [
    "#hide\n",
    "import pandas as pd\n",
    "import numpy as np\n",
    "import requests\n",
    "import json\n",
    "import matplotlib.pyplot as plt\n",
    "import matplotlib.dates as mdates\n",
    "import matplotlib as mpl\n",
    "from IPython.core.display import display,HTML\n",
    "%matplotlib inline\n",
    "from datetime import date"
   ]
  },
  {
   "cell_type": "code",
   "execution_count": 2,
   "metadata": {
    "execution": {
     "iopub.execute_input": "2020-09-07T12:27:45.267998Z",
     "iopub.status.busy": "2020-09-07T12:27:45.266932Z",
     "iopub.status.idle": "2020-09-07T12:27:45.472921Z",
     "shell.execute_reply": "2020-09-07T12:27:45.472293Z"
    },
    "papermill": {
     "duration": 0.231948,
     "end_time": "2020-09-07T12:27:45.473094",
     "exception": false,
     "start_time": "2020-09-07T12:27:45.241146",
     "status": "completed"
    },
    "tags": []
   },
   "outputs": [],
   "source": [
    "#hide\n",
    "df  = pd.read_csv('https://api.covid19india.org/csv/latest/states.csv')\n",
    "df = df[['Date','State','Confirmed','Deceased']]\n",
    "df = df.rename(columns={'Confirmed':'Cases', \"Deceased\":'Deaths'})\n",
    "df_cases = df[[\"Date\",'State','Cases']]\n",
    "df_deaths = df[['Date','State','Deaths']]\n",
    "df_cases1 = df_cases.groupby('Date')\n",
    "df_deaths1= df_deaths.groupby('Date')"
   ]
  },
  {
   "cell_type": "code",
   "execution_count": 3,
   "metadata": {
    "execution": {
     "iopub.execute_input": "2020-09-07T12:27:45.516778Z",
     "iopub.status.busy": "2020-09-07T12:27:45.516064Z",
     "iopub.status.idle": "2020-09-07T12:27:45.532744Z",
     "shell.execute_reply": "2020-09-07T12:27:45.532164Z"
    },
    "papermill": {
     "duration": 0.040467,
     "end_time": "2020-09-07T12:27:45.532895",
     "exception": false,
     "start_time": "2020-09-07T12:27:45.492428",
     "status": "completed"
    },
    "tags": []
   },
   "outputs": [],
   "source": [
    "#hide\n",
    "df_snap = pd.read_csv('data/SnapshotCases-28-July.csv')\n",
    "arr_states = df_snap['states'].unique()\n",
    "arr_dates = df['Date'].unique()\n",
    "df_snap = df_snap.set_index('states')"
   ]
  },
  {
   "cell_type": "code",
   "execution_count": 4,
   "metadata": {
    "execution": {
     "iopub.execute_input": "2020-09-07T12:27:45.580629Z",
     "iopub.status.busy": "2020-09-07T12:27:45.579896Z",
     "iopub.status.idle": "2020-09-07T12:27:45.584104Z",
     "shell.execute_reply": "2020-09-07T12:27:45.583388Z"
    },
    "papermill": {
     "duration": 0.032668,
     "end_time": "2020-09-07T12:27:45.584254",
     "exception": false,
     "start_time": "2020-09-07T12:27:45.551586",
     "status": "completed"
    },
    "tags": []
   },
   "outputs": [
    {
     "data": {
      "text/plain": [
       "array(['Andaman and Nicobar Islands', 'Andhra Pradesh',\n",
       "       'Arunachal Pradesh', 'Assam', 'Bihar', 'Chandigarh',\n",
       "       'Dadra and Nagar Haveli and Daman and Diu', 'Delhi', 'Goa',\n",
       "       'Gujarat', 'Haryana', 'Himachal Pradesh', 'Jammu and Kashmir',\n",
       "       'Jharkhand', 'Karnataka', 'Kerala', 'Lakshadweep',\n",
       "       'Madhya Pradesh', 'Maharashtra', 'Manipur', 'Meghalaya', 'Mizoram',\n",
       "       'Nagaland', 'Odisha', 'Puducherry', 'Punjab', 'Rajasthan',\n",
       "       'Sikkim', 'Tamil Nadu', 'Telangana', 'Tripura', 'Uttar Pradesh',\n",
       "       'West Bengal', 'Chhattisgarh', 'Ladakh', 'Uttarakhand'],\n",
       "      dtype=object)"
      ]
     },
     "execution_count": 4,
     "metadata": {},
     "output_type": "execute_result"
    }
   ],
   "source": [
    "#hide\n",
    "arr_states[-9] = 'Puducherry'\n",
    "arr_states[-10] = 'Odisha'\n",
    "arr_states[6] = 'Dadra and Nagar Haveli and Daman and Diu'\n",
    "arr_states = np.append(arr_states,np.array(['Chhattisgarh','Ladakh','Uttarakhand']))\n",
    "arr_states"
   ]
  },
  {
   "cell_type": "code",
   "execution_count": 5,
   "metadata": {
    "execution": {
     "iopub.execute_input": "2020-09-07T12:27:45.631947Z",
     "iopub.status.busy": "2020-09-07T12:27:45.631212Z",
     "iopub.status.idle": "2020-09-07T12:27:45.639267Z",
     "shell.execute_reply": "2020-09-07T12:27:45.639900Z"
    },
    "papermill": {
     "duration": 0.036411,
     "end_time": "2020-09-07T12:27:45.640061",
     "exception": false,
     "start_time": "2020-09-07T12:27:45.603650",
     "status": "completed"
    },
    "tags": []
   },
   "outputs": [],
   "source": [
    "#hide\n",
    "dates = []\n",
    "for i in arr_dates:\n",
    "    if i>='2020-07-01':\n",
    "        dates.append(i)\n",
    "dict = {'states':dates}\n",
    "for i in arr_states:\n",
    "    dict[i] = [0]*len(dates)\n",
    "dft_cases = pd.DataFrame(dict)\n",
    "dft_deaths = pd.DataFrame(dict)\n"
   ]
  },
  {
   "cell_type": "code",
   "execution_count": 6,
   "metadata": {
    "execution": {
     "iopub.execute_input": "2020-09-07T12:27:45.685175Z",
     "iopub.status.busy": "2020-09-07T12:27:45.684423Z",
     "iopub.status.idle": "2020-09-07T12:27:46.937503Z",
     "shell.execute_reply": "2020-09-07T12:27:46.936871Z"
    },
    "papermill": {
     "duration": 1.277825,
     "end_time": "2020-09-07T12:27:46.937674",
     "exception": false,
     "start_time": "2020-09-07T12:27:45.659849",
     "status": "completed"
    },
    "tags": []
   },
   "outputs": [],
   "source": [
    "#hide\n",
    "for i in range(len(dates)):\n",
    "    df1_deaths = df_deaths1.get_group(dates[i])\n",
    "    for j in range(len(df1_deaths.index)):\n",
    "        if df1_deaths.iloc[j,1] in arr_states:\n",
    "            dft_deaths.loc[i,df1_deaths.iloc[j,1]] = df1_deaths.iloc[j,2]\n",
    "dft_deaths = dft_deaths.set_index('states')"
   ]
  },
  {
   "cell_type": "code",
   "execution_count": 7,
   "metadata": {
    "execution": {
     "iopub.execute_input": "2020-09-07T12:27:46.982969Z",
     "iopub.status.busy": "2020-09-07T12:27:46.982219Z",
     "iopub.status.idle": "2020-09-07T12:27:48.269832Z",
     "shell.execute_reply": "2020-09-07T12:27:48.270408Z"
    },
    "papermill": {
     "duration": 1.313594,
     "end_time": "2020-09-07T12:27:48.270596",
     "exception": false,
     "start_time": "2020-09-07T12:27:46.957002",
     "status": "completed"
    },
    "tags": []
   },
   "outputs": [],
   "source": [
    "#hide\n",
    "for i in range(len(dates)):\n",
    "    df1_cases = df_cases1.get_group(dates[i])\n",
    "    for j in range(len(df1_cases.index)):\n",
    "        if df1_cases.iloc[j,1] in arr_states:\n",
    "            dft_cases.loc[i,df1_cases.iloc[j,1]] = df1_cases.iloc[j,2]\n",
    "dft_cases = dft_cases.set_index('states')"
   ]
  },
  {
   "cell_type": "code",
   "execution_count": 8,
   "metadata": {
    "execution": {
     "iopub.execute_input": "2020-09-07T12:27:48.315256Z",
     "iopub.status.busy": "2020-09-07T12:27:48.314658Z",
     "iopub.status.idle": "2020-09-07T12:27:48.317651Z",
     "shell.execute_reply": "2020-09-07T12:27:48.318097Z"
    },
    "papermill": {
     "duration": 0.027555,
     "end_time": "2020-09-07T12:27:48.318230",
     "exception": false,
     "start_time": "2020-09-07T12:27:48.290675",
     "status": "completed"
    },
    "tags": []
   },
   "outputs": [],
   "source": [
    "#hide\n",
    "dft_cases = dft_cases.T\n",
    "dft_deaths = dft_deaths.T\n",
    "dt_today = dates[-1]\n",
    "dt_yday = dates[-2]"
   ]
  },
  {
   "cell_type": "code",
   "execution_count": 9,
   "metadata": {
    "execution": {
     "iopub.execute_input": "2020-09-07T12:27:48.353876Z",
     "iopub.status.busy": "2020-09-07T12:27:48.353156Z",
     "iopub.status.idle": "2020-09-07T12:27:48.358033Z",
     "shell.execute_reply": "2020-09-07T12:27:48.359042Z"
    },
    "papermill": {
     "duration": 0.025978,
     "end_time": "2020-09-07T12:27:48.359196",
     "exception": false,
     "start_time": "2020-09-07T12:27:48.333218",
     "status": "completed"
    },
    "tags": []
   },
   "outputs": [],
   "source": [
    "#hide\n",
    "dft_cases = dft_cases.reset_index()\n",
    "dft_deaths = dft_deaths.reset_index()\n",
    "dft_cases = dft_cases.rename(columns = {'index':'state'})\n",
    "dft_deaths = dft_deaths.rename(columns = {'index':'state'})"
   ]
  },
  {
   "cell_type": "code",
   "execution_count": 10,
   "metadata": {
    "execution": {
     "iopub.execute_input": "2020-09-07T12:27:48.402054Z",
     "iopub.status.busy": "2020-09-07T12:27:48.401324Z",
     "iopub.status.idle": "2020-09-07T12:27:48.403613Z",
     "shell.execute_reply": "2020-09-07T12:27:48.404208Z"
    },
    "papermill": {
     "duration": 0.029388,
     "end_time": "2020-09-07T12:27:48.404374",
     "exception": false,
     "start_time": "2020-09-07T12:27:48.374986",
     "status": "completed"
    },
    "tags": []
   },
   "outputs": [],
   "source": [
    "#hide\n",
    "dfc_cases = dft_cases.groupby('state')[dt_today].sum()\n",
    "dfc_deaths = dft_deaths.groupby('state')[dt_today].sum()\n",
    "dfp_cases = dft_cases.groupby('state')[dt_yday].sum()\n",
    "dfp_deaths = dft_deaths.groupby('state')[dt_yday].sum()"
   ]
  },
  {
   "cell_type": "code",
   "execution_count": 11,
   "metadata": {
    "execution": {
     "iopub.execute_input": "2020-09-07T12:27:48.449972Z",
     "iopub.status.busy": "2020-09-07T12:27:48.449256Z",
     "iopub.status.idle": "2020-09-07T12:27:48.463654Z",
     "shell.execute_reply": "2020-09-07T12:27:48.462656Z"
    },
    "papermill": {
     "duration": 0.039776,
     "end_time": "2020-09-07T12:27:48.463801",
     "exception": false,
     "start_time": "2020-09-07T12:27:48.424025",
     "status": "completed"
    },
    "tags": []
   },
   "outputs": [
    {
     "data": {
      "text/html": [
       "<div>\n",
       "<style scoped>\n",
       "    .dataframe tbody tr th:only-of-type {\n",
       "        vertical-align: middle;\n",
       "    }\n",
       "\n",
       "    .dataframe tbody tr th {\n",
       "        vertical-align: top;\n",
       "    }\n",
       "\n",
       "    .dataframe thead th {\n",
       "        text-align: right;\n",
       "    }\n",
       "</style>\n",
       "<table border=\"1\" class=\"dataframe\">\n",
       "  <thead>\n",
       "    <tr style=\"text-align: right;\">\n",
       "      <th></th>\n",
       "      <th>states</th>\n",
       "      <th>Cases</th>\n",
       "      <th>Deaths</th>\n",
       "      <th>PCases</th>\n",
       "      <th>PDeaths</th>\n",
       "    </tr>\n",
       "  </thead>\n",
       "  <tbody>\n",
       "    <tr>\n",
       "      <th>0</th>\n",
       "      <td>Maharashtra</td>\n",
       "      <td>907212</td>\n",
       "      <td>26604</td>\n",
       "      <td>907212</td>\n",
       "      <td>26604</td>\n",
       "    </tr>\n",
       "    <tr>\n",
       "      <th>1</th>\n",
       "      <td>Andhra Pradesh</td>\n",
       "      <td>498125</td>\n",
       "      <td>4417</td>\n",
       "      <td>498125</td>\n",
       "      <td>4417</td>\n",
       "    </tr>\n",
       "    <tr>\n",
       "      <th>2</th>\n",
       "      <td>Tamil Nadu</td>\n",
       "      <td>463480</td>\n",
       "      <td>7839</td>\n",
       "      <td>463480</td>\n",
       "      <td>7839</td>\n",
       "    </tr>\n",
       "    <tr>\n",
       "      <th>3</th>\n",
       "      <td>Karnataka</td>\n",
       "      <td>398551</td>\n",
       "      <td>6393</td>\n",
       "      <td>398551</td>\n",
       "      <td>6393</td>\n",
       "    </tr>\n",
       "    <tr>\n",
       "      <th>4</th>\n",
       "      <td>Uttar Pradesh</td>\n",
       "      <td>271851</td>\n",
       "      <td>3976</td>\n",
       "      <td>266283</td>\n",
       "      <td>3920</td>\n",
       "    </tr>\n",
       "  </tbody>\n",
       "</table>\n",
       "</div>"
      ],
      "text/plain": [
       "           states   Cases  Deaths  PCases  PDeaths\n",
       "0     Maharashtra  907212   26604  907212    26604\n",
       "1  Andhra Pradesh  498125    4417  498125     4417\n",
       "2      Tamil Nadu  463480    7839  463480     7839\n",
       "3       Karnataka  398551    6393  398551     6393\n",
       "4   Uttar Pradesh  271851    3976  266283     3920"
      ]
     },
     "execution_count": 11,
     "metadata": {},
     "output_type": "execute_result"
    }
   ],
   "source": [
    "#hide\n",
    "df_table = pd.DataFrame({'states': dfc_cases.index, 'Cases': dfc_cases.values, 'Deaths': dfc_deaths.values, 'PCases': dfp_cases.values, 'PDeaths': dfp_deaths.values}).set_index('states')\n",
    "df_table = df_table.sort_values(by = ['Cases','Deaths'], ascending = [False, False])\n",
    "df_table = df_table.reset_index()\n",
    "df_table.head()"
   ]
  },
  {
   "cell_type": "code",
   "execution_count": 12,
   "metadata": {
    "execution": {
     "iopub.execute_input": "2020-09-07T12:27:48.508727Z",
     "iopub.status.busy": "2020-09-07T12:27:48.507570Z",
     "iopub.status.idle": "2020-09-07T12:27:48.517081Z",
     "shell.execute_reply": "2020-09-07T12:27:48.516469Z"
    },
    "papermill": {
     "duration": 0.033937,
     "end_time": "2020-09-07T12:27:48.517228",
     "exception": false,
     "start_time": "2020-09-07T12:27:48.483291",
     "status": "completed"
    },
    "tags": []
   },
   "outputs": [],
   "source": [
    "#hide\n",
    "for c in 'Cases, Deaths'.split(', '):\n",
    "    df_table[f'{c} (+)'] = (df_table[c] - df_table[f'P{c}']).clip(0)\n",
    "df_table['Fatality Rate'] = (100* df_table['Deaths']/ df_table['Cases']).round(2)"
   ]
  },
  {
   "cell_type": "code",
   "execution_count": 13,
   "metadata": {
    "execution": {
     "iopub.execute_input": "2020-09-07T12:27:48.567479Z",
     "iopub.status.busy": "2020-09-07T12:27:48.566706Z",
     "iopub.status.idle": "2020-09-07T12:27:48.569348Z",
     "shell.execute_reply": "2020-09-07T12:27:48.569972Z"
    },
    "papermill": {
     "duration": 0.033378,
     "end_time": "2020-09-07T12:27:48.570138",
     "exception": false,
     "start_time": "2020-09-07T12:27:48.536760",
     "status": "completed"
    },
    "tags": []
   },
   "outputs": [
    {
     "data": {
      "text/html": [
       "<div>\n",
       "<style scoped>\n",
       "    .dataframe tbody tr th:only-of-type {\n",
       "        vertical-align: middle;\n",
       "    }\n",
       "\n",
       "    .dataframe tbody tr th {\n",
       "        vertical-align: top;\n",
       "    }\n",
       "\n",
       "    .dataframe thead th {\n",
       "        text-align: right;\n",
       "    }\n",
       "</style>\n",
       "<table border=\"1\" class=\"dataframe\">\n",
       "  <thead>\n",
       "    <tr style=\"text-align: right;\">\n",
       "      <th></th>\n",
       "      <th>states</th>\n",
       "      <th>Cases</th>\n",
       "      <th>Deaths</th>\n",
       "      <th>PCases</th>\n",
       "      <th>PDeaths</th>\n",
       "      <th>Cases (+)</th>\n",
       "      <th>Deaths (+)</th>\n",
       "      <th>Fatality Rate</th>\n",
       "    </tr>\n",
       "  </thead>\n",
       "  <tbody>\n",
       "    <tr>\n",
       "      <th>0</th>\n",
       "      <td>Maharashtra</td>\n",
       "      <td>907212</td>\n",
       "      <td>26604</td>\n",
       "      <td>907212</td>\n",
       "      <td>26604</td>\n",
       "      <td>0</td>\n",
       "      <td>0</td>\n",
       "      <td>2.93</td>\n",
       "    </tr>\n",
       "    <tr>\n",
       "      <th>1</th>\n",
       "      <td>Andhra Pradesh</td>\n",
       "      <td>498125</td>\n",
       "      <td>4417</td>\n",
       "      <td>498125</td>\n",
       "      <td>4417</td>\n",
       "      <td>0</td>\n",
       "      <td>0</td>\n",
       "      <td>0.89</td>\n",
       "    </tr>\n",
       "    <tr>\n",
       "      <th>2</th>\n",
       "      <td>Tamil Nadu</td>\n",
       "      <td>463480</td>\n",
       "      <td>7839</td>\n",
       "      <td>463480</td>\n",
       "      <td>7839</td>\n",
       "      <td>0</td>\n",
       "      <td>0</td>\n",
       "      <td>1.69</td>\n",
       "    </tr>\n",
       "    <tr>\n",
       "      <th>3</th>\n",
       "      <td>Karnataka</td>\n",
       "      <td>398551</td>\n",
       "      <td>6393</td>\n",
       "      <td>398551</td>\n",
       "      <td>6393</td>\n",
       "      <td>0</td>\n",
       "      <td>0</td>\n",
       "      <td>1.60</td>\n",
       "    </tr>\n",
       "    <tr>\n",
       "      <th>4</th>\n",
       "      <td>Uttar Pradesh</td>\n",
       "      <td>271851</td>\n",
       "      <td>3976</td>\n",
       "      <td>266283</td>\n",
       "      <td>3920</td>\n",
       "      <td>5568</td>\n",
       "      <td>56</td>\n",
       "      <td>1.46</td>\n",
       "    </tr>\n",
       "  </tbody>\n",
       "</table>\n",
       "</div>"
      ],
      "text/plain": [
       "           states   Cases  Deaths  PCases  PDeaths  Cases (+)  Deaths (+)  \\\n",
       "0     Maharashtra  907212   26604  907212    26604          0           0   \n",
       "1  Andhra Pradesh  498125    4417  498125     4417          0           0   \n",
       "2      Tamil Nadu  463480    7839  463480     7839          0           0   \n",
       "3       Karnataka  398551    6393  398551     6393          0           0   \n",
       "4   Uttar Pradesh  271851    3976  266283     3920       5568          56   \n",
       "\n",
       "   Fatality Rate  \n",
       "0           2.93  \n",
       "1           0.89  \n",
       "2           1.69  \n",
       "3           1.60  \n",
       "4           1.46  "
      ]
     },
     "execution_count": 13,
     "metadata": {},
     "output_type": "execute_result"
    }
   ],
   "source": [
    "#hide\n",
    "df_table.head()"
   ]
  },
  {
   "cell_type": "code",
   "execution_count": 14,
   "metadata": {
    "execution": {
     "iopub.execute_input": "2020-09-07T12:27:48.616797Z",
     "iopub.status.busy": "2020-09-07T12:27:48.616060Z",
     "iopub.status.idle": "2020-09-07T12:27:48.634202Z",
     "shell.execute_reply": "2020-09-07T12:27:48.633478Z"
    },
    "papermill": {
     "duration": 0.043995,
     "end_time": "2020-09-07T12:27:48.634355",
     "exception": false,
     "start_time": "2020-09-07T12:27:48.590360",
     "status": "completed"
    },
    "tags": []
   },
   "outputs": [
    {
     "data": {
      "text/plain": [
       "{'updated': '2020-09-07',\n",
       " 'since': '2020-09-06',\n",
       " 'Cases': 4215585,\n",
       " 'PCases': 4202562,\n",
       " 'Deaths': 71774,\n",
       " 'PDeaths': 71687,\n",
       " 'Cases (+)': 13023,\n",
       " 'Deaths (+)': 87}"
      ]
     },
     "execution_count": 14,
     "metadata": {},
     "output_type": "execute_result"
    }
   ],
   "source": [
    "#hide\n",
    "summary = {'updated':dates[-1], 'since':dates[-2]}\n",
    "list_names = ['Cases', 'PCases', 'Deaths', 'PDeaths', 'Cases (+)', 'Deaths (+)']\n",
    "for name in list_names:\n",
    "    summary[name] = df_table.sum()[name]\n",
    "summary"
   ]
  },
  {
   "cell_type": "code",
   "execution_count": 15,
   "metadata": {
    "execution": {
     "iopub.execute_input": "2020-09-07T12:27:48.680403Z",
     "iopub.status.busy": "2020-09-07T12:27:48.679591Z",
     "iopub.status.idle": "2020-09-07T12:27:48.682346Z",
     "shell.execute_reply": "2020-09-07T12:27:48.681719Z"
    },
    "papermill": {
     "duration": 0.027684,
     "end_time": "2020-09-07T12:27:48.682493",
     "exception": false,
     "start_time": "2020-09-07T12:27:48.654809",
     "status": "completed"
    },
    "tags": []
   },
   "outputs": [],
   "source": [
    "#hide\n",
    "overview = '''\n",
    "<!-- #######  HTML!! #########-->\n",
    "<h1 style=\"color: #5e9ca0; text-align: center;\">India</h1>\n",
    "<p style=\"text-align: center;\">Last update: <strong>{update}</strong></p>\n",
    "<p style=\"text-align: center;\">Confirmed cases:</p>\n",
    "<p style=\"text-align: center;font-size:24px;\">{cases} (<span style=\"color: #ff0000;\">+{new}</span>)</p>\n",
    "<p style=\"text-align: center;\">Confirmed deaths:</p>\n",
    "<p style=\"text-align: center;font-size:24px;\">{deaths} (<span style=\"color: #ff0000;\">+{dnew}</span>)</p>\n",
    "'''"
   ]
  },
  {
   "cell_type": "code",
   "execution_count": 16,
   "metadata": {
    "execution": {
     "iopub.execute_input": "2020-09-07T12:27:48.730503Z",
     "iopub.status.busy": "2020-09-07T12:27:48.729754Z",
     "iopub.status.idle": "2020-09-07T12:27:48.732578Z",
     "shell.execute_reply": "2020-09-07T12:27:48.733215Z"
    },
    "papermill": {
     "duration": 0.030577,
     "end_time": "2020-09-07T12:27:48.733379",
     "exception": false,
     "start_time": "2020-09-07T12:27:48.702802",
     "status": "completed"
    },
    "tags": []
   },
   "outputs": [
    {
     "data": {
      "text/html": [
       "\n",
       "<!-- #######  HTML!! #########-->\n",
       "<h1 style=\"color: #5e9ca0; text-align: center;\">India</h1>\n",
       "<p style=\"text-align: center;\">Last update: <strong>2020-09-07</strong></p>\n",
       "<p style=\"text-align: center;\">Confirmed cases:</p>\n",
       "<p style=\"text-align: center;font-size:24px;\">4215585 (<span style=\"color: #ff0000;\">+13023</span>)</p>\n",
       "<p style=\"text-align: center;\">Confirmed deaths:</p>\n",
       "<p style=\"text-align: center;font-size:24px;\">71774 (<span style=\"color: #ff0000;\">+87</span>)</p>\n"
      ],
      "text/plain": [
       "<IPython.core.display.HTML object>"
      ]
     },
     "metadata": {},
     "output_type": "display_data"
    }
   ],
   "source": [
    "#hide_input\n",
    "update = summary['updated']\n",
    "cases = summary['Cases']\n",
    "new = summary['Cases (+)']\n",
    "deaths = summary['Deaths']\n",
    "dnew = summary['Deaths (+)']\n",
    "\n",
    "html = HTML(overview.format(update=update, cases=cases,new=new,deaths=deaths,dnew=dnew))\n",
    "\n",
    "display(html)"
   ]
  },
  {
   "cell_type": "code",
   "execution_count": 17,
   "metadata": {
    "execution": {
     "iopub.execute_input": "2020-09-07T12:27:48.785344Z",
     "iopub.status.busy": "2020-09-07T12:27:48.784590Z",
     "iopub.status.idle": "2020-09-07T12:27:48.789845Z",
     "shell.execute_reply": "2020-09-07T12:27:48.790489Z"
    },
    "papermill": {
     "duration": 0.035372,
     "end_time": "2020-09-07T12:27:48.790658",
     "exception": false,
     "start_time": "2020-09-07T12:27:48.755286",
     "status": "completed"
    },
    "tags": []
   },
   "outputs": [],
   "source": [
    "#hide\n",
    "dt_cols = list(dft_cases.columns[1:])\n",
    "dft_ct_new_cases = dft_cases.groupby('state')[dt_cols].sum().diff(axis=1).fillna(0).astype(int)\n",
    "dft_ct_new_cases.sort_values(by = dates[-1], ascending = False,inplace = True)"
   ]
  },
  {
   "cell_type": "code",
   "execution_count": 18,
   "metadata": {
    "execution": {
     "iopub.execute_input": "2020-09-07T12:27:48.851871Z",
     "iopub.status.busy": "2020-09-07T12:27:48.851138Z",
     "iopub.status.idle": "2020-09-07T12:27:48.854141Z",
     "shell.execute_reply": "2020-09-07T12:27:48.854741Z"
    },
    "papermill": {
     "duration": 0.042218,
     "end_time": "2020-09-07T12:27:48.854925",
     "exception": false,
     "start_time": "2020-09-07T12:27:48.812707",
     "status": "completed"
    },
    "tags": []
   },
   "outputs": [
    {
     "data": {
      "text/html": [
       "<div>\n",
       "<style scoped>\n",
       "    .dataframe tbody tr th:only-of-type {\n",
       "        vertical-align: middle;\n",
       "    }\n",
       "\n",
       "    .dataframe tbody tr th {\n",
       "        vertical-align: top;\n",
       "    }\n",
       "\n",
       "    .dataframe thead th {\n",
       "        text-align: right;\n",
       "    }\n",
       "</style>\n",
       "<table border=\"1\" class=\"dataframe\">\n",
       "  <thead>\n",
       "    <tr style=\"text-align: right;\">\n",
       "      <th>states</th>\n",
       "      <th>2020-07-01</th>\n",
       "      <th>2020-07-02</th>\n",
       "      <th>2020-07-03</th>\n",
       "      <th>2020-07-04</th>\n",
       "      <th>2020-07-05</th>\n",
       "      <th>2020-07-06</th>\n",
       "      <th>2020-07-07</th>\n",
       "      <th>2020-07-08</th>\n",
       "      <th>2020-07-09</th>\n",
       "      <th>2020-07-10</th>\n",
       "      <th>...</th>\n",
       "      <th>2020-08-29</th>\n",
       "      <th>2020-08-30</th>\n",
       "      <th>2020-08-31</th>\n",
       "      <th>2020-09-01</th>\n",
       "      <th>2020-09-02</th>\n",
       "      <th>2020-09-03</th>\n",
       "      <th>2020-09-04</th>\n",
       "      <th>2020-09-05</th>\n",
       "      <th>2020-09-06</th>\n",
       "      <th>2020-09-07</th>\n",
       "    </tr>\n",
       "    <tr>\n",
       "      <th>state</th>\n",
       "      <th></th>\n",
       "      <th></th>\n",
       "      <th></th>\n",
       "      <th></th>\n",
       "      <th></th>\n",
       "      <th></th>\n",
       "      <th></th>\n",
       "      <th></th>\n",
       "      <th></th>\n",
       "      <th></th>\n",
       "      <th></th>\n",
       "      <th></th>\n",
       "      <th></th>\n",
       "      <th></th>\n",
       "      <th></th>\n",
       "      <th></th>\n",
       "      <th></th>\n",
       "      <th></th>\n",
       "      <th></th>\n",
       "      <th></th>\n",
       "      <th></th>\n",
       "    </tr>\n",
       "  </thead>\n",
       "  <tbody>\n",
       "    <tr>\n",
       "      <th>Uttar Pradesh</th>\n",
       "      <td>0</td>\n",
       "      <td>769</td>\n",
       "      <td>972</td>\n",
       "      <td>757</td>\n",
       "      <td>1153</td>\n",
       "      <td>929</td>\n",
       "      <td>1332</td>\n",
       "      <td>1188</td>\n",
       "      <td>1206</td>\n",
       "      <td>1338</td>\n",
       "      <td>...</td>\n",
       "      <td>5633</td>\n",
       "      <td>6175</td>\n",
       "      <td>4782</td>\n",
       "      <td>5343</td>\n",
       "      <td>5682</td>\n",
       "      <td>5662</td>\n",
       "      <td>6074</td>\n",
       "      <td>6590</td>\n",
       "      <td>6518</td>\n",
       "      <td>5568</td>\n",
       "    </tr>\n",
       "    <tr>\n",
       "      <th>Odisha</th>\n",
       "      <td>0</td>\n",
       "      <td>229</td>\n",
       "      <td>561</td>\n",
       "      <td>495</td>\n",
       "      <td>469</td>\n",
       "      <td>456</td>\n",
       "      <td>571</td>\n",
       "      <td>527</td>\n",
       "      <td>577</td>\n",
       "      <td>755</td>\n",
       "      <td>...</td>\n",
       "      <td>3252</td>\n",
       "      <td>3014</td>\n",
       "      <td>2602</td>\n",
       "      <td>3025</td>\n",
       "      <td>3219</td>\n",
       "      <td>3631</td>\n",
       "      <td>3267</td>\n",
       "      <td>3543</td>\n",
       "      <td>3810</td>\n",
       "      <td>3861</td>\n",
       "    </tr>\n",
       "    <tr>\n",
       "      <th>Telangana</th>\n",
       "      <td>0</td>\n",
       "      <td>1213</td>\n",
       "      <td>1892</td>\n",
       "      <td>1850</td>\n",
       "      <td>1590</td>\n",
       "      <td>1831</td>\n",
       "      <td>1879</td>\n",
       "      <td>1924</td>\n",
       "      <td>1410</td>\n",
       "      <td>1278</td>\n",
       "      <td>...</td>\n",
       "      <td>2751</td>\n",
       "      <td>2924</td>\n",
       "      <td>1873</td>\n",
       "      <td>2734</td>\n",
       "      <td>2892</td>\n",
       "      <td>2817</td>\n",
       "      <td>2478</td>\n",
       "      <td>2511</td>\n",
       "      <td>2574</td>\n",
       "      <td>1802</td>\n",
       "    </tr>\n",
       "    <tr>\n",
       "      <th>Bihar</th>\n",
       "      <td>0</td>\n",
       "      <td>478</td>\n",
       "      <td>426</td>\n",
       "      <td>349</td>\n",
       "      <td>403</td>\n",
       "      <td>280</td>\n",
       "      <td>385</td>\n",
       "      <td>749</td>\n",
       "      <td>704</td>\n",
       "      <td>352</td>\n",
       "      <td>...</td>\n",
       "      <td>2087</td>\n",
       "      <td>2078</td>\n",
       "      <td>1324</td>\n",
       "      <td>1928</td>\n",
       "      <td>1969</td>\n",
       "      <td>1922</td>\n",
       "      <td>1978</td>\n",
       "      <td>1727</td>\n",
       "      <td>1797</td>\n",
       "      <td>1369</td>\n",
       "    </tr>\n",
       "    <tr>\n",
       "      <th>Tripura</th>\n",
       "      <td>0</td>\n",
       "      <td>39</td>\n",
       "      <td>93</td>\n",
       "      <td>25</td>\n",
       "      <td>23</td>\n",
       "      <td>111</td>\n",
       "      <td>24</td>\n",
       "      <td>57</td>\n",
       "      <td>16</td>\n",
       "      <td>142</td>\n",
       "      <td>...</td>\n",
       "      <td>443</td>\n",
       "      <td>447</td>\n",
       "      <td>321</td>\n",
       "      <td>509</td>\n",
       "      <td>566</td>\n",
       "      <td>590</td>\n",
       "      <td>524</td>\n",
       "      <td>691</td>\n",
       "      <td>603</td>\n",
       "      <td>399</td>\n",
       "    </tr>\n",
       "  </tbody>\n",
       "</table>\n",
       "<p>5 rows × 69 columns</p>\n",
       "</div>"
      ],
      "text/plain": [
       "states         2020-07-01  2020-07-02  2020-07-03  2020-07-04  2020-07-05  \\\n",
       "state                                                                       \n",
       "Uttar Pradesh           0         769         972         757        1153   \n",
       "Odisha                  0         229         561         495         469   \n",
       "Telangana               0        1213        1892        1850        1590   \n",
       "Bihar                   0         478         426         349         403   \n",
       "Tripura                 0          39          93          25          23   \n",
       "\n",
       "states         2020-07-06  2020-07-07  2020-07-08  2020-07-09  2020-07-10  \\\n",
       "state                                                                       \n",
       "Uttar Pradesh         929        1332        1188        1206        1338   \n",
       "Odisha                456         571         527         577         755   \n",
       "Telangana            1831        1879        1924        1410        1278   \n",
       "Bihar                 280         385         749         704         352   \n",
       "Tripura               111          24          57          16         142   \n",
       "\n",
       "states         ...  2020-08-29  2020-08-30  2020-08-31  2020-09-01  \\\n",
       "state          ...                                                   \n",
       "Uttar Pradesh  ...        5633        6175        4782        5343   \n",
       "Odisha         ...        3252        3014        2602        3025   \n",
       "Telangana      ...        2751        2924        1873        2734   \n",
       "Bihar          ...        2087        2078        1324        1928   \n",
       "Tripura        ...         443         447         321         509   \n",
       "\n",
       "states         2020-09-02  2020-09-03  2020-09-04  2020-09-05  2020-09-06  \\\n",
       "state                                                                       \n",
       "Uttar Pradesh        5682        5662        6074        6590        6518   \n",
       "Odisha               3219        3631        3267        3543        3810   \n",
       "Telangana            2892        2817        2478        2511        2574   \n",
       "Bihar                1969        1922        1978        1727        1797   \n",
       "Tripura               566         590         524         691         603   \n",
       "\n",
       "states         2020-09-07  \n",
       "state                      \n",
       "Uttar Pradesh        5568  \n",
       "Odisha               3861  \n",
       "Telangana            1802  \n",
       "Bihar                1369  \n",
       "Tripura               399  \n",
       "\n",
       "[5 rows x 69 columns]"
      ]
     },
     "execution_count": 18,
     "metadata": {},
     "output_type": "execute_result"
    }
   ],
   "source": [
    "#hide\n",
    "dft_ct_new_cases.head()"
   ]
  },
  {
   "cell_type": "code",
   "execution_count": 19,
   "metadata": {
    "execution": {
     "iopub.execute_input": "2020-09-07T12:27:48.915596Z",
     "iopub.status.busy": "2020-09-07T12:27:48.909299Z",
     "iopub.status.idle": "2020-09-07T12:27:52.517638Z",
     "shell.execute_reply": "2020-09-07T12:27:52.518266Z"
    },
    "papermill": {
     "duration": 3.640364,
     "end_time": "2020-09-07T12:27:52.518472",
     "exception": false,
     "start_time": "2020-09-07T12:27:48.878108",
     "status": "completed"
    },
    "tags": []
   },
   "outputs": [
    {
     "data": {
      "image/png": "[encoded data removed]",
      "text/plain": [
       "<Figure size 1296x2016 with 11 Axes>"
      ]
     },
     "metadata": {
      "needs_background": "light"
     },
     "output_type": "display_data"
    }
   ],
   "source": [
    "#hide_input\n",
    "df = dft_ct_new_cases.copy()\n",
    "df.loc['Total'] = df.sum()\n",
    "n = 5\n",
    "ax = []\n",
    "fig = plt.figure(figsize = (18,28))\n",
    "gs = fig.add_gridspec(n+2, 5)\n",
    "# gs = fig.add_gridspec(2, 3)\n",
    "ax1 = fig.add_subplot(gs[0, :])\n",
    "ef = df.loc['Total'].rename_axis('date').reset_index()\n",
    "ef['date'] = ef['date'].astype('datetime64[ns]')\n",
    "ax1.bar(ef.date,ef.Total,alpha=0.3,color='#007acc')\n",
    "ax1.plot(ef.date,ef.Total , marker=\"o\", color='#007acc')\n",
    "ax1.xaxis.set_major_locator(mdates.WeekdayLocator())\n",
    "ax1.xaxis.set_major_formatter(mdates.DateFormatter('%b %d'))\n",
    "ax1.text(0.02, 0.5,'India daily case count', transform = ax1.transAxes, fontsize=25);\n",
    "ax1.spines['right'].set_visible(False)\n",
    "ax1.spines['top'].set_visible(False)\n",
    "\n",
    "ax2 = fig.add_subplot(gs[1,0])\n",
    "ef = df.loc['Maharashtra'].rename_axis('date').reset_index()\n",
    "ef['date'] = ef['date'].astype('datetime64[ns]')\n",
    "\n",
    "ax2.bar(ef.date, ef.Maharashtra,color = '#007acc',alpha=0.5)\n",
    "ax2.xaxis.set_major_locator(mdates.WeekdayLocator())\n",
    "ax2.xaxis.set_major_formatter(mdates.DateFormatter('%b %d'))\n",
    "ax2.set_xticks(ax2.get_xticks()[::3])\n",
    "maxyval = ef.Maharashtra.max()\n",
    "ax2.set_ylim([0,maxyval])\n",
    "ax2.text(0.05, 0.9,'Maharashtra', transform = ax2.transAxes, fontsize=20);\n",
    "ax2.spines['right'].set_visible(False)\n",
    "ax2.spines['top'].set_visible(False)\n",
    "\n",
    "\n",
    "ax3 = fig.add_subplot(gs[1,1])\n",
    "ef = df.loc['Tamil Nadu'].rename_axis('date').reset_index()\n",
    "ef['date'] = ef['date'].astype('datetime64[ns]')\n",
    "ax3.bar(ef.date, ef['Tamil Nadu'],color = '#007acc',alpha=0.5,)\n",
    "ax3.xaxis.set_major_locator(mdates.WeekdayLocator())\n",
    "ax3.xaxis.set_major_formatter(mdates.DateFormatter('%b %d'))\n",
    "ax3.set_xticks(ax3.get_xticks()[::3])\n",
    "ax3.text(0.05, 0.9,'Tamil Nadu', transform = ax3.transAxes, fontsize=20);\n",
    "ax3.spines['right'].set_visible(False)\n",
    "ax3.spines['top'].set_visible(False)\n",
    "\n",
    "ax5 = fig.add_subplot(gs[1,3])\n",
    "ef = df.loc['Telangana'].rename_axis('date').reset_index()\n",
    "ef['date'] = ef['date'].astype('datetime64[ns]')\n",
    "ax5.bar(ef.date, ef['Telangana'],color = '#007acc',alpha=0.5,)\n",
    "ax5.xaxis.set_major_locator(mdates.WeekdayLocator())\n",
    "ax5.xaxis.set_major_formatter(mdates.DateFormatter('%b %d'))\n",
    "ax5.set_xticks(ax5.get_xticks()[::3])\n",
    "ax5.text(0.05, 0.9,'Telangana', transform = ax5.transAxes, fontsize=20);\n",
    "ax5.spines['right'].set_visible(False)\n",
    "ax5.spines['top'].set_visible(False)\n",
    "\n",
    "ax6 = fig.add_subplot(gs[1,4])\n",
    "ef = df.loc['Andhra Pradesh'].rename_axis('date').reset_index()\n",
    "ef['date'] = ef['date'].astype('datetime64[ns]')\n",
    "ax6.bar(ef.date, ef['Andhra Pradesh'],color = '#007acc',alpha=0.5,)\n",
    "ax6.xaxis.set_major_locator(mdates.WeekdayLocator())\n",
    "ax6.xaxis.set_major_formatter(mdates.DateFormatter('%b %d'))\n",
    "ax6.set_xticks(ax6.get_xticks()[::3])\n",
    "ax6.text(0.05, 1,'Andhra Pradesh', transform = ax6.transAxes, fontsize=20);\n",
    "ax6.spines['right'].set_visible(False)\n",
    "ax6.spines['top'].set_visible(False)\n",
    "\n",
    "ax4 = fig.add_subplot(gs[1,2])\n",
    "ef = df.loc['Delhi'].rename_axis('date').reset_index()\n",
    "ef['date'] = ef['date'].astype('datetime64[ns]')\n",
    "ax4.bar(ef.date, ef.Delhi,color = '#007acc',alpha=0.5)\n",
    "ax4.set_xticks([])\n",
    "ax4.xaxis.set_major_locator(mdates.WeekdayLocator())\n",
    "ax4.xaxis.set_major_formatter(mdates.DateFormatter('%b %d'))\n",
    "ax4.set_xticks(ax4.get_xticks()[::3])\n",
    "ax4.spines['right'].set_visible(False)\n",
    "ax4.spines['top'].set_visible(False)\n",
    "\n",
    "ax4.text(0.05, 1,'Delhi', transform = ax4.transAxes, fontsize=20)\n",
    "\n",
    "for i in range(n):\n",
    "    \n",
    "    ax.append(fig.add_subplot(gs[i+2,:]))\n",
    "    ef = df.iloc[i+3].rename_axis('date').reset_index()\n",
    "    ef['date'] = ef['date'].astype('datetime64[ns]')\n",
    "    ax[i].bar(ef.date,ef.iloc[:,-1],color = '#007acc',alpha=0.3)\n",
    "    ax[i].plot(ef.date,ef.iloc[:,-1],marker='o',color='#007acc')\n",
    "    ax[i].text(0.02,0.5,f'{ef.columns.values[-1]}',transform = ax[i].transAxes, fontsize = 20);\n",
    "    ax[i].xaxis.set_major_locator(mdates.WeekdayLocator())\n",
    "    ax[i].xaxis.set_major_formatter(mdates.DateFormatter('%b %d'))\n",
    "    ax[i].set_ylim([0,7000])\n",
    "    ax[i].spines['right'].set_visible(False)\n",
    "    ax[i].spines['top'].set_visible(False)\n",
    "plt.tight_layout()\n"
   ]
  },
  {
   "cell_type": "code",
   "execution_count": 20,
   "metadata": {
    "execution": {
     "iopub.execute_input": "2020-09-07T12:27:52.583586Z",
     "iopub.status.busy": "2020-09-07T12:27:52.582798Z",
     "iopub.status.idle": "2020-09-07T12:27:52.588139Z",
     "shell.execute_reply": "2020-09-07T12:27:52.588719Z"
    },
    "papermill": {
     "duration": 0.043523,
     "end_time": "2020-09-07T12:27:52.588902",
     "exception": false,
     "start_time": "2020-09-07T12:27:52.545379",
     "status": "completed"
    },
    "tags": []
   },
   "outputs": [
    {
     "name": "stdout",
     "output_type": "stream",
     "text": [
      "                                   states   Cases  Deaths  PCases  PDeaths  Cases (+)  Deaths (+)  Fatality Rate\n",
      "                              Maharashtra  907212   26604  907212    26604          0           0           2.93\n",
      "                           Andhra Pradesh  498125    4417  498125     4417          0           0           0.89\n",
      "                               Tamil Nadu  463480    7839  463480     7839          0           0           1.69\n",
      "                                Karnataka  398551    6393  398551     6393          0           0           1.60\n",
      "                            Uttar Pradesh  271851    3976  266283     3920       5568          56           1.46\n",
      "                                    Delhi  191449    4567  191449     4567          0           0           2.39\n",
      "                              West Bengal  180788    3562  180788     3562          0           0           1.97\n",
      "                                    Bihar  149027     761  147658      754       1369           7           0.51\n",
      "                                Telangana  142771     895  140969      886       1802           9           0.63\n",
      "                                   Odisha  127892     609  124031      599       3861          10           0.48\n",
      "                                    Assam  125460     360  125460      360          0           0           0.29\n",
      "                                  Gujarat  104341    3106  104341     3106          0           0           2.98\n",
      "                                Rajasthan   90956    1137   90956     1137          0           0           1.25\n",
      "                                   Kerala   87842     348   87842      348          0           0           0.40\n",
      "                                  Haryana   76549     806   76549      806          0           0           1.05\n",
      "                           Madhya Pradesh   73574    1572   73574     1572          0           0           2.14\n",
      "                                   Punjab   63473    1862   63473     1862          0           0           2.93\n",
      "                                Jharkhand   51063     469   51063      469          0           0           0.92\n",
      "                             Chhattisgarh   45263     380   45263      380          0           0           0.84\n",
      "                        Jammu and Kashmir   43557     784   43557      784          0           0           1.80\n",
      "                              Uttarakhand   24629     341   24629      341          0           0           1.38\n",
      "                                      Goa   20829     236   20829      236          0           0           1.13\n",
      "                               Puducherry   17032     314   17032      314          0           0           1.84\n",
      "                                  Tripura   15526     149   15127      144        399           5           0.96\n",
      "                         Himachal Pradesh    7415      54    7415       54          0           0           0.73\n",
      "                                  Manipur    7022      38    7022       38          0           0           0.54\n",
      "                               Chandigarh    5763      71    5763       71          0           0           1.23\n",
      "                        Arunachal Pradesh    5000       8    5000        8          0           0           0.16\n",
      "                                 Nagaland    4178       8    4178        8          0           0           0.19\n",
      "              Andaman and Nicobar Islands    3332      50    3332       50          0           0           1.50\n",
      "                                   Ladakh    3036      35    3036       35          0           0           1.15\n",
      "                                Meghalaya    3005      16    3005       16          0           0           0.53\n",
      " Dadra and Nagar Haveli and Daman and Diu    2570       2    2567        2          3           0           0.08\n",
      "                                   Sikkim    1910       5    1910        5          0           0           0.26\n",
      "                                  Mizoram    1114       0    1093        0         21           0           0.00\n",
      "                              Lakshadweep       0       0       0        0          0           0            NaN\n"
     ]
    }
   ],
   "source": [
    "#hide_input\n",
    "print(df_table.to_string(index=False))"
   ]
  },
  {
   "cell_type": "code",
   "execution_count": null,
   "metadata": {
    "papermill": {
     "duration": 0.028111,
     "end_time": "2020-09-07T12:27:52.644554",
     "exception": false,
     "start_time": "2020-09-07T12:27:52.616443",
     "status": "completed"
    },
    "tags": []
   },
   "outputs": [],
   "source": []
  },
  {
   "cell_type": "code",
   "execution_count": null,
   "metadata": {
    "papermill": {
     "duration": 0.028989,
     "end_time": "2020-09-07T12:27:52.700329",
     "exception": false,
     "start_time": "2020-09-07T12:27:52.671340",
     "status": "completed"
    },
    "tags": []
   },
   "outputs": [],
   "source": []
  }
 ],
 "metadata": {
  "kernelspec": {
   "display_name": "Python 3",
   "language": "python",
   "name": "python3"
  },
  "language_info": {
   "codemirror_mode": {
    "name": "ipython",
    "version": 3
   },
   "file_extension": ".py",
   "mimetype": "text/x-python",
   "name": "python",
   "nbconvert_exporter": "python",
   "pygments_lexer": "ipython3",
   "version": "3.6.12"
  },
  "papermill": {
   "duration": 9.720273,
   "end_time": "2020-09-07T12:27:53.137680",
   "environment_variables": {},
   "exception": null,
   "input_path": "latest.ipynb",
   "output_path": "latest.ipynb",
   "parameters": {},
   "start_time": "2020-09-07T12:27:43.417407",
   "version": "2.1.2"
  }
 },
 "nbformat": 4,
 "nbformat_minor": 4
}