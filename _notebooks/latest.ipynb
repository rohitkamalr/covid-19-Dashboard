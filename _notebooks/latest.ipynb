{
 "cells": [
  {
   "cell_type": "markdown",
   "metadata": {
    "papermill": {
     "duration": 0.021917,
     "end_time": "2020-10-08T05:52:50.174333",
     "exception": false,
     "start_time": "2020-10-08T05:52:50.152416",
     "status": "completed"
    },
    "tags": []
   },
   "source": [
    "# Latest COVID-19 India Matplotlib Overview"
   ]
  },
  {
   "cell_type": "code",
   "execution_count": 1,
   "metadata": {
    "execution": {
     "iopub.execute_input": "2020-10-08T05:52:50.214063Z",
     "iopub.status.busy": "2020-10-08T05:52:50.213027Z",
     "iopub.status.idle": "2020-10-08T05:52:50.774459Z",
     "shell.execute_reply": "2020-10-08T05:52:50.773362Z"
    },
    "papermill": {
     "duration": 0.584347,
     "end_time": "2020-10-08T05:52:50.774614",
     "exception": false,
     "start_time": "2020-10-08T05:52:50.190267",
     "status": "completed"
    },
    "tags": []
   },
   "outputs": [],
   "source": [
    "#hide\n",
    "import pandas as pd\n",
    "import numpy as np\n",
    "import requests\n",
    "import json\n",
    "import matplotlib.pyplot as plt\n",
    "import matplotlib.dates as mdates\n",
    "import matplotlib as mpl\n",
    "from IPython.core.display import display,HTML\n",
    "%matplotlib inline\n",
    "from datetime import date"
   ]
  },
  {
   "cell_type": "code",
   "execution_count": 2,
   "metadata": {
    "execution": {
     "iopub.execute_input": "2020-10-08T05:52:50.811201Z",
     "iopub.status.busy": "2020-10-08T05:52:50.810153Z",
     "iopub.status.idle": "2020-10-08T05:52:50.935382Z",
     "shell.execute_reply": "2020-10-08T05:52:50.934847Z"
    },
    "papermill": {
     "duration": 0.145898,
     "end_time": "2020-10-08T05:52:50.935535",
     "exception": false,
     "start_time": "2020-10-08T05:52:50.789637",
     "status": "completed"
    },
    "tags": []
   },
   "outputs": [],
   "source": [
    "#hide\n",
    "df  = pd.read_csv('https://api.covid19india.org/csv/latest/states.csv')\n",
    "df = df[['Date','State','Confirmed','Deceased']]\n",
    "df = df.rename(columns={'Confirmed':'Cases', \"Deceased\":'Deaths'})\n",
    "df_cases = df[[\"Date\",'State','Cases']]\n",
    "df_deaths = df[['Date','State','Deaths']]\n",
    "df_cases1 = df_cases.groupby('Date')\n",
    "df_deaths1= df_deaths.groupby('Date')"
   ]
  },
  {
   "cell_type": "code",
   "execution_count": 3,
   "metadata": {
    "execution": {
     "iopub.execute_input": "2020-10-08T05:52:50.969575Z",
     "iopub.status.busy": "2020-10-08T05:52:50.969099Z",
     "iopub.status.idle": "2020-10-08T05:52:50.986581Z",
     "shell.execute_reply": "2020-10-08T05:52:50.986137Z"
    },
    "papermill": {
     "duration": 0.036676,
     "end_time": "2020-10-08T05:52:50.986701",
     "exception": false,
     "start_time": "2020-10-08T05:52:50.950025",
     "status": "completed"
    },
    "tags": []
   },
   "outputs": [],
   "source": [
    "#hide\n",
    "df_snap = pd.read_csv('data/SnapshotCases-28-July.csv')\n",
    "arr_states = df_snap['states'].unique()\n",
    "arr_dates = df['Date'].unique()\n",
    "df_snap = df_snap.set_index('states')"
   ]
  },
  {
   "cell_type": "code",
   "execution_count": 4,
   "metadata": {
    "execution": {
     "iopub.execute_input": "2020-10-08T05:52:51.022987Z",
     "iopub.status.busy": "2020-10-08T05:52:51.022353Z",
     "iopub.status.idle": "2020-10-08T05:52:51.024644Z",
     "shell.execute_reply": "2020-10-08T05:52:51.025093Z"
    },
    "papermill": {
     "duration": 0.023331,
     "end_time": "2020-10-08T05:52:51.025223",
     "exception": false,
     "start_time": "2020-10-08T05:52:51.001892",
     "status": "completed"
    },
    "tags": []
   },
   "outputs": [
    {
     "data": {
      "text/plain": [
       "array(['Andaman and Nicobar Islands', 'Andhra Pradesh',\n",
       "       'Arunachal Pradesh', 'Assam', 'Bihar', 'Chandigarh',\n",
       "       'Dadra and Nagar Haveli and Daman and Diu', 'Delhi', 'Goa',\n",
       "       'Gujarat', 'Haryana', 'Himachal Pradesh', 'Jammu and Kashmir',\n",
       "       'Jharkhand', 'Karnataka', 'Kerala', 'Lakshadweep',\n",
       "       'Madhya Pradesh', 'Maharashtra', 'Manipur', 'Meghalaya', 'Mizoram',\n",
       "       'Nagaland', 'Odisha', 'Puducherry', 'Punjab', 'Rajasthan',\n",
       "       'Sikkim', 'Tamil Nadu', 'Telangana', 'Tripura', 'Uttar Pradesh',\n",
       "       'West Bengal', 'Chhattisgarh', 'Ladakh', 'Uttarakhand'],\n",
       "      dtype=object)"
      ]
     },
     "execution_count": 4,
     "metadata": {},
     "output_type": "execute_result"
    }
   ],
   "source": [
    "#hide\n",
    "arr_states[-9] = 'Puducherry'\n",
    "arr_states[-10] = 'Odisha'\n",
    "arr_states[6] = 'Dadra and Nagar Haveli and Daman and Diu'\n",
    "arr_states = np.append(arr_states,np.array(['Chhattisgarh','Ladakh','Uttarakhand']))\n",
    "arr_states"
   ]
  },
  {
   "cell_type": "code",
   "execution_count": 5,
   "metadata": {
    "execution": {
     "iopub.execute_input": "2020-10-08T05:52:51.067440Z",
     "iopub.status.busy": "2020-10-08T05:52:51.062399Z",
     "iopub.status.idle": "2020-10-08T05:52:51.071860Z",
     "shell.execute_reply": "2020-10-08T05:52:51.070801Z"
    },
    "papermill": {
     "duration": 0.032528,
     "end_time": "2020-10-08T05:52:51.071987",
     "exception": false,
     "start_time": "2020-10-08T05:52:51.039459",
     "status": "completed"
    },
    "tags": []
   },
   "outputs": [],
   "source": [
    "#hide\n",
    "dates = []\n",
    "for i in arr_dates:\n",
    "    if i>='2020-07-01':\n",
    "        dates.append(i)\n",
    "dict = {'states':dates}\n",
    "for i in arr_states:\n",
    "    dict[i] = [0]*len(dates)\n",
    "dft_cases = pd.DataFrame(dict)\n",
    "dft_deaths = pd.DataFrame(dict)\n"
   ]
  },
  {
   "cell_type": "code",
   "execution_count": 6,
   "metadata": {
    "execution": {
     "iopub.execute_input": "2020-10-08T05:52:51.132056Z",
     "iopub.status.busy": "2020-10-08T05:52:51.106111Z",
     "iopub.status.idle": "2020-10-08T05:52:52.423429Z",
     "shell.execute_reply": "2020-10-08T05:52:52.422752Z"
    },
    "papermill": {
     "duration": 1.337172,
     "end_time": "2020-10-08T05:52:52.423610",
     "exception": false,
     "start_time": "2020-10-08T05:52:51.086438",
     "status": "completed"
    },
    "tags": []
   },
   "outputs": [],
   "source": [
    "#hide\n",
    "for i in range(len(dates)):\n",
    "    df1_deaths = df_deaths1.get_group(dates[i])\n",
    "    for j in range(len(df1_deaths.index)):\n",
    "        if df1_deaths.iloc[j,1] in arr_states:\n",
    "            dft_deaths.loc[i,df1_deaths.iloc[j,1]] = df1_deaths.iloc[j,2]\n",
    "dft_deaths = dft_deaths.set_index('states')"
   ]
  },
  {
   "cell_type": "code",
   "execution_count": 7,
   "metadata": {
    "execution": {
     "iopub.execute_input": "2020-10-08T05:52:52.463160Z",
     "iopub.status.busy": "2020-10-08T05:52:52.462585Z",
     "iopub.status.idle": "2020-10-08T05:52:53.738410Z",
     "shell.execute_reply": "2020-10-08T05:52:53.737925Z"
    },
    "papermill": {
     "duration": 1.297865,
     "end_time": "2020-10-08T05:52:53.738545",
     "exception": false,
     "start_time": "2020-10-08T05:52:52.440680",
     "status": "completed"
    },
    "tags": []
   },
   "outputs": [],
   "source": [
    "#hide\n",
    "for i in range(len(dates)):\n",
    "    df1_cases = df_cases1.get_group(dates[i])\n",
    "    for j in range(len(df1_cases.index)):\n",
    "        if df1_cases.iloc[j,1] in arr_states:\n",
    "            dft_cases.loc[i,df1_cases.iloc[j,1]] = df1_cases.iloc[j,2]\n",
    "dft_cases = dft_cases.set_index('states')"
   ]
  },
  {
   "cell_type": "code",
   "execution_count": 8,
   "metadata": {
    "execution": {
     "iopub.execute_input": "2020-10-08T05:52:53.776286Z",
     "iopub.status.busy": "2020-10-08T05:52:53.775720Z",
     "iopub.status.idle": "2020-10-08T05:52:53.777970Z",
     "shell.execute_reply": "2020-10-08T05:52:53.778432Z"
    },
    "papermill": {
     "duration": 0.024284,
     "end_time": "2020-10-08T05:52:53.778580",
     "exception": false,
     "start_time": "2020-10-08T05:52:53.754296",
     "status": "completed"
    },
    "tags": []
   },
   "outputs": [],
   "source": [
    "#hide\n",
    "dft_cases = dft_cases.T\n",
    "dft_deaths = dft_deaths.T\n",
    "dt_today = dates[-1]\n",
    "dt_yday = dates[-2]"
   ]
  },
  {
   "cell_type": "code",
   "execution_count": 9,
   "metadata": {
    "execution": {
     "iopub.execute_input": "2020-10-08T05:52:53.814337Z",
     "iopub.status.busy": "2020-10-08T05:52:53.813873Z",
     "iopub.status.idle": "2020-10-08T05:52:53.815973Z",
     "shell.execute_reply": "2020-10-08T05:52:53.816418Z"
    },
    "papermill": {
     "duration": 0.024135,
     "end_time": "2020-10-08T05:52:53.816530",
     "exception": false,
     "start_time": "2020-10-08T05:52:53.792395",
     "status": "completed"
    },
    "tags": []
   },
   "outputs": [],
   "source": [
    "#hide\n",
    "dft_cases = dft_cases.reset_index()\n",
    "dft_deaths = dft_deaths.reset_index()\n",
    "dft_cases = dft_cases.rename(columns = {'index':'state'})\n",
    "dft_deaths = dft_deaths.rename(columns = {'index':'state'})"
   ]
  },
  {
   "cell_type": "code",
   "execution_count": 10,
   "metadata": {
    "execution": {
     "iopub.execute_input": "2020-10-08T05:52:53.854211Z",
     "iopub.status.busy": "2020-10-08T05:52:53.853658Z",
     "iopub.status.idle": "2020-10-08T05:52:53.856939Z",
     "shell.execute_reply": "2020-10-08T05:52:53.857418Z"
    },
    "papermill": {
     "duration": 0.027452,
     "end_time": "2020-10-08T05:52:53.857552",
     "exception": false,
     "start_time": "2020-10-08T05:52:53.830100",
     "status": "completed"
    },
    "tags": []
   },
   "outputs": [],
   "source": [
    "#hide\n",
    "dfc_cases = dft_cases.groupby('state')[dt_today].sum()\n",
    "dfc_deaths = dft_deaths.groupby('state')[dt_today].sum()\n",
    "dfp_cases = dft_cases.groupby('state')[dt_yday].sum()\n",
    "dfp_deaths = dft_deaths.groupby('state')[dt_yday].sum()"
   ]
  },
  {
   "cell_type": "code",
   "execution_count": 11,
   "metadata": {
    "execution": {
     "iopub.execute_input": "2020-10-08T05:52:53.906966Z",
     "iopub.status.busy": "2020-10-08T05:52:53.906409Z",
     "iopub.status.idle": "2020-10-08T05:52:53.912338Z",
     "shell.execute_reply": "2020-10-08T05:52:53.911899Z"
    },
    "papermill": {
     "duration": 0.037884,
     "end_time": "2020-10-08T05:52:53.912466",
     "exception": false,
     "start_time": "2020-10-08T05:52:53.874582",
     "status": "completed"
    },
    "tags": []
   },
   "outputs": [
    {
     "data": {
      "text/html": [
       "<div>\n",
       "<style scoped>\n",
       "    .dataframe tbody tr th:only-of-type {\n",
       "        vertical-align: middle;\n",
       "    }\n",
       "\n",
       "    .dataframe tbody tr th {\n",
       "        vertical-align: top;\n",
       "    }\n",
       "\n",
       "    .dataframe thead th {\n",
       "        text-align: right;\n",
       "    }\n",
       "</style>\n",
       "<table border=\"1\" class=\"dataframe\">\n",
       "  <thead>\n",
       "    <tr style=\"text-align: right;\">\n",
       "      <th></th>\n",
       "      <th>states</th>\n",
       "      <th>Cases</th>\n",
       "      <th>Deaths</th>\n",
       "      <th>PCases</th>\n",
       "      <th>PDeaths</th>\n",
       "    </tr>\n",
       "  </thead>\n",
       "  <tbody>\n",
       "    <tr>\n",
       "      <th>0</th>\n",
       "      <td>Maharashtra</td>\n",
       "      <td>1480489</td>\n",
       "      <td>39072</td>\n",
       "      <td>1480489</td>\n",
       "      <td>39072</td>\n",
       "    </tr>\n",
       "    <tr>\n",
       "      <th>1</th>\n",
       "      <td>Andhra Pradesh</td>\n",
       "      <td>734427</td>\n",
       "      <td>6086</td>\n",
       "      <td>734427</td>\n",
       "      <td>6086</td>\n",
       "    </tr>\n",
       "    <tr>\n",
       "      <th>2</th>\n",
       "      <td>Karnataka</td>\n",
       "      <td>668652</td>\n",
       "      <td>9574</td>\n",
       "      <td>668652</td>\n",
       "      <td>9574</td>\n",
       "    </tr>\n",
       "    <tr>\n",
       "      <th>3</th>\n",
       "      <td>Tamil Nadu</td>\n",
       "      <td>635855</td>\n",
       "      <td>9984</td>\n",
       "      <td>635855</td>\n",
       "      <td>9984</td>\n",
       "    </tr>\n",
       "    <tr>\n",
       "      <th>4</th>\n",
       "      <td>Uttar Pradesh</td>\n",
       "      <td>424326</td>\n",
       "      <td>6200</td>\n",
       "      <td>424326</td>\n",
       "      <td>6200</td>\n",
       "    </tr>\n",
       "  </tbody>\n",
       "</table>\n",
       "</div>"
      ],
      "text/plain": [
       "           states    Cases  Deaths   PCases  PDeaths\n",
       "0     Maharashtra  1480489   39072  1480489    39072\n",
       "1  Andhra Pradesh   734427    6086   734427     6086\n",
       "2       Karnataka   668652    9574   668652     9574\n",
       "3      Tamil Nadu   635855    9984   635855     9984\n",
       "4   Uttar Pradesh   424326    6200   424326     6200"
      ]
     },
     "execution_count": 11,
     "metadata": {},
     "output_type": "execute_result"
    }
   ],
   "source": [
    "#hide\n",
    "df_table = pd.DataFrame({'states': dfc_cases.index, 'Cases': dfc_cases.values, 'Deaths': dfc_deaths.values, 'PCases': dfp_cases.values, 'PDeaths': dfp_deaths.values}).set_index('states')\n",
    "df_table = df_table.sort_values(by = ['Cases','Deaths'], ascending = [False, False])\n",
    "df_table = df_table.reset_index()\n",
    "df_table.head()"
   ]
  },
  {
   "cell_type": "code",
   "execution_count": 12,
   "metadata": {
    "execution": {
     "iopub.execute_input": "2020-10-08T05:52:53.951937Z",
     "iopub.status.busy": "2020-10-08T05:52:53.951367Z",
     "iopub.status.idle": "2020-10-08T05:52:53.961900Z",
     "shell.execute_reply": "2020-10-08T05:52:53.962388Z"
    },
    "papermill": {
     "duration": 0.034442,
     "end_time": "2020-10-08T05:52:53.962521",
     "exception": false,
     "start_time": "2020-10-08T05:52:53.928079",
     "status": "completed"
    },
    "tags": []
   },
   "outputs": [],
   "source": [
    "#hide\n",
    "for c in 'Cases, Deaths'.split(', '):\n",
    "    df_table[f'{c} (+)'] = (df_table[c] - df_table[f'P{c}']).clip(0)\n",
    "df_table['Fatality Rate'] = (100* df_table['Deaths']/ df_table['Cases']).round(2)"
   ]
  },
  {
   "cell_type": "code",
   "execution_count": 13,
   "metadata": {
    "execution": {
     "iopub.execute_input": "2020-10-08T05:52:54.003811Z",
     "iopub.status.busy": "2020-10-08T05:52:54.003237Z",
     "iopub.status.idle": "2020-10-08T05:52:54.011545Z",
     "shell.execute_reply": "2020-10-08T05:52:54.011960Z"
    },
    "papermill": {
     "duration": 0.032303,
     "end_time": "2020-10-08T05:52:54.012141",
     "exception": false,
     "start_time": "2020-10-08T05:52:53.979838",
     "status": "completed"
    },
    "tags": []
   },
   "outputs": [
    {
     "data": {
      "text/html": [
       "<div>\n",
       "<style scoped>\n",
       "    .dataframe tbody tr th:only-of-type {\n",
       "        vertical-align: middle;\n",
       "    }\n",
       "\n",
       "    .dataframe tbody tr th {\n",
       "        vertical-align: top;\n",
       "    }\n",
       "\n",
       "    .dataframe thead th {\n",
       "        text-align: right;\n",
       "    }\n",
       "</style>\n",
       "<table border=\"1\" class=\"dataframe\">\n",
       "  <thead>\n",
       "    <tr style=\"text-align: right;\">\n",
       "      <th></th>\n",
       "      <th>states</th>\n",
       "      <th>Cases</th>\n",
       "      <th>Deaths</th>\n",
       "      <th>PCases</th>\n",
       "      <th>PDeaths</th>\n",
       "      <th>Cases (+)</th>\n",
       "      <th>Deaths (+)</th>\n",
       "      <th>Fatality Rate</th>\n",
       "    </tr>\n",
       "  </thead>\n",
       "  <tbody>\n",
       "    <tr>\n",
       "      <th>0</th>\n",
       "      <td>Maharashtra</td>\n",
       "      <td>1480489</td>\n",
       "      <td>39072</td>\n",
       "      <td>1480489</td>\n",
       "      <td>39072</td>\n",
       "      <td>0</td>\n",
       "      <td>0</td>\n",
       "      <td>2.64</td>\n",
       "    </tr>\n",
       "    <tr>\n",
       "      <th>1</th>\n",
       "      <td>Andhra Pradesh</td>\n",
       "      <td>734427</td>\n",
       "      <td>6086</td>\n",
       "      <td>734427</td>\n",
       "      <td>6086</td>\n",
       "      <td>0</td>\n",
       "      <td>0</td>\n",
       "      <td>0.83</td>\n",
       "    </tr>\n",
       "    <tr>\n",
       "      <th>2</th>\n",
       "      <td>Karnataka</td>\n",
       "      <td>668652</td>\n",
       "      <td>9574</td>\n",
       "      <td>668652</td>\n",
       "      <td>9574</td>\n",
       "      <td>0</td>\n",
       "      <td>0</td>\n",
       "      <td>1.43</td>\n",
       "    </tr>\n",
       "    <tr>\n",
       "      <th>3</th>\n",
       "      <td>Tamil Nadu</td>\n",
       "      <td>635855</td>\n",
       "      <td>9984</td>\n",
       "      <td>635855</td>\n",
       "      <td>9984</td>\n",
       "      <td>0</td>\n",
       "      <td>0</td>\n",
       "      <td>1.57</td>\n",
       "    </tr>\n",
       "    <tr>\n",
       "      <th>4</th>\n",
       "      <td>Uttar Pradesh</td>\n",
       "      <td>424326</td>\n",
       "      <td>6200</td>\n",
       "      <td>424326</td>\n",
       "      <td>6200</td>\n",
       "      <td>0</td>\n",
       "      <td>0</td>\n",
       "      <td>1.46</td>\n",
       "    </tr>\n",
       "  </tbody>\n",
       "</table>\n",
       "</div>"
      ],
      "text/plain": [
       "           states    Cases  Deaths   PCases  PDeaths  Cases (+)  Deaths (+)  \\\n",
       "0     Maharashtra  1480489   39072  1480489    39072          0           0   \n",
       "1  Andhra Pradesh   734427    6086   734427     6086          0           0   \n",
       "2       Karnataka   668652    9574   668652     9574          0           0   \n",
       "3      Tamil Nadu   635855    9984   635855     9984          0           0   \n",
       "4   Uttar Pradesh   424326    6200   424326     6200          0           0   \n",
       "\n",
       "   Fatality Rate  \n",
       "0           2.64  \n",
       "1           0.83  \n",
       "2           1.43  \n",
       "3           1.57  \n",
       "4           1.46  "
      ]
     },
     "execution_count": 13,
     "metadata": {},
     "output_type": "execute_result"
    }
   ],
   "source": [
    "#hide\n",
    "df_table.head()"
   ]
  },
  {
   "cell_type": "code",
   "execution_count": 14,
   "metadata": {
    "execution": {
     "iopub.execute_input": "2020-10-08T05:52:54.049249Z",
     "iopub.status.busy": "2020-10-08T05:52:54.048692Z",
     "iopub.status.idle": "2020-10-08T05:52:54.066442Z",
     "shell.execute_reply": "2020-10-08T05:52:54.066049Z"
    },
    "papermill": {
     "duration": 0.039516,
     "end_time": "2020-10-08T05:52:54.066548",
     "exception": false,
     "start_time": "2020-10-08T05:52:54.027032",
     "status": "completed"
    },
    "tags": []
   },
   "outputs": [
    {
     "data": {
      "text/plain": [
       "{'updated': '2020-10-08',\n",
       " 'since': '2020-10-07',\n",
       " 'Cases': 6834886,\n",
       " 'PCases': 6832988,\n",
       " 'Deaths': 105566,\n",
       " 'PDeaths': 105554,\n",
       " 'Cases (+)': 1898,\n",
       " 'Deaths (+)': 12}"
      ]
     },
     "execution_count": 14,
     "metadata": {},
     "output_type": "execute_result"
    }
   ],
   "source": [
    "#hide\n",
    "summary = {'updated':dates[-1], 'since':dates[-2]}\n",
    "list_names = ['Cases', 'PCases', 'Deaths', 'PDeaths', 'Cases (+)', 'Deaths (+)']\n",
    "for name in list_names:\n",
    "    summary[name] = df_table.sum()[name]\n",
    "summary"
   ]
  },
  {
   "cell_type": "code",
   "execution_count": 15,
   "metadata": {
    "execution": {
     "iopub.execute_input": "2020-10-08T05:52:54.104141Z",
     "iopub.status.busy": "2020-10-08T05:52:54.103608Z",
     "iopub.status.idle": "2020-10-08T05:52:54.105947Z",
     "shell.execute_reply": "2020-10-08T05:52:54.105503Z"
    },
    "papermill": {
     "duration": 0.024131,
     "end_time": "2020-10-08T05:52:54.106097",
     "exception": false,
     "start_time": "2020-10-08T05:52:54.081966",
     "status": "completed"
    },
    "tags": []
   },
   "outputs": [],
   "source": [
    "#hide\n",
    "overview = '''\n",
    "<!-- #######  HTML!! #########-->\n",
    "<h1 style=\"color: #5e9ca0; text-align: center;\">India</h1>\n",
    "<p style=\"text-align: center;\">Last update: <strong>{update}</strong></p>\n",
    "<p style=\"text-align: center;\">Confirmed cases:</p>\n",
    "<p style=\"text-align: center;font-size:24px;\">{cases} (<span style=\"color: #ff0000;\">+{new}</span>)</p>\n",
    "<p style=\"text-align: center;\">Confirmed deaths:</p>\n",
    "<p style=\"text-align: center;font-size:24px;\">{deaths} (<span style=\"color: #ff0000;\">+{dnew}</span>)</p>\n",
    "'''"
   ]
  },
  {
   "cell_type": "code",
   "execution_count": 16,
   "metadata": {
    "execution": {
     "iopub.execute_input": "2020-10-08T05:52:54.139309Z",
     "iopub.status.busy": "2020-10-08T05:52:54.138714Z",
     "iopub.status.idle": "2020-10-08T05:52:54.142245Z",
     "shell.execute_reply": "2020-10-08T05:52:54.141798Z"
    },
    "papermill": {
     "duration": 0.022688,
     "end_time": "2020-10-08T05:52:54.142353",
     "exception": false,
     "start_time": "2020-10-08T05:52:54.119665",
     "status": "completed"
    },
    "tags": []
   },
   "outputs": [
    {
     "data": {
      "text/html": [
       "\n",
       "<!-- #######  HTML!! #########-->\n",
       "<h1 style=\"color: #5e9ca0; text-align: center;\">India</h1>\n",
       "<p style=\"text-align: center;\">Last update: <strong>2020-10-08</strong></p>\n",
       "<p style=\"text-align: center;\">Confirmed cases:</p>\n",
       "<p style=\"text-align: center;font-size:24px;\">6834886 (<span style=\"color: #ff0000;\">+1898</span>)</p>\n",
       "<p style=\"text-align: center;\">Confirmed deaths:</p>\n",
       "<p style=\"text-align: center;font-size:24px;\">105566 (<span style=\"color: #ff0000;\">+12</span>)</p>\n"
      ],
      "text/plain": [
       "<IPython.core.display.HTML object>"
      ]
     },
     "metadata": {},
     "output_type": "display_data"
    }
   ],
   "source": [
    "#hide_input\n",
    "update = summary['updated']\n",
    "cases = summary['Cases']\n",
    "new = summary['Cases (+)']\n",
    "deaths = summary['Deaths']\n",
    "dnew = summary['Deaths (+)']\n",
    "\n",
    "html = HTML(overview.format(update=update, cases=cases,new=new,deaths=deaths,dnew=dnew))\n",
    "\n",
    "display(html)"
   ]
  },
  {
   "cell_type": "code",
   "execution_count": 17,
   "metadata": {
    "execution": {
     "iopub.execute_input": "2020-10-08T05:52:54.182227Z",
     "iopub.status.busy": "2020-10-08T05:52:54.181701Z",
     "iopub.status.idle": "2020-10-08T05:52:54.187946Z",
     "shell.execute_reply": "2020-10-08T05:52:54.187569Z"
    },
    "papermill": {
     "duration": 0.031247,
     "end_time": "2020-10-08T05:52:54.188031",
     "exception": false,
     "start_time": "2020-10-08T05:52:54.156784",
     "status": "completed"
    },
    "tags": []
   },
   "outputs": [],
   "source": [
    "#hide\n",
    "dt_cols = list(dft_cases.columns[1:])\n",
    "dft_ct_new_cases = dft_cases.groupby('state')[dt_cols].sum().diff(axis=1).fillna(0).astype(int)\n",
    "dft_ct_new_cases.sort_values(by = dates[-1], ascending = False,inplace = True)"
   ]
  },
  {
   "cell_type": "code",
   "execution_count": 18,
   "metadata": {
    "execution": {
     "iopub.execute_input": "2020-10-08T05:52:54.229633Z",
     "iopub.status.busy": "2020-10-08T05:52:54.229058Z",
     "iopub.status.idle": "2020-10-08T05:52:54.240073Z",
     "shell.execute_reply": "2020-10-08T05:52:54.239679Z"
    },
    "papermill": {
     "duration": 0.036813,
     "end_time": "2020-10-08T05:52:54.240196",
     "exception": false,
     "start_time": "2020-10-08T05:52:54.203383",
     "status": "completed"
    },
    "tags": []
   },
   "outputs": [
    {
     "data": {
      "text/html": [
       "<div>\n",
       "<style scoped>\n",
       "    .dataframe tbody tr th:only-of-type {\n",
       "        vertical-align: middle;\n",
       "    }\n",
       "\n",
       "    .dataframe tbody tr th {\n",
       "        vertical-align: top;\n",
       "    }\n",
       "\n",
       "    .dataframe thead th {\n",
       "        text-align: right;\n",
       "    }\n",
       "</style>\n",
       "<table border=\"1\" class=\"dataframe\">\n",
       "  <thead>\n",
       "    <tr style=\"text-align: right;\">\n",
       "      <th>states</th>\n",
       "      <th>2020-07-01</th>\n",
       "      <th>2020-07-02</th>\n",
       "      <th>2020-07-03</th>\n",
       "      <th>2020-07-04</th>\n",
       "      <th>2020-07-05</th>\n",
       "      <th>2020-07-06</th>\n",
       "      <th>2020-07-07</th>\n",
       "      <th>2020-07-08</th>\n",
       "      <th>2020-07-09</th>\n",
       "      <th>2020-07-10</th>\n",
       "      <th>...</th>\n",
       "      <th>2020-09-29</th>\n",
       "      <th>2020-09-30</th>\n",
       "      <th>2020-10-01</th>\n",
       "      <th>2020-10-02</th>\n",
       "      <th>2020-10-03</th>\n",
       "      <th>2020-10-04</th>\n",
       "      <th>2020-10-05</th>\n",
       "      <th>2020-10-06</th>\n",
       "      <th>2020-10-07</th>\n",
       "      <th>2020-10-08</th>\n",
       "    </tr>\n",
       "    <tr>\n",
       "      <th>state</th>\n",
       "      <th></th>\n",
       "      <th></th>\n",
       "      <th></th>\n",
       "      <th></th>\n",
       "      <th></th>\n",
       "      <th></th>\n",
       "      <th></th>\n",
       "      <th></th>\n",
       "      <th></th>\n",
       "      <th></th>\n",
       "      <th></th>\n",
       "      <th></th>\n",
       "      <th></th>\n",
       "      <th></th>\n",
       "      <th></th>\n",
       "      <th></th>\n",
       "      <th></th>\n",
       "      <th></th>\n",
       "      <th></th>\n",
       "      <th></th>\n",
       "      <th></th>\n",
       "    </tr>\n",
       "  </thead>\n",
       "  <tbody>\n",
       "    <tr>\n",
       "      <th>Telangana</th>\n",
       "      <td>0</td>\n",
       "      <td>1213</td>\n",
       "      <td>1892</td>\n",
       "      <td>1850</td>\n",
       "      <td>1590</td>\n",
       "      <td>1831</td>\n",
       "      <td>1879</td>\n",
       "      <td>1924</td>\n",
       "      <td>1410</td>\n",
       "      <td>1278</td>\n",
       "      <td>...</td>\n",
       "      <td>2072</td>\n",
       "      <td>2103</td>\n",
       "      <td>2214</td>\n",
       "      <td>2009</td>\n",
       "      <td>1718</td>\n",
       "      <td>1949</td>\n",
       "      <td>1335</td>\n",
       "      <td>1983</td>\n",
       "      <td>2154</td>\n",
       "      <td>1896</td>\n",
       "    </tr>\n",
       "    <tr>\n",
       "      <th>Mizoram</th>\n",
       "      <td>0</td>\n",
       "      <td>2</td>\n",
       "      <td>0</td>\n",
       "      <td>2</td>\n",
       "      <td>22</td>\n",
       "      <td>11</td>\n",
       "      <td>1</td>\n",
       "      <td>5</td>\n",
       "      <td>0</td>\n",
       "      <td>23</td>\n",
       "      <td>...</td>\n",
       "      <td>50</td>\n",
       "      <td>28</td>\n",
       "      <td>32</td>\n",
       "      <td>31</td>\n",
       "      <td>54</td>\n",
       "      <td>17</td>\n",
       "      <td>0</td>\n",
       "      <td>8</td>\n",
       "      <td>20</td>\n",
       "      <td>2</td>\n",
       "    </tr>\n",
       "    <tr>\n",
       "      <th>Andaman and Nicobar Islands</th>\n",
       "      <td>0</td>\n",
       "      <td>9</td>\n",
       "      <td>7</td>\n",
       "      <td>3</td>\n",
       "      <td>6</td>\n",
       "      <td>16</td>\n",
       "      <td>6</td>\n",
       "      <td>2</td>\n",
       "      <td>7</td>\n",
       "      <td>0</td>\n",
       "      <td>...</td>\n",
       "      <td>18</td>\n",
       "      <td>14</td>\n",
       "      <td>13</td>\n",
       "      <td>10</td>\n",
       "      <td>10</td>\n",
       "      <td>16</td>\n",
       "      <td>15</td>\n",
       "      <td>13</td>\n",
       "      <td>23</td>\n",
       "      <td>0</td>\n",
       "    </tr>\n",
       "    <tr>\n",
       "      <th>Puducherry</th>\n",
       "      <td>0</td>\n",
       "      <td>63</td>\n",
       "      <td>22</td>\n",
       "      <td>80</td>\n",
       "      <td>42</td>\n",
       "      <td>65</td>\n",
       "      <td>30</td>\n",
       "      <td>110</td>\n",
       "      <td>49</td>\n",
       "      <td>72</td>\n",
       "      <td>...</td>\n",
       "      <td>381</td>\n",
       "      <td>478</td>\n",
       "      <td>480</td>\n",
       "      <td>510</td>\n",
       "      <td>218</td>\n",
       "      <td>337</td>\n",
       "      <td>188</td>\n",
       "      <td>405</td>\n",
       "      <td>479</td>\n",
       "      <td>0</td>\n",
       "    </tr>\n",
       "    <tr>\n",
       "      <th>Maharashtra</th>\n",
       "      <td>0</td>\n",
       "      <td>6328</td>\n",
       "      <td>6364</td>\n",
       "      <td>7074</td>\n",
       "      <td>6555</td>\n",
       "      <td>5368</td>\n",
       "      <td>5134</td>\n",
       "      <td>6603</td>\n",
       "      <td>6875</td>\n",
       "      <td>7862</td>\n",
       "      <td>...</td>\n",
       "      <td>14976</td>\n",
       "      <td>18317</td>\n",
       "      <td>16476</td>\n",
       "      <td>15591</td>\n",
       "      <td>14348</td>\n",
       "      <td>12548</td>\n",
       "      <td>10244</td>\n",
       "      <td>12258</td>\n",
       "      <td>14578</td>\n",
       "      <td>0</td>\n",
       "    </tr>\n",
       "  </tbody>\n",
       "</table>\n",
       "<p>5 rows × 100 columns</p>\n",
       "</div>"
      ],
      "text/plain": [
       "states                       2020-07-01  2020-07-02  2020-07-03  2020-07-04  \\\n",
       "state                                                                         \n",
       "Telangana                             0        1213        1892        1850   \n",
       "Mizoram                               0           2           0           2   \n",
       "Andaman and Nicobar Islands           0           9           7           3   \n",
       "Puducherry                            0          63          22          80   \n",
       "Maharashtra                           0        6328        6364        7074   \n",
       "\n",
       "states                       2020-07-05  2020-07-06  2020-07-07  2020-07-08  \\\n",
       "state                                                                         \n",
       "Telangana                          1590        1831        1879        1924   \n",
       "Mizoram                              22          11           1           5   \n",
       "Andaman and Nicobar Islands           6          16           6           2   \n",
       "Puducherry                           42          65          30         110   \n",
       "Maharashtra                        6555        5368        5134        6603   \n",
       "\n",
       "states                       2020-07-09  2020-07-10  ...  2020-09-29  \\\n",
       "state                                                ...               \n",
       "Telangana                          1410        1278  ...        2072   \n",
       "Mizoram                               0          23  ...          50   \n",
       "Andaman and Nicobar Islands           7           0  ...          18   \n",
       "Puducherry                           49          72  ...         381   \n",
       "Maharashtra                        6875        7862  ...       14976   \n",
       "\n",
       "states                       2020-09-30  2020-10-01  2020-10-02  2020-10-03  \\\n",
       "state                                                                         \n",
       "Telangana                          2103        2214        2009        1718   \n",
       "Mizoram                              28          32          31          54   \n",
       "Andaman and Nicobar Islands          14          13          10          10   \n",
       "Puducherry                          478         480         510         218   \n",
       "Maharashtra                       18317       16476       15591       14348   \n",
       "\n",
       "states                       2020-10-04  2020-10-05  2020-10-06  2020-10-07  \\\n",
       "state                                                                         \n",
       "Telangana                          1949        1335        1983        2154   \n",
       "Mizoram                              17           0           8          20   \n",
       "Andaman and Nicobar Islands          16          15          13          23   \n",
       "Puducherry                          337         188         405         479   \n",
       "Maharashtra                       12548       10244       12258       14578   \n",
       "\n",
       "states                       2020-10-08  \n",
       "state                                    \n",
       "Telangana                          1896  \n",
       "Mizoram                               2  \n",
       "Andaman and Nicobar Islands           0  \n",
       "Puducherry                            0  \n",
       "Maharashtra                           0  \n",
       "\n",
       "[5 rows x 100 columns]"
      ]
     },
     "execution_count": 18,
     "metadata": {},
     "output_type": "execute_result"
    }
   ],
   "source": [
    "#hide\n",
    "dft_ct_new_cases.head()"
   ]
  },
  {
   "cell_type": "code",
   "execution_count": 19,
   "metadata": {
    "execution": {
     "iopub.execute_input": "2020-10-08T05:52:54.304668Z",
     "iopub.status.busy": "2020-10-08T05:52:54.288603Z",
     "iopub.status.idle": "2020-10-08T05:52:58.104893Z",
     "shell.execute_reply": "2020-10-08T05:52:58.105373Z"
    },
    "papermill": {
     "duration": 3.847666,
     "end_time": "2020-10-08T05:52:58.105529",
     "exception": false,
     "start_time": "2020-10-08T05:52:54.257863",
     "status": "completed"
    },
    "tags": []
   },
   "outputs": [
    {
     "data": {
      "image/png": "[encoded data removed]",
      "text/plain": [
       "<Figure size 1296x2016 with 11 Axes>"
      ]
     },
     "metadata": {
      "needs_background": "light"
     },
     "output_type": "display_data"
    }
   ],
   "source": [
    "#hide_input\n",
    "df = dft_ct_new_cases.copy()\n",
    "df.loc['Total'] = df.sum()\n",
    "n = 5\n",
    "ax = []\n",
    "fig = plt.figure(figsize = (18,28))\n",
    "gs = fig.add_gridspec(n+2, 5)\n",
    "# gs = fig.add_gridspec(2, 3)\n",
    "ax1 = fig.add_subplot(gs[0, :])\n",
    "ef = df.loc['Total'].rename_axis('date').reset_index()\n",
    "ef['date'] = ef['date'].astype('datetime64[ns]')\n",
    "ax1.bar(ef.date,ef.Total,alpha=0.3,color='#007acc')\n",
    "ax1.plot(ef.date,ef.Total , marker=\"o\", color='#007acc')\n",
    "ax1.xaxis.set_major_locator(mdates.WeekdayLocator())\n",
    "ax1.xaxis.set_major_formatter(mdates.DateFormatter('%b %d'))\n",
    "ax1.text(0.02, 0.5,'India daily case count', transform = ax1.transAxes, fontsize=25);\n",
    "ax1.spines['right'].set_visible(False)\n",
    "ax1.spines['top'].set_visible(False)\n",
    "\n",
    "ax2 = fig.add_subplot(gs[1,0])\n",
    "ef = df.loc['Maharashtra'].rename_axis('date').reset_index()\n",
    "ef['date'] = ef['date'].astype('datetime64[ns]')\n",
    "\n",
    "ax2.bar(ef.date, ef.Maharashtra,color = '#007acc',alpha=0.5)\n",
    "ax2.xaxis.set_major_locator(mdates.WeekdayLocator())\n",
    "ax2.xaxis.set_major_formatter(mdates.DateFormatter('%b %d'))\n",
    "ax2.set_xticks(ax2.get_xticks()[::3])\n",
    "maxyval = ef.Maharashtra.max()\n",
    "ax2.set_ylim([0,maxyval])\n",
    "ax2.text(0.05, 0.9,'Maharashtra', transform = ax2.transAxes, fontsize=20);\n",
    "ax2.spines['right'].set_visible(False)\n",
    "ax2.spines['top'].set_visible(False)\n",
    "\n",
    "\n",
    "ax3 = fig.add_subplot(gs[1,1])\n",
    "ef = df.loc['Tamil Nadu'].rename_axis('date').reset_index()\n",
    "ef['date'] = ef['date'].astype('datetime64[ns]')\n",
    "ax3.bar(ef.date, ef['Tamil Nadu'],color = '#007acc',alpha=0.5,)\n",
    "ax3.xaxis.set_major_locator(mdates.WeekdayLocator())\n",
    "ax3.xaxis.set_major_formatter(mdates.DateFormatter('%b %d'))\n",
    "ax3.set_xticks(ax3.get_xticks()[::3])\n",
    "ax3.text(0.05, 0.9,'Tamil Nadu', transform = ax3.transAxes, fontsize=20);\n",
    "ax3.spines['right'].set_visible(False)\n",
    "ax3.spines['top'].set_visible(False)\n",
    "\n",
    "ax5 = fig.add_subplot(gs[1,3])\n",
    "ef = df.loc['Telangana'].rename_axis('date').reset_index()\n",
    "ef['date'] = ef['date'].astype('datetime64[ns]')\n",
    "ax5.bar(ef.date, ef['Telangana'],color = '#007acc',alpha=0.5,)\n",
    "ax5.xaxis.set_major_locator(mdates.WeekdayLocator())\n",
    "ax5.xaxis.set_major_formatter(mdates.DateFormatter('%b %d'))\n",
    "ax5.set_xticks(ax5.get_xticks()[::3])\n",
    "ax5.text(0.05, 0.9,'Telangana', transform = ax5.transAxes, fontsize=20);\n",
    "ax5.spines['right'].set_visible(False)\n",
    "ax5.spines['top'].set_visible(False)\n",
    "\n",
    "ax6 = fig.add_subplot(gs[1,4])\n",
    "ef = df.loc['Andhra Pradesh'].rename_axis('date').reset_index()\n",
    "ef['date'] = ef['date'].astype('datetime64[ns]')\n",
    "ax6.bar(ef.date, ef['Andhra Pradesh'],color = '#007acc',alpha=0.5,)\n",
    "ax6.xaxis.set_major_locator(mdates.WeekdayLocator())\n",
    "ax6.xaxis.set_major_formatter(mdates.DateFormatter('%b %d'))\n",
    "ax6.set_xticks(ax6.get_xticks()[::3])\n",
    "ax6.text(0.05, 1,'Andhra Pradesh', transform = ax6.transAxes, fontsize=20);\n",
    "ax6.spines['right'].set_visible(False)\n",
    "ax6.spines['top'].set_visible(False)\n",
    "\n",
    "ax4 = fig.add_subplot(gs[1,2])\n",
    "ef = df.loc['Delhi'].rename_axis('date').reset_index()\n",
    "ef['date'] = ef['date'].astype('datetime64[ns]')\n",
    "ax4.bar(ef.date, ef.Delhi,color = '#007acc',alpha=0.5)\n",
    "ax4.set_xticks([])\n",
    "ax4.xaxis.set_major_locator(mdates.WeekdayLocator())\n",
    "ax4.xaxis.set_major_formatter(mdates.DateFormatter('%b %d'))\n",
    "ax4.set_xticks(ax4.get_xticks()[::3])\n",
    "ax4.spines['right'].set_visible(False)\n",
    "ax4.spines['top'].set_visible(False)\n",
    "\n",
    "ax4.text(0.05, 1,'Delhi', transform = ax4.transAxes, fontsize=20)\n",
    "\n",
    "for i in range(n):\n",
    "    \n",
    "    ax.append(fig.add_subplot(gs[i+2,:]))\n",
    "    ef = df.iloc[i+3].rename_axis('date').reset_index()\n",
    "    ef['date'] = ef['date'].astype('datetime64[ns]')\n",
    "    ax[i].bar(ef.date,ef.iloc[:,-1],color = '#007acc',alpha=0.3)\n",
    "    ax[i].plot(ef.date,ef.iloc[:,-1],marker='o',color='#007acc')\n",
    "    ax[i].text(0.02,0.5,f'{ef.columns.values[-1]}',transform = ax[i].transAxes, fontsize = 20);\n",
    "    ax[i].xaxis.set_major_locator(mdates.WeekdayLocator())\n",
    "    ax[i].xaxis.set_major_formatter(mdates.DateFormatter('%b %d'))\n",
    "    ax[i].set_ylim([0,7000])\n",
    "    ax[i].spines['right'].set_visible(False)\n",
    "    ax[i].spines['top'].set_visible(False)\n",
    "plt.tight_layout()\n"
   ]
  },
  {
   "cell_type": "code",
   "execution_count": 20,
   "metadata": {
    "execution": {
     "iopub.execute_input": "2020-10-08T05:52:58.162421Z",
     "iopub.status.busy": "2020-10-08T05:52:58.161819Z",
     "iopub.status.idle": "2020-10-08T05:52:58.163909Z",
     "shell.execute_reply": "2020-10-08T05:52:58.164456Z"
    },
    "papermill": {
     "duration": 0.035425,
     "end_time": "2020-10-08T05:52:58.164618",
     "exception": false,
     "start_time": "2020-10-08T05:52:58.129193",
     "status": "completed"
    },
    "tags": []
   },
   "outputs": [
    {
     "name": "stdout",
     "output_type": "stream",
     "text": [
      "                                   states    Cases  Deaths   PCases  PDeaths  Cases (+)  Deaths (+)  Fatality Rate\n",
      "                              Maharashtra  1480489   39072  1480489    39072          0           0           2.64\n",
      "                           Andhra Pradesh   734427    6086   734427     6086          0           0           0.83\n",
      "                                Karnataka   668652    9574   668652     9574          0           0           1.43\n",
      "                               Tamil Nadu   635855    9984   635855     9984          0           0           1.57\n",
      "                            Uttar Pradesh   424326    6200   424326     6200          0           0           1.46\n",
      "                                    Delhi   298107    5616   298107     5616          0           0           1.88\n",
      "                              West Bengal   280504    5376   280504     5376          0           0           1.92\n",
      "                                   Kerala   253406     907   253406      907          0           0           0.36\n",
      "                                   Odisha   240998    1011   240998     1011          0           0           0.42\n",
      "                                Telangana   206644    1201   204748     1189       1896          12           0.58\n",
      "                                    Bihar   191427     927   191427      927          0           0           0.48\n",
      "                                    Assam   190209     785   190209      785          0           0           0.41\n",
      "                                Rajasthan   150467    1590   150467     1590          0           0           1.06\n",
      "                                  Gujarat   146672    3531   146672     3531          0           0           2.41\n",
      "                           Madhya Pradesh   140307    2518   140307     2518          0           0           1.79\n",
      "                                  Haryana   137398    1528   137398     1528          0           0           1.11\n",
      "                             Chhattisgarh   131739    1134   131739     1134          0           0           0.86\n",
      "                                   Punjab   120868    3712   120868     3712          0           0           3.07\n",
      "                                Jharkhand    89702     767    89702      767          0           0           0.86\n",
      "                        Jammu and Kashmir    81097    1282    81097     1282          0           0           1.58\n",
      "                              Uttarakhand    52959     688    52959      688          0           0           1.30\n",
      "                                      Goa    36670     477    36670      477          0           0           1.30\n",
      "                               Puducherry    30161     551    30161      551          0           0           1.83\n",
      "                                  Tripura    27542     298    27542      298          0           0           1.08\n",
      "                         Himachal Pradesh    16565     226    16565      226          0           0           1.36\n",
      "                               Chandigarh    12820     182    12820      182          0           0           1.42\n",
      "                                  Manipur    12489      80    12489       80          0           0           0.64\n",
      "                        Arunachal Pradesh    11267      21    11267       21          0           0           0.19\n",
      "                                Meghalaya     7165      60     7165       60          0           0           0.84\n",
      "                                 Nagaland     6715      12     6715       12          0           0           0.18\n",
      "                                   Ladakh     4802      63     4802       63          0           0           1.31\n",
      "              Andaman and Nicobar Islands     3935      54     3935       54          0           0           1.37\n",
      "                                   Sikkim     3234      51     3234       51          0           0           1.58\n",
      " Dadra and Nagar Haveli and Daman and Diu     3118       2     3118        2          0           0           0.06\n",
      "                                  Mizoram     2150       0     2148        0          2           0           0.00\n",
      "                              Lakshadweep        0       0        0        0          0           0            NaN\n"
     ]
    }
   ],
   "source": [
    "#hide_input\n",
    "print(df_table.to_string(index=False))"
   ]
  },
  {
   "cell_type": "code",
   "execution_count": null,
   "metadata": {
    "papermill": {
     "duration": 0.023253,
     "end_time": "2020-10-08T05:52:58.211406",
     "exception": false,
     "start_time": "2020-10-08T05:52:58.188153",
     "status": "completed"
    },
    "tags": []
   },
   "outputs": [],
   "source": []
  },
  {
   "cell_type": "code",
   "execution_count": null,
   "metadata": {
    "papermill": {
     "duration": 0.022778,
     "end_time": "2020-10-08T05:52:58.257226",
     "exception": false,
     "start_time": "2020-10-08T05:52:58.234448",
     "status": "completed"
    },
    "tags": []
   },
   "outputs": [],
   "source": []
  }
 ],
 "metadata": {
  "kernelspec": {
   "display_name": "Python 3",
   "language": "python",
   "name": "python3"
  },
  "language_info": {
   "codemirror_mode": {
    "name": "ipython",
    "version": 3
   },
   "file_extension": ".py",
   "mimetype": "text/x-python",
   "name": "python",
   "nbconvert_exporter": "python",
   "pygments_lexer": "ipython3",
   "version": "3.6.12"
  },
  "papermill": {
   "duration": 9.665967,
   "end_time": "2020-10-08T05:52:58.687912",
   "environment_variables": {},
   "exception": null,
   "input_path": "latest.ipynb",
   "output_path": "latest.ipynb",
   "parameters": {},
   "start_time": "2020-10-08T05:52:49.021945",
   "version": "2.1.2"
  }
 },
 "nbformat": 4,
 "nbformat_minor": 4
}