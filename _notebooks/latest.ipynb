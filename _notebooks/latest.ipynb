{
 "cells": [
  {
   "cell_type": "markdown",
   "id": "colored-stack",
   "metadata": {
    "papermill": {
     "duration": 0.022256,
     "end_time": "2021-02-08T14:24:11.746914",
     "exception": false,
     "start_time": "2021-02-08T14:24:11.724658",
     "status": "completed"
    },
    "tags": []
   },
   "source": [
    "# Latest COVID-19 India Matplotlib Overview"
   ]
  },
  {
   "cell_type": "code",
   "execution_count": 1,
   "id": "light-proportion",
   "metadata": {
    "execution": {
     "iopub.execute_input": "2021-02-08T14:24:11.789641Z",
     "iopub.status.busy": "2021-02-08T14:24:11.787834Z",
     "iopub.status.idle": "2021-02-08T14:24:12.269864Z",
     "shell.execute_reply": "2021-02-08T14:24:12.268887Z"
    },
    "papermill": {
     "duration": 0.509102,
     "end_time": "2021-02-08T14:24:12.270012",
     "exception": false,
     "start_time": "2021-02-08T14:24:11.760910",
     "status": "completed"
    },
    "tags": []
   },
   "outputs": [],
   "source": [
    "#hide\n",
    "import pandas as pd\n",
    "import numpy as np\n",
    "import requests\n",
    "import json\n",
    "import matplotlib.pyplot as plt\n",
    "import matplotlib.dates as mdates\n",
    "import matplotlib as mpl\n",
    "from IPython.core.display import display,HTML\n",
    "%matplotlib inline\n",
    "from datetime import date"
   ]
  },
  {
   "cell_type": "code",
   "execution_count": 2,
   "id": "greenhouse-shooting",
   "metadata": {
    "execution": {
     "iopub.execute_input": "2021-02-08T14:24:12.306075Z",
     "iopub.status.busy": "2021-02-08T14:24:12.305165Z",
     "iopub.status.idle": "2021-02-08T14:24:12.588307Z",
     "shell.execute_reply": "2021-02-08T14:24:12.587354Z"
    },
    "papermill": {
     "duration": 0.30472,
     "end_time": "2021-02-08T14:24:12.588462",
     "exception": false,
     "start_time": "2021-02-08T14:24:12.283742",
     "status": "completed"
    },
    "tags": []
   },
   "outputs": [],
   "source": [
    "#hide\n",
    "df  = pd.read_csv('https://api.covid19india.org/csv/latest/states.csv')\n",
    "df = df[['Date','State','Confirmed','Deceased']]\n",
    "df = df.rename(columns={'Confirmed':'Cases', \"Deceased\":'Deaths'})\n",
    "df_cases = df[[\"Date\",'State','Cases']]\n",
    "df_deaths = df[['Date','State','Deaths']]\n",
    "df_cases1 = df_cases.groupby('Date')\n",
    "df_deaths1= df_deaths.groupby('Date')"
   ]
  },
  {
   "cell_type": "code",
   "execution_count": 3,
   "id": "hybrid-cathedral",
   "metadata": {
    "execution": {
     "iopub.execute_input": "2021-02-08T14:24:12.625697Z",
     "iopub.status.busy": "2021-02-08T14:24:12.625213Z",
     "iopub.status.idle": "2021-02-08T14:24:12.642547Z",
     "shell.execute_reply": "2021-02-08T14:24:12.642044Z"
    },
    "papermill": {
     "duration": 0.037808,
     "end_time": "2021-02-08T14:24:12.642673",
     "exception": false,
     "start_time": "2021-02-08T14:24:12.604865",
     "status": "completed"
    },
    "tags": []
   },
   "outputs": [],
   "source": [
    "#hide\n",
    "df_snap = pd.read_csv('data/SnapshotCases-28-July.csv')\n",
    "arr_states = df_snap['states'].unique()\n",
    "arr_dates = df['Date'].unique()\n",
    "df_snap = df_snap.set_index('states')"
   ]
  },
  {
   "cell_type": "code",
   "execution_count": 4,
   "id": "interior-belfast",
   "metadata": {
    "execution": {
     "iopub.execute_input": "2021-02-08T14:24:12.676917Z",
     "iopub.status.busy": "2021-02-08T14:24:12.676439Z",
     "iopub.status.idle": "2021-02-08T14:24:12.678298Z",
     "shell.execute_reply": "2021-02-08T14:24:12.678740Z"
    },
    "papermill": {
     "duration": 0.021897,
     "end_time": "2021-02-08T14:24:12.678852",
     "exception": false,
     "start_time": "2021-02-08T14:24:12.656955",
     "status": "completed"
    },
    "tags": []
   },
   "outputs": [
    {
     "data": {
      "text/plain": [
       "array(['Andaman and Nicobar Islands', 'Andhra Pradesh',\n",
       "       'Arunachal Pradesh', 'Assam', 'Bihar', 'Chandigarh',\n",
       "       'Dadra and Nagar Haveli and Daman and Diu', 'Delhi', 'Goa',\n",
       "       'Gujarat', 'Haryana', 'Himachal Pradesh', 'Jammu and Kashmir',\n",
       "       'Jharkhand', 'Karnataka', 'Kerala', 'Lakshadweep',\n",
       "       'Madhya Pradesh', 'Maharashtra', 'Manipur', 'Meghalaya', 'Mizoram',\n",
       "       'Nagaland', 'Odisha', 'Puducherry', 'Punjab', 'Rajasthan',\n",
       "       'Sikkim', 'Tamil Nadu', 'Telangana', 'Tripura', 'Uttar Pradesh',\n",
       "       'West Bengal', 'Chhattisgarh', 'Ladakh', 'Uttarakhand'],\n",
       "      dtype=object)"
      ]
     },
     "execution_count": 4,
     "metadata": {},
     "output_type": "execute_result"
    }
   ],
   "source": [
    "#hide\n",
    "arr_states[-9] = 'Puducherry'\n",
    "arr_states[-10] = 'Odisha'\n",
    "arr_states[6] = 'Dadra and Nagar Haveli and Daman and Diu'\n",
    "arr_states = np.append(arr_states,np.array(['Chhattisgarh','Ladakh','Uttarakhand']))\n",
    "arr_states"
   ]
  },
  {
   "cell_type": "code",
   "execution_count": 5,
   "id": "behind-manner",
   "metadata": {
    "execution": {
     "iopub.execute_input": "2021-02-08T14:24:12.719524Z",
     "iopub.status.busy": "2021-02-08T14:24:12.719068Z",
     "iopub.status.idle": "2021-02-08T14:24:12.726343Z",
     "shell.execute_reply": "2021-02-08T14:24:12.725936Z"
    },
    "papermill": {
     "duration": 0.033083,
     "end_time": "2021-02-08T14:24:12.726427",
     "exception": false,
     "start_time": "2021-02-08T14:24:12.693344",
     "status": "completed"
    },
    "tags": []
   },
   "outputs": [],
   "source": [
    "#hide\n",
    "dates = []\n",
    "for i in arr_dates:\n",
    "    if i>='2020-07-01':\n",
    "        dates.append(i)\n",
    "dict = {'states':dates}\n",
    "for i in arr_states:\n",
    "    dict[i] = [0]*len(dates)\n",
    "dft_cases = pd.DataFrame(dict)\n",
    "dft_deaths = pd.DataFrame(dict)\n"
   ]
  },
  {
   "cell_type": "code",
   "execution_count": 6,
   "id": "simplified-peter",
   "metadata": {
    "execution": {
     "iopub.execute_input": "2021-02-08T14:24:12.758962Z",
     "iopub.status.busy": "2021-02-08T14:24:12.758429Z",
     "iopub.status.idle": "2021-02-08T14:24:15.344083Z",
     "shell.execute_reply": "2021-02-08T14:24:15.343218Z"
    },
    "papermill": {
     "duration": 2.604737,
     "end_time": "2021-02-08T14:24:15.344306",
     "exception": false,
     "start_time": "2021-02-08T14:24:12.739569",
     "status": "completed"
    },
    "tags": []
   },
   "outputs": [],
   "source": [
    "#hide\n",
    "for i in range(len(dates)):\n",
    "    df1_deaths = df_deaths1.get_group(dates[i])\n",
    "    for j in range(len(df1_deaths.index)):\n",
    "        if df1_deaths.iloc[j,1] in arr_states:\n",
    "            dft_deaths.loc[i,df1_deaths.iloc[j,1]] = df1_deaths.iloc[j,2]\n",
    "dft_deaths = dft_deaths.set_index('states')"
   ]
  },
  {
   "cell_type": "code",
   "execution_count": 7,
   "id": "geological-welding",
   "metadata": {
    "execution": {
     "iopub.execute_input": "2021-02-08T14:24:15.382002Z",
     "iopub.status.busy": "2021-02-08T14:24:15.381464Z",
     "iopub.status.idle": "2021-02-08T14:24:17.894320Z",
     "shell.execute_reply": "2021-02-08T14:24:17.893446Z"
    },
    "papermill": {
     "duration": 2.53338,
     "end_time": "2021-02-08T14:24:17.894454",
     "exception": false,
     "start_time": "2021-02-08T14:24:15.361074",
     "status": "completed"
    },
    "tags": []
   },
   "outputs": [],
   "source": [
    "#hide\n",
    "for i in range(len(dates)):\n",
    "    df1_cases = df_cases1.get_group(dates[i])\n",
    "    for j in range(len(df1_cases.index)):\n",
    "        if df1_cases.iloc[j,1] in arr_states:\n",
    "            dft_cases.loc[i,df1_cases.iloc[j,1]] = df1_cases.iloc[j,2]\n",
    "dft_cases = dft_cases.set_index('states')"
   ]
  },
  {
   "cell_type": "code",
   "execution_count": 8,
   "id": "binary-ratio",
   "metadata": {
    "execution": {
     "iopub.execute_input": "2021-02-08T14:24:17.926458Z",
     "iopub.status.busy": "2021-02-08T14:24:17.925159Z",
     "iopub.status.idle": "2021-02-08T14:24:17.927149Z",
     "shell.execute_reply": "2021-02-08T14:24:17.927672Z"
    },
    "papermill": {
     "duration": 0.02008,
     "end_time": "2021-02-08T14:24:17.927808",
     "exception": false,
     "start_time": "2021-02-08T14:24:17.907728",
     "status": "completed"
    },
    "tags": []
   },
   "outputs": [],
   "source": [
    "#hide\n",
    "dft_cases = dft_cases.T\n",
    "dft_deaths = dft_deaths.T\n",
    "dt_today = dates[-1]\n",
    "dt_yday = dates[-2]"
   ]
  },
  {
   "cell_type": "code",
   "execution_count": 9,
   "id": "boolean-calculator",
   "metadata": {
    "execution": {
     "iopub.execute_input": "2021-02-08T14:24:17.964210Z",
     "iopub.status.busy": "2021-02-08T14:24:17.963274Z",
     "iopub.status.idle": "2021-02-08T14:24:17.969563Z",
     "shell.execute_reply": "2021-02-08T14:24:17.969158Z"
    },
    "papermill": {
     "duration": 0.027113,
     "end_time": "2021-02-08T14:24:17.969661",
     "exception": false,
     "start_time": "2021-02-08T14:24:17.942548",
     "status": "completed"
    },
    "tags": []
   },
   "outputs": [],
   "source": [
    "#hide\n",
    "dft_cases = dft_cases.reset_index()\n",
    "dft_deaths = dft_deaths.reset_index()\n",
    "dft_cases = dft_cases.rename(columns = {'index':'state'})\n",
    "dft_deaths = dft_deaths.rename(columns = {'index':'state'})"
   ]
  },
  {
   "cell_type": "code",
   "execution_count": 10,
   "id": "invisible-johnston",
   "metadata": {
    "execution": {
     "iopub.execute_input": "2021-02-08T14:24:18.010423Z",
     "iopub.status.busy": "2021-02-08T14:24:18.009841Z",
     "iopub.status.idle": "2021-02-08T14:24:18.011998Z",
     "shell.execute_reply": "2021-02-08T14:24:18.011510Z"
    },
    "papermill": {
     "duration": 0.02808,
     "end_time": "2021-02-08T14:24:18.012110",
     "exception": false,
     "start_time": "2021-02-08T14:24:17.984030",
     "status": "completed"
    },
    "tags": []
   },
   "outputs": [],
   "source": [
    "#hide\n",
    "dfc_cases = dft_cases.groupby('state')[dt_today].sum()\n",
    "dfc_deaths = dft_deaths.groupby('state')[dt_today].sum()\n",
    "dfp_cases = dft_cases.groupby('state')[dt_yday].sum()\n",
    "dfp_deaths = dft_deaths.groupby('state')[dt_yday].sum()"
   ]
  },
  {
   "cell_type": "code",
   "execution_count": 11,
   "id": "measured-great",
   "metadata": {
    "execution": {
     "iopub.execute_input": "2021-02-08T14:24:18.045265Z",
     "iopub.status.busy": "2021-02-08T14:24:18.044783Z",
     "iopub.status.idle": "2021-02-08T14:24:18.056202Z",
     "shell.execute_reply": "2021-02-08T14:24:18.055767Z"
    },
    "papermill": {
     "duration": 0.030393,
     "end_time": "2021-02-08T14:24:18.056320",
     "exception": false,
     "start_time": "2021-02-08T14:24:18.025927",
     "status": "completed"
    },
    "tags": []
   },
   "outputs": [
    {
     "data": {
      "text/html": [
       "<div>\n",
       "<style scoped>\n",
       "    .dataframe tbody tr th:only-of-type {\n",
       "        vertical-align: middle;\n",
       "    }\n",
       "\n",
       "    .dataframe tbody tr th {\n",
       "        vertical-align: top;\n",
       "    }\n",
       "\n",
       "    .dataframe thead th {\n",
       "        text-align: right;\n",
       "    }\n",
       "</style>\n",
       "<table border=\"1\" class=\"dataframe\">\n",
       "  <thead>\n",
       "    <tr style=\"text-align: right;\">\n",
       "      <th></th>\n",
       "      <th>states</th>\n",
       "      <th>Cases</th>\n",
       "      <th>Deaths</th>\n",
       "      <th>PCases</th>\n",
       "      <th>PDeaths</th>\n",
       "    </tr>\n",
       "  </thead>\n",
       "  <tbody>\n",
       "    <tr>\n",
       "      <th>0</th>\n",
       "      <td>Maharashtra</td>\n",
       "      <td>2044071</td>\n",
       "      <td>51310</td>\n",
       "      <td>2044071</td>\n",
       "      <td>51310</td>\n",
       "    </tr>\n",
       "    <tr>\n",
       "      <th>1</th>\n",
       "      <td>Kerala</td>\n",
       "      <td>972181</td>\n",
       "      <td>3884</td>\n",
       "      <td>968439</td>\n",
       "      <td>3868</td>\n",
       "    </tr>\n",
       "    <tr>\n",
       "      <th>2</th>\n",
       "      <td>Karnataka</td>\n",
       "      <td>942518</td>\n",
       "      <td>12236</td>\n",
       "      <td>942518</td>\n",
       "      <td>12236</td>\n",
       "    </tr>\n",
       "    <tr>\n",
       "      <th>3</th>\n",
       "      <td>Andhra Pradesh</td>\n",
       "      <td>888423</td>\n",
       "      <td>7159</td>\n",
       "      <td>888423</td>\n",
       "      <td>7159</td>\n",
       "    </tr>\n",
       "    <tr>\n",
       "      <th>4</th>\n",
       "      <td>Tamil Nadu</td>\n",
       "      <td>841797</td>\n",
       "      <td>12383</td>\n",
       "      <td>841797</td>\n",
       "      <td>12383</td>\n",
       "    </tr>\n",
       "  </tbody>\n",
       "</table>\n",
       "</div>"
      ],
      "text/plain": [
       "           states    Cases  Deaths   PCases  PDeaths\n",
       "0     Maharashtra  2044071   51310  2044071    51310\n",
       "1          Kerala   972181    3884   968439     3868\n",
       "2       Karnataka   942518   12236   942518    12236\n",
       "3  Andhra Pradesh   888423    7159   888423     7159\n",
       "4      Tamil Nadu   841797   12383   841797    12383"
      ]
     },
     "execution_count": 11,
     "metadata": {},
     "output_type": "execute_result"
    }
   ],
   "source": [
    "#hide\n",
    "df_table = pd.DataFrame({'states': dfc_cases.index, 'Cases': dfc_cases.values, 'Deaths': dfc_deaths.values, 'PCases': dfp_cases.values, 'PDeaths': dfp_deaths.values}).set_index('states')\n",
    "df_table = df_table.sort_values(by = ['Cases','Deaths'], ascending = [False, False])\n",
    "df_table = df_table.reset_index()\n",
    "df_table.head()"
   ]
  },
  {
   "cell_type": "code",
   "execution_count": 12,
   "id": "found-montreal",
   "metadata": {
    "execution": {
     "iopub.execute_input": "2021-02-08T14:24:18.087781Z",
     "iopub.status.busy": "2021-02-08T14:24:18.087170Z",
     "iopub.status.idle": "2021-02-08T14:24:18.094395Z",
     "shell.execute_reply": "2021-02-08T14:24:18.093941Z"
    },
    "papermill": {
     "duration": 0.024807,
     "end_time": "2021-02-08T14:24:18.094501",
     "exception": false,
     "start_time": "2021-02-08T14:24:18.069694",
     "status": "completed"
    },
    "tags": []
   },
   "outputs": [],
   "source": [
    "#hide\n",
    "for c in 'Cases, Deaths'.split(', '):\n",
    "    df_table[f'{c} (+)'] = (df_table[c] - df_table[f'P{c}']).clip(0)\n",
    "df_table['Fatality Rate'] = (100* df_table['Deaths']/ df_table['Cases']).round(2)"
   ]
  },
  {
   "cell_type": "code",
   "execution_count": 13,
   "id": "minus-savage",
   "metadata": {
    "execution": {
     "iopub.execute_input": "2021-02-08T14:24:18.126563Z",
     "iopub.status.busy": "2021-02-08T14:24:18.126098Z",
     "iopub.status.idle": "2021-02-08T14:24:18.135818Z",
     "shell.execute_reply": "2021-02-08T14:24:18.135391Z"
    },
    "papermill": {
     "duration": 0.027803,
     "end_time": "2021-02-08T14:24:18.135915",
     "exception": false,
     "start_time": "2021-02-08T14:24:18.108112",
     "status": "completed"
    },
    "tags": []
   },
   "outputs": [
    {
     "data": {
      "text/html": [
       "<div>\n",
       "<style scoped>\n",
       "    .dataframe tbody tr th:only-of-type {\n",
       "        vertical-align: middle;\n",
       "    }\n",
       "\n",
       "    .dataframe tbody tr th {\n",
       "        vertical-align: top;\n",
       "    }\n",
       "\n",
       "    .dataframe thead th {\n",
       "        text-align: right;\n",
       "    }\n",
       "</style>\n",
       "<table border=\"1\" class=\"dataframe\">\n",
       "  <thead>\n",
       "    <tr style=\"text-align: right;\">\n",
       "      <th></th>\n",
       "      <th>states</th>\n",
       "      <th>Cases</th>\n",
       "      <th>Deaths</th>\n",
       "      <th>PCases</th>\n",
       "      <th>PDeaths</th>\n",
       "      <th>Cases (+)</th>\n",
       "      <th>Deaths (+)</th>\n",
       "      <th>Fatality Rate</th>\n",
       "    </tr>\n",
       "  </thead>\n",
       "  <tbody>\n",
       "    <tr>\n",
       "      <th>0</th>\n",
       "      <td>Maharashtra</td>\n",
       "      <td>2044071</td>\n",
       "      <td>51310</td>\n",
       "      <td>2044071</td>\n",
       "      <td>51310</td>\n",
       "      <td>0</td>\n",
       "      <td>0</td>\n",
       "      <td>2.51</td>\n",
       "    </tr>\n",
       "    <tr>\n",
       "      <th>1</th>\n",
       "      <td>Kerala</td>\n",
       "      <td>972181</td>\n",
       "      <td>3884</td>\n",
       "      <td>968439</td>\n",
       "      <td>3868</td>\n",
       "      <td>3742</td>\n",
       "      <td>16</td>\n",
       "      <td>0.40</td>\n",
       "    </tr>\n",
       "    <tr>\n",
       "      <th>2</th>\n",
       "      <td>Karnataka</td>\n",
       "      <td>942518</td>\n",
       "      <td>12236</td>\n",
       "      <td>942518</td>\n",
       "      <td>12236</td>\n",
       "      <td>0</td>\n",
       "      <td>0</td>\n",
       "      <td>1.30</td>\n",
       "    </tr>\n",
       "    <tr>\n",
       "      <th>3</th>\n",
       "      <td>Andhra Pradesh</td>\n",
       "      <td>888423</td>\n",
       "      <td>7159</td>\n",
       "      <td>888423</td>\n",
       "      <td>7159</td>\n",
       "      <td>0</td>\n",
       "      <td>0</td>\n",
       "      <td>0.81</td>\n",
       "    </tr>\n",
       "    <tr>\n",
       "      <th>4</th>\n",
       "      <td>Tamil Nadu</td>\n",
       "      <td>841797</td>\n",
       "      <td>12383</td>\n",
       "      <td>841797</td>\n",
       "      <td>12383</td>\n",
       "      <td>0</td>\n",
       "      <td>0</td>\n",
       "      <td>1.47</td>\n",
       "    </tr>\n",
       "  </tbody>\n",
       "</table>\n",
       "</div>"
      ],
      "text/plain": [
       "           states    Cases  Deaths   PCases  PDeaths  Cases (+)  Deaths (+)  \\\n",
       "0     Maharashtra  2044071   51310  2044071    51310          0           0   \n",
       "1          Kerala   972181    3884   968439     3868       3742          16   \n",
       "2       Karnataka   942518   12236   942518    12236          0           0   \n",
       "3  Andhra Pradesh   888423    7159   888423     7159          0           0   \n",
       "4      Tamil Nadu   841797   12383   841797    12383          0           0   \n",
       "\n",
       "   Fatality Rate  \n",
       "0           2.51  \n",
       "1           0.40  \n",
       "2           1.30  \n",
       "3           0.81  \n",
       "4           1.47  "
      ]
     },
     "execution_count": 13,
     "metadata": {},
     "output_type": "execute_result"
    }
   ],
   "source": [
    "#hide\n",
    "df_table.head()"
   ]
  },
  {
   "cell_type": "code",
   "execution_count": 14,
   "id": "false-peter",
   "metadata": {
    "execution": {
     "iopub.execute_input": "2021-02-08T14:24:18.169569Z",
     "iopub.status.busy": "2021-02-08T14:24:18.169080Z",
     "iopub.status.idle": "2021-02-08T14:24:18.182946Z",
     "shell.execute_reply": "2021-02-08T14:24:18.182526Z"
    },
    "papermill": {
     "duration": 0.033529,
     "end_time": "2021-02-08T14:24:18.183040",
     "exception": false,
     "start_time": "2021-02-08T14:24:18.149511",
     "status": "completed"
    },
    "tags": []
   },
   "outputs": [
    {
     "data": {
      "text/plain": [
       "{'updated': '2021-02-08',\n",
       " 'since': '2021-02-07',\n",
       " 'Cases': 10843017,\n",
       " 'PCases': 10839100,\n",
       " 'Deaths': 155137,\n",
       " 'PDeaths': 155118,\n",
       " 'Cases (+)': 3917,\n",
       " 'Deaths (+)': 19}"
      ]
     },
     "execution_count": 14,
     "metadata": {},
     "output_type": "execute_result"
    }
   ],
   "source": [
    "#hide\n",
    "summary = {'updated':dates[-1], 'since':dates[-2]}\n",
    "list_names = ['Cases', 'PCases', 'Deaths', 'PDeaths', 'Cases (+)', 'Deaths (+)']\n",
    "for name in list_names:\n",
    "    summary[name] = df_table.sum()[name]\n",
    "summary"
   ]
  },
  {
   "cell_type": "code",
   "execution_count": 15,
   "id": "packed-viewer",
   "metadata": {
    "execution": {
     "iopub.execute_input": "2021-02-08T14:24:18.216571Z",
     "iopub.status.busy": "2021-02-08T14:24:18.216029Z",
     "iopub.status.idle": "2021-02-08T14:24:18.218199Z",
     "shell.execute_reply": "2021-02-08T14:24:18.218715Z"
    },
    "papermill": {
     "duration": 0.021816,
     "end_time": "2021-02-08T14:24:18.218833",
     "exception": false,
     "start_time": "2021-02-08T14:24:18.197017",
     "status": "completed"
    },
    "tags": []
   },
   "outputs": [],
   "source": [
    "#hide\n",
    "overview = '''\n",
    "<!-- #######  HTML!! #########-->\n",
    "<h1 style=\"color: #5e9ca0; text-align: center;\">India</h1>\n",
    "<p style=\"text-align: center;\">Last update: <strong>{update}</strong></p>\n",
    "<p style=\"text-align: center;\">Confirmed cases:</p>\n",
    "<p style=\"text-align: center;font-size:24px;\">{cases} (<span style=\"color: #ff0000;\">+{new}</span>)</p>\n",
    "<p style=\"text-align: center;\">Confirmed deaths:</p>\n",
    "<p style=\"text-align: center;font-size:24px;\">{deaths} (<span style=\"color: #ff0000;\">+{dnew}</span>)</p>\n",
    "'''"
   ]
  },
  {
   "cell_type": "code",
   "execution_count": 16,
   "id": "phantom-lover",
   "metadata": {
    "execution": {
     "iopub.execute_input": "2021-02-08T14:24:18.255192Z",
     "iopub.status.busy": "2021-02-08T14:24:18.254721Z",
     "iopub.status.idle": "2021-02-08T14:24:18.258305Z",
     "shell.execute_reply": "2021-02-08T14:24:18.258702Z"
    },
    "papermill": {
     "duration": 0.024409,
     "end_time": "2021-02-08T14:24:18.258795",
     "exception": false,
     "start_time": "2021-02-08T14:24:18.234386",
     "status": "completed"
    },
    "tags": []
   },
   "outputs": [
    {
     "data": {
      "text/html": [
       "\n",
       "<!-- #######  HTML!! #########-->\n",
       "<h1 style=\"color: #5e9ca0; text-align: center;\">India</h1>\n",
       "<p style=\"text-align: center;\">Last update: <strong>2021-02-08</strong></p>\n",
       "<p style=\"text-align: center;\">Confirmed cases:</p>\n",
       "<p style=\"text-align: center;font-size:24px;\">10843017 (<span style=\"color: #ff0000;\">+3917</span>)</p>\n",
       "<p style=\"text-align: center;\">Confirmed deaths:</p>\n",
       "<p style=\"text-align: center;font-size:24px;\">155137 (<span style=\"color: #ff0000;\">+19</span>)</p>\n"
      ],
      "text/plain": [
       "<IPython.core.display.HTML object>"
      ]
     },
     "metadata": {},
     "output_type": "display_data"
    }
   ],
   "source": [
    "#hide_input\n",
    "update = summary['updated']\n",
    "cases = summary['Cases']\n",
    "new = summary['Cases (+)']\n",
    "deaths = summary['Deaths']\n",
    "dnew = summary['Deaths (+)']\n",
    "\n",
    "html = HTML(overview.format(update=update, cases=cases,new=new,deaths=deaths,dnew=dnew))\n",
    "\n",
    "display(html)"
   ]
  },
  {
   "cell_type": "code",
   "execution_count": 17,
   "id": "sealed-reset",
   "metadata": {
    "execution": {
     "iopub.execute_input": "2021-02-08T14:24:18.294416Z",
     "iopub.status.busy": "2021-02-08T14:24:18.293948Z",
     "iopub.status.idle": "2021-02-08T14:24:18.300044Z",
     "shell.execute_reply": "2021-02-08T14:24:18.300456Z"
    },
    "papermill": {
     "duration": 0.025814,
     "end_time": "2021-02-08T14:24:18.300579",
     "exception": false,
     "start_time": "2021-02-08T14:24:18.274765",
     "status": "completed"
    },
    "tags": []
   },
   "outputs": [],
   "source": [
    "#hide\n",
    "dt_cols = list(dft_cases.columns[1:])\n",
    "dft_ct_new_cases = dft_cases.groupby('state')[dt_cols].sum().diff(axis=1).fillna(0).astype(int)\n",
    "dft_ct_new_cases.sort_values(by = dates[-1], ascending = False,inplace = True)"
   ]
  },
  {
   "cell_type": "code",
   "execution_count": 18,
   "id": "designed-constant",
   "metadata": {
    "execution": {
     "iopub.execute_input": "2021-02-08T14:24:18.350164Z",
     "iopub.status.busy": "2021-02-08T14:24:18.349594Z",
     "iopub.status.idle": "2021-02-08T14:24:18.352131Z",
     "shell.execute_reply": "2021-02-08T14:24:18.352543Z"
    },
    "papermill": {
     "duration": 0.035552,
     "end_time": "2021-02-08T14:24:18.352698",
     "exception": false,
     "start_time": "2021-02-08T14:24:18.317146",
     "status": "completed"
    },
    "tags": []
   },
   "outputs": [
    {
     "data": {
      "text/html": [
       "<div>\n",
       "<style scoped>\n",
       "    .dataframe tbody tr th:only-of-type {\n",
       "        vertical-align: middle;\n",
       "    }\n",
       "\n",
       "    .dataframe tbody tr th {\n",
       "        vertical-align: top;\n",
       "    }\n",
       "\n",
       "    .dataframe thead th {\n",
       "        text-align: right;\n",
       "    }\n",
       "</style>\n",
       "<table border=\"1\" class=\"dataframe\">\n",
       "  <thead>\n",
       "    <tr style=\"text-align: right;\">\n",
       "      <th>states</th>\n",
       "      <th>2020-07-01</th>\n",
       "      <th>2020-07-02</th>\n",
       "      <th>2020-07-03</th>\n",
       "      <th>2020-07-04</th>\n",
       "      <th>2020-07-05</th>\n",
       "      <th>2020-07-06</th>\n",
       "      <th>2020-07-07</th>\n",
       "      <th>2020-07-08</th>\n",
       "      <th>2020-07-09</th>\n",
       "      <th>2020-07-10</th>\n",
       "      <th>...</th>\n",
       "      <th>2021-01-30</th>\n",
       "      <th>2021-01-31</th>\n",
       "      <th>2021-02-01</th>\n",
       "      <th>2021-02-02</th>\n",
       "      <th>2021-02-03</th>\n",
       "      <th>2021-02-04</th>\n",
       "      <th>2021-02-05</th>\n",
       "      <th>2021-02-06</th>\n",
       "      <th>2021-02-07</th>\n",
       "      <th>2021-02-08</th>\n",
       "    </tr>\n",
       "    <tr>\n",
       "      <th>state</th>\n",
       "      <th></th>\n",
       "      <th></th>\n",
       "      <th></th>\n",
       "      <th></th>\n",
       "      <th></th>\n",
       "      <th></th>\n",
       "      <th></th>\n",
       "      <th></th>\n",
       "      <th></th>\n",
       "      <th></th>\n",
       "      <th></th>\n",
       "      <th></th>\n",
       "      <th></th>\n",
       "      <th></th>\n",
       "      <th></th>\n",
       "      <th></th>\n",
       "      <th></th>\n",
       "      <th></th>\n",
       "      <th></th>\n",
       "      <th></th>\n",
       "      <th></th>\n",
       "    </tr>\n",
       "  </thead>\n",
       "  <tbody>\n",
       "    <tr>\n",
       "      <th>Kerala</th>\n",
       "      <td>0</td>\n",
       "      <td>160</td>\n",
       "      <td>211</td>\n",
       "      <td>240</td>\n",
       "      <td>225</td>\n",
       "      <td>193</td>\n",
       "      <td>272</td>\n",
       "      <td>301</td>\n",
       "      <td>339</td>\n",
       "      <td>416</td>\n",
       "      <td>...</td>\n",
       "      <td>6282</td>\n",
       "      <td>5266</td>\n",
       "      <td>3459</td>\n",
       "      <td>5716</td>\n",
       "      <td>6356</td>\n",
       "      <td>6102</td>\n",
       "      <td>5610</td>\n",
       "      <td>5942</td>\n",
       "      <td>6075</td>\n",
       "      <td>3742</td>\n",
       "    </tr>\n",
       "    <tr>\n",
       "      <th>Telangana</th>\n",
       "      <td>0</td>\n",
       "      <td>1213</td>\n",
       "      <td>1892</td>\n",
       "      <td>1850</td>\n",
       "      <td>1590</td>\n",
       "      <td>1831</td>\n",
       "      <td>1879</td>\n",
       "      <td>1924</td>\n",
       "      <td>1410</td>\n",
       "      <td>1278</td>\n",
       "      <td>...</td>\n",
       "      <td>186</td>\n",
       "      <td>163</td>\n",
       "      <td>118</td>\n",
       "      <td>152</td>\n",
       "      <td>185</td>\n",
       "      <td>177</td>\n",
       "      <td>169</td>\n",
       "      <td>161</td>\n",
       "      <td>150</td>\n",
       "      <td>101</td>\n",
       "    </tr>\n",
       "    <tr>\n",
       "      <th>Odisha</th>\n",
       "      <td>0</td>\n",
       "      <td>229</td>\n",
       "      <td>561</td>\n",
       "      <td>495</td>\n",
       "      <td>469</td>\n",
       "      <td>456</td>\n",
       "      <td>571</td>\n",
       "      <td>527</td>\n",
       "      <td>577</td>\n",
       "      <td>755</td>\n",
       "      <td>...</td>\n",
       "      <td>108</td>\n",
       "      <td>114</td>\n",
       "      <td>79</td>\n",
       "      <td>60</td>\n",
       "      <td>71</td>\n",
       "      <td>87</td>\n",
       "      <td>97</td>\n",
       "      <td>82</td>\n",
       "      <td>72</td>\n",
       "      <td>72</td>\n",
       "    </tr>\n",
       "    <tr>\n",
       "      <th>Meghalaya</th>\n",
       "      <td>0</td>\n",
       "      <td>3</td>\n",
       "      <td>4</td>\n",
       "      <td>8</td>\n",
       "      <td>2</td>\n",
       "      <td>16</td>\n",
       "      <td>6</td>\n",
       "      <td>6</td>\n",
       "      <td>13</td>\n",
       "      <td>73</td>\n",
       "      <td>...</td>\n",
       "      <td>8</td>\n",
       "      <td>3</td>\n",
       "      <td>0</td>\n",
       "      <td>4</td>\n",
       "      <td>6</td>\n",
       "      <td>20</td>\n",
       "      <td>27</td>\n",
       "      <td>24</td>\n",
       "      <td>40</td>\n",
       "      <td>1</td>\n",
       "    </tr>\n",
       "    <tr>\n",
       "      <th>Mizoram</th>\n",
       "      <td>0</td>\n",
       "      <td>2</td>\n",
       "      <td>0</td>\n",
       "      <td>2</td>\n",
       "      <td>22</td>\n",
       "      <td>11</td>\n",
       "      <td>1</td>\n",
       "      <td>5</td>\n",
       "      <td>0</td>\n",
       "      <td>23</td>\n",
       "      <td>...</td>\n",
       "      <td>3</td>\n",
       "      <td>6</td>\n",
       "      <td>0</td>\n",
       "      <td>1</td>\n",
       "      <td>3</td>\n",
       "      <td>0</td>\n",
       "      <td>4</td>\n",
       "      <td>1</td>\n",
       "      <td>1</td>\n",
       "      <td>1</td>\n",
       "    </tr>\n",
       "  </tbody>\n",
       "</table>\n",
       "<p>5 rows × 223 columns</p>\n",
       "</div>"
      ],
      "text/plain": [
       "states     2020-07-01  2020-07-02  2020-07-03  2020-07-04  2020-07-05  \\\n",
       "state                                                                   \n",
       "Kerala              0         160         211         240         225   \n",
       "Telangana           0        1213        1892        1850        1590   \n",
       "Odisha              0         229         561         495         469   \n",
       "Meghalaya           0           3           4           8           2   \n",
       "Mizoram             0           2           0           2          22   \n",
       "\n",
       "states     2020-07-06  2020-07-07  2020-07-08  2020-07-09  2020-07-10  ...  \\\n",
       "state                                                                  ...   \n",
       "Kerala            193         272         301         339         416  ...   \n",
       "Telangana        1831        1879        1924        1410        1278  ...   \n",
       "Odisha            456         571         527         577         755  ...   \n",
       "Meghalaya          16           6           6          13          73  ...   \n",
       "Mizoram            11           1           5           0          23  ...   \n",
       "\n",
       "states     2021-01-30  2021-01-31  2021-02-01  2021-02-02  2021-02-03  \\\n",
       "state                                                                   \n",
       "Kerala           6282        5266        3459        5716        6356   \n",
       "Telangana         186         163         118         152         185   \n",
       "Odisha            108         114          79          60          71   \n",
       "Meghalaya           8           3           0           4           6   \n",
       "Mizoram             3           6           0           1           3   \n",
       "\n",
       "states     2021-02-04  2021-02-05  2021-02-06  2021-02-07  2021-02-08  \n",
       "state                                                                  \n",
       "Kerala           6102        5610        5942        6075        3742  \n",
       "Telangana         177         169         161         150         101  \n",
       "Odisha             87          97          82          72          72  \n",
       "Meghalaya          20          27          24          40           1  \n",
       "Mizoram             0           4           1           1           1  \n",
       "\n",
       "[5 rows x 223 columns]"
      ]
     },
     "execution_count": 18,
     "metadata": {},
     "output_type": "execute_result"
    }
   ],
   "source": [
    "#hide\n",
    "dft_ct_new_cases.head()"
   ]
  },
  {
   "cell_type": "code",
   "execution_count": 19,
   "id": "responsible-nightlife",
   "metadata": {
    "execution": {
     "iopub.execute_input": "2021-02-08T14:24:18.388117Z",
     "iopub.status.busy": "2021-02-08T14:24:18.387601Z",
     "iopub.status.idle": "2021-02-08T14:24:24.418474Z",
     "shell.execute_reply": "2021-02-08T14:24:24.418879Z"
    },
    "papermill": {
     "duration": 6.049523,
     "end_time": "2021-02-08T14:24:24.419013",
     "exception": false,
     "start_time": "2021-02-08T14:24:18.369490",
     "status": "completed"
    },
    "tags": []
   },
   "outputs": [
    {
     "data": {
      "image/png": "[encoded data removed]",
      "text/plain": [
       "<Figure size 1296x2016 with 11 Axes>"
      ]
     },
     "metadata": {
      "needs_background": "light"
     },
     "output_type": "display_data"
    }
   ],
   "source": [
    "#hide_input\n",
    "df = dft_ct_new_cases.copy()\n",
    "df.loc['Total'] = df.sum()\n",
    "n = 5\n",
    "ax = []\n",
    "fig = plt.figure(figsize = (18,28))\n",
    "gs = fig.add_gridspec(n+2, 5)\n",
    "# gs = fig.add_gridspec(2, 3)\n",
    "ax1 = fig.add_subplot(gs[0, :])\n",
    "ef = df.loc['Total'].rename_axis('date').reset_index()\n",
    "ef['date'] = ef['date'].astype('datetime64[ns]')\n",
    "ax1.bar(ef.date,ef.Total,alpha=0.3,color='#007acc')\n",
    "ax1.plot(ef.date,ef.Total , marker=\"o\", color='#007acc')\n",
    "ax1.xaxis.set_major_locator(mdates.WeekdayLocator())\n",
    "ax1.xaxis.set_major_formatter(mdates.DateFormatter('%b %d'))\n",
    "ax1.text(0.02, 0.5,'India daily case count', transform = ax1.transAxes, fontsize=25);\n",
    "ax1.spines['right'].set_visible(False)\n",
    "ax1.spines['top'].set_visible(False)\n",
    "\n",
    "ax2 = fig.add_subplot(gs[1,0])\n",
    "ef = df.loc['Maharashtra'].rename_axis('date').reset_index()\n",
    "ef['date'] = ef['date'].astype('datetime64[ns]')\n",
    "\n",
    "ax2.bar(ef.date, ef.Maharashtra,color = '#007acc',alpha=0.5)\n",
    "ax2.xaxis.set_major_locator(mdates.WeekdayLocator())\n",
    "ax2.xaxis.set_major_formatter(mdates.DateFormatter('%b %d'))\n",
    "ax2.set_xticks(ax2.get_xticks()[::3])\n",
    "maxyval = ef.Maharashtra.max()\n",
    "ax2.set_ylim([0,maxyval])\n",
    "ax2.text(0.05, 0.9,'Maharashtra', transform = ax2.transAxes, fontsize=20);\n",
    "ax2.spines['right'].set_visible(False)\n",
    "ax2.spines['top'].set_visible(False)\n",
    "\n",
    "\n",
    "ax3 = fig.add_subplot(gs[1,1])\n",
    "ef = df.loc['Tamil Nadu'].rename_axis('date').reset_index()\n",
    "ef['date'] = ef['date'].astype('datetime64[ns]')\n",
    "ax3.bar(ef.date, ef['Tamil Nadu'],color = '#007acc',alpha=0.5,)\n",
    "ax3.xaxis.set_major_locator(mdates.WeekdayLocator())\n",
    "ax3.xaxis.set_major_formatter(mdates.DateFormatter('%b %d'))\n",
    "ax3.set_xticks(ax3.get_xticks()[::3])\n",
    "ax3.text(0.05, 0.9,'Tamil Nadu', transform = ax3.transAxes, fontsize=20);\n",
    "ax3.spines['right'].set_visible(False)\n",
    "ax3.spines['top'].set_visible(False)\n",
    "\n",
    "ax5 = fig.add_subplot(gs[1,3])\n",
    "ef = df.loc['Telangana'].rename_axis('date').reset_index()\n",
    "ef['date'] = ef['date'].astype('datetime64[ns]')\n",
    "ax5.bar(ef.date, ef['Telangana'],color = '#007acc',alpha=0.5,)\n",
    "ax5.xaxis.set_major_locator(mdates.WeekdayLocator())\n",
    "ax5.xaxis.set_major_formatter(mdates.DateFormatter('%b %d'))\n",
    "ax5.set_xticks(ax5.get_xticks()[::3])\n",
    "ax5.text(0.05, 0.9,'Telangana', transform = ax5.transAxes, fontsize=20);\n",
    "ax5.spines['right'].set_visible(False)\n",
    "ax5.spines['top'].set_visible(False)\n",
    "\n",
    "ax6 = fig.add_subplot(gs[1,4])\n",
    "ef = df.loc['Andhra Pradesh'].rename_axis('date').reset_index()\n",
    "ef['date'] = ef['date'].astype('datetime64[ns]')\n",
    "ax6.bar(ef.date, ef['Andhra Pradesh'],color = '#007acc',alpha=0.5,)\n",
    "ax6.xaxis.set_major_locator(mdates.WeekdayLocator())\n",
    "ax6.xaxis.set_major_formatter(mdates.DateFormatter('%b %d'))\n",
    "ax6.set_xticks(ax6.get_xticks()[::3])\n",
    "ax6.text(0.05, 1,'Andhra Pradesh', transform = ax6.transAxes, fontsize=20);\n",
    "ax6.spines['right'].set_visible(False)\n",
    "ax6.spines['top'].set_visible(False)\n",
    "\n",
    "ax4 = fig.add_subplot(gs[1,2])\n",
    "ef = df.loc['Delhi'].rename_axis('date').reset_index()\n",
    "ef['date'] = ef['date'].astype('datetime64[ns]')\n",
    "ax4.bar(ef.date, ef.Delhi,color = '#007acc',alpha=0.5)\n",
    "ax4.set_xticks([])\n",
    "ax4.xaxis.set_major_locator(mdates.WeekdayLocator())\n",
    "ax4.xaxis.set_major_formatter(mdates.DateFormatter('%b %d'))\n",
    "ax4.set_xticks(ax4.get_xticks()[::3])\n",
    "ax4.spines['right'].set_visible(False)\n",
    "ax4.spines['top'].set_visible(False)\n",
    "\n",
    "ax4.text(0.05, 1,'Delhi', transform = ax4.transAxes, fontsize=20)\n",
    "\n",
    "for i in range(n):\n",
    "    \n",
    "    ax.append(fig.add_subplot(gs[i+2,:]))\n",
    "    ef = df.iloc[i+3].rename_axis('date').reset_index()\n",
    "    ef['date'] = ef['date'].astype('datetime64[ns]')\n",
    "    ax[i].bar(ef.date,ef.iloc[:,-1],color = '#007acc',alpha=0.3)\n",
    "    ax[i].plot(ef.date,ef.iloc[:,-1],marker='o',color='#007acc')\n",
    "    ax[i].text(0.02,0.5,f'{ef.columns.values[-1]}',transform = ax[i].transAxes, fontsize = 20);\n",
    "    ax[i].xaxis.set_major_locator(mdates.WeekdayLocator())\n",
    "    ax[i].xaxis.set_major_formatter(mdates.DateFormatter('%b %d'))\n",
    "    ax[i].set_ylim([0,7000])\n",
    "    ax[i].spines['right'].set_visible(False)\n",
    "    ax[i].spines['top'].set_visible(False)\n",
    "plt.tight_layout()\n"
   ]
  },
  {
   "cell_type": "code",
   "execution_count": 20,
   "id": "dress-forge",
   "metadata": {
    "execution": {
     "iopub.execute_input": "2021-02-08T14:24:24.470111Z",
     "iopub.status.busy": "2021-02-08T14:24:24.469602Z",
     "iopub.status.idle": "2021-02-08T14:24:24.473214Z",
     "shell.execute_reply": "2021-02-08T14:24:24.472810Z"
    },
    "papermill": {
     "duration": 0.033924,
     "end_time": "2021-02-08T14:24:24.473314",
     "exception": false,
     "start_time": "2021-02-08T14:24:24.439390",
     "status": "completed"
    },
    "tags": []
   },
   "outputs": [
    {
     "name": "stdout",
     "output_type": "stream",
     "text": [
      "                                   states    Cases  Deaths   PCases  PDeaths  Cases (+)  Deaths (+)  Fatality Rate\n",
      "                              Maharashtra  2044071   51310  2044071    51310          0           0           2.51\n",
      "                                   Kerala   972181    3884   968439     3868       3742          16           0.40\n",
      "                                Karnataka   942518   12236   942518    12236          0           0           1.30\n",
      "                           Andhra Pradesh   888423    7159   888423     7159          0           0           0.81\n",
      "                               Tamil Nadu   841797   12383   841797    12383          0           0           1.47\n",
      "                                    Delhi   636035   10879   636035    10879          0           0           1.71\n",
      "                            Uttar Pradesh   601385    8687   601385     8687          0           0           1.44\n",
      "                              West Bengal   571371   10207   571371    10207          0           0           1.79\n",
      "                                   Odisha   335692    1963   335620     1962         72           1           0.58\n",
      "                                Rajasthan   318193    2772   318193     2772          0           0           0.87\n",
      "                             Chhattisgarh   307525    3741   307525     3741          0           0           1.22\n",
      "                                Telangana   295682    1611   295581     1610        101           1           0.54\n",
      "                                  Haryana   268431    3029   268431     3029          0           0           1.13\n",
      "                                  Gujarat   263444    4395   263444     4395          0           0           1.67\n",
      "                                    Bihar   261299    1516   261299     1516          0           0           0.58\n",
      "                           Madhya Pradesh   256398    3820   256398     3820          0           0           1.49\n",
      "                                    Assam   217210    1084   217210     1084          0           0           0.50\n",
      "                                   Punjab   174646    5642   174646     5642          0           0           3.23\n",
      "                        Jammu and Kashmir   124909    1944   124909     1944          0           0           1.56\n",
      "                                Jharkhand   119017    1078   119017     1078          0           0           0.91\n",
      "                              Uttarakhand    96493    1668    96493     1668          0           0           1.73\n",
      "                         Himachal Pradesh    57896     972    57896      972          0           0           1.68\n",
      "                                      Goa    53880     772    53880      772          0           0           1.43\n",
      "                               Puducherry    39292     654    39292      654          0           0           1.66\n",
      "                                  Tripura    33349     388    33349      388          0           0           1.16\n",
      "                                  Manipur    29126     373    29126      373          0           0           1.28\n",
      "                               Chandigarh    21107     340    21107      340          0           0           1.61\n",
      "                        Arunachal Pradesh    16830      56    16830       56          0           0           0.33\n",
      "                                Meghalaya    13886     148    13885      147          1           1           1.07\n",
      "                                 Nagaland    12158      88    12158       88          0           0           0.72\n",
      "                                   Ladakh     9747     130     9747      130          0           0           1.33\n",
      "                                   Sikkim     6110     135     6110      135          0           0           2.21\n",
      "              Andaman and Nicobar Islands     5000      62     5000       62          0           0           1.24\n",
      "                                  Mizoram     4383       9     4382        9          1           0           0.21\n",
      " Dadra and Nagar Haveli and Daman and Diu     3380       2     3380        2          0           0           0.06\n",
      "                              Lakshadweep      153       0      153        0          0           0           0.00\n"
     ]
    }
   ],
   "source": [
    "#hide_input\n",
    "print(df_table.to_string(index=False))"
   ]
  },
  {
   "cell_type": "code",
   "execution_count": null,
   "id": "quantitative-legend",
   "metadata": {
    "papermill": {
     "duration": 0.022642,
     "end_time": "2021-02-08T14:24:24.515522",
     "exception": false,
     "start_time": "2021-02-08T14:24:24.492880",
     "status": "completed"
    },
    "tags": []
   },
   "outputs": [],
   "source": []
  },
  {
   "cell_type": "code",
   "execution_count": null,
   "id": "distant-acoustic",
   "metadata": {
    "papermill": {
     "duration": 0.02139,
     "end_time": "2021-02-08T14:24:24.557931",
     "exception": false,
     "start_time": "2021-02-08T14:24:24.536541",
     "status": "completed"
    },
    "tags": []
   },
   "outputs": [],
   "source": []
  }
 ],
 "metadata": {
  "kernelspec": {
   "display_name": "Python 3",
   "language": "python",
   "name": "python3"
  },
  "language_info": {
   "codemirror_mode": {
    "name": "ipython",
    "version": 3
   },
   "file_extension": ".py",
   "mimetype": "text/x-python",
   "name": "python",
   "nbconvert_exporter": "python",
   "pygments_lexer": "ipython3",
   "version": "3.6.12"
  },
  "papermill": {
   "duration": 15.252915,
   "end_time": "2021-02-08T14:24:25.964651",
   "environment_variables": {},
   "exception": null,
   "input_path": "latest.ipynb",
   "output_path": "latest.ipynb",
   "parameters": {},
   "start_time": "2021-02-08T14:24:10.711736",
   "version": "2.1.2"
  }
 },
 "nbformat": 4,
 "nbformat_minor": 5
}