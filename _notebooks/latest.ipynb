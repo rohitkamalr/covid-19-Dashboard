{
 "cells": [
  {
   "cell_type": "markdown",
   "metadata": {
    "papermill": {
     "duration": 0.021625,
     "end_time": "2020-08-12T15:18:02.157000",
     "exception": false,
     "start_time": "2020-08-12T15:18:02.135375",
     "status": "completed"
    },
    "tags": []
   },
   "source": [
    "# Latest COVID-19 India Matplotlib Overview"
   ]
  },
  {
   "cell_type": "code",
   "execution_count": 1,
   "metadata": {
    "execution": {
     "iopub.execute_input": "2020-08-12T15:18:02.195239Z",
     "iopub.status.busy": "2020-08-12T15:18:02.194645Z",
     "iopub.status.idle": "2020-08-12T15:18:02.745818Z",
     "shell.execute_reply": "2020-08-12T15:18:02.744433Z"
    },
    "papermill": {
     "duration": 0.57395,
     "end_time": "2020-08-12T15:18:02.745988",
     "exception": false,
     "start_time": "2020-08-12T15:18:02.172038",
     "status": "completed"
    },
    "tags": []
   },
   "outputs": [],
   "source": [
    "#hide\n",
    "import pandas as pd\n",
    "import numpy as np\n",
    "import requests\n",
    "import json\n",
    "import matplotlib.pyplot as plt\n",
    "import matplotlib.dates as mdates\n",
    "import matplotlib as mpl\n",
    "from IPython.core.display import display,HTML\n",
    "%matplotlib inline\n",
    "from datetime import date"
   ]
  },
  {
   "cell_type": "code",
   "execution_count": 2,
   "metadata": {
    "execution": {
     "iopub.execute_input": "2020-08-12T15:18:02.783005Z",
     "iopub.status.busy": "2020-08-12T15:18:02.782309Z",
     "iopub.status.idle": "2020-08-12T15:18:02.899403Z",
     "shell.execute_reply": "2020-08-12T15:18:02.900311Z"
    },
    "papermill": {
     "duration": 0.139808,
     "end_time": "2020-08-12T15:18:02.900532",
     "exception": false,
     "start_time": "2020-08-12T15:18:02.760724",
     "status": "completed"
    },
    "tags": []
   },
   "outputs": [],
   "source": [
    "#hide\n",
    "df  = pd.read_csv('https://api.covid19india.org/csv/latest/states.csv')\n",
    "df = df[['Date','State','Confirmed','Deceased']]\n",
    "df = df.rename(columns={'Confirmed':'Cases', \"Deceased\":'Deaths'})\n",
    "df_cases = df[[\"Date\",'State','Cases']]\n",
    "df_deaths = df[['Date','State','Deaths']]\n",
    "df_cases1 = df_cases.groupby('Date')\n",
    "df_deaths1= df_deaths.groupby('Date')"
   ]
  },
  {
   "cell_type": "code",
   "execution_count": 3,
   "metadata": {
    "execution": {
     "iopub.execute_input": "2020-08-12T15:18:02.936812Z",
     "iopub.status.busy": "2020-08-12T15:18:02.936234Z",
     "iopub.status.idle": "2020-08-12T15:18:02.953652Z",
     "shell.execute_reply": "2020-08-12T15:18:02.954073Z"
    },
    "papermill": {
     "duration": 0.038379,
     "end_time": "2020-08-12T15:18:02.954213",
     "exception": false,
     "start_time": "2020-08-12T15:18:02.915834",
     "status": "completed"
    },
    "tags": []
   },
   "outputs": [],
   "source": [
    "#hide\n",
    "df_snap = pd.read_csv('data/SnapshotCases-28-July.csv')\n",
    "arr_states = df_snap['states'].unique()\n",
    "arr_dates = df['Date'].unique()\n",
    "df_snap = df_snap.set_index('states')"
   ]
  },
  {
   "cell_type": "code",
   "execution_count": 4,
   "metadata": {
    "execution": {
     "iopub.execute_input": "2020-08-12T15:18:02.994901Z",
     "iopub.status.busy": "2020-08-12T15:18:02.994270Z",
     "iopub.status.idle": "2020-08-12T15:18:02.997285Z",
     "shell.execute_reply": "2020-08-12T15:18:02.996820Z"
    },
    "papermill": {
     "duration": 0.027993,
     "end_time": "2020-08-12T15:18:02.997409",
     "exception": false,
     "start_time": "2020-08-12T15:18:02.969416",
     "status": "completed"
    },
    "tags": []
   },
   "outputs": [
    {
     "data": {
      "text/plain": [
       "array(['Andaman and Nicobar Islands', 'Andhra Pradesh',\n",
       "       'Arunachal Pradesh', 'Assam', 'Bihar', 'Chandigarh',\n",
       "       'Dadra and Nagar Haveli and Daman and Diu', 'Delhi', 'Goa',\n",
       "       'Gujarat', 'Haryana', 'Himachal Pradesh', 'Jammu and Kashmir',\n",
       "       'Jharkhand', 'Karnataka', 'Kerala', 'Lakshadweep',\n",
       "       'Madhya Pradesh', 'Maharashtra', 'Manipur', 'Meghalaya', 'Mizoram',\n",
       "       'Nagaland', 'Odisha', 'Puducherry', 'Punjab', 'Rajasthan',\n",
       "       'Sikkim', 'Tamil Nadu', 'Telangana', 'Tripura', 'Uttar Pradesh',\n",
       "       'West Bengal', 'Chhattisgarh', 'Ladakh', 'Uttarakhand'],\n",
       "      dtype=object)"
      ]
     },
     "execution_count": 4,
     "metadata": {},
     "output_type": "execute_result"
    }
   ],
   "source": [
    "#hide\n",
    "arr_states[-9] = 'Puducherry'\n",
    "arr_states[-10] = 'Odisha'\n",
    "arr_states[6] = 'Dadra and Nagar Haveli and Daman and Diu'\n",
    "arr_states = np.append(arr_states,np.array(['Chhattisgarh','Ladakh','Uttarakhand']))\n",
    "arr_states"
   ]
  },
  {
   "cell_type": "code",
   "execution_count": 5,
   "metadata": {
    "execution": {
     "iopub.execute_input": "2020-08-12T15:18:03.042636Z",
     "iopub.status.busy": "2020-08-12T15:18:03.037195Z",
     "iopub.status.idle": "2020-08-12T15:18:03.045483Z",
     "shell.execute_reply": "2020-08-12T15:18:03.045955Z"
    },
    "papermill": {
     "duration": 0.033263,
     "end_time": "2020-08-12T15:18:03.046094",
     "exception": false,
     "start_time": "2020-08-12T15:18:03.012831",
     "status": "completed"
    },
    "tags": []
   },
   "outputs": [],
   "source": [
    "#hide\n",
    "dates = []\n",
    "for i in arr_dates:\n",
    "    if i>='2020-07-01':\n",
    "        dates.append(i)\n",
    "dict = {'states':dates}\n",
    "for i in arr_states:\n",
    "    dict[i] = [0]*len(dates)\n",
    "dft_cases = pd.DataFrame(dict)\n",
    "dft_deaths = pd.DataFrame(dict)\n"
   ]
  },
  {
   "cell_type": "code",
   "execution_count": 6,
   "metadata": {
    "execution": {
     "iopub.execute_input": "2020-08-12T15:18:03.082505Z",
     "iopub.status.busy": "2020-08-12T15:18:03.081924Z",
     "iopub.status.idle": "2020-08-12T15:18:03.695697Z",
     "shell.execute_reply": "2020-08-12T15:18:03.695111Z"
    },
    "papermill": {
     "duration": 0.635326,
     "end_time": "2020-08-12T15:18:03.695832",
     "exception": false,
     "start_time": "2020-08-12T15:18:03.060506",
     "status": "completed"
    },
    "tags": []
   },
   "outputs": [],
   "source": [
    "#hide\n",
    "for i in range(len(dates)):\n",
    "    df1_deaths = df_deaths1.get_group(dates[i])\n",
    "    for j in range(len(df1_deaths.index)):\n",
    "        if df1_deaths.iloc[j,1] in arr_states:\n",
    "            dft_deaths.loc[i,df1_deaths.iloc[j,1]] = df1_deaths.iloc[j,2]\n",
    "dft_deaths = dft_deaths.set_index('states')"
   ]
  },
  {
   "cell_type": "code",
   "execution_count": 7,
   "metadata": {
    "execution": {
     "iopub.execute_input": "2020-08-12T15:18:03.734787Z",
     "iopub.status.busy": "2020-08-12T15:18:03.734143Z",
     "iopub.status.idle": "2020-08-12T15:18:04.298336Z",
     "shell.execute_reply": "2020-08-12T15:18:04.297430Z"
    },
    "papermill": {
     "duration": 0.586554,
     "end_time": "2020-08-12T15:18:04.298549",
     "exception": false,
     "start_time": "2020-08-12T15:18:03.711995",
     "status": "completed"
    },
    "tags": []
   },
   "outputs": [],
   "source": [
    "#hide\n",
    "for i in range(len(dates)):\n",
    "    df1_cases = df_cases1.get_group(dates[i])\n",
    "    for j in range(len(df1_cases.index)):\n",
    "        if df1_cases.iloc[j,1] in arr_states:\n",
    "            dft_cases.loc[i,df1_cases.iloc[j,1]] = df1_cases.iloc[j,2]\n",
    "dft_cases = dft_cases.set_index('states')"
   ]
  },
  {
   "cell_type": "code",
   "execution_count": 8,
   "metadata": {
    "execution": {
     "iopub.execute_input": "2020-08-12T15:18:04.427685Z",
     "iopub.status.busy": "2020-08-12T15:18:04.427045Z",
     "iopub.status.idle": "2020-08-12T15:18:04.429446Z",
     "shell.execute_reply": "2020-08-12T15:18:04.429875Z"
    },
    "papermill": {
     "duration": 0.070386,
     "end_time": "2020-08-12T15:18:04.430019",
     "exception": false,
     "start_time": "2020-08-12T15:18:04.359633",
     "status": "completed"
    },
    "tags": []
   },
   "outputs": [],
   "source": [
    "#hide\n",
    "dft_cases = dft_cases.T\n",
    "dft_deaths = dft_deaths.T\n",
    "dt_today = dates[-1]\n",
    "dt_yday = dates[-2]"
   ]
  },
  {
   "cell_type": "code",
   "execution_count": 9,
   "metadata": {
    "execution": {
     "iopub.execute_input": "2020-08-12T15:18:04.772918Z",
     "iopub.status.busy": "2020-08-12T15:18:04.772366Z",
     "iopub.status.idle": "2020-08-12T15:18:04.775611Z",
     "shell.execute_reply": "2020-08-12T15:18:04.776049Z"
    },
    "papermill": {
     "duration": 0.312465,
     "end_time": "2020-08-12T15:18:04.776302",
     "exception": false,
     "start_time": "2020-08-12T15:18:04.463837",
     "status": "completed"
    },
    "tags": []
   },
   "outputs": [],
   "source": [
    "#hide\n",
    "dft_cases = dft_cases.reset_index()\n",
    "dft_deaths = dft_deaths.reset_index()\n",
    "dft_cases = dft_cases.rename(columns = {'index':'state'})\n",
    "dft_deaths = dft_deaths.rename(columns = {'index':'state'})"
   ]
  },
  {
   "cell_type": "code",
   "execution_count": 10,
   "metadata": {
    "execution": {
     "iopub.execute_input": "2020-08-12T15:18:06.136432Z",
     "iopub.status.busy": "2020-08-12T15:18:06.134825Z",
     "iopub.status.idle": "2020-08-12T15:18:06.139325Z",
     "shell.execute_reply": "2020-08-12T15:18:06.138868Z"
    },
    "papermill": {
     "duration": 0.310396,
     "end_time": "2020-08-12T15:18:06.139450",
     "exception": false,
     "start_time": "2020-08-12T15:18:05.829054",
     "status": "completed"
    },
    "tags": []
   },
   "outputs": [],
   "source": [
    "#hide\n",
    "dfc_cases = dft_cases.groupby('state')[dt_today].sum()\n",
    "dfc_deaths = dft_deaths.groupby('state')[dt_today].sum()\n",
    "dfp_cases = dft_cases.groupby('state')[dt_yday].sum()\n",
    "dfp_deaths = dft_deaths.groupby('state')[dt_yday].sum()"
   ]
  },
  {
   "cell_type": "code",
   "execution_count": 11,
   "metadata": {
    "execution": {
     "iopub.execute_input": "2020-08-12T15:18:06.171876Z",
     "iopub.status.busy": "2020-08-12T15:18:06.171289Z",
     "iopub.status.idle": "2020-08-12T15:18:06.184881Z",
     "shell.execute_reply": "2020-08-12T15:18:06.184480Z"
    },
    "papermill": {
     "duration": 0.033106,
     "end_time": "2020-08-12T15:18:06.184980",
     "exception": false,
     "start_time": "2020-08-12T15:18:06.151874",
     "status": "completed"
    },
    "tags": []
   },
   "outputs": [
    {
     "data": {
      "text/html": [
       "<div>\n",
       "<style scoped>\n",
       "    .dataframe tbody tr th:only-of-type {\n",
       "        vertical-align: middle;\n",
       "    }\n",
       "\n",
       "    .dataframe tbody tr th {\n",
       "        vertical-align: top;\n",
       "    }\n",
       "\n",
       "    .dataframe thead th {\n",
       "        text-align: right;\n",
       "    }\n",
       "</style>\n",
       "<table border=\"1\" class=\"dataframe\">\n",
       "  <thead>\n",
       "    <tr style=\"text-align: right;\">\n",
       "      <th></th>\n",
       "      <th>states</th>\n",
       "      <th>Cases</th>\n",
       "      <th>Deaths</th>\n",
       "      <th>PCases</th>\n",
       "      <th>PDeaths</th>\n",
       "    </tr>\n",
       "  </thead>\n",
       "  <tbody>\n",
       "    <tr>\n",
       "      <th>0</th>\n",
       "      <td>Maharashtra</td>\n",
       "      <td>535601</td>\n",
       "      <td>18306</td>\n",
       "      <td>535601</td>\n",
       "      <td>18306</td>\n",
       "    </tr>\n",
       "    <tr>\n",
       "      <th>1</th>\n",
       "      <td>Tamil Nadu</td>\n",
       "      <td>314520</td>\n",
       "      <td>5278</td>\n",
       "      <td>308649</td>\n",
       "      <td>5159</td>\n",
       "    </tr>\n",
       "    <tr>\n",
       "      <th>2</th>\n",
       "      <td>Andhra Pradesh</td>\n",
       "      <td>254146</td>\n",
       "      <td>2296</td>\n",
       "      <td>244549</td>\n",
       "      <td>2203</td>\n",
       "    </tr>\n",
       "    <tr>\n",
       "      <th>3</th>\n",
       "      <td>Karnataka</td>\n",
       "      <td>196494</td>\n",
       "      <td>3511</td>\n",
       "      <td>188611</td>\n",
       "      <td>3398</td>\n",
       "    </tr>\n",
       "    <tr>\n",
       "      <th>4</th>\n",
       "      <td>Delhi</td>\n",
       "      <td>148504</td>\n",
       "      <td>4153</td>\n",
       "      <td>147391</td>\n",
       "      <td>4139</td>\n",
       "    </tr>\n",
       "  </tbody>\n",
       "</table>\n",
       "</div>"
      ],
      "text/plain": [
       "           states   Cases  Deaths  PCases  PDeaths\n",
       "0     Maharashtra  535601   18306  535601    18306\n",
       "1      Tamil Nadu  314520    5278  308649     5159\n",
       "2  Andhra Pradesh  254146    2296  244549     2203\n",
       "3       Karnataka  196494    3511  188611     3398\n",
       "4           Delhi  148504    4153  147391     4139"
      ]
     },
     "execution_count": 11,
     "metadata": {},
     "output_type": "execute_result"
    }
   ],
   "source": [
    "#hide\n",
    "df_table = pd.DataFrame({'states': dfc_cases.index, 'Cases': dfc_cases.values, 'Deaths': dfc_deaths.values, 'PCases': dfp_cases.values, 'PDeaths': dfp_deaths.values}).set_index('states')\n",
    "df_table = df_table.sort_values(by = ['Cases','Deaths'], ascending = [False, False])\n",
    "df_table = df_table.reset_index()\n",
    "df_table.head()"
   ]
  },
  {
   "cell_type": "code",
   "execution_count": 12,
   "metadata": {
    "execution": {
     "iopub.execute_input": "2020-08-12T15:18:06.215543Z",
     "iopub.status.busy": "2020-08-12T15:18:06.215053Z",
     "iopub.status.idle": "2020-08-12T15:18:06.222099Z",
     "shell.execute_reply": "2020-08-12T15:18:06.222562Z"
    },
    "papermill": {
     "duration": 0.026019,
     "end_time": "2020-08-12T15:18:06.222681",
     "exception": false,
     "start_time": "2020-08-12T15:18:06.196662",
     "status": "completed"
    },
    "tags": []
   },
   "outputs": [],
   "source": [
    "#hide\n",
    "for c in 'Cases, Deaths'.split(', '):\n",
    "    df_table[f'{c} (+)'] = (df_table[c] - df_table[f'P{c}']).clip(0)\n",
    "df_table['Fatality Rate'] = (100* df_table['Deaths']/ df_table['Cases']).round(2)"
   ]
  },
  {
   "cell_type": "code",
   "execution_count": 13,
   "metadata": {
    "execution": {
     "iopub.execute_input": "2020-08-12T15:18:06.259160Z",
     "iopub.status.busy": "2020-08-12T15:18:06.258669Z",
     "iopub.status.idle": "2020-08-12T15:18:06.261416Z",
     "shell.execute_reply": "2020-08-12T15:18:06.260927Z"
    },
    "papermill": {
     "duration": 0.025189,
     "end_time": "2020-08-12T15:18:06.261525",
     "exception": false,
     "start_time": "2020-08-12T15:18:06.236336",
     "status": "completed"
    },
    "tags": []
   },
   "outputs": [
    {
     "data": {
      "text/html": [
       "<div>\n",
       "<style scoped>\n",
       "    .dataframe tbody tr th:only-of-type {\n",
       "        vertical-align: middle;\n",
       "    }\n",
       "\n",
       "    .dataframe tbody tr th {\n",
       "        vertical-align: top;\n",
       "    }\n",
       "\n",
       "    .dataframe thead th {\n",
       "        text-align: right;\n",
       "    }\n",
       "</style>\n",
       "<table border=\"1\" class=\"dataframe\">\n",
       "  <thead>\n",
       "    <tr style=\"text-align: right;\">\n",
       "      <th></th>\n",
       "      <th>states</th>\n",
       "      <th>Cases</th>\n",
       "      <th>Deaths</th>\n",
       "      <th>PCases</th>\n",
       "      <th>PDeaths</th>\n",
       "      <th>Cases (+)</th>\n",
       "      <th>Deaths (+)</th>\n",
       "      <th>Fatality Rate</th>\n",
       "    </tr>\n",
       "  </thead>\n",
       "  <tbody>\n",
       "    <tr>\n",
       "      <th>0</th>\n",
       "      <td>Maharashtra</td>\n",
       "      <td>535601</td>\n",
       "      <td>18306</td>\n",
       "      <td>535601</td>\n",
       "      <td>18306</td>\n",
       "      <td>0</td>\n",
       "      <td>0</td>\n",
       "      <td>3.42</td>\n",
       "    </tr>\n",
       "    <tr>\n",
       "      <th>1</th>\n",
       "      <td>Tamil Nadu</td>\n",
       "      <td>314520</td>\n",
       "      <td>5278</td>\n",
       "      <td>308649</td>\n",
       "      <td>5159</td>\n",
       "      <td>5871</td>\n",
       "      <td>119</td>\n",
       "      <td>1.68</td>\n",
       "    </tr>\n",
       "    <tr>\n",
       "      <th>2</th>\n",
       "      <td>Andhra Pradesh</td>\n",
       "      <td>254146</td>\n",
       "      <td>2296</td>\n",
       "      <td>244549</td>\n",
       "      <td>2203</td>\n",
       "      <td>9597</td>\n",
       "      <td>93</td>\n",
       "      <td>0.90</td>\n",
       "    </tr>\n",
       "    <tr>\n",
       "      <th>3</th>\n",
       "      <td>Karnataka</td>\n",
       "      <td>196494</td>\n",
       "      <td>3511</td>\n",
       "      <td>188611</td>\n",
       "      <td>3398</td>\n",
       "      <td>7883</td>\n",
       "      <td>113</td>\n",
       "      <td>1.79</td>\n",
       "    </tr>\n",
       "    <tr>\n",
       "      <th>4</th>\n",
       "      <td>Delhi</td>\n",
       "      <td>148504</td>\n",
       "      <td>4153</td>\n",
       "      <td>147391</td>\n",
       "      <td>4139</td>\n",
       "      <td>1113</td>\n",
       "      <td>14</td>\n",
       "      <td>2.80</td>\n",
       "    </tr>\n",
       "  </tbody>\n",
       "</table>\n",
       "</div>"
      ],
      "text/plain": [
       "           states   Cases  Deaths  PCases  PDeaths  Cases (+)  Deaths (+)  \\\n",
       "0     Maharashtra  535601   18306  535601    18306          0           0   \n",
       "1      Tamil Nadu  314520    5278  308649     5159       5871         119   \n",
       "2  Andhra Pradesh  254146    2296  244549     2203       9597          93   \n",
       "3       Karnataka  196494    3511  188611     3398       7883         113   \n",
       "4           Delhi  148504    4153  147391     4139       1113          14   \n",
       "\n",
       "   Fatality Rate  \n",
       "0           3.42  \n",
       "1           1.68  \n",
       "2           0.90  \n",
       "3           1.79  \n",
       "4           2.80  "
      ]
     },
     "execution_count": 13,
     "metadata": {},
     "output_type": "execute_result"
    }
   ],
   "source": [
    "#hide\n",
    "df_table.head()"
   ]
  },
  {
   "cell_type": "code",
   "execution_count": 14,
   "metadata": {
    "execution": {
     "iopub.execute_input": "2020-08-12T15:18:06.307247Z",
     "iopub.status.busy": "2020-08-12T15:18:06.298034Z",
     "iopub.status.idle": "2020-08-12T15:18:06.310123Z",
     "shell.execute_reply": "2020-08-12T15:18:06.309723Z"
    },
    "papermill": {
     "duration": 0.030655,
     "end_time": "2020-08-12T15:18:06.310215",
     "exception": false,
     "start_time": "2020-08-12T15:18:06.279560",
     "status": "completed"
    },
    "tags": []
   },
   "outputs": [
    {
     "data": {
      "text/plain": [
       "{'updated': '2020-08-12',\n",
       " 'since': '2020-08-11',\n",
       " 'Cases': 2370549,\n",
       " 'PCases': 2328405,\n",
       " 'Deaths': 46707,\n",
       " 'PDeaths': 46188,\n",
       " 'Cases (+)': 42144,\n",
       " 'Deaths (+)': 519}"
      ]
     },
     "execution_count": 14,
     "metadata": {},
     "output_type": "execute_result"
    }
   ],
   "source": [
    "#hide\n",
    "summary = {'updated':dates[-1], 'since':dates[-2]}\n",
    "list_names = ['Cases', 'PCases', 'Deaths', 'PDeaths', 'Cases (+)', 'Deaths (+)']\n",
    "for name in list_names:\n",
    "    summary[name] = df_table.sum()[name]\n",
    "summary"
   ]
  },
  {
   "cell_type": "code",
   "execution_count": 15,
   "metadata": {
    "execution": {
     "iopub.execute_input": "2020-08-12T15:18:06.339391Z",
     "iopub.status.busy": "2020-08-12T15:18:06.338736Z",
     "iopub.status.idle": "2020-08-12T15:18:06.340200Z",
     "shell.execute_reply": "2020-08-12T15:18:06.340564Z"
    },
    "papermill": {
     "duration": 0.018798,
     "end_time": "2020-08-12T15:18:06.340670",
     "exception": false,
     "start_time": "2020-08-12T15:18:06.321872",
     "status": "completed"
    },
    "tags": []
   },
   "outputs": [],
   "source": [
    "#hide\n",
    "overview = '''\n",
    "<!-- #######  HTML!! #########-->\n",
    "<h1 style=\"color: #5e9ca0; text-align: center;\">India</h1>\n",
    "<p style=\"text-align: center;\">Last update: <strong>{update}</strong></p>\n",
    "<p style=\"text-align: center;\">Confirmed cases:</p>\n",
    "<p style=\"text-align: center;font-size:24px;\">{cases} (<span style=\"color: #ff0000;\">+{new}</span>)</p>\n",
    "<p style=\"text-align: center;\">Confirmed deaths:</p>\n",
    "<p style=\"text-align: center;font-size:24px;\">{deaths} (<span style=\"color: #ff0000;\">+{dnew}</span>)</p>\n",
    "'''"
   ]
  },
  {
   "cell_type": "code",
   "execution_count": 16,
   "metadata": {
    "execution": {
     "iopub.execute_input": "2020-08-12T15:18:06.370369Z",
     "iopub.status.busy": "2020-08-12T15:18:06.369684Z",
     "iopub.status.idle": "2020-08-12T15:18:06.372735Z",
     "shell.execute_reply": "2020-08-12T15:18:06.372298Z"
    },
    "papermill": {
     "duration": 0.019736,
     "end_time": "2020-08-12T15:18:06.372845",
     "exception": false,
     "start_time": "2020-08-12T15:18:06.353109",
     "status": "completed"
    },
    "tags": []
   },
   "outputs": [
    {
     "data": {
      "text/html": [
       "\n",
       "<!-- #######  HTML!! #########-->\n",
       "<h1 style=\"color: #5e9ca0; text-align: center;\">India</h1>\n",
       "<p style=\"text-align: center;\">Last update: <strong>2020-08-12</strong></p>\n",
       "<p style=\"text-align: center;\">Confirmed cases:</p>\n",
       "<p style=\"text-align: center;font-size:24px;\">2370549 (<span style=\"color: #ff0000;\">+42144</span>)</p>\n",
       "<p style=\"text-align: center;\">Confirmed deaths:</p>\n",
       "<p style=\"text-align: center;font-size:24px;\">46707 (<span style=\"color: #ff0000;\">+519</span>)</p>\n"
      ],
      "text/plain": [
       "<IPython.core.display.HTML object>"
      ]
     },
     "metadata": {},
     "output_type": "display_data"
    }
   ],
   "source": [
    "#hide_input\n",
    "update = summary['updated']\n",
    "cases = summary['Cases']\n",
    "new = summary['Cases (+)']\n",
    "deaths = summary['Deaths']\n",
    "dnew = summary['Deaths (+)']\n",
    "\n",
    "html = HTML(overview.format(update=update, cases=cases,new=new,deaths=deaths,dnew=dnew))\n",
    "\n",
    "display(html)"
   ]
  },
  {
   "cell_type": "code",
   "execution_count": 17,
   "metadata": {
    "execution": {
     "iopub.execute_input": "2020-08-12T15:18:06.408392Z",
     "iopub.status.busy": "2020-08-12T15:18:06.407870Z",
     "iopub.status.idle": "2020-08-12T15:18:06.413717Z",
     "shell.execute_reply": "2020-08-12T15:18:06.413312Z"
    },
    "papermill": {
     "duration": 0.02625,
     "end_time": "2020-08-12T15:18:06.413809",
     "exception": false,
     "start_time": "2020-08-12T15:18:06.387559",
     "status": "completed"
    },
    "tags": []
   },
   "outputs": [],
   "source": [
    "#hide\n",
    "dt_cols = list(dft_cases.columns[1:])\n",
    "dft_ct_new_cases = dft_cases.groupby('state')[dt_cols].sum().diff(axis=1).fillna(0).astype(int)\n",
    "dft_ct_new_cases.sort_values(by = dates[-1], ascending = False,inplace = True)"
   ]
  },
  {
   "cell_type": "code",
   "execution_count": 18,
   "metadata": {
    "execution": {
     "iopub.execute_input": "2020-08-12T15:18:06.458451Z",
     "iopub.status.busy": "2020-08-12T15:18:06.458036Z",
     "iopub.status.idle": "2020-08-12T15:18:06.460548Z",
     "shell.execute_reply": "2020-08-12T15:18:06.460079Z"
    },
    "papermill": {
     "duration": 0.033493,
     "end_time": "2020-08-12T15:18:06.460652",
     "exception": false,
     "start_time": "2020-08-12T15:18:06.427159",
     "status": "completed"
    },
    "tags": []
   },
   "outputs": [
    {
     "data": {
      "text/html": [
       "<div>\n",
       "<style scoped>\n",
       "    .dataframe tbody tr th:only-of-type {\n",
       "        vertical-align: middle;\n",
       "    }\n",
       "\n",
       "    .dataframe tbody tr th {\n",
       "        vertical-align: top;\n",
       "    }\n",
       "\n",
       "    .dataframe thead th {\n",
       "        text-align: right;\n",
       "    }\n",
       "</style>\n",
       "<table border=\"1\" class=\"dataframe\">\n",
       "  <thead>\n",
       "    <tr style=\"text-align: right;\">\n",
       "      <th>states</th>\n",
       "      <th>2020-07-01</th>\n",
       "      <th>2020-07-02</th>\n",
       "      <th>2020-07-03</th>\n",
       "      <th>2020-07-04</th>\n",
       "      <th>2020-07-05</th>\n",
       "      <th>2020-07-06</th>\n",
       "      <th>2020-07-07</th>\n",
       "      <th>2020-07-08</th>\n",
       "      <th>2020-07-09</th>\n",
       "      <th>2020-07-10</th>\n",
       "      <th>...</th>\n",
       "      <th>2020-08-03</th>\n",
       "      <th>2020-08-04</th>\n",
       "      <th>2020-08-05</th>\n",
       "      <th>2020-08-06</th>\n",
       "      <th>2020-08-07</th>\n",
       "      <th>2020-08-08</th>\n",
       "      <th>2020-08-09</th>\n",
       "      <th>2020-08-10</th>\n",
       "      <th>2020-08-11</th>\n",
       "      <th>2020-08-12</th>\n",
       "    </tr>\n",
       "    <tr>\n",
       "      <th>state</th>\n",
       "      <th></th>\n",
       "      <th></th>\n",
       "      <th></th>\n",
       "      <th></th>\n",
       "      <th></th>\n",
       "      <th></th>\n",
       "      <th></th>\n",
       "      <th></th>\n",
       "      <th></th>\n",
       "      <th></th>\n",
       "      <th></th>\n",
       "      <th></th>\n",
       "      <th></th>\n",
       "      <th></th>\n",
       "      <th></th>\n",
       "      <th></th>\n",
       "      <th></th>\n",
       "      <th></th>\n",
       "      <th></th>\n",
       "      <th></th>\n",
       "      <th></th>\n",
       "    </tr>\n",
       "  </thead>\n",
       "  <tbody>\n",
       "    <tr>\n",
       "      <th>Andhra Pradesh</th>\n",
       "      <td>0</td>\n",
       "      <td>845</td>\n",
       "      <td>837</td>\n",
       "      <td>765</td>\n",
       "      <td>998</td>\n",
       "      <td>1322</td>\n",
       "      <td>1178</td>\n",
       "      <td>1062</td>\n",
       "      <td>1555</td>\n",
       "      <td>1608</td>\n",
       "      <td>...</td>\n",
       "      <td>7822</td>\n",
       "      <td>9747</td>\n",
       "      <td>10128</td>\n",
       "      <td>10328</td>\n",
       "      <td>10171</td>\n",
       "      <td>10080</td>\n",
       "      <td>10820</td>\n",
       "      <td>7665</td>\n",
       "      <td>9024</td>\n",
       "      <td>9597</td>\n",
       "    </tr>\n",
       "    <tr>\n",
       "      <th>Karnataka</th>\n",
       "      <td>0</td>\n",
       "      <td>1502</td>\n",
       "      <td>1694</td>\n",
       "      <td>1839</td>\n",
       "      <td>1925</td>\n",
       "      <td>1843</td>\n",
       "      <td>1498</td>\n",
       "      <td>2062</td>\n",
       "      <td>2228</td>\n",
       "      <td>2313</td>\n",
       "      <td>...</td>\n",
       "      <td>4752</td>\n",
       "      <td>6259</td>\n",
       "      <td>5619</td>\n",
       "      <td>6805</td>\n",
       "      <td>6670</td>\n",
       "      <td>7178</td>\n",
       "      <td>5985</td>\n",
       "      <td>4267</td>\n",
       "      <td>6257</td>\n",
       "      <td>7883</td>\n",
       "    </tr>\n",
       "    <tr>\n",
       "      <th>Tamil Nadu</th>\n",
       "      <td>0</td>\n",
       "      <td>4343</td>\n",
       "      <td>4329</td>\n",
       "      <td>4280</td>\n",
       "      <td>4150</td>\n",
       "      <td>3827</td>\n",
       "      <td>3616</td>\n",
       "      <td>3756</td>\n",
       "      <td>4231</td>\n",
       "      <td>3680</td>\n",
       "      <td>...</td>\n",
       "      <td>5609</td>\n",
       "      <td>5063</td>\n",
       "      <td>5175</td>\n",
       "      <td>5684</td>\n",
       "      <td>5880</td>\n",
       "      <td>5883</td>\n",
       "      <td>5994</td>\n",
       "      <td>5914</td>\n",
       "      <td>5834</td>\n",
       "      <td>5871</td>\n",
       "    </tr>\n",
       "    <tr>\n",
       "      <th>Uttar Pradesh</th>\n",
       "      <td>0</td>\n",
       "      <td>769</td>\n",
       "      <td>972</td>\n",
       "      <td>757</td>\n",
       "      <td>1153</td>\n",
       "      <td>929</td>\n",
       "      <td>1332</td>\n",
       "      <td>1188</td>\n",
       "      <td>1206</td>\n",
       "      <td>1338</td>\n",
       "      <td>...</td>\n",
       "      <td>4441</td>\n",
       "      <td>2948</td>\n",
       "      <td>4078</td>\n",
       "      <td>4586</td>\n",
       "      <td>4404</td>\n",
       "      <td>4660</td>\n",
       "      <td>4571</td>\n",
       "      <td>4113</td>\n",
       "      <td>5041</td>\n",
       "      <td>4475</td>\n",
       "    </tr>\n",
       "    <tr>\n",
       "      <th>Bihar</th>\n",
       "      <td>0</td>\n",
       "      <td>478</td>\n",
       "      <td>426</td>\n",
       "      <td>349</td>\n",
       "      <td>403</td>\n",
       "      <td>280</td>\n",
       "      <td>385</td>\n",
       "      <td>749</td>\n",
       "      <td>704</td>\n",
       "      <td>352</td>\n",
       "      <td>...</td>\n",
       "      <td>2297</td>\n",
       "      <td>2464</td>\n",
       "      <td>2701</td>\n",
       "      <td>3416</td>\n",
       "      <td>3646</td>\n",
       "      <td>3992</td>\n",
       "      <td>3934</td>\n",
       "      <td>3021</td>\n",
       "      <td>4071</td>\n",
       "      <td>3741</td>\n",
       "    </tr>\n",
       "  </tbody>\n",
       "</table>\n",
       "<p>5 rows × 43 columns</p>\n",
       "</div>"
      ],
      "text/plain": [
       "states          2020-07-01  2020-07-02  2020-07-03  2020-07-04  2020-07-05  \\\n",
       "state                                                                        \n",
       "Andhra Pradesh           0         845         837         765         998   \n",
       "Karnataka                0        1502        1694        1839        1925   \n",
       "Tamil Nadu               0        4343        4329        4280        4150   \n",
       "Uttar Pradesh            0         769         972         757        1153   \n",
       "Bihar                    0         478         426         349         403   \n",
       "\n",
       "states          2020-07-06  2020-07-07  2020-07-08  2020-07-09  2020-07-10  \\\n",
       "state                                                                        \n",
       "Andhra Pradesh        1322        1178        1062        1555        1608   \n",
       "Karnataka             1843        1498        2062        2228        2313   \n",
       "Tamil Nadu            3827        3616        3756        4231        3680   \n",
       "Uttar Pradesh          929        1332        1188        1206        1338   \n",
       "Bihar                  280         385         749         704         352   \n",
       "\n",
       "states          ...  2020-08-03  2020-08-04  2020-08-05  2020-08-06  \\\n",
       "state           ...                                                   \n",
       "Andhra Pradesh  ...        7822        9747       10128       10328   \n",
       "Karnataka       ...        4752        6259        5619        6805   \n",
       "Tamil Nadu      ...        5609        5063        5175        5684   \n",
       "Uttar Pradesh   ...        4441        2948        4078        4586   \n",
       "Bihar           ...        2297        2464        2701        3416   \n",
       "\n",
       "states          2020-08-07  2020-08-08  2020-08-09  2020-08-10  2020-08-11  \\\n",
       "state                                                                        \n",
       "Andhra Pradesh       10171       10080       10820        7665        9024   \n",
       "Karnataka             6670        7178        5985        4267        6257   \n",
       "Tamil Nadu            5880        5883        5994        5914        5834   \n",
       "Uttar Pradesh         4404        4660        4571        4113        5041   \n",
       "Bihar                 3646        3992        3934        3021        4071   \n",
       "\n",
       "states          2020-08-12  \n",
       "state                       \n",
       "Andhra Pradesh        9597  \n",
       "Karnataka             7883  \n",
       "Tamil Nadu            5871  \n",
       "Uttar Pradesh         4475  \n",
       "Bihar                 3741  \n",
       "\n",
       "[5 rows x 43 columns]"
      ]
     },
     "execution_count": 18,
     "metadata": {},
     "output_type": "execute_result"
    }
   ],
   "source": [
    "#hide\n",
    "dft_ct_new_cases.head()"
   ]
  },
  {
   "cell_type": "code",
   "execution_count": 19,
   "metadata": {
    "execution": {
     "iopub.execute_input": "2020-08-12T15:18:06.514396Z",
     "iopub.status.busy": "2020-08-12T15:18:06.503904Z",
     "iopub.status.idle": "2020-08-12T15:18:09.190053Z",
     "shell.execute_reply": "2020-08-12T15:18:09.190499Z"
    },
    "papermill": {
     "duration": 2.715094,
     "end_time": "2020-08-12T15:18:09.190643",
     "exception": false,
     "start_time": "2020-08-12T15:18:06.475549",
     "status": "completed"
    },
    "tags": []
   },
   "outputs": [
    {
     "data": {
      "image/png": "[encoded data removed]",
      "text/plain": [
       "<Figure size 1296x2016 with 11 Axes>"
      ]
     },
     "metadata": {
      "needs_background": "light"
     },
     "output_type": "display_data"
    }
   ],
   "source": [
    "#hide_input\n",
    "df = dft_ct_new_cases.copy()\n",
    "df.loc['Total'] = df.sum()\n",
    "n = 5\n",
    "ax = []\n",
    "fig = plt.figure(figsize = (18,28))\n",
    "gs = fig.add_gridspec(n+2, 5)\n",
    "# gs = fig.add_gridspec(2, 3)\n",
    "ax1 = fig.add_subplot(gs[0, :])\n",
    "ef = df.loc['Total'].rename_axis('date').reset_index()\n",
    "ef['date'] = ef['date'].astype('datetime64[ns]')\n",
    "ax1.bar(ef.date,ef.Total,alpha=0.3,color='#007acc')\n",
    "ax1.plot(ef.date,ef.Total , marker=\"o\", color='#007acc')\n",
    "ax1.xaxis.set_major_locator(mdates.WeekdayLocator())\n",
    "ax1.xaxis.set_major_formatter(mdates.DateFormatter('%b %d'))\n",
    "ax1.text(0.02, 0.5,'India daily case count', transform = ax1.transAxes, fontsize=25);\n",
    "ax1.spines['right'].set_visible(False)\n",
    "ax1.spines['top'].set_visible(False)\n",
    "\n",
    "ax2 = fig.add_subplot(gs[1,0])\n",
    "ef = df.loc['Maharashtra'].rename_axis('date').reset_index()\n",
    "ef['date'] = ef['date'].astype('datetime64[ns]')\n",
    "\n",
    "ax2.bar(ef.date, ef.Maharashtra,color = '#007acc',alpha=0.5)\n",
    "ax2.xaxis.set_major_locator(mdates.WeekdayLocator())\n",
    "ax2.xaxis.set_major_formatter(mdates.DateFormatter('%b %d'))\n",
    "ax2.set_xticks(ax2.get_xticks()[::3])\n",
    "maxyval = ef.Maharashtra.max()\n",
    "ax2.set_ylim([0,maxyval])\n",
    "ax2.text(0.05, 0.9,'Maharashtra', transform = ax2.transAxes, fontsize=20);\n",
    "ax2.spines['right'].set_visible(False)\n",
    "ax2.spines['top'].set_visible(False)\n",
    "\n",
    "\n",
    "ax3 = fig.add_subplot(gs[1,1])\n",
    "ef = df.loc['Tamil Nadu'].rename_axis('date').reset_index()\n",
    "ef['date'] = ef['date'].astype('datetime64[ns]')\n",
    "ax3.bar(ef.date, ef['Tamil Nadu'],color = '#007acc',alpha=0.5,)\n",
    "ax3.xaxis.set_major_locator(mdates.WeekdayLocator())\n",
    "ax3.xaxis.set_major_formatter(mdates.DateFormatter('%b %d'))\n",
    "ax3.set_xticks(ax3.get_xticks()[::3])\n",
    "ax3.text(0.05, 0.9,'Tamil Nadu', transform = ax3.transAxes, fontsize=20);\n",
    "ax3.spines['right'].set_visible(False)\n",
    "ax3.spines['top'].set_visible(False)\n",
    "\n",
    "ax5 = fig.add_subplot(gs[1,3])\n",
    "ef = df.loc['Telangana'].rename_axis('date').reset_index()\n",
    "ef['date'] = ef['date'].astype('datetime64[ns]')\n",
    "ax5.bar(ef.date, ef['Telangana'],color = '#007acc',alpha=0.5,)\n",
    "ax5.xaxis.set_major_locator(mdates.WeekdayLocator())\n",
    "ax5.xaxis.set_major_formatter(mdates.DateFormatter('%b %d'))\n",
    "ax5.set_xticks(ax5.get_xticks()[::3])\n",
    "ax5.text(0.05, 0.9,'Telangana', transform = ax5.transAxes, fontsize=20);\n",
    "ax5.spines['right'].set_visible(False)\n",
    "ax5.spines['top'].set_visible(False)\n",
    "\n",
    "ax6 = fig.add_subplot(gs[1,4])\n",
    "ef = df.loc['Andhra Pradesh'].rename_axis('date').reset_index()\n",
    "ef['date'] = ef['date'].astype('datetime64[ns]')\n",
    "ax6.bar(ef.date, ef['Andhra Pradesh'],color = '#007acc',alpha=0.5,)\n",
    "ax6.xaxis.set_major_locator(mdates.WeekdayLocator())\n",
    "ax6.xaxis.set_major_formatter(mdates.DateFormatter('%b %d'))\n",
    "ax6.set_xticks(ax6.get_xticks()[::3])\n",
    "ax6.text(0.05, 1,'Andhra Pradesh', transform = ax6.transAxes, fontsize=20);\n",
    "ax6.spines['right'].set_visible(False)\n",
    "ax6.spines['top'].set_visible(False)\n",
    "\n",
    "ax4 = fig.add_subplot(gs[1,2])\n",
    "ef = df.loc['Delhi'].rename_axis('date').reset_index()\n",
    "ef['date'] = ef['date'].astype('datetime64[ns]')\n",
    "ax4.bar(ef.date, ef.Delhi,color = '#007acc',alpha=0.5)\n",
    "ax4.set_xticks([])\n",
    "ax4.xaxis.set_major_locator(mdates.WeekdayLocator())\n",
    "ax4.xaxis.set_major_formatter(mdates.DateFormatter('%b %d'))\n",
    "ax4.set_xticks(ax4.get_xticks()[::3])\n",
    "ax4.spines['right'].set_visible(False)\n",
    "ax4.spines['top'].set_visible(False)\n",
    "\n",
    "ax4.text(0.05, 1,'Delhi', transform = ax4.transAxes, fontsize=20)\n",
    "\n",
    "for i in range(n):\n",
    "    \n",
    "    ax.append(fig.add_subplot(gs[i+2,:]))\n",
    "    ef = df.iloc[i+3].rename_axis('date').reset_index()\n",
    "    ef['date'] = ef['date'].astype('datetime64[ns]')\n",
    "    ax[i].bar(ef.date,ef.iloc[:,-1],color = '#007acc',alpha=0.3)\n",
    "    ax[i].plot(ef.date,ef.iloc[:,-1],marker='o',color='#007acc')\n",
    "    ax[i].text(0.02,0.5,f'{ef.columns.values[-1]}',transform = ax[i].transAxes, fontsize = 20);\n",
    "    ax[i].xaxis.set_major_locator(mdates.WeekdayLocator())\n",
    "    ax[i].xaxis.set_major_formatter(mdates.DateFormatter('%b %d'))\n",
    "    ax[i].set_ylim([0,7000])\n",
    "    ax[i].spines['right'].set_visible(False)\n",
    "    ax[i].spines['top'].set_visible(False)\n",
    "plt.tight_layout()\n"
   ]
  },
  {
   "cell_type": "code",
   "execution_count": 20,
   "metadata": {
    "execution": {
     "iopub.execute_input": "2020-08-12T15:18:09.238224Z",
     "iopub.status.busy": "2020-08-12T15:18:09.237616Z",
     "iopub.status.idle": "2020-08-12T15:18:09.239916Z",
     "shell.execute_reply": "2020-08-12T15:18:09.240431Z"
    },
    "papermill": {
     "duration": 0.030074,
     "end_time": "2020-08-12T15:18:09.240576",
     "exception": false,
     "start_time": "2020-08-12T15:18:09.210502",
     "status": "completed"
    },
    "tags": []
   },
   "outputs": [
    {
     "name": "stdout",
     "output_type": "stream",
     "text": [
      "                                   states   Cases  Deaths  PCases  PDeaths  Cases (+)  Deaths (+)  Fatality Rate\n",
      "                              Maharashtra  535601   18306  535601    18306          0           0           3.42\n",
      "                               Tamil Nadu  314520    5278  308649     5159       5871         119           1.68\n",
      "                           Andhra Pradesh  254146    2296  244549     2203       9597          93           0.90\n",
      "                                Karnataka  196494    3511  188611     3398       7883         113           1.79\n",
      "                                    Delhi  148504    4153  147391     4139       1113          14           2.80\n",
      "                            Uttar Pradesh  136238    2230  131763     2176       4475          54           1.64\n",
      "                              West Bengal  101390    2149  101390     2149          0           0           2.12\n",
      "                                    Bihar   90553     474   86812      465       3741           9           0.52\n",
      "                                Telangana   84544     654   82647      645       1897           9           0.77\n",
      "                                  Gujarat   74390    2713   73238     2695       1152          18           3.65\n",
      "                                    Assam   64407     155   64407      155          0           0           0.24\n",
      "                                Rajasthan   55482     821   54887      811        595          10           1.48\n",
      "                                   Odisha   50672     358   48796      349       1876           9           0.71\n",
      "                                  Haryana   43227     500   43227      500          0           0           1.16\n",
      "                           Madhya Pradesh   41604    1048   40734     1033        870          15           2.52\n",
      "                                   Kerala   36932     121   36932      121          0           0           0.33\n",
      "                                   Punjab   26909     675   25889      636       1020          39           2.51\n",
      "                        Jammu and Kashmir   26413     498   25931      490        482           8           1.89\n",
      "                                Jharkhand   19578     194   19469      194        109           0           0.99\n",
      "                             Chhattisgarh   12985     104   12985      104          0           0           0.80\n",
      "                              Uttarakhand   10432     136   10432      136          0           0           1.30\n",
      "                                      Goa    9924      89    9444       86        480           3           0.90\n",
      "                                  Tripura    6497      43    6387       43        110           0           0.66\n",
      "                               Puducherry    6381      96    5900       91        481           5           1.50\n",
      "                                  Manipur    3982      12    3941       12         41           0           0.30\n",
      "                         Himachal Pradesh    3579      17    3497       17         82           0           0.47\n",
      "                                 Nagaland    3118       7    3031        7         87           0           0.22\n",
      "                        Arunachal Pradesh    2327       3    2327        3          0           0           0.13\n",
      "                                   Ladakh    1770       9    1770        9          0           0           0.51\n",
      "              Andaman and Nicobar Islands    1764      21    1764       21          0           0           1.19\n",
      "                               Chandigarh    1751      27    1670       26         81           1           1.54\n",
      " Dadra and Nagar Haveli and Daman and Diu    1695       2    1656        2         39           0           0.12\n",
      "                                Meghalaya    1179       6    1142        6         37           0           0.51\n",
      "                                   Sikkim     913       1     913        1          0           0           0.11\n",
      "                                  Mizoram     648       0     623        0         25           0           0.00\n",
      "                              Lakshadweep       0       0       0        0          0           0            NaN\n"
     ]
    }
   ],
   "source": [
    "#hide_input\n",
    "print(df_table.to_string(index=False))"
   ]
  },
  {
   "cell_type": "code",
   "execution_count": null,
   "metadata": {
    "papermill": {
     "duration": 0.022918,
     "end_time": "2020-08-12T15:18:09.285020",
     "exception": false,
     "start_time": "2020-08-12T15:18:09.262102",
     "status": "completed"
    },
    "tags": []
   },
   "outputs": [],
   "source": []
  },
  {
   "cell_type": "code",
   "execution_count": null,
   "metadata": {
    "papermill": {
     "duration": 0.019958,
     "end_time": "2020-08-12T15:18:09.326398",
     "exception": false,
     "start_time": "2020-08-12T15:18:09.306440",
     "status": "completed"
    },
    "tags": []
   },
   "outputs": [],
   "source": []
  }
 ],
 "metadata": {
  "kernelspec": {
   "display_name": "Python 3",
   "language": "python",
   "name": "python3"
  },
  "language_info": {
   "codemirror_mode": {
    "name": "ipython",
    "version": 3
   },
   "file_extension": ".py",
   "mimetype": "text/x-python",
   "name": "python",
   "nbconvert_exporter": "python",
   "pygments_lexer": "ipython3",
   "version": "3.6.11"
  },
  "papermill": {
   "duration": 8.668696,
   "end_time": "2020-08-12T15:18:09.758918",
   "environment_variables": {},
   "exception": null,
   "input_path": "latest.ipynb",
   "output_path": "latest.ipynb",
   "parameters": {},
   "start_time": "2020-08-12T15:18:01.090222",
   "version": "2.1.2"
  }
 },
 "nbformat": 4,
 "nbformat_minor": 4
}